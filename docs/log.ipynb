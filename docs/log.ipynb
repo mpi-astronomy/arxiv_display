{
 "cells": [
  {
   "cell_type": "markdown",
   "id": "92bcb855",
   "metadata": {
    "papermill": {
     "duration": 0.006384,
     "end_time": "2022-04-14T06:50:21.684098",
     "exception": false,
     "start_time": "2022-04-14T06:50:21.677714",
     "status": "completed"
    },
    "tags": []
   },
   "source": [
    "# MPIA Arxiv on Deck 2\n",
    "\n",
    "Contains the steps to produce the paper extractions."
   ]
  },
  {
   "cell_type": "code",
   "execution_count": 1,
   "id": "3a0d6e11",
   "metadata": {
    "execution": {
     "iopub.execute_input": "2022-04-14T06:50:21.714633Z",
     "iopub.status.busy": "2022-04-14T06:50:21.714317Z",
     "iopub.status.idle": "2022-04-14T06:50:21.938924Z",
     "shell.execute_reply": "2022-04-14T06:50:21.938062Z"
    },
    "papermill": {
     "duration": 0.242568,
     "end_time": "2022-04-14T06:50:21.941212",
     "exception": false,
     "start_time": "2022-04-14T06:50:21.698644",
     "status": "completed"
    },
    "tags": []
   },
   "outputs": [],
   "source": [
    "# Imports\n",
    "import os\n",
    "from IPython.display import Markdown, display\n",
    "from tqdm.notebook import tqdm\n",
    "import warnings\n",
    "from PIL import Image \n",
    "\n",
    "# requires arxiv_on_deck_2\n",
    "\n",
    "from arxiv_on_deck_2.arxiv2 import (get_new_papers, \n",
    "                                    get_paper_from_identifier,\n",
    "                                    retrieve_document_source, \n",
    "                                    get_markdown_badge)\n",
    "from arxiv_on_deck_2 import (latex, \n",
    "                             mpia,\n",
    "                             highlight_authors_in_list)\n",
    "\n",
    "# Sometimes images are really big\n",
    "Image.MAX_IMAGE_PIXELS = 1000000000 "
   ]
  },
  {
   "cell_type": "code",
   "execution_count": 2,
   "id": "22aa9d44",
   "metadata": {
    "execution": {
     "iopub.execute_input": "2022-04-14T06:50:21.952578Z",
     "iopub.status.busy": "2022-04-14T06:50:21.952353Z",
     "iopub.status.idle": "2022-04-14T06:50:21.959519Z",
     "shell.execute_reply": "2022-04-14T06:50:21.958678Z"
    },
    "papermill": {
     "duration": 0.014981,
     "end_time": "2022-04-14T06:50:21.961448",
     "exception": false,
     "start_time": "2022-04-14T06:50:21.946467",
     "status": "completed"
    },
    "tags": []
   },
   "outputs": [],
   "source": [
    "# Some useful definitions.\n",
    "\n",
    "class AffiliationWarning(UserWarning):\n",
    "    pass\n",
    "\n",
    "class AffiliationError(RuntimeError):\n",
    "    pass\n",
    "\n",
    "def validation(source: str):\n",
    "    \"\"\"Raises error paper during parsing of source file\n",
    "    \n",
    "    Allows checks before parsing TeX code.\n",
    "    \n",
    "    Raises AffiliationWarning\n",
    "    \"\"\"\n",
    "    check = mpia.affiliation_verifications(source, verbose=True)\n",
    "    if check is not True:\n",
    "        raise AffiliationError(\"mpia.affiliation_verifications: \" + check)\n",
    "\n",
    "        \n",
    "warnings.simplefilter('always', AffiliationWarning)"
   ]
  },
  {
   "cell_type": "code",
   "execution_count": 3,
   "id": "14622700",
   "metadata": {
    "execution": {
     "iopub.execute_input": "2022-04-14T06:50:21.972252Z",
     "iopub.status.busy": "2022-04-14T06:50:21.972036Z",
     "iopub.status.idle": "2022-04-14T06:50:21.976391Z",
     "shell.execute_reply": "2022-04-14T06:50:21.975654Z"
    },
    "papermill": {
     "duration": 0.01215,
     "end_time": "2022-04-14T06:50:21.978387",
     "exception": false,
     "start_time": "2022-04-14T06:50:21.966237",
     "status": "completed"
    },
    "tags": []
   },
   "outputs": [],
   "source": [
    "# additional CSS to consider. \n",
    "# TODO: Current into each exported file. \n",
    "#       This should be set once into the webpages directly.\n",
    "#       With only the class/id definitions in the .md files.\n",
    "\n",
    "debug_html = \"\"\"\n",
    "<style>\n",
    "#wrap{ overflow:auto; }\n",
    "#fig1{ background:yellow; width:100%; float:left; padding:5px;  }\n",
    "#fig2{ background:red; width:50%; float:left; clear:left; padding:5px;  }\n",
    "#fig3{ background:green; width:50%; float:left; padding:5px;   }\n",
    ".macros{ background:yellow; visibility:visible;}\n",
    "h1 {margin: 0 0 0 0;}\n",
    "mark {background-color:#fff3b6;}\n",
    "img {object-fit:contain; max-height:250px; display:inline-block; text-align: center;}\n",
    "</style>\n",
    "\"\"\" \n",
    "html = \"\"\"\n",
    "<style>\n",
    "#wrap{ overflow:auto; }\n",
    "#fig1{ width:100%; float:left; padding: 5px;  }\n",
    "#fig2{ width:50%; float:left; clear:left; padding: 5px;  }\n",
    "#fig3{ width:50%; float:left; padding: 5px;  }\n",
    ".macros{ visibility:hidden; height:0px; }\n",
    "h1 {margin: 0em 0 0 0;}\n",
    "mark {background-color:#fff3b6;}\n",
    "img {object-fit:contain; max-height:250px; display:inline-block; text-align: center;}\n",
    "</style>\n",
    "\"\"\""
   ]
  },
  {
   "cell_type": "markdown",
   "id": "14bd6310",
   "metadata": {
    "papermill": {
     "duration": 0.004618,
     "end_time": "2022-04-14T06:50:21.987883",
     "exception": false,
     "start_time": "2022-04-14T06:50:21.983265",
     "status": "completed"
    },
    "tags": []
   },
   "source": [
    "## get list of arxiv paper candidates\n",
    "\n",
    "We use the MPIA mitarbeiter list webpage from mpia.de to get author names\n",
    "We then get all new papers from Arxiv and match authors"
   ]
  },
  {
   "cell_type": "code",
   "execution_count": 4,
   "id": "2645e73a",
   "metadata": {
    "execution": {
     "iopub.execute_input": "2022-04-14T06:50:21.999059Z",
     "iopub.status.busy": "2022-04-14T06:50:21.998705Z",
     "iopub.status.idle": "2022-04-14T06:50:44.639872Z",
     "shell.execute_reply": "2022-04-14T06:50:44.638934Z"
    },
    "papermill": {
     "duration": 22.649462,
     "end_time": "2022-04-14T06:50:44.642288",
     "exception": false,
     "start_time": "2022-04-14T06:50:21.992826",
     "status": "completed"
    },
    "tags": []
   },
   "outputs": [
    {
     "name": "stdout",
     "output_type": "stream",
     "text": [
      "Arxiv has 53 new papers today\n",
      "          21 with possible author matches\n"
     ]
    }
   ],
   "source": [
    "# get list from MPIA website\n",
    "# it automatically filters identified non-scientists :func:`mpia.filter_non_scientists`\n",
    "mpia_authors = mpia.get_mpia_mitarbeiter_list()\n",
    "new_papers = get_new_papers()\n",
    "# add manual references\n",
    "add_paper_refs = []\n",
    "new_papers.extend([get_paper_from_identifier(k) for k in add_paper_refs])\n",
    "\n",
    "# select only papers with matching author names and highlight authors\n",
    "hl_list = [k[0] for k in mpia_authors]\n",
    "\n",
    "candidates = []\n",
    "for paperk in new_papers:\n",
    "    hl_authors = highlight_authors_in_list(paperk['authors'], hl_list)\n",
    "    matches = [(hl, orig) for hl, orig in zip(hl_authors, paperk['authors']) if 'mark' in hl]\n",
    "    paperk['authors'] = hl_authors\n",
    "    if matches:\n",
    "        candidates.append(paperk)\n",
    "print(\"\"\"Arxiv has {0:,d} new papers today\"\"\".format(len(new_papers)))        \n",
    "print(\"\"\"          {0:,d} with possible author matches\"\"\".format(len(candidates)))"
   ]
  },
  {
   "cell_type": "markdown",
   "id": "3543b34a",
   "metadata": {
    "papermill": {
     "duration": 0.005759,
     "end_time": "2022-04-14T06:50:44.654222",
     "exception": false,
     "start_time": "2022-04-14T06:50:44.648463",
     "status": "completed"
    },
    "tags": []
   },
   "source": [
    "# Parse sources and generate relevant outputs\n",
    "\n",
    "From the candidates, we do the following steps:\n",
    "* get their tarball from ArXiv (and extract data)\n",
    "* find the main .tex file: find one with \\documentclass{...} (sometimes it's non trivial)\n",
    "* Check affiliations with :func:`validation`, which uses :func:`mpia.affiliation_verifications`\n",
    "* If passing the affiliations: we parse the .tex source\n",
    "   * inject sub-documents into the main (flatten the main document)\n",
    "   * parse structure, extract information (title, abstract, authors, figures...)\n",
    "   * handles `\\graphicspath` if provided\n",
    "* Generate the .md document."
   ]
  },
  {
   "cell_type": "code",
   "execution_count": 5,
   "id": "9576b79e",
   "metadata": {
    "execution": {
     "iopub.execute_input": "2022-04-14T06:50:44.668947Z",
     "iopub.status.busy": "2022-04-14T06:50:44.668235Z",
     "iopub.status.idle": "2022-04-14T06:53:16.696605Z",
     "shell.execute_reply": "2022-04-14T06:53:16.695771Z"
    },
    "papermill": {
     "duration": 152.040375,
     "end_time": "2022-04-14T06:53:16.699800",
     "exception": false,
     "start_time": "2022-04-14T06:50:44.659425",
     "status": "completed"
    },
    "scrolled": false,
    "tags": []
   },
   "outputs": [
    {
     "data": {
      "application/vnd.jupyter.widget-view+json": {
       "model_id": "4c718cc1a82848d8b53b2da1754d6ce2",
       "version_major": 2,
       "version_minor": 0
      },
      "text/plain": [
       "  0%|          | 0/20 [00:00<?, ?it/s]"
      ]
     },
     "metadata": {},
     "output_type": "display_data"
    },
    {
     "name": "stdout",
     "output_type": "stream",
     "text": [
      "Retrieving document from  https://arxiv.org/e-print/2204.06000\n"
     ]
    },
    {
     "name": "stdout",
     "output_type": "stream",
     "text": [
      "extracting tarball to tmp_2204.06000..."
     ]
    },
    {
     "name": "stdout",
     "output_type": "stream",
     "text": [
      " done.\n",
      "Retrieving document from  https://arxiv.org/e-print/2204.06001\n"
     ]
    },
    {
     "name": "stderr",
     "output_type": "stream",
     "text": [
      "/opt/hostedtoolcache/Python/3.9.12/x64/lib/python3.9/site-packages/IPython/core/interactiveshell.py:3369: LatexWarning: Multiple tex files.\n",
      "\n",
      "  exec(code_obj, self.user_global_ns, self.user_ns)\n",
      "/opt/hostedtoolcache/Python/3.9.12/x64/lib/python3.9/site-packages/IPython/core/interactiveshell.py:3369: LatexWarning: Found documentclass in tmp_2204.06000/main.tex\n",
      "\n",
      "  exec(code_obj, self.user_global_ns, self.user_ns)\n",
      "/opt/hostedtoolcache/Python/3.9.12/x64/lib/python3.9/site-packages/arxiv_on_deck_2/latex.py:292: LatexWarning: Latex injecting: 'table3_data' from 'tmp_2204.06000/table3_data.tex'\n",
      "  warnings.warn(LatexWarning(f\"Latex injecting: '{ext}' from '{subsource}'\"))\n",
      "/opt/hostedtoolcache/Python/3.9.12/x64/lib/python3.9/site-packages/arxiv_on_deck_2/latex.py:292: LatexWarning: Latex injecting: 'table3_data' from 'tmp_2204.06000/Pang et al. 2022 3d OC/table3_data.tex'\n",
      "  warnings.warn(LatexWarning(f\"Latex injecting: '{ext}' from '{subsource}'\"))\n",
      "/opt/hostedtoolcache/Python/3.9.12/x64/lib/python3.9/site-packages/arxiv_on_deck_2/latex.py:292: LatexWarning: Latex injecting: 'Parameters_85_overleaf_updated6' from 'tmp_2204.06000/Parameters_85_overleaf_updated6.tex'\n",
      "  warnings.warn(LatexWarning(f\"Latex injecting: '{ext}' from '{subsource}'\"))\n",
      "/opt/hostedtoolcache/Python/3.9.12/x64/lib/python3.9/site-packages/arxiv_on_deck_2/latex.py:292: LatexWarning: Latex injecting: 'Parameters_85_overleaf_updated6' from 'tmp_2204.06000/Pang et al. 2022 3d OC/Parameters_85_overleaf_updated6.tex'\n",
      "  warnings.warn(LatexWarning(f\"Latex injecting: '{ext}' from '{subsource}'\"))\n"
     ]
    },
    {
     "name": "stdout",
     "output_type": "stream",
     "text": [
      "extracting tarball to tmp_2204.06001..."
     ]
    },
    {
     "name": "stdout",
     "output_type": "stream",
     "text": [
      " done.\n",
      "Retrieving document from  https://arxiv.org/e-print/2204.06011\n"
     ]
    },
    {
     "name": "stderr",
     "output_type": "stream",
     "text": [
      "/opt/hostedtoolcache/Python/3.9.12/x64/lib/python3.9/site-packages/IPython/core/interactiveshell.py:3369: LatexWarning: Multiple tex files.\n",
      "\n",
      "  exec(code_obj, self.user_global_ns, self.user_ns)\n",
      "/opt/hostedtoolcache/Python/3.9.12/x64/lib/python3.9/site-packages/IPython/core/interactiveshell.py:3369: LatexWarning: Found documentclass in tmp_2204.06001/main_prd.tex\n",
      "\n",
      "  exec(code_obj, self.user_global_ns, self.user_ns)\n",
      "/opt/hostedtoolcache/Python/3.9.12/x64/lib/python3.9/site-packages/arxiv_on_deck_2/latex.py:292: LatexWarning: Latex injecting: 'discussion.tex' from 'tmp_2204.06001/discussion.tex'\n",
      "  warnings.warn(LatexWarning(f\"Latex injecting: '{ext}' from '{subsource}'\"))\n",
      "/opt/hostedtoolcache/Python/3.9.12/x64/lib/python3.9/site-packages/arxiv_on_deck_2/latex.py:292: LatexWarning: Latex injecting: 'bayes.tex' from 'tmp_2204.06001/bayes.tex'\n",
      "  warnings.warn(LatexWarning(f\"Latex injecting: '{ext}' from '{subsource}'\"))\n",
      "/opt/hostedtoolcache/Python/3.9.12/x64/lib/python3.9/site-packages/arxiv_on_deck_2/latex.py:292: LatexWarning: Latex injecting: 'screen_size.tex' from 'tmp_2204.06001/screen_size.tex'\n",
      "  warnings.warn(LatexWarning(f\"Latex injecting: '{ext}' from '{subsource}'\"))\n",
      "/opt/hostedtoolcache/Python/3.9.12/x64/lib/python3.9/site-packages/arxiv_on_deck_2/latex.py:292: LatexWarning: Latex injecting: 'source_size.tex' from 'tmp_2204.06001/source_size.tex'\n",
      "  warnings.warn(LatexWarning(f\"Latex injecting: '{ext}' from '{subsource}'\"))\n",
      "/opt/hostedtoolcache/Python/3.9.12/x64/lib/python3.9/site-packages/arxiv_on_deck_2/latex.py:292: LatexWarning: Latex injecting: 'wave.tex' from 'tmp_2204.06001/wave.tex'\n",
      "  warnings.warn(LatexWarning(f\"Latex injecting: '{ext}' from '{subsource}'\"))\n",
      "/opt/hostedtoolcache/Python/3.9.12/x64/lib/python3.9/site-packages/arxiv_on_deck_2/latex.py:292: LatexWarning: Latex injecting: 'optical_depth.tex' from 'tmp_2204.06001/optical_depth.tex'\n",
      "  warnings.warn(LatexWarning(f\"Latex injecting: '{ext}' from '{subsource}'\"))\n",
      "/opt/hostedtoolcache/Python/3.9.12/x64/lib/python3.9/site-packages/arxiv_on_deck_2/latex.py:292: LatexWarning: Latex injecting: 'search.tex' from 'tmp_2204.06001/search.tex'\n",
      "  warnings.warn(LatexWarning(f\"Latex injecting: '{ext}' from '{subsource}'\"))\n",
      "/opt/hostedtoolcache/Python/3.9.12/x64/lib/python3.9/site-packages/arxiv_on_deck_2/latex.py:292: LatexWarning: Latex injecting: 'motivation.tex' from 'tmp_2204.06001/motivation.tex'\n",
      "  warnings.warn(LatexWarning(f\"Latex injecting: '{ext}' from '{subsource}'\"))\n",
      "/opt/hostedtoolcache/Python/3.9.12/x64/lib/python3.9/site-packages/arxiv_on_deck_2/latex.py:292: LatexWarning: Latex injecting: 'auth.tex' from 'tmp_2204.06001/auth.tex'\n",
      "  warnings.warn(LatexWarning(f\"Latex injecting: '{ext}' from '{subsource}'\"))\n",
      "/opt/hostedtoolcache/Python/3.9.12/x64/lib/python3.9/site-packages/arxiv_on_deck_2/latex.py:292: LatexWarning: Latex injecting: 'auth.tex' from 'tmp_2204.06001/auth.tex'\n",
      "  warnings.warn(LatexWarning(f\"Latex injecting: '{ext}' from '{subsource}'\"))\n"
     ]
    },
    {
     "name": "stdout",
     "output_type": "stream",
     "text": [
      "extracting tarball to tmp_2204.06011..."
     ]
    },
    {
     "name": "stdout",
     "output_type": "stream",
     "text": [
      " done.\n",
      "Retrieving document from  https://arxiv.org/e-print/2204.06014\n"
     ]
    },
    {
     "name": "stdout",
     "output_type": "stream",
     "text": [
      "extracting tarball to tmp_2204.06014..."
     ]
    },
    {
     "name": "stdout",
     "output_type": "stream",
     "text": [
      " done.\n",
      "Retrieving document from  https://arxiv.org/e-print/2204.06021\n"
     ]
    },
    {
     "name": "stderr",
     "output_type": "stream",
     "text": [
      "/opt/hostedtoolcache/Python/3.9.12/x64/lib/python3.9/site-packages/IPython/core/interactiveshell.py:3369: LatexWarning: Multiple tex files.\n",
      "\n",
      "  exec(code_obj, self.user_global_ns, self.user_ns)\n",
      "/opt/hostedtoolcache/Python/3.9.12/x64/lib/python3.9/site-packages/IPython/core/interactiveshell.py:3369: LatexWarning: Found documentclass in tmp_2204.06014/aassymbols.tex\n",
      "\n",
      "  exec(code_obj, self.user_global_ns, self.user_ns)\n"
     ]
    },
    {
     "name": "stdout",
     "output_type": "stream",
     "text": [
      "extracting tarball to tmp_2204.06021..."
     ]
    },
    {
     "name": "stdout",
     "output_type": "stream",
     "text": [
      " done.\n",
      "Retrieving document from  https://arxiv.org/e-print/2204.06022\n"
     ]
    },
    {
     "name": "stderr",
     "output_type": "stream",
     "text": [
      "/opt/hostedtoolcache/Python/3.9.12/x64/lib/python3.9/site-packages/IPython/core/interactiveshell.py:3369: LatexWarning: Multiple tex files.\n",
      "\n",
      "  exec(code_obj, self.user_global_ns, self.user_ns)\n",
      "/opt/hostedtoolcache/Python/3.9.12/x64/lib/python3.9/site-packages/IPython/core/interactiveshell.py:3369: LatexWarning: Found documentclass in tmp_2204.06021/aassymbols.tex\n",
      "\n",
      "  exec(code_obj, self.user_global_ns, self.user_ns)\n"
     ]
    },
    {
     "name": "stdout",
     "output_type": "stream",
     "text": [
      "extracting tarball to tmp_2204.06022..."
     ]
    },
    {
     "name": "stdout",
     "output_type": "stream",
     "text": [
      " done.\n",
      "Retrieving document from  https://arxiv.org/e-print/2204.06091\n"
     ]
    },
    {
     "name": "stdout",
     "output_type": "stream",
     "text": [
      "extracting tarball to tmp_2204.06091..."
     ]
    },
    {
     "name": "stdout",
     "output_type": "stream",
     "text": [
      " done.\n",
      "Retrieving document from  https://arxiv.org/e-print/2204.06147\n"
     ]
    },
    {
     "name": "stdout",
     "output_type": "stream",
     "text": [
      "extracting tarball to tmp_2204.06147..."
     ]
    },
    {
     "name": "stdout",
     "output_type": "stream",
     "text": [
      " done.\n",
      "Retrieving document from  https://arxiv.org/e-print/2204.06158\n"
     ]
    },
    {
     "name": "stdout",
     "output_type": "stream",
     "text": [
      "extracting tarball to tmp_2204.06158..."
     ]
    },
    {
     "name": "stdout",
     "output_type": "stream",
     "text": [
      " done.\n",
      "Retrieving document from  https://arxiv.org/e-print/2204.06176\n"
     ]
    },
    {
     "name": "stderr",
     "output_type": "stream",
     "text": [
      "/opt/hostedtoolcache/Python/3.9.12/x64/lib/python3.9/site-packages/IPython/core/interactiveshell.py:3369: LatexWarning: Multiple tex files.\n",
      "\n",
      "  exec(code_obj, self.user_global_ns, self.user_ns)\n",
      "/opt/hostedtoolcache/Python/3.9.12/x64/lib/python3.9/site-packages/IPython/core/interactiveshell.py:3369: LatexWarning: Found documentclass in tmp_2204.06158/aassymbols.tex\n",
      "\n",
      "  exec(code_obj, self.user_global_ns, self.user_ns)\n"
     ]
    },
    {
     "name": "stdout",
     "output_type": "stream",
     "text": [
      "extracting tarball to tmp_2204.06176..."
     ]
    },
    {
     "name": "stdout",
     "output_type": "stream",
     "text": [
      " done.\n",
      "Retrieving document from  https://arxiv.org/e-print/2204.06200\n"
     ]
    },
    {
     "name": "stdout",
     "output_type": "stream",
     "text": [
      "extracting tarball to tmp_2204.06200..."
     ]
    },
    {
     "name": "stdout",
     "output_type": "stream",
     "text": [
      " done.\n",
      "Retrieving document from  https://arxiv.org/e-print/2204.06203\n"
     ]
    },
    {
     "name": "stderr",
     "output_type": "stream",
     "text": [
      "/opt/hostedtoolcache/Python/3.9.12/x64/lib/python3.9/site-packages/IPython/core/interactiveshell.py:3369: LatexWarning: Multiple tex files.\n",
      "\n",
      "  exec(code_obj, self.user_global_ns, self.user_ns)\n",
      "/opt/hostedtoolcache/Python/3.9.12/x64/lib/python3.9/site-packages/IPython/core/interactiveshell.py:3369: LatexWarning: Found documentclass in tmp_2204.06200/draft_V1.tex\n",
      "\n",
      "  exec(code_obj, self.user_global_ns, self.user_ns)\n"
     ]
    },
    {
     "name": "stdout",
     "output_type": "stream",
     "text": [
      "extracting tarball to tmp_2204.06203..."
     ]
    },
    {
     "name": "stdout",
     "output_type": "stream",
     "text": [
      " done.\n",
      "Retrieving document from  https://arxiv.org/e-print/2204.06266\n"
     ]
    },
    {
     "name": "stdout",
     "output_type": "stream",
     "text": [
      "extracting tarball to tmp_2204.06266... done.\n",
      "Retrieving document from  https://arxiv.org/e-print/2204.06285\n"
     ]
    },
    {
     "name": "stdout",
     "output_type": "stream",
     "text": [
      "extracting tarball to tmp_2204.06285..."
     ]
    },
    {
     "name": "stdout",
     "output_type": "stream",
     "text": [
      " done.\n",
      "Retrieving document from  https://arxiv.org/e-print/2204.06301\n"
     ]
    },
    {
     "name": "stderr",
     "output_type": "stream",
     "text": [
      "/opt/hostedtoolcache/Python/3.9.12/x64/lib/python3.9/site-packages/IPython/core/interactiveshell.py:3369: LatexWarning: Multiple tex files.\n",
      "\n",
      "  exec(code_obj, self.user_global_ns, self.user_ns)\n",
      "/opt/hostedtoolcache/Python/3.9.12/x64/lib/python3.9/site-packages/IPython/core/interactiveshell.py:3369: LatexWarning: Found documentclass in tmp_2204.06285/main.tex\n",
      "\n",
      "  exec(code_obj, self.user_global_ns, self.user_ns)\n",
      "/opt/hostedtoolcache/Python/3.9.12/x64/lib/python3.9/site-packages/arxiv_on_deck_2/latex.py:292: LatexWarning: Latex injecting: 'absorption_table.tex' from 'tmp_2204.06285/absorption_table.tex'\n",
      "  warnings.warn(LatexWarning(f\"Latex injecting: '{ext}' from '{subsource}'\"))\n",
      "/opt/hostedtoolcache/Python/3.9.12/x64/lib/python3.9/site-packages/arxiv_on_deck_2/latex.py:292: LatexWarning: Latex injecting: 'absorption_table.tex' from 'tmp_2204.06285/SMC Absorption With GASKAP-20220410/absorption_table.tex'\n",
      "  warnings.warn(LatexWarning(f\"Latex injecting: '{ext}' from '{subsource}'\"))\n",
      "/opt/hostedtoolcache/Python/3.9.12/x64/lib/python3.9/site-packages/arxiv_on_deck_2/latex.py:292: LatexWarning: Latex injecting: 'spectra_table.tex' from 'tmp_2204.06285/spectra_table.tex'\n",
      "  warnings.warn(LatexWarning(f\"Latex injecting: '{ext}' from '{subsource}'\"))\n",
      "/opt/hostedtoolcache/Python/3.9.12/x64/lib/python3.9/site-packages/arxiv_on_deck_2/latex.py:292: LatexWarning: Latex injecting: 'spectra_table.tex' from 'tmp_2204.06285/SMC Absorption With GASKAP-20220410/spectra_table.tex'\n",
      "  warnings.warn(LatexWarning(f\"Latex injecting: '{ext}' from '{subsource}'\"))\n"
     ]
    },
    {
     "name": "stdout",
     "output_type": "stream",
     "text": [
      "extracting tarball to tmp_2204.06301..."
     ]
    },
    {
     "name": "stdout",
     "output_type": "stream",
     "text": [
      " done.\n",
      "Retrieving document from  https://arxiv.org/e-print/2204.06330\n"
     ]
    },
    {
     "name": "stdout",
     "output_type": "stream",
     "text": [
      "extracting tarball to tmp_2204.06330..."
     ]
    },
    {
     "name": "stdout",
     "output_type": "stream",
     "text": [
      " done.\n",
      "Retrieving document from  https://arxiv.org/e-print/2204.06376\n"
     ]
    },
    {
     "name": "stdout",
     "output_type": "stream",
     "text": [
      "extracting tarball to tmp_2204.06376..."
     ]
    },
    {
     "name": "stdout",
     "output_type": "stream",
     "text": [
      " done.\n"
     ]
    },
    {
     "name": "stderr",
     "output_type": "stream",
     "text": [
      "/tmp/ipykernel_2238/1244451042.py:32: LatexWarning: 2204.06376 did not run properly\n",
      "[Errno 2] No such file or directory: 'gs'\n",
      "  warnings.warn(latex.LatexWarning(f\"{paper_id:s} did not run properly\\n\" +\n"
     ]
    },
    {
     "name": "stdout",
     "output_type": "stream",
     "text": [
      "Retrieving document from  https://arxiv.org/e-print/2204.06393\n"
     ]
    },
    {
     "name": "stdout",
     "output_type": "stream",
     "text": [
      "extracting tarball to tmp_2204.06393..."
     ]
    },
    {
     "name": "stdout",
     "output_type": "stream",
     "text": [
      " done.\n"
     ]
    },
    {
     "name": "stderr",
     "output_type": "stream",
     "text": [
      "/opt/hostedtoolcache/Python/3.9.12/x64/lib/python3.9/site-packages/IPython/core/interactiveshell.py:3369: LatexWarning: Multiple tex files.\n",
      "\n",
      "  exec(code_obj, self.user_global_ns, self.user_ns)\n",
      "/opt/hostedtoolcache/Python/3.9.12/x64/lib/python3.9/site-packages/IPython/core/interactiveshell.py:3369: LatexWarning: Found documentclass in tmp_2204.06393/_Full_maintext.tex\n",
      "\n",
      "  exec(code_obj, self.user_global_ns, self.user_ns)\n",
      "/opt/hostedtoolcache/Python/3.9.12/x64/lib/python3.9/site-packages/arxiv_on_deck_2/latex.py:292: LatexWarning: Latex injecting: '_author_contribution' from 'tmp_2204.06393/_author_contribution.tex'\n",
      "  warnings.warn(LatexWarning(f\"Latex injecting: '{ext}' from '{subsource}'\"))\n",
      "/opt/hostedtoolcache/Python/3.9.12/x64/lib/python3.9/site-packages/arxiv_on_deck_2/latex.py:292: LatexWarning: Latex injecting: '_acknowledgement' from 'tmp_2204.06393/_acknowledgement.tex'\n",
      "  warnings.warn(LatexWarning(f\"Latex injecting: '{ext}' from '{subsource}'\"))\n"
     ]
    },
    {
     "name": "stdout",
     "output_type": "stream",
     "text": [
      "Retrieving document from  https://arxiv.org/e-print/2204.06423\n"
     ]
    },
    {
     "name": "stdout",
     "output_type": "stream",
     "text": [
      "extracting tarball to tmp_2204.06423..."
     ]
    },
    {
     "name": "stdout",
     "output_type": "stream",
     "text": [
      " done.\n",
      "Retrieving document from  https://arxiv.org/e-print/2204.06503\n"
     ]
    },
    {
     "name": "stdout",
     "output_type": "stream",
     "text": [
      "extracting tarball to tmp_2204.06503..."
     ]
    },
    {
     "name": "stdout",
     "output_type": "stream",
     "text": [
      " done.\n"
     ]
    }
   ],
   "source": [
    "documents = []\n",
    "failed = []\n",
    "for paper in tqdm(candidates[:-1]):\n",
    "    paper_id = paper['identifier'].lower().replace('arxiv:', '')\n",
    "    \n",
    "    folder = f'tmp_{paper_id}'\n",
    "\n",
    "    try:\n",
    "        if not os.path.isdir(folder):\n",
    "            folder = retrieve_document_source(f\"{paper_id}\", f'tmp_{paper_id}')\n",
    "        \n",
    "        try:\n",
    "            doc = latex.LatexDocument(folder, validation=validation)    \n",
    "        except AffiliationError as affilerror:\n",
    "            msg = f\"ArXiv:{paper_id:s} is not an MPIA paper... \" + str(affilerror)\n",
    "            failed.append((paper, \"affiliation error: \" + str(affilerror) ))\n",
    "            continue\n",
    "        \n",
    "        # Hack because sometimes author parsing does not work well\n",
    "        if (len(doc.authors) != len(paper['authors'])):\n",
    "            doc._authors = paper['authors']\n",
    "        if (doc.abstract) in (None, ''):\n",
    "            doc._abstract = paper['abstract']\n",
    "            \n",
    "        doc.comment = get_markdown_badge(paper_id) + \" _\" + paper['comments'] + \"_\"\n",
    "        doc.highlight_authors_in_list(hl_list)\n",
    "\n",
    "        full_md = doc.generate_markdown_text()\n",
    "        \n",
    "        documents.append((paper_id, full_md))\n",
    "    except Exception as e:\n",
    "        warnings.warn(latex.LatexWarning(f\"{paper_id:s} did not run properly\\n\" +\n",
    "                                         str(e)\n",
    "                                        ))\n",
    "        failed.append((paper, \"latex error \" + str(e)))"
   ]
  },
  {
   "cell_type": "markdown",
   "id": "2505a25c",
   "metadata": {
    "papermill": {
     "duration": 0.010165,
     "end_time": "2022-04-14T06:53:16.719639",
     "exception": false,
     "start_time": "2022-04-14T06:53:16.709474",
     "status": "completed"
    },
    "tags": []
   },
   "source": [
    "### Export the logs\n",
    "\n",
    "Throughout, we also keep track of the logs per paper. see `logs-{today date}.md` "
   ]
  },
  {
   "cell_type": "code",
   "execution_count": 6,
   "id": "d733828a",
   "metadata": {
    "execution": {
     "iopub.execute_input": "2022-04-14T06:53:16.737738Z",
     "iopub.status.busy": "2022-04-14T06:53:16.737400Z",
     "iopub.status.idle": "2022-04-14T06:53:16.782332Z",
     "shell.execute_reply": "2022-04-14T06:53:16.781586Z"
    },
    "papermill": {
     "duration": 0.056168,
     "end_time": "2022-04-14T06:53:16.784128",
     "exception": false,
     "start_time": "2022-04-14T06:53:16.727960",
     "status": "completed"
    },
    "scrolled": false,
    "tags": []
   },
   "outputs": [
    {
     "data": {
      "text/markdown": [
       "## Successful papers"
      ],
      "text/plain": [
       "<IPython.core.display.Markdown object>"
      ]
     },
     "metadata": {},
     "output_type": "display_data"
    },
    {
     "data": {
      "text/markdown": [
       "\n",
       "|||\n",
       "|---:|:---|\n",
       "| [![arXiv](https://img.shields.io/badge/arXiv-arXiv:2204.06393-b31b1b.svg)](https://arxiv.org/abs/arXiv:2204.06393) | **A dusty compact object bridging galaxies and quasars at cosmic dawn**  |\n",
       "|| S. Fujimoto, et al. -- incl., <mark>F. Walter</mark> |\n",
       "|*Comments*| *49 pages, 15 figures, 2 tables. Authors' version. Published in the 14 April issue of Nature*|\n",
       "|**Abstract**| Understanding how super-massive black holes form and grow in the early Universe has become a major challenge since the discovery of luminous quasars only 700 million years after the Big Bang. Simulations indicate an evolutionary sequence of dust-reddened quasars emerging from heavily dust-obscured starbursts that then transition to unobscured luminous quasars by expelling gas and dust. Although the last phase has been identified out to a redshift of 7.6, a transitioning quasar has not been found at similar redshifts owing to their faintness at optical and near-infrared wavelengths. Here we report observations of an ultraviolet compact object, GNz7q, associated with a dust-enshrouded starburst at a redshift of z=7.1899+/-0.0005. The host galaxy is more luminous in dust emission than any other known object at this epoch, forming 1,600 solar masses of stars per year within a central radius of 480 parsec. A red point source in the far-ultraviolet is identified in deep, high-resolution imaging and slitless spectroscopy. GNz7q is extremely faint in X-rays, which indicates the emergence of a uniquely ultraviolet compact star-forming region or a Compton-thick super-Eddington black-hole accretion disk at the dusty starburst core. In the latter case, the observed properties are consistent with predictions from cosmological simulations and suggest that GNz7q is an antecedent to unobscured luminous quasars at later epochs. |"
      ],
      "text/plain": [
       "[arXiv:2204.06393] A dusty compact object bridging galaxies and quasars at cosmic dawn\n",
       "\tS. Fujimoto, et al. -- incl., <mark>F. Walter</mark>"
      ]
     },
     "metadata": {},
     "output_type": "display_data"
    },
    {
     "data": {
      "text/markdown": [
       "## Failed papers"
      ],
      "text/plain": [
       "<IPython.core.display.Markdown object>"
      ]
     },
     "metadata": {},
     "output_type": "display_data"
    },
    {
     "data": {
      "text/markdown": [
       "\n",
       "|||\n",
       "|---:|:---|\n",
       "| [![arXiv](https://img.shields.io/badge/arXiv-arXiv:2204.06000-b31b1b.svg)](https://arxiv.org/abs/arXiv:2204.06000) | **3D Morphology of Open Clusters in the Solar Neighborhood with Gaia EDR3  II: Hierarchical Star Formation Revealed by Spatial and Kinematic  Substructures**  |\n",
       "|| Xiaoying Pang, et al. -- incl., <mark>Teng Zhang</mark> |\n",
       "|*Comments*| *Accepted to ApJ, 33 pages, 14 figures. OC 3D interactive visualization included on this http URL*|\n",
       "|**Abstract**| We identify members of 65 open clusters in the solar neighborhood using the machine-learning algorithm StarGO based on Gaia EDR3 data. After adding members of twenty clusters from previous studies (Pang et al. 2021a,b; Li et al. 2021) we obtain 85 clusters, and study their morphology and kinematics. We classify the substructures outside the tidal radius into four categories: filamentary (f1) and fractal (f2) for clusters $<100$ Myr, and halo (h) and tidal-tail (t) for clusters $>100$ Myr. The kinematical substructures of f1-type clusters are elongated; these resemble the disrupted cluster Group X. Kinematic tails are distinct in t-type clusters, especially Pleiades. We identify 29 hierarchical groups in four young regions (Alessi 20, IC 348, LP 2373, LP 2442); ten among these are new. The hierarchical groups form filament networks. Two regions (Alessi 20, LP 2373) exhibit global \"orthogonal\" expansion (stellar motion perpendicular to the filament), which might cause complete dispersal. Infalling-like flows (stellar motion along the filament) are found in UBC 31 and related hierarchical groups in the IC 348 region. Stellar groups in the LP 2442 region (LP 2442 gp 1-5) are spatially well-mixed but kinematically coherent. A merging process might be ongoing in the LP 2442 subgroups. For younger systems ($\\lesssim30$ Myr), the mean axis ratio, cluster mass and half-mass radius tend to increase with age values. These correlations between structural parameters may imply two dynamical processes occurring in the hierarchical formation scenario in young stellar groups: (1) filament dissolution and (2) sub-group mergers. |\n",
       "|<p style=\"color:green\"> **ERROR** </p>| <p style=\"color:green\">affiliation error: mpia.affiliation_verifications: 'Heidelberg' keyword not found.</p> |"
      ],
      "text/plain": [
       "<IPython.core.display.Markdown object>"
      ]
     },
     "metadata": {},
     "output_type": "display_data"
    },
    {
     "data": {
      "text/markdown": [
       "\n",
       "|||\n",
       "|---:|:---|\n",
       "| [![arXiv](https://img.shields.io/badge/arXiv-arXiv:2204.06001-b31b1b.svg)](https://arxiv.org/abs/arXiv:2204.06001) | **Constraining Primordial Black Holes using Fast Radio Burst  Gravitational-Lens Interferometry with CHIME/FRB**  |\n",
       "|| Calvin Leung, et al. -- incl., <mark>Zarif Kader</mark>, <mark>Bradley W. Meyers</mark>, <mark>Kendrick M. Smith</mark> |\n",
       "|*Comments*| *20 pages, 5 figures*|\n",
       "|**Abstract**| Fast radio bursts (FRBs) represent an exciting frontier in the study of gravitational lensing, due to their brightness, extragalactic nature, and the compact, coherent characteristics of their emission. In a companion work [Kader, Leung+2022], we use a novel interferometric method to search for gravitationally lensed FRBs in the time domain using bursts detected by CHIME/FRB. There, we dechannelize and autocorrelate electric field data at a time resolution of 1.25 ns. This enables a search for FRBs whose emission is coherently deflected by gravitational lensing around a foreground compact object such as a primordial black hole (PBH). Here, we use our non-detection of lensed FRBs to place novel constraints on the PBH abundance outside the Local Group. We use a novel two-screen model to take into account decoherence from scattering screens in our constraints. Our constraints are subject to a single astrophysical model parameter -- the effective distance between an FRB source and the scattering screen, for which we adopt a fiducial distance of 1 parsec. We find that coherent FRB lensing is a sensitive probe of sub-solar mass compact objects. Having observed no lenses in $172$ bursts from $114$ independent sightlines through the cosmic web, we constrain the fraction of dark matter made of compact objects, such as PBHs, to be $f \\lesssim 0.8$, if their masses are $\\sim 10^{-3} M_{\\odot}$. |\n",
       "|<p style=\"color:green\"> **ERROR** </p>| <p style=\"color:green\">affiliation error: mpia.affiliation_verifications: 'Heidelberg' keyword not found.</p> |"
      ],
      "text/plain": [
       "<IPython.core.display.Markdown object>"
      ]
     },
     "metadata": {},
     "output_type": "display_data"
    },
    {
     "data": {
      "text/markdown": [
       "\n",
       "|||\n",
       "|---:|:---|\n",
       "| [![arXiv](https://img.shields.io/badge/arXiv-arXiv:2204.06011-b31b1b.svg)](https://arxiv.org/abs/arXiv:2204.06011) | **High-z Sudoku: A diagnostic tool for identifying robust (sub)mm  redshifts**  |\n",
       "|| Tom J. L. C. Bakx, <mark>Helmut Dannerbauer</mark> |\n",
       "|*Comments*| *9 pages, 8 figures, resubmitted and implemented the comments of the referee*|\n",
       "|**Abstract**| We present methods to (i) graphically identify robust redshifts using emission lines in the (sub)mm regime, (ii) evaluate the capabilities of different (sub)mm practices for measuring spectroscopic redshifts, and (iii) optimise future (sub)mm observations towards increasing the fraction of robust redshifts. Using this publicly-available code (https://github.com/tjlcbakx/redshift-search-graphs), we discuss scenarios where robust redshifts can be identified using both single- and multiple-line detections, as well as scenarios where the redshift remains ambiguous, even after the detection of multiple lines. Using the redshift distribution of (sub)mm samples, we quantify the efficiencies of various practices for measuring spectroscopic redshifts, including interferometers, as well as existing and future instruments specifically designed for redshift searches. Finally, we provide a method to optimise the observation strategy for future (sub)mm spectroscopic redshift searches with the Atacama Large Millimetre/submillimetre Array, where 2 mm proves indispensable for robust redshifts in the z = 2 - 4 region. |\n",
       "|<p style=\"color:green\"> **ERROR** </p>| <p style=\"color:green\">affiliation error: mpia.affiliation_verifications: 'Heidelberg' keyword not found.</p> |"
      ],
      "text/plain": [
       "<IPython.core.display.Markdown object>"
      ]
     },
     "metadata": {},
     "output_type": "display_data"
    },
    {
     "data": {
      "text/markdown": [
       "\n",
       "|||\n",
       "|---:|:---|\n",
       "| [![arXiv](https://img.shields.io/badge/arXiv-arXiv:2204.06014-b31b1b.svg)](https://arxiv.org/abs/arXiv:2204.06014) | **A High-Time Resolution Search for Compact Objects using Fast Radio Burst  Gravitational Lens Interferometry with CHIME/FRB**  |\n",
       "|| <mark>Zarif Kader</mark>, et al. -- incl., <mark>Bradley W. Meyers</mark>, <mark>Kendrick M. Smith</mark> |\n",
       "|*Comments*| *23 pages, 13 figures*|\n",
       "|**Abstract**| The gravitational field of compact objects, such as primordial black holes, can create multiple images of background sources. For transients such as fast radio bursts (FRBs), these multiple images can be resolved in the time domain. Under certain circumstances, these images not only have similar burst morphologies but are also phase-coherent at the electric field level. With a novel dechannelization algorithm and a matched filtering technique, we search for repeated copies of the same electric field waveform in observations of FRBs detected by the FRB backend of the Canadian Hydrogen Mapping Intensity Experiment (CHIME). An interference fringe from a coherent gravitational lensing signal will appear in the time-lag domain as a statistically-significant peak in the time-lag autocorrelation function. We calibrate our statistical significance using telescope data containing no FRB signal. Our dataset consists of $\\sim$100-ms long recordings of voltage data from 172 FRB events, dechannelized to 1.25-ns time resolution. This coherent search algorithm allows us to search for gravitational lensing signatures from compact objects in the mass range of $10^{-4}-10^{4} ~\\mathrm{M_{\\odot}}$. After ruling out an anomalous candidate due to diffractive scintillation, we find no significant detections of gravitational lensing in the 172 FRB events that have been analyzed. In a companion work [Leung, Kader+2022], we interpret the constraints on dark matter from this search. |\n",
       "|<p style=\"color:green\"> **ERROR** </p>| <p style=\"color:green\">affiliation error: mpia.affiliation_verifications: 'Heidelberg' keyword not found.</p> |"
      ],
      "text/plain": [
       "<IPython.core.display.Markdown object>"
      ]
     },
     "metadata": {},
     "output_type": "display_data"
    },
    {
     "data": {
      "text/markdown": [
       "\n",
       "|||\n",
       "|---:|:---|\n",
       "| [![arXiv](https://img.shields.io/badge/arXiv-arXiv:2204.06021-b31b1b.svg)](https://arxiv.org/abs/arXiv:2204.06021) | **Direct Optimal Mapping for 21cm Cosmology: A Demonstration with the  Hydrogen Epoch of Reionization Array**  |\n",
       "|| Zhilei Xu, et al. -- incl., <mark>Jacqueline N. Hewitt</mark> |\n",
       "|*Comments*| *16 pages, 10 figures, 2 tables, submitted to ApJ*|\n",
       "|**Abstract**| Motivated by the desire for wide-field images with well-defined statistical properties for 21cm cosmology, we implement an optimal mapping pipeline that computes a maximum likelihood estimator for the sky using the interferometric measurement equation. We demonstrate this direct optimal mapping with data from the Hydrogen Epoch of Reionization (HERA) Phase I observations. After validating the pipeline with simulated data, we develop a maximum likelihood figure-of-merit for comparing four sky models at 166MHz with a bandwidth of 100kHz. The HERA data agree with the GLEAM catalogs to $<$10%. After subtracting the GLEAM point sources, the HERA data discriminate between the different continuum sky models, providing most support for the model from Byrne et al. 2021. We report the computation cost for mapping the HERA Phase I data and project the computation for the HERA 320-antenna data, both are feasible with a modern server. The algorithm is broadly applicable to other interferometers, and is valid for wide-field and non-coplanar arrays. |\n",
       "|<p style=\"color:green\"> **ERROR** </p>| <p style=\"color:green\">affiliation error: mpia.affiliation_verifications: 'Heidelberg' keyword not found.</p> |"
      ],
      "text/plain": [
       "<IPython.core.display.Markdown object>"
      ]
     },
     "metadata": {},
     "output_type": "display_data"
    },
    {
     "data": {
      "text/markdown": [
       "\n",
       "|||\n",
       "|---:|:---|\n",
       "| [![arXiv](https://img.shields.io/badge/arXiv-arXiv:2204.06022-b31b1b.svg)](https://arxiv.org/abs/arXiv:2204.06022) | **ALMA/ACA CO Survey of the IC 1459 and NGC 4636 Groups: Environmental  Effects on the Molecular Gas of Group Galaxies**  |\n",
       "|| <mark>Bumhyun Lee</mark>, et al. -- incl., <mark>D. Kleiner</mark>, <mark>K. Lee-Waddell</mark> |\n",
       "|*Comments*| *42 pages, 29 figures, 7 tables, submitted to ApJS*|\n",
       "|**Abstract**| We present new results of a 12CO(J=1-0) imaging survey using the Atacama Compact Array (ACA) for 31 HI detected galaxies in the IC 1459 and NGC 4636 groups. This is the first CO imaging survey for loose galaxy groups. We obtained well-resolved CO data (~0.7-1.5 kpc) for a total of 16 galaxies in two environments. By comparing our ACA CO data with the HI and UV data, we probe the impacts of the group environment on the cold gas components (CO and HI gas) and star formation activity. We find that CO and/or HI morphologies are disturbed in our group members, some of which show highly asymmetric CO distributions (e.g., IC 5264, NGC 7421, and NGC 7418). In comparison with isolated galaxies in the xCOLD GASS sample, our group galaxies tend to have low star formation rates and low H2 gas fractions. Our findings suggest that the group environment can change the distribution of cold gas components, including the molecular gas, and star formation properties of galaxies. This is supporting evidence that pre-processing in the group-like environment can play an important role in galaxy evolution. |\n",
       "|<p style=\"color:green\"> **ERROR** </p>| <p style=\"color:green\">affiliation error: mpia.affiliation_verifications: 'Heidelberg' keyword not found.</p> |"
      ],
      "text/plain": [
       "<IPython.core.display.Markdown object>"
      ]
     },
     "metadata": {},
     "output_type": "display_data"
    },
    {
     "data": {
      "text/markdown": [
       "\n",
       "|||\n",
       "|---:|:---|\n",
       "| [![arXiv](https://img.shields.io/badge/arXiv-arXiv:2204.06091-b31b1b.svg)](https://arxiv.org/abs/arXiv:2204.06091) | **Is there a background population of high-albedo objects in  geosynchronous orbits around Earth?**  |\n",
       "|| <mark>Beatriz Villarroel</mark>, et al. -- incl., <mark>Jamal Mimouni</mark> |\n",
       "|*Comments*| *Submitted to Astronomical Journal*|\n",
       "|**Abstract**| Old, digitized astronomical images taken before the human spacefaring age offer a unique view of the sky devoid of known artificial satellites. In this paper, we have carried out the first optical searches ever for non-terrestrial artifacts near the Earth following the method proposed in Villarroel et al. (2022). We use images contained in the First Palomar Sky Survey to search for simultaneous (during a plate exposure time) transients that in addition to being point-like, are aligned. We provide a shortlist of the most promising candidates of aligned transients, that must be examined with the help of a microscope to separate celestial sources from plate defects with coincidentally star-like brightness profiles. We further explore one possible, but not unique, interpretation in terms of fast reflections off high-albedo objects in geosynchronous orbits around Earth. If a future study rules out each multiple transient candidate, the estimated surface density becomes an upper limit of $<10^{-9}$ objects km$^{-2}$ non-terrestrial artifacts in geosynchronous orbits around Earth. Finally, we conclude that observations and analysis of multiple, simultaneously appearing and vanishing light sources on the sky merit serious further attention, regardless of their origin. |\n",
       "|<p style=\"color:green\"> **ERROR** </p>| <p style=\"color:green\">affiliation error: mpia.affiliation_verifications: 'Heidelberg' keyword not found.</p> |"
      ],
      "text/plain": [
       "<IPython.core.display.Markdown object>"
      ]
     },
     "metadata": {},
     "output_type": "display_data"
    },
    {
     "data": {
      "text/markdown": [
       "\n",
       "|||\n",
       "|---:|:---|\n",
       "| [![arXiv](https://img.shields.io/badge/arXiv-arXiv:2204.06147-b31b1b.svg)](https://arxiv.org/abs/arXiv:2204.06147) | **High-energy studies of the 3HWC J1954+286 region: likely Gamma-ray  detection of the supernova remnant G65.1+0.6**  |\n",
       "|| Y. Xing, et al. -- incl., <mark>X. Zhang</mark>, <mark>G. Xiang</mark> |\n",
       "|*Comments*| *11 pages, 7 figures, 3 tables, accepted for publication in ApJ*|\n",
       "|**Abstract**| We carry out high-energy studies of the region of the Galactic TeV source 3HWC J1954+286, whose location coincides with those of PSR~J1954+2836 and supernova remnant (SNR) G65.1+0.6. Analyzing the GeV $\\gamma$-ray data obtained with the Large Area Telescope (LAT) onboard {\\it the Fermi Gamma-ray Space Telescope}, we are able to separate the pulsar's emission from that of the region. Excess power-law--like emission of a $\\sim 6\\sigma$ significance level at the region is found, for which we explain as arising from the SNR~G65.1+0.6. Given the low-significance detection, either a hadronic or a leptonic model can provide a fit to the power-law spectrum. Considering the properties of the pulsar and the SNR, we discuss the possible origin of the TeV source, and suggest that it is likely the TeV halo associated with the pulsar. |\n",
       "|<p style=\"color:green\"> **ERROR** </p>| <p style=\"color:green\">affiliation error: mpia.affiliation_verifications: 'Heidelberg' keyword not found.</p> |"
      ],
      "text/plain": [
       "<IPython.core.display.Markdown object>"
      ]
     },
     "metadata": {},
     "output_type": "display_data"
    },
    {
     "data": {
      "text/markdown": [
       "\n",
       "|||\n",
       "|---:|:---|\n",
       "| [![arXiv](https://img.shields.io/badge/arXiv-arXiv:2204.06158-b31b1b.svg)](https://arxiv.org/abs/arXiv:2204.06158) | **Pulse Profiles and Polarization of Terzan 5 Pulsars**  |\n",
       "|| Ashley R. Martsen, et al. -- incl., <mark>Jason W. T. Hessels</mark> |\n",
       "|*Comments*| *11 pages, 5 figures, submitted to The Astrophysical Journal*|\n",
       "|**Abstract**| Terzan 5 is a rich globular cluster within the galactic bulge that contains 39 known millisecond pulsars, the largest known population of any globular cluster. The Terzan 5 pulsars are faint, so that individual observations of most of the pulsars have too little signal-to-noise (S/N) to measure reliable flux density or polarization information. We combined over 5.2\\,days of archival data, at each of 1.5\\,GHz and 2.0\\,GHz, taken with the Green Bank Telescope over the past 11\\,years. We created high S/N profiles for 32 of the pulsars and determined precise rotation measures (RMs) for 28 of them. We used the RMs, and the known pulsar positions and dispersion measures (DMs), to map the projected parallel component of the Galactic magnetic field toward the cluster. The $\\langle B_{||}\\rangle$ shows a rough gradient of $\\sim$6\\,nG/arcsec ($\\sim$160\\,nG/parsec), or fractionally, a change of $\\sim$20$\\%$ in the right ascension direction across the cluster, implying Galactic magnetic field variability at sub-parsec scales. We also measured average flux densities $S_\\nu$ for the pulsars, ranging from $\\sim$10\\,$\\mu$Jy to $\\sim$2\\,mJy, and an average spectral index $\\alpha = -1.35$, where $S_\\nu \\propto \\nu^{\\alpha})$. This spectral index is flatter than most known pulsars, likely a selection effect due to the high frequencies used in pulsar searches to mitigate dispersion and scattering. The inferred pulsar luminosity function is roughly power-law, with slope $(d\\log N)/(d\\log L) = -1$ at the high-luminosity end. At the low-luminosity end, there are incompleteness effects implying that Terzan 5 contains many more pulsars to be found. |\n",
       "|<p style=\"color:green\"> **ERROR** </p>| <p style=\"color:green\">affiliation error: mpia.affiliation_verifications: 'Heidelberg' keyword not found.</p> |"
      ],
      "text/plain": [
       "<IPython.core.display.Markdown object>"
      ]
     },
     "metadata": {},
     "output_type": "display_data"
    },
    {
     "data": {
      "text/markdown": [
       "\n",
       "|||\n",
       "|---:|:---|\n",
       "| [![arXiv](https://img.shields.io/badge/arXiv-arXiv:2204.06176-b31b1b.svg)](https://arxiv.org/abs/arXiv:2204.06176) | **ALMA Survey of Orion Planck Galactic Cold Clumps (ALMASOP): How do dense  core properties affect the multiplicity of protostars?**  |\n",
       "|| Qiuyi Luo, et al. -- incl., <mark>ChinFei Lee</mark>, <mark>Chang Won Lee</mark>, <mark>JeongEun Lee</mark>, <mark>Jinhua He</mark>, <mark>Siju Zhang</mark> |\n",
       "|*Comments*| *This paper was accepted by APJ - AAS38131R2*|\n",
       "|**Abstract**| During the transition phase from prestellar to protostellar cloud core, one or several protostars can form within a single gas core. The detailed physical processes of this transition, however, still remain unclear. We present 1.3 mm dust continuum and molecular line observations with the Atacama Large Millimeter/submillimeter Array (ALMA) toward 43 protostellar cores in the Orion molecular cloud complex ({\\lambda}Orionis, Orion B, and Orion A) with an angular resolution of \\sim 0. 35 (\\sim 140 au). In total, we detect 13 binary/multiple systems. We derive an overall multiplicity frequency (MF) of 28% \\pm 4% and a companion star fraction (CSF) of 51% \\pm 6%, over a separation range of 300-8900 au. The median separation of companions is about 2100 au. The occurrence of stellar multiplicity may depend on the physical characteristics of the dense cores. Notably, those containing binary/multiple systems tend to show higher gas density and Mach number than cores forming single stars. The integral-shaped filament (ISF) of Orion A GMC, which has the highest gas density and hosts high-mass star formation in its central region (Orion Nebula Cluster or ONC), shows the highest MF and CSF among Orion GMCs. In contrast, the {\\lambda} Orionis Giant Molecular Cloud (GMC) has a lower MF and CSF than the Orion B and Orion A GMCs, indicating that feedback from Hii regions may suppress the formation of multiple systems. We also find that the protostars comprising binary/multiple systems are usually at different evolutionary stages. |\n",
       "|<p style=\"color:green\"> **ERROR** </p>| <p style=\"color:green\">affiliation error: mpia.affiliation_verifications: 'Heidelberg' keyword not found.</p> |"
      ],
      "text/plain": [
       "<IPython.core.display.Markdown object>"
      ]
     },
     "metadata": {},
     "output_type": "display_data"
    },
    {
     "data": {
      "text/markdown": [
       "\n",
       "|||\n",
       "|---:|:---|\n",
       "| [![arXiv](https://img.shields.io/badge/arXiv-arXiv:2204.06200-b31b1b.svg)](https://arxiv.org/abs/arXiv:2204.06200) | **S-type stars discovered in Medium-Resolution Spectra of LAMOST DR9**  |\n",
       "|| Jing Chen, et al. -- incl., <mark>Xiang-Lei Chen</mark> |\n",
       "|*Comments*| *19 pages, 15 Figures, Accepted to publish in ApJ*|\n",
       "|**Abstract**| In this paper, we report on 606 S-type stars identified from Data Release 9 of the LAMOST medium-resolution spectroscopic (MRS) survey, and 539 of them are reported for the first time. The discovery of these stars is a three-step process, i.e., selecting with the ZrO band indices greater than 0.25, excluding non-S-type stars with the iterative Support Vector Machine method, and finally retaining stars with absolute bolometric magnitude larger than -7.1. The 606 stars are consistent with the distribution of known S-type stars in the color-magnitude diagram. We estimated the C/Os using the [C/Fe] and [O/Fe] provided by APOGEE and the MARCS model for S-type stars, respectively, and the results of the two methods show that C/Os of all stars are larger than 0.5. Both the locations on the color-magnitude diagram and C/Os further verify the nature of our S-type sample. Investigating the effect of TiO and atmospheric parameters on ZrO with the sample, we found that log g has a more significant impact on ZrO than Teff and [Fe/H], and both TiO and log g may negatively correlate with ZrO. According to the criterion of Tian et al. (2020), a total of 238 binary candidates were found by the zero-point-calibrated radial velocities from the officially released catalog of LAMOST MRS and the catalog of Zhang et al. (2021). A catalog of these 606 S-type stars is available from the following link https://doi.org/10.12149/101097. |\n",
       "|<p style=\"color:green\"> **ERROR** </p>| <p style=\"color:green\">affiliation error: mpia.affiliation_verifications: 'Heidelberg' keyword not found.</p> |"
      ],
      "text/plain": [
       "<IPython.core.display.Markdown object>"
      ]
     },
     "metadata": {},
     "output_type": "display_data"
    },
    {
     "data": {
      "text/markdown": [
       "\n",
       "|||\n",
       "|---:|:---|\n",
       "| [![arXiv](https://img.shields.io/badge/arXiv-arXiv:2204.06203-b31b1b.svg)](https://arxiv.org/abs/arXiv:2204.06203) | **Discovery of post-mass-transfer helium-burning red giants using  asteroseismology**  |\n",
       "|| Yaguang Li, et al. -- incl., <mark>Daniel Huber</mark>, <mark>Xianfei Zhang</mark>, <mark>Daniel R. Hey</mark>, <mark>Sanjib Sharma</mark> |\n",
       "|*Comments*| *a Letter to Nature Astronomy*|\n",
       "|**Abstract**| A star expands to become a red giant when it has fused all the hydrogen in its core into helium. If the star is in a binary system, its envelope can overflow onto its companion or be ejected into space, leaving a hot core and potentially forming a subdwarf-B star. However, most red giants that have partially transferred envelopes in this way remain cool on the surface and are almost indistinguishable from those that have not. Among $\\sim$7000 helium-burning red giants observed by NASA's Kepler mission, we use asteroseismology to identify two classes of stars that must have undergone dramatic mass loss, presumably due to stripping in binary interactions. The first class comprises about 7 underluminous stars with smaller helium-burning cores than their single-star counterparts. Theoretical models show that these small cores imply the stars had much larger masses when ascending the red giant branch. The second class consists of 32 red giants with masses down to 0.5 M$_\\odot$, whose implied ages would exceed the age of the universe had no mass loss occurred. The numbers are consistent with binary statistics, and our results open up new possibilities to study the evolution of post-mass-transfer binary systems. |\n",
       "|<p style=\"color:green\"> **ERROR** </p>| <p style=\"color:green\">affiliation error: mpia.affiliation_verifications: 'Heidelberg' keyword not found.</p> |"
      ],
      "text/plain": [
       "<IPython.core.display.Markdown object>"
      ]
     },
     "metadata": {},
     "output_type": "display_data"
    },
    {
     "data": {
      "text/markdown": [
       "\n",
       "|||\n",
       "|---:|:---|\n",
       "| [![arXiv](https://img.shields.io/badge/arXiv-arXiv:2204.06266-b31b1b.svg)](https://arxiv.org/abs/arXiv:2204.06266) | **Power-law Spectrum of Energetic Particles in Classical Thermal  Equilibrium by Pitch-angle Scattering Process**  |\n",
       "|| <mark>Yiran Zhang</mark> |\n",
       "|*Comments*| *Accepted for publication in Astroparticle Physics*|\n",
       "|**Abstract**| The Boltzmann-Gibbs thermodynamic equilibrium state of charged particles pitch-angle scattered by weak plasma waves is discussed. Degrees of freedom of these waves play a fundamental role in constructing the grand canonical ensemble. Via the gyro-resonance condition, fast particles have an inverse break power-law spectrum for $ \\varepsilon -\\mu \\ll T $, where $ \\varepsilon $ is the particle energy, $ \\mu $ is the chemical potential, $ T $ is the temperature. The break energies are the rest energy and $ -\\mu $. For $ \\varepsilon \\ll -\\mu \\ll T $, the energy spectral index $ \\alpha $ is $ \\delta /2+1 $ and $ \\delta +1 $ for non- and ultra-relativistic particles, respectively, with $ \\delta $ an effective fractal dimension of background magnetic field lines. The spectral index for $ -\\mu \\ll \\varepsilon \\ll T $ is $ \\alpha +1 $. This thermal equilibrium scenario, combined with the leaky-box model and cosmic-ray observations, seems to suggest that the Galactic magnetic field is super-diffusive with $ \\delta \\approx 1.4 $. |\n",
       "|<p style=\"color:green\"> **ERROR** </p>| <p style=\"color:green\">affiliation error: mpia.affiliation_verifications: 'Heidelberg' keyword not found.</p> |"
      ],
      "text/plain": [
       "<IPython.core.display.Markdown object>"
      ]
     },
     "metadata": {},
     "output_type": "display_data"
    },
    {
     "data": {
      "text/markdown": [
       "\n",
       "|||\n",
       "|---:|:---|\n",
       "| [![arXiv](https://img.shields.io/badge/arXiv-arXiv:2204.06285-b31b1b.svg)](https://arxiv.org/abs/arXiv:2204.06285) | **GASKAP-HI Pilot Survey Science III: An unbiased view of cold gas in the  Small Magellanic Cloud**  |\n",
       "|| James Dempsey, et al. -- incl., <mark>Helga Dénes</mark>, <mark>Min-Young Lee</mark> |\n",
       "|*Comments*| *Accepted for publication in PASA, 19 pages, 17 figures, 5 tables*|\n",
       "|**Abstract**| We present the first unbiased survey of neutral hydrogen (HI) absorption in the Small Magellanic Cloud (SMC). The survey utilises pilot HI observations with the Australian Square Kilometre Array Pathfinder (ASKAP) telescope as part of the Galactic ASKAP HI (GASKAP-HI) project whose dataset has been processed with the GASKAP-HI absorption pipeline, also described here. This dataset provides absorption spectra towards 229 continuum sources, a 275% increase in the number of continuum sources previously published in the SMC region, as well as an improvement in the quality of absorption spectra over previous surveys of the SMC. Our unbiased view, combined with the closely matched beam size between emission and absorption, reveals a lower cold gas faction (11%) than the 2019 ATCA survey of the SMC and is more representative of the SMC as a whole. We also find that the optical depth varies greatly between the SMC's bar and wing regions. In the bar we find that the optical depth is generally low (correction factor to the optically thin column density assumption of $\\mathcal{R}_{\\rm HI} \\sim 1.04$) but increases linearly with column density. In the wing however, there is a wide scatter in optical depth despite a tighter range of column densities. |\n",
       "|<p style=\"color:green\"> **ERROR** </p>| <p style=\"color:green\">affiliation error: mpia.affiliation_verifications: 'Heidelberg' keyword not found.</p> |"
      ],
      "text/plain": [
       "<IPython.core.display.Markdown object>"
      ]
     },
     "metadata": {},
     "output_type": "display_data"
    },
    {
     "data": {
      "text/markdown": [
       "\n",
       "|||\n",
       "|---:|:---|\n",
       "| [![arXiv](https://img.shields.io/badge/arXiv-arXiv:2204.06301-b31b1b.svg)](https://arxiv.org/abs/arXiv:2204.06301) | **Estimation of stellar atmospheric parameters from LAMOST DR8  low-resolution spectra with 20$\\leq$SNR$<$30**  |\n",
       "|| <mark>Xiangru Li</mark>, et al. |\n",
       "|*Comments*| *16 pages, 6 figures, 4 tables*|\n",
       "|**Abstract**| The accuracy of the estimated stellar atmospheric parameter decreases evidently with the decreasing of spectral signal-to-noise ratio (SNR) and there are a huge amount of this kind observations, especially in case of SNR$<$30. Therefore, it is helpful to improve the parameter estimation performance for these spectra and this work studied the ($T_\\texttt{eff}, \\log~g$, [Fe/H]) estimation problem for LAMOST DR8 low-resolution spectra with 20$\\leq$SNR$<$30. We proposed a data-driven method based on machine learning techniques. Firstly, this scheme detected stellar atmospheric parameter-sensitive features from spectra by the Least Absolute Shrinkage and Selection Operator (LASSO), rejected ineffective data components and irrelevant data. Secondly, a Multi-layer Perceptron (MLP) method was used to estimate stellar atmospheric parameters from the LASSO features. Finally, the performance of the LASSO-MLP was evaluated by computing and analyzing the consistency between its estimation and the reference from the APOGEE (Apache Point Observatory Galactic Evolution Experiment) high-resolution spectra. Experiments show that the Mean Absolute Errors (MAE) of $T_\\texttt{eff}, \\log~g$, [Fe/H] are reduced from the LASP (137.6 K, 0.195 dex, 0.091 dex) to LASSO-MLP (84.32 K, 0.137 dex, 0.063 dex), which indicate evident improvements on stellar atmospheric parameter estimation. In addition, this work estimated the stellar atmospheric parameters for 1,162,760 low-resolution spectra with 20$\\leq$SNR$<$30 from LAMOST DR8 using LASSO-MLP, and released the estimation catalog, learned model, experimental code, trained model, training data and test data for scientific exploration and algorithm study. |\n",
       "|<p style=\"color:green\"> **ERROR** </p>| <p style=\"color:green\">affiliation error: mpia.affiliation_verifications: 'Heidelberg' keyword not found.</p> |"
      ],
      "text/plain": [
       "<IPython.core.display.Markdown object>"
      ]
     },
     "metadata": {},
     "output_type": "display_data"
    },
    {
     "data": {
      "text/markdown": [
       "\n",
       "|||\n",
       "|---:|:---|\n",
       "| [![arXiv](https://img.shields.io/badge/arXiv-arXiv:2204.06330-b31b1b.svg)](https://arxiv.org/abs/arXiv:2204.06330) | **Effects of stellar-mass primordial black holes on first star formation**  |\n",
       "|| Boyuan Liu, <mark>Saiyang Zhang</mark>, Volker Bromm |\n",
       "|*Comments*| *21 pages, 18+3 figures, submitted to MNRAS*|\n",
       "|**Abstract**| We use cosmological hydrodynamic zoom-in simulations and semi-analytical models to study the effects of primordial black holes (PBHs) on first star formation. Our models self-consistently combine two competing effects: initial (isocurvature) perturbations induced by PBHs and BH accretion feedback. Focusing on PBHs with masses $\\sim 30\\ \\rm M_{\\odot}$, we find that the standard picture of first star formation in molecular-cooling minihaloes is not changed by PBHs, as the simulated star-forming gas clouds in the central parsec are very similar to those in the $\\rm \\Lambda CDM$ case when PBHs make up $f_{\\rm PBH}\\sim 10^{-4}-0.1$ of dark matter. With a dynamical friction timescale of $\\sim 2-10\\ \\rm Myr$ when the central gas density reaches $10^{5}\\ \\rm cm^{-3}$, it is also unlikely that PBHs can sink into star-forming discs and affect the evolution of protostars, although they may interact with the stars during the main-sequence stage. At larger scales, PBHs tend to shift star formation to more massive haloes, and accelerate structure formation. The latter effect is stronger in regions with higher initial overdensities. For $f_{\\rm PBH}\\sim 10^{-4}-0.01$ (allowed by observational constraints), the collapsed mass fraction of haloes hosting Population III stars is similar (within a factor of $\\sim2$ at $z\\lesssim 30$) to that in $\\rm \\Lambda CDM$, implying that the impact of stellar-mass PBHs on the cosmic star formation history at $z\\gtrsim 10$ is small. We also find that the Lyman-Werner photons from PBH accretion in atomic-cooling haloes may facilitate the formation of direct-collapse BHs. |\n",
       "|<p style=\"color:green\"> **ERROR** </p>| <p style=\"color:green\">affiliation error: mpia.affiliation_verifications: 'Heidelberg' keyword not found.</p> |"
      ],
      "text/plain": [
       "<IPython.core.display.Markdown object>"
      ]
     },
     "metadata": {},
     "output_type": "display_data"
    },
    {
     "data": {
      "text/markdown": [
       "\n",
       "|||\n",
       "|---:|:---|\n",
       "| [![arXiv](https://img.shields.io/badge/arXiv-arXiv:2204.06423-b31b1b.svg)](https://arxiv.org/abs/arXiv:2204.06423) | **Comparisons of Type Ia Supernova Light Curves in the UV and Optical with  the Swift Ultra-Violet/Optical Telescope**  |\n",
       "|| Yaswant Devarakonda, <mark>Peter J. Brown</mark> |\n",
       "|*Comments*| *16 pages, 11 figures. Accepted for publication in AJ*|\n",
       "|**Abstract**| We examine the light curve parameters of 97 nearby Type Ia supernovae in the ultraviolet and optical using observations from the Swift Ultra-Violet/Optical Telescope. Our light curve models used a linear combinations of templates, which were based on Functional Principal Component Analysis of the optical photometry of SNe Ia. The weights for each principal component used in the fit capture certain aspects of the light curve properties. We find that there is little difference in the overall variability of principal component scores across filters. We also find correlations between certain filters and PC components, indicating that the UV and optical properties seem to be tied together. This is a promising step in UV SNe Ia analysis, and suggests that UV light curves may be used to infer optical properties, paving the way for future cosmological studies. |\n",
       "|<p style=\"color:green\"> **ERROR** </p>| <p style=\"color:green\">affiliation error: mpia.affiliation_verifications: 'Heidelberg' keyword not found.</p> |"
      ],
      "text/plain": [
       "<IPython.core.display.Markdown object>"
      ]
     },
     "metadata": {},
     "output_type": "display_data"
    },
    {
     "data": {
      "text/markdown": [
       "\n",
       "|||\n",
       "|---:|:---|\n",
       "| [![arXiv](https://img.shields.io/badge/arXiv-arXiv:2204.06503-b31b1b.svg)](https://arxiv.org/abs/arXiv:2204.06503) | **Temperature Structures Associated with Different Components of the  Atmospheric Circulation on Tidally Locked Exoplanets**  |\n",
       "|| <mark>Neil T. Lewis</mark>, Mark Hammond |\n",
       "|*Comments*| *Submitted to AAS journals. Comments welcome and appreciated*|\n",
       "|**Abstract**| Observations of time-resolved thermal emission from tidally locked exoplanets can tell us about their atmospheric temperature structure. Telescopes such as JWST and ARIEL will improve the quality and availability of these measurements. This motivates an improved understanding of the processes that determine atmospheric temperature structure, particularly atmospheric circulation. The circulation is important in determining atmospheric temperatures, not only through its ability to transport heat, but also because any circulation pattern needs to be balanced by horizontal pressure contrasts, therefore implying a particular temperature structure. In this work, we show how the global temperature field on a tidally locked planet can be decomposed into contributions that are balanced by different components of the atmospheric circulation. These are the superrotating jet, stationary Rossby waves, and the divergent circulation. To achieve this, we partition the geopotential field into components balanced by the divergent circulation and the rotational circulation, with the latter comprising the jet and Rossby waves. The partitioned geopotential then implies a corresponding partitioning of the temperature via the hydrostatic relation. We apply these diagnostics to idealised general circulation model simulations, to show how the separate rotational and divergent circulations together make up the total three-dimensional atmospheric temperature structure. We also show how each component contributes distinct signatures to the thermal phase curve of a tidally locked planet. We conclude that this decomposition is a physically meaningful separation of the temperature field that explains its global structure, and can be used to fit observations of thermal emission. |\n",
       "|<p style=\"color:green\"> **ERROR** </p>| <p style=\"color:green\">affiliation error: mpia.affiliation_verifications: 'Heidelberg' keyword not found.</p> |"
      ],
      "text/plain": [
       "<IPython.core.display.Markdown object>"
      ]
     },
     "metadata": {},
     "output_type": "display_data"
    },
    {
     "data": {
      "text/markdown": [
       "\n",
       "|||\n",
       "|---:|:---|\n",
       "| [![arXiv](https://img.shields.io/badge/arXiv-arXiv:2204.06376-b31b1b.svg)](https://arxiv.org/abs/arXiv:2204.06376) | **A quarter century of spectroscopic monitoring of the nearby M dwarf Gl  514. A super-Earth on an eccentric orbit moving in and out of the habitable  zone**  |\n",
       "|| M. Damasso, et al. -- incl., <mark>J. I. González Hernández</mark>, <mark>Th. Henning</mark> |\n",
       "|*Comments*| *34 pages, accepted for publication in Astronomy & Astrophysics*|\n",
       "|**Abstract**| We investigated the presence of planetary companions around the nearby (7.6 pc) and bright ($V=9$ mag) early-type M dwarf Gl 514, analysing 540 radial velocities collected over nearly 25 years with the HIRES, HARPS, and CARMENES spectrographs. The data are affected by time-correlated signals at the level of 2-3 ms$^{-1}$ due to stellar activity, that we filtered out testing three different models based on Gaussian process regression. As a sanity cross-check, we repeated the analyses using HARPS radial velocities extracted with three different algorithms. We used HIRES radial velocities and Hipparcos-Gaia astrometry to put constraints on the presence of long-period companions, and we analysed TESS photometric data. We found strong evidence that Gl 514 hosts a super-Earth on a likely eccentric orbit, residing in the conservative habitable zone for nearly $34\\%$ of its orbital period. The planet Gl 514 b has minimum mass $m_b\\sin i_b=5.2\\pm0.9$ $M_{\\rm Earth}$, orbital period $P_b=140.43\\pm0.41$ days, and eccentricity $e_b=0.45^{+0.15}_{-0.14}$. No evidence for transits is found in the TESS light curve. There is no evidence for a longer period companion in the radial velocities and, based on astrometry, we can rule out a $\\sim0.2$ $M_{\\rm Jup}$ planet at a distance of $\\sim3-10$ au, and massive giant planets/brown dwarfs out to several tens of au. We discuss the possible presence of a second low-mass companion at a shorter distance from the host than Gl 514 b. Gl 514 b represents an interesting science case to study the habitability of planets on eccentric orbits. We advocate for additional spectroscopic follow-up to get more accurate and precise planetary parameters. Further follow-up is also needed to investigate sub \\ms and shorter period signals. |\n",
       "|<p style=\"color:red\"> **ERROR** </p>| <p style=\"color:red\">latex error [Errno 2] No such file or directory: 'gs'</p> |"
      ],
      "text/plain": [
       "<IPython.core.display.Markdown object>"
      ]
     },
     "metadata": {},
     "output_type": "display_data"
    }
   ],
   "source": [
    "import datetime\n",
    "today = str(datetime.date.today())\n",
    "logfile = f\"_build/html/logs/log-{today}.md\"\n",
    "\n",
    "\n",
    "with open(logfile, 'w') as logs:\n",
    "    # Success\n",
    "    logs.write(f'# Arxiv on Deck 2: Logs - {today}\\n\\n')\n",
    "    logs.write(\"\"\"* Arxiv had {0:,d} new papers\\n\"\"\".format(len(new_papers)))\n",
    "    logs.write(\"\"\"    * {0:,d} with possible author matches\\n\\n\"\"\".format(len(candidates)))\n",
    "    logs.write(\"## Sucessful papers\\n\\n\")\n",
    "    display(Markdown(\"## Successful papers\"))\n",
    "    success = [k[0] for k in documents]\n",
    "    for candid in candidates:\n",
    "        if candid['identifier'].split(':')[-1] in success:\n",
    "            display(candid)\n",
    "            logs.write(candid.generate_markdown_text() + '\\n\\n')\n",
    "\n",
    "    ## failed\n",
    "    logs.write(\"## Failed papers\\n\\n\")\n",
    "    display(Markdown(\"## Failed papers\"))\n",
    "    failed = sorted(failed, key=lambda x: x[1])\n",
    "    current_reason = \"\"\n",
    "    for paper, reason in failed:\n",
    "        if 'affiliation' in reason:\n",
    "            color = 'green'\n",
    "        else:\n",
    "            color = 'red'\n",
    "        data = Markdown(\n",
    "                paper.generate_markdown_text() + \n",
    "                f'\\n|<p style=\"color:{color:s}\"> **ERROR** </p>| <p style=\"color:{color:s}\">{reason:s}</p> |'\n",
    "               )\n",
    "        if reason != current_reason:\n",
    "            logs.write(f'### {reason:s} \\n\\n')\n",
    "            current_reason = reason\n",
    "        logs.write(data.data + '\\n\\n')\n",
    "        \n",
    "        # only display here the important errors (all in logs)\n",
    "        # if color in ('red',):\n",
    "        display(data)"
   ]
  },
  {
   "cell_type": "markdown",
   "id": "472d20ee",
   "metadata": {
    "papermill": {
     "duration": 0.011039,
     "end_time": "2022-04-14T06:53:16.806930",
     "exception": false,
     "start_time": "2022-04-14T06:53:16.795891",
     "status": "completed"
    },
    "tags": []
   },
   "source": [
    "## Export documents\n",
    "\n",
    "We now write the .md files and export relevant images"
   ]
  },
  {
   "cell_type": "code",
   "execution_count": 7,
   "id": "d426aed9",
   "metadata": {
    "execution": {
     "iopub.execute_input": "2022-04-14T06:53:16.831550Z",
     "iopub.status.busy": "2022-04-14T06:53:16.830864Z",
     "iopub.status.idle": "2022-04-14T06:53:16.841190Z",
     "shell.execute_reply": "2022-04-14T06:53:16.840411Z"
    },
    "papermill": {
     "duration": 0.025036,
     "end_time": "2022-04-14T06:53:16.843320",
     "exception": false,
     "start_time": "2022-04-14T06:53:16.818284",
     "status": "completed"
    },
    "tags": []
   },
   "outputs": [],
   "source": [
    "def export_markdown_summary(md: str, md_fname:str, directory: str):\n",
    "    \"\"\"Export MD document and associated relevant images\"\"\"\n",
    "    import os\n",
    "    import shutil\n",
    "    import re\n",
    "\n",
    "    if (os.path.exists(directory) and not os.path.isdir(directory)):\n",
    "        raise RuntimeError(f\"a non-directory file exists with name {directory:s}\")\n",
    "\n",
    "    if (not os.path.exists(directory)):\n",
    "        print(f\"creating directory {directory:s}\")\n",
    "        os.mkdir(directory)\n",
    "\n",
    "    fig_fnames = (re.compile(r'\\[Fig.*\\]\\((.*)\\)').findall(md) + \n",
    "                  re.compile(r'\\<img src=\"([^>\\s]*)\"[^>]*/>').findall(md))\n",
    "    for fname in fig_fnames:\n",
    "        if 'http' in fname:\n",
    "            # No need to copy online figures\n",
    "            continue\n",
    "        destdir = os.path.join(directory, os.path.dirname(fname))\n",
    "        destfname = os.path.join(destdir, os.path.basename(fname))\n",
    "        try:\n",
    "            os.makedirs(destdir)\n",
    "        except FileExistsError:\n",
    "            pass\n",
    "        shutil.copy(fname, destfname)\n",
    "    with open(os.path.join(directory, md_fname), 'w') as fout:\n",
    "        fout.write(md)\n",
    "    print(\"exported in \", os.path.join(directory, md_fname))\n",
    "    [print(\"    + \" + os.path.join(directory,fk)) for fk in fig_fnames]"
   ]
  },
  {
   "cell_type": "code",
   "execution_count": 8,
   "id": "014d04a4",
   "metadata": {
    "execution": {
     "iopub.execute_input": "2022-04-14T06:53:16.868675Z",
     "iopub.status.busy": "2022-04-14T06:53:16.868190Z",
     "iopub.status.idle": "2022-04-14T06:53:16.876661Z",
     "shell.execute_reply": "2022-04-14T06:53:16.875862Z"
    },
    "papermill": {
     "duration": 0.023032,
     "end_time": "2022-04-14T06:53:16.878714",
     "exception": false,
     "start_time": "2022-04-14T06:53:16.855682",
     "status": "completed"
    },
    "tags": []
   },
   "outputs": [
    {
     "name": "stdout",
     "output_type": "stream",
     "text": [
      "exported in  _build/html/2204.06393.md\n",
      "    + _build/html/tmp_2204.06393/./Mbh-SFR_v9.png\n",
      "    + _build/html/tmp_2204.06393/./HST_SED_v9.png\n",
      "    + _build/html/tmp_2204.06393/./Full_SED_v6.png\n"
     ]
    }
   ],
   "source": [
    "for paper_id, md in documents:\n",
    "    export_markdown_summary(md, f\"{paper_id:s}.md\", '_build/html/')"
   ]
  },
  {
   "cell_type": "markdown",
   "id": "f087a0a7",
   "metadata": {
    "papermill": {
     "duration": 0.012052,
     "end_time": "2022-04-14T06:53:16.902488",
     "exception": false,
     "start_time": "2022-04-14T06:53:16.890436",
     "status": "completed"
    },
    "tags": []
   },
   "source": [
    "## Display the papers\n",
    "\n",
    "Not necessary but allows for a quick check."
   ]
  },
  {
   "cell_type": "code",
   "execution_count": 9,
   "id": "fd25f625",
   "metadata": {
    "execution": {
     "iopub.execute_input": "2022-04-14T06:53:16.928063Z",
     "iopub.status.busy": "2022-04-14T06:53:16.927408Z",
     "iopub.status.idle": "2022-04-14T06:53:16.933913Z",
     "shell.execute_reply": "2022-04-14T06:53:16.933202Z"
    },
    "papermill": {
     "duration": 0.020838,
     "end_time": "2022-04-14T06:53:16.935637",
     "exception": false,
     "start_time": "2022-04-14T06:53:16.914799",
     "status": "completed"
    },
    "scrolled": false,
    "tags": []
   },
   "outputs": [
    {
     "data": {
      "text/markdown": [
       "<div class=\"macros\" style=\"visibility:hidden;\">\n",
       "$\\newcommand{\\ensuremath}{}$\n",
       "$\\newcommand{\\xspace}{}$\n",
       "$\\newcommand{\\object}[1]{\\texttt{#1}}$\n",
       "$\\newcommand{\\farcs}{{.}''}$\n",
       "$\\newcommand{\\farcm}{{.}'}$\n",
       "$\\newcommand{\\arcsec}{''}$\n",
       "$\\newcommand{\\arcmin}{'}$\n",
       "$\\newcommand{\\ion}[2]{#1#2}$\n",
       "$\\newcommand{\\textsc}[1]{\\textrm{#1}}$\n",
       "$\\newcommand{\\hl}[1]{\\textrm{#1}}$\n",
       "$\\newcommand{\\hi}{\\mbox{H {\\scshape i}} }$\n",
       "$\\newcommand{\\hii}{\\mbox{H {\\scshape ii}} }$\n",
       "$\\newcommand{\\oiii}{[O {\\sc iii}]}$\n",
       "$\\newcommand{\\oii}{[O {\\sc ii}]}$\n",
       "$\\newcommand{\\cii}{[C {\\sc ii}]}$\n",
       "$\\newcommand{\\ci}{[C {\\sc i}](2-1)}$\n",
       "$\\newcommand{\\nii}{[N {\\sc ii}]}$\n",
       "$\\newcommand{\\ciii}{C {\\sc iii}]}$\n",
       "$\\newcommand{\\civ}{C {\\sc iv}}$\n",
       "$\\newcommand{\\siiv}{Si {\\sc iv}}$\n",
       "$\\newcommand{\\lya}{Ly\\alpha}$\n",
       "$\\newcommand{\\mum}{\\mum}$\n",
       "$\\newcommand{\\dv}{\\Delta v_{\\rm Ly\\alpha}}$\n",
       "$\\newcommand{\\ew}{EW_{\\rm 0}}$\n",
       "$\\newcommand{\\lsun}{L_{\\rm \\odot}}$\n",
       "$\\newcommand{\\msun}{M_{\\rm \\odot}}$\n",
       "$\\newcommand{\\ltir}{L_{\\rm TIR}}$\n",
       "$\\newcommand{\\nhi}{N_{\\rm HI}}$\n",
       "$\\newcommand{\\loiii}{L_{\\rm[OIII]}}$\n",
       "$\\newcommand{\\llya}{L_{\\rm Ly\\alpha}}$\n",
       "$\\newcommand{\\luv}{L_{\\rm UV}}$\n",
       "$\\newcommand{\\zph}{z_{\\rm ph}}$\n",
       "$\\newcommand{\\muv}{M_{\\rm UV}}$\n",
       "$\\newcommand{\\td}{T_{\\rm d}}$\n",
       "$\\newcommand{\\bd}{\\beta_{\\rm d}}$\n",
       "$\\newcommand{\\md}{M_{\\rm dust}}$\n",
       "$\\newcommand{\\zoiii}{z_{\\rm[OIII]}}$\n",
       "$\\newcommand{\\zlya}{z_{\\rm Ly\\alpha}}$\n",
       "$\\newcommand{\\zsun}{Z_{\\rm \\odot}}$\n",
       "$\\newcommand{\\mdyn}{M_{\\rm dyn}}$\n",
       "$\\newcommand{\\mgas}{M_{\\rm gas}}$\n",
       "$\\newcommand{\\mmol}{M_{\\rm H_{\\rm 2}}}$\n",
       "$\\newcommand{\\matom}{M_{\\rm H_{\\rm I}}}$\n",
       "$\\newcommand{\\lir}{L_{\\rm IR}}$\n",
       "$\\newcommand{\\lirs}{L_{\\rm IR,SF}}$\n",
       "$\\newcommand{\\lira}{L_{\\rm IR,AGN}}$\n",
       "$\\newcommand{\\targname}{GNz7q}$\n",
       "$\\newcommand{\\tcr}{\\textcolor{black}}$\n",
       "$\\newcommand{\\tcb}{\\textcolor{black}}$\n",
       "$\\newcommand{\\tcm}{\\textcolor{magenta}}$</div>\n",
       "\n",
       "<div class=\"macros\" style=\"visibility:hidden;\">\n",
       "$\\newcommand{$\\ensuremath$}{}$\n",
       "$\\newcommand{$\\xspace$}{}$\n",
       "$\\newcommand{$\\object$}[1]{\\texttt{#1}}$\n",
       "$\\newcommand{$\\farcs$}{{.}''}$\n",
       "$\\newcommand{$\\farcm$}{{.}'}$\n",
       "$\\newcommand{$\\arcsec$}{''}$\n",
       "$\\newcommand{$\\arcmin$}{'}$\n",
       "$\\newcommand{$\\ion$}[2]{#1#2}$\n",
       "$\\newcommand{$\\textsc$}[1]{\\textrm{#1}}$\n",
       "$\\newcommand{$\\hl$}[1]{\\textrm{#1}}$\n",
       "$\\newcommand{$\\hi$}{\\mbox{H {\\scshape i}} }$\n",
       "$\\newcommand{$\\hi$i}{\\mbox{H {\\scshape ii}} }$\n",
       "$\\newcommand{$\\oiii$}{[O {\\sc iii}]}$\n",
       "$\\newcommand{$\\oii$}{[O {\\sc ii}]}$\n",
       "$\\newcommand{$\\cii$}{[C {\\sc ii}]}$\n",
       "$\\newcommand{$\\ci$}{[C {\\sc i}](2-1)}$\n",
       "$\\newcommand{$\\nii$}{[N {\\sc ii}]}$\n",
       "$\\newcommand{$\\cii$i}{C {\\sc iii}]}$\n",
       "$\\newcommand{$\\ci$v}{C {\\sc iv}}$\n",
       "$\\newcommand{$\\siiv$}{Si {\\sc iv}}$\n",
       "$\\newcommand{$\\lya$}{Ly\\alpha}$\n",
       "$\\newcommand{$\\mum$}{$\\mum$}$\n",
       "$\\newcommand{$\\dv$}{\\Delta v_{\\rm Ly\\alpha}}$\n",
       "$\\newcommand{$\\ew$}{EW_{\\rm 0}}$\n",
       "$\\newcommand{$\\lsun$}{L_{\\rm \\odot}}$\n",
       "$\\newcommand{$\\msun$}{M_{\\rm \\odot}}$\n",
       "$\\newcommand{$\\ltir$}{L_{\\rm TIR}}$\n",
       "$\\newcommand{$\\nhi$}{N_{\\rm HI}}$\n",
       "$\\newcommand{$\\loiii$}{L_{\\rm[OIII]}}$\n",
       "$\\newcommand{$\\llya$}{L_{\\rm Ly\\alpha}}$\n",
       "$\\newcommand{$\\luv$}{L_{\\rm UV}}$\n",
       "$\\newcommand{$\\zph$}{z_{\\rm ph}}$\n",
       "$\\newcommand{$\\muv$}{M_{\\rm UV}}$\n",
       "$\\newcommand{$\\td$}{T_{\\rm d}}$\n",
       "$\\newcommand{$\\bd$}{\\beta_{\\rm d}}$\n",
       "$\\newcommand{$\\md$}{M_{\\rm dust}}$\n",
       "$\\newcommand{$\\zoiii$}{z_{\\rm[OIII]}}$\n",
       "$\\newcommand{$\\zlya$}{z_{\\rm Ly\\alpha}}$\n",
       "$\\newcommand{$\\zsun$}{Z_{\\rm \\odot}}$\n",
       "$\\newcommand{$\\md$yn}{M_{\\rm dyn}}$\n",
       "$\\newcommand{$\\mgas$}{M_{\\rm gas}}$\n",
       "$\\newcommand{$\\mmol$}{M_{\\rm H_{\\rm 2}}}$\n",
       "$\\newcommand{$\\matom$}{M_{\\rm H_{\\rm I}}}$\n",
       "$\\newcommand{$\\lir$}{L_{\\rm IR}}$\n",
       "$\\newcommand{$\\lir$s}{L_{\\rm IR,SF}}$\n",
       "$\\newcommand{$\\lir$a}{L_{\\rm IR,AGN}}$\n",
       "$\\newcommand{$\\targname$}{GNz7q}$\n",
       "$\\newcommand{$\\tcr$}{\\textcolor{black}}$\n",
       "$\\newcommand{$\\tcb$}{\\textcolor{black}}$\n",
       "$\\newcommand{$\\tcm$}{\\textcolor{magenta}}$</div>\n",
       "\n",
       "\n",
       "\n",
       "<div id=\"title\">\n",
       "\n",
       "# A dusty compact object bridging galaxies and quasars at cosmic dawn\n",
       "\n",
       "</div>\n",
       "<div id=\"comments\">\n",
       "\n",
       "[![arXiv](https://img.shields.io/badge/arXiv-2204.06393-b31b1b.svg)](https://arxiv.org/abs/2204.06393) _49 pages, 15 figures, 2 tables. Authors' version. Published in the 14 April issue of Nature_\n",
       "\n",
       "</div>\n",
       "<div id=\"authors\">\n",
       "\n",
       "S. Fujimoto, et al. -- incl., <mark><mark>F. Walter</mark></mark>\n",
       "\n",
       "</div>\n",
       "<div id=\"abstract\">\n",
       "\n",
       "**Abstract:** Understanding how super-massive black holes form and grow in the early Universe has become a major challenge$\\ci$te{volonteri2012,inayoshi2020}since the discovery of luminous quasars only 700 million years after the Big Bang$\\ci$te{mortlock2011, banados2018}.Simulations indicate an evolutionary sequence of dust-reddened quasars emerging from heavily dust-obscured starbursts that then transition to unobscured luminous quasars by expelling gas and dust$\\ci$te{hopkins2008}.Although the last phase has been identified out to a redshift of 7.6,$\\ci$te{wang2021}a transitioning quasar has not been found at similar redshifts owing to their faintness at optical and near-infrared wavelengths. Here we report observations of an ultraviolet compact object,$\\targname$, associated with a dust-enshrouded starburst at a redshift of\\boldmath$ z=7.1899\\pm0.0005$.The host galaxy ismore luminous in dust emission than any other known object at this epoch, forming 1,600 solar masses of stars per year within a centralradius of 480 parsec. A red point source in the far-ultraviolet is identified in deep, high-resolution imaging and slitless spectroscopy.$\\targname$is extremely faint in X-rays, which indicates the emergence of a uniquely ultraviolet compact star-forming region or a Compton-thick super-Eddington black-hole accretion disk at the dusty starburst core.In the latter case, the observed properties are consistent with predictions from cosmological simulations$\\ci$te{ginolfi2019}and suggest that$\\targname$is an antecedent to unobscured luminous quasars at later epochs.\n",
       "\n",
       "</div>\n",
       "\n",
       "<div id=\"div_fig1\">\n",
       "\n",
       "<img src=\"tmp_2204.06393/./Mbh-SFR_v9.png\" alt=\"Fig4\" width=\"100%\"/>\n",
       "\n",
       "**Figure 4. -** \\small\\textbf{$|$\n",
       "SFR and $M_{\\rm BH}$ relations for progenitors of luminous quasars in a cosmological simulation}.\n",
       "\\textbf{a.} SFR and BH masses predicted by the semi-analytical model GQd$\\ci$te{valiante2016} for selected $z = 7.2$ progenitors of a luminous quasar at $z=6.4$.\n",
       "Each system is represented by a circle colour-coded by the dark matter halo mass ($M_{\\rm DM}$).\n",
       "The four black circles mark systems that have X-ray, optical, and host galaxy properties similar to $\\targname$(See Methods).\n",
       "\\textbf{b.}\n",
       "BH mass assembly history for the systems marked with the black circles in panel {\\bf a}.\n",
       "At $z = 7.2$, one of them has already grown to $4.0\\times10^{7} M_{\\odot}$(red circle in panel a) and thereafter it continues to grow by gas accretion and mergers with other BHs to form a SMBH of $M_{\\rm BH}=2.5\\times10^{8} M_{\\odot}$ at $z=6.4$(red line).\n",
       "The other systems also have relatively low-mass BHs, down to $\\sim10^{6.5-7.5} M_{\\odot}$ at $z=7.2$(grey lines), but these systems undergo mergers with galaxies hosting more massive BHs.\n",
       "As a result, these BHs are not the most massive progenitors of the final SMBH, which grows to $\\sim10^{9.3-10}$$M_{\\odot}$ by $z=6.4$ through gas accretion and mergers with other BH progenitors (grey dashed line).\n",
       "The black vertical line indicates the redshift of $\\targname$.\n",
       "\\label{fig:simulation} (*fig:simulation*)\n",
       "\n",
       "</div>\n",
       "<div id=\"div_fig2\">\n",
       "\n",
       "<img src=\"tmp_2204.06393/./HST_SED_v9.png\" alt=\"Fig1\" width=\"100%\"/>\n",
       "\n",
       "**Figure 1. -** \\small$\\tcb${\n",
       "\\textbf{$|$ \\boldmath \\emph{Hubble Space Telescope} near-infrared images and spectrum of $\\targname$.}\n",
       "The spectrum and photometry show a strong Lyman break at $\\lambda_\\mathrm{obs}\\sim1.0 \\mu\\mathrm{m}$.\n",
       "The top panels show the \\textit{HST} image cutouts ($5\"\\times5\"$).\n",
       "The source is unresolved in all deep \\textit{HST} images up to the reddest filter available at $1.6 \\mu\\mathrm{m}$ (WFC3/IR F160W).\n",
       "In the bottom panel, the black squares and gray dots respectively show the broadband photometry and the slitless spectrum binned by a factor of 4 relative to the nominal pixel scale.\n",
       "The error bars denote 1$\\sigma$ uncertainties.\n",
       "The labeled black bars indicate the expected wavelengths for the main emission lines based on the $\\cii$ 158-$\\mu$m line redshift of $\\targname$ at $z=7.1899$.\n",
       "The blue curve represents a composite spectrum of SDSS optically luminous blue quasars$\\ci$te{selsing2016} at $1<z<2$, while the red curve shows a red quasar at $z=3.11$ ($\\tcb${SDSS spec-6839-56425-146})$\\ci$te{sdss_dr12} whose FUV spectrum resembles that of $\\targname$.\n",
       "Both of the lower-$z$ quasar spectra are shifted to $z=7.1899$, normalized at 1.2 $\\mu$m, and binned to the same spectral resolution as the $\\targname$ spectrum.\n",
       "The large open circles show the quasar templates integrated through the \\textit{HST} filter passbands.\n",
       "The bandpasses of the ACS/F850LP and WFC3/F105W filters shown at the bottom straddle the spectral break, explaining the faint detection in the former and the suppressed flux density relative to the continuum in the latter.}\\label{fig:grism} (*fig:grism*)\n",
       "\n",
       "</div>\n",
       "<div id=\"div_fig3\">\n",
       "\n",
       "<img src=\"tmp_2204.06393/./Full_SED_v6.png\" alt=\"Fig2\" width=\"100%\"/>\n",
       "\n",
       "**Figure 2. -** \\small$\\tcb${\n",
       "\\textbf{$|$\n",
       "\\boldmath\n",
       "The spectral energy distribution of $\\targname$ from optical to radio wavelengths.}\n",
       "Photometry is shown for data from \\textit{HST} (0.8--1.6$\\mu$m), \\textit{Spitzer} (3.6--24$\\mu$m), \\textit{Herschel} (80--500$\\mu$m), JCMT (450 and 850$\\mu$m), NOEMA (1 and 3 mm) and VLA (3 and 20 cm) in the GOODS-North field (Extended Data Table 1).}\n",
       "Triangles indicate 3$\\sigma$ upper limits.\n",
       "The sum of the best-fit quasar/AGN (black solid) and galaxy (black dashed) templates is shown as a red curve.\n",
       "The radio detection at 20 cm is consistent with the enormous implied SFR of the host galaxy (see Methods).\n",
       "For comparison, we also show the SEDs of other source populations at similar redshifts: optically-luminous blue quasars at $z=7.54$(J1342+0928$\\ci$te{banados2018}; blue squares) and $z=7.08$(J1120+0641$\\ci$te{mortlock2011}; blue stars), and a dusty starburst at $z=6.90$(SPT0311-58W$\\ci$te{marrone2018}; orange circles).\n",
       "The blue curve is drawn with the quasar/AGN template normalized to J1120+6410's rest-frame UV emission.\n",
       "The orange curve is the best-fit SED for SPT0311-58W, taken from the  literature$\\ci$te{marrone2018}.\n",
       "The SED of $\\targname$ falls between these two categories of the dusty starburst and the blue quasar, representing a transient phase between them.\n",
       "\\label{fig:full_sed} (*fig:full_sed*)\n",
       "\n",
       "</div>"
      ],
      "text/plain": [
       "<IPython.core.display.Markdown object>"
      ]
     },
     "metadata": {},
     "output_type": "display_data"
    }
   ],
   "source": [
    "[display(Markdown(k[1])) for k in documents];"
   ]
  },
  {
   "cell_type": "markdown",
   "id": "873873a4",
   "metadata": {
    "papermill": {
     "duration": 0.01247,
     "end_time": "2022-04-14T06:53:16.960580",
     "exception": false,
     "start_time": "2022-04-14T06:53:16.948110",
     "status": "completed"
    },
    "tags": []
   },
   "source": [
    "# Create HTML index"
   ]
  },
  {
   "cell_type": "code",
   "execution_count": 10,
   "id": "cf665672",
   "metadata": {
    "execution": {
     "iopub.execute_input": "2022-04-14T06:53:16.986641Z",
     "iopub.status.busy": "2022-04-14T06:53:16.986404Z",
     "iopub.status.idle": "2022-04-14T06:53:16.999724Z",
     "shell.execute_reply": "2022-04-14T06:53:16.998911Z"
    },
    "papermill": {
     "duration": 0.029527,
     "end_time": "2022-04-14T06:53:17.002066",
     "exception": false,
     "start_time": "2022-04-14T06:53:16.972539",
     "status": "completed"
    },
    "tags": []
   },
   "outputs": [
    {
     "name": "stdout",
     "output_type": "stream",
     "text": [
      "18  publications in the last 7 days.\n",
      "\t _build/html/2204.06393.md\n",
      "\t _build/html/2204.03335.md\n",
      "\t _build/html/2204.03253.md\n",
      "\t _build/html/2204.02998.md\n",
      "\t _build/html/2204.02109.md\n",
      "\t _build/html/2204.02017.md\n",
      "\t _build/html/2204.01824.md\n",
      "\t _build/html/2204.01758.md\n",
      "\t _build/html/2204.01245.md\n",
      "\t _build/html/2204.00793.md\n",
      "\t _build/html/2204.00342.md\n",
      "\t _build/html/2203.16959.md\n",
      "\t _build/html/2203.16856.md\n",
      "\t _build/html/2203.16735.md\n",
      "\t _build/html/2203.16734.md\n",
      "\t _build/html/2203.16504.md\n",
      "\t _build/html/2203.15822.md\n",
      "\t _build/html/2203.15811.md\n"
     ]
    }
   ],
   "source": [
    "from datetime import datetime, timedelta, timezone\n",
    "from glob import glob\n",
    "\n",
    "files = glob('_build/html/*.md')\n",
    "days = 7\n",
    "now = datetime.today()\n",
    "res = []\n",
    "for fk in files:\n",
    "    stat_result = os.stat(fk).st_ctime\n",
    "    modified = datetime.fromtimestamp(stat_result, tz=timezone.utc).replace(tzinfo=None)\n",
    "    delta = now.today() - modified\n",
    "    if delta <= timedelta(days=days):\n",
    "        res.append((delta.seconds, fk))\n",
    "res = [k[1] for k in reversed(sorted(res, key=lambda x:x[1]))]\n",
    "npub = len(res)\n",
    "print(len(res), f\" publications in the last {days:d} days.\")\n",
    "[ print('\\t', k) for k in res ];"
   ]
  },
  {
   "cell_type": "code",
   "execution_count": 11,
   "id": "52ca0208",
   "metadata": {
    "execution": {
     "iopub.execute_input": "2022-04-14T06:53:17.030801Z",
     "iopub.status.busy": "2022-04-14T06:53:17.030114Z",
     "iopub.status.idle": "2022-04-14T06:53:17.039582Z",
     "shell.execute_reply": "2022-04-14T06:53:17.038748Z"
    },
    "papermill": {
     "duration": 0.024592,
     "end_time": "2022-04-14T06:53:17.041351",
     "exception": false,
     "start_time": "2022-04-14T06:53:17.016759",
     "status": "completed"
    },
    "scrolled": false,
    "tags": []
   },
   "outputs": [],
   "source": [
    "def create_carousel(npub=4):\n",
    "    \"\"\" Generate the HTML code for a carousel with `npub` slides \"\"\"\n",
    "    carousel = [\"\"\"<section class=\"carousel\" aria-label=\"Gallery\">\"\"\",\n",
    "                \"\"\"  <ol class=\"carousel__viewport\">\"\"\",\n",
    "    ]\n",
    "    for k in range(1, npub + 1):\n",
    "        prev_ = k - 1\n",
    "        next_ = k + 1\n",
    "        if prev_ <= 0:\n",
    "            prev_ = npub\n",
    "        if next_ > npub:\n",
    "            next_ = 1\n",
    "        text  = f\"\"\"    <li id=\"carousel__slide{k}\" tabindex=\"0\" class=\"carousel__slide\">\\n\"\"\"\n",
    "        text += f\"\"\"       <div class=\"carousel__snapper\">\\n\"\"\"\n",
    "        text += f\"\"\"         <a href=\"#carousel__slide{prev_}\" class=\"carousel__prev\">Go to previous slide</a>\\n\"\"\"\n",
    "        text += f\"\"\"         <a href=\"#carousel__slide{next_}\" class=\"carousel__next\">Go to next slide</a>\\n\"\"\"\n",
    "        text += f\"\"\"         <div id=\"slide{k}_content\" class=\"md_view\" >Content {k}</div>\\n\"\"\"\n",
    "        text += f\"\"\"       </div>\\n\"\"\"\n",
    "        text += f\"\"\"    </li>\"\"\"\n",
    "        carousel.append(text)\n",
    "\n",
    "    carousel.extend([\n",
    "        \"\"\"  </ol>\"\"\",\n",
    "        \"\"\"  <aside class=\"carousel__navigation\">\"\"\",\n",
    "        \"\"\"    <ol class=\"carousel__navigation-list\">\"\"\"])\n",
    "\n",
    "    for k in range(1, npub + 1):\n",
    "        text  = f\"\"\"      <li class=\"carousel__navigation-item\">\\n\"\"\"\n",
    "        text += f\"\"\"        <a href=\"#carousel__slide{k}\" class=\"carousel__navigation-button\">Go to {k}</a>\\n\"\"\"\n",
    "        text += f\"\"\"      </li>\"\"\"\n",
    "        carousel.append(text)\n",
    "    carousel.extend([\"\"\"    </ol>\"\"\", \"\"\"  </aside>\"\"\", \"\"\"</section>\"\"\"])\n",
    "\n",
    "    return '\\n'.join(carousel)"
   ]
  },
  {
   "cell_type": "code",
   "execution_count": 12,
   "id": "a6eac5b6",
   "metadata": {
    "execution": {
     "iopub.execute_input": "2022-04-14T06:53:17.067479Z",
     "iopub.status.busy": "2022-04-14T06:53:17.067259Z",
     "iopub.status.idle": "2022-04-14T06:53:17.076175Z",
     "shell.execute_reply": "2022-04-14T06:53:17.075410Z"
    },
    "papermill": {
     "duration": 0.024312,
     "end_time": "2022-04-14T06:53:17.078021",
     "exception": false,
     "start_time": "2022-04-14T06:53:17.053709",
     "status": "completed"
    },
    "scrolled": false,
    "tags": []
   },
   "outputs": [],
   "source": [
    "carousel = create_carousel(npub)\n",
    "docs = ', '.join(['\"{0:s}\"'.format(k.split('/')[-1]) for k in res])\n",
    "slides = ', '.join([f'\"slide{k}_content\"' for k in range(1, npub + 1)])\n",
    "\n",
    "script = f\"\"\"\n",
    "const docs = [{docs}]\n",
    "\n",
    "const slides = [{slides}]\n",
    "\"\"\" + \"\"\"\n",
    "async function run() {\n",
    "    for (let i = 0; i < docs.length; i++) {\n",
    "        let file = await fetch(docs[i]);\n",
    "        let text = await file.text()\n",
    "        document.getElementById(slides[i]).innerHTML =\n",
    "            marked.parse(text);\n",
    "    }\n",
    "    hljs.highlightAll();\n",
    "}\n",
    "run()\n",
    "\"\"\"\n",
    "\n",
    "page = f\"\"\"<!doctype html>\n",
    "<html lang=\"en\">\n",
    "\n",
    "<head>\n",
    "  <meta charset=\"utf-8\">\n",
    "  <meta name=\"viewport\" content=\"width=device-width, initial-scale=1\">\n",
    "  <!-- Bootstrap CSS -->\n",
    "  <link href=\"https://cdn.jsdelivr.net/npm/bootstrap@5.0.2/dist/css/bootstrap.min.css\" rel=\"stylesheet\"\n",
    "   integrity=\"sha384-EVSTQN3/azprG1Anm3QDgpJLIm9Nao0Yz1ztcQTwFspd3yD65VohhpuuCOmLASjC\" crossorigin=\"anonymous\">\n",
    "  <!-- highlight.js CSS -->\n",
    "  <link rel=\"stylesheet\" href=\"https://cdnjs.cloudflare.com/ajax/libs/highlight.js/11.1.0/styles/default.min.css\">\n",
    "  <!-- Mathjax 3 -->\n",
    "  <script type=\"text/javascript\" id=\"MathJax-config\" src=\"mathjax_config.js\"> </script>\n",
    "  <script type=\"text/javascript\" id=\"MathJax-script\" async \n",
    "    src=\"https://cdn.jsdelivr.net/npm/mathjax@3/es5/tex-mml-chtml.js\">\n",
    "  </script>\n",
    "  <link rel=\"stylesheet\" href=\"index_carousel.css\">\n",
    "  <link rel=\"icon\" type=\"image/x-icon\" href=\"https://www.mpia.de/assets/touch-icon-32x32-a66937bcebc4e8894ebff1f41a366c7c7220fd97a38869ee0f2db65a9f59b6c1.png\">\n",
    "  <title>MPIA Arxiv on deck!</title>\n",
    "</head>\n",
    "\n",
    "<body>\n",
    "  <div id=\"header\"> <img src=\"header_banner.png\" width=\"100%\"></div>\n",
    "  <div id=\"suptitle\"> 7-day archives </div>\n",
    "  <div id=\"info\">\n",
    "    <img src=\"https://pngimg.com/uploads/github/github_PNG58.png\" height=30rem></img>\n",
    "    <a href=https://github.com/mpi-astronomy/arxiv_display style=\"color:black;\">github/mpi-astronomy/arxiv_display</a> \n",
    "  </div>\n",
    "  {carousel:s}\n",
    "</body>\n",
    "\n",
    "<!-- Render Markdown -->\n",
    "\n",
    "<body>\n",
    "  <!-- highlight.js: https://highlightjs.org/download/ -->\n",
    "  <script src=\"https://cdnjs.cloudflare.com/ajax/libs/highlight.js/11.5.0/highlight.min.js\"></script>\n",
    "  <!-- marked.js -->\n",
    "  <script src=\"https://cdn.jsdelivr.net/npm/marked/marked.min.js\"></script>\n",
    "  <script>{script:s}</script>\n",
    "</body>\n",
    "</html>\n",
    "\"\"\"\n",
    "with open(\"_build/html/index_7days.html\", 'w') as fout:\n",
    "    fout.write(page)"
   ]
  },
  {
   "cell_type": "markdown",
   "id": "1cebacbc",
   "metadata": {
    "papermill": {
     "duration": 0.012196,
     "end_time": "2022-04-14T06:53:17.102468",
     "exception": false,
     "start_time": "2022-04-14T06:53:17.090272",
     "status": "completed"
    },
    "tags": []
   },
   "source": [
    "# Debugging papers"
   ]
  },
  {
   "cell_type": "raw",
   "id": "debe7cc6",
   "metadata": {
    "papermill": {
     "duration": 0.012632,
     "end_time": "2022-04-14T06:53:17.127032",
     "exception": false,
     "start_time": "2022-04-14T06:53:17.114400",
     "status": "completed"
    },
    "tags": []
   },
   "source": [
    "raise NotImplementedError(\"Manual Stop\")"
   ]
  },
  {
   "cell_type": "raw",
   "id": "eb169192",
   "metadata": {
    "papermill": {
     "duration": 0.012115,
     "end_time": "2022-04-14T06:53:17.151135",
     "exception": false,
     "start_time": "2022-04-14T06:53:17.139020",
     "status": "completed"
    },
    "scrolled": true,
    "tags": []
   },
   "source": [
    "from IPython.display import display, Markdown\n",
    "from TexSoup import TexSoup\n",
    "import re\n",
    "\n",
    "def bracket_error(source: str):\n",
    "    \"\"\" Find problematic portions of the document \"\"\"\n",
    "    \n",
    "    print(\"len(source)\", len(source))\n",
    "    \n",
    "    # Checking header\n",
    "    begin_doc = next(re.finditer(r'\\\\begin\\{document\\}', doc.source)).span()[1]\n",
    "    header = source[:begin_doc]\n",
    "    text = header + r\"\\n\\end{document}\"\n",
    "\n",
    "    try:\n",
    "        # print(\"Header check... \", end='')\n",
    "        TexSoup(text)\n",
    "        display(Markdown(f\"**[OK]** - Header\"))\n",
    "    except:\n",
    "        raise RuntimeError(\"Error in the header\")\n",
    "        \n",
    "    # Check the text per section until the end.\n",
    "    # Do not stop and try them all.\n",
    "    \n",
    "    problematic_text = []\n",
    "    \n",
    "    sections = ([(0, begin_doc, 'until first section')] + \n",
    "                [(g.span()[0], g.span()[1], g.group()) for g in re.finditer(r'\\\\section\\{.*\\}', source)] +\n",
    "                [(g.span()[0], g.span()[1], g.group()) for g in re.finditer(r'\\\\begin\\{appendix\\}', source)]\n",
    "               )\n",
    "    sections.append([len(source), len(source), 'end'])\n",
    "    \n",
    "    sections = sorted(sections, key=lambda x: x[0])\n",
    "    \n",
    "    prev_pos, prev_name = (0, 'header')\n",
    "    parsed = []\n",
    "    \n",
    "    for span, span_end, name in sections:\n",
    "\n",
    "        if span - prev_pos <= 0:\n",
    "            continue\n",
    "            \n",
    "\n",
    "        text = source[prev_pos:span]\n",
    "        if prev_pos > begin_doc:\n",
    "            text = r\"\\n\\begin{document}\" + text + r\"\\n\\end{document}\"\n",
    "        else:\n",
    "            text = text + r\"\\n\\end{document}\"\n",
    "        try:\n",
    "            #print(f\"{prev_pos}:{prev_name}-->{span}:{name} check... \", end='')\n",
    "            parsed.append(TexSoup(text, tolerance=1))  # allow not ending env\n",
    "            display(Markdown(f\"**[OK]** - *{prev_pos}*:{prev_name} &rarr; *{span}*:{name}\"))\n",
    "            # print(\"ok\")\n",
    "\n",
    "            prev_pos = span\n",
    "            prev_name = name\n",
    "        except:\n",
    "            # print(f\"error between {prev_pos} and {span}\")\n",
    "            display(Markdown(f\"**[ERR]** *{prev_pos}*:{prev_name} &rarr; *{span}*:{name}\"))\n",
    "            problematic_text.append((prev_pos, source[prev_pos:span]))\n",
    "            prev_pos = span\n",
    "            prev_name = name\n",
    "            # raise\n",
    "    return problematic_text, parsed\n",
    "\n",
    "\n",
    "def check_environment(text, offset=0):\n",
    "    \"\"\" Check environment \"\"\"\n",
    "    env = re.compile(r\"\\\\begin\\{(?P<env>.*)\\}(.*)\\\\end\\{(?P=env)\\}\", re.DOTALL)\n",
    "\n",
    "    for match in env.finditer(text):\n",
    "        beg, end = match.span()\n",
    "        beg += offset\n",
    "        end += offset\n",
    "        envname = match.groups()[0]\n",
    "        try:\n",
    "            latex.TexSoup(match.group())\n",
    "        except Exception as e:\n",
    "            display(e)\n",
    "            print(f\"Error in {envname:s} between {beg} and {end}\")\n",
    "            return match.groups()[1], beg, end"
   ]
  },
  {
   "cell_type": "raw",
   "id": "2315e835",
   "metadata": {
    "papermill": {
     "duration": 0.044266,
     "end_time": "2022-04-14T06:53:17.207663",
     "exception": false,
     "start_time": "2022-04-14T06:53:17.163397",
     "status": "completed"
    },
    "scrolled": false,
    "tags": []
   },
   "source": [
    "import importlib\n",
    "importlib.reload(latex)\n",
    "which = \"2204.03253\"\n",
    "paper_id = f'{which:s}'\n",
    "folder = f'tmp_{paper_id:s}'\n",
    "\n",
    "if not os.path.isdir(folder):\n",
    "    folder = retrieve_document_source(f\"{paper_id}\", f'tmp_{paper_id}')\n",
    "\n",
    "try:\n",
    "    doc = latex.LatexDocument(folder, validation=validation)    \n",
    "except AffiliationError as affilerror:\n",
    "    msg = f\"ArXiv:{paper_id:s} is not an MPIA paper... \" + str(affilerror)\n",
    "    print(msg)\n",
    "\n",
    "\n",
    "# Hack because sometimes author parsing does not work well\n",
    "if (len(doc.authors) != len(paper['authors'])):\n",
    "    doc._authors = paper['authors']\n",
    "if (doc.abstract) in (None, ''):\n",
    "    doc._abstract = paper['abstract']\n",
    "\n",
    "doc.comment = get_markdown_badge(paper_id) + \" _\" + paper['comments'] + \"_\"\n",
    "doc.highlight_authors_in_list(hl_list)\n",
    "\n",
    "full_md = doc.generate_markdown_text()"
   ]
  },
  {
   "cell_type": "raw",
   "id": "dd3781db",
   "metadata": {
    "papermill": {
     "duration": 0.012154,
     "end_time": "2022-04-14T06:53:17.231848",
     "exception": false,
     "start_time": "2022-04-14T06:53:17.219694",
     "status": "completed"
    },
    "scrolled": false,
    "tags": []
   },
   "source": [
    "doc"
   ]
  },
  {
   "cell_type": "raw",
   "id": "c6eed834",
   "metadata": {
    "papermill": {
     "duration": 0.014596,
     "end_time": "2022-04-14T06:53:17.259830",
     "exception": false,
     "start_time": "2022-04-14T06:53:17.245234",
     "status": "completed"
    },
    "tags": []
   },
   "source": [
    "# [check_environment(k) for k in bracket_error(doc.source)]\n",
    "_, _, a = latex.get_content_per_section(doc.source, verbose=True)\n",
    "if not a:\n",
    "    print(\"no issues per section\")\n",
    "for ak in a:\n",
    "    r = check_environment(ak[1], offset=ak[0])\n",
    "    print(r[1], r[2])\n",
    "    print(r[0])"
   ]
  },
  {
   "cell_type": "code",
   "execution_count": null,
   "id": "71ce768a",
   "metadata": {
    "papermill": {
     "duration": 0.013307,
     "end_time": "2022-04-14T06:53:17.287684",
     "exception": false,
     "start_time": "2022-04-14T06:53:17.274377",
     "status": "completed"
    },
    "tags": []
   },
   "outputs": [],
   "source": []
  }
 ],
 "metadata": {
  "kernelspec": {
   "display_name": "Python 3 (ipykernel)",
   "language": "python",
   "name": "python3"
  },
  "language_info": {
   "codemirror_mode": {
    "name": "ipython",
    "version": 3
   },
   "file_extension": ".py",
   "mimetype": "text/x-python",
   "name": "python",
   "nbconvert_exporter": "python",
   "pygments_lexer": "ipython3",
   "version": "3.9.12"
  },
  "papermill": {
   "default_parameters": {},
   "duration": 177.517358,
   "end_time": "2022-04-14T06:53:17.623479",
   "environment_variables": {},
   "exception": null,
   "input_path": "MPIA daily digest.ipynb",
   "output_path": "log.ipynb",
   "parameters": {},
   "start_time": "2022-04-14T06:50:20.106121",
   "version": "2.3.4"
  },
  "widgets": {
   "application/vnd.jupyter.widget-state+json": {
    "state": {
     "0e3b5a3a59814dc5a3047edce3b24512": {
      "model_module": "@jupyter-widgets/base",
      "model_module_version": "1.2.0",
      "model_name": "LayoutModel",
      "state": {
       "_model_module": "@jupyter-widgets/base",
       "_model_module_version": "1.2.0",
       "_model_name": "LayoutModel",
       "_view_count": null,
       "_view_module": "@jupyter-widgets/base",
       "_view_module_version": "1.2.0",
       "_view_name": "LayoutView",
       "align_content": null,
       "align_items": null,
       "align_self": null,
       "border": null,
       "bottom": null,
       "display": null,
       "flex": null,
       "flex_flow": null,
       "grid_area": null,
       "grid_auto_columns": null,
       "grid_auto_flow": null,
       "grid_auto_rows": null,
       "grid_column": null,
       "grid_gap": null,
       "grid_row": null,
       "grid_template_areas": null,
       "grid_template_columns": null,
       "grid_template_rows": null,
       "height": null,
       "justify_content": null,
       "justify_items": null,
       "left": null,
       "margin": null,
       "max_height": null,
       "max_width": null,
       "min_height": null,
       "min_width": null,
       "object_fit": null,
       "object_position": null,
       "order": null,
       "overflow": null,
       "overflow_x": null,
       "overflow_y": null,
       "padding": null,
       "right": null,
       "top": null,
       "visibility": null,
       "width": null
      }
     },
     "1b3defb962b74bfb8e6029e96cee617c": {
      "model_module": "@jupyter-widgets/controls",
      "model_module_version": "1.5.0",
      "model_name": "DescriptionStyleModel",
      "state": {
       "_model_module": "@jupyter-widgets/controls",
       "_model_module_version": "1.5.0",
       "_model_name": "DescriptionStyleModel",
       "_view_count": null,
       "_view_module": "@jupyter-widgets/base",
       "_view_module_version": "1.2.0",
       "_view_name": "StyleView",
       "description_width": ""
      }
     },
     "33a72a438db8443791ae1a4afa0856bb": {
      "model_module": "@jupyter-widgets/controls",
      "model_module_version": "1.5.0",
      "model_name": "DescriptionStyleModel",
      "state": {
       "_model_module": "@jupyter-widgets/controls",
       "_model_module_version": "1.5.0",
       "_model_name": "DescriptionStyleModel",
       "_view_count": null,
       "_view_module": "@jupyter-widgets/base",
       "_view_module_version": "1.2.0",
       "_view_name": "StyleView",
       "description_width": ""
      }
     },
     "49b6fa7d1e1c4d75a1f06a8986746ed2": {
      "model_module": "@jupyter-widgets/controls",
      "model_module_version": "1.5.0",
      "model_name": "FloatProgressModel",
      "state": {
       "_dom_classes": [],
       "_model_module": "@jupyter-widgets/controls",
       "_model_module_version": "1.5.0",
       "_model_name": "FloatProgressModel",
       "_view_count": null,
       "_view_module": "@jupyter-widgets/controls",
       "_view_module_version": "1.5.0",
       "_view_name": "ProgressView",
       "bar_style": "success",
       "description": "",
       "description_tooltip": null,
       "layout": "IPY_MODEL_95b896ca330a41c8984a692dd5955369",
       "max": 20.0,
       "min": 0.0,
       "orientation": "horizontal",
       "style": "IPY_MODEL_d2c6eb8277654418b97a93fa7a43adc3",
       "value": 20.0
      }
     },
     "4c718cc1a82848d8b53b2da1754d6ce2": {
      "model_module": "@jupyter-widgets/controls",
      "model_module_version": "1.5.0",
      "model_name": "HBoxModel",
      "state": {
       "_dom_classes": [],
       "_model_module": "@jupyter-widgets/controls",
       "_model_module_version": "1.5.0",
       "_model_name": "HBoxModel",
       "_view_count": null,
       "_view_module": "@jupyter-widgets/controls",
       "_view_module_version": "1.5.0",
       "_view_name": "HBoxView",
       "box_style": "",
       "children": [
        "IPY_MODEL_a6e414f956c345ae8fcb3e7fbb0e0bcb",
        "IPY_MODEL_49b6fa7d1e1c4d75a1f06a8986746ed2",
        "IPY_MODEL_cad49ede9299439fbb2431b8172f0ada"
       ],
       "layout": "IPY_MODEL_b7e8898a44454804bc632ce386db20c1"
      }
     },
     "578343a9fdc1495c8d34d87c4728be5a": {
      "model_module": "@jupyter-widgets/base",
      "model_module_version": "1.2.0",
      "model_name": "LayoutModel",
      "state": {
       "_model_module": "@jupyter-widgets/base",
       "_model_module_version": "1.2.0",
       "_model_name": "LayoutModel",
       "_view_count": null,
       "_view_module": "@jupyter-widgets/base",
       "_view_module_version": "1.2.0",
       "_view_name": "LayoutView",
       "align_content": null,
       "align_items": null,
       "align_self": null,
       "border": null,
       "bottom": null,
       "display": null,
       "flex": null,
       "flex_flow": null,
       "grid_area": null,
       "grid_auto_columns": null,
       "grid_auto_flow": null,
       "grid_auto_rows": null,
       "grid_column": null,
       "grid_gap": null,
       "grid_row": null,
       "grid_template_areas": null,
       "grid_template_columns": null,
       "grid_template_rows": null,
       "height": null,
       "justify_content": null,
       "justify_items": null,
       "left": null,
       "margin": null,
       "max_height": null,
       "max_width": null,
       "min_height": null,
       "min_width": null,
       "object_fit": null,
       "object_position": null,
       "order": null,
       "overflow": null,
       "overflow_x": null,
       "overflow_y": null,
       "padding": null,
       "right": null,
       "top": null,
       "visibility": null,
       "width": null
      }
     },
     "95b896ca330a41c8984a692dd5955369": {
      "model_module": "@jupyter-widgets/base",
      "model_module_version": "1.2.0",
      "model_name": "LayoutModel",
      "state": {
       "_model_module": "@jupyter-widgets/base",
       "_model_module_version": "1.2.0",
       "_model_name": "LayoutModel",
       "_view_count": null,
       "_view_module": "@jupyter-widgets/base",
       "_view_module_version": "1.2.0",
       "_view_name": "LayoutView",
       "align_content": null,
       "align_items": null,
       "align_self": null,
       "border": null,
       "bottom": null,
       "display": null,
       "flex": null,
       "flex_flow": null,
       "grid_area": null,
       "grid_auto_columns": null,
       "grid_auto_flow": null,
       "grid_auto_rows": null,
       "grid_column": null,
       "grid_gap": null,
       "grid_row": null,
       "grid_template_areas": null,
       "grid_template_columns": null,
       "grid_template_rows": null,
       "height": null,
       "justify_content": null,
       "justify_items": null,
       "left": null,
       "margin": null,
       "max_height": null,
       "max_width": null,
       "min_height": null,
       "min_width": null,
       "object_fit": null,
       "object_position": null,
       "order": null,
       "overflow": null,
       "overflow_x": null,
       "overflow_y": null,
       "padding": null,
       "right": null,
       "top": null,
       "visibility": null,
       "width": null
      }
     },
     "a6e414f956c345ae8fcb3e7fbb0e0bcb": {
      "model_module": "@jupyter-widgets/controls",
      "model_module_version": "1.5.0",
      "model_name": "HTMLModel",
      "state": {
       "_dom_classes": [],
       "_model_module": "@jupyter-widgets/controls",
       "_model_module_version": "1.5.0",
       "_model_name": "HTMLModel",
       "_view_count": null,
       "_view_module": "@jupyter-widgets/controls",
       "_view_module_version": "1.5.0",
       "_view_name": "HTMLView",
       "description": "",
       "description_tooltip": null,
       "layout": "IPY_MODEL_578343a9fdc1495c8d34d87c4728be5a",
       "placeholder": "​",
       "style": "IPY_MODEL_33a72a438db8443791ae1a4afa0856bb",
       "value": "100%"
      }
     },
     "b7e8898a44454804bc632ce386db20c1": {
      "model_module": "@jupyter-widgets/base",
      "model_module_version": "1.2.0",
      "model_name": "LayoutModel",
      "state": {
       "_model_module": "@jupyter-widgets/base",
       "_model_module_version": "1.2.0",
       "_model_name": "LayoutModel",
       "_view_count": null,
       "_view_module": "@jupyter-widgets/base",
       "_view_module_version": "1.2.0",
       "_view_name": "LayoutView",
       "align_content": null,
       "align_items": null,
       "align_self": null,
       "border": null,
       "bottom": null,
       "display": null,
       "flex": null,
       "flex_flow": null,
       "grid_area": null,
       "grid_auto_columns": null,
       "grid_auto_flow": null,
       "grid_auto_rows": null,
       "grid_column": null,
       "grid_gap": null,
       "grid_row": null,
       "grid_template_areas": null,
       "grid_template_columns": null,
       "grid_template_rows": null,
       "height": null,
       "justify_content": null,
       "justify_items": null,
       "left": null,
       "margin": null,
       "max_height": null,
       "max_width": null,
       "min_height": null,
       "min_width": null,
       "object_fit": null,
       "object_position": null,
       "order": null,
       "overflow": null,
       "overflow_x": null,
       "overflow_y": null,
       "padding": null,
       "right": null,
       "top": null,
       "visibility": null,
       "width": null
      }
     },
     "cad49ede9299439fbb2431b8172f0ada": {
      "model_module": "@jupyter-widgets/controls",
      "model_module_version": "1.5.0",
      "model_name": "HTMLModel",
      "state": {
       "_dom_classes": [],
       "_model_module": "@jupyter-widgets/controls",
       "_model_module_version": "1.5.0",
       "_model_name": "HTMLModel",
       "_view_count": null,
       "_view_module": "@jupyter-widgets/controls",
       "_view_module_version": "1.5.0",
       "_view_name": "HTMLView",
       "description": "",
       "description_tooltip": null,
       "layout": "IPY_MODEL_0e3b5a3a59814dc5a3047edce3b24512",
       "placeholder": "​",
       "style": "IPY_MODEL_1b3defb962b74bfb8e6029e96cee617c",
       "value": " 20/20 [02:32&lt;00:00, 16.96s/it]"
      }
     },
     "d2c6eb8277654418b97a93fa7a43adc3": {
      "model_module": "@jupyter-widgets/controls",
      "model_module_version": "1.5.0",
      "model_name": "ProgressStyleModel",
      "state": {
       "_model_module": "@jupyter-widgets/controls",
       "_model_module_version": "1.5.0",
       "_model_name": "ProgressStyleModel",
       "_view_count": null,
       "_view_module": "@jupyter-widgets/base",
       "_view_module_version": "1.2.0",
       "_view_name": "StyleView",
       "bar_color": null,
       "description_width": ""
      }
     }
    },
    "version_major": 2,
    "version_minor": 0
   }
  }
 },
 "nbformat": 4,
 "nbformat_minor": 5
}