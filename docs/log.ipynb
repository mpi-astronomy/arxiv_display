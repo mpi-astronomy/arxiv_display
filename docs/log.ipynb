{
 "cells": [
  {
   "cell_type": "markdown",
   "id": "92bcb855",
   "metadata": {
    "papermill": {
     "duration": 0.005315,
     "end_time": "2022-12-14T04:07:24.463016",
     "exception": false,
     "start_time": "2022-12-14T04:07:24.457701",
     "status": "completed"
    },
    "tags": []
   },
   "source": [
    "# MPIA Arxiv on Deck 2\n",
    "\n",
    "Contains the steps to produce the paper extractions."
   ]
  },
  {
   "cell_type": "code",
   "execution_count": 1,
   "id": "3a0d6e11",
   "metadata": {
    "execution": {
     "iopub.execute_input": "2022-12-14T04:07:24.472948Z",
     "iopub.status.busy": "2022-12-14T04:07:24.472236Z",
     "iopub.status.idle": "2022-12-14T04:07:24.674528Z",
     "shell.execute_reply": "2022-12-14T04:07:24.673829Z"
    },
    "papermill": {
     "duration": 0.209383,
     "end_time": "2022-12-14T04:07:24.676568",
     "exception": false,
     "start_time": "2022-12-14T04:07:24.467185",
     "status": "completed"
    },
    "tags": []
   },
   "outputs": [],
   "source": [
    "# Imports\n",
    "import os\n",
    "from IPython.display import Markdown, display\n",
    "from tqdm.notebook import tqdm\n",
    "import warnings\n",
    "from PIL import Image \n",
    "\n",
    "# requires arxiv_on_deck_2\n",
    "\n",
    "from arxiv_on_deck_2.arxiv2 import (get_new_papers, \n",
    "                                    get_paper_from_identifier,\n",
    "                                    retrieve_document_source, \n",
    "                                    get_markdown_badge)\n",
    "from arxiv_on_deck_2 import (latex, \n",
    "                             mpia,\n",
    "                             highlight_authors_in_list)\n",
    "\n",
    "# Sometimes images are really big\n",
    "Image.MAX_IMAGE_PIXELS = 1000000000 "
   ]
  },
  {
   "cell_type": "code",
   "execution_count": 2,
   "id": "22aa9d44",
   "metadata": {
    "execution": {
     "iopub.execute_input": "2022-12-14T04:07:24.686357Z",
     "iopub.status.busy": "2022-12-14T04:07:24.685729Z",
     "iopub.status.idle": "2022-12-14T04:07:24.690631Z",
     "shell.execute_reply": "2022-12-14T04:07:24.689980Z"
    },
    "papermill": {
     "duration": 0.011487,
     "end_time": "2022-12-14T04:07:24.692166",
     "exception": false,
     "start_time": "2022-12-14T04:07:24.680679",
     "status": "completed"
    },
    "tags": []
   },
   "outputs": [],
   "source": [
    "# Some useful definitions.\n",
    "\n",
    "class AffiliationWarning(UserWarning):\n",
    "    pass\n",
    "\n",
    "class AffiliationError(RuntimeError):\n",
    "    pass\n",
    "\n",
    "def validation(source: str):\n",
    "    \"\"\"Raises error paper during parsing of source file\n",
    "    \n",
    "    Allows checks before parsing TeX code.\n",
    "    \n",
    "    Raises AffiliationWarning\n",
    "    \"\"\"\n",
    "    check = mpia.affiliation_verifications(source, verbose=True)\n",
    "    if check is not True:\n",
    "        raise AffiliationError(\"mpia.affiliation_verifications: \" + check)\n",
    "\n",
    "        \n",
    "warnings.simplefilter('always', AffiliationWarning)"
   ]
  },
  {
   "cell_type": "code",
   "execution_count": 3,
   "id": "14622700",
   "metadata": {
    "execution": {
     "iopub.execute_input": "2022-12-14T04:07:24.700892Z",
     "iopub.status.busy": "2022-12-14T04:07:24.700462Z",
     "iopub.status.idle": "2022-12-14T04:07:24.704112Z",
     "shell.execute_reply": "2022-12-14T04:07:24.703496Z"
    },
    "papermill": {
     "duration": 0.009961,
     "end_time": "2022-12-14T04:07:24.705874",
     "exception": false,
     "start_time": "2022-12-14T04:07:24.695913",
     "status": "completed"
    },
    "tags": []
   },
   "outputs": [],
   "source": [
    "# additional CSS to consider. \n",
    "# TODO: Current into each exported file. \n",
    "#       This should be set once into the webpages directly.\n",
    "#       With only the class/id definitions in the .md files.\n",
    "\n",
    "debug_html = \"\"\"\n",
    "<style>\n",
    "#wrap{ overflow:auto; }\n",
    "#fig1{ background:yellow; width:100%; float:left; padding:5px;  }\n",
    "#fig2{ background:red; width:50%; float:left; clear:left; padding:5px;  }\n",
    "#fig3{ background:green; width:50%; float:left; padding:5px;   }\n",
    ".macros{ background:yellow; visibility:visible;}\n",
    "h1 {margin: 0 0 0 0;}\n",
    "mark {background-color:#fff3b6;}\n",
    "img {object-fit:contain; max-height:250px; display:inline-block; text-align: center;}\n",
    "</style>\n",
    "\"\"\" \n",
    "html = \"\"\"\n",
    "<style>\n",
    "#wrap{ overflow:auto; }\n",
    "#fig1{ width:100%; float:left; padding: 5px;  }\n",
    "#fig2{ width:50%; float:left; clear:left; padding: 5px;  }\n",
    "#fig3{ width:50%; float:left; padding: 5px;  }\n",
    ".macros{ visibility:hidden; height:0px; }\n",
    "h1 {margin: 0em 0 0 0;}\n",
    "mark {background-color:#fff3b6;}\n",
    "img {object-fit:contain; max-height:250px; display:inline-block; text-align: center;}\n",
    "</style>\n",
    "\"\"\""
   ]
  },
  {
   "cell_type": "markdown",
   "id": "14bd6310",
   "metadata": {
    "papermill": {
     "duration": 0.003695,
     "end_time": "2022-12-14T04:07:24.713404",
     "exception": false,
     "start_time": "2022-12-14T04:07:24.709709",
     "status": "completed"
    },
    "tags": []
   },
   "source": [
    "## get list of arxiv paper candidates\n",
    "\n",
    "We use the MPIA mitarbeiter list webpage from mpia.de to get author names\n",
    "We then get all new papers from Arxiv and match authors"
   ]
  },
  {
   "cell_type": "code",
   "execution_count": 4,
   "id": "2645e73a",
   "metadata": {
    "execution": {
     "iopub.execute_input": "2022-12-14T04:07:24.722420Z",
     "iopub.status.busy": "2022-12-14T04:07:24.721855Z",
     "iopub.status.idle": "2022-12-14T04:07:48.289898Z",
     "shell.execute_reply": "2022-12-14T04:07:48.289044Z"
    },
    "papermill": {
     "duration": 23.57465,
     "end_time": "2022-12-14T04:07:48.291840",
     "exception": false,
     "start_time": "2022-12-14T04:07:24.717190",
     "status": "completed"
    },
    "tags": []
   },
   "outputs": [
    {
     "name": "stdout",
     "output_type": "stream",
     "text": [
      "Arxiv has 58 new papers today\n",
      "          21 with possible author matches\n"
     ]
    }
   ],
   "source": [
    "# get list from MPIA website\n",
    "# it automatically filters identified non-scientists :func:`mpia.filter_non_scientists`\n",
    "mpia_authors = mpia.get_mpia_mitarbeiter_list()\n",
    "new_papers = get_new_papers()\n",
    "# add manual references\n",
    "add_paper_refs = []\n",
    "new_papers.extend([get_paper_from_identifier(k) for k in add_paper_refs])\n",
    "\n",
    "# select only papers with matching author names and highlight authors\n",
    "hl_list = [k[0] for k in mpia_authors]\n",
    "\n",
    "candidates = []\n",
    "for paperk in new_papers:\n",
    "    hl_authors = highlight_authors_in_list(paperk['authors'], hl_list)\n",
    "    matches = [(hl, orig) for hl, orig in zip(hl_authors, paperk['authors']) if 'mark' in hl]\n",
    "    paperk['authors'] = hl_authors\n",
    "    if matches:\n",
    "        candidates.append(paperk)\n",
    "print(\"\"\"Arxiv has {0:,d} new papers today\"\"\".format(len(new_papers)))        \n",
    "print(\"\"\"          {0:,d} with possible author matches\"\"\".format(len(candidates)))"
   ]
  },
  {
   "cell_type": "markdown",
   "id": "3543b34a",
   "metadata": {
    "papermill": {
     "duration": 0.004154,
     "end_time": "2022-12-14T04:07:48.300721",
     "exception": false,
     "start_time": "2022-12-14T04:07:48.296567",
     "status": "completed"
    },
    "tags": []
   },
   "source": [
    "# Parse sources and generate relevant outputs\n",
    "\n",
    "From the candidates, we do the following steps:\n",
    "* get their tarball from ArXiv (and extract data)\n",
    "* find the main .tex file: find one with \\documentclass{...} (sometimes it's non trivial)\n",
    "* Check affiliations with :func:`validation`, which uses :func:`mpia.affiliation_verifications`\n",
    "* If passing the affiliations: we parse the .tex source\n",
    "   * inject sub-documents into the main (flatten the main document)\n",
    "   * parse structure, extract information (title, abstract, authors, figures...)\n",
    "   * handles `\\graphicspath` if provided\n",
    "* Generate the .md document."
   ]
  },
  {
   "cell_type": "code",
   "execution_count": 5,
   "id": "9576b79e",
   "metadata": {
    "execution": {
     "iopub.execute_input": "2022-12-14T04:07:48.310296Z",
     "iopub.status.busy": "2022-12-14T04:07:48.309585Z",
     "iopub.status.idle": "2022-12-14T04:08:34.606181Z",
     "shell.execute_reply": "2022-12-14T04:08:34.604130Z"
    },
    "papermill": {
     "duration": 46.303593,
     "end_time": "2022-12-14T04:08:34.608248",
     "exception": false,
     "start_time": "2022-12-14T04:07:48.304655",
     "status": "completed"
    },
    "scrolled": false,
    "tags": []
   },
   "outputs": [
    {
     "data": {
      "application/vnd.jupyter.widget-view+json": {
       "model_id": "eb97002205fd491fb116befaf520c5e5",
       "version_major": 2,
       "version_minor": 0
      },
      "text/plain": [
       "  0%|          | 0/20 [00:00<?, ?it/s]"
      ]
     },
     "metadata": {},
     "output_type": "display_data"
    },
    {
     "name": "stdout",
     "output_type": "stream",
     "text": [
      "Retrieving document from  https://arxiv.org/e-print/2212.06161\n"
     ]
    },
    {
     "name": "stdout",
     "output_type": "stream",
     "text": [
      "extracting tarball to tmp_2212.06161..."
     ]
    },
    {
     "name": "stdout",
     "output_type": "stream",
     "text": [
      " done.\n",
      "Retrieving document from  https://arxiv.org/e-print/2212.06168\n"
     ]
    },
    {
     "name": "stdout",
     "output_type": "stream",
     "text": [
      "extracting tarball to tmp_2212.06168... done.\n",
      "Retrieving document from  https://arxiv.org/e-print/2212.06174\n"
     ]
    },
    {
     "name": "stdout",
     "output_type": "stream",
     "text": [
      "extracting tarball to tmp_2212.06174..."
     ]
    },
    {
     "name": "stdout",
     "output_type": "stream",
     "text": [
      " done.\n",
      "Retrieving document from  https://arxiv.org/e-print/2212.06183\n"
     ]
    },
    {
     "name": "stdout",
     "output_type": "stream",
     "text": [
      "extracting tarball to tmp_2212.06183... done.\n",
      "Retrieving document from  https://arxiv.org/e-print/2212.06184\n"
     ]
    },
    {
     "name": "stderr",
     "output_type": "stream",
     "text": [
      "/opt/hostedtoolcache/Python/3.9.15/x64/lib/python3.9/site-packages/IPython/core/interactiveshell.py:3433: LatexWarning: Multiple tex files.\n",
      "\n",
      "  exec(code_obj, self.user_global_ns, self.user_ns)\n",
      "/opt/hostedtoolcache/Python/3.9.15/x64/lib/python3.9/site-packages/IPython/core/interactiveshell.py:3433: LatexWarning: Found documentclass in tmp_2212.06183/Super-Eddington-I.tex\n",
      "\n",
      "  exec(code_obj, self.user_global_ns, self.user_ns)\n"
     ]
    },
    {
     "name": "stdout",
     "output_type": "stream",
     "text": [
      "extracting tarball to tmp_2212.06184..."
     ]
    },
    {
     "name": "stdout",
     "output_type": "stream",
     "text": [
      " done.\n"
     ]
    },
    {
     "name": "stderr",
     "output_type": "stream",
     "text": [
      "/opt/hostedtoolcache/Python/3.9.15/x64/lib/python3.9/site-packages/arxiv_on_deck_2/latex.py:366: LatexWarning: Error parsing the document directly. Trying to recover.\n",
      "  warnings.warn(LatexWarning(f\"Error parsing the document directly. Trying to recover.\"))\n"
     ]
    },
    {
     "name": "stdout",
     "output_type": "stream",
     "text": [
      "✘ → 0:header\n",
      "  ↳ 3967:\\section{Introduction}\n"
     ]
    },
    {
     "name": "stdout",
     "output_type": "stream",
     "text": [
      "✔ → 3967:\\section{Introduction}\n",
      "  ↳ 10967:\\section{The axisymmetric equilibrium galaxy model}\n"
     ]
    },
    {
     "name": "stdout",
     "output_type": "stream",
     "text": [
      "✔ → 10967:\\section{The axisymmetric equilibrium galaxy model}\n",
      "  ↳ 22658:\\section{The barred galaxy model}\n"
     ]
    },
    {
     "name": "stdout",
     "output_type": "stream",
     "text": [
      "✔ → 22658:\\section{The barred galaxy model}\n",
      "  ↳ 34831:\\section{RoadMapping modelling of mock datasets}\n"
     ]
    },
    {
     "name": "stdout",
     "output_type": "stream",
     "text": [
      "✔ → 34831:\\section{RoadMapping modelling of mock datasets}\n",
      "  ↳ 42112:\\section{Results}\n"
     ]
    },
    {
     "name": "stdout",
     "output_type": "stream",
     "text": [
      "✘ → 42112:\\section{Results}\n",
      "  ↳ 81113:\\section{Discussion}\n",
      "✔ → 81113:\\section{Discussion}\n",
      "  ↳ 86789:\\section{Summary}\n"
     ]
    },
    {
     "name": "stdout",
     "output_type": "stream",
     "text": [
      "✔ → 86789:\\section{Summary}\n",
      "  ↳ 90336:end\n",
      "Retrieving document from  https://arxiv.org/e-print/2212.06195\n"
     ]
    },
    {
     "name": "stderr",
     "output_type": "stream",
     "text": [
      "/tmp/ipykernel_2138/4030337529.py:34: LatexWarning: 2212.06184 did not run properly\n",
      "list index out of range\n",
      "  warnings.warn(latex.LatexWarning(f\"{paper_id:s} did not run properly\\n\" +\n"
     ]
    },
    {
     "name": "stdout",
     "output_type": "stream",
     "text": [
      "extracting tarball to tmp_2212.06195..."
     ]
    },
    {
     "name": "stdout",
     "output_type": "stream",
     "text": [
      " done.\n",
      "Retrieving document from  https://arxiv.org/e-print/2212.06238\n"
     ]
    },
    {
     "name": "stderr",
     "output_type": "stream",
     "text": [
      "/opt/hostedtoolcache/Python/3.9.15/x64/lib/python3.9/site-packages/IPython/core/interactiveshell.py:3433: LatexWarning: Multiple tex files.\n",
      "\n",
      "  exec(code_obj, self.user_global_ns, self.user_ns)\n",
      "/opt/hostedtoolcache/Python/3.9.15/x64/lib/python3.9/site-packages/IPython/core/interactiveshell.py:3433: LatexWarning: Found documentclass in tmp_2212.06195/sup_tables.tex\n",
      "\n",
      "  exec(code_obj, self.user_global_ns, self.user_ns)\n"
     ]
    },
    {
     "name": "stdout",
     "output_type": "stream",
     "text": [
      "extracting tarball to tmp_2212.06238..."
     ]
    },
    {
     "name": "stdout",
     "output_type": "stream",
     "text": [
      " done.\n",
      "Retrieving document from  https://arxiv.org/e-print/2212.06266\n"
     ]
    },
    {
     "name": "stdout",
     "output_type": "stream",
     "text": [
      "extracting tarball to tmp_2212.06266... done.\n",
      "Retrieving document from  https://arxiv.org/e-print/2212.06305\n"
     ]
    },
    {
     "name": "stdout",
     "output_type": "stream",
     "text": [
      "extracting tarball to tmp_2212.06305... done.\n",
      "Retrieving document from  https://arxiv.org/e-print/2212.06399\n"
     ]
    },
    {
     "name": "stdout",
     "output_type": "stream",
     "text": [
      "extracting tarball to tmp_2212.06399..."
     ]
    },
    {
     "name": "stdout",
     "output_type": "stream",
     "text": [
      " done.\n",
      "Retrieving document from  https://arxiv.org/e-print/2212.06434\n"
     ]
    },
    {
     "name": "stdout",
     "output_type": "stream",
     "text": [
      "extracting tarball to tmp_2212.06434..."
     ]
    },
    {
     "name": "stdout",
     "output_type": "stream",
     "text": [
      " done.\n"
     ]
    },
    {
     "name": "stdout",
     "output_type": "stream",
     "text": [
      "Retrieving document from  https://arxiv.org/e-print/2212.06439\n"
     ]
    },
    {
     "name": "stdout",
     "output_type": "stream",
     "text": [
      "extracting tarball to tmp_2212.06439..."
     ]
    },
    {
     "name": "stdout",
     "output_type": "stream",
     "text": [
      " done.\n",
      "Retrieving document from  https://arxiv.org/e-print/2212.06507\n"
     ]
    },
    {
     "name": "stderr",
     "output_type": "stream",
     "text": [
      "/opt/hostedtoolcache/Python/3.9.15/x64/lib/python3.9/site-packages/IPython/core/interactiveshell.py:3433: LatexWarning: Multiple tex files.\n",
      "\n",
      "  exec(code_obj, self.user_global_ns, self.user_ns)\n",
      "/opt/hostedtoolcache/Python/3.9.15/x64/lib/python3.9/site-packages/IPython/core/interactiveshell.py:3433: LatexWarning: Found documentclass in tmp_2212.06439/largescale_density_velocity_neural_nets.tex\n",
      "\n",
      "  exec(code_obj, self.user_global_ns, self.user_ns)\n",
      "/opt/hostedtoolcache/Python/3.9.15/x64/lib/python3.9/site-packages/arxiv_on_deck_2/latex.py:292: LatexWarning: Latex injecting: 'tikzpic/ZHL' from 'tmp_2212.06439/tikzpic/ZHL.tex'\n",
      "  warnings.warn(LatexWarning(f\"Latex injecting: '{ext}' from '{subsource}'\"))\n"
     ]
    },
    {
     "name": "stdout",
     "output_type": "stream",
     "text": [
      "extracting tarball to tmp_2212.06507..."
     ]
    },
    {
     "name": "stdout",
     "output_type": "stream",
     "text": [
      " done.\n",
      "Retrieving document from  https://arxiv.org/e-print/2212.06517\n"
     ]
    },
    {
     "name": "stdout",
     "output_type": "stream",
     "text": [
      "extracting tarball to tmp_2212.06517..."
     ]
    },
    {
     "name": "stdout",
     "output_type": "stream",
     "text": [
      " done.\n"
     ]
    },
    {
     "name": "stderr",
     "output_type": "stream",
     "text": [
      "/opt/hostedtoolcache/Python/3.9.15/x64/lib/python3.9/site-packages/arxiv_on_deck_2/latex.py:118: LatexWarning: attempting recovering figure figures/idl.eps\n",
      "  warnings.warn(LatexWarning(f'attempting recovering figure {image}'))\n",
      "/tmp/ipykernel_2138/4030337529.py:34: LatexWarning: 2212.06517 did not run properly\n",
      "Could not find figure figures/idl.eps\n",
      "  warnings.warn(latex.LatexWarning(f\"{paper_id:s} did not run properly\\n\" +\n"
     ]
    },
    {
     "name": "stdout",
     "output_type": "stream",
     "text": [
      "Retrieving document from  https://arxiv.org/e-print/2212.06585\n"
     ]
    },
    {
     "name": "stdout",
     "output_type": "stream",
     "text": [
      "extracting tarball to tmp_2212.06585..."
     ]
    },
    {
     "name": "stdout",
     "output_type": "stream",
     "text": [
      " done.\n",
      "Retrieving document from  https://arxiv.org/e-print/2212.06598\n"
     ]
    },
    {
     "name": "stderr",
     "output_type": "stream",
     "text": [
      "/opt/hostedtoolcache/Python/3.9.15/x64/lib/python3.9/site-packages/IPython/core/interactiveshell.py:3433: LatexWarning: Multiple tex files.\n",
      "\n",
      "  exec(code_obj, self.user_global_ns, self.user_ns)\n",
      "/opt/hostedtoolcache/Python/3.9.15/x64/lib/python3.9/site-packages/IPython/core/interactiveshell.py:3433: LatexWarning: Found documentclass in tmp_2212.06585/main.tex\n",
      "\n",
      "  exec(code_obj, self.user_global_ns, self.user_ns)\n",
      "/opt/hostedtoolcache/Python/3.9.15/x64/lib/python3.9/site-packages/arxiv_on_deck_2/latex.py:292: LatexWarning: Latex injecting: 'tables/length' from 'tmp_2212.06585/tables/length.tex'\n",
      "  warnings.warn(LatexWarning(f\"Latex injecting: '{ext}' from '{subsource}'\"))\n",
      "/opt/hostedtoolcache/Python/3.9.15/x64/lib/python3.9/site-packages/arxiv_on_deck_2/latex.py:292: LatexWarning: Latex injecting: 'tables/fitting' from 'tmp_2212.06585/tables/fitting.tex'\n",
      "  warnings.warn(LatexWarning(f\"Latex injecting: '{ext}' from '{subsource}'\"))\n"
     ]
    },
    {
     "name": "stdout",
     "output_type": "stream",
     "text": [
      "extracting tarball to tmp_2212.06598..."
     ]
    },
    {
     "name": "stdout",
     "output_type": "stream",
     "text": [
      " done.\n",
      "Retrieving document from  https://arxiv.org/e-print/2212.06622\n"
     ]
    },
    {
     "name": "stdout",
     "output_type": "stream",
     "text": [
      "extracting tarball to tmp_2212.06622... done.\n",
      "Retrieving document from  https://arxiv.org/e-print/2212.06666\n"
     ]
    },
    {
     "name": "stdout",
     "output_type": "stream",
     "text": [
      "extracting tarball to tmp_2212.06666..."
     ]
    },
    {
     "name": "stdout",
     "output_type": "stream",
     "text": [
      " done.\n",
      "Retrieving document from  https://arxiv.org/e-print/2212.06683\n"
     ]
    },
    {
     "name": "stderr",
     "output_type": "stream",
     "text": [
      "/opt/hostedtoolcache/Python/3.9.15/x64/lib/python3.9/site-packages/IPython/core/interactiveshell.py:3433: LatexWarning: Multiple tex files.\n",
      "\n",
      "  exec(code_obj, self.user_global_ns, self.user_ns)\n",
      "/opt/hostedtoolcache/Python/3.9.15/x64/lib/python3.9/site-packages/IPython/core/interactiveshell.py:3433: LatexWarning: Found documentclass in tmp_2212.06666/natbib.tex\n",
      "\n",
      "  exec(code_obj, self.user_global_ns, self.user_ns)\n"
     ]
    },
    {
     "name": "stdout",
     "output_type": "stream",
     "text": [
      "extracting tarball to tmp_2212.06683... done.\n",
      "Retrieving document from  https://arxiv.org/e-print/2212.06791\n"
     ]
    },
    {
     "name": "stdout",
     "output_type": "stream",
     "text": [
      "extracting tarball to tmp_2212.06791..."
     ]
    },
    {
     "name": "stdout",
     "output_type": "stream",
     "text": [
      " done.\n"
     ]
    },
    {
     "name": "stderr",
     "output_type": "stream",
     "text": [
      "/opt/hostedtoolcache/Python/3.9.15/x64/lib/python3.9/site-packages/IPython/core/interactiveshell.py:3433: LatexWarning: Multiple tex files.\n",
      "\n",
      "  exec(code_obj, self.user_global_ns, self.user_ns)\n",
      "/opt/hostedtoolcache/Python/3.9.15/x64/lib/python3.9/site-packages/IPython/core/interactiveshell.py:3433: LatexWarning: Found documentclass in tmp_2212.06791/paper1.tex\n",
      "\n",
      "  exec(code_obj, self.user_global_ns, self.user_ns)\n",
      "/opt/hostedtoolcache/Python/3.9.15/x64/lib/python3.9/site-packages/arxiv_on_deck_2/latex.py:292: LatexWarning: Latex injecting: 'TablaHerbig' from 'tmp_2212.06791/TablaHerbig.tex'\n",
      "  warnings.warn(LatexWarning(f\"Latex injecting: '{ext}' from '{subsource}'\"))\n",
      "/opt/hostedtoolcache/Python/3.9.15/x64/lib/python3.9/site-packages/arxiv_on_deck_2/latex.py:292: LatexWarning: Latex injecting: 'Tabla3' from 'tmp_2212.06791/Tabla3.tex'\n",
      "  warnings.warn(LatexWarning(f\"Latex injecting: '{ext}' from '{subsource}'\"))\n",
      "/opt/hostedtoolcache/Python/3.9.15/x64/lib/python3.9/site-packages/arxiv_on_deck_2/latex.py:292: LatexWarning: Latex injecting: 'Tabla2' from 'tmp_2212.06791/Tabla2.tex'\n",
      "  warnings.warn(LatexWarning(f\"Latex injecting: '{ext}' from '{subsource}'\"))\n",
      "/opt/hostedtoolcache/Python/3.9.15/x64/lib/python3.9/site-packages/arxiv_on_deck_2/latex.py:292: LatexWarning: Latex injecting: 'TablaLiter' from 'tmp_2212.06791/TablaLiter.tex'\n",
      "  warnings.warn(LatexWarning(f\"Latex injecting: '{ext}' from '{subsource}'\"))\n",
      "/opt/hostedtoolcache/Python/3.9.15/x64/lib/python3.9/site-packages/arxiv_on_deck_2/latex.py:292: LatexWarning: Latex injecting: 'TablaData' from 'tmp_2212.06791/TablaData.tex'\n",
      "  warnings.warn(LatexWarning(f\"Latex injecting: '{ext}' from '{subsource}'\"))\n"
     ]
    }
   ],
   "source": [
    "documents = []\n",
    "failed = []\n",
    "for paper in tqdm(candidates[:-1]):\n",
    "    paper_id = paper['identifier'].lower().replace('arxiv:', '')\n",
    "    \n",
    "    folder = f'tmp_{paper_id}'\n",
    "\n",
    "    try:\n",
    "        if not os.path.isdir(folder):\n",
    "            folder = retrieve_document_source(f\"{paper_id}\", f'tmp_{paper_id}')\n",
    "        \n",
    "        try:\n",
    "            doc = latex.LatexDocument(folder, validation=validation)    \n",
    "        except AffiliationError as affilerror:\n",
    "            msg = f\"ArXiv:{paper_id:s} is not an MPIA paper... \" + str(affilerror)\n",
    "            failed.append((paper, \"affiliation error: \" + str(affilerror) ))\n",
    "            continue\n",
    "        \n",
    "        # Hack because sometimes author parsing does not work well\n",
    "        if (len(doc.authors) != len(paper['authors'])):\n",
    "            doc._authors = paper['authors']\n",
    "        if (doc.abstract) in (None, ''):\n",
    "            doc._abstract = paper['abstract']\n",
    "            \n",
    "        doc.comment = (get_markdown_badge(paper_id) + \n",
    "                       \"<mark>Appeared on: \" + paper['date'] + \"</mark> - \" +\n",
    "                       \"_\" + paper['comments'] + \"_\")\n",
    "        doc.highlight_authors_in_list(hl_list)\n",
    "\n",
    "        full_md = doc.generate_markdown_text()\n",
    "        \n",
    "        documents.append((paper_id, full_md))\n",
    "    except Exception as e:\n",
    "        warnings.warn(latex.LatexWarning(f\"{paper_id:s} did not run properly\\n\" +\n",
    "                                         str(e)\n",
    "                                        ))\n",
    "        failed.append((paper, \"latex error \" + str(e)))"
   ]
  },
  {
   "cell_type": "markdown",
   "id": "2505a25c",
   "metadata": {
    "papermill": {
     "duration": 0.006683,
     "end_time": "2022-12-14T04:08:34.621935",
     "exception": false,
     "start_time": "2022-12-14T04:08:34.615252",
     "status": "completed"
    },
    "tags": []
   },
   "source": [
    "### Export the logs\n",
    "\n",
    "Throughout, we also keep track of the logs per paper. see `logs-{today date}.md` "
   ]
  },
  {
   "cell_type": "code",
   "execution_count": 6,
   "id": "d733828a",
   "metadata": {
    "execution": {
     "iopub.execute_input": "2022-12-14T04:08:34.636790Z",
     "iopub.status.busy": "2022-12-14T04:08:34.636239Z",
     "iopub.status.idle": "2022-12-14T04:08:34.667429Z",
     "shell.execute_reply": "2022-12-14T04:08:34.666768Z"
    },
    "papermill": {
     "duration": 0.040438,
     "end_time": "2022-12-14T04:08:34.668966",
     "exception": false,
     "start_time": "2022-12-14T04:08:34.628528",
     "status": "completed"
    },
    "scrolled": false,
    "tags": []
   },
   "outputs": [
    {
     "data": {
      "text/markdown": [
       "## Successful papers"
      ],
      "text/plain": [
       "<IPython.core.display.Markdown object>"
      ]
     },
     "metadata": {},
     "output_type": "display_data"
    },
    {
     "data": {
      "text/markdown": [
       "\n",
       "|||\n",
       "|---:|:---|\n",
       "| [![arXiv](https://img.shields.io/badge/arXiv-arXiv:2212.06434-b31b1b.svg)](https://arxiv.org/abs/arXiv:2212.06434) | **PHANGS--JWST First Results: ISM structure on the turbulent Jeans scale  in four disk galaxies observed by JWST and ALMA**  |\n",
       "|| Sharon E. Meidt, et al. -- incl., <mark>Eva Schinnerer</mark>, <mark>Janice C. Lee</mark>, <mark>Frank Bigiel</mark>, <mark>Jonathan D. Henshaw</mark>, <mark>Daizhong Liu</mark>, <mark>Rowan J. Smith</mark> |\n",
       "|*Appeared on*| *2022-12-14*|\n",
       "|*Comments*| *15 pages, 4 figures. Accepted as part of a PHANGS-JWST ApJL Focus Issue*|\n",
       "|**Abstract**| JWST/MIRI imaging of the nearby galaxies IC 5332, NGC 628, NGC 1365 and NGC 7496 from PHANGS reveals a richness of gas structures that in each case form a quasi-regular network of interconnected filaments, shells and voids. We examine whether this multi-scale network of structure is consistent with the fragmentation of the gas disk through gravitational instability. We use FilFinder to detect the web of filamentary features in each galaxy and determine their characteristic radial and azimuthal spacings. These spacings are then compared to estimates of the most Toomre-unstable length (a few kpc), the turbulent Jeans length (a few hundred pc) and the disk scale height (tens of pc) reconstructed using PHANGS-ALMA observations of the molecular gas as a dynamical tracer. Our analysis of the four galaxies targeted in this work indicates that Jeans-scale structure is pervasive. Future work will be essential for determining how the structure observed in gas disks impacts not only the rate and location of star formation but also how stellar feedback interacts positively or negatively with the surrounding multi-phase gas reservoir. |"
      ],
      "text/plain": [
       "[arXiv:2212.06434] PHANGS--JWST First Results: ISM structure on the turbulent Jeans scale  in four disk galaxies observed by JWST and ALMA\n",
       "\tSharon E. Meidt, et al. -- incl., <mark>Eva Schinnerer</mark>, <mark>Janice C. Lee</mark>, <mark>Frank Bigiel</mark>, <mark>Jonathan D. Henshaw</mark>, <mark>Daizhong Liu</mark>, <mark>Rowan J. Smith</mark>"
      ]
     },
     "metadata": {},
     "output_type": "display_data"
    },
    {
     "data": {
      "text/markdown": [
       "## Failed papers"
      ],
      "text/plain": [
       "<IPython.core.display.Markdown object>"
      ]
     },
     "metadata": {},
     "output_type": "display_data"
    },
    {
     "data": {
      "text/markdown": [
       "\n",
       "|||\n",
       "|---:|:---|\n",
       "| [![arXiv](https://img.shields.io/badge/arXiv-arXiv:2212.06598-b31b1b.svg)](https://arxiv.org/abs/arXiv:2212.06598) | **Synthetic dust polarization emission maps at 353 GHz for an observer  placed inside a Local Bubble-like cavity**  |\n",
       "|| E. Maconi, et al. -- incl., <mark>P. Hennebelle</mark>, <mark>R. J. Smith</mark> |\n",
       "|*Appeared on*| *2022-12-14*|\n",
       "|*Comments*| **|\n",
       "|**Abstract**| We present a study of synthetic observations of polarized dust emission at 353 GHz as seen by an observer within a cavity. The cavity's physical properties are comparable to the Local Bubble in which the Solar System is embedded. We find that the combination of the local density enhancement and the coherent magnetic field in the walls of the cavity makes the Local Bubble a translucent polarization filter to the emission coming from beyond its domains. This underlines the importance of studying the Local Bubble in detail, as it is a foreground screen to Galactic astronomy and cosmology. We find that the magnetic field lines inferred from synthetic dust polarization data are qualitatively in agreement, at low and middle latitudes (|b|<60 deg), with the all-sky maps of polarized emission at 353 GHz by the Planck satellite. This is in agreement with current models of the magnetic field structure in the Local Bubble walls. However, we also find that the polarized signal coming from the selected cavity is insufficient to explain the regular polarization orientation patterns observed by Planck toward the polar Galactic caps. This may be due to the advanced stage of evolution of the candidate bubble and to the limited simulation domain. Finally, we show that from our synthetic polarization maps, it is difficult to distinguish between an open and a closed Galactic cap using the inferred magnetic field morphology alone. |\n",
       "|<p style=\"color:green\"> **ERROR** </p>| <p style=\"color:green\">affiliation error: mpia.affiliation_verifications: '69117' keyword not found.</p> |"
      ],
      "text/plain": [
       "<IPython.core.display.Markdown object>"
      ]
     },
     "metadata": {},
     "output_type": "display_data"
    },
    {
     "data": {
      "text/markdown": [
       "\n",
       "|||\n",
       "|---:|:---|\n",
       "| [![arXiv](https://img.shields.io/badge/arXiv-arXiv:2212.06161-b31b1b.svg)](https://arxiv.org/abs/arXiv:2212.06161) | **Common envelope evolution and triple dynamics as potential pathways to  form the inner white dwarf + brown dwarf binary of the triple star system  Gaia 0007-1605**  |\n",
       "|| F. Lagos, M. Zorotovic, <mark>M. R. Schreiber</mark>, B. T. Gänsicke |\n",
       "|*Appeared on*| *2022-12-14*|\n",
       "|*Comments*| *7 pages, 4 figures; accepted for publication in MNRAS*|\n",
       "|**Abstract**| The recently discovered system Gaia 0007-1605 consisting of a white dwarf with a close brown dwarf companion and a distant white dwarf tertiary very much resembles the triple system containing the first transiting planet candidate around a white dwarf ever discovered: WD 1856+534. We have previously argued that the inner binary in WD 1856+534 most likely formed through common envelope evolution but triple star dynamics represent an alternative scenario. Here we analyze different formation scenarios for Gaia 0007-1605. We reconstructed the potential common envelope evolution of the system and find that assuming standard parameters for the energy budget provides a reasonable solution. In agreement with other close white dwarf + brown dwarf binaries, and in contrast to WD 1856+534, no energy sources other than orbital energy during common envelope evolution are required to understand the current configuration of the system. In addition, using analytical prescriptions for triple dynamics, we show that Von Zeipel-Lidov-Kozai oscillations might have trigger tidal migration due to high eccentricity incursions (e \\gtrsim 0.997). We conclude that the inner binary in Gaia 0007-1605, as its sibling WD 1856+534, formed either through common envelope evolution, triple dynamics or a combination of both mechanisms. |\n",
       "|<p style=\"color:green\"> **ERROR** </p>| <p style=\"color:green\">affiliation error: mpia.affiliation_verifications: 'Heidelberg' keyword not found.</p> |"
      ],
      "text/plain": [
       "<IPython.core.display.Markdown object>"
      ]
     },
     "metadata": {},
     "output_type": "display_data"
    },
    {
     "data": {
      "text/markdown": [
       "\n",
       "|||\n",
       "|---:|:---|\n",
       "| [![arXiv](https://img.shields.io/badge/arXiv-arXiv:2212.06168-b31b1b.svg)](https://arxiv.org/abs/arXiv:2212.06168) | **New Radio-Loud QSOs at the end of the Re-ionisation Epoch**  |\n",
       "|| L. Ighina, et al. -- incl., <mark>S. Belladitta</mark> |\n",
       "|*Appeared on*| *2022-12-14*|\n",
       "|*Comments*| *Accepted in MNRAS on 05 December 2022. Ten pages with five figures and three tables*|\n",
       "|**Abstract**| We present the selection of high-redshift ($z\\gtrsim5.7$) radio-loud (RL) quasi-stellar object (QSO) candidates from the combination of the radio Rapid ASKAP Continuum Survey (RACS; at 888 MHz) and the optical/near-infrared Dark Energy Survey (DES). In particular, we selected six candidates brighter than $S_{\\rm 888MHz}>1$ mJy beam$^{-1}$ and ${\\rm mag}(z_\\mathrm{{DES}})<21.3$ using the dropout technique (in the $i$-band). From this sample, we were able to confirm the high-$z$ nature ($z\\sim6.1$) of two sources, which are now among the highest-redshift RL QSOs currently known. Based on our Gemini-South/GMOS observations, neither object shows a prominent Ly$\\alpha$ emission line. This suggests that both sources are likely to be weak emission-line QSOs hosting radio jets and would therefore further strengthen the potential increase of the fraction of weak emission-line QSOs recently found in the literature. However, further multiwavelength observations are needed to constrain the properties of these QSOs and of their relativistic jets. From the discovery of these two sources, we estimated the space density of RL QSOs in the redshift range $5.9<z<6.4$ to be 0.13$^{+0.18}_{-0.09}$ and found it to be consistent with the expectations based on our current knowledge of the blazar population up to $z\\sim5$. |\n",
       "|<p style=\"color:green\"> **ERROR** </p>| <p style=\"color:green\">affiliation error: mpia.affiliation_verifications: 'Heidelberg' keyword not found.</p> |"
      ],
      "text/plain": [
       "<IPython.core.display.Markdown object>"
      ]
     },
     "metadata": {},
     "output_type": "display_data"
    },
    {
     "data": {
      "text/markdown": [
       "\n",
       "|||\n",
       "|---:|:---|\n",
       "| [![arXiv](https://img.shields.io/badge/arXiv-arXiv:2212.06174-b31b1b.svg)](https://arxiv.org/abs/arXiv:2212.06174) | **A Photometric Survey of Globular Cluster Systems in Brightest Cluster  Galaxies**  |\n",
       "|| <mark>William E. Harris</mark> |\n",
       "|*Appeared on*| *2022-12-14*|\n",
       "|*Comments*| *In press for Astrophysical Journal Supplement*|\n",
       "|**Abstract**| Hubble Space Telescope imaging for 26 giant early-type galaxies, all drawn from the MAST archive, is used to carry out photometry of their surrounding globular cluster (GC) systems. Most of these targets are Brightest Cluster Galaxies (BCGs) and their distances range from 24 to 210 Mpc. The catalogs of photometry, completed with DOLPHOT, are publicly available. The GC color indices are converted to [Fe/H] through a combination of 12-Gyr SSP (Single Stellar Population) models and direct spectroscopic calibration of the fiducial color index (F475W-F850LP). All the resulting metallicity distribution functions (MDFs) can be accurately matched by bimodal Gaussian functions. The GC systems in all the galaxies also exhibit shallow metallicity gradients with projected galactocentric distance that average $Z \\sim R_{gc}^{-0.3}$. Several parameters of the MDFs including the means, dispersions, and blue/red fractions are summarized. Perhaps the most interesting new result is the trend of blue/red GC fraction with galaxy mass, which connects with predictions from recent simulations of GC formation within hierarchical assembly of large galaxies. The observed trend reveals two major transition stages: for low-mass galaxies, the metal-rich (red) GC fraction $f(red)$ increases steadily with galaxy mass, until halo mass $M_h \\simeq 3 \\times 10^{12} M_{\\odot}$. Above this point, more than half the metal-poor (blue) GCs come from accreted satellites and $f(red)$ starts declining. But above a still higher transition point near $M_h \\simeq 10^{14} M_{\\odot}$, the data hint that $f(red)$ may start to increase again because the metal-rich GCs also become dominated by accreted systems. |\n",
       "|<p style=\"color:green\"> **ERROR** </p>| <p style=\"color:green\">affiliation error: mpia.affiliation_verifications: 'Heidelberg' keyword not found.</p> |"
      ],
      "text/plain": [
       "<IPython.core.display.Markdown object>"
      ]
     },
     "metadata": {},
     "output_type": "display_data"
    },
    {
     "data": {
      "text/markdown": [
       "\n",
       "|||\n",
       "|---:|:---|\n",
       "| [![arXiv](https://img.shields.io/badge/arXiv-arXiv:2212.06183-b31b1b.svg)](https://arxiv.org/abs/arXiv:2212.06183) | **Systematic Broad-band X-ray Study of super-Eddington Accretion onto  Supermassive Black Holes. I. X-ray Continuum**  |\n",
       "|| Alessia Tortosa, et al. -- incl., <mark>Ruancun Li</mark> |\n",
       "|*Appeared on*| *2022-12-14*|\n",
       "|*Comments*| *Accepted for publication in Monthly Notices of the Royal Astronomical Society*|\n",
       "|**Abstract**| We present the first systematic broad-band X-ray study of super-Eddington accretion onto SMBHs with simultaneous {\\it NuSTAR} and {\\it XMM-Newton} or {\\it Swift}/XRT observations of a sample of 8 super-Eddington accreting AGN with Eddington ratio $1<\\lambda_{\\rm Edd}<426$. We find that the SEAMBHs show a steep primary continuum slope as expected for sources accreting in the super Eddington regime, mostly dominated by relativistic reflection. The Iron K$\\alpha$ emission lines of the sources of our sample show relativistic broadening. In addition the equivalent widths of the narrow components of the Iron K$\\alpha$ lines follow the 'X-ray Baldwin' effect, also known as the 'Iwasawa-Taniguchi' effect. We found a statistically significant correlation between the photon-index of the primary power-law and the Eddington ratio, consistent with past studies. Moreover, as expected for super-Eddington sources, the median value of the reflection fraction of the sources we analysed is a factor $\\sim 2$ higher than the median reflection fraction value of the type\\,1 AGN from the BASS sample. We are able to estimate the coronal temperature for three sources of our sample: Mrk\\,382 ($kT_e=7.8$\\,keV), PG\\,0026+129 ($kT_e=39$\\,keV) and IRAS\\,04416+1215 ($kT_e=3$\\,keV). Looking at the position of the SEAMBHs sources of our sample in the compactness-temperature diagram it appears that in super-Eddington AGN, as for lower Eddington ratio AGN, the X-ray corona is controlled by pair production and annihilation. |\n",
       "|<p style=\"color:green\"> **ERROR** </p>| <p style=\"color:green\">affiliation error: mpia.affiliation_verifications: 'Heidelberg' keyword not found.</p> |"
      ],
      "text/plain": [
       "<IPython.core.display.Markdown object>"
      ]
     },
     "metadata": {},
     "output_type": "display_data"
    },
    {
     "data": {
      "text/markdown": [
       "\n",
       "|||\n",
       "|---:|:---|\n",
       "| [![arXiv](https://img.shields.io/badge/arXiv-arXiv:2212.06195-b31b1b.svg)](https://arxiv.org/abs/arXiv:2212.06195) | **SN 2021fxy: Mid-Ultraviolet Flux Suppression is a Common Feature of Type  Ia Supernovae**  |\n",
       "|| J. M. DerKacy, et al. -- incl., <mark>P. J. Brown</mark>, <mark>C. R. Burns</mark> |\n",
       "|*Appeared on*| *2022-12-14*|\n",
       "|*Comments*| *26 pages, 19 figures, 9 tables; submitted to MNRAS, posted after receiving referee comments*|\n",
       "|**Abstract**| We present ultraviolet (UV) to near-infrared (NIR) observations and analysis of the nearby Type Ia supernova SN 2021fxy. Our observations include UV photometry from Swift/UVOT, UV spectroscopy from HST/STIS, and high-cadence optical photometry with the Swope 1-m telescope capturing intra-night rises during the early light curve. Early $B-V$ colours show SN 2021fxy is the first \"shallow-silicon\" (SS) SN Ia to follow a red-to-blue evolution, compared to other SS objects which show blue colours from the earliest observations. Comparisons to other spectroscopically normal SNe Ia with HST UV spectra reveal SN 2021fxy is one of several SNe Ia with flux suppression in the mid-UV. These SNe also show blue-shifted mid-UV spectral features and strong high-velocity Ca II features. One possible origin of this mid-UV suppression is the increased effective opacity in the UV due to increased line blanketing from high velocity material, but differences in the explosion mechanism cannot be ruled out. Among SNe Ia with mid-UV suppression, SNe 2021fxy and 2017erp show substantial similarities in their optical properties despite belonging to different Branch subgroups, and UV flux differences of the same order as those found between SNe 2011fe and 2011by. Differential comparisons to multiple sets of synthetic SN Ia UV spectra reveal this UV flux difference likely originates from a luminosity difference between SNe 2021fxy and 2017erp, and not differing progenitor metallicities as suggested for SNe 2011by and 2011fe. These comparisons illustrate the complicated nature of UV spectral formation, and the need for more UV spectra to determine the physical source of SNe Ia UV diversity. |\n",
       "|<p style=\"color:green\"> **ERROR** </p>| <p style=\"color:green\">affiliation error: mpia.affiliation_verifications: 'Heidelberg' keyword not found.</p> |"
      ],
      "text/plain": [
       "<IPython.core.display.Markdown object>"
      ]
     },
     "metadata": {},
     "output_type": "display_data"
    },
    {
     "data": {
      "text/markdown": [
       "\n",
       "|||\n",
       "|---:|:---|\n",
       "| [![arXiv](https://img.shields.io/badge/arXiv-arXiv:2212.06238-b31b1b.svg)](https://arxiv.org/abs/arXiv:2212.06238) | **Distance determination of molecular clouds in the 1st quadrant of the  Galactic plane using deep learning : I. Method and Results**  |\n",
       "|| Shinji Fujita, et al. -- incl., <mark>Shota Ueda</mark> |\n",
       "|*Appeared on*| *2022-12-14*|\n",
       "|*Comments*| *29 pages, 12 figures*|\n",
       "|**Abstract**| Machine learning has been successfully applied in varied field but whether it is a viable tool for determining the distance to molecular clouds in the Galaxy is an open question. In the Galaxy, the kinematic distance is commonly employed as the distance to a molecular cloud. However, there is a problem in that for the inner Galaxy, two different solutions, the ``Near'' solution, and the ``Far'' solution, can be derived simultaneously. We attempted to construct a two-class (``Near'' or ``Far'') inference model using a Convolutional Neural Network (CNN), a form of deep learning that can capture spatial features generally. In this study, we used the CO dataset toward the 1st quadrant of the Galactic plane obtained with the Nobeyama 45-m radio telescope (l = 62-10 degree, |b| < 1 degree). In the model, we applied the three-dimensional distribution (position-position-velocity) of the 12CO (J=1-0) emissions as the main input. The dataset with ``Near'' or ``Far'' annotation was made from the HII region catalog of the infrared astronomy satellite WISE to train the model. As a result, we could construct a CNN model with a 76% accuracy rate on the training dataset. By using the model, we determined the distance to molecular clouds identified by the CLUMPFIND algorithm. We found that the mass of the molecular clouds with a distance of < 8.15 kpc identified in the 12CO data follows a power-law distribution with an index of about -2.3 in the mass range of M >10^3 Msun. Also, the detailed molecular gas distribution of the Galaxy as seen from the Galactic North pole was determined. |\n",
       "|<p style=\"color:green\"> **ERROR** </p>| <p style=\"color:green\">affiliation error: mpia.affiliation_verifications: 'Heidelberg' keyword not found.</p> |"
      ],
      "text/plain": [
       "<IPython.core.display.Markdown object>"
      ]
     },
     "metadata": {},
     "output_type": "display_data"
    },
    {
     "data": {
      "text/markdown": [
       "\n",
       "|||\n",
       "|---:|:---|\n",
       "| [![arXiv](https://img.shields.io/badge/arXiv-arXiv:2212.06266-b31b1b.svg)](https://arxiv.org/abs/arXiv:2212.06266) | **NEID Reveals that The Young Warm Neptune TOI-2076 b Has a Low Obliquity**  |\n",
       "|| Robert C. Frazier, et al. -- incl., <mark>Suvrath Mahadevan</mark>, <mark>Heather Cegla</mark>, <mark>Leslie Hebb</mark>, <mark>Jessica Libby-Roberts</mark>, <mark>Andrea Lin</mark> |\n",
       "|*Appeared on*| *2022-12-14*|\n",
       "|*Comments*| *Submitted to ApJL, 13 pages, 4 figures, 3 tables*|\n",
       "|**Abstract**| TOI-2076 b is a sub-Neptune-sized planet ($R=2.39 \\pm 0.10 \\mathrm{R_\\oplus}$) that transits a young ($204 \\pm 50 \\mathrm{MYr}$) bright ($V = 9.2$) K-dwarf hosting a system of three transiting planets. Using spectroscopic observations with the NEID spectrograph on the WIYN 3.5 m Telescope, we model the Rossiter-McLaughlin effect of TOI-2076 b, and derive a sky-projected obliquity of $\\lambda=-3_{-15}^{+16\\:\\circ}$. Using the size of the star ($R=0.775 \\pm0.015 \\mathrm{R_\\odot}$), and the stellar rotation period ($P_{\\mathrm{rot}}=7.27\\pm0.23$ days), we estimate a true obliquity of $\\psi=18_{-9}^{+10\\:\\circ}$ ($\\psi < 34^\\circ$ at 95% confidence), demonstrating that TOI-2076 b is on a well-aligned orbit. Simultaneous diffuser-assisted photometry from the 3.5 m Telescope at Apache Point Observatory rules out flares during the transit. TOI-2076 b joins a small but growing sample of young planets in compact multi-planet systems with well-aligned orbits, and is the fourth planet with an age $\\lesssim 300$ Myr in a multi-transiting system with an obliquity measurement. The low obliquity of TOI-2076 b and the presence of transit timing variations in the system suggest the TOI-2076 system likely formed via convergent disk migration in an initially well-aligned disk. |\n",
       "|<p style=\"color:green\"> **ERROR** </p>| <p style=\"color:green\">affiliation error: mpia.affiliation_verifications: 'Heidelberg' keyword not found.</p> |"
      ],
      "text/plain": [
       "<IPython.core.display.Markdown object>"
      ]
     },
     "metadata": {},
     "output_type": "display_data"
    },
    {
     "data": {
      "text/markdown": [
       "\n",
       "|||\n",
       "|---:|:---|\n",
       "| [![arXiv](https://img.shields.io/badge/arXiv-arXiv:2212.06305-b31b1b.svg)](https://arxiv.org/abs/arXiv:2212.06305) | **Possible Origin of a Newly Discovered GeV Gamma-ray Source  Fermi~J1242.5+3236**  |\n",
       "|| Xiu-Rong Mo, et al. -- incl., <mark>Ruo-Yu Liu</mark> |\n",
       "|*Appeared on*| *2022-12-14*|\n",
       "|*Comments*| *11 pages, 5 figures, accepted by RAA*|\n",
       "|**Abstract**| Based on the first 13.4 years of Fermi science data in the energy range from 300 MeV to 500 GeV, we discovered a bright GeV gamma-ray source with a $\\sim$5.64 $\\sigma$ detection, named Fermi~J1242.5+3236, which has an offset of about $0.0996^{\\circ}$ from a nearby star-forming galaxy NGC 4631. When using the 12 yrs' data, the detection significance of Fermi~J1242.5+3236 is about 4.72 $\\sigma$. Fermi~J1242.5+3236 is a steady point source without significant temporal variability and has a hard gamma-ray photon index of about $-$1.60$\\pm 0.24$. The spatial offset and the hard gamma-ray spectrum disfavors this source as the diffuse gamma-ray emission from this galaxy. This new source might has a possible origin of an unidentified background blazar, which is more likely a high-synchrotron-peaked blazar (HSP) for its hard gamma-ray photon index. A follow-up optical observation would help distinguish origin of Fermi~J1242.5+3236. |\n",
       "|<p style=\"color:green\"> **ERROR** </p>| <p style=\"color:green\">affiliation error: mpia.affiliation_verifications: 'Heidelberg' keyword not found.</p> |"
      ],
      "text/plain": [
       "<IPython.core.display.Markdown object>"
      ]
     },
     "metadata": {},
     "output_type": "display_data"
    },
    {
     "data": {
      "text/markdown": [
       "\n",
       "|||\n",
       "|---:|:---|\n",
       "| [![arXiv](https://img.shields.io/badge/arXiv-arXiv:2212.06399-b31b1b.svg)](https://arxiv.org/abs/arXiv:2212.06399) | **NOEMA Detection of Circumnuclear Molecular Gas in X-ray Weak Dual Active  Galactic Nuclei: No Evidence for Heavy Obscuration**  |\n",
       "|| Meicun Hou, et al. -- incl., <mark>Zhiyuan Li</mark>, <mark>Xin Liu</mark>, <mark>Zongnan Li</mark>, <mark>Ruancun Li</mark> |\n",
       "|*Appeared on*| *2022-12-14*|\n",
       "|*Comments*| *12 pages, 3 figures, 2 tables. Accepted for publication in ApJ. Comments welcome*|\n",
       "|**Abstract**| Dual active galactic nuclei (AGN), which are the manifestation of two actively accreting supermassive black holes (SMBHs) hosted by a pair of merging galaxies, are a unique laboratory for studying the physics of SMBH feeding and feedback during an indispensable stage of galaxy evolution. In this work, we present NOEMA CO(2-1) observations of seven kpc-scale dual-AGN candidates drawn from a recent Chandra survey of low-redshift, optically classified AGN pairs. These systems are selected because they show unexpectedly low 2-10 keV X-ray luminosities for their small physical separations signifying an intermediate-to-late stage of merger. Circumnuclear molecular gas traced by the CO(2-1) emission is significantly detected in 6 of the 7 pairs and 10 of the 14 nuclei, with an estimated mass ranging between $(0.2 - 21) \\times10^9\\rm~M_{\\odot}$. The primary nuclei, i.e., the ones with the higher stellar velocity dispersion, tend to have a higher molecular gas mass than the secondary. Most CO-detected nuclei show a compact morphology, with a velocity field consistent with a kpc-scale rotating structure. The inferred hydrogen column densities range between $5\\times10^{21} - 2\\times10^{23}\\rm~cm^{-2}$, but mostly at a few times $10^{22}\\rm~cm^{-2}$, in broad agreement with those derived from X-ray spectral analysis. Together with the relatively weak mid-infrared emission, the moderate column density argues against the prevalence of heavily obscured, intrinsically luminous AGNs in these seven systems, but favors a feedback scenario in which AGN activity triggered by a recent pericentric passage of the galaxy pair can expel circumnuclear gas and suppress further SMBH accretion. |\n",
       "|<p style=\"color:green\"> **ERROR** </p>| <p style=\"color:green\">affiliation error: mpia.affiliation_verifications: 'Heidelberg' keyword not found.</p> |"
      ],
      "text/plain": [
       "<IPython.core.display.Markdown object>"
      ]
     },
     "metadata": {},
     "output_type": "display_data"
    },
    {
     "data": {
      "text/markdown": [
       "\n",
       "|||\n",
       "|---:|:---|\n",
       "| [![arXiv](https://img.shields.io/badge/arXiv-arXiv:2212.06439-b31b1b.svg)](https://arxiv.org/abs/arXiv:2212.06439) | **Large-scale density and velocity field reconstructions with neural  networks**  |\n",
       "|| Punyakoti Ganeshaiah Veena, <mark>Robert Lilow</mark>, Adi Nusser |\n",
       "|*Appeared on*| *2022-12-14*|\n",
       "|*Comments*| *17 pages, 13 figures. Submitted to MNRAS. Comments are welcome*|\n",
       "|**Abstract**| We assess a neural network (NN) method for reconstructing 3D cosmological density and velocity fields (target) from discrete and incomplete galaxy distributions (input). We employ second-order Lagrangian Perturbation Theory to generate a large ensemble of mock data to train an autoencoder (AE) architecture with a Mean Squared Error (MSE) loss function. The AE successfully captures nonlinear features arising from gravitational dynamics {and} the discreteness of the galaxy distribution. In comparison, the traditional Wiener filter (WF) reconstruction exhibits a stronger suppression of the power on smaller scales and contains regions of unphysical negative densities. In the density reconstruction, the reduction of the AE MSE relative to the WF is $\\sim 15 \\%$, whereas for the velocity reconstruction a relative reduction of up to a factor of two can be achieved. The AE is particularly superior to the WF towards the tails of the density and velocity distributions. In fact, trained with an MSE loss, any NN estimate approaches the unbiased mean of the underlying target given the input. This implies a slope of unity in the linear regression of the true on the NN-reconstructed field. Only for the special case of Gaussian fields, the NN and WF estimates are equivalent. Nonetheless, we also recover a linear regression slope of unity for the WF with non-Gaussian fields. |\n",
       "|<p style=\"color:green\"> **ERROR** </p>| <p style=\"color:green\">affiliation error: mpia.affiliation_verifications: 'Heidelberg' keyword not found.</p> |"
      ],
      "text/plain": [
       "<IPython.core.display.Markdown object>"
      ]
     },
     "metadata": {},
     "output_type": "display_data"
    },
    {
     "data": {
      "text/markdown": [
       "\n",
       "|||\n",
       "|---:|:---|\n",
       "| [![arXiv](https://img.shields.io/badge/arXiv-arXiv:2212.06507-b31b1b.svg)](https://arxiv.org/abs/arXiv:2212.06507) | **Tracer particles for core-collapse supernova nucleosynthesis: The  advantages of moving backward**  |\n",
       "|| Andre Sieverding, et al. -- incl., <mark>J. Austin Harris</mark> |\n",
       "|*Appeared on*| *2022-12-14*|\n",
       "|*Comments*| *23 pages, 18 figures, sumitted to ApJ*|\n",
       "|**Abstract**| After decades, the theoretical study of core-collapse supernova explosions is moving from parameterized, spherically symmetric models to increasingly realistic multi-dimensional simulations. Obtaining nucleosynthesis yields based on such multi-dimensional core-collapse supernova (CCSN) simulations, however, is not straightforward and frequently tracer particles are employed. Tracer particles may be tracked in situ during the simulation, but often they are reconstructed in a post-processing step based on the information saved during the hydrodynamics simulation. Reconstruction can be done in a number of ways and here we compare the approaches of backward and forward integration of the equations of motion to the results based on inline particle trajectories. We find that both methods agree reasonably well with the inline results for isotopes for which a large number of particles contribute. However, for rarer isotopes that are produced only by a small number of particle trajectories, deviations can be large. For our setup, we find that backward integration leads to a better agreement with the inline particles by more accurately reproducing the conditions following freeze-out from nuclear statistical equilibrium, because the establishment of nuclear statistical equilibrium erases the need for detailed trajectories at earlier times. Based on our results, if inline tracers are unavailable, we recommend backward reconstruction, to the point when nuclear statistical equilibrium last applied, with an interval between simulation snapshots of at most 1 ms for nucleosynthesis post-processing. |\n",
       "|<p style=\"color:green\"> **ERROR** </p>| <p style=\"color:green\">affiliation error: mpia.affiliation_verifications: 'Heidelberg' keyword not found.</p> |"
      ],
      "text/plain": [
       "<IPython.core.display.Markdown object>"
      ]
     },
     "metadata": {},
     "output_type": "display_data"
    },
    {
     "data": {
      "text/markdown": [
       "\n",
       "|||\n",
       "|---:|:---|\n",
       "| [![arXiv](https://img.shields.io/badge/arXiv-arXiv:2212.06585-b31b1b.svg)](https://arxiv.org/abs/arXiv:2212.06585) | **Diffusion of cosmic-ray electrons in M 51 observed with LOFAR at 54 MHz**  |\n",
       "|| <mark>V. Heesen</mark>, et al. |\n",
       "|*Appeared on*| *2022-12-14*|\n",
       "|*Comments*| *Accepted to Astronomy and Astrophysics. 11 pages, 5 figures, 2 tables*|\n",
       "|**Abstract**| Context. The details of cosmic-ray transport have a strong impact on galaxy evolution. The peak of the cosmic-ray energy distribution is observable in the radio continuum using the electrons as proxy. Aims. We measure the length that the cosmic-ray electrons (CRE) are transported during their lifetime in the nearby galaxy M 51 across one order of magnitude in cosmic-ray energy (approximately 1-10 GeV). To this end we use new ultra-low frequency observations from the LOw Frequency ARay (LOFAR) at 54 MHz and ancillary data between 144 and 8350 MHz. Methods. As the the CRE originate from supernova remnants, the radio maps are smoothed in comparison to the distribution of the star formation. By convolving the map of the star-formation rate (SFR) surface density with a Gaussian kernel, we can linearise the radio-SFR relation. The best-fitting convolution kernel is then our estimate of the CRE transport length. Results. We find that the CRE transport length increases at low frequencies, as expected since the CRE have longer lifetimes. The CRE transport length is $l_{\\rm CRE} = \\sqrt{4Dt_{\\rm syn}}$, where $D$ is the isotropic diffusion coefficient and $t_{\\rm syn}$ is the CRE lifetime as given by synchrotron and inverse Compton losses. We find that the data can be well fitted by diffusion, where $D=(2.14\\pm 0.13) \\times 10^{28}~\\rm cm^2\\,s^{-1}$. With $D\\propto E^{0.001\\pm 0.185}$, the diffusion coefficient is independent of the CRE energy $E$ in the range considered. Conclusions. Our results suggest that the transport of GeV-cosmic ray electrons in the star-forming discs of galaxies is governed by energy-independent diffusion. |\n",
       "|<p style=\"color:green\"> **ERROR** </p>| <p style=\"color:green\">affiliation error: mpia.affiliation_verifications: 'Heidelberg' keyword not found.</p> |"
      ],
      "text/plain": [
       "<IPython.core.display.Markdown object>"
      ]
     },
     "metadata": {},
     "output_type": "display_data"
    },
    {
     "data": {
      "text/markdown": [
       "\n",
       "|||\n",
       "|---:|:---|\n",
       "| [![arXiv](https://img.shields.io/badge/arXiv-arXiv:2212.06622-b31b1b.svg)](https://arxiv.org/abs/arXiv:2212.06622) | **Possible discrimination of black hole origins from the lensing rate of  DECIGO and B-DECIGO sources**  |\n",
       "|| <mark>Bin Liu</mark>, et al. -- incl., <mark>Zhengxiang Li</mark>, <mark>Shaoxin Zhao</mark>, <mark>He Gao</mark> |\n",
       "|*Appeared on*| *2022-12-14*|\n",
       "|*Comments*| *10 Pages, 5 Figures, 4 Tables; Accepted for publication in ApJ*|\n",
       "|**Abstract**| In this paper, we forecast the expected detection rates and redshift distributions of gravitationally lensed gravitational waves (GWs) from three different mass distributions of primordial black holes (PBHs) and two stellar formation models of astrophysical black holes (ABHs) in the context of DECi-hertz Interferometer Gravitational wave Observatory (DECIGO) and it's smaller scale version B-DECIGO. It suggests that DECIGO will be able to detect $10^4-10^5$ GW signals from such binary black holes (BBHs) each year and the event rate distributions for PBHs will differ from those for ABHs due to their different merger rate with respect to redshift. The large number of event rates make $5-100$ detections of lensed GW signals being possible. After considering the gravitational lensing effect, the difference between the detection rates and distributions for PBHs and ABHs will be more significant. Therefore, this can be served as a complementary method to distinguish PBHs from ABHs. |\n",
       "|<p style=\"color:green\"> **ERROR** </p>| <p style=\"color:green\">affiliation error: mpia.affiliation_verifications: 'Heidelberg' keyword not found.</p> |"
      ],
      "text/plain": [
       "<IPython.core.display.Markdown object>"
      ]
     },
     "metadata": {},
     "output_type": "display_data"
    },
    {
     "data": {
      "text/markdown": [
       "\n",
       "|||\n",
       "|---:|:---|\n",
       "| [![arXiv](https://img.shields.io/badge/arXiv-arXiv:2212.06666-b31b1b.svg)](https://arxiv.org/abs/arXiv:2212.06666) | **A High Density of Bright Galaxies at $z\\approx10$ in the A2744 region**  |\n",
       "|| Marco Castellano, et al. -- incl., <mark>Nicha Leethochawalit</mark>, <mark>Lilan Yang</mark> |\n",
       "|*Appeared on*| *2022-12-14*|\n",
       "|*Comments*| *Submitted to ApJL, 12 pages, 4 figures*|\n",
       "|**Abstract**| We report the detection of a high density of redshift $z\\approx 10$ galaxies behind the foreground cluster Abell 2744, selected from imaging data obtained recently with NIRCam onboard JWST by three programs -- GLASS-JWST, UNCOVER, and DDT-2756. To ensure robust estimates of the lensing magnification $\\mu$, we use an improved version of our model that exploits the first epoch of NIRCam images and newly obtained MUSE spectra, and avoids regions with $\\mu>5$ where the uncertainty may be higher. We detect seven bright $z\\approx 10$ galaxies with demagnified rest-frame $-22 \\lesssim M_{\\rm UV}\\lesssim -19$ mag, over an area of $\\sim37$ sq. arcmin. Taking into account photometric incompleteness and the effects of lensing on luminosity and cosmological volume, we find that the density of $z\\approx 10$ galaxies in the field is about $10\\times$ ($3\\times$) larger than the average at $M_{UV}\\approx -21 (-20)$ mag reported so far. The density is even higher when considering only the GLASS-JWST data, which are the depeest and the least affected by magnification and incompleteness. The GLASS-JWST field contains 5 out of 7 galaxies, distributed along an apparent filamentary structure of 2 Mpc in projected length, and includes a close pair of candidates with $M_{\\rm UV}< -20$ mag having a projected separation of only 16 kpc. These findings suggest the presence of a $z\\approx 10$ overdensity in the field. In addition to providing excellent targets for efficient spectroscopic follow-up observations, our study confirms the high density of bright galaxies observed in early JWST observations, but calls for multiple surveys along independent lines of sight to achieve an unbiased estimate of their average density and a first estimate of their clustering. |\n",
       "|<p style=\"color:green\"> **ERROR** </p>| <p style=\"color:green\">affiliation error: mpia.affiliation_verifications: 'Heidelberg' keyword not found.</p> |"
      ],
      "text/plain": [
       "<IPython.core.display.Markdown object>"
      ]
     },
     "metadata": {},
     "output_type": "display_data"
    },
    {
     "data": {
      "text/markdown": [
       "\n",
       "|||\n",
       "|---:|:---|\n",
       "| [![arXiv](https://img.shields.io/badge/arXiv-arXiv:2212.06683-b31b1b.svg)](https://arxiv.org/abs/arXiv:2212.06683) | **UV Luminosity Density Results at z>8 from the First JWST/NIRCam Fields:  Limitations of Early Data Sets and the Need for Spectroscopy**  |\n",
       "|| Rychard Bouwens, et al. -- incl., <mark>Ivana van Leeuwen</mark> |\n",
       "|*Appeared on*| *2022-12-14*|\n",
       "|*Comments*| *25 pages, 10 pages, 15 tables, submitted to MNRAS, figure 7 shows the key results*|\n",
       "|**Abstract**| We have derived luminosity functions, and set constraints on the UV luminosity and SFR density from z~17 to z~8, using the three most-studied JWST/NIRCam data sets, the SMACS0723, GLASS Parallel, and CEERS fields. We first used our own selections on two independent reductions of these datasets using the latest calibrations. 18 z~8, 12 z~10, 5 z~13, and 1 z~17 candidate galaxies are identified over these fields in our primary reductions, with a similar number of candidates in our secondary reductions. We then use these two reductions, applying a quantitative discriminator, to segregate the full set of z>~8 candidates reported over these fields from the literature, into three different samples, ``robust,'' ``solid,'' and ``possible''. Using all of these samples we then derive UV LF and luminosity density results at $z\\geq8$, finding substantial differences. For example, including the full set of ``solid'' and ``possible'' z>~12 candidates from the literature, we find UV luminosity densities which are ~7x and ~20x higher than relying on the ``robust'' candidates alone. These results indicate the evolution of the UV LF and luminosity densities at z>~8 is still extremely uncertain, emphasizing the need for spectroscopy and deeper NIRCam+optical imaging to obtain reliable results. Nonetheless, even with the very conservative ``robust'' approach to selections, both from our own and those of other studies, we find the luminosity density from luminous (M(UV)<-19) galaxies to be ~2x larger than is easily achievable using constant star-formation efficiency models, similar to what other early JWST results have suggested. |\n",
       "|<p style=\"color:green\"> **ERROR** </p>| <p style=\"color:green\">affiliation error: mpia.affiliation_verifications: 'Heidelberg' keyword not found.</p> |"
      ],
      "text/plain": [
       "<IPython.core.display.Markdown object>"
      ]
     },
     "metadata": {},
     "output_type": "display_data"
    },
    {
     "data": {
      "text/markdown": [
       "\n",
       "|||\n",
       "|---:|:---|\n",
       "| [![arXiv](https://img.shields.io/badge/arXiv-arXiv:2212.06791-b31b1b.svg)](https://arxiv.org/abs/arXiv:2212.06791) | **X-Shooter Survey of Young Intermediate Mass Stars -- I. Stellar  Characterization and Disc Evolution**  |\n",
       "|| Daniela P. Iglesias, et al. -- incl., <mark>Lionel Siess</mark> |\n",
       "|*Appeared on*| *2022-12-14*|\n",
       "|*Comments*| *19 pages, 11 figures, Accepted to MNRAS*|\n",
       "|**Abstract**| Intermediate mass stars (IMSs) represent the link between low-mass and high-mass stars and cover a key mass range for giant planet formation. In this paper, we present a spectroscopic survey of 241 young IMS candidates with IR-excess, the most complete unbiased sample to date within 300 pc. We combined VLT/X-Shooter spectra with BVR photometric observations and Gaia DR3 distances to estimate fundamental stellar parameters such as Teff, mass, radius, age, and luminosity. We further selected those stars within the intermediate mass range 1.5 <= Mstar/Msun <= 3.5 and discarded old contaminants. We used 2MASS and WISE photometry to study the IR-excesses of the sample, finding 92 previously unidentified stars with IR-excess. We classified this sample into 'protoplanetary', 'hybrid candidates' and 'debris' discs based on their observed fractional excess at 12microns, finding a new population of 17 hybrid disc candidates. We studied inner disc dispersal timescales for {\\lambda} < 10{\\mu}m and found very different trends for IMSs and low mass stars (LMSs). IMSs show excesses dropping fast during the first 6 Myrs independently of the wavelength, while LMSs show consistently lower fractions of excess at the shortest wavelengths and increasingly higher fractions for longer wavelengths, with slower dispersal rates. In conclusion, this study demonstrates empirically that IMSs dissipate their inner discs very differently than LMSs, providing a possible explanation for the lack of short period planets around IMSs. |\n",
       "|<p style=\"color:green\"> **ERROR** </p>| <p style=\"color:green\">affiliation error: mpia.affiliation_verifications: 'Heidelberg' keyword not found.</p> |"
      ],
      "text/plain": [
       "<IPython.core.display.Markdown object>"
      ]
     },
     "metadata": {},
     "output_type": "display_data"
    },
    {
     "data": {
      "text/markdown": [
       "\n",
       "|||\n",
       "|---:|:---|\n",
       "| [![arXiv](https://img.shields.io/badge/arXiv-arXiv:2212.06517-b31b1b.svg)](https://arxiv.org/abs/arXiv:2212.06517) | **NLTE analysis of the methylidyne radical (CH) molecular lines in  metal-poor stellar atmospheres**  |\n",
       "|| S. A. Popa, et al. -- incl., <mark>M. Bergemann</mark> |\n",
       "|*Appeared on*| *2022-12-14*|\n",
       "|*Comments*| *Accepted for publication in Astronomy & Astrophysics*|\n",
       "|**Abstract**| An analysis of the CH molecule in non-local thermodynamic equilibrium (NLTE) is performed for the physical conditions of cool stellar atmospheres typical of red giants (log g = 2.0, Teff = 4500 K) and the Sun. The aim of the present work is to explore whether the G-band of the CH molecule, which is commonly used in abundance diagnostics of Carbon-Enhanced Metal-Poor (CEMP) stars, is sensitive to NLTE effects. LTE and NLTE theoretical spectra are computed with the MULTI code. We use one-dimensional (1D) LTE hydrostatic MARCS model atmospheres with parameters representing eleven red giant stars with metallicities ranging from [Fe/H] = -4.0 to [Fe/H] = 0.0 and carbon-to-iron ratios [C/Fe] = 0.0, +0.7, +1.5, and +3.0. The CH molecule model is represented by 1981 energy levels, 18377 radiative bound-bound transitions, and 932 photo-dissociation reactions. The rates due to transitions caused by collisions with free electrons and hydrogen atoms are computed using classical recipes. Our calculations suggest that NLTE effects in the statistical equilibrium of the CH molecule are significant and cannot be neglected for precision spectroscopic analysis of C abundances. The NLTE effects in the G-band increase with decreasing metallicity. We show that the C abundances are always under-estimated if LTE is assumed. The NLTE corrections to C abundance inferred from the CH feature range from +0.04 dex for the Sun to +0.21 dex for a red giant with metallicity [Fe/H] = -4.0. Departures from the LTE assumption in the CH molecule are non-negligible and NLTE effects have to be taken into account in the diagnostic spectroscopy based on the CH lines. We show here that the NLTE effects in the optical CH lines are non-negligible for the Sun and red giant stars, but further calculations are warranted to investigate the effects in other regimes of stellar parameters. |\n",
       "|<p style=\"color:red\"> **ERROR** </p>| <p style=\"color:red\">latex error Could not find figure figures/idl.eps</p> |"
      ],
      "text/plain": [
       "<IPython.core.display.Markdown object>"
      ]
     },
     "metadata": {},
     "output_type": "display_data"
    },
    {
     "data": {
      "text/markdown": [
       "\n",
       "|||\n",
       "|---:|:---|\n",
       "| [![arXiv](https://img.shields.io/badge/arXiv-arXiv:2212.06184-b31b1b.svg)](https://arxiv.org/abs/arXiv:2212.06184) | **Quantifying the influence of bars on action-based dynamical modelling of  disc galaxies**  |\n",
       "|| <mark>Soumavo Ghosh</mark>, Wilma H. Trick, <mark>Gregory M. Green</mark> |\n",
       "|*Appeared on*| *2022-12-14*|\n",
       "|*Comments*| *18 pages, 10 figures, 2 tables, comments are welcome*|\n",
       "|**Abstract**| Action-based dynamical modelling, using stars as dynamical tracers, is an excellent diagnostic to estimate the underlying axisymmetric matter distribution of the Milky Way. However, the Milky Way's bar causes non-axisymmetric resonance features in the stellar disc. Using Roadmapping (an action-based dynamical modelling framework to estimate the gravitational potential and the stellar distribution function), we systematically quantify the robustness of action-based modelling in the presence of a bar. We construct a set of test-particle simulations of barred galaxies (with varying bar properties), and apply Roadmapping to different survey volumes (with varying azimuthal position, size) drawn from these barred models. For realistic bar parameters, the global potential parameters are still recovered to within ${\\sim \\! 1 \\! - \\! 20}$ percent. However, with increasing bar strength, the best-fit values of the parameters progressively deviate from their true values. This happens due to a combination of radial heating, radial migration, and resonance overlap phenomena in our bar models. Furthermore, the azimuthal location and the size of the survey volumes play important roles in the successful recovery of the parameters. Survey volumes along the bar major axis produce larger (relative) errors in the best-fit parameter values. In addition, the potential parameters are better recovered for survey volumes with larger spatial coverage. As the Sun is located just ${\\sim \\! 28 \\! - \\! 33}$ degrees behind the bar's major axis, an estimate for the bar-induced systematic bias -- as provided by this study -- is therefore crucial for future modelling attempts of the Milky Way. |\n",
       "|<p style=\"color:red\"> **ERROR** </p>| <p style=\"color:red\">latex error list index out of range</p> |"
      ],
      "text/plain": [
       "<IPython.core.display.Markdown object>"
      ]
     },
     "metadata": {},
     "output_type": "display_data"
    }
   ],
   "source": [
    "import datetime\n",
    "today = str(datetime.date.today())\n",
    "logfile = f\"_build/html/logs/log-{today}.md\"\n",
    "\n",
    "\n",
    "with open(logfile, 'w') as logs:\n",
    "    # Success\n",
    "    logs.write(f'# Arxiv on Deck 2: Logs - {today}\\n\\n')\n",
    "    logs.write(\"\"\"* Arxiv had {0:,d} new papers\\n\"\"\".format(len(new_papers)))\n",
    "    logs.write(\"\"\"    * {0:,d} with possible author matches\\n\\n\"\"\".format(len(candidates)))\n",
    "    logs.write(\"## Sucessful papers\\n\\n\")\n",
    "    display(Markdown(\"## Successful papers\"))\n",
    "    success = [k[0] for k in documents]\n",
    "    for candid in candidates:\n",
    "        if candid['identifier'].split(':')[-1] in success:\n",
    "            display(candid)\n",
    "            logs.write(candid.generate_markdown_text() + '\\n\\n')\n",
    "\n",
    "    ## failed\n",
    "    logs.write(\"## Failed papers\\n\\n\")\n",
    "    display(Markdown(\"## Failed papers\"))\n",
    "    failed = sorted(failed, key=lambda x: x[1])\n",
    "    current_reason = \"\"\n",
    "    for paper, reason in failed:\n",
    "        if 'affiliation' in reason:\n",
    "            color = 'green'\n",
    "        else:\n",
    "            color = 'red'\n",
    "        data = Markdown(\n",
    "                paper.generate_markdown_text() + \n",
    "                f'\\n|<p style=\"color:{color:s}\"> **ERROR** </p>| <p style=\"color:{color:s}\">{reason:s}</p> |'\n",
    "               )\n",
    "        if reason != current_reason:\n",
    "            logs.write(f'### {reason:s} \\n\\n')\n",
    "            current_reason = reason\n",
    "        logs.write(data.data + '\\n\\n')\n",
    "        \n",
    "        # only display here the important errors (all in logs)\n",
    "        # if color in ('red',):\n",
    "        display(data)"
   ]
  },
  {
   "cell_type": "markdown",
   "id": "472d20ee",
   "metadata": {
    "papermill": {
     "duration": 0.009002,
     "end_time": "2022-12-14T04:08:34.687365",
     "exception": false,
     "start_time": "2022-12-14T04:08:34.678363",
     "status": "completed"
    },
    "tags": []
   },
   "source": [
    "## Export documents\n",
    "\n",
    "We now write the .md files and export relevant images"
   ]
  },
  {
   "cell_type": "code",
   "execution_count": 7,
   "id": "d426aed9",
   "metadata": {
    "execution": {
     "iopub.execute_input": "2022-12-14T04:08:34.707406Z",
     "iopub.status.busy": "2022-12-14T04:08:34.706867Z",
     "iopub.status.idle": "2022-12-14T04:08:34.714476Z",
     "shell.execute_reply": "2022-12-14T04:08:34.713819Z"
    },
    "papermill": {
     "duration": 0.019166,
     "end_time": "2022-12-14T04:08:34.715914",
     "exception": false,
     "start_time": "2022-12-14T04:08:34.696748",
     "status": "completed"
    },
    "tags": []
   },
   "outputs": [],
   "source": [
    "def export_markdown_summary(md: str, md_fname:str, directory: str):\n",
    "    \"\"\"Export MD document and associated relevant images\"\"\"\n",
    "    import os\n",
    "    import shutil\n",
    "    import re\n",
    "\n",
    "    if (os.path.exists(directory) and not os.path.isdir(directory)):\n",
    "        raise RuntimeError(f\"a non-directory file exists with name {directory:s}\")\n",
    "\n",
    "    if (not os.path.exists(directory)):\n",
    "        print(f\"creating directory {directory:s}\")\n",
    "        os.mkdir(directory)\n",
    "\n",
    "    fig_fnames = (re.compile(r'\\[Fig.*\\]\\((.*)\\)').findall(md) + \n",
    "                  re.compile(r'\\<img src=\"([^>\\s]*)\"[^>]*/>').findall(md))\n",
    "    for fname in fig_fnames:\n",
    "        if 'http' in fname:\n",
    "            # No need to copy online figures\n",
    "            continue\n",
    "        destdir = os.path.join(directory, os.path.dirname(fname))\n",
    "        destfname = os.path.join(destdir, os.path.basename(fname))\n",
    "        try:\n",
    "            os.makedirs(destdir)\n",
    "        except FileExistsError:\n",
    "            pass\n",
    "        shutil.copy(fname, destfname)\n",
    "    with open(os.path.join(directory, md_fname), 'w') as fout:\n",
    "        fout.write(md)\n",
    "    print(\"exported in \", os.path.join(directory, md_fname))\n",
    "    [print(\"    + \" + os.path.join(directory,fk)) for fk in fig_fnames]"
   ]
  },
  {
   "cell_type": "code",
   "execution_count": 8,
   "id": "014d04a4",
   "metadata": {
    "execution": {
     "iopub.execute_input": "2022-12-14T04:08:34.735788Z",
     "iopub.status.busy": "2022-12-14T04:08:34.735093Z",
     "iopub.status.idle": "2022-12-14T04:08:34.747242Z",
     "shell.execute_reply": "2022-12-14T04:08:34.746597Z"
    },
    "papermill": {
     "duration": 0.023536,
     "end_time": "2022-12-14T04:08:34.748681",
     "exception": false,
     "start_time": "2022-12-14T04:08:34.725145",
     "status": "completed"
    },
    "tags": []
   },
   "outputs": [
    {
     "name": "stdout",
     "output_type": "stream",
     "text": [
      "exported in  _build/html/2212.06434.md\n",
      "    + _build/html/tmp_2212.06434/./jwst_mapsNGC628.png\n",
      "    + _build/html/tmp_2212.06434/./jwst_mapsIC5332.png\n",
      "    + _build/html/tmp_2212.06434/./jwst_mapsNGC1365.png\n",
      "    + _build/html/tmp_2212.06434/./jwst_mapsNGC7496.png\n",
      "    + _build/html/tmp_2212.06434/./ngc0628Jeanslengths_.png\n",
      "    + _build/html/tmp_2212.06434/./ic5332Jeanslengths_.png\n",
      "    + _build/html/tmp_2212.06434/./ngc1365Jeanslengths_.png\n",
      "    + _build/html/tmp_2212.06434/./ngc7496Jeanslengths_.png\n"
     ]
    }
   ],
   "source": [
    "for paper_id, md in documents:\n",
    "    export_markdown_summary(md, f\"{paper_id:s}.md\", '_build/html/')"
   ]
  },
  {
   "cell_type": "markdown",
   "id": "f087a0a7",
   "metadata": {
    "papermill": {
     "duration": 0.009247,
     "end_time": "2022-12-14T04:08:34.767269",
     "exception": false,
     "start_time": "2022-12-14T04:08:34.758022",
     "status": "completed"
    },
    "tags": []
   },
   "source": [
    "## Display the papers\n",
    "\n",
    "Not necessary but allows for a quick check."
   ]
  },
  {
   "cell_type": "code",
   "execution_count": 9,
   "id": "fd25f625",
   "metadata": {
    "execution": {
     "iopub.execute_input": "2022-12-14T04:08:34.787499Z",
     "iopub.status.busy": "2022-12-14T04:08:34.786909Z",
     "iopub.status.idle": "2022-12-14T04:08:34.792557Z",
     "shell.execute_reply": "2022-12-14T04:08:34.791924Z"
    },
    "papermill": {
     "duration": 0.017556,
     "end_time": "2022-12-14T04:08:34.794035",
     "exception": false,
     "start_time": "2022-12-14T04:08:34.776479",
     "status": "completed"
    },
    "scrolled": false,
    "tags": []
   },
   "outputs": [
    {
     "data": {
      "text/markdown": [
       "<div class=\"macros\" style=\"visibility:hidden;\">\n",
       "$\\newcommand{\\ensuremath}{}$\n",
       "$\\newcommand{\\xspace}{}$\n",
       "$\\newcommand{\\object}[1]{\\texttt{#1}}$\n",
       "$\\newcommand{\\farcs}{{.}''}$\n",
       "$\\newcommand{\\farcm}{{.}'}$\n",
       "$\\newcommand{\\arcsec}{''}$\n",
       "$\\newcommand{\\arcmin}{'}$\n",
       "$\\newcommand{\\ion}[2]{#1#2}$\n",
       "$\\newcommand{\\textsc}[1]{\\textrm{#1}}$\n",
       "$\\newcommand{\\hl}[1]{\\textrm{#1}}$\n",
       "$\\newcommand{\\degree}{\\ensuremath{^\\circ}}$\n",
       "$\\newcommand{\\kmskpc}{ap{km s^{-1} kpc^{-1}}}$\n",
       "$\\newcommand{\\meanv}{\\ensuremath{<v>}}$\n",
       "$\\newcommand{\\vect}[1]{\\boldsymbol{#1}}$\n",
       "$\\newcommand{\\}{sol}$\n",
       "$\\newcommand{\\}{natexlab}$</div>\n",
       "\n",
       "<div class=\"macros\" style=\"visibility:hidden;\">\n",
       "$\\newcommand{$\\ensuremath$}{}$\n",
       "$\\newcommand{$\\xspace$}{}$\n",
       "$\\newcommand{$\\object$}[1]{\\texttt{#1}}$\n",
       "$\\newcommand{$\\farcs$}{{.}''}$\n",
       "$\\newcommand{$\\farcm$}{{.}'}$\n",
       "$\\newcommand{$\\arcsec$}{''}$\n",
       "$\\newcommand{$\\arcmin$}{'}$\n",
       "$\\newcommand{$\\ion$}[2]{#1#2}$\n",
       "$\\newcommand{$\\textsc$}[1]{\\textrm{#1}}$\n",
       "$\\newcommand{$\\hl$}[1]{\\textrm{#1}}$\n",
       "$\\newcommand{$\\degree$}{$\\ensuremath${^\\circ}}$\n",
       "$\\newcommand{$\\kmskpc$}{ap{km s^{-1} kpc^{-1}}}$\n",
       "$\\newcommand{$\\meanv$}{$\\ensuremath${<v>}}$\n",
       "$\\newcommand{$\\vect$}[1]{\\boldsymbol{#1}}$\n",
       "$\\newcommand{\\}{sol}$\n",
       "$\\newcommand{\\}{natexlab}$</div>\n",
       "\n",
       "\n",
       "\n",
       "<div id=\"title\">\n",
       "\n",
       "# PHANGS--JWST First Results: ISM structure on the turbulent Jeans scale in four disk galaxies observed by JWST and ALMA\n",
       "\n",
       "</div>\n",
       "<div id=\"comments\">\n",
       "\n",
       "[![arXiv](https://img.shields.io/badge/arXiv-2212.06434-b31b1b.svg)](https://arxiv.org/abs/2212.06434)<mark>Appeared on: 2022-12-14</mark> - _15 pages, 4 figures. Accepted as part of a PHANGS-JWST ApJL Focus Issue_\n",
       "\n",
       "</div>\n",
       "<div id=\"authors\">\n",
       "\n",
       "Sharon E. Meidt, et al. -- incl., <mark>Eva~Schinnerer</mark>, <mark>Janice C. Lee</mark>, <mark>Jonathan~D.~Henshaw</mark>, <mark>Daizhong Liu</mark>, <mark>Rowan J. Smith</mark>\n",
       "\n",
       "</div>\n",
       "<div id=\"abstract\">\n",
       "\n",
       "**Abstract:** JWST/MIRI imaging of the nearby galaxies IC 5332, NGC 628, NGC 1365 and NGC 7496 from PHANGS reveals a richness of gas structures that in each case form a quasi-regular network of interconnected filaments, shells and voids.  We examine whether this multi-scale network of structure is consistent with the fragmentation of the gas disk through gravitational instability.  We use FilFinder to detect the web of filamentary features in each galaxy and determine their characteristic radial and azimuthal spacings.  These spacings are then compared to estimates of the most Toomre-unstable length (a few kpc), the turbulent Jeans length (a few hundred pc) and the disk scale height (tens of pc) reconstructed using PHANGS-ALMA observations of the molecular gas as a dynamical tracer.  Our analysis of the four galaxies targeted in this work indicates that Jeans-scale structure is pervasive.  Future work will be essential for determining how the structure observed in gas disks impacts not only the rate and location of star formation but also how stellar feedback interacts positively or negatively with the surrounding multi-phase gas reservoir.\n",
       "\n",
       "</div>\n",
       "\n",
       "<div id=\"div_fig1\">\n",
       "\n",
       "<img src=\"tmp_2212.06434/./jwst_mapsNGC628.png\" alt=\"Fig2.1\" width=\"50%\"/><img src=\"tmp_2212.06434/./jwst_mapsIC5332.png\" alt=\"Fig2.2\" width=\"50%\"/>\n",
       "\n",
       "**Figure 2. -** (Top) JWST/MIRI 11.3 micron images and (bottom) FilFinder masks (see $\\S$\\ref{sec:FilFinder}) for two PHANGS-JWST targets, NGC 0628 (left) and IC 5332 (right).  The MIRI images are displayed on a asinh stretch.  The physical scale is indicated by a white bar in the left panels, while the red ellipse in the right panels positioned at a galactocentric radius $R$=2 kpc marks the orientation of elliptical annuli in the azimuthal spacings of the filaments identified in these two galaxies.  \\ (*fig:maps1*)\n",
       "\n",
       "</div>\n",
       "<div id=\"div_fig2\">\n",
       "\n",
       "<img src=\"tmp_2212.06434/./jwst_mapsNGC1365.png\" alt=\"Fig3.1\" width=\"50%\"/><img src=\"tmp_2212.06434/./jwst_mapsNGC7496.png\" alt=\"Fig3.2\" width=\"50%\"/>\n",
       "\n",
       "**Figure 3. -** (Top) JWST/MIRI 11.3 micron images and (bottom) FilFinder masks (see $\\S$\\ref{sec:FilFinder}) for two PHANGS-JWST targets, NGC 1365 (left) and NGC 7496 (right).  The MIRI images are displayed on a asinh stretch. The physical scale is indicated by a white bar in the left panels, while the red lines in the right panels illustrate the orientation of one of the segments along which radial spacings are measured in these two galaxies. (deprojected).\\ (*fig:maps2*)\n",
       "\n",
       "</div>\n",
       "<div id=\"div_fig3\">\n",
       "\n",
       "<img src=\"tmp_2212.06434/./ngc0628Jeanslengths_.png\" alt=\"Fig4.1\" width=\"25%\"/><img src=\"tmp_2212.06434/./ic5332Jeanslengths_.png\" alt=\"Fig4.2\" width=\"25%\"/><img src=\"tmp_2212.06434/./ngc1365Jeanslengths_.png\" alt=\"Fig4.3\" width=\"25%\"/><img src=\"tmp_2212.06434/./ngc7496Jeanslengths_.png\" alt=\"Fig4.4\" width=\"25%\"/>\n",
       "\n",
       "**Figure 4. -** Comparison between the spacings measured for filaments detected by FilFinder (black) and estimates for the Jeans length, Toomre length, most unstable 2D wavelength and gas scale height (gray, blue, red and purple hatched regions) in (clockwise from top left) NGC 628, IC 5332, NGC 7496 and NGC 1365.  In NGC 628 and IC 5332 the average azimuthal filament spacings in 300-pc wide (projected) radial bins are shown. In NGC 1365 and NGC 7496, the average radial filaments spacings in two radial zones $R<$2.5 kpc and $R>2.5$ kpc are shown.  The dark gray bar depicts the Jeans length estimated (where possible) using a determination of the equilibrium gas scale height show in red (see $\\S$\\ref{sec:jeanstoomre}), while the light gray band shows the range of values implied adopting a fixed 100-pc scale height.  The light blue band traces the range in Toomre lengths estimated for each gas disk.  The purple band shows the value estimated for $\\lambda_{2D}$ where 2D structure preferentially forms as long as $Q$ does not exceed unity.  Note that, given the estimated $\\lambda_T$, these $\\lambda_{2D}$ estimates would all coincide with $Q>1$, disfavoring structure on this scale (see eq. [\\ref{eq:toomre}]). Additional hatched light gray and light blue bands for IC 5332 show, respectively, the Jeans length (forward hatch) and Toomre length (backward hatch) when an atomic gas component is included, assuming a constant $h$=100 pc.\n",
       "  (*fig:spacings*)\n",
       "\n",
       "</div>"
      ],
      "text/plain": [
       "<IPython.core.display.Markdown object>"
      ]
     },
     "metadata": {},
     "output_type": "display_data"
    }
   ],
   "source": [
    "[display(Markdown(k[1])) for k in documents];"
   ]
  },
  {
   "cell_type": "markdown",
   "id": "873873a4",
   "metadata": {
    "papermill": {
     "duration": 0.009259,
     "end_time": "2022-12-14T04:08:34.812633",
     "exception": false,
     "start_time": "2022-12-14T04:08:34.803374",
     "status": "completed"
    },
    "tags": []
   },
   "source": [
    "# Create HTML index"
   ]
  },
  {
   "cell_type": "code",
   "execution_count": 10,
   "id": "cf665672",
   "metadata": {
    "execution": {
     "iopub.execute_input": "2022-12-14T04:08:34.832841Z",
     "iopub.status.busy": "2022-12-14T04:08:34.832339Z",
     "iopub.status.idle": "2022-12-14T04:08:34.843214Z",
     "shell.execute_reply": "2022-12-14T04:08:34.842519Z"
    },
    "papermill": {
     "duration": 0.022764,
     "end_time": "2022-12-14T04:08:34.844706",
     "exception": false,
     "start_time": "2022-12-14T04:08:34.821942",
     "status": "completed"
    },
    "tags": []
   },
   "outputs": [
    {
     "name": "stdout",
     "output_type": "stream",
     "text": [
      "132  publications in the last 7 days.\n",
      "\t _build/html/2212.06434.md\n",
      "\t _build/html/2212.04710.md\n",
      "\t _build/html/2212.04026.md\n",
      "\t _build/html/2212.03563.md\n",
      "\t _build/html/2212.03514.md\n",
      "\t _build/html/2212.02667.md\n",
      "\t _build/html/2212.02627.md\n",
      "\t _build/html/2212.02235.md\n",
      "\t _build/html/2212.01707.md\n",
      "\t _build/html/2212.01526.md\n",
      "\t _build/html/2212.01397.md\n",
      "\t _build/html/2212.01291.md\n",
      "\t _build/html/2212.01281.md\n",
      "\t _build/html/2212.00812.md\n",
      "\t _build/html/2212.00811.md\n",
      "\t _build/html/2212.00806.md\n",
      "\t _build/html/2212.00047.md\n",
      "\t _build/html/2212.00032.md\n",
      "\t _build/html/2211.16996.md\n",
      "\t _build/html/2211.16510.md\n",
      "\t _build/html/2211.16123.md\n",
      "\t _build/html/2211.15816.md\n",
      "\t _build/html/2211.15698.md\n",
      "\t _build/html/2211.15576.md\n",
      "\t _build/html/2211.15434.md\n",
      "\t _build/html/2211.15288.md\n",
      "\t _build/html/2211.15224.md\n",
      "\t _build/html/2211.14543.md\n",
      "\t _build/html/2211.14330.md\n",
      "\t _build/html/2211.14322.md\n",
      "\t _build/html/2211.14132.md\n",
      "\t _build/html/2211.13811.md\n",
      "\t _build/html/2211.13426.md\n",
      "\t _build/html/2211.13318.md\n",
      "\t _build/html/2211.13146.md\n",
      "\t _build/html/2211.12613.md\n",
      "\t _build/html/2211.11767.md\n",
      "\t _build/html/2211.09840.md\n",
      "\t _build/html/2211.09217.md\n",
      "\t _build/html/2211.08493.md\n",
      "\t _build/html/2211.08487.md\n",
      "\t _build/html/2211.08294.md\n",
      "\t _build/html/2211.07667.md\n",
      "\t _build/html/2211.07659.md\n",
      "\t _build/html/2211.06454.md\n",
      "\t _build/html/2211.06205.md\n",
      "\t _build/html/2211.06194.md\n",
      "\t _build/html/2211.05022.md\n",
      "\t _build/html/2211.04048.md\n",
      "\t _build/html/2211.03641.md\n",
      "\t _build/html/2211.02502.md\n",
      "\t _build/html/2211.01474.md\n",
      "\t _build/html/2211.00667.md\n",
      "\t _build/html/2211.00657.md\n",
      "\t _build/html/2211.00087.md\n",
      "\t _build/html/2211.00036.md\n",
      "\t _build/html/2211.00020.md\n",
      "\t _build/html/2211.00010.md\n",
      "\t _build/html/2210.17434.md\n",
      "\t _build/html/2210.12412.md\n",
      "\t _build/html/2210.11926.md\n",
      "\t _build/html/2210.11551.md\n",
      "\t _build/html/2210.11103.md\n",
      "\t _build/html/2210.10707.md\n",
      "\t _build/html/2210.09930.md\n",
      "\t _build/html/2210.08996.md\n",
      "\t _build/html/2210.08517.md\n",
      "\t _build/html/2210.08510.md\n",
      "\t _build/html/2210.08078.md\n",
      "\t _build/html/2210.06504.md\n",
      "\t _build/html/2210.05695.md\n",
      "\t _build/html/2210.05595.md\n",
      "\t _build/html/2210.05505.md\n",
      "\t _build/html/2210.04721.md\n",
      "\t _build/html/2210.03615.md\n",
      "\t _build/html/2210.01811.md\n",
      "\t _build/html/2210.01809.md\n",
      "\t _build/html/2210.01556.md\n",
      "\t _build/html/2210.00863.md\n",
      "\t _build/html/2210.00560.md\n",
      "\t _build/html/2209.15403.md\n",
      "\t _build/html/2209.15110.md\n",
      "\t _build/html/2209.14410.md\n",
      "\t _build/html/2209.14396.md\n",
      "\t _build/html/2209.13717.md\n",
      "\t _build/html/2209.13336.md\n",
      "\t _build/html/2209.12906.md\n",
      "\t _build/html/2209.11781.md\n",
      "\t _build/html/2209.11602.md\n",
      "\t _build/html/2209.11248.md\n",
      "\t _build/html/2209.11096.md\n",
      "\t _build/html/2209.10618.md\n",
      "\t _build/html/2209.09914.md\n",
      "\t _build/html/2209.09823.md\n",
      "\t _build/html/2209.08242.md\n",
      "\t _build/html/2209.08120.md\n",
      "\t _build/html/2209.08106.md\n",
      "\t _build/html/2209.07962.md\n",
      "\t _build/html/2209.07931.md\n",
      "\t _build/html/2209.06833.md\n",
      "\t _build/html/2209.05814.md\n",
      "\t _build/html/2209.05593.md\n",
      "\t _build/html/2209.04304.md\n",
      "\t _build/html/2209.03367.md\n",
      "\t _build/html/2209.02872.md\n",
      "\t _build/html/2209.02725.md\n",
      "\t _build/html/2209.02722.md\n",
      "\t _build/html/2209.02092.md\n",
      "\t _build/html/2209.01125.md\n",
      "\t _build/html/2209.00828.md\n",
      "\t _build/html/2209.00363.md\n",
      "\t _build/html/2208.14927.md\n",
      "\t _build/html/2208.09335.md\n",
      "\t _build/html/2208.08872.md\n",
      "\t _build/html/2204.06393.md\n",
      "\t _build/html/2204.03335.md\n",
      "\t _build/html/2204.03253.md\n",
      "\t _build/html/2204.02998.md\n",
      "\t _build/html/2204.02109.md\n",
      "\t _build/html/2204.02017.md\n",
      "\t _build/html/2204.01824.md\n",
      "\t _build/html/2204.01758.md\n",
      "\t _build/html/2204.01245.md\n",
      "\t _build/html/2204.00793.md\n",
      "\t _build/html/2204.00342.md\n",
      "\t _build/html/2203.16959.md\n",
      "\t _build/html/2203.16856.md\n",
      "\t _build/html/2203.16735.md\n",
      "\t _build/html/2203.16734.md\n",
      "\t _build/html/2203.16504.md\n",
      "\t _build/html/2203.15822.md\n",
      "\t _build/html/2203.15811.md\n"
     ]
    }
   ],
   "source": [
    "from datetime import datetime, timedelta, timezone\n",
    "from glob import glob\n",
    "\n",
    "files = glob('_build/html/*.md')\n",
    "days = 7\n",
    "now = datetime.today()\n",
    "res = []\n",
    "for fk in files:\n",
    "    stat_result = os.stat(fk).st_ctime\n",
    "    modified = datetime.fromtimestamp(stat_result, tz=timezone.utc).replace(tzinfo=None)\n",
    "    delta = now.today() - modified\n",
    "    if delta <= timedelta(days=days):\n",
    "        res.append((delta.seconds, fk))\n",
    "res = [k[1] for k in reversed(sorted(res, key=lambda x:x[1]))]\n",
    "npub = len(res)\n",
    "print(len(res), f\" publications in the last {days:d} days.\")\n",
    "[ print('\\t', k) for k in res ];"
   ]
  },
  {
   "cell_type": "code",
   "execution_count": 11,
   "id": "52ca0208",
   "metadata": {
    "execution": {
     "iopub.execute_input": "2022-12-14T04:08:34.865658Z",
     "iopub.status.busy": "2022-12-14T04:08:34.864929Z",
     "iopub.status.idle": "2022-12-14T04:08:34.871778Z",
     "shell.execute_reply": "2022-12-14T04:08:34.871178Z"
    },
    "papermill": {
     "duration": 0.018905,
     "end_time": "2022-12-14T04:08:34.873278",
     "exception": false,
     "start_time": "2022-12-14T04:08:34.854373",
     "status": "completed"
    },
    "scrolled": false,
    "tags": []
   },
   "outputs": [],
   "source": [
    "def create_carousel(npub=4):\n",
    "    \"\"\" Generate the HTML code for a carousel with `npub` slides \"\"\"\n",
    "    carousel = [\"\"\"<section class=\"carousel\" aria-label=\"Gallery\">\"\"\",\n",
    "                \"\"\"  <ol class=\"carousel__viewport\">\"\"\",\n",
    "    ]\n",
    "    for k in range(1, npub + 1):\n",
    "        prev_ = k - 1\n",
    "        next_ = k + 1\n",
    "        if prev_ <= 0:\n",
    "            prev_ = npub\n",
    "        if next_ > npub:\n",
    "            next_ = 1\n",
    "        text  = f\"\"\"    <li id=\"carousel__slide{k}\" tabindex=\"0\" class=\"carousel__slide\">\\n\"\"\"\n",
    "        text += f\"\"\"       <div class=\"carousel__snapper\">\\n\"\"\"\n",
    "        text += f\"\"\"         <a href=\"#carousel__slide{prev_}\" class=\"carousel__prev\">Go to previous slide</a>\\n\"\"\"\n",
    "        text += f\"\"\"         <a href=\"#carousel__slide{next_}\" class=\"carousel__next\">Go to next slide</a>\\n\"\"\"\n",
    "        text += f\"\"\"         <div id=\"slide{k}_content\" class=\"md_view\" >Content {k}</div>\\n\"\"\"\n",
    "        text += f\"\"\"       </div>\\n\"\"\"\n",
    "        text += f\"\"\"    </li>\"\"\"\n",
    "        carousel.append(text)\n",
    "\n",
    "    carousel.extend([\n",
    "        \"\"\"  </ol>\"\"\",\n",
    "        \"\"\"  <aside class=\"carousel__navigation\">\"\"\",\n",
    "        \"\"\"    <ol class=\"carousel__navigation-list\">\"\"\"])\n",
    "\n",
    "    for k in range(1, npub + 1):\n",
    "        text  = f\"\"\"      <li class=\"carousel__navigation-item\">\\n\"\"\"\n",
    "        text += f\"\"\"        <a href=\"#carousel__slide{k}\" class=\"carousel__navigation-button\">Go to {k}</a>\\n\"\"\"\n",
    "        text += f\"\"\"      </li>\"\"\"\n",
    "        carousel.append(text)\n",
    "    carousel.extend([\"\"\"    </ol>\"\"\", \"\"\"  </aside>\"\"\", \"\"\"</section>\"\"\"])\n",
    "\n",
    "    return '\\n'.join(carousel)"
   ]
  },
  {
   "cell_type": "code",
   "execution_count": 12,
   "id": "a6eac5b6",
   "metadata": {
    "execution": {
     "iopub.execute_input": "2022-12-14T04:08:34.927808Z",
     "iopub.status.busy": "2022-12-14T04:08:34.927489Z",
     "iopub.status.idle": "2022-12-14T04:08:34.934734Z",
     "shell.execute_reply": "2022-12-14T04:08:34.934020Z"
    },
    "papermill": {
     "duration": 0.053465,
     "end_time": "2022-12-14T04:08:34.936262",
     "exception": false,
     "start_time": "2022-12-14T04:08:34.882797",
     "status": "completed"
    },
    "scrolled": false,
    "tags": []
   },
   "outputs": [],
   "source": [
    "carousel = create_carousel(npub)\n",
    "docs = ', '.join(['\"{0:s}\"'.format(k.split('/')[-1]) for k in res])\n",
    "slides = ', '.join([f'\"slide{k}_content\"' for k in range(1, npub + 1)])\n",
    "\n",
    "script = f\"\"\"\n",
    "const docs = [{docs}]\n",
    "\n",
    "const slides = [{slides}]\n",
    "\"\"\" + \"\"\"\n",
    "async function run() {\n",
    "    for (let i = 0; i < docs.length; i++) {\n",
    "        let file = await fetch(docs[i]);\n",
    "        let text = await file.text()\n",
    "        document.getElementById(slides[i]).innerHTML =\n",
    "            marked.parse(text);\n",
    "    }\n",
    "    hljs.highlightAll();\n",
    "}\n",
    "run()\n",
    "\"\"\"\n",
    "\n",
    "page = f\"\"\"<!doctype html>\n",
    "<html lang=\"en\">\n",
    "\n",
    "<head>\n",
    "  <meta charset=\"utf-8\">\n",
    "  <meta name=\"viewport\" content=\"width=device-width, initial-scale=1\">\n",
    "  <!-- Bootstrap CSS -->\n",
    "  <link href=\"https://cdn.jsdelivr.net/npm/bootstrap@5.0.2/dist/css/bootstrap.min.css\" rel=\"stylesheet\"\n",
    "   integrity=\"sha384-EVSTQN3/azprG1Anm3QDgpJLIm9Nao0Yz1ztcQTwFspd3yD65VohhpuuCOmLASjC\" crossorigin=\"anonymous\">\n",
    "  <!-- highlight.js CSS -->\n",
    "  <link rel=\"stylesheet\" href=\"https://cdnjs.cloudflare.com/ajax/libs/highlight.js/11.1.0/styles/default.min.css\">\n",
    "  <!-- Mathjax 3 -->\n",
    "  <script type=\"text/javascript\" id=\"MathJax-config\" src=\"mathjax_config.js\"> </script>\n",
    "  <script type=\"text/javascript\" id=\"MathJax-script\" async \n",
    "    src=\"https://cdn.jsdelivr.net/npm/mathjax@3/es5/tex-mml-chtml.js\">\n",
    "  </script>\n",
    "  <link rel=\"stylesheet\" href=\"index_carousel.css\">\n",
    "  <link rel=\"icon\" type=\"image/x-icon\" href=\"https://www.mpia.de/assets/touch-icon-32x32-a66937bcebc4e8894ebff1f41a366c7c7220fd97a38869ee0f2db65a9f59b6c1.png\">\n",
    "  <title>MPIA Arxiv on deck!</title>\n",
    "</head>\n",
    "\n",
    "<body>\n",
    "  <div id=\"header\"> <img src=\"header_banner.png\" width=\"100%\"></div>\n",
    "  <div id=\"suptitle\"> 7-day archives </div>\n",
    "  <div id=\"info\">\n",
    "    <img src=\"https://pngimg.com/uploads/github/github_PNG58.png\" height=30rem></img>\n",
    "    <a href=https://github.com/mpi-astronomy/arxiv_display style=\"color:black;\">github/mpi-astronomy/arxiv_display</a> \n",
    "  </div>\n",
    "  {carousel:s}\n",
    "</body>\n",
    "\n",
    "<!-- Render Markdown -->\n",
    "\n",
    "<body>\n",
    "  <!-- highlight.js: https://highlightjs.org/download/ -->\n",
    "  <script src=\"https://cdnjs.cloudflare.com/ajax/libs/highlight.js/11.5.0/highlight.min.js\"></script>\n",
    "  <!-- marked.js -->\n",
    "  <script src=\"https://cdn.jsdelivr.net/npm/marked/marked.min.js\"></script>\n",
    "  <script>{script:s}</script>\n",
    "</body>\n",
    "</html>\n",
    "\"\"\"\n",
    "with open(\"_build/html/index_7days.html\", 'w') as fout:\n",
    "    fout.write(page)"
   ]
  },
  {
   "cell_type": "markdown",
   "id": "1cebacbc",
   "metadata": {
    "papermill": {
     "duration": 0.009541,
     "end_time": "2022-12-14T04:08:34.955433",
     "exception": false,
     "start_time": "2022-12-14T04:08:34.945892",
     "status": "completed"
    },
    "tags": []
   },
   "source": [
    "# Debugging papers"
   ]
  },
  {
   "cell_type": "raw",
   "id": "debe7cc6",
   "metadata": {
    "papermill": {
     "duration": 0.009516,
     "end_time": "2022-12-14T04:08:34.974536",
     "exception": false,
     "start_time": "2022-12-14T04:08:34.965020",
     "status": "completed"
    },
    "tags": []
   },
   "source": [
    "raise NotImplementedError(\"Manual Stop\")"
   ]
  },
  {
   "cell_type": "raw",
   "id": "eb169192",
   "metadata": {
    "papermill": {
     "duration": 0.009426,
     "end_time": "2022-12-14T04:08:34.993481",
     "exception": false,
     "start_time": "2022-12-14T04:08:34.984055",
     "status": "completed"
    },
    "scrolled": true,
    "tags": []
   },
   "source": [
    "from IPython.display import display, Markdown\n",
    "from TexSoup import TexSoup\n",
    "import re\n",
    "\n",
    "def bracket_error(source: str):\n",
    "    \"\"\" Find problematic portions of the document \"\"\"\n",
    "    \n",
    "    print(\"len(source)\", len(source))\n",
    "    \n",
    "    # Checking header\n",
    "    begin_doc = next(re.finditer(r'\\\\begin\\{document\\}', doc.source)).span()[1]\n",
    "    header = source[:begin_doc]\n",
    "    text = header + r\"\\n\\end{document}\"\n",
    "\n",
    "    try:\n",
    "        # print(\"Header check... \", end='')\n",
    "        TexSoup(text)\n",
    "        display(Markdown(f\"**[OK]** - Header\"))\n",
    "    except:\n",
    "        raise RuntimeError(\"Error in the header\")\n",
    "        \n",
    "    # Check the text per section until the end.\n",
    "    # Do not stop and try them all.\n",
    "    \n",
    "    problematic_text = []\n",
    "    \n",
    "    sections = ([(0, begin_doc, 'until first section')] + \n",
    "                [(g.span()[0], g.span()[1], g.group()) for g in re.finditer(r'\\\\section\\{.*\\}', source)] +\n",
    "                [(g.span()[0], g.span()[1], g.group()) for g in re.finditer(r'\\\\begin\\{appendix\\}', source)]\n",
    "               )\n",
    "    sections.append([len(source), len(source), 'end'])\n",
    "    \n",
    "    sections = sorted(sections, key=lambda x: x[0])\n",
    "    \n",
    "    prev_pos, prev_name = (0, 'header')\n",
    "    parsed = []\n",
    "    \n",
    "    for span, span_end, name in sections:\n",
    "\n",
    "        if span - prev_pos <= 0:\n",
    "            continue\n",
    "            \n",
    "\n",
    "        text = source[prev_pos:span]\n",
    "        if prev_pos > begin_doc:\n",
    "            text = r\"\\n\\begin{document}\" + text + r\"\\n\\end{document}\"\n",
    "        else:\n",
    "            text = text + r\"\\n\\end{document}\"\n",
    "        try:\n",
    "            #print(f\"{prev_pos}:{prev_name}-->{span}:{name} check... \", end='')\n",
    "            parsed.append(TexSoup(text, tolerance=1))  # allow not ending env\n",
    "            display(Markdown(f\"**[OK]** - *{prev_pos}*:{prev_name} &rarr; *{span}*:{name}\"))\n",
    "            # print(\"ok\")\n",
    "\n",
    "            prev_pos = span\n",
    "            prev_name = name\n",
    "        except:\n",
    "            # print(f\"error between {prev_pos} and {span}\")\n",
    "            display(Markdown(f\"**[ERR]** *{prev_pos}*:{prev_name} &rarr; *{span}*:{name}\"))\n",
    "            problematic_text.append((prev_pos, source[prev_pos:span]))\n",
    "            prev_pos = span\n",
    "            prev_name = name\n",
    "            # raise\n",
    "    return problematic_text, parsed\n",
    "\n",
    "\n",
    "def check_environment(text, offset=0):\n",
    "    \"\"\" Check environment \"\"\"\n",
    "    env = re.compile(r\"\\\\begin\\{(?P<env>.*)\\}(.*)\\\\end\\{(?P=env)\\}\", re.DOTALL)\n",
    "\n",
    "    for match in env.finditer(text):\n",
    "        beg, end = match.span()\n",
    "        beg += offset\n",
    "        end += offset\n",
    "        envname = match.groups()[0]\n",
    "        try:\n",
    "            latex.TexSoup(match.group())\n",
    "        except Exception as e:\n",
    "            display(e)\n",
    "            print(f\"Error in {envname:s} between {beg} and {end}\")\n",
    "            return match.groups()[1], beg, end"
   ]
  },
  {
   "cell_type": "raw",
   "id": "2315e835",
   "metadata": {
    "papermill": {
     "duration": 0.009471,
     "end_time": "2022-12-14T04:08:35.012461",
     "exception": false,
     "start_time": "2022-12-14T04:08:35.002990",
     "status": "completed"
    },
    "scrolled": false,
    "tags": []
   },
   "source": [
    "import importlib\n",
    "importlib.reload(latex)\n",
    "which = \"2204.03253\"\n",
    "paper_id = f'{which:s}'\n",
    "folder = f'tmp_{paper_id:s}'\n",
    "\n",
    "if not os.path.isdir(folder):\n",
    "    folder = retrieve_document_source(f\"{paper_id}\", f'tmp_{paper_id}')\n",
    "\n",
    "try:\n",
    "    doc = latex.LatexDocument(folder, validation=validation)    \n",
    "except AffiliationError as affilerror:\n",
    "    msg = f\"ArXiv:{paper_id:s} is not an MPIA paper... \" + str(affilerror)\n",
    "    print(msg)\n",
    "\n",
    "\n",
    "# Hack because sometimes author parsing does not work well\n",
    "if (len(doc.authors) != len(paper['authors'])):\n",
    "    doc._authors = paper['authors']\n",
    "if (doc.abstract) in (None, ''):\n",
    "    doc._abstract = paper['abstract']\n",
    "\n",
    "doc.comment = get_markdown_badge(paper_id) + \" _\" + paper['comments'] + \"_\"\n",
    "doc.highlight_authors_in_list(hl_list)\n",
    "\n",
    "full_md = doc.generate_markdown_text()"
   ]
  },
  {
   "cell_type": "raw",
   "id": "dd3781db",
   "metadata": {
    "papermill": {
     "duration": 0.009518,
     "end_time": "2022-12-14T04:08:35.031509",
     "exception": false,
     "start_time": "2022-12-14T04:08:35.021991",
     "status": "completed"
    },
    "scrolled": false,
    "tags": []
   },
   "source": [
    "doc"
   ]
  },
  {
   "cell_type": "raw",
   "id": "c6eed834",
   "metadata": {
    "papermill": {
     "duration": 0.010115,
     "end_time": "2022-12-14T04:08:35.052572",
     "exception": false,
     "start_time": "2022-12-14T04:08:35.042457",
     "status": "completed"
    },
    "tags": []
   },
   "source": [
    "# [check_environment(k) for k in bracket_error(doc.source)]\n",
    "_, _, a = latex.get_content_per_section(doc.source, verbose=True)\n",
    "if not a:\n",
    "    print(\"no issues per section\")\n",
    "for ak in a:\n",
    "    r = check_environment(ak[1], offset=ak[0])\n",
    "    print(r[1], r[2])\n",
    "    print(r[0])"
   ]
  },
  {
   "cell_type": "code",
   "execution_count": null,
   "id": "71ce768a",
   "metadata": {
    "papermill": {
     "duration": 0.009488,
     "end_time": "2022-12-14T04:08:35.071584",
     "exception": false,
     "start_time": "2022-12-14T04:08:35.062096",
     "status": "completed"
    },
    "tags": []
   },
   "outputs": [],
   "source": []
  }
 ],
 "metadata": {
  "kernelspec": {
   "display_name": "Python 3.10.6 64-bit",
   "language": "python",
   "name": "python3"
  },
  "language_info": {
   "codemirror_mode": {
    "name": "ipython",
    "version": 3
   },
   "file_extension": ".py",
   "mimetype": "text/x-python",
   "name": "python",
   "nbconvert_exporter": "python",
   "pygments_lexer": "ipython3",
   "version": "3.9.15"
  },
  "papermill": {
   "default_parameters": {},
   "duration": 72.16212,
   "end_time": "2022-12-14T04:08:35.299316",
   "environment_variables": {},
   "exception": null,
   "input_path": "MPIA daily digest.ipynb",
   "output_path": "log.ipynb",
   "parameters": {},
   "start_time": "2022-12-14T04:07:23.137196",
   "version": "2.4.0"
  },
  "vscode": {
   "interpreter": {
    "hash": "e7370f93d1d0cde622a1f8e1c04877d8463912d04d973331ad4851f04de6915a"
   }
  },
  "widgets": {
   "application/vnd.jupyter.widget-state+json": {
    "state": {
     "0a0c41a0b57244fb8a5d845e6ed13604": {
      "model_module": "@jupyter-widgets/base",
      "model_module_version": "2.0.0",
      "model_name": "LayoutModel",
      "state": {
       "_model_module": "@jupyter-widgets/base",
       "_model_module_version": "2.0.0",
       "_model_name": "LayoutModel",
       "_view_count": null,
       "_view_module": "@jupyter-widgets/base",
       "_view_module_version": "2.0.0",
       "_view_name": "LayoutView",
       "align_content": null,
       "align_items": null,
       "align_self": null,
       "border_bottom": null,
       "border_left": null,
       "border_right": null,
       "border_top": null,
       "bottom": null,
       "display": null,
       "flex": null,
       "flex_flow": null,
       "grid_area": null,
       "grid_auto_columns": null,
       "grid_auto_flow": null,
       "grid_auto_rows": null,
       "grid_column": null,
       "grid_gap": null,
       "grid_row": null,
       "grid_template_areas": null,
       "grid_template_columns": null,
       "grid_template_rows": null,
       "height": null,
       "justify_content": null,
       "justify_items": null,
       "left": null,
       "margin": null,
       "max_height": null,
       "max_width": null,
       "min_height": null,
       "min_width": null,
       "object_fit": null,
       "object_position": null,
       "order": null,
       "overflow": null,
       "padding": null,
       "right": null,
       "top": null,
       "visibility": null,
       "width": null
      }
     },
     "1820e7469a2243119ffa660504fdad10": {
      "model_module": "@jupyter-widgets/controls",
      "model_module_version": "2.0.0",
      "model_name": "HTMLModel",
      "state": {
       "_dom_classes": [],
       "_model_module": "@jupyter-widgets/controls",
       "_model_module_version": "2.0.0",
       "_model_name": "HTMLModel",
       "_view_count": null,
       "_view_module": "@jupyter-widgets/controls",
       "_view_module_version": "2.0.0",
       "_view_name": "HTMLView",
       "description": "",
       "description_allow_html": false,
       "layout": "IPY_MODEL_ea4bf19306fe4bfa8e274b1f3cd12403",
       "placeholder": "​",
       "style": "IPY_MODEL_24f138a2e4c14427b075ccdc128b4487",
       "tabbable": null,
       "tooltip": null,
       "value": ""
      }
     },
     "24f138a2e4c14427b075ccdc128b4487": {
      "model_module": "@jupyter-widgets/controls",
      "model_module_version": "2.0.0",
      "model_name": "HTMLStyleModel",
      "state": {
       "_model_module": "@jupyter-widgets/controls",
       "_model_module_version": "2.0.0",
       "_model_name": "HTMLStyleModel",
       "_view_count": null,
       "_view_module": "@jupyter-widgets/base",
       "_view_module_version": "2.0.0",
       "_view_name": "StyleView",
       "background": null,
       "description_width": "",
       "font_size": null,
       "text_color": null
      }
     },
     "25952fd9d953431e82d4a078f320a3c3": {
      "model_module": "@jupyter-widgets/controls",
      "model_module_version": "2.0.0",
      "model_name": "ProgressStyleModel",
      "state": {
       "_model_module": "@jupyter-widgets/controls",
       "_model_module_version": "2.0.0",
       "_model_name": "ProgressStyleModel",
       "_view_count": null,
       "_view_module": "@jupyter-widgets/base",
       "_view_module_version": "2.0.0",
       "_view_name": "StyleView",
       "bar_color": null,
       "description_width": ""
      }
     },
     "37d61579db1441b4ace7ce2fe5f891fb": {
      "model_module": "@jupyter-widgets/controls",
      "model_module_version": "2.0.0",
      "model_name": "FloatProgressModel",
      "state": {
       "_dom_classes": [],
       "_model_module": "@jupyter-widgets/controls",
       "_model_module_version": "2.0.0",
       "_model_name": "FloatProgressModel",
       "_view_count": null,
       "_view_module": "@jupyter-widgets/controls",
       "_view_module_version": "2.0.0",
       "_view_name": "ProgressView",
       "bar_style": "",
       "description": "",
       "description_allow_html": false,
       "layout": "IPY_MODEL_4c8d2d65e28f4116aedfe03cdda71973",
       "max": 20.0,
       "min": 0.0,
       "orientation": "horizontal",
       "style": "IPY_MODEL_f8167831711b4ba6bfe471b6a50af7f9",
       "tabbable": null,
       "tooltip": null,
       "value": 0.0
      }
     },
     "40e18314d5614f29bd46374730f38a80": {
      "model_module": "@jupyter-widgets/controls",
      "model_module_version": "2.0.0",
      "model_name": "FloatProgressModel",
      "state": {
       "_dom_classes": [],
       "_model_module": "@jupyter-widgets/controls",
       "_model_module_version": "2.0.0",
       "_model_name": "FloatProgressModel",
       "_view_count": null,
       "_view_module": "@jupyter-widgets/controls",
       "_view_module_version": "2.0.0",
       "_view_name": "ProgressView",
       "bar_style": "success",
       "description": "",
       "description_allow_html": false,
       "layout": "IPY_MODEL_4c8d2d65e28f4116aedfe03cdda71973",
       "max": 20.0,
       "min": 0.0,
       "orientation": "horizontal",
       "style": "IPY_MODEL_f8167831711b4ba6bfe471b6a50af7f9",
       "tabbable": null,
       "tooltip": null,
       "value": 20.0
      }
     },
     "454751acb16d4ff1822ee6c8804727fe": {
      "model_module": "@jupyter-widgets/controls",
      "model_module_version": "2.0.0",
      "model_name": "HTMLStyleModel",
      "state": {
       "_model_module": "@jupyter-widgets/controls",
       "_model_module_version": "2.0.0",
       "_model_name": "HTMLStyleModel",
       "_view_count": null,
       "_view_module": "@jupyter-widgets/base",
       "_view_module_version": "2.0.0",
       "_view_name": "StyleView",
       "background": null,
       "description_width": "",
       "font_size": null,
       "text_color": null
      }
     },
     "46fabf3b80684ba98f120a6536e44f93": {
      "model_module": "@jupyter-widgets/controls",
      "model_module_version": "2.0.0",
      "model_name": "HTMLStyleModel",
      "state": {
       "_model_module": "@jupyter-widgets/controls",
       "_model_module_version": "2.0.0",
       "_model_name": "HTMLStyleModel",
       "_view_count": null,
       "_view_module": "@jupyter-widgets/base",
       "_view_module_version": "2.0.0",
       "_view_name": "StyleView",
       "background": null,
       "description_width": "",
       "font_size": null,
       "text_color": null
      }
     },
     "4af1c7b867e44e759d7badb628dc054c": {
      "model_module": "@jupyter-widgets/base",
      "model_module_version": "2.0.0",
      "model_name": "LayoutModel",
      "state": {
       "_model_module": "@jupyter-widgets/base",
       "_model_module_version": "2.0.0",
       "_model_name": "LayoutModel",
       "_view_count": null,
       "_view_module": "@jupyter-widgets/base",
       "_view_module_version": "2.0.0",
       "_view_name": "LayoutView",
       "align_content": null,
       "align_items": null,
       "align_self": null,
       "border_bottom": null,
       "border_left": null,
       "border_right": null,
       "border_top": null,
       "bottom": null,
       "display": null,
       "flex": null,
       "flex_flow": null,
       "grid_area": null,
       "grid_auto_columns": null,
       "grid_auto_flow": null,
       "grid_auto_rows": null,
       "grid_column": null,
       "grid_gap": null,
       "grid_row": null,
       "grid_template_areas": null,
       "grid_template_columns": null,
       "grid_template_rows": null,
       "height": null,
       "justify_content": null,
       "justify_items": null,
       "left": null,
       "margin": null,
       "max_height": null,
       "max_width": null,
       "min_height": null,
       "min_width": null,
       "object_fit": null,
       "object_position": null,
       "order": null,
       "overflow": null,
       "padding": null,
       "right": null,
       "top": null,
       "visibility": null,
       "width": null
      }
     },
     "4c8d2d65e28f4116aedfe03cdda71973": {
      "model_module": "@jupyter-widgets/base",
      "model_module_version": "2.0.0",
      "model_name": "LayoutModel",
      "state": {
       "_model_module": "@jupyter-widgets/base",
       "_model_module_version": "2.0.0",
       "_model_name": "LayoutModel",
       "_view_count": null,
       "_view_module": "@jupyter-widgets/base",
       "_view_module_version": "2.0.0",
       "_view_name": "LayoutView",
       "align_content": null,
       "align_items": null,
       "align_self": null,
       "border_bottom": null,
       "border_left": null,
       "border_right": null,
       "border_top": null,
       "bottom": null,
       "display": null,
       "flex": null,
       "flex_flow": null,
       "grid_area": null,
       "grid_auto_columns": null,
       "grid_auto_flow": null,
       "grid_auto_rows": null,
       "grid_column": null,
       "grid_gap": null,
       "grid_row": null,
       "grid_template_areas": null,
       "grid_template_columns": null,
       "grid_template_rows": null,
       "height": null,
       "justify_content": null,
       "justify_items": null,
       "left": null,
       "margin": null,
       "max_height": null,
       "max_width": null,
       "min_height": null,
       "min_width": null,
       "object_fit": null,
       "object_position": null,
       "order": null,
       "overflow": null,
       "padding": null,
       "right": null,
       "top": null,
       "visibility": null,
       "width": null
      }
     },
     "612f24d34d0d4d13be53b98983f54b20": {
      "model_module": "@jupyter-widgets/base",
      "model_module_version": "2.0.0",
      "model_name": "LayoutModel",
      "state": {
       "_model_module": "@jupyter-widgets/base",
       "_model_module_version": "2.0.0",
       "_model_name": "LayoutModel",
       "_view_count": null,
       "_view_module": "@jupyter-widgets/base",
       "_view_module_version": "2.0.0",
       "_view_name": "LayoutView",
       "align_content": null,
       "align_items": null,
       "align_self": null,
       "border_bottom": null,
       "border_left": null,
       "border_right": null,
       "border_top": null,
       "bottom": null,
       "display": null,
       "flex": null,
       "flex_flow": null,
       "grid_area": null,
       "grid_auto_columns": null,
       "grid_auto_flow": null,
       "grid_auto_rows": null,
       "grid_column": null,
       "grid_gap": null,
       "grid_row": null,
       "grid_template_areas": null,
       "grid_template_columns": null,
       "grid_template_rows": null,
       "height": null,
       "justify_content": null,
       "justify_items": null,
       "left": null,
       "margin": null,
       "max_height": null,
       "max_width": null,
       "min_height": null,
       "min_width": null,
       "object_fit": null,
       "object_position": null,
       "order": null,
       "overflow": null,
       "padding": null,
       "right": null,
       "top": null,
       "visibility": null,
       "width": null
      }
     },
     "6b1293464e8b456fb7b4db8791269f2c": {
      "model_module": "@jupyter-widgets/controls",
      "model_module_version": "2.0.0",
      "model_name": "HTMLModel",
      "state": {
       "_dom_classes": [],
       "_model_module": "@jupyter-widgets/controls",
       "_model_module_version": "2.0.0",
       "_model_name": "HTMLModel",
       "_view_count": null,
       "_view_module": "@jupyter-widgets/controls",
       "_view_module_version": "2.0.0",
       "_view_name": "HTMLView",
       "description": "",
       "description_allow_html": false,
       "layout": "IPY_MODEL_ea4bf19306fe4bfa8e274b1f3cd12403",
       "placeholder": "​",
       "style": "IPY_MODEL_24f138a2e4c14427b075ccdc128b4487",
       "tabbable": null,
       "tooltip": null,
       "value": " 20/20 [00:46&lt;00:00,  1.12s/it]"
      }
     },
     "849c9be9c9604ef3a323686c016783a5": {
      "model_module": "@jupyter-widgets/base",
      "model_module_version": "2.0.0",
      "model_name": "LayoutModel",
      "state": {
       "_model_module": "@jupyter-widgets/base",
       "_model_module_version": "2.0.0",
       "_model_name": "LayoutModel",
       "_view_count": null,
       "_view_module": "@jupyter-widgets/base",
       "_view_module_version": "2.0.0",
       "_view_name": "LayoutView",
       "align_content": null,
       "align_items": null,
       "align_self": null,
       "border_bottom": null,
       "border_left": null,
       "border_right": null,
       "border_top": null,
       "bottom": null,
       "display": null,
       "flex": null,
       "flex_flow": null,
       "grid_area": null,
       "grid_auto_columns": null,
       "grid_auto_flow": null,
       "grid_auto_rows": null,
       "grid_column": null,
       "grid_gap": null,
       "grid_row": null,
       "grid_template_areas": null,
       "grid_template_columns": null,
       "grid_template_rows": null,
       "height": null,
       "justify_content": null,
       "justify_items": null,
       "left": null,
       "margin": null,
       "max_height": null,
       "max_width": null,
       "min_height": null,
       "min_width": null,
       "object_fit": null,
       "object_position": null,
       "order": null,
       "overflow": null,
       "padding": null,
       "right": null,
       "top": null,
       "visibility": null,
       "width": null
      }
     },
     "a7fe2f8124c5463594683bbf095db3db": {
      "model_module": "@jupyter-widgets/base",
      "model_module_version": "2.0.0",
      "model_name": "LayoutModel",
      "state": {
       "_model_module": "@jupyter-widgets/base",
       "_model_module_version": "2.0.0",
       "_model_name": "LayoutModel",
       "_view_count": null,
       "_view_module": "@jupyter-widgets/base",
       "_view_module_version": "2.0.0",
       "_view_name": "LayoutView",
       "align_content": null,
       "align_items": null,
       "align_self": null,
       "border_bottom": null,
       "border_left": null,
       "border_right": null,
       "border_top": null,
       "bottom": null,
       "display": null,
       "flex": null,
       "flex_flow": null,
       "grid_area": null,
       "grid_auto_columns": null,
       "grid_auto_flow": null,
       "grid_auto_rows": null,
       "grid_column": null,
       "grid_gap": null,
       "grid_row": null,
       "grid_template_areas": null,
       "grid_template_columns": null,
       "grid_template_rows": null,
       "height": null,
       "justify_content": null,
       "justify_items": null,
       "left": null,
       "margin": null,
       "max_height": null,
       "max_width": null,
       "min_height": null,
       "min_width": null,
       "object_fit": null,
       "object_position": null,
       "order": null,
       "overflow": null,
       "padding": null,
       "right": null,
       "top": null,
       "visibility": null,
       "width": null
      }
     },
     "c1ce8e492daa46059afb80d1c40e0d98": {
      "model_module": "@jupyter-widgets/base",
      "model_module_version": "2.0.0",
      "model_name": "LayoutModel",
      "state": {
       "_model_module": "@jupyter-widgets/base",
       "_model_module_version": "2.0.0",
       "_model_name": "LayoutModel",
       "_view_count": null,
       "_view_module": "@jupyter-widgets/base",
       "_view_module_version": "2.0.0",
       "_view_name": "LayoutView",
       "align_content": null,
       "align_items": null,
       "align_self": null,
       "border_bottom": null,
       "border_left": null,
       "border_right": null,
       "border_top": null,
       "bottom": null,
       "display": null,
       "flex": null,
       "flex_flow": null,
       "grid_area": null,
       "grid_auto_columns": null,
       "grid_auto_flow": null,
       "grid_auto_rows": null,
       "grid_column": null,
       "grid_gap": null,
       "grid_row": null,
       "grid_template_areas": null,
       "grid_template_columns": null,
       "grid_template_rows": null,
       "height": null,
       "justify_content": null,
       "justify_items": null,
       "left": null,
       "margin": null,
       "max_height": null,
       "max_width": null,
       "min_height": null,
       "min_width": null,
       "object_fit": null,
       "object_position": null,
       "order": null,
       "overflow": null,
       "padding": null,
       "right": null,
       "top": null,
       "visibility": null,
       "width": null
      }
     },
     "c450ed0d6dfb44b8bbf758489d3efde6": {
      "model_module": "@jupyter-widgets/controls",
      "model_module_version": "2.0.0",
      "model_name": "HTMLStyleModel",
      "state": {
       "_model_module": "@jupyter-widgets/controls",
       "_model_module_version": "2.0.0",
       "_model_name": "HTMLStyleModel",
       "_view_count": null,
       "_view_module": "@jupyter-widgets/base",
       "_view_module_version": "2.0.0",
       "_view_name": "StyleView",
       "background": null,
       "description_width": "",
       "font_size": null,
       "text_color": null
      }
     },
     "ea4bf19306fe4bfa8e274b1f3cd12403": {
      "model_module": "@jupyter-widgets/base",
      "model_module_version": "2.0.0",
      "model_name": "LayoutModel",
      "state": {
       "_model_module": "@jupyter-widgets/base",
       "_model_module_version": "2.0.0",
       "_model_name": "LayoutModel",
       "_view_count": null,
       "_view_module": "@jupyter-widgets/base",
       "_view_module_version": "2.0.0",
       "_view_name": "LayoutView",
       "align_content": null,
       "align_items": null,
       "align_self": null,
       "border_bottom": null,
       "border_left": null,
       "border_right": null,
       "border_top": null,
       "bottom": null,
       "display": null,
       "flex": null,
       "flex_flow": null,
       "grid_area": null,
       "grid_auto_columns": null,
       "grid_auto_flow": null,
       "grid_auto_rows": null,
       "grid_column": null,
       "grid_gap": null,
       "grid_row": null,
       "grid_template_areas": null,
       "grid_template_columns": null,
       "grid_template_rows": null,
       "height": null,
       "justify_content": null,
       "justify_items": null,
       "left": null,
       "margin": null,
       "max_height": null,
       "max_width": null,
       "min_height": null,
       "min_width": null,
       "object_fit": null,
       "object_position": null,
       "order": null,
       "overflow": null,
       "padding": null,
       "right": null,
       "top": null,
       "visibility": null,
       "width": null
      }
     },
     "eb97002205fd491fb116befaf520c5e5": {
      "model_module": "@jupyter-widgets/controls",
      "model_module_version": "2.0.0",
      "model_name": "HBoxModel",
      "state": {
       "_dom_classes": [],
       "_model_module": "@jupyter-widgets/controls",
       "_model_module_version": "2.0.0",
       "_model_name": "HBoxModel",
       "_view_count": null,
       "_view_module": "@jupyter-widgets/controls",
       "_view_module_version": "2.0.0",
       "_view_name": "HBoxView",
       "box_style": "",
       "children": [
        "IPY_MODEL_ff877ad73fe847ccb24fcd2b13e2f9b0",
        "IPY_MODEL_40e18314d5614f29bd46374730f38a80",
        "IPY_MODEL_6b1293464e8b456fb7b4db8791269f2c"
       ],
       "layout": "IPY_MODEL_612f24d34d0d4d13be53b98983f54b20",
       "tabbable": null,
       "tooltip": null
      }
     },
     "ef3d83445c574a37aa1b46e5b3b06909": {
      "model_module": "@jupyter-widgets/controls",
      "model_module_version": "2.0.0",
      "model_name": "HTMLModel",
      "state": {
       "_dom_classes": [],
       "_model_module": "@jupyter-widgets/controls",
       "_model_module_version": "2.0.0",
       "_model_name": "HTMLModel",
       "_view_count": null,
       "_view_module": "@jupyter-widgets/controls",
       "_view_module_version": "2.0.0",
       "_view_name": "HTMLView",
       "description": "",
       "description_allow_html": false,
       "layout": "IPY_MODEL_4af1c7b867e44e759d7badb628dc054c",
       "placeholder": "​",
       "style": "IPY_MODEL_46fabf3b80684ba98f120a6536e44f93",
       "tabbable": null,
       "tooltip": null,
       "value": ""
      }
     },
     "f49f5e0a4054476cb402e55dee60a45f": {
      "model_module": "@jupyter-widgets/controls",
      "model_module_version": "2.0.0",
      "model_name": "HBoxModel",
      "state": {
       "_dom_classes": [],
       "_model_module": "@jupyter-widgets/controls",
       "_model_module_version": "2.0.0",
       "_model_name": "HBoxModel",
       "_view_count": null,
       "_view_module": "@jupyter-widgets/controls",
       "_view_module_version": "2.0.0",
       "_view_name": "HBoxView",
       "box_style": "",
       "children": [
        "IPY_MODEL_ff877ad73fe847ccb24fcd2b13e2f9b0",
        "IPY_MODEL_40e18314d5614f29bd46374730f38a80",
        "IPY_MODEL_6b1293464e8b456fb7b4db8791269f2c"
       ],
       "layout": "IPY_MODEL_612f24d34d0d4d13be53b98983f54b20",
       "tabbable": null,
       "tooltip": null
      }
     },
     "f8167831711b4ba6bfe471b6a50af7f9": {
      "model_module": "@jupyter-widgets/controls",
      "model_module_version": "2.0.0",
      "model_name": "ProgressStyleModel",
      "state": {
       "_model_module": "@jupyter-widgets/controls",
       "_model_module_version": "2.0.0",
       "_model_name": "ProgressStyleModel",
       "_view_count": null,
       "_view_module": "@jupyter-widgets/base",
       "_view_module_version": "2.0.0",
       "_view_name": "StyleView",
       "bar_color": null,
       "description_width": ""
      }
     },
     "ff877ad73fe847ccb24fcd2b13e2f9b0": {
      "model_module": "@jupyter-widgets/controls",
      "model_module_version": "2.0.0",
      "model_name": "HTMLModel",
      "state": {
       "_dom_classes": [],
       "_model_module": "@jupyter-widgets/controls",
       "_model_module_version": "2.0.0",
       "_model_name": "HTMLModel",
       "_view_count": null,
       "_view_module": "@jupyter-widgets/controls",
       "_view_module_version": "2.0.0",
       "_view_name": "HTMLView",
       "description": "",
       "description_allow_html": false,
       "layout": "IPY_MODEL_4af1c7b867e44e759d7badb628dc054c",
       "placeholder": "​",
       "style": "IPY_MODEL_46fabf3b80684ba98f120a6536e44f93",
       "tabbable": null,
       "tooltip": null,
       "value": "100%"
      }
     }
    },
    "version_major": 2,
    "version_minor": 0
   }
  }
 },
 "nbformat": 4,
 "nbformat_minor": 5
}