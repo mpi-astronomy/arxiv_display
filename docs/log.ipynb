{
 "cells": [
  {
   "cell_type": "markdown",
   "id": "92bcb855",
   "metadata": {
    "papermill": {
     "duration": 0.003937,
     "end_time": "2025-10-17T04:12:17.778486",
     "exception": false,
     "start_time": "2025-10-17T04:12:17.774549",
     "status": "completed"
    },
    "tags": []
   },
   "source": [
    "# MPIA Arxiv on Deck 2\n",
    "\n",
    "Contains the steps to produce the paper extractions."
   ]
  },
  {
   "cell_type": "code",
   "execution_count": 1,
   "id": "3a0d6e11",
   "metadata": {
    "execution": {
     "iopub.execute_input": "2025-10-17T04:12:17.785882Z",
     "iopub.status.busy": "2025-10-17T04:12:17.785623Z",
     "iopub.status.idle": "2025-10-17T04:12:17.995683Z",
     "shell.execute_reply": "2025-10-17T04:12:17.994992Z"
    },
    "papermill": {
     "duration": 0.215237,
     "end_time": "2025-10-17T04:12:17.996997",
     "exception": false,
     "start_time": "2025-10-17T04:12:17.781760",
     "status": "completed"
    },
    "tags": []
   },
   "outputs": [],
   "source": [
    "# Imports\n",
    "import os\n",
    "from IPython.display import Markdown, display\n",
    "from tqdm.notebook import tqdm\n",
    "import warnings\n",
    "from PIL import Image \n",
    "import re\n",
    "\n",
    "# requires arxiv_on_deck_2\n",
    "\n",
    "from arxiv_on_deck_2.arxiv2 import (get_new_papers, \n",
    "                                    get_paper_from_identifier,\n",
    "                                    retrieve_document_source, \n",
    "                                    get_markdown_badge)\n",
    "from arxiv_on_deck_2 import (latex,\n",
    "                             latex_bib,\n",
    "                             mpia,\n",
    "                             highlight_authors_in_list)\n",
    "\n",
    "# Sometimes images are really big\n",
    "Image.MAX_IMAGE_PIXELS = 1000000000 "
   ]
  },
  {
   "cell_type": "code",
   "execution_count": 2,
   "id": "22aa9d44",
   "metadata": {
    "execution": {
     "iopub.execute_input": "2025-10-17T04:12:18.004131Z",
     "iopub.status.busy": "2025-10-17T04:12:18.003929Z",
     "iopub.status.idle": "2025-10-17T04:12:18.011716Z",
     "shell.execute_reply": "2025-10-17T04:12:18.011144Z"
    },
    "papermill": {
     "duration": 0.012384,
     "end_time": "2025-10-17T04:12:18.012718",
     "exception": false,
     "start_time": "2025-10-17T04:12:18.000334",
     "status": "completed"
    },
    "tags": []
   },
   "outputs": [],
   "source": [
    "# Some useful definitions.\n",
    "\n",
    "class AffiliationWarning(UserWarning):\n",
    "    pass\n",
    "\n",
    "class AffiliationError(RuntimeError):\n",
    "    pass\n",
    "\n",
    "def validation(source: str):\n",
    "    \"\"\"Raises error paper during parsing of source file\n",
    "    \n",
    "    Allows checks before parsing TeX code.\n",
    "    \n",
    "    Raises AffiliationWarning\n",
    "    \"\"\"\n",
    "    check = mpia.affiliation_verifications(source, verbose=True)\n",
    "    if check is not True:\n",
    "        raise AffiliationError(\"mpia.affiliation_verifications: \" + check)\n",
    "\n",
    "        \n",
    "warnings.simplefilter('always', AffiliationWarning)\n",
    "\n",
    "\n",
    "def get_markdown_qrcode(paper_id: str):\n",
    "    \"\"\" Generate a qrcode to the arxiv page using qrserver.com\n",
    "    \n",
    "    :param paper: Arxiv paper\n",
    "    :returns: markdown text\n",
    "    \"\"\"\n",
    "    url = r\"https://api.qrserver.com/v1/create-qr-code/?size=100x100&data=\"\n",
    "    txt = f\"\"\"<img src={url}\"https://arxiv.org/abs/{paper_id}\">\"\"\"\n",
    "    txt = '<div id=\"qrcode\">' + txt + '</div>'\n",
    "    return txt\n",
    "\n",
    "\n",
    "def clean_non_western_encoded_characters_commands(text: str) -> str:\n",
    "    \"\"\" Remove non-western encoded characters from a string\n",
    "    List may need to grow.\n",
    "    \n",
    "    :param text: the text to clean\n",
    "    :return: the cleaned text\n",
    "    \"\"\"\n",
    "    text = re.sub(r\"(\\\\begin{CJK}{UTF8}{gbsn})(.*?)(\\\\end{CJK})\", r\"\\2\", text)\n",
    "    return text\n",
    "\n",
    "\n",
    "def get_initials(name: str) -> str:\n",
    "    \"\"\" Get the short name, e.g., A.-B. FamName\n",
    "    :param name: full name\n",
    "    :returns: initials\n",
    "    \"\"\"\n",
    "    initials = []\n",
    "    # account for non western names often in ()\n",
    "    if '(' in name:\n",
    "        name = clean_non_western_encoded_characters_commands(name)\n",
    "        suffix = re.findall(r\"\\((.*?)\\)\", name)[0]\n",
    "        name = name.replace(f\"({suffix})\", '')\n",
    "    else:\n",
    "        suffix = ''\n",
    "    split = name.split()\n",
    "    for token in split[:-1]:\n",
    "        if '-' in token:\n",
    "            current = '-'.join([k[0] + '.' for k in token.split('-')])\n",
    "        else:\n",
    "            current = token[0] + '.'\n",
    "        initials.append(current)\n",
    "    initials.append(split[-1].strip())\n",
    "    if suffix:\n",
    "        initials.append(f\"({suffix})\")\n",
    "    return ' '.join(initials)"
   ]
  },
  {
   "cell_type": "markdown",
   "id": "14bd6310",
   "metadata": {
    "papermill": {
     "duration": 0.002832,
     "end_time": "2025-10-17T04:12:18.018557",
     "exception": false,
     "start_time": "2025-10-17T04:12:18.015725",
     "status": "completed"
    },
    "tags": []
   },
   "source": [
    "## get list of arxiv paper candidates\n",
    "\n",
    "We use the MPIA mitarbeiter list webpage from mpia.de to get author names\n",
    "We then get all new papers from Arxiv and match authors"
   ]
  },
  {
   "cell_type": "code",
   "execution_count": 3,
   "id": "7ea813a8",
   "metadata": {
    "execution": {
     "iopub.execute_input": "2025-10-17T04:12:18.025133Z",
     "iopub.status.busy": "2025-10-17T04:12:18.024946Z",
     "iopub.status.idle": "2025-10-17T04:12:40.277006Z",
     "shell.execute_reply": "2025-10-17T04:12:40.276372Z"
    },
    "papermill": {
     "duration": 22.256825,
     "end_time": "2025-10-17T04:12:40.278307",
     "exception": false,
     "start_time": "2025-10-17T04:12:18.021482",
     "status": "completed"
    },
    "tags": []
   },
   "outputs": [],
   "source": [
    "# deal with the author list and edge cases of people that cannot be consistent on their name  \n",
    "\n",
    "def filter_non_scientists(name: str) -> bool:\n",
    "    \"\"\" Loose filter on expected authorships\n",
    "\n",
    "    removing IT, administration, technical staff\n",
    "    :param name: name\n",
    "    :returns: False if name is not a scientist\n",
    "    \"\"\"\n",
    "    remove_list = ['Licht', 'Binroth', 'Witzel', 'Jordan',\n",
    "                   'Zähringer', 'Scheerer', 'Hoffmann', 'Düe',\n",
    "                   'Hellmich', 'Enkler-Scharpegge', 'Witte-Nguy',\n",
    "                   'Dehen', 'Beckmann', 'Jager', 'Jäger'\n",
    "                  ]\n",
    "\n",
    "    for k in remove_list:\n",
    "        if k in name:\n",
    "            return False\n",
    "    return True\n",
    "\n",
    "def add_author_to_list(author_list: list) -> list:\n",
    "    \"\"\" Add author to list if not already in list\n",
    "    \n",
    "    :param author: author name\n",
    "    :param author_list: list of authors\n",
    "    :returns: updated list of authors\n",
    "    \"\"\"\n",
    "    add_list = ['T. Henning']\n",
    "\n",
    "    for author in add_list:\n",
    "        if author not in author_list:\n",
    "            author_list.append(author)\n",
    "    return author_list\n",
    "\n",
    "# get list from MPIA website\n",
    "# filter for non-scientists (mpia.get_mpia_mitarbeiter_list() does some filtering)\n",
    "mpia_authors = [k[1] for k in mpia.get_mpia_mitarbeiter_list() if filter_non_scientists(k[1])]\n",
    "# add some missing author because of inconsistencies in their MPIA name and author name on papers\n",
    "mpia_authors = add_author_to_list(mpia_authors)"
   ]
  },
  {
   "cell_type": "code",
   "execution_count": 4,
   "id": "2645e73a",
   "metadata": {
    "execution": {
     "iopub.execute_input": "2025-10-17T04:12:40.285564Z",
     "iopub.status.busy": "2025-10-17T04:12:40.285362Z",
     "iopub.status.idle": "2025-10-17T04:12:41.190363Z",
     "shell.execute_reply": "2025-10-17T04:12:41.189651Z"
    },
    "papermill": {
     "duration": 0.90972,
     "end_time": "2025-10-17T04:12:41.191436",
     "exception": false,
     "start_time": "2025-10-17T04:12:40.281716",
     "status": "completed"
    },
    "tags": []
   },
   "outputs": [
    {
     "name": "stdout",
     "output_type": "stream",
     "text": [
      "X. Zhang  ->  X. Zhang  |  ['X. Zhang']\n",
      "T. Henning  ->  T. Henning  |  ['T. Henning']\n",
      "M. Zhang  ->  M. Zhang  |  ['M. Zhang']\n",
      "S. Vaughan  ->  S. Vaughan  |  ['S. Vaughan']\n"
     ]
    },
    {
     "name": "stdout",
     "output_type": "stream",
     "text": [
      "A. d. Graaff  ->  A. D. Graaff  |  ['A. D. Graaff']\n",
      "J. Li  ->  J. Li  |  ['J. Li']\n",
      "Arxiv has 88 new papers today\n",
      "          6 with possible author matches\n"
     ]
    }
   ],
   "source": [
    "new_papers = get_new_papers()\n",
    "# add manual references\n",
    "add_paper_refs = []\n",
    "new_papers.extend([get_paper_from_identifier(k) for k in add_paper_refs])\n",
    "\n",
    "def robust_call(fn, value, *args, **kwargs):\n",
    "    try:\n",
    "        return fn(value, *args, **kwargs)\n",
    "    except Exception:\n",
    "        return value\n",
    "\n",
    "candidates = []\n",
    "for paperk in new_papers:\n",
    "    # Check author list with their initials\n",
    "    normed_author_list = [robust_call(mpia.get_initials, k) for k in paperk['authors']]\n",
    "    hl_authors = highlight_authors_in_list(normed_author_list, mpia_authors, verbose=True)\n",
    "    matches = [(hl, orig) for hl, orig in zip(hl_authors, paperk['authors']) if 'mark' in hl]\n",
    "    paperk['authors'] = hl_authors\n",
    "    if matches:\n",
    "        # only select paper if an author matched our list\n",
    "        candidates.append(paperk)\n",
    "print(\"\"\"Arxiv has {0:,d} new papers today\"\"\".format(len(new_papers)))        \n",
    "print(\"\"\"          {0:,d} with possible author matches\"\"\".format(len(candidates)))"
   ]
  },
  {
   "cell_type": "markdown",
   "id": "3543b34a",
   "metadata": {
    "papermill": {
     "duration": 0.003104,
     "end_time": "2025-10-17T04:12:41.198152",
     "exception": false,
     "start_time": "2025-10-17T04:12:41.195048",
     "status": "completed"
    },
    "tags": []
   },
   "source": [
    "# Parse sources and generate relevant outputs\n",
    "\n",
    "From the candidates, we do the following steps:\n",
    "* get their tarball from ArXiv (and extract data)\n",
    "* find the main .tex file: find one with \\documentclass{...} (sometimes it's non trivial)\n",
    "* Check affiliations with :func:`validation`, which uses :func:`mpia.affiliation_verifications`\n",
    "* If passing the affiliations: we parse the .tex source\n",
    "   * inject sub-documents into the main (flatten the main document)\n",
    "   * parse structure, extract information (title, abstract, authors, figures...)\n",
    "   * handles `\\graphicspath` if provided\n",
    "* Generate the .md document."
   ]
  },
  {
   "cell_type": "code",
   "execution_count": 5,
   "id": "9576b79e",
   "metadata": {
    "execution": {
     "iopub.execute_input": "2025-10-17T04:12:41.205301Z",
     "iopub.status.busy": "2025-10-17T04:12:41.205046Z",
     "iopub.status.idle": "2025-10-17T04:13:12.678813Z",
     "shell.execute_reply": "2025-10-17T04:13:12.678059Z"
    },
    "papermill": {
     "duration": 31.482951,
     "end_time": "2025-10-17T04:13:12.684225",
     "exception": false,
     "start_time": "2025-10-17T04:12:41.201274",
     "status": "completed"
    },
    "scrolled": false,
    "tags": []
   },
   "outputs": [
    {
     "data": {
      "application/vnd.jupyter.widget-view+json": {
       "model_id": "2052668f7c4d4d8b909f458b3dbdce1e",
       "version_major": 2,
       "version_minor": 0
      },
      "text/plain": [
       "  0%|          | 0/6 [00:00<?, ?it/s]"
      ]
     },
     "metadata": {},
     "output_type": "display_data"
    },
    {
     "name": "stdout",
     "output_type": "stream",
     "text": [
      "Retrieving document from  https://arxiv.org/e-print/2510.13976\n"
     ]
    },
    {
     "name": "stdout",
     "output_type": "stream",
     "text": [
      "extracting tarball to tmp_2510.13976..."
     ]
    },
    {
     "name": "stdout",
     "output_type": "stream",
     "text": [
      " done.\n",
      "Retrieving document from  https://arxiv.org/e-print/2510.14083\n",
      "extracting tarball to tmp_2510.14083..."
     ]
    },
    {
     "name": "stdout",
     "output_type": "stream",
     "text": [
      " done.\n"
     ]
    },
    {
     "name": "stderr",
     "output_type": "stream",
     "text": [
      "/opt/hostedtoolcache/Python/3.9.23/x64/lib/python3.9/site-packages/IPython/core/interactiveshell.py:3550: LatexWarning: Multiple tex files.\n",
      "\n",
      "  exec(code_obj, self.user_global_ns, self.user_ns)\n",
      "/opt/hostedtoolcache/Python/3.9.23/x64/lib/python3.9/site-packages/IPython/core/interactiveshell.py:3550: LatexWarning: Found documentclass in tmp_2510.14083/ngts11c.tex\n",
      "\n",
      "  exec(code_obj, self.user_global_ns, self.user_ns)\n",
      "/opt/hostedtoolcache/Python/3.9.23/x64/lib/python3.9/site-packages/arxiv_on_deck_2/latex.py:414: LatexWarning: Latex injecting: 'ngts11c.bbl' from 'tmp_2510.14083/ngts11c.tex'\n",
      "  warnings.warn(LatexWarning(f\"Latex injecting: '{ext}' from '{subsource}'\"))\n",
      "/opt/hostedtoolcache/Python/3.9.23/x64/lib/python3.9/site-packages/arxiv_on_deck_2/latex.py:414: LatexWarning: Latex injecting: 'tab-priors-posteriors' from 'tmp_2510.14083/tab-priors-posteriors.tex'\n",
      "  warnings.warn(LatexWarning(f\"Latex injecting: '{ext}' from '{subsource}'\"))\n",
      "/opt/hostedtoolcache/Python/3.9.23/x64/lib/python3.9/site-packages/arxiv_on_deck_2/latex.py:414: LatexWarning: Latex injecting: 'tab-rvs.tex' from 'tmp_2510.14083/tab-rvs.tex'\n",
      "  warnings.warn(LatexWarning(f\"Latex injecting: '{ext}' from '{subsource}'\"))\n",
      "/opt/hostedtoolcache/Python/3.9.23/x64/lib/python3.9/site-packages/arxiv_on_deck_2/latex.py:414: LatexWarning: Latex injecting: 'tab-obs' from 'tmp_2510.14083/tab-obs.tex'\n",
      "  warnings.warn(LatexWarning(f\"Latex injecting: '{ext}' from '{subsource}'\"))\n",
      "/opt/hostedtoolcache/Python/3.9.23/x64/lib/python3.9/site-packages/arxiv_on_deck_2/latex.py:414: LatexWarning: Latex injecting: 'tab-stellar' from 'tmp_2510.14083/tab-stellar.tex'\n",
      "  warnings.warn(LatexWarning(f\"Latex injecting: '{ext}' from '{subsource}'\"))\n"
     ]
    },
    {
     "name": "stdout",
     "output_type": "stream",
     "text": [
      "Found 52 bibliographic references in tmp_2510.14083/ngts11c.bbl.\n",
      "Retrieving document from  https://arxiv.org/e-print/2510.14380\n"
     ]
    },
    {
     "name": "stdout",
     "output_type": "stream",
     "text": [
      "extracting tarball to tmp_2510.14380..."
     ]
    },
    {
     "name": "stdout",
     "output_type": "stream",
     "text": [
      " done.\n"
     ]
    },
    {
     "name": "stderr",
     "output_type": "stream",
     "text": [
      "/tmp/ipykernel_3388/2822249172.py:52: LatexWarning: 2510.14380 did not run properly\n",
      "Unable to locate Ghostscript on paths\n",
      "  warnings.warn(latex.LatexWarning(f\"{paper_id:s} did not run properly\\n\" +\n"
     ]
    },
    {
     "name": "stdout",
     "output_type": "stream",
     "text": [
      "Retrieving document from  https://arxiv.org/e-print/2510.14529\n"
     ]
    },
    {
     "name": "stdout",
     "output_type": "stream",
     "text": [
      "extracting tarball to tmp_2510.14529..."
     ]
    },
    {
     "name": "stdout",
     "output_type": "stream",
     "text": [
      " done.\n",
      "Retrieving document from  https://arxiv.org/e-print/2510.14779\n"
     ]
    },
    {
     "name": "stderr",
     "output_type": "stream",
     "text": [
      "/opt/hostedtoolcache/Python/3.9.23/x64/lib/python3.9/site-packages/IPython/core/interactiveshell.py:3550: LatexWarning: Multiple tex files.\n",
      "\n",
      "  exec(code_obj, self.user_global_ns, self.user_ns)\n",
      "/opt/hostedtoolcache/Python/3.9.23/x64/lib/python3.9/site-packages/IPython/core/interactiveshell.py:3550: LatexWarning: Found documentclass in tmp_2510.14529/main.tex\n",
      "\n",
      "  exec(code_obj, self.user_global_ns, self.user_ns)\n",
      "/opt/hostedtoolcache/Python/3.9.23/x64/lib/python3.9/site-packages/arxiv_on_deck_2/latex.py:414: LatexWarning: Latex injecting: 'tables/results' from 'tmp_2510.14529/tables/results.tex'\n",
      "  warnings.warn(LatexWarning(f\"Latex injecting: '{ext}' from '{subsource}'\"))\n",
      "/opt/hostedtoolcache/Python/3.9.23/x64/lib/python3.9/site-packages/arxiv_on_deck_2/latex.py:414: LatexWarning: Latex injecting: 'tables/sample_table' from 'tmp_2510.14529/tables/sample_table.tex'\n",
      "  warnings.warn(LatexWarning(f\"Latex injecting: '{ext}' from '{subsource}'\"))\n",
      "/opt/hostedtoolcache/Python/3.9.23/x64/lib/python3.9/site-packages/arxiv_on_deck_2/latex.py:414: LatexWarning: Latex injecting: 'figures/dag' from 'tmp_2510.14529/figures/dag.tex'\n",
      "  warnings.warn(LatexWarning(f\"Latex injecting: '{ext}' from '{subsource}'\"))\n"
     ]
    },
    {
     "name": "stdout",
     "output_type": "stream",
     "text": [
      "extracting tarball to tmp_2510.14779... done.\n"
     ]
    },
    {
     "name": "stdout",
     "output_type": "stream",
     "text": [
      "Found 176 bibliographic references in tmp_2510.14779/main.bbl.\n",
      "Error retrieving bib data for Nestor-Shachar:2023aa: 'author'\n",
      "Error retrieving bib data for de-Graaff:2024ab: 'author'\n",
      "Error retrieving bib data for Nestor-Shachar:2023aa: 'author'\n",
      "Error retrieving bib data for Nestor-Shachar:2023aa: 'author'\n",
      "Retrieving document from  https://arxiv.org/e-print/2510.14839\n"
     ]
    },
    {
     "name": "stdout",
     "output_type": "stream",
     "text": [
      "extracting tarball to tmp_2510.14839..."
     ]
    },
    {
     "name": "stdout",
     "output_type": "stream",
     "text": [
      " done.\n"
     ]
    }
   ],
   "source": [
    "documents = []\n",
    "failed = []\n",
    "for paper in tqdm(candidates):\n",
    "    # debug crap\n",
    "    paper['identifier'] = paper['identifier'].lower().replace('arxiv:', '').replace(r'\\n', '').strip()\n",
    "    paper_id = paper['identifier']\n",
    "    \n",
    "    folder = f'tmp_{paper_id}'\n",
    "\n",
    "    try:\n",
    "        if not os.path.isdir(folder):\n",
    "            folder = retrieve_document_source(f\"{paper_id}\", f'tmp_{paper_id}')\n",
    "        \n",
    "        try:\n",
    "            doc = latex.LatexDocument(folder, validation=validation)    \n",
    "        except AffiliationError as affilerror:\n",
    "            msg = f\"ArXiv:{paper_id:s} is not an MPIA paper... \" + str(affilerror)\n",
    "            failed.append((paper, \"affiliation error: \" + str(affilerror) ))\n",
    "            continue\n",
    "        \n",
    "        # Hack because sometimes author parsing does not work well\n",
    "        if (len(doc.authors) != len(paper['authors'])):\n",
    "            doc._authors = paper['authors']\n",
    "        else:\n",
    "            # highlight authors (FIXME: doc.highlight_authors)\n",
    "            # done on arxiv paper already\n",
    "            doc._authors = highlight_authors_in_list(\n",
    "                [get_initials(k) for k in doc.authors], \n",
    "                mpia_authors, verbose=True)\n",
    "        if (doc.abstract) in (None, ''):\n",
    "            doc._abstract = paper['abstract']\n",
    "            \n",
    "        doc.comment = (get_markdown_badge(paper_id) + \n",
    "                       \"<mark>Appeared on: \" + paper['date'] + \"</mark> - \")\n",
    "        if paper['comments']:\n",
    "            doc.comment += \" _\" + paper['comments'] + \"_\"\n",
    "        \n",
    "        full_md = doc.generate_markdown_text()\n",
    "        \n",
    "        full_md += get_markdown_qrcode(paper_id)\n",
    "        \n",
    "        # replace citations\n",
    "        try:\n",
    "            bibdata = latex_bib.LatexBib.from_doc(doc)\n",
    "            full_md = latex_bib.replace_citations(full_md, bibdata)\n",
    "        except Exception as e:\n",
    "            print(\"Issues with the citations\")\n",
    "            print(e)\n",
    "        \n",
    "        documents.append((paper_id, full_md))\n",
    "    except Exception as e:\n",
    "        warnings.warn(latex.LatexWarning(f\"{paper_id:s} did not run properly\\n\" +\n",
    "                                         str(e)\n",
    "                                        ))\n",
    "        failed.append((paper, \"latex error \" + str(e)))"
   ]
  },
  {
   "cell_type": "markdown",
   "id": "2505a25c",
   "metadata": {
    "papermill": {
     "duration": 0.004,
     "end_time": "2025-10-17T04:13:12.692409",
     "exception": false,
     "start_time": "2025-10-17T04:13:12.688409",
     "status": "completed"
    },
    "tags": []
   },
   "source": [
    "### Export the logs\n",
    "\n",
    "Throughout, we also keep track of the logs per paper. see `logs-{today date}.md` "
   ]
  },
  {
   "cell_type": "code",
   "execution_count": 6,
   "id": "d733828a",
   "metadata": {
    "execution": {
     "iopub.execute_input": "2025-10-17T04:13:12.701581Z",
     "iopub.status.busy": "2025-10-17T04:13:12.701322Z",
     "iopub.status.idle": "2025-10-17T04:13:12.720096Z",
     "shell.execute_reply": "2025-10-17T04:13:12.719480Z"
    },
    "papermill": {
     "duration": 0.024726,
     "end_time": "2025-10-17T04:13:12.721186",
     "exception": false,
     "start_time": "2025-10-17T04:13:12.696460",
     "status": "completed"
    },
    "scrolled": false,
    "tags": []
   },
   "outputs": [
    {
     "data": {
      "text/markdown": [
       "## Successful papers"
      ],
      "text/plain": [
       "<IPython.core.display.Markdown object>"
      ]
     },
     "metadata": {},
     "output_type": "display_data"
    },
    {
     "data": {
      "text/markdown": [
       "\n",
       "|||\n",
       "|---:|:---|\n",
       "| [![arXiv](https://img.shields.io/badge/arXiv-2510.14083-b31b1b.svg)](https://arxiv.org/abs/2510.14083) | **NGTS-11 c: a transiting Neptune-mass planet interior to the warm Saturn NGTS-11 b**  |\n",
       "|| D. R. Anderson, et al. -- incl., <mark>T. Henning</mark> |\n",
       "|*Appeared on*| *2025-10-17*|\n",
       "|*Comments*| *12 pages, 6 figures, submitted to ApJ*|\n",
       "|**Abstract**|            We report the discovery of NGTS-11 c, a transiting warm Neptune ($P \\approx 12.8$ d; $M_{p} = 1.2^{+0.3}_{-0.2} M_{\\mathrm{Nep}}$; $R_{p} = 1.24 \\pm 0.03 R_{\\mathrm{Nep}}$), in an orbit interior to the previously reported transiting warm Saturn NGTS-11 b ($P \\approx 35.5$ d). We also find evidence of a third outer companion orbiting the K-dwarf NGTS-11. We first detected transits of NGTS-11 c in TESS light curves and confirmed them with follow-up transits from NGTS and many other ground-based facilities. Radial-velocity monitoring with the HARPS and FEROS spectrographs revealed the mass of NGTS-11 c and provides evidence for a long-period companion ($P > 2300$ d; $M_{p} \\sin i > 3.6 M_{\\mathrm{Jup}}$). Taking into account the two additional bodies in our expanded datasets, we find that the mass of NGTS-11 b ($M_{p} = 0.63 \\pm 0.09 M_{\\mathrm{Sat}}$; $R_{p} = 0.97 \\pm 0.02 R_{\\mathrm{Sat}}$) is lower than previously reported ($M_{p} = 1.2 \\pm 0.3 M_{\\mathrm{Sat}}$). Given their near-circular and compact orbits, NGTS-11 c and b are unlikely to have reached their present locations via high-eccentricity migration. Instead, they probably either formed in situ or formed farther out and then underwent disk migration. A comparison of NGTS-11 with the eight other known systems hosting multiple well-characterized warm giants shows that it is most similar to Kepler-56. Finally, we find that the commonly used 10-day boundary between hot and warm Jupiters is empirically well supported.         |"
      ],
      "text/plain": [
       "[2510.14083] NGTS-11 c: a transiting Neptune-mass planet interior to the warm Saturn NGTS-11 b\n",
       "\tD. R. Anderson, et al. -- incl., <mark>T. Henning</mark>"
      ]
     },
     "metadata": {},
     "output_type": "display_data"
    },
    {
     "data": {
      "text/markdown": [
       "\n",
       "|||\n",
       "|---:|:---|\n",
       "| [![arXiv](https://img.shields.io/badge/arXiv-2510.14779-b31b1b.svg)](https://arxiv.org/abs/2510.14779) | **The dark side of early galaxies: $\\texttt{geko}$ uncovers dark-matter fractions at $z\\sim4-6$**  |\n",
       "|| A. L. Danhaive, et al. -- incl., <mark>A. d. Graaff</mark> |\n",
       "|*Appeared on*| *2025-10-17*|\n",
       "|*Comments*| *14 pages, 7 figures, 2 tables. Submitted to MNRAS*|\n",
       "|**Abstract**|            JWST/NIRCam slitless spectroscopy enables dynamical mass measurements for typical star-forming galaxies only a billion years after the Big Bang. We model the H$\\alpha$ morpho-kinematics of 163 galaxies at redshift $z\\approx4$-6 from FRESCO and CONGRESS (with JADES imaging), using the $\\texttt{geko}$ code, and infer rotational velocities and dispersions within $r_{\\rm e}$. Our sample spans $\\log M_{\\star}\\approx7$-10 and $\\log M_{\\rm dyn}\\approx9$-11. Gas masses are estimated via scaling relations, yielding baryonic masses and dark-matter (DM) fractions $f_{\\rm DM}(r<r_{\\rm e})$ within the H$\\alpha$ half-light radius. We find high median fractions of $\\langle f_{\\rm gas}\\rangle=0.77$ and $\\langle f_{\\rm DM}\\rangle=0.73$, where $f_{\\rm gas}$ is measured with respect to the baryonic mass and $f_{\\rm DM}$ with respect to the DM+baryonic mass. About two-thirds of systems are DM-dominated within $r_{\\rm e}\\sim0.5-1$ kpc. Both $f_{\\rm gas}$ and $f_{\\rm DM}$ decrease with stellar mass, consistent with simulations. The stellar Tully-Fisher relation shows a tentative offset to higher $v_{\\rm circ}$ at fixed $M_{\\star}$ and substantial intrinsic scatter, suggesting that the relation is only beginning to emerge at $z\\sim5$. We measure a negative correlation between $f_{\\rm DM}$ and baryonic surface density $\\Sigma_{\\rm bar}$, weaker but broadly consistent with trends at cosmic noon and at $z\\sim0$. Qualitatively comparing with modified NFW profiles coupled to an empirical stellar-to-halo mass relation suggests that the lowest $f_{\\rm DM}$ ($\\lesssim0.4$) require cored inner DM profiles, while the highest fractions favour cuspier profiles, potentially reflecting adiabatic contraction. Overall, the elevated $f_{\\rm gas}$ and $f_{\\rm DM}$ at $z\\gtrsim4$ are compatible with progenitors of baryon-dominated systems at $z\\sim2$ and naturally anticipate overmassive black holes at fixed $M_{\\star}$.         |"
      ],
      "text/plain": [
       "[2510.14779] The dark side of early galaxies: $\\texttt{geko}$ uncovers dark-matter fractions at $z\\sim4-6$\n",
       "\tA. L. Danhaive, et al. -- incl., <mark>A. d. Graaff</mark>"
      ]
     },
     "metadata": {},
     "output_type": "display_data"
    },
    {
     "data": {
      "text/markdown": [
       "## Failed papers"
      ],
      "text/plain": [
       "<IPython.core.display.Markdown object>"
      ]
     },
     "metadata": {},
     "output_type": "display_data"
    },
    {
     "data": {
      "text/markdown": [
       "\n",
       "|||\n",
       "|---:|:---|\n",
       "| [![arXiv](https://img.shields.io/badge/arXiv-2510.13976-b31b1b.svg)](https://arxiv.org/abs/2510.13976) | **The ASTRID Simulation at z=0: from Massive Black Holes to Large-scale Structure**  |\n",
       "|| Y. Zhou, et al. -- incl., <mark>X. Zhang</mark> |\n",
       "|*Appeared on*| *2025-10-17*|\n",
       "|*Comments*| *Submitted to ApJ, comments are welcome*|\n",
       "|**Abstract**|            We present the $z=0$ results for the cosmological simulation ASTRID. Hosting $2\\times 5500^3\\approx$ 0.33 trillion particles in a box of $370\\, {\\rm Mpc}$ per side, ASTRID is one of the largest cosmological hydrodynamic simulations evolved to $z=0$. ASTRID features a large population of massive black holes (MBHs), covering a wide mass range $4\\times10^{4}\\sim 2\\times 10^{11}\\ M_{\\odot}$. The adopted dynamical friction model provides a relatively accurate description of MBH dynamics, making ASTRID a powerful tool to study MBH growth and mergers in a cosmological context. ASTRID successfully captures the co-evolution of MBHs and their host galaxies, producing $M_{\\rm BH}-M_{\\star}$ and $M_{\\rm BH}-\\sigma$ relations in good agreement with observations. Notably, ASTRID generates scatter in these relations that is more consistent with observations than previous simulations, indicating a more realistic MBH diversity. The galaxy stellar mass function at $z=0$ is generally consistent with observational constraints. When dust attenuation is applied, the galaxy luminosity function also agrees well with observations, and the bimodality in galaxy colors is reproduced as well. ASTRID hosts a large population of massive galaxy groups and clusters: 7 halos have $M_{\\rm 200c}>10^{15}\\ M_{\\odot}$, and 9709 halos have $M_{\\rm 200c}>10^{13}\\ M_{\\odot}$. We quantify the stellar mass content in these halos, and find that the correlations between the stellar and halo mass match well with observational constraints. Finally, we present the $z=0$ power spectra of MBH and galaxies, as well as their bias with respect to the matter power spectrum. We find that MBHs with $M_{\\rm BH}\\geq 10^{8}\\ M_{\\odot}$ and galaxies with $M_{\\star}\\geq 10^{10.5}\\ M_{\\odot}$ serve as good tracers of large-scale structure.         |\n",
       "|<p style=\"color:green\"> **ERROR** </p>| <p style=\"color:green\">affiliation error: mpia.affiliation_verifications: 'Heidelberg' keyword not found.</p> |"
      ],
      "text/plain": [
       "<IPython.core.display.Markdown object>"
      ]
     },
     "metadata": {},
     "output_type": "display_data"
    },
    {
     "data": {
      "text/markdown": [
       "\n",
       "|||\n",
       "|---:|:---|\n",
       "| [![arXiv](https://img.shields.io/badge/arXiv-2510.14529-b31b1b.svg)](https://arxiv.org/abs/2510.14529) | **The variability of active galaxies: I. Broad-band noise X-ray power spectra from XMM-Newton and Swift**  |\n",
       "|| M. Lefkir, et al. -- incl., <mark>S. Vaughan</mark> |\n",
       "|*Appeared on*| *2025-10-17*|\n",
       "|*Comments*| *22 pages, 10 figures, under review at MNRAS (after the first round of referee comments)*|\n",
       "|**Abstract**|            Accreting supermassive black holes at the centres of galaxies are the engine of active galactic nuclei (AGN). X-ray light curves of unabsorbed AGN show dramatic random variability on timescales ranging from seconds to years. The power spectrum of the fluctuations is usually well-modelled with a power law that decays as $1/f$ at low frequencies, and which bends to $1/f^{2-3}$ at high frequencies. The timescale associated with the bend correlates well with the mass of the black hole and may also correlate with bolometric luminosity in the `X-ray variability plane'. Because AGN light curves are usually irregularly sampled, the estimation of AGN power spectra is challenging. In a previous paper, we introduced a new method to estimate the parameters of bending power law power spectra from AGN light curves. We apply this method to a sample of 56 variable and unabsorbed AGN, observed with XMM-Newton and Swift in the $0.3-1.5$ keV band over the past two decades. We obtain estimates of the bends in 50 sources, which is the largest sample of X-ray bends in the soft band. We also find that the high-frequency power spectrum is often steeper than 2. We update the X-ray variability plane with new bend timescale measurements spanning from 7 min to 62 days. We report the detections of low-frequency bends in the power spectra of five AGN, three of which are previously unpublished: 1H 1934-063, Mkn 766 and Mkn 279.         |\n",
       "|<p style=\"color:green\"> **ERROR** </p>| <p style=\"color:green\">affiliation error: mpia.affiliation_verifications: 'Heidelberg' keyword not found.</p> |"
      ],
      "text/plain": [
       "<IPython.core.display.Markdown object>"
      ]
     },
     "metadata": {},
     "output_type": "display_data"
    },
    {
     "data": {
      "text/markdown": [
       "\n",
       "|||\n",
       "|---:|:---|\n",
       "| [![arXiv](https://img.shields.io/badge/arXiv-2510.14839-b31b1b.svg)](https://arxiv.org/abs/2510.14839) | **Antarctic Infrared Binocular Telescope. I. System Overview, Laboratory Testing, and On-Sky Performance Evaluation**  |\n",
       "|| Z. Dong, et al. -- incl., <mark>J. Li</mark> |\n",
       "|*Appeared on*| *2025-10-17*|\n",
       "|*Comments*| **|\n",
       "|**Abstract**|            Infrared time-domain surveys remain significantly underdeveloped compared with their optical counterparts. We have developed the Antarctic Infrared Binocular Telescope (AIRBT) to study the dynamic infrared sky at Dome A, Antarctica, taking advantage of the superb infrared observational conditions at this site. AIRBT consists of two identical 15 cm f/3 optical tube assemblies and two cost-effective indium gallium arsenide (InGaAs) cameras equipped with J and H filters, respectively. The cameras have 640 x 512 pixels with a size of 15 micrometers, providing a scale of 6.9 arcseconds per pixel and a field of view of 1.22 x 0.97 square degrees. We characterize the performance of the InGaAs cameras, including bias, readout noise, dark current, nonlinearity, and photon transfer curve. Our analysis highlights the distinct behaviors of InGaAs cameras compared with charge-coupled devices (CCDs). The bias and readout noise show temperature dependence, and the noise measured from the photon transfer curves has additional components that increase with exposure time. On-sky tests were conducted in October 2022 including system calibration, limiting depth, and photometric precision. For a single 3-second exposure, we achieved 5-sigma limiting magnitudes of 11.2 mag (Vega system) in J band and 9.7 mag in H band. The best photometric precision reached 20 millimagnitudes at the bright end, which could be further improved to sub-percent levels through image stacking. AIRBT was installed at Dome A in January 2023, and scientific observations began as soon as darkness set in.         |\n",
       "|<p style=\"color:green\"> **ERROR** </p>| <p style=\"color:green\">affiliation error: mpia.affiliation_verifications: 'Heidelberg' keyword not found.</p> |"
      ],
      "text/plain": [
       "<IPython.core.display.Markdown object>"
      ]
     },
     "metadata": {},
     "output_type": "display_data"
    },
    {
     "data": {
      "text/markdown": [
       "\n",
       "|||\n",
       "|---:|:---|\n",
       "| [![arXiv](https://img.shields.io/badge/arXiv-2510.14380-b31b1b.svg)](https://arxiv.org/abs/2510.14380) | **Dust extinction map of the Galactic plane based on the UKIDSS survey data**  |\n",
       "|| <mark>M. Zhang</mark>, et al. |\n",
       "|*Appeared on*| *2025-10-17*|\n",
       "|*Comments*| *Accepted by MNRAS, 18 pages, 12 figures*|\n",
       "|**Abstract**|            Dust plays a critical role in the study of the interstellar medium (ISM). Extinction maps derived from optical surveys often fail to capture regions with high column density due to the limited photometric depth in optical wavelengths. To address these limitations, we developed the XPNICER method based on near-infrared (NIR) photometric survey data. This method combines the previously established PNICER and Xpercentile techniques, enabling effective mitigation of foreground contamination and improved handling of complex dust structures in the Galactic plane, which thus can provide more accurate extinction estimates, particularly in highly obscured regions. By applying XPNICER to the Galactic Plane Survey from the UKIRT Infrared Deep Sky Survey, we have generated a series of two-dimensional (2D) dust extinction maps that span roughly 1800 deg2 of the Galactic plane (0< l < 110deg and 140< l < 232deg, |b| < 5deg). These maps, with spatial resolutions between 30arcsec and 300arcsec, can trace extinction up to Av ~ 30-40 mag. This new approach offers higher spatial resolution and better detection of high-extinction regions compared to previous large-scale dust-based maps of the Galactic plane, providing an independent and complementary measure of dust column densities.         |\n",
       "|<p style=\"color:red\"> **ERROR** </p>| <p style=\"color:red\">latex error Unable to locate Ghostscript on paths</p> |"
      ],
      "text/plain": [
       "<IPython.core.display.Markdown object>"
      ]
     },
     "metadata": {},
     "output_type": "display_data"
    }
   ],
   "source": [
    "import datetime\n",
    "today = str(datetime.date.today())\n",
    "logfile = f\"_build/html/logs/log-{today}.md\"\n",
    "\n",
    "\n",
    "with open(logfile, 'w') as logs:\n",
    "    # Success\n",
    "    logs.write(f'# Arxiv on Deck 2: Logs - {today}\\n\\n')\n",
    "    logs.write(\"\"\"* Arxiv had {0:,d} new papers\\n\"\"\".format(len(new_papers)))\n",
    "    logs.write(\"\"\"    * {0:,d} with possible author matches\\n\\n\"\"\".format(len(candidates)))\n",
    "    logs.write(\"## Sucessful papers\\n\\n\")\n",
    "    display(Markdown(\"## Successful papers\"))\n",
    "    success = [k[0] for k in documents]\n",
    "    for candid in candidates:\n",
    "        if candid['identifier'].split(':')[-1] in success:\n",
    "            display(candid)\n",
    "            logs.write(candid.generate_markdown_text() + '\\n\\n')\n",
    "\n",
    "    ## failed\n",
    "    logs.write(\"## Failed papers\\n\\n\")\n",
    "    display(Markdown(\"## Failed papers\"))\n",
    "    failed = sorted(failed, key=lambda x: x[1])\n",
    "    current_reason = \"\"\n",
    "    for paper, reason in failed:\n",
    "        if 'affiliation' in reason:\n",
    "            color = 'green'\n",
    "        else:\n",
    "            color = 'red'\n",
    "        data = Markdown(\n",
    "                paper.generate_markdown_text() + \n",
    "                f'\\n|<p style=\"color:{color:s}\"> **ERROR** </p>| <p style=\"color:{color:s}\">{reason:s}</p> |'\n",
    "               )\n",
    "        if reason != current_reason:\n",
    "            logs.write(f'### {reason:s} \\n\\n')\n",
    "            current_reason = reason\n",
    "        logs.write(data.data + '\\n\\n')\n",
    "        \n",
    "        # only display here the important errors (all in logs)\n",
    "        # if color in ('red',):\n",
    "        display(data)"
   ]
  },
  {
   "cell_type": "markdown",
   "id": "472d20ee",
   "metadata": {
    "papermill": {
     "duration": 0.004835,
     "end_time": "2025-10-17T04:13:12.731591",
     "exception": false,
     "start_time": "2025-10-17T04:13:12.726756",
     "status": "completed"
    },
    "tags": []
   },
   "source": [
    "## Export documents\n",
    "\n",
    "We now write the .md files and export relevant images"
   ]
  },
  {
   "cell_type": "code",
   "execution_count": 7,
   "id": "d426aed9",
   "metadata": {
    "execution": {
     "iopub.execute_input": "2025-10-17T04:13:12.742129Z",
     "iopub.status.busy": "2025-10-17T04:13:12.741879Z",
     "iopub.status.idle": "2025-10-17T04:13:12.749146Z",
     "shell.execute_reply": "2025-10-17T04:13:12.748457Z"
    },
    "papermill": {
     "duration": 0.013917,
     "end_time": "2025-10-17T04:13:12.750282",
     "exception": false,
     "start_time": "2025-10-17T04:13:12.736365",
     "status": "completed"
    },
    "tags": []
   },
   "outputs": [],
   "source": [
    "def export_markdown_summary(md: str, md_fname:str, directory: str):\n",
    "    \"\"\"Export MD document and associated relevant images\"\"\"\n",
    "    import os\n",
    "    import shutil\n",
    "    import re\n",
    "\n",
    "    if (os.path.exists(directory) and not os.path.isdir(directory)):\n",
    "        raise RuntimeError(f\"a non-directory file exists with name {directory:s}\")\n",
    "\n",
    "    if (not os.path.exists(directory)):\n",
    "        print(f\"creating directory {directory:s}\")\n",
    "        os.mkdir(directory)\n",
    "\n",
    "    fig_fnames = (re.compile(r'\\[Fig.*\\]\\((.*)\\)').findall(md) + \n",
    "                  re.compile(r'\\<img src=\"([^>\\s]*)\"[^>]*/>').findall(md))\n",
    "    print(\"found figures\", fig_fnames)\n",
    "    for fname in fig_fnames:\n",
    "        if 'http' in fname:\n",
    "            # No need to copy online figures\n",
    "            continue\n",
    "        if not os.path.exists(fname):\n",
    "            print(\"file not found\", fname)\n",
    "            continue\n",
    "        print(\"copying \", fname, \"to\", directory)\n",
    "        destdir = os.path.join(directory, os.path.dirname(fname))\n",
    "        destfname = os.path.join(destdir, os.path.basename(fname))\n",
    "        try:\n",
    "            os.makedirs(destdir)\n",
    "        except FileExistsError:\n",
    "            pass\n",
    "        shutil.copy(fname, destfname)\n",
    "    with open(os.path.join(directory, md_fname), 'w') as fout:\n",
    "        fout.write(md)\n",
    "    print(\"exported in \", os.path.join(directory, md_fname))\n",
    "    [print(\"    + \" + os.path.join(directory,fk)) for fk in fig_fnames]"
   ]
  },
  {
   "cell_type": "code",
   "execution_count": 8,
   "id": "014d04a4",
   "metadata": {
    "execution": {
     "iopub.execute_input": "2025-10-17T04:13:12.760989Z",
     "iopub.status.busy": "2025-10-17T04:13:12.760754Z",
     "iopub.status.idle": "2025-10-17T04:13:12.768759Z",
     "shell.execute_reply": "2025-10-17T04:13:12.768061Z"
    },
    "papermill": {
     "duration": 0.01446,
     "end_time": "2025-10-17T04:13:12.769791",
     "exception": false,
     "start_time": "2025-10-17T04:13:12.755331",
     "status": "completed"
    },
    "tags": []
   },
   "outputs": [
    {
     "name": "stdout",
     "output_type": "stream",
     "text": [
      "found figures ['tmp_2510.14083/./fig-mass-radius.png', 'tmp_2510.14083/./fig-mass-radius.png', 'tmp_2510.14083/./ngts11c.png', 'tmp_2510.14083/./ngts11b.png']\n",
      "copying  tmp_2510.14083/./fig-mass-radius.png to _build/html/\n",
      "copying  tmp_2510.14083/./fig-mass-radius.png to _build/html/\n",
      "copying  tmp_2510.14083/./ngts11c.png to _build/html/\n",
      "copying  tmp_2510.14083/./ngts11b.png to _build/html/\n",
      "exported in  _build/html/2510.14083.md\n",
      "    + _build/html/tmp_2510.14083/./fig-mass-radius.png\n",
      "    + _build/html/tmp_2510.14083/./fig-mass-radius.png\n",
      "    + _build/html/tmp_2510.14083/./ngts11c.png\n",
      "    + _build/html/tmp_2510.14083/./ngts11b.png\n",
      "found figures ['tmp_2510.14779/./Figures/fgas_fdm_Tacconi_zcolor.png', 'tmp_2510.14779/./Figures/fdm_sigmabar_multi.png', 'tmp_2510.14779/./Figures/alpha_fdm_mstar.png']\n",
      "copying  tmp_2510.14779/./Figures/fgas_fdm_Tacconi_zcolor.png to _build/html/\n",
      "copying  tmp_2510.14779/./Figures/fdm_sigmabar_multi.png to _build/html/\n",
      "copying  tmp_2510.14779/./Figures/alpha_fdm_mstar.png to _build/html/\n",
      "exported in  _build/html/2510.14779.md\n",
      "    + _build/html/tmp_2510.14779/./Figures/fgas_fdm_Tacconi_zcolor.png\n",
      "    + _build/html/tmp_2510.14779/./Figures/fdm_sigmabar_multi.png\n",
      "    + _build/html/tmp_2510.14779/./Figures/alpha_fdm_mstar.png\n"
     ]
    }
   ],
   "source": [
    "for paper_id, md in documents:\n",
    "    export_markdown_summary(md, f\"{paper_id:s}.md\", '_build/html/')"
   ]
  },
  {
   "cell_type": "markdown",
   "id": "f087a0a7",
   "metadata": {
    "papermill": {
     "duration": 0.004863,
     "end_time": "2025-10-17T04:13:12.779705",
     "exception": false,
     "start_time": "2025-10-17T04:13:12.774842",
     "status": "completed"
    },
    "tags": []
   },
   "source": [
    "## Display the papers\n",
    "\n",
    "Not necessary but allows for a quick check."
   ]
  },
  {
   "cell_type": "code",
   "execution_count": 9,
   "id": "fd25f625",
   "metadata": {
    "execution": {
     "iopub.execute_input": "2025-10-17T04:13:12.790412Z",
     "iopub.status.busy": "2025-10-17T04:13:12.790148Z",
     "iopub.status.idle": "2025-10-17T04:13:12.796202Z",
     "shell.execute_reply": "2025-10-17T04:13:12.795621Z"
    },
    "papermill": {
     "duration": 0.012515,
     "end_time": "2025-10-17T04:13:12.797140",
     "exception": false,
     "start_time": "2025-10-17T04:13:12.784625",
     "status": "completed"
    },
    "scrolled": false,
    "tags": []
   },
   "outputs": [
    {
     "data": {
      "text/markdown": [
       "<div class=\"macros\" style=\"visibility:hidden;\">\n",
       "$\\newcommand{\\ensuremath}{}$\n",
       "$\\newcommand{\\xspace}{}$\n",
       "$\\newcommand{\\object}[1]{\\texttt{#1}}$\n",
       "$\\newcommand{\\farcs}{{.}''}$\n",
       "$\\newcommand{\\farcm}{{.}'}$\n",
       "$\\newcommand{\\arcsec}{''}$\n",
       "$\\newcommand{\\arcmin}{'}$\n",
       "$\\newcommand{\\ion}[2]{#1#2}$\n",
       "$\\newcommand{\\textsc}[1]{\\textrm{#1}}$\n",
       "$\\newcommand{\\hl}[1]{\\textrm{#1}}$\n",
       "$\\newcommand{\\footnote}[1]{}$\n",
       "$\\newcommand{\\nbs}{\\nobreak\\hspace{0.15em}}$\n",
       "$\\newcommand{\\feh}{\\ensuremath{{\\rm[Fe/H]}}}$\n",
       "$\\newcommand{\\teff}{\\ensuremath{T_{\\rm eff}}}$\n",
       "$\\newcommand{\\teq}{\\ensuremath{T_{\\rm eq}}}$\n",
       "$\\newcommand{\\logg}{\\ensuremath{\\log{g}}}$\n",
       "$\\newcommand{\\zaspe}{\\texttt{ZASPE}}$\n",
       "$\\newcommand{\\ceres}{\\texttt{CERES}}$\n",
       "$\\newcommand{\\juliet}{{\\sc juliet}}$\n",
       "$\\newcommand{\\tess}{\\textit{TESS}}$\n",
       "$\\newcommand{\\vsini}{\\ensuremath{v \\sin{i}}}$\n",
       "$\\newcommand{\\kms}{\\ensuremath{{\\rm km s^{-1}}}}$\n",
       "$\\newcommand{\\ms}{\\ensuremath{{\\rm m s^{-1}}}}$\n",
       "$\\newcommand{\\mjup}{\\ensuremath{{M_{\\rm Jup}}}}$\n",
       "$\\newcommand{\\mnep}{\\ensuremath{{M_{\\rm Nep}}}}$\n",
       "$\\newcommand{\\msat}{\\ensuremath{{M_{\\rm Sat}}}}$\n",
       "$\\newcommand{\\mearth}{\\ensuremath{M_{\\rm \\oplus}}}$\n",
       "$\\newcommand{\\mpl}{\\ensuremath{{M_{\\rm pl}}}}$\n",
       "$\\newcommand{\\rjup}{\\ensuremath{R_{\\rm Jup}}}$\n",
       "$\\newcommand{\\rnep}{\\ensuremath{R_{\\rm Nep}}}$\n",
       "$\\newcommand{\\rsat}{\\ensuremath{R_{\\rm Sat}}}$\n",
       "$\\newcommand{\\rpl}{\\ensuremath{R_{\\rm pl}}}$\n",
       "$\\newcommand{\\rstar}{\\ensuremath{R_{\\rm \\star}}}$\n",
       "$\\newcommand{\\mstar}{\\ensuremath{M_{\\rm \\star}}}$\n",
       "$\\newcommand{\\lstar}{\\ensuremath{L_{\\rm \\star}}}$\n",
       "$\\newcommand{\\rsun}{\\ensuremath{R_{\\rm \\odot}}}$\n",
       "$\\newcommand{\\msun}{\\ensuremath{M_{\\rm \\odot}}}$\n",
       "$\\newcommand{\\lsun}{\\ensuremath{L_{\\rm \\odot}}}$\n",
       "$\\newcommand{\\rhopl}{\\ensuremath{{\\rho_{\\rm pl}}}}$\n",
       "$\\newcommand{\\gccm}{\\ensuremath{\\rm{g} \\rm{cm}^{-3}}}$\n",
       "$\\newcommand{\\stnameA}{NGTS-11}$\n",
       "$\\newcommand{\\plnameA}{NGTS-11\\nbs c}$\n",
       "$\\newcommand{\\plnameB}{NGTS-11\\nbs b}$\n",
       "$\\newcommand{\\plnameC}{NGTS-11\\nbs d}$\n",
       "$\\newcommand{\\altstnameA}{TOI-1847}$\n",
       "$\\newcommand{\\altplnameA}{TOI-1847\\nbs c}$\n",
       "$\\newcommand{\\altplnameB}{TOI-1847\\nbs b}$\n",
       "$\\newcommand{\\altplnameC}{TOI-1847\\nbs d}$\n",
       "$\\newcommand{\\PA}{\\ensuremath{12.77264 \\pm 0.000017}}$\n",
       "$\\newcommand{\\tcA}{\\ensuremath{2459117.83838 \\pm 0.00058}}$\n",
       "$\\newcommand{\\pA}{\\ensuremath{0.05297 \\pm 0.00065}}$\n",
       "$\\newcommand{\\bA}{\\ensuremath{0.808 \\pm 0.015}}$\n",
       "$\\newcommand{\\KA}{\\ensuremath{6.4^{+1.6}_{-1.5}}}$\n",
       "$\\newcommand{\\PB}{\\ensuremath{35.455882 \\pm 0.000039}}$\n",
       "$\\newcommand{\\tcB}{\\ensuremath{2459135.28040 \\pm 0.00055}}$\n",
       "$\\newcommand{\\pB}{\\ensuremath{0.1005 \\pm 0.0011}}$\n",
       "$\\newcommand{\\bB}{\\ensuremath{0.846 \\pm 0.014}}$\n",
       "$\\newcommand{\\KB}{\\ensuremath{12.9^{+1.7}_{-1.8}}}$\n",
       "$\\newcommand{\\rhostA}{\\ensuremath{1920 \\pm 170}}$\n",
       "$\\newcommand{\\qaTESSTRAPPIST}{\\ensuremath{0.11 \\pm 0.09}}$\n",
       "$\\newcommand{\\qbTESSTRAPPIST}{\\ensuremath{0.41 \\pm 0.31}}$\n",
       "$\\newcommand{\\qaNGTS}{\\ensuremath{0.26 \\pm 0.13}}$\n",
       "$\\newcommand{\\qbNGTS}{\\ensuremath{0.18 \\pm 0.15}}$\n",
       "$\\newcommand{\\qaMEarthULMTPEST}{\\ensuremath{0.28 \\pm 0.17}}$\n",
       "$\\newcommand{\\qaLCOKeplerCamSAAO}{\\ensuremath{0.25 \\pm 0.11}}$\n",
       "$\\newcommand{\\mfluxTESSA}{\\ensuremath{-0.00002\t\\pm\t0.00005}}$\n",
       "$\\newcommand{\\mfluxTESSB}{\\ensuremath{-0.00003\t\\pm\t0.00005}}$\n",
       "$\\newcommand{\\mfluxNGTS}{\\ensuremath{0.00002\t\\pm\t0.00003}}$\n",
       "$\\newcommand{\\mfluxMEarth}{\\ensuremath{-0.00002\t\\pm\t0.00008}}$\n",
       "$\\newcommand{\\mfluxLCO}{\\ensuremath{-0.00006\t\\pm\t0.00006}}$\n",
       "$\\newcommand{\\mfluxKeplerCam}{\\ensuremath{0.0000\t\\pm\t0.0002}}$\n",
       "$\\newcommand{\\mfluxULMT}{\\ensuremath{-0.0001\t\\pm\t0.0003}}$\n",
       "$\\newcommand{\\mfluxTRAPPIST}{\\ensuremath{-0.0001\t\\pm\t0.0002}}$\n",
       "$\\newcommand{\\mfluxPEST}{\\ensuremath{-0.0001\t\\pm\t0.0004}}$\n",
       "$\\newcommand{\\mfluxSPECULOOS}{\\ensuremath{0.0003\t\\pm\t0.0002}}$\n",
       "$\\newcommand{\\sigmaTESSA}{\\ensuremath{{0\t^{+\t10\t}_{-\t0\t}}}}$\n",
       "$\\newcommand{\\sigmaTESSB}{\\ensuremath{{2\t^{+\t150\t}_{-\t2\t}}}}$\n",
       "$\\newcommand{\\sigmaNGTS}{\\ensuremath{773 \\pm 36}}$\n",
       "$\\newcommand{\\sigmaMEarth}{\\ensuremath{{972 \\pm 86}}}$\n",
       "$\\newcommand{\\sigmaLCO}{\\ensuremath{832 \\pm 54\t}}$\n",
       "$\\newcommand{\\sigmaKeplerCam}{\\ensuremath{2660 \\pm 120 }}$\n",
       "$\\newcommand{\\sigmaULMT}{\\ensuremath{{0\t^{+\t39\t}_{-\t0\t}}}}$\n",
       "$\\newcommand{\\sigmaTRAPPIST}{\\ensuremath{{2070 \\pm 170 }}}$\n",
       "$\\newcommand{\\sigmaPEST}{\\ensuremath{0\t^{+\t45\t}_{-\t0\t}}}$\n",
       "$\\newcommand{\\sigmaSPECULOOS}{\\ensuremath{0\t^{+\t45\t}_{-\t0\t}}}$\n",
       "$\\newcommand{\\sigmaSAAO}{\\ensuremath{1\t^{+\t51\t}_{-\t0\t}}}$\n",
       "$\\newcommand{\\muFEROSA}{\\ensuremath{21 384.0 \\pm 8.2}}$\n",
       "$\\newcommand{\\sigmawFEROSA}{\\ensuremath{24.4 \\pm 5.6}}$\n",
       "$\\newcommand{\\muHARPSA}{\\ensuremath{21 400.6 \\pm 2.0}}$\n",
       "$\\newcommand{\\dmuA}{\\ensuremath{0.072 \\pm 0.012}}$\n",
       "$\\newcommand{\\ddmuA}{\\ensuremath{0.000170 \\pm 0.000019}}$\n",
       "$\\newcommand{\\mpA}{\\ensuremath{0.064^{+0.019}_{-0.013} }}$\n",
       "$\\newcommand{\\mpAnep}{\\ensuremath{1.2^{+0.3}_{-0.2}}}$\n",
       "$\\newcommand{\\mpAearth}{\\ensuremath{20^{+6}_{-4}}}$\n",
       "$\\newcommand{\\rpA}{\\ensuremath{0.429 \\pm 0.009}}$\n",
       "$\\newcommand{\\rpAnep}{\\ensuremath{1.24 \\pm 0.03}}$\n",
       "$\\newcommand{\\rhoA}{\\ensuremath{1040 \\pm 260}}$\n",
       "$\\newcommand{\\arstarA}{\\ensuremath{25.5 \\pm 0.7}}$\n",
       "$\\newcommand{\\smaA}{\\ensuremath{0.099 \\pm 0.003}}$\n",
       "$\\newcommand{\\smaAsimp}{\\ensuremath{0.099}}$\n",
       "$\\newcommand{\\incA}{\\ensuremath{88.21 \\pm 0.09}}$\n",
       "$\\newcommand{\\tqA}{\\ensuremath{594 \\pm 13}}$\n",
       "$\\newcommand{\\eccA}{\\ensuremath{0.09}^{+0.09}_{-0.06}}$\n",
       "$\\newcommand{\\omegaA}{\\ensuremath{108^{+35}_{-49}}}$\n",
       "$\\newcommand{\\mpB}{\\ensuremath{0.189 \\pm 0.026}}$\n",
       "$\\newcommand{\\mpBsat}{\\ensuremath{0.63 \\pm 0.09}}$\n",
       "$\\newcommand{\\mpBsatOld}{\\ensuremath{1.2 \\pm 0.3}}$\n",
       "$\\newcommand{\\mpBearth}{\\ensuremath{60 \\pm 8}}$\n",
       "$\\newcommand{\\rpB}{\\ensuremath{0.81 \\pm 0.02}}$\n",
       "$\\newcommand{\\rpBsat}{\\ensuremath{0.97 \\pm 0.02}}$\n",
       "$\\newcommand{\\rhoB}{\\ensuremath{423 \\pm 65}}$\n",
       "$\\newcommand{\\arstarB}{\\ensuremath{50 \\pm 2}}$\n",
       "$\\newcommand{\\smaB}{\\ensuremath{0.195 \\pm 0.006}}$\n",
       "$\\newcommand{\\smaBsimp}{\\ensuremath{0.195}}$\n",
       "$\\newcommand{\\incB}{\\ensuremath{89.05 \\pm 0.04}}$\n",
       "$\\newcommand{\\tqB}{\\ensuremath{423 \\pm 9}}$\n",
       "$\\newcommand{\\eccB}{\\ensuremath{0.08^{+0.06}_{-0.05}}}$\n",
       "$\\newcommand{\\omegaB}{\\ensuremath{12^{+56}_{-10}}}$\n",
       "$\\newcommand{\\nbs}{\\nobreak\\hspace{0.15em}}$\n",
       "$\\newcommand{\\feh}{\\ensuremath{{\\rm[Fe/H]}}}$\n",
       "$\\newcommand{\\teff}{\\ensuremath{T_{\\rm eff}}}$\n",
       "$\\newcommand{\\teq}{\\ensuremath{T_{\\rm eq}}}$\n",
       "$\\newcommand{\\logg}{\\ensuremath{\\log{g}}}$\n",
       "$\\newcommand{\\zaspe}{\\texttt{ZASPE}}$\n",
       "$\\newcommand{\\ceres}{\\texttt{CERES}}$\n",
       "$\\newcommand{\\juliet}{{\\sc juliet}}$\n",
       "$\\newcommand{\\tess}{\\textit{TESS}}$\n",
       "$\\newcommand{\\vsini}{\\ensuremath{v \\sin{i}}}$\n",
       "$\\newcommand{\\kms}{\\ensuremath{{\\rm km s^{-1}}}}$\n",
       "$\\newcommand{\\ms}{\\ensuremath{{\\rm m s^{-1}}}}$\n",
       "$\\newcommand{\\mjup}{\\ensuremath{{M_{\\rm Jup}}}}$\n",
       "$\\newcommand{\\mnep}{\\ensuremath{{M_{\\rm Nep}}}}$\n",
       "$\\newcommand{\\msat}{\\ensuremath{{M_{\\rm Sat}}}}$\n",
       "$\\newcommand{\\mearth}{\\ensuremath{M_{\\rm \\oplus}}}$\n",
       "$\\newcommand{\\mpl}{\\ensuremath{{M_{\\rm pl}}}}$\n",
       "$\\newcommand{\\rjup}{\\ensuremath{R_{\\rm Jup}}}$\n",
       "$\\newcommand{\\rnep}{\\ensuremath{R_{\\rm Nep}}}$\n",
       "$\\newcommand{\\rsat}{\\ensuremath{R_{\\rm Sat}}}$\n",
       "$\\newcommand{\\rpl}{\\ensuremath{R_{\\rm pl}}}$\n",
       "$\\newcommand{\\rstar}{\\ensuremath{R_{\\rm \\star}}}$\n",
       "$\\newcommand{\\mstar}{\\ensuremath{M_{\\rm \\star}}}$\n",
       "$\\newcommand{\\lstar}{\\ensuremath{L_{\\rm \\star}}}$\n",
       "$\\newcommand{\\rsun}{\\ensuremath{R_{\\rm \\odot}}}$\n",
       "$\\newcommand{\\msun}{\\ensuremath{M_{\\rm \\odot}}}$\n",
       "$\\newcommand{\\lsun}{\\ensuremath{L_{\\rm \\odot}}}$\n",
       "$\\newcommand{\\rhopl}{\\ensuremath{{\\rho_{\\rm pl}}}}$\n",
       "$\\newcommand{\\gccm}{\\ensuremath{\\rm{g} \\rm{cm}^{-3}}}$\n",
       "$\\newcommand{\\stnameA}{NGTS-11}$\n",
       "$\\newcommand{\\plnameA}{NGTS-11\\nbs c}$\n",
       "$\\newcommand{\\plnameB}{NGTS-11\\nbs b}$\n",
       "$\\newcommand{\\plnameC}{NGTS-11\\nbs d}$\n",
       "$\\newcommand{\\altstnameA}{TOI-1847}$\n",
       "$\\newcommand{\\altplnameA}{TOI-1847\\nbs c}$\n",
       "$\\newcommand{\\altplnameB}{TOI-1847\\nbs b}$\n",
       "$\\newcommand{\\altplnameC}{TOI-1847\\nbs d}$\n",
       "$\\newcommand{\\PA}{\\ensuremath{12.77264 \\pm 0.000017}}$\n",
       "$\\newcommand{\\tcA}{\\ensuremath{2459117.83838 \\pm 0.00058}}$\n",
       "$\\newcommand{\\pA}{\\ensuremath{0.05297 \\pm 0.00065}}$\n",
       "$\\newcommand{\\bA}{\\ensuremath{0.808 \\pm 0.015}}$\n",
       "$\\newcommand{\\KA}{\\ensuremath{6.4^{+1.6}_{-1.5}}}$\n",
       "$\\newcommand{\\PB}{\\ensuremath{35.455882 \\pm 0.000039}}$\n",
       "$\\newcommand{\\tcB}{\\ensuremath{2459135.28040 \\pm 0.00055}}$\n",
       "$\\newcommand{\\pB}{\\ensuremath{0.1005 \\pm 0.0011}}$\n",
       "$\\newcommand{\\bB}{\\ensuremath{0.846 \\pm 0.014}}$\n",
       "$\\newcommand{\\KB}{\\ensuremath{12.9^{+1.7}_{-1.8}}}$\n",
       "$\\newcommand{\\rhostA}{\\ensuremath{1920 \\pm 170}}$\n",
       "$\\newcommand{\\qaTESSTRAPPIST}{\\ensuremath{0.11 \\pm 0.09}}$\n",
       "$\\newcommand{\\qbTESSTRAPPIST}{\\ensuremath{0.41 \\pm 0.31}}$\n",
       "$\\newcommand{\\qaNGTS}{\\ensuremath{0.26 \\pm 0.13}}$\n",
       "$\\newcommand{\\qbNGTS}{\\ensuremath{0.18 \\pm 0.15}}$\n",
       "$\\newcommand{\\qaMEarthULMTPEST}{\\ensuremath{0.28 \\pm 0.17}}$\n",
       "$\\newcommand{\\qaLCOKeplerCamSAAO}{\\ensuremath{0.25 \\pm 0.11}}$\n",
       "$\\newcommand{\\mfluxTESSA}{\\ensuremath{-0.00002\t\\pm\t0.00005}}$\n",
       "$\\newcommand{\\mfluxTESSB}{\\ensuremath{-0.00003\t\\pm\t0.00005}}$\n",
       "$\\newcommand{\\mfluxNGTS}{\\ensuremath{0.00002\t\\pm\t0.00003}}$\n",
       "$\\newcommand{\\mfluxMEarth}{\\ensuremath{-0.00002\t\\pm\t0.00008}}$\n",
       "$\\newcommand{\\mfluxLCO}{\\ensuremath{-0.00006\t\\pm\t0.00006}}$\n",
       "$\\newcommand{\\mfluxKeplerCam}{\\ensuremath{0.0000\t\\pm\t0.0002}}$\n",
       "$\\newcommand{\\mfluxULMT}{\\ensuremath{-0.0001\t\\pm\t0.0003}}$\n",
       "$\\newcommand{\\mfluxTRAPPIST}{\\ensuremath{-0.0001\t\\pm\t0.0002}}$\n",
       "$\\newcommand{\\mfluxPEST}{\\ensuremath{-0.0001\t\\pm\t0.0004}}$\n",
       "$\\newcommand{\\mfluxSPECULOOS}{\\ensuremath{0.0003\t\\pm\t0.0002}}$\n",
       "$\\newcommand{\\sigmaTESSA}{\\ensuremath{{0\t^{+\t10\t}_{-\t0\t}}}}$\n",
       "$\\newcommand{\\sigmaTESSB}{\\ensuremath{{2\t^{+\t150\t}_{-\t2\t}}}}$\n",
       "$\\newcommand{\\sigmaNGTS}{\\ensuremath{773 \\pm 36}}$\n",
       "$\\newcommand{\\sigmaMEarth}{\\ensuremath{{972 \\pm 86}}}$\n",
       "$\\newcommand{\\sigmaLCO}{\\ensuremath{832 \\pm 54\t}}$\n",
       "$\\newcommand{\\sigmaKeplerCam}{\\ensuremath{2660 \\pm 120 }}$\n",
       "$\\newcommand{\\sigmaULMT}{\\ensuremath{{0\t^{+\t39\t}_{-\t0\t}}}}$\n",
       "$\\newcommand{\\sigmaTRAPPIST}{\\ensuremath{{2070 \\pm 170 }}}$\n",
       "$\\newcommand{\\sigmaPEST}{\\ensuremath{0\t^{+\t45\t}_{-\t0\t}}}$\n",
       "$\\newcommand{\\sigmaSPECULOOS}{\\ensuremath{0\t^{+\t45\t}_{-\t0\t}}}$\n",
       "$\\newcommand{\\sigmaSAAO}{\\ensuremath{1\t^{+\t51\t}_{-\t0\t}}}$\n",
       "$\\newcommand{\\muFEROSA}{\\ensuremath{21 384.0 \\pm 8.2}}$\n",
       "$\\newcommand{\\sigmawFEROSA}{\\ensuremath{24.4 \\pm 5.6}}$\n",
       "$\\newcommand{\\muHARPSA}{\\ensuremath{21 400.6 \\pm 2.0}}$\n",
       "$\\newcommand{\\dmuA}{\\ensuremath{0.072 \\pm 0.012}}$\n",
       "$\\newcommand{\\ddmuA}{\\ensuremath{0.000170 \\pm 0.000019}}$\n",
       "$\\newcommand{\\mpA}{\\ensuremath{0.064^{+0.019}_{-0.013} }}$\n",
       "$\\newcommand{\\mpAnep}{\\ensuremath{1.2^{+0.3}_{-0.2}}}$\n",
       "$\\newcommand{\\mpAearth}{\\ensuremath{20^{+6}_{-4}}}$\n",
       "$\\newcommand{\\rpA}{\\ensuremath{0.429 \\pm 0.009}}$\n",
       "$\\newcommand{\\rpAnep}{\\ensuremath{1.24 \\pm 0.03}}$\n",
       "$\\newcommand{\\rhoA}{\\ensuremath{1040 \\pm 260}}$\n",
       "$\\newcommand{\\arstarA}{\\ensuremath{25.5 \\pm 0.7}}$\n",
       "$\\newcommand{\\smaA}{\\ensuremath{0.099 \\pm 0.003}}$\n",
       "$\\newcommand{\\smaAsimp}{\\ensuremath{0.099}}$\n",
       "$\\newcommand{\\incA}{\\ensuremath{88.21 \\pm 0.09}}$\n",
       "$\\newcommand{\\tqA}{\\ensuremath{594 \\pm 13}}$\n",
       "$\\newcommand{\\eccA}{\\ensuremath{0.09}^{+0.09}_{-0.06}}$\n",
       "$\\newcommand{\\omegaA}{\\ensuremath{108^{+35}_{-49}}}$\n",
       "$\\newcommand{\\mpB}{\\ensuremath{0.189 \\pm 0.026}}$\n",
       "$\\newcommand{\\mpBsat}{\\ensuremath{0.63 \\pm 0.09}}$\n",
       "$\\newcommand{\\mpBsatOld}{\\ensuremath{1.2 \\pm 0.3}}$\n",
       "$\\newcommand{\\mpBearth}{\\ensuremath{60 \\pm 8}}$\n",
       "$\\newcommand{\\rpB}{\\ensuremath{0.81 \\pm 0.02}}$\n",
       "$\\newcommand{\\rpBsat}{\\ensuremath{0.97 \\pm 0.02}}$\n",
       "$\\newcommand{\\rhoB}{\\ensuremath{423 \\pm 65}}$\n",
       "$\\newcommand{\\arstarB}{\\ensuremath{50 \\pm 2}}$\n",
       "$\\newcommand{\\smaB}{\\ensuremath{0.195 \\pm 0.006}}$\n",
       "$\\newcommand{\\smaBsimp}{\\ensuremath{0.195}}$\n",
       "$\\newcommand{\\incB}{\\ensuremath{89.05 \\pm 0.04}}$\n",
       "$\\newcommand{\\tqB}{\\ensuremath{423 \\pm 9}}$\n",
       "$\\newcommand{\\eccB}{\\ensuremath{0.08^{+0.06}_{-0.05}}}$\n",
       "$\\newcommand{\\omegaB}{\\ensuremath{12^{+56}_{-10}}}$</div>\n",
       "\n",
       "\n",
       "\n",
       "<div id=\"title\">\n",
       "\n",
       "# $\\plnameA$: a transiting Neptune-mass planet interior to the warm Saturn $\\plnameB$\n",
       "\n",
       "</div>\n",
       "<div id=\"comments\">\n",
       "\n",
       "[![arXiv](https://img.shields.io/badge/arXiv-2510.14083-b31b1b.svg)](https://arxiv.org/abs/2510.14083)<mark>Appeared on: 2025-10-17</mark> -  _12 pages, 6 figures, submitted to ApJ_\n",
       "\n",
       "</div>\n",
       "<div id=\"authors\">\n",
       "\n",
       "D. R. Anderson, et al. -- incl., <mark>T. Henning</mark>\n",
       "\n",
       "</div>\n",
       "<div id=\"abstract\">\n",
       "\n",
       "**Abstract:** We report the discovery of $\\plnameA$ , a transiting warm Neptune ( $P \\sim 12.8$ d; $\\mpl = \\mpAnep \\mnep$ ; $\\rpl = \\rpAnep \\rnep$ ),orbiting closer to the K-dwarf $\\stnameA$ than the previously reported transiting warm Saturn $\\plnameB$ ( $P \\sim 35.5$ $\\nbs$ d), and we report evidence of a third, outer companion.We first detected transits of $\\plnameA$ in TESS light curves and confirmed them with follow-up transits from NGTS and many other ground-based facilities.Radial-velocity monitoring with the HARPS and FEROS spectrographs revealed the mass of $\\plnameA$ and provided evidence, via a long-term trend, for a long-period companion ( $P > 2300$ $\\nbs$ d and $\\mpl \\sin i > 3.6$ $\\nbs$ $\\mjup$ ).Taking into account the two additional bodies in our expanded data sets, we find that the mass of $\\plnameB$ ( $\\mpl$ = $\\mpBsat$ $\\msat$ ; $\\rpl$ = $\\rpBsat$ $\\rsat$ ) is lower than previously reported ( $\\mpl$ = $\\mpBsatOld$ $\\msat$ ).Given their near-circular, compact orbits, $\\plnameA$ and b are unlikely to have arrived in place via high-eccentricity migration.Instead, they likely formed in situ, or they formed farther out and then moved inward through disk migration.A comparison of $\\stnameA$ with the eight other known systems hosting multiple well-characterized warm giants reveals that it is most similar to Kepler-56.Finally, we find that the commonly used 10-day boundary between hot and warm Jupiters appears empirically well supported.\n",
       "\n",
       "</div>\n",
       "\n",
       "<div id=\"div_fig1\">\n",
       "\n",
       "<img src=\"tmp_2510.14083/./fig-mass-radius.png\" alt=\"Fig2\" width=\"100%\"/>\n",
       "\n",
       "**Figure 2. -** \n",
       "Mass--radius distribution of known exoplanets (gray dots have $P<10$\\nbs d and orange triangles have 10$\\nbs$$\\le P \\le 200$\\nbs d), solar system giants (blue circles), and $\\plnameA$ and b (brown diamonds, with error bars).\n",
       "At $\\mpl$$\\sim 0.2$\\nbs$\\mjup$, $\\plnameB$ approximately marks the mass boundary above which hot Jupiters are often inflated, whereas warm Jupiters generally are not.\n",
       "Data were retrieved on 2025 Oct 1 from the composite data table of the NASA Exoplanet Archive.\n",
       "Planets with masses inferred from a mass--radius relationship were excluded, as were those with imprecise parameters ($\\Delta$\\mpl/$\\mpl$$>$ 0.5 or $\\Delta$\\rpl/$\\rpl$$>$ 0.2).\n",
       " (*fig:m-r*)\n",
       "\n",
       "</div>\n",
       "<div id=\"div_fig2\">\n",
       "\n",
       "<img src=\"tmp_2510.14083/./fig-mass-radius.png\" alt=\"Fig5\" width=\"100%\"/>\n",
       "\n",
       "**Figure 5. -** \n",
       "Mass--radius distribution of known exoplanets (gray dots have $P<10$\\nbs d and orange triangles have 10$\\nbs$$\\le P \\le 200$\\nbs d), solar system giants (blue circles), and $\\plnameA$ and b (brown diamonds, with error bars).\n",
       "At $\\mpl$$\\sim 0.2$\\nbs$\\mjup$, $\\plnameB$ approximately marks the mass boundary above which hot Jupiters are often inflated, whereas warm Jupiters generally are not.\n",
       "Data were retrieved on 2025 Oct 1 from the composite data table of the NASA Exoplanet Archive.\n",
       "Planets with masses inferred from a mass--radius relationship were excluded, as were those with imprecise parameters ($\\Delta$\\mpl/$\\mpl$$>$ 0.5 or $\\Delta$\\rpl/$\\rpl$$>$ 0.2).\n",
       " (*fig:m-r*)\n",
       "\n",
       "</div>\n",
       "<div id=\"div_fig3\">\n",
       "\n",
       "<img src=\"tmp_2510.14083/./ngts11c.png\" alt=\"Fig7.1\" width=\"50%\"/><img src=\"tmp_2510.14083/./ngts11b.png\" alt=\"Fig7.2\" width=\"50%\"/>\n",
       "\n",
       "**Figure 7. -** Transit light curves of $\\plnameA$(left panel) and $\\plnameB$(right panel), shown offset in relative flux for clarity and plotted to the same scale for comparison.\n",
       "The data were phase-binned to 10$\\nbs$ min, except for TESS Sector 3 (30$\\nbs$ min) and TRAPPIST and PEST (20$\\nbs$ min for both).\n",
       "The error bars represent formal uncertainties and do not include the photometric jitter terms (\\autoref{tab:props}).\n",
       "The transit model (\\autoref{sec:anal}), including limb darkening, is shown for each case.\n",
       " (*fig:phot*)\n",
       "\n",
       "</div><div id=\"qrcode\"><img src=https://api.qrserver.com/v1/create-qr-code/?size=100x100&data=\"https://arxiv.org/abs/2510.14083\"></div>"
      ],
      "text/plain": [
       "<IPython.core.display.Markdown object>"
      ]
     },
     "metadata": {},
     "output_type": "display_data"
    },
    {
     "data": {
      "text/markdown": [
       "<div class=\"macros\" style=\"visibility:hidden;\">\n",
       "$\\newcommand{\\ensuremath}{}$\n",
       "$\\newcommand{\\xspace}{}$\n",
       "$\\newcommand{\\object}[1]{\\texttt{#1}}$\n",
       "$\\newcommand{\\farcs}{{.}''}$\n",
       "$\\newcommand{\\farcm}{{.}'}$\n",
       "$\\newcommand{\\arcsec}{''}$\n",
       "$\\newcommand{\\arcmin}{'}$\n",
       "$\\newcommand{\\ion}[2]{#1#2}$\n",
       "$\\newcommand{\\textsc}[1]{\\textrm{#1}}$\n",
       "$\\newcommand{\\hl}[1]{\\textrm{#1}}$\n",
       "$\\newcommand{\\footnote}[1]{}$\n",
       "$\\newcommand{\\kthrd}{\\ensuremath{k_{\\mathrm{3D}}}\\xspace}$\n",
       "$\\newcommand{\\bn}{\\ensuremath{b_{\\mathrm{n}}}\\xspace}$\n",
       "$\\newcommand{\\Reff}{\\ensuremath{r_{\\mathrm{e}}}\\xspace}$\n",
       "$\\newcommand{\\D}{\\ensuremath{\\mathrm{d}}\\xspace}$\n",
       "$\\newcommand{\\qint}{\\ensuremath{q_0}\\xspace}$\n",
       "$\\newcommand{\\qobs}{\\ensuremath{q_{\\mathrm{obs}}}\\xspace}$\n",
       "$\\newcommand{\\vcirc}{\\ensuremath{v_{\\mathrm{circ}}}\\xspace}$\n",
       "$\\newcommand{\\vcircobs}{\\ensuremath{v_{\\mathrm{circ,obs}}}\\xspace}$\n",
       "$\\newcommand{\\Menc}{\\ensuremath{M_{\\mathrm{sph}}}\\xspace}$\n",
       "$\\newcommand{\\vrot}{\\ensuremath{v_{\\mathrm{rot}}}\\xspace}$\n",
       "$\\newcommand{\\sigmaint}{\\ensuremath{\\sigma_{0}}\\xspace}$\n",
       "$\\newcommand{\\Msun}{\\ensuremath{\\rm M_{\\odot}}\\xspace}$\n",
       "$\\newcommand{\\Mstar}{\\ensuremath{M_{\\star}}\\xspace}$\n",
       "$\\newcommand{\\Mgas}{\\ensuremath{M_{\\mathrm{gas}}}\\xspace}$\n",
       "$\\newcommand{\\Mbar}{\\ensuremath{M_{\\mathrm{bar}}}\\xspace}$\n",
       "$\\newcommand{\\Mdyn}{\\ensuremath{M_{\\mathrm{dyn}}}\\xspace}$\n",
       "$\\newcommand{\\Mbh}{\\ensuremath{M_{\\mathrm{BH}}}\\xspace}$\n",
       "$\\newcommand{\\lMstar}{\\ensuremath{\\log_{10}(\\Mstar/\\Msun)}\\xspace}$\n",
       "$\\newcommand{\\lMgas}{\\ensuremath{\\log_{10}(\\Mgas/\\Msun)}\\xspace}$\n",
       "$\\newcommand{\\lMbar}{\\ensuremath{\\log_{10}(\\Mbar/\\Msun)}\\xspace}$\n",
       "$\\newcommand{\\lMdyn}{\\ensuremath{\\log_{10}(\\Mdyn/\\Msun)}\\xspace}$\n",
       "$\\newcommand{\\logMstar}{\\ensuremath{\\log(\\Mstar ~\\rm[\\Msun])}\\xspace}$\n",
       "$\\newcommand{\\logMbh}{\\ensuremath{\\log(\\Mbh ~\\rm[\\Msun])}\\xspace}$\n",
       "$\\newcommand{\\logMdyn}{\\ensuremath{\\log(\\Mdyn ~\\rm[\\Msun])}\\xspace}$\n",
       "$\\newcommand{\\fgas}{\\ensuremath{f_{\\mathrm{gas}}}\\xspace}$\n",
       "$\\newcommand{\\fDM}{\\ensuremath{f_{\\mathrm{DM}}}\\xspace}$\n",
       "$\\newcommand{\\nSdisk}{\\ensuremath{n_{\\mathrm{disk}}}\\xspace}$\n",
       "$\\newcommand{\\nSbulge}{\\ensuremath{n_{\\mathrm{bulge}}}\\xspace}$\n",
       "$\\newcommand{\\Ha}{\\ensuremath{\\mathrm{H}\\alpha}\\xspace}$\n",
       "$\\newcommand{\\vsigma}{\\ensuremath{\\mathrm{v}/\\sigmaint}\\xspace}$\n",
       "$\\newcommand{\\geko}{\\textsc{geko}}$\n",
       "$\\newcommand{\\sersic}{Sérsic }$\n",
       "$\\newcommand{\\angstrom}{\\mbox{\\normalfontÅ}}$\n",
       "$\\newcommand{\\deltaMS}{\\ensuremath{\\Delta \\rm MS}\\xspace}$\n",
       "$\\newcommand{\\rotsupp}{\\text{v}/\\sigma_0}$\n",
       "$\\newcommand{\\disp}{\\sigma_0}$\n",
       "$\\newcommand{\\rHa}{\\ensuremath{r_{\\rm e, Ha}}\\xspace}$\n",
       "$\\newcommand{\\rNUV}{\\ensuremath{r_{\\rm e, NUV}}\\xspace}$\n",
       "$\\newcommand{\\rFUV}{\\ensuremath{r_{\\rm e, FUV}}\\xspace}$\n",
       "$\\newcommand{\\ropt}{\\ensuremath{r_{\\rm e, opt}}\\xspace}$\n",
       "$\\newcommand{\\HatoUV}{\\ensuremath{r_{\\rm e, Ha}/r_{\\rm e, UV}}\\xspace}$\n",
       "$\\newcommand{\\HatoNUV}{\\ensuremath{r_{\\rm e, Ha}/r_{\\rm e, NUV}}\\xspace}$\n",
       "$\\newcommand{\\FUVtoNUV}{\\ensuremath{r_{\\rm e, FUV}/r_{\\rm e, NUV}}\\xspace}$\n",
       "$\\newcommand{\\FUVtoopt}{\\ensuremath{r_{\\rm e, FUV}/r_{\\rm e, opt}}\\xspace}$\n",
       "$\\newcommand{\\sigmabar}{\\ensuremath{\\Sigma_{\\rm bar}}\\xspace}$\n",
       "$\\newcommand{\\logsigmabar}{\\ensuremath{\\log (\\Sigma_{\\rm bar}) [\\Msun \\thinspace \\rm kpc^{-2}]}\\xspace}$\n",
       "$\\newcommand$\n",
       "$\\newcommand{\\labelitemi}{\\labelitemii}$\n",
       "$\\newcommand{\\arraystretch}{1.5}$\n",
       "$\\newcommand{\\thebibliography}{\\DeclareRobustCommand{\\VAN}[3]{##3}\\VANthebibliography}$</div>\n",
       "\n",
       "\n",
       "\n",
       "<div id=\"title\">\n",
       "\n",
       "# The dark side of early galaxies: $\\geko$ uncovers dark-matter fractions at$z\\sim4-6$\n",
       "\n",
       "</div>\n",
       "<div id=\"comments\">\n",
       "\n",
       "[![arXiv](https://img.shields.io/badge/arXiv-2510.14779-b31b1b.svg)](https://arxiv.org/abs/2510.14779)<mark>Appeared on: 2025-10-17</mark> -  _14 pages, 7 figures, 2 tables. Submitted to MNRAS_\n",
       "\n",
       "</div>\n",
       "<div id=\"authors\">\n",
       "\n",
       "A. L. Danhaive, et al. -- incl., <mark>A. d. Graaff</mark>\n",
       "\n",
       "</div>\n",
       "<div id=\"abstract\">\n",
       "\n",
       "**Abstract:** _JWST_ /NIRCam slitless spectroscopy enables dynamical mass measurements for typical star-forming galaxies only a billion years after the Big Bang. We model the H $\\alpha$ morpho-kinematics of 163 galaxies at redshift $z\\approx4$ -6 from FRESCO and CONGRESS (with JADES imaging), using the $\\texttt{geko}$ code, and infer rotational velocities and dispersions within $r_{\\rm e}$ . Our sample spans $\\log M_{\\star}\\approx7$ -10 and $\\log M_{\\rm dyn}\\approx9$ -11. Gas masses are estimated via scaling relations, yielding baryonic masses and dark-matter (DM) fractions $f_{\\rm DM}(r<r_{\\rm e})$ within the H $\\alpha$ half-light radius. We find high median fractions of $\\langle f_{\\rm gas}\\rangle=0.77$ and $\\langle f_{\\rm DM}\\rangle=0.73$ , where $f_{\\rm gas}$ is measured with respect to the baryonic mass and $f_{\\rm DM}$ with respect to the DM+baryonic mass. About two-thirds of systems are DM-dominated within $r_{\\rm e}\\sim0.5-1$ kpc. Both $f_{\\rm gas}$ and $f_{\\rm DM}$ decrease with stellar mass, consistent with simulations. The stellar Tully-Fisher relation shows a tentative offset to higher $v_{\\rm circ}$ at fixed $M_{\\star}$ and substantial intrinsic scatter, suggesting that the relation is only beginning to emerge at $z\\sim5$ . We measure a negative correlation between $f_{\\rm DM}$ and baryonic surface density $\\Sigma_{\\rm bar}$ , weaker but broadly consistent with trends at cosmic noon and at $z\\sim0$ . Qualitatively comparing with modified NFW profiles coupled to an empirical stellar-to-halo mass relation suggests that the lowest $f_{\\rm DM}$ ( $\\lesssim0.4$ ) require cored inner DM profiles, while the highest fractions favour cuspier profiles, potentially reflecting adiabatic contraction. Overall, the elevated $f_{\\rm gas}$ and $f_{\\rm DM}$ at $z\\gtrsim4$ are compatible with progenitors of baryon-dominated systems at $z\\sim2$ and naturally anticipate overmassive black holes at fixed $M_{\\star}$ .\n",
       "\n",
       "</div>\n",
       "\n",
       "<div id=\"div_fig1\">\n",
       "\n",
       "<img src=\"tmp_2510.14779/./Figures/fgas_fdm_Tacconi_zcolor.png\" alt=\"Fig3\" width=\"100%\"/>\n",
       "\n",
       "**Figure 3. -** Gas (top) and DM (bottom) fractions (within $\\Reff$) as a function of stellar mass, with the characteristic uncertainty shown in grey. The $f_{\\text{gas}} (r<$\\Reff$)$(Eq. \\ref{eq:fgas}) is computed using the sSFR, redshift, and stellar mass of each galaxy following \\protect[Tacconi, Genzel and Sternberg (2020)](https://ui.adsabs.harvard.edu/abs/2020ARA&A..58..157T). The $f_{\\text{DM}} (r<$\\Reff$)$ is computed using $M_{\\text{gas}}$ along with $M_{\\text{dyn}}$ and $M_{\\star}$ as shown in Eq. \\ref{eq:fdm}. We fit our data with a power-law (solid purple line) for both relations, showing the intrinsic scatter (shaded region) only for $\\fDM$. We cannot constrain $\\sigma_{\\rm int}$ for $\\fgas$ due to the inferred uncertainties being significantly larger than the scatter in the outputs of the [Tacconi, Genzel and Sternberg (2020)](https://ui.adsabs.harvard.edu/abs/2020ARA&A..58..157T) scaling relation for our sample (see Sec. \\ref{sec:gas-fracs}). We compare our results with measurements from [ and Genzel (2020)](https://ui.adsabs.harvard.edu/abs/2020ApJ...902...98G)(green stars) and Nestor-Shachar:2023aa(RC100; blue diamonds) at cosmic noon and de-Graaff:2024ab, [Pillepich and Rix (2024)](https://ui.adsabs.harvard.edu/abs/2024ApJ...967L..40D)(orange pentagons) and [ and Lee (2025)](https://ui.adsabs.harvard.edu/abs/2025arXiv250711600L)(pink hexagons) at high redshift. For most of our sample, we find high gas and DM fractions $f > 0.5$. We find relatively good agreement with median trends from the thesan-zoom simulations \\citep[green solid line;][]{McClymont:2025ac} and the tng50 simulations \\citep[blue solid lines;][]{de-Graaff:2024aa}. (*fig:fractions-mass*)\n",
       "\n",
       "</div>\n",
       "<div id=\"div_fig2\">\n",
       "\n",
       "<img src=\"tmp_2510.14779/./Figures/fdm_sigmabar_multi.png\" alt=\"Fig6\" width=\"100%\"/>\n",
       "\n",
       "**Figure 6. -** DM fraction as a function of baryonic surface density ($\\Sigma_{\\rm bar}$) for our sample (circles) and samples at lower \\citep[diamonds, ][]{Nestor-Shachar:2023aa} and similar to higher \\citep[pentagons, ][]{de-Graaff:2024aa} redshift. We colour-code points by stellar mass (left panel) and gas fractions (right panel). We show the characteristic uncertainty for our sample in grey. We find a strong negative correlation between $\\fDM$ and $\\Sigma_{\\rm bar}$($\\rho = -0.551, p < 0.001$), with a best-fit relation (solid purple line) steeper than [ and Wuyts (2016)](https://ui.adsabs.harvard.edu/abs/2016ApJ...831..149W) at cosmic noon (dashed brown line), and with an offset. We also plot the best-fit relation obtain when fitting our points with those from Nestor-Shachar:2023aa(dashed-dotted red line). For comparison, we plot medians from ETGs at $z\\sim 0$ from the ATLAS3D survey \\citep[purple square; ][]{Cappellari:2013aa} and LTGs from the DiskMass Survey \\citep[grey triangles; ][]{Martinsson:2013aa}. Our galaxies agree with Nestor-Shachar:2023aa at low fractions $\\fDM<0.5$, but lie above the relation at high fractions. The galaxies in our sample are smaller, less massive, and more gas rich than those probed at cosmic noon, driving the apparent shift in the relation.  (*fig:fdm-sigmabar*)\n",
       "\n",
       "</div>\n",
       "<div id=\"div_fig3\">\n",
       "\n",
       "<img src=\"tmp_2510.14779/./Figures/alpha_fdm_mstar.png\" alt=\"Fig7\" width=\"100%\"/>\n",
       "\n",
       "**Figure 7. -** Estimated slope $\\alpha$ of the inner DM density profile for a modified NFW distribution (Eq. \\ref{eq:gen-nfw}) as a function of measured DM fractions (left) and stellar mass (right). A value of $\\alpha = 1$ represents the classical NFW profile, whereas $\\alpha < 1$ corresponds to a cored profile, and $\\alpha>1$ to a cuspier profile. Under the assumed SHMR and concentration ($c=5$), we find that low-mass galaxies with high $\\fDM$ are associated with cuspy distributions, converging towards an NFW-like profile at higher masses with a scatter at least in part driven by their star-formation state. To highlight this, we colour-code the galaxies by the ratio of their SFR averaged over 10 and 100 Myr, $\\rm SFR_{10}/SFR_{100}$, applying LOESS smoothing  ([ and Cappellari 2013](https://ui.adsabs.harvard.edu/abs/2013MNRAS.432.1862C)) . Galaxies going through a burst of star formation ($\\log \\rm SFR_{10}/SFR_{100} \\gtrapprox 0.4$) have preferentially high values of $\\alpha$, which supports the adiabatic contraction scenario. (*fig:alpha_fdm_sfr*)\n",
       "\n",
       "</div><div id=\"qrcode\"><img src=https://api.qrserver.com/v1/create-qr-code/?size=100x100&data=\"https://arxiv.org/abs/2510.14779\"></div>"
      ],
      "text/plain": [
       "<IPython.core.display.Markdown object>"
      ]
     },
     "metadata": {},
     "output_type": "display_data"
    }
   ],
   "source": [
    "[display(Markdown(k[1])) for k in documents];"
   ]
  },
  {
   "cell_type": "markdown",
   "id": "873873a4",
   "metadata": {
    "papermill": {
     "duration": 0.005499,
     "end_time": "2025-10-17T04:13:12.808390",
     "exception": false,
     "start_time": "2025-10-17T04:13:12.802891",
     "status": "completed"
    },
    "tags": []
   },
   "source": [
    "# Create HTML index"
   ]
  },
  {
   "cell_type": "code",
   "execution_count": 10,
   "id": "cf665672",
   "metadata": {
    "execution": {
     "iopub.execute_input": "2025-10-17T04:13:12.820261Z",
     "iopub.status.busy": "2025-10-17T04:13:12.819990Z",
     "iopub.status.idle": "2025-10-17T04:13:12.827468Z",
     "shell.execute_reply": "2025-10-17T04:13:12.826769Z"
    },
    "papermill": {
     "duration": 0.014618,
     "end_time": "2025-10-17T04:13:12.828498",
     "exception": false,
     "start_time": "2025-10-17T04:13:12.813880",
     "status": "completed"
    },
    "tags": []
   },
   "outputs": [
    {
     "name": "stdout",
     "output_type": "stream",
     "text": [
      "118  publications files modified in the last 7 days.\n"
     ]
    }
   ],
   "source": [
    "from datetime import datetime, timedelta, timezone\n",
    "from glob import glob\n",
    "import os\n",
    "\n",
    "files = glob('_build/html/*.md')\n",
    "days = 7\n",
    "now = datetime.today()\n",
    "res = []\n",
    "for fk in files:\n",
    "    stat_result = os.stat(fk).st_ctime\n",
    "    modified = datetime.fromtimestamp(stat_result, tz=timezone.utc).replace(tzinfo=None)\n",
    "    delta = now.today() - modified\n",
    "    if delta <= timedelta(days=days):\n",
    "        res.append((delta.seconds, fk))\n",
    "res = [k[1] for k in reversed(sorted(res, key=lambda x:x[1]))]\n",
    "npub = len(res)\n",
    "print(len(res), f\" publications files modified in the last {days:d} days.\")\n",
    "# [ print('\\t', k) for k in res ];"
   ]
  },
  {
   "cell_type": "code",
   "execution_count": 11,
   "id": "015de740",
   "metadata": {
    "execution": {
     "iopub.execute_input": "2025-10-17T04:13:12.840691Z",
     "iopub.status.busy": "2025-10-17T04:13:12.840489Z",
     "iopub.status.idle": "2025-10-17T04:13:12.852068Z",
     "shell.execute_reply": "2025-10-17T04:13:12.851500Z"
    },
    "papermill": {
     "duration": 0.018856,
     "end_time": "2025-10-17T04:13:12.853116",
     "exception": false,
     "start_time": "2025-10-17T04:13:12.834260",
     "status": "completed"
    },
    "tags": []
   },
   "outputs": [
    {
     "name": "stdout",
     "output_type": "stream",
     "text": [
      "10  publications in the last 7 days.\n"
     ]
    }
   ],
   "source": [
    "import datetime\n",
    "from glob import glob\n",
    "\n",
    "def get_last_n_days(lst, days=1):\n",
    "    \"\"\" Get the documents from the last n days \"\"\"\n",
    "    sorted_lst = sorted(lst, key=lambda x: x[1], reverse=True)\n",
    "    for fname, date in sorted_lst:\n",
    "        if date >= str(datetime.date.today() - datetime.timedelta(days=days)):\n",
    "            yield fname\n",
    "\n",
    "def extract_appearance_dates(lst_file):\n",
    "    dates = []\n",
    "\n",
    "    def get_date(line):\n",
    "        return line\\\n",
    "            .split('Appeared on:')[-1]\\\n",
    "            .split('</mark>')[0].strip()\n",
    "\n",
    "    for fname in lst:\n",
    "        with open(fname, 'r') as f:\n",
    "            found_date = False\n",
    "            for line in f:\n",
    "                if not found_date:\n",
    "                    if \"Appeared on\" in line:\n",
    "                        found_date = True\n",
    "                        dates.append((fname, get_date(line)))\n",
    "                else:\n",
    "                    break\n",
    "    return dates\n",
    "\n",
    "from glob import glob\n",
    "lst = glob('_build/html/*md')\n",
    "days = 7\n",
    "dates = extract_appearance_dates(lst)\n",
    "res = list(get_last_n_days(dates, days))\n",
    "npub = len(res)\n",
    "print(len(res), f\" publications in the last {days:d} days.\")"
   ]
  },
  {
   "cell_type": "code",
   "execution_count": 12,
   "id": "52ca0208",
   "metadata": {
    "execution": {
     "iopub.execute_input": "2025-10-17T04:13:12.865561Z",
     "iopub.status.busy": "2025-10-17T04:13:12.865330Z",
     "iopub.status.idle": "2025-10-17T04:13:12.870417Z",
     "shell.execute_reply": "2025-10-17T04:13:12.869721Z"
    },
    "papermill": {
     "duration": 0.012337,
     "end_time": "2025-10-17T04:13:12.871424",
     "exception": false,
     "start_time": "2025-10-17T04:13:12.859087",
     "status": "completed"
    },
    "scrolled": false,
    "tags": []
   },
   "outputs": [],
   "source": [
    "def create_carousel(npub=4):\n",
    "    \"\"\" Generate the HTML code for a carousel with `npub` slides \"\"\"\n",
    "    carousel = [\"\"\"  <div class=\"carousel\" \"\"\",\n",
    "                \"\"\"       data-flickity='{ \"autoPlay\": 10000, \"adaptiveHeight\": true, \"resize\": true, \"wrapAround\": true, \"pauseAutoPlayOnHover\": true, \"groupCells\": 1 }' id=\"asyncTypeset\">\"\"\"\n",
    "                ]\n",
    "    \n",
    "    item_str = \"\"\"    <div class=\"carousel-cell\"> <div id=\"slide{k}\" class=\"md_view\">Content {k}</div> </div>\"\"\"\n",
    "    for k in range(1, npub + 1):\n",
    "        carousel.append(item_str.format(k=k))\n",
    "    carousel.append(\"  </div>\")\n",
    "    return '\\n'.join(carousel)\n",
    "\n",
    "def create_grid(npub=4):\n",
    "    \"\"\" Generate the HTML code for a flat grid with `npub` slides \"\"\"\n",
    "    grid = [\"\"\"  <div class=\"grid\"> \"\"\",\n",
    "                ]\n",
    "    \n",
    "    item_str = \"\"\"    <div class=\"grid-item\"> <div id=\"slide{k}\" class=\"md_view\">Content {k}</div> </div>\"\"\"\n",
    "    for k in range(1, npub + 1):\n",
    "        grid.append(item_str.format(k=k))\n",
    "    grid.append(\"  </div>\")\n",
    "    return '\\n'.join(grid)"
   ]
  },
  {
   "cell_type": "code",
   "execution_count": 13,
   "id": "a6eac5b6",
   "metadata": {
    "execution": {
     "iopub.execute_input": "2025-10-17T04:13:12.883419Z",
     "iopub.status.busy": "2025-10-17T04:13:12.883203Z",
     "iopub.status.idle": "2025-10-17T04:13:12.888297Z",
     "shell.execute_reply": "2025-10-17T04:13:12.887725Z"
    },
    "papermill": {
     "duration": 0.012252,
     "end_time": "2025-10-17T04:13:12.889316",
     "exception": false,
     "start_time": "2025-10-17T04:13:12.877064",
     "status": "completed"
    },
    "scrolled": false,
    "tags": []
   },
   "outputs": [],
   "source": [
    "carousel = create_carousel(npub)\n",
    "docs = ', '.join(['\"{0:s}\"'.format(k.split('/')[-1]) for k in res])\n",
    "slides = ', '.join([f'\"slide{k}\"' for k in range(1, npub + 1)])\n",
    "\n",
    "with open(\"daily_template.html\", \"r\") as tpl:\n",
    "    page = tpl.read()\n",
    "    page = page.replace(\"{%-- carousel:s --%}\", carousel)\\\n",
    "               .replace(\"{%-- suptitle:s --%}\",  \"7-day archives\" )\\\n",
    "               .replace(\"{%-- docs:s --%}\", docs)\\\n",
    "               .replace(\"{%-- slides:s --%}\", slides)\n",
    "    \n",
    "with open(\"_build/html/index_7days.html\", 'w') as fout:\n",
    "    fout.write(page)"
   ]
  },
  {
   "cell_type": "code",
   "execution_count": 14,
   "id": "adc1a1ec",
   "metadata": {
    "execution": {
     "iopub.execute_input": "2025-10-17T04:13:12.901758Z",
     "iopub.status.busy": "2025-10-17T04:13:12.901510Z",
     "iopub.status.idle": "2025-10-17T04:13:12.907969Z",
     "shell.execute_reply": "2025-10-17T04:13:12.907411Z"
    },
    "papermill": {
     "duration": 0.013751,
     "end_time": "2025-10-17T04:13:12.908957",
     "exception": false,
     "start_time": "2025-10-17T04:13:12.895206",
     "status": "completed"
    },
    "tags": []
   },
   "outputs": [
    {
     "name": "stdout",
     "output_type": "stream",
     "text": [
      "4  publications in the last day.\n"
     ]
    }
   ],
   "source": [
    "# redo for today\n",
    "days = 1\n",
    "res = list(get_last_n_days(dates, days))\n",
    "npub = len(res)\n",
    "print(len(res), f\" publications in the last day.\")\n",
    "\n",
    "carousel = create_carousel(npub)\n",
    "docs = ', '.join(['\"{0:s}\"'.format(k.split('/')[-1]) for k in res])\n",
    "slides = ', '.join([f'\"slide{k}\"' for k in range(1, npub + 1)])\n",
    "\n",
    "with open(\"daily_template.html\", \"r\") as tpl:\n",
    "    page = tpl.read()\n",
    "    page = page.replace(\"{%-- carousel:s --%}\", carousel)\\\n",
    "               .replace(\"{%-- suptitle:s --%}\",  \"Daily\" )\\\n",
    "               .replace(\"{%-- docs:s --%}\", docs)\\\n",
    "               .replace(\"{%-- slides:s --%}\", slides)\n",
    "    \n",
    "# print(carousel, docs, slides)\n",
    "# print(page)\n",
    "with open(\"_build/html/index_daily.html\", 'w') as fout:\n",
    "    fout.write(page)"
   ]
  },
  {
   "cell_type": "code",
   "execution_count": 15,
   "id": "00eece82",
   "metadata": {
    "execution": {
     "iopub.execute_input": "2025-10-17T04:13:12.921561Z",
     "iopub.status.busy": "2025-10-17T04:13:12.921337Z",
     "iopub.status.idle": "2025-10-17T04:13:12.927744Z",
     "shell.execute_reply": "2025-10-17T04:13:12.927192Z"
    },
    "papermill": {
     "duration": 0.013866,
     "end_time": "2025-10-17T04:13:12.928742",
     "exception": false,
     "start_time": "2025-10-17T04:13:12.914876",
     "status": "completed"
    },
    "scrolled": false,
    "tags": []
   },
   "outputs": [
    {
     "name": "stdout",
     "output_type": "stream",
     "text": [
      "6  6 publications selected.\n"
     ]
    }
   ],
   "source": [
    "# Create the flat grid of the last N papers (fixed number regardless of dates)\n",
    "from itertools import islice \n",
    "\n",
    "npub = 6\n",
    "res = [k[0] for k in (islice(reversed(sorted(dates, key=lambda x: x[1])), 6))]\n",
    "print(len(res), f\" {npub} publications selected.\")\n",
    "\n",
    "grid = create_grid(npub)\n",
    "docs = ', '.join(['\"{0:s}\"'.format(k.split('/')[-1]) for k in res])\n",
    "slides = ', '.join([f'\"slide{k}\"' for k in range(1, npub + 1)])\n",
    "\n",
    "with open(\"grid_template.html\", \"r\") as tpl:\n",
    "    page = tpl.read()\n",
    "    page = page.replace(\"{%-- grid-content:s --%}\", grid)\\\n",
    "               .replace(\"{%-- suptitle:s --%}\",  f\"Last {npub:,d} papers\" )\\\n",
    "               .replace(\"{%-- docs:s --%}\", docs)\\\n",
    "               .replace(\"{%-- slides:s --%}\", slides)\n",
    "    \n",
    "# print(grid, docs, slides)\n",
    "# print(page)\n",
    "with open(\"_build/html/index_npub_grid.html\", 'w') as fout:\n",
    "    fout.write(page)"
   ]
  }
 ],
 "metadata": {
  "kernelspec": {
   "display_name": "Python 3 (ipykernel)",
   "language": "python",
   "name": "python3"
  },
  "language_info": {
   "codemirror_mode": {
    "name": "ipython",
    "version": 3
   },
   "file_extension": ".py",
   "mimetype": "text/x-python",
   "name": "python",
   "nbconvert_exporter": "python",
   "pygments_lexer": "ipython3",
   "version": "3.9.23"
  },
  "papermill": {
   "default_parameters": {},
   "duration": 56.230866,
   "end_time": "2025-10-17T04:13:13.151806",
   "environment_variables": {},
   "exception": null,
   "input_path": "MPIA daily digest.ipynb",
   "output_path": "log.ipynb",
   "parameters": {},
   "start_time": "2025-10-17T04:12:16.920940",
   "version": "2.6.0"
  },
  "vscode": {
   "interpreter": {
    "hash": "aee8b7b246df8f9039afb4144a1f6fd8d2ca17a180786b69acc140d282b71a49"
   }
  },
  "widgets": {
   "application/vnd.jupyter.widget-state+json": {
    "state": {
     "2052668f7c4d4d8b909f458b3dbdce1e": {
      "model_module": "@jupyter-widgets/controls",
      "model_module_version": "2.0.0",
      "model_name": "HBoxModel",
      "state": {
       "_dom_classes": [],
       "_model_module": "@jupyter-widgets/controls",
       "_model_module_version": "2.0.0",
       "_model_name": "HBoxModel",
       "_view_count": null,
       "_view_module": "@jupyter-widgets/controls",
       "_view_module_version": "2.0.0",
       "_view_name": "HBoxView",
       "box_style": "",
       "children": [
        "IPY_MODEL_d2656c17f5c9482dbe686fbf84df59f3",
        "IPY_MODEL_3fa6cf99451f4c40826b81db98cb0efb",
        "IPY_MODEL_3ba09753dea642b69e7c911bd35fbafc"
       ],
       "layout": "IPY_MODEL_25f629bc76694710bef5f9da2125e777",
       "tabbable": null,
       "tooltip": null
      }
     },
     "25f629bc76694710bef5f9da2125e777": {
      "model_module": "@jupyter-widgets/base",
      "model_module_version": "2.0.0",
      "model_name": "LayoutModel",
      "state": {
       "_model_module": "@jupyter-widgets/base",
       "_model_module_version": "2.0.0",
       "_model_name": "LayoutModel",
       "_view_count": null,
       "_view_module": "@jupyter-widgets/base",
       "_view_module_version": "2.0.0",
       "_view_name": "LayoutView",
       "align_content": null,
       "align_items": null,
       "align_self": null,
       "border_bottom": null,
       "border_left": null,
       "border_right": null,
       "border_top": null,
       "bottom": null,
       "display": null,
       "flex": null,
       "flex_flow": null,
       "grid_area": null,
       "grid_auto_columns": null,
       "grid_auto_flow": null,
       "grid_auto_rows": null,
       "grid_column": null,
       "grid_gap": null,
       "grid_row": null,
       "grid_template_areas": null,
       "grid_template_columns": null,
       "grid_template_rows": null,
       "height": null,
       "justify_content": null,
       "justify_items": null,
       "left": null,
       "margin": null,
       "max_height": null,
       "max_width": null,
       "min_height": null,
       "min_width": null,
       "object_fit": null,
       "object_position": null,
       "order": null,
       "overflow": null,
       "padding": null,
       "right": null,
       "top": null,
       "visibility": null,
       "width": null
      }
     },
     "2a270c2b050943dd927f1d7f46501d4e": {
      "model_module": "@jupyter-widgets/base",
      "model_module_version": "2.0.0",
      "model_name": "LayoutModel",
      "state": {
       "_model_module": "@jupyter-widgets/base",
       "_model_module_version": "2.0.0",
       "_model_name": "LayoutModel",
       "_view_count": null,
       "_view_module": "@jupyter-widgets/base",
       "_view_module_version": "2.0.0",
       "_view_name": "LayoutView",
       "align_content": null,
       "align_items": null,
       "align_self": null,
       "border_bottom": null,
       "border_left": null,
       "border_right": null,
       "border_top": null,
       "bottom": null,
       "display": null,
       "flex": null,
       "flex_flow": null,
       "grid_area": null,
       "grid_auto_columns": null,
       "grid_auto_flow": null,
       "grid_auto_rows": null,
       "grid_column": null,
       "grid_gap": null,
       "grid_row": null,
       "grid_template_areas": null,
       "grid_template_columns": null,
       "grid_template_rows": null,
       "height": null,
       "justify_content": null,
       "justify_items": null,
       "left": null,
       "margin": null,
       "max_height": null,
       "max_width": null,
       "min_height": null,
       "min_width": null,
       "object_fit": null,
       "object_position": null,
       "order": null,
       "overflow": null,
       "padding": null,
       "right": null,
       "top": null,
       "visibility": null,
       "width": null
      }
     },
     "3ba09753dea642b69e7c911bd35fbafc": {
      "model_module": "@jupyter-widgets/controls",
      "model_module_version": "2.0.0",
      "model_name": "HTMLModel",
      "state": {
       "_dom_classes": [],
       "_model_module": "@jupyter-widgets/controls",
       "_model_module_version": "2.0.0",
       "_model_name": "HTMLModel",
       "_view_count": null,
       "_view_module": "@jupyter-widgets/controls",
       "_view_module_version": "2.0.0",
       "_view_name": "HTMLView",
       "description": "",
       "description_allow_html": false,
       "layout": "IPY_MODEL_2a270c2b050943dd927f1d7f46501d4e",
       "placeholder": "​",
       "style": "IPY_MODEL_56e855a15cb44575a27af35fc6cb0bde",
       "tabbable": null,
       "tooltip": null,
       "value": " 6/6 [00:31&lt;00:00,  5.19s/it]"
      }
     },
     "3fa6cf99451f4c40826b81db98cb0efb": {
      "model_module": "@jupyter-widgets/controls",
      "model_module_version": "2.0.0",
      "model_name": "FloatProgressModel",
      "state": {
       "_dom_classes": [],
       "_model_module": "@jupyter-widgets/controls",
       "_model_module_version": "2.0.0",
       "_model_name": "FloatProgressModel",
       "_view_count": null,
       "_view_module": "@jupyter-widgets/controls",
       "_view_module_version": "2.0.0",
       "_view_name": "ProgressView",
       "bar_style": "success",
       "description": "",
       "description_allow_html": false,
       "layout": "IPY_MODEL_42b1e06d993e4f27a70049350cc96441",
       "max": 6.0,
       "min": 0.0,
       "orientation": "horizontal",
       "style": "IPY_MODEL_d0b7661471154b7fad7347f73bcf106e",
       "tabbable": null,
       "tooltip": null,
       "value": 6.0
      }
     },
     "42b1e06d993e4f27a70049350cc96441": {
      "model_module": "@jupyter-widgets/base",
      "model_module_version": "2.0.0",
      "model_name": "LayoutModel",
      "state": {
       "_model_module": "@jupyter-widgets/base",
       "_model_module_version": "2.0.0",
       "_model_name": "LayoutModel",
       "_view_count": null,
       "_view_module": "@jupyter-widgets/base",
       "_view_module_version": "2.0.0",
       "_view_name": "LayoutView",
       "align_content": null,
       "align_items": null,
       "align_self": null,
       "border_bottom": null,
       "border_left": null,
       "border_right": null,
       "border_top": null,
       "bottom": null,
       "display": null,
       "flex": null,
       "flex_flow": null,
       "grid_area": null,
       "grid_auto_columns": null,
       "grid_auto_flow": null,
       "grid_auto_rows": null,
       "grid_column": null,
       "grid_gap": null,
       "grid_row": null,
       "grid_template_areas": null,
       "grid_template_columns": null,
       "grid_template_rows": null,
       "height": null,
       "justify_content": null,
       "justify_items": null,
       "left": null,
       "margin": null,
       "max_height": null,
       "max_width": null,
       "min_height": null,
       "min_width": null,
       "object_fit": null,
       "object_position": null,
       "order": null,
       "overflow": null,
       "padding": null,
       "right": null,
       "top": null,
       "visibility": null,
       "width": null
      }
     },
     "56e855a15cb44575a27af35fc6cb0bde": {
      "model_module": "@jupyter-widgets/controls",
      "model_module_version": "2.0.0",
      "model_name": "HTMLStyleModel",
      "state": {
       "_model_module": "@jupyter-widgets/controls",
       "_model_module_version": "2.0.0",
       "_model_name": "HTMLStyleModel",
       "_view_count": null,
       "_view_module": "@jupyter-widgets/base",
       "_view_module_version": "2.0.0",
       "_view_name": "StyleView",
       "background": null,
       "description_width": "",
       "font_size": null,
       "text_color": null
      }
     },
     "bb0da70fd9c54ff28d77860cf52f19ea": {
      "model_module": "@jupyter-widgets/base",
      "model_module_version": "2.0.0",
      "model_name": "LayoutModel",
      "state": {
       "_model_module": "@jupyter-widgets/base",
       "_model_module_version": "2.0.0",
       "_model_name": "LayoutModel",
       "_view_count": null,
       "_view_module": "@jupyter-widgets/base",
       "_view_module_version": "2.0.0",
       "_view_name": "LayoutView",
       "align_content": null,
       "align_items": null,
       "align_self": null,
       "border_bottom": null,
       "border_left": null,
       "border_right": null,
       "border_top": null,
       "bottom": null,
       "display": null,
       "flex": null,
       "flex_flow": null,
       "grid_area": null,
       "grid_auto_columns": null,
       "grid_auto_flow": null,
       "grid_auto_rows": null,
       "grid_column": null,
       "grid_gap": null,
       "grid_row": null,
       "grid_template_areas": null,
       "grid_template_columns": null,
       "grid_template_rows": null,
       "height": null,
       "justify_content": null,
       "justify_items": null,
       "left": null,
       "margin": null,
       "max_height": null,
       "max_width": null,
       "min_height": null,
       "min_width": null,
       "object_fit": null,
       "object_position": null,
       "order": null,
       "overflow": null,
       "padding": null,
       "right": null,
       "top": null,
       "visibility": null,
       "width": null
      }
     },
     "d0b7661471154b7fad7347f73bcf106e": {
      "model_module": "@jupyter-widgets/controls",
      "model_module_version": "2.0.0",
      "model_name": "ProgressStyleModel",
      "state": {
       "_model_module": "@jupyter-widgets/controls",
       "_model_module_version": "2.0.0",
       "_model_name": "ProgressStyleModel",
       "_view_count": null,
       "_view_module": "@jupyter-widgets/base",
       "_view_module_version": "2.0.0",
       "_view_name": "StyleView",
       "bar_color": null,
       "description_width": ""
      }
     },
     "d2182936804d43cdb6e2b78a8c27dd69": {
      "model_module": "@jupyter-widgets/controls",
      "model_module_version": "2.0.0",
      "model_name": "HTMLStyleModel",
      "state": {
       "_model_module": "@jupyter-widgets/controls",
       "_model_module_version": "2.0.0",
       "_model_name": "HTMLStyleModel",
       "_view_count": null,
       "_view_module": "@jupyter-widgets/base",
       "_view_module_version": "2.0.0",
       "_view_name": "StyleView",
       "background": null,
       "description_width": "",
       "font_size": null,
       "text_color": null
      }
     },
     "d2656c17f5c9482dbe686fbf84df59f3": {
      "model_module": "@jupyter-widgets/controls",
      "model_module_version": "2.0.0",
      "model_name": "HTMLModel",
      "state": {
       "_dom_classes": [],
       "_model_module": "@jupyter-widgets/controls",
       "_model_module_version": "2.0.0",
       "_model_name": "HTMLModel",
       "_view_count": null,
       "_view_module": "@jupyter-widgets/controls",
       "_view_module_version": "2.0.0",
       "_view_name": "HTMLView",
       "description": "",
       "description_allow_html": false,
       "layout": "IPY_MODEL_bb0da70fd9c54ff28d77860cf52f19ea",
       "placeholder": "​",
       "style": "IPY_MODEL_d2182936804d43cdb6e2b78a8c27dd69",
       "tabbable": null,
       "tooltip": null,
       "value": "100%"
      }
     }
    },
    "version_major": 2,
    "version_minor": 0
   }
  }
 },
 "nbformat": 4,
 "nbformat_minor": 5
}