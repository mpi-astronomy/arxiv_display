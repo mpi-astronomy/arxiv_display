{
 "cells": [
  {
   "cell_type": "markdown",
   "id": "92bcb855",
   "metadata": {
    "papermill": {
     "duration": 0.003998,
     "end_time": "2025-07-03T04:24:42.711455",
     "exception": false,
     "start_time": "2025-07-03T04:24:42.707457",
     "status": "completed"
    },
    "tags": []
   },
   "source": [
    "# MPIA Arxiv on Deck 2\n",
    "\n",
    "Contains the steps to produce the paper extractions."
   ]
  },
  {
   "cell_type": "code",
   "execution_count": 1,
   "id": "3a0d6e11",
   "metadata": {
    "execution": {
     "iopub.execute_input": "2025-07-03T04:24:42.719355Z",
     "iopub.status.busy": "2025-07-03T04:24:42.718695Z",
     "iopub.status.idle": "2025-07-03T04:24:42.956782Z",
     "shell.execute_reply": "2025-07-03T04:24:42.956042Z"
    },
    "papermill": {
     "duration": 0.243527,
     "end_time": "2025-07-03T04:24:42.958288",
     "exception": false,
     "start_time": "2025-07-03T04:24:42.714761",
     "status": "completed"
    },
    "tags": []
   },
   "outputs": [],
   "source": [
    "# Imports\n",
    "import os\n",
    "from IPython.display import Markdown, display\n",
    "from tqdm.notebook import tqdm\n",
    "import warnings\n",
    "from PIL import Image \n",
    "import re\n",
    "\n",
    "# requires arxiv_on_deck_2\n",
    "\n",
    "from arxiv_on_deck_2.arxiv2 import (get_new_papers, \n",
    "                                    get_paper_from_identifier,\n",
    "                                    retrieve_document_source, \n",
    "                                    get_markdown_badge)\n",
    "from arxiv_on_deck_2 import (latex,\n",
    "                             latex_bib,\n",
    "                             mpia,\n",
    "                             highlight_authors_in_list)\n",
    "\n",
    "# Sometimes images are really big\n",
    "Image.MAX_IMAGE_PIXELS = 1000000000 "
   ]
  },
  {
   "cell_type": "code",
   "execution_count": 2,
   "id": "22aa9d44",
   "metadata": {
    "execution": {
     "iopub.execute_input": "2025-07-03T04:24:42.965676Z",
     "iopub.status.busy": "2025-07-03T04:24:42.965239Z",
     "iopub.status.idle": "2025-07-03T04:24:42.973397Z",
     "shell.execute_reply": "2025-07-03T04:24:42.972703Z"
    },
    "papermill": {
     "duration": 0.01294,
     "end_time": "2025-07-03T04:24:42.974476",
     "exception": false,
     "start_time": "2025-07-03T04:24:42.961536",
     "status": "completed"
    },
    "tags": []
   },
   "outputs": [],
   "source": [
    "# Some useful definitions.\n",
    "\n",
    "class AffiliationWarning(UserWarning):\n",
    "    pass\n",
    "\n",
    "class AffiliationError(RuntimeError):\n",
    "    pass\n",
    "\n",
    "def validation(source: str):\n",
    "    \"\"\"Raises error paper during parsing of source file\n",
    "    \n",
    "    Allows checks before parsing TeX code.\n",
    "    \n",
    "    Raises AffiliationWarning\n",
    "    \"\"\"\n",
    "    check = mpia.affiliation_verifications(source, verbose=True)\n",
    "    if check is not True:\n",
    "        raise AffiliationError(\"mpia.affiliation_verifications: \" + check)\n",
    "\n",
    "        \n",
    "warnings.simplefilter('always', AffiliationWarning)\n",
    "\n",
    "\n",
    "def get_markdown_qrcode(paper_id: str):\n",
    "    \"\"\" Generate a qrcode to the arxiv page using qrserver.com\n",
    "    \n",
    "    :param paper: Arxiv paper\n",
    "    :returns: markdown text\n",
    "    \"\"\"\n",
    "    url = r\"https://api.qrserver.com/v1/create-qr-code/?size=100x100&data=\"\n",
    "    txt = f\"\"\"<img src={url}\"https://arxiv.org/abs/{paper_id}\">\"\"\"\n",
    "    txt = '<div id=\"qrcode\">' + txt + '</div>'\n",
    "    return txt\n",
    "\n",
    "\n",
    "def clean_non_western_encoded_characters_commands(text: str) -> str:\n",
    "    \"\"\" Remove non-western encoded characters from a string\n",
    "    List may need to grow.\n",
    "    \n",
    "    :param text: the text to clean\n",
    "    :return: the cleaned text\n",
    "    \"\"\"\n",
    "    text = re.sub(r\"(\\\\begin{CJK}{UTF8}{gbsn})(.*?)(\\\\end{CJK})\", r\"\\2\", text)\n",
    "    return text\n",
    "\n",
    "\n",
    "def get_initials(name: str) -> str:\n",
    "    \"\"\" Get the short name, e.g., A.-B. FamName\n",
    "    :param name: full name\n",
    "    :returns: initials\n",
    "    \"\"\"\n",
    "    initials = []\n",
    "    # account for non western names often in ()\n",
    "    if '(' in name:\n",
    "        name = clean_non_western_encoded_characters_commands(name)\n",
    "        suffix = re.findall(r\"\\((.*?)\\)\", name)[0]\n",
    "        name = name.replace(f\"({suffix})\", '')\n",
    "    else:\n",
    "        suffix = ''\n",
    "    split = name.split()\n",
    "    for token in split[:-1]:\n",
    "        if '-' in token:\n",
    "            current = '-'.join([k[0] + '.' for k in token.split('-')])\n",
    "        else:\n",
    "            current = token[0] + '.'\n",
    "        initials.append(current)\n",
    "    initials.append(split[-1].strip())\n",
    "    if suffix:\n",
    "        initials.append(f\"({suffix})\")\n",
    "    return ' '.join(initials)"
   ]
  },
  {
   "cell_type": "markdown",
   "id": "14bd6310",
   "metadata": {
    "papermill": {
     "duration": 0.002865,
     "end_time": "2025-07-03T04:24:42.980396",
     "exception": false,
     "start_time": "2025-07-03T04:24:42.977531",
     "status": "completed"
    },
    "tags": []
   },
   "source": [
    "## get list of arxiv paper candidates\n",
    "\n",
    "We use the MPIA mitarbeiter list webpage from mpia.de to get author names\n",
    "We then get all new papers from Arxiv and match authors"
   ]
  },
  {
   "cell_type": "code",
   "execution_count": 3,
   "id": "7ea813a8",
   "metadata": {
    "execution": {
     "iopub.execute_input": "2025-07-03T04:24:42.987371Z",
     "iopub.status.busy": "2025-07-03T04:24:42.986874Z",
     "iopub.status.idle": "2025-07-03T04:25:02.544353Z",
     "shell.execute_reply": "2025-07-03T04:25:02.543671Z"
    },
    "papermill": {
     "duration": 19.562288,
     "end_time": "2025-07-03T04:25:02.545578",
     "exception": false,
     "start_time": "2025-07-03T04:24:42.983290",
     "status": "completed"
    },
    "tags": []
   },
   "outputs": [],
   "source": [
    "# deal with the author list and edge cases of people that cannot be consistent on their name  \n",
    "\n",
    "def filter_non_scientists(name: str) -> bool:\n",
    "    \"\"\" Loose filter on expected authorships\n",
    "\n",
    "    removing IT, administration, technical staff\n",
    "    :param name: name\n",
    "    :returns: False if name is not a scientist\n",
    "    \"\"\"\n",
    "    remove_list = ['Licht', 'Binroth', 'Witzel', 'Jordan',\n",
    "                   'Zähringer', 'Scheerer', 'Hoffmann', 'Düe',\n",
    "                   'Hellmich', 'Enkler-Scharpegge', 'Witte-Nguy',\n",
    "                   'Dehen', 'Beckmann', 'Jager', 'Jäger'\n",
    "                  ]\n",
    "\n",
    "    for k in remove_list:\n",
    "        if k in name:\n",
    "            return False\n",
    "    return True\n",
    "\n",
    "def add_author_to_list(author_list: list) -> list:\n",
    "    \"\"\" Add author to list if not already in list\n",
    "    \n",
    "    :param author: author name\n",
    "    :param author_list: list of authors\n",
    "    :returns: updated list of authors\n",
    "    \"\"\"\n",
    "    add_list = ['T. Henning']\n",
    "\n",
    "    for author in add_list:\n",
    "        if author not in author_list:\n",
    "            author_list.append(author)\n",
    "    return author_list\n",
    "\n",
    "# get list from MPIA website\n",
    "# filter for non-scientists (mpia.get_mpia_mitarbeiter_list() does some filtering)\n",
    "mpia_authors = [k[1] for k in mpia.get_mpia_mitarbeiter_list() if filter_non_scientists(k[1])]\n",
    "# add some missing author because of inconsistencies in their MPIA name and author name on papers\n",
    "mpia_authors = add_author_to_list(mpia_authors)"
   ]
  },
  {
   "cell_type": "code",
   "execution_count": 4,
   "id": "2645e73a",
   "metadata": {
    "execution": {
     "iopub.execute_input": "2025-07-03T04:25:02.553141Z",
     "iopub.status.busy": "2025-07-03T04:25:02.552612Z",
     "iopub.status.idle": "2025-07-03T04:25:03.461220Z",
     "shell.execute_reply": "2025-07-03T04:25:03.460565Z"
    },
    "papermill": {
     "duration": 0.913455,
     "end_time": "2025-07-03T04:25:03.462353",
     "exception": false,
     "start_time": "2025-07-03T04:25:02.548898",
     "status": "completed"
    },
    "tags": []
   },
   "outputs": [
    {
     "name": "stdout",
     "output_type": "stream",
     "text": [
      "A. d. Graaff  ->  A. D. Graaff  |  ['A. D. Graaff']\n",
      "Wang  ->  N. Wang  |  ['Wang']\n",
      "K. Kreckel  ->  K. Kreckel  |  ['K. Kreckel']\n",
      "J. Neumann  ->  J. Neumann  |  ['J. Neumann']\n",
      "E. Schinnerer  ->  E. Schinnerer  |  ['E. Schinnerer']\n",
      "S. Joharle  ->  S. Joharle  |  ['S. Joharle']\n"
     ]
    },
    {
     "name": "stdout",
     "output_type": "stream",
     "text": [
      "J. Liu  ->  J. Liu  |  ['J. Liu']\n",
      "Arxiv has 91 new papers today\n",
      "          5 with possible author matches\n"
     ]
    }
   ],
   "source": [
    "new_papers = get_new_papers()\n",
    "# add manual references\n",
    "add_paper_refs = []\n",
    "new_papers.extend([get_paper_from_identifier(k) for k in add_paper_refs])\n",
    "\n",
    "def robust_call(fn, value, *args, **kwargs):\n",
    "    try:\n",
    "        return fn(value, *args, **kwargs)\n",
    "    except Exception:\n",
    "        return value\n",
    "\n",
    "candidates = []\n",
    "for paperk in new_papers:\n",
    "    # Check author list with their initials\n",
    "    normed_author_list = [robust_call(mpia.get_initials, k) for k in paperk['authors']]\n",
    "    hl_authors = highlight_authors_in_list(normed_author_list, mpia_authors, verbose=True)\n",
    "    matches = [(hl, orig) for hl, orig in zip(hl_authors, paperk['authors']) if 'mark' in hl]\n",
    "    paperk['authors'] = hl_authors\n",
    "    if matches:\n",
    "        # only select paper if an author matched our list\n",
    "        candidates.append(paperk)\n",
    "print(\"\"\"Arxiv has {0:,d} new papers today\"\"\".format(len(new_papers)))        \n",
    "print(\"\"\"          {0:,d} with possible author matches\"\"\".format(len(candidates)))"
   ]
  },
  {
   "cell_type": "markdown",
   "id": "3543b34a",
   "metadata": {
    "papermill": {
     "duration": 0.003149,
     "end_time": "2025-07-03T04:25:03.469129",
     "exception": false,
     "start_time": "2025-07-03T04:25:03.465980",
     "status": "completed"
    },
    "tags": []
   },
   "source": [
    "# Parse sources and generate relevant outputs\n",
    "\n",
    "From the candidates, we do the following steps:\n",
    "* get their tarball from ArXiv (and extract data)\n",
    "* find the main .tex file: find one with \\documentclass{...} (sometimes it's non trivial)\n",
    "* Check affiliations with :func:`validation`, which uses :func:`mpia.affiliation_verifications`\n",
    "* If passing the affiliations: we parse the .tex source\n",
    "   * inject sub-documents into the main (flatten the main document)\n",
    "   * parse structure, extract information (title, abstract, authors, figures...)\n",
    "   * handles `\\graphicspath` if provided\n",
    "* Generate the .md document."
   ]
  },
  {
   "cell_type": "code",
   "execution_count": 5,
   "id": "9576b79e",
   "metadata": {
    "execution": {
     "iopub.execute_input": "2025-07-03T04:25:03.476860Z",
     "iopub.status.busy": "2025-07-03T04:25:03.476272Z",
     "iopub.status.idle": "2025-07-03T04:26:36.043066Z",
     "shell.execute_reply": "2025-07-03T04:26:36.042265Z"
    },
    "papermill": {
     "duration": 92.571878,
     "end_time": "2025-07-03T04:26:36.044097",
     "exception": false,
     "start_time": "2025-07-03T04:25:03.472219",
     "status": "completed"
    },
    "scrolled": false,
    "tags": []
   },
   "outputs": [
    {
     "data": {
      "application/vnd.jupyter.widget-view+json": {
       "model_id": "66a996e9b97649cca7afefa8312d592d",
       "version_major": 2,
       "version_minor": 0
      },
      "text/plain": [
       "  0%|          | 0/5 [00:00<?, ?it/s]"
      ]
     },
     "metadata": {},
     "output_type": "display_data"
    },
    {
     "name": "stdout",
     "output_type": "stream",
     "text": [
      "Retrieving document from  https://arxiv.org/e-print/2507.01096\n"
     ]
    },
    {
     "name": "stdout",
     "output_type": "stream",
     "text": [
      "extracting tarball to tmp_2507.01096... done.\n"
     ]
    },
    {
     "name": "stdout",
     "output_type": "stream",
     "text": [
      "A. d. Graaff  ->  A. D. Graaff  |  ['A. D. Graaff']\n"
     ]
    },
    {
     "name": "stdout",
     "output_type": "stream",
     "text": [
      "Found 127 bibliographic references in tmp_2507.01096/main.bbl.\n",
      "Retrieving document from  https://arxiv.org/e-print/2507.01343\n",
      "extracting tarball to tmp_2507.01343..."
     ]
    },
    {
     "name": "stdout",
     "output_type": "stream",
     "text": [
      " done.\n",
      "Retrieving document from  https://arxiv.org/e-print/2507.01508\n"
     ]
    },
    {
     "name": "stderr",
     "output_type": "stream",
     "text": [
      "/opt/hostedtoolcache/Python/3.9.23/x64/lib/python3.9/site-packages/IPython/core/interactiveshell.py:3550: LatexWarning: Multiple tex files.\n",
      "\n",
      "  exec(code_obj, self.user_global_ns, self.user_ns)\n",
      "/opt/hostedtoolcache/Python/3.9.23/x64/lib/python3.9/site-packages/IPython/core/interactiveshell.py:3550: LatexWarning: Found documentclass in tmp_2507.01343/ms_arXiv.tex\n",
      "\n",
      "  exec(code_obj, self.user_global_ns, self.user_ns)\n",
      "/opt/hostedtoolcache/Python/3.9.23/x64/lib/python3.9/site-packages/arxiv_on_deck_2/latex.py:414: LatexWarning: Latex injecting: 'authors' from 'tmp_2507.01343/authors.tex'\n",
      "  warnings.warn(LatexWarning(f\"Latex injecting: '{ext}' from '{subsource}'\"))\n"
     ]
    },
    {
     "name": "stdout",
     "output_type": "stream",
     "text": [
      "extracting tarball to tmp_2507.01508..."
     ]
    },
    {
     "name": "stdout",
     "output_type": "stream",
     "text": [
      " done.\n"
     ]
    },
    {
     "name": "stderr",
     "output_type": "stream",
     "text": [
      "/opt/hostedtoolcache/Python/3.9.23/x64/lib/python3.9/site-packages/IPython/core/interactiveshell.py:3550: LatexWarning: Multiple tex files.\n",
      "\n",
      "  exec(code_obj, self.user_global_ns, self.user_ns)\n",
      "/opt/hostedtoolcache/Python/3.9.23/x64/lib/python3.9/site-packages/IPython/core/interactiveshell.py:3550: LatexWarning: Found documentclass in tmp_2507.01508/main.tex\n",
      "\n",
      "  exec(code_obj, self.user_global_ns, self.user_ns)\n"
     ]
    },
    {
     "name": "stdout",
     "output_type": "stream",
     "text": [
      "K. Kreckel  ->  K. Kreckel  |  ['K. Kreckel']\n",
      "J. Neumann  ->  J. Neumann  |  ['J. Neumann']\n",
      "E. Schinnerer  ->  E. Schinnerer  |  ['E. Schinnerer']\n"
     ]
    },
    {
     "name": "stdout",
     "output_type": "stream",
     "text": [
      "Found 162 bibliographic references in tmp_2507.01508/main.bbl.\n",
      "Retrieving document from  https://arxiv.org/e-print/2507.01510\n"
     ]
    },
    {
     "name": "stdout",
     "output_type": "stream",
     "text": [
      "extracting tarball to tmp_2507.01510..."
     ]
    },
    {
     "name": "stdout",
     "output_type": "stream",
     "text": [
      " done.\n",
      "Retrieving document from  https://arxiv.org/e-print/2507.01939\n"
     ]
    },
    {
     "name": "stdout",
     "output_type": "stream",
     "text": [
      "extracting tarball to tmp_2507.01939..."
     ]
    },
    {
     "name": "stdout",
     "output_type": "stream",
     "text": [
      " done.\n"
     ]
    }
   ],
   "source": [
    "documents = []\n",
    "failed = []\n",
    "for paper in tqdm(candidates):\n",
    "    # debug crap\n",
    "    paper['identifier'] = paper['identifier'].lower().replace('arxiv:', '').replace(r'\\n', '').strip()\n",
    "    paper_id = paper['identifier']\n",
    "    \n",
    "    folder = f'tmp_{paper_id}'\n",
    "\n",
    "    try:\n",
    "        if not os.path.isdir(folder):\n",
    "            folder = retrieve_document_source(f\"{paper_id}\", f'tmp_{paper_id}')\n",
    "        \n",
    "        try:\n",
    "            doc = latex.LatexDocument(folder, validation=validation)    \n",
    "        except AffiliationError as affilerror:\n",
    "            msg = f\"ArXiv:{paper_id:s} is not an MPIA paper... \" + str(affilerror)\n",
    "            failed.append((paper, \"affiliation error: \" + str(affilerror) ))\n",
    "            continue\n",
    "        \n",
    "        # Hack because sometimes author parsing does not work well\n",
    "        if (len(doc.authors) != len(paper['authors'])):\n",
    "            doc._authors = paper['authors']\n",
    "        else:\n",
    "            # highlight authors (FIXME: doc.highlight_authors)\n",
    "            # done on arxiv paper already\n",
    "            doc._authors = highlight_authors_in_list(\n",
    "                [get_initials(k) for k in doc.authors], \n",
    "                mpia_authors, verbose=True)\n",
    "        if (doc.abstract) in (None, ''):\n",
    "            doc._abstract = paper['abstract']\n",
    "            \n",
    "        doc.comment = (get_markdown_badge(paper_id) + \n",
    "                       \"<mark>Appeared on: \" + paper['date'] + \"</mark> - \")\n",
    "        if paper['comments']:\n",
    "            doc.comment += \" _\" + paper['comments'] + \"_\"\n",
    "        \n",
    "        full_md = doc.generate_markdown_text()\n",
    "        \n",
    "        full_md += get_markdown_qrcode(paper_id)\n",
    "        \n",
    "        # replace citations\n",
    "        try:\n",
    "            bibdata = latex_bib.LatexBib.from_doc(doc)\n",
    "            full_md = latex_bib.replace_citations(full_md, bibdata)\n",
    "        except Exception as e:\n",
    "            print(\"Issues with the citations\")\n",
    "            print(e)\n",
    "        \n",
    "        documents.append((paper_id, full_md))\n",
    "    except Exception as e:\n",
    "        warnings.warn(latex.LatexWarning(f\"{paper_id:s} did not run properly\\n\" +\n",
    "                                         str(e)\n",
    "                                        ))\n",
    "        failed.append((paper, \"latex error \" + str(e)))"
   ]
  },
  {
   "cell_type": "markdown",
   "id": "2505a25c",
   "metadata": {
    "papermill": {
     "duration": 0.004055,
     "end_time": "2025-07-03T04:26:36.052449",
     "exception": false,
     "start_time": "2025-07-03T04:26:36.048394",
     "status": "completed"
    },
    "tags": []
   },
   "source": [
    "### Export the logs\n",
    "\n",
    "Throughout, we also keep track of the logs per paper. see `logs-{today date}.md` "
   ]
  },
  {
   "cell_type": "code",
   "execution_count": 6,
   "id": "d733828a",
   "metadata": {
    "execution": {
     "iopub.execute_input": "2025-07-03T04:26:36.061699Z",
     "iopub.status.busy": "2025-07-03T04:26:36.061094Z",
     "iopub.status.idle": "2025-07-03T04:26:36.077152Z",
     "shell.execute_reply": "2025-07-03T04:26:36.076475Z"
    },
    "papermill": {
     "duration": 0.021818,
     "end_time": "2025-07-03T04:26:36.078153",
     "exception": false,
     "start_time": "2025-07-03T04:26:36.056335",
     "status": "completed"
    },
    "scrolled": false,
    "tags": []
   },
   "outputs": [
    {
     "data": {
      "text/markdown": [
       "## Successful papers"
      ],
      "text/plain": [
       "<IPython.core.display.Markdown object>"
      ]
     },
     "metadata": {},
     "output_type": "display_data"
    },
    {
     "data": {
      "text/markdown": [
       "\n",
       "|||\n",
       "|---:|:---|\n",
       "| [![arXiv](https://img.shields.io/badge/arXiv-2507.01096-b31b1b.svg)](https://arxiv.org/abs/2507.01096) | **Breaking Through the Cosmic Fog: JWST/NIRSpec Constraints on Ionizing Photon Escape in Reionization-Era Galaxies**  |\n",
       "|| E. Giovinazzo, et al. -- incl., <mark>A. d. Graaff</mark> |\n",
       "|*Appeared on*| *2025-07-03*|\n",
       "|*Comments*| *Submitted to A&A*|\n",
       "|**Abstract**|            The escape fraction of Lyman continuum photons (fesc(LyC)) is the last key unknown in our understanding of cosmic reionization. Directly estimating the escape fraction (fesc) of ionizing photons in the epoch of reionization (EoR) is impossible, due to the opacity of the intergalactic medium (IGM). However, a high fesc leaves clear imprints in the spectrum of a galaxy, due to reduced nebular line and continuum emission, which also leads to bluer UV continuum slopes (betaUV). Here, we exploit the large archive of deep JWST/NIRSpec spectra from the DAWN JWST Archive to analyze over 1'400 galaxies at 5 < zspec < 10 and constrain their fesc based on SED fitting enhanced with a picket fence model. We identify 71 high-confidence sources with significant fesc based on Bayes factor analysis strongly favouring fesc > 0 over fesc = 0 solutions. We compare the characteristics of this high-escape subset against both the parent sample and established diagnostics including betaUV slope, O32, and SFR surface density (SigmaSFR). For the overall sample, we find that most sources have a low escape fraction (<1%), however, a small subset of sources seems to emit a large number of their ionizing photons into the IGM, such that the average fesc is found to be ~10%, as needed for galaxies to drive reionization. Although uncertainties remain regarding recent burstiness and the intrinsic stellar ionizing photon output at low metallicities, our results demonstrate the unique capability of JWST/NIRSpec to identify individual LyC leakers, measure average fesc and thus constrain the drivers of cosmic reionization.         |"
      ],
      "text/plain": [
       "[2507.01096] Breaking Through the Cosmic Fog: JWST/NIRSpec Constraints on Ionizing Photon Escape in Reionization-Era Galaxies\n",
       "\tE. Giovinazzo, et al. -- incl., <mark>A. d. Graaff</mark>"
      ]
     },
     "metadata": {},
     "output_type": "display_data"
    },
    {
     "data": {
      "text/markdown": [
       "\n",
       "|||\n",
       "|---:|:---|\n",
       "| [![arXiv](https://img.shields.io/badge/arXiv-2507.01508-b31b1b.svg)](https://arxiv.org/abs/2507.01508) | **Duration and properties of the embedded phase of star formation in 37 nearby galaxies from PHANGS-JWST**  |\n",
       "|| L. Ramambason, et al. -- incl., <mark>K. Kreckel</mark>, <mark>J. Neumann</mark>, <mark>E. Schinnerer</mark> |\n",
       "|*Appeared on*| *2025-07-03*|\n",
       "|*Comments*| *20 pages, 14 figures, submitted to A&A, comments welcome*|\n",
       "|**Abstract**|            Light reprocessed by dust grains emitting in the infrared allows the study of the physics at play in dusty, embedded regions, where ultraviolet and optical wavelengths are attenuated. Infrared telescopes such as JWST have made it possible to study the earliest feedback phases, when stars are shielded by cocoons of gas and dust. This phase is crucial for unravelling the effects of feedback from young stars, leading to their emergence and the dispersal of their host molecular clouds. Here we show that the transition from the embedded to the exposed phase of star formation is short (< 4 Myr) and sometimes almost absent (< 1 Myr), across a sample of 37 nearby star-forming galaxies, covering a wide range of morphologies from massive barred spirals to irregular dwarfs. The short duration of the dust-clearing timescales suggests a predominant role of pre-supernova feedback mechanisms in revealing newborn stars, confirming previous results on smaller samples and allowing, for the first time, a statistical analysis of their dependencies. We find that the timescales associated with mid-infrared emission at 21 {\\mu}m, tracing a dust-embedded feedback phase, are controlled by a complex interplay between giant molecular cloud properties (masses and velocity dispersions) and galaxy morphology. We report relatively longer durations of the embedded phase of star formation in barred spiral galaxies, while this phase is significantly reduced in low-mass irregular dwarf galaxies. We discuss tentative trends with gas-phase metallicity, which may favor faster cloud dispersal at low metallicities.         |"
      ],
      "text/plain": [
       "[2507.01508] Duration and properties of the embedded phase of star formation in 37 nearby galaxies from PHANGS-JWST\n",
       "\tL. Ramambason, et al. -- incl., <mark>K. Kreckel</mark>, <mark>J. Neumann</mark>, <mark>E. Schinnerer</mark>"
      ]
     },
     "metadata": {},
     "output_type": "display_data"
    },
    {
     "data": {
      "text/markdown": [
       "## Failed papers"
      ],
      "text/plain": [
       "<IPython.core.display.Markdown object>"
      ]
     },
     "metadata": {},
     "output_type": "display_data"
    },
    {
     "data": {
      "text/markdown": [
       "\n",
       "|||\n",
       "|---:|:---|\n",
       "| [![arXiv](https://img.shields.io/badge/arXiv-2507.01343-b31b1b.svg)](https://arxiv.org/abs/2507.01343) | **47 Tuc in Rubin Data Preview 1: Exploring Early LSST Data and Science Potential**  |\n",
       "|| Y. Choi, et al. -- incl., <mark>Wang</mark> |\n",
       "|*Appeared on*| *2025-07-03*|\n",
       "|*Comments*| *16 pages, 15 figures, comments are welcome*|\n",
       "|**Abstract**|            We present analyses of the early data from Rubin Observatory's Data Preview 1 (DP1) for the globular cluster 47 Tuc field. The DP1 dataset for 47 Tuc includes four nights of observations from the Rubin Commissioning Camera (LSSTComCam), covering multiple bands (ugriy). We address challenges of crowding near the cluster core and toward the SMC in DP1, and demonstrate improved star-galaxy separation by fitting fifth-degree polynomials to the stellar loci in color-color diagrams and applying multi-dimensional sigma clipping. We compile a catalog of 3,576 probable 47 Tuc member stars selected via a combination of isochrone, Gaia proper-motion, and color-color space matched filtering. We explore the sources of photometric scatter in the 47 Tuc color-color sequence, evaluating contributions from various potential sources, including differential extinction within the cluster. Finally, we recover five known variable stars, including three RR Lyrae and two eclipsing binaries. Although the DP1 lightcurves have sparse temporal sampling, they appear to follow the patterns of densely-sampled literature lightcurves well. Despite some data limitations for crowded-field stellar analysis, DP1 demonstrates the promising scientific potential for future LSST data releases.         |\n",
       "|<p style=\"color:green\"> **ERROR** </p>| <p style=\"color:green\">affiliation error: mpia.affiliation_verifications: 'Heidelberg' keyword not found.</p> |"
      ],
      "text/plain": [
       "<IPython.core.display.Markdown object>"
      ]
     },
     "metadata": {},
     "output_type": "display_data"
    },
    {
     "data": {
      "text/markdown": [
       "\n",
       "|||\n",
       "|---:|:---|\n",
       "| [![arXiv](https://img.shields.io/badge/arXiv-2507.01510-b31b1b.svg)](https://arxiv.org/abs/2507.01510) | **Impact of a granular mass distribution on the orbit of S2 in the Galactic center**  |\n",
       "|| M. S. Bordoni, et al. -- incl., <mark>S. Joharle</mark> |\n",
       "|*Appeared on*| *2025-07-03*|\n",
       "|*Comments*| *Paper of 11 pages, 7 figures, 3 tables. Accepted for publication in Astronomy & Astrophysics on June 28, 2025*|\n",
       "|**Abstract**|            The orbit of the S2 star around Sagittarius A* provides a unique opportunity to test general relativity and study dynamical processes near a supermassive black hole. Observations have shown that the orbit of S2 is consistent with a Schwarzschild orbit at a 10$\\sigma$ confidence level, constraining the amount of extended mass within its orbit to less than 1200 M$_\\odot$, under the assumption of a smooth, spherically symmetric mass distribution. In this work we investigate the effects on the S2 orbit of granularity in the mass distribution, assuming it consists of a cluster of equal-mass objects surrounding Sagittarius A*. Using a fast dynamical approach validated by full N-body simulations, we perform a large set of simulations of the motion of S2 with different realizations of the cluster objects distribution. We find that granularity can induce significant deviations from the orbit in case of a smooth potential, causing precession of the orbital plane and a variation of the in-plane precession. Interactions with the cluster objects also induce a sort of \"Brownian motion\" of Sagittarius A*. Mock data analysis reveals that these effects could produce observable deviations in the trajectory of S2 from a Schwarzschild orbit, especially near apocenter. During the next apocenter passage of S2 in 2026, astrometric residuals in Declination may exceed the astrometric accuracy threshold of GRAVITY of about 30 $\\mu as$, as it happens in 35 to 60% of simulations for black holes of 20 to 100 M$_\\odot$. This presents a unique opportunity to detect, for the first time, scattering effects on the orbit of S2 caused by stellar-mass black holes, thanks to the remarkable precision achievable with GRAVITY. We also demonstrate that any attempt to constrain the extended mass enclosed within the orbit of S2 must explicitly account for granularity in the stellar-mass black hole population.         |\n",
       "|<p style=\"color:green\"> **ERROR** </p>| <p style=\"color:green\">affiliation error: mpia.affiliation_verifications: 'Heidelberg' keyword not found.</p> |"
      ],
      "text/plain": [
       "<IPython.core.display.Markdown object>"
      ]
     },
     "metadata": {},
     "output_type": "display_data"
    },
    {
     "data": {
      "text/markdown": [
       "\n",
       "|||\n",
       "|---:|:---|\n",
       "| [![arXiv](https://img.shields.io/badge/arXiv-2507.01939-b31b1b.svg)](https://arxiv.org/abs/2507.01939) | **SpecCLIP: Aligning and Translating Spectroscopic Measurements for Stars**  |\n",
       "|| X. Zhao, et al. -- incl., <mark>J. Liu</mark> |\n",
       "|*Appeared on*| *2025-07-03*|\n",
       "|*Comments*| *26 pages, 6 figures, 5 tables. To be submitted to AAS Journals. Comments welcome*|\n",
       "|**Abstract**|            In recent years, large language models (LLMs) have transformed natural language understanding through vast datasets and large-scale parameterization. Inspired by this success, we present SpecCLIP, a foundation model framework that extends LLM-inspired methodologies to stellar spectral analysis. Stellar spectra, akin to structured language, encode rich physical and chemical information about stars. By training foundation models on large-scale spectral datasets, our goal is to learn robust and informative embeddings that support diverse downstream applications. As a proof of concept, SpecCLIP involves pre-training on two spectral types--LAMOST low-resolution and Gaia XP--followed by contrastive alignment using the CLIP (Contrastive Language-Image Pre-training) framework, adapted to associate spectra from different instruments. This alignment is complemented by auxiliary decoders that preserve spectrum-specific information and enable translation (prediction) between spectral types, with the former achieved by maximizing mutual information between embeddings and input spectra. The result is a cross-spectrum framework enabling intrinsic calibration and flexible applications across instruments. We demonstrate that fine-tuning these models on moderate-sized labeled datasets improves adaptability to tasks such as stellar-parameter estimation and chemical-abundance determination. SpecCLIP also enhances the accuracy and precision of parameter estimates benchmarked against external survey data. Additionally, its similarity search and cross-spectrum prediction capabilities offer potential for anomaly detection. Our results suggest that contrastively trained foundation models enriched with spectrum-aware decoders can advance precision stellar spectroscopy.         |\n",
       "|<p style=\"color:green\"> **ERROR** </p>| <p style=\"color:green\">affiliation error: mpia.affiliation_verifications: 'Heidelberg' keyword not found.</p> |"
      ],
      "text/plain": [
       "<IPython.core.display.Markdown object>"
      ]
     },
     "metadata": {},
     "output_type": "display_data"
    }
   ],
   "source": [
    "import datetime\n",
    "today = str(datetime.date.today())\n",
    "logfile = f\"_build/html/logs/log-{today}.md\"\n",
    "\n",
    "\n",
    "with open(logfile, 'w') as logs:\n",
    "    # Success\n",
    "    logs.write(f'# Arxiv on Deck 2: Logs - {today}\\n\\n')\n",
    "    logs.write(\"\"\"* Arxiv had {0:,d} new papers\\n\"\"\".format(len(new_papers)))\n",
    "    logs.write(\"\"\"    * {0:,d} with possible author matches\\n\\n\"\"\".format(len(candidates)))\n",
    "    logs.write(\"## Sucessful papers\\n\\n\")\n",
    "    display(Markdown(\"## Successful papers\"))\n",
    "    success = [k[0] for k in documents]\n",
    "    for candid in candidates:\n",
    "        if candid['identifier'].split(':')[-1] in success:\n",
    "            display(candid)\n",
    "            logs.write(candid.generate_markdown_text() + '\\n\\n')\n",
    "\n",
    "    ## failed\n",
    "    logs.write(\"## Failed papers\\n\\n\")\n",
    "    display(Markdown(\"## Failed papers\"))\n",
    "    failed = sorted(failed, key=lambda x: x[1])\n",
    "    current_reason = \"\"\n",
    "    for paper, reason in failed:\n",
    "        if 'affiliation' in reason:\n",
    "            color = 'green'\n",
    "        else:\n",
    "            color = 'red'\n",
    "        data = Markdown(\n",
    "                paper.generate_markdown_text() + \n",
    "                f'\\n|<p style=\"color:{color:s}\"> **ERROR** </p>| <p style=\"color:{color:s}\">{reason:s}</p> |'\n",
    "               )\n",
    "        if reason != current_reason:\n",
    "            logs.write(f'### {reason:s} \\n\\n')\n",
    "            current_reason = reason\n",
    "        logs.write(data.data + '\\n\\n')\n",
    "        \n",
    "        # only display here the important errors (all in logs)\n",
    "        # if color in ('red',):\n",
    "        display(data)"
   ]
  },
  {
   "cell_type": "markdown",
   "id": "472d20ee",
   "metadata": {
    "papermill": {
     "duration": 0.004696,
     "end_time": "2025-07-03T04:26:36.088246",
     "exception": false,
     "start_time": "2025-07-03T04:26:36.083550",
     "status": "completed"
    },
    "tags": []
   },
   "source": [
    "## Export documents\n",
    "\n",
    "We now write the .md files and export relevant images"
   ]
  },
  {
   "cell_type": "code",
   "execution_count": 7,
   "id": "d426aed9",
   "metadata": {
    "execution": {
     "iopub.execute_input": "2025-07-03T04:26:36.098975Z",
     "iopub.status.busy": "2025-07-03T04:26:36.098447Z",
     "iopub.status.idle": "2025-07-03T04:26:36.105742Z",
     "shell.execute_reply": "2025-07-03T04:26:36.105204Z"
    },
    "papermill": {
     "duration": 0.013903,
     "end_time": "2025-07-03T04:26:36.106755",
     "exception": false,
     "start_time": "2025-07-03T04:26:36.092852",
     "status": "completed"
    },
    "tags": []
   },
   "outputs": [],
   "source": [
    "def export_markdown_summary(md: str, md_fname:str, directory: str):\n",
    "    \"\"\"Export MD document and associated relevant images\"\"\"\n",
    "    import os\n",
    "    import shutil\n",
    "    import re\n",
    "\n",
    "    if (os.path.exists(directory) and not os.path.isdir(directory)):\n",
    "        raise RuntimeError(f\"a non-directory file exists with name {directory:s}\")\n",
    "\n",
    "    if (not os.path.exists(directory)):\n",
    "        print(f\"creating directory {directory:s}\")\n",
    "        os.mkdir(directory)\n",
    "\n",
    "    fig_fnames = (re.compile(r'\\[Fig.*\\]\\((.*)\\)').findall(md) + \n",
    "                  re.compile(r'\\<img src=\"([^>\\s]*)\"[^>]*/>').findall(md))\n",
    "    print(\"found figures\", fig_fnames)\n",
    "    for fname in fig_fnames:\n",
    "        if 'http' in fname:\n",
    "            # No need to copy online figures\n",
    "            continue\n",
    "        if not os.path.exists(fname):\n",
    "            print(\"file not found\", fname)\n",
    "            continue\n",
    "        print(\"copying \", fname, \"to\", directory)\n",
    "        destdir = os.path.join(directory, os.path.dirname(fname))\n",
    "        destfname = os.path.join(destdir, os.path.basename(fname))\n",
    "        try:\n",
    "            os.makedirs(destdir)\n",
    "        except FileExistsError:\n",
    "            pass\n",
    "        shutil.copy(fname, destfname)\n",
    "    with open(os.path.join(directory, md_fname), 'w') as fout:\n",
    "        fout.write(md)\n",
    "    print(\"exported in \", os.path.join(directory, md_fname))\n",
    "    [print(\"    + \" + os.path.join(directory,fk)) for fk in fig_fnames]"
   ]
  },
  {
   "cell_type": "code",
   "execution_count": 8,
   "id": "014d04a4",
   "metadata": {
    "execution": {
     "iopub.execute_input": "2025-07-03T04:26:36.117441Z",
     "iopub.status.busy": "2025-07-03T04:26:36.116986Z",
     "iopub.status.idle": "2025-07-03T04:26:36.127612Z",
     "shell.execute_reply": "2025-07-03T04:26:36.127034Z"
    },
    "papermill": {
     "duration": 0.017149,
     "end_time": "2025-07-03T04:26:36.128675",
     "exception": false,
     "start_time": "2025-07-03T04:26:36.111526",
     "status": "completed"
    },
    "tags": []
   },
   "outputs": [
    {
     "name": "stdout",
     "output_type": "stream",
     "text": [
      "found figures ['tmp_2507.01096/./Figures/fesc_MUV_scaled_wErr.png', 'tmp_2507.01096/./Figures/jades-gdn09-v4_prism-clear_1181_71983_sfh.png', 'tmp_2507.01096/./Figures/Model_galaxy.png']\n",
      "copying  tmp_2507.01096/./Figures/fesc_MUV_scaled_wErr.png to _build/html/\n",
      "copying  tmp_2507.01096/./Figures/jades-gdn09-v4_prism-clear_1181_71983_sfh.png to _build/html/\n",
      "copying  tmp_2507.01096/./Figures/Model_galaxy.png to _build/html/\n",
      "exported in  _build/html/2507.01096.md\n",
      "    + _build/html/tmp_2507.01096/./Figures/fesc_MUV_scaled_wErr.png\n",
      "    + _build/html/tmp_2507.01096/./Figures/jades-gdn09-v4_prism-clear_1181_71983_sfh.png\n",
      "    + _build/html/tmp_2507.01096/./Figures/Model_galaxy.png\n",
      "found figures ['tmp_2507.01508/./Fig7.png', 'tmp_2507.01508/./Fig8_1.png', 'tmp_2507.01508/./Fig8_2.png', 'tmp_2507.01508/./Fig3.png']\n",
      "copying  tmp_2507.01508/./Fig7.png to _build/html/\n",
      "copying  tmp_2507.01508/./Fig8_1.png to _build/html/\n",
      "copying  tmp_2507.01508/./Fig8_2.png to _build/html/\n",
      "copying  tmp_2507.01508/./Fig3.png to _build/html/\n",
      "exported in  _build/html/2507.01508.md\n",
      "    + _build/html/tmp_2507.01508/./Fig7.png\n",
      "    + _build/html/tmp_2507.01508/./Fig8_1.png\n",
      "    + _build/html/tmp_2507.01508/./Fig8_2.png\n",
      "    + _build/html/tmp_2507.01508/./Fig3.png\n"
     ]
    }
   ],
   "source": [
    "for paper_id, md in documents:\n",
    "    export_markdown_summary(md, f\"{paper_id:s}.md\", '_build/html/')"
   ]
  },
  {
   "cell_type": "markdown",
   "id": "f087a0a7",
   "metadata": {
    "papermill": {
     "duration": 0.004653,
     "end_time": "2025-07-03T04:26:36.138244",
     "exception": false,
     "start_time": "2025-07-03T04:26:36.133591",
     "status": "completed"
    },
    "tags": []
   },
   "source": [
    "## Display the papers\n",
    "\n",
    "Not necessary but allows for a quick check."
   ]
  },
  {
   "cell_type": "code",
   "execution_count": 9,
   "id": "fd25f625",
   "metadata": {
    "execution": {
     "iopub.execute_input": "2025-07-03T04:26:36.149019Z",
     "iopub.status.busy": "2025-07-03T04:26:36.148531Z",
     "iopub.status.idle": "2025-07-03T04:26:36.154776Z",
     "shell.execute_reply": "2025-07-03T04:26:36.154231Z"
    },
    "papermill": {
     "duration": 0.012849,
     "end_time": "2025-07-03T04:26:36.155777",
     "exception": false,
     "start_time": "2025-07-03T04:26:36.142928",
     "status": "completed"
    },
    "scrolled": false,
    "tags": []
   },
   "outputs": [
    {
     "data": {
      "text/markdown": [
       "<div class=\"macros\" style=\"visibility:hidden;\">\n",
       "$\\newcommand{\\ensuremath}{}$\n",
       "$\\newcommand{\\xspace}{}$\n",
       "$\\newcommand{\\object}[1]{\\texttt{#1}}$\n",
       "$\\newcommand{\\farcs}{{.}''}$\n",
       "$\\newcommand{\\farcm}{{.}'}$\n",
       "$\\newcommand{\\arcsec}{''}$\n",
       "$\\newcommand{\\arcmin}{'}$\n",
       "$\\newcommand{\\ion}[2]{#1#2}$\n",
       "$\\newcommand{\\textsc}[1]{\\textrm{#1}}$\n",
       "$\\newcommand{\\hl}[1]{\\textrm{#1}}$\n",
       "$\\newcommand{\\footnote}[1]{}$\n",
       "$\\newcommand{\\EG}[1]{\\textcolor{Purple}{#1}}$\n",
       "$\\newcommand{\\fesc}{f_{\\rm{esc}}\\xspace}$\n",
       "$\\newcommand{\\uvbeta}{\\beta_{\\rm UV}\\xspace}$\n",
       "$\\newcommand{\\arraystretch}{1.2}$\n",
       "$\\newcommand{\\arraystretch}{1.5}$\n",
       "$\\newcommand{\\arraystretch}{1.5}$</div>\n",
       "\n",
       "\n",
       "\n",
       "<div id=\"title\">\n",
       "\n",
       "# Breaking Through the Cosmic Fog: JWST/NIRSpec Constraints on Ionizing Photon Escape in Reionization-Era Galaxies\n",
       "\n",
       "</div>\n",
       "<div id=\"comments\">\n",
       "\n",
       "[![arXiv](https://img.shields.io/badge/arXiv-2507.01096-b31b1b.svg)](https://arxiv.org/abs/2507.01096)<mark>Appeared on: 2025-07-03</mark> -  _Submitted to A&A_\n",
       "\n",
       "</div>\n",
       "<div id=\"authors\">\n",
       "\n",
       "E. Giovinazzo, et al. -- incl., <mark>A. d. Graaff</mark>\n",
       "\n",
       "</div>\n",
       "<div id=\"abstract\">\n",
       "\n",
       "**Abstract:** ${The escape fraction of Lyman continuum photons ($f_{\\rm esc}(\\rm LyC)$) is the last key unknown in our understanding of cosmic reionization. Directly estimating the escape fraction (\\fesc) of ionizing photons in the epoch of reionization (EoR) is impossible, due to the opacity of the intergalactic medium (IGM). However, a high \\fesc leaves clear imprints in the spectrum of a galaxy, due to reduced nebular line and continuum emission, which also leads to bluer UV continuum slopes (\\uvbeta). Here, we exploit the large archive of deep JWST/NIRSpec spectra from the DAWN JWST Archive to analyze over 1'400 galaxies at $5<z_\\mathrm{spec}<10$ and constrain their \\fesc based on SED fitting enhanced with a picket fence model.}$ ${We identify 71 high-confidence sources with significant \\fesc based on Bayes factor analysis strongly favouring \\fesc> 0 over \\fesc= 0 solutions. We compare the characteristics of this high-escape subset against both the parent sample and established diagnostics including \\uvbeta slope, O32, and SFR surface density ($\\Sigma_{\\rm SFR}$).}$ ${For the overall sample, we find that most sources have a low escape fraction (<1$\\%$), however, a small subset of sources seems to emit a large number of their ionizing photons into the IGM, such that the average \\fesc is found to be $\\sim$10\\%, as needed for galaxies to drive reionization.}$ ${Although uncertainties remain regarding recent burstiness and the intrinsic stellar ionizing photon output at low metallicities, our results demonstrate the unique capability of JWST/NIRSpec to identify individual LyC leakers, measure average \\fesc and thus constrain the drivers of cosmic reionization.}$\n",
       "\n",
       "</div>\n",
       "\n",
       "<div id=\"div_fig1\">\n",
       "\n",
       "<img src=\"tmp_2507.01096/./Figures/fesc_MUV_scaled_wErr.png\" alt=\"Fig7\" width=\"100%\"/>\n",
       "\n",
       "**Figure 7. -** **Top:**$\\fesc$ vs $\\rm M_{\\rm UV}$. The parent sample is shown with the pink dots, the high confidence sample is the dark diamonds and the average $\\fesc$ in bins of $\\rm M_{\\rm UV}$ is shown as the black squares. The mean $\\fesc$ does not show a trend with $\\rm M_{\\rm UV}$. The average $\\fesc$ of our sample is consistently measured between 10-15\\% in all bins.\n",
       "    **Bottom:** The fraction of sources with $f_{\\rm esc}$>0.1 in each UV magnitude bin. This fraction also shows no trend with $\\rm M_{\\rm UV}$. (*fig:fesc_MUV*)\n",
       "\n",
       "</div>\n",
       "<div id=\"div_fig2\">\n",
       "\n",
       "<img src=\"tmp_2507.01096/./Figures/jades-gdn09-v4_prism-clear_1181_71983_sfh.png\" alt=\"Fig3\" width=\"100%\"/>\n",
       "\n",
       "**Figure 3. -** Example galaxy with a Bayes factor $>$ 100. **Top: ** Here we show the observed spectrum (blue line) and the two models, one with high $\\fesc$(orange solid line) and one with $\\fesc$ = 0 (magenta dashed line). The grey shaded region represents the masked region. A clear difference between the two models can be seen in the $\\uvbeta$ part of the spectrum, where the high $\\fesc$ solution fits the data much better than the other solution.\n",
       "    **Middle: ** Difference between the two models highlighting the difference in the $\\uvbeta$ slope and to some extent in the emission line strengths.\n",
       "    **Bottom: ** Comparison of the SFH for the two models. The models are extremely different, as reproducing the weak lines and steep $\\uvbeta$ slope without $\\fesc$ is only possible with a recent quenching of star formation. This indicates a degeneracy between SFH and $\\fesc$, which is discussed more in Section \\ref{ch:discussion}.  (*fig:rubies_spec*)\n",
       "\n",
       "</div>\n",
       "<div id=\"div_fig3\">\n",
       "\n",
       "<img src=\"tmp_2507.01096/./Figures/Model_galaxy.png\" alt=\"Fig2\" width=\"100%\"/>\n",
       "\n",
       "**Figure 2. -** **Top**: Spectrum of a model galaxy with various $\\fesc$. The model galaxy is at  $z=6$, has a mass of $\\rm M_{*} = 10^9 M_{\\odot}$, metallicity $Z= 0.05 Z_{\\odot}$, ionization parameter $\\rm logU = -2$, constant star formation  switched on at 5 Myr and dust modelled with the Calzetti  ([Calzetti, Armus and Bohlin 2000]())  dust curve with $\\rm A_{\\rm v} = 0.2$.\n",
       "    As $\\fesc$ increases the $\\uvbeta$ slope becomes steeper due to reduced nebular continuum emission, and the emission lines become weaker. The continuum emission is also affected, as its nebular component scales with $\\fesc$. The full spectrum thus contains information on the escape fractions, which we exploit to constrain the $\\fesc$ of galaxies with NIRSpec spectra.\n",
       "    **Bottom left**: Zoom in on H$\\alpha$. **Bottom right**: Zoom in on H$\\beta$+[$\\ion${O}{iii}] (*fig:model_galaxy*)\n",
       "\n",
       "</div><div id=\"qrcode\"><img src=https://api.qrserver.com/v1/create-qr-code/?size=100x100&data=\"https://arxiv.org/abs/2507.01096\"></div>"
      ],
      "text/plain": [
       "<IPython.core.display.Markdown object>"
      ]
     },
     "metadata": {},
     "output_type": "display_data"
    },
    {
     "data": {
      "text/markdown": [
       "<div class=\"macros\" style=\"visibility:hidden;\">\n",
       "$\\newcommand{\\ensuremath}{}$\n",
       "$\\newcommand{\\xspace}{}$\n",
       "$\\newcommand{\\object}[1]{\\texttt{#1}}$\n",
       "$\\newcommand{\\farcs}{{.}''}$\n",
       "$\\newcommand{\\farcm}{{.}'}$\n",
       "$\\newcommand{\\arcsec}{''}$\n",
       "$\\newcommand{\\arcmin}{'}$\n",
       "$\\newcommand{\\ion}[2]{#1#2}$\n",
       "$\\newcommand{\\textsc}[1]{\\textrm{#1}}$\n",
       "$\\newcommand{\\hl}[1]{\\textrm{#1}}$\n",
       "$\\newcommand{\\footnote}[1]{}$\n",
       "$\\newcommand{\\toadd}[1]{{\\color{red}{{[TO ADD: \\bf #1]}}}}$\n",
       "$\\newcommand{\\hi}{H~{\\sc i}}$\n",
       "$\\newcommand{\\hii}{H~{\\sc ii}}$\n",
       "$\\newcommand{\\ha}{\\ifmmode{\\rm H}\\alpha \\else H\\alpha\\fi}$\n",
       "$\\newcommand{\\hb}{\\ifmmode{\\rm H}\\beta \\else H\\beta\\fi}$\n",
       "$\\newcommand{\\lya}{\\ifmmode{\\rm Ly}\\alpha \\else Ly\\alpha\\fi}$\n",
       "$\\newcommand{\\hei}{He~{\\sc i}}$\n",
       "$\\newcommand{\\Hei}{He~{\\sc i} \\lambda4471}$\n",
       "$\\newcommand{\\heii}{He~{\\sc ii}}$\n",
       "$\\newcommand{\\Heiiuv}{He~{\\sc ii} \\lambda1640}$\n",
       "$\\newcommand{\\Heiiopt}{He~{\\sc ii} \\lambda4686}$\n",
       "$\\newcommand{\\ebv}{\\ifmmode E_{\\rm B-V} \\else E_{\\rm B-V}\\fi}$\n",
       "$\\newcommand{\\av}{\\ifmmode A_{\\rm V} \\else A_{\\rm V}\\fi}$\n",
       "$\\newcommand{\\alphaCO}{\\ifmmode \\alpha_{\\rm CO} \\else \\alpha_{\\rm CO}\\fi}$\n",
       "$\\newcommand{\\oh}{\\ifmmode 12 + \\log({\\rm O/H}) \\else12 + \\log({\\rm O/H})\\fi}$\n",
       "$\\newcommand{\\nii}{[N~{\\sc ii}]}$\n",
       "$\\newcommand{\\niii}{[N~{\\sc iii}]}$\n",
       "$\\newcommand{\\oi}{[O~{\\sc i}]}$\n",
       "$\\newcommand{\\oii}{[O~{\\sc ii}]}$\n",
       "$\\newcommand{\\oiii}{[O~{\\sc iii}]}$\n",
       "$\\newcommand{\\oiv}{[O~{\\sc iv}]}$\n",
       "$\\newcommand{\\sii}{[S~{\\sc ii}]}$\n",
       "$\\newcommand{\\siii}{[S~{\\sc iii}]}$\n",
       "$\\newcommand{\\siv}{[S~{\\sc iv}]}$\n",
       "$\\newcommand{\\ci}{[C~{\\sc i}]}$\n",
       "$\\newcommand{\\cii}{[C~{\\sc ii}]}$\n",
       "$\\newcommand{\\civ}{[C~{\\sc iv}]}$\n",
       "$\\newcommand{\\neiii}{[Ne~{\\sc iii}]}$\n",
       "$\\newcommand{\\neii}{[Ne~{\\sc ii}]}$\n",
       "$\\newcommand{\\nev}{[Ne~{\\sc v}]}$\n",
       "$\\newcommand{\\nevi}{[Ne~{\\sc vi}]}$\n",
       "$\\newcommand{\\neiv}{[Ne~{\\sc iv}]}$\n",
       "$\\newcommand{\\feii}{[Fe~{\\sc ii}]}$\n",
       "$\\newcommand{\\feiii}{[Fe~{\\sc iii}]}$\n",
       "$\\newcommand{\\feiv}{[Fe~{\\sc iv}]}$\n",
       "$\\newcommand{\\fev}{[Fe~{\\sc v}]}$\n",
       "$\\newcommand{\\fevi}{[Fe~{\\sc vi}]}$\n",
       "$\\newcommand{\\fevii}{[Fe~{\\sc vii}]}$\n",
       "$\\newcommand{\\silii}{[Si~{\\sc ii}]}$\n",
       "$\\newcommand{\\arii}{[Ar~{\\sc ii}]}$\n",
       "$\\newcommand{\\ariii}{[Ar~{\\sc iii}]}$\n",
       "$\\newcommand{\\ariv}{[Ar~{\\sc iv}]}$\n",
       "$\\newcommand{\\mgiv}{[Mg~{\\sc iv}]}$\n",
       "$\\newcommand{\\Niiib}{N~{\\sc iii} \\lambda4512Å}$\n",
       "$\\newcommand{\\Nv}{N~{\\sc v} \\lambda4612Å}$\n",
       "$\\newcommand{\\Niii}{N~{\\sc iii} \\lambda4640Å}$\n",
       "$\\newcommand{\\Civb}{C~{\\sc iv} \\lambda4658Å}$\n",
       "$\\newcommand{\\Heii}{He~{\\sc ii} \\lambda4686}$\n",
       "$\\newcommand{\\Ciii}{C~{\\sc iii} \\lambda5696}$\n",
       "$\\newcommand{\\Civ}{C~{\\sc iv} \\lambda5808}$\n",
       "$\\newcommand{\\Ciiiuv}{C~{\\sc iii}] \\lambda1909}$\n",
       "$\\newcommand{\\Oiiiuv}{O~{\\sc iii}] \\lambda1666}$\n",
       "$\\newcommand{\\arraystretch}{1.3}$\n",
       "$\\newcommand{\\micron}{\\mum}$\n",
       "$\\newcommand{\\kms}{km s^{-1}}$\n",
       "$\\newcommand{\\kmsmpc}{km s^{-1} Mpc^{-1}}$\n",
       "$\\newcommand{\\cmc}{cm^{-3}}$\n",
       "$\\newcommand{\\erg}{erg s^{-1} cm^{-2} Å^{-1}}$\n",
       "$\\newcommand{\\ergs}{erg s^{-1}}$\n",
       "$\\newcommand{\\ergscm}{erg s^{-1} cm^{-2}}$\n",
       "$\\newcommand{\\msun}{\\ifmmode M_{\\odot} \\else M_{\\odot}\\fi}$\n",
       "$\\newcommand{\\msunyr}{\\ifmmode M_{\\odot} {\\rm yr}^{-1} \\else M_{\\odot} yr^{-1}\\fi}$\n",
       "$\\newcommand{\\zsun}{\\ifmmode Z_{\\odot} \\else Z_{\\odot}\\fi}$\n",
       "$\\newcommand{\\lsun}{\\ifmmode L_{\\odot} \\else L_{\\odot}\\fi}$\n",
       "$\\newcommand{\\mup}{\\ifmmode M_{\\rm up} \\else M_{\\rm up}\\fi}$\n",
       "$\\newcommand{\\mlow}{\\ifmmode M_{\\rm low} \\else M_{\\rm low}\\fi}$\n",
       "$\\newcommand{\\aap}{A\\&A}$\n",
       "$\\newcommand{\\aaps}{A\\&AS}$\n",
       "$\\newcommand{\\aas}{A\\&AS}$\n",
       "$\\newcommand{\\aj}{AJ}$\n",
       "$\\newcommand{\\apj}{ApJ}$\n",
       "$\\newcommand{\\apjl}{ApJL}$\n",
       "$\\newcommand{\\apjs}{ApJS}$\n",
       "$\\newcommand{\\mnras}{MNRAS}$\n",
       "$\\newcommand{\\pasp}{PASP}$\n",
       "$\\newcommand{\\rmxaa}{Revista Mexicana de Astronomía y Astrofísica}$\n",
       "$\\newcommand{\\Nii}{[N\\small II]\\normalsize \\lambda\\lambda6548,6584A}$\n",
       "$\\newcommand{\\Sii}{[S~{\\sc ii}] \\lambda\\lambda6716,6731Å}$\n",
       "$\\newcommand{\\Siii}{[S~{\\sc iii}] \\lambda\\lambda9068,9532Å}$\n",
       "$\\newcommand{\\Oi}{[O~{\\sc i}] \\lambda6300Å}$\n",
       "$\\newcommand{\\Oii}{[O~{\\sc ii}] \\lambda\\lambda3726, 3728Å}$\n",
       "$\\newcommand{\\Oiii}{[O~{\\sc iii}] \\lambda\\lambda4959,5007Å}$\n",
       "$\\newcommand{\\oiiil}{[O~{\\sc iii}]\\lambda 5007Å}$\n",
       "$\\newcommand{\\oiiill}{[O~{\\sc iii}]\\lambda 4959Å}$\n",
       "$\\newcommand{\\fesc}{\\ifmmode f_{\\rm esc} \\else f_{\\rm esc}\\fi}$\n",
       "$\\newcommand{\\feschii}{\\ifmmode f_{\\rm esc,HII} \\else f_{\\rm esc,HII}\\fi}$</div>\n",
       "\n",
       "\n",
       "\n",
       "<div id=\"title\">\n",
       "\n",
       "# Duration and properties of the embedded phase of star formation in 37 nearby galaxies from PHANGS-JWST\n",
       "\n",
       "</div>\n",
       "<div id=\"comments\">\n",
       "\n",
       "[![arXiv](https://img.shields.io/badge/arXiv-2507.01508-b31b1b.svg)](https://arxiv.org/abs/2507.01508)<mark>Appeared on: 2025-07-03</mark> -  _20 pages, 14 figures, submitted to A&A, comments welcome_\n",
       "\n",
       "</div>\n",
       "<div id=\"authors\">\n",
       "\n",
       "L. Ramambason, et al. -- incl., <mark>K. Kreckel</mark>, <mark>J. Neumann</mark>, <mark>E. Schinnerer</mark>\n",
       "\n",
       "</div>\n",
       "<div id=\"abstract\">\n",
       "\n",
       "**Abstract:** Light reprocessed by dust grains emitting in the infrared allows the study of the physics at play in dusty, embedded regions, where ultraviolet and optical wavelengths are attenuated. Infrared telescopes such as JWST have made it possible to study the earliest feedback phases, when stars are shielded by cocoons of gas and dust. This phase is crucial for unravelling the effects of feedback from young stars, leading to their emergence and the dispersal of their host molecular clouds. Here we show that the transition from the embedded to the exposed phase of star formation is short ( $< 4$ Myr) and sometimes almost absent ( $< 1$ Myr), across a sample of 37 nearby star-forming galaxies, covering a wide range of morphologies from massive barred spirals to irregular dwarfs. The short duration of the dust-clearing timescales suggests a predominant role of pre-supernova feedback mechanisms in revealing newborn stars, confirming previous results on smaller samples and allowing, for the first time, a statistical analysis of their dependencies. We find that the timescales associated with mid-infrared emission at 21 $\\mu$ m, tracing a dust-embedded feedback phase, are controlled by a complex interplay between giant molecular cloud properties (masses and velocity dispersions) and galaxy morphology. We report relatively longer durations of the embedded phase of star formation in barred spiral galaxies, while this phase is significantly reduced in low-mass irregular dwarf galaxies. We discuss tentative trends with gas-phase metallicity, which may favour faster cloud dispersal at low metallicities.\n",
       "\n",
       "</div>\n",
       "\n",
       "<div id=\"div_fig1\">\n",
       "\n",
       "<img src=\"tmp_2507.01508/./Fig7.png\" alt=\"Fig13\" width=\"100%\"/>\n",
       "\n",
       "**Figure 13. -** Spearman's rank correlation coefficients and associated p-values measured between galaxy properties (columns) and our measurements (rows). Statistically significant correlations according to the Holm-Bonferroni method (described in Section \\ref{subsec_significance}) are highlighted as black squares, and marginally significant correlations ($\\log p$-values < -2) are shown as blue squares. Our measurements are the total timescale of 21 $\\mu$m emission ($t_{\\rm 21 \\mu m}$), the ratio between timescales of SFR and gas($t_{\\rm 21 \\mu m}$/$t_{\\rm CO}$), and the diffuse emission fractions of 21 $\\mu$m (f$_{\\rm diffuse}^{21 \\mu m}$). We correlate these measurements with various parameters grouped in six categories, described in \\ref{subsec_selected_params}, along with the corresponding references. (*correlation*)\n",
       "\n",
       "</div>\n",
       "<div id=\"div_fig2\">\n",
       "\n",
       "<img src=\"tmp_2507.01508/./Fig8_1.png\" alt=\"Fig14.1\" width=\"50%\"/><img src=\"tmp_2507.01508/./Fig8_2.png\" alt=\"Fig14.2\" width=\"50%\"/>\n",
       "\n",
       "**Figure 14. -** **Left**: Total duration of the 21 $\\mu$m vs. CO-luminosity-weighted average velocity dispersion of GMCs. The colorbar shows the CO luminosity-weighted average mass of GMCs. Galaxies with high surface density contrasts are identified with squares. We show in gray a linear regression fitted to the data and the gray-shaded area represents the 95\\% confidence interval on the regression, obtained with bootstrapping data. **Right**: Total duration of the 21 $\\mu$m vs. the Hubble morphological type. The colorbar shows the metallicity measurements for the galaxies observed with MUSE. (*plot_corr_t21*)\n",
       "\n",
       "</div>\n",
       "<div id=\"div_fig3\">\n",
       "\n",
       "<img src=\"tmp_2507.01508/./Fig3.png\" alt=\"Fig12\" width=\"100%\"/>\n",
       "\n",
       "**Figure 12. -** Measured deviation of the gas-to-stellar flux ratio with respect to the galactic average, as a function of aperture sizes for each galaxy, obtained by contrasting CO emission as a gas tracer with respectively H$\\alpha$(black triangles) and 21 $\\mu$m (blue circles) as a SFR tracer. The positive deviations correspond to measurements focusing on gas peaks (traced by CO), while the negative deviations are obtained focusing on stellar peaks (traced respectively by H$\\alpha$ or 21 $\\mu$m). For each data point, we also show the effective 1$\\sigma$ error, after the covariance between data points is taken into account. The horizontal plain line corresponding to a deviation of zero in log represents the galactic average. The dotted gray lines connecting the measurements correspond to a polynomial fit of the tuning-fork branches, following $\\ci$te{Kruijssen_tf_2018}. The arrows indicate the typical separation length, $\\lambda$, at which the two tracers decorrelate. The two last panels show the histograms of $\\lambda$ and inferred feedback timescales ($t_{\\rm fb}$, defined in Section \\ref{subsec_measuring_timescales}), derived for the whole sample using either H$\\alpha$ or 21 $\\mu$m as a proxy for SFR, as well as the median and 1$\\sigma$ standard deviations associated with these distributions. (*tuning_fork_ha_21*)\n",
       "\n",
       "</div><div id=\"qrcode\"><img src=https://api.qrserver.com/v1/create-qr-code/?size=100x100&data=\"https://arxiv.org/abs/2507.01508\"></div>"
      ],
      "text/plain": [
       "<IPython.core.display.Markdown object>"
      ]
     },
     "metadata": {},
     "output_type": "display_data"
    }
   ],
   "source": [
    "[display(Markdown(k[1])) for k in documents];"
   ]
  },
  {
   "cell_type": "markdown",
   "id": "873873a4",
   "metadata": {
    "papermill": {
     "duration": 0.005267,
     "end_time": "2025-07-03T04:26:36.166574",
     "exception": false,
     "start_time": "2025-07-03T04:26:36.161307",
     "status": "completed"
    },
    "tags": []
   },
   "source": [
    "# Create HTML index"
   ]
  },
  {
   "cell_type": "code",
   "execution_count": 10,
   "id": "cf665672",
   "metadata": {
    "execution": {
     "iopub.execute_input": "2025-07-03T04:26:36.186353Z",
     "iopub.status.busy": "2025-07-03T04:26:36.185765Z",
     "iopub.status.idle": "2025-07-03T04:26:36.197856Z",
     "shell.execute_reply": "2025-07-03T04:26:36.197172Z"
    },
    "papermill": {
     "duration": 0.024239,
     "end_time": "2025-07-03T04:26:36.198929",
     "exception": false,
     "start_time": "2025-07-03T04:26:36.174690",
     "status": "completed"
    },
    "tags": []
   },
   "outputs": [
    {
     "name": "stdout",
     "output_type": "stream",
     "text": [
      "554  publications files modified in the last 7 days.\n"
     ]
    }
   ],
   "source": [
    "from datetime import datetime, timedelta, timezone\n",
    "from glob import glob\n",
    "import os\n",
    "\n",
    "files = glob('_build/html/*.md')\n",
    "days = 7\n",
    "now = datetime.today()\n",
    "res = []\n",
    "for fk in files:\n",
    "    stat_result = os.stat(fk).st_ctime\n",
    "    modified = datetime.fromtimestamp(stat_result, tz=timezone.utc).replace(tzinfo=None)\n",
    "    delta = now.today() - modified\n",
    "    if delta <= timedelta(days=days):\n",
    "        res.append((delta.seconds, fk))\n",
    "res = [k[1] for k in reversed(sorted(res, key=lambda x:x[1]))]\n",
    "npub = len(res)\n",
    "print(len(res), f\" publications files modified in the last {days:d} days.\")\n",
    "# [ print('\\t', k) for k in res ];"
   ]
  },
  {
   "cell_type": "code",
   "execution_count": 11,
   "id": "015de740",
   "metadata": {
    "execution": {
     "iopub.execute_input": "2025-07-03T04:26:36.210766Z",
     "iopub.status.busy": "2025-07-03T04:26:36.210277Z",
     "iopub.status.idle": "2025-07-03T04:26:36.238402Z",
     "shell.execute_reply": "2025-07-03T04:26:36.237665Z"
    },
    "papermill": {
     "duration": 0.035166,
     "end_time": "2025-07-03T04:26:36.239488",
     "exception": false,
     "start_time": "2025-07-03T04:26:36.204322",
     "status": "completed"
    },
    "tags": []
   },
   "outputs": [
    {
     "name": "stdout",
     "output_type": "stream",
     "text": [
      "14  publications in the last 7 days.\n"
     ]
    }
   ],
   "source": [
    "import datetime\n",
    "from glob import glob\n",
    "\n",
    "def get_last_n_days(lst, days=1):\n",
    "    \"\"\" Get the documents from the last n days \"\"\"\n",
    "    sorted_lst = sorted(lst, key=lambda x: x[1], reverse=True)\n",
    "    for fname, date in sorted_lst:\n",
    "        if date >= str(datetime.date.today() - datetime.timedelta(days=days)):\n",
    "            yield fname\n",
    "\n",
    "def extract_appearance_dates(lst_file):\n",
    "    dates = []\n",
    "\n",
    "    def get_date(line):\n",
    "        return line\\\n",
    "            .split('Appeared on:')[-1]\\\n",
    "            .split('</mark>')[0].strip()\n",
    "\n",
    "    for fname in lst:\n",
    "        with open(fname, 'r') as f:\n",
    "            found_date = False\n",
    "            for line in f:\n",
    "                if not found_date:\n",
    "                    if \"Appeared on\" in line:\n",
    "                        found_date = True\n",
    "                        dates.append((fname, get_date(line)))\n",
    "                else:\n",
    "                    break\n",
    "    return dates\n",
    "\n",
    "from glob import glob\n",
    "lst = glob('_build/html/*md')\n",
    "days = 7\n",
    "dates = extract_appearance_dates(lst)\n",
    "res = list(get_last_n_days(dates, days))\n",
    "npub = len(res)\n",
    "print(len(res), f\" publications in the last {days:d} days.\")"
   ]
  },
  {
   "cell_type": "code",
   "execution_count": 12,
   "id": "52ca0208",
   "metadata": {
    "execution": {
     "iopub.execute_input": "2025-07-03T04:26:36.251538Z",
     "iopub.status.busy": "2025-07-03T04:26:36.251168Z",
     "iopub.status.idle": "2025-07-03T04:26:36.256419Z",
     "shell.execute_reply": "2025-07-03T04:26:36.255725Z"
    },
    "papermill": {
     "duration": 0.012303,
     "end_time": "2025-07-03T04:26:36.257376",
     "exception": false,
     "start_time": "2025-07-03T04:26:36.245073",
     "status": "completed"
    },
    "scrolled": false,
    "tags": []
   },
   "outputs": [],
   "source": [
    "def create_carousel(npub=4):\n",
    "    \"\"\" Generate the HTML code for a carousel with `npub` slides \"\"\"\n",
    "    carousel = [\"\"\"  <div class=\"carousel\" \"\"\",\n",
    "                \"\"\"       data-flickity='{ \"autoPlay\": 10000, \"adaptiveHeight\": true, \"resize\": true, \"wrapAround\": true, \"pauseAutoPlayOnHover\": true, \"groupCells\": 1 }' id=\"asyncTypeset\">\"\"\"\n",
    "                ]\n",
    "    \n",
    "    item_str = \"\"\"    <div class=\"carousel-cell\"> <div id=\"slide{k}\" class=\"md_view\">Content {k}</div> </div>\"\"\"\n",
    "    for k in range(1, npub + 1):\n",
    "        carousel.append(item_str.format(k=k))\n",
    "    carousel.append(\"  </div>\")\n",
    "    return '\\n'.join(carousel)\n",
    "\n",
    "def create_grid(npub=4):\n",
    "    \"\"\" Generate the HTML code for a flat grid with `npub` slides \"\"\"\n",
    "    grid = [\"\"\"  <div class=\"grid\"> \"\"\",\n",
    "                ]\n",
    "    \n",
    "    item_str = \"\"\"    <div class=\"grid-item\"> <div id=\"slide{k}\" class=\"md_view\">Content {k}</div> </div>\"\"\"\n",
    "    for k in range(1, npub + 1):\n",
    "        grid.append(item_str.format(k=k))\n",
    "    grid.append(\"  </div>\")\n",
    "    return '\\n'.join(grid)"
   ]
  },
  {
   "cell_type": "code",
   "execution_count": 13,
   "id": "a6eac5b6",
   "metadata": {
    "execution": {
     "iopub.execute_input": "2025-07-03T04:26:36.269239Z",
     "iopub.status.busy": "2025-07-03T04:26:36.268817Z",
     "iopub.status.idle": "2025-07-03T04:26:36.274123Z",
     "shell.execute_reply": "2025-07-03T04:26:36.273458Z"
    },
    "papermill": {
     "duration": 0.012301,
     "end_time": "2025-07-03T04:26:36.275132",
     "exception": false,
     "start_time": "2025-07-03T04:26:36.262831",
     "status": "completed"
    },
    "scrolled": false,
    "tags": []
   },
   "outputs": [],
   "source": [
    "carousel = create_carousel(npub)\n",
    "docs = ', '.join(['\"{0:s}\"'.format(k.split('/')[-1]) for k in res])\n",
    "slides = ', '.join([f'\"slide{k}\"' for k in range(1, npub + 1)])\n",
    "\n",
    "with open(\"daily_template.html\", \"r\") as tpl:\n",
    "    page = tpl.read()\n",
    "    page = page.replace(\"{%-- carousel:s --%}\", carousel)\\\n",
    "               .replace(\"{%-- suptitle:s --%}\",  \"7-day archives\" )\\\n",
    "               .replace(\"{%-- docs:s --%}\", docs)\\\n",
    "               .replace(\"{%-- slides:s --%}\", slides)\n",
    "    \n",
    "with open(\"_build/html/index_7days.html\", 'w') as fout:\n",
    "    fout.write(page)"
   ]
  },
  {
   "cell_type": "code",
   "execution_count": 14,
   "id": "adc1a1ec",
   "metadata": {
    "execution": {
     "iopub.execute_input": "2025-07-03T04:26:36.287274Z",
     "iopub.status.busy": "2025-07-03T04:26:36.286672Z",
     "iopub.status.idle": "2025-07-03T04:26:36.294276Z",
     "shell.execute_reply": "2025-07-03T04:26:36.293694Z"
    },
    "papermill": {
     "duration": 0.014699,
     "end_time": "2025-07-03T04:26:36.295271",
     "exception": false,
     "start_time": "2025-07-03T04:26:36.280572",
     "status": "completed"
    },
    "tags": []
   },
   "outputs": [
    {
     "name": "stdout",
     "output_type": "stream",
     "text": [
      "7  publications in the last day.\n"
     ]
    }
   ],
   "source": [
    "# redo for today\n",
    "days = 1\n",
    "res = list(get_last_n_days(dates, days))\n",
    "npub = len(res)\n",
    "print(len(res), f\" publications in the last day.\")\n",
    "\n",
    "carousel = create_carousel(npub)\n",
    "docs = ', '.join(['\"{0:s}\"'.format(k.split('/')[-1]) for k in res])\n",
    "slides = ', '.join([f'\"slide{k}\"' for k in range(1, npub + 1)])\n",
    "\n",
    "with open(\"daily_template.html\", \"r\") as tpl:\n",
    "    page = tpl.read()\n",
    "    page = page.replace(\"{%-- carousel:s --%}\", carousel)\\\n",
    "               .replace(\"{%-- suptitle:s --%}\",  \"Daily\" )\\\n",
    "               .replace(\"{%-- docs:s --%}\", docs)\\\n",
    "               .replace(\"{%-- slides:s --%}\", slides)\n",
    "    \n",
    "# print(carousel, docs, slides)\n",
    "# print(page)\n",
    "with open(\"_build/html/index_daily.html\", 'w') as fout:\n",
    "    fout.write(page)"
   ]
  },
  {
   "cell_type": "code",
   "execution_count": 15,
   "id": "00eece82",
   "metadata": {
    "execution": {
     "iopub.execute_input": "2025-07-03T04:26:36.307561Z",
     "iopub.status.busy": "2025-07-03T04:26:36.307040Z",
     "iopub.status.idle": "2025-07-03T04:26:36.313752Z",
     "shell.execute_reply": "2025-07-03T04:26:36.313219Z"
    },
    "papermill": {
     "duration": 0.014094,
     "end_time": "2025-07-03T04:26:36.314816",
     "exception": false,
     "start_time": "2025-07-03T04:26:36.300722",
     "status": "completed"
    },
    "scrolled": false,
    "tags": []
   },
   "outputs": [
    {
     "name": "stdout",
     "output_type": "stream",
     "text": [
      "6  6 publications selected.\n"
     ]
    }
   ],
   "source": [
    "# Create the flat grid of the last N papers (fixed number regardless of dates)\n",
    "from itertools import islice \n",
    "\n",
    "npub = 6\n",
    "res = [k[0] for k in (islice(reversed(sorted(dates, key=lambda x: x[1])), 6))]\n",
    "print(len(res), f\" {npub} publications selected.\")\n",
    "\n",
    "grid = create_grid(npub)\n",
    "docs = ', '.join(['\"{0:s}\"'.format(k.split('/')[-1]) for k in res])\n",
    "slides = ', '.join([f'\"slide{k}\"' for k in range(1, npub + 1)])\n",
    "\n",
    "with open(\"grid_template.html\", \"r\") as tpl:\n",
    "    page = tpl.read()\n",
    "    page = page.replace(\"{%-- grid-content:s --%}\", grid)\\\n",
    "               .replace(\"{%-- suptitle:s --%}\",  f\"Last {npub:,d} papers\" )\\\n",
    "               .replace(\"{%-- docs:s --%}\", docs)\\\n",
    "               .replace(\"{%-- slides:s --%}\", slides)\n",
    "    \n",
    "# print(grid, docs, slides)\n",
    "# print(page)\n",
    "with open(\"_build/html/index_npub_grid.html\", 'w') as fout:\n",
    "    fout.write(page)"
   ]
  }
 ],
 "metadata": {
  "kernelspec": {
   "display_name": "Python 3 (ipykernel)",
   "language": "python",
   "name": "python3"
  },
  "language_info": {
   "codemirror_mode": {
    "name": "ipython",
    "version": 3
   },
   "file_extension": ".py",
   "mimetype": "text/x-python",
   "name": "python",
   "nbconvert_exporter": "python",
   "pygments_lexer": "ipython3",
   "version": "3.9.23"
  },
  "papermill": {
   "default_parameters": {},
   "duration": 114.909796,
   "end_time": "2025-07-03T04:26:36.637679",
   "environment_variables": {},
   "exception": null,
   "input_path": "MPIA daily digest.ipynb",
   "output_path": "log.ipynb",
   "parameters": {},
   "start_time": "2025-07-03T04:24:41.727883",
   "version": "2.6.0"
  },
  "vscode": {
   "interpreter": {
    "hash": "aee8b7b246df8f9039afb4144a1f6fd8d2ca17a180786b69acc140d282b71a49"
   }
  },
  "widgets": {
   "application/vnd.jupyter.widget-state+json": {
    "state": {
     "00a90771a97b4d1b95c17fbb363517a0": {
      "model_module": "@jupyter-widgets/controls",
      "model_module_version": "2.0.0",
      "model_name": "HTMLModel",
      "state": {
       "_dom_classes": [],
       "_model_module": "@jupyter-widgets/controls",
       "_model_module_version": "2.0.0",
       "_model_name": "HTMLModel",
       "_view_count": null,
       "_view_module": "@jupyter-widgets/controls",
       "_view_module_version": "2.0.0",
       "_view_name": "HTMLView",
       "description": "",
       "description_allow_html": false,
       "layout": "IPY_MODEL_77be895a339348c096131d5835d5de02",
       "placeholder": "​",
       "style": "IPY_MODEL_60c5cb48c25e4fccadbe5639d73c51fb",
       "tabbable": null,
       "tooltip": null,
       "value": " 5/5 [01:32&lt;00:00, 14.55s/it]"
      }
     },
     "46a2193483904b8792f60f303c2b3c0e": {
      "model_module": "@jupyter-widgets/controls",
      "model_module_version": "2.0.0",
      "model_name": "ProgressStyleModel",
      "state": {
       "_model_module": "@jupyter-widgets/controls",
       "_model_module_version": "2.0.0",
       "_model_name": "ProgressStyleModel",
       "_view_count": null,
       "_view_module": "@jupyter-widgets/base",
       "_view_module_version": "2.0.0",
       "_view_name": "StyleView",
       "bar_color": null,
       "description_width": ""
      }
     },
     "4a95e383154948dcadf41ae8605f5faa": {
      "model_module": "@jupyter-widgets/base",
      "model_module_version": "2.0.0",
      "model_name": "LayoutModel",
      "state": {
       "_model_module": "@jupyter-widgets/base",
       "_model_module_version": "2.0.0",
       "_model_name": "LayoutModel",
       "_view_count": null,
       "_view_module": "@jupyter-widgets/base",
       "_view_module_version": "2.0.0",
       "_view_name": "LayoutView",
       "align_content": null,
       "align_items": null,
       "align_self": null,
       "border_bottom": null,
       "border_left": null,
       "border_right": null,
       "border_top": null,
       "bottom": null,
       "display": null,
       "flex": null,
       "flex_flow": null,
       "grid_area": null,
       "grid_auto_columns": null,
       "grid_auto_flow": null,
       "grid_auto_rows": null,
       "grid_column": null,
       "grid_gap": null,
       "grid_row": null,
       "grid_template_areas": null,
       "grid_template_columns": null,
       "grid_template_rows": null,
       "height": null,
       "justify_content": null,
       "justify_items": null,
       "left": null,
       "margin": null,
       "max_height": null,
       "max_width": null,
       "min_height": null,
       "min_width": null,
       "object_fit": null,
       "object_position": null,
       "order": null,
       "overflow": null,
       "padding": null,
       "right": null,
       "top": null,
       "visibility": null,
       "width": null
      }
     },
     "525c87f51028491494b54d6700effb7d": {
      "model_module": "@jupyter-widgets/controls",
      "model_module_version": "2.0.0",
      "model_name": "HTMLModel",
      "state": {
       "_dom_classes": [],
       "_model_module": "@jupyter-widgets/controls",
       "_model_module_version": "2.0.0",
       "_model_name": "HTMLModel",
       "_view_count": null,
       "_view_module": "@jupyter-widgets/controls",
       "_view_module_version": "2.0.0",
       "_view_name": "HTMLView",
       "description": "",
       "description_allow_html": false,
       "layout": "IPY_MODEL_4a95e383154948dcadf41ae8605f5faa",
       "placeholder": "​",
       "style": "IPY_MODEL_abb698154c84424d881c0085c0330de9",
       "tabbable": null,
       "tooltip": null,
       "value": "100%"
      }
     },
     "60c5cb48c25e4fccadbe5639d73c51fb": {
      "model_module": "@jupyter-widgets/controls",
      "model_module_version": "2.0.0",
      "model_name": "HTMLStyleModel",
      "state": {
       "_model_module": "@jupyter-widgets/controls",
       "_model_module_version": "2.0.0",
       "_model_name": "HTMLStyleModel",
       "_view_count": null,
       "_view_module": "@jupyter-widgets/base",
       "_view_module_version": "2.0.0",
       "_view_name": "StyleView",
       "background": null,
       "description_width": "",
       "font_size": null,
       "text_color": null
      }
     },
     "66a996e9b97649cca7afefa8312d592d": {
      "model_module": "@jupyter-widgets/controls",
      "model_module_version": "2.0.0",
      "model_name": "HBoxModel",
      "state": {
       "_dom_classes": [],
       "_model_module": "@jupyter-widgets/controls",
       "_model_module_version": "2.0.0",
       "_model_name": "HBoxModel",
       "_view_count": null,
       "_view_module": "@jupyter-widgets/controls",
       "_view_module_version": "2.0.0",
       "_view_name": "HBoxView",
       "box_style": "",
       "children": [
        "IPY_MODEL_525c87f51028491494b54d6700effb7d",
        "IPY_MODEL_e2794b1d1e5347ec93ba35f6db269379",
        "IPY_MODEL_00a90771a97b4d1b95c17fbb363517a0"
       ],
       "layout": "IPY_MODEL_f27fd3568e654d7ab1503079cf7f14b6",
       "tabbable": null,
       "tooltip": null
      }
     },
     "6fd72c3ccf1941f381bd3c9bec08223e": {
      "model_module": "@jupyter-widgets/base",
      "model_module_version": "2.0.0",
      "model_name": "LayoutModel",
      "state": {
       "_model_module": "@jupyter-widgets/base",
       "_model_module_version": "2.0.0",
       "_model_name": "LayoutModel",
       "_view_count": null,
       "_view_module": "@jupyter-widgets/base",
       "_view_module_version": "2.0.0",
       "_view_name": "LayoutView",
       "align_content": null,
       "align_items": null,
       "align_self": null,
       "border_bottom": null,
       "border_left": null,
       "border_right": null,
       "border_top": null,
       "bottom": null,
       "display": null,
       "flex": null,
       "flex_flow": null,
       "grid_area": null,
       "grid_auto_columns": null,
       "grid_auto_flow": null,
       "grid_auto_rows": null,
       "grid_column": null,
       "grid_gap": null,
       "grid_row": null,
       "grid_template_areas": null,
       "grid_template_columns": null,
       "grid_template_rows": null,
       "height": null,
       "justify_content": null,
       "justify_items": null,
       "left": null,
       "margin": null,
       "max_height": null,
       "max_width": null,
       "min_height": null,
       "min_width": null,
       "object_fit": null,
       "object_position": null,
       "order": null,
       "overflow": null,
       "padding": null,
       "right": null,
       "top": null,
       "visibility": null,
       "width": null
      }
     },
     "77be895a339348c096131d5835d5de02": {
      "model_module": "@jupyter-widgets/base",
      "model_module_version": "2.0.0",
      "model_name": "LayoutModel",
      "state": {
       "_model_module": "@jupyter-widgets/base",
       "_model_module_version": "2.0.0",
       "_model_name": "LayoutModel",
       "_view_count": null,
       "_view_module": "@jupyter-widgets/base",
       "_view_module_version": "2.0.0",
       "_view_name": "LayoutView",
       "align_content": null,
       "align_items": null,
       "align_self": null,
       "border_bottom": null,
       "border_left": null,
       "border_right": null,
       "border_top": null,
       "bottom": null,
       "display": null,
       "flex": null,
       "flex_flow": null,
       "grid_area": null,
       "grid_auto_columns": null,
       "grid_auto_flow": null,
       "grid_auto_rows": null,
       "grid_column": null,
       "grid_gap": null,
       "grid_row": null,
       "grid_template_areas": null,
       "grid_template_columns": null,
       "grid_template_rows": null,
       "height": null,
       "justify_content": null,
       "justify_items": null,
       "left": null,
       "margin": null,
       "max_height": null,
       "max_width": null,
       "min_height": null,
       "min_width": null,
       "object_fit": null,
       "object_position": null,
       "order": null,
       "overflow": null,
       "padding": null,
       "right": null,
       "top": null,
       "visibility": null,
       "width": null
      }
     },
     "abb698154c84424d881c0085c0330de9": {
      "model_module": "@jupyter-widgets/controls",
      "model_module_version": "2.0.0",
      "model_name": "HTMLStyleModel",
      "state": {
       "_model_module": "@jupyter-widgets/controls",
       "_model_module_version": "2.0.0",
       "_model_name": "HTMLStyleModel",
       "_view_count": null,
       "_view_module": "@jupyter-widgets/base",
       "_view_module_version": "2.0.0",
       "_view_name": "StyleView",
       "background": null,
       "description_width": "",
       "font_size": null,
       "text_color": null
      }
     },
     "e2794b1d1e5347ec93ba35f6db269379": {
      "model_module": "@jupyter-widgets/controls",
      "model_module_version": "2.0.0",
      "model_name": "FloatProgressModel",
      "state": {
       "_dom_classes": [],
       "_model_module": "@jupyter-widgets/controls",
       "_model_module_version": "2.0.0",
       "_model_name": "FloatProgressModel",
       "_view_count": null,
       "_view_module": "@jupyter-widgets/controls",
       "_view_module_version": "2.0.0",
       "_view_name": "ProgressView",
       "bar_style": "success",
       "description": "",
       "description_allow_html": false,
       "layout": "IPY_MODEL_6fd72c3ccf1941f381bd3c9bec08223e",
       "max": 5.0,
       "min": 0.0,
       "orientation": "horizontal",
       "style": "IPY_MODEL_46a2193483904b8792f60f303c2b3c0e",
       "tabbable": null,
       "tooltip": null,
       "value": 5.0
      }
     },
     "f27fd3568e654d7ab1503079cf7f14b6": {
      "model_module": "@jupyter-widgets/base",
      "model_module_version": "2.0.0",
      "model_name": "LayoutModel",
      "state": {
       "_model_module": "@jupyter-widgets/base",
       "_model_module_version": "2.0.0",
       "_model_name": "LayoutModel",
       "_view_count": null,
       "_view_module": "@jupyter-widgets/base",
       "_view_module_version": "2.0.0",
       "_view_name": "LayoutView",
       "align_content": null,
       "align_items": null,
       "align_self": null,
       "border_bottom": null,
       "border_left": null,
       "border_right": null,
       "border_top": null,
       "bottom": null,
       "display": null,
       "flex": null,
       "flex_flow": null,
       "grid_area": null,
       "grid_auto_columns": null,
       "grid_auto_flow": null,
       "grid_auto_rows": null,
       "grid_column": null,
       "grid_gap": null,
       "grid_row": null,
       "grid_template_areas": null,
       "grid_template_columns": null,
       "grid_template_rows": null,
       "height": null,
       "justify_content": null,
       "justify_items": null,
       "left": null,
       "margin": null,
       "max_height": null,
       "max_width": null,
       "min_height": null,
       "min_width": null,
       "object_fit": null,
       "object_position": null,
       "order": null,
       "overflow": null,
       "padding": null,
       "right": null,
       "top": null,
       "visibility": null,
       "width": null
      }
     }
    },
    "version_major": 2,
    "version_minor": 0
   }
  }
 },
 "nbformat": 4,
 "nbformat_minor": 5
}