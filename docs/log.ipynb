{
 "cells": [
  {
   "cell_type": "markdown",
   "id": "92bcb855",
   "metadata": {
    "papermill": {
     "duration": 0.005406,
     "end_time": "2022-09-27T05:09:59.782981",
     "exception": false,
     "start_time": "2022-09-27T05:09:59.777575",
     "status": "completed"
    },
    "tags": []
   },
   "source": [
    "# MPIA Arxiv on Deck 2\n",
    "\n",
    "Contains the steps to produce the paper extractions."
   ]
  },
  {
   "cell_type": "code",
   "execution_count": 1,
   "id": "3a0d6e11",
   "metadata": {
    "execution": {
     "iopub.execute_input": "2022-09-27T05:09:59.792866Z",
     "iopub.status.busy": "2022-09-27T05:09:59.792229Z",
     "iopub.status.idle": "2022-09-27T05:09:59.964007Z",
     "shell.execute_reply": "2022-09-27T05:09:59.963289Z"
    },
    "papermill": {
     "duration": 0.179127,
     "end_time": "2022-09-27T05:09:59.966261",
     "exception": false,
     "start_time": "2022-09-27T05:09:59.787134",
     "status": "completed"
    },
    "tags": []
   },
   "outputs": [],
   "source": [
    "# Imports\n",
    "import os\n",
    "from IPython.display import Markdown, display\n",
    "from tqdm.notebook import tqdm\n",
    "import warnings\n",
    "from PIL import Image \n",
    "\n",
    "# requires arxiv_on_deck_2\n",
    "\n",
    "from arxiv_on_deck_2.arxiv2 import (get_new_papers, \n",
    "                                    get_paper_from_identifier,\n",
    "                                    retrieve_document_source, \n",
    "                                    get_markdown_badge)\n",
    "from arxiv_on_deck_2 import (latex, \n",
    "                             mpia,\n",
    "                             highlight_authors_in_list)\n",
    "\n",
    "# Sometimes images are really big\n",
    "Image.MAX_IMAGE_PIXELS = 1000000000 "
   ]
  },
  {
   "cell_type": "code",
   "execution_count": 2,
   "id": "22aa9d44",
   "metadata": {
    "execution": {
     "iopub.execute_input": "2022-09-27T05:09:59.976872Z",
     "iopub.status.busy": "2022-09-27T05:09:59.976213Z",
     "iopub.status.idle": "2022-09-27T05:09:59.981186Z",
     "shell.execute_reply": "2022-09-27T05:09:59.980542Z"
    },
    "papermill": {
     "duration": 0.011468,
     "end_time": "2022-09-27T05:09:59.982737",
     "exception": false,
     "start_time": "2022-09-27T05:09:59.971269",
     "status": "completed"
    },
    "tags": []
   },
   "outputs": [],
   "source": [
    "# Some useful definitions.\n",
    "\n",
    "class AffiliationWarning(UserWarning):\n",
    "    pass\n",
    "\n",
    "class AffiliationError(RuntimeError):\n",
    "    pass\n",
    "\n",
    "def validation(source: str):\n",
    "    \"\"\"Raises error paper during parsing of source file\n",
    "    \n",
    "    Allows checks before parsing TeX code.\n",
    "    \n",
    "    Raises AffiliationWarning\n",
    "    \"\"\"\n",
    "    check = mpia.affiliation_verifications(source, verbose=True)\n",
    "    if check is not True:\n",
    "        raise AffiliationError(\"mpia.affiliation_verifications: \" + check)\n",
    "\n",
    "        \n",
    "warnings.simplefilter('always', AffiliationWarning)"
   ]
  },
  {
   "cell_type": "code",
   "execution_count": 3,
   "id": "14622700",
   "metadata": {
    "execution": {
     "iopub.execute_input": "2022-09-27T05:09:59.993519Z",
     "iopub.status.busy": "2022-09-27T05:09:59.992958Z",
     "iopub.status.idle": "2022-09-27T05:09:59.996913Z",
     "shell.execute_reply": "2022-09-27T05:09:59.996257Z"
    },
    "papermill": {
     "duration": 0.01224,
     "end_time": "2022-09-27T05:09:59.998796",
     "exception": false,
     "start_time": "2022-09-27T05:09:59.986556",
     "status": "completed"
    },
    "tags": []
   },
   "outputs": [],
   "source": [
    "# additional CSS to consider. \n",
    "# TODO: Current into each exported file. \n",
    "#       This should be set once into the webpages directly.\n",
    "#       With only the class/id definitions in the .md files.\n",
    "\n",
    "debug_html = \"\"\"\n",
    "<style>\n",
    "#wrap{ overflow:auto; }\n",
    "#fig1{ background:yellow; width:100%; float:left; padding:5px;  }\n",
    "#fig2{ background:red; width:50%; float:left; clear:left; padding:5px;  }\n",
    "#fig3{ background:green; width:50%; float:left; padding:5px;   }\n",
    ".macros{ background:yellow; visibility:visible;}\n",
    "h1 {margin: 0 0 0 0;}\n",
    "mark {background-color:#fff3b6;}\n",
    "img {object-fit:contain; max-height:250px; display:inline-block; text-align: center;}\n",
    "</style>\n",
    "\"\"\" \n",
    "html = \"\"\"\n",
    "<style>\n",
    "#wrap{ overflow:auto; }\n",
    "#fig1{ width:100%; float:left; padding: 5px;  }\n",
    "#fig2{ width:50%; float:left; clear:left; padding: 5px;  }\n",
    "#fig3{ width:50%; float:left; padding: 5px;  }\n",
    ".macros{ visibility:hidden; height:0px; }\n",
    "h1 {margin: 0em 0 0 0;}\n",
    "mark {background-color:#fff3b6;}\n",
    "img {object-fit:contain; max-height:250px; display:inline-block; text-align: center;}\n",
    "</style>\n",
    "\"\"\""
   ]
  },
  {
   "cell_type": "markdown",
   "id": "14bd6310",
   "metadata": {
    "papermill": {
     "duration": 0.003905,
     "end_time": "2022-09-27T05:10:00.006478",
     "exception": false,
     "start_time": "2022-09-27T05:10:00.002573",
     "status": "completed"
    },
    "tags": []
   },
   "source": [
    "## get list of arxiv paper candidates\n",
    "\n",
    "We use the MPIA mitarbeiter list webpage from mpia.de to get author names\n",
    "We then get all new papers from Arxiv and match authors"
   ]
  },
  {
   "cell_type": "code",
   "execution_count": 4,
   "id": "2645e73a",
   "metadata": {
    "execution": {
     "iopub.execute_input": "2022-09-27T05:10:00.015641Z",
     "iopub.status.busy": "2022-09-27T05:10:00.015078Z",
     "iopub.status.idle": "2022-09-27T05:10:25.771487Z",
     "shell.execute_reply": "2022-09-27T05:10:25.770115Z"
    },
    "papermill": {
     "duration": 25.762767,
     "end_time": "2022-09-27T05:10:25.773140",
     "exception": false,
     "start_time": "2022-09-27T05:10:00.010373",
     "status": "completed"
    },
    "tags": []
   },
   "outputs": [
    {
     "name": "stdout",
     "output_type": "stream",
     "text": [
      "Arxiv has 76 new papers today\n",
      "          28 with possible author matches\n"
     ]
    }
   ],
   "source": [
    "# get list from MPIA website\n",
    "# it automatically filters identified non-scientists :func:`mpia.filter_non_scientists`\n",
    "mpia_authors = mpia.get_mpia_mitarbeiter_list()\n",
    "new_papers = get_new_papers()\n",
    "# add manual references\n",
    "add_paper_refs = []\n",
    "new_papers.extend([get_paper_from_identifier(k) for k in add_paper_refs])\n",
    "\n",
    "# select only papers with matching author names and highlight authors\n",
    "hl_list = [k[0] for k in mpia_authors]\n",
    "\n",
    "candidates = []\n",
    "for paperk in new_papers:\n",
    "    hl_authors = highlight_authors_in_list(paperk['authors'], hl_list)\n",
    "    matches = [(hl, orig) for hl, orig in zip(hl_authors, paperk['authors']) if 'mark' in hl]\n",
    "    paperk['authors'] = hl_authors\n",
    "    if matches:\n",
    "        candidates.append(paperk)\n",
    "print(\"\"\"Arxiv has {0:,d} new papers today\"\"\".format(len(new_papers)))        \n",
    "print(\"\"\"          {0:,d} with possible author matches\"\"\".format(len(candidates)))"
   ]
  },
  {
   "cell_type": "markdown",
   "id": "3543b34a",
   "metadata": {
    "papermill": {
     "duration": 0.004197,
     "end_time": "2022-09-27T05:10:25.781809",
     "exception": false,
     "start_time": "2022-09-27T05:10:25.777612",
     "status": "completed"
    },
    "tags": []
   },
   "source": [
    "# Parse sources and generate relevant outputs\n",
    "\n",
    "From the candidates, we do the following steps:\n",
    "* get their tarball from ArXiv (and extract data)\n",
    "* find the main .tex file: find one with \\documentclass{...} (sometimes it's non trivial)\n",
    "* Check affiliations with :func:`validation`, which uses :func:`mpia.affiliation_verifications`\n",
    "* If passing the affiliations: we parse the .tex source\n",
    "   * inject sub-documents into the main (flatten the main document)\n",
    "   * parse structure, extract information (title, abstract, authors, figures...)\n",
    "   * handles `\\graphicspath` if provided\n",
    "* Generate the .md document."
   ]
  },
  {
   "cell_type": "code",
   "execution_count": 5,
   "id": "9576b79e",
   "metadata": {
    "execution": {
     "iopub.execute_input": "2022-09-27T05:10:25.791381Z",
     "iopub.status.busy": "2022-09-27T05:10:25.790752Z",
     "iopub.status.idle": "2022-09-27T05:12:51.648138Z",
     "shell.execute_reply": "2022-09-27T05:12:51.647378Z"
    },
    "papermill": {
     "duration": 145.863943,
     "end_time": "2022-09-27T05:12:51.649647",
     "exception": false,
     "start_time": "2022-09-27T05:10:25.785704",
     "status": "completed"
    },
    "scrolled": false,
    "tags": []
   },
   "outputs": [
    {
     "data": {
      "application/vnd.jupyter.widget-view+json": {
       "model_id": "59b2bb5383264ae893cb9d422b2b6bbd",
       "version_major": 2,
       "version_minor": 0
      },
      "text/plain": [
       "  0%|          | 0/27 [00:00<?, ?it/s]"
      ]
     },
     "metadata": {},
     "output_type": "display_data"
    },
    {
     "name": "stdout",
     "output_type": "stream",
     "text": [
      "Retrieving document from  https://arxiv.org/e-print/2209.11775\n"
     ]
    },
    {
     "name": "stdout",
     "output_type": "stream",
     "text": [
      "extracting tarball to tmp_2209.11775..."
     ]
    },
    {
     "name": "stdout",
     "output_type": "stream",
     "text": [
      " done.\n",
      "Retrieving document from  https://arxiv.org/e-print/2209.11778\n"
     ]
    },
    {
     "name": "stderr",
     "output_type": "stream",
     "text": [
      "/opt/hostedtoolcache/Python/3.9.14/x64/lib/python3.9/site-packages/IPython/core/interactiveshell.py:3378: LatexWarning: Multiple tex files.\n",
      "\n",
      "  exec(code_obj, self.user_global_ns, self.user_ns)\n",
      "/opt/hostedtoolcache/Python/3.9.14/x64/lib/python3.9/site-packages/IPython/core/interactiveshell.py:3378: LatexWarning: Found documentclass in tmp_2209.11775/main.tex\n",
      "\n",
      "  exec(code_obj, self.user_global_ns, self.user_ns)\n"
     ]
    },
    {
     "name": "stdout",
     "output_type": "stream",
     "text": [
      "extracting tarball to tmp_2209.11778..."
     ]
    },
    {
     "name": "stdout",
     "output_type": "stream",
     "text": [
      " done.\n",
      "Retrieving document from  https://arxiv.org/e-print/2209.11781\n"
     ]
    },
    {
     "name": "stdout",
     "output_type": "stream",
     "text": [
      "extracting tarball to tmp_2209.11781..."
     ]
    },
    {
     "name": "stdout",
     "output_type": "stream",
     "text": [
      " done.\n"
     ]
    },
    {
     "name": "stdout",
     "output_type": "stream",
     "text": [
      "Retrieving document from  https://arxiv.org/e-print/2209.11782\n"
     ]
    },
    {
     "name": "stdout",
     "output_type": "stream",
     "text": [
      "extracting tarball to tmp_2209.11782..."
     ]
    },
    {
     "name": "stdout",
     "output_type": "stream",
     "text": [
      " done.\n",
      "Retrieving document from  https://arxiv.org/e-print/2209.11786\n"
     ]
    },
    {
     "name": "stdout",
     "output_type": "stream",
     "text": [
      "extracting tarball to tmp_2209.11786..."
     ]
    },
    {
     "name": "stdout",
     "output_type": "stream",
     "text": [
      " done.\n",
      "Retrieving document from  https://arxiv.org/e-print/2209.11798\n"
     ]
    },
    {
     "name": "stdout",
     "output_type": "stream",
     "text": [
      "extracting tarball to tmp_2209.11798..."
     ]
    },
    {
     "name": "stdout",
     "output_type": "stream",
     "text": [
      " done.\n",
      "Retrieving document from  https://arxiv.org/e-print/2209.11811\n"
     ]
    },
    {
     "name": "stdout",
     "output_type": "stream",
     "text": [
      "extracting tarball to tmp_2209.11811..."
     ]
    },
    {
     "name": "stdout",
     "output_type": "stream",
     "text": [
      " done.\n",
      "Retrieving document from  https://arxiv.org/e-print/2209.11873\n"
     ]
    },
    {
     "name": "stderr",
     "output_type": "stream",
     "text": [
      "/tmp/ipykernel_2399/4030337529.py:34: LatexWarning: 2209.11873 did not run properly\n",
      "not a gzip file\n",
      "  warnings.warn(latex.LatexWarning(f\"{paper_id:s} did not run properly\\n\" +\n"
     ]
    },
    {
     "name": "stdout",
     "output_type": "stream",
     "text": [
      "Retrieving document from  https://arxiv.org/e-print/2209.11907\n"
     ]
    },
    {
     "name": "stdout",
     "output_type": "stream",
     "text": [
      "extracting tarball to tmp_2209.11907..."
     ]
    },
    {
     "name": "stdout",
     "output_type": "stream",
     "text": [
      " done.\n",
      "Retrieving document from  https://arxiv.org/e-print/2209.12060\n"
     ]
    },
    {
     "name": "stderr",
     "output_type": "stream",
     "text": [
      "/tmp/ipykernel_2399/4030337529.py:34: LatexWarning: 2209.12060 did not run properly\n",
      "not a gzip file\n",
      "  warnings.warn(latex.LatexWarning(f\"{paper_id:s} did not run properly\\n\" +\n"
     ]
    },
    {
     "name": "stdout",
     "output_type": "stream",
     "text": [
      "Retrieving document from  https://arxiv.org/e-print/2209.12070\n"
     ]
    },
    {
     "name": "stdout",
     "output_type": "stream",
     "text": [
      "extracting tarball to tmp_2209.12070... done.\n",
      "Retrieving document from  https://arxiv.org/e-print/2209.12090\n"
     ]
    },
    {
     "name": "stderr",
     "output_type": "stream",
     "text": [
      "/opt/hostedtoolcache/Python/3.9.14/x64/lib/python3.9/site-packages/IPython/core/interactiveshell.py:3378: LatexWarning: Multiple tex files.\n",
      "\n",
      "  exec(code_obj, self.user_global_ns, self.user_ns)\n",
      "/opt/hostedtoolcache/Python/3.9.14/x64/lib/python3.9/site-packages/IPython/core/interactiveshell.py:3378: LatexWarning: Found documentclass in tmp_2209.12070/arxiv_4LAC_DR3.tex\n",
      "\n",
      "  exec(code_obj, self.user_global_ns, self.user_ns)\n",
      "/opt/hostedtoolcache/Python/3.9.14/x64/lib/python3.9/site-packages/arxiv_on_deck_2/latex.py:292: LatexWarning: Latex injecting: '4LAC_catalog_description.tex' from 'tmp_2209.12070/4LAC_catalog_description.tex'\n",
      "  warnings.warn(LatexWarning(f\"Latex injecting: '{ext}' from '{subsource}'\"))\n"
     ]
    },
    {
     "name": "stdout",
     "output_type": "stream",
     "text": [
      "extracting tarball to tmp_2209.12090..."
     ]
    },
    {
     "name": "stdout",
     "output_type": "stream",
     "text": [
      " done.\n",
      "Retrieving document from  https://arxiv.org/e-print/2209.12141\n"
     ]
    },
    {
     "name": "stderr",
     "output_type": "stream",
     "text": [
      "/opt/hostedtoolcache/Python/3.9.14/x64/lib/python3.9/site-packages/IPython/core/interactiveshell.py:3378: LatexWarning: Multiple tex files.\n",
      "\n",
      "  exec(code_obj, self.user_global_ns, self.user_ns)\n",
      "/opt/hostedtoolcache/Python/3.9.14/x64/lib/python3.9/site-packages/IPython/core/interactiveshell.py:3378: LatexWarning: Found documentclass in tmp_2209.12090/natnotes.tex\n",
      "\n",
      "  exec(code_obj, self.user_global_ns, self.user_ns)\n"
     ]
    },
    {
     "name": "stdout",
     "output_type": "stream",
     "text": [
      "extracting tarball to tmp_2209.12141..."
     ]
    },
    {
     "name": "stdout",
     "output_type": "stream",
     "text": [
      " done.\n",
      "Retrieving document from  https://arxiv.org/e-print/2209.12199\n"
     ]
    },
    {
     "name": "stderr",
     "output_type": "stream",
     "text": [
      "/tmp/ipykernel_2399/4030337529.py:34: LatexWarning: 2209.12199 did not run properly\n",
      "not a gzip file\n",
      "  warnings.warn(latex.LatexWarning(f\"{paper_id:s} did not run properly\\n\" +\n"
     ]
    },
    {
     "name": "stdout",
     "output_type": "stream",
     "text": [
      "Retrieving document from  https://arxiv.org/e-print/2209.12203\n"
     ]
    },
    {
     "name": "stdout",
     "output_type": "stream",
     "text": [
      "extracting tarball to tmp_2209.12203..."
     ]
    },
    {
     "name": "stdout",
     "output_type": "stream",
     "text": [
      " done.\n",
      "Retrieving document from  https://arxiv.org/e-print/2209.12205\n"
     ]
    },
    {
     "name": "stdout",
     "output_type": "stream",
     "text": [
      "extracting tarball to tmp_2209.12205..."
     ]
    },
    {
     "name": "stdout",
     "output_type": "stream",
     "text": [
      " done.\n",
      "Retrieving document from  https://arxiv.org/e-print/2209.12224\n"
     ]
    },
    {
     "name": "stdout",
     "output_type": "stream",
     "text": [
      "extracting tarball to tmp_2209.12224..."
     ]
    },
    {
     "name": "stdout",
     "output_type": "stream",
     "text": [
      " done.\n",
      "Retrieving document from  https://arxiv.org/e-print/2209.12397\n"
     ]
    },
    {
     "name": "stderr",
     "output_type": "stream",
     "text": [
      "/opt/hostedtoolcache/Python/3.9.14/x64/lib/python3.9/site-packages/IPython/core/interactiveshell.py:3378: LatexWarning: Multiple tex files.\n",
      "\n",
      "  exec(code_obj, self.user_global_ns, self.user_ns)\n",
      "/opt/hostedtoolcache/Python/3.9.14/x64/lib/python3.9/site-packages/IPython/core/interactiveshell.py:3378: LatexWarning: Found documentclass in tmp_2209.12224/rnaas.tex\n",
      "\n",
      "  exec(code_obj, self.user_global_ns, self.user_ns)\n"
     ]
    },
    {
     "name": "stdout",
     "output_type": "stream",
     "text": [
      "extracting tarball to tmp_2209.12397..."
     ]
    },
    {
     "name": "stdout",
     "output_type": "stream",
     "text": [
      " done.\n",
      "Retrieving document from  https://arxiv.org/e-print/2209.12404\n"
     ]
    },
    {
     "name": "stdout",
     "output_type": "stream",
     "text": [
      "extracting tarball to tmp_2209.12404..."
     ]
    },
    {
     "name": "stdout",
     "output_type": "stream",
     "text": [
      " done.\n",
      "Retrieving document from  https://arxiv.org/e-print/2209.12409\n"
     ]
    },
    {
     "name": "stdout",
     "output_type": "stream",
     "text": [
      "extracting tarball to tmp_2209.12409... done.\n",
      "Retrieving document from  https://arxiv.org/e-print/2209.12422\n"
     ]
    },
    {
     "name": "stdout",
     "output_type": "stream",
     "text": [
      "extracting tarball to tmp_2209.12422..."
     ]
    },
    {
     "name": "stdout",
     "output_type": "stream",
     "text": [
      " done.\n",
      "Retrieving document from  https://arxiv.org/e-print/2209.12501\n"
     ]
    },
    {
     "name": "stderr",
     "output_type": "stream",
     "text": [
      "/opt/hostedtoolcache/Python/3.9.14/x64/lib/python3.9/site-packages/IPython/core/interactiveshell.py:3378: LatexWarning: Multiple tex files.\n",
      "\n",
      "  exec(code_obj, self.user_global_ns, self.user_ns)\n",
      "/opt/hostedtoolcache/Python/3.9.14/x64/lib/python3.9/site-packages/IPython/core/interactiveshell.py:3378: LatexWarning: Found documentclass in tmp_2209.12422/main.tex\n",
      "\n",
      "  exec(code_obj, self.user_global_ns, self.user_ns)\n",
      "/opt/hostedtoolcache/Python/3.9.14/x64/lib/python3.9/site-packages/arxiv_on_deck_2/latex.py:292: LatexWarning: Latex injecting: 'PropertiesTable.tex' from 'tmp_2209.12422/PropertiesTable.tex'\n",
      "  warnings.warn(LatexWarning(f\"Latex injecting: '{ext}' from '{subsource}'\"))\n",
      "/opt/hostedtoolcache/Python/3.9.14/x64/lib/python3.9/site-packages/arxiv_on_deck_2/latex.py:292: LatexWarning: Latex injecting: 'ObservationSummaryTable.tex' from 'tmp_2209.12422/ObservationSummaryTable.tex'\n",
      "  warnings.warn(LatexWarning(f\"Latex injecting: '{ext}' from '{subsource}'\"))\n",
      "/opt/hostedtoolcache/Python/3.9.14/x64/lib/python3.9/site-packages/arxiv_on_deck_2/latex.py:292: LatexWarning: Latex injecting: 'authors' from 'tmp_2209.12422/authors.tex'\n",
      "  warnings.warn(LatexWarning(f\"Latex injecting: '{ext}' from '{subsource}'\"))\n",
      "/opt/hostedtoolcache/Python/3.9.14/x64/lib/python3.9/site-packages/arxiv_on_deck_2/latex.py:292: LatexWarning: Latex injecting: 'commands' from 'tmp_2209.12422/commands.tex'\n",
      "  warnings.warn(LatexWarning(f\"Latex injecting: '{ext}' from '{subsource}'\"))\n"
     ]
    },
    {
     "name": "stdout",
     "output_type": "stream",
     "text": [
      "extracting tarball to tmp_2209.12501..."
     ]
    },
    {
     "name": "stdout",
     "output_type": "stream",
     "text": [
      " done.\n",
      "Retrieving document from  https://arxiv.org/e-print/2209.12502\n"
     ]
    },
    {
     "name": "stderr",
     "output_type": "stream",
     "text": [
      "/opt/hostedtoolcache/Python/3.9.14/x64/lib/python3.9/site-packages/IPython/core/interactiveshell.py:3378: LatexWarning: Multiple tex files.\n",
      "\n",
      "  exec(code_obj, self.user_global_ns, self.user_ns)\n",
      "/opt/hostedtoolcache/Python/3.9.14/x64/lib/python3.9/site-packages/IPython/core/interactiveshell.py:3378: LatexWarning: Found documentclass in tmp_2209.12501/ms4.tex\n",
      "\n",
      "  exec(code_obj, self.user_global_ns, self.user_ns)\n"
     ]
    },
    {
     "name": "stdout",
     "output_type": "stream",
     "text": [
      "extracting tarball to tmp_2209.12502..."
     ]
    },
    {
     "name": "stdout",
     "output_type": "stream",
     "text": [
      " done.\n",
      "Retrieving document from  https://arxiv.org/e-print/2209.12585\n"
     ]
    },
    {
     "name": "stdout",
     "output_type": "stream",
     "text": [
      "extracting tarball to tmp_2209.12585..."
     ]
    },
    {
     "name": "stdout",
     "output_type": "stream",
     "text": [
      " done.\n",
      "Retrieving document from  https://arxiv.org/e-print/2209.12794\n"
     ]
    },
    {
     "name": "stdout",
     "output_type": "stream",
     "text": [
      "extracting tarball to tmp_2209.12794..."
     ]
    },
    {
     "name": "stdout",
     "output_type": "stream",
     "text": [
      " done.\n",
      "Retrieving document from  https://arxiv.org/e-print/2209.12814\n"
     ]
    },
    {
     "name": "stdout",
     "output_type": "stream",
     "text": [
      "extracting tarball to tmp_2209.12814..."
     ]
    },
    {
     "name": "stdout",
     "output_type": "stream",
     "text": [
      " done.\n",
      "Retrieving document from  https://arxiv.org/e-print/2209.12850\n"
     ]
    },
    {
     "name": "stderr",
     "output_type": "stream",
     "text": [
      "/opt/hostedtoolcache/Python/3.9.14/x64/lib/python3.9/site-packages/IPython/core/interactiveshell.py:3378: LatexWarning: Multiple tex files.\n",
      "\n",
      "  exec(code_obj, self.user_global_ns, self.user_ns)\n",
      "/opt/hostedtoolcache/Python/3.9.14/x64/lib/python3.9/site-packages/IPython/core/interactiveshell.py:3378: LatexWarning: Found documentclass in tmp_2209.12814/rnaas.tex\n",
      "\n",
      "  exec(code_obj, self.user_global_ns, self.user_ns)\n"
     ]
    },
    {
     "name": "stdout",
     "output_type": "stream",
     "text": [
      "extracting tarball to tmp_2209.12850..."
     ]
    },
    {
     "name": "stdout",
     "output_type": "stream",
     "text": [
      " done.\n"
     ]
    },
    {
     "name": "stderr",
     "output_type": "stream",
     "text": [
      "/opt/hostedtoolcache/Python/3.9.14/x64/lib/python3.9/site-packages/IPython/core/interactiveshell.py:3378: LatexWarning: Multiple tex files.\n",
      "\n",
      "  exec(code_obj, self.user_global_ns, self.user_ns)\n",
      "/opt/hostedtoolcache/Python/3.9.14/x64/lib/python3.9/site-packages/IPython/core/interactiveshell.py:3378: LatexWarning: Found documentclass in tmp_2209.12850/aa.tex\n",
      "\n",
      "  exec(code_obj, self.user_global_ns, self.user_ns)\n"
     ]
    }
   ],
   "source": [
    "documents = []\n",
    "failed = []\n",
    "for paper in tqdm(candidates[:-1]):\n",
    "    paper_id = paper['identifier'].lower().replace('arxiv:', '')\n",
    "    \n",
    "    folder = f'tmp_{paper_id}'\n",
    "\n",
    "    try:\n",
    "        if not os.path.isdir(folder):\n",
    "            folder = retrieve_document_source(f\"{paper_id}\", f'tmp_{paper_id}')\n",
    "        \n",
    "        try:\n",
    "            doc = latex.LatexDocument(folder, validation=validation)    \n",
    "        except AffiliationError as affilerror:\n",
    "            msg = f\"ArXiv:{paper_id:s} is not an MPIA paper... \" + str(affilerror)\n",
    "            failed.append((paper, \"affiliation error: \" + str(affilerror) ))\n",
    "            continue\n",
    "        \n",
    "        # Hack because sometimes author parsing does not work well\n",
    "        if (len(doc.authors) != len(paper['authors'])):\n",
    "            doc._authors = paper['authors']\n",
    "        if (doc.abstract) in (None, ''):\n",
    "            doc._abstract = paper['abstract']\n",
    "            \n",
    "        doc.comment = (get_markdown_badge(paper_id) + \n",
    "                       \"<mark>Appeared on: \" + paper['date'] + \"</mark> - \" +\n",
    "                       \"_\" + paper['comments'] + \"_\")\n",
    "        doc.highlight_authors_in_list(hl_list)\n",
    "\n",
    "        full_md = doc.generate_markdown_text()\n",
    "        \n",
    "        documents.append((paper_id, full_md))\n",
    "    except Exception as e:\n",
    "        warnings.warn(latex.LatexWarning(f\"{paper_id:s} did not run properly\\n\" +\n",
    "                                         str(e)\n",
    "                                        ))\n",
    "        failed.append((paper, \"latex error \" + str(e)))"
   ]
  },
  {
   "cell_type": "markdown",
   "id": "2505a25c",
   "metadata": {
    "papermill": {
     "duration": 0.007197,
     "end_time": "2022-09-27T05:12:51.664208",
     "exception": false,
     "start_time": "2022-09-27T05:12:51.657011",
     "status": "completed"
    },
    "tags": []
   },
   "source": [
    "### Export the logs\n",
    "\n",
    "Throughout, we also keep track of the logs per paper. see `logs-{today date}.md` "
   ]
  },
  {
   "cell_type": "code",
   "execution_count": 6,
   "id": "d733828a",
   "metadata": {
    "execution": {
     "iopub.execute_input": "2022-09-27T05:12:51.680486Z",
     "iopub.status.busy": "2022-09-27T05:12:51.679679Z",
     "iopub.status.idle": "2022-09-27T05:12:51.721128Z",
     "shell.execute_reply": "2022-09-27T05:12:51.720550Z"
    },
    "papermill": {
     "duration": 0.057858,
     "end_time": "2022-09-27T05:12:51.729005",
     "exception": false,
     "start_time": "2022-09-27T05:12:51.671147",
     "status": "completed"
    },
    "scrolled": false,
    "tags": []
   },
   "outputs": [
    {
     "data": {
      "text/markdown": [
       "## Successful papers"
      ],
      "text/plain": [
       "<IPython.core.display.Markdown object>"
      ]
     },
     "metadata": {},
     "output_type": "display_data"
    },
    {
     "data": {
      "text/markdown": [
       "\n",
       "|||\n",
       "|---:|:---|\n",
       "| [![arXiv](https://img.shields.io/badge/arXiv-arXiv:2209.11781-b31b1b.svg)](https://arxiv.org/abs/arXiv:2209.11781) | **ALMA uncovers highly filamentary structure towards the Sgr E region**  |\n",
       "|| J. Wallace, et al. -- incl., <mark>J. D. Henshaw</mark> |\n",
       "|*Appeared on*| *2022-09-27*|\n",
       "|*Comments*| *20 pages, 17 figures, accepted for publication in ApJ*|\n",
       "|**Abstract**| We report on the discovery of linear filaments observed in CO(1-0) emission for a $\\sim2'$ field of view toward the Sgr E star forming region centered at (l,b)=(358.720$^\\circ$, 0.011$^\\circ$). The Sgr E region is thought to be at the turbulent intersection of the ''far dust lane'' associated with the Galactic bar and the Central Molecular Zone (CMZ). This region is subject to strong accelerations which are generally thought to inhibit star formation, yet Sgr E contains a large number of HII regions. We present $^{12}$CO(1-0), $^{13}$CO(1-0), and C$^{18}$O(1-0) spectral line observations from ALMA and provide measurements of the physical and kinematic properties for two of the brightest filaments. These filaments have widths (FWHM) of $\\sim0.1$ pc and are oriented nearly parallel to the Galactic plane, with angles from the Galactic plane of $\\sim2^\\circ$. The filaments are elongated, with lower limit aspect ratios of $\\sim$5:1. For both filaments we detect two distinct velocity components that are separated by about 15 km s$^{-1}$. In the C$^{18}$O spectral line data with $\\sim$0.09 pc spatial resolution, we find that these velocity components have relatively narrow ($\\sim$1-2 km s$^{-1}$) FWHM linewidths when compared to other sources towards the Galactic center. The properties of these filaments suggest that the gas in the Sgr E complex is being ''stretched'' as it is rapidly accelerated by the gravitational field of the Galactic bar while falling towards the CMZ, a result that could provide insight into the extreme environment surrounding this region and the large-scale processes which fuel this environment. |"
      ],
      "text/plain": [
       "[arXiv:2209.11781] ALMA uncovers highly filamentary structure towards the Sgr E region\n",
       "\tJ. Wallace, et al. -- incl., <mark>J. D. Henshaw</mark>"
      ]
     },
     "metadata": {},
     "output_type": "display_data"
    },
    {
     "data": {
      "text/markdown": [
       "## Failed papers"
      ],
      "text/plain": [
       "<IPython.core.display.Markdown object>"
      ]
     },
     "metadata": {},
     "output_type": "display_data"
    },
    {
     "data": {
      "text/markdown": [
       "\n",
       "|||\n",
       "|---:|:---|\n",
       "| [![arXiv](https://img.shields.io/badge/arXiv-arXiv:2209.11775-b31b1b.svg)](https://arxiv.org/abs/arXiv:2209.11775) | **Millimeter Dust Emission and Planetary Dynamics in the HD 106906 System**  |\n",
       "|| Anna Fehr, et al. -- incl., <mark>A. Meredith Hughes</mark> |\n",
       "|*Appeared on*| *2022-09-27*|\n",
       "|*Comments*| **|\n",
       "|**Abstract**| Debris disks are dusty, optically thin structures around main sequence stars. HD 106906AB is a short-period stellar binary, host to a wide separation planet, HD 106906b, and a debris disk. Only a few known systems include a debris disk and a directly imaged planet, and HD 106906 is the only one in which the planet is exterior to the disk. The debris disk is edge-on and highly asymmetric in scattered light. Here we resolve the disk structure at a resolution of 0.38\" (39 au) with the Atacama Large Millimeter/submillimeter Array (ALMA) at a wavelength of 1.3 mm. We model the disk with both a narrow and broad ring of material, and find that a radially broad, axisymmetric disk between radii of $\\sim$50$-$100 au is able to capture the structure of the observations without evidence of any asymmetry or eccentricity, other than a tentative stellocentric offset. We place stringent upper limits on both the gas and dust content of a putative circumplanetary disk. We interpret the ALMA data in concert with scattered light observations of the inner ring and astrometric constraints on the planet's orbit, and find that the observations are consistent with a large-separation, low-eccentricity orbit for the planet. A dynamical analysis indicates that the central binary can efficiently stabilize planetesimal orbits interior to $\\sim$100 au, which relaxes the constraints on eccentricity and semimajor axis somewhat. The observational constraints are consistent with in situ formation via gravitational instability, but cannot rule out a scattering event as the origin for HD 106906b's current orbit. |\n",
       "|<p style=\"color:green\"> **ERROR** </p>| <p style=\"color:green\">affiliation error: mpia.affiliation_verifications: 'Heidelberg' keyword not found.</p> |"
      ],
      "text/plain": [
       "<IPython.core.display.Markdown object>"
      ]
     },
     "metadata": {},
     "output_type": "display_data"
    },
    {
     "data": {
      "text/markdown": [
       "\n",
       "|||\n",
       "|---:|:---|\n",
       "| [![arXiv](https://img.shields.io/badge/arXiv-arXiv:2209.11778-b31b1b.svg)](https://arxiv.org/abs/arXiv:2209.11778) | **Formation History of HD106906 and the Vertical Warping of Debris Disks  by an External Inclined Companion**  |\n",
       "|| Nathaniel W. H. Moore, et al. -- incl., <mark>Gongjie Li</mark>, <mark>Lee Hassenzahl</mark> |\n",
       "|*Appeared on*| *2022-09-27*|\n",
       "|*Comments*| *13 pages, 7 figures. We are still in the process of responding to our referee, comments are welcome*|\n",
       "|**Abstract**| HD106906 is a planetary system that hosts a wide-orbit companion, as well as an eccentric and flat debris disk, which hold important constraints on its formation and subsequent evolution. The recent observations of the companion constrain its orbit to be eccentric and inclined relative to the plane of the debris disk. Here, we show that, in the presence of the inclined companion, the debris disk quickly ($\\lesssim5$ Myr) becomes warped and puffy. This suggests that the current configuration of the system is relatively recent. We explore the possibility that a recent close encounter with a free floating planet could produce a companion with orbital parameters that agree with observations of HD106906b. We find that this scenario is able to recreate the structure of the debris disk while producing a companion in agreement with observation. |\n",
       "|<p style=\"color:green\"> **ERROR** </p>| <p style=\"color:green\">affiliation error: mpia.affiliation_verifications: 'Heidelberg' keyword not found.</p> |"
      ],
      "text/plain": [
       "<IPython.core.display.Markdown object>"
      ]
     },
     "metadata": {},
     "output_type": "display_data"
    },
    {
     "data": {
      "text/markdown": [
       "\n",
       "|||\n",
       "|---:|:---|\n",
       "| [![arXiv](https://img.shields.io/badge/arXiv-arXiv:2209.11782-b31b1b.svg)](https://arxiv.org/abs/arXiv:2209.11782) | **The present-day gas content of simulated field dwarf galaxies**  |\n",
       "|| <mark>Georg Herzog</mark>, Alejandro Benitez-Llambay, Michele Fumagalli |\n",
       "|*Appeared on*| *2022-09-27*|\n",
       "|*Comments*| *Submitted to MNRAS, 13 pages, 11 figures (10 main text, one appendix)*|\n",
       "|**Abstract**| We examine the gas content of field dwarf galaxies in a high-resolution cosmological simulation. In agreement with previous work, we find that galaxies inhabiting dark matter haloes with mass below a critical value, $M_{200} \\lesssim M_{\\rm crit} \\approx 5\\times 10^{9} \\ M_{\\odot}$, are quiescent at the present day. The gas content of these galaxies is thus insensitive to feedback from evolving stars. Almost half of these quiescent systems today have gas masses much smaller than that expected for their mass. We find that gas-deficient galaxies originate from 1) past interactions with massive hosts, in which a dwarf loses gas and dark matter via tidal and ram-pressure forces; and 2) from hydrodynamic interactions with the gaseous filaments and sheets of the cosmic web, in which a dwarf loses gas via ram-pressure. We refer to these systems as ``flybys'' and ``COSWEBs''. Flybys locate in high-density regions, tracing the location of the most massive galaxies in the simulation. In contrast, COSWEBs are dispersed throughout the volume and trace the cosmic web. For sub-critical systems, $M_{200} < M_{\\rm crit}$, the fraction of COSWEB galaxies can be as high as $35 \\%$, and much higher for flybys, which make up 100 per cent of the galaxies with $M_{200}<3\\times 10^8 \\ \\rm M_{\\odot}$. The deficit of gas caused by these mechanisms may preclude the detection of a large fraction of field dwarfs in future HI surveys. For galaxies inhabiting halos with mass $M_{200} > M_{\\rm crit}$, we find that cosmic web stripping, on average, shuts down star formation in more than $70\\%$ of the affected systems. |\n",
       "|<p style=\"color:green\"> **ERROR** </p>| <p style=\"color:green\">affiliation error: mpia.affiliation_verifications: 'Heidelberg' keyword not found.</p> |"
      ],
      "text/plain": [
       "<IPython.core.display.Markdown object>"
      ]
     },
     "metadata": {},
     "output_type": "display_data"
    },
    {
     "data": {
      "text/markdown": [
       "\n",
       "|||\n",
       "|---:|:---|\n",
       "| [![arXiv](https://img.shields.io/badge/arXiv-arXiv:2209.11786-b31b1b.svg)](https://arxiv.org/abs/arXiv:2209.11786) | **Discovery of non-metastable ammonia masers in Sagittarius B2**  |\n",
       "|| Y. T. Yan, et al. -- incl., <mark>C. Henkel</mark>, <mark>J. S. Zhang</mark> |\n",
       "|*Appeared on*| *2022-09-27*|\n",
       "|*Comments*| *17 pages, 14 figures, 7 tables. Accepted for publication in A&A Letter*|\n",
       "|**Abstract**| We report the discovery of widespread maser emission in non-metastable inversion transitions of NH$_3$ toward various parts of the Sagittarius B2 molecular cloud/star forming region complex: We detect masers in the $J,K = $ (6,3), (7,4), (8,5), (9,6), and (10,7) transitions toward Sgr B2(M) and Sgr B2(N), an NH$_3$ (6,3) maser in Sgr B2(NS), and NH$_3$ (7,4), (9,6), and (10,7) masers in Sgr B2(S). With the high angular resolution data of the Karl G. Jansky Very Large Array (JVLA) in A-configuration we identify 18 maser spots. Nine maser spots arise from Sgr B2(N), one from Sgr B2(NS), five from Sgr B2(M), and three in Sgr B2(S). Compared to our Effelsberg single dish data, the JVLA data indicate no missing flux. The detected maser spots are not resolved by our JVLA observations. Lower limits to the brightness temperature are $>$3000~K and reach up to several 10$^5$~K, manifesting the lines' maser nature. In view of the masers' velocity differences with respect to adjacent hot molecular cores and/or UCH{\\scriptsize II} regions, it is argued that all the measured ammonia maser lines may be associated with shocks caused either by outflows or by the expansion of UCH{\\scriptsize II} regions. Overall, Sgr B2 is unique in that it allows us to measure many NH$_3$ masers simultaneously, which may be essential to elucidate their so far poorly understood origin and excitation. |\n",
       "|<p style=\"color:green\"> **ERROR** </p>| <p style=\"color:green\">affiliation error: mpia.affiliation_verifications: 'Heidelberg' keyword not found.</p> |"
      ],
      "text/plain": [
       "<IPython.core.display.Markdown object>"
      ]
     },
     "metadata": {},
     "output_type": "display_data"
    },
    {
     "data": {
      "text/markdown": [
       "\n",
       "|||\n",
       "|---:|:---|\n",
       "| [![arXiv](https://img.shields.io/badge/arXiv-arXiv:2209.11798-b31b1b.svg)](https://arxiv.org/abs/arXiv:2209.11798) | **Gravitational signal propagation in the Double Pulsar studied with the  MeerKAT telescope**  |\n",
       "|| H. Hu, et al. -- incl., <mark>M. Kramer</mark> |\n",
       "|*Appeared on*| *2022-09-27*|\n",
       "|*Comments*| *13 pages, 13 figures, accepted for publication in A&A*|\n",
       "|**Abstract**| The Double Pulsar, PSR J0737-3039A/B, has offered a wealth of gravitational experiments in the strong-field regime, all of which GR has passed with flying colours. In particular, among current gravity experiments that test photon propagation, the Double Pulsar probes the strongest spacetime curvature. Observations with MeerKAT and, in future, the SKA can greatly improve the accuracy of current tests and facilitate tests of NLO contributions in both orbital motion and signal propagation. We present our timing analysis of new observations of PSR J0737-3039A, made using the MeerKAT telescope over the last 3 years. The increased timing precision offered by MeerKAT yields a 2 times better measurement of Shapiro delay parameter s and improved mass measurements compared to previous studies. In addition, our results provide an independent confirmation of the NLO signal propagation effects and already surpass the previous measurement from 16-yr data by a factor of 1.65. These effects include the retardation effect due to the movement of B and the deflection of the signal by the gravitational field of B. We also investigate novel effects which are expected. For instance, we search for potential profile variations near superior conjunctions caused by shifts of the line-of-sight due to latitudinal signal deflection and find insignificant evidence with our current data. With simulations, we find that the latitudinal deflection delay is unlikely to be measured with timing because of its correlation with Shapiro delay. Furthermore, although it is currently not possible to detect the expected lensing correction to the Shapiro delay, our simulations suggest that this effect may be measured with the full SKA. Finally, we provide an improved analytical description for the signal propagation in the Double Pulsar system that meets the timing precision expected from future instruments such as the full SKA. |\n",
       "|<p style=\"color:green\"> **ERROR** </p>| <p style=\"color:green\">affiliation error: mpia.affiliation_verifications: 'Heidelberg' keyword not found.</p> |"
      ],
      "text/plain": [
       "<IPython.core.display.Markdown object>"
      ]
     },
     "metadata": {},
     "output_type": "display_data"
    },
    {
     "data": {
      "text/markdown": [
       "\n",
       "|||\n",
       "|---:|:---|\n",
       "| [![arXiv](https://img.shields.io/badge/arXiv-arXiv:2209.11811-b31b1b.svg)](https://arxiv.org/abs/arXiv:2209.11811) | **Kinematic Lensing Inference I: Characterizing Shape Noise with Simulated  Analyses**  |\n",
       "|| Pranjal R. S., et al. -- incl., <mark>Elisabeth Krause</mark> |\n",
       "|*Appeared on*| *2022-09-27*|\n",
       "|*Comments*| **|\n",
       "|**Abstract**| The unknown intrinsic shape of source galaxies is one of the largest uncertainties of weak gravitational lensing (WL). It results in the so-called shape noise at the level of $\\sigma_\\epsilon^{\\mathrm{WL}} \\approx 0.26$, whereas the shear effect of interest is of order percent. Kinematic lensing (KL) is a new technique that combines photometric shape measurements with resolved spectroscopic observations to infer the intrinsic galaxy shape and directly estimate the gravitational shear. This paper presents a KL inference pipeline that jointly forward-models galaxy imaging and slit spectroscopy to extract the shear signal. We build a set of realistic mock observations and show that the KL inference pipeline can robustly recover the input shear. To quantify the shear measurement uncertainty for KL, we average the shape noise over a population of randomly oriented disc galaxies and estimate it to be $\\sigma_\\epsilon^{\\mathrm{KL}}\\approx 0.022-0.041$ depending on emission line signal-to-noise. This order of magnitude improvement over traditional WL makes a KL observational program feasible with existing spectroscopic instruments. To this end, we characterize the dependence of KL shape noise on observational factors and discuss implications for the survey strategy of future KL observations. In particular, we find that prioritizing quality spectra of low inclination galaxies is more advantageous than maximizing the overall number density. |\n",
       "|<p style=\"color:green\"> **ERROR** </p>| <p style=\"color:green\">affiliation error: mpia.affiliation_verifications: 'Heidelberg' keyword not found.</p> |"
      ],
      "text/plain": [
       "<IPython.core.display.Markdown object>"
      ]
     },
     "metadata": {},
     "output_type": "display_data"
    },
    {
     "data": {
      "text/markdown": [
       "\n",
       "|||\n",
       "|---:|:---|\n",
       "| [![arXiv](https://img.shields.io/badge/arXiv-arXiv:2209.11907-b31b1b.svg)](https://arxiv.org/abs/arXiv:2209.11907) | **A meta-analysis of molecular spectroscopy databases, and prospects of  molecule detection with some future facilities**  |\n",
       "|| <mark>Xin Liu</mark>, Fujun Du |\n",
       "|*Appeared on*| *2022-09-27*|\n",
       "|*Comments*| *Accepted by RAA. 18 pages, 15 figures, and 9 tables*|\n",
       "|**Abstract**| Molecules reside broadly in the interstellar space and can be detected via spectroscopic observations. To date, more than 271 molecular species have been identified in interstellar medium or circumstellar envelopes. Molecular spectroscopic parameters measured in laboratory make the identification of new species and derivation of physical parameters possible. These spectroscopic parameters are systematically collected into databases, two of the most commonly used being the CDMS and JPL databases. While new spectroscopic parameters are continuously measured/calculated and added to those databases, at any point in time it is the existing spectroscopic data that ultimately limits what molecules can possibly be identified in astronomical data. In this work, we conduct a meta-analysis of the CDMS and JPL databases. We show the statistics of transition frequencies and their uncertainties in these two databases, and discuss the line confusion problem under certain physical environments. We then assess the prospects of detecting molecules in common ISM environments using a few facilities that are expected to be conducting spectroscopic observations in the future. Results show that CSST/HSTDM and SKA1-mid have the potential to detect some complex organic molecules, or even amino acids, with reasonable assumptions about ISM environments. |\n",
       "|<p style=\"color:green\"> **ERROR** </p>| <p style=\"color:green\">affiliation error: mpia.affiliation_verifications: 'Heidelberg' keyword not found.</p> |"
      ],
      "text/plain": [
       "<IPython.core.display.Markdown object>"
      ]
     },
     "metadata": {},
     "output_type": "display_data"
    },
    {
     "data": {
      "text/markdown": [
       "\n",
       "|||\n",
       "|---:|:---|\n",
       "| [![arXiv](https://img.shields.io/badge/arXiv-arXiv:2209.12070-b31b1b.svg)](https://arxiv.org/abs/arXiv:2209.12070) | **The Fourth Catalog of Active Galactic Nuclei Detected by the Fermi Large  Area Telescope -- Data Release 3**  |\n",
       "|| Fermi-LAT collaboration, et al. -- incl., <mark>Ari Brill</mark>, <mark>David Green</mark> |\n",
       "|*Appeared on*| *2022-09-27*|\n",
       "|*Comments*| *13 pages, 7 figures, accepted for publication in The Astrophysical Journal Supplement Series. Fits files are available at this https URL or alternatively at this https URL and this https URL*|\n",
       "|**Abstract**| An incremental version of the fourth catalog of active galactic nuclei (AGNs) detected by the Fermi-Large Area Telescope is presented. This version (4LAC-DR3) derives from the third data release of the 4FGL catalog based on 12 years of E>50 MeV gamma-ray data, where the spectral parameters, spectral energy distributions (SEDs), yearly light curves, and associations have been updated for all sources. The new reported AGNs include 587 blazar candidates and four radio galaxies. We describe the properties of the new sample and outline changes affecting the previously published one. We also introduce two new parameters in this release, namely the peak energy of the SED high-energy component and the corresponding flux. These parameters allow an assessment of the Compton dominance, the ratio of the Inverse-Compton to the synchrotron peak luminosities, without relying on X-ray data. |\n",
       "|<p style=\"color:green\"> **ERROR** </p>| <p style=\"color:green\">affiliation error: mpia.affiliation_verifications: 'Heidelberg' keyword not found.</p> |"
      ],
      "text/plain": [
       "<IPython.core.display.Markdown object>"
      ]
     },
     "metadata": {},
     "output_type": "display_data"
    },
    {
     "data": {
      "text/markdown": [
       "\n",
       "|||\n",
       "|---:|:---|\n",
       "| [![arXiv](https://img.shields.io/badge/arXiv-arXiv:2209.12090-b31b1b.svg)](https://arxiv.org/abs/arXiv:2209.12090) | **Extension of HOPS Out to 500 ParSecs (eHOPS). I. Identification and  Modeling of Protostars in the Aquila Molecular Clouds**  |\n",
       "|| Riwaj Pokhrel, et al. -- incl., <mark>William J. Fischer</mark>, <mark>Lee Hartmann</mark> |\n",
       "|*Appeared on*| *2022-09-27*|\n",
       "|*Comments*| *Submitted in ApJS*|\n",
       "|**Abstract**| We present a Spitzer/Herschel focused survey of the Aquila molecular clouds ($d \\sim 436$ pc) as part of the eHOPS (extension of HOPS Out to 500 ParSecs) census of nearby protostars. For every source detected in the Herschel/PACS bands, the eHOPS-Aquila catalog contains 1-850 $\\mu$m SEDs assembled from 2MASS, Spitzer, Herschel, WISE, and JCMT/SCUBA-2 data. Using a newly developed set of criteria, we classify objects by their SEDs as protostars, pre-ms sequence stars with disks, and galaxies. A total of 172 protostars are found in Aquila, tightly concentrated in the molecular filaments that thread the clouds. Of these, 72 (42\\%) are Class 0 protostars, 53 (31\\%) Class I protostars, 43 (25\\%) are flat-spectrum protostars, and 4 (2\\%) are Class II sources. Ten of the Class 0 protostars are young PACS Bright Red Sources similar to those discovered in Orion. We compare the SEDs to a grid of radiative transfer models to constrain the luminosities, envelope densities, and envelope masses of the protostars. A comparison of the eHOPS-Aquila to the HOPS protostars in Orion finds the protostellar luminosity functions are statistically indistinguishable, the bolometric temperatures/envelope masses of eHOPS-Aquila protostars are shifted to cooler temperatures/higher masses, and the eHOPS-Aquila protostars do not show the decline in luminosity with evolution found in Orion. We briefly discuss whether these differences are due to biases between the samples, diverging star formation histories, or the influence of environment on protostellar evolution. |\n",
       "|<p style=\"color:green\"> **ERROR** </p>| <p style=\"color:green\">affiliation error: mpia.affiliation_verifications: 'Heidelberg' keyword not found.</p> |"
      ],
      "text/plain": [
       "<IPython.core.display.Markdown object>"
      ]
     },
     "metadata": {},
     "output_type": "display_data"
    },
    {
     "data": {
      "text/markdown": [
       "\n",
       "|||\n",
       "|---:|:---|\n",
       "| [![arXiv](https://img.shields.io/badge/arXiv-arXiv:2209.12141-b31b1b.svg)](https://arxiv.org/abs/arXiv:2209.12141) | **A dynamically discovered and characterized non-accreting neutron star --  M dwarf binary candidate**  |\n",
       "|| Tuan Yi, et al. -- incl., <mark>Zhi-Xiang Zhang</mark>, <mark>Ling-Lin Zheng</mark>, <mark>Zhongrui Bai</mark>, <mark>Haotong Zhang</mark>, <mark>Xiang-Dong Li</mark>, <mark>Jia Zhang</mark>, <mark>Jing Guo</mark>, <mark>Chun-Qian Li</mark>, <mark>Jifeng Liu</mark> |\n",
       "|*Appeared on*| *2022-09-27*|\n",
       "|*Comments*| *53 pages, 15 figures, publication in Nature Astronomy*|\n",
       "|**Abstract**| Optical time-domain surveys can unveil and characterize exciting but less-explored non-accreting and/or non-beaming neutron stars (NS) in binaries. Here we report the discovery of such a NS candidate using the LAMOST spectroscopic survey. The candidate, designated LAMOST J112306.9+400736 (hereafter J1123), is in a single-lined spectroscopic binary containing an optically visible M star. The star's large radial velocity variation and ellipsoidal variations indicate a relatively massive unseen companion. Utilizing follow-up spectroscopy from the Palomar 200-inch telescope and high-precision photometry from TESS, we measure a companion mass of $1.24_{-0.03}^{+0.03}~M_{\\odot}$. Main-sequence stars with this mass are ruled out, leaving a NS or a massive white dwarf (WD). Although a massive WD cannot be ruled out, the lack of UV excess radiation from the companion supports the NS hypothesis. Deep radio observations with FAST yielded no detections of either pulsed or persistent emission. J1123 is not detected in numerous X-ray and gamma-ray surveys. These non-detections suggest that the NS candidate is not presently accreting and pulsing. Our work exemplifies the capability of discovering compact objects in non-accreting close binaries by synergizing the optical time-domain spectroscopy and high-cadence photometry. |\n",
       "|<p style=\"color:green\"> **ERROR** </p>| <p style=\"color:green\">affiliation error: mpia.affiliation_verifications: 'Heidelberg' keyword not found.</p> |"
      ],
      "text/plain": [
       "<IPython.core.display.Markdown object>"
      ]
     },
     "metadata": {},
     "output_type": "display_data"
    },
    {
     "data": {
      "text/markdown": [
       "\n",
       "|||\n",
       "|---:|:---|\n",
       "| [![arXiv](https://img.shields.io/badge/arXiv-arXiv:2209.12203-b31b1b.svg)](https://arxiv.org/abs/arXiv:2209.12203) | **Solar coronal heating from small-scale magnetic braids**  |\n",
       "|| L. P. Chitta, et al. -- incl., <mark>P. J. Smith</mark>, <mark>W. Liu</mark> |\n",
       "|*Appeared on*| *2022-09-27*|\n",
       "|*Comments*| *Accepted for publication in Astronomy & Astrophysics. Online movies available at this https URL*|\n",
       "|**Abstract**| Relaxation of braided coronal magnetic fields through reconnection is thought to be a source of energy to heat plasma in active region coronal loops. However, observations of active region coronal heating associated with untangling of magnetic braids remain sparse. One reason for this paucity could be the lack of coronal observations with sufficiently high spatial and temporal resolution to capture this process in action. Using new high spatial resolution (250-270 km on the Sun) and high cadence (3-10 s) observations from the Extreme Ultraviolet Imager (EUI) on board Solar Orbiter we observed untangling of small-scale coronal braids in different active regions. The untangling is associated with impulsive heating of the gas in these braided loops. We assess that coronal magnetic braids overlying cooler chromospheric filamentary structures are perhaps more common. Furthermore, our observations show signatures of both spatially coherent and intermittent coronal heating during relaxation of magnetic braids. Our study reveals the operation of both more gentle and impulsive modes of magnetic reconnection in the solar corona. |\n",
       "|<p style=\"color:green\"> **ERROR** </p>| <p style=\"color:green\">affiliation error: mpia.affiliation_verifications: 'Heidelberg' keyword not found.</p> |"
      ],
      "text/plain": [
       "<IPython.core.display.Markdown object>"
      ]
     },
     "metadata": {},
     "output_type": "display_data"
    },
    {
     "data": {
      "text/markdown": [
       "\n",
       "|||\n",
       "|---:|:---|\n",
       "| [![arXiv](https://img.shields.io/badge/arXiv-arXiv:2209.12205-b31b1b.svg)](https://arxiv.org/abs/arXiv:2209.12205) | **The Impact of Phase Equilibrium Cloud Models on GCM Simulations of  GJ~1214b**  |\n",
       "|| D. A. Christie, et al. -- incl., <mark>S. Lines</mark> |\n",
       "|*Appeared on*| *2022-09-27*|\n",
       "|*Comments*| *Accepted to MNRAS*|\n",
       "|**Abstract**| We investigate the impact of clouds on the atmosphere of GJ~1214b using the radiatively-coupled, phase-equilibrium cloud model {\\sc EddySed} coupled to the {\\sc Unified Model} general circulation model. We find that, consistent with previous investigations, high metallicity ($100\\times$ solar) and clouds with large vertical extents (a sedimentation factor of $f_\\mathrm{sed} = 0.1$) are required to best match the observations, although metallicities even higher than those investigated here may be required to improve agreement further. We additionally find that in our case which best matches the observations ($f_\\mathrm{sed}=0.1$), the velocity structures change relative to the clear sky case with the formation of a superrotating jet being suppressed, although further investigation is required to understand the cause of the suppression. The increase in cloud extent with $f_\\mathrm{sed}$ results in a cooler planet due to a higher albedo, causing the atmosphere to contract. This also results in a reduced day-night contrast seen in the phase curves, although the introduction of cloud still results in a reduction of the phase offset. We additionally investigate the impact the the {\\sc Unified Model}'s pseudo-spherical irradiation scheme on the calculation of heating rates, finding that the introduction of nightside shortwave heating results in slower mid-latitude jets compared to the plane parallel irradiation scheme used in previous works. We also consider the impact of a gamma distribution, as opposed to a log-normal distribution, for the distribution of cloud particle radii and find the impact to be relatively minor. |\n",
       "|<p style=\"color:green\"> **ERROR** </p>| <p style=\"color:green\">affiliation error: mpia.affiliation_verifications: 'Heidelberg' keyword not found.</p> |"
      ],
      "text/plain": [
       "<IPython.core.display.Markdown object>"
      ]
     },
     "metadata": {},
     "output_type": "display_data"
    },
    {
     "data": {
      "text/markdown": [
       "\n",
       "|||\n",
       "|---:|:---|\n",
       "| [![arXiv](https://img.shields.io/badge/arXiv-arXiv:2209.12224-b31b1b.svg)](https://arxiv.org/abs/arXiv:2209.12224) | **Chemo-Dynamically Tagged Groups of CEMP Stars in the Halo of the Milky  Way. I. Untangling the Origins of CEMP-$s$ and CEMP-no Stars**  |\n",
       "|| <mark>Joseph Zepeda</mark>, et al. |\n",
       "|*Appeared on*| *2022-09-27*|\n",
       "|*Comments*| *Submitted to AAS Journals*|\n",
       "|**Abstract**| We construct a sample of 644 carbon-enhanced metal-poor (CEMP) stars with abundance analyses based on moderate- to high-resolution spectroscopic studies. Dynamical parameters for these stars are estimated, based on radial velocities, Bayesian parallax-based distance estimates, and proper motions from Gaia EDR3 and DR3, supplemented by additional available information where needed. We apply the HDBSCAN clustering method to the specific energies and actions (E, Jr , J{\\phi}, Jz ), obtaining 39 individual Chemo-Dynamically Tagged Groups (CDTGs) of CEMP stars. The stars in the full sample of CDTGs exhibit large and statistically insignificant dispersions in [Fe/H], [C/Fe]c, and [Mg/Fe], when compared to random draws from their parent sample. When the clustering is performed on CEMP stars separated into the morphological groups in the Yoon-Beers Diagram, the Group I (primarily CEMP-s and CEMP-r/s) stars exhibit lower (but still statistically insignificant) dispersions in [Fe/H], and larger (statistically insignificant) dispersions in [C/Fe]c and [Mg/Fe]. In contrast, the Group II (primarily CEMP-no) stars exhibit clear similarities, with very low, highly statistically significant, dispersions in [Fe/H] and [C/Fe]c. These results strongly indicate that Group I CEMP stars received their carbon enhancements from local phenomena, such as mass transfer from a evolved binary companion in regions with extended star-formation histories, while the CDTGs of Group II CEMP stars formed in low-metallicity environments that had already been enriched in carbon, likely from massive rapidly rotating ultra and hyper metal-poor stars and/or supernovae associated with high-mass early generation stars. |\n",
       "|<p style=\"color:green\"> **ERROR** </p>| <p style=\"color:green\">affiliation error: mpia.affiliation_verifications: 'Heidelberg' keyword not found.</p> |"
      ],
      "text/plain": [
       "<IPython.core.display.Markdown object>"
      ]
     },
     "metadata": {},
     "output_type": "display_data"
    },
    {
     "data": {
      "text/markdown": [
       "\n",
       "|||\n",
       "|---:|:---|\n",
       "| [![arXiv](https://img.shields.io/badge/arXiv-arXiv:2209.12397-b31b1b.svg)](https://arxiv.org/abs/arXiv:2209.12397) | **How unique are pulsar wind nebulae models? Implementation of a  multi-parameter, automatic fitting for time-dependent spectra**  |\n",
       "|| J. Martin, <mark>D. F. Torres</mark> |\n",
       "|*Appeared on*| *2022-09-27*|\n",
       "|*Comments*| *16 pages, 5 figures, 3 tables. Journal of High Energy Astrophysics (JHEAp), in press*|\n",
       "|**Abstract**| Due to the computational cost of calculating a great number of variations of the parameters, detailed radiative models of pulsar wind nebulae (PWNe) do not usually contain fitting algorithms. As a consequence, most of the models in the literature are, in fact, qualitative fits based on visual inspection. This is particularly true when complex, time-dependent models are considered. Motivated by improvements in the computational efficiency of the current PWN models that were obtained in the last years, we here explore the inclusion of automatic fitting algorithms into a fully time-dependent model. Incorporating an efficient fitting tool based on the Nelder-Mead algorithm, we blindly find fitting solutions for the Crab nebula and 3C 58 with a time-dependent radiation model to compute the spectral and dynamical evolution of young and middle-aged PWNe. This inclusion allows us, in addition of more faithfully determining the quality of the fit, to tackle whether there exist degeneracy in the selected PWNe models. We find both for Crab and 3C58, that the fits are well determined, and that no other significantly different set of model parameters is able to cope with experimental data equally well. The code is also able to consider the system's age as a free parameter, recursively determining all other needed magnitudes depending on age accordingly. We use this feature to consider whether a detailed multi-frequency spectra can constrain the nebula age, finding that in fact this is the case for the two PWNe studied. |\n",
       "|<p style=\"color:green\"> **ERROR** </p>| <p style=\"color:green\">affiliation error: mpia.affiliation_verifications: 'Heidelberg' keyword not found.</p> |"
      ],
      "text/plain": [
       "<IPython.core.display.Markdown object>"
      ]
     },
     "metadata": {},
     "output_type": "display_data"
    },
    {
     "data": {
      "text/markdown": [
       "\n",
       "|||\n",
       "|---:|:---|\n",
       "| [![arXiv](https://img.shields.io/badge/arXiv-arXiv:2209.12404-b31b1b.svg)](https://arxiv.org/abs/arXiv:2209.12404) | **Primordial black holes and third order scalar induced gravitational  waves**  |\n",
       "|| Zhe Chang, <mark>Xukun Zhang</mark>, Jing-Zhi Zhou |\n",
       "|*Appeared on*| *2022-09-27*|\n",
       "|*Comments*| **|\n",
       "|**Abstract**| The process of \\acp{PBH} formation would be inevitably accompanied by \\acp{SIGW}. This strong correlation between \\acp{PBH} and \\acp{SIGW} signals could be a promising approach to detecting \\acp{PBH} in the upcoming \\ac{GW} experiments, such as \\ac{LISA}. We investigate the third order \\acp{SIGW} during a \\ac{RD} era in the case of a monochromatic primordial power spectrum $\\mathcal{P}_{\\zeta}=A_{\\zeta}k_*\\delta\\left(k-k_*\\right)$. For \\ac{LISA} observations, the relations between \\ac{SNR} and monochromatic primordial power spectrum are studied systematically. It shows that the effects of third order \\acp{SIGW} extend the cutoff frequency from $2f_*$ to $3f_*$ and lead to about $200\\%$ increase of the \\ac{SNR} for frequency band from $10^{-5}$Hz to $1.6\\times 10^{-3}$Hz corresponding to \\acp{PBH} with mass range $4\\times 10^{-12}M_{\\odot} \\sim 10^{-7}M_{\\odot}$. We find that there exists a critical value $A_*=1.76\\times 10^{-2}$ for the amplitude of the monochromatic primordial power spectra, such that when $A_{\\zeta}>A_*$, the energy density of third order \\acp{SIGW} will be larger than the energy density of second order \\acp{SIGW}. |\n",
       "|<p style=\"color:green\"> **ERROR** </p>| <p style=\"color:green\">affiliation error: mpia.affiliation_verifications: 'Heidelberg' keyword not found.</p> |"
      ],
      "text/plain": [
       "<IPython.core.display.Markdown object>"
      ]
     },
     "metadata": {},
     "output_type": "display_data"
    },
    {
     "data": {
      "text/markdown": [
       "\n",
       "|||\n",
       "|---:|:---|\n",
       "| [![arXiv](https://img.shields.io/badge/arXiv-arXiv:2209.12409-b31b1b.svg)](https://arxiv.org/abs/arXiv:2209.12409) | **On the scaling and anisotropy of two subranges in the inertial range of  solar wind turbulence**  |\n",
       "|| Honghong Wu, et al. -- incl., <mark>Jiansen He</mark>, <mark>Liping Yang</mark> |\n",
       "|*Appeared on*| *2022-09-27*|\n",
       "|*Comments*| *8 pages, 5 figures*|\n",
       "|**Abstract**| Intermittency and anisotropy are two important aspects of plasma turbulence, which the solar wind provides a natural laboratory to investigate. However, their forms and nature are still under debate, making it difficult to achieve a consensus in the theoretical interpretation. Here, we perform higher-order statistics for the observations in the fast solar wind at 1.48 au obtained by Ulysses and in the slow solar wind at 0.17 au obtained by Parker Solar Probe (PSP). We find that two subranges clearly exist in the inertial range and they present distinct features with regard to the intermittency and anisotropy. The subrange 1 with smaller scale has a multifractal scaling with the second index $\\xi(2) \\sim 2/3$ and the subrange 2 with larger scale is also multifractal but with $\\xi(2) \\sim 1/2$. The break between two subranges locates at the same spatial scale for both Ulysses and PSP observations. Subrange 1 is multifractal in the direction perpendicular to the local magnetic field with $\\xi_{\\perp}(2) \\sim 2/3$ and seems to be monoscaling in the parallel direction with $\\xi_{\\parallel}(2) \\sim 1$. Subrange 2 is multifractal in both parallel and perpendicular directions with $\\xi_{\\perp}(2) \\sim 1/2$ and $\\xi_{\\parallel}(2) \\sim 2/3$. Both subrange 1 and subrange 2 present power and wavevector anisotropies. The distinct features of two subranges suggest that a transition from weak to strong turbulence may occur and the spatial scale of the break may not evolve with the solar wind expansion. These new results update our knowledge of the inertial range and provide strong observational constraints on the understanding of intermittency and anisotropy in solar wind turbulence. |\n",
       "|<p style=\"color:green\"> **ERROR** </p>| <p style=\"color:green\">affiliation error: mpia.affiliation_verifications: 'Heidelberg' keyword not found.</p> |"
      ],
      "text/plain": [
       "<IPython.core.display.Markdown object>"
      ]
     },
     "metadata": {},
     "output_type": "display_data"
    },
    {
     "data": {
      "text/markdown": [
       "\n",
       "|||\n",
       "|---:|:---|\n",
       "| [![arXiv](https://img.shields.io/badge/arXiv-arXiv:2209.12501-b31b1b.svg)](https://arxiv.org/abs/arXiv:2209.12501) | **MASADA: From Microlensing Planet Mass-Ratio Function to Planet Mass  Function**  |\n",
       "|| <mark>Andrew Gould</mark> |\n",
       "|*Appeared on*| *2022-09-27*|\n",
       "|*Comments*| *93 pages, 10 figures*|\n",
       "|**Abstract**| Using current technology, gravitational microlensing is the only method that can measure planet masses over the full parameter space of planet and stellar-host masses and at a broad range of planet-host separations. I present a comprehensive program to transform the $\\sim 150$ planet/host mass ratio measurements from the first 6 full seasons of the KMTNet survey into planet mass measurements via late-time adaptive optics (AO) imaging on 30m-class telescopes. This program will enable measurements of the overall planet mass function, the planet frequency as a function of Galactic environment and the planet mass functions within different environments. I analyze a broad range of discrete and continuous degeneracies as well as various false positives and false negatives, and I present a variety of methods to resolve these. I analyze the propagation from measurement uncertainties to mass and distance errors and show that these present the greatest difficulties for host masses $0.13\\lesssim(M/M_\\odot)\\lesssim 0.4$, i.e., fully convective stars supported by the ideal gas law, and for very nearby hosts. While work can begin later this decade using AO on current telescopes, of order 90% of the target sample must await 30m-class AO. I present extensive tables with information that is useful to plan observations of more than 100 of these planets and provide additional notes for a majority of these. Applying the same approach to two earlier surveys with 6 and 8 planets, respectively, I find that 11 of these 14 planets already have mass measurements by a variety of techniques. These provide suggestive evidence that planet frequency may be higher for nearby stars, $D_L\\lesssim 4$ kpc compared to those in or near the Galactic bulge. Finally, I analyze the prospects for making the planet mass-function measurement for the case that current astronomical capabilities are seriously degraded. |\n",
       "|<p style=\"color:green\"> **ERROR** </p>| <p style=\"color:green\">affiliation error: mpia.affiliation_verifications: 'Heidelberg' keyword not found.</p> |"
      ],
      "text/plain": [
       "<IPython.core.display.Markdown object>"
      ]
     },
     "metadata": {},
     "output_type": "display_data"
    },
    {
     "data": {
      "text/markdown": [
       "\n",
       "|||\n",
       "|---:|:---|\n",
       "| [![arXiv](https://img.shields.io/badge/arXiv-arXiv:2209.12502-b31b1b.svg)](https://arxiv.org/abs/arXiv:2209.12502) | **Lightning-induced chemistry on tidally-locked Earth-like exoplanets**  |\n",
       "|| Marrick Braam, et al. -- incl., <mark>Leen Decin</mark> |\n",
       "|*Appeared on*| *2022-09-27*|\n",
       "|*Comments*| *20 pages, 14 figures, accepted for publication in MNRAS*|\n",
       "|**Abstract**| Determining the habitability and interpreting atmospheric spectra of exoplanets requires understanding their atmospheric physics and chemistry. We use a 3-D Coupled Climate-Chemistry Model, the Met Office Unified Model with the UK Chemistry and Aerosols framework, to study the emergence of lightning and its chemical impact on tidally-locked Earth-like exoplanets. We simulate the atmosphere of Proxima Centauri b orbiting in the Habitable Zone of its M-dwarf star, but the results apply to similar M-dwarf orbiting planets. Our chemical network includes the Chapman ozone reactions and hydrogen oxide (HO$_{\\mathrm{x}}$=H+OH+HO$_2$) and nitrogen oxide (NO$_{\\mathrm{x}}$=NO+NO$_2$) catalytic cycles. We find that photochemistry driven by stellar radiation (177-850 nm) supports a global ozone layer between 20-50 km. We parameterise lightning flashes as a function of cloud-top height and the resulting production of nitric oxide (NO) from the thermal decomposition of N$_2$ and O$_2$. Rapid dayside convection over and around the substellar point results in lightning flash rates of up to 0.16 flashes km$^{-2}$yr$^{-1}$, enriching the dayside atmosphere below altitudes of 20 km in NO$_{\\mathrm{x}}$. Changes in dayside ozone are determined mainly by UV irradiance and the HO$_{\\mathrm{x}}$ catalytic cycle. ~45% of the planetary dayside surface remains at habitable temperatures (T$_{\\mathrm{surf}}$>273.15 K) and the ozone layer reduces surface UV radiation levels to 15%. Dayside-nightside thermal gradients result in strong winds that subsequently advect NO$_{\\mathrm{x}}$ towards the nightside, where the absence of photochemistry allows NO$_{\\mathrm{x}}$ chemistry to involve reservoir species. Our study also emphasizes the need for accurate UV stellar spectra to understand the atmospheric chemistry of exoplanets. |\n",
       "|<p style=\"color:green\"> **ERROR** </p>| <p style=\"color:green\">affiliation error: mpia.affiliation_verifications: 'Heidelberg' keyword not found.</p> |"
      ],
      "text/plain": [
       "<IPython.core.display.Markdown object>"
      ]
     },
     "metadata": {},
     "output_type": "display_data"
    },
    {
     "data": {
      "text/markdown": [
       "\n",
       "|||\n",
       "|---:|:---|\n",
       "| [![arXiv](https://img.shields.io/badge/arXiv-arXiv:2209.12585-b31b1b.svg)](https://arxiv.org/abs/arXiv:2209.12585) | **A super-linear \"radio-AGN main sequence'' links mean radio-AGN power and  galaxy stellar mass since z$\\sim$3**  |\n",
       "|| I. Delvecchio, et al. -- incl., <mark>D. Liu</mark> |\n",
       "|*Appeared on*| *2022-09-27*|\n",
       "|*Comments*| *Accepted for publication in A&A. 20 pages + Appendices*|\n",
       "|**Abstract**| Mapping the average AGN luminosity across galaxy populations and over time encapsulates important clues on the interplay between supermassive black hole (SMBH) and galaxy growth. This paper presents the demography, mean power and cosmic evolution of radio AGN across star-forming galaxies (SFGs) of different stellar masses (${M_{*}}$). We exploit deep VLA-COSMOS 3 GHz data to build the rest-frame 1.4 GHz AGN luminosity functions at 0.1$\\leq$$z$$\\leq$4.5 hosted in SFGs. Splitting the AGN luminosity function into different ${M_{*}}$ bins reveals that, at all redshifts, radio AGN are both more frequent and more luminous in higher ${M_*}$ than in lower ${M_*}$ galaxies. The cumulative kinetic luminosity density exerted by radio AGN in SFGs peaks at $z$$\\sim$2, and it is mostly driven by galaxies with 10.5$\\leq$$\\log$(${M_{*}}$/${M_{\\odot}}$)$<$11. Averaging the cumulative radio AGN activity across all SFGs at each (${M_{*}}$,$z$) results in a \"radio-AGN main sequence\" that links the time-averaged radio-AGN power $\\langle$$L_{1.4}^{{AGN}}$$\\rangle$ and galaxy stellar mass, in the form: $\\log$$\\langle$[$L_{1.4}^{{AGN}}$/ W Hz$^{-1}]\\rangle$ = (20.97$\\pm$0.16) + (2.51$\\pm$0.34)$\\cdot$$\\log$(1+$z$) + (1.41$\\pm$0.09)$\\cdot$($\\log$[${M_{*}}$/${M_{\\odot}}$] -10). The super-linear dependence on ${M_{*}}$, at fixed redshift, suggests enhanced radio-AGN activity in more massive SFGs, as compared to star formation. We ascribe this enhancement to both a higher radio AGN duty cycle and a brighter radio-AGN phase in more massive SFGs. A remarkably consistent ${M_{*}}$ dependence is seen for the evolving X-ray AGN population in SFGs. This similarity is interpreted as possibly driven by secular cold gas accretion fueling both radio and X-ray AGN activity in a similar fashion over the galaxy's lifetime. |\n",
       "|<p style=\"color:green\"> **ERROR** </p>| <p style=\"color:green\">affiliation error: mpia.affiliation_verifications: 'Heidelberg' keyword not found.</p> |"
      ],
      "text/plain": [
       "<IPython.core.display.Markdown object>"
      ]
     },
     "metadata": {},
     "output_type": "display_data"
    },
    {
     "data": {
      "text/markdown": [
       "\n",
       "|||\n",
       "|---:|:---|\n",
       "| [![arXiv](https://img.shields.io/badge/arXiv-arXiv:2209.12794-b31b1b.svg)](https://arxiv.org/abs/arXiv:2209.12794) | **Radio interferometric imaging of RS Oph bipolar ejecta for the 2021 nova  outburst**  |\n",
       "|| U. Munari, et al. -- incl., <mark>D.R.A. Williams</mark> |\n",
       "|*Appeared on*| *2022-09-27*|\n",
       "|*Comments*| *A&A Letter to the Editor, in press*|\n",
       "|**Abstract**| The recurrent nova and symbiotic binary RS Oph erupted again in August 2021 for its eighth known outburst. As part of a multi-epoch and frequency campaign, we observed RS Oph 34 days after the outburst at 5 GHz with the European VLBI Network (EVN). The radio image is elongated over the east-west direction for a total extension of about 90 mas (or about 240 AU at the Gaia DR3 distance d=2.68 [-0.15/+0.17] kpc), and shows a bright and compact central component coincident with the Gaia astrometric position, and two lobes east and west of it, expanding perpendicular to the orbital plane. By comparing with the evolution of emission-line profiles on optical spectra, we found the leading edge of the lobes to be expanding at 7550 km/s, and i=54 deg as the orbital inclination of the binary. The 2021 radio structure is remarkably similar to that observed following the 2006 eruption. The obscuring role of the density enhancement on the orbital plane (DEOP) is discussed in connection to the time-dependent visibility of the receding lobe in the background to the DEOP, and the origin of the triple-peaked profiles is traced to the ring structure formed by the nova ejecta impacting the DEOP. |\n",
       "|<p style=\"color:green\"> **ERROR** </p>| <p style=\"color:green\">affiliation error: mpia.affiliation_verifications: 'Heidelberg' keyword not found.</p> |"
      ],
      "text/plain": [
       "<IPython.core.display.Markdown object>"
      ]
     },
     "metadata": {},
     "output_type": "display_data"
    },
    {
     "data": {
      "text/markdown": [
       "\n",
       "|||\n",
       "|---:|:---|\n",
       "| [![arXiv](https://img.shields.io/badge/arXiv-arXiv:2209.12814-b31b1b.svg)](https://arxiv.org/abs/arXiv:2209.12814) | **The ALMA Survey of 70 $μ\\rm m$ Dark High-mass Clumps in Early Stages  (ASHES). VII: Chemistry of Embedded Dense Cores**  |\n",
       "|| <mark>Shanghuo Li</mark>, et al. -- incl., <mark>Chang Won Lee</mark>, <mark>Qizhou Zhang</mark>, <mark>Tie Liu</mark>, <mark>Fei Li</mark> |\n",
       "|*Appeared on*| *2022-09-27*|\n",
       "|*Comments*| *Accepted for Publication in ApJ. 36 pages, 15 figures, 5 tables. Table 5 available at this https URL*|\n",
       "|**Abstract**| We present a study of chemistry toward 294 dense cores in 12 molecular clumps using the data obtained from the ALMA Survey of 70 $\\mu \\rm m$ dark High-mass clumps in Early Stages (ASHES). We identified 97 protostellar cores and 197 prestellar core candidates based on the detection of outflows and molecular transitions of high upper energy levels ($E_{u}/k > 45$ K). The detection rate of the N$_{2}$D$^{+}$ emission toward the protostellar cores is 38%, which is higher than 9% for the prestellar cores, indicating that N$_{2}$D$^{+}$ does not exclusively trace prestellar cores. The detection rates of the DCO$^{+}$ emission are 35% for the prestellar cores and 49% for the protostellar cores, which are higher than those of N$_{2}$D$^{+}$, implying that DCO$^{+}$ appears more frequently than N$_{2}$D$^{+}$ in both prestellar and protostellar cores. Both N$_{2}$D$^{+}$ and DCO$^{+}$ abundances appear to decrease from the prestellar to protostellar stage. The DCN, C$_{2}$D and $^{13}$CS emission lines are rarely seen in the dense cores of early evolutionary phases. The detection rate of the H$_{2}$CO emission toward dense cores is 52%, three times higher than that of CH$_{3}$OH (17%). In addition, the H$_{2}$CO detection rate, abundance, line intensities, and line widths increase with the core evolutionary status, suggesting that the H$_{2}$CO line emission is sensitive to protostellar activity. |\n",
       "|<p style=\"color:green\"> **ERROR** </p>| <p style=\"color:green\">affiliation error: mpia.affiliation_verifications: 'Heidelberg' keyword not found.</p> |"
      ],
      "text/plain": [
       "<IPython.core.display.Markdown object>"
      ]
     },
     "metadata": {},
     "output_type": "display_data"
    },
    {
     "data": {
      "text/markdown": [
       "\n",
       "|||\n",
       "|---:|:---|\n",
       "| [![arXiv](https://img.shields.io/badge/arXiv-arXiv:2209.12850-b31b1b.svg)](https://arxiv.org/abs/arXiv:2209.12850) | **SIT 45: An interacting, compact, and star-forming isolated galaxy  triplet**  |\n",
       "|| D. Grajales-Medina, et al. -- incl., <mark>U. Lisenfeld</mark> |\n",
       "|*Appeared on*| *2022-09-27*|\n",
       "|*Comments*| *13 pages, 7 figures, accepted for publication in Astronomy & Astrophysics*|\n",
       "|**Abstract**| The merging system SIT 45 (UGC 12589) is an unusual isolated galaxy triplet, consisting of three merging late-type galaxies, out of 315 systems in the SIT (SDSS-based catalogue of Isolated Triplets). The main aims of this work are to study its dynamical evolution and star formation history (SFH), as well as its dependence on its local and large-scale environment. To study its dynamics, parameters such as the velocity dispersion ($\\sigma_{v}$), the harmonic radius ($R_{H}$), the crossing time ($H_0t_c$), and the virial mass ($M_{vir}$), along with the compactness of the triplet ($S$) were considered. To constrain the SFH, we used CIGALE to fit its observed spectral energy distribution using multi-wavelength data from the ultraviolet to the infrared. According to its SFH, SIT 45 presents star-formation, where the galaxies also present recent ($\\sim $200 Myr) star-formation increase, indicating that this activity may have been triggered by the interaction. Its dynamical configuration suggests that the system is highly evolved in comparison to the SIT. However this is not expected for systems composed of star-forming late-type galaxies, based on observations in compact groups. We conclude that SIT 45 is a system of three interacting galaxies that are evolving within the same dark matter halo, where its compact configuration is a consequence of the on-going interaction, rather than due to a long-term evolution (as suggested from its $H_0t_c$ value). We consider two scenarios for the present configuration of the triplet, one where one of the members is a tidal galaxy, and another where this galaxy arrives to the system after the interaction. Both scenarios need further exploration. The isolated triplet SIT 45 is therefore an ideal system to study short timescale mechanisms ($\\sim 10^8$ years), such as starbursts triggered by interactions which are more frequent at higher redshift. |\n",
       "|<p style=\"color:green\"> **ERROR** </p>| <p style=\"color:green\">affiliation error: mpia.affiliation_verifications: 'Heidelberg' keyword not found.</p> |"
      ],
      "text/plain": [
       "<IPython.core.display.Markdown object>"
      ]
     },
     "metadata": {},
     "output_type": "display_data"
    },
    {
     "data": {
      "text/markdown": [
       "\n",
       "|||\n",
       "|---:|:---|\n",
       "| [![arXiv](https://img.shields.io/badge/arXiv-arXiv:2209.12422-b31b1b.svg)](https://arxiv.org/abs/arXiv:2209.12422) | **Six More Ultra-Faint Milky Way Companions Discovered in the DECam Local  Volume Exploration Survey**  |\n",
       "|| W. Cerny, et al. -- incl., <mark>C. E. Martínez-Vázquez</mark>, <mark>T. S. Li</mark> |\n",
       "|*Appeared on*| *2022-09-27*|\n",
       "|*Comments*| *30 pages, 12 Figures (including Appendix). Submitted to ApJ. We encourage the reader to also review Smith et al. 2022, \"Discovery of a new Local Group Dwarf Galaxy Candidate in UNIONS: Bo\\\"{o}tes V\" (arxiv: 2209.08242), who independently present the discovery of one of the candidates reported here. We are working to make code and data products available*|\n",
       "|**Abstract**| We report the discovery of six ultra-faint Milky Way satellites discovered through matched-filter searches conducted using Dark Energy Camera (DECam) data processed as part of the second data release of the DECam Local Volume Exploration (DELVE) survey. Leveraging deep Gemini/GMOS-N imaging (for four candidates) as well as follow-up DECam imaging (for two candidates), we characterize the morphologies and stellar populations of these systems. We find that these candidates all share faint absolute magnitudes ($M_{V} \\geq -3.2$ mag) and old, metal-poor stellar populations ($\\tau > 10$ Gyr, [Fe/H] $< -1.4$ dex). Three of these systems are more extended ($r_{1/2} > 15$ pc), while the other three are compact ($r_{1/2} < 10$ pc). From these properties, we infer that the former three systems (Bo\\\"{o}tes V, Leo Minor I, and Virgo II) are consistent with ultra-faint dwarf galaxy classifications, whereas the latter three (DELVE 3, DELVE 4, and DELVE 5) are likely ultra-faint star clusters. Using data from the Gaia satellite, we confidently measure the proper motion of Bo\\\"{o}tes V, Leo Minor I, and DELVE 4, and tentatively detect a proper motion signal from DELVE 3 and DELVE 5; no signal is detected for Virgo II. We use these measurements to explore possible associations between the newly-discovered systems and the Sagittarius dwarf spheroidal, the Magellanic Clouds, and the Vast Polar Structure, finding several plausible associations. Our results offer a preview of the numerous ultra-faint stellar systems that will soon be discovered by the Vera C. Rubin Observatory and highlight the challenges of classifying the faintest stellar systems. |\n",
       "|<p style=\"color:green\"> **ERROR** </p>| <p style=\"color:green\">affiliation error: mpia.affiliation_verifications: 'Planck' keyword not found.</p> |"
      ],
      "text/plain": [
       "<IPython.core.display.Markdown object>"
      ]
     },
     "metadata": {},
     "output_type": "display_data"
    },
    {
     "data": {
      "text/markdown": [
       "\n",
       "|||\n",
       "|---:|:---|\n",
       "| [![arXiv](https://img.shields.io/badge/arXiv-arXiv:2209.11873-b31b1b.svg)](https://arxiv.org/abs/arXiv:2209.11873) | **After DART: Using the first full-scale test of a kinetic impactor to  inform a future planetary defense mission**  |\n",
       "|| Thomas S. Statler, et al. -- incl., <mark>Mallory E. DeCoster</mark>, <mark>Harrison F. Agrusa</mark>, <mark>Alain Herique</mark>, <mark>Isabel Herreros</mark> |\n",
       "|*Appeared on*| *2022-09-27*|\n",
       "|*Comments*| *30 pages, 7 figures. Planetary Science Journal, in press, accepted 2022 September 22*|\n",
       "|**Abstract**| NASA's Double Asteroid Redirection Test (DART) is the first full-scale test of an asteroid deflection technology. Results from the hypervelocity kinetic impact and Earth-based observations, coupled with LICIACube and the later Hera mission, will result in measurement of the momentum transfer efficiency accurate to ~10% and characterization of the Didymos binary system. But DART is a single experiment; how could these results be used in a future planetary defense necessity involving a different asteroid? We examine what aspects of Dimorphos's response to kinetic impact will be constrained by DART results; how these constraints will help refine knowledge of the physical properties of asteroidal materials and predictive power of impact simulations; what information about a potential Earth impactor could be acquired before a deflection effort; and how design of a deflection mission should be informed by this understanding. We generalize the momentum enhancement factor $\\beta$, showing that a particular direction-specific $\\beta$ will be directly determined by the DART results, and that a related direction-specific $\\beta$ is a figure of merit for a kinetic impact mission. The DART $\\beta$ determination constrains the ejecta momentum vector, which, with hydrodynamic simulations, constrains the physical properties of Dimorphos's near-surface. In a hypothetical planetary defense exigency, extrapolating these constraints to a newly discovered asteroid will require Earth-based observations and benefit from in-situ reconnaissance. We show representative predictions for momentum transfer based on different levels of reconnaissance and discuss strategic targeting to optimize the deflection and reduce the risk of a counterproductive deflection in the wrong direction. |\n",
       "|<p style=\"color:red\"> **ERROR** </p>| <p style=\"color:red\">latex error not a gzip file</p> |"
      ],
      "text/plain": [
       "<IPython.core.display.Markdown object>"
      ]
     },
     "metadata": {},
     "output_type": "display_data"
    },
    {
     "data": {
      "text/markdown": [
       "\n",
       "|||\n",
       "|---:|:---|\n",
       "| [![arXiv](https://img.shields.io/badge/arXiv-arXiv:2209.12060-b31b1b.svg)](https://arxiv.org/abs/arXiv:2209.12060) | **The Sky Distribution and Magnitudes of Starlink Satellites by the Year  2027**  |\n",
       "|| <mark>Anthony Mallama</mark> |\n",
       "|*Appeared on*| *2022-09-27*|\n",
       "|*Comments*| **|\n",
       "|**Abstract**| Visual magnitudes and sky coordinates are projected for the full constellation of Starlink satellites. The results are presented in the form of sky maps and numerical tables. Observer latitudes from the equator to 60 degrees are considered. The solar elevations include -12 deg (the end of nautical twilight), -18 deg (the end of astronomical twilight) and -30 deg. |\n",
       "|<p style=\"color:red\"> **ERROR** </p>| <p style=\"color:red\">latex error not a gzip file</p> |"
      ],
      "text/plain": [
       "<IPython.core.display.Markdown object>"
      ]
     },
     "metadata": {},
     "output_type": "display_data"
    },
    {
     "data": {
      "text/markdown": [
       "\n",
       "|||\n",
       "|---:|:---|\n",
       "| [![arXiv](https://img.shields.io/badge/arXiv-arXiv:2209.12199-b31b1b.svg)](https://arxiv.org/abs/arXiv:2209.12199) | **RC100: Rotation Curves of 100 Massive Star-Forming Galaxies at z=0.6-2.5  Reveal Little Dark Matter on Galactic Scales**  |\n",
       "|| A. Nestor Shachar, et al. -- incl., <mark>N.M. Förster Schreiber</mark>, <mark>R.I. Davies</mark>, <mark>R. Herrera-Camus</mark>, <mark>L. L. Lee</mark>, <mark>D. Liu</mark> |\n",
       "|*Appeared on*| *2022-09-27*|\n",
       "|*Comments*| *Submitted to ApJ (34 pages, 12 figures, 4 tables)*|\n",
       "|**Abstract**| We analyze Ha or CO rotation curves (RCs) extending out to several galaxy effective radii for 100 massive, large, star-forming disk galaxies (SFGs) across the peak of cosmic galaxy star formation (z~0.6-2.5), more than doubling the previous sample presented by Genzel et al. (2020) and Price et al. (2021). The observations were taken with SINFONI and KMOS integral-field spectrographs at ESO-VLT, LUCI at LBT, NOEMA at IRAM, and ALMA. We fit the major axis kinematics with beam-convolved, forward models of turbulent rotating disks with bulges embedded in dark matter (DM) halos, including the effects of pressure support. The fraction of dark to total matter within the disk effective radius ($R_e ~ 5 kpc$), $f_DM (R_e)=V_{DM}^2 (R_e)/V_{circ}^2 (R_e)$, decreases with redshift: At z~1 (z~2) the median DM fraction is $0.38\\pm 0.23$ ($0.27\\pm 0.18$), and a third (half) of all galaxies are \"maximal\" disks with $f_{DM} (R_e)<0.28$. Dark matter fractions correlate inversely with the baryonic surface density, and the low DM fractions require a flattened, or cored, inner DM density distribution. At z~2 there is ~40% less dark matter mass on average within $R_e$ compared to expected values based on cosmological stellar-mass halo-mass relations. The DM deficit is more evident at high star formation rate (SFR) surface densities ($\\Sigma_{SFR}>2.5 M_{\\odot} yr^{-1} kpc^{-2}$) and galaxies with massive bulges ($M_{bulge}>10^{10} M_{\\odot}$). A combination of stellar or active galactic nucleus (AGN) feedback, and/or heating due to dynamical friction, either from satellite accretion or clump migration, may drive the DM from cuspy into cored mass distributions. The observations plausibly indicate an efficient build-up of massive bulges and central black holes at z~2 SFGs. |\n",
       "|<p style=\"color:red\"> **ERROR** </p>| <p style=\"color:red\">latex error not a gzip file</p> |"
      ],
      "text/plain": [
       "<IPython.core.display.Markdown object>"
      ]
     },
     "metadata": {},
     "output_type": "display_data"
    }
   ],
   "source": [
    "import datetime\n",
    "today = str(datetime.date.today())\n",
    "logfile = f\"_build/html/logs/log-{today}.md\"\n",
    "\n",
    "\n",
    "with open(logfile, 'w') as logs:\n",
    "    # Success\n",
    "    logs.write(f'# Arxiv on Deck 2: Logs - {today}\\n\\n')\n",
    "    logs.write(\"\"\"* Arxiv had {0:,d} new papers\\n\"\"\".format(len(new_papers)))\n",
    "    logs.write(\"\"\"    * {0:,d} with possible author matches\\n\\n\"\"\".format(len(candidates)))\n",
    "    logs.write(\"## Sucessful papers\\n\\n\")\n",
    "    display(Markdown(\"## Successful papers\"))\n",
    "    success = [k[0] for k in documents]\n",
    "    for candid in candidates:\n",
    "        if candid['identifier'].split(':')[-1] in success:\n",
    "            display(candid)\n",
    "            logs.write(candid.generate_markdown_text() + '\\n\\n')\n",
    "\n",
    "    ## failed\n",
    "    logs.write(\"## Failed papers\\n\\n\")\n",
    "    display(Markdown(\"## Failed papers\"))\n",
    "    failed = sorted(failed, key=lambda x: x[1])\n",
    "    current_reason = \"\"\n",
    "    for paper, reason in failed:\n",
    "        if 'affiliation' in reason:\n",
    "            color = 'green'\n",
    "        else:\n",
    "            color = 'red'\n",
    "        data = Markdown(\n",
    "                paper.generate_markdown_text() + \n",
    "                f'\\n|<p style=\"color:{color:s}\"> **ERROR** </p>| <p style=\"color:{color:s}\">{reason:s}</p> |'\n",
    "               )\n",
    "        if reason != current_reason:\n",
    "            logs.write(f'### {reason:s} \\n\\n')\n",
    "            current_reason = reason\n",
    "        logs.write(data.data + '\\n\\n')\n",
    "        \n",
    "        # only display here the important errors (all in logs)\n",
    "        # if color in ('red',):\n",
    "        display(data)"
   ]
  },
  {
   "cell_type": "markdown",
   "id": "472d20ee",
   "metadata": {
    "papermill": {
     "duration": 0.010383,
     "end_time": "2022-09-27T05:12:51.750142",
     "exception": false,
     "start_time": "2022-09-27T05:12:51.739759",
     "status": "completed"
    },
    "tags": []
   },
   "source": [
    "## Export documents\n",
    "\n",
    "We now write the .md files and export relevant images"
   ]
  },
  {
   "cell_type": "code",
   "execution_count": 7,
   "id": "d426aed9",
   "metadata": {
    "execution": {
     "iopub.execute_input": "2022-09-27T05:12:51.773130Z",
     "iopub.status.busy": "2022-09-27T05:12:51.772375Z",
     "iopub.status.idle": "2022-09-27T05:12:51.780745Z",
     "shell.execute_reply": "2022-09-27T05:12:51.779990Z"
    },
    "papermill": {
     "duration": 0.021893,
     "end_time": "2022-09-27T05:12:51.782374",
     "exception": false,
     "start_time": "2022-09-27T05:12:51.760481",
     "status": "completed"
    },
    "tags": []
   },
   "outputs": [],
   "source": [
    "def export_markdown_summary(md: str, md_fname:str, directory: str):\n",
    "    \"\"\"Export MD document and associated relevant images\"\"\"\n",
    "    import os\n",
    "    import shutil\n",
    "    import re\n",
    "\n",
    "    if (os.path.exists(directory) and not os.path.isdir(directory)):\n",
    "        raise RuntimeError(f\"a non-directory file exists with name {directory:s}\")\n",
    "\n",
    "    if (not os.path.exists(directory)):\n",
    "        print(f\"creating directory {directory:s}\")\n",
    "        os.mkdir(directory)\n",
    "\n",
    "    fig_fnames = (re.compile(r'\\[Fig.*\\]\\((.*)\\)').findall(md) + \n",
    "                  re.compile(r'\\<img src=\"([^>\\s]*)\"[^>]*/>').findall(md))\n",
    "    for fname in fig_fnames:\n",
    "        if 'http' in fname:\n",
    "            # No need to copy online figures\n",
    "            continue\n",
    "        destdir = os.path.join(directory, os.path.dirname(fname))\n",
    "        destfname = os.path.join(destdir, os.path.basename(fname))\n",
    "        try:\n",
    "            os.makedirs(destdir)\n",
    "        except FileExistsError:\n",
    "            pass\n",
    "        shutil.copy(fname, destfname)\n",
    "    with open(os.path.join(directory, md_fname), 'w') as fout:\n",
    "        fout.write(md)\n",
    "    print(\"exported in \", os.path.join(directory, md_fname))\n",
    "    [print(\"    + \" + os.path.join(directory,fk)) for fk in fig_fnames]"
   ]
  },
  {
   "cell_type": "code",
   "execution_count": 8,
   "id": "014d04a4",
   "metadata": {
    "execution": {
     "iopub.execute_input": "2022-09-27T05:12:51.804620Z",
     "iopub.status.busy": "2022-09-27T05:12:51.803969Z",
     "iopub.status.idle": "2022-09-27T05:12:51.811988Z",
     "shell.execute_reply": "2022-09-27T05:12:51.811263Z"
    },
    "papermill": {
     "duration": 0.020994,
     "end_time": "2022-09-27T05:12:51.813608",
     "exception": false,
     "start_time": "2022-09-27T05:12:51.792614",
     "status": "completed"
    },
    "tags": []
   },
   "outputs": [
    {
     "name": "stdout",
     "output_type": "stream",
     "text": [
      "exported in  _build/html/2209.11781.md\n",
      "    + _build/html/tmp_2209.11781/./mini_mom0_maps_13CO.png\n",
      "    + _build/html/tmp_2209.11781/./Moment0_12CO_masked.png\n",
      "    + _build/html/tmp_2209.11781/./Moment0_13CO_masked.png\n",
      "    + _build/html/tmp_2209.11781/./Moment0_C18O_masked.png\n",
      "    + _build/html/tmp_2209.11781/./pv1_12.png\n",
      "    + _build/html/tmp_2209.11781/./pv1_13.png\n",
      "    + _build/html/tmp_2209.11781/./pv_1_18.png\n"
     ]
    }
   ],
   "source": [
    "for paper_id, md in documents:\n",
    "    export_markdown_summary(md, f\"{paper_id:s}.md\", '_build/html/')"
   ]
  },
  {
   "cell_type": "markdown",
   "id": "f087a0a7",
   "metadata": {
    "papermill": {
     "duration": 0.010444,
     "end_time": "2022-09-27T05:12:51.834441",
     "exception": false,
     "start_time": "2022-09-27T05:12:51.823997",
     "status": "completed"
    },
    "tags": []
   },
   "source": [
    "## Display the papers\n",
    "\n",
    "Not necessary but allows for a quick check."
   ]
  },
  {
   "cell_type": "code",
   "execution_count": 9,
   "id": "fd25f625",
   "metadata": {
    "execution": {
     "iopub.execute_input": "2022-09-27T05:12:51.856500Z",
     "iopub.status.busy": "2022-09-27T05:12:51.856041Z",
     "iopub.status.idle": "2022-09-27T05:12:51.861912Z",
     "shell.execute_reply": "2022-09-27T05:12:51.861203Z"
    },
    "papermill": {
     "duration": 0.018827,
     "end_time": "2022-09-27T05:12:51.863544",
     "exception": false,
     "start_time": "2022-09-27T05:12:51.844717",
     "status": "completed"
    },
    "scrolled": false,
    "tags": []
   },
   "outputs": [
    {
     "data": {
      "text/markdown": [
       "<div class=\"macros\" style=\"visibility:hidden;\">\n",
       "$\\newcommand{\\ensuremath}{}$\n",
       "$\\newcommand{\\xspace}{}$\n",
       "$\\newcommand{\\object}[1]{\\texttt{#1}}$\n",
       "$\\newcommand{\\farcs}{{.}''}$\n",
       "$\\newcommand{\\farcm}{{.}'}$\n",
       "$\\newcommand{\\arcsec}{''}$\n",
       "$\\newcommand{\\arcmin}{'}$\n",
       "$\\newcommand{\\ion}[2]{#1#2}$\n",
       "$\\newcommand{\\textsc}[1]{\\textrm{#1}}$\n",
       "$\\newcommand{\\hl}[1]{\\textrm{#1}}$\n",
       "$\\newcommand{\\vdag}{(v)^\\dagger}$\n",
       "$\\newcommand$\n",
       "$\\newcommand$</div>\n",
       "\n",
       "<div class=\"macros\" style=\"visibility:hidden;\">\n",
       "$\\newcommand{$\\ensuremath$}{}$\n",
       "$\\newcommand{$\\xspace$}{}$\n",
       "$\\newcommand{$\\object$}[1]{\\texttt{#1}}$\n",
       "$\\newcommand{$\\farcs$}{{.}''}$\n",
       "$\\newcommand{$\\farcm$}{{.}'}$\n",
       "$\\newcommand{$\\arcsec$}{''}$\n",
       "$\\newcommand{$\\arcmin$}{'}$\n",
       "$\\newcommand{$\\ion$}[2]{#1#2}$\n",
       "$\\newcommand{$\\textsc$}[1]{\\textrm{#1}}$\n",
       "$\\newcommand{$\\hl$}[1]{\\textrm{#1}}$\n",
       "$\\newcommand{$\\vdag$}{(v)^\\dagger}$\n",
       "$\\newcommand$\n",
       "$\\newcommand$</div>\n",
       "\n",
       "\n",
       "\n",
       "<div id=\"title\">\n",
       "\n",
       "# ALMA uncovers highly filamentary structure towards the Sgr E region\n",
       "\n",
       "</div>\n",
       "<div id=\"comments\">\n",
       "\n",
       "[![arXiv](https://img.shields.io/badge/arXiv-2209.11781-b31b1b.svg)](https://arxiv.org/abs/2209.11781)<mark>Appeared on: 2022-09-27</mark> - _20 pages, 17 figures, accepted for publication in ApJ_\n",
       "\n",
       "</div>\n",
       "<div id=\"authors\">\n",
       "\n",
       "J. Wallace, et al. -- incl., <mark>J. D. Henshaw</mark>\n",
       "\n",
       "</div>\n",
       "<div id=\"abstract\">\n",
       "\n",
       "**Abstract:** We report on the discovery of linear filaments observed in CO(1-0) emission for a$\\sim2$\\arcmin$$field of view toward the Sgr E star forming region centered at$(l,b)=(358.720\\degree, 0.011\\degree$). The Sgr E region is thought to be at the turbulent intersection of the \"far dust lane\" associated with the Galactic bar and the Central Molecular Zone (CMZ). This region is subject to strong accelerations which are generally thought to inhibit star formation, yet Sgr E contains a large number of HII regions.  We present$^{12}$CO(1-0),$^{13}$CO(1-0), and C$^{18}$O(1-0) spectral line observations from ALMA and provide measurements of the physical and kinematic properties for two of the brightest filaments. These filaments have widths (FWHM) of$\\sim0.1$pc and are oriented nearly parallel to the Galactic plane, with angles from the Galactic plane of$\\sim2\\degree$. The filaments are elongated, with lower limit aspect ratios of$\\sim$5:1. For both filaments we detect two distinct velocity components that are separated by about 15 km s$^{-1}$. In the C$^{18}$O spectral line data with$\\sim$0.09 pc spatial resolution,  we find that these velocity components have relatively narrow ($\\sim$1-2 km s$^{-1}$) FWHM linewidths when compared to other sources towards the Galactic center. The properties of these filaments suggest that the gas in the Sgr E complex is being \"stretched\" as it is rapidly accelerated by the gravitational field of the Galactic bar while falling towards the CMZ, a result that could provide insight into the extreme environment surrounding this region and the large-scale processes which fuel this environment.\n",
       "\n",
       "</div>\n",
       "\n",
       "<div id=\"div_fig1\">\n",
       "\n",
       "<img src=\"tmp_2209.11781/./mini_mom0_maps_13CO.png\" alt=\"Fig12\" width=\"100%\"/>\n",
       "\n",
       "**Figure 12. -** Integrated intensity (moment 0) maps from the $^{13}$CO data cube. Each image shows the integrated intensity over a range of 5 km s$^{-1}$. The specific velocity ranges are indicated above each image. The top, orange contour indicates the region we define for filament 1, while the bottom, blue contour indicates the filament 2 region. The beam is indicated in the lower right corner of each channel map.  (*fig:mini_mom0*)\n",
       "\n",
       "</div>\n",
       "<div id=\"div_fig2\">\n",
       "\n",
       "<img src=\"tmp_2209.11781/./Moment0_12CO_masked.png\" alt=\"Fig3.1\" width=\"33%\"/><img src=\"tmp_2209.11781/./Moment0_13CO_masked.png\" alt=\"Fig3.2\" width=\"33%\"/><img src=\"tmp_2209.11781/./Moment0_C18O_masked.png\" alt=\"Fig3.3\" width=\"33%\"/>\n",
       "\n",
       "**Figure 3. -** Spatially masked moment 0 maps generated from data in the velocity range of -197 km s$^{-1}$ to -231 km s$^{-1}$ for $^{12}$CO (\\textit{top}), $^{13}$CO (\\textit{middle}), and C$^{18}$O (\\textit{bottom}). In the $^{12}$CO image, the orange line represents the filament 1 \\textit{p-v} slice path,  while the blue line represents the filament 2 \\textit{p-v} slice path. For each image, the beam is indicated in the lower right corner. (*fig:mom0*)\n",
       "\n",
       "</div>\n",
       "<div id=\"div_fig3\">\n",
       "\n",
       "<img src=\"tmp_2209.11781/./pv1_12.png\" alt=\"Fig6.1\" width=\"33%\"/><img src=\"tmp_2209.11781/./pv1_13.png\" alt=\"Fig6.2\" width=\"33%\"/><img src=\"tmp_2209.11781/./pv_1_18.png\" alt=\"Fig6.3\" width=\"33%\"/>\n",
       "\n",
       "**Figure 6. -** The filament 1 position-velocity diagrams for $^{12}$CO (\\textit{top)}, $^{13}$CO (\\textit{middle}), and  C$^{18}$O (\\textit{bottom)}, respectively. The $p-v$ slice starts on the end of the filament that is closer to the Galactic center, so the offset represents the distance along the $p-v$ slice as we move from left to right along the filament 1 spine (see Figure \\ref{fig:mom0}). (*fig:PV_fil_1*)\n",
       "\n",
       "</div>"
      ],
      "text/plain": [
       "<IPython.core.display.Markdown object>"
      ]
     },
     "metadata": {},
     "output_type": "display_data"
    }
   ],
   "source": [
    "[display(Markdown(k[1])) for k in documents];"
   ]
  },
  {
   "cell_type": "markdown",
   "id": "873873a4",
   "metadata": {
    "papermill": {
     "duration": 0.010816,
     "end_time": "2022-09-27T05:12:51.885040",
     "exception": false,
     "start_time": "2022-09-27T05:12:51.874224",
     "status": "completed"
    },
    "tags": []
   },
   "source": [
    "# Create HTML index"
   ]
  },
  {
   "cell_type": "code",
   "execution_count": 10,
   "id": "cf665672",
   "metadata": {
    "execution": {
     "iopub.execute_input": "2022-09-27T05:12:51.910229Z",
     "iopub.status.busy": "2022-09-27T05:12:51.908561Z",
     "iopub.status.idle": "2022-09-27T05:12:51.919420Z",
     "shell.execute_reply": "2022-09-27T05:12:51.918705Z"
    },
    "papermill": {
     "duration": 0.025738,
     "end_time": "2022-09-27T05:12:51.921263",
     "exception": false,
     "start_time": "2022-09-27T05:12:51.895525",
     "status": "completed"
    },
    "tags": []
   },
   "outputs": [
    {
     "name": "stdout",
     "output_type": "stream",
     "text": [
      "45  publications in the last 7 days.\n",
      "\t _build/html/2209.11781.md\n",
      "\t _build/html/2209.11602.md\n",
      "\t _build/html/2209.11248.md\n",
      "\t _build/html/2209.11096.md\n",
      "\t _build/html/2209.10618.md\n",
      "\t _build/html/2209.09914.md\n",
      "\t _build/html/2209.09823.md\n",
      "\t _build/html/2209.08242.md\n",
      "\t _build/html/2209.08120.md\n",
      "\t _build/html/2209.08106.md\n",
      "\t _build/html/2209.07962.md\n",
      "\t _build/html/2209.07931.md\n",
      "\t _build/html/2209.06833.md\n",
      "\t _build/html/2209.05814.md\n",
      "\t _build/html/2209.05593.md\n",
      "\t _build/html/2209.04304.md\n",
      "\t _build/html/2209.03367.md\n",
      "\t _build/html/2209.02872.md\n",
      "\t _build/html/2209.02725.md\n",
      "\t _build/html/2209.02722.md\n",
      "\t _build/html/2209.02092.md\n",
      "\t _build/html/2209.01125.md\n",
      "\t _build/html/2209.00828.md\n",
      "\t _build/html/2209.00363.md\n",
      "\t _build/html/2208.14927.md\n",
      "\t _build/html/2208.09335.md\n",
      "\t _build/html/2208.08872.md\n",
      "\t _build/html/2204.06393.md\n",
      "\t _build/html/2204.03335.md\n",
      "\t _build/html/2204.03253.md\n",
      "\t _build/html/2204.02998.md\n",
      "\t _build/html/2204.02109.md\n",
      "\t _build/html/2204.02017.md\n",
      "\t _build/html/2204.01824.md\n",
      "\t _build/html/2204.01758.md\n",
      "\t _build/html/2204.01245.md\n",
      "\t _build/html/2204.00793.md\n",
      "\t _build/html/2204.00342.md\n",
      "\t _build/html/2203.16959.md\n",
      "\t _build/html/2203.16856.md\n",
      "\t _build/html/2203.16735.md\n",
      "\t _build/html/2203.16734.md\n",
      "\t _build/html/2203.16504.md\n",
      "\t _build/html/2203.15822.md\n",
      "\t _build/html/2203.15811.md\n"
     ]
    }
   ],
   "source": [
    "from datetime import datetime, timedelta, timezone\n",
    "from glob import glob\n",
    "\n",
    "files = glob('_build/html/*.md')\n",
    "days = 7\n",
    "now = datetime.today()\n",
    "res = []\n",
    "for fk in files:\n",
    "    stat_result = os.stat(fk).st_ctime\n",
    "    modified = datetime.fromtimestamp(stat_result, tz=timezone.utc).replace(tzinfo=None)\n",
    "    delta = now.today() - modified\n",
    "    if delta <= timedelta(days=days):\n",
    "        res.append((delta.seconds, fk))\n",
    "res = [k[1] for k in reversed(sorted(res, key=lambda x:x[1]))]\n",
    "npub = len(res)\n",
    "print(len(res), f\" publications in the last {days:d} days.\")\n",
    "[ print('\\t', k) for k in res ];"
   ]
  },
  {
   "cell_type": "code",
   "execution_count": 11,
   "id": "52ca0208",
   "metadata": {
    "execution": {
     "iopub.execute_input": "2022-09-27T05:12:51.944290Z",
     "iopub.status.busy": "2022-09-27T05:12:51.943823Z",
     "iopub.status.idle": "2022-09-27T05:12:51.950275Z",
     "shell.execute_reply": "2022-09-27T05:12:51.949548Z"
    },
    "papermill": {
     "duration": 0.020067,
     "end_time": "2022-09-27T05:12:51.951947",
     "exception": false,
     "start_time": "2022-09-27T05:12:51.931880",
     "status": "completed"
    },
    "scrolled": false,
    "tags": []
   },
   "outputs": [],
   "source": [
    "def create_carousel(npub=4):\n",
    "    \"\"\" Generate the HTML code for a carousel with `npub` slides \"\"\"\n",
    "    carousel = [\"\"\"<section class=\"carousel\" aria-label=\"Gallery\">\"\"\",\n",
    "                \"\"\"  <ol class=\"carousel__viewport\">\"\"\",\n",
    "    ]\n",
    "    for k in range(1, npub + 1):\n",
    "        prev_ = k - 1\n",
    "        next_ = k + 1\n",
    "        if prev_ <= 0:\n",
    "            prev_ = npub\n",
    "        if next_ > npub:\n",
    "            next_ = 1\n",
    "        text  = f\"\"\"    <li id=\"carousel__slide{k}\" tabindex=\"0\" class=\"carousel__slide\">\\n\"\"\"\n",
    "        text += f\"\"\"       <div class=\"carousel__snapper\">\\n\"\"\"\n",
    "        text += f\"\"\"         <a href=\"#carousel__slide{prev_}\" class=\"carousel__prev\">Go to previous slide</a>\\n\"\"\"\n",
    "        text += f\"\"\"         <a href=\"#carousel__slide{next_}\" class=\"carousel__next\">Go to next slide</a>\\n\"\"\"\n",
    "        text += f\"\"\"         <div id=\"slide{k}_content\" class=\"md_view\" >Content {k}</div>\\n\"\"\"\n",
    "        text += f\"\"\"       </div>\\n\"\"\"\n",
    "        text += f\"\"\"    </li>\"\"\"\n",
    "        carousel.append(text)\n",
    "\n",
    "    carousel.extend([\n",
    "        \"\"\"  </ol>\"\"\",\n",
    "        \"\"\"  <aside class=\"carousel__navigation\">\"\"\",\n",
    "        \"\"\"    <ol class=\"carousel__navigation-list\">\"\"\"])\n",
    "\n",
    "    for k in range(1, npub + 1):\n",
    "        text  = f\"\"\"      <li class=\"carousel__navigation-item\">\\n\"\"\"\n",
    "        text += f\"\"\"        <a href=\"#carousel__slide{k}\" class=\"carousel__navigation-button\">Go to {k}</a>\\n\"\"\"\n",
    "        text += f\"\"\"      </li>\"\"\"\n",
    "        carousel.append(text)\n",
    "    carousel.extend([\"\"\"    </ol>\"\"\", \"\"\"  </aside>\"\"\", \"\"\"</section>\"\"\"])\n",
    "\n",
    "    return '\\n'.join(carousel)"
   ]
  },
  {
   "cell_type": "code",
   "execution_count": 12,
   "id": "a6eac5b6",
   "metadata": {
    "execution": {
     "iopub.execute_input": "2022-09-27T05:12:52.013447Z",
     "iopub.status.busy": "2022-09-27T05:12:52.012939Z",
     "iopub.status.idle": "2022-09-27T05:12:52.021740Z",
     "shell.execute_reply": "2022-09-27T05:12:52.020981Z"
    },
    "papermill": {
     "duration": 0.025015,
     "end_time": "2022-09-27T05:12:52.023443",
     "exception": false,
     "start_time": "2022-09-27T05:12:51.998428",
     "status": "completed"
    },
    "scrolled": false,
    "tags": []
   },
   "outputs": [],
   "source": [
    "carousel = create_carousel(npub)\n",
    "docs = ', '.join(['\"{0:s}\"'.format(k.split('/')[-1]) for k in res])\n",
    "slides = ', '.join([f'\"slide{k}_content\"' for k in range(1, npub + 1)])\n",
    "\n",
    "script = f\"\"\"\n",
    "const docs = [{docs}]\n",
    "\n",
    "const slides = [{slides}]\n",
    "\"\"\" + \"\"\"\n",
    "async function run() {\n",
    "    for (let i = 0; i < docs.length; i++) {\n",
    "        let file = await fetch(docs[i]);\n",
    "        let text = await file.text()\n",
    "        document.getElementById(slides[i]).innerHTML =\n",
    "            marked.parse(text);\n",
    "    }\n",
    "    hljs.highlightAll();\n",
    "}\n",
    "run()\n",
    "\"\"\"\n",
    "\n",
    "page = f\"\"\"<!doctype html>\n",
    "<html lang=\"en\">\n",
    "\n",
    "<head>\n",
    "  <meta charset=\"utf-8\">\n",
    "  <meta name=\"viewport\" content=\"width=device-width, initial-scale=1\">\n",
    "  <!-- Bootstrap CSS -->\n",
    "  <link href=\"https://cdn.jsdelivr.net/npm/bootstrap@5.0.2/dist/css/bootstrap.min.css\" rel=\"stylesheet\"\n",
    "   integrity=\"sha384-EVSTQN3/azprG1Anm3QDgpJLIm9Nao0Yz1ztcQTwFspd3yD65VohhpuuCOmLASjC\" crossorigin=\"anonymous\">\n",
    "  <!-- highlight.js CSS -->\n",
    "  <link rel=\"stylesheet\" href=\"https://cdnjs.cloudflare.com/ajax/libs/highlight.js/11.1.0/styles/default.min.css\">\n",
    "  <!-- Mathjax 3 -->\n",
    "  <script type=\"text/javascript\" id=\"MathJax-config\" src=\"mathjax_config.js\"> </script>\n",
    "  <script type=\"text/javascript\" id=\"MathJax-script\" async \n",
    "    src=\"https://cdn.jsdelivr.net/npm/mathjax@3/es5/tex-mml-chtml.js\">\n",
    "  </script>\n",
    "  <link rel=\"stylesheet\" href=\"index_carousel.css\">\n",
    "  <link rel=\"icon\" type=\"image/x-icon\" href=\"https://www.mpia.de/assets/touch-icon-32x32-a66937bcebc4e8894ebff1f41a366c7c7220fd97a38869ee0f2db65a9f59b6c1.png\">\n",
    "  <title>MPIA Arxiv on deck!</title>\n",
    "</head>\n",
    "\n",
    "<body>\n",
    "  <div id=\"header\"> <img src=\"header_banner.png\" width=\"100%\"></div>\n",
    "  <div id=\"suptitle\"> 7-day archives </div>\n",
    "  <div id=\"info\">\n",
    "    <img src=\"https://pngimg.com/uploads/github/github_PNG58.png\" height=30rem></img>\n",
    "    <a href=https://github.com/mpi-astronomy/arxiv_display style=\"color:black;\">github/mpi-astronomy/arxiv_display</a> \n",
    "  </div>\n",
    "  {carousel:s}\n",
    "</body>\n",
    "\n",
    "<!-- Render Markdown -->\n",
    "\n",
    "<body>\n",
    "  <!-- highlight.js: https://highlightjs.org/download/ -->\n",
    "  <script src=\"https://cdnjs.cloudflare.com/ajax/libs/highlight.js/11.5.0/highlight.min.js\"></script>\n",
    "  <!-- marked.js -->\n",
    "  <script src=\"https://cdn.jsdelivr.net/npm/marked/marked.min.js\"></script>\n",
    "  <script>{script:s}</script>\n",
    "</body>\n",
    "</html>\n",
    "\"\"\"\n",
    "with open(\"_build/html/index_7days.html\", 'w') as fout:\n",
    "    fout.write(page)"
   ]
  },
  {
   "cell_type": "markdown",
   "id": "1cebacbc",
   "metadata": {
    "papermill": {
     "duration": 0.010733,
     "end_time": "2022-09-27T05:12:52.045427",
     "exception": false,
     "start_time": "2022-09-27T05:12:52.034694",
     "status": "completed"
    },
    "tags": []
   },
   "source": [
    "# Debugging papers"
   ]
  },
  {
   "cell_type": "raw",
   "id": "debe7cc6",
   "metadata": {
    "papermill": {
     "duration": 0.010696,
     "end_time": "2022-09-27T05:12:52.066787",
     "exception": false,
     "start_time": "2022-09-27T05:12:52.056091",
     "status": "completed"
    },
    "tags": []
   },
   "source": [
    "raise NotImplementedError(\"Manual Stop\")"
   ]
  },
  {
   "cell_type": "raw",
   "id": "eb169192",
   "metadata": {
    "papermill": {
     "duration": 0.010708,
     "end_time": "2022-09-27T05:12:52.088078",
     "exception": false,
     "start_time": "2022-09-27T05:12:52.077370",
     "status": "completed"
    },
    "scrolled": true,
    "tags": []
   },
   "source": [
    "from IPython.display import display, Markdown\n",
    "from TexSoup import TexSoup\n",
    "import re\n",
    "\n",
    "def bracket_error(source: str):\n",
    "    \"\"\" Find problematic portions of the document \"\"\"\n",
    "    \n",
    "    print(\"len(source)\", len(source))\n",
    "    \n",
    "    # Checking header\n",
    "    begin_doc = next(re.finditer(r'\\\\begin\\{document\\}', doc.source)).span()[1]\n",
    "    header = source[:begin_doc]\n",
    "    text = header + r\"\\n\\end{document}\"\n",
    "\n",
    "    try:\n",
    "        # print(\"Header check... \", end='')\n",
    "        TexSoup(text)\n",
    "        display(Markdown(f\"**[OK]** - Header\"))\n",
    "    except:\n",
    "        raise RuntimeError(\"Error in the header\")\n",
    "        \n",
    "    # Check the text per section until the end.\n",
    "    # Do not stop and try them all.\n",
    "    \n",
    "    problematic_text = []\n",
    "    \n",
    "    sections = ([(0, begin_doc, 'until first section')] + \n",
    "                [(g.span()[0], g.span()[1], g.group()) for g in re.finditer(r'\\\\section\\{.*\\}', source)] +\n",
    "                [(g.span()[0], g.span()[1], g.group()) for g in re.finditer(r'\\\\begin\\{appendix\\}', source)]\n",
    "               )\n",
    "    sections.append([len(source), len(source), 'end'])\n",
    "    \n",
    "    sections = sorted(sections, key=lambda x: x[0])\n",
    "    \n",
    "    prev_pos, prev_name = (0, 'header')\n",
    "    parsed = []\n",
    "    \n",
    "    for span, span_end, name in sections:\n",
    "\n",
    "        if span - prev_pos <= 0:\n",
    "            continue\n",
    "            \n",
    "\n",
    "        text = source[prev_pos:span]\n",
    "        if prev_pos > begin_doc:\n",
    "            text = r\"\\n\\begin{document}\" + text + r\"\\n\\end{document}\"\n",
    "        else:\n",
    "            text = text + r\"\\n\\end{document}\"\n",
    "        try:\n",
    "            #print(f\"{prev_pos}:{prev_name}-->{span}:{name} check... \", end='')\n",
    "            parsed.append(TexSoup(text, tolerance=1))  # allow not ending env\n",
    "            display(Markdown(f\"**[OK]** - *{prev_pos}*:{prev_name} &rarr; *{span}*:{name}\"))\n",
    "            # print(\"ok\")\n",
    "\n",
    "            prev_pos = span\n",
    "            prev_name = name\n",
    "        except:\n",
    "            # print(f\"error between {prev_pos} and {span}\")\n",
    "            display(Markdown(f\"**[ERR]** *{prev_pos}*:{prev_name} &rarr; *{span}*:{name}\"))\n",
    "            problematic_text.append((prev_pos, source[prev_pos:span]))\n",
    "            prev_pos = span\n",
    "            prev_name = name\n",
    "            # raise\n",
    "    return problematic_text, parsed\n",
    "\n",
    "\n",
    "def check_environment(text, offset=0):\n",
    "    \"\"\" Check environment \"\"\"\n",
    "    env = re.compile(r\"\\\\begin\\{(?P<env>.*)\\}(.*)\\\\end\\{(?P=env)\\}\", re.DOTALL)\n",
    "\n",
    "    for match in env.finditer(text):\n",
    "        beg, end = match.span()\n",
    "        beg += offset\n",
    "        end += offset\n",
    "        envname = match.groups()[0]\n",
    "        try:\n",
    "            latex.TexSoup(match.group())\n",
    "        except Exception as e:\n",
    "            display(e)\n",
    "            print(f\"Error in {envname:s} between {beg} and {end}\")\n",
    "            return match.groups()[1], beg, end"
   ]
  },
  {
   "cell_type": "raw",
   "id": "2315e835",
   "metadata": {
    "papermill": {
     "duration": 0.010967,
     "end_time": "2022-09-27T05:12:52.109861",
     "exception": false,
     "start_time": "2022-09-27T05:12:52.098894",
     "status": "completed"
    },
    "scrolled": false,
    "tags": []
   },
   "source": [
    "import importlib\n",
    "importlib.reload(latex)\n",
    "which = \"2204.03253\"\n",
    "paper_id = f'{which:s}'\n",
    "folder = f'tmp_{paper_id:s}'\n",
    "\n",
    "if not os.path.isdir(folder):\n",
    "    folder = retrieve_document_source(f\"{paper_id}\", f'tmp_{paper_id}')\n",
    "\n",
    "try:\n",
    "    doc = latex.LatexDocument(folder, validation=validation)    \n",
    "except AffiliationError as affilerror:\n",
    "    msg = f\"ArXiv:{paper_id:s} is not an MPIA paper... \" + str(affilerror)\n",
    "    print(msg)\n",
    "\n",
    "\n",
    "# Hack because sometimes author parsing does not work well\n",
    "if (len(doc.authors) != len(paper['authors'])):\n",
    "    doc._authors = paper['authors']\n",
    "if (doc.abstract) in (None, ''):\n",
    "    doc._abstract = paper['abstract']\n",
    "\n",
    "doc.comment = get_markdown_badge(paper_id) + \" _\" + paper['comments'] + \"_\"\n",
    "doc.highlight_authors_in_list(hl_list)\n",
    "\n",
    "full_md = doc.generate_markdown_text()"
   ]
  },
  {
   "cell_type": "raw",
   "id": "dd3781db",
   "metadata": {
    "papermill": {
     "duration": 0.010678,
     "end_time": "2022-09-27T05:12:52.131291",
     "exception": false,
     "start_time": "2022-09-27T05:12:52.120613",
     "status": "completed"
    },
    "scrolled": false,
    "tags": []
   },
   "source": [
    "doc"
   ]
  },
  {
   "cell_type": "raw",
   "id": "c6eed834",
   "metadata": {
    "papermill": {
     "duration": 0.014973,
     "end_time": "2022-09-27T05:12:52.157163",
     "exception": false,
     "start_time": "2022-09-27T05:12:52.142190",
     "status": "completed"
    },
    "tags": []
   },
   "source": [
    "# [check_environment(k) for k in bracket_error(doc.source)]\n",
    "_, _, a = latex.get_content_per_section(doc.source, verbose=True)\n",
    "if not a:\n",
    "    print(\"no issues per section\")\n",
    "for ak in a:\n",
    "    r = check_environment(ak[1], offset=ak[0])\n",
    "    print(r[1], r[2])\n",
    "    print(r[0])"
   ]
  },
  {
   "cell_type": "code",
   "execution_count": null,
   "id": "71ce768a",
   "metadata": {
    "papermill": {
     "duration": 0.01083,
     "end_time": "2022-09-27T05:12:52.178846",
     "exception": false,
     "start_time": "2022-09-27T05:12:52.168016",
     "status": "completed"
    },
    "tags": []
   },
   "outputs": [],
   "source": []
  }
 ],
 "metadata": {
  "kernelspec": {
   "display_name": "Python 3.10.6 64-bit",
   "language": "python",
   "name": "python3"
  },
  "language_info": {
   "codemirror_mode": {
    "name": "ipython",
    "version": 3
   },
   "file_extension": ".py",
   "mimetype": "text/x-python",
   "name": "python",
   "nbconvert_exporter": "python",
   "pygments_lexer": "ipython3",
   "version": "3.9.14"
  },
  "papermill": {
   "default_parameters": {},
   "duration": 173.815065,
   "end_time": "2022-09-27T05:12:52.407816",
   "environment_variables": {},
   "exception": null,
   "input_path": "MPIA daily digest.ipynb",
   "output_path": "log.ipynb",
   "parameters": {},
   "start_time": "2022-09-27T05:09:58.592751",
   "version": "2.4.0"
  },
  "vscode": {
   "interpreter": {
    "hash": "e7370f93d1d0cde622a1f8e1c04877d8463912d04d973331ad4851f04de6915a"
   }
  },
  "widgets": {
   "application/vnd.jupyter.widget-state+json": {
    "state": {
     "24cbeb3de23d464ba878eb897f81c01c": {
      "model_module": "@jupyter-widgets/base",
      "model_module_version": "2.0.0",
      "model_name": "LayoutModel",
      "state": {
       "_model_module": "@jupyter-widgets/base",
       "_model_module_version": "2.0.0",
       "_model_name": "LayoutModel",
       "_view_count": null,
       "_view_module": "@jupyter-widgets/base",
       "_view_module_version": "2.0.0",
       "_view_name": "LayoutView",
       "align_content": null,
       "align_items": null,
       "align_self": null,
       "border_bottom": null,
       "border_left": null,
       "border_right": null,
       "border_top": null,
       "bottom": null,
       "display": null,
       "flex": null,
       "flex_flow": null,
       "grid_area": null,
       "grid_auto_columns": null,
       "grid_auto_flow": null,
       "grid_auto_rows": null,
       "grid_column": null,
       "grid_gap": null,
       "grid_row": null,
       "grid_template_areas": null,
       "grid_template_columns": null,
       "grid_template_rows": null,
       "height": null,
       "justify_content": null,
       "justify_items": null,
       "left": null,
       "margin": null,
       "max_height": null,
       "max_width": null,
       "min_height": null,
       "min_width": null,
       "object_fit": null,
       "object_position": null,
       "order": null,
       "overflow": null,
       "padding": null,
       "right": null,
       "top": null,
       "visibility": null,
       "width": null
      }
     },
     "25a45d36dafa428f8c6ab454c4311099": {
      "model_module": "@jupyter-widgets/controls",
      "model_module_version": "2.0.0",
      "model_name": "ProgressStyleModel",
      "state": {
       "_model_module": "@jupyter-widgets/controls",
       "_model_module_version": "2.0.0",
       "_model_name": "ProgressStyleModel",
       "_view_count": null,
       "_view_module": "@jupyter-widgets/base",
       "_view_module_version": "2.0.0",
       "_view_name": "StyleView",
       "bar_color": null,
       "description_width": ""
      }
     },
     "59b2bb5383264ae893cb9d422b2b6bbd": {
      "model_module": "@jupyter-widgets/controls",
      "model_module_version": "2.0.0",
      "model_name": "HBoxModel",
      "state": {
       "_dom_classes": [],
       "_model_module": "@jupyter-widgets/controls",
       "_model_module_version": "2.0.0",
       "_model_name": "HBoxModel",
       "_view_count": null,
       "_view_module": "@jupyter-widgets/controls",
       "_view_module_version": "2.0.0",
       "_view_name": "HBoxView",
       "box_style": "",
       "children": [
        "IPY_MODEL_d46ed7ad89c948419639df413f3789b7",
        "IPY_MODEL_69857fb0a31046a8a615cad677da3a3d",
        "IPY_MODEL_be617f4342dd44e98b737e5b75fa82be"
       ],
       "layout": "IPY_MODEL_d1f0eaf87a1c47b88435bed381dbb5d9",
       "tabbable": null,
       "tooltip": null
      }
     },
     "69857fb0a31046a8a615cad677da3a3d": {
      "model_module": "@jupyter-widgets/controls",
      "model_module_version": "2.0.0",
      "model_name": "FloatProgressModel",
      "state": {
       "_dom_classes": [],
       "_model_module": "@jupyter-widgets/controls",
       "_model_module_version": "2.0.0",
       "_model_name": "FloatProgressModel",
       "_view_count": null,
       "_view_module": "@jupyter-widgets/controls",
       "_view_module_version": "2.0.0",
       "_view_name": "ProgressView",
       "bar_style": "success",
       "description": "",
       "description_allow_html": false,
       "layout": "IPY_MODEL_efc7c975a8a9429fa770144a575d3fda",
       "max": 27.0,
       "min": 0.0,
       "orientation": "horizontal",
       "style": "IPY_MODEL_25a45d36dafa428f8c6ab454c4311099",
       "tabbable": null,
       "tooltip": null,
       "value": 27.0
      }
     },
     "7724554084fc499691d4b3c4960b701a": {
      "model_module": "@jupyter-widgets/base",
      "model_module_version": "2.0.0",
      "model_name": "LayoutModel",
      "state": {
       "_model_module": "@jupyter-widgets/base",
       "_model_module_version": "2.0.0",
       "_model_name": "LayoutModel",
       "_view_count": null,
       "_view_module": "@jupyter-widgets/base",
       "_view_module_version": "2.0.0",
       "_view_name": "LayoutView",
       "align_content": null,
       "align_items": null,
       "align_self": null,
       "border_bottom": null,
       "border_left": null,
       "border_right": null,
       "border_top": null,
       "bottom": null,
       "display": null,
       "flex": null,
       "flex_flow": null,
       "grid_area": null,
       "grid_auto_columns": null,
       "grid_auto_flow": null,
       "grid_auto_rows": null,
       "grid_column": null,
       "grid_gap": null,
       "grid_row": null,
       "grid_template_areas": null,
       "grid_template_columns": null,
       "grid_template_rows": null,
       "height": null,
       "justify_content": null,
       "justify_items": null,
       "left": null,
       "margin": null,
       "max_height": null,
       "max_width": null,
       "min_height": null,
       "min_width": null,
       "object_fit": null,
       "object_position": null,
       "order": null,
       "overflow": null,
       "padding": null,
       "right": null,
       "top": null,
       "visibility": null,
       "width": null
      }
     },
     "9bf3e4d2030c489c8911ec7e490f6012": {
      "model_module": "@jupyter-widgets/controls",
      "model_module_version": "2.0.0",
      "model_name": "HTMLStyleModel",
      "state": {
       "_model_module": "@jupyter-widgets/controls",
       "_model_module_version": "2.0.0",
       "_model_name": "HTMLStyleModel",
       "_view_count": null,
       "_view_module": "@jupyter-widgets/base",
       "_view_module_version": "2.0.0",
       "_view_name": "StyleView",
       "background": null,
       "description_width": "",
       "font_size": null,
       "text_color": null
      }
     },
     "be617f4342dd44e98b737e5b75fa82be": {
      "model_module": "@jupyter-widgets/controls",
      "model_module_version": "2.0.0",
      "model_name": "HTMLModel",
      "state": {
       "_dom_classes": [],
       "_model_module": "@jupyter-widgets/controls",
       "_model_module_version": "2.0.0",
       "_model_name": "HTMLModel",
       "_view_count": null,
       "_view_module": "@jupyter-widgets/controls",
       "_view_module_version": "2.0.0",
       "_view_name": "HTMLView",
       "description": "",
       "description_allow_html": false,
       "layout": "IPY_MODEL_7724554084fc499691d4b3c4960b701a",
       "placeholder": "​",
       "style": "IPY_MODEL_ff6ce4f0d8d94df58ab5c59d8de30374",
       "tabbable": null,
       "tooltip": null,
       "value": " 27/27 [02:25&lt;00:00,  3.80s/it]"
      }
     },
     "d1f0eaf87a1c47b88435bed381dbb5d9": {
      "model_module": "@jupyter-widgets/base",
      "model_module_version": "2.0.0",
      "model_name": "LayoutModel",
      "state": {
       "_model_module": "@jupyter-widgets/base",
       "_model_module_version": "2.0.0",
       "_model_name": "LayoutModel",
       "_view_count": null,
       "_view_module": "@jupyter-widgets/base",
       "_view_module_version": "2.0.0",
       "_view_name": "LayoutView",
       "align_content": null,
       "align_items": null,
       "align_self": null,
       "border_bottom": null,
       "border_left": null,
       "border_right": null,
       "border_top": null,
       "bottom": null,
       "display": null,
       "flex": null,
       "flex_flow": null,
       "grid_area": null,
       "grid_auto_columns": null,
       "grid_auto_flow": null,
       "grid_auto_rows": null,
       "grid_column": null,
       "grid_gap": null,
       "grid_row": null,
       "grid_template_areas": null,
       "grid_template_columns": null,
       "grid_template_rows": null,
       "height": null,
       "justify_content": null,
       "justify_items": null,
       "left": null,
       "margin": null,
       "max_height": null,
       "max_width": null,
       "min_height": null,
       "min_width": null,
       "object_fit": null,
       "object_position": null,
       "order": null,
       "overflow": null,
       "padding": null,
       "right": null,
       "top": null,
       "visibility": null,
       "width": null
      }
     },
     "d46ed7ad89c948419639df413f3789b7": {
      "model_module": "@jupyter-widgets/controls",
      "model_module_version": "2.0.0",
      "model_name": "HTMLModel",
      "state": {
       "_dom_classes": [],
       "_model_module": "@jupyter-widgets/controls",
       "_model_module_version": "2.0.0",
       "_model_name": "HTMLModel",
       "_view_count": null,
       "_view_module": "@jupyter-widgets/controls",
       "_view_module_version": "2.0.0",
       "_view_name": "HTMLView",
       "description": "",
       "description_allow_html": false,
       "layout": "IPY_MODEL_24cbeb3de23d464ba878eb897f81c01c",
       "placeholder": "​",
       "style": "IPY_MODEL_9bf3e4d2030c489c8911ec7e490f6012",
       "tabbable": null,
       "tooltip": null,
       "value": "100%"
      }
     },
     "efc7c975a8a9429fa770144a575d3fda": {
      "model_module": "@jupyter-widgets/base",
      "model_module_version": "2.0.0",
      "model_name": "LayoutModel",
      "state": {
       "_model_module": "@jupyter-widgets/base",
       "_model_module_version": "2.0.0",
       "_model_name": "LayoutModel",
       "_view_count": null,
       "_view_module": "@jupyter-widgets/base",
       "_view_module_version": "2.0.0",
       "_view_name": "LayoutView",
       "align_content": null,
       "align_items": null,
       "align_self": null,
       "border_bottom": null,
       "border_left": null,
       "border_right": null,
       "border_top": null,
       "bottom": null,
       "display": null,
       "flex": null,
       "flex_flow": null,
       "grid_area": null,
       "grid_auto_columns": null,
       "grid_auto_flow": null,
       "grid_auto_rows": null,
       "grid_column": null,
       "grid_gap": null,
       "grid_row": null,
       "grid_template_areas": null,
       "grid_template_columns": null,
       "grid_template_rows": null,
       "height": null,
       "justify_content": null,
       "justify_items": null,
       "left": null,
       "margin": null,
       "max_height": null,
       "max_width": null,
       "min_height": null,
       "min_width": null,
       "object_fit": null,
       "object_position": null,
       "order": null,
       "overflow": null,
       "padding": null,
       "right": null,
       "top": null,
       "visibility": null,
       "width": null
      }
     },
     "ff6ce4f0d8d94df58ab5c59d8de30374": {
      "model_module": "@jupyter-widgets/controls",
      "model_module_version": "2.0.0",
      "model_name": "HTMLStyleModel",
      "state": {
       "_model_module": "@jupyter-widgets/controls",
       "_model_module_version": "2.0.0",
       "_model_name": "HTMLStyleModel",
       "_view_count": null,
       "_view_module": "@jupyter-widgets/base",
       "_view_module_version": "2.0.0",
       "_view_name": "StyleView",
       "background": null,
       "description_width": "",
       "font_size": null,
       "text_color": null
      }
     }
    },
    "version_major": 2,
    "version_minor": 0
   }
  }
 },
 "nbformat": 4,
 "nbformat_minor": 5
}