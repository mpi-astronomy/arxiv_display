{
 "cells": [
  {
   "cell_type": "markdown",
   "id": "92bcb855",
   "metadata": {
    "papermill": {
     "duration": 0.004811,
     "end_time": "2024-02-09T04:08:14.651590",
     "exception": false,
     "start_time": "2024-02-09T04:08:14.646779",
     "status": "completed"
    },
    "tags": []
   },
   "source": [
    "# MPIA Arxiv on Deck 2\n",
    "\n",
    "Contains the steps to produce the paper extractions."
   ]
  },
  {
   "cell_type": "code",
   "execution_count": 1,
   "id": "3a0d6e11",
   "metadata": {
    "execution": {
     "iopub.execute_input": "2024-02-09T04:08:14.659271Z",
     "iopub.status.busy": "2024-02-09T04:08:14.658657Z",
     "iopub.status.idle": "2024-02-09T04:08:15.132435Z",
     "shell.execute_reply": "2024-02-09T04:08:15.131697Z"
    },
    "papermill": {
     "duration": 0.479668,
     "end_time": "2024-02-09T04:08:15.134304",
     "exception": false,
     "start_time": "2024-02-09T04:08:14.654636",
     "status": "completed"
    },
    "tags": []
   },
   "outputs": [],
   "source": [
    "# Imports\n",
    "import os\n",
    "from IPython.display import Markdown, display\n",
    "from tqdm.notebook import tqdm\n",
    "import warnings\n",
    "from PIL import Image \n",
    "\n",
    "# requires arxiv_on_deck_2\n",
    "\n",
    "from arxiv_on_deck_2.arxiv2 import (get_new_papers, \n",
    "                                    get_paper_from_identifier,\n",
    "                                    retrieve_document_source, \n",
    "                                    get_markdown_badge)\n",
    "from arxiv_on_deck_2 import (latex,\n",
    "                             latex_bib,\n",
    "                             mpia,\n",
    "                             highlight_authors_in_list)\n",
    "\n",
    "# Sometimes images are really big\n",
    "Image.MAX_IMAGE_PIXELS = 1000000000 "
   ]
  },
  {
   "cell_type": "code",
   "execution_count": 2,
   "id": "22aa9d44",
   "metadata": {
    "execution": {
     "iopub.execute_input": "2024-02-09T04:08:15.141635Z",
     "iopub.status.busy": "2024-02-09T04:08:15.141259Z",
     "iopub.status.idle": "2024-02-09T04:08:15.146626Z",
     "shell.execute_reply": "2024-02-09T04:08:15.145972Z"
    },
    "papermill": {
     "duration": 0.010663,
     "end_time": "2024-02-09T04:08:15.148075",
     "exception": false,
     "start_time": "2024-02-09T04:08:15.137412",
     "status": "completed"
    },
    "tags": []
   },
   "outputs": [],
   "source": [
    "# Some useful definitions.\n",
    "\n",
    "class AffiliationWarning(UserWarning):\n",
    "    pass\n",
    "\n",
    "class AffiliationError(RuntimeError):\n",
    "    pass\n",
    "\n",
    "def validation(source: str):\n",
    "    \"\"\"Raises error paper during parsing of source file\n",
    "    \n",
    "    Allows checks before parsing TeX code.\n",
    "    \n",
    "    Raises AffiliationWarning\n",
    "    \"\"\"\n",
    "    check = mpia.affiliation_verifications(source, verbose=True)\n",
    "    if check is not True:\n",
    "        raise AffiliationError(\"mpia.affiliation_verifications: \" + check)\n",
    "\n",
    "        \n",
    "warnings.simplefilter('always', AffiliationWarning)\n",
    "\n",
    "\n",
    "def get_markdown_qrcode(paper_id: str):\n",
    "    \"\"\" Generate a qrcode to the arxiv page using qrserver.com\n",
    "    \n",
    "    :param paper: Arxiv paper\n",
    "    :returns: markdown text\n",
    "    \"\"\"\n",
    "    url = r\"https://api.qrserver.com/v1/create-qr-code/?size=100x100&data=\"\n",
    "    txt = f\"\"\"<img src={url}\"https://arxiv.org/abs/{paper_id}\">\"\"\"\n",
    "    txt = '<div id=\"qrcode\">' + txt + '</div>'\n",
    "    return txt"
   ]
  },
  {
   "cell_type": "markdown",
   "id": "14bd6310",
   "metadata": {
    "papermill": {
     "duration": 0.00282,
     "end_time": "2024-02-09T04:08:15.153848",
     "exception": false,
     "start_time": "2024-02-09T04:08:15.151028",
     "status": "completed"
    },
    "tags": []
   },
   "source": [
    "## get list of arxiv paper candidates\n",
    "\n",
    "We use the MPIA mitarbeiter list webpage from mpia.de to get author names\n",
    "We then get all new papers from Arxiv and match authors"
   ]
  },
  {
   "cell_type": "code",
   "execution_count": 3,
   "id": "2645e73a",
   "metadata": {
    "execution": {
     "iopub.execute_input": "2024-02-09T04:08:15.160823Z",
     "iopub.status.busy": "2024-02-09T04:08:15.160372Z",
     "iopub.status.idle": "2024-02-09T04:08:35.699159Z",
     "shell.execute_reply": "2024-02-09T04:08:35.698455Z"
    },
    "papermill": {
     "duration": 20.543914,
     "end_time": "2024-02-09T04:08:35.700599",
     "exception": false,
     "start_time": "2024-02-09T04:08:15.156685",
     "status": "completed"
    },
    "tags": []
   },
   "outputs": [
    {
     "name": "stdout",
     "output_type": "stream",
     "text": [
      "F. Walter  ->  F. Walter  |  ['F. Walter']\n",
      "X. Zhang  ->  X. Zhang  |  ['X. Zhang']\n",
      "Arxiv has 60 new papers today\n",
      "          2 with possible author matches\n"
     ]
    }
   ],
   "source": [
    "# get list from MPIA website\n",
    "# it automatically filters identified non-scientists :func:`mpia.filter_non_scientists`\n",
    "mpia_authors = mpia.get_mpia_mitarbeiter_list()\n",
    "normed_mpia_authors = [k[1] for k in mpia_authors]   # initials + fullname\n",
    "new_papers = get_new_papers()\n",
    "# add manual references\n",
    "add_paper_refs = []\n",
    "new_papers.extend([get_paper_from_identifier(k) for k in add_paper_refs])\n",
    "\n",
    "candidates = []\n",
    "for paperk in new_papers:\n",
    "    # Check author list with their initials\n",
    "    normed_author_list = [mpia.get_initials(k) for k in paperk['authors']]\n",
    "    hl_authors = highlight_authors_in_list(normed_author_list, normed_mpia_authors, verbose=True)\n",
    "    matches = [(hl, orig) for hl, orig in zip(hl_authors, paperk['authors']) if 'mark' in hl]\n",
    "    paperk['authors'] = hl_authors\n",
    "    if matches:\n",
    "        # only select paper if an author matched our list\n",
    "        candidates.append(paperk)\n",
    "print(\"\"\"Arxiv has {0:,d} new papers today\"\"\".format(len(new_papers)))        \n",
    "print(\"\"\"          {0:,d} with possible author matches\"\"\".format(len(candidates)))"
   ]
  },
  {
   "cell_type": "markdown",
   "id": "3543b34a",
   "metadata": {
    "papermill": {
     "duration": 0.003088,
     "end_time": "2024-02-09T04:08:35.706963",
     "exception": false,
     "start_time": "2024-02-09T04:08:35.703875",
     "status": "completed"
    },
    "tags": []
   },
   "source": [
    "# Parse sources and generate relevant outputs\n",
    "\n",
    "From the candidates, we do the following steps:\n",
    "* get their tarball from ArXiv (and extract data)\n",
    "* find the main .tex file: find one with \\documentclass{...} (sometimes it's non trivial)\n",
    "* Check affiliations with :func:`validation`, which uses :func:`mpia.affiliation_verifications`\n",
    "* If passing the affiliations: we parse the .tex source\n",
    "   * inject sub-documents into the main (flatten the main document)\n",
    "   * parse structure, extract information (title, abstract, authors, figures...)\n",
    "   * handles `\\graphicspath` if provided\n",
    "* Generate the .md document."
   ]
  },
  {
   "cell_type": "code",
   "execution_count": 4,
   "id": "9576b79e",
   "metadata": {
    "execution": {
     "iopub.execute_input": "2024-02-09T04:08:35.713899Z",
     "iopub.status.busy": "2024-02-09T04:08:35.713487Z",
     "iopub.status.idle": "2024-02-09T04:09:14.519085Z",
     "shell.execute_reply": "2024-02-09T04:09:14.518303Z"
    },
    "papermill": {
     "duration": 38.811737,
     "end_time": "2024-02-09T04:09:14.521541",
     "exception": false,
     "start_time": "2024-02-09T04:08:35.709804",
     "status": "completed"
    },
    "scrolled": false,
    "tags": []
   },
   "outputs": [
    {
     "data": {
      "application/vnd.jupyter.widget-view+json": {
       "model_id": "1cf5db122ef34fc6bea782f64c6f25ed",
       "version_major": 2,
       "version_minor": 0
      },
      "text/plain": [
       "  0%|          | 0/2 [00:00<?, ?it/s]"
      ]
     },
     "metadata": {},
     "output_type": "display_data"
    },
    {
     "name": "stdout",
     "output_type": "stream",
     "text": [
      "Retrieving document from  https://arxiv.org/e-print/2402.05165\n"
     ]
    },
    {
     "name": "stdout",
     "output_type": "stream",
     "text": [
      "extracting tarball to tmp_2402.05165..."
     ]
    },
    {
     "name": "stdout",
     "output_type": "stream",
     "text": [
      " done.\n"
     ]
    },
    {
     "name": "stdout",
     "output_type": "stream",
     "text": [
      "E. Bañados  ->  E. Bañados  |  ['E. Bañados']\n",
      "F. Walter  ->  F. Walter  |  ['F. Walter']\n"
     ]
    },
    {
     "name": "stdout",
     "output_type": "stream",
     "text": [
      "Found 185 bibliographic references in tmp_2402.05165/Kaasinen_CO21_QSOs.bbl.\n",
      "Retrieving document from  https://arxiv.org/e-print/2402.05365\n"
     ]
    },
    {
     "name": "stdout",
     "output_type": "stream",
     "text": [
      "extracting tarball to tmp_2402.05365... done.\n"
     ]
    }
   ],
   "source": [
    "documents = []\n",
    "failed = []\n",
    "for paper in tqdm(candidates):\n",
    "    paper_id = paper['identifier'].lower().replace('arxiv:', '')\n",
    "    \n",
    "    folder = f'tmp_{paper_id}'\n",
    "\n",
    "    try:\n",
    "        if not os.path.isdir(folder):\n",
    "            folder = retrieve_document_source(f\"{paper_id}\", f'tmp_{paper_id}')\n",
    "        \n",
    "        try:\n",
    "            doc = latex.LatexDocument(folder, validation=validation)    \n",
    "        except AffiliationError as affilerror:\n",
    "            msg = f\"ArXiv:{paper_id:s} is not an MPIA paper... \" + str(affilerror)\n",
    "            failed.append((paper, \"affiliation error: \" + str(affilerror) ))\n",
    "            continue\n",
    "        \n",
    "        # Hack because sometimes author parsing does not work well\n",
    "        if (len(doc.authors) != len(paper['authors'])):\n",
    "            doc._authors = paper['authors']\n",
    "        else:\n",
    "            # highlight authors (FIXME: doc.highlight_authors)\n",
    "            # done on arxiv paper already\n",
    "            doc._authors = highlight_authors_in_list(\n",
    "                [mpia.get_initials(k) for k in doc.authors], \n",
    "                normed_mpia_authors, verbose=True)\n",
    "        if (doc.abstract) in (None, ''):\n",
    "            doc._abstract = paper['abstract']\n",
    "            \n",
    "        doc.comment = (get_markdown_badge(paper_id) + \n",
    "                       \"<mark>Appeared on: \" + paper['date'] + \"</mark> - \")\n",
    "        if paper['comments']:\n",
    "            doc.comment += \" _\" + paper['comments'] + \"_\"\n",
    "        \n",
    "        full_md = doc.generate_markdown_text()\n",
    "        \n",
    "        full_md += get_markdown_qrcode(paper_id)\n",
    "        \n",
    "        # replace citations\n",
    "        try:\n",
    "            bibdata = latex_bib.LatexBib.from_doc(doc)\n",
    "            full_md = latex_bib.replace_citations(full_md, bibdata)\n",
    "        except Exception as e:\n",
    "            print(e)\n",
    "        \n",
    "        documents.append((paper_id, full_md))\n",
    "    except Exception as e:\n",
    "        warnings.warn(latex.LatexWarning(f\"{paper_id:s} did not run properly\\n\" +\n",
    "                                         str(e)\n",
    "                                        ))\n",
    "        failed.append((paper, \"latex error \" + str(e)))"
   ]
  },
  {
   "cell_type": "markdown",
   "id": "2505a25c",
   "metadata": {
    "papermill": {
     "duration": 0.003332,
     "end_time": "2024-02-09T04:09:14.528518",
     "exception": false,
     "start_time": "2024-02-09T04:09:14.525186",
     "status": "completed"
    },
    "tags": []
   },
   "source": [
    "### Export the logs\n",
    "\n",
    "Throughout, we also keep track of the logs per paper. see `logs-{today date}.md` "
   ]
  },
  {
   "cell_type": "code",
   "execution_count": 5,
   "id": "d733828a",
   "metadata": {
    "execution": {
     "iopub.execute_input": "2024-02-09T04:09:14.536600Z",
     "iopub.status.busy": "2024-02-09T04:09:14.536052Z",
     "iopub.status.idle": "2024-02-09T04:09:14.548229Z",
     "shell.execute_reply": "2024-02-09T04:09:14.547630Z"
    },
    "papermill": {
     "duration": 0.017797,
     "end_time": "2024-02-09T04:09:14.549654",
     "exception": false,
     "start_time": "2024-02-09T04:09:14.531857",
     "status": "completed"
    },
    "scrolled": false,
    "tags": []
   },
   "outputs": [
    {
     "data": {
      "text/markdown": [
       "## Successful papers"
      ],
      "text/plain": [
       "<IPython.core.display.Markdown object>"
      ]
     },
     "metadata": {},
     "output_type": "display_data"
    },
    {
     "data": {
      "text/markdown": [
       "\n",
       "|||\n",
       "|---:|:---|\n",
       "| [![arXiv](https://img.shields.io/badge/arXiv-arXiv:2402.05165-b31b1b.svg)](https://arxiv.org/abs/arXiv:2402.05165) | **The cold molecular gas in z>~6 quasar host galaxies**  |\n",
       "|| M. Kaasinen, et al. -- incl., <mark>F. Walter</mark> |\n",
       "|*Appeared on*| *2024-02-09*|\n",
       "|*Comments*| *accepted for publication in A&A*|\n",
       "|**Abstract**| Probing the molecular gas reservoirs of z>~6 quasar (QSO) host galaxies is fundamental to understanding the coevolution of star formation and black hole growth in these extreme systems. Yet, there is still an inhomogeneous coverage of molecular gas tracers. To measure the average excitation and mass of the molecular gas reservoirs in the brightest z>6.5 QSO hosts, we combined new observations of CO(2-1) emission with existing observations of CO(6-5), CO(7-6), [C I], [C II], and dust-continuum emission. We reduced and analysed the VLA observations of CO(2-1) in three z=6.5-6.9 QSO hosts--the highest redshift observations of CO(2-1) to date. By combining these with the nine z=5.7-6.4 QSO hosts for which CO(2-1) has already been observed, we studied the spread in molecular gas masses and CO excitation. Two of our three QSOs, were undetected in CO(2-1), implying more highly excited CO than in the z=6.4 QSO J1148+5251. We detected CO(2-1) at $5.1\\sigma$ for our highest-redshift target, J2348-3054, yielding a molecular gas mass of $(1.2\\pm0.2)\\times 10^{10}\\, \\mathrm{M}_\\odot$. This molecular gas mass is equivalent to the lower limit on the dynamical mass measured from resolved [C II] observations, implying little mass in stars or neutral gas within the [C II]-emitting region. On average, these QSO hosts have far higher CO(6-5)-, CO(7-6)-, and [C II] vs CO(2-1) line ratios than local AGN hosts; with a mean CO(6-5)-to-CO(1-0) line luminosity ratio of $r_{6,1}=0.9\\pm0.2$. Our new CO(2-1) observations show that even at 780 Myr after the Big Bang, QSO host galaxies can already have molecular gas masses of $10^{10}$ M$_\\odot$, consistent with a picture in which these z>6 QSOs reside in massive starbursts that are coevolving with the supermassive black holes. Our results imply the presence of extremely dense and warm molecular gas reservoirs illuminated by strong interstellar radiation fields. |"
      ],
      "text/plain": [
       "[arXiv:2402.05165] The cold molecular gas in z>~6 quasar host galaxies\n",
       "\tM. Kaasinen, et al. -- incl., <mark>F. Walter</mark>"
      ]
     },
     "metadata": {},
     "output_type": "display_data"
    },
    {
     "data": {
      "text/markdown": [
       "## Failed papers"
      ],
      "text/plain": [
       "<IPython.core.display.Markdown object>"
      ]
     },
     "metadata": {},
     "output_type": "display_data"
    },
    {
     "data": {
      "text/markdown": [
       "\n",
       "|||\n",
       "|---:|:---|\n",
       "| [![arXiv](https://img.shields.io/badge/arXiv-arXiv:2402.05365-b31b1b.svg)](https://arxiv.org/abs/arXiv:2402.05365) | **Different dependence of narrow H$α$ line luminosity on optical  continuum luminosity between starforming galaxies and Type-2 AGN: globally  negative AGN feedback in local Type-2 AGN?**  |\n",
       "|| <mark>X. Zhang</mark> |\n",
       "|*Appeared on*| *2024-02-09*|\n",
       "|*Comments*| *16 pages, 14 figures, Accepted to be published in ApJ*|\n",
       "|**Abstract**| In this manuscript, clues are provided to support globally negative AGN feedback on star formation in the host galaxies of the local low-redshift SDSS Type-2 AGN, based on the different dependence of narrow H$\\alpha$ line luminosity $L_{H\\alpha}$ on optical continuum luminosity $\\lambda L_{cont}$ between the starforming galaxies and the Type-2 AGN. Through the measured $L_{H\\alpha}$ and $\\lambda L_{cont}$ in SDSS starforming galaxies, there is a strong linear correlation between $\\lambda L_{cont}$ and $L_{H\\alpha}$, accepted as a standard correlation without effects of AGN activity. Meanwhile, considering apparent contributions of AGN activity to narrow H$\\alpha$ line emissions in the Type-2 AGN, the correlation between $\\lambda L_{cont}$ and $L_{H\\alpha}$ in the SDSS Type-2 AGN leads to statistically lower $L_{H\\alpha}$ in the Type-2 AGN than in the starforming galaxies, with significance level higher than 5$\\sigma$, even after considering necessary effects (including effects of host galaxy properties), leading to accepted conclusion on the globally negative AGN feedback in the local Type-2 AGN. Meanwhile, properties of Dn(4000) and H$\\delta_A$ can provide indirect clues to support the globally negative AGN feedback in the local Type-2 AGN, due to older stellar ages in the Type-2 AGN. Moreover, it is interesting to expect more than 50\\% narrow H$\\alpha$ emissions globally suppressed in the host galaxies of the Type-2 AGN relative to the starforming galaxies. The results not only support globally negative AGN feedback in the local Type-2 AGN, but also show further clues on the quantification of suppressions of star formation by the globally negative AGN feedback. |\n",
       "|<p style=\"color:green\"> **ERROR** </p>| <p style=\"color:green\">affiliation error: mpia.affiliation_verifications: 'Heidelberg' keyword not found.</p> |"
      ],
      "text/plain": [
       "<IPython.core.display.Markdown object>"
      ]
     },
     "metadata": {},
     "output_type": "display_data"
    }
   ],
   "source": [
    "import datetime\n",
    "today = str(datetime.date.today())\n",
    "logfile = f\"_build/html/logs/log-{today}.md\"\n",
    "\n",
    "\n",
    "with open(logfile, 'w') as logs:\n",
    "    # Success\n",
    "    logs.write(f'# Arxiv on Deck 2: Logs - {today}\\n\\n')\n",
    "    logs.write(\"\"\"* Arxiv had {0:,d} new papers\\n\"\"\".format(len(new_papers)))\n",
    "    logs.write(\"\"\"    * {0:,d} with possible author matches\\n\\n\"\"\".format(len(candidates)))\n",
    "    logs.write(\"## Sucessful papers\\n\\n\")\n",
    "    display(Markdown(\"## Successful papers\"))\n",
    "    success = [k[0] for k in documents]\n",
    "    for candid in candidates:\n",
    "        if candid['identifier'].split(':')[-1] in success:\n",
    "            display(candid)\n",
    "            logs.write(candid.generate_markdown_text() + '\\n\\n')\n",
    "\n",
    "    ## failed\n",
    "    logs.write(\"## Failed papers\\n\\n\")\n",
    "    display(Markdown(\"## Failed papers\"))\n",
    "    failed = sorted(failed, key=lambda x: x[1])\n",
    "    current_reason = \"\"\n",
    "    for paper, reason in failed:\n",
    "        if 'affiliation' in reason:\n",
    "            color = 'green'\n",
    "        else:\n",
    "            color = 'red'\n",
    "        data = Markdown(\n",
    "                paper.generate_markdown_text() + \n",
    "                f'\\n|<p style=\"color:{color:s}\"> **ERROR** </p>| <p style=\"color:{color:s}\">{reason:s}</p> |'\n",
    "               )\n",
    "        if reason != current_reason:\n",
    "            logs.write(f'### {reason:s} \\n\\n')\n",
    "            current_reason = reason\n",
    "        logs.write(data.data + '\\n\\n')\n",
    "        \n",
    "        # only display here the important errors (all in logs)\n",
    "        # if color in ('red',):\n",
    "        display(data)"
   ]
  },
  {
   "cell_type": "markdown",
   "id": "472d20ee",
   "metadata": {
    "papermill": {
     "duration": 0.003705,
     "end_time": "2024-02-09T04:09:14.557136",
     "exception": false,
     "start_time": "2024-02-09T04:09:14.553431",
     "status": "completed"
    },
    "tags": []
   },
   "source": [
    "## Export documents\n",
    "\n",
    "We now write the .md files and export relevant images"
   ]
  },
  {
   "cell_type": "code",
   "execution_count": 6,
   "id": "d426aed9",
   "metadata": {
    "execution": {
     "iopub.execute_input": "2024-02-09T04:09:14.565901Z",
     "iopub.status.busy": "2024-02-09T04:09:14.565450Z",
     "iopub.status.idle": "2024-02-09T04:09:14.572246Z",
     "shell.execute_reply": "2024-02-09T04:09:14.571617Z"
    },
    "papermill": {
     "duration": 0.012805,
     "end_time": "2024-02-09T04:09:14.573615",
     "exception": false,
     "start_time": "2024-02-09T04:09:14.560810",
     "status": "completed"
    },
    "tags": []
   },
   "outputs": [],
   "source": [
    "def export_markdown_summary(md: str, md_fname:str, directory: str):\n",
    "    \"\"\"Export MD document and associated relevant images\"\"\"\n",
    "    import os\n",
    "    import shutil\n",
    "    import re\n",
    "\n",
    "    if (os.path.exists(directory) and not os.path.isdir(directory)):\n",
    "        raise RuntimeError(f\"a non-directory file exists with name {directory:s}\")\n",
    "\n",
    "    if (not os.path.exists(directory)):\n",
    "        print(f\"creating directory {directory:s}\")\n",
    "        os.mkdir(directory)\n",
    "\n",
    "    fig_fnames = (re.compile(r'\\[Fig.*\\]\\((.*)\\)').findall(md) + \n",
    "                  re.compile(r'\\<img src=\"([^>\\s]*)\"[^>]*/>').findall(md))\n",
    "    for fname in fig_fnames:\n",
    "        if 'http' in fname:\n",
    "            # No need to copy online figures\n",
    "            continue\n",
    "        destdir = os.path.join(directory, os.path.dirname(fname))\n",
    "        destfname = os.path.join(destdir, os.path.basename(fname))\n",
    "        try:\n",
    "            os.makedirs(destdir)\n",
    "        except FileExistsError:\n",
    "            pass\n",
    "        shutil.copy(fname, destfname)\n",
    "    with open(os.path.join(directory, md_fname), 'w') as fout:\n",
    "        fout.write(md)\n",
    "    print(\"exported in \", os.path.join(directory, md_fname))\n",
    "    [print(\"    + \" + os.path.join(directory,fk)) for fk in fig_fnames]"
   ]
  },
  {
   "cell_type": "code",
   "execution_count": 7,
   "id": "014d04a4",
   "metadata": {
    "execution": {
     "iopub.execute_input": "2024-02-09T04:09:14.582545Z",
     "iopub.status.busy": "2024-02-09T04:09:14.581995Z",
     "iopub.status.idle": "2024-02-09T04:09:14.590488Z",
     "shell.execute_reply": "2024-02-09T04:09:14.589889Z"
    },
    "papermill": {
     "duration": 0.014237,
     "end_time": "2024-02-09T04:09:14.591783",
     "exception": false,
     "start_time": "2024-02-09T04:09:14.577546",
     "status": "completed"
    },
    "tags": []
   },
   "outputs": [
    {
     "name": "stdout",
     "output_type": "stream",
     "text": [
      "exported in  _build/html/2402.05165.md\n",
      "    + _build/html/tmp_2402.05165/./Mmol_comp_ULIRGalphaCO_2.png\n",
      "    + _build/html/tmp_2402.05165/./P036+03_284kms_3channel_map.png\n",
      "    + _build/html/tmp_2402.05165/./CO21_spectrum_P036+03_2.png\n",
      "    + _build/html/tmp_2402.05165/./J0305-3150_321kms_3channel_map.png\n",
      "    + _build/html/tmp_2402.05165/./CO21_spectrum_J0305-3150_2.png\n",
      "    + _build/html/tmp_2402.05165/./J2348-3054_548kms_3channel_map.png\n",
      "    + _build/html/tmp_2402.05165/./CO21_spectrum_J2348-3054_2.png\n",
      "    + _build/html/tmp_2402.05165/./mass_comp_ULIRGalphaCO.png\n"
     ]
    }
   ],
   "source": [
    "for paper_id, md in documents:\n",
    "    export_markdown_summary(md, f\"{paper_id:s}.md\", '_build/html/')"
   ]
  },
  {
   "cell_type": "markdown",
   "id": "f087a0a7",
   "metadata": {
    "papermill": {
     "duration": 0.003812,
     "end_time": "2024-02-09T04:09:14.599493",
     "exception": false,
     "start_time": "2024-02-09T04:09:14.595681",
     "status": "completed"
    },
    "tags": []
   },
   "source": [
    "## Display the papers\n",
    "\n",
    "Not necessary but allows for a quick check."
   ]
  },
  {
   "cell_type": "code",
   "execution_count": 8,
   "id": "fd25f625",
   "metadata": {
    "execution": {
     "iopub.execute_input": "2024-02-09T04:09:14.608486Z",
     "iopub.status.busy": "2024-02-09T04:09:14.607982Z",
     "iopub.status.idle": "2024-02-09T04:09:14.612871Z",
     "shell.execute_reply": "2024-02-09T04:09:14.612223Z"
    },
    "papermill": {
     "duration": 0.010883,
     "end_time": "2024-02-09T04:09:14.614292",
     "exception": false,
     "start_time": "2024-02-09T04:09:14.603409",
     "status": "completed"
    },
    "scrolled": false,
    "tags": []
   },
   "outputs": [
    {
     "data": {
      "text/markdown": [
       "<div class=\"macros\" style=\"visibility:hidden;\">\n",
       "$\\newcommand{\\ensuremath}{}$\n",
       "$\\newcommand{\\xspace}{}$\n",
       "$\\newcommand{\\object}[1]{\\texttt{#1}}$\n",
       "$\\newcommand{\\farcs}{{.}''}$\n",
       "$\\newcommand{\\farcm}{{.}'}$\n",
       "$\\newcommand{\\arcsec}{''}$\n",
       "$\\newcommand{\\arcmin}{'}$\n",
       "$\\newcommand{\\ion}[2]{#1#2}$\n",
       "$\\newcommand{\\textsc}[1]{\\textrm{#1}}$\n",
       "$\\newcommand{\\hl}[1]{\\textrm{#1}}$\n",
       "$\\newcommand{\\footnote}[1]{}$\n",
       "$\\newcommand{\\ci}{[\\ion{C}{I}] (2--1)}$\n",
       "$\\newcommand{\\cii}{[\\ion{C}{II}] 158 \\textmu m}$\n",
       "$\\newcommand{\\kms}{\\ensuremath{\\rm{km}  \\rm{s}^{-1}}}$\n",
       "$\\newcommand{\\peryr}{\\ensuremath{\\rm{yr}^{-1}}}$\n",
       "$\\newcommand{\\Msun}{\\ensuremath{\\rm{M}_{\\odot}}}$\n",
       "$\\newcommand{\\Mstar}{\\ensuremath{\\rm{M}_{*}}}$\n",
       "$\\newcommand{\\Mmol}{\\ensuremath{\\rm{M}_{\\rm{mol}}}}$\n",
       "$\\newcommand{\\aco}{\\alpha_\\mathrm{CO}}$\n",
       "$\\newcommand{\\arraystretch}{1.5}$\n",
       "$\\newcommand{\\arraystretch}{1}$\n",
       "$\\newcommand{\\arraystretch}{1}$\n",
       "$\\newcommand{\\arraystretch}{1.5}$\n",
       "$\\newcommand{\\arraystretch}{1}$\n",
       "$\\newcommand{\\arraystretch}{1.5}$\n",
       "$\\newcommand{\\arraystretch}{1.5}$\n",
       "$\\newcommand{\\arraystretch}{1}$</div>\n",
       "\n",
       "\n",
       "\n",
       "<div id=\"title\">\n",
       "\n",
       "# The cold molecular gas in $z\\gtrsim 6$ quasar host galaxies\n",
       "\n",
       "</div>\n",
       "<div id=\"comments\">\n",
       "\n",
       "[![arXiv](https://img.shields.io/badge/arXiv-2402.05165-b31b1b.svg)](https://arxiv.org/abs/2402.05165)<mark>Appeared on: 2024-02-09</mark> -  _accepted for publication in A&A_\n",
       "\n",
       "</div>\n",
       "<div id=\"authors\">\n",
       "\n",
       "M. Kaasinen, et al. -- incl., <mark>E. Bañados</mark>, <mark>F. Walter</mark>\n",
       "\n",
       "</div>\n",
       "<div id=\"abstract\">\n",
       "\n",
       "**Abstract:** Probing the molecular gas reservoirs of $z\\gtrsim6$ quasar (QSO) host galaxies is fundamental to understanding the coevolution of star formation and black hole growth in these extreme systems. Yet, there is still an inhomogeneous coverage of molecular gas tracers for $z\\gtrsim6$ QSO hosts. To measure the average excitation and mass of the molecular gas reservoirs in the brightest $z>6.5$ QSO hosts, we combined new observations of CO(2--1) emission with existing observations of CO(6--5), CO(7--6), $\\ci$ , $\\cii$ , and dust-continuum emission. We reduced and analysed observations of CO(2--1), taken with the Karl G. Jansky Very Large Array, in three $z=6.5-6.9$ QSO hosts---the highest redshift observations of CO(2--1) to date. By combining these with the nine $z=5.7-6.4$ QSO hosts for which CO(2--1) emission has already been observed, we studied the spread in molecular gas masses and CO excitation of $z\\gtrsim6$ QSOs. Two of our three QSOs, P036+03 and J0305--3150, were not detected in CO(2--1), implying more highly excited CO than in the well-studied $z=6.4$ QSO J1148+5251. However, we detected CO(2--1) emission at $5.1\\sigma$ for our highest-redshift target, J2348--3054, yielding a molecular gas mass of $(1.2\\pm0.2)\\times 10^{10}  \\mathrm{M}_\\odot$ , assuming $\\alpha_\\mathrm{CO} = 0.8$ (K km s $^{-1}$ pc $^2$ ) $^{-1}$ and $r_\\mathrm{2,1}=1$ . This molecular gas mass is equivalent to the lower limit on the dynamical mass measured previously from resolved $\\cii$ observations, implying that there is little mass in stars or neutral gas within the [ $\\ion{C}{II}$ ] -emitting region and that a low CO-to-$H_2$ conversion factor is applicable. On average, these $z\\gtrsim6$ QSO hosts have far higher CO(6--5)-, CO(7--6)-, and $\\cii$ versus CO(2--1) line ratios than the local gas-rich and IR-luminous galaxies that host active galactic nuclei, but with a large range of values, implying some variation in their interstellar medium conditions. We derived a mean CO(6--5)-to-CO(1--0) line luminosity ratio of $r_\\mathrm{6,1}=0.9\\pm0.2$ . Our new CO(2--1) observations show that even at 780 Myr after the Big Bang, QSO host galaxies can already have molecular gas masses of $10^{10}$ M $_\\odot$ , consistent with a picture in which these $z\\gtrsim6$ QSOs reside in massive starbursts that are coevolving with the accreting supermassive black holes. Their high gas versus dynamical masses and extremely high line excitation imply the presence of extremely dense and warm molecular gas reservoirs illuminated by strong interstellar radiation fields.\n",
       "\n",
       "</div>\n",
       "\n",
       "<div id=\"div_fig1\">\n",
       "\n",
       "<img src=\"tmp_2402.05165/./Mmol_comp_ULIRGalphaCO_2.png\" alt=\"Fig1\" width=\"100%\"/>\n",
       "\n",
       "**Figure 1. -** Comparison of molecular gas masses inferred from different sets of observations for our three QSO hosts (top three) and the literature sample of $z\\gtrsim 6$ QSO hosts (bottom nine). For the CO-based values, we have assumed a ULIRG CO-to-$H_2$ conversion factor of $\\alpha_\\mathrm{CO}=0.8$ M$_\\odot$(K km s$^{-1}$ pc$^2$)$^{-1}$.  We show two masses for CO(2--1), one derived without any CMB correction being applied (filled blue circles) and one derived by applying a correction assuming the high-density ($n_\\mathrm{H_2}=10^{4.2}$ cm$^{-3}$) and high-temperature ($T_\\mathrm{kin}=40$ K), non-LTE scenario presented in $\\ci$te{2013ApJ...766...13D}(blue outlined circles). We also show molecular gas masses derived from $\\ci$ emission (green squares) assuming the [$\\ion${C}{i}] is optically thin, in LTE and has the same abundance as the sample of lensed starbursts studied in $\\ci$te{2021ApJ...908...95H}, namely [$\\ion${C}{I}]/$H_2 = (6.82\\pm3.04)\\times10^{-5}$. We also compare to molecular gas masses derived from the dust masses fit here, assuming the local gas-to-dust ratio of 100 (red triangles), as well as molecular gas masses derived from the $\\ci$i line luminosities, assuming the mean [$\\ion${C}{II}]-to-$H_2$ conversion factor ($\\alpha_\\mathrm{[CII]} = 31 $\\Msun$/L_{\\odot}$) derived by $\\ci$te{2018MNRAS.481.1976Z}.  (*fig:Mmol_comp*)\n",
       "\n",
       "</div>\n",
       "<div id=\"div_fig2\">\n",
       "\n",
       "<img src=\"tmp_2402.05165/./P036+03_284kms_3channel_map.png\" alt=\"Fig3.1\" width=\"16%\"/><img src=\"tmp_2402.05165/./CO21_spectrum_P036+03_2.png\" alt=\"Fig3.2\" width=\"16%\"/><img src=\"tmp_2402.05165/./J0305-3150_321kms_3channel_map.png\" alt=\"Fig3.3\" width=\"16%\"/><img src=\"tmp_2402.05165/./CO21_spectrum_J0305-3150_2.png\" alt=\"Fig3.4\" width=\"16%\"/><img src=\"tmp_2402.05165/./J2348-3054_548kms_3channel_map.png\" alt=\"Fig3.5\" width=\"16%\"/><img src=\"tmp_2402.05165/./CO21_spectrum_J2348-3054_2.png\" alt=\"Fig3.6\" width=\"16%\"/>\n",
       "\n",
       "**Figure 3. -** CO(2--1) observations of P036+03, J0305--3150, and J2348--3054 (from top to bottom, respectively). Left: Cleaned channel maps with the middle panel depicting the moment-0 map centred on the $\\ci$i redshift and integrated over $1.2\\times$\\ac{fwhm} of the $\\ci$i line, which should encompass 84\\% of the CO(2--1) emission assuming there is no spatial or velocity offset. Right: Observed CO(2--1) spectra extracted from the pixel at the peak position of the moment 0 maps (blue line) and $1\\sigma$ rms per channel (orange line). The spectra are shown for channels of 100 km s$^{-1}$ velocity width, the shaded region indicating the $1.2$ FWHM region used to create the channel maps to the left. P036+03 and J0305--3150 are undetected (with a significant number of negative and positive peaks in the data cube exceeding the significance of the peaks in emission near the expected source centres), so we place $4\\sigma$ upper limits on their CO(2--1) emission. J2348--3054 is detected at $5.1\\sigma$(central velocity-integrated map in bottom row).\n",
       "\t\t\t\t (*fig:channelmaps*)\n",
       "\n",
       "</div>\n",
       "<div id=\"div_fig3\">\n",
       "\n",
       "<img src=\"tmp_2402.05165/./mass_comp_ULIRGalphaCO.png\" alt=\"Fig2\" width=\"100%\"/>\n",
       "\n",
       "**Figure 2. -** Dynamical masses (black squares), dust masses (red triangles), and black hole masses (green stars) compared to the CO(2--1)-derived molecular gas masses assuming a ULIRG $\\alpha_\\mathrm{CO}$, with a CMB correction (light shaded symbols) and without a CMB correction (dark shaded symbols). For the CO(2--1)-derived values, we assume that the low-$J$ CO emission is thermalised ($L_\\mathrm{CO(1-0)}^\\prime = L_\\mathrm{CO(2-1)}^\\prime$). Most molecular gas masses are high, spanning $0.1-1\\times$ the dynamical mass.  (*fig:mass_comp*)\n",
       "\n",
       "</div><div id=\"qrcode\"><img src=https://api.qrserver.com/v1/create-qr-code/?size=100x100&data=\"https://arxiv.org/abs/2402.05165\"></div>"
      ],
      "text/plain": [
       "<IPython.core.display.Markdown object>"
      ]
     },
     "metadata": {},
     "output_type": "display_data"
    }
   ],
   "source": [
    "[display(Markdown(k[1])) for k in documents];"
   ]
  },
  {
   "cell_type": "markdown",
   "id": "873873a4",
   "metadata": {
    "papermill": {
     "duration": 0.004008,
     "end_time": "2024-02-09T04:09:14.622436",
     "exception": false,
     "start_time": "2024-02-09T04:09:14.618428",
     "status": "completed"
    },
    "tags": []
   },
   "source": [
    "# Create HTML index"
   ]
  },
  {
   "cell_type": "code",
   "execution_count": 9,
   "id": "cf665672",
   "metadata": {
    "execution": {
     "iopub.execute_input": "2024-02-09T04:09:14.631786Z",
     "iopub.status.busy": "2024-02-09T04:09:14.631394Z",
     "iopub.status.idle": "2024-02-09T04:09:14.641050Z",
     "shell.execute_reply": "2024-02-09T04:09:14.640536Z"
    },
    "papermill": {
     "duration": 0.015828,
     "end_time": "2024-02-09T04:09:14.642393",
     "exception": false,
     "start_time": "2024-02-09T04:09:14.626565",
     "status": "completed"
    },
    "tags": []
   },
   "outputs": [
    {
     "name": "stdout",
     "output_type": "stream",
     "text": [
      "368  publications files modified in the last 7 days.\n"
     ]
    }
   ],
   "source": [
    "from datetime import datetime, timedelta, timezone\n",
    "from glob import glob\n",
    "import os\n",
    "\n",
    "files = glob('_build/html/*.md')\n",
    "days = 7\n",
    "now = datetime.today()\n",
    "res = []\n",
    "for fk in files:\n",
    "    stat_result = os.stat(fk).st_ctime\n",
    "    modified = datetime.fromtimestamp(stat_result, tz=timezone.utc).replace(tzinfo=None)\n",
    "    delta = now.today() - modified\n",
    "    if delta <= timedelta(days=days):\n",
    "        res.append((delta.seconds, fk))\n",
    "res = [k[1] for k in reversed(sorted(res, key=lambda x:x[1]))]\n",
    "npub = len(res)\n",
    "print(len(res), f\" publications files modified in the last {days:d} days.\")\n",
    "# [ print('\\t', k) for k in res ];"
   ]
  },
  {
   "cell_type": "code",
   "execution_count": 10,
   "id": "015de740",
   "metadata": {
    "execution": {
     "iopub.execute_input": "2024-02-09T04:09:14.651691Z",
     "iopub.status.busy": "2024-02-09T04:09:14.651299Z",
     "iopub.status.idle": "2024-02-09T04:09:14.672244Z",
     "shell.execute_reply": "2024-02-09T04:09:14.671727Z"
    },
    "papermill": {
     "duration": 0.027049,
     "end_time": "2024-02-09T04:09:14.673603",
     "exception": false,
     "start_time": "2024-02-09T04:09:14.646554",
     "status": "completed"
    },
    "tags": []
   },
   "outputs": [
    {
     "name": "stdout",
     "output_type": "stream",
     "text": [
      "2  publications in the last 7 days.\n"
     ]
    }
   ],
   "source": [
    "import datetime\n",
    "from glob import glob\n",
    "\n",
    "def get_last_n_days(lst, days=1):\n",
    "    \"\"\" Get the documents from the last n days \"\"\"\n",
    "    sorted_lst = sorted(lst, key=lambda x: x[1], reverse=True)\n",
    "    for fname, date in sorted_lst:\n",
    "        if date >= str(datetime.date.today() - datetime.timedelta(days=days)):\n",
    "            yield fname\n",
    "\n",
    "def extract_appearance_dates(lst_file):\n",
    "    dates = []\n",
    "\n",
    "    def get_date(line):\n",
    "        return line\\\n",
    "            .split('Appeared on:')[-1]\\\n",
    "            .split('</mark>')[0].strip()\n",
    "\n",
    "    for fname in lst:\n",
    "        with open(fname, 'r') as f:\n",
    "            found_date = False\n",
    "            for line in f:\n",
    "                if not found_date:\n",
    "                    if \"Appeared on\" in line:\n",
    "                        found_date = True\n",
    "                        dates.append((fname, get_date(line)))\n",
    "                else:\n",
    "                    break\n",
    "    return dates\n",
    "\n",
    "from glob import glob\n",
    "lst = glob('_build/html/*md')\n",
    "days = 7\n",
    "dates = extract_appearance_dates(lst)\n",
    "res = list(get_last_n_days(dates, days))\n",
    "npub = len(res)\n",
    "print(len(res), f\" publications in the last {days:d} days.\")"
   ]
  },
  {
   "cell_type": "code",
   "execution_count": 11,
   "id": "52ca0208",
   "metadata": {
    "execution": {
     "iopub.execute_input": "2024-02-09T04:09:14.683119Z",
     "iopub.status.busy": "2024-02-09T04:09:14.682723Z",
     "iopub.status.idle": "2024-02-09T04:09:14.687680Z",
     "shell.execute_reply": "2024-02-09T04:09:14.687151Z"
    },
    "papermill": {
     "duration": 0.011078,
     "end_time": "2024-02-09T04:09:14.688949",
     "exception": false,
     "start_time": "2024-02-09T04:09:14.677871",
     "status": "completed"
    },
    "scrolled": false,
    "tags": []
   },
   "outputs": [],
   "source": [
    "def create_carousel(npub=4):\n",
    "    \"\"\" Generate the HTML code for a carousel with `npub` slides \"\"\"\n",
    "    carousel = [\"\"\"  <div class=\"carousel\" \"\"\",\n",
    "                \"\"\"       data-flickity='{ \"autoPlay\": 10000, \"adaptiveHeight\": true, \"resize\": true, \"wrapAround\": true, \"pauseAutoPlayOnHover\": true, \"groupCells\": 1 }' id=\"asyncTypeset\">\"\"\"\n",
    "                ]\n",
    "    \n",
    "    item_str = \"\"\"    <div class=\"carousel-cell\"> <div id=\"slide{k}\" class=\"md_view\">Content {k}</div> </div>\"\"\"\n",
    "    for k in range(1, npub + 1):\n",
    "        carousel.append(item_str.format(k=k))\n",
    "    carousel.append(\"  </div>\")\n",
    "    return '\\n'.join(carousel)\n",
    "\n",
    "def create_grid(npub=4):\n",
    "    \"\"\" Generate the HTML code for a flat grid with `npub` slides \"\"\"\n",
    "    grid = [\"\"\"  <div class=\"grid\"> \"\"\",\n",
    "                ]\n",
    "    \n",
    "    item_str = \"\"\"    <div class=\"grid-item\"> <div id=\"slide{k}\" class=\"md_view\">Content {k}</div> </div>\"\"\"\n",
    "    for k in range(1, npub + 1):\n",
    "        grid.append(item_str.format(k=k))\n",
    "    grid.append(\"  </div>\")\n",
    "    return '\\n'.join(grid)"
   ]
  },
  {
   "cell_type": "code",
   "execution_count": 12,
   "id": "a6eac5b6",
   "metadata": {
    "execution": {
     "iopub.execute_input": "2024-02-09T04:09:14.698594Z",
     "iopub.status.busy": "2024-02-09T04:09:14.698201Z",
     "iopub.status.idle": "2024-02-09T04:09:14.702984Z",
     "shell.execute_reply": "2024-02-09T04:09:14.702492Z"
    },
    "papermill": {
     "duration": 0.010881,
     "end_time": "2024-02-09T04:09:14.704247",
     "exception": false,
     "start_time": "2024-02-09T04:09:14.693366",
     "status": "completed"
    },
    "scrolled": false,
    "tags": []
   },
   "outputs": [],
   "source": [
    "carousel = create_carousel(npub)\n",
    "docs = ', '.join(['\"{0:s}\"'.format(k.split('/')[-1]) for k in res])\n",
    "slides = ', '.join([f'\"slide{k}\"' for k in range(1, npub + 1)])\n",
    "\n",
    "with open(\"daily_template.html\", \"r\") as tpl:\n",
    "    page = tpl.read()\n",
    "    page = page.replace(\"{%-- carousel:s --%}\", carousel)\\\n",
    "               .replace(\"{%-- suptitle:s --%}\",  \"7-day archives\" )\\\n",
    "               .replace(\"{%-- docs:s --%}\", docs)\\\n",
    "               .replace(\"{%-- slides:s --%}\", slides)\n",
    "    \n",
    "with open(\"_build/html/index_7days.html\", 'w') as fout:\n",
    "    fout.write(page)"
   ]
  },
  {
   "cell_type": "code",
   "execution_count": 13,
   "id": "adc1a1ec",
   "metadata": {
    "execution": {
     "iopub.execute_input": "2024-02-09T04:09:14.713876Z",
     "iopub.status.busy": "2024-02-09T04:09:14.713485Z",
     "iopub.status.idle": "2024-02-09T04:09:14.720191Z",
     "shell.execute_reply": "2024-02-09T04:09:14.719656Z"
    },
    "papermill": {
     "duration": 0.013056,
     "end_time": "2024-02-09T04:09:14.721548",
     "exception": false,
     "start_time": "2024-02-09T04:09:14.708492",
     "status": "completed"
    },
    "tags": []
   },
   "outputs": [
    {
     "name": "stdout",
     "output_type": "stream",
     "text": [
      "1  publications in the last day.\n"
     ]
    }
   ],
   "source": [
    "# redo for today\n",
    "days = 1\n",
    "res = list(get_last_n_days(dates, days))\n",
    "npub = len(res)\n",
    "print(len(res), f\" publications in the last day.\")\n",
    "\n",
    "carousel = create_carousel(npub)\n",
    "docs = ', '.join(['\"{0:s}\"'.format(k.split('/')[-1]) for k in res])\n",
    "slides = ', '.join([f'\"slide{k}\"' for k in range(1, npub + 1)])\n",
    "\n",
    "with open(\"daily_template.html\", \"r\") as tpl:\n",
    "    page = tpl.read()\n",
    "    page = page.replace(\"{%-- carousel:s --%}\", carousel)\\\n",
    "               .replace(\"{%-- suptitle:s --%}\",  \"Daily\" )\\\n",
    "               .replace(\"{%-- docs:s --%}\", docs)\\\n",
    "               .replace(\"{%-- slides:s --%}\", slides)\n",
    "    \n",
    "# print(carousel, docs, slides)\n",
    "# print(page)\n",
    "with open(\"_build/html/index_daily.html\", 'w') as fout:\n",
    "    fout.write(page)"
   ]
  },
  {
   "cell_type": "code",
   "execution_count": 14,
   "id": "00eece82",
   "metadata": {
    "execution": {
     "iopub.execute_input": "2024-02-09T04:09:14.731475Z",
     "iopub.status.busy": "2024-02-09T04:09:14.730999Z",
     "iopub.status.idle": "2024-02-09T04:09:14.737387Z",
     "shell.execute_reply": "2024-02-09T04:09:14.736752Z"
    },
    "papermill": {
     "duration": 0.012741,
     "end_time": "2024-02-09T04:09:14.738667",
     "exception": false,
     "start_time": "2024-02-09T04:09:14.725926",
     "status": "completed"
    },
    "scrolled": false,
    "tags": []
   },
   "outputs": [
    {
     "name": "stdout",
     "output_type": "stream",
     "text": [
      "6  6 publications selected.\n"
     ]
    }
   ],
   "source": [
    "# Create the flat grid of the last N papers (fixed number regardless of dates)\n",
    "from itertools import islice \n",
    "\n",
    "npub = 6\n",
    "res = [k[0] for k in (islice(reversed(sorted(dates, key=lambda x: x[1])), 6))]\n",
    "print(len(res), f\" {npub} publications selected.\")\n",
    "\n",
    "grid = create_grid(npub)\n",
    "docs = ', '.join(['\"{0:s}\"'.format(k.split('/')[-1]) for k in res])\n",
    "slides = ', '.join([f'\"slide{k}\"' for k in range(1, npub + 1)])\n",
    "\n",
    "with open(\"grid_template.html\", \"r\") as tpl:\n",
    "    page = tpl.read()\n",
    "    page = page.replace(\"{%-- grid-content:s --%}\", grid)\\\n",
    "               .replace(\"{%-- suptitle:s --%}\",  f\"Last {npub:,d} papers\" )\\\n",
    "               .replace(\"{%-- docs:s --%}\", docs)\\\n",
    "               .replace(\"{%-- slides:s --%}\", slides)\n",
    "    \n",
    "# print(grid, docs, slides)\n",
    "# print(page)\n",
    "with open(\"_build/html/index_npub_grid.html\", 'w') as fout:\n",
    "    fout.write(page)"
   ]
  }
 ],
 "metadata": {
  "kernelspec": {
   "display_name": "Python 3 (ipykernel)",
   "language": "python",
   "name": "python3"
  },
  "language_info": {
   "codemirror_mode": {
    "name": "ipython",
    "version": 3
   },
   "file_extension": ".py",
   "mimetype": "text/x-python",
   "name": "python",
   "nbconvert_exporter": "python",
   "pygments_lexer": "ipython3",
   "version": "3.9.18"
  },
  "papermill": {
   "default_parameters": {},
   "duration": 61.203816,
   "end_time": "2024-02-09T04:09:14.959680",
   "environment_variables": {},
   "exception": null,
   "input_path": "MPIA daily digest.ipynb",
   "output_path": "log.ipynb",
   "parameters": {},
   "start_time": "2024-02-09T04:08:13.755864",
   "version": "2.5.0"
  },
  "vscode": {
   "interpreter": {
    "hash": "aee8b7b246df8f9039afb4144a1f6fd8d2ca17a180786b69acc140d282b71a49"
   }
  },
  "widgets": {
   "application/vnd.jupyter.widget-state+json": {
    "state": {
     "16e61ff77e454f10aeed9971d978e35b": {
      "model_module": "@jupyter-widgets/base",
      "model_module_version": "2.0.0",
      "model_name": "LayoutModel",
      "state": {
       "_model_module": "@jupyter-widgets/base",
       "_model_module_version": "2.0.0",
       "_model_name": "LayoutModel",
       "_view_count": null,
       "_view_module": "@jupyter-widgets/base",
       "_view_module_version": "2.0.0",
       "_view_name": "LayoutView",
       "align_content": null,
       "align_items": null,
       "align_self": null,
       "border_bottom": null,
       "border_left": null,
       "border_right": null,
       "border_top": null,
       "bottom": null,
       "display": null,
       "flex": null,
       "flex_flow": null,
       "grid_area": null,
       "grid_auto_columns": null,
       "grid_auto_flow": null,
       "grid_auto_rows": null,
       "grid_column": null,
       "grid_gap": null,
       "grid_row": null,
       "grid_template_areas": null,
       "grid_template_columns": null,
       "grid_template_rows": null,
       "height": null,
       "justify_content": null,
       "justify_items": null,
       "left": null,
       "margin": null,
       "max_height": null,
       "max_width": null,
       "min_height": null,
       "min_width": null,
       "object_fit": null,
       "object_position": null,
       "order": null,
       "overflow": null,
       "padding": null,
       "right": null,
       "top": null,
       "visibility": null,
       "width": null
      }
     },
     "1cf5db122ef34fc6bea782f64c6f25ed": {
      "model_module": "@jupyter-widgets/controls",
      "model_module_version": "2.0.0",
      "model_name": "HBoxModel",
      "state": {
       "_dom_classes": [],
       "_model_module": "@jupyter-widgets/controls",
       "_model_module_version": "2.0.0",
       "_model_name": "HBoxModel",
       "_view_count": null,
       "_view_module": "@jupyter-widgets/controls",
       "_view_module_version": "2.0.0",
       "_view_name": "HBoxView",
       "box_style": "",
       "children": [
        "IPY_MODEL_34eeb62f301549f3a9977700d49cb792",
        "IPY_MODEL_b05e8cb82ae94057b1e740702bf17a1c",
        "IPY_MODEL_bf7469480d48493fa32d0948c0508a7a"
       ],
       "layout": "IPY_MODEL_b147dc202ae54c28aa69696ed0c397b6",
       "tabbable": null,
       "tooltip": null
      }
     },
     "1f2a5255e7a1428f88d375da317ac0a6": {
      "model_module": "@jupyter-widgets/base",
      "model_module_version": "2.0.0",
      "model_name": "LayoutModel",
      "state": {
       "_model_module": "@jupyter-widgets/base",
       "_model_module_version": "2.0.0",
       "_model_name": "LayoutModel",
       "_view_count": null,
       "_view_module": "@jupyter-widgets/base",
       "_view_module_version": "2.0.0",
       "_view_name": "LayoutView",
       "align_content": null,
       "align_items": null,
       "align_self": null,
       "border_bottom": null,
       "border_left": null,
       "border_right": null,
       "border_top": null,
       "bottom": null,
       "display": null,
       "flex": null,
       "flex_flow": null,
       "grid_area": null,
       "grid_auto_columns": null,
       "grid_auto_flow": null,
       "grid_auto_rows": null,
       "grid_column": null,
       "grid_gap": null,
       "grid_row": null,
       "grid_template_areas": null,
       "grid_template_columns": null,
       "grid_template_rows": null,
       "height": null,
       "justify_content": null,
       "justify_items": null,
       "left": null,
       "margin": null,
       "max_height": null,
       "max_width": null,
       "min_height": null,
       "min_width": null,
       "object_fit": null,
       "object_position": null,
       "order": null,
       "overflow": null,
       "padding": null,
       "right": null,
       "top": null,
       "visibility": null,
       "width": null
      }
     },
     "34eeb62f301549f3a9977700d49cb792": {
      "model_module": "@jupyter-widgets/controls",
      "model_module_version": "2.0.0",
      "model_name": "HTMLModel",
      "state": {
       "_dom_classes": [],
       "_model_module": "@jupyter-widgets/controls",
       "_model_module_version": "2.0.0",
       "_model_name": "HTMLModel",
       "_view_count": null,
       "_view_module": "@jupyter-widgets/controls",
       "_view_module_version": "2.0.0",
       "_view_name": "HTMLView",
       "description": "",
       "description_allow_html": false,
       "layout": "IPY_MODEL_726a134761824044a49dc0dac8362b5e",
       "placeholder": "​",
       "style": "IPY_MODEL_dc4576713e3a41528c8b2b5c0be22397",
       "tabbable": null,
       "tooltip": null,
       "value": "100%"
      }
     },
     "4fad90937259450c9a84f83a8e54f7c8": {
      "model_module": "@jupyter-widgets/controls",
      "model_module_version": "2.0.0",
      "model_name": "HTMLStyleModel",
      "state": {
       "_model_module": "@jupyter-widgets/controls",
       "_model_module_version": "2.0.0",
       "_model_name": "HTMLStyleModel",
       "_view_count": null,
       "_view_module": "@jupyter-widgets/base",
       "_view_module_version": "2.0.0",
       "_view_name": "StyleView",
       "background": null,
       "description_width": "",
       "font_size": null,
       "text_color": null
      }
     },
     "726a134761824044a49dc0dac8362b5e": {
      "model_module": "@jupyter-widgets/base",
      "model_module_version": "2.0.0",
      "model_name": "LayoutModel",
      "state": {
       "_model_module": "@jupyter-widgets/base",
       "_model_module_version": "2.0.0",
       "_model_name": "LayoutModel",
       "_view_count": null,
       "_view_module": "@jupyter-widgets/base",
       "_view_module_version": "2.0.0",
       "_view_name": "LayoutView",
       "align_content": null,
       "align_items": null,
       "align_self": null,
       "border_bottom": null,
       "border_left": null,
       "border_right": null,
       "border_top": null,
       "bottom": null,
       "display": null,
       "flex": null,
       "flex_flow": null,
       "grid_area": null,
       "grid_auto_columns": null,
       "grid_auto_flow": null,
       "grid_auto_rows": null,
       "grid_column": null,
       "grid_gap": null,
       "grid_row": null,
       "grid_template_areas": null,
       "grid_template_columns": null,
       "grid_template_rows": null,
       "height": null,
       "justify_content": null,
       "justify_items": null,
       "left": null,
       "margin": null,
       "max_height": null,
       "max_width": null,
       "min_height": null,
       "min_width": null,
       "object_fit": null,
       "object_position": null,
       "order": null,
       "overflow": null,
       "padding": null,
       "right": null,
       "top": null,
       "visibility": null,
       "width": null
      }
     },
     "b05e8cb82ae94057b1e740702bf17a1c": {
      "model_module": "@jupyter-widgets/controls",
      "model_module_version": "2.0.0",
      "model_name": "FloatProgressModel",
      "state": {
       "_dom_classes": [],
       "_model_module": "@jupyter-widgets/controls",
       "_model_module_version": "2.0.0",
       "_model_name": "FloatProgressModel",
       "_view_count": null,
       "_view_module": "@jupyter-widgets/controls",
       "_view_module_version": "2.0.0",
       "_view_name": "ProgressView",
       "bar_style": "success",
       "description": "",
       "description_allow_html": false,
       "layout": "IPY_MODEL_16e61ff77e454f10aeed9971d978e35b",
       "max": 2.0,
       "min": 0.0,
       "orientation": "horizontal",
       "style": "IPY_MODEL_d473f2efd851421280fd79b7a746ed64",
       "tabbable": null,
       "tooltip": null,
       "value": 2.0
      }
     },
     "b147dc202ae54c28aa69696ed0c397b6": {
      "model_module": "@jupyter-widgets/base",
      "model_module_version": "2.0.0",
      "model_name": "LayoutModel",
      "state": {
       "_model_module": "@jupyter-widgets/base",
       "_model_module_version": "2.0.0",
       "_model_name": "LayoutModel",
       "_view_count": null,
       "_view_module": "@jupyter-widgets/base",
       "_view_module_version": "2.0.0",
       "_view_name": "LayoutView",
       "align_content": null,
       "align_items": null,
       "align_self": null,
       "border_bottom": null,
       "border_left": null,
       "border_right": null,
       "border_top": null,
       "bottom": null,
       "display": null,
       "flex": null,
       "flex_flow": null,
       "grid_area": null,
       "grid_auto_columns": null,
       "grid_auto_flow": null,
       "grid_auto_rows": null,
       "grid_column": null,
       "grid_gap": null,
       "grid_row": null,
       "grid_template_areas": null,
       "grid_template_columns": null,
       "grid_template_rows": null,
       "height": null,
       "justify_content": null,
       "justify_items": null,
       "left": null,
       "margin": null,
       "max_height": null,
       "max_width": null,
       "min_height": null,
       "min_width": null,
       "object_fit": null,
       "object_position": null,
       "order": null,
       "overflow": null,
       "padding": null,
       "right": null,
       "top": null,
       "visibility": null,
       "width": null
      }
     },
     "bf7469480d48493fa32d0948c0508a7a": {
      "model_module": "@jupyter-widgets/controls",
      "model_module_version": "2.0.0",
      "model_name": "HTMLModel",
      "state": {
       "_dom_classes": [],
       "_model_module": "@jupyter-widgets/controls",
       "_model_module_version": "2.0.0",
       "_model_name": "HTMLModel",
       "_view_count": null,
       "_view_module": "@jupyter-widgets/controls",
       "_view_module_version": "2.0.0",
       "_view_name": "HTMLView",
       "description": "",
       "description_allow_html": false,
       "layout": "IPY_MODEL_1f2a5255e7a1428f88d375da317ac0a6",
       "placeholder": "​",
       "style": "IPY_MODEL_4fad90937259450c9a84f83a8e54f7c8",
       "tabbable": null,
       "tooltip": null,
       "value": " 2/2 [00:38&lt;00:00, 16.10s/it]"
      }
     },
     "d473f2efd851421280fd79b7a746ed64": {
      "model_module": "@jupyter-widgets/controls",
      "model_module_version": "2.0.0",
      "model_name": "ProgressStyleModel",
      "state": {
       "_model_module": "@jupyter-widgets/controls",
       "_model_module_version": "2.0.0",
       "_model_name": "ProgressStyleModel",
       "_view_count": null,
       "_view_module": "@jupyter-widgets/base",
       "_view_module_version": "2.0.0",
       "_view_name": "StyleView",
       "bar_color": null,
       "description_width": ""
      }
     },
     "dc4576713e3a41528c8b2b5c0be22397": {
      "model_module": "@jupyter-widgets/controls",
      "model_module_version": "2.0.0",
      "model_name": "HTMLStyleModel",
      "state": {
       "_model_module": "@jupyter-widgets/controls",
       "_model_module_version": "2.0.0",
       "_model_name": "HTMLStyleModel",
       "_view_count": null,
       "_view_module": "@jupyter-widgets/base",
       "_view_module_version": "2.0.0",
       "_view_name": "StyleView",
       "background": null,
       "description_width": "",
       "font_size": null,
       "text_color": null
      }
     }
    },
    "version_major": 2,
    "version_minor": 0
   }
  }
 },
 "nbformat": 4,
 "nbformat_minor": 5
}