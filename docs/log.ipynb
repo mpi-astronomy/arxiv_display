{
 "cells": [
  {
   "cell_type": "markdown",
   "id": "92bcb855",
   "metadata": {
    "papermill": {
     "duration": 0.005969,
     "end_time": "2023-09-07T04:05:08.427192",
     "exception": false,
     "start_time": "2023-09-07T04:05:08.421223",
     "status": "completed"
    },
    "tags": []
   },
   "source": [
    "# MPIA Arxiv on Deck 2\n",
    "\n",
    "Contains the steps to produce the paper extractions."
   ]
  },
  {
   "cell_type": "code",
   "execution_count": 1,
   "id": "3a0d6e11",
   "metadata": {
    "execution": {
     "iopub.execute_input": "2023-09-07T04:05:08.442198Z",
     "iopub.status.busy": "2023-09-07T04:05:08.441499Z",
     "iopub.status.idle": "2023-09-07T04:05:08.743428Z",
     "shell.execute_reply": "2023-09-07T04:05:08.742239Z"
    },
    "papermill": {
     "duration": 0.311118,
     "end_time": "2023-09-07T04:05:08.746355",
     "exception": false,
     "start_time": "2023-09-07T04:05:08.435237",
     "status": "completed"
    },
    "tags": []
   },
   "outputs": [],
   "source": [
    "# Imports\n",
    "import os\n",
    "from IPython.display import Markdown, display\n",
    "from tqdm.notebook import tqdm\n",
    "import warnings\n",
    "from PIL import Image \n",
    "\n",
    "# requires arxiv_on_deck_2\n",
    "\n",
    "from arxiv_on_deck_2.arxiv2 import (get_new_papers, \n",
    "                                    get_paper_from_identifier,\n",
    "                                    retrieve_document_source, \n",
    "                                    get_markdown_badge)\n",
    "from arxiv_on_deck_2 import (latex,\n",
    "                             latex_bib,\n",
    "                             mpia,\n",
    "                             highlight_authors_in_list)\n",
    "\n",
    "# Sometimes images are really big\n",
    "Image.MAX_IMAGE_PIXELS = 1000000000 "
   ]
  },
  {
   "cell_type": "code",
   "execution_count": 2,
   "id": "22aa9d44",
   "metadata": {
    "execution": {
     "iopub.execute_input": "2023-09-07T04:05:08.759678Z",
     "iopub.status.busy": "2023-09-07T04:05:08.759305Z",
     "iopub.status.idle": "2023-09-07T04:05:08.766721Z",
     "shell.execute_reply": "2023-09-07T04:05:08.765876Z"
    },
    "papermill": {
     "duration": 0.015907,
     "end_time": "2023-09-07T04:05:08.768749",
     "exception": false,
     "start_time": "2023-09-07T04:05:08.752842",
     "status": "completed"
    },
    "tags": []
   },
   "outputs": [],
   "source": [
    "# Some useful definitions.\n",
    "\n",
    "class AffiliationWarning(UserWarning):\n",
    "    pass\n",
    "\n",
    "class AffiliationError(RuntimeError):\n",
    "    pass\n",
    "\n",
    "def validation(source: str):\n",
    "    \"\"\"Raises error paper during parsing of source file\n",
    "    \n",
    "    Allows checks before parsing TeX code.\n",
    "    \n",
    "    Raises AffiliationWarning\n",
    "    \"\"\"\n",
    "    check = mpia.affiliation_verifications(source, verbose=True)\n",
    "    if check is not True:\n",
    "        raise AffiliationError(\"mpia.affiliation_verifications: \" + check)\n",
    "\n",
    "        \n",
    "warnings.simplefilter('always', AffiliationWarning)\n",
    "\n",
    "\n",
    "def get_markdown_qrcode(paper_id: str):\n",
    "    \"\"\" Generate a qrcode to the arxiv page using qrserver.com\n",
    "    \n",
    "    :param paper: Arxiv paper\n",
    "    :returns: markdown text\n",
    "    \"\"\"\n",
    "    url = r\"https://api.qrserver.com/v1/create-qr-code/?size=100x100&data=\"\n",
    "    txt = f\"\"\"<img src={url}\"https://arxiv.org/abs/{paper_id}\">\"\"\"\n",
    "    txt = '<div id=\"qrcode\">' + txt + '</div>'\n",
    "    return txt"
   ]
  },
  {
   "cell_type": "markdown",
   "id": "14bd6310",
   "metadata": {
    "papermill": {
     "duration": 0.004207,
     "end_time": "2023-09-07T04:05:08.777122",
     "exception": false,
     "start_time": "2023-09-07T04:05:08.772915",
     "status": "completed"
    },
    "tags": []
   },
   "source": [
    "## get list of arxiv paper candidates\n",
    "\n",
    "We use the MPIA mitarbeiter list webpage from mpia.de to get author names\n",
    "We then get all new papers from Arxiv and match authors"
   ]
  },
  {
   "cell_type": "code",
   "execution_count": 3,
   "id": "2645e73a",
   "metadata": {
    "execution": {
     "iopub.execute_input": "2023-09-07T04:05:08.787412Z",
     "iopub.status.busy": "2023-09-07T04:05:08.786734Z",
     "iopub.status.idle": "2023-09-07T04:05:37.969743Z",
     "shell.execute_reply": "2023-09-07T04:05:37.968814Z"
    },
    "papermill": {
     "duration": 29.190833,
     "end_time": "2023-09-07T04:05:37.972257",
     "exception": false,
     "start_time": "2023-09-07T04:05:08.781424",
     "status": "completed"
    },
    "tags": []
   },
   "outputs": [
    {
     "name": "stdout",
     "output_type": "stream",
     "text": [
      "P. Mollière  ->  P. Mollière  |  ['P. Mollière']\n",
      "F. Walter  ->  F. Walter  |  ['F. Walter']\n",
      "N. Neumayer  ->  N. Neumayer  |  ['N. Neumayer']\n",
      "C. Clontz  ->  C. Clontz  |  ['C. Clontz']\n",
      "M. Häberle  ->  M. Häberle  |  ['M. Häberle']\n",
      "A. Feldmeier-Krause  ->  A. Feldmeier-Krause  |  ['A. Feldmeier-Krause']\n"
     ]
    },
    {
     "name": "stdout",
     "output_type": "stream",
     "text": [
      "A. Hughes  ->  A. Hughes  |  ['A. Hughes']\n",
      "Arxiv has 59 new papers today\n",
      "          4 with possible author matches\n"
     ]
    }
   ],
   "source": [
    "# get list from MPIA website\n",
    "# it automatically filters identified non-scientists :func:`mpia.filter_non_scientists`\n",
    "mpia_authors = mpia.get_mpia_mitarbeiter_list()\n",
    "normed_mpia_authors = [k[1] for k in mpia_authors]   # initials + fullname\n",
    "new_papers = get_new_papers()\n",
    "# add manual references\n",
    "add_paper_refs = []\n",
    "new_papers.extend([get_paper_from_identifier(k) for k in add_paper_refs])\n",
    "\n",
    "candidates = []\n",
    "for paperk in new_papers:\n",
    "    # Check author list with their initials\n",
    "    normed_author_list = [mpia.get_initials(k) for k in paperk['authors']]\n",
    "    hl_authors = highlight_authors_in_list(normed_author_list, normed_mpia_authors, verbose=True)\n",
    "    matches = [(hl, orig) for hl, orig in zip(hl_authors, paperk['authors']) if 'mark' in hl]\n",
    "    paperk['authors'] = hl_authors\n",
    "    if matches:\n",
    "        # only select paper if an author matched our list\n",
    "        candidates.append(paperk)\n",
    "print(\"\"\"Arxiv has {0:,d} new papers today\"\"\".format(len(new_papers)))        \n",
    "print(\"\"\"          {0:,d} with possible author matches\"\"\".format(len(candidates)))"
   ]
  },
  {
   "cell_type": "markdown",
   "id": "3543b34a",
   "metadata": {
    "papermill": {
     "duration": 0.005387,
     "end_time": "2023-09-07T04:05:37.982711",
     "exception": false,
     "start_time": "2023-09-07T04:05:37.977324",
     "status": "completed"
    },
    "tags": []
   },
   "source": [
    "# Parse sources and generate relevant outputs\n",
    "\n",
    "From the candidates, we do the following steps:\n",
    "* get their tarball from ArXiv (and extract data)\n",
    "* find the main .tex file: find one with \\documentclass{...} (sometimes it's non trivial)\n",
    "* Check affiliations with :func:`validation`, which uses :func:`mpia.affiliation_verifications`\n",
    "* If passing the affiliations: we parse the .tex source\n",
    "   * inject sub-documents into the main (flatten the main document)\n",
    "   * parse structure, extract information (title, abstract, authors, figures...)\n",
    "   * handles `\\graphicspath` if provided\n",
    "* Generate the .md document."
   ]
  },
  {
   "cell_type": "code",
   "execution_count": 4,
   "id": "9576b79e",
   "metadata": {
    "execution": {
     "iopub.execute_input": "2023-09-07T04:05:37.994268Z",
     "iopub.status.busy": "2023-09-07T04:05:37.993894Z",
     "iopub.status.idle": "2023-09-07T04:11:04.083800Z",
     "shell.execute_reply": "2023-09-07T04:11:04.082864Z"
    },
    "papermill": {
     "duration": 326.106963,
     "end_time": "2023-09-07T04:11:04.094363",
     "exception": false,
     "start_time": "2023-09-07T04:05:37.987400",
     "status": "completed"
    },
    "scrolled": false,
    "tags": []
   },
   "outputs": [
    {
     "data": {
      "application/vnd.jupyter.widget-view+json": {
       "model_id": "436e08d86bed4504851700b2d33e8cf8",
       "version_major": 2,
       "version_minor": 0
      },
      "text/plain": [
       "  0%|          | 0/4 [00:00<?, ?it/s]"
      ]
     },
     "metadata": {},
     "output_type": "display_data"
    },
    {
     "name": "stdout",
     "output_type": "stream",
     "text": [
      "Retrieving document from  https://arxiv.org/e-print/2309.02488\n"
     ]
    },
    {
     "name": "stdout",
     "output_type": "stream",
     "text": [
      "extracting tarball to tmp_2309.02488..."
     ]
    },
    {
     "name": "stdout",
     "output_type": "stream",
     "text": [
      " done.\n"
     ]
    },
    {
     "name": "stderr",
     "output_type": "stream",
     "text": [
      "/opt/hostedtoolcache/Python/3.9.17/x64/lib/python3.9/site-packages/arxiv_on_deck_2/latex.py:473: LatexWarning: Error parsing the document directly. Trying to recover.\n",
      "  warnings.warn(LatexWarning(f\"Error parsing the document directly. Trying to recover.\"))\n"
     ]
    },
    {
     "name": "stdout",
     "output_type": "stream",
     "text": [
      "✔ → 0:header\n",
      "  ↳ 5035:\\section{Introduction}\n"
     ]
    },
    {
     "name": "stdout",
     "output_type": "stream",
     "text": [
      "✔ → 5035:\\section{Introduction}\n",
      "  ↳ 12018:\\section{Data}\n"
     ]
    },
    {
     "name": "stdout",
     "output_type": "stream",
     "text": [
      "✔ → 12018:\\section{Data}\n",
      "  ↳ 22078:\\section{Stellar Parameters and Elemental Abundances of AF Lep A}\n"
     ]
    },
    {
     "name": "stdout",
     "output_type": "stream",
     "text": [
      "✔ → 22078:\\section{Stellar Parameters and Elemental Abundances of AF Lep A}\n",
      "  ↳ 33263:\\section{Refined Dynamical Mass and Orbit\\\\of AF Lep \\lowercase{b}}\n"
     ]
    },
    {
     "name": "stdout",
     "output_type": "stream",
     "text": [
      "✔ → 33263:\\section{Refined Dynamical Mass and Orbit\\\\of AF Lep \\lowercase{b}}\n",
      "  ↳ 49129:\\section{Contextualizing the Properties of \\\\AF Lep \\lowercase{b} via Evolution Models}\n"
     ]
    },
    {
     "name": "stdout",
     "output_type": "stream",
     "text": [
      "✔ → 49129:\\section{Contextualizing the Properties of \\\\AF Lep \\lowercase{b} via Evolution Models}\n",
      "  ↳ 58597:\\section{Atmospheric Retrieval Framework}\n"
     ]
    },
    {
     "name": "stdout",
     "output_type": "stream",
     "text": [
      "✘ → 58597:\\section{Atmospheric Retrieval Framework}\n",
      "  ↳ 92064:\\section{Retrieval Analysis of AF Lep \\lowercase{b}}\n"
     ]
    },
    {
     "name": "stdout",
     "output_type": "stream",
     "text": [
      "✔ → 92064:\\section{Retrieval Analysis of AF Lep \\lowercase{b}}\n",
      "  ↳ 105359:\\section{Discussion}\n"
     ]
    },
    {
     "name": "stdout",
     "output_type": "stream",
     "text": [
      "✔ → 105359:\\section{Discussion}\n",
      "  ↳ 140769:\\section{Summary}\n"
     ]
    },
    {
     "name": "stdout",
     "output_type": "stream",
     "text": [
      "✔ → 140769:\\section{Summary}\n",
      "  ↳ 149769:\\section{Literature Comparison for our Stellar parameters of AF~Lep~A}\n",
      "✔ → 149769:\\section{Literature Comparison for our Stellar parameters of AF~Lep~A}\n",
      "  ↳ 153125:\\section{Parameter Posteriors and Data--Model Comparison of Our Orbit Analysis}\n",
      "✔ → 153125:\\section{Parameter Posteriors and Data--Model Comparison of Our Orbit Analysis}\n",
      "  ↳ 153463:\\section{Evolution-based Properties of AF~Lep~\\lowercase{b} Assuming a Younger Age than the Host Star}\n"
     ]
    },
    {
     "name": "stdout",
     "output_type": "stream",
     "text": [
      "✔ → 153463:\\section{Evolution-based Properties of AF~Lep~\\lowercase{b} Assuming a Younger Age than the Host Star}\n",
      "  ↳ 153978:\\section{Retrievals on All $K1/K2/L'$ Photometry with Different Spectroscopic Datasets and Parameter Priors}\n",
      "✔ → 153978:\\section{Retrievals on All $K1/K2/L'$ Photometry with Different Spectroscopic Datasets and Parameter Priors}\n",
      "  ↳ 155196:\\section{Retrievals on Different Spectroscopic Datasets and Parameter Priors of AF~Lep~\\lowercase{b}, with Photometry Excluded}\n"
     ]
    },
    {
     "name": "stdout",
     "output_type": "stream",
     "text": [
      "✔ → 155196:\\section{Retrievals on Different Spectroscopic Datasets and Parameter Priors of AF~Lep~\\lowercase{b}, with Photometry Excluded}\n",
      "  ↳ 167830:end\n"
     ]
    },
    {
     "name": "stdout",
     "output_type": "stream",
     "text": [
      "P. Mollière  ->  P. Mollière  |  ['P. Mollière']\n"
     ]
    },
    {
     "name": "stdout",
     "output_type": "stream",
     "text": [
      "Found 278 bibliographic references in tmp_2309.02488/ms.bbl.\n",
      "syntax error in line 529: '=' expected\n",
      "Retrieving document from  https://arxiv.org/e-print/2309.02493\n"
     ]
    },
    {
     "name": "stderr",
     "output_type": "stream",
     "text": [
      "/opt/hostedtoolcache/Python/3.9.17/x64/lib/python3.9/site-packages/arxiv_on_deck_2/latex_bib.py:132: UserWarning: Error processing bibitem\n",
      " item = \\bibitem[{{Pawellek} {et~al.}(2021){Pawellek}, {Wyatt}, {Matr{à}}, {Kennedy},   {Yelverton6}}]{2021MNRAS.502.5390P}{Pawellek}, N., {Wyatt}, M., {Matr{à}}, L., {Kennedy}, G.,  {Yelverton6},  B. 2021, \\mnras, 502, 5390, \\dodoi{10.1093/mnras/stab269}\n",
      " regex = \n",
      "        \\\\bibitem(\\[[^\\[\\]]*?\\]){(?P<bibkey>[a-zA-Z0-9\\-\\+\\.\\S]+?)}(?P<authors>|([\\D]*?))(?P<year>[12][0-9]{3})(?P<rest>.*)\n",
      "        \n",
      "  warnings.warn(str(e))\n"
     ]
    },
    {
     "name": "stdout",
     "output_type": "stream",
     "text": [
      "extracting tarball to tmp_2309.02493..."
     ]
    },
    {
     "name": "stdout",
     "output_type": "stream",
     "text": [
      " done.\n"
     ]
    },
    {
     "name": "stdout",
     "output_type": "stream",
     "text": [
      "Found 82 bibliographic references in tmp_2309.02493/mnras_template.bbl.\n",
      "Retrieving document from  https://arxiv.org/e-print/2309.02503\n"
     ]
    },
    {
     "name": "stdout",
     "output_type": "stream",
     "text": [
      "extracting tarball to tmp_2309.02503..."
     ]
    },
    {
     "name": "stdout",
     "output_type": "stream",
     "text": [
      " done.\n"
     ]
    },
    {
     "name": "stdout",
     "output_type": "stream",
     "text": [
      "N. Neumayer  ->  N. Neumayer  |  ['N. Neumayer']\n",
      "C. Clontz  ->  C. Clontz  |  ['C. Clontz']\n",
      "M. Häberle  ->  M. Häberle  |  ['M. Häberle']\n",
      "A. Feldmeier-Krause  ->  A. Feldmeier-Krause  |  ['A. Feldmeier-Krause']\n"
     ]
    },
    {
     "name": "stdout",
     "output_type": "stream",
     "text": [
      "Found 94 bibliographic references in tmp_2309.02503/paper.bbl.\n",
      "syntax error in line 543: '=' expected\n",
      "Retrieving document from  https://arxiv.org/e-print/2309.03186\n"
     ]
    },
    {
     "name": "stdout",
     "output_type": "stream",
     "text": [
      "extracting tarball to tmp_2309.03186..."
     ]
    },
    {
     "name": "stdout",
     "output_type": "stream",
     "text": [
      " done.\n"
     ]
    }
   ],
   "source": [
    "documents = []\n",
    "failed = []\n",
    "for paper in tqdm(candidates):\n",
    "    paper_id = paper['identifier'].lower().replace('arxiv:', '')\n",
    "    \n",
    "    folder = f'tmp_{paper_id}'\n",
    "\n",
    "    try:\n",
    "        if not os.path.isdir(folder):\n",
    "            folder = retrieve_document_source(f\"{paper_id}\", f'tmp_{paper_id}')\n",
    "        \n",
    "        try:\n",
    "            doc = latex.LatexDocument(folder, validation=validation)    \n",
    "        except AffiliationError as affilerror:\n",
    "            msg = f\"ArXiv:{paper_id:s} is not an MPIA paper... \" + str(affilerror)\n",
    "            failed.append((paper, \"affiliation error: \" + str(affilerror) ))\n",
    "            continue\n",
    "        \n",
    "        # Hack because sometimes author parsing does not work well\n",
    "        if (len(doc.authors) != len(paper['authors'])):\n",
    "            doc._authors = paper['authors']\n",
    "        else:\n",
    "            # highlight authors (FIXME: doc.highlight_authors)\n",
    "            # done on arxiv paper already\n",
    "            doc._authors = highlight_authors_in_list(\n",
    "                [mpia.get_initials(k) for k in doc.authors], \n",
    "                normed_mpia_authors, verbose=True)\n",
    "        if (doc.abstract) in (None, ''):\n",
    "            doc._abstract = paper['abstract']\n",
    "            \n",
    "        doc.comment = (get_markdown_badge(paper_id) + \n",
    "                       \"<mark>Appeared on: \" + paper['date'] + \"</mark> - \")\n",
    "        if paper['comments']:\n",
    "            doc.comment += \" _\" + paper['comments'] + \"_\"\n",
    "        \n",
    "        full_md = doc.generate_markdown_text()\n",
    "        \n",
    "        full_md += get_markdown_qrcode(paper_id)\n",
    "        \n",
    "        # replace citations\n",
    "        try:\n",
    "            bibdata = latex_bib.LatexBib.from_doc(doc)\n",
    "            full_md = latex_bib.replace_citations(full_md, bibdata)\n",
    "        except Exception as e:\n",
    "            print(e)\n",
    "        \n",
    "        documents.append((paper_id, full_md))\n",
    "    except Exception as e:\n",
    "        warnings.warn(latex.LatexWarning(f\"{paper_id:s} did not run properly\\n\" +\n",
    "                                         str(e)\n",
    "                                        ))\n",
    "        failed.append((paper, \"latex error \" + str(e)))"
   ]
  },
  {
   "cell_type": "markdown",
   "id": "2505a25c",
   "metadata": {
    "papermill": {
     "duration": 0.007105,
     "end_time": "2023-09-07T04:11:04.109125",
     "exception": false,
     "start_time": "2023-09-07T04:11:04.102020",
     "status": "completed"
    },
    "tags": []
   },
   "source": [
    "### Export the logs\n",
    "\n",
    "Throughout, we also keep track of the logs per paper. see `logs-{today date}.md` "
   ]
  },
  {
   "cell_type": "code",
   "execution_count": 5,
   "id": "d733828a",
   "metadata": {
    "execution": {
     "iopub.execute_input": "2023-09-07T04:11:04.125765Z",
     "iopub.status.busy": "2023-09-07T04:11:04.124628Z",
     "iopub.status.idle": "2023-09-07T04:11:04.146667Z",
     "shell.execute_reply": "2023-09-07T04:11:04.145694Z"
    },
    "papermill": {
     "duration": 0.033081,
     "end_time": "2023-09-07T04:11:04.148940",
     "exception": false,
     "start_time": "2023-09-07T04:11:04.115859",
     "status": "completed"
    },
    "scrolled": false,
    "tags": []
   },
   "outputs": [
    {
     "data": {
      "text/markdown": [
       "## Successful papers"
      ],
      "text/plain": [
       "<IPython.core.display.Markdown object>"
      ]
     },
     "metadata": {},
     "output_type": "display_data"
    },
    {
     "data": {
      "text/markdown": [
       "\n",
       "|||\n",
       "|---:|:---|\n",
       "| [![arXiv](https://img.shields.io/badge/arXiv-arXiv:2309.02488-b31b1b.svg)](https://arxiv.org/abs/arXiv:2309.02488) | **ELemental abundances of Planets and brown dwarfs Imaged around Stars  (ELPIS): I. Potential Metal Enrichment of the Exoplanet AF Lep b and a Novel  Retrieval Approach for Cloudy Self-luminous Atmospheres**  |\n",
       "|| Z. Zhang, et al. -- incl., <mark>P. Mollière</mark> |\n",
       "|*Appeared on*| *2023-09-07*|\n",
       "|*Comments*| *AJ, in press. Main text: Pages 1-32, Figures 1-15, Tables 1-6. All figures and tables after References belong to the Appendix (Pages 32-58, Figures 16-20, Table 7). For supplementary materials, please refer to the Zenodo repository this https URL*|\n",
       "|**Abstract**| AF Lep A+b is a remarkable planetary system hosting a gas-giant planet that has the lowest dynamical mass among directly imaged exoplanets. We present an in-depth analysis of the atmospheric composition of the star and planet to probe the planet's formation pathway. Based on new high-resolution spectroscopy of AF Lep A, we measure a uniform set of stellar parameters and elemental abundances (e.g., [Fe/H] = $-0.27 \\pm 0.31$ dex). The planet's dynamical mass ($2.8^{+0.6}_{-0.5}$ M$_{\\rm Jup}$) and orbit are also refined using published radial velocities, relative astrometry, and absolute astrometry. We use petitRADTRANS to perform chemically-consistent atmospheric retrievals for AF Lep b. The radiative-convective equilibrium temperature profiles are incorporated as parameterized priors on the planet's thermal structure, leading to a robust characterization for cloudy self-luminous atmospheres. This novel approach is enabled by constraining the temperature-pressure profiles via the temperature gradient $(d\\ln{T}/d\\ln{P})$, a departure from previous studies that solely modeled the temperature. Through multiple retrievals performed on different portions of the $0.9-4.2$ $\\mu$m spectrophotometry, along with different priors on the planet's mass and radius, we infer that AF Lep b likely possesses a metal-enriched atmosphere ([Fe/H] $> 1.0$ dex). AF Lep b's potential metal enrichment may be due to planetesimal accretion, giant impacts, and/or core erosion. The first process coincides with the debris disk in the system, which could be dynamically excited by AF Lep b and lead to planetesimal bombardment. Our analysis also determines $T_{\\rm eff} \\approx 800$ K, $\\log{(g)} \\approx 3.7$ dex, and the presence of silicate clouds and dis-equilibrium chemistry in the atmosphere. Straddling the L/T transition, AF Lep b is thus far the coldest exoplanet with suggested evidence of silicate clouds. |"
      ],
      "text/plain": [
       "[arXiv:2309.02488] ELemental abundances of Planets and brown dwarfs Imaged around Stars  (ELPIS): I. Potential Metal Enrichment of the Exoplanet AF Lep b and a Novel  Retrieval Approach for Cloudy Self-luminous Atmospheres\n",
       "\tZ. Zhang, et al. -- incl., <mark>P. Mollière</mark>"
      ]
     },
     "metadata": {},
     "output_type": "display_data"
    },
    {
     "data": {
      "text/markdown": [
       "\n",
       "|||\n",
       "|---:|:---|\n",
       "| [![arXiv](https://img.shields.io/badge/arXiv-arXiv:2309.02493-b31b1b.svg)](https://arxiv.org/abs/arXiv:2309.02493) | **NOEMA observations of GN-z11: Constraining Neutral Interstellar Medium  and Dust Formation in the Heart of Cosmic Reionization at $z=10.6$**  |\n",
       "|| Y. Fudamoto, et al. -- incl., <mark>F. Walter</mark> |\n",
       "|*Appeared on*| *2023-09-07*|\n",
       "|*Comments*| *submitted to MNRAS, 7 pages, 4 figures, 1 table*|\n",
       "|**Abstract**| We present results of dust continuum and [CII]$\\,158\\,{\\rm \\mu m}$ emission line observations of a remarkably UV-luminous ($M_{\\rm UV}=-21.6$) galaxy at $z=10.603$: GN-z11. Using the Northern Extended Millimeter Array (NOEMA), observations have been carried out over multiple observing cycles. We achieved a high sensitivity resulting in a $\\lambda_{\\rm rest}=160\\,{\\rm \\mu m}$ continuum $1\\,\\sigma$ depth of $13.0\\,\\rm{\\mu Jy/beam}$ and a [CII] emission line $1\\,\\sigma$ sensitivity of $31\\,\\rm{mJy/beam\\,km/s}$ using $50\\,\\rm{km/s}$ binning with a $\\sim 2\\,{\\rm arcsec}$ synthesized beam. Neither dust continuum nor [CII]$\\,158\\,{\\rm \\mu m}$ line emission are detected at the expected frequency of $\\nu_{\\rm [CII]} = 163.791\\,\\rm{GHz}$ and the sky location of GN-z11. The upper limits show that GN-z11 is neither luminous in $L_{\\rm IR}$ nor $L_{\\rm [CII]}$, with a dust mass $3\\,\\sigma$ limit of ${\\rm log}(M_{\\rm dust}/{\\rm M_{\\odot}}) < 6.5-6.9$ and with a [CII] based molecular gas mass $3\\,\\sigma$ limit of ${\\rm log}(M_{\\rm mol,[CII]}/{\\rm M_{\\odot}}) < 9.3$. Together with radiative transfer calculations, we also investigated the possible cause of the dust poor nature of the GN-z11 showed by the blue color in the UV continuum of GN-z11 ($\\beta_{\\rm UV}=-2.4$), and found that $\\gtrsim3\\times$ deeper observations are crucial to study dust production at very high-redshift. Nevertheless, our observations show the crucial role of deep mm/submm observations of very high redshift galaxies to constrain multiple phases in the interstellar medium. |"
      ],
      "text/plain": [
       "[arXiv:2309.02493] NOEMA observations of GN-z11: Constraining Neutral Interstellar Medium  and Dust Formation in the Heart of Cosmic Reionization at $z=10.6$\n",
       "\tY. Fudamoto, et al. -- incl., <mark>F. Walter</mark>"
      ]
     },
     "metadata": {},
     "output_type": "display_data"
    },
    {
     "data": {
      "text/markdown": [
       "\n",
       "|||\n",
       "|---:|:---|\n",
       "| [![arXiv](https://img.shields.io/badge/arXiv-arXiv:2309.02503-b31b1b.svg)](https://arxiv.org/abs/arXiv:2309.02503) | **oMEGACat I: MUSE spectroscopy of 300,000 stars within the half-light  radius of $ω$ Centauri**  |\n",
       "|| M. S. Nitschai, et al. -- incl., <mark>N. Neumayer</mark>, <mark>C. Clontz</mark>, <mark>M. Häberle</mark>, <mark>A. Feldmeier-Krause</mark> |\n",
       "|*Appeared on*| *2023-09-07*|\n",
       "|*Comments*| *27 pages, 18 figures, 3 tables, accepted for publication in ApJ, the catalog will be available in the online material of the published article*|\n",
       "|**Abstract**| Omega Centauri ($\\omega$ Cen) is the most massive globular cluster of the Milky Way and has been the focus of many studies that reveal the complexity of its stellar populations and kinematics. However, most previous studies have used photometric and spectroscopic datasets with limited spatial or magnitude coverage, while we aim to investigate it having full spatial coverage out to its half-light radius and stars ranging from the main sequence to the tip of the red giant branch. This is the first paper in a new survey of $\\omega$ Cen that combines uniform imaging and spectroscopic data out to its half-light radius to study its stellar populations, kinematics, and formation history. In this paper, we present an unprecedented MUSE spectroscopic dataset combining 87 new MUSE pointings with previous observations collected from guaranteed time observations. We extract spectra of more than 300,000 stars reaching more than two magnitudes below the main sequence turn-off. We use these spectra to derive metallicity and line-of-sight velocity measurements and determine robust uncertainties on these quantities using repeat measurements. Applying quality cuts we achieve signal-to-noise ratios of 16.47/73.51 and mean metallicity errors of 0.174/0.031 dex for the main sequence stars (18 mag $\\rm < mag_{F625W}<$22 mag) and red giant branch stars (16 mag $<\\rm mag_{F625W}<$10 mag), respectively. We correct the metallicities for atomic diffusion and identify foreground stars. This massive spectroscopic dataset will enable future studies that will transform our understanding of $\\omega$ Cen, allowing us to investigate the stellar populations, ages, and kinematics in great detail. |"
      ],
      "text/plain": [
       "[arXiv:2309.02503] oMEGACat I: MUSE spectroscopy of 300,000 stars within the half-light  radius of $ω$ Centauri\n",
       "\tM. S. Nitschai, et al. -- incl., <mark>N. Neumayer</mark>, <mark>C. Clontz</mark>, <mark>M. Häberle</mark>, <mark>A. Feldmeier-Krause</mark>"
      ]
     },
     "metadata": {},
     "output_type": "display_data"
    },
    {
     "data": {
      "text/markdown": [
       "## Failed papers"
      ],
      "text/plain": [
       "<IPython.core.display.Markdown object>"
      ]
     },
     "metadata": {},
     "output_type": "display_data"
    },
    {
     "data": {
      "text/markdown": [
       "\n",
       "|||\n",
       "|---:|:---|\n",
       "| [![arXiv](https://img.shields.io/badge/arXiv-arXiv:2309.03186-b31b1b.svg)](https://arxiv.org/abs/arXiv:2309.03186) | **HCN emission from translucent gas and UV-illuminated cloud edges  revealed by wide-field IRAM 30m maps of Orion B GMC: Revisiting its role as  tracer of the dense gas reservoir for star formation**  |\n",
       "|| M. G. Santa-Maria, et al. -- incl., <mark>A. Hughes</mark> |\n",
       "|*Appeared on*| *2023-09-07*|\n",
       "|*Comments*| *accepted for publication in A&A. 24 pages, 18 figures, plus Appendix. Abridged Abstract. English language not edited*|\n",
       "|**Abstract**| We present 5 deg^2 (~250 pc^2) HCN, HNC, HCO+, and CO J=1-0 maps of the Orion B GMC, complemented with existing wide-field [CI] 492 GHz maps, as well as new pointed observations of rotationally excited HCN, HNC, H13CN, and HN13C lines. We detect anomalous HCN J=1-0 hyperfine structure line emission almost everywhere in the cloud. About 70% of the total HCN J=1-0 luminosity arises from gas at A_V < 8 mag. The HCN/CO J=1-0 line intensity ratio shows a bimodal behavior with an inflection point at A_V < 3 mag typical of translucent gas and UV-illuminated cloud edges. We find that most of the HCN J=1-0 emission arises from extended gas with n(H2) < 10^4 cm^-3, even lower density gas if the ionization fraction is > 10^-5 and electron excitation dominates. This result explains the low-A_V branch of the HCN/CO J=1-0 intensity ratio distribution. Indeed, the highest HCN/CO ratios (~0.1) at A_V < 3 mag correspond to regions of high [CI] 492 GHz/CO J=1-0 intensity ratios (>1) characteristic of low-density PDRs. Enhanced FUV radiation favors the formation and excitation of HCN on large scales, not only in dense star-forming clumps. The low surface brightness HCN and HCO+ J=1-0 emission scale with I_FIR (a proxy of the stellar FUV radiation field) in a similar way. Together with CO J=1-0, these lines respond to increasing I_FIR up to G0~20. On the other hand, the bright HCN J=1-0 emission from dense gas in star-forming clumps weakly responds to I_FIR once the FUV radiation field becomes too intense (G0>1500). The different power law scalings (produced by different chemistries, densities, and line excitation regimes) in a single but spatially resolved GMC resemble the variety of Kennicutt-Schmidt law indexes found in galaxy averages. As a corollary for extragalactic studies, we conclude that high HCN/CO J=1-0 line intensity ratios do not always imply the presence of dense gas. |\n",
       "|<p style=\"color:green\"> **ERROR** </p>| <p style=\"color:green\">affiliation error: mpia.affiliation_verifications: 'Max' keyword not found.</p> |"
      ],
      "text/plain": [
       "<IPython.core.display.Markdown object>"
      ]
     },
     "metadata": {},
     "output_type": "display_data"
    }
   ],
   "source": [
    "import datetime\n",
    "today = str(datetime.date.today())\n",
    "logfile = f\"_build/html/logs/log-{today}.md\"\n",
    "\n",
    "\n",
    "with open(logfile, 'w') as logs:\n",
    "    # Success\n",
    "    logs.write(f'# Arxiv on Deck 2: Logs - {today}\\n\\n')\n",
    "    logs.write(\"\"\"* Arxiv had {0:,d} new papers\\n\"\"\".format(len(new_papers)))\n",
    "    logs.write(\"\"\"    * {0:,d} with possible author matches\\n\\n\"\"\".format(len(candidates)))\n",
    "    logs.write(\"## Sucessful papers\\n\\n\")\n",
    "    display(Markdown(\"## Successful papers\"))\n",
    "    success = [k[0] for k in documents]\n",
    "    for candid in candidates:\n",
    "        if candid['identifier'].split(':')[-1] in success:\n",
    "            display(candid)\n",
    "            logs.write(candid.generate_markdown_text() + '\\n\\n')\n",
    "\n",
    "    ## failed\n",
    "    logs.write(\"## Failed papers\\n\\n\")\n",
    "    display(Markdown(\"## Failed papers\"))\n",
    "    failed = sorted(failed, key=lambda x: x[1])\n",
    "    current_reason = \"\"\n",
    "    for paper, reason in failed:\n",
    "        if 'affiliation' in reason:\n",
    "            color = 'green'\n",
    "        else:\n",
    "            color = 'red'\n",
    "        data = Markdown(\n",
    "                paper.generate_markdown_text() + \n",
    "                f'\\n|<p style=\"color:{color:s}\"> **ERROR** </p>| <p style=\"color:{color:s}\">{reason:s}</p> |'\n",
    "               )\n",
    "        if reason != current_reason:\n",
    "            logs.write(f'### {reason:s} \\n\\n')\n",
    "            current_reason = reason\n",
    "        logs.write(data.data + '\\n\\n')\n",
    "        \n",
    "        # only display here the important errors (all in logs)\n",
    "        # if color in ('red',):\n",
    "        display(data)"
   ]
  },
  {
   "cell_type": "markdown",
   "id": "472d20ee",
   "metadata": {
    "papermill": {
     "duration": 0.008034,
     "end_time": "2023-09-07T04:11:04.165112",
     "exception": false,
     "start_time": "2023-09-07T04:11:04.157078",
     "status": "completed"
    },
    "tags": []
   },
   "source": [
    "## Export documents\n",
    "\n",
    "We now write the .md files and export relevant images"
   ]
  },
  {
   "cell_type": "code",
   "execution_count": 6,
   "id": "d426aed9",
   "metadata": {
    "execution": {
     "iopub.execute_input": "2023-09-07T04:11:04.183377Z",
     "iopub.status.busy": "2023-09-07T04:11:04.182763Z",
     "iopub.status.idle": "2023-09-07T04:11:04.192881Z",
     "shell.execute_reply": "2023-09-07T04:11:04.192008Z"
    },
    "papermill": {
     "duration": 0.02155,
     "end_time": "2023-09-07T04:11:04.194738",
     "exception": false,
     "start_time": "2023-09-07T04:11:04.173188",
     "status": "completed"
    },
    "tags": []
   },
   "outputs": [],
   "source": [
    "def export_markdown_summary(md: str, md_fname:str, directory: str):\n",
    "    \"\"\"Export MD document and associated relevant images\"\"\"\n",
    "    import os\n",
    "    import shutil\n",
    "    import re\n",
    "\n",
    "    if (os.path.exists(directory) and not os.path.isdir(directory)):\n",
    "        raise RuntimeError(f\"a non-directory file exists with name {directory:s}\")\n",
    "\n",
    "    if (not os.path.exists(directory)):\n",
    "        print(f\"creating directory {directory:s}\")\n",
    "        os.mkdir(directory)\n",
    "\n",
    "    fig_fnames = (re.compile(r'\\[Fig.*\\]\\((.*)\\)').findall(md) + \n",
    "                  re.compile(r'\\<img src=\"([^>\\s]*)\"[^>]*/>').findall(md))\n",
    "    for fname in fig_fnames:\n",
    "        if 'http' in fname:\n",
    "            # No need to copy online figures\n",
    "            continue\n",
    "        destdir = os.path.join(directory, os.path.dirname(fname))\n",
    "        destfname = os.path.join(destdir, os.path.basename(fname))\n",
    "        try:\n",
    "            os.makedirs(destdir)\n",
    "        except FileExistsError:\n",
    "            pass\n",
    "        shutil.copy(fname, destfname)\n",
    "    with open(os.path.join(directory, md_fname), 'w') as fout:\n",
    "        fout.write(md)\n",
    "    print(\"exported in \", os.path.join(directory, md_fname))\n",
    "    [print(\"    + \" + os.path.join(directory,fk)) for fk in fig_fnames]"
   ]
  },
  {
   "cell_type": "code",
   "execution_count": 7,
   "id": "014d04a4",
   "metadata": {
    "execution": {
     "iopub.execute_input": "2023-09-07T04:11:04.213805Z",
     "iopub.status.busy": "2023-09-07T04:11:04.213121Z",
     "iopub.status.idle": "2023-09-07T04:11:04.231646Z",
     "shell.execute_reply": "2023-09-07T04:11:04.230491Z"
    },
    "papermill": {
     "duration": 0.030693,
     "end_time": "2023-09-07T04:11:04.233646",
     "exception": false,
     "start_time": "2023-09-07T04:11:04.202953",
     "status": "completed"
    },
    "tags": []
   },
   "outputs": [
    {
     "name": "stdout",
     "output_type": "stream",
     "text": [
      "exported in  _build/html/2309.02488.md\n",
      "    + _build/html/tmp_2309.02488/./assist_violin_key_parameters.png\n",
      "    + _build/html/tmp_2309.02488/./AFLepb_spectrophotometry.png\n",
      "    + _build/html/tmp_2309.02488/./Mesa23DeRosa23spec_flex_offsets_allphot_massrad_PTslope_retrieval_results.png\n",
      "exported in  _build/html/2309.02493.md\n",
      "    + _build/html/tmp_2309.02493/./GNz11_c2_mom0.v3.png\n",
      "    + _build/html/tmp_2309.02493/./GNz11_continuum.v0.png\n",
      "    + _build/html/tmp_2309.02493/./SFR-LC2.v1_mod.png\n",
      "exported in  _build/html/2309.02503.md\n",
      "    + _build/html/tmp_2309.02503/./figures/Figure5.png\n",
      "    + _build/html/tmp_2309.02503/./figures/Figure2.png\n",
      "    + _build/html/tmp_2309.02503/./figures/Figure8a.png\n",
      "    + _build/html/tmp_2309.02503/./figures/Figure8b.png\n"
     ]
    }
   ],
   "source": [
    "for paper_id, md in documents:\n",
    "    export_markdown_summary(md, f\"{paper_id:s}.md\", '_build/html/')"
   ]
  },
  {
   "cell_type": "markdown",
   "id": "f087a0a7",
   "metadata": {
    "papermill": {
     "duration": 0.007984,
     "end_time": "2023-09-07T04:11:04.249753",
     "exception": false,
     "start_time": "2023-09-07T04:11:04.241769",
     "status": "completed"
    },
    "tags": []
   },
   "source": [
    "## Display the papers\n",
    "\n",
    "Not necessary but allows for a quick check."
   ]
  },
  {
   "cell_type": "code",
   "execution_count": 8,
   "id": "fd25f625",
   "metadata": {
    "execution": {
     "iopub.execute_input": "2023-09-07T04:11:04.267789Z",
     "iopub.status.busy": "2023-09-07T04:11:04.266997Z",
     "iopub.status.idle": "2023-09-07T04:11:04.277591Z",
     "shell.execute_reply": "2023-09-07T04:11:04.276626Z"
    },
    "papermill": {
     "duration": 0.022177,
     "end_time": "2023-09-07T04:11:04.279628",
     "exception": false,
     "start_time": "2023-09-07T04:11:04.257451",
     "status": "completed"
    },
    "scrolled": false,
    "tags": []
   },
   "outputs": [
    {
     "data": {
      "text/markdown": [
       "<div class=\"macros\" style=\"visibility:hidden;\">\n",
       "$\\newcommand{\\ensuremath}{}$\n",
       "$\\newcommand{\\xspace}{}$\n",
       "$\\newcommand{\\object}[1]{\\texttt{#1}}$\n",
       "$\\newcommand{\\farcs}{{.}''}$\n",
       "$\\newcommand{\\farcm}{{.}'}$\n",
       "$\\newcommand{\\arcsec}{''}$\n",
       "$\\newcommand{\\arcmin}{'}$\n",
       "$\\newcommand{\\ion}[2]{#1#2}$\n",
       "$\\newcommand{\\textsc}[1]{\\textrm{#1}}$\n",
       "$\\newcommand{\\hl}[1]{\\textrm{#1}}$\n",
       "$\\newcommand{\\footnote}[1]{}$\n",
       "$\\newcommand$\n",
       "$\\newcommand{\\vdag}{(v)^\\dagger}$\n",
       "$\\newcommand$\n",
       "$\\newcommand$\n",
       "$\\newcommand$\n",
       "$\\newcommand$\n",
       "$\\newcommand$\n",
       "$\\newcommand{\\dotdeg}{\\rlap{.}^\\circ}$\n",
       "$\\newcommand{\\dotarcsec}{\\rlap{.}\"}$\n",
       "$\\newcommand{\\thefigure}{\\arabic{figure}}$\n",
       "$\\newcommand{\\thefigure}{\\arabic{figure}}$</div>\n",
       "\n",
       "\n",
       "\n",
       "<div id=\"title\">\n",
       "\n",
       "# ELemental abundances of Planets and brown dwarfs Imaged around Stars (ELPIS): I. Potential Metal Enrichment of the Exoplanet AF Lep b and a Novel Retrieval Approach for Cloudy Self-luminous Atmospheres\n",
       "\n",
       "</div>\n",
       "<div id=\"comments\">\n",
       "\n",
       "[![arXiv](https://img.shields.io/badge/arXiv-2309.02488-b31b1b.svg)](https://arxiv.org/abs/2309.02488)<mark>Appeared on: 2023-09-07</mark> -  _AJ, in press. Main text: Pages 1-32, Figures 1-15, Tables 1-6. All figures and tables after References belong to the Appendix (Pages 32-58, Figures 16-20, Table 7). For supplementary materials, please refer to the Zenodo repository this https URL_\n",
       "\n",
       "</div>\n",
       "<div id=\"authors\">\n",
       "\n",
       "Z. Z. (张周健), et al. -- incl., <mark>P. Mollière</mark>\n",
       "\n",
       "</div>\n",
       "<div id=\"abstract\">\n",
       "\n",
       "**Abstract:** AF Lep A+b is a remarkable planetary system hosting a gas-giant planet that has the lowest dynamical mass among directly imaged exoplanets. We present an in-depth analysis of the atmospheric composition of the star and planet to probe the planet's formation pathway. Based on new high-resolution spectroscopy of AF Lep A, we measure a uniform set of stellar parameters and elemental abundances (e.g., [ Fe/H ] $=-0.27 \\pm 0.31$ dex). The planet's dynamical mass ( $2.8^{+0.6}_{-0.5}$ M $_{\\rm Jup}$ ) and orbit are also refined using published radial velocities, relative astrometry, and absolute astrometry. We use \\texttt{petitRADTRANS} to perform chemically-consistent atmospheric retrievals for AF Lep b. The radiative-convective equilibrium temperature profiles are incorporated as parameterized priors on the planet's thermal structure, leading to a robust characterization for cloudy self-luminous atmospheres. This novel approach is enabled by constraining the temperature-pressure profiles via the temperature gradient $(d\\ln{T}/d\\ln{P})$ , a departure from previous studies that solely modeled the temperature. Through multiple retrievals performed on different portions of the $0.9-4.2$  $\\mu$ m spectrophotometry, along with different priors on the planet's mass and radius, we infer that AF Lep b likely possesses a metal-enriched atmosphere ( [ Fe/H ] $>1.0$ dex). AF Lep b's potential metal enrichment may be due to planetesimal accretion, giant impacts, and/or core erosion. The first process coincides with the debris disk in the system, which could be dynamically excited by AF Lep b and lead to planetesimal bombardment. Our analysis also determines $T_{\\rm eff} \\approx 800$ K, $\\log{(g)} \\approx 3.7$ dex, and the presence of silicate clouds and dis-equilibrium chemistry in the atmosphere. Straddling the L/T transition, AF Lep b is thus far the coldest exoplanet with suggested evidence of silicate clouds.\n",
       "\n",
       "</div>\n",
       "\n",
       "<div id=\"div_fig1\">\n",
       "\n",
       "<img src=\"tmp_2309.02488/./assist_violin_key_parameters.png\" alt=\"Fig25\" width=\"100%\"/>\n",
       "\n",
       "**Figure 25. -** Violin plot for the posteriors of several key physical and chemical parameters derived from all the nine retrieval runs (Section \\ref{sec:retrieval}). The left three columns (blue) correspond to the retrievals on the $K1/K2/L'$ photometry and the \\cite{2023AandA...672A..93M} spectrum (Section \\ref{subsec:phot_m23spec}). The middle three columns (green) correspond to the retrievals on the $K1/K2/L'$ photometry and the \\cite{2023AandA...672A..94D} spectrum (Section \\ref{subsec:phot_d23spec}). The right three columns (red) correspond to the retrievals on the $K1/K2/L'$ photometry and both \\cite{2023AandA...672A..93M} and \\cite{2023AandA...672A..94D} spectra. Plots with darker blue/green/red colors suggest the addition of narrower and constrained priors on $M$(slightly darker) or both $M$ and $R$(much darker). The measured [Fe/H] of the host star AF Lep A ($-0.27 \\pm 0.31$ dex; Section \\ref{sec:host_param_abund}) is shown as the purple shade in the top panel.  (*fig:violin_key*)\n",
       "\n",
       "</div>\n",
       "<div id=\"div_fig2\">\n",
       "\n",
       "<img src=\"tmp_2309.02488/./AFLepb_spectrophotometry.png\" alt=\"Fig1\" width=\"100%\"/>\n",
       "\n",
       "**Figure 1. -** Spectrophotometry of AF Lep b from \\citeauthor{2023AandA...672A..93M}(\\citeyear{2023AandA...672A..93M}; blue), \\citeauthor{2023AandA...672A..94D}(\\citeyear{2023AandA...672A..94D}; green), and \\citeauthor{2023ApJ...950L..19F}(\\citeyear{2023ApJ...950L..19F}; purple). Photometry is converted from magnitudes into fluxes (unless reported in the literature) based on zero points provided by \\cite{2017AJ....154..218N}. Response curves of $K1/K2/L'$ bands (grey) are obtained from the VLT/SPHERE and Keck/NIRC2 websites.  (*fig:specphot*)\n",
       "\n",
       "</div>\n",
       "<div id=\"div_fig3\">\n",
       "\n",
       "<img src=\"tmp_2309.02488/./Mesa23DeRosa23spec_flex_offsets_allphot_massrad_PTslope_retrieval_results.png\" alt=\"Fig23\" width=\"100%\"/>\n",
       "\n",
       "**Figure 23. -** Results of the retrieval analysis on $K1/K2/L'$ photometry and both \\cite{2023AandA...672A..93M} and \\cite{2023AandA...672A..94D} spectra of AF Lep b (Section \\ref{subsec:phot_d23spec}), with the same format as Figure \\ref{fig:results_m23}. (*fig:results_m23d23*)\n",
       "\n",
       "</div><div id=\"qrcode\"><img src=https://api.qrserver.com/v1/create-qr-code/?size=100x100&data=\"https://arxiv.org/abs/2309.02488\"></div>"
      ],
      "text/plain": [
       "<IPython.core.display.Markdown object>"
      ]
     },
     "metadata": {},
     "output_type": "display_data"
    },
    {
     "data": {
      "text/markdown": [
       "<div class=\"macros\" style=\"visibility:hidden;\">\n",
       "$\\newcommand{\\ensuremath}{}$\n",
       "$\\newcommand{\\xspace}{}$\n",
       "$\\newcommand{\\object}[1]{\\texttt{#1}}$\n",
       "$\\newcommand{\\farcs}{{.}''}$\n",
       "$\\newcommand{\\farcm}{{.}'}$\n",
       "$\\newcommand{\\arcsec}{''}$\n",
       "$\\newcommand{\\arcmin}{'}$\n",
       "$\\newcommand{\\ion}[2]{#1#2}$\n",
       "$\\newcommand{\\textsc}[1]{\\textrm{#1}}$\n",
       "$\\newcommand{\\hl}[1]{\\textrm{#1}}$\n",
       "$\\newcommand{\\footnote}[1]{}$\n",
       "$\\newcommand{\\red}[1]{\\textcolor{red}{#1}}$\n",
       "$\\newcommand{\\magenta}[1]{\\textcolor{magenta}{#1}}$\n",
       "$\\newcommand{\\arraystretch}{1.3}$\n",
       "$\\newcommand{\\thebibliography}{\\DeclareRobustCommand{\\VAN}[3]{##3}\\VANthebibliography}$\n",
       "$\\newcommand{\\lfir}{L_{\\rm FIR}}$\n",
       "$\\newcommand{\\lfuv}{L_{\\rm FUV}}$\n",
       "$\\newcommand{\\lcii}{L_{\\rm[CII]}}$\n",
       "$\\newcommand{\\luv}{L_{\\rm UV}}$\n",
       "$\\newcommand{\\lir}{L_{\\rm IR}}$\n",
       "$\\newcommand{\\lsol}{L_{\\odot}}$\n",
       "$\\newcommand{\\lya}{Ly\\alpha}$\n",
       "$\\newcommand{\\sfrlya}{SFR_{Ly\\alpha}}$\n",
       "$\\newcommand{\\sfrha}{SFR_{H\\alpha}}$\n",
       "$\\newcommand{\\sfruv}{SFR_{UV}}$\n",
       "$\\newcommand{\\sfrir}{SFR_{IR}}$\n",
       "$\\newcommand{\\sfrtot}{SFR_{TOT}}$\n",
       "$\\newcommand{\\msolyr}{M_{\\odot}~yr^{-1}}$\n",
       "$\\newcommand{\\micron}{\\mum}$\n",
       "$\\newcommand{\\hyperz}{{\\em Hyperz}}$\n",
       "$\\newcommand{\\myr}{M_{\\odot}~yr^{-1}}$\n",
       "$\\newcommand{\\msunyr}{M_{\\odot}~yr^{-1}}$\n",
       "$\\newcommand{\\lsun}{L_{\\odot}}$\n",
       "$\\newcommand{\\msun}{M_{\\odot}}$\n",
       "$\\newcommand{\\zphot}{\\ifmmode z_{\\rm phot}\\elsez_{\\rm phot}\\fi}$\n",
       "$\\newcommand{\\sskip}{\\vskip 3truept \\noindent}$\n",
       "$\\newcommand{\\Oiii}{[O {\\sc iii}]}$\n",
       "$\\newcommand{\\Neiii}{[Ne {\\sc iii}]}$\n",
       "$\\newcommand{\\Oii}{[O {\\sc ii}]}$\n",
       "$\\newcommand{\\Cii}{[C {\\sc ii}]}$\n",
       "$\\newcommand{\\Nii}{[N {\\sc ii}]}$\n",
       "$\\newcommand{\\Oi}{[O {\\sc i}]}$\n",
       "$\\newcommand{\\ltsima}{\\buildrel<\\over\\sim}$\n",
       "$\\newcommand{\\la}{\\lower.5ex\\hbox{\\ltsima}~}$\n",
       "$\\newcommand{\\gtsima}{\\buildrel>\\over\\sim}$\n",
       "$\\newcommand{\\ga}{\\lower.5ex\\hbox{\\gtsima}~}$\n",
       "$\\newcommand{\\}{deg}$</div>\n",
       "\n",
       "\n",
       "\n",
       "<div id=\"title\">\n",
       "\n",
       "# NOEMA observations of GN-z11: Constraining Neutral Interstellar Medium and Dust Formation in the Heart of Cosmic Reionization at $z=10.6$\n",
       "\n",
       "</div>\n",
       "<div id=\"comments\">\n",
       "\n",
       "[![arXiv](https://img.shields.io/badge/arXiv-2309.02493-b31b1b.svg)](https://arxiv.org/abs/2309.02493)<mark>Appeared on: 2023-09-07</mark> -  _submitted to MNRAS, 7 pages, 4 figures, 1 table_\n",
       "\n",
       "</div>\n",
       "<div id=\"authors\">\n",
       "\n",
       "Y. Fudamoto, et al. -- incl., <mark>F. Walter</mark>\n",
       "\n",
       "</div>\n",
       "<div id=\"abstract\">\n",
       "\n",
       "**Abstract:** We present results of dust continuum and $\\Cii$ $ 158 {\\rm \\mu m}$ emission line observations of a remarkably UV-luminous ( $M_{\\rm UV}=-21.6$ ) galaxy at $z=10.603$ : GN-z11.Using the Northern Extended Millimeter Array (NOEMA),  observations have been carried out over multiple observing cycles. We achieved a high sensitivity resulting in a $\\lambda_{\\rm rest}=160 {\\rm \\mu m}$ continuum $1 \\sigma$ sensitivity of $13.0 \\rm{\\mu Jy/beam}$ and a $\\Cii$ emission line $1 \\sigma$ sensitivity of $31 \\rm{mJy/beam km/s}$ using $50 \\rm{km/s}$ binning with a $\\sim 2 {\\rm arcsec}$ synthesized beam.Neither dust continuum nor $\\Cii$ $ 158 {\\rm \\mu m}$ line emission are detected at the expected frequency of $\\nu_{\\rm[CII]} = 163.791 \\rm{GHz}$ and the sky location of GN-z11.The upper limits show that GN-z11 is neither luminous in $\\lir$ nor $L_{\\rm[CII]}$ , with a dust mass $3 \\sigma$ limit of ${\\rm log}(M_{\\rm dust}/{\\rm M_{\\odot}}) < 6.5-6.9$ and with a $\\Cii$ based molecular gas mass $3 \\sigma$ limit of ${\\rm log}(M_{\\rm mol,[CII]}/{\\rm M_{\\odot}}) < 9.3$ .Together with radiative transfer calculations, we also investigated the possible cause of the dust poor nature of the GN-z11 showed by the blue color in the UV continuum of GN-z11 ( $\\beta_{\\rm UV}=-2.4$ ), and found that $\\gtrsim3\\times$ deeper observations are crucial to study dust production at very high-redshift.Nevertheless, our observations show the crucial role of deep mm/submm observations of very high redshift galaxies to constrain multiple phases in the interstellar medium.\n",
       "\n",
       "</div>\n",
       "\n",
       "<div id=\"div_fig1\">\n",
       "\n",
       "<img src=\"tmp_2309.02493/./GNz11_c2_mom0.v3.png\" alt=\"Fig4\" width=\"100%\"/>\n",
       "\n",
       "**Figure 4. -** ** Left Panel: ** The NOEMA spectrum of GN-z11 with $50 \\mathrm{km/s}$ binning. The gray solid line shows the RMS of each channel. The NOEMA observation covers $\\Cii$$ 158 \\rm{\\mu m}$ emission line of GN-z11 at the observed frequency of $\\nu_{\\rm obs}=163.84 {\\rm GHz}$ with the $z_{\\rm spec}=10.60$(Red line). From the data cube and extracted spectrum, we do not find any signal of the $\\Cii$ emission line.\n",
       "    ** Right panel:**$8^{\\prime\\prime}\\times8^{\\prime\\prime}$ cutout of JWST F444W image (background) and $\\Cii$ emission line moment-0 map (contours) of GN-z11. Contours show 1, 2, 3$\\sigma$ and dashed contours show -3, -2, -1$\\sigma$. The moment-0 map of the data cube is made by integrating over the $150 \\rm{km/s}$ of the $\\Cii$ emission line frequency. RMS of the image is $29 {\\rm mJy km/s}$, providing a $3 \\sigma$ upper limit of $\\Cii$ luminosity $<1.7\\times10^{8} {\\rm L_{\\odot}}$.\n",
       "     (*fig:c2*)\n",
       "\n",
       "</div>\n",
       "<div id=\"div_fig2\">\n",
       "\n",
       "<img src=\"tmp_2309.02493/./GNz11_continuum.v0.png\" alt=\"Fig1\" width=\"100%\"/>\n",
       "\n",
       "**Figure 1. -** $8^{\\prime\\prime}\\times8^{\\prime\\prime}$ cutout of the JWST F444W image obtained by the FRESCO JWST survey (background;  ([ and Oesch 2023](https://ui.adsabs.harvard.edu/abs/2023arXiv230402026O)) ) and dust continuum (orange contours) of GN-z11: Solid contours show 1, 2$ \\sigma$ and dashed contours show -3, -2, -1$\\sigma$ where $1 \\sigma=13.0 \\mathrm{\\mu Jy/beam}$. The white ellipse in the lower left corner shows the synthesized beam FWHM of the combined dust continuum image ($2.1^{\\prime\\prime}\\times1.8^{\\prime\\prime}$).\n",
       "     (*fig:continuum*)\n",
       "\n",
       "</div>\n",
       "<div id=\"div_fig3\">\n",
       "\n",
       "<img src=\"tmp_2309.02493/./SFR-LC2.v1_mod.png\" alt=\"Fig2\" width=\"100%\"/>\n",
       "\n",
       "**Figure 2. -** Star formation rate versus $\\Cii$ emission line luminosity of GN-z11. Previous observations of $z>6$ are also plotted with gray points ( ([ and Harikane 2020](https://ui.adsabs.harvard.edu/abs/2020ApJ...896...93H)) ;  ([ and Fudamoto 2023](https://ui.adsabs.harvard.edu/abs/2023arXiv230307513F)) ;  ([ and Schouws 2022](https://ui.adsabs.harvard.edu/abs/2022arXiv220204080S))  and references therein). Downward triangles show $3 \\sigma$ upper limit in case of non-detections. Lines show previously obtained relations for low- and high-redshift galaxies (solid:  ([ and Schaerer 2020](https://ui.adsabs.harvard.edu/abs/2020A&A...643A...3S)) ).\n",
       "    For the SFR of GN-z11, we adopted the SED fitting results of $21^{+22}_{-10} {\\rm M_{\\odot} yr^{-1}}$ from [ and Tacchella (2023)](https://ui.adsabs.harvard.edu/abs/2023arXiv230207234T). (*fig:C2SFR*)\n",
       "\n",
       "</div><div id=\"qrcode\"><img src=https://api.qrserver.com/v1/create-qr-code/?size=100x100&data=\"https://arxiv.org/abs/2309.02493\"></div>"
      ],
      "text/plain": [
       "<IPython.core.display.Markdown object>"
      ]
     },
     "metadata": {},
     "output_type": "display_data"
    },
    {
     "data": {
      "text/markdown": [
       "<div class=\"macros\" style=\"visibility:hidden;\">\n",
       "$\\newcommand{\\ensuremath}{}$\n",
       "$\\newcommand{\\xspace}{}$\n",
       "$\\newcommand{\\object}[1]{\\texttt{#1}}$\n",
       "$\\newcommand{\\farcs}{{.}''}$\n",
       "$\\newcommand{\\farcm}{{.}'}$\n",
       "$\\newcommand{\\arcsec}{''}$\n",
       "$\\newcommand{\\arcmin}{'}$\n",
       "$\\newcommand{\\ion}[2]{#1#2}$\n",
       "$\\newcommand{\\textsc}[1]{\\textrm{#1}}$\n",
       "$\\newcommand{\\hl}[1]{\\textrm{#1}}$\n",
       "$\\newcommand{\\footnote}[1]{}$\n",
       "$\\newcommand$\n",
       "$\\newcommand$\n",
       "$\\newcommand{\\sectionautorefname}{Section}$\n",
       "$\\newcommand{\\subsectionautorefname}{Section}$\n",
       "$\\newcommand{\\subsubsectionautorefname}{Section}$\n",
       "$\\newcommand{\\figureautorefname}{Fig.}$</div>\n",
       "\n",
       "\n",
       "\n",
       "<div id=\"title\">\n",
       "\n",
       "# oMEGACat I: MUSE spectroscopy of 300,000 stars within the half-light radius of $\\omega$ Centauri\n",
       "\n",
       "</div>\n",
       "<div id=\"comments\">\n",
       "\n",
       "[![arXiv](https://img.shields.io/badge/arXiv-2309.02503-b31b1b.svg)](https://arxiv.org/abs/2309.02503)<mark>Appeared on: 2023-09-07</mark> -  _27 pages, 18 figures, 3 tables, accepted for publication in ApJ, the catalog will be available in the online material of the published article_\n",
       "\n",
       "</div>\n",
       "<div id=\"authors\">\n",
       "\n",
       "M. S. Nitschai, et al. -- incl., <mark>N. Neumayer</mark>, <mark>C. Clontz</mark>, <mark>M. Häberle</mark>, <mark>A. Feldmeier-Krause</mark>\n",
       "\n",
       "</div>\n",
       "<div id=\"abstract\">\n",
       "\n",
       "**Abstract:** Omega Centauri ( $\\omega$ Cen) is the most massive globular cluster of the Milky Way and has been the focus of many studies that reveal the complexity of its stellar populations and kinematics. However, most previous studies have used photometric and spectroscopic datasets with limited spatial or magnitude coverage, while we aim to investigate it having full spatial coverage out to its half-light radius and stars ranging from the main sequence to the tip of the red giant branch. This is the first paper in a new survey of $\\omega$ Cen that combines uniform imaging and spectroscopic data out to its half-light radius to study its stellar populations, kinematics, and formation history. In this paper, we present an unprecedented MUSE spectroscopic dataset combining 87 new MUSE pointings with previous observations collected from guaranteed time observations. We extract spectra of more than 300,000 stars reaching more than two magnitudes below the main sequence turn-off. We use these spectra to derive metallicity and line-of-sight velocity measurements and determine robust uncertainties on these quantities using repeat measurements. Applying quality cuts we achieve signal-to-noise ratios of 16.47/73.51 and mean metallicity errors of 0.174/0.031 dex for the main sequence stars ( $\\SI{18}{\\mag}$ $\\rm < mag_{F625W}<$ $\\SI{22}{\\mag}$ ) and red giant branch stars ( $\\SI{16}{\\mag}$ $<\\rm  mag_{F625W}<$ $\\SI{10}{\\mag}$ ), respectively. We correct the metallicities for atomic diffusion and identify foreground stars. This massive spectroscopic dataset will enable future studies that will transform our understanding of $\\omega$ Cen, allowing us to investigate the stellar populations, ages, and kinematics in great detail.\n",
       "\n",
       "</div>\n",
       "\n",
       "<div id=\"div_fig1\">\n",
       "\n",
       "<img src=\"tmp_2309.02503/./figures/Figure5.png\" alt=\"Fig2\" width=\"100%\"/>\n",
       "\n",
       "**Figure 2. -** **CMD of GO stars.** CMD of the stars in the GO dataset. The black dots show the stars with fixed log(g) in our spexxy fit while the orange points have free log(g) and the purple are the HB stars which are disregarded in the current analysis. The yellow points indicate the position of the isochrone used to infer the log(g).  (*fig:CMD spexxy*)\n",
       "\n",
       "</div>\n",
       "<div id=\"div_fig2\">\n",
       "\n",
       "<img src=\"tmp_2309.02503/./figures/Figure2.png\" alt=\"Fig12\" width=\"100%\"/>\n",
       "\n",
       "**Figure 12. -** **Image of $\\omega$ Cen and footprint of the MUSE pointings.** On the left is a grayscale image created from the combined GO and GTO MUSE WFM data. Overlaid blue colored squares indicate the GO AO pointings, red squares the WFM GTO data, while the region without squares is where the non-AO GO WFM pointings lie. On the right is the footprint of the individual pointings showing the overlap of the data. At the center of the right-hand Figure, the NFM data are within the yellow region at the center of the image, indicated with a red cross.\n",
       " (*fig:data*)\n",
       "\n",
       "</div>\n",
       "<div id=\"div_fig3\">\n",
       "\n",
       "<img src=\"tmp_2309.02503/./figures/Figure8a.png\" alt=\"Fig15.1\" width=\"50%\"/><img src=\"tmp_2309.02503/./figures/Figure8b.png\" alt=\"Fig15.2\" width=\"50%\"/>\n",
       "\n",
       "**Figure 15. -** **Error analysis correction.** Top panels: The x-axis is the SNR and the y-axis is the $\\sigma^2$ of the $\\Delta[M/H]$ for the GO data on the left and the GTO data on the right. The red line is the best-fitting first-order polynomial, the black dots are our data values, and the light red shaded area is the region below an SNR of 10, which we exclude from the analysis. Bottom panels: The x-axis is the SNR and the maximum percentage of counts one star has in each bin. The red dashed line shows the maximum number of measurements each star can have, which is clearly always below 10 \\% of the total number of measurements in each bin, making sure the statistics in each bin are not the result of only one star. (*fig:error SN*)\n",
       "\n",
       "</div><div id=\"qrcode\"><img src=https://api.qrserver.com/v1/create-qr-code/?size=100x100&data=\"https://arxiv.org/abs/2309.02503\"></div>"
      ],
      "text/plain": [
       "<IPython.core.display.Markdown object>"
      ]
     },
     "metadata": {},
     "output_type": "display_data"
    }
   ],
   "source": [
    "[display(Markdown(k[1])) for k in documents];"
   ]
  },
  {
   "cell_type": "markdown",
   "id": "873873a4",
   "metadata": {
    "papermill": {
     "duration": 0.009487,
     "end_time": "2023-09-07T04:11:04.298068",
     "exception": false,
     "start_time": "2023-09-07T04:11:04.288581",
     "status": "completed"
    },
    "tags": []
   },
   "source": [
    "# Create HTML index"
   ]
  },
  {
   "cell_type": "code",
   "execution_count": 9,
   "id": "cf665672",
   "metadata": {
    "execution": {
     "iopub.execute_input": "2023-09-07T04:11:04.319370Z",
     "iopub.status.busy": "2023-09-07T04:11:04.318083Z",
     "iopub.status.idle": "2023-09-07T04:11:04.330960Z",
     "shell.execute_reply": "2023-09-07T04:11:04.330167Z"
    },
    "papermill": {
     "duration": 0.026144,
     "end_time": "2023-09-07T04:11:04.333448",
     "exception": false,
     "start_time": "2023-09-07T04:11:04.307304",
     "status": "completed"
    },
    "tags": []
   },
   "outputs": [
    {
     "name": "stdout",
     "output_type": "stream",
     "text": [
      "264  publications files modified in the last 7 days.\n"
     ]
    }
   ],
   "source": [
    "from datetime import datetime, timedelta, timezone\n",
    "from glob import glob\n",
    "import os\n",
    "\n",
    "files = glob('_build/html/*.md')\n",
    "days = 7\n",
    "now = datetime.today()\n",
    "res = []\n",
    "for fk in files:\n",
    "    stat_result = os.stat(fk).st_ctime\n",
    "    modified = datetime.fromtimestamp(stat_result, tz=timezone.utc).replace(tzinfo=None)\n",
    "    delta = now.today() - modified\n",
    "    if delta <= timedelta(days=days):\n",
    "        res.append((delta.seconds, fk))\n",
    "res = [k[1] for k in reversed(sorted(res, key=lambda x:x[1]))]\n",
    "npub = len(res)\n",
    "print(len(res), f\" publications files modified in the last {days:d} days.\")\n",
    "# [ print('\\t', k) for k in res ];"
   ]
  },
  {
   "cell_type": "code",
   "execution_count": 10,
   "id": "015de740",
   "metadata": {
    "execution": {
     "iopub.execute_input": "2023-09-07T04:11:04.394710Z",
     "iopub.status.busy": "2023-09-07T04:11:04.394001Z",
     "iopub.status.idle": "2023-09-07T04:11:04.422899Z",
     "shell.execute_reply": "2023-09-07T04:11:04.421864Z"
    },
    "papermill": {
     "duration": 0.084349,
     "end_time": "2023-09-07T04:11:04.427113",
     "exception": false,
     "start_time": "2023-09-07T04:11:04.342764",
     "status": "completed"
    },
    "tags": []
   },
   "outputs": [
    {
     "name": "stdout",
     "output_type": "stream",
     "text": [
      "7  publications in the last 7 days.\n"
     ]
    }
   ],
   "source": [
    "import datetime\n",
    "from glob import glob\n",
    "\n",
    "def get_last_n_days(lst, days=1):\n",
    "    \"\"\" Get the documents from the last n days \"\"\"\n",
    "    sorted_lst = sorted(lst, key=lambda x: x[1], reverse=True)\n",
    "    for fname, date in sorted_lst:\n",
    "        if date >= str(datetime.date.today() - datetime.timedelta(days=days)):\n",
    "            yield fname\n",
    "\n",
    "def extract_appearance_dates(lst_file):\n",
    "    dates = []\n",
    "\n",
    "    def get_date(line):\n",
    "        return line\\\n",
    "            .split('Appeared on:')[-1]\\\n",
    "            .split('</mark>')[0].strip()\n",
    "\n",
    "    for fname in lst:\n",
    "        with open(fname, 'r') as f:\n",
    "            found_date = False\n",
    "            for line in f:\n",
    "                if not found_date:\n",
    "                    if \"Appeared on\" in line:\n",
    "                        found_date = True\n",
    "                        dates.append((fname, get_date(line)))\n",
    "                else:\n",
    "                    break\n",
    "    return dates\n",
    "\n",
    "from glob import glob\n",
    "lst = glob('_build/html/*md')\n",
    "days = 7\n",
    "dates = extract_appearance_dates(lst)\n",
    "res = list(get_last_n_days(dates, days))\n",
    "npub = len(res)\n",
    "print(len(res), f\" publications in the last {days:d} days.\")"
   ]
  },
  {
   "cell_type": "code",
   "execution_count": 11,
   "id": "52ca0208",
   "metadata": {
    "execution": {
     "iopub.execute_input": "2023-09-07T04:11:04.447836Z",
     "iopub.status.busy": "2023-09-07T04:11:04.446980Z",
     "iopub.status.idle": "2023-09-07T04:11:04.454442Z",
     "shell.execute_reply": "2023-09-07T04:11:04.453674Z"
    },
    "papermill": {
     "duration": 0.020223,
     "end_time": "2023-09-07T04:11:04.456581",
     "exception": false,
     "start_time": "2023-09-07T04:11:04.436358",
     "status": "completed"
    },
    "scrolled": false,
    "tags": []
   },
   "outputs": [],
   "source": [
    "def create_carousel(npub=4):\n",
    "    \"\"\" Generate the HTML code for a carousel with `npub` slides \"\"\"\n",
    "    carousel = [\"\"\"  <div class=\"carousel\" \"\"\",\n",
    "                \"\"\"       data-flickity='{ \"autoPlay\": 10000, \"adaptiveHeight\": true, \"resize\": true, \"wrapAround\": true, \"pauseAutoPlayOnHover\": true, \"groupCells\": 1 }' id=\"asyncTypeset\">\"\"\"\n",
    "                ]\n",
    "    \n",
    "    item_str = \"\"\"    <div class=\"carousel-cell\"> <div id=\"slide{k}\" class=\"md_view\">Content {k}</div> </div>\"\"\"\n",
    "    for k in range(1, npub + 1):\n",
    "        carousel.append(item_str.format(k=k))\n",
    "    carousel.append(\"  </div>\")\n",
    "    return '\\n'.join(carousel)\n",
    "\n",
    "def create_grid(npub=4):\n",
    "    \"\"\" Generate the HTML code for a flat grid with `npub` slides \"\"\"\n",
    "    grid = [\"\"\"  <div class=\"grid\"> \"\"\",\n",
    "                ]\n",
    "    \n",
    "    item_str = \"\"\"    <div class=\"grid-item\"> <div id=\"slide{k}\" class=\"md_view\">Content {k}</div> </div>\"\"\"\n",
    "    for k in range(1, npub + 1):\n",
    "        grid.append(item_str.format(k=k))\n",
    "    grid.append(\"  </div>\")\n",
    "    return '\\n'.join(grid)"
   ]
  },
  {
   "cell_type": "code",
   "execution_count": 12,
   "id": "a6eac5b6",
   "metadata": {
    "execution": {
     "iopub.execute_input": "2023-09-07T04:11:04.477073Z",
     "iopub.status.busy": "2023-09-07T04:11:04.476314Z",
     "iopub.status.idle": "2023-09-07T04:11:04.484238Z",
     "shell.execute_reply": "2023-09-07T04:11:04.483390Z"
    },
    "papermill": {
     "duration": 0.020361,
     "end_time": "2023-09-07T04:11:04.486158",
     "exception": false,
     "start_time": "2023-09-07T04:11:04.465797",
     "status": "completed"
    },
    "scrolled": false,
    "tags": []
   },
   "outputs": [],
   "source": [
    "carousel = create_carousel(npub)\n",
    "docs = ', '.join(['\"{0:s}\"'.format(k.split('/')[-1]) for k in res])\n",
    "slides = ', '.join([f'\"slide{k}\"' for k in range(1, npub + 1)])\n",
    "\n",
    "with open(\"daily_template.html\", \"r\") as tpl:\n",
    "    page = tpl.read()\n",
    "    page = page.replace(\"{%-- carousel:s --%}\", carousel)\\\n",
    "               .replace(\"{%-- suptitle:s --%}\",  \"7-day archives\" )\\\n",
    "               .replace(\"{%-- docs:s --%}\", docs)\\\n",
    "               .replace(\"{%-- slides:s --%}\", slides)\n",
    "    \n",
    "with open(\"_build/html/index_7days.html\", 'w') as fout:\n",
    "    fout.write(page)"
   ]
  },
  {
   "cell_type": "code",
   "execution_count": 13,
   "id": "adc1a1ec",
   "metadata": {
    "execution": {
     "iopub.execute_input": "2023-09-07T04:11:04.506898Z",
     "iopub.status.busy": "2023-09-07T04:11:04.506004Z",
     "iopub.status.idle": "2023-09-07T04:11:04.516107Z",
     "shell.execute_reply": "2023-09-07T04:11:04.515163Z"
    },
    "papermill": {
     "duration": 0.022355,
     "end_time": "2023-09-07T04:11:04.518086",
     "exception": false,
     "start_time": "2023-09-07T04:11:04.495731",
     "status": "completed"
    },
    "tags": []
   },
   "outputs": [
    {
     "name": "stdout",
     "output_type": "stream",
     "text": [
      "4  publications in the last day.\n"
     ]
    }
   ],
   "source": [
    "# redo for today\n",
    "days = 1\n",
    "res = list(get_last_n_days(dates, days))\n",
    "npub = len(res)\n",
    "print(len(res), f\" publications in the last day.\")\n",
    "\n",
    "carousel = create_carousel(npub)\n",
    "docs = ', '.join(['\"{0:s}\"'.format(k.split('/')[-1]) for k in res])\n",
    "slides = ', '.join([f'\"slide{k}\"' for k in range(1, npub + 1)])\n",
    "\n",
    "with open(\"daily_template.html\", \"r\") as tpl:\n",
    "    page = tpl.read()\n",
    "    page = page.replace(\"{%-- carousel:s --%}\", carousel)\\\n",
    "               .replace(\"{%-- suptitle:s --%}\",  \"Daily\" )\\\n",
    "               .replace(\"{%-- docs:s --%}\", docs)\\\n",
    "               .replace(\"{%-- slides:s --%}\", slides)\n",
    "    \n",
    "# print(carousel, docs, slides)\n",
    "# print(page)\n",
    "with open(\"_build/html/index_daily.html\", 'w') as fout:\n",
    "    fout.write(page)"
   ]
  },
  {
   "cell_type": "code",
   "execution_count": 14,
   "id": "00eece82",
   "metadata": {
    "execution": {
     "iopub.execute_input": "2023-09-07T04:11:04.539681Z",
     "iopub.status.busy": "2023-09-07T04:11:04.538841Z",
     "iopub.status.idle": "2023-09-07T04:11:04.548930Z",
     "shell.execute_reply": "2023-09-07T04:11:04.547997Z"
    },
    "papermill": {
     "duration": 0.025956,
     "end_time": "2023-09-07T04:11:04.553977",
     "exception": false,
     "start_time": "2023-09-07T04:11:04.528021",
     "status": "completed"
    },
    "scrolled": false,
    "tags": []
   },
   "outputs": [
    {
     "name": "stdout",
     "output_type": "stream",
     "text": [
      "6  6 publications selected.\n"
     ]
    }
   ],
   "source": [
    "# Create the flat grid of the last N papers (fixed number regardless of dates)\n",
    "from itertools import islice \n",
    "\n",
    "npub = 6\n",
    "res = [k[0] for k in (islice(reversed(sorted(dates, key=lambda x: x[1])), 6))]\n",
    "print(len(res), f\" {npub} publications selected.\")\n",
    "\n",
    "grid = create_grid(npub)\n",
    "docs = ', '.join(['\"{0:s}\"'.format(k.split('/')[-1]) for k in res])\n",
    "slides = ', '.join([f'\"slide{k}\"' for k in range(1, npub + 1)])\n",
    "\n",
    "with open(\"grid_template.html\", \"r\") as tpl:\n",
    "    page = tpl.read()\n",
    "    page = page.replace(\"{%-- grid-content:s --%}\", grid)\\\n",
    "               .replace(\"{%-- suptitle:s --%}\",  f\"Last {npub:,d} papers\" )\\\n",
    "               .replace(\"{%-- docs:s --%}\", docs)\\\n",
    "               .replace(\"{%-- slides:s --%}\", slides)\n",
    "    \n",
    "# print(grid, docs, slides)\n",
    "# print(page)\n",
    "with open(\"_build/html/index_npub_grid.html\", 'w') as fout:\n",
    "    fout.write(page)"
   ]
  }
 ],
 "metadata": {
  "kernelspec": {
   "display_name": "Python 3 (ipykernel)",
   "language": "python",
   "name": "python3"
  },
  "language_info": {
   "codemirror_mode": {
    "name": "ipython",
    "version": 3
   },
   "file_extension": ".py",
   "mimetype": "text/x-python",
   "name": "python",
   "nbconvert_exporter": "python",
   "pygments_lexer": "ipython3",
   "version": "3.9.17"
  },
  "papermill": {
   "default_parameters": {},
   "duration": 358.017816,
   "end_time": "2023-09-07T04:11:04.906061",
   "environment_variables": {},
   "exception": null,
   "input_path": "MPIA daily digest.ipynb",
   "output_path": "log.ipynb",
   "parameters": {},
   "start_time": "2023-09-07T04:05:06.888245",
   "version": "2.4.0"
  },
  "vscode": {
   "interpreter": {
    "hash": "aee8b7b246df8f9039afb4144a1f6fd8d2ca17a180786b69acc140d282b71a49"
   }
  },
  "widgets": {
   "application/vnd.jupyter.widget-state+json": {
    "state": {
     "0c1c414bf8e147679fe0a5d03568bc1b": {
      "model_module": "@jupyter-widgets/controls",
      "model_module_version": "2.0.0",
      "model_name": "ProgressStyleModel",
      "state": {
       "_model_module": "@jupyter-widgets/controls",
       "_model_module_version": "2.0.0",
       "_model_name": "ProgressStyleModel",
       "_view_count": null,
       "_view_module": "@jupyter-widgets/base",
       "_view_module_version": "2.0.0",
       "_view_name": "StyleView",
       "bar_color": null,
       "description_width": ""
      }
     },
     "0e74692b45894fa392cb6d0f13205bda": {
      "model_module": "@jupyter-widgets/base",
      "model_module_version": "2.0.0",
      "model_name": "LayoutModel",
      "state": {
       "_model_module": "@jupyter-widgets/base",
       "_model_module_version": "2.0.0",
       "_model_name": "LayoutModel",
       "_view_count": null,
       "_view_module": "@jupyter-widgets/base",
       "_view_module_version": "2.0.0",
       "_view_name": "LayoutView",
       "align_content": null,
       "align_items": null,
       "align_self": null,
       "border_bottom": null,
       "border_left": null,
       "border_right": null,
       "border_top": null,
       "bottom": null,
       "display": null,
       "flex": null,
       "flex_flow": null,
       "grid_area": null,
       "grid_auto_columns": null,
       "grid_auto_flow": null,
       "grid_auto_rows": null,
       "grid_column": null,
       "grid_gap": null,
       "grid_row": null,
       "grid_template_areas": null,
       "grid_template_columns": null,
       "grid_template_rows": null,
       "height": null,
       "justify_content": null,
       "justify_items": null,
       "left": null,
       "margin": null,
       "max_height": null,
       "max_width": null,
       "min_height": null,
       "min_width": null,
       "object_fit": null,
       "object_position": null,
       "order": null,
       "overflow": null,
       "padding": null,
       "right": null,
       "top": null,
       "visibility": null,
       "width": null
      }
     },
     "19e7352b1afc48ea8a2389121cbe8a61": {
      "model_module": "@jupyter-widgets/controls",
      "model_module_version": "2.0.0",
      "model_name": "HTMLModel",
      "state": {
       "_dom_classes": [],
       "_model_module": "@jupyter-widgets/controls",
       "_model_module_version": "2.0.0",
       "_model_name": "HTMLModel",
       "_view_count": null,
       "_view_module": "@jupyter-widgets/controls",
       "_view_module_version": "2.0.0",
       "_view_name": "HTMLView",
       "description": "",
       "description_allow_html": false,
       "layout": "IPY_MODEL_0e74692b45894fa392cb6d0f13205bda",
       "placeholder": "​",
       "style": "IPY_MODEL_ccc91de5de8c490b8a3b99fcf2f2d7c0",
       "tabbable": null,
       "tooltip": null,
       "value": " 4/4 [05:26&lt;00:00, 50.09s/it]"
      }
     },
     "436e08d86bed4504851700b2d33e8cf8": {
      "model_module": "@jupyter-widgets/controls",
      "model_module_version": "2.0.0",
      "model_name": "HBoxModel",
      "state": {
       "_dom_classes": [],
       "_model_module": "@jupyter-widgets/controls",
       "_model_module_version": "2.0.0",
       "_model_name": "HBoxModel",
       "_view_count": null,
       "_view_module": "@jupyter-widgets/controls",
       "_view_module_version": "2.0.0",
       "_view_name": "HBoxView",
       "box_style": "",
       "children": [
        "IPY_MODEL_fbf4e017b13d4c91a57c39f755b6d297",
        "IPY_MODEL_a79d8358f61e402a9a0b518eb466ae75",
        "IPY_MODEL_19e7352b1afc48ea8a2389121cbe8a61"
       ],
       "layout": "IPY_MODEL_9460c8a0cf1e47549c20e1666b678588",
       "tabbable": null,
       "tooltip": null
      }
     },
     "51d9fd3508ce40fdb909f2905614123d": {
      "model_module": "@jupyter-widgets/controls",
      "model_module_version": "2.0.0",
      "model_name": "HTMLStyleModel",
      "state": {
       "_model_module": "@jupyter-widgets/controls",
       "_model_module_version": "2.0.0",
       "_model_name": "HTMLStyleModel",
       "_view_count": null,
       "_view_module": "@jupyter-widgets/base",
       "_view_module_version": "2.0.0",
       "_view_name": "StyleView",
       "background": null,
       "description_width": "",
       "font_size": null,
       "text_color": null
      }
     },
     "9460c8a0cf1e47549c20e1666b678588": {
      "model_module": "@jupyter-widgets/base",
      "model_module_version": "2.0.0",
      "model_name": "LayoutModel",
      "state": {
       "_model_module": "@jupyter-widgets/base",
       "_model_module_version": "2.0.0",
       "_model_name": "LayoutModel",
       "_view_count": null,
       "_view_module": "@jupyter-widgets/base",
       "_view_module_version": "2.0.0",
       "_view_name": "LayoutView",
       "align_content": null,
       "align_items": null,
       "align_self": null,
       "border_bottom": null,
       "border_left": null,
       "border_right": null,
       "border_top": null,
       "bottom": null,
       "display": null,
       "flex": null,
       "flex_flow": null,
       "grid_area": null,
       "grid_auto_columns": null,
       "grid_auto_flow": null,
       "grid_auto_rows": null,
       "grid_column": null,
       "grid_gap": null,
       "grid_row": null,
       "grid_template_areas": null,
       "grid_template_columns": null,
       "grid_template_rows": null,
       "height": null,
       "justify_content": null,
       "justify_items": null,
       "left": null,
       "margin": null,
       "max_height": null,
       "max_width": null,
       "min_height": null,
       "min_width": null,
       "object_fit": null,
       "object_position": null,
       "order": null,
       "overflow": null,
       "padding": null,
       "right": null,
       "top": null,
       "visibility": null,
       "width": null
      }
     },
     "a231f475225a4f8fafac698235018316": {
      "model_module": "@jupyter-widgets/base",
      "model_module_version": "2.0.0",
      "model_name": "LayoutModel",
      "state": {
       "_model_module": "@jupyter-widgets/base",
       "_model_module_version": "2.0.0",
       "_model_name": "LayoutModel",
       "_view_count": null,
       "_view_module": "@jupyter-widgets/base",
       "_view_module_version": "2.0.0",
       "_view_name": "LayoutView",
       "align_content": null,
       "align_items": null,
       "align_self": null,
       "border_bottom": null,
       "border_left": null,
       "border_right": null,
       "border_top": null,
       "bottom": null,
       "display": null,
       "flex": null,
       "flex_flow": null,
       "grid_area": null,
       "grid_auto_columns": null,
       "grid_auto_flow": null,
       "grid_auto_rows": null,
       "grid_column": null,
       "grid_gap": null,
       "grid_row": null,
       "grid_template_areas": null,
       "grid_template_columns": null,
       "grid_template_rows": null,
       "height": null,
       "justify_content": null,
       "justify_items": null,
       "left": null,
       "margin": null,
       "max_height": null,
       "max_width": null,
       "min_height": null,
       "min_width": null,
       "object_fit": null,
       "object_position": null,
       "order": null,
       "overflow": null,
       "padding": null,
       "right": null,
       "top": null,
       "visibility": null,
       "width": null
      }
     },
     "a79d8358f61e402a9a0b518eb466ae75": {
      "model_module": "@jupyter-widgets/controls",
      "model_module_version": "2.0.0",
      "model_name": "FloatProgressModel",
      "state": {
       "_dom_classes": [],
       "_model_module": "@jupyter-widgets/controls",
       "_model_module_version": "2.0.0",
       "_model_name": "FloatProgressModel",
       "_view_count": null,
       "_view_module": "@jupyter-widgets/controls",
       "_view_module_version": "2.0.0",
       "_view_name": "ProgressView",
       "bar_style": "success",
       "description": "",
       "description_allow_html": false,
       "layout": "IPY_MODEL_c886a529b63d4b9482e55c1118237c12",
       "max": 4.0,
       "min": 0.0,
       "orientation": "horizontal",
       "style": "IPY_MODEL_0c1c414bf8e147679fe0a5d03568bc1b",
       "tabbable": null,
       "tooltip": null,
       "value": 4.0
      }
     },
     "c886a529b63d4b9482e55c1118237c12": {
      "model_module": "@jupyter-widgets/base",
      "model_module_version": "2.0.0",
      "model_name": "LayoutModel",
      "state": {
       "_model_module": "@jupyter-widgets/base",
       "_model_module_version": "2.0.0",
       "_model_name": "LayoutModel",
       "_view_count": null,
       "_view_module": "@jupyter-widgets/base",
       "_view_module_version": "2.0.0",
       "_view_name": "LayoutView",
       "align_content": null,
       "align_items": null,
       "align_self": null,
       "border_bottom": null,
       "border_left": null,
       "border_right": null,
       "border_top": null,
       "bottom": null,
       "display": null,
       "flex": null,
       "flex_flow": null,
       "grid_area": null,
       "grid_auto_columns": null,
       "grid_auto_flow": null,
       "grid_auto_rows": null,
       "grid_column": null,
       "grid_gap": null,
       "grid_row": null,
       "grid_template_areas": null,
       "grid_template_columns": null,
       "grid_template_rows": null,
       "height": null,
       "justify_content": null,
       "justify_items": null,
       "left": null,
       "margin": null,
       "max_height": null,
       "max_width": null,
       "min_height": null,
       "min_width": null,
       "object_fit": null,
       "object_position": null,
       "order": null,
       "overflow": null,
       "padding": null,
       "right": null,
       "top": null,
       "visibility": null,
       "width": null
      }
     },
     "ccc91de5de8c490b8a3b99fcf2f2d7c0": {
      "model_module": "@jupyter-widgets/controls",
      "model_module_version": "2.0.0",
      "model_name": "HTMLStyleModel",
      "state": {
       "_model_module": "@jupyter-widgets/controls",
       "_model_module_version": "2.0.0",
       "_model_name": "HTMLStyleModel",
       "_view_count": null,
       "_view_module": "@jupyter-widgets/base",
       "_view_module_version": "2.0.0",
       "_view_name": "StyleView",
       "background": null,
       "description_width": "",
       "font_size": null,
       "text_color": null
      }
     },
     "fbf4e017b13d4c91a57c39f755b6d297": {
      "model_module": "@jupyter-widgets/controls",
      "model_module_version": "2.0.0",
      "model_name": "HTMLModel",
      "state": {
       "_dom_classes": [],
       "_model_module": "@jupyter-widgets/controls",
       "_model_module_version": "2.0.0",
       "_model_name": "HTMLModel",
       "_view_count": null,
       "_view_module": "@jupyter-widgets/controls",
       "_view_module_version": "2.0.0",
       "_view_name": "HTMLView",
       "description": "",
       "description_allow_html": false,
       "layout": "IPY_MODEL_a231f475225a4f8fafac698235018316",
       "placeholder": "​",
       "style": "IPY_MODEL_51d9fd3508ce40fdb909f2905614123d",
       "tabbable": null,
       "tooltip": null,
       "value": "100%"
      }
     }
    },
    "version_major": 2,
    "version_minor": 0
   }
  }
 },
 "nbformat": 4,
 "nbformat_minor": 5
}