{
 "cells": [
  {
   "cell_type": "markdown",
   "id": "92bcb855",
   "metadata": {
    "papermill": {
     "duration": 0.003929,
     "end_time": "2025-05-16T04:14:51.182934",
     "exception": false,
     "start_time": "2025-05-16T04:14:51.179005",
     "status": "completed"
    },
    "tags": []
   },
   "source": [
    "# MPIA Arxiv on Deck 2\n",
    "\n",
    "Contains the steps to produce the paper extractions."
   ]
  },
  {
   "cell_type": "code",
   "execution_count": 1,
   "id": "3a0d6e11",
   "metadata": {
    "execution": {
     "iopub.execute_input": "2025-05-16T04:14:51.191271Z",
     "iopub.status.busy": "2025-05-16T04:14:51.190591Z",
     "iopub.status.idle": "2025-05-16T04:14:51.717364Z",
     "shell.execute_reply": "2025-05-16T04:14:51.716539Z"
    },
    "papermill": {
     "duration": 0.532538,
     "end_time": "2025-05-16T04:14:51.718968",
     "exception": false,
     "start_time": "2025-05-16T04:14:51.186430",
     "status": "completed"
    },
    "tags": []
   },
   "outputs": [],
   "source": [
    "# Imports\n",
    "import os\n",
    "from IPython.display import Markdown, display\n",
    "from tqdm.notebook import tqdm\n",
    "import warnings\n",
    "from PIL import Image \n",
    "import re\n",
    "\n",
    "# requires arxiv_on_deck_2\n",
    "\n",
    "from arxiv_on_deck_2.arxiv2 import (get_new_papers, \n",
    "                                    get_paper_from_identifier,\n",
    "                                    retrieve_document_source, \n",
    "                                    get_markdown_badge)\n",
    "from arxiv_on_deck_2 import (latex,\n",
    "                             latex_bib,\n",
    "                             mpia,\n",
    "                             highlight_authors_in_list)\n",
    "\n",
    "# Sometimes images are really big\n",
    "Image.MAX_IMAGE_PIXELS = 1000000000 "
   ]
  },
  {
   "cell_type": "code",
   "execution_count": 2,
   "id": "22aa9d44",
   "metadata": {
    "execution": {
     "iopub.execute_input": "2025-05-16T04:14:51.727014Z",
     "iopub.status.busy": "2025-05-16T04:14:51.726326Z",
     "iopub.status.idle": "2025-05-16T04:14:51.735107Z",
     "shell.execute_reply": "2025-05-16T04:14:51.734402Z"
    },
    "papermill": {
     "duration": 0.013813,
     "end_time": "2025-05-16T04:14:51.736115",
     "exception": false,
     "start_time": "2025-05-16T04:14:51.722302",
     "status": "completed"
    },
    "tags": []
   },
   "outputs": [],
   "source": [
    "# Some useful definitions.\n",
    "\n",
    "class AffiliationWarning(UserWarning):\n",
    "    pass\n",
    "\n",
    "class AffiliationError(RuntimeError):\n",
    "    pass\n",
    "\n",
    "def validation(source: str):\n",
    "    \"\"\"Raises error paper during parsing of source file\n",
    "    \n",
    "    Allows checks before parsing TeX code.\n",
    "    \n",
    "    Raises AffiliationWarning\n",
    "    \"\"\"\n",
    "    check = mpia.affiliation_verifications(source, verbose=True)\n",
    "    if check is not True:\n",
    "        raise AffiliationError(\"mpia.affiliation_verifications: \" + check)\n",
    "\n",
    "        \n",
    "warnings.simplefilter('always', AffiliationWarning)\n",
    "\n",
    "\n",
    "def get_markdown_qrcode(paper_id: str):\n",
    "    \"\"\" Generate a qrcode to the arxiv page using qrserver.com\n",
    "    \n",
    "    :param paper: Arxiv paper\n",
    "    :returns: markdown text\n",
    "    \"\"\"\n",
    "    url = r\"https://api.qrserver.com/v1/create-qr-code/?size=100x100&data=\"\n",
    "    txt = f\"\"\"<img src={url}\"https://arxiv.org/abs/{paper_id}\">\"\"\"\n",
    "    txt = '<div id=\"qrcode\">' + txt + '</div>'\n",
    "    return txt\n",
    "\n",
    "\n",
    "def clean_non_western_encoded_characters_commands(text: str) -> str:\n",
    "    \"\"\" Remove non-western encoded characters from a string\n",
    "    List may need to grow.\n",
    "    \n",
    "    :param text: the text to clean\n",
    "    :return: the cleaned text\n",
    "    \"\"\"\n",
    "    text = re.sub(r\"(\\\\begin{CJK}{UTF8}{gbsn})(.*?)(\\\\end{CJK})\", r\"\\2\", text)\n",
    "    return text\n",
    "\n",
    "\n",
    "def get_initials(name: str) -> str:\n",
    "    \"\"\" Get the short name, e.g., A.-B. FamName\n",
    "    :param name: full name\n",
    "    :returns: initials\n",
    "    \"\"\"\n",
    "    initials = []\n",
    "    # account for non western names often in ()\n",
    "    if '(' in name:\n",
    "        name = clean_non_western_encoded_characters_commands(name)\n",
    "        suffix = re.findall(r\"\\((.*?)\\)\", name)[0]\n",
    "        name = name.replace(f\"({suffix})\", '')\n",
    "    else:\n",
    "        suffix = ''\n",
    "    split = name.split()\n",
    "    for token in split[:-1]:\n",
    "        if '-' in token:\n",
    "            current = '-'.join([k[0] + '.' for k in token.split('-')])\n",
    "        else:\n",
    "            current = token[0] + '.'\n",
    "        initials.append(current)\n",
    "    initials.append(split[-1].strip())\n",
    "    if suffix:\n",
    "        initials.append(f\"({suffix})\")\n",
    "    return ' '.join(initials)"
   ]
  },
  {
   "cell_type": "markdown",
   "id": "14bd6310",
   "metadata": {
    "papermill": {
     "duration": 0.002932,
     "end_time": "2025-05-16T04:14:51.742349",
     "exception": false,
     "start_time": "2025-05-16T04:14:51.739417",
     "status": "completed"
    },
    "tags": []
   },
   "source": [
    "## get list of arxiv paper candidates\n",
    "\n",
    "We use the MPIA mitarbeiter list webpage from mpia.de to get author names\n",
    "We then get all new papers from Arxiv and match authors"
   ]
  },
  {
   "cell_type": "code",
   "execution_count": 3,
   "id": "7ea813a8",
   "metadata": {
    "execution": {
     "iopub.execute_input": "2025-05-16T04:14:51.749600Z",
     "iopub.status.busy": "2025-05-16T04:14:51.749149Z",
     "iopub.status.idle": "2025-05-16T04:15:12.594800Z",
     "shell.execute_reply": "2025-05-16T04:15:12.594006Z"
    },
    "papermill": {
     "duration": 20.850863,
     "end_time": "2025-05-16T04:15:12.596212",
     "exception": false,
     "start_time": "2025-05-16T04:14:51.745349",
     "status": "completed"
    },
    "tags": []
   },
   "outputs": [],
   "source": [
    "# deal with the author list and edge cases of people that cannot be consistent on their name  \n",
    "\n",
    "def filter_non_scientists(name: str) -> bool:\n",
    "    \"\"\" Loose filter on expected authorships\n",
    "\n",
    "    removing IT, administration, technical staff\n",
    "    :param name: name\n",
    "    :returns: False if name is not a scientist\n",
    "    \"\"\"\n",
    "    remove_list = ['Licht', 'Binroth', 'Witzel', 'Jordan',\n",
    "                   'Zähringer', 'Scheerer', 'Hoffmann', 'Düe',\n",
    "                   'Hellmich', 'Enkler-Scharpegge', 'Witte-Nguy',\n",
    "                   'Dehen', 'Beckmann', 'Jager', 'Jäger'\n",
    "                  ]\n",
    "\n",
    "    for k in remove_list:\n",
    "        if k in name:\n",
    "            return False\n",
    "    return True\n",
    "\n",
    "def add_author_to_list(author_list: list) -> list:\n",
    "    \"\"\" Add author to list if not already in list\n",
    "    \n",
    "    :param author: author name\n",
    "    :param author_list: list of authors\n",
    "    :returns: updated list of authors\n",
    "    \"\"\"\n",
    "    add_list = ['T. Henning']\n",
    "\n",
    "    for author in add_list:\n",
    "        if author not in author_list:\n",
    "            author_list.append(author)\n",
    "    return author_list\n",
    "\n",
    "# get list from MPIA website\n",
    "# filter for non-scientists (mpia.get_mpia_mitarbeiter_list() does some filtering)\n",
    "mpia_authors = [k[1] for k in mpia.get_mpia_mitarbeiter_list() if filter_non_scientists(k[1])]\n",
    "# add some missing author because of inconsistencies in their MPIA name and author name on papers\n",
    "mpia_authors = add_author_to_list(mpia_authors)"
   ]
  },
  {
   "cell_type": "code",
   "execution_count": 4,
   "id": "2645e73a",
   "metadata": {
    "execution": {
     "iopub.execute_input": "2025-05-16T04:15:12.604510Z",
     "iopub.status.busy": "2025-05-16T04:15:12.603960Z",
     "iopub.status.idle": "2025-05-16T04:15:13.519600Z",
     "shell.execute_reply": "2025-05-16T04:15:13.518805Z"
    },
    "papermill": {
     "duration": 0.920917,
     "end_time": "2025-05-16T04:15:13.520722",
     "exception": false,
     "start_time": "2025-05-16T04:15:12.599805",
     "status": "completed"
    },
    "tags": []
   },
   "outputs": [
    {
     "name": "stdout",
     "output_type": "stream",
     "text": [
      "L. Xie  ->  Z.-L. Xie  |  ['L. Xie']\n",
      "Y. Wang  ->  Y. Wang  |  ['Y. Wang']\n",
      "Y. Wang  ->  Y. Wang  |  ['Y. Wang']\n"
     ]
    },
    {
     "name": "stdout",
     "output_type": "stream",
     "text": [
      "K. Jahnke  ->  K. Jahnke  |  ['K. Jahnke']\n",
      "Arxiv has 85 new papers today\n",
      "          4 with possible author matches\n"
     ]
    }
   ],
   "source": [
    "new_papers = get_new_papers()\n",
    "# add manual references\n",
    "add_paper_refs = []\n",
    "new_papers.extend([get_paper_from_identifier(k) for k in add_paper_refs])\n",
    "\n",
    "def robust_call(fn, value, *args, **kwargs):\n",
    "    try:\n",
    "        return fn(value, *args, **kwargs)\n",
    "    except Exception:\n",
    "        return value\n",
    "\n",
    "candidates = []\n",
    "for paperk in new_papers:\n",
    "    # Check author list with their initials\n",
    "    normed_author_list = [robust_call(mpia.get_initials, k) for k in paperk['authors']]\n",
    "    hl_authors = highlight_authors_in_list(normed_author_list, mpia_authors, verbose=True)\n",
    "    matches = [(hl, orig) for hl, orig in zip(hl_authors, paperk['authors']) if 'mark' in hl]\n",
    "    paperk['authors'] = hl_authors\n",
    "    if matches:\n",
    "        # only select paper if an author matched our list\n",
    "        candidates.append(paperk)\n",
    "print(\"\"\"Arxiv has {0:,d} new papers today\"\"\".format(len(new_papers)))        \n",
    "print(\"\"\"          {0:,d} with possible author matches\"\"\".format(len(candidates)))"
   ]
  },
  {
   "cell_type": "markdown",
   "id": "3543b34a",
   "metadata": {
    "papermill": {
     "duration": 0.003292,
     "end_time": "2025-05-16T04:15:13.527685",
     "exception": false,
     "start_time": "2025-05-16T04:15:13.524393",
     "status": "completed"
    },
    "tags": []
   },
   "source": [
    "# Parse sources and generate relevant outputs\n",
    "\n",
    "From the candidates, we do the following steps:\n",
    "* get their tarball from ArXiv (and extract data)\n",
    "* find the main .tex file: find one with \\documentclass{...} (sometimes it's non trivial)\n",
    "* Check affiliations with :func:`validation`, which uses :func:`mpia.affiliation_verifications`\n",
    "* If passing the affiliations: we parse the .tex source\n",
    "   * inject sub-documents into the main (flatten the main document)\n",
    "   * parse structure, extract information (title, abstract, authors, figures...)\n",
    "   * handles `\\graphicspath` if provided\n",
    "* Generate the .md document."
   ]
  },
  {
   "cell_type": "code",
   "execution_count": 5,
   "id": "9576b79e",
   "metadata": {
    "execution": {
     "iopub.execute_input": "2025-05-16T04:15:13.535754Z",
     "iopub.status.busy": "2025-05-16T04:15:13.535251Z",
     "iopub.status.idle": "2025-05-16T04:15:45.573260Z",
     "shell.execute_reply": "2025-05-16T04:15:45.572485Z"
    },
    "papermill": {
     "duration": 32.047338,
     "end_time": "2025-05-16T04:15:45.578323",
     "exception": false,
     "start_time": "2025-05-16T04:15:13.530985",
     "status": "completed"
    },
    "scrolled": false,
    "tags": []
   },
   "outputs": [
    {
     "data": {
      "application/vnd.jupyter.widget-view+json": {
       "model_id": "b9fbe009d61c4f9794ca7238c331b8c0",
       "version_major": 2,
       "version_minor": 0
      },
      "text/plain": [
       "  0%|          | 0/4 [00:00<?, ?it/s]"
      ]
     },
     "metadata": {},
     "output_type": "display_data"
    },
    {
     "name": "stdout",
     "output_type": "stream",
     "text": [
      "Retrieving document from  https://arxiv.org/e-print/2505.09782\n"
     ]
    },
    {
     "name": "stdout",
     "output_type": "stream",
     "text": [
      "extracting tarball to tmp_2505.09782..."
     ]
    },
    {
     "name": "stdout",
     "output_type": "stream",
     "text": [
      " done.\n",
      "Retrieving document from  https://arxiv.org/e-print/2505.09879\n",
      "extracting tarball to tmp_2505.09879... done.\n"
     ]
    },
    {
     "name": "stderr",
     "output_type": "stream",
     "text": [
      "/opt/hostedtoolcache/Python/3.9.22/x64/lib/python3.9/site-packages/IPython/core/interactiveshell.py:3550: LatexWarning: Multiple tex files.\n",
      "\n",
      "  exec(code_obj, self.user_global_ns, self.user_ns)\n",
      "/opt/hostedtoolcache/Python/3.9.22/x64/lib/python3.9/site-packages/IPython/core/interactiveshell.py:3550: LatexWarning: Found documentclass in tmp_2505.09782/virgoha_astroph.tex\n",
      "\n",
      "  exec(code_obj, self.user_global_ns, self.user_ns)\n",
      "/opt/hostedtoolcache/Python/3.9.22/x64/lib/python3.9/site-packages/arxiv_on_deck_2/latex.py:414: LatexWarning: Latex injecting: 'NGC5364_tab1' from 'tmp_2505.09782/NGC5364_tab1.tex'\n",
      "  warnings.warn(LatexWarning(f\"Latex injecting: '{ext}' from '{subsource}'\"))\n"
     ]
    },
    {
     "name": "stdout",
     "output_type": "stream",
     "text": [
      "Retrieving document from  https://arxiv.org/e-print/2505.10395\n"
     ]
    },
    {
     "name": "stdout",
     "output_type": "stream",
     "text": [
      "extracting tarball to tmp_2505.10395... done.\n",
      "Retrieving document from  https://arxiv.org/e-print/2505.10416\n"
     ]
    },
    {
     "name": "stdout",
     "output_type": "stream",
     "text": [
      "extracting tarball to tmp_2505.10416... done.\n"
     ]
    },
    {
     "name": "stdout",
     "output_type": "stream",
     "text": [
      "Found 77 bibliographic references in tmp_2505.10416/AandA.bbl.\n"
     ]
    }
   ],
   "source": [
    "documents = []\n",
    "failed = []\n",
    "for paper in tqdm(candidates):\n",
    "    # debug crap\n",
    "    paper['identifier'] = paper['identifier'].lower().replace('arxiv:', '').replace(r'\\n', '').strip()\n",
    "    paper_id = paper['identifier']\n",
    "    \n",
    "    folder = f'tmp_{paper_id}'\n",
    "\n",
    "    try:\n",
    "        if not os.path.isdir(folder):\n",
    "            folder = retrieve_document_source(f\"{paper_id}\", f'tmp_{paper_id}')\n",
    "        \n",
    "        try:\n",
    "            doc = latex.LatexDocument(folder, validation=validation)    \n",
    "        except AffiliationError as affilerror:\n",
    "            msg = f\"ArXiv:{paper_id:s} is not an MPIA paper... \" + str(affilerror)\n",
    "            failed.append((paper, \"affiliation error: \" + str(affilerror) ))\n",
    "            continue\n",
    "        \n",
    "        # Hack because sometimes author parsing does not work well\n",
    "        if (len(doc.authors) != len(paper['authors'])):\n",
    "            doc._authors = paper['authors']\n",
    "        else:\n",
    "            # highlight authors (FIXME: doc.highlight_authors)\n",
    "            # done on arxiv paper already\n",
    "            doc._authors = highlight_authors_in_list(\n",
    "                [get_initials(k) for k in doc.authors], \n",
    "                mpia_authors, verbose=True)\n",
    "        if (doc.abstract) in (None, ''):\n",
    "            doc._abstract = paper['abstract']\n",
    "            \n",
    "        doc.comment = (get_markdown_badge(paper_id) + \n",
    "                       \"<mark>Appeared on: \" + paper['date'] + \"</mark> - \")\n",
    "        if paper['comments']:\n",
    "            doc.comment += \" _\" + paper['comments'] + \"_\"\n",
    "        \n",
    "        full_md = doc.generate_markdown_text()\n",
    "        \n",
    "        full_md += get_markdown_qrcode(paper_id)\n",
    "        \n",
    "        # replace citations\n",
    "        try:\n",
    "            bibdata = latex_bib.LatexBib.from_doc(doc)\n",
    "            full_md = latex_bib.replace_citations(full_md, bibdata)\n",
    "        except Exception as e:\n",
    "            print(\"Issues with the citations\")\n",
    "            print(e)\n",
    "        \n",
    "        documents.append((paper_id, full_md))\n",
    "    except Exception as e:\n",
    "        warnings.warn(latex.LatexWarning(f\"{paper_id:s} did not run properly\\n\" +\n",
    "                                         str(e)\n",
    "                                        ))\n",
    "        failed.append((paper, \"latex error \" + str(e)))"
   ]
  },
  {
   "cell_type": "markdown",
   "id": "2505a25c",
   "metadata": {
    "papermill": {
     "duration": 0.003827,
     "end_time": "2025-05-16T04:15:45.586030",
     "exception": false,
     "start_time": "2025-05-16T04:15:45.582203",
     "status": "completed"
    },
    "tags": []
   },
   "source": [
    "### Export the logs\n",
    "\n",
    "Throughout, we also keep track of the logs per paper. see `logs-{today date}.md` "
   ]
  },
  {
   "cell_type": "code",
   "execution_count": 6,
   "id": "d733828a",
   "metadata": {
    "execution": {
     "iopub.execute_input": "2025-05-16T04:15:45.594752Z",
     "iopub.status.busy": "2025-05-16T04:15:45.594257Z",
     "iopub.status.idle": "2025-05-16T04:15:45.609226Z",
     "shell.execute_reply": "2025-05-16T04:15:45.608528Z"
    },
    "papermill": {
     "duration": 0.020583,
     "end_time": "2025-05-16T04:15:45.610381",
     "exception": false,
     "start_time": "2025-05-16T04:15:45.589798",
     "status": "completed"
    },
    "scrolled": false,
    "tags": []
   },
   "outputs": [
    {
     "data": {
      "text/markdown": [
       "## Successful papers"
      ],
      "text/plain": [
       "<IPython.core.display.Markdown object>"
      ]
     },
     "metadata": {},
     "output_type": "display_data"
    },
    {
     "data": {
      "text/markdown": [
       "\n",
       "|||\n",
       "|---:|:---|\n",
       "| [![arXiv](https://img.shields.io/badge/arXiv-2505.10416-b31b1b.svg)](https://arxiv.org/abs/2505.10416) | **Euclid: Photometric redshift calibration with the clustering redshifts technique**  |\n",
       "|| W. d. Doumerg, et al. -- incl., <mark>K. Jahnke</mark> |\n",
       "|*Appeared on*| *2025-05-16*|\n",
       "|*Comments*| *32 pages, 26 figures, 2 tables*|\n",
       "|**Abstract**|            Aims: The precision of cosmological constraints from imaging surveys hinges on accurately estimating the redshift distribution $ n(z) $ of tomographic bins, especially their mean redshifts. We assess the effectiveness of the clustering redshifts technique in constraining Euclid tomographic redshift bins to meet the target uncertainty of $ \\sigma ( \\langle z \\rangle ) < 0.002 (1 + z) $. In this work, these mean redshifts are inferred from the small-scale angular clustering of Euclid galaxies, which are distributed into bins with spectroscopic samples localised in narrow redshift slices. Methods: We generate spectroscopic mocks from the Flagship2 simulation for the Baryon Oscillation Spectroscopic Survey (BOSS), the Dark Energy Spectroscopic Instrument (DESI), and Euclid's Near-Infrared Spectrometer and Photometer (NISP) spectroscopic survey. We evaluate and optimise the clustering redshifts pipeline, introducing a new method for measuring photometric galaxy bias (clustering), which is the primary limitation of this technique. Results: We have successfully constrained the means and standard deviations of the redshift distributions for all of the tomographic bins (with a maximum photometric redshift of 1.6), achieving precision beyond the required thresholds. We have identified the main sources of bias, particularly the impact of the 1-halo galaxy distribution, which imposed a minimal separation scale of 1.5 Mpc for evaluating cross-correlations. These results demonstrate the potential of clustering redshifts to meet the precision requirements for Euclid, and we highlight several avenues for future improvements.         |"
      ],
      "text/plain": [
       "[2505.10416] Euclid: Photometric redshift calibration with the clustering redshifts technique\n",
       "\tW. d. Doumerg, et al. -- incl., <mark>K. Jahnke</mark>"
      ]
     },
     "metadata": {},
     "output_type": "display_data"
    },
    {
     "data": {
      "text/markdown": [
       "## Failed papers"
      ],
      "text/plain": [
       "<IPython.core.display.Markdown object>"
      ]
     },
     "metadata": {},
     "output_type": "display_data"
    },
    {
     "data": {
      "text/markdown": [
       "\n",
       "|||\n",
       "|---:|:---|\n",
       "| [![arXiv](https://img.shields.io/badge/arXiv-2505.09782-b31b1b.svg)](https://arxiv.org/abs/2505.09782) | **Virgo Filaments V: Disrupting the Baryon Cycle in the NGC 5364 Galaxy Group**  |\n",
       "|| R. A. Finn, et al. -- incl., <mark>L. Xie</mark> |\n",
       "|*Appeared on*| *2025-05-16*|\n",
       "|*Comments*| *21 pages, 11 figures, accepted for publication in the Astrophysical Journal*|\n",
       "|**Abstract**|            The Virgo Filament Survey (VFS) is a comprehensive study of galaxies that reside in the extended filamentary structures surrounding the Virgo Cluster, out to 12 virial radii. The primary goal is to characterize all of the dominant baryonic components within galaxies and to understand whether and how they are affected by the filament environment. A key constituent of VFS is a narrowband H$\\alpha$ imaging survey of over 600 galaxies, VFS-H$\\alpha$. The H$\\alpha$ images reveal detailed, resolved maps of the ionized gas and massive star-formation. This imaging is particularly powerful as a probe of environmentally-induced quenching because different physical processes affect the spatial distribution of star formation in different ways. In this paper, we present the first results from the VFS-H$\\alpha$ for the NGC~5364 group, a low-mass ($\\log_{10}(M_{dyn}/M_\\odot) < 13)$ system located at the western edge of the Virgo~III filament. We combine H$\\alpha$ imaging with resolved H~I observations from MeerKAT for eight group members. These galaxies exhibit peculiar morphologies, including strong distortions in the stars and the gas, truncated H~I and H$\\alpha$ disks, H~I tails, extraplanar H$\\alpha$ emission, and off-center H$\\alpha$ emission. These signatures are suggestive of environmental processing such as tidal interactions, ram pressure stripping, and starvation. We quantify the role of ram pressure stripping expected in this group, and find that it can explain the cases of H~I tails and truncated H-alpha for all but one of the disk-dominated galaxies. Our observations indicate that multiple physical mechanisms are disrupting the baryon cycle in these group galaxies.         |\n",
       "|<p style=\"color:green\"> **ERROR** </p>| <p style=\"color:green\">affiliation error: mpia.affiliation_verifications: 'Heidelberg' keyword not found.</p> |"
      ],
      "text/plain": [
       "<IPython.core.display.Markdown object>"
      ]
     },
     "metadata": {},
     "output_type": "display_data"
    },
    {
     "data": {
      "text/markdown": [
       "\n",
       "|||\n",
       "|---:|:---|\n",
       "| [![arXiv](https://img.shields.io/badge/arXiv-2505.09879-b31b1b.svg)](https://arxiv.org/abs/2505.09879) | **New cosmological constraints on the evolution of dark matter energy density**  |\n",
       "|| Y. Yang, X. Dai, <mark>Y. Wang</mark> |\n",
       "|*Appeared on*| *2025-05-16*|\n",
       "|*Comments*| *11 pages, 1 figures, 2 tables. Accepted by PRD (submitted on 28. Feb. 2025). Comments are still welcome. In particular, if you discover that your research is relevant to our work and your findings are not currently listed in Table II of our manuscript, we would greatly appreciate it if you could contact us. We will gladly include your results in the arXiv version of Table II*|\n",
       "|**Abstract**|            We constrain the evolution of dark matter energy density over time, specifically focusing on deviation from the standard model represented by the equation $\\rho_{m}\\propto(1+z)^{3-\\varepsilon}$, where $\\varepsilon$ is a constant parameter. Utilizing a diverse array of observational datasets, including baryon acoustic oscillations (BAO) data from the first release of the Dark Energy Spectroscopic Instrument (DESI), distance priors derived from cosmic microwave background (CMB) observations by the Planck satellite, Hubble rate data obtained through the cosmic chronometers (CC) method, type Ia supernova (SNIa) data from the Panthon sample, and the data from the redshift space distortion (RSD) measurements ($f\\sigma_8$), we derive stringent constraints on the deviation parameter. We find that for the model under consideration, the deviation parameter is constrained to be $\\varepsilon = -0.0073^{+0.0029}_{-0.0033}$, indicating a deviation of approximately $2.4\\sigma$ from the scenario where dark matter and vacuum dark energy do not interact. When compared with previous studies and alternative analyses, our findings provide corroborative evidence for an interaction between dark matter and vacuum dark energy, particularly in light of the release of BAO data from DESI.         |\n",
       "|<p style=\"color:green\"> **ERROR** </p>| <p style=\"color:green\">affiliation error: mpia.affiliation_verifications: 'Heidelberg' keyword not found.</p> |"
      ],
      "text/plain": [
       "<IPython.core.display.Markdown object>"
      ]
     },
     "metadata": {},
     "output_type": "display_data"
    },
    {
     "data": {
      "text/markdown": [
       "\n",
       "|||\n",
       "|---:|:---|\n",
       "| [![arXiv](https://img.shields.io/badge/arXiv-2505.10395-b31b1b.svg)](https://arxiv.org/abs/2505.10395) | **S241125n: Binary Black Hole Merger Produces Short GRB in AGN Disk**  |\n",
       "|| S.-R. Zhang, et al. -- incl., <mark>Y. Wang</mark> |\n",
       "|*Appeared on*| *2025-05-16*|\n",
       "|*Comments*| *14 pages, 8 figures, submitted to ApJL. Comments welcome!*|\n",
       "|**Abstract**|            Recently, the gravitational wave (GW) event for black hole (BH)-BH mergers, S241125n, has been reported to be associated with a short gamma-ray burst (GRB) and X-ray afterglow emission. Such an association could potentially unveil the environments of mergers and provide attractive targets for multi-messenger observations. We summarize these observations and model it as a binary BH merger occurring within an active galactic nucleus (AGN), where the merger remnant accretes disk material at hyper-Eddington rates. The resulting jet could lead to the GRB associated with the GW event. The GRB, detected by Swift-BAT, exhibits a Comptonized spectrum with an unusually soft photon index, which is consistent with emission from the jet interacting the emission associated with the dense AGN disk environment. Its X-ray afterglow shows an unusually hard spectrum, indicating possible strong absorption by a high column density typical of AGN disks. We highlight the importance of identifying the host galaxy and conducting more sensitive infrared observations to test the model.         |\n",
       "|<p style=\"color:green\"> **ERROR** </p>| <p style=\"color:green\">affiliation error: mpia.affiliation_verifications: 'Heidelberg' keyword not found.</p> |"
      ],
      "text/plain": [
       "<IPython.core.display.Markdown object>"
      ]
     },
     "metadata": {},
     "output_type": "display_data"
    }
   ],
   "source": [
    "import datetime\n",
    "today = str(datetime.date.today())\n",
    "logfile = f\"_build/html/logs/log-{today}.md\"\n",
    "\n",
    "\n",
    "with open(logfile, 'w') as logs:\n",
    "    # Success\n",
    "    logs.write(f'# Arxiv on Deck 2: Logs - {today}\\n\\n')\n",
    "    logs.write(\"\"\"* Arxiv had {0:,d} new papers\\n\"\"\".format(len(new_papers)))\n",
    "    logs.write(\"\"\"    * {0:,d} with possible author matches\\n\\n\"\"\".format(len(candidates)))\n",
    "    logs.write(\"## Sucessful papers\\n\\n\")\n",
    "    display(Markdown(\"## Successful papers\"))\n",
    "    success = [k[0] for k in documents]\n",
    "    for candid in candidates:\n",
    "        if candid['identifier'].split(':')[-1] in success:\n",
    "            display(candid)\n",
    "            logs.write(candid.generate_markdown_text() + '\\n\\n')\n",
    "\n",
    "    ## failed\n",
    "    logs.write(\"## Failed papers\\n\\n\")\n",
    "    display(Markdown(\"## Failed papers\"))\n",
    "    failed = sorted(failed, key=lambda x: x[1])\n",
    "    current_reason = \"\"\n",
    "    for paper, reason in failed:\n",
    "        if 'affiliation' in reason:\n",
    "            color = 'green'\n",
    "        else:\n",
    "            color = 'red'\n",
    "        data = Markdown(\n",
    "                paper.generate_markdown_text() + \n",
    "                f'\\n|<p style=\"color:{color:s}\"> **ERROR** </p>| <p style=\"color:{color:s}\">{reason:s}</p> |'\n",
    "               )\n",
    "        if reason != current_reason:\n",
    "            logs.write(f'### {reason:s} \\n\\n')\n",
    "            current_reason = reason\n",
    "        logs.write(data.data + '\\n\\n')\n",
    "        \n",
    "        # only display here the important errors (all in logs)\n",
    "        # if color in ('red',):\n",
    "        display(data)"
   ]
  },
  {
   "cell_type": "markdown",
   "id": "472d20ee",
   "metadata": {
    "papermill": {
     "duration": 0.004353,
     "end_time": "2025-05-16T04:15:45.619263",
     "exception": false,
     "start_time": "2025-05-16T04:15:45.614910",
     "status": "completed"
    },
    "tags": []
   },
   "source": [
    "## Export documents\n",
    "\n",
    "We now write the .md files and export relevant images"
   ]
  },
  {
   "cell_type": "code",
   "execution_count": 7,
   "id": "d426aed9",
   "metadata": {
    "execution": {
     "iopub.execute_input": "2025-05-16T04:15:45.629247Z",
     "iopub.status.busy": "2025-05-16T04:15:45.628705Z",
     "iopub.status.idle": "2025-05-16T04:15:45.635826Z",
     "shell.execute_reply": "2025-05-16T04:15:45.635268Z"
    },
    "papermill": {
     "duration": 0.01339,
     "end_time": "2025-05-16T04:15:45.636952",
     "exception": false,
     "start_time": "2025-05-16T04:15:45.623562",
     "status": "completed"
    },
    "tags": []
   },
   "outputs": [],
   "source": [
    "def export_markdown_summary(md: str, md_fname:str, directory: str):\n",
    "    \"\"\"Export MD document and associated relevant images\"\"\"\n",
    "    import os\n",
    "    import shutil\n",
    "    import re\n",
    "\n",
    "    if (os.path.exists(directory) and not os.path.isdir(directory)):\n",
    "        raise RuntimeError(f\"a non-directory file exists with name {directory:s}\")\n",
    "\n",
    "    if (not os.path.exists(directory)):\n",
    "        print(f\"creating directory {directory:s}\")\n",
    "        os.mkdir(directory)\n",
    "\n",
    "    fig_fnames = (re.compile(r'\\[Fig.*\\]\\((.*)\\)').findall(md) + \n",
    "                  re.compile(r'\\<img src=\"([^>\\s]*)\"[^>]*/>').findall(md))\n",
    "    print(\"found figures\", fig_fnames)\n",
    "    for fname in fig_fnames:\n",
    "        if 'http' in fname:\n",
    "            # No need to copy online figures\n",
    "            continue\n",
    "        if not os.path.exists(fname):\n",
    "            print(\"file not found\", fname)\n",
    "            continue\n",
    "        print(\"copying \", fname, \"to\", directory)\n",
    "        destdir = os.path.join(directory, os.path.dirname(fname))\n",
    "        destfname = os.path.join(destdir, os.path.basename(fname))\n",
    "        try:\n",
    "            os.makedirs(destdir)\n",
    "        except FileExistsError:\n",
    "            pass\n",
    "        shutil.copy(fname, destfname)\n",
    "    with open(os.path.join(directory, md_fname), 'w') as fout:\n",
    "        fout.write(md)\n",
    "    print(\"exported in \", os.path.join(directory, md_fname))\n",
    "    [print(\"    + \" + os.path.join(directory,fk)) for fk in fig_fnames]"
   ]
  },
  {
   "cell_type": "code",
   "execution_count": 8,
   "id": "014d04a4",
   "metadata": {
    "execution": {
     "iopub.execute_input": "2025-05-16T04:15:45.646438Z",
     "iopub.status.busy": "2025-05-16T04:15:45.646235Z",
     "iopub.status.idle": "2025-05-16T04:15:45.651412Z",
     "shell.execute_reply": "2025-05-16T04:15:45.650860Z"
    },
    "papermill": {
     "duration": 0.011144,
     "end_time": "2025-05-16T04:15:45.652467",
     "exception": false,
     "start_time": "2025-05-16T04:15:45.641323",
     "status": "completed"
    },
    "tags": []
   },
   "outputs": [
    {
     "name": "stdout",
     "output_type": "stream",
     "text": [
      "found figures ['tmp_2505.10416/./Figures/nz_true_shape_bin1_npl.png', 'tmp_2505.10416/./Figures/Wdm_theory_npl.png', 'tmp_2505.10416/./Figures/Bias_dz10_npl.png']\n",
      "copying  tmp_2505.10416/./Figures/nz_true_shape_bin1_npl.png to _build/html/\n",
      "copying  tmp_2505.10416/./Figures/Wdm_theory_npl.png to _build/html/\n",
      "copying  tmp_2505.10416/./Figures/Bias_dz10_npl.png to _build/html/\n",
      "exported in  _build/html/2505.10416.md\n",
      "    + _build/html/tmp_2505.10416/./Figures/nz_true_shape_bin1_npl.png\n",
      "    + _build/html/tmp_2505.10416/./Figures/Wdm_theory_npl.png\n",
      "    + _build/html/tmp_2505.10416/./Figures/Bias_dz10_npl.png\n"
     ]
    }
   ],
   "source": [
    "for paper_id, md in documents:\n",
    "    export_markdown_summary(md, f\"{paper_id:s}.md\", '_build/html/')"
   ]
  },
  {
   "cell_type": "markdown",
   "id": "f087a0a7",
   "metadata": {
    "papermill": {
     "duration": 0.004393,
     "end_time": "2025-05-16T04:15:45.661873",
     "exception": false,
     "start_time": "2025-05-16T04:15:45.657480",
     "status": "completed"
    },
    "tags": []
   },
   "source": [
    "## Display the papers\n",
    "\n",
    "Not necessary but allows for a quick check."
   ]
  },
  {
   "cell_type": "code",
   "execution_count": 9,
   "id": "fd25f625",
   "metadata": {
    "execution": {
     "iopub.execute_input": "2025-05-16T04:15:45.672061Z",
     "iopub.status.busy": "2025-05-16T04:15:45.671410Z",
     "iopub.status.idle": "2025-05-16T04:15:45.676572Z",
     "shell.execute_reply": "2025-05-16T04:15:45.675914Z"
    },
    "papermill": {
     "duration": 0.011459,
     "end_time": "2025-05-16T04:15:45.677728",
     "exception": false,
     "start_time": "2025-05-16T04:15:45.666269",
     "status": "completed"
    },
    "scrolled": false,
    "tags": []
   },
   "outputs": [
    {
     "data": {
      "text/markdown": [
       "<div class=\"macros\" style=\"visibility:hidden;\">\n",
       "$\\newcommand{\\ensuremath}{}$\n",
       "$\\newcommand{\\xspace}{}$\n",
       "$\\newcommand{\\object}[1]{\\texttt{#1}}$\n",
       "$\\newcommand{\\farcs}{{.}''}$\n",
       "$\\newcommand{\\farcm}{{.}'}$\n",
       "$\\newcommand{\\arcsec}{''}$\n",
       "$\\newcommand{\\arcmin}{'}$\n",
       "$\\newcommand{\\ion}[2]{#1#2}$\n",
       "$\\newcommand{\\textsc}[1]{\\textrm{#1}}$\n",
       "$\\newcommand{\\hl}[1]{\\textrm{#1}}$\n",
       "$\\newcommand{\\footnote}[1]{}$\n",
       "$\\newcommand{\\dz}{\\mathrm{d}z}$\n",
       "$\\newcommand{\\w}{\\omega}$\n",
       "$\\newcommand{\\william}[1]{{\\textcolor{purple}{[WdA: #1]}}}$\n",
       "$\\newcommand{\\corr}[1]{{\\textcolor{red}{ #1}}}$\n",
       "$\\newcommand{\\smallO}[1]{\\ensuremath{\\mathop \\mathopen{\\scriptstyle\\mathcal{O}}\\mathopen \\left(#1\\right)}}$\n",
       "$\\newcommand{\\bigO}[1]{\\ensuremath{\\mathop \\mathopen{ \\Large\\mathcal{O}}\\mathopen \\left(#1\\right)}}$\n",
       "$\\newcommand{\\orcid}[1]$\n",
       "$\\newcommand{\\d}{\\delta}$\n",
       "$\\newcommand{\\l}{\\langle}$\n",
       "$\\newcommand{\\r}{\\rangle}$\n",
       "$\\newcommand{\\np}{n_{\\rm p}}$\n",
       "$\\newcommand{\\wsp}{w_{\\rm sp}}$\n",
       "$\\newcommand{\\bp}{b_{\\rm p}}$\n",
       "$\\newcommand{\\bs}{b_{\\rm s}}$\n",
       "$\\newcommand{\\thetamin}{\\theta_{\\rm min}}$\n",
       "$\\newcommand{\\thetamax}{\\theta_{\\rm max}}$\n",
       "$\\newcommand{\\drp}{{\\rm d}r_{\\rm p}}$\n",
       "$\\newcommand{\\rp}{r_{\\rm p}}$\n",
       "$\\newcommand{\\rpmin}{r_{\\rm p}^{\\rm min}}$\n",
       "$\\newcommand{\\rpmax}{r_{\\rm p}^{\\rm max}}$</div>\n",
       "\n",
       "\n",
       "\n",
       "<div id=\"title\">\n",
       "\n",
       "# $\\Euclid$\\/: Photometric  redshift calibration with the clustering redshifts technique $\\thanks{This paper is published on behalf of the Euclid Consortium}$\n",
       "\n",
       "</div>\n",
       "<div id=\"comments\">\n",
       "\n",
       "[![arXiv](https://img.shields.io/badge/arXiv-2505.10416-b31b1b.svg)](https://arxiv.org/abs/2505.10416)<mark>Appeared on: 2025-05-16</mark> -  _32 pages, 26 figures, 2 tables_\n",
       "\n",
       "</div>\n",
       "<div id=\"authors\">\n",
       "\n",
       "W. d. Doumerg, et al. -- incl., <mark>K. Jahnke</mark>\n",
       "\n",
       "</div>\n",
       "<div id=\"abstract\">\n",
       "\n",
       "**Abstract:** Aims: The precision of cosmological constraints from imaging surveys hinges on accurately estimating the redshift distribution $n(z)$ of tomographic bins, especially their mean redshifts. We assess the effectiveness of the clustering redshifts technique in constraining $\\Euclid$ tomographic redshift bins to meet the target uncertainty of $ \\sigma(\\langle z \\rangle)< 0.002 (1 + z)$ . In this work, these mean redshifts are inferred from the small-scale angular clustering of $\\Euclid$ galaxies, which are distributed into bins with spectroscopic samples localised in narrow redshift slices.Methods: We generate spectroscopic mocks from the Flagship2 simulation for the Baryon Oscillation Spectroscopic Survey (BOSS), the Dark Energy Spectroscopic Instrument (DESI), and _Euclid_ ’s Near-Infrared Spectrometer and Photometer (NISP) spectroscopic survey. We evaluate and optimise the clustering redshifts pipeline, introducing a new method for measuring photometric galaxy bias (clustering), which is the primary limitation of this technique.Results: We have successfully constrained the means and standard deviations of the redshift distributions for all of the tomographic bins (with a maximum photometric redshift of 1.6), achieving precision beyond the required thresholds. We have identified the main sources of bias, particularly the impact of the 1-halo galaxy distribution, which imposed a minimal separation scale of 1.5 Mpc for evaluating cross-correlations. These results demonstrate the potential of clustering redshifts to meet the precision requirements for $\\Euclid$ , and we highlight several avenues for future improvements.\n",
       "\n",
       "</div>\n",
       "\n",
       "<div id=\"div_fig1\">\n",
       "\n",
       "<img src=\"tmp_2505.10416/./Figures/nz_true_shape_bin1_npl.png\" alt=\"Fig2\" width=\"100%\"/>\n",
       "\n",
       "**Figure 2. -**  A galaxy distribution observed through different $\\Delta z$ averaging as Eq. \\eqref{eq:nz_avg}. The redshift convolution is modifying the shape of the distribution for larger slicing, in comparison to the real one estimated with a very thin slicing (grey). For that case, all slicing $\\Delta z $\\l$eq 0.06$ produce a good estimate. (*fig:nz_binning*)\n",
       "\n",
       "</div>\n",
       "<div id=\"div_fig2\">\n",
       "\n",
       "<img src=\"tmp_2505.10416/./Figures/Wdm_theory_npl.png\" alt=\"Fig1\" width=\"100%\"/>\n",
       "\n",
       "**Figure 1. -** _Top_: Redshift distribution of sample $b$ in blue, and four out of the ten samples $a_i$ in red. _Bottom_: Deviation of approximated $w_{a_ib}$ w.r.t. the exact one, for the 10 cross-correlations. (*fig:Toy_model_wab*)\n",
       "\n",
       "</div>\n",
       "<div id=\"div_fig3\">\n",
       "\n",
       "<img src=\"tmp_2505.10416/./Figures/Bias_dz10_npl.png\" alt=\"Fig7\" width=\"100%\"/>\n",
       "\n",
       "**Figure 7. -**  True $w_{$\\r$m pp}$ for $\\Delta z=0.05$ in grey and measurement with corrections factors including (M3) in green, blue, and orange dashed lines for photo-$z$ binning $\\Delta z=0.1$. The best fits from degree-3 polynomials are reported with solid lines. The $w_{$\\r$m pp}$ used for  (M3) is the best-fit model of the full correction (solid red line).   (*fig:M3bias*)\n",
       "\n",
       "</div><div id=\"qrcode\"><img src=https://api.qrserver.com/v1/create-qr-code/?size=100x100&data=\"https://arxiv.org/abs/2505.10416\"></div>"
      ],
      "text/plain": [
       "<IPython.core.display.Markdown object>"
      ]
     },
     "metadata": {},
     "output_type": "display_data"
    }
   ],
   "source": [
    "[display(Markdown(k[1])) for k in documents];"
   ]
  },
  {
   "cell_type": "markdown",
   "id": "873873a4",
   "metadata": {
    "papermill": {
     "duration": 0.00485,
     "end_time": "2025-05-16T04:15:45.687391",
     "exception": false,
     "start_time": "2025-05-16T04:15:45.682541",
     "status": "completed"
    },
    "tags": []
   },
   "source": [
    "# Create HTML index"
   ]
  },
  {
   "cell_type": "code",
   "execution_count": 10,
   "id": "cf665672",
   "metadata": {
    "execution": {
     "iopub.execute_input": "2025-05-16T04:15:45.697954Z",
     "iopub.status.busy": "2025-05-16T04:15:45.697407Z",
     "iopub.status.idle": "2025-05-16T04:15:45.708356Z",
     "shell.execute_reply": "2025-05-16T04:15:45.707688Z"
    },
    "papermill": {
     "duration": 0.017458,
     "end_time": "2025-05-16T04:15:45.709498",
     "exception": false,
     "start_time": "2025-05-16T04:15:45.692040",
     "status": "completed"
    },
    "tags": []
   },
   "outputs": [
    {
     "name": "stdout",
     "output_type": "stream",
     "text": [
      "490  publications files modified in the last 7 days.\n"
     ]
    }
   ],
   "source": [
    "from datetime import datetime, timedelta, timezone\n",
    "from glob import glob\n",
    "import os\n",
    "\n",
    "files = glob('_build/html/*.md')\n",
    "days = 7\n",
    "now = datetime.today()\n",
    "res = []\n",
    "for fk in files:\n",
    "    stat_result = os.stat(fk).st_ctime\n",
    "    modified = datetime.fromtimestamp(stat_result, tz=timezone.utc).replace(tzinfo=None)\n",
    "    delta = now.today() - modified\n",
    "    if delta <= timedelta(days=days):\n",
    "        res.append((delta.seconds, fk))\n",
    "res = [k[1] for k in reversed(sorted(res, key=lambda x:x[1]))]\n",
    "npub = len(res)\n",
    "print(len(res), f\" publications files modified in the last {days:d} days.\")\n",
    "# [ print('\\t', k) for k in res ];"
   ]
  },
  {
   "cell_type": "code",
   "execution_count": 11,
   "id": "015de740",
   "metadata": {
    "execution": {
     "iopub.execute_input": "2025-05-16T04:15:45.720083Z",
     "iopub.status.busy": "2025-05-16T04:15:45.719710Z",
     "iopub.status.idle": "2025-05-16T04:15:45.744025Z",
     "shell.execute_reply": "2025-05-16T04:15:45.743322Z"
    },
    "papermill": {
     "duration": 0.030727,
     "end_time": "2025-05-16T04:15:45.745053",
     "exception": false,
     "start_time": "2025-05-16T04:15:45.714326",
     "status": "completed"
    },
    "tags": []
   },
   "outputs": [
    {
     "name": "stdout",
     "output_type": "stream",
     "text": [
      "10  publications in the last 7 days.\n"
     ]
    }
   ],
   "source": [
    "import datetime\n",
    "from glob import glob\n",
    "\n",
    "def get_last_n_days(lst, days=1):\n",
    "    \"\"\" Get the documents from the last n days \"\"\"\n",
    "    sorted_lst = sorted(lst, key=lambda x: x[1], reverse=True)\n",
    "    for fname, date in sorted_lst:\n",
    "        if date >= str(datetime.date.today() - datetime.timedelta(days=days)):\n",
    "            yield fname\n",
    "\n",
    "def extract_appearance_dates(lst_file):\n",
    "    dates = []\n",
    "\n",
    "    def get_date(line):\n",
    "        return line\\\n",
    "            .split('Appeared on:')[-1]\\\n",
    "            .split('</mark>')[0].strip()\n",
    "\n",
    "    for fname in lst:\n",
    "        with open(fname, 'r') as f:\n",
    "            found_date = False\n",
    "            for line in f:\n",
    "                if not found_date:\n",
    "                    if \"Appeared on\" in line:\n",
    "                        found_date = True\n",
    "                        dates.append((fname, get_date(line)))\n",
    "                else:\n",
    "                    break\n",
    "    return dates\n",
    "\n",
    "from glob import glob\n",
    "lst = glob('_build/html/*md')\n",
    "days = 7\n",
    "dates = extract_appearance_dates(lst)\n",
    "res = list(get_last_n_days(dates, days))\n",
    "npub = len(res)\n",
    "print(len(res), f\" publications in the last {days:d} days.\")"
   ]
  },
  {
   "cell_type": "code",
   "execution_count": 12,
   "id": "52ca0208",
   "metadata": {
    "execution": {
     "iopub.execute_input": "2025-05-16T04:15:45.756391Z",
     "iopub.status.busy": "2025-05-16T04:15:45.755747Z",
     "iopub.status.idle": "2025-05-16T04:15:45.761145Z",
     "shell.execute_reply": "2025-05-16T04:15:45.760464Z"
    },
    "papermill": {
     "duration": 0.011999,
     "end_time": "2025-05-16T04:15:45.762181",
     "exception": false,
     "start_time": "2025-05-16T04:15:45.750182",
     "status": "completed"
    },
    "scrolled": false,
    "tags": []
   },
   "outputs": [],
   "source": [
    "def create_carousel(npub=4):\n",
    "    \"\"\" Generate the HTML code for a carousel with `npub` slides \"\"\"\n",
    "    carousel = [\"\"\"  <div class=\"carousel\" \"\"\",\n",
    "                \"\"\"       data-flickity='{ \"autoPlay\": 10000, \"adaptiveHeight\": true, \"resize\": true, \"wrapAround\": true, \"pauseAutoPlayOnHover\": true, \"groupCells\": 1 }' id=\"asyncTypeset\">\"\"\"\n",
    "                ]\n",
    "    \n",
    "    item_str = \"\"\"    <div class=\"carousel-cell\"> <div id=\"slide{k}\" class=\"md_view\">Content {k}</div> </div>\"\"\"\n",
    "    for k in range(1, npub + 1):\n",
    "        carousel.append(item_str.format(k=k))\n",
    "    carousel.append(\"  </div>\")\n",
    "    return '\\n'.join(carousel)\n",
    "\n",
    "def create_grid(npub=4):\n",
    "    \"\"\" Generate the HTML code for a flat grid with `npub` slides \"\"\"\n",
    "    grid = [\"\"\"  <div class=\"grid\"> \"\"\",\n",
    "                ]\n",
    "    \n",
    "    item_str = \"\"\"    <div class=\"grid-item\"> <div id=\"slide{k}\" class=\"md_view\">Content {k}</div> </div>\"\"\"\n",
    "    for k in range(1, npub + 1):\n",
    "        grid.append(item_str.format(k=k))\n",
    "    grid.append(\"  </div>\")\n",
    "    return '\\n'.join(grid)"
   ]
  },
  {
   "cell_type": "code",
   "execution_count": 13,
   "id": "a6eac5b6",
   "metadata": {
    "execution": {
     "iopub.execute_input": "2025-05-16T04:15:45.773355Z",
     "iopub.status.busy": "2025-05-16T04:15:45.772720Z",
     "iopub.status.idle": "2025-05-16T04:15:45.778079Z",
     "shell.execute_reply": "2025-05-16T04:15:45.777517Z"
    },
    "papermill": {
     "duration": 0.011979,
     "end_time": "2025-05-16T04:15:45.779121",
     "exception": false,
     "start_time": "2025-05-16T04:15:45.767142",
     "status": "completed"
    },
    "scrolled": false,
    "tags": []
   },
   "outputs": [],
   "source": [
    "carousel = create_carousel(npub)\n",
    "docs = ', '.join(['\"{0:s}\"'.format(k.split('/')[-1]) for k in res])\n",
    "slides = ', '.join([f'\"slide{k}\"' for k in range(1, npub + 1)])\n",
    "\n",
    "with open(\"daily_template.html\", \"r\") as tpl:\n",
    "    page = tpl.read()\n",
    "    page = page.replace(\"{%-- carousel:s --%}\", carousel)\\\n",
    "               .replace(\"{%-- suptitle:s --%}\",  \"7-day archives\" )\\\n",
    "               .replace(\"{%-- docs:s --%}\", docs)\\\n",
    "               .replace(\"{%-- slides:s --%}\", slides)\n",
    "    \n",
    "with open(\"_build/html/index_7days.html\", 'w') as fout:\n",
    "    fout.write(page)"
   ]
  },
  {
   "cell_type": "code",
   "execution_count": 14,
   "id": "adc1a1ec",
   "metadata": {
    "execution": {
     "iopub.execute_input": "2025-05-16T04:15:45.790782Z",
     "iopub.status.busy": "2025-05-16T04:15:45.790273Z",
     "iopub.status.idle": "2025-05-16T04:15:45.797991Z",
     "shell.execute_reply": "2025-05-16T04:15:45.797361Z"
    },
    "papermill": {
     "duration": 0.014727,
     "end_time": "2025-05-16T04:15:45.799142",
     "exception": false,
     "start_time": "2025-05-16T04:15:45.784415",
     "status": "completed"
    },
    "tags": []
   },
   "outputs": [
    {
     "name": "stdout",
     "output_type": "stream",
     "text": [
      "2  publications in the last day.\n"
     ]
    }
   ],
   "source": [
    "# redo for today\n",
    "days = 1\n",
    "res = list(get_last_n_days(dates, days))\n",
    "npub = len(res)\n",
    "print(len(res), f\" publications in the last day.\")\n",
    "\n",
    "carousel = create_carousel(npub)\n",
    "docs = ', '.join(['\"{0:s}\"'.format(k.split('/')[-1]) for k in res])\n",
    "slides = ', '.join([f'\"slide{k}\"' for k in range(1, npub + 1)])\n",
    "\n",
    "with open(\"daily_template.html\", \"r\") as tpl:\n",
    "    page = tpl.read()\n",
    "    page = page.replace(\"{%-- carousel:s --%}\", carousel)\\\n",
    "               .replace(\"{%-- suptitle:s --%}\",  \"Daily\" )\\\n",
    "               .replace(\"{%-- docs:s --%}\", docs)\\\n",
    "               .replace(\"{%-- slides:s --%}\", slides)\n",
    "    \n",
    "# print(carousel, docs, slides)\n",
    "# print(page)\n",
    "with open(\"_build/html/index_daily.html\", 'w') as fout:\n",
    "    fout.write(page)"
   ]
  },
  {
   "cell_type": "code",
   "execution_count": 15,
   "id": "00eece82",
   "metadata": {
    "execution": {
     "iopub.execute_input": "2025-05-16T04:15:45.810442Z",
     "iopub.status.busy": "2025-05-16T04:15:45.809909Z",
     "iopub.status.idle": "2025-05-16T04:15:45.816663Z",
     "shell.execute_reply": "2025-05-16T04:15:45.816109Z"
    },
    "papermill": {
     "duration": 0.013435,
     "end_time": "2025-05-16T04:15:45.817745",
     "exception": false,
     "start_time": "2025-05-16T04:15:45.804310",
     "status": "completed"
    },
    "scrolled": false,
    "tags": []
   },
   "outputs": [
    {
     "name": "stdout",
     "output_type": "stream",
     "text": [
      "6  6 publications selected.\n"
     ]
    }
   ],
   "source": [
    "# Create the flat grid of the last N papers (fixed number regardless of dates)\n",
    "from itertools import islice \n",
    "\n",
    "npub = 6\n",
    "res = [k[0] for k in (islice(reversed(sorted(dates, key=lambda x: x[1])), 6))]\n",
    "print(len(res), f\" {npub} publications selected.\")\n",
    "\n",
    "grid = create_grid(npub)\n",
    "docs = ', '.join(['\"{0:s}\"'.format(k.split('/')[-1]) for k in res])\n",
    "slides = ', '.join([f'\"slide{k}\"' for k in range(1, npub + 1)])\n",
    "\n",
    "with open(\"grid_template.html\", \"r\") as tpl:\n",
    "    page = tpl.read()\n",
    "    page = page.replace(\"{%-- grid-content:s --%}\", grid)\\\n",
    "               .replace(\"{%-- suptitle:s --%}\",  f\"Last {npub:,d} papers\" )\\\n",
    "               .replace(\"{%-- docs:s --%}\", docs)\\\n",
    "               .replace(\"{%-- slides:s --%}\", slides)\n",
    "    \n",
    "# print(grid, docs, slides)\n",
    "# print(page)\n",
    "with open(\"_build/html/index_npub_grid.html\", 'w') as fout:\n",
    "    fout.write(page)"
   ]
  }
 ],
 "metadata": {
  "kernelspec": {
   "display_name": "Python 3 (ipykernel)",
   "language": "python",
   "name": "python3"
  },
  "language_info": {
   "codemirror_mode": {
    "name": "ipython",
    "version": 3
   },
   "file_extension": ".py",
   "mimetype": "text/x-python",
   "name": "python",
   "nbconvert_exporter": "python",
   "pygments_lexer": "ipython3",
   "version": "3.9.22"
  },
  "papermill": {
   "default_parameters": {},
   "duration": 55.869443,
   "end_time": "2025-05-16T04:15:46.140918",
   "environment_variables": {},
   "exception": null,
   "input_path": "MPIA daily digest.ipynb",
   "output_path": "log.ipynb",
   "parameters": {},
   "start_time": "2025-05-16T04:14:50.271475",
   "version": "2.6.0"
  },
  "vscode": {
   "interpreter": {
    "hash": "aee8b7b246df8f9039afb4144a1f6fd8d2ca17a180786b69acc140d282b71a49"
   }
  },
  "widgets": {
   "application/vnd.jupyter.widget-state+json": {
    "state": {
     "164d72b05b5e42eaa883c5fc71aa2009": {
      "model_module": "@jupyter-widgets/controls",
      "model_module_version": "2.0.0",
      "model_name": "HTMLModel",
      "state": {
       "_dom_classes": [],
       "_model_module": "@jupyter-widgets/controls",
       "_model_module_version": "2.0.0",
       "_model_name": "HTMLModel",
       "_view_count": null,
       "_view_module": "@jupyter-widgets/controls",
       "_view_module_version": "2.0.0",
       "_view_name": "HTMLView",
       "description": "",
       "description_allow_html": false,
       "layout": "IPY_MODEL_87726eba9b7e4fbc90a5b5540a82fb62",
       "placeholder": "​",
       "style": "IPY_MODEL_5f6cae9158de44f9b031dbd96a4997d7",
       "tabbable": null,
       "tooltip": null,
       "value": "100%"
      }
     },
     "26eca0f37bdb4f9196a6d68aad396026": {
      "model_module": "@jupyter-widgets/controls",
      "model_module_version": "2.0.0",
      "model_name": "HTMLStyleModel",
      "state": {
       "_model_module": "@jupyter-widgets/controls",
       "_model_module_version": "2.0.0",
       "_model_name": "HTMLStyleModel",
       "_view_count": null,
       "_view_module": "@jupyter-widgets/base",
       "_view_module_version": "2.0.0",
       "_view_name": "StyleView",
       "background": null,
       "description_width": "",
       "font_size": null,
       "text_color": null
      }
     },
     "379bb2d550634eb597af31ebe24484c1": {
      "model_module": "@jupyter-widgets/controls",
      "model_module_version": "2.0.0",
      "model_name": "FloatProgressModel",
      "state": {
       "_dom_classes": [],
       "_model_module": "@jupyter-widgets/controls",
       "_model_module_version": "2.0.0",
       "_model_name": "FloatProgressModel",
       "_view_count": null,
       "_view_module": "@jupyter-widgets/controls",
       "_view_module_version": "2.0.0",
       "_view_name": "ProgressView",
       "bar_style": "success",
       "description": "",
       "description_allow_html": false,
       "layout": "IPY_MODEL_ab1d7ef08c2c40178067c70805ed78b7",
       "max": 4.0,
       "min": 0.0,
       "orientation": "horizontal",
       "style": "IPY_MODEL_b9e1e19c555c4ef78d60b3c793190117",
       "tabbable": null,
       "tooltip": null,
       "value": 4.0
      }
     },
     "5f6cae9158de44f9b031dbd96a4997d7": {
      "model_module": "@jupyter-widgets/controls",
      "model_module_version": "2.0.0",
      "model_name": "HTMLStyleModel",
      "state": {
       "_model_module": "@jupyter-widgets/controls",
       "_model_module_version": "2.0.0",
       "_model_name": "HTMLStyleModel",
       "_view_count": null,
       "_view_module": "@jupyter-widgets/base",
       "_view_module_version": "2.0.0",
       "_view_name": "StyleView",
       "background": null,
       "description_width": "",
       "font_size": null,
       "text_color": null
      }
     },
     "6aa80a7c8cf646e98c19e3c9c15fb18a": {
      "model_module": "@jupyter-widgets/base",
      "model_module_version": "2.0.0",
      "model_name": "LayoutModel",
      "state": {
       "_model_module": "@jupyter-widgets/base",
       "_model_module_version": "2.0.0",
       "_model_name": "LayoutModel",
       "_view_count": null,
       "_view_module": "@jupyter-widgets/base",
       "_view_module_version": "2.0.0",
       "_view_name": "LayoutView",
       "align_content": null,
       "align_items": null,
       "align_self": null,
       "border_bottom": null,
       "border_left": null,
       "border_right": null,
       "border_top": null,
       "bottom": null,
       "display": null,
       "flex": null,
       "flex_flow": null,
       "grid_area": null,
       "grid_auto_columns": null,
       "grid_auto_flow": null,
       "grid_auto_rows": null,
       "grid_column": null,
       "grid_gap": null,
       "grid_row": null,
       "grid_template_areas": null,
       "grid_template_columns": null,
       "grid_template_rows": null,
       "height": null,
       "justify_content": null,
       "justify_items": null,
       "left": null,
       "margin": null,
       "max_height": null,
       "max_width": null,
       "min_height": null,
       "min_width": null,
       "object_fit": null,
       "object_position": null,
       "order": null,
       "overflow": null,
       "padding": null,
       "right": null,
       "top": null,
       "visibility": null,
       "width": null
      }
     },
     "6da750109acd4e5cae635350052ca2fd": {
      "model_module": "@jupyter-widgets/base",
      "model_module_version": "2.0.0",
      "model_name": "LayoutModel",
      "state": {
       "_model_module": "@jupyter-widgets/base",
       "_model_module_version": "2.0.0",
       "_model_name": "LayoutModel",
       "_view_count": null,
       "_view_module": "@jupyter-widgets/base",
       "_view_module_version": "2.0.0",
       "_view_name": "LayoutView",
       "align_content": null,
       "align_items": null,
       "align_self": null,
       "border_bottom": null,
       "border_left": null,
       "border_right": null,
       "border_top": null,
       "bottom": null,
       "display": null,
       "flex": null,
       "flex_flow": null,
       "grid_area": null,
       "grid_auto_columns": null,
       "grid_auto_flow": null,
       "grid_auto_rows": null,
       "grid_column": null,
       "grid_gap": null,
       "grid_row": null,
       "grid_template_areas": null,
       "grid_template_columns": null,
       "grid_template_rows": null,
       "height": null,
       "justify_content": null,
       "justify_items": null,
       "left": null,
       "margin": null,
       "max_height": null,
       "max_width": null,
       "min_height": null,
       "min_width": null,
       "object_fit": null,
       "object_position": null,
       "order": null,
       "overflow": null,
       "padding": null,
       "right": null,
       "top": null,
       "visibility": null,
       "width": null
      }
     },
     "87726eba9b7e4fbc90a5b5540a82fb62": {
      "model_module": "@jupyter-widgets/base",
      "model_module_version": "2.0.0",
      "model_name": "LayoutModel",
      "state": {
       "_model_module": "@jupyter-widgets/base",
       "_model_module_version": "2.0.0",
       "_model_name": "LayoutModel",
       "_view_count": null,
       "_view_module": "@jupyter-widgets/base",
       "_view_module_version": "2.0.0",
       "_view_name": "LayoutView",
       "align_content": null,
       "align_items": null,
       "align_self": null,
       "border_bottom": null,
       "border_left": null,
       "border_right": null,
       "border_top": null,
       "bottom": null,
       "display": null,
       "flex": null,
       "flex_flow": null,
       "grid_area": null,
       "grid_auto_columns": null,
       "grid_auto_flow": null,
       "grid_auto_rows": null,
       "grid_column": null,
       "grid_gap": null,
       "grid_row": null,
       "grid_template_areas": null,
       "grid_template_columns": null,
       "grid_template_rows": null,
       "height": null,
       "justify_content": null,
       "justify_items": null,
       "left": null,
       "margin": null,
       "max_height": null,
       "max_width": null,
       "min_height": null,
       "min_width": null,
       "object_fit": null,
       "object_position": null,
       "order": null,
       "overflow": null,
       "padding": null,
       "right": null,
       "top": null,
       "visibility": null,
       "width": null
      }
     },
     "ab1d7ef08c2c40178067c70805ed78b7": {
      "model_module": "@jupyter-widgets/base",
      "model_module_version": "2.0.0",
      "model_name": "LayoutModel",
      "state": {
       "_model_module": "@jupyter-widgets/base",
       "_model_module_version": "2.0.0",
       "_model_name": "LayoutModel",
       "_view_count": null,
       "_view_module": "@jupyter-widgets/base",
       "_view_module_version": "2.0.0",
       "_view_name": "LayoutView",
       "align_content": null,
       "align_items": null,
       "align_self": null,
       "border_bottom": null,
       "border_left": null,
       "border_right": null,
       "border_top": null,
       "bottom": null,
       "display": null,
       "flex": null,
       "flex_flow": null,
       "grid_area": null,
       "grid_auto_columns": null,
       "grid_auto_flow": null,
       "grid_auto_rows": null,
       "grid_column": null,
       "grid_gap": null,
       "grid_row": null,
       "grid_template_areas": null,
       "grid_template_columns": null,
       "grid_template_rows": null,
       "height": null,
       "justify_content": null,
       "justify_items": null,
       "left": null,
       "margin": null,
       "max_height": null,
       "max_width": null,
       "min_height": null,
       "min_width": null,
       "object_fit": null,
       "object_position": null,
       "order": null,
       "overflow": null,
       "padding": null,
       "right": null,
       "top": null,
       "visibility": null,
       "width": null
      }
     },
     "b8c50fccde5447579111c16f7b0a531a": {
      "model_module": "@jupyter-widgets/controls",
      "model_module_version": "2.0.0",
      "model_name": "HTMLModel",
      "state": {
       "_dom_classes": [],
       "_model_module": "@jupyter-widgets/controls",
       "_model_module_version": "2.0.0",
       "_model_name": "HTMLModel",
       "_view_count": null,
       "_view_module": "@jupyter-widgets/controls",
       "_view_module_version": "2.0.0",
       "_view_name": "HTMLView",
       "description": "",
       "description_allow_html": false,
       "layout": "IPY_MODEL_6da750109acd4e5cae635350052ca2fd",
       "placeholder": "​",
       "style": "IPY_MODEL_26eca0f37bdb4f9196a6d68aad396026",
       "tabbable": null,
       "tooltip": null,
       "value": " 4/4 [00:32&lt;00:00, 12.32s/it]"
      }
     },
     "b9e1e19c555c4ef78d60b3c793190117": {
      "model_module": "@jupyter-widgets/controls",
      "model_module_version": "2.0.0",
      "model_name": "ProgressStyleModel",
      "state": {
       "_model_module": "@jupyter-widgets/controls",
       "_model_module_version": "2.0.0",
       "_model_name": "ProgressStyleModel",
       "_view_count": null,
       "_view_module": "@jupyter-widgets/base",
       "_view_module_version": "2.0.0",
       "_view_name": "StyleView",
       "bar_color": null,
       "description_width": ""
      }
     },
     "b9fbe009d61c4f9794ca7238c331b8c0": {
      "model_module": "@jupyter-widgets/controls",
      "model_module_version": "2.0.0",
      "model_name": "HBoxModel",
      "state": {
       "_dom_classes": [],
       "_model_module": "@jupyter-widgets/controls",
       "_model_module_version": "2.0.0",
       "_model_name": "HBoxModel",
       "_view_count": null,
       "_view_module": "@jupyter-widgets/controls",
       "_view_module_version": "2.0.0",
       "_view_name": "HBoxView",
       "box_style": "",
       "children": [
        "IPY_MODEL_164d72b05b5e42eaa883c5fc71aa2009",
        "IPY_MODEL_379bb2d550634eb597af31ebe24484c1",
        "IPY_MODEL_b8c50fccde5447579111c16f7b0a531a"
       ],
       "layout": "IPY_MODEL_6aa80a7c8cf646e98c19e3c9c15fb18a",
       "tabbable": null,
       "tooltip": null
      }
     }
    },
    "version_major": 2,
    "version_minor": 0
   }
  }
 },
 "nbformat": 4,
 "nbformat_minor": 5
}