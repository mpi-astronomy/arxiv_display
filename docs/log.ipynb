{
 "cells": [
  {
   "cell_type": "markdown",
   "id": "92bcb855",
   "metadata": {
    "papermill": {
     "duration": 0.006506,
     "end_time": "2022-10-06T04:31:20.027526",
     "exception": false,
     "start_time": "2022-10-06T04:31:20.021020",
     "status": "completed"
    },
    "tags": []
   },
   "source": [
    "# MPIA Arxiv on Deck 2\n",
    "\n",
    "Contains the steps to produce the paper extractions."
   ]
  },
  {
   "cell_type": "code",
   "execution_count": 1,
   "id": "3a0d6e11",
   "metadata": {
    "execution": {
     "iopub.execute_input": "2022-10-06T04:31:20.039799Z",
     "iopub.status.busy": "2022-10-06T04:31:20.038957Z",
     "iopub.status.idle": "2022-10-06T04:31:20.250622Z",
     "shell.execute_reply": "2022-10-06T04:31:20.249812Z"
    },
    "papermill": {
     "duration": 0.220603,
     "end_time": "2022-10-06T04:31:20.253194",
     "exception": false,
     "start_time": "2022-10-06T04:31:20.032591",
     "status": "completed"
    },
    "tags": []
   },
   "outputs": [],
   "source": [
    "# Imports\n",
    "import os\n",
    "from IPython.display import Markdown, display\n",
    "from tqdm.notebook import tqdm\n",
    "import warnings\n",
    "from PIL import Image \n",
    "\n",
    "# requires arxiv_on_deck_2\n",
    "\n",
    "from arxiv_on_deck_2.arxiv2 import (get_new_papers, \n",
    "                                    get_paper_from_identifier,\n",
    "                                    retrieve_document_source, \n",
    "                                    get_markdown_badge)\n",
    "from arxiv_on_deck_2 import (latex, \n",
    "                             mpia,\n",
    "                             highlight_authors_in_list)\n",
    "\n",
    "# Sometimes images are really big\n",
    "Image.MAX_IMAGE_PIXELS = 1000000000 "
   ]
  },
  {
   "cell_type": "code",
   "execution_count": 2,
   "id": "22aa9d44",
   "metadata": {
    "execution": {
     "iopub.execute_input": "2022-10-06T04:31:20.265249Z",
     "iopub.status.busy": "2022-10-06T04:31:20.264550Z",
     "iopub.status.idle": "2022-10-06T04:31:20.270501Z",
     "shell.execute_reply": "2022-10-06T04:31:20.269890Z"
    },
    "papermill": {
     "duration": 0.013951,
     "end_time": "2022-10-06T04:31:20.272537",
     "exception": false,
     "start_time": "2022-10-06T04:31:20.258586",
     "status": "completed"
    },
    "tags": []
   },
   "outputs": [],
   "source": [
    "# Some useful definitions.\n",
    "\n",
    "class AffiliationWarning(UserWarning):\n",
    "    pass\n",
    "\n",
    "class AffiliationError(RuntimeError):\n",
    "    pass\n",
    "\n",
    "def validation(source: str):\n",
    "    \"\"\"Raises error paper during parsing of source file\n",
    "    \n",
    "    Allows checks before parsing TeX code.\n",
    "    \n",
    "    Raises AffiliationWarning\n",
    "    \"\"\"\n",
    "    check = mpia.affiliation_verifications(source, verbose=True)\n",
    "    if check is not True:\n",
    "        raise AffiliationError(\"mpia.affiliation_verifications: \" + check)\n",
    "\n",
    "        \n",
    "warnings.simplefilter('always', AffiliationWarning)"
   ]
  },
  {
   "cell_type": "code",
   "execution_count": 3,
   "id": "14622700",
   "metadata": {
    "execution": {
     "iopub.execute_input": "2022-10-06T04:31:20.285875Z",
     "iopub.status.busy": "2022-10-06T04:31:20.285163Z",
     "iopub.status.idle": "2022-10-06T04:31:20.290041Z",
     "shell.execute_reply": "2022-10-06T04:31:20.289234Z"
    },
    "papermill": {
     "duration": 0.015059,
     "end_time": "2022-10-06T04:31:20.292265",
     "exception": false,
     "start_time": "2022-10-06T04:31:20.277206",
     "status": "completed"
    },
    "tags": []
   },
   "outputs": [],
   "source": [
    "# additional CSS to consider. \n",
    "# TODO: Current into each exported file. \n",
    "#       This should be set once into the webpages directly.\n",
    "#       With only the class/id definitions in the .md files.\n",
    "\n",
    "debug_html = \"\"\"\n",
    "<style>\n",
    "#wrap{ overflow:auto; }\n",
    "#fig1{ background:yellow; width:100%; float:left; padding:5px;  }\n",
    "#fig2{ background:red; width:50%; float:left; clear:left; padding:5px;  }\n",
    "#fig3{ background:green; width:50%; float:left; padding:5px;   }\n",
    ".macros{ background:yellow; visibility:visible;}\n",
    "h1 {margin: 0 0 0 0;}\n",
    "mark {background-color:#fff3b6;}\n",
    "img {object-fit:contain; max-height:250px; display:inline-block; text-align: center;}\n",
    "</style>\n",
    "\"\"\" \n",
    "html = \"\"\"\n",
    "<style>\n",
    "#wrap{ overflow:auto; }\n",
    "#fig1{ width:100%; float:left; padding: 5px;  }\n",
    "#fig2{ width:50%; float:left; clear:left; padding: 5px;  }\n",
    "#fig3{ width:50%; float:left; padding: 5px;  }\n",
    ".macros{ visibility:hidden; height:0px; }\n",
    "h1 {margin: 0em 0 0 0;}\n",
    "mark {background-color:#fff3b6;}\n",
    "img {object-fit:contain; max-height:250px; display:inline-block; text-align: center;}\n",
    "</style>\n",
    "\"\"\""
   ]
  },
  {
   "cell_type": "markdown",
   "id": "14bd6310",
   "metadata": {
    "papermill": {
     "duration": 0.004687,
     "end_time": "2022-10-06T04:31:20.301583",
     "exception": false,
     "start_time": "2022-10-06T04:31:20.296896",
     "status": "completed"
    },
    "tags": []
   },
   "source": [
    "## get list of arxiv paper candidates\n",
    "\n",
    "We use the MPIA mitarbeiter list webpage from mpia.de to get author names\n",
    "We then get all new papers from Arxiv and match authors"
   ]
  },
  {
   "cell_type": "code",
   "execution_count": 4,
   "id": "2645e73a",
   "metadata": {
    "execution": {
     "iopub.execute_input": "2022-10-06T04:31:20.312754Z",
     "iopub.status.busy": "2022-10-06T04:31:20.312066Z",
     "iopub.status.idle": "2022-10-06T04:31:45.231208Z",
     "shell.execute_reply": "2022-10-06T04:31:45.230304Z"
    },
    "papermill": {
     "duration": 24.92704,
     "end_time": "2022-10-06T04:31:45.233334",
     "exception": false,
     "start_time": "2022-10-06T04:31:20.306294",
     "status": "completed"
    },
    "tags": []
   },
   "outputs": [
    {
     "name": "stdout",
     "output_type": "stream",
     "text": [
      "Arxiv has 65 new papers today\n",
      "          22 with possible author matches\n"
     ]
    }
   ],
   "source": [
    "# get list from MPIA website\n",
    "# it automatically filters identified non-scientists :func:`mpia.filter_non_scientists`\n",
    "mpia_authors = mpia.get_mpia_mitarbeiter_list()\n",
    "new_papers = get_new_papers()\n",
    "# add manual references\n",
    "add_paper_refs = []\n",
    "new_papers.extend([get_paper_from_identifier(k) for k in add_paper_refs])\n",
    "\n",
    "# select only papers with matching author names and highlight authors\n",
    "hl_list = [k[0] for k in mpia_authors]\n",
    "\n",
    "candidates = []\n",
    "for paperk in new_papers:\n",
    "    hl_authors = highlight_authors_in_list(paperk['authors'], hl_list)\n",
    "    matches = [(hl, orig) for hl, orig in zip(hl_authors, paperk['authors']) if 'mark' in hl]\n",
    "    paperk['authors'] = hl_authors\n",
    "    if matches:\n",
    "        candidates.append(paperk)\n",
    "print(\"\"\"Arxiv has {0:,d} new papers today\"\"\".format(len(new_papers)))        \n",
    "print(\"\"\"          {0:,d} with possible author matches\"\"\".format(len(candidates)))"
   ]
  },
  {
   "cell_type": "markdown",
   "id": "3543b34a",
   "metadata": {
    "papermill": {
     "duration": 0.005296,
     "end_time": "2022-10-06T04:31:45.243953",
     "exception": false,
     "start_time": "2022-10-06T04:31:45.238657",
     "status": "completed"
    },
    "tags": []
   },
   "source": [
    "# Parse sources and generate relevant outputs\n",
    "\n",
    "From the candidates, we do the following steps:\n",
    "* get their tarball from ArXiv (and extract data)\n",
    "* find the main .tex file: find one with \\documentclass{...} (sometimes it's non trivial)\n",
    "* Check affiliations with :func:`validation`, which uses :func:`mpia.affiliation_verifications`\n",
    "* If passing the affiliations: we parse the .tex source\n",
    "   * inject sub-documents into the main (flatten the main document)\n",
    "   * parse structure, extract information (title, abstract, authors, figures...)\n",
    "   * handles `\\graphicspath` if provided\n",
    "* Generate the .md document."
   ]
  },
  {
   "cell_type": "code",
   "execution_count": 5,
   "id": "9576b79e",
   "metadata": {
    "execution": {
     "iopub.execute_input": "2022-10-06T04:31:45.255646Z",
     "iopub.status.busy": "2022-10-06T04:31:45.254857Z",
     "iopub.status.idle": "2022-10-06T04:34:32.760881Z",
     "shell.execute_reply": "2022-10-06T04:34:32.760063Z"
    },
    "papermill": {
     "duration": 167.51565,
     "end_time": "2022-10-06T04:34:32.764390",
     "exception": false,
     "start_time": "2022-10-06T04:31:45.248740",
     "status": "completed"
    },
    "scrolled": false,
    "tags": []
   },
   "outputs": [
    {
     "data": {
      "application/vnd.jupyter.widget-view+json": {
       "model_id": "81fa0d20fb32424e97d16de54e7086c1",
       "version_major": 2,
       "version_minor": 0
      },
      "text/plain": [
       "  0%|          | 0/21 [00:00<?, ?it/s]"
      ]
     },
     "metadata": {},
     "output_type": "display_data"
    },
    {
     "name": "stdout",
     "output_type": "stream",
     "text": [
      "Retrieving document from  https://arxiv.org/e-print/2210.01809\n"
     ]
    },
    {
     "name": "stdout",
     "output_type": "stream",
     "text": [
      "extracting tarball to tmp_2210.01809..."
     ]
    },
    {
     "name": "stdout",
     "output_type": "stream",
     "text": [
      " done.\n"
     ]
    },
    {
     "name": "stdout",
     "output_type": "stream",
     "text": [
      "Retrieving document from  https://arxiv.org/e-print/2210.01810\n"
     ]
    },
    {
     "name": "stdout",
     "output_type": "stream",
     "text": [
      "extracting tarball to tmp_2210.01810..."
     ]
    },
    {
     "name": "stdout",
     "output_type": "stream",
     "text": [
      " done.\n",
      "Retrieving document from  https://arxiv.org/e-print/2210.01811\n"
     ]
    },
    {
     "name": "stdout",
     "output_type": "stream",
     "text": [
      "extracting tarball to tmp_2210.01811..."
     ]
    },
    {
     "name": "stdout",
     "output_type": "stream",
     "text": [
      " done.\n"
     ]
    },
    {
     "name": "stdout",
     "output_type": "stream",
     "text": [
      "Retrieving document from  https://arxiv.org/e-print/2210.01825\n"
     ]
    },
    {
     "name": "stdout",
     "output_type": "stream",
     "text": [
      "extracting tarball to tmp_2210.01825..."
     ]
    },
    {
     "name": "stdout",
     "output_type": "stream",
     "text": [
      " done.\n",
      "Retrieving document from  https://arxiv.org/e-print/2210.01904\n"
     ]
    },
    {
     "name": "stdout",
     "output_type": "stream",
     "text": [
      "extracting tarball to tmp_2210.01904... done.\n",
      "Retrieving document from  https://arxiv.org/e-print/2210.01928\n"
     ]
    },
    {
     "name": "stderr",
     "output_type": "stream",
     "text": [
      "/opt/hostedtoolcache/Python/3.9.14/x64/lib/python3.9/site-packages/IPython/core/interactiveshell.py:3378: LatexWarning: Multiple tex files.\n",
      "\n",
      "  exec(code_obj, self.user_global_ns, self.user_ns)\n",
      "/opt/hostedtoolcache/Python/3.9.14/x64/lib/python3.9/site-packages/IPython/core/interactiveshell.py:3378: LatexWarning: Found documentclass in tmp_2210.01904/frb_srb.tex\n",
      "\n",
      "  exec(code_obj, self.user_global_ns, self.user_ns)\n"
     ]
    },
    {
     "name": "stdout",
     "output_type": "stream",
     "text": [
      "extracting tarball to tmp_2210.01928..."
     ]
    },
    {
     "name": "stdout",
     "output_type": "stream",
     "text": [
      " done.\n",
      "Retrieving document from  https://arxiv.org/e-print/2210.01975\n"
     ]
    },
    {
     "name": "stderr",
     "output_type": "stream",
     "text": [
      "/opt/hostedtoolcache/Python/3.9.14/x64/lib/python3.9/site-packages/IPython/core/interactiveshell.py:3378: LatexWarning: Multiple tex files.\n",
      "\n",
      "  exec(code_obj, self.user_global_ns, self.user_ns)\n",
      "/opt/hostedtoolcache/Python/3.9.14/x64/lib/python3.9/site-packages/IPython/core/interactiveshell.py:3378: LatexWarning: Found documentclass in tmp_2210.01928/rotation.tex\n",
      "\n",
      "  exec(code_obj, self.user_global_ns, self.user_ns)\n",
      "/opt/hostedtoolcache/Python/3.9.14/x64/lib/python3.9/site-packages/arxiv_on_deck_2/latex.py:292: LatexWarning: Latex injecting: 'preamble' from 'tmp_2210.01928/preamble.tex'\n",
      "  warnings.warn(LatexWarning(f\"Latex injecting: '{ext}' from '{subsource}'\"))\n",
      "/opt/hostedtoolcache/Python/3.9.14/x64/lib/python3.9/site-packages/arxiv_on_deck_2/latex.py:292: LatexWarning: Latex injecting: 'macros.tex' from 'tmp_2210.01928/macros.tex'\n",
      "  warnings.warn(LatexWarning(f\"Latex injecting: '{ext}' from '{subsource}'\"))\n"
     ]
    },
    {
     "name": "stdout",
     "output_type": "stream",
     "text": [
      "extracting tarball to tmp_2210.01975..."
     ]
    },
    {
     "name": "stdout",
     "output_type": "stream",
     "text": [
      " done.\n",
      "Retrieving document from  https://arxiv.org/e-print/2210.02032\n"
     ]
    },
    {
     "name": "stderr",
     "output_type": "stream",
     "text": [
      "/opt/hostedtoolcache/Python/3.9.14/x64/lib/python3.9/site-packages/IPython/core/interactiveshell.py:3378: LatexWarning: Multiple tex files.\n",
      "\n",
      "  exec(code_obj, self.user_global_ns, self.user_ns)\n",
      "/opt/hostedtoolcache/Python/3.9.14/x64/lib/python3.9/site-packages/IPython/core/interactiveshell.py:3378: LatexWarning: Found documentclass in tmp_2210.01975/main.tex\n",
      "\n",
      "  exec(code_obj, self.user_global_ns, self.user_ns)\n"
     ]
    },
    {
     "name": "stdout",
     "output_type": "stream",
     "text": [
      "extracting tarball to tmp_2210.02032... done.\n",
      "Retrieving document from  https://arxiv.org/e-print/2210.02059\n"
     ]
    },
    {
     "name": "stdout",
     "output_type": "stream",
     "text": [
      "extracting tarball to tmp_2210.02059... done.\n",
      "Retrieving document from  https://arxiv.org/e-print/2210.02086\n"
     ]
    },
    {
     "name": "stdout",
     "output_type": "stream",
     "text": [
      "extracting tarball to tmp_2210.02086... done.\n",
      "Retrieving document from  https://arxiv.org/e-print/2210.02096\n"
     ]
    },
    {
     "name": "stderr",
     "output_type": "stream",
     "text": [
      "/opt/hostedtoolcache/Python/3.9.14/x64/lib/python3.9/site-packages/IPython/core/interactiveshell.py:3378: LatexWarning: Multiple tex files.\n",
      "\n",
      "  exec(code_obj, self.user_global_ns, self.user_ns)\n",
      "/opt/hostedtoolcache/Python/3.9.14/x64/lib/python3.9/site-packages/IPython/core/interactiveshell.py:3378: LatexWarning: Found documentclass in tmp_2210.02086/Cepheid_PW_ver2.tex\n",
      "\n",
      "  exec(code_obj, self.user_global_ns, self.user_ns)\n"
     ]
    },
    {
     "name": "stdout",
     "output_type": "stream",
     "text": [
      "extracting tarball to tmp_2210.02096..."
     ]
    },
    {
     "name": "stdout",
     "output_type": "stream",
     "text": [
      " done.\n",
      "Retrieving document from  https://arxiv.org/e-print/2210.02122\n"
     ]
    },
    {
     "name": "stderr",
     "output_type": "stream",
     "text": [
      "/opt/hostedtoolcache/Python/3.9.14/x64/lib/python3.9/site-packages/IPython/core/interactiveshell.py:3378: LatexWarning: Multiple tex files.\n",
      "\n",
      "  exec(code_obj, self.user_global_ns, self.user_ns)\n",
      "/opt/hostedtoolcache/Python/3.9.14/x64/lib/python3.9/site-packages/IPython/core/interactiveshell.py:3378: LatexWarning: Found documentclass in tmp_2210.02096/0.43905corr.tex\n",
      "\n",
      "  exec(code_obj, self.user_global_ns, self.user_ns)\n"
     ]
    },
    {
     "name": "stdout",
     "output_type": "stream",
     "text": [
      "extracting tarball to tmp_2210.02122..."
     ]
    },
    {
     "name": "stdout",
     "output_type": "stream",
     "text": [
      " done.\n",
      "Retrieving document from  https://arxiv.org/e-print/2210.02135\n"
     ]
    },
    {
     "name": "stdout",
     "output_type": "stream",
     "text": [
      "extracting tarball to tmp_2210.02135..."
     ]
    },
    {
     "name": "stdout",
     "output_type": "stream",
     "text": [
      " done.\n",
      "Retrieving document from  https://arxiv.org/e-print/2210.02275\n"
     ]
    },
    {
     "name": "stdout",
     "output_type": "stream",
     "text": [
      "extracting tarball to tmp_2210.02275..."
     ]
    },
    {
     "name": "stdout",
     "output_type": "stream",
     "text": [
      " done.\n",
      "Retrieving document from  https://arxiv.org/e-print/2210.02276\n"
     ]
    },
    {
     "name": "stdout",
     "output_type": "stream",
     "text": [
      "extracting tarball to tmp_2210.02276..."
     ]
    },
    {
     "name": "stdout",
     "output_type": "stream",
     "text": [
      " done.\n",
      "Retrieving document from  https://arxiv.org/e-print/2210.02290\n"
     ]
    },
    {
     "name": "stdout",
     "output_type": "stream",
     "text": [
      "extracting tarball to tmp_2210.02290..."
     ]
    },
    {
     "name": "stdout",
     "output_type": "stream",
     "text": [
      " done.\n",
      "Retrieving document from  https://arxiv.org/e-print/2210.02308\n"
     ]
    },
    {
     "name": "stdout",
     "output_type": "stream",
     "text": [
      "extracting tarball to tmp_2210.02308..."
     ]
    },
    {
     "name": "stdout",
     "output_type": "stream",
     "text": [
      " done.\n",
      "Retrieving document from  https://arxiv.org/e-print/2210.02339\n"
     ]
    },
    {
     "name": "stdout",
     "output_type": "stream",
     "text": [
      "extracting tarball to tmp_2210.02339..."
     ]
    },
    {
     "name": "stdout",
     "output_type": "stream",
     "text": [
      " done.\n",
      "Retrieving document from  https://arxiv.org/e-print/2210.02363\n"
     ]
    },
    {
     "name": "stderr",
     "output_type": "stream",
     "text": [
      "/opt/hostedtoolcache/Python/3.9.14/x64/lib/python3.9/site-packages/IPython/core/interactiveshell.py:3378: LatexWarning: Multiple tex files.\n",
      "\n",
      "  exec(code_obj, self.user_global_ns, self.user_ns)\n",
      "/opt/hostedtoolcache/Python/3.9.14/x64/lib/python3.9/site-packages/IPython/core/interactiveshell.py:3378: LatexWarning: Found documentclass in tmp_2210.02339/dustML.tex\n",
      "\n",
      "  exec(code_obj, self.user_global_ns, self.user_ns)\n"
     ]
    },
    {
     "name": "stdout",
     "output_type": "stream",
     "text": [
      "extracting tarball to tmp_2210.02363... done.\n",
      "Retrieving document from  https://arxiv.org/e-print/2210.02385\n"
     ]
    },
    {
     "name": "stdout",
     "output_type": "stream",
     "text": [
      "extracting tarball to tmp_2210.02385..."
     ]
    },
    {
     "name": "stdout",
     "output_type": "stream",
     "text": [
      " done.\n",
      "Retrieving document from  https://arxiv.org/e-print/2210.02408\n"
     ]
    },
    {
     "name": "stdout",
     "output_type": "stream",
     "text": [
      "extracting tarball to tmp_2210.02408..."
     ]
    },
    {
     "name": "stdout",
     "output_type": "stream",
     "text": [
      " done.\n"
     ]
    },
    {
     "name": "stderr",
     "output_type": "stream",
     "text": [
      "/opt/hostedtoolcache/Python/3.9.14/x64/lib/python3.9/site-packages/IPython/core/interactiveshell.py:3378: LatexWarning: Multiple tex files.\n",
      "\n",
      "  exec(code_obj, self.user_global_ns, self.user_ns)\n",
      "/opt/hostedtoolcache/Python/3.9.14/x64/lib/python3.9/site-packages/IPython/core/interactiveshell.py:3378: LatexWarning: Found documentclass in tmp_2210.02408/main.tex\n",
      "\n",
      "  exec(code_obj, self.user_global_ns, self.user_ns)\n"
     ]
    }
   ],
   "source": [
    "documents = []\n",
    "failed = []\n",
    "for paper in tqdm(candidates[:-1]):\n",
    "    paper_id = paper['identifier'].lower().replace('arxiv:', '')\n",
    "    \n",
    "    folder = f'tmp_{paper_id}'\n",
    "\n",
    "    try:\n",
    "        if not os.path.isdir(folder):\n",
    "            folder = retrieve_document_source(f\"{paper_id}\", f'tmp_{paper_id}')\n",
    "        \n",
    "        try:\n",
    "            doc = latex.LatexDocument(folder, validation=validation)    \n",
    "        except AffiliationError as affilerror:\n",
    "            msg = f\"ArXiv:{paper_id:s} is not an MPIA paper... \" + str(affilerror)\n",
    "            failed.append((paper, \"affiliation error: \" + str(affilerror) ))\n",
    "            continue\n",
    "        \n",
    "        # Hack because sometimes author parsing does not work well\n",
    "        if (len(doc.authors) != len(paper['authors'])):\n",
    "            doc._authors = paper['authors']\n",
    "        if (doc.abstract) in (None, ''):\n",
    "            doc._abstract = paper['abstract']\n",
    "            \n",
    "        doc.comment = (get_markdown_badge(paper_id) + \n",
    "                       \"<mark>Appeared on: \" + paper['date'] + \"</mark> - \" +\n",
    "                       \"_\" + paper['comments'] + \"_\")\n",
    "        doc.highlight_authors_in_list(hl_list)\n",
    "\n",
    "        full_md = doc.generate_markdown_text()\n",
    "        \n",
    "        documents.append((paper_id, full_md))\n",
    "    except Exception as e:\n",
    "        warnings.warn(latex.LatexWarning(f\"{paper_id:s} did not run properly\\n\" +\n",
    "                                         str(e)\n",
    "                                        ))\n",
    "        failed.append((paper, \"latex error \" + str(e)))"
   ]
  },
  {
   "cell_type": "markdown",
   "id": "2505a25c",
   "metadata": {
    "papermill": {
     "duration": 0.008104,
     "end_time": "2022-10-06T04:34:32.780586",
     "exception": false,
     "start_time": "2022-10-06T04:34:32.772482",
     "status": "completed"
    },
    "tags": []
   },
   "source": [
    "### Export the logs\n",
    "\n",
    "Throughout, we also keep track of the logs per paper. see `logs-{today date}.md` "
   ]
  },
  {
   "cell_type": "code",
   "execution_count": 6,
   "id": "d733828a",
   "metadata": {
    "execution": {
     "iopub.execute_input": "2022-10-06T04:34:32.799147Z",
     "iopub.status.busy": "2022-10-06T04:34:32.798056Z",
     "iopub.status.idle": "2022-10-06T04:34:32.841412Z",
     "shell.execute_reply": "2022-10-06T04:34:32.840529Z"
    },
    "papermill": {
     "duration": 0.055247,
     "end_time": "2022-10-06T04:34:32.843388",
     "exception": false,
     "start_time": "2022-10-06T04:34:32.788141",
     "status": "completed"
    },
    "scrolled": false,
    "tags": []
   },
   "outputs": [
    {
     "data": {
      "text/markdown": [
       "## Successful papers"
      ],
      "text/plain": [
       "<IPython.core.display.Markdown object>"
      ]
     },
     "metadata": {},
     "output_type": "display_data"
    },
    {
     "data": {
      "text/markdown": [
       "\n",
       "|||\n",
       "|---:|:---|\n",
       "| [![arXiv](https://img.shields.io/badge/arXiv-arXiv:2210.01809-b31b1b.svg)](https://arxiv.org/abs/arXiv:2210.01809) | **A dense $\\mathbf{0.1 M_{\\rm \\odot}}$ star in a 51-minute orbital period  eclipsing binary**  |\n",
       "|| Kevin B. Burdge, et al. -- incl., <mark>Warren R. Brown</mark>, <mark>S. P. Littlefair</mark>, <mark>Frank J. Masci</mark>, <mark>Roger M. Smith</mark> |\n",
       "|*Appeared on*| *2022-10-06*|\n",
       "|*Comments*| *48 Pages, 12 figures, 2 tables, Published online by Nature on Oct 5, 2022*|\n",
       "|**Abstract**| In over a thousand known cataclysmic variables (CVs), where a white dwarf is accreting from a hydrogen-rich star, only a dozen have orbital periods below 75 minutes. One way to achieve these short periods requires the donor star to have undergone substantial nuclear evolution prior to interacting with the white dwarf, and it is expected that these objects will transition to helium accretion. These transitional CVs have been proposed as progenitors of helium CVs. However, no known transitional CV is expected to reach an orbital period short enough to account for most of the helium CV population, leaving the role of this evolutionary pathway unclear. Here we report observations of ZTF J1813+4251, a 51-minute orbital period, fully eclipsing binary system consisting of a star with a temperature comparable to that of the Sun but a density 100 times greater due to its helium-rich composition, accreting onto a white dwarf. Phase-resolved spectra, multi-band light curves and the broadband spectral energy distribution allow us to obtain precise and robust constraints on the masses, radii and temperatures of both components. Evolutionary modeling shows that ZTF J1813+4251 is destined to become a helium CV binary, reaching an orbital period under 20 minutes, rendering ZTF J1813+4251 a previously missing link between helium CV binaries and hydrogen-rich CVs. |"
      ],
      "text/plain": [
       "[arXiv:2210.01809] A dense $\\mathbf{0.1 M_{\\rm \\odot}}$ star in a 51-minute orbital period  eclipsing binary\n",
       "\tKevin B. Burdge, et al. -- incl., <mark>Warren R. Brown</mark>, <mark>S. P. Littlefair</mark>, <mark>Frank J. Masci</mark>, <mark>Roger M. Smith</mark>"
      ]
     },
     "metadata": {},
     "output_type": "display_data"
    },
    {
     "data": {
      "text/markdown": [
       "\n",
       "|||\n",
       "|---:|:---|\n",
       "| [![arXiv](https://img.shields.io/badge/arXiv-arXiv:2210.01811-b31b1b.svg)](https://arxiv.org/abs/arXiv:2210.01811) | **Discovery of 24 radio-bright quasars at $4.9 \\leq z \\leq6.6$ using  low-frequency radio observations**  |\n",
       "|| A. J. Gloudemans, et al. -- incl., <mark>J. F. Hennawi</mark>, <mark>D. J. B. Smith</mark> |\n",
       "|*Appeared on*| *2022-10-06*|\n",
       "|*Comments*| *19 pages, 11 figures, accepted for publication in A&A*|\n",
       "|**Abstract**| High redshift quasars ($z>5$) that also shine brightly at radio wavelengths are unique signposts of supermassive black hole activity in the early universe. However, bright radio sources at $z\\ge5$ are extremely rare and therefore we have started a campaign to search for new high-$z$ quasars by combining an optical dropout selection driven by the $g$, $r$, and $z$ bands from the Dark Energy Spectroscopic Instrument (DESI) Legacy Imaging Surveys with low-frequency radio observations from the LOFAR Two-metre Sky Survey (LoTSS). Currently, LoTSS covers a large fraction of the northern sky (5720 deg$^2$) to such a depth (median noise level of 83 $\\mu$Jy beam$^{-1}$) that about 30% of the general quasar population is detected $-$ which is a factor of 5-10 more than previous large sky radio surveys such as NVSS and FIRST, respectively. In this paper, we present the discovery of 20 new quasars (and the independent confirmation of 4) between $4.9\\leq z\\leq 6.6$. Out of the 24 quasars, 21 satisfy the traditional radio-loudness criterion of $R=f_{5\\text{GHz}}/f_{4400A} > 10$, with the full sample spanning $R\\sim$6-1000, thereby more than doubling the sample of known radio-loud quasars at $z \\ge 5$. Our radio detection requirement strongly decreases the contamination of stellar sources and allows one to select these quasars in a broad redshift range. Despite selecting our quasar candidates using fewer and less conservative colour restrictions, both the optical and near-infrared colours, Ly$\\alpha$ emission line properties, and dust reddening, $E(B-V)$, measurements of our quasar sample do not deviate from the known radio-quiet quasar population, suggesting similar optical quasar properties of the radio-loud and radio-quiet quasar population at high-$z$. Our campaign demonstrates the potential for discovering new high-$z$ quasar populations through next generation radio continuum surveys. |"
      ],
      "text/plain": [
       "[arXiv:2210.01811] Discovery of 24 radio-bright quasars at $4.9 \\leq z \\leq6.6$ using  low-frequency radio observations\n",
       "\tA. J. Gloudemans, et al. -- incl., <mark>J. F. Hennawi</mark>, <mark>D. J. B. Smith</mark>"
      ]
     },
     "metadata": {},
     "output_type": "display_data"
    },
    {
     "data": {
      "text/markdown": [
       "## Failed papers"
      ],
      "text/plain": [
       "<IPython.core.display.Markdown object>"
      ]
     },
     "metadata": {},
     "output_type": "display_data"
    },
    {
     "data": {
      "text/markdown": [
       "\n",
       "|||\n",
       "|---:|:---|\n",
       "| [![arXiv](https://img.shields.io/badge/arXiv-arXiv:2210.01810-b31b1b.svg)](https://arxiv.org/abs/arXiv:2210.01810) | **X-ray Reverberation Mapping of Ark 564 using Gaussian Process Regression**  |\n",
       "|| Collin D. Lewin, et al. -- incl., <mark>Rachel Zhang</mark> |\n",
       "|*Appeared on*| *2022-10-06*|\n",
       "|*Comments*| *19 pages, 9 figures. Accepted for publication in The Astrophysics Journal*|\n",
       "|**Abstract**| Ark 564 is an extreme high-Eddington Narrow-line Seyfert 1 galaxy, known for being one of the brightest, most rapidly variable soft X-ray AGN, and for having one of the lowest temperature coronae. Here we present a 410-ks NuSTAR observation and two 115-ks XMM-Newton observations of this unique source, which reveal a very strong, relativistically broadened iron line. We compute the Fourier-resolved time lags by first using Gaussian processes to interpolate the NuSTAR gaps, implementing the first employment of multi-task learning for application in AGN timing. By fitting simultaneously the time lags and the flux spectra with the relativistic reverberation model RELTRANS, we constrain the mass at $2.3^{+2.6}_{-1.3} \\times 10^6M_\\odot$, although additional components are required to describe the prominent soft excess in this source. These results motivate future combinations of machine learning, Fourier-resolved timing, and the development of reverberation models. |\n",
       "|<p style=\"color:green\"> **ERROR** </p>| <p style=\"color:green\">affiliation error: mpia.affiliation_verifications: 'Heidelberg' keyword not found.</p> |"
      ],
      "text/plain": [
       "<IPython.core.display.Markdown object>"
      ]
     },
     "metadata": {},
     "output_type": "display_data"
    },
    {
     "data": {
      "text/markdown": [
       "\n",
       "|||\n",
       "|---:|:---|\n",
       "| [![arXiv](https://img.shields.io/badge/arXiv-arXiv:2210.01825-b31b1b.svg)](https://arxiv.org/abs/arXiv:2210.01825) | **The Missing Link Between Black Holes in High-Mass X-ray Binaries and  Gravitational-Wave Sources: Observational Selection Effects**  |\n",
       "|| <mark>Camille Liotine</mark>, et al. |\n",
       "|*Appeared on*| *2022-10-06*|\n",
       "|*Comments*| *16 pages, 6 figures, 1 table*|\n",
       "|**Abstract**| There are few observed high-mass X-ray binaries (HMXBs) that harbor massive black holes, and none are likely to result in a binary black hole (BBH) that merges within a Hubble time; however, we know that massive merging BBHs exist from gravitational-wave observations. We investigate the role that X-ray and gravitational-wave observational selection effects play in determining the properties of their respective detected binary populations. We confirm that, as a result of selection effects, observable HMXBs and observable BBHs form at different redshifts and metallicities, with observable HMXBs forming at much lower redshifts and higher metallicities than observable BBHs. We also find disparities in the mass distributions of these populations, with observable merging BBH progenitors pulling to higher component masses relative to the full observable HMXB population. Fewer than $3\\%$ of observable HMXBs host black holes $> 35M_{\\odot}$ in our simulated populations. Furthermore, we find the probability that a detectable HMXB will merge as a BBH system within a Hubble time is $\\simeq 0.6\\%$. Thus, it is unsurprising that no currently observed HMXB is predicted to form a merging BBH with high probability. |\n",
       "|<p style=\"color:green\"> **ERROR** </p>| <p style=\"color:green\">affiliation error: mpia.affiliation_verifications: 'Heidelberg' keyword not found.</p> |"
      ],
      "text/plain": [
       "<IPython.core.display.Markdown object>"
      ]
     },
     "metadata": {},
     "output_type": "display_data"
    },
    {
     "data": {
      "text/markdown": [
       "\n",
       "|||\n",
       "|---:|:---|\n",
       "| [![arXiv](https://img.shields.io/badge/arXiv-arXiv:2210.01904-b31b1b.svg)](https://arxiv.org/abs/arXiv:2210.01904) | **FRB$-$SRB$-$XRB: Geometric and Relativistic Beaming Constraints of Fast  Radio Bursts from the Galactic Magnetar SGR J1935+2154**  |\n",
       "|| Connery J. Chen, <mark>Bing Zhang</mark> |\n",
       "|*Appeared on*| *2022-10-06*|\n",
       "|*Comments*| *12 pages, 5 figures, submitted to MNRAS*|\n",
       "|**Abstract**| The detection of a fast radio burst (FRB), FRB 200428, coincident with an X-ray burst (XRB) from the Galactic magnetar soft gamma repeater (SGR) SGR J1935+2154 suggests that magnetars can produce FRBs. Many XRBs have been detected from the source but none were associated with bursty radio emission. Meanwhile, a number of weaker radio bursts have been detected from the source, which could in principle be slow radio bursts (SRBs): FRBs detected at viewing angles outside the FRB jet cone. In this paper, we use these X-ray and radio observations to constrain the geometric and relativistic beaming factors of FRBs under two hypotheses. First, we assume that all FRBs/SRBs should be associated with XRBs like FRB 200428. For beaming to produce the observed scarcity of FRB/SRB-associated XRBs, the FRB must be geometrically narrow, $\\theta_j \\leq 0.1$ rad. We additionally derive a lower limit of $\\theta_j\\Gamma > 3$. If the XRB associated with FRB 200428 was unique from the majority, the geometric constraint is loosened to its maximum value, $\\pi/2$ rad. Second, we assume a less stringent constraint for FRBs/SRBs by not requiring that they are associated with XRBs. We use the FRB$-$SRB closure relations to identify a total of 4 SRBs and then derive FRB beaming factors, $\\theta_j\\Gamma \\lesssim 3$. |\n",
       "|<p style=\"color:green\"> **ERROR** </p>| <p style=\"color:green\">affiliation error: mpia.affiliation_verifications: 'Heidelberg' keyword not found.</p> |"
      ],
      "text/plain": [
       "<IPython.core.display.Markdown object>"
      ]
     },
     "metadata": {},
     "output_type": "display_data"
    },
    {
     "data": {
      "text/markdown": [
       "\n",
       "|||\n",
       "|---:|:---|\n",
       "| [![arXiv](https://img.shields.io/badge/arXiv-arXiv:2210.01928-b31b1b.svg)](https://arxiv.org/abs/arXiv:2210.01928) | **Mode Mixing and Rotational Splittings: I. Near-Degeneracy Effects  Revisited**  |\n",
       "|| J. M. Joel Ong, <mark>Lisa Bugnet</mark>, Sarbani Basu |\n",
       "|*Appeared on*| *2022-10-06*|\n",
       "|*Comments*| *21 pages, 13 figures. Accepted to ApJ*|\n",
       "|**Abstract**| Rotation is typically assumed to induce strictly symmetric rotational splitting into the rotational multiplets of pure p- and g-modes. However, for evolved stars exhibiting mixed modes, avoided crossings between different multiplet components are known to yield asymmetric rotational splitting, particularly for near-degenerate mixed-mode pairs, where notional pure p-modes are fortuitiously in resonance with pure g-modes. These near-degeneracy effects have been described in subgiants, but their consequences for the characterisation of internal rotation in red giants has not previously been investigated in detail, in part owing to theoretical intractability. We employ new developments in the analytic theory of mixed-mode coupling to study these near-resonance phenomena. In the vicinity of the most p-dominated mixed modes, the near-degenerate intrinsic asymmetry from pure rotational splitting increases dramatically over the course of stellar evolution, and depends strongly on the mode mixing fraction $\\zeta$. We also find that a linear treatment of rotation remains viable for describing the underlying p- and g-modes, even when it does not for the resulting mixed modes undergoing these avoided crossings. We explore observational consequences for potential measurements of asymmetric mixed-mode splitting, which has been proposed as a magnetic-field diagnostic. Finally, we propose improved measurement techniques for rotational characterisation, exploiting the linearity of rotational effects on the underlying p/g modes, while still accounting for these mixed-mode coupling effects. |\n",
       "|<p style=\"color:green\"> **ERROR** </p>| <p style=\"color:green\">affiliation error: mpia.affiliation_verifications: 'Heidelberg' keyword not found.</p> |"
      ],
      "text/plain": [
       "<IPython.core.display.Markdown object>"
      ]
     },
     "metadata": {},
     "output_type": "display_data"
    },
    {
     "data": {
      "text/markdown": [
       "\n",
       "|||\n",
       "|---:|:---|\n",
       "| [![arXiv](https://img.shields.io/badge/arXiv-arXiv:2210.01975-b31b1b.svg)](https://arxiv.org/abs/arXiv:2210.01975) | **Scattering variability detected from the circumsource medium of FRB  20190520B**  |\n",
       "|| S.K. Ocker, et al. -- incl., <mark>D. Li</mark> |\n",
       "|*Appeared on*| *2022-10-06*|\n",
       "|*Comments*| *9 pages, 8 figures, submitted to MNRAS*|\n",
       "|**Abstract**| Fast radio bursts (FRBs) are millisecond-timescale radio transients, the origins of which are predominantly extragalactic and likely involve highly magnetized compact objects. FRBs undergo multipath propagation, or scattering, from electron density fluctuations on sub-parsec scales in ionized gas along the line-of-sight. Scattering observations have located plasma structures within FRB host galaxies, probed Galactic and extragalactic turbulence, and constrained FRB redshifts. Scattering also inhibits FRB detection and biases the observed FRB population. We report the detection of scattering times from the repeating FRB~20190520B that vary by up to a factor of two or more on minutes to days-long timescales. In one notable case, the scattering time varied from $7.9\\pm0.4$ ms to less than 3.1 ms ($95\\%$ confidence) over 2.9 minutes at 1.45 GHz. The scattering times appear to be uncorrelated between bursts or with dispersion and rotation measure variations. Scattering variations are attributable to dynamic, inhomogeneous plasma in the circumsource medium, and analogous variations have been observed from the Crab pulsar. Under such circumstances, the frequency dependence of scattering can deviate from the typical power-law used to measure scattering. Similar variations may therefore be detectable from other FRBs, even those with inconspicuous scattering, providing a unique probe of small-scale processes within FRB environments. |\n",
       "|<p style=\"color:green\"> **ERROR** </p>| <p style=\"color:green\">affiliation error: mpia.affiliation_verifications: 'Heidelberg' keyword not found.</p> |"
      ],
      "text/plain": [
       "<IPython.core.display.Markdown object>"
      ]
     },
     "metadata": {},
     "output_type": "display_data"
    },
    {
     "data": {
      "text/markdown": [
       "\n",
       "|||\n",
       "|---:|:---|\n",
       "| [![arXiv](https://img.shields.io/badge/arXiv-arXiv:2210.02032-b31b1b.svg)](https://arxiv.org/abs/arXiv:2210.02032) | **Torque reversals and wind variations of X-ray pulsar Vela X-1**  |\n",
       "|| <mark>Zhenxuan Liao</mark>, <mark>Jiren Liu</mark>, <mark>Lijun Gou</mark> |\n",
       "|*Appeared on*| *2022-10-06*|\n",
       "|*Comments*| *5 pages, 5 figs, to appear on MNRAS Letters*|\n",
       "|**Abstract**| The erratic spin history of Vela X-1 shows some continuous spin-up/spin-down trend over tens of days. We study the orbital profile and spectral property of Vela X-1 in these spin-up/spin-down intervals, using the spin history monitored by Fermi/GBM and light curve from Swift/BAT and MAXI/GSC. The BAT fluxes in the spin-up intervals are about 1.6 times those of the spin-down intervals for out-of-eclipse orbital phases. The spin-up intervals also show a higher column density than the spin-down intervals, indicating there are more material on the orbital scale for the spin-up intervals. It could be due to the variation of the stellar wind of the optical star (HD 77581) on tens of days. The varying wind could lead to alternating prograde/retrograde accreting flow to the neutron star, which dominates the transfer of the angular momentum to Vela X-1, but not the total observed luminosity. |\n",
       "|<p style=\"color:green\"> **ERROR** </p>| <p style=\"color:green\">affiliation error: mpia.affiliation_verifications: 'Heidelberg' keyword not found.</p> |"
      ],
      "text/plain": [
       "<IPython.core.display.Markdown object>"
      ]
     },
     "metadata": {},
     "output_type": "display_data"
    },
    {
     "data": {
      "text/markdown": [
       "\n",
       "|||\n",
       "|---:|:---|\n",
       "| [![arXiv](https://img.shields.io/badge/arXiv-arXiv:2210.02059-b31b1b.svg)](https://arxiv.org/abs/arXiv:2210.02059) | **Establishing the accuracy of asteroseismic mass and radius estimates of  giant stars III. KIC4054905, an eclipsing binary with two 10 Gyr thick disk  RGB stars**  |\n",
       "|| K. Brogaard, et al. -- incl., <mark>D. Huber</mark> |\n",
       "|*Appeared on*| *2022-10-06*|\n",
       "|*Comments*| *Accepted for publication in Astronomy & Astrophysics, 11 pages, 3 figures*|\n",
       "|**Abstract**| Eclipsing binary stars with an oscillating giant component allow accurate stellar parameters to be derived and asteroseismic methods to be tested and calibrated. To this aim, suitable systems need to be firstly identified and secondly measured precisely and accurately. KIC 4054905 is one such system, which has been identified, but with measurements of a relatively low precision and with some confusion regarding its parameters and evolutionary state. Our aim is to provide a detailed and precise characterisation of the system and to test asteroseismic scaling relations. Dynamical and asteroseismic parameters of KIC4054905 were determined from Kepler photometry and multi-epoch high-resolution spectra from FIES at the Nordic Optical Telescope. KIC 4054905 was found to belong to the thick disk and consist of two lower red giant branch (RGB) components with nearly identical masses of 0.95$M_{\\odot}$ and an age of $9.9\\pm0.6$ Gyr. The most evolved star displays solar-like oscillations, which suggest that the star belongs to the RGB, supported also by the radius, which is significantly smaller than the red clump phase for this mass and metallicity. Masses and radii from corrected asteroseismic scaling relations can be brought into full agreement with the dynamical values if the RGB phase is assumed, but a best scaling method could not be identified. We measured dynamical masses and radii with a precision better than 1.0%. We firmly establish the evolutionary nature of the system to be that of two early RGB stars with an age close to 10 Gyr, unlike previous findings. The metallicity and Galactic velocity suggest that the system belongs to the thick disk of the Milky Way. We investigate the agreement between dynamical and asteroseismic parameters for KIC 4054905. Consistent solutions exist, but the need to analyse more systems continues in order to establish the accuracy of asteroseismic methods. |\n",
       "|<p style=\"color:green\"> **ERROR** </p>| <p style=\"color:green\">affiliation error: mpia.affiliation_verifications: 'Heidelberg' keyword not found.</p> |"
      ],
      "text/plain": [
       "<IPython.core.display.Markdown object>"
      ]
     },
     "metadata": {},
     "output_type": "display_data"
    },
    {
     "data": {
      "text/markdown": [
       "\n",
       "|||\n",
       "|---:|:---|\n",
       "| [![arXiv](https://img.shields.io/badge/arXiv-arXiv:2210.02086-b31b1b.svg)](https://arxiv.org/abs/arXiv:2210.02086) | **Calibrating the Cepheid Period--Wesenheit Relation in the Gaia Bands  using Galactic Open Cluster Cepheids**  |\n",
       "|| <mark>Zehao Lin</mark>, et al. -- incl., <mark>Dejian Liu</mark>, <mark>Yingjie Li</mark> |\n",
       "|*Appeared on*| *2022-10-06*|\n",
       "|*Comments*| *15 pages, 5 figures, accepted for publication in ApJ*|\n",
       "|**Abstract**| Establishing the period--Wesenheit relation requires independent and accurate distance measurements of classical Cepheids (DCEPs). The precise distance provided by an associated open cluster independently calibrates the period--Wesenheit relation of DCEPs. 51 DCEPs associated with open clusters are compiled using the constraints of five-dimensional astrometric information. By directly using Gaia DR3 parallax, the period--Wesenheit relation in the Gaia $G$ band is calibrated as $W_G = (-3.06 \\pm 0.11) \\log P + (-2.96 \\pm 0.10)$. Compared with the results derived by directly adopting the DCEP parallaxes or using distance moduli, the Wesenheit magnitudes based on the cluster-averaged parallaxes exhibit a tighter relation with the period. Besides, there is a systematic offset between the observed Wesenheit absolute magnitudes of distant OC-DCEPs and their fitted magnitudes. After considering the parallax zero-point correction, the systematic offset can be reduced, yielding a probably better PW relation of $W_G = (-2.94 \\pm 0.12) \\log P + (-2.93 \\pm 0.11)$. |\n",
       "|<p style=\"color:green\"> **ERROR** </p>| <p style=\"color:green\">affiliation error: mpia.affiliation_verifications: 'Heidelberg' keyword not found.</p> |"
      ],
      "text/plain": [
       "<IPython.core.display.Markdown object>"
      ]
     },
     "metadata": {},
     "output_type": "display_data"
    },
    {
     "data": {
      "text/markdown": [
       "\n",
       "|||\n",
       "|---:|:---|\n",
       "| [![arXiv](https://img.shields.io/badge/arXiv-arXiv:2210.02096-b31b1b.svg)](https://arxiv.org/abs/arXiv:2210.02096) | **Asteroid spin-states of a 4 Gyr collisional family**  |\n",
       "|| D. Athanasopoulos, et al. -- incl., <mark>F. Livet</mark> |\n",
       "|*Appeared on*| *2022-10-06*|\n",
       "|*Comments*| *20 pages, 7 figures. A&A (2022)*|\n",
       "|**Abstract**| Families of asteroids generated by the collisional fragmentation of a common parent body have been identified using clustering methods of asteroids in their proper orbital element space. An alternative method has been developed in order to identify collisional families from the correlation between the asteroid fragment sizes and their proper semi-major axis distance from the family centre (V-shape). This method has been shown to be effective in the cases of the very diffuse families that formed billions of years ago. We obtained photometric observations of asteroids in order to construct their rotational light curves; we combine them with the literature light curves and sparse-in-time photometry; we input these data in the light curve inversion methods to determine the shape and the spin pole of the asteroids in order to assess whether an object is prograde or retrograde. The ultimate goal is to assess whether we find an excess of retrograde asteroids on the inward side of the V-shape of a 4 Gyr asteroid family identified via the V-shape method. This excess of retrograde rotators is predicted by the theory of asteroid family evolution. We obtained the spin poles for 55 asteroids claimed to belong to a 4 Gyr collisional family of the inner main belt that consists of low-albedo asteroids. After re-evaluating the albedo and spectroscopic information, we found that nine of these asteroids are interlopers in the 4 Gyr family. Of the 46 remaining asteroids, 31 are found to be retrograde and 15 prograde. We also found that these retrograde rotators have a very low probability (1.29%) of being due to random sampling from an underlying uniform distribution of spin poles. Our results constitute corroborating evidence that the asteroids identified as members of a 4 Gyr collisional family have a common origin, thus strengthening their family membership. |\n",
       "|<p style=\"color:green\"> **ERROR** </p>| <p style=\"color:green\">affiliation error: mpia.affiliation_verifications: 'Heidelberg' keyword not found.</p> |"
      ],
      "text/plain": [
       "<IPython.core.display.Markdown object>"
      ]
     },
     "metadata": {},
     "output_type": "display_data"
    },
    {
     "data": {
      "text/markdown": [
       "\n",
       "|||\n",
       "|---:|:---|\n",
       "| [![arXiv](https://img.shields.io/badge/arXiv-arXiv:2210.02122-b31b1b.svg)](https://arxiv.org/abs/arXiv:2210.02122) | **SIR-HUXt -- a particle filter data assimilation scheme for assimilating  CME time-elongation profiles**  |\n",
       "|| Luke Barnard, et al. -- incl., <mark>Matthew Lang</mark> |\n",
       "|*Appeared on*| *2022-10-06*|\n",
       "|*Comments*| *29 pages, 10 figures, 1 table*|\n",
       "|**Abstract**| We present the development of SIR-HUXt, the integration of a sequential importance resampling (SIR) data assimilation scheme with the HUXt solar wind model. SIR-HUXt is designed to assimilate the time-elongation profiles of CME fronts in the low heliosphere, such as those typically extracted from heliospheric imager data returned by the STEREO, Parker Solar Probe, and Solar Orbiter missions. We use Observing System Simulation Experiments to explore the performance of SIR-HUXt for a simple synthetic CME scenario of a fully Earth directed CME flowing through a uniform ambient solar wind, where the CME is initialised with the average observed CME speed and width. These experiments are performed for a range of observer locations, from 20 deg to 90 deg behind Earth, spanning the L5 point where ESA's future Vigil space weather monitor will return heliospheric imager data for operational space weather forecasting. We show that SIR-HUXt performs well at constraining the CME speed, and has some success at constraining the CME longitude. The CME width is largely unconstrained by the SIR-HUXt assimilations, and more experiments are required to determine if this is due to this specific CME scenario, or is a general feature of assimilating time-elongation profiles. Rank-histograms suggest that the SIR-HUXt ensembles are well calibrated, with no clear indications of bias or under/over dispersion. Improved constraints on the initial CME speed lead directly to improvements in the CME transit time to Earth and arrival speed. For an observer in the L5 region, SIR-HUXt returned a 69% reduction in the CME transit time uncertainty, and a 63% reduction in the arrival speed uncertainty. This suggests SIR-HUXt has potential to improve the real-world representivity of HUXt simulations, and therefore has potential to reduce the uncertainty of CME arrival time hindcasts and forecasts. |\n",
       "|<p style=\"color:green\"> **ERROR** </p>| <p style=\"color:green\">affiliation error: mpia.affiliation_verifications: 'Heidelberg' keyword not found.</p> |"
      ],
      "text/plain": [
       "<IPython.core.display.Markdown object>"
      ]
     },
     "metadata": {},
     "output_type": "display_data"
    },
    {
     "data": {
      "text/markdown": [
       "\n",
       "|||\n",
       "|---:|:---|\n",
       "| [![arXiv](https://img.shields.io/badge/arXiv-arXiv:2210.02135-b31b1b.svg)](https://arxiv.org/abs/arXiv:2210.02135) | **Application of Novel Interplanetary Scintillation Visualisations using  LOFAR: A Case Study of Merged CMEs from September 2017**  |\n",
       "|| R.A. Fallows, et al. -- incl., <mark>P. Zhang</mark> |\n",
       "|*Appeared on*| *2022-10-06*|\n",
       "|*Comments*| *Accepted for publication in Advances in Space Research, 17 pages, 18 figures*|\n",
       "|**Abstract**| Observations of interplanetary scintillation (IPS - the scintillation of compact radio sources due to density variations in the solar wind) enable the velocity of the solar wind to be determined, and its bulk density to be estimated, throughout the inner heliosphere. A series of observations using the Low Frequency Array (LOFAR - a radio telescope centred on the Netherlands with stations across Europe) were undertaken using this technique to observe the passage of an ultra-fast CME which launched from the Sun following the X-class flare of 10 September 2017. LOFAR observed the strong radio source 3C147 at an elongation of 82 degrees from the Sun over a period of more than 30 hours and observed a strong increase in speed to 900km/s followed two hours later by a strong increase in the level of scintillation, interpreted as a strong increase in density. Both speed and density remained enhanced for a period of more than seven hours, to beyond the period of observation. Further analysis of these data demonstrates a view of magnetic-field rotation due to the passage of the CME, using advanced IPS techniques only available to a unique instrument such as LOFAR. |\n",
       "|<p style=\"color:green\"> **ERROR** </p>| <p style=\"color:green\">affiliation error: mpia.affiliation_verifications: 'Heidelberg' keyword not found.</p> |"
      ],
      "text/plain": [
       "<IPython.core.display.Markdown object>"
      ]
     },
     "metadata": {},
     "output_type": "display_data"
    },
    {
     "data": {
      "text/markdown": [
       "\n",
       "|||\n",
       "|---:|:---|\n",
       "| [![arXiv](https://img.shields.io/badge/arXiv-arXiv:2210.02275-b31b1b.svg)](https://arxiv.org/abs/arXiv:2210.02275) | **CASA on the fringe -- Development of VLBI processing capabilities for  CASA**  |\n",
       "|| Ilse M. van Bemmel, et al. -- incl., <mark>Justin D. Linford</mark>, <mark>Elisabetta Liuzzo</mark>, <mark>Huib Jan van Langevelde</mark> |\n",
       "|*Appeared on*| *2022-10-06*|\n",
       "|*Comments*| *PASP in press, joint submission with the CASA reference paper; 12 pages, 5 figures*|\n",
       "|**Abstract**| New functionality to process Very Long Baseline Interferometry (VLBI) data has been implemented in the CASA package. This includes two new tasks to handle fringe fitting and VLBI-specific amplitude calibration steps. Existing tasks have been adjusted to handle VLBI visibility data and calibration meta-data properly. With these updates, it is now possible to process VLBI continuum and spectral line observations in CASA. This article describes the development and implementation, and presents an outline for the workflow when calibrating European VLBI Network or Very Long Baseline Array data in CASA. Though the CASA VLBI functionality has already been vetted extensively as part of the Event Horizon Telescope data processing, in this paper we compare results for the same dataset processed in CASA and AIPS. We find identical results for the two packages and conclude that CASA in some cases performs better, though it cannot match AIPS for single-core processing time. The new functionality in CASA allows for easy development of pipelines or Jupyter notebooks, and thus contributes to raising VLBI data processing to present day standards for accessibility, reproducibility, and reusability. |\n",
       "|<p style=\"color:green\"> **ERROR** </p>| <p style=\"color:green\">affiliation error: mpia.affiliation_verifications: 'Heidelberg' keyword not found.</p> |"
      ],
      "text/plain": [
       "<IPython.core.display.Markdown object>"
      ]
     },
     "metadata": {},
     "output_type": "display_data"
    },
    {
     "data": {
      "text/markdown": [
       "\n",
       "|||\n",
       "|---:|:---|\n",
       "| [![arXiv](https://img.shields.io/badge/arXiv-arXiv:2210.02290-b31b1b.svg)](https://arxiv.org/abs/arXiv:2210.02290) | **Luminosity distribution of fast radio bursts from CHIME/FRB Catalog 1 by  means of the updated Macquart relation**  |\n",
       "|| Xiang-Han Cui, et al. -- incl., <mark>Cheng-Min Zhang</mark>, <mark>Di Li</mark>, <mark>Jian-Wei Zhang</mark> |\n",
       "|*Appeared on*| *2022-10-06*|\n",
       "|*Comments*| *25 pages, 6 figures, 5 tables, published in Astrophysics and Space Science (ApSS) in July 2022*|\n",
       "|**Abstract**| Fast radio bursts (FRBs) are extremely strong radio flares lasting several micro- to milliseconds and come from unidentified objects at cosmological distances, most of which are only seen once. Based on recently published data in the CHIME/FRB Catalog 1 in the frequency bands 400-800 MHz, we analyze 125 apparently singular FRBs with low dispersion measure (DM) and find that the distribution of their luminosity follows a lognormal form according to statistical tests. In our luminosity measurement, the FRB distance is estimated by using the Macquart relation which was obtained for 8 localized FRBs, and we find it still applicable for 18 sources after adding the latest 10 new localized FRBs. In addition, we test the validity of the luminosity distribution up to the Macquart relation and find that the lognormal form feature decreases as the uncertainty increases. Moreover, we compare the luminosity of these apparent non-repeaters with that of the previously observed 10 repeating FRBs also at low DM, noting that they belong to different lognormal distributions with the mean luminosity of non-repeaters being two times greater than that of repeaters. Therefore, from the two different lognormal distributions, different mechanisms for FRBs can be implied. |\n",
       "|<p style=\"color:green\"> **ERROR** </p>| <p style=\"color:green\">affiliation error: mpia.affiliation_verifications: 'Heidelberg' keyword not found.</p> |"
      ],
      "text/plain": [
       "<IPython.core.display.Markdown object>"
      ]
     },
     "metadata": {},
     "output_type": "display_data"
    },
    {
     "data": {
      "text/markdown": [
       "\n",
       "|||\n",
       "|---:|:---|\n",
       "| [![arXiv](https://img.shields.io/badge/arXiv-arXiv:2210.02308-b31b1b.svg)](https://arxiv.org/abs/arXiv:2210.02308) | **The Assembly of Black Hole Mass and Luminosity Functions of  High-redshift Quasars via Multiple Accretion Episodes**  |\n",
       "|| <mark>Wenxiu Li</mark>, Kohei Inayoshi, Masafusa Onoue, Daisuke Toyouchi |\n",
       "|*Appeared on*| *2022-10-06*|\n",
       "|*Comments*| *23 pages, 11 figures*|\n",
       "|**Abstract**| The early evolution of the quasar luminosity function (QLF) and black hole mass function (BHMF) encodes key information on the physics determining the radiative and accretion processes of supermassive black holes (BHs) in high-$z$ quasars. Although the QLF shape has been constrained by recent observations, it remains challenging to develop a theoretical model that explains its redshift evolution associated with BH growth self-consistently. In this study, based on a semi-analytical model for the BH formation and growth, we construct the QLF and BHMF of the early BH population that experiences multiple accretion bursts, in each of which a constant Eddington ratio is assigned following a Schechter distribution function. Our best-fit model to reproduce the observed QLF and BHMF at $z\\simeq 6$ suggests that several episodes of moderate super-Eddington accretion occur and each of them lasts for $\\tau \\simeq 20-30$ Myr. The average duty cycle in super-Eddington phases is $\\simeq 15\\%$ for massive BHs that reach $\\gtrsim 10^8~M_\\odot$ by $z\\simeq 6$, which is nearly twice that of the entire population. We also find that the observed Eddington-ratio distribution function is skewed to a log-normal shape owing to detection limits of quasar surveys. The predicted redshift evolution of the QLF and BHMF suggests a rapid decay of their number and mass density in a cosmic volume toward $z\\gtrsim 6$. These results will be unveiled by future deep and wide surveys with the James Webb Space Telescope, Roman Space Telescope, and Euclid. |\n",
       "|<p style=\"color:green\"> **ERROR** </p>| <p style=\"color:green\">affiliation error: mpia.affiliation_verifications: 'Heidelberg' keyword not found.</p> |"
      ],
      "text/plain": [
       "<IPython.core.display.Markdown object>"
      ]
     },
     "metadata": {},
     "output_type": "display_data"
    },
    {
     "data": {
      "text/markdown": [
       "\n",
       "|||\n",
       "|---:|:---|\n",
       "| [![arXiv](https://img.shields.io/badge/arXiv-arXiv:2210.02339-b31b1b.svg)](https://arxiv.org/abs/arXiv:2210.02339) | **Particle clustering in turbulence: Prediction of spatial and statistical  properties with deep learning**  |\n",
       "|| Yan-Mong Chan, et al. -- incl., <mark>Yin Li</mark> |\n",
       "|*Appeared on*| *2022-10-06*|\n",
       "|*Comments*| *19 pages, 13 figures, submitted to ApJ*|\n",
       "|**Abstract**| We demonstrate the utility of deep learning for modeling the clustering of particles that are aerodynamically coupled to turbulent fluids. Using a Lagrangian particle module within the ATHENA++ hydrodynamics code, we simulate the dynamics of particles in the Epstein drag regime within a periodic domain of isotropic forced hydrodynamic turbulence. This setup is an idealized model relevant to the collisional growth of micron to mmsized dust particles in early stage planet formation. The simulation data is used to train a U-Net deep learning model to predict gridded three-dimensional representations of the particle density and velocity fields, given as input the corresponding fluid fields. The trained model qualitatively captures the filamentary structure of clustered particles in a highly non-linear regime. We assess model fidelity by calculating metrics of the density structure (the radial distribution function) and of the velocity field (the relative velocity and the relative radial velocity between particles). Although trained only on the spatial fields, the model predicts these statistical quantities with errors that are typically < 10%. Our results suggest that, given appropriately expanded training data, deep learning could be used to accelerate calculations of particle clustering and collision outcomes both in protoplanetary disks, and in related two-fluid turbulence problems that arise in other disciplines. |\n",
       "|<p style=\"color:green\"> **ERROR** </p>| <p style=\"color:green\">affiliation error: mpia.affiliation_verifications: 'Heidelberg' keyword not found.</p> |"
      ],
      "text/plain": [
       "<IPython.core.display.Markdown object>"
      ]
     },
     "metadata": {},
     "output_type": "display_data"
    },
    {
     "data": {
      "text/markdown": [
       "\n",
       "|||\n",
       "|---:|:---|\n",
       "| [![arXiv](https://img.shields.io/badge/arXiv-arXiv:2210.02363-b31b1b.svg)](https://arxiv.org/abs/arXiv:2210.02363) | **Proton Synchrotron Origin of the Very High Energy Emission of GRB  190114C**  |\n",
       "|| <mark>Hebzibha Isravel</mark>, Asaf Pe'er, Damien Begue |\n",
       "|*Appeared on*| *2022-10-06*|\n",
       "|*Comments*| *17 pages, 12 figures*|\n",
       "|**Abstract**| We consider here a proton-synchrotron model to explain the MAGIC observation of GRB 190114C afterglow in the energy band $0.2 - 1$ TeV, while the X-ray spectra are explained by electron-synchrotron emission. Given the uncertainty of the particle acceleration process, we consider several variations of the model, and show that they all match the data very well. We find that the values of the uncertain model parameters are reasonable: explosion energy $\\sim 10^{54.5}$ erg, ambient density $\\sim 10-100 {\\rm cm^{-3}}$, and fraction of electrons/ protons accelerated to a high energy power law of a few per-cents. All these values are directly derived from the observed TeV and X-ray fluxes. They are consistent with both late time data at all bands, from radio to X-rays, and with numerical models of particle acceleration. Our results thus demonstrate the relevance of proton-synchrotron emission to the high energy observations of GRBs during their afterglow phase. |\n",
       "|<p style=\"color:green\"> **ERROR** </p>| <p style=\"color:green\">affiliation error: mpia.affiliation_verifications: 'Heidelberg' keyword not found.</p> |"
      ],
      "text/plain": [
       "<IPython.core.display.Markdown object>"
      ]
     },
     "metadata": {},
     "output_type": "display_data"
    },
    {
     "data": {
      "text/markdown": [
       "\n",
       "|||\n",
       "|---:|:---|\n",
       "| [![arXiv](https://img.shields.io/badge/arXiv-arXiv:2210.02385-b31b1b.svg)](https://arxiv.org/abs/arXiv:2210.02385) | **Impact of inhomogeneous reionization on post-reionization 21 cm  intensity mapping measurement of cosmological parameters**  |\n",
       "|| <mark>Heyang Long</mark>, Catalina Morales-Gutiérrez, <mark>Paulo Montero-Camacho</mark>, Christopher M. Hirata |\n",
       "|*Appeared on*| *2022-10-06*|\n",
       "|*Comments*| *12 pages, 8 figures. Comments welcome*|\n",
       "|**Abstract**| 21 cm intensity mapping (IM) has the potential to be a strong and unique probe of cosmology from redshift of order unity to redshift potentially as high as 30. For post-reionization 21 cm observations, the signal is modulated by the thermal and dynamical reaction of gas in the galaxies to the passage of ionization fronts during the Epoch of Reionization. In this work, we investigate the impact of inhomogeneous reionization on the post-reionization 21 cm power spectrum and the induced shifts of cosmological parameters at redshifts $3.5 \\lesssim z \\lesssim 5.5$. We make use of hydrodynamics simulations that could resolve small-scale baryonic structure evolution to quantify HI abundance fluctuation, while semi-numerical large box 21cmFAST simulations capable of displaying inhomogeneous reionization process are deployed to track the inhomogeneous evolution of reionization bubbles. We find the inhomogeneous reionization effect could impact the HI power spectrum up to tens of percent level and shift cosmological parameters estimation from sub-percent to tens percent in the observation of future post-reionization 21 cm intensity mapping experiments SKA-LOW and PUMA. In particular, the shift is up to 0.033 in the spectral index $n_s$ and 0.025 eV in the sum of the neutrino masses $\\sum m_\\nu$ depending on the reionization model and the observational parameters. We discuss strategies to mitigate and separate these biases. |\n",
       "|<p style=\"color:green\"> **ERROR** </p>| <p style=\"color:green\">affiliation error: mpia.affiliation_verifications: 'Heidelberg' keyword not found.</p> |"
      ],
      "text/plain": [
       "<IPython.core.display.Markdown object>"
      ]
     },
     "metadata": {},
     "output_type": "display_data"
    },
    {
     "data": {
      "text/markdown": [
       "\n",
       "|||\n",
       "|---:|:---|\n",
       "| [![arXiv](https://img.shields.io/badge/arXiv-arXiv:2210.02408-b31b1b.svg)](https://arxiv.org/abs/arXiv:2210.02408) | **Bayesian statistics approach to imaging of aperture synthesis data:  RESOLVE meets ALMA**  |\n",
       "|| Łukasz Tychoniec, et al. -- incl., <mark>Eric Villard</mark> |\n",
       "|*Appeared on*| *2022-10-06*|\n",
       "|*Comments*| *Proceedings of International Workshop on Bayesian Inference and Maximum Entropy Methods in Science and Engineering, IHP, Paris, July 18-22, 2022*|\n",
       "|**Abstract**| The Atacama Large Millimeter/submillimeter Array (ALMA) is currently revolutionizing observational astrophysics. The aperture synthesis technique provides angular resolution otherwise unachievable with the conventional single-aperture telescope. However, recovering the image from the inherently undersampled data is a challenging task. The CLEAN algorithm has proven successful and reliable and is commonly used in imaging the interferometric observations. It is not, however, free of limitations. Point-source assumption, central to the CLEAN is not optimal for the extended structures of molecular gas recovered by ALMA. Additionally, negative fluxes recovered with CLEAN are not physical. This begs to search for alternatives that would be better suited for specific science cases. We present the recent developments in imaging ALMA data using Bayesian inference techniques, namely the RESOLVE algorithm This algorithm, based on information field theory \\cite{Ensslin2013}, has been already successfully applied to image the Very Large Array data. We compare the capability of both CLEAN and RESOLVE to recover known sky signal, convoluted with the simulator of ALMA observation data and we investigate the problem with a set of actual ALMA observations. |\n",
       "|<p style=\"color:green\"> **ERROR** </p>| <p style=\"color:green\">affiliation error: mpia.affiliation_verifications: 'Heidelberg' keyword not found.</p> |"
      ],
      "text/plain": [
       "<IPython.core.display.Markdown object>"
      ]
     },
     "metadata": {},
     "output_type": "display_data"
    },
    {
     "data": {
      "text/markdown": [
       "\n",
       "|||\n",
       "|---:|:---|\n",
       "| [![arXiv](https://img.shields.io/badge/arXiv-arXiv:2210.02276-b31b1b.svg)](https://arxiv.org/abs/arXiv:2210.02276) | **CASA, the Common Astronomy Software Applications for Radio Astronomy**  |\n",
       "|| CASA TEAM, et al. -- incl., <mark>Jennifer Donovan Meyer</mark>, <mark>Pamela Harris</mark>, <mark>Joseph Masters</mark> |\n",
       "|*Appeared on*| *2022-10-06*|\n",
       "|*Comments*| *Accepted for publication in PASP (20 pages, 4 figures). Joint publication with CASA-VLBI paper*|\n",
       "|**Abstract**| CASA, the Common Astronomy Software Applications, is the primary data processing software for the Atacama Large Millimeter/submillimeter Array (ALMA) and the Karl G. Jansky Very Large Array (VLA), and is frequently used also for other radio telescopes. The CASA software can handle data from single-dish, aperture-synthesis, and Very Long Baseline Interferometery (VLBI) telescopes. One of its core functionalities is to support the calibration and imaging pipelines for ALMA, VLA, VLA Sky Survey (VLASS), and the Nobeyama 45m telescope. This paper presents a high-level overview of the basic structure of the CASA software, as well as procedures for calibrating and imaging astronomical radio data in CASA. CASA is being developed by an international consortium of scientists and software engineers based at the National Radio Astronomical Observatory (NRAO), the European Southern Observatory (ESO), the National Astronomical Observatory of Japan (NAOJ), and the Joint Institute for VLBI European Research Infrastructure Consortium (JIV-ERIC), under the guidance of NRAO. |\n",
       "|<p style=\"color:green\"> **ERROR** </p>| <p style=\"color:green\">affiliation error: mpia.affiliation_verifications: 'Planck' keyword not found.</p> |"
      ],
      "text/plain": [
       "<IPython.core.display.Markdown object>"
      ]
     },
     "metadata": {},
     "output_type": "display_data"
    }
   ],
   "source": [
    "import datetime\n",
    "today = str(datetime.date.today())\n",
    "logfile = f\"_build/html/logs/log-{today}.md\"\n",
    "\n",
    "\n",
    "with open(logfile, 'w') as logs:\n",
    "    # Success\n",
    "    logs.write(f'# Arxiv on Deck 2: Logs - {today}\\n\\n')\n",
    "    logs.write(\"\"\"* Arxiv had {0:,d} new papers\\n\"\"\".format(len(new_papers)))\n",
    "    logs.write(\"\"\"    * {0:,d} with possible author matches\\n\\n\"\"\".format(len(candidates)))\n",
    "    logs.write(\"## Sucessful papers\\n\\n\")\n",
    "    display(Markdown(\"## Successful papers\"))\n",
    "    success = [k[0] for k in documents]\n",
    "    for candid in candidates:\n",
    "        if candid['identifier'].split(':')[-1] in success:\n",
    "            display(candid)\n",
    "            logs.write(candid.generate_markdown_text() + '\\n\\n')\n",
    "\n",
    "    ## failed\n",
    "    logs.write(\"## Failed papers\\n\\n\")\n",
    "    display(Markdown(\"## Failed papers\"))\n",
    "    failed = sorted(failed, key=lambda x: x[1])\n",
    "    current_reason = \"\"\n",
    "    for paper, reason in failed:\n",
    "        if 'affiliation' in reason:\n",
    "            color = 'green'\n",
    "        else:\n",
    "            color = 'red'\n",
    "        data = Markdown(\n",
    "                paper.generate_markdown_text() + \n",
    "                f'\\n|<p style=\"color:{color:s}\"> **ERROR** </p>| <p style=\"color:{color:s}\">{reason:s}</p> |'\n",
    "               )\n",
    "        if reason != current_reason:\n",
    "            logs.write(f'### {reason:s} \\n\\n')\n",
    "            current_reason = reason\n",
    "        logs.write(data.data + '\\n\\n')\n",
    "        \n",
    "        # only display here the important errors (all in logs)\n",
    "        # if color in ('red',):\n",
    "        display(data)"
   ]
  },
  {
   "cell_type": "markdown",
   "id": "472d20ee",
   "metadata": {
    "papermill": {
     "duration": 0.010941,
     "end_time": "2022-10-06T04:34:32.865730",
     "exception": false,
     "start_time": "2022-10-06T04:34:32.854789",
     "status": "completed"
    },
    "tags": []
   },
   "source": [
    "## Export documents\n",
    "\n",
    "We now write the .md files and export relevant images"
   ]
  },
  {
   "cell_type": "code",
   "execution_count": 7,
   "id": "d426aed9",
   "metadata": {
    "execution": {
     "iopub.execute_input": "2022-10-06T04:34:32.890670Z",
     "iopub.status.busy": "2022-10-06T04:34:32.889709Z",
     "iopub.status.idle": "2022-10-06T04:34:32.899517Z",
     "shell.execute_reply": "2022-10-06T04:34:32.898802Z"
    },
    "papermill": {
     "duration": 0.02684,
     "end_time": "2022-10-06T04:34:32.903762",
     "exception": false,
     "start_time": "2022-10-06T04:34:32.876922",
     "status": "completed"
    },
    "tags": []
   },
   "outputs": [],
   "source": [
    "def export_markdown_summary(md: str, md_fname:str, directory: str):\n",
    "    \"\"\"Export MD document and associated relevant images\"\"\"\n",
    "    import os\n",
    "    import shutil\n",
    "    import re\n",
    "\n",
    "    if (os.path.exists(directory) and not os.path.isdir(directory)):\n",
    "        raise RuntimeError(f\"a non-directory file exists with name {directory:s}\")\n",
    "\n",
    "    if (not os.path.exists(directory)):\n",
    "        print(f\"creating directory {directory:s}\")\n",
    "        os.mkdir(directory)\n",
    "\n",
    "    fig_fnames = (re.compile(r'\\[Fig.*\\]\\((.*)\\)').findall(md) + \n",
    "                  re.compile(r'\\<img src=\"([^>\\s]*)\"[^>]*/>').findall(md))\n",
    "    for fname in fig_fnames:\n",
    "        if 'http' in fname:\n",
    "            # No need to copy online figures\n",
    "            continue\n",
    "        destdir = os.path.join(directory, os.path.dirname(fname))\n",
    "        destfname = os.path.join(destdir, os.path.basename(fname))\n",
    "        try:\n",
    "            os.makedirs(destdir)\n",
    "        except FileExistsError:\n",
    "            pass\n",
    "        shutil.copy(fname, destfname)\n",
    "    with open(os.path.join(directory, md_fname), 'w') as fout:\n",
    "        fout.write(md)\n",
    "    print(\"exported in \", os.path.join(directory, md_fname))\n",
    "    [print(\"    + \" + os.path.join(directory,fk)) for fk in fig_fnames]"
   ]
  },
  {
   "cell_type": "code",
   "execution_count": 8,
   "id": "014d04a4",
   "metadata": {
    "execution": {
     "iopub.execute_input": "2022-10-06T04:34:32.928292Z",
     "iopub.status.busy": "2022-10-06T04:34:32.927402Z",
     "iopub.status.idle": "2022-10-06T04:34:32.952267Z",
     "shell.execute_reply": "2022-10-06T04:34:32.951357Z"
    },
    "papermill": {
     "duration": 0.03927,
     "end_time": "2022-10-06T04:34:32.954124",
     "exception": false,
     "start_time": "2022-10-06T04:34:32.914854",
     "status": "completed"
    },
    "tags": []
   },
   "outputs": [
    {
     "name": "stdout",
     "output_type": "stream",
     "text": [
      "exported in  _build/html/2210.01809.md\n",
      "    + _build/html/tmp_2210.01809/./Figures/ZTF_LC_Red.png\n",
      "    + _build/html/tmp_2210.01809/./Figures/HiPERCAM_LC_v2.png\n",
      "    + _build/html/tmp_2210.01809/./Figures/Good_RV.png\n",
      "exported in  _build/html/2210.01811.md\n",
      "    + _build/html/tmp_2210.01811/./Fig5_spectral_index.png\n",
      "    + _build/html/tmp_2210.01811/./Fig2_spectra_abs_flux_corr.png\n",
      "    + _build/html/tmp_2210.01811/./Fig10_e_b_v_distribution.png\n"
     ]
    }
   ],
   "source": [
    "for paper_id, md in documents:\n",
    "    export_markdown_summary(md, f\"{paper_id:s}.md\", '_build/html/')"
   ]
  },
  {
   "cell_type": "markdown",
   "id": "f087a0a7",
   "metadata": {
    "papermill": {
     "duration": 0.011095,
     "end_time": "2022-10-06T04:34:32.977144",
     "exception": false,
     "start_time": "2022-10-06T04:34:32.966049",
     "status": "completed"
    },
    "tags": []
   },
   "source": [
    "## Display the papers\n",
    "\n",
    "Not necessary but allows for a quick check."
   ]
  },
  {
   "cell_type": "code",
   "execution_count": 9,
   "id": "fd25f625",
   "metadata": {
    "execution": {
     "iopub.execute_input": "2022-10-06T04:34:33.001703Z",
     "iopub.status.busy": "2022-10-06T04:34:33.000900Z",
     "iopub.status.idle": "2022-10-06T04:34:33.010524Z",
     "shell.execute_reply": "2022-10-06T04:34:33.009413Z"
    },
    "papermill": {
     "duration": 0.024333,
     "end_time": "2022-10-06T04:34:33.012798",
     "exception": false,
     "start_time": "2022-10-06T04:34:32.988465",
     "status": "completed"
    },
    "scrolled": false,
    "tags": []
   },
   "outputs": [
    {
     "data": {
      "text/markdown": [
       "<div class=\"macros\" style=\"visibility:hidden;\">\n",
       "$\\newcommand{\\ensuremath}{}$\n",
       "$\\newcommand{\\xspace}{}$\n",
       "$\\newcommand{\\object}[1]{\\texttt{#1}}$\n",
       "$\\newcommand{\\farcs}{{.}''}$\n",
       "$\\newcommand{\\farcm}{{.}'}$\n",
       "$\\newcommand{\\arcsec}{''}$\n",
       "$\\newcommand{\\arcmin}{'}$\n",
       "$\\newcommand{\\ion}[2]{#1#2}$\n",
       "$\\newcommand{\\textsc}[1]{\\textrm{#1}}$\n",
       "$\\newcommand{\\hl}[1]{\\textrm{#1}}$\n",
       "$\\newcommand{\\bibinfo}[2]{#2}$\n",
       "$\\newcommand{\\eprint}[2][]{\\url{#2}}$\n",
       "$\\newcommand{\\bibinfo}[2]{#2}$\n",
       "$\\newcommand{\\eprint}[2][]{\\url{#2}}$\n",
       "$\\newcommand{\\mn}{{Mon. Not. R. Astron. Soc.}}$\n",
       "$\\newcommand{\\mnras}{\\mn}$\n",
       "$\\newcommand{\\aj}{{\"Astron. J.\"}}$\n",
       "$\\newcommand{\\apj}{{Astrophys. J.}}$\n",
       "$\\newcommand{\\apjl}{{Astrophys. J. Lett.}}$\n",
       "$\\newcommand{\\apjs}{{Astrophys. J. Supp.}}$\n",
       "$\\newcommand{\\apss}{{Astrophys. and Space Sc.}}$\n",
       "$\\newcommand{\\aaps}{{Astron. Astrophys. Supp.}}$\n",
       "$\\newcommand{\\aap}{{Astron. Astrophys.}}$\n",
       "$\\newcommand{\\nat}{{Nature}}$\n",
       "$\\newcommand{\\pasj}{{PASJ}}$\n",
       "$\\newcommand{\\prd}{{Phys. Rev. D}}$\n",
       "$\\newcommand{\\prl}{{Phys. Rev. Lett.}}$\n",
       "$\\newcommand{\\pasp}{{Pub. Ast. Soc. Pac.}}$\n",
       "$\\newcommand{\\procspie}{Proc. SPIE}$\n",
       "$\\newcommand{\\ssr}{Space Science Reviews}$\n",
       "$\\newcommand{\\araa}{Annual Review of Astronomy and Astrophysics}$\n",
       "$\\newcommand{\\thetable}{\\arabic{table}}$\n",
       "$\\newcommand{\\figurename}{Extended Data Figure}$\n",
       "$\\newcommand{\\figurename}{Extended Data Figure}$\n",
       "$\\newcommand{\\figurename}{Extended Data Figure}$\n",
       "$\\newcommand{\\figurename}{Extended Data Figure}$\n",
       "$\\newcommand{\\figurename}{Extended Data Figure}$\n",
       "$\\newcommand{\\figurename}{Extended Data Figure}$\n",
       "$\\newcommand{\\figurename}{Extended Data Figure}$\n",
       "$\\newcommand{\\figurename}{Extended Data Figure}$\n",
       "$\\newcommand{\\}{url}$\n",
       "$\\newcommand{\\urlprefix}{URL }$\n",
       "$\\newcommand{\\}{url}$\n",
       "$\\newcommand{\\urlprefix}{URL }$</div>\n",
       "\n",
       "<div class=\"macros\" style=\"visibility:hidden;\">\n",
       "$\\newcommand{$\\ensuremath$}{}$\n",
       "$\\newcommand{$\\xspace$}{}$\n",
       "$\\newcommand{$\\object$}[1]{\\texttt{#1}}$\n",
       "$\\newcommand{$\\farcs$}{{.}''}$\n",
       "$\\newcommand{$\\farcm$}{{.}'}$\n",
       "$\\newcommand{$\\arcsec$}{''}$\n",
       "$\\newcommand{$\\arcmin$}{'}$\n",
       "$\\newcommand{$\\ion$}[2]{#1#2}$\n",
       "$\\newcommand{$\\textsc$}[1]{\\textrm{#1}}$\n",
       "$\\newcommand{$\\hl$}[1]{\\textrm{#1}}$\n",
       "$\\newcommand{$\\bibinfo$}[2]{#2}$\n",
       "$\\newcommand{$\\eprint$}[2][]{\\url{#2}}$\n",
       "$\\newcommand{$\\bibinfo$}[2]{#2}$\n",
       "$\\newcommand{$\\eprint$}[2][]{\\url{#2}}$\n",
       "$\\newcommand{$\\mn$}{{Mon. Not. R. Astron. Soc.}}$\n",
       "$\\newcommand{$\\mn$ras}{$\\mn$}$\n",
       "$\\newcommand{$\\aj$}{{\"Astron. J.\"}}$\n",
       "$\\newcommand{$\\apj$}{{Astrophys. J.}}$\n",
       "$\\newcommand{$\\apj$l}{{Astrophys. J. Lett.}}$\n",
       "$\\newcommand{$\\apj$s}{{Astrophys. J. Supp.}}$\n",
       "$\\newcommand{$\\apss$}{{Astrophys. and Space Sc.}}$\n",
       "$\\newcommand{$\\aaps$}{{Astron. Astrophys. Supp.}}$\n",
       "$\\newcommand{$\\aap$}{{Astron. Astrophys.}}$\n",
       "$\\newcommand{$\\nat$}{{Nature}}$\n",
       "$\\newcommand{$\\pasj$}{{PASJ}}$\n",
       "$\\newcommand{$\\prd$}{{Phys. Rev. D}}$\n",
       "$\\newcommand{$\\prl$}{{Phys. Rev. Lett.}}$\n",
       "$\\newcommand{$\\pasp$}{{Pub. Ast. Soc. Pac.}}$\n",
       "$\\newcommand{$\\procspie$}{Proc. SPIE}$\n",
       "$\\newcommand{$\\ssr$}{Space Science Reviews}$\n",
       "$\\newcommand{$\\araa$}{Annual Review of Astronomy and Astrophysics}$\n",
       "$\\newcommand{$\\thetable$}{\\arabic{table}}$\n",
       "$\\newcommand{$\\figurename$}{Extended Data Figure}$\n",
       "$\\newcommand{$\\figurename$}{Extended Data Figure}$\n",
       "$\\newcommand{$\\figurename$}{Extended Data Figure}$\n",
       "$\\newcommand{$\\figurename$}{Extended Data Figure}$\n",
       "$\\newcommand{$\\figurename$}{Extended Data Figure}$\n",
       "$\\newcommand{$\\figurename$}{Extended Data Figure}$\n",
       "$\\newcommand{$\\figurename$}{Extended Data Figure}$\n",
       "$\\newcommand{$\\figurename$}{Extended Data Figure}$\n",
       "$\\newcommand{\\}{url}$\n",
       "$\\newcommand{$\\urlprefix$}{URL }$\n",
       "$\\newcommand{\\}{url}$\n",
       "$\\newcommand{$\\urlprefix$}{URL }$</div>\n",
       "\n",
       "\n",
       "\n",
       "<div id=\"title\">\n",
       "\n",
       "#  star in a 51-minute orbital period eclipsing binary\n",
       "\n",
       "</div>\n",
       "<div id=\"comments\">\n",
       "\n",
       "[![arXiv](https://img.shields.io/badge/arXiv-2210.01809-b31b1b.svg)](https://arxiv.org/abs/2210.01809)<mark>Appeared on: 2022-10-06</mark> - _48 Pages, 12 figures, 2 tables, Published online by Nature on Oct 5, 2022_\n",
       "\n",
       "</div>\n",
       "<div id=\"authors\">\n",
       "\n",
       "Kevin B. Burdge, et al. -- incl., <mark><mark>Warren R. Brown</mark></mark>, <mark><mark>S. P. Littlefair</mark></mark>, <mark><mark>Frank J. Masci</mark></mark>, <mark><mark>Roger M. Smith</mark></mark>\n",
       "\n",
       "</div>\n",
       "<div id=\"abstract\">\n",
       "\n",
       "**Abstract:** In over a thousand known cataclysmic variables (CVs), where a white dwarf is accreting from a hydrogen-rich star, only a dozen have orbital periods below 75 minutes\\cite{Green2020,Kato2009,Littlefield2013,Ramsay2014,Augusteijn1996,Kato2014,Thorstensen2002,Breedt2012,Kato2015}. One way to achieve these short periods requires the donor star to have undergone substantial nuclear evolution prior to interacting with the white dwarf\\cite{Sienkiewicz1984,Rappaport1984,Nelson1986,Kalomeni2016,Podsiadlowski2003}, and it is expected that these objects will transition to helium accretion. These transitional CVs have been proposed as progenitors of helium CVs\\cite{Kalomeni2016,Podsiadlowski2003,Nelemans2010,Goliasch2015,Ramsay2018,El-Badry2021}. However, no known transitional CV is expected to reach an orbital period short enough to account for most of the helium CV population, leaving the role of this evolutionary pathway unclear. Here we report observations of ZTF J1813+4251, a 51-minute orbital period, fully eclipsing binary system consisting of a star with a temperature comparable to that of the Sun but a density 100 times greater due to its helium-rich composition, accreting onto a white dwarf. Phase-resolved spectra, multi-band light curves and the broadband spectral energy distribution allow us to obtain precise and robust constraints on the masses, radii and temperatures of both components. Evolutionary modeling shows that ZTF J1813+4251 is destined to become a helium CV binary, reaching an orbital period under 20 minutes, rendering ZTF J1813+4251 a previously missing link between helium CV binaries and hydrogen-rich CVs.\n",
       "\n",
       "</div>\n",
       "\n",
       "<div id=\"div_fig1\">\n",
       "\n",
       "<img src=\"tmp_2210.01809/./Figures/ZTF_LC_Red.png\" alt=\"Fig3\" width=\"100%\"/>\n",
       "\n",
       "**Figure 3. -** \\textbf{a)} The ZTF light curve of ZTF J1813+4251. The system has been in quiescence in all ZTF observations, except for those taken on September 21, 2019, in which the system brightened by over a factor of two. \\textbf{b)} A zoom in of the ZTF data taken on September 21, 2019, during the outburst. The final of the four measurements during the outburst is significantly fainter because it occurred during the primary eclipse of the system. \\textbf{c)} The phase-folded ZTF data, illustrating that the faint point which occurred during the outburst coincided with the primary eclipse in the system. \\textbf{d)} The red side of the Keck LRIS spectrum, coadded in the rest frame of the accreting white dwarf. Double-peaked emission lines associated with the blueshifted and redshifted components of an accretion disk are clearly visible. This disk exhibits emission associated with several elements, including hydrogen, helium and calcium. \\textbf{e)} The profile of the hydrogen H$\\alpha$ emission feature, the strongest disk feature in the optical spectrum. (*fig:Red_Spectrum*)\n",
       "\n",
       "</div>\n",
       "<div id=\"div_fig2\">\n",
       "\n",
       "<img src=\"tmp_2210.01809/./Figures/HiPERCAM_LC_v2.png\" alt=\"Fig1\" width=\"100%\"/>\n",
       "\n",
       "**Figure 1. -** \\textbf{a)} The five color HiPERCAM light curve of ZTF J1813+4251, with filters $u_{\\mathrm{s}}$, $g_{\\mathrm{s}}$, $r_{\\mathrm{s}}$, $i_{\\mathrm{s}}$ and $z_{\\mathrm{s}}$ arranged from top to bottom. The object exhibits a strong sinusoidal component at twice the orbital frequency due to the tidal deformation of the donor star. The system undergoes a full eclipse, in which the donor fully occults the accreting white dwarf. The depth of the eclipse varies dramatically with wavelength, with the white dwarf contributing half the luminosity in the $u_{\\mathrm{s}}$ filter, while only about ten percent in the $z_{\\mathrm{s}}$ filter, primarily because the white dwarf preferentially emits its radiation at shorter wavelengths than the cooler donor. \\textbf{b)} Best fit light curve models of the primary and secondary eclipses of ZTF J1813+4251. These models, combined with the spectroscopically derived radial velocity semi-amplitude, allow us to robustly constrain the properties of both components in the system. (*fig:LC*)\n",
       "\n",
       "</div>\n",
       "<div id=\"div_fig3\">\n",
       "\n",
       "<img src=\"tmp_2210.01809/./Figures/Good_RV.png\" alt=\"Fig2\" width=\"100%\"/>\n",
       "\n",
       "**Figure 2. -** \\textbf{a)} A sinusoidal fit to the measured radial velocities of the donor star in ZTF J1813+4251, with a best-fit velocity semi-amplitude of $K_2=461.3\\pm3.4\\rm   km  s^{-1}$ and systemic velocity of $\\gamma=-36.8\\pm2.4\\rm   km  s^{-1}$. \\textbf{b)} The blue side of the Keck LRIS spectrum, coadded in the rest frame of the donor star. The spectrum exhibits a large number of narrow metal lines, including those from calcium, iron and magnesium, characteristic of main sequence stars with spectral types similar to the Sun. \\textbf{c)} The trailed blue Keck LRIS spectra, illustrating the significant wavelength shifts in the spectrum caused by the large Doppler shifts of the donor. The trailed spectra reveal these Doppler shifts occur in the large number of narrow lines associated with the donor spectrum. (*fig:Spectrum*)\n",
       "\n",
       "</div>"
      ],
      "text/plain": [
       "<IPython.core.display.Markdown object>"
      ]
     },
     "metadata": {},
     "output_type": "display_data"
    },
    {
     "data": {
      "text/markdown": [
       "<div class=\"macros\" style=\"visibility:hidden;\">\n",
       "$\\newcommand{\\ensuremath}{}$\n",
       "$\\newcommand{\\xspace}{}$\n",
       "$\\newcommand{\\object}[1]{\\texttt{#1}}$\n",
       "$\\newcommand{\\farcs}{{.}''}$\n",
       "$\\newcommand{\\farcm}{{.}'}$\n",
       "$\\newcommand{\\arcsec}{''}$\n",
       "$\\newcommand{\\arcmin}{'}$\n",
       "$\\newcommand{\\ion}[2]{#1#2}$\n",
       "$\\newcommand{\\textsc}[1]{\\textrm{#1}}$\n",
       "$\\newcommand{\\hl}[1]{\\textrm{#1}}$\n",
       "$\\newcommand{\\RNum}[1]{\\uppercase\\expandafter{\\romannumeral #1\\relax}}$</div>\n",
       "\n",
       "<div class=\"macros\" style=\"visibility:hidden;\">\n",
       "$\\newcommand{$\\ensuremath$}{}$\n",
       "$\\newcommand{$\\xspace$}{}$\n",
       "$\\newcommand{$\\object$}[1]{\\texttt{#1}}$\n",
       "$\\newcommand{$\\farcs$}{{.}''}$\n",
       "$\\newcommand{$\\farcm$}{{.}'}$\n",
       "$\\newcommand{$\\arcsec$}{''}$\n",
       "$\\newcommand{$\\arcmin$}{'}$\n",
       "$\\newcommand{$\\ion$}[2]{#1#2}$\n",
       "$\\newcommand{$\\textsc$}[1]{\\textrm{#1}}$\n",
       "$\\newcommand{$\\hl$}[1]{\\textrm{#1}}$\n",
       "$\\newcommand{$\\RNum$}[1]{\\uppercase\\expandafter{\\romannumeral #1\\relax}}$</div>\n",
       "\n",
       "\n",
       "\n",
       "<div id=\"title\">\n",
       "\n",
       "# Based on observations obtained with the Hobby-Eberly Telescope (HET), which is a joint project of the University of Texas at Austin, Pennsylvania State University, Ludwig-Maximillians-Universitaet Muenchen, and Georg-August Universitaet Goettingen. The HET is named in honor of its principal benefactors, William P. Hobby and Robert E. Eberly.\n",
       "\n",
       "</div>\n",
       "<div id=\"comments\">\n",
       "\n",
       "[![arXiv](https://img.shields.io/badge/arXiv-2210.01811-b31b1b.svg)](https://arxiv.org/abs/2210.01811)<mark>Appeared on: 2022-10-06</mark> - _19 pages, 11 figures, accepted for publication in A&A_\n",
       "\n",
       "</div>\n",
       "<div id=\"authors\">\n",
       "\n",
       "A. J. Gloudemans, et al. -- incl., <mark><mark>J. F. Hennawi</mark></mark>, <mark><mark>D. J. B. Smith</mark></mark>\n",
       "\n",
       "</div>\n",
       "<div id=\"abstract\">\n",
       "\n",
       "**Abstract:** High redshift quasars ($z>5$) that also shine brightly at radio wavelengths are unique signposts of supermassive black hole activity in the early universe. However, bright radio sources at$z \\ge 5$are extremely rare and therefore we have started a campaign to search for new high-$z$quasars by combining an optical dropout selection driven by the$g$,$r$, and$z$bands from the Dark Energy Spectroscopic Instrument (DESI) Legacy Imaging Surveys with low-frequency radio observations from the LOFAR Two-metre Sky Survey (LoTSS). Currently, LoTSS covers a large fraction of the northern sky ($\\sim$5720 deg$^2$) to such a depth (median noise level$\\sim83$$\\mu$Jy beam$^{-1}$) that about 30\\%of the general quasar population is detected$-$which is a factor of 5-10 more than previous large sky radio surveys such as NVSS and FIRST, respectively. In this paper, we present the discovery of 20 new quasars (and the independent confirmation of four) between$4.9 \\leq z \\leq6.6$. Out of the 24 quasars, 21 satisfy the traditional radio-loudness criterion of$R=f_{5\\text{GHz}}/f_{4400 \\text{\\AA}} > 10$, with the full sample spanning$R\\sim$6-1000, thereby more than doubling the sample of known radio-loud quasars at$z \\ge 5$. Our radio detection requirement strongly decreases the contamination of stellar sources and allows one to select these quasars in a broad redshift range. Despite selecting our quasar candidates using fewer and less conservative colour restrictions, both the optical and near-infrared colours, Ly$\\alpha$emission line properties, and dust reddening,$E(B-V)$, measurements of our quasar sample do not deviate from the known radio-quiet quasar population, suggesting similar optical quasar properties of the radio-loud and radio-quiet quasar population at high-$z$. Our campaign demonstrates the potential for discovering new high-$z$quasar populations through next generation radio continuum surveys.\n",
       "\n",
       "</div>\n",
       "\n",
       "<div id=\"div_fig1\">\n",
       "\n",
       "<img src=\"tmp_2210.01811/./Fig5_spectral_index.png\" alt=\"Fig3\" width=\"100%\"/>\n",
       "\n",
       "**Figure 3. -** Radio spectral index between 144 MHz (LoTSS-DR2) and 1.4 GHz (VLA FIRST) for the discovered quasars in the FIRST and VLASS survey area. Upper limits (indicated by downward-pointing triangles) are given for the quasars non-detected in FIRST. The dashed grey line shows the stacked spectral index obtained by \\cite{Gloudemans2021A&A...656A.137G} using a sample of 115 known quasars at $z>5$. ILTJ2201+2338 is outside of the FIRST footprint, but is detected in VLASS at 2-4 GHz, which enables a spectral index measurement. ILTJ1523+2935 is only marginally detected in FIRST (S/N$\\sim$2), but is more securely detected in VLASS (S/N$=3.4$). (*fig:radio_spectral_index*)\n",
       "\n",
       "</div>\n",
       "<div id=\"div_fig2\">\n",
       "\n",
       "<img src=\"tmp_2210.01811/./Fig2_spectra_abs_flux_corr.png\" alt=\"Fig2\" width=\"100%\"/>\n",
       "\n",
       "**Figure 2. -** Absolute flux scale correction factors between the quasar spectra and PS1 $i$-band and Legacy $z$-band photometry. A correction factor of $>1$ means the spectrum continuum is lower than the photometric measurement. These corrections do not affect the redshift and Ly$\\alpha$ EW estimates, but do decrease or increase the measured Ly$\\alpha$ emission line flux. (*fig:abs_flux_scale*)\n",
       "\n",
       "</div>\n",
       "<div id=\"div_fig3\">\n",
       "\n",
       "<img src=\"tmp_2210.01811/./Fig10_e_b_v_distribution.png\" alt=\"Fig5\" width=\"100%\"/>\n",
       "\n",
       "**Figure 5. -** Distribution of $E(B-V)$ for the discovered quasars in this work and the literature sample determined by fitting the composite quasars spectrum of \\cite{Selsing2016A&A...585A..87S} together with the SMC extinction law \\citep{Pei1992ApJ...395..130P}. The radio-loud quasars from the literature sample are stacked on top of quasars from this work. We do not find a significant deviation between the E(B-V) distribution of the RL and RQ quasar sample. For comparison we also plot the $E(B-V)$ Gaussian distribution found by \\cite{Glikman2022ApJ...934..119G} of SDSS QSOs at $0.1 < z \\lesssim 3$ using a similar template fitting method.  (*fig:e_b_v_plot*)\n",
       "\n",
       "</div>"
      ],
      "text/plain": [
       "<IPython.core.display.Markdown object>"
      ]
     },
     "metadata": {},
     "output_type": "display_data"
    }
   ],
   "source": [
    "[display(Markdown(k[1])) for k in documents];"
   ]
  },
  {
   "cell_type": "markdown",
   "id": "873873a4",
   "metadata": {
    "papermill": {
     "duration": 0.012646,
     "end_time": "2022-10-06T04:34:33.037217",
     "exception": false,
     "start_time": "2022-10-06T04:34:33.024571",
     "status": "completed"
    },
    "tags": []
   },
   "source": [
    "# Create HTML index"
   ]
  },
  {
   "cell_type": "code",
   "execution_count": 10,
   "id": "cf665672",
   "metadata": {
    "execution": {
     "iopub.execute_input": "2022-10-06T04:34:33.063805Z",
     "iopub.status.busy": "2022-10-06T04:34:33.063051Z",
     "iopub.status.idle": "2022-10-06T04:34:33.074824Z",
     "shell.execute_reply": "2022-10-06T04:34:33.073942Z"
    },
    "papermill": {
     "duration": 0.027585,
     "end_time": "2022-10-06T04:34:33.076635",
     "exception": false,
     "start_time": "2022-10-06T04:34:33.049050",
     "status": "completed"
    },
    "tags": []
   },
   "outputs": [
    {
     "name": "stdout",
     "output_type": "stream",
     "text": [
      "57  publications in the last 7 days.\n",
      "\t _build/html/2210.01811.md\n",
      "\t _build/html/2210.01809.md\n",
      "\t _build/html/2210.01556.md\n",
      "\t _build/html/2210.00863.md\n",
      "\t _build/html/2210.00560.md\n",
      "\t _build/html/2209.15403.md\n",
      "\t _build/html/2209.15110.md\n",
      "\t _build/html/2209.14410.md\n",
      "\t _build/html/2209.14396.md\n",
      "\t _build/html/2209.13717.md\n",
      "\t _build/html/2209.13336.md\n",
      "\t _build/html/2209.12906.md\n",
      "\t _build/html/2209.11781.md\n",
      "\t _build/html/2209.11602.md\n",
      "\t _build/html/2209.11248.md\n",
      "\t _build/html/2209.11096.md\n",
      "\t _build/html/2209.10618.md\n",
      "\t _build/html/2209.09914.md\n",
      "\t _build/html/2209.09823.md\n",
      "\t _build/html/2209.08242.md\n",
      "\t _build/html/2209.08120.md\n",
      "\t _build/html/2209.08106.md\n",
      "\t _build/html/2209.07962.md\n",
      "\t _build/html/2209.07931.md\n",
      "\t _build/html/2209.06833.md\n",
      "\t _build/html/2209.05814.md\n",
      "\t _build/html/2209.05593.md\n",
      "\t _build/html/2209.04304.md\n",
      "\t _build/html/2209.03367.md\n",
      "\t _build/html/2209.02872.md\n",
      "\t _build/html/2209.02725.md\n",
      "\t _build/html/2209.02722.md\n",
      "\t _build/html/2209.02092.md\n",
      "\t _build/html/2209.01125.md\n",
      "\t _build/html/2209.00828.md\n",
      "\t _build/html/2209.00363.md\n",
      "\t _build/html/2208.14927.md\n",
      "\t _build/html/2208.09335.md\n",
      "\t _build/html/2208.08872.md\n",
      "\t _build/html/2204.06393.md\n",
      "\t _build/html/2204.03335.md\n",
      "\t _build/html/2204.03253.md\n",
      "\t _build/html/2204.02998.md\n",
      "\t _build/html/2204.02109.md\n",
      "\t _build/html/2204.02017.md\n",
      "\t _build/html/2204.01824.md\n",
      "\t _build/html/2204.01758.md\n",
      "\t _build/html/2204.01245.md\n",
      "\t _build/html/2204.00793.md\n",
      "\t _build/html/2204.00342.md\n",
      "\t _build/html/2203.16959.md\n",
      "\t _build/html/2203.16856.md\n",
      "\t _build/html/2203.16735.md\n",
      "\t _build/html/2203.16734.md\n",
      "\t _build/html/2203.16504.md\n",
      "\t _build/html/2203.15822.md\n",
      "\t _build/html/2203.15811.md\n"
     ]
    }
   ],
   "source": [
    "from datetime import datetime, timedelta, timezone\n",
    "from glob import glob\n",
    "\n",
    "files = glob('_build/html/*.md')\n",
    "days = 7\n",
    "now = datetime.today()\n",
    "res = []\n",
    "for fk in files:\n",
    "    stat_result = os.stat(fk).st_ctime\n",
    "    modified = datetime.fromtimestamp(stat_result, tz=timezone.utc).replace(tzinfo=None)\n",
    "    delta = now.today() - modified\n",
    "    if delta <= timedelta(days=days):\n",
    "        res.append((delta.seconds, fk))\n",
    "res = [k[1] for k in reversed(sorted(res, key=lambda x:x[1]))]\n",
    "npub = len(res)\n",
    "print(len(res), f\" publications in the last {days:d} days.\")\n",
    "[ print('\\t', k) for k in res ];"
   ]
  },
  {
   "cell_type": "code",
   "execution_count": 11,
   "id": "52ca0208",
   "metadata": {
    "execution": {
     "iopub.execute_input": "2022-10-06T04:34:33.102634Z",
     "iopub.status.busy": "2022-10-06T04:34:33.102066Z",
     "iopub.status.idle": "2022-10-06T04:34:33.110214Z",
     "shell.execute_reply": "2022-10-06T04:34:33.109410Z"
    },
    "papermill": {
     "duration": 0.023309,
     "end_time": "2022-10-06T04:34:33.112014",
     "exception": false,
     "start_time": "2022-10-06T04:34:33.088705",
     "status": "completed"
    },
    "scrolled": false,
    "tags": []
   },
   "outputs": [],
   "source": [
    "def create_carousel(npub=4):\n",
    "    \"\"\" Generate the HTML code for a carousel with `npub` slides \"\"\"\n",
    "    carousel = [\"\"\"<section class=\"carousel\" aria-label=\"Gallery\">\"\"\",\n",
    "                \"\"\"  <ol class=\"carousel__viewport\">\"\"\",\n",
    "    ]\n",
    "    for k in range(1, npub + 1):\n",
    "        prev_ = k - 1\n",
    "        next_ = k + 1\n",
    "        if prev_ <= 0:\n",
    "            prev_ = npub\n",
    "        if next_ > npub:\n",
    "            next_ = 1\n",
    "        text  = f\"\"\"    <li id=\"carousel__slide{k}\" tabindex=\"0\" class=\"carousel__slide\">\\n\"\"\"\n",
    "        text += f\"\"\"       <div class=\"carousel__snapper\">\\n\"\"\"\n",
    "        text += f\"\"\"         <a href=\"#carousel__slide{prev_}\" class=\"carousel__prev\">Go to previous slide</a>\\n\"\"\"\n",
    "        text += f\"\"\"         <a href=\"#carousel__slide{next_}\" class=\"carousel__next\">Go to next slide</a>\\n\"\"\"\n",
    "        text += f\"\"\"         <div id=\"slide{k}_content\" class=\"md_view\" >Content {k}</div>\\n\"\"\"\n",
    "        text += f\"\"\"       </div>\\n\"\"\"\n",
    "        text += f\"\"\"    </li>\"\"\"\n",
    "        carousel.append(text)\n",
    "\n",
    "    carousel.extend([\n",
    "        \"\"\"  </ol>\"\"\",\n",
    "        \"\"\"  <aside class=\"carousel__navigation\">\"\"\",\n",
    "        \"\"\"    <ol class=\"carousel__navigation-list\">\"\"\"])\n",
    "\n",
    "    for k in range(1, npub + 1):\n",
    "        text  = f\"\"\"      <li class=\"carousel__navigation-item\">\\n\"\"\"\n",
    "        text += f\"\"\"        <a href=\"#carousel__slide{k}\" class=\"carousel__navigation-button\">Go to {k}</a>\\n\"\"\"\n",
    "        text += f\"\"\"      </li>\"\"\"\n",
    "        carousel.append(text)\n",
    "    carousel.extend([\"\"\"    </ol>\"\"\", \"\"\"  </aside>\"\"\", \"\"\"</section>\"\"\"])\n",
    "\n",
    "    return '\\n'.join(carousel)"
   ]
  },
  {
   "cell_type": "code",
   "execution_count": 12,
   "id": "a6eac5b6",
   "metadata": {
    "execution": {
     "iopub.execute_input": "2022-10-06T04:34:33.137933Z",
     "iopub.status.busy": "2022-10-06T04:34:33.137436Z",
     "iopub.status.idle": "2022-10-06T04:34:33.146233Z",
     "shell.execute_reply": "2022-10-06T04:34:33.145455Z"
    },
    "papermill": {
     "duration": 0.024084,
     "end_time": "2022-10-06T04:34:33.148024",
     "exception": false,
     "start_time": "2022-10-06T04:34:33.123940",
     "status": "completed"
    },
    "scrolled": false,
    "tags": []
   },
   "outputs": [],
   "source": [
    "carousel = create_carousel(npub)\n",
    "docs = ', '.join(['\"{0:s}\"'.format(k.split('/')[-1]) for k in res])\n",
    "slides = ', '.join([f'\"slide{k}_content\"' for k in range(1, npub + 1)])\n",
    "\n",
    "script = f\"\"\"\n",
    "const docs = [{docs}]\n",
    "\n",
    "const slides = [{slides}]\n",
    "\"\"\" + \"\"\"\n",
    "async function run() {\n",
    "    for (let i = 0; i < docs.length; i++) {\n",
    "        let file = await fetch(docs[i]);\n",
    "        let text = await file.text()\n",
    "        document.getElementById(slides[i]).innerHTML =\n",
    "            marked.parse(text);\n",
    "    }\n",
    "    hljs.highlightAll();\n",
    "}\n",
    "run()\n",
    "\"\"\"\n",
    "\n",
    "page = f\"\"\"<!doctype html>\n",
    "<html lang=\"en\">\n",
    "\n",
    "<head>\n",
    "  <meta charset=\"utf-8\">\n",
    "  <meta name=\"viewport\" content=\"width=device-width, initial-scale=1\">\n",
    "  <!-- Bootstrap CSS -->\n",
    "  <link href=\"https://cdn.jsdelivr.net/npm/bootstrap@5.0.2/dist/css/bootstrap.min.css\" rel=\"stylesheet\"\n",
    "   integrity=\"sha384-EVSTQN3/azprG1Anm3QDgpJLIm9Nao0Yz1ztcQTwFspd3yD65VohhpuuCOmLASjC\" crossorigin=\"anonymous\">\n",
    "  <!-- highlight.js CSS -->\n",
    "  <link rel=\"stylesheet\" href=\"https://cdnjs.cloudflare.com/ajax/libs/highlight.js/11.1.0/styles/default.min.css\">\n",
    "  <!-- Mathjax 3 -->\n",
    "  <script type=\"text/javascript\" id=\"MathJax-config\" src=\"mathjax_config.js\"> </script>\n",
    "  <script type=\"text/javascript\" id=\"MathJax-script\" async \n",
    "    src=\"https://cdn.jsdelivr.net/npm/mathjax@3/es5/tex-mml-chtml.js\">\n",
    "  </script>\n",
    "  <link rel=\"stylesheet\" href=\"index_carousel.css\">\n",
    "  <link rel=\"icon\" type=\"image/x-icon\" href=\"https://www.mpia.de/assets/touch-icon-32x32-a66937bcebc4e8894ebff1f41a366c7c7220fd97a38869ee0f2db65a9f59b6c1.png\">\n",
    "  <title>MPIA Arxiv on deck!</title>\n",
    "</head>\n",
    "\n",
    "<body>\n",
    "  <div id=\"header\"> <img src=\"header_banner.png\" width=\"100%\"></div>\n",
    "  <div id=\"suptitle\"> 7-day archives </div>\n",
    "  <div id=\"info\">\n",
    "    <img src=\"https://pngimg.com/uploads/github/github_PNG58.png\" height=30rem></img>\n",
    "    <a href=https://github.com/mpi-astronomy/arxiv_display style=\"color:black;\">github/mpi-astronomy/arxiv_display</a> \n",
    "  </div>\n",
    "  {carousel:s}\n",
    "</body>\n",
    "\n",
    "<!-- Render Markdown -->\n",
    "\n",
    "<body>\n",
    "  <!-- highlight.js: https://highlightjs.org/download/ -->\n",
    "  <script src=\"https://cdnjs.cloudflare.com/ajax/libs/highlight.js/11.5.0/highlight.min.js\"></script>\n",
    "  <!-- marked.js -->\n",
    "  <script src=\"https://cdn.jsdelivr.net/npm/marked/marked.min.js\"></script>\n",
    "  <script>{script:s}</script>\n",
    "</body>\n",
    "</html>\n",
    "\"\"\"\n",
    "with open(\"_build/html/index_7days.html\", 'w') as fout:\n",
    "    fout.write(page)"
   ]
  },
  {
   "cell_type": "markdown",
   "id": "1cebacbc",
   "metadata": {
    "papermill": {
     "duration": 0.012003,
     "end_time": "2022-10-06T04:34:33.171926",
     "exception": false,
     "start_time": "2022-10-06T04:34:33.159923",
     "status": "completed"
    },
    "tags": []
   },
   "source": [
    "# Debugging papers"
   ]
  },
  {
   "cell_type": "raw",
   "id": "debe7cc6",
   "metadata": {
    "papermill": {
     "duration": 0.047564,
     "end_time": "2022-10-06T04:34:33.231645",
     "exception": false,
     "start_time": "2022-10-06T04:34:33.184081",
     "status": "completed"
    },
    "tags": []
   },
   "source": [
    "raise NotImplementedError(\"Manual Stop\")"
   ]
  },
  {
   "cell_type": "raw",
   "id": "eb169192",
   "metadata": {
    "papermill": {
     "duration": 0.012687,
     "end_time": "2022-10-06T04:34:33.256950",
     "exception": false,
     "start_time": "2022-10-06T04:34:33.244263",
     "status": "completed"
    },
    "scrolled": true,
    "tags": []
   },
   "source": [
    "from IPython.display import display, Markdown\n",
    "from TexSoup import TexSoup\n",
    "import re\n",
    "\n",
    "def bracket_error(source: str):\n",
    "    \"\"\" Find problematic portions of the document \"\"\"\n",
    "    \n",
    "    print(\"len(source)\", len(source))\n",
    "    \n",
    "    # Checking header\n",
    "    begin_doc = next(re.finditer(r'\\\\begin\\{document\\}', doc.source)).span()[1]\n",
    "    header = source[:begin_doc]\n",
    "    text = header + r\"\\n\\end{document}\"\n",
    "\n",
    "    try:\n",
    "        # print(\"Header check... \", end='')\n",
    "        TexSoup(text)\n",
    "        display(Markdown(f\"**[OK]** - Header\"))\n",
    "    except:\n",
    "        raise RuntimeError(\"Error in the header\")\n",
    "        \n",
    "    # Check the text per section until the end.\n",
    "    # Do not stop and try them all.\n",
    "    \n",
    "    problematic_text = []\n",
    "    \n",
    "    sections = ([(0, begin_doc, 'until first section')] + \n",
    "                [(g.span()[0], g.span()[1], g.group()) for g in re.finditer(r'\\\\section\\{.*\\}', source)] +\n",
    "                [(g.span()[0], g.span()[1], g.group()) for g in re.finditer(r'\\\\begin\\{appendix\\}', source)]\n",
    "               )\n",
    "    sections.append([len(source), len(source), 'end'])\n",
    "    \n",
    "    sections = sorted(sections, key=lambda x: x[0])\n",
    "    \n",
    "    prev_pos, prev_name = (0, 'header')\n",
    "    parsed = []\n",
    "    \n",
    "    for span, span_end, name in sections:\n",
    "\n",
    "        if span - prev_pos <= 0:\n",
    "            continue\n",
    "            \n",
    "\n",
    "        text = source[prev_pos:span]\n",
    "        if prev_pos > begin_doc:\n",
    "            text = r\"\\n\\begin{document}\" + text + r\"\\n\\end{document}\"\n",
    "        else:\n",
    "            text = text + r\"\\n\\end{document}\"\n",
    "        try:\n",
    "            #print(f\"{prev_pos}:{prev_name}-->{span}:{name} check... \", end='')\n",
    "            parsed.append(TexSoup(text, tolerance=1))  # allow not ending env\n",
    "            display(Markdown(f\"**[OK]** - *{prev_pos}*:{prev_name} &rarr; *{span}*:{name}\"))\n",
    "            # print(\"ok\")\n",
    "\n",
    "            prev_pos = span\n",
    "            prev_name = name\n",
    "        except:\n",
    "            # print(f\"error between {prev_pos} and {span}\")\n",
    "            display(Markdown(f\"**[ERR]** *{prev_pos}*:{prev_name} &rarr; *{span}*:{name}\"))\n",
    "            problematic_text.append((prev_pos, source[prev_pos:span]))\n",
    "            prev_pos = span\n",
    "            prev_name = name\n",
    "            # raise\n",
    "    return problematic_text, parsed\n",
    "\n",
    "\n",
    "def check_environment(text, offset=0):\n",
    "    \"\"\" Check environment \"\"\"\n",
    "    env = re.compile(r\"\\\\begin\\{(?P<env>.*)\\}(.*)\\\\end\\{(?P=env)\\}\", re.DOTALL)\n",
    "\n",
    "    for match in env.finditer(text):\n",
    "        beg, end = match.span()\n",
    "        beg += offset\n",
    "        end += offset\n",
    "        envname = match.groups()[0]\n",
    "        try:\n",
    "            latex.TexSoup(match.group())\n",
    "        except Exception as e:\n",
    "            display(e)\n",
    "            print(f\"Error in {envname:s} between {beg} and {end}\")\n",
    "            return match.groups()[1], beg, end"
   ]
  },
  {
   "cell_type": "raw",
   "id": "2315e835",
   "metadata": {
    "papermill": {
     "duration": 0.012042,
     "end_time": "2022-10-06T04:34:33.280844",
     "exception": false,
     "start_time": "2022-10-06T04:34:33.268802",
     "status": "completed"
    },
    "scrolled": false,
    "tags": []
   },
   "source": [
    "import importlib\n",
    "importlib.reload(latex)\n",
    "which = \"2204.03253\"\n",
    "paper_id = f'{which:s}'\n",
    "folder = f'tmp_{paper_id:s}'\n",
    "\n",
    "if not os.path.isdir(folder):\n",
    "    folder = retrieve_document_source(f\"{paper_id}\", f'tmp_{paper_id}')\n",
    "\n",
    "try:\n",
    "    doc = latex.LatexDocument(folder, validation=validation)    \n",
    "except AffiliationError as affilerror:\n",
    "    msg = f\"ArXiv:{paper_id:s} is not an MPIA paper... \" + str(affilerror)\n",
    "    print(msg)\n",
    "\n",
    "\n",
    "# Hack because sometimes author parsing does not work well\n",
    "if (len(doc.authors) != len(paper['authors'])):\n",
    "    doc._authors = paper['authors']\n",
    "if (doc.abstract) in (None, ''):\n",
    "    doc._abstract = paper['abstract']\n",
    "\n",
    "doc.comment = get_markdown_badge(paper_id) + \" _\" + paper['comments'] + \"_\"\n",
    "doc.highlight_authors_in_list(hl_list)\n",
    "\n",
    "full_md = doc.generate_markdown_text()"
   ]
  },
  {
   "cell_type": "raw",
   "id": "dd3781db",
   "metadata": {
    "papermill": {
     "duration": 0.011924,
     "end_time": "2022-10-06T04:34:33.304731",
     "exception": false,
     "start_time": "2022-10-06T04:34:33.292807",
     "status": "completed"
    },
    "scrolled": false,
    "tags": []
   },
   "source": [
    "doc"
   ]
  },
  {
   "cell_type": "raw",
   "id": "c6eed834",
   "metadata": {
    "papermill": {
     "duration": 0.012092,
     "end_time": "2022-10-06T04:34:33.328750",
     "exception": false,
     "start_time": "2022-10-06T04:34:33.316658",
     "status": "completed"
    },
    "tags": []
   },
   "source": [
    "# [check_environment(k) for k in bracket_error(doc.source)]\n",
    "_, _, a = latex.get_content_per_section(doc.source, verbose=True)\n",
    "if not a:\n",
    "    print(\"no issues per section\")\n",
    "for ak in a:\n",
    "    r = check_environment(ak[1], offset=ak[0])\n",
    "    print(r[1], r[2])\n",
    "    print(r[0])"
   ]
  },
  {
   "cell_type": "code",
   "execution_count": null,
   "id": "71ce768a",
   "metadata": {
    "papermill": {
     "duration": 0.012021,
     "end_time": "2022-10-06T04:34:33.352576",
     "exception": false,
     "start_time": "2022-10-06T04:34:33.340555",
     "status": "completed"
    },
    "tags": []
   },
   "outputs": [],
   "source": []
  }
 ],
 "metadata": {
  "kernelspec": {
   "display_name": "Python 3.10.6 64-bit",
   "language": "python",
   "name": "python3"
  },
  "language_info": {
   "codemirror_mode": {
    "name": "ipython",
    "version": 3
   },
   "file_extension": ".py",
   "mimetype": "text/x-python",
   "name": "python",
   "nbconvert_exporter": "python",
   "pygments_lexer": "ipython3",
   "version": "3.9.14"
  },
  "papermill": {
   "default_parameters": {},
   "duration": 194.965993,
   "end_time": "2022-10-06T04:34:33.685633",
   "environment_variables": {},
   "exception": null,
   "input_path": "MPIA daily digest.ipynb",
   "output_path": "log.ipynb",
   "parameters": {},
   "start_time": "2022-10-06T04:31:18.719640",
   "version": "2.4.0"
  },
  "vscode": {
   "interpreter": {
    "hash": "e7370f93d1d0cde622a1f8e1c04877d8463912d04d973331ad4851f04de6915a"
   }
  },
  "widgets": {
   "application/vnd.jupyter.widget-state+json": {
    "state": {
     "08a351ebdf494325adeadf8514a0f129": {
      "model_module": "@jupyter-widgets/controls",
      "model_module_version": "2.0.0",
      "model_name": "HTMLModel",
      "state": {
       "_dom_classes": [],
       "_model_module": "@jupyter-widgets/controls",
       "_model_module_version": "2.0.0",
       "_model_name": "HTMLModel",
       "_view_count": null,
       "_view_module": "@jupyter-widgets/controls",
       "_view_module_version": "2.0.0",
       "_view_name": "HTMLView",
       "description": "",
       "description_allow_html": false,
       "layout": "IPY_MODEL_cfd66e3aca504b4c9dad4758fea4d760",
       "placeholder": "​",
       "style": "IPY_MODEL_79a487c464044ef28d3a449654413722",
       "tabbable": null,
       "tooltip": null,
       "value": " 21/21 [02:47&lt;00:00,  1.61s/it]"
      }
     },
     "31c4083e424549099fadbf00d2751e97": {
      "model_module": "@jupyter-widgets/base",
      "model_module_version": "2.0.0",
      "model_name": "LayoutModel",
      "state": {
       "_model_module": "@jupyter-widgets/base",
       "_model_module_version": "2.0.0",
       "_model_name": "LayoutModel",
       "_view_count": null,
       "_view_module": "@jupyter-widgets/base",
       "_view_module_version": "2.0.0",
       "_view_name": "LayoutView",
       "align_content": null,
       "align_items": null,
       "align_self": null,
       "border_bottom": null,
       "border_left": null,
       "border_right": null,
       "border_top": null,
       "bottom": null,
       "display": null,
       "flex": null,
       "flex_flow": null,
       "grid_area": null,
       "grid_auto_columns": null,
       "grid_auto_flow": null,
       "grid_auto_rows": null,
       "grid_column": null,
       "grid_gap": null,
       "grid_row": null,
       "grid_template_areas": null,
       "grid_template_columns": null,
       "grid_template_rows": null,
       "height": null,
       "justify_content": null,
       "justify_items": null,
       "left": null,
       "margin": null,
       "max_height": null,
       "max_width": null,
       "min_height": null,
       "min_width": null,
       "object_fit": null,
       "object_position": null,
       "order": null,
       "overflow": null,
       "padding": null,
       "right": null,
       "top": null,
       "visibility": null,
       "width": null
      }
     },
     "79a487c464044ef28d3a449654413722": {
      "model_module": "@jupyter-widgets/controls",
      "model_module_version": "2.0.0",
      "model_name": "HTMLStyleModel",
      "state": {
       "_model_module": "@jupyter-widgets/controls",
       "_model_module_version": "2.0.0",
       "_model_name": "HTMLStyleModel",
       "_view_count": null,
       "_view_module": "@jupyter-widgets/base",
       "_view_module_version": "2.0.0",
       "_view_name": "StyleView",
       "background": null,
       "description_width": "",
       "font_size": null,
       "text_color": null
      }
     },
     "81fa0d20fb32424e97d16de54e7086c1": {
      "model_module": "@jupyter-widgets/controls",
      "model_module_version": "2.0.0",
      "model_name": "HBoxModel",
      "state": {
       "_dom_classes": [],
       "_model_module": "@jupyter-widgets/controls",
       "_model_module_version": "2.0.0",
       "_model_name": "HBoxModel",
       "_view_count": null,
       "_view_module": "@jupyter-widgets/controls",
       "_view_module_version": "2.0.0",
       "_view_name": "HBoxView",
       "box_style": "",
       "children": [
        "IPY_MODEL_9952638cc8004c78ad1585bcf6fa17fe",
        "IPY_MODEL_d8d4fcc52ec74a0dae88ff2b760ad4d2",
        "IPY_MODEL_08a351ebdf494325adeadf8514a0f129"
       ],
       "layout": "IPY_MODEL_9d7a1f0fd2ec45b0b2caf3010decde9d",
       "tabbable": null,
       "tooltip": null
      }
     },
     "9952638cc8004c78ad1585bcf6fa17fe": {
      "model_module": "@jupyter-widgets/controls",
      "model_module_version": "2.0.0",
      "model_name": "HTMLModel",
      "state": {
       "_dom_classes": [],
       "_model_module": "@jupyter-widgets/controls",
       "_model_module_version": "2.0.0",
       "_model_name": "HTMLModel",
       "_view_count": null,
       "_view_module": "@jupyter-widgets/controls",
       "_view_module_version": "2.0.0",
       "_view_name": "HTMLView",
       "description": "",
       "description_allow_html": false,
       "layout": "IPY_MODEL_31c4083e424549099fadbf00d2751e97",
       "placeholder": "​",
       "style": "IPY_MODEL_bc29d4e2c95f4b4aa704cb92c6854e42",
       "tabbable": null,
       "tooltip": null,
       "value": "100%"
      }
     },
     "9d7a1f0fd2ec45b0b2caf3010decde9d": {
      "model_module": "@jupyter-widgets/base",
      "model_module_version": "2.0.0",
      "model_name": "LayoutModel",
      "state": {
       "_model_module": "@jupyter-widgets/base",
       "_model_module_version": "2.0.0",
       "_model_name": "LayoutModel",
       "_view_count": null,
       "_view_module": "@jupyter-widgets/base",
       "_view_module_version": "2.0.0",
       "_view_name": "LayoutView",
       "align_content": null,
       "align_items": null,
       "align_self": null,
       "border_bottom": null,
       "border_left": null,
       "border_right": null,
       "border_top": null,
       "bottom": null,
       "display": null,
       "flex": null,
       "flex_flow": null,
       "grid_area": null,
       "grid_auto_columns": null,
       "grid_auto_flow": null,
       "grid_auto_rows": null,
       "grid_column": null,
       "grid_gap": null,
       "grid_row": null,
       "grid_template_areas": null,
       "grid_template_columns": null,
       "grid_template_rows": null,
       "height": null,
       "justify_content": null,
       "justify_items": null,
       "left": null,
       "margin": null,
       "max_height": null,
       "max_width": null,
       "min_height": null,
       "min_width": null,
       "object_fit": null,
       "object_position": null,
       "order": null,
       "overflow": null,
       "padding": null,
       "right": null,
       "top": null,
       "visibility": null,
       "width": null
      }
     },
     "b9491640a6fb4bdca02370a2ba907f08": {
      "model_module": "@jupyter-widgets/base",
      "model_module_version": "2.0.0",
      "model_name": "LayoutModel",
      "state": {
       "_model_module": "@jupyter-widgets/base",
       "_model_module_version": "2.0.0",
       "_model_name": "LayoutModel",
       "_view_count": null,
       "_view_module": "@jupyter-widgets/base",
       "_view_module_version": "2.0.0",
       "_view_name": "LayoutView",
       "align_content": null,
       "align_items": null,
       "align_self": null,
       "border_bottom": null,
       "border_left": null,
       "border_right": null,
       "border_top": null,
       "bottom": null,
       "display": null,
       "flex": null,
       "flex_flow": null,
       "grid_area": null,
       "grid_auto_columns": null,
       "grid_auto_flow": null,
       "grid_auto_rows": null,
       "grid_column": null,
       "grid_gap": null,
       "grid_row": null,
       "grid_template_areas": null,
       "grid_template_columns": null,
       "grid_template_rows": null,
       "height": null,
       "justify_content": null,
       "justify_items": null,
       "left": null,
       "margin": null,
       "max_height": null,
       "max_width": null,
       "min_height": null,
       "min_width": null,
       "object_fit": null,
       "object_position": null,
       "order": null,
       "overflow": null,
       "padding": null,
       "right": null,
       "top": null,
       "visibility": null,
       "width": null
      }
     },
     "bc29d4e2c95f4b4aa704cb92c6854e42": {
      "model_module": "@jupyter-widgets/controls",
      "model_module_version": "2.0.0",
      "model_name": "HTMLStyleModel",
      "state": {
       "_model_module": "@jupyter-widgets/controls",
       "_model_module_version": "2.0.0",
       "_model_name": "HTMLStyleModel",
       "_view_count": null,
       "_view_module": "@jupyter-widgets/base",
       "_view_module_version": "2.0.0",
       "_view_name": "StyleView",
       "background": null,
       "description_width": "",
       "font_size": null,
       "text_color": null
      }
     },
     "cfd66e3aca504b4c9dad4758fea4d760": {
      "model_module": "@jupyter-widgets/base",
      "model_module_version": "2.0.0",
      "model_name": "LayoutModel",
      "state": {
       "_model_module": "@jupyter-widgets/base",
       "_model_module_version": "2.0.0",
       "_model_name": "LayoutModel",
       "_view_count": null,
       "_view_module": "@jupyter-widgets/base",
       "_view_module_version": "2.0.0",
       "_view_name": "LayoutView",
       "align_content": null,
       "align_items": null,
       "align_self": null,
       "border_bottom": null,
       "border_left": null,
       "border_right": null,
       "border_top": null,
       "bottom": null,
       "display": null,
       "flex": null,
       "flex_flow": null,
       "grid_area": null,
       "grid_auto_columns": null,
       "grid_auto_flow": null,
       "grid_auto_rows": null,
       "grid_column": null,
       "grid_gap": null,
       "grid_row": null,
       "grid_template_areas": null,
       "grid_template_columns": null,
       "grid_template_rows": null,
       "height": null,
       "justify_content": null,
       "justify_items": null,
       "left": null,
       "margin": null,
       "max_height": null,
       "max_width": null,
       "min_height": null,
       "min_width": null,
       "object_fit": null,
       "object_position": null,
       "order": null,
       "overflow": null,
       "padding": null,
       "right": null,
       "top": null,
       "visibility": null,
       "width": null
      }
     },
     "d8d4fcc52ec74a0dae88ff2b760ad4d2": {
      "model_module": "@jupyter-widgets/controls",
      "model_module_version": "2.0.0",
      "model_name": "FloatProgressModel",
      "state": {
       "_dom_classes": [],
       "_model_module": "@jupyter-widgets/controls",
       "_model_module_version": "2.0.0",
       "_model_name": "FloatProgressModel",
       "_view_count": null,
       "_view_module": "@jupyter-widgets/controls",
       "_view_module_version": "2.0.0",
       "_view_name": "ProgressView",
       "bar_style": "success",
       "description": "",
       "description_allow_html": false,
       "layout": "IPY_MODEL_b9491640a6fb4bdca02370a2ba907f08",
       "max": 21.0,
       "min": 0.0,
       "orientation": "horizontal",
       "style": "IPY_MODEL_f4d2dc855a0f432da1ef7222ba1bf843",
       "tabbable": null,
       "tooltip": null,
       "value": 21.0
      }
     },
     "f4d2dc855a0f432da1ef7222ba1bf843": {
      "model_module": "@jupyter-widgets/controls",
      "model_module_version": "2.0.0",
      "model_name": "ProgressStyleModel",
      "state": {
       "_model_module": "@jupyter-widgets/controls",
       "_model_module_version": "2.0.0",
       "_model_name": "ProgressStyleModel",
       "_view_count": null,
       "_view_module": "@jupyter-widgets/base",
       "_view_module_version": "2.0.0",
       "_view_name": "StyleView",
       "bar_color": null,
       "description_width": ""
      }
     }
    },
    "version_major": 2,
    "version_minor": 0
   }
  }
 },
 "nbformat": 4,
 "nbformat_minor": 5
}