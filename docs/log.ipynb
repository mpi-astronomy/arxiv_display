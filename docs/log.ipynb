{
 "cells": [
  {
   "cell_type": "markdown",
   "id": "92bcb855",
   "metadata": {
    "papermill": {
     "duration": 0.005564,
     "end_time": "2023-09-20T04:06:45.805481",
     "exception": false,
     "start_time": "2023-09-20T04:06:45.799917",
     "status": "completed"
    },
    "tags": []
   },
   "source": [
    "# MPIA Arxiv on Deck 2\n",
    "\n",
    "Contains the steps to produce the paper extractions."
   ]
  },
  {
   "cell_type": "code",
   "execution_count": 1,
   "id": "3a0d6e11",
   "metadata": {
    "execution": {
     "iopub.execute_input": "2023-09-20T04:06:45.815374Z",
     "iopub.status.busy": "2023-09-20T04:06:45.814710Z",
     "iopub.status.idle": "2023-09-20T04:06:46.347653Z",
     "shell.execute_reply": "2023-09-20T04:06:46.346564Z"
    },
    "papermill": {
     "duration": 0.540346,
     "end_time": "2023-09-20T04:06:46.350093",
     "exception": false,
     "start_time": "2023-09-20T04:06:45.809747",
     "status": "completed"
    },
    "tags": []
   },
   "outputs": [],
   "source": [
    "# Imports\n",
    "import os\n",
    "from IPython.display import Markdown, display\n",
    "from tqdm.notebook import tqdm\n",
    "import warnings\n",
    "from PIL import Image \n",
    "\n",
    "# requires arxiv_on_deck_2\n",
    "\n",
    "from arxiv_on_deck_2.arxiv2 import (get_new_papers, \n",
    "                                    get_paper_from_identifier,\n",
    "                                    retrieve_document_source, \n",
    "                                    get_markdown_badge)\n",
    "from arxiv_on_deck_2 import (latex,\n",
    "                             latex_bib,\n",
    "                             mpia,\n",
    "                             highlight_authors_in_list)\n",
    "\n",
    "# Sometimes images are really big\n",
    "Image.MAX_IMAGE_PIXELS = 1000000000 "
   ]
  },
  {
   "cell_type": "code",
   "execution_count": 2,
   "id": "22aa9d44",
   "metadata": {
    "execution": {
     "iopub.execute_input": "2023-09-20T04:06:46.360567Z",
     "iopub.status.busy": "2023-09-20T04:06:46.360174Z",
     "iopub.status.idle": "2023-09-20T04:06:46.367685Z",
     "shell.execute_reply": "2023-09-20T04:06:46.366373Z"
    },
    "papermill": {
     "duration": 0.014537,
     "end_time": "2023-09-20T04:06:46.369244",
     "exception": false,
     "start_time": "2023-09-20T04:06:46.354707",
     "status": "completed"
    },
    "tags": []
   },
   "outputs": [],
   "source": [
    "# Some useful definitions.\n",
    "\n",
    "class AffiliationWarning(UserWarning):\n",
    "    pass\n",
    "\n",
    "class AffiliationError(RuntimeError):\n",
    "    pass\n",
    "\n",
    "def validation(source: str):\n",
    "    \"\"\"Raises error paper during parsing of source file\n",
    "    \n",
    "    Allows checks before parsing TeX code.\n",
    "    \n",
    "    Raises AffiliationWarning\n",
    "    \"\"\"\n",
    "    check = mpia.affiliation_verifications(source, verbose=True)\n",
    "    if check is not True:\n",
    "        raise AffiliationError(\"mpia.affiliation_verifications: \" + check)\n",
    "\n",
    "        \n",
    "warnings.simplefilter('always', AffiliationWarning)\n",
    "\n",
    "\n",
    "def get_markdown_qrcode(paper_id: str):\n",
    "    \"\"\" Generate a qrcode to the arxiv page using qrserver.com\n",
    "    \n",
    "    :param paper: Arxiv paper\n",
    "    :returns: markdown text\n",
    "    \"\"\"\n",
    "    url = r\"https://api.qrserver.com/v1/create-qr-code/?size=100x100&data=\"\n",
    "    txt = f\"\"\"<img src={url}\"https://arxiv.org/abs/{paper_id}\">\"\"\"\n",
    "    txt = '<div id=\"qrcode\">' + txt + '</div>'\n",
    "    return txt"
   ]
  },
  {
   "cell_type": "markdown",
   "id": "14bd6310",
   "metadata": {
    "papermill": {
     "duration": 0.003524,
     "end_time": "2023-09-20T04:06:46.377740",
     "exception": false,
     "start_time": "2023-09-20T04:06:46.374216",
     "status": "completed"
    },
    "tags": []
   },
   "source": [
    "## get list of arxiv paper candidates\n",
    "\n",
    "We use the MPIA mitarbeiter list webpage from mpia.de to get author names\n",
    "We then get all new papers from Arxiv and match authors"
   ]
  },
  {
   "cell_type": "code",
   "execution_count": 3,
   "id": "2645e73a",
   "metadata": {
    "execution": {
     "iopub.execute_input": "2023-09-20T04:06:46.386301Z",
     "iopub.status.busy": "2023-09-20T04:06:46.385701Z",
     "iopub.status.idle": "2023-09-20T04:07:18.538022Z",
     "shell.execute_reply": "2023-09-20T04:07:18.537079Z"
    },
    "papermill": {
     "duration": 32.159262,
     "end_time": "2023-09-20T04:07:18.540443",
     "exception": false,
     "start_time": "2023-09-20T04:06:46.381181",
     "status": "completed"
    },
    "tags": []
   },
   "outputs": [
    {
     "name": "stdout",
     "output_type": "stream",
     "text": [
      "J. Neumann  ->  J. Neumann  |  ['J. Neumann']\n",
      "X. Zhang  ->  X. Zhang  |  ['X. Zhang']\n",
      "H. Beuther  ->  H. Beuther  |  ['H. Beuther']\n",
      "G. Perotti  ->  G. Perotti  |  ['G. Perotti']\n"
     ]
    },
    {
     "name": "stdout",
     "output_type": "stream",
     "text": [
      "Arxiv has 74 new papers today\n",
      "          3 with possible author matches\n"
     ]
    }
   ],
   "source": [
    "# get list from MPIA website\n",
    "# it automatically filters identified non-scientists :func:`mpia.filter_non_scientists`\n",
    "mpia_authors = mpia.get_mpia_mitarbeiter_list()\n",
    "normed_mpia_authors = [k[1] for k in mpia_authors]   # initials + fullname\n",
    "new_papers = get_new_papers()\n",
    "# add manual references\n",
    "add_paper_refs = []\n",
    "new_papers.extend([get_paper_from_identifier(k) for k in add_paper_refs])\n",
    "\n",
    "candidates = []\n",
    "for paperk in new_papers:\n",
    "    # Check author list with their initials\n",
    "    normed_author_list = [mpia.get_initials(k) for k in paperk['authors']]\n",
    "    hl_authors = highlight_authors_in_list(normed_author_list, normed_mpia_authors, verbose=True)\n",
    "    matches = [(hl, orig) for hl, orig in zip(hl_authors, paperk['authors']) if 'mark' in hl]\n",
    "    paperk['authors'] = hl_authors\n",
    "    if matches:\n",
    "        # only select paper if an author matched our list\n",
    "        candidates.append(paperk)\n",
    "print(\"\"\"Arxiv has {0:,d} new papers today\"\"\".format(len(new_papers)))        \n",
    "print(\"\"\"          {0:,d} with possible author matches\"\"\".format(len(candidates)))"
   ]
  },
  {
   "cell_type": "markdown",
   "id": "3543b34a",
   "metadata": {
    "papermill": {
     "duration": 0.00457,
     "end_time": "2023-09-20T04:07:18.550272",
     "exception": false,
     "start_time": "2023-09-20T04:07:18.545702",
     "status": "completed"
    },
    "tags": []
   },
   "source": [
    "# Parse sources and generate relevant outputs\n",
    "\n",
    "From the candidates, we do the following steps:\n",
    "* get their tarball from ArXiv (and extract data)\n",
    "* find the main .tex file: find one with \\documentclass{...} (sometimes it's non trivial)\n",
    "* Check affiliations with :func:`validation`, which uses :func:`mpia.affiliation_verifications`\n",
    "* If passing the affiliations: we parse the .tex source\n",
    "   * inject sub-documents into the main (flatten the main document)\n",
    "   * parse structure, extract information (title, abstract, authors, figures...)\n",
    "   * handles `\\graphicspath` if provided\n",
    "* Generate the .md document."
   ]
  },
  {
   "cell_type": "code",
   "execution_count": 4,
   "id": "9576b79e",
   "metadata": {
    "execution": {
     "iopub.execute_input": "2023-09-20T04:07:18.561285Z",
     "iopub.status.busy": "2023-09-20T04:07:18.560936Z",
     "iopub.status.idle": "2023-09-20T04:07:52.489030Z",
     "shell.execute_reply": "2023-09-20T04:07:52.488320Z"
    },
    "papermill": {
     "duration": 33.9421,
     "end_time": "2023-09-20T04:07:52.496750",
     "exception": false,
     "start_time": "2023-09-20T04:07:18.554650",
     "status": "completed"
    },
    "scrolled": false,
    "tags": []
   },
   "outputs": [
    {
     "data": {
      "application/vnd.jupyter.widget-view+json": {
       "model_id": "d4cd5241046146e3be319a9a7cea0323",
       "version_major": 2,
       "version_minor": 0
      },
      "text/plain": [
       "  0%|          | 0/3 [00:00<?, ?it/s]"
      ]
     },
     "metadata": {},
     "output_type": "display_data"
    },
    {
     "name": "stdout",
     "output_type": "stream",
     "text": [
      "Retrieving document from  https://arxiv.org/e-print/2309.10038\n"
     ]
    },
    {
     "name": "stdout",
     "output_type": "stream",
     "text": [
      "extracting tarball to tmp_2309.10038..."
     ]
    },
    {
     "name": "stdout",
     "output_type": "stream",
     "text": [
      " done.\n"
     ]
    },
    {
     "name": "stdout",
     "output_type": "stream",
     "text": [
      "Found 102 bibliographic references in tmp_2309.10038/Le_Conte_main.bbl.\n",
      "syntax error in line 690: '=' expected\n",
      "Retrieving document from  https://arxiv.org/e-print/2309.10316\n"
     ]
    },
    {
     "name": "stdout",
     "output_type": "stream",
     "text": [
      "extracting tarball to tmp_2309.10316..."
     ]
    },
    {
     "name": "stdout",
     "output_type": "stream",
     "text": [
      " done.\n",
      "Retrieving document from  https://arxiv.org/e-print/2309.10410\n"
     ]
    },
    {
     "name": "stdout",
     "output_type": "stream",
     "text": [
      "extracting tarball to tmp_2309.10410..."
     ]
    },
    {
     "name": "stdout",
     "output_type": "stream",
     "text": [
      " done.\n"
     ]
    },
    {
     "name": "stdout",
     "output_type": "stream",
     "text": [
      "H. Beuther  ->  H. Beuther  |  ['H. Beuther']\n",
      "G. Perotti  ->  G. Perotti  |  ['G. Perotti']\n"
     ]
    },
    {
     "name": "stdout",
     "output_type": "stream",
     "text": [
      "Found 66 bibliographic references in tmp_2309.10410/IRAS23385_JOYS_paper2_draft_v9.bbl.\n"
     ]
    }
   ],
   "source": [
    "documents = []\n",
    "failed = []\n",
    "for paper in tqdm(candidates):\n",
    "    paper_id = paper['identifier'].lower().replace('arxiv:', '')\n",
    "    \n",
    "    folder = f'tmp_{paper_id}'\n",
    "\n",
    "    try:\n",
    "        if not os.path.isdir(folder):\n",
    "            folder = retrieve_document_source(f\"{paper_id}\", f'tmp_{paper_id}')\n",
    "        \n",
    "        try:\n",
    "            doc = latex.LatexDocument(folder, validation=validation)    \n",
    "        except AffiliationError as affilerror:\n",
    "            msg = f\"ArXiv:{paper_id:s} is not an MPIA paper... \" + str(affilerror)\n",
    "            failed.append((paper, \"affiliation error: \" + str(affilerror) ))\n",
    "            continue\n",
    "        \n",
    "        # Hack because sometimes author parsing does not work well\n",
    "        if (len(doc.authors) != len(paper['authors'])):\n",
    "            doc._authors = paper['authors']\n",
    "        else:\n",
    "            # highlight authors (FIXME: doc.highlight_authors)\n",
    "            # done on arxiv paper already\n",
    "            doc._authors = highlight_authors_in_list(\n",
    "                [mpia.get_initials(k) for k in doc.authors], \n",
    "                normed_mpia_authors, verbose=True)\n",
    "        if (doc.abstract) in (None, ''):\n",
    "            doc._abstract = paper['abstract']\n",
    "            \n",
    "        doc.comment = (get_markdown_badge(paper_id) + \n",
    "                       \"<mark>Appeared on: \" + paper['date'] + \"</mark> - \")\n",
    "        if paper['comments']:\n",
    "            doc.comment += \" _\" + paper['comments'] + \"_\"\n",
    "        \n",
    "        full_md = doc.generate_markdown_text()\n",
    "        \n",
    "        full_md += get_markdown_qrcode(paper_id)\n",
    "        \n",
    "        # replace citations\n",
    "        try:\n",
    "            bibdata = latex_bib.LatexBib.from_doc(doc)\n",
    "            full_md = latex_bib.replace_citations(full_md, bibdata)\n",
    "        except Exception as e:\n",
    "            print(e)\n",
    "        \n",
    "        documents.append((paper_id, full_md))\n",
    "    except Exception as e:\n",
    "        warnings.warn(latex.LatexWarning(f\"{paper_id:s} did not run properly\\n\" +\n",
    "                                         str(e)\n",
    "                                        ))\n",
    "        failed.append((paper, \"latex error \" + str(e)))"
   ]
  },
  {
   "cell_type": "markdown",
   "id": "2505a25c",
   "metadata": {
    "papermill": {
     "duration": 0.004344,
     "end_time": "2023-09-20T04:07:52.506107",
     "exception": false,
     "start_time": "2023-09-20T04:07:52.501763",
     "status": "completed"
    },
    "tags": []
   },
   "source": [
    "### Export the logs\n",
    "\n",
    "Throughout, we also keep track of the logs per paper. see `logs-{today date}.md` "
   ]
  },
  {
   "cell_type": "code",
   "execution_count": 5,
   "id": "d733828a",
   "metadata": {
    "execution": {
     "iopub.execute_input": "2023-09-20T04:07:52.517284Z",
     "iopub.status.busy": "2023-09-20T04:07:52.516708Z",
     "iopub.status.idle": "2023-09-20T04:07:52.535843Z",
     "shell.execute_reply": "2023-09-20T04:07:52.535155Z"
    },
    "papermill": {
     "duration": 0.026582,
     "end_time": "2023-09-20T04:07:52.537667",
     "exception": false,
     "start_time": "2023-09-20T04:07:52.511085",
     "status": "completed"
    },
    "scrolled": false,
    "tags": []
   },
   "outputs": [
    {
     "data": {
      "text/markdown": [
       "## Successful papers"
      ],
      "text/plain": [
       "<IPython.core.display.Markdown object>"
      ]
     },
     "metadata": {},
     "output_type": "display_data"
    },
    {
     "data": {
      "text/markdown": [
       "\n",
       "|||\n",
       "|---:|:---|\n",
       "| [![arXiv](https://img.shields.io/badge/arXiv-arXiv:2309.10038-b31b1b.svg)](https://arxiv.org/abs/arXiv:2309.10038) | **A JWST investigation into the bar fraction at redshifts 1 < z < 3**  |\n",
       "|| Z. A. L. Conte, et al. -- incl., <mark>J. Neumann</mark> |\n",
       "|*Appeared on*| *2023-09-20*|\n",
       "|*Comments*| *Submitted to MNRAS. 15 pages, 10 figures. Figure 7 summarises the main results*|\n",
       "|**Abstract**| The presence of a stellar bar in a disc galaxy indicates that the galaxy hosts a dynamically settled disc and that bar-driven processes are taking place in shaping the evolution of the galaxy. Studying the cosmic evolution of the bar fraction in disc galaxies is therefore essential to understand galaxy evolution in general. Previous studies have found, using the Hubble Space Telescope (HST), that the bar fraction significantly declines from the local Universe to redshifts near one. Using the first four pointings from the James Webb Space Telescope (JWST) Cosmic Evolution Early Release Science Survey (CEERS) and the initial public observations for the Public Release Imaging for Extragalactic Research (PRIMER), we extend the studies on the bar fraction in disc galaxies to redshifts $1 \\leq z \\leq 3$, i.e., for the first time beyond redshift two. We only use galaxies that are also present in the Cosmic Assembly Near-IR Deep Extragalactic Legacy Survey (CANDELS) on the Extended Groth Strip (EGS) and Ultra Deep Survey (UDS) HST observations. An optimised sample of 768 close-to-face-on galaxies is visually classified to find the fraction of bars in disc galaxies in two redshift bins: $1 \\leq z \\leq 2$ and $2 < z \\leq 3$. The bar fraction decreases from $\\sim 18.9^{+ 9.7}_{- 9.4}$ per cent to $\\sim 6.6^{+ 7.1}_{- 5.9}$ per cent (from the lower to the higher redshift bin), but is $\\sim 3 - 4$ times greater than the bar fraction found in previous studies using bluer HST filters. Our results show that bar-driven evolution commences at early cosmic times and that dynamically settled discs are already present at a lookback time of $\\sim 11$ Gyrs. |"
      ],
      "text/plain": [
       "[arXiv:2309.10038] A JWST investigation into the bar fraction at redshifts 1 < z < 3\n",
       "\tZ. A. L. Conte, et al. -- incl., <mark>J. Neumann</mark>"
      ]
     },
     "metadata": {},
     "output_type": "display_data"
    },
    {
     "data": {
      "text/markdown": [
       "\n",
       "|||\n",
       "|---:|:---|\n",
       "| [![arXiv](https://img.shields.io/badge/arXiv-arXiv:2309.10410-b31b1b.svg)](https://arxiv.org/abs/arXiv:2309.10410) | **JOYS: Disentangling the warm and cold material in the high-mass IRAS  23385+6053 cluster**  |\n",
       "|| C. Gieser, et al. -- incl., <mark>H. Beuther</mark>, <mark>G. Perotti</mark> |\n",
       "|*Appeared on*| *2023-09-20*|\n",
       "|*Comments*| *15 pages, 7 figures, accepted for publication in A&A*|\n",
       "|**Abstract**| (abridged) We study and compare the warm (>100 K) and cold (<100 K) material toward the high-mass star-forming region IRAS 23385+6053 (IRAS 23385 hereafter) combining high angular resolution observations in the mid-infrared (MIR) with the JWST Observations of Young protoStars (JOYS) project and with the NOEMA at mm wavelengths at angular resolutions of 0.2\"-1\". The spatial morphology of atomic and molecular species is investigated by line integrated intensity maps. The temperature and column density of different gas components is estimated using H2 transitions (warm and hot component) and a series of CH3CN transitions as well as 3 mm continuum emission (cold component). Toward the central dense core in IRAS 23385 the material consists of relatively cold gas and dust (~50 K), while multiple outflows create heated and/or shocked H2 and show enhanced temperatures (~400 K) along the outflow structures. An energetic outflow with enhanced emission knots of [Fe II] and [Ni II] hints at J-type shocks, while two other outflows have enhanced emission of only H2 and [S I] caused by C-type shocks. The latter two outflows are also more prominent in molecular line emission at mm wavelengths (e.g., SiO, SO, H2CO, and CH3OH). Even higher angular resolution data are needed to unambiguously identify the outflow driving sources given the clustered nature of IRAS 23385. While most of the forbidden fine structure transitions are blueshifted, [Ne II] and [Ne III] peak at the source velocity toward the MIR source A/mmA2 suggesting that the emission is originating from closer to the protostar. |"
      ],
      "text/plain": [
       "[arXiv:2309.10410] JOYS: Disentangling the warm and cold material in the high-mass IRAS  23385+6053 cluster\n",
       "\tC. Gieser, et al. -- incl., <mark>H. Beuther</mark>, <mark>G. Perotti</mark>"
      ]
     },
     "metadata": {},
     "output_type": "display_data"
    },
    {
     "data": {
      "text/markdown": [
       "## Failed papers"
      ],
      "text/plain": [
       "<IPython.core.display.Markdown object>"
      ]
     },
     "metadata": {},
     "output_type": "display_data"
    },
    {
     "data": {
      "text/markdown": [
       "\n",
       "|||\n",
       "|---:|:---|\n",
       "| [![arXiv](https://img.shields.io/badge/arXiv-arXiv:2309.10316-b31b1b.svg)](https://arxiv.org/abs/arXiv:2309.10316) | **Constraining Thermal Emission of Pluto's Haze From Infrared Rotational  Lightcurves**  |\n",
       "|| L. Wan, <mark>X. Zhang</mark>, J. D. Hofgartner |\n",
       "|*Appeared on*| *2023-09-20*|\n",
       "|*Comments*| *Accepted by ApJ*|\n",
       "|**Abstract**| The rotational lightcurves of the Pluto-Charon system were previously believed to be solely attributed to their surfaces. However, a proposed scenario of haze cooling \\citep{2017Natur.551..352Z} suggests that the atmospheric haze of Pluto could significantly contribute to mid-infrared emission, which calls for a revisit of previous analyses. In this study, we employ a Bayesian retrieval approach to constrain the haze emission from the rotational lightcurves of the Pluto-Charon system. The lightcurves were observed by the Spitzer and Herschel telescopes at 24 and 70 $\\mu$m, and were combined with the latest surface albedo maps of Pluto and Charon from the New Horizons spacecraft. Our results show that including the haze emission is consistent with all current observations, with the best-fit haze flux around 1.63 mJy. This is in agreement with the composition of Titan-like tholins. However, the ``surface only\" scenario, which excludes the haze contribution, can still explain the observations. We conclude that the current data at 24 $\\mu$m cannot constrain Pluto's haze emission due to the degeneracy with Charon's surface emission. Regardless, some surface properties of Pluto are well constrained by the shape of the lightcurves, with a thermal inertia of approximately 8--10 MKS and a relatively low CH$_4$ emissivity of 0.3--0.5. We suggest that observations by the JWST telescope at 18 $\\mu$m, which can resolve Pluto from Charon, could directly probe the haze emission of Pluto due to the low surface emission at that wavelength. |\n",
       "|<p style=\"color:green\"> **ERROR** </p>| <p style=\"color:green\">affiliation error: mpia.affiliation_verifications: 'Heidelberg' keyword not found.</p> |"
      ],
      "text/plain": [
       "<IPython.core.display.Markdown object>"
      ]
     },
     "metadata": {},
     "output_type": "display_data"
    }
   ],
   "source": [
    "import datetime\n",
    "today = str(datetime.date.today())\n",
    "logfile = f\"_build/html/logs/log-{today}.md\"\n",
    "\n",
    "\n",
    "with open(logfile, 'w') as logs:\n",
    "    # Success\n",
    "    logs.write(f'# Arxiv on Deck 2: Logs - {today}\\n\\n')\n",
    "    logs.write(\"\"\"* Arxiv had {0:,d} new papers\\n\"\"\".format(len(new_papers)))\n",
    "    logs.write(\"\"\"    * {0:,d} with possible author matches\\n\\n\"\"\".format(len(candidates)))\n",
    "    logs.write(\"## Sucessful papers\\n\\n\")\n",
    "    display(Markdown(\"## Successful papers\"))\n",
    "    success = [k[0] for k in documents]\n",
    "    for candid in candidates:\n",
    "        if candid['identifier'].split(':')[-1] in success:\n",
    "            display(candid)\n",
    "            logs.write(candid.generate_markdown_text() + '\\n\\n')\n",
    "\n",
    "    ## failed\n",
    "    logs.write(\"## Failed papers\\n\\n\")\n",
    "    display(Markdown(\"## Failed papers\"))\n",
    "    failed = sorted(failed, key=lambda x: x[1])\n",
    "    current_reason = \"\"\n",
    "    for paper, reason in failed:\n",
    "        if 'affiliation' in reason:\n",
    "            color = 'green'\n",
    "        else:\n",
    "            color = 'red'\n",
    "        data = Markdown(\n",
    "                paper.generate_markdown_text() + \n",
    "                f'\\n|<p style=\"color:{color:s}\"> **ERROR** </p>| <p style=\"color:{color:s}\">{reason:s}</p> |'\n",
    "               )\n",
    "        if reason != current_reason:\n",
    "            logs.write(f'### {reason:s} \\n\\n')\n",
    "            current_reason = reason\n",
    "        logs.write(data.data + '\\n\\n')\n",
    "        \n",
    "        # only display here the important errors (all in logs)\n",
    "        # if color in ('red',):\n",
    "        display(data)"
   ]
  },
  {
   "cell_type": "markdown",
   "id": "472d20ee",
   "metadata": {
    "papermill": {
     "duration": 0.005631,
     "end_time": "2023-09-20T04:07:52.548905",
     "exception": false,
     "start_time": "2023-09-20T04:07:52.543274",
     "status": "completed"
    },
    "tags": []
   },
   "source": [
    "## Export documents\n",
    "\n",
    "We now write the .md files and export relevant images"
   ]
  },
  {
   "cell_type": "code",
   "execution_count": 6,
   "id": "d426aed9",
   "metadata": {
    "execution": {
     "iopub.execute_input": "2023-09-20T04:07:52.562541Z",
     "iopub.status.busy": "2023-09-20T04:07:52.561864Z",
     "iopub.status.idle": "2023-09-20T04:07:52.571493Z",
     "shell.execute_reply": "2023-09-20T04:07:52.570538Z"
    },
    "papermill": {
     "duration": 0.018357,
     "end_time": "2023-09-20T04:07:52.573223",
     "exception": false,
     "start_time": "2023-09-20T04:07:52.554866",
     "status": "completed"
    },
    "tags": []
   },
   "outputs": [],
   "source": [
    "def export_markdown_summary(md: str, md_fname:str, directory: str):\n",
    "    \"\"\"Export MD document and associated relevant images\"\"\"\n",
    "    import os\n",
    "    import shutil\n",
    "    import re\n",
    "\n",
    "    if (os.path.exists(directory) and not os.path.isdir(directory)):\n",
    "        raise RuntimeError(f\"a non-directory file exists with name {directory:s}\")\n",
    "\n",
    "    if (not os.path.exists(directory)):\n",
    "        print(f\"creating directory {directory:s}\")\n",
    "        os.mkdir(directory)\n",
    "\n",
    "    fig_fnames = (re.compile(r'\\[Fig.*\\]\\((.*)\\)').findall(md) + \n",
    "                  re.compile(r'\\<img src=\"([^>\\s]*)\"[^>]*/>').findall(md))\n",
    "    for fname in fig_fnames:\n",
    "        if 'http' in fname:\n",
    "            # No need to copy online figures\n",
    "            continue\n",
    "        destdir = os.path.join(directory, os.path.dirname(fname))\n",
    "        destfname = os.path.join(destdir, os.path.basename(fname))\n",
    "        try:\n",
    "            os.makedirs(destdir)\n",
    "        except FileExistsError:\n",
    "            pass\n",
    "        shutil.copy(fname, destfname)\n",
    "    with open(os.path.join(directory, md_fname), 'w') as fout:\n",
    "        fout.write(md)\n",
    "    print(\"exported in \", os.path.join(directory, md_fname))\n",
    "    [print(\"    + \" + os.path.join(directory,fk)) for fk in fig_fnames]"
   ]
  },
  {
   "cell_type": "code",
   "execution_count": 7,
   "id": "014d04a4",
   "metadata": {
    "execution": {
     "iopub.execute_input": "2023-09-20T04:07:52.584757Z",
     "iopub.status.busy": "2023-09-20T04:07:52.584265Z",
     "iopub.status.idle": "2023-09-20T04:07:52.593034Z",
     "shell.execute_reply": "2023-09-20T04:07:52.592412Z"
    },
    "papermill": {
     "duration": 0.016181,
     "end_time": "2023-09-20T04:07:52.594374",
     "exception": false,
     "start_time": "2023-09-20T04:07:52.578193",
     "status": "completed"
    },
    "tags": []
   },
   "outputs": [
    {
     "name": "stdout",
     "output_type": "stream",
     "text": [
      "exported in  _build/html/2309.10038.md\n",
      "    + _build/html/tmp_2309.10038/./Figures/bar_frac.png\n",
      "    + _build/html/tmp_2309.10038/./Figures/strongly_bar.png\n",
      "    + _build/html/tmp_2309.10038/./Figures/weakly_bar.png\n",
      "exported in  _build/html/2309.10410.md\n",
      "    + _build/html/tmp_2309.10410/./continuum_IRAS23385_JWST_NOEMA.png\n",
      "    + _build/html/tmp_2309.10410/./moment0_IRAS23385_H2_5.51mum_ch1_short.png\n",
      "    + _build/html/tmp_2309.10410/./moment0_IRAS23385_H2_17.03mum_ch3_long.png\n",
      "    + _build/html/tmp_2309.10410/./moment0_IRAS23385_SI_25.25mum_ch4_long.png\n",
      "    + _build/html/tmp_2309.10410/./moment0_IRAS23385_FeII_17.94mum_ch3_long.png\n",
      "    + _build/html/tmp_2309.10410/./moment0_IRAS23385_NiII_6.64mum_ch1_long.png\n",
      "    + _build/html/tmp_2309.10410/./moment0_IRAS23385_NeII_12.81mum_ch3_short.png\n",
      "    + _build/html/tmp_2309.10410/./moment0_IRAS23385_NeIII_15.56mum_ch3_long.png\n",
      "    + _build/html/tmp_2309.10410/./moment0_IRAS23385_ArII_6.99mum_ch1_long.png\n",
      "    + _build/html/tmp_2309.10410/./continuum_IRAS23385_overview.png\n"
     ]
    }
   ],
   "source": [
    "for paper_id, md in documents:\n",
    "    export_markdown_summary(md, f\"{paper_id:s}.md\", '_build/html/')"
   ]
  },
  {
   "cell_type": "markdown",
   "id": "f087a0a7",
   "metadata": {
    "papermill": {
     "duration": 0.005228,
     "end_time": "2023-09-20T04:07:52.604472",
     "exception": false,
     "start_time": "2023-09-20T04:07:52.599244",
     "status": "completed"
    },
    "tags": []
   },
   "source": [
    "## Display the papers\n",
    "\n",
    "Not necessary but allows for a quick check."
   ]
  },
  {
   "cell_type": "code",
   "execution_count": 8,
   "id": "fd25f625",
   "metadata": {
    "execution": {
     "iopub.execute_input": "2023-09-20T04:07:52.615834Z",
     "iopub.status.busy": "2023-09-20T04:07:52.615372Z",
     "iopub.status.idle": "2023-09-20T04:07:52.622020Z",
     "shell.execute_reply": "2023-09-20T04:07:52.621353Z"
    },
    "papermill": {
     "duration": 0.013818,
     "end_time": "2023-09-20T04:07:52.623344",
     "exception": false,
     "start_time": "2023-09-20T04:07:52.609526",
     "status": "completed"
    },
    "scrolled": false,
    "tags": []
   },
   "outputs": [
    {
     "data": {
      "text/markdown": [
       "<div class=\"macros\" style=\"visibility:hidden;\">\n",
       "$\\newcommand{\\ensuremath}{}$\n",
       "$\\newcommand{\\xspace}{}$\n",
       "$\\newcommand{\\object}[1]{\\texttt{#1}}$\n",
       "$\\newcommand{\\farcs}{{.}''}$\n",
       "$\\newcommand{\\farcm}{{.}'}$\n",
       "$\\newcommand{\\arcsec}{''}$\n",
       "$\\newcommand{\\arcmin}{'}$\n",
       "$\\newcommand{\\ion}[2]{#1#2}$\n",
       "$\\newcommand{\\textsc}[1]{\\textrm{#1}}$\n",
       "$\\newcommand{\\hl}[1]{\\textrm{#1}}$\n",
       "$\\newcommand{\\footnote}[1]{}$\n",
       "$\\newcommand{\\thebibliography}{\\DeclareRobustCommand{\\VAN}[3]{##3}\\VANthebibliography}$</div>\n",
       "\n",
       "\n",
       "\n",
       "<div id=\"title\">\n",
       "\n",
       "# A JWST investigation into the bar fraction at redshifts $1 \\leq z \\leq 3$\n",
       "\n",
       "</div>\n",
       "<div id=\"comments\">\n",
       "\n",
       "[![arXiv](https://img.shields.io/badge/arXiv-2309.10038-b31b1b.svg)](https://arxiv.org/abs/2309.10038)<mark>Appeared on: 2023-09-20</mark> -  _Submitted to MNRAS. 15 pages, 10 figures. Figure 7 summarises the main results_\n",
       "\n",
       "</div>\n",
       "<div id=\"authors\">\n",
       "\n",
       "Z. A. L. Conte, et al. -- incl., <mark>J. Neumann</mark>\n",
       "\n",
       "</div>\n",
       "<div id=\"abstract\">\n",
       "\n",
       "**Abstract:** The presence of a stellar bar in a disc galaxy indicates that the galaxy hosts a dynamically settled disc and that bar-driven processes are taking place in shaping the evolution of the galaxy. Studying the cosmic evolution of the bar fraction in disc galaxies is therefore essential to understand galaxy evolution in general. Previous studies have found, using the Hubble Space Telescope (HST), that the bar fraction significantly declines from the local Universe to redshifts near one. Using the first four pointings from the James Webb Space Telescope (JWST) Cosmic Evolution Early Release Science Survey (CEERS) and the initial public observations for the Public Release Imaging for Extragalactic Research (PRIMER), we extend the studies on the bar fraction in disc galaxies to redshifts $1 \\leq z \\leq 3$ , i.e., for the first time beyond redshift two. We only use galaxies that are also present in the Cosmic Assembly Near-IR Deep Extragalactic Legacy Survey (CANDELS) on the Extended Groth Strip (EGS) and Ultra Deep Survey (UDS) HST observations. An optimised sample of 768 close-to-face-on galaxies is visually classified to find the fraction of bars in disc galaxies in two redshift bins: $1 \\leq z \\leq 2$ and $2 < z \\leq 3$ . The bar fraction decreases from $\\sim 18.9^{+ 9.7}_{- 9.4}$ per cent to $\\sim 6.6^{+ 7.1}_{- 5.9}$ per cent (from the lower to the higher redshift bin), but is $\\sim 3 - 4$ times greater than the bar fraction found in previous studies using bluer HST filters. Our results show that bar-driven evolution commences at early cosmic times and that dynamically settled discs are already present at a lookback time of $\\sim 11$ Gyrs.\n",
       "\n",
       "</div>\n",
       "\n",
       "<div id=\"div_fig1\">\n",
       "\n",
       "<img src=\"tmp_2309.10038/./Figures/bar_frac.png\" alt=\"Fig10\" width=\"100%\"/>\n",
       "\n",
       "**Figure 10. -** Evolution of the fraction of stellar bars in disc galaxies with redshift in the context of other bar assessment work using HST. The fractions of barred disc galaxies found in JWST NIRCam images are shown as green squares, and the fractions of barred disc galaxies found in this study in HST WFC3 images are shown as purple squares. The bar fraction was found for two redshift bins, $1 \\leq z \\leq 2$ and $2 < z \\leq 3$, where the marker indicates the median redshift of the barred galaxies. All bar fraction errors indicate the sum in quadrature of the systematic and 1$\\sigma$ Bayesian binomial confidence interval \\citep[][statistical error only in dark colours]{Cameron_2011}  . A dashed line indicates the redshift range of barred galaxies. A thick solid line indicates the redshift range of the quartiles 25\\%-75\\% of the distribution of barred galaxies. At low redshifts, \\citet[][down-pointing triangle]{Vaucouleurs_1991}   and \\citet[][circle]{Masters_2011}   found strong bars in a third of disc galaxies, while \\citet[][cross]{Eskridge_2000}   found strong and weak bars in over two-thirds of disc galaxies. \\citet[][left-pointing triangles]{Simmons_2014}  , \\citet[][diamonds]{Sheth_2008}   and \\citet[][up-pointing triangles]{Melvin_2014}   found a decreasing trend of the bar fraction for higher redshifts. \\citet[][right-pointing triangles]{Jogee_2004}   found a minimal decline in the bar fraction at higher redshifts. The six barred galaxies found in \\citet[][pluses]{Guo_2023}   are shown in yellow at the bottom of the plot. Finally, the bar fractions, as found in the Auriga cosmological simulations in \\citet[][exes]{Fragkoudi_2020}   are shown in black. (*Fig: bar_frac*)\n",
       "\n",
       "</div>\n",
       "<div id=\"div_fig2\">\n",
       "\n",
       "<img src=\"tmp_2309.10038/./Figures/strongly_bar.png\" alt=\"Fig2\" width=\"100%\"/>\n",
       "\n",
       "**Figure 2. -** Rest-frame NIR logarithmic images of strongly barred galaxies using the JWST NIRCam F444W filter between the redshifts $1 \\leq z \\leq 3$. The redshift of the galaxy is noted in the upper left corner of each image. A 5 kpc scale is given in the upper right corner of each image \\citep[calculated using][]{Wright_2006}  . (*Fig: strong*)\n",
       "\n",
       "</div>\n",
       "<div id=\"div_fig3\">\n",
       "\n",
       "<img src=\"tmp_2309.10038/./Figures/weakly_bar.png\" alt=\"Fig3\" width=\"100%\"/>\n",
       "\n",
       "**Figure 3. -** Rest-frame NIR logarithmic images of weakly barred galaxies using the JWST NIRCam F444W filter between the redshifts $1 \\leq z \\leq 3$. The redshift of the galaxy is noted in the upper left corner of each image. A 5 kpc scale is given in the upper right corner of each image \\citep[calculated using][]{Wright_2006}  . (*Fig: weak*)\n",
       "\n",
       "</div><div id=\"qrcode\"><img src=https://api.qrserver.com/v1/create-qr-code/?size=100x100&data=\"https://arxiv.org/abs/2309.10038\"></div>"
      ],
      "text/plain": [
       "<IPython.core.display.Markdown object>"
      ]
     },
     "metadata": {},
     "output_type": "display_data"
    },
    {
     "data": {
      "text/markdown": [
       "<div class=\"macros\" style=\"visibility:hidden;\">\n",
       "$\\newcommand{\\ensuremath}{}$\n",
       "$\\newcommand{\\xspace}{}$\n",
       "$\\newcommand{\\object}[1]{\\texttt{#1}}$\n",
       "$\\newcommand{\\farcs}{{.}''}$\n",
       "$\\newcommand{\\farcm}{{.}'}$\n",
       "$\\newcommand{\\arcsec}{''}$\n",
       "$\\newcommand{\\arcmin}{'}$\n",
       "$\\newcommand{\\ion}[2]{#1#2}$\n",
       "$\\newcommand{\\textsc}[1]{\\textrm{#1}}$\n",
       "$\\newcommand{\\hl}[1]{\\textrm{#1}}$\n",
       "$\\newcommand{\\footnote}[1]{}$\n",
       "$\\newcommand{\\arraystretch}{1.2}$</div>\n",
       "\n",
       "\n",
       "\n",
       "<div id=\"title\">\n",
       "\n",
       "# JOYS: Disentangling the warm and cold material in the high-mass IRAS 23385+6053 cluster\n",
       "\n",
       "</div>\n",
       "<div id=\"comments\">\n",
       "\n",
       "[![arXiv](https://img.shields.io/badge/arXiv-2309.10410-b31b1b.svg)](https://arxiv.org/abs/2309.10410)<mark>Appeared on: 2023-09-20</mark> -  _15 pages, 7 figures, accepted for publication in A&A_\n",
       "\n",
       "</div>\n",
       "<div id=\"authors\">\n",
       "\n",
       "C. Gieser, et al. -- incl., <mark>H. Beuther</mark>, <mark>G. Perotti</mark>\n",
       "\n",
       "</div>\n",
       "<div id=\"abstract\">\n",
       "\n",
       "**Abstract:** High-mass star formation occurs in a clustered mode where fragmentation is observed from an early stage onward. Young protostars can now be studied in great detail with the recently launched _James Webb Space Telescope_ (JWST). We study and compare the warm ( $>$ 100 K) and cold ( $<$ 100 K) material toward the high-mass star-forming region IRAS 23385+6053 (IRAS 23385 hereafter) combining high angular resolution observations in the mid-infrared (MIR) with the JWST Observations of Young protoStars (JOYS) project and with the NOrthern Extended Millimeter Array (NOEMA) at mm wavelengths at angular resolutions of $\\approx$ 0 $\\farcs$ 2-1 $\\farcs$ 0. The spatial morphology of atomic and molecular species is investigated by line integrated intensity maps. The temperature and column density of different gas components is estimated using H $_{2}$ transitions (warm and hot component) and a series of CH $_{3}$ CN transitions as well as 3 mm continuum emission (cold component). Toward the central dense core in IRAS 23385 the material consists of relatively cold gas and dust ( $\\approx$ 50 K), while multiple outflows create heated and/or shocked H $_{2}$ and show enhanced temperatures ( $\\approx$ 400 K) along the outflow structures. An energetic outflow with enhanced emission knots of $[$ Fe ${\\sc ii}$ $]$ and $[$ Ni ${\\sc ii}$ $]$ hints at $J$ -type shocks, while two other outflows have enhanced emission of only H $_{2}$ and $[$ S ${\\sc i}$ $]$ caused by $C$ -type shocks. The latter two outflows are also more prominent in molecular line emission at mm wavelengths (e.g., SiO, SO, H $_{2}$ CO, and CH $_{3}$ OH). Even higher angular resolution data are needed to unambiguously identify the outflow driving sources given the clustered nature of IRAS 23385. While most of the forbidden fine structure transitions are blueshifted, $[$ Ne ${\\sc ii}$ $]$ and $[$ Ne ${\\sc iii}$ $]$ peak at the source velocity toward the MIR source A/mmA2 suggesting that the emission is originating from closer to the protostar. The warm and cold gas traced by MIR and mm observations, respectively, are strongly linked in IRAS 23385. The outflows traced by MIR H $_{2}$ lines have molecular counterparts in the mm regime. Despite the presence of multiple powerful outflows that cause dense and hot shocks, a cold dense envelope still allows star formation to further proceed. To study and fully understand the spatially resolved MIR-properties, a representative sample of low- and high-mass protostars has to be probed by JWST.\n",
       "\n",
       "</div>\n",
       "\n",
       "<div id=\"div_fig1\">\n",
       "\n",
       "<img src=\"tmp_2309.10410/./continuum_IRAS23385_JWST_NOEMA.png\" alt=\"Fig5.1\" width=\"50%\"/><img src=\"tmp_2309.10410/./moment0_IRAS23385_H2_5.51mum_ch1_short.png\" alt=\"Fig5.2\" width=\"50%\"/>\n",
       "\n",
       "**Figure 5. -** MIR Continuum (_left_) and H$_{2}$ 0-0 S(7) line emission (_right_) for IRAS 23385. In the left panel, the JWST/MIRI 5.2 $\\upmu$m continuum with emission $> 5\\sigma_{\\mathrm{cont,5}\\upmu\\mathrm{m}}$ is presented in color. Grey contours show the NOEMA 1 mm continuum with contour levels at 5, 10, 20, 40, 80$\\times \\sigma_\\mathrm{cont,1mm}$. The dash-dotted white circles show the aperture in which the 5.2 $\\upmu$m flux density $F_{5.2\\upmu\\mathrm{m}}$ was derived (Table \\ref{tab:sources}). In the bottom left corner, the JWST/MIRI 5.2 $\\upmu$m and NOEMA 1 mm angular resolution is indicated in black and grey, respectively. The mm (mmA1 and mmB, marked by green squares) and MIR (A/mmA2 and B) continuum sources are labeled in green. In the right panel, the line integrated intensity of the H$_{2}$ 0-0 S(7) line with $S$/$N > 5$ is presented in color. The JWST/MIRI 5.2 $\\upmu$m continuum as shown in the left panel is presented as blue contours with contour levels at 5, 10, 15, 20, 25$\\times \\sigma_{\\mathrm{cont,5}\\upmu\\mathrm{m}}$. The angular resolution of the 5.2 $\\upmu$m continuum and H$_{2}$ 0-0 S(7) line data is indicated in the bottom left and right, respectively. Several shock spots evident in the MIRI MRS line emission are marked by green crosses and labeled in green (Sect. \\ref{sec:line}). The red and blue arrows indicate three bipolar outflows, labeled I, II, and III \\citep[as presented in][]{Beuther2023}. In both panels, the black bar indicates a spatial scale of 10 000 au at the assumed source distance of 4.9 kpc. (*fig:continuum*)\n",
       "\n",
       "</div>\n",
       "<div id=\"div_fig2\">\n",
       "\n",
       "<img src=\"tmp_2309.10410/./moment0_IRAS23385_H2_17.03mum_ch3_long.png\" alt=\"Fig6.1\" width=\"14%\"/><img src=\"tmp_2309.10410/./moment0_IRAS23385_SI_25.25mum_ch4_long.png\" alt=\"Fig6.2\" width=\"14%\"/><img src=\"tmp_2309.10410/./moment0_IRAS23385_FeII_17.94mum_ch3_long.png\" alt=\"Fig6.3\" width=\"14%\"/><img src=\"tmp_2309.10410/./moment0_IRAS23385_NiII_6.64mum_ch1_long.png\" alt=\"Fig6.4\" width=\"14%\"/><img src=\"tmp_2309.10410/./moment0_IRAS23385_NeII_12.81mum_ch3_short.png\" alt=\"Fig6.5\" width=\"14%\"/><img src=\"tmp_2309.10410/./moment0_IRAS23385_NeIII_15.56mum_ch3_long.png\" alt=\"Fig6.6\" width=\"14%\"/><img src=\"tmp_2309.10410/./moment0_IRAS23385_ArII_6.99mum_ch1_long.png\" alt=\"Fig6.7\" width=\"14%\"/>\n",
       "\n",
       "**Figure 6. -** Integrated intensity maps of atomic and molecular lines detected with JWST/MIRI MRS. In color, the line integrated intensity is shown in a log-scale. The JWST/MIRI 5.2 $\\upmu$m continuum is presented as blue contours with contour levels at 5, 10, 15, 20, 25$\\times \\sigma_{\\mathrm{cont,5}\\upmu\\mathrm{m}}$. The two mm sources are indicated by green squares and several shock positions are highlighted by green crosses. In the bottom left and right corners, the angular resolution of the JWST/MIRI continuum and line data, respectively, is shown. In the top left panel, the bipolar outflows are indicated by red and blue dashed arrows. The shock locations (Sect. \\ref{sec:line}) and continuum sources are labeled in the top right and center left panel, respectively. In the $[$Ne {\\sc ii}$]$ and $[$Ne {\\sc iii}$]$ panels, the dash-dotted grey circles show the aperture (0$\\farcs$9) in which the flux density was derived (Sect. \\ref{sec:discussion}). (*fig:line*)\n",
       "\n",
       "</div>\n",
       "<div id=\"div_fig3\">\n",
       "\n",
       "<img src=\"tmp_2309.10410/./continuum_IRAS23385_overview.png\" alt=\"Fig4\" width=\"100%\"/>\n",
       "\n",
       "**Figure 4. -** Multi-wavelength overview of IRAS 23385. In color, the _Herschel_ 250 $\\upmu$m (_left_), _Herschel_ 70 $\\upmu$m (_center_), and _Spitzer_ 24 $\\upmu$m (_right_) emission are shown in log-scale. The grey dashed squares show the field-of-view of the following panel. In the center and right panels, the green star, labeled as \"mm\", marks the 1 mm continuum peak position (Fig. \\ref{fig:continuum}). The blue stars, labeled as \"VLA1\" and \"VLA2\", show the position of the two nearby UCH{\\sc ii} regions  ([Molinari, et. al 2002]()) . The black rectangles in the right panel indicate the JWST/MIRI MRS field-of-view of the 4-pointing mosaic in ch1A (solid) and ch4C (dashed). (*fig:overview*)\n",
       "\n",
       "</div><div id=\"qrcode\"><img src=https://api.qrserver.com/v1/create-qr-code/?size=100x100&data=\"https://arxiv.org/abs/2309.10410\"></div>"
      ],
      "text/plain": [
       "<IPython.core.display.Markdown object>"
      ]
     },
     "metadata": {},
     "output_type": "display_data"
    }
   ],
   "source": [
    "[display(Markdown(k[1])) for k in documents];"
   ]
  },
  {
   "cell_type": "markdown",
   "id": "873873a4",
   "metadata": {
    "papermill": {
     "duration": 0.005563,
     "end_time": "2023-09-20T04:07:52.633934",
     "exception": false,
     "start_time": "2023-09-20T04:07:52.628371",
     "status": "completed"
    },
    "tags": []
   },
   "source": [
    "# Create HTML index"
   ]
  },
  {
   "cell_type": "code",
   "execution_count": 9,
   "id": "cf665672",
   "metadata": {
    "execution": {
     "iopub.execute_input": "2023-09-20T04:07:52.646446Z",
     "iopub.status.busy": "2023-09-20T04:07:52.646005Z",
     "iopub.status.idle": "2023-09-20T04:07:52.655742Z",
     "shell.execute_reply": "2023-09-20T04:07:52.655043Z"
    },
    "papermill": {
     "duration": 0.017615,
     "end_time": "2023-09-20T04:07:52.657284",
     "exception": false,
     "start_time": "2023-09-20T04:07:52.639669",
     "status": "completed"
    },
    "tags": []
   },
   "outputs": [
    {
     "name": "stdout",
     "output_type": "stream",
     "text": [
      "275  publications files modified in the last 7 days.\n"
     ]
    }
   ],
   "source": [
    "from datetime import datetime, timedelta, timezone\n",
    "from glob import glob\n",
    "import os\n",
    "\n",
    "files = glob('_build/html/*.md')\n",
    "days = 7\n",
    "now = datetime.today()\n",
    "res = []\n",
    "for fk in files:\n",
    "    stat_result = os.stat(fk).st_ctime\n",
    "    modified = datetime.fromtimestamp(stat_result, tz=timezone.utc).replace(tzinfo=None)\n",
    "    delta = now.today() - modified\n",
    "    if delta <= timedelta(days=days):\n",
    "        res.append((delta.seconds, fk))\n",
    "res = [k[1] for k in reversed(sorted(res, key=lambda x:x[1]))]\n",
    "npub = len(res)\n",
    "print(len(res), f\" publications files modified in the last {days:d} days.\")\n",
    "# [ print('\\t', k) for k in res ];"
   ]
  },
  {
   "cell_type": "code",
   "execution_count": 10,
   "id": "015de740",
   "metadata": {
    "execution": {
     "iopub.execute_input": "2023-09-20T04:07:52.670269Z",
     "iopub.status.busy": "2023-09-20T04:07:52.669671Z",
     "iopub.status.idle": "2023-09-20T04:07:52.690564Z",
     "shell.execute_reply": "2023-09-20T04:07:52.689792Z"
    },
    "papermill": {
     "duration": 0.029329,
     "end_time": "2023-09-20T04:07:52.692264",
     "exception": false,
     "start_time": "2023-09-20T04:07:52.662935",
     "status": "completed"
    },
    "tags": []
   },
   "outputs": [
    {
     "name": "stdout",
     "output_type": "stream",
     "text": [
      "9  publications in the last 7 days.\n"
     ]
    }
   ],
   "source": [
    "import datetime\n",
    "from glob import glob\n",
    "\n",
    "def get_last_n_days(lst, days=1):\n",
    "    \"\"\" Get the documents from the last n days \"\"\"\n",
    "    sorted_lst = sorted(lst, key=lambda x: x[1], reverse=True)\n",
    "    for fname, date in sorted_lst:\n",
    "        if date >= str(datetime.date.today() - datetime.timedelta(days=days)):\n",
    "            yield fname\n",
    "\n",
    "def extract_appearance_dates(lst_file):\n",
    "    dates = []\n",
    "\n",
    "    def get_date(line):\n",
    "        return line\\\n",
    "            .split('Appeared on:')[-1]\\\n",
    "            .split('</mark>')[0].strip()\n",
    "\n",
    "    for fname in lst:\n",
    "        with open(fname, 'r') as f:\n",
    "            found_date = False\n",
    "            for line in f:\n",
    "                if not found_date:\n",
    "                    if \"Appeared on\" in line:\n",
    "                        found_date = True\n",
    "                        dates.append((fname, get_date(line)))\n",
    "                else:\n",
    "                    break\n",
    "    return dates\n",
    "\n",
    "from glob import glob\n",
    "lst = glob('_build/html/*md')\n",
    "days = 7\n",
    "dates = extract_appearance_dates(lst)\n",
    "res = list(get_last_n_days(dates, days))\n",
    "npub = len(res)\n",
    "print(len(res), f\" publications in the last {days:d} days.\")"
   ]
  },
  {
   "cell_type": "code",
   "execution_count": 11,
   "id": "52ca0208",
   "metadata": {
    "execution": {
     "iopub.execute_input": "2023-09-20T04:07:52.706842Z",
     "iopub.status.busy": "2023-09-20T04:07:52.706096Z",
     "iopub.status.idle": "2023-09-20T04:07:52.712133Z",
     "shell.execute_reply": "2023-09-20T04:07:52.711499Z"
    },
    "papermill": {
     "duration": 0.015432,
     "end_time": "2023-09-20T04:07:52.713743",
     "exception": false,
     "start_time": "2023-09-20T04:07:52.698311",
     "status": "completed"
    },
    "scrolled": false,
    "tags": []
   },
   "outputs": [],
   "source": [
    "def create_carousel(npub=4):\n",
    "    \"\"\" Generate the HTML code for a carousel with `npub` slides \"\"\"\n",
    "    carousel = [\"\"\"  <div class=\"carousel\" \"\"\",\n",
    "                \"\"\"       data-flickity='{ \"autoPlay\": 10000, \"adaptiveHeight\": true, \"resize\": true, \"wrapAround\": true, \"pauseAutoPlayOnHover\": true, \"groupCells\": 1 }' id=\"asyncTypeset\">\"\"\"\n",
    "                ]\n",
    "    \n",
    "    item_str = \"\"\"    <div class=\"carousel-cell\"> <div id=\"slide{k}\" class=\"md_view\">Content {k}</div> </div>\"\"\"\n",
    "    for k in range(1, npub + 1):\n",
    "        carousel.append(item_str.format(k=k))\n",
    "    carousel.append(\"  </div>\")\n",
    "    return '\\n'.join(carousel)\n",
    "\n",
    "def create_grid(npub=4):\n",
    "    \"\"\" Generate the HTML code for a flat grid with `npub` slides \"\"\"\n",
    "    grid = [\"\"\"  <div class=\"grid\"> \"\"\",\n",
    "                ]\n",
    "    \n",
    "    item_str = \"\"\"    <div class=\"grid-item\"> <div id=\"slide{k}\" class=\"md_view\">Content {k}</div> </div>\"\"\"\n",
    "    for k in range(1, npub + 1):\n",
    "        grid.append(item_str.format(k=k))\n",
    "    grid.append(\"  </div>\")\n",
    "    return '\\n'.join(grid)"
   ]
  },
  {
   "cell_type": "code",
   "execution_count": 12,
   "id": "a6eac5b6",
   "metadata": {
    "execution": {
     "iopub.execute_input": "2023-09-20T04:07:52.728910Z",
     "iopub.status.busy": "2023-09-20T04:07:52.728487Z",
     "iopub.status.idle": "2023-09-20T04:07:52.734332Z",
     "shell.execute_reply": "2023-09-20T04:07:52.733655Z"
    },
    "papermill": {
     "duration": 0.015023,
     "end_time": "2023-09-20T04:07:52.735679",
     "exception": false,
     "start_time": "2023-09-20T04:07:52.720656",
     "status": "completed"
    },
    "scrolled": false,
    "tags": []
   },
   "outputs": [],
   "source": [
    "carousel = create_carousel(npub)\n",
    "docs = ', '.join(['\"{0:s}\"'.format(k.split('/')[-1]) for k in res])\n",
    "slides = ', '.join([f'\"slide{k}\"' for k in range(1, npub + 1)])\n",
    "\n",
    "with open(\"daily_template.html\", \"r\") as tpl:\n",
    "    page = tpl.read()\n",
    "    page = page.replace(\"{%-- carousel:s --%}\", carousel)\\\n",
    "               .replace(\"{%-- suptitle:s --%}\",  \"7-day archives\" )\\\n",
    "               .replace(\"{%-- docs:s --%}\", docs)\\\n",
    "               .replace(\"{%-- slides:s --%}\", slides)\n",
    "    \n",
    "with open(\"_build/html/index_7days.html\", 'w') as fout:\n",
    "    fout.write(page)"
   ]
  },
  {
   "cell_type": "code",
   "execution_count": 13,
   "id": "adc1a1ec",
   "metadata": {
    "execution": {
     "iopub.execute_input": "2023-09-20T04:07:52.748811Z",
     "iopub.status.busy": "2023-09-20T04:07:52.748414Z",
     "iopub.status.idle": "2023-09-20T04:07:52.755490Z",
     "shell.execute_reply": "2023-09-20T04:07:52.755012Z"
    },
    "papermill": {
     "duration": 0.015703,
     "end_time": "2023-09-20T04:07:52.756963",
     "exception": false,
     "start_time": "2023-09-20T04:07:52.741260",
     "status": "completed"
    },
    "tags": []
   },
   "outputs": [
    {
     "name": "stdout",
     "output_type": "stream",
     "text": [
      "4  publications in the last day.\n"
     ]
    }
   ],
   "source": [
    "# redo for today\n",
    "days = 1\n",
    "res = list(get_last_n_days(dates, days))\n",
    "npub = len(res)\n",
    "print(len(res), f\" publications in the last day.\")\n",
    "\n",
    "carousel = create_carousel(npub)\n",
    "docs = ', '.join(['\"{0:s}\"'.format(k.split('/')[-1]) for k in res])\n",
    "slides = ', '.join([f'\"slide{k}\"' for k in range(1, npub + 1)])\n",
    "\n",
    "with open(\"daily_template.html\", \"r\") as tpl:\n",
    "    page = tpl.read()\n",
    "    page = page.replace(\"{%-- carousel:s --%}\", carousel)\\\n",
    "               .replace(\"{%-- suptitle:s --%}\",  \"Daily\" )\\\n",
    "               .replace(\"{%-- docs:s --%}\", docs)\\\n",
    "               .replace(\"{%-- slides:s --%}\", slides)\n",
    "    \n",
    "# print(carousel, docs, slides)\n",
    "# print(page)\n",
    "with open(\"_build/html/index_daily.html\", 'w') as fout:\n",
    "    fout.write(page)"
   ]
  },
  {
   "cell_type": "code",
   "execution_count": 14,
   "id": "00eece82",
   "metadata": {
    "execution": {
     "iopub.execute_input": "2023-09-20T04:07:52.776117Z",
     "iopub.status.busy": "2023-09-20T04:07:52.775756Z",
     "iopub.status.idle": "2023-09-20T04:07:52.791857Z",
     "shell.execute_reply": "2023-09-20T04:07:52.788374Z"
    },
    "papermill": {
     "duration": 0.030485,
     "end_time": "2023-09-20T04:07:52.793740",
     "exception": false,
     "start_time": "2023-09-20T04:07:52.763255",
     "status": "completed"
    },
    "scrolled": false,
    "tags": []
   },
   "outputs": [
    {
     "name": "stdout",
     "output_type": "stream",
     "text": [
      "6  6 publications selected.\n"
     ]
    }
   ],
   "source": [
    "# Create the flat grid of the last N papers (fixed number regardless of dates)\n",
    "from itertools import islice \n",
    "\n",
    "npub = 6\n",
    "res = [k[0] for k in (islice(reversed(sorted(dates, key=lambda x: x[1])), 6))]\n",
    "print(len(res), f\" {npub} publications selected.\")\n",
    "\n",
    "grid = create_grid(npub)\n",
    "docs = ', '.join(['\"{0:s}\"'.format(k.split('/')[-1]) for k in res])\n",
    "slides = ', '.join([f'\"slide{k}\"' for k in range(1, npub + 1)])\n",
    "\n",
    "with open(\"grid_template.html\", \"r\") as tpl:\n",
    "    page = tpl.read()\n",
    "    page = page.replace(\"{%-- grid-content:s --%}\", grid)\\\n",
    "               .replace(\"{%-- suptitle:s --%}\",  f\"Last {npub:,d} papers\" )\\\n",
    "               .replace(\"{%-- docs:s --%}\", docs)\\\n",
    "               .replace(\"{%-- slides:s --%}\", slides)\n",
    "    \n",
    "# print(grid, docs, slides)\n",
    "# print(page)\n",
    "with open(\"_build/html/index_npub_grid.html\", 'w') as fout:\n",
    "    fout.write(page)"
   ]
  }
 ],
 "metadata": {
  "kernelspec": {
   "display_name": "Python 3 (ipykernel)",
   "language": "python",
   "name": "python3"
  },
  "language_info": {
   "codemirror_mode": {
    "name": "ipython",
    "version": 3
   },
   "file_extension": ".py",
   "mimetype": "text/x-python",
   "name": "python",
   "nbconvert_exporter": "python",
   "pygments_lexer": "ipython3",
   "version": "3.9.18"
  },
  "papermill": {
   "default_parameters": {},
   "duration": 68.5225,
   "end_time": "2023-09-20T04:07:53.022917",
   "environment_variables": {},
   "exception": null,
   "input_path": "MPIA daily digest.ipynb",
   "output_path": "log.ipynb",
   "parameters": {},
   "start_time": "2023-09-20T04:06:44.500417",
   "version": "2.4.0"
  },
  "vscode": {
   "interpreter": {
    "hash": "aee8b7b246df8f9039afb4144a1f6fd8d2ca17a180786b69acc140d282b71a49"
   }
  },
  "widgets": {
   "application/vnd.jupyter.widget-state+json": {
    "state": {
     "1eb590fb06374bfc9959843148356d51": {
      "model_module": "@jupyter-widgets/controls",
      "model_module_version": "2.0.0",
      "model_name": "FloatProgressModel",
      "state": {
       "_dom_classes": [],
       "_model_module": "@jupyter-widgets/controls",
       "_model_module_version": "2.0.0",
       "_model_name": "FloatProgressModel",
       "_view_count": null,
       "_view_module": "@jupyter-widgets/controls",
       "_view_module_version": "2.0.0",
       "_view_name": "ProgressView",
       "bar_style": "success",
       "description": "",
       "description_allow_html": false,
       "layout": "IPY_MODEL_c66243926019420fa805c9379bc75e21",
       "max": 3.0,
       "min": 0.0,
       "orientation": "horizontal",
       "style": "IPY_MODEL_5fd609a85c0c4e95b2855c55dfae5e25",
       "tabbable": null,
       "tooltip": null,
       "value": 3.0
      }
     },
     "21f3ee99c7854f5496863f761ef11079": {
      "model_module": "@jupyter-widgets/controls",
      "model_module_version": "2.0.0",
      "model_name": "HTMLModel",
      "state": {
       "_dom_classes": [],
       "_model_module": "@jupyter-widgets/controls",
       "_model_module_version": "2.0.0",
       "_model_name": "HTMLModel",
       "_view_count": null,
       "_view_module": "@jupyter-widgets/controls",
       "_view_module_version": "2.0.0",
       "_view_name": "HTMLView",
       "description": "",
       "description_allow_html": false,
       "layout": "IPY_MODEL_9f792107c6294a848bda7d8c4a8385d3",
       "placeholder": "​",
       "style": "IPY_MODEL_2a27073093d44bf987566dfce9dd78e6",
       "tabbable": null,
       "tooltip": null,
       "value": " 3/3 [00:33&lt;00:00, 13.67s/it]"
      }
     },
     "26d155fa77694e608639415eadb7881f": {
      "model_module": "@jupyter-widgets/base",
      "model_module_version": "2.0.0",
      "model_name": "LayoutModel",
      "state": {
       "_model_module": "@jupyter-widgets/base",
       "_model_module_version": "2.0.0",
       "_model_name": "LayoutModel",
       "_view_count": null,
       "_view_module": "@jupyter-widgets/base",
       "_view_module_version": "2.0.0",
       "_view_name": "LayoutView",
       "align_content": null,
       "align_items": null,
       "align_self": null,
       "border_bottom": null,
       "border_left": null,
       "border_right": null,
       "border_top": null,
       "bottom": null,
       "display": null,
       "flex": null,
       "flex_flow": null,
       "grid_area": null,
       "grid_auto_columns": null,
       "grid_auto_flow": null,
       "grid_auto_rows": null,
       "grid_column": null,
       "grid_gap": null,
       "grid_row": null,
       "grid_template_areas": null,
       "grid_template_columns": null,
       "grid_template_rows": null,
       "height": null,
       "justify_content": null,
       "justify_items": null,
       "left": null,
       "margin": null,
       "max_height": null,
       "max_width": null,
       "min_height": null,
       "min_width": null,
       "object_fit": null,
       "object_position": null,
       "order": null,
       "overflow": null,
       "padding": null,
       "right": null,
       "top": null,
       "visibility": null,
       "width": null
      }
     },
     "2a27073093d44bf987566dfce9dd78e6": {
      "model_module": "@jupyter-widgets/controls",
      "model_module_version": "2.0.0",
      "model_name": "HTMLStyleModel",
      "state": {
       "_model_module": "@jupyter-widgets/controls",
       "_model_module_version": "2.0.0",
       "_model_name": "HTMLStyleModel",
       "_view_count": null,
       "_view_module": "@jupyter-widgets/base",
       "_view_module_version": "2.0.0",
       "_view_name": "StyleView",
       "background": null,
       "description_width": "",
       "font_size": null,
       "text_color": null
      }
     },
     "4be40dba77e543b7828fd9cf87e7b33a": {
      "model_module": "@jupyter-widgets/base",
      "model_module_version": "2.0.0",
      "model_name": "LayoutModel",
      "state": {
       "_model_module": "@jupyter-widgets/base",
       "_model_module_version": "2.0.0",
       "_model_name": "LayoutModel",
       "_view_count": null,
       "_view_module": "@jupyter-widgets/base",
       "_view_module_version": "2.0.0",
       "_view_name": "LayoutView",
       "align_content": null,
       "align_items": null,
       "align_self": null,
       "border_bottom": null,
       "border_left": null,
       "border_right": null,
       "border_top": null,
       "bottom": null,
       "display": null,
       "flex": null,
       "flex_flow": null,
       "grid_area": null,
       "grid_auto_columns": null,
       "grid_auto_flow": null,
       "grid_auto_rows": null,
       "grid_column": null,
       "grid_gap": null,
       "grid_row": null,
       "grid_template_areas": null,
       "grid_template_columns": null,
       "grid_template_rows": null,
       "height": null,
       "justify_content": null,
       "justify_items": null,
       "left": null,
       "margin": null,
       "max_height": null,
       "max_width": null,
       "min_height": null,
       "min_width": null,
       "object_fit": null,
       "object_position": null,
       "order": null,
       "overflow": null,
       "padding": null,
       "right": null,
       "top": null,
       "visibility": null,
       "width": null
      }
     },
     "5fd609a85c0c4e95b2855c55dfae5e25": {
      "model_module": "@jupyter-widgets/controls",
      "model_module_version": "2.0.0",
      "model_name": "ProgressStyleModel",
      "state": {
       "_model_module": "@jupyter-widgets/controls",
       "_model_module_version": "2.0.0",
       "_model_name": "ProgressStyleModel",
       "_view_count": null,
       "_view_module": "@jupyter-widgets/base",
       "_view_module_version": "2.0.0",
       "_view_name": "StyleView",
       "bar_color": null,
       "description_width": ""
      }
     },
     "69315052c09f46b588d2c0c1bc349ae7": {
      "model_module": "@jupyter-widgets/controls",
      "model_module_version": "2.0.0",
      "model_name": "HTMLModel",
      "state": {
       "_dom_classes": [],
       "_model_module": "@jupyter-widgets/controls",
       "_model_module_version": "2.0.0",
       "_model_name": "HTMLModel",
       "_view_count": null,
       "_view_module": "@jupyter-widgets/controls",
       "_view_module_version": "2.0.0",
       "_view_name": "HTMLView",
       "description": "",
       "description_allow_html": false,
       "layout": "IPY_MODEL_4be40dba77e543b7828fd9cf87e7b33a",
       "placeholder": "​",
       "style": "IPY_MODEL_bcc50679742a47b9aeb5dcf052a55fad",
       "tabbable": null,
       "tooltip": null,
       "value": "100%"
      }
     },
     "9f792107c6294a848bda7d8c4a8385d3": {
      "model_module": "@jupyter-widgets/base",
      "model_module_version": "2.0.0",
      "model_name": "LayoutModel",
      "state": {
       "_model_module": "@jupyter-widgets/base",
       "_model_module_version": "2.0.0",
       "_model_name": "LayoutModel",
       "_view_count": null,
       "_view_module": "@jupyter-widgets/base",
       "_view_module_version": "2.0.0",
       "_view_name": "LayoutView",
       "align_content": null,
       "align_items": null,
       "align_self": null,
       "border_bottom": null,
       "border_left": null,
       "border_right": null,
       "border_top": null,
       "bottom": null,
       "display": null,
       "flex": null,
       "flex_flow": null,
       "grid_area": null,
       "grid_auto_columns": null,
       "grid_auto_flow": null,
       "grid_auto_rows": null,
       "grid_column": null,
       "grid_gap": null,
       "grid_row": null,
       "grid_template_areas": null,
       "grid_template_columns": null,
       "grid_template_rows": null,
       "height": null,
       "justify_content": null,
       "justify_items": null,
       "left": null,
       "margin": null,
       "max_height": null,
       "max_width": null,
       "min_height": null,
       "min_width": null,
       "object_fit": null,
       "object_position": null,
       "order": null,
       "overflow": null,
       "padding": null,
       "right": null,
       "top": null,
       "visibility": null,
       "width": null
      }
     },
     "bcc50679742a47b9aeb5dcf052a55fad": {
      "model_module": "@jupyter-widgets/controls",
      "model_module_version": "2.0.0",
      "model_name": "HTMLStyleModel",
      "state": {
       "_model_module": "@jupyter-widgets/controls",
       "_model_module_version": "2.0.0",
       "_model_name": "HTMLStyleModel",
       "_view_count": null,
       "_view_module": "@jupyter-widgets/base",
       "_view_module_version": "2.0.0",
       "_view_name": "StyleView",
       "background": null,
       "description_width": "",
       "font_size": null,
       "text_color": null
      }
     },
     "c66243926019420fa805c9379bc75e21": {
      "model_module": "@jupyter-widgets/base",
      "model_module_version": "2.0.0",
      "model_name": "LayoutModel",
      "state": {
       "_model_module": "@jupyter-widgets/base",
       "_model_module_version": "2.0.0",
       "_model_name": "LayoutModel",
       "_view_count": null,
       "_view_module": "@jupyter-widgets/base",
       "_view_module_version": "2.0.0",
       "_view_name": "LayoutView",
       "align_content": null,
       "align_items": null,
       "align_self": null,
       "border_bottom": null,
       "border_left": null,
       "border_right": null,
       "border_top": null,
       "bottom": null,
       "display": null,
       "flex": null,
       "flex_flow": null,
       "grid_area": null,
       "grid_auto_columns": null,
       "grid_auto_flow": null,
       "grid_auto_rows": null,
       "grid_column": null,
       "grid_gap": null,
       "grid_row": null,
       "grid_template_areas": null,
       "grid_template_columns": null,
       "grid_template_rows": null,
       "height": null,
       "justify_content": null,
       "justify_items": null,
       "left": null,
       "margin": null,
       "max_height": null,
       "max_width": null,
       "min_height": null,
       "min_width": null,
       "object_fit": null,
       "object_position": null,
       "order": null,
       "overflow": null,
       "padding": null,
       "right": null,
       "top": null,
       "visibility": null,
       "width": null
      }
     },
     "d4cd5241046146e3be319a9a7cea0323": {
      "model_module": "@jupyter-widgets/controls",
      "model_module_version": "2.0.0",
      "model_name": "HBoxModel",
      "state": {
       "_dom_classes": [],
       "_model_module": "@jupyter-widgets/controls",
       "_model_module_version": "2.0.0",
       "_model_name": "HBoxModel",
       "_view_count": null,
       "_view_module": "@jupyter-widgets/controls",
       "_view_module_version": "2.0.0",
       "_view_name": "HBoxView",
       "box_style": "",
       "children": [
        "IPY_MODEL_69315052c09f46b588d2c0c1bc349ae7",
        "IPY_MODEL_1eb590fb06374bfc9959843148356d51",
        "IPY_MODEL_21f3ee99c7854f5496863f761ef11079"
       ],
       "layout": "IPY_MODEL_26d155fa77694e608639415eadb7881f",
       "tabbable": null,
       "tooltip": null
      }
     }
    },
    "version_major": 2,
    "version_minor": 0
   }
  }
 },
 "nbformat": 4,
 "nbformat_minor": 5
}