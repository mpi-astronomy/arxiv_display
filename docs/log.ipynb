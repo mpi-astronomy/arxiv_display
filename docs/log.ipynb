{
 "cells": [
  {
   "cell_type": "markdown",
   "id": "92bcb855",
   "metadata": {
    "papermill": {
     "duration": 0.005441,
     "end_time": "2023-02-03T04:07:25.090604",
     "exception": false,
     "start_time": "2023-02-03T04:07:25.085163",
     "status": "completed"
    },
    "tags": []
   },
   "source": [
    "# MPIA Arxiv on Deck 2\n",
    "\n",
    "Contains the steps to produce the paper extractions."
   ]
  },
  {
   "cell_type": "code",
   "execution_count": 1,
   "id": "3a0d6e11",
   "metadata": {
    "execution": {
     "iopub.execute_input": "2023-02-03T04:07:25.101050Z",
     "iopub.status.busy": "2023-02-03T04:07:25.100436Z",
     "iopub.status.idle": "2023-02-03T04:07:25.299026Z",
     "shell.execute_reply": "2023-02-03T04:07:25.298316Z"
    },
    "papermill": {
     "duration": 0.2063,
     "end_time": "2023-02-03T04:07:25.301333",
     "exception": false,
     "start_time": "2023-02-03T04:07:25.095033",
     "status": "completed"
    },
    "tags": []
   },
   "outputs": [],
   "source": [
    "# Imports\n",
    "import os\n",
    "from IPython.display import Markdown, display\n",
    "from tqdm.notebook import tqdm\n",
    "import warnings\n",
    "from PIL import Image \n",
    "\n",
    "# requires arxiv_on_deck_2\n",
    "\n",
    "from arxiv_on_deck_2.arxiv2 import (get_new_papers, \n",
    "                                    get_paper_from_identifier,\n",
    "                                    retrieve_document_source, \n",
    "                                    get_markdown_badge)\n",
    "from arxiv_on_deck_2 import (latex, \n",
    "                             mpia,\n",
    "                             highlight_authors_in_list)\n",
    "\n",
    "# Sometimes images are really big\n",
    "Image.MAX_IMAGE_PIXELS = 1000000000 "
   ]
  },
  {
   "cell_type": "code",
   "execution_count": 2,
   "id": "22aa9d44",
   "metadata": {
    "execution": {
     "iopub.execute_input": "2023-02-03T04:07:25.312807Z",
     "iopub.status.busy": "2023-02-03T04:07:25.312348Z",
     "iopub.status.idle": "2023-02-03T04:07:25.317195Z",
     "shell.execute_reply": "2023-02-03T04:07:25.316520Z"
    },
    "papermill": {
     "duration": 0.012508,
     "end_time": "2023-02-03T04:07:25.319098",
     "exception": false,
     "start_time": "2023-02-03T04:07:25.306590",
     "status": "completed"
    },
    "tags": []
   },
   "outputs": [],
   "source": [
    "# Some useful definitions.\n",
    "\n",
    "class AffiliationWarning(UserWarning):\n",
    "    pass\n",
    "\n",
    "class AffiliationError(RuntimeError):\n",
    "    pass\n",
    "\n",
    "def validation(source: str):\n",
    "    \"\"\"Raises error paper during parsing of source file\n",
    "    \n",
    "    Allows checks before parsing TeX code.\n",
    "    \n",
    "    Raises AffiliationWarning\n",
    "    \"\"\"\n",
    "    check = mpia.affiliation_verifications(source, verbose=True)\n",
    "    if check is not True:\n",
    "        raise AffiliationError(\"mpia.affiliation_verifications: \" + check)\n",
    "\n",
    "        \n",
    "warnings.simplefilter('always', AffiliationWarning)"
   ]
  },
  {
   "cell_type": "code",
   "execution_count": 3,
   "id": "14622700",
   "metadata": {
    "execution": {
     "iopub.execute_input": "2023-02-03T04:07:25.330586Z",
     "iopub.status.busy": "2023-02-03T04:07:25.329970Z",
     "iopub.status.idle": "2023-02-03T04:07:25.334586Z",
     "shell.execute_reply": "2023-02-03T04:07:25.334088Z"
    },
    "papermill": {
     "duration": 0.018822,
     "end_time": "2023-02-03T04:07:25.341854",
     "exception": false,
     "start_time": "2023-02-03T04:07:25.323032",
     "status": "completed"
    },
    "tags": []
   },
   "outputs": [],
   "source": [
    "# additional CSS to consider. \n",
    "# TODO: Current into each exported file. \n",
    "#       This should be set once into the webpages directly.\n",
    "#       With only the class/id definitions in the .md files.\n",
    "\n",
    "debug_html = \"\"\"\n",
    "<style>\n",
    "#wrap{ overflow:auto; }\n",
    "#fig1{ background:yellow; width:100%; float:left; padding:5px;  }\n",
    "#fig2{ background:red; width:50%; float:left; clear:left; padding:5px;  }\n",
    "#fig3{ background:green; width:50%; float:left; padding:5px;   }\n",
    ".macros{ background:yellow; visibility:visible;}\n",
    "h1 {margin: 0 0 0 0;}\n",
    "mark {background-color:#fff3b6;}\n",
    "img {object-fit:contain; max-height:250px; display:inline-block; text-align: center;}\n",
    "</style>\n",
    "\"\"\" \n",
    "html = \"\"\"\n",
    "<style>\n",
    "#wrap{ overflow:auto; }\n",
    "#fig1{ width:100%; float:left; padding: 5px;  }\n",
    "#fig2{ width:50%; float:left; clear:left; padding: 5px;  }\n",
    "#fig3{ width:50%; float:left; padding: 5px;  }\n",
    ".macros{ visibility:hidden; height:0px; }\n",
    "h1 {margin: 0em 0 0 0;}\n",
    "mark {background-color:#fff3b6;}\n",
    "img {object-fit:contain; max-height:250px; display:inline-block; text-align: center;}\n",
    "</style>\n",
    "\"\"\""
   ]
  },
  {
   "cell_type": "markdown",
   "id": "14bd6310",
   "metadata": {
    "papermill": {
     "duration": 0.004111,
     "end_time": "2023-02-03T04:07:25.350144",
     "exception": false,
     "start_time": "2023-02-03T04:07:25.346033",
     "status": "completed"
    },
    "tags": []
   },
   "source": [
    "## get list of arxiv paper candidates\n",
    "\n",
    "We use the MPIA mitarbeiter list webpage from mpia.de to get author names\n",
    "We then get all new papers from Arxiv and match authors"
   ]
  },
  {
   "cell_type": "code",
   "execution_count": 4,
   "id": "2645e73a",
   "metadata": {
    "execution": {
     "iopub.execute_input": "2023-02-03T04:07:25.359708Z",
     "iopub.status.busy": "2023-02-03T04:07:25.359121Z",
     "iopub.status.idle": "2023-02-03T04:07:48.040960Z",
     "shell.execute_reply": "2023-02-03T04:07:48.040127Z"
    },
    "papermill": {
     "duration": 22.688889,
     "end_time": "2023-02-03T04:07:48.042949",
     "exception": false,
     "start_time": "2023-02-03T04:07:25.354060",
     "status": "completed"
    },
    "tags": []
   },
   "outputs": [
    {
     "name": "stdout",
     "output_type": "stream",
     "text": [
      "Arxiv has 36 new papers today\n",
      "          12 with possible author matches\n"
     ]
    }
   ],
   "source": [
    "# get list from MPIA website\n",
    "# it automatically filters identified non-scientists :func:`mpia.filter_non_scientists`\n",
    "mpia_authors = mpia.get_mpia_mitarbeiter_list()\n",
    "new_papers = get_new_papers()\n",
    "# add manual references\n",
    "add_paper_refs = []\n",
    "new_papers.extend([get_paper_from_identifier(k) for k in add_paper_refs])\n",
    "\n",
    "# select only papers with matching author names and highlight authors\n",
    "hl_list = [k[0] for k in mpia_authors]\n",
    "\n",
    "candidates = []\n",
    "for paperk in new_papers:\n",
    "    hl_authors = highlight_authors_in_list(paperk['authors'], hl_list)\n",
    "    matches = [(hl, orig) for hl, orig in zip(hl_authors, paperk['authors']) if 'mark' in hl]\n",
    "    paperk['authors'] = hl_authors\n",
    "    if matches:\n",
    "        candidates.append(paperk)\n",
    "print(\"\"\"Arxiv has {0:,d} new papers today\"\"\".format(len(new_papers)))        \n",
    "print(\"\"\"          {0:,d} with possible author matches\"\"\".format(len(candidates)))"
   ]
  },
  {
   "cell_type": "markdown",
   "id": "3543b34a",
   "metadata": {
    "papermill": {
     "duration": 0.004714,
     "end_time": "2023-02-03T04:07:48.053119",
     "exception": false,
     "start_time": "2023-02-03T04:07:48.048405",
     "status": "completed"
    },
    "tags": []
   },
   "source": [
    "# Parse sources and generate relevant outputs\n",
    "\n",
    "From the candidates, we do the following steps:\n",
    "* get their tarball from ArXiv (and extract data)\n",
    "* find the main .tex file: find one with \\documentclass{...} (sometimes it's non trivial)\n",
    "* Check affiliations with :func:`validation`, which uses :func:`mpia.affiliation_verifications`\n",
    "* If passing the affiliations: we parse the .tex source\n",
    "   * inject sub-documents into the main (flatten the main document)\n",
    "   * parse structure, extract information (title, abstract, authors, figures...)\n",
    "   * handles `\\graphicspath` if provided\n",
    "* Generate the .md document."
   ]
  },
  {
   "cell_type": "code",
   "execution_count": 5,
   "id": "9576b79e",
   "metadata": {
    "execution": {
     "iopub.execute_input": "2023-02-03T04:07:48.063686Z",
     "iopub.status.busy": "2023-02-03T04:07:48.063041Z",
     "iopub.status.idle": "2023-02-03T04:07:55.564628Z",
     "shell.execute_reply": "2023-02-03T04:07:55.563846Z"
    },
    "papermill": {
     "duration": 7.508789,
     "end_time": "2023-02-03T04:07:55.566474",
     "exception": false,
     "start_time": "2023-02-03T04:07:48.057685",
     "status": "completed"
    },
    "scrolled": false,
    "tags": []
   },
   "outputs": [
    {
     "data": {
      "application/vnd.jupyter.widget-view+json": {
       "model_id": "250771f69bea42d484e20d6034737407",
       "version_major": 2,
       "version_minor": 0
      },
      "text/plain": [
       "  0%|          | 0/11 [00:00<?, ?it/s]"
      ]
     },
     "metadata": {},
     "output_type": "display_data"
    },
    {
     "name": "stdout",
     "output_type": "stream",
     "text": [
      "Retrieving document from  https://arxiv.org/e-print/2302.00679\n"
     ]
    },
    {
     "name": "stdout",
     "output_type": "stream",
     "text": [
      "extracting tarball to tmp_2302.00679... done.\n",
      "Retrieving document from  https://arxiv.org/e-print/2302.00699\n"
     ]
    },
    {
     "name": "stdout",
     "output_type": "stream",
     "text": [
      "extracting tarball to tmp_2302.00699..."
     ]
    },
    {
     "name": "stdout",
     "output_type": "stream",
     "text": [
      " done.\n",
      "Retrieving document from  https://arxiv.org/e-print/2302.00718\n"
     ]
    },
    {
     "name": "stdout",
     "output_type": "stream",
     "text": [
      "extracting tarball to tmp_2302.00718... done.\n",
      "Retrieving document from  https://arxiv.org/e-print/2302.00769\n"
     ]
    },
    {
     "name": "stdout",
     "output_type": "stream",
     "text": [
      "extracting tarball to tmp_2302.00769... done.\n",
      "Retrieving document from  https://arxiv.org/e-print/2302.00943\n"
     ]
    },
    {
     "name": "stdout",
     "output_type": "stream",
     "text": [
      "extracting tarball to tmp_2302.00943... done.\n",
      "Retrieving document from  https://arxiv.org/e-print/2302.01102\n"
     ]
    },
    {
     "name": "stdout",
     "output_type": "stream",
     "text": [
      "extracting tarball to tmp_2302.01102..."
     ]
    },
    {
     "name": "stdout",
     "output_type": "stream",
     "text": [
      " done.\n",
      "Retrieving document from  https://arxiv.org/e-print/2302.01168\n"
     ]
    },
    {
     "name": "stdout",
     "output_type": "stream",
     "text": [
      "extracting tarball to tmp_2302.01168..."
     ]
    },
    {
     "name": "stdout",
     "output_type": "stream",
     "text": [
      " done.\n",
      "Retrieving document from  https://arxiv.org/e-print/2302.01232\n"
     ]
    },
    {
     "name": "stdout",
     "output_type": "stream",
     "text": [
      "extracting tarball to tmp_2302.01232..."
     ]
    },
    {
     "name": "stdout",
     "output_type": "stream",
     "text": [
      " done.\n",
      "Retrieving document from  https://arxiv.org/e-print/2302.01239\n"
     ]
    },
    {
     "name": "stdout",
     "output_type": "stream",
     "text": [
      "extracting tarball to tmp_2302.01239..."
     ]
    },
    {
     "name": "stdout",
     "output_type": "stream",
     "text": [
      " done.\n",
      "Retrieving document from  https://arxiv.org/e-print/2302.01245\n"
     ]
    },
    {
     "name": "stdout",
     "output_type": "stream",
     "text": [
      "extracting tarball to tmp_2302.01245..."
     ]
    },
    {
     "name": "stdout",
     "output_type": "stream",
     "text": [
      " done.\n",
      "Retrieving document from  https://arxiv.org/e-print/2302.01276\n"
     ]
    },
    {
     "name": "stderr",
     "output_type": "stream",
     "text": [
      "/tmp/ipykernel_2070/4030337529.py:34: LatexWarning: 2302.01276 did not run properly\n",
      "not a gzip file\n",
      "  warnings.warn(latex.LatexWarning(f\"{paper_id:s} did not run properly\\n\" +\n"
     ]
    }
   ],
   "source": [
    "documents = []\n",
    "failed = []\n",
    "for paper in tqdm(candidates[:-1]):\n",
    "    paper_id = paper['identifier'].lower().replace('arxiv:', '')\n",
    "    \n",
    "    folder = f'tmp_{paper_id}'\n",
    "\n",
    "    try:\n",
    "        if not os.path.isdir(folder):\n",
    "            folder = retrieve_document_source(f\"{paper_id}\", f'tmp_{paper_id}')\n",
    "        \n",
    "        try:\n",
    "            doc = latex.LatexDocument(folder, validation=validation)    \n",
    "        except AffiliationError as affilerror:\n",
    "            msg = f\"ArXiv:{paper_id:s} is not an MPIA paper... \" + str(affilerror)\n",
    "            failed.append((paper, \"affiliation error: \" + str(affilerror) ))\n",
    "            continue\n",
    "        \n",
    "        # Hack because sometimes author parsing does not work well\n",
    "        if (len(doc.authors) != len(paper['authors'])):\n",
    "            doc._authors = paper['authors']\n",
    "        if (doc.abstract) in (None, ''):\n",
    "            doc._abstract = paper['abstract']\n",
    "            \n",
    "        doc.comment = (get_markdown_badge(paper_id) + \n",
    "                       \"<mark>Appeared on: \" + paper['date'] + \"</mark> - \" +\n",
    "                       \"_\" + paper['comments'] + \"_\")\n",
    "        doc.highlight_authors_in_list(hl_list)\n",
    "\n",
    "        full_md = doc.generate_markdown_text()\n",
    "        \n",
    "        documents.append((paper_id, full_md))\n",
    "    except Exception as e:\n",
    "        warnings.warn(latex.LatexWarning(f\"{paper_id:s} did not run properly\\n\" +\n",
    "                                         str(e)\n",
    "                                        ))\n",
    "        failed.append((paper, \"latex error \" + str(e)))"
   ]
  },
  {
   "cell_type": "markdown",
   "id": "2505a25c",
   "metadata": {
    "papermill": {
     "duration": 0.005427,
     "end_time": "2023-02-03T04:07:55.577570",
     "exception": false,
     "start_time": "2023-02-03T04:07:55.572143",
     "status": "completed"
    },
    "tags": []
   },
   "source": [
    "### Export the logs\n",
    "\n",
    "Throughout, we also keep track of the logs per paper. see `logs-{today date}.md` "
   ]
  },
  {
   "cell_type": "code",
   "execution_count": 6,
   "id": "d733828a",
   "metadata": {
    "execution": {
     "iopub.execute_input": "2023-02-03T04:07:55.589218Z",
     "iopub.status.busy": "2023-02-03T04:07:55.588765Z",
     "iopub.status.idle": "2023-02-03T04:07:55.610384Z",
     "shell.execute_reply": "2023-02-03T04:07:55.609742Z"
    },
    "papermill": {
     "duration": 0.029152,
     "end_time": "2023-02-03T04:07:55.611877",
     "exception": false,
     "start_time": "2023-02-03T04:07:55.582725",
     "status": "completed"
    },
    "scrolled": false,
    "tags": []
   },
   "outputs": [
    {
     "data": {
      "text/markdown": [
       "## Successful papers"
      ],
      "text/plain": [
       "<IPython.core.display.Markdown object>"
      ]
     },
     "metadata": {},
     "output_type": "display_data"
    },
    {
     "data": {
      "text/markdown": [
       "## Failed papers"
      ],
      "text/plain": [
       "<IPython.core.display.Markdown object>"
      ]
     },
     "metadata": {},
     "output_type": "display_data"
    },
    {
     "data": {
      "text/markdown": [
       "\n",
       "|||\n",
       "|---:|:---|\n",
       "| [![arXiv](https://img.shields.io/badge/arXiv-arXiv:2302.00679-b31b1b.svg)](https://arxiv.org/abs/arXiv:2302.00679) | **The Density Parity Model for the Evolution of the Galaxy Inner Spin  Alignments with the Cosmic Web**  |\n",
       "|| Jun-Sung Moon, <mark>Jounghun Lee</mark> |\n",
       "|*Appeared on*| *2023-02-03*|\n",
       "|*Comments*| *submitted for publication in ApJ, 16 figures*|\n",
       "|**Abstract**| We develop a new model within which the radius-dependent transition of the galaxy inner spins with respect to the cosmic web and the variation of the transition threshold radius ($r_{\\rm th}$) with galaxy mass ($M_{\\rm vir}$), smoothing scale ($r_{f}$), and redshift ($z$) can be coherently explained. The key tenet of this model is that the competition between the pressure effect of the inner mass and the compression effect of the local tidal field determines which principal direction of the tidal field the inner spins are aligned with. If the former predominates, then only the tidal torques turn on, resulting in the alignments of the inner spins with the intermediate principal axes of the tidal field. Otherwise, the galaxy spins acquire a tendency to be aligned with the shortest axes of the galaxy shapes, which is in the major principal directions of the tidal field. Quantifying the two effects in terms of the mean squared densities, we make a purely analytical prediction for $r_{\\rm th}(M_{\\rm vir}, z, r_{f})$. Testing this model against the numerical results from a high-resolution simulation in the redshift range of $0\\le z\\le 3$ on the galactic mass scale of $11.8\\le \\log M_{\\rm vir}/(h^{-1}M_{\\odot})\\le 12.6$ for two different cases of $r_{f}/(h^{-1}{\\rm Mpc})=0.5$ and $1$, we find excellent agreements of the model predictions with the numerical results. It is also shown that this model naturally predicts the alignments between the inner spins of the present galaxies with the principal directions of the high-$z$ tidal field at the progenitors' locations. |\n",
       "|<p style=\"color:green\"> **ERROR** </p>| <p style=\"color:green\">affiliation error: mpia.affiliation_verifications: 'Heidelberg' keyword not found.</p> |"
      ],
      "text/plain": [
       "<IPython.core.display.Markdown object>"
      ]
     },
     "metadata": {},
     "output_type": "display_data"
    },
    {
     "data": {
      "text/markdown": [
       "\n",
       "|||\n",
       "|---:|:---|\n",
       "| [![arXiv](https://img.shields.io/badge/arXiv-arXiv:2302.00699-b31b1b.svg)](https://arxiv.org/abs/arXiv:2302.00699) | **An Earth-sized Planet around an M5 Dwarf Star at 22 pc**  |\n",
       "|| Teruyuki Hirano, et al. -- incl., <mark>John H. Livingston</mark>, <mark>Alexis M. S. Smith</mark>, <mark>Akitoshi Ueda</mark> |\n",
       "|*Appeared on*| *2023-02-03*|\n",
       "|*Comments*| *20 pages, 12 figures, accepted for publication in AJ*|\n",
       "|**Abstract**| We report on the discovery of an Earth-sized transiting planet ($R_p=1.015\\pm0.051\\,R_\\oplus$) in a $P=4.02$ day orbit around K2-415 (EPIC 211414619), an M5V star at 22 pc. The planet candidate was first identified by analyzing the light curve data by the K2 mission, and is here shown to exist in the most recent data from TESS. Combining the light curves with the data secured by our follow-up observations including high-resolution imaging and near infrared spectroscopy with IRD, we rule out false positive scenarios, finding a low false positive probability of $2\\times 10^{-4}$. Based on IRD's radial velocities of K2-415, which were sparsely taken over three years, we obtain the planet mass of $3.0\\pm 2.7\\,M_\\oplus$ ($M_p<7.5\\,M_\\oplus$ at $95\\,\\%$ confidence) for K2-415b. Being one of the lowest mass stars ($\\approx 0.16\\,M_\\odot$) known to host an Earth-sized transiting planet, K2-415 will be an interesting target for further follow-up observations, including additional radial velocity monitoring and transit spectroscopy. |\n",
       "|<p style=\"color:green\"> **ERROR** </p>| <p style=\"color:green\">affiliation error: mpia.affiliation_verifications: 'Heidelberg' keyword not found.</p> |"
      ],
      "text/plain": [
       "<IPython.core.display.Markdown object>"
      ]
     },
     "metadata": {},
     "output_type": "display_data"
    },
    {
     "data": {
      "text/markdown": [
       "\n",
       "|||\n",
       "|---:|:---|\n",
       "| [![arXiv](https://img.shields.io/badge/arXiv-arXiv:2302.00718-b31b1b.svg)](https://arxiv.org/abs/arXiv:2302.00718) | **A novel approach to detect line emission under high background in  high-resolution X-ray spectra**  |\n",
       "|| <mark>Xiangyu Zhang</mark>, Sara Algeri, Vinay Kashyap, Margarita Karovska |\n",
       "|*Appeared on*| *2023-02-03*|\n",
       "|*Comments*| *Accepted by Monthly Notices of the Royal Astronomical Society*|\n",
       "|**Abstract**| We develop a novel statistical approach to identify emission features or set upper limits in high-resolution spectra in the presence of high background. The method relies on detecting differences from the background using smooth tests and using classical likelihood ratio tests to characterise known shapes like emission lines. We perform signal detection or place upper limits on line fluxes while accounting for the problem of multiple comparisons. We illustrate the method by applying it to a Chandra LETGS+HRC-S observation of symbiotic star RT Cru, successfully detecting previously known features like the Fe line emission in the 6-7 keV range and the Iridium-edge due to the mirror coating on Chandra. We search for thermal emission lines from Ne X, Fe XVII, O VIII, and O VII, but do not detect them, and place upper limits on their intensities consistent with a $\\approx$1 keV plasma. We serendipitously detect a line at 16.93 $\\unicode{x212B}$ that we attribute to photoionisation or a reflection component. |\n",
       "|<p style=\"color:green\"> **ERROR** </p>| <p style=\"color:green\">affiliation error: mpia.affiliation_verifications: 'Heidelberg' keyword not found.</p> |"
      ],
      "text/plain": [
       "<IPython.core.display.Markdown object>"
      ]
     },
     "metadata": {},
     "output_type": "display_data"
    },
    {
     "data": {
      "text/markdown": [
       "\n",
       "|||\n",
       "|---:|:---|\n",
       "| [![arXiv](https://img.shields.io/badge/arXiv-arXiv:2302.00769-b31b1b.svg)](https://arxiv.org/abs/arXiv:2302.00769) | **Aggregate Effects of Proliferating LEO Objects and Implications for  Astronomical Data Lost in the Noise**  |\n",
       "|| John C. Barentine, et al. -- incl., <mark>Jessica Heim</mark> |\n",
       "|*Appeared on*| *2023-02-03*|\n",
       "|*Comments*| *22 pages, 2 figures, 1 table; accepted for publication by Nature Astronomy*|\n",
       "|**Abstract**| The rising population of artificial satellites and associated debris in low-altitude orbits is increasing the overall brightness of the night sky, threatening ground-based astronomy as well as a diversity of stakeholders and ecosystems reliant on dark skies. We present calculations of the potentially large rise in global sky brightness from space objects, including qualitative and quantitative assessments of how professional astronomy may be affected. Debris proliferation is of special concern: since all log-decades in debris size contribute approximately the same amount of night sky radiance, debris-generating events are expected to lead to a rapid rise in night sky brightness along with serious collision risks for satellites from centimetre-sized objects. This will lead to loss of astronomical data and diminish opportunities for ground-based discoveries as faint astrophysical signals become increasingly lost in the noise. Lastly, we discuss the broader consequences of brighter skies for a range of sky constituencies, equity/inclusion and accessibility for Earth- and space-based science, and cultural sky traditions. Space and dark skies represent an intangible heritage that deserves intentional preservation and safeguarding for future generations. |\n",
       "|<p style=\"color:green\"> **ERROR** </p>| <p style=\"color:green\">affiliation error: mpia.affiliation_verifications: 'Heidelberg' keyword not found.</p> |"
      ],
      "text/plain": [
       "<IPython.core.display.Markdown object>"
      ]
     },
     "metadata": {},
     "output_type": "display_data"
    },
    {
     "data": {
      "text/markdown": [
       "\n",
       "|||\n",
       "|---:|:---|\n",
       "| [![arXiv](https://img.shields.io/badge/arXiv-arXiv:2302.00943-b31b1b.svg)](https://arxiv.org/abs/arXiv:2302.00943) | **Does a radio jet drive the massive multi-phase outflow in the  ultra-luminous infrared galaxy IRAS 10565+2448?**  |\n",
       "|| Renzhi Su, et al. -- incl., <mark>Elizabeth K. Mahony</mark>, <mark>Xiang Liu</mark> |\n",
       "|*Appeared on*| *2023-02-03*|\n",
       "|*Comments*| *12 pages, 9 figures, accepted for publication in MNRAS*|\n",
       "|**Abstract**| We present new upgraded Giant Metrewave Radio Telescope (uGMRT) HI 21-cm observations of the ultra-luminous infrared galaxy IRAS 10565+2448, previously reported to show blueshifted, broad, and shallow HI absorption indicating an outflow. Our higher spatial resolution observations have localised this blueshifted outflow, which is $\\sim$ 1.36 kpc southwest of the radio centre and has a blueshifted velocity of $\\sim 148\\,\\rm km\\,s^{-1}$ and a full width at half maximum (FWHM) of $\\sim 581\\,\\rm km\\,s^{-1}$. The spatial extent and kinematic properties of the HI outflow are consistent with the previously detected cold molecular outflows in IRAS 10565+2448, suggesting that they likely have the same driving mechanism and are tracing the same outflow. By combining the multi-phase gas observations, we estimate a total outflowing mass rate of at least $140\\, \\rm M_\\odot \\,yr^{-1}$ and a total energy loss rate of at least $8.9\\times10^{42}\\,\\rm erg\\,s^{-1}$, where the contribution from the ionised outflow is negligible, emphasising the importance of including both cold neutral and molecular gas when quantifying the impact of outflows. We present evidence of the presence of a radio jet and argue that this may play a role in driving the observed outflows. The modest radio luminosity $L_{\\rm1.4GHz}$ $\\sim1.3\\times10^{23}\\,{\\rm W\\,Hz^{-1}}$ of the jet in IRAS 10565+2448 implies that the jet contribution to driving outflows should not be ignored in low radio luminosity AGN. |\n",
       "|<p style=\"color:green\"> **ERROR** </p>| <p style=\"color:green\">affiliation error: mpia.affiliation_verifications: 'Heidelberg' keyword not found.</p> |"
      ],
      "text/plain": [
       "<IPython.core.display.Markdown object>"
      ]
     },
     "metadata": {},
     "output_type": "display_data"
    },
    {
     "data": {
      "text/markdown": [
       "\n",
       "|||\n",
       "|---:|:---|\n",
       "| [![arXiv](https://img.shields.io/badge/arXiv-arXiv:2302.01102-b31b1b.svg)](https://arxiv.org/abs/arXiv:2302.01102) | **TESS Asteroseismic Analysis of HD 76920: The Giant Star Hosting An  Extremely Eccentric Exoplanet**  |\n",
       "|| Chen Jiang, et al. -- incl., <mark>Yaguang Li</mark>, <mark>Xinyi Zhang</mark>, <mark>Daniel Huber</mark> |\n",
       "|*Appeared on*| *2023-02-03*|\n",
       "|*Comments*| *18 pages, 7 figures, 4 tables*|\n",
       "|**Abstract**| The Transiting Exoplanet Survey Satellite (TESS) mission searches for new exoplanets. The observing strategy of TESS results in high-precision photometry of millions of stars across the sky, allowing for detailed asteroseismic studies of individual systems. In this work, we present a detailed asteroseismic analysis of the giant star HD 76920 hosting a highly eccentric giant planet ($e = 0.878$) with an orbital period of 415 days, using 5 sectors of TESS light curve that cover around 140 days of data. Solar-like oscillations in HD 76920 are detected around $52 \\, \\mu$Hz by TESS for the first time. By utilizing asteroseismic modeling that takes classical observational parameters and stellar oscillation frequencies as constraints, we determine improved measurements of the stellar mass ($1.22 \\pm 0.11\\, M_\\odot$), radius ($8.68 \\pm 0.34\\,R_\\odot$), and age ($5.2 \\pm 1.4\\,$Gyr). With the updated parameters of the host star, we update the semi-major axis and mass of the planet as $a=1.165 \\pm 0.035$ au and $M_{\\rm p}\\sin{i} = 3.57 \\pm 0.22\\,M_{\\rm Jup}$. With an orbital pericenter of $0.142 \\pm 0.005$ au, we confirm that the planet is currently far away enough from the star to experience negligible tidal decay until being engulfed in the stellar envelope. We also confirm that this event will occur within about 100\\,Myr, depending on the stellar model used. |\n",
       "|<p style=\"color:green\"> **ERROR** </p>| <p style=\"color:green\">affiliation error: mpia.affiliation_verifications: 'Heidelberg' keyword not found.</p> |"
      ],
      "text/plain": [
       "<IPython.core.display.Markdown object>"
      ]
     },
     "metadata": {},
     "output_type": "display_data"
    },
    {
     "data": {
      "text/markdown": [
       "\n",
       "|||\n",
       "|---:|:---|\n",
       "| [![arXiv](https://img.shields.io/badge/arXiv-arXiv:2302.01232-b31b1b.svg)](https://arxiv.org/abs/arXiv:2302.01232) | **The Design Strain Sensitivity of the Schenberg Spherical Resonant  Antenna for Gravitational Waves**  |\n",
       "|| <mark>V. Liccardo</mark>, et al. |\n",
       "|*Appeared on*| *2023-02-03*|\n",
       "|*Comments*| **|\n",
       "|**Abstract**| The main purpose of this study is to review the Schenberg resonant antenna transfer function and to recalculate the antenna design strain sensitivity for gravitational waves. We consider the spherical antenna with six transducers in the semi dodecahedral configuration. When coupled to the antenna, the transducer-sphere system will work as a mass-spring system with three masses. The first one is the antenna effective mass for each quadrupole mode, the second one is the mass of the mechanical structure of the transducer first mechanical mode and the third one is the effective mass of the transducer membrane that makes one of the transducer microwave cavity walls. All the calculations are done for the degenerate (all the sphere quadrupole mode frequencies equal) and non-degenerate sphere cases. We have come to the conclusion that the 'ultimate' sensitivity of an advanced version of Schenberg antenna (aSchenberg) is around the standard quantum limit (although the parametric transducers used could, in principle, surpass this limit). However, this sensitivity, in the frequency range where Schenberg operates, has already been achieved by the two aLIGOs in the O3 run, therefore, the only reasonable justification for remounting the Schenberg antenna and trying to place it in the sensitivity of the standard quantum limit would be to detect gravitational waves with another physical principle, different from the one used by laser interferometers. This other physical principle would be the absorption of the gravitational wave energy by a resonant mass like Schenberg. |\n",
       "|<p style=\"color:green\"> **ERROR** </p>| <p style=\"color:green\">affiliation error: mpia.affiliation_verifications: 'Heidelberg' keyword not found.</p> |"
      ],
      "text/plain": [
       "<IPython.core.display.Markdown object>"
      ]
     },
     "metadata": {},
     "output_type": "display_data"
    },
    {
     "data": {
      "text/markdown": [
       "\n",
       "|||\n",
       "|---:|:---|\n",
       "| [![arXiv](https://img.shields.io/badge/arXiv-arXiv:2302.01239-b31b1b.svg)](https://arxiv.org/abs/arXiv:2302.01239) | **The Solar System Notification Alert Processing System (SNAPS): Design,  Architecture, and First Data Release (SNAPShot1)**  |\n",
       "|| David E. Trilling, et al. -- incl., <mark>Daniel Kramer</mark> |\n",
       "|*Appeared on*| *2023-02-03*|\n",
       "|*Comments*| *AJ, in press*|\n",
       "|**Abstract**| We present here the design, architecture, and first data release for the Solar System Notification Alert Processing System (SNAPS). SNAPS is a Solar System broker that ingests alert data from all-sky surveys. At present, we ingest data from the Zwicky Transient Facility (ZTF) public survey, and we will ingest data from the forthcoming Legacy Survey of Space and Time (LSST) when it comes online. SNAPS is an official LSST downstream broker. In this paper we present the SNAPS design goals and requirements. We describe the details of our automatic pipeline processing in which physical properties of asteroids are derived. We present SNAPShot1, our first data release, which contains 5,458,459 observations of 31,693 asteroids observed by ZTF from July, 2018, through May, 2020. By comparing a number of derived properties for this ensemble to previously published results for overlapping objects we show that our automatic processing is highly reliable. We present a short list of science results, among many that will be enabled by our SNAPS catalog: (1) we demonstrate that there are no known asteroids with very short periods and high amplitudes, which clearly indicates that in general asteroids in the size range 0.3--20 km are strengthless; (2) we find no difference in the period distributions of Jupiter Trojan asteroids, implying that the L4 and L5 cloud have different shape distributions; and (3) we highlight several individual asteroids of interest. Finally, we describe future work for SNAPS and our ability to operate at LSST scale. |\n",
       "|<p style=\"color:green\"> **ERROR** </p>| <p style=\"color:green\">affiliation error: mpia.affiliation_verifications: 'Heidelberg' keyword not found.</p> |"
      ],
      "text/plain": [
       "<IPython.core.display.Markdown object>"
      ]
     },
     "metadata": {},
     "output_type": "display_data"
    },
    {
     "data": {
      "text/markdown": [
       "\n",
       "|||\n",
       "|---:|:---|\n",
       "| [![arXiv](https://img.shields.io/badge/arXiv-arXiv:2302.01245-b31b1b.svg)](https://arxiv.org/abs/arXiv:2302.01245) | **Whistler waves generated inside magnetic dips in the young solar wind:  observations of the Search-Coil Magnetometer on board Parker Solar Probe**  |\n",
       "|| C. Froment, et al. -- incl., <mark>F. S. Mozer</mark> |\n",
       "|*Appeared on*| *2023-02-03*|\n",
       "|*Comments*| *15 pages, 14 figures, recommended for publication in A&A*|\n",
       "|**Abstract**| Context. Whistler waves are electromagnetic waves produced by electron-driven instabilities, that in turn can reshape the electron distributions via wave-particle interactions. In the solar wind, they are one of the main candidates for explaining the scattering of the strahl electron population into the halo at increasing radial distances from the Sun and for subsequently regulating the solar wind heat flux. However, it is unclear what type of instability dominates to drive whistlers in the solar wind. Aims. Our goal is to study whistler wave parameters in the young solar wind sampled by Parker Solar Probe (PSP). The wave normal angle (WNA) in particular is a key parameter to discriminate between the generation mechanisms of these waves. Methods. We analyze the cross-spectral matrices of magnetic fieldfluctuations measured by the Search-Coil Magnetometer (SCM) and processed by the Digital Fields Board (DFB) from the FIELDS suite during PSP's first perihelion. Results. Among the 2701 wave packets detected in the cross spectra, namely individual bins in time and frequency, most were quasi-parallel to the background magnetic field but a significant part (3%) of observed waves had oblique (> 45{\\deg}) WNA. The validation analysis conducted with the time-series waveforms reveal that this percentage is a lower limit. Moreover, we find that about 64% of the whistler waves detected in the spectra are associated with at least one magnetic dip. Conclusions. We conclude that magnetic dips provides favorable conditions for the generation of whistler waves. We hypothesize that the whistlers detected in magnetic dips are locally generated by the thermal anisotropy as quasi-parallel and can gain obliqueness during their propagation. We finally discuss the implication of our results for the scattering of the strahl in the solar wind. |\n",
       "|<p style=\"color:green\"> **ERROR** </p>| <p style=\"color:green\">affiliation error: mpia.affiliation_verifications: 'Heidelberg' keyword not found.</p> |"
      ],
      "text/plain": [
       "<IPython.core.display.Markdown object>"
      ]
     },
     "metadata": {},
     "output_type": "display_data"
    },
    {
     "data": {
      "text/markdown": [
       "\n",
       "|||\n",
       "|---:|:---|\n",
       "| [![arXiv](https://img.shields.io/badge/arXiv-arXiv:2302.01168-b31b1b.svg)](https://arxiv.org/abs/arXiv:2302.01168) | **OGLE-2016-BLG-1195Lb: A Sub-Neptune Beyond the Snow Line of an M-dwarf  Confirmed by Keck AO**  |\n",
       "|| Aikaterini Vandorou, et al. -- incl., <mark>Lisa Dang</mark> |\n",
       "|*Appeared on*| *2023-02-03*|\n",
       "|*Comments*| *Submitted to AJ*|\n",
       "|**Abstract**| We present the analysis of high resolution follow-up observations of OGLE-2016-BLG-1195 using Keck, four years after the event's peak. We find the lens system to be at $D_L = 6.87\\pm 0.65$ kpc and comprised of a $M_{\\rm p} = 9.91\\pm 1.61\\ M_{\\rm Earth}$ planet, orbiting an M-dwarf, $M_{\\rm L} = 0.57\\pm 0.06\\ M_{\\odot}$, beyond the snow line, with a projected separation of $r_\\perp=2.62\\pm 0.28$ AU. Our results are consistent with the discovery paper, which reports values with 1-sigma uncertainties based on a single mass-distance constraint from finite source effects. However, both the discovery paper and our follow-up results disagree with the analysis of a different group that also present the planetary signal detection. The latter utilizes Spitzer photometry to measure a parallax signal. Combined with finite source effects, they claim to measure the mass and distance of the system to much greater accuracy, suggesting that it is composed of an Earth-mass planet orbiting an ultracool dwarf. Their parallax signal though is improbable since it suggests a lens star in the disk moving perpendicular to disk rotation. Moreover, parallaxes are known to be affected by systematic errors in the photometry. Therefore, we reanalyze the Spitzer photometry for this event and conclude that the parallax signal is not significantly greater than the instrumental noise, and is likely affected by systematic errors in the photometric data. The results of this paper act as a cautionary tale that conclusions of analyses that rely heavily on low signal-to-noise Spitzer photometric data, can be misleading. |\n",
       "|<p style=\"color:green\"> **ERROR** </p>| <p style=\"color:green\">affiliation error: mpia.affiliation_verifications: 'Planck' keyword not found.</p> |"
      ],
      "text/plain": [
       "<IPython.core.display.Markdown object>"
      ]
     },
     "metadata": {},
     "output_type": "display_data"
    },
    {
     "data": {
      "text/markdown": [
       "\n",
       "|||\n",
       "|---:|:---|\n",
       "| [![arXiv](https://img.shields.io/badge/arXiv-arXiv:2302.01276-b31b1b.svg)](https://arxiv.org/abs/arXiv:2302.01276) | **Nova explosions -- The fascinating gamma-ray emitting recurrent nova RS  Ophiuchi**  |\n",
       "|| Vincent Tatischeff, <mark>Margarita Hernanz</mark> |\n",
       "|*Appeared on*| *2023-02-03*|\n",
       "|*Comments*| *8 pages, 3 figures, proceedings of the 7th Heidelberg International Symposium on High-Energy Gamma-Ray Astronomy (Gamma2022) in Barcelona (Spain) on 4-8 July 2022*|\n",
       "|**Abstract**| Classical and recurrent nova explosions occur on top of white dwarfs accreting H-rich matter from a companion main sequence or red giant star, in a close binary system. In the recent years, since the launch of the Fermi gamma-ray satellite by NASA in 2008, several novae have been detected by Fermi/LAT (LAT: Large Area Telescope) in high-energy (HE) gamma rays, with energies larger than 100 MeV. This emission is known to be related to the acceleration of particles in the internal and/or external shocks occurring early after the thermonuclear nova explosion. However, very-high-energy (VHE) gamma-rays, with energies larger than 100 GeV, produced as a consequence of nova explosions have only been discovered very recently, in the recurrent nova RS Oph, that had an outburst in August 2021. These require the acceleration of protons, and not only of electrons; this was in fact predicted theoretically - based in observations at other wavelengths - in the previous eruption of RS Oph, in 2006, but has not been confirmed observationally until now. We review the origin of the different types of gamma-ray emission in novae and highlight the relevance of the recent VHE gamma-ray emission discoveries for the nova theory, mainly in the field of the mass ejection and the associated particle (electrons and protons) acceleration processes. |\n",
       "|<p style=\"color:red\"> **ERROR** </p>| <p style=\"color:red\">latex error not a gzip file</p> |"
      ],
      "text/plain": [
       "<IPython.core.display.Markdown object>"
      ]
     },
     "metadata": {},
     "output_type": "display_data"
    }
   ],
   "source": [
    "import datetime\n",
    "today = str(datetime.date.today())\n",
    "logfile = f\"_build/html/logs/log-{today}.md\"\n",
    "\n",
    "\n",
    "with open(logfile, 'w') as logs:\n",
    "    # Success\n",
    "    logs.write(f'# Arxiv on Deck 2: Logs - {today}\\n\\n')\n",
    "    logs.write(\"\"\"* Arxiv had {0:,d} new papers\\n\"\"\".format(len(new_papers)))\n",
    "    logs.write(\"\"\"    * {0:,d} with possible author matches\\n\\n\"\"\".format(len(candidates)))\n",
    "    logs.write(\"## Sucessful papers\\n\\n\")\n",
    "    display(Markdown(\"## Successful papers\"))\n",
    "    success = [k[0] for k in documents]\n",
    "    for candid in candidates:\n",
    "        if candid['identifier'].split(':')[-1] in success:\n",
    "            display(candid)\n",
    "            logs.write(candid.generate_markdown_text() + '\\n\\n')\n",
    "\n",
    "    ## failed\n",
    "    logs.write(\"## Failed papers\\n\\n\")\n",
    "    display(Markdown(\"## Failed papers\"))\n",
    "    failed = sorted(failed, key=lambda x: x[1])\n",
    "    current_reason = \"\"\n",
    "    for paper, reason in failed:\n",
    "        if 'affiliation' in reason:\n",
    "            color = 'green'\n",
    "        else:\n",
    "            color = 'red'\n",
    "        data = Markdown(\n",
    "                paper.generate_markdown_text() + \n",
    "                f'\\n|<p style=\"color:{color:s}\"> **ERROR** </p>| <p style=\"color:{color:s}\">{reason:s}</p> |'\n",
    "               )\n",
    "        if reason != current_reason:\n",
    "            logs.write(f'### {reason:s} \\n\\n')\n",
    "            current_reason = reason\n",
    "        logs.write(data.data + '\\n\\n')\n",
    "        \n",
    "        # only display here the important errors (all in logs)\n",
    "        # if color in ('red',):\n",
    "        display(data)"
   ]
  },
  {
   "cell_type": "markdown",
   "id": "472d20ee",
   "metadata": {
    "papermill": {
     "duration": 0.007116,
     "end_time": "2023-02-03T04:07:55.626193",
     "exception": false,
     "start_time": "2023-02-03T04:07:55.619077",
     "status": "completed"
    },
    "tags": []
   },
   "source": [
    "## Export documents\n",
    "\n",
    "We now write the .md files and export relevant images"
   ]
  },
  {
   "cell_type": "code",
   "execution_count": 7,
   "id": "d426aed9",
   "metadata": {
    "execution": {
     "iopub.execute_input": "2023-02-03T04:07:55.645634Z",
     "iopub.status.busy": "2023-02-03T04:07:55.645379Z",
     "iopub.status.idle": "2023-02-03T04:07:55.652862Z",
     "shell.execute_reply": "2023-02-03T04:07:55.652275Z"
    },
    "papermill": {
     "duration": 0.020514,
     "end_time": "2023-02-03T04:07:55.655116",
     "exception": false,
     "start_time": "2023-02-03T04:07:55.634602",
     "status": "completed"
    },
    "tags": []
   },
   "outputs": [],
   "source": [
    "def export_markdown_summary(md: str, md_fname:str, directory: str):\n",
    "    \"\"\"Export MD document and associated relevant images\"\"\"\n",
    "    import os\n",
    "    import shutil\n",
    "    import re\n",
    "\n",
    "    if (os.path.exists(directory) and not os.path.isdir(directory)):\n",
    "        raise RuntimeError(f\"a non-directory file exists with name {directory:s}\")\n",
    "\n",
    "    if (not os.path.exists(directory)):\n",
    "        print(f\"creating directory {directory:s}\")\n",
    "        os.mkdir(directory)\n",
    "\n",
    "    fig_fnames = (re.compile(r'\\[Fig.*\\]\\((.*)\\)').findall(md) + \n",
    "                  re.compile(r'\\<img src=\"([^>\\s]*)\"[^>]*/>').findall(md))\n",
    "    for fname in fig_fnames:\n",
    "        if 'http' in fname:\n",
    "            # No need to copy online figures\n",
    "            continue\n",
    "        destdir = os.path.join(directory, os.path.dirname(fname))\n",
    "        destfname = os.path.join(destdir, os.path.basename(fname))\n",
    "        try:\n",
    "            os.makedirs(destdir)\n",
    "        except FileExistsError:\n",
    "            pass\n",
    "        shutil.copy(fname, destfname)\n",
    "    with open(os.path.join(directory, md_fname), 'w') as fout:\n",
    "        fout.write(md)\n",
    "    print(\"exported in \", os.path.join(directory, md_fname))\n",
    "    [print(\"    + \" + os.path.join(directory,fk)) for fk in fig_fnames]"
   ]
  },
  {
   "cell_type": "code",
   "execution_count": 8,
   "id": "014d04a4",
   "metadata": {
    "execution": {
     "iopub.execute_input": "2023-02-03T04:07:55.681353Z",
     "iopub.status.busy": "2023-02-03T04:07:55.680788Z",
     "iopub.status.idle": "2023-02-03T04:07:55.684951Z",
     "shell.execute_reply": "2023-02-03T04:07:55.684002Z"
    },
    "papermill": {
     "duration": 0.016508,
     "end_time": "2023-02-03T04:07:55.686750",
     "exception": false,
     "start_time": "2023-02-03T04:07:55.670242",
     "status": "completed"
    },
    "tags": []
   },
   "outputs": [],
   "source": [
    "for paper_id, md in documents:\n",
    "    export_markdown_summary(md, f\"{paper_id:s}.md\", '_build/html/')"
   ]
  },
  {
   "cell_type": "markdown",
   "id": "f087a0a7",
   "metadata": {
    "papermill": {
     "duration": 0.008039,
     "end_time": "2023-02-03T04:07:55.703072",
     "exception": false,
     "start_time": "2023-02-03T04:07:55.695033",
     "status": "completed"
    },
    "tags": []
   },
   "source": [
    "## Display the papers\n",
    "\n",
    "Not necessary but allows for a quick check."
   ]
  },
  {
   "cell_type": "code",
   "execution_count": 9,
   "id": "fd25f625",
   "metadata": {
    "execution": {
     "iopub.execute_input": "2023-02-03T04:07:55.723377Z",
     "iopub.status.busy": "2023-02-03T04:07:55.723130Z",
     "iopub.status.idle": "2023-02-03T04:07:55.726958Z",
     "shell.execute_reply": "2023-02-03T04:07:55.726416Z"
    },
    "papermill": {
     "duration": 0.014489,
     "end_time": "2023-02-03T04:07:55.728389",
     "exception": false,
     "start_time": "2023-02-03T04:07:55.713900",
     "status": "completed"
    },
    "scrolled": false,
    "tags": []
   },
   "outputs": [],
   "source": [
    "[display(Markdown(k[1])) for k in documents];"
   ]
  },
  {
   "cell_type": "markdown",
   "id": "873873a4",
   "metadata": {
    "papermill": {
     "duration": 0.006689,
     "end_time": "2023-02-03T04:07:55.742758",
     "exception": false,
     "start_time": "2023-02-03T04:07:55.736069",
     "status": "completed"
    },
    "tags": []
   },
   "source": [
    "# Create HTML index"
   ]
  },
  {
   "cell_type": "code",
   "execution_count": 10,
   "id": "cf665672",
   "metadata": {
    "execution": {
     "iopub.execute_input": "2023-02-03T04:07:55.757556Z",
     "iopub.status.busy": "2023-02-03T04:07:55.757113Z",
     "iopub.status.idle": "2023-02-03T04:07:55.768151Z",
     "shell.execute_reply": "2023-02-03T04:07:55.767485Z"
    },
    "papermill": {
     "duration": 0.020002,
     "end_time": "2023-02-03T04:07:55.769568",
     "exception": false,
     "start_time": "2023-02-03T04:07:55.749566",
     "status": "completed"
    },
    "tags": []
   },
   "outputs": [
    {
     "name": "stdout",
     "output_type": "stream",
     "text": [
      "188  publications in the last 7 days.\n",
      "\t _build/html/2302.00450.md\n",
      "\t _build/html/2301.13766.md\n",
      "\t _build/html/2301.13526.md\n",
      "\t _build/html/2301.12890.md\n",
      "\t _build/html/2301.11942.md\n",
      "\t _build/html/2301.10717.md\n",
      "\t _build/html/2301.10666.md\n",
      "\t _build/html/2301.10496.md\n",
      "\t _build/html/2301.09621.md\n",
      "\t _build/html/2301.09140.md\n",
      "\t _build/html/2301.08770.md\n",
      "\t _build/html/2301.08310.md\n",
      "\t _build/html/2301.07990.md\n",
      "\t _build/html/2301.07366.md\n",
      "\t _build/html/2301.07199.md\n",
      "\t _build/html/2301.07116.md\n",
      "\t _build/html/2301.06873.md\n",
      "\t _build/html/2301.06819.md\n",
      "\t _build/html/2301.06575.md\n",
      "\t _build/html/2301.05720.md\n",
      "\t _build/html/2301.05718.md\n",
      "\t _build/html/2301.05034.md\n",
      "\t _build/html/2301.04656.md\n",
      "\t _build/html/2301.04533.md\n",
      "\t _build/html/2301.04442.md\n",
      "\t _build/html/2301.03811.md\n",
      "\t _build/html/2301.03689.md\n",
      "\t _build/html/2301.03387.md\n",
      "\t _build/html/2301.03209.md\n",
      "\t _build/html/2301.02671.md\n",
      "\t _build/html/2301.02477.md\n",
      "\t _build/html/2301.02313.md\n",
      "\t _build/html/2301.02265.md\n",
      "\t _build/html/2301.01937.md\n",
      "\t _build/html/2301.01895.md\n",
      "\t _build/html/2301.01684.md\n",
      "\t _build/html/2301.01306.md\n",
      "\t _build/html/2301.00881.md\n",
      "\t _build/html/2301.00854.md\n",
      "\t _build/html/2301.00578.md\n",
      "\t _build/html/2212.12039.md\n",
      "\t _build/html/2212.11991.md\n",
      "\t _build/html/2212.11425.md\n",
      "\t _build/html/2212.11177.md\n",
      "\t _build/html/2212.10804.md\n",
      "\t _build/html/2212.10512.md\n",
      "\t _build/html/2212.09766.md\n",
      "\t _build/html/2212.09675.md\n",
      "\t _build/html/2212.09661.md\n",
      "\t _build/html/2212.09652.md\n",
      "\t _build/html/2212.09443.md\n",
      "\t _build/html/2212.09307.md\n",
      "\t _build/html/2212.09168.md\n",
      "\t _build/html/2212.09159.md\n",
      "\t _build/html/2212.08702.md\n",
      "\t _build/html/2212.07332.md\n",
      "\t _build/html/2212.06434.md\n",
      "\t _build/html/2212.04710.md\n",
      "\t _build/html/2212.04026.md\n",
      "\t _build/html/2212.03563.md\n",
      "\t _build/html/2212.03514.md\n",
      "\t _build/html/2212.02667.md\n",
      "\t _build/html/2212.02627.md\n",
      "\t _build/html/2212.02235.md\n",
      "\t _build/html/2212.01707.md\n",
      "\t _build/html/2212.01526.md\n",
      "\t _build/html/2212.01397.md\n",
      "\t _build/html/2212.01291.md\n",
      "\t _build/html/2212.01281.md\n",
      "\t _build/html/2212.00812.md\n",
      "\t _build/html/2212.00811.md\n",
      "\t _build/html/2212.00806.md\n",
      "\t _build/html/2212.00047.md\n",
      "\t _build/html/2212.00032.md\n",
      "\t _build/html/2211.16996.md\n",
      "\t _build/html/2211.16510.md\n",
      "\t _build/html/2211.16123.md\n",
      "\t _build/html/2211.15816.md\n",
      "\t _build/html/2211.15698.md\n",
      "\t _build/html/2211.15576.md\n",
      "\t _build/html/2211.15434.md\n",
      "\t _build/html/2211.15288.md\n",
      "\t _build/html/2211.15224.md\n",
      "\t _build/html/2211.14543.md\n",
      "\t _build/html/2211.14330.md\n",
      "\t _build/html/2211.14322.md\n",
      "\t _build/html/2211.14132.md\n",
      "\t _build/html/2211.13811.md\n",
      "\t _build/html/2211.13426.md\n",
      "\t _build/html/2211.13318.md\n",
      "\t _build/html/2211.13146.md\n",
      "\t _build/html/2211.12613.md\n",
      "\t _build/html/2211.11767.md\n",
      "\t _build/html/2211.09840.md\n",
      "\t _build/html/2211.09217.md\n",
      "\t _build/html/2211.08493.md\n",
      "\t _build/html/2211.08487.md\n",
      "\t _build/html/2211.08294.md\n",
      "\t _build/html/2211.07667.md\n",
      "\t _build/html/2211.07659.md\n",
      "\t _build/html/2211.06454.md\n",
      "\t _build/html/2211.06205.md\n",
      "\t _build/html/2211.06194.md\n",
      "\t _build/html/2211.05022.md\n",
      "\t _build/html/2211.04048.md\n",
      "\t _build/html/2211.03641.md\n",
      "\t _build/html/2211.02502.md\n",
      "\t _build/html/2211.01474.md\n",
      "\t _build/html/2211.00667.md\n",
      "\t _build/html/2211.00657.md\n",
      "\t _build/html/2211.00087.md\n",
      "\t _build/html/2211.00036.md\n",
      "\t _build/html/2211.00020.md\n",
      "\t _build/html/2211.00010.md\n",
      "\t _build/html/2210.17434.md\n",
      "\t _build/html/2210.12412.md\n",
      "\t _build/html/2210.11926.md\n",
      "\t _build/html/2210.11551.md\n",
      "\t _build/html/2210.11103.md\n",
      "\t _build/html/2210.10707.md\n",
      "\t _build/html/2210.09930.md\n",
      "\t _build/html/2210.08996.md\n",
      "\t _build/html/2210.08517.md\n",
      "\t _build/html/2210.08510.md\n",
      "\t _build/html/2210.08078.md\n",
      "\t _build/html/2210.06504.md\n",
      "\t _build/html/2210.05695.md\n",
      "\t _build/html/2210.05595.md\n",
      "\t _build/html/2210.05505.md\n",
      "\t _build/html/2210.04721.md\n",
      "\t _build/html/2210.03615.md\n",
      "\t _build/html/2210.01811.md\n",
      "\t _build/html/2210.01809.md\n",
      "\t _build/html/2210.01556.md\n",
      "\t _build/html/2210.00863.md\n",
      "\t _build/html/2210.00560.md\n",
      "\t _build/html/2209.15403.md\n",
      "\t _build/html/2209.15110.md\n",
      "\t _build/html/2209.14410.md\n",
      "\t _build/html/2209.14396.md\n",
      "\t _build/html/2209.13717.md\n",
      "\t _build/html/2209.13336.md\n",
      "\t _build/html/2209.12906.md\n",
      "\t _build/html/2209.11781.md\n",
      "\t _build/html/2209.11602.md\n",
      "\t _build/html/2209.11248.md\n",
      "\t _build/html/2209.11096.md\n",
      "\t _build/html/2209.10618.md\n",
      "\t _build/html/2209.09914.md\n",
      "\t _build/html/2209.09823.md\n",
      "\t _build/html/2209.08242.md\n",
      "\t _build/html/2209.08120.md\n",
      "\t _build/html/2209.08106.md\n",
      "\t _build/html/2209.07962.md\n",
      "\t _build/html/2209.07931.md\n",
      "\t _build/html/2209.06833.md\n",
      "\t _build/html/2209.05814.md\n",
      "\t _build/html/2209.05593.md\n",
      "\t _build/html/2209.04304.md\n",
      "\t _build/html/2209.03367.md\n",
      "\t _build/html/2209.02872.md\n",
      "\t _build/html/2209.02725.md\n",
      "\t _build/html/2209.02722.md\n",
      "\t _build/html/2209.02092.md\n",
      "\t _build/html/2209.01125.md\n",
      "\t _build/html/2209.00828.md\n",
      "\t _build/html/2209.00363.md\n",
      "\t _build/html/2208.14927.md\n",
      "\t _build/html/2208.09335.md\n",
      "\t _build/html/2208.08872.md\n",
      "\t _build/html/2204.06393.md\n",
      "\t _build/html/2204.03335.md\n",
      "\t _build/html/2204.03253.md\n",
      "\t _build/html/2204.02998.md\n",
      "\t _build/html/2204.02109.md\n",
      "\t _build/html/2204.02017.md\n",
      "\t _build/html/2204.01824.md\n",
      "\t _build/html/2204.01758.md\n",
      "\t _build/html/2204.01245.md\n",
      "\t _build/html/2204.00793.md\n",
      "\t _build/html/2204.00342.md\n",
      "\t _build/html/2203.16959.md\n",
      "\t _build/html/2203.16856.md\n",
      "\t _build/html/2203.16735.md\n",
      "\t _build/html/2203.16734.md\n",
      "\t _build/html/2203.16504.md\n",
      "\t _build/html/2203.15822.md\n",
      "\t _build/html/2203.15811.md\n"
     ]
    }
   ],
   "source": [
    "from datetime import datetime, timedelta, timezone\n",
    "from glob import glob\n",
    "\n",
    "files = glob('_build/html/*.md')\n",
    "days = 7\n",
    "now = datetime.today()\n",
    "res = []\n",
    "for fk in files:\n",
    "    stat_result = os.stat(fk).st_ctime\n",
    "    modified = datetime.fromtimestamp(stat_result, tz=timezone.utc).replace(tzinfo=None)\n",
    "    delta = now.today() - modified\n",
    "    if delta <= timedelta(days=days):\n",
    "        res.append((delta.seconds, fk))\n",
    "res = [k[1] for k in reversed(sorted(res, key=lambda x:x[1]))]\n",
    "npub = len(res)\n",
    "print(len(res), f\" publications in the last {days:d} days.\")\n",
    "[ print('\\t', k) for k in res ];"
   ]
  },
  {
   "cell_type": "code",
   "execution_count": 11,
   "id": "015de740",
   "metadata": {
    "execution": {
     "iopub.execute_input": "2023-02-03T04:07:55.784506Z",
     "iopub.status.busy": "2023-02-03T04:07:55.784041Z",
     "iopub.status.idle": "2023-02-03T04:07:55.805572Z",
     "shell.execute_reply": "2023-02-03T04:07:55.804874Z"
    },
    "papermill": {
     "duration": 0.030875,
     "end_time": "2023-02-03T04:07:55.807235",
     "exception": false,
     "start_time": "2023-02-03T04:07:55.776360",
     "status": "completed"
    },
    "tags": []
   },
   "outputs": [
    {
     "name": "stdout",
     "output_type": "stream",
     "text": [
      "5  publications in the last 7 days.\n"
     ]
    }
   ],
   "source": [
    "import datetime\n",
    "from glob import glob\n",
    "\n",
    "def get_last_n_days(lst, days=1):\n",
    "    \"\"\" Get the documents from the last n days \"\"\"\n",
    "    sorted_lst = sorted(lst, key=lambda x: x[1], reverse=True)\n",
    "    for fname, date in sorted_lst:\n",
    "        if date >= str(datetime.date.today() - datetime.timedelta(days=days)):\n",
    "            yield fname\n",
    "\n",
    "def extract_appearance_dates(lst_file):\n",
    "    dates = []\n",
    "\n",
    "    def get_date(line):\n",
    "        return line\\\n",
    "            .split('Appeared on:')[-1]\\\n",
    "            .split('</mark>')[0].strip()\n",
    "\n",
    "    for fname in lst:\n",
    "        with open(fname, 'r') as f:\n",
    "            found_date = False\n",
    "            for line in f:\n",
    "                if not found_date:\n",
    "                    if \"Appeared on\" in line:\n",
    "                        found_date = True\n",
    "                        dates.append((fname, get_date(line)))\n",
    "                else:\n",
    "                    break\n",
    "    return dates\n",
    "\n",
    "from glob import glob\n",
    "lst = glob('_build/html/*md')\n",
    "days = 7\n",
    "dates = extract_appearance_dates(lst)\n",
    "res = list(get_last_n_days(dates, days))\n",
    "npub = len(res)\n",
    "print(len(res), f\" publications in the last {days:d} days.\")"
   ]
  },
  {
   "cell_type": "code",
   "execution_count": 12,
   "id": "52ca0208",
   "metadata": {
    "execution": {
     "iopub.execute_input": "2023-02-03T04:07:55.823579Z",
     "iopub.status.busy": "2023-02-03T04:07:55.823077Z",
     "iopub.status.idle": "2023-02-03T04:07:55.829412Z",
     "shell.execute_reply": "2023-02-03T04:07:55.828761Z"
    },
    "papermill": {
     "duration": 0.015374,
     "end_time": "2023-02-03T04:07:55.830855",
     "exception": false,
     "start_time": "2023-02-03T04:07:55.815481",
     "status": "completed"
    },
    "scrolled": false,
    "tags": []
   },
   "outputs": [],
   "source": [
    "def create_carousel(npub=4):\n",
    "    \"\"\" Generate the HTML code for a carousel with `npub` slides \"\"\"\n",
    "    carousel = [\"\"\"<section class=\"carousel\" aria-label=\"Gallery\">\"\"\",\n",
    "                \"\"\"  <ol class=\"carousel__viewport\">\"\"\",\n",
    "    ]\n",
    "    for k in range(1, npub + 1):\n",
    "        prev_ = k - 1\n",
    "        next_ = k + 1\n",
    "        if prev_ <= 0:\n",
    "            prev_ = npub\n",
    "        if next_ > npub:\n",
    "            next_ = 1\n",
    "        text  = f\"\"\"    <li id=\"carousel__slide{k}\" tabindex=\"0\" class=\"carousel__slide\">\\n\"\"\"\n",
    "        text += f\"\"\"       <div class=\"carousel__snapper\">\\n\"\"\"\n",
    "        text += f\"\"\"         <a href=\"#carousel__slide{prev_}\" class=\"carousel__prev\">Go to previous slide</a>\\n\"\"\"\n",
    "        text += f\"\"\"         <a href=\"#carousel__slide{next_}\" class=\"carousel__next\">Go to next slide</a>\\n\"\"\"\n",
    "        text += f\"\"\"         <div id=\"slide{k}_content\" class=\"md_view\" >Content {k}</div>\\n\"\"\"\n",
    "        text += f\"\"\"       </div>\\n\"\"\"\n",
    "        text += f\"\"\"    </li>\"\"\"\n",
    "        carousel.append(text)\n",
    "\n",
    "    carousel.extend([\n",
    "        \"\"\"  </ol>\"\"\",\n",
    "        \"\"\"  <aside class=\"carousel__navigation\">\"\"\",\n",
    "        \"\"\"    <ol class=\"carousel__navigation-list\">\"\"\"])\n",
    "\n",
    "    for k in range(1, npub + 1):\n",
    "        text  = f\"\"\"      <li class=\"carousel__navigation-item\">\\n\"\"\"\n",
    "        text += f\"\"\"        <a href=\"#carousel__slide{k}\" class=\"carousel__navigation-button\">Go to {k}</a>\\n\"\"\"\n",
    "        text += f\"\"\"      </li>\"\"\"\n",
    "        carousel.append(text)\n",
    "    carousel.extend([\"\"\"    </ol>\"\"\", \"\"\"  </aside>\"\"\", \"\"\"</section>\"\"\"])\n",
    "\n",
    "    return '\\n'.join(carousel)"
   ]
  },
  {
   "cell_type": "code",
   "execution_count": 13,
   "id": "a6eac5b6",
   "metadata": {
    "execution": {
     "iopub.execute_input": "2023-02-03T04:07:55.847880Z",
     "iopub.status.busy": "2023-02-03T04:07:55.847657Z",
     "iopub.status.idle": "2023-02-03T04:07:55.853570Z",
     "shell.execute_reply": "2023-02-03T04:07:55.852995Z"
    },
    "papermill": {
     "duration": 0.017291,
     "end_time": "2023-02-03T04:07:55.855056",
     "exception": false,
     "start_time": "2023-02-03T04:07:55.837765",
     "status": "completed"
    },
    "scrolled": false,
    "tags": []
   },
   "outputs": [],
   "source": [
    "carousel = create_carousel(npub)\n",
    "docs = ', '.join(['\"{0:s}\"'.format(k.split('/')[-1]) for k in res])\n",
    "slides = ', '.join([f'\"slide{k}_content\"' for k in range(1, npub + 1)])\n",
    "\n",
    "script = f\"\"\"\n",
    "const docs = [{docs}]\n",
    "\n",
    "const slides = [{slides}]\n",
    "\"\"\" + \"\"\"\n",
    "async function run() {\n",
    "    for (let i = 0; i < docs.length; i++) {\n",
    "        let file = await fetch(docs[i]);\n",
    "        let text = await file.text()\n",
    "        document.getElementById(slides[i]).innerHTML =\n",
    "            marked.parse(text);\n",
    "    }\n",
    "    hljs.highlightAll();\n",
    "}\n",
    "run()\n",
    "\"\"\"\n",
    "\n",
    "page = f\"\"\"<!doctype html>\n",
    "<html lang=\"en\">\n",
    "\n",
    "<head>\n",
    "  <meta charset=\"utf-8\">\n",
    "  <meta name=\"viewport\" content=\"width=device-width, initial-scale=1\">\n",
    "  <!-- Bootstrap CSS -->\n",
    "  <link href=\"https://cdn.jsdelivr.net/npm/bootstrap@5.0.2/dist/css/bootstrap.min.css\" rel=\"stylesheet\"\n",
    "   integrity=\"sha384-EVSTQN3/azprG1Anm3QDgpJLIm9Nao0Yz1ztcQTwFspd3yD65VohhpuuCOmLASjC\" crossorigin=\"anonymous\">\n",
    "  <!-- highlight.js CSS -->\n",
    "  <link rel=\"stylesheet\" href=\"https://cdnjs.cloudflare.com/ajax/libs/highlight.js/11.1.0/styles/default.min.css\">\n",
    "  <!-- Mathjax 3 -->\n",
    "  <script type=\"text/javascript\" id=\"MathJax-config\" src=\"mathjax_config.js\"> </script>\n",
    "  <script type=\"text/javascript\" id=\"MathJax-script\" async \n",
    "    src=\"https://cdn.jsdelivr.net/npm/mathjax@3/es5/tex-mml-chtml.js\">\n",
    "  </script>\n",
    "  <link rel=\"stylesheet\" href=\"index_carousel.css\">\n",
    "  <link rel=\"icon\" type=\"image/x-icon\" href=\"https://www.mpia.de/assets/touch-icon-32x32-a66937bcebc4e8894ebff1f41a366c7c7220fd97a38869ee0f2db65a9f59b6c1.png\">\n",
    "  <title>MPIA Arxiv on deck!</title>\n",
    "</head>\n",
    "\n",
    "<body>\n",
    "  <div id=\"header\"> <img src=\"header_banner.png\" width=\"100%\"></div>\n",
    "  <div id=\"suptitle\"> 7-day archives </div>\n",
    "  <div id=\"info\">\n",
    "    <img src=\"https://pngimg.com/uploads/github/github_PNG58.png\" height=30rem></img>\n",
    "    <a href=https://github.com/mpi-astronomy/arxiv_display style=\"color:black;\">github/mpi-astronomy/arxiv_display</a> \n",
    "  </div>\n",
    "  {carousel:s}\n",
    "</body>\n",
    "\n",
    "<!-- Render Markdown -->\n",
    "\n",
    "<body>\n",
    "  <!-- highlight.js: https://highlightjs.org/download/ -->\n",
    "  <script src=\"https://cdnjs.cloudflare.com/ajax/libs/highlight.js/11.5.0/highlight.min.js\"></script>\n",
    "  <!-- marked.js -->\n",
    "  <script src=\"https://cdn.jsdelivr.net/npm/marked/marked.min.js\"></script>\n",
    "  <script>{script:s}</script>\n",
    "</body>\n",
    "</html>\n",
    "\"\"\"\n",
    "with open(\"_build/html/index_7days.html\", 'w') as fout:\n",
    "    fout.write(page)"
   ]
  },
  {
   "cell_type": "markdown",
   "id": "1cebacbc",
   "metadata": {
    "papermill": {
     "duration": 0.006982,
     "end_time": "2023-02-03T04:07:55.868975",
     "exception": false,
     "start_time": "2023-02-03T04:07:55.861993",
     "status": "completed"
    },
    "tags": []
   },
   "source": [
    "# Debugging papers"
   ]
  },
  {
   "cell_type": "raw",
   "id": "debe7cc6",
   "metadata": {
    "papermill": {
     "duration": 0.006831,
     "end_time": "2023-02-03T04:07:55.882920",
     "exception": false,
     "start_time": "2023-02-03T04:07:55.876089",
     "status": "completed"
    },
    "tags": []
   },
   "source": [
    "raise NotImplementedError(\"Manual Stop\")"
   ]
  },
  {
   "cell_type": "raw",
   "id": "eb169192",
   "metadata": {
    "papermill": {
     "duration": 0.008059,
     "end_time": "2023-02-03T04:07:55.898108",
     "exception": false,
     "start_time": "2023-02-03T04:07:55.890049",
     "status": "completed"
    },
    "scrolled": true,
    "tags": []
   },
   "source": [
    "from IPython.display import display, Markdown\n",
    "from TexSoup import TexSoup\n",
    "import re\n",
    "\n",
    "def bracket_error(source: str):\n",
    "    \"\"\" Find problematic portions of the document \"\"\"\n",
    "    \n",
    "    print(\"len(source)\", len(source))\n",
    "    \n",
    "    # Checking header\n",
    "    begin_doc = next(re.finditer(r'\\\\begin\\{document\\}', doc.source)).span()[1]\n",
    "    header = source[:begin_doc]\n",
    "    text = header + r\"\\n\\end{document}\"\n",
    "\n",
    "    try:\n",
    "        # print(\"Header check... \", end='')\n",
    "        TexSoup(text)\n",
    "        display(Markdown(f\"**[OK]** - Header\"))\n",
    "    except:\n",
    "        raise RuntimeError(\"Error in the header\")\n",
    "        \n",
    "    # Check the text per section until the end.\n",
    "    # Do not stop and try them all.\n",
    "    \n",
    "    problematic_text = []\n",
    "    \n",
    "    sections = ([(0, begin_doc, 'until first section')] + \n",
    "                [(g.span()[0], g.span()[1], g.group()) for g in re.finditer(r'\\\\section\\{.*\\}', source)] +\n",
    "                [(g.span()[0], g.span()[1], g.group()) for g in re.finditer(r'\\\\begin\\{appendix\\}', source)]\n",
    "               )\n",
    "    sections.append([len(source), len(source), 'end'])\n",
    "    \n",
    "    sections = sorted(sections, key=lambda x: x[0])\n",
    "    \n",
    "    prev_pos, prev_name = (0, 'header')\n",
    "    parsed = []\n",
    "    \n",
    "    for span, span_end, name in sections:\n",
    "\n",
    "        if span - prev_pos <= 0:\n",
    "            continue\n",
    "            \n",
    "\n",
    "        text = source[prev_pos:span]\n",
    "        if prev_pos > begin_doc:\n",
    "            text = r\"\\n\\begin{document}\" + text + r\"\\n\\end{document}\"\n",
    "        else:\n",
    "            text = text + r\"\\n\\end{document}\"\n",
    "        try:\n",
    "            #print(f\"{prev_pos}:{prev_name}-->{span}:{name} check... \", end='')\n",
    "            parsed.append(TexSoup(text, tolerance=1))  # allow not ending env\n",
    "            display(Markdown(f\"**[OK]** - *{prev_pos}*:{prev_name} &rarr; *{span}*:{name}\"))\n",
    "            # print(\"ok\")\n",
    "\n",
    "            prev_pos = span\n",
    "            prev_name = name\n",
    "        except:\n",
    "            # print(f\"error between {prev_pos} and {span}\")\n",
    "            display(Markdown(f\"**[ERR]** *{prev_pos}*:{prev_name} &rarr; *{span}*:{name}\"))\n",
    "            problematic_text.append((prev_pos, source[prev_pos:span]))\n",
    "            prev_pos = span\n",
    "            prev_name = name\n",
    "            # raise\n",
    "    return problematic_text, parsed\n",
    "\n",
    "\n",
    "def check_environment(text, offset=0):\n",
    "    \"\"\" Check environment \"\"\"\n",
    "    env = re.compile(r\"\\\\begin\\{(?P<env>.*)\\}(.*)\\\\end\\{(?P=env)\\}\", re.DOTALL)\n",
    "\n",
    "    for match in env.finditer(text):\n",
    "        beg, end = match.span()\n",
    "        beg += offset\n",
    "        end += offset\n",
    "        envname = match.groups()[0]\n",
    "        try:\n",
    "            latex.TexSoup(match.group())\n",
    "        except Exception as e:\n",
    "            display(e)\n",
    "            print(f\"Error in {envname:s} between {beg} and {end}\")\n",
    "            return match.groups()[1], beg, end"
   ]
  },
  {
   "cell_type": "raw",
   "id": "2315e835",
   "metadata": {
    "papermill": {
     "duration": 0.007206,
     "end_time": "2023-02-03T04:07:55.912357",
     "exception": false,
     "start_time": "2023-02-03T04:07:55.905151",
     "status": "completed"
    },
    "scrolled": false,
    "tags": []
   },
   "source": [
    "import importlib\n",
    "importlib.reload(latex)\n",
    "which = \"2204.03253\"\n",
    "paper_id = f'{which:s}'\n",
    "folder = f'tmp_{paper_id:s}'\n",
    "\n",
    "if not os.path.isdir(folder):\n",
    "    folder = retrieve_document_source(f\"{paper_id}\", f'tmp_{paper_id}')\n",
    "\n",
    "try:\n",
    "    doc = latex.LatexDocument(folder, validation=validation)    \n",
    "except AffiliationError as affilerror:\n",
    "    msg = f\"ArXiv:{paper_id:s} is not an MPIA paper... \" + str(affilerror)\n",
    "    print(msg)\n",
    "\n",
    "\n",
    "# Hack because sometimes author parsing does not work well\n",
    "if (len(doc.authors) != len(paper['authors'])):\n",
    "    doc._authors = paper['authors']\n",
    "if (doc.abstract) in (None, ''):\n",
    "    doc._abstract = paper['abstract']\n",
    "\n",
    "doc.comment = get_markdown_badge(paper_id) + \" _\" + paper['comments'] + \"_\"\n",
    "doc.highlight_authors_in_list(hl_list)\n",
    "\n",
    "full_md = doc.generate_markdown_text()"
   ]
  },
  {
   "cell_type": "raw",
   "id": "dd3781db",
   "metadata": {
    "papermill": {
     "duration": 0.006954,
     "end_time": "2023-02-03T04:07:55.926665",
     "exception": false,
     "start_time": "2023-02-03T04:07:55.919711",
     "status": "completed"
    },
    "scrolled": false,
    "tags": []
   },
   "source": [
    "doc"
   ]
  },
  {
   "cell_type": "raw",
   "id": "c6eed834",
   "metadata": {
    "papermill": {
     "duration": 0.006808,
     "end_time": "2023-02-03T04:07:55.940409",
     "exception": false,
     "start_time": "2023-02-03T04:07:55.933601",
     "status": "completed"
    },
    "tags": []
   },
   "source": [
    "# [check_environment(k) for k in bracket_error(doc.source)]\n",
    "_, _, a = latex.get_content_per_section(doc.source, verbose=True)\n",
    "if not a:\n",
    "    print(\"no issues per section\")\n",
    "for ak in a:\n",
    "    r = check_environment(ak[1], offset=ak[0])\n",
    "    print(r[1], r[2])\n",
    "    print(r[0])"
   ]
  },
  {
   "cell_type": "code",
   "execution_count": null,
   "id": "71ce768a",
   "metadata": {
    "papermill": {
     "duration": 0.00695,
     "end_time": "2023-02-03T04:07:55.956128",
     "exception": false,
     "start_time": "2023-02-03T04:07:55.949178",
     "status": "completed"
    },
    "tags": []
   },
   "outputs": [],
   "source": []
  }
 ],
 "metadata": {
  "kernelspec": {
   "display_name": "Python 3",
   "language": "python",
   "name": "python3"
  },
  "language_info": {
   "codemirror_mode": {
    "name": "ipython",
    "version": 3
   },
   "file_extension": ".py",
   "mimetype": "text/x-python",
   "name": "python",
   "nbconvert_exporter": "python",
   "pygments_lexer": "ipython3",
   "version": "3.9.16"
  },
  "papermill": {
   "default_parameters": {},
   "duration": 32.429454,
   "end_time": "2023-02-03T04:07:56.180848",
   "environment_variables": {},
   "exception": null,
   "input_path": "MPIA daily digest.ipynb",
   "output_path": "log.ipynb",
   "parameters": {},
   "start_time": "2023-02-03T04:07:23.751394",
   "version": "2.4.0"
  },
  "vscode": {
   "interpreter": {
    "hash": "aee8b7b246df8f9039afb4144a1f6fd8d2ca17a180786b69acc140d282b71a49"
   }
  },
  "widgets": {
   "application/vnd.jupyter.widget-state+json": {
    "state": {
     "1726839a03714672ad5267d926b128fb": {
      "model_module": "@jupyter-widgets/controls",
      "model_module_version": "2.0.0",
      "model_name": "HTMLModel",
      "state": {
       "_dom_classes": [],
       "_model_module": "@jupyter-widgets/controls",
       "_model_module_version": "2.0.0",
       "_model_name": "HTMLModel",
       "_view_count": null,
       "_view_module": "@jupyter-widgets/controls",
       "_view_module_version": "2.0.0",
       "_view_name": "HTMLView",
       "description": "",
       "description_allow_html": false,
       "layout": "IPY_MODEL_9062b1cc319d4c4d8dddd189a9d0340c",
       "placeholder": "​",
       "style": "IPY_MODEL_3a3acc44f20442a39452ea715122966c",
       "tabbable": null,
       "tooltip": null,
       "value": "100%"
      }
     },
     "235b30d0ddba4548aa9dd7601ffe063d": {
      "model_module": "@jupyter-widgets/controls",
      "model_module_version": "2.0.0",
      "model_name": "HTMLModel",
      "state": {
       "_dom_classes": [],
       "_model_module": "@jupyter-widgets/controls",
       "_model_module_version": "2.0.0",
       "_model_name": "HTMLModel",
       "_view_count": null,
       "_view_module": "@jupyter-widgets/controls",
       "_view_module_version": "2.0.0",
       "_view_name": "HTMLView",
       "description": "",
       "description_allow_html": false,
       "layout": "IPY_MODEL_c74bb8cb9ac9480fafb3593d40639d38",
       "placeholder": "​",
       "style": "IPY_MODEL_84f6c66ebdcd48b29352c607fb2daee2",
       "tabbable": null,
       "tooltip": null,
       "value": " 11/11 [00:07&lt;00:00,  1.35it/s]"
      }
     },
     "250771f69bea42d484e20d6034737407": {
      "model_module": "@jupyter-widgets/controls",
      "model_module_version": "2.0.0",
      "model_name": "HBoxModel",
      "state": {
       "_dom_classes": [],
       "_model_module": "@jupyter-widgets/controls",
       "_model_module_version": "2.0.0",
       "_model_name": "HBoxModel",
       "_view_count": null,
       "_view_module": "@jupyter-widgets/controls",
       "_view_module_version": "2.0.0",
       "_view_name": "HBoxView",
       "box_style": "",
       "children": [
        "IPY_MODEL_1726839a03714672ad5267d926b128fb",
        "IPY_MODEL_711d0331adbf4938a2288e4eac1289ac",
        "IPY_MODEL_235b30d0ddba4548aa9dd7601ffe063d"
       ],
       "layout": "IPY_MODEL_690a83b205fd463e8f8aa16e01c16468",
       "tabbable": null,
       "tooltip": null
      }
     },
     "3a3acc44f20442a39452ea715122966c": {
      "model_module": "@jupyter-widgets/controls",
      "model_module_version": "2.0.0",
      "model_name": "HTMLStyleModel",
      "state": {
       "_model_module": "@jupyter-widgets/controls",
       "_model_module_version": "2.0.0",
       "_model_name": "HTMLStyleModel",
       "_view_count": null,
       "_view_module": "@jupyter-widgets/base",
       "_view_module_version": "2.0.0",
       "_view_name": "StyleView",
       "background": null,
       "description_width": "",
       "font_size": null,
       "text_color": null
      }
     },
     "594a06fd6ec64316b26b3448425b0565": {
      "model_module": "@jupyter-widgets/base",
      "model_module_version": "2.0.0",
      "model_name": "LayoutModel",
      "state": {
       "_model_module": "@jupyter-widgets/base",
       "_model_module_version": "2.0.0",
       "_model_name": "LayoutModel",
       "_view_count": null,
       "_view_module": "@jupyter-widgets/base",
       "_view_module_version": "2.0.0",
       "_view_name": "LayoutView",
       "align_content": null,
       "align_items": null,
       "align_self": null,
       "border_bottom": null,
       "border_left": null,
       "border_right": null,
       "border_top": null,
       "bottom": null,
       "display": null,
       "flex": null,
       "flex_flow": null,
       "grid_area": null,
       "grid_auto_columns": null,
       "grid_auto_flow": null,
       "grid_auto_rows": null,
       "grid_column": null,
       "grid_gap": null,
       "grid_row": null,
       "grid_template_areas": null,
       "grid_template_columns": null,
       "grid_template_rows": null,
       "height": null,
       "justify_content": null,
       "justify_items": null,
       "left": null,
       "margin": null,
       "max_height": null,
       "max_width": null,
       "min_height": null,
       "min_width": null,
       "object_fit": null,
       "object_position": null,
       "order": null,
       "overflow": null,
       "padding": null,
       "right": null,
       "top": null,
       "visibility": null,
       "width": null
      }
     },
     "690a83b205fd463e8f8aa16e01c16468": {
      "model_module": "@jupyter-widgets/base",
      "model_module_version": "2.0.0",
      "model_name": "LayoutModel",
      "state": {
       "_model_module": "@jupyter-widgets/base",
       "_model_module_version": "2.0.0",
       "_model_name": "LayoutModel",
       "_view_count": null,
       "_view_module": "@jupyter-widgets/base",
       "_view_module_version": "2.0.0",
       "_view_name": "LayoutView",
       "align_content": null,
       "align_items": null,
       "align_self": null,
       "border_bottom": null,
       "border_left": null,
       "border_right": null,
       "border_top": null,
       "bottom": null,
       "display": null,
       "flex": null,
       "flex_flow": null,
       "grid_area": null,
       "grid_auto_columns": null,
       "grid_auto_flow": null,
       "grid_auto_rows": null,
       "grid_column": null,
       "grid_gap": null,
       "grid_row": null,
       "grid_template_areas": null,
       "grid_template_columns": null,
       "grid_template_rows": null,
       "height": null,
       "justify_content": null,
       "justify_items": null,
       "left": null,
       "margin": null,
       "max_height": null,
       "max_width": null,
       "min_height": null,
       "min_width": null,
       "object_fit": null,
       "object_position": null,
       "order": null,
       "overflow": null,
       "padding": null,
       "right": null,
       "top": null,
       "visibility": null,
       "width": null
      }
     },
     "711d0331adbf4938a2288e4eac1289ac": {
      "model_module": "@jupyter-widgets/controls",
      "model_module_version": "2.0.0",
      "model_name": "FloatProgressModel",
      "state": {
       "_dom_classes": [],
       "_model_module": "@jupyter-widgets/controls",
       "_model_module_version": "2.0.0",
       "_model_name": "FloatProgressModel",
       "_view_count": null,
       "_view_module": "@jupyter-widgets/controls",
       "_view_module_version": "2.0.0",
       "_view_name": "ProgressView",
       "bar_style": "success",
       "description": "",
       "description_allow_html": false,
       "layout": "IPY_MODEL_594a06fd6ec64316b26b3448425b0565",
       "max": 11.0,
       "min": 0.0,
       "orientation": "horizontal",
       "style": "IPY_MODEL_950cf14f93a14610bf4f8e0b60f1d240",
       "tabbable": null,
       "tooltip": null,
       "value": 11.0
      }
     },
     "84f6c66ebdcd48b29352c607fb2daee2": {
      "model_module": "@jupyter-widgets/controls",
      "model_module_version": "2.0.0",
      "model_name": "HTMLStyleModel",
      "state": {
       "_model_module": "@jupyter-widgets/controls",
       "_model_module_version": "2.0.0",
       "_model_name": "HTMLStyleModel",
       "_view_count": null,
       "_view_module": "@jupyter-widgets/base",
       "_view_module_version": "2.0.0",
       "_view_name": "StyleView",
       "background": null,
       "description_width": "",
       "font_size": null,
       "text_color": null
      }
     },
     "9062b1cc319d4c4d8dddd189a9d0340c": {
      "model_module": "@jupyter-widgets/base",
      "model_module_version": "2.0.0",
      "model_name": "LayoutModel",
      "state": {
       "_model_module": "@jupyter-widgets/base",
       "_model_module_version": "2.0.0",
       "_model_name": "LayoutModel",
       "_view_count": null,
       "_view_module": "@jupyter-widgets/base",
       "_view_module_version": "2.0.0",
       "_view_name": "LayoutView",
       "align_content": null,
       "align_items": null,
       "align_self": null,
       "border_bottom": null,
       "border_left": null,
       "border_right": null,
       "border_top": null,
       "bottom": null,
       "display": null,
       "flex": null,
       "flex_flow": null,
       "grid_area": null,
       "grid_auto_columns": null,
       "grid_auto_flow": null,
       "grid_auto_rows": null,
       "grid_column": null,
       "grid_gap": null,
       "grid_row": null,
       "grid_template_areas": null,
       "grid_template_columns": null,
       "grid_template_rows": null,
       "height": null,
       "justify_content": null,
       "justify_items": null,
       "left": null,
       "margin": null,
       "max_height": null,
       "max_width": null,
       "min_height": null,
       "min_width": null,
       "object_fit": null,
       "object_position": null,
       "order": null,
       "overflow": null,
       "padding": null,
       "right": null,
       "top": null,
       "visibility": null,
       "width": null
      }
     },
     "950cf14f93a14610bf4f8e0b60f1d240": {
      "model_module": "@jupyter-widgets/controls",
      "model_module_version": "2.0.0",
      "model_name": "ProgressStyleModel",
      "state": {
       "_model_module": "@jupyter-widgets/controls",
       "_model_module_version": "2.0.0",
       "_model_name": "ProgressStyleModel",
       "_view_count": null,
       "_view_module": "@jupyter-widgets/base",
       "_view_module_version": "2.0.0",
       "_view_name": "StyleView",
       "bar_color": null,
       "description_width": ""
      }
     },
     "c74bb8cb9ac9480fafb3593d40639d38": {
      "model_module": "@jupyter-widgets/base",
      "model_module_version": "2.0.0",
      "model_name": "LayoutModel",
      "state": {
       "_model_module": "@jupyter-widgets/base",
       "_model_module_version": "2.0.0",
       "_model_name": "LayoutModel",
       "_view_count": null,
       "_view_module": "@jupyter-widgets/base",
       "_view_module_version": "2.0.0",
       "_view_name": "LayoutView",
       "align_content": null,
       "align_items": null,
       "align_self": null,
       "border_bottom": null,
       "border_left": null,
       "border_right": null,
       "border_top": null,
       "bottom": null,
       "display": null,
       "flex": null,
       "flex_flow": null,
       "grid_area": null,
       "grid_auto_columns": null,
       "grid_auto_flow": null,
       "grid_auto_rows": null,
       "grid_column": null,
       "grid_gap": null,
       "grid_row": null,
       "grid_template_areas": null,
       "grid_template_columns": null,
       "grid_template_rows": null,
       "height": null,
       "justify_content": null,
       "justify_items": null,
       "left": null,
       "margin": null,
       "max_height": null,
       "max_width": null,
       "min_height": null,
       "min_width": null,
       "object_fit": null,
       "object_position": null,
       "order": null,
       "overflow": null,
       "padding": null,
       "right": null,
       "top": null,
       "visibility": null,
       "width": null
      }
     }
    },
    "version_major": 2,
    "version_minor": 0
   }
  }
 },
 "nbformat": 4,
 "nbformat_minor": 5
}