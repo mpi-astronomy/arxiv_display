{
 "cells": [
  {
   "cell_type": "markdown",
   "id": "92bcb855",
   "metadata": {
    "papermill": {
     "duration": 0.004804,
     "end_time": "2022-12-23T04:04:58.451780",
     "exception": false,
     "start_time": "2022-12-23T04:04:58.446976",
     "status": "completed"
    },
    "tags": []
   },
   "source": [
    "# MPIA Arxiv on Deck 2\n",
    "\n",
    "Contains the steps to produce the paper extractions."
   ]
  },
  {
   "cell_type": "code",
   "execution_count": 1,
   "id": "3a0d6e11",
   "metadata": {
    "execution": {
     "iopub.execute_input": "2022-12-23T04:04:58.461734Z",
     "iopub.status.busy": "2022-12-23T04:04:58.460987Z",
     "iopub.status.idle": "2022-12-23T04:04:58.643251Z",
     "shell.execute_reply": "2022-12-23T04:04:58.642614Z"
    },
    "papermill": {
     "duration": 0.189127,
     "end_time": "2022-12-23T04:04:58.645132",
     "exception": false,
     "start_time": "2022-12-23T04:04:58.456005",
     "status": "completed"
    },
    "tags": []
   },
   "outputs": [],
   "source": [
    "# Imports\n",
    "import os\n",
    "from IPython.display import Markdown, display\n",
    "from tqdm.notebook import tqdm\n",
    "import warnings\n",
    "from PIL import Image \n",
    "\n",
    "# requires arxiv_on_deck_2\n",
    "\n",
    "from arxiv_on_deck_2.arxiv2 import (get_new_papers, \n",
    "                                    get_paper_from_identifier,\n",
    "                                    retrieve_document_source, \n",
    "                                    get_markdown_badge)\n",
    "from arxiv_on_deck_2 import (latex, \n",
    "                             mpia,\n",
    "                             highlight_authors_in_list)\n",
    "\n",
    "# Sometimes images are really big\n",
    "Image.MAX_IMAGE_PIXELS = 1000000000 "
   ]
  },
  {
   "cell_type": "code",
   "execution_count": 2,
   "id": "22aa9d44",
   "metadata": {
    "execution": {
     "iopub.execute_input": "2022-12-23T04:04:58.657632Z",
     "iopub.status.busy": "2022-12-23T04:04:58.656982Z",
     "iopub.status.idle": "2022-12-23T04:04:58.662827Z",
     "shell.execute_reply": "2022-12-23T04:04:58.662269Z"
    },
    "papermill": {
     "duration": 0.013388,
     "end_time": "2022-12-23T04:04:58.664456",
     "exception": false,
     "start_time": "2022-12-23T04:04:58.651068",
     "status": "completed"
    },
    "tags": []
   },
   "outputs": [],
   "source": [
    "# Some useful definitions.\n",
    "\n",
    "class AffiliationWarning(UserWarning):\n",
    "    pass\n",
    "\n",
    "class AffiliationError(RuntimeError):\n",
    "    pass\n",
    "\n",
    "def validation(source: str):\n",
    "    \"\"\"Raises error paper during parsing of source file\n",
    "    \n",
    "    Allows checks before parsing TeX code.\n",
    "    \n",
    "    Raises AffiliationWarning\n",
    "    \"\"\"\n",
    "    check = mpia.affiliation_verifications(source, verbose=True)\n",
    "    if check is not True:\n",
    "        raise AffiliationError(\"mpia.affiliation_verifications: \" + check)\n",
    "\n",
    "        \n",
    "warnings.simplefilter('always', AffiliationWarning)"
   ]
  },
  {
   "cell_type": "code",
   "execution_count": 3,
   "id": "14622700",
   "metadata": {
    "execution": {
     "iopub.execute_input": "2022-12-23T04:04:58.705294Z",
     "iopub.status.busy": "2022-12-23T04:04:58.704876Z",
     "iopub.status.idle": "2022-12-23T04:04:58.708504Z",
     "shell.execute_reply": "2022-12-23T04:04:58.707921Z"
    },
    "papermill": {
     "duration": 0.01072,
     "end_time": "2022-12-23T04:04:58.710077",
     "exception": false,
     "start_time": "2022-12-23T04:04:58.699357",
     "status": "completed"
    },
    "tags": []
   },
   "outputs": [],
   "source": [
    "# additional CSS to consider. \n",
    "# TODO: Current into each exported file. \n",
    "#       This should be set once into the webpages directly.\n",
    "#       With only the class/id definitions in the .md files.\n",
    "\n",
    "debug_html = \"\"\"\n",
    "<style>\n",
    "#wrap{ overflow:auto; }\n",
    "#fig1{ background:yellow; width:100%; float:left; padding:5px;  }\n",
    "#fig2{ background:red; width:50%; float:left; clear:left; padding:5px;  }\n",
    "#fig3{ background:green; width:50%; float:left; padding:5px;   }\n",
    ".macros{ background:yellow; visibility:visible;}\n",
    "h1 {margin: 0 0 0 0;}\n",
    "mark {background-color:#fff3b6;}\n",
    "img {object-fit:contain; max-height:250px; display:inline-block; text-align: center;}\n",
    "</style>\n",
    "\"\"\" \n",
    "html = \"\"\"\n",
    "<style>\n",
    "#wrap{ overflow:auto; }\n",
    "#fig1{ width:100%; float:left; padding: 5px;  }\n",
    "#fig2{ width:50%; float:left; clear:left; padding: 5px;  }\n",
    "#fig3{ width:50%; float:left; padding: 5px;  }\n",
    ".macros{ visibility:hidden; height:0px; }\n",
    "h1 {margin: 0em 0 0 0;}\n",
    "mark {background-color:#fff3b6;}\n",
    "img {object-fit:contain; max-height:250px; display:inline-block; text-align: center;}\n",
    "</style>\n",
    "\"\"\""
   ]
  },
  {
   "cell_type": "markdown",
   "id": "14bd6310",
   "metadata": {
    "papermill": {
     "duration": 0.004099,
     "end_time": "2022-12-23T04:04:58.751207",
     "exception": false,
     "start_time": "2022-12-23T04:04:58.747108",
     "status": "completed"
    },
    "tags": []
   },
   "source": [
    "## get list of arxiv paper candidates\n",
    "\n",
    "We use the MPIA mitarbeiter list webpage from mpia.de to get author names\n",
    "We then get all new papers from Arxiv and match authors"
   ]
  },
  {
   "cell_type": "code",
   "execution_count": 4,
   "id": "2645e73a",
   "metadata": {
    "execution": {
     "iopub.execute_input": "2022-12-23T04:04:58.800686Z",
     "iopub.status.busy": "2022-12-23T04:04:58.799993Z",
     "iopub.status.idle": "2022-12-23T04:05:26.666120Z",
     "shell.execute_reply": "2022-12-23T04:05:26.664625Z"
    },
    "papermill": {
     "duration": 27.872909,
     "end_time": "2022-12-23T04:05:26.667753",
     "exception": false,
     "start_time": "2022-12-23T04:04:58.794844",
     "status": "completed"
    },
    "tags": []
   },
   "outputs": [
    {
     "name": "stdout",
     "output_type": "stream",
     "text": [
      "Arxiv has 43 new papers today\n",
      "          17 with possible author matches\n"
     ]
    }
   ],
   "source": [
    "# get list from MPIA website\n",
    "# it automatically filters identified non-scientists :func:`mpia.filter_non_scientists`\n",
    "mpia_authors = mpia.get_mpia_mitarbeiter_list()\n",
    "new_papers = get_new_papers()\n",
    "# add manual references\n",
    "add_paper_refs = []\n",
    "new_papers.extend([get_paper_from_identifier(k) for k in add_paper_refs])\n",
    "\n",
    "# select only papers with matching author names and highlight authors\n",
    "hl_list = [k[0] for k in mpia_authors]\n",
    "\n",
    "candidates = []\n",
    "for paperk in new_papers:\n",
    "    hl_authors = highlight_authors_in_list(paperk['authors'], hl_list)\n",
    "    matches = [(hl, orig) for hl, orig in zip(hl_authors, paperk['authors']) if 'mark' in hl]\n",
    "    paperk['authors'] = hl_authors\n",
    "    if matches:\n",
    "        candidates.append(paperk)\n",
    "print(\"\"\"Arxiv has {0:,d} new papers today\"\"\".format(len(new_papers)))        \n",
    "print(\"\"\"          {0:,d} with possible author matches\"\"\".format(len(candidates)))"
   ]
  },
  {
   "cell_type": "markdown",
   "id": "3543b34a",
   "metadata": {
    "papermill": {
     "duration": 0.004352,
     "end_time": "2022-12-23T04:05:26.676474",
     "exception": false,
     "start_time": "2022-12-23T04:05:26.672122",
     "status": "completed"
    },
    "tags": []
   },
   "source": [
    "# Parse sources and generate relevant outputs\n",
    "\n",
    "From the candidates, we do the following steps:\n",
    "* get their tarball from ArXiv (and extract data)\n",
    "* find the main .tex file: find one with \\documentclass{...} (sometimes it's non trivial)\n",
    "* Check affiliations with :func:`validation`, which uses :func:`mpia.affiliation_verifications`\n",
    "* If passing the affiliations: we parse the .tex source\n",
    "   * inject sub-documents into the main (flatten the main document)\n",
    "   * parse structure, extract information (title, abstract, authors, figures...)\n",
    "   * handles `\\graphicspath` if provided\n",
    "* Generate the .md document."
   ]
  },
  {
   "cell_type": "code",
   "execution_count": 5,
   "id": "9576b79e",
   "metadata": {
    "execution": {
     "iopub.execute_input": "2022-12-23T04:05:26.685742Z",
     "iopub.status.busy": "2022-12-23T04:05:26.685275Z",
     "iopub.status.idle": "2022-12-23T04:07:35.372618Z",
     "shell.execute_reply": "2022-12-23T04:07:35.371835Z"
    },
    "papermill": {
     "duration": 128.693701,
     "end_time": "2022-12-23T04:07:35.374127",
     "exception": false,
     "start_time": "2022-12-23T04:05:26.680426",
     "status": "completed"
    },
    "scrolled": false,
    "tags": []
   },
   "outputs": [
    {
     "data": {
      "application/vnd.jupyter.widget-view+json": {
       "model_id": "397f90fd4dd0453ead2404ef36a43d82",
       "version_major": 2,
       "version_minor": 0
      },
      "text/plain": [
       "  0%|          | 0/16 [00:00<?, ?it/s]"
      ]
     },
     "metadata": {},
     "output_type": "display_data"
    },
    {
     "name": "stdout",
     "output_type": "stream",
     "text": [
      "Retrieving document from  https://arxiv.org/e-print/2212.11313\n"
     ]
    },
    {
     "name": "stdout",
     "output_type": "stream",
     "text": [
      "extracting tarball to tmp_2212.11313..."
     ]
    },
    {
     "name": "stdout",
     "output_type": "stream",
     "text": [
      " done.\n",
      "Retrieving document from  https://arxiv.org/e-print/2212.11319\n"
     ]
    },
    {
     "name": "stdout",
     "output_type": "stream",
     "text": [
      "extracting tarball to tmp_2212.11319..."
     ]
    },
    {
     "name": "stdout",
     "output_type": "stream",
     "text": [
      " done.\n",
      "Retrieving document from  https://arxiv.org/e-print/2212.11355\n"
     ]
    },
    {
     "name": "stdout",
     "output_type": "stream",
     "text": [
      "extracting tarball to tmp_2212.11355..."
     ]
    },
    {
     "name": "stdout",
     "output_type": "stream",
     "text": [
      " done.\n",
      "Retrieving document from  https://arxiv.org/e-print/2212.11421\n"
     ]
    },
    {
     "name": "stderr",
     "output_type": "stream",
     "text": [
      "/opt/hostedtoolcache/Python/3.9.16/x64/lib/python3.9/site-packages/IPython/core/interactiveshell.py:3433: LatexWarning: Multiple tex files.\n",
      "\n",
      "  exec(code_obj, self.user_global_ns, self.user_ns)\n",
      "/opt/hostedtoolcache/Python/3.9.16/x64/lib/python3.9/site-packages/IPython/core/interactiveshell.py:3433: LatexWarning: Found documentclass in tmp_2212.11355/main.tex\n",
      "\n",
      "  exec(code_obj, self.user_global_ns, self.user_ns)\n"
     ]
    },
    {
     "name": "stdout",
     "output_type": "stream",
     "text": [
      "extracting tarball to tmp_2212.11421..."
     ]
    },
    {
     "name": "stdout",
     "output_type": "stream",
     "text": [
      " done.\n"
     ]
    },
    {
     "name": "stderr",
     "output_type": "stream",
     "text": [
      "/opt/hostedtoolcache/Python/3.9.16/x64/lib/python3.9/site-packages/arxiv_on_deck_2/latex.py:594: LatexWarning: Could not extract abstract from tmp_2212.11421/paper.tex\n",
      "  warnings.warn(LatexWarning(f\"Could not extract abstract from {self.main_file}\"))\n"
     ]
    },
    {
     "name": "stderr",
     "output_type": "stream",
     "text": [
      "/tmp/ipykernel_2071/4030337529.py:34: LatexWarning: 2212.11421 did not run properly\n",
      "list index out of range\n",
      "  warnings.warn(latex.LatexWarning(f\"{paper_id:s} did not run properly\\n\" +\n"
     ]
    },
    {
     "name": "stdout",
     "output_type": "stream",
     "text": [
      "Retrieving document from  https://arxiv.org/e-print/2212.11425\n"
     ]
    },
    {
     "name": "stdout",
     "output_type": "stream",
     "text": [
      "extracting tarball to tmp_2212.11425..."
     ]
    },
    {
     "name": "stdout",
     "output_type": "stream",
     "text": [
      " done.\n"
     ]
    },
    {
     "name": "stderr",
     "output_type": "stream",
     "text": [
      "/opt/hostedtoolcache/Python/3.9.16/x64/lib/python3.9/site-packages/IPython/core/interactiveshell.py:3433: LatexWarning: Multiple tex files.\n",
      "\n",
      "  exec(code_obj, self.user_global_ns, self.user_ns)\n",
      "/opt/hostedtoolcache/Python/3.9.16/x64/lib/python3.9/site-packages/IPython/core/interactiveshell.py:3433: LatexWarning: Found documentclass in tmp_2212.11425/main.tex\n",
      "\n",
      "  exec(code_obj, self.user_global_ns, self.user_ns)\n"
     ]
    },
    {
     "name": "stderr",
     "output_type": "stream",
     "text": [
      "/opt/hostedtoolcache/Python/3.9.16/x64/lib/python3.9/site-packages/arxiv_on_deck_2/latex.py:118: LatexWarning: attempting recovering figure ngc3351_nuv_iphot_nuvphot_ss\n",
      "  warnings.warn(LatexWarning(f'attempting recovering figure {image}'))\n"
     ]
    },
    {
     "name": "stdout",
     "output_type": "stream",
     "text": [
      "Retrieving document from  https://arxiv.org/e-print/2212.11426\n"
     ]
    },
    {
     "name": "stdout",
     "output_type": "stream",
     "text": [
      "extracting tarball to tmp_2212.11426..."
     ]
    },
    {
     "name": "stdout",
     "output_type": "stream",
     "text": [
      " done.\n",
      "Retrieving document from  https://arxiv.org/e-print/2212.11434\n"
     ]
    },
    {
     "name": "stderr",
     "output_type": "stream",
     "text": [
      "/opt/hostedtoolcache/Python/3.9.16/x64/lib/python3.9/site-packages/IPython/core/interactiveshell.py:3433: LatexWarning: Multiple tex files.\n",
      "\n",
      "  exec(code_obj, self.user_global_ns, self.user_ns)\n",
      "/opt/hostedtoolcache/Python/3.9.16/x64/lib/python3.9/site-packages/IPython/core/interactiveshell.py:3433: LatexWarning: Found documentclass in tmp_2212.11426/natbib.tex\n",
      "\n",
      "  exec(code_obj, self.user_global_ns, self.user_ns)\n"
     ]
    },
    {
     "name": "stdout",
     "output_type": "stream",
     "text": [
      "extracting tarball to tmp_2212.11434..."
     ]
    },
    {
     "name": "stdout",
     "output_type": "stream",
     "text": [
      " done.\n",
      "Retrieving document from  https://arxiv.org/e-print/2212.11443\n"
     ]
    },
    {
     "name": "stdout",
     "output_type": "stream",
     "text": [
      "extracting tarball to tmp_2212.11443..."
     ]
    },
    {
     "name": "stdout",
     "output_type": "stream",
     "text": [
      " done.\n",
      "Retrieving document from  https://arxiv.org/e-print/2212.11535\n"
     ]
    },
    {
     "name": "stderr",
     "output_type": "stream",
     "text": [
      "/opt/hostedtoolcache/Python/3.9.16/x64/lib/python3.9/site-packages/IPython/core/interactiveshell.py:3433: LatexWarning: Multiple tex files.\n",
      "\n",
      "  exec(code_obj, self.user_global_ns, self.user_ns)\n",
      "/opt/hostedtoolcache/Python/3.9.16/x64/lib/python3.9/site-packages/IPython/core/interactiveshell.py:3433: LatexWarning: Found documentclass in tmp_2212.11443/Primary_Objective_Grating_Telescopy.tex\n",
      "\n",
      "  exec(code_obj, self.user_global_ns, self.user_ns)\n"
     ]
    },
    {
     "name": "stdout",
     "output_type": "stream",
     "text": [
      "extracting tarball to tmp_2212.11535..."
     ]
    },
    {
     "name": "stdout",
     "output_type": "stream",
     "text": [
      " done.\n",
      "Retrieving document from  https://arxiv.org/e-print/2212.11569\n"
     ]
    },
    {
     "name": "stderr",
     "output_type": "stream",
     "text": [
      "/opt/hostedtoolcache/Python/3.9.16/x64/lib/python3.9/site-packages/IPython/core/interactiveshell.py:3433: LatexWarning: Multiple tex files.\n",
      "\n",
      "  exec(code_obj, self.user_global_ns, self.user_ns)\n",
      "/opt/hostedtoolcache/Python/3.9.16/x64/lib/python3.9/site-packages/IPython/core/interactiveshell.py:3433: LatexWarning: Found documentclass in tmp_2212.11535/ms_new.tex\n",
      "\n",
      "  exec(code_obj, self.user_global_ns, self.user_ns)\n"
     ]
    },
    {
     "name": "stdout",
     "output_type": "stream",
     "text": [
      "extracting tarball to tmp_2212.11569..."
     ]
    },
    {
     "name": "stdout",
     "output_type": "stream",
     "text": [
      " done.\n",
      "Retrieving document from  https://arxiv.org/e-print/2212.11618\n"
     ]
    },
    {
     "name": "stderr",
     "output_type": "stream",
     "text": [
      "/opt/hostedtoolcache/Python/3.9.16/x64/lib/python3.9/site-packages/IPython/core/interactiveshell.py:3433: LatexWarning: Multiple tex files.\n",
      "\n",
      "  exec(code_obj, self.user_global_ns, self.user_ns)\n",
      "/opt/hostedtoolcache/Python/3.9.16/x64/lib/python3.9/site-packages/IPython/core/interactiveshell.py:3433: LatexWarning: Found documentclass in tmp_2212.11569/main.tex\n",
      "\n",
      "  exec(code_obj, self.user_global_ns, self.user_ns)\n"
     ]
    },
    {
     "name": "stdout",
     "output_type": "stream",
     "text": [
      "extracting tarball to tmp_2212.11618..."
     ]
    },
    {
     "name": "stdout",
     "output_type": "stream",
     "text": [
      " done.\n",
      "Retrieving document from  https://arxiv.org/e-print/2212.11638\n"
     ]
    },
    {
     "name": "stdout",
     "output_type": "stream",
     "text": [
      "extracting tarball to tmp_2212.11638..."
     ]
    },
    {
     "name": "stdout",
     "output_type": "stream",
     "text": [
      " done.\n",
      "Retrieving document from  https://arxiv.org/e-print/2212.11639\n"
     ]
    },
    {
     "name": "stdout",
     "output_type": "stream",
     "text": [
      "extracting tarball to tmp_2212.11639..."
     ]
    },
    {
     "name": "stdout",
     "output_type": "stream",
     "text": [
      " done.\n",
      "Retrieving document from  https://arxiv.org/e-print/2212.11940\n"
     ]
    },
    {
     "name": "stderr",
     "output_type": "stream",
     "text": [
      "/opt/hostedtoolcache/Python/3.9.16/x64/lib/python3.9/site-packages/arxiv_on_deck_2/latex.py:292: LatexWarning: Latex injecting: 'main.bbl' from 'tmp_2212.11639/main.tex'\n",
      "  warnings.warn(LatexWarning(f\"Latex injecting: '{ext}' from '{subsource}'\"))\n"
     ]
    },
    {
     "name": "stdout",
     "output_type": "stream",
     "text": [
      "extracting tarball to tmp_2212.11940..."
     ]
    },
    {
     "name": "stdout",
     "output_type": "stream",
     "text": [
      " done.\n",
      "Retrieving document from  https://arxiv.org/e-print/2212.11941\n"
     ]
    },
    {
     "name": "stdout",
     "output_type": "stream",
     "text": [
      "extracting tarball to tmp_2212.11941..."
     ]
    },
    {
     "name": "stdout",
     "output_type": "stream",
     "text": [
      " done.\n",
      "Retrieving document from  https://arxiv.org/e-print/2212.11960\n"
     ]
    },
    {
     "name": "stderr",
     "output_type": "stream",
     "text": [
      "/tmp/ipykernel_2071/4030337529.py:34: LatexWarning: 2212.11960 did not run properly\n",
      "not a gzip file\n",
      "  warnings.warn(latex.LatexWarning(f\"{paper_id:s} did not run properly\\n\" +\n"
     ]
    }
   ],
   "source": [
    "documents = []\n",
    "failed = []\n",
    "for paper in tqdm(candidates[:-1]):\n",
    "    paper_id = paper['identifier'].lower().replace('arxiv:', '')\n",
    "    \n",
    "    folder = f'tmp_{paper_id}'\n",
    "\n",
    "    try:\n",
    "        if not os.path.isdir(folder):\n",
    "            folder = retrieve_document_source(f\"{paper_id}\", f'tmp_{paper_id}')\n",
    "        \n",
    "        try:\n",
    "            doc = latex.LatexDocument(folder, validation=validation)    \n",
    "        except AffiliationError as affilerror:\n",
    "            msg = f\"ArXiv:{paper_id:s} is not an MPIA paper... \" + str(affilerror)\n",
    "            failed.append((paper, \"affiliation error: \" + str(affilerror) ))\n",
    "            continue\n",
    "        \n",
    "        # Hack because sometimes author parsing does not work well\n",
    "        if (len(doc.authors) != len(paper['authors'])):\n",
    "            doc._authors = paper['authors']\n",
    "        if (doc.abstract) in (None, ''):\n",
    "            doc._abstract = paper['abstract']\n",
    "            \n",
    "        doc.comment = (get_markdown_badge(paper_id) + \n",
    "                       \"<mark>Appeared on: \" + paper['date'] + \"</mark> - \" +\n",
    "                       \"_\" + paper['comments'] + \"_\")\n",
    "        doc.highlight_authors_in_list(hl_list)\n",
    "\n",
    "        full_md = doc.generate_markdown_text()\n",
    "        \n",
    "        documents.append((paper_id, full_md))\n",
    "    except Exception as e:\n",
    "        warnings.warn(latex.LatexWarning(f\"{paper_id:s} did not run properly\\n\" +\n",
    "                                         str(e)\n",
    "                                        ))\n",
    "        failed.append((paper, \"latex error \" + str(e)))"
   ]
  },
  {
   "cell_type": "markdown",
   "id": "2505a25c",
   "metadata": {
    "papermill": {
     "duration": 0.006156,
     "end_time": "2022-12-23T04:07:35.387304",
     "exception": false,
     "start_time": "2022-12-23T04:07:35.381148",
     "status": "completed"
    },
    "tags": []
   },
   "source": [
    "### Export the logs\n",
    "\n",
    "Throughout, we also keep track of the logs per paper. see `logs-{today date}.md` "
   ]
  },
  {
   "cell_type": "code",
   "execution_count": 6,
   "id": "d733828a",
   "metadata": {
    "execution": {
     "iopub.execute_input": "2022-12-23T04:07:35.401642Z",
     "iopub.status.busy": "2022-12-23T04:07:35.400979Z",
     "iopub.status.idle": "2022-12-23T04:07:35.431395Z",
     "shell.execute_reply": "2022-12-23T04:07:35.430813Z"
    },
    "papermill": {
     "duration": 0.04266,
     "end_time": "2022-12-23T04:07:35.436126",
     "exception": false,
     "start_time": "2022-12-23T04:07:35.393466",
     "status": "completed"
    },
    "scrolled": false,
    "tags": []
   },
   "outputs": [
    {
     "data": {
      "text/markdown": [
       "## Successful papers"
      ],
      "text/plain": [
       "<IPython.core.display.Markdown object>"
      ]
     },
     "metadata": {},
     "output_type": "display_data"
    },
    {
     "data": {
      "text/markdown": [
       "\n",
       "|||\n",
       "|---:|:---|\n",
       "| [![arXiv](https://img.shields.io/badge/arXiv-arXiv:2212.11425-b31b1b.svg)](https://arxiv.org/abs/arXiv:2212.11425) | **Multi-Scale Stellar Associations across the Star Formation Hierarchy in  PHANGS-HST Nearby Galaxies: Methodology and Properties**  |\n",
       "|| Kirsten L. Larson, et al. -- incl., <mark>Janice C. Lee</mark>, <mark>James Lilly</mark>, <mark>Frank Bigiel</mark>, <mark>Kathryn Kreckel</mark>, <mark>Eva Schinnerer</mark> |\n",
       "|*Appeared on*| *2022-12-23*|\n",
       "|*Comments*| *Submitted to MNRAS. Referee report received with minor comments, and \"request to clarify if the smaller associations are always included in the larger ones and how this may affect the photometric fitting of the larger association if the groups have different ages.\" Revision in progress*|\n",
       "|**Abstract**| We develop a method to identify and determine the physical properties of stellar associations using Hubble Space Telescope (HST) NUV-U-B-V-I imaging of nearby galaxies from the PHANGS-HST survey. We apply a watershed algorithm to density maps constructed from point source catalogues Gaussian smoothed to multiple physical scales from 8 to 64 pc. We develop our method on two galaxies that span the distance range in the PHANGS-HST sample: NGC 3351 (10 Mpc), NGC 1566 (18 Mpc). We test our algorithm with different parameters such as the choice of detection band for the point source catalogue (NUV or V), source density image filtering methods, and absolute magnitude limits. We characterise the properties of the resulting multi-scale associations, including sizes, number of tracer stars, number of associations, photometry, as well as ages, masses, and reddening from Spectral Energy Distribution fitting. Our method successfully identifies structures that occupy loci in the UBVI colour-colour diagram consistent with previously published catalogues of clusters and associations. The median ages of the associations increases from log(age/yr) = 6.6 to log(age/yr) = 6.9 as the spatial scale increases from 8 pc to 64 pc for both galaxies. We find that the youngest stellar associations, with ages < 3 Myr, indeed closely trace H ii regions in H$\\alpha$ imaging, and that older associations are increasingly anti-correlated with the H$\\alpha$ emission. Owing to our new method, the PHANGS-HST multi-scale associations provide a far more complete census of recent star formation activity than found with previous cluster and compact association catalogues. The method presented here will be applied to the full sample of 38 PHANGS-HST galaxies. |"
      ],
      "text/plain": [
       "[arXiv:2212.11425] Multi-Scale Stellar Associations across the Star Formation Hierarchy in  PHANGS-HST Nearby Galaxies: Methodology and Properties\n",
       "\tKirsten L. Larson, et al. -- incl., <mark>Janice C. Lee</mark>, <mark>James Lilly</mark>, <mark>Frank Bigiel</mark>, <mark>Kathryn Kreckel</mark>, <mark>Eva Schinnerer</mark>"
      ]
     },
     "metadata": {},
     "output_type": "display_data"
    },
    {
     "data": {
      "text/markdown": [
       "## Failed papers"
      ],
      "text/plain": [
       "<IPython.core.display.Markdown object>"
      ]
     },
     "metadata": {},
     "output_type": "display_data"
    },
    {
     "data": {
      "text/markdown": [
       "\n",
       "|||\n",
       "|---:|:---|\n",
       "| [![arXiv](https://img.shields.io/badge/arXiv-arXiv:2212.11319-b31b1b.svg)](https://arxiv.org/abs/arXiv:2212.11319) | **The Dark Energy Survey Year 3 and eBOSS: constraining galaxy intrinsic  alignments across luminosity and colour space**  |\n",
       "|| S. Samuroff, et al. -- incl., <mark>I. Harrison</mark>, <mark>K. Herner</mark> |\n",
       "|*Appeared on*| *2022-12-23*|\n",
       "|*Comments*| *Submitted to MNRAS; 22 pages, 11 figures*|\n",
       "|**Abstract**| We present direct constraints on galaxy intrinsic alignments using the Dark Energy Survey Year 3 (DES Y3), the Extended Baryon Oscillation Spectroscopic Survey (eBOSS) and its precursor, the Baryon Oscillation Spectroscopic Survey (BOSS). Our measurements incorporate photometric red sequence (redMaGiC) galaxies from DES with median redshift $z\\sim0.2-1.0$, luminous red galaxies (LRGs) from eBOSS at $z\\sim0.8$, and also a SDSS-III BOSS CMASS sample at $z\\sim0.5$. We measure two point intrinsic alignment correlations, which we fit using a model that includes lensing, magnification and photometric redshift error. Fitting on scales $6<r_{\\rm p} < 70$ Mpc$/h$, we make a detection of intrinsic alignments in each sample, at $5\\sigma-22\\sigma$ (assuming a simple one parameter model for IAs). Using these red samples, we measure the IA-luminosity relation. Our results are statistically consistent with previous results, but offer a significant improvement in constraining power, particularly at low luminosity. With this improved precision, we see detectable dependence on colour between broadly defined red samples. It is likely that a more sophisticated approach than a binary red/blue split, which jointly considers colour and luminosity dependence in the IA signal, will be needed in future. We also compare the various signal components at the best fitting point in parameter space for each sample, and find that magnification and lensing contribute $\\sim2-18\\%$ of the total signal. As precision continues to improve, it will certainly be necessary to account for these effects in future direct IA measurements. Finally, we make equivalent measurements on a sample of Emission Line Galaxies (ELGs) from eBOSS at $z\\sim 0.8$. We report a null detection, constraining the IA amplitude (assuming the nonlinear alignment model) to be $A_1=0.07^{+0.32}_{-0.42}$ ($|A_1|<0.78$ at $95\\%$ CL). |\n",
       "|<p style=\"color:green\"> **ERROR** </p>| <p style=\"color:green\">affiliation error: mpia.affiliation_verifications: '69117' keyword not found.</p> |"
      ],
      "text/plain": [
       "<IPython.core.display.Markdown object>"
      ]
     },
     "metadata": {},
     "output_type": "display_data"
    },
    {
     "data": {
      "text/markdown": [
       "\n",
       "|||\n",
       "|---:|:---|\n",
       "| [![arXiv](https://img.shields.io/badge/arXiv-arXiv:2212.11313-b31b1b.svg)](https://arxiv.org/abs/arXiv:2212.11313) | **Radio jet-ISM interaction and positive radio-mechanical feedback in  Abell 1795**  |\n",
       "|| Prathamesh D. Tamhane, et al. -- incl., <mark>Helen R. Russell</mark> |\n",
       "|*Appeared on*| *2022-12-23*|\n",
       "|*Comments*| *Accepted for publication in MNRAS. 22 pages, 13 figures 1 table*|\n",
       "|**Abstract**| We present XSHOOTER observations with previous ALMA, MUSE and $HST$ observations to study the nature of radio-jet triggered star formation and the interaction of radio jets with the interstellar medium in the brightest cluster galaxy (BCG) in the Abell 1795 cluster. Using $HST$ UV data we determined an ongoing star formation rate of 9.3 M$_\\odot$ yr$^{-1}$. The star formation follows the global Kennicutt-Schmidt law, however, it has a low efficiency compared to circumnuclear starbursts in nearby galaxies with an average depletion time of $\\sim$1 Gyr. The star formation and molecular gas are offset by $\\sim1$ kpc indicating that stars have decoupled from the gas. We detected an arc of high linewidth in ionized gas where electron densities are elevated by a factor of $\\sim$4 suggesting a shock front driven by radio jets or peculiar motion of the BCG. An analysis of nebular emission line flux ratios suggests that the gas is predominantly ionized by star formation with a small contribution from shocks. We also calculated the velocity structure function (VSF) of the ionized and molecular gases using velocity maps to characterize turbulent motion in the gas. The ionized gas VSF suggests that the radio jets are driving supersonic turbulence in the gas. Thus radio jets can not only heat the atmosphere on large scales and may quench star formation on longer timescales while triggering star formation in positive feedback on short timescales of a few million years. |\n",
       "|<p style=\"color:green\"> **ERROR** </p>| <p style=\"color:green\">affiliation error: mpia.affiliation_verifications: 'Heidelberg' keyword not found.</p> |"
      ],
      "text/plain": [
       "<IPython.core.display.Markdown object>"
      ]
     },
     "metadata": {},
     "output_type": "display_data"
    },
    {
     "data": {
      "text/markdown": [
       "\n",
       "|||\n",
       "|---:|:---|\n",
       "| [![arXiv](https://img.shields.io/badge/arXiv-arXiv:2212.11355-b31b1b.svg)](https://arxiv.org/abs/arXiv:2212.11355) | **The ngEHT Analysis Challenges**  |\n",
       "|| Freek Roelofs, et al. -- incl., <mark>Lindy Blackburn</mark>, <mark>Greg Lindahl</mark>, <mark>Hendrik Mueller</mark> |\n",
       "|*Appeared on*| *2022-12-23*|\n",
       "|*Comments*| *32 pages, 14 figures, accepted for publication in Galaxies*|\n",
       "|**Abstract**| The next-generation Event Horizon Telescope (ngEHT) will be a significant enhancement of the Event Horizon Telescope (EHT) array, with $\\sim 10$ new antennas and instrumental upgrades of existing antennas. The increased $uv$-coverage, sensitivity, and frequency coverage allow a wide range of new science opportunities to be explored. The ngEHT Analysis Challenges have been launched to inform development of the ngEHT array design, science objectives, and analysis pathways. For each challenge, synthetic EHT and ngEHT datasets are generated from theoretical source models and released to the challenge participants, who analyze the datasets using image reconstruction and other methods. The submitted analysis results are evaluated with quantitative metrics. In this work, we report on the first two ngEHT Analysis Challenges. These have focused on static and dynamical models of M87* and Sgr A*, and shown that high-quality movies of the extended jet structure of M87* and near-horizon hourly timescale variability of Sgr A* can be reconstructed by the reference ngEHT array in realistic observing conditions, using current analysis algorithms. We identify areas where there is still room for improvement of these algorithms and analysis strategies. Other science cases and arrays will be explored in future challenges. |\n",
       "|<p style=\"color:green\"> **ERROR** </p>| <p style=\"color:green\">affiliation error: mpia.affiliation_verifications: 'Heidelberg' keyword not found.</p> |"
      ],
      "text/plain": [
       "<IPython.core.display.Markdown object>"
      ]
     },
     "metadata": {},
     "output_type": "display_data"
    },
    {
     "data": {
      "text/markdown": [
       "\n",
       "|||\n",
       "|---:|:---|\n",
       "| [![arXiv](https://img.shields.io/badge/arXiv-arXiv:2212.11426-b31b1b.svg)](https://arxiv.org/abs/arXiv:2212.11426) | **GeV gamma-ray emission from pulsar wind nebula HESS J1356-645 with  Fermi-LAT**  |\n",
       "|| <mark>Xi Liu</mark>, et al. -- incl., <mark>Xiaolei Guo</mark>, <mark>Siming Liu</mark> |\n",
       "|*Appeared on*| *2022-12-23*|\n",
       "|*Comments*| *9 pages, 5 figures*|\n",
       "|**Abstract**| HESS J1356-645 is considered to be a pulsar wind nebula (PWN) associated with the pulsar PSR J1357-6429. We reanalyze the GeV gamma-ray emission in the direction of HESS J1356-645 with more than 13 years of Fermi Large Area Telescope (LAT) data. The extended gamma-ray emission above 5 GeV is found to be spatially coincident with HESS J1356-645. The spectrum in the energy range of 1 GeV-1 TeV can be described by a power law with an index of $\\Gamma=1.51\\pm0.10$. The broadband spectrum of HESS J1356-645 can be reproduced by a leptonic model with a broken power-law electronic spectrum. In addition, we found evidence that the morphology of the GeV emission from HESS J1356-645 varies with energy, a behavior which is similar to that of the PWN Vela-X. More broadband observations will be helpful to study the energy-dependent characteristics of HESS J1356-645. |\n",
       "|<p style=\"color:green\"> **ERROR** </p>| <p style=\"color:green\">affiliation error: mpia.affiliation_verifications: 'Heidelberg' keyword not found.</p> |"
      ],
      "text/plain": [
       "<IPython.core.display.Markdown object>"
      ]
     },
     "metadata": {},
     "output_type": "display_data"
    },
    {
     "data": {
      "text/markdown": [
       "\n",
       "|||\n",
       "|---:|:---|\n",
       "| [![arXiv](https://img.shields.io/badge/arXiv-arXiv:2212.11434-b31b1b.svg)](https://arxiv.org/abs/arXiv:2212.11434) | **A closer look at NGC 7314 nuclear region: a multiwavelength analysis of  the Seyfert nucleus and its surroundings**  |\n",
       "|| Patrícia da Silva, et al. -- incl., <mark>L. Hernández-García</mark> |\n",
       "|*Appeared on*| *2022-12-23*|\n",
       "|*Comments*| *20 pages, 16 figures, 7 tables*|\n",
       "|**Abstract**| The central regions of galaxies harbouring active galactic nuclei (AGNs) can be quite complex, especially at high activity, presenting, besides variability, a variety of phenomena related, e.g. to ionization/excitation mechanisms. A detailed study is necessary in order to understand better those objects. For that reason, we performed a multiwavelength analysis of the nuclear region of the nearby Seyfert galaxy NGC 7314, using an optical data cube obtained with the Integral Field Unit from the Gemini Multi-Object Spectrograph, together with Hubble Space Telescope images, X-ray data from the XMM-Newton and the Nuclear Spectroscopic Telescope Array and radio data from Atacama Large Millimeter/Submillimeter Array. The goals were to study the nuclear and circumnuclear emission, the emission of the AGN and the gas kinematics. The optical spectrum shows the emission of a Seyfert nucleus, with broad components in the H$\\alpha$ and H$\\beta$ emission lines, characterising a type 1 AGN, with a spectrum rich in coronal emission lines. The spatial morphology of the [OIII]$\\lambda$5007 suggests the presence of an ionization cone, west of the nucleus, meanwhile the east cone seems to be obscured by dust. An extended [FeVII]$\\lambda$6087 emission was also detected, which could be possibly explained by a scenario involving photoionization+shocks mechanisms. X-rays analyses showed that there are variations in the flux; however, we did not detect any variations in the column density along the line of sight. Its variability may be a consequence of changes in the AGN accretion rate. |\n",
       "|<p style=\"color:green\"> **ERROR** </p>| <p style=\"color:green\">affiliation error: mpia.affiliation_verifications: 'Heidelberg' keyword not found.</p> |"
      ],
      "text/plain": [
       "<IPython.core.display.Markdown object>"
      ]
     },
     "metadata": {},
     "output_type": "display_data"
    },
    {
     "data": {
      "text/markdown": [
       "\n",
       "|||\n",
       "|---:|:---|\n",
       "| [![arXiv](https://img.shields.io/badge/arXiv-arXiv:2212.11443-b31b1b.svg)](https://arxiv.org/abs/arXiv:2212.11443) | **Primary Objective Grating Telescopy: Optical Properties and Feasibility  of Applications**  |\n",
       "|| Leaf Swordy, <mark>Heidi Jo Newberg</mark>, Thomas Ditto |\n",
       "|*Appeared on*| *2022-12-23*|\n",
       "|*Comments*| *25 pages, 12 figures, submitted to JATIS*|\n",
       "|**Abstract**| We develop the theoretical foundation for primary objective grating (POG) telescopy. In recent years, a wide range of telescope designs that collect the light over a large grating and focus it with a secondary receiving optic that is placed at grazing exodus have been proposed by Thomas D. Ditto, and are sometimes referred to as Dittoscopes. Applications include discovery and characterization of exoplanets, discovery of near-Earth asteroids, and spectroscopic surveys of the sky. These telescopes would have small aerial mass, and therefore provide a path forward to launch large telescopes into space. Because this series of telescope designs departs from traditional telescope designs, it has been difficult to evaluate which applications are most advantageous for this design. Here, we define a new figure of merit, the \"modified etendue,\" that characterizes the photon collection capability of a POG. It is demonstrated that the diffraction limit for observations is determined by the length of the grating. We evaluate the effects of atmospheric seeing for ground-based applications and the disambiguation of position vs. wavelength in the focal plane using a second dispersing element. Finally, some strategies for fully reaping the benefits of POG optical characteristics are discussed. |\n",
       "|<p style=\"color:green\"> **ERROR** </p>| <p style=\"color:green\">affiliation error: mpia.affiliation_verifications: 'Heidelberg' keyword not found.</p> |"
      ],
      "text/plain": [
       "<IPython.core.display.Markdown object>"
      ]
     },
     "metadata": {},
     "output_type": "display_data"
    },
    {
     "data": {
      "text/markdown": [
       "\n",
       "|||\n",
       "|---:|:---|\n",
       "| [![arXiv](https://img.shields.io/badge/arXiv-arXiv:2212.11535-b31b1b.svg)](https://arxiv.org/abs/arXiv:2212.11535) | **Prospects of Searching for Type Ia Supernovae with 2.5-m Wide Field  Survey Telescope**  |\n",
       "|| Maokai Hu, et al. -- incl., <mark>Lin Xiao</mark> |\n",
       "|*Appeared on*| *2022-12-23*|\n",
       "|*Comments*| *Accepted by Universe*|\n",
       "|**Abstract**| Type Ia Supernovae (SNe Ia) are the thermonuclear explosion of a carbon-oxygen white dwarf (WD) and are well-known as a distance indicator. However, it is still unclear how WDs increase their mass near the Chandrasekhar limit and how the thermonuclear runaway happens. The observational clues associated with these open questions, such as the photometric data within hours to days since the explosion, are scarce. Thus, an essential way is to discover SNe Ia at specific epochs with optimal surveys. The 2.5-m Wide Field Survey Telescope (WFST) is an upcoming survey facility deployed in western China. In this paper, we assess the detecability of SNe Ia with mock observations of WFST. Followed by the volumetric rate, we generate a spectral series of SNe Ia based on a data-based model and introduce the line-of-sight extinction to calculate the brightness from the observer. By comparing with the detection limit of WFST, which is affected by the observing conditions, we can count the number of SNe Ia discovered by mock WFST observations. We expect that WFST can find more than $3.0\\times10^{4}$ pre-maximum SNe Ia within one-year running. In particular, WFST could discover about 45 bright SNe Ia, 99 early-phase SNe Ia, or $1.1\\times10^{4}$ well-observed SNe Ia with the hypothesized Wide, Deep, or Medium mode, respectively, suggesting WFST will be an influential facility in time-domain astronomy. |\n",
       "|<p style=\"color:green\"> **ERROR** </p>| <p style=\"color:green\">affiliation error: mpia.affiliation_verifications: 'Heidelberg' keyword not found.</p> |"
      ],
      "text/plain": [
       "<IPython.core.display.Markdown object>"
      ]
     },
     "metadata": {},
     "output_type": "display_data"
    },
    {
     "data": {
      "text/markdown": [
       "\n",
       "|||\n",
       "|---:|:---|\n",
       "| [![arXiv](https://img.shields.io/badge/arXiv-arXiv:2212.11569-b31b1b.svg)](https://arxiv.org/abs/arXiv:2212.11569) | **Identify 46 New Open Clusters Candidates In Gaia EDR3 Using pyUPMASK and  Random Forest Hybrid Method**  |\n",
       "|| Huanbin Chi, Shoulin Wei, Feng Wang, <mark>Zhongmu Li</mark> |\n",
       "|*Appeared on*| *2022-12-23*|\n",
       "|*Comments*| *16 Pages, 14 figures, 4 tables, accepted by APJs*|\n",
       "|**Abstract**| Open clusters (OCs) are regarded as tracers to understand stellar evolution theory and validate stellar models. In this study, we presented a robust approach to identifying OCs. A hybrid method of pyUPMASK and RF is first used to remove field stars and determine more reliable members. An identification model based on the RF algorithm built based on 3714 OC samples from Gaia DR2 and EDR3 is then applied to identify OC candidates. The OC candidates are obtained after isochrone fitting, the advanced stellar population synthesis (ASPS) model fitting, and visual inspection. Using the proposed approach, we revisited 868 candidates and preliminarily clustered them by the friends-of-friends algorithm in Gaia EDR3. Excluding the open clusters that have already been reported, we focused on the remaining 300 unknown candidates. From high to low fitting quality, these unrevealed candidates were further classified into Class A (59), Class B (21), and Class C (220), respectively. As a result, 46 new reliable open cluster candidates among classes A and B are identified after visual inspection. |\n",
       "|<p style=\"color:green\"> **ERROR** </p>| <p style=\"color:green\">affiliation error: mpia.affiliation_verifications: 'Heidelberg' keyword not found.</p> |"
      ],
      "text/plain": [
       "<IPython.core.display.Markdown object>"
      ]
     },
     "metadata": {},
     "output_type": "display_data"
    },
    {
     "data": {
      "text/markdown": [
       "\n",
       "|||\n",
       "|---:|:---|\n",
       "| [![arXiv](https://img.shields.io/badge/arXiv-arXiv:2212.11618-b31b1b.svg)](https://arxiv.org/abs/arXiv:2212.11618) | **Multi-Wavelength Observations Of A New Redback Millisecond Pulsar 4FGL  J1910.7-5320**  |\n",
       "|| Ka-Yui Au, et al. -- incl., <mark>Lupin C. C. Lin</mark>, <mark>Kwan-Lok Li</mark> |\n",
       "|*Appeared on*| *2022-12-23*|\n",
       "|*Comments*| *Accepted for publication in ApJ*|\n",
       "|**Abstract**| We present the study of multi-wavelength observations of an unidentified Fermi Large Area Telescope (LAT) source, 4FGL J1910.7-5320, a new candidate redback millisecond pulsar binary. In the 4FGL 95% error region of 4FGL J1910.7-5320, we find a possible binary with a 8.36-hr orbital period from the Catalina Real-Time Transient Survey (CRTS), confirmed by optical spectroscopy using the SOAR telescope. This optical source was recently independently discovered as a redback pulsar by the TRAPUM project, confirming our prediction. We fit the optical spectral energy distributions of 4FGL J1910.7-5320 with a blackbody model, inferring a maximum distance of 4.1 kpc by assuming that the companion fills its Roche-lobe with a radius of R = 0.7R_sun. Using a 12.6 ks Chandra X-ray observation, we identified an X-ray counterpart for 4FGL J1910.7-5320, with a spectrum that can be described by an absorbed power-law with a photon index of 1.0+/-0.4. The spectrally hard X-ray emission shows tentative evidence for orbital variability. Using more than 12 years of Fermi-LAT data, we refined the position of the {\\gamma}-ray source, and the optical candidate still lies within the 68% positional error circle. In addition to 4FGL J1910.7-5320, we find a variable optical source with a periodic signal of 4.28-hr inside the 4FGL catalog 95% error region of another unidentified Fermi source, 4FGL J2029.5-4237. However, the {\\gamma}-ray source does not have a significant X-ray counterpart in a 11.7 ks Chandra observation, with a 3-{\\sigma} flux upper limit of 2.4*10^-14 erg cm^-2 s^-1 (0.3-7 keV). Moreover, the optical source is outside our updated Fermi-LAT 95% error circle. These observational facts all suggest that this new redback millisecond pulsar powers the {\\gamma}-ray source 4FGL J1910.7-5320 while 4FGL J2029.5-4237 is unlikely the {\\gamma}-ray counterpart to the 4.28-hr variable. |\n",
       "|<p style=\"color:green\"> **ERROR** </p>| <p style=\"color:green\">affiliation error: mpia.affiliation_verifications: 'Heidelberg' keyword not found.</p> |"
      ],
      "text/plain": [
       "<IPython.core.display.Markdown object>"
      ]
     },
     "metadata": {},
     "output_type": "display_data"
    },
    {
     "data": {
      "text/markdown": [
       "\n",
       "|||\n",
       "|---:|:---|\n",
       "| [![arXiv](https://img.shields.io/badge/arXiv-arXiv:2212.11638-b31b1b.svg)](https://arxiv.org/abs/arXiv:2212.11638) | **A population of faint, old, and massive quiescent galaxies at 3 < z < 4  revealed by JWST NIRSpec Spectroscopy**  |\n",
       "|| Themiya Nanayakkara, et al. -- incl., <mark>Corentin Schreiber</mark> |\n",
       "|*Appeared on*| *2022-12-23*|\n",
       "|*Comments*| *Submitted*|\n",
       "|**Abstract**| The confirmation of the presence of very massive quiescent galaxies at epochs only 1-2 Gyr after the Big Bang [1-8] has challenged models of cosmology and galaxy formation [9]. Producing sufficient numbers of these requires abundant numbers of the host dark matter halos to have been assembled and sufficient time for star formation to proceed extremely quickly and then cease just as rapidly. Ground-based spectroscopy has suggested ages of 200-300 Myr[3] at redshifts $3<z<4$. The true number and ages of these objects have however been highly uncertain as ground-based spectra has been limited to the brightest of them [e.g. 3, 5], at wavelengths ~2$\\mu$m, which introduces a signficant potential bias towards younger objects [7]. The launch of the James Webb Space Telescope (JWST) enables dramatically more sensitive and constraining spectroscopic observations due to the very low sky background, sharp image quality, and access to wavelengths beyond 2{\\mu}m. Here we report JWST NIRSpec [10] (0.6-5.3$\\mu$m) observations of five new quiescent galaxy candidates that were beyond the limit of previous ground-based spectroscopy. The high signal:noise spectra of galaxies with continuum significantly fainter than earlier confirmations show that they are also at redshifts 3<z<4, and that they have substantial stellar masses of ~0.5-1.2x1011 M$\\odot$ comparable to massive galaxies in the nearby Universe. One of the galaxies has been quenched for >~ 1 billion years pointing to a presence of substantially older and fainter galaxies than those revealed so far by ground-based spectroscopy. This suggests that some of the massive galaxies have very early formation epochs (during the epoch of reionization, z >~ 6) pointing to a need for high conversion rates of baryons to stars in the first massive galaxy halos in the early Universe [11, 12]. |\n",
       "|<p style=\"color:green\"> **ERROR** </p>| <p style=\"color:green\">affiliation error: mpia.affiliation_verifications: 'Heidelberg' keyword not found.</p> |"
      ],
      "text/plain": [
       "<IPython.core.display.Markdown object>"
      ]
     },
     "metadata": {},
     "output_type": "display_data"
    },
    {
     "data": {
      "text/markdown": [
       "\n",
       "|||\n",
       "|---:|:---|\n",
       "| [![arXiv](https://img.shields.io/badge/arXiv-arXiv:2212.11639-b31b1b.svg)](https://arxiv.org/abs/arXiv:2212.11639) | **Recovering the very metal-poor stars in the Gaia DR3 GSP-Spec catalog**  |\n",
       "|| Tadafumi Matsuno, Else Starkenburg, Eduardo Balbinot, <mark>Amina Helmi</mark> |\n",
       "|*Appeared on*| *2022-12-23*|\n",
       "|*Comments*| *The catalog will be publicly made available when accepted, or before upon reasonable request*|\n",
       "|**Abstract**| Context: In the latest Gaia data release (DR3), the GSP-Spec module has provided stellar parameters and chemical abundances measured from the RVS spectra alone. However, very metal-poor stars (VMP stars; $[\\mathrm{Fe/H}]<-2$) suffer from parameter degeneracy due to a lack of information in their spectra, making it difficult to obtain reliable stellar parameters and metallicities for many of them. Aim: We aim to improve metallicity estimates for VMP stars analysed by the GSP-Spec module. Methods: We compute the Ca triplet equivalent widths from the published set of GSP-Spec stellar parameters. We then convert these obtained equivalent widths to metallicities adopting photometric temperatures and surface gravities that we derive based on Gaia and 2MASS catalogs. Results: Comparison to high-resolution studies shows that our approach drastically reduces the cases where the estimated metallicities are far off for VMP stars. Now only $23\\%$ of VMP stars have a metallicity different by more than $0.5\\,\\mathrm{dex}$ from a high-resolution value, while this fraction is $76\\%$ with the original metallicity estimates by the GSP-Spec module. We explore possible ways to remove stars with poor metallicity estimates while keeping as many stars with reliable metallicity as possible. Our improved metallicity estimates and new quality cut result in producing a catalog of bright ($G\\lesssim 13$) metal-poor stars, containing 57 stars at $[\\mathrm{Fe/H}]<-3$ and 2202 VMP stars. These numbers increase to 174 and 2794 if one allows a low level of metal-rich contaminants. Conclusion: The inclusion of photometric information greatly contributes to breaking parameter degeneracy, enabling precise metallicity estimates for VMP stars from Gaia RVS spectra. We produce a publicly-available catalog of bright metal-poor stars suitable for high-resolution follow-up. |\n",
       "|<p style=\"color:green\"> **ERROR** </p>| <p style=\"color:green\">affiliation error: mpia.affiliation_verifications: 'Heidelberg' keyword not found.</p> |"
      ],
      "text/plain": [
       "<IPython.core.display.Markdown object>"
      ]
     },
     "metadata": {},
     "output_type": "display_data"
    },
    {
     "data": {
      "text/markdown": [
       "\n",
       "|||\n",
       "|---:|:---|\n",
       "| [![arXiv](https://img.shields.io/badge/arXiv-arXiv:2212.11940-b31b1b.svg)](https://arxiv.org/abs/arXiv:2212.11940) | **A Model for the Squeezed Bispectrum in the Non-Linear Regime**  |\n",
       "|| Matteo Biagetti, et al. -- incl., <mark>Lina Castiblanco</mark> |\n",
       "|*Appeared on*| *2022-12-23*|\n",
       "|*Comments*| *19 pages, 5 figures*|\n",
       "|**Abstract**| We present a model for the squeezed dark matter bispectrum, where the short modes are deep in the non-linear regime. We exploit the consistency relations for large-scale structures combined with a response function approach to write the squeezed bispectrum in terms of a few unknown functions of the short modes. We provide an ansatz for a fitting function for these response functions, checking that the resulting model is reliable when compared to the one-loop squeezed bispectrum. We then test the model against measured bispectra from numerical simulations for short modes ranging between $k \\sim 0.1 \\, h/$Mpc, and $k \\sim 0.7 \\, h/$Mpc at redshift $z=0$. To evaluate the goodness of the fit of our model we implement a non-Gaussian covariance and find agreement within $1$-$\\sigma$ standard deviation of the simulated data. |\n",
       "|<p style=\"color:green\"> **ERROR** </p>| <p style=\"color:green\">affiliation error: mpia.affiliation_verifications: 'Heidelberg' keyword not found.</p> |"
      ],
      "text/plain": [
       "<IPython.core.display.Markdown object>"
      ]
     },
     "metadata": {},
     "output_type": "display_data"
    },
    {
     "data": {
      "text/markdown": [
       "\n",
       "|||\n",
       "|---:|:---|\n",
       "| [![arXiv](https://img.shields.io/badge/arXiv-arXiv:2212.11941-b31b1b.svg)](https://arxiv.org/abs/arXiv:2212.11941) | **Sub-arcminute localization of 13 repeating fast radio bursts detected by  CHIME/FRB**  |\n",
       "|| Daniele Michilli, et al. -- incl., <mark>Jane Kaczmarek</mark> |\n",
       "|*Appeared on*| *2022-12-23*|\n",
       "|*Comments*| **|\n",
       "|**Abstract**| We report on improved sky localizations of thirteen repeating fast radio bursts (FRBs) discovered by CHIME/FRB via the use of interferometric techniques on channelized voltages from the telescope. These so-called 'baseband localizations' improve the localization uncertainty area presented in past studies by more than three orders of magnitude. The improved localization regions are provided for the full sample of FRBs to enable follow-up studies. The localization uncertainties, together with limits on the source distances from their dispersion measures (DMs), allow us to identify likely host galaxies for two of the FRB sources. FRB 20180814A lives in a massive passive red spiral at z~0.068 with very little indication of star formation, while FRB 20190303A resides in a merging pair of spiral galaxies at z~0.064 undergoing significant star formation. These galaxies show very different characteristics, further confirming the presence of FRB progenitors in a variety of environments even among the repeating sub-class. |\n",
       "|<p style=\"color:green\"> **ERROR** </p>| <p style=\"color:green\">affiliation error: mpia.affiliation_verifications: 'Heidelberg' keyword not found.</p> |"
      ],
      "text/plain": [
       "<IPython.core.display.Markdown object>"
      ]
     },
     "metadata": {},
     "output_type": "display_data"
    },
    {
     "data": {
      "text/markdown": [
       "\n",
       "|||\n",
       "|---:|:---|\n",
       "| [![arXiv](https://img.shields.io/badge/arXiv-arXiv:2212.11421-b31b1b.svg)](https://arxiv.org/abs/arXiv:2212.11421) | **PACMAN: A pipeline to reduce and analyze Hubble Wide Field Camera 3 IR  Grism data**  |\n",
       "|| <mark>Sebastian Zieba</mark>, <mark>Laura Kreidberg</mark> |\n",
       "|*Appeared on*| *2022-12-23*|\n",
       "|*Comments*| *8 pages, 2 figures, Published in JOSS, GitHub: this https URL*|\n",
       "|**Abstract**| Here we present PACMAN, an end-to-end pipeline developed to reduce and analyze HST/WFC3 data. The pipeline includes both spectral extraction and light curve fitting. The foundation of PACMAN has been already used in numerous publications (e.g., Kreidberg et al., 2014; Kreidberg et al., 2018) and these papers have already accumulated hundreds of citations. The Hubble Space Telescope (HST) has become the preeminent workhorse facility for the characterization of extrasolar planets. HST currently has two of the most powerful space-based tools for characterizing exoplanets over a broad spectral range: The Space Telescope Imaging Spectrograph (STIS) in the UV and the Wide Field Camera 3 (WFC3) in the Near Infrared. With the introduction of a spatial scan mode on WFC3 where the star moves perpendicular to the dispersion direction during an exposure, WFC3 observations have become very efficient due to the reduction of overhead time and the possibility of longer exposures without saturation. For exoplanet characterization, WFC3 is used for transit and secondary eclipse spectroscopy, and phase curve observations. The instrument has two different grisms: G102 with a spectral range from 800 nm to up to 1150 nm and G141 encompassing 1075 nm to about 1700 nm. The spectral range of WFC3/G141 is primarily sensitive to molecular absorption from water at approximately 1.4 microns. This led to the successful detection of water in the atmosphere of over a dozen of exoplanets. The bluer part of WFC3, the G102 grism, is also sensitive to water and most notably led to the first detection of a helium exosphere. |\n",
       "|<p style=\"color:red\"> **ERROR** </p>| <p style=\"color:red\">latex error list index out of range</p> |"
      ],
      "text/plain": [
       "<IPython.core.display.Markdown object>"
      ]
     },
     "metadata": {},
     "output_type": "display_data"
    },
    {
     "data": {
      "text/markdown": [
       "\n",
       "|||\n",
       "|---:|:---|\n",
       "| [![arXiv](https://img.shields.io/badge/arXiv-arXiv:2212.11960-b31b1b.svg)](https://arxiv.org/abs/arXiv:2212.11960) | **Gravitational wave lensing as a probe of halo properties and dark matter**  |\n",
       "|| Giovanni Tambalo, Miguel Zumalacárregui, <mark>Liang Dai</mark>, Mark Ho-Yeuk Cheung |\n",
       "|*Appeared on*| *2022-12-23*|\n",
       "|*Comments*| *41 pages, 27 figures*|\n",
       "|**Abstract**| Just like light, gravitational waves (GWs) are deflected and magnified by gravitational fields as they propagate through the Universe. However, their low frequency, phase coherence and feeble coupling to matter allow for distinct lensing phenomena, such as diffraction and central images, that are challenging to observe through electromagnetic sources. Here we explore how these phenomena can be used to probe features of gravitational lenses. We focus on two variants of the singular isothermal sphere, with 1) a variable slope of the matter density and 2) a central core. We describe the imprints of these features in the wave- and geometric-optics regimes, including the prospect of detecting central images. We forecast the capacity of LISA and advanced LIGO to study strongly lensed signals and measure the projected lens mass, impact parameter and slope or core size. A broad range of lens masses allows all parameters to be measured with precision up to $\\sim 1/{\\rm SNR}$, despite large degeneracies. Thanks to wave-optics corrections, all parameters can be measured, even when no central image forms. Although GWs are sensitive to projected quantities, we compute the probability distribution of lens redshift, virial mass and projection scale given a cosmology. As an application, we consider the prospect of constraining self-interacting and ultra-light dark matter, showing the regions of parameter space accessible to strongly-lensed GWs. The distinct GW signatures will enable novel probes of fundamental physics and astrophysics, including the properties of dark matter and the central regions of galactic halos. |\n",
       "|<p style=\"color:red\"> **ERROR** </p>| <p style=\"color:red\">latex error not a gzip file</p> |"
      ],
      "text/plain": [
       "<IPython.core.display.Markdown object>"
      ]
     },
     "metadata": {},
     "output_type": "display_data"
    }
   ],
   "source": [
    "import datetime\n",
    "today = str(datetime.date.today())\n",
    "logfile = f\"_build/html/logs/log-{today}.md\"\n",
    "\n",
    "\n",
    "with open(logfile, 'w') as logs:\n",
    "    # Success\n",
    "    logs.write(f'# Arxiv on Deck 2: Logs - {today}\\n\\n')\n",
    "    logs.write(\"\"\"* Arxiv had {0:,d} new papers\\n\"\"\".format(len(new_papers)))\n",
    "    logs.write(\"\"\"    * {0:,d} with possible author matches\\n\\n\"\"\".format(len(candidates)))\n",
    "    logs.write(\"## Sucessful papers\\n\\n\")\n",
    "    display(Markdown(\"## Successful papers\"))\n",
    "    success = [k[0] for k in documents]\n",
    "    for candid in candidates:\n",
    "        if candid['identifier'].split(':')[-1] in success:\n",
    "            display(candid)\n",
    "            logs.write(candid.generate_markdown_text() + '\\n\\n')\n",
    "\n",
    "    ## failed\n",
    "    logs.write(\"## Failed papers\\n\\n\")\n",
    "    display(Markdown(\"## Failed papers\"))\n",
    "    failed = sorted(failed, key=lambda x: x[1])\n",
    "    current_reason = \"\"\n",
    "    for paper, reason in failed:\n",
    "        if 'affiliation' in reason:\n",
    "            color = 'green'\n",
    "        else:\n",
    "            color = 'red'\n",
    "        data = Markdown(\n",
    "                paper.generate_markdown_text() + \n",
    "                f'\\n|<p style=\"color:{color:s}\"> **ERROR** </p>| <p style=\"color:{color:s}\">{reason:s}</p> |'\n",
    "               )\n",
    "        if reason != current_reason:\n",
    "            logs.write(f'### {reason:s} \\n\\n')\n",
    "            current_reason = reason\n",
    "        logs.write(data.data + '\\n\\n')\n",
    "        \n",
    "        # only display here the important errors (all in logs)\n",
    "        # if color in ('red',):\n",
    "        display(data)"
   ]
  },
  {
   "cell_type": "markdown",
   "id": "472d20ee",
   "metadata": {
    "papermill": {
     "duration": 0.008045,
     "end_time": "2022-12-23T04:07:35.452516",
     "exception": false,
     "start_time": "2022-12-23T04:07:35.444471",
     "status": "completed"
    },
    "tags": []
   },
   "source": [
    "## Export documents\n",
    "\n",
    "We now write the .md files and export relevant images"
   ]
  },
  {
   "cell_type": "code",
   "execution_count": 7,
   "id": "d426aed9",
   "metadata": {
    "execution": {
     "iopub.execute_input": "2022-12-23T04:07:35.470060Z",
     "iopub.status.busy": "2022-12-23T04:07:35.469634Z",
     "iopub.status.idle": "2022-12-23T04:07:35.476460Z",
     "shell.execute_reply": "2022-12-23T04:07:35.475973Z"
    },
    "papermill": {
     "duration": 0.017049,
     "end_time": "2022-12-23T04:07:35.477785",
     "exception": false,
     "start_time": "2022-12-23T04:07:35.460736",
     "status": "completed"
    },
    "tags": []
   },
   "outputs": [],
   "source": [
    "def export_markdown_summary(md: str, md_fname:str, directory: str):\n",
    "    \"\"\"Export MD document and associated relevant images\"\"\"\n",
    "    import os\n",
    "    import shutil\n",
    "    import re\n",
    "\n",
    "    if (os.path.exists(directory) and not os.path.isdir(directory)):\n",
    "        raise RuntimeError(f\"a non-directory file exists with name {directory:s}\")\n",
    "\n",
    "    if (not os.path.exists(directory)):\n",
    "        print(f\"creating directory {directory:s}\")\n",
    "        os.mkdir(directory)\n",
    "\n",
    "    fig_fnames = (re.compile(r'\\[Fig.*\\]\\((.*)\\)').findall(md) + \n",
    "                  re.compile(r'\\<img src=\"([^>\\s]*)\"[^>]*/>').findall(md))\n",
    "    for fname in fig_fnames:\n",
    "        if 'http' in fname:\n",
    "            # No need to copy online figures\n",
    "            continue\n",
    "        destdir = os.path.join(directory, os.path.dirname(fname))\n",
    "        destfname = os.path.join(destdir, os.path.basename(fname))\n",
    "        try:\n",
    "            os.makedirs(destdir)\n",
    "        except FileExistsError:\n",
    "            pass\n",
    "        shutil.copy(fname, destfname)\n",
    "    with open(os.path.join(directory, md_fname), 'w') as fout:\n",
    "        fout.write(md)\n",
    "    print(\"exported in \", os.path.join(directory, md_fname))\n",
    "    [print(\"    + \" + os.path.join(directory,fk)) for fk in fig_fnames]"
   ]
  },
  {
   "cell_type": "code",
   "execution_count": 8,
   "id": "014d04a4",
   "metadata": {
    "execution": {
     "iopub.execute_input": "2022-12-23T04:07:35.495662Z",
     "iopub.status.busy": "2022-12-23T04:07:35.495137Z",
     "iopub.status.idle": "2022-12-23T04:07:35.507120Z",
     "shell.execute_reply": "2022-12-23T04:07:35.506611Z"
    },
    "papermill": {
     "duration": 0.022468,
     "end_time": "2022-12-23T04:07:35.508542",
     "exception": false,
     "start_time": "2022-12-23T04:07:35.486074",
     "status": "completed"
    },
    "tags": []
   },
   "outputs": [
    {
     "name": "stdout",
     "output_type": "stream",
     "text": [
      "exported in  _build/html/2212.11425.md\n",
      "    + _build/html/tmp_2212.11425/./lowRes_figs/NGC3351_reg_img.jpg\n",
      "    + _build/html/tmp_2212.11425/./ngc3351_dolphot_color_vi_ub_ws_Mv_ALL.png\n",
      "    + _build/html/tmp_2212.11425/./lowRes_figs/NGC1566_reg_img.jpg\n"
     ]
    }
   ],
   "source": [
    "for paper_id, md in documents:\n",
    "    export_markdown_summary(md, f\"{paper_id:s}.md\", '_build/html/')"
   ]
  },
  {
   "cell_type": "markdown",
   "id": "f087a0a7",
   "metadata": {
    "papermill": {
     "duration": 0.008128,
     "end_time": "2022-12-23T04:07:35.524961",
     "exception": false,
     "start_time": "2022-12-23T04:07:35.516833",
     "status": "completed"
    },
    "tags": []
   },
   "source": [
    "## Display the papers\n",
    "\n",
    "Not necessary but allows for a quick check."
   ]
  },
  {
   "cell_type": "code",
   "execution_count": 9,
   "id": "fd25f625",
   "metadata": {
    "execution": {
     "iopub.execute_input": "2022-12-23T04:07:35.542758Z",
     "iopub.status.busy": "2022-12-23T04:07:35.542171Z",
     "iopub.status.idle": "2022-12-23T04:07:35.547024Z",
     "shell.execute_reply": "2022-12-23T04:07:35.546366Z"
    },
    "papermill": {
     "duration": 0.01525,
     "end_time": "2022-12-23T04:07:35.548448",
     "exception": false,
     "start_time": "2022-12-23T04:07:35.533198",
     "status": "completed"
    },
    "scrolled": false,
    "tags": []
   },
   "outputs": [
    {
     "data": {
      "text/markdown": [
       "<div class=\"macros\" style=\"visibility:hidden;\">\n",
       "$\\newcommand{\\ensuremath}{}$\n",
       "$\\newcommand{\\xspace}{}$\n",
       "$\\newcommand{\\object}[1]{\\texttt{#1}}$\n",
       "$\\newcommand{\\farcs}{{.}''}$\n",
       "$\\newcommand{\\farcm}{{.}'}$\n",
       "$\\newcommand{\\arcsec}{''}$\n",
       "$\\newcommand{\\arcmin}{'}$\n",
       "$\\newcommand{\\ion}[2]{#1#2}$\n",
       "$\\newcommand{\\textsc}[1]{\\textrm{#1}}$\n",
       "$\\newcommand{\\hl}[1]{\\textrm{#1}}$\n",
       "$\\newcommand{\\kms}{ km s^{-1}}$\n",
       "$\\newcommand{\\bibtex}{\\textsc{Bib}\\!\\TeX}$</div>\n",
       "\n",
       "<div class=\"macros\" style=\"visibility:hidden;\">\n",
       "$\\newcommand{$\\ensuremath$}{}$\n",
       "$\\newcommand{$\\xspace$}{}$\n",
       "$\\newcommand{$\\object$}[1]{\\texttt{#1}}$\n",
       "$\\newcommand{$\\farcs$}{{.}''}$\n",
       "$\\newcommand{$\\farcm$}{{.}'}$\n",
       "$\\newcommand{$\\arcsec$}{''}$\n",
       "$\\newcommand{$\\arcmin$}{'}$\n",
       "$\\newcommand{$\\ion$}[2]{#1#2}$\n",
       "$\\newcommand{$\\textsc$}[1]{\\textrm{#1}}$\n",
       "$\\newcommand{$\\hl$}[1]{\\textrm{#1}}$\n",
       "$\\newcommand{$\\kms$}{ km s^{-1}}$\n",
       "$\\newcommand{$\\bibtex$}{$\\textsc${Bib}\\!\\TeX}$</div>\n",
       "\n",
       "\n",
       "\n",
       "<div id=\"title\">\n",
       "\n",
       "# Multi-Scale Stellar Associations across the Star Formation Hierarchy in PHANGS--HST Nearby Galaxies: Methodology and Properties\n",
       "\n",
       "</div>\n",
       "<div id=\"comments\">\n",
       "\n",
       "[![arXiv](https://img.shields.io/badge/arXiv-2212.11425-b31b1b.svg)](https://arxiv.org/abs/2212.11425)<mark>Appeared on: 2022-12-23</mark> - _Submitted to MNRAS. Referee report received with minor comments, and \"request to clarify if the smaller associations are always included in the larger ones and how this may affect the photometric fitting of the larger association if the groups have different ages.\" Revision in progress_\n",
       "\n",
       "</div>\n",
       "<div id=\"authors\">\n",
       "\n",
       "Kirsten L. Larson, et al. -- incl., <mark><mark>Janice C. Lee</mark></mark>, <mark><mark>James Lilly</mark></mark>, <mark><mark>Frank Bigiel</mark></mark>, <mark><mark>Kathryn Kreckel</mark></mark>, <mark><mark>Eva Schinnerer</mark></mark>\n",
       "\n",
       "</div>\n",
       "<div id=\"abstract\">\n",
       "\n",
       "**Abstract:** We develop a method to identify and determine the physical properties of stellar associations using\\textit{Hubble Space Telescope}(\\textit{HST})\\textit{NUV-U-B-V-I}imaging of nearby galaxies from the PHANGS--HST survey.We apply a watershed algorithm to density maps constructed from point source catalogues Gaussian smoothed to multiple physical scales from 8 to 64 pc.We develop our method on two galaxies that span the distance range in the PHANGS--HST sample: NGC 3351 (10 Mpc), NGC 1566 (18 Mpc).We test our algorithm with different parameters such as the choice of detection band for the point source catalogue (\\textit{NUV}or\\textit{V}), source density image filtering methods, and absolute magnitude limits.We characterise the properties of the resulting multi-scale associations, including sizes, number of tracer stars, number of associations, photometry, as well as ages, masses, and reddening from Spectral Energy Distribution fitting.  Our method successfully identifies structures that occupy loci in the\\textit{UBVI}colour--colour diagram consistent with previously published catalogues of clusters and associations. The median ages of the associations increases  from$\\log (\\mathrm{age/yr}) = 6.6$to$\\log (\\mathrm{age/yr}) = 6.9$as the spatial scale increases from 8 pc to 64 pc for both galaxies. We find that the youngest stellar associations, with ages$<3$Myr, indeed closely trace$\\textsc${H ii}regions in H$\\alpha$imaging, and that older associations are increasingly anti-correlated with the H$\\alpha$emission.  Owing to our new method, the PHANGS--HST multi-scale associations provide a far more complete census of recent star formation activity than found with previous cluster and compact association catalogues.The method presented here will be applied to the full sample of 38 PHANGS--HST galaxies.\n",
       "\n",
       "</div>\n",
       "\n",
       "<div id=\"div_fig1\">\n",
       "\n",
       "<img src=\"tmp_2212.11425/./lowRes_figs/NGC3351_reg_img.jpg\" alt=\"Fig14\" width=\"100%\"/>\n",
       "\n",
       "**Figure 14. -** An illustration of our watershed procedure for identifying stellar associations over multiple scales.  \\textit{(Panel A)} An \\textit{HST} three-colour image of NGC 3351 (Red: WFC3/UVIS F814W, Green: WFC3/UVIS F555W, Blue: WFC3/UVIS F438W+F336W+F275W).  \\textit{(Panel B)} The \\textit{NUV} image of the center of NGC 3351.\n",
       "    \\textit{(Panel C)}The \\textit{NUV} image of the center of NGC 3351 with the position of all \\textit{NUV} tracer stars shown as green points\n",
       "    \\textit{(Panel D)} The \\mbox{16-pc} smoothed, filtered image of the \\textit{NUV} tracer stars for the center of NGC 3351. The image scale is in units of the FWHM of the PSF brightness. The cutoff threshold is set to 1 FWHM and the \\mbox{16-pc} watershed regions are shown in blue.\n",
       "    \\textit{(Panel E)}\\textit{NUV} image of the center of NGC 3351 with 8, 16, 32, and \\mbox{64-pc} levels overplotted as corresponding green, blue, purple, and orange regions. At $0.0396$ arcsec pixel$^{-1}$, one WFC3 pixel maps to $1.9$ pc pixel$^{-1}$ at a distance of $10$ Mpc for NGC 3351. (*FIG:ngc3351tracers*)\n",
       "\n",
       "</div>\n",
       "<div id=\"div_fig2\">\n",
       "\n",
       "<img src=\"tmp_2212.11425/./ngc3351_dolphot_color_vi_ub_ws_Mv_ALL.png\" alt=\"Fig4\" width=\"100%\"/>\n",
       "\n",
       "**Figure 4. -** Left: NGC 3351 UBVI colour--colour diagrams for stellar associations selected in the \\textit{NUV}-band (left) and \\textit{V}-band (right)for four scale levels (8, 16, 32, and 64 pc). The associations are coloured according to their absolute \\textit{V}-band magnitude ($M_\\mathrm{V}$). The Padova stellar models  are shown as grey points and the solar metallicity, $f_\\mathrm{cov} = 0$ evolutionary tracks of synthetic stellar populations from BC03 are overplotted on the associations. The red line traces the path of a single-aged stellar population, while the yellow and blue lines trace composite stellar populations with $\\tau = 2$ and $\\tau = 4$, respectively.\n",
       "     (*FIG:NGC3351_NUV_V_cc*)\n",
       "\n",
       "</div>\n",
       "<div id=\"div_fig3\">\n",
       "\n",
       "<img src=\"tmp_2212.11425/./lowRes_figs/NGC1566_reg_img.jpg\" alt=\"Fig15\" width=\"100%\"/>\n",
       "\n",
       "**Figure 15. -** Same as Figure \\ref{FIG:ngc3351tracers}, except for NGC 1566. At $0.0396$ arcsec pixel$^{-1}$, one WFC3 pixel maps to $3.5$ pc pixel$^{-1}$ at a distance of $18$ Mpc for NGC 1566  \\textit{(Panel A)} The \\textit{HST} three-colour image for NGC 1566 (Red: WFC3/UVIS F814W, Green: WFC3/UVIS F555W, Blue: WFC3/UVIS F438W+F336W+F275W).\n",
       "    \\textit{(Panel B)} For illustration, we show a zoom-in of the \\textit{NUV} image on a portion of the spiral arm with a bright star-forming region in NGC 1566.\n",
       "    \\textit{(Panel C)}The \\textit{NUV} image of the star-forming region in NGC 1566 with the position of all \\textit{NUV} tracer stars shown as green points.\n",
       "    \\textit{(Panel D)} The \\mbox{16-pc} smoothed, filtered image of the \\textit{NUV} tracer stars for the zoom in region of NGC 1566. The image scale is in units of the FWHM of the PSF brightness. The cutoff threshold is set to 1 FWHM and the \\mbox{16-pc} watershed regions are shown in blue.\n",
       "    \\textit{(Panel E)}\\textit{NUV} image of NGC 1566 with 16, 32, and \\mbox{64-pc} levels overplotted as corresponding blue, purple, and orange regions. (*FIG:ngc1566tracers*)\n",
       "\n",
       "</div>"
      ],
      "text/plain": [
       "<IPython.core.display.Markdown object>"
      ]
     },
     "metadata": {},
     "output_type": "display_data"
    }
   ],
   "source": [
    "[display(Markdown(k[1])) for k in documents];"
   ]
  },
  {
   "cell_type": "markdown",
   "id": "873873a4",
   "metadata": {
    "papermill": {
     "duration": 0.008431,
     "end_time": "2022-12-23T04:07:35.570111",
     "exception": false,
     "start_time": "2022-12-23T04:07:35.561680",
     "status": "completed"
    },
    "tags": []
   },
   "source": [
    "# Create HTML index"
   ]
  },
  {
   "cell_type": "code",
   "execution_count": 10,
   "id": "cf665672",
   "metadata": {
    "execution": {
     "iopub.execute_input": "2022-12-23T04:07:35.588295Z",
     "iopub.status.busy": "2022-12-23T04:07:35.587842Z",
     "iopub.status.idle": "2022-12-23T04:07:35.597779Z",
     "shell.execute_reply": "2022-12-23T04:07:35.597119Z"
    },
    "papermill": {
     "duration": 0.020562,
     "end_time": "2022-12-23T04:07:35.599194",
     "exception": false,
     "start_time": "2022-12-23T04:07:35.578632",
     "status": "completed"
    },
    "tags": []
   },
   "outputs": [
    {
     "name": "stdout",
     "output_type": "stream",
     "text": [
      "146  publications in the last 7 days.\n",
      "\t _build/html/2212.11425.md\n",
      "\t _build/html/2212.11177.md\n",
      "\t _build/html/2212.10804.md\n",
      "\t _build/html/2212.10512.md\n",
      "\t _build/html/2212.09766.md\n",
      "\t _build/html/2212.09675.md\n",
      "\t _build/html/2212.09661.md\n",
      "\t _build/html/2212.09652.md\n",
      "\t _build/html/2212.09443.md\n",
      "\t _build/html/2212.09307.md\n",
      "\t _build/html/2212.09168.md\n",
      "\t _build/html/2212.09159.md\n",
      "\t _build/html/2212.08702.md\n",
      "\t _build/html/2212.07332.md\n",
      "\t _build/html/2212.06434.md\n",
      "\t _build/html/2212.04710.md\n",
      "\t _build/html/2212.04026.md\n",
      "\t _build/html/2212.03563.md\n",
      "\t _build/html/2212.03514.md\n",
      "\t _build/html/2212.02667.md\n",
      "\t _build/html/2212.02627.md\n",
      "\t _build/html/2212.02235.md\n",
      "\t _build/html/2212.01707.md\n",
      "\t _build/html/2212.01526.md\n",
      "\t _build/html/2212.01397.md\n",
      "\t _build/html/2212.01291.md\n",
      "\t _build/html/2212.01281.md\n",
      "\t _build/html/2212.00812.md\n",
      "\t _build/html/2212.00811.md\n",
      "\t _build/html/2212.00806.md\n",
      "\t _build/html/2212.00047.md\n",
      "\t _build/html/2212.00032.md\n",
      "\t _build/html/2211.16996.md\n",
      "\t _build/html/2211.16510.md\n",
      "\t _build/html/2211.16123.md\n",
      "\t _build/html/2211.15816.md\n",
      "\t _build/html/2211.15698.md\n",
      "\t _build/html/2211.15576.md\n",
      "\t _build/html/2211.15434.md\n",
      "\t _build/html/2211.15288.md\n",
      "\t _build/html/2211.15224.md\n",
      "\t _build/html/2211.14543.md\n",
      "\t _build/html/2211.14330.md\n",
      "\t _build/html/2211.14322.md\n",
      "\t _build/html/2211.14132.md\n",
      "\t _build/html/2211.13811.md\n",
      "\t _build/html/2211.13426.md\n",
      "\t _build/html/2211.13318.md\n",
      "\t _build/html/2211.13146.md\n",
      "\t _build/html/2211.12613.md\n",
      "\t _build/html/2211.11767.md\n",
      "\t _build/html/2211.09840.md\n",
      "\t _build/html/2211.09217.md\n",
      "\t _build/html/2211.08493.md\n",
      "\t _build/html/2211.08487.md\n",
      "\t _build/html/2211.08294.md\n",
      "\t _build/html/2211.07667.md\n",
      "\t _build/html/2211.07659.md\n",
      "\t _build/html/2211.06454.md\n",
      "\t _build/html/2211.06205.md\n",
      "\t _build/html/2211.06194.md\n",
      "\t _build/html/2211.05022.md\n",
      "\t _build/html/2211.04048.md\n",
      "\t _build/html/2211.03641.md\n",
      "\t _build/html/2211.02502.md\n",
      "\t _build/html/2211.01474.md\n",
      "\t _build/html/2211.00667.md\n",
      "\t _build/html/2211.00657.md\n",
      "\t _build/html/2211.00087.md\n",
      "\t _build/html/2211.00036.md\n",
      "\t _build/html/2211.00020.md\n",
      "\t _build/html/2211.00010.md\n",
      "\t _build/html/2210.17434.md\n",
      "\t _build/html/2210.12412.md\n",
      "\t _build/html/2210.11926.md\n",
      "\t _build/html/2210.11551.md\n",
      "\t _build/html/2210.11103.md\n",
      "\t _build/html/2210.10707.md\n",
      "\t _build/html/2210.09930.md\n",
      "\t _build/html/2210.08996.md\n",
      "\t _build/html/2210.08517.md\n",
      "\t _build/html/2210.08510.md\n",
      "\t _build/html/2210.08078.md\n",
      "\t _build/html/2210.06504.md\n",
      "\t _build/html/2210.05695.md\n",
      "\t _build/html/2210.05595.md\n",
      "\t _build/html/2210.05505.md\n",
      "\t _build/html/2210.04721.md\n",
      "\t _build/html/2210.03615.md\n",
      "\t _build/html/2210.01811.md\n",
      "\t _build/html/2210.01809.md\n",
      "\t _build/html/2210.01556.md\n",
      "\t _build/html/2210.00863.md\n",
      "\t _build/html/2210.00560.md\n",
      "\t _build/html/2209.15403.md\n",
      "\t _build/html/2209.15110.md\n",
      "\t _build/html/2209.14410.md\n",
      "\t _build/html/2209.14396.md\n",
      "\t _build/html/2209.13717.md\n",
      "\t _build/html/2209.13336.md\n",
      "\t _build/html/2209.12906.md\n",
      "\t _build/html/2209.11781.md\n",
      "\t _build/html/2209.11602.md\n",
      "\t _build/html/2209.11248.md\n",
      "\t _build/html/2209.11096.md\n",
      "\t _build/html/2209.10618.md\n",
      "\t _build/html/2209.09914.md\n",
      "\t _build/html/2209.09823.md\n",
      "\t _build/html/2209.08242.md\n",
      "\t _build/html/2209.08120.md\n",
      "\t _build/html/2209.08106.md\n",
      "\t _build/html/2209.07962.md\n",
      "\t _build/html/2209.07931.md\n",
      "\t _build/html/2209.06833.md\n",
      "\t _build/html/2209.05814.md\n",
      "\t _build/html/2209.05593.md\n",
      "\t _build/html/2209.04304.md\n",
      "\t _build/html/2209.03367.md\n",
      "\t _build/html/2209.02872.md\n",
      "\t _build/html/2209.02725.md\n",
      "\t _build/html/2209.02722.md\n",
      "\t _build/html/2209.02092.md\n",
      "\t _build/html/2209.01125.md\n",
      "\t _build/html/2209.00828.md\n",
      "\t _build/html/2209.00363.md\n",
      "\t _build/html/2208.14927.md\n",
      "\t _build/html/2208.09335.md\n",
      "\t _build/html/2208.08872.md\n",
      "\t _build/html/2204.06393.md\n",
      "\t _build/html/2204.03335.md\n",
      "\t _build/html/2204.03253.md\n",
      "\t _build/html/2204.02998.md\n",
      "\t _build/html/2204.02109.md\n",
      "\t _build/html/2204.02017.md\n",
      "\t _build/html/2204.01824.md\n",
      "\t _build/html/2204.01758.md\n",
      "\t _build/html/2204.01245.md\n",
      "\t _build/html/2204.00793.md\n",
      "\t _build/html/2204.00342.md\n",
      "\t _build/html/2203.16959.md\n",
      "\t _build/html/2203.16856.md\n",
      "\t _build/html/2203.16735.md\n",
      "\t _build/html/2203.16734.md\n",
      "\t _build/html/2203.16504.md\n",
      "\t _build/html/2203.15822.md\n",
      "\t _build/html/2203.15811.md\n"
     ]
    }
   ],
   "source": [
    "from datetime import datetime, timedelta, timezone\n",
    "from glob import glob\n",
    "\n",
    "files = glob('_build/html/*.md')\n",
    "days = 7\n",
    "now = datetime.today()\n",
    "res = []\n",
    "for fk in files:\n",
    "    stat_result = os.stat(fk).st_ctime\n",
    "    modified = datetime.fromtimestamp(stat_result, tz=timezone.utc).replace(tzinfo=None)\n",
    "    delta = now.today() - modified\n",
    "    if delta <= timedelta(days=days):\n",
    "        res.append((delta.seconds, fk))\n",
    "res = [k[1] for k in reversed(sorted(res, key=lambda x:x[1]))]\n",
    "npub = len(res)\n",
    "print(len(res), f\" publications in the last {days:d} days.\")\n",
    "[ print('\\t', k) for k in res ];"
   ]
  },
  {
   "cell_type": "code",
   "execution_count": 11,
   "id": "52ca0208",
   "metadata": {
    "execution": {
     "iopub.execute_input": "2022-12-23T04:07:35.617860Z",
     "iopub.status.busy": "2022-12-23T04:07:35.617437Z",
     "iopub.status.idle": "2022-12-23T04:07:35.623541Z",
     "shell.execute_reply": "2022-12-23T04:07:35.622947Z"
    },
    "papermill": {
     "duration": 0.016875,
     "end_time": "2022-12-23T04:07:35.624907",
     "exception": false,
     "start_time": "2022-12-23T04:07:35.608032",
     "status": "completed"
    },
    "scrolled": false,
    "tags": []
   },
   "outputs": [],
   "source": [
    "def create_carousel(npub=4):\n",
    "    \"\"\" Generate the HTML code for a carousel with `npub` slides \"\"\"\n",
    "    carousel = [\"\"\"<section class=\"carousel\" aria-label=\"Gallery\">\"\"\",\n",
    "                \"\"\"  <ol class=\"carousel__viewport\">\"\"\",\n",
    "    ]\n",
    "    for k in range(1, npub + 1):\n",
    "        prev_ = k - 1\n",
    "        next_ = k + 1\n",
    "        if prev_ <= 0:\n",
    "            prev_ = npub\n",
    "        if next_ > npub:\n",
    "            next_ = 1\n",
    "        text  = f\"\"\"    <li id=\"carousel__slide{k}\" tabindex=\"0\" class=\"carousel__slide\">\\n\"\"\"\n",
    "        text += f\"\"\"       <div class=\"carousel__snapper\">\\n\"\"\"\n",
    "        text += f\"\"\"         <a href=\"#carousel__slide{prev_}\" class=\"carousel__prev\">Go to previous slide</a>\\n\"\"\"\n",
    "        text += f\"\"\"         <a href=\"#carousel__slide{next_}\" class=\"carousel__next\">Go to next slide</a>\\n\"\"\"\n",
    "        text += f\"\"\"         <div id=\"slide{k}_content\" class=\"md_view\" >Content {k}</div>\\n\"\"\"\n",
    "        text += f\"\"\"       </div>\\n\"\"\"\n",
    "        text += f\"\"\"    </li>\"\"\"\n",
    "        carousel.append(text)\n",
    "\n",
    "    carousel.extend([\n",
    "        \"\"\"  </ol>\"\"\",\n",
    "        \"\"\"  <aside class=\"carousel__navigation\">\"\"\",\n",
    "        \"\"\"    <ol class=\"carousel__navigation-list\">\"\"\"])\n",
    "\n",
    "    for k in range(1, npub + 1):\n",
    "        text  = f\"\"\"      <li class=\"carousel__navigation-item\">\\n\"\"\"\n",
    "        text += f\"\"\"        <a href=\"#carousel__slide{k}\" class=\"carousel__navigation-button\">Go to {k}</a>\\n\"\"\"\n",
    "        text += f\"\"\"      </li>\"\"\"\n",
    "        carousel.append(text)\n",
    "    carousel.extend([\"\"\"    </ol>\"\"\", \"\"\"  </aside>\"\"\", \"\"\"</section>\"\"\"])\n",
    "\n",
    "    return '\\n'.join(carousel)"
   ]
  },
  {
   "cell_type": "code",
   "execution_count": 12,
   "id": "a6eac5b6",
   "metadata": {
    "execution": {
     "iopub.execute_input": "2022-12-23T04:07:35.643476Z",
     "iopub.status.busy": "2022-12-23T04:07:35.643081Z",
     "iopub.status.idle": "2022-12-23T04:07:35.650462Z",
     "shell.execute_reply": "2022-12-23T04:07:35.649901Z"
    },
    "papermill": {
     "duration": 0.018706,
     "end_time": "2022-12-23T04:07:35.652287",
     "exception": false,
     "start_time": "2022-12-23T04:07:35.633581",
     "status": "completed"
    },
    "scrolled": false,
    "tags": []
   },
   "outputs": [],
   "source": [
    "carousel = create_carousel(npub)\n",
    "docs = ', '.join(['\"{0:s}\"'.format(k.split('/')[-1]) for k in res])\n",
    "slides = ', '.join([f'\"slide{k}_content\"' for k in range(1, npub + 1)])\n",
    "\n",
    "script = f\"\"\"\n",
    "const docs = [{docs}]\n",
    "\n",
    "const slides = [{slides}]\n",
    "\"\"\" + \"\"\"\n",
    "async function run() {\n",
    "    for (let i = 0; i < docs.length; i++) {\n",
    "        let file = await fetch(docs[i]);\n",
    "        let text = await file.text()\n",
    "        document.getElementById(slides[i]).innerHTML =\n",
    "            marked.parse(text);\n",
    "    }\n",
    "    hljs.highlightAll();\n",
    "}\n",
    "run()\n",
    "\"\"\"\n",
    "\n",
    "page = f\"\"\"<!doctype html>\n",
    "<html lang=\"en\">\n",
    "\n",
    "<head>\n",
    "  <meta charset=\"utf-8\">\n",
    "  <meta name=\"viewport\" content=\"width=device-width, initial-scale=1\">\n",
    "  <!-- Bootstrap CSS -->\n",
    "  <link href=\"https://cdn.jsdelivr.net/npm/bootstrap@5.0.2/dist/css/bootstrap.min.css\" rel=\"stylesheet\"\n",
    "   integrity=\"sha384-EVSTQN3/azprG1Anm3QDgpJLIm9Nao0Yz1ztcQTwFspd3yD65VohhpuuCOmLASjC\" crossorigin=\"anonymous\">\n",
    "  <!-- highlight.js CSS -->\n",
    "  <link rel=\"stylesheet\" href=\"https://cdnjs.cloudflare.com/ajax/libs/highlight.js/11.1.0/styles/default.min.css\">\n",
    "  <!-- Mathjax 3 -->\n",
    "  <script type=\"text/javascript\" id=\"MathJax-config\" src=\"mathjax_config.js\"> </script>\n",
    "  <script type=\"text/javascript\" id=\"MathJax-script\" async \n",
    "    src=\"https://cdn.jsdelivr.net/npm/mathjax@3/es5/tex-mml-chtml.js\">\n",
    "  </script>\n",
    "  <link rel=\"stylesheet\" href=\"index_carousel.css\">\n",
    "  <link rel=\"icon\" type=\"image/x-icon\" href=\"https://www.mpia.de/assets/touch-icon-32x32-a66937bcebc4e8894ebff1f41a366c7c7220fd97a38869ee0f2db65a9f59b6c1.png\">\n",
    "  <title>MPIA Arxiv on deck!</title>\n",
    "</head>\n",
    "\n",
    "<body>\n",
    "  <div id=\"header\"> <img src=\"header_banner.png\" width=\"100%\"></div>\n",
    "  <div id=\"suptitle\"> 7-day archives </div>\n",
    "  <div id=\"info\">\n",
    "    <img src=\"https://pngimg.com/uploads/github/github_PNG58.png\" height=30rem></img>\n",
    "    <a href=https://github.com/mpi-astronomy/arxiv_display style=\"color:black;\">github/mpi-astronomy/arxiv_display</a> \n",
    "  </div>\n",
    "  {carousel:s}\n",
    "</body>\n",
    "\n",
    "<!-- Render Markdown -->\n",
    "\n",
    "<body>\n",
    "  <!-- highlight.js: https://highlightjs.org/download/ -->\n",
    "  <script src=\"https://cdnjs.cloudflare.com/ajax/libs/highlight.js/11.5.0/highlight.min.js\"></script>\n",
    "  <!-- marked.js -->\n",
    "  <script src=\"https://cdn.jsdelivr.net/npm/marked/marked.min.js\"></script>\n",
    "  <script>{script:s}</script>\n",
    "</body>\n",
    "</html>\n",
    "\"\"\"\n",
    "with open(\"_build/html/index_7days.html\", 'w') as fout:\n",
    "    fout.write(page)"
   ]
  },
  {
   "cell_type": "markdown",
   "id": "1cebacbc",
   "metadata": {
    "papermill": {
     "duration": 0.008831,
     "end_time": "2022-12-23T04:07:35.669800",
     "exception": false,
     "start_time": "2022-12-23T04:07:35.660969",
     "status": "completed"
    },
    "tags": []
   },
   "source": [
    "# Debugging papers"
   ]
  },
  {
   "cell_type": "raw",
   "id": "debe7cc6",
   "metadata": {
    "papermill": {
     "duration": 0.008615,
     "end_time": "2022-12-23T04:07:35.687118",
     "exception": false,
     "start_time": "2022-12-23T04:07:35.678503",
     "status": "completed"
    },
    "tags": []
   },
   "source": [
    "raise NotImplementedError(\"Manual Stop\")"
   ]
  },
  {
   "cell_type": "raw",
   "id": "eb169192",
   "metadata": {
    "papermill": {
     "duration": 0.008738,
     "end_time": "2022-12-23T04:07:35.730797",
     "exception": false,
     "start_time": "2022-12-23T04:07:35.722059",
     "status": "completed"
    },
    "scrolled": true,
    "tags": []
   },
   "source": [
    "from IPython.display import display, Markdown\n",
    "from TexSoup import TexSoup\n",
    "import re\n",
    "\n",
    "def bracket_error(source: str):\n",
    "    \"\"\" Find problematic portions of the document \"\"\"\n",
    "    \n",
    "    print(\"len(source)\", len(source))\n",
    "    \n",
    "    # Checking header\n",
    "    begin_doc = next(re.finditer(r'\\\\begin\\{document\\}', doc.source)).span()[1]\n",
    "    header = source[:begin_doc]\n",
    "    text = header + r\"\\n\\end{document}\"\n",
    "\n",
    "    try:\n",
    "        # print(\"Header check... \", end='')\n",
    "        TexSoup(text)\n",
    "        display(Markdown(f\"**[OK]** - Header\"))\n",
    "    except:\n",
    "        raise RuntimeError(\"Error in the header\")\n",
    "        \n",
    "    # Check the text per section until the end.\n",
    "    # Do not stop and try them all.\n",
    "    \n",
    "    problematic_text = []\n",
    "    \n",
    "    sections = ([(0, begin_doc, 'until first section')] + \n",
    "                [(g.span()[0], g.span()[1], g.group()) for g in re.finditer(r'\\\\section\\{.*\\}', source)] +\n",
    "                [(g.span()[0], g.span()[1], g.group()) for g in re.finditer(r'\\\\begin\\{appendix\\}', source)]\n",
    "               )\n",
    "    sections.append([len(source), len(source), 'end'])\n",
    "    \n",
    "    sections = sorted(sections, key=lambda x: x[0])\n",
    "    \n",
    "    prev_pos, prev_name = (0, 'header')\n",
    "    parsed = []\n",
    "    \n",
    "    for span, span_end, name in sections:\n",
    "\n",
    "        if span - prev_pos <= 0:\n",
    "            continue\n",
    "            \n",
    "\n",
    "        text = source[prev_pos:span]\n",
    "        if prev_pos > begin_doc:\n",
    "            text = r\"\\n\\begin{document}\" + text + r\"\\n\\end{document}\"\n",
    "        else:\n",
    "            text = text + r\"\\n\\end{document}\"\n",
    "        try:\n",
    "            #print(f\"{prev_pos}:{prev_name}-->{span}:{name} check... \", end='')\n",
    "            parsed.append(TexSoup(text, tolerance=1))  # allow not ending env\n",
    "            display(Markdown(f\"**[OK]** - *{prev_pos}*:{prev_name} &rarr; *{span}*:{name}\"))\n",
    "            # print(\"ok\")\n",
    "\n",
    "            prev_pos = span\n",
    "            prev_name = name\n",
    "        except:\n",
    "            # print(f\"error between {prev_pos} and {span}\")\n",
    "            display(Markdown(f\"**[ERR]** *{prev_pos}*:{prev_name} &rarr; *{span}*:{name}\"))\n",
    "            problematic_text.append((prev_pos, source[prev_pos:span]))\n",
    "            prev_pos = span\n",
    "            prev_name = name\n",
    "            # raise\n",
    "    return problematic_text, parsed\n",
    "\n",
    "\n",
    "def check_environment(text, offset=0):\n",
    "    \"\"\" Check environment \"\"\"\n",
    "    env = re.compile(r\"\\\\begin\\{(?P<env>.*)\\}(.*)\\\\end\\{(?P=env)\\}\", re.DOTALL)\n",
    "\n",
    "    for match in env.finditer(text):\n",
    "        beg, end = match.span()\n",
    "        beg += offset\n",
    "        end += offset\n",
    "        envname = match.groups()[0]\n",
    "        try:\n",
    "            latex.TexSoup(match.group())\n",
    "        except Exception as e:\n",
    "            display(e)\n",
    "            print(f\"Error in {envname:s} between {beg} and {end}\")\n",
    "            return match.groups()[1], beg, end"
   ]
  },
  {
   "cell_type": "raw",
   "id": "2315e835",
   "metadata": {
    "papermill": {
     "duration": 0.008581,
     "end_time": "2022-12-23T04:07:35.748063",
     "exception": false,
     "start_time": "2022-12-23T04:07:35.739482",
     "status": "completed"
    },
    "scrolled": false,
    "tags": []
   },
   "source": [
    "import importlib\n",
    "importlib.reload(latex)\n",
    "which = \"2204.03253\"\n",
    "paper_id = f'{which:s}'\n",
    "folder = f'tmp_{paper_id:s}'\n",
    "\n",
    "if not os.path.isdir(folder):\n",
    "    folder = retrieve_document_source(f\"{paper_id}\", f'tmp_{paper_id}')\n",
    "\n",
    "try:\n",
    "    doc = latex.LatexDocument(folder, validation=validation)    \n",
    "except AffiliationError as affilerror:\n",
    "    msg = f\"ArXiv:{paper_id:s} is not an MPIA paper... \" + str(affilerror)\n",
    "    print(msg)\n",
    "\n",
    "\n",
    "# Hack because sometimes author parsing does not work well\n",
    "if (len(doc.authors) != len(paper['authors'])):\n",
    "    doc._authors = paper['authors']\n",
    "if (doc.abstract) in (None, ''):\n",
    "    doc._abstract = paper['abstract']\n",
    "\n",
    "doc.comment = get_markdown_badge(paper_id) + \" _\" + paper['comments'] + \"_\"\n",
    "doc.highlight_authors_in_list(hl_list)\n",
    "\n",
    "full_md = doc.generate_markdown_text()"
   ]
  },
  {
   "cell_type": "raw",
   "id": "dd3781db",
   "metadata": {
    "papermill": {
     "duration": 0.008669,
     "end_time": "2022-12-23T04:07:35.765460",
     "exception": false,
     "start_time": "2022-12-23T04:07:35.756791",
     "status": "completed"
    },
    "scrolled": false,
    "tags": []
   },
   "source": [
    "doc"
   ]
  },
  {
   "cell_type": "raw",
   "id": "c6eed834",
   "metadata": {
    "papermill": {
     "duration": 0.00862,
     "end_time": "2022-12-23T04:07:35.782805",
     "exception": false,
     "start_time": "2022-12-23T04:07:35.774185",
     "status": "completed"
    },
    "tags": []
   },
   "source": [
    "# [check_environment(k) for k in bracket_error(doc.source)]\n",
    "_, _, a = latex.get_content_per_section(doc.source, verbose=True)\n",
    "if not a:\n",
    "    print(\"no issues per section\")\n",
    "for ak in a:\n",
    "    r = check_environment(ak[1], offset=ak[0])\n",
    "    print(r[1], r[2])\n",
    "    print(r[0])"
   ]
  },
  {
   "cell_type": "code",
   "execution_count": null,
   "id": "71ce768a",
   "metadata": {
    "papermill": {
     "duration": 0.008599,
     "end_time": "2022-12-23T04:07:35.800132",
     "exception": false,
     "start_time": "2022-12-23T04:07:35.791533",
     "status": "completed"
    },
    "tags": []
   },
   "outputs": [],
   "source": []
  }
 ],
 "metadata": {
  "kernelspec": {
   "display_name": "Python 3.10.6 64-bit",
   "language": "python",
   "name": "python3"
  },
  "language_info": {
   "codemirror_mode": {
    "name": "ipython",
    "version": 3
   },
   "file_extension": ".py",
   "mimetype": "text/x-python",
   "name": "python",
   "nbconvert_exporter": "python",
   "pygments_lexer": "ipython3",
   "version": "3.9.16"
  },
  "papermill": {
   "default_parameters": {},
   "duration": 158.751571,
   "end_time": "2022-12-23T04:07:36.026241",
   "environment_variables": {},
   "exception": null,
   "input_path": "MPIA daily digest.ipynb",
   "output_path": "log.ipynb",
   "parameters": {},
   "start_time": "2022-12-23T04:04:57.274670",
   "version": "2.4.0"
  },
  "vscode": {
   "interpreter": {
    "hash": "e7370f93d1d0cde622a1f8e1c04877d8463912d04d973331ad4851f04de6915a"
   }
  },
  "widgets": {
   "application/vnd.jupyter.widget-state+json": {
    "state": {
     "042da06d4e994b34b5bbfe7f6d09f63a": {
      "model_module": "@jupyter-widgets/controls",
      "model_module_version": "2.0.0",
      "model_name": "HTMLModel",
      "state": {
       "_dom_classes": [],
       "_model_module": "@jupyter-widgets/controls",
       "_model_module_version": "2.0.0",
       "_model_name": "HTMLModel",
       "_view_count": null,
       "_view_module": "@jupyter-widgets/controls",
       "_view_module_version": "2.0.0",
       "_view_name": "HTMLView",
       "description": "",
       "description_allow_html": false,
       "layout": "IPY_MODEL_a5d7d7233d7e433fa5638f9269ab7635",
       "placeholder": "​",
       "style": "IPY_MODEL_68172655751e4a739729137178546a66",
       "tabbable": null,
       "tooltip": null,
       "value": " 16/16 [02:08&lt;00:00,  2.23s/it]"
      }
     },
     "1b6d23e6c36b47a2bf39298fe573c094": {
      "model_module": "@jupyter-widgets/base",
      "model_module_version": "2.0.0",
      "model_name": "LayoutModel",
      "state": {
       "_model_module": "@jupyter-widgets/base",
       "_model_module_version": "2.0.0",
       "_model_name": "LayoutModel",
       "_view_count": null,
       "_view_module": "@jupyter-widgets/base",
       "_view_module_version": "2.0.0",
       "_view_name": "LayoutView",
       "align_content": null,
       "align_items": null,
       "align_self": null,
       "border_bottom": null,
       "border_left": null,
       "border_right": null,
       "border_top": null,
       "bottom": null,
       "display": null,
       "flex": null,
       "flex_flow": null,
       "grid_area": null,
       "grid_auto_columns": null,
       "grid_auto_flow": null,
       "grid_auto_rows": null,
       "grid_column": null,
       "grid_gap": null,
       "grid_row": null,
       "grid_template_areas": null,
       "grid_template_columns": null,
       "grid_template_rows": null,
       "height": null,
       "justify_content": null,
       "justify_items": null,
       "left": null,
       "margin": null,
       "max_height": null,
       "max_width": null,
       "min_height": null,
       "min_width": null,
       "object_fit": null,
       "object_position": null,
       "order": null,
       "overflow": null,
       "padding": null,
       "right": null,
       "top": null,
       "visibility": null,
       "width": null
      }
     },
     "397f90fd4dd0453ead2404ef36a43d82": {
      "model_module": "@jupyter-widgets/controls",
      "model_module_version": "2.0.0",
      "model_name": "HBoxModel",
      "state": {
       "_dom_classes": [],
       "_model_module": "@jupyter-widgets/controls",
       "_model_module_version": "2.0.0",
       "_model_name": "HBoxModel",
       "_view_count": null,
       "_view_module": "@jupyter-widgets/controls",
       "_view_module_version": "2.0.0",
       "_view_name": "HBoxView",
       "box_style": "",
       "children": [
        "IPY_MODEL_556bd198b3ed431498b43d1523b8fbdc",
        "IPY_MODEL_84f11021cdf74203a1113ec4cbf19144",
        "IPY_MODEL_042da06d4e994b34b5bbfe7f6d09f63a"
       ],
       "layout": "IPY_MODEL_b3ffde9f7470443db9c746bc60135574",
       "tabbable": null,
       "tooltip": null
      }
     },
     "556bd198b3ed431498b43d1523b8fbdc": {
      "model_module": "@jupyter-widgets/controls",
      "model_module_version": "2.0.0",
      "model_name": "HTMLModel",
      "state": {
       "_dom_classes": [],
       "_model_module": "@jupyter-widgets/controls",
       "_model_module_version": "2.0.0",
       "_model_name": "HTMLModel",
       "_view_count": null,
       "_view_module": "@jupyter-widgets/controls",
       "_view_module_version": "2.0.0",
       "_view_name": "HTMLView",
       "description": "",
       "description_allow_html": false,
       "layout": "IPY_MODEL_91a4cf5a78214672af0f25676bfffd91",
       "placeholder": "​",
       "style": "IPY_MODEL_8a8919c9d6e64f54bdc4ec8c7608b608",
       "tabbable": null,
       "tooltip": null,
       "value": "100%"
      }
     },
     "62b97eef306640ba8a1f4c61d00ec9c1": {
      "model_module": "@jupyter-widgets/controls",
      "model_module_version": "2.0.0",
      "model_name": "ProgressStyleModel",
      "state": {
       "_model_module": "@jupyter-widgets/controls",
       "_model_module_version": "2.0.0",
       "_model_name": "ProgressStyleModel",
       "_view_count": null,
       "_view_module": "@jupyter-widgets/base",
       "_view_module_version": "2.0.0",
       "_view_name": "StyleView",
       "bar_color": null,
       "description_width": ""
      }
     },
     "68172655751e4a739729137178546a66": {
      "model_module": "@jupyter-widgets/controls",
      "model_module_version": "2.0.0",
      "model_name": "HTMLStyleModel",
      "state": {
       "_model_module": "@jupyter-widgets/controls",
       "_model_module_version": "2.0.0",
       "_model_name": "HTMLStyleModel",
       "_view_count": null,
       "_view_module": "@jupyter-widgets/base",
       "_view_module_version": "2.0.0",
       "_view_name": "StyleView",
       "background": null,
       "description_width": "",
       "font_size": null,
       "text_color": null
      }
     },
     "84f11021cdf74203a1113ec4cbf19144": {
      "model_module": "@jupyter-widgets/controls",
      "model_module_version": "2.0.0",
      "model_name": "FloatProgressModel",
      "state": {
       "_dom_classes": [],
       "_model_module": "@jupyter-widgets/controls",
       "_model_module_version": "2.0.0",
       "_model_name": "FloatProgressModel",
       "_view_count": null,
       "_view_module": "@jupyter-widgets/controls",
       "_view_module_version": "2.0.0",
       "_view_name": "ProgressView",
       "bar_style": "success",
       "description": "",
       "description_allow_html": false,
       "layout": "IPY_MODEL_1b6d23e6c36b47a2bf39298fe573c094",
       "max": 16.0,
       "min": 0.0,
       "orientation": "horizontal",
       "style": "IPY_MODEL_62b97eef306640ba8a1f4c61d00ec9c1",
       "tabbable": null,
       "tooltip": null,
       "value": 16.0
      }
     },
     "8a8919c9d6e64f54bdc4ec8c7608b608": {
      "model_module": "@jupyter-widgets/controls",
      "model_module_version": "2.0.0",
      "model_name": "HTMLStyleModel",
      "state": {
       "_model_module": "@jupyter-widgets/controls",
       "_model_module_version": "2.0.0",
       "_model_name": "HTMLStyleModel",
       "_view_count": null,
       "_view_module": "@jupyter-widgets/base",
       "_view_module_version": "2.0.0",
       "_view_name": "StyleView",
       "background": null,
       "description_width": "",
       "font_size": null,
       "text_color": null
      }
     },
     "91a4cf5a78214672af0f25676bfffd91": {
      "model_module": "@jupyter-widgets/base",
      "model_module_version": "2.0.0",
      "model_name": "LayoutModel",
      "state": {
       "_model_module": "@jupyter-widgets/base",
       "_model_module_version": "2.0.0",
       "_model_name": "LayoutModel",
       "_view_count": null,
       "_view_module": "@jupyter-widgets/base",
       "_view_module_version": "2.0.0",
       "_view_name": "LayoutView",
       "align_content": null,
       "align_items": null,
       "align_self": null,
       "border_bottom": null,
       "border_left": null,
       "border_right": null,
       "border_top": null,
       "bottom": null,
       "display": null,
       "flex": null,
       "flex_flow": null,
       "grid_area": null,
       "grid_auto_columns": null,
       "grid_auto_flow": null,
       "grid_auto_rows": null,
       "grid_column": null,
       "grid_gap": null,
       "grid_row": null,
       "grid_template_areas": null,
       "grid_template_columns": null,
       "grid_template_rows": null,
       "height": null,
       "justify_content": null,
       "justify_items": null,
       "left": null,
       "margin": null,
       "max_height": null,
       "max_width": null,
       "min_height": null,
       "min_width": null,
       "object_fit": null,
       "object_position": null,
       "order": null,
       "overflow": null,
       "padding": null,
       "right": null,
       "top": null,
       "visibility": null,
       "width": null
      }
     },
     "a5d7d7233d7e433fa5638f9269ab7635": {
      "model_module": "@jupyter-widgets/base",
      "model_module_version": "2.0.0",
      "model_name": "LayoutModel",
      "state": {
       "_model_module": "@jupyter-widgets/base",
       "_model_module_version": "2.0.0",
       "_model_name": "LayoutModel",
       "_view_count": null,
       "_view_module": "@jupyter-widgets/base",
       "_view_module_version": "2.0.0",
       "_view_name": "LayoutView",
       "align_content": null,
       "align_items": null,
       "align_self": null,
       "border_bottom": null,
       "border_left": null,
       "border_right": null,
       "border_top": null,
       "bottom": null,
       "display": null,
       "flex": null,
       "flex_flow": null,
       "grid_area": null,
       "grid_auto_columns": null,
       "grid_auto_flow": null,
       "grid_auto_rows": null,
       "grid_column": null,
       "grid_gap": null,
       "grid_row": null,
       "grid_template_areas": null,
       "grid_template_columns": null,
       "grid_template_rows": null,
       "height": null,
       "justify_content": null,
       "justify_items": null,
       "left": null,
       "margin": null,
       "max_height": null,
       "max_width": null,
       "min_height": null,
       "min_width": null,
       "object_fit": null,
       "object_position": null,
       "order": null,
       "overflow": null,
       "padding": null,
       "right": null,
       "top": null,
       "visibility": null,
       "width": null
      }
     },
     "b3ffde9f7470443db9c746bc60135574": {
      "model_module": "@jupyter-widgets/base",
      "model_module_version": "2.0.0",
      "model_name": "LayoutModel",
      "state": {
       "_model_module": "@jupyter-widgets/base",
       "_model_module_version": "2.0.0",
       "_model_name": "LayoutModel",
       "_view_count": null,
       "_view_module": "@jupyter-widgets/base",
       "_view_module_version": "2.0.0",
       "_view_name": "LayoutView",
       "align_content": null,
       "align_items": null,
       "align_self": null,
       "border_bottom": null,
       "border_left": null,
       "border_right": null,
       "border_top": null,
       "bottom": null,
       "display": null,
       "flex": null,
       "flex_flow": null,
       "grid_area": null,
       "grid_auto_columns": null,
       "grid_auto_flow": null,
       "grid_auto_rows": null,
       "grid_column": null,
       "grid_gap": null,
       "grid_row": null,
       "grid_template_areas": null,
       "grid_template_columns": null,
       "grid_template_rows": null,
       "height": null,
       "justify_content": null,
       "justify_items": null,
       "left": null,
       "margin": null,
       "max_height": null,
       "max_width": null,
       "min_height": null,
       "min_width": null,
       "object_fit": null,
       "object_position": null,
       "order": null,
       "overflow": null,
       "padding": null,
       "right": null,
       "top": null,
       "visibility": null,
       "width": null
      }
     }
    },
    "version_major": 2,
    "version_minor": 0
   }
  }
 },
 "nbformat": 4,
 "nbformat_minor": 5
}