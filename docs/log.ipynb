{
 "cells": [
  {
   "cell_type": "markdown",
   "id": "92bcb855",
   "metadata": {
    "papermill": {
     "duration": 0.00396,
     "end_time": "2024-06-19T04:08:38.880701",
     "exception": false,
     "start_time": "2024-06-19T04:08:38.876741",
     "status": "completed"
    },
    "tags": []
   },
   "source": [
    "# MPIA Arxiv on Deck 2\n",
    "\n",
    "Contains the steps to produce the paper extractions."
   ]
  },
  {
   "cell_type": "code",
   "execution_count": 1,
   "id": "3a0d6e11",
   "metadata": {
    "execution": {
     "iopub.execute_input": "2024-06-19T04:08:38.888389Z",
     "iopub.status.busy": "2024-06-19T04:08:38.887840Z",
     "iopub.status.idle": "2024-06-19T04:08:39.225283Z",
     "shell.execute_reply": "2024-06-19T04:08:39.224644Z"
    },
    "papermill": {
     "duration": 0.343176,
     "end_time": "2024-06-19T04:08:39.227038",
     "exception": false,
     "start_time": "2024-06-19T04:08:38.883862",
     "status": "completed"
    },
    "tags": []
   },
   "outputs": [],
   "source": [
    "# Imports\n",
    "import os\n",
    "from IPython.display import Markdown, display\n",
    "from tqdm.notebook import tqdm\n",
    "import warnings\n",
    "from PIL import Image \n",
    "\n",
    "# requires arxiv_on_deck_2\n",
    "\n",
    "from arxiv_on_deck_2.arxiv2 import (get_new_papers, \n",
    "                                    get_paper_from_identifier,\n",
    "                                    retrieve_document_source, \n",
    "                                    get_markdown_badge)\n",
    "from arxiv_on_deck_2 import (latex,\n",
    "                             latex_bib,\n",
    "                             mpia,\n",
    "                             highlight_authors_in_list)\n",
    "\n",
    "# Sometimes images are really big\n",
    "Image.MAX_IMAGE_PIXELS = 1000000000 "
   ]
  },
  {
   "cell_type": "code",
   "execution_count": 2,
   "id": "22aa9d44",
   "metadata": {
    "execution": {
     "iopub.execute_input": "2024-06-19T04:08:39.234582Z",
     "iopub.status.busy": "2024-06-19T04:08:39.234119Z",
     "iopub.status.idle": "2024-06-19T04:08:39.239196Z",
     "shell.execute_reply": "2024-06-19T04:08:39.238646Z"
    },
    "papermill": {
     "duration": 0.010237,
     "end_time": "2024-06-19T04:08:39.240568",
     "exception": false,
     "start_time": "2024-06-19T04:08:39.230331",
     "status": "completed"
    },
    "tags": []
   },
   "outputs": [],
   "source": [
    "# Some useful definitions.\n",
    "\n",
    "class AffiliationWarning(UserWarning):\n",
    "    pass\n",
    "\n",
    "class AffiliationError(RuntimeError):\n",
    "    pass\n",
    "\n",
    "def validation(source: str):\n",
    "    \"\"\"Raises error paper during parsing of source file\n",
    "    \n",
    "    Allows checks before parsing TeX code.\n",
    "    \n",
    "    Raises AffiliationWarning\n",
    "    \"\"\"\n",
    "    check = mpia.affiliation_verifications(source, verbose=True)\n",
    "    if check is not True:\n",
    "        raise AffiliationError(\"mpia.affiliation_verifications: \" + check)\n",
    "\n",
    "        \n",
    "warnings.simplefilter('always', AffiliationWarning)\n",
    "\n",
    "\n",
    "def get_markdown_qrcode(paper_id: str):\n",
    "    \"\"\" Generate a qrcode to the arxiv page using qrserver.com\n",
    "    \n",
    "    :param paper: Arxiv paper\n",
    "    :returns: markdown text\n",
    "    \"\"\"\n",
    "    url = r\"https://api.qrserver.com/v1/create-qr-code/?size=100x100&data=\"\n",
    "    txt = f\"\"\"<img src={url}\"https://arxiv.org/abs/{paper_id}\">\"\"\"\n",
    "    txt = '<div id=\"qrcode\">' + txt + '</div>'\n",
    "    return txt"
   ]
  },
  {
   "cell_type": "markdown",
   "id": "14bd6310",
   "metadata": {
    "papermill": {
     "duration": 0.002876,
     "end_time": "2024-06-19T04:08:39.246597",
     "exception": false,
     "start_time": "2024-06-19T04:08:39.243721",
     "status": "completed"
    },
    "tags": []
   },
   "source": [
    "## get list of arxiv paper candidates\n",
    "\n",
    "We use the MPIA mitarbeiter list webpage from mpia.de to get author names\n",
    "We then get all new papers from Arxiv and match authors"
   ]
  },
  {
   "cell_type": "code",
   "execution_count": 3,
   "id": "7ea813a8",
   "metadata": {
    "execution": {
     "iopub.execute_input": "2024-06-19T04:08:39.253494Z",
     "iopub.status.busy": "2024-06-19T04:08:39.253121Z",
     "iopub.status.idle": "2024-06-19T04:08:56.168255Z",
     "shell.execute_reply": "2024-06-19T04:08:56.167621Z"
    },
    "papermill": {
     "duration": 16.920305,
     "end_time": "2024-06-19T04:08:56.169888",
     "exception": false,
     "start_time": "2024-06-19T04:08:39.249583",
     "status": "completed"
    },
    "tags": []
   },
   "outputs": [],
   "source": [
    "# deal with the author list and edge cases of people that cannot be consistent on their name  \n",
    "\n",
    "def filter_non_scientists(name: str) -> bool:\n",
    "    \"\"\" Loose filter on expected authorships\n",
    "\n",
    "    removing IT, administration, technical staff\n",
    "    :param name: name\n",
    "    :returns: False if name is not a scientist\n",
    "    \"\"\"\n",
    "    remove_list = ['Wolf', 'Licht', 'Binroth', 'Witzel', 'Jordan',\n",
    "                   'Zähringer', 'Scheerer', 'Hoffmann', 'Düe',\n",
    "                   'Hellmich', 'Enkler-Scharpegge', 'Witte-Nguy',\n",
    "                   'Dehen', 'Beckmann', 'Jager', 'Jäger'\n",
    "                  ]\n",
    "\n",
    "    for k in remove_list:\n",
    "        if k in name:\n",
    "            return False\n",
    "    return True\n",
    "\n",
    "def add_author_to_list(author_list: list) -> list:\n",
    "    \"\"\" Add author to list if not already in list\n",
    "    \n",
    "    :param author: author name\n",
    "    :param author_list: list of authors\n",
    "    :returns: updated list of authors\n",
    "    \"\"\"\n",
    "    add_list = ['T. Henning']\n",
    "\n",
    "    for author in add_list:\n",
    "        if author not in author_list:\n",
    "            author_list.append(author)\n",
    "    return author_list\n",
    "\n",
    "# get list from MPIA website\n",
    "# filter for non-scientists (mpia.get_mpia_mitarbeiter_list() does some filtering)\n",
    "mpia_authors = [k[1] for k in mpia.get_mpia_mitarbeiter_list() if filter_non_scientists(k[1])]\n",
    "# add some missing author because of inconsistencies in their MPIA name and author name on papers\n",
    "mpia_authors = add_author_to_list(mpia_authors)"
   ]
  },
  {
   "cell_type": "code",
   "execution_count": 4,
   "id": "2645e73a",
   "metadata": {
    "execution": {
     "iopub.execute_input": "2024-06-19T04:08:56.177527Z",
     "iopub.status.busy": "2024-06-19T04:08:56.177106Z",
     "iopub.status.idle": "2024-06-19T04:08:56.971021Z",
     "shell.execute_reply": "2024-06-19T04:08:56.970323Z"
    },
    "papermill": {
     "duration": 0.799111,
     "end_time": "2024-06-19T04:08:56.972383",
     "exception": false,
     "start_time": "2024-06-19T04:08:56.173272",
     "status": "completed"
    },
    "tags": []
   },
   "outputs": [
    {
     "name": "stdout",
     "output_type": "stream",
     "text": [
      "E. Schinnerer  ->  E. Schinnerer  |  ['E. Schinnerer']\n",
      "M. Benisty  ->  M. Benisty  |  ['M. Benisty']\n",
      "Arxiv has 73 new papers today\n",
      "          2 with possible author matches\n"
     ]
    }
   ],
   "source": [
    "new_papers = get_new_papers()\n",
    "# add manual references\n",
    "add_paper_refs = []\n",
    "new_papers.extend([get_paper_from_identifier(k) for k in add_paper_refs])\n",
    "\n",
    "candidates = []\n",
    "for paperk in new_papers:\n",
    "    # Check author list with their initials\n",
    "    normed_author_list = [mpia.get_initials(k) for k in paperk['authors']]\n",
    "    hl_authors = highlight_authors_in_list(normed_author_list, mpia_authors, verbose=True)\n",
    "    matches = [(hl, orig) for hl, orig in zip(hl_authors, paperk['authors']) if 'mark' in hl]\n",
    "    paperk['authors'] = hl_authors\n",
    "    if matches:\n",
    "        # only select paper if an author matched our list\n",
    "        candidates.append(paperk)\n",
    "print(\"\"\"Arxiv has {0:,d} new papers today\"\"\".format(len(new_papers)))        \n",
    "print(\"\"\"          {0:,d} with possible author matches\"\"\".format(len(candidates)))"
   ]
  },
  {
   "cell_type": "markdown",
   "id": "3543b34a",
   "metadata": {
    "papermill": {
     "duration": 0.003201,
     "end_time": "2024-06-19T04:08:56.979949",
     "exception": false,
     "start_time": "2024-06-19T04:08:56.976748",
     "status": "completed"
    },
    "tags": []
   },
   "source": [
    "# Parse sources and generate relevant outputs\n",
    "\n",
    "From the candidates, we do the following steps:\n",
    "* get their tarball from ArXiv (and extract data)\n",
    "* find the main .tex file: find one with \\documentclass{...} (sometimes it's non trivial)\n",
    "* Check affiliations with :func:`validation`, which uses :func:`mpia.affiliation_verifications`\n",
    "* If passing the affiliations: we parse the .tex source\n",
    "   * inject sub-documents into the main (flatten the main document)\n",
    "   * parse structure, extract information (title, abstract, authors, figures...)\n",
    "   * handles `\\graphicspath` if provided\n",
    "* Generate the .md document."
   ]
  },
  {
   "cell_type": "code",
   "execution_count": 5,
   "id": "9576b79e",
   "metadata": {
    "execution": {
     "iopub.execute_input": "2024-06-19T04:08:56.987310Z",
     "iopub.status.busy": "2024-06-19T04:08:56.986882Z",
     "iopub.status.idle": "2024-06-19T04:09:22.588558Z",
     "shell.execute_reply": "2024-06-19T04:09:22.587759Z"
    },
    "papermill": {
     "duration": 25.607553,
     "end_time": "2024-06-19T04:09:22.590501",
     "exception": false,
     "start_time": "2024-06-19T04:08:56.982948",
     "status": "completed"
    },
    "scrolled": false,
    "tags": []
   },
   "outputs": [
    {
     "data": {
      "application/vnd.jupyter.widget-view+json": {
       "model_id": "96681b62b2064148baa8691e311d84c4",
       "version_major": 2,
       "version_minor": 0
      },
      "text/plain": [
       "  0%|          | 0/2 [00:00<?, ?it/s]"
      ]
     },
     "metadata": {},
     "output_type": "display_data"
    },
    {
     "name": "stdout",
     "output_type": "stream",
     "text": [
      "Retrieving document from  https://arxiv.org/e-print/2406.12025\n"
     ]
    },
    {
     "name": "stdout",
     "output_type": "stream",
     "text": [
      "extracting tarball to tmp_2406.12025... done.\n",
      "Retrieving document from  https://arxiv.org/e-print/2406.12819\n",
      "extracting tarball to tmp_2406.12819..."
     ]
    },
    {
     "name": "stderr",
     "output_type": "stream",
     "text": [
      "/opt/hostedtoolcache/Python/3.9.19/x64/lib/python3.9/site-packages/IPython/core/interactiveshell.py:3550: LatexWarning: Multiple tex files.\n",
      "\n",
      "  exec(code_obj, self.user_global_ns, self.user_ns)\n",
      "/tmp/ipykernel_2107/1211882699.py:51: LatexWarning: 2406.12025 did not run properly\n",
      "'PosixPath' object is not subscriptable\n",
      "  warnings.warn(latex.LatexWarning(f\"{paper_id:s} did not run properly\\n\" +\n",
      "/opt/hostedtoolcache/Python/3.9.19/x64/lib/python3.9/site-packages/IPython/core/interactiveshell.py:3550: LatexWarning: Multiple tex files.\n",
      "\n",
      "  exec(code_obj, self.user_global_ns, self.user_ns)\n",
      "/opt/hostedtoolcache/Python/3.9.19/x64/lib/python3.9/site-packages/IPython/core/interactiveshell.py:3550: LatexWarning: Found 2 candidates with documentclass definition.\n",
      "  exec(code_obj, self.user_global_ns, self.user_ns)\n",
      "/opt/hostedtoolcache/Python/3.9.19/x64/lib/python3.9/site-packages/IPython/core/interactiveshell.py:3550: LatexWarning: Assuming tmp_2406.12819/main.tex as main document.\n",
      "  exec(code_obj, self.user_global_ns, self.user_ns)\n"
     ]
    },
    {
     "name": "stdout",
     "output_type": "stream",
     "text": [
      " done.\n",
      "  0: tmp_2406.12819/aassymbols.tex, 579 lines\n",
      "  1: tmp_2406.12819/main.tex, 618 lines\n"
     ]
    },
    {
     "name": "stdout",
     "output_type": "stream",
     "text": [
      "M. Benisty  ->  M. Benisty  |  ['M. Benisty']\n"
     ]
    },
    {
     "name": "stdout",
     "output_type": "stream",
     "text": [
      "Found 56 bibliographic references in tmp_2406.12819/main.bbl.\n"
     ]
    }
   ],
   "source": [
    "documents = []\n",
    "failed = []\n",
    "for paper in tqdm(candidates):\n",
    "    # debug crap\n",
    "    paper['identifier'] = paper['identifier'].lower().replace('arxiv:', '').replace(r'\\n', '').strip()\n",
    "    paper_id = paper['identifier']\n",
    "    \n",
    "    folder = f'tmp_{paper_id}'\n",
    "\n",
    "    try:\n",
    "        if not os.path.isdir(folder):\n",
    "            folder = retrieve_document_source(f\"{paper_id}\", f'tmp_{paper_id}')\n",
    "        \n",
    "        try:\n",
    "            doc = latex.LatexDocument(folder, validation=validation)    \n",
    "        except AffiliationError as affilerror:\n",
    "            msg = f\"ArXiv:{paper_id:s} is not an MPIA paper... \" + str(affilerror)\n",
    "            failed.append((paper, \"affiliation error: \" + str(affilerror) ))\n",
    "            continue\n",
    "        \n",
    "        # Hack because sometimes author parsing does not work well\n",
    "        if (len(doc.authors) != len(paper['authors'])):\n",
    "            doc._authors = paper['authors']\n",
    "        else:\n",
    "            # highlight authors (FIXME: doc.highlight_authors)\n",
    "            # done on arxiv paper already\n",
    "            doc._authors = highlight_authors_in_list(\n",
    "                [mpia.get_initials(k) for k in doc.authors], \n",
    "                mpia_authors, verbose=True)\n",
    "        if (doc.abstract) in (None, ''):\n",
    "            doc._abstract = paper['abstract']\n",
    "            \n",
    "        doc.comment = (get_markdown_badge(paper_id) + \n",
    "                       \"<mark>Appeared on: \" + paper['date'] + \"</mark> - \")\n",
    "        if paper['comments']:\n",
    "            doc.comment += \" _\" + paper['comments'] + \"_\"\n",
    "        \n",
    "        full_md = doc.generate_markdown_text()\n",
    "        \n",
    "        full_md += get_markdown_qrcode(paper_id)\n",
    "        \n",
    "        # replace citations\n",
    "        try:\n",
    "            bibdata = latex_bib.LatexBib.from_doc(doc)\n",
    "            full_md = latex_bib.replace_citations(full_md, bibdata)\n",
    "        except Exception as e:\n",
    "            print(e)\n",
    "        \n",
    "        documents.append((paper_id, full_md))\n",
    "    except Exception as e:\n",
    "        warnings.warn(latex.LatexWarning(f\"{paper_id:s} did not run properly\\n\" +\n",
    "                                         str(e)\n",
    "                                        ))\n",
    "        failed.append((paper, \"latex error \" + str(e)))"
   ]
  },
  {
   "cell_type": "markdown",
   "id": "2505a25c",
   "metadata": {
    "papermill": {
     "duration": 0.003612,
     "end_time": "2024-06-19T04:09:22.597996",
     "exception": false,
     "start_time": "2024-06-19T04:09:22.594384",
     "status": "completed"
    },
    "tags": []
   },
   "source": [
    "### Export the logs\n",
    "\n",
    "Throughout, we also keep track of the logs per paper. see `logs-{today date}.md` "
   ]
  },
  {
   "cell_type": "code",
   "execution_count": 6,
   "id": "d733828a",
   "metadata": {
    "execution": {
     "iopub.execute_input": "2024-06-19T04:09:22.606497Z",
     "iopub.status.busy": "2024-06-19T04:09:22.606018Z",
     "iopub.status.idle": "2024-06-19T04:09:22.618275Z",
     "shell.execute_reply": "2024-06-19T04:09:22.617743Z"
    },
    "papermill": {
     "duration": 0.018031,
     "end_time": "2024-06-19T04:09:22.619528",
     "exception": false,
     "start_time": "2024-06-19T04:09:22.601497",
     "status": "completed"
    },
    "scrolled": false,
    "tags": []
   },
   "outputs": [
    {
     "data": {
      "text/markdown": [
       "## Successful papers"
      ],
      "text/plain": [
       "<IPython.core.display.Markdown object>"
      ]
     },
     "metadata": {},
     "output_type": "display_data"
    },
    {
     "data": {
      "text/markdown": [
       "\n",
       "|||\n",
       "|---:|:---|\n",
       "| [![arXiv](https://img.shields.io/badge/arXiv-2406.12819-b31b1b.svg)](https://arxiv.org/abs/2406.12819) | **A Dust-Trapping Ring in the Planet-Hosting Disk of Elias 2-24**  |\n",
       "|| A. S. Carvalho, et al. -- incl., <mark>M. Benisty</mark> |\n",
       "|*Appeared on*| *2024-06-19*|\n",
       "|*Comments*| *18 pages, 12 figures, accepted to ApJ*|\n",
       "|**Abstract**|            Rings and gaps are among the most widely observed forms of substructure in protoplanetary disks. A gap-ring pair may be formed when a planet carves a gap in the disk, which produces a local pressure maximum following the gap that traps inwardly drifting dust grains and appears as a bright ring due to the enhanced dust density. A dust-trapping ring would provide a promising environment for solid growth and possibly planetesimal production via the streaming instability. We present evidence of dust trapping in the bright ring of the planet-hosting disk Elias 2-24, from the analysis of 1.3 mm and 3 mm ALMA observations at high spatial resolution (0.029 arcsec, 4.0 au). We leverage the high spatial resolution to demonstrate that larger grains are more efficiently trapped and place constraints on the local turbulence ($8 \\times 10^{-4} < \\alpha_\\mathrm{turb} < 0.03$) and the gas-to-dust ratio ($\\Sigma_g / \\Sigma_d < 30$) in the ring. Using a scattering-included marginal probability analysis we measure a total dust disk mass of $M_\\mathrm{dust} = 13.8^{+0.7}_{-0.5} \\times 10^{-4} \\ M_\\odot$. We also show that at the orbital radius of the proposed perturber, the gap is cleared of material down to a flux contrast of 10$^{-3}$ of the peak flux in the disk.         |"
      ],
      "text/plain": [
       "[2406.12819] A Dust-Trapping Ring in the Planet-Hosting Disk of Elias 2-24\n",
       "\tA. S. Carvalho, et al. -- incl., <mark>M. Benisty</mark>"
      ]
     },
     "metadata": {},
     "output_type": "display_data"
    },
    {
     "data": {
      "text/markdown": [
       "## Failed papers"
      ],
      "text/plain": [
       "<IPython.core.display.Markdown object>"
      ]
     },
     "metadata": {},
     "output_type": "display_data"
    },
    {
     "data": {
      "text/markdown": [
       "\n",
       "|||\n",
       "|---:|:---|\n",
       "| [![arXiv](https://img.shields.io/badge/arXiv-2406.12025-b31b1b.svg)](https://arxiv.org/abs/2406.12025) | **A 260 pc resolution ALMA map of HCN(1-0) in the galaxy NGC 4321**  |\n",
       "|| L. Neumann, et al. -- incl., <mark>E. Schinnerer</mark> |\n",
       "|*Appeared on*| *2024-06-19*|\n",
       "|*Comments*| *18 pages, 9 figures, accepted for pub in A&A, Jun 13, 2024*|\n",
       "|**Abstract**|            The star formation rate (SFR) is tightly connected to the amount of dense gas in molecular clouds. However, it is not fully understood how the relationship between dense molecular gas and star formation varies within galaxies and in different morphological environments. In this work, we study dense gas and star formation in the nearby spiral galaxy NGC 4321 to test how the amount of dense gas and its ability to form stars varies with environmental properties at 260 pc scales. We present new ALMA observations of HCN(1-0) line emission. Combined with existing CO(2-1) observations from ALMA, and H-alpha from MUSE, as well as F2100W from JWST to trace the SFR, we measure the HCN/CO line ratio, a proxy for the dense gas fraction and SFR/HCN, a proxy for the star formation efficiency of the dense gas. Towards the centre of the galaxy, HCN/CO systematically increases while SFR/HCN decreases, but these ratios stay roughly constant throughout the disc. Spiral arms, interarm regions, and bar ends show similar HCN/CO and SFR/HCN. On the bar, there is a significantly lower SFR/HCN at a similar HCN/CO. We conclude that the centres of galaxies show the strongest environmental influence on dense gas and star formation, suggesting either that clouds couple strongly to the surrounding pressure or that HCN is tracing more of the bulk molecular gas that is less efficiently converted into stars. On the contrary, across the disc of NGC 4321, where the ISM pressure is typically low, SFR/HCN does not show large variations (< 0.3 dex) in agreement with Galactic observations of molecular clouds. Despite the large variations across environments and physical conditions, HCN/CO is a good predictor of the mean molecular gas surface density at 260 pc scales.         |\n",
       "|<p style=\"color:red\"> **ERROR** </p>| <p style=\"color:red\">latex error 'PosixPath' object is not subscriptable</p> |"
      ],
      "text/plain": [
       "<IPython.core.display.Markdown object>"
      ]
     },
     "metadata": {},
     "output_type": "display_data"
    }
   ],
   "source": [
    "import datetime\n",
    "today = str(datetime.date.today())\n",
    "logfile = f\"_build/html/logs/log-{today}.md\"\n",
    "\n",
    "\n",
    "with open(logfile, 'w') as logs:\n",
    "    # Success\n",
    "    logs.write(f'# Arxiv on Deck 2: Logs - {today}\\n\\n')\n",
    "    logs.write(\"\"\"* Arxiv had {0:,d} new papers\\n\"\"\".format(len(new_papers)))\n",
    "    logs.write(\"\"\"    * {0:,d} with possible author matches\\n\\n\"\"\".format(len(candidates)))\n",
    "    logs.write(\"## Sucessful papers\\n\\n\")\n",
    "    display(Markdown(\"## Successful papers\"))\n",
    "    success = [k[0] for k in documents]\n",
    "    for candid in candidates:\n",
    "        if candid['identifier'].split(':')[-1] in success:\n",
    "            display(candid)\n",
    "            logs.write(candid.generate_markdown_text() + '\\n\\n')\n",
    "\n",
    "    ## failed\n",
    "    logs.write(\"## Failed papers\\n\\n\")\n",
    "    display(Markdown(\"## Failed papers\"))\n",
    "    failed = sorted(failed, key=lambda x: x[1])\n",
    "    current_reason = \"\"\n",
    "    for paper, reason in failed:\n",
    "        if 'affiliation' in reason:\n",
    "            color = 'green'\n",
    "        else:\n",
    "            color = 'red'\n",
    "        data = Markdown(\n",
    "                paper.generate_markdown_text() + \n",
    "                f'\\n|<p style=\"color:{color:s}\"> **ERROR** </p>| <p style=\"color:{color:s}\">{reason:s}</p> |'\n",
    "               )\n",
    "        if reason != current_reason:\n",
    "            logs.write(f'### {reason:s} \\n\\n')\n",
    "            current_reason = reason\n",
    "        logs.write(data.data + '\\n\\n')\n",
    "        \n",
    "        # only display here the important errors (all in logs)\n",
    "        # if color in ('red',):\n",
    "        display(data)"
   ]
  },
  {
   "cell_type": "markdown",
   "id": "472d20ee",
   "metadata": {
    "papermill": {
     "duration": 0.003815,
     "end_time": "2024-06-19T04:09:22.627290",
     "exception": false,
     "start_time": "2024-06-19T04:09:22.623475",
     "status": "completed"
    },
    "tags": []
   },
   "source": [
    "## Export documents\n",
    "\n",
    "We now write the .md files and export relevant images"
   ]
  },
  {
   "cell_type": "code",
   "execution_count": 7,
   "id": "d426aed9",
   "metadata": {
    "execution": {
     "iopub.execute_input": "2024-06-19T04:09:22.636322Z",
     "iopub.status.busy": "2024-06-19T04:09:22.635906Z",
     "iopub.status.idle": "2024-06-19T04:09:22.642716Z",
     "shell.execute_reply": "2024-06-19T04:09:22.642157Z"
    },
    "papermill": {
     "duration": 0.012872,
     "end_time": "2024-06-19T04:09:22.644095",
     "exception": false,
     "start_time": "2024-06-19T04:09:22.631223",
     "status": "completed"
    },
    "tags": []
   },
   "outputs": [],
   "source": [
    "def export_markdown_summary(md: str, md_fname:str, directory: str):\n",
    "    \"\"\"Export MD document and associated relevant images\"\"\"\n",
    "    import os\n",
    "    import shutil\n",
    "    import re\n",
    "\n",
    "    if (os.path.exists(directory) and not os.path.isdir(directory)):\n",
    "        raise RuntimeError(f\"a non-directory file exists with name {directory:s}\")\n",
    "\n",
    "    if (not os.path.exists(directory)):\n",
    "        print(f\"creating directory {directory:s}\")\n",
    "        os.mkdir(directory)\n",
    "\n",
    "    fig_fnames = (re.compile(r'\\[Fig.*\\]\\((.*)\\)').findall(md) + \n",
    "                  re.compile(r'\\<img src=\"([^>\\s]*)\"[^>]*/>').findall(md))\n",
    "    print(\"found figures\", fig_fnames)\n",
    "    for fname in fig_fnames:\n",
    "        if 'http' in fname:\n",
    "            # No need to copy online figures\n",
    "            continue\n",
    "        if not os.path.exists(fname):\n",
    "            print(\"file not found\", fname)\n",
    "            continue\n",
    "        print(\"copying \", fname, \"to\", directory)\n",
    "        destdir = os.path.join(directory, os.path.dirname(fname))\n",
    "        destfname = os.path.join(destdir, os.path.basename(fname))\n",
    "        try:\n",
    "            os.makedirs(destdir)\n",
    "        except FileExistsError:\n",
    "            pass\n",
    "        shutil.copy(fname, destfname)\n",
    "    with open(os.path.join(directory, md_fname), 'w') as fout:\n",
    "        fout.write(md)\n",
    "    print(\"exported in \", os.path.join(directory, md_fname))\n",
    "    [print(\"    + \" + os.path.join(directory,fk)) for fk in fig_fnames]"
   ]
  },
  {
   "cell_type": "code",
   "execution_count": 8,
   "id": "014d04a4",
   "metadata": {
    "execution": {
     "iopub.execute_input": "2024-06-19T04:09:22.652870Z",
     "iopub.status.busy": "2024-06-19T04:09:22.652524Z",
     "iopub.status.idle": "2024-06-19T04:09:22.661889Z",
     "shell.execute_reply": "2024-06-19T04:09:22.661276Z"
    },
    "papermill": {
     "duration": 0.015265,
     "end_time": "2024-06-19T04:09:22.663292",
     "exception": false,
     "start_time": "2024-06-19T04:09:22.648027",
     "status": "completed"
    },
    "tags": []
   },
   "outputs": [
    {
     "name": "stdout",
     "output_type": "stream",
     "text": [
      "found figures ['tmp_2406.12819/./4-ProbToomStokes_ScatTrue.png', 'tmp_2406.12819/./MidplaneGasToDustDens_bothBands.png', 'tmp_2406.12819/./Elias24_bothProfs_noGaussian_Tb.png', 'tmp_2406.12819/./1-ProbProfiles_ScatTrue.png', 'tmp_2406.12819/./1-ProbProfiles_ScatTrue_q3p5.png']\n",
      "copying  tmp_2406.12819/./4-ProbToomStokes_ScatTrue.png to _build/html/\n",
      "copying  tmp_2406.12819/./MidplaneGasToDustDens_bothBands.png to _build/html/\n",
      "copying  tmp_2406.12819/./Elias24_bothProfs_noGaussian_Tb.png to _build/html/\n",
      "copying  tmp_2406.12819/./1-ProbProfiles_ScatTrue.png to _build/html/\n",
      "copying  tmp_2406.12819/./1-ProbProfiles_ScatTrue_q3p5.png to _build/html/\n",
      "exported in  _build/html/2406.12819.md\n",
      "    + _build/html/tmp_2406.12819/./4-ProbToomStokes_ScatTrue.png\n",
      "    + _build/html/tmp_2406.12819/./MidplaneGasToDustDens_bothBands.png\n",
      "    + _build/html/tmp_2406.12819/./Elias24_bothProfs_noGaussian_Tb.png\n",
      "    + _build/html/tmp_2406.12819/./1-ProbProfiles_ScatTrue.png\n",
      "    + _build/html/tmp_2406.12819/./1-ProbProfiles_ScatTrue_q3p5.png\n"
     ]
    }
   ],
   "source": [
    "for paper_id, md in documents:\n",
    "    export_markdown_summary(md, f\"{paper_id:s}.md\", '_build/html/')"
   ]
  },
  {
   "cell_type": "markdown",
   "id": "f087a0a7",
   "metadata": {
    "papermill": {
     "duration": 0.003912,
     "end_time": "2024-06-19T04:09:22.671362",
     "exception": false,
     "start_time": "2024-06-19T04:09:22.667450",
     "status": "completed"
    },
    "tags": []
   },
   "source": [
    "## Display the papers\n",
    "\n",
    "Not necessary but allows for a quick check."
   ]
  },
  {
   "cell_type": "code",
   "execution_count": 9,
   "id": "fd25f625",
   "metadata": {
    "execution": {
     "iopub.execute_input": "2024-06-19T04:09:22.680510Z",
     "iopub.status.busy": "2024-06-19T04:09:22.680090Z",
     "iopub.status.idle": "2024-06-19T04:09:22.684775Z",
     "shell.execute_reply": "2024-06-19T04:09:22.684235Z"
    },
    "papermill": {
     "duration": 0.01071,
     "end_time": "2024-06-19T04:09:22.686107",
     "exception": false,
     "start_time": "2024-06-19T04:09:22.675397",
     "status": "completed"
    },
    "scrolled": false,
    "tags": []
   },
   "outputs": [
    {
     "data": {
      "text/markdown": [
       "<div class=\"macros\" style=\"visibility:hidden;\">\n",
       "$\\newcommand{\\ensuremath}{}$\n",
       "$\\newcommand{\\xspace}{}$\n",
       "$\\newcommand{\\object}[1]{\\texttt{#1}}$\n",
       "$\\newcommand{\\farcs}{{.}''}$\n",
       "$\\newcommand{\\farcm}{{.}'}$\n",
       "$\\newcommand{\\arcsec}{''}$\n",
       "$\\newcommand{\\arcmin}{'}$\n",
       "$\\newcommand{\\ion}[2]{#1#2}$\n",
       "$\\newcommand{\\textsc}[1]{\\textrm{#1}}$\n",
       "$\\newcommand{\\hl}[1]{\\textrm{#1}}$\n",
       "$\\newcommand{\\footnote}[1]{}$</div>\n",
       "\n",
       "\n",
       "\n",
       "<div id=\"title\">\n",
       "\n",
       "# A Dust-Trapping Ring in the Planet-Hosting Disk of Elias 2-24\n",
       "\n",
       "</div>\n",
       "<div id=\"comments\">\n",
       "\n",
       "[![arXiv](https://img.shields.io/badge/arXiv-2406.12819-b31b1b.svg)](https://arxiv.org/abs/2406.12819)<mark>Appeared on: 2024-06-19</mark> -  _18 pages, 12 figures, accepted to ApJ_\n",
       "\n",
       "</div>\n",
       "<div id=\"authors\">\n",
       "\n",
       "A. S. Carvalho, et al. -- incl., <mark>M. Benisty</mark>\n",
       "\n",
       "</div>\n",
       "<div id=\"abstract\">\n",
       "\n",
       "**Abstract:** Rings and gaps are among the most widely observed forms of substructure in protoplanetary disks. A gap-ring pair may be formed when a planet carves a gap in the disk, which produces a local pressure maximum following the gap that traps inwardly drifting dust grains and appears as a bright ring due to the enhanced dust density. A dust-trapping ring would provide a promising environment for solid growth and possibly planetesimal production via the streaming instability. We present evidence of dust trapping in the bright ring of the planet-hosting disk Elias 2-24, from the analysis of 1.3 mm and 3 mm ALMA observations at high spatial resolution (0.029 arcsec, 4.0 au). We leverage the high spatial resolution to demonstrate that larger grains are more efficiently trapped and place constraints on the local turbulence ( $8 \\times 10^{-4} < \\alpha_\\mathrm{turb} < 0.03$ ) and the gas-to-dust ratio ( $\\Sigma_g / \\Sigma_d < 30$ ) in the ring. Using a scattering-included marginal probability analysis we measure a total dust disk mass of $M_\\mathrm{dust} = 13.8^{+0.7}_{-0.5} \\times 10^{-4}  M_\\odot$ . We also show that at the orbital radius of the proposed perturber, the gap is cleared of material down to a flux contrast of 10 $^{-3}$ of the peak flux in the disk.\n",
       "\n",
       "</div>\n",
       "\n",
       "<div id=\"div_fig1\">\n",
       "\n",
       "<img src=\"tmp_2406.12819/./4-ProbToomStokes_ScatTrue.png\" alt=\"Fig15.1\" width=\"50%\"/><img src=\"tmp_2406.12819/./MidplaneGasToDustDens_bothBands.png\" alt=\"Fig15.2\" width=\"50%\"/>\n",
       "\n",
       "**Figure 15. -** **Left:** The marginal probability distributions of the Toomre $Q$ profile (upper panel) and the Stokes number profile (lower panel) sampled from the distributions shown in Figure \\ref{fig:DustProfiles}. The candidate companion orbit radius is shown with the green dashed line and the ring center is shown with the magenta dashed line. The solid blue line marks the values preferred by the overall best-fit model. The white dashed lines in the upper panel show the $Q = 1$ and $Q = 1.7$ lines. Assuming a gas-to-dust ratio of 100, there are many locations in the disk where $Q < 1.7$, implying the disk would be gravitationally unstable. **Right:** The range of midplane gas to dust ratios in B77 estimated in Section \\ref{sec:GasToDust}. The blue and red shaded regions indicate the upper and lower limits from the maximum and minimum $\\sqrt{\\alpha_\\mathrm{turb}/\\mathrm{St}}$ values in Table \\ref{tab:gaussFits} for the 1.3 mm (blue) and 3 mm (red) data. The lower limit on allowed Stokes number (vertical dark blue line) is obtained by requiring gravitational stability, since we do not see spirals in the disk. The lower limit on $\\rho_g/\\rho_d$(horizontal dark blue line) is obtained by requiring the $\\Sigma_g > \\Sigma_d$. The \"allowed\" values between these limits are marked by the green shaded region.      (*fig:Toomre*)\n",
       "\n",
       "</div>\n",
       "<div id=\"div_fig2\">\n",
       "\n",
       "<img src=\"tmp_2406.12819/./Elias24_bothProfs_noGaussian_Tb.png\" alt=\"Fig1\" width=\"100%\"/>\n",
       "\n",
       "**Figure 1. -** **Top:** Deconvolved radial intensity profiles computed from the 1.3 mm and 3 mm visibilities, with 1-$\\sigma$ uncertainties shown as the blue and red shaded regions respectively. The green dashed line shows the semi-major axis of the protoplanet candidate reported in [Jorquera, Pérez and Chauvin (2021)](), with the green shading showing the astrometric uncertainty in its position. The grey shading marks the gap location and the black dashed line marks the center of the ring, both as defined in [Huang, Andrews and Dullemond (2018)](). **Bottom:** The radial profile of the spectral index $\\alpha$ computed from the profiles in the top panel. The black scalebar shows the resolution element of the spectral index profile, while the purple bar indicates the systematic uncertainty in the spectral index $\\alpha$ due to ALMA's 10\\% absolute flux-scale uncertainty. The vertical hashes mark the locations of the smaller gaps discussed in Section \\ref{sec:substructure}. (*fig:frankProfiles*)\n",
       "\n",
       "</div>\n",
       "<div id=\"div_fig3\">\n",
       "\n",
       "<img src=\"tmp_2406.12819/./1-ProbProfiles_ScatTrue.png\" alt=\"Fig14.1\" width=\"50%\"/><img src=\"tmp_2406.12819/./1-ProbProfiles_ScatTrue_q3p5.png\" alt=\"Fig14.2\" width=\"50%\"/>\n",
       "\n",
       "**Figure 14. -** Radial profiles of the dust properties in the disk around Elias 24. The left column shows our results for $p = 2.5$, while the right column shows $p = 3.5$. The orbital radius of the candidate companion from [Jorquera, Pérez and Chauvin (2021)]() is shown with a green dashed line and the ring location is shown with a magenta dashed line. **Top:** The dust surface density profile. Notice the increase in surface density at the ring location and the significant decrease in the gap. **Center:** The maximum grain size profile, which also increases at the ring location, indicating potential grain growth in the ring. **Bottom:** The temperature profile distributions. The blue dotted line shows the prior temperature profile given by Equation \\ref{eq:tempProf}, with $1 \\sigma$ Gaussian standard deviations shown as blue dashed lines. (*fig:DustProfiles*)\n",
       "\n",
       "</div><div id=\"qrcode\"><img src=https://api.qrserver.com/v1/create-qr-code/?size=100x100&data=\"https://arxiv.org/abs/2406.12819\"></div>"
      ],
      "text/plain": [
       "<IPython.core.display.Markdown object>"
      ]
     },
     "metadata": {},
     "output_type": "display_data"
    }
   ],
   "source": [
    "[display(Markdown(k[1])) for k in documents];"
   ]
  },
  {
   "cell_type": "markdown",
   "id": "873873a4",
   "metadata": {
    "papermill": {
     "duration": 0.004161,
     "end_time": "2024-06-19T04:09:22.694482",
     "exception": false,
     "start_time": "2024-06-19T04:09:22.690321",
     "status": "completed"
    },
    "tags": []
   },
   "source": [
    "# Create HTML index"
   ]
  },
  {
   "cell_type": "code",
   "execution_count": 10,
   "id": "cf665672",
   "metadata": {
    "execution": {
     "iopub.execute_input": "2024-06-19T04:09:22.704091Z",
     "iopub.status.busy": "2024-06-19T04:09:22.703681Z",
     "iopub.status.idle": "2024-06-19T04:09:22.710526Z",
     "shell.execute_reply": "2024-06-19T04:09:22.710004Z"
    },
    "papermill": {
     "duration": 0.013041,
     "end_time": "2024-06-19T04:09:22.711797",
     "exception": false,
     "start_time": "2024-06-19T04:09:22.698756",
     "status": "completed"
    },
    "tags": []
   },
   "outputs": [
    {
     "name": "stdout",
     "output_type": "stream",
     "text": [
      "98  publications files modified in the last 7 days.\n"
     ]
    }
   ],
   "source": [
    "from datetime import datetime, timedelta, timezone\n",
    "from glob import glob\n",
    "import os\n",
    "\n",
    "files = glob('_build/html/*.md')\n",
    "days = 7\n",
    "now = datetime.today()\n",
    "res = []\n",
    "for fk in files:\n",
    "    stat_result = os.stat(fk).st_ctime\n",
    "    modified = datetime.fromtimestamp(stat_result, tz=timezone.utc).replace(tzinfo=None)\n",
    "    delta = now.today() - modified\n",
    "    if delta <= timedelta(days=days):\n",
    "        res.append((delta.seconds, fk))\n",
    "res = [k[1] for k in reversed(sorted(res, key=lambda x:x[1]))]\n",
    "npub = len(res)\n",
    "print(len(res), f\" publications files modified in the last {days:d} days.\")\n",
    "# [ print('\\t', k) for k in res ];"
   ]
  },
  {
   "cell_type": "code",
   "execution_count": 11,
   "id": "015de740",
   "metadata": {
    "execution": {
     "iopub.execute_input": "2024-06-19T04:09:22.721284Z",
     "iopub.status.busy": "2024-06-19T04:09:22.720930Z",
     "iopub.status.idle": "2024-06-19T04:09:22.731836Z",
     "shell.execute_reply": "2024-06-19T04:09:22.731192Z"
    },
    "papermill": {
     "duration": 0.01703,
     "end_time": "2024-06-19T04:09:22.733135",
     "exception": false,
     "start_time": "2024-06-19T04:09:22.716105",
     "status": "completed"
    },
    "tags": []
   },
   "outputs": [
    {
     "name": "stdout",
     "output_type": "stream",
     "text": [
      "8  publications in the last 7 days.\n"
     ]
    }
   ],
   "source": [
    "import datetime\n",
    "from glob import glob\n",
    "\n",
    "def get_last_n_days(lst, days=1):\n",
    "    \"\"\" Get the documents from the last n days \"\"\"\n",
    "    sorted_lst = sorted(lst, key=lambda x: x[1], reverse=True)\n",
    "    for fname, date in sorted_lst:\n",
    "        if date >= str(datetime.date.today() - datetime.timedelta(days=days)):\n",
    "            yield fname\n",
    "\n",
    "def extract_appearance_dates(lst_file):\n",
    "    dates = []\n",
    "\n",
    "    def get_date(line):\n",
    "        return line\\\n",
    "            .split('Appeared on:')[-1]\\\n",
    "            .split('</mark>')[0].strip()\n",
    "\n",
    "    for fname in lst:\n",
    "        with open(fname, 'r') as f:\n",
    "            found_date = False\n",
    "            for line in f:\n",
    "                if not found_date:\n",
    "                    if \"Appeared on\" in line:\n",
    "                        found_date = True\n",
    "                        dates.append((fname, get_date(line)))\n",
    "                else:\n",
    "                    break\n",
    "    return dates\n",
    "\n",
    "from glob import glob\n",
    "lst = glob('_build/html/*md')\n",
    "days = 7\n",
    "dates = extract_appearance_dates(lst)\n",
    "res = list(get_last_n_days(dates, days))\n",
    "npub = len(res)\n",
    "print(len(res), f\" publications in the last {days:d} days.\")"
   ]
  },
  {
   "cell_type": "code",
   "execution_count": 12,
   "id": "52ca0208",
   "metadata": {
    "execution": {
     "iopub.execute_input": "2024-06-19T04:09:22.742995Z",
     "iopub.status.busy": "2024-06-19T04:09:22.742538Z",
     "iopub.status.idle": "2024-06-19T04:09:22.747404Z",
     "shell.execute_reply": "2024-06-19T04:09:22.746806Z"
    },
    "papermill": {
     "duration": 0.011159,
     "end_time": "2024-06-19T04:09:22.748709",
     "exception": false,
     "start_time": "2024-06-19T04:09:22.737550",
     "status": "completed"
    },
    "scrolled": false,
    "tags": []
   },
   "outputs": [],
   "source": [
    "def create_carousel(npub=4):\n",
    "    \"\"\" Generate the HTML code for a carousel with `npub` slides \"\"\"\n",
    "    carousel = [\"\"\"  <div class=\"carousel\" \"\"\",\n",
    "                \"\"\"       data-flickity='{ \"autoPlay\": 10000, \"adaptiveHeight\": true, \"resize\": true, \"wrapAround\": true, \"pauseAutoPlayOnHover\": true, \"groupCells\": 1 }' id=\"asyncTypeset\">\"\"\"\n",
    "                ]\n",
    "    \n",
    "    item_str = \"\"\"    <div class=\"carousel-cell\"> <div id=\"slide{k}\" class=\"md_view\">Content {k}</div> </div>\"\"\"\n",
    "    for k in range(1, npub + 1):\n",
    "        carousel.append(item_str.format(k=k))\n",
    "    carousel.append(\"  </div>\")\n",
    "    return '\\n'.join(carousel)\n",
    "\n",
    "def create_grid(npub=4):\n",
    "    \"\"\" Generate the HTML code for a flat grid with `npub` slides \"\"\"\n",
    "    grid = [\"\"\"  <div class=\"grid\"> \"\"\",\n",
    "                ]\n",
    "    \n",
    "    item_str = \"\"\"    <div class=\"grid-item\"> <div id=\"slide{k}\" class=\"md_view\">Content {k}</div> </div>\"\"\"\n",
    "    for k in range(1, npub + 1):\n",
    "        grid.append(item_str.format(k=k))\n",
    "    grid.append(\"  </div>\")\n",
    "    return '\\n'.join(grid)"
   ]
  },
  {
   "cell_type": "code",
   "execution_count": 13,
   "id": "a6eac5b6",
   "metadata": {
    "execution": {
     "iopub.execute_input": "2024-06-19T04:09:22.758670Z",
     "iopub.status.busy": "2024-06-19T04:09:22.758165Z",
     "iopub.status.idle": "2024-06-19T04:09:22.763157Z",
     "shell.execute_reply": "2024-06-19T04:09:22.762613Z"
    },
    "papermill": {
     "duration": 0.011312,
     "end_time": "2024-06-19T04:09:22.764414",
     "exception": false,
     "start_time": "2024-06-19T04:09:22.753102",
     "status": "completed"
    },
    "scrolled": false,
    "tags": []
   },
   "outputs": [],
   "source": [
    "carousel = create_carousel(npub)\n",
    "docs = ', '.join(['\"{0:s}\"'.format(k.split('/')[-1]) for k in res])\n",
    "slides = ', '.join([f'\"slide{k}\"' for k in range(1, npub + 1)])\n",
    "\n",
    "with open(\"daily_template.html\", \"r\") as tpl:\n",
    "    page = tpl.read()\n",
    "    page = page.replace(\"{%-- carousel:s --%}\", carousel)\\\n",
    "               .replace(\"{%-- suptitle:s --%}\",  \"7-day archives\" )\\\n",
    "               .replace(\"{%-- docs:s --%}\", docs)\\\n",
    "               .replace(\"{%-- slides:s --%}\", slides)\n",
    "    \n",
    "with open(\"_build/html/index_7days.html\", 'w') as fout:\n",
    "    fout.write(page)"
   ]
  },
  {
   "cell_type": "code",
   "execution_count": 14,
   "id": "adc1a1ec",
   "metadata": {
    "execution": {
     "iopub.execute_input": "2024-06-19T04:09:22.774251Z",
     "iopub.status.busy": "2024-06-19T04:09:22.773855Z",
     "iopub.status.idle": "2024-06-19T04:09:22.780009Z",
     "shell.execute_reply": "2024-06-19T04:09:22.779381Z"
    },
    "papermill": {
     "duration": 0.012589,
     "end_time": "2024-06-19T04:09:22.781381",
     "exception": false,
     "start_time": "2024-06-19T04:09:22.768792",
     "status": "completed"
    },
    "tags": []
   },
   "outputs": [
    {
     "name": "stdout",
     "output_type": "stream",
     "text": [
      "2  publications in the last day.\n"
     ]
    }
   ],
   "source": [
    "# redo for today\n",
    "days = 1\n",
    "res = list(get_last_n_days(dates, days))\n",
    "npub = len(res)\n",
    "print(len(res), f\" publications in the last day.\")\n",
    "\n",
    "carousel = create_carousel(npub)\n",
    "docs = ', '.join(['\"{0:s}\"'.format(k.split('/')[-1]) for k in res])\n",
    "slides = ', '.join([f'\"slide{k}\"' for k in range(1, npub + 1)])\n",
    "\n",
    "with open(\"daily_template.html\", \"r\") as tpl:\n",
    "    page = tpl.read()\n",
    "    page = page.replace(\"{%-- carousel:s --%}\", carousel)\\\n",
    "               .replace(\"{%-- suptitle:s --%}\",  \"Daily\" )\\\n",
    "               .replace(\"{%-- docs:s --%}\", docs)\\\n",
    "               .replace(\"{%-- slides:s --%}\", slides)\n",
    "    \n",
    "# print(carousel, docs, slides)\n",
    "# print(page)\n",
    "with open(\"_build/html/index_daily.html\", 'w') as fout:\n",
    "    fout.write(page)"
   ]
  },
  {
   "cell_type": "code",
   "execution_count": 15,
   "id": "00eece82",
   "metadata": {
    "execution": {
     "iopub.execute_input": "2024-06-19T04:09:22.791558Z",
     "iopub.status.busy": "2024-06-19T04:09:22.791027Z",
     "iopub.status.idle": "2024-06-19T04:09:22.797595Z",
     "shell.execute_reply": "2024-06-19T04:09:22.797040Z"
    },
    "papermill": {
     "duration": 0.013047,
     "end_time": "2024-06-19T04:09:22.798927",
     "exception": false,
     "start_time": "2024-06-19T04:09:22.785880",
     "status": "completed"
    },
    "scrolled": false,
    "tags": []
   },
   "outputs": [
    {
     "name": "stdout",
     "output_type": "stream",
     "text": [
      "6  6 publications selected.\n"
     ]
    }
   ],
   "source": [
    "# Create the flat grid of the last N papers (fixed number regardless of dates)\n",
    "from itertools import islice \n",
    "\n",
    "npub = 6\n",
    "res = [k[0] for k in (islice(reversed(sorted(dates, key=lambda x: x[1])), 6))]\n",
    "print(len(res), f\" {npub} publications selected.\")\n",
    "\n",
    "grid = create_grid(npub)\n",
    "docs = ', '.join(['\"{0:s}\"'.format(k.split('/')[-1]) for k in res])\n",
    "slides = ', '.join([f'\"slide{k}\"' for k in range(1, npub + 1)])\n",
    "\n",
    "with open(\"grid_template.html\", \"r\") as tpl:\n",
    "    page = tpl.read()\n",
    "    page = page.replace(\"{%-- grid-content:s --%}\", grid)\\\n",
    "               .replace(\"{%-- suptitle:s --%}\",  f\"Last {npub:,d} papers\" )\\\n",
    "               .replace(\"{%-- docs:s --%}\", docs)\\\n",
    "               .replace(\"{%-- slides:s --%}\", slides)\n",
    "    \n",
    "# print(grid, docs, slides)\n",
    "# print(page)\n",
    "with open(\"_build/html/index_npub_grid.html\", 'w') as fout:\n",
    "    fout.write(page)"
   ]
  }
 ],
 "metadata": {
  "kernelspec": {
   "display_name": "Python 3 (ipykernel)",
   "language": "python",
   "name": "python3"
  },
  "language_info": {
   "codemirror_mode": {
    "name": "ipython",
    "version": 3
   },
   "file_extension": ".py",
   "mimetype": "text/x-python",
   "name": "python",
   "nbconvert_exporter": "python",
   "pygments_lexer": "ipython3",
   "version": "3.9.19"
  },
  "papermill": {
   "default_parameters": {},
   "duration": 44.996992,
   "end_time": "2024-06-19T04:09:23.020241",
   "environment_variables": {},
   "exception": null,
   "input_path": "MPIA daily digest.ipynb",
   "output_path": "log.ipynb",
   "parameters": {},
   "start_time": "2024-06-19T04:08:38.023249",
   "version": "2.6.0"
  },
  "vscode": {
   "interpreter": {
    "hash": "aee8b7b246df8f9039afb4144a1f6fd8d2ca17a180786b69acc140d282b71a49"
   }
  },
  "widgets": {
   "application/vnd.jupyter.widget-state+json": {
    "state": {
     "0ae3da7f275441ffb35340cea36d0b02": {
      "model_module": "@jupyter-widgets/base",
      "model_module_version": "2.0.0",
      "model_name": "LayoutModel",
      "state": {
       "_model_module": "@jupyter-widgets/base",
       "_model_module_version": "2.0.0",
       "_model_name": "LayoutModel",
       "_view_count": null,
       "_view_module": "@jupyter-widgets/base",
       "_view_module_version": "2.0.0",
       "_view_name": "LayoutView",
       "align_content": null,
       "align_items": null,
       "align_self": null,
       "border_bottom": null,
       "border_left": null,
       "border_right": null,
       "border_top": null,
       "bottom": null,
       "display": null,
       "flex": null,
       "flex_flow": null,
       "grid_area": null,
       "grid_auto_columns": null,
       "grid_auto_flow": null,
       "grid_auto_rows": null,
       "grid_column": null,
       "grid_gap": null,
       "grid_row": null,
       "grid_template_areas": null,
       "grid_template_columns": null,
       "grid_template_rows": null,
       "height": null,
       "justify_content": null,
       "justify_items": null,
       "left": null,
       "margin": null,
       "max_height": null,
       "max_width": null,
       "min_height": null,
       "min_width": null,
       "object_fit": null,
       "object_position": null,
       "order": null,
       "overflow": null,
       "padding": null,
       "right": null,
       "top": null,
       "visibility": null,
       "width": null
      }
     },
     "1adbbb81744f4223a1f828d71218dda8": {
      "model_module": "@jupyter-widgets/base",
      "model_module_version": "2.0.0",
      "model_name": "LayoutModel",
      "state": {
       "_model_module": "@jupyter-widgets/base",
       "_model_module_version": "2.0.0",
       "_model_name": "LayoutModel",
       "_view_count": null,
       "_view_module": "@jupyter-widgets/base",
       "_view_module_version": "2.0.0",
       "_view_name": "LayoutView",
       "align_content": null,
       "align_items": null,
       "align_self": null,
       "border_bottom": null,
       "border_left": null,
       "border_right": null,
       "border_top": null,
       "bottom": null,
       "display": null,
       "flex": null,
       "flex_flow": null,
       "grid_area": null,
       "grid_auto_columns": null,
       "grid_auto_flow": null,
       "grid_auto_rows": null,
       "grid_column": null,
       "grid_gap": null,
       "grid_row": null,
       "grid_template_areas": null,
       "grid_template_columns": null,
       "grid_template_rows": null,
       "height": null,
       "justify_content": null,
       "justify_items": null,
       "left": null,
       "margin": null,
       "max_height": null,
       "max_width": null,
       "min_height": null,
       "min_width": null,
       "object_fit": null,
       "object_position": null,
       "order": null,
       "overflow": null,
       "padding": null,
       "right": null,
       "top": null,
       "visibility": null,
       "width": null
      }
     },
     "3bdf73be123d4c1b981b090616da2f56": {
      "model_module": "@jupyter-widgets/controls",
      "model_module_version": "2.0.0",
      "model_name": "FloatProgressModel",
      "state": {
       "_dom_classes": [],
       "_model_module": "@jupyter-widgets/controls",
       "_model_module_version": "2.0.0",
       "_model_name": "FloatProgressModel",
       "_view_count": null,
       "_view_module": "@jupyter-widgets/controls",
       "_view_module_version": "2.0.0",
       "_view_name": "ProgressView",
       "bar_style": "success",
       "description": "",
       "description_allow_html": false,
       "layout": "IPY_MODEL_6f60b08e2a7a4472a4863b20d0ac36e0",
       "max": 2.0,
       "min": 0.0,
       "orientation": "horizontal",
       "style": "IPY_MODEL_f9737303cb0143c383ac01ad72b55426",
       "tabbable": null,
       "tooltip": null,
       "value": 2.0
      }
     },
     "65dd7ad5b6384240828bf4517c45a7cc": {
      "model_module": "@jupyter-widgets/controls",
      "model_module_version": "2.0.0",
      "model_name": "HTMLStyleModel",
      "state": {
       "_model_module": "@jupyter-widgets/controls",
       "_model_module_version": "2.0.0",
       "_model_name": "HTMLStyleModel",
       "_view_count": null,
       "_view_module": "@jupyter-widgets/base",
       "_view_module_version": "2.0.0",
       "_view_name": "StyleView",
       "background": null,
       "description_width": "",
       "font_size": null,
       "text_color": null
      }
     },
     "6f60b08e2a7a4472a4863b20d0ac36e0": {
      "model_module": "@jupyter-widgets/base",
      "model_module_version": "2.0.0",
      "model_name": "LayoutModel",
      "state": {
       "_model_module": "@jupyter-widgets/base",
       "_model_module_version": "2.0.0",
       "_model_name": "LayoutModel",
       "_view_count": null,
       "_view_module": "@jupyter-widgets/base",
       "_view_module_version": "2.0.0",
       "_view_name": "LayoutView",
       "align_content": null,
       "align_items": null,
       "align_self": null,
       "border_bottom": null,
       "border_left": null,
       "border_right": null,
       "border_top": null,
       "bottom": null,
       "display": null,
       "flex": null,
       "flex_flow": null,
       "grid_area": null,
       "grid_auto_columns": null,
       "grid_auto_flow": null,
       "grid_auto_rows": null,
       "grid_column": null,
       "grid_gap": null,
       "grid_row": null,
       "grid_template_areas": null,
       "grid_template_columns": null,
       "grid_template_rows": null,
       "height": null,
       "justify_content": null,
       "justify_items": null,
       "left": null,
       "margin": null,
       "max_height": null,
       "max_width": null,
       "min_height": null,
       "min_width": null,
       "object_fit": null,
       "object_position": null,
       "order": null,
       "overflow": null,
       "padding": null,
       "right": null,
       "top": null,
       "visibility": null,
       "width": null
      }
     },
     "96681b62b2064148baa8691e311d84c4": {
      "model_module": "@jupyter-widgets/controls",
      "model_module_version": "2.0.0",
      "model_name": "HBoxModel",
      "state": {
       "_dom_classes": [],
       "_model_module": "@jupyter-widgets/controls",
       "_model_module_version": "2.0.0",
       "_model_name": "HBoxModel",
       "_view_count": null,
       "_view_module": "@jupyter-widgets/controls",
       "_view_module_version": "2.0.0",
       "_view_name": "HBoxView",
       "box_style": "",
       "children": [
        "IPY_MODEL_d28fa1fdfd5b4a25b804803ff38a786c",
        "IPY_MODEL_3bdf73be123d4c1b981b090616da2f56",
        "IPY_MODEL_e7be82de24f141ec9305ce2c2ae5c0b2"
       ],
       "layout": "IPY_MODEL_1adbbb81744f4223a1f828d71218dda8",
       "tabbable": null,
       "tooltip": null
      }
     },
     "b7327e0fec0c484ea6266ec8929b87fe": {
      "model_module": "@jupyter-widgets/base",
      "model_module_version": "2.0.0",
      "model_name": "LayoutModel",
      "state": {
       "_model_module": "@jupyter-widgets/base",
       "_model_module_version": "2.0.0",
       "_model_name": "LayoutModel",
       "_view_count": null,
       "_view_module": "@jupyter-widgets/base",
       "_view_module_version": "2.0.0",
       "_view_name": "LayoutView",
       "align_content": null,
       "align_items": null,
       "align_self": null,
       "border_bottom": null,
       "border_left": null,
       "border_right": null,
       "border_top": null,
       "bottom": null,
       "display": null,
       "flex": null,
       "flex_flow": null,
       "grid_area": null,
       "grid_auto_columns": null,
       "grid_auto_flow": null,
       "grid_auto_rows": null,
       "grid_column": null,
       "grid_gap": null,
       "grid_row": null,
       "grid_template_areas": null,
       "grid_template_columns": null,
       "grid_template_rows": null,
       "height": null,
       "justify_content": null,
       "justify_items": null,
       "left": null,
       "margin": null,
       "max_height": null,
       "max_width": null,
       "min_height": null,
       "min_width": null,
       "object_fit": null,
       "object_position": null,
       "order": null,
       "overflow": null,
       "padding": null,
       "right": null,
       "top": null,
       "visibility": null,
       "width": null
      }
     },
     "d28fa1fdfd5b4a25b804803ff38a786c": {
      "model_module": "@jupyter-widgets/controls",
      "model_module_version": "2.0.0",
      "model_name": "HTMLModel",
      "state": {
       "_dom_classes": [],
       "_model_module": "@jupyter-widgets/controls",
       "_model_module_version": "2.0.0",
       "_model_name": "HTMLModel",
       "_view_count": null,
       "_view_module": "@jupyter-widgets/controls",
       "_view_module_version": "2.0.0",
       "_view_name": "HTMLView",
       "description": "",
       "description_allow_html": false,
       "layout": "IPY_MODEL_0ae3da7f275441ffb35340cea36d0b02",
       "placeholder": "​",
       "style": "IPY_MODEL_65dd7ad5b6384240828bf4517c45a7cc",
       "tabbable": null,
       "tooltip": null,
       "value": "100%"
      }
     },
     "e7be82de24f141ec9305ce2c2ae5c0b2": {
      "model_module": "@jupyter-widgets/controls",
      "model_module_version": "2.0.0",
      "model_name": "HTMLModel",
      "state": {
       "_dom_classes": [],
       "_model_module": "@jupyter-widgets/controls",
       "_model_module_version": "2.0.0",
       "_model_name": "HTMLModel",
       "_view_count": null,
       "_view_module": "@jupyter-widgets/controls",
       "_view_module_version": "2.0.0",
       "_view_name": "HTMLView",
       "description": "",
       "description_allow_html": false,
       "layout": "IPY_MODEL_b7327e0fec0c484ea6266ec8929b87fe",
       "placeholder": "​",
       "style": "IPY_MODEL_f31d96837cb341efbb332bc85088068a",
       "tabbable": null,
       "tooltip": null,
       "value": " 2/2 [00:25&lt;00:00, 14.99s/it]"
      }
     },
     "f31d96837cb341efbb332bc85088068a": {
      "model_module": "@jupyter-widgets/controls",
      "model_module_version": "2.0.0",
      "model_name": "HTMLStyleModel",
      "state": {
       "_model_module": "@jupyter-widgets/controls",
       "_model_module_version": "2.0.0",
       "_model_name": "HTMLStyleModel",
       "_view_count": null,
       "_view_module": "@jupyter-widgets/base",
       "_view_module_version": "2.0.0",
       "_view_name": "StyleView",
       "background": null,
       "description_width": "",
       "font_size": null,
       "text_color": null
      }
     },
     "f9737303cb0143c383ac01ad72b55426": {
      "model_module": "@jupyter-widgets/controls",
      "model_module_version": "2.0.0",
      "model_name": "ProgressStyleModel",
      "state": {
       "_model_module": "@jupyter-widgets/controls",
       "_model_module_version": "2.0.0",
       "_model_name": "ProgressStyleModel",
       "_view_count": null,
       "_view_module": "@jupyter-widgets/base",
       "_view_module_version": "2.0.0",
       "_view_name": "StyleView",
       "bar_color": null,
       "description_width": ""
      }
     }
    },
    "version_major": 2,
    "version_minor": 0
   }
  }
 },
 "nbformat": 4,
 "nbformat_minor": 5
}