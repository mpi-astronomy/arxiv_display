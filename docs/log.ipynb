{
 "cells": [
  {
   "cell_type": "markdown",
   "id": "92bcb855",
   "metadata": {
    "papermill": {
     "duration": 0.003659,
     "end_time": "2025-06-26T04:20:26.106832",
     "exception": false,
     "start_time": "2025-06-26T04:20:26.103173",
     "status": "completed"
    },
    "tags": []
   },
   "source": [
    "# MPIA Arxiv on Deck 2\n",
    "\n",
    "Contains the steps to produce the paper extractions."
   ]
  },
  {
   "cell_type": "code",
   "execution_count": 1,
   "id": "3a0d6e11",
   "metadata": {
    "execution": {
     "iopub.execute_input": "2025-06-26T04:20:26.114229Z",
     "iopub.status.busy": "2025-06-26T04:20:26.113872Z",
     "iopub.status.idle": "2025-06-26T04:20:26.349753Z",
     "shell.execute_reply": "2025-06-26T04:20:26.348997Z"
    },
    "papermill": {
     "duration": 0.241099,
     "end_time": "2025-06-26T04:20:26.351187",
     "exception": false,
     "start_time": "2025-06-26T04:20:26.110088",
     "status": "completed"
    },
    "tags": []
   },
   "outputs": [],
   "source": [
    "# Imports\n",
    "import os\n",
    "from IPython.display import Markdown, display\n",
    "from tqdm.notebook import tqdm\n",
    "import warnings\n",
    "from PIL import Image \n",
    "import re\n",
    "\n",
    "# requires arxiv_on_deck_2\n",
    "\n",
    "from arxiv_on_deck_2.arxiv2 import (get_new_papers, \n",
    "                                    get_paper_from_identifier,\n",
    "                                    retrieve_document_source, \n",
    "                                    get_markdown_badge)\n",
    "from arxiv_on_deck_2 import (latex,\n",
    "                             latex_bib,\n",
    "                             mpia,\n",
    "                             highlight_authors_in_list)\n",
    "\n",
    "# Sometimes images are really big\n",
    "Image.MAX_IMAGE_PIXELS = 1000000000 "
   ]
  },
  {
   "cell_type": "code",
   "execution_count": 2,
   "id": "22aa9d44",
   "metadata": {
    "execution": {
     "iopub.execute_input": "2025-06-26T04:20:26.358738Z",
     "iopub.status.busy": "2025-06-26T04:20:26.358311Z",
     "iopub.status.idle": "2025-06-26T04:20:26.366878Z",
     "shell.execute_reply": "2025-06-26T04:20:26.366213Z"
    },
    "papermill": {
     "duration": 0.013478,
     "end_time": "2025-06-26T04:20:26.367974",
     "exception": false,
     "start_time": "2025-06-26T04:20:26.354496",
     "status": "completed"
    },
    "tags": []
   },
   "outputs": [],
   "source": [
    "# Some useful definitions.\n",
    "\n",
    "class AffiliationWarning(UserWarning):\n",
    "    pass\n",
    "\n",
    "class AffiliationError(RuntimeError):\n",
    "    pass\n",
    "\n",
    "def validation(source: str):\n",
    "    \"\"\"Raises error paper during parsing of source file\n",
    "    \n",
    "    Allows checks before parsing TeX code.\n",
    "    \n",
    "    Raises AffiliationWarning\n",
    "    \"\"\"\n",
    "    check = mpia.affiliation_verifications(source, verbose=True)\n",
    "    if check is not True:\n",
    "        raise AffiliationError(\"mpia.affiliation_verifications: \" + check)\n",
    "\n",
    "        \n",
    "warnings.simplefilter('always', AffiliationWarning)\n",
    "\n",
    "\n",
    "def get_markdown_qrcode(paper_id: str):\n",
    "    \"\"\" Generate a qrcode to the arxiv page using qrserver.com\n",
    "    \n",
    "    :param paper: Arxiv paper\n",
    "    :returns: markdown text\n",
    "    \"\"\"\n",
    "    url = r\"https://api.qrserver.com/v1/create-qr-code/?size=100x100&data=\"\n",
    "    txt = f\"\"\"<img src={url}\"https://arxiv.org/abs/{paper_id}\">\"\"\"\n",
    "    txt = '<div id=\"qrcode\">' + txt + '</div>'\n",
    "    return txt\n",
    "\n",
    "\n",
    "def clean_non_western_encoded_characters_commands(text: str) -> str:\n",
    "    \"\"\" Remove non-western encoded characters from a string\n",
    "    List may need to grow.\n",
    "    \n",
    "    :param text: the text to clean\n",
    "    :return: the cleaned text\n",
    "    \"\"\"\n",
    "    text = re.sub(r\"(\\\\begin{CJK}{UTF8}{gbsn})(.*?)(\\\\end{CJK})\", r\"\\2\", text)\n",
    "    return text\n",
    "\n",
    "\n",
    "def get_initials(name: str) -> str:\n",
    "    \"\"\" Get the short name, e.g., A.-B. FamName\n",
    "    :param name: full name\n",
    "    :returns: initials\n",
    "    \"\"\"\n",
    "    initials = []\n",
    "    # account for non western names often in ()\n",
    "    if '(' in name:\n",
    "        name = clean_non_western_encoded_characters_commands(name)\n",
    "        suffix = re.findall(r\"\\((.*?)\\)\", name)[0]\n",
    "        name = name.replace(f\"({suffix})\", '')\n",
    "    else:\n",
    "        suffix = ''\n",
    "    split = name.split()\n",
    "    for token in split[:-1]:\n",
    "        if '-' in token:\n",
    "            current = '-'.join([k[0] + '.' for k in token.split('-')])\n",
    "        else:\n",
    "            current = token[0] + '.'\n",
    "        initials.append(current)\n",
    "    initials.append(split[-1].strip())\n",
    "    if suffix:\n",
    "        initials.append(f\"({suffix})\")\n",
    "    return ' '.join(initials)"
   ]
  },
  {
   "cell_type": "markdown",
   "id": "14bd6310",
   "metadata": {
    "papermill": {
     "duration": 0.002824,
     "end_time": "2025-06-26T04:20:26.373832",
     "exception": false,
     "start_time": "2025-06-26T04:20:26.371008",
     "status": "completed"
    },
    "tags": []
   },
   "source": [
    "## get list of arxiv paper candidates\n",
    "\n",
    "We use the MPIA mitarbeiter list webpage from mpia.de to get author names\n",
    "We then get all new papers from Arxiv and match authors"
   ]
  },
  {
   "cell_type": "code",
   "execution_count": 3,
   "id": "7ea813a8",
   "metadata": {
    "execution": {
     "iopub.execute_input": "2025-06-26T04:20:26.380602Z",
     "iopub.status.busy": "2025-06-26T04:20:26.380377Z",
     "iopub.status.idle": "2025-06-26T04:20:52.585121Z",
     "shell.execute_reply": "2025-06-26T04:20:52.584462Z"
    },
    "papermill": {
     "duration": 26.209633,
     "end_time": "2025-06-26T04:20:52.586390",
     "exception": false,
     "start_time": "2025-06-26T04:20:26.376757",
     "status": "completed"
    },
    "tags": []
   },
   "outputs": [],
   "source": [
    "# deal with the author list and edge cases of people that cannot be consistent on their name  \n",
    "\n",
    "def filter_non_scientists(name: str) -> bool:\n",
    "    \"\"\" Loose filter on expected authorships\n",
    "\n",
    "    removing IT, administration, technical staff\n",
    "    :param name: name\n",
    "    :returns: False if name is not a scientist\n",
    "    \"\"\"\n",
    "    remove_list = ['Licht', 'Binroth', 'Witzel', 'Jordan',\n",
    "                   'Zähringer', 'Scheerer', 'Hoffmann', 'Düe',\n",
    "                   'Hellmich', 'Enkler-Scharpegge', 'Witte-Nguy',\n",
    "                   'Dehen', 'Beckmann', 'Jager', 'Jäger'\n",
    "                  ]\n",
    "\n",
    "    for k in remove_list:\n",
    "        if k in name:\n",
    "            return False\n",
    "    return True\n",
    "\n",
    "def add_author_to_list(author_list: list) -> list:\n",
    "    \"\"\" Add author to list if not already in list\n",
    "    \n",
    "    :param author: author name\n",
    "    :param author_list: list of authors\n",
    "    :returns: updated list of authors\n",
    "    \"\"\"\n",
    "    add_list = ['T. Henning']\n",
    "\n",
    "    for author in add_list:\n",
    "        if author not in author_list:\n",
    "            author_list.append(author)\n",
    "    return author_list\n",
    "\n",
    "# get list from MPIA website\n",
    "# filter for non-scientists (mpia.get_mpia_mitarbeiter_list() does some filtering)\n",
    "mpia_authors = [k[1] for k in mpia.get_mpia_mitarbeiter_list() if filter_non_scientists(k[1])]\n",
    "# add some missing author because of inconsistencies in their MPIA name and author name on papers\n",
    "mpia_authors = add_author_to_list(mpia_authors)"
   ]
  },
  {
   "cell_type": "code",
   "execution_count": 4,
   "id": "2645e73a",
   "metadata": {
    "execution": {
     "iopub.execute_input": "2025-06-26T04:20:52.594001Z",
     "iopub.status.busy": "2025-06-26T04:20:52.593537Z",
     "iopub.status.idle": "2025-06-26T04:20:53.534492Z",
     "shell.execute_reply": "2025-06-26T04:20:53.533774Z"
    },
    "papermill": {
     "duration": 0.945776,
     "end_time": "2025-06-26T04:20:53.535544",
     "exception": false,
     "start_time": "2025-06-26T04:20:52.589768",
     "status": "completed"
    },
    "tags": []
   },
   "outputs": [
    {
     "name": "stdout",
     "output_type": "stream",
     "text": [
      "X. Zhang  ->  X. Zhang  |  ['X. Zhang']\n",
      "K. Jahnke  ->  K. Jahnke  |  ['K. Jahnke']\n",
      "J. Neumann  ->  J. Neumann  |  ['J. Neumann']\n",
      "G. Chauvin  ->  G. Chauvin  |  ['G. Chauvin']\n",
      "M. Ziegler  ->  M. Ziegler  |  ['M. Ziegler']\n",
      "J. Bouwman  ->  J. Bouwman  |  ['J. Bouwman']\n",
      "T. Henning  ->  T. Henning  |  ['T. Henning']\n",
      "G. Martos  ->  G. Martos  |  ['G. Martos']\n"
     ]
    },
    {
     "name": "stdout",
     "output_type": "stream",
     "text": [
      "J. Davies  ->  J. Davies  |  ['J. Davies']\n",
      "M. Zhang  ->  M. Zhang  |  ['M. Zhang']\n",
      "Y. Wang  ->  Y. Wang  |  ['Y. Wang']\n",
      "Arxiv has 70 new papers today\n",
      "          8 with possible author matches\n"
     ]
    }
   ],
   "source": [
    "new_papers = get_new_papers()\n",
    "# add manual references\n",
    "add_paper_refs = []\n",
    "new_papers.extend([get_paper_from_identifier(k) for k in add_paper_refs])\n",
    "\n",
    "def robust_call(fn, value, *args, **kwargs):\n",
    "    try:\n",
    "        return fn(value, *args, **kwargs)\n",
    "    except Exception:\n",
    "        return value\n",
    "\n",
    "candidates = []\n",
    "for paperk in new_papers:\n",
    "    # Check author list with their initials\n",
    "    normed_author_list = [robust_call(mpia.get_initials, k) for k in paperk['authors']]\n",
    "    hl_authors = highlight_authors_in_list(normed_author_list, mpia_authors, verbose=True)\n",
    "    matches = [(hl, orig) for hl, orig in zip(hl_authors, paperk['authors']) if 'mark' in hl]\n",
    "    paperk['authors'] = hl_authors\n",
    "    if matches:\n",
    "        # only select paper if an author matched our list\n",
    "        candidates.append(paperk)\n",
    "print(\"\"\"Arxiv has {0:,d} new papers today\"\"\".format(len(new_papers)))        \n",
    "print(\"\"\"          {0:,d} with possible author matches\"\"\".format(len(candidates)))"
   ]
  },
  {
   "cell_type": "markdown",
   "id": "3543b34a",
   "metadata": {
    "papermill": {
     "duration": 0.003042,
     "end_time": "2025-06-26T04:20:53.542178",
     "exception": false,
     "start_time": "2025-06-26T04:20:53.539136",
     "status": "completed"
    },
    "tags": []
   },
   "source": [
    "# Parse sources and generate relevant outputs\n",
    "\n",
    "From the candidates, we do the following steps:\n",
    "* get their tarball from ArXiv (and extract data)\n",
    "* find the main .tex file: find one with \\documentclass{...} (sometimes it's non trivial)\n",
    "* Check affiliations with :func:`validation`, which uses :func:`mpia.affiliation_verifications`\n",
    "* If passing the affiliations: we parse the .tex source\n",
    "   * inject sub-documents into the main (flatten the main document)\n",
    "   * parse structure, extract information (title, abstract, authors, figures...)\n",
    "   * handles `\\graphicspath` if provided\n",
    "* Generate the .md document."
   ]
  },
  {
   "cell_type": "code",
   "execution_count": 5,
   "id": "9576b79e",
   "metadata": {
    "execution": {
     "iopub.execute_input": "2025-06-26T04:20:53.549226Z",
     "iopub.status.busy": "2025-06-26T04:20:53.549008Z",
     "iopub.status.idle": "2025-06-26T04:22:17.411811Z",
     "shell.execute_reply": "2025-06-26T04:22:17.411050Z"
    },
    "papermill": {
     "duration": 83.867726,
     "end_time": "2025-06-26T04:22:17.412935",
     "exception": false,
     "start_time": "2025-06-26T04:20:53.545209",
     "status": "completed"
    },
    "scrolled": false,
    "tags": []
   },
   "outputs": [
    {
     "data": {
      "application/vnd.jupyter.widget-view+json": {
       "model_id": "b9720a7720f947ccb035f465ecd85676",
       "version_major": 2,
       "version_minor": 0
      },
      "text/plain": [
       "  0%|          | 0/8 [00:00<?, ?it/s]"
      ]
     },
     "metadata": {},
     "output_type": "display_data"
    },
    {
     "name": "stdout",
     "output_type": "stream",
     "text": [
      "Retrieving document from  https://arxiv.org/e-print/2506.19901\n"
     ]
    },
    {
     "name": "stdout",
     "output_type": "stream",
     "text": [
      "extracting tarball to tmp_2506.19901..."
     ]
    },
    {
     "name": "stdout",
     "output_type": "stream",
     "text": [
      " done.\n",
      "Retrieving document from  https://arxiv.org/e-print/2506.19902\n"
     ]
    },
    {
     "name": "stdout",
     "output_type": "stream",
     "text": [
      "extracting tarball to tmp_2506.19902... done.\n"
     ]
    },
    {
     "name": "stdout",
     "output_type": "stream",
     "text": [
      "K. Jahnke  ->  K. Jahnke  |  ['K. Jahnke']\n",
      "J. Neumann  ->  J. Neumann  |  ['J. Neumann']\n"
     ]
    },
    {
     "name": "stdout",
     "output_type": "stream",
     "text": [
      "Found 108 bibliographic references in tmp_2506.19902/aa53991-25.bbl.\n",
      "Issues with the citations\n",
      "syntax error in line 515: '=' expected\n",
      "Retrieving document from  https://arxiv.org/e-print/2506.19932\n",
      "extracting tarball to tmp_2506.19932..."
     ]
    },
    {
     "name": "stdout",
     "output_type": "stream",
     "text": [
      " done.\n"
     ]
    },
    {
     "name": "stdout",
     "output_type": "stream",
     "text": [
      "G. Chauvin  ->  G. Chauvin  |  ['G. Chauvin']\n"
     ]
    },
    {
     "name": "stdout",
     "output_type": "stream",
     "text": [
      "Found 87 bibliographic references in tmp_2506.19932/sample631.bbl.\n",
      "Retrieving document from  https://arxiv.org/e-print/2506.20019\n"
     ]
    },
    {
     "name": "stderr",
     "output_type": "stream",
     "text": [
      "/opt/hostedtoolcache/Python/3.9.22/x64/lib/python3.9/site-packages/arxiv_on_deck_2/latex_bib.py:132: UserWarning: Error processing bibitem\n",
      " item = \\bibitem[{Batalha {et~al.}(2020)Batalha, caoimherooney11,  sagnickm}]{virga}Batalha, N., caoimherooney11,  sagnickm. 2020, natashabatalha/virga: Initial Release, v0.0,  Zenodo, \\dodoi{10.5281/zenodo.3759888}\n",
      " regex = \n",
      "        \\\\bibitem(\\[[^\\[\\]]*?\\]){(?P<bibkey>[a-zA-Z0-9\\-\\+\\.\\S]+?)}(?P<authors>|([\\D]*?))(?P<year>[12][0-9]{3})(?P<rest>.*)\n",
      "        \n",
      "  warnings.warn(str(e))\n"
     ]
    },
    {
     "name": "stdout",
     "output_type": "stream",
     "text": [
      "extracting tarball to tmp_2506.20019..."
     ]
    },
    {
     "name": "stdout",
     "output_type": "stream",
     "text": [
      " done.\n",
      "Retrieving document from  https://arxiv.org/e-print/2506.20033\n"
     ]
    },
    {
     "name": "stdout",
     "output_type": "stream",
     "text": [
      "extracting tarball to tmp_2506.20033... done.\n"
     ]
    },
    {
     "name": "stdout",
     "output_type": "stream",
     "text": [
      "J. Bouwman  ->  J. Bouwman  |  ['J. Bouwman']\n",
      "T. Henning  ->  T. Henning  |  ['T. Henning']\n"
     ]
    },
    {
     "name": "stdout",
     "output_type": "stream",
     "text": [
      "Found 151 bibliographic references in tmp_2506.20033/wisci-shot.bbl.\n",
      "Issues with the citations\n",
      "syntax error in line 613: '=' expected\n",
      "Retrieving document from  https://arxiv.org/e-print/2506.20345\n"
     ]
    },
    {
     "name": "stdout",
     "output_type": "stream",
     "text": [
      "extracting tarball to tmp_2506.20345... done.\n"
     ]
    },
    {
     "name": "stdout",
     "output_type": "stream",
     "text": [
      "G. Martos  ->  G. Martos  |  ['G. Martos']\n"
     ]
    },
    {
     "name": "stdout",
     "output_type": "stream",
     "text": [
      "Found 51 bibliographic references in tmp_2506.20345/aa54675-25corr.bbl.\n",
      "Error retrieving bib data for Bedell_2018: 'author'\n",
      "Retrieving document from  https://arxiv.org/e-print/2506.20502\n"
     ]
    },
    {
     "name": "stderr",
     "output_type": "stream",
     "text": [
      "/tmp/ipykernel_3403/2822249172.py:52: LatexWarning: 2506.20502 did not run properly\n",
      "not a gzip file\n",
      "  warnings.warn(latex.LatexWarning(f\"{paper_id:s} did not run properly\\n\" +\n"
     ]
    },
    {
     "name": "stdout",
     "output_type": "stream",
     "text": [
      "Retrieving document from  https://arxiv.org/e-print/2506.20532\n"
     ]
    },
    {
     "name": "stdout",
     "output_type": "stream",
     "text": [
      "extracting tarball to tmp_2506.20532..."
     ]
    },
    {
     "name": "stdout",
     "output_type": "stream",
     "text": [
      " done.\n"
     ]
    }
   ],
   "source": [
    "documents = []\n",
    "failed = []\n",
    "for paper in tqdm(candidates):\n",
    "    # debug crap\n",
    "    paper['identifier'] = paper['identifier'].lower().replace('arxiv:', '').replace(r'\\n', '').strip()\n",
    "    paper_id = paper['identifier']\n",
    "    \n",
    "    folder = f'tmp_{paper_id}'\n",
    "\n",
    "    try:\n",
    "        if not os.path.isdir(folder):\n",
    "            folder = retrieve_document_source(f\"{paper_id}\", f'tmp_{paper_id}')\n",
    "        \n",
    "        try:\n",
    "            doc = latex.LatexDocument(folder, validation=validation)    \n",
    "        except AffiliationError as affilerror:\n",
    "            msg = f\"ArXiv:{paper_id:s} is not an MPIA paper... \" + str(affilerror)\n",
    "            failed.append((paper, \"affiliation error: \" + str(affilerror) ))\n",
    "            continue\n",
    "        \n",
    "        # Hack because sometimes author parsing does not work well\n",
    "        if (len(doc.authors) != len(paper['authors'])):\n",
    "            doc._authors = paper['authors']\n",
    "        else:\n",
    "            # highlight authors (FIXME: doc.highlight_authors)\n",
    "            # done on arxiv paper already\n",
    "            doc._authors = highlight_authors_in_list(\n",
    "                [get_initials(k) for k in doc.authors], \n",
    "                mpia_authors, verbose=True)\n",
    "        if (doc.abstract) in (None, ''):\n",
    "            doc._abstract = paper['abstract']\n",
    "            \n",
    "        doc.comment = (get_markdown_badge(paper_id) + \n",
    "                       \"<mark>Appeared on: \" + paper['date'] + \"</mark> - \")\n",
    "        if paper['comments']:\n",
    "            doc.comment += \" _\" + paper['comments'] + \"_\"\n",
    "        \n",
    "        full_md = doc.generate_markdown_text()\n",
    "        \n",
    "        full_md += get_markdown_qrcode(paper_id)\n",
    "        \n",
    "        # replace citations\n",
    "        try:\n",
    "            bibdata = latex_bib.LatexBib.from_doc(doc)\n",
    "            full_md = latex_bib.replace_citations(full_md, bibdata)\n",
    "        except Exception as e:\n",
    "            print(\"Issues with the citations\")\n",
    "            print(e)\n",
    "        \n",
    "        documents.append((paper_id, full_md))\n",
    "    except Exception as e:\n",
    "        warnings.warn(latex.LatexWarning(f\"{paper_id:s} did not run properly\\n\" +\n",
    "                                         str(e)\n",
    "                                        ))\n",
    "        failed.append((paper, \"latex error \" + str(e)))"
   ]
  },
  {
   "cell_type": "markdown",
   "id": "2505a25c",
   "metadata": {
    "papermill": {
     "duration": 0.004219,
     "end_time": "2025-06-26T04:22:17.421622",
     "exception": false,
     "start_time": "2025-06-26T04:22:17.417403",
     "status": "completed"
    },
    "tags": []
   },
   "source": [
    "### Export the logs\n",
    "\n",
    "Throughout, we also keep track of the logs per paper. see `logs-{today date}.md` "
   ]
  },
  {
   "cell_type": "code",
   "execution_count": 6,
   "id": "d733828a",
   "metadata": {
    "execution": {
     "iopub.execute_input": "2025-06-26T04:22:17.431551Z",
     "iopub.status.busy": "2025-06-26T04:22:17.430909Z",
     "iopub.status.idle": "2025-06-26T04:22:17.450398Z",
     "shell.execute_reply": "2025-06-26T04:22:17.449740Z"
    },
    "papermill": {
     "duration": 0.025712,
     "end_time": "2025-06-26T04:22:17.451493",
     "exception": false,
     "start_time": "2025-06-26T04:22:17.425781",
     "status": "completed"
    },
    "scrolled": false,
    "tags": []
   },
   "outputs": [
    {
     "data": {
      "text/markdown": [
       "## Successful papers"
      ],
      "text/plain": [
       "<IPython.core.display.Markdown object>"
      ]
     },
     "metadata": {},
     "output_type": "display_data"
    },
    {
     "data": {
      "text/markdown": [
       "\n",
       "|||\n",
       "|---:|:---|\n",
       "| [![arXiv](https://img.shields.io/badge/arXiv-2506.19902-b31b1b.svg)](https://arxiv.org/abs/2506.19902) | **Gravitational Torques from a Lopsided Young Stellar Component Sustain High Black Hole Accretion in NGC 4593**  |\n",
       "|| N. Winkel, et al. -- incl., <mark>K. Jahnke</mark>, <mark>J. Neumann</mark> |\n",
       "|*Appeared on*| *2025-06-26*|\n",
       "|*Comments*| *14 pages, 8 figures, accepted for publication in A&A*|\n",
       "|**Abstract**|            Supermassive black holes (SMBHs) grow primarily through gas accretion, observed as active galactic nuclei (AGNs). While mergers can drive luminous AGN episodes, secular processes may fuel a substantial portion of cosmic BH growth. Whether these mechanisms can sustain high BH accretion rates remains uncertain. This study aims to identify the secular mechanism driving high BH accretion rates, by targeting a galaxy with moderately massive SMBH, high central gas densities, accretion rates of a few percent of the Eddington limit, and gas kinematics resolved close to black hole-dominated scales. A blind search led to the identification of NGC 4593, which is representative of the AGN population driving BH mass density growth since $z=1$. A prominent single-arm (\"$m=1$\") molecular gas spiral with ${\\rm log}\\,M_{\\rm mol}/{\\rm M}_\\odot=8.1\\pm0.3$ extends from 1.3$\\,$kpc down to the SMBH's sphere of influence ($1.7^{+0.5}_{-0.2}\\,{\\rm pc}$). Star formation in the spiral is inefficient (${\\rm SFR} = 4.9 \\times 10^{-2} \\,{\\rm M}_\\odot {\\rm /yr}$, $\\langle t_{\\rm dep}\\rangle=3.9 \\pm 0.6\\,\\rm{Gyr}$), whereas inflow rate exceeds the SFR by two orders of magnitude and is sufficient to sustain the current BH accretion rate for $\\geq$35$\\,$Myr, enabling $\\sim$10% SMBH growth. A young, lopsided stellar component (${\\rm log}\\,M_\\star/{\\rm M}_\\odot=7.5-9.3$) exerts torques on the molecular gas, likely driving the gas inflow. This young stellar component may serve as both a cause and a product of sustained gas funnelling towards the SMBH. These findings provide evidence for the sustained secular $m=1$ feeding mode at high BH accretion rates, linking kpc-scale gas dynamics to the black hole's sphere of influence. This mechanism, consistent with simulation predictions, may represent a key contributor to SMBH growth in luminous AGNs since cosmic noon.         |"
      ],
      "text/plain": [
       "[2506.19902] Gravitational Torques from a Lopsided Young Stellar Component Sustain High Black Hole Accretion in NGC 4593\n",
       "\tN. Winkel, et al. -- incl., <mark>K. Jahnke</mark>, <mark>J. Neumann</mark>"
      ]
     },
     "metadata": {},
     "output_type": "display_data"
    },
    {
     "data": {
      "text/markdown": [
       "\n",
       "|||\n",
       "|---:|:---|\n",
       "| [![arXiv](https://img.shields.io/badge/arXiv-2506.19932-b31b1b.svg)](https://arxiv.org/abs/2506.19932) | **Follow-Up Exploration of the TWA 7 Planet-Disk System with JWST NIRCam**  |\n",
       "|| K. A. Crotts, et al. -- incl., <mark>G. Chauvin</mark> |\n",
       "|*Appeared on*| *2025-06-26*|\n",
       "|*Comments*| *27 pages, 15 figures, 6 tables, accepted for publication in ApJL*|\n",
       "|**Abstract**|            The young M-star TWA 7 hosts a bright and near face-on debris disk, which has been imaged from the optical to the submillimeter. The disk displays multiple complex substructures such as three disk components, a large dust clump, and spiral arms, suggesting the presence of planets to actively sculpt these features. The evidence for planets in this disk was further strengthened with the recent detection of a point-source compatible with a Saturn-mass planet companion using JWST/MIRI at 11 $\\mu$m, at the location a planet was predicted to reside based on the disk morphology. In this paper, we present new observations of the TWA 7 system with JWST/NIRCam in the F200W and F444W filters. The disk is detected at both wavelengths and presents many of the same substructures as previously imaged, although we do not robustly detect the southern spiral arm. Furthermore, we detect two faint potential companions in the F444W filter at the 2-3$\\sigma$ level. While one of these companions needs further followup to determine its nature, the other one coincides with the location of the planet candidate imaged with MIRI, providing further evidence that this source is a sub-Jupiter mass planet companion rather than a background galaxy. Such discoveries make TWA 7 only the second system, after $\\beta$ Pictoris, in which a planet predicted by the debris disk morphology has been detected.         |"
      ],
      "text/plain": [
       "[2506.19932] Follow-Up Exploration of the TWA 7 Planet-Disk System with JWST NIRCam\n",
       "\tK. A. Crotts, et al. -- incl., <mark>G. Chauvin</mark>"
      ]
     },
     "metadata": {},
     "output_type": "display_data"
    },
    {
     "data": {
      "text/markdown": [
       "\n",
       "|||\n",
       "|---:|:---|\n",
       "| [![arXiv](https://img.shields.io/badge/arXiv-2506.20033-b31b1b.svg)](https://arxiv.org/abs/2506.20033) | **Investigating silicate, carbon, and water in the diffuse interstellar medium: the first shots from WISCI**  |\n",
       "|| S. Zeegers, et al. -- incl., <mark>J. Bouwman</mark>, <mark>T. Henning</mark> |\n",
       "|*Appeared on*| *2025-06-26*|\n",
       "|*Comments*| *Accepted for publication in ApJ*|\n",
       "|**Abstract**|            The dusty interstellar medium (ISM) of the Milky Way is distributed in a complex, cloudy structure. It is fundamental to the radiation balance within the Milky Way, provides a reaction surface to form complex molecules, and is the feedstock for future generations of stars and planets. The life cycle of interstellar dust is not completely understood, and neither are its structure nor composition. The abundance, composition, and structure of dust in the diffuse ISM can be determined by combining infrared, optical and ultraviolet spectroscopy. JWST enables measurement of the faint absorption of ISM dust grains against bright stars at kiloparsec distances across the infrared spectrum. Here we present an overview of the project `Webb Investigation of Silicates, Carbons, and Ices' (WISCI) along with interpretation of two targets, GSC 08152-02121 and CPD-59 5831. Observations of 12 WISCI target stars were taken by JWST, the Hubble Space Telescope, Himalayan Chandra Telescope, and the Very Large Telescope. We use these to characterize the targets' spectral types and calculate their line-of-sight extinction parameters, $A_{\\rm V}$ and $R_{\\rm V}$. We find absorption in the JWST spectra of GSC 08152-02121, and CPD-59 5831 associated with carbonaceous dust around 3.4 and 6.2 micron and amorphous silicates at 9.7 micron. In GSC 08152-02121 we also find indications of absorption by trapped water around 3 micron. This first look from WISCI demonstrates the line-of-sight variability within the sample, and the program's potential to identify and correlate features across ultraviolet to mid-infrared wavelengths.         |"
      ],
      "text/plain": [
       "[2506.20033] Investigating silicate, carbon, and water in the diffuse interstellar medium: the first shots from WISCI\n",
       "\tS. Zeegers, et al. -- incl., <mark>J. Bouwman</mark>, <mark>T. Henning</mark>"
      ]
     },
     "metadata": {},
     "output_type": "display_data"
    },
    {
     "data": {
      "text/markdown": [
       "\n",
       "|||\n",
       "|---:|:---|\n",
       "| [![arXiv](https://img.shields.io/badge/arXiv-2506.20345-b31b1b.svg)](https://arxiv.org/abs/2506.20345) | **Signatures of planets and Galactic subpopulations in solar analogs. Precise chemical abundances with neural networks**  |\n",
       "|| <mark>G. Martos</mark>, J. Meléndez, L. Spina, S. Lucatello |\n",
       "|*Appeared on*| *2025-06-26*|\n",
       "|*Comments*| *Accepted by A&A*|\n",
       "|**Abstract**|            The aim of this work is to obtain precise atmospheric parameters and chemical abundances automatically for solar twins and analogs to find signatures of exoplanets, as well as to assess how peculiar the Sun is compared to these stars and to analyze any possible fine structures in the Galactic thin disk. We developed a neural network (NN) algorithm using Python to obtain these parameters for a sample of 99 solar twins and solar analogs previously studied in the literature from normalized high-quality spectra from HARPS, with a resolving power of R $\\sim$ 115000 and a signal-to-noise ratio S/N > 400. We obtained precise atmospheric parameters and abundance ratios [X/Fe] of 20 chemical elements (Li, C, O, Na, Mg, Al, Si, S, Ca, Sc, Ti, V, Cr, Mn, Co, Ni, Cu, Zn, Y, and Ba). The results are in line with the literature, with average differences and standard deviations of $(2 \\pm 27)$ K for T$_{\\rm eff}$, $(0.00 \\pm 0.06)$ dex for log g, $(0.00 \\pm 0.02)$ dex for [Fe/H], $(-0.01 \\pm 0.05)$ km s$^{-1}$ for microturbulence velocity, $(0.02 \\pm 0.08)$ km s$^{-1}$ for the macro turbulence velocity, and $(-0.12 \\pm 0.26)$ km s$^{-1}$ for the projected rotational velocity (vsin$i$). Regarding the chemical abundances, most of the elements agree with the literature within 0.01 - 0.02 dex. The abundances were corrected from the effects of the Galactic chemical evolution and analyzed with the condensation temperature (T$_{\\rm cond}$) to verify whether the stars presented depletion of refractories compared to volatiles. We found that the Sun is more depleted in refractory elements compared to volatiles than 89% of the studied solar analogs, with a significance of 9.5$\\sigma$ when compared to the stars without detected exoplanets. We also found the possible presence of three subpopulations in the solar analogs: one Cu-rich, one Cu-poor, and the last one slightly older and poor in Na.         |"
      ],
      "text/plain": [
       "[2506.20345] Signatures of planets and Galactic subpopulations in solar analogs. Precise chemical abundances with neural networks\n",
       "\t<mark>G. Martos</mark>, J. Meléndez, L. Spina, S. Lucatello"
      ]
     },
     "metadata": {},
     "output_type": "display_data"
    },
    {
     "data": {
      "text/markdown": [
       "## Failed papers"
      ],
      "text/plain": [
       "<IPython.core.display.Markdown object>"
      ]
     },
     "metadata": {},
     "output_type": "display_data"
    },
    {
     "data": {
      "text/markdown": [
       "\n",
       "|||\n",
       "|---:|:---|\n",
       "| [![arXiv](https://img.shields.io/badge/arXiv-2506.19901-b31b1b.svg)](https://arxiv.org/abs/2506.19901) | **Discovery of Diffuse Radio Emission in a Massive z=1.709 Cool Core Cluster: A Candidate Radio Mini-Halo**  |\n",
       "|| J. Hlavacek-Larrondo, et al. -- incl., <mark>X. Zhang</mark> |\n",
       "|*Appeared on*| *2025-06-26*|\n",
       "|*Comments*| *17 pages, 7 figures, accepted for publication in ApJL*|\n",
       "|**Abstract**|            Clusters of galaxies host spectacular diffuse radio sources, extending over scales from 100 kpc to several Mpcs. These sources, with extremely faint surface brightness ($\\mu$Jy/arcsec$^2$ level), are not tied to individual galaxies but trace synchrotron emission from large-scale magnetic fields and relativistic particles within the intracluster environment. Here, we report the discovery of a candidate radio mini-halo in SpARCS104922.6+564032.5, the most distant cool-core galaxy cluster identified to date at $z=1.709$, using deep LOFAR 120-168 MHz observations. We show that this emission originates from diffuse cluster-associated processes rather than unresolved AGN or star-forming galaxies. The diffuse radio emission coincides spatially with the X-ray emission of the hot intracluster medium and has a radio power of $P_{\\rm 150~MHz}=49.8^{+14.7}_{-11.7} \\times10^{24}$ W Hz$^{-1}$, exhibiting striking similarities to low-redshift radio mini-halos. This discovery doubles the redshift of previously known mini-halos, challenging models of inverse Compton losses and indicating the presence of strong magnetic fields, enhanced turbulence in high-redshift clusters, or active hadronic processes that require a cosmic ray-to-thermal energy ratio of 0.07 within 200 kpc, assuming a clumped distribution with spatial correlations among the gas, cosmic rays, and magnetic field that partially compensate for cosmological redshift dimming. It further implies that magnetic fields are efficiently amplified to $\\sim$$10~\\mu$G levels within a Mpc$^3$ volume during the epoch of cluster formation before $z\\sim2$. These findings provide critical insights into high-redshift cluster physics and emphasize the transformative potential of next-generation radio surveys, such as those with the SKA and ngVLA, in exploring the early evolution of galaxy clusters.         |\n",
       "|<p style=\"color:green\"> **ERROR** </p>| <p style=\"color:green\">affiliation error: mpia.affiliation_verifications: 'Heidelberg' keyword not found.</p> |"
      ],
      "text/plain": [
       "<IPython.core.display.Markdown object>"
      ]
     },
     "metadata": {},
     "output_type": "display_data"
    },
    {
     "data": {
      "text/markdown": [
       "\n",
       "|||\n",
       "|---:|:---|\n",
       "| [![arXiv](https://img.shields.io/badge/arXiv-2506.20019-b31b1b.svg)](https://arxiv.org/abs/2506.20019) | **Giant Outer Transiting Exoplanet Mass (GOT 'EM) Survey. VI: Confirmation of a Long-Period Giant Planet Discovered with a Single TESS Transit**  |\n",
       "|| Z. Essack, et al. -- incl., <mark>M. Ziegler</mark> |\n",
       "|*Appeared on*| *2025-06-26*|\n",
       "|*Comments*| *31 pages, 13 figures, 12 tables. Accepted for publication in The Astronomical Journal*|\n",
       "|**Abstract**|            We report the discovery and confirmation of TOI-4465 b, a $1.25^{+0.08}_{-0.07}~R_{J}$, $5.89\\pm0.26~M_{J}$ giant planet orbiting a G dwarf star at $d\\simeq$ 122 pc. The planet was detected as a single-transit event in data from Sector 40 of the Transiting Exoplanet Survey Satellite (TESS) mission. Radial velocity (RV) observations of TOI-4465 showed a planetary signal with an orbital period of $\\sim$102 days, and an orbital eccentricity of $e=0.24\\pm0.01$. TESS re-observed TOI-4465 in Sector 53 and Sector 80, but did not detect another transit of TOI-4465 b, as the planet was not expected to transit during these observations based on the RV period. A global ground-based photometry campaign was initiated to observe another transit of TOI-4465 b after the RV period determination. The $\\sim$12 hour-long transit event was captured from multiple sites around the world, and included observations from 24 citizen scientists, confirming the orbital period as $\\sim$102 days. TOI-4465 b is a relatively dense ($3.73\\pm0.53~\\rm{g/cm^3}$), temperate (375-478 K) giant planet. Based on giant planet structure models, TOI-4465 b appears to be enriched in heavy elements at a level consistent with late-stage accretion of icy planetesimals. Additionally, we explore TOI-4465 b's potential for atmospheric characterization, and obliquity measurement. Increasing the number of long-period planets by confirming single-transit events is crucial for understanding the frequency and demographics of planet populations in the outer regions of planetary systems.         |\n",
       "|<p style=\"color:green\"> **ERROR** </p>| <p style=\"color:green\">affiliation error: mpia.affiliation_verifications: 'Heidelberg' keyword not found.</p> |"
      ],
      "text/plain": [
       "<IPython.core.display.Markdown object>"
      ]
     },
     "metadata": {},
     "output_type": "display_data"
    },
    {
     "data": {
      "text/markdown": [
       "\n",
       "|||\n",
       "|---:|:---|\n",
       "| [![arXiv](https://img.shields.io/badge/arXiv-2506.20532-b31b1b.svg)](https://arxiv.org/abs/2506.20532) | **{\\tt RapidGBM}: An Efficient Tool for Fermi-GBM Visibility Checking and Data Analysis with a Case Study of EP240617a**  |\n",
       "|| <mark>Y. Wang</mark>, et al. |\n",
       "|*Appeared on*| *2025-06-26*|\n",
       "|*Comments*| *11 pages, 7 figures, 1 table*|\n",
       "|**Abstract**|            We have developed a lightweight tool {\\tt RapidGBM}, featured by a web-based interface and capabilities of rapid calculation of Fermi-GBM visibilities and performing basic data analysis. It has two key features: (1) immediately check the visibility of Fermi-GBM for new transients, and (2) check the light curve and perform spectral analysis after the hourly TTE data is released. The visibility check and the response matrix generation required for spectral analysis can be achieved through the historical pointing file after the orbit calculation, even when the real-time pointing file is not yet available. As a case, we apply the tool to EP240617a, an X-ray transient triggered by Einstein Probe (EP). We demonstrate the workflow of visibility checking, data processing, and spectral analysis for this event. The results suggest that EP240617a can be classified as an X-ray-rich GRB (XRR) and confirm the feasibility of using historical pointing files for rapid analysis. Further, we discuss possible physical interpretations of such events, including implications for jet launching and progenitor scenarios. Therefore, {\\tt RapidGBM} is expected to assist Einstein Probe Transient Advocates (EP-TAs), Space-based multi-band astronomical Variable Objects Monitor Burst Advocates (SVOM-BAs), and other members of the community in cross-checking high-energy transients. Based on prompt emission parameter relations (e.g. $E_{\\rm p}$-$E_{\\gamma,\\rm iso}$), it can also help identify peculiar GRBs (e.g. long-short burst, magnetar giant flare, etc.) and and provide useful references (e.g. more accurate $T_0$) for scheduling follow-up observations.         |\n",
       "|<p style=\"color:green\"> **ERROR** </p>| <p style=\"color:green\">affiliation error: mpia.affiliation_verifications: 'Heidelberg' keyword not found.</p> |"
      ],
      "text/plain": [
       "<IPython.core.display.Markdown object>"
      ]
     },
     "metadata": {},
     "output_type": "display_data"
    },
    {
     "data": {
      "text/markdown": [
       "\n",
       "|||\n",
       "|---:|:---|\n",
       "| [![arXiv](https://img.shields.io/badge/arXiv-2506.20502-b31b1b.svg)](https://arxiv.org/abs/2506.20502) | **Probing Solar Polar Regions**  |\n",
       "|| Y. Deng, et al. -- incl., <mark>J. Davies</mark>, <mark>M. Zhang</mark> |\n",
       "|*Appeared on*| *2025-06-26*|\n",
       "|*Comments*| *Accepted for publication in Chinese Journal of Space Science*|\n",
       "|**Abstract**|            The magnetic fields and dynamical processes in the solar polar regions play a crucial role in the solar magnetic cycle and in supplying mass and energy to the fast solar wind, ultimately being vital in controlling solar activities and driving space weather. Despite numerous efforts to explore these regions, to date no imaging observations of the Sun's poles have been achieved from vantage points out of the ecliptic plane, leaving their behavior and evolution poorly understood. This observation gap has left three top-level scientific questions unanswered, 1) How does the solar dynamo work and drive the solar magnetic cycle? 2) What drives the fast solar wind? 3) How do space weather processes globally originate from the Sun and propagate throughout the solar system? The Solar Polar-orbit Observatory (SPO) mission, a solar polar exploration spacecraft, is proposed to address these three unanswered scientific questions by imaging the Sun's poles from high heliolatitudes. In order to achieve its scientific goals, SPO will carry six remote-sensing and four in-situ instruments to measure the vector magnetic fields and Doppler velocity fields in the photosphere, to observed the Sun in the extreme ultraviolet, X-ray, and radio wavelengths, to image the corona and the heliosphere up to 45 $R_\\odot$, and to perform in-situ detection of magnetic fields, and low- and high-energy particles in the solar wind.         |\n",
       "|<p style=\"color:red\"> **ERROR** </p>| <p style=\"color:red\">latex error not a gzip file</p> |"
      ],
      "text/plain": [
       "<IPython.core.display.Markdown object>"
      ]
     },
     "metadata": {},
     "output_type": "display_data"
    }
   ],
   "source": [
    "import datetime\n",
    "today = str(datetime.date.today())\n",
    "logfile = f\"_build/html/logs/log-{today}.md\"\n",
    "\n",
    "\n",
    "with open(logfile, 'w') as logs:\n",
    "    # Success\n",
    "    logs.write(f'# Arxiv on Deck 2: Logs - {today}\\n\\n')\n",
    "    logs.write(\"\"\"* Arxiv had {0:,d} new papers\\n\"\"\".format(len(new_papers)))\n",
    "    logs.write(\"\"\"    * {0:,d} with possible author matches\\n\\n\"\"\".format(len(candidates)))\n",
    "    logs.write(\"## Sucessful papers\\n\\n\")\n",
    "    display(Markdown(\"## Successful papers\"))\n",
    "    success = [k[0] for k in documents]\n",
    "    for candid in candidates:\n",
    "        if candid['identifier'].split(':')[-1] in success:\n",
    "            display(candid)\n",
    "            logs.write(candid.generate_markdown_text() + '\\n\\n')\n",
    "\n",
    "    ## failed\n",
    "    logs.write(\"## Failed papers\\n\\n\")\n",
    "    display(Markdown(\"## Failed papers\"))\n",
    "    failed = sorted(failed, key=lambda x: x[1])\n",
    "    current_reason = \"\"\n",
    "    for paper, reason in failed:\n",
    "        if 'affiliation' in reason:\n",
    "            color = 'green'\n",
    "        else:\n",
    "            color = 'red'\n",
    "        data = Markdown(\n",
    "                paper.generate_markdown_text() + \n",
    "                f'\\n|<p style=\"color:{color:s}\"> **ERROR** </p>| <p style=\"color:{color:s}\">{reason:s}</p> |'\n",
    "               )\n",
    "        if reason != current_reason:\n",
    "            logs.write(f'### {reason:s} \\n\\n')\n",
    "            current_reason = reason\n",
    "        logs.write(data.data + '\\n\\n')\n",
    "        \n",
    "        # only display here the important errors (all in logs)\n",
    "        # if color in ('red',):\n",
    "        display(data)"
   ]
  },
  {
   "cell_type": "markdown",
   "id": "472d20ee",
   "metadata": {
    "papermill": {
     "duration": 0.005059,
     "end_time": "2025-06-26T04:22:17.462337",
     "exception": false,
     "start_time": "2025-06-26T04:22:17.457278",
     "status": "completed"
    },
    "tags": []
   },
   "source": [
    "## Export documents\n",
    "\n",
    "We now write the .md files and export relevant images"
   ]
  },
  {
   "cell_type": "code",
   "execution_count": 7,
   "id": "d426aed9",
   "metadata": {
    "execution": {
     "iopub.execute_input": "2025-06-26T04:22:17.474021Z",
     "iopub.status.busy": "2025-06-26T04:22:17.473500Z",
     "iopub.status.idle": "2025-06-26T04:22:17.480739Z",
     "shell.execute_reply": "2025-06-26T04:22:17.480199Z"
    },
    "papermill": {
     "duration": 0.014207,
     "end_time": "2025-06-26T04:22:17.481727",
     "exception": false,
     "start_time": "2025-06-26T04:22:17.467520",
     "status": "completed"
    },
    "tags": []
   },
   "outputs": [],
   "source": [
    "def export_markdown_summary(md: str, md_fname:str, directory: str):\n",
    "    \"\"\"Export MD document and associated relevant images\"\"\"\n",
    "    import os\n",
    "    import shutil\n",
    "    import re\n",
    "\n",
    "    if (os.path.exists(directory) and not os.path.isdir(directory)):\n",
    "        raise RuntimeError(f\"a non-directory file exists with name {directory:s}\")\n",
    "\n",
    "    if (not os.path.exists(directory)):\n",
    "        print(f\"creating directory {directory:s}\")\n",
    "        os.mkdir(directory)\n",
    "\n",
    "    fig_fnames = (re.compile(r'\\[Fig.*\\]\\((.*)\\)').findall(md) + \n",
    "                  re.compile(r'\\<img src=\"([^>\\s]*)\"[^>]*/>').findall(md))\n",
    "    print(\"found figures\", fig_fnames)\n",
    "    for fname in fig_fnames:\n",
    "        if 'http' in fname:\n",
    "            # No need to copy online figures\n",
    "            continue\n",
    "        if not os.path.exists(fname):\n",
    "            print(\"file not found\", fname)\n",
    "            continue\n",
    "        print(\"copying \", fname, \"to\", directory)\n",
    "        destdir = os.path.join(directory, os.path.dirname(fname))\n",
    "        destfname = os.path.join(destdir, os.path.basename(fname))\n",
    "        try:\n",
    "            os.makedirs(destdir)\n",
    "        except FileExistsError:\n",
    "            pass\n",
    "        shutil.copy(fname, destfname)\n",
    "    with open(os.path.join(directory, md_fname), 'w') as fout:\n",
    "        fout.write(md)\n",
    "    print(\"exported in \", os.path.join(directory, md_fname))\n",
    "    [print(\"    + \" + os.path.join(directory,fk)) for fk in fig_fnames]"
   ]
  },
  {
   "cell_type": "code",
   "execution_count": 8,
   "id": "014d04a4",
   "metadata": {
    "execution": {
     "iopub.execute_input": "2025-06-26T04:22:17.493354Z",
     "iopub.status.busy": "2025-06-26T04:22:17.492958Z",
     "iopub.status.idle": "2025-06-26T04:22:17.511073Z",
     "shell.execute_reply": "2025-06-26T04:22:17.510361Z"
    },
    "papermill": {
     "duration": 0.025044,
     "end_time": "2025-06-26T04:22:17.512204",
     "exception": false,
     "start_time": "2025-06-26T04:22:17.487160",
     "status": "completed"
    },
    "tags": []
   },
   "outputs": [
    {
     "name": "stdout",
     "output_type": "stream",
     "text": [
      "found figures ['tmp_2506.19902/./Figures/KinMS_modelling.png', 'tmp_2506.19902/./Figures/time_maps.png', 'tmp_2506.19902/./Figures/lenstronomy_final_qso_fit.png']\n",
      "copying  tmp_2506.19902/./Figures/KinMS_modelling.png to _build/html/\n",
      "copying  tmp_2506.19902/./Figures/time_maps.png to _build/html/\n",
      "copying  tmp_2506.19902/./Figures/lenstronomy_final_qso_fit.png to _build/html/\n",
      "exported in  _build/html/2506.19902.md\n",
      "    + _build/html/tmp_2506.19902/./Figures/KinMS_modelling.png\n",
      "    + _build/html/tmp_2506.19902/./Figures/time_maps.png\n",
      "    + _build/html/tmp_2506.19902/./Figures/lenstronomy_final_qso_fit.png\n",
      "found figures ['tmp_2506.19932/./figures/twa7_deconv2.png', 'tmp_2506.19932/./figures/radial_sb.png', 'tmp_2506.19932/./figures/disk_structure.png', 'tmp_2506.19932/./figures/updated_dip_loc.png']\n",
      "copying  tmp_2506.19932/./figures/twa7_deconv2.png to _build/html/\n",
      "copying  tmp_2506.19932/./figures/radial_sb.png to _build/html/\n",
      "copying  tmp_2506.19932/./figures/disk_structure.png to _build/html/\n",
      "copying  tmp_2506.19932/./figures/updated_dip_loc.png to _build/html/\n",
      "exported in  _build/html/2506.19932.md\n",
      "    + _build/html/tmp_2506.19932/./figures/twa7_deconv2.png\n",
      "    + _build/html/tmp_2506.19932/./figures/radial_sb.png\n",
      "    + _build/html/tmp_2506.19932/./figures/disk_structure.png\n",
      "    + _build/html/tmp_2506.19932/./figures/updated_dip_loc.png\n",
      "found figures ['tmp_2506.20033/./2MASSJ085747plot_res_carbon34_2.png', 'tmp_2506.20033/./2MASSJ150958plot_res_carbon34_2.png', 'tmp_2506.20033/./Topdown_IntegExt_wsun_10lac.png', 'tmp_2506.20033/./Gaia_galaxy3.png', 'tmp_2506.20033/./2MASSJ085747plot_res_carbon62_0.png', 'tmp_2506.20033/./2MASSJ150958plot_res_carbon62_0.png']\n",
      "copying  tmp_2506.20033/./2MASSJ085747plot_res_carbon34_2.png to _build/html/\n",
      "copying  tmp_2506.20033/./2MASSJ150958plot_res_carbon34_2.png to _build/html/\n",
      "copying  tmp_2506.20033/./Topdown_IntegExt_wsun_10lac.png to _build/html/\n",
      "copying  tmp_2506.20033/./Gaia_galaxy3.png to _build/html/\n",
      "copying  tmp_2506.20033/./2MASSJ085747plot_res_carbon62_0.png to _build/html/\n",
      "copying  tmp_2506.20033/./2MASSJ150958plot_res_carbon62_0.png to _build/html/\n",
      "exported in  _build/html/2506.20033.md\n",
      "    + _build/html/tmp_2506.20033/./2MASSJ085747plot_res_carbon34_2.png\n",
      "    + _build/html/tmp_2506.20033/./2MASSJ150958plot_res_carbon34_2.png\n",
      "    + _build/html/tmp_2506.20033/./Topdown_IntegExt_wsun_10lac.png\n",
      "    + _build/html/tmp_2506.20033/./Gaia_galaxy3.png\n",
      "    + _build/html/tmp_2506.20033/./2MASSJ085747plot_res_carbon62_0.png\n",
      "    + _build/html/tmp_2506.20033/./2MASSJ150958plot_res_carbon62_0.png\n",
      "found figures ['tmp_2506.20345/./fig/err_elem_sigma_bedell.png', 'tmp_2506.20345/./fig/thickdisk_feh.png', 'tmp_2506.20345/./fig/resid_Z.png']\n",
      "copying  tmp_2506.20345/./fig/err_elem_sigma_bedell.png to _build/html/\n",
      "copying  tmp_2506.20345/./fig/thickdisk_feh.png to _build/html/\n",
      "copying  tmp_2506.20345/./fig/resid_Z.png to _build/html/\n",
      "exported in  _build/html/2506.20345.md\n",
      "    + _build/html/tmp_2506.20345/./fig/err_elem_sigma_bedell.png\n",
      "    + _build/html/tmp_2506.20345/./fig/thickdisk_feh.png\n",
      "    + _build/html/tmp_2506.20345/./fig/resid_Z.png\n"
     ]
    }
   ],
   "source": [
    "for paper_id, md in documents:\n",
    "    export_markdown_summary(md, f\"{paper_id:s}.md\", '_build/html/')"
   ]
  },
  {
   "cell_type": "markdown",
   "id": "f087a0a7",
   "metadata": {
    "papermill": {
     "duration": 0.00527,
     "end_time": "2025-06-26T04:22:17.523100",
     "exception": false,
     "start_time": "2025-06-26T04:22:17.517830",
     "status": "completed"
    },
    "tags": []
   },
   "source": [
    "## Display the papers\n",
    "\n",
    "Not necessary but allows for a quick check."
   ]
  },
  {
   "cell_type": "code",
   "execution_count": 9,
   "id": "fd25f625",
   "metadata": {
    "execution": {
     "iopub.execute_input": "2025-06-26T04:22:17.534706Z",
     "iopub.status.busy": "2025-06-26T04:22:17.534303Z",
     "iopub.status.idle": "2025-06-26T04:22:17.542618Z",
     "shell.execute_reply": "2025-06-26T04:22:17.542107Z"
    },
    "papermill": {
     "duration": 0.015142,
     "end_time": "2025-06-26T04:22:17.543582",
     "exception": false,
     "start_time": "2025-06-26T04:22:17.528440",
     "status": "completed"
    },
    "scrolled": false,
    "tags": []
   },
   "outputs": [
    {
     "data": {
      "text/markdown": [
       "<div class=\"macros\" style=\"visibility:hidden;\">\n",
       "$\\newcommand{\\ensuremath}{}$\n",
       "$\\newcommand{\\xspace}{}$\n",
       "$\\newcommand{\\object}[1]{\\texttt{#1}}$\n",
       "$\\newcommand{\\farcs}{{.}''}$\n",
       "$\\newcommand{\\farcm}{{.}'}$\n",
       "$\\newcommand{\\arcsec}{''}$\n",
       "$\\newcommand{\\arcmin}{'}$\n",
       "$\\newcommand{\\ion}[2]{#1#2}$\n",
       "$\\newcommand{\\textsc}[1]{\\textrm{#1}}$\n",
       "$\\newcommand{\\hl}[1]{\\textrm{#1}}$\n",
       "$\\newcommand{\\footnote}[1]{}$\n",
       "$\\newcommand{\\mbh}{M_{\\rm BH}\\xspace}$\n",
       "$\\newcommand{\\ngc}{NGC 4593\\xspace}$</div>\n",
       "\n",
       "\n",
       "\n",
       "<div id=\"title\">\n",
       "\n",
       "# Gravitational torques from a lopsided young stellar component sustain high black hole accretion in NGC 4593\n",
       "\n",
       "</div>\n",
       "<div id=\"comments\">\n",
       "\n",
       "[![arXiv](https://img.shields.io/badge/arXiv-2506.19902-b31b1b.svg)](https://arxiv.org/abs/2506.19902)<mark>Appeared on: 2025-06-26</mark> -  _14 pages, 8 figures, accepted for publication in A&A_\n",
       "\n",
       "</div>\n",
       "<div id=\"authors\">\n",
       "\n",
       "N. Winkel, et al. -- incl., <mark>K. Jahnke</mark>, <mark>J. Neumann</mark>\n",
       "\n",
       "</div>\n",
       "<div id=\"abstract\">\n",
       "\n",
       "**Abstract:** Supermassive black holes (SMBHs) grow primarily through gas accretion, observed as active galactic nuclei (AGNs).   While mergers can drive luminous AGN episodes, secular processes may fuel a substantial portion of cosmic black hole growth. Whether these mechanisms can sustain high black hole accretion rates remains uncertain. This study aims to identify the secular mechanism driving high SMBH accretion rates, by targeting a galaxy with moderately massive SMBH, high central gas densities, accretion rates of a few percent of the Eddington limit, and gas kinematics resolved close to black hole-dominated scales. A blind search led to the identification of $\\ngc$ , which is representative of the AGN population driving BH mass density growth since $z=1$ . Combining HST imaging, VLT/MUSE spectroscopy, and ALMA imaging, we resolve molecular and ionised gas kinematics close to the sphere of influence of the SMBH. A prominent single-arm (\" $m=1$ ”) molecular gas spiral with ${\\rm log} M_{\\rm mol}/{\\rm M}_\\odot=8.1\\pm0.3$ extends from 1.3 kpc down to the SMBH's sphere of influence ( $1.7^{+0.5}_{-0.2} {\\rm pc}$ ).   Star formation in the spiral is inefficient ( ${\\rm SFR} = 4.9 \\times 10^{-2}  {\\rm M}_\\odot{\\rm /yr}$ , $\\langle t_{\\rm dep}\\rangle=3.9 \\pm 0.6 \\rm{Gyr}$ ), whereas inflow rate exceeds the SFR by two orders of magnitude and is sufficient to sustain the current SMBH accretion rate for $\\geq$ 35 Myr, enabling $\\sim$ 10 \\% SMBH growth.   A young, lopsided stellar component ( ${\\rm log} M_\\star/{\\rm M}_\\odot=7.5-9.3$ ) exerts torques on the molecular gas, likely driving the gas inflow. This young stellar component may serve as both a cause and a product of sustained gas funnelling towards the SMBH. These findings provide evidence for the sustained secular $m=1$ feeding mode at high SMBH accretion rates, linking kpc-scale gas dynamics to the black hole’s sphere of influence. This mechanism, consistent with simulation predictions, may represent a key contributor to SMBH growth in luminous AGNs since cosmic noon.\n",
       "\n",
       "</div>\n",
       "\n",
       "<div id=\"div_fig1\">\n",
       "\n",
       "<img src=\"tmp_2506.19902/./Figures/KinMS_modelling.png\" alt=\"Fig9\" width=\"100%\"/>\n",
       "\n",
       "**Figure 9. -** \n",
       "     Results of the kinematic modelling carried out with \\texttt{KinMS}.\n",
       "     (Left) Surface brightness distribution and line-of-sight velocity field of the CO(2--1) emission, for the low- (bottom) and high-resolution (top) data set respectively.\n",
       "     Contours correspond to the best-fit model.\n",
       "     (Right) Position-velocity diagram along the kinematic major axis.\n",
       "     The model includes circular rotation with radial motions, which dominate the bulk molecular gas kinematics from 1.3 kpc down to the black hole SOI.\n",
       " (*fig:KinMS_modelling*)\n",
       "\n",
       "</div>\n",
       "<div id=\"div_fig2\">\n",
       "\n",
       "<img src=\"tmp_2506.19902/./Figures/time_maps.png\" alt=\"Fig11\" width=\"100%\"/>\n",
       "\n",
       "**Figure 11. -** \n",
       "     Time-evolution of the m=1 torque field.\n",
       "     We simulate the evolution the mass distribution as described in Sect. \\ref{subsec:time_evolution_torque_field}, and derive the resulting torque field. After 3 Myr, the center of mass has rotated around the kinematic centre by ?? $^\\circ$ (*fig:KinMS_modelling*)\n",
       "\n",
       "</div>\n",
       "<div id=\"div_fig3\">\n",
       "\n",
       "<img src=\"tmp_2506.19902/./Figures/lenstronomy_final_qso_fit.png\" alt=\"Fig10\" width=\"100%\"/>\n",
       "\n",
       "**Figure 10. -** \n",
       "    Photometric decomposition results using \\texttt{lenstronomy}.\n",
       "    (1) HST/ACS HRC F330W flux map with saturated pixels replaced. Grey lines show surface brightness contours of $\\Sigma_{\\rm mol}$.\n",
       "    (2) F330W flux map after subtracting the PSF model, revealing a diffuse component near the centre. Dashed contours show the initial guess of the single-Sérsic model fit to this structure.\n",
       "    (3) F330W residual image after subtracting both the PSF and best-fit single-Sérsic model.\n",
       "    (4) Residual map normalized by uncertainty.\n",
       "    (5) Same as (3) but subtracting a 90$^\\circ$-rotated PSF from the original image.\n",
       "    (6) Similar to (4) but the single-Sérsic model was not subtracted.\n",
       "    The detection of the diffuse component near the AGN does not depend on the PSF subtraction (2 vs 5).\n",
       "    Aside from compact UV emission from star-forming clumps in the single-arm spiral, no extended UV emission is left over when a single-Sérsic model is subtracted.\n",
       " (*fig:lenstronomy_final_qso_fit*)\n",
       "\n",
       "</div><div id=\"qrcode\"><img src=https://api.qrserver.com/v1/create-qr-code/?size=100x100&data=\"https://arxiv.org/abs/2506.19902\"></div>"
      ],
      "text/plain": [
       "<IPython.core.display.Markdown object>"
      ]
     },
     "metadata": {},
     "output_type": "display_data"
    },
    {
     "data": {
      "text/markdown": [
       "<div class=\"macros\" style=\"visibility:hidden;\">\n",
       "$\\newcommand{\\ensuremath}{}$\n",
       "$\\newcommand{\\xspace}{}$\n",
       "$\\newcommand{\\object}[1]{\\texttt{#1}}$\n",
       "$\\newcommand{\\farcs}{{.}''}$\n",
       "$\\newcommand{\\farcm}{{.}'}$\n",
       "$\\newcommand{\\arcsec}{''}$\n",
       "$\\newcommand{\\arcmin}{'}$\n",
       "$\\newcommand{\\ion}[2]{#1#2}$\n",
       "$\\newcommand{\\textsc}[1]{\\textrm{#1}}$\n",
       "$\\newcommand{\\hl}[1]{\\textrm{#1}}$\n",
       "$\\newcommand{\\footnote}[1]{}$\n",
       "$\\newcommand{\\vdag}{(v)^\\dagger}$\n",
       "$\\newcommand$\n",
       "$\\newcommand$</div>\n",
       "\n",
       "\n",
       "\n",
       "<div id=\"title\">\n",
       "\n",
       "# Follow-Up Exploration of the TWA 7 Planet-Disk System with JWST NIRCam\n",
       "\n",
       "</div>\n",
       "<div id=\"comments\">\n",
       "\n",
       "[![arXiv](https://img.shields.io/badge/arXiv-2506.19932-b31b1b.svg)](https://arxiv.org/abs/2506.19932)<mark>Appeared on: 2025-06-26</mark> -  _27 pages, 15 figures, 6 tables, accepted for publication in ApJL_\n",
       "\n",
       "</div>\n",
       "<div id=\"authors\">\n",
       "\n",
       "K. A. Crotts, et al. -- incl., <mark>G. Chauvin</mark>\n",
       "\n",
       "</div>\n",
       "<div id=\"abstract\">\n",
       "\n",
       "**Abstract:** The young M-star TWA 7 hosts a bright and near face-on debris disk, which has been imaged from the optical to the submillimeter. The disk displays multiple complex substructures such as three disk components, a large dust clump, and spiral arms, suggesting the presence of planets to actively sculpt these features. The evidence for planets in this disk was further strengthened with the recent detection of a point-source compatible with a Saturn-mass planet companion using JWST/MIRI at 11 $\\mu$ m, at the location a planet was predicted to reside based on the disk morphology. In this paper, we present new observations of the TWA 7 system with JWST/NIRCam in the F200W and F444W filters. The disk is detected at both wavelengths and presents many of the same substructures as previously imaged, although we do not robustly detect the southern spiral arm. Furthermore, we detect two faint potential companions in the F444W filter at the 2-3 $\\sigma$ level. While one of these companions needs further followup to determine its nature, the other one coincides with the location of the planet candidate imaged with MIRI, providing further evidence that this source is a sub-Jupiter mass planet companion rather than a background galaxy. Such discoveries make TWA 7 only the second system, after $\\beta$ Pictoris, in which a planet predicted by the debris disk morphology has been detected.\n",
       "\n",
       "</div>\n",
       "\n",
       "<div id=\"div_fig1\">\n",
       "\n",
       "<img src=\"tmp_2506.19932/./figures/twa7_deconv2.png\" alt=\"Fig1.1\" width=\"50%\"/><img src=\"tmp_2506.19932/./figures/radial_sb.png\" alt=\"Fig1.2\" width=\"50%\"/>\n",
       "\n",
       "**Figure 1. -** **Top Left:** MCRDI reduction of TWA 7 in the F200W filter. **Top Right:** The same reduction as in the left panel, but deconvolved. Arrows and labels point to the three ring components that make up the disk, as well as the dip in surface brightness observed in the northwest region of Ring 2. The dashed circle represents the location of the second ring component. **Bottom:** Radial surface brightness profile of the TWA 7 disk between our convolved (light blue) and deconvolved (orange) F200W images compared to the 2017 SPHERE data (black). The three ring locations are highlighted. (*fig:deconv_twa7*)\n",
       "\n",
       "</div>\n",
       "<div id=\"div_fig2\">\n",
       "\n",
       "<img src=\"tmp_2506.19932/./figures/disk_structure.png\" alt=\"Fig2\" width=\"100%\"/>\n",
       "\n",
       "**Figure 2. -**  Residual maps of TWA 7 in the F200W scaled between -0.5 and 0.5 MJy/sr. **Top:** Red contours represent a surface brightness of 0.12 MJy/sr and blue contours represent a surface brightness of -0.12 MJy/sr in the F200W to highlight the positive and negative residuals that remain after the disk model subtraction. The lower left dashed line represents the location of the dust clump as observed by NIRCam. **Bottom:** Contours represent a surface brightness of 7 and 20 $\\mu$Jy arcsec$^{-2}$(0.30 and 0.85 MJy/sr) in the model-subtracted SPHERE data to highlight the location of the spiral arms and dust clump  ([Ren, Choquet and Perrin 2021]()) . The lower left dashed lines represent the location of the dust clump as observed by NIRCam (transparent) and SPHERE (opaque), while the curved dashed line just south of the star represents the location of the spiral arm as observed with SPHERE. We label the residuals similar to [Ren, Choquet and Perrin (2021)](), where S1 and S2 are the south and north spiral arms observed with SPHERE and Clump refers to the southeast dust clump. (*fig:twa7*)\n",
       "\n",
       "</div>\n",
       "<div id=\"div_fig3\">\n",
       "\n",
       "<img src=\"tmp_2506.19932/./figures/updated_dip_loc.png\" alt=\"Fig3\" width=\"100%\"/>\n",
       "\n",
       "**Figure 3. -** **Top:** Azimuthal surface brightness of Ring 2 as a function of angle in degrees normalized between 0 and 1, although we vertically separate each profile for easier viewing. The surface brightness is measured for our F200W data, as well as the 1998 NICMOS, 2017 SPHERE and 2019 STIS data from [Choquet, Perrin and Chen (2016)]() and  ([Ren, Choquet and Perrin 2021]()) . Additionally we include the best fit cosine curves and colored dashed lines representing the measured dip location. The grey dashed lines represent the dip location measured in [Ren, Choquet and Perrin (2021)]() for reference. **Bottom:** Year each dataset were taken, versus the angular separation of the dip in degrees. The black dashed line and grey shaded region represents the fit with uncertainties to the data measured in [Ren, Choquet and Perrin (2021)](). The three colored lines represent the following scenarios; 1) no change in the dip location (solid purple), 2) a rotation of $0\\fdg74$ yr$^{-1}$ based on the best fit linear model to all four data point (dashed pink), and 3) a rotation of $1\\fdg20$ yr$^{-1}$ based on the expected rotation of Saturn mass planet at $\\sim1$\\farcs$5$(solid pink-gold). All errorbars represent 1$\\sigma$ uncertainties. (*fig:sb_ring2*)\n",
       "\n",
       "</div><div id=\"qrcode\"><img src=https://api.qrserver.com/v1/create-qr-code/?size=100x100&data=\"https://arxiv.org/abs/2506.19932\"></div>"
      ],
      "text/plain": [
       "<IPython.core.display.Markdown object>"
      ]
     },
     "metadata": {},
     "output_type": "display_data"
    },
    {
     "data": {
      "text/markdown": [
       "<div class=\"macros\" style=\"visibility:hidden;\">\n",
       "$\\newcommand{\\ensuremath}{}$\n",
       "$\\newcommand{\\xspace}{}$\n",
       "$\\newcommand{\\object}[1]{\\texttt{#1}}$\n",
       "$\\newcommand{\\farcs}{{.}''}$\n",
       "$\\newcommand{\\farcm}{{.}'}$\n",
       "$\\newcommand{\\arcsec}{''}$\n",
       "$\\newcommand{\\arcmin}{'}$\n",
       "$\\newcommand{\\ion}[2]{#1#2}$\n",
       "$\\newcommand{\\textsc}[1]{\\textrm{#1}}$\n",
       "$\\newcommand{\\hl}[1]{\\textrm{#1}}$\n",
       "$\\newcommand{\\footnote}[1]{}$\n",
       "$\\newcommand{\\vdag}{(v)^\\dagger}$\n",
       "$\\newcommand$\n",
       "$\\newcommand$\n",
       "$\\newcommand{\\arraystretch}{1.4}$\n",
       "$\\newcommand{\\arraystretch}{1.1}$\n",
       "$\\newcommand{\\arraystretch}{1.1}$</div>\n",
       "\n",
       "\n",
       "\n",
       "<div id=\"title\">\n",
       "\n",
       "# Investigating silicate, carbon, and water in the diffuse interstellar medium:\\ the first shots from WISCI\n",
       "\n",
       "</div>\n",
       "<div id=\"comments\">\n",
       "\n",
       "[![arXiv](https://img.shields.io/badge/arXiv-2506.20033-b31b1b.svg)](https://arxiv.org/abs/2506.20033)<mark>Appeared on: 2025-06-26</mark> -  _Accepted for publication in ApJ_\n",
       "\n",
       "</div>\n",
       "<div id=\"authors\">\n",
       "\n",
       "S. Zeegers, et al. -- incl., <mark>J. Bouwman</mark>, <mark>T. Henning</mark>\n",
       "\n",
       "</div>\n",
       "<div id=\"abstract\">\n",
       "\n",
       "**Abstract:** The dusty interstellar medium (ISM) of the Milky Way is distributed in a complex, cloudy structure.It is fundamental to the radiation balance within the Milky Way, provides areaction surface to form complex molecules, and is the feedstock for future generations of stars and planets.The life cycle of interstellar dust is not completely understood, and neither are its structure nor composition.The abundance, composition, and structure of dust in the diffuse ISM can be determined by combining infrared, optical and ultraviolet spectroscopy. _JWST_ enables measurement of the faint absorption of ISM dust grains against bright stars at kiloparsec distances across the infrared spectrum.Here we present an overview of the project `Webb Investigation of Silicates, Carbons, and Ices' (WISCI) along with interpretation of two targets, GSC 08152-02121 and CPD-59 5831.Observations of 12 WISCI target stars were taken by _JWST_ , _the Hubble Space Telescope_ , Himalayan Chandra Telescope, and the Very Large Telescope. We use these to characterize the targets' spectral types and calculate their line-of-sight extinction parameters, $A_{\\rm V}$ and $R_{\\rm V}$ .We find absorption in the _JWST_ spectra of GSC 08152-02121, and CPD-59 5831 associated with carbonaceous dust around 3.4 and 6.2 $\\micron$ and amorphous silicates at 9.7 $\\micron$ . In GSC 08152-02121 we also find indications of absorption by trapped water around 3 $\\micron$ \\. This first look from WISCI demonstrates the line-of-sight variability within the sample, and the program's potential to identify and correlate features across ultraviolet to mid-infrared wavelengths.\n",
       "\n",
       "</div>\n",
       "\n",
       "<div id=\"div_fig1\">\n",
       "\n",
       "<img src=\"tmp_2506.20033/./2MASSJ085747plot_res_carbon34_2.png\" alt=\"Fig5.1\" width=\"50%\"/><img src=\"tmp_2506.20033/./2MASSJ150958plot_res_carbon34_2.png\" alt=\"Fig5.2\" width=\"50%\"/>\n",
       "\n",
       "**Figure 5. -** NIRCam spectra of the 3.3 \\micron aromatic and 3.4 \\micron aliphatic hydrocarbon features for GSC 08152-02121 (left) and CPD-59 5831 (right). In the top panel we show the observed spectrum in black, blue dots denote data points from which the continuum was calculated, and the fitted continuum as a green line. The middle panel shows the Gaussian components of the dust model as orange (aliphatic) and purple (aromatic) dashed lines, with the total denoted by a red solid line, all in units of optical depth. The stellar line (Hydrogen Pfund-$\\delta$) contaminating the model fit at 3.3 $\\micron$ is denoted by a cyan solid line. The gray contours behind the data indicate the $1\\sigma$ statistical uncertainty derived from the continuum. The bottom panel shows the significance of the residuals ($\\pm2.5\\sigma$) after subtraction of the continuum and line model, and normalization by the standard deviation.\n",
       "    Shortward of the 3.3 $\\micron$ aromatic and 3.4 $\\micron$ aliphatic hydrocarbon features the GSC 08152-02121 spectrum shows an absorption feature which may be attributed to trapped water. No comparable absorption is seen at the same wavelength range in the CPD-59 5831 spectrum. (*fig:c34_absorption*)\n",
       "\n",
       "</div>\n",
       "<div id=\"div_fig2\">\n",
       "\n",
       "<img src=\"tmp_2506.20033/./Topdown_IntegExt_wsun_10lac.png\" alt=\"Fig2.1\" width=\"50%\"/><img src=\"tmp_2506.20033/./Gaia_galaxy3.png\" alt=\"Fig2.2\" width=\"50%\"/>\n",
       "\n",
       "**Figure 2. -** _Top_: Extinction map of the local ISM viewed top-down taken from \\citet{Dharmawardena24}. The Sun (yellow circle) is at $X$, $Y$ = 0, 0 and the Galactic centre is at $X$, $Y$ = 8.2, 0 kpc. The twelve targets (cf. Table \\ref{tab:sources}) are represented by colored stars. The two stars analyzed in this paper are shown in red and the other ten are shown in blue. The small gray star near the center of this figure indicates 10 Lac ($A_{\\rm V} = 0.21 $mag), which was used as a reference star. The contours represent extinction in steps of 0.2 mag.\n",
       "_Bottom_: Dust map of the Milky Way galactic plane derived from Gaia photometry (see \\citet{Andrae:23} for more details) with the twelve targets following the same color scheme as above. Note that some of the targets overlap in this projection.\n",
       " (*fig:map*)\n",
       "\n",
       "</div>\n",
       "<div id=\"div_fig3\">\n",
       "\n",
       "<img src=\"tmp_2506.20033/./2MASSJ085747plot_res_carbon62_0.png\" alt=\"Fig6.1\" width=\"50%\"/><img src=\"tmp_2506.20033/./2MASSJ150958plot_res_carbon62_0.png\" alt=\"Fig6.2\" width=\"50%\"/>\n",
       "\n",
       "**Figure 6. -** Here we show the MIRI MRS spectrum around 6.2 \\micron for GSC 08152-02121 (left) and CPD-59 5831 (right). In the top panel we show the observed spectrum in black with the fitted continuum as a green line. Blue data points denote the parts of the spectrum used to determine the continuum. An unidentified feature is present around 5.8 \\micron which is excluded from the continuum. The middle panel shows the Gaussian dust components of the model fit in units of optical depth. The two components are shown by dashed lines and the total dust component is shown by the red line. The cyan line indicates the position and strength of a stellar line (Hydrogen $n=7$ to $n=13$). The gray contours behind the data indicate the $1\\sigma$ statistical uncertainty derived from the continuum. The bottom panel shows the significance of the residuals ($\\pm5\\sigma$) after subtraction of the continuum and line model, and normalization by the standard deviation. (*fig:c62_absorption*)\n",
       "\n",
       "</div><div id=\"qrcode\"><img src=https://api.qrserver.com/v1/create-qr-code/?size=100x100&data=\"https://arxiv.org/abs/2506.20033\"></div>"
      ],
      "text/plain": [
       "<IPython.core.display.Markdown object>"
      ]
     },
     "metadata": {},
     "output_type": "display_data"
    },
    {
     "data": {
      "text/markdown": [
       "<div class=\"macros\" style=\"visibility:hidden;\">\n",
       "$\\newcommand{\\ensuremath}{}$\n",
       "$\\newcommand{\\xspace}{}$\n",
       "$\\newcommand{\\object}[1]{\\texttt{#1}}$\n",
       "$\\newcommand{\\farcs}{{.}''}$\n",
       "$\\newcommand{\\farcm}{{.}'}$\n",
       "$\\newcommand{\\arcsec}{''}$\n",
       "$\\newcommand{\\arcmin}{'}$\n",
       "$\\newcommand{\\ion}[2]{#1#2}$\n",
       "$\\newcommand{\\textsc}[1]{\\textrm{#1}}$\n",
       "$\\newcommand{\\hl}[1]{\\textrm{#1}}$\n",
       "$\\newcommand{\\footnote}[1]{}$\n",
       "$\\newcommand{\\arraystretch}{.8}$\n",
       "$\\newcommand{\\arraystretch}{.8}$\n",
       "$\\newcommand{\\arraystretch}{0.1}$\n",
       "$\\newcommand{\\arraystretch}{0.1}$</div>\n",
       "\n",
       "\n",
       "\n",
       "<div id=\"title\">\n",
       "\n",
       "# Signatures of planets and Galactic subpopulations in solar analogs: Precise chemical abundances with neural networks\n",
       "\n",
       "</div>\n",
       "<div id=\"comments\">\n",
       "\n",
       "[![arXiv](https://img.shields.io/badge/arXiv-2506.20345-b31b1b.svg)](https://arxiv.org/abs/2506.20345)<mark>Appeared on: 2025-06-26</mark> -  _Accepted by A&A_\n",
       "\n",
       "</div>\n",
       "<div id=\"authors\">\n",
       "\n",
       "<mark>G. Martos</mark>, J. Meléndez, L. Spina, a. S. Lucatello\n",
       "\n",
       "</div>\n",
       "<div id=\"abstract\">\n",
       "\n",
       "**Abstract:**            The aim of this work is to obtain precise atmospheric parameters and chemical abundances automatically for solar twins and analogs to find signatures of exoplanets, as well as to assess how peculiar the Sun is compared to these stars and to analyze any possible fine structures in the Galactic thin disk. We developed a neural network (NN) algorithm using Python to obtain these parameters for a sample of 99 solar twins and solar analogs previously studied in the literature from normalized high-quality spectra from HARPS, with a resolving power of R $\\sim$ 115000 and a signal-to-noise ratio S/N > 400. We obtained precise atmospheric parameters and abundance ratios [X/Fe] of 20 chemical elements (Li, C, O, Na, Mg, Al, Si, S, Ca, Sc, Ti, V, Cr, Mn, Co, Ni, Cu, Zn, Y, and Ba). The results are in line with the literature, with average differences and standard deviations of $(2 \\pm 27)$ K for T$_{\\rm eff}$, $(0.00 \\pm 0.06)$ dex for log g, $(0.00 \\pm 0.02)$ dex for [Fe/H], $(-0.01 \\pm 0.05)$ km s$^{-1}$ for microturbulence velocity, $(0.02 \\pm 0.08)$ km s$^{-1}$ for the macro turbulence velocity, and $(-0.12 \\pm 0.26)$ km s$^{-1}$ for the projected rotational velocity (vsin$i$). Regarding the chemical abundances, most of the elements agree with the literature within 0.01 - 0.02 dex. The abundances were corrected from the effects of the Galactic chemical evolution and analyzed with the condensation temperature (T$_{\\rm cond}$) to verify whether the stars presented depletion of refractories compared to volatiles. We found that the Sun is more depleted in refractory elements compared to volatiles than 89% of the studied solar analogs, with a significance of 9.5$\\sigma$ when compared to the stars without detected exoplanets. We also found the possible presence of three subpopulations in the solar analogs: one Cu-rich, one Cu-poor, and the last one slightly older and poor in Na.         \n",
       "\n",
       "</div>\n",
       "\n",
       "<div id=\"div_fig1\">\n",
       "\n",
       "<img src=\"tmp_2506.20345/./fig/err_elem_sigma_bedell.png\" alt=\"Fig1\" width=\"100%\"/>\n",
       "\n",
       "**Figure 1. -** Median error of the abundance ratios [X/Fe] of the elements versus the standard deviation of the residuals when comparing our automatic abundances with Bedell_2018 (*fig:err_elem_sigma_bedell*)\n",
       "\n",
       "</div>\n",
       "<div id=\"div_fig2\">\n",
       "\n",
       "<img src=\"tmp_2506.20345/./fig/thickdisk_feh.png\" alt=\"Fig2\" width=\"100%\"/>\n",
       "\n",
       "**Figure 2. -** Separation of the stars of the sample between thin and thick disk according to their [Mg/Fe] ratio in relation to [Fe/H]. The stars above the red line and represented by blue crosses belong to the thick disk. (*fig:sep_disks*)\n",
       "\n",
       "</div>\n",
       "<div id=\"div_fig3\">\n",
       "\n",
       "<img src=\"tmp_2506.20345/./fig/resid_Z.png\" alt=\"Fig3\" width=\"100%\"/>\n",
       "\n",
       "**Figure 3. -** Standard deviation of the residuals of the fit of [X/Fe] versus age and median error according to the atomic number (Z) of the elements. (*fig:std_Z*)\n",
       "\n",
       "</div><div id=\"qrcode\"><img src=https://api.qrserver.com/v1/create-qr-code/?size=100x100&data=\"https://arxiv.org/abs/2506.20345\"></div>"
      ],
      "text/plain": [
       "<IPython.core.display.Markdown object>"
      ]
     },
     "metadata": {},
     "output_type": "display_data"
    }
   ],
   "source": [
    "[display(Markdown(k[1])) for k in documents];"
   ]
  },
  {
   "cell_type": "markdown",
   "id": "873873a4",
   "metadata": {
    "papermill": {
     "duration": 0.005952,
     "end_time": "2025-06-26T04:22:17.555620",
     "exception": false,
     "start_time": "2025-06-26T04:22:17.549668",
     "status": "completed"
    },
    "tags": []
   },
   "source": [
    "# Create HTML index"
   ]
  },
  {
   "cell_type": "code",
   "execution_count": 10,
   "id": "cf665672",
   "metadata": {
    "execution": {
     "iopub.execute_input": "2025-06-26T04:22:17.568373Z",
     "iopub.status.busy": "2025-06-26T04:22:17.567963Z",
     "iopub.status.idle": "2025-06-26T04:22:17.578991Z",
     "shell.execute_reply": "2025-06-26T04:22:17.578431Z"
    },
    "papermill": {
     "duration": 0.018517,
     "end_time": "2025-06-26T04:22:17.580006",
     "exception": false,
     "start_time": "2025-06-26T04:22:17.561489",
     "status": "completed"
    },
    "tags": []
   },
   "outputs": [
    {
     "name": "stdout",
     "output_type": "stream",
     "text": [
      "544  publications files modified in the last 7 days.\n"
     ]
    }
   ],
   "source": [
    "from datetime import datetime, timedelta, timezone\n",
    "from glob import glob\n",
    "import os\n",
    "\n",
    "files = glob('_build/html/*.md')\n",
    "days = 7\n",
    "now = datetime.today()\n",
    "res = []\n",
    "for fk in files:\n",
    "    stat_result = os.stat(fk).st_ctime\n",
    "    modified = datetime.fromtimestamp(stat_result, tz=timezone.utc).replace(tzinfo=None)\n",
    "    delta = now.today() - modified\n",
    "    if delta <= timedelta(days=days):\n",
    "        res.append((delta.seconds, fk))\n",
    "res = [k[1] for k in reversed(sorted(res, key=lambda x:x[1]))]\n",
    "npub = len(res)\n",
    "print(len(res), f\" publications files modified in the last {days:d} days.\")\n",
    "# [ print('\\t', k) for k in res ];"
   ]
  },
  {
   "cell_type": "code",
   "execution_count": 11,
   "id": "015de740",
   "metadata": {
    "execution": {
     "iopub.execute_input": "2025-06-26T04:22:17.593137Z",
     "iopub.status.busy": "2025-06-26T04:22:17.592922Z",
     "iopub.status.idle": "2025-06-26T04:22:17.619177Z",
     "shell.execute_reply": "2025-06-26T04:22:17.618577Z"
    },
    "papermill": {
     "duration": 0.033943,
     "end_time": "2025-06-26T04:22:17.620131",
     "exception": false,
     "start_time": "2025-06-26T04:22:17.586188",
     "status": "completed"
    },
    "tags": []
   },
   "outputs": [
    {
     "name": "stdout",
     "output_type": "stream",
     "text": [
      "14  publications in the last 7 days.\n"
     ]
    }
   ],
   "source": [
    "import datetime\n",
    "from glob import glob\n",
    "\n",
    "def get_last_n_days(lst, days=1):\n",
    "    \"\"\" Get the documents from the last n days \"\"\"\n",
    "    sorted_lst = sorted(lst, key=lambda x: x[1], reverse=True)\n",
    "    for fname, date in sorted_lst:\n",
    "        if date >= str(datetime.date.today() - datetime.timedelta(days=days)):\n",
    "            yield fname\n",
    "\n",
    "def extract_appearance_dates(lst_file):\n",
    "    dates = []\n",
    "\n",
    "    def get_date(line):\n",
    "        return line\\\n",
    "            .split('Appeared on:')[-1]\\\n",
    "            .split('</mark>')[0].strip()\n",
    "\n",
    "    for fname in lst:\n",
    "        with open(fname, 'r') as f:\n",
    "            found_date = False\n",
    "            for line in f:\n",
    "                if not found_date:\n",
    "                    if \"Appeared on\" in line:\n",
    "                        found_date = True\n",
    "                        dates.append((fname, get_date(line)))\n",
    "                else:\n",
    "                    break\n",
    "    return dates\n",
    "\n",
    "from glob import glob\n",
    "lst = glob('_build/html/*md')\n",
    "days = 7\n",
    "dates = extract_appearance_dates(lst)\n",
    "res = list(get_last_n_days(dates, days))\n",
    "npub = len(res)\n",
    "print(len(res), f\" publications in the last {days:d} days.\")"
   ]
  },
  {
   "cell_type": "code",
   "execution_count": 12,
   "id": "52ca0208",
   "metadata": {
    "execution": {
     "iopub.execute_input": "2025-06-26T04:22:17.633929Z",
     "iopub.status.busy": "2025-06-26T04:22:17.633472Z",
     "iopub.status.idle": "2025-06-26T04:22:17.638420Z",
     "shell.execute_reply": "2025-06-26T04:22:17.637854Z"
    },
    "papermill": {
     "duration": 0.012852,
     "end_time": "2025-06-26T04:22:17.639433",
     "exception": false,
     "start_time": "2025-06-26T04:22:17.626581",
     "status": "completed"
    },
    "scrolled": false,
    "tags": []
   },
   "outputs": [],
   "source": [
    "def create_carousel(npub=4):\n",
    "    \"\"\" Generate the HTML code for a carousel with `npub` slides \"\"\"\n",
    "    carousel = [\"\"\"  <div class=\"carousel\" \"\"\",\n",
    "                \"\"\"       data-flickity='{ \"autoPlay\": 10000, \"adaptiveHeight\": true, \"resize\": true, \"wrapAround\": true, \"pauseAutoPlayOnHover\": true, \"groupCells\": 1 }' id=\"asyncTypeset\">\"\"\"\n",
    "                ]\n",
    "    \n",
    "    item_str = \"\"\"    <div class=\"carousel-cell\"> <div id=\"slide{k}\" class=\"md_view\">Content {k}</div> </div>\"\"\"\n",
    "    for k in range(1, npub + 1):\n",
    "        carousel.append(item_str.format(k=k))\n",
    "    carousel.append(\"  </div>\")\n",
    "    return '\\n'.join(carousel)\n",
    "\n",
    "def create_grid(npub=4):\n",
    "    \"\"\" Generate the HTML code for a flat grid with `npub` slides \"\"\"\n",
    "    grid = [\"\"\"  <div class=\"grid\"> \"\"\",\n",
    "                ]\n",
    "    \n",
    "    item_str = \"\"\"    <div class=\"grid-item\"> <div id=\"slide{k}\" class=\"md_view\">Content {k}</div> </div>\"\"\"\n",
    "    for k in range(1, npub + 1):\n",
    "        grid.append(item_str.format(k=k))\n",
    "    grid.append(\"  </div>\")\n",
    "    return '\\n'.join(grid)"
   ]
  },
  {
   "cell_type": "code",
   "execution_count": 13,
   "id": "a6eac5b6",
   "metadata": {
    "execution": {
     "iopub.execute_input": "2025-06-26T04:22:17.652623Z",
     "iopub.status.busy": "2025-06-26T04:22:17.652369Z",
     "iopub.status.idle": "2025-06-26T04:22:17.657706Z",
     "shell.execute_reply": "2025-06-26T04:22:17.657056Z"
    },
    "papermill": {
     "duration": 0.013164,
     "end_time": "2025-06-26T04:22:17.658789",
     "exception": false,
     "start_time": "2025-06-26T04:22:17.645625",
     "status": "completed"
    },
    "scrolled": false,
    "tags": []
   },
   "outputs": [],
   "source": [
    "carousel = create_carousel(npub)\n",
    "docs = ', '.join(['\"{0:s}\"'.format(k.split('/')[-1]) for k in res])\n",
    "slides = ', '.join([f'\"slide{k}\"' for k in range(1, npub + 1)])\n",
    "\n",
    "with open(\"daily_template.html\", \"r\") as tpl:\n",
    "    page = tpl.read()\n",
    "    page = page.replace(\"{%-- carousel:s --%}\", carousel)\\\n",
    "               .replace(\"{%-- suptitle:s --%}\",  \"7-day archives\" )\\\n",
    "               .replace(\"{%-- docs:s --%}\", docs)\\\n",
    "               .replace(\"{%-- slides:s --%}\", slides)\n",
    "    \n",
    "with open(\"_build/html/index_7days.html\", 'w') as fout:\n",
    "    fout.write(page)"
   ]
  },
  {
   "cell_type": "code",
   "execution_count": 14,
   "id": "adc1a1ec",
   "metadata": {
    "execution": {
     "iopub.execute_input": "2025-06-26T04:22:17.672210Z",
     "iopub.status.busy": "2025-06-26T04:22:17.671845Z",
     "iopub.status.idle": "2025-06-26T04:22:17.679462Z",
     "shell.execute_reply": "2025-06-26T04:22:17.678928Z"
    },
    "papermill": {
     "duration": 0.015285,
     "end_time": "2025-06-26T04:22:17.680442",
     "exception": false,
     "start_time": "2025-06-26T04:22:17.665157",
     "status": "completed"
    },
    "tags": []
   },
   "outputs": [
    {
     "name": "stdout",
     "output_type": "stream",
     "text": [
      "6  publications in the last day.\n"
     ]
    }
   ],
   "source": [
    "# redo for today\n",
    "days = 1\n",
    "res = list(get_last_n_days(dates, days))\n",
    "npub = len(res)\n",
    "print(len(res), f\" publications in the last day.\")\n",
    "\n",
    "carousel = create_carousel(npub)\n",
    "docs = ', '.join(['\"{0:s}\"'.format(k.split('/')[-1]) for k in res])\n",
    "slides = ', '.join([f'\"slide{k}\"' for k in range(1, npub + 1)])\n",
    "\n",
    "with open(\"daily_template.html\", \"r\") as tpl:\n",
    "    page = tpl.read()\n",
    "    page = page.replace(\"{%-- carousel:s --%}\", carousel)\\\n",
    "               .replace(\"{%-- suptitle:s --%}\",  \"Daily\" )\\\n",
    "               .replace(\"{%-- docs:s --%}\", docs)\\\n",
    "               .replace(\"{%-- slides:s --%}\", slides)\n",
    "    \n",
    "# print(carousel, docs, slides)\n",
    "# print(page)\n",
    "with open(\"_build/html/index_daily.html\", 'w') as fout:\n",
    "    fout.write(page)"
   ]
  },
  {
   "cell_type": "code",
   "execution_count": 15,
   "id": "00eece82",
   "metadata": {
    "execution": {
     "iopub.execute_input": "2025-06-26T04:22:17.694142Z",
     "iopub.status.busy": "2025-06-26T04:22:17.693622Z",
     "iopub.status.idle": "2025-06-26T04:22:17.700231Z",
     "shell.execute_reply": "2025-06-26T04:22:17.699677Z"
    },
    "papermill": {
     "duration": 0.014506,
     "end_time": "2025-06-26T04:22:17.701213",
     "exception": false,
     "start_time": "2025-06-26T04:22:17.686707",
     "status": "completed"
    },
    "scrolled": false,
    "tags": []
   },
   "outputs": [
    {
     "name": "stdout",
     "output_type": "stream",
     "text": [
      "6  6 publications selected.\n"
     ]
    }
   ],
   "source": [
    "# Create the flat grid of the last N papers (fixed number regardless of dates)\n",
    "from itertools import islice \n",
    "\n",
    "npub = 6\n",
    "res = [k[0] for k in (islice(reversed(sorted(dates, key=lambda x: x[1])), 6))]\n",
    "print(len(res), f\" {npub} publications selected.\")\n",
    "\n",
    "grid = create_grid(npub)\n",
    "docs = ', '.join(['\"{0:s}\"'.format(k.split('/')[-1]) for k in res])\n",
    "slides = ', '.join([f'\"slide{k}\"' for k in range(1, npub + 1)])\n",
    "\n",
    "with open(\"grid_template.html\", \"r\") as tpl:\n",
    "    page = tpl.read()\n",
    "    page = page.replace(\"{%-- grid-content:s --%}\", grid)\\\n",
    "               .replace(\"{%-- suptitle:s --%}\",  f\"Last {npub:,d} papers\" )\\\n",
    "               .replace(\"{%-- docs:s --%}\", docs)\\\n",
    "               .replace(\"{%-- slides:s --%}\", slides)\n",
    "    \n",
    "# print(grid, docs, slides)\n",
    "# print(page)\n",
    "with open(\"_build/html/index_npub_grid.html\", 'w') as fout:\n",
    "    fout.write(page)"
   ]
  }
 ],
 "metadata": {
  "kernelspec": {
   "display_name": "Python 3 (ipykernel)",
   "language": "python",
   "name": "python3"
  },
  "language_info": {
   "codemirror_mode": {
    "name": "ipython",
    "version": 3
   },
   "file_extension": ".py",
   "mimetype": "text/x-python",
   "name": "python",
   "nbconvert_exporter": "python",
   "pygments_lexer": "ipython3",
   "version": "3.9.22"
  },
  "papermill": {
   "default_parameters": {},
   "duration": 112.700665,
   "end_time": "2025-06-26T04:22:17.923864",
   "environment_variables": {},
   "exception": null,
   "input_path": "MPIA daily digest.ipynb",
   "output_path": "log.ipynb",
   "parameters": {},
   "start_time": "2025-06-26T04:20:25.223199",
   "version": "2.6.0"
  },
  "vscode": {
   "interpreter": {
    "hash": "aee8b7b246df8f9039afb4144a1f6fd8d2ca17a180786b69acc140d282b71a49"
   }
  },
  "widgets": {
   "application/vnd.jupyter.widget-state+json": {
    "state": {
     "0b8b5a6a628c42dda5e480b0d892aec2": {
      "model_module": "@jupyter-widgets/base",
      "model_module_version": "2.0.0",
      "model_name": "LayoutModel",
      "state": {
       "_model_module": "@jupyter-widgets/base",
       "_model_module_version": "2.0.0",
       "_model_name": "LayoutModel",
       "_view_count": null,
       "_view_module": "@jupyter-widgets/base",
       "_view_module_version": "2.0.0",
       "_view_name": "LayoutView",
       "align_content": null,
       "align_items": null,
       "align_self": null,
       "border_bottom": null,
       "border_left": null,
       "border_right": null,
       "border_top": null,
       "bottom": null,
       "display": null,
       "flex": null,
       "flex_flow": null,
       "grid_area": null,
       "grid_auto_columns": null,
       "grid_auto_flow": null,
       "grid_auto_rows": null,
       "grid_column": null,
       "grid_gap": null,
       "grid_row": null,
       "grid_template_areas": null,
       "grid_template_columns": null,
       "grid_template_rows": null,
       "height": null,
       "justify_content": null,
       "justify_items": null,
       "left": null,
       "margin": null,
       "max_height": null,
       "max_width": null,
       "min_height": null,
       "min_width": null,
       "object_fit": null,
       "object_position": null,
       "order": null,
       "overflow": null,
       "padding": null,
       "right": null,
       "top": null,
       "visibility": null,
       "width": null
      }
     },
     "183967143a8d4a59a141212486e52e7e": {
      "model_module": "@jupyter-widgets/controls",
      "model_module_version": "2.0.0",
      "model_name": "HTMLModel",
      "state": {
       "_dom_classes": [],
       "_model_module": "@jupyter-widgets/controls",
       "_model_module_version": "2.0.0",
       "_model_name": "HTMLModel",
       "_view_count": null,
       "_view_module": "@jupyter-widgets/controls",
       "_view_module_version": "2.0.0",
       "_view_name": "HTMLView",
       "description": "",
       "description_allow_html": false,
       "layout": "IPY_MODEL_c9cce35139034fd28fd3ee7821ec3710",
       "placeholder": "​",
       "style": "IPY_MODEL_fc625a248a8d4958b17c44b014711505",
       "tabbable": null,
       "tooltip": null,
       "value": " 8/8 [01:23&lt;00:00,  9.35s/it]"
      }
     },
     "9f601dc1105a4edc8e63feef4064ec88": {
      "model_module": "@jupyter-widgets/controls",
      "model_module_version": "2.0.0",
      "model_name": "ProgressStyleModel",
      "state": {
       "_model_module": "@jupyter-widgets/controls",
       "_model_module_version": "2.0.0",
       "_model_name": "ProgressStyleModel",
       "_view_count": null,
       "_view_module": "@jupyter-widgets/base",
       "_view_module_version": "2.0.0",
       "_view_name": "StyleView",
       "bar_color": null,
       "description_width": ""
      }
     },
     "b3d1bb0f2c0b432fa3184047a3b5742f": {
      "model_module": "@jupyter-widgets/controls",
      "model_module_version": "2.0.0",
      "model_name": "HTMLStyleModel",
      "state": {
       "_model_module": "@jupyter-widgets/controls",
       "_model_module_version": "2.0.0",
       "_model_name": "HTMLStyleModel",
       "_view_count": null,
       "_view_module": "@jupyter-widgets/base",
       "_view_module_version": "2.0.0",
       "_view_name": "StyleView",
       "background": null,
       "description_width": "",
       "font_size": null,
       "text_color": null
      }
     },
     "b9720a7720f947ccb035f465ecd85676": {
      "model_module": "@jupyter-widgets/controls",
      "model_module_version": "2.0.0",
      "model_name": "HBoxModel",
      "state": {
       "_dom_classes": [],
       "_model_module": "@jupyter-widgets/controls",
       "_model_module_version": "2.0.0",
       "_model_name": "HBoxModel",
       "_view_count": null,
       "_view_module": "@jupyter-widgets/controls",
       "_view_module_version": "2.0.0",
       "_view_name": "HBoxView",
       "box_style": "",
       "children": [
        "IPY_MODEL_d265123595c240c0b6eb4cd64d1300d7",
        "IPY_MODEL_ed19113ccab14772a7c0f86702abd2b6",
        "IPY_MODEL_183967143a8d4a59a141212486e52e7e"
       ],
       "layout": "IPY_MODEL_fd8dbdec20494e98be23d456459f662d",
       "tabbable": null,
       "tooltip": null
      }
     },
     "c9cce35139034fd28fd3ee7821ec3710": {
      "model_module": "@jupyter-widgets/base",
      "model_module_version": "2.0.0",
      "model_name": "LayoutModel",
      "state": {
       "_model_module": "@jupyter-widgets/base",
       "_model_module_version": "2.0.0",
       "_model_name": "LayoutModel",
       "_view_count": null,
       "_view_module": "@jupyter-widgets/base",
       "_view_module_version": "2.0.0",
       "_view_name": "LayoutView",
       "align_content": null,
       "align_items": null,
       "align_self": null,
       "border_bottom": null,
       "border_left": null,
       "border_right": null,
       "border_top": null,
       "bottom": null,
       "display": null,
       "flex": null,
       "flex_flow": null,
       "grid_area": null,
       "grid_auto_columns": null,
       "grid_auto_flow": null,
       "grid_auto_rows": null,
       "grid_column": null,
       "grid_gap": null,
       "grid_row": null,
       "grid_template_areas": null,
       "grid_template_columns": null,
       "grid_template_rows": null,
       "height": null,
       "justify_content": null,
       "justify_items": null,
       "left": null,
       "margin": null,
       "max_height": null,
       "max_width": null,
       "min_height": null,
       "min_width": null,
       "object_fit": null,
       "object_position": null,
       "order": null,
       "overflow": null,
       "padding": null,
       "right": null,
       "top": null,
       "visibility": null,
       "width": null
      }
     },
     "d265123595c240c0b6eb4cd64d1300d7": {
      "model_module": "@jupyter-widgets/controls",
      "model_module_version": "2.0.0",
      "model_name": "HTMLModel",
      "state": {
       "_dom_classes": [],
       "_model_module": "@jupyter-widgets/controls",
       "_model_module_version": "2.0.0",
       "_model_name": "HTMLModel",
       "_view_count": null,
       "_view_module": "@jupyter-widgets/controls",
       "_view_module_version": "2.0.0",
       "_view_name": "HTMLView",
       "description": "",
       "description_allow_html": false,
       "layout": "IPY_MODEL_f72bf7a312454eaca617046c4e65160d",
       "placeholder": "​",
       "style": "IPY_MODEL_b3d1bb0f2c0b432fa3184047a3b5742f",
       "tabbable": null,
       "tooltip": null,
       "value": "100%"
      }
     },
     "ed19113ccab14772a7c0f86702abd2b6": {
      "model_module": "@jupyter-widgets/controls",
      "model_module_version": "2.0.0",
      "model_name": "FloatProgressModel",
      "state": {
       "_dom_classes": [],
       "_model_module": "@jupyter-widgets/controls",
       "_model_module_version": "2.0.0",
       "_model_name": "FloatProgressModel",
       "_view_count": null,
       "_view_module": "@jupyter-widgets/controls",
       "_view_module_version": "2.0.0",
       "_view_name": "ProgressView",
       "bar_style": "success",
       "description": "",
       "description_allow_html": false,
       "layout": "IPY_MODEL_0b8b5a6a628c42dda5e480b0d892aec2",
       "max": 8.0,
       "min": 0.0,
       "orientation": "horizontal",
       "style": "IPY_MODEL_9f601dc1105a4edc8e63feef4064ec88",
       "tabbable": null,
       "tooltip": null,
       "value": 8.0
      }
     },
     "f72bf7a312454eaca617046c4e65160d": {
      "model_module": "@jupyter-widgets/base",
      "model_module_version": "2.0.0",
      "model_name": "LayoutModel",
      "state": {
       "_model_module": "@jupyter-widgets/base",
       "_model_module_version": "2.0.0",
       "_model_name": "LayoutModel",
       "_view_count": null,
       "_view_module": "@jupyter-widgets/base",
       "_view_module_version": "2.0.0",
       "_view_name": "LayoutView",
       "align_content": null,
       "align_items": null,
       "align_self": null,
       "border_bottom": null,
       "border_left": null,
       "border_right": null,
       "border_top": null,
       "bottom": null,
       "display": null,
       "flex": null,
       "flex_flow": null,
       "grid_area": null,
       "grid_auto_columns": null,
       "grid_auto_flow": null,
       "grid_auto_rows": null,
       "grid_column": null,
       "grid_gap": null,
       "grid_row": null,
       "grid_template_areas": null,
       "grid_template_columns": null,
       "grid_template_rows": null,
       "height": null,
       "justify_content": null,
       "justify_items": null,
       "left": null,
       "margin": null,
       "max_height": null,
       "max_width": null,
       "min_height": null,
       "min_width": null,
       "object_fit": null,
       "object_position": null,
       "order": null,
       "overflow": null,
       "padding": null,
       "right": null,
       "top": null,
       "visibility": null,
       "width": null
      }
     },
     "fc625a248a8d4958b17c44b014711505": {
      "model_module": "@jupyter-widgets/controls",
      "model_module_version": "2.0.0",
      "model_name": "HTMLStyleModel",
      "state": {
       "_model_module": "@jupyter-widgets/controls",
       "_model_module_version": "2.0.0",
       "_model_name": "HTMLStyleModel",
       "_view_count": null,
       "_view_module": "@jupyter-widgets/base",
       "_view_module_version": "2.0.0",
       "_view_name": "StyleView",
       "background": null,
       "description_width": "",
       "font_size": null,
       "text_color": null
      }
     },
     "fd8dbdec20494e98be23d456459f662d": {
      "model_module": "@jupyter-widgets/base",
      "model_module_version": "2.0.0",
      "model_name": "LayoutModel",
      "state": {
       "_model_module": "@jupyter-widgets/base",
       "_model_module_version": "2.0.0",
       "_model_name": "LayoutModel",
       "_view_count": null,
       "_view_module": "@jupyter-widgets/base",
       "_view_module_version": "2.0.0",
       "_view_name": "LayoutView",
       "align_content": null,
       "align_items": null,
       "align_self": null,
       "border_bottom": null,
       "border_left": null,
       "border_right": null,
       "border_top": null,
       "bottom": null,
       "display": null,
       "flex": null,
       "flex_flow": null,
       "grid_area": null,
       "grid_auto_columns": null,
       "grid_auto_flow": null,
       "grid_auto_rows": null,
       "grid_column": null,
       "grid_gap": null,
       "grid_row": null,
       "grid_template_areas": null,
       "grid_template_columns": null,
       "grid_template_rows": null,
       "height": null,
       "justify_content": null,
       "justify_items": null,
       "left": null,
       "margin": null,
       "max_height": null,
       "max_width": null,
       "min_height": null,
       "min_width": null,
       "object_fit": null,
       "object_position": null,
       "order": null,
       "overflow": null,
       "padding": null,
       "right": null,
       "top": null,
       "visibility": null,
       "width": null
      }
     }
    },
    "version_major": 2,
    "version_minor": 0
   }
  }
 },
 "nbformat": 4,
 "nbformat_minor": 5
}