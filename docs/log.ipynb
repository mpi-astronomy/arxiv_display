{
 "cells": [
  {
   "cell_type": "markdown",
   "id": "92bcb855",
   "metadata": {
    "papermill": {
     "duration": 0.003967,
     "end_time": "2024-08-30T04:10:22.418689",
     "exception": false,
     "start_time": "2024-08-30T04:10:22.414722",
     "status": "completed"
    },
    "tags": []
   },
   "source": [
    "# MPIA Arxiv on Deck 2\n",
    "\n",
    "Contains the steps to produce the paper extractions."
   ]
  },
  {
   "cell_type": "code",
   "execution_count": 1,
   "id": "3a0d6e11",
   "metadata": {
    "execution": {
     "iopub.execute_input": "2024-08-30T04:10:22.426454Z",
     "iopub.status.busy": "2024-08-30T04:10:22.425985Z",
     "iopub.status.idle": "2024-08-30T04:10:22.931889Z",
     "shell.execute_reply": "2024-08-30T04:10:22.931215Z"
    },
    "papermill": {
     "duration": 0.51175,
     "end_time": "2024-08-30T04:10:22.933659",
     "exception": false,
     "start_time": "2024-08-30T04:10:22.421909",
     "status": "completed"
    },
    "tags": []
   },
   "outputs": [],
   "source": [
    "# Imports\n",
    "import os\n",
    "from IPython.display import Markdown, display\n",
    "from tqdm.notebook import tqdm\n",
    "import warnings\n",
    "from PIL import Image \n",
    "\n",
    "# requires arxiv_on_deck_2\n",
    "\n",
    "from arxiv_on_deck_2.arxiv2 import (get_new_papers, \n",
    "                                    get_paper_from_identifier,\n",
    "                                    retrieve_document_source, \n",
    "                                    get_markdown_badge)\n",
    "from arxiv_on_deck_2 import (latex,\n",
    "                             latex_bib,\n",
    "                             mpia,\n",
    "                             highlight_authors_in_list)\n",
    "\n",
    "# Sometimes images are really big\n",
    "Image.MAX_IMAGE_PIXELS = 1000000000 "
   ]
  },
  {
   "cell_type": "code",
   "execution_count": 2,
   "id": "22aa9d44",
   "metadata": {
    "execution": {
     "iopub.execute_input": "2024-08-30T04:10:22.941627Z",
     "iopub.status.busy": "2024-08-30T04:10:22.940937Z",
     "iopub.status.idle": "2024-08-30T04:10:22.946740Z",
     "shell.execute_reply": "2024-08-30T04:10:22.946071Z"
    },
    "papermill": {
     "duration": 0.011319,
     "end_time": "2024-08-30T04:10:22.948203",
     "exception": false,
     "start_time": "2024-08-30T04:10:22.936884",
     "status": "completed"
    },
    "tags": []
   },
   "outputs": [],
   "source": [
    "# Some useful definitions.\n",
    "\n",
    "class AffiliationWarning(UserWarning):\n",
    "    pass\n",
    "\n",
    "class AffiliationError(RuntimeError):\n",
    "    pass\n",
    "\n",
    "def validation(source: str):\n",
    "    \"\"\"Raises error paper during parsing of source file\n",
    "    \n",
    "    Allows checks before parsing TeX code.\n",
    "    \n",
    "    Raises AffiliationWarning\n",
    "    \"\"\"\n",
    "    check = mpia.affiliation_verifications(source, verbose=True)\n",
    "    if check is not True:\n",
    "        raise AffiliationError(\"mpia.affiliation_verifications: \" + check)\n",
    "\n",
    "        \n",
    "warnings.simplefilter('always', AffiliationWarning)\n",
    "\n",
    "\n",
    "def get_markdown_qrcode(paper_id: str):\n",
    "    \"\"\" Generate a qrcode to the arxiv page using qrserver.com\n",
    "    \n",
    "    :param paper: Arxiv paper\n",
    "    :returns: markdown text\n",
    "    \"\"\"\n",
    "    url = r\"https://api.qrserver.com/v1/create-qr-code/?size=100x100&data=\"\n",
    "    txt = f\"\"\"<img src={url}\"https://arxiv.org/abs/{paper_id}\">\"\"\"\n",
    "    txt = '<div id=\"qrcode\">' + txt + '</div>'\n",
    "    return txt"
   ]
  },
  {
   "cell_type": "markdown",
   "id": "14bd6310",
   "metadata": {
    "papermill": {
     "duration": 0.002973,
     "end_time": "2024-08-30T04:10:22.954303",
     "exception": false,
     "start_time": "2024-08-30T04:10:22.951330",
     "status": "completed"
    },
    "tags": []
   },
   "source": [
    "## get list of arxiv paper candidates\n",
    "\n",
    "We use the MPIA mitarbeiter list webpage from mpia.de to get author names\n",
    "We then get all new papers from Arxiv and match authors"
   ]
  },
  {
   "cell_type": "code",
   "execution_count": 3,
   "id": "7ea813a8",
   "metadata": {
    "execution": {
     "iopub.execute_input": "2024-08-30T04:10:22.961809Z",
     "iopub.status.busy": "2024-08-30T04:10:22.961322Z",
     "iopub.status.idle": "2024-08-30T04:10:43.350379Z",
     "shell.execute_reply": "2024-08-30T04:10:43.349712Z"
    },
    "papermill": {
     "duration": 20.394777,
     "end_time": "2024-08-30T04:10:43.352091",
     "exception": false,
     "start_time": "2024-08-30T04:10:22.957314",
     "status": "completed"
    },
    "tags": []
   },
   "outputs": [],
   "source": [
    "# deal with the author list and edge cases of people that cannot be consistent on their name  \n",
    "\n",
    "def filter_non_scientists(name: str) -> bool:\n",
    "    \"\"\" Loose filter on expected authorships\n",
    "\n",
    "    removing IT, administration, technical staff\n",
    "    :param name: name\n",
    "    :returns: False if name is not a scientist\n",
    "    \"\"\"\n",
    "    remove_list = ['Wolf', 'Licht', 'Binroth', 'Witzel', 'Jordan',\n",
    "                   'Zähringer', 'Scheerer', 'Hoffmann', 'Düe',\n",
    "                   'Hellmich', 'Enkler-Scharpegge', 'Witte-Nguy',\n",
    "                   'Dehen', 'Beckmann', 'Jager', 'Jäger'\n",
    "                  ]\n",
    "\n",
    "    for k in remove_list:\n",
    "        if k in name:\n",
    "            return False\n",
    "    return True\n",
    "\n",
    "def add_author_to_list(author_list: list) -> list:\n",
    "    \"\"\" Add author to list if not already in list\n",
    "    \n",
    "    :param author: author name\n",
    "    :param author_list: list of authors\n",
    "    :returns: updated list of authors\n",
    "    \"\"\"\n",
    "    add_list = ['T. Henning']\n",
    "\n",
    "    for author in add_list:\n",
    "        if author not in author_list:\n",
    "            author_list.append(author)\n",
    "    return author_list\n",
    "\n",
    "# get list from MPIA website\n",
    "# filter for non-scientists (mpia.get_mpia_mitarbeiter_list() does some filtering)\n",
    "mpia_authors = [k[1] for k in mpia.get_mpia_mitarbeiter_list() if filter_non_scientists(k[1])]\n",
    "# add some missing author because of inconsistencies in their MPIA name and author name on papers\n",
    "mpia_authors = add_author_to_list(mpia_authors)"
   ]
  },
  {
   "cell_type": "code",
   "execution_count": 4,
   "id": "2645e73a",
   "metadata": {
    "execution": {
     "iopub.execute_input": "2024-08-30T04:10:43.360162Z",
     "iopub.status.busy": "2024-08-30T04:10:43.359685Z",
     "iopub.status.idle": "2024-08-30T04:10:43.923280Z",
     "shell.execute_reply": "2024-08-30T04:10:43.922579Z"
    },
    "papermill": {
     "duration": 0.569335,
     "end_time": "2024-08-30T04:10:43.924801",
     "exception": false,
     "start_time": "2024-08-30T04:10:43.355466",
     "status": "completed"
    },
    "tags": []
   },
   "outputs": [
    {
     "name": "stdout",
     "output_type": "stream",
     "text": [
      "K. El-Badry  ->  K. El-Badry  |  ['K. El-Badry']\n",
      "G. Perotti  ->  G. Perotti  |  ['G. Perotti']\n",
      "T. Henning  ->  T. Henning  |  ['T. Henning']\n",
      "K. Schwarz  ->  K. Schwarz  |  ['K. Schwarz']\n",
      "J.-U. Pott  ->  J.-U. Pott  |  ['J.-U. Pott']\n",
      "S. Barboza  ->  S. Barboza  |  ['S. Barboza']\n",
      "P. Bizenberger  ->  P. Bizenberger  |  ['P. Bizenberger']\n",
      "A. Boné  ->  A. Boné  |  ['A. Boné']\n",
      "R. Hofferbert  ->  R. Hofferbert  |  ['R. Hofferbert']\n",
      "J. Jost  ->  J. Jost  |  ['J. Jost']\n",
      "F. Lang  ->  F. Lang  |  ['F. Lang']\n",
      "L. Mohr  ->  L. Mohr  |  ['L. Mohr']\n",
      "D. Muley  ->  D. Muley  |  ['D. Muley']\n",
      "H. Klahr  ->  H. Klahr  |  ['H. Klahr']\n",
      "Arxiv has 61 new papers today\n",
      "          4 with possible author matches\n"
     ]
    }
   ],
   "source": [
    "new_papers = get_new_papers()\n",
    "# add manual references\n",
    "add_paper_refs = []\n",
    "new_papers.extend([get_paper_from_identifier(k) for k in add_paper_refs])\n",
    "\n",
    "candidates = []\n",
    "for paperk in new_papers:\n",
    "    # Check author list with their initials\n",
    "    normed_author_list = [mpia.get_initials(k) for k in paperk['authors']]\n",
    "    hl_authors = highlight_authors_in_list(normed_author_list, mpia_authors, verbose=True)\n",
    "    matches = [(hl, orig) for hl, orig in zip(hl_authors, paperk['authors']) if 'mark' in hl]\n",
    "    paperk['authors'] = hl_authors\n",
    "    if matches:\n",
    "        # only select paper if an author matched our list\n",
    "        candidates.append(paperk)\n",
    "print(\"\"\"Arxiv has {0:,d} new papers today\"\"\".format(len(new_papers)))        \n",
    "print(\"\"\"          {0:,d} with possible author matches\"\"\".format(len(candidates)))"
   ]
  },
  {
   "cell_type": "markdown",
   "id": "3543b34a",
   "metadata": {
    "papermill": {
     "duration": 0.003294,
     "end_time": "2024-08-30T04:10:43.932676",
     "exception": false,
     "start_time": "2024-08-30T04:10:43.929382",
     "status": "completed"
    },
    "tags": []
   },
   "source": [
    "# Parse sources and generate relevant outputs\n",
    "\n",
    "From the candidates, we do the following steps:\n",
    "* get their tarball from ArXiv (and extract data)\n",
    "* find the main .tex file: find one with \\documentclass{...} (sometimes it's non trivial)\n",
    "* Check affiliations with :func:`validation`, which uses :func:`mpia.affiliation_verifications`\n",
    "* If passing the affiliations: we parse the .tex source\n",
    "   * inject sub-documents into the main (flatten the main document)\n",
    "   * parse structure, extract information (title, abstract, authors, figures...)\n",
    "   * handles `\\graphicspath` if provided\n",
    "* Generate the .md document."
   ]
  },
  {
   "cell_type": "code",
   "execution_count": 5,
   "id": "9576b79e",
   "metadata": {
    "execution": {
     "iopub.execute_input": "2024-08-30T04:10:43.940689Z",
     "iopub.status.busy": "2024-08-30T04:10:43.940141Z",
     "iopub.status.idle": "2024-08-30T04:11:17.261046Z",
     "shell.execute_reply": "2024-08-30T04:11:17.260233Z"
    },
    "papermill": {
     "duration": 33.327108,
     "end_time": "2024-08-30T04:11:17.262925",
     "exception": false,
     "start_time": "2024-08-30T04:10:43.935817",
     "status": "completed"
    },
    "scrolled": false,
    "tags": []
   },
   "outputs": [
    {
     "data": {
      "application/vnd.jupyter.widget-view+json": {
       "model_id": "1890a5df2a234f42b651417bfe93b598",
       "version_major": 2,
       "version_minor": 0
      },
      "text/plain": [
       "  0%|          | 0/4 [00:00<?, ?it/s]"
      ]
     },
     "metadata": {},
     "output_type": "display_data"
    },
    {
     "name": "stdout",
     "output_type": "stream",
     "text": [
      "Retrieving document from  https://arxiv.org/e-print/2408.16053\n"
     ]
    },
    {
     "name": "stdout",
     "output_type": "stream",
     "text": [
      "extracting tarball to tmp_2408.16053..."
     ]
    },
    {
     "name": "stdout",
     "output_type": "stream",
     "text": [
      " done.\n"
     ]
    },
    {
     "name": "stdout",
     "output_type": "stream",
     "text": [
      "K. El-Badry  ->  K. El-Badry  |  ['K. El-Badry']\n"
     ]
    },
    {
     "name": "stdout",
     "output_type": "stream",
     "text": [
      "Found 139 bibliographic references in tmp_2408.16053/main.bbl.\n",
      "Retrieving document from  https://arxiv.org/e-print/2408.16367\n"
     ]
    },
    {
     "name": "stdout",
     "output_type": "stream",
     "text": [
      "extracting tarball to tmp_2408.16367..."
     ]
    },
    {
     "name": "stdout",
     "output_type": "stream",
     "text": [
      " done.\n"
     ]
    },
    {
     "name": "stdout",
     "output_type": "stream",
     "text": [
      "Found 100 bibliographic references in tmp_2408.16367/main.bbl.\n",
      "Retrieving document from  https://arxiv.org/e-print/2408.16396\n",
      "Retrieving document from  https://arxiv.org/e-print/2408.16461\n"
     ]
    },
    {
     "name": "stderr",
     "output_type": "stream",
     "text": [
      "/tmp/ipykernel_2646/1211882699.py:51: LatexWarning: 2408.16396 did not run properly\n",
      "not a gzip file\n",
      "  warnings.warn(latex.LatexWarning(f\"{paper_id:s} did not run properly\\n\" +\n"
     ]
    },
    {
     "name": "stdout",
     "output_type": "stream",
     "text": [
      "extracting tarball to tmp_2408.16461..."
     ]
    },
    {
     "name": "stdout",
     "output_type": "stream",
     "text": [
      " done.\n"
     ]
    },
    {
     "name": "stdout",
     "output_type": "stream",
     "text": [
      "D. Muley  ->  D. Muley  |  ['D. Muley']\n",
      "H. Klahr  ->  H. Klahr  |  ['H. Klahr']\n"
     ]
    },
    {
     "name": "stdout",
     "output_type": "stream",
     "text": [
      "Found 63 bibliographic references in tmp_2408.16461/threetemp_spiral_aanda_rev1.bbl.\n",
      "syntax error in line 441: premature end of file\n"
     ]
    }
   ],
   "source": [
    "documents = []\n",
    "failed = []\n",
    "for paper in tqdm(candidates):\n",
    "    # debug crap\n",
    "    paper['identifier'] = paper['identifier'].lower().replace('arxiv:', '').replace(r'\\n', '').strip()\n",
    "    paper_id = paper['identifier']\n",
    "    \n",
    "    folder = f'tmp_{paper_id}'\n",
    "\n",
    "    try:\n",
    "        if not os.path.isdir(folder):\n",
    "            folder = retrieve_document_source(f\"{paper_id}\", f'tmp_{paper_id}')\n",
    "        \n",
    "        try:\n",
    "            doc = latex.LatexDocument(folder, validation=validation)    \n",
    "        except AffiliationError as affilerror:\n",
    "            msg = f\"ArXiv:{paper_id:s} is not an MPIA paper... \" + str(affilerror)\n",
    "            failed.append((paper, \"affiliation error: \" + str(affilerror) ))\n",
    "            continue\n",
    "        \n",
    "        # Hack because sometimes author parsing does not work well\n",
    "        if (len(doc.authors) != len(paper['authors'])):\n",
    "            doc._authors = paper['authors']\n",
    "        else:\n",
    "            # highlight authors (FIXME: doc.highlight_authors)\n",
    "            # done on arxiv paper already\n",
    "            doc._authors = highlight_authors_in_list(\n",
    "                [mpia.get_initials(k) for k in doc.authors], \n",
    "                mpia_authors, verbose=True)\n",
    "        if (doc.abstract) in (None, ''):\n",
    "            doc._abstract = paper['abstract']\n",
    "            \n",
    "        doc.comment = (get_markdown_badge(paper_id) + \n",
    "                       \"<mark>Appeared on: \" + paper['date'] + \"</mark> - \")\n",
    "        if paper['comments']:\n",
    "            doc.comment += \" _\" + paper['comments'] + \"_\"\n",
    "        \n",
    "        full_md = doc.generate_markdown_text()\n",
    "        \n",
    "        full_md += get_markdown_qrcode(paper_id)\n",
    "        \n",
    "        # replace citations\n",
    "        try:\n",
    "            bibdata = latex_bib.LatexBib.from_doc(doc)\n",
    "            full_md = latex_bib.replace_citations(full_md, bibdata)\n",
    "        except Exception as e:\n",
    "            print(e)\n",
    "        \n",
    "        documents.append((paper_id, full_md))\n",
    "    except Exception as e:\n",
    "        warnings.warn(latex.LatexWarning(f\"{paper_id:s} did not run properly\\n\" +\n",
    "                                         str(e)\n",
    "                                        ))\n",
    "        failed.append((paper, \"latex error \" + str(e)))"
   ]
  },
  {
   "cell_type": "markdown",
   "id": "2505a25c",
   "metadata": {
    "papermill": {
     "duration": 0.003863,
     "end_time": "2024-08-30T04:11:17.270859",
     "exception": false,
     "start_time": "2024-08-30T04:11:17.266996",
     "status": "completed"
    },
    "tags": []
   },
   "source": [
    "### Export the logs\n",
    "\n",
    "Throughout, we also keep track of the logs per paper. see `logs-{today date}.md` "
   ]
  },
  {
   "cell_type": "code",
   "execution_count": 6,
   "id": "d733828a",
   "metadata": {
    "execution": {
     "iopub.execute_input": "2024-08-30T04:11:17.280103Z",
     "iopub.status.busy": "2024-08-30T04:11:17.279586Z",
     "iopub.status.idle": "2024-08-30T04:11:17.294604Z",
     "shell.execute_reply": "2024-08-30T04:11:17.293940Z"
    },
    "papermill": {
     "duration": 0.021289,
     "end_time": "2024-08-30T04:11:17.295933",
     "exception": false,
     "start_time": "2024-08-30T04:11:17.274644",
     "status": "completed"
    },
    "scrolled": false,
    "tags": []
   },
   "outputs": [
    {
     "data": {
      "text/markdown": [
       "## Successful papers"
      ],
      "text/plain": [
       "<IPython.core.display.Markdown object>"
      ]
     },
     "metadata": {},
     "output_type": "display_data"
    },
    {
     "data": {
      "text/markdown": [
       "\n",
       "|||\n",
       "|---:|:---|\n",
       "| [![arXiv](https://img.shields.io/badge/arXiv-2408.16053-b31b1b.svg)](https://arxiv.org/abs/2408.16053) | **Cataclysmic Variables and AM CVn Binaries in SRG/eROSITA + Gaia: Volume Limited Samples, X-ray Luminosity Functions, and Space Densities**  |\n",
       "|| A. C. Rodriguez, et al. -- incl., <mark>K. El-Badry</mark> |\n",
       "|*Appeared on*| *2024-08-30*|\n",
       "|*Comments*| *Submitted to PASP, comments welcome*|\n",
       "|**Abstract**|            We present volume-limited samples of cataclysmic variables (CVs) and AM CVn binaries jointly selected from SRG/eROSITA eRASS1 and \\textit{Gaia} DR3 using an X-ray + optical color-color diagram (the ``X-ray Main Sequence\"). This tool identifies all CV subtypes, including magnetic and low-accretion rate systems, in contrast to most previous surveys. We find 23 CVs, 3 of which are AM CVns, out to 150 pc in the Western Galactic Hemisphere. Our 150 pc sample is spectroscopically verified and complete down to $L_X = 1.3\\times 10^{29} \\;\\textrm{erg s}^{-1}$ in the 0.2--2.3 keV band, and we also present CV candidates out to 300 pc and 1000 pc. We discovered two previously unknown systems in our 150 pc sample: the third nearest AM CVn and a magnetic period bouncer. We find the mean $L_X$ of CVs to be $\\langle L_X \\rangle \\approx 4.6\\times 10^{30} \\;\\textrm{erg s}^{-1}$, in contrast to previous surveys which yielded $\\langle L_X \\rangle \\sim 10^{31}-10^{32} \\;\\textrm{erg s}^{-1}$. We construct X-ray luminosity functions that, for the first time, flatten out at $L_X\\sim 10^{30} \\; \\textrm{erg s}^{-1}$. We find average number, mass, and luminosity densities of $\\rho_\\textrm{N, CV} = (3.7 \\pm 0.7) \\times 10^{-6} \\textrm{pc}^{-3}$, $\\rho_M = (5.0 \\pm 1.0) \\times 10^{-5} M_\\odot^{-1}$, and $\\rho_{L_X} = (2.3 \\pm 0.4) \\times 10^{26} \\textrm{erg s}^{-1}M_\\odot^{-1}$, respectively, in the solar neighborhood. Our uniform selection method also allows us to place meaningful estimates on the space density of AM CVns, $\\rho_\\textrm{N, AM CVn} = (5.5 \\pm 3.7) \\times 10^{-7} \\textrm{pc}^{-3}$. Magnetic CVs and period bouncers make up $35\\%$ and $25\\%$ of our sample, respectively. This work, through a novel discovery technique, shows that the observed number densities of CVs and AM CVns, as well as the fraction of period bouncers, are still in tension with population synthesis estimates.         |"
      ],
      "text/plain": [
       "[2408.16053] Cataclysmic Variables and AM CVn Binaries in SRG/eROSITA + Gaia: Volume Limited Samples, X-ray Luminosity Functions, and Space Densities\n",
       "\tA. C. Rodriguez, et al. -- incl., <mark>K. El-Badry</mark>"
      ]
     },
     "metadata": {},
     "output_type": "display_data"
    },
    {
     "data": {
      "text/markdown": [
       "\n",
       "|||\n",
       "|---:|:---|\n",
       "| [![arXiv](https://img.shields.io/badge/arXiv-2408.16367-b31b1b.svg)](https://arxiv.org/abs/2408.16367) | **Dust mineralogy and variability of the inner PDS 70 disk**  |\n",
       "|| H. Jang, et al. -- incl., <mark>G. Perotti</mark>, <mark>T. Henning</mark>, <mark>K. Schwarz</mark> |\n",
       "|*Appeared on*| *2024-08-30*|\n",
       "|*Comments*| *18 pages, 13 figures, Accepted by A&A*|\n",
       "|**Abstract**|            The inner disk of the young star PDS 70 may be a site of rocky planet formation, with two giant planets detected further out. Solids in the inner disk may inform us about the origin of this inner disk water and nature of the dust in the rocky planet-forming regions. We aim to constrain the chemical composition, lattice structure, and grain sizes of small silicate grains in the inner disk of PDS 70, observed both in JWST/MIRI MRS and Spitzer IRS. We use a dust fitting model, called DuCK, based on a two-layer disk model. We use Gaussian Random Field and Distribution of Hollow Spheres models to obtain two sets of dust opacities. The third set of opacities is obtained from aerosol spectroscopy. We use stoichiometric amorphous silicates, forsterite, and enstatite in our analysis. We also used iron-rich and magnesium-rich amorphous silicate and fayalite dust species to study the iron content. The Gaussian Random Field opacity agrees well with the observed spectrum. In both MIRI and Spitzer spectra, amorphous silicates are the dominant dust species. Crystalline silicates are dominated by iron-poor olivine. We do not find strong evidence for enstatite. Moreover, the MIRI spectrum indicates larger grain sizes than the Spitzer spectrum, indicating a time-variable small grain reservoir. The inner PDS 70 disk is dominated by a variable reservoir of optically thin warm amorphous silicates. We suggest that the small grains detected in the inner PDS 70 disk are likely transported inward from the outer disk as a result of filtration and fragmentation at the ice line. In addition, the variation between MIRI and Spitzer data can be explained by the grain growth over 15 years and a dynamical inner disk where opacity changes occur resulting from the highly variable hot innermost dust reservoir.         |"
      ],
      "text/plain": [
       "[2408.16367] Dust mineralogy and variability of the inner PDS 70 disk\n",
       "\tH. Jang, et al. -- incl., <mark>G. Perotti</mark>, <mark>T. Henning</mark>, <mark>K. Schwarz</mark>"
      ]
     },
     "metadata": {},
     "output_type": "display_data"
    },
    {
     "data": {
      "text/markdown": [
       "\n",
       "|||\n",
       "|---:|:---|\n",
       "| [![arXiv](https://img.shields.io/badge/arXiv-2408.16461-b31b1b.svg)](https://arxiv.org/abs/2408.16461) | **Can gap-edge illumination excite spirals in protoplanetary disks? Three-temperature radiation hydrodynamics and NIR image modelling**  |\n",
       "|| <mark>D. Muley</mark>, J. D. M. Fuksman, <mark>H. Klahr</mark> |\n",
       "|*Appeared on*| *2024-08-30*|\n",
       "|*Comments*| *11 pages, 9 figures incl. Appendices. A&A accepted; further comments and questions welcome*|\n",
       "|**Abstract**|            The advent of high-resolution, near-infrared instruments such as VLT/SPHERE and Gemini/GPI has helped uncover a wealth of substructure in planet-forming disks, including large, prominent spiral arms in MWC 758, SAO 206462, and V1247 Ori among others. In the classical theory of disk-planet interaction, these arms are consistent with Lindblad-resonance driving by multi-Jupiter-mass companions. Despite improving detection limits, evidence for such massive bodies in connection with spiral substructure has been inconclusive. In search of an alternative explanation, we use the PLUTO code to run 3D hydrodynamical simulations with two comparatively low planet masses (Saturn-mass, Jupiter-mass) and two thermodynamic prescriptions (three-temperature radiation hydrodynamics, and the more traditional $\\beta$-cooling) in a low-mass disk. In the radiative cases, an $m = 2$ mode, potentially attributable to the interaction of stellar radiation with gap-edge asymmetries, creates an azimuthal pressure gradient, which in turn gives rise to prominent spiral arms in the upper layers of the disk. Monte Carlo radiative transfer (MCRT) post-processing with RADMC3D reveals that in near-infrared scattered light, these gap-edge spirals are significantly more prominent than the traditional Lindblad spirals for planets in the mass range tested. Our results demonstrate that even intermediate-mass protoplanets -- less detectable, but more ubiquitous, than super-Jupiters -- are capable of indirectly inducing large-scale spiral disk features, and underscore the importance of including radiation physics in efforts to reproduce observations.         |"
      ],
      "text/plain": [
       "[2408.16461] Can gap-edge illumination excite spirals in protoplanetary disks? Three-temperature radiation hydrodynamics and NIR image modelling\n",
       "\t<mark>D. Muley</mark>, J. D. M. Fuksman, <mark>H. Klahr</mark>"
      ]
     },
     "metadata": {},
     "output_type": "display_data"
    },
    {
     "data": {
      "text/markdown": [
       "## Failed papers"
      ],
      "text/plain": [
       "<IPython.core.display.Markdown object>"
      ]
     },
     "metadata": {},
     "output_type": "display_data"
    },
    {
     "data": {
      "text/markdown": [
       "\n",
       "|||\n",
       "|---:|:---|\n",
       "| [![arXiv](https://img.shields.io/badge/arXiv-2408.16396-b31b1b.svg)](https://arxiv.org/abs/2408.16396) | **The MICADO first light imager for the ELT: overview and current Status**  |\n",
       "|| E. Sturm, et al. -- incl., <mark>J.-U. Pott</mark>, <mark>S. Barboza</mark>, <mark>P. Bizenberger</mark>, <mark>A. Boné</mark>, <mark>R. Hofferbert</mark>, <mark>J. Jost</mark>, <mark>F. Lang</mark>, <mark>L. Mohr</mark> |\n",
       "|*Appeared on*| *2024-08-30*|\n",
       "|*Comments*| *Proceedings of the SPIE, Volume 13096, id. 1309611 11 pp. (2024)*|\n",
       "|**Abstract**|            MICADO is a first light instrument for the Extremely Large Telescope (ELT), set to start operating later this decade. It will provide diffraction limited imaging, astrometry, high contrast imaging, and long slit spectroscopy at near-infrared wavelengths. During the initial phase operations, adaptive optics (AO) correction will be provided by its own natural guide star wavefront sensor. In its final configuration, that AO system will be retained and complemented by the laser guide star multi-conjugate adaptive optics module MORFEO (formerly known as MAORY). Among many other things, MICADO will study exoplanets, distant galaxies and stars, and investigate black holes, such as Sagittarius A* at the centre of the Milky Way. After their final design phase, most components of MICADO have moved on to the manufacturing and assembly phase. Here we summarize the final design of the instrument and provide an overview about its current manufacturing status and the timeline. Some lessons learned from the final design review process will be presented in order to help future instrumentation projects to cope with the challenges arising from the substantial differences between projects for 8-10m class telescopes (e.g. ESO-VLT) and the next generation Extremely Large Telescopes (e.g. ESO-ELT). Finally, the expected performance will be discussed in the context of the current landscape of astronomical observatories and instruments. For instance, MICADO will have similar sensitivity as the James Webb Space Telescope (JWST), but with six times the spatial resolution.         |\n",
       "|<p style=\"color:red\"> **ERROR** </p>| <p style=\"color:red\">latex error not a gzip file</p> |"
      ],
      "text/plain": [
       "<IPython.core.display.Markdown object>"
      ]
     },
     "metadata": {},
     "output_type": "display_data"
    }
   ],
   "source": [
    "import datetime\n",
    "today = str(datetime.date.today())\n",
    "logfile = f\"_build/html/logs/log-{today}.md\"\n",
    "\n",
    "\n",
    "with open(logfile, 'w') as logs:\n",
    "    # Success\n",
    "    logs.write(f'# Arxiv on Deck 2: Logs - {today}\\n\\n')\n",
    "    logs.write(\"\"\"* Arxiv had {0:,d} new papers\\n\"\"\".format(len(new_papers)))\n",
    "    logs.write(\"\"\"    * {0:,d} with possible author matches\\n\\n\"\"\".format(len(candidates)))\n",
    "    logs.write(\"## Sucessful papers\\n\\n\")\n",
    "    display(Markdown(\"## Successful papers\"))\n",
    "    success = [k[0] for k in documents]\n",
    "    for candid in candidates:\n",
    "        if candid['identifier'].split(':')[-1] in success:\n",
    "            display(candid)\n",
    "            logs.write(candid.generate_markdown_text() + '\\n\\n')\n",
    "\n",
    "    ## failed\n",
    "    logs.write(\"## Failed papers\\n\\n\")\n",
    "    display(Markdown(\"## Failed papers\"))\n",
    "    failed = sorted(failed, key=lambda x: x[1])\n",
    "    current_reason = \"\"\n",
    "    for paper, reason in failed:\n",
    "        if 'affiliation' in reason:\n",
    "            color = 'green'\n",
    "        else:\n",
    "            color = 'red'\n",
    "        data = Markdown(\n",
    "                paper.generate_markdown_text() + \n",
    "                f'\\n|<p style=\"color:{color:s}\"> **ERROR** </p>| <p style=\"color:{color:s}\">{reason:s}</p> |'\n",
    "               )\n",
    "        if reason != current_reason:\n",
    "            logs.write(f'### {reason:s} \\n\\n')\n",
    "            current_reason = reason\n",
    "        logs.write(data.data + '\\n\\n')\n",
    "        \n",
    "        # only display here the important errors (all in logs)\n",
    "        # if color in ('red',):\n",
    "        display(data)"
   ]
  },
  {
   "cell_type": "markdown",
   "id": "472d20ee",
   "metadata": {
    "papermill": {
     "duration": 0.004531,
     "end_time": "2024-08-30T04:11:17.305030",
     "exception": false,
     "start_time": "2024-08-30T04:11:17.300499",
     "status": "completed"
    },
    "tags": []
   },
   "source": [
    "## Export documents\n",
    "\n",
    "We now write the .md files and export relevant images"
   ]
  },
  {
   "cell_type": "code",
   "execution_count": 7,
   "id": "d426aed9",
   "metadata": {
    "execution": {
     "iopub.execute_input": "2024-08-30T04:11:17.315573Z",
     "iopub.status.busy": "2024-08-30T04:11:17.314973Z",
     "iopub.status.idle": "2024-08-30T04:11:17.322154Z",
     "shell.execute_reply": "2024-08-30T04:11:17.321503Z"
    },
    "papermill": {
     "duration": 0.014068,
     "end_time": "2024-08-30T04:11:17.323499",
     "exception": false,
     "start_time": "2024-08-30T04:11:17.309431",
     "status": "completed"
    },
    "tags": []
   },
   "outputs": [],
   "source": [
    "def export_markdown_summary(md: str, md_fname:str, directory: str):\n",
    "    \"\"\"Export MD document and associated relevant images\"\"\"\n",
    "    import os\n",
    "    import shutil\n",
    "    import re\n",
    "\n",
    "    if (os.path.exists(directory) and not os.path.isdir(directory)):\n",
    "        raise RuntimeError(f\"a non-directory file exists with name {directory:s}\")\n",
    "\n",
    "    if (not os.path.exists(directory)):\n",
    "        print(f\"creating directory {directory:s}\")\n",
    "        os.mkdir(directory)\n",
    "\n",
    "    fig_fnames = (re.compile(r'\\[Fig.*\\]\\((.*)\\)').findall(md) + \n",
    "                  re.compile(r'\\<img src=\"([^>\\s]*)\"[^>]*/>').findall(md))\n",
    "    print(\"found figures\", fig_fnames)\n",
    "    for fname in fig_fnames:\n",
    "        if 'http' in fname:\n",
    "            # No need to copy online figures\n",
    "            continue\n",
    "        if not os.path.exists(fname):\n",
    "            print(\"file not found\", fname)\n",
    "            continue\n",
    "        print(\"copying \", fname, \"to\", directory)\n",
    "        destdir = os.path.join(directory, os.path.dirname(fname))\n",
    "        destfname = os.path.join(destdir, os.path.basename(fname))\n",
    "        try:\n",
    "            os.makedirs(destdir)\n",
    "        except FileExistsError:\n",
    "            pass\n",
    "        shutil.copy(fname, destfname)\n",
    "    with open(os.path.join(directory, md_fname), 'w') as fout:\n",
    "        fout.write(md)\n",
    "    print(\"exported in \", os.path.join(directory, md_fname))\n",
    "    [print(\"    + \" + os.path.join(directory,fk)) for fk in fig_fnames]"
   ]
  },
  {
   "cell_type": "code",
   "execution_count": 8,
   "id": "014d04a4",
   "metadata": {
    "execution": {
     "iopub.execute_input": "2024-08-30T04:11:17.333869Z",
     "iopub.status.busy": "2024-08-30T04:11:17.333455Z",
     "iopub.status.idle": "2024-08-30T04:11:17.346139Z",
     "shell.execute_reply": "2024-08-30T04:11:17.345447Z"
    },
    "papermill": {
     "duration": 0.019509,
     "end_time": "2024-08-30T04:11:17.347515",
     "exception": false,
     "start_time": "2024-08-30T04:11:17.328006",
     "status": "completed"
    },
    "tags": []
   },
   "outputs": [
    {
     "name": "stdout",
     "output_type": "stream",
     "text": [
      "found figures ['tmp_2408.16053/./all_sys1.png', 'tmp_2408.16053/./all_sys2.png', 'tmp_2408.16053/./periodbouncer.png', 'tmp_2408.16053/./lum_dist.png']\n",
      "copying  tmp_2408.16053/./all_sys1.png to _build/html/\n",
      "copying  tmp_2408.16053/./all_sys2.png to _build/html/\n",
      "copying  tmp_2408.16053/./periodbouncer.png to _build/html/\n",
      "copying  tmp_2408.16053/./lum_dist.png to _build/html/\n",
      "exported in  _build/html/2408.16053.md\n",
      "    + _build/html/tmp_2408.16053/./all_sys1.png\n",
      "    + _build/html/tmp_2408.16053/./all_sys2.png\n",
      "    + _build/html/tmp_2408.16053/./periodbouncer.png\n",
      "    + _build/html/tmp_2408.16053/./lum_dist.png\n",
      "found figures ['tmp_2408.16367/./figures/MIRI_Spitzer_SpectraF98F113.png', 'tmp_2408.16367/./figures/QcurvesCompare.png', 'tmp_2408.16367/./figures/temperatures_vertical.png']\n",
      "copying  tmp_2408.16367/./figures/MIRI_Spitzer_SpectraF98F113.png to _build/html/\n",
      "copying  tmp_2408.16367/./figures/QcurvesCompare.png to _build/html/\n",
      "copying  tmp_2408.16367/./figures/temperatures_vertical.png to _build/html/\n",
      "exported in  _build/html/2408.16367.md\n",
      "    + _build/html/tmp_2408.16367/./figures/MIRI_Spitzer_SpectraF98F113.png\n",
      "    + _build/html/tmp_2408.16367/./figures/QcurvesCompare.png\n",
      "    + _build/html/tmp_2408.16367/./figures/temperatures_vertical.png\n",
      "found figures ['tmp_2408.16461/./dens_compare.png', 'tmp_2408.16461/./initial_conditions_upd2.png', 'tmp_2408.16461/./azimuthal_profiles.png']\n",
      "copying  tmp_2408.16461/./dens_compare.png to _build/html/\n",
      "copying  tmp_2408.16461/./initial_conditions_upd2.png to _build/html/\n",
      "copying  tmp_2408.16461/./azimuthal_profiles.png to _build/html/\n",
      "exported in  _build/html/2408.16461.md\n",
      "    + _build/html/tmp_2408.16461/./dens_compare.png\n",
      "    + _build/html/tmp_2408.16461/./initial_conditions_upd2.png\n",
      "    + _build/html/tmp_2408.16461/./azimuthal_profiles.png\n"
     ]
    }
   ],
   "source": [
    "for paper_id, md in documents:\n",
    "    export_markdown_summary(md, f\"{paper_id:s}.md\", '_build/html/')"
   ]
  },
  {
   "cell_type": "markdown",
   "id": "f087a0a7",
   "metadata": {
    "papermill": {
     "duration": 0.004602,
     "end_time": "2024-08-30T04:11:17.356839",
     "exception": false,
     "start_time": "2024-08-30T04:11:17.352237",
     "status": "completed"
    },
    "tags": []
   },
   "source": [
    "## Display the papers\n",
    "\n",
    "Not necessary but allows for a quick check."
   ]
  },
  {
   "cell_type": "code",
   "execution_count": 9,
   "id": "fd25f625",
   "metadata": {
    "execution": {
     "iopub.execute_input": "2024-08-30T04:11:17.367442Z",
     "iopub.status.busy": "2024-08-30T04:11:17.366870Z",
     "iopub.status.idle": "2024-08-30T04:11:17.374668Z",
     "shell.execute_reply": "2024-08-30T04:11:17.374082Z"
    },
    "papermill": {
     "duration": 0.014633,
     "end_time": "2024-08-30T04:11:17.376042",
     "exception": false,
     "start_time": "2024-08-30T04:11:17.361409",
     "status": "completed"
    },
    "scrolled": false,
    "tags": []
   },
   "outputs": [
    {
     "data": {
      "text/markdown": [
       "<div class=\"macros\" style=\"visibility:hidden;\">\n",
       "$\\newcommand{\\ensuremath}{}$\n",
       "$\\newcommand{\\xspace}{}$\n",
       "$\\newcommand{\\object}[1]{\\texttt{#1}}$\n",
       "$\\newcommand{\\farcs}{{.}''}$\n",
       "$\\newcommand{\\farcm}{{.}'}$\n",
       "$\\newcommand{\\arcsec}{''}$\n",
       "$\\newcommand{\\arcmin}{'}$\n",
       "$\\newcommand{\\ion}[2]{#1#2}$\n",
       "$\\newcommand{\\textsc}[1]{\\textrm{#1}}$\n",
       "$\\newcommand{\\hl}[1]{\\textrm{#1}}$\n",
       "$\\newcommand{\\footnote}[1]{}$\n",
       "$\\newcommand{\\vdag}{(v)^\\dagger}$\n",
       "$\\newcommand$\n",
       "$\\newcommand$</div>\n",
       "\n",
       "\n",
       "\n",
       "<div id=\"title\">\n",
       "\n",
       "# Cataclysmic Variables and AM CVn Binaries in SRG/eROSITA + _Gaia_: Volume Limited Samples, X-ray Luminosity Functions, and Space Densities\n",
       "\n",
       "</div>\n",
       "<div id=\"comments\">\n",
       "\n",
       "[![arXiv](https://img.shields.io/badge/arXiv-2408.16053-b31b1b.svg)](https://arxiv.org/abs/2408.16053)<mark>Appeared on: 2024-08-30</mark> -  _Submitted to PASP, comments welcome_\n",
       "\n",
       "</div>\n",
       "<div id=\"authors\">\n",
       "\n",
       "A. C. Rodriguez, et al. -- incl., <mark>K. El-Badry</mark>\n",
       "\n",
       "</div>\n",
       "<div id=\"abstract\">\n",
       "\n",
       "**Abstract:** We present volume-limited samples of cataclysmic variables (CVs) and AM CVn binaries jointly selected from SRG/eROSITA eRASS1 and _Gaia_ DR3 using an X-ray + optical color-color diagram (the \"X-ray Main Sequence\"). This tool identifies all CV subtypes, including magnetic and low-accretion rate systems, in contrast to most previous surveys. We find 23 CVs, 3 of which are AM CVns, out to 150 pc in the Western Galactic Hemisphere. Our 150 pc sample is spectroscopically verified and complete down to $L_X = 1.3\\times 10^{29} \\;\\textrm{erg s}^{-1}$ in the 0.2--2.3 keV band, and we also present CV candidates out to 300 pc and 1000 pc. We discovered two previously unknown systems in our 150 pc sample: the third nearest AM CVn and a magnetic period bouncer. We find the mean $L_X$ of CVs to be $\\langle L_X \\rangle \\approx 4.6\\times 10^{30} \\;\\textrm{erg s}^{-1}$ , in contrast to previous surveys which yielded $\\langle L_X \\rangle \\sim 10^{31}-10^{32} \\;\\textrm{erg s}^{-1}$ .  We construct X-ray luminosity functions that, for the first time, flatten out at $L_X\\sim 10^{30} \\;\\textrm{erg s}^{-1}$ . We find average number, mass, and luminosity densities of $\\rho_\\textrm{N, CV} = (3.7 \\pm 0.7) \\times 10^{-6} \\textrm{pc}^{-3}$ , $\\rho_M = (5.0 \\pm 1.0) \\times 10^{-5} M_\\odot^{-1}$ , and $\\rho_{L_X} = (2.3 \\pm 0.4) \\times 10^{26} \\textrm{erg s}^{-1}M_\\odot^{-1}$ , respectively, in the solar neighborhood. Our uniform selection method also allows us to place meaningful estimates on the space density of AM CVns, $\\rho_\\textrm{N, AM CVn} = (5.5 \\pm 3.7) \\times 10^{-7} \\textrm{pc}^{-3}$ . Magnetic CVs and period bouncers make up $35\\%$ and $25\\%$ of our sample, respectively. This work, through a novel discovery technique, shows that the observed number densities of CVs and AM CVns, as well as the fraction of period bouncers, are still in tension with population synthesis estimates.\n",
       "\n",
       "</div>\n",
       "\n",
       "<div id=\"div_fig1\">\n",
       "\n",
       "<img src=\"tmp_2408.16053/./all_sys1.png\" alt=\"Fig8.1\" width=\"50%\"/><img src=\"tmp_2408.16053/./all_sys2.png\" alt=\"Fig8.2\" width=\"50%\"/>\n",
       "\n",
       "**Figure 8. -** Our 150 pc sample in the X-ray Main Sequence (upper left, with all systems in our 150 pc crossmatch in black), _Gaia_ HR diagram (lower left, with the 100 pc _Gaia_ catalog in black), and in the $P_\\textrm{orb}$--$L_X$ parameter space (right, with the VSX + eROSITA CV sample in gray). Theoretical $L_X$ values are plotted as a function of period, using donor mass loss estimates from the CV evolutionary tracks (\"standard\" in gray and \"optimal\" in black) of [Pala, Gänsicke and Townsley (2017)](),  \"He WD progenitor\"/\"evolved CV progenitor\" AM CVn tracks of [Wong and Bildsten (2021)]()/[Sarkar, Ge and Tout (2023)]() and Equation 1. Accretion efficiencies in the range of $\\eta \\approx 0.02-0.3$(dashed and solid tracks) best fit the data, which could be confirmed through X-ray spectral analyses that likely depend on CV subclass. Observations of trends in these parameter spaces by CV subclass are presented in Table \\ref{tab:all}. (*fig:all*)\n",
       "\n",
       "</div>\n",
       "<div id=\"div_fig2\">\n",
       "\n",
       "<img src=\"tmp_2408.16053/./periodbouncer.png\" alt=\"Fig11\" width=\"100%\"/>\n",
       "\n",
       "**Figure 11. -** 1eRASS J054726.9+132649 is a newly-discovered magnetic period bouncer, selected thanks to the X-ray Main Sequence (upper left). It is located near the WD track (bottom left), and shows no outbursts in six years of data (bottom center), indicative of low mass transfer rates. ZTF optical photometry ($r$-band in red, $g$-band in blue) reveals a 1.57 hr orbital period (bottom right). The optical spectrum (upper right) shows that a 2900 K donor star predicted by CV evolutionary tracks (see Figure \\ref{fig:pb_proof}) at this orbital period is not seen, thus confirming this system as a period bouncer. Balmer emission lines show clear Zeeman splitting (particularly H$\\beta$ and H$\\gamma$), which reveal the magnetic nature of the WD.  (*fig:pb*)\n",
       "\n",
       "</div>\n",
       "<div id=\"div_fig3\">\n",
       "\n",
       "<img src=\"tmp_2408.16053/./lum_dist.png\" alt=\"Fig2\" width=\"100%\"/>\n",
       "\n",
       "**Figure 2. -** Observed $L_X$ distributions of CVs. $L_X$ distributions of primarily optically-identified systems that have eROSITA (cyan) and ROSAT (blue) X-ray counterparts suggest that CVs have $\\langle L_X\\rangle \\sim 10^{31-32}\\textrm{erg s}^{-1}$. Our 150 pc volume limited sample of systems selected using the X-ray Main Sequence (red) instead reveals that $\\langle L_X \\rangle \\sim 10^{30}\\textrm{erg s}^{-1}$. (*fig:lum_dist*)\n",
       "\n",
       "</div><div id=\"qrcode\"><img src=https://api.qrserver.com/v1/create-qr-code/?size=100x100&data=\"https://arxiv.org/abs/2408.16053\"></div>"
      ],
      "text/plain": [
       "<IPython.core.display.Markdown object>"
      ]
     },
     "metadata": {},
     "output_type": "display_data"
    },
    {
     "data": {
      "text/markdown": [
       "<div class=\"macros\" style=\"visibility:hidden;\">\n",
       "$\\newcommand{\\ensuremath}{}$\n",
       "$\\newcommand{\\xspace}{}$\n",
       "$\\newcommand{\\object}[1]{\\texttt{#1}}$\n",
       "$\\newcommand{\\farcs}{{.}''}$\n",
       "$\\newcommand{\\farcm}{{.}'}$\n",
       "$\\newcommand{\\arcsec}{''}$\n",
       "$\\newcommand{\\arcmin}{'}$\n",
       "$\\newcommand{\\ion}[2]{#1#2}$\n",
       "$\\newcommand{\\textsc}[1]{\\textrm{#1}}$\n",
       "$\\newcommand{\\hl}[1]{\\textrm{#1}}$\n",
       "$\\newcommand{\\footnote}[1]{}$\n",
       "$\\newcommand{\\sect}[1]{Sect.~\\ref{sec:#1}}$\n",
       "$\\newcommand{\\Sect}[1]{Section~\\ref{sec:#1}}$\n",
       "$\\newcommand{\\sects}[2]{Sects. \\ref{sec:#1} and \\ref{sec:#2}}$\n",
       "$\\newcommand{\\Sects}[2]{Sections \\ref{sec:#1} and \\ref{sec:#2}}$\n",
       "$\\newcommand{\\fg}[1]{Fig.~\\ref{fig:#1}}$\n",
       "$\\newcommand{\\Fg}[1]{Figure~\\ref{fig:#1}}$\n",
       "$\\newcommand{\\fgs}[2]{Figs. \\ref{fig:#1} and \\ref{fig:#2}}$\n",
       "$\\newcommand{\\Fgs}[2]{Figures \\ref{fig:#1} and \\ref{fig:#2}}$\n",
       "$\\newcommand{\\fgnum}[1]{\\ref{fig:#1}}$\n",
       "$\\newcommand{\\eq}[1]{Eq.~(\\ref{eq:#1})\\xspace}$\n",
       "$\\newcommand{\\Eq}[1]{Equation~(\\ref{eq:#1})\\xspace}$\n",
       "$\\newcommand{\\Eqs}[2]{Eqs. (\\ref{eq:#1}) and (\\ref{eq:#2})}$\n",
       "$\\newcommand{\\Eqss}[3]{Eqs. (\\ref{eq:#1}), (\\ref{eq:#2}) and (\\ref{eq:#3})}$\n",
       "$\\newcommand{\\co}[1]{\\textcolor{blue}{\\textsf{#1}}}$\n",
       "$\\newcommand{\\jay}[1]{\\textcolor{orange}{\\textsf{#1}}}$</div>\n",
       "\n",
       "\n",
       "\n",
       "<div id=\"title\">\n",
       "\n",
       "# Dust mineralogy and variability of the inner PDS 70 disk\n",
       "\n",
       "</div>\n",
       "<div id=\"comments\">\n",
       "\n",
       "[![arXiv](https://img.shields.io/badge/arXiv-2408.16367-b31b1b.svg)](https://arxiv.org/abs/2408.16367)<mark>Appeared on: 2024-08-30</mark> -  _18 pages, 13 figures, Accepted by A&A_\n",
       "\n",
       "</div>\n",
       "<div id=\"authors\">\n",
       "\n",
       "H. Jang, et al. -- incl., <mark>G. Perotti</mark>, <mark>T. Henning</mark>, <mark>K. Schwarz</mark>\n",
       "\n",
       "</div>\n",
       "<div id=\"abstract\">\n",
       "\n",
       "**Abstract:** _Context._ The inner disk of the young star PDS 70 may be a site of rocky planet formation, with two giant planets detected further out. Recently, JWST/MIRI MRS observations have revealed the presence of warm water vapour in the inner disk. Solids in the inner disk may inform us about the origin of this inner disk water and nature of the dust in the rocky planet-forming regions of the disk. \\ _Aims._ We aim to constrain the chemical composition, lattice structure, and grain sizes of small silicate grains in the inner disk of PDS 70, observed both in JWST/MIRI MRS and Spitzer IRS. \\ _Methods._ We use a dust fitting model, called DuCK, based on a two-layer disk model considering three different sets of dust opacities. We use Gaussian Random Field and Distribution of Hollow Spheres models to obtain two sets of dust opacities using the optical constants of cosmic dust analogues derived from laboratory-based measurements. These sets take into account the grain sizes as well as their shapes. The third set of opacities is obtained from the experimentally measured transmission spectra from aerosol spectroscopy. We use stoichiometric amorphous silicates, forsterite, and enstatite in our analysis. We also study the iron content of crystalline olivine using the resonance at 23-24 $\\mu$ m and test the presence of fayalite. Both iron-rich and magnesium-rich amorphous silicate dust species are also employed to fit the observed spectra. \\ _Results._ The Gaussian Random Field opacity set agrees well with the observed spectrum, better than the other two opacity sets. In both MIRI and Spitzer spectra, amorphous silicates are the dominant dust species. Crystalline silicates are dominated by iron-poor olivine. The 23-24 $\\mu$ m olivine band peaks at 23.44 $\\mu$ m for the MIRI spectrum and 23.47 $\\mu$ m for the Spitzer spectrum, representing around or less than 10 \\% of iron content in the crystalline silicate. In all of models, we do not find strong evidence for enstatite. Moreover, the silicate band in the MIRI spectrum indicates larger grain sizes (a few microns up to 5 $\\mu$ m) than the Spitzer spectrum (0.1 to 1 $\\mu$ m), indicating a time-variable small grain reservoir. \\ _Conclusions._ The inner PDS 70 disk is dominated by a variable reservoir of warm (T $\\sim$ 350-500 K) amorphous silicates, with $\\sim$ 15 \\% of forsterite in mass fraction. The 10 $\\mu$ m and 18 $\\mu$ m amorphous silicate bands are very prominent, indicating that most emission originates from optically thin dust. We suggest that the small grains detected in the PDS 70 inner disk are likely transported inward from the outer disk as a result of filtration by the pressure bump associated with the gap and fragmentation into smaller sizes at the ice line. Collisions among larger parent bodies may also contribute to the small grain reservoir in the inner disk, but these parent bodies must be enstatite-poor. In addition, the variation between MIRI and Spitzer data can be explained by a combination of grain growth over 15 years and a dynamical inner disk where opacity changes occur resulting from the highly variable hot (T $\\sim$ 1000 K) innermost dust reservoir.\n",
       "\n",
       "</div>\n",
       "\n",
       "<div id=\"div_fig1\">\n",
       "\n",
       "<img src=\"tmp_2408.16367/./figures/MIRI_Spitzer_SpectraF98F113.png\" alt=\"Fig1\" width=\"100%\"/>\n",
       "\n",
       "**Figure 1. -** The MIRI and Spitzer spectra of PDS 70 and their shapes of 10 $\\mu$m silicate bands. _Upper_: MIRI spectrum is in blue, and Spitzer spectrum is in orange. Light orange shows full wavelength range of the Spitzer spectrum. Around $10 \\mu$m, the MIRI spectrum has a higher flux and broader silicate band while the Spitzer spectrum shows higher flux levels beyond $12 \\mu$m. _Lower_: Band strength at 9.8 $\\mu$m and the shape of 10 $\\mu$m silicate band. Gray dots are disks in CASSIS database with low resolution spectra. Blue cross is the MIRI spectrum while orange cross is the Spitzer spectrum. (*fig:MIRI_Spitzer*)\n",
       "\n",
       "</div>\n",
       "<div id=\"div_fig2\">\n",
       "\n",
       "<img src=\"tmp_2408.16367/./figures/QcurvesCompare.png\" alt=\"Fig2\" width=\"100%\"/>\n",
       "\n",
       "**Figure 2. -** Comparison among absorption efficiencies for amorphous $Mg_2$$SiO_4$(upper panel) and forsterite (lower panel). GRF (black solid line) and DHS (dashed line) are plotted for $Q_{\\rm abs}$ on the left y-axis, and Aerosol spectra (gray solid line) are normalized on the right y-axis. (*fig:Qcompare*)\n",
       "\n",
       "</div>\n",
       "<div id=\"div_fig3\">\n",
       "\n",
       "<img src=\"tmp_2408.16367/./figures/temperatures_vertical.png\" alt=\"Fig3\" width=\"100%\"/>\n",
       "\n",
       "**Figure 3. -** Temperatures of dust in the inner rim (top), disk surface (middle), and midplane (bottom) of dust fitting models in Table \\ref{tab:results}. For Spitzer(full), the dotted line in the temperature of the disk surface indicates the temperature gradient across the disk surface; the other models assume a single temperature. (*fig:temperatures*)\n",
       "\n",
       "</div><div id=\"qrcode\"><img src=https://api.qrserver.com/v1/create-qr-code/?size=100x100&data=\"https://arxiv.org/abs/2408.16367\"></div>"
      ],
      "text/plain": [
       "<IPython.core.display.Markdown object>"
      ]
     },
     "metadata": {},
     "output_type": "display_data"
    },
    {
     "data": {
      "text/markdown": [
       "<div class=\"macros\" style=\"visibility:hidden;\">\n",
       "$\\newcommand{\\ensuremath}{}$\n",
       "$\\newcommand{\\xspace}{}$\n",
       "$\\newcommand{\\object}[1]{\\texttt{#1}}$\n",
       "$\\newcommand{\\farcs}{{.}''}$\n",
       "$\\newcommand{\\farcm}{{.}'}$\n",
       "$\\newcommand{\\arcsec}{''}$\n",
       "$\\newcommand{\\arcmin}{'}$\n",
       "$\\newcommand{\\ion}[2]{#1#2}$\n",
       "$\\newcommand{\\textsc}[1]{\\textrm{#1}}$\n",
       "$\\newcommand{\\hl}[1]{\\textrm{#1}}$\n",
       "$\\newcommand{\\footnote}[1]{}$\n",
       "$\\newcommand{\\vdag}{(v)^\\dagger}$\n",
       "$\\newcommand$\n",
       "$\\newcommand$\n",
       "$\\newcommand{\\dmnote}[1]{{\\bf \\color{blue}[D.M.: #1]}}$\n",
       "$\\newcommand{\\dmfnote}[1]{{\\bf \\color{orange}[D.M.F.: #1]}}$\n",
       "$\\newcommand{\\hknote}[1]{{\\bf \\color{green}[H.K.: #1]}}$\n",
       "$\\newcommand{\\revision}[1]{{#1}}$</div>\n",
       "\n",
       "\n",
       "\n",
       "<div id=\"title\">\n",
       "\n",
       "#  Can gap-edge illumination excite spirals in protoplanetary disks?\n",
       "\n",
       "</div>\n",
       "<div id=\"comments\">\n",
       "\n",
       "[![arXiv](https://img.shields.io/badge/arXiv-2408.16461-b31b1b.svg)](https://arxiv.org/abs/2408.16461)<mark>Appeared on: 2024-08-30</mark> -  _11 pages, 9 figures incl. Appendices. A&A accepted; further comments and questions welcome_\n",
       "\n",
       "</div>\n",
       "<div id=\"authors\">\n",
       "\n",
       "<mark>D. Muley</mark>, J. D. M. Fuksman, <mark>H. Klahr</mark>\n",
       "\n",
       "</div>\n",
       "<div id=\"abstract\">\n",
       "\n",
       "**Abstract:** The advent of high-resolution, near-infrared instruments such as VLT/SPHERE and Gemini/GPI has helped uncover a wealth of substructure in planet-forming disks, including large, prominent spiral arms in MWC 758, SAO 206462, and V1247 Ori among others. In the classical theory of disk-planet interaction, these arms are consistent with Lindblad-resonance driving by multi-Jupiter-mass companions. Despite improving detection limits, evidence for such massive bodies in connection with spiral substructure has been inconclusive. In search of an alternative explanation, we use the PLUTO code to run 3D hydrodynamical simulations with two comparatively low planet masses (Saturn-mass, Jupiter-mass) and two thermodynamic prescriptions (three-temperature radiation hydrodynamics, and the more traditional $\\beta$ -cooling) in a low-mass disk. In the radiative cases, an $m = 2$ mode, potentially attributable to the interaction of stellar radiation with gap-edge asymmetries, creates an azimuthal pressure gradient, which in turn gives rise to prominent spiral arms $\\revision{in the upper layers of the disk}$ . Monte Carlo radiative transfer (MCRT) post-processing with RADMC3D reveals that $\\revision{in near-infrared scattered light, }$ these $\\revision{gap-edge}$ spirals are significantly more prominent than $\\revision{the}$ traditional Lindblad spirals $\\revision{for planets in the mass range tested}$ . Our results demonstrate that even intermediate-mass **proto** planets---less detectable, but more ubiquitous, than super-Jupiters---are capable of indirectly inducing large-scale spiral disk features, and underscore the importance of including radiation physics in efforts to reproduce observations.\n",
       "\n",
       "</div>\n",
       "\n",
       "<div id=\"div_fig1\">\n",
       "\n",
       "<img src=\"tmp_2408.16461/./dens_compare.png\" alt=\"Fig7\" width=\"100%\"/>\n",
       "\n",
       "**Figure 7. -** Gas density $\\rho$ at $t = 1010$ orbits (1000 orbits at the fiducial resolution, 10 at the doubled resolution used in \\cite{Muley2024}), with respect to the initial condition $\\rho_0$, for our simulations with a Saturn-mass planet. The green ellipse indicates the planet's Hill radius. With the 3T scheme, the disk atmosphere shows clear development of $m = 2$ spiral arms, which are absent in the $\\beta$-cooling simulations. $\\revision${White bands at the interior and exterior of the radiative simulation result from wave-damping to the initial condition.} (*fig:dens-compare*)\n",
       "\n",
       "</div>\n",
       "<div id=\"div_fig2\">\n",
       "\n",
       "<img src=\"tmp_2408.16461/./initial_conditions_upd2.png\" alt=\"Fig1\" width=\"100%\"/>\n",
       "\n",
       "**Figure 1. -** Initial conditions for gas density $\\rho$(above), $\\revision${as well as dust and gas temperatures $T_d$ and $T_g$ (below), which are initially equal.} Contours for normalized cooling timescales from gas-grain collision ($\\beta_{\\rm dg}$) are plotted above, and from radiation ($\\beta_{\\rm rad}$) below, with white lines. Figure reproduced exactly from \\cite{Muley2024}. (*fig:initial_conditions*)\n",
       "\n",
       "</div>\n",
       "<div id=\"div_fig3\">\n",
       "\n",
       "<img src=\"tmp_2408.16461/./azimuthal_profiles.png\" alt=\"Fig2\" width=\"100%\"/>\n",
       "\n",
       "**Figure 2. -** Azimuthal profiles of various quantities at a fiducial radius of $r = 60 {\\rm  au} = 1.5 r_p$, and at an altitude of $\\theta = 0.2$ rad above the midplane $\\revision${in our $M_p = 3 \\times 10^{-4} M_{\\odot}$ simulations}. In the 3T case, azimuthal asymmetries of even a few percent in disk illumination---potentially induced by the RWI, and visible in the $T_d$ profile---lead to strong non-axisymmetry in $\\rho$, $T_g$, and the velocity components.\n",
       "     (*fig:azi_profiles*)\n",
       "\n",
       "</div><div id=\"qrcode\"><img src=https://api.qrserver.com/v1/create-qr-code/?size=100x100&data=\"https://arxiv.org/abs/2408.16461\"></div>"
      ],
      "text/plain": [
       "<IPython.core.display.Markdown object>"
      ]
     },
     "metadata": {},
     "output_type": "display_data"
    }
   ],
   "source": [
    "[display(Markdown(k[1])) for k in documents];"
   ]
  },
  {
   "cell_type": "markdown",
   "id": "873873a4",
   "metadata": {
    "papermill": {
     "duration": 0.005045,
     "end_time": "2024-08-30T04:11:17.386490",
     "exception": false,
     "start_time": "2024-08-30T04:11:17.381445",
     "status": "completed"
    },
    "tags": []
   },
   "source": [
    "# Create HTML index"
   ]
  },
  {
   "cell_type": "code",
   "execution_count": 10,
   "id": "cf665672",
   "metadata": {
    "execution": {
     "iopub.execute_input": "2024-08-30T04:11:17.398064Z",
     "iopub.status.busy": "2024-08-30T04:11:17.397560Z",
     "iopub.status.idle": "2024-08-30T04:11:17.406158Z",
     "shell.execute_reply": "2024-08-30T04:11:17.405511Z"
    },
    "papermill": {
     "duration": 0.016067,
     "end_time": "2024-08-30T04:11:17.407538",
     "exception": false,
     "start_time": "2024-08-30T04:11:17.391471",
     "status": "completed"
    },
    "tags": []
   },
   "outputs": [
    {
     "name": "stdout",
     "output_type": "stream",
     "text": [
      "171  publications files modified in the last 7 days.\n"
     ]
    }
   ],
   "source": [
    "from datetime import datetime, timedelta, timezone\n",
    "from glob import glob\n",
    "import os\n",
    "\n",
    "files = glob('_build/html/*.md')\n",
    "days = 7\n",
    "now = datetime.today()\n",
    "res = []\n",
    "for fk in files:\n",
    "    stat_result = os.stat(fk).st_ctime\n",
    "    modified = datetime.fromtimestamp(stat_result, tz=timezone.utc).replace(tzinfo=None)\n",
    "    delta = now.today() - modified\n",
    "    if delta <= timedelta(days=days):\n",
    "        res.append((delta.seconds, fk))\n",
    "res = [k[1] for k in reversed(sorted(res, key=lambda x:x[1]))]\n",
    "npub = len(res)\n",
    "print(len(res), f\" publications files modified in the last {days:d} days.\")\n",
    "# [ print('\\t', k) for k in res ];"
   ]
  },
  {
   "cell_type": "code",
   "execution_count": 11,
   "id": "015de740",
   "metadata": {
    "execution": {
     "iopub.execute_input": "2024-08-30T04:11:17.421035Z",
     "iopub.status.busy": "2024-08-30T04:11:17.420459Z",
     "iopub.status.idle": "2024-08-30T04:11:17.435936Z",
     "shell.execute_reply": "2024-08-30T04:11:17.435232Z"
    },
    "papermill": {
     "duration": 0.024512,
     "end_time": "2024-08-30T04:11:17.437420",
     "exception": false,
     "start_time": "2024-08-30T04:11:17.412908",
     "status": "completed"
    },
    "tags": []
   },
   "outputs": [
    {
     "name": "stdout",
     "output_type": "stream",
     "text": [
      "6  publications in the last 7 days.\n"
     ]
    }
   ],
   "source": [
    "import datetime\n",
    "from glob import glob\n",
    "\n",
    "def get_last_n_days(lst, days=1):\n",
    "    \"\"\" Get the documents from the last n days \"\"\"\n",
    "    sorted_lst = sorted(lst, key=lambda x: x[1], reverse=True)\n",
    "    for fname, date in sorted_lst:\n",
    "        if date >= str(datetime.date.today() - datetime.timedelta(days=days)):\n",
    "            yield fname\n",
    "\n",
    "def extract_appearance_dates(lst_file):\n",
    "    dates = []\n",
    "\n",
    "    def get_date(line):\n",
    "        return line\\\n",
    "            .split('Appeared on:')[-1]\\\n",
    "            .split('</mark>')[0].strip()\n",
    "\n",
    "    for fname in lst:\n",
    "        with open(fname, 'r') as f:\n",
    "            found_date = False\n",
    "            for line in f:\n",
    "                if not found_date:\n",
    "                    if \"Appeared on\" in line:\n",
    "                        found_date = True\n",
    "                        dates.append((fname, get_date(line)))\n",
    "                else:\n",
    "                    break\n",
    "    return dates\n",
    "\n",
    "from glob import glob\n",
    "lst = glob('_build/html/*md')\n",
    "days = 7\n",
    "dates = extract_appearance_dates(lst)\n",
    "res = list(get_last_n_days(dates, days))\n",
    "npub = len(res)\n",
    "print(len(res), f\" publications in the last {days:d} days.\")"
   ]
  },
  {
   "cell_type": "code",
   "execution_count": 12,
   "id": "52ca0208",
   "metadata": {
    "execution": {
     "iopub.execute_input": "2024-08-30T04:11:17.449693Z",
     "iopub.status.busy": "2024-08-30T04:11:17.449055Z",
     "iopub.status.idle": "2024-08-30T04:11:17.454803Z",
     "shell.execute_reply": "2024-08-30T04:11:17.454135Z"
    },
    "papermill": {
     "duration": 0.013415,
     "end_time": "2024-08-30T04:11:17.456250",
     "exception": false,
     "start_time": "2024-08-30T04:11:17.442835",
     "status": "completed"
    },
    "scrolled": false,
    "tags": []
   },
   "outputs": [],
   "source": [
    "def create_carousel(npub=4):\n",
    "    \"\"\" Generate the HTML code for a carousel with `npub` slides \"\"\"\n",
    "    carousel = [\"\"\"  <div class=\"carousel\" \"\"\",\n",
    "                \"\"\"       data-flickity='{ \"autoPlay\": 10000, \"adaptiveHeight\": true, \"resize\": true, \"wrapAround\": true, \"pauseAutoPlayOnHover\": true, \"groupCells\": 1 }' id=\"asyncTypeset\">\"\"\"\n",
    "                ]\n",
    "    \n",
    "    item_str = \"\"\"    <div class=\"carousel-cell\"> <div id=\"slide{k}\" class=\"md_view\">Content {k}</div> </div>\"\"\"\n",
    "    for k in range(1, npub + 1):\n",
    "        carousel.append(item_str.format(k=k))\n",
    "    carousel.append(\"  </div>\")\n",
    "    return '\\n'.join(carousel)\n",
    "\n",
    "def create_grid(npub=4):\n",
    "    \"\"\" Generate the HTML code for a flat grid with `npub` slides \"\"\"\n",
    "    grid = [\"\"\"  <div class=\"grid\"> \"\"\",\n",
    "                ]\n",
    "    \n",
    "    item_str = \"\"\"    <div class=\"grid-item\"> <div id=\"slide{k}\" class=\"md_view\">Content {k}</div> </div>\"\"\"\n",
    "    for k in range(1, npub + 1):\n",
    "        grid.append(item_str.format(k=k))\n",
    "    grid.append(\"  </div>\")\n",
    "    return '\\n'.join(grid)"
   ]
  },
  {
   "cell_type": "code",
   "execution_count": 13,
   "id": "a6eac5b6",
   "metadata": {
    "execution": {
     "iopub.execute_input": "2024-08-30T04:11:17.468294Z",
     "iopub.status.busy": "2024-08-30T04:11:17.467717Z",
     "iopub.status.idle": "2024-08-30T04:11:17.473228Z",
     "shell.execute_reply": "2024-08-30T04:11:17.472623Z"
    },
    "papermill": {
     "duration": 0.012903,
     "end_time": "2024-08-30T04:11:17.474518",
     "exception": false,
     "start_time": "2024-08-30T04:11:17.461615",
     "status": "completed"
    },
    "scrolled": false,
    "tags": []
   },
   "outputs": [],
   "source": [
    "carousel = create_carousel(npub)\n",
    "docs = ', '.join(['\"{0:s}\"'.format(k.split('/')[-1]) for k in res])\n",
    "slides = ', '.join([f'\"slide{k}\"' for k in range(1, npub + 1)])\n",
    "\n",
    "with open(\"daily_template.html\", \"r\") as tpl:\n",
    "    page = tpl.read()\n",
    "    page = page.replace(\"{%-- carousel:s --%}\", carousel)\\\n",
    "               .replace(\"{%-- suptitle:s --%}\",  \"7-day archives\" )\\\n",
    "               .replace(\"{%-- docs:s --%}\", docs)\\\n",
    "               .replace(\"{%-- slides:s --%}\", slides)\n",
    "    \n",
    "with open(\"_build/html/index_7days.html\", 'w') as fout:\n",
    "    fout.write(page)"
   ]
  },
  {
   "cell_type": "code",
   "execution_count": 14,
   "id": "adc1a1ec",
   "metadata": {
    "execution": {
     "iopub.execute_input": "2024-08-30T04:11:17.486465Z",
     "iopub.status.busy": "2024-08-30T04:11:17.485954Z",
     "iopub.status.idle": "2024-08-30T04:11:17.492561Z",
     "shell.execute_reply": "2024-08-30T04:11:17.491995Z"
    },
    "papermill": {
     "duration": 0.014137,
     "end_time": "2024-08-30T04:11:17.493968",
     "exception": false,
     "start_time": "2024-08-30T04:11:17.479831",
     "status": "completed"
    },
    "tags": []
   },
   "outputs": [
    {
     "name": "stdout",
     "output_type": "stream",
     "text": [
      "4  publications in the last day.\n"
     ]
    }
   ],
   "source": [
    "# redo for today\n",
    "days = 1\n",
    "res = list(get_last_n_days(dates, days))\n",
    "npub = len(res)\n",
    "print(len(res), f\" publications in the last day.\")\n",
    "\n",
    "carousel = create_carousel(npub)\n",
    "docs = ', '.join(['\"{0:s}\"'.format(k.split('/')[-1]) for k in res])\n",
    "slides = ', '.join([f'\"slide{k}\"' for k in range(1, npub + 1)])\n",
    "\n",
    "with open(\"daily_template.html\", \"r\") as tpl:\n",
    "    page = tpl.read()\n",
    "    page = page.replace(\"{%-- carousel:s --%}\", carousel)\\\n",
    "               .replace(\"{%-- suptitle:s --%}\",  \"Daily\" )\\\n",
    "               .replace(\"{%-- docs:s --%}\", docs)\\\n",
    "               .replace(\"{%-- slides:s --%}\", slides)\n",
    "    \n",
    "# print(carousel, docs, slides)\n",
    "# print(page)\n",
    "with open(\"_build/html/index_daily.html\", 'w') as fout:\n",
    "    fout.write(page)"
   ]
  },
  {
   "cell_type": "code",
   "execution_count": 15,
   "id": "00eece82",
   "metadata": {
    "execution": {
     "iopub.execute_input": "2024-08-30T04:11:17.506578Z",
     "iopub.status.busy": "2024-08-30T04:11:17.506028Z",
     "iopub.status.idle": "2024-08-30T04:11:17.512813Z",
     "shell.execute_reply": "2024-08-30T04:11:17.512228Z"
    },
    "papermill": {
     "duration": 0.014692,
     "end_time": "2024-08-30T04:11:17.514290",
     "exception": false,
     "start_time": "2024-08-30T04:11:17.499598",
     "status": "completed"
    },
    "scrolled": false,
    "tags": []
   },
   "outputs": [
    {
     "name": "stdout",
     "output_type": "stream",
     "text": [
      "6  6 publications selected.\n"
     ]
    }
   ],
   "source": [
    "# Create the flat grid of the last N papers (fixed number regardless of dates)\n",
    "from itertools import islice \n",
    "\n",
    "npub = 6\n",
    "res = [k[0] for k in (islice(reversed(sorted(dates, key=lambda x: x[1])), 6))]\n",
    "print(len(res), f\" {npub} publications selected.\")\n",
    "\n",
    "grid = create_grid(npub)\n",
    "docs = ', '.join(['\"{0:s}\"'.format(k.split('/')[-1]) for k in res])\n",
    "slides = ', '.join([f'\"slide{k}\"' for k in range(1, npub + 1)])\n",
    "\n",
    "with open(\"grid_template.html\", \"r\") as tpl:\n",
    "    page = tpl.read()\n",
    "    page = page.replace(\"{%-- grid-content:s --%}\", grid)\\\n",
    "               .replace(\"{%-- suptitle:s --%}\",  f\"Last {npub:,d} papers\" )\\\n",
    "               .replace(\"{%-- docs:s --%}\", docs)\\\n",
    "               .replace(\"{%-- slides:s --%}\", slides)\n",
    "    \n",
    "# print(grid, docs, slides)\n",
    "# print(page)\n",
    "with open(\"_build/html/index_npub_grid.html\", 'w') as fout:\n",
    "    fout.write(page)"
   ]
  }
 ],
 "metadata": {
  "kernelspec": {
   "display_name": "Python 3 (ipykernel)",
   "language": "python",
   "name": "python3"
  },
  "language_info": {
   "codemirror_mode": {
    "name": "ipython",
    "version": 3
   },
   "file_extension": ".py",
   "mimetype": "text/x-python",
   "name": "python",
   "nbconvert_exporter": "python",
   "pygments_lexer": "ipython3",
   "version": "3.9.19"
  },
  "papermill": {
   "default_parameters": {},
   "duration": 56.225369,
   "end_time": "2024-08-30T04:11:17.736632",
   "environment_variables": {},
   "exception": null,
   "input_path": "MPIA daily digest.ipynb",
   "output_path": "log.ipynb",
   "parameters": {},
   "start_time": "2024-08-30T04:10:21.511263",
   "version": "2.6.0"
  },
  "vscode": {
   "interpreter": {
    "hash": "aee8b7b246df8f9039afb4144a1f6fd8d2ca17a180786b69acc140d282b71a49"
   }
  },
  "widgets": {
   "application/vnd.jupyter.widget-state+json": {
    "state": {
     "1890a5df2a234f42b651417bfe93b598": {
      "model_module": "@jupyter-widgets/controls",
      "model_module_version": "2.0.0",
      "model_name": "HBoxModel",
      "state": {
       "_dom_classes": [],
       "_model_module": "@jupyter-widgets/controls",
       "_model_module_version": "2.0.0",
       "_model_name": "HBoxModel",
       "_view_count": null,
       "_view_module": "@jupyter-widgets/controls",
       "_view_module_version": "2.0.0",
       "_view_name": "HBoxView",
       "box_style": "",
       "children": [
        "IPY_MODEL_9b49b0bc50244e459e51fedcdfcbe39a",
        "IPY_MODEL_2ce6babd8c3343c7aa92e46402714bad",
        "IPY_MODEL_c8c09e42b75e4c1c9e7f00ba8dca2326"
       ],
       "layout": "IPY_MODEL_20ab8329b6c54dea8e9b3de3e7acea40",
       "tabbable": null,
       "tooltip": null
      }
     },
     "20ab8329b6c54dea8e9b3de3e7acea40": {
      "model_module": "@jupyter-widgets/base",
      "model_module_version": "2.0.0",
      "model_name": "LayoutModel",
      "state": {
       "_model_module": "@jupyter-widgets/base",
       "_model_module_version": "2.0.0",
       "_model_name": "LayoutModel",
       "_view_count": null,
       "_view_module": "@jupyter-widgets/base",
       "_view_module_version": "2.0.0",
       "_view_name": "LayoutView",
       "align_content": null,
       "align_items": null,
       "align_self": null,
       "border_bottom": null,
       "border_left": null,
       "border_right": null,
       "border_top": null,
       "bottom": null,
       "display": null,
       "flex": null,
       "flex_flow": null,
       "grid_area": null,
       "grid_auto_columns": null,
       "grid_auto_flow": null,
       "grid_auto_rows": null,
       "grid_column": null,
       "grid_gap": null,
       "grid_row": null,
       "grid_template_areas": null,
       "grid_template_columns": null,
       "grid_template_rows": null,
       "height": null,
       "justify_content": null,
       "justify_items": null,
       "left": null,
       "margin": null,
       "max_height": null,
       "max_width": null,
       "min_height": null,
       "min_width": null,
       "object_fit": null,
       "object_position": null,
       "order": null,
       "overflow": null,
       "padding": null,
       "right": null,
       "top": null,
       "visibility": null,
       "width": null
      }
     },
     "2542b6fdfc3b4c3b9f9462a4312bd43d": {
      "model_module": "@jupyter-widgets/base",
      "model_module_version": "2.0.0",
      "model_name": "LayoutModel",
      "state": {
       "_model_module": "@jupyter-widgets/base",
       "_model_module_version": "2.0.0",
       "_model_name": "LayoutModel",
       "_view_count": null,
       "_view_module": "@jupyter-widgets/base",
       "_view_module_version": "2.0.0",
       "_view_name": "LayoutView",
       "align_content": null,
       "align_items": null,
       "align_self": null,
       "border_bottom": null,
       "border_left": null,
       "border_right": null,
       "border_top": null,
       "bottom": null,
       "display": null,
       "flex": null,
       "flex_flow": null,
       "grid_area": null,
       "grid_auto_columns": null,
       "grid_auto_flow": null,
       "grid_auto_rows": null,
       "grid_column": null,
       "grid_gap": null,
       "grid_row": null,
       "grid_template_areas": null,
       "grid_template_columns": null,
       "grid_template_rows": null,
       "height": null,
       "justify_content": null,
       "justify_items": null,
       "left": null,
       "margin": null,
       "max_height": null,
       "max_width": null,
       "min_height": null,
       "min_width": null,
       "object_fit": null,
       "object_position": null,
       "order": null,
       "overflow": null,
       "padding": null,
       "right": null,
       "top": null,
       "visibility": null,
       "width": null
      }
     },
     "2c805a5a64944bf4806dbad24ac7deaf": {
      "model_module": "@jupyter-widgets/base",
      "model_module_version": "2.0.0",
      "model_name": "LayoutModel",
      "state": {
       "_model_module": "@jupyter-widgets/base",
       "_model_module_version": "2.0.0",
       "_model_name": "LayoutModel",
       "_view_count": null,
       "_view_module": "@jupyter-widgets/base",
       "_view_module_version": "2.0.0",
       "_view_name": "LayoutView",
       "align_content": null,
       "align_items": null,
       "align_self": null,
       "border_bottom": null,
       "border_left": null,
       "border_right": null,
       "border_top": null,
       "bottom": null,
       "display": null,
       "flex": null,
       "flex_flow": null,
       "grid_area": null,
       "grid_auto_columns": null,
       "grid_auto_flow": null,
       "grid_auto_rows": null,
       "grid_column": null,
       "grid_gap": null,
       "grid_row": null,
       "grid_template_areas": null,
       "grid_template_columns": null,
       "grid_template_rows": null,
       "height": null,
       "justify_content": null,
       "justify_items": null,
       "left": null,
       "margin": null,
       "max_height": null,
       "max_width": null,
       "min_height": null,
       "min_width": null,
       "object_fit": null,
       "object_position": null,
       "order": null,
       "overflow": null,
       "padding": null,
       "right": null,
       "top": null,
       "visibility": null,
       "width": null
      }
     },
     "2ce6babd8c3343c7aa92e46402714bad": {
      "model_module": "@jupyter-widgets/controls",
      "model_module_version": "2.0.0",
      "model_name": "FloatProgressModel",
      "state": {
       "_dom_classes": [],
       "_model_module": "@jupyter-widgets/controls",
       "_model_module_version": "2.0.0",
       "_model_name": "FloatProgressModel",
       "_view_count": null,
       "_view_module": "@jupyter-widgets/controls",
       "_view_module_version": "2.0.0",
       "_view_name": "ProgressView",
       "bar_style": "success",
       "description": "",
       "description_allow_html": false,
       "layout": "IPY_MODEL_2542b6fdfc3b4c3b9f9462a4312bd43d",
       "max": 4.0,
       "min": 0.0,
       "orientation": "horizontal",
       "style": "IPY_MODEL_33abfc2dcea54163b4f3cdef8adc6e54",
       "tabbable": null,
       "tooltip": null,
       "value": 4.0
      }
     },
     "33abfc2dcea54163b4f3cdef8adc6e54": {
      "model_module": "@jupyter-widgets/controls",
      "model_module_version": "2.0.0",
      "model_name": "ProgressStyleModel",
      "state": {
       "_model_module": "@jupyter-widgets/controls",
       "_model_module_version": "2.0.0",
       "_model_name": "ProgressStyleModel",
       "_view_count": null,
       "_view_module": "@jupyter-widgets/base",
       "_view_module_version": "2.0.0",
       "_view_name": "StyleView",
       "bar_color": null,
       "description_width": ""
      }
     },
     "455564732e2f43448d824bb8ef638882": {
      "model_module": "@jupyter-widgets/base",
      "model_module_version": "2.0.0",
      "model_name": "LayoutModel",
      "state": {
       "_model_module": "@jupyter-widgets/base",
       "_model_module_version": "2.0.0",
       "_model_name": "LayoutModel",
       "_view_count": null,
       "_view_module": "@jupyter-widgets/base",
       "_view_module_version": "2.0.0",
       "_view_name": "LayoutView",
       "align_content": null,
       "align_items": null,
       "align_self": null,
       "border_bottom": null,
       "border_left": null,
       "border_right": null,
       "border_top": null,
       "bottom": null,
       "display": null,
       "flex": null,
       "flex_flow": null,
       "grid_area": null,
       "grid_auto_columns": null,
       "grid_auto_flow": null,
       "grid_auto_rows": null,
       "grid_column": null,
       "grid_gap": null,
       "grid_row": null,
       "grid_template_areas": null,
       "grid_template_columns": null,
       "grid_template_rows": null,
       "height": null,
       "justify_content": null,
       "justify_items": null,
       "left": null,
       "margin": null,
       "max_height": null,
       "max_width": null,
       "min_height": null,
       "min_width": null,
       "object_fit": null,
       "object_position": null,
       "order": null,
       "overflow": null,
       "padding": null,
       "right": null,
       "top": null,
       "visibility": null,
       "width": null
      }
     },
     "9b49b0bc50244e459e51fedcdfcbe39a": {
      "model_module": "@jupyter-widgets/controls",
      "model_module_version": "2.0.0",
      "model_name": "HTMLModel",
      "state": {
       "_dom_classes": [],
       "_model_module": "@jupyter-widgets/controls",
       "_model_module_version": "2.0.0",
       "_model_name": "HTMLModel",
       "_view_count": null,
       "_view_module": "@jupyter-widgets/controls",
       "_view_module_version": "2.0.0",
       "_view_name": "HTMLView",
       "description": "",
       "description_allow_html": false,
       "layout": "IPY_MODEL_455564732e2f43448d824bb8ef638882",
       "placeholder": "​",
       "style": "IPY_MODEL_be83ebbbc3a64d79b44fe727654d1b82",
       "tabbable": null,
       "tooltip": null,
       "value": "100%"
      }
     },
     "be83ebbbc3a64d79b44fe727654d1b82": {
      "model_module": "@jupyter-widgets/controls",
      "model_module_version": "2.0.0",
      "model_name": "HTMLStyleModel",
      "state": {
       "_model_module": "@jupyter-widgets/controls",
       "_model_module_version": "2.0.0",
       "_model_name": "HTMLStyleModel",
       "_view_count": null,
       "_view_module": "@jupyter-widgets/base",
       "_view_module_version": "2.0.0",
       "_view_name": "StyleView",
       "background": null,
       "description_width": "",
       "font_size": null,
       "text_color": null
      }
     },
     "c8c09e42b75e4c1c9e7f00ba8dca2326": {
      "model_module": "@jupyter-widgets/controls",
      "model_module_version": "2.0.0",
      "model_name": "HTMLModel",
      "state": {
       "_dom_classes": [],
       "_model_module": "@jupyter-widgets/controls",
       "_model_module_version": "2.0.0",
       "_model_name": "HTMLModel",
       "_view_count": null,
       "_view_module": "@jupyter-widgets/controls",
       "_view_module_version": "2.0.0",
       "_view_name": "HTMLView",
       "description": "",
       "description_allow_html": false,
       "layout": "IPY_MODEL_2c805a5a64944bf4806dbad24ac7deaf",
       "placeholder": "​",
       "style": "IPY_MODEL_e2962594fd414e9c990b080bb800c060",
       "tabbable": null,
       "tooltip": null,
       "value": " 4/4 [00:33&lt;00:00,  6.61s/it]"
      }
     },
     "e2962594fd414e9c990b080bb800c060": {
      "model_module": "@jupyter-widgets/controls",
      "model_module_version": "2.0.0",
      "model_name": "HTMLStyleModel",
      "state": {
       "_model_module": "@jupyter-widgets/controls",
       "_model_module_version": "2.0.0",
       "_model_name": "HTMLStyleModel",
       "_view_count": null,
       "_view_module": "@jupyter-widgets/base",
       "_view_module_version": "2.0.0",
       "_view_name": "StyleView",
       "background": null,
       "description_width": "",
       "font_size": null,
       "text_color": null
      }
     }
    },
    "version_major": 2,
    "version_minor": 0
   }
  }
 },
 "nbformat": 4,
 "nbformat_minor": 5
}