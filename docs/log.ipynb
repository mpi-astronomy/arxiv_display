{
 "cells": [
  {
   "cell_type": "markdown",
   "id": "92bcb855",
   "metadata": {
    "papermill": {
     "duration": 0.003855,
     "end_time": "2025-10-23T04:13:25.014218",
     "exception": false,
     "start_time": "2025-10-23T04:13:25.010363",
     "status": "completed"
    },
    "tags": []
   },
   "source": [
    "# MPIA Arxiv on Deck 2\n",
    "\n",
    "Contains the steps to produce the paper extractions."
   ]
  },
  {
   "cell_type": "code",
   "execution_count": 1,
   "id": "3a0d6e11",
   "metadata": {
    "execution": {
     "iopub.execute_input": "2025-10-23T04:13:25.021255Z",
     "iopub.status.busy": "2025-10-23T04:13:25.021053Z",
     "iopub.status.idle": "2025-10-23T04:13:25.221276Z",
     "shell.execute_reply": "2025-10-23T04:13:25.220614Z"
    },
    "papermill": {
     "duration": 0.205064,
     "end_time": "2025-10-23T04:13:25.222567",
     "exception": false,
     "start_time": "2025-10-23T04:13:25.017503",
     "status": "completed"
    },
    "tags": []
   },
   "outputs": [],
   "source": [
    "# Imports\n",
    "import os\n",
    "from IPython.display import Markdown, display\n",
    "from tqdm.notebook import tqdm\n",
    "import warnings\n",
    "from PIL import Image \n",
    "import re\n",
    "\n",
    "# requires arxiv_on_deck_2\n",
    "\n",
    "from arxiv_on_deck_2.arxiv2 import (get_new_papers, \n",
    "                                    get_paper_from_identifier,\n",
    "                                    retrieve_document_source, \n",
    "                                    get_markdown_badge)\n",
    "from arxiv_on_deck_2 import (latex,\n",
    "                             latex_bib,\n",
    "                             mpia,\n",
    "                             highlight_authors_in_list)\n",
    "\n",
    "# Sometimes images are really big\n",
    "Image.MAX_IMAGE_PIXELS = 1000000000 "
   ]
  },
  {
   "cell_type": "code",
   "execution_count": 2,
   "id": "22aa9d44",
   "metadata": {
    "execution": {
     "iopub.execute_input": "2025-10-23T04:13:25.229776Z",
     "iopub.status.busy": "2025-10-23T04:13:25.229510Z",
     "iopub.status.idle": "2025-10-23T04:13:25.237451Z",
     "shell.execute_reply": "2025-10-23T04:13:25.236797Z"
    },
    "papermill": {
     "duration": 0.01258,
     "end_time": "2025-10-23T04:13:25.238513",
     "exception": false,
     "start_time": "2025-10-23T04:13:25.225933",
     "status": "completed"
    },
    "tags": []
   },
   "outputs": [],
   "source": [
    "# Some useful definitions.\n",
    "\n",
    "class AffiliationWarning(UserWarning):\n",
    "    pass\n",
    "\n",
    "class AffiliationError(RuntimeError):\n",
    "    pass\n",
    "\n",
    "def validation(source: str):\n",
    "    \"\"\"Raises error paper during parsing of source file\n",
    "    \n",
    "    Allows checks before parsing TeX code.\n",
    "    \n",
    "    Raises AffiliationWarning\n",
    "    \"\"\"\n",
    "    check = mpia.affiliation_verifications(source, verbose=True)\n",
    "    if check is not True:\n",
    "        raise AffiliationError(\"mpia.affiliation_verifications: \" + check)\n",
    "\n",
    "        \n",
    "warnings.simplefilter('always', AffiliationWarning)\n",
    "\n",
    "\n",
    "def get_markdown_qrcode(paper_id: str):\n",
    "    \"\"\" Generate a qrcode to the arxiv page using qrserver.com\n",
    "    \n",
    "    :param paper: Arxiv paper\n",
    "    :returns: markdown text\n",
    "    \"\"\"\n",
    "    url = r\"https://api.qrserver.com/v1/create-qr-code/?size=100x100&data=\"\n",
    "    txt = f\"\"\"<img src={url}\"https://arxiv.org/abs/{paper_id}\">\"\"\"\n",
    "    txt = '<div id=\"qrcode\">' + txt + '</div>'\n",
    "    return txt\n",
    "\n",
    "\n",
    "def clean_non_western_encoded_characters_commands(text: str) -> str:\n",
    "    \"\"\" Remove non-western encoded characters from a string\n",
    "    List may need to grow.\n",
    "    \n",
    "    :param text: the text to clean\n",
    "    :return: the cleaned text\n",
    "    \"\"\"\n",
    "    text = re.sub(r\"(\\\\begin{CJK}{UTF8}{gbsn})(.*?)(\\\\end{CJK})\", r\"\\2\", text)\n",
    "    return text\n",
    "\n",
    "\n",
    "def get_initials(name: str) -> str:\n",
    "    \"\"\" Get the short name, e.g., A.-B. FamName\n",
    "    :param name: full name\n",
    "    :returns: initials\n",
    "    \"\"\"\n",
    "    initials = []\n",
    "    # account for non western names often in ()\n",
    "    if '(' in name:\n",
    "        name = clean_non_western_encoded_characters_commands(name)\n",
    "        suffix = re.findall(r\"\\((.*?)\\)\", name)[0]\n",
    "        name = name.replace(f\"({suffix})\", '')\n",
    "    else:\n",
    "        suffix = ''\n",
    "    split = name.split()\n",
    "    for token in split[:-1]:\n",
    "        if '-' in token:\n",
    "            current = '-'.join([k[0] + '.' for k in token.split('-')])\n",
    "        else:\n",
    "            current = token[0] + '.'\n",
    "        initials.append(current)\n",
    "    initials.append(split[-1].strip())\n",
    "    if suffix:\n",
    "        initials.append(f\"({suffix})\")\n",
    "    return ' '.join(initials)"
   ]
  },
  {
   "cell_type": "markdown",
   "id": "14bd6310",
   "metadata": {
    "papermill": {
     "duration": 0.002924,
     "end_time": "2025-10-23T04:13:25.244485",
     "exception": false,
     "start_time": "2025-10-23T04:13:25.241561",
     "status": "completed"
    },
    "tags": []
   },
   "source": [
    "## get list of arxiv paper candidates\n",
    "\n",
    "We use the MPIA mitarbeiter list webpage from mpia.de to get author names\n",
    "We then get all new papers from Arxiv and match authors"
   ]
  },
  {
   "cell_type": "code",
   "execution_count": 3,
   "id": "7ea813a8",
   "metadata": {
    "execution": {
     "iopub.execute_input": "2025-10-23T04:13:25.251146Z",
     "iopub.status.busy": "2025-10-23T04:13:25.250964Z",
     "iopub.status.idle": "2025-10-23T04:13:47.063729Z",
     "shell.execute_reply": "2025-10-23T04:13:47.063097Z"
    },
    "papermill": {
     "duration": 21.817378,
     "end_time": "2025-10-23T04:13:47.064854",
     "exception": false,
     "start_time": "2025-10-23T04:13:25.247476",
     "status": "completed"
    },
    "tags": []
   },
   "outputs": [],
   "source": [
    "# deal with the author list and edge cases of people that cannot be consistent on their name  \n",
    "\n",
    "def filter_non_scientists(name: str) -> bool:\n",
    "    \"\"\" Loose filter on expected authorships\n",
    "\n",
    "    removing IT, administration, technical staff\n",
    "    :param name: name\n",
    "    :returns: False if name is not a scientist\n",
    "    \"\"\"\n",
    "    remove_list = ['Licht', 'Binroth', 'Witzel', 'Jordan',\n",
    "                   'Zähringer', 'Scheerer', 'Hoffmann', 'Düe',\n",
    "                   'Hellmich', 'Enkler-Scharpegge', 'Witte-Nguy',\n",
    "                   'Dehen', 'Beckmann', 'Jager', 'Jäger'\n",
    "                  ]\n",
    "\n",
    "    for k in remove_list:\n",
    "        if k in name:\n",
    "            return False\n",
    "    return True\n",
    "\n",
    "def add_author_to_list(author_list: list) -> list:\n",
    "    \"\"\" Add author to list if not already in list\n",
    "    \n",
    "    :param author: author name\n",
    "    :param author_list: list of authors\n",
    "    :returns: updated list of authors\n",
    "    \"\"\"\n",
    "    add_list = ['T. Henning']\n",
    "\n",
    "    for author in add_list:\n",
    "        if author not in author_list:\n",
    "            author_list.append(author)\n",
    "    return author_list\n",
    "\n",
    "# get list from MPIA website\n",
    "# filter for non-scientists (mpia.get_mpia_mitarbeiter_list() does some filtering)\n",
    "mpia_authors = [k[1] for k in mpia.get_mpia_mitarbeiter_list() if filter_non_scientists(k[1])]\n",
    "# add some missing author because of inconsistencies in their MPIA name and author name on papers\n",
    "mpia_authors = add_author_to_list(mpia_authors)"
   ]
  },
  {
   "cell_type": "code",
   "execution_count": 4,
   "id": "2645e73a",
   "metadata": {
    "execution": {
     "iopub.execute_input": "2025-10-23T04:13:47.072080Z",
     "iopub.status.busy": "2025-10-23T04:13:47.071871Z",
     "iopub.status.idle": "2025-10-23T04:13:49.617007Z",
     "shell.execute_reply": "2025-10-23T04:13:49.616374Z"
    },
    "papermill": {
     "duration": 2.549846,
     "end_time": "2025-10-23T04:13:49.618025",
     "exception": false,
     "start_time": "2025-10-23T04:13:47.068179",
     "status": "completed"
    },
    "tags": []
   },
   "outputs": [
    {
     "name": "stdout",
     "output_type": "stream",
     "text": [
      "J. Li  ->  J. Li  |  ['J. Li']\n",
      "K. El-Badry  ->  K. El-Badry  |  ['K. El-Badry']\n",
      "S. Kumar  ->  S. Kumar  |  ['S. Kumar']\n",
      "T. Henning  ->  T. Henning  |  ['T. Henning']\n",
      "Y. Reinarz  ->  Y. Reinarz  |  ['Y. Reinarz']\n",
      "Y. Wang  ->  Y. Wang  |  ['Y. Wang']\n"
     ]
    },
    {
     "name": "stdout",
     "output_type": "stream",
     "text": [
      "Arxiv has 64 new papers today\n",
      "          5 with possible author matches\n"
     ]
    }
   ],
   "source": [
    "new_papers = get_new_papers()\n",
    "# add manual references\n",
    "add_paper_refs = []\n",
    "new_papers.extend([get_paper_from_identifier(k) for k in add_paper_refs])\n",
    "\n",
    "def robust_call(fn, value, *args, **kwargs):\n",
    "    try:\n",
    "        return fn(value, *args, **kwargs)\n",
    "    except Exception:\n",
    "        return value\n",
    "\n",
    "candidates = []\n",
    "for paperk in new_papers:\n",
    "    # Check author list with their initials\n",
    "    normed_author_list = [robust_call(mpia.get_initials, k) for k in paperk['authors']]\n",
    "    hl_authors = highlight_authors_in_list(normed_author_list, mpia_authors, verbose=True)\n",
    "    matches = [(hl, orig) for hl, orig in zip(hl_authors, paperk['authors']) if 'mark' in hl]\n",
    "    paperk['authors'] = hl_authors\n",
    "    if matches:\n",
    "        # only select paper if an author matched our list\n",
    "        candidates.append(paperk)\n",
    "print(\"\"\"Arxiv has {0:,d} new papers today\"\"\".format(len(new_papers)))        \n",
    "print(\"\"\"          {0:,d} with possible author matches\"\"\".format(len(candidates)))"
   ]
  },
  {
   "cell_type": "markdown",
   "id": "3543b34a",
   "metadata": {
    "papermill": {
     "duration": 0.003112,
     "end_time": "2025-10-23T04:13:49.624725",
     "exception": false,
     "start_time": "2025-10-23T04:13:49.621613",
     "status": "completed"
    },
    "tags": []
   },
   "source": [
    "# Parse sources and generate relevant outputs\n",
    "\n",
    "From the candidates, we do the following steps:\n",
    "* get their tarball from ArXiv (and extract data)\n",
    "* find the main .tex file: find one with \\documentclass{...} (sometimes it's non trivial)\n",
    "* Check affiliations with :func:`validation`, which uses :func:`mpia.affiliation_verifications`\n",
    "* If passing the affiliations: we parse the .tex source\n",
    "   * inject sub-documents into the main (flatten the main document)\n",
    "   * parse structure, extract information (title, abstract, authors, figures...)\n",
    "   * handles `\\graphicspath` if provided\n",
    "* Generate the .md document."
   ]
  },
  {
   "cell_type": "code",
   "execution_count": 5,
   "id": "9576b79e",
   "metadata": {
    "execution": {
     "iopub.execute_input": "2025-10-23T04:13:49.631705Z",
     "iopub.status.busy": "2025-10-23T04:13:49.631484Z",
     "iopub.status.idle": "2025-10-23T04:14:47.626158Z",
     "shell.execute_reply": "2025-10-23T04:14:47.625329Z"
    },
    "papermill": {
     "duration": 57.999443,
     "end_time": "2025-10-23T04:14:47.627248",
     "exception": false,
     "start_time": "2025-10-23T04:13:49.627805",
     "status": "completed"
    },
    "scrolled": false,
    "tags": []
   },
   "outputs": [
    {
     "data": {
      "application/vnd.jupyter.widget-view+json": {
       "model_id": "d4985784821948a99fe542e0571befb4",
       "version_major": 2,
       "version_minor": 0
      },
      "text/plain": [
       "  0%|          | 0/5 [00:00<?, ?it/s]"
      ]
     },
     "metadata": {},
     "output_type": "display_data"
    },
    {
     "name": "stdout",
     "output_type": "stream",
     "text": [
      "Retrieving document from  https://arxiv.org/e-print/2510.18955\n"
     ]
    },
    {
     "name": "stdout",
     "output_type": "stream",
     "text": [
      "extracting tarball to tmp_2510.18955..."
     ]
    },
    {
     "name": "stdout",
     "output_type": "stream",
     "text": [
      " done.\n",
      "Retrieving document from  https://arxiv.org/e-print/2510.18965\n"
     ]
    },
    {
     "name": "stdout",
     "output_type": "stream",
     "text": [
      "extracting tarball to tmp_2510.18965..."
     ]
    },
    {
     "name": "stdout",
     "output_type": "stream",
     "text": [
      " done.\n",
      "Retrieving document from  https://arxiv.org/e-print/2510.19010\n"
     ]
    },
    {
     "name": "stdout",
     "output_type": "stream",
     "text": [
      "extracting tarball to tmp_2510.19010..."
     ]
    },
    {
     "name": "stdout",
     "output_type": "stream",
     "text": [
      " done.\n",
      "Retrieving document from  https://arxiv.org/e-print/2510.19162\n"
     ]
    },
    {
     "name": "stderr",
     "output_type": "stream",
     "text": [
      "/opt/hostedtoolcache/Python/3.9.23/x64/lib/python3.9/site-packages/IPython/core/interactiveshell.py:3550: LatexWarning: Multiple tex files.\n",
      "\n",
      "  exec(code_obj, self.user_global_ns, self.user_ns)\n",
      "/opt/hostedtoolcache/Python/3.9.23/x64/lib/python3.9/site-packages/IPython/core/interactiveshell.py:3550: LatexWarning: Found documentclass in tmp_2510.19010/main.tex\n",
      "\n",
      "  exec(code_obj, self.user_global_ns, self.user_ns)\n",
      "/opt/hostedtoolcache/Python/3.9.23/x64/lib/python3.9/site-packages/arxiv_on_deck_2/latex.py:414: LatexWarning: Latex injecting: 'acro_local.tex' from 'tmp_2510.19010/acro_local.tex'\n",
      "  warnings.warn(LatexWarning(f\"Latex injecting: '{ext}' from '{subsource}'\"))\n"
     ]
    },
    {
     "name": "stdout",
     "output_type": "stream",
     "text": [
      "extracting tarball to tmp_2510.19162..."
     ]
    },
    {
     "name": "stdout",
     "output_type": "stream",
     "text": [
      " done.\n"
     ]
    },
    {
     "name": "stdout",
     "output_type": "stream",
     "text": [
      "T. Henning  ->  T. Henning  |  ['T. Henning']\n",
      "L. Acuña  ->  L. Acuña  |  ['L. Acuña']\n",
      "Y. Reinarz  ->  Y. Reinarz  |  ['Y. Reinarz']\n"
     ]
    },
    {
     "name": "stdout",
     "output_type": "stream",
     "text": [
      "Found 82 bibliographic references in tmp_2510.19162/sample701.bbl.\n",
      "Retrieving document from  https://arxiv.org/e-print/2510.19584\n"
     ]
    },
    {
     "name": "stdout",
     "output_type": "stream",
     "text": [
      "extracting tarball to tmp_2510.19584..."
     ]
    },
    {
     "name": "stdout",
     "output_type": "stream",
     "text": [
      " done.\n"
     ]
    }
   ],
   "source": [
    "documents = []\n",
    "failed = []\n",
    "for paper in tqdm(candidates):\n",
    "    # debug crap\n",
    "    paper['identifier'] = paper['identifier'].lower().replace('arxiv:', '').replace(r'\\n', '').strip()\n",
    "    paper_id = paper['identifier']\n",
    "    \n",
    "    folder = f'tmp_{paper_id}'\n",
    "\n",
    "    try:\n",
    "        if not os.path.isdir(folder):\n",
    "            folder = retrieve_document_source(f\"{paper_id}\", f'tmp_{paper_id}')\n",
    "        \n",
    "        try:\n",
    "            doc = latex.LatexDocument(folder, validation=validation)    \n",
    "        except AffiliationError as affilerror:\n",
    "            msg = f\"ArXiv:{paper_id:s} is not an MPIA paper... \" + str(affilerror)\n",
    "            failed.append((paper, \"affiliation error: \" + str(affilerror) ))\n",
    "            continue\n",
    "        \n",
    "        # Hack because sometimes author parsing does not work well\n",
    "        if (len(doc.authors) != len(paper['authors'])):\n",
    "            doc._authors = paper['authors']\n",
    "        else:\n",
    "            # highlight authors (FIXME: doc.highlight_authors)\n",
    "            # done on arxiv paper already\n",
    "            doc._authors = highlight_authors_in_list(\n",
    "                [get_initials(k) for k in doc.authors], \n",
    "                mpia_authors, verbose=True)\n",
    "        if (doc.abstract) in (None, ''):\n",
    "            doc._abstract = paper['abstract']\n",
    "            \n",
    "        doc.comment = (get_markdown_badge(paper_id) + \n",
    "                       \"<mark>Appeared on: \" + paper['date'] + \"</mark> - \")\n",
    "        if paper['comments']:\n",
    "            doc.comment += \" _\" + paper['comments'] + \"_\"\n",
    "        \n",
    "        full_md = doc.generate_markdown_text()\n",
    "        \n",
    "        full_md += get_markdown_qrcode(paper_id)\n",
    "        \n",
    "        # replace citations\n",
    "        try:\n",
    "            bibdata = latex_bib.LatexBib.from_doc(doc)\n",
    "            full_md = latex_bib.replace_citations(full_md, bibdata)\n",
    "        except Exception as e:\n",
    "            print(\"Issues with the citations\")\n",
    "            print(e)\n",
    "        \n",
    "        documents.append((paper_id, full_md))\n",
    "    except Exception as e:\n",
    "        warnings.warn(latex.LatexWarning(f\"{paper_id:s} did not run properly\\n\" +\n",
    "                                         str(e)\n",
    "                                        ))\n",
    "        failed.append((paper, \"latex error \" + str(e)))"
   ]
  },
  {
   "cell_type": "markdown",
   "id": "2505a25c",
   "metadata": {
    "papermill": {
     "duration": 0.003896,
     "end_time": "2025-10-23T04:14:47.635349",
     "exception": false,
     "start_time": "2025-10-23T04:14:47.631453",
     "status": "completed"
    },
    "tags": []
   },
   "source": [
    "### Export the logs\n",
    "\n",
    "Throughout, we also keep track of the logs per paper. see `logs-{today date}.md` "
   ]
  },
  {
   "cell_type": "code",
   "execution_count": 6,
   "id": "d733828a",
   "metadata": {
    "execution": {
     "iopub.execute_input": "2025-10-23T04:14:47.643979Z",
     "iopub.status.busy": "2025-10-23T04:14:47.643766Z",
     "iopub.status.idle": "2025-10-23T04:14:47.659512Z",
     "shell.execute_reply": "2025-10-23T04:14:47.659010Z"
    },
    "papermill": {
     "duration": 0.021233,
     "end_time": "2025-10-23T04:14:47.660468",
     "exception": false,
     "start_time": "2025-10-23T04:14:47.639235",
     "status": "completed"
    },
    "scrolled": false,
    "tags": []
   },
   "outputs": [
    {
     "data": {
      "text/markdown": [
       "## Successful papers"
      ],
      "text/plain": [
       "<IPython.core.display.Markdown object>"
      ]
     },
     "metadata": {},
     "output_type": "display_data"
    },
    {
     "data": {
      "text/markdown": [
       "\n",
       "|||\n",
       "|---:|:---|\n",
       "| [![arXiv](https://img.shields.io/badge/arXiv-2510.19162-b31b1b.svg)](https://arxiv.org/abs/2510.19162) | **A Compact Multi-Planet System of Three Transiting Giant Planets Around TIC118798035**  |\n",
       "|| R. Brahm, et al. -- incl., <mark>T. Henning</mark>, <mark>Y. Reinarz</mark> |\n",
       "|*Appeared on*| *2025-10-23*|\n",
       "|*Comments*| *17 pages, submitted to AAS journals*|\n",
       "|**Abstract**|            We report the discovery and characterization of three transiting giant planets in the TIC118798035 system. The three planets were identified as transiting candidates from data of the TESS mission, and confirmed with ground-based photometric transit observations along with radial velocity variations obtained with FEROS, HARPS and ESPRESSO. The three planets present transit timing variations (TTVs). We performed a N-body orbital fitting to the TTVs and radial velocities finding that TIC118798035 b is as warm low-density Neptune with a mass of 0.0250$\\pm$0.0023 $M_J$, a radius of 0.655$\\pm$0.018 $R_J$, and an orbital period of 11.507 d; TIC118798035 c is a warm Saturn with a mass of 0.403$\\pm$0.024 $M_J$, a radius of 0.973$\\pm$0.023 $R_J$, and an orbital period of 22.564 d; and TIC118798035 d is a warm Jupiter with a mass of 0.773$\\pm$0.052 $M_J$, a radius of 0.923$\\pm$0.044 $R_J$, and an orbital period of 48.925 d. The bulk metallicities of the three planets don't fully follow the mass-metallicity correlation found for the giant planets of the solar system, which hints at a somewhat different formation history for the planets of the TIC118798035 system. TIC118798035 is the only system having more than two transiting planets larger than 0.5 $R_J$ with a precise orbital and physical characterization, amenable for future atmospheric studies.         |"
      ],
      "text/plain": [
       "[2510.19162] A Compact Multi-Planet System of Three Transiting Giant Planets Around TIC118798035\n",
       "\tR. Brahm, et al. -- incl., <mark>T. Henning</mark>, <mark>Y. Reinarz</mark>"
      ]
     },
     "metadata": {},
     "output_type": "display_data"
    },
    {
     "data": {
      "text/markdown": [
       "## Failed papers"
      ],
      "text/plain": [
       "<IPython.core.display.Markdown object>"
      ]
     },
     "metadata": {},
     "output_type": "display_data"
    },
    {
     "data": {
      "text/markdown": [
       "\n",
       "|||\n",
       "|---:|:---|\n",
       "| [![arXiv](https://img.shields.io/badge/arXiv-2510.18955-b31b1b.svg)](https://arxiv.org/abs/2510.18955) | **Intruder Alert: Breaking Resonant Chains with Planetesimal Flybys**  |\n",
       "|| <mark>J. Li</mark>, C. E. O'Connor, F. A. Rasio |\n",
       "|*Appeared on*| *2025-10-23*|\n",
       "|*Comments*| *Lead jointly by JL and CEO, 16 pages, 7 figures, 2 tables, submitted to ApJL*|\n",
       "|**Abstract**|            The orbital architectures of compact exoplanet systems record their complicated dynamical histories. Recent research supports the ``breaking-the-chains'' hypothesis, which proposes that compact systems typically form in chains of mean-motion resonances (MMRs) but subsequently break out on a $\\sim 100$Myr timescale. We investigate a scenario for breaking the chains through intermittent flybys of planetesimals originating from a distant reservoir. Using $N$-body simulations and semi-analytical calculations, we characterize the disruption of MMRs through these flybys. We find a planetesimal reservoir of total mass $\\gtrsim 0.04 M_{\\oplus}$ is required to disrupt MMR chains, depending on the mass distribution and the typical number of flybys executed by each planetesimal. We verify that systems disrupted in this way are frequently unstable to close encounters within $\\sim 100$Myr of the final flyby. This mechanism operates in systems with both a sufficiently massive reservoir and an efficient mechanism for planetesimal injection. Consequently, we predict an anti-correlation between resonant inner systems and dynamically active outer configurations.         |\n",
       "|<p style=\"color:green\"> **ERROR** </p>| <p style=\"color:green\">affiliation error: mpia.affiliation_verifications: 'Heidelberg' keyword not found.</p> |"
      ],
      "text/plain": [
       "<IPython.core.display.Markdown object>"
      ]
     },
     "metadata": {},
     "output_type": "display_data"
    },
    {
     "data": {
      "text/markdown": [
       "\n",
       "|||\n",
       "|---:|:---|\n",
       "| [![arXiv](https://img.shields.io/badge/arXiv-2510.18965-b31b1b.svg)](https://arxiv.org/abs/2510.18965) | **Intermediate-Mass Stripped Stars in the Magellanic Clouds: Forward Modeling the Observed Population Discovered Via UV Excess**  |\n",
       "|| L. Blomberg, et al. -- incl., <mark>K. El-Badry</mark> |\n",
       "|*Appeared on*| *2025-10-23*|\n",
       "|*Comments*| *29 pages, 19 figures, submitted to PASP*|\n",
       "|**Abstract**|            Stripped stars are hot, helium-rich stars formed when binary interactions remove a star's hydrogen envelope. While low-mass ($\\lesssim 1\\,M_\\odot$) and high-mass ($\\gtrsim 8\\,M_\\odot$) stripped stars are well studied as hot subdwarfs and Wolf-Rayet stars, their intermediate-mass counterparts ($1-8 \\,M_\\odot$) have only recently been discovered. The Stripped-Star Ultraviolet Magellanic Cloud Survey (SUMS) identified UV-excess sources in the Magellanic Clouds using Swift-UVOT photometry and selected 820 photometric stripped-star candidates. However, the selection function, completeness, and purity of this sample remain poorly understood. We forward model the population of stripped stars in the Magellanic Clouds using a binary population synthesis model combined with spatially resolved star formation histories and simulated UV photometry. To assess survey sensitivity, we inject simulated sources into real Swift-UVOT images and reproduce the SUMS selection process, including crowding, extinction, and photometric quality cuts. We recover $\\sim 250$ simulated stripped stars with masses $\\gtrsim 1\\,M_{\\odot}$, which corresponds to a recover rate of $9-13\\,\\%$. The rest are missed due to dilution by luminous companions, crowding, and high extinction. The observed population is biased toward systems with low-mass companions formed by common envelope evolution and toward systems with compact object companions. Of the stripped stars which show UV excess, $25-45\\,\\%$ are identifiable by SUMS; higher-resolution data or improved reddening corrections are needed to detect the rest. We predict contamination of the observed stripped star candidates by main-sequence stars with spurious UV excess due to crowding and provide guidelines for selecting higher-purity subsamples. These results enable tests of binary evolution models and realistic comparison of observed and simulated stripped-star populations.         |\n",
       "|<p style=\"color:green\"> **ERROR** </p>| <p style=\"color:green\">affiliation error: mpia.affiliation_verifications: 'Heidelberg' keyword not found.</p> |"
      ],
      "text/plain": [
       "<IPython.core.display.Markdown object>"
      ]
     },
     "metadata": {},
     "output_type": "display_data"
    },
    {
     "data": {
      "text/markdown": [
       "\n",
       "|||\n",
       "|---:|:---|\n",
       "| [![arXiv](https://img.shields.io/badge/arXiv-2510.19010-b31b1b.svg)](https://arxiv.org/abs/2510.19010) | **Constraints on Axion-Like Particles from VERITAS Observations of a Flaring Radio Galaxy in the Perseus Cluster**  |\n",
       "|| C. B. Adams, et al. -- incl., <mark>S. Kumar</mark> |\n",
       "|*Appeared on*| *2025-10-23*|\n",
       "|*Comments*| *18 pages, 6 figures, accepted for publication in the Physical Review D (PRD)*|\n",
       "|**Abstract**|            Background: Axion-like particles (ALPs) are hypothetical particles that emerge in numerous theoretical extensions to the Standard Model. Their coupling to electromagnetic field implies that ALPs would mix with photons in the presence of external magnetic fields. As ALP phenomenology is governed by the mass and strength of its coupling, there is a subset of this parameter space in which this mixing would be expected to leave an imprint on the spectra of TeV gamma-ray sources. Data: In 2017, the VERITAS gamma-ray observatory recorded the second day of a dramatic flare of the radio galaxy NGC 1275, embedded at the center of the Perseus galaxy cluster. This serendipitous locale provides a spatially-extended magnetic field of strength O(10$\\mu$G) through which escaping photons traverse, making it an excellent target to study ALPs. Methods: We analyze the VERITAS data of NGC 1275's 2017 flare with the gammapy analysis package. Extensive fitting and modeling are performed to ultimately conduct a likelihood analysis used to search for any evidence of a preference for ALPs and to explore the confidence with which constraints can be set. We adopt the CLs method for this study for its conservative approach to setting limits in regimes where the search has limited sensitivity. Results: No evidence for the existence of ALPs is found, and no combination of mass and coupling strength can be excluded at or above 95% confidence level. We provide a map showing the strength of our exclusions in the mass and coupling parameter space. The strongest exclusions are found in the mass range $2 \\times 10^{-7}$eV $\\lesssim m_a \\lesssim 4 \\times 10^{-7}$eV and at the coupling strength of $g_{a\\gamma} \\gtrsim 3 \\times 10^{-11}$ GeV$^{-1}$ up to 80% confidence level, which are consistent with previous studies. Conclusions: We find the CLs method to be a trustworthy approach, and advocate for its...         |\n",
       "|<p style=\"color:green\"> **ERROR** </p>| <p style=\"color:green\">affiliation error: mpia.affiliation_verifications: 'Heidelberg' keyword not found.</p> |"
      ],
      "text/plain": [
       "<IPython.core.display.Markdown object>"
      ]
     },
     "metadata": {},
     "output_type": "display_data"
    },
    {
     "data": {
      "text/markdown": [
       "\n",
       "|||\n",
       "|---:|:---|\n",
       "| [![arXiv](https://img.shields.io/badge/arXiv-2510.19584-b31b1b.svg)](https://arxiv.org/abs/2510.19584) | **Accretion with two-phase gas supply and its application in black hole X-ray binaries**  |\n",
       "|| <mark>Y. Wang</mark>, B. F. Liu, M. Liu |\n",
       "|*Appeared on*| *2025-10-23*|\n",
       "|*Comments*| *10 pages, 6 figures; accepted for publication in MNRAS*|\n",
       "|**Abstract**|            Accretion in black hole X-ray binaries is commonly believed to be supplied by the Roche lobe overflow or the stellar wind. The former is thought to form a geometrically thin disc while the diffuse wind could form a geometrically thick hot accretion flow. In this paper, we instead consider a more generalised case, i.e., accretion with both cold and hot gas supplies, which feed a disc and a corona respectively. We investigate the interaction of disc and corona by analysing the energy coupling and matter exchange, i.e. corona condensation/disc evaporation, with a semi-analytical method. It is found that the accretion geometry in the radial direction and the resultant emission spectrum depend strongly on both the total gas supply rate and the ratio of cold and hot gases. For gas supply rates of a few percent of the Eddington value, diverse geometries and spectral shapes are possible, depending on the fraction of cold gas supply. This provides an interpretation for the various spectra observed in intermediate states. However, at higher accretion rates, regardless of the form of the feeding gas, the inner accretion flow is always disc-dominated, implying an inevitable transition to the soft state, while at very low gas supply rates, hard state spectrum dominated by the hot flow is expected. We also present the predicted hardness-intensity correlation of Cygnus X-1, and constrain the value of the viscosity parameter of the accretion flow to the range of 0.25--0.35 by comparing our results with MAXI observations.         |\n",
       "|<p style=\"color:green\"> **ERROR** </p>| <p style=\"color:green\">affiliation error: mpia.affiliation_verifications: 'Heidelberg' keyword not found.</p> |"
      ],
      "text/plain": [
       "<IPython.core.display.Markdown object>"
      ]
     },
     "metadata": {},
     "output_type": "display_data"
    }
   ],
   "source": [
    "import datetime\n",
    "today = str(datetime.date.today())\n",
    "logfile = f\"_build/html/logs/log-{today}.md\"\n",
    "\n",
    "\n",
    "with open(logfile, 'w') as logs:\n",
    "    # Success\n",
    "    logs.write(f'# Arxiv on Deck 2: Logs - {today}\\n\\n')\n",
    "    logs.write(\"\"\"* Arxiv had {0:,d} new papers\\n\"\"\".format(len(new_papers)))\n",
    "    logs.write(\"\"\"    * {0:,d} with possible author matches\\n\\n\"\"\".format(len(candidates)))\n",
    "    logs.write(\"## Sucessful papers\\n\\n\")\n",
    "    display(Markdown(\"## Successful papers\"))\n",
    "    success = [k[0] for k in documents]\n",
    "    for candid in candidates:\n",
    "        if candid['identifier'].split(':')[-1] in success:\n",
    "            display(candid)\n",
    "            logs.write(candid.generate_markdown_text() + '\\n\\n')\n",
    "\n",
    "    ## failed\n",
    "    logs.write(\"## Failed papers\\n\\n\")\n",
    "    display(Markdown(\"## Failed papers\"))\n",
    "    failed = sorted(failed, key=lambda x: x[1])\n",
    "    current_reason = \"\"\n",
    "    for paper, reason in failed:\n",
    "        if 'affiliation' in reason:\n",
    "            color = 'green'\n",
    "        else:\n",
    "            color = 'red'\n",
    "        data = Markdown(\n",
    "                paper.generate_markdown_text() + \n",
    "                f'\\n|<p style=\"color:{color:s}\"> **ERROR** </p>| <p style=\"color:{color:s}\">{reason:s}</p> |'\n",
    "               )\n",
    "        if reason != current_reason:\n",
    "            logs.write(f'### {reason:s} \\n\\n')\n",
    "            current_reason = reason\n",
    "        logs.write(data.data + '\\n\\n')\n",
    "        \n",
    "        # only display here the important errors (all in logs)\n",
    "        # if color in ('red',):\n",
    "        display(data)"
   ]
  },
  {
   "cell_type": "markdown",
   "id": "472d20ee",
   "metadata": {
    "papermill": {
     "duration": 0.004504,
     "end_time": "2025-10-23T04:14:47.670135",
     "exception": false,
     "start_time": "2025-10-23T04:14:47.665631",
     "status": "completed"
    },
    "tags": []
   },
   "source": [
    "## Export documents\n",
    "\n",
    "We now write the .md files and export relevant images"
   ]
  },
  {
   "cell_type": "code",
   "execution_count": 7,
   "id": "d426aed9",
   "metadata": {
    "execution": {
     "iopub.execute_input": "2025-10-23T04:14:47.680030Z",
     "iopub.status.busy": "2025-10-23T04:14:47.679831Z",
     "iopub.status.idle": "2025-10-23T04:14:47.686414Z",
     "shell.execute_reply": "2025-10-23T04:14:47.685880Z"
    },
    "papermill": {
     "duration": 0.012586,
     "end_time": "2025-10-23T04:14:47.687308",
     "exception": false,
     "start_time": "2025-10-23T04:14:47.674722",
     "status": "completed"
    },
    "tags": []
   },
   "outputs": [],
   "source": [
    "def export_markdown_summary(md: str, md_fname:str, directory: str):\n",
    "    \"\"\"Export MD document and associated relevant images\"\"\"\n",
    "    import os\n",
    "    import shutil\n",
    "    import re\n",
    "\n",
    "    if (os.path.exists(directory) and not os.path.isdir(directory)):\n",
    "        raise RuntimeError(f\"a non-directory file exists with name {directory:s}\")\n",
    "\n",
    "    if (not os.path.exists(directory)):\n",
    "        print(f\"creating directory {directory:s}\")\n",
    "        os.mkdir(directory)\n",
    "\n",
    "    fig_fnames = (re.compile(r'\\[Fig.*\\]\\((.*)\\)').findall(md) + \n",
    "                  re.compile(r'\\<img src=\"([^>\\s]*)\"[^>]*/>').findall(md))\n",
    "    print(\"found figures\", fig_fnames)\n",
    "    for fname in fig_fnames:\n",
    "        if 'http' in fname:\n",
    "            # No need to copy online figures\n",
    "            continue\n",
    "        if not os.path.exists(fname):\n",
    "            print(\"file not found\", fname)\n",
    "            continue\n",
    "        print(\"copying \", fname, \"to\", directory)\n",
    "        destdir = os.path.join(directory, os.path.dirname(fname))\n",
    "        destfname = os.path.join(destdir, os.path.basename(fname))\n",
    "        try:\n",
    "            os.makedirs(destdir)\n",
    "        except FileExistsError:\n",
    "            pass\n",
    "        shutil.copy(fname, destfname)\n",
    "    with open(os.path.join(directory, md_fname), 'w') as fout:\n",
    "        fout.write(md)\n",
    "    print(\"exported in \", os.path.join(directory, md_fname))\n",
    "    [print(\"    + \" + os.path.join(directory,fk)) for fk in fig_fnames]"
   ]
  },
  {
   "cell_type": "code",
   "execution_count": 8,
   "id": "014d04a4",
   "metadata": {
    "execution": {
     "iopub.execute_input": "2025-10-23T04:14:47.697379Z",
     "iopub.status.busy": "2025-10-23T04:14:47.697150Z",
     "iopub.status.idle": "2025-10-23T04:14:47.704107Z",
     "shell.execute_reply": "2025-10-23T04:14:47.703605Z"
    },
    "papermill": {
     "duration": 0.013112,
     "end_time": "2025-10-23T04:14:47.705085",
     "exception": false,
     "start_time": "2025-10-23T04:14:47.691973",
     "status": "completed"
    },
    "tags": []
   },
   "outputs": [
    {
     "name": "stdout",
     "output_type": "stream",
     "text": [
      "found figures ['tmp_2510.19162/./TIC118798035_planetb.png', 'tmp_2510.19162/./a_evol.png', 'tmp_2510.19162/./e_evol.png', 'tmp_2510.19162/./i_evol.png', 'tmp_2510.19162/./P1_evol.png', 'tmp_2510.19162/./P2_evol.png', 'tmp_2510.19162/./Delta_w_evol.png', 'tmp_2510.19162/./periodogram.png', 'tmp_2510.19162/./periodogram_all.png']\n",
      "copying  tmp_2510.19162/./TIC118798035_planetb.png to _build/html/\n",
      "copying  tmp_2510.19162/./a_evol.png to _build/html/\n",
      "copying  tmp_2510.19162/./e_evol.png to _build/html/\n",
      "copying  tmp_2510.19162/./i_evol.png to _build/html/\n",
      "copying  tmp_2510.19162/./P1_evol.png to _build/html/\n",
      "copying  tmp_2510.19162/./P2_evol.png to _build/html/\n",
      "copying  tmp_2510.19162/./Delta_w_evol.png to _build/html/\n",
      "copying  tmp_2510.19162/./periodogram.png to _build/html/\n",
      "copying  tmp_2510.19162/./periodogram_all.png to _build/html/\n",
      "exported in  _build/html/2510.19162.md\n",
      "    + _build/html/tmp_2510.19162/./TIC118798035_planetb.png\n",
      "    + _build/html/tmp_2510.19162/./a_evol.png\n",
      "    + _build/html/tmp_2510.19162/./e_evol.png\n",
      "    + _build/html/tmp_2510.19162/./i_evol.png\n",
      "    + _build/html/tmp_2510.19162/./P1_evol.png\n",
      "    + _build/html/tmp_2510.19162/./P2_evol.png\n",
      "    + _build/html/tmp_2510.19162/./Delta_w_evol.png\n",
      "    + _build/html/tmp_2510.19162/./periodogram.png\n",
      "    + _build/html/tmp_2510.19162/./periodogram_all.png\n"
     ]
    }
   ],
   "source": [
    "for paper_id, md in documents:\n",
    "    export_markdown_summary(md, f\"{paper_id:s}.md\", '_build/html/')"
   ]
  },
  {
   "cell_type": "markdown",
   "id": "f087a0a7",
   "metadata": {
    "papermill": {
     "duration": 0.004623,
     "end_time": "2025-10-23T04:14:47.714419",
     "exception": false,
     "start_time": "2025-10-23T04:14:47.709796",
     "status": "completed"
    },
    "tags": []
   },
   "source": [
    "## Display the papers\n",
    "\n",
    "Not necessary but allows for a quick check."
   ]
  },
  {
   "cell_type": "code",
   "execution_count": 9,
   "id": "fd25f625",
   "metadata": {
    "execution": {
     "iopub.execute_input": "2025-10-23T04:14:47.724508Z",
     "iopub.status.busy": "2025-10-23T04:14:47.724332Z",
     "iopub.status.idle": "2025-10-23T04:14:47.728473Z",
     "shell.execute_reply": "2025-10-23T04:14:47.727943Z"
    },
    "papermill": {
     "duration": 0.010298,
     "end_time": "2025-10-23T04:14:47.729412",
     "exception": false,
     "start_time": "2025-10-23T04:14:47.719114",
     "status": "completed"
    },
    "scrolled": false,
    "tags": []
   },
   "outputs": [
    {
     "data": {
      "text/markdown": [
       "<div class=\"macros\" style=\"visibility:hidden;\">\n",
       "$\\newcommand{\\ensuremath}{}$\n",
       "$\\newcommand{\\xspace}{}$\n",
       "$\\newcommand{\\object}[1]{\\texttt{#1}}$\n",
       "$\\newcommand{\\farcs}{{.}''}$\n",
       "$\\newcommand{\\farcm}{{.}'}$\n",
       "$\\newcommand{\\arcsec}{''}$\n",
       "$\\newcommand{\\arcmin}{'}$\n",
       "$\\newcommand{\\ion}[2]{#1#2}$\n",
       "$\\newcommand{\\textsc}[1]{\\textrm{#1}}$\n",
       "$\\newcommand{\\hl}[1]{\\textrm{#1}}$\n",
       "$\\newcommand{\\footnote}[1]{}$\n",
       "$\\newcommand{\\vdag}{(v)^\\dagger}$\n",
       "$\\newcommand$\n",
       "$\\newcommand$\n",
       "$\\newcommand$\n",
       "$\\newcommand$\n",
       "$\\newcommand$\n",
       "$\\newcommand$\n",
       "$\\newcommand{\\rPb}{11.507 d}$\n",
       "$\\newcommand{\\rPc}{22.564 d}$\n",
       "$\\newcommand{\\rPd}{48.925 d}$\n",
       "$\\newcommand{\\rpl}{R_P}$\n",
       "$\\newcommand{\\mpl}{M_P}$\n",
       "$\\newcommand{\\rjup}{R_J}$\n",
       "$\\newcommand{\\mjup}{M_J}$\n",
       "$\\newcommand{\\rsun}{R_{\\odot}}$\n",
       "$\\newcommand{\\msun}{M_{\\odot}}$\n",
       "$\\newcommand{\\rpb}{0.655\\pm0.018 \\rjup}$\n",
       "$\\newcommand{\\rpc}{0.973\\pm0.023 \\rjup}$\n",
       "$\\newcommand{\\rpd}{0.923\\pm0.044 \\rjup}$\n",
       "$\\newcommand{\\mpb}{0.0250\\pm0.0023 \\mjup}$\n",
       "$\\newcommand{\\mpc}{0.403\\pm0.024 \\mjup}$\n",
       "$\\newcommand{\\mpd}{0.773\\pm0.052 \\mjup}$\n",
       "$\\newcommand{\\thetable}{A\\arabic{table}}$\n",
       "$\\newcommand{\\thefigure}{A\\arabic{figure}}$</div>\n",
       "\n",
       "\n",
       "\n",
       "<div id=\"title\">\n",
       "\n",
       "# A Compact Multi-Planet System of Three Transiting Giant Planets Around TIC118798035\n",
       "\n",
       "</div>\n",
       "<div id=\"comments\">\n",
       "\n",
       "[![arXiv](https://img.shields.io/badge/arXiv-2510.19162-b31b1b.svg)](https://arxiv.org/abs/2510.19162)<mark>Appeared on: 2025-10-23</mark> -  _17 pages, submitted to AAS journals_\n",
       "\n",
       "</div>\n",
       "<div id=\"authors\">\n",
       "\n",
       "R. Brahm, et al. -- incl., <mark>T. Henning</mark>, <mark>L. Acuña</mark>, <mark>Y. Reinarz</mark>\n",
       "\n",
       "</div>\n",
       "<div id=\"abstract\">\n",
       "\n",
       "**Abstract:** We report the discovery and characterization of three transiting giant planets in the $\\stname$ system. The three planets were identified as transiting candidates from data of the TESS mission, and confirmed with ground-based photometric transit observations along with radial velocity variations obtained with FEROS, HARPS and ESPRESSO. The three planets present transit timing variations (TTVs). We performed a N-body orbital fitting to the TTVs and radial velocities finding that $\\plnameb$ is as warm low-density Neptune with a mass of $\\mpb$ , a radius of $\\rpb$ , and an orbital period of $\\rPb$ ; $\\plnamec$ is a warm Saturn with a mass of $\\mpc$ , a radius of $\\rpc$ , and an orbital period of $\\rPc$ ; and $\\plnamed$ is a warm Jupiter with a mass of $\\mpd$ , a radius of $\\rpd$ , and an orbital period of $\\rPd$ . The bulk metallicities of the three planets don't fully follow the mass-metallicity correlation found for the giant planets of the solar system, which hints at a somewhat different formation history for the planets of the $\\stname$ system. $\\stname$ is the only system having more than two transiting planets larger than 0.5 $R_J$ with a precise orbital and physical characterization, amenable for future atmospheric studies.\n",
       "\n",
       "</div>\n",
       "\n",
       "<div id=\"div_fig1\">\n",
       "\n",
       "<img src=\"tmp_2510.19162/./TIC118798035_planetb.png\" alt=\"Fig2\" width=\"100%\"/>\n",
       "\n",
       "**Figure 2. -** TESS and ground-based transits of \\plnameb centered on the transit time predicted from linear ephemeris. The transit model generated by  \\texttt{juliet} is also plotted for each transit.  (*fig:transitsb*)\n",
       "\n",
       "</div>\n",
       "<div id=\"div_fig2\">\n",
       "\n",
       "<img src=\"tmp_2510.19162/./a_evol.png\" alt=\"Fig10.1\" width=\"16%\"/><img src=\"tmp_2510.19162/./e_evol.png\" alt=\"Fig10.2\" width=\"16%\"/><img src=\"tmp_2510.19162/./i_evol.png\" alt=\"Fig10.3\" width=\"16%\"/><img src=\"tmp_2510.19162/./P1_evol.png\" alt=\"Fig10.4\" width=\"16%\"/><img src=\"tmp_2510.19162/./P2_evol.png\" alt=\"Fig10.5\" width=\"16%\"/><img src=\"tmp_2510.19162/./Delta_w_evol.png\" alt=\"Fig10.6\" width=\"16%\"/>\n",
       "\n",
       "**Figure 10. -** Orbital evolution of the TIC 118798035 system for an extent of 1000 years for the best-fit (maximum $-lnL$) sample from the MCMC posteriors.\n",
       "    *Top panels, from left to right:* evolution of the planetary semi-major axes, eccentricities and inclinations where \\plnameb is shown with blue\n",
       "    \\plnamec with red, and \\plnamed with green, respectively.\n",
       "    *Bottom panels, from left to right* show the evolution of the period ratio between the inner pair $P_{\\rm{c}} / P_{\\rm{b}}$, the outer pair $P_{\\rm{d}} / P_{\\rm{c}}$, and the libration of the apsidal angle $\\Delta\\omega_{c-d}$ in aligned configuration around 0$^\\circ$.\n",
       "     (*evol_plot*)\n",
       "\n",
       "</div>\n",
       "<div id=\"div_fig3\">\n",
       "\n",
       "<img src=\"tmp_2510.19162/./periodogram.png\" alt=\"Fig1.1\" width=\"50%\"/><img src=\"tmp_2510.19162/./periodogram_all.png\" alt=\"Fig1.2\" width=\"50%\"/>\n",
       "\n",
       "**Figure 1. -** GLS periodogram generated from the FEROS, HARPS, and ESPRESSO radial velocities of \\stname. The horizontal lines correspond to the 10\\% and 1\\% false alarm probabilities. The red and blue dashed vertical lines mark the orbital periods of candidates $b$ and $c$, respectively. The green dashed vertical lines mark the possible period aliases of \\plnamed based on TESS photometry.Same as in Figure \\ref{fig:gls} but for the bisector spans, FWHM, and S-index. Here the green dashed line corresponds to the orbital period of \\plnamed constrained by the radial velocities and HATPI light curve. (*fig:gls*)\n",
       "\n",
       "</div><div id=\"qrcode\"><img src=https://api.qrserver.com/v1/create-qr-code/?size=100x100&data=\"https://arxiv.org/abs/2510.19162\"></div>"
      ],
      "text/plain": [
       "<IPython.core.display.Markdown object>"
      ]
     },
     "metadata": {},
     "output_type": "display_data"
    }
   ],
   "source": [
    "[display(Markdown(k[1])) for k in documents];"
   ]
  },
  {
   "cell_type": "markdown",
   "id": "873873a4",
   "metadata": {
    "papermill": {
     "duration": 0.004957,
     "end_time": "2025-10-23T04:14:47.739340",
     "exception": false,
     "start_time": "2025-10-23T04:14:47.734383",
     "status": "completed"
    },
    "tags": []
   },
   "source": [
    "# Create HTML index"
   ]
  },
  {
   "cell_type": "code",
   "execution_count": 10,
   "id": "cf665672",
   "metadata": {
    "execution": {
     "iopub.execute_input": "2025-10-23T04:14:47.749843Z",
     "iopub.status.busy": "2025-10-23T04:14:47.749654Z",
     "iopub.status.idle": "2025-10-23T04:14:47.756409Z",
     "shell.execute_reply": "2025-10-23T04:14:47.755903Z"
    },
    "papermill": {
     "duration": 0.013053,
     "end_time": "2025-10-23T04:14:47.757337",
     "exception": false,
     "start_time": "2025-10-23T04:14:47.744284",
     "status": "completed"
    },
    "tags": []
   },
   "outputs": [
    {
     "name": "stdout",
     "output_type": "stream",
     "text": [
      "114  publications files modified in the last 7 days.\n"
     ]
    }
   ],
   "source": [
    "from datetime import datetime, timedelta, timezone\n",
    "from glob import glob\n",
    "import os\n",
    "\n",
    "files = glob('_build/html/*.md')\n",
    "days = 7\n",
    "now = datetime.today()\n",
    "res = []\n",
    "for fk in files:\n",
    "    stat_result = os.stat(fk).st_ctime\n",
    "    modified = datetime.fromtimestamp(stat_result, tz=timezone.utc).replace(tzinfo=None)\n",
    "    delta = now.today() - modified\n",
    "    if delta <= timedelta(days=days):\n",
    "        res.append((delta.seconds, fk))\n",
    "res = [k[1] for k in reversed(sorted(res, key=lambda x:x[1]))]\n",
    "npub = len(res)\n",
    "print(len(res), f\" publications files modified in the last {days:d} days.\")\n",
    "# [ print('\\t', k) for k in res ];"
   ]
  },
  {
   "cell_type": "code",
   "execution_count": 11,
   "id": "015de740",
   "metadata": {
    "execution": {
     "iopub.execute_input": "2025-10-23T04:14:47.767938Z",
     "iopub.status.busy": "2025-10-23T04:14:47.767762Z",
     "iopub.status.idle": "2025-10-23T04:14:47.778984Z",
     "shell.execute_reply": "2025-10-23T04:14:47.778442Z"
    },
    "papermill": {
     "duration": 0.017673,
     "end_time": "2025-10-23T04:14:47.779963",
     "exception": false,
     "start_time": "2025-10-23T04:14:47.762290",
     "status": "completed"
    },
    "tags": []
   },
   "outputs": [
    {
     "name": "stdout",
     "output_type": "stream",
     "text": [
      "10  publications in the last 7 days.\n"
     ]
    }
   ],
   "source": [
    "import datetime\n",
    "from glob import glob\n",
    "\n",
    "def get_last_n_days(lst, days=1):\n",
    "    \"\"\" Get the documents from the last n days \"\"\"\n",
    "    sorted_lst = sorted(lst, key=lambda x: x[1], reverse=True)\n",
    "    for fname, date in sorted_lst:\n",
    "        if date >= str(datetime.date.today() - datetime.timedelta(days=days)):\n",
    "            yield fname\n",
    "\n",
    "def extract_appearance_dates(lst_file):\n",
    "    dates = []\n",
    "\n",
    "    def get_date(line):\n",
    "        return line\\\n",
    "            .split('Appeared on:')[-1]\\\n",
    "            .split('</mark>')[0].strip()\n",
    "\n",
    "    for fname in lst:\n",
    "        with open(fname, 'r') as f:\n",
    "            found_date = False\n",
    "            for line in f:\n",
    "                if not found_date:\n",
    "                    if \"Appeared on\" in line:\n",
    "                        found_date = True\n",
    "                        dates.append((fname, get_date(line)))\n",
    "                else:\n",
    "                    break\n",
    "    return dates\n",
    "\n",
    "from glob import glob\n",
    "lst = glob('_build/html/*md')\n",
    "days = 7\n",
    "dates = extract_appearance_dates(lst)\n",
    "res = list(get_last_n_days(dates, days))\n",
    "npub = len(res)\n",
    "print(len(res), f\" publications in the last {days:d} days.\")"
   ]
  },
  {
   "cell_type": "code",
   "execution_count": 12,
   "id": "52ca0208",
   "metadata": {
    "execution": {
     "iopub.execute_input": "2025-10-23T04:14:47.790820Z",
     "iopub.status.busy": "2025-10-23T04:14:47.790636Z",
     "iopub.status.idle": "2025-10-23T04:14:47.795181Z",
     "shell.execute_reply": "2025-10-23T04:14:47.794677Z"
    },
    "papermill": {
     "duration": 0.011083,
     "end_time": "2025-10-23T04:14:47.796148",
     "exception": false,
     "start_time": "2025-10-23T04:14:47.785065",
     "status": "completed"
    },
    "scrolled": false,
    "tags": []
   },
   "outputs": [],
   "source": [
    "def create_carousel(npub=4):\n",
    "    \"\"\" Generate the HTML code for a carousel with `npub` slides \"\"\"\n",
    "    carousel = [\"\"\"  <div class=\"carousel\" \"\"\",\n",
    "                \"\"\"       data-flickity='{ \"autoPlay\": 10000, \"adaptiveHeight\": true, \"resize\": true, \"wrapAround\": true, \"pauseAutoPlayOnHover\": true, \"groupCells\": 1 }' id=\"asyncTypeset\">\"\"\"\n",
    "                ]\n",
    "    \n",
    "    item_str = \"\"\"    <div class=\"carousel-cell\"> <div id=\"slide{k}\" class=\"md_view\">Content {k}</div> </div>\"\"\"\n",
    "    for k in range(1, npub + 1):\n",
    "        carousel.append(item_str.format(k=k))\n",
    "    carousel.append(\"  </div>\")\n",
    "    return '\\n'.join(carousel)\n",
    "\n",
    "def create_grid(npub=4):\n",
    "    \"\"\" Generate the HTML code for a flat grid with `npub` slides \"\"\"\n",
    "    grid = [\"\"\"  <div class=\"grid\"> \"\"\",\n",
    "                ]\n",
    "    \n",
    "    item_str = \"\"\"    <div class=\"grid-item\"> <div id=\"slide{k}\" class=\"md_view\">Content {k}</div> </div>\"\"\"\n",
    "    for k in range(1, npub + 1):\n",
    "        grid.append(item_str.format(k=k))\n",
    "    grid.append(\"  </div>\")\n",
    "    return '\\n'.join(grid)"
   ]
  },
  {
   "cell_type": "code",
   "execution_count": 13,
   "id": "a6eac5b6",
   "metadata": {
    "execution": {
     "iopub.execute_input": "2025-10-23T04:14:47.806970Z",
     "iopub.status.busy": "2025-10-23T04:14:47.806754Z",
     "iopub.status.idle": "2025-10-23T04:14:47.811643Z",
     "shell.execute_reply": "2025-10-23T04:14:47.811018Z"
    },
    "papermill": {
     "duration": 0.011353,
     "end_time": "2025-10-23T04:14:47.812546",
     "exception": false,
     "start_time": "2025-10-23T04:14:47.801193",
     "status": "completed"
    },
    "scrolled": false,
    "tags": []
   },
   "outputs": [],
   "source": [
    "carousel = create_carousel(npub)\n",
    "docs = ', '.join(['\"{0:s}\"'.format(k.split('/')[-1]) for k in res])\n",
    "slides = ', '.join([f'\"slide{k}\"' for k in range(1, npub + 1)])\n",
    "\n",
    "with open(\"daily_template.html\", \"r\") as tpl:\n",
    "    page = tpl.read()\n",
    "    page = page.replace(\"{%-- carousel:s --%}\", carousel)\\\n",
    "               .replace(\"{%-- suptitle:s --%}\",  \"7-day archives\" )\\\n",
    "               .replace(\"{%-- docs:s --%}\", docs)\\\n",
    "               .replace(\"{%-- slides:s --%}\", slides)\n",
    "    \n",
    "with open(\"_build/html/index_7days.html\", 'w') as fout:\n",
    "    fout.write(page)"
   ]
  },
  {
   "cell_type": "code",
   "execution_count": 14,
   "id": "adc1a1ec",
   "metadata": {
    "execution": {
     "iopub.execute_input": "2025-10-23T04:14:47.823485Z",
     "iopub.status.busy": "2025-10-23T04:14:47.823293Z",
     "iopub.status.idle": "2025-10-23T04:14:47.829093Z",
     "shell.execute_reply": "2025-10-23T04:14:47.828616Z"
    },
    "papermill": {
     "duration": 0.0123,
     "end_time": "2025-10-23T04:14:47.830059",
     "exception": false,
     "start_time": "2025-10-23T04:14:47.817759",
     "status": "completed"
    },
    "tags": []
   },
   "outputs": [
    {
     "name": "stdout",
     "output_type": "stream",
     "text": [
      "2  publications in the last day.\n"
     ]
    }
   ],
   "source": [
    "# redo for today\n",
    "days = 1\n",
    "res = list(get_last_n_days(dates, days))\n",
    "npub = len(res)\n",
    "print(len(res), f\" publications in the last day.\")\n",
    "\n",
    "carousel = create_carousel(npub)\n",
    "docs = ', '.join(['\"{0:s}\"'.format(k.split('/')[-1]) for k in res])\n",
    "slides = ', '.join([f'\"slide{k}\"' for k in range(1, npub + 1)])\n",
    "\n",
    "with open(\"daily_template.html\", \"r\") as tpl:\n",
    "    page = tpl.read()\n",
    "    page = page.replace(\"{%-- carousel:s --%}\", carousel)\\\n",
    "               .replace(\"{%-- suptitle:s --%}\",  \"Daily\" )\\\n",
    "               .replace(\"{%-- docs:s --%}\", docs)\\\n",
    "               .replace(\"{%-- slides:s --%}\", slides)\n",
    "    \n",
    "# print(carousel, docs, slides)\n",
    "# print(page)\n",
    "with open(\"_build/html/index_daily.html\", 'w') as fout:\n",
    "    fout.write(page)"
   ]
  },
  {
   "cell_type": "code",
   "execution_count": 15,
   "id": "00eece82",
   "metadata": {
    "execution": {
     "iopub.execute_input": "2025-10-23T04:14:47.841173Z",
     "iopub.status.busy": "2025-10-23T04:14:47.840981Z",
     "iopub.status.idle": "2025-10-23T04:14:47.847240Z",
     "shell.execute_reply": "2025-10-23T04:14:47.846594Z"
    },
    "papermill": {
     "duration": 0.01298,
     "end_time": "2025-10-23T04:14:47.848279",
     "exception": false,
     "start_time": "2025-10-23T04:14:47.835299",
     "status": "completed"
    },
    "scrolled": false,
    "tags": []
   },
   "outputs": [
    {
     "name": "stdout",
     "output_type": "stream",
     "text": [
      "6  6 publications selected.\n"
     ]
    }
   ],
   "source": [
    "# Create the flat grid of the last N papers (fixed number regardless of dates)\n",
    "from itertools import islice \n",
    "\n",
    "npub = 6\n",
    "res = [k[0] for k in (islice(reversed(sorted(dates, key=lambda x: x[1])), 6))]\n",
    "print(len(res), f\" {npub} publications selected.\")\n",
    "\n",
    "grid = create_grid(npub)\n",
    "docs = ', '.join(['\"{0:s}\"'.format(k.split('/')[-1]) for k in res])\n",
    "slides = ', '.join([f'\"slide{k}\"' for k in range(1, npub + 1)])\n",
    "\n",
    "with open(\"grid_template.html\", \"r\") as tpl:\n",
    "    page = tpl.read()\n",
    "    page = page.replace(\"{%-- grid-content:s --%}\", grid)\\\n",
    "               .replace(\"{%-- suptitle:s --%}\",  f\"Last {npub:,d} papers\" )\\\n",
    "               .replace(\"{%-- docs:s --%}\", docs)\\\n",
    "               .replace(\"{%-- slides:s --%}\", slides)\n",
    "    \n",
    "# print(grid, docs, slides)\n",
    "# print(page)\n",
    "with open(\"_build/html/index_npub_grid.html\", 'w') as fout:\n",
    "    fout.write(page)"
   ]
  }
 ],
 "metadata": {
  "kernelspec": {
   "display_name": "Python 3 (ipykernel)",
   "language": "python",
   "name": "python3"
  },
  "language_info": {
   "codemirror_mode": {
    "name": "ipython",
    "version": 3
   },
   "file_extension": ".py",
   "mimetype": "text/x-python",
   "name": "python",
   "nbconvert_exporter": "python",
   "pygments_lexer": "ipython3",
   "version": "3.9.23"
  },
  "papermill": {
   "default_parameters": {},
   "duration": 83.965938,
   "end_time": "2025-10-23T04:14:48.069070",
   "environment_variables": {},
   "exception": null,
   "input_path": "MPIA daily digest.ipynb",
   "output_path": "log.ipynb",
   "parameters": {},
   "start_time": "2025-10-23T04:13:24.103132",
   "version": "2.6.0"
  },
  "vscode": {
   "interpreter": {
    "hash": "aee8b7b246df8f9039afb4144a1f6fd8d2ca17a180786b69acc140d282b71a49"
   }
  },
  "widgets": {
   "application/vnd.jupyter.widget-state+json": {
    "state": {
     "0e7f590a332f4f059bfbef8073528505": {
      "model_module": "@jupyter-widgets/base",
      "model_module_version": "2.0.0",
      "model_name": "LayoutModel",
      "state": {
       "_model_module": "@jupyter-widgets/base",
       "_model_module_version": "2.0.0",
       "_model_name": "LayoutModel",
       "_view_count": null,
       "_view_module": "@jupyter-widgets/base",
       "_view_module_version": "2.0.0",
       "_view_name": "LayoutView",
       "align_content": null,
       "align_items": null,
       "align_self": null,
       "border_bottom": null,
       "border_left": null,
       "border_right": null,
       "border_top": null,
       "bottom": null,
       "display": null,
       "flex": null,
       "flex_flow": null,
       "grid_area": null,
       "grid_auto_columns": null,
       "grid_auto_flow": null,
       "grid_auto_rows": null,
       "grid_column": null,
       "grid_gap": null,
       "grid_row": null,
       "grid_template_areas": null,
       "grid_template_columns": null,
       "grid_template_rows": null,
       "height": null,
       "justify_content": null,
       "justify_items": null,
       "left": null,
       "margin": null,
       "max_height": null,
       "max_width": null,
       "min_height": null,
       "min_width": null,
       "object_fit": null,
       "object_position": null,
       "order": null,
       "overflow": null,
       "padding": null,
       "right": null,
       "top": null,
       "visibility": null,
       "width": null
      }
     },
     "13b83b3c08604d27b335bf671d64e3e7": {
      "model_module": "@jupyter-widgets/base",
      "model_module_version": "2.0.0",
      "model_name": "LayoutModel",
      "state": {
       "_model_module": "@jupyter-widgets/base",
       "_model_module_version": "2.0.0",
       "_model_name": "LayoutModel",
       "_view_count": null,
       "_view_module": "@jupyter-widgets/base",
       "_view_module_version": "2.0.0",
       "_view_name": "LayoutView",
       "align_content": null,
       "align_items": null,
       "align_self": null,
       "border_bottom": null,
       "border_left": null,
       "border_right": null,
       "border_top": null,
       "bottom": null,
       "display": null,
       "flex": null,
       "flex_flow": null,
       "grid_area": null,
       "grid_auto_columns": null,
       "grid_auto_flow": null,
       "grid_auto_rows": null,
       "grid_column": null,
       "grid_gap": null,
       "grid_row": null,
       "grid_template_areas": null,
       "grid_template_columns": null,
       "grid_template_rows": null,
       "height": null,
       "justify_content": null,
       "justify_items": null,
       "left": null,
       "margin": null,
       "max_height": null,
       "max_width": null,
       "min_height": null,
       "min_width": null,
       "object_fit": null,
       "object_position": null,
       "order": null,
       "overflow": null,
       "padding": null,
       "right": null,
       "top": null,
       "visibility": null,
       "width": null
      }
     },
     "2026d9665a324a7aaf2bc9d532df6193": {
      "model_module": "@jupyter-widgets/base",
      "model_module_version": "2.0.0",
      "model_name": "LayoutModel",
      "state": {
       "_model_module": "@jupyter-widgets/base",
       "_model_module_version": "2.0.0",
       "_model_name": "LayoutModel",
       "_view_count": null,
       "_view_module": "@jupyter-widgets/base",
       "_view_module_version": "2.0.0",
       "_view_name": "LayoutView",
       "align_content": null,
       "align_items": null,
       "align_self": null,
       "border_bottom": null,
       "border_left": null,
       "border_right": null,
       "border_top": null,
       "bottom": null,
       "display": null,
       "flex": null,
       "flex_flow": null,
       "grid_area": null,
       "grid_auto_columns": null,
       "grid_auto_flow": null,
       "grid_auto_rows": null,
       "grid_column": null,
       "grid_gap": null,
       "grid_row": null,
       "grid_template_areas": null,
       "grid_template_columns": null,
       "grid_template_rows": null,
       "height": null,
       "justify_content": null,
       "justify_items": null,
       "left": null,
       "margin": null,
       "max_height": null,
       "max_width": null,
       "min_height": null,
       "min_width": null,
       "object_fit": null,
       "object_position": null,
       "order": null,
       "overflow": null,
       "padding": null,
       "right": null,
       "top": null,
       "visibility": null,
       "width": null
      }
     },
     "37677c0ff82a42faba612bfe6342924a": {
      "model_module": "@jupyter-widgets/controls",
      "model_module_version": "2.0.0",
      "model_name": "HTMLStyleModel",
      "state": {
       "_model_module": "@jupyter-widgets/controls",
       "_model_module_version": "2.0.0",
       "_model_name": "HTMLStyleModel",
       "_view_count": null,
       "_view_module": "@jupyter-widgets/base",
       "_view_module_version": "2.0.0",
       "_view_name": "StyleView",
       "background": null,
       "description_width": "",
       "font_size": null,
       "text_color": null
      }
     },
     "4f64f4e080fb40ba8c08ae3fb6d1481d": {
      "model_module": "@jupyter-widgets/controls",
      "model_module_version": "2.0.0",
      "model_name": "HTMLModel",
      "state": {
       "_dom_classes": [],
       "_model_module": "@jupyter-widgets/controls",
       "_model_module_version": "2.0.0",
       "_model_name": "HTMLModel",
       "_view_count": null,
       "_view_module": "@jupyter-widgets/controls",
       "_view_module_version": "2.0.0",
       "_view_name": "HTMLView",
       "description": "",
       "description_allow_html": false,
       "layout": "IPY_MODEL_2026d9665a324a7aaf2bc9d532df6193",
       "placeholder": "​",
       "style": "IPY_MODEL_721ff606ff1f414d8aa70199ea199fb4",
       "tabbable": null,
       "tooltip": null,
       "value": "100%"
      }
     },
     "652a432358204293866d690eb524249e": {
      "model_module": "@jupyter-widgets/controls",
      "model_module_version": "2.0.0",
      "model_name": "FloatProgressModel",
      "state": {
       "_dom_classes": [],
       "_model_module": "@jupyter-widgets/controls",
       "_model_module_version": "2.0.0",
       "_model_name": "FloatProgressModel",
       "_view_count": null,
       "_view_module": "@jupyter-widgets/controls",
       "_view_module_version": "2.0.0",
       "_view_name": "ProgressView",
       "bar_style": "success",
       "description": "",
       "description_allow_html": false,
       "layout": "IPY_MODEL_0e7f590a332f4f059bfbef8073528505",
       "max": 5.0,
       "min": 0.0,
       "orientation": "horizontal",
       "style": "IPY_MODEL_78b5c548b5094c92948bd35833478526",
       "tabbable": null,
       "tooltip": null,
       "value": 5.0
      }
     },
     "721ff606ff1f414d8aa70199ea199fb4": {
      "model_module": "@jupyter-widgets/controls",
      "model_module_version": "2.0.0",
      "model_name": "HTMLStyleModel",
      "state": {
       "_model_module": "@jupyter-widgets/controls",
       "_model_module_version": "2.0.0",
       "_model_name": "HTMLStyleModel",
       "_view_count": null,
       "_view_module": "@jupyter-widgets/base",
       "_view_module_version": "2.0.0",
       "_view_name": "StyleView",
       "background": null,
       "description_width": "",
       "font_size": null,
       "text_color": null
      }
     },
     "78b5c548b5094c92948bd35833478526": {
      "model_module": "@jupyter-widgets/controls",
      "model_module_version": "2.0.0",
      "model_name": "ProgressStyleModel",
      "state": {
       "_model_module": "@jupyter-widgets/controls",
       "_model_module_version": "2.0.0",
       "_model_name": "ProgressStyleModel",
       "_view_count": null,
       "_view_module": "@jupyter-widgets/base",
       "_view_module_version": "2.0.0",
       "_view_name": "StyleView",
       "bar_color": null,
       "description_width": ""
      }
     },
     "cdaabcd53f1a417997fbebf0d02eb1ee": {
      "model_module": "@jupyter-widgets/base",
      "model_module_version": "2.0.0",
      "model_name": "LayoutModel",
      "state": {
       "_model_module": "@jupyter-widgets/base",
       "_model_module_version": "2.0.0",
       "_model_name": "LayoutModel",
       "_view_count": null,
       "_view_module": "@jupyter-widgets/base",
       "_view_module_version": "2.0.0",
       "_view_name": "LayoutView",
       "align_content": null,
       "align_items": null,
       "align_self": null,
       "border_bottom": null,
       "border_left": null,
       "border_right": null,
       "border_top": null,
       "bottom": null,
       "display": null,
       "flex": null,
       "flex_flow": null,
       "grid_area": null,
       "grid_auto_columns": null,
       "grid_auto_flow": null,
       "grid_auto_rows": null,
       "grid_column": null,
       "grid_gap": null,
       "grid_row": null,
       "grid_template_areas": null,
       "grid_template_columns": null,
       "grid_template_rows": null,
       "height": null,
       "justify_content": null,
       "justify_items": null,
       "left": null,
       "margin": null,
       "max_height": null,
       "max_width": null,
       "min_height": null,
       "min_width": null,
       "object_fit": null,
       "object_position": null,
       "order": null,
       "overflow": null,
       "padding": null,
       "right": null,
       "top": null,
       "visibility": null,
       "width": null
      }
     },
     "d16c9dd804244d838c71d3d8f620dc63": {
      "model_module": "@jupyter-widgets/controls",
      "model_module_version": "2.0.0",
      "model_name": "HTMLModel",
      "state": {
       "_dom_classes": [],
       "_model_module": "@jupyter-widgets/controls",
       "_model_module_version": "2.0.0",
       "_model_name": "HTMLModel",
       "_view_count": null,
       "_view_module": "@jupyter-widgets/controls",
       "_view_module_version": "2.0.0",
       "_view_name": "HTMLView",
       "description": "",
       "description_allow_html": false,
       "layout": "IPY_MODEL_13b83b3c08604d27b335bf671d64e3e7",
       "placeholder": "​",
       "style": "IPY_MODEL_37677c0ff82a42faba612bfe6342924a",
       "tabbable": null,
       "tooltip": null,
       "value": " 5/5 [00:57&lt;00:00, 14.35s/it]"
      }
     },
     "d4985784821948a99fe542e0571befb4": {
      "model_module": "@jupyter-widgets/controls",
      "model_module_version": "2.0.0",
      "model_name": "HBoxModel",
      "state": {
       "_dom_classes": [],
       "_model_module": "@jupyter-widgets/controls",
       "_model_module_version": "2.0.0",
       "_model_name": "HBoxModel",
       "_view_count": null,
       "_view_module": "@jupyter-widgets/controls",
       "_view_module_version": "2.0.0",
       "_view_name": "HBoxView",
       "box_style": "",
       "children": [
        "IPY_MODEL_4f64f4e080fb40ba8c08ae3fb6d1481d",
        "IPY_MODEL_652a432358204293866d690eb524249e",
        "IPY_MODEL_d16c9dd804244d838c71d3d8f620dc63"
       ],
       "layout": "IPY_MODEL_cdaabcd53f1a417997fbebf0d02eb1ee",
       "tabbable": null,
       "tooltip": null
      }
     }
    },
    "version_major": 2,
    "version_minor": 0
   }
  }
 },
 "nbformat": 4,
 "nbformat_minor": 5
}