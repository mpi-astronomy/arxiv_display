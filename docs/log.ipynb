{
 "cells": [
  {
   "cell_type": "markdown",
   "id": "92bcb855",
   "metadata": {
    "papermill": {
     "duration": 0.005508,
     "end_time": "2025-05-26T04:17:47.960279",
     "exception": false,
     "start_time": "2025-05-26T04:17:47.954771",
     "status": "completed"
    },
    "tags": []
   },
   "source": [
    "# MPIA Arxiv on Deck 2\n",
    "\n",
    "Contains the steps to produce the paper extractions."
   ]
  },
  {
   "cell_type": "code",
   "execution_count": 1,
   "id": "3a0d6e11",
   "metadata": {
    "execution": {
     "iopub.execute_input": "2025-05-26T04:17:47.973194Z",
     "iopub.status.busy": "2025-05-26T04:17:47.972705Z",
     "iopub.status.idle": "2025-05-26T04:17:48.483122Z",
     "shell.execute_reply": "2025-05-26T04:17:48.482464Z"
    },
    "papermill": {
     "duration": 0.518503,
     "end_time": "2025-05-26T04:17:48.484496",
     "exception": false,
     "start_time": "2025-05-26T04:17:47.965993",
     "status": "completed"
    },
    "tags": []
   },
   "outputs": [],
   "source": [
    "# Imports\n",
    "import os\n",
    "from IPython.display import Markdown, display\n",
    "from tqdm.notebook import tqdm\n",
    "import warnings\n",
    "from PIL import Image \n",
    "import re\n",
    "\n",
    "# requires arxiv_on_deck_2\n",
    "\n",
    "from arxiv_on_deck_2.arxiv2 import (get_new_papers, \n",
    "                                    get_paper_from_identifier,\n",
    "                                    retrieve_document_source, \n",
    "                                    get_markdown_badge)\n",
    "from arxiv_on_deck_2 import (latex,\n",
    "                             latex_bib,\n",
    "                             mpia,\n",
    "                             highlight_authors_in_list)\n",
    "\n",
    "# Sometimes images are really big\n",
    "Image.MAX_IMAGE_PIXELS = 1000000000 "
   ]
  },
  {
   "cell_type": "code",
   "execution_count": 2,
   "id": "22aa9d44",
   "metadata": {
    "execution": {
     "iopub.execute_input": "2025-05-26T04:17:48.491934Z",
     "iopub.status.busy": "2025-05-26T04:17:48.491657Z",
     "iopub.status.idle": "2025-05-26T04:17:48.499740Z",
     "shell.execute_reply": "2025-05-26T04:17:48.499200Z"
    },
    "papermill": {
     "duration": 0.012994,
     "end_time": "2025-05-26T04:17:48.500776",
     "exception": false,
     "start_time": "2025-05-26T04:17:48.487782",
     "status": "completed"
    },
    "tags": []
   },
   "outputs": [],
   "source": [
    "# Some useful definitions.\n",
    "\n",
    "class AffiliationWarning(UserWarning):\n",
    "    pass\n",
    "\n",
    "class AffiliationError(RuntimeError):\n",
    "    pass\n",
    "\n",
    "def validation(source: str):\n",
    "    \"\"\"Raises error paper during parsing of source file\n",
    "    \n",
    "    Allows checks before parsing TeX code.\n",
    "    \n",
    "    Raises AffiliationWarning\n",
    "    \"\"\"\n",
    "    check = mpia.affiliation_verifications(source, verbose=True)\n",
    "    if check is not True:\n",
    "        raise AffiliationError(\"mpia.affiliation_verifications: \" + check)\n",
    "\n",
    "        \n",
    "warnings.simplefilter('always', AffiliationWarning)\n",
    "\n",
    "\n",
    "def get_markdown_qrcode(paper_id: str):\n",
    "    \"\"\" Generate a qrcode to the arxiv page using qrserver.com\n",
    "    \n",
    "    :param paper: Arxiv paper\n",
    "    :returns: markdown text\n",
    "    \"\"\"\n",
    "    url = r\"https://api.qrserver.com/v1/create-qr-code/?size=100x100&data=\"\n",
    "    txt = f\"\"\"<img src={url}\"https://arxiv.org/abs/{paper_id}\">\"\"\"\n",
    "    txt = '<div id=\"qrcode\">' + txt + '</div>'\n",
    "    return txt\n",
    "\n",
    "\n",
    "def clean_non_western_encoded_characters_commands(text: str) -> str:\n",
    "    \"\"\" Remove non-western encoded characters from a string\n",
    "    List may need to grow.\n",
    "    \n",
    "    :param text: the text to clean\n",
    "    :return: the cleaned text\n",
    "    \"\"\"\n",
    "    text = re.sub(r\"(\\\\begin{CJK}{UTF8}{gbsn})(.*?)(\\\\end{CJK})\", r\"\\2\", text)\n",
    "    return text\n",
    "\n",
    "\n",
    "def get_initials(name: str) -> str:\n",
    "    \"\"\" Get the short name, e.g., A.-B. FamName\n",
    "    :param name: full name\n",
    "    :returns: initials\n",
    "    \"\"\"\n",
    "    initials = []\n",
    "    # account for non western names often in ()\n",
    "    if '(' in name:\n",
    "        name = clean_non_western_encoded_characters_commands(name)\n",
    "        suffix = re.findall(r\"\\((.*?)\\)\", name)[0]\n",
    "        name = name.replace(f\"({suffix})\", '')\n",
    "    else:\n",
    "        suffix = ''\n",
    "    split = name.split()\n",
    "    for token in split[:-1]:\n",
    "        if '-' in token:\n",
    "            current = '-'.join([k[0] + '.' for k in token.split('-')])\n",
    "        else:\n",
    "            current = token[0] + '.'\n",
    "        initials.append(current)\n",
    "    initials.append(split[-1].strip())\n",
    "    if suffix:\n",
    "        initials.append(f\"({suffix})\")\n",
    "    return ' '.join(initials)"
   ]
  },
  {
   "cell_type": "markdown",
   "id": "14bd6310",
   "metadata": {
    "papermill": {
     "duration": 0.002923,
     "end_time": "2025-05-26T04:17:48.506705",
     "exception": false,
     "start_time": "2025-05-26T04:17:48.503782",
     "status": "completed"
    },
    "tags": []
   },
   "source": [
    "## get list of arxiv paper candidates\n",
    "\n",
    "We use the MPIA mitarbeiter list webpage from mpia.de to get author names\n",
    "We then get all new papers from Arxiv and match authors"
   ]
  },
  {
   "cell_type": "code",
   "execution_count": 3,
   "id": "7ea813a8",
   "metadata": {
    "execution": {
     "iopub.execute_input": "2025-05-26T04:17:48.513594Z",
     "iopub.status.busy": "2025-05-26T04:17:48.513329Z",
     "iopub.status.idle": "2025-05-26T04:18:12.398337Z",
     "shell.execute_reply": "2025-05-26T04:18:12.397692Z"
    },
    "papermill": {
     "duration": 23.889926,
     "end_time": "2025-05-26T04:18:12.399658",
     "exception": false,
     "start_time": "2025-05-26T04:17:48.509732",
     "status": "completed"
    },
    "tags": []
   },
   "outputs": [],
   "source": [
    "# deal with the author list and edge cases of people that cannot be consistent on their name  \n",
    "\n",
    "def filter_non_scientists(name: str) -> bool:\n",
    "    \"\"\" Loose filter on expected authorships\n",
    "\n",
    "    removing IT, administration, technical staff\n",
    "    :param name: name\n",
    "    :returns: False if name is not a scientist\n",
    "    \"\"\"\n",
    "    remove_list = ['Licht', 'Binroth', 'Witzel', 'Jordan',\n",
    "                   'Zähringer', 'Scheerer', 'Hoffmann', 'Düe',\n",
    "                   'Hellmich', 'Enkler-Scharpegge', 'Witte-Nguy',\n",
    "                   'Dehen', 'Beckmann', 'Jager', 'Jäger'\n",
    "                  ]\n",
    "\n",
    "    for k in remove_list:\n",
    "        if k in name:\n",
    "            return False\n",
    "    return True\n",
    "\n",
    "def add_author_to_list(author_list: list) -> list:\n",
    "    \"\"\" Add author to list if not already in list\n",
    "    \n",
    "    :param author: author name\n",
    "    :param author_list: list of authors\n",
    "    :returns: updated list of authors\n",
    "    \"\"\"\n",
    "    add_list = ['T. Henning']\n",
    "\n",
    "    for author in add_list:\n",
    "        if author not in author_list:\n",
    "            author_list.append(author)\n",
    "    return author_list\n",
    "\n",
    "# get list from MPIA website\n",
    "# filter for non-scientists (mpia.get_mpia_mitarbeiter_list() does some filtering)\n",
    "mpia_authors = [k[1] for k in mpia.get_mpia_mitarbeiter_list() if filter_non_scientists(k[1])]\n",
    "# add some missing author because of inconsistencies in their MPIA name and author name on papers\n",
    "mpia_authors = add_author_to_list(mpia_authors)"
   ]
  },
  {
   "cell_type": "code",
   "execution_count": 4,
   "id": "2645e73a",
   "metadata": {
    "execution": {
     "iopub.execute_input": "2025-05-26T04:18:12.407114Z",
     "iopub.status.busy": "2025-05-26T04:18:12.406839Z",
     "iopub.status.idle": "2025-05-26T04:18:12.847308Z",
     "shell.execute_reply": "2025-05-26T04:18:12.846610Z"
    },
    "papermill": {
     "duration": 0.445438,
     "end_time": "2025-05-26T04:18:12.848474",
     "exception": false,
     "start_time": "2025-05-26T04:18:12.403036",
     "status": "completed"
    },
    "tags": []
   },
   "outputs": [
    {
     "name": "stdout",
     "output_type": "stream",
     "text": [
      "G. Guiglion  ->  G. Guiglion  |  ['G. Guiglion']\n",
      "Y. Wang  ->  Y. Wang  |  ['Y. Wang']\n",
      "Y. Wang  ->  Y. Wang  |  ['Y. Wang']\n",
      "X. Zhang  ->  X. Zhang  |  ['X. Zhang']\n",
      "Arxiv has 44 new papers today\n",
      "          4 with possible author matches\n"
     ]
    }
   ],
   "source": [
    "new_papers = get_new_papers()\n",
    "# add manual references\n",
    "add_paper_refs = []\n",
    "new_papers.extend([get_paper_from_identifier(k) for k in add_paper_refs])\n",
    "\n",
    "def robust_call(fn, value, *args, **kwargs):\n",
    "    try:\n",
    "        return fn(value, *args, **kwargs)\n",
    "    except Exception:\n",
    "        return value\n",
    "\n",
    "candidates = []\n",
    "for paperk in new_papers:\n",
    "    # Check author list with their initials\n",
    "    normed_author_list = [robust_call(mpia.get_initials, k) for k in paperk['authors']]\n",
    "    hl_authors = highlight_authors_in_list(normed_author_list, mpia_authors, verbose=True)\n",
    "    matches = [(hl, orig) for hl, orig in zip(hl_authors, paperk['authors']) if 'mark' in hl]\n",
    "    paperk['authors'] = hl_authors\n",
    "    if matches:\n",
    "        # only select paper if an author matched our list\n",
    "        candidates.append(paperk)\n",
    "print(\"\"\"Arxiv has {0:,d} new papers today\"\"\".format(len(new_papers)))        \n",
    "print(\"\"\"          {0:,d} with possible author matches\"\"\".format(len(candidates)))"
   ]
  },
  {
   "cell_type": "markdown",
   "id": "3543b34a",
   "metadata": {
    "papermill": {
     "duration": 0.003092,
     "end_time": "2025-05-26T04:18:12.855128",
     "exception": false,
     "start_time": "2025-05-26T04:18:12.852036",
     "status": "completed"
    },
    "tags": []
   },
   "source": [
    "# Parse sources and generate relevant outputs\n",
    "\n",
    "From the candidates, we do the following steps:\n",
    "* get their tarball from ArXiv (and extract data)\n",
    "* find the main .tex file: find one with \\documentclass{...} (sometimes it's non trivial)\n",
    "* Check affiliations with :func:`validation`, which uses :func:`mpia.affiliation_verifications`\n",
    "* If passing the affiliations: we parse the .tex source\n",
    "   * inject sub-documents into the main (flatten the main document)\n",
    "   * parse structure, extract information (title, abstract, authors, figures...)\n",
    "   * handles `\\graphicspath` if provided\n",
    "* Generate the .md document."
   ]
  },
  {
   "cell_type": "code",
   "execution_count": 5,
   "id": "9576b79e",
   "metadata": {
    "execution": {
     "iopub.execute_input": "2025-05-26T04:18:12.862267Z",
     "iopub.status.busy": "2025-05-26T04:18:12.862054Z",
     "iopub.status.idle": "2025-05-26T04:18:24.336108Z",
     "shell.execute_reply": "2025-05-26T04:18:24.335321Z"
    },
    "papermill": {
     "duration": 11.478998,
     "end_time": "2025-05-26T04:18:24.337244",
     "exception": false,
     "start_time": "2025-05-26T04:18:12.858246",
     "status": "completed"
    },
    "scrolled": false,
    "tags": []
   },
   "outputs": [
    {
     "data": {
      "application/vnd.jupyter.widget-view+json": {
       "model_id": "b00720095d6c4491b72b8e3555c8416a",
       "version_major": 2,
       "version_minor": 0
      },
      "text/plain": [
       "  0%|          | 0/4 [00:00<?, ?it/s]"
      ]
     },
     "metadata": {},
     "output_type": "display_data"
    },
    {
     "name": "stdout",
     "output_type": "stream",
     "text": [
      "Retrieving document from  https://arxiv.org/e-print/2505.17173\n"
     ]
    },
    {
     "name": "stdout",
     "output_type": "stream",
     "text": [
      "extracting tarball to tmp_2505.17173... done.\n"
     ]
    },
    {
     "name": "stdout",
     "output_type": "stream",
     "text": [
      "G. Guiglion  ->  G. Guiglion  |  ['G. Guiglion']\n"
     ]
    },
    {
     "name": "stdout",
     "output_type": "stream",
     "text": [
      "Found 89 bibliographic references in tmp_2505.17173/paper.bbl.\n",
      "Retrieving document from  https://arxiv.org/e-print/2505.17415\n"
     ]
    },
    {
     "name": "stdout",
     "output_type": "stream",
     "text": [
      "extracting tarball to tmp_2505.17415... done.\n",
      "Retrieving document from  https://arxiv.org/e-print/2505.17428\n",
      "extracting tarball to tmp_2505.17428... done.\n",
      "Retrieving document from  https://arxiv.org/e-print/2505.17843\n"
     ]
    },
    {
     "name": "stdout",
     "output_type": "stream",
     "text": [
      "extracting tarball to tmp_2505.17843..."
     ]
    },
    {
     "name": "stdout",
     "output_type": "stream",
     "text": [
      " done.\n"
     ]
    }
   ],
   "source": [
    "documents = []\n",
    "failed = []\n",
    "for paper in tqdm(candidates):\n",
    "    # debug crap\n",
    "    paper['identifier'] = paper['identifier'].lower().replace('arxiv:', '').replace(r'\\n', '').strip()\n",
    "    paper_id = paper['identifier']\n",
    "    \n",
    "    folder = f'tmp_{paper_id}'\n",
    "\n",
    "    try:\n",
    "        if not os.path.isdir(folder):\n",
    "            folder = retrieve_document_source(f\"{paper_id}\", f'tmp_{paper_id}')\n",
    "        \n",
    "        try:\n",
    "            doc = latex.LatexDocument(folder, validation=validation)    \n",
    "        except AffiliationError as affilerror:\n",
    "            msg = f\"ArXiv:{paper_id:s} is not an MPIA paper... \" + str(affilerror)\n",
    "            failed.append((paper, \"affiliation error: \" + str(affilerror) ))\n",
    "            continue\n",
    "        \n",
    "        # Hack because sometimes author parsing does not work well\n",
    "        if (len(doc.authors) != len(paper['authors'])):\n",
    "            doc._authors = paper['authors']\n",
    "        else:\n",
    "            # highlight authors (FIXME: doc.highlight_authors)\n",
    "            # done on arxiv paper already\n",
    "            doc._authors = highlight_authors_in_list(\n",
    "                [get_initials(k) for k in doc.authors], \n",
    "                mpia_authors, verbose=True)\n",
    "        if (doc.abstract) in (None, ''):\n",
    "            doc._abstract = paper['abstract']\n",
    "            \n",
    "        doc.comment = (get_markdown_badge(paper_id) + \n",
    "                       \"<mark>Appeared on: \" + paper['date'] + \"</mark> - \")\n",
    "        if paper['comments']:\n",
    "            doc.comment += \" _\" + paper['comments'] + \"_\"\n",
    "        \n",
    "        full_md = doc.generate_markdown_text()\n",
    "        \n",
    "        full_md += get_markdown_qrcode(paper_id)\n",
    "        \n",
    "        # replace citations\n",
    "        try:\n",
    "            bibdata = latex_bib.LatexBib.from_doc(doc)\n",
    "            full_md = latex_bib.replace_citations(full_md, bibdata)\n",
    "        except Exception as e:\n",
    "            print(\"Issues with the citations\")\n",
    "            print(e)\n",
    "        \n",
    "        documents.append((paper_id, full_md))\n",
    "    except Exception as e:\n",
    "        warnings.warn(latex.LatexWarning(f\"{paper_id:s} did not run properly\\n\" +\n",
    "                                         str(e)\n",
    "                                        ))\n",
    "        failed.append((paper, \"latex error \" + str(e)))"
   ]
  },
  {
   "cell_type": "markdown",
   "id": "2505a25c",
   "metadata": {
    "papermill": {
     "duration": 0.003523,
     "end_time": "2025-05-26T04:18:24.344801",
     "exception": false,
     "start_time": "2025-05-26T04:18:24.341278",
     "status": "completed"
    },
    "tags": []
   },
   "source": [
    "### Export the logs\n",
    "\n",
    "Throughout, we also keep track of the logs per paper. see `logs-{today date}.md` "
   ]
  },
  {
   "cell_type": "code",
   "execution_count": 6,
   "id": "d733828a",
   "metadata": {
    "execution": {
     "iopub.execute_input": "2025-05-26T04:18:24.352869Z",
     "iopub.status.busy": "2025-05-26T04:18:24.352599Z",
     "iopub.status.idle": "2025-05-26T04:18:24.367981Z",
     "shell.execute_reply": "2025-05-26T04:18:24.367473Z"
    },
    "papermill": {
     "duration": 0.020636,
     "end_time": "2025-05-26T04:18:24.368966",
     "exception": false,
     "start_time": "2025-05-26T04:18:24.348330",
     "status": "completed"
    },
    "scrolled": false,
    "tags": []
   },
   "outputs": [
    {
     "data": {
      "text/markdown": [
       "## Successful papers"
      ],
      "text/plain": [
       "<IPython.core.display.Markdown object>"
      ]
     },
     "metadata": {},
     "output_type": "display_data"
    },
    {
     "data": {
      "text/markdown": [
       "\n",
       "|||\n",
       "|---:|:---|\n",
       "| [![arXiv](https://img.shields.io/badge/arXiv-2505.17173-b31b1b.svg)](https://arxiv.org/abs/2505.17173) | **Probing the origins. II. Unravelling lithium depletion and stellar motion: Intrinsic stellar properties drive depletion, not kinematics**  |\n",
       "|| M. L. L. Dantas, et al. -- incl., <mark>G. Guiglion</mark> |\n",
       "|*Appeared on*| *2025-05-26*|\n",
       "|*Comments*| *Accepted for publication in A&A. 12 pages, 6 figs, 3 tables. Abridged abstract to fit ArXiV's requirements*|\n",
       "|**Abstract**|            In Paper I, we classified a stellar sample from the thin disc with a broad range in metallicity as being churned outward or inward, or blurred/undisturbed. In this paper (Paper II), we delve deeper by analysing our entire metallicity-stratified sample along with their dynamic properties, focusing on the connection between radial migration and Li depletion. We analyse the chemo-dynamics of a set of 1188 thin disc dwarf stars observed by the \\textit{Gaia}-ESO survey, previously classified into six metallicity-stratified groups via Hierarchical Clustering (HC). We examine several features, such as effective temperatures, masses, and dynamic properties. We also implement a parametric survival analysis using penalised splines (logistic distribution) to quantify how stellar properties and motion (or migration) direction jointly influence Li depletion patterns. We find that stars in our sample that appear to have churned outward are predominantly Li-depleted, regardless of their metallicities. These stars are also the oldest, coldest, and least massive compared to those in the same HC group that have either churned inward or kept their orbital radii. Our survival analysis confirms temperature as the primary driver of Li depletion, followed by metallicity and age, while migration direction shows negligible influence. The increasing proportion of outward-churned stars with higher metallicity (and older ages) indicates their dominant influence on the overall trend observed in the [Fe/H]-A(Li) space for stellar groups with [Fe/H]>0. The survival model reinforces that the observed Li depletion stems primarily from intrinsic stellar properties (cool temperatures, higher metallicity, old ages) rather than migration history. This suggests the metallicity-dependent depletion pattern emerges through stellar evolution rather than Galactic dynamical processes.         |"
      ],
      "text/plain": [
       "[2505.17173] Probing the origins. II. Unravelling lithium depletion and stellar motion: Intrinsic stellar properties drive depletion, not kinematics\n",
       "\tM. L. L. Dantas, et al. -- incl., <mark>G. Guiglion</mark>"
      ]
     },
     "metadata": {},
     "output_type": "display_data"
    },
    {
     "data": {
      "text/markdown": [
       "## Failed papers"
      ],
      "text/plain": [
       "<IPython.core.display.Markdown object>"
      ]
     },
     "metadata": {},
     "output_type": "display_data"
    },
    {
     "data": {
      "text/markdown": [
       "\n",
       "|||\n",
       "|---:|:---|\n",
       "| [![arXiv](https://img.shields.io/badge/arXiv-2505.17415-b31b1b.svg)](https://arxiv.org/abs/2505.17415) | **Model-Independent Dark Energy Measurements from DESI DR2 and Planck 2015 Data**  |\n",
       "|| <mark>Y. Wang</mark>, K. Freese |\n",
       "|*Appeared on*| *2025-05-26*|\n",
       "|*Comments*| *11pages, 4 figures. We welcome suggestions for the addition of relevant references*|\n",
       "|**Abstract**|            Using DESI DR2 baryon acoustic oscillation distance measurements and Planck cosmic microwave background distance priors, we have measured the dark energy density $\\rho_X(z)$ and dark energy equation of state $w_X(z)$ as free functions of redshift (smoothly interpolated from values at $z=0, 1/3, 2/3, 1, 4/3, 2.33$), and find both to be consistent with a cosmological constant, with only deviations of 1.2$\\sigma$ for $\\rho_X(z)$ and 1.9$\\sigma$ for $w_X(z)$ at $z=2/3$. We confirm our earlier finding in Wang & Freese (2006) that $w_X(z)$ is significantly less constrained by data than $\\rho_X(z)$. Our results differ noticeably from those of the DESI Collaboration, in which they used the same DESI DR2 data combined with Planck data and found a 3.1$\\sigma$ deviation from a cosmological constant, a finding which is the consequence of their assuming the parametrization $w_X(z)=w_0+w_a(1-a)$. Our results indicate that assuming a linear $w_X(z)$ could be misleading and precludes discovering how dark energy actually varies with time at higher redshifts. In our quest to discover the physical nature of dark energy, the most urgent goal at present is to determine definitively whether dark energy density varies with time. We have demonstrated that it is of critical importance to measure dark energy density as a free function of redshift from data. Future galaxy redshift surveys by Euclid and Roman at higher redshifts will significantly advance our understanding of dark energy.         |\n",
       "|<p style=\"color:green\"> **ERROR** </p>| <p style=\"color:green\">affiliation error: mpia.affiliation_verifications: 'Heidelberg' keyword not found.</p> |"
      ],
      "text/plain": [
       "<IPython.core.display.Markdown object>"
      ]
     },
     "metadata": {},
     "output_type": "display_data"
    },
    {
     "data": {
      "text/markdown": [
       "\n",
       "|||\n",
       "|---:|:---|\n",
       "| [![arXiv](https://img.shields.io/badge/arXiv-2505.17428-b31b1b.svg)](https://arxiv.org/abs/2505.17428) | **Fast inflowing ionized absorber tracing the gas dynamics at sub-parsec scale around Mrk 3**  |\n",
       "|| F. Shi, M. Guainazzi, <mark>Y. Wang</mark> |\n",
       "|*Appeared on*| *2025-05-26*|\n",
       "|*Comments*| *11 pages, 4 figures, submitted to ApJ*|\n",
       "|**Abstract**|            Accretion onto supermassive black hole (SMBH) releases energy via radiation, jets or winds, providing feedback effects on the circumnuclear gas environment. However, the dynamics of accreting gas on sub-parsec scales near the SMBH remains poorly understood. With high-resolution X-ray spectra of Mrk 3, we detect a fast inflowing ionized absorber characterized by redshifted Fe XXV and Fe XXVI absorption lines. Photoionization modeling reveals the inflowing absorber is located at $\\lesssim0.04-0.74\\rm~pc$ and is decelerating from $6.1\\pm0.5\\times10^3\\rm~km~s^{-1}$ to $3.4\\pm0.3\\times10^3\\rm~km~s^{-1}$ over 11 years. Only $\\sim0.6$\\%--$3$\\% of the inflowing material is estimated to reach the event horizon. This direct evidence of sub-parsec scale fueling inflow bridges the gap between the torus and the outer accretion disk. Furthermore, a $0.86$-keV gas component with sub-solar metallicity ($Z\\sim0.22$), outflowing at a velocity of $\\sim330\\rm~km~s^{-1}$, is detected in the soft X-ray band. It may corresponds to the [O III] biconical outflow in the narrow-line region. A putative ultra-fast disk wind outside our line-of-sight, or clouds within the broad-line region, are promising candidates for decelerating the inflowing absorber.         |\n",
       "|<p style=\"color:green\"> **ERROR** </p>| <p style=\"color:green\">affiliation error: mpia.affiliation_verifications: 'Heidelberg' keyword not found.</p> |"
      ],
      "text/plain": [
       "<IPython.core.display.Markdown object>"
      ]
     },
     "metadata": {},
     "output_type": "display_data"
    },
    {
     "data": {
      "text/markdown": [
       "\n",
       "|||\n",
       "|---:|:---|\n",
       "| [![arXiv](https://img.shields.io/badge/arXiv-2505.17843-b31b1b.svg)](https://arxiv.org/abs/2505.17843) | **An improved Seyfert-LINER classification line in the [N~{\\sc ii}] BPT diagram**  |\n",
       "|| P. Cheng, et al. -- incl., <mark>X. Zhang</mark> |\n",
       "|*Appeared on*| *2025-05-26*|\n",
       "|*Comments*| **|\n",
       "|**Abstract**|            In this manuscript, an improved Seyfert-LINER classification line (= S-L line) is proposed in the [N~{\\sc ii}] BPT diagram, based on a sample of 47,968 low redshift narrow emission line galaxies from SDSS DR16, motivated by different S-L lines reported in the [N~{\\sc ii}] BPT diagram through different methods. The method proposed by Kewley et al. in 2006 is firstly applied, however, the method cannot lead to an accepted S-L line in the [N~{\\sc ii}] BPT diagram. Meanwhile, the S-L lines proposed by Schawinski et al. in 2007 and Cid Fernandes et al. in 2010 in the [N~{\\sc ii}] BPT diagram are different from each other. Therefore, it is meaningful to check which proposed S-L line is better or to determine an improved one in the [N~{\\sc ii}] BPT diagram by a new method. In this manuscript, Seyferts and LINERs that have already been classified in the [S~{\\sc ii}] and/or [O~{\\sc i}] BPT diagrams can be visualized in the [N~{\\sc ii}] BPT diagram, leading the intersection boundary of the two contour maps to be considered as the S-L line in the [N~{\\sc ii}] BPT diagram. Rather than the previously proposed S-L lines, the new S-L line can lead to more efficient and harmonious classifications of Seyferts and LINERs, especially in the composite galaxy region, in the [N~{\\sc ii}] BPT diagram. Furthermore, based on the discussed S-L lines, the number ratio of Type-2 Seyferts to Type-2 LINERs differs significantly from that of Type-1 Seyferts to Type-1 LINERs in the [N~{\\sc ii}] BPT diagram, suggesting that about 90$\\%$ of Type-2 LINERs are non-AGN-related objects, true Type-2 AGNs, or objects exhibiting both Seyfert and LINER characteristics.         |\n",
       "|<p style=\"color:green\"> **ERROR** </p>| <p style=\"color:green\">affiliation error: mpia.affiliation_verifications: 'Heidelberg' keyword not found.</p> |"
      ],
      "text/plain": [
       "<IPython.core.display.Markdown object>"
      ]
     },
     "metadata": {},
     "output_type": "display_data"
    }
   ],
   "source": [
    "import datetime\n",
    "today = str(datetime.date.today())\n",
    "logfile = f\"_build/html/logs/log-{today}.md\"\n",
    "\n",
    "\n",
    "with open(logfile, 'w') as logs:\n",
    "    # Success\n",
    "    logs.write(f'# Arxiv on Deck 2: Logs - {today}\\n\\n')\n",
    "    logs.write(\"\"\"* Arxiv had {0:,d} new papers\\n\"\"\".format(len(new_papers)))\n",
    "    logs.write(\"\"\"    * {0:,d} with possible author matches\\n\\n\"\"\".format(len(candidates)))\n",
    "    logs.write(\"## Sucessful papers\\n\\n\")\n",
    "    display(Markdown(\"## Successful papers\"))\n",
    "    success = [k[0] for k in documents]\n",
    "    for candid in candidates:\n",
    "        if candid['identifier'].split(':')[-1] in success:\n",
    "            display(candid)\n",
    "            logs.write(candid.generate_markdown_text() + '\\n\\n')\n",
    "\n",
    "    ## failed\n",
    "    logs.write(\"## Failed papers\\n\\n\")\n",
    "    display(Markdown(\"## Failed papers\"))\n",
    "    failed = sorted(failed, key=lambda x: x[1])\n",
    "    current_reason = \"\"\n",
    "    for paper, reason in failed:\n",
    "        if 'affiliation' in reason:\n",
    "            color = 'green'\n",
    "        else:\n",
    "            color = 'red'\n",
    "        data = Markdown(\n",
    "                paper.generate_markdown_text() + \n",
    "                f'\\n|<p style=\"color:{color:s}\"> **ERROR** </p>| <p style=\"color:{color:s}\">{reason:s}</p> |'\n",
    "               )\n",
    "        if reason != current_reason:\n",
    "            logs.write(f'### {reason:s} \\n\\n')\n",
    "            current_reason = reason\n",
    "        logs.write(data.data + '\\n\\n')\n",
    "        \n",
    "        # only display here the important errors (all in logs)\n",
    "        # if color in ('red',):\n",
    "        display(data)"
   ]
  },
  {
   "cell_type": "markdown",
   "id": "472d20ee",
   "metadata": {
    "papermill": {
     "duration": 0.004045,
     "end_time": "2025-05-26T04:18:24.377239",
     "exception": false,
     "start_time": "2025-05-26T04:18:24.373194",
     "status": "completed"
    },
    "tags": []
   },
   "source": [
    "## Export documents\n",
    "\n",
    "We now write the .md files and export relevant images"
   ]
  },
  {
   "cell_type": "code",
   "execution_count": 7,
   "id": "d426aed9",
   "metadata": {
    "execution": {
     "iopub.execute_input": "2025-05-26T04:18:24.386261Z",
     "iopub.status.busy": "2025-05-26T04:18:24.386069Z",
     "iopub.status.idle": "2025-05-26T04:18:24.392713Z",
     "shell.execute_reply": "2025-05-26T04:18:24.392168Z"
    },
    "papermill": {
     "duration": 0.012284,
     "end_time": "2025-05-26T04:18:24.393728",
     "exception": false,
     "start_time": "2025-05-26T04:18:24.381444",
     "status": "completed"
    },
    "tags": []
   },
   "outputs": [],
   "source": [
    "def export_markdown_summary(md: str, md_fname:str, directory: str):\n",
    "    \"\"\"Export MD document and associated relevant images\"\"\"\n",
    "    import os\n",
    "    import shutil\n",
    "    import re\n",
    "\n",
    "    if (os.path.exists(directory) and not os.path.isdir(directory)):\n",
    "        raise RuntimeError(f\"a non-directory file exists with name {directory:s}\")\n",
    "\n",
    "    if (not os.path.exists(directory)):\n",
    "        print(f\"creating directory {directory:s}\")\n",
    "        os.mkdir(directory)\n",
    "\n",
    "    fig_fnames = (re.compile(r'\\[Fig.*\\]\\((.*)\\)').findall(md) + \n",
    "                  re.compile(r'\\<img src=\"([^>\\s]*)\"[^>]*/>').findall(md))\n",
    "    print(\"found figures\", fig_fnames)\n",
    "    for fname in fig_fnames:\n",
    "        if 'http' in fname:\n",
    "            # No need to copy online figures\n",
    "            continue\n",
    "        if not os.path.exists(fname):\n",
    "            print(\"file not found\", fname)\n",
    "            continue\n",
    "        print(\"copying \", fname, \"to\", directory)\n",
    "        destdir = os.path.join(directory, os.path.dirname(fname))\n",
    "        destfname = os.path.join(destdir, os.path.basename(fname))\n",
    "        try:\n",
    "            os.makedirs(destdir)\n",
    "        except FileExistsError:\n",
    "            pass\n",
    "        shutil.copy(fname, destfname)\n",
    "    with open(os.path.join(directory, md_fname), 'w') as fout:\n",
    "        fout.write(md)\n",
    "    print(\"exported in \", os.path.join(directory, md_fname))\n",
    "    [print(\"    + \" + os.path.join(directory,fk)) for fk in fig_fnames]"
   ]
  },
  {
   "cell_type": "code",
   "execution_count": 8,
   "id": "014d04a4",
   "metadata": {
    "execution": {
     "iopub.execute_input": "2025-05-26T04:18:24.403085Z",
     "iopub.status.busy": "2025-05-26T04:18:24.402665Z",
     "iopub.status.idle": "2025-05-26T04:18:24.407917Z",
     "shell.execute_reply": "2025-05-26T04:18:24.407395Z"
    },
    "papermill": {
     "duration": 0.010948,
     "end_time": "2025-05-26T04:18:24.408929",
     "exception": false,
     "start_time": "2025-05-26T04:18:24.397981",
     "status": "completed"
    },
    "tags": []
   },
   "outputs": [
    {
     "name": "stdout",
     "output_type": "stream",
     "text": [
      "found figures ['tmp_2505.17173/./figs/lithium_feh_comparison.png', 'tmp_2505.17173/./figs/combined_li_correlations.png', 'tmp_2505.17173/./figs/lithium_teff_movement.png']\n",
      "copying  tmp_2505.17173/./figs/lithium_feh_comparison.png to _build/html/\n",
      "copying  tmp_2505.17173/./figs/combined_li_correlations.png to _build/html/\n",
      "copying  tmp_2505.17173/./figs/lithium_teff_movement.png to _build/html/\n",
      "exported in  _build/html/2505.17173.md\n",
      "    + _build/html/tmp_2505.17173/./figs/lithium_feh_comparison.png\n",
      "    + _build/html/tmp_2505.17173/./figs/combined_li_correlations.png\n",
      "    + _build/html/tmp_2505.17173/./figs/lithium_teff_movement.png\n"
     ]
    }
   ],
   "source": [
    "for paper_id, md in documents:\n",
    "    export_markdown_summary(md, f\"{paper_id:s}.md\", '_build/html/')"
   ]
  },
  {
   "cell_type": "markdown",
   "id": "f087a0a7",
   "metadata": {
    "papermill": {
     "duration": 0.00459,
     "end_time": "2025-05-26T04:18:24.417794",
     "exception": false,
     "start_time": "2025-05-26T04:18:24.413204",
     "status": "completed"
    },
    "tags": []
   },
   "source": [
    "## Display the papers\n",
    "\n",
    "Not necessary but allows for a quick check."
   ]
  },
  {
   "cell_type": "code",
   "execution_count": 9,
   "id": "fd25f625",
   "metadata": {
    "execution": {
     "iopub.execute_input": "2025-05-26T04:18:24.427183Z",
     "iopub.status.busy": "2025-05-26T04:18:24.426782Z",
     "iopub.status.idle": "2025-05-26T04:18:24.431221Z",
     "shell.execute_reply": "2025-05-26T04:18:24.430711Z"
    },
    "papermill": {
     "duration": 0.010108,
     "end_time": "2025-05-26T04:18:24.432170",
     "exception": false,
     "start_time": "2025-05-26T04:18:24.422062",
     "status": "completed"
    },
    "scrolled": false,
    "tags": []
   },
   "outputs": [
    {
     "data": {
      "text/markdown": [
       "<div class=\"macros\" style=\"visibility:hidden;\">\n",
       "$\\newcommand{\\ensuremath}{}$\n",
       "$\\newcommand{\\xspace}{}$\n",
       "$\\newcommand{\\object}[1]{\\texttt{#1}}$\n",
       "$\\newcommand{\\farcs}{{.}''}$\n",
       "$\\newcommand{\\farcm}{{.}'}$\n",
       "$\\newcommand{\\arcsec}{''}$\n",
       "$\\newcommand{\\arcmin}{'}$\n",
       "$\\newcommand{\\ion}[2]{#1#2}$\n",
       "$\\newcommand{\\textsc}[1]{\\textrm{#1}}$\n",
       "$\\newcommand{\\hl}[1]{\\textrm{#1}}$\n",
       "$\\newcommand{\\footnote}[1]{}$\n",
       "$\\newcommand{\\feh}{[Fe/H]}$\n",
       "$\\newcommand{\\ali}{A(Li)}$\n",
       "$\\newcommand{\\rgui}{\\langle R_{\\rm{g}} \\rangle}$\n",
       "$\\newcommand{\\rbirth}{\\langle R_{\\rm{b}} \\rangle}$\n",
       "$\\newcommand{\\eccentricity}{\\langle e \\rangle}$\n",
       "$\\newcommand{\\zmax}{\\langle Z_{\\rm{max}} \\rangle}$\n",
       "$\\newcommand{\\lz}{\\langle L_z \\rangle}$\n",
       "$\\newcommand{\\mass}{\\langle M \\rangle }$\n",
       "$\\newcommand{\\age}{\\overline{t}_{\\star}}$\n",
       "$\\newcommand{\\teff}{T_{\\rm eff}}$\n",
       "$\\newcommand{\\arraystretch}{1.2}$\n",
       "$\\newcommand{\\arraystretch}{1.}$</div>\n",
       "\n",
       "\n",
       "\n",
       "<div id=\"title\">\n",
       "\n",
       "# Probing the origins: II. Unravelling lithium depletion and stellar motion: Intrinsic stellar properties drive depletion, not kinematics\n",
       "\n",
       "</div>\n",
       "<div id=\"comments\">\n",
       "\n",
       "[![arXiv](https://img.shields.io/badge/arXiv-2505.17173-b31b1b.svg)](https://arxiv.org/abs/2505.17173)<mark>Appeared on: 2025-05-26</mark> -  _Accepted for publication in A&A. 12 pages, 6 figs, 3 tables. Abridged abstract to fit ArXiV's requirements_\n",
       "\n",
       "</div>\n",
       "<div id=\"authors\">\n",
       "\n",
       "M. L. L. Dantas, et al. -- incl., <mark>G. Guiglion</mark>\n",
       "\n",
       "</div>\n",
       "<div id=\"abstract\">\n",
       "\n",
       "**Abstract:** Lithium (Li) is a complex yet fragile element, with many production pathways but being easily destroyed in stars. Previous studies noted that the top envelope of the distribution of Li abundances [ A(Li) ] in super-solar metallicity dwarf stars shows signs of Li depletion, contrary to expectations. This depletion is thought to result from the interplay between stellar evolution and radial migration. In Paper I, we classified a stellar sample from the thin disc with a broad range in metallicity as being churned outward or inward, or blurred/undisturbed. In this paper (Paper II), we delve deeper by analysing our entire metallicity-stratified sample along with their dynamic properties, focusing on the connection between radial migration and Li depletion. We analyse the chemo-dynamics of a set of 1188 thin disc dwarf stars observed by the _Gaia_ -ESO survey, previously classified into six metallicity-stratified groups via Hierarchical Clustering (HC), ranging from metal-poor to super-metal-rich. We examine several features, such as effective temperatures, masses, and dynamic properties. We also implement a parametric survival analysis using penalised splines (logistic distribution) to quantify how stellar properties and motion (or migration) direction jointly influence Li depletion patterns. We find that stars in our sample that appear to have churned outward are predominantly Li-depleted, regardless of their metallicities. These stars are also the oldest, coldest, and least massive compared to those in the same HC group that have either churned inward or kept their orbital radii. Our survival analysis confirms temperature as the primary driver of Li depletion, followed by metallicity and age, while migration direction shows negligible influence. Additionally, the proportion of outward-churned stars increases with increasing metallicity, making up more than 90 \\% of our sample in the most metal-rich group. The increasing proportion of outward-churned stars with higher metallicity (and older ages) indicates their dominant influence on the overall trend observed in the [ Fe/H ] -A(Li) space for stellar groups with [ Fe/H ] >0. The survival model reinforces that the observed Li depletion stems primarily from intrinsic stellar properties (cool temperatures, higher metallicity, old ages) rather than migration history. This suggests the metallicity-dependent depletion pattern emerges through stellar evolution rather than Galactic dynamical processes.\n",
       "\n",
       "</div>\n",
       "\n",
       "<div id=\"div_fig1\">\n",
       "\n",
       "<img src=\"tmp_2505.17173/./figs/lithium_feh_comparison.png\" alt=\"Fig1\" width=\"100%\"/>\n",
       "\n",
       "**Figure 1. -** Median lithium abundances ($\\langle \\rm{$\\ali$} \\rangle$) versus median metallicity ($\\langle \\rm{$\\feh$} \\rangle$) with their respective median errors for all the stellar groups in our sample, stratified by HC groups and Li detection (orange markers indicate detected values, purple markers indicate upper limits). Left panel: star-shaped markers depict $\\langle \\rm{$\\ali$} \\rangle$ vs $\\langle \\rm{$\\feh$} \\rangle$ for the entire sample, with each marker annotated to indicate the corresponding HC group. Right panel: Similar to the left panel, but further stratified by stellar movement. Circle markers represent stars that have moved inward, x-shaped markers indicate stars that have moved outward, and square markers depict stars with birth radius similar to their current Galactocentric distance (`Equal'). In cyan, we additionally display the abundances for the Solar photosphere ($\\bigodot$), meteorites ($\\bigotimes$), the Spite plateau (dashed horizontal line), and a newer SBBN estimate for $\\ali$ from [Pitrou, et. al (2021)]() at 2.7 dex (dot-dashed horizontal line). Note that upper limits do not include error estimations for lithium since no de facto detection was made, as shown in all other plots of the paper. (*fig:li_feh_all*)\n",
       "\n",
       "</div>\n",
       "<div id=\"div_fig2\">\n",
       "\n",
       "<img src=\"tmp_2505.17173/./figs/combined_li_correlations.png\" alt=\"Fig4\" width=\"100%\"/>\n",
       "\n",
       "**Figure 4. -** Heatmaps displaying the correlations between several parameters for all the stars in the sample stratified by Li detection (detected and upper limits, respectively, from the left to right). We display the values of $\\langle \\rm{$\\feh$} \\rangle$, $\\langle \\rm{$\\ali$} \\rangle$, $\\age$, $\\langle M \\rangle$, $\\langle T_{\\rm eff} \\rangle$, $\\eccentricity$, $\\zmax$, $\\lz$, and direction. We considered direction as a numerical value to classify stars churned outward (1) or inward (-1), or blurred/undisturbed (0). (*fig:li_correlations*)\n",
       "\n",
       "</div>\n",
       "<div id=\"div_fig3\">\n",
       "\n",
       "<img src=\"tmp_2505.17173/./figs/lithium_teff_movement.png\" alt=\"Fig2\" width=\"100%\"/>\n",
       "\n",
       "**Figure 2. -** Median lithium abundances ($\\langle \\rm{$\\ali$} \\rangle$) versus median effective temperatures ($\\langle T_{\\rm{eff}} \\rangle$) for all the stellar groups in our sample, stratified by metallicity (through the HC) and Li detection (orange markers indicate detected values, purple markers indicate upper limits). Circle markers represent stars that have moved inward, X-shaped markers indicate stars that have moved outward, and square markers depict stars with similar birth and current Galactocentric distances (`Equal'). We additionally display the Sun within this parameter space in cyan ($\\bigodot$), considering  $T_{\\rm{eff, \\odot}} = 5773 \\pm 16$ K  ([Asplund, Amarsi and Grevesse 2021]()) ; the Spite plateau can be seen through the dashed horizontal cyan line, as well as the SBBN estimate by \\citet[][dot-dashed line]{Pitrou2021}. (*fig:li_teff_all*)\n",
       "\n",
       "</div><div id=\"qrcode\"><img src=https://api.qrserver.com/v1/create-qr-code/?size=100x100&data=\"https://arxiv.org/abs/2505.17173\"></div>"
      ],
      "text/plain": [
       "<IPython.core.display.Markdown object>"
      ]
     },
     "metadata": {},
     "output_type": "display_data"
    }
   ],
   "source": [
    "[display(Markdown(k[1])) for k in documents];"
   ]
  },
  {
   "cell_type": "markdown",
   "id": "873873a4",
   "metadata": {
    "papermill": {
     "duration": 0.004413,
     "end_time": "2025-05-26T04:18:24.441120",
     "exception": false,
     "start_time": "2025-05-26T04:18:24.436707",
     "status": "completed"
    },
    "tags": []
   },
   "source": [
    "# Create HTML index"
   ]
  },
  {
   "cell_type": "code",
   "execution_count": 10,
   "id": "cf665672",
   "metadata": {
    "execution": {
     "iopub.execute_input": "2025-05-26T04:18:24.451277Z",
     "iopub.status.busy": "2025-05-26T04:18:24.450805Z",
     "iopub.status.idle": "2025-05-26T04:18:24.461522Z",
     "shell.execute_reply": "2025-05-26T04:18:24.460864Z"
    },
    "papermill": {
     "duration": 0.016835,
     "end_time": "2025-05-26T04:18:24.462584",
     "exception": false,
     "start_time": "2025-05-26T04:18:24.445749",
     "status": "completed"
    },
    "tags": []
   },
   "outputs": [
    {
     "name": "stdout",
     "output_type": "stream",
     "text": [
      "499  publications files modified in the last 7 days.\n"
     ]
    }
   ],
   "source": [
    "from datetime import datetime, timedelta, timezone\n",
    "from glob import glob\n",
    "import os\n",
    "\n",
    "files = glob('_build/html/*.md')\n",
    "days = 7\n",
    "now = datetime.today()\n",
    "res = []\n",
    "for fk in files:\n",
    "    stat_result = os.stat(fk).st_ctime\n",
    "    modified = datetime.fromtimestamp(stat_result, tz=timezone.utc).replace(tzinfo=None)\n",
    "    delta = now.today() - modified\n",
    "    if delta <= timedelta(days=days):\n",
    "        res.append((delta.seconds, fk))\n",
    "res = [k[1] for k in reversed(sorted(res, key=lambda x:x[1]))]\n",
    "npub = len(res)\n",
    "print(len(res), f\" publications files modified in the last {days:d} days.\")\n",
    "# [ print('\\t', k) for k in res ];"
   ]
  },
  {
   "cell_type": "code",
   "execution_count": 11,
   "id": "015de740",
   "metadata": {
    "execution": {
     "iopub.execute_input": "2025-05-26T04:18:24.472847Z",
     "iopub.status.busy": "2025-05-26T04:18:24.472298Z",
     "iopub.status.idle": "2025-05-26T04:18:24.496741Z",
     "shell.execute_reply": "2025-05-26T04:18:24.496165Z"
    },
    "papermill": {
     "duration": 0.030584,
     "end_time": "2025-05-26T04:18:24.497785",
     "exception": false,
     "start_time": "2025-05-26T04:18:24.467201",
     "status": "completed"
    },
    "tags": []
   },
   "outputs": [
    {
     "name": "stdout",
     "output_type": "stream",
     "text": [
      "9  publications in the last 7 days.\n"
     ]
    }
   ],
   "source": [
    "import datetime\n",
    "from glob import glob\n",
    "\n",
    "def get_last_n_days(lst, days=1):\n",
    "    \"\"\" Get the documents from the last n days \"\"\"\n",
    "    sorted_lst = sorted(lst, key=lambda x: x[1], reverse=True)\n",
    "    for fname, date in sorted_lst:\n",
    "        if date >= str(datetime.date.today() - datetime.timedelta(days=days)):\n",
    "            yield fname\n",
    "\n",
    "def extract_appearance_dates(lst_file):\n",
    "    dates = []\n",
    "\n",
    "    def get_date(line):\n",
    "        return line\\\n",
    "            .split('Appeared on:')[-1]\\\n",
    "            .split('</mark>')[0].strip()\n",
    "\n",
    "    for fname in lst:\n",
    "        with open(fname, 'r') as f:\n",
    "            found_date = False\n",
    "            for line in f:\n",
    "                if not found_date:\n",
    "                    if \"Appeared on\" in line:\n",
    "                        found_date = True\n",
    "                        dates.append((fname, get_date(line)))\n",
    "                else:\n",
    "                    break\n",
    "    return dates\n",
    "\n",
    "from glob import glob\n",
    "lst = glob('_build/html/*md')\n",
    "days = 7\n",
    "dates = extract_appearance_dates(lst)\n",
    "res = list(get_last_n_days(dates, days))\n",
    "npub = len(res)\n",
    "print(len(res), f\" publications in the last {days:d} days.\")"
   ]
  },
  {
   "cell_type": "code",
   "execution_count": 12,
   "id": "52ca0208",
   "metadata": {
    "execution": {
     "iopub.execute_input": "2025-05-26T04:18:24.508232Z",
     "iopub.status.busy": "2025-05-26T04:18:24.507758Z",
     "iopub.status.idle": "2025-05-26T04:18:24.512908Z",
     "shell.execute_reply": "2025-05-26T04:18:24.512387Z"
    },
    "papermill": {
     "duration": 0.011272,
     "end_time": "2025-05-26T04:18:24.513856",
     "exception": false,
     "start_time": "2025-05-26T04:18:24.502584",
     "status": "completed"
    },
    "scrolled": false,
    "tags": []
   },
   "outputs": [],
   "source": [
    "def create_carousel(npub=4):\n",
    "    \"\"\" Generate the HTML code for a carousel with `npub` slides \"\"\"\n",
    "    carousel = [\"\"\"  <div class=\"carousel\" \"\"\",\n",
    "                \"\"\"       data-flickity='{ \"autoPlay\": 10000, \"adaptiveHeight\": true, \"resize\": true, \"wrapAround\": true, \"pauseAutoPlayOnHover\": true, \"groupCells\": 1 }' id=\"asyncTypeset\">\"\"\"\n",
    "                ]\n",
    "    \n",
    "    item_str = \"\"\"    <div class=\"carousel-cell\"> <div id=\"slide{k}\" class=\"md_view\">Content {k}</div> </div>\"\"\"\n",
    "    for k in range(1, npub + 1):\n",
    "        carousel.append(item_str.format(k=k))\n",
    "    carousel.append(\"  </div>\")\n",
    "    return '\\n'.join(carousel)\n",
    "\n",
    "def create_grid(npub=4):\n",
    "    \"\"\" Generate the HTML code for a flat grid with `npub` slides \"\"\"\n",
    "    grid = [\"\"\"  <div class=\"grid\"> \"\"\",\n",
    "                ]\n",
    "    \n",
    "    item_str = \"\"\"    <div class=\"grid-item\"> <div id=\"slide{k}\" class=\"md_view\">Content {k}</div> </div>\"\"\"\n",
    "    for k in range(1, npub + 1):\n",
    "        grid.append(item_str.format(k=k))\n",
    "    grid.append(\"  </div>\")\n",
    "    return '\\n'.join(grid)"
   ]
  },
  {
   "cell_type": "code",
   "execution_count": 13,
   "id": "a6eac5b6",
   "metadata": {
    "execution": {
     "iopub.execute_input": "2025-05-26T04:18:24.524077Z",
     "iopub.status.busy": "2025-05-26T04:18:24.523834Z",
     "iopub.status.idle": "2025-05-26T04:18:24.529067Z",
     "shell.execute_reply": "2025-05-26T04:18:24.528551Z"
    },
    "papermill": {
     "duration": 0.01152,
     "end_time": "2025-05-26T04:18:24.530101",
     "exception": false,
     "start_time": "2025-05-26T04:18:24.518581",
     "status": "completed"
    },
    "scrolled": false,
    "tags": []
   },
   "outputs": [],
   "source": [
    "carousel = create_carousel(npub)\n",
    "docs = ', '.join(['\"{0:s}\"'.format(k.split('/')[-1]) for k in res])\n",
    "slides = ', '.join([f'\"slide{k}\"' for k in range(1, npub + 1)])\n",
    "\n",
    "with open(\"daily_template.html\", \"r\") as tpl:\n",
    "    page = tpl.read()\n",
    "    page = page.replace(\"{%-- carousel:s --%}\", carousel)\\\n",
    "               .replace(\"{%-- suptitle:s --%}\",  \"7-day archives\" )\\\n",
    "               .replace(\"{%-- docs:s --%}\", docs)\\\n",
    "               .replace(\"{%-- slides:s --%}\", slides)\n",
    "    \n",
    "with open(\"_build/html/index_7days.html\", 'w') as fout:\n",
    "    fout.write(page)"
   ]
  },
  {
   "cell_type": "code",
   "execution_count": 14,
   "id": "adc1a1ec",
   "metadata": {
    "execution": {
     "iopub.execute_input": "2025-05-26T04:18:24.540407Z",
     "iopub.status.busy": "2025-05-26T04:18:24.540178Z",
     "iopub.status.idle": "2025-05-26T04:18:24.547111Z",
     "shell.execute_reply": "2025-05-26T04:18:24.546555Z"
    },
    "papermill": {
     "duration": 0.01336,
     "end_time": "2025-05-26T04:18:24.548328",
     "exception": false,
     "start_time": "2025-05-26T04:18:24.534968",
     "status": "completed"
    },
    "tags": []
   },
   "outputs": [
    {
     "name": "stdout",
     "output_type": "stream",
     "text": [
      "1  publications in the last day.\n"
     ]
    }
   ],
   "source": [
    "# redo for today\n",
    "days = 1\n",
    "res = list(get_last_n_days(dates, days))\n",
    "npub = len(res)\n",
    "print(len(res), f\" publications in the last day.\")\n",
    "\n",
    "carousel = create_carousel(npub)\n",
    "docs = ', '.join(['\"{0:s}\"'.format(k.split('/')[-1]) for k in res])\n",
    "slides = ', '.join([f'\"slide{k}\"' for k in range(1, npub + 1)])\n",
    "\n",
    "with open(\"daily_template.html\", \"r\") as tpl:\n",
    "    page = tpl.read()\n",
    "    page = page.replace(\"{%-- carousel:s --%}\", carousel)\\\n",
    "               .replace(\"{%-- suptitle:s --%}\",  \"Daily\" )\\\n",
    "               .replace(\"{%-- docs:s --%}\", docs)\\\n",
    "               .replace(\"{%-- slides:s --%}\", slides)\n",
    "    \n",
    "# print(carousel, docs, slides)\n",
    "# print(page)\n",
    "with open(\"_build/html/index_daily.html\", 'w') as fout:\n",
    "    fout.write(page)"
   ]
  },
  {
   "cell_type": "code",
   "execution_count": 15,
   "id": "00eece82",
   "metadata": {
    "execution": {
     "iopub.execute_input": "2025-05-26T04:18:24.558808Z",
     "iopub.status.busy": "2025-05-26T04:18:24.558606Z",
     "iopub.status.idle": "2025-05-26T04:18:24.565118Z",
     "shell.execute_reply": "2025-05-26T04:18:24.564560Z"
    },
    "papermill": {
     "duration": 0.012888,
     "end_time": "2025-05-26T04:18:24.566131",
     "exception": false,
     "start_time": "2025-05-26T04:18:24.553243",
     "status": "completed"
    },
    "scrolled": false,
    "tags": []
   },
   "outputs": [
    {
     "name": "stdout",
     "output_type": "stream",
     "text": [
      "6  6 publications selected.\n"
     ]
    }
   ],
   "source": [
    "# Create the flat grid of the last N papers (fixed number regardless of dates)\n",
    "from itertools import islice \n",
    "\n",
    "npub = 6\n",
    "res = [k[0] for k in (islice(reversed(sorted(dates, key=lambda x: x[1])), 6))]\n",
    "print(len(res), f\" {npub} publications selected.\")\n",
    "\n",
    "grid = create_grid(npub)\n",
    "docs = ', '.join(['\"{0:s}\"'.format(k.split('/')[-1]) for k in res])\n",
    "slides = ', '.join([f'\"slide{k}\"' for k in range(1, npub + 1)])\n",
    "\n",
    "with open(\"grid_template.html\", \"r\") as tpl:\n",
    "    page = tpl.read()\n",
    "    page = page.replace(\"{%-- grid-content:s --%}\", grid)\\\n",
    "               .replace(\"{%-- suptitle:s --%}\",  f\"Last {npub:,d} papers\" )\\\n",
    "               .replace(\"{%-- docs:s --%}\", docs)\\\n",
    "               .replace(\"{%-- slides:s --%}\", slides)\n",
    "    \n",
    "# print(grid, docs, slides)\n",
    "# print(page)\n",
    "with open(\"_build/html/index_npub_grid.html\", 'w') as fout:\n",
    "    fout.write(page)"
   ]
  }
 ],
 "metadata": {
  "kernelspec": {
   "display_name": "Python 3 (ipykernel)",
   "language": "python",
   "name": "python3"
  },
  "language_info": {
   "codemirror_mode": {
    "name": "ipython",
    "version": 3
   },
   "file_extension": ".py",
   "mimetype": "text/x-python",
   "name": "python",
   "nbconvert_exporter": "python",
   "pygments_lexer": "ipython3",
   "version": "3.9.22"
  },
  "papermill": {
   "default_parameters": {},
   "duration": 37.715071,
   "end_time": "2025-05-26T04:18:24.787097",
   "environment_variables": {},
   "exception": null,
   "input_path": "MPIA daily digest.ipynb",
   "output_path": "log.ipynb",
   "parameters": {},
   "start_time": "2025-05-26T04:17:47.072026",
   "version": "2.6.0"
  },
  "vscode": {
   "interpreter": {
    "hash": "aee8b7b246df8f9039afb4144a1f6fd8d2ca17a180786b69acc140d282b71a49"
   }
  },
  "widgets": {
   "application/vnd.jupyter.widget-state+json": {
    "state": {
     "0986a49fa89c4a2cbe1d212d5f8c0227": {
      "model_module": "@jupyter-widgets/base",
      "model_module_version": "2.0.0",
      "model_name": "LayoutModel",
      "state": {
       "_model_module": "@jupyter-widgets/base",
       "_model_module_version": "2.0.0",
       "_model_name": "LayoutModel",
       "_view_count": null,
       "_view_module": "@jupyter-widgets/base",
       "_view_module_version": "2.0.0",
       "_view_name": "LayoutView",
       "align_content": null,
       "align_items": null,
       "align_self": null,
       "border_bottom": null,
       "border_left": null,
       "border_right": null,
       "border_top": null,
       "bottom": null,
       "display": null,
       "flex": null,
       "flex_flow": null,
       "grid_area": null,
       "grid_auto_columns": null,
       "grid_auto_flow": null,
       "grid_auto_rows": null,
       "grid_column": null,
       "grid_gap": null,
       "grid_row": null,
       "grid_template_areas": null,
       "grid_template_columns": null,
       "grid_template_rows": null,
       "height": null,
       "justify_content": null,
       "justify_items": null,
       "left": null,
       "margin": null,
       "max_height": null,
       "max_width": null,
       "min_height": null,
       "min_width": null,
       "object_fit": null,
       "object_position": null,
       "order": null,
       "overflow": null,
       "padding": null,
       "right": null,
       "top": null,
       "visibility": null,
       "width": null
      }
     },
     "18f7c9a72a4a49a3925482c076b00d00": {
      "model_module": "@jupyter-widgets/base",
      "model_module_version": "2.0.0",
      "model_name": "LayoutModel",
      "state": {
       "_model_module": "@jupyter-widgets/base",
       "_model_module_version": "2.0.0",
       "_model_name": "LayoutModel",
       "_view_count": null,
       "_view_module": "@jupyter-widgets/base",
       "_view_module_version": "2.0.0",
       "_view_name": "LayoutView",
       "align_content": null,
       "align_items": null,
       "align_self": null,
       "border_bottom": null,
       "border_left": null,
       "border_right": null,
       "border_top": null,
       "bottom": null,
       "display": null,
       "flex": null,
       "flex_flow": null,
       "grid_area": null,
       "grid_auto_columns": null,
       "grid_auto_flow": null,
       "grid_auto_rows": null,
       "grid_column": null,
       "grid_gap": null,
       "grid_row": null,
       "grid_template_areas": null,
       "grid_template_columns": null,
       "grid_template_rows": null,
       "height": null,
       "justify_content": null,
       "justify_items": null,
       "left": null,
       "margin": null,
       "max_height": null,
       "max_width": null,
       "min_height": null,
       "min_width": null,
       "object_fit": null,
       "object_position": null,
       "order": null,
       "overflow": null,
       "padding": null,
       "right": null,
       "top": null,
       "visibility": null,
       "width": null
      }
     },
     "26d98ea0f3314a56ad47801c5427f72e": {
      "model_module": "@jupyter-widgets/controls",
      "model_module_version": "2.0.0",
      "model_name": "HTMLModel",
      "state": {
       "_dom_classes": [],
       "_model_module": "@jupyter-widgets/controls",
       "_model_module_version": "2.0.0",
       "_model_name": "HTMLModel",
       "_view_count": null,
       "_view_module": "@jupyter-widgets/controls",
       "_view_module_version": "2.0.0",
       "_view_name": "HTMLView",
       "description": "",
       "description_allow_html": false,
       "layout": "IPY_MODEL_5d41fe9c2f6348eca73f376932aca8e5",
       "placeholder": "​",
       "style": "IPY_MODEL_6f9e6f106ff548e0adb79098741a594d",
       "tabbable": null,
       "tooltip": null,
       "value": " 4/4 [00:11&lt;00:00,  1.91s/it]"
      }
     },
     "2fcb365165f74cde956d195015f0c012": {
      "model_module": "@jupyter-widgets/controls",
      "model_module_version": "2.0.0",
      "model_name": "HTMLModel",
      "state": {
       "_dom_classes": [],
       "_model_module": "@jupyter-widgets/controls",
       "_model_module_version": "2.0.0",
       "_model_name": "HTMLModel",
       "_view_count": null,
       "_view_module": "@jupyter-widgets/controls",
       "_view_module_version": "2.0.0",
       "_view_name": "HTMLView",
       "description": "",
       "description_allow_html": false,
       "layout": "IPY_MODEL_18f7c9a72a4a49a3925482c076b00d00",
       "placeholder": "​",
       "style": "IPY_MODEL_313e78bd0d6143e7b4d65007b95d09c0",
       "tabbable": null,
       "tooltip": null,
       "value": "100%"
      }
     },
     "313e78bd0d6143e7b4d65007b95d09c0": {
      "model_module": "@jupyter-widgets/controls",
      "model_module_version": "2.0.0",
      "model_name": "HTMLStyleModel",
      "state": {
       "_model_module": "@jupyter-widgets/controls",
       "_model_module_version": "2.0.0",
       "_model_name": "HTMLStyleModel",
       "_view_count": null,
       "_view_module": "@jupyter-widgets/base",
       "_view_module_version": "2.0.0",
       "_view_name": "StyleView",
       "background": null,
       "description_width": "",
       "font_size": null,
       "text_color": null
      }
     },
     "51d73766f2ad4959bafdcf79b4fef7d5": {
      "model_module": "@jupyter-widgets/controls",
      "model_module_version": "2.0.0",
      "model_name": "ProgressStyleModel",
      "state": {
       "_model_module": "@jupyter-widgets/controls",
       "_model_module_version": "2.0.0",
       "_model_name": "ProgressStyleModel",
       "_view_count": null,
       "_view_module": "@jupyter-widgets/base",
       "_view_module_version": "2.0.0",
       "_view_name": "StyleView",
       "bar_color": null,
       "description_width": ""
      }
     },
     "5d41fe9c2f6348eca73f376932aca8e5": {
      "model_module": "@jupyter-widgets/base",
      "model_module_version": "2.0.0",
      "model_name": "LayoutModel",
      "state": {
       "_model_module": "@jupyter-widgets/base",
       "_model_module_version": "2.0.0",
       "_model_name": "LayoutModel",
       "_view_count": null,
       "_view_module": "@jupyter-widgets/base",
       "_view_module_version": "2.0.0",
       "_view_name": "LayoutView",
       "align_content": null,
       "align_items": null,
       "align_self": null,
       "border_bottom": null,
       "border_left": null,
       "border_right": null,
       "border_top": null,
       "bottom": null,
       "display": null,
       "flex": null,
       "flex_flow": null,
       "grid_area": null,
       "grid_auto_columns": null,
       "grid_auto_flow": null,
       "grid_auto_rows": null,
       "grid_column": null,
       "grid_gap": null,
       "grid_row": null,
       "grid_template_areas": null,
       "grid_template_columns": null,
       "grid_template_rows": null,
       "height": null,
       "justify_content": null,
       "justify_items": null,
       "left": null,
       "margin": null,
       "max_height": null,
       "max_width": null,
       "min_height": null,
       "min_width": null,
       "object_fit": null,
       "object_position": null,
       "order": null,
       "overflow": null,
       "padding": null,
       "right": null,
       "top": null,
       "visibility": null,
       "width": null
      }
     },
     "6f9e6f106ff548e0adb79098741a594d": {
      "model_module": "@jupyter-widgets/controls",
      "model_module_version": "2.0.0",
      "model_name": "HTMLStyleModel",
      "state": {
       "_model_module": "@jupyter-widgets/controls",
       "_model_module_version": "2.0.0",
       "_model_name": "HTMLStyleModel",
       "_view_count": null,
       "_view_module": "@jupyter-widgets/base",
       "_view_module_version": "2.0.0",
       "_view_name": "StyleView",
       "background": null,
       "description_width": "",
       "font_size": null,
       "text_color": null
      }
     },
     "ae82e8be6844426a81b80dc06d0e04e1": {
      "model_module": "@jupyter-widgets/controls",
      "model_module_version": "2.0.0",
      "model_name": "FloatProgressModel",
      "state": {
       "_dom_classes": [],
       "_model_module": "@jupyter-widgets/controls",
       "_model_module_version": "2.0.0",
       "_model_name": "FloatProgressModel",
       "_view_count": null,
       "_view_module": "@jupyter-widgets/controls",
       "_view_module_version": "2.0.0",
       "_view_name": "ProgressView",
       "bar_style": "success",
       "description": "",
       "description_allow_html": false,
       "layout": "IPY_MODEL_0986a49fa89c4a2cbe1d212d5f8c0227",
       "max": 4.0,
       "min": 0.0,
       "orientation": "horizontal",
       "style": "IPY_MODEL_51d73766f2ad4959bafdcf79b4fef7d5",
       "tabbable": null,
       "tooltip": null,
       "value": 4.0
      }
     },
     "b00720095d6c4491b72b8e3555c8416a": {
      "model_module": "@jupyter-widgets/controls",
      "model_module_version": "2.0.0",
      "model_name": "HBoxModel",
      "state": {
       "_dom_classes": [],
       "_model_module": "@jupyter-widgets/controls",
       "_model_module_version": "2.0.0",
       "_model_name": "HBoxModel",
       "_view_count": null,
       "_view_module": "@jupyter-widgets/controls",
       "_view_module_version": "2.0.0",
       "_view_name": "HBoxView",
       "box_style": "",
       "children": [
        "IPY_MODEL_2fcb365165f74cde956d195015f0c012",
        "IPY_MODEL_ae82e8be6844426a81b80dc06d0e04e1",
        "IPY_MODEL_26d98ea0f3314a56ad47801c5427f72e"
       ],
       "layout": "IPY_MODEL_d450902c4d3840e4b66c2f7bdb847d6f",
       "tabbable": null,
       "tooltip": null
      }
     },
     "d450902c4d3840e4b66c2f7bdb847d6f": {
      "model_module": "@jupyter-widgets/base",
      "model_module_version": "2.0.0",
      "model_name": "LayoutModel",
      "state": {
       "_model_module": "@jupyter-widgets/base",
       "_model_module_version": "2.0.0",
       "_model_name": "LayoutModel",
       "_view_count": null,
       "_view_module": "@jupyter-widgets/base",
       "_view_module_version": "2.0.0",
       "_view_name": "LayoutView",
       "align_content": null,
       "align_items": null,
       "align_self": null,
       "border_bottom": null,
       "border_left": null,
       "border_right": null,
       "border_top": null,
       "bottom": null,
       "display": null,
       "flex": null,
       "flex_flow": null,
       "grid_area": null,
       "grid_auto_columns": null,
       "grid_auto_flow": null,
       "grid_auto_rows": null,
       "grid_column": null,
       "grid_gap": null,
       "grid_row": null,
       "grid_template_areas": null,
       "grid_template_columns": null,
       "grid_template_rows": null,
       "height": null,
       "justify_content": null,
       "justify_items": null,
       "left": null,
       "margin": null,
       "max_height": null,
       "max_width": null,
       "min_height": null,
       "min_width": null,
       "object_fit": null,
       "object_position": null,
       "order": null,
       "overflow": null,
       "padding": null,
       "right": null,
       "top": null,
       "visibility": null,
       "width": null
      }
     }
    },
    "version_major": 2,
    "version_minor": 0
   }
  }
 },
 "nbformat": 4,
 "nbformat_minor": 5
}