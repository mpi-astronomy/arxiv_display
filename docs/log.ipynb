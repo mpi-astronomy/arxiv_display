{
 "cells": [
  {
   "cell_type": "markdown",
   "id": "92bcb855",
   "metadata": {
    "papermill": {
     "duration": 0.0061,
     "end_time": "2023-05-25T04:05:30.144939",
     "exception": false,
     "start_time": "2023-05-25T04:05:30.138839",
     "status": "completed"
    },
    "tags": []
   },
   "source": [
    "# MPIA Arxiv on Deck 2\n",
    "\n",
    "Contains the steps to produce the paper extractions."
   ]
  },
  {
   "cell_type": "code",
   "execution_count": 1,
   "id": "3a0d6e11",
   "metadata": {
    "execution": {
     "iopub.execute_input": "2023-05-25T04:05:30.155598Z",
     "iopub.status.busy": "2023-05-25T04:05:30.154938Z",
     "iopub.status.idle": "2023-05-25T04:05:30.444616Z",
     "shell.execute_reply": "2023-05-25T04:05:30.443556Z"
    },
    "papermill": {
     "duration": 0.297737,
     "end_time": "2023-05-25T04:05:30.447084",
     "exception": false,
     "start_time": "2023-05-25T04:05:30.149347",
     "status": "completed"
    },
    "tags": []
   },
   "outputs": [],
   "source": [
    "# Imports\n",
    "import os\n",
    "from IPython.display import Markdown, display\n",
    "from tqdm.notebook import tqdm\n",
    "import warnings\n",
    "from PIL import Image \n",
    "\n",
    "# requires arxiv_on_deck_2\n",
    "\n",
    "from arxiv_on_deck_2.arxiv2 import (get_new_papers, \n",
    "                                    get_paper_from_identifier,\n",
    "                                    retrieve_document_source, \n",
    "                                    get_markdown_badge)\n",
    "from arxiv_on_deck_2 import (latex,\n",
    "                             latex_bib,\n",
    "                             mpia,\n",
    "                             highlight_authors_in_list)\n",
    "\n",
    "# Sometimes images are really big\n",
    "Image.MAX_IMAGE_PIXELS = 1000000000 "
   ]
  },
  {
   "cell_type": "code",
   "execution_count": 2,
   "id": "22aa9d44",
   "metadata": {
    "execution": {
     "iopub.execute_input": "2023-05-25T04:05:30.457518Z",
     "iopub.status.busy": "2023-05-25T04:05:30.457175Z",
     "iopub.status.idle": "2023-05-25T04:05:30.465954Z",
     "shell.execute_reply": "2023-05-25T04:05:30.465010Z"
    },
    "papermill": {
     "duration": 0.016236,
     "end_time": "2023-05-25T04:05:30.467851",
     "exception": false,
     "start_time": "2023-05-25T04:05:30.451615",
     "status": "completed"
    },
    "tags": []
   },
   "outputs": [],
   "source": [
    "# Some useful definitions.\n",
    "\n",
    "class AffiliationWarning(UserWarning):\n",
    "    pass\n",
    "\n",
    "class AffiliationError(RuntimeError):\n",
    "    pass\n",
    "\n",
    "def validation(source: str):\n",
    "    \"\"\"Raises error paper during parsing of source file\n",
    "    \n",
    "    Allows checks before parsing TeX code.\n",
    "    \n",
    "    Raises AffiliationWarning\n",
    "    \"\"\"\n",
    "    check = mpia.affiliation_verifications(source, verbose=True)\n",
    "    if check is not True:\n",
    "        raise AffiliationError(\"mpia.affiliation_verifications: \" + check)\n",
    "\n",
    "        \n",
    "warnings.simplefilter('always', AffiliationWarning)\n",
    "\n",
    "\n",
    "def get_markdown_qrcode(paper_id: str):\n",
    "    \"\"\" Generate a qrcode to the arxiv page using qrserver.com\n",
    "    \n",
    "    :param paper: Arxiv paper\n",
    "    :returns: markdown text\n",
    "    \"\"\"\n",
    "    url = r\"https://api.qrserver.com/v1/create-qr-code/?size=100x100&data=\"\n",
    "    txt = f\"\"\"<img src={url}\"https://arxiv.org/abs/{paper_id}\">\"\"\"\n",
    "    txt = '<div id=\"qrcode\">' + txt + '</div>'\n",
    "    return txt"
   ]
  },
  {
   "cell_type": "markdown",
   "id": "14bd6310",
   "metadata": {
    "papermill": {
     "duration": 0.004229,
     "end_time": "2023-05-25T04:05:30.476575",
     "exception": false,
     "start_time": "2023-05-25T04:05:30.472346",
     "status": "completed"
    },
    "tags": []
   },
   "source": [
    "## get list of arxiv paper candidates\n",
    "\n",
    "We use the MPIA mitarbeiter list webpage from mpia.de to get author names\n",
    "We then get all new papers from Arxiv and match authors"
   ]
  },
  {
   "cell_type": "code",
   "execution_count": 3,
   "id": "2645e73a",
   "metadata": {
    "execution": {
     "iopub.execute_input": "2023-05-25T04:05:30.486809Z",
     "iopub.status.busy": "2023-05-25T04:05:30.486208Z",
     "iopub.status.idle": "2023-05-25T04:05:57.216338Z",
     "shell.execute_reply": "2023-05-25T04:05:57.215305Z"
    },
    "papermill": {
     "duration": 26.737854,
     "end_time": "2023-05-25T04:05:57.218595",
     "exception": false,
     "start_time": "2023-05-25T04:05:30.480741",
     "status": "completed"
    },
    "tags": []
   },
   "outputs": [
    {
     "name": "stdout",
     "output_type": "stream",
     "text": [
      "E. Schinnerer  ->  E. Schinnerer  |  ['E. Schinnerer']\n",
      "J. Neumann  ->  J. Neumann  |  ['J. Neumann']\n",
      "N. Neumayer  ->  N. Neumayer  |  ['N. Neumayer']\n",
      "F. Pinna  ->  F. Pinna  |  ['F. Pinna']\n",
      "X. Zhang  ->  X. Zhang  |  ['X. Zhang']\n",
      "M. Güdel  ->  M. Güdel  |  ['M. Güdel']\n"
     ]
    },
    {
     "name": "stdout",
     "output_type": "stream",
     "text": [
      "Smith  ->  M. Smith  |  ['Smith']\n",
      "Zhang  ->  X. Zhang  |  ['Zhang']\n",
      "L. Boogaard  ->  L. Boogaard  |  ['L. Boogaard']\n",
      "Arxiv has 52 new papers today\n",
      "          5 with possible author matches\n"
     ]
    }
   ],
   "source": [
    "# get list from MPIA website\n",
    "# it automatically filters identified non-scientists :func:`mpia.filter_non_scientists`\n",
    "mpia_authors = mpia.get_mpia_mitarbeiter_list()\n",
    "normed_mpia_authors = [k[1] for k in mpia_authors]   # initials + fullname\n",
    "new_papers = get_new_papers()\n",
    "# add manual references\n",
    "add_paper_refs = []\n",
    "new_papers.extend([get_paper_from_identifier(k) for k in add_paper_refs])\n",
    "\n",
    "candidates = []\n",
    "for paperk in new_papers:\n",
    "    # Check author list with their initials\n",
    "    normed_author_list = [mpia.get_initials(k) for k in paperk['authors']]\n",
    "    hl_authors = highlight_authors_in_list(normed_author_list, normed_mpia_authors, verbose=True)\n",
    "    matches = [(hl, orig) for hl, orig in zip(hl_authors, paperk['authors']) if 'mark' in hl]\n",
    "    paperk['authors'] = hl_authors\n",
    "    if matches:\n",
    "        # only select paper if an author matched our list\n",
    "        candidates.append(paperk)\n",
    "print(\"\"\"Arxiv has {0:,d} new papers today\"\"\".format(len(new_papers)))        \n",
    "print(\"\"\"          {0:,d} with possible author matches\"\"\".format(len(candidates)))"
   ]
  },
  {
   "cell_type": "markdown",
   "id": "3543b34a",
   "metadata": {
    "papermill": {
     "duration": 0.00436,
     "end_time": "2023-05-25T04:05:57.227605",
     "exception": false,
     "start_time": "2023-05-25T04:05:57.223245",
     "status": "completed"
    },
    "tags": []
   },
   "source": [
    "# Parse sources and generate relevant outputs\n",
    "\n",
    "From the candidates, we do the following steps:\n",
    "* get their tarball from ArXiv (and extract data)\n",
    "* find the main .tex file: find one with \\documentclass{...} (sometimes it's non trivial)\n",
    "* Check affiliations with :func:`validation`, which uses :func:`mpia.affiliation_verifications`\n",
    "* If passing the affiliations: we parse the .tex source\n",
    "   * inject sub-documents into the main (flatten the main document)\n",
    "   * parse structure, extract information (title, abstract, authors, figures...)\n",
    "   * handles `\\graphicspath` if provided\n",
    "* Generate the .md document."
   ]
  },
  {
   "cell_type": "code",
   "execution_count": 4,
   "id": "9576b79e",
   "metadata": {
    "execution": {
     "iopub.execute_input": "2023-05-25T04:05:57.238350Z",
     "iopub.status.busy": "2023-05-25T04:05:57.237827Z",
     "iopub.status.idle": "2023-05-25T04:06:45.889750Z",
     "shell.execute_reply": "2023-05-25T04:06:45.888837Z"
    },
    "papermill": {
     "duration": 48.660729,
     "end_time": "2023-05-25T04:06:45.892513",
     "exception": false,
     "start_time": "2023-05-25T04:05:57.231784",
     "status": "completed"
    },
    "scrolled": false,
    "tags": []
   },
   "outputs": [
    {
     "data": {
      "application/vnd.jupyter.widget-view+json": {
       "model_id": "da79453a31164129856539370df830e8",
       "version_major": 2,
       "version_minor": 0
      },
      "text/plain": [
       "  0%|          | 0/4 [00:00<?, ?it/s]"
      ]
     },
     "metadata": {},
     "output_type": "display_data"
    },
    {
     "name": "stdout",
     "output_type": "stream",
     "text": [
      "Retrieving document from  https://arxiv.org/e-print/2305.14437\n"
     ]
    },
    {
     "name": "stdout",
     "output_type": "stream",
     "text": [
      "extracting tarball to tmp_2305.14437..."
     ]
    },
    {
     "name": "stdout",
     "output_type": "stream",
     "text": [
      " done.\n"
     ]
    },
    {
     "name": "stderr",
     "output_type": "stream",
     "text": [
      "/opt/hostedtoolcache/Python/3.9.16/x64/lib/python3.9/site-packages/IPython/core/interactiveshell.py:3508: LatexWarning: Multiple tex files.\n",
      "\n",
      "  exec(code_obj, self.user_global_ns, self.user_ns)\n",
      "/opt/hostedtoolcache/Python/3.9.16/x64/lib/python3.9/site-packages/IPython/core/interactiveshell.py:3508: LatexWarning: Found documentclass in tmp_2305.14437/main.tex\n",
      "\n",
      "  exec(code_obj, self.user_global_ns, self.user_ns)\n",
      "/opt/hostedtoolcache/Python/3.9.16/x64/lib/python3.9/site-packages/arxiv_on_deck_2/latex.py:399: LatexWarning: Latex injecting: 'authors' from 'tmp_2305.14437/authors.tex'\n",
      "  warnings.warn(LatexWarning(f\"Latex injecting: '{ext}' from '{subsource}'\"))\n"
     ]
    },
    {
     "name": "stdout",
     "output_type": "stream",
     "text": [
      "Found 69 bibliographic references in tmp_2305.14437/main.bbl.\n",
      "syntax error in line 67: '=' expected\n",
      "Retrieving document from  https://arxiv.org/e-print/2305.14895\n"
     ]
    },
    {
     "name": "stdout",
     "output_type": "stream",
     "text": [
      "extracting tarball to tmp_2305.14895..."
     ]
    },
    {
     "name": "stdout",
     "output_type": "stream",
     "text": [
      " done.\n",
      "Retrieving document from  https://arxiv.org/e-print/2305.14971\n"
     ]
    },
    {
     "name": "stdout",
     "output_type": "stream",
     "text": [
      "extracting tarball to tmp_2305.14971..."
     ]
    },
    {
     "name": "stdout",
     "output_type": "stream",
     "text": [
      " done.\n",
      "Retrieving document from  https://arxiv.org/e-print/2305.15308\n"
     ]
    },
    {
     "name": "stdout",
     "output_type": "stream",
     "text": [
      "extracting tarball to tmp_2305.15308..."
     ]
    },
    {
     "name": "stdout",
     "output_type": "stream",
     "text": [
      " done.\n"
     ]
    }
   ],
   "source": [
    "documents = []\n",
    "failed = []\n",
    "for paper in tqdm(candidates[:-1]):\n",
    "    paper_id = paper['identifier'].lower().replace('arxiv:', '')\n",
    "    \n",
    "    folder = f'tmp_{paper_id}'\n",
    "\n",
    "    try:\n",
    "        if not os.path.isdir(folder):\n",
    "            folder = retrieve_document_source(f\"{paper_id}\", f'tmp_{paper_id}')\n",
    "        \n",
    "        try:\n",
    "            doc = latex.LatexDocument(folder, validation=validation)    \n",
    "        except AffiliationError as affilerror:\n",
    "            msg = f\"ArXiv:{paper_id:s} is not an MPIA paper... \" + str(affilerror)\n",
    "            failed.append((paper, \"affiliation error: \" + str(affilerror) ))\n",
    "            continue\n",
    "        \n",
    "        # Hack because sometimes author parsing does not work well\n",
    "        if (len(doc.authors) != len(paper['authors'])):\n",
    "            doc._authors = paper['authors']\n",
    "        else:\n",
    "            # highlight authors (FIXME: doc.highlight_authors)\n",
    "            # done on arxiv paper already\n",
    "            doc._authors = highlight_authors_in_list(\n",
    "                [mpia.get_initials(k) for k in doc.authors], \n",
    "                normed_mpia_authors, verbose=True)\n",
    "        if (doc.abstract) in (None, ''):\n",
    "            doc._abstract = paper['abstract']\n",
    "            \n",
    "        doc.comment = (get_markdown_badge(paper_id) + \n",
    "                       \"<mark>Appeared on: \" + paper['date'] + \"</mark> - \")\n",
    "        if paper['comments']:\n",
    "            doc.comment += \" _\" + paper['comments'] + \"_\"\n",
    "        \n",
    "        full_md = doc.generate_markdown_text()\n",
    "        \n",
    "        full_md += get_markdown_qrcode(paper_id)\n",
    "        \n",
    "        # replace citations\n",
    "        try:\n",
    "            bibdata = latex_bib.LatexBib.from_doc(doc)\n",
    "            full_md = latex_bib.replace_citations(full_md, bibdata)\n",
    "        except Exception as e:\n",
    "            print(e)\n",
    "        \n",
    "        documents.append((paper_id, full_md))\n",
    "    except Exception as e:\n",
    "        warnings.warn(latex.LatexWarning(f\"{paper_id:s} did not run properly\\n\" +\n",
    "                                         str(e)\n",
    "                                        ))\n",
    "        failed.append((paper, \"latex error \" + str(e)))"
   ]
  },
  {
   "cell_type": "markdown",
   "id": "2505a25c",
   "metadata": {
    "papermill": {
     "duration": 0.00574,
     "end_time": "2023-05-25T04:06:45.903847",
     "exception": false,
     "start_time": "2023-05-25T04:06:45.898107",
     "status": "completed"
    },
    "tags": []
   },
   "source": [
    "### Export the logs\n",
    "\n",
    "Throughout, we also keep track of the logs per paper. see `logs-{today date}.md` "
   ]
  },
  {
   "cell_type": "code",
   "execution_count": 5,
   "id": "d733828a",
   "metadata": {
    "execution": {
     "iopub.execute_input": "2023-05-25T04:06:45.916794Z",
     "iopub.status.busy": "2023-05-25T04:06:45.916255Z",
     "iopub.status.idle": "2023-05-25T04:06:45.937007Z",
     "shell.execute_reply": "2023-05-25T04:06:45.936064Z"
    },
    "papermill": {
     "duration": 0.031397,
     "end_time": "2023-05-25T04:06:45.940679",
     "exception": false,
     "start_time": "2023-05-25T04:06:45.909282",
     "status": "completed"
    },
    "scrolled": false,
    "tags": []
   },
   "outputs": [
    {
     "data": {
      "text/markdown": [
       "## Successful papers"
      ],
      "text/plain": [
       "<IPython.core.display.Markdown object>"
      ]
     },
     "metadata": {},
     "output_type": "display_data"
    },
    {
     "data": {
      "text/markdown": [
       "\n",
       "|||\n",
       "|---:|:---|\n",
       "| [![arXiv](https://img.shields.io/badge/arXiv-arXiv:2305.14437-b31b1b.svg)](https://arxiv.org/abs/arXiv:2305.14437) | **Fuelling the nuclear ring of NGC 1097**  |\n",
       "|| M. C. Sormani, et al. -- incl., <mark>E. Schinnerer</mark>, <mark>J. Neumann</mark>, <mark>N. Neumayer</mark>, <mark>F. Pinna</mark> |\n",
       "|*Appeared on*| *2023-05-25*|\n",
       "|*Comments*| *Accepted in MNRAS*|\n",
       "|**Abstract**| Galactic bars can drive cold gas inflows towards the centres of galaxies. The gas transport happens primarily through the so-called bar ``dust lanes'', which connect the galactic disc at kpc scales to the nuclear rings at hundreds of pc scales much like two gigantic galactic rivers. Once in the ring, the gas can fuel star formation activity, galactic outflows, and central supermassive black holes. Measuring the mass inflow rates is therefore important to understanding the mass/energy budget and evolution of galactic nuclei. In this work, we use CO datacubes from the PHANGS-ALMA survey and a simple geometrical method to measure the bar-driven mass inflow rate onto the nuclear ring of the barred galaxy NGC~1097. The method assumes that the gas velocity in the bar lanes is parallel to the lanes in the frame co-rotating with the bar, and allows one to derive the inflow rates from sufficiently sensitive and resolved position-position-velocity diagrams if the bar pattern speed and galaxy orientations are known. We find an inflow rate of $\\dot{M}=(3.0 \\pm 2.1)\\, \\rm M_\\odot\\, yr^{-1}$ averaged over a time span of 40 Myr, which varies by a factor of a few over timescales of $\\sim$10 Myr. Most of the inflow appears to be consumed by star formation in the ring which is currently occurring at a rate of ${\\rm SFR}\\simeq~1.8$-$2 \\rm M_\\odot\\, yr^{-1}$, suggesting that the inflow is causally controlling the star formation rate in the ring as a function of time. |"
      ],
      "text/plain": [
       "[arXiv:2305.14437] Fuelling the nuclear ring of NGC 1097\n",
       "\tM. C. Sormani, et al. -- incl., <mark>E. Schinnerer</mark>, <mark>J. Neumann</mark>, <mark>N. Neumayer</mark>, <mark>F. Pinna</mark>"
      ]
     },
     "metadata": {},
     "output_type": "display_data"
    },
    {
     "data": {
      "text/markdown": [
       "## Failed papers"
      ],
      "text/plain": [
       "<IPython.core.display.Markdown object>"
      ]
     },
     "metadata": {},
     "output_type": "display_data"
    },
    {
     "data": {
      "text/markdown": [
       "\n",
       "|||\n",
       "|---:|:---|\n",
       "| [![arXiv](https://img.shields.io/badge/arXiv-arXiv:2305.14895-b31b1b.svg)](https://arxiv.org/abs/arXiv:2305.14895) | **The Lobster Eye Imager for Astronomy Onboard the SATech-01 Satellite**  |\n",
       "|| Z. Ling, et al. -- incl., <mark>X. Zhang</mark> |\n",
       "|*Appeared on*| *2023-05-25*|\n",
       "|*Comments*| *Accepted by RAA*|\n",
       "|**Abstract**| The Lobster Eye Imager for Astronomy (LEIA), a pathfinder of the Wide-field X-ray Telescope of the Einstein Probe (EP) mission, was successfully launched onboard the SATech-01 satellite of the Chinese Academy of Sciences on 27 July 2022. In this paper, we introduce the design and on-ground test results of the LEIA instrument. Using state-of-the-art Micro-Pore Optics (MPO), a wide field-of-view (FoV) of 346 square degrees (18.6 degrees * 18.6 degrees) of the X-ray imager is realized. An optical assembly composed of 36 MPO chips is used to focus incident X-ray photons, and four large-format complementary metal-oxide semiconductor (CMOS) sensors, each of 6 cm * 6 cm, are used as the focal plane detectors. The instrument has an angular resolution of 4 - 8 arcmin (in FWHM) for the central focal spot of the point spread function, and an effective area of 2 - 3 cm2 at 1 keV in essentially all the directions within the field of view. The detection passband is 0.5 - 4 keV in the soft X-rays and the sensitivity is 2 - 3 * 10-11 erg s-1 cm-2 (about 1 mini-Crab) at 1,000 second observation. The total weight of LEIA is 56 kg and the power is 85 W. The satellite, with a design lifetime of 2 years, operates in a Sun-synchronous orbit of 500 km with an orbital period of 95 minutes. LEIA is paving the way for future missions by verifying in flight the technologies of both novel focusing imaging optics and CMOS sensors for X-ray observation, and by optimizing the working setups of the instrumental parameters. In addition, LEIA is able to carry out scientific observations to find new transients and to monitor known sources in the soft X-ray band, albeit limited useful observing time available. |\n",
       "|<p style=\"color:green\"> **ERROR** </p>| <p style=\"color:green\">affiliation error: mpia.affiliation_verifications: 'Heidelberg' keyword not found.</p> |"
      ],
      "text/plain": [
       "<IPython.core.display.Markdown object>"
      ]
     },
     "metadata": {},
     "output_type": "display_data"
    },
    {
     "data": {
      "text/markdown": [
       "\n",
       "|||\n",
       "|---:|:---|\n",
       "| [![arXiv](https://img.shields.io/badge/arXiv-arXiv:2305.14971-b31b1b.svg)](https://arxiv.org/abs/arXiv:2305.14971) | **Complete X-ray census of Mdwarfs in the solar Neighborhood I. GJ 745 AB:  Coronal-hole Stars in the 10 pc Sample**  |\n",
       "|| M. Caramazza, et al. -- incl., <mark>M. Güdel</mark> |\n",
       "|*Appeared on*| *2023-05-25*|\n",
       "|*Comments*| *accepted for publication in Astronomy & Astrophysics (A&A)*|\n",
       "|**Abstract**| We have embarked in a systematic study of the X-ray emission in a volume-limited sample of M dwarf stars, in order to explore the full range of activity levels present in their coronae and, thus, to understand the conditions in their outer atmospheres and their possible impact on the circumstellar environment. We identify in a recent catalog of the Gaia objects within 10 pc from the Sun all the stars with spectral type between M0 and M4, and search systematically for X-ray measurements of this sample. To this end, we use both archival data (from ROSAT, XMM-Newton, and from the ROentgen Survey with an Imaging Telescope Array (eROSITA) onboard the Russian Spektrum-Roentgen-Gamma mission) and our own dedicated XMM-Newton observations. To make inferences on the properties of the M dwarf corona we compare the range of their observed X-ray emission levels to the flux radiated by the Sun from different types of magnetic structures: coronal holes, background corona, active regions and cores of active regions. At the current state of our project, with more than 90\\% of the 10pc M dwarf sample observed in X-rays, only GJ 745 A has no detection. With an upper limit luminosity of log Lx [erg/s] < 25.4 and an X-ray surface flux of log FX,SURF [erg/cm^2/s] < 3.6 GJ 745 A defines the lower boundary of the X-ray emission level of M dwarfs. Together with its companion GJ 745 B, GJ 745 A it is the only star in this volume-complete sample located in the range of FX,SURF that corresponds to the faintest solar coronal structures, the coronal holes. The ultra-low X-ray emission level of GJ 745 B (log Lx [erg/s] = 25.6 and log FX,SURF [erg/cm^2/s] = 3.8) is entirely attributed to flaring activity, indicating that, while its corona is dominated by coronal holes, at least one magnetically active structure is present and determines the total X-ray brightness and the coronal temperature of the star. |\n",
       "|<p style=\"color:green\"> **ERROR** </p>| <p style=\"color:green\">affiliation error: mpia.affiliation_verifications: 'Heidelberg' keyword not found.</p> |"
      ],
      "text/plain": [
       "<IPython.core.display.Markdown object>"
      ]
     },
     "metadata": {},
     "output_type": "display_data"
    },
    {
     "data": {
      "text/markdown": [
       "\n",
       "|||\n",
       "|---:|:---|\n",
       "| [![arXiv](https://img.shields.io/badge/arXiv-arXiv:2305.15308-b31b1b.svg)](https://arxiv.org/abs/arXiv:2305.15308) | **Beyond the disk: EUV coronagraphic observations of the Extreme  Ultraviolet Imager on board Solar Orbiter**  |\n",
       "|| Auchère, et al. -- incl., <mark>Smith</mark>, <mark>Zhang</mark> |\n",
       "|*Appeared on*| *2023-05-25*|\n",
       "|*Comments*| **|\n",
       "|**Abstract**| Most observations of the solar corona beyond 2 Rs consist of broadband visible light imagery from coronagraphs. The associated diagnostics mainly consist of kinematics and derivations of the electron number density. While the measurement of the properties of emission lines can provide crucial additional diagnostics of the coronal plasma (temperatures, velocities, abundances, etc.), these observations are comparatively rare. In visible wavelengths, observations at these heights are limited to total eclipses. In the VUV range, very few additional observations have been achieved since the pioneering results of UVCS. One of the objectives of the Full Sun Imager (FSI) channel of the EUI telescope on board the Solar Orbiter mission has been to provide very wide field-of-view EUV diagnostics of the morphology and dynamics of the solar atmosphere in temperature regimes that are typical of the lower transition region and of the corona. FSI carries out observations in two narrowbands of the EUV spectrum centered on 17.4 nm and 30.4 nm that are dominated, respectively, by lines of Fe IX/X (formed in the corona around 1 MK) and by the resonance line of He II (formed around 80 kK in the lower transition region). Unlike previous EUV imagers, FSI includes a moveable occulting disk that can be inserted in the optical path to reduce the amount of instrumental stray light to a minimum. FSI detects signals at 17.4 nm up to the edge of its FOV (7~Rs), which is about twice further than was previously possible. Comparisons with observations by the LASCO and Metis coronagraphs confirm the presence of morphological similarities and differences between the broadband visible light and EUV emissions, as documented on the basis of prior eclipse and space-based observations. The very-wide-field observations of FSI are paving the way for future dedicated instruments. |\n",
       "|<p style=\"color:green\"> **ERROR** </p>| <p style=\"color:green\">affiliation error: mpia.affiliation_verifications: 'Heidelberg' keyword not found.</p> |"
      ],
      "text/plain": [
       "<IPython.core.display.Markdown object>"
      ]
     },
     "metadata": {},
     "output_type": "display_data"
    }
   ],
   "source": [
    "import datetime\n",
    "today = str(datetime.date.today())\n",
    "logfile = f\"_build/html/logs/log-{today}.md\"\n",
    "\n",
    "\n",
    "with open(logfile, 'w') as logs:\n",
    "    # Success\n",
    "    logs.write(f'# Arxiv on Deck 2: Logs - {today}\\n\\n')\n",
    "    logs.write(\"\"\"* Arxiv had {0:,d} new papers\\n\"\"\".format(len(new_papers)))\n",
    "    logs.write(\"\"\"    * {0:,d} with possible author matches\\n\\n\"\"\".format(len(candidates)))\n",
    "    logs.write(\"## Sucessful papers\\n\\n\")\n",
    "    display(Markdown(\"## Successful papers\"))\n",
    "    success = [k[0] for k in documents]\n",
    "    for candid in candidates:\n",
    "        if candid['identifier'].split(':')[-1] in success:\n",
    "            display(candid)\n",
    "            logs.write(candid.generate_markdown_text() + '\\n\\n')\n",
    "\n",
    "    ## failed\n",
    "    logs.write(\"## Failed papers\\n\\n\")\n",
    "    display(Markdown(\"## Failed papers\"))\n",
    "    failed = sorted(failed, key=lambda x: x[1])\n",
    "    current_reason = \"\"\n",
    "    for paper, reason in failed:\n",
    "        if 'affiliation' in reason:\n",
    "            color = 'green'\n",
    "        else:\n",
    "            color = 'red'\n",
    "        data = Markdown(\n",
    "                paper.generate_markdown_text() + \n",
    "                f'\\n|<p style=\"color:{color:s}\"> **ERROR** </p>| <p style=\"color:{color:s}\">{reason:s}</p> |'\n",
    "               )\n",
    "        if reason != current_reason:\n",
    "            logs.write(f'### {reason:s} \\n\\n')\n",
    "            current_reason = reason\n",
    "        logs.write(data.data + '\\n\\n')\n",
    "        \n",
    "        # only display here the important errors (all in logs)\n",
    "        # if color in ('red',):\n",
    "        display(data)"
   ]
  },
  {
   "cell_type": "markdown",
   "id": "472d20ee",
   "metadata": {
    "papermill": {
     "duration": 0.006308,
     "end_time": "2023-05-25T04:06:45.953356",
     "exception": false,
     "start_time": "2023-05-25T04:06:45.947048",
     "status": "completed"
    },
    "tags": []
   },
   "source": [
    "## Export documents\n",
    "\n",
    "We now write the .md files and export relevant images"
   ]
  },
  {
   "cell_type": "code",
   "execution_count": 6,
   "id": "d426aed9",
   "metadata": {
    "execution": {
     "iopub.execute_input": "2023-05-25T04:06:45.968501Z",
     "iopub.status.busy": "2023-05-25T04:06:45.967473Z",
     "iopub.status.idle": "2023-05-25T04:06:45.982669Z",
     "shell.execute_reply": "2023-05-25T04:06:45.976113Z"
    },
    "papermill": {
     "duration": 0.025463,
     "end_time": "2023-05-25T04:06:45.985161",
     "exception": false,
     "start_time": "2023-05-25T04:06:45.959698",
     "status": "completed"
    },
    "tags": []
   },
   "outputs": [],
   "source": [
    "def export_markdown_summary(md: str, md_fname:str, directory: str):\n",
    "    \"\"\"Export MD document and associated relevant images\"\"\"\n",
    "    import os\n",
    "    import shutil\n",
    "    import re\n",
    "\n",
    "    if (os.path.exists(directory) and not os.path.isdir(directory)):\n",
    "        raise RuntimeError(f\"a non-directory file exists with name {directory:s}\")\n",
    "\n",
    "    if (not os.path.exists(directory)):\n",
    "        print(f\"creating directory {directory:s}\")\n",
    "        os.mkdir(directory)\n",
    "\n",
    "    fig_fnames = (re.compile(r'\\[Fig.*\\]\\((.*)\\)').findall(md) + \n",
    "                  re.compile(r'\\<img src=\"([^>\\s]*)\"[^>]*/>').findall(md))\n",
    "    for fname in fig_fnames:\n",
    "        if 'http' in fname:\n",
    "            # No need to copy online figures\n",
    "            continue\n",
    "        destdir = os.path.join(directory, os.path.dirname(fname))\n",
    "        destfname = os.path.join(destdir, os.path.basename(fname))\n",
    "        try:\n",
    "            os.makedirs(destdir)\n",
    "        except FileExistsError:\n",
    "            pass\n",
    "        shutil.copy(fname, destfname)\n",
    "    with open(os.path.join(directory, md_fname), 'w') as fout:\n",
    "        fout.write(md)\n",
    "    print(\"exported in \", os.path.join(directory, md_fname))\n",
    "    [print(\"    + \" + os.path.join(directory,fk)) for fk in fig_fnames]"
   ]
  },
  {
   "cell_type": "code",
   "execution_count": 7,
   "id": "014d04a4",
   "metadata": {
    "execution": {
     "iopub.execute_input": "2023-05-25T04:06:46.002305Z",
     "iopub.status.busy": "2023-05-25T04:06:46.001959Z",
     "iopub.status.idle": "2023-05-25T04:06:46.014186Z",
     "shell.execute_reply": "2023-05-25T04:06:46.013147Z"
    },
    "papermill": {
     "duration": 0.023037,
     "end_time": "2023-05-25T04:06:46.016266",
     "exception": false,
     "start_time": "2023-05-25T04:06:45.993229",
     "status": "completed"
    },
    "tags": []
   },
   "outputs": [
    {
     "name": "stdout",
     "output_type": "stream",
     "text": [
      "exported in  _build/html/2305.14437.md\n",
      "    + _build/html/tmp_2305.14437/./images/inflow_ngc1097_paper.png\n",
      "    + _build/html/tmp_2305.14437/./images/inflow_ngc1097_spl_07.png\n",
      "    + _build/html/tmp_2305.14437/./images/rgb_anno_v3.png\n"
     ]
    }
   ],
   "source": [
    "for paper_id, md in documents:\n",
    "    export_markdown_summary(md, f\"{paper_id:s}.md\", '_build/html/')"
   ]
  },
  {
   "cell_type": "markdown",
   "id": "f087a0a7",
   "metadata": {
    "papermill": {
     "duration": 0.006683,
     "end_time": "2023-05-25T04:06:46.029933",
     "exception": false,
     "start_time": "2023-05-25T04:06:46.023250",
     "status": "completed"
    },
    "tags": []
   },
   "source": [
    "## Display the papers\n",
    "\n",
    "Not necessary but allows for a quick check."
   ]
  },
  {
   "cell_type": "code",
   "execution_count": 8,
   "id": "fd25f625",
   "metadata": {
    "execution": {
     "iopub.execute_input": "2023-05-25T04:06:46.044912Z",
     "iopub.status.busy": "2023-05-25T04:06:46.044388Z",
     "iopub.status.idle": "2023-05-25T04:06:46.051067Z",
     "shell.execute_reply": "2023-05-25T04:06:46.050156Z"
    },
    "papermill": {
     "duration": 0.016617,
     "end_time": "2023-05-25T04:06:46.053042",
     "exception": false,
     "start_time": "2023-05-25T04:06:46.036425",
     "status": "completed"
    },
    "scrolled": false,
    "tags": []
   },
   "outputs": [
    {
     "data": {
      "text/markdown": [
       "<div class=\"macros\" style=\"visibility:hidden;\">\n",
       "$\\newcommand{\\ensuremath}{}$\n",
       "$\\newcommand{\\xspace}{}$\n",
       "$\\newcommand{\\object}[1]{\\texttt{#1}}$\n",
       "$\\newcommand{\\farcs}{{.}''}$\n",
       "$\\newcommand{\\farcm}{{.}'}$\n",
       "$\\newcommand{\\arcsec}{''}$\n",
       "$\\newcommand{\\arcmin}{'}$\n",
       "$\\newcommand{\\ion}[2]{#1#2}$\n",
       "$\\newcommand{\\textsc}[1]{\\textrm{#1}}$\n",
       "$\\newcommand{\\hl}[1]{\\textrm{#1}}$\n",
       "$\\newcommand{\\footnote}[1]{}$\n",
       "$\\newcommand{\\di}{\\mathrm{d}}$\n",
       "$\\newcommand{\\bfx}{\\mathbf{x}}$\n",
       "$\\newcommand{\\bfe}{\\mathbf{e}}$\n",
       "$\\newcommand{\\vlos}{{v}_{\\rm los}}$\n",
       "$\\newcommand{\\NSD}{\\mathrm{NSD}}$\n",
       "$\\newcommand{\\BAR}{\\mathrm{BAR}}$\n",
       "$\\newcommand{\\Tspin}{T_{\\rm s}}$\n",
       "$\\newcommand{\\Tb}{T_{\\rm b}}$\n",
       "$\\newcommand{◦ee}{\\ensuremath{^\\circ}}$\n",
       "$\\newcommand{\\Th}{T_{\\rm h}}$\n",
       "$\\newcommand{\\Tc}{T_{\\rm c}}$\n",
       "$\\newcommand{\\bfr}{\\mathbf{r}}$\n",
       "$\\newcommand{\\bfv}{\\mathbf{v}}$\n",
       "$\\newcommand{\\bfJ}{\\mathbf{J}}$\n",
       "$\\newcommand{\\pc}{ {\\rm pc}}$\n",
       "$\\newcommand{\\kpc}{ {\\rm kpc}}$\n",
       "$\\newcommand{\\Myr}{ {\\rm Myr}}$\n",
       "$\\newcommand{\\Gyr}{ {\\rm Gyr}}$\n",
       "$\\newcommand{\\kms}{ {\\rm km  s^{-1}}}$\n",
       "$\\newcommand{\\de}[2]{\\frac{\\partial #1}{\\partial{#2}}}$\n",
       "$\\newcommand{\\cs}{c_{\\rm s}}$\n",
       "$\\newcommand{\\rb}{r_{\\rm b}}$\n",
       "$\\newcommand{\\rqu}{r_{\\rm q}}$\n",
       "$\\newcommand{\\nuP}{\\nu_{\\rm P}}$\n",
       "$\\newcommand{\\thetaobs}{\\theta_{\\rm obs}}$\n",
       "$\\newcommand{\\hatn}{\\hat{\\textbf{n}}}$\n",
       "$\\newcommand{\\hats}{\\hat{\\textbf{s}}}$\n",
       "$\\newcommand{\\hatx}{\\hat{\\textbf{x}}}$\n",
       "$\\newcommand{\\haty}{\\hat{\\textbf{y}}}$\n",
       "$\\newcommand{\\hatz}{\\hat{\\textbf{z}}}$\n",
       "$\\newcommand{\\hatX}{\\hat{\\textbf{X}}}$\n",
       "$\\newcommand{\\hatY}{\\hat{\\textbf{Y}}}$\n",
       "$\\newcommand{\\hatZ}{\\hat{\\textbf{Z}}}$\n",
       "$\\newcommand{\\hatN}{\\hat{\\textbf{N}}}$\n",
       "$\\newcommand{\\pa}{\\partial}$\n",
       "$\\newcommand{\\e}{\\mathrm{e}}$\n",
       "$\\newcommand{\\Msun}{  \\rm M_\\odot}$\n",
       "$\\newcommand{\\Msunyr}{  \\rm M_\\odot  yr^{-1}}$\n",
       "$\\newcommand{\\masyr}{  \\rm mas  yr^{-1}}$\n",
       "$\\newcommand{\\Omegap}{\\Omega_{\\rm p}}$\n",
       "$\\newcommand{\\mcs}[1]{{\\textcolor{myblue}{#1}}}$\n",
       "$\\newcommand{\\aifa}{Argelander-Institut für Astronomie, Universität Bonn, Auf dem Hügel 71, 53121, Bonn, Germany}$\n",
       "$\\newcommand{\\ita}{Universität Heidelberg, Zentrum für Astronomie, Institut für theoretische Astrophysik, Albert-Ueberle-Str. 2, 69120 Heidelberg, Germany}$\n",
       "$\\newcommand{\\eso}{European Southern Observatory, Karl-Schwarzschild-Stra{\\ss}e 2, 85748 Garching, Germany}$\n",
       "$\\newcommand{\\mcmaster}{Department of Physics and Astronomy, McMaster University, 1280 Main Street West, Hamilton, ON L8S 4M1, Canada}$\n",
       "$\\newcommand{\\cita}{Canadian Institute for Theoretical Astrophysics (CITA), University of Toronto, 60 St George Street, Toronto, ON M5S 3H8, Canada}$\n",
       "$\\newcommand{\\lyon}{Univ Lyon, Univ Lyon1, ENS de Lyon, CNRS, Centre de Recherche Astrophysique de Lyon UMR5574, F-69230 Saint-Genis-Laval France}$\n",
       "$\\newcommand{\\OSU}{Department of Astronomy, The Ohio State University, 140 West 18th Avenue, Columbus, Ohio 43210, USA}$\n",
       "$\\newcommand{ÇAPP}{Center for Cosmology and Astroparticle Physics, 191 West Woodruff Avenue, Columbus, OH 43210, USA}$\n",
       "$\\newcommand{\\ljmu}{Astrophysics Research Institute, Liverpool John Moores University, 146 Brownlow Hill, Liverpool L3 5RF, UK}$\n",
       "$\\newcommand{\\mpia}{Max-Planck-Institut für Astronomie, Königstuhl 17, D-69117 Heidelberg, Germany}$\n",
       "$\\newcommand{\\ugent}{Sterrenkundig Observatorium, Universiteit Gent, Krijgslaan 281 S9,$\n",
       "$B-9000 Gent, Belgium}$\n",
       "$\\newcommand{\\ign}{Observatorio Astron{ó}mico Nacional (IGN), C/Alfonso XII, 3, E-$\n",
       "$28014 Madrid, Spain}$\n",
       "$\\newcommand{\\oxford}{Sub-department of Astrophysics, Department of Physics, University of Oxford, Keble Road, Oxford OX1 3RH, UK}$\n",
       "$\\newcommand{\\durham}{Institute for Computational Cosmology, Department of Physics, Durham University, South Road, Durham, DH1 3LE, UK}$\n",
       "$\\newcommand{\\aapf}{NSF Astronomy and Astrophysics Postdoctoral Fellow}$\n",
       "$\\newcommand{\\arizona}{Steward Observatory, University of Arizona, Tucson, AZ 85721, USA}$\n",
       "$\\newcommand{\\anu}{Research School of Astronomy and Astrophysics, Australian National University, Canberra, ACT 2611, Australia}$\n",
       "$\\newcommand{\\arc}{ARC Centre of Excellence for All Sky Astrophysics in 3 Dimensions (ASTRO 3D), Australia}$\n",
       "$\\newcommand{\\iwr}{Universität Heidelberg, Interdisziplinäres Zentrum für Wissenschaftliches Rechnen, Im Neuenheimer Feld 205, D-69120 Heidelberg, Germany}$\n",
       "$\\newcommand{\\epfl}{Institute of Physics, Laboratory for galaxy evolution and spectral modelling, EPFL, Observatoire de Sauverny, Chemin Pegais 51, 1290 Versoix, Switzerland}$\n",
       "$\\newcommand{\\ualberta}{Dept. of Physics, 4-183 CCIS, University of Alberta, Edmonton, Alberta T6G 2E1, Canada}$\n",
       "$\\newcommand{\\tum}{Technical University of Munich, School of Engineering and Design, Department of Aerospace and Geodesy, Chair of Remote Sensing Technology, \\\\\\hspace{2.2mm}Arcisstr. 21, 80333 Munich, Germany}$\n",
       "$\\newcommand{\\cool}{Cosmic Origins Of Life (COOL) Research DAO, coolresearch.io}$\n",
       "$\\newcommand{\\manch}{Jodrell Bank Centre for Astrophysics, Department of Physics and Astronomy, University of Manchester, Oxford Road, Manchester M13 9PL, UK}$\n",
       "$\\newcommand{\\UCSD}{Center for Astrophysics and Space Sciences, Department of Physics, University of California San Diego, 9500 Gilman Drive, La Jolla, CA 92093, USA}$\n",
       "$\\newcommand{\\ari}{Astronomisches Rechen-Institut, Zentrum f{ü}r Astronomie der Universit{ä}t Heidelberg, M{ö}nchhofstra{\\ss}e 12-14, 69120 Heidelberg,Germany}$\n",
       "$\\newcommand{\\CO}[2]{\\mbox{\\mathrm{CO} (#1\\text{--}#2)}}$\n",
       "$\\newcommand{\\thebibliography}{\\DeclareRobustCommand{\\VAN}[3]{##3}\\VANthebibliography}$</div>\n",
       "\n",
       "\n",
       "\n",
       "<div id=\"title\">\n",
       "\n",
       "# Fuelling the nuclear ring of NGC 1097\n",
       "\n",
       "</div>\n",
       "<div id=\"comments\">\n",
       "\n",
       "[![arXiv](https://img.shields.io/badge/arXiv-2305.14437-b31b1b.svg)](https://arxiv.org/abs/2305.14437)<mark>Appeared on: 2023-05-25</mark> -  _Accepted in MNRAS_\n",
       "\n",
       "</div>\n",
       "<div id=\"authors\">\n",
       "\n",
       "M. C. Sormani, et al. -- incl., <mark>E. Schinnerer</mark>, <mark>J. Neumann</mark>, <mark>N. Neumayer</mark>, <mark>F. Pinna</mark>\n",
       "\n",
       "</div>\n",
       "<div id=\"abstract\">\n",
       "\n",
       "**Abstract:** Galactic bars can drive cold gas inflows towards the centres of galaxies. The gas transport happens primarily through the so-called bar \"dust lanes\", which connect the galactic disc at kpc scales to the nuclear rings at hundreds of pc scales much like two gigantic galactic rivers. Once in the ring, the gas can fuel star formation activity, galactic outflows, and central supermassive black holes. Measuring the mass inflow rates is therefore important to understanding the mass/energy budget and evolution of galactic nuclei.  In this work, we use CO datacubes from the PHANGS-ALMA survey and a simple geometrical method to measure the bar-driven mass inflow rate onto the nuclear ring of the barred galaxy NGC 1097. The method assumes that the gas velocity in the bar lanes is parallel to the lanes in the frame co-rotating with the bar, and allows one to derive the inflow rates from sufficiently sensitive and resolved position-position-velocity diagrams if the bar pattern speed and galaxy orientations are known. We find an inflow rate of $\\dot{M}=(3.0 \\pm 2.1)\\Msunyr$ averaged over a time span of 40 Myr, which varies by a factor of a few over timescales of $\\sim$ 10 Myr. Most of the inflow appears to be consumed by star formation in the ring which is currently occurring at a rate of ${\\rm SFR}\\simeq 1.8 \\mhyphen 2 \\Msunyr$ , suggesting that the inflow is causally controlling the star formation rate in the ring as a function of time.\n",
       "\n",
       "</div>\n",
       "\n",
       "<div id=\"div_fig1\">\n",
       "\n",
       "<img src=\"tmp_2305.14437/./images/inflow_ngc1097_paper.png\" alt=\"Fig7\" width=\"100%\"/>\n",
       "\n",
       "**Figure 7. -** Position-position (top) and position-velocity (bottom) projection of the CO $J=2-1$ datacube of NGC 1097. The galaxy is rotated in the plane of the sky such that the direction of the kinematic position angle points towards the negative $x$ axis (see black dashed line in the top panels). Red and blue contours indicate the emission in the datacube associated with the bar bar lanes. The red and blue lines indicate the spline fits to the bar lanes. The black dashed line in the bottom-right panel indicates the quantity $v_{\\rm los}=\\Omega_{\\rm p} x \\sin i$ which appears in the deprojection of the velocity parallel to the bar lanes (see Equation \\ref{eq:vpar}). (*fig:dl*)\n",
       "\n",
       "</div>\n",
       "<div id=\"div_fig2\">\n",
       "\n",
       "<img src=\"tmp_2305.14437/./images/inflow_ngc1097_spl_07.png\" alt=\"Fig5\" width=\"100%\"/>\n",
       "\n",
       "**Figure 5. -** *Top*: the instantaneous mass inflow rate along the bar lanes of NGC 1097 calculated using Eq. $\\e$qref{eq:Mdot}. The blue and red dashed lines show the inflow rates averaged over the non-hatched region. *Bottom*: the cumulative mass accreted over time. The hatched area shows where the inflow rate is not reliable due to interaction between the bar lanes and the nuclear ring. (*fig:Mdot*)\n",
       "\n",
       "</div>\n",
       "<div id=\"div_fig3\">\n",
       "\n",
       "<img src=\"tmp_2305.14437/./images/rgb_anno_v3.png\" alt=\"Fig1\" width=\"100%\"/>\n",
       "\n",
       "**Figure 1. -** Position of bar dust lanes in the nearby, barred spiral galaxy NGC 1097. We show in the background a (WFC3) _ HST_ image composed of the following filters from projects PID 13413 and 15654 (processed as part of PHANGS-HST; see \\citealp{Lee2021}): F275W nm (UV) and F336W (u) broad-band in violet, F438W (B) broad-band in dark blue, F547M (Strömgren y) medium-band in cyan, F555W broad-band (V) in green, F814W broad-band (I) in yellow, and F657N (H$\\alpha$ + [N II]) in red. Overlaid as coloured contours is the CO(2-1) integrated intensity from the PHANGS-ALMA survey \\citep{Leroy2021survey}, in levels of 2, 10, 20, 50, 75, 100, 250 K km s$^{-1}$(increasing from blue to red). Note that the galaxy is rotated in the plane of the sky such that the direction of the kinematic position angle points towards the negative $x$ axis (see Fig. \\ref{fig:dl}). (*fig:rgb*)\n",
       "\n",
       "</div><div id=\"qrcode\"><img src=https://api.qrserver.com/v1/create-qr-code/?size=100x100&data=\"https://arxiv.org/abs/2305.14437\"></div>"
      ],
      "text/plain": [
       "<IPython.core.display.Markdown object>"
      ]
     },
     "metadata": {},
     "output_type": "display_data"
    }
   ],
   "source": [
    "[display(Markdown(k[1])) for k in documents];"
   ]
  },
  {
   "cell_type": "markdown",
   "id": "873873a4",
   "metadata": {
    "papermill": {
     "duration": 0.007908,
     "end_time": "2023-05-25T04:06:46.068739",
     "exception": false,
     "start_time": "2023-05-25T04:06:46.060831",
     "status": "completed"
    },
    "tags": []
   },
   "source": [
    "# Create HTML index"
   ]
  },
  {
   "cell_type": "code",
   "execution_count": 9,
   "id": "cf665672",
   "metadata": {
    "execution": {
     "iopub.execute_input": "2023-05-25T04:06:46.085957Z",
     "iopub.status.busy": "2023-05-25T04:06:46.085269Z",
     "iopub.status.idle": "2023-05-25T04:06:46.097751Z",
     "shell.execute_reply": "2023-05-25T04:06:46.096559Z"
    },
    "papermill": {
     "duration": 0.023258,
     "end_time": "2023-05-25T04:06:46.099839",
     "exception": false,
     "start_time": "2023-05-25T04:06:46.076581",
     "status": "completed"
    },
    "tags": []
   },
   "outputs": [
    {
     "name": "stdout",
     "output_type": "stream",
     "text": [
      "210  publications files modified in the last 7 days.\n"
     ]
    }
   ],
   "source": [
    "from datetime import datetime, timedelta, timezone\n",
    "from glob import glob\n",
    "import os\n",
    "\n",
    "files = glob('_build/html/*.md')\n",
    "days = 7\n",
    "now = datetime.today()\n",
    "res = []\n",
    "for fk in files:\n",
    "    stat_result = os.stat(fk).st_ctime\n",
    "    modified = datetime.fromtimestamp(stat_result, tz=timezone.utc).replace(tzinfo=None)\n",
    "    delta = now.today() - modified\n",
    "    if delta <= timedelta(days=days):\n",
    "        res.append((delta.seconds, fk))\n",
    "res = [k[1] for k in reversed(sorted(res, key=lambda x:x[1]))]\n",
    "npub = len(res)\n",
    "print(len(res), f\" publications files modified in the last {days:d} days.\")\n",
    "# [ print('\\t', k) for k in res ];"
   ]
  },
  {
   "cell_type": "code",
   "execution_count": 10,
   "id": "015de740",
   "metadata": {
    "execution": {
     "iopub.execute_input": "2023-05-25T04:06:46.116403Z",
     "iopub.status.busy": "2023-05-25T04:06:46.115845Z",
     "iopub.status.idle": "2023-05-25T04:06:46.140591Z",
     "shell.execute_reply": "2023-05-25T04:06:46.139611Z"
    },
    "papermill": {
     "duration": 0.035615,
     "end_time": "2023-05-25T04:06:46.143054",
     "exception": false,
     "start_time": "2023-05-25T04:06:46.107439",
     "status": "completed"
    },
    "tags": []
   },
   "outputs": [
    {
     "name": "stdout",
     "output_type": "stream",
     "text": [
      "3  publications in the last 7 days.\n"
     ]
    }
   ],
   "source": [
    "import datetime\n",
    "from glob import glob\n",
    "\n",
    "def get_last_n_days(lst, days=1):\n",
    "    \"\"\" Get the documents from the last n days \"\"\"\n",
    "    sorted_lst = sorted(lst, key=lambda x: x[1], reverse=True)\n",
    "    for fname, date in sorted_lst:\n",
    "        if date >= str(datetime.date.today() - datetime.timedelta(days=days)):\n",
    "            yield fname\n",
    "\n",
    "def extract_appearance_dates(lst_file):\n",
    "    dates = []\n",
    "\n",
    "    def get_date(line):\n",
    "        return line\\\n",
    "            .split('Appeared on:')[-1]\\\n",
    "            .split('</mark>')[0].strip()\n",
    "\n",
    "    for fname in lst:\n",
    "        with open(fname, 'r') as f:\n",
    "            found_date = False\n",
    "            for line in f:\n",
    "                if not found_date:\n",
    "                    if \"Appeared on\" in line:\n",
    "                        found_date = True\n",
    "                        dates.append((fname, get_date(line)))\n",
    "                else:\n",
    "                    break\n",
    "    return dates\n",
    "\n",
    "from glob import glob\n",
    "lst = glob('_build/html/*md')\n",
    "days = 7\n",
    "dates = extract_appearance_dates(lst)\n",
    "res = list(get_last_n_days(dates, days))\n",
    "npub = len(res)\n",
    "print(len(res), f\" publications in the last {days:d} days.\")"
   ]
  },
  {
   "cell_type": "code",
   "execution_count": 11,
   "id": "52ca0208",
   "metadata": {
    "execution": {
     "iopub.execute_input": "2023-05-25T04:06:46.160720Z",
     "iopub.status.busy": "2023-05-25T04:06:46.160034Z",
     "iopub.status.idle": "2023-05-25T04:06:46.167412Z",
     "shell.execute_reply": "2023-05-25T04:06:46.166531Z"
    },
    "papermill": {
     "duration": 0.018974,
     "end_time": "2023-05-25T04:06:46.169565",
     "exception": false,
     "start_time": "2023-05-25T04:06:46.150591",
     "status": "completed"
    },
    "scrolled": false,
    "tags": []
   },
   "outputs": [],
   "source": [
    "def create_carousel(npub=4):\n",
    "    \"\"\" Generate the HTML code for a carousel with `npub` slides \"\"\"\n",
    "    carousel = [\"\"\"  <div class=\"carousel\" \"\"\",\n",
    "                \"\"\"       data-flickity='{ \"autoPlay\": 10000, \"adaptiveHeight\": true, \"resize\": true, \"wrapAround\": true, \"pauseAutoPlayOnHover\": true, \"groupCells\": 1 }' id=\"asyncTypeset\">\"\"\"\n",
    "                ]\n",
    "    \n",
    "    item_str = \"\"\"    <div class=\"carousel-cell\"> <div id=\"slide{k}\" class=\"md_view\">Content {k}</div> </div>\"\"\"\n",
    "    for k in range(1, npub + 1):\n",
    "        carousel.append(item_str.format(k=k))\n",
    "    carousel.append(\"  </div>\")\n",
    "    return '\\n'.join(carousel)\n",
    "\n",
    "def create_grid(npub=4):\n",
    "    \"\"\" Generate the HTML code for a flat grid with `npub` slides \"\"\"\n",
    "    grid = [\"\"\"  <div class=\"grid\"> \"\"\",\n",
    "                ]\n",
    "    \n",
    "    item_str = \"\"\"    <div class=\"grid-item\"> <div id=\"slide{k}\" class=\"md_view\">Content {k}</div> </div>\"\"\"\n",
    "    for k in range(1, npub + 1):\n",
    "        grid.append(item_str.format(k=k))\n",
    "    grid.append(\"  </div>\")\n",
    "    return '\\n'.join(grid)"
   ]
  },
  {
   "cell_type": "code",
   "execution_count": 12,
   "id": "a6eac5b6",
   "metadata": {
    "execution": {
     "iopub.execute_input": "2023-05-25T04:06:46.186252Z",
     "iopub.status.busy": "2023-05-25T04:06:46.185716Z",
     "iopub.status.idle": "2023-05-25T04:06:46.192954Z",
     "shell.execute_reply": "2023-05-25T04:06:46.192005Z"
    },
    "papermill": {
     "duration": 0.018314,
     "end_time": "2023-05-25T04:06:46.195094",
     "exception": false,
     "start_time": "2023-05-25T04:06:46.176780",
     "status": "completed"
    },
    "scrolled": false,
    "tags": []
   },
   "outputs": [],
   "source": [
    "carousel = create_carousel(npub)\n",
    "docs = ', '.join(['\"{0:s}\"'.format(k.split('/')[-1]) for k in res])\n",
    "slides = ', '.join([f'\"slide{k}\"' for k in range(1, npub + 1)])\n",
    "\n",
    "with open(\"daily_template.html\", \"r\") as tpl:\n",
    "    page = tpl.read()\n",
    "    page = page.replace(\"{%-- carousel:s --%}\", carousel)\\\n",
    "               .replace(\"{%-- suptitle:s --%}\",  \"7-day archives\" )\\\n",
    "               .replace(\"{%-- docs:s --%}\", docs)\\\n",
    "               .replace(\"{%-- slides:s --%}\", slides)\n",
    "    \n",
    "with open(\"_build/html/index_7days.html\", 'w') as fout:\n",
    "    fout.write(page)"
   ]
  },
  {
   "cell_type": "code",
   "execution_count": 13,
   "id": "adc1a1ec",
   "metadata": {
    "execution": {
     "iopub.execute_input": "2023-05-25T04:06:46.211751Z",
     "iopub.status.busy": "2023-05-25T04:06:46.211216Z",
     "iopub.status.idle": "2023-05-25T04:06:46.220601Z",
     "shell.execute_reply": "2023-05-25T04:06:46.219761Z"
    },
    "papermill": {
     "duration": 0.020109,
     "end_time": "2023-05-25T04:06:46.222658",
     "exception": false,
     "start_time": "2023-05-25T04:06:46.202549",
     "status": "completed"
    },
    "tags": []
   },
   "outputs": [
    {
     "name": "stdout",
     "output_type": "stream",
     "text": [
      "1  publications in the last day.\n"
     ]
    }
   ],
   "source": [
    "# redo for today\n",
    "days = 1\n",
    "res = list(get_last_n_days(dates, days))\n",
    "npub = len(res)\n",
    "print(len(res), f\" publications in the last day.\")\n",
    "\n",
    "carousel = create_carousel(npub)\n",
    "docs = ', '.join(['\"{0:s}\"'.format(k.split('/')[-1]) for k in res])\n",
    "slides = ', '.join([f'\"slide{k}\"' for k in range(1, npub + 1)])\n",
    "\n",
    "with open(\"daily_template.html\", \"r\") as tpl:\n",
    "    page = tpl.read()\n",
    "    page = page.replace(\"{%-- carousel:s --%}\", carousel)\\\n",
    "               .replace(\"{%-- suptitle:s --%}\",  \"Daily\" )\\\n",
    "               .replace(\"{%-- docs:s --%}\", docs)\\\n",
    "               .replace(\"{%-- slides:s --%}\", slides)\n",
    "    \n",
    "# print(carousel, docs, slides)\n",
    "# print(page)\n",
    "with open(\"_build/html/index_daily.html\", 'w') as fout:\n",
    "    fout.write(page)"
   ]
  },
  {
   "cell_type": "code",
   "execution_count": 14,
   "id": "00eece82",
   "metadata": {
    "execution": {
     "iopub.execute_input": "2023-05-25T04:06:46.241142Z",
     "iopub.status.busy": "2023-05-25T04:06:46.240094Z",
     "iopub.status.idle": "2023-05-25T04:06:46.250372Z",
     "shell.execute_reply": "2023-05-25T04:06:46.249270Z"
    },
    "papermill": {
     "duration": 0.02216,
     "end_time": "2023-05-25T04:06:46.252665",
     "exception": false,
     "start_time": "2023-05-25T04:06:46.230505",
     "status": "completed"
    },
    "scrolled": false,
    "tags": []
   },
   "outputs": [
    {
     "name": "stdout",
     "output_type": "stream",
     "text": [
      "6  6 publications selected.\n"
     ]
    }
   ],
   "source": [
    "# Create the flat grid of the last N papers (fixed number regardless of dates)\n",
    "from itertools import islice \n",
    "\n",
    "npub = 6\n",
    "res = [k[0] for k in (islice(reversed(sorted(dates, key=lambda x: x[1])), 6))]\n",
    "print(len(res), f\" {npub} publications selected.\")\n",
    "\n",
    "grid = create_grid(npub)\n",
    "docs = ', '.join(['\"{0:s}\"'.format(k.split('/')[-1]) for k in res])\n",
    "slides = ', '.join([f'\"slide{k}\"' for k in range(1, npub + 1)])\n",
    "\n",
    "with open(\"grid_template.html\", \"r\") as tpl:\n",
    "    page = tpl.read()\n",
    "    page = page.replace(\"{%-- grid-content:s --%}\", grid)\\\n",
    "               .replace(\"{%-- suptitle:s --%}\",  f\"Last {npub:,d} papers\" )\\\n",
    "               .replace(\"{%-- docs:s --%}\", docs)\\\n",
    "               .replace(\"{%-- slides:s --%}\", slides)\n",
    "    \n",
    "# print(grid, docs, slides)\n",
    "# print(page)\n",
    "with open(\"_build/html/index_npub_grid.html\", 'w') as fout:\n",
    "    fout.write(page)"
   ]
  }
 ],
 "metadata": {
  "kernelspec": {
   "display_name": "Python 3 (ipykernel)",
   "language": "python",
   "name": "python3"
  },
  "language_info": {
   "codemirror_mode": {
    "name": "ipython",
    "version": 3
   },
   "file_extension": ".py",
   "mimetype": "text/x-python",
   "name": "python",
   "nbconvert_exporter": "python",
   "pygments_lexer": "ipython3",
   "version": "3.9.16"
  },
  "papermill": {
   "default_parameters": {},
   "duration": 77.781095,
   "end_time": "2023-05-25T04:06:46.580134",
   "environment_variables": {},
   "exception": null,
   "input_path": "MPIA daily digest.ipynb",
   "output_path": "log.ipynb",
   "parameters": {},
   "start_time": "2023-05-25T04:05:28.799039",
   "version": "2.4.0"
  },
  "vscode": {
   "interpreter": {
    "hash": "aee8b7b246df8f9039afb4144a1f6fd8d2ca17a180786b69acc140d282b71a49"
   }
  },
  "widgets": {
   "application/vnd.jupyter.widget-state+json": {
    "state": {
     "2e9eab2d10384a5b8f5effb427f649e1": {
      "model_module": "@jupyter-widgets/controls",
      "model_module_version": "2.0.0",
      "model_name": "HTMLModel",
      "state": {
       "_dom_classes": [],
       "_model_module": "@jupyter-widgets/controls",
       "_model_module_version": "2.0.0",
       "_model_name": "HTMLModel",
       "_view_count": null,
       "_view_module": "@jupyter-widgets/controls",
       "_view_module_version": "2.0.0",
       "_view_name": "HTMLView",
       "description": "",
       "description_allow_html": false,
       "layout": "IPY_MODEL_374eb37e010e4c0f92d9dcbfc018bbc1",
       "placeholder": "​",
       "style": "IPY_MODEL_eacb59bf23734ae9a8d8734ff3e891ac",
       "tabbable": null,
       "tooltip": null,
       "value": " 4/4 [00:48&lt;00:00, 12.37s/it]"
      }
     },
     "374eb37e010e4c0f92d9dcbfc018bbc1": {
      "model_module": "@jupyter-widgets/base",
      "model_module_version": "2.0.0",
      "model_name": "LayoutModel",
      "state": {
       "_model_module": "@jupyter-widgets/base",
       "_model_module_version": "2.0.0",
       "_model_name": "LayoutModel",
       "_view_count": null,
       "_view_module": "@jupyter-widgets/base",
       "_view_module_version": "2.0.0",
       "_view_name": "LayoutView",
       "align_content": null,
       "align_items": null,
       "align_self": null,
       "border_bottom": null,
       "border_left": null,
       "border_right": null,
       "border_top": null,
       "bottom": null,
       "display": null,
       "flex": null,
       "flex_flow": null,
       "grid_area": null,
       "grid_auto_columns": null,
       "grid_auto_flow": null,
       "grid_auto_rows": null,
       "grid_column": null,
       "grid_gap": null,
       "grid_row": null,
       "grid_template_areas": null,
       "grid_template_columns": null,
       "grid_template_rows": null,
       "height": null,
       "justify_content": null,
       "justify_items": null,
       "left": null,
       "margin": null,
       "max_height": null,
       "max_width": null,
       "min_height": null,
       "min_width": null,
       "object_fit": null,
       "object_position": null,
       "order": null,
       "overflow": null,
       "padding": null,
       "right": null,
       "top": null,
       "visibility": null,
       "width": null
      }
     },
     "5b59bb0cd2c340cbbb6beaabe2d7575a": {
      "model_module": "@jupyter-widgets/controls",
      "model_module_version": "2.0.0",
      "model_name": "ProgressStyleModel",
      "state": {
       "_model_module": "@jupyter-widgets/controls",
       "_model_module_version": "2.0.0",
       "_model_name": "ProgressStyleModel",
       "_view_count": null,
       "_view_module": "@jupyter-widgets/base",
       "_view_module_version": "2.0.0",
       "_view_name": "StyleView",
       "bar_color": null,
       "description_width": ""
      }
     },
     "7438f0474da047c2a6a4fc79f6a7e055": {
      "model_module": "@jupyter-widgets/controls",
      "model_module_version": "2.0.0",
      "model_name": "HTMLStyleModel",
      "state": {
       "_model_module": "@jupyter-widgets/controls",
       "_model_module_version": "2.0.0",
       "_model_name": "HTMLStyleModel",
       "_view_count": null,
       "_view_module": "@jupyter-widgets/base",
       "_view_module_version": "2.0.0",
       "_view_name": "StyleView",
       "background": null,
       "description_width": "",
       "font_size": null,
       "text_color": null
      }
     },
     "8fad4b0df49e4322bb50eacd62aef539": {
      "model_module": "@jupyter-widgets/base",
      "model_module_version": "2.0.0",
      "model_name": "LayoutModel",
      "state": {
       "_model_module": "@jupyter-widgets/base",
       "_model_module_version": "2.0.0",
       "_model_name": "LayoutModel",
       "_view_count": null,
       "_view_module": "@jupyter-widgets/base",
       "_view_module_version": "2.0.0",
       "_view_name": "LayoutView",
       "align_content": null,
       "align_items": null,
       "align_self": null,
       "border_bottom": null,
       "border_left": null,
       "border_right": null,
       "border_top": null,
       "bottom": null,
       "display": null,
       "flex": null,
       "flex_flow": null,
       "grid_area": null,
       "grid_auto_columns": null,
       "grid_auto_flow": null,
       "grid_auto_rows": null,
       "grid_column": null,
       "grid_gap": null,
       "grid_row": null,
       "grid_template_areas": null,
       "grid_template_columns": null,
       "grid_template_rows": null,
       "height": null,
       "justify_content": null,
       "justify_items": null,
       "left": null,
       "margin": null,
       "max_height": null,
       "max_width": null,
       "min_height": null,
       "min_width": null,
       "object_fit": null,
       "object_position": null,
       "order": null,
       "overflow": null,
       "padding": null,
       "right": null,
       "top": null,
       "visibility": null,
       "width": null
      }
     },
     "a73e99deb3c54647b11738b16817b23e": {
      "model_module": "@jupyter-widgets/controls",
      "model_module_version": "2.0.0",
      "model_name": "FloatProgressModel",
      "state": {
       "_dom_classes": [],
       "_model_module": "@jupyter-widgets/controls",
       "_model_module_version": "2.0.0",
       "_model_name": "FloatProgressModel",
       "_view_count": null,
       "_view_module": "@jupyter-widgets/controls",
       "_view_module_version": "2.0.0",
       "_view_name": "ProgressView",
       "bar_style": "success",
       "description": "",
       "description_allow_html": false,
       "layout": "IPY_MODEL_8fad4b0df49e4322bb50eacd62aef539",
       "max": 4.0,
       "min": 0.0,
       "orientation": "horizontal",
       "style": "IPY_MODEL_5b59bb0cd2c340cbbb6beaabe2d7575a",
       "tabbable": null,
       "tooltip": null,
       "value": 4.0
      }
     },
     "b4ac94c93be74a4e920493a7727573f3": {
      "model_module": "@jupyter-widgets/base",
      "model_module_version": "2.0.0",
      "model_name": "LayoutModel",
      "state": {
       "_model_module": "@jupyter-widgets/base",
       "_model_module_version": "2.0.0",
       "_model_name": "LayoutModel",
       "_view_count": null,
       "_view_module": "@jupyter-widgets/base",
       "_view_module_version": "2.0.0",
       "_view_name": "LayoutView",
       "align_content": null,
       "align_items": null,
       "align_self": null,
       "border_bottom": null,
       "border_left": null,
       "border_right": null,
       "border_top": null,
       "bottom": null,
       "display": null,
       "flex": null,
       "flex_flow": null,
       "grid_area": null,
       "grid_auto_columns": null,
       "grid_auto_flow": null,
       "grid_auto_rows": null,
       "grid_column": null,
       "grid_gap": null,
       "grid_row": null,
       "grid_template_areas": null,
       "grid_template_columns": null,
       "grid_template_rows": null,
       "height": null,
       "justify_content": null,
       "justify_items": null,
       "left": null,
       "margin": null,
       "max_height": null,
       "max_width": null,
       "min_height": null,
       "min_width": null,
       "object_fit": null,
       "object_position": null,
       "order": null,
       "overflow": null,
       "padding": null,
       "right": null,
       "top": null,
       "visibility": null,
       "width": null
      }
     },
     "bbe53e0012994799b68160e2d4327a6b": {
      "model_module": "@jupyter-widgets/controls",
      "model_module_version": "2.0.0",
      "model_name": "HTMLModel",
      "state": {
       "_dom_classes": [],
       "_model_module": "@jupyter-widgets/controls",
       "_model_module_version": "2.0.0",
       "_model_name": "HTMLModel",
       "_view_count": null,
       "_view_module": "@jupyter-widgets/controls",
       "_view_module_version": "2.0.0",
       "_view_name": "HTMLView",
       "description": "",
       "description_allow_html": false,
       "layout": "IPY_MODEL_c857b74426274a568068067858d4448d",
       "placeholder": "​",
       "style": "IPY_MODEL_7438f0474da047c2a6a4fc79f6a7e055",
       "tabbable": null,
       "tooltip": null,
       "value": "100%"
      }
     },
     "c857b74426274a568068067858d4448d": {
      "model_module": "@jupyter-widgets/base",
      "model_module_version": "2.0.0",
      "model_name": "LayoutModel",
      "state": {
       "_model_module": "@jupyter-widgets/base",
       "_model_module_version": "2.0.0",
       "_model_name": "LayoutModel",
       "_view_count": null,
       "_view_module": "@jupyter-widgets/base",
       "_view_module_version": "2.0.0",
       "_view_name": "LayoutView",
       "align_content": null,
       "align_items": null,
       "align_self": null,
       "border_bottom": null,
       "border_left": null,
       "border_right": null,
       "border_top": null,
       "bottom": null,
       "display": null,
       "flex": null,
       "flex_flow": null,
       "grid_area": null,
       "grid_auto_columns": null,
       "grid_auto_flow": null,
       "grid_auto_rows": null,
       "grid_column": null,
       "grid_gap": null,
       "grid_row": null,
       "grid_template_areas": null,
       "grid_template_columns": null,
       "grid_template_rows": null,
       "height": null,
       "justify_content": null,
       "justify_items": null,
       "left": null,
       "margin": null,
       "max_height": null,
       "max_width": null,
       "min_height": null,
       "min_width": null,
       "object_fit": null,
       "object_position": null,
       "order": null,
       "overflow": null,
       "padding": null,
       "right": null,
       "top": null,
       "visibility": null,
       "width": null
      }
     },
     "da79453a31164129856539370df830e8": {
      "model_module": "@jupyter-widgets/controls",
      "model_module_version": "2.0.0",
      "model_name": "HBoxModel",
      "state": {
       "_dom_classes": [],
       "_model_module": "@jupyter-widgets/controls",
       "_model_module_version": "2.0.0",
       "_model_name": "HBoxModel",
       "_view_count": null,
       "_view_module": "@jupyter-widgets/controls",
       "_view_module_version": "2.0.0",
       "_view_name": "HBoxView",
       "box_style": "",
       "children": [
        "IPY_MODEL_bbe53e0012994799b68160e2d4327a6b",
        "IPY_MODEL_a73e99deb3c54647b11738b16817b23e",
        "IPY_MODEL_2e9eab2d10384a5b8f5effb427f649e1"
       ],
       "layout": "IPY_MODEL_b4ac94c93be74a4e920493a7727573f3",
       "tabbable": null,
       "tooltip": null
      }
     },
     "eacb59bf23734ae9a8d8734ff3e891ac": {
      "model_module": "@jupyter-widgets/controls",
      "model_module_version": "2.0.0",
      "model_name": "HTMLStyleModel",
      "state": {
       "_model_module": "@jupyter-widgets/controls",
       "_model_module_version": "2.0.0",
       "_model_name": "HTMLStyleModel",
       "_view_count": null,
       "_view_module": "@jupyter-widgets/base",
       "_view_module_version": "2.0.0",
       "_view_name": "StyleView",
       "background": null,
       "description_width": "",
       "font_size": null,
       "text_color": null
      }
     }
    },
    "version_major": 2,
    "version_minor": 0
   }
  }
 },
 "nbformat": 4,
 "nbformat_minor": 5
}