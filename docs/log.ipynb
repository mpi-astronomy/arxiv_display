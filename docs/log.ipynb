{
 "cells": [
  {
   "cell_type": "markdown",
   "id": "92bcb855",
   "metadata": {
    "papermill": {
     "duration": 0.003852,
     "end_time": "2024-10-22T04:10:29.133147",
     "exception": false,
     "start_time": "2024-10-22T04:10:29.129295",
     "status": "completed"
    },
    "tags": []
   },
   "source": [
    "# MPIA Arxiv on Deck 2\n",
    "\n",
    "Contains the steps to produce the paper extractions."
   ]
  },
  {
   "cell_type": "code",
   "execution_count": 1,
   "id": "3a0d6e11",
   "metadata": {
    "execution": {
     "iopub.execute_input": "2024-10-22T04:10:29.140650Z",
     "iopub.status.busy": "2024-10-22T04:10:29.140198Z",
     "iopub.status.idle": "2024-10-22T04:10:29.584531Z",
     "shell.execute_reply": "2024-10-22T04:10:29.583786Z"
    },
    "papermill": {
     "duration": 0.449436,
     "end_time": "2024-10-22T04:10:29.585882",
     "exception": false,
     "start_time": "2024-10-22T04:10:29.136446",
     "status": "completed"
    },
    "tags": []
   },
   "outputs": [],
   "source": [
    "# Imports\n",
    "import os\n",
    "from IPython.display import Markdown, display\n",
    "from tqdm.notebook import tqdm\n",
    "import warnings\n",
    "from PIL import Image \n",
    "import re\n",
    "\n",
    "# requires arxiv_on_deck_2\n",
    "\n",
    "from arxiv_on_deck_2.arxiv2 import (get_new_papers, \n",
    "                                    get_paper_from_identifier,\n",
    "                                    retrieve_document_source, \n",
    "                                    get_markdown_badge)\n",
    "from arxiv_on_deck_2 import (latex,\n",
    "                             latex_bib,\n",
    "                             mpia,\n",
    "                             highlight_authors_in_list)\n",
    "\n",
    "# Sometimes images are really big\n",
    "Image.MAX_IMAGE_PIXELS = 1000000000 "
   ]
  },
  {
   "cell_type": "code",
   "execution_count": 2,
   "id": "22aa9d44",
   "metadata": {
    "execution": {
     "iopub.execute_input": "2024-10-22T04:10:29.593387Z",
     "iopub.status.busy": "2024-10-22T04:10:29.592904Z",
     "iopub.status.idle": "2024-10-22T04:10:29.601015Z",
     "shell.execute_reply": "2024-10-22T04:10:29.600469Z"
    },
    "papermill": {
     "duration": 0.012834,
     "end_time": "2024-10-22T04:10:29.602014",
     "exception": false,
     "start_time": "2024-10-22T04:10:29.589180",
     "status": "completed"
    },
    "tags": []
   },
   "outputs": [],
   "source": [
    "# Some useful definitions.\n",
    "\n",
    "class AffiliationWarning(UserWarning):\n",
    "    pass\n",
    "\n",
    "class AffiliationError(RuntimeError):\n",
    "    pass\n",
    "\n",
    "def validation(source: str):\n",
    "    \"\"\"Raises error paper during parsing of source file\n",
    "    \n",
    "    Allows checks before parsing TeX code.\n",
    "    \n",
    "    Raises AffiliationWarning\n",
    "    \"\"\"\n",
    "    check = mpia.affiliation_verifications(source, verbose=True)\n",
    "    if check is not True:\n",
    "        raise AffiliationError(\"mpia.affiliation_verifications: \" + check)\n",
    "\n",
    "        \n",
    "warnings.simplefilter('always', AffiliationWarning)\n",
    "\n",
    "\n",
    "def get_markdown_qrcode(paper_id: str):\n",
    "    \"\"\" Generate a qrcode to the arxiv page using qrserver.com\n",
    "    \n",
    "    :param paper: Arxiv paper\n",
    "    :returns: markdown text\n",
    "    \"\"\"\n",
    "    url = r\"https://api.qrserver.com/v1/create-qr-code/?size=100x100&data=\"\n",
    "    txt = f\"\"\"<img src={url}\"https://arxiv.org/abs/{paper_id}\">\"\"\"\n",
    "    txt = '<div id=\"qrcode\">' + txt + '</div>'\n",
    "    return txt\n",
    "\n",
    "\n",
    "def clean_non_western_encoded_characters_commands(text: str) -> str:\n",
    "    \"\"\" Remove non-western encoded characters from a string\n",
    "    List may need to grow.\n",
    "    \n",
    "    :param text: the text to clean\n",
    "    :return: the cleaned text\n",
    "    \"\"\"\n",
    "    text = re.sub(r\"(\\\\begin{CJK}{UTF8}{gbsn})(.*?)(\\\\end{CJK})\", r\"\\2\", text)\n",
    "    return text\n",
    "\n",
    "\n",
    "def get_initials(name: str) -> str:\n",
    "    \"\"\" Get the short name, e.g., A.-B. FamName\n",
    "    :param name: full name\n",
    "    :returns: initials\n",
    "    \"\"\"\n",
    "    initials = []\n",
    "    # account for non western names often in ()\n",
    "    if '(' in name:\n",
    "        name = clean_non_western_encoded_characters_commands(name)\n",
    "        suffix = re.findall(r\"\\((.*?)\\)\", name)[0]\n",
    "        name = name.replace(f\"({suffix})\", '')\n",
    "    else:\n",
    "        suffix = ''\n",
    "    split = name.split()\n",
    "    for token in split[:-1]:\n",
    "        if '-' in token:\n",
    "            current = '-'.join([k[0] + '.' for k in token.split('-')])\n",
    "        else:\n",
    "            current = token[0] + '.'\n",
    "        initials.append(current)\n",
    "    initials.append(split[-1].strip())\n",
    "    if suffix:\n",
    "        initials.append(f\"({suffix})\")\n",
    "    return ' '.join(initials)"
   ]
  },
  {
   "cell_type": "markdown",
   "id": "14bd6310",
   "metadata": {
    "papermill": {
     "duration": 0.002977,
     "end_time": "2024-10-22T04:10:29.608057",
     "exception": false,
     "start_time": "2024-10-22T04:10:29.605080",
     "status": "completed"
    },
    "tags": []
   },
   "source": [
    "## get list of arxiv paper candidates\n",
    "\n",
    "We use the MPIA mitarbeiter list webpage from mpia.de to get author names\n",
    "We then get all new papers from Arxiv and match authors"
   ]
  },
  {
   "cell_type": "code",
   "execution_count": 3,
   "id": "7ea813a8",
   "metadata": {
    "execution": {
     "iopub.execute_input": "2024-10-22T04:10:29.615161Z",
     "iopub.status.busy": "2024-10-22T04:10:29.614769Z",
     "iopub.status.idle": "2024-10-22T04:10:46.474441Z",
     "shell.execute_reply": "2024-10-22T04:10:46.473747Z"
    },
    "papermill": {
     "duration": 16.864681,
     "end_time": "2024-10-22T04:10:46.475857",
     "exception": false,
     "start_time": "2024-10-22T04:10:29.611176",
     "status": "completed"
    },
    "tags": []
   },
   "outputs": [],
   "source": [
    "# deal with the author list and edge cases of people that cannot be consistent on their name  \n",
    "\n",
    "def filter_non_scientists(name: str) -> bool:\n",
    "    \"\"\" Loose filter on expected authorships\n",
    "\n",
    "    removing IT, administration, technical staff\n",
    "    :param name: name\n",
    "    :returns: False if name is not a scientist\n",
    "    \"\"\"\n",
    "    remove_list = ['Licht', 'Binroth', 'Witzel', 'Jordan',\n",
    "                   'Zähringer', 'Scheerer', 'Hoffmann', 'Düe',\n",
    "                   'Hellmich', 'Enkler-Scharpegge', 'Witte-Nguy',\n",
    "                   'Dehen', 'Beckmann', 'Jager', 'Jäger'\n",
    "                  ]\n",
    "\n",
    "    for k in remove_list:\n",
    "        if k in name:\n",
    "            return False\n",
    "    return True\n",
    "\n",
    "def add_author_to_list(author_list: list) -> list:\n",
    "    \"\"\" Add author to list if not already in list\n",
    "    \n",
    "    :param author: author name\n",
    "    :param author_list: list of authors\n",
    "    :returns: updated list of authors\n",
    "    \"\"\"\n",
    "    add_list = ['T. Henning']\n",
    "\n",
    "    for author in add_list:\n",
    "        if author not in author_list:\n",
    "            author_list.append(author)\n",
    "    return author_list\n",
    "\n",
    "# get list from MPIA website\n",
    "# filter for non-scientists (mpia.get_mpia_mitarbeiter_list() does some filtering)\n",
    "mpia_authors = [k[1] for k in mpia.get_mpia_mitarbeiter_list() if filter_non_scientists(k[1])]\n",
    "# add some missing author because of inconsistencies in their MPIA name and author name on papers\n",
    "mpia_authors = add_author_to_list(mpia_authors)"
   ]
  },
  {
   "cell_type": "code",
   "execution_count": 4,
   "id": "2645e73a",
   "metadata": {
    "execution": {
     "iopub.execute_input": "2024-10-22T04:10:46.483521Z",
     "iopub.status.busy": "2024-10-22T04:10:46.482976Z",
     "iopub.status.idle": "2024-10-22T04:10:47.240608Z",
     "shell.execute_reply": "2024-10-22T04:10:47.239864Z"
    },
    "papermill": {
     "duration": 0.762493,
     "end_time": "2024-10-22T04:10:47.241692",
     "exception": false,
     "start_time": "2024-10-22T04:10:46.479199",
     "status": "completed"
    },
    "tags": []
   },
   "outputs": [
    {
     "name": "stdout",
     "output_type": "stream",
     "text": [
      "A. d. Graaff  ->  A. D. Graaff  |  ['A. D. Graaff']\n",
      "J. Shi  ->  J. Shi  |  ['J. Shi']\n",
      "P. Garcia  ->  A. P. Garcia  |  ['P. Garcia']\n",
      "S. Li  ->  S. Li  |  ['S. Li']\n",
      "J. Liu  ->  J. Liu  |  ['J. Liu']\n"
     ]
    },
    {
     "name": "stdout",
     "output_type": "stream",
     "text": [
      "Arxiv has 89 new papers today\n",
      "          4 with possible author matches\n"
     ]
    }
   ],
   "source": [
    "new_papers = get_new_papers()\n",
    "# add manual references\n",
    "add_paper_refs = []\n",
    "new_papers.extend([get_paper_from_identifier(k) for k in add_paper_refs])\n",
    "\n",
    "def robust_call(fn, value, *args, **kwargs):\n",
    "    try:\n",
    "        return fn(value, *args, **kwargs)\n",
    "    except Exception:\n",
    "        return value\n",
    "\n",
    "candidates = []\n",
    "for paperk in new_papers:\n",
    "    # Check author list with their initials\n",
    "    normed_author_list = [robust_call(mpia.get_initials, k) for k in paperk['authors']]\n",
    "    hl_authors = highlight_authors_in_list(normed_author_list, mpia_authors, verbose=True)\n",
    "    matches = [(hl, orig) for hl, orig in zip(hl_authors, paperk['authors']) if 'mark' in hl]\n",
    "    paperk['authors'] = hl_authors\n",
    "    if matches:\n",
    "        # only select paper if an author matched our list\n",
    "        candidates.append(paperk)\n",
    "print(\"\"\"Arxiv has {0:,d} new papers today\"\"\".format(len(new_papers)))        \n",
    "print(\"\"\"          {0:,d} with possible author matches\"\"\".format(len(candidates)))"
   ]
  },
  {
   "cell_type": "markdown",
   "id": "3543b34a",
   "metadata": {
    "papermill": {
     "duration": 0.003107,
     "end_time": "2024-10-22T04:10:47.248371",
     "exception": false,
     "start_time": "2024-10-22T04:10:47.245264",
     "status": "completed"
    },
    "tags": []
   },
   "source": [
    "# Parse sources and generate relevant outputs\n",
    "\n",
    "From the candidates, we do the following steps:\n",
    "* get their tarball from ArXiv (and extract data)\n",
    "* find the main .tex file: find one with \\documentclass{...} (sometimes it's non trivial)\n",
    "* Check affiliations with :func:`validation`, which uses :func:`mpia.affiliation_verifications`\n",
    "* If passing the affiliations: we parse the .tex source\n",
    "   * inject sub-documents into the main (flatten the main document)\n",
    "   * parse structure, extract information (title, abstract, authors, figures...)\n",
    "   * handles `\\graphicspath` if provided\n",
    "* Generate the .md document."
   ]
  },
  {
   "cell_type": "code",
   "execution_count": 5,
   "id": "9576b79e",
   "metadata": {
    "execution": {
     "iopub.execute_input": "2024-10-22T04:10:47.255736Z",
     "iopub.status.busy": "2024-10-22T04:10:47.255315Z",
     "iopub.status.idle": "2024-10-22T04:11:15.684407Z",
     "shell.execute_reply": "2024-10-22T04:11:15.683657Z"
    },
    "papermill": {
     "duration": 28.433963,
     "end_time": "2024-10-22T04:11:15.685453",
     "exception": false,
     "start_time": "2024-10-22T04:10:47.251490",
     "status": "completed"
    },
    "scrolled": false,
    "tags": []
   },
   "outputs": [
    {
     "data": {
      "application/vnd.jupyter.widget-view+json": {
       "model_id": "d98acba31dcc41a6a99190493a448868",
       "version_major": 2,
       "version_minor": 0
      },
      "text/plain": [
       "  0%|          | 0/4 [00:00<?, ?it/s]"
      ]
     },
     "metadata": {},
     "output_type": "display_data"
    },
    {
     "name": "stdout",
     "output_type": "stream",
     "text": [
      "Retrieving document from  https://arxiv.org/e-print/2410.14773\n"
     ]
    },
    {
     "name": "stdout",
     "output_type": "stream",
     "text": [
      "extracting tarball to tmp_2410.14773..."
     ]
    },
    {
     "name": "stdout",
     "output_type": "stream",
     "text": [
      " done.\n",
      "Retrieving document from  https://arxiv.org/e-print/2410.15242\n",
      "extracting tarball to tmp_2410.15242... done.\n",
      "Retrieving document from  https://arxiv.org/e-print/2410.15333\n",
      "extracting tarball to tmp_2410.15333..."
     ]
    },
    {
     "name": "stderr",
     "output_type": "stream",
     "text": [
      "/opt/hostedtoolcache/Python/3.9.20/x64/lib/python3.9/site-packages/IPython/core/interactiveshell.py:3550: LatexWarning: Multiple tex files.\n",
      "\n",
      "  exec(code_obj, self.user_global_ns, self.user_ns)\n",
      "/opt/hostedtoolcache/Python/3.9.20/x64/lib/python3.9/site-packages/IPython/core/interactiveshell.py:3550: LatexWarning: Found documentclass in tmp_2410.14773/main.tex\n",
      "\n",
      "  exec(code_obj, self.user_global_ns, self.user_ns)\n",
      "/opt/hostedtoolcache/Python/3.9.20/x64/lib/python3.9/site-packages/arxiv_on_deck_2/latex.py:414: LatexWarning: Latex injecting: 'quiescent_tab_18_12Sep' from 'tmp_2410.14773/quiescent_tab_18_12Sep.tex'\n",
      "  warnings.warn(LatexWarning(f\"Latex injecting: '{ext}' from '{subsource}'\"))\n"
     ]
    },
    {
     "name": "stdout",
     "output_type": "stream",
     "text": [
      " done.\n"
     ]
    },
    {
     "name": "stdout",
     "output_type": "stream",
     "text": [
      "S. Li  ->  S. Li  |  ['S. Li']\n"
     ]
    },
    {
     "name": "stdout",
     "output_type": "stream",
     "text": [
      "Found 93 bibliographic references in tmp_2410.15333/main.bbl.\n",
      "Retrieving document from  https://arxiv.org/e-print/2410.15913\n",
      "extracting tarball to tmp_2410.15913..."
     ]
    },
    {
     "name": "stdout",
     "output_type": "stream",
     "text": [
      " done.\n"
     ]
    }
   ],
   "source": [
    "documents = []\n",
    "failed = []\n",
    "for paper in tqdm(candidates):\n",
    "    # debug crap\n",
    "    paper['identifier'] = paper['identifier'].lower().replace('arxiv:', '').replace(r'\\n', '').strip()\n",
    "    paper_id = paper['identifier']\n",
    "    \n",
    "    folder = f'tmp_{paper_id}'\n",
    "\n",
    "    try:\n",
    "        if not os.path.isdir(folder):\n",
    "            folder = retrieve_document_source(f\"{paper_id}\", f'tmp_{paper_id}')\n",
    "        \n",
    "        try:\n",
    "            doc = latex.LatexDocument(folder, validation=validation)    \n",
    "        except AffiliationError as affilerror:\n",
    "            msg = f\"ArXiv:{paper_id:s} is not an MPIA paper... \" + str(affilerror)\n",
    "            failed.append((paper, \"affiliation error: \" + str(affilerror) ))\n",
    "            continue\n",
    "        \n",
    "        # Hack because sometimes author parsing does not work well\n",
    "        if (len(doc.authors) != len(paper['authors'])):\n",
    "            doc._authors = paper['authors']\n",
    "        else:\n",
    "            # highlight authors (FIXME: doc.highlight_authors)\n",
    "            # done on arxiv paper already\n",
    "            doc._authors = highlight_authors_in_list(\n",
    "                [get_initials(k) for k in doc.authors], \n",
    "                mpia_authors, verbose=True)\n",
    "        if (doc.abstract) in (None, ''):\n",
    "            doc._abstract = paper['abstract']\n",
    "            \n",
    "        doc.comment = (get_markdown_badge(paper_id) + \n",
    "                       \"<mark>Appeared on: \" + paper['date'] + \"</mark> - \")\n",
    "        if paper['comments']:\n",
    "            doc.comment += \" _\" + paper['comments'] + \"_\"\n",
    "        \n",
    "        full_md = doc.generate_markdown_text()\n",
    "        \n",
    "        full_md += get_markdown_qrcode(paper_id)\n",
    "        \n",
    "        # replace citations\n",
    "        try:\n",
    "            bibdata = latex_bib.LatexBib.from_doc(doc)\n",
    "            full_md = latex_bib.replace_citations(full_md, bibdata)\n",
    "        except Exception as e:\n",
    "            print(\"Issues with the citations\")\n",
    "            print(e)\n",
    "        \n",
    "        documents.append((paper_id, full_md))\n",
    "    except Exception as e:\n",
    "        warnings.warn(latex.LatexWarning(f\"{paper_id:s} did not run properly\\n\" +\n",
    "                                         str(e)\n",
    "                                        ))\n",
    "        failed.append((paper, \"latex error \" + str(e)))"
   ]
  },
  {
   "cell_type": "markdown",
   "id": "2505a25c",
   "metadata": {
    "papermill": {
     "duration": 0.003766,
     "end_time": "2024-10-22T04:11:15.693241",
     "exception": false,
     "start_time": "2024-10-22T04:11:15.689475",
     "status": "completed"
    },
    "tags": []
   },
   "source": [
    "### Export the logs\n",
    "\n",
    "Throughout, we also keep track of the logs per paper. see `logs-{today date}.md` "
   ]
  },
  {
   "cell_type": "code",
   "execution_count": 6,
   "id": "d733828a",
   "metadata": {
    "execution": {
     "iopub.execute_input": "2024-10-22T04:11:15.701629Z",
     "iopub.status.busy": "2024-10-22T04:11:15.701185Z",
     "iopub.status.idle": "2024-10-22T04:11:15.716505Z",
     "shell.execute_reply": "2024-10-22T04:11:15.715843Z"
    },
    "papermill": {
     "duration": 0.02071,
     "end_time": "2024-10-22T04:11:15.717555",
     "exception": false,
     "start_time": "2024-10-22T04:11:15.696845",
     "status": "completed"
    },
    "scrolled": false,
    "tags": []
   },
   "outputs": [
    {
     "data": {
      "text/markdown": [
       "## Successful papers"
      ],
      "text/plain": [
       "<IPython.core.display.Markdown object>"
      ]
     },
     "metadata": {},
     "output_type": "display_data"
    },
    {
     "data": {
      "text/markdown": [
       "\n",
       "|||\n",
       "|---:|:---|\n",
       "| [![arXiv](https://img.shields.io/badge/arXiv-2410.15333-b31b1b.svg)](https://arxiv.org/abs/2410.15333) | **The ALMA-QUARKS Survey: Fibers' role in star formation unveiled in an intermediate-mass protocluster region of the Vela D cloud**  |\n",
       "|| D. Yang, et al. -- incl., <mark>P. Garcia</mark>, <mark>S. Li</mark> |\n",
       "|*Appeared on*| *2024-10-22*|\n",
       "|*Comments*| *19 pages, 10 figures, 4 tables, accepted by ApJ*|\n",
       "|**Abstract**|            In this paper, we present a detailed analysis of the IRS 17 filament within the intermediate-mass protocluster IRAS 08448-4343 (of $\\sim\\,10^3\\,\\rm M_{\\odot}$), using ALMA data from the ATOMS 3-mm and QUARKS 1.3-mm surveys. The IRS 17 filament, which spans $\\sim$54000 au ($0.26\\,\\rm pc$) in length and $\\sim$4000 au ($0.02\\,\\rm pc$) in width, exhibits a complex, multi-component velocity field, and harbours hierarchical substructures. These substructures include three bundles of seven velocity-coherent fibers, and 29 dense ($n\\sim 10^8\\,\\rm cm^{-3}$) condensations. The fibers have a median length of $\\sim 4500\\,\\rm au$ and a median width of $\\sim 1400\\,\\rm au$. Among these fibers, four are identified as ``fertile\", each hosting at least three dense condensations, which are regarded as the ``seeds\" of star formation. While the detected cores are randomly spaced within the IRS\\,17 filament based on the 3-mm dust continuum image, periodic spacing ($\\sim1600\\,\\rm au$) of condensations is observed in the fertile fibers according to the 1.3-mm dust map, consistent with the predictions of linear isothermal cylinder fragmentation models. These findings underscore the crucial role of fibers in star formation and suggest a hierarchical fragmentation process that extends from the filament to the fibers, and ultimately, to the smallest-scale condensations.         |"
      ],
      "text/plain": [
       "[2410.15333] The ALMA-QUARKS Survey: Fibers' role in star formation unveiled in an intermediate-mass protocluster region of the Vela D cloud\n",
       "\tD. Yang, et al. -- incl., <mark>P. Garcia</mark>, <mark>S. Li</mark>"
      ]
     },
     "metadata": {},
     "output_type": "display_data"
    },
    {
     "data": {
      "text/markdown": [
       "## Failed papers"
      ],
      "text/plain": [
       "<IPython.core.display.Markdown object>"
      ]
     },
     "metadata": {},
     "output_type": "display_data"
    },
    {
     "data": {
      "text/markdown": [
       "\n",
       "|||\n",
       "|---:|:---|\n",
       "| [![arXiv](https://img.shields.io/badge/arXiv-2410.14773-b31b1b.svg)](https://arxiv.org/abs/2410.14773) | **The abundance and nature of high-redshift quiescent galaxies from JADES spectroscopy and the FLAMINGO simulations**  |\n",
       "|| W. M. Baker, et al. -- incl., <mark>A. d. Graaff</mark> |\n",
       "|*Appeared on*| *2024-10-22*|\n",
       "|*Comments*| *32 pages, 20 figures, submitted to MNRAS*|\n",
       "|**Abstract**|            We use NIRSpec/MSA spectroscopy and NIRCam imaging to study a sample of 18 massive ($\\log\\; M_{*}/M_{\\odot} \\gt 10\\;$dex), central quiescent galaxies at $2\\leq z \\leq 5$ in the GOODS fields, to investigate their number density, star-formation histories, quenching timescales, and incidence of AGN. The depth of our data reaches $\\log M_*/M_\\odot \\approx 9\\;$dex, yet the least-massive central quiescent galaxy found has $\\log M_*/M_\\odot \\gt 10\\;$dex, suggesting that quenching is regulated by a physical quantity that scales with $M_*$. With spectroscopy as benchmark, we assess the completeness and purity of photometric samples, finding number densities 10 times higher than predicted by galaxy formation models, confirming earlier photometric studies. We compare our number densities to predictions from FLAMINGO, the largest-box full-hydro simulation suite to date. We rule out cosmic variance at the 3-$\\sigma$ level, providing spectroscopic confirmation that galaxy formation models do not match observations at $z>3$. Using FLAMINGO, we find that the vast majority of quiescent galaxies' stars formed in situ, with these galaxies not having undergone multiple major dry mergers. This is in agreement with the compact observed size of these systems and suggests that major mergers are not a viable channel for quenching most massive galaxies. Several of our observed galaxies are particularly old, with four galaxies displaying 4000-Å breaks; full-spectrum fitting infers formation and quenching redshifts of $z\\geq8$ and $z\\geq6$. Using all available AGN tracers, we find that 8 massive quiescent galaxies host AGN, including in old systems. This suggests a high duty cycle of AGN and a continued trickle of gas to fuel accretion.         |\n",
       "|<p style=\"color:green\"> **ERROR** </p>| <p style=\"color:green\">affiliation error: mpia.affiliation_verifications: 'Heidelberg' keyword not found.</p> |"
      ],
      "text/plain": [
       "<IPython.core.display.Markdown object>"
      ]
     },
     "metadata": {},
     "output_type": "display_data"
    },
    {
     "data": {
      "text/markdown": [
       "\n",
       "|||\n",
       "|---:|:---|\n",
       "| [![arXiv](https://img.shields.io/badge/arXiv-2410.15242-b31b1b.svg)](https://arxiv.org/abs/2410.15242) | **The Value-added Catalog of OB Stars in LAMOST DR7**  |\n",
       "|| Z. Liu, et al. -- incl., <mark>J. Shi</mark> |\n",
       "|*Appeared on*| *2024-10-22*|\n",
       "|*Comments*| *13 pages, 12, figures, accepted by ApJS*|\n",
       "|**Abstract**|            In this work, we update the catalog of OB stars based on the Large Sky Area Multi-Object Fiber Spectroscopic Telescope (LAMOST) data release 7 and modified the OB stars selection criterion the spectral line indices space. The new catalog includes 37,778 spectra of 27,643 OB stars, of which 3827 OB stars are newly identified. The spectral subclasses of 27,643 OB stars are obtained using the automatic classification code MKCLASS. We find that the modified OB star selection criteria can better improve the completeness of late B-type stars by analyzing their spectral classification results given by MKCLASS. We also identify 3006 Be-type stars or candidates by examining the Balmer lines in their spectra and find that the frequency of our Be-type stars (10.9\\%) is consistent with previous results. The spatial distribution of OB stars indicates that they are mainly located in the Galactic disk. This new catalog of OB stars will provide valuable data for studying the structure and evolution of the Milky Way.         |\n",
       "|<p style=\"color:green\"> **ERROR** </p>| <p style=\"color:green\">affiliation error: mpia.affiliation_verifications: 'Heidelberg' keyword not found.</p> |"
      ],
      "text/plain": [
       "<IPython.core.display.Markdown object>"
      ]
     },
     "metadata": {},
     "output_type": "display_data"
    },
    {
     "data": {
      "text/markdown": [
       "\n",
       "|||\n",
       "|---:|:---|\n",
       "| [![arXiv](https://img.shields.io/badge/arXiv-2410.15913-b31b1b.svg)](https://arxiv.org/abs/2410.15913) | **The magnetic field in quiescent star-forming filament G16.96+0.27**  |\n",
       "|| Q.-L. Gu, et al. -- incl., <mark>J. Liu</mark> |\n",
       "|*Appeared on*| *2024-10-22*|\n",
       "|*Comments*| *Accepted by ApJ. 13 pages, 5 figures*|\n",
       "|**Abstract**|            We present 850 {\\mu}m thermal dust polarization observations with a resolution of 14.4\"(~ 0.13 pc) towards an infrared dark cloud G16.96+0.27 using JCMT/POL-2. The average magnetic field orientation, which roughly agrees with the larger-scale magnetic field orientation traced by the Planck 353 GHz data, is approximately perpendicular to the filament structure. The estimated plane-of-sky magnetic field strength is ~ 96 {\\mu}G and ~ 60 {\\mu}G using two variants of the Davis-Chandrasekhar-Fermi methods. We calculate the virial and magnetic critical parameters to evaluate the relative importance of gravity, the magnetic field, and turbulence. The magnetic field and turbulence are both weaker than gravity, but magnetic fields and turbulence together are equal to gravity, suggesting that G16.96+0.27 is in a quasi-equilibrium state. The cloud-magnetic-field alignment is found to have a trend moving away from perpendicularity in the dense regions, which may serve as a tracer of potential fragmentation in such quiescent filaments.         |\n",
       "|<p style=\"color:green\"> **ERROR** </p>| <p style=\"color:green\">affiliation error: mpia.affiliation_verifications: 'Heidelberg' keyword not found.</p> |"
      ],
      "text/plain": [
       "<IPython.core.display.Markdown object>"
      ]
     },
     "metadata": {},
     "output_type": "display_data"
    }
   ],
   "source": [
    "import datetime\n",
    "today = str(datetime.date.today())\n",
    "logfile = f\"_build/html/logs/log-{today}.md\"\n",
    "\n",
    "\n",
    "with open(logfile, 'w') as logs:\n",
    "    # Success\n",
    "    logs.write(f'# Arxiv on Deck 2: Logs - {today}\\n\\n')\n",
    "    logs.write(\"\"\"* Arxiv had {0:,d} new papers\\n\"\"\".format(len(new_papers)))\n",
    "    logs.write(\"\"\"    * {0:,d} with possible author matches\\n\\n\"\"\".format(len(candidates)))\n",
    "    logs.write(\"## Sucessful papers\\n\\n\")\n",
    "    display(Markdown(\"## Successful papers\"))\n",
    "    success = [k[0] for k in documents]\n",
    "    for candid in candidates:\n",
    "        if candid['identifier'].split(':')[-1] in success:\n",
    "            display(candid)\n",
    "            logs.write(candid.generate_markdown_text() + '\\n\\n')\n",
    "\n",
    "    ## failed\n",
    "    logs.write(\"## Failed papers\\n\\n\")\n",
    "    display(Markdown(\"## Failed papers\"))\n",
    "    failed = sorted(failed, key=lambda x: x[1])\n",
    "    current_reason = \"\"\n",
    "    for paper, reason in failed:\n",
    "        if 'affiliation' in reason:\n",
    "            color = 'green'\n",
    "        else:\n",
    "            color = 'red'\n",
    "        data = Markdown(\n",
    "                paper.generate_markdown_text() + \n",
    "                f'\\n|<p style=\"color:{color:s}\"> **ERROR** </p>| <p style=\"color:{color:s}\">{reason:s}</p> |'\n",
    "               )\n",
    "        if reason != current_reason:\n",
    "            logs.write(f'### {reason:s} \\n\\n')\n",
    "            current_reason = reason\n",
    "        logs.write(data.data + '\\n\\n')\n",
    "        \n",
    "        # only display here the important errors (all in logs)\n",
    "        # if color in ('red',):\n",
    "        display(data)"
   ]
  },
  {
   "cell_type": "markdown",
   "id": "472d20ee",
   "metadata": {
    "papermill": {
     "duration": 0.004218,
     "end_time": "2024-10-22T04:11:15.726146",
     "exception": false,
     "start_time": "2024-10-22T04:11:15.721928",
     "status": "completed"
    },
    "tags": []
   },
   "source": [
    "## Export documents\n",
    "\n",
    "We now write the .md files and export relevant images"
   ]
  },
  {
   "cell_type": "code",
   "execution_count": 7,
   "id": "d426aed9",
   "metadata": {
    "execution": {
     "iopub.execute_input": "2024-10-22T04:11:15.735573Z",
     "iopub.status.busy": "2024-10-22T04:11:15.735219Z",
     "iopub.status.idle": "2024-10-22T04:11:15.742004Z",
     "shell.execute_reply": "2024-10-22T04:11:15.741456Z"
    },
    "papermill": {
     "duration": 0.012562,
     "end_time": "2024-10-22T04:11:15.742971",
     "exception": false,
     "start_time": "2024-10-22T04:11:15.730409",
     "status": "completed"
    },
    "tags": []
   },
   "outputs": [],
   "source": [
    "def export_markdown_summary(md: str, md_fname:str, directory: str):\n",
    "    \"\"\"Export MD document and associated relevant images\"\"\"\n",
    "    import os\n",
    "    import shutil\n",
    "    import re\n",
    "\n",
    "    if (os.path.exists(directory) and not os.path.isdir(directory)):\n",
    "        raise RuntimeError(f\"a non-directory file exists with name {directory:s}\")\n",
    "\n",
    "    if (not os.path.exists(directory)):\n",
    "        print(f\"creating directory {directory:s}\")\n",
    "        os.mkdir(directory)\n",
    "\n",
    "    fig_fnames = (re.compile(r'\\[Fig.*\\]\\((.*)\\)').findall(md) + \n",
    "                  re.compile(r'\\<img src=\"([^>\\s]*)\"[^>]*/>').findall(md))\n",
    "    print(\"found figures\", fig_fnames)\n",
    "    for fname in fig_fnames:\n",
    "        if 'http' in fname:\n",
    "            # No need to copy online figures\n",
    "            continue\n",
    "        if not os.path.exists(fname):\n",
    "            print(\"file not found\", fname)\n",
    "            continue\n",
    "        print(\"copying \", fname, \"to\", directory)\n",
    "        destdir = os.path.join(directory, os.path.dirname(fname))\n",
    "        destfname = os.path.join(destdir, os.path.basename(fname))\n",
    "        try:\n",
    "            os.makedirs(destdir)\n",
    "        except FileExistsError:\n",
    "            pass\n",
    "        shutil.copy(fname, destfname)\n",
    "    with open(os.path.join(directory, md_fname), 'w') as fout:\n",
    "        fout.write(md)\n",
    "    print(\"exported in \", os.path.join(directory, md_fname))\n",
    "    [print(\"    + \" + os.path.join(directory,fk)) for fk in fig_fnames]"
   ]
  },
  {
   "cell_type": "code",
   "execution_count": 8,
   "id": "014d04a4",
   "metadata": {
    "execution": {
     "iopub.execute_input": "2024-10-22T04:11:15.752423Z",
     "iopub.status.busy": "2024-10-22T04:11:15.752020Z",
     "iopub.status.idle": "2024-10-22T04:11:15.759746Z",
     "shell.execute_reply": "2024-10-22T04:11:15.759194Z"
    },
    "papermill": {
     "duration": 0.013482,
     "end_time": "2024-10-22T04:11:15.760720",
     "exception": false,
     "start_time": "2024-10-22T04:11:15.747238",
     "status": "completed"
    },
    "tags": []
   },
   "outputs": [
    {
     "name": "stdout",
     "output_type": "stream",
     "text": [
      "found figures ['tmp_2410.15333/./band3_continuum_all.png', 'tmp_2410.15333/./H13cop_moment_map.png', 'tmp_2410.15333/./band6_continuum.png']\n",
      "copying  tmp_2410.15333/./band3_continuum_all.png to _build/html/\n",
      "copying  tmp_2410.15333/./H13cop_moment_map.png to _build/html/\n",
      "copying  tmp_2410.15333/./band6_continuum.png to _build/html/\n",
      "exported in  _build/html/2410.15333.md\n",
      "    + _build/html/tmp_2410.15333/./band3_continuum_all.png\n",
      "    + _build/html/tmp_2410.15333/./H13cop_moment_map.png\n",
      "    + _build/html/tmp_2410.15333/./band6_continuum.png\n"
     ]
    }
   ],
   "source": [
    "for paper_id, md in documents:\n",
    "    export_markdown_summary(md, f\"{paper_id:s}.md\", '_build/html/')"
   ]
  },
  {
   "cell_type": "markdown",
   "id": "f087a0a7",
   "metadata": {
    "papermill": {
     "duration": 0.00429,
     "end_time": "2024-10-22T04:11:15.769375",
     "exception": false,
     "start_time": "2024-10-22T04:11:15.765085",
     "status": "completed"
    },
    "tags": []
   },
   "source": [
    "## Display the papers\n",
    "\n",
    "Not necessary but allows for a quick check."
   ]
  },
  {
   "cell_type": "code",
   "execution_count": 9,
   "id": "fd25f625",
   "metadata": {
    "execution": {
     "iopub.execute_input": "2024-10-22T04:11:15.779038Z",
     "iopub.status.busy": "2024-10-22T04:11:15.778635Z",
     "iopub.status.idle": "2024-10-22T04:11:15.783328Z",
     "shell.execute_reply": "2024-10-22T04:11:15.782709Z"
    },
    "papermill": {
     "duration": 0.010609,
     "end_time": "2024-10-22T04:11:15.784407",
     "exception": false,
     "start_time": "2024-10-22T04:11:15.773798",
     "status": "completed"
    },
    "scrolled": false,
    "tags": []
   },
   "outputs": [
    {
     "data": {
      "text/markdown": [
       "<div class=\"macros\" style=\"visibility:hidden;\">\n",
       "$\\newcommand{\\ensuremath}{}$\n",
       "$\\newcommand{\\xspace}{}$\n",
       "$\\newcommand{\\object}[1]{\\texttt{#1}}$\n",
       "$\\newcommand{\\farcs}{{.}''}$\n",
       "$\\newcommand{\\farcm}{{.}'}$\n",
       "$\\newcommand{\\arcsec}{''}$\n",
       "$\\newcommand{\\arcmin}{'}$\n",
       "$\\newcommand{\\ion}[2]{#1#2}$\n",
       "$\\newcommand{\\textsc}[1]{\\textrm{#1}}$\n",
       "$\\newcommand{\\hl}[1]{\\textrm{#1}}$\n",
       "$\\newcommand{\\footnote}[1]{}$\n",
       "$\\newcommand{\\vdag}{(v)^\\dagger}$\n",
       "$\\newcommand$\n",
       "$\\newcommand$\n",
       "$\\newcommand{\\arcm}{\\hbox{^\\prime}}$\n",
       "$\\newcommand{\\etal}{{\\rm et al.}\\thinspace}$\n",
       "$\\newcommand{\\eg}{{\\it e.g. }}$\n",
       "$\\newcommand{\\etc}{{\\it etc. }}$\n",
       "$\\newcommand{\\ie}{{\\it i.e. }}$\n",
       "$\\newcommand{\\cf}{{\\it c.f. }}$\n",
       "$\\newcommand{◦ee}{\\hbox{^\\circ}}$\n",
       "$\\newcommand{\\NHH}{\\ensuremath{N_{\\mathrm{H_{2}}}}}$\n",
       "$\\newcommand{\\s}{\\ensuremath{\\mbox{~s}}}$\n",
       "$\\newcommand{\\ps}{\\ensuremath{\\s^{-1}}}$\n",
       "$\\newcommand{\\cm}{\\ensuremath{\\mbox{~cm}}}$\n",
       "$\\newcommand{\\pcmsq}{\\ensuremath{\\cm^{-2}}}$\n",
       "$\\newcommand{\\pcmcu}{\\ensuremath{\\cm^{-3}}}$\n",
       "$\\newcommand{\\km}{\\ensuremath{\\mbox{~km}}}$\n",
       "$\\newcommand{\\erg}{\\ensuremath{\\mbox{~erg}}}$\n",
       "$\\newcommand{\\ergps}{\\ensuremath{\\erg \\ps}}$\n",
       "$\\newcommand{\\mJy}{\\ensuremath{\\mbox{~mJy}}}$\n",
       "$\\newcommand{\\ML}{\\ensuremath{\\mbox{\\Msol/\\LBsol}}}$\n",
       "$\\newcommand{\\Hi}{H\\textsc{i}}$\n",
       "$\\newcommand{\\Hii}{H\\textsc{ii}}$\n",
       "$\\newcommand{\\Ha}{\\ensuremath{\\mathrm{H\\alpha}}}$\n",
       "$\\newcommand{\\nh}{\\ensuremath{\\mathrm{n}_\\mathrm{H}}}$\n",
       "$\\newcommand{\\Mdot}{\\ensuremath{\\dot{\\mathrm{M}}}}$\n",
       "$\\newcommand{\\thco}{^{13}CO}$\n",
       "$\\newcommand{\\twco}{^{12}CO}$\n",
       "$\\newcommand{\\etco}{C^{18}O}$\n",
       "$\\newcommand{\\vel}{km s^{-1}}$\n",
       "$\\newcommand{\\filAname}{G350.5-N}$\n",
       "$\\newcommand{\\filBname}{G350.5-S}$\n",
       "$\\newcommand{\\imcoor}{\\alpha_{2000}=17^{\\mathrm{h}}18^{\\mathrm{m}}13\\fs84, \\delta_{2000}=-36◦28\\arcmin21\\farcs5}$\n",
       "$\\newcommand{\\her}{Herschel}$\n",
       "$\\newcommand{\\mline}{M_{\\rm line}}$\n",
       "$\\newcommand{\\msun}{M_{\\odot}}$\n",
       "$\\newcommand{\\lsun}{L_{\\odot}}$\n",
       "$\\newcommand{\\um}{\\mum}$\n",
       "$\\newcommand{\\cmcm}{cm^{-2}}$\n",
       "$\\newcommand{\\egcite}{\\citep[e.g.,][]}$\n",
       "$\\newcommand{\\lmsun}{M_{\\odot}~pc^{-1}}$\n",
       "$\\newcommand{\\chiiioh}{CH_3OH}$\n",
       "$\\newcommand{\\hciiin}{HC_3N}$\n",
       "$\\newcommand{\\hcop}{HCO^{+}}$\n",
       "$\\newcommand{\\htcop}{H^{13}CO^{+}}$\n",
       "$\\newcommand{\\halpha}{H40_{\\alpha}}$\n",
       "$\\newcommand{\\chthocho}{CH_3OCHO}$\n",
       "$\\newcommand{\\chthcho}{CH_3CHO}$\n",
       "$\\newcommand{\\chthoh}{CH_3OH}$\n",
       "$\\newcommand{\\chii}{H/UC-H\\textsc{ii}}$\n",
       "$\\newcommand{\\uchii}{UC-H\\textsc{ii}}$\n",
       "$\\newcommand{\\hchii}{HC-H\\textsc{ii}}$\n",
       "$\\newcommand{\\hii}{H\\textsc{ii}}$\n",
       "$\\newcommand{\\CHMC}{s-cHMC}$\n",
       "$\\newcommand{\\PCHMC}{w-cHMC}$\n",
       "$\\newcommand{\\filname}{G34}$\n",
       "$\\newcommand{\\mdotyr}{M_{\\odot}~yr^{-1}}$\n",
       "$\\newcommand{\\tred}{\\textcolor{red}}$\n",
       "$\\newcommand{\\tblue}{\\textcolor{blue}}$\n",
       "$\\newcommand{\\orcidauthorHL}{0000-0003-3343-9645}$\n",
       "$\\newcommand{\\mgt}{\\color{magenta}}$\n",
       "$\\newcommand\\aj{{\\rm{AJ}}}$\n",
       "$\\newcommand\\araa{{\\rm{ARA\\&A}}}$\n",
       "$\\newcommand\\apj{{\\rm{ApJ}}}$\n",
       "$\\newcommand\\icarus{{\\rm{Icarus}}}$\n",
       "$\\newcommand\\apjs{{\\rm{ApJS}}}$\n",
       "$\\newcommand\\apjl{{\\rm{ApJL}}}$\n",
       "$\\newcommand\\apss{{\\rm{Ap\\&SS}}}$\n",
       "$\\newcommand\\aap{{\\rm{A\\&A}}}$\n",
       "$\\newcommand\\aapr{{\\rm{A\\&AR}}}$\n",
       "$\\newcommand\\aaps{{\\rm{A\\&AS}}}$\n",
       "$\\newcommand\\baas{{\\rm{BAAS}}}$\n",
       "$\\newcommand\\memras{{\\rm{MmRAS}}}$\n",
       "$\\newcommand\\mnras{{\\rm{MNRAS}}}$\n",
       "$\\newcommand\\pasp{{\\rm{PASP}}}$\n",
       "$\\newcommand\\prl{{\\rm{Phys. Rev. Lett.}}}$\n",
       "$\\newcommand\\jqsrt{{\\rm{Journal of Quantitative Spectroscopy and Radiative$\n",
       "$Transfer}}}$\n",
       "$\\newcommand\\actaa{{\\rm{Acta Astronomica}}}$</div>\n",
       "\n",
       "\n",
       "\n",
       "<div id=\"title\">\n",
       "\n",
       "# $\\bf$ The ALMA-QUARKS Survey: Fibers' role in star formation unveiled in an intermediate-mass protocluster region of the Vela D cloud\n",
       "\n",
       "</div>\n",
       "<div id=\"comments\">\n",
       "\n",
       "[![arXiv](https://img.shields.io/badge/arXiv-2410.15333-b31b1b.svg)](https://arxiv.org/abs/2410.15333)<mark>Appeared on: 2024-10-22</mark> -  _19 pages, 10 figures, 4 tables, accepted by ApJ_\n",
       "\n",
       "</div>\n",
       "<div id=\"authors\">\n",
       "\n",
       "D. Yang, et al. -- incl., <mark>S. Li</mark>\n",
       "\n",
       "</div>\n",
       "<div id=\"abstract\">\n",
       "\n",
       "**Abstract:** In this paper, we present a detailed analysis of the IRS 17 filament within the intermediate-mass protocluster IRAS 08448-4343 (of $\\sim 10^3$ $\\lsun$ ), using ALMA data from the ATOMS 3-mm and QUARKS 1.3-mm surveys. The IRS 17 filament, which spans $\\sim$ 54000 au ( $0.26 \\rm pc$ ) in length and $\\sim$ 4000 au ( $0.02 \\rm pc$ ) in width, exhibits a complex, multi-component velocity field, and harbours hierarchical substructures. These substructures include three bundles of seven velocity-coherent fibers, and 29 dense ( $n\\sim 10^8 \\rm cm^{-3}$ ) condensations.The fibers have a median length of $\\sim 4500 \\rm au$ and a median width of $\\sim 1400 \\rm au$ . Among these fibers, four are identified as \"fertile\", each hosting at least three dense condensations, which are regarded as the \"seeds\" of star formation. While the detected cores are randomly spaced within the IRS 17 filament based on the 3-mm dust continuum image, periodic spacing ( $\\sim1600 \\rm au$ ) of condensations is observed in the fertile fibers according to the 1.3-mm dust map, consistent with the predictions of linear isothermal cylinder fragmentation models.These findings underscore the crucial role of fibers in star formation and suggest a hierarchical fragmentation process that extends from the filament to the fibers, and ultimately, to the smallest-scale condensations.\n",
       "\n",
       "</div>\n",
       "\n",
       "<div id=\"div_fig1\">\n",
       "\n",
       "<img src=\"tmp_2410.15333/./band3_continuum_all.png\" alt=\"Fig2\" width=\"100%\"/>\n",
       "\n",
       "**Figure 2. -** 3-mm dust continuum image of the IRS 17 protocluster region from the ATOMS survey. The black solid and dotted lines respectively indicate the footprint and skeleton of the IRS 17 filament obtained with the _ getsf_ algorithm on the 3-mm dust continuum data. The yellow  overlapping circles represent the FoV of the QUARKS survey and the red ellipses represent 10 dense cores within the IRS 17 filament footprint, which were identified by [Liu, Liu and Evans (2021)]().  (*fig:band3:con*)\n",
       "\n",
       "</div>\n",
       "<div id=\"div_fig2\">\n",
       "\n",
       "<img src=\"tmp_2410.15333/./H13cop_moment_map.png\" alt=\"Fig3\" width=\"100%\"/>\n",
       "\n",
       "**Figure 3. -** Moment maps of $\\htcop$  from the ATOMS survey. The velocity range of $\\htcop$  emission is set to [1, 6]$\\rm km s^{-1}$, which correspond to the velocity channels with a signal-to-noise ratio above 3 $rms$ in the average spectrum over the entire region. The $rms$ defined as the standard deviation within 50 channels free of  line emission ($\\sim0.01 \\rm Jy beam^{-1}$). The black dashed and solid lines represent the IRS 17 filament footprint and fibers, respectively. The ATOMS beam\n",
       "    and 0.1 pc scale-bar are shown in left bottom and top right, respectively. (a) Integrated intensity (Moment 0) map. The white contour levels start at 3 $rms$($\\sim\\rm 0.01 Jy beam km s^{-1}$), and following as [6, 9, 12, 15]$rms$. (b) Velocity centroid (Moment 1) map. (c) Velocity dispersion (Moment 2) map. The solid and dashed arrows represent the outflows identified either from CO (2--1) or SiO (5--4), respectively (see Fig. \\ref{fig:outflow}) (*fig:h13co:moment*)\n",
       "\n",
       "</div>\n",
       "<div id=\"div_fig3\">\n",
       "\n",
       "<img src=\"tmp_2410.15333/./band6_continuum.png\" alt=\"Fig6\" width=\"100%\"/>\n",
       "\n",
       "**Figure 6. -** 1.3-mm dust continuum image from the QUARKS survey. The black dotted line shows the skeleton of the IRS 17 filament, and green solid lines represent the dense fibers. Red ellipses show the condensations identified by the _ getsf_ and SExtractor algorithm. The black stars and crosses are the YSO Class I/0 objects and IRAC point-like sources as candidate YSOs  ([Strafella, Elia and Campeggio 2010](), [Strafella, Lorenzetti and Giannini 2015]()) , respectively. The solid and dashed arrows represent the outflows identified either from CO (2--1) or SiO (5--4), respectively (see Fig. \\ref{fig:outflow}). The synthesized beam size and the scale-bar are shown in left bottom and top right, respectively. (*fig:bad6*)\n",
       "\n",
       "</div><div id=\"qrcode\"><img src=https://api.qrserver.com/v1/create-qr-code/?size=100x100&data=\"https://arxiv.org/abs/2410.15333\"></div>"
      ],
      "text/plain": [
       "<IPython.core.display.Markdown object>"
      ]
     },
     "metadata": {},
     "output_type": "display_data"
    }
   ],
   "source": [
    "[display(Markdown(k[1])) for k in documents];"
   ]
  },
  {
   "cell_type": "markdown",
   "id": "873873a4",
   "metadata": {
    "papermill": {
     "duration": 0.004538,
     "end_time": "2024-10-22T04:11:15.793604",
     "exception": false,
     "start_time": "2024-10-22T04:11:15.789066",
     "status": "completed"
    },
    "tags": []
   },
   "source": [
    "# Create HTML index"
   ]
  },
  {
   "cell_type": "code",
   "execution_count": 10,
   "id": "cf665672",
   "metadata": {
    "execution": {
     "iopub.execute_input": "2024-10-22T04:11:15.804275Z",
     "iopub.status.busy": "2024-10-22T04:11:15.803715Z",
     "iopub.status.idle": "2024-10-22T04:11:15.811706Z",
     "shell.execute_reply": "2024-10-22T04:11:15.811095Z"
    },
    "papermill": {
     "duration": 0.014354,
     "end_time": "2024-10-22T04:11:15.812687",
     "exception": false,
     "start_time": "2024-10-22T04:11:15.798333",
     "status": "completed"
    },
    "tags": []
   },
   "outputs": [
    {
     "name": "stdout",
     "output_type": "stream",
     "text": [
      "224  publications files modified in the last 7 days.\n"
     ]
    }
   ],
   "source": [
    "from datetime import datetime, timedelta, timezone\n",
    "from glob import glob\n",
    "import os\n",
    "\n",
    "files = glob('_build/html/*.md')\n",
    "days = 7\n",
    "now = datetime.today()\n",
    "res = []\n",
    "for fk in files:\n",
    "    stat_result = os.stat(fk).st_ctime\n",
    "    modified = datetime.fromtimestamp(stat_result, tz=timezone.utc).replace(tzinfo=None)\n",
    "    delta = now.today() - modified\n",
    "    if delta <= timedelta(days=days):\n",
    "        res.append((delta.seconds, fk))\n",
    "res = [k[1] for k in reversed(sorted(res, key=lambda x:x[1]))]\n",
    "npub = len(res)\n",
    "print(len(res), f\" publications files modified in the last {days:d} days.\")\n",
    "# [ print('\\t', k) for k in res ];"
   ]
  },
  {
   "cell_type": "code",
   "execution_count": 11,
   "id": "015de740",
   "metadata": {
    "execution": {
     "iopub.execute_input": "2024-10-22T04:11:15.823132Z",
     "iopub.status.busy": "2024-10-22T04:11:15.822604Z",
     "iopub.status.idle": "2024-10-22T04:11:15.838220Z",
     "shell.execute_reply": "2024-10-22T04:11:15.837683Z"
    },
    "papermill": {
     "duration": 0.021779,
     "end_time": "2024-10-22T04:11:15.839142",
     "exception": false,
     "start_time": "2024-10-22T04:11:15.817363",
     "status": "completed"
    },
    "tags": []
   },
   "outputs": [
    {
     "name": "stdout",
     "output_type": "stream",
     "text": [
      "8  publications in the last 7 days.\n"
     ]
    }
   ],
   "source": [
    "import datetime\n",
    "from glob import glob\n",
    "\n",
    "def get_last_n_days(lst, days=1):\n",
    "    \"\"\" Get the documents from the last n days \"\"\"\n",
    "    sorted_lst = sorted(lst, key=lambda x: x[1], reverse=True)\n",
    "    for fname, date in sorted_lst:\n",
    "        if date >= str(datetime.date.today() - datetime.timedelta(days=days)):\n",
    "            yield fname\n",
    "\n",
    "def extract_appearance_dates(lst_file):\n",
    "    dates = []\n",
    "\n",
    "    def get_date(line):\n",
    "        return line\\\n",
    "            .split('Appeared on:')[-1]\\\n",
    "            .split('</mark>')[0].strip()\n",
    "\n",
    "    for fname in lst:\n",
    "        with open(fname, 'r') as f:\n",
    "            found_date = False\n",
    "            for line in f:\n",
    "                if not found_date:\n",
    "                    if \"Appeared on\" in line:\n",
    "                        found_date = True\n",
    "                        dates.append((fname, get_date(line)))\n",
    "                else:\n",
    "                    break\n",
    "    return dates\n",
    "\n",
    "from glob import glob\n",
    "lst = glob('_build/html/*md')\n",
    "days = 7\n",
    "dates = extract_appearance_dates(lst)\n",
    "res = list(get_last_n_days(dates, days))\n",
    "npub = len(res)\n",
    "print(len(res), f\" publications in the last {days:d} days.\")"
   ]
  },
  {
   "cell_type": "code",
   "execution_count": 12,
   "id": "52ca0208",
   "metadata": {
    "execution": {
     "iopub.execute_input": "2024-10-22T04:11:15.849610Z",
     "iopub.status.busy": "2024-10-22T04:11:15.849252Z",
     "iopub.status.idle": "2024-10-22T04:11:15.854128Z",
     "shell.execute_reply": "2024-10-22T04:11:15.853581Z"
    },
    "papermill": {
     "duration": 0.01118,
     "end_time": "2024-10-22T04:11:15.855114",
     "exception": false,
     "start_time": "2024-10-22T04:11:15.843934",
     "status": "completed"
    },
    "scrolled": false,
    "tags": []
   },
   "outputs": [],
   "source": [
    "def create_carousel(npub=4):\n",
    "    \"\"\" Generate the HTML code for a carousel with `npub` slides \"\"\"\n",
    "    carousel = [\"\"\"  <div class=\"carousel\" \"\"\",\n",
    "                \"\"\"       data-flickity='{ \"autoPlay\": 10000, \"adaptiveHeight\": true, \"resize\": true, \"wrapAround\": true, \"pauseAutoPlayOnHover\": true, \"groupCells\": 1 }' id=\"asyncTypeset\">\"\"\"\n",
    "                ]\n",
    "    \n",
    "    item_str = \"\"\"    <div class=\"carousel-cell\"> <div id=\"slide{k}\" class=\"md_view\">Content {k}</div> </div>\"\"\"\n",
    "    for k in range(1, npub + 1):\n",
    "        carousel.append(item_str.format(k=k))\n",
    "    carousel.append(\"  </div>\")\n",
    "    return '\\n'.join(carousel)\n",
    "\n",
    "def create_grid(npub=4):\n",
    "    \"\"\" Generate the HTML code for a flat grid with `npub` slides \"\"\"\n",
    "    grid = [\"\"\"  <div class=\"grid\"> \"\"\",\n",
    "                ]\n",
    "    \n",
    "    item_str = \"\"\"    <div class=\"grid-item\"> <div id=\"slide{k}\" class=\"md_view\">Content {k}</div> </div>\"\"\"\n",
    "    for k in range(1, npub + 1):\n",
    "        grid.append(item_str.format(k=k))\n",
    "    grid.append(\"  </div>\")\n",
    "    return '\\n'.join(grid)"
   ]
  },
  {
   "cell_type": "code",
   "execution_count": 13,
   "id": "a6eac5b6",
   "metadata": {
    "execution": {
     "iopub.execute_input": "2024-10-22T04:11:15.865756Z",
     "iopub.status.busy": "2024-10-22T04:11:15.865324Z",
     "iopub.status.idle": "2024-10-22T04:11:15.870276Z",
     "shell.execute_reply": "2024-10-22T04:11:15.869665Z"
    },
    "papermill": {
     "duration": 0.011366,
     "end_time": "2024-10-22T04:11:15.871343",
     "exception": false,
     "start_time": "2024-10-22T04:11:15.859977",
     "status": "completed"
    },
    "scrolled": false,
    "tags": []
   },
   "outputs": [],
   "source": [
    "carousel = create_carousel(npub)\n",
    "docs = ', '.join(['\"{0:s}\"'.format(k.split('/')[-1]) for k in res])\n",
    "slides = ', '.join([f'\"slide{k}\"' for k in range(1, npub + 1)])\n",
    "\n",
    "with open(\"daily_template.html\", \"r\") as tpl:\n",
    "    page = tpl.read()\n",
    "    page = page.replace(\"{%-- carousel:s --%}\", carousel)\\\n",
    "               .replace(\"{%-- suptitle:s --%}\",  \"7-day archives\" )\\\n",
    "               .replace(\"{%-- docs:s --%}\", docs)\\\n",
    "               .replace(\"{%-- slides:s --%}\", slides)\n",
    "    \n",
    "with open(\"_build/html/index_7days.html\", 'w') as fout:\n",
    "    fout.write(page)"
   ]
  },
  {
   "cell_type": "code",
   "execution_count": 14,
   "id": "adc1a1ec",
   "metadata": {
    "execution": {
     "iopub.execute_input": "2024-10-22T04:11:15.882020Z",
     "iopub.status.busy": "2024-10-22T04:11:15.881682Z",
     "iopub.status.idle": "2024-10-22T04:11:15.888149Z",
     "shell.execute_reply": "2024-10-22T04:11:15.887483Z"
    },
    "papermill": {
     "duration": 0.012888,
     "end_time": "2024-10-22T04:11:15.889135",
     "exception": false,
     "start_time": "2024-10-22T04:11:15.876247",
     "status": "completed"
    },
    "tags": []
   },
   "outputs": [
    {
     "name": "stdout",
     "output_type": "stream",
     "text": [
      "2  publications in the last day.\n"
     ]
    }
   ],
   "source": [
    "# redo for today\n",
    "days = 1\n",
    "res = list(get_last_n_days(dates, days))\n",
    "npub = len(res)\n",
    "print(len(res), f\" publications in the last day.\")\n",
    "\n",
    "carousel = create_carousel(npub)\n",
    "docs = ', '.join(['\"{0:s}\"'.format(k.split('/')[-1]) for k in res])\n",
    "slides = ', '.join([f'\"slide{k}\"' for k in range(1, npub + 1)])\n",
    "\n",
    "with open(\"daily_template.html\", \"r\") as tpl:\n",
    "    page = tpl.read()\n",
    "    page = page.replace(\"{%-- carousel:s --%}\", carousel)\\\n",
    "               .replace(\"{%-- suptitle:s --%}\",  \"Daily\" )\\\n",
    "               .replace(\"{%-- docs:s --%}\", docs)\\\n",
    "               .replace(\"{%-- slides:s --%}\", slides)\n",
    "    \n",
    "# print(carousel, docs, slides)\n",
    "# print(page)\n",
    "with open(\"_build/html/index_daily.html\", 'w') as fout:\n",
    "    fout.write(page)"
   ]
  },
  {
   "cell_type": "code",
   "execution_count": 15,
   "id": "00eece82",
   "metadata": {
    "execution": {
     "iopub.execute_input": "2024-10-22T04:11:15.900121Z",
     "iopub.status.busy": "2024-10-22T04:11:15.899598Z",
     "iopub.status.idle": "2024-10-22T04:11:15.905928Z",
     "shell.execute_reply": "2024-10-22T04:11:15.905317Z"
    },
    "papermill": {
     "duration": 0.012898,
     "end_time": "2024-10-22T04:11:15.906976",
     "exception": false,
     "start_time": "2024-10-22T04:11:15.894078",
     "status": "completed"
    },
    "scrolled": false,
    "tags": []
   },
   "outputs": [
    {
     "name": "stdout",
     "output_type": "stream",
     "text": [
      "6  6 publications selected.\n"
     ]
    }
   ],
   "source": [
    "# Create the flat grid of the last N papers (fixed number regardless of dates)\n",
    "from itertools import islice \n",
    "\n",
    "npub = 6\n",
    "res = [k[0] for k in (islice(reversed(sorted(dates, key=lambda x: x[1])), 6))]\n",
    "print(len(res), f\" {npub} publications selected.\")\n",
    "\n",
    "grid = create_grid(npub)\n",
    "docs = ', '.join(['\"{0:s}\"'.format(k.split('/')[-1]) for k in res])\n",
    "slides = ', '.join([f'\"slide{k}\"' for k in range(1, npub + 1)])\n",
    "\n",
    "with open(\"grid_template.html\", \"r\") as tpl:\n",
    "    page = tpl.read()\n",
    "    page = page.replace(\"{%-- grid-content:s --%}\", grid)\\\n",
    "               .replace(\"{%-- suptitle:s --%}\",  f\"Last {npub:,d} papers\" )\\\n",
    "               .replace(\"{%-- docs:s --%}\", docs)\\\n",
    "               .replace(\"{%-- slides:s --%}\", slides)\n",
    "    \n",
    "# print(grid, docs, slides)\n",
    "# print(page)\n",
    "with open(\"_build/html/index_npub_grid.html\", 'w') as fout:\n",
    "    fout.write(page)"
   ]
  }
 ],
 "metadata": {
  "kernelspec": {
   "display_name": "Python 3 (ipykernel)",
   "language": "python",
   "name": "python3"
  },
  "language_info": {
   "codemirror_mode": {
    "name": "ipython",
    "version": 3
   },
   "file_extension": ".py",
   "mimetype": "text/x-python",
   "name": "python",
   "nbconvert_exporter": "python",
   "pygments_lexer": "ipython3",
   "version": "3.9.20"
  },
  "papermill": {
   "default_parameters": {},
   "duration": 48.084691,
   "end_time": "2024-10-22T04:11:16.127834",
   "environment_variables": {},
   "exception": null,
   "input_path": "MPIA daily digest.ipynb",
   "output_path": "log.ipynb",
   "parameters": {},
   "start_time": "2024-10-22T04:10:28.043143",
   "version": "2.6.0"
  },
  "vscode": {
   "interpreter": {
    "hash": "aee8b7b246df8f9039afb4144a1f6fd8d2ca17a180786b69acc140d282b71a49"
   }
  },
  "widgets": {
   "application/vnd.jupyter.widget-state+json": {
    "state": {
     "13b43adede20464b89378d410308d53f": {
      "model_module": "@jupyter-widgets/controls",
      "model_module_version": "2.0.0",
      "model_name": "HTMLStyleModel",
      "state": {
       "_model_module": "@jupyter-widgets/controls",
       "_model_module_version": "2.0.0",
       "_model_name": "HTMLStyleModel",
       "_view_count": null,
       "_view_module": "@jupyter-widgets/base",
       "_view_module_version": "2.0.0",
       "_view_name": "StyleView",
       "background": null,
       "description_width": "",
       "font_size": null,
       "text_color": null
      }
     },
     "159a9092bc6e4517a40e87ce9e01af45": {
      "model_module": "@jupyter-widgets/base",
      "model_module_version": "2.0.0",
      "model_name": "LayoutModel",
      "state": {
       "_model_module": "@jupyter-widgets/base",
       "_model_module_version": "2.0.0",
       "_model_name": "LayoutModel",
       "_view_count": null,
       "_view_module": "@jupyter-widgets/base",
       "_view_module_version": "2.0.0",
       "_view_name": "LayoutView",
       "align_content": null,
       "align_items": null,
       "align_self": null,
       "border_bottom": null,
       "border_left": null,
       "border_right": null,
       "border_top": null,
       "bottom": null,
       "display": null,
       "flex": null,
       "flex_flow": null,
       "grid_area": null,
       "grid_auto_columns": null,
       "grid_auto_flow": null,
       "grid_auto_rows": null,
       "grid_column": null,
       "grid_gap": null,
       "grid_row": null,
       "grid_template_areas": null,
       "grid_template_columns": null,
       "grid_template_rows": null,
       "height": null,
       "justify_content": null,
       "justify_items": null,
       "left": null,
       "margin": null,
       "max_height": null,
       "max_width": null,
       "min_height": null,
       "min_width": null,
       "object_fit": null,
       "object_position": null,
       "order": null,
       "overflow": null,
       "padding": null,
       "right": null,
       "top": null,
       "visibility": null,
       "width": null
      }
     },
     "18d6e94a395a4b5d99e366e3670acf7a": {
      "model_module": "@jupyter-widgets/controls",
      "model_module_version": "2.0.0",
      "model_name": "HTMLModel",
      "state": {
       "_dom_classes": [],
       "_model_module": "@jupyter-widgets/controls",
       "_model_module_version": "2.0.0",
       "_model_name": "HTMLModel",
       "_view_count": null,
       "_view_module": "@jupyter-widgets/controls",
       "_view_module_version": "2.0.0",
       "_view_name": "HTMLView",
       "description": "",
       "description_allow_html": false,
       "layout": "IPY_MODEL_159a9092bc6e4517a40e87ce9e01af45",
       "placeholder": "​",
       "style": "IPY_MODEL_a73daecd3aba4d38abdc7166478f56dc",
       "tabbable": null,
       "tooltip": null,
       "value": "100%"
      }
     },
     "265a7e92878946d992e355340e54da6c": {
      "model_module": "@jupyter-widgets/base",
      "model_module_version": "2.0.0",
      "model_name": "LayoutModel",
      "state": {
       "_model_module": "@jupyter-widgets/base",
       "_model_module_version": "2.0.0",
       "_model_name": "LayoutModel",
       "_view_count": null,
       "_view_module": "@jupyter-widgets/base",
       "_view_module_version": "2.0.0",
       "_view_name": "LayoutView",
       "align_content": null,
       "align_items": null,
       "align_self": null,
       "border_bottom": null,
       "border_left": null,
       "border_right": null,
       "border_top": null,
       "bottom": null,
       "display": null,
       "flex": null,
       "flex_flow": null,
       "grid_area": null,
       "grid_auto_columns": null,
       "grid_auto_flow": null,
       "grid_auto_rows": null,
       "grid_column": null,
       "grid_gap": null,
       "grid_row": null,
       "grid_template_areas": null,
       "grid_template_columns": null,
       "grid_template_rows": null,
       "height": null,
       "justify_content": null,
       "justify_items": null,
       "left": null,
       "margin": null,
       "max_height": null,
       "max_width": null,
       "min_height": null,
       "min_width": null,
       "object_fit": null,
       "object_position": null,
       "order": null,
       "overflow": null,
       "padding": null,
       "right": null,
       "top": null,
       "visibility": null,
       "width": null
      }
     },
     "580bb61edae548e4965869ba8f2e8c6e": {
      "model_module": "@jupyter-widgets/base",
      "model_module_version": "2.0.0",
      "model_name": "LayoutModel",
      "state": {
       "_model_module": "@jupyter-widgets/base",
       "_model_module_version": "2.0.0",
       "_model_name": "LayoutModel",
       "_view_count": null,
       "_view_module": "@jupyter-widgets/base",
       "_view_module_version": "2.0.0",
       "_view_name": "LayoutView",
       "align_content": null,
       "align_items": null,
       "align_self": null,
       "border_bottom": null,
       "border_left": null,
       "border_right": null,
       "border_top": null,
       "bottom": null,
       "display": null,
       "flex": null,
       "flex_flow": null,
       "grid_area": null,
       "grid_auto_columns": null,
       "grid_auto_flow": null,
       "grid_auto_rows": null,
       "grid_column": null,
       "grid_gap": null,
       "grid_row": null,
       "grid_template_areas": null,
       "grid_template_columns": null,
       "grid_template_rows": null,
       "height": null,
       "justify_content": null,
       "justify_items": null,
       "left": null,
       "margin": null,
       "max_height": null,
       "max_width": null,
       "min_height": null,
       "min_width": null,
       "object_fit": null,
       "object_position": null,
       "order": null,
       "overflow": null,
       "padding": null,
       "right": null,
       "top": null,
       "visibility": null,
       "width": null
      }
     },
     "a51c09c4c42945629313a77140608dee": {
      "model_module": "@jupyter-widgets/controls",
      "model_module_version": "2.0.0",
      "model_name": "ProgressStyleModel",
      "state": {
       "_model_module": "@jupyter-widgets/controls",
       "_model_module_version": "2.0.0",
       "_model_name": "ProgressStyleModel",
       "_view_count": null,
       "_view_module": "@jupyter-widgets/base",
       "_view_module_version": "2.0.0",
       "_view_name": "StyleView",
       "bar_color": null,
       "description_width": ""
      }
     },
     "a73daecd3aba4d38abdc7166478f56dc": {
      "model_module": "@jupyter-widgets/controls",
      "model_module_version": "2.0.0",
      "model_name": "HTMLStyleModel",
      "state": {
       "_model_module": "@jupyter-widgets/controls",
       "_model_module_version": "2.0.0",
       "_model_name": "HTMLStyleModel",
       "_view_count": null,
       "_view_module": "@jupyter-widgets/base",
       "_view_module_version": "2.0.0",
       "_view_name": "StyleView",
       "background": null,
       "description_width": "",
       "font_size": null,
       "text_color": null
      }
     },
     "af8607f9930e4d19a557ebd6ddb715c4": {
      "model_module": "@jupyter-widgets/base",
      "model_module_version": "2.0.0",
      "model_name": "LayoutModel",
      "state": {
       "_model_module": "@jupyter-widgets/base",
       "_model_module_version": "2.0.0",
       "_model_name": "LayoutModel",
       "_view_count": null,
       "_view_module": "@jupyter-widgets/base",
       "_view_module_version": "2.0.0",
       "_view_name": "LayoutView",
       "align_content": null,
       "align_items": null,
       "align_self": null,
       "border_bottom": null,
       "border_left": null,
       "border_right": null,
       "border_top": null,
       "bottom": null,
       "display": null,
       "flex": null,
       "flex_flow": null,
       "grid_area": null,
       "grid_auto_columns": null,
       "grid_auto_flow": null,
       "grid_auto_rows": null,
       "grid_column": null,
       "grid_gap": null,
       "grid_row": null,
       "grid_template_areas": null,
       "grid_template_columns": null,
       "grid_template_rows": null,
       "height": null,
       "justify_content": null,
       "justify_items": null,
       "left": null,
       "margin": null,
       "max_height": null,
       "max_width": null,
       "min_height": null,
       "min_width": null,
       "object_fit": null,
       "object_position": null,
       "order": null,
       "overflow": null,
       "padding": null,
       "right": null,
       "top": null,
       "visibility": null,
       "width": null
      }
     },
     "d1381efa653e4164ad1890483f6969c0": {
      "model_module": "@jupyter-widgets/controls",
      "model_module_version": "2.0.0",
      "model_name": "HTMLModel",
      "state": {
       "_dom_classes": [],
       "_model_module": "@jupyter-widgets/controls",
       "_model_module_version": "2.0.0",
       "_model_name": "HTMLModel",
       "_view_count": null,
       "_view_module": "@jupyter-widgets/controls",
       "_view_module_version": "2.0.0",
       "_view_name": "HTMLView",
       "description": "",
       "description_allow_html": false,
       "layout": "IPY_MODEL_265a7e92878946d992e355340e54da6c",
       "placeholder": "​",
       "style": "IPY_MODEL_13b43adede20464b89378d410308d53f",
       "tabbable": null,
       "tooltip": null,
       "value": " 4/4 [00:28&lt;00:00,  7.82s/it]"
      }
     },
     "d98acba31dcc41a6a99190493a448868": {
      "model_module": "@jupyter-widgets/controls",
      "model_module_version": "2.0.0",
      "model_name": "HBoxModel",
      "state": {
       "_dom_classes": [],
       "_model_module": "@jupyter-widgets/controls",
       "_model_module_version": "2.0.0",
       "_model_name": "HBoxModel",
       "_view_count": null,
       "_view_module": "@jupyter-widgets/controls",
       "_view_module_version": "2.0.0",
       "_view_name": "HBoxView",
       "box_style": "",
       "children": [
        "IPY_MODEL_18d6e94a395a4b5d99e366e3670acf7a",
        "IPY_MODEL_e5f4836e782f417e87cefb8ca9a10008",
        "IPY_MODEL_d1381efa653e4164ad1890483f6969c0"
       ],
       "layout": "IPY_MODEL_af8607f9930e4d19a557ebd6ddb715c4",
       "tabbable": null,
       "tooltip": null
      }
     },
     "e5f4836e782f417e87cefb8ca9a10008": {
      "model_module": "@jupyter-widgets/controls",
      "model_module_version": "2.0.0",
      "model_name": "FloatProgressModel",
      "state": {
       "_dom_classes": [],
       "_model_module": "@jupyter-widgets/controls",
       "_model_module_version": "2.0.0",
       "_model_name": "FloatProgressModel",
       "_view_count": null,
       "_view_module": "@jupyter-widgets/controls",
       "_view_module_version": "2.0.0",
       "_view_name": "ProgressView",
       "bar_style": "success",
       "description": "",
       "description_allow_html": false,
       "layout": "IPY_MODEL_580bb61edae548e4965869ba8f2e8c6e",
       "max": 4.0,
       "min": 0.0,
       "orientation": "horizontal",
       "style": "IPY_MODEL_a51c09c4c42945629313a77140608dee",
       "tabbable": null,
       "tooltip": null,
       "value": 4.0
      }
     }
    },
    "version_major": 2,
    "version_minor": 0
   }
  }
 },
 "nbformat": 4,
 "nbformat_minor": 5
}