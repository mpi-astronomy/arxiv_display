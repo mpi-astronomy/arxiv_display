{
 "cells": [
  {
   "cell_type": "markdown",
   "id": "92bcb855",
   "metadata": {
    "papermill": {
     "duration": 0.004438,
     "end_time": "2023-03-14T04:08:26.592953",
     "exception": false,
     "start_time": "2023-03-14T04:08:26.588515",
     "status": "completed"
    },
    "tags": []
   },
   "source": [
    "# MPIA Arxiv on Deck 2\n",
    "\n",
    "Contains the steps to produce the paper extractions."
   ]
  },
  {
   "cell_type": "code",
   "execution_count": 1,
   "id": "3a0d6e11",
   "metadata": {
    "execution": {
     "iopub.execute_input": "2023-03-14T04:08:26.601509Z",
     "iopub.status.busy": "2023-03-14T04:08:26.600862Z",
     "iopub.status.idle": "2023-03-14T04:08:26.815942Z",
     "shell.execute_reply": "2023-03-14T04:08:26.815328Z"
    },
    "papermill": {
     "duration": 0.22119,
     "end_time": "2023-03-14T04:08:26.817739",
     "exception": false,
     "start_time": "2023-03-14T04:08:26.596549",
     "status": "completed"
    },
    "tags": []
   },
   "outputs": [],
   "source": [
    "# Imports\n",
    "import os\n",
    "from IPython.display import Markdown, display\n",
    "from tqdm.notebook import tqdm\n",
    "import warnings\n",
    "from PIL import Image \n",
    "\n",
    "# requires arxiv_on_deck_2\n",
    "\n",
    "from arxiv_on_deck_2.arxiv2 import (get_new_papers, \n",
    "                                    get_paper_from_identifier,\n",
    "                                    retrieve_document_source, \n",
    "                                    get_markdown_badge)\n",
    "from arxiv_on_deck_2 import (latex,\n",
    "                             latex_bib,\n",
    "                             mpia,\n",
    "                             highlight_authors_in_list)\n",
    "\n",
    "# Sometimes images are really big\n",
    "Image.MAX_IMAGE_PIXELS = 1000000000 "
   ]
  },
  {
   "cell_type": "code",
   "execution_count": 2,
   "id": "22aa9d44",
   "metadata": {
    "execution": {
     "iopub.execute_input": "2023-03-14T04:08:26.826288Z",
     "iopub.status.busy": "2023-03-14T04:08:26.825736Z",
     "iopub.status.idle": "2023-03-14T04:08:26.830469Z",
     "shell.execute_reply": "2023-03-14T04:08:26.829796Z"
    },
    "papermill": {
     "duration": 0.010644,
     "end_time": "2023-03-14T04:08:26.832025",
     "exception": false,
     "start_time": "2023-03-14T04:08:26.821381",
     "status": "completed"
    },
    "tags": []
   },
   "outputs": [],
   "source": [
    "# Some useful definitions.\n",
    "\n",
    "class AffiliationWarning(UserWarning):\n",
    "    pass\n",
    "\n",
    "class AffiliationError(RuntimeError):\n",
    "    pass\n",
    "\n",
    "def validation(source: str):\n",
    "    \"\"\"Raises error paper during parsing of source file\n",
    "    \n",
    "    Allows checks before parsing TeX code.\n",
    "    \n",
    "    Raises AffiliationWarning\n",
    "    \"\"\"\n",
    "    check = mpia.affiliation_verifications(source, verbose=True)\n",
    "    if check is not True:\n",
    "        raise AffiliationError(\"mpia.affiliation_verifications: \" + check)\n",
    "\n",
    "        \n",
    "warnings.simplefilter('always', AffiliationWarning)"
   ]
  },
  {
   "cell_type": "code",
   "execution_count": 3,
   "id": "14622700",
   "metadata": {
    "execution": {
     "iopub.execute_input": "2023-03-14T04:08:26.839833Z",
     "iopub.status.busy": "2023-03-14T04:08:26.839346Z",
     "iopub.status.idle": "2023-03-14T04:08:26.842890Z",
     "shell.execute_reply": "2023-03-14T04:08:26.842291Z"
    },
    "papermill": {
     "duration": 0.00922,
     "end_time": "2023-03-14T04:08:26.844536",
     "exception": false,
     "start_time": "2023-03-14T04:08:26.835316",
     "status": "completed"
    },
    "tags": []
   },
   "outputs": [],
   "source": [
    "# additional CSS to consider. \n",
    "# TODO: Current into each exported file. \n",
    "#       This should be set once into the webpages directly.\n",
    "#       With only the class/id definitions in the .md files.\n",
    "\n",
    "debug_html = \"\"\"\n",
    "<style>\n",
    "#wrap{ overflow:auto; }\n",
    "#fig1{ background:yellow; width:100%; float:left; padding:5px;  }\n",
    "#fig2{ background:red; width:50%; float:left; clear:left; padding:5px;  }\n",
    "#fig3{ background:green; width:50%; float:left; padding:5px;   }\n",
    ".macros{ background:yellow; visibility:visible;}\n",
    "h1 {margin: 0 0 0 0;}\n",
    "mark {background-color:#fff3b6;}\n",
    "img {object-fit:contain; max-height:250px; display:inline-block; text-align: center;}\n",
    "</style>\n",
    "\"\"\" \n",
    "html = \"\"\"\n",
    "<style>\n",
    "#wrap{ overflow:auto; }\n",
    "#fig1{ width:100%; float:left; padding: 5px;  }\n",
    "#fig2{ width:50%; float:left; clear:left; padding: 5px;  }\n",
    "#fig3{ width:50%; float:left; padding: 5px;  }\n",
    ".macros{ visibility:hidden; height:0px; }\n",
    "h1 {margin: 0em 0 0 0;}\n",
    "mark {background-color:#fff3b6;}\n",
    "img {object-fit:contain; max-height:250px; display:inline-block; text-align: center;}\n",
    "</style>\n",
    "\"\"\""
   ]
  },
  {
   "cell_type": "markdown",
   "id": "14bd6310",
   "metadata": {
    "papermill": {
     "duration": 0.003257,
     "end_time": "2023-03-14T04:08:26.851169",
     "exception": false,
     "start_time": "2023-03-14T04:08:26.847912",
     "status": "completed"
    },
    "tags": []
   },
   "source": [
    "## get list of arxiv paper candidates\n",
    "\n",
    "We use the MPIA mitarbeiter list webpage from mpia.de to get author names\n",
    "We then get all new papers from Arxiv and match authors"
   ]
  },
  {
   "cell_type": "code",
   "execution_count": 4,
   "id": "2645e73a",
   "metadata": {
    "execution": {
     "iopub.execute_input": "2023-03-14T04:08:26.859168Z",
     "iopub.status.busy": "2023-03-14T04:08:26.858547Z",
     "iopub.status.idle": "2023-03-14T04:08:54.025035Z",
     "shell.execute_reply": "2023-03-14T04:08:54.024318Z"
    },
    "papermill": {
     "duration": 27.172948,
     "end_time": "2023-03-14T04:08:54.027407",
     "exception": false,
     "start_time": "2023-03-14T04:08:26.854459",
     "status": "completed"
    },
    "tags": []
   },
   "outputs": [
    {
     "name": "stdout",
     "output_type": "stream",
     "text": [
      "Arxiv has 60 new papers today\n",
      "          18 with possible author matches\n"
     ]
    }
   ],
   "source": [
    "# get list from MPIA website\n",
    "# it automatically filters identified non-scientists :func:`mpia.filter_non_scientists`\n",
    "mpia_authors = mpia.get_mpia_mitarbeiter_list()\n",
    "new_papers = get_new_papers()\n",
    "# add manual references\n",
    "add_paper_refs = []\n",
    "new_papers.extend([get_paper_from_identifier(k) for k in add_paper_refs])\n",
    "\n",
    "# select only papers with matching author names and highlight authors\n",
    "hl_list = [k[0] for k in mpia_authors]\n",
    "\n",
    "candidates = []\n",
    "for paperk in new_papers:\n",
    "    hl_authors = highlight_authors_in_list(paperk['authors'], hl_list)\n",
    "    matches = [(hl, orig) for hl, orig in zip(hl_authors, paperk['authors']) if 'mark' in hl]\n",
    "    paperk['authors'] = hl_authors\n",
    "    if matches:\n",
    "        candidates.append(paperk)\n",
    "print(\"\"\"Arxiv has {0:,d} new papers today\"\"\".format(len(new_papers)))        \n",
    "print(\"\"\"          {0:,d} with possible author matches\"\"\".format(len(candidates)))"
   ]
  },
  {
   "cell_type": "markdown",
   "id": "3543b34a",
   "metadata": {
    "papermill": {
     "duration": 0.003716,
     "end_time": "2023-03-14T04:08:54.034857",
     "exception": false,
     "start_time": "2023-03-14T04:08:54.031141",
     "status": "completed"
    },
    "tags": []
   },
   "source": [
    "# Parse sources and generate relevant outputs\n",
    "\n",
    "From the candidates, we do the following steps:\n",
    "* get their tarball from ArXiv (and extract data)\n",
    "* find the main .tex file: find one with \\documentclass{...} (sometimes it's non trivial)\n",
    "* Check affiliations with :func:`validation`, which uses :func:`mpia.affiliation_verifications`\n",
    "* If passing the affiliations: we parse the .tex source\n",
    "   * inject sub-documents into the main (flatten the main document)\n",
    "   * parse structure, extract information (title, abstract, authors, figures...)\n",
    "   * handles `\\graphicspath` if provided\n",
    "* Generate the .md document."
   ]
  },
  {
   "cell_type": "code",
   "execution_count": 5,
   "id": "9576b79e",
   "metadata": {
    "execution": {
     "iopub.execute_input": "2023-03-14T04:08:54.043135Z",
     "iopub.status.busy": "2023-03-14T04:08:54.042647Z",
     "iopub.status.idle": "2023-03-14T04:10:24.751067Z",
     "shell.execute_reply": "2023-03-14T04:10:24.750383Z"
    },
    "papermill": {
     "duration": 90.714672,
     "end_time": "2023-03-14T04:10:24.752949",
     "exception": false,
     "start_time": "2023-03-14T04:08:54.038277",
     "status": "completed"
    },
    "scrolled": false,
    "tags": []
   },
   "outputs": [
    {
     "data": {
      "application/vnd.jupyter.widget-view+json": {
       "model_id": "08206f4f96004bbd8634d55b8a2186c0",
       "version_major": 2,
       "version_minor": 0
      },
      "text/plain": [
       "  0%|          | 0/17 [00:00<?, ?it/s]"
      ]
     },
     "metadata": {},
     "output_type": "display_data"
    },
    {
     "name": "stdout",
     "output_type": "stream",
     "text": [
      "Retrieving document from  https://arxiv.org/e-print/2303.06249\n"
     ]
    },
    {
     "name": "stdout",
     "output_type": "stream",
     "text": [
      "extracting tarball to tmp_2303.06249..."
     ]
    },
    {
     "name": "stdout",
     "output_type": "stream",
     "text": [
      " done.\n",
      "Retrieving document from  https://arxiv.org/e-print/2303.06393\n"
     ]
    },
    {
     "name": "stdout",
     "output_type": "stream",
     "text": [
      "extracting tarball to tmp_2303.06393..."
     ]
    },
    {
     "name": "stdout",
     "output_type": "stream",
     "text": [
      " done.\n",
      "Retrieving document from  https://arxiv.org/e-print/2303.06399\n"
     ]
    },
    {
     "name": "stderr",
     "output_type": "stream",
     "text": [
      "/opt/hostedtoolcache/Python/3.9.16/x64/lib/python3.9/site-packages/IPython/core/interactiveshell.py:3460: LatexWarning: Multiple tex files.\n",
      "\n",
      "  exec(code_obj, self.user_global_ns, self.user_ns)\n",
      "/opt/hostedtoolcache/Python/3.9.16/x64/lib/python3.9/site-packages/IPython/core/interactiveshell.py:3460: LatexWarning: Found documentclass in tmp_2303.06393/paper.tex\n",
      "\n",
      "  exec(code_obj, self.user_global_ns, self.user_ns)\n"
     ]
    },
    {
     "name": "stdout",
     "output_type": "stream",
     "text": [
      "extracting tarball to tmp_2303.06399..."
     ]
    },
    {
     "name": "stdout",
     "output_type": "stream",
     "text": [
      " done.\n",
      "Retrieving document from  https://arxiv.org/e-print/2303.06453\n"
     ]
    },
    {
     "name": "stderr",
     "output_type": "stream",
     "text": [
      "/tmp/ipykernel_2011/4289671964.py:41: LatexWarning: 2303.06453 did not run properly\n",
      "not a gzip file\n",
      "  warnings.warn(latex.LatexWarning(f\"{paper_id:s} did not run properly\\n\" +\n"
     ]
    },
    {
     "name": "stdout",
     "output_type": "stream",
     "text": [
      "Retrieving document from  https://arxiv.org/e-print/2303.06465\n"
     ]
    },
    {
     "name": "stdout",
     "output_type": "stream",
     "text": [
      "extracting tarball to tmp_2303.06465..."
     ]
    },
    {
     "name": "stdout",
     "output_type": "stream",
     "text": [
      " done.\n",
      "Retrieving document from  https://arxiv.org/e-print/2303.06523\n"
     ]
    },
    {
     "name": "stdout",
     "output_type": "stream",
     "text": [
      "extracting tarball to tmp_2303.06523..."
     ]
    },
    {
     "name": "stdout",
     "output_type": "stream",
     "text": [
      " done.\n",
      "Retrieving document from  https://arxiv.org/e-print/2303.06592\n"
     ]
    },
    {
     "name": "stderr",
     "output_type": "stream",
     "text": [
      "/opt/hostedtoolcache/Python/3.9.16/x64/lib/python3.9/site-packages/IPython/core/interactiveshell.py:3460: LatexWarning: Multiple tex files.\n",
      "\n",
      "  exec(code_obj, self.user_global_ns, self.user_ns)\n",
      "/opt/hostedtoolcache/Python/3.9.16/x64/lib/python3.9/site-packages/IPython/core/interactiveshell.py:3460: LatexWarning: Found documentclass in tmp_2303.06523/main.tex\n",
      "\n",
      "  exec(code_obj, self.user_global_ns, self.user_ns)\n",
      "/opt/hostedtoolcache/Python/3.9.16/x64/lib/python3.9/site-packages/arxiv_on_deck_2/latex.py:361: LatexWarning: Latex injecting: 'tab_esi' from 'tmp_2303.06523/tab_esi.tex'\n",
      "  warnings.warn(LatexWarning(f\"Latex injecting: '{ext}' from '{subsource}'\"))\n",
      "/opt/hostedtoolcache/Python/3.9.16/x64/lib/python3.9/site-packages/arxiv_on_deck_2/latex.py:361: LatexWarning: Latex injecting: 'tab_hostpars' from 'tmp_2303.06523/tab_hostpars.tex'\n",
      "  warnings.warn(LatexWarning(f\"Latex injecting: '{ext}' from '{subsource}'\"))\n",
      "/opt/hostedtoolcache/Python/3.9.16/x64/lib/python3.9/site-packages/arxiv_on_deck_2/latex.py:361: LatexWarning: Latex injecting: 'tab_lc_pars' from 'tmp_2303.06523/tab_lc_pars.tex'\n",
      "  warnings.warn(LatexWarning(f\"Latex injecting: '{ext}' from '{subsource}'\"))\n",
      "/opt/hostedtoolcache/Python/3.9.16/x64/lib/python3.9/site-packages/arxiv_on_deck_2/latex.py:361: LatexWarning: Latex injecting: 'tab_info' from 'tmp_2303.06523/tab_info.tex'\n",
      "  warnings.warn(LatexWarning(f\"Latex injecting: '{ext}' from '{subsource}'\"))\n"
     ]
    },
    {
     "name": "stdout",
     "output_type": "stream",
     "text": [
      "extracting tarball to tmp_2303.06592..."
     ]
    },
    {
     "name": "stdout",
     "output_type": "stream",
     "text": [
      " done.\n"
     ]
    },
    {
     "name": "stderr",
     "output_type": "stream",
     "text": [
      "/opt/hostedtoolcache/Python/3.9.16/x64/lib/python3.9/site-packages/IPython/core/interactiveshell.py:3460: LatexWarning: Multiple tex files.\n",
      "\n",
      "  exec(code_obj, self.user_global_ns, self.user_ns)\n",
      "/opt/hostedtoolcache/Python/3.9.16/x64/lib/python3.9/site-packages/IPython/core/interactiveshell.py:3460: LatexWarning: Found documentclass in tmp_2303.06592/aanda.tex\n",
      "\n",
      "  exec(code_obj, self.user_global_ns, self.user_ns)\n"
     ]
    },
    {
     "name": "stderr",
     "output_type": "stream",
     "text": [
      "/tmp/ipykernel_2011/4289671964.py:41: LatexWarning: 2303.06592 did not run properly\n",
      "Unable to get page count.\n",
      "Syntax Warning: May not be a PDF file (continuing anyway)\n",
      "Syntax Error: Couldn't find trailer dictionary\n",
      "Syntax Error: Couldn't find trailer dictionary\n",
      "Syntax Error: Couldn't read xref table\n",
      "\n",
      "  warnings.warn(latex.LatexWarning(f\"{paper_id:s} did not run properly\\n\" +\n"
     ]
    },
    {
     "name": "stdout",
     "output_type": "stream",
     "text": [
      "Retrieving document from  https://arxiv.org/e-print/2303.06616\n"
     ]
    },
    {
     "name": "stdout",
     "output_type": "stream",
     "text": [
      "extracting tarball to tmp_2303.06616..."
     ]
    },
    {
     "name": "stdout",
     "output_type": "stream",
     "text": [
      " done.\n",
      "Retrieving document from  https://arxiv.org/e-print/2303.06650\n"
     ]
    },
    {
     "name": "stdout",
     "output_type": "stream",
     "text": [
      "extracting tarball to tmp_2303.06650..."
     ]
    },
    {
     "name": "stdout",
     "output_type": "stream",
     "text": [
      " done.\n"
     ]
    },
    {
     "name": "stderr",
     "output_type": "stream",
     "text": [
      "/opt/hostedtoolcache/Python/3.9.16/x64/lib/python3.9/site-packages/arxiv_on_deck_2/latex.py:435: LatexWarning: Error parsing the document directly. Trying to recover.\n",
      "  warnings.warn(LatexWarning(f\"Error parsing the document directly. Trying to recover.\"))\n"
     ]
    },
    {
     "name": "stdout",
     "output_type": "stream",
     "text": [
      "✔ → 0:header\n",
      "  ↳ 2301:\\section{Introduction}\n",
      "✔ → 2301:\\section{Introduction}\n",
      "  ↳ 10875:\\section{Methodology}\n"
     ]
    },
    {
     "name": "stdout",
     "output_type": "stream",
     "text": [
      "✘ → 10875:\\section{Methodology}\n",
      "  ↳ 29230:\\section{Spectral properties}\\label{sec:spec}\n",
      "✔ → 29230:\\section{Spectral properties}\\label{sec:spec}\n",
      "  ↳ 32472:\\section{Intensity maps \\& profiles} \\label{sec:Insten}\n"
     ]
    },
    {
     "name": "stdout",
     "output_type": "stream",
     "text": [
      "✔ → 32472:\\section{Intensity maps \\& profiles} \\label{sec:Insten}\n",
      "  ↳ 42760:\\section{Comparison study}  \\label{sec:Comp}\n",
      "✔ → 42760:\\section{Comparison study}  \\label{sec:Comp}\n",
      "  ↳ 45855:\\section{Discussion and Conclusions}\\label{sec:Conclu}\n"
     ]
    },
    {
     "name": "stdout",
     "output_type": "stream",
     "text": [
      "✔ → 45855:\\section{Discussion and Conclusions}\\label{sec:Conclu}\n",
      "  ↳ 52812:\\section{Emission maps and profiles for 345 GHz and 700 GHz}\n",
      "✔ → 52812:\\section{Emission maps and profiles for 345 GHz and 700 GHz}\n",
      "  ↳ 54126:end\n"
     ]
    },
    {
     "name": "stdout",
     "output_type": "stream",
     "text": [
      "Found 55 bibliographic references in tmp_2303.06650/M87SgrA.bbl.\n",
      "Retrieving document from  https://arxiv.org/e-print/2303.06667\n"
     ]
    },
    {
     "name": "stdout",
     "output_type": "stream",
     "text": [
      "extracting tarball to tmp_2303.06667..."
     ]
    },
    {
     "name": "stdout",
     "output_type": "stream",
     "text": [
      " done.\n",
      "Retrieving document from  https://arxiv.org/e-print/2303.06728\n"
     ]
    },
    {
     "name": "stdout",
     "output_type": "stream",
     "text": [
      "extracting tarball to tmp_2303.06728..."
     ]
    },
    {
     "name": "stdout",
     "output_type": "stream",
     "text": [
      " done.\n",
      "Retrieving document from  https://arxiv.org/e-print/2303.06733\n"
     ]
    },
    {
     "name": "stdout",
     "output_type": "stream",
     "text": [
      "extracting tarball to tmp_2303.06733..."
     ]
    },
    {
     "name": "stdout",
     "output_type": "stream",
     "text": [
      " done.\n",
      "Retrieving document from  https://arxiv.org/e-print/2303.06909\n"
     ]
    },
    {
     "name": "stdout",
     "output_type": "stream",
     "text": [
      "extracting tarball to tmp_2303.06909..."
     ]
    },
    {
     "name": "stdout",
     "output_type": "stream",
     "text": [
      " done.\n",
      "Retrieving document from  https://arxiv.org/e-print/2303.07049\n"
     ]
    },
    {
     "name": "stderr",
     "output_type": "stream",
     "text": [
      "/opt/hostedtoolcache/Python/3.9.16/x64/lib/python3.9/site-packages/IPython/core/interactiveshell.py:3460: LatexWarning: Multiple tex files.\n",
      "\n",
      "  exec(code_obj, self.user_global_ns, self.user_ns)\n",
      "/opt/hostedtoolcache/Python/3.9.16/x64/lib/python3.9/site-packages/IPython/core/interactiveshell.py:3460: LatexWarning: Found documentclass in tmp_2303.06909/main.tex\n",
      "\n",
      "  exec(code_obj, self.user_global_ns, self.user_ns)\n",
      "/opt/hostedtoolcache/Python/3.9.16/x64/lib/python3.9/site-packages/arxiv_on_deck_2/latex.py:361: LatexWarning: Latex injecting: 'references.tex' from 'tmp_2303.06909/references.tex'\n",
      "  warnings.warn(LatexWarning(f\"Latex injecting: '{ext}' from '{subsource}'\"))\n",
      "/opt/hostedtoolcache/Python/3.9.16/x64/lib/python3.9/site-packages/arxiv_on_deck_2/latex.py:361: LatexWarning: Latex injecting: 'galaxies.tex' from 'tmp_2303.06909/galaxies.tex'\n",
      "  warnings.warn(LatexWarning(f\"Latex injecting: '{ext}' from '{subsource}'\"))\n",
      "/opt/hostedtoolcache/Python/3.9.16/x64/lib/python3.9/site-packages/arxiv_on_deck_2/latex.py:361: LatexWarning: Latex injecting: 'observations' from 'tmp_2303.06909/observations.tex'\n",
      "  warnings.warn(LatexWarning(f\"Latex injecting: '{ext}' from '{subsource}'\"))\n",
      "/opt/hostedtoolcache/Python/3.9.16/x64/lib/python3.9/site-packages/arxiv_on_deck_2/latex.py:361: LatexWarning: Latex injecting: 't90.tex' from 'tmp_2303.06909/t90.tex'\n",
      "  warnings.warn(LatexWarning(f\"Latex injecting: '{ext}' from '{subsource}'\"))\n"
     ]
    },
    {
     "name": "stdout",
     "output_type": "stream",
     "text": [
      "extracting tarball to tmp_2303.07049..."
     ]
    },
    {
     "name": "stdout",
     "output_type": "stream",
     "text": [
      " done.\n",
      "Retrieving document from  https://arxiv.org/e-print/2303.07058\n"
     ]
    },
    {
     "name": "stdout",
     "output_type": "stream",
     "text": [
      "extracting tarball to tmp_2303.07058..."
     ]
    },
    {
     "name": "stdout",
     "output_type": "stream",
     "text": [
      " done.\n",
      "Retrieving document from  https://arxiv.org/e-print/2303.07301\n"
     ]
    },
    {
     "name": "stderr",
     "output_type": "stream",
     "text": [
      "/opt/hostedtoolcache/Python/3.9.16/x64/lib/python3.9/site-packages/IPython/core/interactiveshell.py:3460: LatexWarning: Multiple tex files.\n",
      "\n",
      "  exec(code_obj, self.user_global_ns, self.user_ns)\n",
      "/opt/hostedtoolcache/Python/3.9.16/x64/lib/python3.9/site-packages/IPython/core/interactiveshell.py:3460: LatexWarning: Found documentclass in tmp_2303.07058/gj436_system.tex\n",
      "\n",
      "  exec(code_obj, self.user_global_ns, self.user_ns)\n",
      "/opt/hostedtoolcache/Python/3.9.16/x64/lib/python3.9/site-packages/arxiv_on_deck_2/latex.py:361: LatexWarning: Latex injecting: 'sections/appendix' from 'tmp_2303.07058/sections/appendix.tex'\n",
      "  warnings.warn(LatexWarning(f\"Latex injecting: '{ext}' from '{subsource}'\"))\n",
      "/opt/hostedtoolcache/Python/3.9.16/x64/lib/python3.9/site-packages/arxiv_on_deck_2/latex.py:361: LatexWarning: Latex injecting: 'sections/data_availability' from 'tmp_2303.07058/sections/data_availability.tex'\n",
      "  warnings.warn(LatexWarning(f\"Latex injecting: '{ext}' from '{subsource}'\"))\n",
      "/opt/hostedtoolcache/Python/3.9.16/x64/lib/python3.9/site-packages/arxiv_on_deck_2/latex.py:361: LatexWarning: Latex injecting: 'sections/acknowledgements' from 'tmp_2303.07058/sections/acknowledgements.tex'\n",
      "  warnings.warn(LatexWarning(f\"Latex injecting: '{ext}' from '{subsource}'\"))\n",
      "/opt/hostedtoolcache/Python/3.9.16/x64/lib/python3.9/site-packages/arxiv_on_deck_2/latex.py:361: LatexWarning: Latex injecting: 'sections/conclusions' from 'tmp_2303.07058/sections/conclusions.tex'\n",
      "  warnings.warn(LatexWarning(f\"Latex injecting: '{ext}' from '{subsource}'\"))\n",
      "/opt/hostedtoolcache/Python/3.9.16/x64/lib/python3.9/site-packages/arxiv_on_deck_2/latex.py:361: LatexWarning: Latex injecting: 'sections/discussion' from 'tmp_2303.07058/sections/discussion.tex'\n",
      "  warnings.warn(LatexWarning(f\"Latex injecting: '{ext}' from '{subsource}'\"))\n",
      "/opt/hostedtoolcache/Python/3.9.16/x64/lib/python3.9/site-packages/arxiv_on_deck_2/latex.py:361: LatexWarning: Latex injecting: 'sections/results' from 'tmp_2303.07058/sections/results.tex'\n",
      "  warnings.warn(LatexWarning(f\"Latex injecting: '{ext}' from '{subsource}'\"))\n",
      "/opt/hostedtoolcache/Python/3.9.16/x64/lib/python3.9/site-packages/arxiv_on_deck_2/latex.py:361: LatexWarning: Latex injecting: 'sections/form' from 'tmp_2303.07058/sections/form.tex'\n",
      "  warnings.warn(LatexWarning(f\"Latex injecting: '{ext}' from '{subsource}'\"))\n",
      "/opt/hostedtoolcache/Python/3.9.16/x64/lib/python3.9/site-packages/arxiv_on_deck_2/latex.py:361: LatexWarning: Latex injecting: 'sections/intro' from 'tmp_2303.07058/sections/intro.tex'\n",
      "  warnings.warn(LatexWarning(f\"Latex injecting: '{ext}' from '{subsource}'\"))\n",
      "/opt/hostedtoolcache/Python/3.9.16/x64/lib/python3.9/site-packages/arxiv_on_deck_2/latex.py:361: LatexWarning: Latex injecting: 'sections/abstract' from 'tmp_2303.07058/sections/abstract.tex'\n",
      "  warnings.warn(LatexWarning(f\"Latex injecting: '{ext}' from '{subsource}'\"))\n"
     ]
    },
    {
     "name": "stdout",
     "output_type": "stream",
     "text": [
      "extracting tarball to tmp_2303.07301..."
     ]
    },
    {
     "name": "stdout",
     "output_type": "stream",
     "text": [
      " done.\n",
      "Retrieving document from  https://arxiv.org/e-print/2303.07318\n"
     ]
    },
    {
     "name": "stdout",
     "output_type": "stream",
     "text": [
      "extracting tarball to tmp_2303.07318..."
     ]
    },
    {
     "name": "stdout",
     "output_type": "stream",
     "text": [
      " done.\n"
     ]
    }
   ],
   "source": [
    "documents = []\n",
    "failed = []\n",
    "for paper in tqdm(candidates[:-1]):\n",
    "    paper_id = paper['identifier'].lower().replace('arxiv:', '')\n",
    "    \n",
    "    folder = f'tmp_{paper_id}'\n",
    "\n",
    "    try:\n",
    "        if not os.path.isdir(folder):\n",
    "            folder = retrieve_document_source(f\"{paper_id}\", f'tmp_{paper_id}')\n",
    "        \n",
    "        try:\n",
    "            doc = latex.LatexDocument(folder, validation=validation)    \n",
    "        except AffiliationError as affilerror:\n",
    "            msg = f\"ArXiv:{paper_id:s} is not an MPIA paper... \" + str(affilerror)\n",
    "            failed.append((paper, \"affiliation error: \" + str(affilerror) ))\n",
    "            continue\n",
    "        \n",
    "        # Hack because sometimes author parsing does not work well\n",
    "        if (len(doc.authors) != len(paper['authors'])):\n",
    "            doc._authors = paper['authors']\n",
    "        if (doc.abstract) in (None, ''):\n",
    "            doc._abstract = paper['abstract']\n",
    "            \n",
    "        doc.comment = (get_markdown_badge(paper_id) + \n",
    "                       \"<mark>Appeared on: \" + paper['date'] + \"</mark> - \" +\n",
    "                       \"_\" + paper['comments'] + \"_\")\n",
    "        doc.highlight_authors_in_list(hl_list)\n",
    "\n",
    "        full_md = doc.generate_markdown_text()\n",
    "        \n",
    "        # replace citations\n",
    "        try:\n",
    "            bibdata = latex_bib.LatexBib.from_doc(doc)\n",
    "            full_md = latex_bib.replace_citations(full_md, bibdata)\n",
    "        except Exception as e:\n",
    "            print(e)\n",
    "        \n",
    "        documents.append((paper_id, full_md))\n",
    "    except Exception as e:\n",
    "        warnings.warn(latex.LatexWarning(f\"{paper_id:s} did not run properly\\n\" +\n",
    "                                         str(e)\n",
    "                                        ))\n",
    "        failed.append((paper, \"latex error \" + str(e)))"
   ]
  },
  {
   "cell_type": "markdown",
   "id": "2505a25c",
   "metadata": {
    "papermill": {
     "duration": 0.006122,
     "end_time": "2023-03-14T04:10:24.765577",
     "exception": false,
     "start_time": "2023-03-14T04:10:24.759455",
     "status": "completed"
    },
    "tags": []
   },
   "source": [
    "### Export the logs\n",
    "\n",
    "Throughout, we also keep track of the logs per paper. see `logs-{today date}.md` "
   ]
  },
  {
   "cell_type": "code",
   "execution_count": 6,
   "id": "d733828a",
   "metadata": {
    "execution": {
     "iopub.execute_input": "2023-03-14T04:10:24.780209Z",
     "iopub.status.busy": "2023-03-14T04:10:24.779551Z",
     "iopub.status.idle": "2023-03-14T04:10:24.808202Z",
     "shell.execute_reply": "2023-03-14T04:10:24.807561Z"
    },
    "papermill": {
     "duration": 0.037233,
     "end_time": "2023-03-14T04:10:24.809682",
     "exception": false,
     "start_time": "2023-03-14T04:10:24.772449",
     "status": "completed"
    },
    "scrolled": false,
    "tags": []
   },
   "outputs": [
    {
     "data": {
      "text/markdown": [
       "## Successful papers"
      ],
      "text/plain": [
       "<IPython.core.display.Markdown object>"
      ]
     },
     "metadata": {},
     "output_type": "display_data"
    },
    {
     "data": {
      "text/markdown": [
       "\n",
       "|||\n",
       "|---:|:---|\n",
       "| [![arXiv](https://img.shields.io/badge/arXiv-arXiv:2303.06650-b31b1b.svg)](https://arxiv.org/abs/arXiv:2303.06650) | **Signatures of winds and jets in the environment of supermassive black  holes**  |\n",
       "|| Bidisha Bandyopadhyay, et al. -- incl., <mark>Christian Fendt</mark> |\n",
       "|*Appeared on*| *2023-03-14*|\n",
       "|*Comments*| *12 pages, 5 figures, Submitted to MNRAS*|\n",
       "|**Abstract**| The Event Horizon Telescope Collaboration (EHTC) has presented first - dynamic-range limited - images of the black hole shadows in M87 and Sgr A*. The next generation Event Horizon Telescope (ngEHT) will provide higher sensitivity and higher dynamic range images (and movies) of these two sources plus image at least a dozen others at $\\leq$100 gravitational radii resolution. We here perform an exploratory study of the appearance of winds and jets in such future observations. To do this we use M87 and Sgr A* as reference systems: we do not aim to exactly reproduce them, but rather to determine how their observed images will depend on specific physical assumptions. Even in the case of similar or the same dynamics, the images depend significantly on global parameters such as the black hole mass and the mass accretion rate. Our results provide guidance in the interpretation of future high-resolution images, particularly if a wind or jet is detected. |"
      ],
      "text/plain": [
       "[arXiv:2303.06650] Signatures of winds and jets in the environment of supermassive black  holes\n",
       "\tBidisha Bandyopadhyay, et al. -- incl., <mark>Christian Fendt</mark>"
      ]
     },
     "metadata": {},
     "output_type": "display_data"
    },
    {
     "data": {
      "text/markdown": [
       "## Failed papers"
      ],
      "text/plain": [
       "<IPython.core.display.Markdown object>"
      ]
     },
     "metadata": {},
     "output_type": "display_data"
    },
    {
     "data": {
      "text/markdown": [
       "\n",
       "|||\n",
       "|---:|:---|\n",
       "| [![arXiv](https://img.shields.io/badge/arXiv-arXiv:2303.06249-b31b1b.svg)](https://arxiv.org/abs/arXiv:2303.06249) | **A declining major merger fraction with redshift in the local Universe  from the largest-yet catalog of major and minor mergers in SDSS**  |\n",
       "|| R. Nevin, et al. -- incl., <mark>J. A. Vázquez-Mata</mark> |\n",
       "|*Appeared on*| *2023-03-14*|\n",
       "|*Comments*| *29 pages, 22 figures, see figures 16 and 17 for a summary of the findings, accepted to MNRAS*|\n",
       "|**Abstract**| It is difficult to accurately identify galaxy mergers and it is an even larger challenge to classify them by their mass ratio or merger stage. In previous work we used a suite of simulated mergers to create a classification technique that uses linear discriminant analysis (LDA) to identify major and minor mergers. Here, we apply this technique to 1.3 million galaxies from the SDSS DR16 photometric catalog and present the probability that each galaxy is a major or minor merger, splitting the classifications by merger stages (early, late, post-coalescence). We present publicly-available imaging predictor values and all of the above classifications for one of the largest-yet samples of galaxies. We measure the major and minor merger fraction ($f_{\\mathrm{merg}}$) and build a mass-complete sample of galaxies, which we bin as a function of stellar mass and redshift. For the major mergers, we find a positive slope of $f_{\\mathrm{merg}}$ with stellar mass and negative slope of $f_{\\mathrm{merg}}$ with redshift between stellar masses of $10.5 < M_* (log\\ M_{\\odot}) < 11.6$ and redshifts of $0.03 < z < 0.19$. We are able to reproduce an artificial positive slope of the major merger fraction with redshift when we do not bin for mass or craft a complete sample, demonstrating the importance of mass completeness and mass binning. We determine that the positive trend of the major merger fraction with stellar mass is consistent with a hierarchical assembly scenario. The negative trend with redshift requires that an additional assembly mechanism, such as baryonic feedback, dominates in the local Universe. |\n",
       "|<p style=\"color:green\"> **ERROR** </p>| <p style=\"color:green\">affiliation error: mpia.affiliation_verifications: '69117' keyword not found.</p> |"
      ],
      "text/plain": [
       "<IPython.core.display.Markdown object>"
      ]
     },
     "metadata": {},
     "output_type": "display_data"
    },
    {
     "data": {
      "text/markdown": [
       "\n",
       "|||\n",
       "|---:|:---|\n",
       "| [![arXiv](https://img.shields.io/badge/arXiv-arXiv:2303.06733-b31b1b.svg)](https://arxiv.org/abs/arXiv:2303.06733) | **Probing the Origin of Changing-look Quasar Transitions with Chandra**  |\n",
       "|| Qian Yang, et al. -- incl., <mark>Paul J. Green</mark>, <mark>Xiurui Zhao</mark> |\n",
       "|*Appeared on*| *2023-03-14*|\n",
       "|*Comments*| *26 pages, 9 figures. To be submitted to ApJ*|\n",
       "|**Abstract**| Extremely variable quasars can also show strong changes in broad line emission strength, and are known as Changing Look Quasars (CLQs). To study the CLQ transition mechanism, we present a pilot sample of CLQs with X-ray observations both in the bright and faint states. From a sample of quasars with bright state archival SDSS spectra and (Chandra or XMM-Newton) X-ray data, we identified five new CLQs via optical spectroscopic follow-up, and then obtained new target-of-opportunity X-ray observations with Chandra. No strong absorption is detected in either the bright or the faint state X-ray spectra. The intrinsic X-ray flux generally tracks the optical variability, and the X-ray power-law slope becomes harder in the faint state. Large amplitude mid-infrared variability is detected in all five CLQs. The changing-obscuration model is not consistent with the observed X-ray spectra and spectral energy distribution changes seen in these CLQs. It is highly likely that the observed changes are due to the changing accretion rate of the supermassive black hole, so the multiwavelength emission varies accordingly, with promising analogies to the accretion states of X-ray binaries. |\n",
       "|<p style=\"color:green\"> **ERROR** </p>| <p style=\"color:green\">affiliation error: mpia.affiliation_verifications: '69117' keyword not found.</p> |"
      ],
      "text/plain": [
       "<IPython.core.display.Markdown object>"
      ]
     },
     "metadata": {},
     "output_type": "display_data"
    },
    {
     "data": {
      "text/markdown": [
       "\n",
       "|||\n",
       "|---:|:---|\n",
       "| [![arXiv](https://img.shields.io/badge/arXiv-arXiv:2303.06393-b31b1b.svg)](https://arxiv.org/abs/arXiv:2303.06393) | **New features of the Gaia phase spiral and its possible relation to  internal perturbations**  |\n",
       "|| <mark>Chengdong Li</mark>, et al. |\n",
       "|*Appeared on*| *2023-03-14*|\n",
       "|*Comments*| *13 pages, 14 figures*|\n",
       "|**Abstract**| Disc stars from the Gaia DR3 RVS sample are selected to explore the phase spiral as a function of position in the Galaxy. The data reveal a two-armed phase spiral pattern in the local $z-v_z$ plane inside the solar radius, which appears clearly when colour-coded by $\\langle v_R \\rangle (z,v_z)$: this is characteristic of a breathing mode that can in principle be produced by in-plane non-axisymmetric perturbations. We note that, on the contrary, the phase spiral pattern becomes single armed when outside the solar radius. When a realistic analytic model with an axisymmetric background potential plus a realistic steadily rotating central bar and 2-armed spiral arms as perturbation is used to perform particle test integrations, the pseudo stars get a prominent spiral pattern in the $\\langle v_R \\rangle$ map in the $x-y$ plane. Additionally, clear breathing mode evidence at a few $\\rm{kms}^{-1}$ level can be seen in the $\\langle v_z \\rangle$ map on the $x-z$ plane, confirming that such breathing modes are non-negligible in the joint presence of a bar and spiral arms. However, no phase-spiral is perceptible in the $(z, v_z)$ plane. When an initial vertical perturbation is added to all pseudo stars and the same orbital integrating scheme is adopted to carry out the simulation, we find that phase spirals can clearly be seen 500~Myr after the perturbation and gradually disappear inside-out; in that case, they are, however, one-armed. Finally, we show as a proof of concept how a toy model of a time-varying non-axisymmetric in-plane perturbation with varying amplitude and pattern speed can, on the other hand, produce a strong two-armed phase-spiral. We conclude that a time-varying strong internal perturbation together with an external vertical perturbation could perhaps explain the transition between the two-armed and one-armed phase-spirals around the Solar radius. |\n",
       "|<p style=\"color:green\"> **ERROR** </p>| <p style=\"color:green\">affiliation error: mpia.affiliation_verifications: 'Heidelberg' keyword not found.</p> |"
      ],
      "text/plain": [
       "<IPython.core.display.Markdown object>"
      ]
     },
     "metadata": {},
     "output_type": "display_data"
    },
    {
     "data": {
      "text/markdown": [
       "\n",
       "|||\n",
       "|---:|:---|\n",
       "| [![arXiv](https://img.shields.io/badge/arXiv-arXiv:2303.06399-b31b1b.svg)](https://arxiv.org/abs/arXiv:2303.06399) | **TIRCAM2 Fast Sub-array Readout Mode for Lunar Occultation studies**  |\n",
       "|| Milind B. Naik, et al. -- incl., <mark>Saurabh Sharma</mark>, <mark>Arpan Ghosh</mark> |\n",
       "|*Appeared on*| *2023-03-14*|\n",
       "|*Comments*| *Accepted for publication in the Journal of Astrophysics and Astronomy, special issue*|\n",
       "|**Abstract**| The TIFR Near Infrared Imaging Camera-II (TIRCAM2) is being used at the Devasthal Optical Telescope (DOT) operated by Aryabhatta Research Institute of Observational Sciences (ARIES), Nainital, Uttarakhand, India. In addition to the normal full frame observations, there has been a requirement for high speed sub-array observations for applications such as lunar occultation and star speckle observations. Fast sub-array modes have been implemented in TIRCAM2 with suitable changes in the camera software at the computer and controller DSP code level. Successful observations have been carried out with the fast sub-array mode of observation. |\n",
       "|<p style=\"color:green\"> **ERROR** </p>| <p style=\"color:green\">affiliation error: mpia.affiliation_verifications: 'Heidelberg' keyword not found.</p> |"
      ],
      "text/plain": [
       "<IPython.core.display.Markdown object>"
      ]
     },
     "metadata": {},
     "output_type": "display_data"
    },
    {
     "data": {
      "text/markdown": [
       "\n",
       "|||\n",
       "|---:|:---|\n",
       "| [![arXiv](https://img.shields.io/badge/arXiv-arXiv:2303.06465-b31b1b.svg)](https://arxiv.org/abs/arXiv:2303.06465) | **The S-Web Origin of Composition Enhancement in the Slow-to-Moderate  Speed Solar Wind**  |\n",
       "|| B. J. Lynch, et al. -- incl., <mark>L. Zhao</mark> |\n",
       "|*Appeared on*| *2023-03-14*|\n",
       "|*Comments*| *19 pages, 8 figures, accepted for publication in ApJ*|\n",
       "|**Abstract**| Connecting the solar wind observed throughout the heliosphere to its origins in the solar corona is one of the central aims of heliophysics. The variability in the magnetic field, bulk plasma, and heavy ion composition properties of the slow wind are thought to result from magnetic reconnection processes in the solar corona. We identify regions of enhanced variability and composition in the solar wind from 2003 April 15 to May 13 (Carrington Rotation 2002), observed by the Wind and Advanced Composition Explorer spacecraft, and demonstrate their relationship to the Separatrix-Web (S-Web) structures describing the corona's large-scale magnetic topology. There are four pseudostreamer (PS) wind intervals and two helmet streamer (HS) heliospheric current sheet/plasma sheet crossings (and an ICME) which all exhibit enhanced alpha-to-proton ratios and/or elevated ionic charge states of carbon, oxygen, and iron. We apply the magnetic helicity-partial variance of increments ($H_m$-PVI) procedure to identify coherent magnetic structures and quantify their properties during each interval. The mean duration of these structures are $\\sim$1 hr in both the HS and PS wind. We find a modest enhancement above the power-law fit to the PVI waiting time distribution in the HS-associated wind at the 1.5-2 hr timescales that is absent from the PS intervals. We discuss our results in context of previous observations of the $\\sim$90 min periodic density structures in the slow solar wind, further development of the dynamic S-Web model, and future Parker Solar Probe and Solar Orbiter joint observational campaigns. |\n",
       "|<p style=\"color:green\"> **ERROR** </p>| <p style=\"color:green\">affiliation error: mpia.affiliation_verifications: 'Heidelberg' keyword not found.</p> |"
      ],
      "text/plain": [
       "<IPython.core.display.Markdown object>"
      ]
     },
     "metadata": {},
     "output_type": "display_data"
    },
    {
     "data": {
      "text/markdown": [
       "\n",
       "|||\n",
       "|---:|:---|\n",
       "| [![arXiv](https://img.shields.io/badge/arXiv-arXiv:2303.06523-b31b1b.svg)](https://arxiv.org/abs/arXiv:2303.06523) | **Tidal Disruption Event Demographics with the Zwicky Transient Facility:  Volumetric Rates, Luminosity Function, and Implications for the Local Black  Hole Mass Function**  |\n",
       "|| Yuhan Yao, et al. -- incl., <mark>Yashvi Sharma</mark> |\n",
       "|*Appeared on*| *2023-03-14*|\n",
       "|*Comments*| *37 pages, 24 figures, submitted to ApJ*|\n",
       "|**Abstract**| We conduct a systematic tidal disruption event (TDE) demographics analysis using the largest sample of optically selected TDEs. A flux-limited, spectroscopically complete sample of 33 TDEs is constructed using the Zwicky Transient Facility (ZTF) over three years (from October 2018 to September 2021). We infer the black hole (BH) mass ($M_{\\rm BH}$) with host galaxy scaling relations, showing that the sample $M_{\\rm BH}$ ranges from $10^{5.1}\\,M_\\odot$ to $10^{8.2}\\,M_\\odot$. We developed a survey efficiency corrected maximum volume method to infer the rates. The rest-frame $g$-band luminosity function (LF) can be well described by a broken power-law of $\\phi (L_g)\\propto [(L_g / L_{\\rm bk})^{0.3} + (L_g / L_{\\rm bk})^{2.6}]^{-1}$, with $L_{\\rm bk}=10^{43.1}\\,{\\rm erg\\,s^{-1}}$. In the BH mass regime of $10^{5.2}\\lesssim (M_{\\rm BH}/M_\\odot) \\lesssim 10^{7.2}$, the TDE mass function follows $\\phi(M_{\\rm BH})\\propto M_{\\rm BH}^{-0.25}$, which favors a flat local BH mass function ($dn_{\\rm BH}/d{\\rm log}M_{\\rm BH}\\approx{\\rm constant}$). We confirm the significant rate suppression at the high-mass end ($M_{\\rm BH}\\gtrsim 10^{7.5}\\,M_\\odot$), which is consistent with theoretical predictions considering direct capture of hydrogen-burning stars by the event horizon. At a host galaxy mass of $M_{\\rm gal}\\sim 10^{10}\\,M_\\odot$, the average optical TDE rate is $\\approx 3.2\\times 10^{-5}\\,{\\rm galaxy^{-1}\\,yr^{-1}}$. We constrain the optical TDE rate to be [3.7, 7.4, and 1.6$]\\times 10^{-5}\\,{\\rm galaxy^{-1}\\,yr^{-1}}$ in galaxies with red, green, and blue colors. |\n",
       "|<p style=\"color:green\"> **ERROR** </p>| <p style=\"color:green\">affiliation error: mpia.affiliation_verifications: 'Heidelberg' keyword not found.</p> |"
      ],
      "text/plain": [
       "<IPython.core.display.Markdown object>"
      ]
     },
     "metadata": {},
     "output_type": "display_data"
    },
    {
     "data": {
      "text/markdown": [
       "\n",
       "|||\n",
       "|---:|:---|\n",
       "| [![arXiv](https://img.shields.io/badge/arXiv-arXiv:2303.06616-b31b1b.svg)](https://arxiv.org/abs/arXiv:2303.06616) | **The Cosmic Radio Background from Primordial Black Holes at Cosmic Dawn**  |\n",
       "|| <mark>Zhihe Zhang</mark>, et al. |\n",
       "|*Appeared on*| *2023-03-14*|\n",
       "|*Comments*| *16 pages, 13 figures, accepted for publication in PRD*|\n",
       "|**Abstract**| The presence of an extra radio background besides the cosmic microwave background has important implications for the observation of the 21-cm signal during the cosmic Dark Ages, Cosmic Dawn, and epoch of Reionization. The strong absorption trough found in the 21-cm global spectrum measured by the EDGES experiment, which has a much greater depth than the standard model prediction, has drawn great interest to this scenario, but more generally it is still of great interest to consider such a cosmic radio background (CRB) in the early Universe. To be effective in affecting the 21-cm signal at early time, such a radio background must be produced by sources which can emit strong radio signals but modest amount of X-rays, so that the gas is not heated up too early. We investigate the scenario that such a radio background is produced by the primordial black holes (PBHs). For PBH with a single mass, we find that if the PBHs' abundance $\\log(f_{\\rm PBH})$ (ratio of total PBH mass density to total matter density) and mass satisfy the relation $\\log(f_{\\rm PBH}) \\sim -1.8\\log(M_\\bullet/{\\rm M}_{\\odot})-3.5$ for $1\\,{\\rm M}_\\odot \\lesssim M_\\bullet \\lesssim 300 {\\rm M}_\\odot$, and have jet emission, they can generate a CRB required for reproducing the 21-cm absorption signal seen by the EDGES. The accretion rate can be boosted if the PBHs are surrounded by dark matter halos, which permits lower $f_{\\rm PBH}$ value to satisfy the EDGES observation. In the latter scenario, since the accretion rate can evolve rapidly during the Cosmic Dawn, the frequency (redshift) and depth of the absorption trough can determine the mass and abundance of the PBHs simultaneously. For absorption trough redshift $\\sim$ 17 and depth $\\sim -500$ mK, it corresponds to $M_\\bullet \\sim 1.05\\,{\\rm M}_{\\odot}$ and $f_{\\rm PBH}\\sim 1.5\\times10^{-4}$. |\n",
       "|<p style=\"color:green\"> **ERROR** </p>| <p style=\"color:green\">affiliation error: mpia.affiliation_verifications: 'Heidelberg' keyword not found.</p> |"
      ],
      "text/plain": [
       "<IPython.core.display.Markdown object>"
      ]
     },
     "metadata": {},
     "output_type": "display_data"
    },
    {
     "data": {
      "text/markdown": [
       "\n",
       "|||\n",
       "|---:|:---|\n",
       "| [![arXiv](https://img.shields.io/badge/arXiv-arXiv:2303.06667-b31b1b.svg)](https://arxiv.org/abs/arXiv:2303.06667) | **Evidence for self-organized criticality phenomena in prompt phase of  short gamma-ray bursts**  |\n",
       "|| <mark>Xiu-Juan Li</mark>, et al. -- incl., <mark>Wen-Long Zhang</mark>, <mark>Jia-Lun Li</mark> |\n",
       "|*Appeared on*| *2023-03-14*|\n",
       "|*Comments*| *18 pages, 10 figures, accepted for publication in ApJS*|\n",
       "|**Abstract**| The prompt phase of gamma-ray burst (GRB) contains essential information regarding the physical nature and central engine, which are as yet unknown. In this paper, we investigate the self-organized criticality (SOC) phenomena in GRB prompt phase as done in X-ray flares of GRBs. We obtain the differential and cumulative distributions of 243 short GRB pulses, such as peak flux, FWHM, rise time, decay time, and peak time in the fourth BATSE TTE Catalog with the Markov Chain Monte Carlo (MCMC) technique. It is found that these distributions can be well described by power-law models. In particular, comparisons are made in 182 short GRB pulses in the third Swift GRB Catalog from 2004 December to 2019 July. The results are essentially consistent with those in BATSE ones. We notice that there is no obvious power-law index evolution across different energy bands for either BATSE or Swift sGRBs. The joint analysis suggests that GRB prompt phase can be explained by a Fractal-Diffusive, Self-Organized Criticality (FD-SOC) system with the spatial dimension S = 3 and the classical diffusion ? = 1. Our findings show that GRB prompt phases and X-ray flares possess the very same magnetically dominated stochastic process and mechanism. |\n",
       "|<p style=\"color:green\"> **ERROR** </p>| <p style=\"color:green\">affiliation error: mpia.affiliation_verifications: 'Heidelberg' keyword not found.</p> |"
      ],
      "text/plain": [
       "<IPython.core.display.Markdown object>"
      ]
     },
     "metadata": {},
     "output_type": "display_data"
    },
    {
     "data": {
      "text/markdown": [
       "\n",
       "|||\n",
       "|---:|:---|\n",
       "| [![arXiv](https://img.shields.io/badge/arXiv-arXiv:2303.06728-b31b1b.svg)](https://arxiv.org/abs/arXiv:2303.06728) | **An unlikely survivor: a low-density hot Neptune orbiting a red giant  star**  |\n",
       "|| Samuel Grunblatt, et al. -- incl., <mark>Daniel Huber</mark>, <mark>Joseph M. Akana Murphy</mark> |\n",
       "|*Appeared on*| *2023-03-14*|\n",
       "|*Comments*| *54 pages, 16 figures, submitted to Science, comments welcome!*|\n",
       "|**Abstract**| Hot Neptunes, gaseous planets smaller than Saturn ($\\sim$ 3-8 R$_\\oplus$) with orbital periods less than 10 days, are rare. Models predict this is due to high-energy stellar irradiation stripping planetary atmospheres over time, often leaving behind only rocky planetary cores. We present the discovery of a 6.2 R$_\\oplus$(0.55 R$_\\mathrm{J}$), 19.2 M$_\\oplus$(0.060 M$_\\mathrm{J}$) planet transiting a red giant star every 4.21285 days. The old age and high equilibrium temperature yet remarkably low density of this planet suggests that its gaseous envelope should have been stripped by high-energy stellar irradiation billions of years ago. The present day planet mass and radius suggest atmospheric stripping was slower than predicted. Unexpectedly low stellar activity and/or late-stage planet inflation could be responsible for the observed properties of this system. |\n",
       "|<p style=\"color:green\"> **ERROR** </p>| <p style=\"color:green\">affiliation error: mpia.affiliation_verifications: 'Heidelberg' keyword not found.</p> |"
      ],
      "text/plain": [
       "<IPython.core.display.Markdown object>"
      ]
     },
     "metadata": {},
     "output_type": "display_data"
    },
    {
     "data": {
      "text/markdown": [
       "\n",
       "|||\n",
       "|---:|:---|\n",
       "| [![arXiv](https://img.shields.io/badge/arXiv-arXiv:2303.06909-b31b1b.svg)](https://arxiv.org/abs/arXiv:2303.06909) | **Deciphering the unusual stellar progenitor of GRB~210704A**  |\n",
       "|| R. L. Becerra, et al. -- incl., <mark>W. H. Lee</mark> |\n",
       "|*Appeared on*| *2023-03-14*|\n",
       "|*Comments*| *Submitted to MNRAS, 14 pages, 9 figures*|\n",
       "|**Abstract**| GRB~210704A is a burst of intermediate duration ($T_{90} \\sim 1-4$~s) followed by a fading afterglow and an optical excess that peaked about 7 days after the explosion. Its properties, and in particular those of the excess, do not easily fit into the well established classification scheme of GRBs as being long or short, leaving the nature of its progenitor uncertain. We present multi-wavelength observations of the GRB and its counterpart, observed up to 160 days after the burst. In order to decipher the nature of the progenitor system, we present a detailed analysis of the GRB high-energy properties (duration, spectral lag, and Amati correlation), its environment, and late-time optical excess. We discuss three possible scenarios: a neutron star merger, a collapsing massive star, and an atypical explosion possibly hosted in a cluster of galaxies. We find that traditional kilonova and supernova models do not match well the properties of the optical excess, leaving us with the intriguing suggestion that this event was an exotic high-energy merger. |\n",
       "|<p style=\"color:green\"> **ERROR** </p>| <p style=\"color:green\">affiliation error: mpia.affiliation_verifications: 'Heidelberg' keyword not found.</p> |"
      ],
      "text/plain": [
       "<IPython.core.display.Markdown object>"
      ]
     },
     "metadata": {},
     "output_type": "display_data"
    },
    {
     "data": {
      "text/markdown": [
       "\n",
       "|||\n",
       "|---:|:---|\n",
       "| [![arXiv](https://img.shields.io/badge/arXiv-arXiv:2303.07049-b31b1b.svg)](https://arxiv.org/abs/arXiv:2303.07049) | **High-resolution He I 10830 Å narrowband imaging for precursors of  chromospheric jets and their quasi-periodic properties**  |\n",
       "|| Ya Wang, et al. -- incl., <mark>Qingmin Zhang</mark> |\n",
       "|*Appeared on*| *2023-03-14*|\n",
       "|*Comments*| **|\n",
       "|**Abstract**| Solar jets are well-collimated plasma ejections in the solar atmosphere. They are prevalent in active regions, the quiet Sun, and even coronal holes. They display a range of temperatures, yet the nature of the cool components has not been fully investigated. In this paper, we show the existence of the precursors and quasi-periodic properties for two chromospheric jets, mainly utilizing the He i 10830 {\\AA} narrowband filtergrams taken by the Goode Solar Telescope (GST). The extreme ultraviolet (EUV) counterparts present during the eruption correspond to a blowout jet (jet 1) and a standard jet (jet 2), as observed by the Atmospheric Imaging Assembly (AIA) on board the Solar Dynamic Observatory (SDO). The high-resolution He i 10830 {\\AA} observation captures a long-lasting precursor for jet 1, signified by a series of cool ejections. They are recurrent jet-like features with a quasi-period of about five minutes. On the other hand, the cool components of jet 2, recurrently accompanied by EUV emissions, present a quasi-periodic behavior with a period of about five minutes. Both the EUV brightening and He i 10830 {\\AA} absorption show that there was a precursor for jet 2 that occurred about five minutes before its onset. We propose that the precursor of jet 1 may be the consequence of chromospheric shock waves, since the five-minute oscillation from the photosphere can leak into the chromosphere and develop into shocks. Then, we find that the quasi-periodic behavior of the cool components of jet 2 may be related to magnetic reconnections modulated by the oscillation in the photosphere. |\n",
       "|<p style=\"color:green\"> **ERROR** </p>| <p style=\"color:green\">affiliation error: mpia.affiliation_verifications: 'Heidelberg' keyword not found.</p> |"
      ],
      "text/plain": [
       "<IPython.core.display.Markdown object>"
      ]
     },
     "metadata": {},
     "output_type": "display_data"
    },
    {
     "data": {
      "text/markdown": [
       "\n",
       "|||\n",
       "|---:|:---|\n",
       "| [![arXiv](https://img.shields.io/badge/arXiv-arXiv:2303.07058-b31b1b.svg)](https://arxiv.org/abs/arXiv:2303.07058) | **The energetic particle environment of a GJ 436 b-like planet**  |\n",
       "|| <mark>D. Rodgers-Lee</mark>, et al. |\n",
       "|*Appeared on*| *2023-03-14*|\n",
       "|*Comments*| *14 pages, 9 figures, accepted for publication in MNRAS*|\n",
       "|**Abstract**| A key first step to constrain the impact of energetic particles in exoplanet atmospheres is to detect the chemical signature of ionisation due to stellar energetic particles and Galactic cosmic rays. We focus on GJ$\\,$436, a well-studied M dwarf with a warm Neptune-like exoplanet. We demonstrate how the maximum stellar energetic particle momentum can be estimated from the stellar X-ray luminosity. We model energetic particle transport through the atmosphere of a hypothetical exoplanet at orbital distances between $a=0.01-0.2\\,$au from GJ$\\,$436, including GJ$\\,$436$\\,$b's orbital distance (0.028$\\,$au). For these distances we find that, at top-of-atmosphere, stellar energetic particles ionise molecular hydrogen at a rate of $\\zeta_{\\rm StEP,H_2} \\sim 4\\times10^{-10}-2\\times10^{-13}\\,\\mathrm{s^{-1}}$. In comparison, Galactic cosmic rays alone lead to $\\zeta_{\\rm GCR, H_2}\\sim2\\times 10^{-20}-10^{-18} \\,\\mathrm{s^{-1}}$. At 10au we find that ionisation due to Galactic cosmic rays equals that of stellar energetic particles: $\\zeta_{\\rm GCR,H_2} = \\zeta_{\\rm StEP,H_2} \\sim 7\\times10^{-18}\\,\\rm{s^{-1}}$ for the top-of-atmosphere ionisation rate. At GJ$\\,$436$\\,$b's orbital distance, the maximum ion-pair production rate due to stellar energetic particles occurs at pressure $P\\sim 10^{-3}\\,$bar while Galactic cosmic rays dominate for $P>10^2\\,$bar. These high pressures are similar to what is expected for a post-impact early Earth atmosphere. The results presented here will be used to quantify the chemical signatures of energetic particles in warm Neptune-like atmospheres. |\n",
       "|<p style=\"color:green\"> **ERROR** </p>| <p style=\"color:green\">affiliation error: mpia.affiliation_verifications: 'Heidelberg' keyword not found.</p> |"
      ],
      "text/plain": [
       "<IPython.core.display.Markdown object>"
      ]
     },
     "metadata": {},
     "output_type": "display_data"
    },
    {
     "data": {
      "text/markdown": [
       "\n",
       "|||\n",
       "|---:|:---|\n",
       "| [![arXiv](https://img.shields.io/badge/arXiv-arXiv:2303.07301-b31b1b.svg)](https://arxiv.org/abs/arXiv:2303.07301) | **Phantom dark energy as a natural selection of evolutionary processes  $\\hat{\\rm a}$ $\\textit{la}$ $\\textit{genetic algorithm}$ and cosmological  tensions**  |\n",
       "|| Mayukh R. Gangopadhyay, M. Sami, <mark>Mohit K. Sharma</mark> |\n",
       "|*Appeared on*| *2023-03-14*|\n",
       "|*Comments*| *5 pages, 4 figures*|\n",
       "|**Abstract**| We employ a machine learning (ML) algorithm to analyze cosmological background data and the linear red-shift space distortion (RSD) data in a model-independent way, with specific focus on the Hubble expansion rate and the growth of large-scale structure. We find strong evidence that the natural enhancement in the Hubble parameter at low redshifts is due to the underlying phantom nature of dark energy, rather than low matter density. As for the RSD data, we find a higher value of $\\sigma^8_{(0)}$ which is consistent with CMB's predictions, but the outcome of low matter density leads to unresolved tension. This might point towards a new physical phenomenon at the perturbative level in the low redshift regime. From a statistical perspective, we have demonstrated that our results hold greater preference compared to those obtained by the $\\Lambda$CDM model. |\n",
       "|<p style=\"color:green\"> **ERROR** </p>| <p style=\"color:green\">affiliation error: mpia.affiliation_verifications: 'Heidelberg' keyword not found.</p> |"
      ],
      "text/plain": [
       "<IPython.core.display.Markdown object>"
      ]
     },
     "metadata": {},
     "output_type": "display_data"
    },
    {
     "data": {
      "text/markdown": [
       "\n",
       "|||\n",
       "|---:|:---|\n",
       "| [![arXiv](https://img.shields.io/badge/arXiv-arXiv:2303.07318-b31b1b.svg)](https://arxiv.org/abs/arXiv:2303.07318) | **The Masses of Supernova Remnant Progenitors in M33**  |\n",
       "|| Brad Koplitz, et al. -- incl., <mark>Joseph Guzman</mark> |\n",
       "|*Appeared on*| *2023-03-14*|\n",
       "|*Comments*| *20 pages, 7 figures, 2 tables*|\n",
       "|**Abstract**| Using resolved optical stellar photometry from the Panchromatic Hubble Andromeda Treasury Triangulum Extended Region (PHATTER) survey, we measured the star formation history (SFH) near the position of 85 supernova remnants (SNRs) in M33. We constrained the progenitor masses for 60 of these SNRs, finding the remaining 25 remnants had no local SF in the last 56 Myr consistent with core-collapse SNe (CCSNe), making them potential Type Ia candidates. We then infer a progenitor mass distribution from the age distribution, assuming single star evolution. We find that the progenitor mass distribution is consistent with being drawn from a power-law with an index of $-2.9^{+1.2}_{-1.0}$. Additionally, we infer a minimum progenitor mass of $7.1^{+0.1}_{-0.2}$ $M_{\\odot}$ from this sample, consistent with several previous studies, providing further evidence that stars with ages older than the lifetimes of single 8 $M_{\\odot}$ stars are producing supernovae. |\n",
       "|<p style=\"color:green\"> **ERROR** </p>| <p style=\"color:green\">affiliation error: mpia.affiliation_verifications: 'Heidelberg' keyword not found.</p> |"
      ],
      "text/plain": [
       "<IPython.core.display.Markdown object>"
      ]
     },
     "metadata": {},
     "output_type": "display_data"
    },
    {
     "data": {
      "text/markdown": [
       "\n",
       "|||\n",
       "|---:|:---|\n",
       "| [![arXiv](https://img.shields.io/badge/arXiv-arXiv:2303.06592-b31b1b.svg)](https://arxiv.org/abs/arXiv:2303.06592) | **Spatially Resolving PAHs in Herbig Ae Disks with VISIR-NEAR at the VLT**  |\n",
       "|| Gideon Yoffe, et al. -- incl., <mark>Roy van Boekel</mark>, <mark>M.R Meyer</mark> |\n",
       "|*Appeared on*| *2023-03-14*|\n",
       "|*Comments*| **|\n",
       "|**Abstract**| We use the long-slit spectroscopy mode of the VISIR-NEAR experiment to perform diffraction-limited observations of eight nearby Herbig Ae protoplanetary disks. We extract spectra for various locations along the slit with a spectral resolution of R = 300 and perform a compositional fit at each spatial location using spectral templates of silicates and the four PAH bands. This yields the intensity vs. location profiles of each species. Results. We could obtain spatially-resolved intensity profiles of the PAH emission features in the N-band for five objects (AB Aurigae, HD 97048, HD 100546, HD 163296, and HD 169142). We observe two kinds of PAH emission geometry in our sample: centrally-peaked (HD 97048) and ring-like (AB Aurigae, HD 100546, HD 163296, and potentially HD 169142). Comparing the spatial PAH emission profiles with near-infrared scattered light images, we find a strong correlation in the disk sub-structure but a difference in radial intensity decay rate. The PAH emission shows a less steep decline with distance from the star. Finally, we find a correlation between the presence of (sub-) micron-sized silicate grains leading to the depletion of PAH emission within the inner regions of the disks. In this work, we find the following: (1) PAH emission traces the extent of Herbig Ae disks to a considerable radial distance. (2) The correlation between silicate emission within the inner regions of disks and the depletion of PAH emission can result from dust-mixing and PAH coagulation mechanisms and competition over UV photons. (3) For all objects in our sample, PAHs undergo stochastic heating across the entire spatial extent of the disk and are not saturated. (4) The difference in radial intensity decay rates between the PAHs and scattered-light profiles may be attributed to shadowing and dust-settling effects, which affect the scattering grains more than the PAHs. |\n",
       "|<p style=\"color:red\"> **ERROR** </p>| <p style=\"color:red\">latex error Unable to get page count.\n",
       "Syntax Warning: May not be a PDF file (continuing anyway)\n",
       "Syntax Error: Couldn't find trailer dictionary\n",
       "Syntax Error: Couldn't find trailer dictionary\n",
       "Syntax Error: Couldn't read xref table\n",
       "</p> |"
      ],
      "text/plain": [
       "<IPython.core.display.Markdown object>"
      ]
     },
     "metadata": {},
     "output_type": "display_data"
    },
    {
     "data": {
      "text/markdown": [
       "\n",
       "|||\n",
       "|---:|:---|\n",
       "| [![arXiv](https://img.shields.io/badge/arXiv-arXiv:2303.06453-b31b1b.svg)](https://arxiv.org/abs/arXiv:2303.06453) | **Evidence of a radiation belt around a brown dwarf**  |\n",
       "|| J. B. Climent, et al. -- incl., <mark>M. Pérez-Torres</mark> |\n",
       "|*Appeared on*| *2023-03-14*|\n",
       "|*Comments*| *Submitted on 12 January 2023 to Science. In review*|\n",
       "|**Abstract**| Radio observations of ultracool dwarfs, objects comprising brown dwarfs and the very lowest mass stars, have mainly focused on analyzing their light-curve and spectral energy distributions providing valuable insights into their magnetic fields. However, spatially-resolved studies of such magnetospheres have been elusive so far. Radio interferometric observations of the brown dwarf LSR J1835+3259 reveal an extended magnetosphere with a morphology compatible with the presence of a radiation belt, similar to that of Jupiter and Earth, consisting of energetic particles confined via magnetic mirroring. Our finding suggests that radio emitting ultracool dwarfs may behave as scaled up versions of Jupiter, validating the connection between dipole-ordered magnetic fields and the presence of belt-like morphologies and aurorae beyond our Solar System. |\n",
       "|<p style=\"color:red\"> **ERROR** </p>| <p style=\"color:red\">latex error not a gzip file</p> |"
      ],
      "text/plain": [
       "<IPython.core.display.Markdown object>"
      ]
     },
     "metadata": {},
     "output_type": "display_data"
    }
   ],
   "source": [
    "import datetime\n",
    "today = str(datetime.date.today())\n",
    "logfile = f\"_build/html/logs/log-{today}.md\"\n",
    "\n",
    "\n",
    "with open(logfile, 'w') as logs:\n",
    "    # Success\n",
    "    logs.write(f'# Arxiv on Deck 2: Logs - {today}\\n\\n')\n",
    "    logs.write(\"\"\"* Arxiv had {0:,d} new papers\\n\"\"\".format(len(new_papers)))\n",
    "    logs.write(\"\"\"    * {0:,d} with possible author matches\\n\\n\"\"\".format(len(candidates)))\n",
    "    logs.write(\"## Sucessful papers\\n\\n\")\n",
    "    display(Markdown(\"## Successful papers\"))\n",
    "    success = [k[0] for k in documents]\n",
    "    for candid in candidates:\n",
    "        if candid['identifier'].split(':')[-1] in success:\n",
    "            display(candid)\n",
    "            logs.write(candid.generate_markdown_text() + '\\n\\n')\n",
    "\n",
    "    ## failed\n",
    "    logs.write(\"## Failed papers\\n\\n\")\n",
    "    display(Markdown(\"## Failed papers\"))\n",
    "    failed = sorted(failed, key=lambda x: x[1])\n",
    "    current_reason = \"\"\n",
    "    for paper, reason in failed:\n",
    "        if 'affiliation' in reason:\n",
    "            color = 'green'\n",
    "        else:\n",
    "            color = 'red'\n",
    "        data = Markdown(\n",
    "                paper.generate_markdown_text() + \n",
    "                f'\\n|<p style=\"color:{color:s}\"> **ERROR** </p>| <p style=\"color:{color:s}\">{reason:s}</p> |'\n",
    "               )\n",
    "        if reason != current_reason:\n",
    "            logs.write(f'### {reason:s} \\n\\n')\n",
    "            current_reason = reason\n",
    "        logs.write(data.data + '\\n\\n')\n",
    "        \n",
    "        # only display here the important errors (all in logs)\n",
    "        # if color in ('red',):\n",
    "        display(data)"
   ]
  },
  {
   "cell_type": "markdown",
   "id": "472d20ee",
   "metadata": {
    "papermill": {
     "duration": 0.008346,
     "end_time": "2023-03-14T04:10:24.826706",
     "exception": false,
     "start_time": "2023-03-14T04:10:24.818360",
     "status": "completed"
    },
    "tags": []
   },
   "source": [
    "## Export documents\n",
    "\n",
    "We now write the .md files and export relevant images"
   ]
  },
  {
   "cell_type": "code",
   "execution_count": 7,
   "id": "d426aed9",
   "metadata": {
    "execution": {
     "iopub.execute_input": "2023-03-14T04:10:24.844819Z",
     "iopub.status.busy": "2023-03-14T04:10:24.844296Z",
     "iopub.status.idle": "2023-03-14T04:10:24.852283Z",
     "shell.execute_reply": "2023-03-14T04:10:24.851615Z"
    },
    "papermill": {
     "duration": 0.018721,
     "end_time": "2023-03-14T04:10:24.853714",
     "exception": false,
     "start_time": "2023-03-14T04:10:24.834993",
     "status": "completed"
    },
    "tags": []
   },
   "outputs": [],
   "source": [
    "def export_markdown_summary(md: str, md_fname:str, directory: str):\n",
    "    \"\"\"Export MD document and associated relevant images\"\"\"\n",
    "    import os\n",
    "    import shutil\n",
    "    import re\n",
    "\n",
    "    if (os.path.exists(directory) and not os.path.isdir(directory)):\n",
    "        raise RuntimeError(f\"a non-directory file exists with name {directory:s}\")\n",
    "\n",
    "    if (not os.path.exists(directory)):\n",
    "        print(f\"creating directory {directory:s}\")\n",
    "        os.mkdir(directory)\n",
    "\n",
    "    fig_fnames = (re.compile(r'\\[Fig.*\\]\\((.*)\\)').findall(md) + \n",
    "                  re.compile(r'\\<img src=\"([^>\\s]*)\"[^>]*/>').findall(md))\n",
    "    for fname in fig_fnames:\n",
    "        if 'http' in fname:\n",
    "            # No need to copy online figures\n",
    "            continue\n",
    "        destdir = os.path.join(directory, os.path.dirname(fname))\n",
    "        destfname = os.path.join(destdir, os.path.basename(fname))\n",
    "        try:\n",
    "            os.makedirs(destdir)\n",
    "        except FileExistsError:\n",
    "            pass\n",
    "        shutil.copy(fname, destfname)\n",
    "    with open(os.path.join(directory, md_fname), 'w') as fout:\n",
    "        fout.write(md)\n",
    "    print(\"exported in \", os.path.join(directory, md_fname))\n",
    "    [print(\"    + \" + os.path.join(directory,fk)) for fk in fig_fnames]"
   ]
  },
  {
   "cell_type": "code",
   "execution_count": 8,
   "id": "014d04a4",
   "metadata": {
    "execution": {
     "iopub.execute_input": "2023-03-14T04:10:24.871917Z",
     "iopub.status.busy": "2023-03-14T04:10:24.871456Z",
     "iopub.status.idle": "2023-03-14T04:10:24.878121Z",
     "shell.execute_reply": "2023-03-14T04:10:24.877451Z"
    },
    "papermill": {
     "duration": 0.017285,
     "end_time": "2023-03-14T04:10:24.879559",
     "exception": false,
     "start_time": "2023-03-14T04:10:24.862274",
     "status": "completed"
    },
    "tags": []
   },
   "outputs": [
    {
     "name": "stdout",
     "output_type": "stream",
     "text": [
      "exported in  _build/html/2303.06650.md\n",
      "    + _build/html/tmp_2303.06650/./smudgethallsimM87SgrAi17f230EHT.png\n",
      "    + _build/html/tmp_2303.06650/./prothM87SgrAallsimf230i17EHT.png\n",
      "    + _build/html/tmp_2303.06650/./smudgethallsimM87SgrAi17f230GEOVLBI.png\n",
      "    + _build/html/tmp_2303.06650/./prothM87SgrAallsimf230i17GEOVLBI.png\n",
      "    + _build/html/tmp_2303.06650/./smudgethallsimM87SgrAi17f230L1VLBI.png\n",
      "    + _build/html/tmp_2303.06650/./prothM87SgrAallsimf230i17L1VLBI.png\n",
      "    + _build/html/tmp_2303.06650/./allsimi17M87SgrAf345thR12NDif.png\n",
      "    + _build/html/tmp_2303.06650/./allsimi17M87SgrAf700thR12NDif.png\n",
      "    + _build/html/tmp_2303.06650/./prothM87SgrAi17allsimf345NDif.png\n",
      "    + _build/html/tmp_2303.06650/./prothM87SgrAi17allsimf700NDif.png\n"
     ]
    }
   ],
   "source": [
    "for paper_id, md in documents:\n",
    "    export_markdown_summary(md, f\"{paper_id:s}.md\", '_build/html/')"
   ]
  },
  {
   "cell_type": "markdown",
   "id": "f087a0a7",
   "metadata": {
    "papermill": {
     "duration": 0.008349,
     "end_time": "2023-03-14T04:10:24.896405",
     "exception": false,
     "start_time": "2023-03-14T04:10:24.888056",
     "status": "completed"
    },
    "tags": []
   },
   "source": [
    "## Display the papers\n",
    "\n",
    "Not necessary but allows for a quick check."
   ]
  },
  {
   "cell_type": "code",
   "execution_count": 9,
   "id": "fd25f625",
   "metadata": {
    "execution": {
     "iopub.execute_input": "2023-03-14T04:10:24.914852Z",
     "iopub.status.busy": "2023-03-14T04:10:24.914315Z",
     "iopub.status.idle": "2023-03-14T04:10:24.919318Z",
     "shell.execute_reply": "2023-03-14T04:10:24.918679Z"
    },
    "papermill": {
     "duration": 0.015952,
     "end_time": "2023-03-14T04:10:24.920741",
     "exception": false,
     "start_time": "2023-03-14T04:10:24.904789",
     "status": "completed"
    },
    "scrolled": false,
    "tags": []
   },
   "outputs": [
    {
     "data": {
      "text/markdown": [
       "<div class=\"macros\" style=\"visibility:hidden;\">\n",
       "$\\newcommand{\\ensuremath}{}$\n",
       "$\\newcommand{\\xspace}{}$\n",
       "$\\newcommand{\\object}[1]{\\texttt{#1}}$\n",
       "$\\newcommand{\\farcs}{{.}''}$\n",
       "$\\newcommand{\\farcm}{{.}'}$\n",
       "$\\newcommand{\\arcsec}{''}$\n",
       "$\\newcommand{\\arcmin}{'}$\n",
       "$\\newcommand{\\ion}[2]{#1#2}$\n",
       "$\\newcommand{\\textsc}[1]{\\textrm{#1}}$\n",
       "$\\newcommand{\\hl}[1]{\\textrm{#1}}$\n",
       "$\\newcommand{\\footnote}[1]{}$\n",
       "$\\newcommand{\\thebibliography}{\\DeclareRobustCommand{\\VAN}[3]{##3}\\VANthebibliography}$</div>\n",
       "\n",
       "<div class=\"macros\" style=\"visibility:hidden;\">\n",
       "$\\newcommand{\\ensuremath}{}$\n",
       "$\\newcommand{\\xspace}{}$\n",
       "$\\newcommand{\\object}[1]{\\texttt{#1}}$\n",
       "$\\newcommand{\\farcs}{{.}''}$\n",
       "$\\newcommand{\\farcm}{{.}'}$\n",
       "$\\newcommand{\\arcsec}{''}$\n",
       "$\\newcommand{\\arcmin}{'}$\n",
       "$\\newcommand{\\ion}[2]{#1#2}$\n",
       "$\\newcommand{\\textsc}[1]{\\textrm{#1}}$\n",
       "$\\newcommand{\\hl}[1]{\\textrm{#1}}$\n",
       "$\\newcommand{\\footnote}[1]{}$\n",
       "$\\newcommand{\\thebibliography}{\\DeclareRobustCommand{\\VAN}[3]{##3}\\VANthebibliography}$</div>\n",
       "\n",
       "\n",
       "\n",
       "<div id=\"title\">\n",
       "\n",
       "# Signatures of winds and jets in the environment of supermassive black holes\n",
       "\n",
       "</div>\n",
       "<div id=\"comments\">\n",
       "\n",
       "[![arXiv](https://img.shields.io/badge/arXiv-2303.06650-b31b1b.svg)](https://arxiv.org/abs/2303.06650)<mark>Appeared on: 2023-03-14</mark> - _12 pages, 5 figures, Submitted to MNRAS_\n",
       "\n",
       "</div>\n",
       "<div id=\"authors\">\n",
       "\n",
       "Bidisha Bandyopadhyay, et al. -- incl., <mark><mark>Christian Fendt</mark></mark>\n",
       "\n",
       "</div>\n",
       "<div id=\"abstract\">\n",
       "\n",
       "**Abstract:** The Event Horizon Telescope Collaboration (EHTC) has presented first - dynamic-range limited - images of the black hole shadows in M87 and Sgr A*. The next generation Event Horizon Telescope (ngEHT) will provide higher  sensitivity and higher dynamic range images (and movies) of these two sources plus image at least a dozen others at $\\leq$ 100 gravitational radii resolution. We here perform an exploratory study of the appearance of winds and jets in such future observations. To do this we use  M87 and Sgr A* as reference systems: we do not aim to exactly reproduce them, but rather to determine how their observed images will depend on specific physical assumptions. Even in the case of similar or the same dynamics, the images depend significantly on global parameters such as the black hole mass and the mass accretion rate. Our results provide guidance in the interpretation of future high-resolution images, particularly if a wind or jet is detected.\n",
       "\n",
       "</div>\n",
       "\n",
       "<div id=\"div_fig1\">\n",
       "\n",
       "<img src=\"tmp_2303.06650/./smudgethallsimM87SgrAi17f230EHT.png\" alt=\"Fig1.1\" width=\"16%\"/><img src=\"tmp_2303.06650/./prothM87SgrAallsimf230i17EHT.png\" alt=\"Fig1.2\" width=\"16%\"/><img src=\"tmp_2303.06650/./smudgethallsimM87SgrAi17f230GEOVLBI.png\" alt=\"Fig1.3\" width=\"16%\"/><img src=\"tmp_2303.06650/./prothM87SgrAallsimf230i17GEOVLBI.png\" alt=\"Fig1.4\" width=\"16%\"/><img src=\"tmp_2303.06650/./smudgethallsimM87SgrAi17f230L1VLBI.png\" alt=\"Fig1.5\" width=\"16%\"/><img src=\"tmp_2303.06650/./prothM87SgrAallsimf230i17L1VLBI.png\" alt=\"Fig1.6\" width=\"16%\"/>\n",
       "\n",
       "**Figure 1. -** Emission maps and radial emission profiles (along diameters with angles$=0◦, 90◦, 45◦ \\& -45◦ $ respectively) for M87 (upper 6 in each panel) and SgrA* (lower 6 in each panel) like systems for inclination angles of $17◦$ at 230 GHz for EHT-$20 \\mu$arcsec (upper), Geo-VLBI-$5 \\mu$arcsec (middle) and L1-VLBI-$0.16 \\mu$arcsec (lower) like resolutions). The intensity profiles in addition also mark the positions of the unlensed photon ring (black solid line) and the theoretical values of the inner (dot dashed line) and outer (dashed line) boundaries of the lensed photon ring. (*fig:M87SgrAL1VLBI*)\n",
       "\n",
       "</div>\n",
       "<div id=\"div_fig2\">\n",
       "\n",
       "<img src=\"tmp_2303.06650/./allsimi17M87SgrAf345thR12NDif.png\" alt=\"Fig2.1\" width=\"25%\"/><img src=\"tmp_2303.06650/./allsimi17M87SgrAf700thR12NDif.png\" alt=\"Fig2.2\" width=\"25%\"/><img src=\"tmp_2303.06650/./prothM87SgrAi17allsimf345NDif.png\" alt=\"Fig2.3\" width=\"25%\"/><img src=\"tmp_2303.06650/./prothM87SgrAi17allsimf700NDif.png\" alt=\"Fig2.4\" width=\"25%\"/>\n",
       "\n",
       "**Figure 2. -** Flux normalized emission maps (upper) and intensity profiles (lower) (along diameters with angles$=0◦, 90◦, 45◦ \\& -45◦ $ respectively) for all our simulations for M87 (upper 6 in each of the panels) and and SgrA* (lower 6 in each of the panels) like systems with inclination angle $17◦$ for 345 GHz (left) and 700 GHz (right) respectively. The intensity profiles in addition also mark the positions of the unlensed photon ring (black solid line) and the theoretical values of the inner (dot dashed line) and outer (dashed line) boundaries of the lensed photon ring. (*fig:M87SgrAang345n700*)\n",
       "\n",
       "</div>"
      ],
      "text/plain": [
       "<IPython.core.display.Markdown object>"
      ]
     },
     "metadata": {},
     "output_type": "display_data"
    }
   ],
   "source": [
    "[display(Markdown(k[1])) for k in documents];"
   ]
  },
  {
   "cell_type": "markdown",
   "id": "873873a4",
   "metadata": {
    "papermill": {
     "duration": 0.00875,
     "end_time": "2023-03-14T04:10:24.938235",
     "exception": false,
     "start_time": "2023-03-14T04:10:24.929485",
     "status": "completed"
    },
    "tags": []
   },
   "source": [
    "# Create HTML index"
   ]
  },
  {
   "cell_type": "code",
   "execution_count": 10,
   "id": "cf665672",
   "metadata": {
    "execution": {
     "iopub.execute_input": "2023-03-14T04:10:24.957178Z",
     "iopub.status.busy": "2023-03-14T04:10:24.956655Z",
     "iopub.status.idle": "2023-03-14T04:10:24.968090Z",
     "shell.execute_reply": "2023-03-14T04:10:24.967380Z"
    },
    "papermill": {
     "duration": 0.022633,
     "end_time": "2023-03-14T04:10:24.969537",
     "exception": false,
     "start_time": "2023-03-14T04:10:24.946904",
     "status": "completed"
    },
    "tags": []
   },
   "outputs": [
    {
     "name": "stdout",
     "output_type": "stream",
     "text": [
      "196  publications in the last 7 days.\n",
      "\t _build/html/2303.06650.md\n",
      "\t _build/html/2303.05635.md\n",
      "\t _build/html/2303.04727.md\n",
      "\t _build/html/2303.04067.md\n",
      "\t _build/html/2303.03420.md\n",
      "\t _build/html/2303.02816.md\n",
      "\t _build/html/2303.01528.md\n",
      "\t _build/html/2303.00044.md\n",
      "\t _build/html/2303.00012.md\n",
      "\t _build/html/2302.14137.md\n",
      "\t _build/html/2302.12805.md\n",
      "\t _build/html/2302.10943.md\n",
      "\t _build/html/2302.10528.md\n",
      "\t _build/html/2302.10008.md\n",
      "\t _build/html/2302.08962.md\n",
      "\t _build/html/2302.08628.md\n",
      "\t _build/html/2302.07916.md\n",
      "\t _build/html/2302.07880.md\n",
      "\t _build/html/2302.07497.md\n",
      "\t _build/html/2302.07277.md\n",
      "\t _build/html/2302.07256.md\n",
      "\t _build/html/2302.07234.md\n",
      "\t _build/html/2302.07057.md\n",
      "\t _build/html/2302.05694.md\n",
      "\t _build/html/2302.05465.md\n",
      "\t _build/html/2302.04507.md\n",
      "\t _build/html/2302.04239.md\n",
      "\t _build/html/2302.04138.md\n",
      "\t _build/html/2302.03699.md\n",
      "\t _build/html/2302.03576.md\n",
      "\t _build/html/2302.03042.md\n",
      "\t _build/html/2302.02611.md\n",
      "\t _build/html/2302.02429.md\n",
      "\t _build/html/2302.01678.md\n",
      "\t _build/html/2302.00450.md\n",
      "\t _build/html/2301.13766.md\n",
      "\t _build/html/2301.13526.md\n",
      "\t _build/html/2301.12890.md\n",
      "\t _build/html/2301.11942.md\n",
      "\t _build/html/2301.10717.md\n",
      "\t _build/html/2301.10666.md\n",
      "\t _build/html/2301.09621.md\n",
      "\t _build/html/2301.09140.md\n",
      "\t _build/html/2301.08770.md\n",
      "\t _build/html/2301.08310.md\n",
      "\t _build/html/2301.07990.md\n",
      "\t _build/html/2301.07199.md\n",
      "\t _build/html/2301.07116.md\n",
      "\t _build/html/2301.06873.md\n",
      "\t _build/html/2301.06819.md\n",
      "\t _build/html/2301.06575.md\n",
      "\t _build/html/2301.05720.md\n",
      "\t _build/html/2301.05718.md\n",
      "\t _build/html/2301.05034.md\n",
      "\t _build/html/2301.04656.md\n",
      "\t _build/html/2301.04533.md\n",
      "\t _build/html/2301.04442.md\n",
      "\t _build/html/2301.03811.md\n",
      "\t _build/html/2301.03689.md\n",
      "\t _build/html/2301.03209.md\n",
      "\t _build/html/2301.02671.md\n",
      "\t _build/html/2301.02477.md\n",
      "\t _build/html/2301.02313.md\n",
      "\t _build/html/2301.01937.md\n",
      "\t _build/html/2301.01895.md\n",
      "\t _build/html/2301.01684.md\n",
      "\t _build/html/2301.01306.md\n",
      "\t _build/html/2301.00881.md\n",
      "\t _build/html/2301.00854.md\n",
      "\t _build/html/2301.00578.md\n",
      "\t _build/html/2212.12039.md\n",
      "\t _build/html/2212.11425.md\n",
      "\t _build/html/2212.11177.md\n",
      "\t _build/html/2212.10512.md\n",
      "\t _build/html/2212.09766.md\n",
      "\t _build/html/2212.09675.md\n",
      "\t _build/html/2212.09661.md\n",
      "\t _build/html/2212.09652.md\n",
      "\t _build/html/2212.09168.md\n",
      "\t _build/html/2212.09159.md\n",
      "\t _build/html/2212.08702.md\n",
      "\t _build/html/2212.06434.md\n",
      "\t _build/html/2212.04710.md\n",
      "\t _build/html/2212.04026.md\n",
      "\t _build/html/2212.03563.md\n",
      "\t _build/html/2212.03514.md\n",
      "\t _build/html/2212.02667.md\n",
      "\t _build/html/2212.02627.md\n",
      "\t _build/html/2212.02235.md\n",
      "\t _build/html/2212.01707.md\n",
      "\t _build/html/2212.01526.md\n",
      "\t _build/html/2212.01397.md\n",
      "\t _build/html/2212.01291.md\n",
      "\t _build/html/2212.01281.md\n",
      "\t _build/html/2212.00812.md\n",
      "\t _build/html/2212.00811.md\n",
      "\t _build/html/2212.00806.md\n",
      "\t _build/html/2212.00032.md\n",
      "\t _build/html/2211.16510.md\n",
      "\t _build/html/2211.16123.md\n",
      "\t _build/html/2211.15816.md\n",
      "\t _build/html/2211.15698.md\n",
      "\t _build/html/2211.15576.md\n",
      "\t _build/html/2211.15434.md\n",
      "\t _build/html/2211.15288.md\n",
      "\t _build/html/2211.15224.md\n",
      "\t _build/html/2211.14543.md\n",
      "\t _build/html/2211.14330.md\n",
      "\t _build/html/2211.14322.md\n",
      "\t _build/html/2211.14132.md\n",
      "\t _build/html/2211.13811.md\n",
      "\t _build/html/2211.13426.md\n",
      "\t _build/html/2211.13146.md\n",
      "\t _build/html/2211.12613.md\n",
      "\t _build/html/2211.11767.md\n",
      "\t _build/html/2211.09840.md\n",
      "\t _build/html/2211.08493.md\n",
      "\t _build/html/2211.08487.md\n",
      "\t _build/html/2211.08294.md\n",
      "\t _build/html/2211.07667.md\n",
      "\t _build/html/2211.07659.md\n",
      "\t _build/html/2211.06205.md\n",
      "\t _build/html/2211.06194.md\n",
      "\t _build/html/2211.05022.md\n",
      "\t _build/html/2211.04048.md\n",
      "\t _build/html/2211.03641.md\n",
      "\t _build/html/2211.02502.md\n",
      "\t _build/html/2211.01474.md\n",
      "\t _build/html/2211.00657.md\n",
      "\t _build/html/2211.00087.md\n",
      "\t _build/html/2211.00036.md\n",
      "\t _build/html/2211.00020.md\n",
      "\t _build/html/2211.00010.md\n",
      "\t _build/html/2210.17434.md\n",
      "\t _build/html/2210.12412.md\n",
      "\t _build/html/2210.11926.md\n",
      "\t _build/html/2210.11551.md\n",
      "\t _build/html/2210.10707.md\n",
      "\t _build/html/2210.09930.md\n",
      "\t _build/html/2210.08996.md\n",
      "\t _build/html/2210.08517.md\n",
      "\t _build/html/2210.08510.md\n",
      "\t _build/html/2210.06504.md\n",
      "\t _build/html/2210.05695.md\n",
      "\t _build/html/2210.05595.md\n",
      "\t _build/html/2210.05505.md\n",
      "\t _build/html/2210.04721.md\n",
      "\t _build/html/2210.03615.md\n",
      "\t _build/html/2210.01811.md\n",
      "\t _build/html/2210.01809.md\n",
      "\t _build/html/2210.01556.md\n",
      "\t _build/html/2210.00560.md\n",
      "\t _build/html/2209.15403.md\n",
      "\t _build/html/2209.15110.md\n",
      "\t _build/html/2209.14410.md\n",
      "\t _build/html/2209.14396.md\n",
      "\t _build/html/2209.13717.md\n",
      "\t _build/html/2209.13336.md\n",
      "\t _build/html/2209.12906.md\n",
      "\t _build/html/2209.11602.md\n",
      "\t _build/html/2209.11248.md\n",
      "\t _build/html/2209.10618.md\n",
      "\t _build/html/2209.09914.md\n",
      "\t _build/html/2209.08242.md\n",
      "\t _build/html/2209.08120.md\n",
      "\t _build/html/2209.08106.md\n",
      "\t _build/html/2209.07962.md\n",
      "\t _build/html/2209.07931.md\n",
      "\t _build/html/2209.06833.md\n",
      "\t _build/html/2209.05814.md\n",
      "\t _build/html/2209.05593.md\n",
      "\t _build/html/2209.04304.md\n",
      "\t _build/html/2209.03367.md\n",
      "\t _build/html/2209.02872.md\n",
      "\t _build/html/2209.02725.md\n",
      "\t _build/html/2209.02722.md\n",
      "\t _build/html/2209.02092.md\n",
      "\t _build/html/2209.01125.md\n",
      "\t _build/html/2209.00828.md\n",
      "\t _build/html/2209.00363.md\n",
      "\t _build/html/2208.14927.md\n",
      "\t _build/html/2208.09335.md\n",
      "\t _build/html/2208.08872.md\n",
      "\t _build/html/2204.06393.md\n",
      "\t _build/html/2204.03335.md\n",
      "\t _build/html/2204.03253.md\n",
      "\t _build/html/2204.02017.md\n",
      "\t _build/html/2204.01824.md\n",
      "\t _build/html/2204.01245.md\n",
      "\t _build/html/2204.00793.md\n",
      "\t _build/html/2204.00342.md\n",
      "\t _build/html/2203.16959.md\n",
      "\t _build/html/2203.16734.md\n",
      "\t _build/html/2203.16504.md\n",
      "\t _build/html/2203.15822.md\n",
      "\t _build/html/2203.15811.md\n"
     ]
    }
   ],
   "source": [
    "from datetime import datetime, timedelta, timezone\n",
    "from glob import glob\n",
    "\n",
    "files = glob('_build/html/*.md')\n",
    "days = 7\n",
    "now = datetime.today()\n",
    "res = []\n",
    "for fk in files:\n",
    "    stat_result = os.stat(fk).st_ctime\n",
    "    modified = datetime.fromtimestamp(stat_result, tz=timezone.utc).replace(tzinfo=None)\n",
    "    delta = now.today() - modified\n",
    "    if delta <= timedelta(days=days):\n",
    "        res.append((delta.seconds, fk))\n",
    "res = [k[1] for k in reversed(sorted(res, key=lambda x:x[1]))]\n",
    "npub = len(res)\n",
    "print(len(res), f\" publications in the last {days:d} days.\")\n",
    "[ print('\\t', k) for k in res ];"
   ]
  },
  {
   "cell_type": "code",
   "execution_count": 11,
   "id": "015de740",
   "metadata": {
    "execution": {
     "iopub.execute_input": "2023-03-14T04:10:24.989033Z",
     "iopub.status.busy": "2023-03-14T04:10:24.988401Z",
     "iopub.status.idle": "2023-03-14T04:10:25.007962Z",
     "shell.execute_reply": "2023-03-14T04:10:25.007276Z"
    },
    "papermill": {
     "duration": 0.031016,
     "end_time": "2023-03-14T04:10:25.009580",
     "exception": false,
     "start_time": "2023-03-14T04:10:24.978564",
     "status": "completed"
    },
    "tags": []
   },
   "outputs": [
    {
     "name": "stdout",
     "output_type": "stream",
     "text": [
      "3  publications in the last 7 days.\n"
     ]
    }
   ],
   "source": [
    "import datetime\n",
    "from glob import glob\n",
    "\n",
    "def get_last_n_days(lst, days=1):\n",
    "    \"\"\" Get the documents from the last n days \"\"\"\n",
    "    sorted_lst = sorted(lst, key=lambda x: x[1], reverse=True)\n",
    "    for fname, date in sorted_lst:\n",
    "        if date >= str(datetime.date.today() - datetime.timedelta(days=days)):\n",
    "            yield fname\n",
    "\n",
    "def extract_appearance_dates(lst_file):\n",
    "    dates = []\n",
    "\n",
    "    def get_date(line):\n",
    "        return line\\\n",
    "            .split('Appeared on:')[-1]\\\n",
    "            .split('</mark>')[0].strip()\n",
    "\n",
    "    for fname in lst:\n",
    "        with open(fname, 'r') as f:\n",
    "            found_date = False\n",
    "            for line in f:\n",
    "                if not found_date:\n",
    "                    if \"Appeared on\" in line:\n",
    "                        found_date = True\n",
    "                        dates.append((fname, get_date(line)))\n",
    "                else:\n",
    "                    break\n",
    "    return dates\n",
    "\n",
    "from glob import glob\n",
    "lst = glob('_build/html/*md')\n",
    "days = 7\n",
    "dates = extract_appearance_dates(lst)\n",
    "res = list(get_last_n_days(dates, days))\n",
    "npub = len(res)\n",
    "print(len(res), f\" publications in the last {days:d} days.\")"
   ]
  },
  {
   "cell_type": "code",
   "execution_count": 12,
   "id": "52ca0208",
   "metadata": {
    "execution": {
     "iopub.execute_input": "2023-03-14T04:10:25.030616Z",
     "iopub.status.busy": "2023-03-14T04:10:25.030010Z",
     "iopub.status.idle": "2023-03-14T04:10:25.034575Z",
     "shell.execute_reply": "2023-03-14T04:10:25.033975Z"
    },
    "papermill": {
     "duration": 0.016792,
     "end_time": "2023-03-14T04:10:25.036018",
     "exception": false,
     "start_time": "2023-03-14T04:10:25.019226",
     "status": "completed"
    },
    "scrolled": false,
    "tags": []
   },
   "outputs": [],
   "source": [
    "def create_carousel(npub=4):\n",
    "    \"\"\" Generate the HTML code for a carousel with `npub` slides \"\"\"\n",
    "    carousel = [\"\"\"  <div class=\"carousel\" \"\"\",\n",
    "                \"\"\"       data-flickity='{ \"autoPlay\": 10000, \"adaptiveHeight\": true, \"resize\": true, \"wrapAround\": true, \"pauseAutoPlayOnHover\": true, \"groupCells\": 1 }' id=\"asyncTypeset\">\"\"\"\n",
    "                ]\n",
    "    \n",
    "    item_str = \"\"\"    <div class=\"carousel-cell\"> <div id=\"slide{k}\" class=\"md_view\">Content {k}</div> </div>\"\"\"\n",
    "    for k in range(1, npub + 1):\n",
    "        carousel.append(item_str.format(k=k))\n",
    "    carousel.append(\"  </div>\")\n",
    "    return '\\n'.join(carousel)"
   ]
  },
  {
   "cell_type": "code",
   "execution_count": 13,
   "id": "a6eac5b6",
   "metadata": {
    "execution": {
     "iopub.execute_input": "2023-03-14T04:10:25.055789Z",
     "iopub.status.busy": "2023-03-14T04:10:25.055109Z",
     "iopub.status.idle": "2023-03-14T04:10:25.060824Z",
     "shell.execute_reply": "2023-03-14T04:10:25.060253Z"
    },
    "papermill": {
     "duration": 0.017129,
     "end_time": "2023-03-14T04:10:25.062233",
     "exception": false,
     "start_time": "2023-03-14T04:10:25.045104",
     "status": "completed"
    },
    "scrolled": false,
    "tags": []
   },
   "outputs": [],
   "source": [
    "carousel = create_carousel(npub)\n",
    "docs = ', '.join(['\"{0:s}\"'.format(k.split('/')[-1]) for k in res])\n",
    "slides = ', '.join([f'\"slide{k}\"' for k in range(1, npub + 1)])\n",
    "\n",
    "with open(\"daily_template.html\", \"r\") as tpl:\n",
    "    page = tpl.read()\n",
    "    page = page.replace(\"{%-- carousel:s --%}\", carousel)\\\n",
    "               .replace(\"{%-- suptitle:s --%}\",  \"7-day archives\" )\\\n",
    "               .replace(\"{%-- docs:s --%}\", docs)\\\n",
    "               .replace(\"{%-- slides:s --%}\", slides)\n",
    "    \n",
    "with open(\"_build/html/index_7days.html\", 'w') as fout:\n",
    "    fout.write(page)"
   ]
  },
  {
   "cell_type": "code",
   "execution_count": 14,
   "id": "adc1a1ec",
   "metadata": {
    "execution": {
     "iopub.execute_input": "2023-03-14T04:10:25.081872Z",
     "iopub.status.busy": "2023-03-14T04:10:25.081371Z",
     "iopub.status.idle": "2023-03-14T04:10:25.089875Z",
     "shell.execute_reply": "2023-03-14T04:10:25.089246Z"
    },
    "papermill": {
     "duration": 0.02005,
     "end_time": "2023-03-14T04:10:25.091373",
     "exception": false,
     "start_time": "2023-03-14T04:10:25.071323",
     "status": "completed"
    },
    "tags": []
   },
   "outputs": [
    {
     "name": "stdout",
     "output_type": "stream",
     "text": [
      "2  publications in the last day.\n",
      "  <div class=\"carousel\" \n",
      "       data-flickity='{ \"autoPlay\": 10000, \"adaptiveHeight\": true, \"resize\": true, \"wrapAround\": true, \"pauseAutoPlayOnHover\": true, \"groupCells\": 1 }' id=\"asyncTypeset\">\n",
      "    <div class=\"carousel-cell\"> <div id=\"slide1\" class=\"md_view\">Content 1</div> </div>\n",
      "    <div class=\"carousel-cell\"> <div id=\"slide2\" class=\"md_view\">Content 2</div> </div>\n",
      "  </div> \"2303.06650.md\", \"2303.05635.md\" \"slide1\", \"slide2\"\n",
      "<!DOCTYPE html>\n",
      "<html lang=\"en\">\n",
      "\n",
      "<head>\n",
      "    <meta charset=\"utf-8\">\n",
      "    <meta name=\"viewport\" content=\"width=device-width, initial-scale=1.0\" />\n",
      "    <!-- Remove caching as much as possible -->\n",
      "    <meta http-equiv=\"cache-control\" content=\"no-cache\" />\n",
      "    <meta http-equiv=\"Pragma\" content=\"no-cache\" />\n",
      "    <meta http-equiv=\"Expires\" content=\"-1\" />\n",
      "    <!-- flickity bootstrap CSS -->\n",
      "    <link rel=\"stylesheet\" href=\"https://unpkg.com/flickity@2/dist/flickity.min.css\">\n",
      "    <!-- Bootstrap CSS -->\n",
      "    <link href=\"https://cdn.jsdelivr.net/npm/bootstrap@5.0.2/dist/css/bootstrap.min.css\" rel=\"stylesheet\"\n",
      "        integrity=\"sha384-EVSTQN3/azprG1Anm3QDgpJLIm9Nao0Yz1ztcQTwFspd3yD65VohhpuuCOmLASjC\" crossorigin=\"anonymous\">\n",
      "    <!-- highlight.js CSS -->\n",
      "    <link rel=\"stylesheet\" href=\"https://cdnjs.cloudflare.com/ajax/libs/highlight.js/11.1.0/styles/default.min.css\">\n",
      "    <!-- flickity local CSS -->\n",
      "    <link rel=\"stylesheet\" href=\"flickity.css\">\n",
      "    <!-- markdown local CSS -->\n",
      "    <link rel=\"stylesheet\" href=\"markdown.css\">\n",
      "\n",
      "    <link rel=\"icon\" type=\"image/x-icon\"\n",
      "        href=\"https://www.mpia.de/assets/touch-icon-32x32-a66937bcebc4e8894ebff1f41a366c7c7220fd97a38869ee0f2db65a9f59b6c1.png\">\n",
      "    <title>MPIA Arxiv on deck!</title>\n",
      "</head>\n",
      "\n",
      "<body>\n",
      "    <div id=\"header\"> <img src=\"header_banner.png\" width=\"100%\"></div>\n",
      "    <div id=\"suptitle\"> Daily </div>\n",
      "    <div id=\"info\">\n",
      "        <img src=\"https://pngimg.com/uploads/github/github_PNG58.png\" height=30rem></img>\n",
      "        <a href=https://github.com/mpi-astronomy/arxiv_display style=\"color:black;\">github/mpi-astronomy/arxiv_display</a>\n",
      "    </div>\n",
      "\n",
      "    <!-- Flickity HTML init -->\n",
      "      <div class=\"carousel\" \n",
      "       data-flickity='{ \"autoPlay\": 10000, \"adaptiveHeight\": true, \"resize\": true, \"wrapAround\": true, \"pauseAutoPlayOnHover\": true, \"groupCells\": 1 }' id=\"asyncTypeset\">\n",
      "    <div class=\"carousel-cell\"> <div id=\"slide1\" class=\"md_view\">Content 1</div> </div>\n",
      "    <div class=\"carousel-cell\"> <div id=\"slide2\" class=\"md_view\">Content 2</div> </div>\n",
      "  </div>\n",
      "\n",
      "</body>\n",
      "\n",
      "<script src=\"//cdnjs.cloudflare.com/ajax/libs/jquery/2.1.3/jquery.min.js\"></script>\n",
      "<script src=\"https://unpkg.com/flickity@2/dist/flickity.pkgd.min.js\"></script>\n",
      "<script src=\"https://cdnjs.cloudflare.com/ajax/libs/highlight.js/11.5.0/highlight.min.js\"></script>\n",
      "<!-- marked.js -->\n",
      "<script src=\"https://cdn.jsdelivr.net/npm/marked/marked.min.js\"></script>\n",
      "<!-- MD content -->\n",
      "<script>\n",
      "    const docs = [\"2303.06650.md\", \"2303.05635.md\"];\n",
      "    const slides = [\"slide1\", \"slide2\"];\n",
      "\n",
      "    async function run() {\n",
      "        for (let i = 0; i < docs.length; i++) {\n",
      "            let file = await fetch(docs[i]);\n",
      "            let text = await file.text()\n",
      "            document.getElementById(slides[i]).innerHTML =\n",
      "                marked.parse(text);\n",
      "        }\n",
      "        hljs.highlightAll();\n",
      "    }\n",
      "    run()\n",
      "</script>\n",
      "<!-- Mathjax 3 -->\n",
      "<script type=\"text/javascript\" id=\"MathJax-config\" src=\"mathjax_config.js\"> </script>\n",
      "<script type=\"text/javascript\" id=\"MathJax-script\" async src=\"https://cdn.jsdelivr.net/npm/mathjax@3/es5/tex-svg.js\"></script>\n",
      "<!-- Mathjax 3 async promise refresh for dynamic text -->\n",
      "<script>\n",
      "    const asyncTypeset = document.querySelector('#asyncTypeset')\n",
      "    setTimeout(async function () {\n",
      "        await MathJax.typesetPromise().catch((err) => console.log('Typeset failed: ' + err.message));\n",
      "        console.log('refreshed MathJax typeset');\n",
      "    }, 3000)\n",
      "</script>\n",
      "\n",
      "</html>\n"
     ]
    }
   ],
   "source": [
    "# redo for today\n",
    "days = 1\n",
    "res = list(get_last_n_days(dates, days))\n",
    "npub = len(res)\n",
    "print(len(res), f\" publications in the last day.\")\n",
    "\n",
    "carousel = create_carousel(npub)\n",
    "docs = ', '.join(['\"{0:s}\"'.format(k.split('/')[-1]) for k in res])\n",
    "slides = ', '.join([f'\"slide{k}\"' for k in range(1, npub + 1)])\n",
    "\n",
    "with open(\"daily_template.html\", \"r\") as tpl:\n",
    "    page = tpl.read()\n",
    "    page = page.replace(\"{%-- carousel:s --%}\", carousel)\\\n",
    "               .replace(\"{%-- suptitle:s --%}\",  \"Daily\" )\\\n",
    "               .replace(\"{%-- docs:s --%}\", docs)\\\n",
    "               .replace(\"{%-- slides:s --%}\", slides)\n",
    "    \n",
    "print(carousel, docs, slides)\n",
    "print(page)\n",
    "with open(\"_build/html/index_daily.html\", 'w') as fout:\n",
    "    fout.write(page)"
   ]
  }
 ],
 "metadata": {
  "kernelspec": {
   "display_name": "Python 3 (ipykernel)",
   "language": "python",
   "name": "python3"
  },
  "language_info": {
   "codemirror_mode": {
    "name": "ipython",
    "version": 3
   },
   "file_extension": ".py",
   "mimetype": "text/x-python",
   "name": "python",
   "nbconvert_exporter": "python",
   "pygments_lexer": "ipython3",
   "version": "3.9.16"
  },
  "papermill": {
   "default_parameters": {},
   "duration": 120.03825,
   "end_time": "2023-03-14T04:10:25.321070",
   "environment_variables": {},
   "exception": null,
   "input_path": "MPIA daily digest.ipynb",
   "output_path": "log.ipynb",
   "parameters": {},
   "start_time": "2023-03-14T04:08:25.282820",
   "version": "2.4.0"
  },
  "vscode": {
   "interpreter": {
    "hash": "aee8b7b246df8f9039afb4144a1f6fd8d2ca17a180786b69acc140d282b71a49"
   }
  },
  "widgets": {
   "application/vnd.jupyter.widget-state+json": {
    "state": {
     "08206f4f96004bbd8634d55b8a2186c0": {
      "model_module": "@jupyter-widgets/controls",
      "model_module_version": "2.0.0",
      "model_name": "HBoxModel",
      "state": {
       "_dom_classes": [],
       "_model_module": "@jupyter-widgets/controls",
       "_model_module_version": "2.0.0",
       "_model_name": "HBoxModel",
       "_view_count": null,
       "_view_module": "@jupyter-widgets/controls",
       "_view_module_version": "2.0.0",
       "_view_name": "HBoxView",
       "box_style": "",
       "children": [
        "IPY_MODEL_ac3ece5c6e1642c7b7f5ac85647e7a40",
        "IPY_MODEL_ca091cff880e46b7a9cae98c03d7fcb4",
        "IPY_MODEL_2e092c9055b7411890c00f5a82fee181"
       ],
       "layout": "IPY_MODEL_bb3d5a0c560d469e8fc70703056dba37",
       "tabbable": null,
       "tooltip": null
      }
     },
     "2c768aaecacf4488aec380399cf63b1b": {
      "model_module": "@jupyter-widgets/base",
      "model_module_version": "2.0.0",
      "model_name": "LayoutModel",
      "state": {
       "_model_module": "@jupyter-widgets/base",
       "_model_module_version": "2.0.0",
       "_model_name": "LayoutModel",
       "_view_count": null,
       "_view_module": "@jupyter-widgets/base",
       "_view_module_version": "2.0.0",
       "_view_name": "LayoutView",
       "align_content": null,
       "align_items": null,
       "align_self": null,
       "border_bottom": null,
       "border_left": null,
       "border_right": null,
       "border_top": null,
       "bottom": null,
       "display": null,
       "flex": null,
       "flex_flow": null,
       "grid_area": null,
       "grid_auto_columns": null,
       "grid_auto_flow": null,
       "grid_auto_rows": null,
       "grid_column": null,
       "grid_gap": null,
       "grid_row": null,
       "grid_template_areas": null,
       "grid_template_columns": null,
       "grid_template_rows": null,
       "height": null,
       "justify_content": null,
       "justify_items": null,
       "left": null,
       "margin": null,
       "max_height": null,
       "max_width": null,
       "min_height": null,
       "min_width": null,
       "object_fit": null,
       "object_position": null,
       "order": null,
       "overflow": null,
       "padding": null,
       "right": null,
       "top": null,
       "visibility": null,
       "width": null
      }
     },
     "2e092c9055b7411890c00f5a82fee181": {
      "model_module": "@jupyter-widgets/controls",
      "model_module_version": "2.0.0",
      "model_name": "HTMLModel",
      "state": {
       "_dom_classes": [],
       "_model_module": "@jupyter-widgets/controls",
       "_model_module_version": "2.0.0",
       "_model_name": "HTMLModel",
       "_view_count": null,
       "_view_module": "@jupyter-widgets/controls",
       "_view_module_version": "2.0.0",
       "_view_name": "HTMLView",
       "description": "",
       "description_allow_html": false,
       "layout": "IPY_MODEL_67b8dee4c1ff49deb47177a55626e90d",
       "placeholder": "​",
       "style": "IPY_MODEL_b31102692d20430d90ad926524da837a",
       "tabbable": null,
       "tooltip": null,
       "value": " 17/17 [01:30&lt;00:00,  2.75s/it]"
      }
     },
     "67b8dee4c1ff49deb47177a55626e90d": {
      "model_module": "@jupyter-widgets/base",
      "model_module_version": "2.0.0",
      "model_name": "LayoutModel",
      "state": {
       "_model_module": "@jupyter-widgets/base",
       "_model_module_version": "2.0.0",
       "_model_name": "LayoutModel",
       "_view_count": null,
       "_view_module": "@jupyter-widgets/base",
       "_view_module_version": "2.0.0",
       "_view_name": "LayoutView",
       "align_content": null,
       "align_items": null,
       "align_self": null,
       "border_bottom": null,
       "border_left": null,
       "border_right": null,
       "border_top": null,
       "bottom": null,
       "display": null,
       "flex": null,
       "flex_flow": null,
       "grid_area": null,
       "grid_auto_columns": null,
       "grid_auto_flow": null,
       "grid_auto_rows": null,
       "grid_column": null,
       "grid_gap": null,
       "grid_row": null,
       "grid_template_areas": null,
       "grid_template_columns": null,
       "grid_template_rows": null,
       "height": null,
       "justify_content": null,
       "justify_items": null,
       "left": null,
       "margin": null,
       "max_height": null,
       "max_width": null,
       "min_height": null,
       "min_width": null,
       "object_fit": null,
       "object_position": null,
       "order": null,
       "overflow": null,
       "padding": null,
       "right": null,
       "top": null,
       "visibility": null,
       "width": null
      }
     },
     "ac3ece5c6e1642c7b7f5ac85647e7a40": {
      "model_module": "@jupyter-widgets/controls",
      "model_module_version": "2.0.0",
      "model_name": "HTMLModel",
      "state": {
       "_dom_classes": [],
       "_model_module": "@jupyter-widgets/controls",
       "_model_module_version": "2.0.0",
       "_model_name": "HTMLModel",
       "_view_count": null,
       "_view_module": "@jupyter-widgets/controls",
       "_view_module_version": "2.0.0",
       "_view_name": "HTMLView",
       "description": "",
       "description_allow_html": false,
       "layout": "IPY_MODEL_2c768aaecacf4488aec380399cf63b1b",
       "placeholder": "​",
       "style": "IPY_MODEL_eed6625e5804476dbdeb2a2de821dee8",
       "tabbable": null,
       "tooltip": null,
       "value": "100%"
      }
     },
     "b31102692d20430d90ad926524da837a": {
      "model_module": "@jupyter-widgets/controls",
      "model_module_version": "2.0.0",
      "model_name": "HTMLStyleModel",
      "state": {
       "_model_module": "@jupyter-widgets/controls",
       "_model_module_version": "2.0.0",
       "_model_name": "HTMLStyleModel",
       "_view_count": null,
       "_view_module": "@jupyter-widgets/base",
       "_view_module_version": "2.0.0",
       "_view_name": "StyleView",
       "background": null,
       "description_width": "",
       "font_size": null,
       "text_color": null
      }
     },
     "b802c99e20424593936db9d1777dfef7": {
      "model_module": "@jupyter-widgets/base",
      "model_module_version": "2.0.0",
      "model_name": "LayoutModel",
      "state": {
       "_model_module": "@jupyter-widgets/base",
       "_model_module_version": "2.0.0",
       "_model_name": "LayoutModel",
       "_view_count": null,
       "_view_module": "@jupyter-widgets/base",
       "_view_module_version": "2.0.0",
       "_view_name": "LayoutView",
       "align_content": null,
       "align_items": null,
       "align_self": null,
       "border_bottom": null,
       "border_left": null,
       "border_right": null,
       "border_top": null,
       "bottom": null,
       "display": null,
       "flex": null,
       "flex_flow": null,
       "grid_area": null,
       "grid_auto_columns": null,
       "grid_auto_flow": null,
       "grid_auto_rows": null,
       "grid_column": null,
       "grid_gap": null,
       "grid_row": null,
       "grid_template_areas": null,
       "grid_template_columns": null,
       "grid_template_rows": null,
       "height": null,
       "justify_content": null,
       "justify_items": null,
       "left": null,
       "margin": null,
       "max_height": null,
       "max_width": null,
       "min_height": null,
       "min_width": null,
       "object_fit": null,
       "object_position": null,
       "order": null,
       "overflow": null,
       "padding": null,
       "right": null,
       "top": null,
       "visibility": null,
       "width": null
      }
     },
     "bb3d5a0c560d469e8fc70703056dba37": {
      "model_module": "@jupyter-widgets/base",
      "model_module_version": "2.0.0",
      "model_name": "LayoutModel",
      "state": {
       "_model_module": "@jupyter-widgets/base",
       "_model_module_version": "2.0.0",
       "_model_name": "LayoutModel",
       "_view_count": null,
       "_view_module": "@jupyter-widgets/base",
       "_view_module_version": "2.0.0",
       "_view_name": "LayoutView",
       "align_content": null,
       "align_items": null,
       "align_self": null,
       "border_bottom": null,
       "border_left": null,
       "border_right": null,
       "border_top": null,
       "bottom": null,
       "display": null,
       "flex": null,
       "flex_flow": null,
       "grid_area": null,
       "grid_auto_columns": null,
       "grid_auto_flow": null,
       "grid_auto_rows": null,
       "grid_column": null,
       "grid_gap": null,
       "grid_row": null,
       "grid_template_areas": null,
       "grid_template_columns": null,
       "grid_template_rows": null,
       "height": null,
       "justify_content": null,
       "justify_items": null,
       "left": null,
       "margin": null,
       "max_height": null,
       "max_width": null,
       "min_height": null,
       "min_width": null,
       "object_fit": null,
       "object_position": null,
       "order": null,
       "overflow": null,
       "padding": null,
       "right": null,
       "top": null,
       "visibility": null,
       "width": null
      }
     },
     "ca091cff880e46b7a9cae98c03d7fcb4": {
      "model_module": "@jupyter-widgets/controls",
      "model_module_version": "2.0.0",
      "model_name": "FloatProgressModel",
      "state": {
       "_dom_classes": [],
       "_model_module": "@jupyter-widgets/controls",
       "_model_module_version": "2.0.0",
       "_model_name": "FloatProgressModel",
       "_view_count": null,
       "_view_module": "@jupyter-widgets/controls",
       "_view_module_version": "2.0.0",
       "_view_name": "ProgressView",
       "bar_style": "success",
       "description": "",
       "description_allow_html": false,
       "layout": "IPY_MODEL_b802c99e20424593936db9d1777dfef7",
       "max": 17.0,
       "min": 0.0,
       "orientation": "horizontal",
       "style": "IPY_MODEL_f895604b29f7425f85b6faa460063632",
       "tabbable": null,
       "tooltip": null,
       "value": 17.0
      }
     },
     "eed6625e5804476dbdeb2a2de821dee8": {
      "model_module": "@jupyter-widgets/controls",
      "model_module_version": "2.0.0",
      "model_name": "HTMLStyleModel",
      "state": {
       "_model_module": "@jupyter-widgets/controls",
       "_model_module_version": "2.0.0",
       "_model_name": "HTMLStyleModel",
       "_view_count": null,
       "_view_module": "@jupyter-widgets/base",
       "_view_module_version": "2.0.0",
       "_view_name": "StyleView",
       "background": null,
       "description_width": "",
       "font_size": null,
       "text_color": null
      }
     },
     "f895604b29f7425f85b6faa460063632": {
      "model_module": "@jupyter-widgets/controls",
      "model_module_version": "2.0.0",
      "model_name": "ProgressStyleModel",
      "state": {
       "_model_module": "@jupyter-widgets/controls",
       "_model_module_version": "2.0.0",
       "_model_name": "ProgressStyleModel",
       "_view_count": null,
       "_view_module": "@jupyter-widgets/base",
       "_view_module_version": "2.0.0",
       "_view_name": "StyleView",
       "bar_color": null,
       "description_width": ""
      }
     }
    },
    "version_major": 2,
    "version_minor": 0
   }
  }
 },
 "nbformat": 4,
 "nbformat_minor": 5
}