{
 "cells": [
  {
   "cell_type": "markdown",
   "id": "92bcb855",
   "metadata": {
    "papermill": {
     "duration": 0.004784,
     "end_time": "2022-11-30T04:07:42.595894",
     "exception": false,
     "start_time": "2022-11-30T04:07:42.591110",
     "status": "completed"
    },
    "tags": []
   },
   "source": [
    "# MPIA Arxiv on Deck 2\n",
    "\n",
    "Contains the steps to produce the paper extractions."
   ]
  },
  {
   "cell_type": "code",
   "execution_count": 1,
   "id": "3a0d6e11",
   "metadata": {
    "execution": {
     "iopub.execute_input": "2022-11-30T04:07:42.606062Z",
     "iopub.status.busy": "2022-11-30T04:07:42.605562Z",
     "iopub.status.idle": "2022-11-30T04:07:42.774852Z",
     "shell.execute_reply": "2022-11-30T04:07:42.774207Z"
    },
    "papermill": {
     "duration": 0.176882,
     "end_time": "2022-11-30T04:07:42.777000",
     "exception": false,
     "start_time": "2022-11-30T04:07:42.600118",
     "status": "completed"
    },
    "tags": []
   },
   "outputs": [],
   "source": [
    "# Imports\n",
    "import os\n",
    "from IPython.display import Markdown, display\n",
    "from tqdm.notebook import tqdm\n",
    "import warnings\n",
    "from PIL import Image \n",
    "\n",
    "# requires arxiv_on_deck_2\n",
    "\n",
    "from arxiv_on_deck_2.arxiv2 import (get_new_papers, \n",
    "                                    get_paper_from_identifier,\n",
    "                                    retrieve_document_source, \n",
    "                                    get_markdown_badge)\n",
    "from arxiv_on_deck_2 import (latex, \n",
    "                             mpia,\n",
    "                             highlight_authors_in_list)\n",
    "\n",
    "# Sometimes images are really big\n",
    "Image.MAX_IMAGE_PIXELS = 1000000000 "
   ]
  },
  {
   "cell_type": "code",
   "execution_count": 2,
   "id": "22aa9d44",
   "metadata": {
    "execution": {
     "iopub.execute_input": "2022-11-30T04:07:42.788319Z",
     "iopub.status.busy": "2022-11-30T04:07:42.787597Z",
     "iopub.status.idle": "2022-11-30T04:07:42.792726Z",
     "shell.execute_reply": "2022-11-30T04:07:42.792114Z"
    },
    "papermill": {
     "duration": 0.013051,
     "end_time": "2022-11-30T04:07:42.794192",
     "exception": false,
     "start_time": "2022-11-30T04:07:42.781141",
     "status": "completed"
    },
    "tags": []
   },
   "outputs": [],
   "source": [
    "# Some useful definitions.\n",
    "\n",
    "class AffiliationWarning(UserWarning):\n",
    "    pass\n",
    "\n",
    "class AffiliationError(RuntimeError):\n",
    "    pass\n",
    "\n",
    "def validation(source: str):\n",
    "    \"\"\"Raises error paper during parsing of source file\n",
    "    \n",
    "    Allows checks before parsing TeX code.\n",
    "    \n",
    "    Raises AffiliationWarning\n",
    "    \"\"\"\n",
    "    check = mpia.affiliation_verifications(source, verbose=True)\n",
    "    if check is not True:\n",
    "        raise AffiliationError(\"mpia.affiliation_verifications: \" + check)\n",
    "\n",
    "        \n",
    "warnings.simplefilter('always', AffiliationWarning)"
   ]
  },
  {
   "cell_type": "code",
   "execution_count": 3,
   "id": "14622700",
   "metadata": {
    "execution": {
     "iopub.execute_input": "2022-11-30T04:07:42.806561Z",
     "iopub.status.busy": "2022-11-30T04:07:42.806147Z",
     "iopub.status.idle": "2022-11-30T04:07:42.811173Z",
     "shell.execute_reply": "2022-11-30T04:07:42.810676Z"
    },
    "papermill": {
     "duration": 0.014743,
     "end_time": "2022-11-30T04:07:42.812829",
     "exception": false,
     "start_time": "2022-11-30T04:07:42.798086",
     "status": "completed"
    },
    "tags": []
   },
   "outputs": [],
   "source": [
    "# additional CSS to consider. \n",
    "# TODO: Current into each exported file. \n",
    "#       This should be set once into the webpages directly.\n",
    "#       With only the class/id definitions in the .md files.\n",
    "\n",
    "debug_html = \"\"\"\n",
    "<style>\n",
    "#wrap{ overflow:auto; }\n",
    "#fig1{ background:yellow; width:100%; float:left; padding:5px;  }\n",
    "#fig2{ background:red; width:50%; float:left; clear:left; padding:5px;  }\n",
    "#fig3{ background:green; width:50%; float:left; padding:5px;   }\n",
    ".macros{ background:yellow; visibility:visible;}\n",
    "h1 {margin: 0 0 0 0;}\n",
    "mark {background-color:#fff3b6;}\n",
    "img {object-fit:contain; max-height:250px; display:inline-block; text-align: center;}\n",
    "</style>\n",
    "\"\"\" \n",
    "html = \"\"\"\n",
    "<style>\n",
    "#wrap{ overflow:auto; }\n",
    "#fig1{ width:100%; float:left; padding: 5px;  }\n",
    "#fig2{ width:50%; float:left; clear:left; padding: 5px;  }\n",
    "#fig3{ width:50%; float:left; padding: 5px;  }\n",
    ".macros{ visibility:hidden; height:0px; }\n",
    "h1 {margin: 0em 0 0 0;}\n",
    "mark {background-color:#fff3b6;}\n",
    "img {object-fit:contain; max-height:250px; display:inline-block; text-align: center;}\n",
    "</style>\n",
    "\"\"\""
   ]
  },
  {
   "cell_type": "markdown",
   "id": "14bd6310",
   "metadata": {
    "papermill": {
     "duration": 0.003869,
     "end_time": "2022-11-30T04:07:42.820701",
     "exception": false,
     "start_time": "2022-11-30T04:07:42.816832",
     "status": "completed"
    },
    "tags": []
   },
   "source": [
    "## get list of arxiv paper candidates\n",
    "\n",
    "We use the MPIA mitarbeiter list webpage from mpia.de to get author names\n",
    "We then get all new papers from Arxiv and match authors"
   ]
  },
  {
   "cell_type": "code",
   "execution_count": 4,
   "id": "2645e73a",
   "metadata": {
    "execution": {
     "iopub.execute_input": "2022-11-30T04:07:42.829896Z",
     "iopub.status.busy": "2022-11-30T04:07:42.829624Z",
     "iopub.status.idle": "2022-11-30T04:08:04.790981Z",
     "shell.execute_reply": "2022-11-30T04:08:04.789352Z"
    },
    "papermill": {
     "duration": 21.96799,
     "end_time": "2022-11-30T04:08:04.792591",
     "exception": false,
     "start_time": "2022-11-30T04:07:42.824601",
     "status": "completed"
    },
    "tags": []
   },
   "outputs": [
    {
     "name": "stdout",
     "output_type": "stream",
     "text": [
      "Arxiv has 70 new papers today\n",
      "          28 with possible author matches\n"
     ]
    }
   ],
   "source": [
    "# get list from MPIA website\n",
    "# it automatically filters identified non-scientists :func:`mpia.filter_non_scientists`\n",
    "mpia_authors = mpia.get_mpia_mitarbeiter_list()\n",
    "new_papers = get_new_papers()\n",
    "# add manual references\n",
    "add_paper_refs = []\n",
    "new_papers.extend([get_paper_from_identifier(k) for k in add_paper_refs])\n",
    "\n",
    "# select only papers with matching author names and highlight authors\n",
    "hl_list = [k[0] for k in mpia_authors]\n",
    "\n",
    "candidates = []\n",
    "for paperk in new_papers:\n",
    "    hl_authors = highlight_authors_in_list(paperk['authors'], hl_list)\n",
    "    matches = [(hl, orig) for hl, orig in zip(hl_authors, paperk['authors']) if 'mark' in hl]\n",
    "    paperk['authors'] = hl_authors\n",
    "    if matches:\n",
    "        candidates.append(paperk)\n",
    "print(\"\"\"Arxiv has {0:,d} new papers today\"\"\".format(len(new_papers)))        \n",
    "print(\"\"\"          {0:,d} with possible author matches\"\"\".format(len(candidates)))"
   ]
  },
  {
   "cell_type": "markdown",
   "id": "3543b34a",
   "metadata": {
    "papermill": {
     "duration": 0.004041,
     "end_time": "2022-11-30T04:08:04.801378",
     "exception": false,
     "start_time": "2022-11-30T04:08:04.797337",
     "status": "completed"
    },
    "tags": []
   },
   "source": [
    "# Parse sources and generate relevant outputs\n",
    "\n",
    "From the candidates, we do the following steps:\n",
    "* get their tarball from ArXiv (and extract data)\n",
    "* find the main .tex file: find one with \\documentclass{...} (sometimes it's non trivial)\n",
    "* Check affiliations with :func:`validation`, which uses :func:`mpia.affiliation_verifications`\n",
    "* If passing the affiliations: we parse the .tex source\n",
    "   * inject sub-documents into the main (flatten the main document)\n",
    "   * parse structure, extract information (title, abstract, authors, figures...)\n",
    "   * handles `\\graphicspath` if provided\n",
    "* Generate the .md document."
   ]
  },
  {
   "cell_type": "code",
   "execution_count": 5,
   "id": "9576b79e",
   "metadata": {
    "execution": {
     "iopub.execute_input": "2022-11-30T04:08:04.810678Z",
     "iopub.status.busy": "2022-11-30T04:08:04.810425Z",
     "iopub.status.idle": "2022-11-30T04:09:22.802628Z",
     "shell.execute_reply": "2022-11-30T04:09:22.802049Z"
    },
    "papermill": {
     "duration": 77.999215,
     "end_time": "2022-11-30T04:09:22.804574",
     "exception": false,
     "start_time": "2022-11-30T04:08:04.805359",
     "status": "completed"
    },
    "scrolled": false,
    "tags": []
   },
   "outputs": [
    {
     "data": {
      "application/vnd.jupyter.widget-view+json": {
       "model_id": "027fbc5007c2491daa5f4122ce1b2f9c",
       "version_major": 2,
       "version_minor": 0
      },
      "text/plain": [
       "  0%|          | 0/27 [00:00<?, ?it/s]"
      ]
     },
     "metadata": {},
     "output_type": "display_data"
    },
    {
     "name": "stdout",
     "output_type": "stream",
     "text": [
      "Retrieving document from  https://arxiv.org/e-print/2211.15665\n"
     ]
    },
    {
     "name": "stderr",
     "output_type": "stream",
     "text": [
      "/tmp/ipykernel_2231/4030337529.py:34: LatexWarning: 2211.15665 did not run properly\n",
      "not a gzip file\n",
      "  warnings.warn(latex.LatexWarning(f\"{paper_id:s} did not run properly\\n\" +\n"
     ]
    },
    {
     "name": "stdout",
     "output_type": "stream",
     "text": [
      "Retrieving document from  https://arxiv.org/e-print/2211.15676\n"
     ]
    },
    {
     "name": "stdout",
     "output_type": "stream",
     "text": [
      "extracting tarball to tmp_2211.15676..."
     ]
    },
    {
     "name": "stdout",
     "output_type": "stream",
     "text": [
      " done.\n",
      "Retrieving document from  https://arxiv.org/e-print/2211.15698\n"
     ]
    },
    {
     "name": "stdout",
     "output_type": "stream",
     "text": [
      "extracting tarball to tmp_2211.15698..."
     ]
    },
    {
     "name": "stdout",
     "output_type": "stream",
     "text": [
      " done.\n"
     ]
    },
    {
     "name": "stdout",
     "output_type": "stream",
     "text": [
      "Retrieving document from  https://arxiv.org/e-print/2211.15702\n"
     ]
    },
    {
     "name": "stdout",
     "output_type": "stream",
     "text": [
      "extracting tarball to tmp_2211.15702..."
     ]
    },
    {
     "name": "stdout",
     "output_type": "stream",
     "text": [
      " done.\n",
      "Retrieving document from  https://arxiv.org/e-print/2211.15706\n"
     ]
    },
    {
     "name": "stderr",
     "output_type": "stream",
     "text": [
      "/opt/hostedtoolcache/Python/3.9.15/x64/lib/python3.9/site-packages/IPython/core/interactiveshell.py:3433: LatexWarning: Multiple tex files.\n",
      "\n",
      "  exec(code_obj, self.user_global_ns, self.user_ns)\n",
      "/opt/hostedtoolcache/Python/3.9.15/x64/lib/python3.9/site-packages/IPython/core/interactiveshell.py:3433: LatexWarning: Found documentclass in tmp_2211.15702/main.tex\n",
      "\n",
      "  exec(code_obj, self.user_global_ns, self.user_ns)\n",
      "/opt/hostedtoolcache/Python/3.9.15/x64/lib/python3.9/site-packages/arxiv_on_deck_2/latex.py:292: LatexWarning: Latex injecting: 'Parameter_values_table' from 'tmp_2211.15702/Parameter_values_table.tex'\n",
      "  warnings.warn(LatexWarning(f\"Latex injecting: '{ext}' from '{subsource}'\"))\n",
      "/opt/hostedtoolcache/Python/3.9.15/x64/lib/python3.9/site-packages/arxiv_on_deck_2/latex.py:292: LatexWarning: Latex injecting: 'Model_Description_table' from 'tmp_2211.15702/Model_Description_table.tex'\n",
      "  warnings.warn(LatexWarning(f\"Latex injecting: '{ext}' from '{subsource}'\"))\n",
      "/opt/hostedtoolcache/Python/3.9.15/x64/lib/python3.9/site-packages/arxiv_on_deck_2/latex.py:292: LatexWarning: Latex injecting: 'ZTF_events_table' from 'tmp_2211.15702/ZTF_events_table.tex'\n",
      "  warnings.warn(LatexWarning(f\"Latex injecting: '{ext}' from '{subsource}'\"))\n"
     ]
    },
    {
     "name": "stdout",
     "output_type": "stream",
     "text": [
      "extracting tarball to tmp_2211.15706..."
     ]
    },
    {
     "name": "stdout",
     "output_type": "stream",
     "text": [
      " done.\n",
      "Retrieving document from  https://arxiv.org/e-print/2211.15707\n"
     ]
    },
    {
     "name": "stdout",
     "output_type": "stream",
     "text": [
      "extracting tarball to tmp_2211.15707..."
     ]
    },
    {
     "name": "stdout",
     "output_type": "stream",
     "text": [
      " done.\n",
      "Retrieving document from  https://arxiv.org/e-print/2211.15749\n"
     ]
    },
    {
     "name": "stdout",
     "output_type": "stream",
     "text": [
      "extracting tarball to tmp_2211.15749... done.\n",
      "Retrieving document from  https://arxiv.org/e-print/2211.15781\n"
     ]
    },
    {
     "name": "stderr",
     "output_type": "stream",
     "text": [
      "/opt/hostedtoolcache/Python/3.9.15/x64/lib/python3.9/site-packages/IPython/core/interactiveshell.py:3433: LatexWarning: Multiple tex files.\n",
      "\n",
      "  exec(code_obj, self.user_global_ns, self.user_ns)\n",
      "/opt/hostedtoolcache/Python/3.9.15/x64/lib/python3.9/site-packages/IPython/core/interactiveshell.py:3433: LatexWarning: Found documentclass in tmp_2211.15749/main.tex\n",
      "\n",
      "  exec(code_obj, self.user_global_ns, self.user_ns)\n"
     ]
    },
    {
     "name": "stderr",
     "output_type": "stream",
     "text": [
      "/tmp/ipykernel_2231/4030337529.py:34: LatexWarning: 2211.15781 did not run properly\n",
      "not a gzip file\n",
      "  warnings.warn(latex.LatexWarning(f\"{paper_id:s} did not run properly\\n\" +\n"
     ]
    },
    {
     "name": "stdout",
     "output_type": "stream",
     "text": [
      "Retrieving document from  https://arxiv.org/e-print/2211.15794\n"
     ]
    },
    {
     "name": "stdout",
     "output_type": "stream",
     "text": [
      "extracting tarball to tmp_2211.15794..."
     ]
    },
    {
     "name": "stdout",
     "output_type": "stream",
     "text": [
      " done.\n",
      "Retrieving document from  https://arxiv.org/e-print/2211.15816\n"
     ]
    },
    {
     "name": "stdout",
     "output_type": "stream",
     "text": [
      "extracting tarball to tmp_2211.15816... done.\n"
     ]
    },
    {
     "name": "stderr",
     "output_type": "stream",
     "text": [
      "/opt/hostedtoolcache/Python/3.9.15/x64/lib/python3.9/site-packages/arxiv_on_deck_2/latex.py:366: LatexWarning: Error parsing the document directly. Trying to recover.\n",
      "  warnings.warn(LatexWarning(f\"Error parsing the document directly. Trying to recover.\"))\n"
     ]
    },
    {
     "name": "stdout",
     "output_type": "stream",
     "text": [
      "✔ → 0:header\n",
      "  ↳ 5722:\\section{Introduction}\n"
     ]
    },
    {
     "name": "stdout",
     "output_type": "stream",
     "text": [
      "✔ → 5722:\\section{Introduction}\n",
      "  ↳ 13407:\\section{Observations and Data Processing}\\label{sec:sample}\n",
      "✔ → 13407:\\section{Observations and Data Processing}\\label{sec:sample}\n",
      "  ↳ 19313:\\section{Absorption line catalog}\\label{sec:method}\n"
     ]
    },
    {
     "name": "stdout",
     "output_type": "stream",
     "text": [
      "✔ → 19313:\\section{Absorption line catalog}\\label{sec:method}\n",
      "  ↳ 59418:\\section{Sample Properties}\\label{sec:absorber_properties}\n"
     ]
    },
    {
     "name": "stdout",
     "output_type": "stream",
     "text": [
      "✔ → 59418:\\section{Sample Properties}\\label{sec:absorber_properties}\n",
      "  ↳ 72633:\\section{Completeness And False-Positive Rate}\\label{sec:completeness}\n"
     ]
    },
    {
     "name": "stdout",
     "output_type": "stream",
     "text": [
      "✘ → 72633:\\section{Completeness And False-Positive Rate}\\label{sec:completeness}\n",
      "  ↳ 94982:\\section{Description of Released Products}\\label{sec:catalog_desc}\n"
     ]
    },
    {
     "name": "stdout",
     "output_type": "stream",
     "text": [
      "✘ → 94982:\\section{Description of Released Products}\\label{sec:catalog_desc}\n",
      "  ↳ 105642:\\section{Summary}\\label{sec:summary}\n",
      "✔ → 105642:\\section{Summary}\\label{sec:summary}\n",
      "  ↳ 112211:\\section{Velocity shifting}\\label{appendix:velshift}\n"
     ]
    },
    {
     "name": "stdout",
     "output_type": "stream",
     "text": [
      "✔ → 112211:\\section{Velocity shifting}\\label{appendix:velshift}\n",
      "  ↳ 116405:\\section{Accompanying Data Tables and Figures}\n"
     ]
    },
    {
     "name": "stdout",
     "output_type": "stream",
     "text": [
      "✘ → 116405:\\section{Accompanying Data Tables and Figures}\n",
      "  ↳ 129575:end\n"
     ]
    },
    {
     "name": "stdout",
     "output_type": "stream",
     "text": [
      "Retrieving document from  https://arxiv.org/e-print/2211.15828\n"
     ]
    },
    {
     "name": "stdout",
     "output_type": "stream",
     "text": [
      "extracting tarball to tmp_2211.15828..."
     ]
    },
    {
     "name": "stdout",
     "output_type": "stream",
     "text": [
      " done.\n",
      "Retrieving document from  https://arxiv.org/e-print/2211.15881\n"
     ]
    },
    {
     "name": "stdout",
     "output_type": "stream",
     "text": [
      "extracting tarball to tmp_2211.15881... done.\n",
      "Retrieving document from  https://arxiv.org/e-print/2211.15909\n"
     ]
    },
    {
     "name": "stdout",
     "output_type": "stream",
     "text": [
      "extracting tarball to tmp_2211.15909..."
     ]
    },
    {
     "name": "stdout",
     "output_type": "stream",
     "text": [
      " done.\n",
      "Retrieving document from  https://arxiv.org/e-print/2211.15966\n"
     ]
    },
    {
     "name": "stdout",
     "output_type": "stream",
     "text": [
      "extracting tarball to tmp_2211.15966..."
     ]
    },
    {
     "name": "stdout",
     "output_type": "stream",
     "text": [
      " done.\n",
      "Retrieving document from  https://arxiv.org/e-print/2211.15998\n"
     ]
    },
    {
     "name": "stdout",
     "output_type": "stream",
     "text": [
      "extracting tarball to tmp_2211.15998... done.\n",
      "Retrieving document from  https://arxiv.org/e-print/2211.16009\n"
     ]
    },
    {
     "name": "stdout",
     "output_type": "stream",
     "text": [
      "extracting tarball to tmp_2211.16009..."
     ]
    },
    {
     "name": "stdout",
     "output_type": "stream",
     "text": [
      " done.\n",
      "Retrieving document from  https://arxiv.org/e-print/2211.16015\n"
     ]
    },
    {
     "name": "stdout",
     "output_type": "stream",
     "text": [
      "extracting tarball to tmp_2211.16015... done.\n",
      "Retrieving document from  https://arxiv.org/e-print/2211.16020\n"
     ]
    },
    {
     "name": "stdout",
     "output_type": "stream",
     "text": [
      "extracting tarball to tmp_2211.16020..."
     ]
    },
    {
     "name": "stdout",
     "output_type": "stream",
     "text": [
      " done.\n",
      "Retrieving document from  https://arxiv.org/e-print/2211.16105\n"
     ]
    },
    {
     "name": "stderr",
     "output_type": "stream",
     "text": [
      "/opt/hostedtoolcache/Python/3.9.15/x64/lib/python3.9/site-packages/IPython/core/interactiveshell.py:3433: LatexWarning: Multiple tex files.\n",
      "\n",
      "  exec(code_obj, self.user_global_ns, self.user_ns)\n",
      "/opt/hostedtoolcache/Python/3.9.15/x64/lib/python3.9/site-packages/IPython/core/interactiveshell.py:3433: LatexWarning: Found documentclass in tmp_2211.16020/aassymbols.tex\n",
      "\n",
      "  exec(code_obj, self.user_global_ns, self.user_ns)\n"
     ]
    },
    {
     "name": "stdout",
     "output_type": "stream",
     "text": [
      "extracting tarball to tmp_2211.16105..."
     ]
    },
    {
     "name": "stdout",
     "output_type": "stream",
     "text": [
      " done.\n",
      "Retrieving document from  https://arxiv.org/e-print/2211.16123\n"
     ]
    },
    {
     "name": "stderr",
     "output_type": "stream",
     "text": [
      "/opt/hostedtoolcache/Python/3.9.15/x64/lib/python3.9/site-packages/IPython/core/interactiveshell.py:3433: LatexWarning: Multiple tex files.\n",
      "\n",
      "  exec(code_obj, self.user_global_ns, self.user_ns)\n",
      "/opt/hostedtoolcache/Python/3.9.15/x64/lib/python3.9/site-packages/IPython/core/interactiveshell.py:3433: LatexWarning: Found documentclass in tmp_2211.16105/assembly_bias.tex\n",
      "\n",
      "  exec(code_obj, self.user_global_ns, self.user_ns)\n"
     ]
    },
    {
     "name": "stdout",
     "output_type": "stream",
     "text": [
      "extracting tarball to tmp_2211.16123..."
     ]
    },
    {
     "name": "stdout",
     "output_type": "stream",
     "text": [
      " done.\n"
     ]
    },
    {
     "name": "stdout",
     "output_type": "stream",
     "text": [
      "Retrieving document from  https://arxiv.org/e-print/2211.16217\n"
     ]
    },
    {
     "name": "stdout",
     "output_type": "stream",
     "text": [
      "extracting tarball to tmp_2211.16217..."
     ]
    },
    {
     "name": "stdout",
     "output_type": "stream",
     "text": [
      " done.\n",
      "Retrieving document from  https://arxiv.org/e-print/2211.16239\n"
     ]
    },
    {
     "name": "stdout",
     "output_type": "stream",
     "text": [
      "extracting tarball to tmp_2211.16239..."
     ]
    },
    {
     "name": "stdout",
     "output_type": "stream",
     "text": [
      " done.\n"
     ]
    },
    {
     "name": "stderr",
     "output_type": "stream",
     "text": [
      "/opt/hostedtoolcache/Python/3.9.15/x64/lib/python3.9/site-packages/arxiv_on_deck_2/latex.py:118: LatexWarning: attempting recovering figure empty.eps\n",
      "  warnings.warn(LatexWarning(f'attempting recovering figure {image}'))\n",
      "/tmp/ipykernel_2231/4030337529.py:34: LatexWarning: 2211.16239 did not run properly\n",
      "Could not find figure empty.eps\n",
      "  warnings.warn(latex.LatexWarning(f\"{paper_id:s} did not run properly\\n\" +\n"
     ]
    },
    {
     "name": "stdout",
     "output_type": "stream",
     "text": [
      "Retrieving document from  https://arxiv.org/e-print/2211.16261\n"
     ]
    },
    {
     "name": "stdout",
     "output_type": "stream",
     "text": [
      "extracting tarball to tmp_2211.16261..."
     ]
    },
    {
     "name": "stdout",
     "output_type": "stream",
     "text": [
      " done.\n",
      "Retrieving document from  https://arxiv.org/e-print/2211.16311\n"
     ]
    },
    {
     "name": "stdout",
     "output_type": "stream",
     "text": [
      "extracting tarball to tmp_2211.16311..."
     ]
    },
    {
     "name": "stdout",
     "output_type": "stream",
     "text": [
      " done.\n",
      "Retrieving document from  https://arxiv.org/e-print/2211.16382\n"
     ]
    },
    {
     "name": "stderr",
     "output_type": "stream",
     "text": [
      "/opt/hostedtoolcache/Python/3.9.15/x64/lib/python3.9/site-packages/IPython/core/interactiveshell.py:3433: LatexWarning: Multiple tex files.\n",
      "\n",
      "  exec(code_obj, self.user_global_ns, self.user_ns)\n",
      "/opt/hostedtoolcache/Python/3.9.15/x64/lib/python3.9/site-packages/IPython/core/interactiveshell.py:3433: LatexWarning: Found documentclass in tmp_2211.16311/M31BulgeStructureArxiv.tex\n",
      "\n",
      "  exec(code_obj, self.user_global_ns, self.user_ns)\n"
     ]
    },
    {
     "name": "stdout",
     "output_type": "stream",
     "text": [
      "extracting tarball to tmp_2211.16382..."
     ]
    },
    {
     "name": "stdout",
     "output_type": "stream",
     "text": [
      " done.\n",
      "Retrieving document from  https://arxiv.org/e-print/2211.16388\n"
     ]
    },
    {
     "name": "stderr",
     "output_type": "stream",
     "text": [
      "/opt/hostedtoolcache/Python/3.9.15/x64/lib/python3.9/site-packages/IPython/core/interactiveshell.py:3433: LatexWarning: Multiple tex files.\n",
      "\n",
      "  exec(code_obj, self.user_global_ns, self.user_ns)\n",
      "/opt/hostedtoolcache/Python/3.9.15/x64/lib/python3.9/site-packages/IPython/core/interactiveshell.py:3433: LatexWarning: Found documentclass in tmp_2211.16382/paper.tex\n",
      "\n",
      "  exec(code_obj, self.user_global_ns, self.user_ns)\n",
      "/opt/hostedtoolcache/Python/3.9.15/x64/lib/python3.9/site-packages/arxiv_on_deck_2/latex.py:292: LatexWarning: Latex injecting: 'divergence' from 'tmp_2211.16382/divergence.tex'\n",
      "  warnings.warn(LatexWarning(f\"Latex injecting: '{ext}' from '{subsource}'\"))\n",
      "/opt/hostedtoolcache/Python/3.9.15/x64/lib/python3.9/site-packages/arxiv_on_deck_2/latex.py:292: LatexWarning: Latex injecting: 'lmc' from 'tmp_2211.16382/lmc.tex'\n",
      "  warnings.warn(LatexWarning(f\"Latex injecting: '{ext}' from '{subsource}'\"))\n",
      "/opt/hostedtoolcache/Python/3.9.15/x64/lib/python3.9/site-packages/arxiv_on_deck_2/latex.py:292: LatexWarning: Latex injecting: 'sims' from 'tmp_2211.16382/sims.tex'\n",
      "  warnings.warn(LatexWarning(f\"Latex injecting: '{ext}' from '{subsource}'\"))\n",
      "/opt/hostedtoolcache/Python/3.9.15/x64/lib/python3.9/site-packages/arxiv_on_deck_2/latex.py:292: LatexWarning: Latex injecting: 'authors' from 'tmp_2211.16382/authors.tex'\n",
      "  warnings.warn(LatexWarning(f\"Latex injecting: '{ext}' from '{subsource}'\"))\n",
      "/opt/hostedtoolcache/Python/3.9.15/x64/lib/python3.9/site-packages/arxiv_on_deck_2/latex.py:292: LatexWarning: Latex injecting: 'affiliations' from 'tmp_2211.16382/affiliations.tex'\n",
      "  warnings.warn(LatexWarning(f\"Latex injecting: '{ext}' from '{subsource}'\"))\n"
     ]
    },
    {
     "name": "stdout",
     "output_type": "stream",
     "text": [
      "extracting tarball to tmp_2211.16388..."
     ]
    },
    {
     "name": "stdout",
     "output_type": "stream",
     "text": [
      " done.\n",
      "Retrieving document from  https://arxiv.org/e-print/2211.16441\n"
     ]
    },
    {
     "name": "stdout",
     "output_type": "stream",
     "text": [
      "extracting tarball to tmp_2211.16441... done.\n"
     ]
    }
   ],
   "source": [
    "documents = []\n",
    "failed = []\n",
    "for paper in tqdm(candidates[:-1]):\n",
    "    paper_id = paper['identifier'].lower().replace('arxiv:', '')\n",
    "    \n",
    "    folder = f'tmp_{paper_id}'\n",
    "\n",
    "    try:\n",
    "        if not os.path.isdir(folder):\n",
    "            folder = retrieve_document_source(f\"{paper_id}\", f'tmp_{paper_id}')\n",
    "        \n",
    "        try:\n",
    "            doc = latex.LatexDocument(folder, validation=validation)    \n",
    "        except AffiliationError as affilerror:\n",
    "            msg = f\"ArXiv:{paper_id:s} is not an MPIA paper... \" + str(affilerror)\n",
    "            failed.append((paper, \"affiliation error: \" + str(affilerror) ))\n",
    "            continue\n",
    "        \n",
    "        # Hack because sometimes author parsing does not work well\n",
    "        if (len(doc.authors) != len(paper['authors'])):\n",
    "            doc._authors = paper['authors']\n",
    "        if (doc.abstract) in (None, ''):\n",
    "            doc._abstract = paper['abstract']\n",
    "            \n",
    "        doc.comment = (get_markdown_badge(paper_id) + \n",
    "                       \"<mark>Appeared on: \" + paper['date'] + \"</mark> - \" +\n",
    "                       \"_\" + paper['comments'] + \"_\")\n",
    "        doc.highlight_authors_in_list(hl_list)\n",
    "\n",
    "        full_md = doc.generate_markdown_text()\n",
    "        \n",
    "        documents.append((paper_id, full_md))\n",
    "    except Exception as e:\n",
    "        warnings.warn(latex.LatexWarning(f\"{paper_id:s} did not run properly\\n\" +\n",
    "                                         str(e)\n",
    "                                        ))\n",
    "        failed.append((paper, \"latex error \" + str(e)))"
   ]
  },
  {
   "cell_type": "markdown",
   "id": "2505a25c",
   "metadata": {
    "papermill": {
     "duration": 0.007523,
     "end_time": "2022-11-30T04:09:22.819923",
     "exception": false,
     "start_time": "2022-11-30T04:09:22.812400",
     "status": "completed"
    },
    "tags": []
   },
   "source": [
    "### Export the logs\n",
    "\n",
    "Throughout, we also keep track of the logs per paper. see `logs-{today date}.md` "
   ]
  },
  {
   "cell_type": "code",
   "execution_count": 6,
   "id": "d733828a",
   "metadata": {
    "execution": {
     "iopub.execute_input": "2022-11-30T04:09:22.836648Z",
     "iopub.status.busy": "2022-11-30T04:09:22.835936Z",
     "iopub.status.idle": "2022-11-30T04:09:22.870981Z",
     "shell.execute_reply": "2022-11-30T04:09:22.870403Z"
    },
    "papermill": {
     "duration": 0.044925,
     "end_time": "2022-11-30T04:09:22.872354",
     "exception": false,
     "start_time": "2022-11-30T04:09:22.827429",
     "status": "completed"
    },
    "scrolled": false,
    "tags": []
   },
   "outputs": [
    {
     "data": {
      "text/markdown": [
       "## Successful papers"
      ],
      "text/plain": [
       "<IPython.core.display.Markdown object>"
      ]
     },
     "metadata": {},
     "output_type": "display_data"
    },
    {
     "data": {
      "text/markdown": [
       "\n",
       "|||\n",
       "|---:|:---|\n",
       "| [![arXiv](https://img.shields.io/badge/arXiv-arXiv:2211.15698-b31b1b.svg)](https://arxiv.org/abs/arXiv:2211.15698) | **PHANGS-JWST First Results: Duration of the early phase of massive star  formation in NGC628**  |\n",
       "|| Jaeyeon Kim, et al. -- incl., <mark>Frank Bigiel</mark>, <mark>Annie Hughes</mark>, <mark>Kathryn Kreckel</mark>, <mark>Janice C. Lee</mark>, <mark>Daizhong Liu</mark>, <mark>Eva Schinnerer</mark>, <mark>Rowan J. Smith</mark> |\n",
       "|*Appeared on*| *2022-11-30*|\n",
       "|*Comments*| *15 pages, 4 figures, 2 tables; resubmitted to ApJL after minor revisions*|\n",
       "|**Abstract**| The earliest stages of star formation, when young stars are still deeply embedded in their natal clouds, represent a critical phase in the matter cycle between gas clouds and young stellar regions. Until now, the high-resolution infrared observations required for characterizing this heavily obscured phase (during which massive stars have formed, but optical emission is not detected) could only be obtained for a handful of the most nearby galaxies. One of the main hurdles has been the limited angular resolution of the Spitzer Space Telescope. With the revolutionary capabilities of the JWST, it is now possible to investigate the matter cycle during the earliest phases of star formation as a function of the galactic environment. In this Letter, we demonstrate this by measuring the duration of the embedded phase of star formation and the implied time over which molecular clouds remain inert in the galaxy NGC628 at a distance of 9.8Mpc, demonstrating that the cosmic volume where this measurement can be made has increased by a factor of $>100$ compared to Spitzer. We show that young massive stars remain embedded for $5.1_{-1.4}^{+2.7}$Myr ($2.3_{-1.4}^{+2.7}$Myr of which being heavily obscured), representing $\\sim20\\%$ of the total cloud lifetime. These values are in broad agreement with previous measurements in five nearby ($D < 3.5$Mpc) galaxies and constitute a proof of concept for the systematic characterization of the early phase of star formation across the nearby galaxy population with the PHANGS-JWST survey. |"
      ],
      "text/plain": [
       "[arXiv:2211.15698] PHANGS-JWST First Results: Duration of the early phase of massive star  formation in NGC628\n",
       "\tJaeyeon Kim, et al. -- incl., <mark>Frank Bigiel</mark>, <mark>Annie Hughes</mark>, <mark>Kathryn Kreckel</mark>, <mark>Janice C. Lee</mark>, <mark>Daizhong Liu</mark>, <mark>Eva Schinnerer</mark>, <mark>Rowan J. Smith</mark>"
      ]
     },
     "metadata": {},
     "output_type": "display_data"
    },
    {
     "data": {
      "text/markdown": [
       "\n",
       "|||\n",
       "|---:|:---|\n",
       "| [![arXiv](https://img.shields.io/badge/arXiv-arXiv:2211.15816-b31b1b.svg)](https://arxiv.org/abs/arXiv:2211.15816) | **The XQR-30 Metal Absorber Catalog: 778 Absorption Systems Spanning 2 < z  < 6.5**  |\n",
       "|| <mark>Rebecca L. Davies</mark>, et al. -- incl., <mark>Sarah E. I. Bosman</mark>, <mark>Romain A. Meyer</mark> |\n",
       "|*Appeared on*| *2022-11-30*|\n",
       "|*Comments*| *29 pages and 14 figures including 2 appendices. Re-submitted to MNRAS after responding to referee's comments*|\n",
       "|**Abstract**| Intervening metal absorption lines in the spectra of z > 6 quasars are fundamental probes of the ionization state and chemical composition of circumgalactic and intergalactic gas near the end of the reionization epoch. Large absorber samples are required to robustly measure typical absorber properties and to refine models of the synthesis, transport, and ionization of metals in the early Universe. The \"Ultimate XSHOOTER legacy survey of quasars at z~5.8-6.6\" (XQR-30) has obtained high signal-to-noise spectra of 30 luminous quasars, nearly quadrupling the existing sample of 12 high quality z~6 quasar spectra. We use this unprecedented sample to construct a catalog of 778 systems showing absorption in one or more of MgII (360 systems), FeII (184), CII (46), CIV (479), SiIV (127), and NV (13) which span 2 < z < 6.5. This catalog significantly expands on existing samples of z > 5 absorbers, especially for CIV and SiIV which are important probes of the ionizing photon background at high redshift. The sample is 50% (90%) complete for rest-frame equivalent widths W > 0.03AA (0.09AA). We publicly release the absorber catalog along with completeness statistics and a Python script to compute the absorption search path for different ions and redshift ranges. This dataset is a key legacy resource for studies of enriched gas from the era of galaxy assembly to cosmic noon, and paves the way for even higher redshift studies with the James Webb Space Telescope and 30m-class telescopes. |"
      ],
      "text/plain": [
       "[arXiv:2211.15816] The XQR-30 Metal Absorber Catalog: 778 Absorption Systems Spanning 2 < z  < 6.5\n",
       "\t<mark>Rebecca L. Davies</mark>, et al. -- incl., <mark>Sarah E. I. Bosman</mark>, <mark>Romain A. Meyer</mark>"
      ]
     },
     "metadata": {},
     "output_type": "display_data"
    },
    {
     "data": {
      "text/markdown": [
       "\n",
       "|||\n",
       "|---:|:---|\n",
       "| [![arXiv](https://img.shields.io/badge/arXiv-arXiv:2211.16123-b31b1b.svg)](https://arxiv.org/abs/arXiv:2211.16123) | **Spectroscopic time series performance of the Mid-Infrared Instrument on  the JWST**  |\n",
       "|| <mark>Jeroen Bouwman</mark>, et al. -- incl., <mark>Thomas P. Greene</mark>, <mark>Juergen Schreiber</mark>, <mark>Silvia Scheithauer</mark>, <mark>Michael Mueller</mark> |\n",
       "|*Appeared on*| *2022-11-30*|\n",
       "|*Comments*| *Submitted for review to PASP*|\n",
       "|**Abstract**| We present here the first ever mid-infrared spectroscopic time series observation of the transiting exoplanet \\object{L 168-9 b} with the Mid-Infrared Instrument (MIRI) on the James Webb Space Telescope. The data were obtained as part of the MIRI commissioning activities, to characterize the performance of the Low Resolution Spectroscopy (LRS) mode for these challenging observations. To assess the MIRI LRS performance, we performed two independent analyses of the data. We find that with a single transit observation we reached a spectro-photometric precision of $\\sim$50 ppm in the 7-8~\\micron~range at R=50, consistent with $\\sim$25 ppm systematic noise. The derived band averaged transit depth is 524~$\\pm$~15~ppm and 547~$\\pm$~13~ppm for the two applied analysis methods, respectively, recovering the known transit depth to within 1~$\\sigma$. The measured noise in the planet's transmission spectrum is approximately 15-20\\% higher than random noise simulations over wavelengths $6.8 \\lesssim \\lambda \\lesssim 11$ $\\mu$m. We observed an excess noise at shorter wavelengths, for which possible causes are discussed. This performance was achieved with limited in-flight calibration data, demonstrating the future potential of MIRI for the characterization of exoplanet atmospheres. |"
      ],
      "text/plain": [
       "[arXiv:2211.16123] Spectroscopic time series performance of the Mid-Infrared Instrument on  the JWST\n",
       "\t<mark>Jeroen Bouwman</mark>, et al. -- incl., <mark>Thomas P. Greene</mark>, <mark>Juergen Schreiber</mark>, <mark>Silvia Scheithauer</mark>, <mark>Michael Mueller</mark>"
      ]
     },
     "metadata": {},
     "output_type": "display_data"
    },
    {
     "data": {
      "text/markdown": [
       "## Failed papers"
      ],
      "text/plain": [
       "<IPython.core.display.Markdown object>"
      ]
     },
     "metadata": {},
     "output_type": "display_data"
    },
    {
     "data": {
      "text/markdown": [
       "\n",
       "|||\n",
       "|---:|:---|\n",
       "| [![arXiv](https://img.shields.io/badge/arXiv-arXiv:2211.16009-b31b1b.svg)](https://arxiv.org/abs/arXiv:2211.16009) | **The performance of the MAGIC telescopes using deep convolutional neural  networks with CTLearn**  |\n",
       "|| T. Miener, et al. -- incl., <mark>J. G. Green</mark>, <mark>D. Green</mark> |\n",
       "|*Appeared on*| *2022-11-30*|\n",
       "|*Comments*| *6 pages, 4 figures, Proceedings of the Gamma 2022 PoS(Gamma2022)220*|\n",
       "|**Abstract**| The Major Atmospheric Gamma Imaging Cherenkov (MAGIC) telescope system is located on the Canary Island of La Palma and inspects the very high-energy (VHE, few tens of GeV and above) gamma-ray sky. MAGIC consists of two imaging atmospheric Cherenkov telescopes (IACTs), which capture images of the air showers originating from the absorption of gamma rays and cosmic rays by the atmosphere, through the detection of Cherenkov photons emitted in the shower. The sensitivity of IACTs to gamma-ray sources is mainly determined by the ability to reconstruct the properties (type, energy, and arrival direction) of the primary particle generating the air shower. The state-of-the-art IACT pipeline for shower reconstruction is based on the parameterization of the shower images by extracting geometric and stereoscopic features and machine learning algorithms like random forest or boosted decision trees. In this contribution, we explore deep convolutional neural networks applied directly to the pixelized images of the camera as a promising method for IACT full-event reconstruction and present the performance of the method on observational data using CTLearn, a package for IACT event reconstruction that exploits deep learning. |\n",
       "|<p style=\"color:green\"> **ERROR** </p>| <p style=\"color:green\">affiliation error: mpia.affiliation_verifications: '69117' keyword not found.</p> |"
      ],
      "text/plain": [
       "<IPython.core.display.Markdown object>"
      ]
     },
     "metadata": {},
     "output_type": "display_data"
    },
    {
     "data": {
      "text/markdown": [
       "\n",
       "|||\n",
       "|---:|:---|\n",
       "| [![arXiv](https://img.shields.io/badge/arXiv-arXiv:2211.15676-b31b1b.svg)](https://arxiv.org/abs/arXiv:2211.15676) | **The Giant Accreting Protoplanet Survey (GAPlanetS): Optimization  Techniques for Robust Detections of Protoplanets**  |\n",
       "|| Jéa I. Adams Redai, et al. -- incl., <mark>Joseph Palmo</mark>, <mark>Helena Treiber</mark> |\n",
       "|*Appeared on*| *2022-11-30*|\n",
       "|*Comments*| *18 pages, 7 figures, Accepted to AJ*|\n",
       "|**Abstract**| High-contrast imaging has afforded astronomers the opportunity to study light directly emitted by adolescent (tens of Myr) and ``proto\" ($<$10Myr) planets still undergoing formation. Direct detection of these planets is enabled by empirical Point Spread Function (PSF) modeling and removal algorithms. The computational intensity of such algorithms, and their multiplicity of tunable input parameters, has led to the prevalence of ad-hoc optimization approaches to high-contrast imaging results. In this work, we present a new, systematic approach to optimization vetted using data of the high-contrast stellar companion HD 142527 B from the Magellan Adaptive Optics (MagAO) Giant Accreting Protoplanet Survey (GAPlanetS). More specifically, we present a grid search technique designed to explore three influential parameters of the PSF-subtraction algorithm pyKLIP -- annuli, movement, and KL modes. We consider multiple metrics for post-processed image quality in order to optimally recover at H$\\alpha$ (656nm) synthetic planets injected into contemporaneous continuum (643nm) images. These metrics include: peak (single-pixel) SNR, average (multi-pixel average) SNR, 5$\\sigma$ contrast, and false-positive fraction. We apply continuum-optimized KLIP reduction parameters to six H$\\alpha$ direct detections of the low-mass stellar companion HD142527 B, and recover the companion at a range of separations. Relative to a single-informed, non-optimized set of KLIP parameters applied to all datasets uniformly, our multi-metric grid search optimization led to improvements in companion SNR of up to 1.2$\\sigma$, with an average improvement of 0.6$\\sigma$. Since many direct imaging detections lie close to the canonical 5$\\sigma$ threshold, even such modest improvements may result in higher yields in future imaging surveys. |\n",
       "|<p style=\"color:green\"> **ERROR** </p>| <p style=\"color:green\">affiliation error: mpia.affiliation_verifications: 'Heidelberg' keyword not found.</p> |"
      ],
      "text/plain": [
       "<IPython.core.display.Markdown object>"
      ]
     },
     "metadata": {},
     "output_type": "display_data"
    },
    {
     "data": {
      "text/markdown": [
       "\n",
       "|||\n",
       "|---:|:---|\n",
       "| [![arXiv](https://img.shields.io/badge/arXiv-arXiv:2211.15702-b31b1b.svg)](https://arxiv.org/abs/arXiv:2211.15702) | **Inferencing Progenitor and Explosion Properties of Evolving  Core-collapse Supernovae from Zwicky Transient Facility Light Curves**  |\n",
       "|| Bhagya M. Subrayan, et al. -- incl., <mark>Mark Linvill</mark> |\n",
       "|*Appeared on*| *2022-11-30*|\n",
       "|*Comments*| *27 pages, 14 figures, Accepted to The Astrophysical Journal*|\n",
       "|**Abstract**| We analyze a sample of 45 Type II supernovae from the Zwicky Transient Facility (ZTF) public survey using a grid of hydrodynamical models in order to assess whether theoretically-driven forecasts can intelligently guide follow up observations supporting all-sky survey alert streams. We estimate several progenitor properties and explosion physics parameters including zero-age-main-sequence (ZAMS) mass, mass-loss rate, kinetic energy, 56Ni mass synthesized, host extinction, and the time of explosion. Using complete light curves we obtain confident characterizations for 34 events in our sample, with the inferences of the remaining 11 events limited either by poorly constraining data or the boundaries of our model grid. We also simulate real-time characterization of alert stream data by comparing our model grid to various stages of incomplete light curves (t less than 25 days, t less than 50 days, all data), and find that some parameters are more reliable indicators of true values at early epochs than others. Specifically, ZAMS mass, time of explosion, steepness parameter beta, and host extinction are reasonably constrained with incomplete light curve data, whereas mass-loss rate, kinetic energy and 56Ni mass estimates generally require complete light curves spanning greater than 100 days. We conclude that real-time modeling of transients, supported by multi-band synthetic light curves tailored to survey passbands, can be used as a powerful tool to identify critical epochs of follow up observations. Our findings are relevant to identify, prioritize, and coordinate efficient follow up of transients discovered by Vera C. Rubin Observatory. |\n",
       "|<p style=\"color:green\"> **ERROR** </p>| <p style=\"color:green\">affiliation error: mpia.affiliation_verifications: 'Heidelberg' keyword not found.</p> |"
      ],
      "text/plain": [
       "<IPython.core.display.Markdown object>"
      ]
     },
     "metadata": {},
     "output_type": "display_data"
    },
    {
     "data": {
      "text/markdown": [
       "\n",
       "|||\n",
       "|---:|:---|\n",
       "| [![arXiv](https://img.shields.io/badge/arXiv-arXiv:2211.15706-b31b1b.svg)](https://arxiv.org/abs/arXiv:2211.15706) | **Multi-epoch variability of AT 2000ch (SN 2000ch) in NGC 3432 -- A radio  continuum and optical study**  |\n",
       "|| <mark>Ancla Müller</mark>, et al. |\n",
       "|*Appeared on*| *2022-11-30*|\n",
       "|*Comments*| *Accepted for publication on A&A on 23/10/2022*|\n",
       "|**Abstract**| AT 2000ch is a highly variable massive star and supernova imposter in NGC 3432 first detected in 2000. It is similar and often compared to SN 2009ip, and it is therefore expected to undergo a core-collapse supernova -- a SN imposter of similar brightness -- in the near future. We characterize the long-term variability of AT 2000ch in the radio and optical regimes with archival data reaching back to the year 1984. We use these newly reduced observations in addition to observations in the literature to restrict the mass-loss rates of AT 2000ch at multiple epochs based on different approaches, and to infer the general properties of its circumstellar nebula with respect to the detected radio brightness. We extend the known optical light curve of AT 2000ch up to the beginning of 2022 by performing point spread function photometry on archival data from the Palomar Transient Factory and the Zwicky Transient Facility. We reduced archival radio continuum observations obtained with the Very Large Array using standard calibration and imaging methods and complemented these with pre-reduced \\changes observations as well as observations obtained with the Westerbork Synthesis Radio Telescope and LOw Frequency ARray. For the analysis of AT 2000ch, we consider the optical light curve and color evolution, its radio continuum brightness at different frequencies and times, and the corresponding spectral indices. We estimated mass-loss rates and optical depths based on radio continuum brightnesses and Ha fluxes. We report two newly detected outbursts of AT 2000ch similar to those found in the 2000s and 13 re-brightening events, of which at least four are not conclusively detected because of insufficient sampling of the light curve. The dates of all outbursts and significant, well-sampled re-brightening events are consistent with a period of $\\sim 201 \\pm 12\\,$days over a total time-span of two decades. Such a behavior has never been found for any SN imposter, especially not for candidate SN~2009ip analogs. During 2010 to 2012 and 2014 to 2018, we only have a few detections, which is insufficient to come to any conclusion as to a possible less eruptive phase of the transient. We find steady dimming after the most recent re-brightening events and possible evidence of porosity in the circumstellar envelope, suggesting AT~2000ch may currently be in transition to a state of relative calm. We identified a second, unrelated source at a projected distance of $\\sim 23\\,$pc ($\\sim0.5^{\\prime\\prime}$) that has contaminated the optical measurements of AT~2000ch at its minimum luminosity over the last two decades probably on a $5\\%-10\\,\\%$ level, but this does not affect our overall findings and is negligible during re-brightening. We are able to restrict the mass-loss rate of AT~2000ch to range between several $10^{-6}\\,\\textrm{M}_{\\odot}/\\textrm{yr}$ and several $10^{-5}\\,\\textrm{M}_{\\odot}/\\textrm{yr}$. The fresh ejecta appear to be optically thick to radio continuum emission at least within the first $\\sim 25\\,$days after significant re-brightening. |\n",
       "|<p style=\"color:green\"> **ERROR** </p>| <p style=\"color:green\">affiliation error: mpia.affiliation_verifications: 'Heidelberg' keyword not found.</p> |"
      ],
      "text/plain": [
       "<IPython.core.display.Markdown object>"
      ]
     },
     "metadata": {},
     "output_type": "display_data"
    },
    {
     "data": {
      "text/markdown": [
       "\n",
       "|||\n",
       "|---:|:---|\n",
       "| [![arXiv](https://img.shields.io/badge/arXiv-arXiv:2211.15707-b31b1b.svg)](https://arxiv.org/abs/arXiv:2211.15707) | **The mid-infrared molecular inventory towards Orion IRc2**  |\n",
       "|| Sarah Nickerson, et al. -- incl., <mark>Eric Herbst</mark>, <mark>Timothy J. Lee</mark> |\n",
       "|*Appeared on*| *2022-11-30*|\n",
       "|*Comments*| *Accepted to ApJ; 44 pages, 14 figures, 13 tables*|\n",
       "|**Abstract**| We present the first high spectral resolution mid-infrared survey in the Orion BN/KL region, covering 7.2 to 28.3 micron. With SOFIA/EXES we target the enigmatic source Orion IRc2. While this is in the most prolifically studied massive star-forming region, longer wavelengths and molecular emission lines dominated previous spectral surveys. The mid-infrared observations in this work access different components and molecular species in unprecedented detail. We unambiguously identify two new kinematic components, both chemically rich with multiple molecular absorption lines. The \"blue clump\" has vLSR = -7.1 \\pm 0.7 km/s and the \"red clump\" 1.4 \\pm 0.5 km/s. While the blue and red clumps have similar temperatures and line widths, molecular species in the blue clump have higher column densities. They are both likely linked to pure rotational H2 emission also covered by this survey. This work provides evidence for the scenario that the blue and red clumps are distinct components unrelated to the classic components in the Orion BN/KL region. Comparison to spectroscopic surveys towards other infrared targets in the region show that the blue clump is clearly extended. We analyze, compare, and present in depth findings on the physical conditions of C2H2, 13CCH2, CH4, CS, H2O, HCN, H13CN, HNC, NH3, and SO2 absorption lines and an H2 emission line associated with the blue and red clumps. We also provide limited analysis of H2O and SiO molecular emission lines towards Orion IRc2 and the atomic forbidden transitions [FeII], [SI], [SIII], and [NeII]. |\n",
       "|<p style=\"color:green\"> **ERROR** </p>| <p style=\"color:green\">affiliation error: mpia.affiliation_verifications: 'Heidelberg' keyword not found.</p> |"
      ],
      "text/plain": [
       "<IPython.core.display.Markdown object>"
      ]
     },
     "metadata": {},
     "output_type": "display_data"
    },
    {
     "data": {
      "text/markdown": [
       "\n",
       "|||\n",
       "|---:|:---|\n",
       "| [![arXiv](https://img.shields.io/badge/arXiv-arXiv:2211.15749-b31b1b.svg)](https://arxiv.org/abs/arXiv:2211.15749) | **Hard X-ray Observations of the Hydrogen-poor Superluminous Supernova SN  2018hti with NuSTAR**  |\n",
       "|| Igor Andreoni, et al. -- incl., <mark>Lin Yan</mark> |\n",
       "|*Appeared on*| *2022-11-30*|\n",
       "|*Comments*| *Accepted for publication in ApJL*|\n",
       "|**Abstract**| Some Hydrogen-poor superluminous supernovae are likely powered by a magnetar central engine, making their luminosity larger than common supernovae. Although a significant amount of X-ray flux is expected from the spin down of the magnetar, direct observational evidence is still to be found, giving rise to the \"missing energy\" problem. Here we present NuSTAR observations of nearby SN 2018hti 2.4y (rest frame) after its optical peak. We expect that, by this time, the ejecta have become optically thin for photons more energetic than about 15keV. No flux is detected at the position of the supernova down to $F_{\\rm{10-30keV}} = 9.0\\times 10^{-14}$ erg cm$^{-2}$ s$^{-1}$, or an upper limit of $7.9 \\times 10^{41}$ erg s$^{-1}$ at a distance of 271Mpc. This constrains the fraction of bolometric luminosity from the putative spinning down magnetar to be $f_{\\rm X} \\lesssim 36$% in the 10-30keV range in a conservative case, $f_{\\rm X} \\lesssim 11$% in an optimistic case. |\n",
       "|<p style=\"color:green\"> **ERROR** </p>| <p style=\"color:green\">affiliation error: mpia.affiliation_verifications: 'Heidelberg' keyword not found.</p> |"
      ],
      "text/plain": [
       "<IPython.core.display.Markdown object>"
      ]
     },
     "metadata": {},
     "output_type": "display_data"
    },
    {
     "data": {
      "text/markdown": [
       "\n",
       "|||\n",
       "|---:|:---|\n",
       "| [![arXiv](https://img.shields.io/badge/arXiv-arXiv:2211.15794-b31b1b.svg)](https://arxiv.org/abs/arXiv:2211.15794) | **The initial spin distribution of B-type stars revealed by the split main  sequences of young star clusters**  |\n",
       "|| Chen Wang, et al. -- incl., <mark>Norbert Langer</mark> |\n",
       "|*Appeared on*| *2022-11-30*|\n",
       "|*Comments*| *18 pages, 14 figures. Accepted for publication in A&A*|\n",
       "|**Abstract**| Spectroscopic observations of stars in young open clusters have revealed evidence for a dichotomous distribution of stellar rotational velocities, with 10-30% of stars rotating slowly and the remaining 70-90% rotating fairly rapidly. At the same time, high-precision multiband photometry of young star clusters shows a split main sequence band, which is again interpreted as due to a spin dichotomy. Recent papers suggest that extreme rotation is required to retrieve the photometric split. Our new grids of MESA models and the prevalent SYCLIST models show, however, that initial slow (0-35% of the linear Keplerian rotation velocities) and intermediate (50-65% of the Keplerian rotation velocities) rotation are adequate to explain the photometric split. These values are consistent with the recent spectroscopic measurements of cluster and field stars, and are likely to reflect the birth spin distributions of upper main-sequence stars. A fraction of the initially faster-rotating stars may be able to reach near-critical rotation at the end of their main-sequence evolution and produce Be stars in the turn-off region of young star clusters. However, we find that the presence of Be stars up to two magnitudes below the cluster turnoff advocates for a crucial role of binary interaction in creating Be stars. We argue that surface chemical composition measurements may help distinguish these two Be star formation channels. While only the most rapidly rotating, and therefore nitrogen-enriched, single stars can evolve into Be stars, slow pre-mass-transfer rotation and inefficient accretion allows for mild or no enrichment even in critically rotating accretion-induced Be stars. Our results shed new light on the origin of the spin distribution of young and evolved B-type main sequence stars. |\n",
       "|<p style=\"color:green\"> **ERROR** </p>| <p style=\"color:green\">affiliation error: mpia.affiliation_verifications: 'Heidelberg' keyword not found.</p> |"
      ],
      "text/plain": [
       "<IPython.core.display.Markdown object>"
      ]
     },
     "metadata": {},
     "output_type": "display_data"
    },
    {
     "data": {
      "text/markdown": [
       "\n",
       "|||\n",
       "|---:|:---|\n",
       "| [![arXiv](https://img.shields.io/badge/arXiv-arXiv:2211.15828-b31b1b.svg)](https://arxiv.org/abs/arXiv:2211.15828) | **Potential contributions of Pop III and intermediate-mass Pop II stars to  cosmic chemical enrichment**  |\n",
       "|| <mark>Lia C. Corazza</mark>, Oswaldo D. Miranda, Carlos A. Wuensche |\n",
       "|*Appeared on*| *2022-11-30*|\n",
       "|*Comments*| *Accepted for publication in A&A*|\n",
       "|**Abstract**| We propose a semi-analytic model that is developed to understand the cosmological evolution of the mean metallicity in the Universe. In particular, we study the contributions of Population III (Pop III) and Population II (Pop II) stars to the production of $\\mathrm{Fe,~Si,~Zn, ~Ni,~P, ~Mg, ~Al, ~S, ~C, ~N}$, and $\\mathrm{~O}$. We aim to quantify the roles of two different models in the chemical enrichment of the Universe. The first model (A) considers both stars with Pop III and Pop II yields. For the second model (B), the yields involved are only for Pop II stars. We start by describing the cosmic star formation rate (CSFR) through an adaptation of a scenario developed within the hierarchical scenario of structure formation with a Press-Schechter-like formalism. We adapt the formalism to implement the CSFR to the standard chemical evolution scenario to investigate the course of chemical evolution on a cosmological basis. Calculations start at redshift $z\\sim 20$, and we compare the results of our two models with data from damped Lyman-$\\alpha$ systems (DLAs), and globular clusters (GCs). Our main results find that metal production in the Universe occurred very early, quickly increasing with the formation of the first stars. When comparing results for [Fe/H] with observations from GCs, yields of Pop II stars are not enough to explain the observed chemical abundances, requiring stars with physical properties similar those expected from Pop III stars. Our semi-analytic model can deliver consistent results for the evolution of cosmic metallicities. Our results show that the chemical enrichment in the early Universe is rapid, and at redshift $\\sim 12.5$, the metallicity reaches $10^{-4}\\, Z_{\\odot}$ for the model that includes Pop III stars. In addition, we explore values for the initial mass function (IMF) within the range $[0.85, 1.85]$. |\n",
       "|<p style=\"color:green\"> **ERROR** </p>| <p style=\"color:green\">affiliation error: mpia.affiliation_verifications: 'Heidelberg' keyword not found.</p> |"
      ],
      "text/plain": [
       "<IPython.core.display.Markdown object>"
      ]
     },
     "metadata": {},
     "output_type": "display_data"
    },
    {
     "data": {
      "text/markdown": [
       "\n",
       "|||\n",
       "|---:|:---|\n",
       "| [![arXiv](https://img.shields.io/badge/arXiv-arXiv:2211.15881-b31b1b.svg)](https://arxiv.org/abs/arXiv:2211.15881) | **Latest data constraint of some parameterized dark energy models**  |\n",
       "|| Jing Yang, Xin-Yan Fan, Chao-Jun Feng, <mark>Xiang-Hua Zhai</mark> |\n",
       "|*Appeared on*| *2022-11-30*|\n",
       "|*Comments*| *23 pages, 6 figures, to be published in CPL*|\n",
       "|**Abstract**| Using various latest cosmological datasets including Type-Ia supernovae, cosmic microwave background radiation, baryon acoustic oscillations, and estimations of the Hubble parameter, we test some dark energy models with parameterized equations of state and try to distinguish or select observation-preferred models. We obtain the best fitting results of the six models and calculate their values of the Akaike Information Criteria and Bayes Information Criterion. And we can distinguish these dark energy models from each other by using these two information criterions. However, the $\\Lambda $CDM model remains the best fit model. Furthermore, we perform geometric diagnostics including statefinder and Om diagnostics to understand the geometric behaviour of the dark energy models. We find that the six DE models can be distinguished from each other and from $\\Lambda$CDM, Chaplygin gas, quintessence models after the statefinder and Om diagnostics were performed. Finally, we consider the growth factor of the dark energy models with comparison to $\\Lambda $CDM model. Still, we find the models can be distinguished from each other and from $\\Lambda $CDM model through the growth factor approximation. |\n",
       "|<p style=\"color:green\"> **ERROR** </p>| <p style=\"color:green\">affiliation error: mpia.affiliation_verifications: 'Heidelberg' keyword not found.</p> |"
      ],
      "text/plain": [
       "<IPython.core.display.Markdown object>"
      ]
     },
     "metadata": {},
     "output_type": "display_data"
    },
    {
     "data": {
      "text/markdown": [
       "\n",
       "|||\n",
       "|---:|:---|\n",
       "| [![arXiv](https://img.shields.io/badge/arXiv-arXiv:2211.15909-b31b1b.svg)](https://arxiv.org/abs/arXiv:2211.15909) | **Investigating pre-eruptive magnetic properties at the footprints of  erupting magnetic flux ropes**  |\n",
       "|| Wensi Wang, et al. -- incl., <mark>Rui Liu</mark> |\n",
       "|*Appeared on*| *2022-11-30*|\n",
       "|*Comments*| *40 pages, 13 figures, 6 tables, Accepted for publication in ApJ*|\n",
       "|**Abstract**| It is well established that solar eruptions are powered by free magnetic energy stored in current-carrying magnetic field in the corona. It has also been generally accepted that magnetic flux ropes (MFRs) are a critical component of many coronal mass ejections (CMEs). What remains controversial is whether MFRs are present well before the eruption. Our aim is to identify progenitors of MFRs, and investigate pre-eruptive magnetic properties associated with these progenitors. Here we analyze 28 MFRs erupting within 45 deg from the disk center from 2010 to 2015. All MFRs'feet are well identified by conjugate coronal dimmings. We then calculate magnetic properties at the feet of the MFRs, prior to their eruptions, using Helioseismic and Magnetic Imager (HMI) vector magnetograms. Our results show that only 8 erupting MFRs are associated with significant non-neutralized electric currents, 4 of which also exhibit pre-eruptive dimmings at the foot-prints. Twist and current distributions are asymmetric at the two feet of these MFRs. The presence of pre-eruption dimmings associated with non-neutralized currents suggests the pre-existing MFRs. Furthermore, evolution of conjugate dimmings and electric currents within the foot-prints can provide clues about the internal structure of MFRs and their formation mechanism. |\n",
       "|<p style=\"color:green\"> **ERROR** </p>| <p style=\"color:green\">affiliation error: mpia.affiliation_verifications: 'Heidelberg' keyword not found.</p> |"
      ],
      "text/plain": [
       "<IPython.core.display.Markdown object>"
      ]
     },
     "metadata": {},
     "output_type": "display_data"
    },
    {
     "data": {
      "text/markdown": [
       "\n",
       "|||\n",
       "|---:|:---|\n",
       "| [![arXiv](https://img.shields.io/badge/arXiv-arXiv:2211.15966-b31b1b.svg)](https://arxiv.org/abs/arXiv:2211.15966) | **SN 2018gk Revisited: the Photosphere, the Central Engine, And the  Putative Dust**  |\n",
       "|| Tao Wang, Shan-Qin Wang, Wen-Pei Gan, <mark>Long Li</mark> |\n",
       "|*Appeared on*| *2022-11-30*|\n",
       "|*Comments*| *19 pages, 8 figures, 3 tables, Submitted to ApJ*|\n",
       "|**Abstract**| In this paper, we perform a comprehensive study for the physical properties of SN 2018gk which is a luminous type IIb supernova (SN). We find that the early-time photospheric velocity vary from a larger value to a smaller value before the photosphere reach a temperature floor. We generalize the photosphere modulus and fit the multiband light curves (LCs) of SN 2018gk. We find that the $^{56}$Ni mass model require $\\sim$1.1 M$_\\odot$ of $^{56}$Ni which is larger than the derived ejecta mass ($\\sim$0.58 M$_\\odot$) as well as the derived $^{56}$Ni mass ($\\sim$0.4 M$_\\odot$) in the literature. Alternatively, we use the magnetar plus $^{56}$Ni and the fallback plus $^{56}$Ni models to fit the LCs of SN 2018gk, finding that the two models can can fit the LCs. We favor the magnetar plus $^{56}$Ni since the parameters are well constrained and rather reasonable ($M_{\\rm ej} =$ 2.80 M$_\\odot$, $M_{\\rm Ni}=0.16 $ M$_\\odot$ which is smaller than the upper limit of the value of the $^{56}$Ni mass can by synthesized by the neutrino-powered core collapse SNe, $B=8.47\\times10^{14}$ G which is comparable to those of luminous and superluminous SNe studied in the literature, and $P_0=$ 10.83 ms which is comparable to those of luminous SNe). Therefore, we suggest that SN 2018gk might be a SNe IIb mainly powered by a central engine. Finally, we confirm the NIR excesses of the SEDs of SN 2018gk at some epochs and constrain the physical properties of the putative dust using the blackbody plus dust emission model. |\n",
       "|<p style=\"color:green\"> **ERROR** </p>| <p style=\"color:green\">affiliation error: mpia.affiliation_verifications: 'Heidelberg' keyword not found.</p> |"
      ],
      "text/plain": [
       "<IPython.core.display.Markdown object>"
      ]
     },
     "metadata": {},
     "output_type": "display_data"
    },
    {
     "data": {
      "text/markdown": [
       "\n",
       "|||\n",
       "|---:|:---|\n",
       "| [![arXiv](https://img.shields.io/badge/arXiv-arXiv:2211.15998-b31b1b.svg)](https://arxiv.org/abs/arXiv:2211.15998) | **Galaxy And Mass Assembly (GAMA): The Dependence of Star Formation on  Surface Brightness in Low Redshift Galaxies**  |\n",
       "|| S. Phillipps, et al. -- incl., <mark>J. Liske</mark> |\n",
       "|*Appeared on*| *2022-11-30*|\n",
       "|*Comments*| *Accepted for publication in MNRAS*|\n",
       "|**Abstract**| The star formation rate in galaxies is well known to correlate with stellar mass (the `star-forming main sequence'). Here we extend this further to explore any additional dependence on galaxy surface brightness, a proxy for stellar mass surface density. We use a large sample of low redshift ($z \\leq 0.08$) galaxies from the GAMA survey which have both SED derived star formation rates and photometric bulge-disc decompositions, the latter providing measures of disc surface brightness and disc masses. Using two samples, one of galaxies fitted by a single component with S\\'{e}rsic index below 2 and one of the discs from two-component fits, we find that once the overall mass dependence of star formation rate is accounted for, there is no evidence in either sample for a further dependence on stellar surface density. |\n",
       "|<p style=\"color:green\"> **ERROR** </p>| <p style=\"color:green\">affiliation error: mpia.affiliation_verifications: 'Heidelberg' keyword not found.</p> |"
      ],
      "text/plain": [
       "<IPython.core.display.Markdown object>"
      ]
     },
     "metadata": {},
     "output_type": "display_data"
    },
    {
     "data": {
      "text/markdown": [
       "\n",
       "|||\n",
       "|---:|:---|\n",
       "| [![arXiv](https://img.shields.io/badge/arXiv-arXiv:2211.16015-b31b1b.svg)](https://arxiv.org/abs/arXiv:2211.16015) | **Making hot Jupiters in stellar clusters: the importance of binary  exchange**  |\n",
       "|| <mark>Daohai Li</mark>, Alexander J. Mustill, <mark>Melvyn B. Davies</mark>, Yan-Xiang Gong |\n",
       "|*Appeared on*| *2022-11-30*|\n",
       "|*Comments*| *to appear in MNRAS, 6 figures*|\n",
       "|**Abstract**| It has been suggested that the occurrence rate of hot Jupiters (HJs) in open clusters might reach several per cent, significantly higher than that of the field ($\\sim$ a per cent). In a stellar cluster, when a planetary system scatters with a stellar binary, it may acquire a companion star which may excite large amplitude von Zeipel-Lidov-Kozai oscillations in the planet's orbital eccentricity, triggering high-eccentricity migration and the formation of an HJ. We quantify the efficiency of this mechanism by modelling the evolution of a gas giant around a solar mass star under the influence of successive scatterings with binary and single stars. We show that the chance that a planet $\\in(1,10)$ au becomes an HJ in a Gyr in a cluster of stellar density $n_*=50$ pc$^{-3}$ and binary fraction $f_\\mathrm{bin}=0.5$ is about 2\\% and an additional 4\\% are forced by the companion star into collision with or tidal disruption by the central host. An empirical fit shows that the total percentage of those outcomes asymptotically reaches an upper limit determined solely by $f_\\mathrm{bin}$ (e.g., $10\\%$ at $f_\\mathrm{bin}=0.3$ and 18\\% at $f_\\mathrm{bin}=1$) on a timescale inversely proportional to $n_*$ ($\\sim$ Gyr for $n_*\\sim100$ pc$^{-3}$). The ratio of collisions to tidal disruptions is roughly a few, and depends on the tidal model. Therefore, if the giant planet occurrence rate is 10~\\%, our mechanism implies an HJ occurrence rate of a few times 0.1~\\% in a Gyr and can thus explain a substantial fraction of the observed rate. |\n",
       "|<p style=\"color:green\"> **ERROR** </p>| <p style=\"color:green\">affiliation error: mpia.affiliation_verifications: 'Heidelberg' keyword not found.</p> |"
      ],
      "text/plain": [
       "<IPython.core.display.Markdown object>"
      ]
     },
     "metadata": {},
     "output_type": "display_data"
    },
    {
     "data": {
      "text/markdown": [
       "\n",
       "|||\n",
       "|---:|:---|\n",
       "| [![arXiv](https://img.shields.io/badge/arXiv-arXiv:2211.16020-b31b1b.svg)](https://arxiv.org/abs/arXiv:2211.16020) | **A Catalog of the Highest-Energy Cosmic Rays Recorded During Phase I of  Operation of the Pierre Auger Observatory**  |\n",
       "|| Pierre Auger Collaboration, et al. |\n",
       "|*Appeared on*| *2022-11-30*|\n",
       "|*Comments*| *Article accepted for publication in ApJS*|\n",
       "|**Abstract**| A catalog containing details of the highest-energy cosmic rays recorded through the detection of extensive air-showers at the Pierre Auger Observatory is presented with the aim of opening the data to detailed examination. Descriptions of the 100 showers created by the highest-energy particles recorded between 1 January 2004 and 31 December 2020 are given for cosmic rays that have energies in the range 78 EeV to 166 EeV. Details are also given of a further nine very-energetic events that have been used in the calibration procedure adopted to determine the energy of each primary. A sky plot of the arrival directions of the most energetic particles is shown. No interpretations of the data are offered. |\n",
       "|<p style=\"color:green\"> **ERROR** </p>| <p style=\"color:green\">affiliation error: mpia.affiliation_verifications: 'Heidelberg' keyword not found.</p> |"
      ],
      "text/plain": [
       "<IPython.core.display.Markdown object>"
      ]
     },
     "metadata": {},
     "output_type": "display_data"
    },
    {
     "data": {
      "text/markdown": [
       "\n",
       "|||\n",
       "|---:|:---|\n",
       "| [![arXiv](https://img.shields.io/badge/arXiv-arXiv:2211.16105-b31b1b.svg)](https://arxiv.org/abs/arXiv:2211.16105) | **Toward Accurate Modeling of Galaxy Clustering on Small Scales: Halo  Model Extensions & Lingering Tension**  |\n",
       "|| <mark>Gillian D. Beltz-Mohrmann</mark>, Adam O. Szewciw, Andreas A. Berlind, Manodeep Sinha |\n",
       "|*Appeared on*| *2022-11-30*|\n",
       "|*Comments*| *25 pages, 13 figures*|\n",
       "|**Abstract**| This paper represents an effort to provide robust constraints on cosmology and the galaxy-halo connection using a fully numerical model of small-scale galaxy clustering. We explore two extensions to the standard Halo Occupation Distribution model: assembly bias, whereby halo occupation depends on both halo mass and the larger environment, and velocity bias, whereby galaxy velocities do not perfectly trace the velocity of the dark matter within the halo. Moreover, we incorporate halo mass corrections to account for the impact of baryonic physics on the halo population. We identify an optimal set of clustering measurements to constrain this \"decorated\" HOD model for both low- and high-luminosity galaxies in SDSS DR7. We find that, for low-luminosity galaxies, a model with both assembly bias and velocity bias provides the best fit to the clustering measurements, with no tension remaining in the fit. In this model we find evidence for both central and satellite galaxy assembly bias at the 99% and 95% confidence levels, respectively. In addition, we find evidence for satellite galaxy velocity bias at the 99.9% confidence level. For high luminosity galaxies, we find no evidence for either assembly bias or velocity bias, but our model exhibits significant tension with SDSS measurements. We find that all of these conclusions still stand when we include the effects of baryonic physics on the halo mass function, suggesting that the tension we find for high luminosity galaxies may be due to a problem with our assumed cosmological model. |\n",
       "|<p style=\"color:green\"> **ERROR** </p>| <p style=\"color:green\">affiliation error: mpia.affiliation_verifications: 'Heidelberg' keyword not found.</p> |"
      ],
      "text/plain": [
       "<IPython.core.display.Markdown object>"
      ]
     },
     "metadata": {},
     "output_type": "display_data"
    },
    {
     "data": {
      "text/markdown": [
       "\n",
       "|||\n",
       "|---:|:---|\n",
       "| [![arXiv](https://img.shields.io/badge/arXiv-arXiv:2211.16217-b31b1b.svg)](https://arxiv.org/abs/arXiv:2211.16217) | **Energy transfer and restructuring in amorphous solid water upon  consecutive irradiation**  |\n",
       "|| <mark>Herma M. Cuppen</mark>, et al. |\n",
       "|*Appeared on*| *2022-11-30*|\n",
       "|*Comments*| *34 page, 9 figures*|\n",
       "|**Abstract**| Interstellar and cometary ices play an important role in the formation of planetary systems around young stars. Their main constituent is amorphous solid water (ASW). Although ASW is widely studied, vibrational energy dissipation and structural changes due to vibrational excitation are less well understood. The hydrogen-bonding network is likely a crucial component in this. Here we present experimental results on hydrogen-bonding changes in ASW induced by the intense, nearly monochromatic mid-IR free-electron laser (FEL) radiation of the FELIX-2 beamline at the HFML-FELIX facility at the Radboud University in Nijmegen, the Netherlands. Structural changes in ASW are monitored by reflection-absorption infrared spectroscopy and depend on the irradiation history of the ice. The experiments show that FEL irradiation can induce changes in the local neighborhood of the excited molecules due to energy transfer. Molecular Dynamics simulations confirm this picture: vibrationally excited molecules can reorient for a more optimal tetrahedral surrounding without breaking existing hydrogen bonds. The vibrational energy can transfer through the hydrogen-bonding network to water molecules that have the same vibrational frequency. We hence expect a reduced energy dissipation in amorphous material with respect to crystalline material due to the inhomogeneity in vibrational frequencies as well as the presence of specific hydrogen-bonding defect sites which can also hamper the energy transfer. |\n",
       "|<p style=\"color:green\"> **ERROR** </p>| <p style=\"color:green\">affiliation error: mpia.affiliation_verifications: 'Heidelberg' keyword not found.</p> |"
      ],
      "text/plain": [
       "<IPython.core.display.Markdown object>"
      ]
     },
     "metadata": {},
     "output_type": "display_data"
    },
    {
     "data": {
      "text/markdown": [
       "\n",
       "|||\n",
       "|---:|:---|\n",
       "| [![arXiv](https://img.shields.io/badge/arXiv-arXiv:2211.16261-b31b1b.svg)](https://arxiv.org/abs/arXiv:2211.16261) | **EIGER III. JWST/NIRCam observations of the ultra-luminous high-redshift  quasar J0100+2802**  |\n",
       "|| Anna-Christina Eilers, et al. -- incl., <mark>Simon J. Lilly</mark> |\n",
       "|*Appeared on*| *2022-11-30*|\n",
       "|*Comments*| *Submitted to AAS Journals. Comments welcome*|\n",
       "|**Abstract**| We present the first rest-frame optical spectrum of a high-redshift quasar observed with JWST/NIRCam in Wide Field Slitless (WFSS) mode. The observed quasar, J0100+2802, is the most luminous quasar known at $z>6$. We measure the mass of the central supermassive black hole (SMBH) by means of the rest-frame optical H$\\beta$ emission line, and find consistent mass measurements of the quasar's SMBH of $M_\\bullet\\approx10^{10}\\,M_\\odot$ when compared to the estimates based on the properties of rest-frame UV emission lines CIV and MgII, which are accessible from ground-based observatories. To this end, we also present a newly reduced rest-frame UV spectrum of the quasar observed with X-Shooter/VLT and FIRE/Magellan for a total of 16.8 hours. We readdress the question whether this ultra-luminous quasar could be effected by strong gravitational lensing making use of the diffraction limited NIRCam images in three different wide band filters (F115W, F200W, F356W), which improves the achieved spatial resolution compared to previous images taken with the Hubble Space Telescope by a factor of two. We do not find any evidence for a foreground deflecting galaxy, nor for multiple images of the quasar, and determine the probability for magnification due to strong gravitational lensing with image separations below the diffraction limit of $\\Delta\\theta\\lesssim 0.05''$ to be $\\lesssim 2.2\\times 10^{-3}$. Our observations therefore confirm that this quasar hosts a ten billion solar mass black hole less than $1$ Gyr after the Big Bang, which is challenging to explain with current black hole formation models. |\n",
       "|<p style=\"color:green\"> **ERROR** </p>| <p style=\"color:green\">affiliation error: mpia.affiliation_verifications: 'Heidelberg' keyword not found.</p> |"
      ],
      "text/plain": [
       "<IPython.core.display.Markdown object>"
      ]
     },
     "metadata": {},
     "output_type": "display_data"
    },
    {
     "data": {
      "text/markdown": [
       "\n",
       "|||\n",
       "|---:|:---|\n",
       "| [![arXiv](https://img.shields.io/badge/arXiv-arXiv:2211.16311-b31b1b.svg)](https://arxiv.org/abs/arXiv:2211.16311) | **The Complex Structure of the Bulge of M31**  |\n",
       "|| Denis Leahy, Traian Craiciu, <mark>Joseph Postma</mark> |\n",
       "|*Appeared on*| *2022-11-30*|\n",
       "|*Comments*| *27 pages, 7 figures*|\n",
       "|**Abstract**| The bulge of M31 is of interest in the context of the nature of galactic bulges and how their structure relates to bulge formation mechanisms and their subsequent evolution. With the UVIT instrument on AstroSat, we have observed the bulge of M31 in five far ultraviolet (FUV) and near ultraviolet (NUV) filters at 1\" spatial resolution. Models for the luminosity distribution of the bulge are constructed using the UVIT data and the galaxy image-fitting algorithm GALFIT. We fit the bulge without nuclear region with a Sersic function the five images and find Sersic indices ($\\simeq2.1$ to 2.5) similar to previous studies but smaller $R_e$ values ($\\simeq0.5$ to 0.6 kpc). When the images include the nuclear region, a multicomponent model is used to find the best-fit. We use an 8-component fit for the FUV 148nm image, which has the highest sensitivity. The other images (169 to 279 nm) are fit with 4-component models. The dust lanes in the bulge region are recovered in the residual image after subtraction of the bright bulge light using the multicomponent model. The dust lanes show that M31's nuclear spiral is visible in absorption at NUV and FUV wavelengths. The bulge images show boxy contours in all five UVIT wavebands, which is confirmed by fitting using GALFIT. The Sersic indices of $\\sim$2.1-2.5 are intermediate between expected values for a classical bulge and for a pseudobulge. The boxiness of the bulge provides further evidence that M31's bulge has contributions from a classical bulge and a pseudobulge. |\n",
       "|<p style=\"color:green\"> **ERROR** </p>| <p style=\"color:green\">affiliation error: mpia.affiliation_verifications: 'Heidelberg' keyword not found.</p> |"
      ],
      "text/plain": [
       "<IPython.core.display.Markdown object>"
      ]
     },
     "metadata": {},
     "output_type": "display_data"
    },
    {
     "data": {
      "text/markdown": [
       "\n",
       "|||\n",
       "|---:|:---|\n",
       "| [![arXiv](https://img.shields.io/badge/arXiv-arXiv:2211.16382-b31b1b.svg)](https://arxiv.org/abs/arXiv:2211.16382) | **Orientations of DM Halos in FIRE-2 Milky Way-mass Galaxies**  |\n",
       "|| Jay Baptista, et al. -- incl., <mark>Robyn Sanderson</mark>, <mark>Dan Huber</mark>, <mark>Andrew Wetzel</mark> |\n",
       "|*Appeared on*| *2022-11-30*|\n",
       "|*Comments*| *Submitted to ApJ, 19 pages, 12 figures, 3 tables*|\n",
       "|**Abstract**| The shape and orientation of dark matter (DM) halos are sensitive to the micro-physics of the DM particle, yet in many mass models, the symmetry axes of the Milky Way's DM halo are often assumed to be aligned with the symmetry axes of the stellar disk. This is well-motivated for the inner DM halo but not for the outer halo. We use zoomed cosmological-baryonic simulations from the Latte suite of FIRE-2 Milky Way-mass galaxies to explore the evolution of the DM halo's orientation with radius and time, with or without a major merger with a Large Magellanic Cloud (LMC) analog, and when varying the DM model. In three of the four CDM halos we examine, the orientation of the halo minor axis diverges from the stellar disk vector by more than 20 degrees beyond about 30 galactocentric kpc, reaching a maximum of 30--90 degrees depending on the individual halo's formation history. In identical simulations using a model of self-interacting DM with $\\sigma = 1 \\, \\mathrm{cm}^2 \\, \\mathrm{g}^{-1}$, the halo remains aligned with the stellar disk out to $\\sim$200--400 kpc. Interactions with massive satellites ($M \\gtrsim 4 \\times 10^{10} \\, \\rm{M_\\odot}$ at pericenter; $M \\gtrsim 3.3 \\times 10^{10} \\, \\rm{M_\\odot}$ at infall) affect the orientation of the halo significantly, aligning the halo's major axis with the satellite galaxy from the disk to the virial radius. The relative orientation of the halo and disk beyond 30 kpc is a potential diagnostic of SIDM if the effects of massive satellites can be accounted for. |\n",
       "|<p style=\"color:green\"> **ERROR** </p>| <p style=\"color:green\">affiliation error: mpia.affiliation_verifications: 'Heidelberg' keyword not found.</p> |"
      ],
      "text/plain": [
       "<IPython.core.display.Markdown object>"
      ]
     },
     "metadata": {},
     "output_type": "display_data"
    },
    {
     "data": {
      "text/markdown": [
       "\n",
       "|||\n",
       "|---:|:---|\n",
       "| [![arXiv](https://img.shields.io/badge/arXiv-arXiv:2211.16441-b31b1b.svg)](https://arxiv.org/abs/arXiv:2211.16441) | **Estimating effective wind speed from Gemini Planet Imager's adaptive  optics data using covariance maps**  |\n",
       "|| Daniel M. Levinstein, et al. -- incl., <mark>Lisa Poyneer</mark> |\n",
       "|*Appeared on*| *2022-11-30*|\n",
       "|*Comments*| *7 pages, 6 figures*|\n",
       "|**Abstract**| The Earth's turbulent atmosphere results in speckled and blurred images of astronomical objects when observed by ground based visible and near-infrared telescopes. Adaptive optics (AO) systems are employed to reduce these atmospheric effects by using wavefront sensors (WFS) and deformable mirrors. Some AO systems are not fast enough to correct for strong, fast, high turbulence wind layers leading to the wind butterfly effect, or wind-driven halo, reducing contrast capabilities in coronagraphic images. Estimating the effective wind speed of the atmosphere allows us to calculate the atmospheric coherence time. This is not only an important parameter to understand for site characterization but could be used to help remove the wind butterfly in post processing. Here we present a method for estimating the atmospheric effective wind speed from spatio-temporal covariance maps generated from pseudo open-loop (POL) WFS data. POL WFS data is used as it aims to reconstruct the full wavefront information when operating in closed-loop. The covariance maps show how different atmospheric turbulent layers traverse the telescope. Our method successfully recovered the effective wind speed from simulated WFS data generated with the soapy python library. The simulated atmospheric turbulence profiles consist of two turbulent layers of ranging strengths and velocities. The method has also been applied to Gemini Planet Imager (GPI) AO WFS data. This gives insight into how the effective wind speed can affect the wind-driven halo seen in the AO image point spread function. In this paper, we will present results from simulated and GPI WFS data. |\n",
       "|<p style=\"color:green\"> **ERROR** </p>| <p style=\"color:green\">affiliation error: mpia.affiliation_verifications: 'Heidelberg' keyword not found.</p> |"
      ],
      "text/plain": [
       "<IPython.core.display.Markdown object>"
      ]
     },
     "metadata": {},
     "output_type": "display_data"
    },
    {
     "data": {
      "text/markdown": [
       "\n",
       "|||\n",
       "|---:|:---|\n",
       "| [![arXiv](https://img.shields.io/badge/arXiv-arXiv:2211.16388-b31b1b.svg)](https://arxiv.org/abs/arXiv:2211.16388) | **On the sociology and hierarchy of voids: a study of seven CAVITY nearby  galaxy voids and their dynamical CosmicFlows-3 environment**  |\n",
       "|| H.M. Courtois, et al. -- incl., <mark>K. Kreckel</mark> |\n",
       "|*Appeared on*| *2022-11-30*|\n",
       "|*Comments*| *Submitted A\\&A Nov 29, 2022 - AA/2022/45578*|\n",
       "|**Abstract**| Context. The present study addresses a key question for our understanding of the relation between void galaxies and their environment: the relationship between luminous and dark matter in and around voids. Aims. To explore how empty of matter local Universe voids are, we study the full (dark+luminous) matter content of seven nearby cosmic voids that are fully contained within the CosmicFlows-3 volume. Methods. The cosmic voids matter density profiles are independently obtained using two different methods. They are built on one hand from the galaxy redshift space 2 points-correlation function and, on the other hand, using peculiar velocity gradients from the CosmicFlows-3 dataset. Results. The results are noticeable since when using the redshift survey, all voids show a radial positive gradient of galaxies, while based on the dynamical analysis, only three of these voids display a clear underdensity of matter in their center. Conclusions. It is the first time such a detailed observational analysis of voids is conducted, showing that void emptiness should be derived from dynamical information. Yet, from this limited study, the Hercules void is the best candidate for a local Universe pure \"pristine volume\" expanding in 3 directions with no dark matter located in that void. |\n",
       "|<p style=\"color:green\"> **ERROR** </p>| <p style=\"color:green\">affiliation error: mpia.affiliation_verifications: 'Planck' keyword not found.</p> |"
      ],
      "text/plain": [
       "<IPython.core.display.Markdown object>"
      ]
     },
     "metadata": {},
     "output_type": "display_data"
    },
    {
     "data": {
      "text/markdown": [
       "\n",
       "|||\n",
       "|---:|:---|\n",
       "| [![arXiv](https://img.shields.io/badge/arXiv-arXiv:2211.16239-b31b1b.svg)](https://arxiv.org/abs/arXiv:2211.16239) | **Simultaneous gas accretion onto a pair of giant planets: Impact on their  final mass and on the protoplanetary disk structure**  |\n",
       "|| Camille Bergez-Casalou, <mark>Bertram Bitsch</mark>, Sean N. Raymond |\n",
       "|*Appeared on*| *2022-11-30*|\n",
       "|*Comments*| *Accepted to A&A*|\n",
       "|**Abstract**| Several planetary systems are known to host multiple giant planets. However, when two giant planets are accreting from the same disk, it is unclear what effect the presence of the second planet has on the gas accretion process of both planets. In this paper we perform long-term 2D isothermal hydrodynamical simulations (over more than 0.5 Myrs) with the FARGO-2D1D code, considering two non-migrating planets accreting from the same gaseous disk. We find that the evolution of the planets' mass ratio depends on gap formation. However, in all cases, when the planets start accreting at the same time, they end up with very similar masses (0.9 $<m_{p,out}/m_{p,in}<$ 1.1 after 0.5 Myrs). Delaying the onset of accretion of one planet allows the planets' mass ratio to reach larger values initially, but they quickly converge to similar masses afterward (0.8 $<m_{p,out}/m_{p,in}<$ 2 in $10^5$ yrs). In order to reproduce the more diverse observed mass ratios of exoplanets, the planets must start accreting gas at different times, and their accretion must be stopped quickly after the beginning of runaway gas accretion (less than 0.5 Myrs), for example via disk dispersal. The evolution of the planets' mass ratio can have an important impact on the dynamics of the system and may constrain the formation history of Jupiter and Saturn. |\n",
       "|<p style=\"color:red\"> **ERROR** </p>| <p style=\"color:red\">latex error Could not find figure empty.eps</p> |"
      ],
      "text/plain": [
       "<IPython.core.display.Markdown object>"
      ]
     },
     "metadata": {},
     "output_type": "display_data"
    },
    {
     "data": {
      "text/markdown": [
       "\n",
       "|||\n",
       "|---:|:---|\n",
       "| [![arXiv](https://img.shields.io/badge/arXiv-arXiv:2211.15665-b31b1b.svg)](https://arxiv.org/abs/arXiv:2211.15665) | **Planetary Exploration Horizon 2061 Report, Chapter 4: From planetary  exploration goals to technology requirements**  |\n",
       "|| Jérémie Lasue, et al. -- incl., <mark>Heidi Hammel</mark>, <mark>Linda Spilker</mark> |\n",
       "|*Appeared on*| *2022-11-30*|\n",
       "|*Comments*| *83 pages, 23 figures, 7 tables, Horizon 2061 is a science-driven, foresight exercise, for future scientific investigations*|\n",
       "|**Abstract**| This chapter reviews for each province and destination of the Solar System the representative space missions that will have to be designed and implemented by 2061 to address the six key science questions about the diversity, origins, workings and habitability of planetary systems (described in chapter 1) and to perform the critical observations that have been described in chapters 3 and partly 2. It derives from this set of future representative missions, some of which will have to be flown during the 2041-2061 period, the critical technologies and supporting infrastructures that will be needed to fly these challenging missions, thus laying the foundation for the description of technologies and infrastructures for the future of planetary exploration that is given in chapters 5 and 6, respectively. |\n",
       "|<p style=\"color:red\"> **ERROR** </p>| <p style=\"color:red\">latex error not a gzip file</p> |"
      ],
      "text/plain": [
       "<IPython.core.display.Markdown object>"
      ]
     },
     "metadata": {},
     "output_type": "display_data"
    },
    {
     "data": {
      "text/markdown": [
       "\n",
       "|||\n",
       "|---:|:---|\n",
       "| [![arXiv](https://img.shields.io/badge/arXiv-arXiv:2211.15781-b31b1b.svg)](https://arxiv.org/abs/arXiv:2211.15781) | **3UCubed: The IMAP Student Collaboration CubeSat Project**  |\n",
       "|| Marcus Alfred, et al. -- incl., <mark>Sonya Smith</mark>, <mark>Walter Foster</mark>, <mark>Lindsay Bartolone</mark> |\n",
       "|*Appeared on*| *2022-11-30*|\n",
       "|*Comments*| **|\n",
       "|**Abstract**| The 3UCubed project is a 3U CubeSat being jointly developed by the University of New Hampshire, Sonoma State University, and Howard University as a part of the NASA Interstellar Mapping and Acceleration Probe, IMAP, student collaboration. This project comprises of a multidisciplinary team of undergraduate students from all three universities. The mission goal of the 3UCubed is to understand how Earths polar upper atmosphere the thermosphere in Earths auroral regions, responds to particle precipitation and solar wind forcing, and internal magnetospheric processes. 3UCubed includes two instruments with rocket heritage to achieve the science mission: an ultraviolet photomultiplier tube, UVPMT, and an electron retarding potential analyzer ERPA. The spacecraft bus consists of the following subsystems: Attitude Determination and Control, Command and Data Handling, Power, Communication, Structural, and Thermal. Currently, the project is in the post-PDR stage, starting to build and test engineering models to develop a FlatSat prior to critical design review in 2023. The goal is to launch at least one 3U CubeSat to collect science data close to the anticipated peak of Solar Cycle 25 around July 2025. Our mother mission, IMAP, is also projected to launch in 2025, which will let us jointly analyze the science data of the main mission, providing the solar wind measurements and inputs to the magnetosphere with that of 3UCubed, providing the response of Earths cusp to these inputs. |\n",
       "|<p style=\"color:red\"> **ERROR** </p>| <p style=\"color:red\">latex error not a gzip file</p> |"
      ],
      "text/plain": [
       "<IPython.core.display.Markdown object>"
      ]
     },
     "metadata": {},
     "output_type": "display_data"
    }
   ],
   "source": [
    "import datetime\n",
    "today = str(datetime.date.today())\n",
    "logfile = f\"_build/html/logs/log-{today}.md\"\n",
    "\n",
    "\n",
    "with open(logfile, 'w') as logs:\n",
    "    # Success\n",
    "    logs.write(f'# Arxiv on Deck 2: Logs - {today}\\n\\n')\n",
    "    logs.write(\"\"\"* Arxiv had {0:,d} new papers\\n\"\"\".format(len(new_papers)))\n",
    "    logs.write(\"\"\"    * {0:,d} with possible author matches\\n\\n\"\"\".format(len(candidates)))\n",
    "    logs.write(\"## Sucessful papers\\n\\n\")\n",
    "    display(Markdown(\"## Successful papers\"))\n",
    "    success = [k[0] for k in documents]\n",
    "    for candid in candidates:\n",
    "        if candid['identifier'].split(':')[-1] in success:\n",
    "            display(candid)\n",
    "            logs.write(candid.generate_markdown_text() + '\\n\\n')\n",
    "\n",
    "    ## failed\n",
    "    logs.write(\"## Failed papers\\n\\n\")\n",
    "    display(Markdown(\"## Failed papers\"))\n",
    "    failed = sorted(failed, key=lambda x: x[1])\n",
    "    current_reason = \"\"\n",
    "    for paper, reason in failed:\n",
    "        if 'affiliation' in reason:\n",
    "            color = 'green'\n",
    "        else:\n",
    "            color = 'red'\n",
    "        data = Markdown(\n",
    "                paper.generate_markdown_text() + \n",
    "                f'\\n|<p style=\"color:{color:s}\"> **ERROR** </p>| <p style=\"color:{color:s}\">{reason:s}</p> |'\n",
    "               )\n",
    "        if reason != current_reason:\n",
    "            logs.write(f'### {reason:s} \\n\\n')\n",
    "            current_reason = reason\n",
    "        logs.write(data.data + '\\n\\n')\n",
    "        \n",
    "        # only display here the important errors (all in logs)\n",
    "        # if color in ('red',):\n",
    "        display(data)"
   ]
  },
  {
   "cell_type": "markdown",
   "id": "472d20ee",
   "metadata": {
    "papermill": {
     "duration": 0.01074,
     "end_time": "2022-11-30T04:09:22.894155",
     "exception": false,
     "start_time": "2022-11-30T04:09:22.883415",
     "status": "completed"
    },
    "tags": []
   },
   "source": [
    "## Export documents\n",
    "\n",
    "We now write the .md files and export relevant images"
   ]
  },
  {
   "cell_type": "code",
   "execution_count": 7,
   "id": "d426aed9",
   "metadata": {
    "execution": {
     "iopub.execute_input": "2022-11-30T04:09:22.917091Z",
     "iopub.status.busy": "2022-11-30T04:09:22.916575Z",
     "iopub.status.idle": "2022-11-30T04:09:22.923748Z",
     "shell.execute_reply": "2022-11-30T04:09:22.923234Z"
    },
    "papermill": {
     "duration": 0.020386,
     "end_time": "2022-11-30T04:09:22.925225",
     "exception": false,
     "start_time": "2022-11-30T04:09:22.904839",
     "status": "completed"
    },
    "tags": []
   },
   "outputs": [],
   "source": [
    "def export_markdown_summary(md: str, md_fname:str, directory: str):\n",
    "    \"\"\"Export MD document and associated relevant images\"\"\"\n",
    "    import os\n",
    "    import shutil\n",
    "    import re\n",
    "\n",
    "    if (os.path.exists(directory) and not os.path.isdir(directory)):\n",
    "        raise RuntimeError(f\"a non-directory file exists with name {directory:s}\")\n",
    "\n",
    "    if (not os.path.exists(directory)):\n",
    "        print(f\"creating directory {directory:s}\")\n",
    "        os.mkdir(directory)\n",
    "\n",
    "    fig_fnames = (re.compile(r'\\[Fig.*\\]\\((.*)\\)').findall(md) + \n",
    "                  re.compile(r'\\<img src=\"([^>\\s]*)\"[^>]*/>').findall(md))\n",
    "    for fname in fig_fnames:\n",
    "        if 'http' in fname:\n",
    "            # No need to copy online figures\n",
    "            continue\n",
    "        destdir = os.path.join(directory, os.path.dirname(fname))\n",
    "        destfname = os.path.join(destdir, os.path.basename(fname))\n",
    "        try:\n",
    "            os.makedirs(destdir)\n",
    "        except FileExistsError:\n",
    "            pass\n",
    "        shutil.copy(fname, destfname)\n",
    "    with open(os.path.join(directory, md_fname), 'w') as fout:\n",
    "        fout.write(md)\n",
    "    print(\"exported in \", os.path.join(directory, md_fname))\n",
    "    [print(\"    + \" + os.path.join(directory,fk)) for fk in fig_fnames]"
   ]
  },
  {
   "cell_type": "code",
   "execution_count": 8,
   "id": "014d04a4",
   "metadata": {
    "execution": {
     "iopub.execute_input": "2022-11-30T04:09:22.948527Z",
     "iopub.status.busy": "2022-11-30T04:09:22.948024Z",
     "iopub.status.idle": "2022-11-30T04:09:22.958639Z",
     "shell.execute_reply": "2022-11-30T04:09:22.957957Z"
    },
    "papermill": {
     "duration": 0.023803,
     "end_time": "2022-11-30T04:09:22.960040",
     "exception": false,
     "start_time": "2022-11-30T04:09:22.936237",
     "status": "completed"
    },
    "tags": []
   },
   "outputs": [
    {
     "name": "stdout",
     "output_type": "stream",
     "text": [
      "exported in  _build/html/2211.15698.md\n",
      "    + _build/html/tmp_2211.15698/./fig2.png\n",
      "    + _build/html/tmp_2211.15698/./app_fig1.png\n",
      "    + _build/html/tmp_2211.15698/./fig1.png\n",
      "exported in  _build/html/2211.15816.md\n",
      "    + _build/html/tmp_2211.15816/./spike_filtering.png\n",
      "    + _build/html/tmp_2211.15816/./velocity_mismatch_filtering.png\n",
      "    + _build/html/tmp_2211.15816/./ew_filtering.png\n",
      "    + _build/html/tmp_2211.15816/./SDSSJ2310+1855_5.93_offset_vs_wavelength.png\n",
      "    + _build/html/tmp_2211.15816/./ULASJ0148+0600_z2.7220.png\n",
      "exported in  _build/html/2211.16123.md\n",
      "    + _build/html/tmp_2211.16123/./figures/miritso_rateints_b.png\n",
      "    + _build/html/tmp_2211.16123/./figures/TSO_white_light_curve_bg.png\n",
      "    + _build/html/tmp_2211.16123/figures/L168-9b_transit_systematics_and_residual_MIRI_LRS.png\n",
      "    + _build/html/tmp_2211.16123/figures/L168-9b_uncertainty_estimate.png\n"
     ]
    }
   ],
   "source": [
    "for paper_id, md in documents:\n",
    "    export_markdown_summary(md, f\"{paper_id:s}.md\", '_build/html/')"
   ]
  },
  {
   "cell_type": "markdown",
   "id": "f087a0a7",
   "metadata": {
    "papermill": {
     "duration": 0.010747,
     "end_time": "2022-11-30T04:09:22.981603",
     "exception": false,
     "start_time": "2022-11-30T04:09:22.970856",
     "status": "completed"
    },
    "tags": []
   },
   "source": [
    "## Display the papers\n",
    "\n",
    "Not necessary but allows for a quick check."
   ]
  },
  {
   "cell_type": "code",
   "execution_count": 9,
   "id": "fd25f625",
   "metadata": {
    "execution": {
     "iopub.execute_input": "2022-11-30T04:09:23.004517Z",
     "iopub.status.busy": "2022-11-30T04:09:23.004033Z",
     "iopub.status.idle": "2022-11-30T04:09:23.011078Z",
     "shell.execute_reply": "2022-11-30T04:09:23.010467Z"
    },
    "papermill": {
     "duration": 0.020106,
     "end_time": "2022-11-30T04:09:23.012467",
     "exception": false,
     "start_time": "2022-11-30T04:09:22.992361",
     "status": "completed"
    },
    "scrolled": false,
    "tags": []
   },
   "outputs": [
    {
     "data": {
      "text/markdown": [
       "<div class=\"macros\" style=\"visibility:hidden;\">\n",
       "$\\newcommand{\\ensuremath}{}$\n",
       "$\\newcommand{\\xspace}{}$\n",
       "$\\newcommand{\\object}[1]{\\texttt{#1}}$\n",
       "$\\newcommand{\\farcs}{{.}''}$\n",
       "$\\newcommand{\\farcm}{{.}'}$\n",
       "$\\newcommand{\\arcsec}{''}$\n",
       "$\\newcommand{\\arcmin}{'}$\n",
       "$\\newcommand{\\ion}[2]{#1#2}$\n",
       "$\\newcommand{\\textsc}[1]{\\textrm{#1}}$\n",
       "$\\newcommand{\\hl}[1]{\\textrm{#1}}$\n",
       "$\\newcommand{\\vdag}{(v)^\\dagger}$\n",
       "$\\newcommand$\n",
       "$\\newcommand$</div>\n",
       "\n",
       "<div class=\"macros\" style=\"visibility:hidden;\">\n",
       "$\\newcommand{$\\ensuremath$}{}$\n",
       "$\\newcommand{$\\xspace$}{}$\n",
       "$\\newcommand{$\\object$}[1]{\\texttt{#1}}$\n",
       "$\\newcommand{$\\farcs$}{{.}''}$\n",
       "$\\newcommand{$\\farcm$}{{.}'}$\n",
       "$\\newcommand{$\\arcsec$}{''}$\n",
       "$\\newcommand{$\\arcmin$}{'}$\n",
       "$\\newcommand{$\\ion$}[2]{#1#2}$\n",
       "$\\newcommand{$\\textsc$}[1]{\\textrm{#1}}$\n",
       "$\\newcommand{$\\hl$}[1]{\\textrm{#1}}$\n",
       "$\\newcommand{$\\vdag$}{(v)^\\dagger}$\n",
       "$\\newcommand$\n",
       "$\\newcommand$</div>\n",
       "\n",
       "\n",
       "\n",
       "<div id=\"title\">\n",
       "\n",
       "# PHANGS-JWST First Results: Duration of the early phase of massive star formation in NGC 628\n",
       "\n",
       "</div>\n",
       "<div id=\"comments\">\n",
       "\n",
       "[![arXiv](https://img.shields.io/badge/arXiv-2211.15698-b31b1b.svg)](https://arxiv.org/abs/2211.15698)<mark>Appeared on: 2022-11-30</mark> - _15 pages, 4 figures, 2 tables; resubmitted to ApJL after minor revisions_\n",
       "\n",
       "</div>\n",
       "<div id=\"authors\">\n",
       "\n",
       "Jaeyeon Kim, et al. -- incl., <mark>Frank Bigiel</mark>, <mark>Annie~Hughes</mark>, <mark>Kathryn Kreckel</mark>, <mark>Janice C. Lee</mark>, <mark>Daizhong Liu</mark>, <mark>Eva Schinnerer</mark>, <mark>Rowan~J.~Smith</mark>\n",
       "\n",
       "</div>\n",
       "<div id=\"abstract\">\n",
       "\n",
       "**Abstract:** The earliest stages of star formation, when young stars are still deeply embedded in their natal clouds, represent a critical phase in the matter cycle between gas clouds and young stellar regions. Until now, the high-resolution infrared observations required for characterizing this heavily obscured phase (during which massive stars have formed, but optical emission is not detected) could only be obtained for a handful of the most nearby galaxies. One of the main hurdles has been the limited angular resolution of the\\textit{Spitzer Space Telescope}. With the revolutionary capabilities of the JWST, it is now possible to investigate the matter cycle during the earliest phases of star formation as a function of the galactic environment. In this Letter, we demonstrate this by measuring the duration of the embedded phase of star formation and the implied time over which molecular clouds remain inert in the galaxy NGC 628 at a distance of 9.8 Mpc, demonstrating that the cosmic volume where this measurement can be made has increased by a factor of$>100$compared to\\textit{Spitzer}. We show that young massive stars remain embedded for$5.1_{-1.4}^{+2.7}$Myr ($2.3_{-1.4}^{+2.7}$Myr of which being heavily obscured), representing$\\sim 20 \\% $of the total cloud lifetime. These values are in broad agreement with previous measurements in five nearby ($D < 3.5$Mpc) galaxies and constitute a proof of concept for the systematic characterization of the early phase of star formation across the nearby galaxy population with the PHANGS--JWST survey.\n",
       "\n",
       "</div>\n",
       "\n",
       "<div id=\"div_fig1\">\n",
       "\n",
       "<img src=\"tmp_2211.15698/./fig2.png\" alt=\"Fig4\" width=\"100%\"/>\n",
       "\n",
       "**Figure 4. -** The left panel shows the measured deviation of gas-to-SFR tracer (CO-to-21 $\\mu$m) flux ratios compared to the galactic average as a function of the size of apertures centered on CO and 21 $\\mu$m emission peaks. The data underlying this figure can be found in Appendix \\ref{app:data}. The error bars show the 1$\\sigma$ uncertainty of each measurement whereas the shaded region within the error bar indicates the effective 1$\\sigma$ error, considering the covariance between data points. Our best-fitting model (dashed line), as well as the galactic average (horizontal line) are also shown. The constrained $\\lambda$ is indicated with a downward arrow and other best-fitting parameters ($t_{\\rm 21 \\mu m}$ and $t_{\\rm fb, 21 \\mu m}$) are listed in Table \\ref{tab:result}. The right panel illustrates the evolutionary sequence from inert molecular clouds to embedded star formation, partially exposed star formation, and finally to fully revealed young stellar regions. The duration of the CO emitting phase ($t_{\\rm CO}$) is shown in orange while the time during which 21 $\\mu$m and H$\\alpha$ emission are detected without associated CO emission are shown in dark blue and dark purple, respectively. The feedback timescale, which is the time for which both CO and a SFR tracer are found coincident, is shown in light blue (for 21 $\\mu$m) and light purple (for H$\\alpha$). The error bars indicate the 1$\\sigma$ uncertainty for each measurement. (*fig:result*)\n",
       "\n",
       "</div>\n",
       "<div id=\"div_fig2\">\n",
       "\n",
       "<img src=\"tmp_2211.15698/./app_fig1.png\" alt=\"Fig2\" width=\"100%\"/>\n",
       "\n",
       "**Figure 2. -** The top panel shows the flux contrast ($\\rm{\\delta}log_{10}\\mathcal{F}$) used to identify peaks on CO (blue) 21 $\\mu$m (red) map as a function of the average filling factor $\\zeta$. The bottom panel shows the ratio of the feedback timescale ($t_{\\rm fb, 21\\mu m}$) and the total duration of the GMC lifecycle ($\\tau$) as a function of $\\zeta$. In both panels, the shaded region shows the parameter space where crowding of sources can lead to an overestimation of the feedback timescale. Our data points are well outside of this region, confirming that we sufficiently resolve star-forming regions and our measurement of $t_{\\rm fb, 21 \\mu m}$ is reliable.    (*fig:blending*)\n",
       "\n",
       "</div>\n",
       "<div id=\"div_fig3\">\n",
       "\n",
       "<img src=\"tmp_2211.15698/./fig1.png\" alt=\"Fig3\" width=\"100%\"/>\n",
       "\n",
       "**Figure 3. -** \\textit{Top:} Comparison between the \\textit{Spitzer} 24 $\\mu$m map (left) and the JWST 21 $\\mu$m map (middle), which has 10 times better resolution (0.67$\\arcsec$) compared to \\textit{Spitzer}(6$\\arcsec$). Orange circles show the beam in each panel. \\textit{Bottom:} Composite three color images obtained by combining CO (blue), 21 $\\mu$m (green), and H$\\alpha$(red). The bottom right panel shows the zoomed-in image of the white rectangular region marked in the bottom left panel, with symbols indicating the distribution of emission peaks using the same color scheme. Emission peaks of CO (indicated with $\\textcolor{blue}{\\times}$), 21 $\\mu$m ($\\textcolor{green}{+}$), and H$\\alpha$($\\textcolor{red}{\\triangle}$) show spatial offsets, indicating that these represent distinctive stages of star formation. The JWST field of view is outlined in green. The crowded galactic center (white circle), as well as extremely bright star-forming regions (yellow circles) are excluded from our analysis (see text). (*fig:map*)\n",
       "\n",
       "</div>"
      ],
      "text/plain": [
       "<IPython.core.display.Markdown object>"
      ]
     },
     "metadata": {},
     "output_type": "display_data"
    },
    {
     "data": {
      "text/markdown": [
       "<div class=\"macros\" style=\"visibility:hidden;\">\n",
       "$\\newcommand{\\ensuremath}{}$\n",
       "$\\newcommand{\\xspace}{}$\n",
       "$\\newcommand{\\object}[1]{\\texttt{#1}}$\n",
       "$\\newcommand{\\farcs}{{.}''}$\n",
       "$\\newcommand{\\farcm}{{.}'}$\n",
       "$\\newcommand{\\arcsec}{''}$\n",
       "$\\newcommand{\\arcmin}{'}$\n",
       "$\\newcommand{\\ion}[2]{#1#2}$\n",
       "$\\newcommand{\\textsc}[1]{\\textrm{#1}}$\n",
       "$\\newcommand{\\hl}[1]{\\textrm{#1}}$\n",
       "$\\newcommand{\\NV}{\\mbox{N \\textsc{v}}}$\n",
       "$\\newcommand{\\SiIV}{\\mbox{Si \\textsc{iv}}}$\n",
       "$\\newcommand{\\CIV}{\\mbox{C \\textsc{iv}}}$\n",
       "$\\newcommand{\\CII}{\\mbox{C \\textsc{ii}}}$\n",
       "$\\newcommand{\\MgII}{\\mbox{Mg \\textsc{ii}}}$\n",
       "$\\newcommand{\\SII}{\\mbox{S \\textsc{ii}}}$\n",
       "$\\newcommand{\\ZnII}{\\mbox{Zn \\textsc{ii}}}$\n",
       "$\\newcommand{\\TiII}{\\mbox{Ti \\textsc{ii}}}$\n",
       "$\\newcommand{\\FeII}{\\mbox{Fe \\textsc{ii}}}$\n",
       "$\\newcommand{\\AlII}{\\mbox{Al \\textsc{ii}}}$\n",
       "$\\newcommand{\\AlIII}{\\mbox{Al \\textsc{iii}}}$\n",
       "$\\newcommand{\\SiII}{\\mbox{Si \\textsc{ii}}}$\n",
       "$\\newcommand{\\OI}{\\mbox{O \\textsc{i}}}$\n",
       "$\\newcommand{\\HI}{\\mbox{H \\textsc{i}}}$\n",
       "$\\newcommand{\\CoII}{\\mbox{Co \\textsc{ii}}}$\n",
       "$\\newcommand{\\CrII}{\\mbox{Cr \\textsc{ii}}}$\n",
       "$\\newcommand{\\CaII}{\\mbox{Ca \\textsc{ii}}}$\n",
       "$\\newcommand{\\MnII}{\\mbox{Mn \\textsc{ii}}}$\n",
       "$\\newcommand{\\NaI}{\\mbox{Na \\textsc{i}}}$\n",
       "$\\newcommand{\\MgI}{\\mbox{Mg \\textsc{i}}}$\n",
       "$\\newcommand{\\Lya}{Ly\\alpha}$\n",
       "$\\newcommand{\\numCIV}{479}$\n",
       "$\\newcommand{\\numMgII}{360}$\n",
       "$\\newcommand{\\numCII}{46}$\n",
       "$\\newcommand{\\kms}{ km s^{-1}}$\n",
       "$\\newcommand{\\bibtex}{\\textsc{Bib}\\!\\TeX}$\n",
       "$\\newcommand{\\appropto}{\\mathrel{\\vcenter{$\n",
       "$  \\offinterlineskip\\halign{\\hfil##\\cr$\n",
       "$    \\propto\\cr\\noalign{\\kern2pt}\\sim\\cr\\noalign{\\kern-2pt}}}}}$</div>\n",
       "\n",
       "<div class=\"macros\" style=\"visibility:hidden;\">\n",
       "$\\newcommand{$\\ensuremath$}{}$\n",
       "$\\newcommand{$\\xspace$}{}$\n",
       "$\\newcommand{$\\object$}[1]{\\texttt{#1}}$\n",
       "$\\newcommand{$\\farcs$}{{.}''}$\n",
       "$\\newcommand{$\\farcm$}{{.}'}$\n",
       "$\\newcommand{$\\arcsec$}{''}$\n",
       "$\\newcommand{$\\arcmin$}{'}$\n",
       "$\\newcommand{$\\ion$}[2]{#1#2}$\n",
       "$\\newcommand{$\\textsc$}[1]{\\textrm{#1}}$\n",
       "$\\newcommand{$\\hl$}[1]{\\textrm{#1}}$\n",
       "$\\newcommand{$\\NV$}{\\mbox{N $\\textsc${v}}}$\n",
       "$\\newcommand{$\\SiIV$}{\\mbox{Si $\\textsc${iv}}}$\n",
       "$\\newcommand{$\\CIV$}{\\mbox{C $\\textsc${iv}}}$\n",
       "$\\newcommand{$\\CII$}{\\mbox{C $\\textsc${ii}}}$\n",
       "$\\newcommand{$\\MgII$}{\\mbox{Mg $\\textsc${ii}}}$\n",
       "$\\newcommand{$\\SII$}{\\mbox{S $\\textsc${ii}}}$\n",
       "$\\newcommand{$\\ZnII$}{\\mbox{Zn $\\textsc${ii}}}$\n",
       "$\\newcommand{$\\TiII$}{\\mbox{Ti $\\textsc${ii}}}$\n",
       "$\\newcommand{$\\FeII$}{\\mbox{Fe $\\textsc${ii}}}$\n",
       "$\\newcommand{$\\AlII$}{\\mbox{Al $\\textsc${ii}}}$\n",
       "$\\newcommand{$\\AlII$I}{\\mbox{Al $\\textsc${iii}}}$\n",
       "$\\newcommand{$\\SiII$}{\\mbox{Si $\\textsc${ii}}}$\n",
       "$\\newcommand{$\\OI$}{\\mbox{O $\\textsc${i}}}$\n",
       "$\\newcommand{$\\HI$}{\\mbox{H $\\textsc${i}}}$\n",
       "$\\newcommand{$\\CoII$}{\\mbox{Co $\\textsc${ii}}}$\n",
       "$\\newcommand{$\\CrII$}{\\mbox{Cr $\\textsc${ii}}}$\n",
       "$\\newcommand{$\\CaII$}{\\mbox{Ca $\\textsc${ii}}}$\n",
       "$\\newcommand{$\\MnII$}{\\mbox{Mn $\\textsc${ii}}}$\n",
       "$\\newcommand{$\\NaI$}{\\mbox{Na $\\textsc${i}}}$\n",
       "$\\newcommand{$\\MgI$}{\\mbox{Mg $\\textsc${i}}}$\n",
       "$\\newcommand{$\\Lya$}{Ly\\alpha}$\n",
       "$\\newcommand{$\\numCIV$}{479}$\n",
       "$\\newcommand{$\\numMgII$}{360}$\n",
       "$\\newcommand{$\\numCII$}{46}$\n",
       "$\\newcommand{$\\kms$}{ km s^{-1}}$\n",
       "$\\newcommand{$\\bibtex$}{$\\textsc${Bib}\\!\\TeX}$\n",
       "$\\newcommand{\\appropto}{\\mathrel{\\vcenter{$\n",
       "$  \\offinterlineskip\\halign{\\hfil##\\cr$\n",
       "$    \\propto\\cr\\noalign{\\kern2pt}\\sim\\cr\\noalign{\\kern-2pt}}}}}$</div>\n",
       "\n",
       "\n",
       "\n",
       "<div id=\"title\">\n",
       "\n",
       "#  6.5\n",
       "\n",
       "</div>\n",
       "<div id=\"comments\">\n",
       "\n",
       "[![arXiv](https://img.shields.io/badge/arXiv-2211.15816-b31b1b.svg)](https://arxiv.org/abs/2211.15816)<mark>Appeared on: 2022-11-30</mark> - _29 pages and 14 figures including 2 appendices. Re-submitted to MNRAS after responding to referee's comments_\n",
       "\n",
       "</div>\n",
       "<div id=\"authors\">\n",
       "\n",
       "<mark><mark>Rebecca L. Davies</mark></mark>, et al. -- incl., <mark><mark>Sarah E. I. Bosman</mark></mark>, <mark><mark>Romain A. Meyer</mark></mark>\n",
       "\n",
       "</div>\n",
       "<div id=\"abstract\">\n",
       "\n",
       "**Abstract:** Intervening metal absorption lines in the spectra of$z\\gtrsim$6 quasars are fundamental probes of the ionization state and chemical composition of circumgalactic and intergalactic gas near the end of the reionization epoch. Large absorber samples are required to robustly measure typical absorber properties and to refine models of the synthesis, transport, and ionization of metals in the early Universe. The \"Ultimate XSHOOTER legacy survey of quasars at$z\\sim$5.8-6.6\"\\mbox{(XQR-30)}has obtained high signal-to-noise spectra of 30 luminous quasars, nearly quadrupling the existing sample of 12 high quality$z\\sim$6 quasar spectra. We use this unprecedented sample to construct a catalog of 778 systems showing absorption in one or more of$\\MgII$($\\numMgII$systems),$\\FeII$(184),$\\CII$($\\numCII$),$\\CIV$($\\numCIV$),$\\SiIV$(127), and$\\NV$(13) which span\\mbox{2 $\\lesssim z \\lesssim$ 6.5}. This catalog significantly expands on existing samples of\\mbox{$z \\gtrsim$ 5}absorbers, especially for$\\CIV$and$\\SiIV$which are important probes of the ionizing photon background at high redshift. The sample is 50\\%(90\\%) complete for rest-frame equivalent widths$W \\gtrsim$0.03\\AA(0.09\\AA). We publicly release the absorber catalog along with completeness statistics and a$\\textsc${Python}script to compute the absorption search path for different ions and redshift ranges. This dataset is a key legacy resource for studies of enriched gas from the era of galaxy assembly to cosmic noon, and paves the way for even higher redshift studies with the\\textit{James Webb Space Telescope}and 30m-class telescopes.\n",
       "\n",
       "</div>\n",
       "\n",
       "<div id=\"div_fig1\">\n",
       "\n",
       "<img src=\"tmp_2211.15816/./spike_filtering.png\" alt=\"Fig1.1\" width=\"33%\"/><img src=\"tmp_2211.15816/./velocity_mismatch_filtering.png\" alt=\"Fig1.2\" width=\"33%\"/><img src=\"tmp_2211.15816/./ew_filtering.png\" alt=\"Fig1.3\" width=\"33%\"/>\n",
       "\n",
       "**Figure 1. -** Illustration of the criteria used to filter the lists of candidate absorption pairs. The absorption profile of each transition is resampled onto a 10 $\\kms$ grid centered at the redshift of the candidate. \\textit{Top}: Line 2 is a skyline residual. A candidate is rejected if either absorption line does not span at least three 10 $\\kms$ velocity channels (about one resolution element; Section \\ref{subsubsec:skylines}). \\textit{Middle and Bottom}: In each candidate, both transitions are real absorption lines but they are associated with unrelated absorption systems. In the middle panel, the absorption profiles are misaligned in velocity space. We reject candidates that do not have significant absorption overlapping between the two transitions (Section \\ref{subsubsec:overlap_signal}). The candidate in the bottom panel is rejected because the observed equivalent widths (black) are inconsistent with Voigt profile fits assuming a single column density (red) (Section \\ref{subsubsec:ew_test}).  (*fig:filtering*)\n",
       "\n",
       "</div>\n",
       "<div id=\"div_fig2\">\n",
       "\n",
       "<img src=\"tmp_2211.15816/./SDSSJ2310+1855_5.93_offset_vs_wavelength.png\" alt=\"Fig8\" width=\"100%\"/>\n",
       "\n",
       "**Figure 8. -** Left: Difference between the centroid velocities of VIS and NIR transitions (blue and red markers, respectively) as a function of observed wavelength for a single-component low-ionization absorption system at $z$ = 5.939 in the spectrum of SDSSJ2310+1855. The velocities are relative to the redshift of the absorption system in the final catalog (grey dashed line). The NIR transitions are offset by a median velocity of 17 $\\kms$(red dashed line). Right: Velocity offsets after applying the 17 $\\kms$ shift to the NIR spectrum. There is no evidence for any systematic variation in the measured centroid velocity as a function of wavelength. The final centroid velocities vary by $\\sim$ 10 $\\kms$ which is the width of a spectral pixel. (*fig:dv_wavelength*)\n",
       "\n",
       "</div>\n",
       "<div id=\"div_fig3\">\n",
       "\n",
       "<img src=\"tmp_2211.15816/./ULASJ0148+0600_z2.7220.png\" alt=\"Fig2\" width=\"100%\"/>\n",
       "\n",
       "**Figure 2. -** Four component fit to a low-ionization absorption system at \\mbox{$z$ = 2.72}. Each color indicates a different kinematic component. The $\\MgII$ profiles (rows 2 and 3) show a blueshifted wing that is not detected in the other ions. The $\\FeII$ profiles (rows 4 and 5) are well fit by two components (orange and red). However, the corresponding central absorption trough in $\\MgII$(rows 2 and 3) can only be fit with a single component (brown) due to saturation. The $\\MgI$ absorption profile (row 1) is fit using the same central component (brown) because the low S/N prevents a robust multi-component decomposition. (*fig:multi_comp_fitting*)\n",
       "\n",
       "</div>"
      ],
      "text/plain": [
       "<IPython.core.display.Markdown object>"
      ]
     },
     "metadata": {},
     "output_type": "display_data"
    },
    {
     "data": {
      "text/markdown": [
       "<div class=\"macros\" style=\"visibility:hidden;\">\n",
       "$\\newcommand{\\ensuremath}{}$\n",
       "$\\newcommand{\\xspace}{}$\n",
       "$\\newcommand{\\object}[1]{\\texttt{#1}}$\n",
       "$\\newcommand{\\farcs}{{.}''}$\n",
       "$\\newcommand{\\farcm}{{.}'}$\n",
       "$\\newcommand{\\arcsec}{''}$\n",
       "$\\newcommand{\\arcmin}{'}$\n",
       "$\\newcommand{\\ion}[2]{#1#2}$\n",
       "$\\newcommand{\\textsc}[1]{\\textrm{#1}}$\n",
       "$\\newcommand{\\hl}[1]{\\textrm{#1}}$\n",
       "$\\newcommand{\\vdag}{(v)^\\dagger}$\n",
       "$\\newcommand$\n",
       "$\\newcommand$\n",
       "$\\newcommand$\n",
       "$\\newcommand$</div>\n",
       "\n",
       "<div class=\"macros\" style=\"visibility:hidden;\">\n",
       "$\\newcommand{$\\ensuremath$}{}$\n",
       "$\\newcommand{$\\xspace$}{}$\n",
       "$\\newcommand{$\\object$}[1]{\\texttt{#1}}$\n",
       "$\\newcommand{$\\farcs$}{{.}''}$\n",
       "$\\newcommand{$\\farcm$}{{.}'}$\n",
       "$\\newcommand{$\\arcsec$}{''}$\n",
       "$\\newcommand{$\\arcmin$}{'}$\n",
       "$\\newcommand{$\\ion$}[2]{#1#2}$\n",
       "$\\newcommand{$\\textsc$}[1]{\\textrm{#1}}$\n",
       "$\\newcommand{$\\hl$}[1]{\\textrm{#1}}$\n",
       "$\\newcommand{$\\vdag$}{(v)^\\dagger}$\n",
       "$\\newcommand$\n",
       "$\\newcommand$\n",
       "$\\newcommand$\n",
       "$\\newcommand$</div>\n",
       "\n",
       "\n",
       "\n",
       "<div id=\"title\">\n",
       "\n",
       "# Spectroscopic time series performance of the Mid-Infrared Instrument on the JWST\n",
       "\n",
       "</div>\n",
       "<div id=\"comments\">\n",
       "\n",
       "[![arXiv](https://img.shields.io/badge/arXiv-2211.16123-b31b1b.svg)](https://arxiv.org/abs/2211.16123)<mark>Appeared on: 2022-11-30</mark> - _Submitted for review to PASP_\n",
       "\n",
       "</div>\n",
       "<div id=\"authors\">\n",
       "\n",
       "<mark>Jeroen Bouwman</mark>, et al. -- incl., <mark>Thomas P. Greene</mark>, <mark>J\\\"{u}rgen Schreiber</mark>, <mark>Silvia Scheithauer</mark>, <mark>Michael Mueller</mark>\n",
       "\n",
       "</div>\n",
       "<div id=\"abstract\">\n",
       "\n",
       "**Abstract:** We present here the first ever mid-infrared spectroscopic time series observation of the transiting exoplanet$\\object${L 168-9 b}with the Mid-Infrared Instrument (MIRI) on the James Webb Space Telescope. The data were obtained as part of the MIRI commissioning activities, to characterize the performance of the Low Resolution Spectroscopy (LRS) mode for these challenging observations. To assess the MIRI LRS performance, we performed two independent analyses of the data. We find that with a single transit observation we reached a spectro-photometric precision of$\\sim$50 ppm in the 7-8\\micronrange at R=50, consistent with$\\sim$25 ppm systematic noise. The derived band averaged transit depth is 524$\\pm$15 ppm and 547$\\pm$13 ppm for the two applied analysis methods, respectively, recovering the known transit depth to within 1$\\sigma$. The measured noise in the planet's transmission spectrum is approximately 15-20\\%higher than random noise simulations over wavelengths$6.8 \\lesssim \\lambda \\lesssim 11$$\\mu$m. We observed an excess noise at shorter wavelengths, for which possible causes are discussed. This performance was achieved with limited in-flight calibration data, demonstrating the future potential of MIRI for the characterization of exoplanet atmospheres.\n",
       "\n",
       "</div>\n",
       "\n",
       "<div id=\"div_fig1\">\n",
       "\n",
       "<img src=\"tmp_2211.16123/./figures/miritso_rateints_b.png\" alt=\"Fig2.1\" width=\"50%\"/><img src=\"tmp_2211.16123/./figures/TSO_white_light_curve_bg.png\" alt=\"Fig2.2\" width=\"50%\"/>\n",
       "\n",
       "**Figure 2. -** Level 2a calibrated spectral images and band averaged light curve of the $\\object${L 168-9} system. The images are rotated by 90 degrees for display purposes and the spectra are shown in the full SLITLESSPRISM subarray, which measures 416 rows $\\times$ 72 columns on the detector. In this orientation, the wavelength increases from right to left. The images were generated from the seg-002 \\texttt{rateints} file, which is one of 5 segments that make up the exposure. Both images show the same spectral image: (top) with a linear scaling; and (bottom) with a log scaling and limits adjusted to bring out the complex diffraction patterns and scattered light seen at the short wavelengths. The normalized lightcurve is obtained by summing the signal seen in the spectral images between detector rows 230 to 380 and detector columns 20 to 51 and dividing the total signal per integration by the averages signal in time. Even in this very basic calibrated data the planetary transit can be clearly observed. (*fig:rateints_ims*)\n",
       "\n",
       "</div>\n",
       "<div id=\"div_fig2\">\n",
       "\n",
       "<img src=\"tmp_2211.16123/figures/L168-9b_transit_systematics_and_residual_MIRI_LRS.png\" alt=\"Fig4\" width=\"100%\"/>\n",
       "\n",
       "**Figure 4. -** \\texttt{CASCADe}'s white-light (4.85--11.85 $\\mu$m) light curve analysis.  The top panel shows the uncalibrated white light curve (blue data points) together with the fitted band averaged systematics model (black data points). The middle panel show the calibrated data together with the fitted light curve model. The lower panel shows the residuals from subtracting the lightcurve model from the calibrated time series data.  In the analysis the first 30 minutes of the observations have been omitted as they sow the strongest response drifts (which can be seen in Figure \\ref{fig:rateints_ims}).\n",
       "\\label{fig:fig_LC} (*fig:fig_LC*)\n",
       "\n",
       "</div>\n",
       "<div id=\"div_fig3\">\n",
       "\n",
       "<img src=\"tmp_2211.16123/figures/L168-9b_uncertainty_estimate.png\" alt=\"Fig9\" width=\"100%\"/>\n",
       "\n",
       "**Figure 9. -** Noise estimates of the transit spectrum of L 168-9 b. The blue dots show \\texttt{CASCADe}'s noise estimate while the green routs show \\texttt{Eureka!}'s 1 $\\sigma$ uncertainty estimate. The red curve shows the expected noise limit for this observations using a scaled photon conversion efficiency \\citep[][see paragraph \\ref{sec:analysis}]{2015ApJ...805...23C}. The black curve shows the estimated noise limit using MIRISim \\citep{mirisim} and the in orbit determined \\texttt{PHOTOM} and wavelength calibrating files (see also section \\ref{sec:analysis}).\n",
       "\\label{fig:fig_error_analysis} (*fig:fig_error_analysis*)\n",
       "\n",
       "</div>"
      ],
      "text/plain": [
       "<IPython.core.display.Markdown object>"
      ]
     },
     "metadata": {},
     "output_type": "display_data"
    }
   ],
   "source": [
    "[display(Markdown(k[1])) for k in documents];"
   ]
  },
  {
   "cell_type": "markdown",
   "id": "873873a4",
   "metadata": {
    "papermill": {
     "duration": 0.011373,
     "end_time": "2022-11-30T04:09:23.035434",
     "exception": false,
     "start_time": "2022-11-30T04:09:23.024061",
     "status": "completed"
    },
    "tags": []
   },
   "source": [
    "# Create HTML index"
   ]
  },
  {
   "cell_type": "code",
   "execution_count": 10,
   "id": "cf665672",
   "metadata": {
    "execution": {
     "iopub.execute_input": "2022-11-30T04:09:23.060167Z",
     "iopub.status.busy": "2022-11-30T04:09:23.059715Z",
     "iopub.status.idle": "2022-11-30T04:09:23.069716Z",
     "shell.execute_reply": "2022-11-30T04:09:23.069056Z"
    },
    "papermill": {
     "duration": 0.024157,
     "end_time": "2022-11-30T04:09:23.071219",
     "exception": false,
     "start_time": "2022-11-30T04:09:23.047062",
     "status": "completed"
    },
    "tags": []
   },
   "outputs": [
    {
     "name": "stdout",
     "output_type": "stream",
     "text": [
      "112  publications in the last 7 days.\n",
      "\t _build/html/2211.16123.md\n",
      "\t _build/html/2211.15816.md\n",
      "\t _build/html/2211.15698.md\n",
      "\t _build/html/2211.15576.md\n",
      "\t _build/html/2211.15434.md\n",
      "\t _build/html/2211.15288.md\n",
      "\t _build/html/2211.15224.md\n",
      "\t _build/html/2211.14543.md\n",
      "\t _build/html/2211.14330.md\n",
      "\t _build/html/2211.14322.md\n",
      "\t _build/html/2211.14132.md\n",
      "\t _build/html/2211.13811.md\n",
      "\t _build/html/2211.13426.md\n",
      "\t _build/html/2211.13318.md\n",
      "\t _build/html/2211.13146.md\n",
      "\t _build/html/2211.12613.md\n",
      "\t _build/html/2211.11767.md\n",
      "\t _build/html/2211.09840.md\n",
      "\t _build/html/2211.09217.md\n",
      "\t _build/html/2211.08493.md\n",
      "\t _build/html/2211.08487.md\n",
      "\t _build/html/2211.08294.md\n",
      "\t _build/html/2211.07667.md\n",
      "\t _build/html/2211.07659.md\n",
      "\t _build/html/2211.06454.md\n",
      "\t _build/html/2211.06205.md\n",
      "\t _build/html/2211.06194.md\n",
      "\t _build/html/2211.05022.md\n",
      "\t _build/html/2211.04048.md\n",
      "\t _build/html/2211.03641.md\n",
      "\t _build/html/2211.02502.md\n",
      "\t _build/html/2211.01474.md\n",
      "\t _build/html/2211.00667.md\n",
      "\t _build/html/2211.00657.md\n",
      "\t _build/html/2211.00087.md\n",
      "\t _build/html/2211.00036.md\n",
      "\t _build/html/2211.00020.md\n",
      "\t _build/html/2211.00010.md\n",
      "\t _build/html/2210.17434.md\n",
      "\t _build/html/2210.12412.md\n",
      "\t _build/html/2210.11926.md\n",
      "\t _build/html/2210.11551.md\n",
      "\t _build/html/2210.11103.md\n",
      "\t _build/html/2210.10707.md\n",
      "\t _build/html/2210.09930.md\n",
      "\t _build/html/2210.08996.md\n",
      "\t _build/html/2210.08517.md\n",
      "\t _build/html/2210.08510.md\n",
      "\t _build/html/2210.08078.md\n",
      "\t _build/html/2210.06504.md\n",
      "\t _build/html/2210.05695.md\n",
      "\t _build/html/2210.05595.md\n",
      "\t _build/html/2210.05505.md\n",
      "\t _build/html/2210.04721.md\n",
      "\t _build/html/2210.03615.md\n",
      "\t _build/html/2210.01811.md\n",
      "\t _build/html/2210.01809.md\n",
      "\t _build/html/2210.01556.md\n",
      "\t _build/html/2210.00863.md\n",
      "\t _build/html/2210.00560.md\n",
      "\t _build/html/2209.15403.md\n",
      "\t _build/html/2209.15110.md\n",
      "\t _build/html/2209.14410.md\n",
      "\t _build/html/2209.14396.md\n",
      "\t _build/html/2209.13717.md\n",
      "\t _build/html/2209.13336.md\n",
      "\t _build/html/2209.12906.md\n",
      "\t _build/html/2209.11781.md\n",
      "\t _build/html/2209.11602.md\n",
      "\t _build/html/2209.11248.md\n",
      "\t _build/html/2209.11096.md\n",
      "\t _build/html/2209.10618.md\n",
      "\t _build/html/2209.09914.md\n",
      "\t _build/html/2209.09823.md\n",
      "\t _build/html/2209.08242.md\n",
      "\t _build/html/2209.08120.md\n",
      "\t _build/html/2209.08106.md\n",
      "\t _build/html/2209.07962.md\n",
      "\t _build/html/2209.07931.md\n",
      "\t _build/html/2209.06833.md\n",
      "\t _build/html/2209.05814.md\n",
      "\t _build/html/2209.05593.md\n",
      "\t _build/html/2209.04304.md\n",
      "\t _build/html/2209.03367.md\n",
      "\t _build/html/2209.02872.md\n",
      "\t _build/html/2209.02725.md\n",
      "\t _build/html/2209.02722.md\n",
      "\t _build/html/2209.02092.md\n",
      "\t _build/html/2209.01125.md\n",
      "\t _build/html/2209.00828.md\n",
      "\t _build/html/2209.00363.md\n",
      "\t _build/html/2208.14927.md\n",
      "\t _build/html/2208.09335.md\n",
      "\t _build/html/2208.08872.md\n",
      "\t _build/html/2204.06393.md\n",
      "\t _build/html/2204.03335.md\n",
      "\t _build/html/2204.03253.md\n",
      "\t _build/html/2204.02998.md\n",
      "\t _build/html/2204.02109.md\n",
      "\t _build/html/2204.02017.md\n",
      "\t _build/html/2204.01824.md\n",
      "\t _build/html/2204.01758.md\n",
      "\t _build/html/2204.01245.md\n",
      "\t _build/html/2204.00793.md\n",
      "\t _build/html/2204.00342.md\n",
      "\t _build/html/2203.16959.md\n",
      "\t _build/html/2203.16856.md\n",
      "\t _build/html/2203.16735.md\n",
      "\t _build/html/2203.16734.md\n",
      "\t _build/html/2203.16504.md\n",
      "\t _build/html/2203.15822.md\n",
      "\t _build/html/2203.15811.md\n"
     ]
    }
   ],
   "source": [
    "from datetime import datetime, timedelta, timezone\n",
    "from glob import glob\n",
    "\n",
    "files = glob('_build/html/*.md')\n",
    "days = 7\n",
    "now = datetime.today()\n",
    "res = []\n",
    "for fk in files:\n",
    "    stat_result = os.stat(fk).st_ctime\n",
    "    modified = datetime.fromtimestamp(stat_result, tz=timezone.utc).replace(tzinfo=None)\n",
    "    delta = now.today() - modified\n",
    "    if delta <= timedelta(days=days):\n",
    "        res.append((delta.seconds, fk))\n",
    "res = [k[1] for k in reversed(sorted(res, key=lambda x:x[1]))]\n",
    "npub = len(res)\n",
    "print(len(res), f\" publications in the last {days:d} days.\")\n",
    "[ print('\\t', k) for k in res ];"
   ]
  },
  {
   "cell_type": "code",
   "execution_count": 11,
   "id": "52ca0208",
   "metadata": {
    "execution": {
     "iopub.execute_input": "2022-11-30T04:09:23.096411Z",
     "iopub.status.busy": "2022-11-30T04:09:23.095891Z",
     "iopub.status.idle": "2022-11-30T04:09:23.102343Z",
     "shell.execute_reply": "2022-11-30T04:09:23.101715Z"
    },
    "papermill": {
     "duration": 0.020699,
     "end_time": "2022-11-30T04:09:23.103784",
     "exception": false,
     "start_time": "2022-11-30T04:09:23.083085",
     "status": "completed"
    },
    "scrolled": false,
    "tags": []
   },
   "outputs": [],
   "source": [
    "def create_carousel(npub=4):\n",
    "    \"\"\" Generate the HTML code for a carousel with `npub` slides \"\"\"\n",
    "    carousel = [\"\"\"<section class=\"carousel\" aria-label=\"Gallery\">\"\"\",\n",
    "                \"\"\"  <ol class=\"carousel__viewport\">\"\"\",\n",
    "    ]\n",
    "    for k in range(1, npub + 1):\n",
    "        prev_ = k - 1\n",
    "        next_ = k + 1\n",
    "        if prev_ <= 0:\n",
    "            prev_ = npub\n",
    "        if next_ > npub:\n",
    "            next_ = 1\n",
    "        text  = f\"\"\"    <li id=\"carousel__slide{k}\" tabindex=\"0\" class=\"carousel__slide\">\\n\"\"\"\n",
    "        text += f\"\"\"       <div class=\"carousel__snapper\">\\n\"\"\"\n",
    "        text += f\"\"\"         <a href=\"#carousel__slide{prev_}\" class=\"carousel__prev\">Go to previous slide</a>\\n\"\"\"\n",
    "        text += f\"\"\"         <a href=\"#carousel__slide{next_}\" class=\"carousel__next\">Go to next slide</a>\\n\"\"\"\n",
    "        text += f\"\"\"         <div id=\"slide{k}_content\" class=\"md_view\" >Content {k}</div>\\n\"\"\"\n",
    "        text += f\"\"\"       </div>\\n\"\"\"\n",
    "        text += f\"\"\"    </li>\"\"\"\n",
    "        carousel.append(text)\n",
    "\n",
    "    carousel.extend([\n",
    "        \"\"\"  </ol>\"\"\",\n",
    "        \"\"\"  <aside class=\"carousel__navigation\">\"\"\",\n",
    "        \"\"\"    <ol class=\"carousel__navigation-list\">\"\"\"])\n",
    "\n",
    "    for k in range(1, npub + 1):\n",
    "        text  = f\"\"\"      <li class=\"carousel__navigation-item\">\\n\"\"\"\n",
    "        text += f\"\"\"        <a href=\"#carousel__slide{k}\" class=\"carousel__navigation-button\">Go to {k}</a>\\n\"\"\"\n",
    "        text += f\"\"\"      </li>\"\"\"\n",
    "        carousel.append(text)\n",
    "    carousel.extend([\"\"\"    </ol>\"\"\", \"\"\"  </aside>\"\"\", \"\"\"</section>\"\"\"])\n",
    "\n",
    "    return '\\n'.join(carousel)"
   ]
  },
  {
   "cell_type": "code",
   "execution_count": 12,
   "id": "a6eac5b6",
   "metadata": {
    "execution": {
     "iopub.execute_input": "2022-11-30T04:09:23.156298Z",
     "iopub.status.busy": "2022-11-30T04:09:23.156022Z",
     "iopub.status.idle": "2022-11-30T04:09:23.162191Z",
     "shell.execute_reply": "2022-11-30T04:09:23.161659Z"
    },
    "papermill": {
     "duration": 0.047909,
     "end_time": "2022-11-30T04:09:23.163499",
     "exception": false,
     "start_time": "2022-11-30T04:09:23.115590",
     "status": "completed"
    },
    "scrolled": false,
    "tags": []
   },
   "outputs": [],
   "source": [
    "carousel = create_carousel(npub)\n",
    "docs = ', '.join(['\"{0:s}\"'.format(k.split('/')[-1]) for k in res])\n",
    "slides = ', '.join([f'\"slide{k}_content\"' for k in range(1, npub + 1)])\n",
    "\n",
    "script = f\"\"\"\n",
    "const docs = [{docs}]\n",
    "\n",
    "const slides = [{slides}]\n",
    "\"\"\" + \"\"\"\n",
    "async function run() {\n",
    "    for (let i = 0; i < docs.length; i++) {\n",
    "        let file = await fetch(docs[i]);\n",
    "        let text = await file.text()\n",
    "        document.getElementById(slides[i]).innerHTML =\n",
    "            marked.parse(text);\n",
    "    }\n",
    "    hljs.highlightAll();\n",
    "}\n",
    "run()\n",
    "\"\"\"\n",
    "\n",
    "page = f\"\"\"<!doctype html>\n",
    "<html lang=\"en\">\n",
    "\n",
    "<head>\n",
    "  <meta charset=\"utf-8\">\n",
    "  <meta name=\"viewport\" content=\"width=device-width, initial-scale=1\">\n",
    "  <!-- Bootstrap CSS -->\n",
    "  <link href=\"https://cdn.jsdelivr.net/npm/bootstrap@5.0.2/dist/css/bootstrap.min.css\" rel=\"stylesheet\"\n",
    "   integrity=\"sha384-EVSTQN3/azprG1Anm3QDgpJLIm9Nao0Yz1ztcQTwFspd3yD65VohhpuuCOmLASjC\" crossorigin=\"anonymous\">\n",
    "  <!-- highlight.js CSS -->\n",
    "  <link rel=\"stylesheet\" href=\"https://cdnjs.cloudflare.com/ajax/libs/highlight.js/11.1.0/styles/default.min.css\">\n",
    "  <!-- Mathjax 3 -->\n",
    "  <script type=\"text/javascript\" id=\"MathJax-config\" src=\"mathjax_config.js\"> </script>\n",
    "  <script type=\"text/javascript\" id=\"MathJax-script\" async \n",
    "    src=\"https://cdn.jsdelivr.net/npm/mathjax@3/es5/tex-mml-chtml.js\">\n",
    "  </script>\n",
    "  <link rel=\"stylesheet\" href=\"index_carousel.css\">\n",
    "  <link rel=\"icon\" type=\"image/x-icon\" href=\"https://www.mpia.de/assets/touch-icon-32x32-a66937bcebc4e8894ebff1f41a366c7c7220fd97a38869ee0f2db65a9f59b6c1.png\">\n",
    "  <title>MPIA Arxiv on deck!</title>\n",
    "</head>\n",
    "\n",
    "<body>\n",
    "  <div id=\"header\"> <img src=\"header_banner.png\" width=\"100%\"></div>\n",
    "  <div id=\"suptitle\"> 7-day archives </div>\n",
    "  <div id=\"info\">\n",
    "    <img src=\"https://pngimg.com/uploads/github/github_PNG58.png\" height=30rem></img>\n",
    "    <a href=https://github.com/mpi-astronomy/arxiv_display style=\"color:black;\">github/mpi-astronomy/arxiv_display</a> \n",
    "  </div>\n",
    "  {carousel:s}\n",
    "</body>\n",
    "\n",
    "<!-- Render Markdown -->\n",
    "\n",
    "<body>\n",
    "  <!-- highlight.js: https://highlightjs.org/download/ -->\n",
    "  <script src=\"https://cdnjs.cloudflare.com/ajax/libs/highlight.js/11.5.0/highlight.min.js\"></script>\n",
    "  <!-- marked.js -->\n",
    "  <script src=\"https://cdn.jsdelivr.net/npm/marked/marked.min.js\"></script>\n",
    "  <script>{script:s}</script>\n",
    "</body>\n",
    "</html>\n",
    "\"\"\"\n",
    "with open(\"_build/html/index_7days.html\", 'w') as fout:\n",
    "    fout.write(page)"
   ]
  },
  {
   "cell_type": "markdown",
   "id": "1cebacbc",
   "metadata": {
    "papermill": {
     "duration": 0.011682,
     "end_time": "2022-11-30T04:09:23.187164",
     "exception": false,
     "start_time": "2022-11-30T04:09:23.175482",
     "status": "completed"
    },
    "tags": []
   },
   "source": [
    "# Debugging papers"
   ]
  },
  {
   "cell_type": "raw",
   "id": "debe7cc6",
   "metadata": {
    "papermill": {
     "duration": 0.011726,
     "end_time": "2022-11-30T04:09:23.210654",
     "exception": false,
     "start_time": "2022-11-30T04:09:23.198928",
     "status": "completed"
    },
    "tags": []
   },
   "source": [
    "raise NotImplementedError(\"Manual Stop\")"
   ]
  },
  {
   "cell_type": "raw",
   "id": "eb169192",
   "metadata": {
    "papermill": {
     "duration": 0.011652,
     "end_time": "2022-11-30T04:09:23.234076",
     "exception": false,
     "start_time": "2022-11-30T04:09:23.222424",
     "status": "completed"
    },
    "scrolled": true,
    "tags": []
   },
   "source": [
    "from IPython.display import display, Markdown\n",
    "from TexSoup import TexSoup\n",
    "import re\n",
    "\n",
    "def bracket_error(source: str):\n",
    "    \"\"\" Find problematic portions of the document \"\"\"\n",
    "    \n",
    "    print(\"len(source)\", len(source))\n",
    "    \n",
    "    # Checking header\n",
    "    begin_doc = next(re.finditer(r'\\\\begin\\{document\\}', doc.source)).span()[1]\n",
    "    header = source[:begin_doc]\n",
    "    text = header + r\"\\n\\end{document}\"\n",
    "\n",
    "    try:\n",
    "        # print(\"Header check... \", end='')\n",
    "        TexSoup(text)\n",
    "        display(Markdown(f\"**[OK]** - Header\"))\n",
    "    except:\n",
    "        raise RuntimeError(\"Error in the header\")\n",
    "        \n",
    "    # Check the text per section until the end.\n",
    "    # Do not stop and try them all.\n",
    "    \n",
    "    problematic_text = []\n",
    "    \n",
    "    sections = ([(0, begin_doc, 'until first section')] + \n",
    "                [(g.span()[0], g.span()[1], g.group()) for g in re.finditer(r'\\\\section\\{.*\\}', source)] +\n",
    "                [(g.span()[0], g.span()[1], g.group()) for g in re.finditer(r'\\\\begin\\{appendix\\}', source)]\n",
    "               )\n",
    "    sections.append([len(source), len(source), 'end'])\n",
    "    \n",
    "    sections = sorted(sections, key=lambda x: x[0])\n",
    "    \n",
    "    prev_pos, prev_name = (0, 'header')\n",
    "    parsed = []\n",
    "    \n",
    "    for span, span_end, name in sections:\n",
    "\n",
    "        if span - prev_pos <= 0:\n",
    "            continue\n",
    "            \n",
    "\n",
    "        text = source[prev_pos:span]\n",
    "        if prev_pos > begin_doc:\n",
    "            text = r\"\\n\\begin{document}\" + text + r\"\\n\\end{document}\"\n",
    "        else:\n",
    "            text = text + r\"\\n\\end{document}\"\n",
    "        try:\n",
    "            #print(f\"{prev_pos}:{prev_name}-->{span}:{name} check... \", end='')\n",
    "            parsed.append(TexSoup(text, tolerance=1))  # allow not ending env\n",
    "            display(Markdown(f\"**[OK]** - *{prev_pos}*:{prev_name} &rarr; *{span}*:{name}\"))\n",
    "            # print(\"ok\")\n",
    "\n",
    "            prev_pos = span\n",
    "            prev_name = name\n",
    "        except:\n",
    "            # print(f\"error between {prev_pos} and {span}\")\n",
    "            display(Markdown(f\"**[ERR]** *{prev_pos}*:{prev_name} &rarr; *{span}*:{name}\"))\n",
    "            problematic_text.append((prev_pos, source[prev_pos:span]))\n",
    "            prev_pos = span\n",
    "            prev_name = name\n",
    "            # raise\n",
    "    return problematic_text, parsed\n",
    "\n",
    "\n",
    "def check_environment(text, offset=0):\n",
    "    \"\"\" Check environment \"\"\"\n",
    "    env = re.compile(r\"\\\\begin\\{(?P<env>.*)\\}(.*)\\\\end\\{(?P=env)\\}\", re.DOTALL)\n",
    "\n",
    "    for match in env.finditer(text):\n",
    "        beg, end = match.span()\n",
    "        beg += offset\n",
    "        end += offset\n",
    "        envname = match.groups()[0]\n",
    "        try:\n",
    "            latex.TexSoup(match.group())\n",
    "        except Exception as e:\n",
    "            display(e)\n",
    "            print(f\"Error in {envname:s} between {beg} and {end}\")\n",
    "            return match.groups()[1], beg, end"
   ]
  },
  {
   "cell_type": "raw",
   "id": "2315e835",
   "metadata": {
    "papermill": {
     "duration": 0.011781,
     "end_time": "2022-11-30T04:09:23.257611",
     "exception": false,
     "start_time": "2022-11-30T04:09:23.245830",
     "status": "completed"
    },
    "scrolled": false,
    "tags": []
   },
   "source": [
    "import importlib\n",
    "importlib.reload(latex)\n",
    "which = \"2204.03253\"\n",
    "paper_id = f'{which:s}'\n",
    "folder = f'tmp_{paper_id:s}'\n",
    "\n",
    "if not os.path.isdir(folder):\n",
    "    folder = retrieve_document_source(f\"{paper_id}\", f'tmp_{paper_id}')\n",
    "\n",
    "try:\n",
    "    doc = latex.LatexDocument(folder, validation=validation)    \n",
    "except AffiliationError as affilerror:\n",
    "    msg = f\"ArXiv:{paper_id:s} is not an MPIA paper... \" + str(affilerror)\n",
    "    print(msg)\n",
    "\n",
    "\n",
    "# Hack because sometimes author parsing does not work well\n",
    "if (len(doc.authors) != len(paper['authors'])):\n",
    "    doc._authors = paper['authors']\n",
    "if (doc.abstract) in (None, ''):\n",
    "    doc._abstract = paper['abstract']\n",
    "\n",
    "doc.comment = get_markdown_badge(paper_id) + \" _\" + paper['comments'] + \"_\"\n",
    "doc.highlight_authors_in_list(hl_list)\n",
    "\n",
    "full_md = doc.generate_markdown_text()"
   ]
  },
  {
   "cell_type": "raw",
   "id": "dd3781db",
   "metadata": {
    "papermill": {
     "duration": 0.01172,
     "end_time": "2022-11-30T04:09:23.281077",
     "exception": false,
     "start_time": "2022-11-30T04:09:23.269357",
     "status": "completed"
    },
    "scrolled": false,
    "tags": []
   },
   "source": [
    "doc"
   ]
  },
  {
   "cell_type": "raw",
   "id": "c6eed834",
   "metadata": {
    "papermill": {
     "duration": 0.01171,
     "end_time": "2022-11-30T04:09:23.304943",
     "exception": false,
     "start_time": "2022-11-30T04:09:23.293233",
     "status": "completed"
    },
    "tags": []
   },
   "source": [
    "# [check_environment(k) for k in bracket_error(doc.source)]\n",
    "_, _, a = latex.get_content_per_section(doc.source, verbose=True)\n",
    "if not a:\n",
    "    print(\"no issues per section\")\n",
    "for ak in a:\n",
    "    r = check_environment(ak[1], offset=ak[0])\n",
    "    print(r[1], r[2])\n",
    "    print(r[0])"
   ]
  },
  {
   "cell_type": "code",
   "execution_count": null,
   "id": "71ce768a",
   "metadata": {
    "papermill": {
     "duration": 0.01165,
     "end_time": "2022-11-30T04:09:23.328361",
     "exception": false,
     "start_time": "2022-11-30T04:09:23.316711",
     "status": "completed"
    },
    "tags": []
   },
   "outputs": [],
   "source": []
  }
 ],
 "metadata": {
  "kernelspec": {
   "display_name": "Python 3.10.6 64-bit",
   "language": "python",
   "name": "python3"
  },
  "language_info": {
   "codemirror_mode": {
    "name": "ipython",
    "version": 3
   },
   "file_extension": ".py",
   "mimetype": "text/x-python",
   "name": "python",
   "nbconvert_exporter": "python",
   "pygments_lexer": "ipython3",
   "version": "3.9.15"
  },
  "papermill": {
   "default_parameters": {},
   "duration": 102.275918,
   "end_time": "2022-11-30T04:09:23.558755",
   "environment_variables": {},
   "exception": null,
   "input_path": "MPIA daily digest.ipynb",
   "output_path": "log.ipynb",
   "parameters": {},
   "start_time": "2022-11-30T04:07:41.282837",
   "version": "2.4.0"
  },
  "vscode": {
   "interpreter": {
    "hash": "e7370f93d1d0cde622a1f8e1c04877d8463912d04d973331ad4851f04de6915a"
   }
  },
  "widgets": {
   "application/vnd.jupyter.widget-state+json": {
    "state": {
     "027fbc5007c2491daa5f4122ce1b2f9c": {
      "model_module": "@jupyter-widgets/controls",
      "model_module_version": "2.0.0",
      "model_name": "HBoxModel",
      "state": {
       "_dom_classes": [],
       "_model_module": "@jupyter-widgets/controls",
       "_model_module_version": "2.0.0",
       "_model_name": "HBoxModel",
       "_view_count": null,
       "_view_module": "@jupyter-widgets/controls",
       "_view_module_version": "2.0.0",
       "_view_name": "HBoxView",
       "box_style": "",
       "children": [
        "IPY_MODEL_6adccc01e3894eb5a2f5dfcd553c02af",
        "IPY_MODEL_92b0e4a3fda24a29a89224b2b8b3154a",
        "IPY_MODEL_1bff1df55a4c4d2eaa73e62387d00f8b"
       ],
       "layout": "IPY_MODEL_fd4b101691b94e91b49d02efe36f32d9",
       "tabbable": null,
       "tooltip": null
      }
     },
     "14a1dce5a0734cc885d70ee05af0bb9c": {
      "model_module": "@jupyter-widgets/controls",
      "model_module_version": "2.0.0",
      "model_name": "ProgressStyleModel",
      "state": {
       "_model_module": "@jupyter-widgets/controls",
       "_model_module_version": "2.0.0",
       "_model_name": "ProgressStyleModel",
       "_view_count": null,
       "_view_module": "@jupyter-widgets/base",
       "_view_module_version": "2.0.0",
       "_view_name": "StyleView",
       "bar_color": null,
       "description_width": ""
      }
     },
     "1bff1df55a4c4d2eaa73e62387d00f8b": {
      "model_module": "@jupyter-widgets/controls",
      "model_module_version": "2.0.0",
      "model_name": "HTMLModel",
      "state": {
       "_dom_classes": [],
       "_model_module": "@jupyter-widgets/controls",
       "_model_module_version": "2.0.0",
       "_model_name": "HTMLModel",
       "_view_count": null,
       "_view_module": "@jupyter-widgets/controls",
       "_view_module_version": "2.0.0",
       "_view_name": "HTMLView",
       "description": "",
       "description_allow_html": false,
       "layout": "IPY_MODEL_3f5cf407132f423899c5d79e62686740",
       "placeholder": "​",
       "style": "IPY_MODEL_3aaa2f0d17c6416d853dbc8e45a48416",
       "tabbable": null,
       "tooltip": null,
       "value": " 27/27 [01:17&lt;00:00,  1.71s/it]"
      }
     },
     "3aaa2f0d17c6416d853dbc8e45a48416": {
      "model_module": "@jupyter-widgets/controls",
      "model_module_version": "2.0.0",
      "model_name": "HTMLStyleModel",
      "state": {
       "_model_module": "@jupyter-widgets/controls",
       "_model_module_version": "2.0.0",
       "_model_name": "HTMLStyleModel",
       "_view_count": null,
       "_view_module": "@jupyter-widgets/base",
       "_view_module_version": "2.0.0",
       "_view_name": "StyleView",
       "background": null,
       "description_width": "",
       "font_size": null,
       "text_color": null
      }
     },
     "3f5cf407132f423899c5d79e62686740": {
      "model_module": "@jupyter-widgets/base",
      "model_module_version": "2.0.0",
      "model_name": "LayoutModel",
      "state": {
       "_model_module": "@jupyter-widgets/base",
       "_model_module_version": "2.0.0",
       "_model_name": "LayoutModel",
       "_view_count": null,
       "_view_module": "@jupyter-widgets/base",
       "_view_module_version": "2.0.0",
       "_view_name": "LayoutView",
       "align_content": null,
       "align_items": null,
       "align_self": null,
       "border_bottom": null,
       "border_left": null,
       "border_right": null,
       "border_top": null,
       "bottom": null,
       "display": null,
       "flex": null,
       "flex_flow": null,
       "grid_area": null,
       "grid_auto_columns": null,
       "grid_auto_flow": null,
       "grid_auto_rows": null,
       "grid_column": null,
       "grid_gap": null,
       "grid_row": null,
       "grid_template_areas": null,
       "grid_template_columns": null,
       "grid_template_rows": null,
       "height": null,
       "justify_content": null,
       "justify_items": null,
       "left": null,
       "margin": null,
       "max_height": null,
       "max_width": null,
       "min_height": null,
       "min_width": null,
       "object_fit": null,
       "object_position": null,
       "order": null,
       "overflow": null,
       "padding": null,
       "right": null,
       "top": null,
       "visibility": null,
       "width": null
      }
     },
     "45cc2d4235a34273ad3cd2ff59c1a3f2": {
      "model_module": "@jupyter-widgets/controls",
      "model_module_version": "2.0.0",
      "model_name": "HTMLStyleModel",
      "state": {
       "_model_module": "@jupyter-widgets/controls",
       "_model_module_version": "2.0.0",
       "_model_name": "HTMLStyleModel",
       "_view_count": null,
       "_view_module": "@jupyter-widgets/base",
       "_view_module_version": "2.0.0",
       "_view_name": "StyleView",
       "background": null,
       "description_width": "",
       "font_size": null,
       "text_color": null
      }
     },
     "6adccc01e3894eb5a2f5dfcd553c02af": {
      "model_module": "@jupyter-widgets/controls",
      "model_module_version": "2.0.0",
      "model_name": "HTMLModel",
      "state": {
       "_dom_classes": [],
       "_model_module": "@jupyter-widgets/controls",
       "_model_module_version": "2.0.0",
       "_model_name": "HTMLModel",
       "_view_count": null,
       "_view_module": "@jupyter-widgets/controls",
       "_view_module_version": "2.0.0",
       "_view_name": "HTMLView",
       "description": "",
       "description_allow_html": false,
       "layout": "IPY_MODEL_c7738ba92c4a42baa59691aa273bdc4c",
       "placeholder": "​",
       "style": "IPY_MODEL_45cc2d4235a34273ad3cd2ff59c1a3f2",
       "tabbable": null,
       "tooltip": null,
       "value": "100%"
      }
     },
     "8938c3e711ec431f8d0414befaf6229b": {
      "model_module": "@jupyter-widgets/base",
      "model_module_version": "2.0.0",
      "model_name": "LayoutModel",
      "state": {
       "_model_module": "@jupyter-widgets/base",
       "_model_module_version": "2.0.0",
       "_model_name": "LayoutModel",
       "_view_count": null,
       "_view_module": "@jupyter-widgets/base",
       "_view_module_version": "2.0.0",
       "_view_name": "LayoutView",
       "align_content": null,
       "align_items": null,
       "align_self": null,
       "border_bottom": null,
       "border_left": null,
       "border_right": null,
       "border_top": null,
       "bottom": null,
       "display": null,
       "flex": null,
       "flex_flow": null,
       "grid_area": null,
       "grid_auto_columns": null,
       "grid_auto_flow": null,
       "grid_auto_rows": null,
       "grid_column": null,
       "grid_gap": null,
       "grid_row": null,
       "grid_template_areas": null,
       "grid_template_columns": null,
       "grid_template_rows": null,
       "height": null,
       "justify_content": null,
       "justify_items": null,
       "left": null,
       "margin": null,
       "max_height": null,
       "max_width": null,
       "min_height": null,
       "min_width": null,
       "object_fit": null,
       "object_position": null,
       "order": null,
       "overflow": null,
       "padding": null,
       "right": null,
       "top": null,
       "visibility": null,
       "width": null
      }
     },
     "92b0e4a3fda24a29a89224b2b8b3154a": {
      "model_module": "@jupyter-widgets/controls",
      "model_module_version": "2.0.0",
      "model_name": "FloatProgressModel",
      "state": {
       "_dom_classes": [],
       "_model_module": "@jupyter-widgets/controls",
       "_model_module_version": "2.0.0",
       "_model_name": "FloatProgressModel",
       "_view_count": null,
       "_view_module": "@jupyter-widgets/controls",
       "_view_module_version": "2.0.0",
       "_view_name": "ProgressView",
       "bar_style": "success",
       "description": "",
       "description_allow_html": false,
       "layout": "IPY_MODEL_8938c3e711ec431f8d0414befaf6229b",
       "max": 27.0,
       "min": 0.0,
       "orientation": "horizontal",
       "style": "IPY_MODEL_14a1dce5a0734cc885d70ee05af0bb9c",
       "tabbable": null,
       "tooltip": null,
       "value": 27.0
      }
     },
     "c7738ba92c4a42baa59691aa273bdc4c": {
      "model_module": "@jupyter-widgets/base",
      "model_module_version": "2.0.0",
      "model_name": "LayoutModel",
      "state": {
       "_model_module": "@jupyter-widgets/base",
       "_model_module_version": "2.0.0",
       "_model_name": "LayoutModel",
       "_view_count": null,
       "_view_module": "@jupyter-widgets/base",
       "_view_module_version": "2.0.0",
       "_view_name": "LayoutView",
       "align_content": null,
       "align_items": null,
       "align_self": null,
       "border_bottom": null,
       "border_left": null,
       "border_right": null,
       "border_top": null,
       "bottom": null,
       "display": null,
       "flex": null,
       "flex_flow": null,
       "grid_area": null,
       "grid_auto_columns": null,
       "grid_auto_flow": null,
       "grid_auto_rows": null,
       "grid_column": null,
       "grid_gap": null,
       "grid_row": null,
       "grid_template_areas": null,
       "grid_template_columns": null,
       "grid_template_rows": null,
       "height": null,
       "justify_content": null,
       "justify_items": null,
       "left": null,
       "margin": null,
       "max_height": null,
       "max_width": null,
       "min_height": null,
       "min_width": null,
       "object_fit": null,
       "object_position": null,
       "order": null,
       "overflow": null,
       "padding": null,
       "right": null,
       "top": null,
       "visibility": null,
       "width": null
      }
     },
     "fd4b101691b94e91b49d02efe36f32d9": {
      "model_module": "@jupyter-widgets/base",
      "model_module_version": "2.0.0",
      "model_name": "LayoutModel",
      "state": {
       "_model_module": "@jupyter-widgets/base",
       "_model_module_version": "2.0.0",
       "_model_name": "LayoutModel",
       "_view_count": null,
       "_view_module": "@jupyter-widgets/base",
       "_view_module_version": "2.0.0",
       "_view_name": "LayoutView",
       "align_content": null,
       "align_items": null,
       "align_self": null,
       "border_bottom": null,
       "border_left": null,
       "border_right": null,
       "border_top": null,
       "bottom": null,
       "display": null,
       "flex": null,
       "flex_flow": null,
       "grid_area": null,
       "grid_auto_columns": null,
       "grid_auto_flow": null,
       "grid_auto_rows": null,
       "grid_column": null,
       "grid_gap": null,
       "grid_row": null,
       "grid_template_areas": null,
       "grid_template_columns": null,
       "grid_template_rows": null,
       "height": null,
       "justify_content": null,
       "justify_items": null,
       "left": null,
       "margin": null,
       "max_height": null,
       "max_width": null,
       "min_height": null,
       "min_width": null,
       "object_fit": null,
       "object_position": null,
       "order": null,
       "overflow": null,
       "padding": null,
       "right": null,
       "top": null,
       "visibility": null,
       "width": null
      }
     }
    },
    "version_major": 2,
    "version_minor": 0
   }
  }
 },
 "nbformat": 4,
 "nbformat_minor": 5
}