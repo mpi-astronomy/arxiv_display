{
 "cells": [
  {
   "cell_type": "markdown",
   "id": "92bcb855",
   "metadata": {
    "papermill": {
     "duration": 0.004881,
     "end_time": "2023-03-13T04:08:35.778191",
     "exception": false,
     "start_time": "2023-03-13T04:08:35.773310",
     "status": "completed"
    },
    "tags": []
   },
   "source": [
    "# MPIA Arxiv on Deck 2\n",
    "\n",
    "Contains the steps to produce the paper extractions."
   ]
  },
  {
   "cell_type": "code",
   "execution_count": 1,
   "id": "3a0d6e11",
   "metadata": {
    "execution": {
     "iopub.execute_input": "2023-03-13T04:08:35.787951Z",
     "iopub.status.busy": "2023-03-13T04:08:35.787123Z",
     "iopub.status.idle": "2023-03-13T04:08:36.057295Z",
     "shell.execute_reply": "2023-03-13T04:08:36.056311Z"
    },
    "papermill": {
     "duration": 0.277667,
     "end_time": "2023-03-13T04:08:36.059902",
     "exception": false,
     "start_time": "2023-03-13T04:08:35.782235",
     "status": "completed"
    },
    "tags": []
   },
   "outputs": [],
   "source": [
    "# Imports\n",
    "import os\n",
    "from IPython.display import Markdown, display\n",
    "from tqdm.notebook import tqdm\n",
    "import warnings\n",
    "from PIL import Image \n",
    "\n",
    "# requires arxiv_on_deck_2\n",
    "\n",
    "from arxiv_on_deck_2.arxiv2 import (get_new_papers, \n",
    "                                    get_paper_from_identifier,\n",
    "                                    retrieve_document_source, \n",
    "                                    get_markdown_badge)\n",
    "from arxiv_on_deck_2 import (latex,\n",
    "                             latex_bib,\n",
    "                             mpia,\n",
    "                             highlight_authors_in_list)\n",
    "\n",
    "# Sometimes images are really big\n",
    "Image.MAX_IMAGE_PIXELS = 1000000000 "
   ]
  },
  {
   "cell_type": "code",
   "execution_count": 2,
   "id": "22aa9d44",
   "metadata": {
    "execution": {
     "iopub.execute_input": "2023-03-13T04:08:36.069691Z",
     "iopub.status.busy": "2023-03-13T04:08:36.069397Z",
     "iopub.status.idle": "2023-03-13T04:08:36.076631Z",
     "shell.execute_reply": "2023-03-13T04:08:36.075486Z"
    },
    "papermill": {
     "duration": 0.013762,
     "end_time": "2023-03-13T04:08:36.078267",
     "exception": false,
     "start_time": "2023-03-13T04:08:36.064505",
     "status": "completed"
    },
    "tags": []
   },
   "outputs": [],
   "source": [
    "# Some useful definitions.\n",
    "\n",
    "class AffiliationWarning(UserWarning):\n",
    "    pass\n",
    "\n",
    "class AffiliationError(RuntimeError):\n",
    "    pass\n",
    "\n",
    "def validation(source: str):\n",
    "    \"\"\"Raises error paper during parsing of source file\n",
    "    \n",
    "    Allows checks before parsing TeX code.\n",
    "    \n",
    "    Raises AffiliationWarning\n",
    "    \"\"\"\n",
    "    check = mpia.affiliation_verifications(source, verbose=True)\n",
    "    if check is not True:\n",
    "        raise AffiliationError(\"mpia.affiliation_verifications: \" + check)\n",
    "\n",
    "        \n",
    "warnings.simplefilter('always', AffiliationWarning)"
   ]
  },
  {
   "cell_type": "code",
   "execution_count": 3,
   "id": "14622700",
   "metadata": {
    "execution": {
     "iopub.execute_input": "2023-03-13T04:08:36.087474Z",
     "iopub.status.busy": "2023-03-13T04:08:36.086985Z",
     "iopub.status.idle": "2023-03-13T04:08:36.091585Z",
     "shell.execute_reply": "2023-03-13T04:08:36.090759Z"
    },
    "papermill": {
     "duration": 0.011794,
     "end_time": "2023-03-13T04:08:36.093847",
     "exception": false,
     "start_time": "2023-03-13T04:08:36.082053",
     "status": "completed"
    },
    "tags": []
   },
   "outputs": [],
   "source": [
    "# additional CSS to consider. \n",
    "# TODO: Current into each exported file. \n",
    "#       This should be set once into the webpages directly.\n",
    "#       With only the class/id definitions in the .md files.\n",
    "\n",
    "debug_html = \"\"\"\n",
    "<style>\n",
    "#wrap{ overflow:auto; }\n",
    "#fig1{ background:yellow; width:100%; float:left; padding:5px;  }\n",
    "#fig2{ background:red; width:50%; float:left; clear:left; padding:5px;  }\n",
    "#fig3{ background:green; width:50%; float:left; padding:5px;   }\n",
    ".macros{ background:yellow; visibility:visible;}\n",
    "h1 {margin: 0 0 0 0;}\n",
    "mark {background-color:#fff3b6;}\n",
    "img {object-fit:contain; max-height:250px; display:inline-block; text-align: center;}\n",
    "</style>\n",
    "\"\"\" \n",
    "html = \"\"\"\n",
    "<style>\n",
    "#wrap{ overflow:auto; }\n",
    "#fig1{ width:100%; float:left; padding: 5px;  }\n",
    "#fig2{ width:50%; float:left; clear:left; padding: 5px;  }\n",
    "#fig3{ width:50%; float:left; padding: 5px;  }\n",
    ".macros{ visibility:hidden; height:0px; }\n",
    "h1 {margin: 0em 0 0 0;}\n",
    "mark {background-color:#fff3b6;}\n",
    "img {object-fit:contain; max-height:250px; display:inline-block; text-align: center;}\n",
    "</style>\n",
    "\"\"\""
   ]
  },
  {
   "cell_type": "markdown",
   "id": "14bd6310",
   "metadata": {
    "papermill": {
     "duration": 0.003664,
     "end_time": "2023-03-13T04:08:36.101025",
     "exception": false,
     "start_time": "2023-03-13T04:08:36.097361",
     "status": "completed"
    },
    "tags": []
   },
   "source": [
    "## get list of arxiv paper candidates\n",
    "\n",
    "We use the MPIA mitarbeiter list webpage from mpia.de to get author names\n",
    "We then get all new papers from Arxiv and match authors"
   ]
  },
  {
   "cell_type": "code",
   "execution_count": 4,
   "id": "2645e73a",
   "metadata": {
    "execution": {
     "iopub.execute_input": "2023-03-13T04:08:36.109479Z",
     "iopub.status.busy": "2023-03-13T04:08:36.109221Z",
     "iopub.status.idle": "2023-03-13T04:09:07.029667Z",
     "shell.execute_reply": "2023-03-13T04:09:07.028777Z"
    },
    "papermill": {
     "duration": 30.931704,
     "end_time": "2023-03-13T04:09:07.036182",
     "exception": false,
     "start_time": "2023-03-13T04:08:36.104478",
     "status": "completed"
    },
    "tags": []
   },
   "outputs": [
    {
     "name": "stdout",
     "output_type": "stream",
     "text": [
      "Arxiv has 53 new papers today\n",
      "          13 with possible author matches\n"
     ]
    }
   ],
   "source": [
    "# get list from MPIA website\n",
    "# it automatically filters identified non-scientists :func:`mpia.filter_non_scientists`\n",
    "mpia_authors = mpia.get_mpia_mitarbeiter_list()\n",
    "new_papers = get_new_papers()\n",
    "# add manual references\n",
    "add_paper_refs = []\n",
    "new_papers.extend([get_paper_from_identifier(k) for k in add_paper_refs])\n",
    "\n",
    "# select only papers with matching author names and highlight authors\n",
    "hl_list = [k[0] for k in mpia_authors]\n",
    "\n",
    "candidates = []\n",
    "for paperk in new_papers:\n",
    "    hl_authors = highlight_authors_in_list(paperk['authors'], hl_list)\n",
    "    matches = [(hl, orig) for hl, orig in zip(hl_authors, paperk['authors']) if 'mark' in hl]\n",
    "    paperk['authors'] = hl_authors\n",
    "    if matches:\n",
    "        candidates.append(paperk)\n",
    "print(\"\"\"Arxiv has {0:,d} new papers today\"\"\".format(len(new_papers)))        \n",
    "print(\"\"\"          {0:,d} with possible author matches\"\"\".format(len(candidates)))"
   ]
  },
  {
   "cell_type": "markdown",
   "id": "3543b34a",
   "metadata": {
    "papermill": {
     "duration": 0.00416,
     "end_time": "2023-03-13T04:09:07.044751",
     "exception": false,
     "start_time": "2023-03-13T04:09:07.040591",
     "status": "completed"
    },
    "tags": []
   },
   "source": [
    "# Parse sources and generate relevant outputs\n",
    "\n",
    "From the candidates, we do the following steps:\n",
    "* get their tarball from ArXiv (and extract data)\n",
    "* find the main .tex file: find one with \\documentclass{...} (sometimes it's non trivial)\n",
    "* Check affiliations with :func:`validation`, which uses :func:`mpia.affiliation_verifications`\n",
    "* If passing the affiliations: we parse the .tex source\n",
    "   * inject sub-documents into the main (flatten the main document)\n",
    "   * parse structure, extract information (title, abstract, authors, figures...)\n",
    "   * handles `\\graphicspath` if provided\n",
    "* Generate the .md document."
   ]
  },
  {
   "cell_type": "code",
   "execution_count": 5,
   "id": "9576b79e",
   "metadata": {
    "execution": {
     "iopub.execute_input": "2023-03-13T04:09:07.055771Z",
     "iopub.status.busy": "2023-03-13T04:09:07.055114Z",
     "iopub.status.idle": "2023-03-13T04:09:47.238672Z",
     "shell.execute_reply": "2023-03-13T04:09:47.237818Z"
    },
    "papermill": {
     "duration": 40.19241,
     "end_time": "2023-03-13T04:09:47.241350",
     "exception": false,
     "start_time": "2023-03-13T04:09:07.048940",
     "status": "completed"
    },
    "scrolled": false,
    "tags": []
   },
   "outputs": [
    {
     "data": {
      "application/vnd.jupyter.widget-view+json": {
       "model_id": "e5df7ac9b4bf4b08b34deb303179102d",
       "version_major": 2,
       "version_minor": 0
      },
      "text/plain": [
       "  0%|          | 0/12 [00:00<?, ?it/s]"
      ]
     },
     "metadata": {},
     "output_type": "display_data"
    },
    {
     "name": "stdout",
     "output_type": "stream",
     "text": [
      "Retrieving document from  https://arxiv.org/e-print/2303.05520\n"
     ]
    },
    {
     "name": "stdout",
     "output_type": "stream",
     "text": [
      "extracting tarball to tmp_2303.05520..."
     ]
    },
    {
     "name": "stdout",
     "output_type": "stream",
     "text": [
      " done.\n"
     ]
    },
    {
     "name": "stderr",
     "output_type": "stream",
     "text": [
      "/opt/hostedtoolcache/Python/3.9.16/x64/lib/python3.9/site-packages/IPython/core/interactiveshell.py:3460: LatexWarning: Multiple tex files.\n",
      "\n",
      "  exec(code_obj, self.user_global_ns, self.user_ns)\n",
      "/opt/hostedtoolcache/Python/3.9.16/x64/lib/python3.9/site-packages/IPython/core/interactiveshell.py:3460: LatexWarning: Found documentclass in tmp_2303.05520/h4evo.tex\n",
      "\n",
      "  exec(code_obj, self.user_global_ns, self.user_ns)\n",
      "/opt/hostedtoolcache/Python/3.9.16/x64/lib/python3.9/site-packages/arxiv_on_deck_2/latex.py:361: LatexWarning: Latex injecting: 'app_snr' from 'tmp_2303.05520/app_snr.tex'\n",
      "  warnings.warn(LatexWarning(f\"Latex injecting: '{ext}' from '{subsource}'\"))\n"
     ]
    },
    {
     "name": "stderr",
     "output_type": "stream",
     "text": [
      "/opt/hostedtoolcache/Python/3.9.16/x64/lib/python3.9/site-packages/arxiv_on_deck_2/latex.py:120: LatexWarning: attempting recovering figure f.das.h4bias.c\n",
      "  warnings.warn(LatexWarning(f'attempting recovering figure {image}'))\n",
      "/tmp/ipykernel_2029/4289671964.py:41: LatexWarning: 2303.05520 did not run properly\n",
      "Could not find figure f.das.h4bias.c\n",
      "  warnings.warn(latex.LatexWarning(f\"{paper_id:s} did not run properly\\n\" +\n"
     ]
    },
    {
     "name": "stdout",
     "output_type": "stream",
     "text": [
      "Retrieving document from  https://arxiv.org/e-print/2303.05527\n"
     ]
    },
    {
     "name": "stdout",
     "output_type": "stream",
     "text": [
      "extracting tarball to tmp_2303.05527..."
     ]
    },
    {
     "name": "stdout",
     "output_type": "stream",
     "text": [
      " done.\n",
      "Retrieving document from  https://arxiv.org/e-print/2303.05548\n"
     ]
    },
    {
     "name": "stderr",
     "output_type": "stream",
     "text": [
      "/tmp/ipykernel_2029/4289671964.py:41: LatexWarning: 2303.05548 did not run properly\n",
      "not a gzip file\n",
      "  warnings.warn(latex.LatexWarning(f\"{paper_id:s} did not run properly\\n\" +\n"
     ]
    },
    {
     "name": "stdout",
     "output_type": "stream",
     "text": [
      "Retrieving document from  https://arxiv.org/e-print/2303.05559\n"
     ]
    },
    {
     "name": "stdout",
     "output_type": "stream",
     "text": [
      "extracting tarball to tmp_2303.05559..."
     ]
    },
    {
     "name": "stdout",
     "output_type": "stream",
     "text": [
      " done.\n",
      "Retrieving document from  https://arxiv.org/e-print/2303.05567\n"
     ]
    },
    {
     "name": "stdout",
     "output_type": "stream",
     "text": [
      "extracting tarball to tmp_2303.05567..."
     ]
    },
    {
     "name": "stdout",
     "output_type": "stream",
     "text": [
      " done.\n",
      "Retrieving document from  https://arxiv.org/e-print/2303.05630\n"
     ]
    },
    {
     "name": "stderr",
     "output_type": "stream",
     "text": [
      "/opt/hostedtoolcache/Python/3.9.16/x64/lib/python3.9/site-packages/IPython/core/interactiveshell.py:3460: LatexWarning: Multiple tex files.\n",
      "\n",
      "  exec(code_obj, self.user_global_ns, self.user_ns)\n",
      "/opt/hostedtoolcache/Python/3.9.16/x64/lib/python3.9/site-packages/IPython/core/interactiveshell.py:3460: LatexWarning: Found documentclass in tmp_2303.05567/ms.tex\n",
      "\n",
      "  exec(code_obj, self.user_global_ns, self.user_ns)\n",
      "/opt/hostedtoolcache/Python/3.9.16/x64/lib/python3.9/site-packages/arxiv_on_deck_2/latex.py:361: LatexWarning: Latex injecting: 'mnras_jdf' from 'tmp_2303.05567/mnras_jdf.tex'\n",
      "  warnings.warn(LatexWarning(f\"Latex injecting: '{ext}' from '{subsource}'\"))\n"
     ]
    },
    {
     "name": "stdout",
     "output_type": "stream",
     "text": [
      "extracting tarball to tmp_2303.05630..."
     ]
    },
    {
     "name": "stdout",
     "output_type": "stream",
     "text": [
      " done.\n",
      "Retrieving document from  https://arxiv.org/e-print/2303.05635\n"
     ]
    },
    {
     "name": "stdout",
     "output_type": "stream",
     "text": [
      "extracting tarball to tmp_2303.05635..."
     ]
    },
    {
     "name": "stdout",
     "output_type": "stream",
     "text": [
      " done.\n"
     ]
    },
    {
     "name": "stdout",
     "output_type": "stream",
     "text": [
      "Found 98 bibliographic references in tmp_2303.05635/paper.bbl.\n",
      "Retrieving document from  https://arxiv.org/e-print/2303.05645\n"
     ]
    },
    {
     "name": "stderr",
     "output_type": "stream",
     "text": [
      "/tmp/ipykernel_2029/4289671964.py:41: LatexWarning: 2303.05645 did not run properly\n",
      "not a gzip file\n",
      "  warnings.warn(latex.LatexWarning(f\"{paper_id:s} did not run properly\\n\" +\n"
     ]
    },
    {
     "name": "stdout",
     "output_type": "stream",
     "text": [
      "Retrieving document from  https://arxiv.org/e-print/2303.05684\n"
     ]
    },
    {
     "name": "stdout",
     "output_type": "stream",
     "text": [
      "extracting tarball to tmp_2303.05684..."
     ]
    },
    {
     "name": "stdout",
     "output_type": "stream",
     "text": [
      " done.\n",
      "Retrieving document from  https://arxiv.org/e-print/2303.05705\n"
     ]
    },
    {
     "name": "stdout",
     "output_type": "stream",
     "text": [
      "extracting tarball to tmp_2303.05705..."
     ]
    },
    {
     "name": "stdout",
     "output_type": "stream",
     "text": [
      " done.\n",
      "Retrieving document from  https://arxiv.org/e-print/2303.05717\n"
     ]
    },
    {
     "name": "stdout",
     "output_type": "stream",
     "text": [
      "extracting tarball to tmp_2303.05717..."
     ]
    },
    {
     "name": "stdout",
     "output_type": "stream",
     "text": [
      " done.\n",
      "Retrieving document from  https://arxiv.org/e-print/2303.05741\n"
     ]
    },
    {
     "name": "stdout",
     "output_type": "stream",
     "text": [
      "extracting tarball to tmp_2303.05741... done.\n"
     ]
    }
   ],
   "source": [
    "documents = []\n",
    "failed = []\n",
    "for paper in tqdm(candidates[:-1]):\n",
    "    paper_id = paper['identifier'].lower().replace('arxiv:', '')\n",
    "    \n",
    "    folder = f'tmp_{paper_id}'\n",
    "\n",
    "    try:\n",
    "        if not os.path.isdir(folder):\n",
    "            folder = retrieve_document_source(f\"{paper_id}\", f'tmp_{paper_id}')\n",
    "        \n",
    "        try:\n",
    "            doc = latex.LatexDocument(folder, validation=validation)    \n",
    "        except AffiliationError as affilerror:\n",
    "            msg = f\"ArXiv:{paper_id:s} is not an MPIA paper... \" + str(affilerror)\n",
    "            failed.append((paper, \"affiliation error: \" + str(affilerror) ))\n",
    "            continue\n",
    "        \n",
    "        # Hack because sometimes author parsing does not work well\n",
    "        if (len(doc.authors) != len(paper['authors'])):\n",
    "            doc._authors = paper['authors']\n",
    "        if (doc.abstract) in (None, ''):\n",
    "            doc._abstract = paper['abstract']\n",
    "            \n",
    "        doc.comment = (get_markdown_badge(paper_id) + \n",
    "                       \"<mark>Appeared on: \" + paper['date'] + \"</mark> - \" +\n",
    "                       \"_\" + paper['comments'] + \"_\")\n",
    "        doc.highlight_authors_in_list(hl_list)\n",
    "\n",
    "        full_md = doc.generate_markdown_text()\n",
    "        \n",
    "        # replace citations\n",
    "        try:\n",
    "            bibdata = latex_bib.LatexBib.from_doc(doc)\n",
    "            full_md = latex_bib.replace_citations(full_md, bibdata)\n",
    "        except Exception as e:\n",
    "            print(e)\n",
    "        \n",
    "        documents.append((paper_id, full_md))\n",
    "    except Exception as e:\n",
    "        warnings.warn(latex.LatexWarning(f\"{paper_id:s} did not run properly\\n\" +\n",
    "                                         str(e)\n",
    "                                        ))\n",
    "        failed.append((paper, \"latex error \" + str(e)))"
   ]
  },
  {
   "cell_type": "markdown",
   "id": "2505a25c",
   "metadata": {
    "papermill": {
     "duration": 0.005687,
     "end_time": "2023-03-13T04:09:47.253587",
     "exception": false,
     "start_time": "2023-03-13T04:09:47.247900",
     "status": "completed"
    },
    "tags": []
   },
   "source": [
    "### Export the logs\n",
    "\n",
    "Throughout, we also keep track of the logs per paper. see `logs-{today date}.md` "
   ]
  },
  {
   "cell_type": "code",
   "execution_count": 6,
   "id": "d733828a",
   "metadata": {
    "execution": {
     "iopub.execute_input": "2023-03-13T04:09:47.268216Z",
     "iopub.status.busy": "2023-03-13T04:09:47.267527Z",
     "iopub.status.idle": "2023-03-13T04:09:47.299546Z",
     "shell.execute_reply": "2023-03-13T04:09:47.298707Z"
    },
    "papermill": {
     "duration": 0.040824,
     "end_time": "2023-03-13T04:09:47.301452",
     "exception": false,
     "start_time": "2023-03-13T04:09:47.260628",
     "status": "completed"
    },
    "scrolled": false,
    "tags": []
   },
   "outputs": [
    {
     "data": {
      "text/markdown": [
       "## Successful papers"
      ],
      "text/plain": [
       "<IPython.core.display.Markdown object>"
      ]
     },
     "metadata": {},
     "output_type": "display_data"
    },
    {
     "data": {
      "text/markdown": [
       "\n",
       "|||\n",
       "|---:|:---|\n",
       "| [![arXiv](https://img.shields.io/badge/arXiv-arXiv:2303.05635-b31b1b.svg)](https://arxiv.org/abs/arXiv:2303.05635) | **Assessing the spin-orbit obliquity of low-mass planets in the breaking  the chain formation model: A story of misalignment**  |\n",
       "|| Leandro Esteves, et al. -- incl., <mark>Bertram Bitsch</mark> |\n",
       "|*Appeared on*| *2023-03-13*|\n",
       "|*Comments*| *11 pages, 9 figures, 2 tables. Accepted for publication in MNRAS*|\n",
       "|**Abstract**| The spin-orbit obliquity of a planetary system constraints its formation history. A large obliquity may either indicate a primordial misalignment between the star and its gaseous disk or reflect the effect of different mechanisms tilting planetary systems after formation. Observations and statistical analysis suggest that system of planets with sizes between 1 and 4 R$_{\\oplus}$ have a wide range of obliquities ($\\sim0-30^{\\circ}$), and that single- and multi-planet transiting have statistically indistinguishable obliquity distributions. Here, we revisit the ``breaking the chains'' formation model with focus in understanding the origin of spin-orbit obliquities. This model suggests that super-Earths and mini-Neptunes migrate close to their host stars via planet-disk gravitational interactions, forming chain of planets locked in mean-motion resonances. After gas-disk dispersal, about 90-99\\% of these planetary systems experience dynamical instabilities, which spread the systems out. Using synthetic transit observations, we show that if planets are born in disks where the disk angular momentum is virtually aligned with the star's rotation spin, their final obliquity distributions peak at about $\\sim$5 degrees or less, and the obliquity distributions of single and multi-planet transiting systems are statistically distinct. By treating the star-disk alignment as a free-parameter, we show that the obliquity distributions of single and multi-planet transiting systems only become statistically indistinguishable if planets are assumed to form in primordially misaligned natal disks with a ``tilt'' distribution peaking at $\\gtrsim$10-20 deg. We discuss the origin of these misalignments in the context of star formation and potential implications of this scenario for formation models. |"
      ],
      "text/plain": [
       "[arXiv:2303.05635] Assessing the spin-orbit obliquity of low-mass planets in the breaking  the chain formation model: A story of misalignment\n",
       "\tLeandro Esteves, et al. -- incl., <mark>Bertram Bitsch</mark>"
      ]
     },
     "metadata": {},
     "output_type": "display_data"
    },
    {
     "data": {
      "text/markdown": [
       "## Failed papers"
      ],
      "text/plain": [
       "<IPython.core.display.Markdown object>"
      ]
     },
     "metadata": {},
     "output_type": "display_data"
    },
    {
     "data": {
      "text/markdown": [
       "\n",
       "|||\n",
       "|---:|:---|\n",
       "| [![arXiv](https://img.shields.io/badge/arXiv-arXiv:2303.05527-b31b1b.svg)](https://arxiv.org/abs/arXiv:2303.05527) | **The dark side of FIRE: predicting the population of dark matter  subhaloes around Milky Way-mass galaxies**  |\n",
       "|| Megan Barry, et al. -- incl., <mark>Robyn Sanderson</mark> |\n",
       "|*Appeared on*| *2023-03-13*|\n",
       "|*Comments*| *13 pages, submitted to MNRAS*|\n",
       "|**Abstract**| A variety of observational campaigns seek to test dark-matter models by measuring dark-matter subhaloes at low masses. Despite their predicted lack of stars, these subhaloes may be detectable through gravitational lensing or via their gravitational perturbations on stellar streams. To set measurable expectations for subhalo populations within LambdaCDM, we examine 11 Milky Way (MW)-mass haloes from the FIRE-2 baryonic simulations, quantifying the counts and orbital fluxes for subhaloes with properties relevant to stellar stream interactions: masses down to 10^6 Msun, distances < 50 kpc of the galactic center, across z = 0 - 1 (lookback time 0 - 8 Gyr). We provide fits to our results and their dependence on subhalo mass, distance, and lookback time, for use in (semi)analytic models. A typical MW-mass halo contains ~16 subhaloes >10^7 Msun (~1 subhalo >10^8 Msun) within 50 kpc at z = 0. We compare our results with dark-matter-only versions of the same simulations: because they lack a central galaxy potential, they overpredict subhalo counts by 2-10x, more so at smaller distances. Subhalo counts around a given MW-mass galaxy declined over time, being ~10x higher at z = 1 than at z = 0. Subhaloes have nearly isotropic orbital velocity distributions at z = 0. Across our simulations, we also identified 4 analogs of Large Magellanic Cloud satellite passages; these analogs enhance subhalo counts by 1.4-2.7 times, significantly increasing the expected subhalo population around the MW today. Our results imply an interaction rate of ~5 per Gyr for a stream like GD-1, sufficient to make subhalo-stream interactions a promising method of measuring dark subhaloes. |\n",
       "|<p style=\"color:green\"> **ERROR** </p>| <p style=\"color:green\">affiliation error: mpia.affiliation_verifications: 'Heidelberg' keyword not found.</p> |"
      ],
      "text/plain": [
       "<IPython.core.display.Markdown object>"
      ]
     },
     "metadata": {},
     "output_type": "display_data"
    },
    {
     "data": {
      "text/markdown": [
       "\n",
       "|||\n",
       "|---:|:---|\n",
       "| [![arXiv](https://img.shields.io/badge/arXiv-arXiv:2303.05559-b31b1b.svg)](https://arxiv.org/abs/arXiv:2303.05559) | **Improved companion mass limits for Sirius A with thermal infrared  coronagraphy using a vector-apodizing phase plate and time-domain  starlight-subtraction techniques**  |\n",
       "|| <mark>Joseph D. Long</mark>, et al. |\n",
       "|*Appeared on*| *2023-03-13*|\n",
       "|*Comments*| *19 pages, 22 figures, accepted to AJ*|\n",
       "|**Abstract**| We use observations with the infrared-optimized MagAO system and Clio camera in 3.9 $\\mu$m light to place stringent mass constraints on possible undetected companions to Sirius A. We suppress the light from Sirius A by imaging it through a grating vector-apodizing phase plate coronagraph with 180-degree dark region (gvAPP-180). To remove residual starlight in post-processing, we apply a time-domain principal-components-analysis-based algorithm we call PCA-Temporal (PCAT), which uses eigen-time-series rather than eigen-images to subtract starlight. By casting the problem in terms of eigen-time-series, we reduce the computational cost of post-processing the data, enabling the use of the fully sampled dataset for improved contrast at small separations. We also discuss the impact of retaining fine temporal sampling of the data on final contrast limits. We achieve post-processed contrast limits of $1.5 \\times 10^{-6}$ to $9.8 \\times 10^{-6}$ outside of 0.75 arcsec which correspond to planet masses of 2.6 to 8.0 $M_J$. These are combined with values from the recent literature of high-contrast imaging observations of Sirius to synthesize an overall completeness fraction as a function of mass and separation. After synthesizing these recent studies and our results, the final completeness analysis rules out 99% of $\\ge 9 \\ M_J$ planets from 2.5-7 AU. |\n",
       "|<p style=\"color:green\"> **ERROR** </p>| <p style=\"color:green\">affiliation error: mpia.affiliation_verifications: 'Heidelberg' keyword not found.</p> |"
      ],
      "text/plain": [
       "<IPython.core.display.Markdown object>"
      ]
     },
     "metadata": {},
     "output_type": "display_data"
    },
    {
     "data": {
      "text/markdown": [
       "\n",
       "|||\n",
       "|---:|:---|\n",
       "| [![arXiv](https://img.shields.io/badge/arXiv-arXiv:2303.05567-b31b1b.svg)](https://arxiv.org/abs/arXiv:2303.05567) | **General relativistic precession and the long-term stability of the solar  system**  |\n",
       "|| <mark>Garett Brown</mark>, Hanno Rein |\n",
       "|*Appeared on*| *2023-03-13*|\n",
       "|*Comments*| *8 pages, 4 figures, accepted for publication in MNRAS*|\n",
       "|**Abstract**| The long-term evolution of the solar system is chaotic. In some cases, chaotic diffusion caused by an overlap of secular resonances can increase the eccentricity of planets when they enter into a linear secular resonance, driving the system to instability. Previous work has shown that including general relativistic contributions to the planets' precession frequency is crucial when modelling the solar system. It reduces the probability that the solar system destabilizes within 5 Gyr by a factor of 60. We run 1280 additional N-body simulations of the solar system spanning 12.5 Gyr where we allow the GR precession rate to vary with time. We develop a simple, unified, Fokker-Planck advection-diffusion model that can reproduce the instability time of Mercury with, without, and with time-varying GR precession. We show that while ignoring GR precession does move Mercury's precession frequency closer to a resonance with Jupiter, this alone does not explain the increased instability rate. It is necessary that there is also a significant increase in the rate of diffusion. We find that the system responds smoothly to a change in the precession frequency: There is no critical GR precession frequency below which the solar system becomes significantly more unstable. Our results show that the long-term evolution of the solar system is well described with an advection-diffusion model. |\n",
       "|<p style=\"color:green\"> **ERROR** </p>| <p style=\"color:green\">affiliation error: mpia.affiliation_verifications: 'Heidelberg' keyword not found.</p> |"
      ],
      "text/plain": [
       "<IPython.core.display.Markdown object>"
      ]
     },
     "metadata": {},
     "output_type": "display_data"
    },
    {
     "data": {
      "text/markdown": [
       "\n",
       "|||\n",
       "|---:|:---|\n",
       "| [![arXiv](https://img.shields.io/badge/arXiv-arXiv:2303.05630-b31b1b.svg)](https://arxiv.org/abs/arXiv:2303.05630) | **The Detection of Hot Molecular Cores in the Small Magellanic Cloud**  |\n",
       "|| Takashi Shimonishi, Kei E. I. Tanaka, <mark>Yichen Zhang</mark>, Kenji Furuya |\n",
       "|*Appeared on*| *2023-03-13*|\n",
       "|*Comments*| *Accepted for publication in ApJL, 17 pages, 8 figures, 4 tables. arXiv admin note: text overlap with arXiv:2109.11123*|\n",
       "|**Abstract**| We report the first detection of hot molecular cores in the Small Magellanic Cloud, a nearby dwarf galaxy with 0.2 solar metallicity. We observed two high-mass young stellar objects in the SMC with ALMA, and detected emission lines of CO, HCO+, H13CO+, SiO, H2CO, CH3OH, SO, and SO2. Compact hot-core regions are traced by SO2, whose spatial extent is about 0.1 pc, and the gas temperature is higher than 100 K based on the rotation diagram analysis. In contrast, CH3OH, a classical hot-core tracer, is dominated by extended (0.2-0.3 pc) components in both sources, and the gas temperature is estimated to be 39+-8 K for one source. Protostellar outflows are also detected from both sources as high-velocity components of CO. The metallicity-scaled abundances of SO2 in hot cores are comparable among the SMC, LMC, and Galactic sources, suggesting that the chemical reactions leading to SO2 formation would be regulated by elemental abundances. On the other hand, CH3OH shows a large abundance variation within SMC and LMC hot cores. The diversity in the initial condition of star formation (e.g., degree of shielding, local radiation field strength) may lead to the large abundance variation of organic molecules in hot cores. This work, in conjunction with previous hot-core studies in the LMC and outer/inner Galaxy, suggests that the formation of a hot core would be a common phenomenon during high-mass star formation across the metallicity range of 0.2-1 solar metallicity. High-excitation SO2 lines will be a useful hot-core tracer in the low-metallicity environments of the SMC and LMC. |\n",
       "|<p style=\"color:green\"> **ERROR** </p>| <p style=\"color:green\">affiliation error: mpia.affiliation_verifications: 'Heidelberg' keyword not found.</p> |"
      ],
      "text/plain": [
       "<IPython.core.display.Markdown object>"
      ]
     },
     "metadata": {},
     "output_type": "display_data"
    },
    {
     "data": {
      "text/markdown": [
       "\n",
       "|||\n",
       "|---:|:---|\n",
       "| [![arXiv](https://img.shields.io/badge/arXiv-arXiv:2303.05684-b31b1b.svg)](https://arxiv.org/abs/arXiv:2303.05684) | **Oscillations of Highly Magnetized Non-rotating Neutron Stars**  |\n",
       "|| Man Yin Leung, Anson Ka Long Yip, Patrick Chi-Kit Cheong, <mark>Tjonnie Guang Feng Li</mark> |\n",
       "|*Appeared on*| *2023-03-13*|\n",
       "|*Comments*| **|\n",
       "|**Abstract**| Highly magnetized neutron stars are promising candidates to explain some of the most peculiar astronomical phenomena, for instance, fast radio bursts, gamma-ray bursts, and superluminous supernovae. Pulsations of these highly magnetized neutron stars are also speculated to produce detectable gravitational waves. In addition, pulsations are important probes of the structure and equation of state of the neutron stars. The major challenge in studying the pulsations of highly magnetized neutron stars is the demanding numerical cost of consistently solving the nonlinear Einstein and Maxwell equations under minimum assumptions. With the recent breakthroughs in numerical solvers, we investigate pulsation modes of non-rotating neutron stars which harbour strong purely toroidal magnetic fields of $10^{15-17}$ G through two-dimensional axisymmetric general-relativistic magnetohydrodynamics simulations. We show that stellar oscillations are insensitive to magnetization effects until the magnetic to binding energy ratio goes beyond 10%, where the pulsation mode frequencies are strongly suppressed. We further show that this is the direct consequence of the decrease in stellar compactness when the extreme magnetic fields introduce strong deformations of the neutron stars. |\n",
       "|<p style=\"color:green\"> **ERROR** </p>| <p style=\"color:green\">affiliation error: mpia.affiliation_verifications: 'Heidelberg' keyword not found.</p> |"
      ],
      "text/plain": [
       "<IPython.core.display.Markdown object>"
      ]
     },
     "metadata": {},
     "output_type": "display_data"
    },
    {
     "data": {
      "text/markdown": [
       "\n",
       "|||\n",
       "|---:|:---|\n",
       "| [![arXiv](https://img.shields.io/badge/arXiv-arXiv:2303.05705-b31b1b.svg)](https://arxiv.org/abs/arXiv:2303.05705) | **Forecasts of CMB lensing reconstruction of AliCPT-1 from the foreground  cleaned polarization data**  |\n",
       "|| Jiakang Han, et al. -- incl., <mark>Shamik Ghosh</mark>, <mark>Siyu Li</mark>, <mark>Hong Li</mark>, <mark>Wen Zhao</mark>, <mark>Pengjie Zhang</mark>, <mark>Zheng-Wei Li</mark>, <mark>Yong-jie Zhang</mark>, <mark>Xinmin Zhang</mark> |\n",
       "|*Appeared on*| *2023-03-13*|\n",
       "|*Comments*| *12 pages, 6 figures*|\n",
       "|**Abstract**| Cosmic microwave background radiation (CMB) observations are unavoidably contaminated by emission from various extra-galactic foregrounds, which must be removed to obtain reliable measurements of the cosmological signal. In this paper, we demonstrate CMB lensing reconstruction in AliCPT-1 after foreground removal, combine the two bands of AliCPT-1 (90 and 150~GHz) with Planck HFI bands (100, 143, 217 and 353~GHz) and with the WMAP-K band (23~GHz). In order to balance contamination by instrumental noise and foreground residual bias, we adopt the Needlet Internal Linear Combination (NILC) method to clean the E-map and the constrained Internal Linear Combination (cILC) method to clean the B-map. The latter utilizes additional constraints on average frequency scaling of the dust and synchrotron to remove foregrounds at the expense of somewhat noisier maps. Assuming 4 modules observing 1 season from simulation data, the resulting effective residual noise in E- and B-map are roughly $15~\\mu{\\rm K}\\cdot{\\rm arcmin}$ and $25~\\mu{\\rm K}\\cdot{\\rm arcmin}$, respectively. As a result, the CMB lensing reconstruction signal-to-noise ratio (SNR) from polarization data is about SNR$\\,\\approx\\,$4.5. This lensing reconstruction capability is comparable to that of other stage-III small aperture millimeter CMB telescopes. |\n",
       "|<p style=\"color:green\"> **ERROR** </p>| <p style=\"color:green\">affiliation error: mpia.affiliation_verifications: 'Heidelberg' keyword not found.</p> |"
      ],
      "text/plain": [
       "<IPython.core.display.Markdown object>"
      ]
     },
     "metadata": {},
     "output_type": "display_data"
    },
    {
     "data": {
      "text/markdown": [
       "\n",
       "|||\n",
       "|---:|:---|\n",
       "| [![arXiv](https://img.shields.io/badge/arXiv-arXiv:2303.05717-b31b1b.svg)](https://arxiv.org/abs/arXiv:2303.05717) | **The effective volume of supernovae samples and sample variance**  |\n",
       "|| <mark>Zhongxu Zhai</mark>, Will J. Percival |\n",
       "|*Appeared on*| *2023-03-13*|\n",
       "|*Comments*| *9 pages, 4 figures, comments welcome*|\n",
       "|**Abstract**| The source of the tension between local SN Ia based Hubble constant measurements and those from the CMB or BAO+BBN measurements is one of the most interesting unknowns of modern cosmology. Sample variance forms a key component of the error on the local measurements, and will dominate the error budget in the future as more supernovae are observed. Many methods have been proposed to estimate sample variance in many contexts, and we compared results from a number of them in Zhai \\& Percival (2022), confirming that sample variance for the Pantheon supernovae sample does not solve the Hubble tension. We now extend this analysis to include a method based on analytically calculating correlations between the radial peculiar velocities of supernovae, comparing this technique with results from numerical simulations, which can be considered a non-linear Monte-Carlo solution that works similarly. We consider the dependence of these errors on the linear power spectrum and how non-linear velocities contribute to the error. Using this technique, and matching sample variance errors, we can define an effective volume for supernovae samples, finding that the Pantheon sample is equivalent to a top-hat sphere of radius $\\sim220~h^{-1}$Mpc. We use this link between sample-variance errors to compute $\\Delta H_{0}$ for idealised surveys with particular angular distributions of supernovae. For example, a half-sky survey at the Pantheon depth has the potential to suppress the sample variance of $H_{0}$ to $\\sim0.1$ km s$^{-1}$Mpc$^{-1}$, a significant improvement compared with the current result. Finally, we consider the strength of large-scale velocity power spectrum required to explain the Hubble tension using sample variance, finding it requires an extreme model well beyond that allowed by other observations. |\n",
       "|<p style=\"color:green\"> **ERROR** </p>| <p style=\"color:green\">affiliation error: mpia.affiliation_verifications: 'Heidelberg' keyword not found.</p> |"
      ],
      "text/plain": [
       "<IPython.core.display.Markdown object>"
      ]
     },
     "metadata": {},
     "output_type": "display_data"
    },
    {
     "data": {
      "text/markdown": [
       "\n",
       "|||\n",
       "|---:|:---|\n",
       "| [![arXiv](https://img.shields.io/badge/arXiv-arXiv:2303.05741-b31b1b.svg)](https://arxiv.org/abs/arXiv:2303.05741) | **Gluon Condensation Signature in the GeV Gamma-Ray Spectra of Pulsars**  |\n",
       "|| Ze-Cheng Zou, et al. -- incl., <mark>Cheng-Ming Li</mark>, <mark>He-Rui Zheng</mark> |\n",
       "|*Appeared on*| *2023-03-13*|\n",
       "|*Comments*| *12 pages (9 pages for main text), 5 figures, 1 table, accepted by PRD at this https URL*|\n",
       "|**Abstract**| The accumulation of gluons inside nucleons, i.e., the gluon condensation, may lead to a characteristic broken power-law gamma-ray spectrum in high-energy nucleon collisions. Here we show that the observed spectra of at least 25 sources in the second Fermi Large Area Telescope Catalog of Gamma-ray Pulsars can be well fitted by such a broken power-law function that has only four free parameters. It strongly indicates that the gamma-ray emission from these pulsars is of hadronic origin, but with gluon condensation inside hadrons. It is well known that the quark-gluon distribution in a free nucleon is different from that in a bound nucleon. This work exposes the nuclear $A$-dependence of the gluon condensation effect, where $A$ refers to the baryon number. Our study reveals the gluon condensation under the condition of $A\\to\\infty$, which may open a new window for eavesdropping on the structure of compact stars on the sub-nuclear level. |\n",
       "|<p style=\"color:green\"> **ERROR** </p>| <p style=\"color:green\">affiliation error: mpia.affiliation_verifications: 'Heidelberg' keyword not found.</p> |"
      ],
      "text/plain": [
       "<IPython.core.display.Markdown object>"
      ]
     },
     "metadata": {},
     "output_type": "display_data"
    },
    {
     "data": {
      "text/markdown": [
       "\n",
       "|||\n",
       "|---:|:---|\n",
       "| [![arXiv](https://img.shields.io/badge/arXiv-arXiv:2303.05520-b31b1b.svg)](https://arxiv.org/abs/arXiv:2303.05520) | **Evolution in the orbital structure of quiescent galaxies from MAGPI,  LEGA-C and SAMI surveys: direct evidence for merger-driven growth over the  last 7 Gy**  |\n",
       "|| Francesco D'Eugenio, et al. -- incl., <mark>Anna de Graaff</mark> |\n",
       "|*Appeared on*| *2023-03-13*|\n",
       "|*Comments*| *19 pages, 9 figures Accepted for publication in MNRAS*|\n",
       "|**Abstract**| We present the first study of spatially integrated higher-order stellar kinematics over cosmic time. We use deep rest-frame optical spectroscopy of quiescent galaxies at redshifts z=0.05, 0.3 and 0.8 from the SAMI, MAGPI and LEGA-C surveys to measure the excess kurtosis $h_4$ of the stellar velocity distribution, the latter parametrised as a Gauss-Hermite series. Conservatively using a redshift-independent cut in stellar mass ($M_\\star = 10^{11}\\,{\\rm M}_\\odot$), and matching the stellar-mass distributions of our samples, we find 7 $\\sigma$ evidence of $h_4$ increasing with cosmic time, from a median value of 0.019$\\pm$0.002 at z=0.8 to 0.059$\\pm$0.004 at z=0.06. Alternatively, we use a physically motivated sample selection, based on the mass distribution of the progenitors of local quiescent galaxies as inferred from numerical simulations; in this case, we find 10 $\\sigma$ evidence. This evolution suggests that, over the last 7 Gyr, there has been a gradual decrease in the rotation-to-dispersion ratio and an increase in the radial anisotropy of the stellar velocity distribution, qualitatively consistent with accretion of gas-poor satellites. These findings demonstrate that massive galaxies continue to accrete mass and increase their dispersion support after becoming quiescent. |\n",
       "|<p style=\"color:red\"> **ERROR** </p>| <p style=\"color:red\">latex error Could not find figure f.das.h4bias.c</p> |"
      ],
      "text/plain": [
       "<IPython.core.display.Markdown object>"
      ]
     },
     "metadata": {},
     "output_type": "display_data"
    },
    {
     "data": {
      "text/markdown": [
       "\n",
       "|||\n",
       "|---:|:---|\n",
       "| [![arXiv](https://img.shields.io/badge/arXiv-arXiv:2303.05548-b31b1b.svg)](https://arxiv.org/abs/arXiv:2303.05548) | **Light Curves and Colors of the Ejecta from Dimorphos after the DART  Impact**  |\n",
       "|| Ariel Graykowski, et al. -- incl., <mark>Barton A. Smith</mark> |\n",
       "|*Appeared on*| *2023-03-13*|\n",
       "|*Comments*| *Accepted by Nature*|\n",
       "|**Abstract**| On 26 September 2022 the Double Asteroid Redirection Test (DART) spacecraft impacted Dimorphos, a satellite of the asteroid 65803 Didymos. Because it is a binary system, it is possible to determine how much the orbit of the satellite changed, as part of a test of what is necessary to deflect an asteroid that might threaten Earth with an impact. In nominal cases, pre-impact predictions of the orbital period reduction ranged from ~8.8 - 17.2 minutes. Here we report optical observations of Dimorphos before, during and after the impact, from a network of citizen science telescopes across the world. We find a maximum brightening of 2.29 $\\pm$ 0.14 mag upon impact. Didymos fades back to its pre-impact brightness over the course of 23.7 $\\pm$ 0.7 days. We estimate lower limits on the mass contained in the ejecta, which was 0.3 - 0.5% Dimorphos' mass depending on the dust size. We also observe a reddening of the ejecta upon impact. |\n",
       "|<p style=\"color:red\"> **ERROR** </p>| <p style=\"color:red\">latex error not a gzip file</p> |"
      ],
      "text/plain": [
       "<IPython.core.display.Markdown object>"
      ]
     },
     "metadata": {},
     "output_type": "display_data"
    },
    {
     "data": {
      "text/markdown": [
       "\n",
       "|||\n",
       "|---:|:---|\n",
       "| [![arXiv](https://img.shields.io/badge/arXiv-arXiv:2303.05645-b31b1b.svg)](https://arxiv.org/abs/arXiv:2303.05645) | **Classifying Protoplanetary disks Infrared Spectrum and Analysis by  c-C$_3$H$_2$ C$_5$H$_5$ C$_9$H$_7$ C$_{12}$H$_8$ C$_{23}$H$_{12}$ and  C$_{53}$H$_{18}$ to be Capable Template for Biological Molecule**  |\n",
       "|| Norio Ota, <mark>Aigen Li</mark> |\n",
       "|*Appeared on*| *2023-03-13*|\n",
       "|*Comments*| *10 pages, 20 figures, 1 table, 27 references*|\n",
       "|**Abstract**| Protoplanetary disk around a just born young star contains a lot of cosmic dust. especially polycyclic-aromatic-hydrocarbon (PAH), which would become basic component to create biological organics. This study classified many astronomically observed infrared spectra of protoplanetary disks to three typical spectra. Type-A show well known astronomical bands of 6.2, 7.8, 8.6 and 11.3 micrometer. Whereas Type-B included unknown complex bands. Type-(A+B) was their mixed type. We tried to find specific molecule by Density Functional Theory (DFT) calculation. We found that Type-A could be explained by large PAH molecules of (C$_{23}$H$_{12}$) and (C$_{53}$H$_{18}$), which are hexagon-pentagon combined molecular structure. Background molecule of Type-B was smaller ones of (c-C$_3$H$_2$), (C$_5$H$_5$), (C$_9$H$_7$) and (C$_{12}$H$_8$). Type-(A+B) was reproduced well by mixing those molecules of A and B. Astronomical detailed observation shows that central star of Type-A has larger mass and higher temperature than that of Type-B. This suggests that at very early stage of our solar system, our protoplanetary disk had been made up by Type-B molecules. It was interesting that (C$_5$H$_5$) and (C$_9$H$_7$) of Type-B molecules has similar molecular structure with biological nucleic-acid on our earth. Type-B molecules was supposed to become the template for synthesizing biological organics and finally for creating our life. |\n",
       "|<p style=\"color:red\"> **ERROR** </p>| <p style=\"color:red\">latex error not a gzip file</p> |"
      ],
      "text/plain": [
       "<IPython.core.display.Markdown object>"
      ]
     },
     "metadata": {},
     "output_type": "display_data"
    }
   ],
   "source": [
    "import datetime\n",
    "today = str(datetime.date.today())\n",
    "logfile = f\"_build/html/logs/log-{today}.md\"\n",
    "\n",
    "\n",
    "with open(logfile, 'w') as logs:\n",
    "    # Success\n",
    "    logs.write(f'# Arxiv on Deck 2: Logs - {today}\\n\\n')\n",
    "    logs.write(\"\"\"* Arxiv had {0:,d} new papers\\n\"\"\".format(len(new_papers)))\n",
    "    logs.write(\"\"\"    * {0:,d} with possible author matches\\n\\n\"\"\".format(len(candidates)))\n",
    "    logs.write(\"## Sucessful papers\\n\\n\")\n",
    "    display(Markdown(\"## Successful papers\"))\n",
    "    success = [k[0] for k in documents]\n",
    "    for candid in candidates:\n",
    "        if candid['identifier'].split(':')[-1] in success:\n",
    "            display(candid)\n",
    "            logs.write(candid.generate_markdown_text() + '\\n\\n')\n",
    "\n",
    "    ## failed\n",
    "    logs.write(\"## Failed papers\\n\\n\")\n",
    "    display(Markdown(\"## Failed papers\"))\n",
    "    failed = sorted(failed, key=lambda x: x[1])\n",
    "    current_reason = \"\"\n",
    "    for paper, reason in failed:\n",
    "        if 'affiliation' in reason:\n",
    "            color = 'green'\n",
    "        else:\n",
    "            color = 'red'\n",
    "        data = Markdown(\n",
    "                paper.generate_markdown_text() + \n",
    "                f'\\n|<p style=\"color:{color:s}\"> **ERROR** </p>| <p style=\"color:{color:s}\">{reason:s}</p> |'\n",
    "               )\n",
    "        if reason != current_reason:\n",
    "            logs.write(f'### {reason:s} \\n\\n')\n",
    "            current_reason = reason\n",
    "        logs.write(data.data + '\\n\\n')\n",
    "        \n",
    "        # only display here the important errors (all in logs)\n",
    "        # if color in ('red',):\n",
    "        display(data)"
   ]
  },
  {
   "cell_type": "markdown",
   "id": "472d20ee",
   "metadata": {
    "papermill": {
     "duration": 0.007396,
     "end_time": "2023-03-13T04:09:47.316949",
     "exception": false,
     "start_time": "2023-03-13T04:09:47.309553",
     "status": "completed"
    },
    "tags": []
   },
   "source": [
    "## Export documents\n",
    "\n",
    "We now write the .md files and export relevant images"
   ]
  },
  {
   "cell_type": "code",
   "execution_count": 7,
   "id": "d426aed9",
   "metadata": {
    "execution": {
     "iopub.execute_input": "2023-03-13T04:09:47.333379Z",
     "iopub.status.busy": "2023-03-13T04:09:47.332904Z",
     "iopub.status.idle": "2023-03-13T04:09:47.341594Z",
     "shell.execute_reply": "2023-03-13T04:09:47.340744Z"
    },
    "papermill": {
     "duration": 0.018855,
     "end_time": "2023-03-13T04:09:47.343514",
     "exception": false,
     "start_time": "2023-03-13T04:09:47.324659",
     "status": "completed"
    },
    "tags": []
   },
   "outputs": [],
   "source": [
    "def export_markdown_summary(md: str, md_fname:str, directory: str):\n",
    "    \"\"\"Export MD document and associated relevant images\"\"\"\n",
    "    import os\n",
    "    import shutil\n",
    "    import re\n",
    "\n",
    "    if (os.path.exists(directory) and not os.path.isdir(directory)):\n",
    "        raise RuntimeError(f\"a non-directory file exists with name {directory:s}\")\n",
    "\n",
    "    if (not os.path.exists(directory)):\n",
    "        print(f\"creating directory {directory:s}\")\n",
    "        os.mkdir(directory)\n",
    "\n",
    "    fig_fnames = (re.compile(r'\\[Fig.*\\]\\((.*)\\)').findall(md) + \n",
    "                  re.compile(r'\\<img src=\"([^>\\s]*)\"[^>]*/>').findall(md))\n",
    "    for fname in fig_fnames:\n",
    "        if 'http' in fname:\n",
    "            # No need to copy online figures\n",
    "            continue\n",
    "        destdir = os.path.join(directory, os.path.dirname(fname))\n",
    "        destfname = os.path.join(destdir, os.path.basename(fname))\n",
    "        try:\n",
    "            os.makedirs(destdir)\n",
    "        except FileExistsError:\n",
    "            pass\n",
    "        shutil.copy(fname, destfname)\n",
    "    with open(os.path.join(directory, md_fname), 'w') as fout:\n",
    "        fout.write(md)\n",
    "    print(\"exported in \", os.path.join(directory, md_fname))\n",
    "    [print(\"    + \" + os.path.join(directory,fk)) for fk in fig_fnames]"
   ]
  },
  {
   "cell_type": "code",
   "execution_count": 8,
   "id": "014d04a4",
   "metadata": {
    "execution": {
     "iopub.execute_input": "2023-03-13T04:09:47.360238Z",
     "iopub.status.busy": "2023-03-13T04:09:47.359744Z",
     "iopub.status.idle": "2023-03-13T04:09:47.366184Z",
     "shell.execute_reply": "2023-03-13T04:09:47.365275Z"
    },
    "papermill": {
     "duration": 0.017504,
     "end_time": "2023-03-13T04:09:47.368626",
     "exception": false,
     "start_time": "2023-03-13T04:09:47.351122",
     "status": "completed"
    },
    "tags": []
   },
   "outputs": [
    {
     "name": "stdout",
     "output_type": "stream",
     "text": [
      "exported in  _build/html/2303.05635.md\n",
      "    + _build/html/tmp_2303.05635/./figures/spin_orbit_obliquity.png\n",
      "    + _build/html/tmp_2303.05635/./figures/compare_distributions_CDF_model3.png\n",
      "    + _build/html/tmp_2303.05635/./figures/obliquity_dists_model3.png\n"
     ]
    }
   ],
   "source": [
    "for paper_id, md in documents:\n",
    "    export_markdown_summary(md, f\"{paper_id:s}.md\", '_build/html/')"
   ]
  },
  {
   "cell_type": "markdown",
   "id": "f087a0a7",
   "metadata": {
    "papermill": {
     "duration": 0.007119,
     "end_time": "2023-03-13T04:09:47.383209",
     "exception": false,
     "start_time": "2023-03-13T04:09:47.376090",
     "status": "completed"
    },
    "tags": []
   },
   "source": [
    "## Display the papers\n",
    "\n",
    "Not necessary but allows for a quick check."
   ]
  },
  {
   "cell_type": "code",
   "execution_count": 9,
   "id": "fd25f625",
   "metadata": {
    "execution": {
     "iopub.execute_input": "2023-03-13T04:09:47.399064Z",
     "iopub.status.busy": "2023-03-13T04:09:47.398476Z",
     "iopub.status.idle": "2023-03-13T04:09:47.404415Z",
     "shell.execute_reply": "2023-03-13T04:09:47.403592Z"
    },
    "papermill": {
     "duration": 0.015709,
     "end_time": "2023-03-13T04:09:47.406201",
     "exception": false,
     "start_time": "2023-03-13T04:09:47.390492",
     "status": "completed"
    },
    "scrolled": false,
    "tags": []
   },
   "outputs": [
    {
     "data": {
      "text/markdown": [
       "<div class=\"macros\" style=\"visibility:hidden;\">\n",
       "$\\newcommand{\\ensuremath}{}$\n",
       "$\\newcommand{\\xspace}{}$\n",
       "$\\newcommand{\\object}[1]{\\texttt{#1}}$\n",
       "$\\newcommand{\\farcs}{{.}''}$\n",
       "$\\newcommand{\\farcm}{{.}'}$\n",
       "$\\newcommand{\\arcsec}{''}$\n",
       "$\\newcommand{\\arcmin}{'}$\n",
       "$\\newcommand{\\ion}[2]{#1#2}$\n",
       "$\\newcommand{\\textsc}[1]{\\textrm{#1}}$\n",
       "$\\newcommand{\\hl}[1]{\\textrm{#1}}$\n",
       "$\\newcommand{\\footnote}[1]{}$</div>\n",
       "\n",
       "<div class=\"macros\" style=\"visibility:hidden;\">\n",
       "$\\newcommand{\\ensuremath}{}$\n",
       "$\\newcommand{\\xspace}{}$\n",
       "$\\newcommand{\\object}[1]{\\texttt{#1}}$\n",
       "$\\newcommand{\\farcs}{{.}''}$\n",
       "$\\newcommand{\\farcm}{{.}'}$\n",
       "$\\newcommand{\\arcsec}{''}$\n",
       "$\\newcommand{\\arcmin}{'}$\n",
       "$\\newcommand{\\ion}[2]{#1#2}$\n",
       "$\\newcommand{\\textsc}[1]{\\textrm{#1}}$\n",
       "$\\newcommand{\\hl}[1]{\\textrm{#1}}$\n",
       "$\\newcommand{\\footnote}[1]{}$</div>\n",
       "\n",
       "\n",
       "\n",
       "<div id=\"title\">\n",
       "\n",
       "# Assessing the spin-orbit obliquity of low-mass planets in the breaking the chain formation model: A story of misalignment\n",
       "\n",
       "</div>\n",
       "<div id=\"comments\">\n",
       "\n",
       "[![arXiv](https://img.shields.io/badge/arXiv-2303.05635-b31b1b.svg)](https://arxiv.org/abs/2303.05635)<mark>Appeared on: 2023-03-13</mark> - _11 pages, 9 figures, 2 tables. Accepted for publication in MNRAS_\n",
       "\n",
       "</div>\n",
       "<div id=\"authors\">\n",
       "\n",
       "Leandro Esteves, et al. -- incl., <mark><mark>Bertram Bitsch</mark></mark>\n",
       "\n",
       "</div>\n",
       "<div id=\"abstract\">\n",
       "\n",
       "**Abstract:** The spin-orbit obliquity of a planetary system constraints its formation history. A large obliquity may either indicate a primordial misalignment between the star and its gaseous disk or reflect  the effect of different mechanisms tilting  planetary systems after formation. Observations and statistical analysis suggest that system of planets with sizes between 1 and 4 R $_{\\oplus}$ have a wide range of obliquities ( $\\sim0-30^{\\circ}$ ), and that  single- and multi-planet transiting have statistically indistinguishable obliquity distributions. Here, we revisit the \"breaking the chains\" formation model with focus in understanding  the origin of spin-orbit obliquities. This model suggests that super-Earths and mini-Neptunes migrate close to their host stars via planet-disk gravitational interactions, forming chain of planets locked in mean-motion resonances. After gas-disk dispersal, about  90-99 \\% of these planetary systems experience dynamical instabilities, which spread the systems out.  Using synthetic transit observations, we show that if planets are born in disks where the disk angular momentum is virtually aligned with  the star's rotation spin, their final obliquity distributions peak at  about $\\sim$ 5 degrees or less, and the obliquity distributions of single and multi-planet transiting systems are statistically distinct. By treating the star-disk alignment as a free-parameter, we show that the obliquity distributions of single and multi-planet transiting systems only become statistically indistinguishable if planets are assumed to form in primordially misaligned natal disks with a  \"tilt\" distribution peaking at $\\gtrsim$ 10-20 deg. We discuss the origin of these misalignments in the context of star formation and potential implications of this scenario for formation models.\n",
       "\n",
       "</div>\n",
       "\n",
       "<div id=\"div_fig1\">\n",
       "\n",
       "<img src=\"tmp_2303.05635/./figures/spin_orbit_obliquity.png\" alt=\"Fig1\" width=\"100%\"/>\n",
       "\n",
       "**Figure 1. -** **a)** Schematic of star-disk orientations. The star is shown as a yellow sphere at the center of the coordinate system. $\\hat{n}_{\\textrm{*}}$ is the norm  of the star spin vector. $\\theta$ is  the angle  between $\\hat{n}_{\\textrm{*}}$ and the z-axis. $\\Lambda$ is the azimuthal angle defined by the projection of $\\hat{n}_{\\textrm{*}}$ onto the x-y plane and the x-axis. The protoplanetary disk angular momentum is parallel to the z-axis. The gas disk mid-plane is shown in dark-grey.\n",
       "    **b)** Star-planet orientations. The orbital plane of the planet is shown in green, which is this case, for illustration purposes do not coincides with the original disk mid-planet. The planet's angular momentum is represented by the vector $\\hat{n}_{\\textrm{p}}$. The spin-orbit obliquity is given by $\\psi$, which is defined as the angle between $\\hat{n}_{\\textrm{*}}$ and $\\hat{n}_{\\textrm{p}}$, see inset on top left of (b). We show a single planet for simplicity. In the case, of multiple planets, the obliquity is defined using the total orbital angular momentum of all transiting planets. (*fig:obliquity_scheme*)\n",
       "\n",
       "</div>\n",
       "<div id=\"div_fig2\">\n",
       "\n",
       "<img src=\"tmp_2303.05635/./figures/compare_distributions_CDF_model3.png\" alt=\"Fig7\" width=\"100%\"/>\n",
       "\n",
       "**Figure 7. -** **Left panel** Cumulative distributions of obliquity ($\\psi$)  of  simulated planetary systems (with no cold gas giants) and  real observations. Grey lines  show the cumulative distributions of Kepler exoplanets as inferred by  ([Louden, et. al (2021)](https://ui.adsabs.harvard.edu/abs/2021AJ....161...68L)) . In black and in colourful lines, we show the obliquity distributions of our simulated planetary systems for different values of $\\sigma$. ** Right panel:** Cumulative distribution functions of $\\theta$ for different values of $\\sigma$.  (*fig:compare*)\n",
       "\n",
       "</div>\n",
       "<div id=\"div_fig3\">\n",
       "\n",
       "<img src=\"tmp_2303.05635/./figures/obliquity_dists_model3.png\" alt=\"Fig4\" width=\"100%\"/>\n",
       "\n",
       "**Figure 4. -** Cumulative distributions of obliquity ($\\psi$) of simulated planetary systems divided in single and multi-planet transiting systems. Dashed lines show distributions of multi-planet transiting systems. Dotted lines represent single-transit systems. Solid lines contains all systems. Lines are colour-coded as indicated by the parameter $\\sigma$. These simulations do not contain cold gas giants. (*fig:obl_dist*)\n",
       "\n",
       "</div>"
      ],
      "text/plain": [
       "<IPython.core.display.Markdown object>"
      ]
     },
     "metadata": {},
     "output_type": "display_data"
    }
   ],
   "source": [
    "[display(Markdown(k[1])) for k in documents];"
   ]
  },
  {
   "cell_type": "markdown",
   "id": "873873a4",
   "metadata": {
    "papermill": {
     "duration": 0.00777,
     "end_time": "2023-03-13T04:09:47.421796",
     "exception": false,
     "start_time": "2023-03-13T04:09:47.414026",
     "status": "completed"
    },
    "tags": []
   },
   "source": [
    "# Create HTML index"
   ]
  },
  {
   "cell_type": "code",
   "execution_count": 10,
   "id": "cf665672",
   "metadata": {
    "execution": {
     "iopub.execute_input": "2023-03-13T04:09:47.440496Z",
     "iopub.status.busy": "2023-03-13T04:09:47.439846Z",
     "iopub.status.idle": "2023-03-13T04:09:47.452493Z",
     "shell.execute_reply": "2023-03-13T04:09:47.451547Z"
    },
    "papermill": {
     "duration": 0.023838,
     "end_time": "2023-03-13T04:09:47.454202",
     "exception": false,
     "start_time": "2023-03-13T04:09:47.430364",
     "status": "completed"
    },
    "tags": []
   },
   "outputs": [
    {
     "name": "stdout",
     "output_type": "stream",
     "text": [
      "195  publications in the last 7 days.\n",
      "\t _build/html/2303.05635.md\n",
      "\t _build/html/2303.04727.md\n",
      "\t _build/html/2303.04067.md\n",
      "\t _build/html/2303.03420.md\n",
      "\t _build/html/2303.02816.md\n",
      "\t _build/html/2303.01528.md\n",
      "\t _build/html/2303.00044.md\n",
      "\t _build/html/2303.00012.md\n",
      "\t _build/html/2302.14137.md\n",
      "\t _build/html/2302.12805.md\n",
      "\t _build/html/2302.10943.md\n",
      "\t _build/html/2302.10528.md\n",
      "\t _build/html/2302.10008.md\n",
      "\t _build/html/2302.08962.md\n",
      "\t _build/html/2302.08628.md\n",
      "\t _build/html/2302.07916.md\n",
      "\t _build/html/2302.07880.md\n",
      "\t _build/html/2302.07497.md\n",
      "\t _build/html/2302.07277.md\n",
      "\t _build/html/2302.07256.md\n",
      "\t _build/html/2302.07234.md\n",
      "\t _build/html/2302.07057.md\n",
      "\t _build/html/2302.05694.md\n",
      "\t _build/html/2302.05465.md\n",
      "\t _build/html/2302.04507.md\n",
      "\t _build/html/2302.04239.md\n",
      "\t _build/html/2302.04138.md\n",
      "\t _build/html/2302.03699.md\n",
      "\t _build/html/2302.03576.md\n",
      "\t _build/html/2302.03042.md\n",
      "\t _build/html/2302.02611.md\n",
      "\t _build/html/2302.02429.md\n",
      "\t _build/html/2302.01678.md\n",
      "\t _build/html/2302.00450.md\n",
      "\t _build/html/2301.13766.md\n",
      "\t _build/html/2301.13526.md\n",
      "\t _build/html/2301.12890.md\n",
      "\t _build/html/2301.11942.md\n",
      "\t _build/html/2301.10717.md\n",
      "\t _build/html/2301.10666.md\n",
      "\t _build/html/2301.09621.md\n",
      "\t _build/html/2301.09140.md\n",
      "\t _build/html/2301.08770.md\n",
      "\t _build/html/2301.08310.md\n",
      "\t _build/html/2301.07990.md\n",
      "\t _build/html/2301.07199.md\n",
      "\t _build/html/2301.07116.md\n",
      "\t _build/html/2301.06873.md\n",
      "\t _build/html/2301.06819.md\n",
      "\t _build/html/2301.06575.md\n",
      "\t _build/html/2301.05720.md\n",
      "\t _build/html/2301.05718.md\n",
      "\t _build/html/2301.05034.md\n",
      "\t _build/html/2301.04656.md\n",
      "\t _build/html/2301.04533.md\n",
      "\t _build/html/2301.04442.md\n",
      "\t _build/html/2301.03811.md\n",
      "\t _build/html/2301.03689.md\n",
      "\t _build/html/2301.03209.md\n",
      "\t _build/html/2301.02671.md\n",
      "\t _build/html/2301.02477.md\n",
      "\t _build/html/2301.02313.md\n",
      "\t _build/html/2301.01937.md\n",
      "\t _build/html/2301.01895.md\n",
      "\t _build/html/2301.01684.md\n",
      "\t _build/html/2301.01306.md\n",
      "\t _build/html/2301.00881.md\n",
      "\t _build/html/2301.00854.md\n",
      "\t _build/html/2301.00578.md\n",
      "\t _build/html/2212.12039.md\n",
      "\t _build/html/2212.11425.md\n",
      "\t _build/html/2212.11177.md\n",
      "\t _build/html/2212.10512.md\n",
      "\t _build/html/2212.09766.md\n",
      "\t _build/html/2212.09675.md\n",
      "\t _build/html/2212.09661.md\n",
      "\t _build/html/2212.09652.md\n",
      "\t _build/html/2212.09168.md\n",
      "\t _build/html/2212.09159.md\n",
      "\t _build/html/2212.08702.md\n",
      "\t _build/html/2212.06434.md\n",
      "\t _build/html/2212.04710.md\n",
      "\t _build/html/2212.04026.md\n",
      "\t _build/html/2212.03563.md\n",
      "\t _build/html/2212.03514.md\n",
      "\t _build/html/2212.02667.md\n",
      "\t _build/html/2212.02627.md\n",
      "\t _build/html/2212.02235.md\n",
      "\t _build/html/2212.01707.md\n",
      "\t _build/html/2212.01526.md\n",
      "\t _build/html/2212.01397.md\n",
      "\t _build/html/2212.01291.md\n",
      "\t _build/html/2212.01281.md\n",
      "\t _build/html/2212.00812.md\n",
      "\t _build/html/2212.00811.md\n",
      "\t _build/html/2212.00806.md\n",
      "\t _build/html/2212.00032.md\n",
      "\t _build/html/2211.16510.md\n",
      "\t _build/html/2211.16123.md\n",
      "\t _build/html/2211.15816.md\n",
      "\t _build/html/2211.15698.md\n",
      "\t _build/html/2211.15576.md\n",
      "\t _build/html/2211.15434.md\n",
      "\t _build/html/2211.15288.md\n",
      "\t _build/html/2211.15224.md\n",
      "\t _build/html/2211.14543.md\n",
      "\t _build/html/2211.14330.md\n",
      "\t _build/html/2211.14322.md\n",
      "\t _build/html/2211.14132.md\n",
      "\t _build/html/2211.13811.md\n",
      "\t _build/html/2211.13426.md\n",
      "\t _build/html/2211.13146.md\n",
      "\t _build/html/2211.12613.md\n",
      "\t _build/html/2211.11767.md\n",
      "\t _build/html/2211.09840.md\n",
      "\t _build/html/2211.08493.md\n",
      "\t _build/html/2211.08487.md\n",
      "\t _build/html/2211.08294.md\n",
      "\t _build/html/2211.07667.md\n",
      "\t _build/html/2211.07659.md\n",
      "\t _build/html/2211.06205.md\n",
      "\t _build/html/2211.06194.md\n",
      "\t _build/html/2211.05022.md\n",
      "\t _build/html/2211.04048.md\n",
      "\t _build/html/2211.03641.md\n",
      "\t _build/html/2211.02502.md\n",
      "\t _build/html/2211.01474.md\n",
      "\t _build/html/2211.00657.md\n",
      "\t _build/html/2211.00087.md\n",
      "\t _build/html/2211.00036.md\n",
      "\t _build/html/2211.00020.md\n",
      "\t _build/html/2211.00010.md\n",
      "\t _build/html/2210.17434.md\n",
      "\t _build/html/2210.12412.md\n",
      "\t _build/html/2210.11926.md\n",
      "\t _build/html/2210.11551.md\n",
      "\t _build/html/2210.10707.md\n",
      "\t _build/html/2210.09930.md\n",
      "\t _build/html/2210.08996.md\n",
      "\t _build/html/2210.08517.md\n",
      "\t _build/html/2210.08510.md\n",
      "\t _build/html/2210.06504.md\n",
      "\t _build/html/2210.05695.md\n",
      "\t _build/html/2210.05595.md\n",
      "\t _build/html/2210.05505.md\n",
      "\t _build/html/2210.04721.md\n",
      "\t _build/html/2210.03615.md\n",
      "\t _build/html/2210.01811.md\n",
      "\t _build/html/2210.01809.md\n",
      "\t _build/html/2210.01556.md\n",
      "\t _build/html/2210.00560.md\n",
      "\t _build/html/2209.15403.md\n",
      "\t _build/html/2209.15110.md\n",
      "\t _build/html/2209.14410.md\n",
      "\t _build/html/2209.14396.md\n",
      "\t _build/html/2209.13717.md\n",
      "\t _build/html/2209.13336.md\n",
      "\t _build/html/2209.12906.md\n",
      "\t _build/html/2209.11602.md\n",
      "\t _build/html/2209.11248.md\n",
      "\t _build/html/2209.10618.md\n",
      "\t _build/html/2209.09914.md\n",
      "\t _build/html/2209.08242.md\n",
      "\t _build/html/2209.08120.md\n",
      "\t _build/html/2209.08106.md\n",
      "\t _build/html/2209.07962.md\n",
      "\t _build/html/2209.07931.md\n",
      "\t _build/html/2209.06833.md\n",
      "\t _build/html/2209.05814.md\n",
      "\t _build/html/2209.05593.md\n",
      "\t _build/html/2209.04304.md\n",
      "\t _build/html/2209.03367.md\n",
      "\t _build/html/2209.02872.md\n",
      "\t _build/html/2209.02725.md\n",
      "\t _build/html/2209.02722.md\n",
      "\t _build/html/2209.02092.md\n",
      "\t _build/html/2209.01125.md\n",
      "\t _build/html/2209.00828.md\n",
      "\t _build/html/2209.00363.md\n",
      "\t _build/html/2208.14927.md\n",
      "\t _build/html/2208.09335.md\n",
      "\t _build/html/2208.08872.md\n",
      "\t _build/html/2204.06393.md\n",
      "\t _build/html/2204.03335.md\n",
      "\t _build/html/2204.03253.md\n",
      "\t _build/html/2204.02017.md\n",
      "\t _build/html/2204.01824.md\n",
      "\t _build/html/2204.01245.md\n",
      "\t _build/html/2204.00793.md\n",
      "\t _build/html/2204.00342.md\n",
      "\t _build/html/2203.16959.md\n",
      "\t _build/html/2203.16734.md\n",
      "\t _build/html/2203.16504.md\n",
      "\t _build/html/2203.15822.md\n",
      "\t _build/html/2203.15811.md\n"
     ]
    }
   ],
   "source": [
    "from datetime import datetime, timedelta, timezone\n",
    "from glob import glob\n",
    "\n",
    "files = glob('_build/html/*.md')\n",
    "days = 7\n",
    "now = datetime.today()\n",
    "res = []\n",
    "for fk in files:\n",
    "    stat_result = os.stat(fk).st_ctime\n",
    "    modified = datetime.fromtimestamp(stat_result, tz=timezone.utc).replace(tzinfo=None)\n",
    "    delta = now.today() - modified\n",
    "    if delta <= timedelta(days=days):\n",
    "        res.append((delta.seconds, fk))\n",
    "res = [k[1] for k in reversed(sorted(res, key=lambda x:x[1]))]\n",
    "npub = len(res)\n",
    "print(len(res), f\" publications in the last {days:d} days.\")\n",
    "[ print('\\t', k) for k in res ];"
   ]
  },
  {
   "cell_type": "code",
   "execution_count": 11,
   "id": "015de740",
   "metadata": {
    "execution": {
     "iopub.execute_input": "2023-03-13T04:09:47.474173Z",
     "iopub.status.busy": "2023-03-13T04:09:47.473488Z",
     "iopub.status.idle": "2023-03-13T04:09:47.497979Z",
     "shell.execute_reply": "2023-03-13T04:09:47.496882Z"
    },
    "papermill": {
     "duration": 0.03722,
     "end_time": "2023-03-13T04:09:47.499867",
     "exception": false,
     "start_time": "2023-03-13T04:09:47.462647",
     "status": "completed"
    },
    "tags": []
   },
   "outputs": [
    {
     "name": "stdout",
     "output_type": "stream",
     "text": [
      "4  publications in the last 7 days.\n"
     ]
    }
   ],
   "source": [
    "import datetime\n",
    "from glob import glob\n",
    "\n",
    "def get_last_n_days(lst, days=1):\n",
    "    \"\"\" Get the documents from the last n days \"\"\"\n",
    "    sorted_lst = sorted(lst, key=lambda x: x[1], reverse=True)\n",
    "    for fname, date in sorted_lst:\n",
    "        if date >= str(datetime.date.today() - datetime.timedelta(days=days)):\n",
    "            yield fname\n",
    "\n",
    "def extract_appearance_dates(lst_file):\n",
    "    dates = []\n",
    "\n",
    "    def get_date(line):\n",
    "        return line\\\n",
    "            .split('Appeared on:')[-1]\\\n",
    "            .split('</mark>')[0].strip()\n",
    "\n",
    "    for fname in lst:\n",
    "        with open(fname, 'r') as f:\n",
    "            found_date = False\n",
    "            for line in f:\n",
    "                if not found_date:\n",
    "                    if \"Appeared on\" in line:\n",
    "                        found_date = True\n",
    "                        dates.append((fname, get_date(line)))\n",
    "                else:\n",
    "                    break\n",
    "    return dates\n",
    "\n",
    "from glob import glob\n",
    "lst = glob('_build/html/*md')\n",
    "days = 7\n",
    "dates = extract_appearance_dates(lst)\n",
    "res = list(get_last_n_days(dates, days))\n",
    "npub = len(res)\n",
    "print(len(res), f\" publications in the last {days:d} days.\")"
   ]
  },
  {
   "cell_type": "code",
   "execution_count": 12,
   "id": "52ca0208",
   "metadata": {
    "execution": {
     "iopub.execute_input": "2023-03-13T04:09:47.518015Z",
     "iopub.status.busy": "2023-03-13T04:09:47.517273Z",
     "iopub.status.idle": "2023-03-13T04:09:47.523280Z",
     "shell.execute_reply": "2023-03-13T04:09:47.522364Z"
    },
    "papermill": {
     "duration": 0.017711,
     "end_time": "2023-03-13T04:09:47.525236",
     "exception": false,
     "start_time": "2023-03-13T04:09:47.507525",
     "status": "completed"
    },
    "scrolled": false,
    "tags": []
   },
   "outputs": [],
   "source": [
    "def create_carousel(npub=4):\n",
    "    \"\"\" Generate the HTML code for a carousel with `npub` slides \"\"\"\n",
    "    carousel = [\"\"\"  <div class=\"carousel\" \"\"\",\n",
    "                \"\"\"       data-flickity='{ \"autoPlay\": 10000, \"adaptiveHeight\": true, \"resize\": true, \"wrapAround\": true, \"pauseAutoPlayOnHover\": true, \"groupCells\": 1 }' id=\"asyncTypeset\">\"\"\"\n",
    "                ]\n",
    "    \n",
    "    item_str = \"\"\"    <div class=\"carousel-cell\"> <div id=\"slide{k}\" class=\"md_view\">Content {k}</div> </div>\"\"\"\n",
    "    for k in range(1, npub + 1):\n",
    "        carousel.append(item_str.format(k=k))\n",
    "    carousel.append(\"  </div>\")\n",
    "    return '\\n'.join(carousel)"
   ]
  },
  {
   "cell_type": "code",
   "execution_count": 13,
   "id": "a6eac5b6",
   "metadata": {
    "execution": {
     "iopub.execute_input": "2023-03-13T04:09:47.545104Z",
     "iopub.status.busy": "2023-03-13T04:09:47.544796Z",
     "iopub.status.idle": "2023-03-13T04:09:47.551820Z",
     "shell.execute_reply": "2023-03-13T04:09:47.551020Z"
    },
    "papermill": {
     "duration": 0.019899,
     "end_time": "2023-03-13T04:09:47.554425",
     "exception": false,
     "start_time": "2023-03-13T04:09:47.534526",
     "status": "completed"
    },
    "scrolled": false,
    "tags": []
   },
   "outputs": [],
   "source": [
    "carousel = create_carousel(npub)\n",
    "docs = ', '.join(['\"{0:s}\"'.format(k.split('/')[-1]) for k in res])\n",
    "slides = ', '.join([f'\"slide{k}\"' for k in range(1, npub + 1)])\n",
    "\n",
    "with open(\"daily_template.html\", \"r\") as tpl:\n",
    "    page = tpl.read()\n",
    "    page = page.replace(\"{%-- carousel:s --%}\", carousel)\\\n",
    "               .replace(\"{%-- suptitle:s --%}\",  \"7-day archives\" )\\\n",
    "               .replace(\"{%-- docs:s --%}\", docs)\\\n",
    "               .replace(\"{%-- slides:s --%}\", slides)\n",
    "    \n",
    "with open(\"_build/html/index_7days.html\", 'w') as fout:\n",
    "    fout.write(page)"
   ]
  },
  {
   "cell_type": "code",
   "execution_count": 14,
   "id": "adc1a1ec",
   "metadata": {
    "execution": {
     "iopub.execute_input": "2023-03-13T04:09:47.574716Z",
     "iopub.status.busy": "2023-03-13T04:09:47.574404Z",
     "iopub.status.idle": "2023-03-13T04:09:47.583427Z",
     "shell.execute_reply": "2023-03-13T04:09:47.582610Z"
    },
    "papermill": {
     "duration": 0.020843,
     "end_time": "2023-03-13T04:09:47.585246",
     "exception": false,
     "start_time": "2023-03-13T04:09:47.564403",
     "status": "completed"
    },
    "tags": []
   },
   "outputs": [
    {
     "name": "stdout",
     "output_type": "stream",
     "text": [
      "1  publications in the last day.\n",
      "  <div class=\"carousel\" \n",
      "       data-flickity='{ \"autoPlay\": 10000, \"adaptiveHeight\": true, \"resize\": true, \"wrapAround\": true, \"pauseAutoPlayOnHover\": true, \"groupCells\": 1 }' id=\"asyncTypeset\">\n",
      "    <div class=\"carousel-cell\"> <div id=\"slide1\" class=\"md_view\">Content 1</div> </div>\n",
      "  </div> \"2303.05635.md\" \"slide1\"\n",
      "<!DOCTYPE html>\n",
      "<html lang=\"en\">\n",
      "\n",
      "<head>\n",
      "    <meta charset=\"utf-8\">\n",
      "    <meta name=\"viewport\" content=\"width=device-width, initial-scale=1.0\" />\n",
      "    <!-- Remove caching as much as possible -->\n",
      "    <meta http-equiv=\"cache-control\" content=\"no-cache\" />\n",
      "    <meta http-equiv=\"Pragma\" content=\"no-cache\" />\n",
      "    <meta http-equiv=\"Expires\" content=\"-1\" />\n",
      "    <!-- flickity bootstrap CSS -->\n",
      "    <link rel=\"stylesheet\" href=\"https://unpkg.com/flickity@2/dist/flickity.min.css\">\n",
      "    <!-- Bootstrap CSS -->\n",
      "    <link href=\"https://cdn.jsdelivr.net/npm/bootstrap@5.0.2/dist/css/bootstrap.min.css\" rel=\"stylesheet\"\n",
      "        integrity=\"sha384-EVSTQN3/azprG1Anm3QDgpJLIm9Nao0Yz1ztcQTwFspd3yD65VohhpuuCOmLASjC\" crossorigin=\"anonymous\">\n",
      "    <!-- highlight.js CSS -->\n",
      "    <link rel=\"stylesheet\" href=\"https://cdnjs.cloudflare.com/ajax/libs/highlight.js/11.1.0/styles/default.min.css\">\n",
      "    <!-- flickity local CSS -->\n",
      "    <link rel=\"stylesheet\" href=\"flickity.css\">\n",
      "    <!-- markdown local CSS -->\n",
      "    <link rel=\"stylesheet\" href=\"markdown.css\">\n",
      "\n",
      "    <link rel=\"icon\" type=\"image/x-icon\"\n",
      "        href=\"https://www.mpia.de/assets/touch-icon-32x32-a66937bcebc4e8894ebff1f41a366c7c7220fd97a38869ee0f2db65a9f59b6c1.png\">\n",
      "    <title>MPIA Arxiv on deck!</title>\n",
      "</head>\n",
      "\n",
      "<body>\n",
      "    <div id=\"header\"> <img src=\"header_banner.png\" width=\"100%\"></div>\n",
      "    <div id=\"suptitle\"> Daily </div>\n",
      "    <div id=\"info\">\n",
      "        <img src=\"https://pngimg.com/uploads/github/github_PNG58.png\" height=30rem></img>\n",
      "        <a href=https://github.com/mpi-astronomy/arxiv_display style=\"color:black;\">github/mpi-astronomy/arxiv_display</a>\n",
      "    </div>\n",
      "\n",
      "    <!-- Flickity HTML init -->\n",
      "      <div class=\"carousel\" \n",
      "       data-flickity='{ \"autoPlay\": 10000, \"adaptiveHeight\": true, \"resize\": true, \"wrapAround\": true, \"pauseAutoPlayOnHover\": true, \"groupCells\": 1 }' id=\"asyncTypeset\">\n",
      "    <div class=\"carousel-cell\"> <div id=\"slide1\" class=\"md_view\">Content 1</div> </div>\n",
      "  </div>\n",
      "\n",
      "</body>\n",
      "\n",
      "<script src=\"//cdnjs.cloudflare.com/ajax/libs/jquery/2.1.3/jquery.min.js\"></script>\n",
      "<script src=\"https://unpkg.com/flickity@2/dist/flickity.pkgd.min.js\"></script>\n",
      "<script src=\"https://cdnjs.cloudflare.com/ajax/libs/highlight.js/11.5.0/highlight.min.js\"></script>\n",
      "<!-- marked.js -->\n",
      "<script src=\"https://cdn.jsdelivr.net/npm/marked/marked.min.js\"></script>\n",
      "<!-- MD content -->\n",
      "<script>\n",
      "    const docs = [\"2303.05635.md\"];\n",
      "    const slides = [\"slide1\"];\n",
      "\n",
      "    async function run() {\n",
      "        for (let i = 0; i < docs.length; i++) {\n",
      "            let file = await fetch(docs[i]);\n",
      "            let text = await file.text()\n",
      "            document.getElementById(slides[i]).innerHTML =\n",
      "                marked.parse(text);\n",
      "        }\n",
      "        hljs.highlightAll();\n",
      "    }\n",
      "    run()\n",
      "</script>\n",
      "<!-- Mathjax 3 -->\n",
      "<script type=\"text/javascript\" id=\"MathJax-config\" src=\"mathjax_config.js\"> </script>\n",
      "<script type=\"text/javascript\" id=\"MathJax-script\" async src=\"https://cdn.jsdelivr.net/npm/mathjax@3/es5/tex-svg.js\"></script>\n",
      "<!-- Mathjax 3 async promise refresh for dynamic text -->\n",
      "<script>\n",
      "    const asyncTypeset = document.querySelector('#asyncTypeset')\n",
      "    setTimeout(async function () {\n",
      "        await MathJax.typesetPromise().catch((err) => console.log('Typeset failed: ' + err.message));\n",
      "        console.log('refreshed MathJax typeset');\n",
      "    }, 3000)\n",
      "</script>\n",
      "\n",
      "</html>\n"
     ]
    }
   ],
   "source": [
    "# redo for today\n",
    "days = 1\n",
    "res = list(get_last_n_days(dates, days))\n",
    "npub = len(res)\n",
    "print(len(res), f\" publications in the last day.\")\n",
    "\n",
    "carousel = create_carousel(npub)\n",
    "docs = ', '.join(['\"{0:s}\"'.format(k.split('/')[-1]) for k in res])\n",
    "slides = ', '.join([f'\"slide{k}\"' for k in range(1, npub + 1)])\n",
    "\n",
    "with open(\"daily_template.html\", \"r\") as tpl:\n",
    "    page = tpl.read()\n",
    "    page = page.replace(\"{%-- carousel:s --%}\", carousel)\\\n",
    "               .replace(\"{%-- suptitle:s --%}\",  \"Daily\" )\\\n",
    "               .replace(\"{%-- docs:s --%}\", docs)\\\n",
    "               .replace(\"{%-- slides:s --%}\", slides)\n",
    "    \n",
    "print(carousel, docs, slides)\n",
    "print(page)\n",
    "with open(\"_build/html/index_daily.html\", 'w') as fout:\n",
    "    fout.write(page)"
   ]
  }
 ],
 "metadata": {
  "kernelspec": {
   "display_name": "Python 3 (ipykernel)",
   "language": "python",
   "name": "python3"
  },
  "language_info": {
   "codemirror_mode": {
    "name": "ipython",
    "version": 3
   },
   "file_extension": ".py",
   "mimetype": "text/x-python",
   "name": "python",
   "nbconvert_exporter": "python",
   "pygments_lexer": "ipython3",
   "version": "3.9.16"
  },
  "papermill": {
   "default_parameters": {},
   "duration": 76.477668,
   "end_time": "2023-03-13T04:09:50.755118",
   "environment_variables": {},
   "exception": null,
   "input_path": "MPIA daily digest.ipynb",
   "output_path": "log.ipynb",
   "parameters": {},
   "start_time": "2023-03-13T04:08:34.277450",
   "version": "2.4.0"
  },
  "vscode": {
   "interpreter": {
    "hash": "aee8b7b246df8f9039afb4144a1f6fd8d2ca17a180786b69acc140d282b71a49"
   }
  },
  "widgets": {
   "application/vnd.jupyter.widget-state+json": {
    "state": {
     "0d6f060434a4424fb2d2029d1d71546a": {
      "model_module": "@jupyter-widgets/base",
      "model_module_version": "2.0.0",
      "model_name": "LayoutModel",
      "state": {
       "_model_module": "@jupyter-widgets/base",
       "_model_module_version": "2.0.0",
       "_model_name": "LayoutModel",
       "_view_count": null,
       "_view_module": "@jupyter-widgets/base",
       "_view_module_version": "2.0.0",
       "_view_name": "LayoutView",
       "align_content": null,
       "align_items": null,
       "align_self": null,
       "border_bottom": null,
       "border_left": null,
       "border_right": null,
       "border_top": null,
       "bottom": null,
       "display": null,
       "flex": null,
       "flex_flow": null,
       "grid_area": null,
       "grid_auto_columns": null,
       "grid_auto_flow": null,
       "grid_auto_rows": null,
       "grid_column": null,
       "grid_gap": null,
       "grid_row": null,
       "grid_template_areas": null,
       "grid_template_columns": null,
       "grid_template_rows": null,
       "height": null,
       "justify_content": null,
       "justify_items": null,
       "left": null,
       "margin": null,
       "max_height": null,
       "max_width": null,
       "min_height": null,
       "min_width": null,
       "object_fit": null,
       "object_position": null,
       "order": null,
       "overflow": null,
       "padding": null,
       "right": null,
       "top": null,
       "visibility": null,
       "width": null
      }
     },
     "331e81d3d8b34b4fab0ce60d30787243": {
      "model_module": "@jupyter-widgets/controls",
      "model_module_version": "2.0.0",
      "model_name": "HTMLStyleModel",
      "state": {
       "_model_module": "@jupyter-widgets/controls",
       "_model_module_version": "2.0.0",
       "_model_name": "HTMLStyleModel",
       "_view_count": null,
       "_view_module": "@jupyter-widgets/base",
       "_view_module_version": "2.0.0",
       "_view_name": "StyleView",
       "background": null,
       "description_width": "",
       "font_size": null,
       "text_color": null
      }
     },
     "44e40f4fcc44486aa1bd957cc052cd92": {
      "model_module": "@jupyter-widgets/controls",
      "model_module_version": "2.0.0",
      "model_name": "ProgressStyleModel",
      "state": {
       "_model_module": "@jupyter-widgets/controls",
       "_model_module_version": "2.0.0",
       "_model_name": "ProgressStyleModel",
       "_view_count": null,
       "_view_module": "@jupyter-widgets/base",
       "_view_module_version": "2.0.0",
       "_view_name": "StyleView",
       "bar_color": null,
       "description_width": ""
      }
     },
     "5a86c270677244c4b478531cfa4c3a7b": {
      "model_module": "@jupyter-widgets/base",
      "model_module_version": "2.0.0",
      "model_name": "LayoutModel",
      "state": {
       "_model_module": "@jupyter-widgets/base",
       "_model_module_version": "2.0.0",
       "_model_name": "LayoutModel",
       "_view_count": null,
       "_view_module": "@jupyter-widgets/base",
       "_view_module_version": "2.0.0",
       "_view_name": "LayoutView",
       "align_content": null,
       "align_items": null,
       "align_self": null,
       "border_bottom": null,
       "border_left": null,
       "border_right": null,
       "border_top": null,
       "bottom": null,
       "display": null,
       "flex": null,
       "flex_flow": null,
       "grid_area": null,
       "grid_auto_columns": null,
       "grid_auto_flow": null,
       "grid_auto_rows": null,
       "grid_column": null,
       "grid_gap": null,
       "grid_row": null,
       "grid_template_areas": null,
       "grid_template_columns": null,
       "grid_template_rows": null,
       "height": null,
       "justify_content": null,
       "justify_items": null,
       "left": null,
       "margin": null,
       "max_height": null,
       "max_width": null,
       "min_height": null,
       "min_width": null,
       "object_fit": null,
       "object_position": null,
       "order": null,
       "overflow": null,
       "padding": null,
       "right": null,
       "top": null,
       "visibility": null,
       "width": null
      }
     },
     "9d218778b4c84d159b4713e13f1287e9": {
      "model_module": "@jupyter-widgets/controls",
      "model_module_version": "2.0.0",
      "model_name": "FloatProgressModel",
      "state": {
       "_dom_classes": [],
       "_model_module": "@jupyter-widgets/controls",
       "_model_module_version": "2.0.0",
       "_model_name": "FloatProgressModel",
       "_view_count": null,
       "_view_module": "@jupyter-widgets/controls",
       "_view_module_version": "2.0.0",
       "_view_name": "ProgressView",
       "bar_style": "success",
       "description": "",
       "description_allow_html": false,
       "layout": "IPY_MODEL_0d6f060434a4424fb2d2029d1d71546a",
       "max": 12.0,
       "min": 0.0,
       "orientation": "horizontal",
       "style": "IPY_MODEL_44e40f4fcc44486aa1bd957cc052cd92",
       "tabbable": null,
       "tooltip": null,
       "value": 12.0
      }
     },
     "aa13c402f76541c5a24d8a7c8ba641ec": {
      "model_module": "@jupyter-widgets/base",
      "model_module_version": "2.0.0",
      "model_name": "LayoutModel",
      "state": {
       "_model_module": "@jupyter-widgets/base",
       "_model_module_version": "2.0.0",
       "_model_name": "LayoutModel",
       "_view_count": null,
       "_view_module": "@jupyter-widgets/base",
       "_view_module_version": "2.0.0",
       "_view_name": "LayoutView",
       "align_content": null,
       "align_items": null,
       "align_self": null,
       "border_bottom": null,
       "border_left": null,
       "border_right": null,
       "border_top": null,
       "bottom": null,
       "display": null,
       "flex": null,
       "flex_flow": null,
       "grid_area": null,
       "grid_auto_columns": null,
       "grid_auto_flow": null,
       "grid_auto_rows": null,
       "grid_column": null,
       "grid_gap": null,
       "grid_row": null,
       "grid_template_areas": null,
       "grid_template_columns": null,
       "grid_template_rows": null,
       "height": null,
       "justify_content": null,
       "justify_items": null,
       "left": null,
       "margin": null,
       "max_height": null,
       "max_width": null,
       "min_height": null,
       "min_width": null,
       "object_fit": null,
       "object_position": null,
       "order": null,
       "overflow": null,
       "padding": null,
       "right": null,
       "top": null,
       "visibility": null,
       "width": null
      }
     },
     "b652ab43b6b643abb0066a89e20add57": {
      "model_module": "@jupyter-widgets/controls",
      "model_module_version": "2.0.0",
      "model_name": "HTMLStyleModel",
      "state": {
       "_model_module": "@jupyter-widgets/controls",
       "_model_module_version": "2.0.0",
       "_model_name": "HTMLStyleModel",
       "_view_count": null,
       "_view_module": "@jupyter-widgets/base",
       "_view_module_version": "2.0.0",
       "_view_name": "StyleView",
       "background": null,
       "description_width": "",
       "font_size": null,
       "text_color": null
      }
     },
     "bd53723f12254e7089ab246b15d3c5ba": {
      "model_module": "@jupyter-widgets/base",
      "model_module_version": "2.0.0",
      "model_name": "LayoutModel",
      "state": {
       "_model_module": "@jupyter-widgets/base",
       "_model_module_version": "2.0.0",
       "_model_name": "LayoutModel",
       "_view_count": null,
       "_view_module": "@jupyter-widgets/base",
       "_view_module_version": "2.0.0",
       "_view_name": "LayoutView",
       "align_content": null,
       "align_items": null,
       "align_self": null,
       "border_bottom": null,
       "border_left": null,
       "border_right": null,
       "border_top": null,
       "bottom": null,
       "display": null,
       "flex": null,
       "flex_flow": null,
       "grid_area": null,
       "grid_auto_columns": null,
       "grid_auto_flow": null,
       "grid_auto_rows": null,
       "grid_column": null,
       "grid_gap": null,
       "grid_row": null,
       "grid_template_areas": null,
       "grid_template_columns": null,
       "grid_template_rows": null,
       "height": null,
       "justify_content": null,
       "justify_items": null,
       "left": null,
       "margin": null,
       "max_height": null,
       "max_width": null,
       "min_height": null,
       "min_width": null,
       "object_fit": null,
       "object_position": null,
       "order": null,
       "overflow": null,
       "padding": null,
       "right": null,
       "top": null,
       "visibility": null,
       "width": null
      }
     },
     "d2f34af99def46dba8483533a2ba7a83": {
      "model_module": "@jupyter-widgets/controls",
      "model_module_version": "2.0.0",
      "model_name": "HTMLModel",
      "state": {
       "_dom_classes": [],
       "_model_module": "@jupyter-widgets/controls",
       "_model_module_version": "2.0.0",
       "_model_name": "HTMLModel",
       "_view_count": null,
       "_view_module": "@jupyter-widgets/controls",
       "_view_module_version": "2.0.0",
       "_view_name": "HTMLView",
       "description": "",
       "description_allow_html": false,
       "layout": "IPY_MODEL_bd53723f12254e7089ab246b15d3c5ba",
       "placeholder": "​",
       "style": "IPY_MODEL_331e81d3d8b34b4fab0ce60d30787243",
       "tabbable": null,
       "tooltip": null,
       "value": " 12/12 [00:40&lt;00:00,  2.81s/it]"
      }
     },
     "e2671d114eb443d4a02c4522de2f6347": {
      "model_module": "@jupyter-widgets/controls",
      "model_module_version": "2.0.0",
      "model_name": "HTMLModel",
      "state": {
       "_dom_classes": [],
       "_model_module": "@jupyter-widgets/controls",
       "_model_module_version": "2.0.0",
       "_model_name": "HTMLModel",
       "_view_count": null,
       "_view_module": "@jupyter-widgets/controls",
       "_view_module_version": "2.0.0",
       "_view_name": "HTMLView",
       "description": "",
       "description_allow_html": false,
       "layout": "IPY_MODEL_5a86c270677244c4b478531cfa4c3a7b",
       "placeholder": "​",
       "style": "IPY_MODEL_b652ab43b6b643abb0066a89e20add57",
       "tabbable": null,
       "tooltip": null,
       "value": "100%"
      }
     },
     "e5df7ac9b4bf4b08b34deb303179102d": {
      "model_module": "@jupyter-widgets/controls",
      "model_module_version": "2.0.0",
      "model_name": "HBoxModel",
      "state": {
       "_dom_classes": [],
       "_model_module": "@jupyter-widgets/controls",
       "_model_module_version": "2.0.0",
       "_model_name": "HBoxModel",
       "_view_count": null,
       "_view_module": "@jupyter-widgets/controls",
       "_view_module_version": "2.0.0",
       "_view_name": "HBoxView",
       "box_style": "",
       "children": [
        "IPY_MODEL_e2671d114eb443d4a02c4522de2f6347",
        "IPY_MODEL_9d218778b4c84d159b4713e13f1287e9",
        "IPY_MODEL_d2f34af99def46dba8483533a2ba7a83"
       ],
       "layout": "IPY_MODEL_aa13c402f76541c5a24d8a7c8ba641ec",
       "tabbable": null,
       "tooltip": null
      }
     }
    },
    "version_major": 2,
    "version_minor": 0
   }
  }
 },
 "nbformat": 4,
 "nbformat_minor": 5
}