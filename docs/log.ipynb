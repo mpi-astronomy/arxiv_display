{
 "cells": [
  {
   "cell_type": "markdown",
   "id": "92bcb855",
   "metadata": {
    "papermill": {
     "duration": 0.006202,
     "end_time": "2023-10-10T04:06:04.674371",
     "exception": false,
     "start_time": "2023-10-10T04:06:04.668169",
     "status": "completed"
    },
    "tags": []
   },
   "source": [
    "# MPIA Arxiv on Deck 2\n",
    "\n",
    "Contains the steps to produce the paper extractions."
   ]
  },
  {
   "cell_type": "code",
   "execution_count": 1,
   "id": "3a0d6e11",
   "metadata": {
    "execution": {
     "iopub.execute_input": "2023-10-10T04:06:04.687642Z",
     "iopub.status.busy": "2023-10-10T04:06:04.686691Z",
     "iopub.status.idle": "2023-10-10T04:06:05.228930Z",
     "shell.execute_reply": "2023-10-10T04:06:05.227387Z"
    },
    "papermill": {
     "duration": 0.550537,
     "end_time": "2023-10-10T04:06:05.231122",
     "exception": false,
     "start_time": "2023-10-10T04:06:04.680585",
     "status": "completed"
    },
    "tags": []
   },
   "outputs": [],
   "source": [
    "# Imports\n",
    "import os\n",
    "from IPython.display import Markdown, display\n",
    "from tqdm.notebook import tqdm\n",
    "import warnings\n",
    "from PIL import Image \n",
    "\n",
    "# requires arxiv_on_deck_2\n",
    "\n",
    "from arxiv_on_deck_2.arxiv2 import (get_new_papers, \n",
    "                                    get_paper_from_identifier,\n",
    "                                    retrieve_document_source, \n",
    "                                    get_markdown_badge)\n",
    "from arxiv_on_deck_2 import (latex,\n",
    "                             latex_bib,\n",
    "                             mpia,\n",
    "                             highlight_authors_in_list)\n",
    "\n",
    "# Sometimes images are really big\n",
    "Image.MAX_IMAGE_PIXELS = 1000000000 "
   ]
  },
  {
   "cell_type": "code",
   "execution_count": 2,
   "id": "22aa9d44",
   "metadata": {
    "execution": {
     "iopub.execute_input": "2023-10-10T04:06:05.241477Z",
     "iopub.status.busy": "2023-10-10T04:06:05.240838Z",
     "iopub.status.idle": "2023-10-10T04:06:05.247944Z",
     "shell.execute_reply": "2023-10-10T04:06:05.247200Z"
    },
    "papermill": {
     "duration": 0.01409,
     "end_time": "2023-10-10T04:06:05.249603",
     "exception": false,
     "start_time": "2023-10-10T04:06:05.235513",
     "status": "completed"
    },
    "tags": []
   },
   "outputs": [],
   "source": [
    "# Some useful definitions.\n",
    "\n",
    "class AffiliationWarning(UserWarning):\n",
    "    pass\n",
    "\n",
    "class AffiliationError(RuntimeError):\n",
    "    pass\n",
    "\n",
    "def validation(source: str):\n",
    "    \"\"\"Raises error paper during parsing of source file\n",
    "    \n",
    "    Allows checks before parsing TeX code.\n",
    "    \n",
    "    Raises AffiliationWarning\n",
    "    \"\"\"\n",
    "    check = mpia.affiliation_verifications(source, verbose=True)\n",
    "    if check is not True:\n",
    "        raise AffiliationError(\"mpia.affiliation_verifications: \" + check)\n",
    "\n",
    "        \n",
    "warnings.simplefilter('always', AffiliationWarning)\n",
    "\n",
    "\n",
    "def get_markdown_qrcode(paper_id: str):\n",
    "    \"\"\" Generate a qrcode to the arxiv page using qrserver.com\n",
    "    \n",
    "    :param paper: Arxiv paper\n",
    "    :returns: markdown text\n",
    "    \"\"\"\n",
    "    url = r\"https://api.qrserver.com/v1/create-qr-code/?size=100x100&data=\"\n",
    "    txt = f\"\"\"<img src={url}\"https://arxiv.org/abs/{paper_id}\">\"\"\"\n",
    "    txt = '<div id=\"qrcode\">' + txt + '</div>'\n",
    "    return txt"
   ]
  },
  {
   "cell_type": "markdown",
   "id": "14bd6310",
   "metadata": {
    "papermill": {
     "duration": 0.003932,
     "end_time": "2023-10-10T04:06:05.257454",
     "exception": false,
     "start_time": "2023-10-10T04:06:05.253522",
     "status": "completed"
    },
    "tags": []
   },
   "source": [
    "## get list of arxiv paper candidates\n",
    "\n",
    "We use the MPIA mitarbeiter list webpage from mpia.de to get author names\n",
    "We then get all new papers from Arxiv and match authors"
   ]
  },
  {
   "cell_type": "code",
   "execution_count": 3,
   "id": "2645e73a",
   "metadata": {
    "execution": {
     "iopub.execute_input": "2023-10-10T04:06:05.266928Z",
     "iopub.status.busy": "2023-10-10T04:06:05.266255Z",
     "iopub.status.idle": "2023-10-10T04:06:38.609384Z",
     "shell.execute_reply": "2023-10-10T04:06:38.608242Z"
    },
    "papermill": {
     "duration": 33.350281,
     "end_time": "2023-10-10T04:06:38.611482",
     "exception": false,
     "start_time": "2023-10-10T04:06:05.261201",
     "status": "completed"
    },
    "tags": []
   },
   "outputs": [
    {
     "name": "stdout",
     "output_type": "stream",
     "text": [
      "A. Pillepich  ->  A. Pillepich  |  ['A. Pillepich']\n"
     ]
    },
    {
     "name": "stdout",
     "output_type": "stream",
     "text": [
      "R. Burn  ->  R. Burn  |  ['R. Burn']\n",
      "M. Kürster  ->  M. Kürster  |  ['M. Kürster']\n",
      "K. Lee  ->  K. Lee  |  ['K. Lee']\n",
      "Arxiv has 74 new papers today\n",
      "          3 with possible author matches\n"
     ]
    }
   ],
   "source": [
    "# get list from MPIA website\n",
    "# it automatically filters identified non-scientists :func:`mpia.filter_non_scientists`\n",
    "mpia_authors = mpia.get_mpia_mitarbeiter_list()\n",
    "normed_mpia_authors = [k[1] for k in mpia_authors]   # initials + fullname\n",
    "new_papers = get_new_papers()\n",
    "# add manual references\n",
    "add_paper_refs = []\n",
    "new_papers.extend([get_paper_from_identifier(k) for k in add_paper_refs])\n",
    "\n",
    "candidates = []\n",
    "for paperk in new_papers:\n",
    "    # Check author list with their initials\n",
    "    normed_author_list = [mpia.get_initials(k) for k in paperk['authors']]\n",
    "    hl_authors = highlight_authors_in_list(normed_author_list, normed_mpia_authors, verbose=True)\n",
    "    matches = [(hl, orig) for hl, orig in zip(hl_authors, paperk['authors']) if 'mark' in hl]\n",
    "    paperk['authors'] = hl_authors\n",
    "    if matches:\n",
    "        # only select paper if an author matched our list\n",
    "        candidates.append(paperk)\n",
    "print(\"\"\"Arxiv has {0:,d} new papers today\"\"\".format(len(new_papers)))        \n",
    "print(\"\"\"          {0:,d} with possible author matches\"\"\".format(len(candidates)))"
   ]
  },
  {
   "cell_type": "markdown",
   "id": "3543b34a",
   "metadata": {
    "papermill": {
     "duration": 0.004356,
     "end_time": "2023-10-10T04:06:38.620150",
     "exception": false,
     "start_time": "2023-10-10T04:06:38.615794",
     "status": "completed"
    },
    "tags": []
   },
   "source": [
    "# Parse sources and generate relevant outputs\n",
    "\n",
    "From the candidates, we do the following steps:\n",
    "* get their tarball from ArXiv (and extract data)\n",
    "* find the main .tex file: find one with \\documentclass{...} (sometimes it's non trivial)\n",
    "* Check affiliations with :func:`validation`, which uses :func:`mpia.affiliation_verifications`\n",
    "* If passing the affiliations: we parse the .tex source\n",
    "   * inject sub-documents into the main (flatten the main document)\n",
    "   * parse structure, extract information (title, abstract, authors, figures...)\n",
    "   * handles `\\graphicspath` if provided\n",
    "* Generate the .md document."
   ]
  },
  {
   "cell_type": "code",
   "execution_count": 4,
   "id": "9576b79e",
   "metadata": {
    "execution": {
     "iopub.execute_input": "2023-10-10T04:06:38.630242Z",
     "iopub.status.busy": "2023-10-10T04:06:38.629860Z",
     "iopub.status.idle": "2023-10-10T04:08:13.836272Z",
     "shell.execute_reply": "2023-10-10T04:08:13.835509Z"
    },
    "papermill": {
     "duration": 95.214792,
     "end_time": "2023-10-10T04:08:13.838999",
     "exception": false,
     "start_time": "2023-10-10T04:06:38.624207",
     "status": "completed"
    },
    "scrolled": false,
    "tags": []
   },
   "outputs": [
    {
     "data": {
      "application/vnd.jupyter.widget-view+json": {
       "model_id": "387aa34aefaf42e4b789dfb2a250e82f",
       "version_major": 2,
       "version_minor": 0
      },
      "text/plain": [
       "  0%|          | 0/3 [00:00<?, ?it/s]"
      ]
     },
     "metadata": {},
     "output_type": "display_data"
    },
    {
     "name": "stdout",
     "output_type": "stream",
     "text": [
      "Retrieving document from  https://arxiv.org/e-print/2310.04499\n"
     ]
    },
    {
     "name": "stdout",
     "output_type": "stream",
     "text": [
      "extracting tarball to tmp_2310.04499..."
     ]
    },
    {
     "name": "stdout",
     "output_type": "stream",
     "text": [
      " done.\n"
     ]
    },
    {
     "name": "stderr",
     "output_type": "stream",
     "text": [
      "/opt/hostedtoolcache/Python/3.9.18/x64/lib/python3.9/site-packages/IPython/core/interactiveshell.py:3526: LatexWarning: Multiple tex files.\n",
      "\n",
      "  exec(code_obj, self.user_global_ns, self.user_ns)\n",
      "/opt/hostedtoolcache/Python/3.9.18/x64/lib/python3.9/site-packages/IPython/core/interactiveshell.py:3526: LatexWarning: Found documentclass in tmp_2310.04499/main.tex\n",
      "\n",
      "  exec(code_obj, self.user_global_ns, self.user_ns)\n",
      "/opt/hostedtoolcache/Python/3.9.18/x64/lib/python3.9/site-packages/arxiv_on_deck_2/latex.py:399: LatexWarning: Latex injecting: 'headstuff.tex' from 'tmp_2310.04499/headstuff.tex'\n",
      "  warnings.warn(LatexWarning(f\"Latex injecting: '{ext}' from '{subsource}'\"))\n"
     ]
    },
    {
     "name": "stderr",
     "output_type": "stream",
     "text": [
      "/tmp/ipykernel_2258/3009462391.py:49: LatexWarning: 2310.04499 did not run properly\n",
      "list index out of range\n",
      "  warnings.warn(latex.LatexWarning(f\"{paper_id:s} did not run properly\\n\" +\n"
     ]
    },
    {
     "name": "stdout",
     "output_type": "stream",
     "text": [
      "Retrieving document from  https://arxiv.org/e-print/2310.05599\n"
     ]
    },
    {
     "name": "stdout",
     "output_type": "stream",
     "text": [
      "extracting tarball to tmp_2310.05599..."
     ]
    },
    {
     "name": "stdout",
     "output_type": "stream",
     "text": [
      " done.\n"
     ]
    },
    {
     "name": "stdout",
     "output_type": "stream",
     "text": [
      "R. Burn  ->  R. Burn  |  ['R. Burn']\n",
      "M. Kürster  ->  M. Kürster  |  ['M. Kürster']\n"
     ]
    },
    {
     "name": "stderr",
     "output_type": "stream",
     "text": [
      "/opt/hostedtoolcache/Python/3.9.18/x64/lib/python3.9/site-packages/arxiv_on_deck_2/latex.py:120: LatexWarning: attempting recovering figure figures/probCol_detSy_sim_0445_0778_0897_0153\n",
      "  warnings.warn(LatexWarning(f'attempting recovering figure {image}'))\n",
      "/opt/hostedtoolcache/Python/3.9.18/x64/lib/python3.9/site-packages/arxiv_on_deck_2/latex.py:125: LatexWarning: Recovered figure figures/probCol_detSy_sim_0445_0778_0897_0153 as tmp_2310.05599/./figures/probCol_detSy_sim_0445_0778_0897_0153.pdf\n",
      "  warnings.warn(LatexWarning(f'Recovered figure {image} as {fname}'))\n"
     ]
    },
    {
     "name": "stdout",
     "output_type": "stream",
     "text": [
      "Found 152 bibliographic references in tmp_2310.05599/Gorrini_et_al_2023.bbl.\n",
      "syntax error in line 4: '=' expected\n",
      "Retrieving document from  https://arxiv.org/e-print/2310.05740\n"
     ]
    },
    {
     "name": "stdout",
     "output_type": "stream",
     "text": [
      "extracting tarball to tmp_2310.05740..."
     ]
    },
    {
     "name": "stdout",
     "output_type": "stream",
     "text": [
      " done.\n"
     ]
    },
    {
     "name": "stderr",
     "output_type": "stream",
     "text": [
      "/opt/hostedtoolcache/Python/3.9.18/x64/lib/python3.9/site-packages/IPython/core/interactiveshell.py:3526: LatexWarning: Multiple tex files.\n",
      "\n",
      "  exec(code_obj, self.user_global_ns, self.user_ns)\n",
      "/opt/hostedtoolcache/Python/3.9.18/x64/lib/python3.9/site-packages/IPython/core/interactiveshell.py:3526: LatexWarning: Found documentclass in tmp_2310.05740/main.tex\n",
      "\n",
      "  exec(code_obj, self.user_global_ns, self.user_ns)\n",
      "/opt/hostedtoolcache/Python/3.9.18/x64/lib/python3.9/site-packages/arxiv_on_deck_2/latex.py:399: LatexWarning: Latex injecting: 'RN35_tab_phot.tex' from 'tmp_2310.05740/RN35_tab_phot.tex'\n",
      "  warnings.warn(LatexWarning(f\"Latex injecting: '{ext}' from '{subsource}'\"))\n"
     ]
    }
   ],
   "source": [
    "documents = []\n",
    "failed = []\n",
    "for paper in tqdm(candidates):\n",
    "    paper_id = paper['identifier'].lower().replace('arxiv:', '')\n",
    "    \n",
    "    folder = f'tmp_{paper_id}'\n",
    "\n",
    "    try:\n",
    "        if not os.path.isdir(folder):\n",
    "            folder = retrieve_document_source(f\"{paper_id}\", f'tmp_{paper_id}')\n",
    "        \n",
    "        try:\n",
    "            doc = latex.LatexDocument(folder, validation=validation)    \n",
    "        except AffiliationError as affilerror:\n",
    "            msg = f\"ArXiv:{paper_id:s} is not an MPIA paper... \" + str(affilerror)\n",
    "            failed.append((paper, \"affiliation error: \" + str(affilerror) ))\n",
    "            continue\n",
    "        \n",
    "        # Hack because sometimes author parsing does not work well\n",
    "        if (len(doc.authors) != len(paper['authors'])):\n",
    "            doc._authors = paper['authors']\n",
    "        else:\n",
    "            # highlight authors (FIXME: doc.highlight_authors)\n",
    "            # done on arxiv paper already\n",
    "            doc._authors = highlight_authors_in_list(\n",
    "                [mpia.get_initials(k) for k in doc.authors], \n",
    "                normed_mpia_authors, verbose=True)\n",
    "        if (doc.abstract) in (None, ''):\n",
    "            doc._abstract = paper['abstract']\n",
    "            \n",
    "        doc.comment = (get_markdown_badge(paper_id) + \n",
    "                       \"<mark>Appeared on: \" + paper['date'] + \"</mark> - \")\n",
    "        if paper['comments']:\n",
    "            doc.comment += \" _\" + paper['comments'] + \"_\"\n",
    "        \n",
    "        full_md = doc.generate_markdown_text()\n",
    "        \n",
    "        full_md += get_markdown_qrcode(paper_id)\n",
    "        \n",
    "        # replace citations\n",
    "        try:\n",
    "            bibdata = latex_bib.LatexBib.from_doc(doc)\n",
    "            full_md = latex_bib.replace_citations(full_md, bibdata)\n",
    "        except Exception as e:\n",
    "            print(e)\n",
    "        \n",
    "        documents.append((paper_id, full_md))\n",
    "    except Exception as e:\n",
    "        warnings.warn(latex.LatexWarning(f\"{paper_id:s} did not run properly\\n\" +\n",
    "                                         str(e)\n",
    "                                        ))\n",
    "        failed.append((paper, \"latex error \" + str(e)))"
   ]
  },
  {
   "cell_type": "markdown",
   "id": "2505a25c",
   "metadata": {
    "papermill": {
     "duration": 0.005138,
     "end_time": "2023-10-10T04:08:13.848729",
     "exception": false,
     "start_time": "2023-10-10T04:08:13.843591",
     "status": "completed"
    },
    "tags": []
   },
   "source": [
    "### Export the logs\n",
    "\n",
    "Throughout, we also keep track of the logs per paper. see `logs-{today date}.md` "
   ]
  },
  {
   "cell_type": "code",
   "execution_count": 5,
   "id": "d733828a",
   "metadata": {
    "execution": {
     "iopub.execute_input": "2023-10-10T04:08:13.860571Z",
     "iopub.status.busy": "2023-10-10T04:08:13.859772Z",
     "iopub.status.idle": "2023-10-10T04:08:13.880250Z",
     "shell.execute_reply": "2023-10-10T04:08:13.879566Z"
    },
    "papermill": {
     "duration": 0.027996,
     "end_time": "2023-10-10T04:08:13.881774",
     "exception": false,
     "start_time": "2023-10-10T04:08:13.853778",
     "status": "completed"
    },
    "scrolled": false,
    "tags": []
   },
   "outputs": [
    {
     "data": {
      "text/markdown": [
       "## Successful papers"
      ],
      "text/plain": [
       "<IPython.core.display.Markdown object>"
      ]
     },
     "metadata": {},
     "output_type": "display_data"
    },
    {
     "data": {
      "text/markdown": [
       "\n",
       "|||\n",
       "|---:|:---|\n",
       "| [![arXiv](https://img.shields.io/badge/arXiv-arXiv:2310.05599-b31b1b.svg)](https://arxiv.org/abs/arXiv:2310.05599) | **Planetary companions orbiting the M dwarfs GJ 724 and GJ 3988. A  CARMENES and IRD collaboration**  |\n",
       "|| P. Gorrini, et al. -- incl., <mark>R. Burn</mark>, <mark>M. Kürster</mark> |\n",
       "|*Appeared on*| *2023-10-10*|\n",
       "|*Comments*| *A&A in press*|\n",
       "|**Abstract**| We report the discovery of two exoplanets around the M dwarfs GJ 724 and GJ 3988 using the radial velocity (RV) method. We obtained a total of 153 3.5 m Calar Alto/CARMENES spectra for both targets and measured their RVs and activity indicators. We also added archival ESO/HARPS data for GJ 724 and infrared RV measurements from Subaru/IRD for GJ 3988. We searched for periodic and stable signals to subsequently construct Keplerian models, considering different numbers of planets, and we selected the best models based on their Bayesian evidence. Gaussian process (GP) regression was included in some models to account for activity signals. For both systems, the best model corresponds to one single planet. The minimum masses are $10.75^{+0.96}_{-0.87}$ and $3.69^{+0.42}_{-0.41}$ Earth-masses for GJ 724 b and GJ 3988 b, respectively. Both planets have short periods (P < 10 d) and, therefore, they orbit their star closely (a < 0.05 au). GJ 724 b has an eccentric orbit (e = $0.577^{+0.055}_{-0.052}$), whereas the orbit of GJ 3988 b is circular. The high eccentricity of GJ 724 b makes it the most eccentric single exoplanet (to this date) around an M dwarf. Thus, we suggest a further analysis to understand its configuration in the context of planetary formation and architecture. In contrast, GJ 3988 b is an example of a common type of planet around mid-M dwarfs. |"
      ],
      "text/plain": [
       "[arXiv:2310.05599] Planetary companions orbiting the M dwarfs GJ 724 and GJ 3988. A  CARMENES and IRD collaboration\n",
       "\tP. Gorrini, et al. -- incl., <mark>R. Burn</mark>, <mark>M. Kürster</mark>"
      ]
     },
     "metadata": {},
     "output_type": "display_data"
    },
    {
     "data": {
      "text/markdown": [
       "## Failed papers"
      ],
      "text/plain": [
       "<IPython.core.display.Markdown object>"
      ]
     },
     "metadata": {},
     "output_type": "display_data"
    },
    {
     "data": {
      "text/markdown": [
       "\n",
       "|||\n",
       "|---:|:---|\n",
       "| [![arXiv](https://img.shields.io/badge/arXiv-arXiv:2310.05740-b31b1b.svg)](https://arxiv.org/abs/arXiv:2310.05740) | **Multicolor Photometry of Tiny Near-Earth Asteroid 2015 RN$_{35}$ Across  a Wide Range of Phase Angles: Possible Mission Accessible A-type Asteroid**  |\n",
       "|| J. Beniyama, et al. -- incl., <mark>K. Lee</mark> |\n",
       "|*Appeared on*| *2023-10-10*|\n",
       "|*Comments*| *Accepted for publication in the Astronomical Journal. Any comments are welcome*|\n",
       "|**Abstract**| Studying small near-Earth asteroids is important to understand their dynamical histories and origins as well as to mitigate the damage of the asteroid impact to the Earth. We report the results of multicolor photometry of the tiny near-Earth asteroid 2015 RN$_{35}$ using the 3.8 m Seimei telescope in Japan and the TRAPPIST-South telescope in Chile over 17 nights in 2022 December and 2023 January. We observed 2015 RN$_{35}$ across a wide range of phase angles from 2$^{\\circ}$ to 30$^{\\circ}$ in the $g$, $r$, $i$, and $z$ bands in the Pan-STARRS system. These lightcurves show that 2015 RN$_{35}$ is in a non-principal axis spin state with two characteristic periods of $1149.7\\pm0.3$ s and $896.01\\pm0.01$ s. We found that a slope of a visible spectrum of 2015 RN$_{35}$ is as red as asteroid (269) Justitia, one of the very red objects in the main belt, which indicates that 2015 RN$_{35}$ can be classified as an A- or Z-type asteroid. In conjunction with the shallow slope of the phase curve, we suppose that 2015 RN$_{35}$ is a high-albedo A-type asteroid. We demonstrated that surface properties of tiny asteroids could be well constrained by intensive observations across a wide range of phase angles. 2015 RN$_{35}$ is a possible mission accessible A-type near-Earth asteroid with a small $\\Delta v$ of 11.801 km s$^{-1}$ in the launch window between 2030 and 2035. |\n",
       "|<p style=\"color:green\"> **ERROR** </p>| <p style=\"color:green\">affiliation error: mpia.affiliation_verifications: '69117' keyword not found.</p> |"
      ],
      "text/plain": [
       "<IPython.core.display.Markdown object>"
      ]
     },
     "metadata": {},
     "output_type": "display_data"
    },
    {
     "data": {
      "text/markdown": [
       "\n",
       "|||\n",
       "|---:|:---|\n",
       "| [![arXiv](https://img.shields.io/badge/arXiv-arXiv:2310.04499-b31b1b.svg)](https://arxiv.org/abs/arXiv:2310.04499) | **Exploring chemical enrichment of the intracluster medium with the Line  Emission Mapper**  |\n",
       "|| F. Mernier, et al. -- incl., <mark>A. Pillepich</mark> |\n",
       "|*Appeared on*| *2023-10-10*|\n",
       "|*Comments*| *19 pages. White paper for a mission concept to be submitted for the 2023 NASA Astrophysics Probes opportunity*|\n",
       "|**Abstract**| Synthesized in the cores of stars and supernovae, most metals disperse over cosmic scales and are ultimately deposited well outside the gravitational potential of their host galaxies. Since their presence is well visible through their X-ray emission lines in the hot gas pervading galaxy clusters, measuring metal abundances in the intracluster medium (ICM) offers us a unique view of chemical enrichment of the Universe as a whole. Despite extraordinary progress in the field thanks to four decades of X-ray spectroscopy using CCD (and gratings) instruments, understanding the precise stellar origins of the bulk of metals, and when the latter were mixed on Mpc scales, requires an X-ray mission capable of spatial, non-dispersive high resolution spectroscopy covering at least the soft X-ray band over a large field of view. In this White Paper, we demonstrate how the Line Emission Mapper (LEM) probe mission concept will revolutionize our current picture of the ICM enrichment. Specifically, we show that LEM will be able to (i) spatially map the distribution of ten key chemical elements out to the virial radius of a nearby relaxed cluster and (ii) measure metal abundances in serendipitously discovered high-redshift protoclusters. Altogether, these key observables will allow us to constrain the chemical history of the largest gravitationally bound structures of the Universe. They will also solve key questions such as the universality of the initial mass function (IMF) and the initial metallicity of the stellar populations producing these metals, as well as the relative contribution of asymptotic giant branch (AGB) stars, core-collapse, and Type Ia supernovae to enrich the cosmic web over Mpc scales. Concrete observing strategies are also briefly discussed. |\n",
       "|<p style=\"color:red\"> **ERROR** </p>| <p style=\"color:red\">latex error list index out of range</p> |"
      ],
      "text/plain": [
       "<IPython.core.display.Markdown object>"
      ]
     },
     "metadata": {},
     "output_type": "display_data"
    }
   ],
   "source": [
    "import datetime\n",
    "today = str(datetime.date.today())\n",
    "logfile = f\"_build/html/logs/log-{today}.md\"\n",
    "\n",
    "\n",
    "with open(logfile, 'w') as logs:\n",
    "    # Success\n",
    "    logs.write(f'# Arxiv on Deck 2: Logs - {today}\\n\\n')\n",
    "    logs.write(\"\"\"* Arxiv had {0:,d} new papers\\n\"\"\".format(len(new_papers)))\n",
    "    logs.write(\"\"\"    * {0:,d} with possible author matches\\n\\n\"\"\".format(len(candidates)))\n",
    "    logs.write(\"## Sucessful papers\\n\\n\")\n",
    "    display(Markdown(\"## Successful papers\"))\n",
    "    success = [k[0] for k in documents]\n",
    "    for candid in candidates:\n",
    "        if candid['identifier'].split(':')[-1] in success:\n",
    "            display(candid)\n",
    "            logs.write(candid.generate_markdown_text() + '\\n\\n')\n",
    "\n",
    "    ## failed\n",
    "    logs.write(\"## Failed papers\\n\\n\")\n",
    "    display(Markdown(\"## Failed papers\"))\n",
    "    failed = sorted(failed, key=lambda x: x[1])\n",
    "    current_reason = \"\"\n",
    "    for paper, reason in failed:\n",
    "        if 'affiliation' in reason:\n",
    "            color = 'green'\n",
    "        else:\n",
    "            color = 'red'\n",
    "        data = Markdown(\n",
    "                paper.generate_markdown_text() + \n",
    "                f'\\n|<p style=\"color:{color:s}\"> **ERROR** </p>| <p style=\"color:{color:s}\">{reason:s}</p> |'\n",
    "               )\n",
    "        if reason != current_reason:\n",
    "            logs.write(f'### {reason:s} \\n\\n')\n",
    "            current_reason = reason\n",
    "        logs.write(data.data + '\\n\\n')\n",
    "        \n",
    "        # only display here the important errors (all in logs)\n",
    "        # if color in ('red',):\n",
    "        display(data)"
   ]
  },
  {
   "cell_type": "markdown",
   "id": "472d20ee",
   "metadata": {
    "papermill": {
     "duration": 0.005966,
     "end_time": "2023-10-10T04:08:13.893663",
     "exception": false,
     "start_time": "2023-10-10T04:08:13.887697",
     "status": "completed"
    },
    "tags": []
   },
   "source": [
    "## Export documents\n",
    "\n",
    "We now write the .md files and export relevant images"
   ]
  },
  {
   "cell_type": "code",
   "execution_count": 6,
   "id": "d426aed9",
   "metadata": {
    "execution": {
     "iopub.execute_input": "2023-10-10T04:08:13.906183Z",
     "iopub.status.busy": "2023-10-10T04:08:13.905682Z",
     "iopub.status.idle": "2023-10-10T04:08:13.914032Z",
     "shell.execute_reply": "2023-10-10T04:08:13.913430Z"
    },
    "papermill": {
     "duration": 0.016528,
     "end_time": "2023-10-10T04:08:13.915656",
     "exception": false,
     "start_time": "2023-10-10T04:08:13.899128",
     "status": "completed"
    },
    "tags": []
   },
   "outputs": [],
   "source": [
    "def export_markdown_summary(md: str, md_fname:str, directory: str):\n",
    "    \"\"\"Export MD document and associated relevant images\"\"\"\n",
    "    import os\n",
    "    import shutil\n",
    "    import re\n",
    "\n",
    "    if (os.path.exists(directory) and not os.path.isdir(directory)):\n",
    "        raise RuntimeError(f\"a non-directory file exists with name {directory:s}\")\n",
    "\n",
    "    if (not os.path.exists(directory)):\n",
    "        print(f\"creating directory {directory:s}\")\n",
    "        os.mkdir(directory)\n",
    "\n",
    "    fig_fnames = (re.compile(r'\\[Fig.*\\]\\((.*)\\)').findall(md) + \n",
    "                  re.compile(r'\\<img src=\"([^>\\s]*)\"[^>]*/>').findall(md))\n",
    "    for fname in fig_fnames:\n",
    "        if 'http' in fname:\n",
    "            # No need to copy online figures\n",
    "            continue\n",
    "        destdir = os.path.join(directory, os.path.dirname(fname))\n",
    "        destfname = os.path.join(destdir, os.path.basename(fname))\n",
    "        try:\n",
    "            os.makedirs(destdir)\n",
    "        except FileExistsError:\n",
    "            pass\n",
    "        shutil.copy(fname, destfname)\n",
    "    with open(os.path.join(directory, md_fname), 'w') as fout:\n",
    "        fout.write(md)\n",
    "    print(\"exported in \", os.path.join(directory, md_fname))\n",
    "    [print(\"    + \" + os.path.join(directory,fk)) for fk in fig_fnames]"
   ]
  },
  {
   "cell_type": "code",
   "execution_count": 7,
   "id": "014d04a4",
   "metadata": {
    "execution": {
     "iopub.execute_input": "2023-10-10T04:08:13.929579Z",
     "iopub.status.busy": "2023-10-10T04:08:13.928919Z",
     "iopub.status.idle": "2023-10-10T04:08:13.935285Z",
     "shell.execute_reply": "2023-10-10T04:08:13.934567Z"
    },
    "papermill": {
     "duration": 0.015122,
     "end_time": "2023-10-10T04:08:13.936846",
     "exception": false,
     "start_time": "2023-10-10T04:08:13.921724",
     "status": "completed"
    },
    "tags": []
   },
   "outputs": [
    {
     "name": "stdout",
     "output_type": "stream",
     "text": [
      "exported in  _build/html/2310.05599.md\n",
      "    + _build/html/tmp_2310.05599/./figures/GLS_activity_selected_J18409-133_1.png\n",
      "    + _build/html/tmp_2310.05599/./figures/GLS_activity_selected_J18409-133_2.png\n",
      "    + _build/html/tmp_2310.05599/./figures/J18409-133_detection_map.png\n",
      "    + _build/html/tmp_2310.05599/./figures/Phased_RV_P1_5d.png\n"
     ]
    }
   ],
   "source": [
    "for paper_id, md in documents:\n",
    "    export_markdown_summary(md, f\"{paper_id:s}.md\", '_build/html/')"
   ]
  },
  {
   "cell_type": "markdown",
   "id": "f087a0a7",
   "metadata": {
    "papermill": {
     "duration": 0.00566,
     "end_time": "2023-10-10T04:08:13.948396",
     "exception": false,
     "start_time": "2023-10-10T04:08:13.942736",
     "status": "completed"
    },
    "tags": []
   },
   "source": [
    "## Display the papers\n",
    "\n",
    "Not necessary but allows for a quick check."
   ]
  },
  {
   "cell_type": "code",
   "execution_count": 8,
   "id": "fd25f625",
   "metadata": {
    "execution": {
     "iopub.execute_input": "2023-10-10T04:08:13.961826Z",
     "iopub.status.busy": "2023-10-10T04:08:13.961332Z",
     "iopub.status.idle": "2023-10-10T04:08:13.966718Z",
     "shell.execute_reply": "2023-10-10T04:08:13.966022Z"
    },
    "papermill": {
     "duration": 0.014064,
     "end_time": "2023-10-10T04:08:13.968406",
     "exception": false,
     "start_time": "2023-10-10T04:08:13.954342",
     "status": "completed"
    },
    "scrolled": false,
    "tags": []
   },
   "outputs": [
    {
     "data": {
      "text/markdown": [
       "<div class=\"macros\" style=\"visibility:hidden;\">\n",
       "$\\newcommand{\\ensuremath}{}$\n",
       "$\\newcommand{\\xspace}{}$\n",
       "$\\newcommand{\\object}[1]{\\texttt{#1}}$\n",
       "$\\newcommand{\\farcs}{{.}''}$\n",
       "$\\newcommand{\\farcm}{{.}'}$\n",
       "$\\newcommand{\\arcsec}{''}$\n",
       "$\\newcommand{\\arcmin}{'}$\n",
       "$\\newcommand{\\ion}[2]{#1#2}$\n",
       "$\\newcommand{\\textsc}[1]{\\textrm{#1}}$\n",
       "$\\newcommand{\\hl}[1]{\\textrm{#1}}$\n",
       "$\\newcommand{\\footnote}[1]{}$\n",
       "$\\newcommand{\\sherlock}{{\\fontfamily{pcr}\\selectfont SHERLOCK} }$\n",
       "$\\newcommand{\\matrixtk}{{\\fontfamily{pcr}\\selectfont MATRIX} }$\n",
       "$\\newcommand{\\TODO}[1]{\\textcolor{magenta}{\\textsc{todo:} \\textit{#1}}}$\n",
       "$\\newcommand{\\autoref}$\n",
       "$\\newcommand{\\equationautorefname}{Eq.}$\n",
       "$\\newcommand{\\figureautorefname}{Fig.}$\n",
       "$\\newcommand{\\sectionautorefname}{Sect.}$\n",
       "$\\newcommand{\\subsectionautorefname}{Sect.}$\n",
       "$\\newcommand{\\subsubsectionautorefname}{Sect.}$</div>\n",
       "\n",
       "\n",
       "\n",
       "<div id=\"title\">\n",
       "\n",
       "# Planetary companions orbiting the M dwarfs GJ 724 and GJ 3988\n",
       "\n",
       "</div>\n",
       "<div id=\"comments\">\n",
       "\n",
       "[![arXiv](https://img.shields.io/badge/arXiv-2310.05599-b31b1b.svg)](https://arxiv.org/abs/2310.05599)<mark>Appeared on: 2023-10-10</mark> -  _A&A in press_\n",
       "\n",
       "</div>\n",
       "<div id=\"authors\">\n",
       "\n",
       "P. Gorrini, et al. -- incl., <mark>R. Burn</mark>, <mark>M. Kürster</mark>\n",
       "\n",
       "</div>\n",
       "<div id=\"abstract\">\n",
       "\n",
       "**Abstract:** We report the discovery of two exoplanets around the M dwarfs GJ 724 and GJ 3988 using the radial velocity (RV) method. We obtained a total of 153 3.5 m Calar Alto/CARMENES spectra for both targets and measured their RVs and activity indicators. We also added archival ESO/HARPS data for GJ 724 and infrared RV measurements from Subaru/IRD for GJ 3988. We searched for periodic and stable signals to subsequently construct Keplerian models, considering different numbers of planets, and we selected the best models based on their Bayesian evidence. Gaussian process (GP) regression was included in some models to account for activity signals. For both systems, the best model corresponds to one single planet. The minimum masses are $10.75^{+0.96}_{-0.87}$ and $3.69^{+0.42}_{-0.41}$ Earth-masses for GJ 724 b and GJ 3988 b, respectively. Both planets have short periods ( $P < \\SI{10}{\\day}$ ) and, therefore, they orbit their star closely ( $a < \\SI{0.05}{\\astronomicalunit}$ ).  GJ 724 b has an eccentric orbit ( $e = 0.577^{+0.055}_{-0.052}$ ), whereas the orbit of GJ 3988 b is circular. The high eccentricity of GJ 724 b makes it the most eccentric single exoplanet (to this date) around an M dwarf. Thus, we suggest a further analysis to understand its configuration in the context of planetary formation and architecture. In contrast, GJ 3988 b is an example of a common type of planet around mid-M dwarfs.\n",
       "\n",
       "</div>\n",
       "\n",
       "<div id=\"div_fig1\">\n",
       "\n",
       "<img src=\"tmp_2310.05599/./figures/GLS_activity_selected_J18409-133_1.png\" alt=\"Fig18.1\" width=\"50%\"/><img src=\"tmp_2310.05599/./figures/GLS_activity_selected_J18409-133_2.png\" alt=\"Fig18.2\" width=\"50%\"/>\n",
       "\n",
       "**Figure 18. -** GLS periodograms of the (combined) photometric data and spectroscopic activity indicators from GJ 724 with peaks that reach at least a FAP level of 10\\% in the period range of \\SI{2}{\\day} to \\SI{200}{\\day}. The gray dashed horizontal lines correspond to the FAP levels of 0.1\\%, 1\\%, and 10\\%(from top to bottom, respectively). The mean rotation period of \\SI{56}{\\day} determined from the photometry is marked by the blue dashed line, while its second harmonic (${P_{rot}}/2$) of \\SI{28}{\\day} is depicted by the orange dashed line. The period of the 5.1-day planet is highlighted by the red solid line. (*fig:activity_GLS_GJ724*)\n",
       "\n",
       "</div>\n",
       "<div id=\"div_fig2\">\n",
       "\n",
       "<img src=\"tmp_2310.05599/./figures/J18409-133_detection_map.png\" alt=\"Fig7\" width=\"100%\"/>\n",
       "\n",
       "**Figure 7. -** Detection limit map of the RVs of GJ 724. The colour map represents the detection probability of the period-mass combination. The Grid is $50 \\times 50$ in mass and period, with 50 phase samples for each combination. The blue star indicates the planet GJ 724 b.  (*fig:GJ724_detection_map*)\n",
       "\n",
       "</div>\n",
       "<div id=\"div_fig3\">\n",
       "\n",
       "<img src=\"tmp_2310.05599/./figures/Phased_RV_P1_5d.png\" alt=\"Fig3\" width=\"100%\"/>\n",
       "\n",
       "**Figure 3. -** Phased RVs for GJ 724 b from the best fit model ($\\text{1P}_\\text{(5 d-ecc)} + \\text{dSHO-GP}_\\text{28 d}$). The red dots show the CARMENES data while the teal squares depicts the HARPS data. The black lines show the median of \\num{10000} samples from the posterior. The residuals after subtracting the median model are shown in the lower panel. (*fig:phasefolded_GJ724*)\n",
       "\n",
       "</div><div id=\"qrcode\"><img src=https://api.qrserver.com/v1/create-qr-code/?size=100x100&data=\"https://arxiv.org/abs/2310.05599\"></div>"
      ],
      "text/plain": [
       "<IPython.core.display.Markdown object>"
      ]
     },
     "metadata": {},
     "output_type": "display_data"
    }
   ],
   "source": [
    "[display(Markdown(k[1])) for k in documents];"
   ]
  },
  {
   "cell_type": "markdown",
   "id": "873873a4",
   "metadata": {
    "papermill": {
     "duration": 0.006052,
     "end_time": "2023-10-10T04:08:13.980520",
     "exception": false,
     "start_time": "2023-10-10T04:08:13.974468",
     "status": "completed"
    },
    "tags": []
   },
   "source": [
    "# Create HTML index"
   ]
  },
  {
   "cell_type": "code",
   "execution_count": 9,
   "id": "cf665672",
   "metadata": {
    "execution": {
     "iopub.execute_input": "2023-10-10T04:08:13.994275Z",
     "iopub.status.busy": "2023-10-10T04:08:13.993502Z",
     "iopub.status.idle": "2023-10-10T04:08:14.005876Z",
     "shell.execute_reply": "2023-10-10T04:08:14.005118Z"
    },
    "papermill": {
     "duration": 0.021347,
     "end_time": "2023-10-10T04:08:14.007654",
     "exception": false,
     "start_time": "2023-10-10T04:08:13.986307",
     "status": "completed"
    },
    "tags": []
   },
   "outputs": [
    {
     "name": "stdout",
     "output_type": "stream",
     "text": [
      "289  publications files modified in the last 7 days.\n"
     ]
    }
   ],
   "source": [
    "from datetime import datetime, timedelta, timezone\n",
    "from glob import glob\n",
    "import os\n",
    "\n",
    "files = glob('_build/html/*.md')\n",
    "days = 7\n",
    "now = datetime.today()\n",
    "res = []\n",
    "for fk in files:\n",
    "    stat_result = os.stat(fk).st_ctime\n",
    "    modified = datetime.fromtimestamp(stat_result, tz=timezone.utc).replace(tzinfo=None)\n",
    "    delta = now.today() - modified\n",
    "    if delta <= timedelta(days=days):\n",
    "        res.append((delta.seconds, fk))\n",
    "res = [k[1] for k in reversed(sorted(res, key=lambda x:x[1]))]\n",
    "npub = len(res)\n",
    "print(len(res), f\" publications files modified in the last {days:d} days.\")\n",
    "# [ print('\\t', k) for k in res ];"
   ]
  },
  {
   "cell_type": "code",
   "execution_count": 10,
   "id": "015de740",
   "metadata": {
    "execution": {
     "iopub.execute_input": "2023-10-10T04:08:14.022885Z",
     "iopub.status.busy": "2023-10-10T04:08:14.022154Z",
     "iopub.status.idle": "2023-10-10T04:08:14.047923Z",
     "shell.execute_reply": "2023-10-10T04:08:14.047075Z"
    },
    "papermill": {
     "duration": 0.035606,
     "end_time": "2023-10-10T04:08:14.049864",
     "exception": false,
     "start_time": "2023-10-10T04:08:14.014258",
     "status": "completed"
    },
    "tags": []
   },
   "outputs": [
    {
     "name": "stdout",
     "output_type": "stream",
     "text": [
      "4  publications in the last 7 days.\n"
     ]
    }
   ],
   "source": [
    "import datetime\n",
    "from glob import glob\n",
    "\n",
    "def get_last_n_days(lst, days=1):\n",
    "    \"\"\" Get the documents from the last n days \"\"\"\n",
    "    sorted_lst = sorted(lst, key=lambda x: x[1], reverse=True)\n",
    "    for fname, date in sorted_lst:\n",
    "        if date >= str(datetime.date.today() - datetime.timedelta(days=days)):\n",
    "            yield fname\n",
    "\n",
    "def extract_appearance_dates(lst_file):\n",
    "    dates = []\n",
    "\n",
    "    def get_date(line):\n",
    "        return line\\\n",
    "            .split('Appeared on:')[-1]\\\n",
    "            .split('</mark>')[0].strip()\n",
    "\n",
    "    for fname in lst:\n",
    "        with open(fname, 'r') as f:\n",
    "            found_date = False\n",
    "            for line in f:\n",
    "                if not found_date:\n",
    "                    if \"Appeared on\" in line:\n",
    "                        found_date = True\n",
    "                        dates.append((fname, get_date(line)))\n",
    "                else:\n",
    "                    break\n",
    "    return dates\n",
    "\n",
    "from glob import glob\n",
    "lst = glob('_build/html/*md')\n",
    "days = 7\n",
    "dates = extract_appearance_dates(lst)\n",
    "res = list(get_last_n_days(dates, days))\n",
    "npub = len(res)\n",
    "print(len(res), f\" publications in the last {days:d} days.\")"
   ]
  },
  {
   "cell_type": "code",
   "execution_count": 11,
   "id": "52ca0208",
   "metadata": {
    "execution": {
     "iopub.execute_input": "2023-10-10T04:08:14.065265Z",
     "iopub.status.busy": "2023-10-10T04:08:14.064741Z",
     "iopub.status.idle": "2023-10-10T04:08:14.070862Z",
     "shell.execute_reply": "2023-10-10T04:08:14.070067Z"
    },
    "papermill": {
     "duration": 0.015919,
     "end_time": "2023-10-10T04:08:14.072838",
     "exception": false,
     "start_time": "2023-10-10T04:08:14.056919",
     "status": "completed"
    },
    "scrolled": false,
    "tags": []
   },
   "outputs": [],
   "source": [
    "def create_carousel(npub=4):\n",
    "    \"\"\" Generate the HTML code for a carousel with `npub` slides \"\"\"\n",
    "    carousel = [\"\"\"  <div class=\"carousel\" \"\"\",\n",
    "                \"\"\"       data-flickity='{ \"autoPlay\": 10000, \"adaptiveHeight\": true, \"resize\": true, \"wrapAround\": true, \"pauseAutoPlayOnHover\": true, \"groupCells\": 1 }' id=\"asyncTypeset\">\"\"\"\n",
    "                ]\n",
    "    \n",
    "    item_str = \"\"\"    <div class=\"carousel-cell\"> <div id=\"slide{k}\" class=\"md_view\">Content {k}</div> </div>\"\"\"\n",
    "    for k in range(1, npub + 1):\n",
    "        carousel.append(item_str.format(k=k))\n",
    "    carousel.append(\"  </div>\")\n",
    "    return '\\n'.join(carousel)\n",
    "\n",
    "def create_grid(npub=4):\n",
    "    \"\"\" Generate the HTML code for a flat grid with `npub` slides \"\"\"\n",
    "    grid = [\"\"\"  <div class=\"grid\"> \"\"\",\n",
    "                ]\n",
    "    \n",
    "    item_str = \"\"\"    <div class=\"grid-item\"> <div id=\"slide{k}\" class=\"md_view\">Content {k}</div> </div>\"\"\"\n",
    "    for k in range(1, npub + 1):\n",
    "        grid.append(item_str.format(k=k))\n",
    "    grid.append(\"  </div>\")\n",
    "    return '\\n'.join(grid)"
   ]
  },
  {
   "cell_type": "code",
   "execution_count": 12,
   "id": "a6eac5b6",
   "metadata": {
    "execution": {
     "iopub.execute_input": "2023-10-10T04:08:14.087875Z",
     "iopub.status.busy": "2023-10-10T04:08:14.087602Z",
     "iopub.status.idle": "2023-10-10T04:08:14.094158Z",
     "shell.execute_reply": "2023-10-10T04:08:14.093189Z"
    },
    "papermill": {
     "duration": 0.016579,
     "end_time": "2023-10-10T04:08:14.095846",
     "exception": false,
     "start_time": "2023-10-10T04:08:14.079267",
     "status": "completed"
    },
    "scrolled": false,
    "tags": []
   },
   "outputs": [],
   "source": [
    "carousel = create_carousel(npub)\n",
    "docs = ', '.join(['\"{0:s}\"'.format(k.split('/')[-1]) for k in res])\n",
    "slides = ', '.join([f'\"slide{k}\"' for k in range(1, npub + 1)])\n",
    "\n",
    "with open(\"daily_template.html\", \"r\") as tpl:\n",
    "    page = tpl.read()\n",
    "    page = page.replace(\"{%-- carousel:s --%}\", carousel)\\\n",
    "               .replace(\"{%-- suptitle:s --%}\",  \"7-day archives\" )\\\n",
    "               .replace(\"{%-- docs:s --%}\", docs)\\\n",
    "               .replace(\"{%-- slides:s --%}\", slides)\n",
    "    \n",
    "with open(\"_build/html/index_7days.html\", 'w') as fout:\n",
    "    fout.write(page)"
   ]
  },
  {
   "cell_type": "code",
   "execution_count": 13,
   "id": "adc1a1ec",
   "metadata": {
    "execution": {
     "iopub.execute_input": "2023-10-10T04:08:14.111956Z",
     "iopub.status.busy": "2023-10-10T04:08:14.111230Z",
     "iopub.status.idle": "2023-10-10T04:08:14.119986Z",
     "shell.execute_reply": "2023-10-10T04:08:14.119222Z"
    },
    "papermill": {
     "duration": 0.018754,
     "end_time": "2023-10-10T04:08:14.121783",
     "exception": false,
     "start_time": "2023-10-10T04:08:14.103029",
     "status": "completed"
    },
    "tags": []
   },
   "outputs": [
    {
     "name": "stdout",
     "output_type": "stream",
     "text": [
      "1  publications in the last day.\n"
     ]
    }
   ],
   "source": [
    "# redo for today\n",
    "days = 1\n",
    "res = list(get_last_n_days(dates, days))\n",
    "npub = len(res)\n",
    "print(len(res), f\" publications in the last day.\")\n",
    "\n",
    "carousel = create_carousel(npub)\n",
    "docs = ', '.join(['\"{0:s}\"'.format(k.split('/')[-1]) for k in res])\n",
    "slides = ', '.join([f'\"slide{k}\"' for k in range(1, npub + 1)])\n",
    "\n",
    "with open(\"daily_template.html\", \"r\") as tpl:\n",
    "    page = tpl.read()\n",
    "    page = page.replace(\"{%-- carousel:s --%}\", carousel)\\\n",
    "               .replace(\"{%-- suptitle:s --%}\",  \"Daily\" )\\\n",
    "               .replace(\"{%-- docs:s --%}\", docs)\\\n",
    "               .replace(\"{%-- slides:s --%}\", slides)\n",
    "    \n",
    "# print(carousel, docs, slides)\n",
    "# print(page)\n",
    "with open(\"_build/html/index_daily.html\", 'w') as fout:\n",
    "    fout.write(page)"
   ]
  },
  {
   "cell_type": "code",
   "execution_count": 14,
   "id": "00eece82",
   "metadata": {
    "execution": {
     "iopub.execute_input": "2023-10-10T04:08:14.137295Z",
     "iopub.status.busy": "2023-10-10T04:08:14.136742Z",
     "iopub.status.idle": "2023-10-10T04:08:14.145086Z",
     "shell.execute_reply": "2023-10-10T04:08:14.144348Z"
    },
    "papermill": {
     "duration": 0.01822,
     "end_time": "2023-10-10T04:08:14.146640",
     "exception": false,
     "start_time": "2023-10-10T04:08:14.128420",
     "status": "completed"
    },
    "scrolled": false,
    "tags": []
   },
   "outputs": [
    {
     "name": "stdout",
     "output_type": "stream",
     "text": [
      "6  6 publications selected.\n"
     ]
    }
   ],
   "source": [
    "# Create the flat grid of the last N papers (fixed number regardless of dates)\n",
    "from itertools import islice \n",
    "\n",
    "npub = 6\n",
    "res = [k[0] for k in (islice(reversed(sorted(dates, key=lambda x: x[1])), 6))]\n",
    "print(len(res), f\" {npub} publications selected.\")\n",
    "\n",
    "grid = create_grid(npub)\n",
    "docs = ', '.join(['\"{0:s}\"'.format(k.split('/')[-1]) for k in res])\n",
    "slides = ', '.join([f'\"slide{k}\"' for k in range(1, npub + 1)])\n",
    "\n",
    "with open(\"grid_template.html\", \"r\") as tpl:\n",
    "    page = tpl.read()\n",
    "    page = page.replace(\"{%-- grid-content:s --%}\", grid)\\\n",
    "               .replace(\"{%-- suptitle:s --%}\",  f\"Last {npub:,d} papers\" )\\\n",
    "               .replace(\"{%-- docs:s --%}\", docs)\\\n",
    "               .replace(\"{%-- slides:s --%}\", slides)\n",
    "    \n",
    "# print(grid, docs, slides)\n",
    "# print(page)\n",
    "with open(\"_build/html/index_npub_grid.html\", 'w') as fout:\n",
    "    fout.write(page)"
   ]
  }
 ],
 "metadata": {
  "kernelspec": {
   "display_name": "Python 3 (ipykernel)",
   "language": "python",
   "name": "python3"
  },
  "language_info": {
   "codemirror_mode": {
    "name": "ipython",
    "version": 3
   },
   "file_extension": ".py",
   "mimetype": "text/x-python",
   "name": "python",
   "nbconvert_exporter": "python",
   "pygments_lexer": "ipython3",
   "version": "3.9.18"
  },
  "papermill": {
   "default_parameters": {},
   "duration": 131.116127,
   "end_time": "2023-10-10T04:08:14.474678",
   "environment_variables": {},
   "exception": null,
   "input_path": "MPIA daily digest.ipynb",
   "output_path": "log.ipynb",
   "parameters": {},
   "start_time": "2023-10-10T04:06:03.358551",
   "version": "2.4.0"
  },
  "vscode": {
   "interpreter": {
    "hash": "aee8b7b246df8f9039afb4144a1f6fd8d2ca17a180786b69acc140d282b71a49"
   }
  },
  "widgets": {
   "application/vnd.jupyter.widget-state+json": {
    "state": {
     "075def778dd047879efafef1cf78da31": {
      "model_module": "@jupyter-widgets/base",
      "model_module_version": "2.0.0",
      "model_name": "LayoutModel",
      "state": {
       "_model_module": "@jupyter-widgets/base",
       "_model_module_version": "2.0.0",
       "_model_name": "LayoutModel",
       "_view_count": null,
       "_view_module": "@jupyter-widgets/base",
       "_view_module_version": "2.0.0",
       "_view_name": "LayoutView",
       "align_content": null,
       "align_items": null,
       "align_self": null,
       "border_bottom": null,
       "border_left": null,
       "border_right": null,
       "border_top": null,
       "bottom": null,
       "display": null,
       "flex": null,
       "flex_flow": null,
       "grid_area": null,
       "grid_auto_columns": null,
       "grid_auto_flow": null,
       "grid_auto_rows": null,
       "grid_column": null,
       "grid_gap": null,
       "grid_row": null,
       "grid_template_areas": null,
       "grid_template_columns": null,
       "grid_template_rows": null,
       "height": null,
       "justify_content": null,
       "justify_items": null,
       "left": null,
       "margin": null,
       "max_height": null,
       "max_width": null,
       "min_height": null,
       "min_width": null,
       "object_fit": null,
       "object_position": null,
       "order": null,
       "overflow": null,
       "padding": null,
       "right": null,
       "top": null,
       "visibility": null,
       "width": null
      }
     },
     "31cfb941d9774b22b5f6126ef6d59f7e": {
      "model_module": "@jupyter-widgets/controls",
      "model_module_version": "2.0.0",
      "model_name": "HTMLModel",
      "state": {
       "_dom_classes": [],
       "_model_module": "@jupyter-widgets/controls",
       "_model_module_version": "2.0.0",
       "_model_name": "HTMLModel",
       "_view_count": null,
       "_view_module": "@jupyter-widgets/controls",
       "_view_module_version": "2.0.0",
       "_view_name": "HTMLView",
       "description": "",
       "description_allow_html": false,
       "layout": "IPY_MODEL_f6617c287a7741dcb912c5726ada6503",
       "placeholder": "​",
       "style": "IPY_MODEL_c446c8d5c2bd42908bf69c7d3073670c",
       "tabbable": null,
       "tooltip": null,
       "value": "100%"
      }
     },
     "387aa34aefaf42e4b789dfb2a250e82f": {
      "model_module": "@jupyter-widgets/controls",
      "model_module_version": "2.0.0",
      "model_name": "HBoxModel",
      "state": {
       "_dom_classes": [],
       "_model_module": "@jupyter-widgets/controls",
       "_model_module_version": "2.0.0",
       "_model_name": "HBoxModel",
       "_view_count": null,
       "_view_module": "@jupyter-widgets/controls",
       "_view_module_version": "2.0.0",
       "_view_name": "HBoxView",
       "box_style": "",
       "children": [
        "IPY_MODEL_31cfb941d9774b22b5f6126ef6d59f7e",
        "IPY_MODEL_3dd08a2dcadf4accb3aacbe6bd461bfa",
        "IPY_MODEL_98b5285fc5cd45aeb37447313acbcc39"
       ],
       "layout": "IPY_MODEL_075def778dd047879efafef1cf78da31",
       "tabbable": null,
       "tooltip": null
      }
     },
     "3dd08a2dcadf4accb3aacbe6bd461bfa": {
      "model_module": "@jupyter-widgets/controls",
      "model_module_version": "2.0.0",
      "model_name": "FloatProgressModel",
      "state": {
       "_dom_classes": [],
       "_model_module": "@jupyter-widgets/controls",
       "_model_module_version": "2.0.0",
       "_model_name": "FloatProgressModel",
       "_view_count": null,
       "_view_module": "@jupyter-widgets/controls",
       "_view_module_version": "2.0.0",
       "_view_name": "ProgressView",
       "bar_style": "success",
       "description": "",
       "description_allow_html": false,
       "layout": "IPY_MODEL_79f8f9194a454d3ba7af734c9bb82e07",
       "max": 3.0,
       "min": 0.0,
       "orientation": "horizontal",
       "style": "IPY_MODEL_41cd21a6dff74779956d672664817c94",
       "tabbable": null,
       "tooltip": null,
       "value": 3.0
      }
     },
     "41cd21a6dff74779956d672664817c94": {
      "model_module": "@jupyter-widgets/controls",
      "model_module_version": "2.0.0",
      "model_name": "ProgressStyleModel",
      "state": {
       "_model_module": "@jupyter-widgets/controls",
       "_model_module_version": "2.0.0",
       "_model_name": "ProgressStyleModel",
       "_view_count": null,
       "_view_module": "@jupyter-widgets/base",
       "_view_module_version": "2.0.0",
       "_view_name": "StyleView",
       "bar_color": null,
       "description_width": ""
      }
     },
     "62106cfd2d1f431390def07cd4523fa9": {
      "model_module": "@jupyter-widgets/base",
      "model_module_version": "2.0.0",
      "model_name": "LayoutModel",
      "state": {
       "_model_module": "@jupyter-widgets/base",
       "_model_module_version": "2.0.0",
       "_model_name": "LayoutModel",
       "_view_count": null,
       "_view_module": "@jupyter-widgets/base",
       "_view_module_version": "2.0.0",
       "_view_name": "LayoutView",
       "align_content": null,
       "align_items": null,
       "align_self": null,
       "border_bottom": null,
       "border_left": null,
       "border_right": null,
       "border_top": null,
       "bottom": null,
       "display": null,
       "flex": null,
       "flex_flow": null,
       "grid_area": null,
       "grid_auto_columns": null,
       "grid_auto_flow": null,
       "grid_auto_rows": null,
       "grid_column": null,
       "grid_gap": null,
       "grid_row": null,
       "grid_template_areas": null,
       "grid_template_columns": null,
       "grid_template_rows": null,
       "height": null,
       "justify_content": null,
       "justify_items": null,
       "left": null,
       "margin": null,
       "max_height": null,
       "max_width": null,
       "min_height": null,
       "min_width": null,
       "object_fit": null,
       "object_position": null,
       "order": null,
       "overflow": null,
       "padding": null,
       "right": null,
       "top": null,
       "visibility": null,
       "width": null
      }
     },
     "79f8f9194a454d3ba7af734c9bb82e07": {
      "model_module": "@jupyter-widgets/base",
      "model_module_version": "2.0.0",
      "model_name": "LayoutModel",
      "state": {
       "_model_module": "@jupyter-widgets/base",
       "_model_module_version": "2.0.0",
       "_model_name": "LayoutModel",
       "_view_count": null,
       "_view_module": "@jupyter-widgets/base",
       "_view_module_version": "2.0.0",
       "_view_name": "LayoutView",
       "align_content": null,
       "align_items": null,
       "align_self": null,
       "border_bottom": null,
       "border_left": null,
       "border_right": null,
       "border_top": null,
       "bottom": null,
       "display": null,
       "flex": null,
       "flex_flow": null,
       "grid_area": null,
       "grid_auto_columns": null,
       "grid_auto_flow": null,
       "grid_auto_rows": null,
       "grid_column": null,
       "grid_gap": null,
       "grid_row": null,
       "grid_template_areas": null,
       "grid_template_columns": null,
       "grid_template_rows": null,
       "height": null,
       "justify_content": null,
       "justify_items": null,
       "left": null,
       "margin": null,
       "max_height": null,
       "max_width": null,
       "min_height": null,
       "min_width": null,
       "object_fit": null,
       "object_position": null,
       "order": null,
       "overflow": null,
       "padding": null,
       "right": null,
       "top": null,
       "visibility": null,
       "width": null
      }
     },
     "98b5285fc5cd45aeb37447313acbcc39": {
      "model_module": "@jupyter-widgets/controls",
      "model_module_version": "2.0.0",
      "model_name": "HTMLModel",
      "state": {
       "_dom_classes": [],
       "_model_module": "@jupyter-widgets/controls",
       "_model_module_version": "2.0.0",
       "_model_name": "HTMLModel",
       "_view_count": null,
       "_view_module": "@jupyter-widgets/controls",
       "_view_module_version": "2.0.0",
       "_view_name": "HTMLView",
       "description": "",
       "description_allow_html": false,
       "layout": "IPY_MODEL_62106cfd2d1f431390def07cd4523fa9",
       "placeholder": "​",
       "style": "IPY_MODEL_a58ed4683af742d394f2095eccb3a8b8",
       "tabbable": null,
       "tooltip": null,
       "value": " 3/3 [01:35&lt;00:00, 27.75s/it]"
      }
     },
     "a58ed4683af742d394f2095eccb3a8b8": {
      "model_module": "@jupyter-widgets/controls",
      "model_module_version": "2.0.0",
      "model_name": "HTMLStyleModel",
      "state": {
       "_model_module": "@jupyter-widgets/controls",
       "_model_module_version": "2.0.0",
       "_model_name": "HTMLStyleModel",
       "_view_count": null,
       "_view_module": "@jupyter-widgets/base",
       "_view_module_version": "2.0.0",
       "_view_name": "StyleView",
       "background": null,
       "description_width": "",
       "font_size": null,
       "text_color": null
      }
     },
     "c446c8d5c2bd42908bf69c7d3073670c": {
      "model_module": "@jupyter-widgets/controls",
      "model_module_version": "2.0.0",
      "model_name": "HTMLStyleModel",
      "state": {
       "_model_module": "@jupyter-widgets/controls",
       "_model_module_version": "2.0.0",
       "_model_name": "HTMLStyleModel",
       "_view_count": null,
       "_view_module": "@jupyter-widgets/base",
       "_view_module_version": "2.0.0",
       "_view_name": "StyleView",
       "background": null,
       "description_width": "",
       "font_size": null,
       "text_color": null
      }
     },
     "f6617c287a7741dcb912c5726ada6503": {
      "model_module": "@jupyter-widgets/base",
      "model_module_version": "2.0.0",
      "model_name": "LayoutModel",
      "state": {
       "_model_module": "@jupyter-widgets/base",
       "_model_module_version": "2.0.0",
       "_model_name": "LayoutModel",
       "_view_count": null,
       "_view_module": "@jupyter-widgets/base",
       "_view_module_version": "2.0.0",
       "_view_name": "LayoutView",
       "align_content": null,
       "align_items": null,
       "align_self": null,
       "border_bottom": null,
       "border_left": null,
       "border_right": null,
       "border_top": null,
       "bottom": null,
       "display": null,
       "flex": null,
       "flex_flow": null,
       "grid_area": null,
       "grid_auto_columns": null,
       "grid_auto_flow": null,
       "grid_auto_rows": null,
       "grid_column": null,
       "grid_gap": null,
       "grid_row": null,
       "grid_template_areas": null,
       "grid_template_columns": null,
       "grid_template_rows": null,
       "height": null,
       "justify_content": null,
       "justify_items": null,
       "left": null,
       "margin": null,
       "max_height": null,
       "max_width": null,
       "min_height": null,
       "min_width": null,
       "object_fit": null,
       "object_position": null,
       "order": null,
       "overflow": null,
       "padding": null,
       "right": null,
       "top": null,
       "visibility": null,
       "width": null
      }
     }
    },
    "version_major": 2,
    "version_minor": 0
   }
  }
 },
 "nbformat": 4,
 "nbformat_minor": 5
}