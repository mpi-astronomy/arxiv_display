{
 "cells": [
  {
   "cell_type": "markdown",
   "id": "92bcb855",
   "metadata": {
    "papermill": {
     "duration": 0.003801,
     "end_time": "2025-05-13T04:14:10.976363",
     "exception": false,
     "start_time": "2025-05-13T04:14:10.972562",
     "status": "completed"
    },
    "tags": []
   },
   "source": [
    "# MPIA Arxiv on Deck 2\n",
    "\n",
    "Contains the steps to produce the paper extractions."
   ]
  },
  {
   "cell_type": "code",
   "execution_count": 1,
   "id": "3a0d6e11",
   "metadata": {
    "execution": {
     "iopub.execute_input": "2025-05-13T04:14:10.984126Z",
     "iopub.status.busy": "2025-05-13T04:14:10.983524Z",
     "iopub.status.idle": "2025-05-13T04:14:11.438999Z",
     "shell.execute_reply": "2025-05-13T04:14:11.438244Z"
    },
    "papermill": {
     "duration": 0.460704,
     "end_time": "2025-05-13T04:14:11.440366",
     "exception": false,
     "start_time": "2025-05-13T04:14:10.979662",
     "status": "completed"
    },
    "tags": []
   },
   "outputs": [],
   "source": [
    "# Imports\n",
    "import os\n",
    "from IPython.display import Markdown, display\n",
    "from tqdm.notebook import tqdm\n",
    "import warnings\n",
    "from PIL import Image \n",
    "import re\n",
    "\n",
    "# requires arxiv_on_deck_2\n",
    "\n",
    "from arxiv_on_deck_2.arxiv2 import (get_new_papers, \n",
    "                                    get_paper_from_identifier,\n",
    "                                    retrieve_document_source, \n",
    "                                    get_markdown_badge)\n",
    "from arxiv_on_deck_2 import (latex,\n",
    "                             latex_bib,\n",
    "                             mpia,\n",
    "                             highlight_authors_in_list)\n",
    "\n",
    "# Sometimes images are really big\n",
    "Image.MAX_IMAGE_PIXELS = 1000000000 "
   ]
  },
  {
   "cell_type": "code",
   "execution_count": 2,
   "id": "22aa9d44",
   "metadata": {
    "execution": {
     "iopub.execute_input": "2025-05-13T04:14:11.447865Z",
     "iopub.status.busy": "2025-05-13T04:14:11.447593Z",
     "iopub.status.idle": "2025-05-13T04:14:11.455595Z",
     "shell.execute_reply": "2025-05-13T04:14:11.455046Z"
    },
    "papermill": {
     "duration": 0.012917,
     "end_time": "2025-05-13T04:14:11.456543",
     "exception": false,
     "start_time": "2025-05-13T04:14:11.443626",
     "status": "completed"
    },
    "tags": []
   },
   "outputs": [],
   "source": [
    "# Some useful definitions.\n",
    "\n",
    "class AffiliationWarning(UserWarning):\n",
    "    pass\n",
    "\n",
    "class AffiliationError(RuntimeError):\n",
    "    pass\n",
    "\n",
    "def validation(source: str):\n",
    "    \"\"\"Raises error paper during parsing of source file\n",
    "    \n",
    "    Allows checks before parsing TeX code.\n",
    "    \n",
    "    Raises AffiliationWarning\n",
    "    \"\"\"\n",
    "    check = mpia.affiliation_verifications(source, verbose=True)\n",
    "    if check is not True:\n",
    "        raise AffiliationError(\"mpia.affiliation_verifications: \" + check)\n",
    "\n",
    "        \n",
    "warnings.simplefilter('always', AffiliationWarning)\n",
    "\n",
    "\n",
    "def get_markdown_qrcode(paper_id: str):\n",
    "    \"\"\" Generate a qrcode to the arxiv page using qrserver.com\n",
    "    \n",
    "    :param paper: Arxiv paper\n",
    "    :returns: markdown text\n",
    "    \"\"\"\n",
    "    url = r\"https://api.qrserver.com/v1/create-qr-code/?size=100x100&data=\"\n",
    "    txt = f\"\"\"<img src={url}\"https://arxiv.org/abs/{paper_id}\">\"\"\"\n",
    "    txt = '<div id=\"qrcode\">' + txt + '</div>'\n",
    "    return txt\n",
    "\n",
    "\n",
    "def clean_non_western_encoded_characters_commands(text: str) -> str:\n",
    "    \"\"\" Remove non-western encoded characters from a string\n",
    "    List may need to grow.\n",
    "    \n",
    "    :param text: the text to clean\n",
    "    :return: the cleaned text\n",
    "    \"\"\"\n",
    "    text = re.sub(r\"(\\\\begin{CJK}{UTF8}{gbsn})(.*?)(\\\\end{CJK})\", r\"\\2\", text)\n",
    "    return text\n",
    "\n",
    "\n",
    "def get_initials(name: str) -> str:\n",
    "    \"\"\" Get the short name, e.g., A.-B. FamName\n",
    "    :param name: full name\n",
    "    :returns: initials\n",
    "    \"\"\"\n",
    "    initials = []\n",
    "    # account for non western names often in ()\n",
    "    if '(' in name:\n",
    "        name = clean_non_western_encoded_characters_commands(name)\n",
    "        suffix = re.findall(r\"\\((.*?)\\)\", name)[0]\n",
    "        name = name.replace(f\"({suffix})\", '')\n",
    "    else:\n",
    "        suffix = ''\n",
    "    split = name.split()\n",
    "    for token in split[:-1]:\n",
    "        if '-' in token:\n",
    "            current = '-'.join([k[0] + '.' for k in token.split('-')])\n",
    "        else:\n",
    "            current = token[0] + '.'\n",
    "        initials.append(current)\n",
    "    initials.append(split[-1].strip())\n",
    "    if suffix:\n",
    "        initials.append(f\"({suffix})\")\n",
    "    return ' '.join(initials)"
   ]
  },
  {
   "cell_type": "markdown",
   "id": "14bd6310",
   "metadata": {
    "papermill": {
     "duration": 0.002829,
     "end_time": "2025-05-13T04:14:11.462296",
     "exception": false,
     "start_time": "2025-05-13T04:14:11.459467",
     "status": "completed"
    },
    "tags": []
   },
   "source": [
    "## get list of arxiv paper candidates\n",
    "\n",
    "We use the MPIA mitarbeiter list webpage from mpia.de to get author names\n",
    "We then get all new papers from Arxiv and match authors"
   ]
  },
  {
   "cell_type": "code",
   "execution_count": 3,
   "id": "7ea813a8",
   "metadata": {
    "execution": {
     "iopub.execute_input": "2025-05-13T04:14:11.469216Z",
     "iopub.status.busy": "2025-05-13T04:14:11.468722Z",
     "iopub.status.idle": "2025-05-13T04:14:34.793653Z",
     "shell.execute_reply": "2025-05-13T04:14:34.792994Z"
    },
    "papermill": {
     "duration": 23.32976,
     "end_time": "2025-05-13T04:14:34.794921",
     "exception": false,
     "start_time": "2025-05-13T04:14:11.465161",
     "status": "completed"
    },
    "tags": []
   },
   "outputs": [],
   "source": [
    "# deal with the author list and edge cases of people that cannot be consistent on their name  \n",
    "\n",
    "def filter_non_scientists(name: str) -> bool:\n",
    "    \"\"\" Loose filter on expected authorships\n",
    "\n",
    "    removing IT, administration, technical staff\n",
    "    :param name: name\n",
    "    :returns: False if name is not a scientist\n",
    "    \"\"\"\n",
    "    remove_list = ['Licht', 'Binroth', 'Witzel', 'Jordan',\n",
    "                   'Zähringer', 'Scheerer', 'Hoffmann', 'Düe',\n",
    "                   'Hellmich', 'Enkler-Scharpegge', 'Witte-Nguy',\n",
    "                   'Dehen', 'Beckmann', 'Jager', 'Jäger'\n",
    "                  ]\n",
    "\n",
    "    for k in remove_list:\n",
    "        if k in name:\n",
    "            return False\n",
    "    return True\n",
    "\n",
    "def add_author_to_list(author_list: list) -> list:\n",
    "    \"\"\" Add author to list if not already in list\n",
    "    \n",
    "    :param author: author name\n",
    "    :param author_list: list of authors\n",
    "    :returns: updated list of authors\n",
    "    \"\"\"\n",
    "    add_list = ['T. Henning']\n",
    "\n",
    "    for author in add_list:\n",
    "        if author not in author_list:\n",
    "            author_list.append(author)\n",
    "    return author_list\n",
    "\n",
    "# get list from MPIA website\n",
    "# filter for non-scientists (mpia.get_mpia_mitarbeiter_list() does some filtering)\n",
    "mpia_authors = [k[1] for k in mpia.get_mpia_mitarbeiter_list() if filter_non_scientists(k[1])]\n",
    "# add some missing author because of inconsistencies in their MPIA name and author name on papers\n",
    "mpia_authors = add_author_to_list(mpia_authors)"
   ]
  },
  {
   "cell_type": "code",
   "execution_count": 4,
   "id": "2645e73a",
   "metadata": {
    "execution": {
     "iopub.execute_input": "2025-05-13T04:14:34.802296Z",
     "iopub.status.busy": "2025-05-13T04:14:34.801884Z",
     "iopub.status.idle": "2025-05-13T04:14:35.668181Z",
     "shell.execute_reply": "2025-05-13T04:14:35.667476Z"
    },
    "papermill": {
     "duration": 0.870925,
     "end_time": "2025-05-13T04:14:35.669167",
     "exception": false,
     "start_time": "2025-05-13T04:14:34.798242",
     "status": "completed"
    },
    "tags": []
   },
   "outputs": [
    {
     "name": "stdout",
     "output_type": "stream",
     "text": [
      "J. Li  ->  J. Li  |  ['J. Li']\n",
      "J. Li  ->  J. Li  |  ['J. Li']\n",
      "A. d. Graaff  ->  A. D. Graaff  |  ['A. D. Graaff']\n",
      "Y. Wang  ->  Y. Wang  |  ['Y. Wang']\n"
     ]
    },
    {
     "name": "stdout",
     "output_type": "stream",
     "text": [
      "N. Hoyer  ->  N. Hoyer  |  ['N. Hoyer']\n",
      "N. Neumayer  ->  N. Neumayer  |  ['N. Neumayer']\n",
      "S. Jiao  ->  S. Jiao  |  ['S. Jiao']\n",
      "S. Jiao  ->  S. Jiao  |  ['S. Jiao']\n",
      "Arxiv has 74 new papers today\n",
      "          7 with possible author matches\n"
     ]
    }
   ],
   "source": [
    "new_papers = get_new_papers()\n",
    "# add manual references\n",
    "add_paper_refs = []\n",
    "new_papers.extend([get_paper_from_identifier(k) for k in add_paper_refs])\n",
    "\n",
    "def robust_call(fn, value, *args, **kwargs):\n",
    "    try:\n",
    "        return fn(value, *args, **kwargs)\n",
    "    except Exception:\n",
    "        return value\n",
    "\n",
    "candidates = []\n",
    "for paperk in new_papers:\n",
    "    # Check author list with their initials\n",
    "    normed_author_list = [robust_call(mpia.get_initials, k) for k in paperk['authors']]\n",
    "    hl_authors = highlight_authors_in_list(normed_author_list, mpia_authors, verbose=True)\n",
    "    matches = [(hl, orig) for hl, orig in zip(hl_authors, paperk['authors']) if 'mark' in hl]\n",
    "    paperk['authors'] = hl_authors\n",
    "    if matches:\n",
    "        # only select paper if an author matched our list\n",
    "        candidates.append(paperk)\n",
    "print(\"\"\"Arxiv has {0:,d} new papers today\"\"\".format(len(new_papers)))        \n",
    "print(\"\"\"          {0:,d} with possible author matches\"\"\".format(len(candidates)))"
   ]
  },
  {
   "cell_type": "markdown",
   "id": "3543b34a",
   "metadata": {
    "papermill": {
     "duration": 0.003071,
     "end_time": "2025-05-13T04:14:35.675799",
     "exception": false,
     "start_time": "2025-05-13T04:14:35.672728",
     "status": "completed"
    },
    "tags": []
   },
   "source": [
    "# Parse sources and generate relevant outputs\n",
    "\n",
    "From the candidates, we do the following steps:\n",
    "* get their tarball from ArXiv (and extract data)\n",
    "* find the main .tex file: find one with \\documentclass{...} (sometimes it's non trivial)\n",
    "* Check affiliations with :func:`validation`, which uses :func:`mpia.affiliation_verifications`\n",
    "* If passing the affiliations: we parse the .tex source\n",
    "   * inject sub-documents into the main (flatten the main document)\n",
    "   * parse structure, extract information (title, abstract, authors, figures...)\n",
    "   * handles `\\graphicspath` if provided\n",
    "* Generate the .md document."
   ]
  },
  {
   "cell_type": "code",
   "execution_count": 5,
   "id": "9576b79e",
   "metadata": {
    "execution": {
     "iopub.execute_input": "2025-05-13T04:14:35.683039Z",
     "iopub.status.busy": "2025-05-13T04:14:35.682650Z",
     "iopub.status.idle": "2025-05-13T04:15:03.581321Z",
     "shell.execute_reply": "2025-05-13T04:15:03.580573Z"
    },
    "papermill": {
     "duration": 27.904024,
     "end_time": "2025-05-13T04:15:03.582897",
     "exception": false,
     "start_time": "2025-05-13T04:14:35.678873",
     "status": "completed"
    },
    "scrolled": false,
    "tags": []
   },
   "outputs": [
    {
     "data": {
      "application/vnd.jupyter.widget-view+json": {
       "model_id": "0ecee969369443f5ba76a34d6e42940e",
       "version_major": 2,
       "version_minor": 0
      },
      "text/plain": [
       "  0%|          | 0/7 [00:00<?, ?it/s]"
      ]
     },
     "metadata": {},
     "output_type": "display_data"
    },
    {
     "name": "stdout",
     "output_type": "stream",
     "text": [
      "Retrieving document from  https://arxiv.org/e-print/2505.06340\n"
     ]
    },
    {
     "name": "stdout",
     "output_type": "stream",
     "text": [
      "extracting tarball to tmp_2505.06340..."
     ]
    },
    {
     "name": "stdout",
     "output_type": "stream",
     "text": [
      " done.\n",
      "Retrieving document from  https://arxiv.org/e-print/2505.06348\n"
     ]
    },
    {
     "name": "stdout",
     "output_type": "stream",
     "text": [
      "extracting tarball to tmp_2505.06348... done.\n",
      "Retrieving document from  https://arxiv.org/e-print/2505.06349\n"
     ]
    },
    {
     "name": "stdout",
     "output_type": "stream",
     "text": [
      "extracting tarball to tmp_2505.06349..."
     ]
    },
    {
     "name": "stdout",
     "output_type": "stream",
     "text": [
      " done.\n",
      "Retrieving document from  https://arxiv.org/e-print/2505.07195\n"
     ]
    },
    {
     "name": "stdout",
     "output_type": "stream",
     "text": [
      "extracting tarball to tmp_2505.07195..."
     ]
    },
    {
     "name": "stdout",
     "output_type": "stream",
     "text": [
      " done.\n",
      "Retrieving document from  https://arxiv.org/e-print/2505.07491\n"
     ]
    },
    {
     "name": "stdout",
     "output_type": "stream",
     "text": [
      "extracting tarball to tmp_2505.07491..."
     ]
    },
    {
     "name": "stdout",
     "output_type": "stream",
     "text": [
      " done.\n"
     ]
    },
    {
     "name": "stdout",
     "output_type": "stream",
     "text": [
      "N. Hoyer  ->  N. Hoyer  |  ['N. Hoyer']\n",
      "N. Neumayer  ->  N. Neumayer  |  ['N. Neumayer']\n"
     ]
    },
    {
     "name": "stdout",
     "output_type": "stream",
     "text": [
      "Found 279 bibliographic references in tmp_2505.07491/aanda.bbl.\n",
      "Retrieving document from  https://arxiv.org/e-print/2505.07763\n"
     ]
    },
    {
     "name": "stdout",
     "output_type": "stream",
     "text": [
      "extracting tarball to tmp_2505.07763..."
     ]
    },
    {
     "name": "stdout",
     "output_type": "stream",
     "text": [
      " done.\n",
      "Retrieving document from  https://arxiv.org/e-print/2505.07764\n"
     ]
    },
    {
     "name": "stdout",
     "output_type": "stream",
     "text": [
      "extracting tarball to tmp_2505.07764..."
     ]
    },
    {
     "name": "stdout",
     "output_type": "stream",
     "text": [
      " done.\n"
     ]
    },
    {
     "name": "stderr",
     "output_type": "stream",
     "text": [
      "/opt/hostedtoolcache/Python/3.9.22/x64/lib/python3.9/site-packages/IPython/core/interactiveshell.py:3550: LatexWarning: Multiple tex files.\n",
      "\n",
      "  exec(code_obj, self.user_global_ns, self.user_ns)\n",
      "/opt/hostedtoolcache/Python/3.9.22/x64/lib/python3.9/site-packages/IPython/core/interactiveshell.py:3550: LatexWarning: Found documentclass in tmp_2505.07764/main.tex\n",
      "\n",
      "  exec(code_obj, self.user_global_ns, self.user_ns)\n"
     ]
    }
   ],
   "source": [
    "documents = []\n",
    "failed = []\n",
    "for paper in tqdm(candidates):\n",
    "    # debug crap\n",
    "    paper['identifier'] = paper['identifier'].lower().replace('arxiv:', '').replace(r'\\n', '').strip()\n",
    "    paper_id = paper['identifier']\n",
    "    \n",
    "    folder = f'tmp_{paper_id}'\n",
    "\n",
    "    try:\n",
    "        if not os.path.isdir(folder):\n",
    "            folder = retrieve_document_source(f\"{paper_id}\", f'tmp_{paper_id}')\n",
    "        \n",
    "        try:\n",
    "            doc = latex.LatexDocument(folder, validation=validation)    \n",
    "        except AffiliationError as affilerror:\n",
    "            msg = f\"ArXiv:{paper_id:s} is not an MPIA paper... \" + str(affilerror)\n",
    "            failed.append((paper, \"affiliation error: \" + str(affilerror) ))\n",
    "            continue\n",
    "        \n",
    "        # Hack because sometimes author parsing does not work well\n",
    "        if (len(doc.authors) != len(paper['authors'])):\n",
    "            doc._authors = paper['authors']\n",
    "        else:\n",
    "            # highlight authors (FIXME: doc.highlight_authors)\n",
    "            # done on arxiv paper already\n",
    "            doc._authors = highlight_authors_in_list(\n",
    "                [get_initials(k) for k in doc.authors], \n",
    "                mpia_authors, verbose=True)\n",
    "        if (doc.abstract) in (None, ''):\n",
    "            doc._abstract = paper['abstract']\n",
    "            \n",
    "        doc.comment = (get_markdown_badge(paper_id) + \n",
    "                       \"<mark>Appeared on: \" + paper['date'] + \"</mark> - \")\n",
    "        if paper['comments']:\n",
    "            doc.comment += \" _\" + paper['comments'] + \"_\"\n",
    "        \n",
    "        full_md = doc.generate_markdown_text()\n",
    "        \n",
    "        full_md += get_markdown_qrcode(paper_id)\n",
    "        \n",
    "        # replace citations\n",
    "        try:\n",
    "            bibdata = latex_bib.LatexBib.from_doc(doc)\n",
    "            full_md = latex_bib.replace_citations(full_md, bibdata)\n",
    "        except Exception as e:\n",
    "            print(\"Issues with the citations\")\n",
    "            print(e)\n",
    "        \n",
    "        documents.append((paper_id, full_md))\n",
    "    except Exception as e:\n",
    "        warnings.warn(latex.LatexWarning(f\"{paper_id:s} did not run properly\\n\" +\n",
    "                                         str(e)\n",
    "                                        ))\n",
    "        failed.append((paper, \"latex error \" + str(e)))"
   ]
  },
  {
   "cell_type": "markdown",
   "id": "2505a25c",
   "metadata": {
    "papermill": {
     "duration": 0.004003,
     "end_time": "2025-05-13T04:15:03.591359",
     "exception": false,
     "start_time": "2025-05-13T04:15:03.587356",
     "status": "completed"
    },
    "tags": []
   },
   "source": [
    "### Export the logs\n",
    "\n",
    "Throughout, we also keep track of the logs per paper. see `logs-{today date}.md` "
   ]
  },
  {
   "cell_type": "code",
   "execution_count": 6,
   "id": "d733828a",
   "metadata": {
    "execution": {
     "iopub.execute_input": "2025-05-13T04:15:03.600861Z",
     "iopub.status.busy": "2025-05-13T04:15:03.600232Z",
     "iopub.status.idle": "2025-05-13T04:15:03.619077Z",
     "shell.execute_reply": "2025-05-13T04:15:03.618378Z"
    },
    "papermill": {
     "duration": 0.024871,
     "end_time": "2025-05-13T04:15:03.620212",
     "exception": false,
     "start_time": "2025-05-13T04:15:03.595341",
     "status": "completed"
    },
    "scrolled": false,
    "tags": []
   },
   "outputs": [
    {
     "data": {
      "text/markdown": [
       "## Successful papers"
      ],
      "text/plain": [
       "<IPython.core.display.Markdown object>"
      ]
     },
     "metadata": {},
     "output_type": "display_data"
    },
    {
     "data": {
      "text/markdown": [
       "\n",
       "|||\n",
       "|---:|:---|\n",
       "| [![arXiv](https://img.shields.io/badge/arXiv-2505.07491-b31b1b.svg)](https://arxiv.org/abs/2505.07491) | **Rapid formation of a very massive star >50000 $M_\\odot$ and subsequently an IMBH from runaway collisions. Direct N-body and Monte Carlo simulations of dense star clusters**  |\n",
       "|| M. C. Vergara, et al. -- incl., <mark>N. Hoyer</mark>, <mark>N. Neumayer</mark> |\n",
       "|*Appeared on*| *2025-05-13*|\n",
       "|*Comments*| *18 pages, 11 figures*|\n",
       "|**Abstract**|            Context. We present simulations of a massive young star cluster using \\textsc{Nbody6++GPU} and \\textsc{MOCCA}. The cluster is initially more compact than previously published models, with one million stars, a total mass of $5.86 \\times 10^5~\\mathrm{M}_{\\odot}$, and a half-mass radius of $0.1~\\mathrm{pc}$. Aims. We analyse the formation and growth of a very massive star (VMS) through successive stellar collisions and investigate the subsequent formation of an intermediate-mass black hole (IMBH) in the core of a dense star cluster. Methods. We use both direct \\textit{N}-body and Monte Carlo simulations, incorporating updated stellar evolution prescriptions (SSE/BSE) tailored to massive stars and VMSs. These include revised treatments of stellar radii, rejuvenation, and mass loss during collisions. While the prescriptions represent reasonable extrapolations into the VMS regime, the internal structure and thermal state of VMSs formed through stellar collisions remain uncertain, and future work may require further refinement. Results. We find that runaway stellar collisions in the cluster core produce a VMS exceeding $5 \\times 10^4~\\mathrm{M}_{\\odot}$ within 5 Myr, which subsequently collapses into an IMBH. Conclusions. Our model suggests that dense stellar environments may enable the formation of very massive stars and massive black hole seeds through runaway stellar collisions. These results provide a potential pathway for early black hole growth in star clusters and offer theoretical context for interpreting recent JWST observations of young, compact clusters at high redshift.         |"
      ],
      "text/plain": [
       "[2505.07491] Rapid formation of a very massive star >50000 $M_\\odot$ and subsequently an IMBH from runaway collisions. Direct N-body and Monte Carlo simulations of dense star clusters\n",
       "\tM. C. Vergara, et al. -- incl., <mark>N. Hoyer</mark>, <mark>N. Neumayer</mark>"
      ]
     },
     "metadata": {},
     "output_type": "display_data"
    },
    {
     "data": {
      "text/markdown": [
       "## Failed papers"
      ],
      "text/plain": [
       "<IPython.core.display.Markdown object>"
      ]
     },
     "metadata": {},
     "output_type": "display_data"
    },
    {
     "data": {
      "text/markdown": [
       "\n",
       "|||\n",
       "|---:|:---|\n",
       "| [![arXiv](https://img.shields.io/badge/arXiv-2505.06349-b31b1b.svg)](https://arxiv.org/abs/2505.06349) | **When relics were made: vigorous stellar rotation and low dark matter content in the massive ultra-compact galaxy GS-9209 at z=4.66**  |\n",
       "|| R. G. Pascalau, et al. -- incl., <mark>A. d. Graaff</mark> |\n",
       "|*Appeared on*| *2025-05-13*|\n",
       "|*Comments*| *45 pages, 44 figures, Submitted to MNRAS, Comments are welcome*|\n",
       "|**Abstract**|            JWST observations uncovered a large number of massive quiescent galaxies (MQGs) at z>3, which theoretical models struggle to reproduce. Explaining the number density of such objects requires extremely high conversion efficiency of baryons into stars in early dark matter halos. Using stellar kinematics, we can investigate the processes shaping the mass assembly histories of MQGs. We present high-resolution JWST/NIRSpec integral field spectroscopy of GS-9209, a massive, compact quiescent galaxy at z=4.66 ($\\log \\left (M_{\\ast}/M_{\\odot} \\right) = 10.52 \\pm 0.06 $, $R_{eff} = 220 \\pm 20$ pc). Full spectral fitting of the spatially resolved stellar continuum reveals a clear rotational pattern, yielding a spin parameter of $\\lambda_{R_{eff}} = 0.65 \\pm 0.12$. With its high degree of rotational support, this galaxy challenges the scenario of MQGs growing mainly by dry major mergers. This study suggests that at least a fraction of the earliest quiescent galaxies were fast rotators and that quenching was dynamically gentle process, preserving the stellar disc even in highly compact objects. Using Jeans anisotropic modelling (JAM) and a NFW profile, we measure a dark matter fraction of $f_{\\rm DM} \\left (< R_{eff} \\right ) = 6.3^{+2.8}_{-1.7}%$, which is plausible given that this galaxy is extremely compact. Our findings use kinematics to independently confirm the massive nature of early quiescent galaxies, previously inferred from stellar population modelling. We suggest that GS-9209 has a similar structure to low-redshift 'relic' galaxies. However, unlike relic galaxies which have bottom-heavy initial mass functions (IMF), the dynamically inferred stellar mass-to-light ratio of GS-9209 is consistent with a Milky-Way like IMF. The kinematical properties of GS-9209 are different from those of z<1 early-type galaxies and more similar to those of recently quenched post-starburst galaxies at z>2.         |\n",
       "|<p style=\"color:green\"> **ERROR** </p>| <p style=\"color:green\">affiliation error: mpia.affiliation_verifications: '69117' keyword not found.</p> |"
      ],
      "text/plain": [
       "<IPython.core.display.Markdown object>"
      ]
     },
     "metadata": {},
     "output_type": "display_data"
    },
    {
     "data": {
      "text/markdown": [
       "\n",
       "|||\n",
       "|---:|:---|\n",
       "| [![arXiv](https://img.shields.io/badge/arXiv-2505.06340-b31b1b.svg)](https://arxiv.org/abs/2505.06340) | **The ALMA-CRISTAL survey: Gas, dust, and stars in star-forming galaxies when the Universe was ~1 Gyr old I. Survey overview and case studies**  |\n",
       "|| R. Herrera-Camus, et al. -- incl., <mark>J. Li</mark> |\n",
       "|*Appeared on*| *2025-05-13*|\n",
       "|*Comments*| *Accepted for publication in Astronomy & Astrophysics - 35 pages, 19 figures, 5 tables - Survey website: this http URL*|\n",
       "|**Abstract**|            We present the ALMA-CRISTAL survey, an ALMA Cycle 8 Large Program designed to investigate the physical properties of star-forming galaxies at $4 \\lesssim z \\lesssim 6$ through spatially resolved, multi-wavelength observations. This survey targets 19 star-forming main-sequence galaxies selected from the ALPINE survey, using ALMA Band 7 observations to study [CII] 158 $\\mu$m line emission and dust continuum, complemented by JWST/NIRCam and HST imaging to map stellar and UV emission. The CRISTAL sample expanded to 39 after including newly detected galaxies in the CRISTAL fields, archival data, and pilot study targets. The resulting dataset provides a detailed view of gas, dust, and stellar structures on kiloparsec scales at the end of the era of reionization. The survey reveals diverse morphologies and kinematics, including rotating disks, merging systems, [CII] emission tails from potential interactions, and clumpy star formation. Notably, the [CII] emission in many cases extends beyond the stellar light seen in HST and JWST imaging. Scientific highlights include CRISTAL-10, exhibiting an extreme [CII] deficit similar to Arp 220; and CRISTAL-13, where feedback from young star-forming clumps likely causes an offset between the stellar clumps and the peaks of [CII] emission. CRISTAL galaxies exhibit global [CII]/FIR ratios that decrease with increasing FIR luminosity, similar to trends seen in local galaxies but shifted to higher luminosities, likely due to their higher molecular gas content. CRISTAL galaxies also span a previously unexplored range of global FIR surface brightness at high-redshift, showing that high-redshift galaxies can have elevated [CII]/FIR ratios. These elevated ratios are likely influenced by factors such as lower metallicity gas, the presence of significant extraplanar gas, and contributions from shock-excited gas.         |\n",
       "|<p style=\"color:green\"> **ERROR** </p>| <p style=\"color:green\">affiliation error: mpia.affiliation_verifications: 'Heidelberg' keyword not found.</p> |"
      ],
      "text/plain": [
       "<IPython.core.display.Markdown object>"
      ]
     },
     "metadata": {},
     "output_type": "display_data"
    },
    {
     "data": {
      "text/markdown": [
       "\n",
       "|||\n",
       "|---:|:---|\n",
       "| [![arXiv](https://img.shields.io/badge/arXiv-2505.06348-b31b1b.svg)](https://arxiv.org/abs/2505.06348) | **Surprising Variation of Gamma Rays from the Sun over the Solar Cycle Revealed with Fermi-LAT**  |\n",
       "|| A. Acharyya, et al. -- incl., <mark>J. Li</mark> |\n",
       "|*Appeared on*| *2025-05-13*|\n",
       "|*Comments*| *9 pages. Contact authors: Nicola Giglietto, Elena Orlando, Silvia Raino'*|\n",
       "|**Abstract**|            The steady-state gamma-ray emission from the Sun is thought to consist of two emission components due to interactions with Galactic cosmic rays: (1) a hadronic component covering the solar disk, and (2) a leptonic component peaking at the solar edge and extending into the heliosphere. The flux of these components is expected to vary with the 11-year solar cycle, being highest during solar minimum and lowest during solar maximum, because it is correlated with the cosmic-ray flux. No study has yet analyzed the flux variation of the two components separately over solar cycles. In this work, we measure the temporal variations of the flux of each component over 15 years of Fermi Large Area Telescope observations and compare them with the sunspot number and Galactic cosmic-ray flux from AMS-02 near the Earth. We find that the flux variation of the disk anticorrelates with solar activity and correlates with cosmic-ray protons, confirming its emission mechanism. The flux variation of the extended component anticorrelates with solar activity only until mid 2012. After that, we no longer observe any correlation or anticorrelation, even with the CR electron flux. This most likely suggests that cosmic-ray transport and modulation in the inner heliosphere are unexpectedly complex and different for electrons and protons or, alternatively, the presence of an additional, unknown component of gamma rays or cosmic rays. These findings impact space weather research and emphasize the need for close monitoring of Cycle 25 and the ongoing polarity reversal.         |\n",
       "|<p style=\"color:green\"> **ERROR** </p>| <p style=\"color:green\">affiliation error: mpia.affiliation_verifications: 'Heidelberg' keyword not found.</p> |"
      ],
      "text/plain": [
       "<IPython.core.display.Markdown object>"
      ]
     },
     "metadata": {},
     "output_type": "display_data"
    },
    {
     "data": {
      "text/markdown": [
       "\n",
       "|||\n",
       "|---:|:---|\n",
       "| [![arXiv](https://img.shields.io/badge/arXiv-2505.07195-b31b1b.svg)](https://arxiv.org/abs/2505.07195) | **Discovery of Main-sequence Radio Pulse emitters from widefield sky surveys**  |\n",
       "|| B. Das, et al. -- incl., <mark>Y. Wang</mark> |\n",
       "|*Appeared on*| *2025-05-13*|\n",
       "|*Comments*| *Accepted for publication in PASA*|\n",
       "|**Abstract**|            Magnetic AB stars are known to produce periodic radio pulses by the electron cyclotron maser emission (ECME) mechanism. Only 19 such stars, known as 'Main-sequence Radio Pulse emitters' (MRPs) are currently known. The majority of MRPs have been discovered through targeted observation campaigns that involve carefully selecting a sample of stars that are likely to produce ECME, and which can be detected by a given telescope within reasonable amount of time. These selection criteria inadvertently introduce bias in the resulting sample of MRPs, which affects subsequent investigation of the relation between ECME properties and stellar magnetospheric parameters. The alternative is to use all-sky surveys. Until now, MRP candidates obtained from surveys were identified based on their high circular polarisation ($\\gtrsim 30\\%$). In this paper, we introduce a complementary strategy, which does not require polarisation information. Using multi-epoch data from the Australian SKA Pathfinder (ASKAP) telescope, we identify four MRP candidates based on the variability in the total intensity light curves. Follow-up observations with the Australia Telescope Compact Array (ATCA) confirm three of them to be MRPs, thereby demonstrating the effectiveness of our strategy. With the expanded sample, we find that ECME is affected by temperature and the magnetic field strength, consistent with past results. There is, however, a degeneracy regarding how the two parameters govern the ECME luminosity for magnetic A and late-B stars (effective temperature $\\lesssim 16$ kK). The current sample is also inadequate to investigate the role of stellar rotation, which has been shown to play a key role in driving incoherent radio emission.         |\n",
       "|<p style=\"color:green\"> **ERROR** </p>| <p style=\"color:green\">affiliation error: mpia.affiliation_verifications: 'Heidelberg' keyword not found.</p> |"
      ],
      "text/plain": [
       "<IPython.core.display.Markdown object>"
      ]
     },
     "metadata": {},
     "output_type": "display_data"
    },
    {
     "data": {
      "text/markdown": [
       "\n",
       "|||\n",
       "|---:|:---|\n",
       "| [![arXiv](https://img.shields.io/badge/arXiv-2505.07763-b31b1b.svg)](https://arxiv.org/abs/2505.07763) | **Gravitationally Bound Gas Determines Star Formation in the Galaxy**  |\n",
       "|| <mark>S. Jiao</mark>, et al. |\n",
       "|*Appeared on*| *2025-05-13*|\n",
       "|*Comments*| *23 pages, 17 figures. Submitted to A&A*|\n",
       "|**Abstract**|            Stars form from molecular gas under complex conditions influenced by multiple competing physical mechanisms, such as gravity, turbulence, and magnetic fields. However, accurately identifying the fraction of gas actively involved in star formation remains challenging. Using dust continuum observations from the Herschel Space Observatory, we derived column density maps and their associated probability distribution functions (N-PDFs). Assuming the power-law component in the N-PDFs corresponds to gravitationally bound (and thus star-forming) gas, we analyzed a diverse sample of molecular clouds spanning a wide range of mass and turbulence conditions. This sample included 21 molecular clouds from the solar neighborhood ($d<$500 pc) and 16 high-mass star-forming molecular clouds. For these two groups, we employed the counts of young stellar objects (YSOs) and mid-/far-infrared luminosities as proxies for star formation rates (SFR), respectively. Both groups revealed a tight linear correlation between the mass of gravitationally bound gas and the SFR, suggesting a universally constant star formation efficiency in the gravitationally bound gas phase. The star-forming gas mass derived from threshold column densities ($N_{\\mbox {threshold}}$) varies from cloud to cloud and is widely distributed over the range of $\\sim$1--17$\\times$10$^{21}$ cm$^{-2}$ based on N-PDF analysis. But in solar neighborhood clouds, it is in rough consistency with the traditional approach using $A_{\\rm V}$ $\\ge$ 8 mag. In contrast, in high turbulent regions (e.g., the Central Molecular Zone) where the classical approach fails, the gravitationally bound gas mass and SFR still follow the same correlation as other high-mass star-forming regions in the Milky Way. Our findings also strongly support the interpretation that gas in the power-law component of the N-PDF is undergoing self-gravitational collapse to form stars.         |\n",
       "|<p style=\"color:green\"> **ERROR** </p>| <p style=\"color:green\">affiliation error: mpia.affiliation_verifications: 'Heidelberg' keyword not found.</p> |"
      ],
      "text/plain": [
       "<IPython.core.display.Markdown object>"
      ]
     },
     "metadata": {},
     "output_type": "display_data"
    },
    {
     "data": {
      "text/markdown": [
       "\n",
       "|||\n",
       "|---:|:---|\n",
       "| [![arXiv](https://img.shields.io/badge/arXiv-2505.07764-b31b1b.svg)](https://arxiv.org/abs/2505.07764) | **Why is the Star Formation Rate Proportional to Dense Gas Mass?**  |\n",
       "|| <mark>S. Jiao</mark>, et al. |\n",
       "|*Appeared on*| *2025-05-13*|\n",
       "|*Comments*| *19 pages, 10 figures. Accepted for publication in ApJ*|\n",
       "|**Abstract**|            One of the most profound empirical laws of star formation is the Gao-Solomon relation, a linear correlation between the star formation rate (SFR) and the dense molecular gas mass. It is puzzling how the complicated physics in star-formation results in this surprisingly simple proportionality. Using archival Herschel and Atacama Large Millimeter/submillimeter Array Observations, we derived the masses of the most massive cores ($M^{\\rm max}_{\\rm core}$) and masses of the gravitationally bound gas ($ M_{\\rm gas}^{\\rm bound}$) in the parent molecular clouds for a sample of low-mass and high-mass star-forming regions. We discovered a significant correlation $\\log(M^{\\rm max}_{\\rm core}/M_{\\odot}) = 0.506 \\log(M_{\\rm gas}^{\\rm bound}/M_{\\odot})-0.32$. Our discovered $M^{\\rm max}_{\\rm core}$-$M_{\\rm gas}^{\\rm bound}$ correlation can be approximately converted to the Gao-Solomon relation if there is (1) a constant 30% efficiency of converting $M^{\\rm max}_{\\rm core}$ to the mass of the most massive star ($m^{\\rm max}_{\\rm star}$), and (2) if SFR and $m^{\\rm max}_{\\rm star}$ are tightly related through $\\log({\\rm SFR}/(M_{\\odot} {\\rm yr}^{-1})) = 2.04 \\log(m^{\\rm max}_{\\rm star}/M_{\\odot})-5.80$. Intriguingly, both requirements have been suggested by previous theoretical studies (c.f. Yan et al. 2017). Based on this result, we hypothesize that the Gao-Solomon relation is a consequence of combining the following three non-trivial relations (i) SFR vs. $m^{\\rm max}_{\\rm star}$, (ii) $m^{\\rm max}_{\\rm star}$ vs. $M^{\\rm max}_{\\rm core}$, and (iii) $M^{\\rm max}_{\\rm core}$ vs. $M_{\\rm gas}^{\\rm bound}$. This finding may open a new possibility to understand the Gao-Solomon relation in an analytic sense.         |\n",
       "|<p style=\"color:green\"> **ERROR** </p>| <p style=\"color:green\">affiliation error: mpia.affiliation_verifications: 'Heidelberg' keyword not found.</p> |"
      ],
      "text/plain": [
       "<IPython.core.display.Markdown object>"
      ]
     },
     "metadata": {},
     "output_type": "display_data"
    }
   ],
   "source": [
    "import datetime\n",
    "today = str(datetime.date.today())\n",
    "logfile = f\"_build/html/logs/log-{today}.md\"\n",
    "\n",
    "\n",
    "with open(logfile, 'w') as logs:\n",
    "    # Success\n",
    "    logs.write(f'# Arxiv on Deck 2: Logs - {today}\\n\\n')\n",
    "    logs.write(\"\"\"* Arxiv had {0:,d} new papers\\n\"\"\".format(len(new_papers)))\n",
    "    logs.write(\"\"\"    * {0:,d} with possible author matches\\n\\n\"\"\".format(len(candidates)))\n",
    "    logs.write(\"## Sucessful papers\\n\\n\")\n",
    "    display(Markdown(\"## Successful papers\"))\n",
    "    success = [k[0] for k in documents]\n",
    "    for candid in candidates:\n",
    "        if candid['identifier'].split(':')[-1] in success:\n",
    "            display(candid)\n",
    "            logs.write(candid.generate_markdown_text() + '\\n\\n')\n",
    "\n",
    "    ## failed\n",
    "    logs.write(\"## Failed papers\\n\\n\")\n",
    "    display(Markdown(\"## Failed papers\"))\n",
    "    failed = sorted(failed, key=lambda x: x[1])\n",
    "    current_reason = \"\"\n",
    "    for paper, reason in failed:\n",
    "        if 'affiliation' in reason:\n",
    "            color = 'green'\n",
    "        else:\n",
    "            color = 'red'\n",
    "        data = Markdown(\n",
    "                paper.generate_markdown_text() + \n",
    "                f'\\n|<p style=\"color:{color:s}\"> **ERROR** </p>| <p style=\"color:{color:s}\">{reason:s}</p> |'\n",
    "               )\n",
    "        if reason != current_reason:\n",
    "            logs.write(f'### {reason:s} \\n\\n')\n",
    "            current_reason = reason\n",
    "        logs.write(data.data + '\\n\\n')\n",
    "        \n",
    "        # only display here the important errors (all in logs)\n",
    "        # if color in ('red',):\n",
    "        display(data)"
   ]
  },
  {
   "cell_type": "markdown",
   "id": "472d20ee",
   "metadata": {
    "papermill": {
     "duration": 0.004911,
     "end_time": "2025-05-13T04:15:03.630326",
     "exception": false,
     "start_time": "2025-05-13T04:15:03.625415",
     "status": "completed"
    },
    "tags": []
   },
   "source": [
    "## Export documents\n",
    "\n",
    "We now write the .md files and export relevant images"
   ]
  },
  {
   "cell_type": "code",
   "execution_count": 7,
   "id": "d426aed9",
   "metadata": {
    "execution": {
     "iopub.execute_input": "2025-05-13T04:15:03.641372Z",
     "iopub.status.busy": "2025-05-13T04:15:03.640884Z",
     "iopub.status.idle": "2025-05-13T04:15:03.648200Z",
     "shell.execute_reply": "2025-05-13T04:15:03.647626Z"
    },
    "papermill": {
     "duration": 0.014105,
     "end_time": "2025-05-13T04:15:03.649246",
     "exception": false,
     "start_time": "2025-05-13T04:15:03.635141",
     "status": "completed"
    },
    "tags": []
   },
   "outputs": [],
   "source": [
    "def export_markdown_summary(md: str, md_fname:str, directory: str):\n",
    "    \"\"\"Export MD document and associated relevant images\"\"\"\n",
    "    import os\n",
    "    import shutil\n",
    "    import re\n",
    "\n",
    "    if (os.path.exists(directory) and not os.path.isdir(directory)):\n",
    "        raise RuntimeError(f\"a non-directory file exists with name {directory:s}\")\n",
    "\n",
    "    if (not os.path.exists(directory)):\n",
    "        print(f\"creating directory {directory:s}\")\n",
    "        os.mkdir(directory)\n",
    "\n",
    "    fig_fnames = (re.compile(r'\\[Fig.*\\]\\((.*)\\)').findall(md) + \n",
    "                  re.compile(r'\\<img src=\"([^>\\s]*)\"[^>]*/>').findall(md))\n",
    "    print(\"found figures\", fig_fnames)\n",
    "    for fname in fig_fnames:\n",
    "        if 'http' in fname:\n",
    "            # No need to copy online figures\n",
    "            continue\n",
    "        if not os.path.exists(fname):\n",
    "            print(\"file not found\", fname)\n",
    "            continue\n",
    "        print(\"copying \", fname, \"to\", directory)\n",
    "        destdir = os.path.join(directory, os.path.dirname(fname))\n",
    "        destfname = os.path.join(destdir, os.path.basename(fname))\n",
    "        try:\n",
    "            os.makedirs(destdir)\n",
    "        except FileExistsError:\n",
    "            pass\n",
    "        shutil.copy(fname, destfname)\n",
    "    with open(os.path.join(directory, md_fname), 'w') as fout:\n",
    "        fout.write(md)\n",
    "    print(\"exported in \", os.path.join(directory, md_fname))\n",
    "    [print(\"    + \" + os.path.join(directory,fk)) for fk in fig_fnames]"
   ]
  },
  {
   "cell_type": "code",
   "execution_count": 8,
   "id": "014d04a4",
   "metadata": {
    "execution": {
     "iopub.execute_input": "2025-05-13T04:15:03.660609Z",
     "iopub.status.busy": "2025-05-13T04:15:03.660172Z",
     "iopub.status.idle": "2025-05-13T04:15:03.665340Z",
     "shell.execute_reply": "2025-05-13T04:15:03.664738Z"
    },
    "papermill": {
     "duration": 0.012119,
     "end_time": "2025-05-13T04:15:03.666375",
     "exception": false,
     "start_time": "2025-05-13T04:15:03.654256",
     "status": "completed"
    },
    "tags": []
   },
   "outputs": [
    {
     "name": "stdout",
     "output_type": "stream",
     "text": [
      "found figures ['tmp_2505.07491/./plot_vms_stellar_type_nbody_mocca.png', 'tmp_2505.07491/./function_family_age3.jpg', 'tmp_2505.07491/./radius_tau_both.png']\n",
      "copying  tmp_2505.07491/./plot_vms_stellar_type_nbody_mocca.png to _build/html/\n",
      "copying  tmp_2505.07491/./function_family_age3.jpg to _build/html/\n",
      "copying  tmp_2505.07491/./radius_tau_both.png to _build/html/\n",
      "exported in  _build/html/2505.07491.md\n",
      "    + _build/html/tmp_2505.07491/./plot_vms_stellar_type_nbody_mocca.png\n",
      "    + _build/html/tmp_2505.07491/./function_family_age3.jpg\n",
      "    + _build/html/tmp_2505.07491/./radius_tau_both.png\n"
     ]
    }
   ],
   "source": [
    "for paper_id, md in documents:\n",
    "    export_markdown_summary(md, f\"{paper_id:s}.md\", '_build/html/')"
   ]
  },
  {
   "cell_type": "markdown",
   "id": "f087a0a7",
   "metadata": {
    "papermill": {
     "duration": 0.004921,
     "end_time": "2025-05-13T04:15:03.676361",
     "exception": false,
     "start_time": "2025-05-13T04:15:03.671440",
     "status": "completed"
    },
    "tags": []
   },
   "source": [
    "## Display the papers\n",
    "\n",
    "Not necessary but allows for a quick check."
   ]
  },
  {
   "cell_type": "code",
   "execution_count": 9,
   "id": "fd25f625",
   "metadata": {
    "execution": {
     "iopub.execute_input": "2025-05-13T04:15:03.687583Z",
     "iopub.status.busy": "2025-05-13T04:15:03.687010Z",
     "iopub.status.idle": "2025-05-13T04:15:03.691805Z",
     "shell.execute_reply": "2025-05-13T04:15:03.691248Z"
    },
    "papermill": {
     "duration": 0.011521,
     "end_time": "2025-05-13T04:15:03.692778",
     "exception": false,
     "start_time": "2025-05-13T04:15:03.681257",
     "status": "completed"
    },
    "scrolled": false,
    "tags": []
   },
   "outputs": [
    {
     "data": {
      "text/markdown": [
       "<div class=\"macros\" style=\"visibility:hidden;\">\n",
       "$\\newcommand{\\ensuremath}{}$\n",
       "$\\newcommand{\\xspace}{}$\n",
       "$\\newcommand{\\object}[1]{\\texttt{#1}}$\n",
       "$\\newcommand{\\farcs}{{.}''}$\n",
       "$\\newcommand{\\farcm}{{.}'}$\n",
       "$\\newcommand{\\arcsec}{''}$\n",
       "$\\newcommand{\\arcmin}{'}$\n",
       "$\\newcommand{\\ion}[2]{#1#2}$\n",
       "$\\newcommand{\\textsc}[1]{\\textrm{#1}}$\n",
       "$\\newcommand{\\hl}[1]{\\textrm{#1}}$\n",
       "$\\newcommand{\\footnote}[1]{}$\n",
       "$\\newcommand{\\nsc}{NSC}$\n",
       "$\\newcommand{\\albrecht}[1]{\\textcolor{black}{#1}}$\n",
       "$\\newcommand{\\rainer}[1]{\\textcolor{black}{#1}}$\n",
       "$\\newcommand{\\mirek}[1]{\\textcolor{black}{#1}}$\n",
       "$\\newcommand{\\manuel}[1]{\\textcolor{black}{#1}}$\n",
       "$\\newcommand{\\nadine}[1]{\\textcolor{black}{#1}}$\n",
       "$\\newcommand{\\xiaoying}[1]{\\textcolor{black}{#1}}$\n",
       "$\\newcommand{\\ataru}[1]{\\textcolor{black}{#1}}$\n",
       "$\\newcommand{\\jarrod}[1]{\\textcolor{black}{#1}}$\n",
       "$\\newcommand{\\abbas}[1]{\\textcolor{black}{#1}}$\n",
       "$\\newcommand{\\peter}[1]{\\textcolor{black}{#1}}$\n",
       "$\\newcommand{\\marcelo}[1]{\\textcolor{black}{#1}}$\n",
       "$\\newcommand{\\dominik}[1]{\\textcolor{black}{#1}}$\n",
       "$\\newcommand{\\renyue}[1]{\\textcolor{black}{#1}}$\n",
       "$\\newcommand{\\nils}[1]{\\textcolor{black}{#1}}$\n",
       "$\\newcommand{\\arek}[1]{\\textcolor{black}{#1}}$\n",
       "$\\newcommand{\\thorsten}[1]{\\textcolor{black}{#1}}$\n",
       "$\\newcommand{\\francesco}[1]{\\textcolor{black}{#1}}$\n",
       "$\\newcommand{\\andres}[1]{\\textcolor{black}{#1}}$\n",
       "$\\newcommand{\\msol}{\\mathrm{M}_{\\odot}}$\n",
       "$\\newcommand{\\rsol}{\\mathrm{R}_{\\odot}}$</div>\n",
       "\n",
       "\n",
       "\n",
       "<div id=\"title\">\n",
       "\n",
       "# Rapid formation of a very massive star  $>\\!\\!50000 \\mathrm{M}_{\\odot}$ and subsequently an IMBH from runaway collisions: Direct $N$-body and Monte Carlo simulations of dense star clusters\n",
       "\n",
       "</div>\n",
       "<div id=\"comments\">\n",
       "\n",
       "[![arXiv](https://img.shields.io/badge/arXiv-2505.07491-b31b1b.svg)](https://arxiv.org/abs/2505.07491)<mark>Appeared on: 2025-05-13</mark> -  _18 pages, 11 figures_\n",
       "\n",
       "</div>\n",
       "<div id=\"authors\">\n",
       "\n",
       "M. C. Vergara, et al. -- incl., <mark>N. Hoyer</mark>, <mark>N. Neumayer</mark>\n",
       "\n",
       "</div>\n",
       "<div id=\"abstract\">\n",
       "\n",
       "**Abstract:** We present simulations of a massive young star cluster using Nbody6++GPU and MOCCA . The cluster is initially more compact than previously published models, with one million stars, a total mass of $5.86 \\times 10^5 \\mathrm{M}_{\\odot}$ , and a half-mass radius of $0.1 \\mathrm{pc}$ . We analyse the formation and growth of a very massive star (VMS) through successive stellar collisions and investigate the subsequent formation of an intermediate-mass black hole (IMBH) in the core of a dense star cluster. We use both direct _N_ -body and Monte Carlo simulations, incorporating updated stellar evolution prescriptions (SSE/BSE) tailored to massive stars and VMSs. These include revised treatments of stellar radii, rejuvenation, and mass loss during collisions. While the prescriptions represent reasonable extrapolations into the VMS regime, the internal structure and thermal state of VMSs formed through stellar collisions remain uncertain, and future work may require further refinement. We find that runaway stellar collisions in the cluster core produce a VMS exceeding $5 \\times 10^4 \\mathrm{M}_{\\odot}$ within 5 Myr, which subsequently collapses into an IMBH. Our model suggests that dense stellar environments may enable the formation of very massive stars and massive black hole seeds through runaway stellar collisions. These results provide a potential pathway for early black hole growth in star clusters and offer theoretical context for interpreting recent JWST observations of young, compact clusters at high redshift.\n",
       "\n",
       "</div>\n",
       "\n",
       "<div id=\"div_fig1\">\n",
       "\n",
       "<img src=\"tmp_2505.07491/./plot_vms_stellar_type_nbody_mocca.png\" alt=\"Fig9\" width=\"100%\"/>\n",
       "\n",
       "**Figure 9. -** \n",
       "Evolution of the VMS (and IMBH thereafter) over time.\n",
       "Top panel: Mass of the VMS/IMBH, $M_{\\mathrm{VMS IMBH}} [\\mathrm{M}_{\\odot}]$.\n",
       "Middle panel: Stellar radius of the VMS/IMBH, $R_{\\mathrm{VMS IMBH}} [\\mathrm{R}_{\\odot}]$(logarithmic scale).\n",
       "Bottom panel: Effective age of the VMS during its main-sequence phase, $A_{\\mathrm{VMS IMBH}} [\\mathrm{Myr}]$.\n",
       " (*fig:VMS_M_Rsun_ageeffective.jpg*)\n",
       "\n",
       "</div>\n",
       "<div id=\"div_fig2\">\n",
       "\n",
       "<img src=\"tmp_2505.07491/./function_family_age3.jpg\" alt=\"Fig6\" width=\"100%\"/>\n",
       "\n",
       "**Figure 6. -** \n",
       "    Figure showing the family of functions for the original treatment $f_{\\mathrm{original}}(q,y)$  and the family of functions with our updated treatment $f_{\\mathrm{updated}}(q,y)$ for three distinct values of $y \\in (-1,-2,-3)$ against the mass ratio $q$ of the MS star collision parnters.\n",
       "   (*fig:function_family_age3.jpg*)\n",
       "\n",
       "</div>\n",
       "<div id=\"div_fig3\">\n",
       "\n",
       "<img src=\"tmp_2505.07491/./radius_tau_both.png\" alt=\"Fig10\" width=\"100%\"/>\n",
       "\n",
       "**Figure 10. -** Radii of massive stars (five masses as given in key) as a function of age in units of main sequence lifetime; right panel: results by standard SSE; left panel: results from our upgraded SSE. (*fig:radius*)\n",
       "\n",
       "</div><div id=\"qrcode\"><img src=https://api.qrserver.com/v1/create-qr-code/?size=100x100&data=\"https://arxiv.org/abs/2505.07491\"></div>"
      ],
      "text/plain": [
       "<IPython.core.display.Markdown object>"
      ]
     },
     "metadata": {},
     "output_type": "display_data"
    }
   ],
   "source": [
    "[display(Markdown(k[1])) for k in documents];"
   ]
  },
  {
   "cell_type": "markdown",
   "id": "873873a4",
   "metadata": {
    "papermill": {
     "duration": 0.005075,
     "end_time": "2025-05-13T04:15:03.703225",
     "exception": false,
     "start_time": "2025-05-13T04:15:03.698150",
     "status": "completed"
    },
    "tags": []
   },
   "source": [
    "# Create HTML index"
   ]
  },
  {
   "cell_type": "code",
   "execution_count": 10,
   "id": "cf665672",
   "metadata": {
    "execution": {
     "iopub.execute_input": "2025-05-13T04:15:03.714718Z",
     "iopub.status.busy": "2025-05-13T04:15:03.714424Z",
     "iopub.status.idle": "2025-05-13T04:15:03.725450Z",
     "shell.execute_reply": "2025-05-13T04:15:03.724858Z"
    },
    "papermill": {
     "duration": 0.018187,
     "end_time": "2025-05-13T04:15:03.726560",
     "exception": false,
     "start_time": "2025-05-13T04:15:03.708373",
     "status": "completed"
    },
    "tags": []
   },
   "outputs": [
    {
     "name": "stdout",
     "output_type": "stream",
     "text": [
      "485  publications files modified in the last 7 days.\n"
     ]
    }
   ],
   "source": [
    "from datetime import datetime, timedelta, timezone\n",
    "from glob import glob\n",
    "import os\n",
    "\n",
    "files = glob('_build/html/*.md')\n",
    "days = 7\n",
    "now = datetime.today()\n",
    "res = []\n",
    "for fk in files:\n",
    "    stat_result = os.stat(fk).st_ctime\n",
    "    modified = datetime.fromtimestamp(stat_result, tz=timezone.utc).replace(tzinfo=None)\n",
    "    delta = now.today() - modified\n",
    "    if delta <= timedelta(days=days):\n",
    "        res.append((delta.seconds, fk))\n",
    "res = [k[1] for k in reversed(sorted(res, key=lambda x:x[1]))]\n",
    "npub = len(res)\n",
    "print(len(res), f\" publications files modified in the last {days:d} days.\")\n",
    "# [ print('\\t', k) for k in res ];"
   ]
  },
  {
   "cell_type": "code",
   "execution_count": 11,
   "id": "015de740",
   "metadata": {
    "execution": {
     "iopub.execute_input": "2025-05-13T04:15:03.738570Z",
     "iopub.status.busy": "2025-05-13T04:15:03.738082Z",
     "iopub.status.idle": "2025-05-13T04:15:03.762520Z",
     "shell.execute_reply": "2025-05-13T04:15:03.761914Z"
    },
    "papermill": {
     "duration": 0.031498,
     "end_time": "2025-05-13T04:15:03.763543",
     "exception": false,
     "start_time": "2025-05-13T04:15:03.732045",
     "status": "completed"
    },
    "tags": []
   },
   "outputs": [
    {
     "name": "stdout",
     "output_type": "stream",
     "text": [
      "10  publications in the last 7 days.\n"
     ]
    }
   ],
   "source": [
    "import datetime\n",
    "from glob import glob\n",
    "\n",
    "def get_last_n_days(lst, days=1):\n",
    "    \"\"\" Get the documents from the last n days \"\"\"\n",
    "    sorted_lst = sorted(lst, key=lambda x: x[1], reverse=True)\n",
    "    for fname, date in sorted_lst:\n",
    "        if date >= str(datetime.date.today() - datetime.timedelta(days=days)):\n",
    "            yield fname\n",
    "\n",
    "def extract_appearance_dates(lst_file):\n",
    "    dates = []\n",
    "\n",
    "    def get_date(line):\n",
    "        return line\\\n",
    "            .split('Appeared on:')[-1]\\\n",
    "            .split('</mark>')[0].strip()\n",
    "\n",
    "    for fname in lst:\n",
    "        with open(fname, 'r') as f:\n",
    "            found_date = False\n",
    "            for line in f:\n",
    "                if not found_date:\n",
    "                    if \"Appeared on\" in line:\n",
    "                        found_date = True\n",
    "                        dates.append((fname, get_date(line)))\n",
    "                else:\n",
    "                    break\n",
    "    return dates\n",
    "\n",
    "from glob import glob\n",
    "lst = glob('_build/html/*md')\n",
    "days = 7\n",
    "dates = extract_appearance_dates(lst)\n",
    "res = list(get_last_n_days(dates, days))\n",
    "npub = len(res)\n",
    "print(len(res), f\" publications in the last {days:d} days.\")"
   ]
  },
  {
   "cell_type": "code",
   "execution_count": 12,
   "id": "52ca0208",
   "metadata": {
    "execution": {
     "iopub.execute_input": "2025-05-13T04:15:03.775304Z",
     "iopub.status.busy": "2025-05-13T04:15:03.775080Z",
     "iopub.status.idle": "2025-05-13T04:15:03.779984Z",
     "shell.execute_reply": "2025-05-13T04:15:03.779467Z"
    },
    "papermill": {
     "duration": 0.011885,
     "end_time": "2025-05-13T04:15:03.780967",
     "exception": false,
     "start_time": "2025-05-13T04:15:03.769082",
     "status": "completed"
    },
    "scrolled": false,
    "tags": []
   },
   "outputs": [],
   "source": [
    "def create_carousel(npub=4):\n",
    "    \"\"\" Generate the HTML code for a carousel with `npub` slides \"\"\"\n",
    "    carousel = [\"\"\"  <div class=\"carousel\" \"\"\",\n",
    "                \"\"\"       data-flickity='{ \"autoPlay\": 10000, \"adaptiveHeight\": true, \"resize\": true, \"wrapAround\": true, \"pauseAutoPlayOnHover\": true, \"groupCells\": 1 }' id=\"asyncTypeset\">\"\"\"\n",
    "                ]\n",
    "    \n",
    "    item_str = \"\"\"    <div class=\"carousel-cell\"> <div id=\"slide{k}\" class=\"md_view\">Content {k}</div> </div>\"\"\"\n",
    "    for k in range(1, npub + 1):\n",
    "        carousel.append(item_str.format(k=k))\n",
    "    carousel.append(\"  </div>\")\n",
    "    return '\\n'.join(carousel)\n",
    "\n",
    "def create_grid(npub=4):\n",
    "    \"\"\" Generate the HTML code for a flat grid with `npub` slides \"\"\"\n",
    "    grid = [\"\"\"  <div class=\"grid\"> \"\"\",\n",
    "                ]\n",
    "    \n",
    "    item_str = \"\"\"    <div class=\"grid-item\"> <div id=\"slide{k}\" class=\"md_view\">Content {k}</div> </div>\"\"\"\n",
    "    for k in range(1, npub + 1):\n",
    "        grid.append(item_str.format(k=k))\n",
    "    grid.append(\"  </div>\")\n",
    "    return '\\n'.join(grid)"
   ]
  },
  {
   "cell_type": "code",
   "execution_count": 13,
   "id": "a6eac5b6",
   "metadata": {
    "execution": {
     "iopub.execute_input": "2025-05-13T04:15:03.792439Z",
     "iopub.status.busy": "2025-05-13T04:15:03.792220Z",
     "iopub.status.idle": "2025-05-13T04:15:03.797217Z",
     "shell.execute_reply": "2025-05-13T04:15:03.796701Z"
    },
    "papermill": {
     "duration": 0.011788,
     "end_time": "2025-05-13T04:15:03.798181",
     "exception": false,
     "start_time": "2025-05-13T04:15:03.786393",
     "status": "completed"
    },
    "scrolled": false,
    "tags": []
   },
   "outputs": [],
   "source": [
    "carousel = create_carousel(npub)\n",
    "docs = ', '.join(['\"{0:s}\"'.format(k.split('/')[-1]) for k in res])\n",
    "slides = ', '.join([f'\"slide{k}\"' for k in range(1, npub + 1)])\n",
    "\n",
    "with open(\"daily_template.html\", \"r\") as tpl:\n",
    "    page = tpl.read()\n",
    "    page = page.replace(\"{%-- carousel:s --%}\", carousel)\\\n",
    "               .replace(\"{%-- suptitle:s --%}\",  \"7-day archives\" )\\\n",
    "               .replace(\"{%-- docs:s --%}\", docs)\\\n",
    "               .replace(\"{%-- slides:s --%}\", slides)\n",
    "    \n",
    "with open(\"_build/html/index_7days.html\", 'w') as fout:\n",
    "    fout.write(page)"
   ]
  },
  {
   "cell_type": "code",
   "execution_count": 14,
   "id": "adc1a1ec",
   "metadata": {
    "execution": {
     "iopub.execute_input": "2025-05-13T04:15:03.809971Z",
     "iopub.status.busy": "2025-05-13T04:15:03.809773Z",
     "iopub.status.idle": "2025-05-13T04:15:03.816656Z",
     "shell.execute_reply": "2025-05-13T04:15:03.816099Z"
    },
    "papermill": {
     "duration": 0.013953,
     "end_time": "2025-05-13T04:15:03.817642",
     "exception": false,
     "start_time": "2025-05-13T04:15:03.803689",
     "status": "completed"
    },
    "tags": []
   },
   "outputs": [
    {
     "name": "stdout",
     "output_type": "stream",
     "text": [
      "3  publications in the last day.\n"
     ]
    }
   ],
   "source": [
    "# redo for today\n",
    "days = 1\n",
    "res = list(get_last_n_days(dates, days))\n",
    "npub = len(res)\n",
    "print(len(res), f\" publications in the last day.\")\n",
    "\n",
    "carousel = create_carousel(npub)\n",
    "docs = ', '.join(['\"{0:s}\"'.format(k.split('/')[-1]) for k in res])\n",
    "slides = ', '.join([f'\"slide{k}\"' for k in range(1, npub + 1)])\n",
    "\n",
    "with open(\"daily_template.html\", \"r\") as tpl:\n",
    "    page = tpl.read()\n",
    "    page = page.replace(\"{%-- carousel:s --%}\", carousel)\\\n",
    "               .replace(\"{%-- suptitle:s --%}\",  \"Daily\" )\\\n",
    "               .replace(\"{%-- docs:s --%}\", docs)\\\n",
    "               .replace(\"{%-- slides:s --%}\", slides)\n",
    "    \n",
    "# print(carousel, docs, slides)\n",
    "# print(page)\n",
    "with open(\"_build/html/index_daily.html\", 'w') as fout:\n",
    "    fout.write(page)"
   ]
  },
  {
   "cell_type": "code",
   "execution_count": 15,
   "id": "00eece82",
   "metadata": {
    "execution": {
     "iopub.execute_input": "2025-05-13T04:15:03.829795Z",
     "iopub.status.busy": "2025-05-13T04:15:03.829341Z",
     "iopub.status.idle": "2025-05-13T04:15:03.835900Z",
     "shell.execute_reply": "2025-05-13T04:15:03.835373Z"
    },
    "papermill": {
     "duration": 0.01374,
     "end_time": "2025-05-13T04:15:03.836925",
     "exception": false,
     "start_time": "2025-05-13T04:15:03.823185",
     "status": "completed"
    },
    "scrolled": false,
    "tags": []
   },
   "outputs": [
    {
     "name": "stdout",
     "output_type": "stream",
     "text": [
      "6  6 publications selected.\n"
     ]
    }
   ],
   "source": [
    "# Create the flat grid of the last N papers (fixed number regardless of dates)\n",
    "from itertools import islice \n",
    "\n",
    "npub = 6\n",
    "res = [k[0] for k in (islice(reversed(sorted(dates, key=lambda x: x[1])), 6))]\n",
    "print(len(res), f\" {npub} publications selected.\")\n",
    "\n",
    "grid = create_grid(npub)\n",
    "docs = ', '.join(['\"{0:s}\"'.format(k.split('/')[-1]) for k in res])\n",
    "slides = ', '.join([f'\"slide{k}\"' for k in range(1, npub + 1)])\n",
    "\n",
    "with open(\"grid_template.html\", \"r\") as tpl:\n",
    "    page = tpl.read()\n",
    "    page = page.replace(\"{%-- grid-content:s --%}\", grid)\\\n",
    "               .replace(\"{%-- suptitle:s --%}\",  f\"Last {npub:,d} papers\" )\\\n",
    "               .replace(\"{%-- docs:s --%}\", docs)\\\n",
    "               .replace(\"{%-- slides:s --%}\", slides)\n",
    "    \n",
    "# print(grid, docs, slides)\n",
    "# print(page)\n",
    "with open(\"_build/html/index_npub_grid.html\", 'w') as fout:\n",
    "    fout.write(page)"
   ]
  }
 ],
 "metadata": {
  "kernelspec": {
   "display_name": "Python 3 (ipykernel)",
   "language": "python",
   "name": "python3"
  },
  "language_info": {
   "codemirror_mode": {
    "name": "ipython",
    "version": 3
   },
   "file_extension": ".py",
   "mimetype": "text/x-python",
   "name": "python",
   "nbconvert_exporter": "python",
   "pygments_lexer": "ipython3",
   "version": "3.9.22"
  },
  "papermill": {
   "default_parameters": {},
   "duration": 53.976797,
   "end_time": "2025-05-13T04:15:04.058181",
   "environment_variables": {},
   "exception": null,
   "input_path": "MPIA daily digest.ipynb",
   "output_path": "log.ipynb",
   "parameters": {},
   "start_time": "2025-05-13T04:14:10.081384",
   "version": "2.6.0"
  },
  "vscode": {
   "interpreter": {
    "hash": "aee8b7b246df8f9039afb4144a1f6fd8d2ca17a180786b69acc140d282b71a49"
   }
  },
  "widgets": {
   "application/vnd.jupyter.widget-state+json": {
    "state": {
     "0192137f8ac44fb09de8b946fad94c9d": {
      "model_module": "@jupyter-widgets/controls",
      "model_module_version": "2.0.0",
      "model_name": "HTMLStyleModel",
      "state": {
       "_model_module": "@jupyter-widgets/controls",
       "_model_module_version": "2.0.0",
       "_model_name": "HTMLStyleModel",
       "_view_count": null,
       "_view_module": "@jupyter-widgets/base",
       "_view_module_version": "2.0.0",
       "_view_name": "StyleView",
       "background": null,
       "description_width": "",
       "font_size": null,
       "text_color": null
      }
     },
     "0ecee969369443f5ba76a34d6e42940e": {
      "model_module": "@jupyter-widgets/controls",
      "model_module_version": "2.0.0",
      "model_name": "HBoxModel",
      "state": {
       "_dom_classes": [],
       "_model_module": "@jupyter-widgets/controls",
       "_model_module_version": "2.0.0",
       "_model_name": "HBoxModel",
       "_view_count": null,
       "_view_module": "@jupyter-widgets/controls",
       "_view_module_version": "2.0.0",
       "_view_name": "HBoxView",
       "box_style": "",
       "children": [
        "IPY_MODEL_543c7dcca9f3467599ccd3cc01c480ad",
        "IPY_MODEL_95b700ecbdcc4801a7b343457a11ee39",
        "IPY_MODEL_d55013c0a4e4456e9ff5308cc85a245c"
       ],
       "layout": "IPY_MODEL_c72ad370eeb24f51b969b05424966f2c",
       "tabbable": null,
       "tooltip": null
      }
     },
     "324279d73fbc44f0ac353d5955c99b86": {
      "model_module": "@jupyter-widgets/controls",
      "model_module_version": "2.0.0",
      "model_name": "HTMLStyleModel",
      "state": {
       "_model_module": "@jupyter-widgets/controls",
       "_model_module_version": "2.0.0",
       "_model_name": "HTMLStyleModel",
       "_view_count": null,
       "_view_module": "@jupyter-widgets/base",
       "_view_module_version": "2.0.0",
       "_view_name": "StyleView",
       "background": null,
       "description_width": "",
       "font_size": null,
       "text_color": null
      }
     },
     "34fcece323bf456eaebe246621c65ec5": {
      "model_module": "@jupyter-widgets/base",
      "model_module_version": "2.0.0",
      "model_name": "LayoutModel",
      "state": {
       "_model_module": "@jupyter-widgets/base",
       "_model_module_version": "2.0.0",
       "_model_name": "LayoutModel",
       "_view_count": null,
       "_view_module": "@jupyter-widgets/base",
       "_view_module_version": "2.0.0",
       "_view_name": "LayoutView",
       "align_content": null,
       "align_items": null,
       "align_self": null,
       "border_bottom": null,
       "border_left": null,
       "border_right": null,
       "border_top": null,
       "bottom": null,
       "display": null,
       "flex": null,
       "flex_flow": null,
       "grid_area": null,
       "grid_auto_columns": null,
       "grid_auto_flow": null,
       "grid_auto_rows": null,
       "grid_column": null,
       "grid_gap": null,
       "grid_row": null,
       "grid_template_areas": null,
       "grid_template_columns": null,
       "grid_template_rows": null,
       "height": null,
       "justify_content": null,
       "justify_items": null,
       "left": null,
       "margin": null,
       "max_height": null,
       "max_width": null,
       "min_height": null,
       "min_width": null,
       "object_fit": null,
       "object_position": null,
       "order": null,
       "overflow": null,
       "padding": null,
       "right": null,
       "top": null,
       "visibility": null,
       "width": null
      }
     },
     "487abdb74f484f8bbf9d6bbcca4f0743": {
      "model_module": "@jupyter-widgets/base",
      "model_module_version": "2.0.0",
      "model_name": "LayoutModel",
      "state": {
       "_model_module": "@jupyter-widgets/base",
       "_model_module_version": "2.0.0",
       "_model_name": "LayoutModel",
       "_view_count": null,
       "_view_module": "@jupyter-widgets/base",
       "_view_module_version": "2.0.0",
       "_view_name": "LayoutView",
       "align_content": null,
       "align_items": null,
       "align_self": null,
       "border_bottom": null,
       "border_left": null,
       "border_right": null,
       "border_top": null,
       "bottom": null,
       "display": null,
       "flex": null,
       "flex_flow": null,
       "grid_area": null,
       "grid_auto_columns": null,
       "grid_auto_flow": null,
       "grid_auto_rows": null,
       "grid_column": null,
       "grid_gap": null,
       "grid_row": null,
       "grid_template_areas": null,
       "grid_template_columns": null,
       "grid_template_rows": null,
       "height": null,
       "justify_content": null,
       "justify_items": null,
       "left": null,
       "margin": null,
       "max_height": null,
       "max_width": null,
       "min_height": null,
       "min_width": null,
       "object_fit": null,
       "object_position": null,
       "order": null,
       "overflow": null,
       "padding": null,
       "right": null,
       "top": null,
       "visibility": null,
       "width": null
      }
     },
     "543c7dcca9f3467599ccd3cc01c480ad": {
      "model_module": "@jupyter-widgets/controls",
      "model_module_version": "2.0.0",
      "model_name": "HTMLModel",
      "state": {
       "_dom_classes": [],
       "_model_module": "@jupyter-widgets/controls",
       "_model_module_version": "2.0.0",
       "_model_name": "HTMLModel",
       "_view_count": null,
       "_view_module": "@jupyter-widgets/controls",
       "_view_module_version": "2.0.0",
       "_view_name": "HTMLView",
       "description": "",
       "description_allow_html": false,
       "layout": "IPY_MODEL_95149e44ede94fad9de6a990efe4aad4",
       "placeholder": "​",
       "style": "IPY_MODEL_324279d73fbc44f0ac353d5955c99b86",
       "tabbable": null,
       "tooltip": null,
       "value": "100%"
      }
     },
     "95149e44ede94fad9de6a990efe4aad4": {
      "model_module": "@jupyter-widgets/base",
      "model_module_version": "2.0.0",
      "model_name": "LayoutModel",
      "state": {
       "_model_module": "@jupyter-widgets/base",
       "_model_module_version": "2.0.0",
       "_model_name": "LayoutModel",
       "_view_count": null,
       "_view_module": "@jupyter-widgets/base",
       "_view_module_version": "2.0.0",
       "_view_name": "LayoutView",
       "align_content": null,
       "align_items": null,
       "align_self": null,
       "border_bottom": null,
       "border_left": null,
       "border_right": null,
       "border_top": null,
       "bottom": null,
       "display": null,
       "flex": null,
       "flex_flow": null,
       "grid_area": null,
       "grid_auto_columns": null,
       "grid_auto_flow": null,
       "grid_auto_rows": null,
       "grid_column": null,
       "grid_gap": null,
       "grid_row": null,
       "grid_template_areas": null,
       "grid_template_columns": null,
       "grid_template_rows": null,
       "height": null,
       "justify_content": null,
       "justify_items": null,
       "left": null,
       "margin": null,
       "max_height": null,
       "max_width": null,
       "min_height": null,
       "min_width": null,
       "object_fit": null,
       "object_position": null,
       "order": null,
       "overflow": null,
       "padding": null,
       "right": null,
       "top": null,
       "visibility": null,
       "width": null
      }
     },
     "95b700ecbdcc4801a7b343457a11ee39": {
      "model_module": "@jupyter-widgets/controls",
      "model_module_version": "2.0.0",
      "model_name": "FloatProgressModel",
      "state": {
       "_dom_classes": [],
       "_model_module": "@jupyter-widgets/controls",
       "_model_module_version": "2.0.0",
       "_model_name": "FloatProgressModel",
       "_view_count": null,
       "_view_module": "@jupyter-widgets/controls",
       "_view_module_version": "2.0.0",
       "_view_name": "ProgressView",
       "bar_style": "success",
       "description": "",
       "description_allow_html": false,
       "layout": "IPY_MODEL_487abdb74f484f8bbf9d6bbcca4f0743",
       "max": 7.0,
       "min": 0.0,
       "orientation": "horizontal",
       "style": "IPY_MODEL_e7296427cb1a40ddb04cbaf3a00b3124",
       "tabbable": null,
       "tooltip": null,
       "value": 7.0
      }
     },
     "c72ad370eeb24f51b969b05424966f2c": {
      "model_module": "@jupyter-widgets/base",
      "model_module_version": "2.0.0",
      "model_name": "LayoutModel",
      "state": {
       "_model_module": "@jupyter-widgets/base",
       "_model_module_version": "2.0.0",
       "_model_name": "LayoutModel",
       "_view_count": null,
       "_view_module": "@jupyter-widgets/base",
       "_view_module_version": "2.0.0",
       "_view_name": "LayoutView",
       "align_content": null,
       "align_items": null,
       "align_self": null,
       "border_bottom": null,
       "border_left": null,
       "border_right": null,
       "border_top": null,
       "bottom": null,
       "display": null,
       "flex": null,
       "flex_flow": null,
       "grid_area": null,
       "grid_auto_columns": null,
       "grid_auto_flow": null,
       "grid_auto_rows": null,
       "grid_column": null,
       "grid_gap": null,
       "grid_row": null,
       "grid_template_areas": null,
       "grid_template_columns": null,
       "grid_template_rows": null,
       "height": null,
       "justify_content": null,
       "justify_items": null,
       "left": null,
       "margin": null,
       "max_height": null,
       "max_width": null,
       "min_height": null,
       "min_width": null,
       "object_fit": null,
       "object_position": null,
       "order": null,
       "overflow": null,
       "padding": null,
       "right": null,
       "top": null,
       "visibility": null,
       "width": null
      }
     },
     "d55013c0a4e4456e9ff5308cc85a245c": {
      "model_module": "@jupyter-widgets/controls",
      "model_module_version": "2.0.0",
      "model_name": "HTMLModel",
      "state": {
       "_dom_classes": [],
       "_model_module": "@jupyter-widgets/controls",
       "_model_module_version": "2.0.0",
       "_model_name": "HTMLModel",
       "_view_count": null,
       "_view_module": "@jupyter-widgets/controls",
       "_view_module_version": "2.0.0",
       "_view_name": "HTMLView",
       "description": "",
       "description_allow_html": false,
       "layout": "IPY_MODEL_34fcece323bf456eaebe246621c65ec5",
       "placeholder": "​",
       "style": "IPY_MODEL_0192137f8ac44fb09de8b946fad94c9d",
       "tabbable": null,
       "tooltip": null,
       "value": " 7/7 [00:27&lt;00:00,  5.15s/it]"
      }
     },
     "e7296427cb1a40ddb04cbaf3a00b3124": {
      "model_module": "@jupyter-widgets/controls",
      "model_module_version": "2.0.0",
      "model_name": "ProgressStyleModel",
      "state": {
       "_model_module": "@jupyter-widgets/controls",
       "_model_module_version": "2.0.0",
       "_model_name": "ProgressStyleModel",
       "_view_count": null,
       "_view_module": "@jupyter-widgets/base",
       "_view_module_version": "2.0.0",
       "_view_name": "StyleView",
       "bar_color": null,
       "description_width": ""
      }
     }
    },
    "version_major": 2,
    "version_minor": 0
   }
  }
 },
 "nbformat": 4,
 "nbformat_minor": 5
}