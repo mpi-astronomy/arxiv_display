{
 "cells": [
  {
   "cell_type": "markdown",
   "id": "92bcb855",
   "metadata": {
    "papermill": {
     "duration": 0.003761,
     "end_time": "2025-07-23T04:33:01.254711",
     "exception": false,
     "start_time": "2025-07-23T04:33:01.250950",
     "status": "completed"
    },
    "tags": []
   },
   "source": [
    "# MPIA Arxiv on Deck 2\n",
    "\n",
    "Contains the steps to produce the paper extractions."
   ]
  },
  {
   "cell_type": "code",
   "execution_count": 1,
   "id": "3a0d6e11",
   "metadata": {
    "execution": {
     "iopub.execute_input": "2025-07-23T04:33:01.262088Z",
     "iopub.status.busy": "2025-07-23T04:33:01.261823Z",
     "iopub.status.idle": "2025-07-23T04:33:01.491192Z",
     "shell.execute_reply": "2025-07-23T04:33:01.490567Z"
    },
    "papermill": {
     "duration": 0.234556,
     "end_time": "2025-07-23T04:33:01.492537",
     "exception": false,
     "start_time": "2025-07-23T04:33:01.257981",
     "status": "completed"
    },
    "tags": []
   },
   "outputs": [],
   "source": [
    "# Imports\n",
    "import os\n",
    "from IPython.display import Markdown, display\n",
    "from tqdm.notebook import tqdm\n",
    "import warnings\n",
    "from PIL import Image \n",
    "import re\n",
    "\n",
    "# requires arxiv_on_deck_2\n",
    "\n",
    "from arxiv_on_deck_2.arxiv2 import (get_new_papers, \n",
    "                                    get_paper_from_identifier,\n",
    "                                    retrieve_document_source, \n",
    "                                    get_markdown_badge)\n",
    "from arxiv_on_deck_2 import (latex,\n",
    "                             latex_bib,\n",
    "                             mpia,\n",
    "                             highlight_authors_in_list)\n",
    "\n",
    "# Sometimes images are really big\n",
    "Image.MAX_IMAGE_PIXELS = 1000000000 "
   ]
  },
  {
   "cell_type": "code",
   "execution_count": 2,
   "id": "22aa9d44",
   "metadata": {
    "execution": {
     "iopub.execute_input": "2025-07-23T04:33:01.499596Z",
     "iopub.status.busy": "2025-07-23T04:33:01.499346Z",
     "iopub.status.idle": "2025-07-23T04:33:01.507212Z",
     "shell.execute_reply": "2025-07-23T04:33:01.506641Z"
    },
    "papermill": {
     "duration": 0.012444,
     "end_time": "2025-07-23T04:33:01.508197",
     "exception": false,
     "start_time": "2025-07-23T04:33:01.495753",
     "status": "completed"
    },
    "tags": []
   },
   "outputs": [],
   "source": [
    "# Some useful definitions.\n",
    "\n",
    "class AffiliationWarning(UserWarning):\n",
    "    pass\n",
    "\n",
    "class AffiliationError(RuntimeError):\n",
    "    pass\n",
    "\n",
    "def validation(source: str):\n",
    "    \"\"\"Raises error paper during parsing of source file\n",
    "    \n",
    "    Allows checks before parsing TeX code.\n",
    "    \n",
    "    Raises AffiliationWarning\n",
    "    \"\"\"\n",
    "    check = mpia.affiliation_verifications(source, verbose=True)\n",
    "    if check is not True:\n",
    "        raise AffiliationError(\"mpia.affiliation_verifications: \" + check)\n",
    "\n",
    "        \n",
    "warnings.simplefilter('always', AffiliationWarning)\n",
    "\n",
    "\n",
    "def get_markdown_qrcode(paper_id: str):\n",
    "    \"\"\" Generate a qrcode to the arxiv page using qrserver.com\n",
    "    \n",
    "    :param paper: Arxiv paper\n",
    "    :returns: markdown text\n",
    "    \"\"\"\n",
    "    url = r\"https://api.qrserver.com/v1/create-qr-code/?size=100x100&data=\"\n",
    "    txt = f\"\"\"<img src={url}\"https://arxiv.org/abs/{paper_id}\">\"\"\"\n",
    "    txt = '<div id=\"qrcode\">' + txt + '</div>'\n",
    "    return txt\n",
    "\n",
    "\n",
    "def clean_non_western_encoded_characters_commands(text: str) -> str:\n",
    "    \"\"\" Remove non-western encoded characters from a string\n",
    "    List may need to grow.\n",
    "    \n",
    "    :param text: the text to clean\n",
    "    :return: the cleaned text\n",
    "    \"\"\"\n",
    "    text = re.sub(r\"(\\\\begin{CJK}{UTF8}{gbsn})(.*?)(\\\\end{CJK})\", r\"\\2\", text)\n",
    "    return text\n",
    "\n",
    "\n",
    "def get_initials(name: str) -> str:\n",
    "    \"\"\" Get the short name, e.g., A.-B. FamName\n",
    "    :param name: full name\n",
    "    :returns: initials\n",
    "    \"\"\"\n",
    "    initials = []\n",
    "    # account for non western names often in ()\n",
    "    if '(' in name:\n",
    "        name = clean_non_western_encoded_characters_commands(name)\n",
    "        suffix = re.findall(r\"\\((.*?)\\)\", name)[0]\n",
    "        name = name.replace(f\"({suffix})\", '')\n",
    "    else:\n",
    "        suffix = ''\n",
    "    split = name.split()\n",
    "    for token in split[:-1]:\n",
    "        if '-' in token:\n",
    "            current = '-'.join([k[0] + '.' for k in token.split('-')])\n",
    "        else:\n",
    "            current = token[0] + '.'\n",
    "        initials.append(current)\n",
    "    initials.append(split[-1].strip())\n",
    "    if suffix:\n",
    "        initials.append(f\"({suffix})\")\n",
    "    return ' '.join(initials)"
   ]
  },
  {
   "cell_type": "markdown",
   "id": "14bd6310",
   "metadata": {
    "papermill": {
     "duration": 0.002848,
     "end_time": "2025-07-23T04:33:01.513976",
     "exception": false,
     "start_time": "2025-07-23T04:33:01.511128",
     "status": "completed"
    },
    "tags": []
   },
   "source": [
    "## get list of arxiv paper candidates\n",
    "\n",
    "We use the MPIA mitarbeiter list webpage from mpia.de to get author names\n",
    "We then get all new papers from Arxiv and match authors"
   ]
  },
  {
   "cell_type": "code",
   "execution_count": 3,
   "id": "7ea813a8",
   "metadata": {
    "execution": {
     "iopub.execute_input": "2025-07-23T04:33:01.520576Z",
     "iopub.status.busy": "2025-07-23T04:33:01.520326Z",
     "iopub.status.idle": "2025-07-23T04:33:20.443802Z",
     "shell.execute_reply": "2025-07-23T04:33:20.443207Z"
    },
    "papermill": {
     "duration": 18.92814,
     "end_time": "2025-07-23T04:33:20.444983",
     "exception": false,
     "start_time": "2025-07-23T04:33:01.516843",
     "status": "completed"
    },
    "tags": []
   },
   "outputs": [],
   "source": [
    "# deal with the author list and edge cases of people that cannot be consistent on their name  \n",
    "\n",
    "def filter_non_scientists(name: str) -> bool:\n",
    "    \"\"\" Loose filter on expected authorships\n",
    "\n",
    "    removing IT, administration, technical staff\n",
    "    :param name: name\n",
    "    :returns: False if name is not a scientist\n",
    "    \"\"\"\n",
    "    remove_list = ['Licht', 'Binroth', 'Witzel', 'Jordan',\n",
    "                   'Zähringer', 'Scheerer', 'Hoffmann', 'Düe',\n",
    "                   'Hellmich', 'Enkler-Scharpegge', 'Witte-Nguy',\n",
    "                   'Dehen', 'Beckmann', 'Jager', 'Jäger'\n",
    "                  ]\n",
    "\n",
    "    for k in remove_list:\n",
    "        if k in name:\n",
    "            return False\n",
    "    return True\n",
    "\n",
    "def add_author_to_list(author_list: list) -> list:\n",
    "    \"\"\" Add author to list if not already in list\n",
    "    \n",
    "    :param author: author name\n",
    "    :param author_list: list of authors\n",
    "    :returns: updated list of authors\n",
    "    \"\"\"\n",
    "    add_list = ['T. Henning']\n",
    "\n",
    "    for author in add_list:\n",
    "        if author not in author_list:\n",
    "            author_list.append(author)\n",
    "    return author_list\n",
    "\n",
    "# get list from MPIA website\n",
    "# filter for non-scientists (mpia.get_mpia_mitarbeiter_list() does some filtering)\n",
    "mpia_authors = [k[1] for k in mpia.get_mpia_mitarbeiter_list() if filter_non_scientists(k[1])]\n",
    "# add some missing author because of inconsistencies in their MPIA name and author name on papers\n",
    "mpia_authors = add_author_to_list(mpia_authors)"
   ]
  },
  {
   "cell_type": "code",
   "execution_count": 4,
   "id": "2645e73a",
   "metadata": {
    "execution": {
     "iopub.execute_input": "2025-07-23T04:33:20.452170Z",
     "iopub.status.busy": "2025-07-23T04:33:20.451980Z",
     "iopub.status.idle": "2025-07-23T04:33:21.575538Z",
     "shell.execute_reply": "2025-07-23T04:33:21.574912Z"
    },
    "papermill": {
     "duration": 1.128179,
     "end_time": "2025-07-23T04:33:21.576543",
     "exception": false,
     "start_time": "2025-07-23T04:33:20.448364",
     "status": "completed"
    },
    "tags": []
   },
   "outputs": [
    {
     "name": "stdout",
     "output_type": "stream",
     "text": [
      "S. Souza  ->  S. Souza  |  ['S. Souza']\n",
      "S. Kraus  ->  S. Kraus  |  ['S. Kraus']\n",
      "K. El-Badry  ->  K. El-Badry  |  ['K. El-Badry']\n",
      "Y. Wang  ->  Y. Wang  |  ['Y. Wang']\n",
      "X. Zhang  ->  X. Zhang  |  ['X. Zhang']\n"
     ]
    },
    {
     "name": "stdout",
     "output_type": "stream",
     "text": [
      "C. Gieser  ->  C. Gieser  |  ['C. Gieser']\n",
      "T. Henning  ->  T. Henning  |  ['T. Henning']\n",
      "D. Semenov  ->  D. Semenov  |  ['D. Semenov']\n",
      "X. Zhang  ->  X. Zhang  |  ['X. Zhang']\n",
      "X. Zhang  ->  X. Zhang  |  ['X. Zhang']\n"
     ]
    },
    {
     "name": "stdout",
     "output_type": "stream",
     "text": [
      "Arxiv has 92 new papers today\n",
      "          8 with possible author matches\n"
     ]
    }
   ],
   "source": [
    "new_papers = get_new_papers()\n",
    "# add manual references\n",
    "add_paper_refs = []\n",
    "new_papers.extend([get_paper_from_identifier(k) for k in add_paper_refs])\n",
    "\n",
    "def robust_call(fn, value, *args, **kwargs):\n",
    "    try:\n",
    "        return fn(value, *args, **kwargs)\n",
    "    except Exception:\n",
    "        return value\n",
    "\n",
    "candidates = []\n",
    "for paperk in new_papers:\n",
    "    # Check author list with their initials\n",
    "    normed_author_list = [robust_call(mpia.get_initials, k) for k in paperk['authors']]\n",
    "    hl_authors = highlight_authors_in_list(normed_author_list, mpia_authors, verbose=True)\n",
    "    matches = [(hl, orig) for hl, orig in zip(hl_authors, paperk['authors']) if 'mark' in hl]\n",
    "    paperk['authors'] = hl_authors\n",
    "    if matches:\n",
    "        # only select paper if an author matched our list\n",
    "        candidates.append(paperk)\n",
    "print(\"\"\"Arxiv has {0:,d} new papers today\"\"\".format(len(new_papers)))        \n",
    "print(\"\"\"          {0:,d} with possible author matches\"\"\".format(len(candidates)))"
   ]
  },
  {
   "cell_type": "markdown",
   "id": "3543b34a",
   "metadata": {
    "papermill": {
     "duration": 0.003094,
     "end_time": "2025-07-23T04:33:21.583274",
     "exception": false,
     "start_time": "2025-07-23T04:33:21.580180",
     "status": "completed"
    },
    "tags": []
   },
   "source": [
    "# Parse sources and generate relevant outputs\n",
    "\n",
    "From the candidates, we do the following steps:\n",
    "* get their tarball from ArXiv (and extract data)\n",
    "* find the main .tex file: find one with \\documentclass{...} (sometimes it's non trivial)\n",
    "* Check affiliations with :func:`validation`, which uses :func:`mpia.affiliation_verifications`\n",
    "* If passing the affiliations: we parse the .tex source\n",
    "   * inject sub-documents into the main (flatten the main document)\n",
    "   * parse structure, extract information (title, abstract, authors, figures...)\n",
    "   * handles `\\graphicspath` if provided\n",
    "* Generate the .md document."
   ]
  },
  {
   "cell_type": "code",
   "execution_count": 5,
   "id": "9576b79e",
   "metadata": {
    "execution": {
     "iopub.execute_input": "2025-07-23T04:33:21.590426Z",
     "iopub.status.busy": "2025-07-23T04:33:21.590226Z",
     "iopub.status.idle": "2025-07-23T04:34:03.142462Z",
     "shell.execute_reply": "2025-07-23T04:34:03.141716Z"
    },
    "papermill": {
     "duration": 41.557213,
     "end_time": "2025-07-23T04:34:03.143714",
     "exception": false,
     "start_time": "2025-07-23T04:33:21.586501",
     "status": "completed"
    },
    "scrolled": false,
    "tags": []
   },
   "outputs": [
    {
     "data": {
      "application/vnd.jupyter.widget-view+json": {
       "model_id": "ab701570e49b414991d8c8e7bc20c161",
       "version_major": 2,
       "version_minor": 0
      },
      "text/plain": [
       "  0%|          | 0/8 [00:00<?, ?it/s]"
      ]
     },
     "metadata": {},
     "output_type": "display_data"
    },
    {
     "name": "stdout",
     "output_type": "stream",
     "text": [
      "Retrieving document from  https://arxiv.org/e-print/2507.15921\n"
     ]
    },
    {
     "name": "stdout",
     "output_type": "stream",
     "text": [
      "extracting tarball to tmp_2507.15921... done.\n"
     ]
    },
    {
     "name": "stderr",
     "output_type": "stream",
     "text": [
      "/opt/hostedtoolcache/Python/3.9.23/x64/lib/python3.9/site-packages/IPython/core/interactiveshell.py:3550: LatexWarning: Multiple tex files.\n",
      "\n",
      "  exec(code_obj, self.user_global_ns, self.user_ns)\n",
      "/opt/hostedtoolcache/Python/3.9.23/x64/lib/python3.9/site-packages/IPython/core/interactiveshell.py:3550: LatexWarning: Found documentclass in tmp_2507.15921/aanda.tex\n",
      "\n",
      "  exec(code_obj, self.user_global_ns, self.user_ns)\n",
      "/opt/hostedtoolcache/Python/3.9.23/x64/lib/python3.9/site-packages/arxiv_on_deck_2/latex.py:414: LatexWarning: Latex injecting: 'isoc_fit' from 'tmp_2507.15921/isoc_fit.tex'\n",
      "  warnings.warn(LatexWarning(f\"Latex injecting: '{ext}' from '{subsource}'\"))\n",
      "/opt/hostedtoolcache/Python/3.9.23/x64/lib/python3.9/site-packages/arxiv_on_deck_2/latex.py:414: LatexWarning: Latex injecting: 'r_values' from 'tmp_2507.15921/r_values.tex'\n",
      "  warnings.warn(LatexWarning(f\"Latex injecting: '{ext}' from '{subsource}'\"))\n",
      "/opt/hostedtoolcache/Python/3.9.23/x64/lib/python3.9/site-packages/arxiv_on_deck_2/latex.py:414: LatexWarning: Latex injecting: 'isoc_fit' from 'tmp_2507.15921/isoc_fit.tex'\n",
      "  warnings.warn(LatexWarning(f\"Latex injecting: '{ext}' from '{subsource}'\"))\n"
     ]
    },
    {
     "name": "stdout",
     "output_type": "stream",
     "text": [
      "Found 51 bibliographic references in tmp_2507.15921/aanda.bbl.\n",
      "Retrieving document from  https://arxiv.org/e-print/2507.15933\n"
     ]
    },
    {
     "name": "stdout",
     "output_type": "stream",
     "text": [
      "extracting tarball to tmp_2507.15933... done.\n",
      "Retrieving document from  https://arxiv.org/e-print/2507.15952\n"
     ]
    },
    {
     "name": "stdout",
     "output_type": "stream",
     "text": [
      "extracting tarball to tmp_2507.15952... done.\n",
      "Retrieving document from  https://arxiv.org/e-print/2507.16131\n"
     ]
    },
    {
     "name": "stdout",
     "output_type": "stream",
     "text": [
      "extracting tarball to tmp_2507.16131... done.\n",
      "Retrieving document from  https://arxiv.org/e-print/2507.16189\n",
      "extracting tarball to tmp_2507.16189..."
     ]
    },
    {
     "name": "stdout",
     "output_type": "stream",
     "text": [
      " done.\n",
      "Retrieving document from  https://arxiv.org/e-print/2507.16303\n"
     ]
    },
    {
     "name": "stdout",
     "output_type": "stream",
     "text": [
      "extracting tarball to tmp_2507.16303..."
     ]
    },
    {
     "name": "stdout",
     "output_type": "stream",
     "text": [
      " done.\n"
     ]
    },
    {
     "name": "stdout",
     "output_type": "stream",
     "text": [
      "C. Gieser  ->  C. Gieser  |  ['C. Gieser']\n",
      "T. Henning  ->  T. Henning  |  ['T. Henning']\n",
      "D. Semenov  ->  D. Semenov  |  ['D. Semenov']\n"
     ]
    },
    {
     "name": "stdout",
     "output_type": "stream",
     "text": [
      "Found 80 bibliographic references in tmp_2507.16303/L1448N_PRODIGE_paper2_v7.bbl.\n",
      "Retrieving document from  https://arxiv.org/e-print/2507.16317\n",
      "extracting tarball to tmp_2507.16317..."
     ]
    },
    {
     "name": "stdout",
     "output_type": "stream",
     "text": [
      " done.\n",
      "Retrieving document from  https://arxiv.org/e-print/2507.16589\n",
      "extracting tarball to tmp_2507.16589... done.\n"
     ]
    }
   ],
   "source": [
    "documents = []\n",
    "failed = []\n",
    "for paper in tqdm(candidates):\n",
    "    # debug crap\n",
    "    paper['identifier'] = paper['identifier'].lower().replace('arxiv:', '').replace(r'\\n', '').strip()\n",
    "    paper_id = paper['identifier']\n",
    "    \n",
    "    folder = f'tmp_{paper_id}'\n",
    "\n",
    "    try:\n",
    "        if not os.path.isdir(folder):\n",
    "            folder = retrieve_document_source(f\"{paper_id}\", f'tmp_{paper_id}')\n",
    "        \n",
    "        try:\n",
    "            doc = latex.LatexDocument(folder, validation=validation)    \n",
    "        except AffiliationError as affilerror:\n",
    "            msg = f\"ArXiv:{paper_id:s} is not an MPIA paper... \" + str(affilerror)\n",
    "            failed.append((paper, \"affiliation error: \" + str(affilerror) ))\n",
    "            continue\n",
    "        \n",
    "        # Hack because sometimes author parsing does not work well\n",
    "        if (len(doc.authors) != len(paper['authors'])):\n",
    "            doc._authors = paper['authors']\n",
    "        else:\n",
    "            # highlight authors (FIXME: doc.highlight_authors)\n",
    "            # done on arxiv paper already\n",
    "            doc._authors = highlight_authors_in_list(\n",
    "                [get_initials(k) for k in doc.authors], \n",
    "                mpia_authors, verbose=True)\n",
    "        if (doc.abstract) in (None, ''):\n",
    "            doc._abstract = paper['abstract']\n",
    "            \n",
    "        doc.comment = (get_markdown_badge(paper_id) + \n",
    "                       \"<mark>Appeared on: \" + paper['date'] + \"</mark> - \")\n",
    "        if paper['comments']:\n",
    "            doc.comment += \" _\" + paper['comments'] + \"_\"\n",
    "        \n",
    "        full_md = doc.generate_markdown_text()\n",
    "        \n",
    "        full_md += get_markdown_qrcode(paper_id)\n",
    "        \n",
    "        # replace citations\n",
    "        try:\n",
    "            bibdata = latex_bib.LatexBib.from_doc(doc)\n",
    "            full_md = latex_bib.replace_citations(full_md, bibdata)\n",
    "        except Exception as e:\n",
    "            print(\"Issues with the citations\")\n",
    "            print(e)\n",
    "        \n",
    "        documents.append((paper_id, full_md))\n",
    "    except Exception as e:\n",
    "        warnings.warn(latex.LatexWarning(f\"{paper_id:s} did not run properly\\n\" +\n",
    "                                         str(e)\n",
    "                                        ))\n",
    "        failed.append((paper, \"latex error \" + str(e)))"
   ]
  },
  {
   "cell_type": "markdown",
   "id": "2505a25c",
   "metadata": {
    "papermill": {
     "duration": 0.003899,
     "end_time": "2025-07-23T04:34:03.151807",
     "exception": false,
     "start_time": "2025-07-23T04:34:03.147908",
     "status": "completed"
    },
    "tags": []
   },
   "source": [
    "### Export the logs\n",
    "\n",
    "Throughout, we also keep track of the logs per paper. see `logs-{today date}.md` "
   ]
  },
  {
   "cell_type": "code",
   "execution_count": 6,
   "id": "d733828a",
   "metadata": {
    "execution": {
     "iopub.execute_input": "2025-07-23T04:34:03.160554Z",
     "iopub.status.busy": "2025-07-23T04:34:03.160266Z",
     "iopub.status.idle": "2025-07-23T04:34:03.180099Z",
     "shell.execute_reply": "2025-07-23T04:34:03.179435Z"
    },
    "papermill": {
     "duration": 0.025422,
     "end_time": "2025-07-23T04:34:03.181160",
     "exception": false,
     "start_time": "2025-07-23T04:34:03.155738",
     "status": "completed"
    },
    "scrolled": false,
    "tags": []
   },
   "outputs": [
    {
     "data": {
      "text/markdown": [
       "## Successful papers"
      ],
      "text/plain": [
       "<IPython.core.display.Markdown object>"
      ]
     },
     "metadata": {},
     "output_type": "display_data"
    },
    {
     "data": {
      "text/markdown": [
       "\n",
       "|||\n",
       "|---:|:---|\n",
       "| [![arXiv](https://img.shields.io/badge/arXiv-2507.15921-b31b1b.svg)](https://arxiv.org/abs/2507.15921) | **The VISCACHA Survey: XIII. The extended main-sequence turn-off in intermediate-age low-mass clusters**  |\n",
       "|| <mark>S. Souza</mark>, et al. |\n",
       "|*Appeared on*| *2025-07-23*|\n",
       "|*Comments*| *Accepted for publication in A&A. 9 pages, 5 figures, and 2 tables*|\n",
       "|**Abstract**|            The extended main-sequence turn-off (eMSTO) is a well-known feature observed in young and intermediate-age star clusters, characterized by a significant broadening of the main-sequence turn-off region. Although prolonged star formation and stellar rotation have been proposed as possible explanations, no consensus has yet been reached. Most previous studies have focused on high-mass clusters. In this work, we extend the analysis to the less-explored low-mass regime by investigating star clusters in the Magellanic Clouds using data from the VISCACHA survey. We employed a widely used method to quantify the MSTO width in terms of age spread. Additionally, to validate our approach, we used a cluster also observed with HST. Our analysis confirms that the eMSTO phenomenon is also present in low-mass clusters, following the known age/mass-MSTO width relations. In particular, the less massive cluster in our sample does not show an eMSTO, supporting the proposed link between the eMSTO and the escape velocity of the cluster, providing a new lower limit to the age spread of $88\\pm40$ Myr for the presence of the eMSTO. The consistent MSTO width measurements between the VISCACHA and HST photometries confirm the robustness of our method and demonstrate that the age spread determination is independent of the photometric system, showing also the power of ground-based observations to investigate the eMSTO phenomenon.         |"
      ],
      "text/plain": [
       "[2507.15921] The VISCACHA Survey: XIII. The extended main-sequence turn-off in intermediate-age low-mass clusters\n",
       "\t<mark>S. Souza</mark>, et al."
      ]
     },
     "metadata": {},
     "output_type": "display_data"
    },
    {
     "data": {
      "text/markdown": [
       "\n",
       "|||\n",
       "|---:|:---|\n",
       "| [![arXiv](https://img.shields.io/badge/arXiv-2507.16303-b31b1b.svg)](https://arxiv.org/abs/2507.16303) | **ANTIHEROES-PRODIGE: Quantifying the connection from envelope to disk with the IRAM 30m telescope and NOEMA I. Attack of the streamers: L1448N's fight for order in the chaos**  |\n",
       "|| <mark>C. Gieser</mark>, et al. -- incl., <mark>T. Henning</mark>, <mark>D. Semenov</mark> |\n",
       "|*Appeared on*| *2025-07-23*|\n",
       "|*Comments*| *accepted for publication in A&A, 13 pages, 9 figures*|\n",
       "|**Abstract**|            Star formation is a hierarchical process ranging from molecular clouds down to individual protostars. In particular how infalling asymmetric structures, called streamers, delivering new material onto protostellar systems, are connected to the surrounding envelope is not understood. We investigate the connection between the cloud material at 10000 au scales down to 300 au scales towards L1448N in the Perseus star-forming region hosting three young Class 0/I protostellar systems. Sensitive molecular line observations taken with the IRAM 30m telescope and NOEMA at 1.4 mm are used to study the kinematic properties in the region traced by the molecular lines. Several infalling streamers are associated with the protostellar systems, some of them traced by C18O and DCN, while one of them is bright in SO and SO2. The kinematic properties of the former streamers are consistent with the velocities observed at large envelope scales of 10000 au, while the latter case show different kinematics. The masses and infall rates of the streamers are 0.01 Msun and 0.01-0.1 Msun and 10^-6 Msun/yr and 5-18x10^-6 Msun/yr for IRS3A and IRS3C, respectively. The envelope mass in the L1448N region is ~16Msun, thus the mass of a single streamer is low compared to the envelope mass (<1%). However, compared to the estimated mass of the protostellar systems a single streamer could deliver up to 1% and 8-17% of mass towards IRS3A (M*~1.2 Msun) and IRS3C (M*~1 Msun), respectively. The rotational signatures of structures in L1448N are all connected - from the large-scale envelope, infalling streamers, down to the rotation of all three disks. Two of the three Class 0/I protostellar systems are still fed by this surrounding material, which can be associated to the remnant envelope. However, we also find a streamer that is bright in SO and SO2 towards IRS3C that could be connected to a nearby sulfur reservoir.         |"
      ],
      "text/plain": [
       "[2507.16303] ANTIHEROES-PRODIGE: Quantifying the connection from envelope to disk with the IRAM 30m telescope and NOEMA I. Attack of the streamers: L1448N's fight for order in the chaos\n",
       "\t<mark>C. Gieser</mark>, et al. -- incl., <mark>T. Henning</mark>, <mark>D. Semenov</mark>"
      ]
     },
     "metadata": {},
     "output_type": "display_data"
    },
    {
     "data": {
      "text/markdown": [
       "## Failed papers"
      ],
      "text/plain": [
       "<IPython.core.display.Markdown object>"
      ]
     },
     "metadata": {},
     "output_type": "display_data"
    },
    {
     "data": {
      "text/markdown": [
       "\n",
       "|||\n",
       "|---:|:---|\n",
       "| [![arXiv](https://img.shields.io/badge/arXiv-2507.15952-b31b1b.svg)](https://arxiv.org/abs/2507.15952) | **Carbon burning cannot explain puffy hypervelocity white dwarfs**  |\n",
       "|| N. Yamaguchi, <mark>K. El-Badry</mark>, T. L. S. Wong, K. J. Shen |\n",
       "|*Appeared on*| *2025-07-23*|\n",
       "|*Comments*| *11 pages, 9 figures, submitted to PASP*|\n",
       "|**Abstract**|            The dominant formation channel of Type Ia supernovae (SNe Ia) has been extensively studied for many years. Several hypervelocity white dwarfs (HVWDs) with space velocities of $\\gtrsim 1000\\,\\mathrm{kms}^{-1}$ have recently been discovered. One possible origin of these stars is the dynamically-driven double-degenerate double-detonation (D6) scenario, in which an accreting sub-Chandrasekhar mass carbon-oxygen (CO) WD detonates as a SN Ia. In this scenario, the less massive WD may survive its companion's detonation and be ejected as a HVWD. Most of the observed HVWDs are hotter and puffier than normal WDs, perhaps due to their recent proximity to a SN. In this work, we test whether these properties can be explained by long-lived stable carbon (C) burning in the interiors of CO WD donors triggered by a SN shock. We model the long-term evolution of CO WDs following rapid energy injection using 1D models. We find that stable C burning can be ignited in CO WDs with masses of $0.95 - 1.10\\,M_{\\odot}$ if SN energy penetrates sufficiently deeply. The resulting born-again stars settle on the C-burning main sequence while they convert their interiors from C and O to Ne and Mg, where they have temperatures and radii similar to some of the observed HVWDs. However, the timescale over which C-burning WDs remain inflated is $\\lesssim 10^5\\,$yr, which is at least an order of magnitude shorter than the kinematic ages of observed hot HVWDs. We conclude that observed HVWDs are unlikely to be inflated by C burning. The stellar evolution of observed HVWDs remains an open problem.         |\n",
       "|<p style=\"color:green\"> **ERROR** </p>| <p style=\"color:green\">affiliation error: mpia.affiliation_verifications: 'Heidelberg' keyword not found.</p> |"
      ],
      "text/plain": [
       "<IPython.core.display.Markdown object>"
      ]
     },
     "metadata": {},
     "output_type": "display_data"
    },
    {
     "data": {
      "text/markdown": [
       "\n",
       "|||\n",
       "|---:|:---|\n",
       "| [![arXiv](https://img.shields.io/badge/arXiv-2507.16131-b31b1b.svg)](https://arxiv.org/abs/2507.16131) | **Central Concentration and Escape of Ionizing Photons in Galaxies at the Epoch of Reionization**  |\n",
       "|| C. Lyu, et al. -- incl., <mark>Y. Wang</mark> |\n",
       "|*Appeared on*| *2025-07-23*|\n",
       "|*Comments*| *16 pages, 7+4 figures. Accepted by ApJL*|\n",
       "|**Abstract**|            Compact, low-mass galaxies with strong nebular emission are considered promising candidates for efficient ionizing photon production and escape. We present a spatially resolved analysis of 189 galaxies at redshifts $z \\sim 6.7-7.6$ in JADES GOODS-N and GOODS-S fields and selected via JWST/NIRCam F410M filter. By employing annular photometry and spectral energy distribution fitting across rest-frame UV to optical wavelengths, we investigate the internal structure of star formation, ionizing photon production and escape, as well as the resolved star formation histories within these galaxies. We find that these galaxies exhibit compact, centrally concentrated, and bursty star formation, especially in lower-mass systems ($\\log(M_*/{\\rm M_{\\odot}}) <9.0$). The central regions of them display extreme [OIII]+H$\\beta$ equivalent widths ($>$1000 Å), high ionizing photon production efficiencies ($\\xi_{\\text{ion}} \\sim 10^{25.6}$ Hz erg$^{-1}$), steep UV slopes ($\\sim -2.3$), and elevated escape fractions ($f_{\\text{esc}} > 0.08$), with all these properties peaking in the inner regions. These findings reveal outside-in growth and rising star formation histories at $z\\sim 7$, with the central regions of them playing a pivotal role in driving cosmic reionization.         |\n",
       "|<p style=\"color:green\"> **ERROR** </p>| <p style=\"color:green\">affiliation error: mpia.affiliation_verifications: 'Heidelberg' keyword not found.</p> |"
      ],
      "text/plain": [
       "<IPython.core.display.Markdown object>"
      ]
     },
     "metadata": {},
     "output_type": "display_data"
    },
    {
     "data": {
      "text/markdown": [
       "\n",
       "|||\n",
       "|---:|:---|\n",
       "| [![arXiv](https://img.shields.io/badge/arXiv-2507.16189-b31b1b.svg)](https://arxiv.org/abs/2507.16189) | **An AI super-resolution field emulator for cosmological hydrodynamics: the Lyman-α forest**  |\n",
       "|| F. Hafezianzadeh, et al. -- incl., <mark>X. Zhang</mark> |\n",
       "|*Appeared on*| *2025-07-23*|\n",
       "|*Comments*| **|\n",
       "|**Abstract**|            We extend our super-resolution and emulation framework for cosmological dark matter simulations to include hydrodynamics. We present a two-stage deep learning model to emulate high-resolution (HR-HydroSim) baryonic fields from low-resolution (LR-HydroSim) simulations at redshift $z = 3$. The method takes as inputs an LR-HydroSim and the high-resolution initial conditions (HR-HydroICs). First, the model stochastically generates high-resolution baryonic fields from the LR-HydroSim. Second, a deterministic emulator refines these fields using HR-HydroICs to reconstruct small-scale structures including displacement, velocity, internal energy, and gas/star classification. Trained on paired low- and high-resolution simulations produced with \\texttt{MP-Gadget}, the model captures small-scale structures of the intergalactic medium and %Lyman-$\\alpha$ forest observables down to the 100 kpc pressure smoothing scale relevant to the Lyman-$\\alpha$ forest. The model achieves subpercent error for overdensity, temperature, velocity, and optical depth fields, a mean relative error of 1.07\\% in the large-scale flux power spectrum (\\(k < 3 \\times 10^{-2}\\ \\mathrm{s/km}\\)), and less than 10\\% error in the flux probability distribution function. Notably, the two-stage model reduces the compute time by a factor of $\\sim$450 compared to full smoothed particle hydrodynamics at the same resolution. This work demonstrates the potential of this framework as a powerful and efficient tool for generating high-resolution fields offering fast and accurate alternatives to traditional cosmological hydrodynamic simulations and enabling large-volume mock datasets for next-generation cosmological surveys.         |\n",
       "|<p style=\"color:green\"> **ERROR** </p>| <p style=\"color:green\">affiliation error: mpia.affiliation_verifications: 'Heidelberg' keyword not found.</p> |"
      ],
      "text/plain": [
       "<IPython.core.display.Markdown object>"
      ]
     },
     "metadata": {},
     "output_type": "display_data"
    },
    {
     "data": {
      "text/markdown": [
       "\n",
       "|||\n",
       "|---:|:---|\n",
       "| [![arXiv](https://img.shields.io/badge/arXiv-2507.16317-b31b1b.svg)](https://arxiv.org/abs/2507.16317) | **Lunar Orbital VLBI Experiment: motivation, scientific purposes and status**  |\n",
       "|| X. Hong, et al. -- incl., <mark>X. Zhang</mark> |\n",
       "|*Appeared on*| *2025-07-23*|\n",
       "|*Comments*| *Accepted for publication in Science China: Physics, Mechanics & Astronomy*|\n",
       "|**Abstract**|            The Lunar Orbital VLBI Experiment (LOVEX) is a scientific component of the Chinese Lunar Exploration Project (CLEP) Chang'E-7. The spaceborne component of LOVEX is implemented onboard the relay satellite QueQiao-2, which was launched on 2024 March 20, and later placed into an elliptical selenocentric orbit. The LOVEX-specific payload consists of an X-band cryogenic receiver, a hydrogen maser frequency standard, and VLBI data formatting and acquisition electronics. Several components of the QueQiao-2 nominal onboard instrumentation, such as the 4.2-meter antenna, the data storage device, and the downlink communication system, contribute to the overall spaceborne VLBI instrumentation. This allows us to form a space radio telescope capable of co-observing with Earth-based radio telescopes in VLBI mode. In this space VLBI system, the length of the baseline extends up to approximately 380,000 km. This paper presents the LOVEX scientific objectives, architecture, instrumentation, pre-launch tests, in-flight verification and calibration, and the first in-flight detections of interferometric response (''fringes'') achieved through observations of the quasar AO 0235+164 and the Chang'E-6 orbital module, positioned at the Sun-Earth Lagrange point L2. These initial results demonstrate the successful performance of LOVEX, verifying its capability for both astronomical and spacecraft tracking observations at ultra-long VLBI baselines.         |\n",
       "|<p style=\"color:green\"> **ERROR** </p>| <p style=\"color:green\">affiliation error: mpia.affiliation_verifications: 'Heidelberg' keyword not found.</p> |"
      ],
      "text/plain": [
       "<IPython.core.display.Markdown object>"
      ]
     },
     "metadata": {},
     "output_type": "display_data"
    },
    {
     "data": {
      "text/markdown": [
       "\n",
       "|||\n",
       "|---:|:---|\n",
       "| [![arXiv](https://img.shields.io/badge/arXiv-2507.16589-b31b1b.svg)](https://arxiv.org/abs/2507.16589) | **Cosmological Preference for a Positive Neutrino Mass at 2.7$σ$: A Joint Analysis of DESI DR2, DESY5, and DESY1 Data**  |\n",
       "|| G.-H. Du, et al. -- incl., <mark>X. Zhang</mark> |\n",
       "|*Appeared on*| *2025-07-23*|\n",
       "|*Comments*| *9 pages, 4 figures*|\n",
       "|**Abstract**|            Neutrinos and dark energy (DE) have entered a new era of investigation, as the latest DESI baryon acoustic oscillation measurements tighten the constraints on the neutrino mass and suggest that DE may be dynamical rather than a cosmological constant. In this work, we investigate the cosmological implications of simultaneously incorporating $\\sum m_\\nu$ and $N_{\\rm eff}$ within the framework of dynamical DE. A joint analysis of DESI DR2, cosmic microwave background, DESY5 supernova, and DESY1 weak lensing data yields a total neutrino mass of $\\sum m_\\nu = 0.098^{+0.016}_{-0.037}\\,\\mathrm{eV}$, indicating a preference for a positive neutrino mass at the $2.7\\sigma$ level within the $w_0w_a$CDM framework. This work highlights the important influence of the strength of evidence for dynamically evolving DE on the measurement of neutrino mass, with stronger evidence for DE dynamics leading to a larger neutrino mass. These results underscore the importance of measuring the neutrino mass within the framework of dynamical DE, particularly in light of the forthcoming, more complete DESI data releases.         |\n",
       "|<p style=\"color:green\"> **ERROR** </p>| <p style=\"color:green\">affiliation error: mpia.affiliation_verifications: 'Heidelberg' keyword not found.</p> |"
      ],
      "text/plain": [
       "<IPython.core.display.Markdown object>"
      ]
     },
     "metadata": {},
     "output_type": "display_data"
    },
    {
     "data": {
      "text/markdown": [
       "\n",
       "|||\n",
       "|---:|:---|\n",
       "| [![arXiv](https://img.shields.io/badge/arXiv-2507.15933-b31b1b.svg)](https://arxiv.org/abs/2507.15933) | **Orbital and Physical Properties of the Pleiades Binary 27 Tau (Atlas)**  |\n",
       "|| G. Torres, et al. -- incl., <mark>S. Kraus</mark> |\n",
       "|*Appeared on*| *2025-07-23*|\n",
       "|*Comments*| *18 pages in emulateapj format, including figures and tables. Accepted for publication in The Astrophysical Journal*|\n",
       "|**Abstract**|            We report new spectroscopic and interferometric observations of the Pleiades binary star Atlas, which played an important role nearly three decades ago in settling the debate over the distance to the cluster from ground-based and space-based determinations. We use the new measurements, together with other published and archival astrometric observations, to improve the determination of the 291-day orbit and the distance to Atlas ($136.2 \\pm 1.4$ pc). We also derive the main properties of the components, including their absolute masses ($5.04 \\pm 0.17 M_{\\odot}$ and $3.64 \\pm 0.12 M_{\\odot}$), sizes, effective temperatures, projected rotational velocities, and chemical composition. We find that the more evolved primary star is rotationally distorted, and are able to estimate its oblateness and the approximate orientation of its spin axis from the interferometric observations. The spin axis may well be aligned with the orbital axis. Models of stellar evolution from MESA that account for rotation provide a good match to all of the primary's global properties, and point to an initial angular rotation rate on the zero-age main sequence of about 55% of the breakup velocity. The current location of the star in the H-R diagram is near the very end of the hydrogen-burning main sequence, at an age of about 105 Myr, according to these models. Our spectroscopic analysis of the more slowly-rotating secondary indicates that it is a helium-weak star, with other chemical anomalies.         |\n",
       "|<p style=\"color:green\"> **ERROR** </p>| <p style=\"color:green\">affiliation error: mpia.affiliation_verifications: 'Planck' keyword not found.</p> |"
      ],
      "text/plain": [
       "<IPython.core.display.Markdown object>"
      ]
     },
     "metadata": {},
     "output_type": "display_data"
    }
   ],
   "source": [
    "import datetime\n",
    "today = str(datetime.date.today())\n",
    "logfile = f\"_build/html/logs/log-{today}.md\"\n",
    "\n",
    "\n",
    "with open(logfile, 'w') as logs:\n",
    "    # Success\n",
    "    logs.write(f'# Arxiv on Deck 2: Logs - {today}\\n\\n')\n",
    "    logs.write(\"\"\"* Arxiv had {0:,d} new papers\\n\"\"\".format(len(new_papers)))\n",
    "    logs.write(\"\"\"    * {0:,d} with possible author matches\\n\\n\"\"\".format(len(candidates)))\n",
    "    logs.write(\"## Sucessful papers\\n\\n\")\n",
    "    display(Markdown(\"## Successful papers\"))\n",
    "    success = [k[0] for k in documents]\n",
    "    for candid in candidates:\n",
    "        if candid['identifier'].split(':')[-1] in success:\n",
    "            display(candid)\n",
    "            logs.write(candid.generate_markdown_text() + '\\n\\n')\n",
    "\n",
    "    ## failed\n",
    "    logs.write(\"## Failed papers\\n\\n\")\n",
    "    display(Markdown(\"## Failed papers\"))\n",
    "    failed = sorted(failed, key=lambda x: x[1])\n",
    "    current_reason = \"\"\n",
    "    for paper, reason in failed:\n",
    "        if 'affiliation' in reason:\n",
    "            color = 'green'\n",
    "        else:\n",
    "            color = 'red'\n",
    "        data = Markdown(\n",
    "                paper.generate_markdown_text() + \n",
    "                f'\\n|<p style=\"color:{color:s}\"> **ERROR** </p>| <p style=\"color:{color:s}\">{reason:s}</p> |'\n",
    "               )\n",
    "        if reason != current_reason:\n",
    "            logs.write(f'### {reason:s} \\n\\n')\n",
    "            current_reason = reason\n",
    "        logs.write(data.data + '\\n\\n')\n",
    "        \n",
    "        # only display here the important errors (all in logs)\n",
    "        # if color in ('red',):\n",
    "        display(data)"
   ]
  },
  {
   "cell_type": "markdown",
   "id": "472d20ee",
   "metadata": {
    "papermill": {
     "duration": 0.004799,
     "end_time": "2025-07-23T04:34:03.191565",
     "exception": false,
     "start_time": "2025-07-23T04:34:03.186766",
     "status": "completed"
    },
    "tags": []
   },
   "source": [
    "## Export documents\n",
    "\n",
    "We now write the .md files and export relevant images"
   ]
  },
  {
   "cell_type": "code",
   "execution_count": 7,
   "id": "d426aed9",
   "metadata": {
    "execution": {
     "iopub.execute_input": "2025-07-23T04:34:03.201900Z",
     "iopub.status.busy": "2025-07-23T04:34:03.201714Z",
     "iopub.status.idle": "2025-07-23T04:34:03.208229Z",
     "shell.execute_reply": "2025-07-23T04:34:03.207700Z"
    },
    "papermill": {
     "duration": 0.012843,
     "end_time": "2025-07-23T04:34:03.209185",
     "exception": false,
     "start_time": "2025-07-23T04:34:03.196342",
     "status": "completed"
    },
    "tags": []
   },
   "outputs": [],
   "source": [
    "def export_markdown_summary(md: str, md_fname:str, directory: str):\n",
    "    \"\"\"Export MD document and associated relevant images\"\"\"\n",
    "    import os\n",
    "    import shutil\n",
    "    import re\n",
    "\n",
    "    if (os.path.exists(directory) and not os.path.isdir(directory)):\n",
    "        raise RuntimeError(f\"a non-directory file exists with name {directory:s}\")\n",
    "\n",
    "    if (not os.path.exists(directory)):\n",
    "        print(f\"creating directory {directory:s}\")\n",
    "        os.mkdir(directory)\n",
    "\n",
    "    fig_fnames = (re.compile(r'\\[Fig.*\\]\\((.*)\\)').findall(md) + \n",
    "                  re.compile(r'\\<img src=\"([^>\\s]*)\"[^>]*/>').findall(md))\n",
    "    print(\"found figures\", fig_fnames)\n",
    "    for fname in fig_fnames:\n",
    "        if 'http' in fname:\n",
    "            # No need to copy online figures\n",
    "            continue\n",
    "        if not os.path.exists(fname):\n",
    "            print(\"file not found\", fname)\n",
    "            continue\n",
    "        print(\"copying \", fname, \"to\", directory)\n",
    "        destdir = os.path.join(directory, os.path.dirname(fname))\n",
    "        destfname = os.path.join(destdir, os.path.basename(fname))\n",
    "        try:\n",
    "            os.makedirs(destdir)\n",
    "        except FileExistsError:\n",
    "            pass\n",
    "        shutil.copy(fname, destfname)\n",
    "    with open(os.path.join(directory, md_fname), 'w') as fout:\n",
    "        fout.write(md)\n",
    "    print(\"exported in \", os.path.join(directory, md_fname))\n",
    "    [print(\"    + \" + os.path.join(directory,fk)) for fk in fig_fnames]"
   ]
  },
  {
   "cell_type": "code",
   "execution_count": 8,
   "id": "014d04a4",
   "metadata": {
    "execution": {
     "iopub.execute_input": "2025-07-23T04:34:03.219838Z",
     "iopub.status.busy": "2025-07-23T04:34:03.219617Z",
     "iopub.status.idle": "2025-07-23T04:34:03.229374Z",
     "shell.execute_reply": "2025-07-23T04:34:03.228852Z"
    },
    "papermill": {
     "duration": 0.016149,
     "end_time": "2025-07-23T04:34:03.230341",
     "exception": false,
     "start_time": "2025-07-23T04:34:03.214192",
     "status": "completed"
    },
    "tags": []
   },
   "outputs": [
    {
     "name": "stdout",
     "output_type": "stream",
     "text": [
      "found figures ['tmp_2507.15921/./main_fig.png', 'tmp_2507.15921/./example_result_2.png', 'tmp_2507.15921/./ngc152_hst.png']\n",
      "copying  tmp_2507.15921/./main_fig.png to _build/html/\n",
      "copying  tmp_2507.15921/./example_result_2.png to _build/html/\n",
      "copying  tmp_2507.15921/./ngc152_hst.png to _build/html/\n",
      "exported in  _build/html/2507.15921.md\n",
      "    + _build/html/tmp_2507.15921/./main_fig.png\n",
      "    + _build/html/tmp_2507.15921/./example_result_2.png\n",
      "    + _build/html/tmp_2507.15921/./ngc152_hst.png\n",
      "found figures ['tmp_2507.16303/./moment0_L1448N_C18O_2_1_both.png', 'tmp_2507.16303/./moment0_L1448N_SO_6_5_5_4_both.png', 'tmp_2507.16303/./moment0_L1448N_SO2_4_2_2_3_1_2_both.png', 'tmp_2507.16303/./Continuum_L1448N_both.png', 'tmp_2507.16303/./multifit_L1448N_C18O_2_1_30m_0.png', 'tmp_2507.16303/./multifit_L1448N_C18O_2_1_merged_0.png', 'tmp_2507.16303/./multifit_L1448N_SO2_4_2_2_3_1_2_merged_0.png']\n",
      "copying  tmp_2507.16303/./moment0_L1448N_C18O_2_1_both.png to _build/html/\n",
      "copying  tmp_2507.16303/./moment0_L1448N_SO_6_5_5_4_both.png to _build/html/\n",
      "copying  tmp_2507.16303/./moment0_L1448N_SO2_4_2_2_3_1_2_both.png to _build/html/\n",
      "copying  tmp_2507.16303/./Continuum_L1448N_both.png to _build/html/\n",
      "copying  tmp_2507.16303/./multifit_L1448N_C18O_2_1_30m_0.png to _build/html/\n",
      "copying  tmp_2507.16303/./multifit_L1448N_C18O_2_1_merged_0.png to _build/html/\n",
      "copying  tmp_2507.16303/./multifit_L1448N_SO2_4_2_2_3_1_2_merged_0.png to _build/html/\n",
      "exported in  _build/html/2507.16303.md\n",
      "    + _build/html/tmp_2507.16303/./moment0_L1448N_C18O_2_1_both.png\n",
      "    + _build/html/tmp_2507.16303/./moment0_L1448N_SO_6_5_5_4_both.png\n",
      "    + _build/html/tmp_2507.16303/./moment0_L1448N_SO2_4_2_2_3_1_2_both.png\n",
      "    + _build/html/tmp_2507.16303/./Continuum_L1448N_both.png\n",
      "    + _build/html/tmp_2507.16303/./multifit_L1448N_C18O_2_1_30m_0.png\n",
      "    + _build/html/tmp_2507.16303/./multifit_L1448N_C18O_2_1_merged_0.png\n",
      "    + _build/html/tmp_2507.16303/./multifit_L1448N_SO2_4_2_2_3_1_2_merged_0.png\n"
     ]
    }
   ],
   "source": [
    "for paper_id, md in documents:\n",
    "    export_markdown_summary(md, f\"{paper_id:s}.md\", '_build/html/')"
   ]
  },
  {
   "cell_type": "markdown",
   "id": "f087a0a7",
   "metadata": {
    "papermill": {
     "duration": 0.004945,
     "end_time": "2025-07-23T04:34:03.240321",
     "exception": false,
     "start_time": "2025-07-23T04:34:03.235376",
     "status": "completed"
    },
    "tags": []
   },
   "source": [
    "## Display the papers\n",
    "\n",
    "Not necessary but allows for a quick check."
   ]
  },
  {
   "cell_type": "code",
   "execution_count": 9,
   "id": "fd25f625",
   "metadata": {
    "execution": {
     "iopub.execute_input": "2025-07-23T04:34:03.251119Z",
     "iopub.status.busy": "2025-07-23T04:34:03.250905Z",
     "iopub.status.idle": "2025-07-23T04:34:03.256651Z",
     "shell.execute_reply": "2025-07-23T04:34:03.256014Z"
    },
    "papermill": {
     "duration": 0.012369,
     "end_time": "2025-07-23T04:34:03.257719",
     "exception": false,
     "start_time": "2025-07-23T04:34:03.245350",
     "status": "completed"
    },
    "scrolled": false,
    "tags": []
   },
   "outputs": [
    {
     "data": {
      "text/markdown": [
       "<div class=\"macros\" style=\"visibility:hidden;\">\n",
       "$\\newcommand{\\ensuremath}{}$\n",
       "$\\newcommand{\\xspace}{}$\n",
       "$\\newcommand{\\object}[1]{\\texttt{#1}}$\n",
       "$\\newcommand{\\farcs}{{.}''}$\n",
       "$\\newcommand{\\farcm}{{.}'}$\n",
       "$\\newcommand{\\arcsec}{''}$\n",
       "$\\newcommand{\\arcmin}{'}$\n",
       "$\\newcommand{\\ion}[2]{#1#2}$\n",
       "$\\newcommand{\\textsc}[1]{\\textrm{#1}}$\n",
       "$\\newcommand{\\hl}[1]{\\textrm{#1}}$\n",
       "$\\newcommand{\\footnote}[1]{}$\n",
       "$\\newcommand{\\angstrom}{\\mbox{\\normalfontÅ}}$\n",
       "$\\newcommand{\\orcid}[1]{\\href{https://orcid.org/#1}{\\includegraphics[width=10pt]{Orcid-ID.png}}}$\n",
       "$\\newcommand{\\stefano}[1]{{\\color{red}#1}}$</div>\n",
       "\n",
       "\n",
       "\n",
       "<div id=\"title\">\n",
       "\n",
       "# The VISCACHA survey: XIII. The extended main-sequence turn-off in intermediate-age low-mass clusters\n",
       "\n",
       "</div>\n",
       "<div id=\"comments\">\n",
       "\n",
       "[![arXiv](https://img.shields.io/badge/arXiv-2507.15921-b31b1b.svg)](https://arxiv.org/abs/2507.15921)<mark>Appeared on: 2025-07-23</mark> -  _Accepted for publication in A&A. 9 pages, 5 figures, and 2 tables_\n",
       "\n",
       "</div>\n",
       "<div id=\"authors\">\n",
       "\n",
       "S. O. Souza, et al.\n",
       "\n",
       "</div>\n",
       "<div id=\"abstract\">\n",
       "\n",
       "**Abstract:** The extended main-sequence turn-off (eMSTO) is a well-known feature observed in young and intermediate-age star clusters, characterized by a significant broadening of the main-sequence turn-off region. Although prolonged star formation and stellar rotation have been proposed as possible explanations, no consensus has yet been reached. Most previous studies have focused on high-mass clusters. In this work, we extend the analysis to the less-explored low-mass regime by investigating star clusters in the Magellanic Clouds using data from the VISCACHA survey. We employed a widely used method to quantify the MSTO width in terms of age spread. Additionally, to validate our approach, we used a cluster also observed with HST. Our analysis confirms that the eMSTO phenomenon is also present in low-mass clusters, following the known ${age/mass-MSTO width relations}$ . In particular, the less massive cluster in our sample does not show an eMSTO, supporting the proposed link between the eMSTO and the escape velocity of the cluster, providing a new lower limit to the age spread of $88\\pm40$ Myr for the presence of the eMSTO. The consistent MSTO width measurements between the VISCACHA and HST photometries confirm the robustness of our method and demonstrate that the age spread determination is independent of the photometric system, showing also the power of ground-based observations to investigate the eMSTO phenomenon.\n",
       "\n",
       "</div>\n",
       "\n",
       "<div id=\"div_fig1\">\n",
       "\n",
       "<img src=\"tmp_2507.15921/./main_fig.png\" alt=\"Fig4\" width=\"100%\"/>\n",
       "\n",
       "**Figure 4. -** The MSTO width at 50\\% of the maximum (FWHM), as a function of cluster mass (panel a), escape velocity (panel b), and age (panels c and d). The colored dots represent the star clusters analyzed in this work. Yellow squares represent MCs clusters from [Goudfrooij, Girardi and Kozhurina-Platais (2014)](), the blue squares are the clusters analyzed by [Correnti, Goudfrooij and Kalirai (2014)]() and used by [Goudfrooij, Girardi and Kozhurina-Platais (2014)]() lower limit for the existence of the eMSTO, yellow crosses indicate YMC analyzed by [Niederhofer, et. al (2015)](). Yellow triangles show MWOC from [Cordoni, Milone and Marino (2018)](). The yellow stars are the results by [ and Piatti (2016)](), [ and Piatti (2016)](). The colored dotted lines illustrate the expected MSTO width comparing non-rotating isochrones to models for different rotation fractions $\\Omega/\\Omega_C=$ 0.3 (blue), 0.6 (orange), 0.8 (green), and 0.99 (red), adopting the metallicity of [M/H]$=-0.6$(mean of our sample). The horizontal dashed blue line represents previous limits by [Correnti, Goudfrooij and Kalirai (2014)]() and [Goudfrooij, Girardi and Kozhurina-Platais (2014)](), while the pink line and shaded region mark the eMSTO limit derived in this work. The black lines in panels (a) and (b) represent the linear regression for the data from \\citet[][dotted]{cordoni18}, \\citet[][dashed]{goudfrooij14}, and this work (solid). The gray shaded regions represent the standard deviation of the fit.  (*fig:main_fig*)\n",
       "\n",
       "</div>\n",
       "<div id=\"div_fig2\">\n",
       "\n",
       "<img src=\"tmp_2507.15921/./example_result_2.png\" alt=\"Fig3\" width=\"100%\"/>\n",
       "\n",
       "**Figure 3. -** Hess diagrams for SL36 (left) and NGC152 (right) showing the MSTO width derivation. Panels a1 and b1 show the observed data expanded via Monte Carlo simulation. The synthetic CMDs generated from the best isochrone fitting are in panels a2 (SL36) and b2 (NGC152). The red arrow represents the reddening vector for a $E(B-V)=0.2$. The age distribution along the eMSTO are shown in panels a3 (SL36) and b3 (NGC152). The synthetic CMDs were generated assuming the scaled errors using the MS control sample and demonstrated in panels a4 (SL36) and b4 (NGC152). The dotted black lines in panels a1, a2, b1, and b2 are the support lines to construct the eMSTO parallelogram (red shaded region) and the MS control sample (blue shaded region). The vertical green line in panels a4 and b4 shows the best error scale, while the horizontal line is the mean age standard deviation in the MS control sample used as an error for the MSTO width. (*fig:sl36_res*)\n",
       "\n",
       "</div>\n",
       "<div id=\"div_fig3\">\n",
       "\n",
       "<img src=\"tmp_2507.15921/./ngc152_hst.png\" alt=\"Fig2\" width=\"100%\"/>\n",
       "\n",
       "**Figure 2. -** Same as Figure \\ref{fig:sl36_res}, but for NGC 152 using HST data. (*fig:ngc152_hst*)\n",
       "\n",
       "</div><div id=\"qrcode\"><img src=https://api.qrserver.com/v1/create-qr-code/?size=100x100&data=\"https://arxiv.org/abs/2507.15921\"></div>"
      ],
      "text/plain": [
       "<IPython.core.display.Markdown object>"
      ]
     },
     "metadata": {},
     "output_type": "display_data"
    },
    {
     "data": {
      "text/markdown": [
       "<div class=\"macros\" style=\"visibility:hidden;\">\n",
       "$\\newcommand{\\ensuremath}{}$\n",
       "$\\newcommand{\\xspace}{}$\n",
       "$\\newcommand{\\object}[1]{\\texttt{#1}}$\n",
       "$\\newcommand{\\farcs}{{.}''}$\n",
       "$\\newcommand{\\farcm}{{.}'}$\n",
       "$\\newcommand{\\arcsec}{''}$\n",
       "$\\newcommand{\\arcmin}{'}$\n",
       "$\\newcommand{\\ion}[2]{#1#2}$\n",
       "$\\newcommand{\\textsc}[1]{\\textrm{#1}}$\n",
       "$\\newcommand{\\hl}[1]{\\textrm{#1}}$\n",
       "$\\newcommand{\\footnote}[1]{}$\n",
       "$\\newcommand{\\arraystretch}{1.5}$\n",
       "$\\newcommand{\\arraystretch}{1.2}$\n",
       "$\\newcommand{\\arraystretch}{1.1}$\n",
       "$\\newcommand\\as{\\ifmmode{\\rlap.} \" \\! \\else {\\rlap.} \" \\!\\fi}$</div>\n",
       "\n",
       "\n",
       "\n",
       "<div id=\"title\">\n",
       "\n",
       "# ANTIHEROES-PRODIGE: Quantifying the connection from envelope to disk with the IRAM 30m telescope and NOEMA: I. Attack of the streamers: L1448N's fight for order in the chaos\n",
       "\n",
       "</div>\n",
       "<div id=\"comments\">\n",
       "\n",
       "[![arXiv](https://img.shields.io/badge/arXiv-2507.16303-b31b1b.svg)](https://arxiv.org/abs/2507.16303)<mark>Appeared on: 2025-07-23</mark> -  _accepted for publication in A&A, 13 pages, 9 figures_\n",
       "\n",
       "</div>\n",
       "<div id=\"authors\">\n",
       "\n",
       "<mark>C. Gieser</mark>, et al. -- incl., <mark>T. Henning</mark>, <mark>D. Semenov</mark>\n",
       "\n",
       "</div>\n",
       "<div id=\"abstract\">\n",
       "\n",
       "**Abstract:** Star formation is a hierarchical process ranging from molecular clouds down to individual protostars. In particular how infalling asymmetric structures, called streamers, delivering new material onto protostellar systems, are connected to the surrounding envelope is not understood. We aim to investigate the connection between the cloud material at 10 000 au scales down to 300 au scales towards L1448N in the Perseus star-forming region hosting three young Class 0/I protostellar systems (IRS3A, IRS3B, and IRS3C). Sensitive molecular line observations taken with the Institut de Radioastronomie Millimetrique (IRAM) 30m telescope and the Northern Extended Millimeter Array (NOEMA) at 1.4 mm are used to study the kinematic properties in the region traced by the molecular lines (C $^{18}$ O, SO, DCN, and SO $_{2}$ ). The temperature in the region is estimated using transitions of c-C $_{3}$ H $_{2}$ . Several infalling streamers are associated with the protostellar systems, some of them traced by C $^{18}$ O and DCN, while one of them is bright in SO and $SO_2$ . The kinematic properties of the former streamers are consistent with the velocities observed at large envelope scales of 10 000 au, while the latter case show different kinematics. The masses and infall rates of the streamers are 0.01 $M_\\odot$ and 0.01-0.1 $M_\\odot$ and 10 $^{-6}$ $M_\\odot$ yr $^{-1}$ and $5-18\\times10^{-6}$ $M_\\odot$ yr $^{-1}$ for IRS3A and IRS3C, respectively. The envelope mass in the L1448N region is $\\approx$ 16 $M_\\odot$ , thus the mass of a single streamer is low compared to the envelope mass ( $<$ 1 \\% ). However, compared to the estimated mass of the protostellar systems a single streamer could deliver up to 1 \\% and 8-17 \\% of mass towards IRS3A ( $M_* \\approx 1.2$ $M_\\odot$ ) and IRS3C ( $M_* \\approx 1$ $M_\\odot$ ), respectively. The rotational signatures of structures in L1448N are all connected - from the large-scale envelope, infalling streamers, down to the rotation of all three disks. Two of the three Class 0/I protostellar systems are still fed by this surrounding material, which can be associated to the remnant envelope. However, we also find a streamer that is bright in SO and SO $_{2}$ towards IRS3C that could be connected to a nearby sulfur reservoir. Further studies are required to study the diverse chemical compositions and the origin of the streamers.\n",
       "\n",
       "</div>\n",
       "\n",
       "<div id=\"div_fig1\">\n",
       "\n",
       "<img src=\"tmp_2507.16303/./moment0_L1448N_C18O_2_1_both.png\" alt=\"Fig6.1\" width=\"33%\"/><img src=\"tmp_2507.16303/./moment0_L1448N_SO_6_5_5_4_both.png\" alt=\"Fig6.2\" width=\"33%\"/><img src=\"tmp_2507.16303/./moment0_L1448N_SO2_4_2_2_3_1_2_both.png\" alt=\"Fig6.3\" width=\"33%\"/>\n",
       "\n",
       "**Figure 6. -** Line integrated intensity map of C$^{18}$O ($2-1$), SO ($6_{5}-5_{4}$), and SO$_{2}$($4_{2,2}-3_{1,3}$) of the IRAM 30m data (left) and merged or NOEMA data (right). In all panels the line integrated intensity is shown in color. Contours and arrows are the same as in Fig. \\ref{fig:continuum}. The synthesized beam of the line and continuum data is shown in the bottom left and right corner, respectively. In all panels scale bars are shown in the top left corner. In the right panels, distinct structures (bridge and stick) seen in molecular emission are indicated by dashed ellipses. (*fig:C18OSOSO2mom0*)\n",
       "\n",
       "</div>\n",
       "<div id=\"div_fig2\">\n",
       "\n",
       "<img src=\"tmp_2507.16303/./Continuum_L1448N_both.png\" alt=\"Fig5\" width=\"100%\"/>\n",
       "\n",
       "**Figure 5. -** Continuum images toward L1448N. The left panel shows large-scale 1.1 mm continuum emission of L1448  ([Enoch, Young and Glenn 2006]()) . The beam size is shown in the bottom left. The map size of the IRAM 30m observations is highlighted by the grey dashed rectangle. The right panel shows the NOEMA 1.4 mm continuum of L1448N with contour levels at 5, 25, 60, 120, 200$\\times \\sigma_\\mathrm{cont}$ with $\\sigma_\\mathrm{cont}$=0.78 mJy beam$^{-1}$. The triangles and white labels mark the positions of individual protostars  ([Tobin, Looney and Li 2016]())  and the pink cross marks the recently detected IRS3-ALMA source  ([Looney, Lin and Li 2025]()) . Bipolar outflow directions launched by the three protostellar systems are marked by red and blue arrows, including the blueshifted outflow lobe launched by L1448-mm towards the southeast. The synthesized beam of the NOEMA continuum data is shown in the bottom left corner. In both panels scale bars are shown in the top left corner. (*fig:continuum*)\n",
       "\n",
       "</div>\n",
       "<div id=\"div_fig3\">\n",
       "\n",
       "<img src=\"tmp_2507.16303/./multifit_L1448N_C18O_2_1_30m_0.png\" alt=\"Fig8.1\" width=\"33%\"/><img src=\"tmp_2507.16303/./multifit_L1448N_C18O_2_1_merged_0.png\" alt=\"Fig8.2\" width=\"33%\"/><img src=\"tmp_2507.16303/./multifit_L1448N_SO2_4_2_2_3_1_2_merged_0.png\" alt=\"Fig8.3\" width=\"33%\"/>\n",
       "\n",
       "**Figure 8. -** Main clusters extracted with \\texttt{DBSCAN}. The velocity, peak intensity, and line width are shown in color in the top, central, and bottom panels, respectively. Contours and arrows are the NOEMA 1.4 mm continuum with the same levels as in Fig. \\ref{fig:continuum}. In cluster 1 of each analyzed data set, the synthesized beam of the line and continuum data is shown in the bottom left and right corner, respectively, and scale bars are shown in the top left corner. The remaining clusters are shown in Fig. \\ref{fig:clusters_app}. (*fig:clusters*)\n",
       "\n",
       "</div><div id=\"qrcode\"><img src=https://api.qrserver.com/v1/create-qr-code/?size=100x100&data=\"https://arxiv.org/abs/2507.16303\"></div>"
      ],
      "text/plain": [
       "<IPython.core.display.Markdown object>"
      ]
     },
     "metadata": {},
     "output_type": "display_data"
    }
   ],
   "source": [
    "[display(Markdown(k[1])) for k in documents];"
   ]
  },
  {
   "cell_type": "markdown",
   "id": "873873a4",
   "metadata": {
    "papermill": {
     "duration": 0.005388,
     "end_time": "2025-07-23T04:34:03.268687",
     "exception": false,
     "start_time": "2025-07-23T04:34:03.263299",
     "status": "completed"
    },
    "tags": []
   },
   "source": [
    "# Create HTML index"
   ]
  },
  {
   "cell_type": "code",
   "execution_count": 10,
   "id": "cf665672",
   "metadata": {
    "execution": {
     "iopub.execute_input": "2025-07-23T04:34:03.280092Z",
     "iopub.status.busy": "2025-07-23T04:34:03.279893Z",
     "iopub.status.idle": "2025-07-23T04:34:03.287288Z",
     "shell.execute_reply": "2025-07-23T04:34:03.286627Z"
    },
    "papermill": {
     "duration": 0.014168,
     "end_time": "2025-07-23T04:34:03.288250",
     "exception": false,
     "start_time": "2025-07-23T04:34:03.274082",
     "status": "completed"
    },
    "tags": []
   },
   "outputs": [
    {
     "name": "stdout",
     "output_type": "stream",
     "text": [
      "148  publications files modified in the last 7 days.\n"
     ]
    }
   ],
   "source": [
    "from datetime import datetime, timedelta, timezone\n",
    "from glob import glob\n",
    "import os\n",
    "\n",
    "files = glob('_build/html/*.md')\n",
    "days = 7\n",
    "now = datetime.today()\n",
    "res = []\n",
    "for fk in files:\n",
    "    stat_result = os.stat(fk).st_ctime\n",
    "    modified = datetime.fromtimestamp(stat_result, tz=timezone.utc).replace(tzinfo=None)\n",
    "    delta = now.today() - modified\n",
    "    if delta <= timedelta(days=days):\n",
    "        res.append((delta.seconds, fk))\n",
    "res = [k[1] for k in reversed(sorted(res, key=lambda x:x[1]))]\n",
    "npub = len(res)\n",
    "print(len(res), f\" publications files modified in the last {days:d} days.\")\n",
    "# [ print('\\t', k) for k in res ];"
   ]
  },
  {
   "cell_type": "code",
   "execution_count": 11,
   "id": "015de740",
   "metadata": {
    "execution": {
     "iopub.execute_input": "2025-07-23T04:34:03.299771Z",
     "iopub.status.busy": "2025-07-23T04:34:03.299589Z",
     "iopub.status.idle": "2025-07-23T04:34:03.312118Z",
     "shell.execute_reply": "2025-07-23T04:34:03.311504Z"
    },
    "papermill": {
     "duration": 0.01952,
     "end_time": "2025-07-23T04:34:03.313179",
     "exception": false,
     "start_time": "2025-07-23T04:34:03.293659",
     "status": "completed"
    },
    "tags": []
   },
   "outputs": [
    {
     "name": "stdout",
     "output_type": "stream",
     "text": [
      "18  publications in the last 7 days.\n"
     ]
    }
   ],
   "source": [
    "import datetime\n",
    "from glob import glob\n",
    "\n",
    "def get_last_n_days(lst, days=1):\n",
    "    \"\"\" Get the documents from the last n days \"\"\"\n",
    "    sorted_lst = sorted(lst, key=lambda x: x[1], reverse=True)\n",
    "    for fname, date in sorted_lst:\n",
    "        if date >= str(datetime.date.today() - datetime.timedelta(days=days)):\n",
    "            yield fname\n",
    "\n",
    "def extract_appearance_dates(lst_file):\n",
    "    dates = []\n",
    "\n",
    "    def get_date(line):\n",
    "        return line\\\n",
    "            .split('Appeared on:')[-1]\\\n",
    "            .split('</mark>')[0].strip()\n",
    "\n",
    "    for fname in lst:\n",
    "        with open(fname, 'r') as f:\n",
    "            found_date = False\n",
    "            for line in f:\n",
    "                if not found_date:\n",
    "                    if \"Appeared on\" in line:\n",
    "                        found_date = True\n",
    "                        dates.append((fname, get_date(line)))\n",
    "                else:\n",
    "                    break\n",
    "    return dates\n",
    "\n",
    "from glob import glob\n",
    "lst = glob('_build/html/*md')\n",
    "days = 7\n",
    "dates = extract_appearance_dates(lst)\n",
    "res = list(get_last_n_days(dates, days))\n",
    "npub = len(res)\n",
    "print(len(res), f\" publications in the last {days:d} days.\")"
   ]
  },
  {
   "cell_type": "code",
   "execution_count": 12,
   "id": "52ca0208",
   "metadata": {
    "execution": {
     "iopub.execute_input": "2025-07-23T04:34:03.324865Z",
     "iopub.status.busy": "2025-07-23T04:34:03.324677Z",
     "iopub.status.idle": "2025-07-23T04:34:03.329277Z",
     "shell.execute_reply": "2025-07-23T04:34:03.328750Z"
    },
    "papermill": {
     "duration": 0.011473,
     "end_time": "2025-07-23T04:34:03.330213",
     "exception": false,
     "start_time": "2025-07-23T04:34:03.318740",
     "status": "completed"
    },
    "scrolled": false,
    "tags": []
   },
   "outputs": [],
   "source": [
    "def create_carousel(npub=4):\n",
    "    \"\"\" Generate the HTML code for a carousel with `npub` slides \"\"\"\n",
    "    carousel = [\"\"\"  <div class=\"carousel\" \"\"\",\n",
    "                \"\"\"       data-flickity='{ \"autoPlay\": 10000, \"adaptiveHeight\": true, \"resize\": true, \"wrapAround\": true, \"pauseAutoPlayOnHover\": true, \"groupCells\": 1 }' id=\"asyncTypeset\">\"\"\"\n",
    "                ]\n",
    "    \n",
    "    item_str = \"\"\"    <div class=\"carousel-cell\"> <div id=\"slide{k}\" class=\"md_view\">Content {k}</div> </div>\"\"\"\n",
    "    for k in range(1, npub + 1):\n",
    "        carousel.append(item_str.format(k=k))\n",
    "    carousel.append(\"  </div>\")\n",
    "    return '\\n'.join(carousel)\n",
    "\n",
    "def create_grid(npub=4):\n",
    "    \"\"\" Generate the HTML code for a flat grid with `npub` slides \"\"\"\n",
    "    grid = [\"\"\"  <div class=\"grid\"> \"\"\",\n",
    "                ]\n",
    "    \n",
    "    item_str = \"\"\"    <div class=\"grid-item\"> <div id=\"slide{k}\" class=\"md_view\">Content {k}</div> </div>\"\"\"\n",
    "    for k in range(1, npub + 1):\n",
    "        grid.append(item_str.format(k=k))\n",
    "    grid.append(\"  </div>\")\n",
    "    return '\\n'.join(grid)"
   ]
  },
  {
   "cell_type": "code",
   "execution_count": 13,
   "id": "a6eac5b6",
   "metadata": {
    "execution": {
     "iopub.execute_input": "2025-07-23T04:34:03.342060Z",
     "iopub.status.busy": "2025-07-23T04:34:03.341871Z",
     "iopub.status.idle": "2025-07-23T04:34:03.346792Z",
     "shell.execute_reply": "2025-07-23T04:34:03.346220Z"
    },
    "papermill": {
     "duration": 0.012024,
     "end_time": "2025-07-23T04:34:03.347806",
     "exception": false,
     "start_time": "2025-07-23T04:34:03.335782",
     "status": "completed"
    },
    "scrolled": false,
    "tags": []
   },
   "outputs": [],
   "source": [
    "carousel = create_carousel(npub)\n",
    "docs = ', '.join(['\"{0:s}\"'.format(k.split('/')[-1]) for k in res])\n",
    "slides = ', '.join([f'\"slide{k}\"' for k in range(1, npub + 1)])\n",
    "\n",
    "with open(\"daily_template.html\", \"r\") as tpl:\n",
    "    page = tpl.read()\n",
    "    page = page.replace(\"{%-- carousel:s --%}\", carousel)\\\n",
    "               .replace(\"{%-- suptitle:s --%}\",  \"7-day archives\" )\\\n",
    "               .replace(\"{%-- docs:s --%}\", docs)\\\n",
    "               .replace(\"{%-- slides:s --%}\", slides)\n",
    "    \n",
    "with open(\"_build/html/index_7days.html\", 'w') as fout:\n",
    "    fout.write(page)"
   ]
  },
  {
   "cell_type": "code",
   "execution_count": 14,
   "id": "adc1a1ec",
   "metadata": {
    "execution": {
     "iopub.execute_input": "2025-07-23T04:34:03.359765Z",
     "iopub.status.busy": "2025-07-23T04:34:03.359527Z",
     "iopub.status.idle": "2025-07-23T04:34:03.365954Z",
     "shell.execute_reply": "2025-07-23T04:34:03.365379Z"
    },
    "papermill": {
     "duration": 0.013398,
     "end_time": "2025-07-23T04:34:03.366861",
     "exception": false,
     "start_time": "2025-07-23T04:34:03.353463",
     "status": "completed"
    },
    "tags": []
   },
   "outputs": [
    {
     "name": "stdout",
     "output_type": "stream",
     "text": [
      "6  publications in the last day.\n"
     ]
    }
   ],
   "source": [
    "# redo for today\n",
    "days = 1\n",
    "res = list(get_last_n_days(dates, days))\n",
    "npub = len(res)\n",
    "print(len(res), f\" publications in the last day.\")\n",
    "\n",
    "carousel = create_carousel(npub)\n",
    "docs = ', '.join(['\"{0:s}\"'.format(k.split('/')[-1]) for k in res])\n",
    "slides = ', '.join([f'\"slide{k}\"' for k in range(1, npub + 1)])\n",
    "\n",
    "with open(\"daily_template.html\", \"r\") as tpl:\n",
    "    page = tpl.read()\n",
    "    page = page.replace(\"{%-- carousel:s --%}\", carousel)\\\n",
    "               .replace(\"{%-- suptitle:s --%}\",  \"Daily\" )\\\n",
    "               .replace(\"{%-- docs:s --%}\", docs)\\\n",
    "               .replace(\"{%-- slides:s --%}\", slides)\n",
    "    \n",
    "# print(carousel, docs, slides)\n",
    "# print(page)\n",
    "with open(\"_build/html/index_daily.html\", 'w') as fout:\n",
    "    fout.write(page)"
   ]
  },
  {
   "cell_type": "code",
   "execution_count": 15,
   "id": "00eece82",
   "metadata": {
    "execution": {
     "iopub.execute_input": "2025-07-23T04:34:03.378966Z",
     "iopub.status.busy": "2025-07-23T04:34:03.378748Z",
     "iopub.status.idle": "2025-07-23T04:34:03.384801Z",
     "shell.execute_reply": "2025-07-23T04:34:03.384261Z"
    },
    "papermill": {
     "duration": 0.013178,
     "end_time": "2025-07-23T04:34:03.385798",
     "exception": false,
     "start_time": "2025-07-23T04:34:03.372620",
     "status": "completed"
    },
    "scrolled": false,
    "tags": []
   },
   "outputs": [
    {
     "name": "stdout",
     "output_type": "stream",
     "text": [
      "6  6 publications selected.\n"
     ]
    }
   ],
   "source": [
    "# Create the flat grid of the last N papers (fixed number regardless of dates)\n",
    "from itertools import islice \n",
    "\n",
    "npub = 6\n",
    "res = [k[0] for k in (islice(reversed(sorted(dates, key=lambda x: x[1])), 6))]\n",
    "print(len(res), f\" {npub} publications selected.\")\n",
    "\n",
    "grid = create_grid(npub)\n",
    "docs = ', '.join(['\"{0:s}\"'.format(k.split('/')[-1]) for k in res])\n",
    "slides = ', '.join([f'\"slide{k}\"' for k in range(1, npub + 1)])\n",
    "\n",
    "with open(\"grid_template.html\", \"r\") as tpl:\n",
    "    page = tpl.read()\n",
    "    page = page.replace(\"{%-- grid-content:s --%}\", grid)\\\n",
    "               .replace(\"{%-- suptitle:s --%}\",  f\"Last {npub:,d} papers\" )\\\n",
    "               .replace(\"{%-- docs:s --%}\", docs)\\\n",
    "               .replace(\"{%-- slides:s --%}\", slides)\n",
    "    \n",
    "# print(grid, docs, slides)\n",
    "# print(page)\n",
    "with open(\"_build/html/index_npub_grid.html\", 'w') as fout:\n",
    "    fout.write(page)"
   ]
  }
 ],
 "metadata": {
  "kernelspec": {
   "display_name": "Python 3 (ipykernel)",
   "language": "python",
   "name": "python3"
  },
  "language_info": {
   "codemirror_mode": {
    "name": "ipython",
    "version": 3
   },
   "file_extension": ".py",
   "mimetype": "text/x-python",
   "name": "python",
   "nbconvert_exporter": "python",
   "pygments_lexer": "ipython3",
   "version": "3.9.23"
  },
  "papermill": {
   "default_parameters": {},
   "duration": 63.258167,
   "end_time": "2025-07-23T04:34:03.607077",
   "environment_variables": {},
   "exception": null,
   "input_path": "MPIA daily digest.ipynb",
   "output_path": "log.ipynb",
   "parameters": {},
   "start_time": "2025-07-23T04:33:00.348910",
   "version": "2.6.0"
  },
  "vscode": {
   "interpreter": {
    "hash": "aee8b7b246df8f9039afb4144a1f6fd8d2ca17a180786b69acc140d282b71a49"
   }
  },
  "widgets": {
   "application/vnd.jupyter.widget-state+json": {
    "state": {
     "2abf88f5312a44fdb6efb9dbc809325b": {
      "model_module": "@jupyter-widgets/base",
      "model_module_version": "2.0.0",
      "model_name": "LayoutModel",
      "state": {
       "_model_module": "@jupyter-widgets/base",
       "_model_module_version": "2.0.0",
       "_model_name": "LayoutModel",
       "_view_count": null,
       "_view_module": "@jupyter-widgets/base",
       "_view_module_version": "2.0.0",
       "_view_name": "LayoutView",
       "align_content": null,
       "align_items": null,
       "align_self": null,
       "border_bottom": null,
       "border_left": null,
       "border_right": null,
       "border_top": null,
       "bottom": null,
       "display": null,
       "flex": null,
       "flex_flow": null,
       "grid_area": null,
       "grid_auto_columns": null,
       "grid_auto_flow": null,
       "grid_auto_rows": null,
       "grid_column": null,
       "grid_gap": null,
       "grid_row": null,
       "grid_template_areas": null,
       "grid_template_columns": null,
       "grid_template_rows": null,
       "height": null,
       "justify_content": null,
       "justify_items": null,
       "left": null,
       "margin": null,
       "max_height": null,
       "max_width": null,
       "min_height": null,
       "min_width": null,
       "object_fit": null,
       "object_position": null,
       "order": null,
       "overflow": null,
       "padding": null,
       "right": null,
       "top": null,
       "visibility": null,
       "width": null
      }
     },
     "2d9192218c9c4401a5f271a3375fc79f": {
      "model_module": "@jupyter-widgets/base",
      "model_module_version": "2.0.0",
      "model_name": "LayoutModel",
      "state": {
       "_model_module": "@jupyter-widgets/base",
       "_model_module_version": "2.0.0",
       "_model_name": "LayoutModel",
       "_view_count": null,
       "_view_module": "@jupyter-widgets/base",
       "_view_module_version": "2.0.0",
       "_view_name": "LayoutView",
       "align_content": null,
       "align_items": null,
       "align_self": null,
       "border_bottom": null,
       "border_left": null,
       "border_right": null,
       "border_top": null,
       "bottom": null,
       "display": null,
       "flex": null,
       "flex_flow": null,
       "grid_area": null,
       "grid_auto_columns": null,
       "grid_auto_flow": null,
       "grid_auto_rows": null,
       "grid_column": null,
       "grid_gap": null,
       "grid_row": null,
       "grid_template_areas": null,
       "grid_template_columns": null,
       "grid_template_rows": null,
       "height": null,
       "justify_content": null,
       "justify_items": null,
       "left": null,
       "margin": null,
       "max_height": null,
       "max_width": null,
       "min_height": null,
       "min_width": null,
       "object_fit": null,
       "object_position": null,
       "order": null,
       "overflow": null,
       "padding": null,
       "right": null,
       "top": null,
       "visibility": null,
       "width": null
      }
     },
     "3761b816db05449b97519eb9bd3126d1": {
      "model_module": "@jupyter-widgets/controls",
      "model_module_version": "2.0.0",
      "model_name": "ProgressStyleModel",
      "state": {
       "_model_module": "@jupyter-widgets/controls",
       "_model_module_version": "2.0.0",
       "_model_name": "ProgressStyleModel",
       "_view_count": null,
       "_view_module": "@jupyter-widgets/base",
       "_view_module_version": "2.0.0",
       "_view_name": "StyleView",
       "bar_color": null,
       "description_width": ""
      }
     },
     "3844f31a93ac434cbe25d42432d51600": {
      "model_module": "@jupyter-widgets/controls",
      "model_module_version": "2.0.0",
      "model_name": "HTMLStyleModel",
      "state": {
       "_model_module": "@jupyter-widgets/controls",
       "_model_module_version": "2.0.0",
       "_model_name": "HTMLStyleModel",
       "_view_count": null,
       "_view_module": "@jupyter-widgets/base",
       "_view_module_version": "2.0.0",
       "_view_name": "StyleView",
       "background": null,
       "description_width": "",
       "font_size": null,
       "text_color": null
      }
     },
     "5a1cc4fcb97445cda124ff6a5c1a41c3": {
      "model_module": "@jupyter-widgets/controls",
      "model_module_version": "2.0.0",
      "model_name": "HTMLModel",
      "state": {
       "_dom_classes": [],
       "_model_module": "@jupyter-widgets/controls",
       "_model_module_version": "2.0.0",
       "_model_name": "HTMLModel",
       "_view_count": null,
       "_view_module": "@jupyter-widgets/controls",
       "_view_module_version": "2.0.0",
       "_view_name": "HTMLView",
       "description": "",
       "description_allow_html": false,
       "layout": "IPY_MODEL_2abf88f5312a44fdb6efb9dbc809325b",
       "placeholder": "​",
       "style": "IPY_MODEL_3844f31a93ac434cbe25d42432d51600",
       "tabbable": null,
       "tooltip": null,
       "value": "100%"
      }
     },
     "81edf8d1c90345fba4aa35965b3e3ff5": {
      "model_module": "@jupyter-widgets/base",
      "model_module_version": "2.0.0",
      "model_name": "LayoutModel",
      "state": {
       "_model_module": "@jupyter-widgets/base",
       "_model_module_version": "2.0.0",
       "_model_name": "LayoutModel",
       "_view_count": null,
       "_view_module": "@jupyter-widgets/base",
       "_view_module_version": "2.0.0",
       "_view_name": "LayoutView",
       "align_content": null,
       "align_items": null,
       "align_self": null,
       "border_bottom": null,
       "border_left": null,
       "border_right": null,
       "border_top": null,
       "bottom": null,
       "display": null,
       "flex": null,
       "flex_flow": null,
       "grid_area": null,
       "grid_auto_columns": null,
       "grid_auto_flow": null,
       "grid_auto_rows": null,
       "grid_column": null,
       "grid_gap": null,
       "grid_row": null,
       "grid_template_areas": null,
       "grid_template_columns": null,
       "grid_template_rows": null,
       "height": null,
       "justify_content": null,
       "justify_items": null,
       "left": null,
       "margin": null,
       "max_height": null,
       "max_width": null,
       "min_height": null,
       "min_width": null,
       "object_fit": null,
       "object_position": null,
       "order": null,
       "overflow": null,
       "padding": null,
       "right": null,
       "top": null,
       "visibility": null,
       "width": null
      }
     },
     "8ad09ccd8e754ae1802b6d9bcde72029": {
      "model_module": "@jupyter-widgets/controls",
      "model_module_version": "2.0.0",
      "model_name": "HTMLStyleModel",
      "state": {
       "_model_module": "@jupyter-widgets/controls",
       "_model_module_version": "2.0.0",
       "_model_name": "HTMLStyleModel",
       "_view_count": null,
       "_view_module": "@jupyter-widgets/base",
       "_view_module_version": "2.0.0",
       "_view_name": "StyleView",
       "background": null,
       "description_width": "",
       "font_size": null,
       "text_color": null
      }
     },
     "a4b9094cfffa45418959ff5299665a3f": {
      "model_module": "@jupyter-widgets/controls",
      "model_module_version": "2.0.0",
      "model_name": "HTMLModel",
      "state": {
       "_dom_classes": [],
       "_model_module": "@jupyter-widgets/controls",
       "_model_module_version": "2.0.0",
       "_model_name": "HTMLModel",
       "_view_count": null,
       "_view_module": "@jupyter-widgets/controls",
       "_view_module_version": "2.0.0",
       "_view_name": "HTMLView",
       "description": "",
       "description_allow_html": false,
       "layout": "IPY_MODEL_81edf8d1c90345fba4aa35965b3e3ff5",
       "placeholder": "​",
       "style": "IPY_MODEL_8ad09ccd8e754ae1802b6d9bcde72029",
       "tabbable": null,
       "tooltip": null,
       "value": " 8/8 [00:41&lt;00:00,  6.06s/it]"
      }
     },
     "ab701570e49b414991d8c8e7bc20c161": {
      "model_module": "@jupyter-widgets/controls",
      "model_module_version": "2.0.0",
      "model_name": "HBoxModel",
      "state": {
       "_dom_classes": [],
       "_model_module": "@jupyter-widgets/controls",
       "_model_module_version": "2.0.0",
       "_model_name": "HBoxModel",
       "_view_count": null,
       "_view_module": "@jupyter-widgets/controls",
       "_view_module_version": "2.0.0",
       "_view_name": "HBoxView",
       "box_style": "",
       "children": [
        "IPY_MODEL_5a1cc4fcb97445cda124ff6a5c1a41c3",
        "IPY_MODEL_b3dcca3a23f443f3b6af977c2f531133",
        "IPY_MODEL_a4b9094cfffa45418959ff5299665a3f"
       ],
       "layout": "IPY_MODEL_2d9192218c9c4401a5f271a3375fc79f",
       "tabbable": null,
       "tooltip": null
      }
     },
     "b3dcca3a23f443f3b6af977c2f531133": {
      "model_module": "@jupyter-widgets/controls",
      "model_module_version": "2.0.0",
      "model_name": "FloatProgressModel",
      "state": {
       "_dom_classes": [],
       "_model_module": "@jupyter-widgets/controls",
       "_model_module_version": "2.0.0",
       "_model_name": "FloatProgressModel",
       "_view_count": null,
       "_view_module": "@jupyter-widgets/controls",
       "_view_module_version": "2.0.0",
       "_view_name": "ProgressView",
       "bar_style": "success",
       "description": "",
       "description_allow_html": false,
       "layout": "IPY_MODEL_cc8ef0a7614542409517c8f303e63fa9",
       "max": 8.0,
       "min": 0.0,
       "orientation": "horizontal",
       "style": "IPY_MODEL_3761b816db05449b97519eb9bd3126d1",
       "tabbable": null,
       "tooltip": null,
       "value": 8.0
      }
     },
     "cc8ef0a7614542409517c8f303e63fa9": {
      "model_module": "@jupyter-widgets/base",
      "model_module_version": "2.0.0",
      "model_name": "LayoutModel",
      "state": {
       "_model_module": "@jupyter-widgets/base",
       "_model_module_version": "2.0.0",
       "_model_name": "LayoutModel",
       "_view_count": null,
       "_view_module": "@jupyter-widgets/base",
       "_view_module_version": "2.0.0",
       "_view_name": "LayoutView",
       "align_content": null,
       "align_items": null,
       "align_self": null,
       "border_bottom": null,
       "border_left": null,
       "border_right": null,
       "border_top": null,
       "bottom": null,
       "display": null,
       "flex": null,
       "flex_flow": null,
       "grid_area": null,
       "grid_auto_columns": null,
       "grid_auto_flow": null,
       "grid_auto_rows": null,
       "grid_column": null,
       "grid_gap": null,
       "grid_row": null,
       "grid_template_areas": null,
       "grid_template_columns": null,
       "grid_template_rows": null,
       "height": null,
       "justify_content": null,
       "justify_items": null,
       "left": null,
       "margin": null,
       "max_height": null,
       "max_width": null,
       "min_height": null,
       "min_width": null,
       "object_fit": null,
       "object_position": null,
       "order": null,
       "overflow": null,
       "padding": null,
       "right": null,
       "top": null,
       "visibility": null,
       "width": null
      }
     }
    },
    "version_major": 2,
    "version_minor": 0
   }
  }
 },
 "nbformat": 4,
 "nbformat_minor": 5
}