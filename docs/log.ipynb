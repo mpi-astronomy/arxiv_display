{
 "cells": [
  {
   "cell_type": "markdown",
   "id": "92bcb855",
   "metadata": {
    "papermill": {
     "duration": 0.003695,
     "end_time": "2024-03-11T04:08:16.805660",
     "exception": false,
     "start_time": "2024-03-11T04:08:16.801965",
     "status": "completed"
    },
    "tags": []
   },
   "source": [
    "# MPIA Arxiv on Deck 2\n",
    "\n",
    "Contains the steps to produce the paper extractions."
   ]
  },
  {
   "cell_type": "code",
   "execution_count": 1,
   "id": "3a0d6e11",
   "metadata": {
    "execution": {
     "iopub.execute_input": "2024-03-11T04:08:16.813189Z",
     "iopub.status.busy": "2024-03-11T04:08:16.812696Z",
     "iopub.status.idle": "2024-03-11T04:08:17.357491Z",
     "shell.execute_reply": "2024-03-11T04:08:17.356741Z"
    },
    "papermill": {
     "duration": 0.550748,
     "end_time": "2024-03-11T04:08:17.359399",
     "exception": false,
     "start_time": "2024-03-11T04:08:16.808651",
     "status": "completed"
    },
    "tags": []
   },
   "outputs": [],
   "source": [
    "# Imports\n",
    "import os\n",
    "from IPython.display import Markdown, display\n",
    "from tqdm.notebook import tqdm\n",
    "import warnings\n",
    "from PIL import Image \n",
    "\n",
    "# requires arxiv_on_deck_2\n",
    "\n",
    "from arxiv_on_deck_2.arxiv2 import (get_new_papers, \n",
    "                                    get_paper_from_identifier,\n",
    "                                    retrieve_document_source, \n",
    "                                    get_markdown_badge)\n",
    "from arxiv_on_deck_2 import (latex,\n",
    "                             latex_bib,\n",
    "                             mpia,\n",
    "                             highlight_authors_in_list)\n",
    "\n",
    "# Sometimes images are really big\n",
    "Image.MAX_IMAGE_PIXELS = 1000000000 "
   ]
  },
  {
   "cell_type": "code",
   "execution_count": 2,
   "id": "22aa9d44",
   "metadata": {
    "execution": {
     "iopub.execute_input": "2024-03-11T04:08:17.366767Z",
     "iopub.status.busy": "2024-03-11T04:08:17.366285Z",
     "iopub.status.idle": "2024-03-11T04:08:17.371339Z",
     "shell.execute_reply": "2024-03-11T04:08:17.370736Z"
    },
    "papermill": {
     "duration": 0.010126,
     "end_time": "2024-03-11T04:08:17.372694",
     "exception": false,
     "start_time": "2024-03-11T04:08:17.362568",
     "status": "completed"
    },
    "tags": []
   },
   "outputs": [],
   "source": [
    "# Some useful definitions.\n",
    "\n",
    "class AffiliationWarning(UserWarning):\n",
    "    pass\n",
    "\n",
    "class AffiliationError(RuntimeError):\n",
    "    pass\n",
    "\n",
    "def validation(source: str):\n",
    "    \"\"\"Raises error paper during parsing of source file\n",
    "    \n",
    "    Allows checks before parsing TeX code.\n",
    "    \n",
    "    Raises AffiliationWarning\n",
    "    \"\"\"\n",
    "    check = mpia.affiliation_verifications(source, verbose=True)\n",
    "    if check is not True:\n",
    "        raise AffiliationError(\"mpia.affiliation_verifications: \" + check)\n",
    "\n",
    "        \n",
    "warnings.simplefilter('always', AffiliationWarning)\n",
    "\n",
    "\n",
    "def get_markdown_qrcode(paper_id: str):\n",
    "    \"\"\" Generate a qrcode to the arxiv page using qrserver.com\n",
    "    \n",
    "    :param paper: Arxiv paper\n",
    "    :returns: markdown text\n",
    "    \"\"\"\n",
    "    url = r\"https://api.qrserver.com/v1/create-qr-code/?size=100x100&data=\"\n",
    "    txt = f\"\"\"<img src={url}\"https://arxiv.org/abs/{paper_id}\">\"\"\"\n",
    "    txt = '<div id=\"qrcode\">' + txt + '</div>'\n",
    "    return txt"
   ]
  },
  {
   "cell_type": "markdown",
   "id": "14bd6310",
   "metadata": {
    "papermill": {
     "duration": 0.002764,
     "end_time": "2024-03-11T04:08:17.378223",
     "exception": false,
     "start_time": "2024-03-11T04:08:17.375459",
     "status": "completed"
    },
    "tags": []
   },
   "source": [
    "## get list of arxiv paper candidates\n",
    "\n",
    "We use the MPIA mitarbeiter list webpage from mpia.de to get author names\n",
    "We then get all new papers from Arxiv and match authors"
   ]
  },
  {
   "cell_type": "code",
   "execution_count": 3,
   "id": "2645e73a",
   "metadata": {
    "execution": {
     "iopub.execute_input": "2024-03-11T04:08:17.385220Z",
     "iopub.status.busy": "2024-03-11T04:08:17.384635Z",
     "iopub.status.idle": "2024-03-11T04:08:35.720830Z",
     "shell.execute_reply": "2024-03-11T04:08:35.720072Z"
    },
    "papermill": {
     "duration": 18.341116,
     "end_time": "2024-03-11T04:08:35.722237",
     "exception": false,
     "start_time": "2024-03-11T04:08:17.381121",
     "status": "completed"
    },
    "tags": []
   },
   "outputs": [
    {
     "name": "stdout",
     "output_type": "stream",
     "text": [
      "M. Samland  ->  M. Samland  |  ['M. Samland']\n",
      "G. Perotti  ->  G. Perotti  |  ['G. Perotti']\n",
      "E. Matthews  ->  E. Matthews  |  ['E. Matthews']\n",
      "S. Scheithauer  ->  S. Scheithauer  |  ['S. Scheithauer']\n",
      "J. Schreiber  ->  J. Schreiber  |  ['J. Schreiber']\n",
      "K. Schwarz  ->  K. Schwarz  |  ['K. Schwarz']\n",
      "S. Hannon  ->  S. Hannon  |  ['S. Hannon']\n",
      "E. Schinnerer  ->  E. Schinnerer  |  ['E. Schinnerer']\n",
      "K. Kreckel  ->  K. Kreckel  |  ['K. Kreckel']\n",
      "X. Zhang  ->  X. Zhang  |  ['X. Zhang']\n",
      "A. d. Graaff  ->  A. D. Graaff  |  ['A. D. Graaff']\n",
      "H.-W. Rix  ->  H.-W. Rix  |  ['H.-W. Rix']\n",
      "U. Dudzeviciute  ->  U. Dudzeviciute  |  ['U. Dudzeviciute']\n",
      "Arxiv has 51 new papers today\n",
      "          4 with possible author matches\n"
     ]
    }
   ],
   "source": [
    "# get list from MPIA website\n",
    "# it automatically filters identified non-scientists :func:`mpia.filter_non_scientists`\n",
    "mpia_authors = mpia.get_mpia_mitarbeiter_list()\n",
    "normed_mpia_authors = [k[1] for k in mpia_authors]   # initials + fullname\n",
    "new_papers = get_new_papers()\n",
    "# add manual references\n",
    "add_paper_refs = []\n",
    "new_papers.extend([get_paper_from_identifier(k) for k in add_paper_refs])\n",
    "\n",
    "candidates = []\n",
    "for paperk in new_papers:\n",
    "    # Check author list with their initials\n",
    "    normed_author_list = [mpia.get_initials(k) for k in paperk['authors']]\n",
    "    hl_authors = highlight_authors_in_list(normed_author_list, normed_mpia_authors, verbose=True)\n",
    "    matches = [(hl, orig) for hl, orig in zip(hl_authors, paperk['authors']) if 'mark' in hl]\n",
    "    paperk['authors'] = hl_authors\n",
    "    if matches:\n",
    "        # only select paper if an author matched our list\n",
    "        candidates.append(paperk)\n",
    "print(\"\"\"Arxiv has {0:,d} new papers today\"\"\".format(len(new_papers)))        \n",
    "print(\"\"\"          {0:,d} with possible author matches\"\"\".format(len(candidates)))"
   ]
  },
  {
   "cell_type": "markdown",
   "id": "3543b34a",
   "metadata": {
    "papermill": {
     "duration": 0.003025,
     "end_time": "2024-03-11T04:08:35.728462",
     "exception": false,
     "start_time": "2024-03-11T04:08:35.725437",
     "status": "completed"
    },
    "tags": []
   },
   "source": [
    "# Parse sources and generate relevant outputs\n",
    "\n",
    "From the candidates, we do the following steps:\n",
    "* get their tarball from ArXiv (and extract data)\n",
    "* find the main .tex file: find one with \\documentclass{...} (sometimes it's non trivial)\n",
    "* Check affiliations with :func:`validation`, which uses :func:`mpia.affiliation_verifications`\n",
    "* If passing the affiliations: we parse the .tex source\n",
    "   * inject sub-documents into the main (flatten the main document)\n",
    "   * parse structure, extract information (title, abstract, authors, figures...)\n",
    "   * handles `\\graphicspath` if provided\n",
    "* Generate the .md document."
   ]
  },
  {
   "cell_type": "code",
   "execution_count": 4,
   "id": "9576b79e",
   "metadata": {
    "execution": {
     "iopub.execute_input": "2024-03-11T04:08:35.735388Z",
     "iopub.status.busy": "2024-03-11T04:08:35.734975Z",
     "iopub.status.idle": "2024-03-11T04:09:58.919202Z",
     "shell.execute_reply": "2024-03-11T04:09:58.918404Z"
    },
    "papermill": {
     "duration": 83.19036,
     "end_time": "2024-03-11T04:09:58.921622",
     "exception": false,
     "start_time": "2024-03-11T04:08:35.731262",
     "status": "completed"
    },
    "scrolled": false,
    "tags": []
   },
   "outputs": [
    {
     "data": {
      "application/vnd.jupyter.widget-view+json": {
       "model_id": "28086a9264914b8c8a548301969edb37",
       "version_major": 2,
       "version_minor": 0
      },
      "text/plain": [
       "  0%|          | 0/4 [00:00<?, ?it/s]"
      ]
     },
     "metadata": {},
     "output_type": "display_data"
    },
    {
     "name": "stdout",
     "output_type": "stream",
     "text": [
      "Retrieving document from  https://arxiv.org/e-print/2403.04855\n"
     ]
    },
    {
     "name": "stdout",
     "output_type": "stream",
     "text": [
      "extracting tarball to tmp_2403.04855... done.\n"
     ]
    },
    {
     "name": "stdout",
     "output_type": "stream",
     "text": [
      "M. Samland  ->  M. Samland  |  ['M. Samland']\n",
      "G. Perotti  ->  G. Perotti  |  ['G. Perotti']\n",
      "E. Matthews  ->  E. Matthews  |  ['E. Matthews']\n",
      "S. Scheithauer  ->  S. Scheithauer  |  ['S. Scheithauer']\n",
      "J. Schreiber  ->  J. Schreiber  |  ['J. Schreiber']\n",
      "K. Schwarz  ->  K. Schwarz  |  ['K. Schwarz']\n"
     ]
    },
    {
     "name": "stdout",
     "output_type": "stream",
     "text": [
      "Found 74 bibliographic references in tmp_2403.04855/aanda.bbl.\n",
      "syntax error in line 508: '=' expected\n",
      "Retrieving document from  https://arxiv.org/e-print/2403.04901\n"
     ]
    },
    {
     "name": "stdout",
     "output_type": "stream",
     "text": [
      "extracting tarball to tmp_2403.04901..."
     ]
    },
    {
     "name": "stdout",
     "output_type": "stream",
     "text": [
      " done.\n",
      "Retrieving document from  https://arxiv.org/e-print/2403.05328\n"
     ]
    },
    {
     "name": "stderr",
     "output_type": "stream",
     "text": [
      "/opt/hostedtoolcache/Python/3.9.18/x64/lib/python3.9/site-packages/IPython/core/interactiveshell.py:3550: LatexWarning: Multiple tex files.\n",
      "\n",
      "  exec(code_obj, self.user_global_ns, self.user_ns)\n",
      "/opt/hostedtoolcache/Python/3.9.18/x64/lib/python3.9/site-packages/IPython/core/interactiveshell.py:3550: LatexWarning: Found documentclass in tmp_2403.04901/natbib.tex\n",
      "\n",
      "  exec(code_obj, self.user_global_ns, self.user_ns)\n"
     ]
    },
    {
     "name": "stdout",
     "output_type": "stream",
     "text": [
      "extracting tarball to tmp_2403.05328..."
     ]
    },
    {
     "name": "stdout",
     "output_type": "stream",
     "text": [
      " done.\n",
      "Retrieving document from  https://arxiv.org/e-print/2403.05506\n"
     ]
    },
    {
     "name": "stdout",
     "output_type": "stream",
     "text": [
      "extracting tarball to tmp_2403.05506..."
     ]
    },
    {
     "name": "stdout",
     "output_type": "stream",
     "text": [
      " done.\n"
     ]
    },
    {
     "name": "stderr",
     "output_type": "stream",
     "text": [
      "/opt/hostedtoolcache/Python/3.9.18/x64/lib/python3.9/site-packages/IPython/core/interactiveshell.py:3550: LatexWarning: Multiple tex files.\n",
      "\n",
      "  exec(code_obj, self.user_global_ns, self.user_ns)\n",
      "/opt/hostedtoolcache/Python/3.9.18/x64/lib/python3.9/site-packages/IPython/core/interactiveshell.py:3550: LatexWarning: Found documentclass in tmp_2403.05506/wide.tex\n",
      "\n",
      "  exec(code_obj, self.user_global_ns, self.user_ns)\n"
     ]
    },
    {
     "name": "stdout",
     "output_type": "stream",
     "text": [
      "Found 140 bibliographic references in tmp_2403.05506/wide.bbl.\n",
      "syntax error in line 207: '=' expected\n"
     ]
    }
   ],
   "source": [
    "documents = []\n",
    "failed = []\n",
    "for paper in tqdm(candidates):\n",
    "    paper_id = paper['identifier'].lower().replace('arxiv:', '')\n",
    "    \n",
    "    folder = f'tmp_{paper_id}'\n",
    "\n",
    "    try:\n",
    "        if not os.path.isdir(folder):\n",
    "            folder = retrieve_document_source(f\"{paper_id}\", f'tmp_{paper_id}')\n",
    "        \n",
    "        try:\n",
    "            doc = latex.LatexDocument(folder, validation=validation)    \n",
    "        except AffiliationError as affilerror:\n",
    "            msg = f\"ArXiv:{paper_id:s} is not an MPIA paper... \" + str(affilerror)\n",
    "            failed.append((paper, \"affiliation error: \" + str(affilerror) ))\n",
    "            continue\n",
    "        \n",
    "        # Hack because sometimes author parsing does not work well\n",
    "        if (len(doc.authors) != len(paper['authors'])):\n",
    "            doc._authors = paper['authors']\n",
    "        else:\n",
    "            # highlight authors (FIXME: doc.highlight_authors)\n",
    "            # done on arxiv paper already\n",
    "            doc._authors = highlight_authors_in_list(\n",
    "                [mpia.get_initials(k) for k in doc.authors], \n",
    "                normed_mpia_authors, verbose=True)\n",
    "        if (doc.abstract) in (None, ''):\n",
    "            doc._abstract = paper['abstract']\n",
    "            \n",
    "        doc.comment = (get_markdown_badge(paper_id) + \n",
    "                       \"<mark>Appeared on: \" + paper['date'] + \"</mark> - \")\n",
    "        if paper['comments']:\n",
    "            doc.comment += \" _\" + paper['comments'] + \"_\"\n",
    "        \n",
    "        full_md = doc.generate_markdown_text()\n",
    "        \n",
    "        full_md += get_markdown_qrcode(paper_id)\n",
    "        \n",
    "        # replace citations\n",
    "        try:\n",
    "            bibdata = latex_bib.LatexBib.from_doc(doc)\n",
    "            full_md = latex_bib.replace_citations(full_md, bibdata)\n",
    "        except Exception as e:\n",
    "            print(e)\n",
    "        \n",
    "        documents.append((paper_id, full_md))\n",
    "    except Exception as e:\n",
    "        warnings.warn(latex.LatexWarning(f\"{paper_id:s} did not run properly\\n\" +\n",
    "                                         str(e)\n",
    "                                        ))\n",
    "        failed.append((paper, \"latex error \" + str(e)))"
   ]
  },
  {
   "cell_type": "markdown",
   "id": "2505a25c",
   "metadata": {
    "papermill": {
     "duration": 0.003696,
     "end_time": "2024-03-11T04:09:58.929254",
     "exception": false,
     "start_time": "2024-03-11T04:09:58.925558",
     "status": "completed"
    },
    "tags": []
   },
   "source": [
    "### Export the logs\n",
    "\n",
    "Throughout, we also keep track of the logs per paper. see `logs-{today date}.md` "
   ]
  },
  {
   "cell_type": "code",
   "execution_count": 5,
   "id": "d733828a",
   "metadata": {
    "execution": {
     "iopub.execute_input": "2024-03-11T04:09:58.937720Z",
     "iopub.status.busy": "2024-03-11T04:09:58.937278Z",
     "iopub.status.idle": "2024-03-11T04:09:58.951839Z",
     "shell.execute_reply": "2024-03-11T04:09:58.951241Z"
    },
    "papermill": {
     "duration": 0.020452,
     "end_time": "2024-03-11T04:09:58.953265",
     "exception": false,
     "start_time": "2024-03-11T04:09:58.932813",
     "status": "completed"
    },
    "scrolled": false,
    "tags": []
   },
   "outputs": [
    {
     "data": {
      "text/markdown": [
       "## Successful papers"
      ],
      "text/plain": [
       "<IPython.core.display.Markdown object>"
      ]
     },
     "metadata": {},
     "output_type": "display_data"
    },
    {
     "data": {
      "text/markdown": [
       "\n",
       "|||\n",
       "|---:|:---|\n",
       "| [![arXiv](https://img.shields.io/badge/arXiv-arXiv:2403.04855-b31b1b.svg)](https://arxiv.org/abs/arXiv:2403.04855) | **MINDS: JWST/NIRCam imaging of the protoplanetary disk PDS 70**  |\n",
       "|| V. Christiaens, et al. -- incl., <mark>M. Samland</mark>, <mark>G. Perotti</mark>, <mark>E. Matthews</mark>, <mark>S. Scheithauer</mark>, <mark>J. Schreiber</mark>, <mark>K. Schwarz</mark> |\n",
       "|*Appeared on*| *2024-03-11*|\n",
       "|*Comments*| *6+11 pages, 3+10 figures (text+appendix). Accepted for publication in A&A*|\n",
       "|**Abstract**| Context. Two protoplanets have recently been discovered within the PDS 70 protoplanetary disk. JWST/NIRCam offers a unique opportunity to characterize them and their birth environment at wavelengths difficult to access from the ground. Aims. We aim to image the circumstellar environment of PDS 70 at 1.87 $\\mu$m and 4.83 $\\mu$m, assess the presence of Pa-$\\alpha$ emission due to accretion onto the protoplanets, and probe any IR excess indicative of heated circumplanetary material. Methods. We obtain non-coronagraphic JWST/NIRCam images of PDS 70 within the MINDS (MIRI mid-INfrared Disk Survey) program. We leverage the Vortex Image Processing (VIP) package for data reduction, and develop dedicated routines for optimal stellar PSF subtraction, unbiased imaging of the disk, and protoplanet flux measurement in this type of dataset. A radiative transfer model of the disk is used to disentangle the contributions from the disk and the protoplanets. Results. We re-detect both protoplanets and identify extended emission after subtracting a disk model, including a large-scale spiral-like feature. We interpret its signal in the direct vicinity of planet c as tracing the accretion stream feeding its circumplanetary disk, while the outer part of the feature may rather reflect asymmetric illumination of the outer disk. We also report a bright signal consistent with a previously proposed protoplanet candidate enshrouded in dust, near the 1:2:4 mean-motion resonance with planets b and c. The 1.87 $\\mu$m flux of planet b is consistent with atmospheric model predictions, but not that of planet c. We discuss potential origins for this discrepancy, including significant Pa-$\\alpha$ line emission. The 4.83 $\\mu$m fluxes of planets b and c suggest enshrouding dust or heated CO emission from their circumplanetary environment. |"
      ],
      "text/plain": [
       "[arXiv:2403.04855] MINDS: JWST/NIRCam imaging of the protoplanetary disk PDS 70\n",
       "\tV. Christiaens, et al. -- incl., <mark>M. Samland</mark>, <mark>G. Perotti</mark>, <mark>E. Matthews</mark>, <mark>S. Scheithauer</mark>, <mark>J. Schreiber</mark>, <mark>K. Schwarz</mark>"
      ]
     },
     "metadata": {},
     "output_type": "display_data"
    },
    {
     "data": {
      "text/markdown": [
       "\n",
       "|||\n",
       "|---:|:---|\n",
       "| [![arXiv](https://img.shields.io/badge/arXiv-arXiv:2403.05506-b31b1b.svg)](https://arxiv.org/abs/arXiv:2403.05506) | **The NIRSpec Wide GTO Survey**  |\n",
       "|| M. V. Maseda, et al. -- incl., <mark>A. d. Graaff</mark>, <mark>H.-W. Rix</mark>, <mark>U. Dudzeviciute</mark> |\n",
       "|*Appeared on*| *2024-03-11*|\n",
       "|*Comments*| *14 pages, 11 figures; Submitted to A&A*|\n",
       "|**Abstract**| The Near-infrared Spectrograph (NIRSpec) on the James Webb Space Telescope is uniquely suited to studying galaxies in the distant Universe with its combination of multi-object capabilities and sensitivity over a large range in wavelength (0.6-5.3 microns). Here we present the NIRSpec Wide survey, part of the NIRSpec Instrument Science Team's Guaranteed Time Observations, using NIRSpec's microshutter array to obtain spectra of more than 3200 galaxies at $z>1$ at both low- and high-resolution ($R\\approx100$ and 2700) for a total of 105 hours. With 31 pointings covering $\\approx$320 arcmin$^2$ across the five CANDELS fields with exquisite ancillary photometry from the Hubble Space Telescope, the NIRSpec Wide survey represents a fast and efficient way of using JWST to probe galaxies in the early Universe. Pointing centers are determined to maximize the observability of the rarest, high-value sources. Subsequently, the microshutter configurations are optimized to observe the maximum number of \"census\" galaxies with a selection function based primarily on HST/F160W magnitude, photometric/slitless grism redshift, and predicted \\ha\\ flux tracing the bulk of the galaxy population at cosmic noon ($z_{\\rm med}=2.0$). We present details on the survey strategy, the target selection, an outline of the motivating science cases, and discuss upcoming public data releases to the community. |"
      ],
      "text/plain": [
       "[arXiv:2403.05506] The NIRSpec Wide GTO Survey\n",
       "\tM. V. Maseda, et al. -- incl., <mark>A. d. Graaff</mark>, <mark>H.-W. Rix</mark>, <mark>U. Dudzeviciute</mark>"
      ]
     },
     "metadata": {},
     "output_type": "display_data"
    },
    {
     "data": {
      "text/markdown": [
       "## Failed papers"
      ],
      "text/plain": [
       "<IPython.core.display.Markdown object>"
      ]
     },
     "metadata": {},
     "output_type": "display_data"
    },
    {
     "data": {
      "text/markdown": [
       "\n",
       "|||\n",
       "|---:|:---|\n",
       "| [![arXiv](https://img.shields.io/badge/arXiv-arXiv:2403.04901-b31b1b.svg)](https://arxiv.org/abs/arXiv:2403.04901) | **PHANGS-HST catalogs for $\\sim$100,000 star clusters and compact  associations in 38 galaxies: I. Observed properties**  |\n",
       "|| D. Maschmann, et al. -- incl., <mark>S. Hannon</mark>, <mark>E. Schinnerer</mark>, <mark>K. Kreckel</mark> |\n",
       "|*Appeared on*| *2024-03-11*|\n",
       "|*Comments*| *48 pages, 26 figures, article in review at APJ*|\n",
       "|**Abstract**| We present the largest catalog to-date of star clusters and compact associations in nearby galaxies. We have performed a V-band-selected census of clusters across the 38 spiral galaxies of the PHANGS-HST Treasury Survey, and measured integrated, aperture-corrected NUV-U-B-V-I photometry. This work has resulted in uniform catalogs that contain $\\sim$20,000 clusters and compact associations which have passed human inspection and morphological classification, and a larger sample of $\\sim$100,000 classified by neural network models. Here, we report on the observed properties of these samples, and demonstrate that tremendous insight can be gained from just the observed properties of clusters, even in the absence of their transformation into physical quantities. In particular, we show the utility of the UBVI color-color diagram, and the three principal features revealed by the PHANGS-HST cluster sample: the young cluster locus, the middle-age plume, and the old globular cluster clump. We present an atlas of maps of the 2D spatial distribution of clusters and compact associations in the context of the molecular clouds from PHANGS-ALMA. We explore new ways of understanding this large dataset in a multi-scale context by bringing together once-separate techniques for the characterization of clusters (color-color diagrams and spatial distributions) and their parent galaxies (galaxy morphology and location relative to the galaxy main sequence). A companion paper presents the physical properties: ages, masses, and dust reddenings derived using improved spectral energy distribution (SED) fitting techniques. |\n",
       "|<p style=\"color:green\"> **ERROR** </p>| <p style=\"color:green\">affiliation error: mpia.affiliation_verifications: 'Heidelberg' keyword not found.</p> |"
      ],
      "text/plain": [
       "<IPython.core.display.Markdown object>"
      ]
     },
     "metadata": {},
     "output_type": "display_data"
    },
    {
     "data": {
      "text/markdown": [
       "\n",
       "|||\n",
       "|---:|:---|\n",
       "| [![arXiv](https://img.shields.io/badge/arXiv-arXiv:2403.05328-b31b1b.svg)](https://arxiv.org/abs/arXiv:2403.05328) | **Swift monitoring of GK Persei during the 2018 dwarf nova outburst**  |\n",
       "|| S. Pei, M. Orio, <mark>X. Zhang</mark> |\n",
       "|*Appeared on*| *2024-03-11*|\n",
       "|*Comments*| *9 pages, 4 figures*|\n",
       "|**Abstract**| The old nova and intermediate polar (IP) GK Persei underwent one of its recurrent dwarf nova (DN) outbursts in 2018. We proposed monitoring it in UV and X-rays with the Neil Gehrels Swift Observatory, starting less than six days after the eruption, until 16 days after the eruption ended. For the first time we could follow the decay to minimum light UV and X-rays. We present the timing and spectral analysis, comparing the results with the previous outbursts and with the quiescent status. We confirm the spin modulation in X-rays with a period 351.325(9) s, only in the 2-10 keV range. The period was not detected in the 0.3-2 keV range and in the UV band, suggesting that the soft portion of the X-ray spectrum in GK Per does not originate near the poles, but in a wind or circumstellar material. The amplitude of the modulation was less prominent than in 2015, a fact that seems correlated with a lower average mass accretion rate. The spectral fits are consistent with a mass accretion rate increasing by a factor of 2 from rise to maximum and decreasing during the return to minimum, following the trend of the modulation amplitude. The maximum plasma temperature is higher than the Swift XRT energy range of 0.3-10 keV, thus it is not well constrained, but our spectral fits indicate that it may have varied irregularly during the outburst. |\n",
       "|<p style=\"color:green\"> **ERROR** </p>| <p style=\"color:green\">affiliation error: mpia.affiliation_verifications: 'Heidelberg' keyword not found.</p> |"
      ],
      "text/plain": [
       "<IPython.core.display.Markdown object>"
      ]
     },
     "metadata": {},
     "output_type": "display_data"
    }
   ],
   "source": [
    "import datetime\n",
    "today = str(datetime.date.today())\n",
    "logfile = f\"_build/html/logs/log-{today}.md\"\n",
    "\n",
    "\n",
    "with open(logfile, 'w') as logs:\n",
    "    # Success\n",
    "    logs.write(f'# Arxiv on Deck 2: Logs - {today}\\n\\n')\n",
    "    logs.write(\"\"\"* Arxiv had {0:,d} new papers\\n\"\"\".format(len(new_papers)))\n",
    "    logs.write(\"\"\"    * {0:,d} with possible author matches\\n\\n\"\"\".format(len(candidates)))\n",
    "    logs.write(\"## Sucessful papers\\n\\n\")\n",
    "    display(Markdown(\"## Successful papers\"))\n",
    "    success = [k[0] for k in documents]\n",
    "    for candid in candidates:\n",
    "        if candid['identifier'].split(':')[-1] in success:\n",
    "            display(candid)\n",
    "            logs.write(candid.generate_markdown_text() + '\\n\\n')\n",
    "\n",
    "    ## failed\n",
    "    logs.write(\"## Failed papers\\n\\n\")\n",
    "    display(Markdown(\"## Failed papers\"))\n",
    "    failed = sorted(failed, key=lambda x: x[1])\n",
    "    current_reason = \"\"\n",
    "    for paper, reason in failed:\n",
    "        if 'affiliation' in reason:\n",
    "            color = 'green'\n",
    "        else:\n",
    "            color = 'red'\n",
    "        data = Markdown(\n",
    "                paper.generate_markdown_text() + \n",
    "                f'\\n|<p style=\"color:{color:s}\"> **ERROR** </p>| <p style=\"color:{color:s}\">{reason:s}</p> |'\n",
    "               )\n",
    "        if reason != current_reason:\n",
    "            logs.write(f'### {reason:s} \\n\\n')\n",
    "            current_reason = reason\n",
    "        logs.write(data.data + '\\n\\n')\n",
    "        \n",
    "        # only display here the important errors (all in logs)\n",
    "        # if color in ('red',):\n",
    "        display(data)"
   ]
  },
  {
   "cell_type": "markdown",
   "id": "472d20ee",
   "metadata": {
    "papermill": {
     "duration": 0.004115,
     "end_time": "2024-03-11T04:09:58.961649",
     "exception": false,
     "start_time": "2024-03-11T04:09:58.957534",
     "status": "completed"
    },
    "tags": []
   },
   "source": [
    "## Export documents\n",
    "\n",
    "We now write the .md files and export relevant images"
   ]
  },
  {
   "cell_type": "code",
   "execution_count": 6,
   "id": "d426aed9",
   "metadata": {
    "execution": {
     "iopub.execute_input": "2024-03-11T04:09:58.971069Z",
     "iopub.status.busy": "2024-03-11T04:09:58.970602Z",
     "iopub.status.idle": "2024-03-11T04:09:58.977041Z",
     "shell.execute_reply": "2024-03-11T04:09:58.976424Z"
    },
    "papermill": {
     "duration": 0.012684,
     "end_time": "2024-03-11T04:09:58.978421",
     "exception": false,
     "start_time": "2024-03-11T04:09:58.965737",
     "status": "completed"
    },
    "tags": []
   },
   "outputs": [],
   "source": [
    "def export_markdown_summary(md: str, md_fname:str, directory: str):\n",
    "    \"\"\"Export MD document and associated relevant images\"\"\"\n",
    "    import os\n",
    "    import shutil\n",
    "    import re\n",
    "\n",
    "    if (os.path.exists(directory) and not os.path.isdir(directory)):\n",
    "        raise RuntimeError(f\"a non-directory file exists with name {directory:s}\")\n",
    "\n",
    "    if (not os.path.exists(directory)):\n",
    "        print(f\"creating directory {directory:s}\")\n",
    "        os.mkdir(directory)\n",
    "\n",
    "    fig_fnames = (re.compile(r'\\[Fig.*\\]\\((.*)\\)').findall(md) + \n",
    "                  re.compile(r'\\<img src=\"([^>\\s]*)\"[^>]*/>').findall(md))\n",
    "    for fname in fig_fnames:\n",
    "        if 'http' in fname:\n",
    "            # No need to copy online figures\n",
    "            continue\n",
    "        destdir = os.path.join(directory, os.path.dirname(fname))\n",
    "        destfname = os.path.join(destdir, os.path.basename(fname))\n",
    "        try:\n",
    "            os.makedirs(destdir)\n",
    "        except FileExistsError:\n",
    "            pass\n",
    "        shutil.copy(fname, destfname)\n",
    "    with open(os.path.join(directory, md_fname), 'w') as fout:\n",
    "        fout.write(md)\n",
    "    print(\"exported in \", os.path.join(directory, md_fname))\n",
    "    [print(\"    + \" + os.path.join(directory,fk)) for fk in fig_fnames]"
   ]
  },
  {
   "cell_type": "code",
   "execution_count": 7,
   "id": "014d04a4",
   "metadata": {
    "execution": {
     "iopub.execute_input": "2024-03-11T04:09:58.987830Z",
     "iopub.status.busy": "2024-03-11T04:09:58.987435Z",
     "iopub.status.idle": "2024-03-11T04:09:58.997235Z",
     "shell.execute_reply": "2024-03-11T04:09:58.996603Z"
    },
    "papermill": {
     "duration": 0.01593,
     "end_time": "2024-03-11T04:09:58.998509",
     "exception": false,
     "start_time": "2024-03-11T04:09:58.982579",
     "status": "completed"
    },
    "tags": []
   },
   "outputs": [
    {
     "name": "stdout",
     "output_type": "stream",
     "text": [
      "exported in  _build/html/2403.04855.md\n",
      "    + _build/html/tmp_2403.04855/./Fig1_v10.png\n",
      "    + _build/html/tmp_2403.04855/./FigA1_v4.png\n",
      "    + _build/html/tmp_2403.04855/./Fig2_v9.png\n",
      "exported in  _build/html/2403.05506.md\n",
      "    + _build/html/tmp_2403.05506/./survey_stats.png\n",
      "    + _build/html/tmp_2403.05506/./sensitivity.png\n",
      "    + _build/html/tmp_2403.05506/./zphot_zspec.png\n"
     ]
    }
   ],
   "source": [
    "for paper_id, md in documents:\n",
    "    export_markdown_summary(md, f\"{paper_id:s}.md\", '_build/html/')"
   ]
  },
  {
   "cell_type": "markdown",
   "id": "f087a0a7",
   "metadata": {
    "papermill": {
     "duration": 0.004203,
     "end_time": "2024-03-11T04:09:59.007074",
     "exception": false,
     "start_time": "2024-03-11T04:09:59.002871",
     "status": "completed"
    },
    "tags": []
   },
   "source": [
    "## Display the papers\n",
    "\n",
    "Not necessary but allows for a quick check."
   ]
  },
  {
   "cell_type": "code",
   "execution_count": 8,
   "id": "fd25f625",
   "metadata": {
    "execution": {
     "iopub.execute_input": "2024-03-11T04:09:59.016704Z",
     "iopub.status.busy": "2024-03-11T04:09:59.016229Z",
     "iopub.status.idle": "2024-03-11T04:09:59.021854Z",
     "shell.execute_reply": "2024-03-11T04:09:59.021321Z"
    },
    "papermill": {
     "duration": 0.011824,
     "end_time": "2024-03-11T04:09:59.023124",
     "exception": false,
     "start_time": "2024-03-11T04:09:59.011300",
     "status": "completed"
    },
    "scrolled": false,
    "tags": []
   },
   "outputs": [
    {
     "data": {
      "text/markdown": [
       "<div class=\"macros\" style=\"visibility:hidden;\">\n",
       "$\\newcommand{\\ensuremath}{}$\n",
       "$\\newcommand{\\xspace}{}$\n",
       "$\\newcommand{\\object}[1]{\\texttt{#1}}$\n",
       "$\\newcommand{\\farcs}{{.}''}$\n",
       "$\\newcommand{\\farcm}{{.}'}$\n",
       "$\\newcommand{\\arcsec}{''}$\n",
       "$\\newcommand{\\arcmin}{'}$\n",
       "$\\newcommand{\\ion}[2]{#1#2}$\n",
       "$\\newcommand{\\textsc}[1]{\\textrm{#1}}$\n",
       "$\\newcommand{\\hl}[1]{\\textrm{#1}}$\n",
       "$\\newcommand{\\footnote}[1]{}$\n",
       "$\\newcommand{\\ikc}[1]{\\textcolor{blue}{\\textsf{IK: #1 }}}$\n",
       "$\\newcommand{\\vc}[1]{\\textcolor{red}{\\textbf{VC:} #1}}$\n",
       "$\\newcommand{\\gp}[1]{\\textcolor{teal}{\\textbf{GP:} #1}}$\n",
       "$\\newcommand{\\new}[1]{#1}$</div>\n",
       "\n",
       "\n",
       "\n",
       "<div id=\"title\">\n",
       "\n",
       "# MINDS: JWST/NIRCam imaging of the protoplanetary disk PDS 70\n",
       "\n",
       "</div>\n",
       "<div id=\"comments\">\n",
       "\n",
       "[![arXiv](https://img.shields.io/badge/arXiv-2403.04855-b31b1b.svg)](https://arxiv.org/abs/2403.04855)<mark>Appeared on: 2024-03-11</mark> -  _6+11 pages, 3+10 figures (text+appendix). Accepted for publication in A&A_\n",
       "\n",
       "</div>\n",
       "<div id=\"authors\">\n",
       "\n",
       "V. Christiaens, et al. -- incl., <mark>M. Samland</mark>, <mark>G. Perotti</mark>, <mark>E. Matthews</mark>, <mark>S. Scheithauer</mark>, <mark>J. Schreiber</mark>, <mark>K. Schwarz</mark>\n",
       "\n",
       "</div>\n",
       "<div id=\"abstract\">\n",
       "\n",
       "**Abstract:** Two protoplanets have recently been discovered within the PDS 70 protoplanetary $\\new{disk}$ .    JWST/NIRCam offers a unique opportunity to characterize them and their birth environment at wavelengths difficult to access from the ground. We aim to image the circumstellar environment of PDS 70    at 1.87 $\\upmu$ m and 4.83 $\\upmu$ m, assess the presence of Pa- $\\alpha$ emission due to accretion onto the protoplanets, and probe any IR excess indicative of heated circumplanetary material. We obtain non-coronagraphic JWST/NIRCam images of PDS 70 within the MINDS (MIRI mid-INfrared Disk Survey) program. We leverage the Vortex Image Processing (VIP) package for data reduction, and develop dedicated routines for optimal stellar PSF subtraction, unbiased imaging of the disk, and protoplanet flux measurement in this type of dataset.    A radiative transfer model of the disk is used to disentangle the    contributions from the disk and the protoplanets. We re-detect both protoplanets    and identify extended emission after subtracting a    disk model, including a large-scale spiral-like feature. We interpret its signal in the direct vicinity of planet $c$ as tracing the accretion stream feeding its circumplanetary disk, while the outer part of the feature may rather reflect asymmetric illumination    of the outer disk.    We also report a bright signal consistent with a previously proposed protoplanet candidate enshrouded in dust, near the 1:2:4 mean-motion resonance with planets $b$ and $c$ .    The 1.87 $\\upmu$ m flux of planet $b$ is consistent with atmospheric model predictions,    but not that of planet $c$ . We discuss potential origins for this discrepancy, including    significant Pa- $\\alpha$ line emission.    The 4.83 $\\upmu$ m fluxes of planets $b$ and $c$ suggest    enshrouding dust or heated CO emission from their circumplanetary environment. The use of image-processing methods optimized for extended disk signals on high-sensitivity and high-stability JWST images can uniquely identify signatures of planet--disk interactions and enable accurate photometry of protoplanets at wavelengths difficultly probed from the ground. Our results point towards the prospect of identifying and characterizing more protoplanets in other JWST datasets.\n",
       "\n",
       "</div>\n",
       "\n",
       "<div id=\"div_fig1\">\n",
       "\n",
       "<img src=\"tmp_2403.04855/./Fig1_v10.png\" alt=\"Fig3\" width=\"100%\"/>\n",
       "\n",
       "**Figure 3. -** \n",
       "    NIRCam images of PDS 70 obtained in the F187N (top row) and F480M (bottom row) filters\n",
       "    using our iterative PCA algorithm.\n",
       "    The second and third columns show the images obtained after subtraction of our outer disk model,\n",
       "    and further subtraction of protoplanets $b$ and c, respectively. Major and minor axes of the disk are indicated with solid and dashed lines, respectively, in the first column. Dashed circles indicate the predicted location for protoplanets $b$ and $c$ based on the orbital fits in \\citet{Wang2021}, and for candidate $d$ based on the orbit suggested in \\citetalias{Mesa2019a}. The astrometric measurements for $d$(blue dots) are compared to our new estimated astrometry (solid circle) in panel c.\n",
       "    Units are MJy sr$^{-1}$.\n",
       "     (*fig:FinalImages*)\n",
       "\n",
       "</div>\n",
       "<div id=\"div_fig2\">\n",
       "\n",
       "<img src=\"tmp_2403.04855/./FigA1_v4.png\" alt=\"Fig6\" width=\"100%\"/>\n",
       "\n",
       "**Figure 6. -** Images obtained at 1.87$\\upmu$m (F187N; top row) and 4.80$\\upmu$m (F480M; bottom row) with mean roll subtraction,\n",
       "    TRAP, IROLL and IPCA. See text for details on each algorithm. The images correspond to the largest common field of view probed by the dithering pattern employed during the observation. The plate scale is 31 and 63 mas/pixel for the F187N and F480M images, respectively. A numerical mask with radius set to the FWHM of the PSF covers the inner part of the F187N images.\n",
       "     (*fig:AltAlgos*)\n",
       "\n",
       "</div>\n",
       "<div id=\"div_fig3\">\n",
       "\n",
       "<img src=\"tmp_2403.04855/./Fig2_v9.png\" alt=\"Fig4\" width=\"100%\"/>\n",
       "\n",
       "**Figure 4. -** Composite SED of PDS 70 $b$ showing literature spectro- and photometric measurements (grey and black error bars, respectively), the new NIRCam F187N and F480M photometry\n",
       "(blue and red error bars, respectively), and\n",
       "the best-fit atmospheric models found in \\cite{Wang2021}. The model with the most support is shown with an orange solid line (extinct BT-SETTL model with extra blackbody emission). It is consistent with both of our measurements, and suggests the need for a circumplanetary contribution.\n",
       "The light blue error bar is obtained\n",
       "considering literature photometry for the star,\n",
       "and illustrates the uncertainty associated to variability affecting $\\new${some} other data points of the SED (details in Appendix \\ref{sec:F187N_excess}).\n",
       " (*fig:spec_b*)\n",
       "\n",
       "</div><div id=\"qrcode\"><img src=https://api.qrserver.com/v1/create-qr-code/?size=100x100&data=\"https://arxiv.org/abs/2403.04855\"></div>"
      ],
      "text/plain": [
       "<IPython.core.display.Markdown object>"
      ]
     },
     "metadata": {},
     "output_type": "display_data"
    },
    {
     "data": {
      "text/markdown": [
       "<div class=\"macros\" style=\"visibility:hidden;\">\n",
       "$\\newcommand{\\ensuremath}{}$\n",
       "$\\newcommand{\\xspace}{}$\n",
       "$\\newcommand{\\object}[1]{\\texttt{#1}}$\n",
       "$\\newcommand{\\farcs}{{.}''}$\n",
       "$\\newcommand{\\farcm}{{.}'}$\n",
       "$\\newcommand{\\arcsec}{''}$\n",
       "$\\newcommand{\\arcmin}{'}$\n",
       "$\\newcommand{\\ion}[2]{#1#2}$\n",
       "$\\newcommand{\\textsc}[1]{\\textrm{#1}}$\n",
       "$\\newcommand{\\hl}[1]{\\textrm{#1}}$\n",
       "$\\newcommand{\\footnote}[1]{}$\n",
       "$\\newcommand{\\kms}{\\rm km s^{-1}}$\n",
       "$\\newcommand{\\ha}{H\\alpha}$\n",
       "$\\newcommand{\\hb}{H\\beta}$\n",
       "$\\newcommand{\\oiii}{[O III]}$\n",
       "$\\newcommand{\\nii}{[N II]}$\n",
       "$\\newcommand{\\oii}{[O II]}$\n",
       "$\\newcommand{\\micron}{\\rm \\mu m}$</div>\n",
       "\n",
       "\n",
       "\n",
       "<div id=\"title\">\n",
       "\n",
       "# The NIRSpec Wide GTO Survey\n",
       "\n",
       "</div>\n",
       "<div id=\"comments\">\n",
       "\n",
       "[![arXiv](https://img.shields.io/badge/arXiv-2403.05506-b31b1b.svg)](https://arxiv.org/abs/2403.05506)<mark>Appeared on: 2024-03-11</mark> -  _14 pages, 11 figures; Submitted to A&A_\n",
       "\n",
       "</div>\n",
       "<div id=\"authors\">\n",
       "\n",
       "M. V. Maseda, et al. -- incl., <mark>A. d. Graaff</mark>, <mark>H.-W. Rix</mark>, <mark>U. Dudzeviciute</mark>\n",
       "\n",
       "</div>\n",
       "<div id=\"abstract\">\n",
       "\n",
       "**Abstract:** The Near-infrared Spectrograph (NIRSpec) on the James Webb Space Telescope is uniquely suited to studying galaxies in the distant Universe with its combination of multi-object capabilities and sensitivity over a large range in wavelength ( $0.6-5.3 \\micron$ ). Here we present the NIRSpec Wide survey, part of the NIRSpec Instrument Science Team's Guaranteed Time Observations, using NIRSpec's microshutter array to obtain spectra of more than 3200 galaxies at $z>1$ at both low- and high-resolution ( $R\\approx100$ and 2700) for a total of 105 hours.  With 31 pointings covering $\\approx$ 320 arcmin $^2$ across the five CANDELS fields with exquisite ancillary photometry from the Hubble Space Telescope, the NIRSpec Wide survey represents a fast and efficient way of probing galaxies in the early Universe.  Pointing centers are determined to maximize the observability of the rarest, high-value sources. Subsequently, the microshutter configurations are optimized to observe the maximum number of \"census\" galaxies with a selection function based primarily on HST/F160W magnitude, photometric/slitless grism redshift, and predicted $\\ha$ flux tracing the bulk of the galaxy population at cosmic noon ( $z_{\\rm med}=2.0$ ).  We present details on the survey strategy, the target selection, an outline of the motivating science cases, and discuss upcoming public data releases to the community.\n",
       "\n",
       "</div>\n",
       "\n",
       "<div id=\"div_fig1\">\n",
       "\n",
       "<img src=\"tmp_2403.05506/./survey_stats.png\" alt=\"Fig1\" width=\"100%\"/>\n",
       "\n",
       "**Figure 1. -** Area covered by the NIRSpec MSA versus total number of targets observed in the survey for various Cycle 1 programs (limited to PRISM observations).  While amongst the shallowest in terms of (PRISM) exposure time, the NIRSpec \"Wide\" GTO survey covers the largest area and targets the most individual galaxies.  In addition, the Wide survey is spread over five non-contiguous fields in order to maximize the chances of observing cosmologically-rare targets. (*fig:survey*)\n",
       "\n",
       "</div>\n",
       "<div id=\"div_fig2\">\n",
       "\n",
       "<img src=\"tmp_2403.05506/./sensitivity.png\" alt=\"Fig2\" width=\"100%\"/>\n",
       "\n",
       "**Figure 2. -** Empirically-derived emission line (top) and continuum (bottom) sensitivities for the Wide survey as a function of disperser and observed wavelength.  The solid lines are the 5-$\\sigma$ sensitivities for a centered point source, while the dashed lines are the 5-$\\sigma$ sensitivities for an \"extended\" source, namely a centered object with a Sersic index $n=1$ and a half-light radius of 0$\\farcs$3 \\cite[a typical star-forming galaxy at $z\\approx$1.5;][]{Wel:2014}. (*fig:sens*)\n",
       "\n",
       "</div>\n",
       "<div id=\"div_fig3\">\n",
       "\n",
       "<img src=\"tmp_2403.05506/./zphot_zspec.png\" alt=\"Fig7\" width=\"100%\"/>\n",
       "\n",
       "**Figure 7. -** (Left) Photometric redshifts (from \\texttt{EAzY}) versus Wide spectroscopic redshifts for targets in the AEGIS field.  While many of the objects had accurate photo-$z$ estimates (70\\% have $\\Delta$z/(1+$z$) values below 0.25), there is a significant benefit to obtaining precise redshifts from spectroscopy for many of our primary science cases.  (Center and Right) Example PRISM spectra of objects with a discrepancy between $z_{\\mathrm{phot}}$ and $z_{\\mathrm{spec}}$.\n",
       " The black line shows the best-fitting \\texttt{EAzY} template at each of the redshifts, where the Wide-based spectroscopic redshifts are unequivocally correct. (*fig:zphotzspec*)\n",
       "\n",
       "</div><div id=\"qrcode\"><img src=https://api.qrserver.com/v1/create-qr-code/?size=100x100&data=\"https://arxiv.org/abs/2403.05506\"></div>"
      ],
      "text/plain": [
       "<IPython.core.display.Markdown object>"
      ]
     },
     "metadata": {},
     "output_type": "display_data"
    }
   ],
   "source": [
    "[display(Markdown(k[1])) for k in documents];"
   ]
  },
  {
   "cell_type": "markdown",
   "id": "873873a4",
   "metadata": {
    "papermill": {
     "duration": 0.004658,
     "end_time": "2024-03-11T04:09:59.032552",
     "exception": false,
     "start_time": "2024-03-11T04:09:59.027894",
     "status": "completed"
    },
    "tags": []
   },
   "source": [
    "# Create HTML index"
   ]
  },
  {
   "cell_type": "code",
   "execution_count": 9,
   "id": "cf665672",
   "metadata": {
    "execution": {
     "iopub.execute_input": "2024-03-11T04:09:59.042679Z",
     "iopub.status.busy": "2024-03-11T04:09:59.042263Z",
     "iopub.status.idle": "2024-03-11T04:09:59.051379Z",
     "shell.execute_reply": "2024-03-11T04:09:59.050859Z"
    },
    "papermill": {
     "duration": 0.015595,
     "end_time": "2024-03-11T04:09:59.052683",
     "exception": false,
     "start_time": "2024-03-11T04:09:59.037088",
     "status": "completed"
    },
    "tags": []
   },
   "outputs": [
    {
     "name": "stdout",
     "output_type": "stream",
     "text": [
      "384  publications files modified in the last 7 days.\n"
     ]
    }
   ],
   "source": [
    "from datetime import datetime, timedelta, timezone\n",
    "from glob import glob\n",
    "import os\n",
    "\n",
    "files = glob('_build/html/*.md')\n",
    "days = 7\n",
    "now = datetime.today()\n",
    "res = []\n",
    "for fk in files:\n",
    "    stat_result = os.stat(fk).st_ctime\n",
    "    modified = datetime.fromtimestamp(stat_result, tz=timezone.utc).replace(tzinfo=None)\n",
    "    delta = now.today() - modified\n",
    "    if delta <= timedelta(days=days):\n",
    "        res.append((delta.seconds, fk))\n",
    "res = [k[1] for k in reversed(sorted(res, key=lambda x:x[1]))]\n",
    "npub = len(res)\n",
    "print(len(res), f\" publications files modified in the last {days:d} days.\")\n",
    "# [ print('\\t', k) for k in res ];"
   ]
  },
  {
   "cell_type": "code",
   "execution_count": 10,
   "id": "015de740",
   "metadata": {
    "execution": {
     "iopub.execute_input": "2024-03-11T04:09:59.063071Z",
     "iopub.status.busy": "2024-03-11T04:09:59.062681Z",
     "iopub.status.idle": "2024-03-11T04:09:59.083381Z",
     "shell.execute_reply": "2024-03-11T04:09:59.082844Z"
    },
    "papermill": {
     "duration": 0.027323,
     "end_time": "2024-03-11T04:09:59.084682",
     "exception": false,
     "start_time": "2024-03-11T04:09:59.057359",
     "status": "completed"
    },
    "tags": []
   },
   "outputs": [
    {
     "name": "stdout",
     "output_type": "stream",
     "text": [
      "7  publications in the last 7 days.\n"
     ]
    }
   ],
   "source": [
    "import datetime\n",
    "from glob import glob\n",
    "\n",
    "def get_last_n_days(lst, days=1):\n",
    "    \"\"\" Get the documents from the last n days \"\"\"\n",
    "    sorted_lst = sorted(lst, key=lambda x: x[1], reverse=True)\n",
    "    for fname, date in sorted_lst:\n",
    "        if date >= str(datetime.date.today() - datetime.timedelta(days=days)):\n",
    "            yield fname\n",
    "\n",
    "def extract_appearance_dates(lst_file):\n",
    "    dates = []\n",
    "\n",
    "    def get_date(line):\n",
    "        return line\\\n",
    "            .split('Appeared on:')[-1]\\\n",
    "            .split('</mark>')[0].strip()\n",
    "\n",
    "    for fname in lst:\n",
    "        with open(fname, 'r') as f:\n",
    "            found_date = False\n",
    "            for line in f:\n",
    "                if not found_date:\n",
    "                    if \"Appeared on\" in line:\n",
    "                        found_date = True\n",
    "                        dates.append((fname, get_date(line)))\n",
    "                else:\n",
    "                    break\n",
    "    return dates\n",
    "\n",
    "from glob import glob\n",
    "lst = glob('_build/html/*md')\n",
    "days = 7\n",
    "dates = extract_appearance_dates(lst)\n",
    "res = list(get_last_n_days(dates, days))\n",
    "npub = len(res)\n",
    "print(len(res), f\" publications in the last {days:d} days.\")"
   ]
  },
  {
   "cell_type": "code",
   "execution_count": 11,
   "id": "52ca0208",
   "metadata": {
    "execution": {
     "iopub.execute_input": "2024-03-11T04:09:59.095201Z",
     "iopub.status.busy": "2024-03-11T04:09:59.094889Z",
     "iopub.status.idle": "2024-03-11T04:09:59.099826Z",
     "shell.execute_reply": "2024-03-11T04:09:59.099197Z"
    },
    "papermill": {
     "duration": 0.011742,
     "end_time": "2024-03-11T04:09:59.101242",
     "exception": false,
     "start_time": "2024-03-11T04:09:59.089500",
     "status": "completed"
    },
    "scrolled": false,
    "tags": []
   },
   "outputs": [],
   "source": [
    "def create_carousel(npub=4):\n",
    "    \"\"\" Generate the HTML code for a carousel with `npub` slides \"\"\"\n",
    "    carousel = [\"\"\"  <div class=\"carousel\" \"\"\",\n",
    "                \"\"\"       data-flickity='{ \"autoPlay\": 10000, \"adaptiveHeight\": true, \"resize\": true, \"wrapAround\": true, \"pauseAutoPlayOnHover\": true, \"groupCells\": 1 }' id=\"asyncTypeset\">\"\"\"\n",
    "                ]\n",
    "    \n",
    "    item_str = \"\"\"    <div class=\"carousel-cell\"> <div id=\"slide{k}\" class=\"md_view\">Content {k}</div> </div>\"\"\"\n",
    "    for k in range(1, npub + 1):\n",
    "        carousel.append(item_str.format(k=k))\n",
    "    carousel.append(\"  </div>\")\n",
    "    return '\\n'.join(carousel)\n",
    "\n",
    "def create_grid(npub=4):\n",
    "    \"\"\" Generate the HTML code for a flat grid with `npub` slides \"\"\"\n",
    "    grid = [\"\"\"  <div class=\"grid\"> \"\"\",\n",
    "                ]\n",
    "    \n",
    "    item_str = \"\"\"    <div class=\"grid-item\"> <div id=\"slide{k}\" class=\"md_view\">Content {k}</div> </div>\"\"\"\n",
    "    for k in range(1, npub + 1):\n",
    "        grid.append(item_str.format(k=k))\n",
    "    grid.append(\"  </div>\")\n",
    "    return '\\n'.join(grid)"
   ]
  },
  {
   "cell_type": "code",
   "execution_count": 12,
   "id": "a6eac5b6",
   "metadata": {
    "execution": {
     "iopub.execute_input": "2024-03-11T04:09:59.111972Z",
     "iopub.status.busy": "2024-03-11T04:09:59.111438Z",
     "iopub.status.idle": "2024-03-11T04:09:59.116421Z",
     "shell.execute_reply": "2024-03-11T04:09:59.115877Z"
    },
    "papermill": {
     "duration": 0.01161,
     "end_time": "2024-03-11T04:09:59.117625",
     "exception": false,
     "start_time": "2024-03-11T04:09:59.106015",
     "status": "completed"
    },
    "scrolled": false,
    "tags": []
   },
   "outputs": [],
   "source": [
    "carousel = create_carousel(npub)\n",
    "docs = ', '.join(['\"{0:s}\"'.format(k.split('/')[-1]) for k in res])\n",
    "slides = ', '.join([f'\"slide{k}\"' for k in range(1, npub + 1)])\n",
    "\n",
    "with open(\"daily_template.html\", \"r\") as tpl:\n",
    "    page = tpl.read()\n",
    "    page = page.replace(\"{%-- carousel:s --%}\", carousel)\\\n",
    "               .replace(\"{%-- suptitle:s --%}\",  \"7-day archives\" )\\\n",
    "               .replace(\"{%-- docs:s --%}\", docs)\\\n",
    "               .replace(\"{%-- slides:s --%}\", slides)\n",
    "    \n",
    "with open(\"_build/html/index_7days.html\", 'w') as fout:\n",
    "    fout.write(page)"
   ]
  },
  {
   "cell_type": "code",
   "execution_count": 13,
   "id": "adc1a1ec",
   "metadata": {
    "execution": {
     "iopub.execute_input": "2024-03-11T04:09:59.128393Z",
     "iopub.status.busy": "2024-03-11T04:09:59.127974Z",
     "iopub.status.idle": "2024-03-11T04:09:59.134519Z",
     "shell.execute_reply": "2024-03-11T04:09:59.133949Z"
    },
    "papermill": {
     "duration": 0.013307,
     "end_time": "2024-03-11T04:09:59.135847",
     "exception": false,
     "start_time": "2024-03-11T04:09:59.122540",
     "status": "completed"
    },
    "tags": []
   },
   "outputs": [
    {
     "name": "stdout",
     "output_type": "stream",
     "text": [
      "2  publications in the last day.\n"
     ]
    }
   ],
   "source": [
    "# redo for today\n",
    "days = 1\n",
    "res = list(get_last_n_days(dates, days))\n",
    "npub = len(res)\n",
    "print(len(res), f\" publications in the last day.\")\n",
    "\n",
    "carousel = create_carousel(npub)\n",
    "docs = ', '.join(['\"{0:s}\"'.format(k.split('/')[-1]) for k in res])\n",
    "slides = ', '.join([f'\"slide{k}\"' for k in range(1, npub + 1)])\n",
    "\n",
    "with open(\"daily_template.html\", \"r\") as tpl:\n",
    "    page = tpl.read()\n",
    "    page = page.replace(\"{%-- carousel:s --%}\", carousel)\\\n",
    "               .replace(\"{%-- suptitle:s --%}\",  \"Daily\" )\\\n",
    "               .replace(\"{%-- docs:s --%}\", docs)\\\n",
    "               .replace(\"{%-- slides:s --%}\", slides)\n",
    "    \n",
    "# print(carousel, docs, slides)\n",
    "# print(page)\n",
    "with open(\"_build/html/index_daily.html\", 'w') as fout:\n",
    "    fout.write(page)"
   ]
  },
  {
   "cell_type": "code",
   "execution_count": 14,
   "id": "00eece82",
   "metadata": {
    "execution": {
     "iopub.execute_input": "2024-03-11T04:09:59.146785Z",
     "iopub.status.busy": "2024-03-11T04:09:59.146363Z",
     "iopub.status.idle": "2024-03-11T04:09:59.152670Z",
     "shell.execute_reply": "2024-03-11T04:09:59.152076Z"
    },
    "papermill": {
     "duration": 0.013134,
     "end_time": "2024-03-11T04:09:59.153967",
     "exception": false,
     "start_time": "2024-03-11T04:09:59.140833",
     "status": "completed"
    },
    "scrolled": false,
    "tags": []
   },
   "outputs": [
    {
     "name": "stdout",
     "output_type": "stream",
     "text": [
      "6  6 publications selected.\n"
     ]
    }
   ],
   "source": [
    "# Create the flat grid of the last N papers (fixed number regardless of dates)\n",
    "from itertools import islice \n",
    "\n",
    "npub = 6\n",
    "res = [k[0] for k in (islice(reversed(sorted(dates, key=lambda x: x[1])), 6))]\n",
    "print(len(res), f\" {npub} publications selected.\")\n",
    "\n",
    "grid = create_grid(npub)\n",
    "docs = ', '.join(['\"{0:s}\"'.format(k.split('/')[-1]) for k in res])\n",
    "slides = ', '.join([f'\"slide{k}\"' for k in range(1, npub + 1)])\n",
    "\n",
    "with open(\"grid_template.html\", \"r\") as tpl:\n",
    "    page = tpl.read()\n",
    "    page = page.replace(\"{%-- grid-content:s --%}\", grid)\\\n",
    "               .replace(\"{%-- suptitle:s --%}\",  f\"Last {npub:,d} papers\" )\\\n",
    "               .replace(\"{%-- docs:s --%}\", docs)\\\n",
    "               .replace(\"{%-- slides:s --%}\", slides)\n",
    "    \n",
    "# print(grid, docs, slides)\n",
    "# print(page)\n",
    "with open(\"_build/html/index_npub_grid.html\", 'w') as fout:\n",
    "    fout.write(page)"
   ]
  }
 ],
 "metadata": {
  "kernelspec": {
   "display_name": "Python 3 (ipykernel)",
   "language": "python",
   "name": "python3"
  },
  "language_info": {
   "codemirror_mode": {
    "name": "ipython",
    "version": 3
   },
   "file_extension": ".py",
   "mimetype": "text/x-python",
   "name": "python",
   "nbconvert_exporter": "python",
   "pygments_lexer": "ipython3",
   "version": "3.9.18"
  },
  "papermill": {
   "default_parameters": {},
   "duration": 103.419212,
   "end_time": "2024-03-11T04:09:59.374599",
   "environment_variables": {},
   "exception": null,
   "input_path": "MPIA daily digest.ipynb",
   "output_path": "log.ipynb",
   "parameters": {},
   "start_time": "2024-03-11T04:08:15.955387",
   "version": "2.5.0"
  },
  "vscode": {
   "interpreter": {
    "hash": "aee8b7b246df8f9039afb4144a1f6fd8d2ca17a180786b69acc140d282b71a49"
   }
  },
  "widgets": {
   "application/vnd.jupyter.widget-state+json": {
    "state": {
     "09f159151f884058b886fcd25f4d880d": {
      "model_module": "@jupyter-widgets/base",
      "model_module_version": "2.0.0",
      "model_name": "LayoutModel",
      "state": {
       "_model_module": "@jupyter-widgets/base",
       "_model_module_version": "2.0.0",
       "_model_name": "LayoutModel",
       "_view_count": null,
       "_view_module": "@jupyter-widgets/base",
       "_view_module_version": "2.0.0",
       "_view_name": "LayoutView",
       "align_content": null,
       "align_items": null,
       "align_self": null,
       "border_bottom": null,
       "border_left": null,
       "border_right": null,
       "border_top": null,
       "bottom": null,
       "display": null,
       "flex": null,
       "flex_flow": null,
       "grid_area": null,
       "grid_auto_columns": null,
       "grid_auto_flow": null,
       "grid_auto_rows": null,
       "grid_column": null,
       "grid_gap": null,
       "grid_row": null,
       "grid_template_areas": null,
       "grid_template_columns": null,
       "grid_template_rows": null,
       "height": null,
       "justify_content": null,
       "justify_items": null,
       "left": null,
       "margin": null,
       "max_height": null,
       "max_width": null,
       "min_height": null,
       "min_width": null,
       "object_fit": null,
       "object_position": null,
       "order": null,
       "overflow": null,
       "padding": null,
       "right": null,
       "top": null,
       "visibility": null,
       "width": null
      }
     },
     "0c272b8138aa49e9a1e0f65eee816a7f": {
      "model_module": "@jupyter-widgets/controls",
      "model_module_version": "2.0.0",
      "model_name": "HTMLModel",
      "state": {
       "_dom_classes": [],
       "_model_module": "@jupyter-widgets/controls",
       "_model_module_version": "2.0.0",
       "_model_name": "HTMLModel",
       "_view_count": null,
       "_view_module": "@jupyter-widgets/controls",
       "_view_module_version": "2.0.0",
       "_view_name": "HTMLView",
       "description": "",
       "description_allow_html": false,
       "layout": "IPY_MODEL_790f6140421645f9896cb7f2cd17bb49",
       "placeholder": "​",
       "style": "IPY_MODEL_b52d27cc570249ceaf1b14fc34de1c15",
       "tabbable": null,
       "tooltip": null,
       "value": "100%"
      }
     },
     "16038319a0b74fb891bdec5aba891e2e": {
      "model_module": "@jupyter-widgets/controls",
      "model_module_version": "2.0.0",
      "model_name": "HTMLModel",
      "state": {
       "_dom_classes": [],
       "_model_module": "@jupyter-widgets/controls",
       "_model_module_version": "2.0.0",
       "_model_name": "HTMLModel",
       "_view_count": null,
       "_view_module": "@jupyter-widgets/controls",
       "_view_module_version": "2.0.0",
       "_view_name": "HTMLView",
       "description": "",
       "description_allow_html": false,
       "layout": "IPY_MODEL_cbac1d84170e40f284603c2cb4d94328",
       "placeholder": "​",
       "style": "IPY_MODEL_ff6906a6fcc94189b7aab4ac404164f8",
       "tabbable": null,
       "tooltip": null,
       "value": " 4/4 [01:23&lt;00:00, 18.04s/it]"
      }
     },
     "28086a9264914b8c8a548301969edb37": {
      "model_module": "@jupyter-widgets/controls",
      "model_module_version": "2.0.0",
      "model_name": "HBoxModel",
      "state": {
       "_dom_classes": [],
       "_model_module": "@jupyter-widgets/controls",
       "_model_module_version": "2.0.0",
       "_model_name": "HBoxModel",
       "_view_count": null,
       "_view_module": "@jupyter-widgets/controls",
       "_view_module_version": "2.0.0",
       "_view_name": "HBoxView",
       "box_style": "",
       "children": [
        "IPY_MODEL_0c272b8138aa49e9a1e0f65eee816a7f",
        "IPY_MODEL_b788d40baeb843a8af4698dc7951a3be",
        "IPY_MODEL_16038319a0b74fb891bdec5aba891e2e"
       ],
       "layout": "IPY_MODEL_09f159151f884058b886fcd25f4d880d",
       "tabbable": null,
       "tooltip": null
      }
     },
     "790f6140421645f9896cb7f2cd17bb49": {
      "model_module": "@jupyter-widgets/base",
      "model_module_version": "2.0.0",
      "model_name": "LayoutModel",
      "state": {
       "_model_module": "@jupyter-widgets/base",
       "_model_module_version": "2.0.0",
       "_model_name": "LayoutModel",
       "_view_count": null,
       "_view_module": "@jupyter-widgets/base",
       "_view_module_version": "2.0.0",
       "_view_name": "LayoutView",
       "align_content": null,
       "align_items": null,
       "align_self": null,
       "border_bottom": null,
       "border_left": null,
       "border_right": null,
       "border_top": null,
       "bottom": null,
       "display": null,
       "flex": null,
       "flex_flow": null,
       "grid_area": null,
       "grid_auto_columns": null,
       "grid_auto_flow": null,
       "grid_auto_rows": null,
       "grid_column": null,
       "grid_gap": null,
       "grid_row": null,
       "grid_template_areas": null,
       "grid_template_columns": null,
       "grid_template_rows": null,
       "height": null,
       "justify_content": null,
       "justify_items": null,
       "left": null,
       "margin": null,
       "max_height": null,
       "max_width": null,
       "min_height": null,
       "min_width": null,
       "object_fit": null,
       "object_position": null,
       "order": null,
       "overflow": null,
       "padding": null,
       "right": null,
       "top": null,
       "visibility": null,
       "width": null
      }
     },
     "7fc33122ff0b44b39a9d7a998545266b": {
      "model_module": "@jupyter-widgets/controls",
      "model_module_version": "2.0.0",
      "model_name": "ProgressStyleModel",
      "state": {
       "_model_module": "@jupyter-widgets/controls",
       "_model_module_version": "2.0.0",
       "_model_name": "ProgressStyleModel",
       "_view_count": null,
       "_view_module": "@jupyter-widgets/base",
       "_view_module_version": "2.0.0",
       "_view_name": "StyleView",
       "bar_color": null,
       "description_width": ""
      }
     },
     "9c4c071e5e054c76958c315a4d341dab": {
      "model_module": "@jupyter-widgets/base",
      "model_module_version": "2.0.0",
      "model_name": "LayoutModel",
      "state": {
       "_model_module": "@jupyter-widgets/base",
       "_model_module_version": "2.0.0",
       "_model_name": "LayoutModel",
       "_view_count": null,
       "_view_module": "@jupyter-widgets/base",
       "_view_module_version": "2.0.0",
       "_view_name": "LayoutView",
       "align_content": null,
       "align_items": null,
       "align_self": null,
       "border_bottom": null,
       "border_left": null,
       "border_right": null,
       "border_top": null,
       "bottom": null,
       "display": null,
       "flex": null,
       "flex_flow": null,
       "grid_area": null,
       "grid_auto_columns": null,
       "grid_auto_flow": null,
       "grid_auto_rows": null,
       "grid_column": null,
       "grid_gap": null,
       "grid_row": null,
       "grid_template_areas": null,
       "grid_template_columns": null,
       "grid_template_rows": null,
       "height": null,
       "justify_content": null,
       "justify_items": null,
       "left": null,
       "margin": null,
       "max_height": null,
       "max_width": null,
       "min_height": null,
       "min_width": null,
       "object_fit": null,
       "object_position": null,
       "order": null,
       "overflow": null,
       "padding": null,
       "right": null,
       "top": null,
       "visibility": null,
       "width": null
      }
     },
     "b52d27cc570249ceaf1b14fc34de1c15": {
      "model_module": "@jupyter-widgets/controls",
      "model_module_version": "2.0.0",
      "model_name": "HTMLStyleModel",
      "state": {
       "_model_module": "@jupyter-widgets/controls",
       "_model_module_version": "2.0.0",
       "_model_name": "HTMLStyleModel",
       "_view_count": null,
       "_view_module": "@jupyter-widgets/base",
       "_view_module_version": "2.0.0",
       "_view_name": "StyleView",
       "background": null,
       "description_width": "",
       "font_size": null,
       "text_color": null
      }
     },
     "b788d40baeb843a8af4698dc7951a3be": {
      "model_module": "@jupyter-widgets/controls",
      "model_module_version": "2.0.0",
      "model_name": "FloatProgressModel",
      "state": {
       "_dom_classes": [],
       "_model_module": "@jupyter-widgets/controls",
       "_model_module_version": "2.0.0",
       "_model_name": "FloatProgressModel",
       "_view_count": null,
       "_view_module": "@jupyter-widgets/controls",
       "_view_module_version": "2.0.0",
       "_view_name": "ProgressView",
       "bar_style": "success",
       "description": "",
       "description_allow_html": false,
       "layout": "IPY_MODEL_9c4c071e5e054c76958c315a4d341dab",
       "max": 4.0,
       "min": 0.0,
       "orientation": "horizontal",
       "style": "IPY_MODEL_7fc33122ff0b44b39a9d7a998545266b",
       "tabbable": null,
       "tooltip": null,
       "value": 4.0
      }
     },
     "cbac1d84170e40f284603c2cb4d94328": {
      "model_module": "@jupyter-widgets/base",
      "model_module_version": "2.0.0",
      "model_name": "LayoutModel",
      "state": {
       "_model_module": "@jupyter-widgets/base",
       "_model_module_version": "2.0.0",
       "_model_name": "LayoutModel",
       "_view_count": null,
       "_view_module": "@jupyter-widgets/base",
       "_view_module_version": "2.0.0",
       "_view_name": "LayoutView",
       "align_content": null,
       "align_items": null,
       "align_self": null,
       "border_bottom": null,
       "border_left": null,
       "border_right": null,
       "border_top": null,
       "bottom": null,
       "display": null,
       "flex": null,
       "flex_flow": null,
       "grid_area": null,
       "grid_auto_columns": null,
       "grid_auto_flow": null,
       "grid_auto_rows": null,
       "grid_column": null,
       "grid_gap": null,
       "grid_row": null,
       "grid_template_areas": null,
       "grid_template_columns": null,
       "grid_template_rows": null,
       "height": null,
       "justify_content": null,
       "justify_items": null,
       "left": null,
       "margin": null,
       "max_height": null,
       "max_width": null,
       "min_height": null,
       "min_width": null,
       "object_fit": null,
       "object_position": null,
       "order": null,
       "overflow": null,
       "padding": null,
       "right": null,
       "top": null,
       "visibility": null,
       "width": null
      }
     },
     "ff6906a6fcc94189b7aab4ac404164f8": {
      "model_module": "@jupyter-widgets/controls",
      "model_module_version": "2.0.0",
      "model_name": "HTMLStyleModel",
      "state": {
       "_model_module": "@jupyter-widgets/controls",
       "_model_module_version": "2.0.0",
       "_model_name": "HTMLStyleModel",
       "_view_count": null,
       "_view_module": "@jupyter-widgets/base",
       "_view_module_version": "2.0.0",
       "_view_name": "StyleView",
       "background": null,
       "description_width": "",
       "font_size": null,
       "text_color": null
      }
     }
    },
    "version_major": 2,
    "version_minor": 0
   }
  }
 },
 "nbformat": 4,
 "nbformat_minor": 5
}