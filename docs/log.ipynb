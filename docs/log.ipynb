{
 "cells": [
  {
   "cell_type": "markdown",
   "id": "92bcb855",
   "metadata": {
    "papermill": {
     "duration": 0.005241,
     "end_time": "2023-09-01T04:05:46.916919",
     "exception": false,
     "start_time": "2023-09-01T04:05:46.911678",
     "status": "completed"
    },
    "tags": []
   },
   "source": [
    "# MPIA Arxiv on Deck 2\n",
    "\n",
    "Contains the steps to produce the paper extractions."
   ]
  },
  {
   "cell_type": "code",
   "execution_count": 1,
   "id": "3a0d6e11",
   "metadata": {
    "execution": {
     "iopub.execute_input": "2023-09-01T04:05:46.927826Z",
     "iopub.status.busy": "2023-09-01T04:05:46.927128Z",
     "iopub.status.idle": "2023-09-01T04:05:47.225418Z",
     "shell.execute_reply": "2023-09-01T04:05:47.224453Z"
    },
    "papermill": {
     "duration": 0.306358,
     "end_time": "2023-09-01T04:05:47.227817",
     "exception": false,
     "start_time": "2023-09-01T04:05:46.921459",
     "status": "completed"
    },
    "tags": []
   },
   "outputs": [],
   "source": [
    "# Imports\n",
    "import os\n",
    "from IPython.display import Markdown, display\n",
    "from tqdm.notebook import tqdm\n",
    "import warnings\n",
    "from PIL import Image \n",
    "\n",
    "# requires arxiv_on_deck_2\n",
    "\n",
    "from arxiv_on_deck_2.arxiv2 import (get_new_papers, \n",
    "                                    get_paper_from_identifier,\n",
    "                                    retrieve_document_source, \n",
    "                                    get_markdown_badge)\n",
    "from arxiv_on_deck_2 import (latex,\n",
    "                             latex_bib,\n",
    "                             mpia,\n",
    "                             highlight_authors_in_list)\n",
    "\n",
    "# Sometimes images are really big\n",
    "Image.MAX_IMAGE_PIXELS = 1000000000 "
   ]
  },
  {
   "cell_type": "code",
   "execution_count": 2,
   "id": "22aa9d44",
   "metadata": {
    "execution": {
     "iopub.execute_input": "2023-09-01T04:05:47.239128Z",
     "iopub.status.busy": "2023-09-01T04:05:47.238782Z",
     "iopub.status.idle": "2023-09-01T04:05:47.247061Z",
     "shell.execute_reply": "2023-09-01T04:05:47.246206Z"
    },
    "papermill": {
     "duration": 0.016805,
     "end_time": "2023-09-01T04:05:47.249306",
     "exception": false,
     "start_time": "2023-09-01T04:05:47.232501",
     "status": "completed"
    },
    "tags": []
   },
   "outputs": [],
   "source": [
    "# Some useful definitions.\n",
    "\n",
    "class AffiliationWarning(UserWarning):\n",
    "    pass\n",
    "\n",
    "class AffiliationError(RuntimeError):\n",
    "    pass\n",
    "\n",
    "def validation(source: str):\n",
    "    \"\"\"Raises error paper during parsing of source file\n",
    "    \n",
    "    Allows checks before parsing TeX code.\n",
    "    \n",
    "    Raises AffiliationWarning\n",
    "    \"\"\"\n",
    "    check = mpia.affiliation_verifications(source, verbose=True)\n",
    "    if check is not True:\n",
    "        raise AffiliationError(\"mpia.affiliation_verifications: \" + check)\n",
    "\n",
    "        \n",
    "warnings.simplefilter('always', AffiliationWarning)\n",
    "\n",
    "\n",
    "def get_markdown_qrcode(paper_id: str):\n",
    "    \"\"\" Generate a qrcode to the arxiv page using qrserver.com\n",
    "    \n",
    "    :param paper: Arxiv paper\n",
    "    :returns: markdown text\n",
    "    \"\"\"\n",
    "    url = r\"https://api.qrserver.com/v1/create-qr-code/?size=100x100&data=\"\n",
    "    txt = f\"\"\"<img src={url}\"https://arxiv.org/abs/{paper_id}\">\"\"\"\n",
    "    txt = '<div id=\"qrcode\">' + txt + '</div>'\n",
    "    return txt"
   ]
  },
  {
   "cell_type": "markdown",
   "id": "14bd6310",
   "metadata": {
    "papermill": {
     "duration": 0.003997,
     "end_time": "2023-09-01T04:05:47.257819",
     "exception": false,
     "start_time": "2023-09-01T04:05:47.253822",
     "status": "completed"
    },
    "tags": []
   },
   "source": [
    "## get list of arxiv paper candidates\n",
    "\n",
    "We use the MPIA mitarbeiter list webpage from mpia.de to get author names\n",
    "We then get all new papers from Arxiv and match authors"
   ]
  },
  {
   "cell_type": "code",
   "execution_count": 3,
   "id": "2645e73a",
   "metadata": {
    "execution": {
     "iopub.execute_input": "2023-09-01T04:05:47.270094Z",
     "iopub.status.busy": "2023-09-01T04:05:47.269698Z",
     "iopub.status.idle": "2023-09-01T04:06:15.308941Z",
     "shell.execute_reply": "2023-09-01T04:06:15.307537Z"
    },
    "papermill": {
     "duration": 28.046499,
     "end_time": "2023-09-01T04:06:15.310573",
     "exception": false,
     "start_time": "2023-09-01T04:05:47.264074",
     "status": "completed"
    },
    "tags": []
   },
   "outputs": [
    {
     "name": "stdout",
     "output_type": "stream",
     "text": [
      "S. Ghosh  ->  S. Ghosh  |  ['S. Ghosh']\n"
     ]
    },
    {
     "name": "stdout",
     "output_type": "stream",
     "text": [
      "F. Walter  ->  F. Walter  |  ['F. Walter']\n",
      "S. Bosman  ->  S. Bosman  |  ['S. Bosman']\n",
      "Arxiv has 57 new papers today\n",
      "          2 with possible author matches\n"
     ]
    }
   ],
   "source": [
    "# get list from MPIA website\n",
    "# it automatically filters identified non-scientists :func:`mpia.filter_non_scientists`\n",
    "mpia_authors = mpia.get_mpia_mitarbeiter_list()\n",
    "normed_mpia_authors = [k[1] for k in mpia_authors]   # initials + fullname\n",
    "new_papers = get_new_papers()\n",
    "# add manual references\n",
    "add_paper_refs = []\n",
    "new_papers.extend([get_paper_from_identifier(k) for k in add_paper_refs])\n",
    "\n",
    "candidates = []\n",
    "for paperk in new_papers:\n",
    "    # Check author list with their initials\n",
    "    normed_author_list = [mpia.get_initials(k) for k in paperk['authors']]\n",
    "    hl_authors = highlight_authors_in_list(normed_author_list, normed_mpia_authors, verbose=True)\n",
    "    matches = [(hl, orig) for hl, orig in zip(hl_authors, paperk['authors']) if 'mark' in hl]\n",
    "    paperk['authors'] = hl_authors\n",
    "    if matches:\n",
    "        # only select paper if an author matched our list\n",
    "        candidates.append(paperk)\n",
    "print(\"\"\"Arxiv has {0:,d} new papers today\"\"\".format(len(new_papers)))        \n",
    "print(\"\"\"          {0:,d} with possible author matches\"\"\".format(len(candidates)))"
   ]
  },
  {
   "cell_type": "markdown",
   "id": "3543b34a",
   "metadata": {
    "papermill": {
     "duration": 0.003889,
     "end_time": "2023-09-01T04:06:15.318394",
     "exception": false,
     "start_time": "2023-09-01T04:06:15.314505",
     "status": "completed"
    },
    "tags": []
   },
   "source": [
    "# Parse sources and generate relevant outputs\n",
    "\n",
    "From the candidates, we do the following steps:\n",
    "* get their tarball from ArXiv (and extract data)\n",
    "* find the main .tex file: find one with \\documentclass{...} (sometimes it's non trivial)\n",
    "* Check affiliations with :func:`validation`, which uses :func:`mpia.affiliation_verifications`\n",
    "* If passing the affiliations: we parse the .tex source\n",
    "   * inject sub-documents into the main (flatten the main document)\n",
    "   * parse structure, extract information (title, abstract, authors, figures...)\n",
    "   * handles `\\graphicspath` if provided\n",
    "* Generate the .md document."
   ]
  },
  {
   "cell_type": "code",
   "execution_count": 4,
   "id": "9576b79e",
   "metadata": {
    "execution": {
     "iopub.execute_input": "2023-09-01T04:06:15.327885Z",
     "iopub.status.busy": "2023-09-01T04:06:15.327473Z",
     "iopub.status.idle": "2023-09-01T04:07:13.126431Z",
     "shell.execute_reply": "2023-09-01T04:07:13.125171Z"
    },
    "papermill": {
     "duration": 57.80797,
     "end_time": "2023-09-01T04:07:13.130115",
     "exception": false,
     "start_time": "2023-09-01T04:06:15.322145",
     "status": "completed"
    },
    "scrolled": false,
    "tags": []
   },
   "outputs": [
    {
     "data": {
      "application/vnd.jupyter.widget-view+json": {
       "model_id": "8e7e7528dfef4b329e2065512a5681b6",
       "version_major": 2,
       "version_minor": 0
      },
      "text/plain": [
       "  0%|          | 0/2 [00:00<?, ?it/s]"
      ]
     },
     "metadata": {},
     "output_type": "display_data"
    },
    {
     "name": "stdout",
     "output_type": "stream",
     "text": [
      "Retrieving document from  https://arxiv.org/e-print/2308.16239\n"
     ]
    },
    {
     "name": "stdout",
     "output_type": "stream",
     "text": [
      "extracting tarball to tmp_2308.16239..."
     ]
    },
    {
     "name": "stdout",
     "output_type": "stream",
     "text": [
      " done.\n"
     ]
    },
    {
     "name": "stderr",
     "output_type": "stream",
     "text": [
      "/opt/hostedtoolcache/Python/3.9.17/x64/lib/python3.9/site-packages/arxiv_on_deck_2/latex.py:473: LatexWarning: Error parsing the document directly. Trying to recover.\n",
      "  warnings.warn(LatexWarning(f\"Error parsing the document directly. Trying to recover.\"))\n"
     ]
    },
    {
     "name": "stdout",
     "output_type": "stream",
     "text": [
      "✘ → 0:header\n",
      "  ↳ 4320:\\section{Introduction}\n"
     ]
    },
    {
     "name": "stdout",
     "output_type": "stream",
     "text": [
      "✔ → 4320:\\section{Introduction}\n",
      "  ↳ 12221:\\section{Simulation set-up \\& $N$-body models}\n"
     ]
    },
    {
     "name": "stdout",
     "output_type": "stream",
     "text": [
      "✔ → 12221:\\section{Simulation set-up \\& $N$-body models}\n",
      "  ↳ 18782:\\section{Boxy/peanut formation \\& evolution for different mass fraction of thick disc population}\n"
     ]
    },
    {
     "name": "stdout",
     "output_type": "stream",
     "text": [
      "✔ → 18782:\\section{Boxy/peanut formation \\& evolution for different mass fraction of thick disc population}\n",
      "  ↳ 46597:\\section{Kinematic signatures of buckling and its connection with b/p formation}\n"
     ]
    },
    {
     "name": "stdout",
     "output_type": "stream",
     "text": [
      "✘ → 46597:\\section{Kinematic signatures of buckling and its connection with b/p formation}\n",
      "  ↳ 54756:\\section{X-shape of the b/p and relative contribution of thin disc}\n"
     ]
    },
    {
     "name": "stdout",
     "output_type": "stream",
     "text": [
      "✔ → 54756:\\section{X-shape of the b/p and relative contribution of thin disc}\n",
      "  ↳ 60880:\\section{Discussion}\n",
      "✔ → 60880:\\section{Discussion}\n",
      "  ↳ 64919:\\section{Summary}\n"
     ]
    },
    {
     "name": "stdout",
     "output_type": "stream",
     "text": [
      "✔ → 64919:\\section{Summary}\n",
      "  ↳ 69328:\\begin{appendix}\n",
      "✔ → 69328:\\begin{appendix}\n",
      "  ↳ 69345:\\section{b/p strength from the Fourier decomposition}\n"
     ]
    },
    {
     "name": "stdout",
     "output_type": "stream",
     "text": [
      "✔ → 69345:\\section{b/p strength from the Fourier decomposition}\n",
      "  ↳ 71407:\\section{b/p length from the LOS surface density profile}\n",
      "✔ → 71407:\\section{b/p length from the LOS surface density profile}\n",
      "  ↳ 73562:\\section{Vertical-to-radial velocity dispersion profile}\n"
     ]
    },
    {
     "name": "stdout",
     "output_type": "stream",
     "text": [
      "✔ → 73562:\\section{Vertical-to-radial velocity dispersion profile}\n",
      "  ↳ 76737:end\n"
     ]
    },
    {
     "name": "stderr",
     "output_type": "stream",
     "text": [
      "/tmp/ipykernel_2193/3009462391.py:49: LatexWarning: 2308.16239 did not run properly\n",
      "list index out of range\n",
      "  warnings.warn(latex.LatexWarning(f\"{paper_id:s} did not run properly\\n\" +\n"
     ]
    },
    {
     "name": "stdout",
     "output_type": "stream",
     "text": [
      "Retrieving document from  https://arxiv.org/e-print/2308.16895\n"
     ]
    },
    {
     "name": "stdout",
     "output_type": "stream",
     "text": [
      "extracting tarball to tmp_2308.16895..."
     ]
    },
    {
     "name": "stdout",
     "output_type": "stream",
     "text": [
      " done.\n"
     ]
    },
    {
     "name": "stderr",
     "output_type": "stream",
     "text": [
      "/opt/hostedtoolcache/Python/3.9.17/x64/lib/python3.9/site-packages/IPython/core/interactiveshell.py:3508: LatexWarning: Multiple tex files.\n",
      "\n",
      "  exec(code_obj, self.user_global_ns, self.user_ns)\n",
      "/opt/hostedtoolcache/Python/3.9.17/x64/lib/python3.9/site-packages/IPython/core/interactiveshell.py:3508: LatexWarning: Found documentclass in tmp_2308.16895/boogaard-miri-hudf-alma.tex\n",
      "\n",
      "  exec(code_obj, self.user_global_ns, self.user_ns)\n",
      "/opt/hostedtoolcache/Python/3.9.17/x64/lib/python3.9/site-packages/arxiv_on_deck_2/latex.py:399: LatexWarning: Latex injecting: 'sources-final.tex' from 'tmp_2308.16895/sources-final.tex'\n",
      "  warnings.warn(LatexWarning(f\"Latex injecting: '{ext}' from '{subsource}'\"))\n"
     ]
    },
    {
     "name": "stdout",
     "output_type": "stream",
     "text": [
      "F. Walter  ->  F. Walter  |  ['F. Walter']\n",
      "S. Bosman  ->  S. Bosman  |  ['S. Bosman']\n"
     ]
    },
    {
     "name": "stdout",
     "output_type": "stream",
     "text": [
      "Found 80 bibliographic references in tmp_2308.16895/boogaard-miri-hudf-alma.bbl.\n"
     ]
    }
   ],
   "source": [
    "documents = []\n",
    "failed = []\n",
    "for paper in tqdm(candidates):\n",
    "    paper_id = paper['identifier'].lower().replace('arxiv:', '')\n",
    "    \n",
    "    folder = f'tmp_{paper_id}'\n",
    "\n",
    "    try:\n",
    "        if not os.path.isdir(folder):\n",
    "            folder = retrieve_document_source(f\"{paper_id}\", f'tmp_{paper_id}')\n",
    "        \n",
    "        try:\n",
    "            doc = latex.LatexDocument(folder, validation=validation)    \n",
    "        except AffiliationError as affilerror:\n",
    "            msg = f\"ArXiv:{paper_id:s} is not an MPIA paper... \" + str(affilerror)\n",
    "            failed.append((paper, \"affiliation error: \" + str(affilerror) ))\n",
    "            continue\n",
    "        \n",
    "        # Hack because sometimes author parsing does not work well\n",
    "        if (len(doc.authors) != len(paper['authors'])):\n",
    "            doc._authors = paper['authors']\n",
    "        else:\n",
    "            # highlight authors (FIXME: doc.highlight_authors)\n",
    "            # done on arxiv paper already\n",
    "            doc._authors = highlight_authors_in_list(\n",
    "                [mpia.get_initials(k) for k in doc.authors], \n",
    "                normed_mpia_authors, verbose=True)\n",
    "        if (doc.abstract) in (None, ''):\n",
    "            doc._abstract = paper['abstract']\n",
    "            \n",
    "        doc.comment = (get_markdown_badge(paper_id) + \n",
    "                       \"<mark>Appeared on: \" + paper['date'] + \"</mark> - \")\n",
    "        if paper['comments']:\n",
    "            doc.comment += \" _\" + paper['comments'] + \"_\"\n",
    "        \n",
    "        full_md = doc.generate_markdown_text()\n",
    "        \n",
    "        full_md += get_markdown_qrcode(paper_id)\n",
    "        \n",
    "        # replace citations\n",
    "        try:\n",
    "            bibdata = latex_bib.LatexBib.from_doc(doc)\n",
    "            full_md = latex_bib.replace_citations(full_md, bibdata)\n",
    "        except Exception as e:\n",
    "            print(e)\n",
    "        \n",
    "        documents.append((paper_id, full_md))\n",
    "    except Exception as e:\n",
    "        warnings.warn(latex.LatexWarning(f\"{paper_id:s} did not run properly\\n\" +\n",
    "                                         str(e)\n",
    "                                        ))\n",
    "        failed.append((paper, \"latex error \" + str(e)))"
   ]
  },
  {
   "cell_type": "markdown",
   "id": "2505a25c",
   "metadata": {
    "papermill": {
     "duration": 0.006445,
     "end_time": "2023-09-01T04:07:13.143705",
     "exception": false,
     "start_time": "2023-09-01T04:07:13.137260",
     "status": "completed"
    },
    "tags": []
   },
   "source": [
    "### Export the logs\n",
    "\n",
    "Throughout, we also keep track of the logs per paper. see `logs-{today date}.md` "
   ]
  },
  {
   "cell_type": "code",
   "execution_count": 5,
   "id": "d733828a",
   "metadata": {
    "execution": {
     "iopub.execute_input": "2023-09-01T04:07:13.159000Z",
     "iopub.status.busy": "2023-09-01T04:07:13.158617Z",
     "iopub.status.idle": "2023-09-01T04:07:13.184718Z",
     "shell.execute_reply": "2023-09-01T04:07:13.183838Z"
    },
    "papermill": {
     "duration": 0.036846,
     "end_time": "2023-09-01T04:07:13.187534",
     "exception": false,
     "start_time": "2023-09-01T04:07:13.150688",
     "status": "completed"
    },
    "scrolled": false,
    "tags": []
   },
   "outputs": [
    {
     "data": {
      "text/markdown": [
       "## Successful papers"
      ],
      "text/plain": [
       "<IPython.core.display.Markdown object>"
      ]
     },
     "metadata": {},
     "output_type": "display_data"
    },
    {
     "data": {
      "text/markdown": [
       "\n",
       "|||\n",
       "|---:|:---|\n",
       "| [![arXiv](https://img.shields.io/badge/arXiv-arXiv:2308.16895-b31b1b.svg)](https://arxiv.org/abs/arXiv:2308.16895) | **MIDIS: JWST/MIRI reveals the Stellar Structure of ALMA-selected Galaxies  in the Hubble-UDF at Cosmic Noon**  |\n",
       "|| L. A. Boogaard, et al. -- incl., <mark>F. Walter</mark>, <mark>S. Bosman</mark> |\n",
       "|*Appeared on*| *2023-09-01*|\n",
       "|*Comments*| *19 pages, 10 figures, 1 table, submitted to ApJ*|\n",
       "|**Abstract**| We present deep James Webb Space Telescope (JWST)/MIRI F560W observations of a flux-limited, ALMA-selected sample of 28 galaxies at z=0.5-3.6 in the Hubble Ultra Deep Field (HUDF). The data from the MIRI Deep Imaging Survey (MIDIS) reveal the stellar structure of the HUDF galaxies at rest-wavelengths of >1 micron for the first time. We revise the stellar mass estimates using new JWST photometry and find good agreement with pre-JWST analysis; the few discrepancies can be explained by blending issues in the earlier lower-resolution Spitzer data. At z~2.5, the resolved rest-frame near-infrared (1.6 micron) structure of the galaxies is significantly more smooth and centrally concentrated than seen by HST at rest-frame 450 nm (F160W), with effective radii of Re(F560W)=1-5 kpc and S\\'ersic indices mostly close to an exponential (disk-like) profile (n~1), up to n~5 (excluding AGN). We find an average size ratio of Re(F560W)/Re(F160W)~0.7 that decreases with stellar mass. The stellar structure of the ALMA-selected galaxies is indistinguishable from a HUDF reference sample of galaxies with comparable MIRI flux density. We supplement our analysis with custom-made, position-dependent, empirical PSF models for the F560W observations. The results imply that an older and smoother stellar structure is in place in massive gas-rich, star-forming galaxies at Cosmic Noon, despite a more clumpy rest-frame optical appearance, placing additional constraints on galaxy formation simulations. As a next step, matched-resolution, resolved ALMA observations will be crucial to further link the mass- and light-weighted galaxy structures to the dusty interstellar medium. |"
      ],
      "text/plain": [
       "[arXiv:2308.16895] MIDIS: JWST/MIRI reveals the Stellar Structure of ALMA-selected Galaxies  in the Hubble-UDF at Cosmic Noon\n",
       "\tL. A. Boogaard, et al. -- incl., <mark>F. Walter</mark>, <mark>S. Bosman</mark>"
      ]
     },
     "metadata": {},
     "output_type": "display_data"
    },
    {
     "data": {
      "text/markdown": [
       "## Failed papers"
      ],
      "text/plain": [
       "<IPython.core.display.Markdown object>"
      ]
     },
     "metadata": {},
     "output_type": "display_data"
    },
    {
     "data": {
      "text/markdown": [
       "\n",
       "|||\n",
       "|---:|:---|\n",
       "| [![arXiv](https://img.shields.io/badge/arXiv-arXiv:2308.16239-b31b1b.svg)](https://arxiv.org/abs/arXiv:2308.16239) | **Bars and boxy/peanut bulges in thin and thick discs III. Boxy/peanut  bulge formation and evolution in presence of thick discs**  |\n",
       "|| <mark>S. Ghosh</mark>, F. Fragkoudi, P. D. Matteo, K. Saha |\n",
       "|*Appeared on*| *2023-09-01*|\n",
       "|*Comments*| *18 pages, 1 table, 17 figures (including appendix), comments are welcome!*|\n",
       "|**Abstract**| Boxy/peanut (b/p) bulges, the vertically extended inner part of a bar, are ubiquitous in barred disc galaxies in the local Universe, including our own Milky Way. A majority of external galaxies and the Milky Way also possess a thick-disc. However, the dynamical effect of thick-discs in the b/p formation and evolution is not fully understood. Here, we investigate the effect of thick-discs in the formation and evolution of b/p by using a suite of $N$-body models of (kinematically cold) thin and (kinematically hot) thick discs. Within the suite of models, we systematically vary the mass fraction of the thick disc, and the thin-to-thick disc scale length ratio. This allows one to examine the b/p formation in discs with different ratios of cold and hot disc components. The b/ps form in almost all our models via a vertical buckling instability, even in the presence of a massive thick disc. The thin disc b/p is much stronger than the thick disc b/p. With increasing thick disc mass fraction, the final b/p structure gets progressively weaker in strength and larger in extent. Furthermore, the time-interval between the bar formation and the onset of buckling instability gets progressively shorter with increasing thick-disc mass fraction. These trends remain true for all three geometric configurations considered here. The breaking and restoration of the vertical symmetry (during and after the b/p formation) show a spatial variation -- the inner bar region restores vertical symmetry rather quickly (after the buckling) while in the outer bar region, the vertical asymmetry persists long after the buckling happens. Our findings also predict that at higher redshifts, when discs are thought to be thicker, b/ps would have more `boxy-shaped' appearance than more `X-shaped' appearance. This remains to be tested from future observations at higher redshifts. |\n",
       "|<p style=\"color:red\"> **ERROR** </p>| <p style=\"color:red\">latex error list index out of range</p> |"
      ],
      "text/plain": [
       "<IPython.core.display.Markdown object>"
      ]
     },
     "metadata": {},
     "output_type": "display_data"
    }
   ],
   "source": [
    "import datetime\n",
    "today = str(datetime.date.today())\n",
    "logfile = f\"_build/html/logs/log-{today}.md\"\n",
    "\n",
    "\n",
    "with open(logfile, 'w') as logs:\n",
    "    # Success\n",
    "    logs.write(f'# Arxiv on Deck 2: Logs - {today}\\n\\n')\n",
    "    logs.write(\"\"\"* Arxiv had {0:,d} new papers\\n\"\"\".format(len(new_papers)))\n",
    "    logs.write(\"\"\"    * {0:,d} with possible author matches\\n\\n\"\"\".format(len(candidates)))\n",
    "    logs.write(\"## Sucessful papers\\n\\n\")\n",
    "    display(Markdown(\"## Successful papers\"))\n",
    "    success = [k[0] for k in documents]\n",
    "    for candid in candidates:\n",
    "        if candid['identifier'].split(':')[-1] in success:\n",
    "            display(candid)\n",
    "            logs.write(candid.generate_markdown_text() + '\\n\\n')\n",
    "\n",
    "    ## failed\n",
    "    logs.write(\"## Failed papers\\n\\n\")\n",
    "    display(Markdown(\"## Failed papers\"))\n",
    "    failed = sorted(failed, key=lambda x: x[1])\n",
    "    current_reason = \"\"\n",
    "    for paper, reason in failed:\n",
    "        if 'affiliation' in reason:\n",
    "            color = 'green'\n",
    "        else:\n",
    "            color = 'red'\n",
    "        data = Markdown(\n",
    "                paper.generate_markdown_text() + \n",
    "                f'\\n|<p style=\"color:{color:s}\"> **ERROR** </p>| <p style=\"color:{color:s}\">{reason:s}</p> |'\n",
    "               )\n",
    "        if reason != current_reason:\n",
    "            logs.write(f'### {reason:s} \\n\\n')\n",
    "            current_reason = reason\n",
    "        logs.write(data.data + '\\n\\n')\n",
    "        \n",
    "        # only display here the important errors (all in logs)\n",
    "        # if color in ('red',):\n",
    "        display(data)"
   ]
  },
  {
   "cell_type": "markdown",
   "id": "472d20ee",
   "metadata": {
    "papermill": {
     "duration": 0.006523,
     "end_time": "2023-09-01T04:07:13.201139",
     "exception": false,
     "start_time": "2023-09-01T04:07:13.194616",
     "status": "completed"
    },
    "tags": []
   },
   "source": [
    "## Export documents\n",
    "\n",
    "We now write the .md files and export relevant images"
   ]
  },
  {
   "cell_type": "code",
   "execution_count": 6,
   "id": "d426aed9",
   "metadata": {
    "execution": {
     "iopub.execute_input": "2023-09-01T04:07:13.216242Z",
     "iopub.status.busy": "2023-09-01T04:07:13.215379Z",
     "iopub.status.idle": "2023-09-01T04:07:13.225383Z",
     "shell.execute_reply": "2023-09-01T04:07:13.224568Z"
    },
    "papermill": {
     "duration": 0.020014,
     "end_time": "2023-09-01T04:07:13.227725",
     "exception": false,
     "start_time": "2023-09-01T04:07:13.207711",
     "status": "completed"
    },
    "tags": []
   },
   "outputs": [],
   "source": [
    "def export_markdown_summary(md: str, md_fname:str, directory: str):\n",
    "    \"\"\"Export MD document and associated relevant images\"\"\"\n",
    "    import os\n",
    "    import shutil\n",
    "    import re\n",
    "\n",
    "    if (os.path.exists(directory) and not os.path.isdir(directory)):\n",
    "        raise RuntimeError(f\"a non-directory file exists with name {directory:s}\")\n",
    "\n",
    "    if (not os.path.exists(directory)):\n",
    "        print(f\"creating directory {directory:s}\")\n",
    "        os.mkdir(directory)\n",
    "\n",
    "    fig_fnames = (re.compile(r'\\[Fig.*\\]\\((.*)\\)').findall(md) + \n",
    "                  re.compile(r'\\<img src=\"([^>\\s]*)\"[^>]*/>').findall(md))\n",
    "    for fname in fig_fnames:\n",
    "        if 'http' in fname:\n",
    "            # No need to copy online figures\n",
    "            continue\n",
    "        destdir = os.path.join(directory, os.path.dirname(fname))\n",
    "        destfname = os.path.join(destdir, os.path.basename(fname))\n",
    "        try:\n",
    "            os.makedirs(destdir)\n",
    "        except FileExistsError:\n",
    "            pass\n",
    "        shutil.copy(fname, destfname)\n",
    "    with open(os.path.join(directory, md_fname), 'w') as fout:\n",
    "        fout.write(md)\n",
    "    print(\"exported in \", os.path.join(directory, md_fname))\n",
    "    [print(\"    + \" + os.path.join(directory,fk)) for fk in fig_fnames]"
   ]
  },
  {
   "cell_type": "code",
   "execution_count": 7,
   "id": "014d04a4",
   "metadata": {
    "execution": {
     "iopub.execute_input": "2023-09-01T04:07:13.243403Z",
     "iopub.status.busy": "2023-09-01T04:07:13.242818Z",
     "iopub.status.idle": "2023-09-01T04:07:13.256622Z",
     "shell.execute_reply": "2023-09-01T04:07:13.255802Z"
    },
    "papermill": {
     "duration": 0.024549,
     "end_time": "2023-09-01T04:07:13.259151",
     "exception": false,
     "start_time": "2023-09-01T04:07:13.234602",
     "status": "completed"
    },
    "tags": []
   },
   "outputs": [
    {
     "name": "stdout",
     "output_type": "stream",
     "text": [
      "exported in  _build/html/2308.16895.md\n",
      "    + _build/html/tmp_2308.16895/./rgb_cutouts.png\n",
      "    + _build/html/tmp_2308.16895/./galaxies_galfit.png\n",
      "    + _build/html/tmp_2308.16895/./psf2.png\n"
     ]
    }
   ],
   "source": [
    "for paper_id, md in documents:\n",
    "    export_markdown_summary(md, f\"{paper_id:s}.md\", '_build/html/')"
   ]
  },
  {
   "cell_type": "markdown",
   "id": "f087a0a7",
   "metadata": {
    "papermill": {
     "duration": 0.007243,
     "end_time": "2023-09-01T04:07:13.273827",
     "exception": false,
     "start_time": "2023-09-01T04:07:13.266584",
     "status": "completed"
    },
    "tags": []
   },
   "source": [
    "## Display the papers\n",
    "\n",
    "Not necessary but allows for a quick check."
   ]
  },
  {
   "cell_type": "code",
   "execution_count": 8,
   "id": "fd25f625",
   "metadata": {
    "execution": {
     "iopub.execute_input": "2023-09-01T04:07:13.292420Z",
     "iopub.status.busy": "2023-09-01T04:07:13.291767Z",
     "iopub.status.idle": "2023-09-01T04:07:13.298277Z",
     "shell.execute_reply": "2023-09-01T04:07:13.297360Z"
    },
    "papermill": {
     "duration": 0.017955,
     "end_time": "2023-09-01T04:07:13.300275",
     "exception": false,
     "start_time": "2023-09-01T04:07:13.282320",
     "status": "completed"
    },
    "scrolled": false,
    "tags": []
   },
   "outputs": [
    {
     "data": {
      "text/markdown": [
       "<div class=\"macros\" style=\"visibility:hidden;\">\n",
       "$\\newcommand{\\ensuremath}{}$\n",
       "$\\newcommand{\\xspace}{}$\n",
       "$\\newcommand{\\object}[1]{\\texttt{#1}}$\n",
       "$\\newcommand{\\farcs}{{.}''}$\n",
       "$\\newcommand{\\farcm}{{.}'}$\n",
       "$\\newcommand{\\arcsec}{''}$\n",
       "$\\newcommand{\\arcmin}{'}$\n",
       "$\\newcommand{\\ion}[2]{#1#2}$\n",
       "$\\newcommand{\\textsc}[1]{\\textrm{#1}}$\n",
       "$\\newcommand{\\hl}[1]{\\textrm{#1}}$\n",
       "$\\newcommand{\\footnote}[1]{}$\n",
       "$\\newcommand{\\vdag}{(v)^\\dagger}$\n",
       "$\\newcommand$\n",
       "$\\newcommand$\n",
       "$\\newcommand{\\sectionautorefname}{\\S}$\n",
       "$\\newcommand{\\subsectionautorefname}{\\S}$\n",
       "$\\newcommand{\\subsubsectionautorefname}{\\S}$\n",
       "$\\newcommand{\\figureautorefname}{Fig.}$</div>\n",
       "\n",
       "\n",
       "\n",
       "<div id=\"title\">\n",
       "\n",
       "# MIDIS: JWST/MIRI reveals the Stellar Structure of ALMA-selected Galaxies in the Hubble--UDF at Cosmic Noon\n",
       "\n",
       "</div>\n",
       "<div id=\"comments\">\n",
       "\n",
       "[![arXiv](https://img.shields.io/badge/arXiv-2308.16895-b31b1b.svg)](https://arxiv.org/abs/2308.16895)<mark>Appeared on: 2023-09-01</mark> -  _19 pages, 10 figures, 1 table, submitted to ApJ_\n",
       "\n",
       "</div>\n",
       "<div id=\"authors\">\n",
       "\n",
       "L. A. Boogaard, et al. -- incl., <mark>F. Walter</mark>, <mark>S. Bosman</mark>\n",
       "\n",
       "</div>\n",
       "<div id=\"abstract\">\n",
       "\n",
       "**Abstract:** We present deep James Webb Space Telescope (JWST)/MIRI F560W  observations of a flux-limited, ALMA-selected sample of 28 galaxies  at $z=0.5$ -- $3.6$ in the Hubble Ultra Deep Field (HUDF).  The data  from the MIRI Deep Imaging Survey (MIDIS) reveal the stellar  structure of the HUDF galaxies at rest-wavelengths of $\\lambda>1$ $\\micron$ for the first time.  We revise the stellar  mass estimates using new JWST photometry and find good agreement  with pre-JWST analysis; the few discrepancies can be explained by  blending issues in the earlier lower-resolution Spitzer data.  At $z\\sim2.5$ , the resolved rest-frame near-infrared (1.6 $\\micron$ )  structure of the galaxies is significantly more smooth and centrally  concentrated than seen by HST at rest-frame 450 nm (F160W), with  effective radii of $\\Remiri=1$ --5 kpc and Sérsic indices mostly  close to an exponential (disk-like) profile ( $n\\approx1$ ), up to $n\\approx5$ (excluding AGN).  We find an average size ratio of $\\Remiri/\\Rehst\\approx0.7$ that decreases with stellar mass. The  stellar structure of the ALMA-selected galaxies is indistinguishable  from a HUDF reference sample of galaxies with comparable MIRI flux  density.  We supplement our analysis with custom-made,  position-dependent, empirical PSF models for the F560W  observations. The results imply that an older and smoother stellar  structure is in place in massive gas-rich, star-forming galaxies at  Cosmic Noon, despite a more clumpy rest-frame optical appearance,  placing additional constraints on galaxy formation simulations.  As  a next step, matched-resolution, resolved ALMA observations will be  crucial to further link the mass- and light-weighted galaxy  structures to the dusty interstellar medium.\n",
       "\n",
       "</div>\n",
       "\n",
       "<div id=\"div_fig1\">\n",
       "\n",
       "<img src=\"tmp_2308.16895/./rgb_cutouts.png\" alt=\"Fig3\" width=\"100%\"/>\n",
       "\n",
       "**Figure 3. -** MIRI/F560W, NIRCam/F182M, HST/F814W (RGB) cutouts of the\n",
       "    flux-limited ALMA/ASPECS sample in the MIRI Deep Imaging Survey\n",
       "    footprint.  The cutouts are ordered by decreasing redshifts and\n",
       "    are $4$\\arcsec$\\times4$\\arcsec$$, except the last four galaxies at\n",
       "    $z<1$, which are $8$\\arcsec$\\times8$\\arcsec$$(as indicated by the\n",
       "    scalebars). See \\autoref{tab:sources} for more information on the\n",
       "    source properties. (*fig:cutouts*)\n",
       "\n",
       "</div>\n",
       "<div id=\"div_fig2\">\n",
       "\n",
       "<img src=\"tmp_2308.16895/./galaxies_galfit.png\" alt=\"Fig5\" width=\"100%\"/>\n",
       "\n",
       "**Figure 5. -** ALMA galaxies in context of the galaxy population in the Hubble Ultra Deep Field covered by both MIDIS and ASPECS.  The panels show the MIRI/F560W flux density (_left_), effective radius (_center_) and Sérsic index (_right_) as a function of redshift.  The black box in the left panel denotes the HUDF reference sample of galaxies with a flux density in F560W $\\geq 1.0$$\\mu$Jy, shown in the other panels.\n",
       "   (*fig:refsample-z-vs-mag*)\n",
       "\n",
       "</div>\n",
       "<div id=\"div_fig3\">\n",
       "\n",
       "<img src=\"tmp_2308.16895/./psf2.png\" alt=\"Fig8\" width=\"100%\"/>\n",
       "\n",
       "**Figure 8. -** Model of the MIRI/F560 PSF variation over the MIDIS field.  For each of the 96 exposures, the red, green and blue areas in the left panel indicate where the three different stacked PSFs are applicable and the white star marks the location of the star in the image (see \\autoref{fig:psf-model}).  The background color map shows the 9 unique areas where the pipeline-processed PSF, which is created by inserting the different PSF model in each exposure at the marked coordinates, is effective. The right panels show a $16$\\farcs$5\\times16$\\farcs$5$ cutout of the pipeline-processed PSFs at the 9 locations.\n",
       "     (*fig:psf-insert*)\n",
       "\n",
       "</div><div id=\"qrcode\"><img src=https://api.qrserver.com/v1/create-qr-code/?size=100x100&data=\"https://arxiv.org/abs/2308.16895\"></div>"
      ],
      "text/plain": [
       "<IPython.core.display.Markdown object>"
      ]
     },
     "metadata": {},
     "output_type": "display_data"
    }
   ],
   "source": [
    "[display(Markdown(k[1])) for k in documents];"
   ]
  },
  {
   "cell_type": "markdown",
   "id": "873873a4",
   "metadata": {
    "papermill": {
     "duration": 0.008205,
     "end_time": "2023-09-01T04:07:13.314673",
     "exception": false,
     "start_time": "2023-09-01T04:07:13.306468",
     "status": "completed"
    },
    "tags": []
   },
   "source": [
    "# Create HTML index"
   ]
  },
  {
   "cell_type": "code",
   "execution_count": 9,
   "id": "cf665672",
   "metadata": {
    "execution": {
     "iopub.execute_input": "2023-09-01T04:07:13.333416Z",
     "iopub.status.busy": "2023-09-01T04:07:13.332508Z",
     "iopub.status.idle": "2023-09-01T04:07:13.344917Z",
     "shell.execute_reply": "2023-09-01T04:07:13.343840Z"
    },
    "papermill": {
     "duration": 0.024893,
     "end_time": "2023-09-01T04:07:13.346905",
     "exception": false,
     "start_time": "2023-09-01T04:07:13.322012",
     "status": "completed"
    },
    "tags": []
   },
   "outputs": [
    {
     "name": "stdout",
     "output_type": "stream",
     "text": [
      "259  publications files modified in the last 7 days.\n"
     ]
    }
   ],
   "source": [
    "from datetime import datetime, timedelta, timezone\n",
    "from glob import glob\n",
    "import os\n",
    "\n",
    "files = glob('_build/html/*.md')\n",
    "days = 7\n",
    "now = datetime.today()\n",
    "res = []\n",
    "for fk in files:\n",
    "    stat_result = os.stat(fk).st_ctime\n",
    "    modified = datetime.fromtimestamp(stat_result, tz=timezone.utc).replace(tzinfo=None)\n",
    "    delta = now.today() - modified\n",
    "    if delta <= timedelta(days=days):\n",
    "        res.append((delta.seconds, fk))\n",
    "res = [k[1] for k in reversed(sorted(res, key=lambda x:x[1]))]\n",
    "npub = len(res)\n",
    "print(len(res), f\" publications files modified in the last {days:d} days.\")\n",
    "# [ print('\\t', k) for k in res ];"
   ]
  },
  {
   "cell_type": "code",
   "execution_count": 10,
   "id": "015de740",
   "metadata": {
    "execution": {
     "iopub.execute_input": "2023-09-01T04:07:13.362511Z",
     "iopub.status.busy": "2023-09-01T04:07:13.361694Z",
     "iopub.status.idle": "2023-09-01T04:07:13.390498Z",
     "shell.execute_reply": "2023-09-01T04:07:13.389616Z"
    },
    "papermill": {
     "duration": 0.039929,
     "end_time": "2023-09-01T04:07:13.393428",
     "exception": false,
     "start_time": "2023-09-01T04:07:13.353499",
     "status": "completed"
    },
    "tags": []
   },
   "outputs": [
    {
     "name": "stdout",
     "output_type": "stream",
     "text": [
      "8  publications in the last 7 days.\n"
     ]
    }
   ],
   "source": [
    "import datetime\n",
    "from glob import glob\n",
    "\n",
    "def get_last_n_days(lst, days=1):\n",
    "    \"\"\" Get the documents from the last n days \"\"\"\n",
    "    sorted_lst = sorted(lst, key=lambda x: x[1], reverse=True)\n",
    "    for fname, date in sorted_lst:\n",
    "        if date >= str(datetime.date.today() - datetime.timedelta(days=days)):\n",
    "            yield fname\n",
    "\n",
    "def extract_appearance_dates(lst_file):\n",
    "    dates = []\n",
    "\n",
    "    def get_date(line):\n",
    "        return line\\\n",
    "            .split('Appeared on:')[-1]\\\n",
    "            .split('</mark>')[0].strip()\n",
    "\n",
    "    for fname in lst:\n",
    "        with open(fname, 'r') as f:\n",
    "            found_date = False\n",
    "            for line in f:\n",
    "                if not found_date:\n",
    "                    if \"Appeared on\" in line:\n",
    "                        found_date = True\n",
    "                        dates.append((fname, get_date(line)))\n",
    "                else:\n",
    "                    break\n",
    "    return dates\n",
    "\n",
    "from glob import glob\n",
    "lst = glob('_build/html/*md')\n",
    "days = 7\n",
    "dates = extract_appearance_dates(lst)\n",
    "res = list(get_last_n_days(dates, days))\n",
    "npub = len(res)\n",
    "print(len(res), f\" publications in the last {days:d} days.\")"
   ]
  },
  {
   "cell_type": "code",
   "execution_count": 11,
   "id": "52ca0208",
   "metadata": {
    "execution": {
     "iopub.execute_input": "2023-09-01T04:07:13.413486Z",
     "iopub.status.busy": "2023-09-01T04:07:13.413105Z",
     "iopub.status.idle": "2023-09-01T04:07:13.419821Z",
     "shell.execute_reply": "2023-09-01T04:07:13.418794Z"
    },
    "papermill": {
     "duration": 0.019969,
     "end_time": "2023-09-01T04:07:13.421869",
     "exception": false,
     "start_time": "2023-09-01T04:07:13.401900",
     "status": "completed"
    },
    "scrolled": false,
    "tags": []
   },
   "outputs": [],
   "source": [
    "def create_carousel(npub=4):\n",
    "    \"\"\" Generate the HTML code for a carousel with `npub` slides \"\"\"\n",
    "    carousel = [\"\"\"  <div class=\"carousel\" \"\"\",\n",
    "                \"\"\"       data-flickity='{ \"autoPlay\": 10000, \"adaptiveHeight\": true, \"resize\": true, \"wrapAround\": true, \"pauseAutoPlayOnHover\": true, \"groupCells\": 1 }' id=\"asyncTypeset\">\"\"\"\n",
    "                ]\n",
    "    \n",
    "    item_str = \"\"\"    <div class=\"carousel-cell\"> <div id=\"slide{k}\" class=\"md_view\">Content {k}</div> </div>\"\"\"\n",
    "    for k in range(1, npub + 1):\n",
    "        carousel.append(item_str.format(k=k))\n",
    "    carousel.append(\"  </div>\")\n",
    "    return '\\n'.join(carousel)\n",
    "\n",
    "def create_grid(npub=4):\n",
    "    \"\"\" Generate the HTML code for a flat grid with `npub` slides \"\"\"\n",
    "    grid = [\"\"\"  <div class=\"grid\"> \"\"\",\n",
    "                ]\n",
    "    \n",
    "    item_str = \"\"\"    <div class=\"grid-item\"> <div id=\"slide{k}\" class=\"md_view\">Content {k}</div> </div>\"\"\"\n",
    "    for k in range(1, npub + 1):\n",
    "        grid.append(item_str.format(k=k))\n",
    "    grid.append(\"  </div>\")\n",
    "    return '\\n'.join(grid)"
   ]
  },
  {
   "cell_type": "code",
   "execution_count": 12,
   "id": "a6eac5b6",
   "metadata": {
    "execution": {
     "iopub.execute_input": "2023-09-01T04:07:13.439838Z",
     "iopub.status.busy": "2023-09-01T04:07:13.438723Z",
     "iopub.status.idle": "2023-09-01T04:07:13.446491Z",
     "shell.execute_reply": "2023-09-01T04:07:13.445664Z"
    },
    "papermill": {
     "duration": 0.019295,
     "end_time": "2023-09-01T04:07:13.449181",
     "exception": false,
     "start_time": "2023-09-01T04:07:13.429886",
     "status": "completed"
    },
    "scrolled": false,
    "tags": []
   },
   "outputs": [],
   "source": [
    "carousel = create_carousel(npub)\n",
    "docs = ', '.join(['\"{0:s}\"'.format(k.split('/')[-1]) for k in res])\n",
    "slides = ', '.join([f'\"slide{k}\"' for k in range(1, npub + 1)])\n",
    "\n",
    "with open(\"daily_template.html\", \"r\") as tpl:\n",
    "    page = tpl.read()\n",
    "    page = page.replace(\"{%-- carousel:s --%}\", carousel)\\\n",
    "               .replace(\"{%-- suptitle:s --%}\",  \"7-day archives\" )\\\n",
    "               .replace(\"{%-- docs:s --%}\", docs)\\\n",
    "               .replace(\"{%-- slides:s --%}\", slides)\n",
    "    \n",
    "with open(\"_build/html/index_7days.html\", 'w') as fout:\n",
    "    fout.write(page)"
   ]
  },
  {
   "cell_type": "code",
   "execution_count": 13,
   "id": "adc1a1ec",
   "metadata": {
    "execution": {
     "iopub.execute_input": "2023-09-01T04:07:13.469512Z",
     "iopub.status.busy": "2023-09-01T04:07:13.467161Z",
     "iopub.status.idle": "2023-09-01T04:07:13.478997Z",
     "shell.execute_reply": "2023-09-01T04:07:13.478157Z"
    },
    "papermill": {
     "duration": 0.022933,
     "end_time": "2023-09-01T04:07:13.481187",
     "exception": false,
     "start_time": "2023-09-01T04:07:13.458254",
     "status": "completed"
    },
    "tags": []
   },
   "outputs": [
    {
     "name": "stdout",
     "output_type": "stream",
     "text": [
      "2  publications in the last day.\n"
     ]
    }
   ],
   "source": [
    "# redo for today\n",
    "days = 1\n",
    "res = list(get_last_n_days(dates, days))\n",
    "npub = len(res)\n",
    "print(len(res), f\" publications in the last day.\")\n",
    "\n",
    "carousel = create_carousel(npub)\n",
    "docs = ', '.join(['\"{0:s}\"'.format(k.split('/')[-1]) for k in res])\n",
    "slides = ', '.join([f'\"slide{k}\"' for k in range(1, npub + 1)])\n",
    "\n",
    "with open(\"daily_template.html\", \"r\") as tpl:\n",
    "    page = tpl.read()\n",
    "    page = page.replace(\"{%-- carousel:s --%}\", carousel)\\\n",
    "               .replace(\"{%-- suptitle:s --%}\",  \"Daily\" )\\\n",
    "               .replace(\"{%-- docs:s --%}\", docs)\\\n",
    "               .replace(\"{%-- slides:s --%}\", slides)\n",
    "    \n",
    "# print(carousel, docs, slides)\n",
    "# print(page)\n",
    "with open(\"_build/html/index_daily.html\", 'w') as fout:\n",
    "    fout.write(page)"
   ]
  },
  {
   "cell_type": "code",
   "execution_count": 14,
   "id": "00eece82",
   "metadata": {
    "execution": {
     "iopub.execute_input": "2023-09-01T04:07:13.501450Z",
     "iopub.status.busy": "2023-09-01T04:07:13.499848Z",
     "iopub.status.idle": "2023-09-01T04:07:13.510427Z",
     "shell.execute_reply": "2023-09-01T04:07:13.509561Z"
    },
    "papermill": {
     "duration": 0.021562,
     "end_time": "2023-09-01T04:07:13.512165",
     "exception": false,
     "start_time": "2023-09-01T04:07:13.490603",
     "status": "completed"
    },
    "scrolled": false,
    "tags": []
   },
   "outputs": [
    {
     "name": "stdout",
     "output_type": "stream",
     "text": [
      "6  6 publications selected.\n"
     ]
    }
   ],
   "source": [
    "# Create the flat grid of the last N papers (fixed number regardless of dates)\n",
    "from itertools import islice \n",
    "\n",
    "npub = 6\n",
    "res = [k[0] for k in (islice(reversed(sorted(dates, key=lambda x: x[1])), 6))]\n",
    "print(len(res), f\" {npub} publications selected.\")\n",
    "\n",
    "grid = create_grid(npub)\n",
    "docs = ', '.join(['\"{0:s}\"'.format(k.split('/')[-1]) for k in res])\n",
    "slides = ', '.join([f'\"slide{k}\"' for k in range(1, npub + 1)])\n",
    "\n",
    "with open(\"grid_template.html\", \"r\") as tpl:\n",
    "    page = tpl.read()\n",
    "    page = page.replace(\"{%-- grid-content:s --%}\", grid)\\\n",
    "               .replace(\"{%-- suptitle:s --%}\",  f\"Last {npub:,d} papers\" )\\\n",
    "               .replace(\"{%-- docs:s --%}\", docs)\\\n",
    "               .replace(\"{%-- slides:s --%}\", slides)\n",
    "    \n",
    "# print(grid, docs, slides)\n",
    "# print(page)\n",
    "with open(\"_build/html/index_npub_grid.html\", 'w') as fout:\n",
    "    fout.write(page)"
   ]
  }
 ],
 "metadata": {
  "kernelspec": {
   "display_name": "Python 3 (ipykernel)",
   "language": "python",
   "name": "python3"
  },
  "language_info": {
   "codemirror_mode": {
    "name": "ipython",
    "version": 3
   },
   "file_extension": ".py",
   "mimetype": "text/x-python",
   "name": "python",
   "nbconvert_exporter": "python",
   "pygments_lexer": "ipython3",
   "version": "3.9.17"
  },
  "papermill": {
   "default_parameters": {},
   "duration": 88.415209,
   "end_time": "2023-09-01T04:07:13.839719",
   "environment_variables": {},
   "exception": null,
   "input_path": "MPIA daily digest.ipynb",
   "output_path": "log.ipynb",
   "parameters": {},
   "start_time": "2023-09-01T04:05:45.424510",
   "version": "2.4.0"
  },
  "vscode": {
   "interpreter": {
    "hash": "aee8b7b246df8f9039afb4144a1f6fd8d2ca17a180786b69acc140d282b71a49"
   }
  },
  "widgets": {
   "application/vnd.jupyter.widget-state+json": {
    "state": {
     "0bbb62d9a6514e9ca2c3fc77ff423ecb": {
      "model_module": "@jupyter-widgets/base",
      "model_module_version": "2.0.0",
      "model_name": "LayoutModel",
      "state": {
       "_model_module": "@jupyter-widgets/base",
       "_model_module_version": "2.0.0",
       "_model_name": "LayoutModel",
       "_view_count": null,
       "_view_module": "@jupyter-widgets/base",
       "_view_module_version": "2.0.0",
       "_view_name": "LayoutView",
       "align_content": null,
       "align_items": null,
       "align_self": null,
       "border_bottom": null,
       "border_left": null,
       "border_right": null,
       "border_top": null,
       "bottom": null,
       "display": null,
       "flex": null,
       "flex_flow": null,
       "grid_area": null,
       "grid_auto_columns": null,
       "grid_auto_flow": null,
       "grid_auto_rows": null,
       "grid_column": null,
       "grid_gap": null,
       "grid_row": null,
       "grid_template_areas": null,
       "grid_template_columns": null,
       "grid_template_rows": null,
       "height": null,
       "justify_content": null,
       "justify_items": null,
       "left": null,
       "margin": null,
       "max_height": null,
       "max_width": null,
       "min_height": null,
       "min_width": null,
       "object_fit": null,
       "object_position": null,
       "order": null,
       "overflow": null,
       "padding": null,
       "right": null,
       "top": null,
       "visibility": null,
       "width": null
      }
     },
     "0f79dbb7fc2e49e8bf5eff46fb69a34f": {
      "model_module": "@jupyter-widgets/controls",
      "model_module_version": "2.0.0",
      "model_name": "FloatProgressModel",
      "state": {
       "_dom_classes": [],
       "_model_module": "@jupyter-widgets/controls",
       "_model_module_version": "2.0.0",
       "_model_name": "FloatProgressModel",
       "_view_count": null,
       "_view_module": "@jupyter-widgets/controls",
       "_view_module_version": "2.0.0",
       "_view_name": "ProgressView",
       "bar_style": "success",
       "description": "",
       "description_allow_html": false,
       "layout": "IPY_MODEL_0bbb62d9a6514e9ca2c3fc77ff423ecb",
       "max": 2.0,
       "min": 0.0,
       "orientation": "horizontal",
       "style": "IPY_MODEL_dfad60df6bd74a99a68f117161819228",
       "tabbable": null,
       "tooltip": null,
       "value": 2.0
      }
     },
     "3911e511dbc9492cbeb2499521435cdd": {
      "model_module": "@jupyter-widgets/controls",
      "model_module_version": "2.0.0",
      "model_name": "HTMLStyleModel",
      "state": {
       "_model_module": "@jupyter-widgets/controls",
       "_model_module_version": "2.0.0",
       "_model_name": "HTMLStyleModel",
       "_view_count": null,
       "_view_module": "@jupyter-widgets/base",
       "_view_module_version": "2.0.0",
       "_view_name": "StyleView",
       "background": null,
       "description_width": "",
       "font_size": null,
       "text_color": null
      }
     },
     "8e7e7528dfef4b329e2065512a5681b6": {
      "model_module": "@jupyter-widgets/controls",
      "model_module_version": "2.0.0",
      "model_name": "HBoxModel",
      "state": {
       "_dom_classes": [],
       "_model_module": "@jupyter-widgets/controls",
       "_model_module_version": "2.0.0",
       "_model_name": "HBoxModel",
       "_view_count": null,
       "_view_module": "@jupyter-widgets/controls",
       "_view_module_version": "2.0.0",
       "_view_name": "HBoxView",
       "box_style": "",
       "children": [
        "IPY_MODEL_ef2d086348ee400b8d5757dce9b66866",
        "IPY_MODEL_0f79dbb7fc2e49e8bf5eff46fb69a34f",
        "IPY_MODEL_9b4efd73d89243beb55e1b8ae1cbd05a"
       ],
       "layout": "IPY_MODEL_e28dddb2c3f1441893177aabcae2b2dc",
       "tabbable": null,
       "tooltip": null
      }
     },
     "9b4efd73d89243beb55e1b8ae1cbd05a": {
      "model_module": "@jupyter-widgets/controls",
      "model_module_version": "2.0.0",
      "model_name": "HTMLModel",
      "state": {
       "_dom_classes": [],
       "_model_module": "@jupyter-widgets/controls",
       "_model_module_version": "2.0.0",
       "_model_name": "HTMLModel",
       "_view_count": null,
       "_view_module": "@jupyter-widgets/controls",
       "_view_module_version": "2.0.0",
       "_view_name": "HTMLView",
       "description": "",
       "description_allow_html": false,
       "layout": "IPY_MODEL_f650d1a849c2455aa11045cf0b598bcc",
       "placeholder": "​",
       "style": "IPY_MODEL_a207433a0d0a42bfac7c973f79da3254",
       "tabbable": null,
       "tooltip": null,
       "value": " 2/2 [00:57&lt;00:00, 31.82s/it]"
      }
     },
     "a207433a0d0a42bfac7c973f79da3254": {
      "model_module": "@jupyter-widgets/controls",
      "model_module_version": "2.0.0",
      "model_name": "HTMLStyleModel",
      "state": {
       "_model_module": "@jupyter-widgets/controls",
       "_model_module_version": "2.0.0",
       "_model_name": "HTMLStyleModel",
       "_view_count": null,
       "_view_module": "@jupyter-widgets/base",
       "_view_module_version": "2.0.0",
       "_view_name": "StyleView",
       "background": null,
       "description_width": "",
       "font_size": null,
       "text_color": null
      }
     },
     "b0c2d94613974cc8a8e6ba49052aaddb": {
      "model_module": "@jupyter-widgets/base",
      "model_module_version": "2.0.0",
      "model_name": "LayoutModel",
      "state": {
       "_model_module": "@jupyter-widgets/base",
       "_model_module_version": "2.0.0",
       "_model_name": "LayoutModel",
       "_view_count": null,
       "_view_module": "@jupyter-widgets/base",
       "_view_module_version": "2.0.0",
       "_view_name": "LayoutView",
       "align_content": null,
       "align_items": null,
       "align_self": null,
       "border_bottom": null,
       "border_left": null,
       "border_right": null,
       "border_top": null,
       "bottom": null,
       "display": null,
       "flex": null,
       "flex_flow": null,
       "grid_area": null,
       "grid_auto_columns": null,
       "grid_auto_flow": null,
       "grid_auto_rows": null,
       "grid_column": null,
       "grid_gap": null,
       "grid_row": null,
       "grid_template_areas": null,
       "grid_template_columns": null,
       "grid_template_rows": null,
       "height": null,
       "justify_content": null,
       "justify_items": null,
       "left": null,
       "margin": null,
       "max_height": null,
       "max_width": null,
       "min_height": null,
       "min_width": null,
       "object_fit": null,
       "object_position": null,
       "order": null,
       "overflow": null,
       "padding": null,
       "right": null,
       "top": null,
       "visibility": null,
       "width": null
      }
     },
     "dfad60df6bd74a99a68f117161819228": {
      "model_module": "@jupyter-widgets/controls",
      "model_module_version": "2.0.0",
      "model_name": "ProgressStyleModel",
      "state": {
       "_model_module": "@jupyter-widgets/controls",
       "_model_module_version": "2.0.0",
       "_model_name": "ProgressStyleModel",
       "_view_count": null,
       "_view_module": "@jupyter-widgets/base",
       "_view_module_version": "2.0.0",
       "_view_name": "StyleView",
       "bar_color": null,
       "description_width": ""
      }
     },
     "e28dddb2c3f1441893177aabcae2b2dc": {
      "model_module": "@jupyter-widgets/base",
      "model_module_version": "2.0.0",
      "model_name": "LayoutModel",
      "state": {
       "_model_module": "@jupyter-widgets/base",
       "_model_module_version": "2.0.0",
       "_model_name": "LayoutModel",
       "_view_count": null,
       "_view_module": "@jupyter-widgets/base",
       "_view_module_version": "2.0.0",
       "_view_name": "LayoutView",
       "align_content": null,
       "align_items": null,
       "align_self": null,
       "border_bottom": null,
       "border_left": null,
       "border_right": null,
       "border_top": null,
       "bottom": null,
       "display": null,
       "flex": null,
       "flex_flow": null,
       "grid_area": null,
       "grid_auto_columns": null,
       "grid_auto_flow": null,
       "grid_auto_rows": null,
       "grid_column": null,
       "grid_gap": null,
       "grid_row": null,
       "grid_template_areas": null,
       "grid_template_columns": null,
       "grid_template_rows": null,
       "height": null,
       "justify_content": null,
       "justify_items": null,
       "left": null,
       "margin": null,
       "max_height": null,
       "max_width": null,
       "min_height": null,
       "min_width": null,
       "object_fit": null,
       "object_position": null,
       "order": null,
       "overflow": null,
       "padding": null,
       "right": null,
       "top": null,
       "visibility": null,
       "width": null
      }
     },
     "ef2d086348ee400b8d5757dce9b66866": {
      "model_module": "@jupyter-widgets/controls",
      "model_module_version": "2.0.0",
      "model_name": "HTMLModel",
      "state": {
       "_dom_classes": [],
       "_model_module": "@jupyter-widgets/controls",
       "_model_module_version": "2.0.0",
       "_model_name": "HTMLModel",
       "_view_count": null,
       "_view_module": "@jupyter-widgets/controls",
       "_view_module_version": "2.0.0",
       "_view_name": "HTMLView",
       "description": "",
       "description_allow_html": false,
       "layout": "IPY_MODEL_b0c2d94613974cc8a8e6ba49052aaddb",
       "placeholder": "​",
       "style": "IPY_MODEL_3911e511dbc9492cbeb2499521435cdd",
       "tabbable": null,
       "tooltip": null,
       "value": "100%"
      }
     },
     "f650d1a849c2455aa11045cf0b598bcc": {
      "model_module": "@jupyter-widgets/base",
      "model_module_version": "2.0.0",
      "model_name": "LayoutModel",
      "state": {
       "_model_module": "@jupyter-widgets/base",
       "_model_module_version": "2.0.0",
       "_model_name": "LayoutModel",
       "_view_count": null,
       "_view_module": "@jupyter-widgets/base",
       "_view_module_version": "2.0.0",
       "_view_name": "LayoutView",
       "align_content": null,
       "align_items": null,
       "align_self": null,
       "border_bottom": null,
       "border_left": null,
       "border_right": null,
       "border_top": null,
       "bottom": null,
       "display": null,
       "flex": null,
       "flex_flow": null,
       "grid_area": null,
       "grid_auto_columns": null,
       "grid_auto_flow": null,
       "grid_auto_rows": null,
       "grid_column": null,
       "grid_gap": null,
       "grid_row": null,
       "grid_template_areas": null,
       "grid_template_columns": null,
       "grid_template_rows": null,
       "height": null,
       "justify_content": null,
       "justify_items": null,
       "left": null,
       "margin": null,
       "max_height": null,
       "max_width": null,
       "min_height": null,
       "min_width": null,
       "object_fit": null,
       "object_position": null,
       "order": null,
       "overflow": null,
       "padding": null,
       "right": null,
       "top": null,
       "visibility": null,
       "width": null
      }
     }
    },
    "version_major": 2,
    "version_minor": 0
   }
  }
 },
 "nbformat": 4,
 "nbformat_minor": 5
}