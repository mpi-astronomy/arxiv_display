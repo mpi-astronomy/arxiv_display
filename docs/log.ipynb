{
 "cells": [
  {
   "cell_type": "markdown",
   "id": "92bcb855",
   "metadata": {
    "papermill": {
     "duration": 0.005222,
     "end_time": "2023-01-18T04:08:05.018865",
     "exception": false,
     "start_time": "2023-01-18T04:08:05.013643",
     "status": "completed"
    },
    "tags": []
   },
   "source": [
    "# MPIA Arxiv on Deck 2\n",
    "\n",
    "Contains the steps to produce the paper extractions."
   ]
  },
  {
   "cell_type": "code",
   "execution_count": 1,
   "id": "3a0d6e11",
   "metadata": {
    "execution": {
     "iopub.execute_input": "2023-01-18T04:08:05.029311Z",
     "iopub.status.busy": "2023-01-18T04:08:05.028557Z",
     "iopub.status.idle": "2023-01-18T04:08:05.253433Z",
     "shell.execute_reply": "2023-01-18T04:08:05.252732Z"
    },
    "papermill": {
     "duration": 0.232359,
     "end_time": "2023-01-18T04:08:05.255501",
     "exception": false,
     "start_time": "2023-01-18T04:08:05.023142",
     "status": "completed"
    },
    "tags": []
   },
   "outputs": [],
   "source": [
    "# Imports\n",
    "import os\n",
    "from IPython.display import Markdown, display\n",
    "from tqdm.notebook import tqdm\n",
    "import warnings\n",
    "from PIL import Image \n",
    "\n",
    "# requires arxiv_on_deck_2\n",
    "\n",
    "from arxiv_on_deck_2.arxiv2 import (get_new_papers, \n",
    "                                    get_paper_from_identifier,\n",
    "                                    retrieve_document_source, \n",
    "                                    get_markdown_badge)\n",
    "from arxiv_on_deck_2 import (latex, \n",
    "                             mpia,\n",
    "                             highlight_authors_in_list)\n",
    "\n",
    "# Sometimes images are really big\n",
    "Image.MAX_IMAGE_PIXELS = 1000000000 "
   ]
  },
  {
   "cell_type": "code",
   "execution_count": 2,
   "id": "22aa9d44",
   "metadata": {
    "execution": {
     "iopub.execute_input": "2023-01-18T04:08:05.265842Z",
     "iopub.status.busy": "2023-01-18T04:08:05.265203Z",
     "iopub.status.idle": "2023-01-18T04:08:05.271576Z",
     "shell.execute_reply": "2023-01-18T04:08:05.270876Z"
    },
    "papermill": {
     "duration": 0.013297,
     "end_time": "2023-01-18T04:08:05.273263",
     "exception": false,
     "start_time": "2023-01-18T04:08:05.259966",
     "status": "completed"
    },
    "tags": []
   },
   "outputs": [],
   "source": [
    "# Some useful definitions.\n",
    "\n",
    "class AffiliationWarning(UserWarning):\n",
    "    pass\n",
    "\n",
    "class AffiliationError(RuntimeError):\n",
    "    pass\n",
    "\n",
    "def validation(source: str):\n",
    "    \"\"\"Raises error paper during parsing of source file\n",
    "    \n",
    "    Allows checks before parsing TeX code.\n",
    "    \n",
    "    Raises AffiliationWarning\n",
    "    \"\"\"\n",
    "    check = mpia.affiliation_verifications(source, verbose=True)\n",
    "    if check is not True:\n",
    "        raise AffiliationError(\"mpia.affiliation_verifications: \" + check)\n",
    "\n",
    "        \n",
    "warnings.simplefilter('always', AffiliationWarning)"
   ]
  },
  {
   "cell_type": "code",
   "execution_count": 3,
   "id": "14622700",
   "metadata": {
    "execution": {
     "iopub.execute_input": "2023-01-18T04:08:05.282569Z",
     "iopub.status.busy": "2023-01-18T04:08:05.282086Z",
     "iopub.status.idle": "2023-01-18T04:08:05.286012Z",
     "shell.execute_reply": "2023-01-18T04:08:05.285348Z"
    },
    "papermill": {
     "duration": 0.010477,
     "end_time": "2023-01-18T04:08:05.287690",
     "exception": false,
     "start_time": "2023-01-18T04:08:05.277213",
     "status": "completed"
    },
    "tags": []
   },
   "outputs": [],
   "source": [
    "# additional CSS to consider. \n",
    "# TODO: Current into each exported file. \n",
    "#       This should be set once into the webpages directly.\n",
    "#       With only the class/id definitions in the .md files.\n",
    "\n",
    "debug_html = \"\"\"\n",
    "<style>\n",
    "#wrap{ overflow:auto; }\n",
    "#fig1{ background:yellow; width:100%; float:left; padding:5px;  }\n",
    "#fig2{ background:red; width:50%; float:left; clear:left; padding:5px;  }\n",
    "#fig3{ background:green; width:50%; float:left; padding:5px;   }\n",
    ".macros{ background:yellow; visibility:visible;}\n",
    "h1 {margin: 0 0 0 0;}\n",
    "mark {background-color:#fff3b6;}\n",
    "img {object-fit:contain; max-height:250px; display:inline-block; text-align: center;}\n",
    "</style>\n",
    "\"\"\" \n",
    "html = \"\"\"\n",
    "<style>\n",
    "#wrap{ overflow:auto; }\n",
    "#fig1{ width:100%; float:left; padding: 5px;  }\n",
    "#fig2{ width:50%; float:left; clear:left; padding: 5px;  }\n",
    "#fig3{ width:50%; float:left; padding: 5px;  }\n",
    ".macros{ visibility:hidden; height:0px; }\n",
    "h1 {margin: 0em 0 0 0;}\n",
    "mark {background-color:#fff3b6;}\n",
    "img {object-fit:contain; max-height:250px; display:inline-block; text-align: center;}\n",
    "</style>\n",
    "\"\"\""
   ]
  },
  {
   "cell_type": "markdown",
   "id": "14bd6310",
   "metadata": {
    "papermill": {
     "duration": 0.003874,
     "end_time": "2023-01-18T04:08:05.295490",
     "exception": false,
     "start_time": "2023-01-18T04:08:05.291616",
     "status": "completed"
    },
    "tags": []
   },
   "source": [
    "## get list of arxiv paper candidates\n",
    "\n",
    "We use the MPIA mitarbeiter list webpage from mpia.de to get author names\n",
    "We then get all new papers from Arxiv and match authors"
   ]
  },
  {
   "cell_type": "code",
   "execution_count": 4,
   "id": "2645e73a",
   "metadata": {
    "execution": {
     "iopub.execute_input": "2023-01-18T04:08:05.304740Z",
     "iopub.status.busy": "2023-01-18T04:08:05.304449Z",
     "iopub.status.idle": "2023-01-18T04:08:32.568033Z",
     "shell.execute_reply": "2023-01-18T04:08:32.567216Z"
    },
    "papermill": {
     "duration": 27.270517,
     "end_time": "2023-01-18T04:08:32.569963",
     "exception": false,
     "start_time": "2023-01-18T04:08:05.299446",
     "status": "completed"
    },
    "tags": []
   },
   "outputs": [
    {
     "name": "stdout",
     "output_type": "stream",
     "text": [
      "Arxiv has 114 new papers today\n",
      "          42 with possible author matches\n"
     ]
    }
   ],
   "source": [
    "# get list from MPIA website\n",
    "# it automatically filters identified non-scientists :func:`mpia.filter_non_scientists`\n",
    "mpia_authors = mpia.get_mpia_mitarbeiter_list()\n",
    "new_papers = get_new_papers()\n",
    "# add manual references\n",
    "add_paper_refs = []\n",
    "new_papers.extend([get_paper_from_identifier(k) for k in add_paper_refs])\n",
    "\n",
    "# select only papers with matching author names and highlight authors\n",
    "hl_list = [k[0] for k in mpia_authors]\n",
    "\n",
    "candidates = []\n",
    "for paperk in new_papers:\n",
    "    hl_authors = highlight_authors_in_list(paperk['authors'], hl_list)\n",
    "    matches = [(hl, orig) for hl, orig in zip(hl_authors, paperk['authors']) if 'mark' in hl]\n",
    "    paperk['authors'] = hl_authors\n",
    "    if matches:\n",
    "        candidates.append(paperk)\n",
    "print(\"\"\"Arxiv has {0:,d} new papers today\"\"\".format(len(new_papers)))        \n",
    "print(\"\"\"          {0:,d} with possible author matches\"\"\".format(len(candidates)))"
   ]
  },
  {
   "cell_type": "markdown",
   "id": "3543b34a",
   "metadata": {
    "papermill": {
     "duration": 0.004212,
     "end_time": "2023-01-18T04:08:32.579072",
     "exception": false,
     "start_time": "2023-01-18T04:08:32.574860",
     "status": "completed"
    },
    "tags": []
   },
   "source": [
    "# Parse sources and generate relevant outputs\n",
    "\n",
    "From the candidates, we do the following steps:\n",
    "* get their tarball from ArXiv (and extract data)\n",
    "* find the main .tex file: find one with \\documentclass{...} (sometimes it's non trivial)\n",
    "* Check affiliations with :func:`validation`, which uses :func:`mpia.affiliation_verifications`\n",
    "* If passing the affiliations: we parse the .tex source\n",
    "   * inject sub-documents into the main (flatten the main document)\n",
    "   * parse structure, extract information (title, abstract, authors, figures...)\n",
    "   * handles `\\graphicspath` if provided\n",
    "* Generate the .md document."
   ]
  },
  {
   "cell_type": "code",
   "execution_count": 5,
   "id": "9576b79e",
   "metadata": {
    "execution": {
     "iopub.execute_input": "2023-01-18T04:08:32.589225Z",
     "iopub.status.busy": "2023-01-18T04:08:32.588696Z",
     "iopub.status.idle": "2023-01-18T04:25:35.706214Z",
     "shell.execute_reply": "2023-01-18T04:25:35.705427Z"
    },
    "papermill": {
     "duration": 1023.125859,
     "end_time": "2023-01-18T04:25:35.709074",
     "exception": false,
     "start_time": "2023-01-18T04:08:32.583215",
     "status": "completed"
    },
    "scrolled": false,
    "tags": []
   },
   "outputs": [
    {
     "data": {
      "application/vnd.jupyter.widget-view+json": {
       "model_id": "9784543af3424554aa0d44c087a54491",
       "version_major": 2,
       "version_minor": 0
      },
      "text/plain": [
       "  0%|          | 0/41 [00:00<?, ?it/s]"
      ]
     },
     "metadata": {},
     "output_type": "display_data"
    },
    {
     "name": "stdout",
     "output_type": "stream",
     "text": [
      "Retrieving document from  https://arxiv.org/e-print/2301.05718\n"
     ]
    },
    {
     "name": "stdout",
     "output_type": "stream",
     "text": [
      "extracting tarball to tmp_2301.05718..."
     ]
    },
    {
     "name": "stdout",
     "output_type": "stream",
     "text": [
      " done.\n"
     ]
    },
    {
     "name": "stderr",
     "output_type": "stream",
     "text": [
      "/opt/hostedtoolcache/Python/3.9.16/x64/lib/python3.9/site-packages/IPython/core/interactiveshell.py:3442: LatexWarning: Multiple tex files.\n",
      "\n",
      "  exec(code_obj, self.user_global_ns, self.user_ns)\n",
      "/opt/hostedtoolcache/Python/3.9.16/x64/lib/python3.9/site-packages/IPython/core/interactiveshell.py:3442: LatexWarning: Found documentclass in tmp_2301.05718/main.tex\n",
      "\n",
      "  exec(code_obj, self.user_global_ns, self.user_ns)\n",
      "/opt/hostedtoolcache/Python/3.9.16/x64/lib/python3.9/site-packages/arxiv_on_deck_2/latex.py:292: LatexWarning: Latex injecting: 'fluxes.tex' from 'tmp_2301.05718/fluxes.tex'\n",
      "  warnings.warn(LatexWarning(f\"Latex injecting: '{ext}' from '{subsource}'\"))\n",
      "/opt/hostedtoolcache/Python/3.9.16/x64/lib/python3.9/site-packages/arxiv_on_deck_2/latex.py:292: LatexWarning: Latex injecting: 'defs' from 'tmp_2301.05718/defs.tex'\n",
      "  warnings.warn(LatexWarning(f\"Latex injecting: '{ext}' from '{subsource}'\"))\n"
     ]
    },
    {
     "name": "stdout",
     "output_type": "stream",
     "text": [
      "Retrieving document from  https://arxiv.org/e-print/2301.05720\n"
     ]
    },
    {
     "name": "stdout",
     "output_type": "stream",
     "text": [
      "extracting tarball to tmp_2301.05720..."
     ]
    },
    {
     "name": "stdout",
     "output_type": "stream",
     "text": [
      " done.\n"
     ]
    },
    {
     "name": "stderr",
     "output_type": "stream",
     "text": [
      "/opt/hostedtoolcache/Python/3.9.16/x64/lib/python3.9/site-packages/arxiv_on_deck_2/latex.py:366: LatexWarning: Error parsing the document directly. Trying to recover.\n",
      "  warnings.warn(LatexWarning(f\"Error parsing the document directly. Trying to recover.\"))\n"
     ]
    },
    {
     "name": "stdout",
     "output_type": "stream",
     "text": [
      "✔ → 0:header\n",
      "  ↳ 5338:\\section{Introduction}\n"
     ]
    },
    {
     "name": "stdout",
     "output_type": "stream",
     "text": [
      "✔ → 5338:\\section{Introduction}\n",
      "  ↳ 13780:\\section{Sample selection and observations}\n"
     ]
    },
    {
     "name": "stdout",
     "output_type": "stream",
     "text": [
      "✔ → 13780:\\section{Sample selection and observations}\n",
      "  ↳ 24035:\\section{Data reduction and analysis}\n"
     ]
    },
    {
     "name": "stdout",
     "output_type": "stream",
     "text": [
      "✔ → 24035:\\section{Data reduction and analysis}\n",
      "  ↳ 49023:\\section{Results and discussion}\n"
     ]
    },
    {
     "name": "stdout",
     "output_type": "stream",
     "text": [
      "✔ → 49023:\\section{Results and discussion}\n",
      "  ↳ 91805:\\section{Conclusions}\n",
      "✔ → 91805:\\section{Conclusions}\n",
      "  ↳ 97315:\\section{Rotation curves}\n"
     ]
    },
    {
     "name": "stdout",
     "output_type": "stream",
     "text": [
      "✔ → 97315:\\section{Rotation curves}\n",
      "  ↳ 99732:end\n"
     ]
    },
    {
     "name": "stdout",
     "output_type": "stream",
     "text": [
      "Retrieving document from  https://arxiv.org/e-print/2301.05723\n"
     ]
    },
    {
     "name": "stdout",
     "output_type": "stream",
     "text": [
      "extracting tarball to tmp_2301.05723..."
     ]
    },
    {
     "name": "stdout",
     "output_type": "stream",
     "text": [
      " done.\n",
      "Retrieving document from  https://arxiv.org/e-print/2301.05727\n"
     ]
    },
    {
     "name": "stdout",
     "output_type": "stream",
     "text": [
      "extracting tarball to tmp_2301.05727..."
     ]
    },
    {
     "name": "stdout",
     "output_type": "stream",
     "text": [
      " done.\n",
      "Retrieving document from  https://arxiv.org/e-print/2301.05793\n"
     ]
    },
    {
     "name": "stdout",
     "output_type": "stream",
     "text": [
      "extracting tarball to tmp_2301.05793..."
     ]
    },
    {
     "name": "stdout",
     "output_type": "stream",
     "text": [
      " done.\n",
      "Retrieving document from  https://arxiv.org/e-print/2301.05808\n"
     ]
    },
    {
     "name": "stderr",
     "output_type": "stream",
     "text": [
      "/opt/hostedtoolcache/Python/3.9.16/x64/lib/python3.9/site-packages/IPython/core/interactiveshell.py:3442: LatexWarning: Multiple tex files.\n",
      "\n",
      "  exec(code_obj, self.user_global_ns, self.user_ns)\n",
      "/opt/hostedtoolcache/Python/3.9.16/x64/lib/python3.9/site-packages/IPython/core/interactiveshell.py:3442: LatexWarning: Found documentclass in tmp_2301.05793/lsbskysub-arxiv-v1.tex\n",
      "\n",
      "  exec(code_obj, self.user_global_ns, self.user_ns)\n",
      "/opt/hostedtoolcache/Python/3.9.16/x64/lib/python3.9/site-packages/arxiv_on_deck_2/latex.py:292: LatexWarning: Latex injecting: 'authors/authors' from 'tmp_2301.05793/authors/authors.tex'\n",
      "  warnings.warn(LatexWarning(f\"Latex injecting: '{ext}' from '{subsource}'\"))\n"
     ]
    },
    {
     "name": "stdout",
     "output_type": "stream",
     "text": [
      "extracting tarball to tmp_2301.05808... done.\n",
      "Retrieving document from  https://arxiv.org/e-print/2301.05829\n"
     ]
    },
    {
     "name": "stdout",
     "output_type": "stream",
     "text": [
      "extracting tarball to tmp_2301.05829..."
     ]
    },
    {
     "name": "stdout",
     "output_type": "stream",
     "text": [
      " done.\n",
      "Retrieving document from  https://arxiv.org/e-print/2301.05925\n"
     ]
    },
    {
     "name": "stdout",
     "output_type": "stream",
     "text": [
      "extracting tarball to tmp_2301.05925..."
     ]
    },
    {
     "name": "stdout",
     "output_type": "stream",
     "text": [
      " done.\n",
      "Retrieving document from  https://arxiv.org/e-print/2301.06025\n"
     ]
    },
    {
     "name": "stdout",
     "output_type": "stream",
     "text": [
      "extracting tarball to tmp_2301.06025..."
     ]
    },
    {
     "name": "stdout",
     "output_type": "stream",
     "text": [
      " done.\n",
      "Retrieving document from  https://arxiv.org/e-print/2301.06033\n"
     ]
    },
    {
     "name": "stdout",
     "output_type": "stream",
     "text": [
      "extracting tarball to tmp_2301.06033..."
     ]
    },
    {
     "name": "stdout",
     "output_type": "stream",
     "text": [
      " done.\n",
      "Retrieving document from  https://arxiv.org/e-print/2301.06119\n"
     ]
    },
    {
     "name": "stdout",
     "output_type": "stream",
     "text": [
      "extracting tarball to tmp_2301.06119..."
     ]
    },
    {
     "name": "stdout",
     "output_type": "stream",
     "text": [
      " done.\n",
      "Retrieving document from  https://arxiv.org/e-print/2301.06186\n"
     ]
    },
    {
     "name": "stdout",
     "output_type": "stream",
     "text": [
      "extracting tarball to tmp_2301.06186..."
     ]
    },
    {
     "name": "stdout",
     "output_type": "stream",
     "text": [
      " done.\n",
      "Retrieving document from  https://arxiv.org/e-print/2301.06236\n"
     ]
    },
    {
     "name": "stderr",
     "output_type": "stream",
     "text": [
      "/opt/hostedtoolcache/Python/3.9.16/x64/lib/python3.9/site-packages/arxiv_on_deck_2/latex.py:292: LatexWarning: Latex injecting: 'main_document.bbl' from 'tmp_2301.06186/main_document.tex'\n",
      "  warnings.warn(LatexWarning(f\"Latex injecting: '{ext}' from '{subsource}'\"))\n"
     ]
    },
    {
     "name": "stdout",
     "output_type": "stream",
     "text": [
      "extracting tarball to tmp_2301.06236..."
     ]
    },
    {
     "name": "stdout",
     "output_type": "stream",
     "text": [
      " done.\n",
      "Retrieving document from  https://arxiv.org/e-print/2301.06252\n"
     ]
    },
    {
     "name": "stderr",
     "output_type": "stream",
     "text": [
      "/opt/hostedtoolcache/Python/3.9.16/x64/lib/python3.9/site-packages/IPython/core/interactiveshell.py:3442: LatexWarning: Multiple tex files.\n",
      "\n",
      "  exec(code_obj, self.user_global_ns, self.user_ns)\n",
      "/opt/hostedtoolcache/Python/3.9.16/x64/lib/python3.9/site-packages/IPython/core/interactiveshell.py:3442: LatexWarning: Found documentclass in tmp_2301.06236/ms.tex\n",
      "\n",
      "  exec(code_obj, self.user_global_ns, self.user_ns)\n",
      "/opt/hostedtoolcache/Python/3.9.16/x64/lib/python3.9/site-packages/arxiv_on_deck_2/latex.py:292: LatexWarning: Latex injecting: 'appendix_C' from 'tmp_2301.06236/appendix_C.tex'\n",
      "  warnings.warn(LatexWarning(f\"Latex injecting: '{ext}' from '{subsource}'\"))\n",
      "/opt/hostedtoolcache/Python/3.9.16/x64/lib/python3.9/site-packages/arxiv_on_deck_2/latex.py:292: LatexWarning: Latex injecting: 'appendix_B' from 'tmp_2301.06236/appendix_B.tex'\n",
      "  warnings.warn(LatexWarning(f\"Latex injecting: '{ext}' from '{subsource}'\"))\n",
      "/opt/hostedtoolcache/Python/3.9.16/x64/lib/python3.9/site-packages/arxiv_on_deck_2/latex.py:292: LatexWarning: Latex injecting: 'appendix_A' from 'tmp_2301.06236/appendix_A.tex'\n",
      "  warnings.warn(LatexWarning(f\"Latex injecting: '{ext}' from '{subsource}'\"))\n",
      "/opt/hostedtoolcache/Python/3.9.16/x64/lib/python3.9/site-packages/arxiv_on_deck_2/latex.py:292: LatexWarning: Latex injecting: 'reference' from 'tmp_2301.06236/reference.tex'\n",
      "  warnings.warn(LatexWarning(f\"Latex injecting: '{ext}' from '{subsource}'\"))\n"
     ]
    },
    {
     "name": "stdout",
     "output_type": "stream",
     "text": [
      "extracting tarball to tmp_2301.06252..."
     ]
    },
    {
     "name": "stdout",
     "output_type": "stream",
     "text": [
      " done.\n",
      "Retrieving document from  https://arxiv.org/e-print/2301.06253\n"
     ]
    },
    {
     "name": "stderr",
     "output_type": "stream",
     "text": [
      "/opt/hostedtoolcache/Python/3.9.16/x64/lib/python3.9/site-packages/IPython/core/interactiveshell.py:3442: LatexWarning: Multiple tex files.\n",
      "\n",
      "  exec(code_obj, self.user_global_ns, self.user_ns)\n",
      "/opt/hostedtoolcache/Python/3.9.16/x64/lib/python3.9/site-packages/IPython/core/interactiveshell.py:3442: LatexWarning: Found documentclass in tmp_2301.06252/mnras_template.tex\n",
      "\n",
      "  exec(code_obj, self.user_global_ns, self.user_ns)\n"
     ]
    },
    {
     "name": "stdout",
     "output_type": "stream",
     "text": [
      "extracting tarball to tmp_2301.06253..."
     ]
    },
    {
     "name": "stdout",
     "output_type": "stream",
     "text": [
      " done.\n",
      "Retrieving document from  https://arxiv.org/e-print/2301.06301\n"
     ]
    },
    {
     "name": "stdout",
     "output_type": "stream",
     "text": [
      "extracting tarball to tmp_2301.06301..."
     ]
    },
    {
     "name": "stdout",
     "output_type": "stream",
     "text": [
      " done.\n",
      "Retrieving document from  https://arxiv.org/e-print/2301.06310\n"
     ]
    },
    {
     "name": "stdout",
     "output_type": "stream",
     "text": [
      "extracting tarball to tmp_2301.06310..."
     ]
    },
    {
     "name": "stdout",
     "output_type": "stream",
     "text": [
      " done.\n",
      "Retrieving document from  https://arxiv.org/e-print/2301.06350\n"
     ]
    },
    {
     "name": "stderr",
     "output_type": "stream",
     "text": [
      "/tmp/ipykernel_2164/4030337529.py:34: LatexWarning: 2301.06350 did not run properly\n",
      "not a gzip file\n",
      "  warnings.warn(latex.LatexWarning(f\"{paper_id:s} did not run properly\\n\" +\n"
     ]
    },
    {
     "name": "stdout",
     "output_type": "stream",
     "text": [
      "Retrieving document from  https://arxiv.org/e-print/2301.06369\n"
     ]
    },
    {
     "name": "stdout",
     "output_type": "stream",
     "text": [
      "extracting tarball to tmp_2301.06369..."
     ]
    },
    {
     "name": "stdout",
     "output_type": "stream",
     "text": [
      " done.\n",
      "Retrieving document from  https://arxiv.org/e-print/2301.06402\n"
     ]
    },
    {
     "name": "stdout",
     "output_type": "stream",
     "text": [
      "extracting tarball to tmp_2301.06402..."
     ]
    },
    {
     "name": "stdout",
     "output_type": "stream",
     "text": [
      " done.\n",
      "Retrieving document from  https://arxiv.org/e-print/2301.06403\n"
     ]
    },
    {
     "name": "stderr",
     "output_type": "stream",
     "text": [
      "/opt/hostedtoolcache/Python/3.9.16/x64/lib/python3.9/site-packages/IPython/core/interactiveshell.py:3442: LatexWarning: Multiple tex files.\n",
      "\n",
      "  exec(code_obj, self.user_global_ns, self.user_ns)\n",
      "/opt/hostedtoolcache/Python/3.9.16/x64/lib/python3.9/site-packages/IPython/core/interactiveshell.py:3442: LatexWarning: Found documentclass in tmp_2301.06402/ms.tex\n",
      "\n",
      "  exec(code_obj, self.user_global_ns, self.user_ns)\n"
     ]
    },
    {
     "name": "stdout",
     "output_type": "stream",
     "text": [
      "extracting tarball to tmp_2301.06403... done.\n",
      "Retrieving document from  https://arxiv.org/e-print/2301.06515\n"
     ]
    },
    {
     "name": "stdout",
     "output_type": "stream",
     "text": [
      "extracting tarball to tmp_2301.06515..."
     ]
    },
    {
     "name": "stdout",
     "output_type": "stream",
     "text": [
      " done.\n",
      "Retrieving document from  https://arxiv.org/e-print/2301.06562\n"
     ]
    },
    {
     "name": "stderr",
     "output_type": "stream",
     "text": [
      "/opt/hostedtoolcache/Python/3.9.16/x64/lib/python3.9/site-packages/IPython/core/interactiveshell.py:3442: LatexWarning: Multiple tex files.\n",
      "\n",
      "  exec(code_obj, self.user_global_ns, self.user_ns)\n",
      "/opt/hostedtoolcache/Python/3.9.16/x64/lib/python3.9/site-packages/IPython/core/interactiveshell.py:3442: LatexWarning: Found documentclass in tmp_2301.06515/suplemMat.tex\n",
      "\n",
      "  exec(code_obj, self.user_global_ns, self.user_ns)\n"
     ]
    },
    {
     "name": "stdout",
     "output_type": "stream",
     "text": [
      "extracting tarball to tmp_2301.06562..."
     ]
    },
    {
     "name": "stdout",
     "output_type": "stream",
     "text": [
      " done.\n",
      "Retrieving document from  https://arxiv.org/e-print/2301.06564\n"
     ]
    },
    {
     "name": "stdout",
     "output_type": "stream",
     "text": [
      "extracting tarball to tmp_2301.06564..."
     ]
    },
    {
     "name": "stdout",
     "output_type": "stream",
     "text": [
      " done.\n",
      "Retrieving document from  https://arxiv.org/e-print/2301.06575\n"
     ]
    },
    {
     "name": "stdout",
     "output_type": "stream",
     "text": [
      "extracting tarball to tmp_2301.06575..."
     ]
    },
    {
     "name": "stdout",
     "output_type": "stream",
     "text": [
      " done.\n"
     ]
    },
    {
     "name": "stdout",
     "output_type": "stream",
     "text": [
      "Retrieving document from  https://arxiv.org/e-print/2301.06599\n"
     ]
    },
    {
     "name": "stdout",
     "output_type": "stream",
     "text": [
      "extracting tarball to tmp_2301.06599..."
     ]
    },
    {
     "name": "stdout",
     "output_type": "stream",
     "text": [
      " done.\n",
      "Retrieving document from  https://arxiv.org/e-print/2301.06643\n"
     ]
    },
    {
     "name": "stderr",
     "output_type": "stream",
     "text": [
      "/opt/hostedtoolcache/Python/3.9.16/x64/lib/python3.9/site-packages/IPython/core/interactiveshell.py:3442: LatexWarning: Multiple tex files.\n",
      "\n",
      "  exec(code_obj, self.user_global_ns, self.user_ns)\n",
      "/opt/hostedtoolcache/Python/3.9.16/x64/lib/python3.9/site-packages/IPython/core/interactiveshell.py:3442: LatexWarning: Found documentclass in tmp_2301.06599/gyre-tides.tex\n",
      "\n",
      "  exec(code_obj, self.user_global_ns, self.user_ns)\n",
      "/opt/hostedtoolcache/Python/3.9.16/x64/lib/python3.9/site-packages/arxiv_on_deck_2/latex.py:292: LatexWarning: Latex injecting: 'symbols' from 'tmp_2301.06599/symbols.tex'\n",
      "  warnings.warn(LatexWarning(f\"Latex injecting: '{ext}' from '{subsource}'\"))\n",
      "/opt/hostedtoolcache/Python/3.9.16/x64/lib/python3.9/site-packages/arxiv_on_deck_2/latex.py:292: LatexWarning: Latex injecting: 'symbols' from 'tmp_2301.06599/New gyre_tides (Copy)/symbols.tex'\n",
      "  warnings.warn(LatexWarning(f\"Latex injecting: '{ext}' from '{subsource}'\"))\n"
     ]
    },
    {
     "name": "stdout",
     "output_type": "stream",
     "text": [
      "extracting tarball to tmp_2301.06643... done.\n",
      "Retrieving document from  https://arxiv.org/e-print/2301.06677\n"
     ]
    },
    {
     "name": "stdout",
     "output_type": "stream",
     "text": [
      "extracting tarball to tmp_2301.06677..."
     ]
    },
    {
     "name": "stdout",
     "output_type": "stream",
     "text": [
      " done.\n",
      "Retrieving document from  https://arxiv.org/e-print/2301.06707\n"
     ]
    },
    {
     "name": "stdout",
     "output_type": "stream",
     "text": [
      "extracting tarball to tmp_2301.06707..."
     ]
    },
    {
     "name": "stdout",
     "output_type": "stream",
     "text": [
      " done.\n",
      "Retrieving document from  https://arxiv.org/e-print/2301.06709\n"
     ]
    },
    {
     "name": "stderr",
     "output_type": "stream",
     "text": [
      "/tmp/ipykernel_2164/4030337529.py:34: LatexWarning: 2301.06709 did not run properly\n",
      "not a gzip file\n",
      "  warnings.warn(latex.LatexWarning(f\"{paper_id:s} did not run properly\\n\" +\n"
     ]
    },
    {
     "name": "stdout",
     "output_type": "stream",
     "text": [
      "Retrieving document from  https://arxiv.org/e-print/2301.06716\n"
     ]
    },
    {
     "name": "stdout",
     "output_type": "stream",
     "text": [
      "extracting tarball to tmp_2301.06716..."
     ]
    },
    {
     "name": "stdout",
     "output_type": "stream",
     "text": [
      " done.\n",
      "Retrieving document from  https://arxiv.org/e-print/2301.06722\n"
     ]
    },
    {
     "name": "stdout",
     "output_type": "stream",
     "text": [
      "extracting tarball to tmp_2301.06722..."
     ]
    },
    {
     "name": "stdout",
     "output_type": "stream",
     "text": [
      " done.\n",
      "Retrieving document from  https://arxiv.org/e-print/2301.06743\n"
     ]
    },
    {
     "name": "stdout",
     "output_type": "stream",
     "text": [
      "extracting tarball to tmp_2301.06743... done.\n",
      "Retrieving document from  https://arxiv.org/e-print/2301.06779\n"
     ]
    },
    {
     "name": "stderr",
     "output_type": "stream",
     "text": [
      "/tmp/ipykernel_2164/4030337529.py:34: LatexWarning: 2301.06779 did not run properly\n",
      "not a gzip file\n",
      "  warnings.warn(latex.LatexWarning(f\"{paper_id:s} did not run properly\\n\" +\n"
     ]
    },
    {
     "name": "stdout",
     "output_type": "stream",
     "text": [
      "Retrieving document from  https://arxiv.org/e-print/2301.06811\n"
     ]
    },
    {
     "name": "stdout",
     "output_type": "stream",
     "text": [
      "extracting tarball to tmp_2301.06811..."
     ]
    },
    {
     "name": "stdout",
     "output_type": "stream",
     "text": [
      " done.\n",
      "Retrieving document from  https://arxiv.org/e-print/2301.06819\n"
     ]
    },
    {
     "name": "stderr",
     "output_type": "stream",
     "text": [
      "/opt/hostedtoolcache/Python/3.9.16/x64/lib/python3.9/site-packages/IPython/core/interactiveshell.py:3442: LatexWarning: Multiple tex files.\n",
      "\n",
      "  exec(code_obj, self.user_global_ns, self.user_ns)\n",
      "/opt/hostedtoolcache/Python/3.9.16/x64/lib/python3.9/site-packages/IPython/core/interactiveshell.py:3442: LatexWarning: Found documentclass in tmp_2301.06811/Isobe+23.tex\n",
      "\n",
      "  exec(code_obj, self.user_global_ns, self.user_ns)\n"
     ]
    },
    {
     "name": "stdout",
     "output_type": "stream",
     "text": [
      "extracting tarball to tmp_2301.06819..."
     ]
    },
    {
     "name": "stdout",
     "output_type": "stream",
     "text": [
      " done.\n"
     ]
    },
    {
     "name": "stdout",
     "output_type": "stream",
     "text": [
      "Retrieving document from  https://arxiv.org/e-print/2301.06832\n"
     ]
    },
    {
     "name": "stdout",
     "output_type": "stream",
     "text": [
      "extracting tarball to tmp_2301.06832..."
     ]
    },
    {
     "name": "stdout",
     "output_type": "stream",
     "text": [
      " done.\n",
      "Retrieving document from  https://arxiv.org/e-print/2301.06873\n"
     ]
    },
    {
     "name": "stderr",
     "output_type": "stream",
     "text": [
      "/opt/hostedtoolcache/Python/3.9.16/x64/lib/python3.9/site-packages/IPython/core/interactiveshell.py:3442: LatexWarning: Multiple tex files.\n",
      "\n",
      "  exec(code_obj, self.user_global_ns, self.user_ns)\n",
      "/opt/hostedtoolcache/Python/3.9.16/x64/lib/python3.9/site-packages/IPython/core/interactiveshell.py:3442: LatexWarning: Found documentclass in tmp_2301.06832/iras20126_axv.tex\n",
      "\n",
      "  exec(code_obj, self.user_global_ns, self.user_ns)\n",
      "/opt/hostedtoolcache/Python/3.9.16/x64/lib/python3.9/site-packages/arxiv_on_deck_2/latex.py:292: LatexWarning: Latex injecting: 'new_commands_aa.tex' from 'tmp_2301.06832/new_commands_aa.tex'\n",
      "  warnings.warn(LatexWarning(f\"Latex injecting: '{ext}' from '{subsource}'\"))\n"
     ]
    },
    {
     "name": "stdout",
     "output_type": "stream",
     "text": [
      "extracting tarball to tmp_2301.06873..."
     ]
    },
    {
     "name": "stdout",
     "output_type": "stream",
     "text": [
      " done.\n"
     ]
    },
    {
     "name": "stdout",
     "output_type": "stream",
     "text": [
      "Retrieving document from  https://arxiv.org/e-print/2301.06947\n"
     ]
    },
    {
     "name": "stdout",
     "output_type": "stream",
     "text": [
      "extracting tarball to tmp_2301.06947... done.\n",
      "Retrieving document from  https://arxiv.org/e-print/2301.07029\n"
     ]
    },
    {
     "name": "stdout",
     "output_type": "stream",
     "text": [
      "extracting tarball to tmp_2301.07029..."
     ]
    },
    {
     "name": "stdout",
     "output_type": "stream",
     "text": [
      " done.\n",
      "Retrieving document from  https://arxiv.org/e-print/2301.07044\n"
     ]
    },
    {
     "name": "stdout",
     "output_type": "stream",
     "text": [
      "extracting tarball to tmp_2301.07044... done.\n"
     ]
    },
    {
     "name": "stderr",
     "output_type": "stream",
     "text": [
      "/opt/hostedtoolcache/Python/3.9.16/x64/lib/python3.9/site-packages/IPython/core/interactiveshell.py:3442: LatexWarning: Multiple tex files.\n",
      "\n",
      "  exec(code_obj, self.user_global_ns, self.user_ns)\n",
      "/opt/hostedtoolcache/Python/3.9.16/x64/lib/python3.9/site-packages/IPython/core/interactiveshell.py:3442: LatexWarning: Found documentclass in tmp_2301.07044/main.tex\n",
      "\n",
      "  exec(code_obj, self.user_global_ns, self.user_ns)\n"
     ]
    }
   ],
   "source": [
    "documents = []\n",
    "failed = []\n",
    "for paper in tqdm(candidates[:-1]):\n",
    "    paper_id = paper['identifier'].lower().replace('arxiv:', '')\n",
    "    \n",
    "    folder = f'tmp_{paper_id}'\n",
    "\n",
    "    try:\n",
    "        if not os.path.isdir(folder):\n",
    "            folder = retrieve_document_source(f\"{paper_id}\", f'tmp_{paper_id}')\n",
    "        \n",
    "        try:\n",
    "            doc = latex.LatexDocument(folder, validation=validation)    \n",
    "        except AffiliationError as affilerror:\n",
    "            msg = f\"ArXiv:{paper_id:s} is not an MPIA paper... \" + str(affilerror)\n",
    "            failed.append((paper, \"affiliation error: \" + str(affilerror) ))\n",
    "            continue\n",
    "        \n",
    "        # Hack because sometimes author parsing does not work well\n",
    "        if (len(doc.authors) != len(paper['authors'])):\n",
    "            doc._authors = paper['authors']\n",
    "        if (doc.abstract) in (None, ''):\n",
    "            doc._abstract = paper['abstract']\n",
    "            \n",
    "        doc.comment = (get_markdown_badge(paper_id) + \n",
    "                       \"<mark>Appeared on: \" + paper['date'] + \"</mark> - \" +\n",
    "                       \"_\" + paper['comments'] + \"_\")\n",
    "        doc.highlight_authors_in_list(hl_list)\n",
    "\n",
    "        full_md = doc.generate_markdown_text()\n",
    "        \n",
    "        documents.append((paper_id, full_md))\n",
    "    except Exception as e:\n",
    "        warnings.warn(latex.LatexWarning(f\"{paper_id:s} did not run properly\\n\" +\n",
    "                                         str(e)\n",
    "                                        ))\n",
    "        failed.append((paper, \"latex error \" + str(e)))"
   ]
  },
  {
   "cell_type": "markdown",
   "id": "2505a25c",
   "metadata": {
    "papermill": {
     "duration": 0.009598,
     "end_time": "2023-01-18T04:25:35.729724",
     "exception": false,
     "start_time": "2023-01-18T04:25:35.720126",
     "status": "completed"
    },
    "tags": []
   },
   "source": [
    "### Export the logs\n",
    "\n",
    "Throughout, we also keep track of the logs per paper. see `logs-{today date}.md` "
   ]
  },
  {
   "cell_type": "code",
   "execution_count": 6,
   "id": "d733828a",
   "metadata": {
    "execution": {
     "iopub.execute_input": "2023-01-18T04:25:35.789425Z",
     "iopub.status.busy": "2023-01-18T04:25:35.788737Z",
     "iopub.status.idle": "2023-01-18T04:25:35.847103Z",
     "shell.execute_reply": "2023-01-18T04:25:35.846517Z"
    },
    "papermill": {
     "duration": 0.125497,
     "end_time": "2023-01-18T04:25:35.864787",
     "exception": false,
     "start_time": "2023-01-18T04:25:35.739290",
     "status": "completed"
    },
    "scrolled": false,
    "tags": []
   },
   "outputs": [
    {
     "data": {
      "text/markdown": [
       "## Successful papers"
      ],
      "text/plain": [
       "<IPython.core.display.Markdown object>"
      ]
     },
     "metadata": {},
     "output_type": "display_data"
    },
    {
     "data": {
      "text/markdown": [
       "\n",
       "|||\n",
       "|---:|:---|\n",
       "| [![arXiv](https://img.shields.io/badge/arXiv-arXiv:2301.05718-b31b1b.svg)](https://arxiv.org/abs/arXiv:2301.05718) | **Serendipitous Nebular-phase JWST Imaging of SN Ia 2021aefx: Testing the  Confinement of 56-Co Decay Energy**  |\n",
       "|| Ness Mayker Chen, et al. -- incl., <mark>Lindsey Kwok</mark>, <mark>Frank Bigiel</mark>, <mark>Francesca Pinna</mark>, <mark>Eva Schinnerer</mark> |\n",
       "|*Appeared on*| *2023-01-18*|\n",
       "|*Comments*| *Submitted to ApJL; 11 pages, 4 figures, 2 tables in two-column AASTEX63 format. Comments welcome*|\n",
       "|**Abstract**| We present new 0.3-21 micron photometry of SN 2021aefx in the spiral galaxy NGC 1566 at +357 days after B-band maximum, including the first detection of any SN Ia at >15 micron. These observations follow earlier JWST observations of SN 2021aefx at +255 days after the time of maximum brightness, allowing us to probe the temporal evolution of the emission properties. We measure the fraction of flux emerging at different wavelengths and its temporal evolution. Additionally, the integrated 0.3-14 micron decay rate of $\\Delta m_{0.3-14} = 1.35 \\pm 0.05$ mag/100 days is higher than the decline rate from the radioactive decay of $^{56}$Co of $\\sim 1.2$mag/100 days. The most plausible explanation for this discrepancy is that flux is shifting to >14 micron, and future JWST observations of SNe Ia will be able to directly test this hypothesis. However, models predicting non-radiative energy loss cannot be excluded with the present data. |"
      ],
      "text/plain": [
       "[arXiv:2301.05718] Serendipitous Nebular-phase JWST Imaging of SN Ia 2021aefx: Testing the  Confinement of 56-Co Decay Energy\n",
       "\tNess Mayker Chen, et al. -- incl., <mark>Lindsey Kwok</mark>, <mark>Frank Bigiel</mark>, <mark>Francesca Pinna</mark>, <mark>Eva Schinnerer</mark>"
      ]
     },
     "metadata": {},
     "output_type": "display_data"
    },
    {
     "data": {
      "text/markdown": [
       "\n",
       "|||\n",
       "|---:|:---|\n",
       "| [![arXiv](https://img.shields.io/badge/arXiv-arXiv:2301.05720-b31b1b.svg)](https://arxiv.org/abs/arXiv:2301.05720) | **KAOSS: turbulent, but disc-like kinematics in dust-obscured star-forming  galaxies at $z\\sim$1.3-2.6**  |\n",
       "|| Jack E. Birkin, et al. -- incl., <mark>E. Schinnerer</mark> |\n",
       "|*Appeared on*| *2023-01-18*|\n",
       "|*Comments*| *20 pages, 12 figures, submitted to MNRAS*|\n",
       "|**Abstract**| We present spatially resolved kinematics of 31 ALMA-identified dust-obscured star-forming galaxies (DSFGs) at $z\\sim$1.3-2.6, as traced by H$\\alpha$ emission using VLT/KMOS near-infrared integral field spectroscopy from our on-going Large Programme ''KMOS-ALMA Observations of Submillimetre Sources'' (KAOSS). We derive H$\\alpha$ rotation curves and velocity dispersion profiles for the DSFGs. Of the 31 sources with bright, spatially extended H$\\alpha$ emission, 25 display rotation curves that are well fit by a Freeman disc model, enabling us to measure a median inclination-corrected velocity at 2.2$R_{\\rm d}$ of $v_{\\rm rot}$ = 190 $\\pm$ 30 kms$^{-1}$ and a median intrinsic velocity dispersion of $\\sigma_0$ = 87 $\\pm$ 6 kms$^{-1}$ for these $\\textit{disc-like}$ sources. By comparison with less actively star-forming galaxies, KAOSS DSFGs are both faster rotating and more turbulent, but have similar $v_{\\rm rot}/\\sigma_0$ ratios, median 2.4 $\\pm$ 0.5. We suggest that $v_{\\rm rot}/\\sigma_0$ alone is insufficient to describe the kinematics of DSFGs, which are not kinematically ''cold'' discs, and that the individual components $v_{\\rm rot}$ and $\\sigma_0$ indicate that they are in fact turbulent, but rotationally supported systems in $\\sim$50 per cent of cases. This turbulence may be driven by star formation or mergers/interactions. We estimate the normalisation of the stellar Tully-Fisher relation (sTFR) for the disc-like DSFGs and compare it with local studies, finding no evolution at fixed slope between $z\\sim$2 and $z\\sim$0. Finally, we use kinematic estimates of DSFG halo masses to investigate the stellar-to-halo mass relation, finding our sources to be consistent with shock heating and strong feedback which likely drives the declining stellar content in the most massive halos. |"
      ],
      "text/plain": [
       "[arXiv:2301.05720] KAOSS: turbulent, but disc-like kinematics in dust-obscured star-forming  galaxies at $z\\sim$1.3-2.6\n",
       "\tJack E. Birkin, et al. -- incl., <mark>E. Schinnerer</mark>"
      ]
     },
     "metadata": {},
     "output_type": "display_data"
    },
    {
     "data": {
      "text/markdown": [
       "\n",
       "|||\n",
       "|---:|:---|\n",
       "| [![arXiv](https://img.shields.io/badge/arXiv-arXiv:2301.06575-b31b1b.svg)](https://arxiv.org/abs/arXiv:2301.06575) | **Neural posterior estimation for exoplanetary atmospheric retrieval**  |\n",
       "|| Malavika Vasist, et al. -- incl., <mark>Paul Mollière</mark>, <mark>Evert Nasedkin</mark> |\n",
       "|*Appeared on*| *2023-01-18*|\n",
       "|*Comments*| **|\n",
       "|**Abstract**| Retrieving the physical parameters from spectroscopic observations of exoplanets is key to understanding their atmospheric properties. Exoplanetary atmospheric retrievals are usually based on approximate Bayesian inference and rely on sampling-based approaches to compute parameter posterior distributions. Accurate or repeated retrievals, however, can result in very long computation times due to the sequential nature of sampling-based algorithms. We aim to amortize exoplanetary atmospheric retrieval using neural posterior estimation (NPE), a simulation-based inference algorithm based on variational inference and normalizing flows. In this way, we aim (i) to strongly reduce inference time, (ii) to scale inference to complex simulation models with many nuisance parameters or intractable likelihood functions, and (iii) to enable the statistical validation of the inference results. We evaluate NPE on a radiative transfer model for exoplanet spectra petitRADTRANS, including the effects of scattering and clouds. We train a neural autoregressive flow to quickly estimate posteriors and compare against retrievals computed with MultiNest. NPE produces accurate posterior approximations while reducing inference time down to a few seconds. We demonstrate the computational faithfulness of our posterior approximations using inference diagnostics including posterior predictive checks and coverage, taking advantage of the quasi-instantaneous inference time of NPE. Our analysis confirms the reliability of the approximate posteriors produced by NPE. The accuracy and reliability of the inference results produced by NPE establishes it as a promising approach for atmospheric retrievals. Amortization of the posterior inference makes repeated inference on several observations computationally inexpensive since it does not require on-the-fly simulations, making the retrieval efficient, scalable, and testable. |"
      ],
      "text/plain": [
       "[arXiv:2301.06575] Neural posterior estimation for exoplanetary atmospheric retrieval\n",
       "\tMalavika Vasist, et al. -- incl., <mark>Paul Mollière</mark>, <mark>Evert Nasedkin</mark>"
      ]
     },
     "metadata": {},
     "output_type": "display_data"
    },
    {
     "data": {
      "text/markdown": [
       "\n",
       "|||\n",
       "|---:|:---|\n",
       "| [![arXiv](https://img.shields.io/badge/arXiv-arXiv:2301.06819-b31b1b.svg)](https://arxiv.org/abs/arXiv:2301.06819) | **Massive pre-main-sequence stars in M17 -- Modelling hydrogen and dust in  MYSO disks**  |\n",
       "|| <mark>Frank Backs</mark>, et al. |\n",
       "|*Appeared on*| *2023-01-18*|\n",
       "|*Comments*| *18 pages, 16 figures. Accepted for publication in A&A*|\n",
       "|**Abstract**| The young massive-star-forming region M17 contains optically visible massive pre-main-sequence stars that are surrounded by circumstellar disks. Such disks are expected to disappear when these stars reach the main sequence. The physical and dynamical structure of these remnant disks are poorly constrained, especially the inner regions where accretion, photo-evaporation, and companion formation and migration may be ongoing. We aim to constrain the physical properties of the inner parts of the circumstellar disks of massive young stellar objects B243 (6 Msun) and B331 (12 Msun), two systems for which the central star has been detected and characterized previously despite strong dust extinction. Two-dimensional radiation thermo-chemical modelling with ProDiMo of double-peaked hydrogen lines of the Paschen and Brackett series observed with X-shooter was used to probe the properties of the inner disks. Additionally, the dust structure was studied by fitting the optical and near-infrared spectral energy distribution. B243 features a hot gaseous inner disk with dust at the sublimation radius at 3 AU. The disk appears truncated at roughly 6.5 AU; a cool outer disk of gas and dust may be present, but it cannot be detected with our data. B331 also has a hot gaseous inner disk. A gap separates the inner disk from a colder dusty outer disk starting at up to 100 AU. In both sources the inner disk extends to almost the stellar surface. Chemistry is essential for the ionization of hydrogen in these disks. The lack of a gap between the central objects and these disks suggests that they accrete through boundary-layer accretion. This would exclude the stars having a strong magnetic field. Their structures suggest that both disks are transitional in nature, that is to say they are in the process of being cleared, either through boundary-layer accretion, photo-evaporation, or through companion activity. |"
      ],
      "text/plain": [
       "[arXiv:2301.06819] Massive pre-main-sequence stars in M17 -- Modelling hydrogen and dust in  MYSO disks\n",
       "\t<mark>Frank Backs</mark>, et al."
      ]
     },
     "metadata": {},
     "output_type": "display_data"
    },
    {
     "data": {
      "text/markdown": [
       "\n",
       "|||\n",
       "|---:|:---|\n",
       "| [![arXiv](https://img.shields.io/badge/arXiv-arXiv:2301.06873-b31b1b.svg)](https://arxiv.org/abs/arXiv:2301.06873) | **GJ 806 (TOI-4481): A bright nearby multi-planetary system with a  transiting hot, low-density super-Earth**  |\n",
       "|| E. Palle, et al. -- incl., <mark>M. Pérez-Torres</mark>, <mark>Th. Henning</mark>, <mark>E. Herrero</mark>, <mark>J. Lillo-Box</mark> |\n",
       "|*Appeared on*| *2023-01-18*|\n",
       "|*Comments*| *Under second review in A&A. This paper is NOT yet accepted, but it is made openly available to the community due to the approaching JWST deadline*|\n",
       "|**Abstract**| One of the main scientific goals of the TESS mission is the discovery of transiting small planets around the closest and brightest stars in the sky. Here, using data from the CARMENES, MAROON-X, and HIRES spectrographs, together with TESS, we report the discovery and mass determination of a planetary system around the M1.5 V star GJ 806 (TOI-4481). GJ 806 is a bright (V=10.8 mag, J=7.3 mag) and nearby (d=12 pc) M dwarf that hosts at least two planets. The innermost planet, GJ 806 b, is transiting and has an ultra-short orbital period of 0.93 d, a radius of 1.331+-0.023 Re, a mass of 1.90+-0.17 Me, a mean density of 4.40+-0.45 g/cm3, and an equilibrium temperature of 940+-10 K. We detect a second, non-transiting, super-Earth planet in the system, GJ 806c, with an orbital period of 6.6 d, a minimum mass of 5.80+-0.30 Me, and an equilibrium temperature of 490+-5 K. The radial velocity data also shows evidence for a third periodicity at 13.6 d, although the current dataset does not provide sufficient evidence to unambiguously distinguish between a third super-Earth mass (Msin(i)=8.50+-0.45 Me) planet or stellar activity. Additionally, we report one transit observation of GJ 806 b taken with CARMENES in search for a possible extended atmosphere of H or He, but we can only place upper limits to its existence. This is not surprising as our evolutionary models support the idea that any possible primordial H/He atmosphere that GJ 806 b might have had, would long have been lost. However, GJ 806b's bulk density makes it likely that the planet hosts some type of volatile atmosphere. In fact, with a transmission spectroscopy metrics (TSM) of 44 and an emission spectroscopy metrics (ESM) of 24, GJ 806 b the third-ranked terrestrial planet around an M dwarf suitable for transmission spectroscopy studies, and the most promising terrestrial planet for emission spectroscopy studies. |"
      ],
      "text/plain": [
       "[arXiv:2301.06873] GJ 806 (TOI-4481): A bright nearby multi-planetary system with a  transiting hot, low-density super-Earth\n",
       "\tE. Palle, et al. -- incl., <mark>M. Pérez-Torres</mark>, <mark>Th. Henning</mark>, <mark>E. Herrero</mark>, <mark>J. Lillo-Box</mark>"
      ]
     },
     "metadata": {},
     "output_type": "display_data"
    },
    {
     "data": {
      "text/markdown": [
       "## Failed papers"
      ],
      "text/plain": [
       "<IPython.core.display.Markdown object>"
      ]
     },
     "metadata": {},
     "output_type": "display_data"
    },
    {
     "data": {
      "text/markdown": [
       "\n",
       "|||\n",
       "|---:|:---|\n",
       "| [![arXiv](https://img.shields.io/badge/arXiv-arXiv:2301.05793-b31b1b.svg)](https://arxiv.org/abs/arXiv:2301.05793) | **Sky Subtraction in an Era of Low Surface Brightness Astronomy**  |\n",
       "|| <mark>Lee S. Kelvin</mark>, Imran Hasan, J. Anthony Tyson |\n",
       "|*Appeared on*| *2023-01-18*|\n",
       "|*Comments*| *Accepted for publication in MNRAS. 41 pages: 9 figures and 1 table in the main text, 11 figures and 2 tables in the appendix*|\n",
       "|**Abstract**| The Vera C. Rubin Observatory Wide-Fast Deep (WFD) sky survey will reach unprecedented surface brightness depths over tens of thousands of square degrees. Surface brightness photometry has traditionally been a challenge. Current algorithms which combine object detection with sky estimation systematically over-subtract the sky, biasing surface brightness measurements at the faint end and destroying or severely compromising low surface brightness light. While it has recently been shown that properly accounting for undetected faint galaxies and the wings of brighter objects can in principle recover a more accurate sky estimate, this has not yet been demonstrated in practice. Obtaining a consistent spatially smooth underlying sky estimate is particularly challenging in the presence of representative distributions of bright and faint objects. In this paper we use simulations of crowded and uncrowded fields designed to mimic Hyper Suprime-Cam data to perform a series of tests on the accuracy of the recovered sky. Dependence on field density, galaxy type and limiting flux for detection are all considered. Several photometry packages are utilised: Source Extractor, Gnuastro, and the LSST Science Pipelines. Each is configured in various modes, and their performance at extreme low surface brightness analysed. We find that the combination of the Source Extractor software package with novel source model masking techniques consistently produce extremely faint output sky estimates, by up to an order of magnitude, as well as returning high fidelity output science catalogues. |\n",
       "|<p style=\"color:green\"> **ERROR** </p>| <p style=\"color:green\">affiliation error: mpia.affiliation_verifications: '69117' keyword not found.</p> |"
      ],
      "text/plain": [
       "<IPython.core.display.Markdown object>"
      ]
     },
     "metadata": {},
     "output_type": "display_data"
    },
    {
     "data": {
      "text/markdown": [
       "\n",
       "|||\n",
       "|---:|:---|\n",
       "| [![arXiv](https://img.shields.io/badge/arXiv-arXiv:2301.06369-b31b1b.svg)](https://arxiv.org/abs/arXiv:2301.06369) | **A rapid optical and X-ray timing study of the neutron star X-ray binary  Swift J1858.6-0814**  |\n",
       "|| T. Shahbaz, et al. -- incl., <mark>S. Littlefair</mark> |\n",
       "|*Appeared on*| *2023-01-18*|\n",
       "|*Comments*| *Accepted for publication in Monthly Notices of the Royal Astronomical Society. 18 pages, 14 figures*|\n",
       "|**Abstract**| We present a rapid timing analysis of optical (HiPERCAM and ULTRACAM) and X-ray (NICER) observations of the X-ray transient Swift J1858.6-0814 during 2018 and 2019. The optical light curves show relatively slow, large amplitude (~1 mags in g$_s$) `blue' flares (i.e. stronger at shorter wavelengths) on time-scales of ~minutes as well as fast, small amplitude (~0.1 mag in g$_s$) `red' flares (i.e. stronger at longer wavelengths) on time-scales of ~seconds. The `blue' and `red' flares are consistent with X-ray reprocessing and optically thin synchrotron emission, respectively, similar to what is observed in other X-ray binaries. The simultaneous optical versus soft- and hard-band X-ray light curves show time- and energy dependent correlations. The 2019 March 4 and parts of the June data show a nearly symmetric positive cross correlations (CCFs) at positive lags consistent with simple X-ray disc reprocessing. The soft- and hard-band CCFs are similar and can be reproduced if disc reprocessing dominates in the optical and one component (disc or synchrotron Comptonization) dominates both the soft and hard X-rays. A part of the 2019 June data shows a very different CCFs. The observed positive correlation at negative lag in the soft-band can be reproduced if the optical synchrotron emission is correlated with the hot flow X-ray emission. The observed timing properties are in qualitative agreement with the hybrid inner hot accretion flow model, where the relative role of the different X-ray and optical components that vary during the course of the outburst, as well as on shorter time-scales, govern the shape of the optical/X-ray CCFs. |\n",
       "|<p style=\"color:green\"> **ERROR** </p>| <p style=\"color:green\">affiliation error: mpia.affiliation_verifications: '69117' keyword not found.</p> |"
      ],
      "text/plain": [
       "<IPython.core.display.Markdown object>"
      ]
     },
     "metadata": {},
     "output_type": "display_data"
    },
    {
     "data": {
      "text/markdown": [
       "\n",
       "|||\n",
       "|---:|:---|\n",
       "| [![arXiv](https://img.shields.io/badge/arXiv-arXiv:2301.06716-b31b1b.svg)](https://arxiv.org/abs/arXiv:2301.06716) | **Effective Shielding of $\\lesssim$ 10 GeV Cosmic Rays from Dense  Molecular Clumps**  |\n",
       "|| Rui-zhi Yang, et al. -- incl., <mark>Guang-Xing Li</mark>, <mark>Bing Liu</mark> |\n",
       "|*Appeared on*| *2023-01-18*|\n",
       "|*Comments*| *Published in Nature Astronomy*|\n",
       "|**Abstract**| The density of cosmic rays inside molecular clouds determines the ionization rate in the dense cores where stars form. It is also one of the drivers of astrochemistry leading to the creation of complex molecules. Through Fermi Large Area Telescope observations of nearby giant molecular clouds, we observed deficits (holes) in the gamma-ray residual map when modelling with the expected gamma-ray diffuse emission from uniform cosmic rays interacting with the molecular content. We propose that the deficit is due to the lack of penetration of the low-energy (sub-GeV to GeV) cosmic rays into denser regions or clumps. This differs from the prevailing view of fast cosmic ray transport in giant molecular clouds where the magnetic turbulence is suppressed by neutral-ion damping, as our results require a slow diffusion inside dense molecular clumps. Through modelling we find that while the shielding is negligible on the cloud scale, it becomes important in the denser, parsec-sized regions where the gravitational collapse is already at play, changing the initial condition of star formation and astrochemistry. |\n",
       "|<p style=\"color:green\"> **ERROR** </p>| <p style=\"color:green\">affiliation error: mpia.affiliation_verifications: '69117' keyword not found.</p> |"
      ],
      "text/plain": [
       "<IPython.core.display.Markdown object>"
      ]
     },
     "metadata": {},
     "output_type": "display_data"
    },
    {
     "data": {
      "text/markdown": [
       "\n",
       "|||\n",
       "|---:|:---|\n",
       "| [![arXiv](https://img.shields.io/badge/arXiv-arXiv:2301.06832-b31b1b.svg)](https://arxiv.org/abs/arXiv:2301.06832) | **The SOUL view of IRAS20126+4104. Kinematics and variability of the H$_2$  jet from a massive protostar**  |\n",
       "|| F. Massi, et al. -- incl., <mark>E. Pinna</mark> |\n",
       "|*Appeared on*| *2023-01-18*|\n",
       "|*Comments*| *26 pages, 22 figures, 2 mpeg files, accepted by Astronomy & Astrophysics*|\n",
       "|**Abstract**| We exploit the increased sensitivity of the recently installed AO SOUL at the LBT to obtain new high-spatial-resolution NIR images of the massive young stellar object IRAS20126+4104 and its outflow. We aim to derive the jet proper motions and kinematics, as well as to study its photometric variability by combining the novel performances of SOUL together with previous NIR images. We used both broad-band ($K_{s}$, $K'$) and narrow-band (Br$\\gamma$, H2) observations from a number of NIR cameras (UKIRT/UFTI,SUBARU/CIAO,TNG/NICS,LBT/PISCES,and LBT/LUCI1) to derive maps of the continuum and the H$_2$ emission in the 2.12 $\\mu$m line. Three sets of images, obtained with AO systems (CIAO,2003; FLAO,2012; SOUL,2020), allowed us to derive the proper motions of a large number of H$_2$ knots along the jet. Photometry from all images was used to study the jet variability. We derived knot proper motions in the range of 1.7-20.3 mas yr$^{-1}$ (i.e. 13-158 km s$^{-1}$ at 1.64 kpc, avg. outflow tangential velocity $\\sim$ 80 km s$^{-1}$). The derived knot dynamical age spans a $\\sim$ 200-4000 yr interval. A ring-like H$_2$ feature near the protostar location exhibits peculiar kinematics and may represent the outcome of a wide-angle wind impinging on the outflow cavity. Both H$_2$ geometry and velocities agree with those inferred from proper motions of the H$_2$O masers, located at a smaller distance from the protostar. Although the total H$_2$ line emission from the knots does not exhibit time variations at a $\\widetilde{>}$ 0.3 mag level, we have found a clear continuum flux variation (radiation scattered by the dust in the cavity opened by the jet) which is anti-correlated between the blue-shifted and red-shifted lobes and may be periodic (with a period of $\\sim$ 12-18 yr). We suggest that the continuum variability might be related to inner-disc oscillations which have also caused the jet precession. |\n",
       "|<p style=\"color:green\"> **ERROR** </p>| <p style=\"color:green\">affiliation error: mpia.affiliation_verifications: '69117' keyword not found.</p> |"
      ],
      "text/plain": [
       "<IPython.core.display.Markdown object>"
      ]
     },
     "metadata": {},
     "output_type": "display_data"
    },
    {
     "data": {
      "text/markdown": [
       "\n",
       "|||\n",
       "|---:|:---|\n",
       "| [![arXiv](https://img.shields.io/badge/arXiv-arXiv:2301.05723-b31b1b.svg)](https://arxiv.org/abs/arXiv:2301.05723) | **SDSS J134441.83+204408.3: A highly asynchronous, short-period magnetic  cataclysmic variable with a 56 MG field strength**  |\n",
       "|| <mark>Colin Littlefield</mark>, et al. -- incl., <mark>Natalie Wells</mark> |\n",
       "|*Appeared on*| *2023-01-18*|\n",
       "|*Comments*| *Accepted for publication in ApJL*|\n",
       "|**Abstract**| When the accreting white dwarf in a magnetic cataclysmic variable star (mCV) has a field strength in excess of 10 MG, it is expected to synchronize its rotational frequency to the binary orbit frequency, particularly at small binary separations, due to the steep radial dependence of the magnetic field. We report the discovery of an mCV (SDSS J134441.83+204408.3; hereafter, J1344) that defies this expectation by displaying asynchronous rotation ($P_{spin}/P_{orb} = 0.893$) in spite of a high surface field strength (B=56 MG) and a short orbital period (114 min). Previously misidentified as a synchronously rotating mCV, J1344 was observed by TESS during sector 50, and the resulting power spectrum shows distinct spin and orbital frequencies, along with various sidebands and harmonics. Although there are several other asynchronous mCVs at short orbital periods, the presence of cyclotron humps in J1344's SDSS spectrum makes it possible to directly measure the field strength in the cyclotron-emitting region; a previously study estimated 65 MG based on its identification of two cyclotron humps, but we revise this to 56$\\pm$2 MG based on the detection of a third hump and on our modeling of the cyclotron spectrum. Short-period mCVs with field strengths above 10 MG are normally expected to be synchronous, so the highly asynchronous rotation in J1344 presents an interesting challenge for theoretical studies of spin-period evolution. |\n",
       "|<p style=\"color:green\"> **ERROR** </p>| <p style=\"color:green\">affiliation error: mpia.affiliation_verifications: 'Heidelberg' keyword not found.</p> |"
      ],
      "text/plain": [
       "<IPython.core.display.Markdown object>"
      ]
     },
     "metadata": {},
     "output_type": "display_data"
    },
    {
     "data": {
      "text/markdown": [
       "\n",
       "|||\n",
       "|---:|:---|\n",
       "| [![arXiv](https://img.shields.io/badge/arXiv-arXiv:2301.05727-b31b1b.svg)](https://arxiv.org/abs/arXiv:2301.05727) | **CEERS: Spatially Resolved UV and mid-IR Star Formation in Galaxies at  0.2 < z < 2.5: The Picture from the Hubble and James Webb Space Telescopes**  |\n",
       "|| Lu Shen, et al. -- incl., <mark>Jasleen Matharu</mark>, <mark>Yuchen Guo</mark> |\n",
       "|*Appeared on*| *2023-01-18*|\n",
       "|*Comments*| *28 pages, 13 figures, submitted to ApJ*|\n",
       "|**Abstract**| We present the mid-IR (MIR) morphologies for 70 star-forming galaxies (SFGs) at $0.2<z<2.5$ with stellar mass $\\mathrm{M_*>10^{9}~M_\\odot}$ using JWST MIRI observations from the Cosmic Evolution Early Release Science survey (CEERS). The MIRI bands span the MIR (7.7--21 $\\mu$m), enabling us to measure the effective radii ($R_{\\mathrm{eff}}$) and S\\'{e}rsic indexes of these SFGs at rest-frame 6.2 and 7.7 $\\mu$m, which contains strong emission from Polycyclic aromatic hydrocarbon (PAH) features, a well-established tracer of star formation in galaxies. We compare the PAH-band morphologies to those in rest-frame Near-UV (NUV) using HST ACS/F435W or ACS/F606W and optical/near-IR using HST WFC3/F160W imaging from UVCANDELS and CANDELS, where the NUV-band and F160W trace the profile of (unobscured) massive stars and the stellar continuum, respectively. The $R_{\\mathrm{eff}}$ of galaxies in the PAH-band are slightly smaller ($\\sim$10) than those in F160W for more massive galaxies with $\\mathrm{M_*\\gtrsim10^{9.5}~M_\\odot}$ at $z\\leq1.2$ and with $\\mathrm{M_*\\gtrsim10^{10}~M_\\odot}$ at $z\\geq1.2$, but the PAH-band and F160W have a similar fractions of light within 1 kpc. In contrast, the $R_{\\rm{eff}}$ of galaxies in the NUV-band are larger, with lower fractions of light within 1 kpc compared to the F160W for galaxies at $z\\leq1.2$. Using the MIRI data to estimate the surface density of the IR-based SFR, we find the correlation between the IR-based SFR surface density and stellar mass has a steeper slope than that of the UV-based surface density and stellar mass, suggesting galaxies with higher stellar masses having increasing amounts of obscured fraction of star formation in their inner regions. This paper demonstrates how the high-angular resolution data from JWST/MIRI can reveal new information about the morphology of obscured-star formation. |\n",
       "|<p style=\"color:green\"> **ERROR** </p>| <p style=\"color:green\">affiliation error: mpia.affiliation_verifications: 'Heidelberg' keyword not found.</p> |"
      ],
      "text/plain": [
       "<IPython.core.display.Markdown object>"
      ]
     },
     "metadata": {},
     "output_type": "display_data"
    },
    {
     "data": {
      "text/markdown": [
       "\n",
       "|||\n",
       "|---:|:---|\n",
       "| [![arXiv](https://img.shields.io/badge/arXiv-arXiv:2301.05808-b31b1b.svg)](https://arxiv.org/abs/arXiv:2301.05808) | **Current and Future Space and Airborne Observatories for ISM Studies**  |\n",
       "|| Bernhard Schulz, <mark>Margaret Meixner</mark> |\n",
       "|*Appeared on*| *2023-01-18*|\n",
       "|*Comments*| **|\n",
       "|**Abstract**| A tremendous amount of radiation is emitted by the Interstellar Medium in the mid- and far-infrared (3-500 {\\mu}m) that represents the majority of the light emitted by a galaxy. In this article we motivate ISM studies in the infrared and the construction of large specialized observatories like the Stratospheric Observatory For Infrared Astronomy (SOFIA), which just concluded its mission on a scientific high note, and the newly launched James Webb Space Telescope (JWST) that just begun its exciting scientific mission. We introduce their capabilities, present a few examples of their scientific discoveries and discuss how they complemented each other. We then consider the impact of the conclusion of SOFIA for the field in a historic context and look at new opportunities specifically for far-infrared observatories in space and in the stratosphere. |\n",
       "|<p style=\"color:green\"> **ERROR** </p>| <p style=\"color:green\">affiliation error: mpia.affiliation_verifications: 'Heidelberg' keyword not found.</p> |"
      ],
      "text/plain": [
       "<IPython.core.display.Markdown object>"
      ]
     },
     "metadata": {},
     "output_type": "display_data"
    },
    {
     "data": {
      "text/markdown": [
       "\n",
       "|||\n",
       "|---:|:---|\n",
       "| [![arXiv](https://img.shields.io/badge/arXiv-arXiv:2301.05829-b31b1b.svg)](https://arxiv.org/abs/arXiv:2301.05829) | **On the Generation and Evolution of Switchbacks and the Morphology of  Alfvénic Transition: Low Mach-number Boundary Layers**  |\n",
       "|| <mark>Ying D. Liu</mark>, Hao Ran, Huidong Hu, Stuart D. Bale |\n",
       "|*Appeared on*| *2023-01-18*|\n",
       "|*Comments*| *29 pages, 8 figures. Accepted for publication in The Astrophysical Journal*|\n",
       "|**Abstract**| We investigate the generation and evolution of switchbacks (SBs), the nature of the sub-Alfv\\'enic wind observed by Parker Solar Probe (PSP), and the morphology of the Alfv\\'enic transition, all of which are key issues in solar wind research. First we highlight a special structure in the pristine solar wind, termed a low Mach-number boundary layer (LMBL). An increased Alfv\\'en radius and suppressed SBs are observed within an LMBL. A probable source on the Sun for an LMBL is the peripheral region inside a coronal hole with rapidly diverging open fields. The sub-Alfv\\'enic wind detected by PSP is an LMBL flow by nature. The similar origin and similar properties of the sub-Alfv\\'enic intervals favor a wrinkled surface for the morphology of the Alfv\\'enic transition. We find that a larger deflection angle tends to be associated with a higher Alfv\\'en Mach number. The magnetic deflections have an origin well below the Alfv\\'en critical point, and deflection angles larger than $90^{\\circ}$ seem to occur only when $M_{\\rm A} \\gtrsim 2$. The velocity enhancement in units of the local Alfv\\'en speed generally increases with the deflection angle, which is explained by a simple model. A nonlinearly evolved, saturated state is revealed for SBs, where the local Alfv\\'en speed is roughly an upper bound for the velocity enhancement. In the context of these results, the most promising theory on the origin of SBs is the model of expanding waves and turbulence, and the patchy distribution of SBs is attributed to modulation by reductions in the Alfv\\'en Mach number. Finally, a picture on the generation and evolution of SBs is created based on the results. |\n",
       "|<p style=\"color:green\"> **ERROR** </p>| <p style=\"color:green\">affiliation error: mpia.affiliation_verifications: 'Heidelberg' keyword not found.</p> |"
      ],
      "text/plain": [
       "<IPython.core.display.Markdown object>"
      ]
     },
     "metadata": {},
     "output_type": "display_data"
    },
    {
     "data": {
      "text/markdown": [
       "\n",
       "|||\n",
       "|---:|:---|\n",
       "| [![arXiv](https://img.shields.io/badge/arXiv-arXiv:2301.05925-b31b1b.svg)](https://arxiv.org/abs/arXiv:2301.05925) | **A \"coronal-mass-ejection'' model for flares in Sagittarius A***  |\n",
       "|| <mark>Xi Lin</mark>, Ya-Ping, Feng Yuan |\n",
       "|*Appeared on*| *2023-01-18*|\n",
       "|*Comments*| *15 pages, 13 figures, accepted by MNRAS*|\n",
       "|**Abstract**| High-resolution near infrared observations with GRAVITY instrument have revealed rapid orbital motions of a hot spot around Sgr A*, the supermassive black hole in our Galactic center, during its three bright flares. The projected distances of the spot to the black hole are measured and seems to increase with time. The values of distance, combined with the measured orbiting time, imply that the spot is rotating with a super-Keplerian velocity. These results are hard to understand if the spot stay within the accretion flow thus provide strong constraints on theoretical models for flares. Previously we have proposed a \"ME\" model for the flares by analogy with the coronal mass ejection model in solar physics. In that model, magnetic reconnection occurred at the surface of the accretion flow results in the formation of flux ropes, which are then ejected out. Energetic electrons accelerated in the current sheet flow into the flux rope region and their radiation is responsible for the flares. In this paper, we apply the model to the interpretation of the GRAVITY results by calculating the dynamics of the ejected flux rope, the evolution of the magnetic field and the energy distribution of accelerated electrons, and the radiation of the system. We find that the model can well explain the observed light curve of the flares, the time-dependent distance and the super-Keplerian motion of the hot spot. It also explains why the light curve of some flares have double peaks. |\n",
       "|<p style=\"color:green\"> **ERROR** </p>| <p style=\"color:green\">affiliation error: mpia.affiliation_verifications: 'Heidelberg' keyword not found.</p> |"
      ],
      "text/plain": [
       "<IPython.core.display.Markdown object>"
      ]
     },
     "metadata": {},
     "output_type": "display_data"
    },
    {
     "data": {
      "text/markdown": [
       "\n",
       "|||\n",
       "|---:|:---|\n",
       "| [![arXiv](https://img.shields.io/badge/arXiv-arXiv:2301.06025-b31b1b.svg)](https://arxiv.org/abs/arXiv:2301.06025) | **Evolution and feedback of AGN Jets of different Cosmic-ray Composition**  |\n",
       "|| <mark>Yen-Hsing Lin</mark>, H.-Y. Karen Yang, Ellis R. Owen |\n",
       "|*Appeared on*| *2023-01-18*|\n",
       "|*Comments*| *13 pages, 10 figures*|\n",
       "|**Abstract**| Jet feedback from active galactic nuclei (AGN) is one of the most promising mechanisms for suppressing cooling flows in cool-core clusters. However, the composition of AGN jets and bubbles remains uncertain; they could be thermally dominated, or dominated by cosmic-ray proton (CRp), cosmic-ray electron (CRe), or magnetic energy. In this work, we investigate the evolution and feedback effects of CRp and CRe dominated jets by conducting 3D magnetohydrodynamic simulations of AGN jet-inflated bubbles in the intracluster medium using the FLASH code. We present the evolution of their energies, dynamics and heating, and model their expected cavity-power versus radio-luminosity relation ($P_{\\rm cav}-L_R$). We find that bubbles inflated by CRe dominated jets follow a very similar dynamical evolution to CRp dominated bubbles even though CRe within bubbles suffer significantly stronger synchrotron and inverse-Compton cooling. This is because, as CRe lose their energy, the jet-inflated bubbles quickly become thermally dominated within $\\sim 30$ Myr. Their total energy stops decreasing with CR energy and evolves similarly to CRp dominated bubbles. The ability of CRe and CRp dominated bubbles to heat the intracluster medium is also comparable; the cold gas formed via local thermal instabilities is well suppressed in both cases. The CRp and CRe bubbles follow different evolutionary trajectories on the $P_{\\rm cav}-L_R$ plane, but the values are broadly consistent with observed ranges for FRI sources. We also discuss observational techniques that have potential for constraining the composition of AGN jets and bubbles. |\n",
       "|<p style=\"color:green\"> **ERROR** </p>| <p style=\"color:green\">affiliation error: mpia.affiliation_verifications: 'Heidelberg' keyword not found.</p> |"
      ],
      "text/plain": [
       "<IPython.core.display.Markdown object>"
      ]
     },
     "metadata": {},
     "output_type": "display_data"
    },
    {
     "data": {
      "text/markdown": [
       "\n",
       "|||\n",
       "|---:|:---|\n",
       "| [![arXiv](https://img.shields.io/badge/arXiv-arXiv:2301.06033-b31b1b.svg)](https://arxiv.org/abs/arXiv:2301.06033) | **Lagrangian statistics of a shock-driven turbulent dynamo in decaying  turbulence**  |\n",
       "|| <mark>Justin Kin Jun Hew</mark>, Christoph Federrath |\n",
       "|*Appeared on*| *2023-01-18*|\n",
       "|*Comments*| *14 pages, 19 figures. Submitted to MNRAS. Comments are welcome*|\n",
       "|**Abstract**| Small-scale fluctuating magnetic fields of order $n$G to $\\mu$G are observed in supernova shocks and galaxy clusters, where amplifications of the field are likely caused by the Biermann battery mechanism. However, these fields cannot be amplified further without the turbulent dynamo, which generates magnetic energy through the stretch-twist-fold (STF) mechanism. Thus, we present here novel three-dimensional magnetohydrodynamic (MHD) simulations of a laser-driven shock propagating into a stratified, multiphase medium, to investigate the post-shock turbulent magnetic field amplification via the turbulent dynamo. The configuration used here is currently being tested in the shock tunnel at the National Ignition Facility (NIF). In order to probe the statistical properties of the post-shock turbulent region, we use $384 \\times 512 \\times 384$ tracer trajectories to track its evolution through the Lagrangian framework, thus providing a high-fidelity analysis of the shocked medium. Our simulations indicate that the growth of the magnetic field, which accompanies the near-Saffman power-law kinetic energy decay ($E_{\\textrm{kin}} \\propto t^{-1.15})$ in the absence of turbulence driving, exhibits slightly different characteristics as compared to periodic box simulations. Seemingly no distinct phases exist in its evolution, because the shock passage and time to observe the magnetic field amplification during the turbulence decay are very short, with only $\\sim0.3$ of a turbulent turnover time. Yet, the growth rates are still consistent with those expected for compressive (curl-free) turbulence driving in subsonic, compressible turbulence. Phenomenological understanding of the dynamics of the magnetic and velocity fields are also elucidated via Lagrangian frequency spectra, which are consistent with the expected inertial range scalings via the Eulerian-Lagrangian bridge. |\n",
       "|<p style=\"color:green\"> **ERROR** </p>| <p style=\"color:green\">affiliation error: mpia.affiliation_verifications: 'Heidelberg' keyword not found.</p> |"
      ],
      "text/plain": [
       "<IPython.core.display.Markdown object>"
      ]
     },
     "metadata": {},
     "output_type": "display_data"
    },
    {
     "data": {
      "text/markdown": [
       "\n",
       "|||\n",
       "|---:|:---|\n",
       "| [![arXiv](https://img.shields.io/badge/arXiv-arXiv:2301.06119-b31b1b.svg)](https://arxiv.org/abs/arXiv:2301.06119) | **Broad-line region in NGC 4151 monitored by two decades of reverberation  mapping campaigns. I. Evolution of structure and kinematics**  |\n",
       "|| Yong-Jie Chen, et al. -- incl., <mark>Shuo Zhai</mark>, <mark>Zhu-Heng Yao</mark>, <mark>Yan-Rong Li</mark>, <mark>Jun-Rong Liu</mark>, <mark>Yi-Lin Wang</mark> |\n",
       "|*Appeared on*| *2023-01-18*|\n",
       "|*Comments*| *Accepted for publication in MNRAS; comments welcome!*|\n",
       "|**Abstract**| We report the results of long-term reverberation mapping (RM) campaigns of the nearby active galactic nuclei (AGN) NGC 4151, spanning from 1994 to 2022, based on archived observations of the FAST Spectrograph Publicly Archived Programs and our new observations with the 2.3m telescope at the Wyoming Infrared Observatory. We reduce and calibrate all the spectra in a consistent way, and derive light curves of the broad H$\\beta$ line and 5100\\,{\\AA} continuum. Continuum light curves are also constructed using public archival photometric data to increase sampling cadences. We subtract the host galaxy contamination using {\\it HST} imaging to correct fluxes of the calibrated light curves. Utilizing the long-term archival photometric data, we complete the absolute flux-calibration of the AGN continuum. We find that the H$\\beta$ time delays are correlated with the 5100\\,{\\AA} luminosities as $\\tau_{\\rm H\\beta}\\propto L_{5100}^{0.46\\pm0.16}$. This is remarkably consistent with Bentz et al. (2013)'s global size-luminosity relationship of AGNs. Moreover, the data sets for five of the seasons allow us to obtain the velocity-resolved delays of the H$\\beta$ line, showing diverse structures (outflows, inflows and disks). Combining our results with previous independent measurements, we find the measured dynamics of the H$\\beta$ broad-line region (BLR) are possibly related to the long-term trend of the luminosity. There is also a possible additional $\\sim$1.86 years time lag between the variation in BLR radius and luminosity. These results suggest that dynamical changes in the BLR may be driven by the effects of radiation pressure. |\n",
       "|<p style=\"color:green\"> **ERROR** </p>| <p style=\"color:green\">affiliation error: mpia.affiliation_verifications: 'Heidelberg' keyword not found.</p> |"
      ],
      "text/plain": [
       "<IPython.core.display.Markdown object>"
      ]
     },
     "metadata": {},
     "output_type": "display_data"
    },
    {
     "data": {
      "text/markdown": [
       "\n",
       "|||\n",
       "|---:|:---|\n",
       "| [![arXiv](https://img.shields.io/badge/arXiv-arXiv:2301.06186-b31b1b.svg)](https://arxiv.org/abs/arXiv:2301.06186) | **A Multi-Wavelength Study of AGN in Post-Merger Remnants**  |\n",
       "|| <mark>Wenhao Li</mark>, et al. |\n",
       "|*Appeared on*| *2023-01-18*|\n",
       "|*Comments*| *Accepted for publication in ApJ, 27 pages, 16 figures, 3 tables*|\n",
       "|**Abstract**| We investigate the role of galaxy mergers in triggering AGN in the nearby Universe. Our analysis is based on a sample of 79 post-merger remnant galaxies with deep X-ray observations from Chandra/XMM-Newton capable of detecting a low-luminosity AGN of > 10^40.5 erg s^-1. This sample is derived from a visually classified, volume-limited sample of 807 post-mergers identified in the Sloan Digital Sky Survey Data Release 14 with log M*/M_sun > 10.5 and 0.02 < z < 0.06. We find the X-ray AGN fraction in this sample is 55.7% +\\- 5.6% compared to 23.6% +\\- 2.8% for a mass and redshift matched non-interacting control sample. The multi-wavelength AGN fraction (identified as an AGN in one of X-ray, IR, radio or optical diagnostics) for post-mergers is 76.6% +\\- 4.8% compared to 39.1% +\\- 3.2% for controls. Thus post-mergers exhibit a high overall AGN fraction with an excess between 2 - 4 depending on the AGN diagnostics used. In addition, we find most optical, IR, and radio AGN are also identified as X-ray AGN while a large fraction of X-ray AGN are not identified in any other diagnostic. This highlights the importance of deep X-ray imaging to identify AGN. We find the X-ray AGN fraction of post-mergers is independent of stellar mass above log M*/M_sun > 10.5 unlike the trend seen in control galaxies. Overall, our results show that post-merger galaxies are a good tracer of the merger-AGN connection and strongly support the theoretical expectations that mergers trigger AGN. |\n",
       "|<p style=\"color:green\"> **ERROR** </p>| <p style=\"color:green\">affiliation error: mpia.affiliation_verifications: 'Heidelberg' keyword not found.</p> |"
      ],
      "text/plain": [
       "<IPython.core.display.Markdown object>"
      ]
     },
     "metadata": {},
     "output_type": "display_data"
    },
    {
     "data": {
      "text/markdown": [
       "\n",
       "|||\n",
       "|---:|:---|\n",
       "| [![arXiv](https://img.shields.io/badge/arXiv-arXiv:2301.06236-b31b1b.svg)](https://arxiv.org/abs/arXiv:2301.06236) | **Search for Extremely Metal-Poor Stars with GEMINI-N/GRACES I.  Chemical-Abundance Analysis**  |\n",
       "|| Miji Jeong, et al. -- incl., <mark>Young Sun Lee</mark>, <mark>Ho-Gyu Lee</mark> |\n",
       "|*Appeared on*| *2023-01-18*|\n",
       "|*Comments*| *29 pages, 11 figures, 8 tables, submitted to ApJ*|\n",
       "|**Abstract**| We present stellar parameters and abundances of 13 elements for 18 very metal-poor (VMP; [Fe/H] $<$ -2.0) stars, selected as extremely metal-poor (EMP; [Fe/H] $<$ -3.0) candidates from SDSS and LAMOST survey. High-resolution spectroscopic observations were performed using GEMINI-N/GRACES. We find ten EMP stars among our candidates, and we newly identify three carbon-enhanced metal poor (CEMP) stars with [Ba/Fe] $<$ 0. Although chemical abundances of our VMP/EMP stars generally follow the overall trend of other Galactic halo stars, there are a few exceptions. One Na-rich star ([Na/Fe] = +1.14) with low [Mg/Fe] suggests a possible chemical connection with second-generation stars in a globular cluster. The progenitor of an extremely Na-poor star ([Na/Fe] = -1.02) with an enhancement of K- and Ni-abundance ratios may have undergone a distinct nucleosynthesis episode, associated with core-collapse supernovae (CCSNe) having a high explosion energy. We have also found a Mg-rich star ([Mg/Fe] = +0.73) with slightly enhanced Na and extremely low [Ba/Fe], indicating that its origin is not associated with neutron-capture events. On the other hand, the origin of the lowest Mg abundance ([Mg/Fe] = -0.61) star could be explained by accretion from a dwarf galaxy, or formation in a gas cloud largely polluted by SNe Ia. We have also explored the progenitor masses of our EMP stars by comparing their chemical-abundance patterns with those predicted by Population III SNe models, and find a mass range of 10 - 26 $M_\\odot$, suggesting that such stars were primarily responsible for the chemical enrichment of the early Milky Way. |\n",
       "|<p style=\"color:green\"> **ERROR** </p>| <p style=\"color:green\">affiliation error: mpia.affiliation_verifications: 'Heidelberg' keyword not found.</p> |"
      ],
      "text/plain": [
       "<IPython.core.display.Markdown object>"
      ]
     },
     "metadata": {},
     "output_type": "display_data"
    },
    {
     "data": {
      "text/markdown": [
       "\n",
       "|||\n",
       "|---:|:---|\n",
       "| [![arXiv](https://img.shields.io/badge/arXiv-arXiv:2301.06252-b31b1b.svg)](https://arxiv.org/abs/arXiv:2301.06252) | **Estimating the feasibility of `standard speed-gun' distances**  |\n",
       "|| Jeffrey A. Hodgson, et al. -- incl., <mark>Ioannis Liodakis</mark>, <mark>Sang-Sung Lee</mark> |\n",
       "|*Appeared on*| *2023-01-18*|\n",
       "|*Comments*| *Accepted to MNRAS Letters*|\n",
       "|**Abstract**| In a previous paper, we demonstrated a single-rung method for measuring cosmological distances in active galactic nuclei (AGN) that can be used from low redshift (z < 0.1) to high redshift (z > 3). This method relies on the assumption that the variability seen in AGN is constrained by the speed of light during a flare event and can therefore be used to estimate the size of an emitting region. A limitation of this method is that previously, the Doppler factor was required to be known. In this paper, we derive an extension of the `standard speed-gun' method for measuring cosmological distances that depends on the maximum intrinsic brightness temperature that a source can reach, rather than the Doppler factor. If the precise value of the intrinsic brightness temperature does not evolve with redshift and flares are statistically independent, we can in principle improve the errors in measurements of the matter content of the universe (in a flat LambdaCDM model) statistically. We then explored how well a future observing program would constrain cosmological parameters. We found that recovering the input cosmology depends critically on the uncertainty of the intrinsic brightness temperature and the number of flares observed. |\n",
       "|<p style=\"color:green\"> **ERROR** </p>| <p style=\"color:green\">affiliation error: mpia.affiliation_verifications: 'Heidelberg' keyword not found.</p> |"
      ],
      "text/plain": [
       "<IPython.core.display.Markdown object>"
      ]
     },
     "metadata": {},
     "output_type": "display_data"
    },
    {
     "data": {
      "text/markdown": [
       "\n",
       "|||\n",
       "|---:|:---|\n",
       "| [![arXiv](https://img.shields.io/badge/arXiv-arXiv:2301.06301-b31b1b.svg)](https://arxiv.org/abs/arXiv:2301.06301) | **Introducing the Condor Array Telescope. 1. Motivation, Configuration,  and Performance**  |\n",
       "|| Kenneth M. Lanzetta, et al. -- incl., <mark>Frederick M. Walter</mark> |\n",
       "|*Appeared on*| *2023-01-18*|\n",
       "|*Comments*| *23 pages, 16 figures*|\n",
       "|**Abstract**| The \"Condor Array Telescope\" or \"Condor\" is a high-performance \"array telescope\" comprised of six apochromatic refracting telescopes of objective diameter 180 mm, each equipped with a large-format, very low-read-noise ($\\approx 1.2$ e$^-$), very rapid-read-time ($< 1$ s) CMOS camera. Condor is located at a very dark astronomical site in the southwest corner of New Mexico, at the Dark Sky New Mexico observatory near Animas, roughly midway between (and more than 150 km from either) Tucson and El Paso. Condor enjoys a wide field of view ($2.29 \\times 1.53$ deg$^2$ or 3.50 deg$^2$), is optimized for measuring both point sources and extended, very low-surface-brightness features, and for broad-band images can operate at a cadence of 60 s (or even less) while remaining sky-noise limited with a duty cycle near 100\\%. In its normal mode of operation, Condor obtains broad-band exposures of exposure time 60 s over dwell times spanning dozens or hundreds of hours. In this way, Condor builds up deep, sensitive images while simultaneously monitoring tens or hundreds of thousands of point sources per field at a cadence of 60 s. Condor is also equipped with diffraction gratings and with a set of He II 468.6 nm, [O III] 500.7 nm, He I 587.5 nm, H$\\alpha$ 656.3 nm, [N II] 658.4 nm, and [S II] 671.6 nm narrow-band filters, allowing it to address a variety of broad- and narrow-band science issues. Given its unique capabilities, Condor can access regions of \"astronomical discovery space\" that have never before been studied. Here we introduce Condor and describe various aspects of its performance. |\n",
       "|<p style=\"color:green\"> **ERROR** </p>| <p style=\"color:green\">affiliation error: mpia.affiliation_verifications: 'Heidelberg' keyword not found.</p> |"
      ],
      "text/plain": [
       "<IPython.core.display.Markdown object>"
      ]
     },
     "metadata": {},
     "output_type": "display_data"
    },
    {
     "data": {
      "text/markdown": [
       "\n",
       "|||\n",
       "|---:|:---|\n",
       "| [![arXiv](https://img.shields.io/badge/arXiv-arXiv:2301.06310-b31b1b.svg)](https://arxiv.org/abs/arXiv:2301.06310) | **Kronberger 55: A Candidate for End-dominated Collapse Scenario**  |\n",
       "|| Aayushi Verma, et al. -- incl., <mark>Saurabh Sharma</mark>, <mark>Arpan Ghosh</mark> |\n",
       "|*Appeared on*| *2023-01-18*|\n",
       "|*Comments*| *14 pages, 11 figures, Accepted in Journal of Astrophysics and Astronomy (JAA)*|\n",
       "|**Abstract**| Using optical photometric observations from 1.3m Devasthal Fast Optical Telescope and deep near-infrared (NIR) photometric observations from TANSPEC mounted on 3.6m Devasthal Optical Telescope, along with the multi-wavelength archival data, we present our study of open cluster Kronberger 55 to understand the star formation scenario in the region. The distance, extinction and age of the cluster Kronberger 55 are estimated as ~3.5 kpc, E(B-V)~1.0 mag and $\\lesssim$55 Myr, respectively. We identified Young Stellar Objects (YSOs) based on their excess infrared (IR) emission using the two-color diagrams (TCDs). The mid-infrared (MIR) images reveal the presence of extended structure of dust and gas emission along with the outflow activities in the region with two peaks, one at the location of cluster Kronberger 55 and another at 5'.35 southwards to it. The association of radio continuum emission with the southern peak, hints towards the formation of massive star/s. The Herschel sub-millimeter maps reveal the presence of two clumps connected with a filamentary strcuture in this region, and such configuration is also evident in the 12CO(1-0) emission map. Our study suggests that this region might be a hub-filament system undergoing star formation due to the 'end-dominated collapse scenario'. |\n",
       "|<p style=\"color:green\"> **ERROR** </p>| <p style=\"color:green\">affiliation error: mpia.affiliation_verifications: 'Heidelberg' keyword not found.</p> |"
      ],
      "text/plain": [
       "<IPython.core.display.Markdown object>"
      ]
     },
     "metadata": {},
     "output_type": "display_data"
    },
    {
     "data": {
      "text/markdown": [
       "\n",
       "|||\n",
       "|---:|:---|\n",
       "| [![arXiv](https://img.shields.io/badge/arXiv-arXiv:2301.06402-b31b1b.svg)](https://arxiv.org/abs/arXiv:2301.06402) | **Formation of Fast-spinning Neutron Stars in Close Binaries and  Magnetar-driven Stripped-envelope Supernovae**  |\n",
       "|| Rui-Chong Hu, et al. -- incl., <mark>Bing Zhang</mark>, <mark>En-Wei Liang</mark>, <mark>Liang-Duan Liu</mark>, <mark>Jian-Feng Liu</mark> |\n",
       "|*Appeared on*| *2023-01-18*|\n",
       "|*Comments*| *Main text (17 pages, 5 Figures) and Supplementary Information (18 pages, 6 Figures, 2 tables)*|\n",
       "|**Abstract**| Extreme stripped-envelope supernovae (SESNe), including Type Ic superluminous supernovae (SLSNe), broad-line Type Ic SNe (SNe Ic-BL), and fast blue optical transients (FBOTs), are widely believed to harbor a newborn fast-spinning highly-magnetized neutron star (``magnetar''), which can lose its rotational energy via spin-down processes to accelerate and heat the ejecta. The progenitor(s) of these magnetar-driven SESNe, and the origin of considerable angular momentum (AM) in the cores of massive stars to finally produce such fast-spinning magnetars upon core-collapse are still under debate. Popular proposed scenarios in the literature cannot simultaneously explain their event rate density, SN and magnetar parameters, and the observed metallicity. Here, we perform a detailed binary evolution simulation that demonstrates that tidal spin-up helium stars with efficient AM transport mechanism in close binaries can form fast-spinning magnetars at the end of stars' life to naturally reproduce the universal energy-mass correlation of these magnetar-driven SESNe. Our models are consistent with the event rate densities, host environments, ejecta masses, and energetics of these different kinds of magnetar-driven SESNe, supporting that the isolated common-envelope formation channel could be a major common origin of magnetar-driven SESNe. The remnant compact binary systems of magnetar-driven SESNe are progenitors of some galactic systems and gravitational-wave transients. |\n",
       "|<p style=\"color:green\"> **ERROR** </p>| <p style=\"color:green\">affiliation error: mpia.affiliation_verifications: 'Heidelberg' keyword not found.</p> |"
      ],
      "text/plain": [
       "<IPython.core.display.Markdown object>"
      ]
     },
     "metadata": {},
     "output_type": "display_data"
    },
    {
     "data": {
      "text/markdown": [
       "\n",
       "|||\n",
       "|---:|:---|\n",
       "| [![arXiv](https://img.shields.io/badge/arXiv-arXiv:2301.06403-b31b1b.svg)](https://arxiv.org/abs/arXiv:2301.06403) | **A Population Study on the Radio Emission of Fast Blue Optical Transients**  |\n",
       "|| <mark>Jian-Feng Liu</mark>, <mark>Liang-Duan Liu</mark>, Yun-Wei Yu, Jin-Ping Zhu |\n",
       "|*Appeared on*| *2023-01-18*|\n",
       "|*Comments*| *10 pages, 5 figures, submitted to ApJ*|\n",
       "|**Abstract**| Despite the fact that the progenitor of fast blue optical transients (FBOTs) is still up for debate, FBOTs are sometimes suggested to originate from the core-collapse of ultra-stripped stars and be powered by a spinning-down neutron star. Following this consideration, it is expected that the late-time evolution of the progenitor stars can leave important imprints in the circumstellar material (CSM) of the FBOTs, due to the strong mass loss of the stars. The interaction of the FBOT ejecta with the CSM can drive a long-lasting shock to generate radio emission, which thus enables us to probe the CSM properties through radio observation although such observations are still rare. Within the framework of the magnetar-powered model, Liu et al.(2022) fitted the multi-band optical light curves of 40 FBOTs and, hence, the statistical distributions of the FBOT magnetar and ejecta parameters were obtained. Based on these FBOT population results, we investigate the dependence of the radio emission on the mass-loss rate of the progenitors and evaluate the detectability of radio emission from FBOTs with current and future telescopes. It is found that the distribution of the peak time and peak luminosity of the emission at 8.4 GHz are primarily in the regions of $t_{\\rm{peak},\\nu}=10^{2.12\\pm0.63}$ days and $L_{\\rm{peak},\\nu}=10^{28.73\\pm0.83}$ erg s$^{-1}$ Hz$^{-1}$, respectively. A joint detection of the Zwicky Transient Facility and Very Large Array could achieve success in about 8.7% FBOTs of $z\\leq1$. Furthermore, if considering a joint observation of the Chinese Space Station Telescope and Square Kilometer Array, this fraction can be increased to about 23.9%. |\n",
       "|<p style=\"color:green\"> **ERROR** </p>| <p style=\"color:green\">affiliation error: mpia.affiliation_verifications: 'Heidelberg' keyword not found.</p> |"
      ],
      "text/plain": [
       "<IPython.core.display.Markdown object>"
      ]
     },
     "metadata": {},
     "output_type": "display_data"
    },
    {
     "data": {
      "text/markdown": [
       "\n",
       "|||\n",
       "|---:|:---|\n",
       "| [![arXiv](https://img.shields.io/badge/arXiv-arXiv:2301.06515-b31b1b.svg)](https://arxiv.org/abs/arXiv:2301.06515) | **Gravitational Waves from a Core g-Mode in Supernovae as Probes of the  High-Density Equation of State**  |\n",
       "|| Pia Jakobus, et al. -- incl., <mark>Bernhard Müller</mark>, <mark>Alexander Heger</mark> |\n",
       "|*Appeared on*| *2023-01-18*|\n",
       "|*Comments*| *Submitted to Physical Review Letters on January 17th*|\n",
       "|**Abstract**| Using relativistic supernova simulations of massive progenitor stars with a quark-hadron equation of state (EoS) and a purely hadronic EoS, we identify a distinctive feature in the gravitational-wave signal that originates from a buoyancy-driven mode (g-mode) below the proto-neutron star convection zone. The mode frequency lies in the range $200\\lesssim f\\lesssim 800\\,\\text{Hz}$ and decreases with time. As the mode lives in the core of the proto-neutron star, its frequency and power are highly sensitive to the EoS, in particular the sound speed around twice saturation density. |\n",
       "|<p style=\"color:green\"> **ERROR** </p>| <p style=\"color:green\">affiliation error: mpia.affiliation_verifications: 'Heidelberg' keyword not found.</p> |"
      ],
      "text/plain": [
       "<IPython.core.display.Markdown object>"
      ]
     },
     "metadata": {},
     "output_type": "display_data"
    },
    {
     "data": {
      "text/markdown": [
       "\n",
       "|||\n",
       "|---:|:---|\n",
       "| [![arXiv](https://img.shields.io/badge/arXiv-arXiv:2301.06562-b31b1b.svg)](https://arxiv.org/abs/arXiv:2301.06562) | **The Swansong of the Galactic Center Source X7: An Extreme Example of  Tidal Evolution near the Supermassive Black Hole**  |\n",
       "|| Anna Ciurlo, et al. -- incl., <mark>Aurelien Hees</mark> |\n",
       "|*Appeared on*| *2023-01-18*|\n",
       "|*Comments*| *accepted by ApJ, 20 pages, 16 figures*|\n",
       "|**Abstract**| We present two decades of new high-angular-resolution near-infrared data from the W. M. Keck Observatory that reveal extreme evolution in X7, an elongated dust and gas feature, presently located half an arcsecond from the Galactic Center supermassive black hole. With both spectro-imaging observations of Br-{\\gamma} line-emission and Lp (3.8 {\\mu}m) imaging data, we provide the first estimate of its orbital parameters and quantitative characterization of the evolution of its morphology and mass. We find that the leading edge of X7 appears to be on a mildly eccentric (e~0.3), relatively short-period (170 years) orbit and is headed towards periapse passage, estimated to occur in ~2036. Furthermore, our kinematic measurements rule out the earlier suggestion that X7 is associated with the stellar source S0-73 or with any other point source that has overlapped with X7 during our monitoring period. Over the course of our observations, X7 has (1) become more elongated, with a current length-to-width ratio of 9, (2) maintained a very consistent long-axis orientation (position angle of 50 deg), (3) inverted its radial velocity differential from tip to tail from -50 to +80 km/sec, and (4) sustained its total brightness (12.8 Lp magnitudes at the leading edge) and color temperature (425 K), which suggest a constant mass of ~50 MEarth. We present a simple model showing that these results are compatible with the expected effect of tidal forces exerted on it by the central black hole and we propose that X7 is the gas and dust recently ejected from a grazing collision in a binary system. |\n",
       "|<p style=\"color:green\"> **ERROR** </p>| <p style=\"color:green\">affiliation error: mpia.affiliation_verifications: 'Heidelberg' keyword not found.</p> |"
      ],
      "text/plain": [
       "<IPython.core.display.Markdown object>"
      ]
     },
     "metadata": {},
     "output_type": "display_data"
    },
    {
     "data": {
      "text/markdown": [
       "\n",
       "|||\n",
       "|---:|:---|\n",
       "| [![arXiv](https://img.shields.io/badge/arXiv-arXiv:2301.06564-b31b1b.svg)](https://arxiv.org/abs/arXiv:2301.06564) | **Bondi-Hoyle-Lyttleton accretion onto a rotating black hole with  ultralight scalar hair**  |\n",
       "|| Cruz-Osorio Alejandro, et al. -- incl., <mark>Herdeiro Carlos</mark> |\n",
       "|*Appeared on*| *2023-01-18*|\n",
       "|*Comments*| *14 pages, 3 tables, 10 figures. Submitted to PRD*|\n",
       "|**Abstract**| We present a numerical study of relativistic Bondi-Hoyle-Lyttleton (BHL) accretion onto an asymptotically flat black hole with synchronized hair. The hair is sourced by an ultralight, complex scalar field, minimally coupled to Einstein's gravity. Our simulations consider a supersonic flow parametrized by the asymptotic values of the fluid quantities and a sample of hairy black holes with different masses, angular momenta, and amount of scalar hair. For all models, steady-state BHL accretion solutions are attained that are characterized by the presence of a shock-cone and a stagnation point downstream. For the models of the sample with the largest component of scalar field, the shock-cone envelops fully the black hole, transitioning into a bow-shock, and the stagnation points move further away downstream. Analytical expressions for the mass accretion rates are derived, which can be used to analyze black-hole formation scenarios in the presence of ultralight scalar fields. The formation of a shock-cone leads to regions where sound waves can be trapped and resonant oscillations excited. We measure the frequencies of such quasi-periodic oscillations and point out a possible association with quasi-periodic oscillations in the X-ray light curve of Sgr~A* and microquasars. |\n",
       "|<p style=\"color:green\"> **ERROR** </p>| <p style=\"color:green\">affiliation error: mpia.affiliation_verifications: 'Heidelberg' keyword not found.</p> |"
      ],
      "text/plain": [
       "<IPython.core.display.Markdown object>"
      ]
     },
     "metadata": {},
     "output_type": "display_data"
    },
    {
     "data": {
      "text/markdown": [
       "\n",
       "|||\n",
       "|---:|:---|\n",
       "| [![arXiv](https://img.shields.io/badge/arXiv-arXiv:2301.06599-b31b1b.svg)](https://arxiv.org/abs/arXiv:2301.06599) | **gyre_tides: Modeling binary tides within the gyre stellar oscillation  code**  |\n",
       "|| Meng Sun, R. H. D. Townsend, <mark>Zhao Guo</mark> |\n",
       "|*Appeared on*| *2023-01-18*|\n",
       "|*Comments*| *15 pages, 8 figures, accepted for publication in ApJ; This new functionality, along with GYRE version 7.0, will be release in a few days from today (Jan 16th, 2013)*|\n",
       "|**Abstract**| We describe new functionality in the GYRE stellar oscillation code for modeling tides in binary systems. Using a multipolar expansion in space and a Fourier-series expansion in time, we decompose the tidal potential into a superposition of partial tidal potentials. The equations governing the small-amplitude response of a spherical star to an individual partial potential are the linear, non-radial, non-adiabatic oscillation equations with an extra inhomogeneous forcing term. We introduce a new executable, gyre_tides, that directly solves these equations within the GYRE numerical framework. Applying this to selected problems, we find general agreement with results in the published literature but also uncover some differences between our direct solution methodology and the modal decomposition approach adopted by many authors. In its present form gyre_tides can model equilibrium and dynamical tides of aligned binaries in which radiative diffusion dominates the tidal dissipation (typically, intermediate and high-mass stars on the main sequence). Milestones for future development include incorporation of other dissipation processes, spin-orbit misalignment, and the Coriolis force arising from rotation. |\n",
       "|<p style=\"color:green\"> **ERROR** </p>| <p style=\"color:green\">affiliation error: mpia.affiliation_verifications: 'Heidelberg' keyword not found.</p> |"
      ],
      "text/plain": [
       "<IPython.core.display.Markdown object>"
      ]
     },
     "metadata": {},
     "output_type": "display_data"
    },
    {
     "data": {
      "text/markdown": [
       "\n",
       "|||\n",
       "|---:|:---|\n",
       "| [![arXiv](https://img.shields.io/badge/arXiv-arXiv:2301.06643-b31b1b.svg)](https://arxiv.org/abs/arXiv:2301.06643) | **Mass outflow from the symbiotic binary RS Oph during its 2021 outburst**  |\n",
       "|| N. A. Tomov, et al. -- incl., <mark>T. R. Bonev</mark> |\n",
       "|*Appeared on*| *2023-01-18*|\n",
       "|*Comments*| *8 pages, 2 figures; accepted in Astronomy & Astrophysics*|\n",
       "|**Abstract**| RS Oph is a symbiotic recurrent nova containing a massive white dwarf with heavy mass loss during activity. In August 2021, it underwent its seventh optical eruption since the end of the 19th century. The goal of this work is to analyse the structure of the outflows from the outbursting object. Based on broad-band $U$, $B$, $V$, $R_{\\rm C}$, and $I_{\\rm C}$ photometry and high-resolution H$\\alpha$ spectroscopy obtained at days 11--15 of the outburst, we derived some parameters of the system's components and outflows and their changes during our observation. The effective temperature of a warm shell (pseudophotosphere) produced by the ejected material and occulting the hot component of the system was $T_{eff}=15000\\pm1000$ K and the electron temperature of the nebula was $T_{e}=17000\\pm3000$ K throughout the observations. The effective radius of the pseudophotosphere was $R_{ eff}=13.3\\pm2.0$ R$_{\\odot}$ and the emission measure of the nebula $EM=(9.50\\pm0.59) $10$^{61}$ cm$^{-3}$ for day 11 and $R_{eff}=10.3\\pm1.6$ R$_{\\odot}$ and $EM=(5.60\\pm0.35)$10$^{61}$ cm$^{-3}$ for day 15. To provide this emission measure, the bolometric luminosity of the outbursting object must exceed its Eddington limit. The mass-loss rate of the outbursting object through its wind is much greater than through its streams. The total rate (from wind + streams) was less than $(4-5)$ 10$^{-5}$ (d/1.6kpc)$^{3/2}$ M$_{\\odot}$yr$^{-1}$. The streams are not highly collimated. Their mean outflowing velocities are $\\upsilon_{b}=-3680\\pm60$ km s$^{-1}$ for the approaching stream and $\\upsilon_{r}=3520\\pm50$ km s$^{-1}$ for the receding one if the orbit inclination is 50$^\\circ$. |\n",
       "|<p style=\"color:green\"> **ERROR** </p>| <p style=\"color:green\">affiliation error: mpia.affiliation_verifications: 'Heidelberg' keyword not found.</p> |"
      ],
      "text/plain": [
       "<IPython.core.display.Markdown object>"
      ]
     },
     "metadata": {},
     "output_type": "display_data"
    },
    {
     "data": {
      "text/markdown": [
       "\n",
       "|||\n",
       "|---:|:---|\n",
       "| [![arXiv](https://img.shields.io/badge/arXiv-arXiv:2301.06677-b31b1b.svg)](https://arxiv.org/abs/arXiv:2301.06677) | **Towards $21$-cm intensity mapping at $z=2.28$ with uGMRT using the  tapered gridded estimator II: Cross-polarization power spectrum**  |\n",
       "|| Kh. Md. Asif Elahi, et al. -- incl., <mark>Abhik Ghosh</mark> |\n",
       "|*Appeared on*| *2023-01-18*|\n",
       "|*Comments*| *16 pages, 13 figures, accepted for publication in MNRAS*|\n",
       "|**Abstract**| Neutral hydrogen ($\\rm{HI}$) $21$-cm intensity mapping (IM) offers an efficient technique for mapping the large-scale structures in the universe. We introduce the 'Cross' Tapered Gridded Estimator (Cross TGE), which cross-correlates two cross-polarizations (RR and LL) to estimate the multi-frequency angular power spectrum (MAPS) $C_{\\ell}(\\Delta\\nu)$. We expect this to mitigate several effects like noise bias, calibration errors etc., which affect the 'Total' TGE which combines the two polarizations. Here we apply the Cross TGE on a $24.4 \\,\\rm{MHz}$ bandwidth uGMRT Band $3$ data centred at $432.8 \\,\\rm{MHz}$ aiming $\\rm{HI}$ IM at $z=2.28$. The measured $C_{\\ell}(\\Delta\\nu)$ is modelled to yield maximum likelihood estimates of the foregrounds and the spherical power spectrum $P(k)$ in several $k$ bins. Considering the mean squared brightness temperature fluctuations, we report a $2\\sigma$ upper limit $\\Delta_{UL}^{2}(k) \\le (58.67)^{2} \\, {\\rm mK}^{2}$ at $k=0.804 \\, {\\rm Mpc}^{-1}$ which is a factor of $5.2$ improvement on our previous estimate based on the Total TGE. Assuming that the $\\rm{HI}$ traces the underlying matter distribution, we have modelled $C_{\\ell}(\\Delta\\nu)$ to simultaneously estimate the foregrounds and $[\\Omega_{\\rm{HI}} b_{\\rm{HI}}] $ where $\\Omega_{\\rm{HI}}$ and $b_{\\rm{HI}}$ are the $\\rm{HI}$ density and linear bias parameters respectively. We obtain a best fit value of $[\\Omega_{\\rm{HI}}b_{\\rm{HI}}]^2 = 7.51\\times 10^{-4} \\pm 1.47\\times 10^{-3}$ which is consistent with noise. Although the $2\\sigma$ upper limit $[\\Omega_{\\rm{HI}}b_{\\rm{HI}}]_{UL} \\leq 0.061$ is $\\sim 50$ times larger than the expected value, this is a considerable improvement over earlier works at this redshift. |\n",
       "|<p style=\"color:green\"> **ERROR** </p>| <p style=\"color:green\">affiliation error: mpia.affiliation_verifications: 'Heidelberg' keyword not found.</p> |"
      ],
      "text/plain": [
       "<IPython.core.display.Markdown object>"
      ]
     },
     "metadata": {},
     "output_type": "display_data"
    },
    {
     "data": {
      "text/markdown": [
       "\n",
       "|||\n",
       "|---:|:---|\n",
       "| [![arXiv](https://img.shields.io/badge/arXiv-arXiv:2301.06707-b31b1b.svg)](https://arxiv.org/abs/arXiv:2301.06707) | **Progression of Digital-Receiver Architecture: From MWA to SKA1-Low,and  beyond**  |\n",
       "|| Girish B. S., et al. -- incl., <mark>Mekhala Muley</mark> |\n",
       "|*Appeared on*| *2023-01-18*|\n",
       "|*Comments*| *18 pages, 4 figures, Accepted for publication in the special issue (2023) on the SKA from the JoAA*|\n",
       "|**Abstract**| Backed by advances in digital electronics, signal processing, computation, and storage technologies, aperture arrays, which had strongly influenced the design of telescopes in the early years of radio astronomy, have made a comeback. Amid all these developments, an international effort to design and build the world's largest radio telescope, the Square Kilometre Array (SKA), is ongoing. With its vast collecting area of 1 sq-km, the SKA is envisaged to provide unsurpassed sensitivity and leverage technological advances to implement a complex receiver to provide a large field of view through multiple beams on the sky. Many pathfinders and precursor aperture array telescopes for the SKA, operating in the frequency range of 10-300 MHz, have been constructed and operationalized to obtain valuable feedback on scientific, instrumental, and functional aspects. This review article looks explicitly into the progression of digital-receiver architecture from the Murchison Widefield Array (precursor) to the SKA1-Low. It highlights the technological advances in analog-to-digital converters (ADCs),field-programmable gate arrays (FPGAs), and central processing unit-graphics processing unit (CPU-GPU) hybrid platforms around which complex digital signal processing systems implement efficient channelizers, beamformers, and correlators. The article concludes with a preview of the design of a new generation signal processing platform based on radio frequency system-on-chip (RFSoC). |\n",
       "|<p style=\"color:green\"> **ERROR** </p>| <p style=\"color:green\">affiliation error: mpia.affiliation_verifications: 'Heidelberg' keyword not found.</p> |"
      ],
      "text/plain": [
       "<IPython.core.display.Markdown object>"
      ]
     },
     "metadata": {},
     "output_type": "display_data"
    },
    {
     "data": {
      "text/markdown": [
       "\n",
       "|||\n",
       "|---:|:---|\n",
       "| [![arXiv](https://img.shields.io/badge/arXiv-arXiv:2301.06722-b31b1b.svg)](https://arxiv.org/abs/arXiv:2301.06722) | **Joint constraints on cosmological parameters using future multi-band  gravitational wave standard siren observations**  |\n",
       "|| Shang-Jie Jin, et al. -- incl., <mark>Jing-Fei Zhang</mark>, <mark>Xin Zhang</mark> |\n",
       "|*Appeared on*| *2023-01-18*|\n",
       "|*Comments*| *10 pages, 5 figures*|\n",
       "|**Abstract**| Gravitational waves (GWs) from the compact binary coalescences can be used as standard sirens to explore the cosmic expansion history. In the next decades, it is anticipated that we could obtain the multi-band GW standard siren data (from nanohertz to a few hundred hertz), which are expected to play an important role in cosmological parameter estimation. In this work, we give for the first time the joint constraints on cosmological parameters using the future multi-band GW standard siren observations. We simulate the multi-band GW standard sirens based on the SKA-era pulsar timing array (PTA), the Taiji observatory, and the Cosmic Explorer (CE) to perform cosmological analysis. In the $\\Lambda$CDM model, we find that the joint PTA+Taiji+CE data could provide a tight constraint on the Hubble constant with a $0.5\\%$ precision. Moreover, PTA+Taiji+CE could break the cosmological parameter degeneracies generated by CMB, especially in the dynamical dark energy models. When combining the PTA+Taiji+CE data with the CMB data, the constraint precisions of $\\Omega_{\\rm m}$ and $H_0$ are $1.0\\%$ and $0.3\\%$, meeting the standard of precision cosmology. The joint CMB+PTA+Taiji+CE data give $\\sigma(w)=0.028$ in the $w$CDM model and $\\sigma(w_0)=0.11$ and $\\sigma(w_a)=0.32$ in the $w_0w_a$CDM model, which are comparable with or close to the latest constraint results by the CMB+BAO+SN. In conclusion, it is worth expecting to use the future multi-band GW observations to explore the nature of dark energy and measure the Hubble constant. |\n",
       "|<p style=\"color:green\"> **ERROR** </p>| <p style=\"color:green\">affiliation error: mpia.affiliation_verifications: 'Heidelberg' keyword not found.</p> |"
      ],
      "text/plain": [
       "<IPython.core.display.Markdown object>"
      ]
     },
     "metadata": {},
     "output_type": "display_data"
    },
    {
     "data": {
      "text/markdown": [
       "\n",
       "|||\n",
       "|---:|:---|\n",
       "| [![arXiv](https://img.shields.io/badge/arXiv-arXiv:2301.06743-b31b1b.svg)](https://arxiv.org/abs/arXiv:2301.06743) | **On the Gamma-Ray Emission of the Andromeda Galaxy M31**  |\n",
       "|| Yi Xing, Zhongxiang Wang, Dong Zheng, <mark>Jie Li</mark> |\n",
       "|*Appeared on*| *2023-01-18*|\n",
       "|*Comments*| *5 pages, 2 figures, 2 tables, submitted to ApJL*|\n",
       "|**Abstract**| Using the $\\gamma$-ray data obtained with the Large Area Telescope (LAT) onboard {\\it the Fermi Gamma-ray Space Telescope (Fermi)} for $\\sim$14 years, we examine the high energy emission emanating from the center of the Andromeda Galaxy M31. Different from previously reported results, which show a seemingly extended source, we instead find two individual point sources, one consistent with being at the center and one 0\\fdg4 south-east of the center. The emission of the former is well described using a Log-Parabola model, similar to those of previous studies, and that of the latter can be fitted with a power law. We discuss the possible origins for the two sources. M31's central source, now consistent with being a point source, necessitates a revisit of its previously discussed originations with this new property taken into consideration, in particular those cosmic rays or dark matter scenarios involving extended source distributions. The SE source appears to have a projected distance of $\\sim$6\\,kpc from M31's center, and the investigation is required as to whether it is a source locally associated with M31, or is instead a background extra-galactic one. |\n",
       "|<p style=\"color:green\"> **ERROR** </p>| <p style=\"color:green\">affiliation error: mpia.affiliation_verifications: 'Heidelberg' keyword not found.</p> |"
      ],
      "text/plain": [
       "<IPython.core.display.Markdown object>"
      ]
     },
     "metadata": {},
     "output_type": "display_data"
    },
    {
     "data": {
      "text/markdown": [
       "\n",
       "|||\n",
       "|---:|:---|\n",
       "| [![arXiv](https://img.shields.io/badge/arXiv-arXiv:2301.06811-b31b1b.svg)](https://arxiv.org/abs/arXiv:2301.06811) | **Redshift Evolution of the Electron Density in the ISM at $z\\sim 0-9$  Uncovered with JWST/NIRSpec Spectra and Line-Spread Function Determinations**  |\n",
       "|| Yuki Isobe, et al. -- incl., <mark>Yechi Zhang</mark> |\n",
       "|*Appeared on*| *2023-01-18*|\n",
       "|*Comments*| *Submitted to ApJ*|\n",
       "|**Abstract**| We present electron densities $n_{\\rm e}$ in the inter-stellar medium (ISM) of star-forming galaxies at $z=4-9$ observed by the JWST/NIRSpec GLASS, ERO, and CEERS programs. We carefully evaluate line-spread functions of the NIRSpec instrument as a function of wavelength with the calibration data of a planetary nebula taken onboard, and obtain secure [OII]$\\lambda\\lambda$3726,3729 doublet fluxes for 14 galaxies at $z=4.02-8.68$ falling on the star-formation main sequence with the NIRSpec high and medium resolution spectra. We thus derive the electron densities of singly-ionized oxygen nebulae with the standard $n_{\\rm e}$ indicator of [OII] doublet, and find that the electron densities of the $z=4-9$ galaxies are $n_{\\rm e}\\gtrsim 300$ cm$^{-3}$ significantly higher than those of low-$z$ galaxies at a given stellar mass, star-formation rate (SFR), and specific SFR. Interestingly, typical electron densities of singly ionized nebulae increase from $z=0$ to $z=1-3$ and $z=4-9$, which is approximated by the evolutionary relation of $n_{\\rm e}\\propto(1+z)^{p}$ with $p\\sim 1-2$. Although it is not obvious that the ISM property of $n_{\\rm e}$ is influenced by global galaxy properties, these results may suggest that nebula densities of high-$z$ galaxies are generally high due to the compact morphologies of high-$z$ galaxies evolving by $r_{\\rm e}$ approximately proportional to $(1+z)^{-1}$ ($r_{\\rm vir} \\propto (1+z)^{-1}$) for a given stellar (halo) mass whose inverse square corresponds to the $p\\sim 2$ evolutionary relation. The $p\\sim 1-2$ evolutionary relation can be explained by a combination of the compact morphology and the reduction of $n_{\\rm e}$ due to the high electron temperature of the high-$z$ metal poor nebulae. |\n",
       "|<p style=\"color:green\"> **ERROR** </p>| <p style=\"color:green\">affiliation error: mpia.affiliation_verifications: 'Heidelberg' keyword not found.</p> |"
      ],
      "text/plain": [
       "<IPython.core.display.Markdown object>"
      ]
     },
     "metadata": {},
     "output_type": "display_data"
    },
    {
     "data": {
      "text/markdown": [
       "\n",
       "|||\n",
       "|---:|:---|\n",
       "| [![arXiv](https://img.shields.io/badge/arXiv-arXiv:2301.06947-b31b1b.svg)](https://arxiv.org/abs/arXiv:2301.06947) | **Constraining minimally extended varying speed of light by cosmological  chronometers**  |\n",
       "|| <mark>Seokcheon Lee</mark> |\n",
       "|*Appeared on*| *2023-01-18*|\n",
       "|*Comments*| *13 pages, 1 figure,. arXiv admin note: text overlap with arXiv:2011.09274*|\n",
       "|**Abstract**| At least one dimensionless physical constant (i.e., a physically observable) must change for the cosmic time to make the varying speed of light (VSL) models phenomenologically feasible. Various physical constants and quantities also should be functions of cosmic time to satisfy all known local laws of physics, including special relativity, thermodynamics, and electromagnetism. Adiabaticity is another necessary condition to keep the homogeneity and isotropy of three-dimensional space [1]. To be a self-consistent theory, one should consider cosmic evolutions of physical constants and quantities when one derives Einstein's field equations and their solutions. All these conditions are well satisfied in the so-called minimally extended varying speed of light (meVSL) model [2]. Unlike other VSL models, we show that the redshift-drift formula of the meVSL model is the same as standard model one. Therefore, we cannot use this as an experimental tool to verify the meVSL. Instead, one can still use the cosmological chronometers (CC) as a model-independent test of the meVSL. The current CC data cannot distinguish meVSL from the standard model (SM) when we adopt the best-fit present values of the Hubble parameter and matter density contrast from the Planck mission. However, the CC data prefer the meVSL when we choose Pantheon's best-fit values of them. |\n",
       "|<p style=\"color:green\"> **ERROR** </p>| <p style=\"color:green\">affiliation error: mpia.affiliation_verifications: 'Heidelberg' keyword not found.</p> |"
      ],
      "text/plain": [
       "<IPython.core.display.Markdown object>"
      ]
     },
     "metadata": {},
     "output_type": "display_data"
    },
    {
     "data": {
      "text/markdown": [
       "\n",
       "|||\n",
       "|---:|:---|\n",
       "| [![arXiv](https://img.shields.io/badge/arXiv-arXiv:2301.07029-b31b1b.svg)](https://arxiv.org/abs/arXiv:2301.07029) | **Stellar Initial Mass Function Varies with Metallicities and Time**  |\n",
       "|| <mark>Jiadong Li</mark>, et al. -- incl., <mark>Chao Liu</mark>, <mark>Zhi-Yu Zhang</mark>, <mark>Jiao Li</mark> |\n",
       "|*Appeared on*| *2023-01-18*|\n",
       "|*Comments*| *Main text (3 Figures, 6 pages) and Supplementary Information (16 pages, 6 Figures). Nature accepted*|\n",
       "|**Abstract**| Most structural and evolutionary properties of galaxies strongly rely on the stellar initial mass function (IMF), namely the distribution of the stellar mass formed in each episode of star formation. As the IMF shapes the stellar population in all stellar systems, it turns out to become one of the most fundamental concepts of modern astronomy. Both constant and variable IMFs across different environments have been claimed despite a large number of theoretical and observational efforts. However, the measurement of the IMF in Galactic stellar populations has been limited by the relatively small number of photometrically observed stars, leading to high uncertainties. Here we report a star-counting result based on ~93,000 spectroscopically observed M-dwarf stars, an order of magnitude more than previous studies, in the 100--300 parsec (pc) Solar neighbourhood. We find unambiguous evidence of a variable IMF that depends on both metallicity and stellar age. Specifically, the stellar population formed at the early time contains fewer low-mass stars compared to the canonical IMF, independent of stellar metallicities. In present days, on the other hand, the proportion of low-mass stars increases with stellar metallicity. The variable abundance of low-mass stars in our Milky Way establishes a powerful benchmark for models of star formation and can heavily impact results in Galactic chemical enrichment modelling, mass estimation of galaxies, and planet formation efficiency. |\n",
       "|<p style=\"color:green\"> **ERROR** </p>| <p style=\"color:green\">affiliation error: mpia.affiliation_verifications: 'Heidelberg' keyword not found.</p> |"
      ],
      "text/plain": [
       "<IPython.core.display.Markdown object>"
      ]
     },
     "metadata": {},
     "output_type": "display_data"
    },
    {
     "data": {
      "text/markdown": [
       "\n",
       "|||\n",
       "|---:|:---|\n",
       "| [![arXiv](https://img.shields.io/badge/arXiv-arXiv:2301.07044-b31b1b.svg)](https://arxiv.org/abs/arXiv:2301.07044) | **Constraining uber gravity with recent observations and elucidating the  $H_0$ problem**  |\n",
       "|| Gustavo A. Concha Valdez, et al. -- incl., <mark>A. Hernández-Almada</mark> |\n",
       "|*Appeared on*| *2023-01-18*|\n",
       "|*Comments*| *9 pages, 4 figures*|\n",
       "|**Abstract**| This paper studies both $\\Lambda$CDM and CDM models under the \\\"uber gravity theory, named \\\"u$\\Lambda$CDM and \\\"uCDM respectively. We report bounds over their parameter phase-space using several cosmological data, in particular, the recent Pantheon+ sample. Based on the joint analysis, the best fit value of the \\\"uber characteristic parameter is $z_\\oplus = 0.028^{+0.036}_{-0.020}$ and $z_\\oplus = 0.960^{+0.031}_{-0.030}$ at 68\\% confidence level for \\\"u$\\Lambda$CDM and \\\"uCDM respectively. Furthermore, we find that the $\\mathbb{H}0(z)$ diagnostic suggests the $H_0$ tension is not alleviated. Finally, both models are statistically compared with $\\Lambda$CDM through the Akaike and Bayesian information criteria, which suggest that there is a modest evidence against for \\\"u$\\Lambda$CDM, a strongest evidence for \\\"uCDM, against for the joint analysis, but both \\\"uber gravity models and $\\Lambda$CDM are equally preferred for most of the single samples. |\n",
       "|<p style=\"color:green\"> **ERROR** </p>| <p style=\"color:green\">affiliation error: mpia.affiliation_verifications: 'Heidelberg' keyword not found.</p> |"
      ],
      "text/plain": [
       "<IPython.core.display.Markdown object>"
      ]
     },
     "metadata": {},
     "output_type": "display_data"
    },
    {
     "data": {
      "text/markdown": [
       "\n",
       "|||\n",
       "|---:|:---|\n",
       "| [![arXiv](https://img.shields.io/badge/arXiv-arXiv:2301.06253-b31b1b.svg)](https://arxiv.org/abs/arXiv:2301.06253) | **Switching integrators reversibly in the astrophysical $N$-body problem**  |\n",
       "|| <mark>David M. Hernandez</mark>, <mark>Walter Dehnen</mark> |\n",
       "|*Appeared on*| *2023-01-18*|\n",
       "|*Comments*| *10 pages, 8 figures, submitted to MNRAS, comments welcome*|\n",
       "|**Abstract**| We present a simple algorithm to switch between $N$-body time integrators in a reversible way. We apply it to planetary systems undergoing arbitrarily close encounters and highly eccentric orbits, but the potential applications are broader. Upgrading an ordinary non-reversible switching integrator to a reversible one is straightforward and introduces no appreciable computational burden in our tests. Our method checks if the integrator during the time step violates a time-symmetric selection condition and redoes the step if necessary. In our experiments a few percent of steps would have violated the condition without our corrections. By eliminating them the algorithm avoids long-term error accumulation, of several orders magnitude in some cases. |\n",
       "|<p style=\"color:green\"> **ERROR** </p>| <p style=\"color:green\">affiliation error: mpia.affiliation_verifications: 'Planck' keyword not found.</p> |"
      ],
      "text/plain": [
       "<IPython.core.display.Markdown object>"
      ]
     },
     "metadata": {},
     "output_type": "display_data"
    },
    {
     "data": {
      "text/markdown": [
       "\n",
       "|||\n",
       "|---:|:---|\n",
       "| [![arXiv](https://img.shields.io/badge/arXiv-arXiv:2301.06350-b31b1b.svg)](https://arxiv.org/abs/arXiv:2301.06350) | **A First Look at the JWST MIRI/LRS Phase Curve of WASP-43b**  |\n",
       "|| Taylor J. Bell, et al. -- incl., <mark>Laura Kreidberg</mark> |\n",
       "|*Appeared on*| *2023-01-18*|\n",
       "|*Comments*| **|\n",
       "|**Abstract**| We observed a full-orbit phase curve of the hot Jupiter WASP-43b with MIRI/LRS as part of the Transiting Exoplanet Community Early Release Science Program. Here we report preliminary findings for the instrument performance from the team's MIRI Working Group. Overall we find that MIRI's performance for phase curve observations is excellent, with a few minor caveats. The key takeaways for Cycle 2 planning with MIRI/LRS are: (1) long-duration observations (> 24 hours) have now been successfully executed; (2) for phase curves, we recommend including a one-hour burn-in period prior to taking science data to mitigate the effects of the ramp systematic; and (3) we do not yet recommend partial phase curve observations. In addition, we also find that: the position of the spectrum on the detector is stable to within 0.03 pixels over the full 26.5-hour observation; the light curves typically show a systematic downward ramp that is strongest for the first 30 minutes, but continues to decay for hours; from 10.6-11.8 microns, the ramp effect has remarkably different behavior, possibly due to a different illumination history for the affected region of the detector; after trimming the integrations most affected by the initial ramps and correcting the remaining systematics with analytic models, we obtain residuals to the light-curve fits that are typically within 25% of the photon noise limit for 0.5-micron spectroscopic bins; non-linearity correction is not a significant source of additional noise for WASP-43, though it may be an issue for brighter targets; the gain value of 5.5 electrons/DN currently on CRDS and JDox is known to be incorrect, and the current best estimate for the gain is approximately 3.1 electrons/DN; new reference files for the JWST calibration pipeline reflecting these findings are under development at STScI. |\n",
       "|<p style=\"color:red\"> **ERROR** </p>| <p style=\"color:red\">latex error not a gzip file</p> |"
      ],
      "text/plain": [
       "<IPython.core.display.Markdown object>"
      ]
     },
     "metadata": {},
     "output_type": "display_data"
    },
    {
     "data": {
      "text/markdown": [
       "\n",
       "|||\n",
       "|---:|:---|\n",
       "| [![arXiv](https://img.shields.io/badge/arXiv-arXiv:2301.06709-b31b1b.svg)](https://arxiv.org/abs/arXiv:2301.06709) | **Satellite observations of the Alfvénic Transition from Weak to Strong  Magnetohydrodynamic Turbulence**  |\n",
       "|| <mark>Siqi Zhao</mark>, et al. -- incl., <mark>Terry Z. Liu</mark> |\n",
       "|*Appeared on*| *2023-01-18*|\n",
       "|*Comments*| *submitted; 24 pages; 4 figures*|\n",
       "|**Abstract**| Plasma turbulence is a ubiquitous dynamical process that transfers energy across many spatial and temporal scales in astrophysical and space plasma systems. Although the theory of anisotropic magnetohydrodynamic (MHD) turbulence has successfully described phenomena in nature, its core prediction of an Alfvenic transition from weak to strong MHD turbulence when energy cascades from large to small scales has not been observationally confirmed. Here we report the first observational evidence for the Alfvenic weak-to-strong transition in MHD turbulence in the terrestrial magnetosheath using the four Cluster spacecraft. The observed transition indicates the universal existence of strong turbulence regardless of the initial level of MHD fluctuations. Moreover, the observations demonstrate that the nonlinear interactions of MHD turbulence play a crucial role in the energy cascade, widening the directions of the energy cascade and broadening the fluctuating frequencies. Our work takes a critical step toward understanding the complete picture of turbulence cascade, connecting the weak and strong MHD turbulence systems. It will have broad implications in star formation, energetic particle transport, turbulent dynamo, and solar corona or solar wind heating. |\n",
       "|<p style=\"color:red\"> **ERROR** </p>| <p style=\"color:red\">latex error not a gzip file</p> |"
      ],
      "text/plain": [
       "<IPython.core.display.Markdown object>"
      ]
     },
     "metadata": {},
     "output_type": "display_data"
    },
    {
     "data": {
      "text/markdown": [
       "\n",
       "|||\n",
       "|---:|:---|\n",
       "| [![arXiv](https://img.shields.io/badge/arXiv-arXiv:2301.06779-b31b1b.svg)](https://arxiv.org/abs/arXiv:2301.06779) | **KMT-2022-BLG-0440Lb: A New $q < 10^{-4}$ Microlensing Planet with the  Central-Resonant Caustic Degeneracy Broken**  |\n",
       "|| <mark>Jiyuan Zhang</mark>, et al. -- incl., <mark>Andrew Gould</mark>, <mark>Seung-Lee Kim</mark>, <mark>Chung-Uk Lee</mark>, <mark>Dong-Joo Lee</mark>, <mark>Yongseok Lee</mark>, <mark>Zhuokai Liu</mark> |\n",
       "|*Appeared on*| *2023-01-18*|\n",
       "|*Comments*| *to be submitted to MNRAS*|\n",
       "|**Abstract**| We present the observations and analysis of a high-magnification microlensing planetary event, KMT-2022-BLG-0440, for which the weak and short-lived planetary signal was covered by both the KMTNet survey and follow-up observations. The binary-lens models with a central caustic provide the best fits, with a planet/host mass ratio, $q = 0.75$--$1.00 \\times 10^{-4}$ at $1\\sigma$. The binary-lens models with a resonant caustic and a brown-dwarf mass ratio are both excluded by $\\Delta\\chi^2 > 70$. The binary-source model can fit the anomaly well but is rejected by the ``color argument'' on the second source. From Bayesian analyses, it is estimated that the host star is likely a K or M dwarf located in the Galactic disk, the planet probably has a Neptune-mass, and the projected planet-host separation is $1.9^{+0.6}_{-0.7}$ or $4.6^{+1.4}_{-1.7}$ au, subject to the close/wide degeneracy. This is the third $q < 10^{-4}$ planet from a high-magnification planetary signal ($A \\gtrsim 65$). Together with another such planet, KMT-2021-BLG-0171Lb, the ongoing follow-up program for the KMTNet high-magnification events has demonstrated its ability in detecting high-magnification planetary signals for $q < 10^{-4}$ planets, which are challenging for the current microlensing surveys. |\n",
       "|<p style=\"color:red\"> **ERROR** </p>| <p style=\"color:red\">latex error not a gzip file</p> |"
      ],
      "text/plain": [
       "<IPython.core.display.Markdown object>"
      ]
     },
     "metadata": {},
     "output_type": "display_data"
    }
   ],
   "source": [
    "import datetime\n",
    "today = str(datetime.date.today())\n",
    "logfile = f\"_build/html/logs/log-{today}.md\"\n",
    "\n",
    "\n",
    "with open(logfile, 'w') as logs:\n",
    "    # Success\n",
    "    logs.write(f'# Arxiv on Deck 2: Logs - {today}\\n\\n')\n",
    "    logs.write(\"\"\"* Arxiv had {0:,d} new papers\\n\"\"\".format(len(new_papers)))\n",
    "    logs.write(\"\"\"    * {0:,d} with possible author matches\\n\\n\"\"\".format(len(candidates)))\n",
    "    logs.write(\"## Sucessful papers\\n\\n\")\n",
    "    display(Markdown(\"## Successful papers\"))\n",
    "    success = [k[0] for k in documents]\n",
    "    for candid in candidates:\n",
    "        if candid['identifier'].split(':')[-1] in success:\n",
    "            display(candid)\n",
    "            logs.write(candid.generate_markdown_text() + '\\n\\n')\n",
    "\n",
    "    ## failed\n",
    "    logs.write(\"## Failed papers\\n\\n\")\n",
    "    display(Markdown(\"## Failed papers\"))\n",
    "    failed = sorted(failed, key=lambda x: x[1])\n",
    "    current_reason = \"\"\n",
    "    for paper, reason in failed:\n",
    "        if 'affiliation' in reason:\n",
    "            color = 'green'\n",
    "        else:\n",
    "            color = 'red'\n",
    "        data = Markdown(\n",
    "                paper.generate_markdown_text() + \n",
    "                f'\\n|<p style=\"color:{color:s}\"> **ERROR** </p>| <p style=\"color:{color:s}\">{reason:s}</p> |'\n",
    "               )\n",
    "        if reason != current_reason:\n",
    "            logs.write(f'### {reason:s} \\n\\n')\n",
    "            current_reason = reason\n",
    "        logs.write(data.data + '\\n\\n')\n",
    "        \n",
    "        # only display here the important errors (all in logs)\n",
    "        # if color in ('red',):\n",
    "        display(data)"
   ]
  },
  {
   "cell_type": "markdown",
   "id": "472d20ee",
   "metadata": {
    "papermill": {
     "duration": 0.013547,
     "end_time": "2023-01-18T04:25:35.892795",
     "exception": false,
     "start_time": "2023-01-18T04:25:35.879248",
     "status": "completed"
    },
    "tags": []
   },
   "source": [
    "## Export documents\n",
    "\n",
    "We now write the .md files and export relevant images"
   ]
  },
  {
   "cell_type": "code",
   "execution_count": 7,
   "id": "d426aed9",
   "metadata": {
    "execution": {
     "iopub.execute_input": "2023-01-18T04:25:35.921684Z",
     "iopub.status.busy": "2023-01-18T04:25:35.921007Z",
     "iopub.status.idle": "2023-01-18T04:25:35.930269Z",
     "shell.execute_reply": "2023-01-18T04:25:35.929668Z"
    },
    "papermill": {
     "duration": 0.025714,
     "end_time": "2023-01-18T04:25:35.932101",
     "exception": false,
     "start_time": "2023-01-18T04:25:35.906387",
     "status": "completed"
    },
    "tags": []
   },
   "outputs": [],
   "source": [
    "def export_markdown_summary(md: str, md_fname:str, directory: str):\n",
    "    \"\"\"Export MD document and associated relevant images\"\"\"\n",
    "    import os\n",
    "    import shutil\n",
    "    import re\n",
    "\n",
    "    if (os.path.exists(directory) and not os.path.isdir(directory)):\n",
    "        raise RuntimeError(f\"a non-directory file exists with name {directory:s}\")\n",
    "\n",
    "    if (not os.path.exists(directory)):\n",
    "        print(f\"creating directory {directory:s}\")\n",
    "        os.mkdir(directory)\n",
    "\n",
    "    fig_fnames = (re.compile(r'\\[Fig.*\\]\\((.*)\\)').findall(md) + \n",
    "                  re.compile(r'\\<img src=\"([^>\\s]*)\"[^>]*/>').findall(md))\n",
    "    for fname in fig_fnames:\n",
    "        if 'http' in fname:\n",
    "            # No need to copy online figures\n",
    "            continue\n",
    "        destdir = os.path.join(directory, os.path.dirname(fname))\n",
    "        destfname = os.path.join(destdir, os.path.basename(fname))\n",
    "        try:\n",
    "            os.makedirs(destdir)\n",
    "        except FileExistsError:\n",
    "            pass\n",
    "        shutil.copy(fname, destfname)\n",
    "    with open(os.path.join(directory, md_fname), 'w') as fout:\n",
    "        fout.write(md)\n",
    "    print(\"exported in \", os.path.join(directory, md_fname))\n",
    "    [print(\"    + \" + os.path.join(directory,fk)) for fk in fig_fnames]"
   ]
  },
  {
   "cell_type": "code",
   "execution_count": 8,
   "id": "014d04a4",
   "metadata": {
    "execution": {
     "iopub.execute_input": "2023-01-18T04:25:35.960546Z",
     "iopub.status.busy": "2023-01-18T04:25:35.960165Z",
     "iopub.status.idle": "2023-01-18T04:25:36.004518Z",
     "shell.execute_reply": "2023-01-18T04:25:35.994364Z"
    },
    "papermill": {
     "duration": 0.060701,
     "end_time": "2023-01-18T04:25:36.006422",
     "exception": false,
     "start_time": "2023-01-18T04:25:35.945721",
     "status": "completed"
    },
    "tags": []
   },
   "outputs": [
    {
     "name": "stdout",
     "output_type": "stream",
     "text": [
      "exported in  _build/html/2301.05718.md\n",
      "    + _build/html/tmp_2301.05718/./SN2021aefx.png\n",
      "    + _build/html/tmp_2301.05718/./SED.png\n",
      "    + _build/html/tmp_2301.05718/./nebdec.png\n",
      "exported in  _build/html/2301.05720.md\n",
      "    + _build/html/tmp_2301.05720/./figures/K_S870.png\n",
      "    + _build/html/tmp_2301.05720/./figures/SFR_Mstar.png\n",
      "    + _build/html/tmp_2301.05720/./figures/kaoss_vel_fields_sigma_01_Ha.png\n",
      "    + _build/html/tmp_2301.05720/./figures/kaoss_rot_curves_vel_fields_01_Ha.png\n",
      "exported in  _build/html/2301.06575.md\n",
      "    + _build/html/tmp_2301.06575/./plots/fig1.png\n",
      "    + _build/html/tmp_2301.06575/./plots/consistency_wlfixed.png\n",
      "    + _build/html/tmp_2301.06575/./plots/output-figure0.png\n",
      "exported in  _build/html/2301.06819.md\n",
      "    + _build/html/tmp_2301.06819/./parameters_per_line.png\n",
      "    + _build/html/tmp_2301.06819/./B243_line_profile_overview.png\n",
      "    + _build/html/tmp_2301.06819/./B331_line_profile_overview.png\n",
      "exported in  _build/html/2301.06873.md\n",
      "    + _build/html/tmp_2301.06873/./figures/GLS_Instruments_referee.png\n",
      "    + _build/html/tmp_2301.06873/./figures/WF_Instruments_referee.png\n",
      "    + _build/html/tmp_2301.06873/./figures/plot_mr.png\n",
      "    + _build/html/tmp_2301.06873/./figures/plot_mr_turbet_v2.png\n",
      "    + _build/html/tmp_2301.06873/./figures/ACTIVITY_Desembre.png\n"
     ]
    }
   ],
   "source": [
    "for paper_id, md in documents:\n",
    "    export_markdown_summary(md, f\"{paper_id:s}.md\", '_build/html/')"
   ]
  },
  {
   "cell_type": "markdown",
   "id": "f087a0a7",
   "metadata": {
    "papermill": {
     "duration": 0.013823,
     "end_time": "2023-01-18T04:25:36.043409",
     "exception": false,
     "start_time": "2023-01-18T04:25:36.029586",
     "status": "completed"
    },
    "tags": []
   },
   "source": [
    "## Display the papers\n",
    "\n",
    "Not necessary but allows for a quick check."
   ]
  },
  {
   "cell_type": "code",
   "execution_count": 9,
   "id": "fd25f625",
   "metadata": {
    "execution": {
     "iopub.execute_input": "2023-01-18T04:25:36.072434Z",
     "iopub.status.busy": "2023-01-18T04:25:36.072123Z",
     "iopub.status.idle": "2023-01-18T04:25:36.088393Z",
     "shell.execute_reply": "2023-01-18T04:25:36.087804Z"
    },
    "papermill": {
     "duration": 0.032978,
     "end_time": "2023-01-18T04:25:36.090157",
     "exception": false,
     "start_time": "2023-01-18T04:25:36.057179",
     "status": "completed"
    },
    "scrolled": false,
    "tags": []
   },
   "outputs": [
    {
     "data": {
      "text/markdown": [
       "<div class=\"macros\" style=\"visibility:hidden;\">\n",
       "$\\newcommand{\\ensuremath}{}$\n",
       "$\\newcommand{\\xspace}{}$\n",
       "$\\newcommand{\\object}[1]{\\texttt{#1}}$\n",
       "$\\newcommand{\\farcs}{{.}''}$\n",
       "$\\newcommand{\\farcm}{{.}'}$\n",
       "$\\newcommand{\\arcsec}{''}$\n",
       "$\\newcommand{\\arcmin}{'}$\n",
       "$\\newcommand{\\ion}[2]{#1#2}$\n",
       "$\\newcommand{\\textsc}[1]{\\textrm{#1}}$\n",
       "$\\newcommand{\\hl}[1]{\\textrm{#1}}$\n",
       "$\\newcommand{\\head}[2]{\\multicolumn{1}{>{\\centering\\arraybackslash}p{#1}}{\\textbf{#2}}}$\n",
       "$\\newcommand{\\name}{SN~2021aefx\\xspace}$\n",
       "$\\newcommand{\\mat}[1]{\\textcolor{purple}{MAT: #1}}$\n",
       "$\\newcommand{\\CITE}{\\textcolor{orange}{(add citation))}\\xspace}$\n",
       "$\\newcommand{\\um}{\\hbox{\\ensuremath{\\mu\\rm m}}\\xspace}$\n",
       "$\\newcommand{\\jwst}{\\emph{JWST}\\xspace}$\n",
       "$\\newcommand{\\sneia}{SNe Ia\\xspace}$\n",
       "$\\newcommand{\\snia}{SN Ia\\xspace}$\n",
       "$\\newcommand{\\tmax}{\\hbox{\\ensuremath{t_{\\rm{max}}}}\\xspace}$\n",
       "$\\newcommand{\\fopt}{\\hbox{\\ensuremath{F_{\\rm{opt}}}}\\xspace}$\n",
       "$\\newcommand{\\fmir}{\\hbox{\\ensuremath{F_{\\rm{mIR}}}}\\xspace}$\n",
       "$\\newcommand{\\lak}[1]{\\textcolor{maroon}{LAK: #1}}$\n",
       "$\\newcommand{\\OSU}{\\affil{Department of Astronomy, The Ohio State University, 140 West 18th Avenue, Columbus, Ohio 43210, USA}}$\n",
       "$\\newcommand{\\CCAPP}{\\affil{Center for Cosmology and Astroparticle Physics, 191 West Woodruff Avenue, Columbus, OH 43210, USA}}$\n",
       "$\\newcommand{\\NRAO}{\\affil{National Radio Astronomy Observatory, 520 Edgemont Road, Charlottesville, VA 22903-2475, USA}}$\n",
       "$\\newcommand{\\UAlberta}{\\affil{4-183 CCIS, University of Alberta, Edmonton, Alberta, T6G 2E1, Canada}}$\n",
       "$\\newcommand{\\Rutgers}{\\affiliation{Department of Physics and Astronomy, Rutgers, the State University of New Jersey,\\\\136 Frelinghuysen Road, Piscataway, NJ 08854, USA}}$\n",
       "$\\newcommand{\\STScI}{\\affiliation{Space Telescope Science Institute, 3700 San Martin Drive, Baltimore, MD 21218, USA}}$\n",
       "$\\newcommand{\\Alberta}{\\affil{Department of Physics, University of Alberta, Edmonton, AB T6G 2E1, Canada}}$\n",
       "$\\newcommand{\\HD}{\\affil{Astronomisches Rechen-Institut, Zentrum f\\\"{u}r Astronomie der Universit\\\"{a}t Heidelberg, M\\\"{o}nchhofstra\\ss e 12-14, D-69120 Heidelberg, Germany}}$\n",
       "$\\newcommand{\\ITA}{\\affiliation{Universit\\\"{a}t Heidelberg, Zentrum f\\\"{u}r Astronomie, Institut f\\\"{u}r Theoretische Astrophysik, Albert-Ueberle-Str 2, D-69120 Heidelberg, Germany}}$\n",
       "$\\newcommand{\\IWR}{\\affiliation{Universit\\\"{a}t Heidelberg, Interdisziplin\\\"{a}res Zentrum f\\\"{u}r Wissenschaftliches Rechnen, Im Neuenheimer Feld 205, D-69120 Heidelberg, Germany}}$\n",
       "$\\newcommand{\\ANU}{\\affiliation{Research School of Astronomy and Astrophysics, Australian National University, Canberra, ACT 2611, Australia}}$\n",
       "$\\newcommand{\\ASTROThreeD}{\\affiliation{ARC Centre of Excellence for All Sky Astrophysics in 3 Dimensions (ASTRO 3D), Australia}}$\n",
       "$\\newcommand{\\MPIA}{\\affiliation{Max Planck Institute for Astronomy, K\\\"onigstuhl 17, 69117 Heidelberg, Germany}}$\n",
       "$\\newcommand{\\MISSING}{\\affiliation{\\textcolor{purple}{Need affiliation}}}$</div>\n",
       "\n",
       "<div class=\"macros\" style=\"visibility:hidden;\">\n",
       "$\\newcommand{$\\ensuremath$}{}$\n",
       "$\\newcommand{$\\xspace$}{}$\n",
       "$\\newcommand{$\\object$}[1]{\\texttt{#1}}$\n",
       "$\\newcommand{$\\farcs$}{{.}''}$\n",
       "$\\newcommand{$\\farcm$}{{.}'}$\n",
       "$\\newcommand{$\\arcsec$}{''}$\n",
       "$\\newcommand{$\\arcmin$}{'}$\n",
       "$\\newcommand{$\\ion$}[2]{#1#2}$\n",
       "$\\newcommand{$\\textsc$}[1]{\\textrm{#1}}$\n",
       "$\\newcommand{$\\hl$}[1]{\\textrm{#1}}$\n",
       "$\\newcommand{$\\head$}[2]{\\multicolumn{1}{>{\\centering\\arraybackslash}p{#1}}{\\textbf{#2}}}$\n",
       "$\\newcommand{$\\name$}{SN~2021aefx$\\xspace$}$\n",
       "$\\newcommand{$\\mat$}[1]{\\textcolor{purple}{MAT: #1}}$\n",
       "$\\newcommand{$\\CITE$}{\\textcolor{orange}{(add citation))}$\\xspace$}$\n",
       "$\\newcommand{$\\um$}{\\hbox{$\\ensuremath${\\mu\\rm m}}$\\xspace$}$\n",
       "$\\newcommand{$\\jwst$}{\\emph{JWST}$\\xspace$}$\n",
       "$\\newcommand{$\\sneia$}{SNe Ia$\\xspace$}$\n",
       "$\\newcommand{$\\snia$}{SN Ia$\\xspace$}$\n",
       "$\\newcommand{$\\tmax$}{\\hbox{$\\ensuremath${t_{\\rm{max}}}}$\\xspace$}$\n",
       "$\\newcommand{$\\fopt$}{\\hbox{$\\ensuremath${F_{\\rm{opt}}}}$\\xspace$}$\n",
       "$\\newcommand{$\\fmir$}{\\hbox{$\\ensuremath${F_{\\rm{mIR}}}}$\\xspace$}$\n",
       "$\\newcommand{$\\lak$}[1]{\\textcolor{maroon}{LAK: #1}}$\n",
       "$\\newcommand{$\\OSU$}{\\affil{Department of Astronomy, The Ohio State University, 140 West 18th Avenue, Columbus, Ohio 43210, USA}}$\n",
       "$\\newcommand{$\\CCAPP$}{\\affil{Center for Cosmology and Astroparticle Physics, 191 West Woodruff Avenue, Columbus, OH 43210, USA}}$\n",
       "$\\newcommand{$\\NRAO$}{\\affil{National Radio Astronomy Observatory, 520 Edgemont Road, Charlottesville, VA 22903-2475, USA}}$\n",
       "$\\newcommand{$\\UAlberta$}{\\affil{4-183 CCIS, University of Alberta, Edmonton, Alberta, T6G 2E1, Canada}}$\n",
       "$\\newcommand{$\\Rutgers$}{\\affiliation{Department of Physics and Astronomy, Rutgers, the State University of New Jersey,\\\\136 Frelinghuysen Road, Piscataway, NJ 08854, USA}}$\n",
       "$\\newcommand{$\\STScI$}{\\affiliation{Space Telescope Science Institute, 3700 San Martin Drive, Baltimore, MD 21218, USA}}$\n",
       "$\\newcommand{$\\Alberta$}{\\affil{Department of Physics, University of Alberta, Edmonton, AB T6G 2E1, Canada}}$\n",
       "$\\newcommand{$\\HD$}{\\affil{Astronomisches Rechen-Institut, Zentrum f\\\"{u}r Astronomie der Universit\\\"{a}t Heidelberg, M\\\"{o}nchhofstra\\ss e 12-14, D-69120 Heidelberg, Germany}}$\n",
       "$\\newcommand{$\\ITA$}{\\affiliation{Universit\\\"{a}t Heidelberg, Zentrum f\\\"{u}r Astronomie, Institut f\\\"{u}r Theoretische Astrophysik, Albert-Ueberle-Str 2, D-69120 Heidelberg, Germany}}$\n",
       "$\\newcommand{$\\IWR$}{\\affiliation{Universit\\\"{a}t Heidelberg, Interdisziplin\\\"{a}res Zentrum f\\\"{u}r Wissenschaftliches Rechnen, Im Neuenheimer Feld 205, D-69120 Heidelberg, Germany}}$\n",
       "$\\newcommand{$\\ANU$}{\\affiliation{Research School of Astronomy and Astrophysics, Australian National University, Canberra, ACT 2611, Australia}}$\n",
       "$\\newcommand{$\\ASTROThreeD$}{\\affiliation{ARC Centre of Excellence for All Sky Astrophysics in 3 Dimensions (ASTRO 3D), Australia}}$\n",
       "$\\newcommand{$\\MPIA$}{\\affiliation{Max Planck Institute for Astronomy, K\\\"onigstuhl 17, 69117 Heidelberg, Germany}}$\n",
       "$\\newcommand{$\\MISSING$}{\\affiliation{\\textcolor{purple}{Need affiliation}}}$</div>\n",
       "\n",
       "\n",
       "\n",
       "<div id=\"title\">\n",
       "\n",
       "# Co Decay Energy\n",
       "\n",
       "</div>\n",
       "<div id=\"comments\">\n",
       "\n",
       "[![arXiv](https://img.shields.io/badge/arXiv-2301.05718-b31b1b.svg)](https://arxiv.org/abs/2301.05718)<mark>Appeared on: 2023-01-18</mark> - _Submitted to ApJL; 11 pages, 4 figures, 2 tables in two-column AASTEX63 format. Comments welcome_\n",
       "\n",
       "</div>\n",
       "<div id=\"authors\">\n",
       "\n",
       "Ness Mayker~Chen, et al. -- incl., <mark>Lindsey Kwok</mark>, <mark>Frank Bigiel</mark>, <mark>Francesca~Pinna</mark>, <mark>Eva Schinnerer</mark>\n",
       "\n",
       "</div>\n",
       "<div id=\"abstract\">\n",
       "\n",
       "**Abstract:** We present new$0.3-21 $\\um$$photometry of$\\name$in the spiral galaxy NGC 1566 at$+357$days after$B$-band maximum, including the first detection of any SN Ia at$>15 \\micron$. These observations follow earlier$\\jwst$observations of$\\name$at$+255$days after the time of maximum brightness, allowing us to probe the temporal evolution of the emission properties. We measure the fraction of flux emerging at different wavelengths and its temporal evolution. Additionally, the integrated$0.3-14 $\\um$$decay rate of$\\Delta m_{0.3-14} = 1.35 \\pm 0.05 $mag/100 days is higher than the decline rate from the radioactive decay of$^{56}$Co of$\\sim 1.2$mag/100 days. The most plausible explanation for this discrepancy is that flux is shifting to$>14 $\\um$$, and future$\\jwst$observations of$\\sneia$will be able to directly test this hypothesis. However, models predicting non-radiative energy loss cannot be excluded with the present data.\n",
       "\n",
       "</div>\n",
       "\n",
       "<div id=\"div_fig1\">\n",
       "\n",
       "<img src=\"tmp_2301.05718/./SN2021aefx.png\" alt=\"Fig3\" width=\"100%\"/>\n",
       "\n",
       "**Figure 3. -** \\textit{$\\name$ in NGC 1566 at $\\approx 2{-}21\\mu$m.} Left panel: MIRI \\emph{F1130W} PHANGS-JWST image of NGC 1566 showing the location of $\\name$ marked with a green circle. Right panels: zoom-ins on $\\name$ in each PHANGS-JWST filter. The top four panels show 200 pc $\\times $200 pc cutouts from NIRCam images at 2.0$-$3.6 $\\micron$. The bottom four panels show $1$ kpc $\\times$ $1$ kpc MIRI images at $7.7-21  \\micron$. The inner green circle marks the aperture used in the photometry measurement, and the two concentric, dashed, cyan circles mark the inner and outer apertures used for the background subtraction. The results of the photometry appear in Table \\ref{tab:photometry}. \\label{fig:SN2021aefx} (*fig:SN2021aefx*)\n",
       "\n",
       "</div>\n",
       "<div id=\"div_fig2\">\n",
       "\n",
       "<img src=\"tmp_2301.05718/./SED.png\" alt=\"Fig4\" width=\"100%\"/>\n",
       "\n",
       "**Figure 4. -** \\textit{A comparison of the Near- and Mid- IR flux of $\\name$ at +255 and +357 days.} Purple stars mark our flux measurements from each filter and  black open circles signify synthetic photometry from the +255-day spectrum (black line). Horizontal error bars show the nominal wavelength width of each filter. Vertical error bars mark the uncertainty in the measurement and are shown, but are typically smaller than the points. The vertical grey dashed lines mark emission features identified by \\cite{Kwok2022}. NIRCam and MIRI filter curves are plotted along the bottom axis.\n",
       "\\label{fig:SED} (*fig:SED*)\n",
       "\n",
       "</div>\n",
       "<div id=\"div_fig3\">\n",
       "\n",
       "<img src=\"tmp_2301.05718/./nebdec.png\" alt=\"Fig5\" width=\"100%\"/>\n",
       "\n",
       "**Figure 5. -** Nebular-phase decline rates as a function of wavelength for $\\name$. The green region represents the $J$- and $H$-band decay rates of $0.0-0.3$ mag/100 days from \\citet{Graur2020}. Blue horizontal lines show the energy deposition rate for $^{56}$Co with (dashed) and without (dotted) including the $\\gamma$-ray contribution. The black line and shaded region represent the integrated $0.3-14 $\\um$$ decline rate derived in \\S\\ref{sec:Results}. Data for this figure are included in the online version of the manuscript. (*fig:nebdec*)\n",
       "\n",
       "</div>"
      ],
      "text/plain": [
       "<IPython.core.display.Markdown object>"
      ]
     },
     "metadata": {},
     "output_type": "display_data"
    },
    {
     "data": {
      "text/markdown": [
       "<div class=\"macros\" style=\"visibility:hidden;\">\n",
       "$\\newcommand{\\ensuremath}{}$\n",
       "$\\newcommand{\\xspace}{}$\n",
       "$\\newcommand{\\object}[1]{\\texttt{#1}}$\n",
       "$\\newcommand{\\farcs}{{.}''}$\n",
       "$\\newcommand{\\farcm}{{.}'}$\n",
       "$\\newcommand{\\arcsec}{''}$\n",
       "$\\newcommand{\\arcmin}{'}$\n",
       "$\\newcommand{\\ion}[2]{#1#2}$\n",
       "$\\newcommand{\\textsc}[1]{\\textrm{#1}}$\n",
       "$\\newcommand{\\hl}[1]{\\textrm{#1}}$\n",
       "$\\newcommand{\\todo}[1]{{\\color{red} ZZZ: #1}}$\n",
       "$\\newcommand{\\thefigure}{\\arabic{figure} (Cont.)}$\n",
       "$\\newcommand{\\thefigure}{\\arabic{figure}}$\n",
       "$\\newcommand{\\thefigure}{A1 (Cont.)}$\n",
       "$\\newcommand{\\thefigure}{\\arabic{figure}}$\n",
       "$\\newcommand{\\thefigure}{A1 (Cont.)}$\n",
       "$\\newcommand{\\thefigure}{\\arabic{figure}}$</div>\n",
       "\n",
       "<div class=\"macros\" style=\"visibility:hidden;\">\n",
       "$\\newcommand{$\\ensuremath$}{}$\n",
       "$\\newcommand{$\\xspace$}{}$\n",
       "$\\newcommand{$\\object$}[1]{\\texttt{#1}}$\n",
       "$\\newcommand{$\\farcs$}{{.}''}$\n",
       "$\\newcommand{$\\farcm$}{{.}'}$\n",
       "$\\newcommand{$\\arcsec$}{''}$\n",
       "$\\newcommand{$\\arcmin$}{'}$\n",
       "$\\newcommand{$\\ion$}[2]{#1#2}$\n",
       "$\\newcommand{$\\textsc$}[1]{\\textrm{#1}}$\n",
       "$\\newcommand{$\\hl$}[1]{\\textrm{#1}}$\n",
       "$\\newcommand{$\\todo$}[1]{{\\color{red} ZZZ: #1}}$\n",
       "$\\newcommand{$\\thefigure$}{\\arabic{figure} (Cont.)}$\n",
       "$\\newcommand{$\\thefigure$}{\\arabic{figure}}$\n",
       "$\\newcommand{$\\thefigure$}{A1 (Cont.)}$\n",
       "$\\newcommand{$\\thefigure$}{\\arabic{figure}}$\n",
       "$\\newcommand{$\\thefigure$}{A1 (Cont.)}$\n",
       "$\\newcommand{$\\thefigure$}{\\arabic{figure}}$</div>\n",
       "\n",
       "\n",
       "\n",
       "<div id=\"title\">\n",
       "\n",
       "#  1.3--2.6\n",
       "\n",
       "</div>\n",
       "<div id=\"comments\">\n",
       "\n",
       "[![arXiv](https://img.shields.io/badge/arXiv-2301.05720-b31b1b.svg)](https://arxiv.org/abs/2301.05720)<mark>Appeared on: 2023-01-18</mark> - _20 pages, 12 figures, submitted to MNRAS_\n",
       "\n",
       "</div>\n",
       "<div id=\"authors\">\n",
       "\n",
       "Jack E. Birkin, et al. -- incl., <mark><mark>E. Schinnerer</mark></mark>\n",
       "\n",
       "</div>\n",
       "<div id=\"abstract\">\n",
       "\n",
       "**Abstract:** We present spatially resolved kinematics of 31 ALMA-identified dust-obscured star-forming galaxies (DSFGs) at$z$$\\sim$1.3--2.6, as traced by H$\\alpha$emission using VLT/KMOS near-infrared integral field spectroscopy from our on-going Large Programme \"KMOS-ALMA Observations of Submillimetre Sources\" (KAOSS). We derive H$\\alpha$rotation curves and velocity dispersion profiles for the DSFGs. Of the 31 sources with bright, spatially extended H$\\alpha$emission, 25 display rotation curves that are well fit by a Freeman disc model, enabling us to measure a median inclination-corrected velocity at 2.2$R_{\\rm d}$of$v_{\\rm rot}$$=$190$\\pm$30 km s$^{-1}$and a median intrinsic velocity dispersion of$\\sigma_0$$=$87$\\pm$6 km s$^{-1}$for these{\\it disc-like}sources. By comparison with less actively star-forming galaxies, KAOSS DSFGs are both faster rotating and more turbulent, but have similar$v_{\\rm rot}/\\sigma_0$ratios, median 2.4$\\pm$0.5. We suggest that$v_{\\rm rot}/\\sigma_0$alone is insufficient to describe the kinematics of DSFGs, which are not kinematically \"cold\" discs, and that the individual components$v_{\\rm rot}$and$\\sigma_0$indicate that they are in fact turbulent, but rotationally supported systems in$\\sim$50 per cent of cases. This turbulence may be driven by star formation or mergers/interactions. We estimate the normalisation of the stellar Tully-Fisher relation (sTFR) for the disc-like DSFGs and compare it with local studies, finding no evolution at fixed slope between$z$$\\sim$2 and$z$$\\sim$0. Finally, we use kinematic estimates of DSFG halo masses to investigate the stellar-to-halo mass relation, finding our sources to be consistent with shock heating and strong feedback which likely drives the declining stellar content in the most massive halos.\n",
       "\n",
       "</div>\n",
       "\n",
       "<div id=\"div_fig1\">\n",
       "\n",
       "<img src=\"tmp_2301.05720/./figures/K_S870.png\" alt=\"Fig5.1\" width=\"50%\"/><img src=\"tmp_2301.05720/./figures/SFR_Mstar.png\" alt=\"Fig5.2\" width=\"50%\"/>\n",
       "\n",
       "**Figure 5. -** {\\bf a)}$K$-band magnitude versus 870-$\\mu$m flux density ($S_{870}$) for the KAOSS resolved sample compared with the 707 AS2UDS DSFGs \\protect\\citep{dudzeviciute20} and $z$$\\sim$ 1.5 star-forming galaxies from KGES \\protect\\citep{tiley21}. The KAOSS resolved sample is generally representative of the range of 870-$\\mu$m flux densities in the DSFG population, but biased towards near-infrared-brighter sources. For the KGES sample we indicate the region containing the $K$-band magnitudes of the sample and the expected 870-$\\mu$m flux densities estimated from SED-derived dust masses. The KAOSS sample is complemented by KGES in that the latter extends the range in SFR by an order of magnitude. {\\bf b)} Star-formation rate versus $M_\\ast$ for the same samples, now also including six $z$$\\sim$ 2.5 ULIRGs from \\protect\\cite{hogan21}. KAOSS probes sources that are approximately an order of magnitude more massive than KGES, and overlaps with the parameter range of the {\\it Herschel}-selected ULIRGs in \\protect\\cite{hogan21}. Also shown here are $z$$\\sim$ 1.3--2.6 UV/optically selected galaxies from the SINS survey \\protect\\citep{forster-schreiber09}, which has some overlap with KAOSS, but also probes lower-mass and lower-SFR systems. (*fig:kaoss_selection*)\n",
       "\n",
       "</div>\n",
       "<div id=\"div_fig2\">\n",
       "\n",
       "<img src=\"tmp_2301.05720/./figures/kaoss_vel_fields_sigma_01_Ha.png\" alt=\"Fig6\" width=\"100%\"/>\n",
       "\n",
       "**Figure 6. -** {\\it HST} F160W or ground-based $K$-band images (left), velocity fields (middle) and velocity dispersion profiles (right) for our sample of 31 resolved KAOSS DSFGs. The images are 7.5$\"$$\\times$ 7.5$\"$ in size, and the white box indicates the region shown in the velocity and velocity dispersion maps (3.2$\"$$\\times$ 3.2$\"$ in size). Sources are ordered by the S/N of the H$\\alpha$ emission line (shown in the bottom-left corner of the middle panels) and we indicate the inclination angle derived for the source from {\\sc galfit} modelling. The black lines on the centre and right panels indicate the kinematic position angle along which rotation curves are measured. For the left panels we indicate the three filters that make up the RGB colour image, or the single filter in cases where the image is greyscale. (*fig:kaoss_vel_fields_1*)\n",
       "\n",
       "</div>\n",
       "<div id=\"div_fig3\">\n",
       "\n",
       "<img src=\"tmp_2301.05720/./figures/kaoss_rot_curves_vel_fields_01_Ha.png\" alt=\"Fig13\" width=\"100%\"/>\n",
       "\n",
       "**Figure 13. -** H$\\alpha$ rotation curves (left) and velocity dispersion profiles (right) for the resolved KAOSS sample. Sources are ordered by the S/N of the H$\\alpha$ emission line as in Fig. \\ref{fig:kaoss_vel_fields_1}. The solid black lines indicate Freeman disc model fits to the data, the vertical dashed lines indicate $\\pm$ 2.2 times the disc radius (thin) and $\\pm$ 2.2 times the disc radius convolved with $\\sigma_{\\rm PSF}$(thick), the latter at which we measure the rotation velocity, and the cross indicates the original source centroid. Points that are plotted as open circles are masked in the fitting procedure. For the dispersion profiles we indicate the observed velocity dispersion, $\\sigma_{\\rm obs}$(horizontal black solid line), along with the method used to measure it (top right), and the beam smearing-corrected intrinsic velocity dispersion (horizontal black dashed line). We also indicate the method used to centre the velocity field in the top right corner of the dispersion profile panels. (*fig:kaoss_rot_curves_1*)\n",
       "\n",
       "</div>"
      ],
      "text/plain": [
       "<IPython.core.display.Markdown object>"
      ]
     },
     "metadata": {},
     "output_type": "display_data"
    },
    {
     "data": {
      "text/markdown": [
       "<div class=\"macros\" style=\"visibility:hidden;\">\n",
       "$\\newcommand{\\ensuremath}{}$\n",
       "$\\newcommand{\\xspace}{}$\n",
       "$\\newcommand{\\object}[1]{\\texttt{#1}}$\n",
       "$\\newcommand{\\farcs}{{.}''}$\n",
       "$\\newcommand{\\farcm}{{.}'}$\n",
       "$\\newcommand{\\arcsec}{''}$\n",
       "$\\newcommand{\\arcmin}{'}$\n",
       "$\\newcommand{\\ion}[2]{#1#2}$\n",
       "$\\newcommand{\\textsc}[1]{\\textrm{#1}}$\n",
       "$\\newcommand{\\hl}[1]{\\textrm{#1}}$\n",
       "$\\newcommand{\\knowing}{|}$\n",
       "$\\newcommand{\\}{hyper}$</div>\n",
       "\n",
       "<div class=\"macros\" style=\"visibility:hidden;\">\n",
       "$\\newcommand{$\\ensuremath$}{}$\n",
       "$\\newcommand{$\\xspace$}{}$\n",
       "$\\newcommand{$\\object$}[1]{\\texttt{#1}}$\n",
       "$\\newcommand{$\\farcs$}{{.}''}$\n",
       "$\\newcommand{$\\farcm$}{{.}'}$\n",
       "$\\newcommand{$\\arcsec$}{''}$\n",
       "$\\newcommand{$\\arcmin$}{'}$\n",
       "$\\newcommand{$\\ion$}[2]{#1#2}$\n",
       "$\\newcommand{$\\textsc$}[1]{\\textrm{#1}}$\n",
       "$\\newcommand{$\\hl$}[1]{\\textrm{#1}}$\n",
       "$\\newcommand{$\\knowing$}{|}$\n",
       "$\\newcommand{\\}{hyper}$</div>\n",
       "\n",
       "\n",
       "\n",
       "<div id=\"title\">\n",
       "\n",
       "# Neural posterior estimation for exoplanetary atmospheric retrieval\n",
       "\n",
       "</div>\n",
       "<div id=\"comments\">\n",
       "\n",
       "[![arXiv](https://img.shields.io/badge/arXiv-2301.06575-b31b1b.svg)](https://arxiv.org/abs/2301.06575)<mark>Appeared on: 2023-01-18</mark> - __\n",
       "\n",
       "</div>\n",
       "<div id=\"authors\">\n",
       "\n",
       "Malavika Vasist, et al. -- incl., <mark>Paul Mollière</mark>, <mark>Evert Nasedkin</mark>\n",
       "\n",
       "</div>\n",
       "<div id=\"abstract\">\n",
       "\n",
       "**Abstract:** Retrieving the physical parameters from spectroscopic observations of exoplanets is key to understanding their atmospheric properties.Exoplanetary atmospheric retrievals are usually based on approximate Bayesian inference and rely on sampling-based approaches to compute parameter posterior distributions.Accurate or repeated retrievals, however, can result in very long computation times due to the sequential nature of sampling-based algorithms.We aim to amortize exoplanetary atmospheric retrieval using neural posterior estimation (NPE), a simulation-based inference algorithm based on variational inference and normalizing flows.In this way, we aim (i) to strongly reduce inference time, (ii) to scale inference to complex simulation models with many nuisance parameters or intractable likelihood functions, and (iii) to enable the statistical validation of the inference results.We evaluate NPE on a radiative transfer model for exoplanet spectra (\\texttt{petitRADTRANS}), including the effects of scattering and clouds.We train a neural autoregressive flow to quickly estimate posteriors and compare against retrievals computed with\\texttt{MultiNest}.NPE produces accurate posterior approximations while reducing inference time down to a few seconds.We demonstrate the computational faithfulness of our posterior approximations using inference diagnostics including posterior predictive checks and coverage, taking advantage of the quasi-instantaneous inference time of NPE. Our analysis confirms the reliability of the approximate posteriors produced by NPE.The inference results produced by NPE appear to be accurate and reliable, establishing this algorithm as a promising approach for atmospheric retrieval. Its main benefits come from the amortization of posterior inference: once trained, inference does not require on-the-fly simulations and can be repeated several times for many observations at very low computational cost. This enables efficient, scalable, and testable atmospheric retrieval.\n",
       "\n",
       "</div>\n",
       "\n",
       "<div id=\"div_fig1\">\n",
       "\n",
       "<img src=\"tmp_2301.06575/./plots/fig1.png\" alt=\"Fig1\" width=\"100%\"/>\n",
       "\n",
       "**Figure 1. -** Inference pipeline using amortized neural posterior estimation. The joint simulation model $p(x,\\theta)=p(\\theta)p(x|\\theta)$ is used to generate a training set $\\{ (\\theta, x) \\}$ of model parameters $\\theta$ and exoplanet spectra observations $x$. A conditional normalizing flow $p_\\phi(\\theta|x)$ composed of an embedding network and three invertible transformations $t_i$ is trained to estimate the posterior density $p(\\theta|x)$. Once trained, sampling from the posterior estimator is as fast as a forward pass through the normalizing flow. Inference can be repeated for many observations without having to regenerate data nor retrain the normalizing flow. (*fig:overview*)\n",
       "\n",
       "</div>\n",
       "<div id=\"div_fig2\">\n",
       "\n",
       "<img src=\"tmp_2301.06575/./plots/consistency_wlfixed.png\" alt=\"Fig2\" width=\"100%\"/>\n",
       "\n",
       "**Figure 2. -** \\textit{Top.} Posterior predictive distribution $p(f(\\theta)|x_\\text{obs})$ of noiseless spectra (without the instrumental noise disturbance $\\epsilon$) for the $99.7\\%$, $95\\%$ and $68.7\\%$ quartiles (hues of blue), overlaid on top of the noiseless observed spectrum $f(\\theta_\\text{obs})$(black line). {\\textit{Bottom.} Residuals of the posterior predictive samples, normalized by the standard deviation of the noise distribution for each spectral channel.\n",
       "    } (*fig:consistency*)\n",
       "\n",
       "</div>\n",
       "<div id=\"div_fig3\">\n",
       "\n",
       "<img src=\"tmp_2301.06575/./plots/output-figure0.png\" alt=\"Fig5\" width=\"100%\"/>\n",
       "\n",
       "**Figure 5. -** Benchmark retrieval using neural posterior estimation. The corner plot shows 1d and 2d marginal posterior distributions obtained for the benchmark spectrum $x_\\text{obs}$ for NPE (in blue) and for nested sampling (in orange). We observe that the nominal parameter values $\\theta_\\text{obs}$(in black) are well identified. The top right figure illustrates the posterior distribution of the P-T profiles.  (*fig:results*)\n",
       "\n",
       "</div>"
      ],
      "text/plain": [
       "<IPython.core.display.Markdown object>"
      ]
     },
     "metadata": {},
     "output_type": "display_data"
    },
    {
     "data": {
      "text/markdown": [
       "<div class=\"macros\" style=\"visibility:hidden;\">\n",
       "$\\newcommand{\\ensuremath}{}$\n",
       "$\\newcommand{\\xspace}{}$\n",
       "$\\newcommand{\\object}[1]{\\texttt{#1}}$\n",
       "$\\newcommand{\\farcs}{{.}''}$\n",
       "$\\newcommand{\\farcm}{{.}'}$\n",
       "$\\newcommand{\\arcsec}{''}$\n",
       "$\\newcommand{\\arcmin}{'}$\n",
       "$\\newcommand{\\ion}[2]{#1#2}$\n",
       "$\\newcommand{\\textsc}[1]{\\textrm{#1}}$\n",
       "$\\newcommand{\\hl}[1]{\\textrm{#1}}$\n",
       "$\\newcommand{\\blue}[1]{\\textcolor{blue}{#1}}$\n",
       "$\\newcommand{\\red}[1]{\\textcolor{red}{#1}}$\n",
       "$\\newcommand{\\cyan}[1]{\\textcolor{cyan}{#1}}$\n",
       "$\\newcommand{\\magenta}[1]{\\textcolor{magenta}{#1}}$\n",
       "$\\newcommand{\\arraystretch}{1.4}$\n",
       "$\\newcommand{\\footnoterule}$\n",
       "$\\newcommand{\\arraystretch}{1.35}$\n",
       "$\\newcommand{\\hii}{H {\\sc ii}}$\n",
       "$\\newcommand{\\Msun}{M_\\odot}$\n",
       "$\\newcommand{\\Lsun}{L_\\odot}$\n",
       "$\\newcommand{\\xsh}{X-shooter}$\n",
       "$\\newcommand{\\prodimo}{{\\sc ProDiMo}}$</div>\n",
       "\n",
       "<div class=\"macros\" style=\"visibility:hidden;\">\n",
       "$\\newcommand{$\\ensuremath$}{}$\n",
       "$\\newcommand{$\\xspace$}{}$\n",
       "$\\newcommand{$\\object$}[1]{\\texttt{#1}}$\n",
       "$\\newcommand{$\\farcs$}{{.}''}$\n",
       "$\\newcommand{$\\farcm$}{{.}'}$\n",
       "$\\newcommand{$\\arcsec$}{''}$\n",
       "$\\newcommand{$\\arcmin$}{'}$\n",
       "$\\newcommand{$\\ion$}[2]{#1#2}$\n",
       "$\\newcommand{$\\textsc$}[1]{\\textrm{#1}}$\n",
       "$\\newcommand{$\\hl$}[1]{\\textrm{#1}}$\n",
       "$\\newcommand{$\\blue$}[1]{\\textcolor{blue}{#1}}$\n",
       "$\\newcommand{$\\red$}[1]{\\textcolor{red}{#1}}$\n",
       "$\\newcommand{$\\cyan$}[1]{\\textcolor{cyan}{#1}}$\n",
       "$\\newcommand{$\\magenta$}[1]{\\textcolor{magenta}{#1}}$\n",
       "$\\newcommand{$\\arraystretch$}{1.4}$\n",
       "$\\newcommand{$\\footnoterule$}$\n",
       "$\\newcommand{$\\arraystretch$}{1.35}$\n",
       "$\\newcommand{$\\hii$}{H {\\sc ii}}$\n",
       "$\\newcommand{$\\Msun$}{M_\\odot}$\n",
       "$\\newcommand{$\\Lsun$}{L_\\odot}$\n",
       "$\\newcommand{$\\xsh$}{X-shooter}$\n",
       "$\\newcommand{$\\prodimo$}{{\\sc ProDiMo}}$</div>\n",
       "\n",
       "\n",
       "\n",
       "<div id=\"title\">\n",
       "\n",
       "# Massive pre-main-sequence stars in M17: Modelling hydrogen and dust in MYSO disks\n",
       "\n",
       "</div>\n",
       "<div id=\"comments\">\n",
       "\n",
       "[![arXiv](https://img.shields.io/badge/arXiv-2301.06819-b31b1b.svg)](https://arxiv.org/abs/2301.06819)<mark>Appeared on: 2023-01-18</mark> - _18 pages, 16 figures. Accepted for publication in A&A_\n",
       "\n",
       "</div>\n",
       "<div id=\"authors\">\n",
       "\n",
       "<mark><mark>Frank Backs</mark></mark>, et al.\n",
       "\n",
       "</div>\n",
       "<div id=\"abstract\">\n",
       "\n",
       "**Abstract:** The young massive-star-forming region M17 contains optically visible massive pre-main-sequence stars that are surrounded by circumstellar disks. Such disks are expected to disappear when these stars enter the main sequence. The physical and dynamical structure of these remnant disks are poorly constrained, especially the inner regions where accretion, photo-evaporation, and companion formation and migration may be ongoing.We aim to constrain the physical properties of the inner parts of the circumstellar disks of massive young stellar objects B243 (6 M$_\\odot$) and B331 (12 M$_\\odot$), two systems for which the central star has been detected and characterized previously despite strong dust extinction.Two-dimensional radiation thermo-chemical modelling with$\\prodimo$of double-peaked hydrogen lines of the Paschen and Brackett series observed with$\\xsh$was used to probe the properties of the inner disk of the target sources. The model was modified to treat these lines. Additionally, the dust structure was studied by fitting the optical and near-infrared spectral energy distribution.B243 features a hot gaseous inner disk with dust at the sublimation radius at$\\sim$3 AU. The disk appears truncated at roughly 6.5 AU; a cool outer disk of gas and dust may be present, but it cannot be detected with our data. B331 also has a hot gaseous inner disk. A gap separates the inner disk from a colder dusty outer disk starting at up to$\\sim$100 AU. In both sources the inner disk extends to almost the stellar surface. Chemistry is essential for the ionization of hydrogen in these disks.The lack of a gap between the central objects and these disks suggests that they accrete through boundary-layer accretion. This would exclude the stars having a strong magnetic field.   Their structures suggest that both disks are transitional in nature, that is to say they are in the process of being cleared, either through boundary-layer accretion, photo-evaporation, or through companion activity.\n",
       "\n",
       "</div>\n",
       "\n",
       "<div id=\"div_fig1\">\n",
       "\n",
       "<img src=\"tmp_2301.06819/./parameters_per_line.png\" alt=\"Fig5\" width=\"100%\"/>\n",
       "\n",
       "**Figure 5. -** Parameter values of the inner disk with their uncertainties for each modelled line of B243 and B331 as function of their oscillator strength. The horizontal dashed lines indicate the best fit parameters for B243 when fitting Pa-9 and Pa-11 to Pa-16 simultaneously and for B331 when fitting Pa-9, Pa-11 to Pa-16 and Br-11 to Br-16. The corresponding line profiles are shown in Fig. \\ref{p1:fig:B243_individual_line_fits} and Fig. \\ref{p1:fig:B331_individual_line_fits} for B243 and B331, respectively. For each fit an inclination of 75$^\\circ$ is used.\n",
       "    \\label{p1:fig:B243_B331_parameter_trend} (*p1:fig:B243_B331_parameter_trend*)\n",
       "\n",
       "</div>\n",
       "<div id=\"div_fig2\">\n",
       "\n",
       "<img src=\"tmp_2301.06819/./B243_line_profile_overview.png\" alt=\"Fig13\" width=\"100%\"/>\n",
       "\n",
       "**Figure 13. -** Best fitting models in blue to the observed lines in black for B243. The blue shaded regions indicate models that fall within the 1 $\\sigma$ confidence interval. Each line is fitted individually with the inclination set to $75^\\circ$, the respective parameters are shown in Fig. \\ref{p1:fig:B243_B331_parameter_trend}. The orange profiles indicate the best fit when fitting Pa-16 to Pa-9 simultaneously. Notice the factor $\\sim$30 range in line strengths covered by the Paschen series.\n",
       "    \\label{p1:fig:B243_individual_line_fits} (*p1:fig:B243_individual_line_fits*)\n",
       "\n",
       "</div>\n",
       "<div id=\"div_fig3\">\n",
       "\n",
       "<img src=\"tmp_2301.06819/./B331_line_profile_overview.png\" alt=\"Fig14\" width=\"100%\"/>\n",
       "\n",
       "**Figure 14. -** Best fitting models in blue to the observed lines in black for B331. The blue shaded regions indicate models that fall within the 1 $\\sigma$ confidence interval. Each line is fitted individually with the inclination fixed at 75$^\\circ$, the respective parameters are shown in Fig. \\ref{p1:fig:B243_B331_parameter_trend}. The orange profiles indicate the best fit when fitting Pa-16 to Pa-9 and Br-16 to Br-11 simultaneously. Notice the factor $\\sim$20 range in line strengths covered by the Paschen series. (*p1:fig:B331_individual_line_fits*)\n",
       "\n",
       "</div>"
      ],
      "text/plain": [
       "<IPython.core.display.Markdown object>"
      ]
     },
     "metadata": {},
     "output_type": "display_data"
    },
    {
     "data": {
      "text/markdown": [
       "<div class=\"macros\" style=\"visibility:hidden;\">\n",
       "$\\newcommand{\\ensuremath}{}$\n",
       "$\\newcommand{\\xspace}{}$\n",
       "$\\newcommand{\\object}[1]{\\texttt{#1}}$\n",
       "$\\newcommand{\\farcs}{{.}''}$\n",
       "$\\newcommand{\\farcm}{{.}'}$\n",
       "$\\newcommand{\\arcsec}{''}$\n",
       "$\\newcommand{\\arcmin}{'}$\n",
       "$\\newcommand{\\ion}[2]{#1#2}$\n",
       "$\\newcommand{\\textsc}[1]{\\textrm{#1}}$\n",
       "$\\newcommand{\\hl}[1]{\\textrm{#1}}$\n",
       "$\\newcommand{\\tstar}{GJ~806\\xspace}$\n",
       "$\\newcommand{\\tplanet}{GJ~806 b\\xspace}$\n",
       "$\\newcommand{\\pytransit}{\\textsc{PyTransit}\\xspace}$\n",
       "$\\newcommand{\\ldtk}{\\textsc{LDTk}\\xspace}$\n",
       "$\\newcommand{\\lh}{\\ensuremath{\\ell}}$\n",
       "$\\newcommand{\\llh}{\\ensuremath{\\ln P}}$\n",
       "$\\newcommand{\\iid}{i.i.d.\\xspace}$\n",
       "$\\newcommand{\\pvec}{\\ensuremath{\\boldsymbol{\\theta}}\\xspace}$\n",
       "$\\newcommand{\\covmat}{\\emth{\\boldsymbol{\\Sigma}}}$\n",
       "$\\newcommand{\\cmat}{\\ensuremath{\\mathbf{K}}\\xspace}$\n",
       "$\\newcommand{\\flux}{\\ensuremath{\\mathbf{f}}\\xspace}$\n",
       "$\\newcommand{\\gcm}{\\emth{\\mathrm{g cm^{-3}}}}$\n",
       "$\\newcommand{\\smass}{\\emth{\\mathrm{M_\\star}}}$\n",
       "$\\newcommand{\\srad}{\\emth{\\mathrm{R_\\star}}}$\n",
       "$\\newcommand{\\pmass}{\\emth{\\mathrm{M_P}}}$\n",
       "$\\newcommand{\\prad}{\\emth{\\mathrm{R_P}}}$\n",
       "$\\newcommand{\\rptrue}{\\ensuremath{r_\\mathrm{p,true}}\\xspace}$\n",
       "$\\newcommand{\\ktrue}{\\ensuremath{k_\\mathrm{true}}\\xspace}$\n",
       "$\\newcommand{\\kapp}{\\ensuremath{k_\\mathrm{app}}\\xspace}$\n",
       "$\\newcommand{\\teff}{\\ensuremath{T_\\mathrm{eff}}\\xspace}$\n",
       "$\\newcommand{\\teffh}{\\ensuremath{T_\\mathrm{eff,H}}\\xspace}$\n",
       "$\\newcommand{\\teffc}{\\ensuremath{T_\\mathrm{eff,C}}\\xspace}$\n",
       "$\\newcommand{\\pzep}{\\ensuremath{t_\\mathrm{0}}\\xspace}$\n",
       "$\\newcommand{\\pper}{\\ensuremath{p}\\xspace}$\n",
       "$\\newcommand{\\prho}{\\ensuremath{\\rho_\\star}\\xspace}$\n",
       "$\\newcommand{\\pimp}{\\ensuremath{b}\\xspace}$\n",
       "$\\newcommand{\\psma}{\\ensuremath{a}\\xspace}$\n",
       "$\\newcommand{\\pcref}{\\ensuremath{c}\\xspace}$\n",
       "$\\newcommand{\\para}{\\ensuremath{k_\\mathrm{app}}\\xspace}$\n",
       "$\\newcommand{\\ptra}{\\ensuremath{k_\\mathrm{true}}\\xspace}$\n",
       "$\\newcommand{\\mjup}{\\ensuremath{M_\\mathrm{Jup}}\\xspace}$\n",
       "$\\newcommand{\\rjup}{\\ensuremath{R_\\mathrm{Jup}}\\xspace}$\n",
       "$\\newcommand{\\george}{\\textsc{George}\\xspace}$\n",
       "$\\newcommand{\\ud}{\\ensuremath{\\mathrm{d}\\xspace}}$\n",
       "$\\newcommand{\\plato}{\\textit{PLATO}\\xspace}$\n",
       "$\\newcommand{\\tess}{\\textit{TESS}\\xspace}$\n",
       "$\\newcommand{\\corot}{\\textit{CoRoT}\\xspace}$\n",
       "$\\newcommand{\\kepler}{\\textit{Kepler}\\xspace}$\n",
       "$\\newcommand{\\ktwo}{\\textit{K2}\\xspace}$\n",
       "$\\newcommand{\\tmodel}{\\ensuremath{\\mathcal{T}}\\xspace}$\n",
       "$\\newcommand{\\UP}[1]{\\ensuremath{\\mathcal{U}(#1)}\\xspace}$\n",
       "$\\newcommand{\\NP}[1]{\\ensuremath{\\mathcal{N}(#1)}\\xspace}$\n",
       "$\\newcommand{\\emth}[1]{\\ensuremath{#1}\\xspace}$\n",
       "$\\newcommand{\\mlp}[1]{\\textcolor{red}{#1}}$\n",
       "$\\newcommand{\\mlpd}[2]{\\sout{#1} \\textcolor{red}{#2}}$\n",
       "$\\newcommand{\\ikoma}{\\textcolor{red}}$\n",
       "$\\newcommand{\\ajm}[1]{\\textcolor{green}{#1}}$\n",
       "$\\newcommand{\\Msun}{\\hbox{M_{\\odot}}}$\n",
       "$\\newcommand{\\Rsun}{\\hbox{R_{\\odot}}}$\n",
       "$\\newcommand{\\Mjup}{\\hbox{M_{\\rm Jup}}}$\n",
       "$\\newcommand{\\Rjup}{\\hbox{R_{\\rm Jup}}}$\n",
       "$\\newcommand{\\Mearth}{\\hbox{M_{\\oplus}}}$\n",
       "$\\newcommand{\\Rearth}{\\hbox{R_{\\oplus}}}$\n",
       "$\\newcommand{\\Mnep}{\\hbox{M_{\\rm Nep}}}$\n",
       "$\\newcommand{\\hd20}{HD~209458 b}$\n",
       "$\\newcommand{\\gj34}{GJ~3470 b}$\n",
       "$\\newcommand{\\hat11}{HAT-P-11 b}$\n",
       "$\\newcommand{\\hep}{He^{+}}$\n",
       "$\\newcommand{\\hes}{He~(1^{1}S)}$\n",
       "$\\newcommand{\\het}{He~(2^{3}S)}$\n",
       "$\\newcommand{\\mlr}{\\dot M}$\n",
       "$\\newcommand{\\lya}{Ly\\alpha}$\n",
       "$\\newcommand{\\earth}{\\oplus}$\n",
       "$\\newcommand{\\halpha}{H\\alpha }$\n",
       "$\\newcommand{\\gs}{g s^{-1}}$\n",
       "$\\newcommand{\\kms}{km s^{-1}}$\n",
       "$\\newcommand{\\rp}{R_{\\rm P}}$</div>\n",
       "\n",
       "<div class=\"macros\" style=\"visibility:hidden;\">\n",
       "$\\newcommand{$\\ensuremath$}{}$\n",
       "$\\newcommand{$\\xspace$}{}$\n",
       "$\\newcommand{$\\object$}[1]{\\texttt{#1}}$\n",
       "$\\newcommand{$\\farcs$}{{.}''}$\n",
       "$\\newcommand{$\\farcm$}{{.}'}$\n",
       "$\\newcommand{$\\arcsec$}{''}$\n",
       "$\\newcommand{$\\arcmin$}{'}$\n",
       "$\\newcommand{$\\ion$}[2]{#1#2}$\n",
       "$\\newcommand{$\\textsc$}[1]{\\textrm{#1}}$\n",
       "$\\newcommand{$\\hl$}[1]{\\textrm{#1}}$\n",
       "$\\newcommand{$\\tstar$}{GJ~806$\\xspace$}$\n",
       "$\\newcommand{$\\tplanet$}{GJ~806 b$\\xspace$}$\n",
       "$\\newcommand{$\\pytransit$}{$\\textsc${PyTransit}$\\xspace$}$\n",
       "$\\newcommand{$\\ldtk$}{$\\textsc${LDTk}$\\xspace$}$\n",
       "$\\newcommand{$\\lh$}{$\\ensuremath${\\ell}}$\n",
       "$\\newcommand{$\\llh$}{$\\ensuremath${\\ln P}}$\n",
       "$\\newcommand{$\\iid$}{i.i.d.$\\xspace$}$\n",
       "$\\newcommand{$\\pvec$}{$\\ensuremath${\\boldsymbol{\\theta}}$\\xspace$}$\n",
       "$\\newcommand{$\\covmat$}{$\\emth${\\boldsymbol{\\Sigma}}}$\n",
       "$\\newcommand{$\\cmat$}{$\\ensuremath${\\mathbf{K}}$\\xspace$}$\n",
       "$\\newcommand{$\\flux$}{$\\ensuremath${\\mathbf{f}}$\\xspace$}$\n",
       "$\\newcommand{$\\gcm$}{$\\emth${\\mathrm{g cm^{-3}}}}$\n",
       "$\\newcommand{$\\smass$}{$\\emth${\\mathrm{M_\\star}}}$\n",
       "$\\newcommand{$\\srad$}{$\\emth${\\mathrm{R_\\star}}}$\n",
       "$\\newcommand{$\\pmass$}{$\\emth${\\mathrm{M_P}}}$\n",
       "$\\newcommand{$\\prad$}{$\\emth${\\mathrm{R_P}}}$\n",
       "$\\newcommand{$\\rptrue$}{$\\ensuremath${r_\\mathrm{p,true}}$\\xspace$}$\n",
       "$\\newcommand{$\\ktrue$}{$\\ensuremath${k_\\mathrm{true}}$\\xspace$}$\n",
       "$\\newcommand{$\\kapp$}{$\\ensuremath${k_\\mathrm{app}}$\\xspace$}$\n",
       "$\\newcommand{$\\teff$}{$\\ensuremath${T_\\mathrm{eff}}$\\xspace$}$\n",
       "$\\newcommand{$\\teff$h}{$\\ensuremath${T_\\mathrm{eff,H}}$\\xspace$}$\n",
       "$\\newcommand{$\\teff$c}{$\\ensuremath${T_\\mathrm{eff,C}}$\\xspace$}$\n",
       "$\\newcommand{$\\pzep$}{$\\ensuremath${t_\\mathrm{0}}$\\xspace$}$\n",
       "$\\newcommand{$\\pper$}{$\\ensuremath${p}$\\xspace$}$\n",
       "$\\newcommand{$\\prho$}{$\\ensuremath${\\rho_\\star}$\\xspace$}$\n",
       "$\\newcommand{$\\pimp$}{$\\ensuremath${b}$\\xspace$}$\n",
       "$\\newcommand{$\\psma$}{$\\ensuremath${a}$\\xspace$}$\n",
       "$\\newcommand{$\\pcref$}{$\\ensuremath${c}$\\xspace$}$\n",
       "$\\newcommand{$\\para$}{$\\ensuremath${k_\\mathrm{app}}$\\xspace$}$\n",
       "$\\newcommand{$\\ptra$}{$\\ensuremath${k_\\mathrm{true}}$\\xspace$}$\n",
       "$\\newcommand{$\\mjup$}{$\\ensuremath${M_\\mathrm{Jup}}$\\xspace$}$\n",
       "$\\newcommand{$\\rjup$}{$\\ensuremath${R_\\mathrm{Jup}}$\\xspace$}$\n",
       "$\\newcommand{$\\george$}{$\\textsc${George}$\\xspace$}$\n",
       "$\\newcommand{$\\ud$}{$\\ensuremath${\\mathrm{d}$\\xspace$}}$\n",
       "$\\newcommand{$\\plato$}{\\textit{PLATO}$\\xspace$}$\n",
       "$\\newcommand{$\\tess$}{\\textit{TESS}$\\xspace$}$\n",
       "$\\newcommand{$\\corot$}{\\textit{CoRoT}$\\xspace$}$\n",
       "$\\newcommand{$\\kepler$}{\\textit{Kepler}$\\xspace$}$\n",
       "$\\newcommand{$\\ktwo$}{\\textit{K2}$\\xspace$}$\n",
       "$\\newcommand{$\\tmodel$}{$\\ensuremath${\\mathcal{T}}$\\xspace$}$\n",
       "$\\newcommand{$\\UP$}[1]{$\\ensuremath${\\mathcal{U}(#1)}$\\xspace$}$\n",
       "$\\newcommand{$\\NP$}[1]{$\\ensuremath${\\mathcal{N}(#1)}$\\xspace$}$\n",
       "$\\newcommand{$\\emth$}[1]{$\\ensuremath${#1}$\\xspace$}$\n",
       "$\\newcommand{$\\mlp$}[1]{\\textcolor{red}{#1}}$\n",
       "$\\newcommand{$\\mlp$d}[2]{\\sout{#1} \\textcolor{red}{#2}}$\n",
       "$\\newcommand{$\\ikoma$}{\\textcolor{red}}$\n",
       "$\\newcommand{$\\ajm$}[1]{\\textcolor{green}{#1}}$\n",
       "$\\newcommand{$\\Msun$}{\\hbox{M_{\\odot}}}$\n",
       "$\\newcommand{$\\Rsun$}{\\hbox{R_{\\odot}}}$\n",
       "$\\newcommand{$\\Mjup$}{\\hbox{M_{\\rm Jup}}}$\n",
       "$\\newcommand{$\\Rjup$}{\\hbox{R_{\\rm Jup}}}$\n",
       "$\\newcommand{$\\Mearth$}{\\hbox{M_{\\oplus}}}$\n",
       "$\\newcommand{$\\Rearth$}{\\hbox{R_{\\oplus}}}$\n",
       "$\\newcommand{$\\Mnep$}{\\hbox{M_{\\rm Nep}}}$\n",
       "$\\newcommand{$\\hd$20}{HD~209458 b}$\n",
       "$\\newcommand{$\\gj$34}{GJ~3470 b}$\n",
       "$\\newcommand{$\\hat$11}{HAT-P-11 b}$\n",
       "$\\newcommand{$\\hep$}{He^{+}}$\n",
       "$\\newcommand{$\\hes$}{He~(1^{1}S)}$\n",
       "$\\newcommand{$\\het$}{He~(2^{3}S)}$\n",
       "$\\newcommand{$\\mlr$}{\\dot M}$\n",
       "$\\newcommand{$\\lya$}{Ly\\alpha}$\n",
       "$\\newcommand{$\\earth$}{\\oplus}$\n",
       "$\\newcommand{$\\halpha$}{H\\alpha }$\n",
       "$\\newcommand{$\\gs$}{g s^{-1}}$\n",
       "$\\newcommand{$\\kms$}{km s^{-1}}$\n",
       "$\\newcommand{$\\rp$}{R_{\\rm P}}$</div>\n",
       "\n",
       "\n",
       "\n",
       "<div id=\"title\">\n",
       "\n",
       "# GJ 806 (TOI-4481): A bright nearby multi-planetary system with a transiting hot, low-density super-Earth\n",
       "\n",
       "</div>\n",
       "<div id=\"comments\">\n",
       "\n",
       "[![arXiv](https://img.shields.io/badge/arXiv-2301.06873-b31b1b.svg)](https://arxiv.org/abs/2301.06873)<mark>Appeared on: 2023-01-18</mark> - _Under second review in A&A. This paper is NOT yet accepted, but it is made openly available to the community due to the approaching JWST deadline_\n",
       "\n",
       "</div>\n",
       "<div id=\"authors\">\n",
       "\n",
       "E. Palle, et al. -- incl., <mark><mark>M. Pérez-Torres</mark></mark>, <mark><mark>Th. Henning</mark></mark>, <mark><mark>E. Herrero</mark></mark>, <mark><mark>J. Lillo-Box</mark></mark>\n",
       "\n",
       "</div>\n",
       "<div id=\"abstract\">\n",
       "\n",
       "**Abstract:** One of the main scientific goals of the{\\em TESS}mission is the discovery of transiting small planets around the closest and brightest stars in the sky.Here, using data from the CARMENES, MAROON-X, and HIRES spectrographs, together with{\\em TESS}, we report the discovery and mass determination of a planetary system around the M1.5 V star GJ 806 (TOI-4481).GJ 806 is a bright ($V \\approx$10.8 mag,$J \\approx$7.3 mag) and nearby ($d$= 12 pc) M dwarf that hosts at least two planets.The innermost planet, GJ 806 b, is transiting and has an ultra-short orbital period of 0.93 d, a radius of$1.331\\pm0.023 R_{\\oplus}$, a mass of$1.90\\pm 0.17 M_{\\oplus}$, a mean density of$4.40 \\pm 0.45$g cm$^{-3}$, and an equilibrium temperature of$940 \\pm 10$K.We detect a second, non-transiting, super-Earth planet in the system, GJ 806 c, with an orbital period of 6.6 d, a minimum mass of$5.80 \\pm 0.30 M_{\\oplus}$, and an equilibrium temperature of$490 \\pm 5$K. The radial velocity data also shows evidence for a third periodicity at 13.6 d, although the current dataset does not provide sufficient evidence to unambiguously distinguish between a third super-Earth mass ($M \\sin i = 8.50\\pm 0.45 M_{\\oplus}$) planet or stellar activity. Additionally, we report one transit observation of GJ 806 b taken with CARMENES in search for a possible extended atmosphere of H or He, but we can only place upper limits to its existence. This is not surprising as our evolutionary models support the idea that any possible primordial H/He atmosphere that GJ 806 b might have had, would long have been lost. However, GJ 806 b's bulk density makes it likely that the planet hosts some type of volatile atmosphere.In fact, with a transmission spectroscopy metrics (TSM) of 44 and an emission spectroscopy metrics (ESM) of 24, GJ 806 b is to date the third-ranked terrestrial planet around an M dwarf suitable for transmission spectroscopy studies using{\\em JWST}, and the most promising terrestrial planet for emission spectroscopy studies. GJ 806b is also an excellent target for the detection ofradio emission via star-planet interactions.\n",
       "\n",
       "</div>\n",
       "\n",
       "<div id=\"div_fig1\">\n",
       "\n",
       "<img src=\"tmp_2301.06873/./figures/GLS_Instruments_referee.png\" alt=\"Fig13.1\" width=\"50%\"/><img src=\"tmp_2301.06873/./figures/WF_Instruments_referee.png\" alt=\"Fig13.2\" width=\"50%\"/>\n",
       "\n",
       "**Figure 13. -** Left: Generalized Lomb-Scargle (GLS) periodograms of the HIRES (top), CARMENES (middle) and the two MAROON-X channels (bottom) radial velocity time series. Vertical dotted lines mark the highest peaks at 13.6 d (magenta), 6.6 d (green) and 0.92 d (orange). The 10\\%, 1\\% and 0.1\\% FAP levels are indicated by gray dotted, dash dotted, and dashed lines, respectively. Right: Window functions of the HIRES, CARMENES and MAROON-X channels time series. Vertical dotted lines mark the 13.6 d (magenta), 6.6 d (green) and 0.92 d (orange) periods.   (*fig:singleRvs*)\n",
       "\n",
       "</div>\n",
       "<div id=\"div_fig2\">\n",
       "\n",
       "<img src=\"tmp_2301.06873/./figures/plot_mr.png\" alt=\"Fig17.1\" width=\"50%\"/><img src=\"tmp_2301.06873/./figures/plot_mr_turbet_v2.png\" alt=\"Fig17.2\" width=\"50%\"/>\n",
       "\n",
       "**Figure 17. -** Mass radius diagrams of all known planets (left) and ultra-short period planets only (right). Only planets with mass determination better than 30\\% and radius determination better than 10\\%, according to the TEPCat database \\citep{Southworth2011} are shown. The orange dots represent the known planet orbiting around M dwarfs  ($T_{\\rm eff} < 4000 \\mathrm{K}$) and the grey dots represent those orbiting around other stellar types.\n",
       "Overplotted are theoretical models for the planet's internal composition from \\citet{Zeng2019}(left) and \\citet{Turbet2020}(right). GJ 806b is marked with a red dot, while the radius band that GJ 806c occupies is shaded in red.\n",
       " (*fig:mrdiagram*)\n",
       "\n",
       "</div>\n",
       "<div id=\"div_fig3\">\n",
       "\n",
       "<img src=\"tmp_2301.06873/./figures/ACTIVITY_Desembre.png\" alt=\"Fig2\" width=\"100%\"/>\n",
       "\n",
       "**Figure 2. -** Generalized Lomb-Scargle (GLS) periodograms of the activity indices derived from \\texttt{SERVAL} for the CARMENES data. In all panels, the broken magenta lines indicate the planetary periodicities of 0.96, 6.6 and 13.6 days, and the broken red lines mark the 19.9, 34.6 and 48.1 day possible rotation periods discussed here. In the top two panels, the GLS for the CRX and dLW indices, are given independently for the visible and infrared channel spectra. The 10\\%, 1\\% and 0.1\\% FAP levels are indicated by gray dotted, dash dotted, and dashed horizontal lines, respectively. (*fig:actindex*)\n",
       "\n",
       "</div>"
      ],
      "text/plain": [
       "<IPython.core.display.Markdown object>"
      ]
     },
     "metadata": {},
     "output_type": "display_data"
    }
   ],
   "source": [
    "[display(Markdown(k[1])) for k in documents];"
   ]
  },
  {
   "cell_type": "markdown",
   "id": "873873a4",
   "metadata": {
    "papermill": {
     "duration": 0.01512,
     "end_time": "2023-01-18T04:25:36.120582",
     "exception": false,
     "start_time": "2023-01-18T04:25:36.105462",
     "status": "completed"
    },
    "tags": []
   },
   "source": [
    "# Create HTML index"
   ]
  },
  {
   "cell_type": "code",
   "execution_count": 10,
   "id": "cf665672",
   "metadata": {
    "execution": {
     "iopub.execute_input": "2023-01-18T04:25:36.152428Z",
     "iopub.status.busy": "2023-01-18T04:25:36.152127Z",
     "iopub.status.idle": "2023-01-18T04:25:36.165538Z",
     "shell.execute_reply": "2023-01-18T04:25:36.164957Z"
    },
    "papermill": {
     "duration": 0.031483,
     "end_time": "2023-01-18T04:25:36.167380",
     "exception": false,
     "start_time": "2023-01-18T04:25:36.135897",
     "status": "completed"
    },
    "tags": []
   },
   "outputs": [
    {
     "name": "stdout",
     "output_type": "stream",
     "text": [
      "172  publications in the last 7 days.\n",
      "\t _build/html/2301.06873.md\n",
      "\t _build/html/2301.06819.md\n",
      "\t _build/html/2301.06575.md\n",
      "\t _build/html/2301.05720.md\n",
      "\t _build/html/2301.05718.md\n",
      "\t _build/html/2301.05034.md\n",
      "\t _build/html/2301.04656.md\n",
      "\t _build/html/2301.04533.md\n",
      "\t _build/html/2301.04442.md\n",
      "\t _build/html/2301.03811.md\n",
      "\t _build/html/2301.03689.md\n",
      "\t _build/html/2301.03387.md\n",
      "\t _build/html/2301.03209.md\n",
      "\t _build/html/2301.02671.md\n",
      "\t _build/html/2301.02477.md\n",
      "\t _build/html/2301.02313.md\n",
      "\t _build/html/2301.02265.md\n",
      "\t _build/html/2301.01937.md\n",
      "\t _build/html/2301.01895.md\n",
      "\t _build/html/2301.01684.md\n",
      "\t _build/html/2301.01306.md\n",
      "\t _build/html/2301.00881.md\n",
      "\t _build/html/2301.00854.md\n",
      "\t _build/html/2301.00578.md\n",
      "\t _build/html/2212.12039.md\n",
      "\t _build/html/2212.11991.md\n",
      "\t _build/html/2212.11425.md\n",
      "\t _build/html/2212.11177.md\n",
      "\t _build/html/2212.10804.md\n",
      "\t _build/html/2212.10512.md\n",
      "\t _build/html/2212.09766.md\n",
      "\t _build/html/2212.09675.md\n",
      "\t _build/html/2212.09661.md\n",
      "\t _build/html/2212.09652.md\n",
      "\t _build/html/2212.09443.md\n",
      "\t _build/html/2212.09307.md\n",
      "\t _build/html/2212.09168.md\n",
      "\t _build/html/2212.09159.md\n",
      "\t _build/html/2212.08702.md\n",
      "\t _build/html/2212.07332.md\n",
      "\t _build/html/2212.06434.md\n",
      "\t _build/html/2212.04710.md\n",
      "\t _build/html/2212.04026.md\n",
      "\t _build/html/2212.03563.md\n",
      "\t _build/html/2212.03514.md\n",
      "\t _build/html/2212.02667.md\n",
      "\t _build/html/2212.02627.md\n",
      "\t _build/html/2212.02235.md\n",
      "\t _build/html/2212.01707.md\n",
      "\t _build/html/2212.01526.md\n",
      "\t _build/html/2212.01397.md\n",
      "\t _build/html/2212.01291.md\n",
      "\t _build/html/2212.01281.md\n",
      "\t _build/html/2212.00812.md\n",
      "\t _build/html/2212.00811.md\n",
      "\t _build/html/2212.00806.md\n",
      "\t _build/html/2212.00047.md\n",
      "\t _build/html/2212.00032.md\n",
      "\t _build/html/2211.16996.md\n",
      "\t _build/html/2211.16510.md\n",
      "\t _build/html/2211.16123.md\n",
      "\t _build/html/2211.15816.md\n",
      "\t _build/html/2211.15698.md\n",
      "\t _build/html/2211.15576.md\n",
      "\t _build/html/2211.15434.md\n",
      "\t _build/html/2211.15288.md\n",
      "\t _build/html/2211.15224.md\n",
      "\t _build/html/2211.14543.md\n",
      "\t _build/html/2211.14330.md\n",
      "\t _build/html/2211.14322.md\n",
      "\t _build/html/2211.14132.md\n",
      "\t _build/html/2211.13811.md\n",
      "\t _build/html/2211.13426.md\n",
      "\t _build/html/2211.13318.md\n",
      "\t _build/html/2211.13146.md\n",
      "\t _build/html/2211.12613.md\n",
      "\t _build/html/2211.11767.md\n",
      "\t _build/html/2211.09840.md\n",
      "\t _build/html/2211.09217.md\n",
      "\t _build/html/2211.08493.md\n",
      "\t _build/html/2211.08487.md\n",
      "\t _build/html/2211.08294.md\n",
      "\t _build/html/2211.07667.md\n",
      "\t _build/html/2211.07659.md\n",
      "\t _build/html/2211.06454.md\n",
      "\t _build/html/2211.06205.md\n",
      "\t _build/html/2211.06194.md\n",
      "\t _build/html/2211.05022.md\n",
      "\t _build/html/2211.04048.md\n",
      "\t _build/html/2211.03641.md\n",
      "\t _build/html/2211.02502.md\n",
      "\t _build/html/2211.01474.md\n",
      "\t _build/html/2211.00667.md\n",
      "\t _build/html/2211.00657.md\n",
      "\t _build/html/2211.00087.md\n",
      "\t _build/html/2211.00036.md\n",
      "\t _build/html/2211.00020.md\n",
      "\t _build/html/2211.00010.md\n",
      "\t _build/html/2210.17434.md\n",
      "\t _build/html/2210.12412.md\n",
      "\t _build/html/2210.11926.md\n",
      "\t _build/html/2210.11551.md\n",
      "\t _build/html/2210.11103.md\n",
      "\t _build/html/2210.10707.md\n",
      "\t _build/html/2210.09930.md\n",
      "\t _build/html/2210.08996.md\n",
      "\t _build/html/2210.08517.md\n",
      "\t _build/html/2210.08510.md\n",
      "\t _build/html/2210.08078.md\n",
      "\t _build/html/2210.06504.md\n",
      "\t _build/html/2210.05695.md\n",
      "\t _build/html/2210.05595.md\n",
      "\t _build/html/2210.05505.md\n",
      "\t _build/html/2210.04721.md\n",
      "\t _build/html/2210.03615.md\n",
      "\t _build/html/2210.01811.md\n",
      "\t _build/html/2210.01809.md\n",
      "\t _build/html/2210.01556.md\n",
      "\t _build/html/2210.00863.md\n",
      "\t _build/html/2210.00560.md\n",
      "\t _build/html/2209.15403.md\n",
      "\t _build/html/2209.15110.md\n",
      "\t _build/html/2209.14410.md\n",
      "\t _build/html/2209.14396.md\n",
      "\t _build/html/2209.13717.md\n",
      "\t _build/html/2209.13336.md\n",
      "\t _build/html/2209.12906.md\n",
      "\t _build/html/2209.11781.md\n",
      "\t _build/html/2209.11602.md\n",
      "\t _build/html/2209.11248.md\n",
      "\t _build/html/2209.11096.md\n",
      "\t _build/html/2209.10618.md\n",
      "\t _build/html/2209.09914.md\n",
      "\t _build/html/2209.09823.md\n",
      "\t _build/html/2209.08242.md\n",
      "\t _build/html/2209.08120.md\n",
      "\t _build/html/2209.08106.md\n",
      "\t _build/html/2209.07962.md\n",
      "\t _build/html/2209.07931.md\n",
      "\t _build/html/2209.06833.md\n",
      "\t _build/html/2209.05814.md\n",
      "\t _build/html/2209.05593.md\n",
      "\t _build/html/2209.04304.md\n",
      "\t _build/html/2209.03367.md\n",
      "\t _build/html/2209.02872.md\n",
      "\t _build/html/2209.02725.md\n",
      "\t _build/html/2209.02722.md\n",
      "\t _build/html/2209.02092.md\n",
      "\t _build/html/2209.01125.md\n",
      "\t _build/html/2209.00828.md\n",
      "\t _build/html/2209.00363.md\n",
      "\t _build/html/2208.14927.md\n",
      "\t _build/html/2208.09335.md\n",
      "\t _build/html/2208.08872.md\n",
      "\t _build/html/2204.06393.md\n",
      "\t _build/html/2204.03335.md\n",
      "\t _build/html/2204.03253.md\n",
      "\t _build/html/2204.02998.md\n",
      "\t _build/html/2204.02109.md\n",
      "\t _build/html/2204.02017.md\n",
      "\t _build/html/2204.01824.md\n",
      "\t _build/html/2204.01758.md\n",
      "\t _build/html/2204.01245.md\n",
      "\t _build/html/2204.00793.md\n",
      "\t _build/html/2204.00342.md\n",
      "\t _build/html/2203.16959.md\n",
      "\t _build/html/2203.16856.md\n",
      "\t _build/html/2203.16735.md\n",
      "\t _build/html/2203.16734.md\n",
      "\t _build/html/2203.16504.md\n",
      "\t _build/html/2203.15822.md\n",
      "\t _build/html/2203.15811.md\n"
     ]
    }
   ],
   "source": [
    "from datetime import datetime, timedelta, timezone\n",
    "from glob import glob\n",
    "\n",
    "files = glob('_build/html/*.md')\n",
    "days = 7\n",
    "now = datetime.today()\n",
    "res = []\n",
    "for fk in files:\n",
    "    stat_result = os.stat(fk).st_ctime\n",
    "    modified = datetime.fromtimestamp(stat_result, tz=timezone.utc).replace(tzinfo=None)\n",
    "    delta = now.today() - modified\n",
    "    if delta <= timedelta(days=days):\n",
    "        res.append((delta.seconds, fk))\n",
    "res = [k[1] for k in reversed(sorted(res, key=lambda x:x[1]))]\n",
    "npub = len(res)\n",
    "print(len(res), f\" publications in the last {days:d} days.\")\n",
    "[ print('\\t', k) for k in res ];"
   ]
  },
  {
   "cell_type": "code",
   "execution_count": 11,
   "id": "015de740",
   "metadata": {
    "execution": {
     "iopub.execute_input": "2023-01-18T04:25:36.200212Z",
     "iopub.status.busy": "2023-01-18T04:25:36.199778Z",
     "iopub.status.idle": "2023-01-18T04:25:36.258946Z",
     "shell.execute_reply": "2023-01-18T04:25:36.258292Z"
    },
    "papermill": {
     "duration": 0.077703,
     "end_time": "2023-01-18T04:25:36.260856",
     "exception": false,
     "start_time": "2023-01-18T04:25:36.183153",
     "status": "completed"
    },
    "tags": []
   },
   "outputs": [
    {
     "name": "stdout",
     "output_type": "stream",
     "text": [
      "11  publications in the last 7 days.\n"
     ]
    }
   ],
   "source": [
    "import datetime\n",
    "from glob import glob\n",
    "\n",
    "def get_last_n_days(lst, days=1):\n",
    "    \"\"\" Get the documents from the last n days \"\"\"\n",
    "    sorted_lst = sorted(lst, key=lambda x: x[1], reverse=True)\n",
    "    for fname, date in sorted_lst:\n",
    "        if date >= str(datetime.date.today() - datetime.timedelta(days=days)):\n",
    "            yield fname\n",
    "\n",
    "def extract_appearance_dates(lst_file):\n",
    "    dates = []\n",
    "\n",
    "    def get_date(line):\n",
    "        return line\\\n",
    "            .split('Appeared on:')[-1]\\\n",
    "            .split('</mark>')[0].strip()\n",
    "\n",
    "    for fname in lst:\n",
    "        with open(fname, 'r') as f:\n",
    "            found_date = False\n",
    "            for line in f:\n",
    "                if not found_date:\n",
    "                    if \"Appeared on\" in line:\n",
    "                        found_date = True\n",
    "                        dates.append((fname, get_date(line)))\n",
    "                else:\n",
    "                    break\n",
    "    return dates\n",
    "\n",
    "from glob import glob\n",
    "lst = glob('_build/html/*md')\n",
    "days = 7\n",
    "dates = extract_appearance_dates(lst)\n",
    "res = list(get_last_n_days(dates, days))\n",
    "npub = len(res)\n",
    "print(len(res), f\" publications in the last {days:d} days.\")"
   ]
  },
  {
   "cell_type": "code",
   "execution_count": 12,
   "id": "52ca0208",
   "metadata": {
    "execution": {
     "iopub.execute_input": "2023-01-18T04:25:36.295085Z",
     "iopub.status.busy": "2023-01-18T04:25:36.294162Z",
     "iopub.status.idle": "2023-01-18T04:25:36.301298Z",
     "shell.execute_reply": "2023-01-18T04:25:36.300670Z"
    },
    "papermill": {
     "duration": 0.025869,
     "end_time": "2023-01-18T04:25:36.303026",
     "exception": false,
     "start_time": "2023-01-18T04:25:36.277157",
     "status": "completed"
    },
    "scrolled": false,
    "tags": []
   },
   "outputs": [],
   "source": [
    "def create_carousel(npub=4):\n",
    "    \"\"\" Generate the HTML code for a carousel with `npub` slides \"\"\"\n",
    "    carousel = [\"\"\"<section class=\"carousel\" aria-label=\"Gallery\">\"\"\",\n",
    "                \"\"\"  <ol class=\"carousel__viewport\">\"\"\",\n",
    "    ]\n",
    "    for k in range(1, npub + 1):\n",
    "        prev_ = k - 1\n",
    "        next_ = k + 1\n",
    "        if prev_ <= 0:\n",
    "            prev_ = npub\n",
    "        if next_ > npub:\n",
    "            next_ = 1\n",
    "        text  = f\"\"\"    <li id=\"carousel__slide{k}\" tabindex=\"0\" class=\"carousel__slide\">\\n\"\"\"\n",
    "        text += f\"\"\"       <div class=\"carousel__snapper\">\\n\"\"\"\n",
    "        text += f\"\"\"         <a href=\"#carousel__slide{prev_}\" class=\"carousel__prev\">Go to previous slide</a>\\n\"\"\"\n",
    "        text += f\"\"\"         <a href=\"#carousel__slide{next_}\" class=\"carousel__next\">Go to next slide</a>\\n\"\"\"\n",
    "        text += f\"\"\"         <div id=\"slide{k}_content\" class=\"md_view\" >Content {k}</div>\\n\"\"\"\n",
    "        text += f\"\"\"       </div>\\n\"\"\"\n",
    "        text += f\"\"\"    </li>\"\"\"\n",
    "        carousel.append(text)\n",
    "\n",
    "    carousel.extend([\n",
    "        \"\"\"  </ol>\"\"\",\n",
    "        \"\"\"  <aside class=\"carousel__navigation\">\"\"\",\n",
    "        \"\"\"    <ol class=\"carousel__navigation-list\">\"\"\"])\n",
    "\n",
    "    for k in range(1, npub + 1):\n",
    "        text  = f\"\"\"      <li class=\"carousel__navigation-item\">\\n\"\"\"\n",
    "        text += f\"\"\"        <a href=\"#carousel__slide{k}\" class=\"carousel__navigation-button\">Go to {k}</a>\\n\"\"\"\n",
    "        text += f\"\"\"      </li>\"\"\"\n",
    "        carousel.append(text)\n",
    "    carousel.extend([\"\"\"    </ol>\"\"\", \"\"\"  </aside>\"\"\", \"\"\"</section>\"\"\"])\n",
    "\n",
    "    return '\\n'.join(carousel)"
   ]
  },
  {
   "cell_type": "code",
   "execution_count": 13,
   "id": "a6eac5b6",
   "metadata": {
    "execution": {
     "iopub.execute_input": "2023-01-18T04:25:36.337405Z",
     "iopub.status.busy": "2023-01-18T04:25:36.337079Z",
     "iopub.status.idle": "2023-01-18T04:25:36.344244Z",
     "shell.execute_reply": "2023-01-18T04:25:36.343582Z"
    },
    "papermill": {
     "duration": 0.026861,
     "end_time": "2023-01-18T04:25:36.345938",
     "exception": false,
     "start_time": "2023-01-18T04:25:36.319077",
     "status": "completed"
    },
    "scrolled": false,
    "tags": []
   },
   "outputs": [],
   "source": [
    "carousel = create_carousel(npub)\n",
    "docs = ', '.join(['\"{0:s}\"'.format(k.split('/')[-1]) for k in res])\n",
    "slides = ', '.join([f'\"slide{k}_content\"' for k in range(1, npub + 1)])\n",
    "\n",
    "script = f\"\"\"\n",
    "const docs = [{docs}]\n",
    "\n",
    "const slides = [{slides}]\n",
    "\"\"\" + \"\"\"\n",
    "async function run() {\n",
    "    for (let i = 0; i < docs.length; i++) {\n",
    "        let file = await fetch(docs[i]);\n",
    "        let text = await file.text()\n",
    "        document.getElementById(slides[i]).innerHTML =\n",
    "            marked.parse(text);\n",
    "    }\n",
    "    hljs.highlightAll();\n",
    "}\n",
    "run()\n",
    "\"\"\"\n",
    "\n",
    "page = f\"\"\"<!doctype html>\n",
    "<html lang=\"en\">\n",
    "\n",
    "<head>\n",
    "  <meta charset=\"utf-8\">\n",
    "  <meta name=\"viewport\" content=\"width=device-width, initial-scale=1\">\n",
    "  <!-- Bootstrap CSS -->\n",
    "  <link href=\"https://cdn.jsdelivr.net/npm/bootstrap@5.0.2/dist/css/bootstrap.min.css\" rel=\"stylesheet\"\n",
    "   integrity=\"sha384-EVSTQN3/azprG1Anm3QDgpJLIm9Nao0Yz1ztcQTwFspd3yD65VohhpuuCOmLASjC\" crossorigin=\"anonymous\">\n",
    "  <!-- highlight.js CSS -->\n",
    "  <link rel=\"stylesheet\" href=\"https://cdnjs.cloudflare.com/ajax/libs/highlight.js/11.1.0/styles/default.min.css\">\n",
    "  <!-- Mathjax 3 -->\n",
    "  <script type=\"text/javascript\" id=\"MathJax-config\" src=\"mathjax_config.js\"> </script>\n",
    "  <script type=\"text/javascript\" id=\"MathJax-script\" async \n",
    "    src=\"https://cdn.jsdelivr.net/npm/mathjax@3/es5/tex-mml-chtml.js\">\n",
    "  </script>\n",
    "  <link rel=\"stylesheet\" href=\"index_carousel.css\">\n",
    "  <link rel=\"icon\" type=\"image/x-icon\" href=\"https://www.mpia.de/assets/touch-icon-32x32-a66937bcebc4e8894ebff1f41a366c7c7220fd97a38869ee0f2db65a9f59b6c1.png\">\n",
    "  <title>MPIA Arxiv on deck!</title>\n",
    "</head>\n",
    "\n",
    "<body>\n",
    "  <div id=\"header\"> <img src=\"header_banner.png\" width=\"100%\"></div>\n",
    "  <div id=\"suptitle\"> 7-day archives </div>\n",
    "  <div id=\"info\">\n",
    "    <img src=\"https://pngimg.com/uploads/github/github_PNG58.png\" height=30rem></img>\n",
    "    <a href=https://github.com/mpi-astronomy/arxiv_display style=\"color:black;\">github/mpi-astronomy/arxiv_display</a> \n",
    "  </div>\n",
    "  {carousel:s}\n",
    "</body>\n",
    "\n",
    "<!-- Render Markdown -->\n",
    "\n",
    "<body>\n",
    "  <!-- highlight.js: https://highlightjs.org/download/ -->\n",
    "  <script src=\"https://cdnjs.cloudflare.com/ajax/libs/highlight.js/11.5.0/highlight.min.js\"></script>\n",
    "  <!-- marked.js -->\n",
    "  <script src=\"https://cdn.jsdelivr.net/npm/marked/marked.min.js\"></script>\n",
    "  <script>{script:s}</script>\n",
    "</body>\n",
    "</html>\n",
    "\"\"\"\n",
    "with open(\"_build/html/index_7days.html\", 'w') as fout:\n",
    "    fout.write(page)"
   ]
  },
  {
   "cell_type": "markdown",
   "id": "1cebacbc",
   "metadata": {
    "papermill": {
     "duration": 0.016387,
     "end_time": "2023-01-18T04:25:36.381975",
     "exception": false,
     "start_time": "2023-01-18T04:25:36.365588",
     "status": "completed"
    },
    "tags": []
   },
   "source": [
    "# Debugging papers"
   ]
  },
  {
   "cell_type": "raw",
   "id": "debe7cc6",
   "metadata": {
    "papermill": {
     "duration": 0.015608,
     "end_time": "2023-01-18T04:25:36.413216",
     "exception": false,
     "start_time": "2023-01-18T04:25:36.397608",
     "status": "completed"
    },
    "tags": []
   },
   "source": [
    "raise NotImplementedError(\"Manual Stop\")"
   ]
  },
  {
   "cell_type": "raw",
   "id": "eb169192",
   "metadata": {
    "papermill": {
     "duration": 0.015891,
     "end_time": "2023-01-18T04:25:36.444532",
     "exception": false,
     "start_time": "2023-01-18T04:25:36.428641",
     "status": "completed"
    },
    "scrolled": true,
    "tags": []
   },
   "source": [
    "from IPython.display import display, Markdown\n",
    "from TexSoup import TexSoup\n",
    "import re\n",
    "\n",
    "def bracket_error(source: str):\n",
    "    \"\"\" Find problematic portions of the document \"\"\"\n",
    "    \n",
    "    print(\"len(source)\", len(source))\n",
    "    \n",
    "    # Checking header\n",
    "    begin_doc = next(re.finditer(r'\\\\begin\\{document\\}', doc.source)).span()[1]\n",
    "    header = source[:begin_doc]\n",
    "    text = header + r\"\\n\\end{document}\"\n",
    "\n",
    "    try:\n",
    "        # print(\"Header check... \", end='')\n",
    "        TexSoup(text)\n",
    "        display(Markdown(f\"**[OK]** - Header\"))\n",
    "    except:\n",
    "        raise RuntimeError(\"Error in the header\")\n",
    "        \n",
    "    # Check the text per section until the end.\n",
    "    # Do not stop and try them all.\n",
    "    \n",
    "    problematic_text = []\n",
    "    \n",
    "    sections = ([(0, begin_doc, 'until first section')] + \n",
    "                [(g.span()[0], g.span()[1], g.group()) for g in re.finditer(r'\\\\section\\{.*\\}', source)] +\n",
    "                [(g.span()[0], g.span()[1], g.group()) for g in re.finditer(r'\\\\begin\\{appendix\\}', source)]\n",
    "               )\n",
    "    sections.append([len(source), len(source), 'end'])\n",
    "    \n",
    "    sections = sorted(sections, key=lambda x: x[0])\n",
    "    \n",
    "    prev_pos, prev_name = (0, 'header')\n",
    "    parsed = []\n",
    "    \n",
    "    for span, span_end, name in sections:\n",
    "\n",
    "        if span - prev_pos <= 0:\n",
    "            continue\n",
    "            \n",
    "\n",
    "        text = source[prev_pos:span]\n",
    "        if prev_pos > begin_doc:\n",
    "            text = r\"\\n\\begin{document}\" + text + r\"\\n\\end{document}\"\n",
    "        else:\n",
    "            text = text + r\"\\n\\end{document}\"\n",
    "        try:\n",
    "            #print(f\"{prev_pos}:{prev_name}-->{span}:{name} check... \", end='')\n",
    "            parsed.append(TexSoup(text, tolerance=1))  # allow not ending env\n",
    "            display(Markdown(f\"**[OK]** - *{prev_pos}*:{prev_name} &rarr; *{span}*:{name}\"))\n",
    "            # print(\"ok\")\n",
    "\n",
    "            prev_pos = span\n",
    "            prev_name = name\n",
    "        except:\n",
    "            # print(f\"error between {prev_pos} and {span}\")\n",
    "            display(Markdown(f\"**[ERR]** *{prev_pos}*:{prev_name} &rarr; *{span}*:{name}\"))\n",
    "            problematic_text.append((prev_pos, source[prev_pos:span]))\n",
    "            prev_pos = span\n",
    "            prev_name = name\n",
    "            # raise\n",
    "    return problematic_text, parsed\n",
    "\n",
    "\n",
    "def check_environment(text, offset=0):\n",
    "    \"\"\" Check environment \"\"\"\n",
    "    env = re.compile(r\"\\\\begin\\{(?P<env>.*)\\}(.*)\\\\end\\{(?P=env)\\}\", re.DOTALL)\n",
    "\n",
    "    for match in env.finditer(text):\n",
    "        beg, end = match.span()\n",
    "        beg += offset\n",
    "        end += offset\n",
    "        envname = match.groups()[0]\n",
    "        try:\n",
    "            latex.TexSoup(match.group())\n",
    "        except Exception as e:\n",
    "            display(e)\n",
    "            print(f\"Error in {envname:s} between {beg} and {end}\")\n",
    "            return match.groups()[1], beg, end"
   ]
  },
  {
   "cell_type": "raw",
   "id": "2315e835",
   "metadata": {
    "papermill": {
     "duration": 0.015334,
     "end_time": "2023-01-18T04:25:36.475325",
     "exception": false,
     "start_time": "2023-01-18T04:25:36.459991",
     "status": "completed"
    },
    "scrolled": false,
    "tags": []
   },
   "source": [
    "import importlib\n",
    "importlib.reload(latex)\n",
    "which = \"2204.03253\"\n",
    "paper_id = f'{which:s}'\n",
    "folder = f'tmp_{paper_id:s}'\n",
    "\n",
    "if not os.path.isdir(folder):\n",
    "    folder = retrieve_document_source(f\"{paper_id}\", f'tmp_{paper_id}')\n",
    "\n",
    "try:\n",
    "    doc = latex.LatexDocument(folder, validation=validation)    \n",
    "except AffiliationError as affilerror:\n",
    "    msg = f\"ArXiv:{paper_id:s} is not an MPIA paper... \" + str(affilerror)\n",
    "    print(msg)\n",
    "\n",
    "\n",
    "# Hack because sometimes author parsing does not work well\n",
    "if (len(doc.authors) != len(paper['authors'])):\n",
    "    doc._authors = paper['authors']\n",
    "if (doc.abstract) in (None, ''):\n",
    "    doc._abstract = paper['abstract']\n",
    "\n",
    "doc.comment = get_markdown_badge(paper_id) + \" _\" + paper['comments'] + \"_\"\n",
    "doc.highlight_authors_in_list(hl_list)\n",
    "\n",
    "full_md = doc.generate_markdown_text()"
   ]
  },
  {
   "cell_type": "raw",
   "id": "dd3781db",
   "metadata": {
    "papermill": {
     "duration": 0.015168,
     "end_time": "2023-01-18T04:25:36.506132",
     "exception": false,
     "start_time": "2023-01-18T04:25:36.490964",
     "status": "completed"
    },
    "scrolled": false,
    "tags": []
   },
   "source": [
    "doc"
   ]
  },
  {
   "cell_type": "raw",
   "id": "c6eed834",
   "metadata": {
    "papermill": {
     "duration": 0.015549,
     "end_time": "2023-01-18T04:25:36.537102",
     "exception": false,
     "start_time": "2023-01-18T04:25:36.521553",
     "status": "completed"
    },
    "tags": []
   },
   "source": [
    "# [check_environment(k) for k in bracket_error(doc.source)]\n",
    "_, _, a = latex.get_content_per_section(doc.source, verbose=True)\n",
    "if not a:\n",
    "    print(\"no issues per section\")\n",
    "for ak in a:\n",
    "    r = check_environment(ak[1], offset=ak[0])\n",
    "    print(r[1], r[2])\n",
    "    print(r[0])"
   ]
  },
  {
   "cell_type": "code",
   "execution_count": null,
   "id": "71ce768a",
   "metadata": {
    "papermill": {
     "duration": 0.015472,
     "end_time": "2023-01-18T04:25:36.567822",
     "exception": false,
     "start_time": "2023-01-18T04:25:36.552350",
     "status": "completed"
    },
    "tags": []
   },
   "outputs": [],
   "source": []
  }
 ],
 "metadata": {
  "kernelspec": {
   "display_name": "Python 3",
   "language": "python",
   "name": "python3"
  },
  "language_info": {
   "codemirror_mode": {
    "name": "ipython",
    "version": 3
   },
   "file_extension": ".py",
   "mimetype": "text/x-python",
   "name": "python",
   "nbconvert_exporter": "python",
   "pygments_lexer": "ipython3",
   "version": "3.9.16"
  },
  "papermill": {
   "default_parameters": {},
   "duration": 1053.324999,
   "end_time": "2023-01-18T04:25:37.004355",
   "environment_variables": {},
   "exception": null,
   "input_path": "MPIA daily digest.ipynb",
   "output_path": "log.ipynb",
   "parameters": {},
   "start_time": "2023-01-18T04:08:03.679356",
   "version": "2.4.0"
  },
  "vscode": {
   "interpreter": {
    "hash": "aee8b7b246df8f9039afb4144a1f6fd8d2ca17a180786b69acc140d282b71a49"
   }
  },
  "widgets": {
   "application/vnd.jupyter.widget-state+json": {
    "state": {
     "05152f85a6d443ad8007fa7eb56ca375": {
      "model_module": "@jupyter-widgets/controls",
      "model_module_version": "2.0.0",
      "model_name": "HTMLStyleModel",
      "state": {
       "_model_module": "@jupyter-widgets/controls",
       "_model_module_version": "2.0.0",
       "_model_name": "HTMLStyleModel",
       "_view_count": null,
       "_view_module": "@jupyter-widgets/base",
       "_view_module_version": "2.0.0",
       "_view_name": "StyleView",
       "background": null,
       "description_width": "",
       "font_size": null,
       "text_color": null
      }
     },
     "1ba2f9c7eb924b18bb16adf0d44f1f85": {
      "model_module": "@jupyter-widgets/base",
      "model_module_version": "2.0.0",
      "model_name": "LayoutModel",
      "state": {
       "_model_module": "@jupyter-widgets/base",
       "_model_module_version": "2.0.0",
       "_model_name": "LayoutModel",
       "_view_count": null,
       "_view_module": "@jupyter-widgets/base",
       "_view_module_version": "2.0.0",
       "_view_name": "LayoutView",
       "align_content": null,
       "align_items": null,
       "align_self": null,
       "border_bottom": null,
       "border_left": null,
       "border_right": null,
       "border_top": null,
       "bottom": null,
       "display": null,
       "flex": null,
       "flex_flow": null,
       "grid_area": null,
       "grid_auto_columns": null,
       "grid_auto_flow": null,
       "grid_auto_rows": null,
       "grid_column": null,
       "grid_gap": null,
       "grid_row": null,
       "grid_template_areas": null,
       "grid_template_columns": null,
       "grid_template_rows": null,
       "height": null,
       "justify_content": null,
       "justify_items": null,
       "left": null,
       "margin": null,
       "max_height": null,
       "max_width": null,
       "min_height": null,
       "min_width": null,
       "object_fit": null,
       "object_position": null,
       "order": null,
       "overflow": null,
       "padding": null,
       "right": null,
       "top": null,
       "visibility": null,
       "width": null
      }
     },
     "49c510d31b614621afc5c6a944038595": {
      "model_module": "@jupyter-widgets/base",
      "model_module_version": "2.0.0",
      "model_name": "LayoutModel",
      "state": {
       "_model_module": "@jupyter-widgets/base",
       "_model_module_version": "2.0.0",
       "_model_name": "LayoutModel",
       "_view_count": null,
       "_view_module": "@jupyter-widgets/base",
       "_view_module_version": "2.0.0",
       "_view_name": "LayoutView",
       "align_content": null,
       "align_items": null,
       "align_self": null,
       "border_bottom": null,
       "border_left": null,
       "border_right": null,
       "border_top": null,
       "bottom": null,
       "display": null,
       "flex": null,
       "flex_flow": null,
       "grid_area": null,
       "grid_auto_columns": null,
       "grid_auto_flow": null,
       "grid_auto_rows": null,
       "grid_column": null,
       "grid_gap": null,
       "grid_row": null,
       "grid_template_areas": null,
       "grid_template_columns": null,
       "grid_template_rows": null,
       "height": null,
       "justify_content": null,
       "justify_items": null,
       "left": null,
       "margin": null,
       "max_height": null,
       "max_width": null,
       "min_height": null,
       "min_width": null,
       "object_fit": null,
       "object_position": null,
       "order": null,
       "overflow": null,
       "padding": null,
       "right": null,
       "top": null,
       "visibility": null,
       "width": null
      }
     },
     "7ad7911dc2e94ac19b15d679a8183305": {
      "model_module": "@jupyter-widgets/controls",
      "model_module_version": "2.0.0",
      "model_name": "HTMLModel",
      "state": {
       "_dom_classes": [],
       "_model_module": "@jupyter-widgets/controls",
       "_model_module_version": "2.0.0",
       "_model_name": "HTMLModel",
       "_view_count": null,
       "_view_module": "@jupyter-widgets/controls",
       "_view_module_version": "2.0.0",
       "_view_name": "HTMLView",
       "description": "",
       "description_allow_html": false,
       "layout": "IPY_MODEL_adc963940cbe49e8ab12cf39fa65a531",
       "placeholder": "​",
       "style": "IPY_MODEL_906383b9623c4814bb62229383008ee6",
       "tabbable": null,
       "tooltip": null,
       "value": " 41/41 [17:03&lt;00:00, 43.60s/it]"
      }
     },
     "906383b9623c4814bb62229383008ee6": {
      "model_module": "@jupyter-widgets/controls",
      "model_module_version": "2.0.0",
      "model_name": "HTMLStyleModel",
      "state": {
       "_model_module": "@jupyter-widgets/controls",
       "_model_module_version": "2.0.0",
       "_model_name": "HTMLStyleModel",
       "_view_count": null,
       "_view_module": "@jupyter-widgets/base",
       "_view_module_version": "2.0.0",
       "_view_name": "StyleView",
       "background": null,
       "description_width": "",
       "font_size": null,
       "text_color": null
      }
     },
     "96e11694aac54be0bd6647e1fc4a8e8c": {
      "model_module": "@jupyter-widgets/base",
      "model_module_version": "2.0.0",
      "model_name": "LayoutModel",
      "state": {
       "_model_module": "@jupyter-widgets/base",
       "_model_module_version": "2.0.0",
       "_model_name": "LayoutModel",
       "_view_count": null,
       "_view_module": "@jupyter-widgets/base",
       "_view_module_version": "2.0.0",
       "_view_name": "LayoutView",
       "align_content": null,
       "align_items": null,
       "align_self": null,
       "border_bottom": null,
       "border_left": null,
       "border_right": null,
       "border_top": null,
       "bottom": null,
       "display": null,
       "flex": null,
       "flex_flow": null,
       "grid_area": null,
       "grid_auto_columns": null,
       "grid_auto_flow": null,
       "grid_auto_rows": null,
       "grid_column": null,
       "grid_gap": null,
       "grid_row": null,
       "grid_template_areas": null,
       "grid_template_columns": null,
       "grid_template_rows": null,
       "height": null,
       "justify_content": null,
       "justify_items": null,
       "left": null,
       "margin": null,
       "max_height": null,
       "max_width": null,
       "min_height": null,
       "min_width": null,
       "object_fit": null,
       "object_position": null,
       "order": null,
       "overflow": null,
       "padding": null,
       "right": null,
       "top": null,
       "visibility": null,
       "width": null
      }
     },
     "9784543af3424554aa0d44c087a54491": {
      "model_module": "@jupyter-widgets/controls",
      "model_module_version": "2.0.0",
      "model_name": "HBoxModel",
      "state": {
       "_dom_classes": [],
       "_model_module": "@jupyter-widgets/controls",
       "_model_module_version": "2.0.0",
       "_model_name": "HBoxModel",
       "_view_count": null,
       "_view_module": "@jupyter-widgets/controls",
       "_view_module_version": "2.0.0",
       "_view_name": "HBoxView",
       "box_style": "",
       "children": [
        "IPY_MODEL_f2930e842e004b5b8b10db96a7344572",
        "IPY_MODEL_d5e9ebd6f871447f85a64995791f0d6c",
        "IPY_MODEL_7ad7911dc2e94ac19b15d679a8183305"
       ],
       "layout": "IPY_MODEL_49c510d31b614621afc5c6a944038595",
       "tabbable": null,
       "tooltip": null
      }
     },
     "adc963940cbe49e8ab12cf39fa65a531": {
      "model_module": "@jupyter-widgets/base",
      "model_module_version": "2.0.0",
      "model_name": "LayoutModel",
      "state": {
       "_model_module": "@jupyter-widgets/base",
       "_model_module_version": "2.0.0",
       "_model_name": "LayoutModel",
       "_view_count": null,
       "_view_module": "@jupyter-widgets/base",
       "_view_module_version": "2.0.0",
       "_view_name": "LayoutView",
       "align_content": null,
       "align_items": null,
       "align_self": null,
       "border_bottom": null,
       "border_left": null,
       "border_right": null,
       "border_top": null,
       "bottom": null,
       "display": null,
       "flex": null,
       "flex_flow": null,
       "grid_area": null,
       "grid_auto_columns": null,
       "grid_auto_flow": null,
       "grid_auto_rows": null,
       "grid_column": null,
       "grid_gap": null,
       "grid_row": null,
       "grid_template_areas": null,
       "grid_template_columns": null,
       "grid_template_rows": null,
       "height": null,
       "justify_content": null,
       "justify_items": null,
       "left": null,
       "margin": null,
       "max_height": null,
       "max_width": null,
       "min_height": null,
       "min_width": null,
       "object_fit": null,
       "object_position": null,
       "order": null,
       "overflow": null,
       "padding": null,
       "right": null,
       "top": null,
       "visibility": null,
       "width": null
      }
     },
     "d5e9ebd6f871447f85a64995791f0d6c": {
      "model_module": "@jupyter-widgets/controls",
      "model_module_version": "2.0.0",
      "model_name": "FloatProgressModel",
      "state": {
       "_dom_classes": [],
       "_model_module": "@jupyter-widgets/controls",
       "_model_module_version": "2.0.0",
       "_model_name": "FloatProgressModel",
       "_view_count": null,
       "_view_module": "@jupyter-widgets/controls",
       "_view_module_version": "2.0.0",
       "_view_name": "ProgressView",
       "bar_style": "success",
       "description": "",
       "description_allow_html": false,
       "layout": "IPY_MODEL_96e11694aac54be0bd6647e1fc4a8e8c",
       "max": 41.0,
       "min": 0.0,
       "orientation": "horizontal",
       "style": "IPY_MODEL_dda4ece9b00841888fb14d89dbada089",
       "tabbable": null,
       "tooltip": null,
       "value": 41.0
      }
     },
     "dda4ece9b00841888fb14d89dbada089": {
      "model_module": "@jupyter-widgets/controls",
      "model_module_version": "2.0.0",
      "model_name": "ProgressStyleModel",
      "state": {
       "_model_module": "@jupyter-widgets/controls",
       "_model_module_version": "2.0.0",
       "_model_name": "ProgressStyleModel",
       "_view_count": null,
       "_view_module": "@jupyter-widgets/base",
       "_view_module_version": "2.0.0",
       "_view_name": "StyleView",
       "bar_color": null,
       "description_width": ""
      }
     },
     "f2930e842e004b5b8b10db96a7344572": {
      "model_module": "@jupyter-widgets/controls",
      "model_module_version": "2.0.0",
      "model_name": "HTMLModel",
      "state": {
       "_dom_classes": [],
       "_model_module": "@jupyter-widgets/controls",
       "_model_module_version": "2.0.0",
       "_model_name": "HTMLModel",
       "_view_count": null,
       "_view_module": "@jupyter-widgets/controls",
       "_view_module_version": "2.0.0",
       "_view_name": "HTMLView",
       "description": "",
       "description_allow_html": false,
       "layout": "IPY_MODEL_1ba2f9c7eb924b18bb16adf0d44f1f85",
       "placeholder": "​",
       "style": "IPY_MODEL_05152f85a6d443ad8007fa7eb56ca375",
       "tabbable": null,
       "tooltip": null,
       "value": "100%"
      }
     }
    },
    "version_major": 2,
    "version_minor": 0
   }
  }
 },
 "nbformat": 4,
 "nbformat_minor": 5
}