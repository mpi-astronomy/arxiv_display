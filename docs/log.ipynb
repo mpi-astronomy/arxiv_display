{
 "cells": [
  {
   "cell_type": "markdown",
   "id": "92bcb855",
   "metadata": {
    "papermill": {
     "duration": 0.005157,
     "end_time": "2022-11-07T04:30:57.633121",
     "exception": false,
     "start_time": "2022-11-07T04:30:57.627964",
     "status": "completed"
    },
    "tags": []
   },
   "source": [
    "# MPIA Arxiv on Deck 2\n",
    "\n",
    "Contains the steps to produce the paper extractions."
   ]
  },
  {
   "cell_type": "code",
   "execution_count": 1,
   "id": "3a0d6e11",
   "metadata": {
    "execution": {
     "iopub.execute_input": "2022-11-07T04:30:57.643346Z",
     "iopub.status.busy": "2022-11-07T04:30:57.642507Z",
     "iopub.status.idle": "2022-11-07T04:30:57.812228Z",
     "shell.execute_reply": "2022-11-07T04:30:57.811522Z"
    },
    "papermill": {
     "duration": 0.17683,
     "end_time": "2022-11-07T04:30:57.814162",
     "exception": false,
     "start_time": "2022-11-07T04:30:57.637332",
     "status": "completed"
    },
    "tags": []
   },
   "outputs": [],
   "source": [
    "# Imports\n",
    "import os\n",
    "from IPython.display import Markdown, display\n",
    "from tqdm.notebook import tqdm\n",
    "import warnings\n",
    "from PIL import Image \n",
    "\n",
    "# requires arxiv_on_deck_2\n",
    "\n",
    "from arxiv_on_deck_2.arxiv2 import (get_new_papers, \n",
    "                                    get_paper_from_identifier,\n",
    "                                    retrieve_document_source, \n",
    "                                    get_markdown_badge)\n",
    "from arxiv_on_deck_2 import (latex, \n",
    "                             mpia,\n",
    "                             highlight_authors_in_list)\n",
    "\n",
    "# Sometimes images are really big\n",
    "Image.MAX_IMAGE_PIXELS = 1000000000 "
   ]
  },
  {
   "cell_type": "code",
   "execution_count": 2,
   "id": "22aa9d44",
   "metadata": {
    "execution": {
     "iopub.execute_input": "2022-11-07T04:30:57.824129Z",
     "iopub.status.busy": "2022-11-07T04:30:57.823770Z",
     "iopub.status.idle": "2022-11-07T04:30:57.828828Z",
     "shell.execute_reply": "2022-11-07T04:30:57.828173Z"
    },
    "papermill": {
     "duration": 0.012176,
     "end_time": "2022-11-07T04:30:57.830698",
     "exception": false,
     "start_time": "2022-11-07T04:30:57.818522",
     "status": "completed"
    },
    "tags": []
   },
   "outputs": [],
   "source": [
    "# Some useful definitions.\n",
    "\n",
    "class AffiliationWarning(UserWarning):\n",
    "    pass\n",
    "\n",
    "class AffiliationError(RuntimeError):\n",
    "    pass\n",
    "\n",
    "def validation(source: str):\n",
    "    \"\"\"Raises error paper during parsing of source file\n",
    "    \n",
    "    Allows checks before parsing TeX code.\n",
    "    \n",
    "    Raises AffiliationWarning\n",
    "    \"\"\"\n",
    "    check = mpia.affiliation_verifications(source, verbose=True)\n",
    "    if check is not True:\n",
    "        raise AffiliationError(\"mpia.affiliation_verifications: \" + check)\n",
    "\n",
    "        \n",
    "warnings.simplefilter('always', AffiliationWarning)"
   ]
  },
  {
   "cell_type": "code",
   "execution_count": 3,
   "id": "14622700",
   "metadata": {
    "execution": {
     "iopub.execute_input": "2022-11-07T04:30:57.841270Z",
     "iopub.status.busy": "2022-11-07T04:30:57.841030Z",
     "iopub.status.idle": "2022-11-07T04:30:57.844615Z",
     "shell.execute_reply": "2022-11-07T04:30:57.844132Z"
    },
    "papermill": {
     "duration": 0.011587,
     "end_time": "2022-11-07T04:30:57.846253",
     "exception": false,
     "start_time": "2022-11-07T04:30:57.834666",
     "status": "completed"
    },
    "tags": []
   },
   "outputs": [],
   "source": [
    "# additional CSS to consider. \n",
    "# TODO: Current into each exported file. \n",
    "#       This should be set once into the webpages directly.\n",
    "#       With only the class/id definitions in the .md files.\n",
    "\n",
    "debug_html = \"\"\"\n",
    "<style>\n",
    "#wrap{ overflow:auto; }\n",
    "#fig1{ background:yellow; width:100%; float:left; padding:5px;  }\n",
    "#fig2{ background:red; width:50%; float:left; clear:left; padding:5px;  }\n",
    "#fig3{ background:green; width:50%; float:left; padding:5px;   }\n",
    ".macros{ background:yellow; visibility:visible;}\n",
    "h1 {margin: 0 0 0 0;}\n",
    "mark {background-color:#fff3b6;}\n",
    "img {object-fit:contain; max-height:250px; display:inline-block; text-align: center;}\n",
    "</style>\n",
    "\"\"\" \n",
    "html = \"\"\"\n",
    "<style>\n",
    "#wrap{ overflow:auto; }\n",
    "#fig1{ width:100%; float:left; padding: 5px;  }\n",
    "#fig2{ width:50%; float:left; clear:left; padding: 5px;  }\n",
    "#fig3{ width:50%; float:left; padding: 5px;  }\n",
    ".macros{ visibility:hidden; height:0px; }\n",
    "h1 {margin: 0em 0 0 0;}\n",
    "mark {background-color:#fff3b6;}\n",
    "img {object-fit:contain; max-height:250px; display:inline-block; text-align: center;}\n",
    "</style>\n",
    "\"\"\""
   ]
  },
  {
   "cell_type": "markdown",
   "id": "14bd6310",
   "metadata": {
    "papermill": {
     "duration": 0.003998,
     "end_time": "2022-11-07T04:30:57.854211",
     "exception": false,
     "start_time": "2022-11-07T04:30:57.850213",
     "status": "completed"
    },
    "tags": []
   },
   "source": [
    "## get list of arxiv paper candidates\n",
    "\n",
    "We use the MPIA mitarbeiter list webpage from mpia.de to get author names\n",
    "We then get all new papers from Arxiv and match authors"
   ]
  },
  {
   "cell_type": "code",
   "execution_count": 4,
   "id": "2645e73a",
   "metadata": {
    "execution": {
     "iopub.execute_input": "2022-11-07T04:30:57.863806Z",
     "iopub.status.busy": "2022-11-07T04:30:57.863268Z",
     "iopub.status.idle": "2022-11-07T04:31:24.112353Z",
     "shell.execute_reply": "2022-11-07T04:31:24.111803Z"
    },
    "papermill": {
     "duration": 26.255845,
     "end_time": "2022-11-07T04:31:24.114043",
     "exception": false,
     "start_time": "2022-11-07T04:30:57.858198",
     "status": "completed"
    },
    "tags": []
   },
   "outputs": [
    {
     "name": "stdout",
     "output_type": "stream",
     "text": [
      "Arxiv has 59 new papers today\n",
      "          25 with possible author matches\n"
     ]
    }
   ],
   "source": [
    "# get list from MPIA website\n",
    "# it automatically filters identified non-scientists :func:`mpia.filter_non_scientists`\n",
    "mpia_authors = mpia.get_mpia_mitarbeiter_list()\n",
    "new_papers = get_new_papers()\n",
    "# add manual references\n",
    "add_paper_refs = []\n",
    "new_papers.extend([get_paper_from_identifier(k) for k in add_paper_refs])\n",
    "\n",
    "# select only papers with matching author names and highlight authors\n",
    "hl_list = [k[0] for k in mpia_authors]\n",
    "\n",
    "candidates = []\n",
    "for paperk in new_papers:\n",
    "    hl_authors = highlight_authors_in_list(paperk['authors'], hl_list)\n",
    "    matches = [(hl, orig) for hl, orig in zip(hl_authors, paperk['authors']) if 'mark' in hl]\n",
    "    paperk['authors'] = hl_authors\n",
    "    if matches:\n",
    "        candidates.append(paperk)\n",
    "print(\"\"\"Arxiv has {0:,d} new papers today\"\"\".format(len(new_papers)))        \n",
    "print(\"\"\"          {0:,d} with possible author matches\"\"\".format(len(candidates)))"
   ]
  },
  {
   "cell_type": "markdown",
   "id": "3543b34a",
   "metadata": {
    "papermill": {
     "duration": 0.004369,
     "end_time": "2022-11-07T04:31:24.122789",
     "exception": false,
     "start_time": "2022-11-07T04:31:24.118420",
     "status": "completed"
    },
    "tags": []
   },
   "source": [
    "# Parse sources and generate relevant outputs\n",
    "\n",
    "From the candidates, we do the following steps:\n",
    "* get their tarball from ArXiv (and extract data)\n",
    "* find the main .tex file: find one with \\documentclass{...} (sometimes it's non trivial)\n",
    "* Check affiliations with :func:`validation`, which uses :func:`mpia.affiliation_verifications`\n",
    "* If passing the affiliations: we parse the .tex source\n",
    "   * inject sub-documents into the main (flatten the main document)\n",
    "   * parse structure, extract information (title, abstract, authors, figures...)\n",
    "   * handles `\\graphicspath` if provided\n",
    "* Generate the .md document."
   ]
  },
  {
   "cell_type": "code",
   "execution_count": 5,
   "id": "9576b79e",
   "metadata": {
    "execution": {
     "iopub.execute_input": "2022-11-07T04:31:24.132169Z",
     "iopub.status.busy": "2022-11-07T04:31:24.131771Z",
     "iopub.status.idle": "2022-11-07T04:33:01.867496Z",
     "shell.execute_reply": "2022-11-07T04:33:01.866904Z"
    },
    "papermill": {
     "duration": 97.750587,
     "end_time": "2022-11-07T04:33:01.877329",
     "exception": false,
     "start_time": "2022-11-07T04:31:24.126742",
     "status": "completed"
    },
    "scrolled": false,
    "tags": []
   },
   "outputs": [
    {
     "data": {
      "application/vnd.jupyter.widget-view+json": {
       "model_id": "2e8f8d960768434c9fe7133995e7832f",
       "version_major": 2,
       "version_minor": 0
      },
      "text/plain": [
       "  0%|          | 0/24 [00:00<?, ?it/s]"
      ]
     },
     "metadata": {},
     "output_type": "display_data"
    },
    {
     "name": "stdout",
     "output_type": "stream",
     "text": [
      "Retrieving document from  https://arxiv.org/e-print/2211.02056\n"
     ]
    },
    {
     "name": "stdout",
     "output_type": "stream",
     "text": [
      "extracting tarball to tmp_2211.02056..."
     ]
    },
    {
     "name": "stdout",
     "output_type": "stream",
     "text": [
      " done.\n",
      "Retrieving document from  https://arxiv.org/e-print/2211.02060\n"
     ]
    },
    {
     "name": "stdout",
     "output_type": "stream",
     "text": [
      "extracting tarball to tmp_2211.02060..."
     ]
    },
    {
     "name": "stdout",
     "output_type": "stream",
     "text": [
      " done.\n",
      "Retrieving document from  https://arxiv.org/e-print/2211.02061\n"
     ]
    },
    {
     "name": "stdout",
     "output_type": "stream",
     "text": [
      "extracting tarball to tmp_2211.02061..."
     ]
    },
    {
     "name": "stdout",
     "output_type": "stream",
     "text": [
      " done.\n",
      "Retrieving document from  https://arxiv.org/e-print/2211.02062\n"
     ]
    },
    {
     "name": "stderr",
     "output_type": "stream",
     "text": [
      "/opt/hostedtoolcache/Python/3.9.15/x64/lib/python3.9/site-packages/IPython/core/interactiveshell.py:3433: LatexWarning: Multiple tex files.\n",
      "\n",
      "  exec(code_obj, self.user_global_ns, self.user_ns)\n",
      "/opt/hostedtoolcache/Python/3.9.15/x64/lib/python3.9/site-packages/IPython/core/interactiveshell.py:3433: LatexWarning: Found documentclass in tmp_2211.02061/main.tex\n",
      "\n",
      "  exec(code_obj, self.user_global_ns, self.user_ns)\n",
      "/opt/hostedtoolcache/Python/3.9.15/x64/lib/python3.9/site-packages/arxiv_on_deck_2/latex.py:292: LatexWarning: Latex injecting: 'distances_tab' from 'tmp_2211.02061/distances_tab.tex'\n",
      "  warnings.warn(LatexWarning(f\"Latex injecting: '{ext}' from '{subsource}'\"))\n"
     ]
    },
    {
     "name": "stdout",
     "output_type": "stream",
     "text": [
      "extracting tarball to tmp_2211.02062..."
     ]
    },
    {
     "name": "stdout",
     "output_type": "stream",
     "text": [
      " done.\n",
      "Retrieving document from  https://arxiv.org/e-print/2211.02063\n"
     ]
    },
    {
     "name": "stdout",
     "output_type": "stream",
     "text": [
      "extracting tarball to tmp_2211.02063..."
     ]
    },
    {
     "name": "stdout",
     "output_type": "stream",
     "text": [
      " done.\n",
      "Retrieving document from  https://arxiv.org/e-print/2211.02094\n"
     ]
    },
    {
     "name": "stderr",
     "output_type": "stream",
     "text": [
      "/opt/hostedtoolcache/Python/3.9.15/x64/lib/python3.9/site-packages/IPython/core/interactiveshell.py:3433: LatexWarning: Multiple tex files.\n",
      "\n",
      "  exec(code_obj, self.user_global_ns, self.user_ns)\n",
      "/opt/hostedtoolcache/Python/3.9.15/x64/lib/python3.9/site-packages/IPython/core/interactiveshell.py:3433: LatexWarning: Found documentclass in tmp_2211.02063/natnotes.tex\n",
      "\n",
      "  exec(code_obj, self.user_global_ns, self.user_ns)\n"
     ]
    },
    {
     "name": "stdout",
     "output_type": "stream",
     "text": [
      "extracting tarball to tmp_2211.02094..."
     ]
    },
    {
     "name": "stdout",
     "output_type": "stream",
     "text": [
      " done.\n",
      "Retrieving document from  https://arxiv.org/e-print/2211.02109\n"
     ]
    },
    {
     "name": "stderr",
     "output_type": "stream",
     "text": [
      "/opt/hostedtoolcache/Python/3.9.15/x64/lib/python3.9/site-packages/IPython/core/interactiveshell.py:3433: LatexWarning: Multiple tex files.\n",
      "\n",
      "  exec(code_obj, self.user_global_ns, self.user_ns)\n",
      "/opt/hostedtoolcache/Python/3.9.15/x64/lib/python3.9/site-packages/IPython/core/interactiveshell.py:3433: LatexWarning: Found documentclass in tmp_2211.02094/natnotes.tex\n",
      "\n",
      "  exec(code_obj, self.user_global_ns, self.user_ns)\n"
     ]
    },
    {
     "name": "stdout",
     "output_type": "stream",
     "text": [
      "extracting tarball to tmp_2211.02109..."
     ]
    },
    {
     "name": "stdout",
     "output_type": "stream",
     "text": [
      " done.\n",
      "Retrieving document from  https://arxiv.org/e-print/2211.02120\n"
     ]
    },
    {
     "name": "stdout",
     "output_type": "stream",
     "text": [
      "extracting tarball to tmp_2211.02120..."
     ]
    },
    {
     "name": "stdout",
     "output_type": "stream",
     "text": [
      " done.\n",
      "Retrieving document from  https://arxiv.org/e-print/2211.02137\n"
     ]
    },
    {
     "name": "stderr",
     "output_type": "stream",
     "text": [
      "/opt/hostedtoolcache/Python/3.9.15/x64/lib/python3.9/site-packages/IPython/core/interactiveshell.py:3433: LatexWarning: Multiple tex files.\n",
      "\n",
      "  exec(code_obj, self.user_global_ns, self.user_ns)\n",
      "/opt/hostedtoolcache/Python/3.9.15/x64/lib/python3.9/site-packages/IPython/core/interactiveshell.py:3433: LatexWarning: Found documentclass in tmp_2211.02120/sample62.tex\n",
      "\n",
      "  exec(code_obj, self.user_global_ns, self.user_ns)\n"
     ]
    },
    {
     "name": "stdout",
     "output_type": "stream",
     "text": [
      "extracting tarball to tmp_2211.02137..."
     ]
    },
    {
     "name": "stdout",
     "output_type": "stream",
     "text": [
      " done.\n"
     ]
    },
    {
     "name": "stderr",
     "output_type": "stream",
     "text": [
      "/tmp/ipykernel_2275/4030337529.py:34: LatexWarning: 2211.02137 did not run properly\n",
      "[Errno 2] No such file or directory: 'gs'\n",
      "  warnings.warn(latex.LatexWarning(f\"{paper_id:s} did not run properly\\n\" +\n"
     ]
    },
    {
     "name": "stdout",
     "output_type": "stream",
     "text": [
      "Retrieving document from  https://arxiv.org/e-print/2211.02251\n"
     ]
    },
    {
     "name": "stdout",
     "output_type": "stream",
     "text": [
      "extracting tarball to tmp_2211.02251..."
     ]
    },
    {
     "name": "stdout",
     "output_type": "stream",
     "text": [
      " done.\n",
      "Retrieving document from  https://arxiv.org/e-print/2211.02278\n"
     ]
    },
    {
     "name": "stderr",
     "output_type": "stream",
     "text": [
      "/opt/hostedtoolcache/Python/3.9.15/x64/lib/python3.9/site-packages/IPython/core/interactiveshell.py:3433: LatexWarning: Multiple tex files.\n",
      "\n",
      "  exec(code_obj, self.user_global_ns, self.user_ns)\n",
      "/opt/hostedtoolcache/Python/3.9.15/x64/lib/python3.9/site-packages/IPython/core/interactiveshell.py:3433: LatexWarning: Found documentclass in tmp_2211.02251/aassymbols.tex\n",
      "\n",
      "  exec(code_obj, self.user_global_ns, self.user_ns)\n"
     ]
    },
    {
     "name": "stdout",
     "output_type": "stream",
     "text": [
      "extracting tarball to tmp_2211.02278..."
     ]
    },
    {
     "name": "stdout",
     "output_type": "stream",
     "text": [
      " done.\n",
      "Retrieving document from  https://arxiv.org/e-print/2211.02288\n"
     ]
    },
    {
     "name": "stdout",
     "output_type": "stream",
     "text": [
      "extracting tarball to tmp_2211.02288... done.\n",
      "Retrieving document from  https://arxiv.org/e-print/2211.02309\n"
     ]
    },
    {
     "name": "stdout",
     "output_type": "stream",
     "text": [
      "extracting tarball to tmp_2211.02309..."
     ]
    },
    {
     "name": "stdout",
     "output_type": "stream",
     "text": [
      " done.\n",
      "Retrieving document from  https://arxiv.org/e-print/2211.02354\n"
     ]
    },
    {
     "name": "stdout",
     "output_type": "stream",
     "text": [
      "extracting tarball to tmp_2211.02354..."
     ]
    },
    {
     "name": "stdout",
     "output_type": "stream",
     "text": [
      " done.\n",
      "Retrieving document from  https://arxiv.org/e-print/2211.02376\n"
     ]
    },
    {
     "name": "stdout",
     "output_type": "stream",
     "text": [
      "extracting tarball to tmp_2211.02376..."
     ]
    },
    {
     "name": "stdout",
     "output_type": "stream",
     "text": [
      " done.\n",
      "Retrieving document from  https://arxiv.org/e-print/2211.02391\n"
     ]
    },
    {
     "name": "stderr",
     "output_type": "stream",
     "text": [
      "/opt/hostedtoolcache/Python/3.9.15/x64/lib/python3.9/site-packages/IPython/core/interactiveshell.py:3433: LatexWarning: Multiple tex files.\n",
      "\n",
      "  exec(code_obj, self.user_global_ns, self.user_ns)\n",
      "/opt/hostedtoolcache/Python/3.9.15/x64/lib/python3.9/site-packages/IPython/core/interactiveshell.py:3433: LatexWarning: Found documentclass in tmp_2211.02376/main_revised.tex\n",
      "\n",
      "  exec(code_obj, self.user_global_ns, self.user_ns)\n"
     ]
    },
    {
     "name": "stdout",
     "output_type": "stream",
     "text": [
      "extracting tarball to tmp_2211.02391..."
     ]
    },
    {
     "name": "stdout",
     "output_type": "stream",
     "text": [
      " done.\n",
      "Retrieving document from  https://arxiv.org/e-print/2211.02426\n"
     ]
    },
    {
     "name": "stdout",
     "output_type": "stream",
     "text": [
      "extracting tarball to tmp_2211.02426..."
     ]
    },
    {
     "name": "stdout",
     "output_type": "stream",
     "text": [
      " done.\n",
      "Retrieving document from  https://arxiv.org/e-print/2211.02428\n"
     ]
    },
    {
     "name": "stderr",
     "output_type": "stream",
     "text": [
      "/tmp/ipykernel_2275/4030337529.py:34: LatexWarning: 2211.02428 did not run properly\n",
      "not a gzip file\n",
      "  warnings.warn(latex.LatexWarning(f\"{paper_id:s} did not run properly\\n\" +\n"
     ]
    },
    {
     "name": "stdout",
     "output_type": "stream",
     "text": [
      "Retrieving document from  https://arxiv.org/e-print/2211.02473\n"
     ]
    },
    {
     "name": "stdout",
     "output_type": "stream",
     "text": [
      "extracting tarball to tmp_2211.02473..."
     ]
    },
    {
     "name": "stdout",
     "output_type": "stream",
     "text": [
      " done.\n",
      "Retrieving document from  https://arxiv.org/e-print/2211.02495\n"
     ]
    },
    {
     "name": "stdout",
     "output_type": "stream",
     "text": [
      "extracting tarball to tmp_2211.02495..."
     ]
    },
    {
     "name": "stdout",
     "output_type": "stream",
     "text": [
      " done.\n",
      "Retrieving document from  https://arxiv.org/e-print/2211.02502\n"
     ]
    },
    {
     "name": "stderr",
     "output_type": "stream",
     "text": [
      "/opt/hostedtoolcache/Python/3.9.15/x64/lib/python3.9/site-packages/IPython/core/interactiveshell.py:3433: LatexWarning: Multiple tex files.\n",
      "\n",
      "  exec(code_obj, self.user_global_ns, self.user_ns)\n",
      "/opt/hostedtoolcache/Python/3.9.15/x64/lib/python3.9/site-packages/IPython/core/interactiveshell.py:3433: LatexWarning: Found documentclass in tmp_2211.02495/ceersnircam.tex\n",
      "\n",
      "  exec(code_obj, self.user_global_ns, self.user_ns)\n",
      "/opt/hostedtoolcache/Python/3.9.15/x64/lib/python3.9/site-packages/arxiv_on_deck_2/latex.py:292: LatexWarning: Latex injecting: 'definitions' from 'tmp_2211.02495/definitions.tex'\n",
      "  warnings.warn(LatexWarning(f\"Latex injecting: '{ext}' from '{subsource}'\"))\n"
     ]
    },
    {
     "name": "stdout",
     "output_type": "stream",
     "text": [
      "extracting tarball to tmp_2211.02502..."
     ]
    },
    {
     "name": "stdout",
     "output_type": "stream",
     "text": [
      " done.\n"
     ]
    },
    {
     "name": "stderr",
     "output_type": "stream",
     "text": [
      "/opt/hostedtoolcache/Python/3.9.15/x64/lib/python3.9/site-packages/IPython/core/interactiveshell.py:3433: LatexWarning: Multiple tex files.\n",
      "\n",
      "  exec(code_obj, self.user_global_ns, self.user_ns)\n",
      "/opt/hostedtoolcache/Python/3.9.15/x64/lib/python3.9/site-packages/IPython/core/interactiveshell.py:3433: LatexWarning: Found documentclass in tmp_2211.02502/ms.tex\n",
      "\n",
      "  exec(code_obj, self.user_global_ns, self.user_ns)\n"
     ]
    },
    {
     "name": "stderr",
     "output_type": "stream",
     "text": [
      "/opt/hostedtoolcache/Python/3.9.15/x64/lib/python3.9/site-packages/arxiv_on_deck_2/latex.py:118: LatexWarning: attempting recovering figure f11\n",
      "  warnings.warn(LatexWarning(f'attempting recovering figure {image}'))\n",
      "/opt/hostedtoolcache/Python/3.9.15/x64/lib/python3.9/site-packages/arxiv_on_deck_2/latex.py:118: LatexWarning: attempting recovering figure f12\n",
      "  warnings.warn(LatexWarning(f'attempting recovering figure {image}'))\n",
      "/opt/hostedtoolcache/Python/3.9.15/x64/lib/python3.9/site-packages/arxiv_on_deck_2/latex.py:118: LatexWarning: attempting recovering figure f25\n",
      "  warnings.warn(LatexWarning(f'attempting recovering figure {image}'))\n",
      "/opt/hostedtoolcache/Python/3.9.15/x64/lib/python3.9/site-packages/arxiv_on_deck_2/latex.py:118: LatexWarning: attempting recovering figure f27\n",
      "  warnings.warn(LatexWarning(f'attempting recovering figure {image}'))\n",
      "/opt/hostedtoolcache/Python/3.9.15/x64/lib/python3.9/site-packages/arxiv_on_deck_2/latex.py:118: LatexWarning: attempting recovering figure f38\n",
      "  warnings.warn(LatexWarning(f'attempting recovering figure {image}'))\n",
      "/opt/hostedtoolcache/Python/3.9.15/x64/lib/python3.9/site-packages/arxiv_on_deck_2/latex.py:118: LatexWarning: attempting recovering figure f39\n",
      "  warnings.warn(LatexWarning(f'attempting recovering figure {image}'))\n",
      "/opt/hostedtoolcache/Python/3.9.15/x64/lib/python3.9/site-packages/arxiv_on_deck_2/latex.py:118: LatexWarning: attempting recovering figure f1\n",
      "  warnings.warn(LatexWarning(f'attempting recovering figure {image}'))\n",
      "/opt/hostedtoolcache/Python/3.9.15/x64/lib/python3.9/site-packages/arxiv_on_deck_2/latex.py:118: LatexWarning: attempting recovering figure f2\n",
      "  warnings.warn(LatexWarning(f'attempting recovering figure {image}'))\n",
      "/opt/hostedtoolcache/Python/3.9.15/x64/lib/python3.9/site-packages/arxiv_on_deck_2/latex.py:118: LatexWarning: attempting recovering figure f3\n",
      "  warnings.warn(LatexWarning(f'attempting recovering figure {image}'))\n",
      "/opt/hostedtoolcache/Python/3.9.15/x64/lib/python3.9/site-packages/arxiv_on_deck_2/latex.py:118: LatexWarning: attempting recovering figure f4\n",
      "  warnings.warn(LatexWarning(f'attempting recovering figure {image}'))\n",
      "/opt/hostedtoolcache/Python/3.9.15/x64/lib/python3.9/site-packages/arxiv_on_deck_2/latex.py:118: LatexWarning: attempting recovering figure f5\n",
      "  warnings.warn(LatexWarning(f'attempting recovering figure {image}'))\n",
      "/opt/hostedtoolcache/Python/3.9.15/x64/lib/python3.9/site-packages/arxiv_on_deck_2/latex.py:118: LatexWarning: attempting recovering figure f6\n",
      "  warnings.warn(LatexWarning(f'attempting recovering figure {image}'))\n",
      "/opt/hostedtoolcache/Python/3.9.15/x64/lib/python3.9/site-packages/arxiv_on_deck_2/latex.py:118: LatexWarning: attempting recovering figure f7\n",
      "  warnings.warn(LatexWarning(f'attempting recovering figure {image}'))\n",
      "/opt/hostedtoolcache/Python/3.9.15/x64/lib/python3.9/site-packages/arxiv_on_deck_2/latex.py:118: LatexWarning: attempting recovering figure f8\n",
      "  warnings.warn(LatexWarning(f'attempting recovering figure {image}'))\n",
      "/opt/hostedtoolcache/Python/3.9.15/x64/lib/python3.9/site-packages/arxiv_on_deck_2/latex.py:118: LatexWarning: attempting recovering figure f9\n",
      "  warnings.warn(LatexWarning(f'attempting recovering figure {image}'))\n",
      "/opt/hostedtoolcache/Python/3.9.15/x64/lib/python3.9/site-packages/arxiv_on_deck_2/latex.py:118: LatexWarning: attempting recovering figure f10\n",
      "  warnings.warn(LatexWarning(f'attempting recovering figure {image}'))\n",
      "/opt/hostedtoolcache/Python/3.9.15/x64/lib/python3.9/site-packages/arxiv_on_deck_2/latex.py:118: LatexWarning: attempting recovering figure f13\n",
      "  warnings.warn(LatexWarning(f'attempting recovering figure {image}'))\n",
      "/opt/hostedtoolcache/Python/3.9.15/x64/lib/python3.9/site-packages/arxiv_on_deck_2/latex.py:118: LatexWarning: attempting recovering figure f14\n",
      "  warnings.warn(LatexWarning(f'attempting recovering figure {image}'))\n",
      "/opt/hostedtoolcache/Python/3.9.15/x64/lib/python3.9/site-packages/arxiv_on_deck_2/latex.py:118: LatexWarning: attempting recovering figure f15\n",
      "  warnings.warn(LatexWarning(f'attempting recovering figure {image}'))\n",
      "/opt/hostedtoolcache/Python/3.9.15/x64/lib/python3.9/site-packages/arxiv_on_deck_2/latex.py:118: LatexWarning: attempting recovering figure f16\n",
      "  warnings.warn(LatexWarning(f'attempting recovering figure {image}'))\n",
      "/opt/hostedtoolcache/Python/3.9.15/x64/lib/python3.9/site-packages/arxiv_on_deck_2/latex.py:118: LatexWarning: attempting recovering figure f17\n",
      "  warnings.warn(LatexWarning(f'attempting recovering figure {image}'))\n",
      "/opt/hostedtoolcache/Python/3.9.15/x64/lib/python3.9/site-packages/arxiv_on_deck_2/latex.py:118: LatexWarning: attempting recovering figure f18\n",
      "  warnings.warn(LatexWarning(f'attempting recovering figure {image}'))\n",
      "/opt/hostedtoolcache/Python/3.9.15/x64/lib/python3.9/site-packages/arxiv_on_deck_2/latex.py:118: LatexWarning: attempting recovering figure f19\n",
      "  warnings.warn(LatexWarning(f'attempting recovering figure {image}'))\n",
      "/opt/hostedtoolcache/Python/3.9.15/x64/lib/python3.9/site-packages/arxiv_on_deck_2/latex.py:118: LatexWarning: attempting recovering figure f20\n",
      "  warnings.warn(LatexWarning(f'attempting recovering figure {image}'))\n",
      "/opt/hostedtoolcache/Python/3.9.15/x64/lib/python3.9/site-packages/arxiv_on_deck_2/latex.py:118: LatexWarning: attempting recovering figure f21\n",
      "  warnings.warn(LatexWarning(f'attempting recovering figure {image}'))\n",
      "/opt/hostedtoolcache/Python/3.9.15/x64/lib/python3.9/site-packages/arxiv_on_deck_2/latex.py:118: LatexWarning: attempting recovering figure f22\n",
      "  warnings.warn(LatexWarning(f'attempting recovering figure {image}'))\n",
      "/opt/hostedtoolcache/Python/3.9.15/x64/lib/python3.9/site-packages/arxiv_on_deck_2/latex.py:118: LatexWarning: attempting recovering figure f23\n",
      "  warnings.warn(LatexWarning(f'attempting recovering figure {image}'))\n",
      "/opt/hostedtoolcache/Python/3.9.15/x64/lib/python3.9/site-packages/arxiv_on_deck_2/latex.py:118: LatexWarning: attempting recovering figure f24\n",
      "  warnings.warn(LatexWarning(f'attempting recovering figure {image}'))\n",
      "/opt/hostedtoolcache/Python/3.9.15/x64/lib/python3.9/site-packages/arxiv_on_deck_2/latex.py:118: LatexWarning: attempting recovering figure f28\n",
      "  warnings.warn(LatexWarning(f'attempting recovering figure {image}'))\n",
      "/opt/hostedtoolcache/Python/3.9.15/x64/lib/python3.9/site-packages/arxiv_on_deck_2/latex.py:118: LatexWarning: attempting recovering figure f29\n",
      "  warnings.warn(LatexWarning(f'attempting recovering figure {image}'))\n",
      "/opt/hostedtoolcache/Python/3.9.15/x64/lib/python3.9/site-packages/arxiv_on_deck_2/latex.py:118: LatexWarning: attempting recovering figure f30\n",
      "  warnings.warn(LatexWarning(f'attempting recovering figure {image}'))\n",
      "/opt/hostedtoolcache/Python/3.9.15/x64/lib/python3.9/site-packages/arxiv_on_deck_2/latex.py:118: LatexWarning: attempting recovering figure f31\n",
      "  warnings.warn(LatexWarning(f'attempting recovering figure {image}'))\n",
      "/opt/hostedtoolcache/Python/3.9.15/x64/lib/python3.9/site-packages/arxiv_on_deck_2/latex.py:118: LatexWarning: attempting recovering figure f32\n",
      "  warnings.warn(LatexWarning(f'attempting recovering figure {image}'))\n",
      "/opt/hostedtoolcache/Python/3.9.15/x64/lib/python3.9/site-packages/arxiv_on_deck_2/latex.py:118: LatexWarning: attempting recovering figure f33\n",
      "  warnings.warn(LatexWarning(f'attempting recovering figure {image}'))\n",
      "/opt/hostedtoolcache/Python/3.9.15/x64/lib/python3.9/site-packages/arxiv_on_deck_2/latex.py:118: LatexWarning: attempting recovering figure f34\n",
      "  warnings.warn(LatexWarning(f'attempting recovering figure {image}'))\n",
      "/opt/hostedtoolcache/Python/3.9.15/x64/lib/python3.9/site-packages/arxiv_on_deck_2/latex.py:118: LatexWarning: attempting recovering figure f35\n",
      "  warnings.warn(LatexWarning(f'attempting recovering figure {image}'))\n",
      "/opt/hostedtoolcache/Python/3.9.15/x64/lib/python3.9/site-packages/arxiv_on_deck_2/latex.py:118: LatexWarning: attempting recovering figure f36\n",
      "  warnings.warn(LatexWarning(f'attempting recovering figure {image}'))\n",
      "/opt/hostedtoolcache/Python/3.9.15/x64/lib/python3.9/site-packages/arxiv_on_deck_2/latex.py:118: LatexWarning: attempting recovering figure f37\n",
      "  warnings.warn(LatexWarning(f'attempting recovering figure {image}'))\n",
      "/opt/hostedtoolcache/Python/3.9.15/x64/lib/python3.9/site-packages/arxiv_on_deck_2/latex.py:118: LatexWarning: attempting recovering figure f40\n",
      "  warnings.warn(LatexWarning(f'attempting recovering figure {image}'))\n",
      "/opt/hostedtoolcache/Python/3.9.15/x64/lib/python3.9/site-packages/arxiv_on_deck_2/latex.py:118: LatexWarning: attempting recovering figure f41\n",
      "  warnings.warn(LatexWarning(f'attempting recovering figure {image}'))\n",
      "/opt/hostedtoolcache/Python/3.9.15/x64/lib/python3.9/site-packages/arxiv_on_deck_2/latex.py:118: LatexWarning: attempting recovering figure f42\n",
      "  warnings.warn(LatexWarning(f'attempting recovering figure {image}'))\n",
      "/opt/hostedtoolcache/Python/3.9.15/x64/lib/python3.9/site-packages/arxiv_on_deck_2/latex.py:118: LatexWarning: attempting recovering figure f43\n",
      "  warnings.warn(LatexWarning(f'attempting recovering figure {image}'))\n",
      "/opt/hostedtoolcache/Python/3.9.15/x64/lib/python3.9/site-packages/arxiv_on_deck_2/latex.py:118: LatexWarning: attempting recovering figure f44\n",
      "  warnings.warn(LatexWarning(f'attempting recovering figure {image}'))\n",
      "/opt/hostedtoolcache/Python/3.9.15/x64/lib/python3.9/site-packages/arxiv_on_deck_2/latex.py:118: LatexWarning: attempting recovering figure f45\n",
      "  warnings.warn(LatexWarning(f'attempting recovering figure {image}'))\n",
      "/opt/hostedtoolcache/Python/3.9.15/x64/lib/python3.9/site-packages/arxiv_on_deck_2/latex.py:118: LatexWarning: attempting recovering figure f46\n",
      "  warnings.warn(LatexWarning(f'attempting recovering figure {image}'))\n",
      "/opt/hostedtoolcache/Python/3.9.15/x64/lib/python3.9/site-packages/arxiv_on_deck_2/latex.py:118: LatexWarning: attempting recovering figure f47\n",
      "  warnings.warn(LatexWarning(f'attempting recovering figure {image}'))\n",
      "/opt/hostedtoolcache/Python/3.9.15/x64/lib/python3.9/site-packages/arxiv_on_deck_2/latex.py:118: LatexWarning: attempting recovering figure f48\n",
      "  warnings.warn(LatexWarning(f'attempting recovering figure {image}'))\n",
      "/opt/hostedtoolcache/Python/3.9.15/x64/lib/python3.9/site-packages/arxiv_on_deck_2/latex.py:118: LatexWarning: attempting recovering figure f49\n",
      "  warnings.warn(LatexWarning(f'attempting recovering figure {image}'))\n",
      "/opt/hostedtoolcache/Python/3.9.15/x64/lib/python3.9/site-packages/arxiv_on_deck_2/latex.py:118: LatexWarning: attempting recovering figure f50\n",
      "  warnings.warn(LatexWarning(f'attempting recovering figure {image}'))\n",
      "/opt/hostedtoolcache/Python/3.9.15/x64/lib/python3.9/site-packages/arxiv_on_deck_2/latex.py:118: LatexWarning: attempting recovering figure f51\n",
      "  warnings.warn(LatexWarning(f'attempting recovering figure {image}'))\n",
      "/opt/hostedtoolcache/Python/3.9.15/x64/lib/python3.9/site-packages/arxiv_on_deck_2/latex.py:118: LatexWarning: attempting recovering figure f52\n",
      "  warnings.warn(LatexWarning(f'attempting recovering figure {image}'))\n",
      "/opt/hostedtoolcache/Python/3.9.15/x64/lib/python3.9/site-packages/arxiv_on_deck_2/latex.py:118: LatexWarning: attempting recovering figure f53\n",
      "  warnings.warn(LatexWarning(f'attempting recovering figure {image}'))\n",
      "/opt/hostedtoolcache/Python/3.9.15/x64/lib/python3.9/site-packages/arxiv_on_deck_2/latex.py:118: LatexWarning: attempting recovering figure f54\n",
      "  warnings.warn(LatexWarning(f'attempting recovering figure {image}'))\n",
      "/opt/hostedtoolcache/Python/3.9.15/x64/lib/python3.9/site-packages/arxiv_on_deck_2/latex.py:118: LatexWarning: attempting recovering figure f55\n",
      "  warnings.warn(LatexWarning(f'attempting recovering figure {image}'))\n",
      "/opt/hostedtoolcache/Python/3.9.15/x64/lib/python3.9/site-packages/arxiv_on_deck_2/latex.py:118: LatexWarning: attempting recovering figure f56\n",
      "  warnings.warn(LatexWarning(f'attempting recovering figure {image}'))\n",
      "/opt/hostedtoolcache/Python/3.9.15/x64/lib/python3.9/site-packages/arxiv_on_deck_2/latex.py:118: LatexWarning: attempting recovering figure f57\n",
      "  warnings.warn(LatexWarning(f'attempting recovering figure {image}'))\n",
      "/opt/hostedtoolcache/Python/3.9.15/x64/lib/python3.9/site-packages/arxiv_on_deck_2/latex.py:118: LatexWarning: attempting recovering figure f58\n",
      "  warnings.warn(LatexWarning(f'attempting recovering figure {image}'))\n",
      "/opt/hostedtoolcache/Python/3.9.15/x64/lib/python3.9/site-packages/arxiv_on_deck_2/latex.py:118: LatexWarning: attempting recovering figure f59\n",
      "  warnings.warn(LatexWarning(f'attempting recovering figure {image}'))\n",
      "/opt/hostedtoolcache/Python/3.9.15/x64/lib/python3.9/site-packages/arxiv_on_deck_2/latex.py:118: LatexWarning: attempting recovering figure f60\n",
      "  warnings.warn(LatexWarning(f'attempting recovering figure {image}'))\n",
      "/opt/hostedtoolcache/Python/3.9.15/x64/lib/python3.9/site-packages/arxiv_on_deck_2/latex.py:118: LatexWarning: attempting recovering figure f61\n",
      "  warnings.warn(LatexWarning(f'attempting recovering figure {image}'))\n",
      "/opt/hostedtoolcache/Python/3.9.15/x64/lib/python3.9/site-packages/arxiv_on_deck_2/latex.py:118: LatexWarning: attempting recovering figure f62\n",
      "  warnings.warn(LatexWarning(f'attempting recovering figure {image}'))\n",
      "/opt/hostedtoolcache/Python/3.9.15/x64/lib/python3.9/site-packages/arxiv_on_deck_2/latex.py:118: LatexWarning: attempting recovering figure f63\n",
      "  warnings.warn(LatexWarning(f'attempting recovering figure {image}'))\n",
      "/opt/hostedtoolcache/Python/3.9.15/x64/lib/python3.9/site-packages/arxiv_on_deck_2/latex.py:118: LatexWarning: attempting recovering figure f64\n",
      "  warnings.warn(LatexWarning(f'attempting recovering figure {image}'))\n",
      "/opt/hostedtoolcache/Python/3.9.15/x64/lib/python3.9/site-packages/arxiv_on_deck_2/latex.py:118: LatexWarning: attempting recovering figure f65\n",
      "  warnings.warn(LatexWarning(f'attempting recovering figure {image}'))\n",
      "/opt/hostedtoolcache/Python/3.9.15/x64/lib/python3.9/site-packages/arxiv_on_deck_2/latex.py:118: LatexWarning: attempting recovering figure f66\n",
      "  warnings.warn(LatexWarning(f'attempting recovering figure {image}'))\n",
      "/opt/hostedtoolcache/Python/3.9.15/x64/lib/python3.9/site-packages/arxiv_on_deck_2/latex.py:118: LatexWarning: attempting recovering figure f67\n",
      "  warnings.warn(LatexWarning(f'attempting recovering figure {image}'))\n",
      "/opt/hostedtoolcache/Python/3.9.15/x64/lib/python3.9/site-packages/arxiv_on_deck_2/latex.py:118: LatexWarning: attempting recovering figure f68\n",
      "  warnings.warn(LatexWarning(f'attempting recovering figure {image}'))\n",
      "/opt/hostedtoolcache/Python/3.9.15/x64/lib/python3.9/site-packages/arxiv_on_deck_2/latex.py:118: LatexWarning: attempting recovering figure f69\n",
      "  warnings.warn(LatexWarning(f'attempting recovering figure {image}'))\n",
      "/opt/hostedtoolcache/Python/3.9.15/x64/lib/python3.9/site-packages/arxiv_on_deck_2/latex.py:118: LatexWarning: attempting recovering figure f70\n",
      "  warnings.warn(LatexWarning(f'attempting recovering figure {image}'))\n",
      "/opt/hostedtoolcache/Python/3.9.15/x64/lib/python3.9/site-packages/arxiv_on_deck_2/latex.py:118: LatexWarning: attempting recovering figure f71\n",
      "  warnings.warn(LatexWarning(f'attempting recovering figure {image}'))\n",
      "/opt/hostedtoolcache/Python/3.9.15/x64/lib/python3.9/site-packages/arxiv_on_deck_2/latex.py:118: LatexWarning: attempting recovering figure f72\n",
      "  warnings.warn(LatexWarning(f'attempting recovering figure {image}'))\n",
      "/opt/hostedtoolcache/Python/3.9.15/x64/lib/python3.9/site-packages/arxiv_on_deck_2/latex.py:118: LatexWarning: attempting recovering figure f73\n",
      "  warnings.warn(LatexWarning(f'attempting recovering figure {image}'))\n",
      "/opt/hostedtoolcache/Python/3.9.15/x64/lib/python3.9/site-packages/arxiv_on_deck_2/latex.py:118: LatexWarning: attempting recovering figure f74\n",
      "  warnings.warn(LatexWarning(f'attempting recovering figure {image}'))\n",
      "/opt/hostedtoolcache/Python/3.9.15/x64/lib/python3.9/site-packages/arxiv_on_deck_2/latex.py:118: LatexWarning: attempting recovering figure f75\n",
      "  warnings.warn(LatexWarning(f'attempting recovering figure {image}'))\n",
      "/opt/hostedtoolcache/Python/3.9.15/x64/lib/python3.9/site-packages/arxiv_on_deck_2/latex.py:118: LatexWarning: attempting recovering figure f76\n",
      "  warnings.warn(LatexWarning(f'attempting recovering figure {image}'))\n",
      "/opt/hostedtoolcache/Python/3.9.15/x64/lib/python3.9/site-packages/arxiv_on_deck_2/latex.py:118: LatexWarning: attempting recovering figure f77\n",
      "  warnings.warn(LatexWarning(f'attempting recovering figure {image}'))\n",
      "/opt/hostedtoolcache/Python/3.9.15/x64/lib/python3.9/site-packages/arxiv_on_deck_2/latex.py:118: LatexWarning: attempting recovering figure f78\n",
      "  warnings.warn(LatexWarning(f'attempting recovering figure {image}'))\n",
      "/opt/hostedtoolcache/Python/3.9.15/x64/lib/python3.9/site-packages/arxiv_on_deck_2/latex.py:118: LatexWarning: attempting recovering figure f79\n",
      "  warnings.warn(LatexWarning(f'attempting recovering figure {image}'))\n",
      "/opt/hostedtoolcache/Python/3.9.15/x64/lib/python3.9/site-packages/arxiv_on_deck_2/latex.py:118: LatexWarning: attempting recovering figure f80\n",
      "  warnings.warn(LatexWarning(f'attempting recovering figure {image}'))\n",
      "/opt/hostedtoolcache/Python/3.9.15/x64/lib/python3.9/site-packages/arxiv_on_deck_2/latex.py:118: LatexWarning: attempting recovering figure f81\n",
      "  warnings.warn(LatexWarning(f'attempting recovering figure {image}'))\n",
      "/opt/hostedtoolcache/Python/3.9.15/x64/lib/python3.9/site-packages/arxiv_on_deck_2/latex.py:118: LatexWarning: attempting recovering figure f82\n",
      "  warnings.warn(LatexWarning(f'attempting recovering figure {image}'))\n",
      "/opt/hostedtoolcache/Python/3.9.15/x64/lib/python3.9/site-packages/arxiv_on_deck_2/latex.py:118: LatexWarning: attempting recovering figure f83\n",
      "  warnings.warn(LatexWarning(f'attempting recovering figure {image}'))\n",
      "/opt/hostedtoolcache/Python/3.9.15/x64/lib/python3.9/site-packages/arxiv_on_deck_2/latex.py:118: LatexWarning: attempting recovering figure f84\n",
      "  warnings.warn(LatexWarning(f'attempting recovering figure {image}'))\n"
     ]
    },
    {
     "name": "stdout",
     "output_type": "stream",
     "text": [
      "Retrieving document from  https://arxiv.org/e-print/2211.02526\n"
     ]
    },
    {
     "name": "stdout",
     "output_type": "stream",
     "text": [
      "extracting tarball to tmp_2211.02526..."
     ]
    },
    {
     "name": "stdout",
     "output_type": "stream",
     "text": [
      " done.\n",
      "Retrieving document from  https://arxiv.org/e-print/2211.02547\n"
     ]
    },
    {
     "name": "stdout",
     "output_type": "stream",
     "text": [
      "extracting tarball to tmp_2211.02547..."
     ]
    },
    {
     "name": "stdout",
     "output_type": "stream",
     "text": [
      " done.\n",
      "Retrieving document from  https://arxiv.org/e-print/2211.02565\n"
     ]
    },
    {
     "name": "stderr",
     "output_type": "stream",
     "text": [
      "/opt/hostedtoolcache/Python/3.9.15/x64/lib/python3.9/site-packages/IPython/core/interactiveshell.py:3433: LatexWarning: Multiple tex files.\n",
      "\n",
      "  exec(code_obj, self.user_global_ns, self.user_ns)\n",
      "/opt/hostedtoolcache/Python/3.9.15/x64/lib/python3.9/site-packages/IPython/core/interactiveshell.py:3433: LatexWarning: Found documentclass in tmp_2211.02547/TOI4524_KESPRINT_Murgas.tex\n",
      "\n",
      "  exec(code_obj, self.user_global_ns, self.user_ns)\n",
      "/opt/hostedtoolcache/Python/3.9.15/x64/lib/python3.9/site-packages/arxiv_on_deck_2/latex.py:292: LatexWarning: Latex injecting: 'table-TOI-4524-tng_harpn-0120-srv-complete_output' from 'tmp_2211.02547/table-TOI-4524-tng_harpn-0120-srv-complete_output.tex'\n",
      "  warnings.warn(LatexWarning(f\"Latex injecting: '{ext}' from '{subsource}'\"))\n",
      "/opt/hostedtoolcache/Python/3.9.15/x64/lib/python3.9/site-packages/arxiv_on_deck_2/latex.py:292: LatexWarning: Latex injecting: 'table-TOI-4524-tng_harpn-0120-drs-complete_output.tex' from 'tmp_2211.02547/table-TOI-4524-tng_harpn-0120-drs-complete_output.tex'\n",
      "  warnings.warn(LatexWarning(f\"Latex injecting: '{ext}' from '{subsource}'\"))\n"
     ]
    },
    {
     "name": "stdout",
     "output_type": "stream",
     "text": [
      "extracting tarball to tmp_2211.02565..."
     ]
    },
    {
     "name": "stdout",
     "output_type": "stream",
     "text": [
      " done.\n"
     ]
    }
   ],
   "source": [
    "documents = []\n",
    "failed = []\n",
    "for paper in tqdm(candidates[:-1]):\n",
    "    paper_id = paper['identifier'].lower().replace('arxiv:', '')\n",
    "    \n",
    "    folder = f'tmp_{paper_id}'\n",
    "\n",
    "    try:\n",
    "        if not os.path.isdir(folder):\n",
    "            folder = retrieve_document_source(f\"{paper_id}\", f'tmp_{paper_id}')\n",
    "        \n",
    "        try:\n",
    "            doc = latex.LatexDocument(folder, validation=validation)    \n",
    "        except AffiliationError as affilerror:\n",
    "            msg = f\"ArXiv:{paper_id:s} is not an MPIA paper... \" + str(affilerror)\n",
    "            failed.append((paper, \"affiliation error: \" + str(affilerror) ))\n",
    "            continue\n",
    "        \n",
    "        # Hack because sometimes author parsing does not work well\n",
    "        if (len(doc.authors) != len(paper['authors'])):\n",
    "            doc._authors = paper['authors']\n",
    "        if (doc.abstract) in (None, ''):\n",
    "            doc._abstract = paper['abstract']\n",
    "            \n",
    "        doc.comment = (get_markdown_badge(paper_id) + \n",
    "                       \"<mark>Appeared on: \" + paper['date'] + \"</mark> - \" +\n",
    "                       \"_\" + paper['comments'] + \"_\")\n",
    "        doc.highlight_authors_in_list(hl_list)\n",
    "\n",
    "        full_md = doc.generate_markdown_text()\n",
    "        \n",
    "        documents.append((paper_id, full_md))\n",
    "    except Exception as e:\n",
    "        warnings.warn(latex.LatexWarning(f\"{paper_id:s} did not run properly\\n\" +\n",
    "                                         str(e)\n",
    "                                        ))\n",
    "        failed.append((paper, \"latex error \" + str(e)))"
   ]
  },
  {
   "cell_type": "markdown",
   "id": "2505a25c",
   "metadata": {
    "papermill": {
     "duration": 0.007353,
     "end_time": "2022-11-07T04:33:01.892094",
     "exception": false,
     "start_time": "2022-11-07T04:33:01.884741",
     "status": "completed"
    },
    "tags": []
   },
   "source": [
    "### Export the logs\n",
    "\n",
    "Throughout, we also keep track of the logs per paper. see `logs-{today date}.md` "
   ]
  },
  {
   "cell_type": "code",
   "execution_count": 6,
   "id": "d733828a",
   "metadata": {
    "execution": {
     "iopub.execute_input": "2022-11-07T04:33:01.908621Z",
     "iopub.status.busy": "2022-11-07T04:33:01.907817Z",
     "iopub.status.idle": "2022-11-07T04:33:01.940091Z",
     "shell.execute_reply": "2022-11-07T04:33:01.939357Z"
    },
    "papermill": {
     "duration": 0.042318,
     "end_time": "2022-11-07T04:33:01.941629",
     "exception": false,
     "start_time": "2022-11-07T04:33:01.899311",
     "status": "completed"
    },
    "scrolled": false,
    "tags": []
   },
   "outputs": [
    {
     "data": {
      "text/markdown": [
       "## Successful papers"
      ],
      "text/plain": [
       "<IPython.core.display.Markdown object>"
      ]
     },
     "metadata": {},
     "output_type": "display_data"
    },
    {
     "data": {
      "text/markdown": [
       "\n",
       "|||\n",
       "|---:|:---|\n",
       "| [![arXiv](https://img.shields.io/badge/arXiv-arXiv:2211.02502-b31b1b.svg)](https://arxiv.org/abs/arXiv:2211.02502) | **Salt-bearing disk candidates around high-mass young stellar objects**  |\n",
       "|| Adam Ginsburg, et al. -- incl., <mark>Yichen Zhang</mark>, <mark>Henrik Beuther</mark> |\n",
       "|*Appeared on*| *2022-11-07*|\n",
       "|*Comments*| *accepted to ApJ*|\n",
       "|**Abstract**| Molecular lines tracing the orbital motion of gas in a well-defined disk are valuable tools for inferring both the properties of the disk and the star it surrounds. Lines that arise only from a disk, and not also from the surrounding molecular cloud core that birthed the star or from the outflow it drives, are rare. Several such emission lines have recently been discovered in one example case, those from NaCl and KCl salt molecules. We studied a sample of 23 candidate high-mass young stellar objects (HMYSOs) in 17 high-mass star-forming regions to determine how frequently emission from these species is detected. We present five new detections of water, NaCl, KCl, PN, and SiS from the innermost regions around the objects, bringing the total number of known briny disk candidates to nine. Their kinematic structure is generally disk-like, though we are unable to determine whether they arise from a disk or outflow in the sources with new detections. We demonstrate that these species are spatially coincident in a few resolved cases and show that they are generally detected together, suggesting a common origin or excitation mechanism. We also show that several disks around HMYSOs clearly do not exhibit emission in these species. Salty disks are therefore neither particularly rare in high-mass disks, nor are they ubiquitous. |"
      ],
      "text/plain": [
       "[arXiv:2211.02502] Salt-bearing disk candidates around high-mass young stellar objects\n",
       "\tAdam Ginsburg, et al. -- incl., <mark>Yichen Zhang</mark>, <mark>Henrik Beuther</mark>"
      ]
     },
     "metadata": {},
     "output_type": "display_data"
    },
    {
     "data": {
      "text/markdown": [
       "## Failed papers"
      ],
      "text/plain": [
       "<IPython.core.display.Markdown object>"
      ]
     },
     "metadata": {},
     "output_type": "display_data"
    },
    {
     "data": {
      "text/markdown": [
       "\n",
       "|||\n",
       "|---:|:---|\n",
       "| [![arXiv](https://img.shields.io/badge/arXiv-arXiv:2211.02056-b31b1b.svg)](https://arxiv.org/abs/arXiv:2211.02056) | **A spatially resolved analysis of star-formation burstiness by comparing  UV and H$α$ in galaxies at z$\\sim$1 with UVCANDELS**  |\n",
       "|| Vihang Mehta, et al. -- incl., <mark>Yicheng Guo</mark> |\n",
       "|*Appeared on*| *2022-11-07*|\n",
       "|*Comments*| *19 pages, 8 figures; submitted to ApJ*|\n",
       "|**Abstract**| The UltraViolet imaging of the Cosmic Assembly Near-infrared Deep Extragalactic Legacy Survey Fields (UVCANDELS) program provides HST/UVIS F275W imaging for four CANDELS fields. We combine this UV imaging with existing HST/near-IR grism spectroscopy from 3D-HST+AGHAST to directly compare the resolved rest-frame UV and H$\\alpha$ emission for a sample of 979 galaxies at $0.7<z<1.5$ spanning a range in stellar mass of $10^{8-11.5}~M_\\odot$. Since both rest-UV and H$\\alpha$ are sensitive to on-going star-formation but over different timescales, their resolved comparison allows us to infer the burstiness in star-formation as a function of galaxy structural parameters. We generate homogenized maps of rest-UV and H$\\alpha$ emission for all galaxies in our sample and stack them to compute the average UV-to-H$\\alpha$ luminosity ratio as a function of galactocentric radius. We find that galaxies below stellar mass of $\\sim10^{9.5}~M_\\odot$, at all radii, have a UV-to-H$\\alpha$ ratio higher than the equilibrium value expected from constant star-formation, indicating a significant contribution from bursty star-formation. Even for galaxies with stellar mass $\\gtrsim10^{9.5} M_\\odot$, the UV-to-H$\\alpha$ ratio is elevated towards in their outskirts ($R/R_{eff}>1.5$), suggesting that bursty star-formation is likely prevalent in the outskirts of even the most massive galaxies but is likely over-shadowed by their brighter cores. Furthermore, we present the UV-to-H$\\alpha$ ratio as a function of galaxy surface brightness, a proxy for stellar mass surface density, and find that regions below $\\sim10^8~M_\\odot~kpc^{-2}$ are consistent with bursty star-formation, regardless of their galaxy stellar mass, potentially suggesting that local star-formation is independent of global galaxy properties at the smallest scales. |\n",
       "|<p style=\"color:green\"> **ERROR** </p>| <p style=\"color:green\">affiliation error: mpia.affiliation_verifications: 'Heidelberg' keyword not found.</p> |"
      ],
      "text/plain": [
       "<IPython.core.display.Markdown object>"
      ]
     },
     "metadata": {},
     "output_type": "display_data"
    },
    {
     "data": {
      "text/markdown": [
       "\n",
       "|||\n",
       "|---:|:---|\n",
       "| [![arXiv](https://img.shields.io/badge/arXiv-arXiv:2211.02060-b31b1b.svg)](https://arxiv.org/abs/arXiv:2211.02060) | **On the patchy appearance of the circum-Galactic medium and the influence  of foreground absorption**  |\n",
       "|| G. Ponti, et al. -- incl., <mark>Y. Zhang</mark> |\n",
       "|*Appeared on*| *2022-11-07*|\n",
       "|*Comments*| *Accepted for publication in Astronomy and Astrophysics*|\n",
       "|**Abstract**| Recent studies have demonstrated that the emission from the circumgalactic medium of the Milky Way displays a relatively high degree of patchiness on angular scales of $\\sim10^\\circ$. Taking advantage of the Spectrum Roentgen Gamma eROSITA Final Equatorial Depth Survey (eFEDS), we aim to constrain any variation in the soft X-ray surface brightness on scales going from sub-degree to a hundred square degrees. We observe modulations of about $60$% on scales of several degrees and decreasing for higher energies. The observed patchiness is stable over a period of two years, therefore excluding that it is induced by Solar wind charge exchange. We also observe no correlation between such excess and the density of galaxies in the Local Universe, suggesting no strong contribution from the hot baryons in the filaments of the Cosmic web. Instead, the soft X-ray emission is anti-correlated with the column density of absorbing material. Indeed, we can reproduce the spectrum of the bright and dark regions by simply varying the column density of the matter absorbing the emission components located beyond the Local Hot Bubble, while no modulation of the intrinsic emission is required. At high Galactic latitudes, the eROSITA all sky map shows patchiness of the soft X-ray diffuse emission similar to the one observed in the eFEDS field, it is therefore likely that the same \"absorption-modulation\" is present over the entire sky. These results highlight the importance of an accurate treatment of the absorption effects, to determine the patchiness of the circumgalactic medium. |\n",
       "|<p style=\"color:green\"> **ERROR** </p>| <p style=\"color:green\">affiliation error: mpia.affiliation_verifications: 'Heidelberg' keyword not found.</p> |"
      ],
      "text/plain": [
       "<IPython.core.display.Markdown object>"
      ]
     },
     "metadata": {},
     "output_type": "display_data"
    },
    {
     "data": {
      "text/markdown": [
       "\n",
       "|||\n",
       "|---:|:---|\n",
       "| [![arXiv](https://img.shields.io/badge/arXiv-arXiv:2211.02061-b31b1b.svg)](https://arxiv.org/abs/arXiv:2211.02061) | **A segmented period-luminosity relation for nearby extragalactic $δ$  Scuti stars**  |\n",
       "|| <mark>C. E. Martínez-Vázquez</mark>, R. Salinas, A. K. Vivas, M. Catelan |\n",
       "|*Appeared on*| *2022-11-07*|\n",
       "|*Comments*| *9 pages, 3 figures, 1 table. Accepted for publication into The Astrophysical Journal Letters*|\n",
       "|**Abstract**| The period-luminosity relations (PLR) of Milky Way $\\delta$ Scuti ($\\delta$ Sct) stars have been described to the present day by a linear relation. However, when studying extragalactic systems such as the Magellanic Clouds and several dwarf galaxies, we notice for the first time a non-linear behaviour in the PLR of $\\delta$ Sct stars. Using the largest sample of $\\sim 3700$ extragalactic $\\delta$ Sct stars from data available in the literature $-$mainly based on OGLE and SuperMACHO survey in the Large Magellanic Cloud (LMC)$-$ we obtain that the best fit to the period-luminosity ($M_V$) plane is given by the following piecewise linear relation with a break at $\\log{P} = -1.03 \\pm 0.01$ (or $0.093 \\pm 0.002$ d) for shorter periods (sp) and longer periods (lp) than the break-point: $$M_V^{sp} = -7.08 (\\pm 0.25) \\log{P} -5.74 (\\pm 0.29) ;\\hspace{5pt} \\log{P} < -1.03$$ $$M_V^{lp} = M_V^{sp} + 4.38 (\\pm 0.32) \\cdot (\\log{P} + 1.03 (\\pm 0.01));\\hspace{5pt} \\log{P} \\geq -1.03$$ Geometric or depth effects in the LMC, metallicity dependence, or different pulsation modes are discarded as possible causes of this segmented PLR seen in extragalactic $\\delta$ Sct stars. The origin of the segmented relation at $\\sim 0.09$ days remains unexplained based on the current data. |\n",
       "|<p style=\"color:green\"> **ERROR** </p>| <p style=\"color:green\">affiliation error: mpia.affiliation_verifications: 'Heidelberg' keyword not found.</p> |"
      ],
      "text/plain": [
       "<IPython.core.display.Markdown object>"
      ]
     },
     "metadata": {},
     "output_type": "display_data"
    },
    {
     "data": {
      "text/markdown": [
       "\n",
       "|||\n",
       "|---:|:---|\n",
       "| [![arXiv](https://img.shields.io/badge/arXiv-arXiv:2211.02062-b31b1b.svg)](https://arxiv.org/abs/arXiv:2211.02062) | **A unique, ring-like radio source with quadrilateral structure detected  with machine learning**  |\n",
       "|| Michelle Lochner, et al. -- incl., <mark>Ian Heywood</mark> |\n",
       "|*Appeared on*| *2022-11-07*|\n",
       "|*Comments*| *7 pages, 5 figures, to be submitted to MNRAS*|\n",
       "|**Abstract**| We report the discovery of a unique object in the MeerKAT Galaxy Cluster Legacy Survey (MGCLS) using a machine learning anomaly detection algorithm. This strange, ring-like source is 30' from the MGCLS field centred on Abell 209, and is not readily explained by simple physical models. With an assumed host galaxy at redshift 0.55, the luminosity (10^25 W/Hz) is comparable to powerful radio galaxies. The source consists of a ring of emission 175 kpc across, quadrilateral enhanced brightness regions bearing resemblance to radio jets, two ``ears'' separated by 368 kpc, and a diffuse envelope. All of the structures appear spectrally steep, ranging from -1.0 to -1.5. The ring has high polarization (25%) except on the bright patches (<10%). We compare this source to the Odd Radio Circles recently discovered in ASKAP data and discuss several possible physical models, including a termination shock from starburst activity, an end-on radio galaxy, and a supermassive black hole merger event. No simple model can easily explain the observed structure of the source. This work, as well as other recent discoveries, demonstrates the power of unsupervised machine learning in mining large datasets for scientifically interesting sources. |\n",
       "|<p style=\"color:green\"> **ERROR** </p>| <p style=\"color:green\">affiliation error: mpia.affiliation_verifications: 'Heidelberg' keyword not found.</p> |"
      ],
      "text/plain": [
       "<IPython.core.display.Markdown object>"
      ]
     },
     "metadata": {},
     "output_type": "display_data"
    },
    {
     "data": {
      "text/markdown": [
       "\n",
       "|||\n",
       "|---:|:---|\n",
       "| [![arXiv](https://img.shields.io/badge/arXiv-arXiv:2211.02063-b31b1b.svg)](https://arxiv.org/abs/arXiv:2211.02063) | **DUVET: Spatially Resolved Observations of Star Formation Regulation via  Galactic Outflows in a Starbursting Disk Galaxy**  |\n",
       "|| Bronwyn Reichardt Chu, et al. -- incl., <mark>Rodrigo Herrera-Camus</mark>, <mark>Miao Li</mark> |\n",
       "|*Appeared on*| *2022-11-07*|\n",
       "|*Comments*| *16 pages, 7 figures, Submitted to ApJ*|\n",
       "|**Abstract**| We compare 500~pc scale, resolved observations of ionised and molecular gas for the $z\\sim0.02$ starbursting disk galaxy IRAS08339+6517, using measurements from KCWI and NOEMA. We explore the relationship of the star formation driven ionised gas outflows with colocated galaxy properties. We find a roughly linear relationship between the outflow mass flux ($\\dot{\\Sigma}_{\\rm out}$) and star formation rate surface density ($\\Sigma_{\\rm SFR}$), $\\dot{\\Sigma}_{\\rm out}\\propto\\Sigma_{\\rm SFR}^{1.06\\pm0.10}$, and a strong correlation between $\\dot{\\Sigma}_{\\rm out}$ and the gas depletion time, such that $\\dot{\\Sigma}_{\\rm out} \\propto t_{dep}^{-1.1\\pm0.06}$. Moreover, we find these outflows are so-called ``breakout\" outflows, according to the relationship between the gas fraction and disk kinematics. Assuming that ionised outflow mass scales with total outflow mass, our observations suggest that the regions of highest $\\Sigma_{\\rm SFR}$ in IRAS08 are removing more gas via the outflow than through the conversion of gas into stars. Our results are consistent with a picture in which the outflow limits the ability for a region of a disk to maintain short depletion times. Our results underline the need for resolved observations of outflows in more galaxies. |\n",
       "|<p style=\"color:green\"> **ERROR** </p>| <p style=\"color:green\">affiliation error: mpia.affiliation_verifications: 'Heidelberg' keyword not found.</p> |"
      ],
      "text/plain": [
       "<IPython.core.display.Markdown object>"
      ]
     },
     "metadata": {},
     "output_type": "display_data"
    },
    {
     "data": {
      "text/markdown": [
       "\n",
       "|||\n",
       "|---:|:---|\n",
       "| [![arXiv](https://img.shields.io/badge/arXiv-arXiv:2211.02094-b31b1b.svg)](https://arxiv.org/abs/arXiv:2211.02094) | **Low Metallicity Galaxies from the Dark Energy Survey**  |\n",
       "|| <mark>Yu-Heng Lin</mark>, et al. |\n",
       "|*Appeared on*| *2022-11-07*|\n",
       "|*Comments*| *16 pages, 10 figures, submitted to ApJ, We invite comments from the community*|\n",
       "|**Abstract**| We present a new selection of 358 blue compact dwarf galaxies (BCDs) from 5,000 square degrees in the Dark Energy Survey (DES), and the spectroscopic follow-up of a subsample of 68 objects. For the subsample of 34 objects with deep spectra, we measure the metallicity via the direct T$_e$ method using the auroral [\\oiii]$\\lambda$ 4363 emission line. These BCDs have average oxygen abundance of 12+log(O/H)= 7.8, stellar masses between 10$^7$ to 10$^8$ M$_\\odot$ and specific SFR between $\\sim$ 10$^{-9}$ to 10$^{-7}$ yr$^{-1}$. We compare the position of our BCDs with the Mass-metallicity (M-Z) and Luminosity-metallicity (L-Z) relation derived from the Local Volume Legacy sample. We find the scatter around the M-Z relation is smaller than the scatter around the L-Z relation. We identify a correlation between the offsets from the M-Z and L-Z relation that we suggest is due to the contribution of metal-poor inflows. Finally, we explore the validity of the mass-metallicity-SFR fundamental plane in the mass range probed by our galaxies. We find that BCDs with stellar masses smaller than $10^{8}$M$_{\\odot}$ do not follow the extrapolation of the fundamental plane. This result suggests that mechanisms other than the balance between inflows and outflows may be at play in regulating the position of low mass galaxies in the M-Z-SFR space. |\n",
       "|<p style=\"color:green\"> **ERROR** </p>| <p style=\"color:green\">affiliation error: mpia.affiliation_verifications: 'Heidelberg' keyword not found.</p> |"
      ],
      "text/plain": [
       "<IPython.core.display.Markdown object>"
      ]
     },
     "metadata": {},
     "output_type": "display_data"
    },
    {
     "data": {
      "text/markdown": [
       "\n",
       "|||\n",
       "|---:|:---|\n",
       "| [![arXiv](https://img.shields.io/badge/arXiv-arXiv:2211.02109-b31b1b.svg)](https://arxiv.org/abs/arXiv:2211.02109) | **The Giant Accreting Protoplanet Survey (GAPlanetS) -- Results from a Six  Year Campaign to Image Accreting Protoplanets**  |\n",
       "|| Katherine B. Follette, et al. -- incl., <mark>Joseph Palmo</mark>, <mark>Helena Treiber</mark> |\n",
       "|*Appeared on*| *2022-11-07*|\n",
       "|*Comments*| *Accepted for publication in AJ*|\n",
       "|**Abstract**| Accreting protoplanets represent a window into planet formation processes. We report H{\\alpha} differential imaging results from the deepest and most comprehensive accreting protoplanet survey to date, acquired with the Magellan Adaptive Optics (MagAO) system's VisAO camera. The fourteen transitional disks targeted are ideal candidates for protoplanet discovery due to their wide, heavily depleted central cavities, wealth of non-axisymmetric circumstellar disk features evocative of ongoing planet formation, and ongoing stellar accretion. To address the twin challenges of morphological complexity in the target systems and PSF instability, we develop novel approaches for frame selection and optimization of the Karhounen-Loeve Image Processing algorithm pyKLIP. We detect one new candidate protoplanet, CS Cha \"c\", at a separation of 75mas and a {\\Delta}mag of 5.1 and robustly recover the HD142527 B and HD100453 B low mass stellar companions across multiple epochs. Though we cannot rule out a substantial scattered light contribution to its emission, we also recover LkCa 15 b. Its presence inside of the cleared disk cavity and consistency with a forward-modeled point source suggest that it remains a viable protoplanet candidate. The protoplanet PDS 70 c was marginally recovered under our conservative general methodology. However, through targeted optimization in H{\\alpha} imagery, we tentatively recover PDS 70 c in three epochs and PDS 70 b in one epoch. Of the many other previously-reported companions and companion candidates around objects in the sample, we do not recover any additional robust candidates. However, lack of recovery at moderate H{\\alpha} contrast does not rule out the presence of protoplanets at these locations, and we report limiting H{\\alpha} contrasts in such cases. |\n",
       "|<p style=\"color:green\"> **ERROR** </p>| <p style=\"color:green\">affiliation error: mpia.affiliation_verifications: 'Heidelberg' keyword not found.</p> |"
      ],
      "text/plain": [
       "<IPython.core.display.Markdown object>"
      ]
     },
     "metadata": {},
     "output_type": "display_data"
    },
    {
     "data": {
      "text/markdown": [
       "\n",
       "|||\n",
       "|---:|:---|\n",
       "| [![arXiv](https://img.shields.io/badge/arXiv-arXiv:2211.02120-b31b1b.svg)](https://arxiv.org/abs/arXiv:2211.02120) | **Physical Considerations for an Intercept Mission to a 1I/'Oumuamua-like  Interstellar Object**  |\n",
       "|| Amir Siraj, et al. -- incl., <mark>Frank Laukien</mark> |\n",
       "|*Appeared on*| *2022-11-07*|\n",
       "|*Comments*| *17 pages, 10 figures; accepted for publication in Journal of Astronomical Instrumentation*|\n",
       "|**Abstract**| In this paper, we review some of the extant literature on the study of interstellar objects (ISOs). With the forthcoming Vera C. Rubin Telescope and Legacy Survey of Space and Time (LSST), we find that $0.38 - 84$ `Oumuamua-like interstellar objects are expected to be detected in the next 10 years, with 95\\% confidence. The feasibility of a rendezvous trajectory has been demonstrated in previous work. In this paper, we investigate the requirements for a rendezvous mission with the primary objective of producing a resolved image of an interstellar object. We outline the rendezvous distances necessary as a function of resolution elements and object size. We expand upon current population synthesis models to account for the size dependency on the detection rates for reachable interstellar objects. We assess the trade-off between object diameter and occurrence rate, and conclude that objects with the size range between a third of the size and the size of `Oumuamua will be optimal targets for an imaging rendezvous. We also discuss expectations for surface properties and spectral features of interstellar objects, as well as the benefits of various spacecraft storage locations. |\n",
       "|<p style=\"color:green\"> **ERROR** </p>| <p style=\"color:green\">affiliation error: mpia.affiliation_verifications: 'Heidelberg' keyword not found.</p> |"
      ],
      "text/plain": [
       "<IPython.core.display.Markdown object>"
      ]
     },
     "metadata": {},
     "output_type": "display_data"
    },
    {
     "data": {
      "text/markdown": [
       "\n",
       "|||\n",
       "|---:|:---|\n",
       "| [![arXiv](https://img.shields.io/badge/arXiv-arXiv:2211.02251-b31b1b.svg)](https://arxiv.org/abs/arXiv:2211.02251) | **Evidence for the disruption of a planetary system during the formation  of the Helix Nebula**  |\n",
       "|| Jonathan P. Marshall, et al. -- incl., <mark>Henri Boffin</mark> |\n",
       "|*Appeared on*| *2022-11-07*|\n",
       "|*Comments*| *15 pages, 3 tables, 4 figures, accepted for publication in AJ*|\n",
       "|**Abstract**| The persistence of planetary systems after their host stars evolve into their post-main sequence phase is poorly constrained by observations. Many young white dwarf systems exhibit infrared excess emission and/or spectral absorption lines associated with a reservoir of dust (or planetesimals) and its accretion. However, most white dwarfs are too cool to sufficiently heat any circumstellar dust to detectable levels of emission. The Helix Nebula (NGC 7293) is a young, nearby planetary nebula; observations at mid- and far-infrared wavelengths revealed excess emission associated with its central white dwarf (WD 2226-210). The origin of this excess is ambiguous. It could be a remnant planetesimal belt, a cloud of comets, or the remnants of material shed during the post-asymptotic giant branch phase. Here we combine infrared (SOFIA, Spitzer, Herschel ) and millimetre (ALMA) observations of the system to determine the origin of this excess using multi-wavelength imaging and radiative transfer modelling. We find the data are incompatible with a compact remnant planetesimal belt or post-asymptotic giant branch disc, and conclude the dust most likely originates from deposition by a cometary cloud. The measured dust mass, and lifetime of the constituent grains, implies disruption of several thousand Hale-Bopp equivalent comets per year to fuel the observed excess emission around the Helix Nebula's white dwarf. |\n",
       "|<p style=\"color:green\"> **ERROR** </p>| <p style=\"color:green\">affiliation error: mpia.affiliation_verifications: 'Heidelberg' keyword not found.</p> |"
      ],
      "text/plain": [
       "<IPython.core.display.Markdown object>"
      ]
     },
     "metadata": {},
     "output_type": "display_data"
    },
    {
     "data": {
      "text/markdown": [
       "\n",
       "|||\n",
       "|---:|:---|\n",
       "| [![arXiv](https://img.shields.io/badge/arXiv-arXiv:2211.02278-b31b1b.svg)](https://arxiv.org/abs/arXiv:2211.02278) | **A Deep Learning Approach to Generating Photospheric Vector Magnetograms  of Solar Active Regions for SOHO/MDI Using SDO/HMI and BBSO Data**  |\n",
       "|| Haodi Jiang, et al. -- incl., <mark>Qin Li</mark>, <mark>Nian Liu</mark>, <mark>Genwei Zhang</mark> |\n",
       "|*Appeared on*| *2022-11-07*|\n",
       "|*Comments*| *15 pages, 6 figures*|\n",
       "|**Abstract**| Solar activity is usually caused by the evolution of solar magnetic fields. Magnetic field parameters derived from photospheric vector magnetograms of solar active regions have been used to analyze and forecast eruptive events such as solar flares and coronal mass ejections. Unfortunately, the most recent solar cycle 24 was relatively weak with few large flares, though it is the only solar cycle in which consistent time-sequence vector magnetograms have been available through the Helioseismic and Magnetic Imager (HMI) on board the Solar Dynamics Observatory (SDO) since its launch in 2010. In this paper, we look into another major instrument, namely the Michelson Doppler Imager (MDI) on board the Solar and Heliospheric Observatory (SOHO) from 1996 to 2010. The data archive of SOHO/MDI covers more active solar cycle 23 with many large flares. However, SOHO/MDI data only has line-of-sight (LOS) magnetograms. We propose a new deep learning method, named MagNet, to learn from combined LOS magnetograms, Bx and By taken by SDO/HMI along with H-alpha observations collected by the Big Bear Solar Observatory (BBSO), and to generate vector components Bx' and By', which would form vector magnetograms with observed LOS data. In this way, we can expand the availability of vector magnetograms to the period from 1996 to present. Experimental results demonstrate the good performance of the proposed method. To our knowledge, this is the first time that deep learning has been used to generate photospheric vector magnetograms of solar active regions for SOHO/MDI using SDO/HMI and H-alpha data. |\n",
       "|<p style=\"color:green\"> **ERROR** </p>| <p style=\"color:green\">affiliation error: mpia.affiliation_verifications: 'Heidelberg' keyword not found.</p> |"
      ],
      "text/plain": [
       "<IPython.core.display.Markdown object>"
      ]
     },
     "metadata": {},
     "output_type": "display_data"
    },
    {
     "data": {
      "text/markdown": [
       "\n",
       "|||\n",
       "|---:|:---|\n",
       "| [![arXiv](https://img.shields.io/badge/arXiv-arXiv:2211.02288-b31b1b.svg)](https://arxiv.org/abs/arXiv:2211.02288) | **Discovery of a Mid-L Dwarf Companion to the L 262-74 System**  |\n",
       "|| Léopold Gramaize, et al. -- incl., <mark>Austin Rothermich</mark> |\n",
       "|*Appeared on*| *2022-11-07*|\n",
       "|*Comments*| **|\n",
       "|**Abstract**| We present the discovery of CWISE J151044.74$-$524923.5, a wide low-mass companion to the nearby ($\\sim$24.7 pc) system L 262-74, which was identified through the Backyard Worlds: Planet 9 citizen science project. We detail the properties of the system, and we assess that this companion is a mid-L dwarf, which will need to be verified spectroscopically. With an angular separation of 74\\farcs3, we estimate a projected physical separation of $\\sim$1837 au from the central system. |\n",
       "|<p style=\"color:green\"> **ERROR** </p>| <p style=\"color:green\">affiliation error: mpia.affiliation_verifications: 'Heidelberg' keyword not found.</p> |"
      ],
      "text/plain": [
       "<IPython.core.display.Markdown object>"
      ]
     },
     "metadata": {},
     "output_type": "display_data"
    },
    {
     "data": {
      "text/markdown": [
       "\n",
       "|||\n",
       "|---:|:---|\n",
       "| [![arXiv](https://img.shields.io/badge/arXiv-arXiv:2211.02309-b31b1b.svg)](https://arxiv.org/abs/arXiv:2211.02309) | **An accurate set of H$_3$O$^+ -$ H$_2$ collisional rate coefficients for  non-LTE modelling of warm interstellar clouds**  |\n",
       "|| Sándor Demes, <mark>François Lique</mark>, Alexandre Faure, Floris F. S. van der Tak |\n",
       "|*Appeared on*| *2022-11-07*|\n",
       "|*Comments*| *13 pages, 7 figures*|\n",
       "|**Abstract**| Hydronium (H$_3$O$^+$) was first detected in 1986 in interstellar molecular clouds. It was reported in many galactic diffuse and dense regions, as well as in extragalactic sources. H$_3$O$^+$ plays a major role both in interstellar oxygen and water chemistry. However, despite the large number of H$_3$O$^+$ observations, its collisional excitation was investigated only partially. In the present work we study the state-to-state rotational de-excitation of $ortho$- and $para$-H$_3$O$^+$ in collisions both with $ortho$- and $para$-H$_2$. The cross sections are calculated within the close-coupling formalism using a highly accurate potential energy surface developed for this system. The rate coefficients are computed up to $300$ K kinetic temperature. Transitions between the lowest 21 rotation-inversion states were studied for $para$-H$_3$O$^+$, and the lowest 11 states for $ortho$-H$_3$O$^+$, i.e. all levels with rotational energies below 430 K ($\\sim 300$ cm$^{-1}$) are considered (up to $j\\leq5$). In order to estimate the impact of the new rate coefficients on the astrophysical models for H$_3$O$^+$, radiative transfer calculations were also carried out. We have examined how the new collisional data affect the line intensities with respect to older data previously used for the interpretation of observations. By analysing all detected transitions we find that our new, accurate rate coefficients have a significant impact (typically within a factor of 2) on radiation temperatures, allowing more accurate estimation of column densities and relative abundances of hydronium, especially in warm molecular clouds, paving the path towards better interpretation of interstellar water and oxygen chemistry. |\n",
       "|<p style=\"color:green\"> **ERROR** </p>| <p style=\"color:green\">affiliation error: mpia.affiliation_verifications: 'Heidelberg' keyword not found.</p> |"
      ],
      "text/plain": [
       "<IPython.core.display.Markdown object>"
      ]
     },
     "metadata": {},
     "output_type": "display_data"
    },
    {
     "data": {
      "text/markdown": [
       "\n",
       "|||\n",
       "|---:|:---|\n",
       "| [![arXiv](https://img.shields.io/badge/arXiv-arXiv:2211.02354-b31b1b.svg)](https://arxiv.org/abs/arXiv:2211.02354) | **Data-constrained MHD simulation for the eruption of a filament-sigmoid  system in solar active region 11520**  |\n",
       "|| <mark>Tie Liu</mark>, et al. -- incl., <mark>Yang Guo</mark> |\n",
       "|*Appeared on*| *2022-11-07*|\n",
       "|*Comments*| **|\n",
       "|**Abstract**| The separation of a filament and sigmoid is observed during an X1.4 flare on July 12, 2012 in solar active region 11520, but the corresponding magnetic field change is not clear. We construct a data-constrained magnetohydrodynamic simulation of the filament-sigmoid system with the flux rope insertion method and magnetic flux eruption code, which produces the magnetic field evolution that may explain the separation of the low-lying filament and high-lying hot channel (sigmoid). The initial state of the magnetic model contains a magnetic flux rope with a hyperbolic flux tube, a null point structure and overlying confining magnetic fields. We find that the magnetic reconnections at the null point make the right footpoint of the sigmoid move from one positive magnetic polarity (P1) to another (P3). The tether-cutting reconnection at the hyperbolic flux tube occurs and quickly cuts off the connection of the low-lying filament and high-lying sigmoid. In the end, the high-lying sigmoid erupts and grows into a coronal mass ejection, while the low-lying filament stays stable. The observed double J-shaped flare ribbons, semi-circular ribbon, and brightenings of several loops are reproduced in the simulation, where the eruption of the magnetic flux rope includes the impulsive acceleration and propagation phases. |\n",
       "|<p style=\"color:green\"> **ERROR** </p>| <p style=\"color:green\">affiliation error: mpia.affiliation_verifications: 'Heidelberg' keyword not found.</p> |"
      ],
      "text/plain": [
       "<IPython.core.display.Markdown object>"
      ]
     },
     "metadata": {},
     "output_type": "display_data"
    },
    {
     "data": {
      "text/markdown": [
       "\n",
       "|||\n",
       "|---:|:---|\n",
       "| [![arXiv](https://img.shields.io/badge/arXiv-arXiv:2211.02376-b31b1b.svg)](https://arxiv.org/abs/arXiv:2211.02376) | **Growth of A Massive Black Hole Via Tidal Disruption Accretion**  |\n",
       "|| <mark>Seungjae Lee</mark>, Ji-hoon Kim, Boon Kiat Oh |\n",
       "|*Appeared on*| *2022-11-07*|\n",
       "|*Comments*| *16 pages, and 10 figures*|\n",
       "|**Abstract**| Stars that are tidally disrupted by the massive black hole (MBH) may contribute significantly to the growth of the MBH, especially in dense nuclear star clusters (NSCs). Yet, this tidal disruption accretion (TDA) of stars onto the MBH has largely been overlooked compared to the gas accretion (GA) channel in most numerical experiments until now. In this work, we implement a black hole growth channel via TDA in the high-resolution adaptive mesh refinement code Enzo to investigate its influence on a MBH seed's early evolution. We find that a MBH seed grows rapidly from $10^3\\,\\mathrm{M}_\\odot$ to $\\gtrsim 10^6\\,\\mathrm{M}_\\odot$ in 200\\,Myrs in some of the tested simulations. Compared to a MBH seed that grows only via GA, TDA can enhance the MBH's growth rate by up to more than an order of magnitude. However, as predicted, TDA mainly helps the early growth of the MBH (from $10^{3-4}\\,\\mathrm{M}_\\odot$ to $\\lesssim10^{5}\\,\\mathrm{M}_\\odot$) while the later evolution is generally dominated by GA. We also observe that the star formation near the MBH is suppressed when TDA is most active, sometimes with a visible cavity in gas (of size $\\sim$ a few pc) created in the vicinity of the MBH. It is because the MBH may grow expeditiously with both GA and TDA, and the massive MBH could consume its neighboring gas faster than being replenished by gas inflows. Our study demonstrates the need to consider different channels of black hole accretion that may provide clues for the existence of supermassive black holes at high redshifts. |\n",
       "|<p style=\"color:green\"> **ERROR** </p>| <p style=\"color:green\">affiliation error: mpia.affiliation_verifications: 'Heidelberg' keyword not found.</p> |"
      ],
      "text/plain": [
       "<IPython.core.display.Markdown object>"
      ]
     },
     "metadata": {},
     "output_type": "display_data"
    },
    {
     "data": {
      "text/markdown": [
       "\n",
       "|||\n",
       "|---:|:---|\n",
       "| [![arXiv](https://img.shields.io/badge/arXiv-arXiv:2211.02391-b31b1b.svg)](https://arxiv.org/abs/arXiv:2211.02391) | **The HST large programme on NGC 6752 -- IV. The White Dwarf Sequence**  |\n",
       "|| L. R. Bedin, et al. -- incl., <mark>M. Libralato</mark> |\n",
       "|*Appeared on*| *2022-11-07*|\n",
       "|*Comments*| *16 pages, 13 figures. Accepted for publication in MNRAS on 2022, November 4. Associated files soon at this this https URL*|\n",
       "|**Abstract**| We present our final study of the white dwarf cooling sequence (WD CS) in the globular cluster NGC 6752. The investigation is the main goal of a dedicated Hubble Space Telescope large Program, for which all the observations are now collected. The WD CS luminosity function (LF) is confirmed to peak at m_F606W = 29.3+/-0.1, consistent within uncertainties with what has been previously reported, and is now complete down to m_F606W~29.7. We have performed robust and conclusive comparisons with model predictions that show how the theoretical LF for hydrogen envelope WD models closely follow the shape of the empirical LF. The magnitude of the peak of the observed LF is matched with ages between 12.7 and 13.5 Gyr, consistent with the cluster age derived from the main sequence turn off and subgiant branch. We also find that the impact of multiple populations within the cluster on the WD LF for m_F606W below 27.3 is negligible, and that the presence of a small fraction of helium envelope objects is consistent with the data. Our analysis reveals a possible hint of an underestimate of the cooling timescales of models in the magnitude range 28.1 < m_F606W < 28.9. Finally, we find that hydrogen envelope models calculated with a new tabulation of electron conduction opacities in the transition between moderate and strong degeneracy provide WD ages that are too small in comparison to the Main Sequence turnoff age. |\n",
       "|<p style=\"color:green\"> **ERROR** </p>| <p style=\"color:green\">affiliation error: mpia.affiliation_verifications: 'Heidelberg' keyword not found.</p> |"
      ],
      "text/plain": [
       "<IPython.core.display.Markdown object>"
      ]
     },
     "metadata": {},
     "output_type": "display_data"
    },
    {
     "data": {
      "text/markdown": [
       "\n",
       "|||\n",
       "|---:|:---|\n",
       "| [![arXiv](https://img.shields.io/badge/arXiv-arXiv:2211.02426-b31b1b.svg)](https://arxiv.org/abs/arXiv:2211.02426) | **Generalized Hilltop Inflation**  |\n",
       "|| <mark>Helena Grete Lillepalu</mark>, Antonio Racioppi |\n",
       "|*Appeared on*| *2022-11-07*|\n",
       "|*Comments*| *14 pages, 5 figures*|\n",
       "|**Abstract**| We study a generalized version of hilltop inflation where the standard hilltop potential has been raised to a power and we allow fractional numbers for both the original hilltop power and the overall exponent. In the parameter space studied, the latter plays the major role in finding an agreement with the latest experimental constraint. Finally, we also find that the two characteristic mass scales of the inflaton potential differ by several orders of magnitude, indicating that a common fundamental origin is quite unlikely. |\n",
       "|<p style=\"color:green\"> **ERROR** </p>| <p style=\"color:green\">affiliation error: mpia.affiliation_verifications: 'Heidelberg' keyword not found.</p> |"
      ],
      "text/plain": [
       "<IPython.core.display.Markdown object>"
      ]
     },
     "metadata": {},
     "output_type": "display_data"
    },
    {
     "data": {
      "text/markdown": [
       "\n",
       "|||\n",
       "|---:|:---|\n",
       "| [![arXiv](https://img.shields.io/badge/arXiv-arXiv:2211.02473-b31b1b.svg)](https://arxiv.org/abs/arXiv:2211.02473) | **Calibrating gamma-ray bursts by using Gaussian process with type Ia  supernovae**  |\n",
       "|| <mark>Liang Nan</mark>, <mark>Li Zihao</mark>, <mark>Xie Xiaoyao</mark>, Wu Puxun |\n",
       "|*Appeared on*| *2022-11-07*|\n",
       "|*Comments*| *14 pages, 9 figures, accepted for publication in ApJ*|\n",
       "|**Abstract**| In this paper, we calibrate the Amati relation (the $E_{\\rm p}$-$E_{\\rm iso}$ correlation) of gamma-ray bursts (GRBs) in a cosmology-independent way. By using Gaussian process to reconstruct the smoothed luminosity distance from the Pantheon type Ia supernovae (SNe Ia) sample, we utilize the reconstructed results to calibrate the $E_{\\rm p}$-$E_{\\rm iso}$ correlation with the Markov Chain Monte Carlo method and construct a Hubble diagram with the A220 GRB data, in which A118 GRB data with the higher qualities appropriate for cosmological purposes. With 98 GRBs at $1.4<z\\leq8.2$ in A118 sample and the observed Hubble data, we obtain $\\Omega_m$ = $0.346^{+0.048}_{-0.069}$, $h$ = $0.677^{+0.029}_{-0.029}$ for the flat $\\Lambda$CDM model, and $\\Omega_m$ = $0.314^{+0.072}_{-0.055}$, $h$ = $0.705^{+0.055}_{-0.069}$, $w$ = $-1.23^{+0.33}_{-0.64}$ for the flat $w$CDM model, which are consistent with those from fitting the coefficients of the Amati relation and the cosmological parameters simultaneously. |\n",
       "|<p style=\"color:green\"> **ERROR** </p>| <p style=\"color:green\">affiliation error: mpia.affiliation_verifications: 'Heidelberg' keyword not found.</p> |"
      ],
      "text/plain": [
       "<IPython.core.display.Markdown object>"
      ]
     },
     "metadata": {},
     "output_type": "display_data"
    },
    {
     "data": {
      "text/markdown": [
       "\n",
       "|||\n",
       "|---:|:---|\n",
       "| [![arXiv](https://img.shields.io/badge/arXiv-arXiv:2211.02495-b31b1b.svg)](https://arxiv.org/abs/arXiv:2211.02495) | **CEERS Epoch 1 NIRCam Imaging: Reduction Methods and Simulations Enabling  Early JWST Science Results**  |\n",
       "|| Micaela B. Bagley, et al. -- incl., <mark>Henry C. Ferguson</mark>, <mark>Lisa J. Kewley</mark> |\n",
       "|*Appeared on*| *2022-11-07*|\n",
       "|*Comments*| *27 pages, 14 figures, submitted to ApJ. Accompanying CEERS public Data Release 0.5 available at ceers.github.io/releases.html*|\n",
       "|**Abstract**| We present the data release and data reduction process for the Epoch 1 NIRCam observations for the Cosmic Evolution Early Release Science Survey (CEERS). These data consist of NIRCam imaging in six broadband filters (F115W, F150W, F200W, F277W, F356W and F444W) and one medium band filter (F410M) over four pointings, obtained in parallel with primary CEERS MIRI observations (Yang et al. in prep). We reduced the NIRCam imaging with the JWST Calibration Pipeline, with custom modifications and reduction steps designed to address additional features and challenges with the data. Here we provide a detailed description of each step in our reduction and a discussion of future expected improvements. Our reduction process includes corrections for known pre-launch issues such as 1/f noise, as well as in-flight issues including snowballs, wisps, and astrometric alignment. Many of our custom reduction processes were first developed with pre-launch simulated NIRCam imaging over the full 10 CEERS NIRCam pointings. We present a description of the creation and reduction of this simulated dataset in the Appendix. We provide mosaics of the real images in a public release, as well as our reduction scripts with detailed explanations to allow users to reproduce our final data products. These represent one of the first official public datasets released from the Directors Discretionary Early Release Science (DD-ERS) program. |\n",
       "|<p style=\"color:green\"> **ERROR** </p>| <p style=\"color:green\">affiliation error: mpia.affiliation_verifications: 'Heidelberg' keyword not found.</p> |"
      ],
      "text/plain": [
       "<IPython.core.display.Markdown object>"
      ]
     },
     "metadata": {},
     "output_type": "display_data"
    },
    {
     "data": {
      "text/markdown": [
       "\n",
       "|||\n",
       "|---:|:---|\n",
       "| [![arXiv](https://img.shields.io/badge/arXiv-arXiv:2211.02526-b31b1b.svg)](https://arxiv.org/abs/arXiv:2211.02526) | **Constraints on neutron star superfluidity from the cooling neutron star  in Cassiopeia A using all Chandra ACIS-S observations**  |\n",
       "|| Peter S. Shternin, Dmitry D. Ofengeim, <mark>Craig O. Heinke</mark>, Wynn C.G. Ho |\n",
       "|*Appeared on*| *2022-11-07*|\n",
       "|*Comments*| *20 pages, 17 figures. Accepted for publication in MNRAS*|\n",
       "|**Abstract**| Analysis of Chandra observations of the neutron star (NS) in the centre of the Cassiopeia A supernova remnant taken in the subarray (FAINT) mode of the ACIS detector performed by Posselt and collaborators revealed, after inclusion of the most recent (May 2020) observations, a significant decrease of the source surface temperature from 2006 to 2020. The obtained cooling rate is consistent with those obtained from analysis of the 2000$-$2019 data taken in the GRADED mode of the ACIS detector, which is potentially more strongly affected by instrumental effects. We performed a joint spectral analysis using all ACIS data to constrain the NS parameters and cooling rate. We constrain the mass of the Cassiopeia A NS at $M=1.55\\pm0.25~M_\\odot$, and its radius at $R=13.5\\pm 1.5$ km. The surface temperature cooling rate is found to be $2.2\\pm 0.3$ per cent in 10 years if the absorbing hydrogen column density is allowed to vary and $1.6\\pm 0.2$ per cent in 10 years if it is fixed. The observed cooling can be explained by enhanced neutrino emission from the superfluid NS interior due to Cooper Pair Formation (CPF) process. Based on analysis of all ACIS data, we constrain the maximal critical temperature of triplet neutron pairing within the NS core at $(4-9.5)\\times 10^{8}$ K. In accordance with previous studies, the required effective strength of the CPF neutrino emission is at least a factor of 2 higher than existing microscopic calculations suggest. |\n",
       "|<p style=\"color:green\"> **ERROR** </p>| <p style=\"color:green\">affiliation error: mpia.affiliation_verifications: 'Heidelberg' keyword not found.</p> |"
      ],
      "text/plain": [
       "<IPython.core.display.Markdown object>"
      ]
     },
     "metadata": {},
     "output_type": "display_data"
    },
    {
     "data": {
      "text/markdown": [
       "\n",
       "|||\n",
       "|---:|:---|\n",
       "| [![arXiv](https://img.shields.io/badge/arXiv-arXiv:2211.02547-b31b1b.svg)](https://arxiv.org/abs/arXiv:2211.02547) | **HD 20329b: An ultra-short-period planet around a solar-type star found  by TESS**  |\n",
       "|| F. Murgas, et al. -- incl., <mark>John Livingston</mark>, <mark>Alexis M. S. Smith</mark>, <mark>Carl Ziegler</mark> |\n",
       "|*Appeared on*| *2022-11-07*|\n",
       "|*Comments*| *Accepted for publication in A&A, 26 pages*|\n",
       "|**Abstract**| We used TESS light curves and HARPS-N spectrograph radial velocity measurements to establish the physical properties of the transiting exoplanet candidate found around the star HD 20329 (TOI-4524). We performed a joint fit of the light curves and radial velocity time series to measure the mass, radius, and orbital parameters of the candidate. We confirm and characterize HD 20329b, an ultra-short-period (USP) planet transiting a solar-type star. The host star (HD 20329, $V = 8.74$ mag, $J = 7.5$ mag) is characterized by its G5 spectral type with $\\mathrm{M}_\\star= 0.90 \\pm 0.05$ M$_\\odot$, $\\mathrm{R}_\\star = 1.13 \\pm 0.02$ R$_\\odot$, and $\\mathrm{T}_{\\mathrm{eff}} = 5596 \\pm 50$ K; it is located at a distance $d= 63.68 \\pm 0.29$ pc. By jointly fitting the available TESS transit light curves and follow-up radial velocity measurements, we find an orbital period of $0.9261 \\pm (0.5\\times 10^{-4})$ days, a planetary radius of $1.72 \\pm 0.07$ $\\mathrm{R}_\\oplus$, and a mass of $7.42 \\pm 1.09$ $\\mathrm{M}_\\oplus$, implying a mean density of $\\rho_\\mathrm{p} = 8.06 \\pm 1.53$ g cm$^{-3}$. HD 20329b joins the $\\sim$30 currently known USP planets with radius and Doppler mass measurements. |\n",
       "|<p style=\"color:green\"> **ERROR** </p>| <p style=\"color:green\">affiliation error: mpia.affiliation_verifications: 'Heidelberg' keyword not found.</p> |"
      ],
      "text/plain": [
       "<IPython.core.display.Markdown object>"
      ]
     },
     "metadata": {},
     "output_type": "display_data"
    },
    {
     "data": {
      "text/markdown": [
       "\n",
       "|||\n",
       "|---:|:---|\n",
       "| [![arXiv](https://img.shields.io/badge/arXiv-arXiv:2211.02565-b31b1b.svg)](https://arxiv.org/abs/arXiv:2211.02565) | **Coherent and incoherent structures in fuzzy dark matter halos**  |\n",
       "|| <mark>I-Kang Liu</mark>, Nick P. Proukakis, Gerasimos Rigopoulos |\n",
       "|*Appeared on*| *2022-11-07*|\n",
       "|*Comments*| **|\n",
       "|**Abstract**| We show that fuzzy dark matter halos exhibit spatial differentiation in the degree of coherence of the field configuration, ranging from completely coherent in the central solitonic core to incoherent outside it, with a crossover region in between the two phases. The solitonic core is indeed a pure condensate which overlaps almost perfectly with the Penrose-Onsager mode corresponding to the largest eigenvalue of the one-particle density matrix. The virialized outer halo surrounding the core exhibits no clear coherence as a whole upon radial and temporal averaging. However, when viewed locally and for short times, it can be described as a collection of quasi-condensate lumps exhibiting locally suppressed fluctuations which can be identified with the structures commonly referred to as granules. Phase coherence across the entire halo is inhibited by a dynamically evolving tangled web of vortices separating the localized quasi-condensate regions. Moreover, the dimensionless phase-space density in the outer halo drops significantly below its value at the core. We further examine the dynamics of this spatial structure and find that the oscillations of the core can be accurately described by two time-dependent parameters respectively characterizing the size of the core, $r_c(t)$, and the crossover region, $r_t(t)$. For the halos produced in our merger simulations this feature is reflected in the (anti-)correlated oscillation of the peak value of the field configuration's power-spectrum. The turbulent vortex tangle of the virialized halo appears to reach a quasi-equilibrium state over probed timescales, with the incompressible component of the kinetic energy exhibiting a characteristic $k^{-3}$ tail in its spectrum, indicative of a $\\rho\\sim r^2$ density profile around the quantum vortex cores. Comparison of the peak wavenumbers in the corresponding power-spectra shows that the inter-vortex... |\n",
       "|<p style=\"color:green\"> **ERROR** </p>| <p style=\"color:green\">affiliation error: mpia.affiliation_verifications: 'Heidelberg' keyword not found.</p> |"
      ],
      "text/plain": [
       "<IPython.core.display.Markdown object>"
      ]
     },
     "metadata": {},
     "output_type": "display_data"
    },
    {
     "data": {
      "text/markdown": [
       "\n",
       "|||\n",
       "|---:|:---|\n",
       "| [![arXiv](https://img.shields.io/badge/arXiv-arXiv:2211.02137-b31b1b.svg)](https://arxiv.org/abs/arXiv:2211.02137) | **Photometric and spectroscopic study of the EXor-like eruptive young star  Gaia19fct**  |\n",
       "|| Sunkyung Park, et al. -- incl., <mark>Jeong-Eun Lee</mark>, <mark>Jae-Joon Lee</mark> |\n",
       "|*Appeared on*| *2022-11-07*|\n",
       "|*Comments*| *29 pages, 14 figures, 7 tables, Accepted for publication in ApJ*|\n",
       "|**Abstract**| Gaia19fct is one of the Gaia-alerted eruptive young stars that has undergone several brightening events. We conducted monitoring observations using multi-filter optical and near-infrared photometry, as well as near-infrared spectroscopy, to understand the physical properties of Gaia19fct and investigate whether it fits into the historically defined two classes. We present the analyses of light curves, color variations, spectral lines, and CO modeling. The light curves show at least five brightening events since 2015, and the multi-filter color evolutions are mostly gray. The gray evolution indicates that bursts are triggered by mechanisms other than extinction. Our near-infrared spectra exhibit both absorption and emission lines and show time-variability throughout our observations. We found lower rotational velocity and lower temperature from the near-infrared atomic absorption lines than from the optical lines, suggesting that Gaia19fct has a Keplerian rotating disk. The CO overtone features show a superposition of absorption and emission components, which is unlike other young stellar objects. We modeled the CO lines, and the result suggests that the emission and absorption components are formed in different regions. We found that although Gaia19fct exhibits characteristics of both types of eruptive young stars, FU Orionis-type objects (FUors) and EX Lupi-type objects (EXors), it shows more similarity with EXors in general. |\n",
       "|<p style=\"color:red\"> **ERROR** </p>| <p style=\"color:red\">latex error [Errno 2] No such file or directory: 'gs'</p> |"
      ],
      "text/plain": [
       "<IPython.core.display.Markdown object>"
      ]
     },
     "metadata": {},
     "output_type": "display_data"
    },
    {
     "data": {
      "text/markdown": [
       "\n",
       "|||\n",
       "|---:|:---|\n",
       "| [![arXiv](https://img.shields.io/badge/arXiv-arXiv:2211.02428-b31b1b.svg)](https://arxiv.org/abs/arXiv:2211.02428) | **Fractal signature as a rotational modulation and stellar noise  classifier based on the active Kepler stars**  |\n",
       "|| Paulo Cleber Farias da Silva Filho, et al. -- incl., <mark>Fernando Jose Silva Lima Filho</mark> |\n",
       "|*Appeared on*| *2022-11-07*|\n",
       "|*Comments*| *18 pages, 5 figures, submitted to BJD*|\n",
       "|**Abstract**| In this study, we report on the analysis of 701 stars in a solar vicinity defined in three categories namely subsolar, solar, and supersolar with rotation periods between 1 and 70 days, based on rotational modulation signatures inferred from time series from the Kepler mission's Public Archives. In our analysis, we performed an initial selection based on the rotation period and position in the period-H diagram, where H denotes the Hurst exponent extracted from fractal analysis. To refine our analysis, we applied a fractal approach known as the R/S method, taking into account the fluctuations of the features associated with photometric modulation at different time intervals and the fractality traces that are present in the time series of our sample. In this sense, we computed the so-called Hurst exponent for the referred stars and found that it can provide a strong discriminant of rotational modulation and background noise behavior, going beyond what can be achieved with solely the rotation period itself. Furthermore, our results emphasize that the rotation period of stars is scaled by the exponent H which increases following the increase in the rotation period. Finally, our approach suggests that the referred exponent may be a powerful rotational modulation and noise classifier. |\n",
       "|<p style=\"color:red\"> **ERROR** </p>| <p style=\"color:red\">latex error not a gzip file</p> |"
      ],
      "text/plain": [
       "<IPython.core.display.Markdown object>"
      ]
     },
     "metadata": {},
     "output_type": "display_data"
    }
   ],
   "source": [
    "import datetime\n",
    "today = str(datetime.date.today())\n",
    "logfile = f\"_build/html/logs/log-{today}.md\"\n",
    "\n",
    "\n",
    "with open(logfile, 'w') as logs:\n",
    "    # Success\n",
    "    logs.write(f'# Arxiv on Deck 2: Logs - {today}\\n\\n')\n",
    "    logs.write(\"\"\"* Arxiv had {0:,d} new papers\\n\"\"\".format(len(new_papers)))\n",
    "    logs.write(\"\"\"    * {0:,d} with possible author matches\\n\\n\"\"\".format(len(candidates)))\n",
    "    logs.write(\"## Sucessful papers\\n\\n\")\n",
    "    display(Markdown(\"## Successful papers\"))\n",
    "    success = [k[0] for k in documents]\n",
    "    for candid in candidates:\n",
    "        if candid['identifier'].split(':')[-1] in success:\n",
    "            display(candid)\n",
    "            logs.write(candid.generate_markdown_text() + '\\n\\n')\n",
    "\n",
    "    ## failed\n",
    "    logs.write(\"## Failed papers\\n\\n\")\n",
    "    display(Markdown(\"## Failed papers\"))\n",
    "    failed = sorted(failed, key=lambda x: x[1])\n",
    "    current_reason = \"\"\n",
    "    for paper, reason in failed:\n",
    "        if 'affiliation' in reason:\n",
    "            color = 'green'\n",
    "        else:\n",
    "            color = 'red'\n",
    "        data = Markdown(\n",
    "                paper.generate_markdown_text() + \n",
    "                f'\\n|<p style=\"color:{color:s}\"> **ERROR** </p>| <p style=\"color:{color:s}\">{reason:s}</p> |'\n",
    "               )\n",
    "        if reason != current_reason:\n",
    "            logs.write(f'### {reason:s} \\n\\n')\n",
    "            current_reason = reason\n",
    "        logs.write(data.data + '\\n\\n')\n",
    "        \n",
    "        # only display here the important errors (all in logs)\n",
    "        # if color in ('red',):\n",
    "        display(data)"
   ]
  },
  {
   "cell_type": "markdown",
   "id": "472d20ee",
   "metadata": {
    "papermill": {
     "duration": 0.01045,
     "end_time": "2022-11-07T04:33:01.962728",
     "exception": false,
     "start_time": "2022-11-07T04:33:01.952278",
     "status": "completed"
    },
    "tags": []
   },
   "source": [
    "## Export documents\n",
    "\n",
    "We now write the .md files and export relevant images"
   ]
  },
  {
   "cell_type": "code",
   "execution_count": 7,
   "id": "d426aed9",
   "metadata": {
    "execution": {
     "iopub.execute_input": "2022-11-07T04:33:01.985463Z",
     "iopub.status.busy": "2022-11-07T04:33:01.984826Z",
     "iopub.status.idle": "2022-11-07T04:33:01.992133Z",
     "shell.execute_reply": "2022-11-07T04:33:01.991628Z"
    },
    "papermill": {
     "duration": 0.020524,
     "end_time": "2022-11-07T04:33:01.993555",
     "exception": false,
     "start_time": "2022-11-07T04:33:01.973031",
     "status": "completed"
    },
    "tags": []
   },
   "outputs": [],
   "source": [
    "def export_markdown_summary(md: str, md_fname:str, directory: str):\n",
    "    \"\"\"Export MD document and associated relevant images\"\"\"\n",
    "    import os\n",
    "    import shutil\n",
    "    import re\n",
    "\n",
    "    if (os.path.exists(directory) and not os.path.isdir(directory)):\n",
    "        raise RuntimeError(f\"a non-directory file exists with name {directory:s}\")\n",
    "\n",
    "    if (not os.path.exists(directory)):\n",
    "        print(f\"creating directory {directory:s}\")\n",
    "        os.mkdir(directory)\n",
    "\n",
    "    fig_fnames = (re.compile(r'\\[Fig.*\\]\\((.*)\\)').findall(md) + \n",
    "                  re.compile(r'\\<img src=\"([^>\\s]*)\"[^>]*/>').findall(md))\n",
    "    for fname in fig_fnames:\n",
    "        if 'http' in fname:\n",
    "            # No need to copy online figures\n",
    "            continue\n",
    "        destdir = os.path.join(directory, os.path.dirname(fname))\n",
    "        destfname = os.path.join(destdir, os.path.basename(fname))\n",
    "        try:\n",
    "            os.makedirs(destdir)\n",
    "        except FileExistsError:\n",
    "            pass\n",
    "        shutil.copy(fname, destfname)\n",
    "    with open(os.path.join(directory, md_fname), 'w') as fout:\n",
    "        fout.write(md)\n",
    "    print(\"exported in \", os.path.join(directory, md_fname))\n",
    "    [print(\"    + \" + os.path.join(directory,fk)) for fk in fig_fnames]"
   ]
  },
  {
   "cell_type": "code",
   "execution_count": 8,
   "id": "014d04a4",
   "metadata": {
    "execution": {
     "iopub.execute_input": "2022-11-07T04:33:02.016263Z",
     "iopub.status.busy": "2022-11-07T04:33:02.015461Z",
     "iopub.status.idle": "2022-11-07T04:33:02.021722Z",
     "shell.execute_reply": "2022-11-07T04:33:02.021056Z"
    },
    "papermill": {
     "duration": 0.019094,
     "end_time": "2022-11-07T04:33:02.023170",
     "exception": false,
     "start_time": "2022-11-07T04:33:02.004076",
     "status": "completed"
    },
    "tags": []
   },
   "outputs": [
    {
     "name": "stdout",
     "output_type": "stream",
     "text": [
      "exported in  _build/html/2211.02502.md\n",
      "    + _build/html/tmp_2211.02502/./f1.png\n",
      "    + _build/html/tmp_2211.02502/./f2.png\n",
      "    + _build/html/tmp_2211.02502/./f3.png\n",
      "    + _build/html/tmp_2211.02502/./f4.png\n",
      "    + _build/html/tmp_2211.02502/./f29.png\n",
      "    + _build/html/tmp_2211.02502/./f30.png\n",
      "    + _build/html/tmp_2211.02502/./f31.png\n",
      "    + _build/html/tmp_2211.02502/./f32.png\n",
      "    + _build/html/tmp_2211.02502/./f24.png\n"
     ]
    }
   ],
   "source": [
    "for paper_id, md in documents:\n",
    "    export_markdown_summary(md, f\"{paper_id:s}.md\", '_build/html/')"
   ]
  },
  {
   "cell_type": "markdown",
   "id": "f087a0a7",
   "metadata": {
    "papermill": {
     "duration": 0.011001,
     "end_time": "2022-11-07T04:33:02.044584",
     "exception": false,
     "start_time": "2022-11-07T04:33:02.033583",
     "status": "completed"
    },
    "tags": []
   },
   "source": [
    "## Display the papers\n",
    "\n",
    "Not necessary but allows for a quick check."
   ]
  },
  {
   "cell_type": "code",
   "execution_count": 9,
   "id": "fd25f625",
   "metadata": {
    "execution": {
     "iopub.execute_input": "2022-11-07T04:33:02.066775Z",
     "iopub.status.busy": "2022-11-07T04:33:02.066245Z",
     "iopub.status.idle": "2022-11-07T04:33:02.071647Z",
     "shell.execute_reply": "2022-11-07T04:33:02.070990Z"
    },
    "papermill": {
     "duration": 0.018288,
     "end_time": "2022-11-07T04:33:02.073156",
     "exception": false,
     "start_time": "2022-11-07T04:33:02.054868",
     "status": "completed"
    },
    "scrolled": false,
    "tags": []
   },
   "outputs": [
    {
     "data": {
      "text/markdown": [
       "<div class=\"macros\" style=\"visibility:hidden;\">\n",
       "$\\newcommand{\\ensuremath}{}$\n",
       "$\\newcommand{\\xspace}{}$\n",
       "$\\newcommand{\\object}[1]{\\texttt{#1}}$\n",
       "$\\newcommand{\\farcs}{{.}''}$\n",
       "$\\newcommand{\\farcm}{{.}'}$\n",
       "$\\newcommand{\\arcsec}{''}$\n",
       "$\\newcommand{\\arcmin}{'}$\n",
       "$\\newcommand{\\ion}[2]{#1#2}$\n",
       "$\\newcommand{\\textsc}[1]{\\textrm{#1}}$\n",
       "$\\newcommand{\\hl}[1]{\\textrm{#1}}$\n",
       "$\\newcommand{\\url}[1]{\\href{#1}{#1}}$\n",
       "$\\newcommand{\\dodoi}[1]{doi:~\\href{http://doi.org/#1}{\\nolinkurl{#1}}}$\n",
       "$\\newcommand{\\doeprint}[1]{\\href{http://ascl.net/#1}{\\nolinkurl{http://ascl.net/#1}}}$\n",
       "$\\newcommand{\\doarXiv}[1]{\\href{https://arxiv.org/abs/#1}{\\nolinkurl{https://arxiv.org/abs/#1}}}$\n",
       "$\\newcommand{\\vdag}{(v)^\\dagger}$\n",
       "$\\newcommand$\n",
       "$\\newcommand$\n",
       "$\\newcommand{\\paa}{Pa\\ensuremath{\\alpha}}$\n",
       "$\\newcommand{\\brg}{Br\\ensuremath{\\gamma}}$\n",
       "$\\newcommand{\\msun}{\\ensuremath{M_{\\odot}}\\xspace}$\n",
       "$\\newcommand{\\mdot}{\\ensuremath{\\dot{M}}\\xspace}$\n",
       "$\\newcommand{\\lsun}{\\ensuremath{L_{\\odot}}\\xspace}$\n",
       "$\\newcommand{\\rsun}{\\ensuremath{R_{\\odot}}\\xspace}$\n",
       "$\\newcommand{\\lbol}{\\ensuremath{L_{\\mathrm{bol}}\\xspace}}$\n",
       "$\\newcommand{\\ks}{K\\ensuremath{_{\\mathrm{s}}}}$\n",
       "$\\newcommand{\\hh}{\\ensuremath{\\textrm{H}_{2}}\\xspace}$\n",
       "$\\newcommand{\\dens}{\\ensuremath{n(\\hh) [\\percc]}\\xspace}$\n",
       "$\\newcommand{\\formaldehyde}{\\ensuremath{\\textrm{H}_2\\textrm{CO}}\\xspace}$\n",
       "$\\newcommand{\\formamide}{\\ensuremath{\\textrm{NH}_2\\textrm{CHO}}\\xspace}$\n",
       "$\\newcommand{\\formaldehydeIso}{\\ensuremath{\\textrm{H}_2~^{13}\\textrm{CO}}\\xspace}$\n",
       "$\\newcommand{\\methanol}{\\ensuremath{\\textrm{CH}_3\\textrm{OH}}\\xspace}$\n",
       "$\\newcommand{\\ortho}{\\ensuremath{\\textrm{o-H}_2\\textrm{CO}}\\xspace}$\n",
       "$\\newcommand{\\para}{\\ensuremath{\\textrm{p-H}_2\\textrm{CO}}\\xspace}$\n",
       "$\\newcommand{\\oneone}{\\ensuremath{1_{1,0}-1_{1,1}}\\xspace}$\n",
       "$\\newcommand{\\twotwo}{\\ensuremath{2_{1,1}-2_{1,2}}\\xspace}$\n",
       "$\\newcommand{\\threethree}{\\ensuremath{3_{1,2}-3_{1,3}}\\xspace}$\n",
       "$\\newcommand{\\threeohthree}{\\ensuremath{3_{0,3}-2_{0,2}}\\xspace}$\n",
       "$\\newcommand{\\threetwotwo}{\\ensuremath{3_{2,2}-2_{2,1}}\\xspace}$\n",
       "$\\newcommand{\\threetwoone}{\\ensuremath{3_{2,1}-2_{2,0}}\\xspace}$\n",
       "$\\newcommand{\\fourtwotwo}{\\ensuremath{4_{2,2}-3_{1,2}}\\xspace}$\n",
       "$\\newcommand{\\methylcyanide}{\\ensuremath{\\textrm{CH}_{3}\\textrm{CN}}\\xspace}$\n",
       "$\\newcommand{\\ketene}{\\ensuremath{\\textrm{H}_{2}\\textrm{CCO}}\\xspace}$\n",
       "$\\newcommand{\\ethylcyanide}{\\ensuremath{\\textrm{CH}_3\\textrm{CH}_2\\textrm{CN}}\\xspace}$\n",
       "$\\newcommand{\\cyanoacetylene}{\\ensuremath{\\textrm{HC}_{3}\\textrm{N}}\\xspace}$\n",
       "$\\newcommand{\\methylformate}{\\ensuremath{\\textrm{CH}_{3}\\textrm{OCHO}}\\xspace}$\n",
       "$\\newcommand{\\dimethylether}{\\ensuremath{\\textrm{CH}_{3}\\textrm{OCH}_{3}}\\xspace}$\n",
       "$\\newcommand{\\gaucheethanol}{\\ensuremath{\\textrm{g-CH}_3\\textrm{CH}_2\\textrm{OH}}\\xspace}$\n",
       "$\\newcommand{\\acetone}{\\ensuremath{\\left[\\textrm{CH}_{3}\\right]_2\\textrm{CO}}\\xspace}$\n",
       "$\\newcommand{\\methyleneamidogen}{\\ensuremath{\\textrm{H}_{2}\\textrm{CN}}\\xspace}$\n",
       "$\\newcommand{\\Rone}{\\ensuremath{\\para~S_{\\nu}(\\threetwoone) / S_{\\nu}(\\threeohthree)}\\xspace}$\n",
       "$\\newcommand{\\Rtwo}{\\ensuremath{\\para~S_{\\nu}(\\threetwotwo) / S_{\\nu}(\\threetwoone)}\\xspace}$\n",
       "$\\newcommand{\\JKaKc}{\\ensuremath{J_{K_a K_c}}}$\n",
       "$\\newcommand{\\water}{H_{2}O\\xspace}$\n",
       "$\\newcommand{\\feii}{\\ion{Fe}{ii}\\xspace}$\n",
       "$\\newcommand{\\uchii}{\\ion{UCH}{ii}\\xspace}$\n",
       "$\\newcommand{\\UCHII}{\\ion{UCH}{ii}\\xspace}$\n",
       "$\\newcommand{\\hchii}{\\ion{HCH}{ii}\\xspace}$\n",
       "$\\newcommand{\\HCHII}{\\ion{HCH}{ii}\\xspace}$\n",
       "$\\newcommand{\\hii}{\\ion{H}{ii}\\xspace}$\n",
       "$\\newcommand{\\hi}{H~{\\sc i}\\xspace}$\n",
       "$\\newcommand{\\Hii}{\\hii}$\n",
       "$\\newcommand{\\HII}{\\hii}$\n",
       "$\\newcommand{\\Xform}{\\ensuremath{X_{\\formaldehyde}}}$\n",
       "$\\newcommand{\\kms}{\\textrm{km~s}\\ensuremath{^{-1}}\\xspace}$\n",
       "$\\newcommand{\\nsample}{456\\xspace}$\n",
       "$\\newcommand{\\CFR}{5\\xspace}$\n",
       "$\\newcommand{\\permyr}{\\ensuremath{\\mathrm{Myr}^{-1}}\\xspace}$\n",
       "$\\newcommand{\\pers}{\\ensuremath{\\mathrm{s}^{-1}}\\xspace}$\n",
       "$\\newcommand{\\perspc}{\\ensuremath{\\mathrm{pc}^{-2}}\\xspace}$\n",
       "$\\newcommand{\\tsuplim}{0.5\\xspace}$\n",
       "$\\newcommand{\\ncandidates}{18\\xspace}$\n",
       "$\\newcommand{\\mindist}{8.7\\xspace}$\n",
       "$\\newcommand{\\rcluster}{2.5\\xspace}$\n",
       "$\\newcommand{\\ncomplete}{13\\xspace}$\n",
       "$\\newcommand{\\middistcut}{13.0\\xspace}$\n",
       "$\\newcommand{\\nMPC}{3\\xspace}$\n",
       "$\\newcommand{\\obsfrac}{30}$\n",
       "$\\newcommand{\\nMPCtot}{10\\xspace}$\n",
       "$\\newcommand{\\nMPCtoterr}{6\\xspace}$\n",
       "$\\newcommand{\\plaw}{2.1\\xspace}$\n",
       "$\\newcommand{\\plawerr}{0.3\\xspace}$\n",
       "$\\newcommand{\\mmin}{\\ensuremath{10^4~\\msun}\\xspace}$\n",
       "$\\newcommand{\\kmspc}{\\textrm{km~s}\\ensuremath{^{-1}}\\textrm{pc}\\ensuremath{^{-1}}\\xspace}$\n",
       "$\\newcommand{\\sqcm}{cm^{2}\\xspace}$\n",
       "$\\newcommand{\\percc}{\\ensuremath{\\textrm{cm}^{-3}}\\xspace}$\n",
       "$\\newcommand{\\perpc}{\\ensuremath{\\textrm{pc}^{-1}}\\xspace}$\n",
       "$\\newcommand{\\persc}{\\ensuremath{\\textrm{cm}^{-2}}\\xspace}$\n",
       "$\\newcommand{\\persr}{\\ensuremath{\\textrm{sr}^{-1}}\\xspace}$\n",
       "$\\newcommand{\\peryr}{\\ensuremath{\\textrm{yr}^{-1}}\\xspace}$\n",
       "$\\newcommand{\\perkmspc}{\\textrm{km~s}\\ensuremath{^{-1}}\\textrm{pc}\\ensuremath{^{-1}}\\xspace}$\n",
       "$\\newcommand{\\perkms}{\\textrm{per~km~s}\\ensuremath{^{-1}}\\xspace}$\n",
       "$\\newcommand{\\um}{\\ensuremath{\\mu \\textrm{m}}\\xspace}$\n",
       "$\\newcommand{\\microjy}{\\ensuremath{\\mu\\textrm{Jy}}\\xspace}$\n",
       "$\\newcommand{\\microJy}{\\ensuremath{\\mu\\textrm{Jy}}\\xspace}$\n",
       "$\\newcommand{\\mum}{\\um}$\n",
       "$\\newcommand{\\htwo}{\\ensuremath{\\textrm{H}_2}}$\n",
       "$\\newcommand{\\Htwo}{\\ensuremath{\\textrm{H}_2}}$\n",
       "$\\newcommand{\\HtwoO}{\\ensuremath{\\textrm{H}_2\\textrm{O}}}$\n",
       "$\\newcommand{\\htwoo}{\\ensuremath{\\textrm{H}_2\\textrm{O}}}$\n",
       "$\\newcommand{\\ha}{\\ensuremath{\\textrm{H}\\alpha}}$\n",
       "$\\newcommand{\\hb}{\\ensuremath{\\textrm{H}\\beta}}$\n",
       "$\\newcommand{\\so}{SO~\\ensuremath{5_6-4_5}\\xspace}$\n",
       "$\\newcommand{\\SO}{SO~\\ensuremath{1_2-1_1}\\xspace}$\n",
       "$\\newcommand{\\ammonia}{NH\\ensuremath{_3}\\xspace}$\n",
       "$\\newcommand{\\twelveco}{\\ensuremath{^{12}\\textrm{CO}}\\xspace}$\n",
       "$\\newcommand{\\thirteenco}{\\ensuremath{^{13}\\textrm{CO}}\\xspace}$\n",
       "$\\newcommand{\\ceighteeno}{\\ensuremath{\\textrm{C}^{18}\\textrm{O}}\\xspace}$\n",
       "$\\newcommand{\\degrees}{\\ensuremath{^{\\circ}}}$\n",
       "$\\newcommand{\\lowirac}{800}$\n",
       "$\\newcommand{\\highirac}{8000}$\n",
       "$\\newcommand{\\lowmips}{600}$\n",
       "$\\newcommand{\\highmips}{5000}$\n",
       "$\\newcommand{\\perbeam}{\\ensuremath{\\textrm{beam}^{-1}}\\xspace}$\n",
       "$\\newcommand{\\ds}{\\ensuremath{\\textrm{d}s}}$\n",
       "$\\newcommand{\\dnu}{\\ensuremath{\\textrm{d}\\nu}}$\n",
       "$\\newcommand{\\dv}{\\ensuremath{\\textrm{d}v}}$\n",
       "$\\newcommand{\\necluster}{Sh~2-233IR~NE}$\n",
       "$\\newcommand{\\swcluster}{Sh~2-233IR~SW}$\n",
       "$\\newcommand{\\region}{IRAS 05358}$\n",
       "$\\newcommand{\\nwfive}{40}$\n",
       "$\\newcommand{\\nouter}{15}$\n",
       "$\\newcommand{\\vone}{{\\rm v}1.0\\xspace}$\n",
       "$\\newcommand{\\vtwo}{{\\rm v}2.0\\xspace}$\n",
       "$\\newcommand$\n",
       "$\\newcommand$\n",
       "$\\newcommand$\n",
       "$\\newcommand$\n",
       "$\\newcommand$\n",
       "$\\newcommand{\\todo}[1]{\\textcolor{red}{#1}}$\n",
       "$\\newcommand{\\okinfinal}[1]{{#1}}$\n",
       "$\\newcommand{\\ndisks}{9\\xspace}$\n",
       "$\\newcommand{\\ntentative}{3\\xspace}$\n",
       "$\\newcommand{\\ndiskstext}{nine\\xspace}$\n",
       "$\\newcommand{\\nnewdisks}{5\\xspace}$\n",
       "$\\newcommand{\\nregions}{6\\xspace}$\n",
       "$\\newcommand{\\}{ee}$\n",
       "$\\newcommand{\\}{secref}$\n",
       "$\\newcommand{\\}{eqref}$\n",
       "$\\newcommand{\\}{facility}$\n",
       "$\\newcommand{\\}{natexlab}$</div>\n",
       "\n",
       "<div class=\"macros\" style=\"visibility:hidden;\">\n",
       "$\\newcommand{$\\ensuremath$}{}$\n",
       "$\\newcommand{$\\xspace$}{}$\n",
       "$\\newcommand{$\\object$}[1]{\\texttt{#1}}$\n",
       "$\\newcommand{$\\farcs$}{{.}''}$\n",
       "$\\newcommand{$\\farcm$}{{.}'}$\n",
       "$\\newcommand{$\\arcsec$}{''}$\n",
       "$\\newcommand{$\\arcmin$}{'}$\n",
       "$\\newcommand{$\\ion$}[2]{#1#2}$\n",
       "$\\newcommand{$\\textsc$}[1]{\\textrm{#1}}$\n",
       "$\\newcommand{$\\hl$}[1]{\\textrm{#1}}$\n",
       "$\\newcommand{$\\url$}[1]{\\href{#1}{#1}}$\n",
       "$\\newcommand{$\\dodoi$}[1]{doi:~\\href{http://doi.org/#1}{\\nolinkurl{#1}}}$\n",
       "$\\newcommand{$\\doeprint$}[1]{\\href{http://ascl.net/#1}{\\nolinkurl{http://ascl.net/#1}}}$\n",
       "$\\newcommand{$\\doarXiv$}[1]{\\href{https://arxiv.org/abs/#1}{\\nolinkurl{https://arxiv.org/abs/#1}}}$\n",
       "$\\newcommand{$\\vdag$}{(v)^\\dagger}$\n",
       "$\\newcommand$\n",
       "$\\newcommand$\n",
       "$\\newcommand{$\\paa$}{Pa$\\ensuremath${\\alpha}}$\n",
       "$\\newcommand{$\\brg$}{Br$\\ensuremath${\\gamma}}$\n",
       "$\\newcommand{$\\msun$}{$\\ensuremath${M_{\\odot}}$\\xspace$}$\n",
       "$\\newcommand{$\\mdot$}{$\\ensuremath${\\dot{M}}$\\xspace$}$\n",
       "$\\newcommand{$\\lsun$}{$\\ensuremath${L_{\\odot}}$\\xspace$}$\n",
       "$\\newcommand{$\\rsun$}{$\\ensuremath${R_{\\odot}}$\\xspace$}$\n",
       "$\\newcommand{$\\lbol$}{$\\ensuremath${L_{\\mathrm{bol}}$\\xspace$}}$\n",
       "$\\newcommand{$\\ks$}{K$\\ensuremath${_{\\mathrm{s}}}}$\n",
       "$\\newcommand{$\\hh$}{$\\ensuremath${\\textrm{H}_{2}}$\\xspace$}$\n",
       "$\\newcommand{$\\dens$}{$\\ensuremath${n($\\hh$) [$\\percc$]}$\\xspace$}$\n",
       "$\\newcommand{$\\formaldehyde$}{$\\ensuremath${\\textrm{H}_2\\textrm{CO}}$\\xspace$}$\n",
       "$\\newcommand{$\\formamide$}{$\\ensuremath${\\textrm{NH}_2\\textrm{CHO}}$\\xspace$}$\n",
       "$\\newcommand{$\\formaldehyde$Iso}{$\\ensuremath${\\textrm{H}_2~^{13}\\textrm{CO}}$\\xspace$}$\n",
       "$\\newcommand{$\\methanol$}{$\\ensuremath${\\textrm{CH}_3\\textrm{OH}}$\\xspace$}$\n",
       "$\\newcommand{$\\ortho$}{$\\ensuremath${\\textrm{o-H}_2\\textrm{CO}}$\\xspace$}$\n",
       "$\\newcommand{$\\para$}{$\\ensuremath${\\textrm{p-H}_2\\textrm{CO}}$\\xspace$}$\n",
       "$\\newcommand{$\\oneone$}{$\\ensuremath${1_{1,0}-1_{1,1}}$\\xspace$}$\n",
       "$\\newcommand{$\\twotwo$}{$\\ensuremath${2_{1,1}-2_{1,2}}$\\xspace$}$\n",
       "$\\newcommand{$\\threethree$}{$\\ensuremath${3_{1,2}-3_{1,3}}$\\xspace$}$\n",
       "$\\newcommand{$\\threeohthree$}{$\\ensuremath${3_{0,3}-2_{0,2}}$\\xspace$}$\n",
       "$\\newcommand{$\\threetwotwo$}{$\\ensuremath${3_{2,2}-2_{2,1}}$\\xspace$}$\n",
       "$\\newcommand{$\\threetwoone$}{$\\ensuremath${3_{2,1}-2_{2,0}}$\\xspace$}$\n",
       "$\\newcommand{$\\fourtwotwo$}{$\\ensuremath${4_{2,2}-3_{1,2}}$\\xspace$}$\n",
       "$\\newcommand{$\\methylcyanide$}{$\\ensuremath${\\textrm{CH}_{3}\\textrm{CN}}$\\xspace$}$\n",
       "$\\newcommand{$\\ketene$}{$\\ensuremath${\\textrm{H}_{2}\\textrm{CCO}}$\\xspace$}$\n",
       "$\\newcommand{$\\ethylcyanide$}{$\\ensuremath${\\textrm{CH}_3\\textrm{CH}_2\\textrm{CN}}$\\xspace$}$\n",
       "$\\newcommand{$\\cyanoacetylene$}{$\\ensuremath${\\textrm{HC}_{3}\\textrm{N}}$\\xspace$}$\n",
       "$\\newcommand{$\\methylformate$}{$\\ensuremath${\\textrm{CH}_{3}\\textrm{OCHO}}$\\xspace$}$\n",
       "$\\newcommand{$\\dimethylether$}{$\\ensuremath${\\textrm{CH}_{3}\\textrm{OCH}_{3}}$\\xspace$}$\n",
       "$\\newcommand{$\\gaucheethanol$}{$\\ensuremath${\\textrm{g-CH}_3\\textrm{CH}_2\\textrm{OH}}$\\xspace$}$\n",
       "$\\newcommand{$\\acetone$}{$\\ensuremath${\\left[\\textrm{CH}_{3}\\right]_2\\textrm{CO}}$\\xspace$}$\n",
       "$\\newcommand{$\\methyleneamidogen$}{$\\ensuremath${\\textrm{H}_{2}\\textrm{CN}}$\\xspace$}$\n",
       "$\\newcommand{$\\Rone$}{$\\ensuremath${$\\para$~S_{\\nu}($\\threetwoone$) / S_{\\nu}($\\threeohthree$)}$\\xspace$}$\n",
       "$\\newcommand{$\\Rtwo$}{$\\ensuremath${$\\para$~S_{\\nu}($\\threetwotwo$) / S_{\\nu}($\\threetwoone$)}$\\xspace$}$\n",
       "$\\newcommand{$\\JKaKc$}{$\\ensuremath${J_{K_a K_c}}}$\n",
       "$\\newcommand{$\\water$}{H_{2}O$\\xspace$}$\n",
       "$\\newcommand{$\\feii$}{$\\ion${Fe}{ii}$\\xspace$}$\n",
       "$\\newcommand{$\\uchii$}{$\\ion${UCH}{ii}$\\xspace$}$\n",
       "$\\newcommand{$\\UCHII$}{$\\ion${UCH}{ii}$\\xspace$}$\n",
       "$\\newcommand{$\\hchii$}{$\\ion${HCH}{ii}$\\xspace$}$\n",
       "$\\newcommand{$\\HCHII$}{$\\ion${HCH}{ii}$\\xspace$}$\n",
       "$\\newcommand{$\\hii$}{$\\ion${H}{ii}$\\xspace$}$\n",
       "$\\newcommand{$\\hi$}{H~{\\sc i}$\\xspace$}$\n",
       "$\\newcommand{$\\Hii$}{$\\hii$}$\n",
       "$\\newcommand{$\\HII$}{$\\hii$}$\n",
       "$\\newcommand{$\\Xform$}{$\\ensuremath${X_{$\\formaldehyde$}}}$\n",
       "$\\newcommand{$\\kms$}{\\textrm{km~s}$\\ensuremath${^{-1}}$\\xspace$}$\n",
       "$\\newcommand{$\\nsample$}{456$\\xspace$}$\n",
       "$\\newcommand{$\\CFR$}{5$\\xspace$}$\n",
       "$\\newcommand{$\\permyr$}{$\\ensuremath${\\mathrm{Myr}^{-1}}$\\xspace$}$\n",
       "$\\newcommand{$\\pers$}{$\\ensuremath${\\mathrm{s}^{-1}}$\\xspace$}$\n",
       "$\\newcommand{$\\pers$pc}{$\\ensuremath${\\mathrm{pc}^{-2}}$\\xspace$}$\n",
       "$\\newcommand{$\\tsuplim$}{0.5$\\xspace$}$\n",
       "$\\newcommand{$\\ncandidates$}{18$\\xspace$}$\n",
       "$\\newcommand{$\\mindist$}{8.7$\\xspace$}$\n",
       "$\\newcommand{$\\rcluster$}{2.5$\\xspace$}$\n",
       "$\\newcommand{$\\ncomplete$}{13$\\xspace$}$\n",
       "$\\newcommand{$\\middistcut$}{13.0$\\xspace$}$\n",
       "$\\newcommand{$\\nMPC$}{3$\\xspace$}$\n",
       "$\\newcommand{$\\obsfrac$}{30}$\n",
       "$\\newcommand{$\\nMPC$tot}{10$\\xspace$}$\n",
       "$\\newcommand{$\\nMPC$toterr}{6$\\xspace$}$\n",
       "$\\newcommand{$\\plaw$}{2.1$\\xspace$}$\n",
       "$\\newcommand{$\\plaw$err}{0.3$\\xspace$}$\n",
       "$\\newcommand{$\\mmin$}{$\\ensuremath${10^4~$\\msun$}$\\xspace$}$\n",
       "$\\newcommand{$\\kms$pc}{\\textrm{km~s}$\\ensuremath${^{-1}}\\textrm{pc}$\\ensuremath${^{-1}}$\\xspace$}$\n",
       "$\\newcommand{$\\sqcm$}{cm^{2}$\\xspace$}$\n",
       "$\\newcommand{$\\percc$}{$\\ensuremath${\\textrm{cm}^{-3}}$\\xspace$}$\n",
       "$\\newcommand{$\\perpc$}{$\\ensuremath${\\textrm{pc}^{-1}}$\\xspace$}$\n",
       "$\\newcommand{$\\pers$c}{$\\ensuremath${\\textrm{cm}^{-2}}$\\xspace$}$\n",
       "$\\newcommand{$\\pers$r}{$\\ensuremath${\\textrm{sr}^{-1}}$\\xspace$}$\n",
       "$\\newcommand{$\\peryr$}{$\\ensuremath${\\textrm{yr}^{-1}}$\\xspace$}$\n",
       "$\\newcommand{$\\perkmspc$}{\\textrm{km~s}$\\ensuremath${^{-1}}\\textrm{pc}$\\ensuremath${^{-1}}$\\xspace$}$\n",
       "$\\newcommand{$\\perkms$}{\\textrm{per~km~s}$\\ensuremath${^{-1}}$\\xspace$}$\n",
       "$\\newcommand{$\\um$}{$\\ensuremath${\\mu \\textrm{m}}$\\xspace$}$\n",
       "$\\newcommand{$\\microjy$}{$\\ensuremath${\\mu\\textrm{Jy}}$\\xspace$}$\n",
       "$\\newcommand{$\\microJy$}{$\\ensuremath${\\mu\\textrm{Jy}}$\\xspace$}$\n",
       "$\\newcommand{$\\mum$}{$\\um$}$\n",
       "$\\newcommand{$\\htwo$}{$\\ensuremath${\\textrm{H}_2}}$\n",
       "$\\newcommand{$\\Htwo$}{$\\ensuremath${\\textrm{H}_2}}$\n",
       "$\\newcommand{$\\Htwo$O}{$\\ensuremath${\\textrm{H}_2\\textrm{O}}}$\n",
       "$\\newcommand{$\\htwo$o}{$\\ensuremath${\\textrm{H}_2\\textrm{O}}}$\n",
       "$\\newcommand{$\\ha$}{$\\ensuremath${\\textrm{H}\\alpha}}$\n",
       "$\\newcommand{$\\hb$}{$\\ensuremath${\\textrm{H}\\beta}}$\n",
       "$\\newcommand{$\\so$}{SO~$\\ensuremath${5_6-4_5}$\\xspace$}$\n",
       "$\\newcommand{$\\SO$}{SO~$\\ensuremath${1_2-1_1}$\\xspace$}$\n",
       "$\\newcommand{$\\ammonia$}{NH$\\ensuremath${_3}$\\xspace$}$\n",
       "$\\newcommand{$\\twelveco$}{$\\ensuremath${^{12}\\textrm{CO}}$\\xspace$}$\n",
       "$\\newcommand{$\\thirteenco$}{$\\ensuremath${^{13}\\textrm{CO}}$\\xspace$}$\n",
       "$\\newcommand{$\\ceighteeno$}{$\\ensuremath${\\textrm{C}^{18}\\textrm{O}}$\\xspace$}$\n",
       "$\\newcommand{$\\degrees$}{$\\ensuremath${^{\\circ}}}$\n",
       "$\\newcommand{$\\lowirac$}{800}$\n",
       "$\\newcommand{$\\hi$ghirac}{8000}$\n",
       "$\\newcommand{$\\lowmips$}{600}$\n",
       "$\\newcommand{$\\hi$ghmips}{5000}$\n",
       "$\\newcommand{$\\perbeam$}{$\\ensuremath${\\textrm{beam}^{-1}}$\\xspace$}$\n",
       "$\\newcommand{$\\ds$}{$\\ensuremath${\\textrm{d}s}}$\n",
       "$\\newcommand{$\\dnu$}{$\\ensuremath${\\textrm{d}\\nu}}$\n",
       "$\\newcommand{$\\dv$}{$\\ensuremath${\\textrm{d}v}}$\n",
       "$\\newcommand{$\\necluster$}{Sh~2-233IR~NE}$\n",
       "$\\newcommand{$\\swcluster$}{Sh~2-233IR~SW}$\n",
       "$\\newcommand{$\\region$}{IRAS 05358}$\n",
       "$\\newcommand{$\\nwfive$}{40}$\n",
       "$\\newcommand{$\\nouter$}{15}$\n",
       "$\\newcommand{$\\vone$}{{\\rm v}1.0$\\xspace$}$\n",
       "$\\newcommand{$\\vtwo$}{{\\rm v}2.0$\\xspace$}$\n",
       "$\\newcommand$\n",
       "$\\newcommand$\n",
       "$\\newcommand$\n",
       "$\\newcommand$\n",
       "$\\newcommand$\n",
       "$\\newcommand{$\\todo$}[1]{\\textcolor{red}{#1}}$\n",
       "$\\newcommand{$\\okinfinal$}[1]{{#1}}$\n",
       "$\\newcommand{$\\ndisks$}{9$\\xspace$}$\n",
       "$\\newcommand{$\\ntentative$}{3$\\xspace$}$\n",
       "$\\newcommand{$\\ndisks$text}{nine$\\xspace$}$\n",
       "$\\newcommand{$\\nnewdisks$}{5$\\xspace$}$\n",
       "$\\newcommand{$\\nregions$}{6$\\xspace$}$\n",
       "$\\newcommand{\\}{ee}$\n",
       "$\\newcommand{\\}{secref}$\n",
       "$\\newcommand{\\}{eqref}$\n",
       "$\\newcommand{\\}{facility}$\n",
       "$\\newcommand{\\}{natexlab}$</div>\n",
       "\n",
       "\n",
       "\n",
       "<div id=\"title\">\n",
       "\n",
       "# Salt-bearing disk candidates around high-mass young stellar objects\n",
       "\n",
       "</div>\n",
       "<div id=\"comments\">\n",
       "\n",
       "[![arXiv](https://img.shields.io/badge/arXiv-2211.02502-b31b1b.svg)](https://arxiv.org/abs/2211.02502)<mark>Appeared on: 2022-11-07</mark> - _accepted to ApJ_\n",
       "\n",
       "</div>\n",
       "<div id=\"authors\">\n",
       "\n",
       "Adam Ginsburg, et al. -- incl., <mark>Yichen Zhang</mark>, <mark>Henrik Beuther</mark>\n",
       "\n",
       "</div>\n",
       "<div id=\"abstract\">\n",
       "\n",
       "**Abstract:** Molecular lines tracing the orbital motion of gas in a well-defined disk are valuable tools for inferring both the properties of the disk and the star it surrounds.Lines that arise only from a disk, and not also from the surrounding molecular cloud core that birthed the star or from the outflow it drives, are rare.Several such emission lines have recently been discovered in one example case, those from NaCl and KCl salt molecules.We studied a sample of 23 candidate high-mass young stellar objects (HMYSOs) in 17 high-mass star-forming regions to determine how frequently emission from these species is detected.We present$\\nnewdisks$new detections of water, NaCl, KCl, PN, and SiS from the innermost regions around the objects, bringing the total number of known briny disk candidates to$\\ndisks$.Their kinematic structure is generally disk-like,{though we are unable to determine whether they arise from a disk or outflow in the  sources with new detections}.We demonstrate that these species are spatially coincident in a few resolved cases and show that they are generally detected together, suggesting a common origin or excitation mechanism.We also show that several disks around HMYSOs clearly do not exhibit emission in these species.Salty disks are therefore neither particularly rare in high-mass disks, nor are they ubiquitous.\n",
       "\n",
       "</div>\n",
       "\n",
       "<div id=\"div_fig1\">\n",
       "\n",
       "<img src=\"tmp_2211.02502/./f1.png\" alt=\"Fig5.1\" width=\"25%\"/><img src=\"tmp_2211.02502/./f2.png\" alt=\"Fig5.2\" width=\"25%\"/><img src=\"tmp_2211.02502/./f3.png\" alt=\"Fig5.3\" width=\"25%\"/><img src=\"tmp_2211.02502/./f4.png\" alt=\"Fig5.4\" width=\"25%\"/>\n",
       "\n",
       "**Figure 5. -** Moment-0 (integrated intensity) images of the resolved sources in NaCl lines.\n",
       "     For SrcI (top-left), this is the integrated intensity of the NaCl $J$=18-17 $v$=0\n",
       "     line.  For the remainder, G17 (top right), G351 mm1 (bottom left), and NGC 6334I mm1b (bottom right),\n",
       "     these are the average of the $J$=18-17 and $J$=17-16 transitions\n",
       "     of both the $v$=0 and $v$=1 states.  The coordinates are given in RA/Dec offset from the\n",
       "     central position specified under the abscissa.\n",
       "     The scalebars show physical sizes as labeled.\n",
       "     The ellipses in the corners show the full-width half-maximum beam ellipse. (*fig:resolveddisks*)\n",
       "\n",
       "</div>\n",
       "<div id=\"div_fig2\">\n",
       "\n",
       "<img src=\"tmp_2211.02502/./f29.png\" alt=\"Fig13.1\" width=\"25%\"/><img src=\"tmp_2211.02502/./f30.png\" alt=\"Fig13.2\" width=\"25%\"/><img src=\"tmp_2211.02502/./f31.png\" alt=\"Fig13.3\" width=\"25%\"/><img src=\"tmp_2211.02502/./f32.png\" alt=\"Fig13.4\" width=\"25%\"/>\n",
       "\n",
       "**Figure 13. -** Stacked spectra from G351.77mm1 from the \\citet{Beuther2019} data set.\n",
       "    The stacking was based on the H$_2$O line.\n",
       "    Line IDs are shown; no KCl detections are clear.\n",
       "    Different colors are used for targeted species with multiple transitions in-band: orange for SiS, blue for KCl, red for NaCl, {magenta for H30$\\alpha$, purple for PN, and green for $\\water$}.\n",
       "    The remaining species, with only one transition marked, are shown in black.\n",
       "    The PN line identification should be taken with a grain of salt\n",
       "    since it is the only transition we observe from PN.\n",
       "     (*fig:g351mm1*)\n",
       "\n",
       "</div>\n",
       "<div id=\"div_fig3\">\n",
       "\n",
       "<img src=\"tmp_2211.02502/./f24.png\" alt=\"Fig11\" width=\"100%\"/>\n",
       "\n",
       "**Figure 11. -** Moment-0 (integrated intensity) and moment-1 (intensity-weighted velocity) images of {stacked} NaCl (left) and $\\water$(right) for G351 mm1.\n",
       "    The position-velocity diagrams in Figure \\ref{fig:g351momentpv} are\n",
       "    taken along position angle $130^\\circ$, parallel to the velocity gradient seen in the lower panels here.\n",
       "    {The red arrow shows the direction of the outflow from \\citet{Beuther2019}{that extends $\\gtrsim0.2$ pc to the northwest}.\n",
       "    A compact blueshifted {feature} was also weakly detected b{in SiO} opposite the redshifted flow, but it is unresolved.\n",
       "    {The blue side of the NaCl, $\\water$, and (in Appendix \\ref{appendix:g351}) SiS and PN corresponds with the SiO blueshifted lobe seen in Fig. 7 of \\citet{Beuther2019}, but since its extent is limited to the $\\lesssim100$ AU scale shown in this figure, we cannot confirm whether it is comprised of outflowing material.\n",
       "    }} (*fig:g351brinemoments*)\n",
       "\n",
       "</div>"
      ],
      "text/plain": [
       "<IPython.core.display.Markdown object>"
      ]
     },
     "metadata": {},
     "output_type": "display_data"
    }
   ],
   "source": [
    "[display(Markdown(k[1])) for k in documents];"
   ]
  },
  {
   "cell_type": "markdown",
   "id": "873873a4",
   "metadata": {
    "papermill": {
     "duration": 0.010901,
     "end_time": "2022-11-07T04:33:02.094992",
     "exception": false,
     "start_time": "2022-11-07T04:33:02.084091",
     "status": "completed"
    },
    "tags": []
   },
   "source": [
    "# Create HTML index"
   ]
  },
  {
   "cell_type": "code",
   "execution_count": 10,
   "id": "cf665672",
   "metadata": {
    "execution": {
     "iopub.execute_input": "2022-11-07T04:33:02.118558Z",
     "iopub.status.busy": "2022-11-07T04:33:02.117936Z",
     "iopub.status.idle": "2022-11-07T04:33:02.127282Z",
     "shell.execute_reply": "2022-11-07T04:33:02.126645Z"
    },
    "papermill": {
     "duration": 0.022785,
     "end_time": "2022-11-07T04:33:02.128794",
     "exception": false,
     "start_time": "2022-11-07T04:33:02.106009",
     "status": "completed"
    },
    "tags": []
   },
   "outputs": [
    {
     "name": "stdout",
     "output_type": "stream",
     "text": [
      "82  publications in the last 7 days.\n",
      "\t _build/html/2211.02502.md\n",
      "\t _build/html/2211.01474.md\n",
      "\t _build/html/2211.00667.md\n",
      "\t _build/html/2211.00657.md\n",
      "\t _build/html/2211.00087.md\n",
      "\t _build/html/2211.00036.md\n",
      "\t _build/html/2211.00020.md\n",
      "\t _build/html/2211.00010.md\n",
      "\t _build/html/2210.17434.md\n",
      "\t _build/html/2210.12412.md\n",
      "\t _build/html/2210.11926.md\n",
      "\t _build/html/2210.11551.md\n",
      "\t _build/html/2210.11103.md\n",
      "\t _build/html/2210.10707.md\n",
      "\t _build/html/2210.09930.md\n",
      "\t _build/html/2210.08996.md\n",
      "\t _build/html/2210.08517.md\n",
      "\t _build/html/2210.08510.md\n",
      "\t _build/html/2210.08078.md\n",
      "\t _build/html/2210.06504.md\n",
      "\t _build/html/2210.05695.md\n",
      "\t _build/html/2210.05595.md\n",
      "\t _build/html/2210.05505.md\n",
      "\t _build/html/2210.04721.md\n",
      "\t _build/html/2210.03615.md\n",
      "\t _build/html/2210.01811.md\n",
      "\t _build/html/2210.01809.md\n",
      "\t _build/html/2210.01556.md\n",
      "\t _build/html/2210.00863.md\n",
      "\t _build/html/2210.00560.md\n",
      "\t _build/html/2209.15403.md\n",
      "\t _build/html/2209.15110.md\n",
      "\t _build/html/2209.14410.md\n",
      "\t _build/html/2209.14396.md\n",
      "\t _build/html/2209.13717.md\n",
      "\t _build/html/2209.13336.md\n",
      "\t _build/html/2209.12906.md\n",
      "\t _build/html/2209.11781.md\n",
      "\t _build/html/2209.11602.md\n",
      "\t _build/html/2209.11248.md\n",
      "\t _build/html/2209.11096.md\n",
      "\t _build/html/2209.10618.md\n",
      "\t _build/html/2209.09914.md\n",
      "\t _build/html/2209.09823.md\n",
      "\t _build/html/2209.08242.md\n",
      "\t _build/html/2209.08120.md\n",
      "\t _build/html/2209.08106.md\n",
      "\t _build/html/2209.07962.md\n",
      "\t _build/html/2209.07931.md\n",
      "\t _build/html/2209.06833.md\n",
      "\t _build/html/2209.05814.md\n",
      "\t _build/html/2209.05593.md\n",
      "\t _build/html/2209.04304.md\n",
      "\t _build/html/2209.03367.md\n",
      "\t _build/html/2209.02872.md\n",
      "\t _build/html/2209.02725.md\n",
      "\t _build/html/2209.02722.md\n",
      "\t _build/html/2209.02092.md\n",
      "\t _build/html/2209.01125.md\n",
      "\t _build/html/2209.00828.md\n",
      "\t _build/html/2209.00363.md\n",
      "\t _build/html/2208.14927.md\n",
      "\t _build/html/2208.09335.md\n",
      "\t _build/html/2208.08872.md\n",
      "\t _build/html/2204.06393.md\n",
      "\t _build/html/2204.03335.md\n",
      "\t _build/html/2204.03253.md\n",
      "\t _build/html/2204.02998.md\n",
      "\t _build/html/2204.02109.md\n",
      "\t _build/html/2204.02017.md\n",
      "\t _build/html/2204.01824.md\n",
      "\t _build/html/2204.01758.md\n",
      "\t _build/html/2204.01245.md\n",
      "\t _build/html/2204.00793.md\n",
      "\t _build/html/2204.00342.md\n",
      "\t _build/html/2203.16959.md\n",
      "\t _build/html/2203.16856.md\n",
      "\t _build/html/2203.16735.md\n",
      "\t _build/html/2203.16734.md\n",
      "\t _build/html/2203.16504.md\n",
      "\t _build/html/2203.15822.md\n",
      "\t _build/html/2203.15811.md\n"
     ]
    }
   ],
   "source": [
    "from datetime import datetime, timedelta, timezone\n",
    "from glob import glob\n",
    "\n",
    "files = glob('_build/html/*.md')\n",
    "days = 7\n",
    "now = datetime.today()\n",
    "res = []\n",
    "for fk in files:\n",
    "    stat_result = os.stat(fk).st_ctime\n",
    "    modified = datetime.fromtimestamp(stat_result, tz=timezone.utc).replace(tzinfo=None)\n",
    "    delta = now.today() - modified\n",
    "    if delta <= timedelta(days=days):\n",
    "        res.append((delta.seconds, fk))\n",
    "res = [k[1] for k in reversed(sorted(res, key=lambda x:x[1]))]\n",
    "npub = len(res)\n",
    "print(len(res), f\" publications in the last {days:d} days.\")\n",
    "[ print('\\t', k) for k in res ];"
   ]
  },
  {
   "cell_type": "code",
   "execution_count": 11,
   "id": "52ca0208",
   "metadata": {
    "execution": {
     "iopub.execute_input": "2022-11-07T04:33:02.152556Z",
     "iopub.status.busy": "2022-11-07T04:33:02.152054Z",
     "iopub.status.idle": "2022-11-07T04:33:02.158489Z",
     "shell.execute_reply": "2022-11-07T04:33:02.157873Z"
    },
    "papermill": {
     "duration": 0.020054,
     "end_time": "2022-11-07T04:33:02.159882",
     "exception": false,
     "start_time": "2022-11-07T04:33:02.139828",
     "status": "completed"
    },
    "scrolled": false,
    "tags": []
   },
   "outputs": [],
   "source": [
    "def create_carousel(npub=4):\n",
    "    \"\"\" Generate the HTML code for a carousel with `npub` slides \"\"\"\n",
    "    carousel = [\"\"\"<section class=\"carousel\" aria-label=\"Gallery\">\"\"\",\n",
    "                \"\"\"  <ol class=\"carousel__viewport\">\"\"\",\n",
    "    ]\n",
    "    for k in range(1, npub + 1):\n",
    "        prev_ = k - 1\n",
    "        next_ = k + 1\n",
    "        if prev_ <= 0:\n",
    "            prev_ = npub\n",
    "        if next_ > npub:\n",
    "            next_ = 1\n",
    "        text  = f\"\"\"    <li id=\"carousel__slide{k}\" tabindex=\"0\" class=\"carousel__slide\">\\n\"\"\"\n",
    "        text += f\"\"\"       <div class=\"carousel__snapper\">\\n\"\"\"\n",
    "        text += f\"\"\"         <a href=\"#carousel__slide{prev_}\" class=\"carousel__prev\">Go to previous slide</a>\\n\"\"\"\n",
    "        text += f\"\"\"         <a href=\"#carousel__slide{next_}\" class=\"carousel__next\">Go to next slide</a>\\n\"\"\"\n",
    "        text += f\"\"\"         <div id=\"slide{k}_content\" class=\"md_view\" >Content {k}</div>\\n\"\"\"\n",
    "        text += f\"\"\"       </div>\\n\"\"\"\n",
    "        text += f\"\"\"    </li>\"\"\"\n",
    "        carousel.append(text)\n",
    "\n",
    "    carousel.extend([\n",
    "        \"\"\"  </ol>\"\"\",\n",
    "        \"\"\"  <aside class=\"carousel__navigation\">\"\"\",\n",
    "        \"\"\"    <ol class=\"carousel__navigation-list\">\"\"\"])\n",
    "\n",
    "    for k in range(1, npub + 1):\n",
    "        text  = f\"\"\"      <li class=\"carousel__navigation-item\">\\n\"\"\"\n",
    "        text += f\"\"\"        <a href=\"#carousel__slide{k}\" class=\"carousel__navigation-button\">Go to {k}</a>\\n\"\"\"\n",
    "        text += f\"\"\"      </li>\"\"\"\n",
    "        carousel.append(text)\n",
    "    carousel.extend([\"\"\"    </ol>\"\"\", \"\"\"  </aside>\"\"\", \"\"\"</section>\"\"\"])\n",
    "\n",
    "    return '\\n'.join(carousel)"
   ]
  },
  {
   "cell_type": "code",
   "execution_count": 12,
   "id": "a6eac5b6",
   "metadata": {
    "execution": {
     "iopub.execute_input": "2022-11-07T04:33:02.215062Z",
     "iopub.status.busy": "2022-11-07T04:33:02.214471Z",
     "iopub.status.idle": "2022-11-07T04:33:02.222193Z",
     "shell.execute_reply": "2022-11-07T04:33:02.221608Z"
    },
    "papermill": {
     "duration": 0.021635,
     "end_time": "2022-11-07T04:33:02.223671",
     "exception": false,
     "start_time": "2022-11-07T04:33:02.202036",
     "status": "completed"
    },
    "scrolled": false,
    "tags": []
   },
   "outputs": [],
   "source": [
    "carousel = create_carousel(npub)\n",
    "docs = ', '.join(['\"{0:s}\"'.format(k.split('/')[-1]) for k in res])\n",
    "slides = ', '.join([f'\"slide{k}_content\"' for k in range(1, npub + 1)])\n",
    "\n",
    "script = f\"\"\"\n",
    "const docs = [{docs}]\n",
    "\n",
    "const slides = [{slides}]\n",
    "\"\"\" + \"\"\"\n",
    "async function run() {\n",
    "    for (let i = 0; i < docs.length; i++) {\n",
    "        let file = await fetch(docs[i]);\n",
    "        let text = await file.text()\n",
    "        document.getElementById(slides[i]).innerHTML =\n",
    "            marked.parse(text);\n",
    "    }\n",
    "    hljs.highlightAll();\n",
    "}\n",
    "run()\n",
    "\"\"\"\n",
    "\n",
    "page = f\"\"\"<!doctype html>\n",
    "<html lang=\"en\">\n",
    "\n",
    "<head>\n",
    "  <meta charset=\"utf-8\">\n",
    "  <meta name=\"viewport\" content=\"width=device-width, initial-scale=1\">\n",
    "  <!-- Bootstrap CSS -->\n",
    "  <link href=\"https://cdn.jsdelivr.net/npm/bootstrap@5.0.2/dist/css/bootstrap.min.css\" rel=\"stylesheet\"\n",
    "   integrity=\"sha384-EVSTQN3/azprG1Anm3QDgpJLIm9Nao0Yz1ztcQTwFspd3yD65VohhpuuCOmLASjC\" crossorigin=\"anonymous\">\n",
    "  <!-- highlight.js CSS -->\n",
    "  <link rel=\"stylesheet\" href=\"https://cdnjs.cloudflare.com/ajax/libs/highlight.js/11.1.0/styles/default.min.css\">\n",
    "  <!-- Mathjax 3 -->\n",
    "  <script type=\"text/javascript\" id=\"MathJax-config\" src=\"mathjax_config.js\"> </script>\n",
    "  <script type=\"text/javascript\" id=\"MathJax-script\" async \n",
    "    src=\"https://cdn.jsdelivr.net/npm/mathjax@3/es5/tex-mml-chtml.js\">\n",
    "  </script>\n",
    "  <link rel=\"stylesheet\" href=\"index_carousel.css\">\n",
    "  <link rel=\"icon\" type=\"image/x-icon\" href=\"https://www.mpia.de/assets/touch-icon-32x32-a66937bcebc4e8894ebff1f41a366c7c7220fd97a38869ee0f2db65a9f59b6c1.png\">\n",
    "  <title>MPIA Arxiv on deck!</title>\n",
    "</head>\n",
    "\n",
    "<body>\n",
    "  <div id=\"header\"> <img src=\"header_banner.png\" width=\"100%\"></div>\n",
    "  <div id=\"suptitle\"> 7-day archives </div>\n",
    "  <div id=\"info\">\n",
    "    <img src=\"https://pngimg.com/uploads/github/github_PNG58.png\" height=30rem></img>\n",
    "    <a href=https://github.com/mpi-astronomy/arxiv_display style=\"color:black;\">github/mpi-astronomy/arxiv_display</a> \n",
    "  </div>\n",
    "  {carousel:s}\n",
    "</body>\n",
    "\n",
    "<!-- Render Markdown -->\n",
    "\n",
    "<body>\n",
    "  <!-- highlight.js: https://highlightjs.org/download/ -->\n",
    "  <script src=\"https://cdnjs.cloudflare.com/ajax/libs/highlight.js/11.5.0/highlight.min.js\"></script>\n",
    "  <!-- marked.js -->\n",
    "  <script src=\"https://cdn.jsdelivr.net/npm/marked/marked.min.js\"></script>\n",
    "  <script>{script:s}</script>\n",
    "</body>\n",
    "</html>\n",
    "\"\"\"\n",
    "with open(\"_build/html/index_7days.html\", 'w') as fout:\n",
    "    fout.write(page)"
   ]
  },
  {
   "cell_type": "markdown",
   "id": "1cebacbc",
   "metadata": {
    "papermill": {
     "duration": 0.011075,
     "end_time": "2022-11-07T04:33:02.245967",
     "exception": false,
     "start_time": "2022-11-07T04:33:02.234892",
     "status": "completed"
    },
    "tags": []
   },
   "source": [
    "# Debugging papers"
   ]
  },
  {
   "cell_type": "raw",
   "id": "debe7cc6",
   "metadata": {
    "papermill": {
     "duration": 0.011085,
     "end_time": "2022-11-07T04:33:02.268073",
     "exception": false,
     "start_time": "2022-11-07T04:33:02.256988",
     "status": "completed"
    },
    "tags": []
   },
   "source": [
    "raise NotImplementedError(\"Manual Stop\")"
   ]
  },
  {
   "cell_type": "raw",
   "id": "eb169192",
   "metadata": {
    "papermill": {
     "duration": 0.011009,
     "end_time": "2022-11-07T04:33:02.290084",
     "exception": false,
     "start_time": "2022-11-07T04:33:02.279075",
     "status": "completed"
    },
    "scrolled": true,
    "tags": []
   },
   "source": [
    "from IPython.display import display, Markdown\n",
    "from TexSoup import TexSoup\n",
    "import re\n",
    "\n",
    "def bracket_error(source: str):\n",
    "    \"\"\" Find problematic portions of the document \"\"\"\n",
    "    \n",
    "    print(\"len(source)\", len(source))\n",
    "    \n",
    "    # Checking header\n",
    "    begin_doc = next(re.finditer(r'\\\\begin\\{document\\}', doc.source)).span()[1]\n",
    "    header = source[:begin_doc]\n",
    "    text = header + r\"\\n\\end{document}\"\n",
    "\n",
    "    try:\n",
    "        # print(\"Header check... \", end='')\n",
    "        TexSoup(text)\n",
    "        display(Markdown(f\"**[OK]** - Header\"))\n",
    "    except:\n",
    "        raise RuntimeError(\"Error in the header\")\n",
    "        \n",
    "    # Check the text per section until the end.\n",
    "    # Do not stop and try them all.\n",
    "    \n",
    "    problematic_text = []\n",
    "    \n",
    "    sections = ([(0, begin_doc, 'until first section')] + \n",
    "                [(g.span()[0], g.span()[1], g.group()) for g in re.finditer(r'\\\\section\\{.*\\}', source)] +\n",
    "                [(g.span()[0], g.span()[1], g.group()) for g in re.finditer(r'\\\\begin\\{appendix\\}', source)]\n",
    "               )\n",
    "    sections.append([len(source), len(source), 'end'])\n",
    "    \n",
    "    sections = sorted(sections, key=lambda x: x[0])\n",
    "    \n",
    "    prev_pos, prev_name = (0, 'header')\n",
    "    parsed = []\n",
    "    \n",
    "    for span, span_end, name in sections:\n",
    "\n",
    "        if span - prev_pos <= 0:\n",
    "            continue\n",
    "            \n",
    "\n",
    "        text = source[prev_pos:span]\n",
    "        if prev_pos > begin_doc:\n",
    "            text = r\"\\n\\begin{document}\" + text + r\"\\n\\end{document}\"\n",
    "        else:\n",
    "            text = text + r\"\\n\\end{document}\"\n",
    "        try:\n",
    "            #print(f\"{prev_pos}:{prev_name}-->{span}:{name} check... \", end='')\n",
    "            parsed.append(TexSoup(text, tolerance=1))  # allow not ending env\n",
    "            display(Markdown(f\"**[OK]** - *{prev_pos}*:{prev_name} &rarr; *{span}*:{name}\"))\n",
    "            # print(\"ok\")\n",
    "\n",
    "            prev_pos = span\n",
    "            prev_name = name\n",
    "        except:\n",
    "            # print(f\"error between {prev_pos} and {span}\")\n",
    "            display(Markdown(f\"**[ERR]** *{prev_pos}*:{prev_name} &rarr; *{span}*:{name}\"))\n",
    "            problematic_text.append((prev_pos, source[prev_pos:span]))\n",
    "            prev_pos = span\n",
    "            prev_name = name\n",
    "            # raise\n",
    "    return problematic_text, parsed\n",
    "\n",
    "\n",
    "def check_environment(text, offset=0):\n",
    "    \"\"\" Check environment \"\"\"\n",
    "    env = re.compile(r\"\\\\begin\\{(?P<env>.*)\\}(.*)\\\\end\\{(?P=env)\\}\", re.DOTALL)\n",
    "\n",
    "    for match in env.finditer(text):\n",
    "        beg, end = match.span()\n",
    "        beg += offset\n",
    "        end += offset\n",
    "        envname = match.groups()[0]\n",
    "        try:\n",
    "            latex.TexSoup(match.group())\n",
    "        except Exception as e:\n",
    "            display(e)\n",
    "            print(f\"Error in {envname:s} between {beg} and {end}\")\n",
    "            return match.groups()[1], beg, end"
   ]
  },
  {
   "cell_type": "raw",
   "id": "2315e835",
   "metadata": {
    "papermill": {
     "duration": 0.010959,
     "end_time": "2022-11-07T04:33:02.311980",
     "exception": false,
     "start_time": "2022-11-07T04:33:02.301021",
     "status": "completed"
    },
    "scrolled": false,
    "tags": []
   },
   "source": [
    "import importlib\n",
    "importlib.reload(latex)\n",
    "which = \"2204.03253\"\n",
    "paper_id = f'{which:s}'\n",
    "folder = f'tmp_{paper_id:s}'\n",
    "\n",
    "if not os.path.isdir(folder):\n",
    "    folder = retrieve_document_source(f\"{paper_id}\", f'tmp_{paper_id}')\n",
    "\n",
    "try:\n",
    "    doc = latex.LatexDocument(folder, validation=validation)    \n",
    "except AffiliationError as affilerror:\n",
    "    msg = f\"ArXiv:{paper_id:s} is not an MPIA paper... \" + str(affilerror)\n",
    "    print(msg)\n",
    "\n",
    "\n",
    "# Hack because sometimes author parsing does not work well\n",
    "if (len(doc.authors) != len(paper['authors'])):\n",
    "    doc._authors = paper['authors']\n",
    "if (doc.abstract) in (None, ''):\n",
    "    doc._abstract = paper['abstract']\n",
    "\n",
    "doc.comment = get_markdown_badge(paper_id) + \" _\" + paper['comments'] + \"_\"\n",
    "doc.highlight_authors_in_list(hl_list)\n",
    "\n",
    "full_md = doc.generate_markdown_text()"
   ]
  },
  {
   "cell_type": "raw",
   "id": "dd3781db",
   "metadata": {
    "papermill": {
     "duration": 0.010962,
     "end_time": "2022-11-07T04:33:02.333944",
     "exception": false,
     "start_time": "2022-11-07T04:33:02.322982",
     "status": "completed"
    },
    "scrolled": false,
    "tags": []
   },
   "source": [
    "doc"
   ]
  },
  {
   "cell_type": "raw",
   "id": "c6eed834",
   "metadata": {
    "papermill": {
     "duration": 0.010981,
     "end_time": "2022-11-07T04:33:02.356205",
     "exception": false,
     "start_time": "2022-11-07T04:33:02.345224",
     "status": "completed"
    },
    "tags": []
   },
   "source": [
    "# [check_environment(k) for k in bracket_error(doc.source)]\n",
    "_, _, a = latex.get_content_per_section(doc.source, verbose=True)\n",
    "if not a:\n",
    "    print(\"no issues per section\")\n",
    "for ak in a:\n",
    "    r = check_environment(ak[1], offset=ak[0])\n",
    "    print(r[1], r[2])\n",
    "    print(r[0])"
   ]
  },
  {
   "cell_type": "code",
   "execution_count": null,
   "id": "71ce768a",
   "metadata": {
    "papermill": {
     "duration": 0.010972,
     "end_time": "2022-11-07T04:33:02.378114",
     "exception": false,
     "start_time": "2022-11-07T04:33:02.367142",
     "status": "completed"
    },
    "tags": []
   },
   "outputs": [],
   "source": []
  }
 ],
 "metadata": {
  "kernelspec": {
   "display_name": "Python 3.10.6 64-bit",
   "language": "python",
   "name": "python3"
  },
  "language_info": {
   "codemirror_mode": {
    "name": "ipython",
    "version": 3
   },
   "file_extension": ".py",
   "mimetype": "text/x-python",
   "name": "python",
   "nbconvert_exporter": "python",
   "pygments_lexer": "ipython3",
   "version": "3.9.15"
  },
  "papermill": {
   "default_parameters": {},
   "duration": 126.298368,
   "end_time": "2022-11-07T04:33:02.611380",
   "environment_variables": {},
   "exception": null,
   "input_path": "MPIA daily digest.ipynb",
   "output_path": "log.ipynb",
   "parameters": {},
   "start_time": "2022-11-07T04:30:56.313012",
   "version": "2.4.0"
  },
  "vscode": {
   "interpreter": {
    "hash": "e7370f93d1d0cde622a1f8e1c04877d8463912d04d973331ad4851f04de6915a"
   }
  },
  "widgets": {
   "application/vnd.jupyter.widget-state+json": {
    "state": {
     "06f5fa5b6f4b440e8736025bdd1885f5": {
      "model_module": "@jupyter-widgets/base",
      "model_module_version": "2.0.0",
      "model_name": "LayoutModel",
      "state": {
       "_model_module": "@jupyter-widgets/base",
       "_model_module_version": "2.0.0",
       "_model_name": "LayoutModel",
       "_view_count": null,
       "_view_module": "@jupyter-widgets/base",
       "_view_module_version": "2.0.0",
       "_view_name": "LayoutView",
       "align_content": null,
       "align_items": null,
       "align_self": null,
       "border_bottom": null,
       "border_left": null,
       "border_right": null,
       "border_top": null,
       "bottom": null,
       "display": null,
       "flex": null,
       "flex_flow": null,
       "grid_area": null,
       "grid_auto_columns": null,
       "grid_auto_flow": null,
       "grid_auto_rows": null,
       "grid_column": null,
       "grid_gap": null,
       "grid_row": null,
       "grid_template_areas": null,
       "grid_template_columns": null,
       "grid_template_rows": null,
       "height": null,
       "justify_content": null,
       "justify_items": null,
       "left": null,
       "margin": null,
       "max_height": null,
       "max_width": null,
       "min_height": null,
       "min_width": null,
       "object_fit": null,
       "object_position": null,
       "order": null,
       "overflow": null,
       "padding": null,
       "right": null,
       "top": null,
       "visibility": null,
       "width": null
      }
     },
     "18b6f671a8f9401881ec0c18b4c147b8": {
      "model_module": "@jupyter-widgets/controls",
      "model_module_version": "2.0.0",
      "model_name": "ProgressStyleModel",
      "state": {
       "_model_module": "@jupyter-widgets/controls",
       "_model_module_version": "2.0.0",
       "_model_name": "ProgressStyleModel",
       "_view_count": null,
       "_view_module": "@jupyter-widgets/base",
       "_view_module_version": "2.0.0",
       "_view_name": "StyleView",
       "bar_color": null,
       "description_width": ""
      }
     },
     "2e8f8d960768434c9fe7133995e7832f": {
      "model_module": "@jupyter-widgets/controls",
      "model_module_version": "2.0.0",
      "model_name": "HBoxModel",
      "state": {
       "_dom_classes": [],
       "_model_module": "@jupyter-widgets/controls",
       "_model_module_version": "2.0.0",
       "_model_name": "HBoxModel",
       "_view_count": null,
       "_view_module": "@jupyter-widgets/controls",
       "_view_module_version": "2.0.0",
       "_view_name": "HBoxView",
       "box_style": "",
       "children": [
        "IPY_MODEL_38b2aa1a29a9429481dd9e0ddfbf82d4",
        "IPY_MODEL_a7bad3b4cda64c2d941f35c9bcc7fe35",
        "IPY_MODEL_e4ca3dfb493f4b699e79c287cfcfeb40"
       ],
       "layout": "IPY_MODEL_df6642332099440681a18e537f19ee50",
       "tabbable": null,
       "tooltip": null
      }
     },
     "38b2aa1a29a9429481dd9e0ddfbf82d4": {
      "model_module": "@jupyter-widgets/controls",
      "model_module_version": "2.0.0",
      "model_name": "HTMLModel",
      "state": {
       "_dom_classes": [],
       "_model_module": "@jupyter-widgets/controls",
       "_model_module_version": "2.0.0",
       "_model_name": "HTMLModel",
       "_view_count": null,
       "_view_module": "@jupyter-widgets/controls",
       "_view_module_version": "2.0.0",
       "_view_name": "HTMLView",
       "description": "",
       "description_allow_html": false,
       "layout": "IPY_MODEL_e192732995344dcab34c2d233e79a770",
       "placeholder": "​",
       "style": "IPY_MODEL_8a365b1c7bff465e94e9d54608faf938",
       "tabbable": null,
       "tooltip": null,
       "value": "100%"
      }
     },
     "7e88733f05f84549a164d2fc6c5d8496": {
      "model_module": "@jupyter-widgets/base",
      "model_module_version": "2.0.0",
      "model_name": "LayoutModel",
      "state": {
       "_model_module": "@jupyter-widgets/base",
       "_model_module_version": "2.0.0",
       "_model_name": "LayoutModel",
       "_view_count": null,
       "_view_module": "@jupyter-widgets/base",
       "_view_module_version": "2.0.0",
       "_view_name": "LayoutView",
       "align_content": null,
       "align_items": null,
       "align_self": null,
       "border_bottom": null,
       "border_left": null,
       "border_right": null,
       "border_top": null,
       "bottom": null,
       "display": null,
       "flex": null,
       "flex_flow": null,
       "grid_area": null,
       "grid_auto_columns": null,
       "grid_auto_flow": null,
       "grid_auto_rows": null,
       "grid_column": null,
       "grid_gap": null,
       "grid_row": null,
       "grid_template_areas": null,
       "grid_template_columns": null,
       "grid_template_rows": null,
       "height": null,
       "justify_content": null,
       "justify_items": null,
       "left": null,
       "margin": null,
       "max_height": null,
       "max_width": null,
       "min_height": null,
       "min_width": null,
       "object_fit": null,
       "object_position": null,
       "order": null,
       "overflow": null,
       "padding": null,
       "right": null,
       "top": null,
       "visibility": null,
       "width": null
      }
     },
     "8a365b1c7bff465e94e9d54608faf938": {
      "model_module": "@jupyter-widgets/controls",
      "model_module_version": "2.0.0",
      "model_name": "HTMLStyleModel",
      "state": {
       "_model_module": "@jupyter-widgets/controls",
       "_model_module_version": "2.0.0",
       "_model_name": "HTMLStyleModel",
       "_view_count": null,
       "_view_module": "@jupyter-widgets/base",
       "_view_module_version": "2.0.0",
       "_view_name": "StyleView",
       "background": null,
       "description_width": "",
       "font_size": null,
       "text_color": null
      }
     },
     "a7bad3b4cda64c2d941f35c9bcc7fe35": {
      "model_module": "@jupyter-widgets/controls",
      "model_module_version": "2.0.0",
      "model_name": "FloatProgressModel",
      "state": {
       "_dom_classes": [],
       "_model_module": "@jupyter-widgets/controls",
       "_model_module_version": "2.0.0",
       "_model_name": "FloatProgressModel",
       "_view_count": null,
       "_view_module": "@jupyter-widgets/controls",
       "_view_module_version": "2.0.0",
       "_view_name": "ProgressView",
       "bar_style": "success",
       "description": "",
       "description_allow_html": false,
       "layout": "IPY_MODEL_7e88733f05f84549a164d2fc6c5d8496",
       "max": 24.0,
       "min": 0.0,
       "orientation": "horizontal",
       "style": "IPY_MODEL_18b6f671a8f9401881ec0c18b4c147b8",
       "tabbable": null,
       "tooltip": null,
       "value": 24.0
      }
     },
     "c1fe1317e0cd4017a545f31c4dd9b7a4": {
      "model_module": "@jupyter-widgets/controls",
      "model_module_version": "2.0.0",
      "model_name": "HTMLStyleModel",
      "state": {
       "_model_module": "@jupyter-widgets/controls",
       "_model_module_version": "2.0.0",
       "_model_name": "HTMLStyleModel",
       "_view_count": null,
       "_view_module": "@jupyter-widgets/base",
       "_view_module_version": "2.0.0",
       "_view_name": "StyleView",
       "background": null,
       "description_width": "",
       "font_size": null,
       "text_color": null
      }
     },
     "df6642332099440681a18e537f19ee50": {
      "model_module": "@jupyter-widgets/base",
      "model_module_version": "2.0.0",
      "model_name": "LayoutModel",
      "state": {
       "_model_module": "@jupyter-widgets/base",
       "_model_module_version": "2.0.0",
       "_model_name": "LayoutModel",
       "_view_count": null,
       "_view_module": "@jupyter-widgets/base",
       "_view_module_version": "2.0.0",
       "_view_name": "LayoutView",
       "align_content": null,
       "align_items": null,
       "align_self": null,
       "border_bottom": null,
       "border_left": null,
       "border_right": null,
       "border_top": null,
       "bottom": null,
       "display": null,
       "flex": null,
       "flex_flow": null,
       "grid_area": null,
       "grid_auto_columns": null,
       "grid_auto_flow": null,
       "grid_auto_rows": null,
       "grid_column": null,
       "grid_gap": null,
       "grid_row": null,
       "grid_template_areas": null,
       "grid_template_columns": null,
       "grid_template_rows": null,
       "height": null,
       "justify_content": null,
       "justify_items": null,
       "left": null,
       "margin": null,
       "max_height": null,
       "max_width": null,
       "min_height": null,
       "min_width": null,
       "object_fit": null,
       "object_position": null,
       "order": null,
       "overflow": null,
       "padding": null,
       "right": null,
       "top": null,
       "visibility": null,
       "width": null
      }
     },
     "e192732995344dcab34c2d233e79a770": {
      "model_module": "@jupyter-widgets/base",
      "model_module_version": "2.0.0",
      "model_name": "LayoutModel",
      "state": {
       "_model_module": "@jupyter-widgets/base",
       "_model_module_version": "2.0.0",
       "_model_name": "LayoutModel",
       "_view_count": null,
       "_view_module": "@jupyter-widgets/base",
       "_view_module_version": "2.0.0",
       "_view_name": "LayoutView",
       "align_content": null,
       "align_items": null,
       "align_self": null,
       "border_bottom": null,
       "border_left": null,
       "border_right": null,
       "border_top": null,
       "bottom": null,
       "display": null,
       "flex": null,
       "flex_flow": null,
       "grid_area": null,
       "grid_auto_columns": null,
       "grid_auto_flow": null,
       "grid_auto_rows": null,
       "grid_column": null,
       "grid_gap": null,
       "grid_row": null,
       "grid_template_areas": null,
       "grid_template_columns": null,
       "grid_template_rows": null,
       "height": null,
       "justify_content": null,
       "justify_items": null,
       "left": null,
       "margin": null,
       "max_height": null,
       "max_width": null,
       "min_height": null,
       "min_width": null,
       "object_fit": null,
       "object_position": null,
       "order": null,
       "overflow": null,
       "padding": null,
       "right": null,
       "top": null,
       "visibility": null,
       "width": null
      }
     },
     "e4ca3dfb493f4b699e79c287cfcfeb40": {
      "model_module": "@jupyter-widgets/controls",
      "model_module_version": "2.0.0",
      "model_name": "HTMLModel",
      "state": {
       "_dom_classes": [],
       "_model_module": "@jupyter-widgets/controls",
       "_model_module_version": "2.0.0",
       "_model_name": "HTMLModel",
       "_view_count": null,
       "_view_module": "@jupyter-widgets/controls",
       "_view_module_version": "2.0.0",
       "_view_name": "HTMLView",
       "description": "",
       "description_allow_html": false,
       "layout": "IPY_MODEL_06f5fa5b6f4b440e8736025bdd1885f5",
       "placeholder": "​",
       "style": "IPY_MODEL_c1fe1317e0cd4017a545f31c4dd9b7a4",
       "tabbable": null,
       "tooltip": null,
       "value": " 24/24 [01:37&lt;00:00,  4.93s/it]"
      }
     }
    },
    "version_major": 2,
    "version_minor": 0
   }
  }
 },
 "nbformat": 4,
 "nbformat_minor": 5
}