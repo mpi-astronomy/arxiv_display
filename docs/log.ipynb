{
 "cells": [
  {
   "cell_type": "markdown",
   "id": "92bcb855",
   "metadata": {
    "papermill": {
     "duration": 0.003715,
     "end_time": "2024-08-09T04:09:34.952028",
     "exception": false,
     "start_time": "2024-08-09T04:09:34.948313",
     "status": "completed"
    },
    "tags": []
   },
   "source": [
    "# MPIA Arxiv on Deck 2\n",
    "\n",
    "Contains the steps to produce the paper extractions."
   ]
  },
  {
   "cell_type": "code",
   "execution_count": 1,
   "id": "3a0d6e11",
   "metadata": {
    "execution": {
     "iopub.execute_input": "2024-08-09T04:09:34.959373Z",
     "iopub.status.busy": "2024-08-09T04:09:34.958896Z",
     "iopub.status.idle": "2024-08-09T04:09:35.406567Z",
     "shell.execute_reply": "2024-08-09T04:09:35.405935Z"
    },
    "papermill": {
     "duration": 0.45323,
     "end_time": "2024-08-09T04:09:35.408329",
     "exception": false,
     "start_time": "2024-08-09T04:09:34.955099",
     "status": "completed"
    },
    "tags": []
   },
   "outputs": [],
   "source": [
    "# Imports\n",
    "import os\n",
    "from IPython.display import Markdown, display\n",
    "from tqdm.notebook import tqdm\n",
    "import warnings\n",
    "from PIL import Image \n",
    "\n",
    "# requires arxiv_on_deck_2\n",
    "\n",
    "from arxiv_on_deck_2.arxiv2 import (get_new_papers, \n",
    "                                    get_paper_from_identifier,\n",
    "                                    retrieve_document_source, \n",
    "                                    get_markdown_badge)\n",
    "from arxiv_on_deck_2 import (latex,\n",
    "                             latex_bib,\n",
    "                             mpia,\n",
    "                             highlight_authors_in_list)\n",
    "\n",
    "# Sometimes images are really big\n",
    "Image.MAX_IMAGE_PIXELS = 1000000000 "
   ]
  },
  {
   "cell_type": "code",
   "execution_count": 2,
   "id": "22aa9d44",
   "metadata": {
    "execution": {
     "iopub.execute_input": "2024-08-09T04:09:35.415873Z",
     "iopub.status.busy": "2024-08-09T04:09:35.415394Z",
     "iopub.status.idle": "2024-08-09T04:09:35.420423Z",
     "shell.execute_reply": "2024-08-09T04:09:35.419871Z"
    },
    "papermill": {
     "duration": 0.01016,
     "end_time": "2024-08-09T04:09:35.421750",
     "exception": false,
     "start_time": "2024-08-09T04:09:35.411590",
     "status": "completed"
    },
    "tags": []
   },
   "outputs": [],
   "source": [
    "# Some useful definitions.\n",
    "\n",
    "class AffiliationWarning(UserWarning):\n",
    "    pass\n",
    "\n",
    "class AffiliationError(RuntimeError):\n",
    "    pass\n",
    "\n",
    "def validation(source: str):\n",
    "    \"\"\"Raises error paper during parsing of source file\n",
    "    \n",
    "    Allows checks before parsing TeX code.\n",
    "    \n",
    "    Raises AffiliationWarning\n",
    "    \"\"\"\n",
    "    check = mpia.affiliation_verifications(source, verbose=True)\n",
    "    if check is not True:\n",
    "        raise AffiliationError(\"mpia.affiliation_verifications: \" + check)\n",
    "\n",
    "        \n",
    "warnings.simplefilter('always', AffiliationWarning)\n",
    "\n",
    "\n",
    "def get_markdown_qrcode(paper_id: str):\n",
    "    \"\"\" Generate a qrcode to the arxiv page using qrserver.com\n",
    "    \n",
    "    :param paper: Arxiv paper\n",
    "    :returns: markdown text\n",
    "    \"\"\"\n",
    "    url = r\"https://api.qrserver.com/v1/create-qr-code/?size=100x100&data=\"\n",
    "    txt = f\"\"\"<img src={url}\"https://arxiv.org/abs/{paper_id}\">\"\"\"\n",
    "    txt = '<div id=\"qrcode\">' + txt + '</div>'\n",
    "    return txt"
   ]
  },
  {
   "cell_type": "markdown",
   "id": "14bd6310",
   "metadata": {
    "papermill": {
     "duration": 0.002877,
     "end_time": "2024-08-09T04:09:35.427570",
     "exception": false,
     "start_time": "2024-08-09T04:09:35.424693",
     "status": "completed"
    },
    "tags": []
   },
   "source": [
    "## get list of arxiv paper candidates\n",
    "\n",
    "We use the MPIA mitarbeiter list webpage from mpia.de to get author names\n",
    "We then get all new papers from Arxiv and match authors"
   ]
  },
  {
   "cell_type": "code",
   "execution_count": 3,
   "id": "7ea813a8",
   "metadata": {
    "execution": {
     "iopub.execute_input": "2024-08-09T04:09:35.434543Z",
     "iopub.status.busy": "2024-08-09T04:09:35.434158Z",
     "iopub.status.idle": "2024-08-09T04:09:52.392614Z",
     "shell.execute_reply": "2024-08-09T04:09:52.391975Z"
    },
    "papermill": {
     "duration": 16.963746,
     "end_time": "2024-08-09T04:09:52.394251",
     "exception": false,
     "start_time": "2024-08-09T04:09:35.430505",
     "status": "completed"
    },
    "tags": []
   },
   "outputs": [],
   "source": [
    "# deal with the author list and edge cases of people that cannot be consistent on their name  \n",
    "\n",
    "def filter_non_scientists(name: str) -> bool:\n",
    "    \"\"\" Loose filter on expected authorships\n",
    "\n",
    "    removing IT, administration, technical staff\n",
    "    :param name: name\n",
    "    :returns: False if name is not a scientist\n",
    "    \"\"\"\n",
    "    remove_list = ['Wolf', 'Licht', 'Binroth', 'Witzel', 'Jordan',\n",
    "                   'Zähringer', 'Scheerer', 'Hoffmann', 'Düe',\n",
    "                   'Hellmich', 'Enkler-Scharpegge', 'Witte-Nguy',\n",
    "                   'Dehen', 'Beckmann', 'Jager', 'Jäger'\n",
    "                  ]\n",
    "\n",
    "    for k in remove_list:\n",
    "        if k in name:\n",
    "            return False\n",
    "    return True\n",
    "\n",
    "def add_author_to_list(author_list: list) -> list:\n",
    "    \"\"\" Add author to list if not already in list\n",
    "    \n",
    "    :param author: author name\n",
    "    :param author_list: list of authors\n",
    "    :returns: updated list of authors\n",
    "    \"\"\"\n",
    "    add_list = ['T. Henning']\n",
    "\n",
    "    for author in add_list:\n",
    "        if author not in author_list:\n",
    "            author_list.append(author)\n",
    "    return author_list\n",
    "\n",
    "# get list from MPIA website\n",
    "# filter for non-scientists (mpia.get_mpia_mitarbeiter_list() does some filtering)\n",
    "mpia_authors = [k[1] for k in mpia.get_mpia_mitarbeiter_list() if filter_non_scientists(k[1])]\n",
    "# add some missing author because of inconsistencies in their MPIA name and author name on papers\n",
    "mpia_authors = add_author_to_list(mpia_authors)"
   ]
  },
  {
   "cell_type": "code",
   "execution_count": 4,
   "id": "2645e73a",
   "metadata": {
    "execution": {
     "iopub.execute_input": "2024-08-09T04:09:52.401775Z",
     "iopub.status.busy": "2024-08-09T04:09:52.401350Z",
     "iopub.status.idle": "2024-08-09T04:09:53.039498Z",
     "shell.execute_reply": "2024-08-09T04:09:53.038713Z"
    },
    "papermill": {
     "duration": 0.643408,
     "end_time": "2024-08-09T04:09:53.040903",
     "exception": false,
     "start_time": "2024-08-09T04:09:52.397495",
     "status": "completed"
    },
    "tags": []
   },
   "outputs": [
    {
     "name": "stdout",
     "output_type": "stream",
     "text": [
      "A. d. Graaff  ->  A. D. Graaff  |  ['A. D. Graaff']\n",
      "D. Mortimer  ->  D. Mortimer  |  ['D. Mortimer']\n",
      "B. Setterholm  ->  B. Setterholm  |  ['B. Setterholm']\n",
      "F. Walter  ->  F. Walter  |  ['F. Walter']\n",
      "A. Kospal  ->  A. Kospal  |  ['A. Kospal']\n",
      "T. Henning  ->  T. Henning  |  ['T. Henning']\n",
      "T. Trifonov  ->  T. Trifonov  |  ['T. Trifonov']\n",
      "Arxiv has 51 new papers today\n",
      "          5 with possible author matches\n"
     ]
    }
   ],
   "source": [
    "new_papers = get_new_papers()\n",
    "# add manual references\n",
    "add_paper_refs = []\n",
    "new_papers.extend([get_paper_from_identifier(k) for k in add_paper_refs])\n",
    "\n",
    "candidates = []\n",
    "for paperk in new_papers:\n",
    "    # Check author list with their initials\n",
    "    normed_author_list = [mpia.get_initials(k) for k in paperk['authors']]\n",
    "    hl_authors = highlight_authors_in_list(normed_author_list, mpia_authors, verbose=True)\n",
    "    matches = [(hl, orig) for hl, orig in zip(hl_authors, paperk['authors']) if 'mark' in hl]\n",
    "    paperk['authors'] = hl_authors\n",
    "    if matches:\n",
    "        # only select paper if an author matched our list\n",
    "        candidates.append(paperk)\n",
    "print(\"\"\"Arxiv has {0:,d} new papers today\"\"\".format(len(new_papers)))        \n",
    "print(\"\"\"          {0:,d} with possible author matches\"\"\".format(len(candidates)))"
   ]
  },
  {
   "cell_type": "markdown",
   "id": "3543b34a",
   "metadata": {
    "papermill": {
     "duration": 0.003097,
     "end_time": "2024-08-09T04:09:53.048415",
     "exception": false,
     "start_time": "2024-08-09T04:09:53.045318",
     "status": "completed"
    },
    "tags": []
   },
   "source": [
    "# Parse sources and generate relevant outputs\n",
    "\n",
    "From the candidates, we do the following steps:\n",
    "* get their tarball from ArXiv (and extract data)\n",
    "* find the main .tex file: find one with \\documentclass{...} (sometimes it's non trivial)\n",
    "* Check affiliations with :func:`validation`, which uses :func:`mpia.affiliation_verifications`\n",
    "* If passing the affiliations: we parse the .tex source\n",
    "   * inject sub-documents into the main (flatten the main document)\n",
    "   * parse structure, extract information (title, abstract, authors, figures...)\n",
    "   * handles `\\graphicspath` if provided\n",
    "* Generate the .md document."
   ]
  },
  {
   "cell_type": "code",
   "execution_count": 5,
   "id": "9576b79e",
   "metadata": {
    "execution": {
     "iopub.execute_input": "2024-08-09T04:09:53.055653Z",
     "iopub.status.busy": "2024-08-09T04:09:53.055235Z",
     "iopub.status.idle": "2024-08-09T04:10:52.165399Z",
     "shell.execute_reply": "2024-08-09T04:10:52.164603Z"
    },
    "papermill": {
     "duration": 59.115855,
     "end_time": "2024-08-09T04:10:52.167257",
     "exception": false,
     "start_time": "2024-08-09T04:09:53.051402",
     "status": "completed"
    },
    "scrolled": false,
    "tags": []
   },
   "outputs": [
    {
     "data": {
      "application/vnd.jupyter.widget-view+json": {
       "model_id": "73d7d47cdf5b45d498bce2d1b8c75010",
       "version_major": 2,
       "version_minor": 0
      },
      "text/plain": [
       "  0%|          | 0/5 [00:00<?, ?it/s]"
      ]
     },
     "metadata": {},
     "output_type": "display_data"
    },
    {
     "name": "stdout",
     "output_type": "stream",
     "text": [
      "Retrieving document from  https://arxiv.org/e-print/2408.03982\n"
     ]
    },
    {
     "name": "stdout",
     "output_type": "stream",
     "text": [
      "extracting tarball to tmp_2408.03982..."
     ]
    },
    {
     "name": "stdout",
     "output_type": "stream",
     "text": [
      " done.\n",
      "Retrieving document from  https://arxiv.org/e-print/2408.04038\n"
     ]
    },
    {
     "name": "stderr",
     "output_type": "stream",
     "text": [
      "/opt/hostedtoolcache/Python/3.9.19/x64/lib/python3.9/site-packages/IPython/core/interactiveshell.py:3550: LatexWarning: Multiple tex files.\n",
      "\n",
      "  exec(code_obj, self.user_global_ns, self.user_ns)\n",
      "/tmp/ipykernel_2690/1211882699.py:51: LatexWarning: 2408.03982 did not run properly\n",
      "'PosixPath' object is not subscriptable\n",
      "  warnings.warn(latex.LatexWarning(f\"{paper_id:s} did not run properly\\n\" +\n"
     ]
    },
    {
     "name": "stdout",
     "output_type": "stream",
     "text": [
      "extracting tarball to tmp_2408.04038..."
     ]
    },
    {
     "name": "stdout",
     "output_type": "stream",
     "text": [
      " done.\n"
     ]
    },
    {
     "name": "stdout",
     "output_type": "stream",
     "text": [
      "D. Mortimer  ->  D. Mortimer  |  ['D. Mortimer']\n",
      "B. Setterholm  ->  B. Setterholm  |  ['B. Setterholm']\n"
     ]
    },
    {
     "name": "stdout",
     "output_type": "stream",
     "text": [
      "Found 18 bibliographic references in tmp_2408.04038/main.bbl.\n",
      "Error retrieving bib data for mystic: 'mystic'\n",
      "Error retrieving bib data for spicaft: 'spicaft'\n",
      "Retrieving document from  https://arxiv.org/e-print/2408.04135\n"
     ]
    },
    {
     "name": "stderr",
     "output_type": "stream",
     "text": [
      "/opt/hostedtoolcache/Python/3.9.19/x64/lib/python3.9/site-packages/arxiv_on_deck_2/latex_bib.py:132: UserWarning: Error processing bibitem\n",
      " item = \\bibitem{chara1}{ten Brummelaar}, T.~A., {McAlister}, H.~A., {Ridgway}, S.~T., {Bagnuolo}, W.~G., J., {Turner}, N.~H., {Sturmann}, L., {Sturmann}, J., {Berger}, D.~H., {Ogden}, C.~E., {Cadman}, R., {Hartkopf}, W.~I., {Hopper}, C.~H., and {Shure}, M.~A., ``{First Results from the CHARA Array. II. A Description of the Instrument},'' {\\em \\apj}~{\\bf 628},  453--465 (July 2005).\n",
      " regex = \n",
      "        \\\\bibitem(\\[[^\\[\\]]*?\\]){(?P<bibkey>[a-zA-Z0-9\\-\\+\\.\\S]+?)}(?P<authors>|([\\D]*?))(?P<year>[12][0-9]{3})(?P<rest>.*)\n",
      "        \n",
      "  warnings.warn(str(e))\n",
      "/opt/hostedtoolcache/Python/3.9.19/x64/lib/python3.9/site-packages/arxiv_on_deck_2/latex_bib.py:132: UserWarning: Error processing bibitem\n",
      " item = \\bibitem{chara2}{Gies}, D.~R., {Anderson}, M.~D., {Anugu}, N., {ten Brummelaar}, T.~A., {Castillo}, V., {Farrington}, C.~D., {Golden}, S., {Jones}, J.~W., {Klement}, R., {K{ö}hler}, R., {Lanthermann}, C., {Ligon}, E.~R., {Majoinen}, O., {McAlister}, H.~A., {Ridgway}, S.~T., {Schaefer}, G.~H., {Scott}, N.~J., {Turner}, N.~H., {Vargas}, N.~L., {Webster}, L., and {Woods}, C., ``{Recent technical and scientific highlights from the CHARA Array},'' in [{\\em Optical and Infrared Interferometry and Imaging VIII}{\\nolinebreak\\hspace{0.1em}]},  {M{é}rand}, A., {Sallum}, S., and {Sanchez-Bermudez}, J., eds., {\\em Society of Photo-Optical Instrumentation Engineers (SPIE) Conference Series} {\\bf 12183},  1218303 (Aug. 2022).\n",
      " regex = \n",
      "        \\\\bibitem(\\[[^\\[\\]]*?\\]){(?P<bibkey>[a-zA-Z0-9\\-\\+\\.\\S]+?)}(?P<authors>|([\\D]*?))(?P<year>[12][0-9]{3})(?P<rest>.*)\n",
      "        \n",
      "  warnings.warn(str(e))\n",
      "/opt/hostedtoolcache/Python/3.9.19/x64/lib/python3.9/site-packages/arxiv_on_deck_2/latex_bib.py:132: UserWarning: Error processing bibitem\n",
      " item = \\bibitem{mirc1}{Monnier}, J.~D., {Berger}, J.-P., {Millan-Gabet}, R., and {ten Brummelaar}, T.~A., ``{The Michigan Infrared Combiner (MIRC): IR imaging with the CHARA Array},'' in [{\\em New Frontiers in Stellar Interferometry}{\\nolinebreak\\hspace{0.1em}]},  {Traub}, W.~A., ed., {\\em Society of Photo-Optical Instrumentation Engineers (SPIE) Conference Series} {\\bf 5491},  1370 (Oct. 2004).\n",
      " regex = \n",
      "        \\\\bibitem(\\[[^\\[\\]]*?\\]){(?P<bibkey>[a-zA-Z0-9\\-\\+\\.\\S]+?)}(?P<authors>|([\\D]*?))(?P<year>[12][0-9]{3})(?P<rest>.*)\n",
      "        \n",
      "  warnings.warn(str(e))\n",
      "/opt/hostedtoolcache/Python/3.9.19/x64/lib/python3.9/site-packages/arxiv_on_deck_2/latex_bib.py:132: UserWarning: Error processing bibitem\n",
      " item = \\bibitem{mirc2}{Monnier}, J.~D., {Pedretti}, E., {Thureau}, N., {Berger}, J.-P., {Millan-Gabet}, R., {ten Brummelaar}, T., {McAlister}, H., {Sturmann}, J., {Sturmann}, L., {Muirhead}, P., {Tannirkulam}, A., {Webster}, S., and {Zhao}, M., ``{Michigan Infrared Combiner (MIRC): commissioning results at the CHARA Array},'' in [{\\em Advances in Stellar Interferometry}{\\nolinebreak\\hspace{0.1em}]},  {Monnier}, J.~D., {Sch{ö}ller}, M., and {Danchi}, W.~C., eds., {\\em Society of Photo-Optical Instrumentation Engineers (SPIE) Conference Series} {\\bf 6268},  62681P (June 2006).\n",
      " regex = \n",
      "        \\\\bibitem(\\[[^\\[\\]]*?\\]){(?P<bibkey>[a-zA-Z0-9\\-\\+\\.\\S]+?)}(?P<authors>|([\\D]*?))(?P<year>[12][0-9]{3})(?P<rest>.*)\n",
      "        \n",
      "  warnings.warn(str(e))\n",
      "/opt/hostedtoolcache/Python/3.9.19/x64/lib/python3.9/site-packages/arxiv_on_deck_2/latex_bib.py:132: UserWarning: Error processing bibitem\n",
      " item = \\bibitem{spots}{Roettenbacher}, R.~M., {Monnier}, J.~D., {Korhonen}, H., {Aarnio}, A.~N., {Baron}, F., {Che}, X., {Harmon}, R.~O., {K{\\H{o}}v{á}ri}, Z., {Kraus}, S., {Schaefer}, G.~H., {Torres}, G., {Zhao}, M., {Ten Brummelaar}, T.~A., {Sturmann}, J., and {Sturmann}, L., ``{No Sun-like dynamo on the active star $\\zeta$ Andromedae from starspot asymmetry},'' {\\em \\nat}~{\\bf 533},  217--220 (May 2016).\n",
      " regex = \n",
      "        \\\\bibitem(\\[[^\\[\\]]*?\\]){(?P<bibkey>[a-zA-Z0-9\\-\\+\\.\\S]+?)}(?P<authors>|([\\D]*?))(?P<year>[12][0-9]{3})(?P<rest>.*)\n",
      "        \n",
      "  warnings.warn(str(e))\n",
      "/opt/hostedtoolcache/Python/3.9.19/x64/lib/python3.9/site-packages/arxiv_on_deck_2/latex_bib.py:132: UserWarning: Error processing bibitem\n",
      " item = \\bibitem{binary}{Kloppenborg}, B., {Stencel}, R., {Monnier}, J.~D., {Schaefer}, G., {Zhao}, M., {Baron}, F., {McAlister}, H., {ten Brummelaar}, T., {Che}, X., {Farrington}, C., {Pedretti}, E., {Sallave-Goldfinger}, P.~J., {Sturmann}, J., {Sturmann}, L., {Thureau}, N., {Turner}, N., and {Carroll}, S.~M., ``{Infrared images of the transiting disk in the $\\epsilon$ Aurigae system},'' {\\em \\nat}~{\\bf 464},  870--872 (Apr. 2010).\n",
      " regex = \n",
      "        \\\\bibitem(\\[[^\\[\\]]*?\\]){(?P<bibkey>[a-zA-Z0-9\\-\\+\\.\\S]+?)}(?P<authors>|([\\D]*?))(?P<year>[12][0-9]{3})(?P<rest>.*)\n",
      "        \n",
      "  warnings.warn(str(e))\n",
      "/opt/hostedtoolcache/Python/3.9.19/x64/lib/python3.9/site-packages/arxiv_on_deck_2/latex_bib.py:132: UserWarning: Error processing bibitem\n",
      " item = \\bibitem{nova}{Schaefer}, G.~H., {Brummelaar}, T.~T., {Gies}, D.~R., {Farrington}, C.~D., {Kloppenborg}, B., {Chesneau}, O., {Monnier}, J.~D., {Ridgway}, S.~T., {Scott}, N., {Tallon-Bosc}, I., {McAlister}, H.~A., {Boyajian}, T., {Maestro}, V., {Mourard}, D., {Meilland}, A., {Nardetto}, N., {Stee}, P., {Sturmann}, J., {Vargas}, N., {Baron}, F., {Ireland}, M., {Baines}, E.~K., {Che}, X., {Jones}, J., {Richardson}, N.~D., {Roettenbacher}, R.~M., {Sturmann}, L., {Turner}, N.~H., {Tuthill}, P., {van Belle}, G., {von Braun}, K., {Zavala}, R.~T., {Banerjee}, D.~P.~K., {Ashok}, N.~M., {Joshi}, V., {Becker}, J., and {Muirhead}, P.~S., ``{The expanding fireball of Nova Delphini 2013},'' {\\em \\nat}~{\\bf 515},  234--236 (Nov. 2014).\n",
      " regex = \n",
      "        \\\\bibitem(\\[[^\\[\\]]*?\\]){(?P<bibkey>[a-zA-Z0-9\\-\\+\\.\\S]+?)}(?P<authors>|([\\D]*?))(?P<year>[12][0-9]{3})(?P<rest>.*)\n",
      "        \n",
      "  warnings.warn(str(e))\n",
      "/opt/hostedtoolcache/Python/3.9.19/x64/lib/python3.9/site-packages/arxiv_on_deck_2/latex_bib.py:132: UserWarning: Error processing bibitem\n",
      " item = \\bibitem{cred}{Gach}, J.~L., {Feautrier}, P., {Stadler}, E., {Greffe}, T., {Clop}, F., {Lemarchand}, S., {Carmignani}, T., {Boutolleau}, D., and {Baker}, I., ``{C-RED one: ultra-high speed wavefront sensing in the infrared made possible},'' in [{\\em Adaptive Optics Systems V}{\\nolinebreak\\hspace{0.1em}]},  {Marchetti}, E., {Close}, L.~M., and {V{é}ran}, J.-P., eds., {\\em Society of Photo-Optical Instrumentation Engineers (SPIE) Conference Series} {\\bf 9909},  990913 (July 2016).\n",
      " regex = \n",
      "        \\\\bibitem(\\[[^\\[\\]]*?\\]){(?P<bibkey>[a-zA-Z0-9\\-\\+\\.\\S]+?)}(?P<authors>|([\\D]*?))(?P<year>[12][0-9]{3})(?P<rest>.*)\n",
      "        \n",
      "  warnings.warn(str(e))\n",
      "/opt/hostedtoolcache/Python/3.9.19/x64/lib/python3.9/site-packages/arxiv_on_deck_2/latex_bib.py:132: UserWarning: Error processing bibitem\n",
      " item = \\bibitem{cred2}{Finger}, G., {Baker}, I., {Alvarez}, D., {Ives}, D., {Mehrgan}, L., {Meyer}, M., {Stegmeier}, J., and {Weller}, H.~J., ``{SAPHIRA detector for infrared wavefront sensing},'' in [{\\em Adaptive Optics Systems IV}{\\nolinebreak\\hspace{0.1em}]},  {Marchetti}, E., {Close}, L.~M., and {Vran}, J.-P., eds., {\\em Society of Photo-Optical Instrumentation Engineers (SPIE) Conference Series} {\\bf 9148},  914817 (Aug. 2014).\n",
      " regex = \n",
      "        \\\\bibitem(\\[[^\\[\\]]*?\\]){(?P<bibkey>[a-zA-Z0-9\\-\\+\\.\\S]+?)}(?P<authors>|([\\D]*?))(?P<year>[12][0-9]{3})(?P<rest>.*)\n",
      "        \n",
      "  warnings.warn(str(e))\n",
      "/opt/hostedtoolcache/Python/3.9.19/x64/lib/python3.9/site-packages/arxiv_on_deck_2/latex_bib.py:132: UserWarning: Error processing bibitem\n",
      " item = \\bibitem{mircx1}{Anugu}, N., {Le Bouquin}, J.-B., {Monnier}, J.~D., {Kraus}, S., {Setterholm}, B.~R., {Labdon}, A., {Davies}, C.~L., {Lanthermann}, C., {Gardner}, T., {Ennis}, J., {Johnson}, K. J.~C., {Ten Brummelaar}, T., {Schaefer}, G., and {Sturmann}, J., ``{MIRC-X: A Highly Sensitive Six-telescope Interferometric Imager at the CHARA Array},'' {\\em \\aj}~{\\bf 160},  158 (Oct. 2020).\n",
      " regex = \n",
      "        \\\\bibitem(\\[[^\\[\\]]*?\\]){(?P<bibkey>[a-zA-Z0-9\\-\\+\\.\\S]+?)}(?P<authors>|([\\D]*?))(?P<year>[12][0-9]{3})(?P<rest>.*)\n",
      "        \n",
      "  warnings.warn(str(e))\n",
      "/opt/hostedtoolcache/Python/3.9.19/x64/lib/python3.9/site-packages/arxiv_on_deck_2/latex_bib.py:132: UserWarning: Error processing bibitem\n",
      " item = \\bibitem{mircx2}{Anugu}, N., {Le Bouquin}, J.-B., {Monnier}, J.~D., {Kraus}, S., {Ennis}, J., {Lanthermann}, C., {Setterholm}, B.~R., {Davies}, C.~L., {ten Brummelaar}, T., {Haidar}, M., {Dubravec}, V., and {Peters}, S., ``{MIRC-X/CHARA: sensitivity improvements with an ultra-low noise SAPHIRA detector},'' in [{\\em Optical and Infrared Interferometry and Imaging VI}{\\nolinebreak\\hspace{0.1em}]},  {Creech-Eakman}, M.~J., {Tuthill}, P.~G., and {M{é}rand}, A., eds., {\\em Society of Photo-Optical Instrumentation Engineers (SPIE) Conference Series} {\\bf 10701},  1070124 (July 2018).\n",
      " regex = \n",
      "        \\\\bibitem(\\[[^\\[\\]]*?\\]){(?P<bibkey>[a-zA-Z0-9\\-\\+\\.\\S]+?)}(?P<authors>|([\\D]*?))(?P<year>[12][0-9]{3})(?P<rest>.*)\n",
      "        \n",
      "  warnings.warn(str(e))\n",
      "/opt/hostedtoolcache/Python/3.9.19/x64/lib/python3.9/site-packages/arxiv_on_deck_2/latex_bib.py:132: UserWarning: Error processing bibitem\n",
      " item = \\bibitem{yso1}{Ibrahim}, N., {Monnier}, J.~D., {Kraus}, S., {Le Bouquin}, J.-B., {Anugu}, N., {Baron}, F., {Brummelaar}, T.~T., {Davies}, C.~L., {Ennis}, J., {Gardner}, T., {Labdon}, A., {Lanthermann}, C., {M{é}rand}, A., {Rich}, E., {Schaefer}, G.~H., and {Setterholm}, B.~R., ``{Imaging the Inner Astronomical Unit of the Herbig Be Star HD 190073},'' {\\em \\apj}~{\\bf 947},  68 (Apr. 2023).\n",
      " regex = \n",
      "        \\\\bibitem(\\[[^\\[\\]]*?\\]){(?P<bibkey>[a-zA-Z0-9\\-\\+\\.\\S]+?)}(?P<authors>|([\\D]*?))(?P<year>[12][0-9]{3})(?P<rest>.*)\n",
      "        \n",
      "  warnings.warn(str(e))\n",
      "/opt/hostedtoolcache/Python/3.9.19/x64/lib/python3.9/site-packages/arxiv_on_deck_2/latex_bib.py:132: UserWarning: Error processing bibitem\n",
      " item = \\bibitem{yso2}{Kraus}, S., {Kreplin}, A., {Young}, A.~K., {Bate}, M.~R., {Monnier}, J.~D., {Harries}, T.~J., {Avenhaus}, H., {Kluska}, J., {Laws}, A. S.~E., {Rich}, E.~A., {Willson}, M., {Aarnio}, A.~N., {Adams}, F.~C., {Andrews}, S.~M., {Anugu}, N., {Bae}, J., {ten Brummelaar}, T., {Calvet}, N., {Cur{é}}, M., {Davies}, C.~L., {Ennis}, J., {Espaillat}, C., {Gardner}, T., {Hartmann}, L., {Hinkley}, S., {Labdon}, A., {Lanthermann}, C., {LeBouquin}, J.-B., {Schaefer}, G.~H., {Setterholm}, B.~R., {Wilner}, D., and {Zhu}, Z., ``{A triple-star system with a misaligned and warped circumstellar disk shaped by disk tearing},'' {\\em Science}~{\\bf 369},  1233--1238 (Sept. 2020).\n",
      " regex = \n",
      "        \\\\bibitem(\\[[^\\[\\]]*?\\]){(?P<bibkey>[a-zA-Z0-9\\-\\+\\.\\S]+?)}(?P<authors>|([\\D]*?))(?P<year>[12][0-9]{3})(?P<rest>.*)\n",
      "        \n",
      "  warnings.warn(str(e))\n",
      "/opt/hostedtoolcache/Python/3.9.19/x64/lib/python3.9/site-packages/arxiv_on_deck_2/latex_bib.py:132: UserWarning: Error processing bibitem\n",
      " item = \\bibitem{yso3}{Labdon}, A., {Kraus}, S., {Davies}, C.~L., {Kreplin}, A., {Zarrilli}, S., {Monnier}, J.~D., {Le Bouquin}, J.-B., {Anugu}, N., {Setterholm}, B., {Gardner}, T., {Ennis}, J., {Lanthermann}, C., {ten Brummelaar}, T., {Schaefer}, G., and {Harries}, T.~J., ``{Imaging the warped dusty disk wind environment of SU Aurigae with MIRC-X},'' {\\em \\aap}~{\\bf 678},  A6 (Oct. 2023).\n",
      " regex = \n",
      "        \\\\bibitem(\\[[^\\[\\]]*?\\]){(?P<bibkey>[a-zA-Z0-9\\-\\+\\.\\S]+?)}(?P<authors>|([\\D]*?))(?P<year>[12][0-9]{3})(?P<rest>.*)\n",
      "        \n",
      "  warnings.warn(str(e))\n",
      "/opt/hostedtoolcache/Python/3.9.19/x64/lib/python3.9/site-packages/arxiv_on_deck_2/latex_bib.py:132: UserWarning: Error processing bibitem\n",
      " item = \\bibitem{mystic}{Setterholm}, B.~R., {Monnier}, J.~D., {Le Bouquin}, J.-B., {Anugu}, N., {Ennis}, J., {Jocou}, L., {Ibrahim}, N., {Kraus}, S., {Anderson}, M.~D., {Chhabra}, S., {Codron}, I., {Farrington}, C.~D., {Flores}, B., {Gardner}, T., {Gutierrez}, M., {Lanthermann}, C., {Majoinen}, O.~W., {Mortimer}, D.~J., {Schaefer}, G., {Scott}, N.~J., {ten Brummelaar}, T., and {Vargas}, N.~L., ``{MYSTIC: a high angular resolution K-band imager at CHARA},'' {\\em Journal of Astronomical Telescopes, Instruments, and Systems}~{\\bf 9},  025006 (Apr. 2023).\n",
      " regex = \n",
      "        \\\\bibitem(\\[[^\\[\\]]*?\\]){(?P<bibkey>[a-zA-Z0-9\\-\\+\\.\\S]+?)}(?P<authors>|([\\D]*?))(?P<year>[12][0-9]{3})(?P<rest>.*)\n",
      "        \n",
      "  warnings.warn(str(e))\n",
      "/opt/hostedtoolcache/Python/3.9.19/x64/lib/python3.9/site-packages/arxiv_on_deck_2/latex_bib.py:132: UserWarning: Error processing bibitem\n",
      " item = \\bibitem{spicaft}{Pannetier}, C., {B{é}rio}, P., {Mourard}, D., {Rousseau}, S., {Allouche}, F., {Dejonghe}, J., {Bailet}, C., {Lecron}, D., {Cassaing}, F., {Le Bouquin}, J.-B., {Perraut}, K., {Monnier}, J., {Anugu}, N., and {ten Brummelaar}, T., ``{SPICA-FT: the new fringe tracker of the CHARA array},'' in [{\\em Optical and Infrared Interferometry and Imaging VIII}{\\nolinebreak\\hspace{0.1em}]},  {M{é}rand}, A., {Sallum}, S., and {Sanchez-Bermudez}, J., eds., {\\em Society of Photo-Optical Instrumentation Engineers (SPIE) Conference Series} {\\bf 12183},  1218309 (Aug. 2022).\n",
      " regex = \n",
      "        \\\\bibitem(\\[[^\\[\\]]*?\\]){(?P<bibkey>[a-zA-Z0-9\\-\\+\\.\\S]+?)}(?P<authors>|([\\D]*?))(?P<year>[12][0-9]{3})(?P<rest>.*)\n",
      "        \n",
      "  warnings.warn(str(e))\n",
      "/opt/hostedtoolcache/Python/3.9.19/x64/lib/python3.9/site-packages/arxiv_on_deck_2/latex_bib.py:132: UserWarning: Error processing bibitem\n",
      " item = \\bibitem{aaron}Labdon, A. Private communication.\n",
      " regex = \n",
      "        \\\\bibitem(\\[[^\\[\\]]*?\\]){(?P<bibkey>[a-zA-Z0-9\\-\\+\\.\\S]+?)}(?P<authors>|([\\D]*?))(?P<year>[12][0-9]{3})(?P<rest>.*)\n",
      "        \n",
      "  warnings.warn(str(e))\n",
      "/opt/hostedtoolcache/Python/3.9.19/x64/lib/python3.9/site-packages/arxiv_on_deck_2/latex_bib.py:132: UserWarning: Error processing bibitem\n",
      " item = \\bibitem{pol}{Setterholm}, B.~R., {Monnier}, J.~D., {Le Bouquin}, J.-B., {Anugu}, N., {Labdon}, A., {Ennis}, J., {Johnson}, K. J.~C., {Kraus}, S., and {ten Brummelaar}, T., ``{MIRC-X polarinterferometry at CHARA},'' in [{\\em Optical and Infrared Interferometry and Imaging VII}{\\nolinebreak\\hspace{0.1em}]},  {Tuthill}, P.~G., {M{é}rand}, A., and {Sallum}, S., eds., {\\em Society of Photo-Optical Instrumentation Engineers (SPIE) Conference Series} {\\bf 11446},  114460R (Dec. 2020).\\end{thebibliography}\n",
      " regex = \n",
      "        \\\\bibitem(\\[[^\\[\\]]*?\\]){(?P<bibkey>[a-zA-Z0-9\\-\\+\\.\\S]+?)}(?P<authors>|([\\D]*?))(?P<year>[12][0-9]{3})(?P<rest>.*)\n",
      "        \n",
      "  warnings.warn(str(e))\n"
     ]
    },
    {
     "name": "stdout",
     "output_type": "stream",
     "text": [
      "extracting tarball to tmp_2408.04135..."
     ]
    },
    {
     "name": "stdout",
     "output_type": "stream",
     "text": [
      " done.\n"
     ]
    },
    {
     "name": "stdout",
     "output_type": "stream",
     "text": [
      "F. Walter  ->  F. Walter  |  ['F. Walter']\n"
     ]
    },
    {
     "name": "stdout",
     "output_type": "stream",
     "text": [
      "list index out of range\n",
      "Retrieving document from  https://arxiv.org/e-print/2408.04465\n"
     ]
    },
    {
     "name": "stdout",
     "output_type": "stream",
     "text": [
      "extracting tarball to tmp_2408.04465..."
     ]
    },
    {
     "name": "stdout",
     "output_type": "stream",
     "text": [
      " done.\n",
      "Retrieving document from  https://arxiv.org/e-print/2408.04475\n"
     ]
    },
    {
     "name": "stderr",
     "output_type": "stream",
     "text": [
      "/opt/hostedtoolcache/Python/3.9.19/x64/lib/python3.9/site-packages/IPython/core/interactiveshell.py:3550: LatexWarning: Multiple tex files.\n",
      "\n",
      "  exec(code_obj, self.user_global_ns, self.user_ns)\n",
      "/tmp/ipykernel_2690/1211882699.py:51: LatexWarning: 2408.04465 did not run properly\n",
      "'PosixPath' object is not subscriptable\n",
      "  warnings.warn(latex.LatexWarning(f\"{paper_id:s} did not run properly\\n\" +\n"
     ]
    },
    {
     "name": "stdout",
     "output_type": "stream",
     "text": [
      "extracting tarball to tmp_2408.04475..."
     ]
    },
    {
     "name": "stdout",
     "output_type": "stream",
     "text": [
      " done.\n"
     ]
    },
    {
     "name": "stdout",
     "output_type": "stream",
     "text": [
      "Found 134 bibliographic references in tmp_2408.04475/main.bbl.\n",
      "Error retrieving bib data for marley21: 'author'\n",
      "Error retrieving bib data for grieves21: 'author'\n"
     ]
    }
   ],
   "source": [
    "documents = []\n",
    "failed = []\n",
    "for paper in tqdm(candidates):\n",
    "    # debug crap\n",
    "    paper['identifier'] = paper['identifier'].lower().replace('arxiv:', '').replace(r'\\n', '').strip()\n",
    "    paper_id = paper['identifier']\n",
    "    \n",
    "    folder = f'tmp_{paper_id}'\n",
    "\n",
    "    try:\n",
    "        if not os.path.isdir(folder):\n",
    "            folder = retrieve_document_source(f\"{paper_id}\", f'tmp_{paper_id}')\n",
    "        \n",
    "        try:\n",
    "            doc = latex.LatexDocument(folder, validation=validation)    \n",
    "        except AffiliationError as affilerror:\n",
    "            msg = f\"ArXiv:{paper_id:s} is not an MPIA paper... \" + str(affilerror)\n",
    "            failed.append((paper, \"affiliation error: \" + str(affilerror) ))\n",
    "            continue\n",
    "        \n",
    "        # Hack because sometimes author parsing does not work well\n",
    "        if (len(doc.authors) != len(paper['authors'])):\n",
    "            doc._authors = paper['authors']\n",
    "        else:\n",
    "            # highlight authors (FIXME: doc.highlight_authors)\n",
    "            # done on arxiv paper already\n",
    "            doc._authors = highlight_authors_in_list(\n",
    "                [mpia.get_initials(k) for k in doc.authors], \n",
    "                mpia_authors, verbose=True)\n",
    "        if (doc.abstract) in (None, ''):\n",
    "            doc._abstract = paper['abstract']\n",
    "            \n",
    "        doc.comment = (get_markdown_badge(paper_id) + \n",
    "                       \"<mark>Appeared on: \" + paper['date'] + \"</mark> - \")\n",
    "        if paper['comments']:\n",
    "            doc.comment += \" _\" + paper['comments'] + \"_\"\n",
    "        \n",
    "        full_md = doc.generate_markdown_text()\n",
    "        \n",
    "        full_md += get_markdown_qrcode(paper_id)\n",
    "        \n",
    "        # replace citations\n",
    "        try:\n",
    "            bibdata = latex_bib.LatexBib.from_doc(doc)\n",
    "            full_md = latex_bib.replace_citations(full_md, bibdata)\n",
    "        except Exception as e:\n",
    "            print(e)\n",
    "        \n",
    "        documents.append((paper_id, full_md))\n",
    "    except Exception as e:\n",
    "        warnings.warn(latex.LatexWarning(f\"{paper_id:s} did not run properly\\n\" +\n",
    "                                         str(e)\n",
    "                                        ))\n",
    "        failed.append((paper, \"latex error \" + str(e)))"
   ]
  },
  {
   "cell_type": "markdown",
   "id": "2505a25c",
   "metadata": {
    "papermill": {
     "duration": 0.004119,
     "end_time": "2024-08-09T04:10:52.175886",
     "exception": false,
     "start_time": "2024-08-09T04:10:52.171767",
     "status": "completed"
    },
    "tags": []
   },
   "source": [
    "### Export the logs\n",
    "\n",
    "Throughout, we also keep track of the logs per paper. see `logs-{today date}.md` "
   ]
  },
  {
   "cell_type": "code",
   "execution_count": 6,
   "id": "d733828a",
   "metadata": {
    "execution": {
     "iopub.execute_input": "2024-08-09T04:10:52.185582Z",
     "iopub.status.busy": "2024-08-09T04:10:52.185116Z",
     "iopub.status.idle": "2024-08-09T04:10:52.200943Z",
     "shell.execute_reply": "2024-08-09T04:10:52.200420Z"
    },
    "papermill": {
     "duration": 0.022224,
     "end_time": "2024-08-09T04:10:52.202276",
     "exception": false,
     "start_time": "2024-08-09T04:10:52.180052",
     "status": "completed"
    },
    "scrolled": false,
    "tags": []
   },
   "outputs": [
    {
     "data": {
      "text/markdown": [
       "## Successful papers"
      ],
      "text/plain": [
       "<IPython.core.display.Markdown object>"
      ]
     },
     "metadata": {},
     "output_type": "display_data"
    },
    {
     "data": {
      "text/markdown": [
       "\n",
       "|||\n",
       "|---:|:---|\n",
       "| [![arXiv](https://img.shields.io/badge/arXiv-2408.04038-b31b1b.svg)](https://arxiv.org/abs/2408.04038) | **Recent and Upcoming Upgrades for MIRC-X and MYSTIC on the CHARA Array**  |\n",
       "|| N. Ibrahim, et al. -- incl., <mark>D. Mortimer</mark>, <mark>B. Setterholm</mark> |\n",
       "|*Appeared on*| *2024-08-09*|\n",
       "|*Comments*| *11 pages, 9 figures, Submitted to SPIE in Yokohama 2024*|\n",
       "|**Abstract**|            MIRC-X and MYSTIC are six-telescope near-infrared beam (1.08-2.38 ${\\mu}$m) combiners at the CHARA Array on Mt Wilson CA, USA. Ever since the commissioning of MIRC-X (J and H bands) in 2018 and MYSTIC (K bands) in 2021, they have been the most popular and over-subscribed instruments at the array. Observers have been able to image stellar objects with sensitivity down to 8.1 mag in H and 7.8 mag in K-band under the very best conditions. In 2022 MYSTIC was upgraded with a new ABCD mode using the VLTI/GRAVITY 4-beam integrated optics chip, with the goal of improving the sensitivity and calibration. The ABCD mode has been used to observe more than 20 T Tauri stars; however, the data pipeline is still being developed. Alongside software upgrades, we detail planned upgrades to both instruments in this paper. The main upgrades are: 1) Adding a motorized filter wheel to MIRC-X along with new high spectral resolution modes 2) Updating MIRC-X optics to allow for simultaneous 6T J+H observations 3) Removing the warm window between the spectrograph and the warm optics in MYSTIC 4) Adding a 6T ABCD mode to MIRC-X in collaboration with CHARA/SPICA 5) Updating the MIRC-X CRED-ONE camera funded by Prof. Kraus from U. Exeter 6) Carrying out science verification of the MIRC-X polarization mode 7) Developing new software for ABCD-mode data reduction and more efficient calibration routines. We expect these upgrades to not only improve the observing experience, but also increase the sensitivity by 0.4 mag in J+H-bands, and 1 mag in K-band.         |"
      ],
      "text/plain": [
       "[2408.04038] Recent and Upcoming Upgrades for MIRC-X and MYSTIC on the CHARA Array\n",
       "\tN. Ibrahim, et al. -- incl., <mark>D. Mortimer</mark>, <mark>B. Setterholm</mark>"
      ]
     },
     "metadata": {},
     "output_type": "display_data"
    },
    {
     "data": {
      "text/markdown": [
       "\n",
       "|||\n",
       "|---:|:---|\n",
       "| [![arXiv](https://img.shields.io/badge/arXiv-2408.04135-b31b1b.svg)](https://arxiv.org/abs/2408.04135) | **JWST Observations of Starbursts: Massive Star Clusters in the Central Starburst of M82**  |\n",
       "|| R. C. Levy, et al. -- incl., <mark>F. Walter</mark> |\n",
       "|*Appeared on*| *2024-08-09*|\n",
       "|*Comments*| *Resubmitted to ApJL*|\n",
       "|**Abstract**|            We present a near infrared (NIR) candidate star cluster catalog for the central kiloparsec of M82 based on new JWST NIRCam images. We identify star cluster candidates using the F250M filter, finding 1357 star cluster candidates with stellar masses $>10^4$ M$_\\odot$. Compared to previous optical catalogs, nearly all (87%) of the candidates we identify are new. The star cluster candidates have a median intrinsic cluster radius of $\\approx$1 pc and have stellar masses up to $10^6$ M$_\\odot$. By comparing the color-color diagram to dust-free yggdrasil stellar population models, we estimate that the star cluster candidates have A$_{\\rm V}\\sim3-24$ mag, corresponding to A$_{\\rm 2.5\\mu m}\\sim0.3-2.1$ mag. There is still appreciable dust extinction towards these clusters into the NIR. We measure the stellar masses of the star cluster candidates, assuming ages of 0 and 8 Myr. The slope of the resulting cluster mass function is $\\beta=1.9\\pm0.2$, in excellent agreement with studies of star clusters in other galaxies.         |"
      ],
      "text/plain": [
       "[2408.04135] JWST Observations of Starbursts: Massive Star Clusters in the Central Starburst of M82\n",
       "\tR. C. Levy, et al. -- incl., <mark>F. Walter</mark>"
      ]
     },
     "metadata": {},
     "output_type": "display_data"
    },
    {
     "data": {
      "text/markdown": [
       "\n",
       "|||\n",
       "|---:|:---|\n",
       "| [![arXiv](https://img.shields.io/badge/arXiv-2408.04475-b31b1b.svg)](https://arxiv.org/abs/2408.04475) | **TOI-2490b- The most eccentric brown dwarf transiting in the brown dwarf desert**  |\n",
       "|| B. A. Henderson, et al. -- incl., <mark>T. Henning</mark>, <mark>T. Trifonov</mark> |\n",
       "|*Appeared on*| *2024-08-09*|\n",
       "|*Comments*| *Accepted for publication in MNRAS, 18 pages, 14 figures*|\n",
       "|**Abstract**|            We report the discovery of the most eccentric transiting brown dwarf in the brown dwarf desert, TOI02490b. The brown dwarf desert is the lack of brown dwarfs around main sequence stars within $\\sim3$~AU and is thought to be caused by differences in formation mechanisms between a star and planet. To date, only $\\sim40$ transiting brown dwarfs have been confirmed. \\systemt is a $73.6\\pm2.4$ \\mjupnospace, $1.00\\pm0.02$ \\rjup brown dwarf orbiting a $1.004_{-0.022}^{+0.031}$ \\msunnospace, $1.105_{-0.012}^{+0.012}$ \\rsun sun-like star on a 60.33~d orbit with an eccentricity of $0.77989\\pm0.00049$. The discovery was detected within \\tess sectors 5 (30 minute cadence) and 32 (2 minute and 20 second cadence). It was then confirmed with 31 radial velocity measurements with \\feros by the WINE collaboration and photometric observations with the Next Generation Transit Survey. Stellar modelling of the host star estimates an age of $\\sim8$~Gyr, which is supported by estimations from kinematics likely placing the object within the thin disc. However, this is not consistent with model brown dwarf isochrones for the system age suggesting an inflated radius. Only one other transiting brown dwarf with an eccentricity higher than 0.6 is currently known in the brown dwarf desert. Demographic studies of brown dwarfs have suggested such high eccentricity is indicative of stellar formation mechanisms.         |"
      ],
      "text/plain": [
       "[2408.04475] TOI-2490b- The most eccentric brown dwarf transiting in the brown dwarf desert\n",
       "\tB. A. Henderson, et al. -- incl., <mark>T. Henning</mark>, <mark>T. Trifonov</mark>"
      ]
     },
     "metadata": {},
     "output_type": "display_data"
    },
    {
     "data": {
      "text/markdown": [
       "## Failed papers"
      ],
      "text/plain": [
       "<IPython.core.display.Markdown object>"
      ]
     },
     "metadata": {},
     "output_type": "display_data"
    },
    {
     "data": {
      "text/markdown": [
       "\n",
       "|||\n",
       "|---:|:---|\n",
       "| [![arXiv](https://img.shields.io/badge/arXiv-2408.03982-b31b1b.svg)](https://arxiv.org/abs/2408.03982) | **JWST/NIRSpec WIDE survey: a z=4.6 low-mass star-forming galaxy hosting a jet-driven shock with low ionisation and solar metallicity**  |\n",
       "|| F. D'Eugenio, et al. -- incl., <mark>A. d. Graaff</mark> |\n",
       "|*Appeared on*| *2024-08-09*|\n",
       "|*Comments*| *20 pages, 10 figures, 4 tables. Submitted to MNRAS, comments welcome*|\n",
       "|**Abstract**|            We present NIRSpec/MSA observations from the JWST large-area survey WIDE, targeting the rest-frame UV-optical spectrum of Ulema, a radio-AGN host at redshift z=4.6348. The low-resolution prism spectrum displays high equivalent width nebular emission, with remarkably high ratios of low-ionisation species of oxygen, nitrogen and sulphur, relative to hydrogen; auroral O$^+$ emission is clearly detected, possibly also C$^+$. From the high-resolution grating spectrum, we measure a gas velocity dispersion $\\sigma$~400 km s$^{-1}$, broad enough to rule out star-forming gas in equilibrium in the gravitational potential of the galaxy. Emission-line ratio diagnostics suggest that the nebular emission is due to a shock which ran out of pre-shock gas. To infer the physical properties of the system, we model simultaneously the galaxy spectral energy distribution (SED) and shock-driven line emission under a Bayesian framework. We find a relatively low-mass, star-forming system (M* = 1.4$\\times$10^{10} M$_\\odot$, SFR = 70 M$_\\odot$ yr$^{-1}$), where shock-driven emission contributes 50 per cent to the total H$\\beta$ luminosity. The nebular metallicity is near solar - three times higher than that predicted by the mass-metallicity relation at z=4.6, possibly related to fast-paced chemical evolution near the galaxy nucleus. We find no evidence for a recent decline in the SFR of the galaxy, meaning that, already at this early epoch, fast radio-mode AGN feedback was poorly coupled with the bulk of the star-forming gas; therefore, most of the feedback energy must end up in the galaxy halo, setting the stage for future quenching.         |\n",
       "|<p style=\"color:red\"> **ERROR** </p>| <p style=\"color:red\">latex error 'PosixPath' object is not subscriptable</p> |"
      ],
      "text/plain": [
       "<IPython.core.display.Markdown object>"
      ]
     },
     "metadata": {},
     "output_type": "display_data"
    },
    {
     "data": {
      "text/markdown": [
       "\n",
       "|||\n",
       "|---:|:---|\n",
       "| [![arXiv](https://img.shields.io/badge/arXiv-2408.04465-b31b1b.svg)](https://arxiv.org/abs/2408.04465) | **A Multi-wavelength, Multi-epoch Monitoring Campaign of Accretion Variability in T Tauri Stars from the ODYSSEUS Survey. III. Optical Spectra**  |\n",
       "|| J. Wendeborn, et al. -- incl., <mark>A. Kospal</mark> |\n",
       "|*Appeared on*| *2024-08-09*|\n",
       "|*Comments*| *39 pages, 10 figures, 12 tables*|\n",
       "|**Abstract**|            Classical T Tauri Stars (CTTSs) are highly variable stars that possess gas- and dust-rich disks from which planets form. Much of their variability is driven by mass accretion from the surrounding disk, a process that is still not entirely understood. A multi-epoch optical spectral monitoring campaign of four CTTSs (TW Hya, RU Lup, BP Tau, and GM Aur) was conducted along with contemporaneous HST UV spectra and ground-based photometry in an effort to determine accretion characteristics and gauge variability in this sample. Using an accretion flow model, we find that the magnetospheric truncation radius varies between 2.5-5 R* across all of our observations. There is also significant variability in all emission lines studied, particularly Halpha, Hbeta, and Hgamma. Using previously established relationships between line luminosity and accretion, we find that, on average, most lines reproduce accretion rates consistent with accretion shock modeling of HST spectra to within 0.5 dex. Looking at individual contemporaneous observations, however, these relationships are less accurate, suggesting that variability trends differ from the trends of the population and that these empirical relationships should be used with caution in studies of variability.         |\n",
       "|<p style=\"color:red\"> **ERROR** </p>| <p style=\"color:red\">latex error 'PosixPath' object is not subscriptable</p> |"
      ],
      "text/plain": [
       "<IPython.core.display.Markdown object>"
      ]
     },
     "metadata": {},
     "output_type": "display_data"
    }
   ],
   "source": [
    "import datetime\n",
    "today = str(datetime.date.today())\n",
    "logfile = f\"_build/html/logs/log-{today}.md\"\n",
    "\n",
    "\n",
    "with open(logfile, 'w') as logs:\n",
    "    # Success\n",
    "    logs.write(f'# Arxiv on Deck 2: Logs - {today}\\n\\n')\n",
    "    logs.write(\"\"\"* Arxiv had {0:,d} new papers\\n\"\"\".format(len(new_papers)))\n",
    "    logs.write(\"\"\"    * {0:,d} with possible author matches\\n\\n\"\"\".format(len(candidates)))\n",
    "    logs.write(\"## Sucessful papers\\n\\n\")\n",
    "    display(Markdown(\"## Successful papers\"))\n",
    "    success = [k[0] for k in documents]\n",
    "    for candid in candidates:\n",
    "        if candid['identifier'].split(':')[-1] in success:\n",
    "            display(candid)\n",
    "            logs.write(candid.generate_markdown_text() + '\\n\\n')\n",
    "\n",
    "    ## failed\n",
    "    logs.write(\"## Failed papers\\n\\n\")\n",
    "    display(Markdown(\"## Failed papers\"))\n",
    "    failed = sorted(failed, key=lambda x: x[1])\n",
    "    current_reason = \"\"\n",
    "    for paper, reason in failed:\n",
    "        if 'affiliation' in reason:\n",
    "            color = 'green'\n",
    "        else:\n",
    "            color = 'red'\n",
    "        data = Markdown(\n",
    "                paper.generate_markdown_text() + \n",
    "                f'\\n|<p style=\"color:{color:s}\"> **ERROR** </p>| <p style=\"color:{color:s}\">{reason:s}</p> |'\n",
    "               )\n",
    "        if reason != current_reason:\n",
    "            logs.write(f'### {reason:s} \\n\\n')\n",
    "            current_reason = reason\n",
    "        logs.write(data.data + '\\n\\n')\n",
    "        \n",
    "        # only display here the important errors (all in logs)\n",
    "        # if color in ('red',):\n",
    "        display(data)"
   ]
  },
  {
   "cell_type": "markdown",
   "id": "472d20ee",
   "metadata": {
    "papermill": {
     "duration": 0.004763,
     "end_time": "2024-08-09T04:10:52.212021",
     "exception": false,
     "start_time": "2024-08-09T04:10:52.207258",
     "status": "completed"
    },
    "tags": []
   },
   "source": [
    "## Export documents\n",
    "\n",
    "We now write the .md files and export relevant images"
   ]
  },
  {
   "cell_type": "code",
   "execution_count": 7,
   "id": "d426aed9",
   "metadata": {
    "execution": {
     "iopub.execute_input": "2024-08-09T04:10:52.222786Z",
     "iopub.status.busy": "2024-08-09T04:10:52.222371Z",
     "iopub.status.idle": "2024-08-09T04:10:52.229057Z",
     "shell.execute_reply": "2024-08-09T04:10:52.228494Z"
    },
    "papermill": {
     "duration": 0.013546,
     "end_time": "2024-08-09T04:10:52.230353",
     "exception": false,
     "start_time": "2024-08-09T04:10:52.216807",
     "status": "completed"
    },
    "tags": []
   },
   "outputs": [],
   "source": [
    "def export_markdown_summary(md: str, md_fname:str, directory: str):\n",
    "    \"\"\"Export MD document and associated relevant images\"\"\"\n",
    "    import os\n",
    "    import shutil\n",
    "    import re\n",
    "\n",
    "    if (os.path.exists(directory) and not os.path.isdir(directory)):\n",
    "        raise RuntimeError(f\"a non-directory file exists with name {directory:s}\")\n",
    "\n",
    "    if (not os.path.exists(directory)):\n",
    "        print(f\"creating directory {directory:s}\")\n",
    "        os.mkdir(directory)\n",
    "\n",
    "    fig_fnames = (re.compile(r'\\[Fig.*\\]\\((.*)\\)').findall(md) + \n",
    "                  re.compile(r'\\<img src=\"([^>\\s]*)\"[^>]*/>').findall(md))\n",
    "    print(\"found figures\", fig_fnames)\n",
    "    for fname in fig_fnames:\n",
    "        if 'http' in fname:\n",
    "            # No need to copy online figures\n",
    "            continue\n",
    "        if not os.path.exists(fname):\n",
    "            print(\"file not found\", fname)\n",
    "            continue\n",
    "        print(\"copying \", fname, \"to\", directory)\n",
    "        destdir = os.path.join(directory, os.path.dirname(fname))\n",
    "        destfname = os.path.join(destdir, os.path.basename(fname))\n",
    "        try:\n",
    "            os.makedirs(destdir)\n",
    "        except FileExistsError:\n",
    "            pass\n",
    "        shutil.copy(fname, destfname)\n",
    "    with open(os.path.join(directory, md_fname), 'w') as fout:\n",
    "        fout.write(md)\n",
    "    print(\"exported in \", os.path.join(directory, md_fname))\n",
    "    [print(\"    + \" + os.path.join(directory,fk)) for fk in fig_fnames]"
   ]
  },
  {
   "cell_type": "code",
   "execution_count": 8,
   "id": "014d04a4",
   "metadata": {
    "execution": {
     "iopub.execute_input": "2024-08-09T04:10:52.240896Z",
     "iopub.status.busy": "2024-08-09T04:10:52.240540Z",
     "iopub.status.idle": "2024-08-09T04:10:52.254997Z",
     "shell.execute_reply": "2024-08-09T04:10:52.254335Z"
    },
    "papermill": {
     "duration": 0.021156,
     "end_time": "2024-08-09T04:10:52.256333",
     "exception": false,
     "start_time": "2024-08-09T04:10:52.235177",
     "status": "completed"
    },
    "tags": []
   },
   "outputs": [
    {
     "name": "stdout",
     "output_type": "stream",
     "text": [
      "found figures ['tmp_2408.04038/./translation.jpg', 'tmp_2408.04038/./o.png', 'tmp_2408.04038/./spicaFT.png']\n",
      "copying  tmp_2408.04038/./translation.jpg to _build/html/\n",
      "copying  tmp_2408.04038/./o.png to _build/html/\n",
      "copying  tmp_2408.04038/./spicaFT.png to _build/html/\n",
      "exported in  _build/html/2408.04038.md\n",
      "    + _build/html/tmp_2408.04038/./translation.jpg\n",
      "    + _build/html/tmp_2408.04038/./o.png\n",
      "    + _build/html/tmp_2408.04038/./spicaFT.png\n",
      "found figures ['tmp_2408.04135/./F140M-F250M-F360M_asinh_inset_HST.png', 'tmp_2408.04135/./NIRCam_F250M_AgeComp_cCMF_Fraction_ClusterComp_PowerLawFit.png', 'tmp_2408.04135/./F250M-F360M_F140M-F250M_SSP_cmKDE.png']\n",
      "copying  tmp_2408.04135/./F140M-F250M-F360M_asinh_inset_HST.png to _build/html/\n",
      "copying  tmp_2408.04135/./NIRCam_F250M_AgeComp_cCMF_Fraction_ClusterComp_PowerLawFit.png to _build/html/\n",
      "copying  tmp_2408.04135/./F250M-F360M_F140M-F250M_SSP_cmKDE.png to _build/html/\n",
      "exported in  _build/html/2408.04135.md\n",
      "    + _build/html/tmp_2408.04135/./F140M-F250M-F360M_asinh_inset_HST.png\n",
      "    + _build/html/tmp_2408.04135/./NIRCam_F250M_AgeComp_cCMF_Fraction_ClusterComp_PowerLawFit.png\n",
      "    + _build/html/tmp_2408.04135/./F250M-F360M_F140M-F250M_SSP_cmKDE.png\n",
      "found figures ['tmp_2408.04475/./Mass_Radius_both_isochrones.png', 'tmp_2408.04475/./PT_all.png', 'tmp_2408.04475/./77437543_DSS.png']\n",
      "copying  tmp_2408.04475/./Mass_Radius_both_isochrones.png to _build/html/\n",
      "copying  tmp_2408.04475/./PT_all.png to _build/html/\n",
      "copying  tmp_2408.04475/./77437543_DSS.png to _build/html/\n",
      "exported in  _build/html/2408.04475.md\n",
      "    + _build/html/tmp_2408.04475/./Mass_Radius_both_isochrones.png\n",
      "    + _build/html/tmp_2408.04475/./PT_all.png\n",
      "    + _build/html/tmp_2408.04475/./77437543_DSS.png\n"
     ]
    }
   ],
   "source": [
    "for paper_id, md in documents:\n",
    "    export_markdown_summary(md, f\"{paper_id:s}.md\", '_build/html/')"
   ]
  },
  {
   "cell_type": "markdown",
   "id": "f087a0a7",
   "metadata": {
    "papermill": {
     "duration": 0.004941,
     "end_time": "2024-08-09T04:10:52.266376",
     "exception": false,
     "start_time": "2024-08-09T04:10:52.261435",
     "status": "completed"
    },
    "tags": []
   },
   "source": [
    "## Display the papers\n",
    "\n",
    "Not necessary but allows for a quick check."
   ]
  },
  {
   "cell_type": "code",
   "execution_count": 9,
   "id": "fd25f625",
   "metadata": {
    "execution": {
     "iopub.execute_input": "2024-08-09T04:10:52.277238Z",
     "iopub.status.busy": "2024-08-09T04:10:52.276891Z",
     "iopub.status.idle": "2024-08-09T04:10:52.283719Z",
     "shell.execute_reply": "2024-08-09T04:10:52.283095Z"
    },
    "papermill": {
     "duration": 0.013694,
     "end_time": "2024-08-09T04:10:52.285014",
     "exception": false,
     "start_time": "2024-08-09T04:10:52.271320",
     "status": "completed"
    },
    "scrolled": false,
    "tags": []
   },
   "outputs": [
    {
     "data": {
      "text/markdown": [
       "<div class=\"macros\" style=\"visibility:hidden;\">\n",
       "$\\newcommand{\\ensuremath}{}$\n",
       "$\\newcommand{\\xspace}{}$\n",
       "$\\newcommand{\\object}[1]{\\texttt{#1}}$\n",
       "$\\newcommand{\\farcs}{{.}''}$\n",
       "$\\newcommand{\\farcm}{{.}'}$\n",
       "$\\newcommand{\\arcsec}{''}$\n",
       "$\\newcommand{\\arcmin}{'}$\n",
       "$\\newcommand{\\ion}[2]{#1#2}$\n",
       "$\\newcommand{\\textsc}[1]{\\textrm{#1}}$\n",
       "$\\newcommand{\\hl}[1]{\\textrm{#1}}$\n",
       "$\\newcommand{\\footnote}[1]{}$\n",
       "$\\newcommand{\\baselinestretch}{1.0}$</div>\n",
       "\n",
       "\n",
       "\n",
       "<div id=\"title\">\n",
       "\n",
       "# Recent and Upcoming Upgrades for MIRC-X and MYSTIC on the CHARA Array\n",
       "\n",
       "</div>\n",
       "<div id=\"comments\">\n",
       "\n",
       "[![arXiv](https://img.shields.io/badge/arXiv-2408.04038-b31b1b.svg)](https://arxiv.org/abs/2408.04038)<mark>Appeared on: 2024-08-09</mark> -  _11 pages, 9 figures, Submitted to SPIE in Yokohama 2024_\n",
       "\n",
       "</div>\n",
       "<div id=\"authors\">\n",
       "\n",
       "N. Ibrahim, et al. -- incl., <mark>D. Mortimer</mark>, <mark>B. Setterholm</mark>\n",
       "\n",
       "</div>\n",
       "<div id=\"abstract\">\n",
       "\n",
       "**Abstract:** MIRC-X and MYSTIC are six-telescope near-infrared beam (1.08-2.38 $\\mu$ m) combiners at the CHARA Array on Mt Wilson CA, USA. Ever since the commissioning of MIRC-X (J and H bands) in 2018 and MYSTIC (K bands) in 2021, they have been the most popular and over-subscribed instruments at the array. Observers have been able to image stellar objects with sensitivity down to 8.1 mag in H and 7.8 mag in K-band under the very best conditions. In 2022 MYSTIC was upgraded with a new ABCD mode using the VLTI/GRAVITY 4-beam integrated optics chip, with the goal of improving the sensitivity and calibration. The ABCD mode has been used to observe more than 20 T Tauri stars; however, the data pipeline is still being developed. Alongside software upgrades, we detail planned upgrades to both instruments in this paper. The main upgrades are: 1) Adding a motorized filter wheel to MIRC-X along with new high spectral resolution modes 2) Updating MIRC-X optics to allow for simultaneous 6T J+H observations 3) Removing the warm window between the spectrograph and the warm optics in MYSTIC 4) Adding a 6T ABCD mode to MIRC-X in collaboration with CHARA/SPICA 5) Updating the MIRC-X CRED-ONE camera funded by Prof. Kraus from U. Exeter 6) Carrying out science verification of the MIRC-X polarization mode 7) Developing new software for ABCD-mode data reduction and more efficient calibration routines. We expect these upgrades to not only improve the observing experience, but also increase the sensitivity by 0.4 mag in J+H-bands, and 1 mag in K-band.\n",
       "\n",
       "</div>\n",
       "\n",
       "<div id=\"div_fig1\">\n",
       "\n",
       "<img src=\"tmp_2408.04038/./translation.jpg\" alt=\"Fig5\" width=\"100%\"/>\n",
       "\n",
       "**Figure 5. -** (left) The filter wheel is assembled and is being tested at UM lab. Special grating holders were 3D printed and can be seen in the blue. A translation stage (circled in green) will hold the different lenses and move desired on into the optical axis so observers can switch between modes (Right) CAD of the filter wheel, the grating holder, and the moving lens system.\n",
       " (*fig:wheel*)\n",
       "\n",
       "</div>\n",
       "<div id=\"div_fig2\">\n",
       "\n",
       "<img src=\"tmp_2408.04038/./o.png\" alt=\"Fig1\" width=\"100%\"/>\n",
       "\n",
       "**Figure 1. -** Example of MYSTIC ABCD observations as seen on the detector. Four beams are combined and output as 24 parallel lines, sampling four phases of the visibility contrast at each wavelength channel for 6 baselinesmystic (*fig:abcd*)\n",
       "\n",
       "</div>\n",
       "<div id=\"div_fig3\">\n",
       "\n",
       "<img src=\"tmp_2408.04038/./spicaFT.png\" alt=\"Fig2\" width=\"100%\"/>\n",
       "\n",
       "**Figure 2. -** CAD view of the SPICA-FT (in pink) positioned near the MIRC-X spectrograph spicaft (*fig:SPICAFT*)\n",
       "\n",
       "</div><div id=\"qrcode\"><img src=https://api.qrserver.com/v1/create-qr-code/?size=100x100&data=\"https://arxiv.org/abs/2408.04038\"></div>"
      ],
      "text/plain": [
       "<IPython.core.display.Markdown object>"
      ]
     },
     "metadata": {},
     "output_type": "display_data"
    },
    {
     "data": {
      "text/markdown": [
       "<div class=\"macros\" style=\"visibility:hidden;\">\n",
       "$\\newcommand{\\ensuremath}{}$\n",
       "$\\newcommand{\\xspace}{}$\n",
       "$\\newcommand{\\object}[1]{\\texttt{#1}}$\n",
       "$\\newcommand{\\farcs}{{.}''}$\n",
       "$\\newcommand{\\farcm}{{.}'}$\n",
       "$\\newcommand{\\arcsec}{''}$\n",
       "$\\newcommand{\\arcmin}{'}$\n",
       "$\\newcommand{\\ion}[2]{#1#2}$\n",
       "$\\newcommand{\\textsc}[1]{\\textrm{#1}}$\n",
       "$\\newcommand{\\hl}[1]{\\textrm{#1}}$\n",
       "$\\newcommand{\\footnote}[1]{}$\n",
       "$\\newcommand{\\url}[1]{\\href{#1}{#1}}$\n",
       "$\\newcommand{\\dodoi}[1]{doi:~\\href{http://doi.org/#1}{\\nolinkurl{#1}}}$\n",
       "$\\newcommand{\\doeprint}[1]{\\href{http://ascl.net/#1}{\\nolinkurl{http://ascl.net/#1}}}$\n",
       "$\\newcommand{\\doarXiv}[1]{\\href{https://arxiv.org/abs/#1}{\\nolinkurl{https://arxiv.org/abs/#1}}}$\n",
       "$\\newcommand{\\vdag}{(v)^\\dagger}$\n",
       "$\\newcommand$\n",
       "$\\newcommand$\n",
       "$\\newcommand{\\starbug}{\\textsc{starbug ii}}$\n",
       "$\\newcommand{\\cigale}{\\textsc{cigale}}$\n",
       "$\\newcommand{\\yggdrasil}{\\textsc{yggdrasil}}$\n",
       "$\\newcommand{\\MJysr}{MJy~sr^{-1}}$\n",
       "$\\newcommand{\\msun}{M_\\odot}$\n",
       "$\\newcommand{\\lsun}{L_\\odot}$\n",
       "$\\newcommand{\\sourcextractor}{{\\tt SourceXtractor++}}$\n",
       "$\\newcommand{\\ml}{\\Upsilon_*}$\n",
       "$\\newcommand{\\mstar}{M_*}$\n",
       "$\\newcommand{\\per}{^{-1}}$\n",
       "$\\newcommand{\\citetJD}{M.~J. Jiménez-Donaire et al. (in prep.)}$\n",
       "$\\newcommand{\\citepJD}{M.~J. Jiménez-Donaire et al. in prep.}$\n",
       "$\\newcommand{\\change}$\n",
       "$\\newcommand{\\todo}{\\textcolor{WildStrawberry}}$\n",
       "$\\newcommand{ÅPF}{\\altaffiliation{NSF Astronomy and Astrophysics Postdoctoral Fellow}}$\n",
       "$\\newcommand{\\Arizona}{\\affiliation{Steward Observatory, University of Arizona, Tucson, AZ 85721, USA}}$\n",
       "$\\newcommand{\\Maryland}{\\affiliation{Department of Astronomy, University of Maryland, College Park, MD 20742, USA}}$\n",
       "$\\newcommand{\\JSI}{\\affiliation{Joint Space-Science Institute, University of Maryland, College Park, MD 20742, USA}}$\n",
       "$\\newcommand{\\INA}{\\affiliation{Instituto Nacional de Astrofísica, Óptica y Electrónica, Luis Enrique Erro 1, Tonantzintla, 72840 Puebla, Mexico}}$\n",
       "$\\newcommand{\\BUAP}{\\affiliation{Benemérita Universidad Autónoma de Puebla, Av. San Manuel, 72000 Puebla, Mexico}}$\n",
       "$\\newcommand{\\STScI}{\\affiliation{Space Telescope Science Institute, 3700 San Martin Drive, Baltimore, MD 21218, USA}}$\n",
       "$\\newcommand{\\MPIA}{\\affiliation{Max Planck Institut for Astronomy, Konigstuhl 17, 69117 Heidelberg, Germany}}$\n",
       "$\\newcommand{\\KU}{\\affiliation{Department of Physics and Astronomy, University of Kansas, 1251 Wescoe Hall Drive, Lawrence, KS 66045, USA}}$\n",
       "$\\newcommand{\\UWyoming}{\\affiliation{Department of Physics and Astronomy, University of Wyoming, Laramie, WY 82071, USA}}$\n",
       "$\\newcommand{\\Leiden}{\\affiliation{Leiden Observatory, Leiden University, P.O.~Box 9513, 2300~RA~Leiden, The Netherlands}}$\n",
       "$\\newcommand{\\UGent}{\\affiliation{Sterrenkundig Observatorium, Ghent University, Krijgslaan 281 - S9, B-9000 Gent, Belgium}}$\n",
       "$\\newcommand{\\France}{\\affiliation{Collège de France, 11 Pl. Marcelin Berthelot, 75231 Paris, France}}$\n",
       "$\\newcommand{\\ParisObs}{\\affiliation{Observatoire de Paris, 61 avenue de l’Observatoire, 75014 Paris, France}}$\n",
       "$\\newcommand{\\ESOST}{\\affiliation{European Space Agency, c/o STScI, 3700 San Martin Drive, Baltimore, MD 21218, USA}}$\n",
       "$\\newcommand{\\ITA}{\\affiliation{Universität Heidelberg, Zentrum für Astronomie, Institut für Theoretische Astrophysik, Albert-Ueberle-Str. 2, D-69120 Heidelberg, Germany}}$\n",
       "$\\newcommand{\\IWR}{\\affiliation{Universität Heidelberg, Interdisziplinäres Zentrum für Wissenschaftliches Rechnen, Im Neuenheimer Feld 205, D-69120 Heidelberg, Germany}}$\n",
       "$\\newcommand{\\SOFIA}{\\affiliation{Stratospheric Observatory for Infrared Astronomy, NASA Ames Research Center, Mail Stop 204-14, Moffett Field, CA 94035, USA}}$\n",
       "$\\newcommand{\\JPL}{\\affiliation{Jet Propulsion Laboratory, California Institute of Technology, 4800 Oak Grove Dr., Pasadena, CA 91109, USA}}$\n",
       "$\\newcommand{\\UdeC}{\\affiliation{Departamento de Astronomía, Universidad de Concepción, Barrio Universitario, Concepción, Chile}}$\n",
       "$\\newcommand{\\NMMT}{\\affiliation{New Mexico Institute of Mining and Technology, 801 Leroy Place, Socorro, NM 87801, USA}}$\n",
       "$\\newcommand{\\NRAOSocorro}{\\affiliation{National Radio Astronomy Observatory, P.O. Box O, 1003 Lopezville Road, Socorro, NM 87801, USA}}$\n",
       "$\\newcommand{\\OSU}{\\affiliation{Department of Astronomy, The Ohio State University, Columbus, OH 43210, USA}}$\n",
       "$\\newcommand{\\UGR}{\\affiliation{Dept. Física Teórica y del Cosmos, Universidad de Granada, 18071, Granada, Spain }}$\n",
       "$\\newcommand{\\OAN}{\\affiliation{Observatorio Astronómico Nacional (IGN), C/Alfonso XII, 3, E-28014 Madrid, Spain}}$\n",
       "$\\newcommand{\\YS}{\\affiliation{Centro de Desarrollos Tecnológicos, Observatorio de Yebes (IGN), 19141 Yebes, Guadalajara, Spain}}$\n",
       "$\\newcommand{\\Swinburne}{\\affiliation{Centre for Astrophysics and Supercomputing, Swinburne University of Technology, Hawthorn, VIC 3122, Australia}}$\n",
       "$\\newcommand{\\ASTROTD}{\\affiliation{ARC Centre of Excellence for All Sky Astrophysics in 3 Dimensions (ASTRO 3D)}}$\n",
       "$\\newcommand$\n",
       "$\\newcommand\\natexlab{#1}$</div>\n",
       "\n",
       "\n",
       "\n",
       "<div id=\"title\">\n",
       "\n",
       "# JWST Observations of Starbursts: Massive Star Clusters in the Central Starburst of M 82\n",
       "\n",
       "</div>\n",
       "<div id=\"comments\">\n",
       "\n",
       "[![arXiv](https://img.shields.io/badge/arXiv-2408.04135-b31b1b.svg)](https://arxiv.org/abs/2408.04135)<mark>Appeared on: 2024-08-09</mark> -  _Resubmitted to ApJL_\n",
       "\n",
       "</div>\n",
       "<div id=\"authors\">\n",
       "\n",
       "R. C. Levy, et al. -- incl., <mark>F. Walter</mark>\n",
       "\n",
       "</div>\n",
       "<div id=\"abstract\">\n",
       "\n",
       "**Abstract:** We present a near infrared (NIR) candidate star cluster catalog for the central kiloparsec of M 82 based on new JWST NIRCam images. We identify star cluster candidates using the F250M filter, finding 1357 star cluster candidates with stellar masses $>10^4$ M $_\\odot$ . Compared to previous optical catalogs, nearly all (87 \\% ) of the candidates we identify are new. The star cluster candidates have a median intrinsic cluster radius of $\\approx$ 1 pc and have stellar masses up to $10^6$ M $_\\odot$ . By comparing the color-color diagram to dust-free yggdrasil stellar population models, we estimate that the star cluster candidates have A $_{\\rm V}\\sim3-24$ mag, corresponding to A $_{\\rm 2.5\\mu m}\\sim0.3-2.1$ mag. There is still appreciable dust extinction towards these clusters into the NIR. We measure the stellar masses of the star cluster candidates, assuming ages of 0 and 8 Myr. The slope of the resulting cluster mass function is $\\beta=1.9\\pm0.2$ , in excellent agreement with studies of star clusters in other galaxies.\n",
       "\n",
       "</div>\n",
       "\n",
       "<div id=\"div_fig1\">\n",
       "\n",
       "<img src=\"tmp_2408.04135/./F140M-F250M-F360M_asinh_inset_HST.png\" alt=\"Fig4\" width=\"100%\"/>\n",
       "\n",
       "**Figure 4. -** The central 870 pc of M 82 seen with NIRCam showing F140M (blue), F250M (green), and F360M (red) on an asinh scale. $\\change${Insets show zoom-ins to 50 pc $\\times$ 50 pc regions around some representative massive star cluster candidates.} The circles indicate the massive clusters identified in the NIRCam image, where the radius of the circle is the fitted (deconvolved) radius (see Section \\ref{sec:prop} and Table \\ref{tab:catalog}). Blue (pink) circles show clusters which do (do not) overlap with the HST catalog \\citep[][see Section \\ref{ssec:comp_other_cats}]{Mayya2008}. Clusters 1 and 2 are labeled (see Sections \\ref{ssec:radii} and \\ref{ssec:comp_other_cats}). The right insets show HST three-color images at the same locations (blue: F435W, green: F555W, red: F814W). The light blue circles in the HST insets show the star clusters identified by \\citet{Mayya2008} in these selected regions using the same HST data, where the radius of each circle is 5 pc. The pink and blue circles are the same as in the left panels. (*fig:multicolor*)\n",
       "\n",
       "</div>\n",
       "<div id=\"div_fig2\">\n",
       "\n",
       "<img src=\"tmp_2408.04135/./NIRCam_F250M_AgeComp_cCMF_Fraction_ClusterComp_PowerLawFit.png\" alt=\"Fig5\" width=\"100%\"/>\n",
       "\n",
       "**Figure 5. -** The cumulative CMFs shown as a fraction of the number of clusters for different assumed ages (colored solid curves). The blue and orange shaded regions on the 0 Myr and 8 Myr curves indicates the approximate range of mass increase due to extinction $\\change${which scales with M$_*$ (dark) or which is constant with M$_*$ (light); see Section \\ref{sssec:dust} for details.} The gray shaded region shows masses below $10^4$ $\\msun$ which are not included in the final catalog. The purple line and shaded region shows the power-law fit for the 0 Myr CMF for M$_*>10^4$ $\\msun$. The dashed orange curve shows the cumulative CMF for the nuclear star clusters identified by \\citet{Mayya2008} which have an assumed age of 8 Myr. (*fig:cmf*)\n",
       "\n",
       "</div>\n",
       "<div id=\"div_fig3\">\n",
       "\n",
       "<img src=\"tmp_2408.04135/./F250M-F360M_F140M-F250M_SSP_cmKDE.png\" alt=\"Fig3\" width=\"100%\"/>\n",
       "\n",
       "**Figure 3. -** $\\change${A color-color plot of the clusters (black dots). The contours show the density of the points; contour levels show 10, 25, 50, and 75\\% density levels for clusters which overlap with the \\citet{Mayya2008} catalog (blue) and those only detected with NIRCam (pink). The colored tracks show $\\yggdrasil$ SSP models assuming no ($\\rm{f_{cov}}=0$; blue) and maximal ($\\rm{f_{cov}}=1$; red) contributions from nebular emission. The green arrow shows the slope of the reddening vector with A$_{\\rm V}=3-24$ mag marked in increments of 3. The clusters in M 82 detected with NIRCam show significant reddening with respect to the dust-free SSP tracks.} (*fig:color-color*)\n",
       "\n",
       "</div><div id=\"qrcode\"><img src=https://api.qrserver.com/v1/create-qr-code/?size=100x100&data=\"https://arxiv.org/abs/2408.04135\"></div>"
      ],
      "text/plain": [
       "<IPython.core.display.Markdown object>"
      ]
     },
     "metadata": {},
     "output_type": "display_data"
    },
    {
     "data": {
      "text/markdown": [
       "<div class=\"macros\" style=\"visibility:hidden;\">\n",
       "$\\newcommand{\\ensuremath}{}$\n",
       "$\\newcommand{\\xspace}{}$\n",
       "$\\newcommand{\\object}[1]{\\texttt{#1}}$\n",
       "$\\newcommand{\\farcs}{{.}''}$\n",
       "$\\newcommand{\\farcm}{{.}'}$\n",
       "$\\newcommand{\\arcsec}{''}$\n",
       "$\\newcommand{\\arcmin}{'}$\n",
       "$\\newcommand{\\ion}[2]{#1#2}$\n",
       "$\\newcommand{\\textsc}[1]{\\textrm{#1}}$\n",
       "$\\newcommand{\\hl}[1]{\\textrm{#1}}$\n",
       "$\\newcommand{\\footnote}[1]{}$\n",
       "$\\newcommand{\\mjup}{ M_{\\rm J}\\space}$\n",
       "$\\newcommand{\\mjupnospace}{ M_{\\rm J}}$\n",
       "$\\newcommand{\\rjup}{ R_{\\rm J}\\space}$\n",
       "$\\newcommand{\\rjupnospace}{ R_{\\rm J}}$\n",
       "$\\newcommand{\\msun}{ M_{\\odot}\\space}$\n",
       "$\\newcommand{\\msunnospace}{ M_{\\odot}}$\n",
       "$\\newcommand{\\rsun}{ R_{\\odot}\\space}$\n",
       "$\\newcommand{\\rsunnospace}{ R_{\\odot}}$\n",
       "$\\newcommand{\\lsun}{ L_{\\odot}\\space}$\n",
       "$\\newcommand{\\tess}{{\\it TESS\\space}}$\n",
       "$\\newcommand{\\tessnospace}{{\\it TESS}}$\n",
       "$\\newcommand{\\gaia}{{\\it Gaia\\space}}$\n",
       "$\\newcommand{\\gaianospace}{{\\it Gaia}}$\n",
       "$\\newcommand{\\ngts}{{NGTS\\space}}$\n",
       "$\\newcommand{\\ngtsnospace}{{NGTS}}$\n",
       "$\\newcommand{\\feros}{{FEROS\\space}}$\n",
       "$\\newcommand{\\ferosnospace}{{FEROS}}$\n",
       "$\\newcommand{\\LSO}{La Silla Observatory\\space}$\n",
       "$\\newcommand{\\PAR}{Paranal Observatory\\space}$\n",
       "$\\newcommand{\\teff}{{T_{\\rm eff}\\space}}$\n",
       "$\\newcommand{\\teffnospace}{{T_{\\rm eff}}}$\n",
       "$\\newcommand{\\logg}{{\\log g\\space}}$\n",
       "$\\newcommand{\\loggnospace}{{\\log g}}$\n",
       "$\\newcommand{\\vsini}{{v\\sin{i}\\space}}$\n",
       "$\\newcommand{\\vsininospace}{{v\\sin{i}}}$\n",
       "$\\newcommand{\\msini}{{M\\sin{i}\\space}}$\n",
       "$\\newcommand{\\msininospace}{{M\\sin{i}}}$\n",
       "$\\newcommand{\\feh}{[Fe/H]\\space}$\n",
       "$\\newcommand{\\fehnospace}{[Fe/H]}$\n",
       "$\\newcommand{\\systemt}{{\\rm TOI-2490b\\space}}$\n",
       "$\\newcommand{\\systemtnospace}{{\\rm TOI-2490b}}$\n",
       "$\\newcommand{\\systemA}{{\\rm TOI-2490\\space}}$\n",
       "$\\newcommand{\\systemAnospace}{{\\rm TOI-2490}}$\n",
       "$\\newcommand{\\fsed}{f_\\mathrm{sed}\\space}$\n",
       "$\\newcommand{\\fsednospace}{f_\\mathrm{sed}}$\n",
       "$\\newcommand{\\thebibliography}{\\DeclareRobustCommand{\\VAN}[3]{##3}\\VANthebibliography}$</div>\n",
       "\n",
       "\n",
       "\n",
       "<div id=\"title\">\n",
       "\n",
       "# TOI-2490b- The most eccentric brown dwarf transiting in the brown dwarf desert\n",
       "\n",
       "</div>\n",
       "<div id=\"comments\">\n",
       "\n",
       "[![arXiv](https://img.shields.io/badge/arXiv-2408.04475-b31b1b.svg)](https://arxiv.org/abs/2408.04475)<mark>Appeared on: 2024-08-09</mark> -  _Accepted for publication in MNRAS, 18 pages, 14 figures_\n",
       "\n",
       "</div>\n",
       "<div id=\"authors\">\n",
       "\n",
       "B. A. Henderson, et al. -- incl., <mark>T. Henning</mark>, <mark>T. Trifonov</mark>\n",
       "\n",
       "</div>\n",
       "<div id=\"abstract\">\n",
       "\n",
       "**Abstract:** We report the discovery of the most eccentric transiting brown dwarf  in the brown dwarf desert, $\\systemtnospace$ . The brown dwarf desert is the lack of brown dwarfs around main sequence stars within $\\sim3$ AU and is thought to be caused by differences in formation mechanisms between a star and planet. To date, only $\\sim40$ transiting brown dwarfs have been confirmed. $\\systemt$ is a $73.6\\pm2.4$ $\\mjupnospace$ , $1.00\\pm0.02$ $\\rjup$ brown dwarf orbiting a $1.004_{-0.022}^{+0.031}$ $\\msunnospace$ , $1.105_{-0.012}^{+0.012}$ $\\rsun$ sun-like star on a 60.33 d orbit with an eccentricity of $0.77989\\pm0.00049$ . The discovery was detected within $\\tess$ sectors 5 (30 minute cadence) and 32 (2 minute and 20 second cadence). It was then confirmed with 31 radial velocity measurements with $\\feros$ by the WINE collaboration and  photometric observations with the Next Generation Transit Survey. Stellar modelling of the host star estimates an age of $\\sim8$ Gyr, which is supported by estimations from kinematics likely placing the object within the thin disc. However, this is not consistent with model brown dwarf isochrones for the system age suggesting an inflated radius. Only one other transiting brown dwarf with an eccentricity higher than 0.6 is currently known in the brown dwarf desert. Demographic studies of brown dwarfs have suggested such high eccentricity is indicative of stellar formation mechanisms.\n",
       "\n",
       "</div>\n",
       "\n",
       "<div id=\"div_fig1\">\n",
       "\n",
       "<img src=\"tmp_2408.04475/./Mass_Radius_both_isochrones.png\" alt=\"Fig12\" width=\"100%\"/>\n",
       "\n",
       "**Figure 12. -** The mass-radius plot for all known transiting brown dwarfs and low mass stars from 12 to 150 $\\mjup$nospace, excluding RIK-72b  ([David, et. al 2019](https://ui.adsabs.harvard.edu/abs/2019ApJ...872..161D))  and 2MASS J05352184–0546085 from [Stassun, Mathieu and Valenti (2006)](https://ui.adsabs.harvard.edu/abs/2006Natur.440..311S) due to their youth and therefore large radii. Grey circles are brown dwarfs, whereas grey stars are low mass stars. The dashed vertical lines highlight the 13 and 80 $\\mjup$ borders for the brown dwarf regime. $\\systemt$ is the black triangle. Model isochrones are also plotted: solid lines are the [Baraffe, et. al (2003)](https://ui.adsabs.harvard.edu/abs/2003A&A...402..701B), [Baraffe, et. al (2015)](https://ui.adsabs.harvard.edu/abs/2015A&A...577A..42B) iscochrones for 0.5 (pink), 1 (light blue), 5 (green) and 10 (dark mauve) Gyr. The breaks in these isochrones are where we switch to the updated [Baraffe, et. al (2015)](https://ui.adsabs.harvard.edu/abs/2015A&A...577A..42B) iscochrones from [Baraffe, et. al (2003)](https://ui.adsabs.harvard.edu/abs/2003A&A...402..701B). The dashed and dotted isochrones show the marley21 Sonora Bobcat models for $\\feh$ of 0.0 dex and +0.5 dex respectively. These are plotted for 0.4 (dark blue), 1 (light blue), 4 (bright purple) and 10 (dark mauve) Gyr. All objects can be seen in Table \\ref{appendix:tables} along with their sources. This table has been updated from grieves21 and [ and Henderson (2024)](https://ui.adsabs.harvard.edu/abs/2024MNRAS.tmp..603H).  (*fig:massrad*)\n",
       "\n",
       "</div>\n",
       "<div id=\"div_fig2\">\n",
       "\n",
       "<img src=\"tmp_2408.04475/./PT_all.png\" alt=\"Fig13\" width=\"100%\"/>\n",
       "\n",
       "**Figure 13. -** Models generated using egp+ showing how the temperature of the atmosphere of $\\systemt$ is predicted to change across 3 orbits at different pressure levels. Panels 2, 3 and 4 show the different $f_{sed}$ values tested. The first panel shows the cloud free model of HD 80606b ([Mayorga, et. al (2021)](https://ui.adsabs.harvard.edu/abs/2021ApJ...915...41M)) for comparison. (*fig:pt_hd*)\n",
       "\n",
       "</div>\n",
       "<div id=\"div_fig3\">\n",
       "\n",
       "<img src=\"tmp_2408.04475/./77437543_DSS.png\" alt=\"Fig1\" width=\"100%\"/>\n",
       "\n",
       "**Figure 1. -** DSS image showing $\\systemA$(green) with other nearby objects. North and East are shown on the figure in the top left corner as well as a 0.5 arcmin position angle (PA) arrow for scale. (*fig:dss*)\n",
       "\n",
       "</div><div id=\"qrcode\"><img src=https://api.qrserver.com/v1/create-qr-code/?size=100x100&data=\"https://arxiv.org/abs/2408.04475\"></div>"
      ],
      "text/plain": [
       "<IPython.core.display.Markdown object>"
      ]
     },
     "metadata": {},
     "output_type": "display_data"
    }
   ],
   "source": [
    "[display(Markdown(k[1])) for k in documents];"
   ]
  },
  {
   "cell_type": "markdown",
   "id": "873873a4",
   "metadata": {
    "papermill": {
     "duration": 0.005616,
     "end_time": "2024-08-09T04:10:52.296406",
     "exception": false,
     "start_time": "2024-08-09T04:10:52.290790",
     "status": "completed"
    },
    "tags": []
   },
   "source": [
    "# Create HTML index"
   ]
  },
  {
   "cell_type": "code",
   "execution_count": 10,
   "id": "cf665672",
   "metadata": {
    "execution": {
     "iopub.execute_input": "2024-08-09T04:10:52.308532Z",
     "iopub.status.busy": "2024-08-09T04:10:52.308142Z",
     "iopub.status.idle": "2024-08-09T04:10:52.315903Z",
     "shell.execute_reply": "2024-08-09T04:10:52.315366Z"
    },
    "papermill": {
     "duration": 0.015245,
     "end_time": "2024-08-09T04:10:52.317171",
     "exception": false,
     "start_time": "2024-08-09T04:10:52.301926",
     "status": "completed"
    },
    "tags": []
   },
   "outputs": [
    {
     "name": "stdout",
     "output_type": "stream",
     "text": [
      "156  publications files modified in the last 7 days.\n"
     ]
    }
   ],
   "source": [
    "from datetime import datetime, timedelta, timezone\n",
    "from glob import glob\n",
    "import os\n",
    "\n",
    "files = glob('_build/html/*.md')\n",
    "days = 7\n",
    "now = datetime.today()\n",
    "res = []\n",
    "for fk in files:\n",
    "    stat_result = os.stat(fk).st_ctime\n",
    "    modified = datetime.fromtimestamp(stat_result, tz=timezone.utc).replace(tzinfo=None)\n",
    "    delta = now.today() - modified\n",
    "    if delta <= timedelta(days=days):\n",
    "        res.append((delta.seconds, fk))\n",
    "res = [k[1] for k in reversed(sorted(res, key=lambda x:x[1]))]\n",
    "npub = len(res)\n",
    "print(len(res), f\" publications files modified in the last {days:d} days.\")\n",
    "# [ print('\\t', k) for k in res ];"
   ]
  },
  {
   "cell_type": "code",
   "execution_count": 11,
   "id": "015de740",
   "metadata": {
    "execution": {
     "iopub.execute_input": "2024-08-09T04:10:52.329528Z",
     "iopub.status.busy": "2024-08-09T04:10:52.329148Z",
     "iopub.status.idle": "2024-08-09T04:10:52.342308Z",
     "shell.execute_reply": "2024-08-09T04:10:52.341667Z"
    },
    "papermill": {
     "duration": 0.020985,
     "end_time": "2024-08-09T04:10:52.343731",
     "exception": false,
     "start_time": "2024-08-09T04:10:52.322746",
     "status": "completed"
    },
    "tags": []
   },
   "outputs": [
    {
     "name": "stdout",
     "output_type": "stream",
     "text": [
      "6  publications in the last 7 days.\n"
     ]
    }
   ],
   "source": [
    "import datetime\n",
    "from glob import glob\n",
    "\n",
    "def get_last_n_days(lst, days=1):\n",
    "    \"\"\" Get the documents from the last n days \"\"\"\n",
    "    sorted_lst = sorted(lst, key=lambda x: x[1], reverse=True)\n",
    "    for fname, date in sorted_lst:\n",
    "        if date >= str(datetime.date.today() - datetime.timedelta(days=days)):\n",
    "            yield fname\n",
    "\n",
    "def extract_appearance_dates(lst_file):\n",
    "    dates = []\n",
    "\n",
    "    def get_date(line):\n",
    "        return line\\\n",
    "            .split('Appeared on:')[-1]\\\n",
    "            .split('</mark>')[0].strip()\n",
    "\n",
    "    for fname in lst:\n",
    "        with open(fname, 'r') as f:\n",
    "            found_date = False\n",
    "            for line in f:\n",
    "                if not found_date:\n",
    "                    if \"Appeared on\" in line:\n",
    "                        found_date = True\n",
    "                        dates.append((fname, get_date(line)))\n",
    "                else:\n",
    "                    break\n",
    "    return dates\n",
    "\n",
    "from glob import glob\n",
    "lst = glob('_build/html/*md')\n",
    "days = 7\n",
    "dates = extract_appearance_dates(lst)\n",
    "res = list(get_last_n_days(dates, days))\n",
    "npub = len(res)\n",
    "print(len(res), f\" publications in the last {days:d} days.\")"
   ]
  },
  {
   "cell_type": "code",
   "execution_count": 12,
   "id": "52ca0208",
   "metadata": {
    "execution": {
     "iopub.execute_input": "2024-08-09T04:10:52.356240Z",
     "iopub.status.busy": "2024-08-09T04:10:52.355856Z",
     "iopub.status.idle": "2024-08-09T04:10:52.360623Z",
     "shell.execute_reply": "2024-08-09T04:10:52.360045Z"
    },
    "papermill": {
     "duration": 0.012658,
     "end_time": "2024-08-09T04:10:52.362074",
     "exception": false,
     "start_time": "2024-08-09T04:10:52.349416",
     "status": "completed"
    },
    "scrolled": false,
    "tags": []
   },
   "outputs": [],
   "source": [
    "def create_carousel(npub=4):\n",
    "    \"\"\" Generate the HTML code for a carousel with `npub` slides \"\"\"\n",
    "    carousel = [\"\"\"  <div class=\"carousel\" \"\"\",\n",
    "                \"\"\"       data-flickity='{ \"autoPlay\": 10000, \"adaptiveHeight\": true, \"resize\": true, \"wrapAround\": true, \"pauseAutoPlayOnHover\": true, \"groupCells\": 1 }' id=\"asyncTypeset\">\"\"\"\n",
    "                ]\n",
    "    \n",
    "    item_str = \"\"\"    <div class=\"carousel-cell\"> <div id=\"slide{k}\" class=\"md_view\">Content {k}</div> </div>\"\"\"\n",
    "    for k in range(1, npub + 1):\n",
    "        carousel.append(item_str.format(k=k))\n",
    "    carousel.append(\"  </div>\")\n",
    "    return '\\n'.join(carousel)\n",
    "\n",
    "def create_grid(npub=4):\n",
    "    \"\"\" Generate the HTML code for a flat grid with `npub` slides \"\"\"\n",
    "    grid = [\"\"\"  <div class=\"grid\"> \"\"\",\n",
    "                ]\n",
    "    \n",
    "    item_str = \"\"\"    <div class=\"grid-item\"> <div id=\"slide{k}\" class=\"md_view\">Content {k}</div> </div>\"\"\"\n",
    "    for k in range(1, npub + 1):\n",
    "        grid.append(item_str.format(k=k))\n",
    "    grid.append(\"  </div>\")\n",
    "    return '\\n'.join(grid)"
   ]
  },
  {
   "cell_type": "code",
   "execution_count": 13,
   "id": "a6eac5b6",
   "metadata": {
    "execution": {
     "iopub.execute_input": "2024-08-09T04:10:52.374705Z",
     "iopub.status.busy": "2024-08-09T04:10:52.374462Z",
     "iopub.status.idle": "2024-08-09T04:10:52.379593Z",
     "shell.execute_reply": "2024-08-09T04:10:52.379056Z"
    },
    "papermill": {
     "duration": 0.012987,
     "end_time": "2024-08-09T04:10:52.380925",
     "exception": false,
     "start_time": "2024-08-09T04:10:52.367938",
     "status": "completed"
    },
    "scrolled": false,
    "tags": []
   },
   "outputs": [],
   "source": [
    "carousel = create_carousel(npub)\n",
    "docs = ', '.join(['\"{0:s}\"'.format(k.split('/')[-1]) for k in res])\n",
    "slides = ', '.join([f'\"slide{k}\"' for k in range(1, npub + 1)])\n",
    "\n",
    "with open(\"daily_template.html\", \"r\") as tpl:\n",
    "    page = tpl.read()\n",
    "    page = page.replace(\"{%-- carousel:s --%}\", carousel)\\\n",
    "               .replace(\"{%-- suptitle:s --%}\",  \"7-day archives\" )\\\n",
    "               .replace(\"{%-- docs:s --%}\", docs)\\\n",
    "               .replace(\"{%-- slides:s --%}\", slides)\n",
    "    \n",
    "with open(\"_build/html/index_7days.html\", 'w') as fout:\n",
    "    fout.write(page)"
   ]
  },
  {
   "cell_type": "code",
   "execution_count": 14,
   "id": "adc1a1ec",
   "metadata": {
    "execution": {
     "iopub.execute_input": "2024-08-09T04:10:52.393471Z",
     "iopub.status.busy": "2024-08-09T04:10:52.393120Z",
     "iopub.status.idle": "2024-08-09T04:10:52.399385Z",
     "shell.execute_reply": "2024-08-09T04:10:52.398774Z"
    },
    "papermill": {
     "duration": 0.013975,
     "end_time": "2024-08-09T04:10:52.400666",
     "exception": false,
     "start_time": "2024-08-09T04:10:52.386691",
     "status": "completed"
    },
    "tags": []
   },
   "outputs": [
    {
     "name": "stdout",
     "output_type": "stream",
     "text": [
      "3  publications in the last day.\n"
     ]
    }
   ],
   "source": [
    "# redo for today\n",
    "days = 1\n",
    "res = list(get_last_n_days(dates, days))\n",
    "npub = len(res)\n",
    "print(len(res), f\" publications in the last day.\")\n",
    "\n",
    "carousel = create_carousel(npub)\n",
    "docs = ', '.join(['\"{0:s}\"'.format(k.split('/')[-1]) for k in res])\n",
    "slides = ', '.join([f'\"slide{k}\"' for k in range(1, npub + 1)])\n",
    "\n",
    "with open(\"daily_template.html\", \"r\") as tpl:\n",
    "    page = tpl.read()\n",
    "    page = page.replace(\"{%-- carousel:s --%}\", carousel)\\\n",
    "               .replace(\"{%-- suptitle:s --%}\",  \"Daily\" )\\\n",
    "               .replace(\"{%-- docs:s --%}\", docs)\\\n",
    "               .replace(\"{%-- slides:s --%}\", slides)\n",
    "    \n",
    "# print(carousel, docs, slides)\n",
    "# print(page)\n",
    "with open(\"_build/html/index_daily.html\", 'w') as fout:\n",
    "    fout.write(page)"
   ]
  },
  {
   "cell_type": "code",
   "execution_count": 15,
   "id": "00eece82",
   "metadata": {
    "execution": {
     "iopub.execute_input": "2024-08-09T04:10:52.413639Z",
     "iopub.status.busy": "2024-08-09T04:10:52.413245Z",
     "iopub.status.idle": "2024-08-09T04:10:52.419614Z",
     "shell.execute_reply": "2024-08-09T04:10:52.419064Z"
    },
    "papermill": {
     "duration": 0.01431,
     "end_time": "2024-08-09T04:10:52.420966",
     "exception": false,
     "start_time": "2024-08-09T04:10:52.406656",
     "status": "completed"
    },
    "scrolled": false,
    "tags": []
   },
   "outputs": [
    {
     "name": "stdout",
     "output_type": "stream",
     "text": [
      "6  6 publications selected.\n"
     ]
    }
   ],
   "source": [
    "# Create the flat grid of the last N papers (fixed number regardless of dates)\n",
    "from itertools import islice \n",
    "\n",
    "npub = 6\n",
    "res = [k[0] for k in (islice(reversed(sorted(dates, key=lambda x: x[1])), 6))]\n",
    "print(len(res), f\" {npub} publications selected.\")\n",
    "\n",
    "grid = create_grid(npub)\n",
    "docs = ', '.join(['\"{0:s}\"'.format(k.split('/')[-1]) for k in res])\n",
    "slides = ', '.join([f'\"slide{k}\"' for k in range(1, npub + 1)])\n",
    "\n",
    "with open(\"grid_template.html\", \"r\") as tpl:\n",
    "    page = tpl.read()\n",
    "    page = page.replace(\"{%-- grid-content:s --%}\", grid)\\\n",
    "               .replace(\"{%-- suptitle:s --%}\",  f\"Last {npub:,d} papers\" )\\\n",
    "               .replace(\"{%-- docs:s --%}\", docs)\\\n",
    "               .replace(\"{%-- slides:s --%}\", slides)\n",
    "    \n",
    "# print(grid, docs, slides)\n",
    "# print(page)\n",
    "with open(\"_build/html/index_npub_grid.html\", 'w') as fout:\n",
    "    fout.write(page)"
   ]
  }
 ],
 "metadata": {
  "kernelspec": {
   "display_name": "Python 3 (ipykernel)",
   "language": "python",
   "name": "python3"
  },
  "language_info": {
   "codemirror_mode": {
    "name": "ipython",
    "version": 3
   },
   "file_extension": ".py",
   "mimetype": "text/x-python",
   "name": "python",
   "nbconvert_exporter": "python",
   "pygments_lexer": "ipython3",
   "version": "3.9.19"
  },
  "papermill": {
   "default_parameters": {},
   "duration": 78.555706,
   "end_time": "2024-08-09T04:10:52.643172",
   "environment_variables": {},
   "exception": null,
   "input_path": "MPIA daily digest.ipynb",
   "output_path": "log.ipynb",
   "parameters": {},
   "start_time": "2024-08-09T04:09:34.087466",
   "version": "2.6.0"
  },
  "vscode": {
   "interpreter": {
    "hash": "aee8b7b246df8f9039afb4144a1f6fd8d2ca17a180786b69acc140d282b71a49"
   }
  },
  "widgets": {
   "application/vnd.jupyter.widget-state+json": {
    "state": {
     "0316d2c864e649498d40dbfa620c6e1b": {
      "model_module": "@jupyter-widgets/controls",
      "model_module_version": "2.0.0",
      "model_name": "HTMLStyleModel",
      "state": {
       "_model_module": "@jupyter-widgets/controls",
       "_model_module_version": "2.0.0",
       "_model_name": "HTMLStyleModel",
       "_view_count": null,
       "_view_module": "@jupyter-widgets/base",
       "_view_module_version": "2.0.0",
       "_view_name": "StyleView",
       "background": null,
       "description_width": "",
       "font_size": null,
       "text_color": null
      }
     },
     "1167fd8e649e43fea815345255b6c720": {
      "model_module": "@jupyter-widgets/base",
      "model_module_version": "2.0.0",
      "model_name": "LayoutModel",
      "state": {
       "_model_module": "@jupyter-widgets/base",
       "_model_module_version": "2.0.0",
       "_model_name": "LayoutModel",
       "_view_count": null,
       "_view_module": "@jupyter-widgets/base",
       "_view_module_version": "2.0.0",
       "_view_name": "LayoutView",
       "align_content": null,
       "align_items": null,
       "align_self": null,
       "border_bottom": null,
       "border_left": null,
       "border_right": null,
       "border_top": null,
       "bottom": null,
       "display": null,
       "flex": null,
       "flex_flow": null,
       "grid_area": null,
       "grid_auto_columns": null,
       "grid_auto_flow": null,
       "grid_auto_rows": null,
       "grid_column": null,
       "grid_gap": null,
       "grid_row": null,
       "grid_template_areas": null,
       "grid_template_columns": null,
       "grid_template_rows": null,
       "height": null,
       "justify_content": null,
       "justify_items": null,
       "left": null,
       "margin": null,
       "max_height": null,
       "max_width": null,
       "min_height": null,
       "min_width": null,
       "object_fit": null,
       "object_position": null,
       "order": null,
       "overflow": null,
       "padding": null,
       "right": null,
       "top": null,
       "visibility": null,
       "width": null
      }
     },
     "20cede44bd5e4f78ab6a1b0c959b7bb0": {
      "model_module": "@jupyter-widgets/controls",
      "model_module_version": "2.0.0",
      "model_name": "HTMLModel",
      "state": {
       "_dom_classes": [],
       "_model_module": "@jupyter-widgets/controls",
       "_model_module_version": "2.0.0",
       "_model_name": "HTMLModel",
       "_view_count": null,
       "_view_module": "@jupyter-widgets/controls",
       "_view_module_version": "2.0.0",
       "_view_name": "HTMLView",
       "description": "",
       "description_allow_html": false,
       "layout": "IPY_MODEL_63f76387599041b6a4d5b12fa80f5831",
       "placeholder": "​",
       "style": "IPY_MODEL_3c8e1a8198b04b7fa033a4bf4623362d",
       "tabbable": null,
       "tooltip": null,
       "value": " 5/5 [00:59&lt;00:00, 14.22s/it]"
      }
     },
     "3c8e1a8198b04b7fa033a4bf4623362d": {
      "model_module": "@jupyter-widgets/controls",
      "model_module_version": "2.0.0",
      "model_name": "HTMLStyleModel",
      "state": {
       "_model_module": "@jupyter-widgets/controls",
       "_model_module_version": "2.0.0",
       "_model_name": "HTMLStyleModel",
       "_view_count": null,
       "_view_module": "@jupyter-widgets/base",
       "_view_module_version": "2.0.0",
       "_view_name": "StyleView",
       "background": null,
       "description_width": "",
       "font_size": null,
       "text_color": null
      }
     },
     "63f76387599041b6a4d5b12fa80f5831": {
      "model_module": "@jupyter-widgets/base",
      "model_module_version": "2.0.0",
      "model_name": "LayoutModel",
      "state": {
       "_model_module": "@jupyter-widgets/base",
       "_model_module_version": "2.0.0",
       "_model_name": "LayoutModel",
       "_view_count": null,
       "_view_module": "@jupyter-widgets/base",
       "_view_module_version": "2.0.0",
       "_view_name": "LayoutView",
       "align_content": null,
       "align_items": null,
       "align_self": null,
       "border_bottom": null,
       "border_left": null,
       "border_right": null,
       "border_top": null,
       "bottom": null,
       "display": null,
       "flex": null,
       "flex_flow": null,
       "grid_area": null,
       "grid_auto_columns": null,
       "grid_auto_flow": null,
       "grid_auto_rows": null,
       "grid_column": null,
       "grid_gap": null,
       "grid_row": null,
       "grid_template_areas": null,
       "grid_template_columns": null,
       "grid_template_rows": null,
       "height": null,
       "justify_content": null,
       "justify_items": null,
       "left": null,
       "margin": null,
       "max_height": null,
       "max_width": null,
       "min_height": null,
       "min_width": null,
       "object_fit": null,
       "object_position": null,
       "order": null,
       "overflow": null,
       "padding": null,
       "right": null,
       "top": null,
       "visibility": null,
       "width": null
      }
     },
     "73d7d47cdf5b45d498bce2d1b8c75010": {
      "model_module": "@jupyter-widgets/controls",
      "model_module_version": "2.0.0",
      "model_name": "HBoxModel",
      "state": {
       "_dom_classes": [],
       "_model_module": "@jupyter-widgets/controls",
       "_model_module_version": "2.0.0",
       "_model_name": "HBoxModel",
       "_view_count": null,
       "_view_module": "@jupyter-widgets/controls",
       "_view_module_version": "2.0.0",
       "_view_name": "HBoxView",
       "box_style": "",
       "children": [
        "IPY_MODEL_f896481e7b894de9941f77aba00f364e",
        "IPY_MODEL_83ac4dd03c3643d98b99cc7f07491ac8",
        "IPY_MODEL_20cede44bd5e4f78ab6a1b0c959b7bb0"
       ],
       "layout": "IPY_MODEL_96da9e9ee79c4849a8fdb17ca06d0935",
       "tabbable": null,
       "tooltip": null
      }
     },
     "83ac4dd03c3643d98b99cc7f07491ac8": {
      "model_module": "@jupyter-widgets/controls",
      "model_module_version": "2.0.0",
      "model_name": "FloatProgressModel",
      "state": {
       "_dom_classes": [],
       "_model_module": "@jupyter-widgets/controls",
       "_model_module_version": "2.0.0",
       "_model_name": "FloatProgressModel",
       "_view_count": null,
       "_view_module": "@jupyter-widgets/controls",
       "_view_module_version": "2.0.0",
       "_view_name": "ProgressView",
       "bar_style": "success",
       "description": "",
       "description_allow_html": false,
       "layout": "IPY_MODEL_9f6b2d222a714c00a1b495f5d7ed1025",
       "max": 5.0,
       "min": 0.0,
       "orientation": "horizontal",
       "style": "IPY_MODEL_bf46f8ab82b9481b9f018caf16f7bb1b",
       "tabbable": null,
       "tooltip": null,
       "value": 5.0
      }
     },
     "96da9e9ee79c4849a8fdb17ca06d0935": {
      "model_module": "@jupyter-widgets/base",
      "model_module_version": "2.0.0",
      "model_name": "LayoutModel",
      "state": {
       "_model_module": "@jupyter-widgets/base",
       "_model_module_version": "2.0.0",
       "_model_name": "LayoutModel",
       "_view_count": null,
       "_view_module": "@jupyter-widgets/base",
       "_view_module_version": "2.0.0",
       "_view_name": "LayoutView",
       "align_content": null,
       "align_items": null,
       "align_self": null,
       "border_bottom": null,
       "border_left": null,
       "border_right": null,
       "border_top": null,
       "bottom": null,
       "display": null,
       "flex": null,
       "flex_flow": null,
       "grid_area": null,
       "grid_auto_columns": null,
       "grid_auto_flow": null,
       "grid_auto_rows": null,
       "grid_column": null,
       "grid_gap": null,
       "grid_row": null,
       "grid_template_areas": null,
       "grid_template_columns": null,
       "grid_template_rows": null,
       "height": null,
       "justify_content": null,
       "justify_items": null,
       "left": null,
       "margin": null,
       "max_height": null,
       "max_width": null,
       "min_height": null,
       "min_width": null,
       "object_fit": null,
       "object_position": null,
       "order": null,
       "overflow": null,
       "padding": null,
       "right": null,
       "top": null,
       "visibility": null,
       "width": null
      }
     },
     "9f6b2d222a714c00a1b495f5d7ed1025": {
      "model_module": "@jupyter-widgets/base",
      "model_module_version": "2.0.0",
      "model_name": "LayoutModel",
      "state": {
       "_model_module": "@jupyter-widgets/base",
       "_model_module_version": "2.0.0",
       "_model_name": "LayoutModel",
       "_view_count": null,
       "_view_module": "@jupyter-widgets/base",
       "_view_module_version": "2.0.0",
       "_view_name": "LayoutView",
       "align_content": null,
       "align_items": null,
       "align_self": null,
       "border_bottom": null,
       "border_left": null,
       "border_right": null,
       "border_top": null,
       "bottom": null,
       "display": null,
       "flex": null,
       "flex_flow": null,
       "grid_area": null,
       "grid_auto_columns": null,
       "grid_auto_flow": null,
       "grid_auto_rows": null,
       "grid_column": null,
       "grid_gap": null,
       "grid_row": null,
       "grid_template_areas": null,
       "grid_template_columns": null,
       "grid_template_rows": null,
       "height": null,
       "justify_content": null,
       "justify_items": null,
       "left": null,
       "margin": null,
       "max_height": null,
       "max_width": null,
       "min_height": null,
       "min_width": null,
       "object_fit": null,
       "object_position": null,
       "order": null,
       "overflow": null,
       "padding": null,
       "right": null,
       "top": null,
       "visibility": null,
       "width": null
      }
     },
     "bf46f8ab82b9481b9f018caf16f7bb1b": {
      "model_module": "@jupyter-widgets/controls",
      "model_module_version": "2.0.0",
      "model_name": "ProgressStyleModel",
      "state": {
       "_model_module": "@jupyter-widgets/controls",
       "_model_module_version": "2.0.0",
       "_model_name": "ProgressStyleModel",
       "_view_count": null,
       "_view_module": "@jupyter-widgets/base",
       "_view_module_version": "2.0.0",
       "_view_name": "StyleView",
       "bar_color": null,
       "description_width": ""
      }
     },
     "f896481e7b894de9941f77aba00f364e": {
      "model_module": "@jupyter-widgets/controls",
      "model_module_version": "2.0.0",
      "model_name": "HTMLModel",
      "state": {
       "_dom_classes": [],
       "_model_module": "@jupyter-widgets/controls",
       "_model_module_version": "2.0.0",
       "_model_name": "HTMLModel",
       "_view_count": null,
       "_view_module": "@jupyter-widgets/controls",
       "_view_module_version": "2.0.0",
       "_view_name": "HTMLView",
       "description": "",
       "description_allow_html": false,
       "layout": "IPY_MODEL_1167fd8e649e43fea815345255b6c720",
       "placeholder": "​",
       "style": "IPY_MODEL_0316d2c864e649498d40dbfa620c6e1b",
       "tabbable": null,
       "tooltip": null,
       "value": "100%"
      }
     }
    },
    "version_major": 2,
    "version_minor": 0
   }
  }
 },
 "nbformat": 4,
 "nbformat_minor": 5
}