{
 "cells": [
  {
   "cell_type": "markdown",
   "id": "92bcb855",
   "metadata": {
    "papermill": {
     "duration": 0.003679,
     "end_time": "2024-07-30T04:09:11.052704",
     "exception": false,
     "start_time": "2024-07-30T04:09:11.049025",
     "status": "completed"
    },
    "tags": []
   },
   "source": [
    "# MPIA Arxiv on Deck 2\n",
    "\n",
    "Contains the steps to produce the paper extractions."
   ]
  },
  {
   "cell_type": "code",
   "execution_count": 1,
   "id": "3a0d6e11",
   "metadata": {
    "execution": {
     "iopub.execute_input": "2024-07-30T04:09:11.059800Z",
     "iopub.status.busy": "2024-07-30T04:09:11.059383Z",
     "iopub.status.idle": "2024-07-30T04:09:11.575254Z",
     "shell.execute_reply": "2024-07-30T04:09:11.574586Z"
    },
    "papermill": {
     "duration": 0.521304,
     "end_time": "2024-07-30T04:09:11.577035",
     "exception": false,
     "start_time": "2024-07-30T04:09:11.055731",
     "status": "completed"
    },
    "tags": []
   },
   "outputs": [],
   "source": [
    "# Imports\n",
    "import os\n",
    "from IPython.display import Markdown, display\n",
    "from tqdm.notebook import tqdm\n",
    "import warnings\n",
    "from PIL import Image \n",
    "\n",
    "# requires arxiv_on_deck_2\n",
    "\n",
    "from arxiv_on_deck_2.arxiv2 import (get_new_papers, \n",
    "                                    get_paper_from_identifier,\n",
    "                                    retrieve_document_source, \n",
    "                                    get_markdown_badge)\n",
    "from arxiv_on_deck_2 import (latex,\n",
    "                             latex_bib,\n",
    "                             mpia,\n",
    "                             highlight_authors_in_list)\n",
    "\n",
    "# Sometimes images are really big\n",
    "Image.MAX_IMAGE_PIXELS = 1000000000 "
   ]
  },
  {
   "cell_type": "code",
   "execution_count": 2,
   "id": "22aa9d44",
   "metadata": {
    "execution": {
     "iopub.execute_input": "2024-07-30T04:09:11.584333Z",
     "iopub.status.busy": "2024-07-30T04:09:11.583894Z",
     "iopub.status.idle": "2024-07-30T04:09:11.588951Z",
     "shell.execute_reply": "2024-07-30T04:09:11.588299Z"
    },
    "papermill": {
     "duration": 0.01024,
     "end_time": "2024-07-30T04:09:11.590358",
     "exception": false,
     "start_time": "2024-07-30T04:09:11.580118",
     "status": "completed"
    },
    "tags": []
   },
   "outputs": [],
   "source": [
    "# Some useful definitions.\n",
    "\n",
    "class AffiliationWarning(UserWarning):\n",
    "    pass\n",
    "\n",
    "class AffiliationError(RuntimeError):\n",
    "    pass\n",
    "\n",
    "def validation(source: str):\n",
    "    \"\"\"Raises error paper during parsing of source file\n",
    "    \n",
    "    Allows checks before parsing TeX code.\n",
    "    \n",
    "    Raises AffiliationWarning\n",
    "    \"\"\"\n",
    "    check = mpia.affiliation_verifications(source, verbose=True)\n",
    "    if check is not True:\n",
    "        raise AffiliationError(\"mpia.affiliation_verifications: \" + check)\n",
    "\n",
    "        \n",
    "warnings.simplefilter('always', AffiliationWarning)\n",
    "\n",
    "\n",
    "def get_markdown_qrcode(paper_id: str):\n",
    "    \"\"\" Generate a qrcode to the arxiv page using qrserver.com\n",
    "    \n",
    "    :param paper: Arxiv paper\n",
    "    :returns: markdown text\n",
    "    \"\"\"\n",
    "    url = r\"https://api.qrserver.com/v1/create-qr-code/?size=100x100&data=\"\n",
    "    txt = f\"\"\"<img src={url}\"https://arxiv.org/abs/{paper_id}\">\"\"\"\n",
    "    txt = '<div id=\"qrcode\">' + txt + '</div>'\n",
    "    return txt"
   ]
  },
  {
   "cell_type": "markdown",
   "id": "14bd6310",
   "metadata": {
    "papermill": {
     "duration": 0.002776,
     "end_time": "2024-07-30T04:09:11.596108",
     "exception": false,
     "start_time": "2024-07-30T04:09:11.593332",
     "status": "completed"
    },
    "tags": []
   },
   "source": [
    "## get list of arxiv paper candidates\n",
    "\n",
    "We use the MPIA mitarbeiter list webpage from mpia.de to get author names\n",
    "We then get all new papers from Arxiv and match authors"
   ]
  },
  {
   "cell_type": "code",
   "execution_count": 3,
   "id": "7ea813a8",
   "metadata": {
    "execution": {
     "iopub.execute_input": "2024-07-30T04:09:11.602906Z",
     "iopub.status.busy": "2024-07-30T04:09:11.602502Z",
     "iopub.status.idle": "2024-07-30T04:09:31.421416Z",
     "shell.execute_reply": "2024-07-30T04:09:31.420794Z"
    },
    "papermill": {
     "duration": 19.824009,
     "end_time": "2024-07-30T04:09:31.422976",
     "exception": false,
     "start_time": "2024-07-30T04:09:11.598967",
     "status": "completed"
    },
    "tags": []
   },
   "outputs": [],
   "source": [
    "# deal with the author list and edge cases of people that cannot be consistent on their name  \n",
    "\n",
    "def filter_non_scientists(name: str) -> bool:\n",
    "    \"\"\" Loose filter on expected authorships\n",
    "\n",
    "    removing IT, administration, technical staff\n",
    "    :param name: name\n",
    "    :returns: False if name is not a scientist\n",
    "    \"\"\"\n",
    "    remove_list = ['Wolf', 'Licht', 'Binroth', 'Witzel', 'Jordan',\n",
    "                   'Zähringer', 'Scheerer', 'Hoffmann', 'Düe',\n",
    "                   'Hellmich', 'Enkler-Scharpegge', 'Witte-Nguy',\n",
    "                   'Dehen', 'Beckmann', 'Jager', 'Jäger'\n",
    "                  ]\n",
    "\n",
    "    for k in remove_list:\n",
    "        if k in name:\n",
    "            return False\n",
    "    return True\n",
    "\n",
    "def add_author_to_list(author_list: list) -> list:\n",
    "    \"\"\" Add author to list if not already in list\n",
    "    \n",
    "    :param author: author name\n",
    "    :param author_list: list of authors\n",
    "    :returns: updated list of authors\n",
    "    \"\"\"\n",
    "    add_list = ['T. Henning']\n",
    "\n",
    "    for author in add_list:\n",
    "        if author not in author_list:\n",
    "            author_list.append(author)\n",
    "    return author_list\n",
    "\n",
    "# get list from MPIA website\n",
    "# filter for non-scientists (mpia.get_mpia_mitarbeiter_list() does some filtering)\n",
    "mpia_authors = [k[1] for k in mpia.get_mpia_mitarbeiter_list() if filter_non_scientists(k[1])]\n",
    "# add some missing author because of inconsistencies in their MPIA name and author name on papers\n",
    "mpia_authors = add_author_to_list(mpia_authors)"
   ]
  },
  {
   "cell_type": "code",
   "execution_count": 4,
   "id": "2645e73a",
   "metadata": {
    "execution": {
     "iopub.execute_input": "2024-07-30T04:09:31.430324Z",
     "iopub.status.busy": "2024-07-30T04:09:31.429927Z",
     "iopub.status.idle": "2024-07-30T04:09:32.166565Z",
     "shell.execute_reply": "2024-07-30T04:09:32.165789Z"
    },
    "papermill": {
     "duration": 0.741714,
     "end_time": "2024-07-30T04:09:32.167987",
     "exception": false,
     "start_time": "2024-07-30T04:09:31.426273",
     "status": "completed"
    },
    "tags": []
   },
   "outputs": [
    {
     "name": "stdout",
     "output_type": "stream",
     "text": [
      "J. Shi  ->  J. Shi  |  ['J. Shi']\n",
      "J. Li  ->  J. Li  |  ['J. Li']\n",
      "W. Laun  ->  W. Laun  |  ['W. Laun']\n",
      "E. Bañados  ->  E. Bañados  |  ['E. Bañados']\n",
      "K. Jahnke  ->  K. Jahnke  |  ['K. Jahnke']\n",
      "T. Henning  ->  T. Henning  |  ['T. Henning']\n",
      "H. Beuther  ->  H. Beuther  |  ['H. Beuther']\n",
      "G. Perotti  ->  G. Perotti  |  ['G. Perotti']\n",
      "T. Henning  ->  T. Henning  |  ['T. Henning']\n",
      "J. Li  ->  J. Li  |  ['J. Li']\n",
      "S. Ghosh  ->  S. Ghosh  |  ['S. Ghosh']\n",
      "Arxiv has 68 new papers today\n",
      "          8 with possible author matches\n"
     ]
    }
   ],
   "source": [
    "new_papers = get_new_papers()\n",
    "# add manual references\n",
    "add_paper_refs = []\n",
    "new_papers.extend([get_paper_from_identifier(k) for k in add_paper_refs])\n",
    "\n",
    "candidates = []\n",
    "for paperk in new_papers:\n",
    "    # Check author list with their initials\n",
    "    normed_author_list = [mpia.get_initials(k) for k in paperk['authors']]\n",
    "    hl_authors = highlight_authors_in_list(normed_author_list, mpia_authors, verbose=True)\n",
    "    matches = [(hl, orig) for hl, orig in zip(hl_authors, paperk['authors']) if 'mark' in hl]\n",
    "    paperk['authors'] = hl_authors\n",
    "    if matches:\n",
    "        # only select paper if an author matched our list\n",
    "        candidates.append(paperk)\n",
    "print(\"\"\"Arxiv has {0:,d} new papers today\"\"\".format(len(new_papers)))        \n",
    "print(\"\"\"          {0:,d} with possible author matches\"\"\".format(len(candidates)))"
   ]
  },
  {
   "cell_type": "markdown",
   "id": "3543b34a",
   "metadata": {
    "papermill": {
     "duration": 0.004053,
     "end_time": "2024-07-30T04:09:32.175632",
     "exception": false,
     "start_time": "2024-07-30T04:09:32.171579",
     "status": "completed"
    },
    "tags": []
   },
   "source": [
    "# Parse sources and generate relevant outputs\n",
    "\n",
    "From the candidates, we do the following steps:\n",
    "* get their tarball from ArXiv (and extract data)\n",
    "* find the main .tex file: find one with \\documentclass{...} (sometimes it's non trivial)\n",
    "* Check affiliations with :func:`validation`, which uses :func:`mpia.affiliation_verifications`\n",
    "* If passing the affiliations: we parse the .tex source\n",
    "   * inject sub-documents into the main (flatten the main document)\n",
    "   * parse structure, extract information (title, abstract, authors, figures...)\n",
    "   * handles `\\graphicspath` if provided\n",
    "* Generate the .md document."
   ]
  },
  {
   "cell_type": "code",
   "execution_count": 5,
   "id": "9576b79e",
   "metadata": {
    "execution": {
     "iopub.execute_input": "2024-07-30T04:09:32.183350Z",
     "iopub.status.busy": "2024-07-30T04:09:32.182903Z",
     "iopub.status.idle": "2024-07-30T04:11:55.057550Z",
     "shell.execute_reply": "2024-07-30T04:11:55.056789Z"
    },
    "papermill": {
     "duration": 142.881558,
     "end_time": "2024-07-30T04:11:55.060417",
     "exception": false,
     "start_time": "2024-07-30T04:09:32.178859",
     "status": "completed"
    },
    "scrolled": false,
    "tags": []
   },
   "outputs": [
    {
     "data": {
      "application/vnd.jupyter.widget-view+json": {
       "model_id": "6f280387bbd94052982eaf37c4c8bfbc",
       "version_major": 2,
       "version_minor": 0
      },
      "text/plain": [
       "  0%|          | 0/8 [00:00<?, ?it/s]"
      ]
     },
     "metadata": {},
     "output_type": "display_data"
    },
    {
     "name": "stdout",
     "output_type": "stream",
     "text": [
      "Retrieving document from  https://arxiv.org/e-print/2407.19152\n"
     ]
    },
    {
     "name": "stdout",
     "output_type": "stream",
     "text": [
      "extracting tarball to tmp_2407.19152..."
     ]
    },
    {
     "name": "stdout",
     "output_type": "stream",
     "text": [
      " done.\n",
      "Retrieving document from  https://arxiv.org/e-print/2407.19388\n"
     ]
    },
    {
     "name": "stdout",
     "output_type": "stream",
     "text": [
      "extracting tarball to tmp_2407.19388..."
     ]
    },
    {
     "name": "stdout",
     "output_type": "stream",
     "text": [
      " done.\n",
      "Retrieving document from  https://arxiv.org/e-print/2407.19839\n"
     ]
    },
    {
     "name": "stdout",
     "output_type": "stream",
     "text": [
      "extracting tarball to tmp_2407.19839..."
     ]
    },
    {
     "name": "stdout",
     "output_type": "stream",
     "text": [
      " done.\n",
      "Retrieving document from  https://arxiv.org/e-print/2407.19919\n"
     ]
    },
    {
     "name": "stdout",
     "output_type": "stream",
     "text": [
      "extracting tarball to tmp_2407.19919..."
     ]
    },
    {
     "name": "stdout",
     "output_type": "stream",
     "text": [
      " done.\n"
     ]
    },
    {
     "name": "stdout",
     "output_type": "stream",
     "text": [
      "Found 94 bibliographic references in tmp_2407.19919/paper.bbl.\n",
      "syntax error in line 452: '=' expected\n",
      "Retrieving document from  https://arxiv.org/e-print/2407.19969\n"
     ]
    },
    {
     "name": "stdout",
     "output_type": "stream",
     "text": [
      "extracting tarball to tmp_2407.19969..."
     ]
    },
    {
     "name": "stdout",
     "output_type": "stream",
     "text": [
      " done.\n"
     ]
    },
    {
     "name": "stdout",
     "output_type": "stream",
     "text": [
      "Found 99 bibliographic references in tmp_2407.19969/MgSi.bbl.\n",
      "syntax error in line 165: '=' expected\n",
      "Retrieving document from  https://arxiv.org/e-print/2407.20066\n"
     ]
    },
    {
     "name": "stdout",
     "output_type": "stream",
     "text": [
      "extracting tarball to tmp_2407.20066..."
     ]
    },
    {
     "name": "stdout",
     "output_type": "stream",
     "text": [
      " done.\n"
     ]
    },
    {
     "name": "stdout",
     "output_type": "stream",
     "text": [
      "H. Beuther  ->  H. Beuther  |  ['H. Beuther']\n",
      "G. Perotti  ->  G. Perotti  |  ['G. Perotti']\n",
      "T. Henning  ->  T. Henning  |  ['T. Henning']\n"
     ]
    },
    {
     "name": "stdout",
     "output_type": "stream",
     "text": [
      "Found 93 bibliographic references in tmp_2407.20066/aa.bbl.\n",
      "Retrieving document from  https://arxiv.org/e-print/2407.20118\n"
     ]
    },
    {
     "name": "stdout",
     "output_type": "stream",
     "text": [
      "extracting tarball to tmp_2407.20118... done.\n",
      "Retrieving document from  https://arxiv.org/e-print/2407.20220\n"
     ]
    },
    {
     "name": "stdout",
     "output_type": "stream",
     "text": [
      "extracting tarball to tmp_2407.20220..."
     ]
    },
    {
     "name": "stdout",
     "output_type": "stream",
     "text": [
      " done.\n"
     ]
    },
    {
     "name": "stderr",
     "output_type": "stream",
     "text": [
      "/opt/hostedtoolcache/Python/3.9.19/x64/lib/python3.9/site-packages/IPython/core/interactiveshell.py:3550: LatexWarning: Multiple tex files.\n",
      "\n",
      "  exec(code_obj, self.user_global_ns, self.user_ns)\n",
      "/tmp/ipykernel_2779/1211882699.py:51: LatexWarning: 2407.20220 did not run properly\n",
      "'PosixPath' object is not subscriptable\n",
      "  warnings.warn(latex.LatexWarning(f\"{paper_id:s} did not run properly\\n\" +\n"
     ]
    }
   ],
   "source": [
    "documents = []\n",
    "failed = []\n",
    "for paper in tqdm(candidates):\n",
    "    # debug crap\n",
    "    paper['identifier'] = paper['identifier'].lower().replace('arxiv:', '').replace(r'\\n', '').strip()\n",
    "    paper_id = paper['identifier']\n",
    "    \n",
    "    folder = f'tmp_{paper_id}'\n",
    "\n",
    "    try:\n",
    "        if not os.path.isdir(folder):\n",
    "            folder = retrieve_document_source(f\"{paper_id}\", f'tmp_{paper_id}')\n",
    "        \n",
    "        try:\n",
    "            doc = latex.LatexDocument(folder, validation=validation)    \n",
    "        except AffiliationError as affilerror:\n",
    "            msg = f\"ArXiv:{paper_id:s} is not an MPIA paper... \" + str(affilerror)\n",
    "            failed.append((paper, \"affiliation error: \" + str(affilerror) ))\n",
    "            continue\n",
    "        \n",
    "        # Hack because sometimes author parsing does not work well\n",
    "        if (len(doc.authors) != len(paper['authors'])):\n",
    "            doc._authors = paper['authors']\n",
    "        else:\n",
    "            # highlight authors (FIXME: doc.highlight_authors)\n",
    "            # done on arxiv paper already\n",
    "            doc._authors = highlight_authors_in_list(\n",
    "                [mpia.get_initials(k) for k in doc.authors], \n",
    "                mpia_authors, verbose=True)\n",
    "        if (doc.abstract) in (None, ''):\n",
    "            doc._abstract = paper['abstract']\n",
    "            \n",
    "        doc.comment = (get_markdown_badge(paper_id) + \n",
    "                       \"<mark>Appeared on: \" + paper['date'] + \"</mark> - \")\n",
    "        if paper['comments']:\n",
    "            doc.comment += \" _\" + paper['comments'] + \"_\"\n",
    "        \n",
    "        full_md = doc.generate_markdown_text()\n",
    "        \n",
    "        full_md += get_markdown_qrcode(paper_id)\n",
    "        \n",
    "        # replace citations\n",
    "        try:\n",
    "            bibdata = latex_bib.LatexBib.from_doc(doc)\n",
    "            full_md = latex_bib.replace_citations(full_md, bibdata)\n",
    "        except Exception as e:\n",
    "            print(e)\n",
    "        \n",
    "        documents.append((paper_id, full_md))\n",
    "    except Exception as e:\n",
    "        warnings.warn(latex.LatexWarning(f\"{paper_id:s} did not run properly\\n\" +\n",
    "                                         str(e)\n",
    "                                        ))\n",
    "        failed.append((paper, \"latex error \" + str(e)))"
   ]
  },
  {
   "cell_type": "markdown",
   "id": "2505a25c",
   "metadata": {
    "papermill": {
     "duration": 0.004025,
     "end_time": "2024-07-30T04:11:55.068856",
     "exception": false,
     "start_time": "2024-07-30T04:11:55.064831",
     "status": "completed"
    },
    "tags": []
   },
   "source": [
    "### Export the logs\n",
    "\n",
    "Throughout, we also keep track of the logs per paper. see `logs-{today date}.md` "
   ]
  },
  {
   "cell_type": "code",
   "execution_count": 6,
   "id": "d733828a",
   "metadata": {
    "execution": {
     "iopub.execute_input": "2024-07-30T04:11:55.078239Z",
     "iopub.status.busy": "2024-07-30T04:11:55.077716Z",
     "iopub.status.idle": "2024-07-30T04:11:55.097995Z",
     "shell.execute_reply": "2024-07-30T04:11:55.097390Z"
    },
    "papermill": {
     "duration": 0.026423,
     "end_time": "2024-07-30T04:11:55.099279",
     "exception": false,
     "start_time": "2024-07-30T04:11:55.072856",
     "status": "completed"
    },
    "scrolled": false,
    "tags": []
   },
   "outputs": [
    {
     "data": {
      "text/markdown": [
       "## Successful papers"
      ],
      "text/plain": [
       "<IPython.core.display.Markdown object>"
      ]
     },
     "metadata": {},
     "output_type": "display_data"
    },
    {
     "data": {
      "text/markdown": [
       "\n",
       "|||\n",
       "|---:|:---|\n",
       "| [![arXiv](https://img.shields.io/badge/arXiv-2407.19919-b31b1b.svg)](https://arxiv.org/abs/2407.19919) | **Euclid preparation. Exploring the properties of proto-clusters in the Simulated Euclid Wide Survey**  |\n",
       "|| E. Collaboration, et al. -- incl., <mark>E. Bañados</mark>, <mark>K. Jahnke</mark> |\n",
       "|*Appeared on*| *2024-07-30*|\n",
       "|*Comments*| *Submitted to Astronomy and Astrophysics, 24 pages, 28 figures*|\n",
       "|**Abstract**|            Galaxy proto-clusters are receiving an increased interest since most of the processes shaping the structure of clusters of galaxies and their galaxy population are happening at early stages of their formation. The Euclid Survey will provide a unique opportunity to discover a large number of proto-clusters over a large fraction of the sky (14 500 square degrees). In this paper, we explore the expected observational properties of proto-clusters in the Euclid Wide Survey by means of theoretical models and simulations. We provide an overview of the predicted proto-cluster extent, galaxy density profiles, mass-richness relations, abundance, and sky-filling as a function of redshift. Useful analytical approximations for the functions of these properties are provided. The focus is on the redshift range z= 1.5 to 4. We discuss in particular the density contrast with which proto-clusters can be observed against the background in the galaxy distribution if photometric galaxy redshifts are used as supplied by the ESA Euclid mission together with the ground-based photometric surveys. We show that the obtainable detection significance is sufficient to find large numbers of interesting proto-cluster candidates. For quantitative studies, additional spectroscopic follow-up is required to confirm the proto-clusters and establish their richness.         |"
      ],
      "text/plain": [
       "[2407.19919] Euclid preparation. Exploring the properties of proto-clusters in the Simulated Euclid Wide Survey\n",
       "\tE. Collaboration, et al. -- incl., <mark>E. Bañados</mark>, <mark>K. Jahnke</mark>"
      ]
     },
     "metadata": {},
     "output_type": "display_data"
    },
    {
     "data": {
      "text/markdown": [
       "\n",
       "|||\n",
       "|---:|:---|\n",
       "| [![arXiv](https://img.shields.io/badge/arXiv-2407.19969-b31b1b.svg)](https://arxiv.org/abs/2407.19969) | **The CARMENES search for exoplanets around M dwarfs: Magnesium and silicon abundances of K7-M5.5 stars**  |\n",
       "|| H. M. Tabernero, et al. -- incl., <mark>T. Henning</mark> |\n",
       "|*Appeared on*| *2024-07-30*|\n",
       "|*Comments*| *11 Pages, 5 figures. Accepted for publication in A&A*|\n",
       "|**Abstract**|            We present the abundances of magnesium (Mg) and silicon (Si) for 314 dwarf stars with spectral types in the interval K7.0-M5.5 (Teff range ~4200-3050 K) observed with the CARMENES high-resolution spectrograph at the 3.5 m telescope at the Calar Alto Observatory. Our analysis employs the BT-Settl model atmospheres, the radiative transfer code Turbospectrum, and a state-of-the-art selection of atomic and molecular data. These Mg and Si abundances are critical for understanding both the chemical evolution and assembly of the Milky Way and the formation and composition of rocky planets. Our chemical abundances show a line-to-line scatter at the level of 0.1 dex for all studied spectral types. The typical error bar of our chemical abundance measurements is +- 0.11 dex (Mg) and +- 0.16 dex (Si) for all spectral types based on the comparison of the results obtained for stellar components of multiple systems. The derived abundances are consistent with the galactic evolution trends and observed chemical abundance distribution of earlier FGK-type stars in the solar neighbourhood. Besides, our analysis provides compatible abundances for stars in multiple systems. In addition, we studied the abundances of different galactic stellar populations. In this paper, we also explore the relation of the Mg and Si abundances of stars with and without known planets.         |"
      ],
      "text/plain": [
       "[2407.19969] The CARMENES search for exoplanets around M dwarfs: Magnesium and silicon abundances of K7-M5.5 stars\n",
       "\tH. M. Tabernero, et al. -- incl., <mark>T. Henning</mark>"
      ]
     },
     "metadata": {},
     "output_type": "display_data"
    },
    {
     "data": {
      "text/markdown": [
       "\n",
       "|||\n",
       "|---:|:---|\n",
       "| [![arXiv](https://img.shields.io/badge/arXiv-2407.20066-b31b1b.svg)](https://arxiv.org/abs/2407.20066) | **JOYS+: link between ice and gas of complex organic molecules. Comparing JWST and ALMA data of two low-mass protostars**  |\n",
       "|| Y. Chen, et al. -- incl., <mark>H. Beuther</mark>, <mark>G. Perotti</mark>, <mark>T. Henning</mark> |\n",
       "|*Appeared on*| *2024-07-30*|\n",
       "|*Comments*| *42 pages (22 main text, 20 appendix); 27 figures (12 in main text, 15 in appendix); 5 tables (2 in main text, 3 in appendix) Accepted for publication in A&A*|\n",
       "|**Abstract**|            A rich inventory of complex organic molecules (COMs) has been observed in high abundances in the gas phase toward Class 0 protostars. These molecules are suggested to be formed in ices and sublimate in the warm inner envelope close to the protostar. However, only the most abundant COM, methanol (CH3OH), has been firmly detected in ices before the era of James Webb Space Telescope (JWST). Now it is possible to detect the interstellar ices of other COMs and constrain their ice column densities quantitatively. We aim to determine the column densities of several oxygen-bearing COMs (O-COMs) in both gas and ice for two low-mass protostellar sources, NGC 1333 IRAS 2A and B1-c, as case studies in our JWST Observations of Young protoStars (JOYS+) program. By comparing the column density ratios w.r.t. CH3OH between both phases measured in the same sources, we can probe into the evolution of COMs from ice to gas in the early stages of star formation. We are able to fit the fingerprints range of COM ices between 6.8 and 8.8 um in the JWST/MIRI-MRS spectra of B1-c using similar components as recently used for IRAS 2A. We claim detection of CH4, OCN-, HCOO-, HCOOH, CH3CHO, C2H5OH, CH3OCH3, CH3OCHO, and CH3COCH3 in B1-c, and upper limits are estimated for SO2, CH3COOH, and CH3CN. The comparison of O-COM ratios w.r.t CH3OH between ice and gas shows two different cases. 1) the column density ratios of CH3OCHO and CH3OCH3 match well between the two phases, which may be attributed to a direct inheritance from ice to gas or strong chemical links with CH3OH. 2) the ice ratios of CH3CHO and C2H5OH w.r.t. CH3OH are higher than the gas ratios by 1-2 orders of magnitudes. This difference can be explained by the gas-phase reprocessing following sublimation, or different spatial distributions of COMs in the envelope.         |"
      ],
      "text/plain": [
       "[2407.20066] JOYS+: link between ice and gas of complex organic molecules. Comparing JWST and ALMA data of two low-mass protostars\n",
       "\tY. Chen, et al. -- incl., <mark>H. Beuther</mark>, <mark>G. Perotti</mark>, <mark>T. Henning</mark>"
      ]
     },
     "metadata": {},
     "output_type": "display_data"
    },
    {
     "data": {
      "text/markdown": [
       "## Failed papers"
      ],
      "text/plain": [
       "<IPython.core.display.Markdown object>"
      ]
     },
     "metadata": {},
     "output_type": "display_data"
    },
    {
     "data": {
      "text/markdown": [
       "\n",
       "|||\n",
       "|---:|:---|\n",
       "| [![arXiv](https://img.shields.io/badge/arXiv-2407.19839-b31b1b.svg)](https://arxiv.org/abs/2407.19839) | **Additive manufacturing applications in astronomy: a review**  |\n",
       "|| Y. Chahid, et al. -- incl., <mark>W. Laun</mark> |\n",
       "|*Appeared on*| *2024-07-30*|\n",
       "|*Comments*| *27 pages, 17 figures, submitted to SPIE Astronomical Telescopes & Instrumentation, Advances in Optical and Mechanical Technologies for Telescopes and Instrumentation VI (Conference 13100, Paper 57)*|\n",
       "|**Abstract**|            Despite the established role of additive manufacturing (AM) in aerospace and medical fields, its adoption in astronomy remains low. Encouraging AM integration in a risk-averse community necessitates documentation and dissemination of previous case studies. The objective of this study is to create the first review of AM in astronomy hardware, answering: where is AM currently being used in astronomy, what is the status of its adoption, and what challenges are preventing its widespread use? The review starts with an introduction to astronomical instruments size/cost challenges, alongside the role of manufacturing innovation. This is followed by highlighting the benefits/challenges of AM and used materials/processes in both space-based and ground-based applications. The review case studies include mirrors, optomechanical structures, compliant mechanisms, brackets and tooling applications that are either in research phase or are implemented.         |\n",
       "|<p style=\"color:green\"> **ERROR** </p>| <p style=\"color:green\">affiliation error: mpia.affiliation_verifications: '69117' keyword not found.</p> |"
      ],
      "text/plain": [
       "<IPython.core.display.Markdown object>"
      ]
     },
     "metadata": {},
     "output_type": "display_data"
    },
    {
     "data": {
      "text/markdown": [
       "\n",
       "|||\n",
       "|---:|:---|\n",
       "| [![arXiv](https://img.shields.io/badge/arXiv-2407.19152-b31b1b.svg)](https://arxiv.org/abs/2407.19152) | **IllustrisTNG in the HSC-SSP: No Shortage of Thin Disk Galaxies in TNG50**  |\n",
       "|| D. Xu, et al. -- incl., <mark>J. Shi</mark> |\n",
       "|*Appeared on*| *2024-07-30*|\n",
       "|*Comments*| *13 pages, 7 figures, accepted for publication in ApJ*|\n",
       "|**Abstract**|            We perform a thorough analysis of the projected shapes of nearby galaxies in both observations and cosmological simulations. We implement a forward-modeling approach to overcome the limitations in previous studies which hinder accurate comparisons between observations and simulations. We measure axis ratios of $z=0$ (snapshot 99) TNG50 galaxies from their synthetic Hyper Suprime-Cam Subaru Strategic Program (HSC-SSP) images and compare them with those obtained from real HSC-SSP images of a matched galaxy sample. Remarkably, the comparison shows excellent agreement between observations and the TNG50 simulation. Specifically, for galaxies with stellar masses $10\\leq \\log (M_{\\star}/M_{\\odot}) \\leq 11.5$, we find $\\lesssim 0.1\\sigma$ tensions between the observation and the simulation, whereas previous studies found $\\gtrsim 10\\sigma$ tensions due to lack of thin galaxies in simulations. We reveal that low-mass galaxies ($M_{\\star}\\lesssim 10^{9.5}$) in TNG50 are thicker than their observed counterparts in HSC-SSP and attribute this to the spurious dynamical heating effects that artificially puff up galaxies. We also find that despite the overall broad agreement, TNG50 galaxies are more concentrated than the HSC-SSP ones at the low- and high-mass end of the stellar mass range of $9.0\\leq \\log (M_{\\star}/M_{\\odot}) \\leq 11.2$ and are less concentrated at intermediate stellar masses. But we argue that the higher concentrations of the low-mass TNG50 galaxies are not likely the cause of their thicker/rounder appearances. Our study underscores the critical importance of conducting mock observations of simulations and applying consistent measurement methodologies to facilitate proper comparison with observations.         |\n",
       "|<p style=\"color:green\"> **ERROR** </p>| <p style=\"color:green\">affiliation error: mpia.affiliation_verifications: 'Heidelberg' keyword not found.</p> |"
      ],
      "text/plain": [
       "<IPython.core.display.Markdown object>"
      ]
     },
     "metadata": {},
     "output_type": "display_data"
    },
    {
     "data": {
      "text/markdown": [
       "\n",
       "|||\n",
       "|---:|:---|\n",
       "| [![arXiv](https://img.shields.io/badge/arXiv-2407.19388-b31b1b.svg)](https://arxiv.org/abs/2407.19388) | **A Phase-resolved View of \"Heartbeat\"-like variability in IGR J17091-3624 During the 2022 Outburst**  |\n",
       "|| Q.-C. Shui, et al. -- incl., <mark>J. Li</mark> |\n",
       "|*Appeared on*| *2024-07-30*|\n",
       "|*Comments*| *Accepted for publication in The Astrophysical Journal*|\n",
       "|**Abstract**|            IGR J17091-3624, in addition to GRS 1915+105, is the only black hole X-ray binary that displays ``heartbeat\"-like variability characterized by structured flares with high amplitudes. In this study, we conduct a detailed phase-resolved analysis of the recently identified ``heartbeat\"-like Class X variability in IGR J17091-3624 during its 2022 outburst, utilizing data from NICER and NuSTAR observations. A shortage in the high-energy (>20 keV) X-ray flux is detected at peak phases of the soft X-ray flare at a ~15 sigma confidence level from the phase-folded light curves. Furthermore, our phase-resolved spectral analysis reveals variations in the spectral shape, particularly showing significant synchronous variations in the disk temperature and flux with the count rate. These findings imply that the flare is primarily driven by instabilities within the accretion disk, consistent with previous studies on the well-known Class rho variability in GRS 1915+105. However, we also observe a positive correlation between the disk temperature and flux over the flare cycle, which differs from a loop relation between the two parameters found in the Class rho variability. This could suggest differences in underlying physical processes between the two variability classes. Variations in the Componization component during flares are also observed: the electron temperature and covering fraction show anti-correlations with the disk flux, revealing potential interactions between the accretion disk and the corona during these flares.         |\n",
       "|<p style=\"color:green\"> **ERROR** </p>| <p style=\"color:green\">affiliation error: mpia.affiliation_verifications: 'Heidelberg' keyword not found.</p> |"
      ],
      "text/plain": [
       "<IPython.core.display.Markdown object>"
      ]
     },
     "metadata": {},
     "output_type": "display_data"
    },
    {
     "data": {
      "text/markdown": [
       "\n",
       "|||\n",
       "|---:|:---|\n",
       "| [![arXiv](https://img.shields.io/badge/arXiv-2407.20118-b31b1b.svg)](https://arxiv.org/abs/2407.20118) | **Impact of Parameters in the Blazar Jet Magnetic Field Model on Axion-Like Particle Constraints**  |\n",
       "|| L.-Q. Gao, X.-J. Bi, <mark>J. Li</mark>, P.-F. Yin |\n",
       "|*Appeared on*| *2024-07-30*|\n",
       "|*Comments*| *9 pages, 7 figures*|\n",
       "|**Abstract**|            The interaction between axion-like particles (ALPs) and photons induces ALP-photon oscillations in astrophysical magnetic fields, leading to spectral distortions in the $\\gamma$-ray spectrum of blazars. The primary uncertainty of this phenomenon may originate from the magnetic field within the jet of the blazar. While many studies have explored the effects of ALP-photon oscillations using typical values for jet magnetic field parameters, it is important to recognize that these parameters can be constrained by multi-wavelength observations. In this study, we utilize the high energy $\\gamma$-ray spectrum of Mrk 421 obtained from MAGIC and Fermi-LAT observations. By employing multi-wavelength fitting with a one-zone synchrotron self-Compton model, we derive the parameters characterizing the magnetic field model within the jet, and investigate their impacts on the ALP constraints.         |\n",
       "|<p style=\"color:green\"> **ERROR** </p>| <p style=\"color:green\">affiliation error: mpia.affiliation_verifications: 'Heidelberg' keyword not found.</p> |"
      ],
      "text/plain": [
       "<IPython.core.display.Markdown object>"
      ]
     },
     "metadata": {},
     "output_type": "display_data"
    },
    {
     "data": {
      "text/markdown": [
       "\n",
       "|||\n",
       "|---:|:---|\n",
       "| [![arXiv](https://img.shields.io/badge/arXiv-2407.20220-b31b1b.svg)](https://arxiv.org/abs/2407.20220) | **Ionospheric contributions to the excess power in high-redshift 21-cm power-spectrum observations with LOFAR**  |\n",
       "|| S. Brackenhoff, et al. -- incl., <mark>S. Ghosh</mark> |\n",
       "|*Appeared on*| *2024-07-30*|\n",
       "|*Comments*| *22 pages, 20 figures. Accepted for publication in Monthly Notices of the Royal Astronomical Society (MNRAS)*|\n",
       "|**Abstract**|            The turbulent ionosphere causes phase shifts to incoming radio waves on a broad range of temporal and spatial scales. When an interferometer is not sufficiently calibrated for the direction-dependent ionospheric effects, the time-varying phase shifts can cause the signal to decorrelate. The ionosphere's influence over various spatiotemporal scales introduces a baseline-dependent effect on the interferometric array. We study the impact of baseline-dependent decorrelation on high-redshift observations with the Low Frequency Array (LOFAR). Datasets with a range of ionospheric corruptions are simulated using a thin-screen ionosphere model, and calibrated using the state-of-the-art LOFAR Epoch of Reionisation pipeline. For the first time ever, we show the ionospheric impact on various stages of the calibration process including an analysis of the transfer of gain errors from longer to shorter baselines using realistic end-to-end simulations. We find that direction-dependent calibration for source subtraction leaves excess power of up to two orders of magnitude above the thermal noise at the largest spectral scales in the cylindrically averaged auto-power spectrum under normal ionospheric conditions. However, we demonstrate that this excess power can be removed through Gaussian process regression, leaving no excess power above the ten per cent level for a $5~$km diffractive scale. We conclude that ionospheric errors, in the absence of interactions with other aggravating effects, do not constitute a dominant component in the excess power observed in LOFAR Epoch of Reionisation observations of the North Celestial Pole. Future work should therefore focus on less spectrally smooth effects, such as beam modelling errors.         |\n",
       "|<p style=\"color:red\"> **ERROR** </p>| <p style=\"color:red\">latex error 'PosixPath' object is not subscriptable</p> |"
      ],
      "text/plain": [
       "<IPython.core.display.Markdown object>"
      ]
     },
     "metadata": {},
     "output_type": "display_data"
    }
   ],
   "source": [
    "import datetime\n",
    "today = str(datetime.date.today())\n",
    "logfile = f\"_build/html/logs/log-{today}.md\"\n",
    "\n",
    "\n",
    "with open(logfile, 'w') as logs:\n",
    "    # Success\n",
    "    logs.write(f'# Arxiv on Deck 2: Logs - {today}\\n\\n')\n",
    "    logs.write(\"\"\"* Arxiv had {0:,d} new papers\\n\"\"\".format(len(new_papers)))\n",
    "    logs.write(\"\"\"    * {0:,d} with possible author matches\\n\\n\"\"\".format(len(candidates)))\n",
    "    logs.write(\"## Sucessful papers\\n\\n\")\n",
    "    display(Markdown(\"## Successful papers\"))\n",
    "    success = [k[0] for k in documents]\n",
    "    for candid in candidates:\n",
    "        if candid['identifier'].split(':')[-1] in success:\n",
    "            display(candid)\n",
    "            logs.write(candid.generate_markdown_text() + '\\n\\n')\n",
    "\n",
    "    ## failed\n",
    "    logs.write(\"## Failed papers\\n\\n\")\n",
    "    display(Markdown(\"## Failed papers\"))\n",
    "    failed = sorted(failed, key=lambda x: x[1])\n",
    "    current_reason = \"\"\n",
    "    for paper, reason in failed:\n",
    "        if 'affiliation' in reason:\n",
    "            color = 'green'\n",
    "        else:\n",
    "            color = 'red'\n",
    "        data = Markdown(\n",
    "                paper.generate_markdown_text() + \n",
    "                f'\\n|<p style=\"color:{color:s}\"> **ERROR** </p>| <p style=\"color:{color:s}\">{reason:s}</p> |'\n",
    "               )\n",
    "        if reason != current_reason:\n",
    "            logs.write(f'### {reason:s} \\n\\n')\n",
    "            current_reason = reason\n",
    "        logs.write(data.data + '\\n\\n')\n",
    "        \n",
    "        # only display here the important errors (all in logs)\n",
    "        # if color in ('red',):\n",
    "        display(data)"
   ]
  },
  {
   "cell_type": "markdown",
   "id": "472d20ee",
   "metadata": {
    "papermill": {
     "duration": 0.004965,
     "end_time": "2024-07-30T04:11:55.109306",
     "exception": false,
     "start_time": "2024-07-30T04:11:55.104341",
     "status": "completed"
    },
    "tags": []
   },
   "source": [
    "## Export documents\n",
    "\n",
    "We now write the .md files and export relevant images"
   ]
  },
  {
   "cell_type": "code",
   "execution_count": 7,
   "id": "d426aed9",
   "metadata": {
    "execution": {
     "iopub.execute_input": "2024-07-30T04:11:55.120431Z",
     "iopub.status.busy": "2024-07-30T04:11:55.120044Z",
     "iopub.status.idle": "2024-07-30T04:11:55.126661Z",
     "shell.execute_reply": "2024-07-30T04:11:55.126113Z"
    },
    "papermill": {
     "duration": 0.013538,
     "end_time": "2024-07-30T04:11:55.127948",
     "exception": false,
     "start_time": "2024-07-30T04:11:55.114410",
     "status": "completed"
    },
    "tags": []
   },
   "outputs": [],
   "source": [
    "def export_markdown_summary(md: str, md_fname:str, directory: str):\n",
    "    \"\"\"Export MD document and associated relevant images\"\"\"\n",
    "    import os\n",
    "    import shutil\n",
    "    import re\n",
    "\n",
    "    if (os.path.exists(directory) and not os.path.isdir(directory)):\n",
    "        raise RuntimeError(f\"a non-directory file exists with name {directory:s}\")\n",
    "\n",
    "    if (not os.path.exists(directory)):\n",
    "        print(f\"creating directory {directory:s}\")\n",
    "        os.mkdir(directory)\n",
    "\n",
    "    fig_fnames = (re.compile(r'\\[Fig.*\\]\\((.*)\\)').findall(md) + \n",
    "                  re.compile(r'\\<img src=\"([^>\\s]*)\"[^>]*/>').findall(md))\n",
    "    print(\"found figures\", fig_fnames)\n",
    "    for fname in fig_fnames:\n",
    "        if 'http' in fname:\n",
    "            # No need to copy online figures\n",
    "            continue\n",
    "        if not os.path.exists(fname):\n",
    "            print(\"file not found\", fname)\n",
    "            continue\n",
    "        print(\"copying \", fname, \"to\", directory)\n",
    "        destdir = os.path.join(directory, os.path.dirname(fname))\n",
    "        destfname = os.path.join(destdir, os.path.basename(fname))\n",
    "        try:\n",
    "            os.makedirs(destdir)\n",
    "        except FileExistsError:\n",
    "            pass\n",
    "        shutil.copy(fname, destfname)\n",
    "    with open(os.path.join(directory, md_fname), 'w') as fout:\n",
    "        fout.write(md)\n",
    "    print(\"exported in \", os.path.join(directory, md_fname))\n",
    "    [print(\"    + \" + os.path.join(directory,fk)) for fk in fig_fnames]"
   ]
  },
  {
   "cell_type": "code",
   "execution_count": 8,
   "id": "014d04a4",
   "metadata": {
    "execution": {
     "iopub.execute_input": "2024-07-30T04:11:55.139020Z",
     "iopub.status.busy": "2024-07-30T04:11:55.138784Z",
     "iopub.status.idle": "2024-07-30T04:11:55.154519Z",
     "shell.execute_reply": "2024-07-30T04:11:55.153975Z"
    },
    "papermill": {
     "duration": 0.022696,
     "end_time": "2024-07-30T04:11:55.155804",
     "exception": false,
     "start_time": "2024-07-30T04:11:55.133108",
     "status": "completed"
    },
    "tags": []
   },
   "outputs": [
    {
     "name": "stdout",
     "output_type": "stream",
     "text": [
      "found figures ['tmp_2407.19919/./figs/sigma_stat_sum1.png', 'tmp_2407.19919/./figs/sigma_stat_compl.png', 'tmp_2407.19919/./figs/gal_density_slice_z2neu.png', 'tmp_2407.19919/./figs/PCplotx_060.png', 'tmp_2407.19919/./figs/PCplotx_036.png', 'tmp_2407.19919/./figs/PCplotx_045.png']\n",
      "copying  tmp_2407.19919/./figs/sigma_stat_sum1.png to _build/html/\n",
      "copying  tmp_2407.19919/./figs/sigma_stat_compl.png to _build/html/\n",
      "copying  tmp_2407.19919/./figs/gal_density_slice_z2neu.png to _build/html/\n",
      "copying  tmp_2407.19919/./figs/PCplotx_060.png to _build/html/\n",
      "copying  tmp_2407.19919/./figs/PCplotx_036.png to _build/html/\n",
      "copying  tmp_2407.19919/./figs/PCplotx_045.png to _build/html/\n",
      "exported in  _build/html/2407.19919.md\n",
      "    + _build/html/tmp_2407.19919/./figs/sigma_stat_sum1.png\n",
      "    + _build/html/tmp_2407.19919/./figs/sigma_stat_compl.png\n",
      "    + _build/html/tmp_2407.19919/./figs/gal_density_slice_z2neu.png\n",
      "    + _build/html/tmp_2407.19919/./figs/PCplotx_060.png\n",
      "    + _build/html/tmp_2407.19919/./figs/PCplotx_036.png\n",
      "    + _build/html/tmp_2407.19919/./figs/PCplotx_045.png\n",
      "found figures ['tmp_2407.19969/./MgFe.png', 'tmp_2407.19969/./SiFe.png', 'tmp_2407.19969/./Mg_multiple.png', 'tmp_2407.19969/./Si_multiple.png', 'tmp_2407.19969/./SiFevsfiron.png', 'tmp_2407.19969/./firon.png']\n",
      "copying  tmp_2407.19969/./MgFe.png to _build/html/\n",
      "copying  tmp_2407.19969/./SiFe.png to _build/html/\n",
      "copying  tmp_2407.19969/./Mg_multiple.png to _build/html/\n",
      "copying  tmp_2407.19969/./Si_multiple.png to _build/html/\n",
      "copying  tmp_2407.19969/./SiFevsfiron.png to _build/html/\n",
      "copying  tmp_2407.19969/./firon.png to _build/html/\n",
      "exported in  _build/html/2407.19969.md\n",
      "    + _build/html/tmp_2407.19969/./MgFe.png\n",
      "    + _build/html/tmp_2407.19969/./SiFe.png\n",
      "    + _build/html/tmp_2407.19969/./Mg_multiple.png\n",
      "    + _build/html/tmp_2407.19969/./Si_multiple.png\n",
      "    + _build/html/tmp_2407.19969/./SiFevsfiron.png\n",
      "    + _build/html/tmp_2407.19969/./firon.png\n",
      "found figures ['tmp_2407.20066/./plots/obs_vs_lab_mix_2col.png', 'tmp_2407.20066/./plots/steps_summary_v3.png', 'tmp_2407.20066/./plots/obs_vs_lab_T_1.png']\n",
      "copying  tmp_2407.20066/./plots/obs_vs_lab_mix_2col.png to _build/html/\n",
      "copying  tmp_2407.20066/./plots/steps_summary_v3.png to _build/html/\n",
      "copying  tmp_2407.20066/./plots/obs_vs_lab_T_1.png to _build/html/\n",
      "exported in  _build/html/2407.20066.md\n",
      "    + _build/html/tmp_2407.20066/./plots/obs_vs_lab_mix_2col.png\n",
      "    + _build/html/tmp_2407.20066/./plots/steps_summary_v3.png\n",
      "    + _build/html/tmp_2407.20066/./plots/obs_vs_lab_T_1.png\n"
     ]
    }
   ],
   "source": [
    "for paper_id, md in documents:\n",
    "    export_markdown_summary(md, f\"{paper_id:s}.md\", '_build/html/')"
   ]
  },
  {
   "cell_type": "markdown",
   "id": "f087a0a7",
   "metadata": {
    "papermill": {
     "duration": 0.005033,
     "end_time": "2024-07-30T04:11:55.166147",
     "exception": false,
     "start_time": "2024-07-30T04:11:55.161114",
     "status": "completed"
    },
    "tags": []
   },
   "source": [
    "## Display the papers\n",
    "\n",
    "Not necessary but allows for a quick check."
   ]
  },
  {
   "cell_type": "code",
   "execution_count": 9,
   "id": "fd25f625",
   "metadata": {
    "execution": {
     "iopub.execute_input": "2024-07-30T04:11:55.177725Z",
     "iopub.status.busy": "2024-07-30T04:11:55.177324Z",
     "iopub.status.idle": "2024-07-30T04:11:55.184120Z",
     "shell.execute_reply": "2024-07-30T04:11:55.183608Z"
    },
    "papermill": {
     "duration": 0.014016,
     "end_time": "2024-07-30T04:11:55.185395",
     "exception": false,
     "start_time": "2024-07-30T04:11:55.171379",
     "status": "completed"
    },
    "scrolled": false,
    "tags": []
   },
   "outputs": [
    {
     "data": {
      "text/markdown": [
       "<div class=\"macros\" style=\"visibility:hidden;\">\n",
       "$\\newcommand{\\ensuremath}{}$\n",
       "$\\newcommand{\\xspace}{}$\n",
       "$\\newcommand{\\object}[1]{\\texttt{#1}}$\n",
       "$\\newcommand{\\farcs}{{.}''}$\n",
       "$\\newcommand{\\farcm}{{.}'}$\n",
       "$\\newcommand{\\arcsec}{''}$\n",
       "$\\newcommand{\\arcmin}{'}$\n",
       "$\\newcommand{\\ion}[2]{#1#2}$\n",
       "$\\newcommand{\\textsc}[1]{\\textrm{#1}}$\n",
       "$\\newcommand{\\hl}[1]{\\textrm{#1}}$\n",
       "$\\newcommand{\\footnote}[1]{}$\n",
       "$\\newcommand{\\orcid}[1]$</div>\n",
       "\n",
       "\n",
       "\n",
       "<div id=\"title\">\n",
       "\n",
       "# $\\Euclid$ preparation. Exploring the properties of proto-clusters in the Simulated   Euclid Wide Survey\n",
       "\n",
       "</div>\n",
       "<div id=\"comments\">\n",
       "\n",
       "[![arXiv](https://img.shields.io/badge/arXiv-2407.19919-b31b1b.svg)](https://arxiv.org/abs/2407.19919)<mark>Appeared on: 2024-07-30</mark> -  _Submitted to Astronomy and Astrophysics, 24 pages, 28 figures_\n",
       "\n",
       "</div>\n",
       "<div id=\"authors\">\n",
       "\n",
       "E. Collaboration, et al. -- incl., <mark>E. Bañados</mark>, <mark>K. Jahnke</mark>\n",
       "\n",
       "</div>\n",
       "<div id=\"abstract\">\n",
       "\n",
       "**Abstract:** Galaxy proto-clusters are receiving an increased interest since most of the processes shaping the structure of clusters of galaxies and their galaxy population are happening at early stages of their formation.The Euclid Survey will provide a unique opportunity to discover a large number of proto-clusters over a large fraction of the sky ( 14 500 deg $^2$ ).In this paper, we explore the expected observational properties of proto-clusters in the Euclid Wide Survey by means of theoretical models and simulations.We provide an overview of the predicted proto-cluster extent, galaxy density profiles, mass-richness relations, abundance, and sky-filling as a function of redshift.Useful analytical approximations for the functions of these properties are provided.The focus is on the redshift range $z= 1.5$ to $4$ .We discuss in particular the density contrast with which proto-clusters can be observed against the background in the galaxy distribution if photometric galaxy redshifts are used as supplied by the ESA $\\Euclid$ mission together with the ground-based photometric surveys.We show that the obtainable detection significance is sufficient to findlarge numbers of interesting proto-cluster candidates.For quantitative studies, additional spectroscopic follow-up is required to confirm the proto-clusters and establish their richness.\n",
       "\n",
       "</div>\n",
       "\n",
       "<div id=\"div_fig1\">\n",
       "\n",
       "<img src=\"tmp_2407.19919/./figs/sigma_stat_sum1.png\" alt=\"Fig13.1\" width=\"50%\"/><img src=\"tmp_2407.19919/./figs/sigma_stat_compl.png\" alt=\"Fig13.2\" width=\"50%\"/>\n",
       "\n",
       "**Figure 13. -** ** Top:** Detection significance of proto-clusters as a function of aperture radius for three different redshift intervals.\n",
       "The solid curves show the mean significance, while the dashed curves show the maxima.\n",
       "A redshift interval of $\\Delta_{z (50\\%)}$ was used.\n",
       "** Bottom:** Mean detection significance of proto-clusters as a function of the completeness limit, $\\Delta{z (X\\%)}$, in the range 30 to 90\\% for three redshift intervals. The solid lines show the results for an aperture radius of 0.5 $r_{\\rm pc}$ and dashed lines for 1 $r_{\\rm pc}$.\n",
       " (*fig23*)\n",
       "\n",
       "</div>\n",
       "<div id=\"div_fig2\">\n",
       "\n",
       "<img src=\"tmp_2407.19919/./figs/gal_density_slice_z2neu.png\" alt=\"Fig22\" width=\"100%\"/>\n",
       "\n",
       "**Figure 22. -** Proto-clusters and their galaxies in a redshift slice around $z = 2$ with a redshift range according to the photometric redshift accuracy limits for 50\\% completeness and $M_{\\rm pc} \\ge 10^{14}$\\si{\\solarmass}.\n",
       "The dense core regions inside $r \\le 0.5 r_{\\rm pc}$ are shown by black circles and red dots for the galaxies, while the outer regions are shown in grey.\n",
       " (*fig32*)\n",
       "\n",
       "</div>\n",
       "<div id=\"div_fig3\">\n",
       "\n",
       "<img src=\"tmp_2407.19919/./figs/PCplotx_060.png\" alt=\"Fig28.1\" width=\"33%\"/><img src=\"tmp_2407.19919/./figs/PCplotx_036.png\" alt=\"Fig28.2\" width=\"33%\"/><img src=\"tmp_2407.19919/./figs/PCplotx_045.png\" alt=\"Fig28.3\" width=\"33%\"/>\n",
       "\n",
       "**Figure 28. -** \n",
       "Examples of three proto-clusters for the categories 3 to 5. The category and the redshift of the proto-clusters is given in the legend of the Figure.\n",
       " (*fig52*)\n",
       "\n",
       "</div><div id=\"qrcode\"><img src=https://api.qrserver.com/v1/create-qr-code/?size=100x100&data=\"https://arxiv.org/abs/2407.19919\"></div>"
      ],
      "text/plain": [
       "<IPython.core.display.Markdown object>"
      ]
     },
     "metadata": {},
     "output_type": "display_data"
    },
    {
     "data": {
      "text/markdown": [
       "<div class=\"macros\" style=\"visibility:hidden;\">\n",
       "$\\newcommand{\\ensuremath}{}$\n",
       "$\\newcommand{\\xspace}{}$\n",
       "$\\newcommand{\\object}[1]{\\texttt{#1}}$\n",
       "$\\newcommand{\\farcs}{{.}''}$\n",
       "$\\newcommand{\\farcm}{{.}'}$\n",
       "$\\newcommand{\\arcsec}{''}$\n",
       "$\\newcommand{\\arcmin}{'}$\n",
       "$\\newcommand{\\ion}[2]{#1#2}$\n",
       "$\\newcommand{\\textsc}[1]{\\textrm{#1}}$\n",
       "$\\newcommand{\\hl}[1]{\\textrm{#1}}$\n",
       "$\\newcommand{\\footnote}[1]{}$</div>\n",
       "\n",
       "\n",
       "\n",
       "<div id=\"title\">\n",
       "\n",
       "# The CARMENES search for exoplanets around M dwarfs$\\fnmsep$$\\thanks{Table \\ref{tab:sample} is only available in electronic form at the CDS via anonymous ftp to cdsarc.u-strasbg.fr (130.79.128.5) or via http://cdsweb.u-strasbg.fr/cgi-bin/qcat?J/A+A/.}$\n",
       "\n",
       "</div>\n",
       "<div id=\"comments\">\n",
       "\n",
       "[![arXiv](https://img.shields.io/badge/arXiv-2407.19969-b31b1b.svg)](https://arxiv.org/abs/2407.19969)<mark>Appeared on: 2024-07-30</mark> -  _11 Pages, 5 figures. Accepted for publication in A&A_\n",
       "\n",
       "</div>\n",
       "<div id=\"authors\">\n",
       "\n",
       "H. M. Tabernero, et al. -- incl., <mark>T. Henning</mark>\n",
       "\n",
       "</div>\n",
       "<div id=\"abstract\">\n",
       "\n",
       "**Abstract:**            We present the abundances of magnesium (Mg) and silicon (Si) for 314 dwarf stars with spectral types in the interval K7.0-M5.5 (Teff range ~4200-3050 K) observed with the CARMENES high-resolution spectrograph at the 3.5 m telescope at the Calar Alto Observatory. Our analysis employs the BT-Settl model atmospheres, the radiative transfer code Turbospectrum, and a state-of-the-art selection of atomic and molecular data. These Mg and Si abundances are critical for understanding both the chemical evolution and assembly of the Milky Way and the formation and composition of rocky planets. Our chemical abundances show a line-to-line scatter at the level of 0.1 dex for all studied spectral types. The typical error bar of our chemical abundance measurements is +- 0.11 dex (Mg) and +- 0.16 dex (Si) for all spectral types based on the comparison of the results obtained for stellar components of multiple systems. The derived abundances are consistent with the galactic evolution trends and observed chemical abundance distribution of earlier FGK-type stars in the solar neighbourhood. Besides, our analysis provides compatible abundances for stars in multiple systems. In addition, we studied the abundances of different galactic stellar populations. In this paper, we also explore the relation of the Mg and Si abundances of stars with and without known planets.         \n",
       "\n",
       "</div>\n",
       "\n",
       "<div id=\"div_fig1\">\n",
       "\n",
       "<img src=\"tmp_2407.19969/./MgFe.png\" alt=\"Fig1.1\" width=\"50%\"/><img src=\"tmp_2407.19969/./SiFe.png\" alt=\"Fig1.2\" width=\"50%\"/>\n",
       "\n",
       "**Figure 1. -** [X/Fe] vs. [Fe/H] for both Mg (top panel) and Si (bottom panel). Our target stars are represented by orange circles while the black open circles correspond to the abundances derived by for 1 111 FGK stars calculated by \\citet{adi12}.  The typical error bar for each abundance is displayed in the bottom right of each panel. (*fig:abundances*)\n",
       "\n",
       "</div>\n",
       "<div id=\"div_fig2\">\n",
       "\n",
       "<img src=\"tmp_2407.19969/./Mg_multiple.png\" alt=\"Fig2.1\" width=\"50%\"/><img src=\"tmp_2407.19969/./Si_multiple.png\" alt=\"Fig2.2\" width=\"50%\"/>\n",
       "\n",
       "**Figure 2. -** Comparison in both [Mg/H](top panel) and [Si/H](bottom panel) between the components in FGK$+$M (blue) and M$+$M (orange) systems. (*fig:binary*)\n",
       "\n",
       "</div>\n",
       "<div id=\"div_fig3\">\n",
       "\n",
       "<img src=\"tmp_2407.19969/./SiFevsfiron.png\" alt=\"Fig4.1\" width=\"50%\"/><img src=\"tmp_2407.19969/./firon.png\" alt=\"Fig4.2\" width=\"50%\"/>\n",
       "\n",
       "**Figure 4. -** Top panel: [Si/Fe] vs. $f_{\\rm iron}$. The target stars are in orange while the black points correspond to the $f_{\\rm iron}$ values computed from the \\citet{adi12} abundances. The fit through the M dwarf values is denoted with a blue line. Bottom panel: Histogram for the $f_{\\rm iron}$ values of our sample. (*fig:firon1*)\n",
       "\n",
       "</div><div id=\"qrcode\"><img src=https://api.qrserver.com/v1/create-qr-code/?size=100x100&data=\"https://arxiv.org/abs/2407.19969\"></div>"
      ],
      "text/plain": [
       "<IPython.core.display.Markdown object>"
      ]
     },
     "metadata": {},
     "output_type": "display_data"
    },
    {
     "data": {
      "text/markdown": [
       "<div class=\"macros\" style=\"visibility:hidden;\">\n",
       "$\\newcommand{\\ensuremath}{}$\n",
       "$\\newcommand{\\xspace}{}$\n",
       "$\\newcommand{\\object}[1]{\\texttt{#1}}$\n",
       "$\\newcommand{\\farcs}{{.}''}$\n",
       "$\\newcommand{\\farcm}{{.}'}$\n",
       "$\\newcommand{\\arcsec}{''}$\n",
       "$\\newcommand{\\arcmin}{'}$\n",
       "$\\newcommand{\\ion}[2]{#1#2}$\n",
       "$\\newcommand{\\textsc}[1]{\\textrm{#1}}$\n",
       "$\\newcommand{\\hl}[1]{\\textrm{#1}}$\n",
       "$\\newcommand{\\footnote}[1]{}$\n",
       "$\\newcommand{\\stkout}[1]{\\ifmmode\\text{\\sout{\\ensuremath{#1}}}\\else\\sout{#1}\\fi}$\n",
       "$\\newcommand{\\edited}[2]{\\ifthenelse{\\isempty{#1}}{\\textbf{#2}}{\\ifthenelse{\\isempty{#2}}{\\textcolor{gray}{\\stkout{#1}}}{\\textcolor{gray}{\\stkout{#1}} \\textbf{#2}}}}$\n",
       "$\\newcommand{\\highlight}[1]{\\uline{#1}}$\n",
       "$\\newcommand{\\replacedecimal}[2]{\\ifthenelse{\\isin{.}{#1}}{\\text{\\StrBefore{#1}{.}}\\ensuremath{\\overset{#2}{.}}\\text{\\StrBehind{#1}{.}}}{#1\\ensuremath{^{#2}}}}$\n",
       "$\\newcommand{\\hms}[3]{\\ensuremath{#1\\overset{\\text{h}}{\\phantom{.}}#2\\overset{\\text{m}}{\\phantom{.}}\\replacedecimal{#3}{\\text{s}}}}$\n",
       "$\\newcommand{\\dms}[3]{\\ensuremath{#1\\overset{\\circ}{\\phantom{.}}#2\\overset{\\prime}{\\phantom{.}}\\replacedecimal{#3}{\\prime\\prime}}}$\n",
       "$\\newcommand{\\arraystretch}{1.6}$</div>\n",
       "\n",
       "\n",
       "\n",
       "<div id=\"title\">\n",
       "\n",
       "# JOYS+: link between ice and gas of complex organic molecules\n",
       "\n",
       "</div>\n",
       "<div id=\"comments\">\n",
       "\n",
       "[![arXiv](https://img.shields.io/badge/arXiv-2407.20066-b31b1b.svg)](https://arxiv.org/abs/2407.20066)<mark>Appeared on: 2024-07-30</mark> -  _42 pages (22 main text, 20 appendix); 27 figures (12 in main text, 15 in appendix); 5 tables (2 in main text, 3 in appendix) Accepted for publication in A&A_\n",
       "\n",
       "</div>\n",
       "<div id=\"authors\">\n",
       "\n",
       "Y. Chen, et al. -- incl., <mark>H. Beuther</mark>, <mark>G. Perotti</mark>, <mark>T. Henning</mark>\n",
       "\n",
       "</div>\n",
       "<div id=\"abstract\">\n",
       "\n",
       "**Abstract:** A rich inventory of complex organic molecules (COMs) has been observed in high abundances in the gas phase toward Class 0 protostars. These molecules are suggested to be formed in ices and sublimate in the warm inner envelope close to the protostar. However, only the most abundant COM, methanol ( $\\ce{CH3OH}$ ), has been firmly detected in ices before the era of _James Webb_ Space Telescope (JWST). Now it is possible to detect the interstellar ices of other COMs and constrain their ice column densities quantitatively. We aim to determine the column densities of several oxygen-bearing COMs (O-COMs) in both gas and ice for two low-mass protostellar sources, NGC 1333 IRAS 2A (hereafter IRAS 2A) and B1-c, as case studies in our JWST Observations of Young protoStars (JOYS+) program. By comparing the column density ratios with respect to $\\ce{CH3OH}$ between both phases measured in the same sources, we can probe into the evolution of COMs from ice to gas in the early stages of star formation. The column densities of COMs in gas and ice are derived by fitting the spectra observed by the Atacama Large Millimeter/submillimeter Array (ALMA) and the JWST/Mid-InfraRed Instrument-Medium Resolution Spectroscopy (MIRI-MRS), respectively. The gas-phase emission lines are fit using local thermal equilibrium (LTE) models, and the ice absorption bands are fit by matching the infrared spectra measured in laboratories. The column density ratios of four O-COMs ( $\\ce{CH3CHO}$ , $\\ce{C2H5OH}$ , $\\ce{CH3OCH3}$ , and $\\ce{CH3OCHO}$ ) with respect to $\\ce{CH3OH}$ are compared between ice and gas in IRAS 2A and B1-c. We are able to fit the fingerprints range of COM ices between 6.8 and 8.8 $\\mu m$ in the JWST/MIRI-MRS spectra of B1-c using similar components as recently used for NGC 1333 IRAS 2A. We claim detection of $\\ce{CH4}$ , $\\ce{OCN^-}$ , $\\ce{HCOO^-}$ , $\\ce{HCOOH}$ , $\\ce{CH3CHO}$ , $\\ce{C2H5OH}$ , $\\ce{CH3OCH3}$ , $\\ce{CH3OCHO}$ , and $\\ce{CH3COCH3}$ in B1-c, and upper limits are estimated for $\\ce{SO2}$ , $\\ce{CH3COOH}$ , and $\\ce{CH3CN}$ . The total abundance of O-COM ices is constrained to be 15 \\% with respect to $\\ce{H2O}$ ice, 80 \\% of which is dominated by $\\ce{CH3OH}$ . The comparison of O-COM ratios with respect to $\\ce{CH3OH}$ between ice and gas shows two different cases. On one hand, the column density ratios of $\\ce{CH3OCHO}$ and $\\ce{CH3OCH3}$ match well between the two phases, which may be attributed to a direct inheritance from ice to gas or strong chemical links with $\\ce{CH3OH}$ . On the other hand, the ice ratios of $\\ce{CH3CHO}$ and $\\ce{C2H5OH}$ with respect to $\\ce{CH3OH}$ are higher than the gas ratios by 1--2 orders of magnitudes. This difference can be explained by the gas-phase reprocessing following sublimation, or different spatial distributions of COMs in the envelope, which is an observational effect since ALMA and JWST are tracing different components in a protostellar system. The firm detection of COM ices other than $\\ce{CH3OH}$ is reported in another well-studied low-mass protostar, B1-c, following the recent detection in NGC 1333 IRAS 2A. The column density ratios of four O-COMs with respect to $\\ce{CH3OH}$ show both similarities and differences between gas and ice. Although the straightforward explanations would be the direct inheritance from ice to gas and the gas-phase reprocessing, respectively, other possibilities such as different spatial distributions of molecules cannot be excluded.\n",
       "\n",
       "</div>\n",
       "\n",
       "<div id=\"div_fig1\">\n",
       "\n",
       "<img src=\"tmp_2407.20066/./plots/obs_vs_lab_mix_2col.png\" alt=\"Fig13\" width=\"100%\"/>\n",
       "\n",
       "**Figure 13. -** Comparison between the JWST/MIRI spectrum of B1-c (gray) and the lab spectra (colors) in the COMs fingerprints range of 6.8--8.8 $\\mu$m. Each panel focuses on one species and shows the comparison between the observed B1-c spectrum and the lab spectra with different mixing constituents; except for panel (c) which shows the lab spectra of \\ce{HCOO^-} under different temperatures. The observed spectrum along with the 3$\\sigma$ level is shown in light gray; except for panel (a), which blows up the \\ce{CH4} band at $\\sim$7.7 $\\mu$ and the observed spectrum is plotted in black for clarity. In each panel, the spectrum in blue corresponds to the pure ice, and the best-fit spectrum to the observations is highlighted with a thicker red line. Similar comparison but for lab spectra under different temperatures is shown in Figs. \\ref{fig:obs_vs_lab_T_1} and \\ref{fig:obs_vs_lab_T_2}. (*fig:obs_vs_lab_mix*)\n",
       "\n",
       "</div>\n",
       "<div id=\"div_fig2\">\n",
       "\n",
       "<img src=\"tmp_2407.20066/./plots/steps_summary_v3.png\" alt=\"Fig1\" width=\"100%\"/>\n",
       "\n",
       "**Figure 1. -** Panels (a)--(d) show the four steps to isolate the fingerprints range of COM ices between 6.8 and 8.8 $\\mu$m from the original JWST/MIRI-MRS spectrum of B1-c: (a) fit a global continuum and convert the spectrum to optical depth scale; (b) subtract silicate features at $\\sim$9.8 and 18 $\\mu$m; (c) trace a local continuum in the 6.8--8.8 $\\mu$m range to isolate the weak bands of COM ices from other strong features; (d) trace a baseline of the gas-phase lines in absorption to restore the band profiles of ices. Panel (e) shows the isolation of the \\ce{CH3OH} ice band at 9.74 $\\mu$m by tracing a local continuum. Orange shaded regions in panels (a) and (e) show the selected wavelength ranges for the polynomial fitting. (*fig:fitting_steps*)\n",
       "\n",
       "</div>\n",
       "<div id=\"div_fig3\">\n",
       "\n",
       "<img src=\"tmp_2407.20066/./plots/obs_vs_lab_T_1.png\" alt=\"Fig14\" width=\"100%\"/>\n",
       "\n",
       "**Figure 14. -** Same as Fig. \\ref{fig:obs_vs_lab_mix} but for comparison among different temperatures. Here we take two species, \\ce{CH3OCHO} and \\ce{C2H5OH}, as examples; the remaining species (\\ce{CH3CHO}, \\ce{CH3OCH3}, and \\ce{CH3COCH3}) are shown in Fig. \\ref{fig:obs_vs_lab_T_2}. The left and right columns show the lab spectra of pure ices and ice mixtures, respectively. In the pure-ice panels, the spectra with crystalline features are highlighted in thicker red lines. The corresponding temperatures indicate the upper limit of crystallines. In the mixed-ice panels, the spectra with the lowest temperature (15 K) are highlighted in thicker blue lines; they are also the spectra used in the overall fitting. (*fig:obs_vs_lab_T_1*)\n",
       "\n",
       "</div><div id=\"qrcode\"><img src=https://api.qrserver.com/v1/create-qr-code/?size=100x100&data=\"https://arxiv.org/abs/2407.20066\"></div>"
      ],
      "text/plain": [
       "<IPython.core.display.Markdown object>"
      ]
     },
     "metadata": {},
     "output_type": "display_data"
    }
   ],
   "source": [
    "[display(Markdown(k[1])) for k in documents];"
   ]
  },
  {
   "cell_type": "markdown",
   "id": "873873a4",
   "metadata": {
    "papermill": {
     "duration": 0.005551,
     "end_time": "2024-07-30T04:11:55.196735",
     "exception": false,
     "start_time": "2024-07-30T04:11:55.191184",
     "status": "completed"
    },
    "tags": []
   },
   "source": [
    "# Create HTML index"
   ]
  },
  {
   "cell_type": "code",
   "execution_count": 10,
   "id": "cf665672",
   "metadata": {
    "execution": {
     "iopub.execute_input": "2024-07-30T04:11:55.208738Z",
     "iopub.status.busy": "2024-07-30T04:11:55.208413Z",
     "iopub.status.idle": "2024-07-30T04:11:55.215617Z",
     "shell.execute_reply": "2024-07-30T04:11:55.215013Z"
    },
    "papermill": {
     "duration": 0.014743,
     "end_time": "2024-07-30T04:11:55.217028",
     "exception": false,
     "start_time": "2024-07-30T04:11:55.202285",
     "status": "completed"
    },
    "tags": []
   },
   "outputs": [
    {
     "name": "stdout",
     "output_type": "stream",
     "text": [
      "149  publications files modified in the last 7 days.\n"
     ]
    }
   ],
   "source": [
    "from datetime import datetime, timedelta, timezone\n",
    "from glob import glob\n",
    "import os\n",
    "\n",
    "files = glob('_build/html/*.md')\n",
    "days = 7\n",
    "now = datetime.today()\n",
    "res = []\n",
    "for fk in files:\n",
    "    stat_result = os.stat(fk).st_ctime\n",
    "    modified = datetime.fromtimestamp(stat_result, tz=timezone.utc).replace(tzinfo=None)\n",
    "    delta = now.today() - modified\n",
    "    if delta <= timedelta(days=days):\n",
    "        res.append((delta.seconds, fk))\n",
    "res = [k[1] for k in reversed(sorted(res, key=lambda x:x[1]))]\n",
    "npub = len(res)\n",
    "print(len(res), f\" publications files modified in the last {days:d} days.\")\n",
    "# [ print('\\t', k) for k in res ];"
   ]
  },
  {
   "cell_type": "code",
   "execution_count": 11,
   "id": "015de740",
   "metadata": {
    "execution": {
     "iopub.execute_input": "2024-07-30T04:11:55.229623Z",
     "iopub.status.busy": "2024-07-30T04:11:55.229162Z",
     "iopub.status.idle": "2024-07-30T04:11:55.242384Z",
     "shell.execute_reply": "2024-07-30T04:11:55.241886Z"
    },
    "papermill": {
     "duration": 0.020851,
     "end_time": "2024-07-30T04:11:55.243695",
     "exception": false,
     "start_time": "2024-07-30T04:11:55.222844",
     "status": "completed"
    },
    "tags": []
   },
   "outputs": [
    {
     "name": "stdout",
     "output_type": "stream",
     "text": [
      "11  publications in the last 7 days.\n"
     ]
    }
   ],
   "source": [
    "import datetime\n",
    "from glob import glob\n",
    "\n",
    "def get_last_n_days(lst, days=1):\n",
    "    \"\"\" Get the documents from the last n days \"\"\"\n",
    "    sorted_lst = sorted(lst, key=lambda x: x[1], reverse=True)\n",
    "    for fname, date in sorted_lst:\n",
    "        if date >= str(datetime.date.today() - datetime.timedelta(days=days)):\n",
    "            yield fname\n",
    "\n",
    "def extract_appearance_dates(lst_file):\n",
    "    dates = []\n",
    "\n",
    "    def get_date(line):\n",
    "        return line\\\n",
    "            .split('Appeared on:')[-1]\\\n",
    "            .split('</mark>')[0].strip()\n",
    "\n",
    "    for fname in lst:\n",
    "        with open(fname, 'r') as f:\n",
    "            found_date = False\n",
    "            for line in f:\n",
    "                if not found_date:\n",
    "                    if \"Appeared on\" in line:\n",
    "                        found_date = True\n",
    "                        dates.append((fname, get_date(line)))\n",
    "                else:\n",
    "                    break\n",
    "    return dates\n",
    "\n",
    "from glob import glob\n",
    "lst = glob('_build/html/*md')\n",
    "days = 7\n",
    "dates = extract_appearance_dates(lst)\n",
    "res = list(get_last_n_days(dates, days))\n",
    "npub = len(res)\n",
    "print(len(res), f\" publications in the last {days:d} days.\")"
   ]
  },
  {
   "cell_type": "code",
   "execution_count": 12,
   "id": "52ca0208",
   "metadata": {
    "execution": {
     "iopub.execute_input": "2024-07-30T04:11:55.256289Z",
     "iopub.status.busy": "2024-07-30T04:11:55.255912Z",
     "iopub.status.idle": "2024-07-30T04:11:55.260649Z",
     "shell.execute_reply": "2024-07-30T04:11:55.260071Z"
    },
    "papermill": {
     "duration": 0.012483,
     "end_time": "2024-07-30T04:11:55.262021",
     "exception": false,
     "start_time": "2024-07-30T04:11:55.249538",
     "status": "completed"
    },
    "scrolled": false,
    "tags": []
   },
   "outputs": [],
   "source": [
    "def create_carousel(npub=4):\n",
    "    \"\"\" Generate the HTML code for a carousel with `npub` slides \"\"\"\n",
    "    carousel = [\"\"\"  <div class=\"carousel\" \"\"\",\n",
    "                \"\"\"       data-flickity='{ \"autoPlay\": 10000, \"adaptiveHeight\": true, \"resize\": true, \"wrapAround\": true, \"pauseAutoPlayOnHover\": true, \"groupCells\": 1 }' id=\"asyncTypeset\">\"\"\"\n",
    "                ]\n",
    "    \n",
    "    item_str = \"\"\"    <div class=\"carousel-cell\"> <div id=\"slide{k}\" class=\"md_view\">Content {k}</div> </div>\"\"\"\n",
    "    for k in range(1, npub + 1):\n",
    "        carousel.append(item_str.format(k=k))\n",
    "    carousel.append(\"  </div>\")\n",
    "    return '\\n'.join(carousel)\n",
    "\n",
    "def create_grid(npub=4):\n",
    "    \"\"\" Generate the HTML code for a flat grid with `npub` slides \"\"\"\n",
    "    grid = [\"\"\"  <div class=\"grid\"> \"\"\",\n",
    "                ]\n",
    "    \n",
    "    item_str = \"\"\"    <div class=\"grid-item\"> <div id=\"slide{k}\" class=\"md_view\">Content {k}</div> </div>\"\"\"\n",
    "    for k in range(1, npub + 1):\n",
    "        grid.append(item_str.format(k=k))\n",
    "    grid.append(\"  </div>\")\n",
    "    return '\\n'.join(grid)"
   ]
  },
  {
   "cell_type": "code",
   "execution_count": 13,
   "id": "a6eac5b6",
   "metadata": {
    "execution": {
     "iopub.execute_input": "2024-07-30T04:11:55.274723Z",
     "iopub.status.busy": "2024-07-30T04:11:55.274350Z",
     "iopub.status.idle": "2024-07-30T04:11:55.279301Z",
     "shell.execute_reply": "2024-07-30T04:11:55.278782Z"
    },
    "papermill": {
     "duration": 0.012632,
     "end_time": "2024-07-30T04:11:55.280541",
     "exception": false,
     "start_time": "2024-07-30T04:11:55.267909",
     "status": "completed"
    },
    "scrolled": false,
    "tags": []
   },
   "outputs": [],
   "source": [
    "carousel = create_carousel(npub)\n",
    "docs = ', '.join(['\"{0:s}\"'.format(k.split('/')[-1]) for k in res])\n",
    "slides = ', '.join([f'\"slide{k}\"' for k in range(1, npub + 1)])\n",
    "\n",
    "with open(\"daily_template.html\", \"r\") as tpl:\n",
    "    page = tpl.read()\n",
    "    page = page.replace(\"{%-- carousel:s --%}\", carousel)\\\n",
    "               .replace(\"{%-- suptitle:s --%}\",  \"7-day archives\" )\\\n",
    "               .replace(\"{%-- docs:s --%}\", docs)\\\n",
    "               .replace(\"{%-- slides:s --%}\", slides)\n",
    "    \n",
    "with open(\"_build/html/index_7days.html\", 'w') as fout:\n",
    "    fout.write(page)"
   ]
  },
  {
   "cell_type": "code",
   "execution_count": 14,
   "id": "adc1a1ec",
   "metadata": {
    "execution": {
     "iopub.execute_input": "2024-07-30T04:11:55.293635Z",
     "iopub.status.busy": "2024-07-30T04:11:55.293106Z",
     "iopub.status.idle": "2024-07-30T04:11:55.299317Z",
     "shell.execute_reply": "2024-07-30T04:11:55.298766Z"
    },
    "papermill": {
     "duration": 0.014111,
     "end_time": "2024-07-30T04:11:55.300651",
     "exception": false,
     "start_time": "2024-07-30T04:11:55.286540",
     "status": "completed"
    },
    "tags": []
   },
   "outputs": [
    {
     "name": "stdout",
     "output_type": "stream",
     "text": [
      "3  publications in the last day.\n"
     ]
    }
   ],
   "source": [
    "# redo for today\n",
    "days = 1\n",
    "res = list(get_last_n_days(dates, days))\n",
    "npub = len(res)\n",
    "print(len(res), f\" publications in the last day.\")\n",
    "\n",
    "carousel = create_carousel(npub)\n",
    "docs = ', '.join(['\"{0:s}\"'.format(k.split('/')[-1]) for k in res])\n",
    "slides = ', '.join([f'\"slide{k}\"' for k in range(1, npub + 1)])\n",
    "\n",
    "with open(\"daily_template.html\", \"r\") as tpl:\n",
    "    page = tpl.read()\n",
    "    page = page.replace(\"{%-- carousel:s --%}\", carousel)\\\n",
    "               .replace(\"{%-- suptitle:s --%}\",  \"Daily\" )\\\n",
    "               .replace(\"{%-- docs:s --%}\", docs)\\\n",
    "               .replace(\"{%-- slides:s --%}\", slides)\n",
    "    \n",
    "# print(carousel, docs, slides)\n",
    "# print(page)\n",
    "with open(\"_build/html/index_daily.html\", 'w') as fout:\n",
    "    fout.write(page)"
   ]
  },
  {
   "cell_type": "code",
   "execution_count": 15,
   "id": "00eece82",
   "metadata": {
    "execution": {
     "iopub.execute_input": "2024-07-30T04:11:55.313536Z",
     "iopub.status.busy": "2024-07-30T04:11:55.313302Z",
     "iopub.status.idle": "2024-07-30T04:11:55.319553Z",
     "shell.execute_reply": "2024-07-30T04:11:55.318956Z"
    },
    "papermill": {
     "duration": 0.014258,
     "end_time": "2024-07-30T04:11:55.320882",
     "exception": false,
     "start_time": "2024-07-30T04:11:55.306624",
     "status": "completed"
    },
    "scrolled": false,
    "tags": []
   },
   "outputs": [
    {
     "name": "stdout",
     "output_type": "stream",
     "text": [
      "6  6 publications selected.\n"
     ]
    }
   ],
   "source": [
    "# Create the flat grid of the last N papers (fixed number regardless of dates)\n",
    "from itertools import islice \n",
    "\n",
    "npub = 6\n",
    "res = [k[0] for k in (islice(reversed(sorted(dates, key=lambda x: x[1])), 6))]\n",
    "print(len(res), f\" {npub} publications selected.\")\n",
    "\n",
    "grid = create_grid(npub)\n",
    "docs = ', '.join(['\"{0:s}\"'.format(k.split('/')[-1]) for k in res])\n",
    "slides = ', '.join([f'\"slide{k}\"' for k in range(1, npub + 1)])\n",
    "\n",
    "with open(\"grid_template.html\", \"r\") as tpl:\n",
    "    page = tpl.read()\n",
    "    page = page.replace(\"{%-- grid-content:s --%}\", grid)\\\n",
    "               .replace(\"{%-- suptitle:s --%}\",  f\"Last {npub:,d} papers\" )\\\n",
    "               .replace(\"{%-- docs:s --%}\", docs)\\\n",
    "               .replace(\"{%-- slides:s --%}\", slides)\n",
    "    \n",
    "# print(grid, docs, slides)\n",
    "# print(page)\n",
    "with open(\"_build/html/index_npub_grid.html\", 'w') as fout:\n",
    "    fout.write(page)"
   ]
  }
 ],
 "metadata": {
  "kernelspec": {
   "display_name": "Python 3 (ipykernel)",
   "language": "python",
   "name": "python3"
  },
  "language_info": {
   "codemirror_mode": {
    "name": "ipython",
    "version": 3
   },
   "file_extension": ".py",
   "mimetype": "text/x-python",
   "name": "python",
   "nbconvert_exporter": "python",
   "pygments_lexer": "ipython3",
   "version": "3.9.19"
  },
  "papermill": {
   "default_parameters": {},
   "duration": 165.347544,
   "end_time": "2024-07-30T04:11:55.543545",
   "environment_variables": {},
   "exception": null,
   "input_path": "MPIA daily digest.ipynb",
   "output_path": "log.ipynb",
   "parameters": {},
   "start_time": "2024-07-30T04:09:10.196001",
   "version": "2.6.0"
  },
  "vscode": {
   "interpreter": {
    "hash": "aee8b7b246df8f9039afb4144a1f6fd8d2ca17a180786b69acc140d282b71a49"
   }
  },
  "widgets": {
   "application/vnd.jupyter.widget-state+json": {
    "state": {
     "0944e2e3bc3a41c3b2c4411c4fb5a26b": {
      "model_module": "@jupyter-widgets/base",
      "model_module_version": "2.0.0",
      "model_name": "LayoutModel",
      "state": {
       "_model_module": "@jupyter-widgets/base",
       "_model_module_version": "2.0.0",
       "_model_name": "LayoutModel",
       "_view_count": null,
       "_view_module": "@jupyter-widgets/base",
       "_view_module_version": "2.0.0",
       "_view_name": "LayoutView",
       "align_content": null,
       "align_items": null,
       "align_self": null,
       "border_bottom": null,
       "border_left": null,
       "border_right": null,
       "border_top": null,
       "bottom": null,
       "display": null,
       "flex": null,
       "flex_flow": null,
       "grid_area": null,
       "grid_auto_columns": null,
       "grid_auto_flow": null,
       "grid_auto_rows": null,
       "grid_column": null,
       "grid_gap": null,
       "grid_row": null,
       "grid_template_areas": null,
       "grid_template_columns": null,
       "grid_template_rows": null,
       "height": null,
       "justify_content": null,
       "justify_items": null,
       "left": null,
       "margin": null,
       "max_height": null,
       "max_width": null,
       "min_height": null,
       "min_width": null,
       "object_fit": null,
       "object_position": null,
       "order": null,
       "overflow": null,
       "padding": null,
       "right": null,
       "top": null,
       "visibility": null,
       "width": null
      }
     },
     "14afd00a257d48bda8ffd02f1e2a2c35": {
      "model_module": "@jupyter-widgets/controls",
      "model_module_version": "2.0.0",
      "model_name": "ProgressStyleModel",
      "state": {
       "_model_module": "@jupyter-widgets/controls",
       "_model_module_version": "2.0.0",
       "_model_name": "ProgressStyleModel",
       "_view_count": null,
       "_view_module": "@jupyter-widgets/base",
       "_view_module_version": "2.0.0",
       "_view_name": "StyleView",
       "bar_color": null,
       "description_width": ""
      }
     },
     "1ade410cc35943dd90954f0da5452e82": {
      "model_module": "@jupyter-widgets/controls",
      "model_module_version": "2.0.0",
      "model_name": "HTMLModel",
      "state": {
       "_dom_classes": [],
       "_model_module": "@jupyter-widgets/controls",
       "_model_module_version": "2.0.0",
       "_model_name": "HTMLModel",
       "_view_count": null,
       "_view_module": "@jupyter-widgets/controls",
       "_view_module_version": "2.0.0",
       "_view_name": "HTMLView",
       "description": "",
       "description_allow_html": false,
       "layout": "IPY_MODEL_4a79c35c6b1847e7bac2715ddc9ea499",
       "placeholder": "​",
       "style": "IPY_MODEL_333a6486015340a9b052071067243afa",
       "tabbable": null,
       "tooltip": null,
       "value": "100%"
      }
     },
     "333a6486015340a9b052071067243afa": {
      "model_module": "@jupyter-widgets/controls",
      "model_module_version": "2.0.0",
      "model_name": "HTMLStyleModel",
      "state": {
       "_model_module": "@jupyter-widgets/controls",
       "_model_module_version": "2.0.0",
       "_model_name": "HTMLStyleModel",
       "_view_count": null,
       "_view_module": "@jupyter-widgets/base",
       "_view_module_version": "2.0.0",
       "_view_name": "StyleView",
       "background": null,
       "description_width": "",
       "font_size": null,
       "text_color": null
      }
     },
     "4a79c35c6b1847e7bac2715ddc9ea499": {
      "model_module": "@jupyter-widgets/base",
      "model_module_version": "2.0.0",
      "model_name": "LayoutModel",
      "state": {
       "_model_module": "@jupyter-widgets/base",
       "_model_module_version": "2.0.0",
       "_model_name": "LayoutModel",
       "_view_count": null,
       "_view_module": "@jupyter-widgets/base",
       "_view_module_version": "2.0.0",
       "_view_name": "LayoutView",
       "align_content": null,
       "align_items": null,
       "align_self": null,
       "border_bottom": null,
       "border_left": null,
       "border_right": null,
       "border_top": null,
       "bottom": null,
       "display": null,
       "flex": null,
       "flex_flow": null,
       "grid_area": null,
       "grid_auto_columns": null,
       "grid_auto_flow": null,
       "grid_auto_rows": null,
       "grid_column": null,
       "grid_gap": null,
       "grid_row": null,
       "grid_template_areas": null,
       "grid_template_columns": null,
       "grid_template_rows": null,
       "height": null,
       "justify_content": null,
       "justify_items": null,
       "left": null,
       "margin": null,
       "max_height": null,
       "max_width": null,
       "min_height": null,
       "min_width": null,
       "object_fit": null,
       "object_position": null,
       "order": null,
       "overflow": null,
       "padding": null,
       "right": null,
       "top": null,
       "visibility": null,
       "width": null
      }
     },
     "6f280387bbd94052982eaf37c4c8bfbc": {
      "model_module": "@jupyter-widgets/controls",
      "model_module_version": "2.0.0",
      "model_name": "HBoxModel",
      "state": {
       "_dom_classes": [],
       "_model_module": "@jupyter-widgets/controls",
       "_model_module_version": "2.0.0",
       "_model_name": "HBoxModel",
       "_view_count": null,
       "_view_module": "@jupyter-widgets/controls",
       "_view_module_version": "2.0.0",
       "_view_name": "HBoxView",
       "box_style": "",
       "children": [
        "IPY_MODEL_1ade410cc35943dd90954f0da5452e82",
        "IPY_MODEL_c10fc2e1c755488496d09bae4e60e4fd",
        "IPY_MODEL_fd15908c0af04e8dad3238c8f7b7adae"
       ],
       "layout": "IPY_MODEL_c270c02c4bca498b9e58fd92194f38bf",
       "tabbable": null,
       "tooltip": null
      }
     },
     "c10fc2e1c755488496d09bae4e60e4fd": {
      "model_module": "@jupyter-widgets/controls",
      "model_module_version": "2.0.0",
      "model_name": "FloatProgressModel",
      "state": {
       "_dom_classes": [],
       "_model_module": "@jupyter-widgets/controls",
       "_model_module_version": "2.0.0",
       "_model_name": "FloatProgressModel",
       "_view_count": null,
       "_view_module": "@jupyter-widgets/controls",
       "_view_module_version": "2.0.0",
       "_view_name": "ProgressView",
       "bar_style": "success",
       "description": "",
       "description_allow_html": false,
       "layout": "IPY_MODEL_edf801b03623468395e397b16e942dcd",
       "max": 8.0,
       "min": 0.0,
       "orientation": "horizontal",
       "style": "IPY_MODEL_14afd00a257d48bda8ffd02f1e2a2c35",
       "tabbable": null,
       "tooltip": null,
       "value": 8.0
      }
     },
     "c270c02c4bca498b9e58fd92194f38bf": {
      "model_module": "@jupyter-widgets/base",
      "model_module_version": "2.0.0",
      "model_name": "LayoutModel",
      "state": {
       "_model_module": "@jupyter-widgets/base",
       "_model_module_version": "2.0.0",
       "_model_name": "LayoutModel",
       "_view_count": null,
       "_view_module": "@jupyter-widgets/base",
       "_view_module_version": "2.0.0",
       "_view_name": "LayoutView",
       "align_content": null,
       "align_items": null,
       "align_self": null,
       "border_bottom": null,
       "border_left": null,
       "border_right": null,
       "border_top": null,
       "bottom": null,
       "display": null,
       "flex": null,
       "flex_flow": null,
       "grid_area": null,
       "grid_auto_columns": null,
       "grid_auto_flow": null,
       "grid_auto_rows": null,
       "grid_column": null,
       "grid_gap": null,
       "grid_row": null,
       "grid_template_areas": null,
       "grid_template_columns": null,
       "grid_template_rows": null,
       "height": null,
       "justify_content": null,
       "justify_items": null,
       "left": null,
       "margin": null,
       "max_height": null,
       "max_width": null,
       "min_height": null,
       "min_width": null,
       "object_fit": null,
       "object_position": null,
       "order": null,
       "overflow": null,
       "padding": null,
       "right": null,
       "top": null,
       "visibility": null,
       "width": null
      }
     },
     "edf801b03623468395e397b16e942dcd": {
      "model_module": "@jupyter-widgets/base",
      "model_module_version": "2.0.0",
      "model_name": "LayoutModel",
      "state": {
       "_model_module": "@jupyter-widgets/base",
       "_model_module_version": "2.0.0",
       "_model_name": "LayoutModel",
       "_view_count": null,
       "_view_module": "@jupyter-widgets/base",
       "_view_module_version": "2.0.0",
       "_view_name": "LayoutView",
       "align_content": null,
       "align_items": null,
       "align_self": null,
       "border_bottom": null,
       "border_left": null,
       "border_right": null,
       "border_top": null,
       "bottom": null,
       "display": null,
       "flex": null,
       "flex_flow": null,
       "grid_area": null,
       "grid_auto_columns": null,
       "grid_auto_flow": null,
       "grid_auto_rows": null,
       "grid_column": null,
       "grid_gap": null,
       "grid_row": null,
       "grid_template_areas": null,
       "grid_template_columns": null,
       "grid_template_rows": null,
       "height": null,
       "justify_content": null,
       "justify_items": null,
       "left": null,
       "margin": null,
       "max_height": null,
       "max_width": null,
       "min_height": null,
       "min_width": null,
       "object_fit": null,
       "object_position": null,
       "order": null,
       "overflow": null,
       "padding": null,
       "right": null,
       "top": null,
       "visibility": null,
       "width": null
      }
     },
     "f7f69708dd7a46f68f15540c1ac4c96a": {
      "model_module": "@jupyter-widgets/controls",
      "model_module_version": "2.0.0",
      "model_name": "HTMLStyleModel",
      "state": {
       "_model_module": "@jupyter-widgets/controls",
       "_model_module_version": "2.0.0",
       "_model_name": "HTMLStyleModel",
       "_view_count": null,
       "_view_module": "@jupyter-widgets/base",
       "_view_module_version": "2.0.0",
       "_view_name": "StyleView",
       "background": null,
       "description_width": "",
       "font_size": null,
       "text_color": null
      }
     },
     "fd15908c0af04e8dad3238c8f7b7adae": {
      "model_module": "@jupyter-widgets/controls",
      "model_module_version": "2.0.0",
      "model_name": "HTMLModel",
      "state": {
       "_dom_classes": [],
       "_model_module": "@jupyter-widgets/controls",
       "_model_module_version": "2.0.0",
       "_model_name": "HTMLModel",
       "_view_count": null,
       "_view_module": "@jupyter-widgets/controls",
       "_view_module_version": "2.0.0",
       "_view_name": "HTMLView",
       "description": "",
       "description_allow_html": false,
       "layout": "IPY_MODEL_0944e2e3bc3a41c3b2c4411c4fb5a26b",
       "placeholder": "​",
       "style": "IPY_MODEL_f7f69708dd7a46f68f15540c1ac4c96a",
       "tabbable": null,
       "tooltip": null,
       "value": " 8/8 [02:22&lt;00:00, 23.23s/it]"
      }
     }
    },
    "version_major": 2,
    "version_minor": 0
   }
  }
 },
 "nbformat": 4,
 "nbformat_minor": 5
}