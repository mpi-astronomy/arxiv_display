{
 "cells": [
  {
   "cell_type": "markdown",
   "id": "92bcb855",
   "metadata": {
    "papermill": {
     "duration": 0.003696,
     "end_time": "2024-03-13T04:08:00.104188",
     "exception": false,
     "start_time": "2024-03-13T04:08:00.100492",
     "status": "completed"
    },
    "tags": []
   },
   "source": [
    "# MPIA Arxiv on Deck 2\n",
    "\n",
    "Contains the steps to produce the paper extractions."
   ]
  },
  {
   "cell_type": "code",
   "execution_count": 1,
   "id": "3a0d6e11",
   "metadata": {
    "execution": {
     "iopub.execute_input": "2024-03-13T04:08:00.111518Z",
     "iopub.status.busy": "2024-03-13T04:08:00.111023Z",
     "iopub.status.idle": "2024-03-13T04:08:00.414569Z",
     "shell.execute_reply": "2024-03-13T04:08:00.413890Z"
    },
    "papermill": {
     "duration": 0.309062,
     "end_time": "2024-03-13T04:08:00.416279",
     "exception": false,
     "start_time": "2024-03-13T04:08:00.107217",
     "status": "completed"
    },
    "tags": []
   },
   "outputs": [],
   "source": [
    "# Imports\n",
    "import os\n",
    "from IPython.display import Markdown, display\n",
    "from tqdm.notebook import tqdm\n",
    "import warnings\n",
    "from PIL import Image \n",
    "\n",
    "# requires arxiv_on_deck_2\n",
    "\n",
    "from arxiv_on_deck_2.arxiv2 import (get_new_papers, \n",
    "                                    get_paper_from_identifier,\n",
    "                                    retrieve_document_source, \n",
    "                                    get_markdown_badge)\n",
    "from arxiv_on_deck_2 import (latex,\n",
    "                             latex_bib,\n",
    "                             mpia,\n",
    "                             highlight_authors_in_list)\n",
    "\n",
    "# Sometimes images are really big\n",
    "Image.MAX_IMAGE_PIXELS = 1000000000 "
   ]
  },
  {
   "cell_type": "code",
   "execution_count": 2,
   "id": "22aa9d44",
   "metadata": {
    "execution": {
     "iopub.execute_input": "2024-03-13T04:08:00.423360Z",
     "iopub.status.busy": "2024-03-13T04:08:00.423006Z",
     "iopub.status.idle": "2024-03-13T04:08:00.428092Z",
     "shell.execute_reply": "2024-03-13T04:08:00.427485Z"
    },
    "papermill": {
     "duration": 0.010109,
     "end_time": "2024-03-13T04:08:00.429448",
     "exception": false,
     "start_time": "2024-03-13T04:08:00.419339",
     "status": "completed"
    },
    "tags": []
   },
   "outputs": [],
   "source": [
    "# Some useful definitions.\n",
    "\n",
    "class AffiliationWarning(UserWarning):\n",
    "    pass\n",
    "\n",
    "class AffiliationError(RuntimeError):\n",
    "    pass\n",
    "\n",
    "def validation(source: str):\n",
    "    \"\"\"Raises error paper during parsing of source file\n",
    "    \n",
    "    Allows checks before parsing TeX code.\n",
    "    \n",
    "    Raises AffiliationWarning\n",
    "    \"\"\"\n",
    "    check = mpia.affiliation_verifications(source, verbose=True)\n",
    "    if check is not True:\n",
    "        raise AffiliationError(\"mpia.affiliation_verifications: \" + check)\n",
    "\n",
    "        \n",
    "warnings.simplefilter('always', AffiliationWarning)\n",
    "\n",
    "\n",
    "def get_markdown_qrcode(paper_id: str):\n",
    "    \"\"\" Generate a qrcode to the arxiv page using qrserver.com\n",
    "    \n",
    "    :param paper: Arxiv paper\n",
    "    :returns: markdown text\n",
    "    \"\"\"\n",
    "    url = r\"https://api.qrserver.com/v1/create-qr-code/?size=100x100&data=\"\n",
    "    txt = f\"\"\"<img src={url}\"https://arxiv.org/abs/{paper_id}\">\"\"\"\n",
    "    txt = '<div id=\"qrcode\">' + txt + '</div>'\n",
    "    return txt"
   ]
  },
  {
   "cell_type": "markdown",
   "id": "14bd6310",
   "metadata": {
    "papermill": {
     "duration": 0.002769,
     "end_time": "2024-03-13T04:08:00.435008",
     "exception": false,
     "start_time": "2024-03-13T04:08:00.432239",
     "status": "completed"
    },
    "tags": []
   },
   "source": [
    "## get list of arxiv paper candidates\n",
    "\n",
    "We use the MPIA mitarbeiter list webpage from mpia.de to get author names\n",
    "We then get all new papers from Arxiv and match authors"
   ]
  },
  {
   "cell_type": "code",
   "execution_count": 3,
   "id": "2645e73a",
   "metadata": {
    "execution": {
     "iopub.execute_input": "2024-03-13T04:08:00.441804Z",
     "iopub.status.busy": "2024-03-13T04:08:00.441395Z",
     "iopub.status.idle": "2024-03-13T04:08:18.225711Z",
     "shell.execute_reply": "2024-03-13T04:08:18.225034Z"
    },
    "papermill": {
     "duration": 17.789276,
     "end_time": "2024-03-13T04:08:18.227083",
     "exception": false,
     "start_time": "2024-03-13T04:08:00.437807",
     "status": "completed"
    },
    "tags": []
   },
   "outputs": [
    {
     "name": "stdout",
     "output_type": "stream",
     "text": [
      "S. Li  ->  S. Li  |  ['S. Li']\n",
      "H. Beuther  ->  H. Beuther  |  ['H. Beuther']\n",
      "P. Gaikwad  ->  P. Gaikwad  |  ['P. Gaikwad']\n",
      "Arxiv has 54 new papers today\n",
      "          2 with possible author matches\n"
     ]
    }
   ],
   "source": [
    "# get list from MPIA website\n",
    "# it automatically filters identified non-scientists :func:`mpia.filter_non_scientists`\n",
    "mpia_authors = mpia.get_mpia_mitarbeiter_list()\n",
    "normed_mpia_authors = [k[1] for k in mpia_authors]   # initials + fullname\n",
    "new_papers = get_new_papers()\n",
    "# add manual references\n",
    "add_paper_refs = []\n",
    "new_papers.extend([get_paper_from_identifier(k) for k in add_paper_refs])\n",
    "\n",
    "candidates = []\n",
    "for paperk in new_papers:\n",
    "    # Check author list with their initials\n",
    "    normed_author_list = [mpia.get_initials(k) for k in paperk['authors']]\n",
    "    hl_authors = highlight_authors_in_list(normed_author_list, normed_mpia_authors, verbose=True)\n",
    "    matches = [(hl, orig) for hl, orig in zip(hl_authors, paperk['authors']) if 'mark' in hl]\n",
    "    paperk['authors'] = hl_authors\n",
    "    if matches:\n",
    "        # only select paper if an author matched our list\n",
    "        candidates.append(paperk)\n",
    "print(\"\"\"Arxiv has {0:,d} new papers today\"\"\".format(len(new_papers)))        \n",
    "print(\"\"\"          {0:,d} with possible author matches\"\"\".format(len(candidates)))"
   ]
  },
  {
   "cell_type": "markdown",
   "id": "3543b34a",
   "metadata": {
    "papermill": {
     "duration": 0.002957,
     "end_time": "2024-03-13T04:08:18.233210",
     "exception": false,
     "start_time": "2024-03-13T04:08:18.230253",
     "status": "completed"
    },
    "tags": []
   },
   "source": [
    "# Parse sources and generate relevant outputs\n",
    "\n",
    "From the candidates, we do the following steps:\n",
    "* get their tarball from ArXiv (and extract data)\n",
    "* find the main .tex file: find one with \\documentclass{...} (sometimes it's non trivial)\n",
    "* Check affiliations with :func:`validation`, which uses :func:`mpia.affiliation_verifications`\n",
    "* If passing the affiliations: we parse the .tex source\n",
    "   * inject sub-documents into the main (flatten the main document)\n",
    "   * parse structure, extract information (title, abstract, authors, figures...)\n",
    "   * handles `\\graphicspath` if provided\n",
    "* Generate the .md document."
   ]
  },
  {
   "cell_type": "code",
   "execution_count": 4,
   "id": "9576b79e",
   "metadata": {
    "execution": {
     "iopub.execute_input": "2024-03-13T04:08:18.240156Z",
     "iopub.status.busy": "2024-03-13T04:08:18.239701Z",
     "iopub.status.idle": "2024-03-13T04:08:31.831056Z",
     "shell.execute_reply": "2024-03-13T04:08:31.830379Z"
    },
    "papermill": {
     "duration": 13.596399,
     "end_time": "2024-03-13T04:08:31.832434",
     "exception": false,
     "start_time": "2024-03-13T04:08:18.236035",
     "status": "completed"
    },
    "scrolled": false,
    "tags": []
   },
   "outputs": [
    {
     "data": {
      "application/vnd.jupyter.widget-view+json": {
       "model_id": "e55832575c1948aba62fa95fdb6cf230",
       "version_major": 2,
       "version_minor": 0
      },
      "text/plain": [
       "  0%|          | 0/2 [00:00<?, ?it/s]"
      ]
     },
     "metadata": {},
     "output_type": "display_data"
    },
    {
     "name": "stdout",
     "output_type": "stream",
     "text": [
      "Retrieving document from  https://arxiv.org/e-print/2403.07058\n"
     ]
    },
    {
     "name": "stdout",
     "output_type": "stream",
     "text": [
      "extracting tarball to tmp_2403.07058... done.\n"
     ]
    },
    {
     "name": "stdout",
     "output_type": "stream",
     "text": [
      "S. Li  ->  S. Li  |  ['S. Li']\n",
      "H. Beuther  ->  H. Beuther  |  ['H. Beuther']\n"
     ]
    },
    {
     "name": "stdout",
     "output_type": "stream",
     "text": [
      "Found 84 bibliographic references in tmp_2403.07058/arxiv.bbl.\n",
      "Retrieving document from  https://arxiv.org/e-print/2403.07498\n"
     ]
    },
    {
     "name": "stdout",
     "output_type": "stream",
     "text": [
      "extracting tarball to tmp_2403.07498..."
     ]
    },
    {
     "name": "stdout",
     "output_type": "stream",
     "text": [
      " done.\n"
     ]
    },
    {
     "name": "stdout",
     "output_type": "stream",
     "text": [
      "P. Gaikwad  ->  P. Gaikwad  |  ['P. Gaikwad']\n"
     ]
    },
    {
     "name": "stdout",
     "output_type": "stream",
     "text": [
      "Found 74 bibliographic references in tmp_2403.07498/main.bbl.\n",
      "syntax error in line 19: unbalanced braces\n"
     ]
    }
   ],
   "source": [
    "documents = []\n",
    "failed = []\n",
    "for paper in tqdm(candidates):\n",
    "    paper_id = paper['identifier'].lower().replace('arxiv:', '')\n",
    "    \n",
    "    folder = f'tmp_{paper_id}'\n",
    "\n",
    "    try:\n",
    "        if not os.path.isdir(folder):\n",
    "            folder = retrieve_document_source(f\"{paper_id}\", f'tmp_{paper_id}')\n",
    "        \n",
    "        try:\n",
    "            doc = latex.LatexDocument(folder, validation=validation)    \n",
    "        except AffiliationError as affilerror:\n",
    "            msg = f\"ArXiv:{paper_id:s} is not an MPIA paper... \" + str(affilerror)\n",
    "            failed.append((paper, \"affiliation error: \" + str(affilerror) ))\n",
    "            continue\n",
    "        \n",
    "        # Hack because sometimes author parsing does not work well\n",
    "        if (len(doc.authors) != len(paper['authors'])):\n",
    "            doc._authors = paper['authors']\n",
    "        else:\n",
    "            # highlight authors (FIXME: doc.highlight_authors)\n",
    "            # done on arxiv paper already\n",
    "            doc._authors = highlight_authors_in_list(\n",
    "                [mpia.get_initials(k) for k in doc.authors], \n",
    "                normed_mpia_authors, verbose=True)\n",
    "        if (doc.abstract) in (None, ''):\n",
    "            doc._abstract = paper['abstract']\n",
    "            \n",
    "        doc.comment = (get_markdown_badge(paper_id) + \n",
    "                       \"<mark>Appeared on: \" + paper['date'] + \"</mark> - \")\n",
    "        if paper['comments']:\n",
    "            doc.comment += \" _\" + paper['comments'] + \"_\"\n",
    "        \n",
    "        full_md = doc.generate_markdown_text()\n",
    "        \n",
    "        full_md += get_markdown_qrcode(paper_id)\n",
    "        \n",
    "        # replace citations\n",
    "        try:\n",
    "            bibdata = latex_bib.LatexBib.from_doc(doc)\n",
    "            full_md = latex_bib.replace_citations(full_md, bibdata)\n",
    "        except Exception as e:\n",
    "            print(e)\n",
    "        \n",
    "        documents.append((paper_id, full_md))\n",
    "    except Exception as e:\n",
    "        warnings.warn(latex.LatexWarning(f\"{paper_id:s} did not run properly\\n\" +\n",
    "                                         str(e)\n",
    "                                        ))\n",
    "        failed.append((paper, \"latex error \" + str(e)))"
   ]
  },
  {
   "cell_type": "markdown",
   "id": "2505a25c",
   "metadata": {
    "papermill": {
     "duration": 0.003308,
     "end_time": "2024-03-13T04:08:31.840194",
     "exception": false,
     "start_time": "2024-03-13T04:08:31.836886",
     "status": "completed"
    },
    "tags": []
   },
   "source": [
    "### Export the logs\n",
    "\n",
    "Throughout, we also keep track of the logs per paper. see `logs-{today date}.md` "
   ]
  },
  {
   "cell_type": "code",
   "execution_count": 5,
   "id": "d733828a",
   "metadata": {
    "execution": {
     "iopub.execute_input": "2024-03-13T04:08:31.848232Z",
     "iopub.status.busy": "2024-03-13T04:08:31.847651Z",
     "iopub.status.idle": "2024-03-13T04:08:31.860238Z",
     "shell.execute_reply": "2024-03-13T04:08:31.859637Z"
    },
    "papermill": {
     "duration": 0.018066,
     "end_time": "2024-03-13T04:08:31.861552",
     "exception": false,
     "start_time": "2024-03-13T04:08:31.843486",
     "status": "completed"
    },
    "scrolled": false,
    "tags": []
   },
   "outputs": [
    {
     "data": {
      "text/markdown": [
       "## Successful papers"
      ],
      "text/plain": [
       "<IPython.core.display.Markdown object>"
      ]
     },
     "metadata": {},
     "output_type": "display_data"
    },
    {
     "data": {
      "text/markdown": [
       "\n",
       "|||\n",
       "|---:|:---|\n",
       "| [![arXiv](https://img.shields.io/badge/arXiv-arXiv:2403.07058-b31b1b.svg)](https://arxiv.org/abs/arXiv:2403.07058) | **The ALMA Survey of 70 $μ$m Dark High-mass Clumps in Early Stages  (ASHES). XI. Statistical Study of Early Fragmentation**  |\n",
       "|| K. Morii, et al. -- incl., <mark>S. Li</mark>, <mark>H. Beuther</mark> |\n",
       "|*Appeared on*| *2024-03-13*|\n",
       "|*Comments*| *Accepted for Publication in ApJ. 19 pages, 7 figures, 4 tables*|\n",
       "|**Abstract**| Fragmentation during the early stages of high-mass star formation is crucial for understanding the formation of high-mass clusters. We investigated fragmentation within thirty-nine high-mass star-forming clumps as part of the Atacama Large Millimeter/submillimeter Array (ALMA) Survey of 70 $\\mu$m Dark High-mass Clumps in Early Stages (ASHES). Considering projection effects, we have estimated core separations for 839 cores identified from the continuum emission and found mean values between 0.08 and 0.32 pc within each clump. We find compatibility of the observed core separations and masses with the thermal Jeans length and mass, respectively. We also present sub-clump structures revealed by the 7 m-array continuum emission. Comparison of the Jeans parameters using clump and sub-clump densities with the separation and masses of gravitationally bound cores suggests that they can be explained by clump fragmentation, implying the simultaneous formation of sub-clumps and cores within rather than a step-by-step hierarchical fragmentation. The number of cores in each clump positively correlates with the clump surface density and the number expected from the thermal Jeans fragmentation. We also find that the higher the fraction of protostellar cores, the larger the dynamic range of the core mass, implying that the cores are growing in mass as the clump evolves. The ASHES sample exhibits various fragmentation patterns: aligned, scattered, clustered, and sub-clustered. Using the Q-parameter, which can help to distinguish between centrally condensed and subclustered spatial core distributions, we finally find that in the early evolutionary stages of high-mass star formation, cores tend to follow a subclustered distribution. |"
      ],
      "text/plain": [
       "[arXiv:2403.07058] The ALMA Survey of 70 $μ$m Dark High-mass Clumps in Early Stages  (ASHES). XI. Statistical Study of Early Fragmentation\n",
       "\tK. Morii, et al. -- incl., <mark>S. Li</mark>, <mark>H. Beuther</mark>"
      ]
     },
     "metadata": {},
     "output_type": "display_data"
    },
    {
     "data": {
      "text/markdown": [
       "\n",
       "|||\n",
       "|---:|:---|\n",
       "| [![arXiv](https://img.shields.io/badge/arXiv-arXiv:2403.07498-b31b1b.svg)](https://arxiv.org/abs/arXiv:2403.07498) | **FLAME: Fitting Lyα Absorption lines using Machine learning**  |\n",
       "|| P. Jalan, V. Khaire, M. Vivek, <mark>P. Gaikwad</mark> |\n",
       "|*Appeared on*| *2024-03-13*|\n",
       "|*Comments*| *Submitted to A&A*|\n",
       "|**Abstract**| We introduce FLAME, a machine learning algorithm designed to fit Voigt profiles to HI Lyman-alpha (Ly$\\alpha$) absorption lines using deep convolutional neural networks. FLAME integrates two algorithms: the first determines the number of components required to fit Ly$\\alpha$ absorption lines, and the second calculates the Doppler parameter $b$, the HI column density N$_{\\rm HI}$, and the velocity separation of individual components. For the current version of FLAME, we trained it on low-redshift Ly$\\alpha$ forests observed with the Far Ultraviolet gratings of the Cosmic Origin Spectrograph (COS) aboard the Hubble Space Telescope (HST). Drawing on this data, we trained FLAME on $\\sim$ $10^6$ simulated Voigt profiles, forward-modeled to Ly$\\alpha$ absorption lines observed with HST-COS, to classify lines as either single or double components and then determine Voigt profile fitting parameters. FLAME shows impressive accuracy on the simulated data by identifying more than 98% (90%) of single (double) component lines. It determines $b$ values within $\\approx \\pm{8}~(15)$ km s$^{-1}$ and log $N_{\\rm HI}/ {\\rm cm}^2$ values within $\\approx \\pm 0.3~(0.8)$ for 90% of the single (double) component lines. However, when applied to real data, FLAME's component classification accuracy drops by $\\sim$ 10%. Despite this, there is a reasonable agreement between the $b$ and N$_{\\rm HI}$ distributions obtained from traditional Voigt profile fitting methods and FLAME's predictions. Our mock HST-COS data analysis, designed to emulate real data parameters, demonstrated that FLAME could achieve consistent accuracy comparable to its performance with simulated data. This finding suggests that the drop in FLAME's accuracy when used on real data primarily arises from the difficulty of replicating the full complexity of real data in the training sample. |"
      ],
      "text/plain": [
       "[arXiv:2403.07498] FLAME: Fitting Lyα Absorption lines using Machine learning\n",
       "\tP. Jalan, V. Khaire, M. Vivek, <mark>P. Gaikwad</mark>"
      ]
     },
     "metadata": {},
     "output_type": "display_data"
    },
    {
     "data": {
      "text/markdown": [
       "## Failed papers"
      ],
      "text/plain": [
       "<IPython.core.display.Markdown object>"
      ]
     },
     "metadata": {},
     "output_type": "display_data"
    }
   ],
   "source": [
    "import datetime\n",
    "today = str(datetime.date.today())\n",
    "logfile = f\"_build/html/logs/log-{today}.md\"\n",
    "\n",
    "\n",
    "with open(logfile, 'w') as logs:\n",
    "    # Success\n",
    "    logs.write(f'# Arxiv on Deck 2: Logs - {today}\\n\\n')\n",
    "    logs.write(\"\"\"* Arxiv had {0:,d} new papers\\n\"\"\".format(len(new_papers)))\n",
    "    logs.write(\"\"\"    * {0:,d} with possible author matches\\n\\n\"\"\".format(len(candidates)))\n",
    "    logs.write(\"## Sucessful papers\\n\\n\")\n",
    "    display(Markdown(\"## Successful papers\"))\n",
    "    success = [k[0] for k in documents]\n",
    "    for candid in candidates:\n",
    "        if candid['identifier'].split(':')[-1] in success:\n",
    "            display(candid)\n",
    "            logs.write(candid.generate_markdown_text() + '\\n\\n')\n",
    "\n",
    "    ## failed\n",
    "    logs.write(\"## Failed papers\\n\\n\")\n",
    "    display(Markdown(\"## Failed papers\"))\n",
    "    failed = sorted(failed, key=lambda x: x[1])\n",
    "    current_reason = \"\"\n",
    "    for paper, reason in failed:\n",
    "        if 'affiliation' in reason:\n",
    "            color = 'green'\n",
    "        else:\n",
    "            color = 'red'\n",
    "        data = Markdown(\n",
    "                paper.generate_markdown_text() + \n",
    "                f'\\n|<p style=\"color:{color:s}\"> **ERROR** </p>| <p style=\"color:{color:s}\">{reason:s}</p> |'\n",
    "               )\n",
    "        if reason != current_reason:\n",
    "            logs.write(f'### {reason:s} \\n\\n')\n",
    "            current_reason = reason\n",
    "        logs.write(data.data + '\\n\\n')\n",
    "        \n",
    "        # only display here the important errors (all in logs)\n",
    "        # if color in ('red',):\n",
    "        display(data)"
   ]
  },
  {
   "cell_type": "markdown",
   "id": "472d20ee",
   "metadata": {
    "papermill": {
     "duration": 0.003707,
     "end_time": "2024-03-13T04:08:31.869141",
     "exception": false,
     "start_time": "2024-03-13T04:08:31.865434",
     "status": "completed"
    },
    "tags": []
   },
   "source": [
    "## Export documents\n",
    "\n",
    "We now write the .md files and export relevant images"
   ]
  },
  {
   "cell_type": "code",
   "execution_count": 6,
   "id": "d426aed9",
   "metadata": {
    "execution": {
     "iopub.execute_input": "2024-03-13T04:08:31.877809Z",
     "iopub.status.busy": "2024-03-13T04:08:31.877402Z",
     "iopub.status.idle": "2024-03-13T04:08:31.883620Z",
     "shell.execute_reply": "2024-03-13T04:08:31.883047Z"
    },
    "papermill": {
     "duration": 0.012003,
     "end_time": "2024-03-13T04:08:31.884940",
     "exception": false,
     "start_time": "2024-03-13T04:08:31.872937",
     "status": "completed"
    },
    "tags": []
   },
   "outputs": [],
   "source": [
    "def export_markdown_summary(md: str, md_fname:str, directory: str):\n",
    "    \"\"\"Export MD document and associated relevant images\"\"\"\n",
    "    import os\n",
    "    import shutil\n",
    "    import re\n",
    "\n",
    "    if (os.path.exists(directory) and not os.path.isdir(directory)):\n",
    "        raise RuntimeError(f\"a non-directory file exists with name {directory:s}\")\n",
    "\n",
    "    if (not os.path.exists(directory)):\n",
    "        print(f\"creating directory {directory:s}\")\n",
    "        os.mkdir(directory)\n",
    "\n",
    "    fig_fnames = (re.compile(r'\\[Fig.*\\]\\((.*)\\)').findall(md) + \n",
    "                  re.compile(r'\\<img src=\"([^>\\s]*)\"[^>]*/>').findall(md))\n",
    "    for fname in fig_fnames:\n",
    "        if 'http' in fname:\n",
    "            # No need to copy online figures\n",
    "            continue\n",
    "        destdir = os.path.join(directory, os.path.dirname(fname))\n",
    "        destfname = os.path.join(destdir, os.path.basename(fname))\n",
    "        try:\n",
    "            os.makedirs(destdir)\n",
    "        except FileExistsError:\n",
    "            pass\n",
    "        shutil.copy(fname, destfname)\n",
    "    with open(os.path.join(directory, md_fname), 'w') as fout:\n",
    "        fout.write(md)\n",
    "    print(\"exported in \", os.path.join(directory, md_fname))\n",
    "    [print(\"    + \" + os.path.join(directory,fk)) for fk in fig_fnames]"
   ]
  },
  {
   "cell_type": "code",
   "execution_count": 7,
   "id": "014d04a4",
   "metadata": {
    "execution": {
     "iopub.execute_input": "2024-03-13T04:08:31.893670Z",
     "iopub.status.busy": "2024-03-13T04:08:31.893259Z",
     "iopub.status.idle": "2024-03-13T04:08:31.899913Z",
     "shell.execute_reply": "2024-03-13T04:08:31.899322Z"
    },
    "papermill": {
     "duration": 0.012384,
     "end_time": "2024-03-13T04:08:31.901188",
     "exception": false,
     "start_time": "2024-03-13T04:08:31.888804",
     "status": "completed"
    },
    "tags": []
   },
   "outputs": [
    {
     "name": "stdout",
     "output_type": "stream",
     "text": [
      "exported in  _build/html/2403.07058.md\n",
      "    + _build/html/tmp_2403.07058/./fig_cl_subcl_core.png\n",
      "    + _build/html/tmp_2403.07058/./G2428_12m7m_25105_class.png\n",
      "exported in  _build/html/2403.07498.md\n",
      "    + _build/html/tmp_2403.07498/./Fig/CNN_btrue_bpred_2p7M_COS_p005.png\n",
      "    + _build/html/tmp_2403.07498/./Fig/CNN_Ntrue_Npred_2p7M_COS_p005.png\n",
      "    + _build/html/tmp_2403.07498/./Fig/bmlcnn_2p7M_COS_p005.png\n",
      "    + _build/html/tmp_2403.07498/./Fig/Nmlcnn_2p7M_COS_p005.png\n",
      "    + _build/html/tmp_2403.07498/./Fig/b1_histo_allstudy_kde.png\n",
      "    + _build/html/tmp_2403.07498/./Fig/N1_histo_allstudy_kde.png\n",
      "    + _build/html/tmp_2403.07498/./Fig/confusion_matrix_Classification_test_roll_1M_final8a_p0.5.png\n"
     ]
    }
   ],
   "source": [
    "for paper_id, md in documents:\n",
    "    export_markdown_summary(md, f\"{paper_id:s}.md\", '_build/html/')"
   ]
  },
  {
   "cell_type": "markdown",
   "id": "f087a0a7",
   "metadata": {
    "papermill": {
     "duration": 0.00383,
     "end_time": "2024-03-13T04:08:31.909021",
     "exception": false,
     "start_time": "2024-03-13T04:08:31.905191",
     "status": "completed"
    },
    "tags": []
   },
   "source": [
    "## Display the papers\n",
    "\n",
    "Not necessary but allows for a quick check."
   ]
  },
  {
   "cell_type": "code",
   "execution_count": 8,
   "id": "fd25f625",
   "metadata": {
    "execution": {
     "iopub.execute_input": "2024-03-13T04:08:31.917866Z",
     "iopub.status.busy": "2024-03-13T04:08:31.917459Z",
     "iopub.status.idle": "2024-03-13T04:08:31.923203Z",
     "shell.execute_reply": "2024-03-13T04:08:31.922579Z"
    },
    "papermill": {
     "duration": 0.011577,
     "end_time": "2024-03-13T04:08:31.924483",
     "exception": false,
     "start_time": "2024-03-13T04:08:31.912906",
     "status": "completed"
    },
    "scrolled": false,
    "tags": []
   },
   "outputs": [
    {
     "data": {
      "text/markdown": [
       "<div class=\"macros\" style=\"visibility:hidden;\">\n",
       "$\\newcommand{\\ensuremath}{}$\n",
       "$\\newcommand{\\xspace}{}$\n",
       "$\\newcommand{\\object}[1]{\\texttt{#1}}$\n",
       "$\\newcommand{\\farcs}{{.}''}$\n",
       "$\\newcommand{\\farcm}{{.}'}$\n",
       "$\\newcommand{\\arcsec}{''}$\n",
       "$\\newcommand{\\arcmin}{'}$\n",
       "$\\newcommand{\\ion}[2]{#1#2}$\n",
       "$\\newcommand{\\textsc}[1]{\\textrm{#1}}$\n",
       "$\\newcommand{\\hl}[1]{\\textrm{#1}}$\n",
       "$\\newcommand{\\footnote}[1]{}$\n",
       "$\\newcommand{\\xmark}{\\ding{55}}$\n",
       "$\\newcommand{\\red}[1]{\\textcolor{red}{#1}}$\n",
       "$\\newcommand{\\kms}{\\mbox{km s^{-1}}}$\n",
       "$\\newcommand{\\x}{\\mbox{\\times}}$\n",
       "$\\newcommand{\\Msun}{\\mbox{M_{\\odot}}}$\n",
       "$\\newcommand{\\Lsun}{\\mbox{L_{\\odot}}}$</div>\n",
       "\n",
       "\n",
       "\n",
       "<div id=\"title\">\n",
       "\n",
       "# The ALMA Survey of 70 $\\mu$m Dark High-mass Clumps in Early Stages (ASHES). XI. \\\\Statistical Study of Early Fragmentation\n",
       "\n",
       "</div>\n",
       "<div id=\"comments\">\n",
       "\n",
       "[![arXiv](https://img.shields.io/badge/arXiv-2403.07058-b31b1b.svg)](https://arxiv.org/abs/2403.07058)<mark>Appeared on: 2024-03-13</mark> -  _Accepted for Publication in ApJ. 19 pages, 7 figures, 4 tables_\n",
       "\n",
       "</div>\n",
       "<div id=\"authors\">\n",
       "\n",
       "K. Morii, et al. -- incl., <mark>S. Li</mark>, <mark>H. Beuther</mark>\n",
       "\n",
       "</div>\n",
       "<div id=\"abstract\">\n",
       "\n",
       "**Abstract:** Fragmentation during the early stages of high-mass star formation is crucial for understanding the formation of high-mass clusters.We investigated fragmentation within thirty-nine high-mass star-forming clumps as part of the Atacama Large Millimeter/submillimeter Array (ALMA) Survey of 70 $\\mu$ m Dark High-mass Clumps in Early Stages (ASHES).Considering projection effects, we have estimated core separations for 839 cores identified from the continuum emission and found mean values between 0.08 and 0.32 pc within each clump.We find compatibility of the observed core separations and masses with the thermal Jeans length and mass, respectively.We also present sub-clump structures revealed by the 7 m-array continuum emission.Comparison of the Jeans parameters using clump and sub-clump densities with the separation and masses of gravitationally bound cores suggests that they can be explained by clump fragmentation, implying the simultaneous formation of sub-clumps and cores within rather than a step-by-step hierarchical fragmentation.The number of cores in each clump positively correlates with the clump surface density and the number expected from the thermal Jeans fragmentation.We also find that the higher the fraction of protostellar cores, the larger the dynamic range of the core mass, implying that the cores are growing in mass as the clump evolves.The ASHES sample exhibits various fragmentation patterns: aligned, scattered, clustered, and sub-clustered.Using the $\\mathcal{Q}$ -parameter, which can help to distinguish between centrally condensed and subclustered spatial core distributions, we finally find that in the early evolutionary stages of high-mass star formation, cores tend to follow a subclustered distribution.\n",
       "\n",
       "</div>\n",
       "\n",
       "<div id=\"div_fig1\">\n",
       "\n",
       "<img src=\"tmp_2403.07058/./fig_cl_subcl_core.png\" alt=\"Fig1\" width=\"100%\"/>\n",
       "\n",
       "**Figure 1. -** Continuum images for G024.524-00.139 obtained by (left) a single-dish telescope  ([Schuller, Menten and Contreras 2009]()) , and the gray circles correspond to sub-clumps.\n",
       "    The three different colors of the crosses indicate the gravitational states of cores; bound cores (red), unbound cores (blue), and cores without detections of dense gas tracers such as $N_2$D$^+$ and DCO$^+$(gray).\n",
       "    The blue line shows thermal Jeans fragmentation with $T$ = 15 K and $n(\\mathrm{H_2})$ = [10$^2$, 10$^6$] cm$^{-3}$, and the blue shaded region corresponds to the same density range but with T = [10, 30] K.\n",
       "    The five squares correspond to $n(\\mathrm{H_2})$ of 10$^2$, 10$^3$, 10$^4$, 10$^5$, and 10$^6$ cm$^{-3}$ from right to left.\n",
       "    The green-shaded region shows turbulent Jeans fragmentation to the same density and temperature range but $\\sigma$ = [0.8, 2.7] km s$^{-1}$. (*fig:M-nns*)\n",
       "\n",
       "</div>\n",
       "<div id=\"div_fig3\">\n",
       "\n",
       "<img src=\"tmp_2403.07058/./G2428_12m7m_25105_class.png\" alt=\"Fig6\" width=\"100%\"/>\n",
       "\n",
       "**Figure 6. -** ALMA 1.3 mm continuum image of (left) G024.010+00.489  and (right) G028.273--00.167. The circle size represents the core mass, and the position is centered at the continuum peak of each core. The three different colors have meanings the same as Figure \\ref{fig:M-nns}.  (*fig:cont_massdyn*)\n",
       "\n",
       "</div><div id=\"qrcode\"><img src=https://api.qrserver.com/v1/create-qr-code/?size=100x100&data=\"https://arxiv.org/abs/2403.07058\"></div>"
      ],
      "text/plain": [
       "<IPython.core.display.Markdown object>"
      ]
     },
     "metadata": {},
     "output_type": "display_data"
    },
    {
     "data": {
      "text/markdown": [
       "<div class=\"macros\" style=\"visibility:hidden;\">\n",
       "$\\newcommand{\\ensuremath}{}$\n",
       "$\\newcommand{\\xspace}{}$\n",
       "$\\newcommand{\\object}[1]{\\texttt{#1}}$\n",
       "$\\newcommand{\\farcs}{{.}''}$\n",
       "$\\newcommand{\\farcm}{{.}'}$\n",
       "$\\newcommand{\\arcsec}{''}$\n",
       "$\\newcommand{\\arcmin}{'}$\n",
       "$\\newcommand{\\ion}[2]{#1#2}$\n",
       "$\\newcommand{\\textsc}[1]{\\textrm{#1}}$\n",
       "$\\newcommand{\\hl}[1]{\\textrm{#1}}$\n",
       "$\\newcommand{\\footnote}[1]{}$\n",
       "$\\newcommand{\\lya}{Ly\\alpha }$\n",
       "$\\newcommand{\\lyb}{Ly\\beta }$\n",
       "$\\newcommand{\\h2}{H_2}$\n",
       "$\\newcommand{\\hi}{H{\\sc i}}$\n",
       "$\\newcommand{\\ovi}{O~{\\sc vi}~ }$\n",
       "$\\newcommand{\\ovii}{O~{\\sc vii}~ }$\n",
       "$\\newcommand{\\oviii}{O~{\\sc viii}~ }$\n",
       "$\\newcommand{\\nv}{N~{\\sc v}~}$\n",
       "$\\newcommand{\\niii}{N~{\\sc iii}\\lambda989~ }$\n",
       "$\\newcommand{\\ovia}{O~{\\sc vi}\\lambda1031~ }$\n",
       "$\\newcommand{\\ovib}{O~{\\sc vi}\\lambda1037~ }$\n",
       "$\\newcommand{\\oviab}{O~{\\sc vi}\\lambda\\lambda1031,1037~ }$\n",
       "$\\newcommand{\\cii}{C~{\\sc ii}~}$\n",
       "$\\newcommand{\\ciis}{C~{\\sc ii*}~}$\n",
       "$\\newcommand{\\mgii}{Mg~{\\sc ii}~}$\n",
       "$\\newcommand{\\civ}{C~{\\sc iv}~}$\n",
       "$\\newcommand{\\civa}{C~{\\sc iv}\\lambda1548~}$\n",
       "$\\newcommand{\\tcr}{\\textcolor{red}}$\n",
       "$\\newcommand{\\tcg}{\\textcolor{brown}}$\n",
       "$\\newcommand{\\kms}{km s^{-1}~}$\n",
       "$\\newcommand{\\cms}{cm^2~}$</div>\n",
       "\n",
       "\n",
       "\n",
       "<div id=\"title\">\n",
       "\n",
       "# FLAME: Fitting $\\lya$ Absorption lines using Machine learning\n",
       "\n",
       "</div>\n",
       "<div id=\"comments\">\n",
       "\n",
       "[![arXiv](https://img.shields.io/badge/arXiv-2403.07498-b31b1b.svg)](https://arxiv.org/abs/2403.07498)<mark>Appeared on: 2024-03-13</mark> -  _Submitted to A&A_\n",
       "\n",
       "</div>\n",
       "<div id=\"authors\">\n",
       "\n",
       "P. Jalan, V. Khaire, M. Vivek, <mark>P. Gaikwad</mark>\n",
       "\n",
       "</div>\n",
       "<div id=\"abstract\">\n",
       "\n",
       "**Abstract:** We introduce FLAME, a machine learning algorithm designed to fit Voigt profiles to H ${\\sc i}$ Lyman-alpha ( $\\lya$ ) absorption lines using deep convolutional neural networks. FLAME integrates two algorithms: the first determines the number of components required to fit $\\lya$ absorption lines, and the second calculates the Doppler parameter $b$ , the H ${\\sc i}$ column density N $_{\\rm HI}$ , and the velocity separation of individual components. For the current version of FLAME, we trained it on low-redshift $\\lya$ forests observed with the Far Ultraviolet gratings of the Cosmic Origin Spectrograph (COS) aboard the Hubble Space Telescope (HST). Drawing on this data, we trained FLAME on $\\sim$ $10^6$ simulated Voigt profiles, forward-modeled to mimic $\\lya$ absorption lines observed with HST-COS, to classify lines as either single or double components and then determine Voigt profile fitting parameters.FLAME shows impressive accuracy on the simulated data by identifying more than 98 \\% (90 \\% ) of single (double) component lines. It determines $b$ values within $\\approx \\pm{8} (15)$ km s $^{-1}$ and log $N_{\\rm HI}/ {\\rm cm}^2$ values within $\\approx \\pm 0.3 (0.8)$ for 90 \\% of the single (double) component lines. However, when applied to real data, FLAME's component classification accuracy drops by $\\sim$ 10 \\% . Despite this, there is a reasonable agreement between the $b$ and N $_{\\rm HI}$ distributions obtained from traditional Voigt profile fitting methods and FLAME's predictions. Our mock HST-COS data analysis, designed to emulate real data parameters, demonstrated that FLAME could achieve consistent accuracy comparable to its performance with simulated data. This finding suggests that the drop in FLAME's accuracy when used on real data primarily arises from the difficulty of replicating the full complexity of real data in the training sample. Nevertheless, FLAME's performance validates the use of machine learning for Voigt profile fitting, underscoring the significant potential of machine learning for detailed analysis of absorption lines.\n",
       "\n",
       "</div>\n",
       "\n",
       "<div id=\"div_fig1\">\n",
       "\n",
       "<img src=\"tmp_2403.07498/./Fig/CNN_btrue_bpred_2p7M_COS_p005.png\" alt=\"Fig4.1\" width=\"25%\"/><img src=\"tmp_2403.07498/./Fig/CNN_Ntrue_Npred_2p7M_COS_p005.png\" alt=\"Fig4.2\" width=\"25%\"/><img src=\"tmp_2403.07498/./Fig/bmlcnn_2p7M_COS_p005.png\" alt=\"Fig4.3\" width=\"25%\"/><img src=\"tmp_2403.07498/./Fig/Nmlcnn_2p7M_COS_p005.png\" alt=\"Fig4.4\" width=\"25%\"/>\n",
       "\n",
       "**Figure 4. -** The upper panel compares the actual and predicted values for the two parameters, $b$ and N. The lower panel exhibits the distribution of the differences between the predicted and true values, with markers for the 90\\% and 68\\% percentiles. (*fig-result2*)\n",
       "\n",
       "</div>\n",
       "<div id=\"div_fig2\">\n",
       "\n",
       "<img src=\"tmp_2403.07498/./Fig/b1_histo_allstudy_kde.png\" alt=\"Fig15.1\" width=\"50%\"/><img src=\"tmp_2403.07498/./Fig/N1_histo_allstudy_kde.png\" alt=\"Fig15.2\" width=\"50%\"/>\n",
       "\n",
       "**Figure 15. -** The histograms show the distribution of $b$ and log N for a single absorption line estimated by the CNN model in this work (green) overplotted with distributions from \\citepalias{Danforth2016}(purple) and  \\citetalias{Prakash2017}(red). The distributions for the corresponding mocks are shown in dotted lines. (*fig-result2_real1*)\n",
       "\n",
       "</div>\n",
       "<div id=\"div_fig3\">\n",
       "\n",
       "<img src=\"tmp_2403.07498/./Fig/confusion_matrix_Classification_test_roll_1M_final8a_p0.5.png\" alt=\"Fig2\" width=\"100%\"/>\n",
       "\n",
       "**Figure 2. -** Confusion matrix for the predictions for the number of absorption lines using the CNN (as shown in Fig. \\ref{fig-classify_network}). The CNN was trained on 1.6 million lines and tested on 400K samples, with an equal number of single and double lines. We find the Sensitivity=97.47\\%, Specificity=89.92\\%, Precision=89.64\\% and Negative Predictive Value=97.55\\%. (*fig-confusion_matrix*)\n",
       "\n",
       "</div><div id=\"qrcode\"><img src=https://api.qrserver.com/v1/create-qr-code/?size=100x100&data=\"https://arxiv.org/abs/2403.07498\"></div>"
      ],
      "text/plain": [
       "<IPython.core.display.Markdown object>"
      ]
     },
     "metadata": {},
     "output_type": "display_data"
    }
   ],
   "source": [
    "[display(Markdown(k[1])) for k in documents];"
   ]
  },
  {
   "cell_type": "markdown",
   "id": "873873a4",
   "metadata": {
    "papermill": {
     "duration": 0.004282,
     "end_time": "2024-03-13T04:08:31.933049",
     "exception": false,
     "start_time": "2024-03-13T04:08:31.928767",
     "status": "completed"
    },
    "tags": []
   },
   "source": [
    "# Create HTML index"
   ]
  },
  {
   "cell_type": "code",
   "execution_count": 9,
   "id": "cf665672",
   "metadata": {
    "execution": {
     "iopub.execute_input": "2024-03-13T04:08:31.942625Z",
     "iopub.status.busy": "2024-03-13T04:08:31.942250Z",
     "iopub.status.idle": "2024-03-13T04:08:31.952021Z",
     "shell.execute_reply": "2024-03-13T04:08:31.951516Z"
    },
    "papermill": {
     "duration": 0.016048,
     "end_time": "2024-03-13T04:08:31.953374",
     "exception": false,
     "start_time": "2024-03-13T04:08:31.937326",
     "status": "completed"
    },
    "tags": []
   },
   "outputs": [
    {
     "name": "stdout",
     "output_type": "stream",
     "text": [
      "386  publications files modified in the last 7 days.\n"
     ]
    }
   ],
   "source": [
    "from datetime import datetime, timedelta, timezone\n",
    "from glob import glob\n",
    "import os\n",
    "\n",
    "files = glob('_build/html/*.md')\n",
    "days = 7\n",
    "now = datetime.today()\n",
    "res = []\n",
    "for fk in files:\n",
    "    stat_result = os.stat(fk).st_ctime\n",
    "    modified = datetime.fromtimestamp(stat_result, tz=timezone.utc).replace(tzinfo=None)\n",
    "    delta = now.today() - modified\n",
    "    if delta <= timedelta(days=days):\n",
    "        res.append((delta.seconds, fk))\n",
    "res = [k[1] for k in reversed(sorted(res, key=lambda x:x[1]))]\n",
    "npub = len(res)\n",
    "print(len(res), f\" publications files modified in the last {days:d} days.\")\n",
    "# [ print('\\t', k) for k in res ];"
   ]
  },
  {
   "cell_type": "code",
   "execution_count": 10,
   "id": "015de740",
   "metadata": {
    "execution": {
     "iopub.execute_input": "2024-03-13T04:08:31.962844Z",
     "iopub.status.busy": "2024-03-13T04:08:31.962662Z",
     "iopub.status.idle": "2024-03-13T04:08:31.984180Z",
     "shell.execute_reply": "2024-03-13T04:08:31.983568Z"
    },
    "papermill": {
     "duration": 0.027817,
     "end_time": "2024-03-13T04:08:31.985517",
     "exception": false,
     "start_time": "2024-03-13T04:08:31.957700",
     "status": "completed"
    },
    "tags": []
   },
   "outputs": [
    {
     "name": "stdout",
     "output_type": "stream",
     "text": [
      "9  publications in the last 7 days.\n"
     ]
    }
   ],
   "source": [
    "import datetime\n",
    "from glob import glob\n",
    "\n",
    "def get_last_n_days(lst, days=1):\n",
    "    \"\"\" Get the documents from the last n days \"\"\"\n",
    "    sorted_lst = sorted(lst, key=lambda x: x[1], reverse=True)\n",
    "    for fname, date in sorted_lst:\n",
    "        if date >= str(datetime.date.today() - datetime.timedelta(days=days)):\n",
    "            yield fname\n",
    "\n",
    "def extract_appearance_dates(lst_file):\n",
    "    dates = []\n",
    "\n",
    "    def get_date(line):\n",
    "        return line\\\n",
    "            .split('Appeared on:')[-1]\\\n",
    "            .split('</mark>')[0].strip()\n",
    "\n",
    "    for fname in lst:\n",
    "        with open(fname, 'r') as f:\n",
    "            found_date = False\n",
    "            for line in f:\n",
    "                if not found_date:\n",
    "                    if \"Appeared on\" in line:\n",
    "                        found_date = True\n",
    "                        dates.append((fname, get_date(line)))\n",
    "                else:\n",
    "                    break\n",
    "    return dates\n",
    "\n",
    "from glob import glob\n",
    "lst = glob('_build/html/*md')\n",
    "days = 7\n",
    "dates = extract_appearance_dates(lst)\n",
    "res = list(get_last_n_days(dates, days))\n",
    "npub = len(res)\n",
    "print(len(res), f\" publications in the last {days:d} days.\")"
   ]
  },
  {
   "cell_type": "code",
   "execution_count": 11,
   "id": "52ca0208",
   "metadata": {
    "execution": {
     "iopub.execute_input": "2024-03-13T04:08:31.995487Z",
     "iopub.status.busy": "2024-03-13T04:08:31.995096Z",
     "iopub.status.idle": "2024-03-13T04:08:32.000528Z",
     "shell.execute_reply": "2024-03-13T04:08:31.999967Z"
    },
    "papermill": {
     "duration": 0.011766,
     "end_time": "2024-03-13T04:08:32.001805",
     "exception": false,
     "start_time": "2024-03-13T04:08:31.990039",
     "status": "completed"
    },
    "scrolled": false,
    "tags": []
   },
   "outputs": [],
   "source": [
    "def create_carousel(npub=4):\n",
    "    \"\"\" Generate the HTML code for a carousel with `npub` slides \"\"\"\n",
    "    carousel = [\"\"\"  <div class=\"carousel\" \"\"\",\n",
    "                \"\"\"       data-flickity='{ \"autoPlay\": 10000, \"adaptiveHeight\": true, \"resize\": true, \"wrapAround\": true, \"pauseAutoPlayOnHover\": true, \"groupCells\": 1 }' id=\"asyncTypeset\">\"\"\"\n",
    "                ]\n",
    "    \n",
    "    item_str = \"\"\"    <div class=\"carousel-cell\"> <div id=\"slide{k}\" class=\"md_view\">Content {k}</div> </div>\"\"\"\n",
    "    for k in range(1, npub + 1):\n",
    "        carousel.append(item_str.format(k=k))\n",
    "    carousel.append(\"  </div>\")\n",
    "    return '\\n'.join(carousel)\n",
    "\n",
    "def create_grid(npub=4):\n",
    "    \"\"\" Generate the HTML code for a flat grid with `npub` slides \"\"\"\n",
    "    grid = [\"\"\"  <div class=\"grid\"> \"\"\",\n",
    "                ]\n",
    "    \n",
    "    item_str = \"\"\"    <div class=\"grid-item\"> <div id=\"slide{k}\" class=\"md_view\">Content {k}</div> </div>\"\"\"\n",
    "    for k in range(1, npub + 1):\n",
    "        grid.append(item_str.format(k=k))\n",
    "    grid.append(\"  </div>\")\n",
    "    return '\\n'.join(grid)"
   ]
  },
  {
   "cell_type": "code",
   "execution_count": 12,
   "id": "a6eac5b6",
   "metadata": {
    "execution": {
     "iopub.execute_input": "2024-03-13T04:08:32.011726Z",
     "iopub.status.busy": "2024-03-13T04:08:32.011354Z",
     "iopub.status.idle": "2024-03-13T04:08:32.016375Z",
     "shell.execute_reply": "2024-03-13T04:08:32.015833Z"
    },
    "papermill": {
     "duration": 0.011368,
     "end_time": "2024-03-13T04:08:32.017603",
     "exception": false,
     "start_time": "2024-03-13T04:08:32.006235",
     "status": "completed"
    },
    "scrolled": false,
    "tags": []
   },
   "outputs": [],
   "source": [
    "carousel = create_carousel(npub)\n",
    "docs = ', '.join(['\"{0:s}\"'.format(k.split('/')[-1]) for k in res])\n",
    "slides = ', '.join([f'\"slide{k}\"' for k in range(1, npub + 1)])\n",
    "\n",
    "with open(\"daily_template.html\", \"r\") as tpl:\n",
    "    page = tpl.read()\n",
    "    page = page.replace(\"{%-- carousel:s --%}\", carousel)\\\n",
    "               .replace(\"{%-- suptitle:s --%}\",  \"7-day archives\" )\\\n",
    "               .replace(\"{%-- docs:s --%}\", docs)\\\n",
    "               .replace(\"{%-- slides:s --%}\", slides)\n",
    "    \n",
    "with open(\"_build/html/index_7days.html\", 'w') as fout:\n",
    "    fout.write(page)"
   ]
  },
  {
   "cell_type": "code",
   "execution_count": 13,
   "id": "adc1a1ec",
   "metadata": {
    "execution": {
     "iopub.execute_input": "2024-03-13T04:08:32.027609Z",
     "iopub.status.busy": "2024-03-13T04:08:32.027245Z",
     "iopub.status.idle": "2024-03-13T04:08:32.034087Z",
     "shell.execute_reply": "2024-03-13T04:08:32.033557Z"
    },
    "papermill": {
     "duration": 0.013269,
     "end_time": "2024-03-13T04:08:32.035331",
     "exception": false,
     "start_time": "2024-03-13T04:08:32.022062",
     "status": "completed"
    },
    "tags": []
   },
   "outputs": [
    {
     "name": "stdout",
     "output_type": "stream",
     "text": [
      "2  publications in the last day.\n"
     ]
    }
   ],
   "source": [
    "# redo for today\n",
    "days = 1\n",
    "res = list(get_last_n_days(dates, days))\n",
    "npub = len(res)\n",
    "print(len(res), f\" publications in the last day.\")\n",
    "\n",
    "carousel = create_carousel(npub)\n",
    "docs = ', '.join(['\"{0:s}\"'.format(k.split('/')[-1]) for k in res])\n",
    "slides = ', '.join([f'\"slide{k}\"' for k in range(1, npub + 1)])\n",
    "\n",
    "with open(\"daily_template.html\", \"r\") as tpl:\n",
    "    page = tpl.read()\n",
    "    page = page.replace(\"{%-- carousel:s --%}\", carousel)\\\n",
    "               .replace(\"{%-- suptitle:s --%}\",  \"Daily\" )\\\n",
    "               .replace(\"{%-- docs:s --%}\", docs)\\\n",
    "               .replace(\"{%-- slides:s --%}\", slides)\n",
    "    \n",
    "# print(carousel, docs, slides)\n",
    "# print(page)\n",
    "with open(\"_build/html/index_daily.html\", 'w') as fout:\n",
    "    fout.write(page)"
   ]
  },
  {
   "cell_type": "code",
   "execution_count": 14,
   "id": "00eece82",
   "metadata": {
    "execution": {
     "iopub.execute_input": "2024-03-13T04:08:32.045611Z",
     "iopub.status.busy": "2024-03-13T04:08:32.045244Z",
     "iopub.status.idle": "2024-03-13T04:08:32.051688Z",
     "shell.execute_reply": "2024-03-13T04:08:32.051125Z"
    },
    "papermill": {
     "duration": 0.013019,
     "end_time": "2024-03-13T04:08:32.052960",
     "exception": false,
     "start_time": "2024-03-13T04:08:32.039941",
     "status": "completed"
    },
    "scrolled": false,
    "tags": []
   },
   "outputs": [
    {
     "name": "stdout",
     "output_type": "stream",
     "text": [
      "6  6 publications selected.\n"
     ]
    }
   ],
   "source": [
    "# Create the flat grid of the last N papers (fixed number regardless of dates)\n",
    "from itertools import islice \n",
    "\n",
    "npub = 6\n",
    "res = [k[0] for k in (islice(reversed(sorted(dates, key=lambda x: x[1])), 6))]\n",
    "print(len(res), f\" {npub} publications selected.\")\n",
    "\n",
    "grid = create_grid(npub)\n",
    "docs = ', '.join(['\"{0:s}\"'.format(k.split('/')[-1]) for k in res])\n",
    "slides = ', '.join([f'\"slide{k}\"' for k in range(1, npub + 1)])\n",
    "\n",
    "with open(\"grid_template.html\", \"r\") as tpl:\n",
    "    page = tpl.read()\n",
    "    page = page.replace(\"{%-- grid-content:s --%}\", grid)\\\n",
    "               .replace(\"{%-- suptitle:s --%}\",  f\"Last {npub:,d} papers\" )\\\n",
    "               .replace(\"{%-- docs:s --%}\", docs)\\\n",
    "               .replace(\"{%-- slides:s --%}\", slides)\n",
    "    \n",
    "# print(grid, docs, slides)\n",
    "# print(page)\n",
    "with open(\"_build/html/index_npub_grid.html\", 'w') as fout:\n",
    "    fout.write(page)"
   ]
  }
 ],
 "metadata": {
  "kernelspec": {
   "display_name": "Python 3 (ipykernel)",
   "language": "python",
   "name": "python3"
  },
  "language_info": {
   "codemirror_mode": {
    "name": "ipython",
    "version": 3
   },
   "file_extension": ".py",
   "mimetype": "text/x-python",
   "name": "python",
   "nbconvert_exporter": "python",
   "pygments_lexer": "ipython3",
   "version": "3.9.18"
  },
  "papermill": {
   "default_parameters": {},
   "duration": 33.017116,
   "end_time": "2024-03-13T04:08:32.275299",
   "environment_variables": {},
   "exception": null,
   "input_path": "MPIA daily digest.ipynb",
   "output_path": "log.ipynb",
   "parameters": {},
   "start_time": "2024-03-13T04:07:59.258183",
   "version": "2.5.0"
  },
  "vscode": {
   "interpreter": {
    "hash": "aee8b7b246df8f9039afb4144a1f6fd8d2ca17a180786b69acc140d282b71a49"
   }
  },
  "widgets": {
   "application/vnd.jupyter.widget-state+json": {
    "state": {
     "02d551b9dbd14f82a74b4c1f15475757": {
      "model_module": "@jupyter-widgets/base",
      "model_module_version": "2.0.0",
      "model_name": "LayoutModel",
      "state": {
       "_model_module": "@jupyter-widgets/base",
       "_model_module_version": "2.0.0",
       "_model_name": "LayoutModel",
       "_view_count": null,
       "_view_module": "@jupyter-widgets/base",
       "_view_module_version": "2.0.0",
       "_view_name": "LayoutView",
       "align_content": null,
       "align_items": null,
       "align_self": null,
       "border_bottom": null,
       "border_left": null,
       "border_right": null,
       "border_top": null,
       "bottom": null,
       "display": null,
       "flex": null,
       "flex_flow": null,
       "grid_area": null,
       "grid_auto_columns": null,
       "grid_auto_flow": null,
       "grid_auto_rows": null,
       "grid_column": null,
       "grid_gap": null,
       "grid_row": null,
       "grid_template_areas": null,
       "grid_template_columns": null,
       "grid_template_rows": null,
       "height": null,
       "justify_content": null,
       "justify_items": null,
       "left": null,
       "margin": null,
       "max_height": null,
       "max_width": null,
       "min_height": null,
       "min_width": null,
       "object_fit": null,
       "object_position": null,
       "order": null,
       "overflow": null,
       "padding": null,
       "right": null,
       "top": null,
       "visibility": null,
       "width": null
      }
     },
     "10ff4301024e4d2391910cb2ead5a017": {
      "model_module": "@jupyter-widgets/controls",
      "model_module_version": "2.0.0",
      "model_name": "ProgressStyleModel",
      "state": {
       "_model_module": "@jupyter-widgets/controls",
       "_model_module_version": "2.0.0",
       "_model_name": "ProgressStyleModel",
       "_view_count": null,
       "_view_module": "@jupyter-widgets/base",
       "_view_module_version": "2.0.0",
       "_view_name": "StyleView",
       "bar_color": null,
       "description_width": ""
      }
     },
     "2590374928cb4709a9f711e9bfbe29e6": {
      "model_module": "@jupyter-widgets/controls",
      "model_module_version": "2.0.0",
      "model_name": "HTMLStyleModel",
      "state": {
       "_model_module": "@jupyter-widgets/controls",
       "_model_module_version": "2.0.0",
       "_model_name": "HTMLStyleModel",
       "_view_count": null,
       "_view_module": "@jupyter-widgets/base",
       "_view_module_version": "2.0.0",
       "_view_name": "StyleView",
       "background": null,
       "description_width": "",
       "font_size": null,
       "text_color": null
      }
     },
     "2d1e0d6e8d0b48599e4145742946c0c6": {
      "model_module": "@jupyter-widgets/controls",
      "model_module_version": "2.0.0",
      "model_name": "HTMLModel",
      "state": {
       "_dom_classes": [],
       "_model_module": "@jupyter-widgets/controls",
       "_model_module_version": "2.0.0",
       "_model_name": "HTMLModel",
       "_view_count": null,
       "_view_module": "@jupyter-widgets/controls",
       "_view_module_version": "2.0.0",
       "_view_name": "HTMLView",
       "description": "",
       "description_allow_html": false,
       "layout": "IPY_MODEL_e339704984ca46889b316f216ec9d781",
       "placeholder": "​",
       "style": "IPY_MODEL_35599598d76141e1a9ab1a75c563a58c",
       "tabbable": null,
       "tooltip": null,
       "value": " 2/2 [00:13&lt;00:00,  6.43s/it]"
      }
     },
     "35599598d76141e1a9ab1a75c563a58c": {
      "model_module": "@jupyter-widgets/controls",
      "model_module_version": "2.0.0",
      "model_name": "HTMLStyleModel",
      "state": {
       "_model_module": "@jupyter-widgets/controls",
       "_model_module_version": "2.0.0",
       "_model_name": "HTMLStyleModel",
       "_view_count": null,
       "_view_module": "@jupyter-widgets/base",
       "_view_module_version": "2.0.0",
       "_view_name": "StyleView",
       "background": null,
       "description_width": "",
       "font_size": null,
       "text_color": null
      }
     },
     "463f4b16ea4140e6af2f8ea8a6722606": {
      "model_module": "@jupyter-widgets/base",
      "model_module_version": "2.0.0",
      "model_name": "LayoutModel",
      "state": {
       "_model_module": "@jupyter-widgets/base",
       "_model_module_version": "2.0.0",
       "_model_name": "LayoutModel",
       "_view_count": null,
       "_view_module": "@jupyter-widgets/base",
       "_view_module_version": "2.0.0",
       "_view_name": "LayoutView",
       "align_content": null,
       "align_items": null,
       "align_self": null,
       "border_bottom": null,
       "border_left": null,
       "border_right": null,
       "border_top": null,
       "bottom": null,
       "display": null,
       "flex": null,
       "flex_flow": null,
       "grid_area": null,
       "grid_auto_columns": null,
       "grid_auto_flow": null,
       "grid_auto_rows": null,
       "grid_column": null,
       "grid_gap": null,
       "grid_row": null,
       "grid_template_areas": null,
       "grid_template_columns": null,
       "grid_template_rows": null,
       "height": null,
       "justify_content": null,
       "justify_items": null,
       "left": null,
       "margin": null,
       "max_height": null,
       "max_width": null,
       "min_height": null,
       "min_width": null,
       "object_fit": null,
       "object_position": null,
       "order": null,
       "overflow": null,
       "padding": null,
       "right": null,
       "top": null,
       "visibility": null,
       "width": null
      }
     },
     "9c34365549924415ba4ad457ecc393c5": {
      "model_module": "@jupyter-widgets/controls",
      "model_module_version": "2.0.0",
      "model_name": "HTMLModel",
      "state": {
       "_dom_classes": [],
       "_model_module": "@jupyter-widgets/controls",
       "_model_module_version": "2.0.0",
       "_model_name": "HTMLModel",
       "_view_count": null,
       "_view_module": "@jupyter-widgets/controls",
       "_view_module_version": "2.0.0",
       "_view_name": "HTMLView",
       "description": "",
       "description_allow_html": false,
       "layout": "IPY_MODEL_463f4b16ea4140e6af2f8ea8a6722606",
       "placeholder": "​",
       "style": "IPY_MODEL_2590374928cb4709a9f711e9bfbe29e6",
       "tabbable": null,
       "tooltip": null,
       "value": "100%"
      }
     },
     "e339704984ca46889b316f216ec9d781": {
      "model_module": "@jupyter-widgets/base",
      "model_module_version": "2.0.0",
      "model_name": "LayoutModel",
      "state": {
       "_model_module": "@jupyter-widgets/base",
       "_model_module_version": "2.0.0",
       "_model_name": "LayoutModel",
       "_view_count": null,
       "_view_module": "@jupyter-widgets/base",
       "_view_module_version": "2.0.0",
       "_view_name": "LayoutView",
       "align_content": null,
       "align_items": null,
       "align_self": null,
       "border_bottom": null,
       "border_left": null,
       "border_right": null,
       "border_top": null,
       "bottom": null,
       "display": null,
       "flex": null,
       "flex_flow": null,
       "grid_area": null,
       "grid_auto_columns": null,
       "grid_auto_flow": null,
       "grid_auto_rows": null,
       "grid_column": null,
       "grid_gap": null,
       "grid_row": null,
       "grid_template_areas": null,
       "grid_template_columns": null,
       "grid_template_rows": null,
       "height": null,
       "justify_content": null,
       "justify_items": null,
       "left": null,
       "margin": null,
       "max_height": null,
       "max_width": null,
       "min_height": null,
       "min_width": null,
       "object_fit": null,
       "object_position": null,
       "order": null,
       "overflow": null,
       "padding": null,
       "right": null,
       "top": null,
       "visibility": null,
       "width": null
      }
     },
     "e55832575c1948aba62fa95fdb6cf230": {
      "model_module": "@jupyter-widgets/controls",
      "model_module_version": "2.0.0",
      "model_name": "HBoxModel",
      "state": {
       "_dom_classes": [],
       "_model_module": "@jupyter-widgets/controls",
       "_model_module_version": "2.0.0",
       "_model_name": "HBoxModel",
       "_view_count": null,
       "_view_module": "@jupyter-widgets/controls",
       "_view_module_version": "2.0.0",
       "_view_name": "HBoxView",
       "box_style": "",
       "children": [
        "IPY_MODEL_9c34365549924415ba4ad457ecc393c5",
        "IPY_MODEL_f31d98d387d340f681eef89cfcbf5268",
        "IPY_MODEL_2d1e0d6e8d0b48599e4145742946c0c6"
       ],
       "layout": "IPY_MODEL_e9fe5657238a43c0a1ac27d0386c6dc2",
       "tabbable": null,
       "tooltip": null
      }
     },
     "e9fe5657238a43c0a1ac27d0386c6dc2": {
      "model_module": "@jupyter-widgets/base",
      "model_module_version": "2.0.0",
      "model_name": "LayoutModel",
      "state": {
       "_model_module": "@jupyter-widgets/base",
       "_model_module_version": "2.0.0",
       "_model_name": "LayoutModel",
       "_view_count": null,
       "_view_module": "@jupyter-widgets/base",
       "_view_module_version": "2.0.0",
       "_view_name": "LayoutView",
       "align_content": null,
       "align_items": null,
       "align_self": null,
       "border_bottom": null,
       "border_left": null,
       "border_right": null,
       "border_top": null,
       "bottom": null,
       "display": null,
       "flex": null,
       "flex_flow": null,
       "grid_area": null,
       "grid_auto_columns": null,
       "grid_auto_flow": null,
       "grid_auto_rows": null,
       "grid_column": null,
       "grid_gap": null,
       "grid_row": null,
       "grid_template_areas": null,
       "grid_template_columns": null,
       "grid_template_rows": null,
       "height": null,
       "justify_content": null,
       "justify_items": null,
       "left": null,
       "margin": null,
       "max_height": null,
       "max_width": null,
       "min_height": null,
       "min_width": null,
       "object_fit": null,
       "object_position": null,
       "order": null,
       "overflow": null,
       "padding": null,
       "right": null,
       "top": null,
       "visibility": null,
       "width": null
      }
     },
     "f31d98d387d340f681eef89cfcbf5268": {
      "model_module": "@jupyter-widgets/controls",
      "model_module_version": "2.0.0",
      "model_name": "FloatProgressModel",
      "state": {
       "_dom_classes": [],
       "_model_module": "@jupyter-widgets/controls",
       "_model_module_version": "2.0.0",
       "_model_name": "FloatProgressModel",
       "_view_count": null,
       "_view_module": "@jupyter-widgets/controls",
       "_view_module_version": "2.0.0",
       "_view_name": "ProgressView",
       "bar_style": "success",
       "description": "",
       "description_allow_html": false,
       "layout": "IPY_MODEL_02d551b9dbd14f82a74b4c1f15475757",
       "max": 2.0,
       "min": 0.0,
       "orientation": "horizontal",
       "style": "IPY_MODEL_10ff4301024e4d2391910cb2ead5a017",
       "tabbable": null,
       "tooltip": null,
       "value": 2.0
      }
     }
    },
    "version_major": 2,
    "version_minor": 0
   }
  }
 },
 "nbformat": 4,
 "nbformat_minor": 5
}