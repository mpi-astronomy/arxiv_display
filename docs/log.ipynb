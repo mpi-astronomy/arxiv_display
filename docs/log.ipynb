{
 "cells": [
  {
   "cell_type": "markdown",
   "id": "92bcb855",
   "metadata": {
    "papermill": {
     "duration": 0.003977,
     "end_time": "2025-04-18T04:11:56.923088",
     "exception": false,
     "start_time": "2025-04-18T04:11:56.919111",
     "status": "completed"
    },
    "tags": []
   },
   "source": [
    "# MPIA Arxiv on Deck 2\n",
    "\n",
    "Contains the steps to produce the paper extractions."
   ]
  },
  {
   "cell_type": "code",
   "execution_count": 1,
   "id": "3a0d6e11",
   "metadata": {
    "execution": {
     "iopub.execute_input": "2025-04-18T04:11:56.931061Z",
     "iopub.status.busy": "2025-04-18T04:11:56.930419Z",
     "iopub.status.idle": "2025-04-18T04:11:57.342049Z",
     "shell.execute_reply": "2025-04-18T04:11:57.341376Z"
    },
    "papermill": {
     "duration": 0.416993,
     "end_time": "2025-04-18T04:11:57.343396",
     "exception": false,
     "start_time": "2025-04-18T04:11:56.926403",
     "status": "completed"
    },
    "tags": []
   },
   "outputs": [],
   "source": [
    "# Imports\n",
    "import os\n",
    "from IPython.display import Markdown, display\n",
    "from tqdm.notebook import tqdm\n",
    "import warnings\n",
    "from PIL import Image \n",
    "import re\n",
    "\n",
    "# requires arxiv_on_deck_2\n",
    "\n",
    "from arxiv_on_deck_2.arxiv2 import (get_new_papers, \n",
    "                                    get_paper_from_identifier,\n",
    "                                    retrieve_document_source, \n",
    "                                    get_markdown_badge)\n",
    "from arxiv_on_deck_2 import (latex,\n",
    "                             latex_bib,\n",
    "                             mpia,\n",
    "                             highlight_authors_in_list)\n",
    "\n",
    "# Sometimes images are really big\n",
    "Image.MAX_IMAGE_PIXELS = 1000000000 "
   ]
  },
  {
   "cell_type": "code",
   "execution_count": 2,
   "id": "22aa9d44",
   "metadata": {
    "execution": {
     "iopub.execute_input": "2025-04-18T04:11:57.351082Z",
     "iopub.status.busy": "2025-04-18T04:11:57.350463Z",
     "iopub.status.idle": "2025-04-18T04:11:57.358724Z",
     "shell.execute_reply": "2025-04-18T04:11:57.358166Z"
    },
    "papermill": {
     "duration": 0.013083,
     "end_time": "2025-04-18T04:11:57.359749",
     "exception": false,
     "start_time": "2025-04-18T04:11:57.346666",
     "status": "completed"
    },
    "tags": []
   },
   "outputs": [],
   "source": [
    "# Some useful definitions.\n",
    "\n",
    "class AffiliationWarning(UserWarning):\n",
    "    pass\n",
    "\n",
    "class AffiliationError(RuntimeError):\n",
    "    pass\n",
    "\n",
    "def validation(source: str):\n",
    "    \"\"\"Raises error paper during parsing of source file\n",
    "    \n",
    "    Allows checks before parsing TeX code.\n",
    "    \n",
    "    Raises AffiliationWarning\n",
    "    \"\"\"\n",
    "    check = mpia.affiliation_verifications(source, verbose=True)\n",
    "    if check is not True:\n",
    "        raise AffiliationError(\"mpia.affiliation_verifications: \" + check)\n",
    "\n",
    "        \n",
    "warnings.simplefilter('always', AffiliationWarning)\n",
    "\n",
    "\n",
    "def get_markdown_qrcode(paper_id: str):\n",
    "    \"\"\" Generate a qrcode to the arxiv page using qrserver.com\n",
    "    \n",
    "    :param paper: Arxiv paper\n",
    "    :returns: markdown text\n",
    "    \"\"\"\n",
    "    url = r\"https://api.qrserver.com/v1/create-qr-code/?size=100x100&data=\"\n",
    "    txt = f\"\"\"<img src={url}\"https://arxiv.org/abs/{paper_id}\">\"\"\"\n",
    "    txt = '<div id=\"qrcode\">' + txt + '</div>'\n",
    "    return txt\n",
    "\n",
    "\n",
    "def clean_non_western_encoded_characters_commands(text: str) -> str:\n",
    "    \"\"\" Remove non-western encoded characters from a string\n",
    "    List may need to grow.\n",
    "    \n",
    "    :param text: the text to clean\n",
    "    :return: the cleaned text\n",
    "    \"\"\"\n",
    "    text = re.sub(r\"(\\\\begin{CJK}{UTF8}{gbsn})(.*?)(\\\\end{CJK})\", r\"\\2\", text)\n",
    "    return text\n",
    "\n",
    "\n",
    "def get_initials(name: str) -> str:\n",
    "    \"\"\" Get the short name, e.g., A.-B. FamName\n",
    "    :param name: full name\n",
    "    :returns: initials\n",
    "    \"\"\"\n",
    "    initials = []\n",
    "    # account for non western names often in ()\n",
    "    if '(' in name:\n",
    "        name = clean_non_western_encoded_characters_commands(name)\n",
    "        suffix = re.findall(r\"\\((.*?)\\)\", name)[0]\n",
    "        name = name.replace(f\"({suffix})\", '')\n",
    "    else:\n",
    "        suffix = ''\n",
    "    split = name.split()\n",
    "    for token in split[:-1]:\n",
    "        if '-' in token:\n",
    "            current = '-'.join([k[0] + '.' for k in token.split('-')])\n",
    "        else:\n",
    "            current = token[0] + '.'\n",
    "        initials.append(current)\n",
    "    initials.append(split[-1].strip())\n",
    "    if suffix:\n",
    "        initials.append(f\"({suffix})\")\n",
    "    return ' '.join(initials)"
   ]
  },
  {
   "cell_type": "markdown",
   "id": "14bd6310",
   "metadata": {
    "papermill": {
     "duration": 0.002966,
     "end_time": "2025-04-18T04:11:57.365697",
     "exception": false,
     "start_time": "2025-04-18T04:11:57.362731",
     "status": "completed"
    },
    "tags": []
   },
   "source": [
    "## get list of arxiv paper candidates\n",
    "\n",
    "We use the MPIA mitarbeiter list webpage from mpia.de to get author names\n",
    "We then get all new papers from Arxiv and match authors"
   ]
  },
  {
   "cell_type": "code",
   "execution_count": 3,
   "id": "7ea813a8",
   "metadata": {
    "execution": {
     "iopub.execute_input": "2025-04-18T04:11:57.372481Z",
     "iopub.status.busy": "2025-04-18T04:11:57.372271Z",
     "iopub.status.idle": "2025-04-18T04:12:22.235599Z",
     "shell.execute_reply": "2025-04-18T04:12:22.234936Z"
    },
    "papermill": {
     "duration": 24.868448,
     "end_time": "2025-04-18T04:12:22.237101",
     "exception": false,
     "start_time": "2025-04-18T04:11:57.368653",
     "status": "completed"
    },
    "tags": []
   },
   "outputs": [],
   "source": [
    "# deal with the author list and edge cases of people that cannot be consistent on their name  \n",
    "\n",
    "def filter_non_scientists(name: str) -> bool:\n",
    "    \"\"\" Loose filter on expected authorships\n",
    "\n",
    "    removing IT, administration, technical staff\n",
    "    :param name: name\n",
    "    :returns: False if name is not a scientist\n",
    "    \"\"\"\n",
    "    remove_list = ['Licht', 'Binroth', 'Witzel', 'Jordan',\n",
    "                   'Zähringer', 'Scheerer', 'Hoffmann', 'Düe',\n",
    "                   'Hellmich', 'Enkler-Scharpegge', 'Witte-Nguy',\n",
    "                   'Dehen', 'Beckmann', 'Jager', 'Jäger'\n",
    "                  ]\n",
    "\n",
    "    for k in remove_list:\n",
    "        if k in name:\n",
    "            return False\n",
    "    return True\n",
    "\n",
    "def add_author_to_list(author_list: list) -> list:\n",
    "    \"\"\" Add author to list if not already in list\n",
    "    \n",
    "    :param author: author name\n",
    "    :param author_list: list of authors\n",
    "    :returns: updated list of authors\n",
    "    \"\"\"\n",
    "    add_list = ['T. Henning']\n",
    "\n",
    "    for author in add_list:\n",
    "        if author not in author_list:\n",
    "            author_list.append(author)\n",
    "    return author_list\n",
    "\n",
    "# get list from MPIA website\n",
    "# filter for non-scientists (mpia.get_mpia_mitarbeiter_list() does some filtering)\n",
    "mpia_authors = [k[1] for k in mpia.get_mpia_mitarbeiter_list() if filter_non_scientists(k[1])]\n",
    "# add some missing author because of inconsistencies in their MPIA name and author name on papers\n",
    "mpia_authors = add_author_to_list(mpia_authors)"
   ]
  },
  {
   "cell_type": "code",
   "execution_count": 4,
   "id": "2645e73a",
   "metadata": {
    "execution": {
     "iopub.execute_input": "2025-04-18T04:12:22.244958Z",
     "iopub.status.busy": "2025-04-18T04:12:22.244469Z",
     "iopub.status.idle": "2025-04-18T04:12:22.876753Z",
     "shell.execute_reply": "2025-04-18T04:12:22.875662Z"
    },
    "papermill": {
     "duration": 0.637969,
     "end_time": "2025-04-18T04:12:22.878401",
     "exception": false,
     "start_time": "2025-04-18T04:12:22.240432",
     "status": "completed"
    },
    "tags": []
   },
   "outputs": [
    {
     "name": "stdout",
     "output_type": "stream",
     "text": [
      "L. Xie  ->  Z.-L. Xie  |  ['L. Xie']\n",
      "D. Christie  ->  D. Christie  |  ['D. Christie']\n",
      "L. Xie  ->  Z.-L. Xie  |  ['L. Xie']\n",
      "H. Beuther  ->  H. Beuther  |  ['H. Beuther']\n",
      "M. Wells  ->  M. Wells  |  ['M. Wells']\n",
      "K. Jahnke  ->  K. Jahnke  |  ['K. Jahnke']\n",
      "Arxiv has 53 new papers today\n",
      "          4 with possible author matches\n"
     ]
    }
   ],
   "source": [
    "new_papers = get_new_papers()\n",
    "# add manual references\n",
    "add_paper_refs = []\n",
    "new_papers.extend([get_paper_from_identifier(k) for k in add_paper_refs])\n",
    "\n",
    "def robust_call(fn, value, *args, **kwargs):\n",
    "    try:\n",
    "        return fn(value, *args, **kwargs)\n",
    "    except Exception:\n",
    "        return value\n",
    "\n",
    "candidates = []\n",
    "for paperk in new_papers:\n",
    "    # Check author list with their initials\n",
    "    normed_author_list = [robust_call(mpia.get_initials, k) for k in paperk['authors']]\n",
    "    hl_authors = highlight_authors_in_list(normed_author_list, mpia_authors, verbose=True)\n",
    "    matches = [(hl, orig) for hl, orig in zip(hl_authors, paperk['authors']) if 'mark' in hl]\n",
    "    paperk['authors'] = hl_authors\n",
    "    if matches:\n",
    "        # only select paper if an author matched our list\n",
    "        candidates.append(paperk)\n",
    "print(\"\"\"Arxiv has {0:,d} new papers today\"\"\".format(len(new_papers)))        \n",
    "print(\"\"\"          {0:,d} with possible author matches\"\"\".format(len(candidates)))"
   ]
  },
  {
   "cell_type": "markdown",
   "id": "3543b34a",
   "metadata": {
    "papermill": {
     "duration": 0.003154,
     "end_time": "2025-04-18T04:12:22.885169",
     "exception": false,
     "start_time": "2025-04-18T04:12:22.882015",
     "status": "completed"
    },
    "tags": []
   },
   "source": [
    "# Parse sources and generate relevant outputs\n",
    "\n",
    "From the candidates, we do the following steps:\n",
    "* get their tarball from ArXiv (and extract data)\n",
    "* find the main .tex file: find one with \\documentclass{...} (sometimes it's non trivial)\n",
    "* Check affiliations with :func:`validation`, which uses :func:`mpia.affiliation_verifications`\n",
    "* If passing the affiliations: we parse the .tex source\n",
    "   * inject sub-documents into the main (flatten the main document)\n",
    "   * parse structure, extract information (title, abstract, authors, figures...)\n",
    "   * handles `\\graphicspath` if provided\n",
    "* Generate the .md document."
   ]
  },
  {
   "cell_type": "code",
   "execution_count": 5,
   "id": "9576b79e",
   "metadata": {
    "execution": {
     "iopub.execute_input": "2025-04-18T04:12:22.892288Z",
     "iopub.status.busy": "2025-04-18T04:12:22.892055Z",
     "iopub.status.idle": "2025-04-18T04:13:01.249155Z",
     "shell.execute_reply": "2025-04-18T04:13:01.248429Z"
    },
    "papermill": {
     "duration": 38.362028,
     "end_time": "2025-04-18T04:13:01.250282",
     "exception": false,
     "start_time": "2025-04-18T04:12:22.888254",
     "status": "completed"
    },
    "scrolled": false,
    "tags": []
   },
   "outputs": [
    {
     "data": {
      "application/vnd.jupyter.widget-view+json": {
       "model_id": "c235b7111fe742c4b79d3ad99283485f",
       "version_major": 2,
       "version_minor": 0
      },
      "text/plain": [
       "  0%|          | 0/4 [00:00<?, ?it/s]"
      ]
     },
     "metadata": {},
     "output_type": "display_data"
    },
    {
     "name": "stdout",
     "output_type": "stream",
     "text": [
      "Retrieving document from  https://arxiv.org/e-print/2504.12541\n"
     ]
    },
    {
     "name": "stdout",
     "output_type": "stream",
     "text": [
      "extracting tarball to tmp_2504.12541..."
     ]
    },
    {
     "name": "stdout",
     "output_type": "stream",
     "text": [
      " done.\n"
     ]
    },
    {
     "name": "stdout",
     "output_type": "stream",
     "text": [
      "L. Xie  ->  Z.-L. Xie  |  ['L. Xie']\n",
      "D. Christie  ->  D. Christie  |  ['D. Christie']\n"
     ]
    },
    {
     "name": "stdout",
     "output_type": "stream",
     "text": [
      "Found 85 bibliographic references in tmp_2504.12541/Kepler_1649b_c_ion_escape.bbl.\n",
      "Issues with the citations\n",
      "syntax error in line 214: '=' expected\n",
      "Retrieving document from  https://arxiv.org/e-print/2504.12863\n"
     ]
    },
    {
     "name": "stderr",
     "output_type": "stream",
     "text": [
      "/opt/hostedtoolcache/Python/3.9.22/x64/lib/python3.9/site-packages/arxiv_on_deck_2/latex_bib.py:132: UserWarning: Error processing bibitem\n",
      " item = \\bibitem[{{TRAPPIST-1 JWST Community Initiative} {et~al.}(2024){TRAPPIST-1 JWST  Community Initiative}, {de Wit}, {Doyon}, {Rackham}, {Lim}, {Ducrot},  {Kreidberg}, {Benneke}, {Ribas}, {Berardo}, {Niraula}, {Iyer}, {Shapiro},  {Kostogryz}, {Witzke}, {Gillon}, {Agol}, {Meadows}, {Burgasser}, {Owen},  {Fortney}, {Selsis}, {Bello-Arufe}, {de Beurs}, {Bolmont}, {Cowan}, {Dong},  {Drake}, {Garcia}, {Greene}, {Haworth}, {Hu}, {Kane}, {Kervella}, {Koll},  {Krissansen-Totton}, {Lagage}, {Lichtenberg}, {Lustig-Yaeger}, {Lingam},  {Turbet}, {Seager}, {Barkaoui}, {Bell}, {Burdanov}, {Cadieux}, {Charnay},  {Cloutier}, {Cook}, {Correia}, {Dang}, {Daylan}, {Delrez}, {Edwards},  {Fauchez}, {Flagg}, {Fraschetti}, {Haqq-Misra}, {Huang}, {Iro},  {Jayawardhana}, {Jehin}, {Jin}, {Kite}, {Kitzmann}, {Kral}, {Lafreni{è}re},  {Libert}, {Liu}, {Mohanty}, {Morris}, {Murray}, {Piaulet}, {Pozuelos},  {Radica}, {Ranjan}, {Rathcke}, {Roy}, {Schwieterman}, {Turner}, {Triaud},   {Way}}]{TJCI2024}{TRAPPIST-1 JWST Community Initiative}, {de Wit}, J., {Doyon}, R., {et~al.}  2024, Nature Astronomy, 8, 810, \\dodoi{10.1038/s41550-024-02298-5}\n",
      " regex = \n",
      "        \\\\bibitem(\\[[^\\[\\]]*?\\]){(?P<bibkey>[a-zA-Z0-9\\-\\+\\.\\S]+?)}(?P<authors>|([\\D]*?))(?P<year>[12][0-9]{3})(?P<rest>.*)\n",
      "        \n",
      "  warnings.warn(str(e))\n"
     ]
    },
    {
     "name": "stdout",
     "output_type": "stream",
     "text": [
      "extracting tarball to tmp_2504.12863... done.\n",
      "Retrieving document from  https://arxiv.org/e-print/2504.12963\n"
     ]
    },
    {
     "name": "stdout",
     "output_type": "stream",
     "text": [
      "extracting tarball to tmp_2504.12963..."
     ]
    },
    {
     "name": "stdout",
     "output_type": "stream",
     "text": [
      " done.\n"
     ]
    },
    {
     "name": "stderr",
     "output_type": "stream",
     "text": [
      "/opt/hostedtoolcache/Python/3.9.22/x64/lib/python3.9/site-packages/arxiv_on_deck_2/latex.py:132: LatexWarning: attempting recovering figure figures/spear_vs_V_maskdiffuse_part1_all.pdf \n",
      "  warnings.warn(LatexWarning(f'attempting recovering figure {image}'))\n",
      "/opt/hostedtoolcache/Python/3.9.22/x64/lib/python3.9/site-packages/arxiv_on_deck_2/latex.py:707: LatexWarning: Could not find graphic \\includegraphics[height=4.5cm, trim={2cm, 0.0cm, 0, 0}, clip=True]{figures/spear_vs_V_maskdiffuse_part1_all.pdf }\n",
      "  warnings.warn(LatexWarning(f\"Could not find graphic {k}\"))\n"
     ]
    },
    {
     "name": "stderr",
     "output_type": "stream",
     "text": [
      "/opt/hostedtoolcache/Python/3.9.22/x64/lib/python3.9/site-packages/arxiv_on_deck_2/latex.py:132: LatexWarning: attempting recovering figure figures/recapV_100referee.png \n",
      "  warnings.warn(LatexWarning(f'attempting recovering figure {image}'))\n",
      "/opt/hostedtoolcache/Python/3.9.22/x64/lib/python3.9/site-packages/arxiv_on_deck_2/latex.py:707: LatexWarning: Could not find graphic \\includegraphics[width=9cm, trim={0.5cm 3.4cm 1cm 0.7cm}, clip]{figures/recapV_100referee.png }\n",
      "  warnings.warn(LatexWarning(f\"Could not find graphic {k}\"))\n",
      "/opt/hostedtoolcache/Python/3.9.22/x64/lib/python3.9/site-packages/arxiv_on_deck_2/latex.py:132: LatexWarning: attempting recovering figure figures/recapV_allNORADIO.png \n",
      "  warnings.warn(LatexWarning(f'attempting recovering figure {image}'))\n",
      "/opt/hostedtoolcache/Python/3.9.22/x64/lib/python3.9/site-packages/arxiv_on_deck_2/latex.py:707: LatexWarning: Could not find graphic \\includegraphics[width=9cm, trim={0.5cm 0 1cm 0.7cm}, clip]{figures/recapV_allNORADIO.png }\n",
      "  warnings.warn(LatexWarning(f\"Could not find graphic {k}\"))\n"
     ]
    },
    {
     "name": "stdout",
     "output_type": "stream",
     "text": [
      "Found 74 bibliographic references in tmp_2504.12963/sample631.bbl.\n",
      "Retrieving document from  https://arxiv.org/e-print/2504.13020\n"
     ]
    },
    {
     "name": "stderr",
     "output_type": "stream",
     "text": [
      "/tmp/ipykernel_3233/2822249172.py:52: LatexWarning: 2504.13020 did not run properly\n",
      "not a gzip file\n",
      "  warnings.warn(latex.LatexWarning(f\"{paper_id:s} did not run properly\\n\" +\n"
     ]
    }
   ],
   "source": [
    "documents = []\n",
    "failed = []\n",
    "for paper in tqdm(candidates):\n",
    "    # debug crap\n",
    "    paper['identifier'] = paper['identifier'].lower().replace('arxiv:', '').replace(r'\\n', '').strip()\n",
    "    paper_id = paper['identifier']\n",
    "    \n",
    "    folder = f'tmp_{paper_id}'\n",
    "\n",
    "    try:\n",
    "        if not os.path.isdir(folder):\n",
    "            folder = retrieve_document_source(f\"{paper_id}\", f'tmp_{paper_id}')\n",
    "        \n",
    "        try:\n",
    "            doc = latex.LatexDocument(folder, validation=validation)    \n",
    "        except AffiliationError as affilerror:\n",
    "            msg = f\"ArXiv:{paper_id:s} is not an MPIA paper... \" + str(affilerror)\n",
    "            failed.append((paper, \"affiliation error: \" + str(affilerror) ))\n",
    "            continue\n",
    "        \n",
    "        # Hack because sometimes author parsing does not work well\n",
    "        if (len(doc.authors) != len(paper['authors'])):\n",
    "            doc._authors = paper['authors']\n",
    "        else:\n",
    "            # highlight authors (FIXME: doc.highlight_authors)\n",
    "            # done on arxiv paper already\n",
    "            doc._authors = highlight_authors_in_list(\n",
    "                [get_initials(k) for k in doc.authors], \n",
    "                mpia_authors, verbose=True)\n",
    "        if (doc.abstract) in (None, ''):\n",
    "            doc._abstract = paper['abstract']\n",
    "            \n",
    "        doc.comment = (get_markdown_badge(paper_id) + \n",
    "                       \"<mark>Appeared on: \" + paper['date'] + \"</mark> - \")\n",
    "        if paper['comments']:\n",
    "            doc.comment += \" _\" + paper['comments'] + \"_\"\n",
    "        \n",
    "        full_md = doc.generate_markdown_text()\n",
    "        \n",
    "        full_md += get_markdown_qrcode(paper_id)\n",
    "        \n",
    "        # replace citations\n",
    "        try:\n",
    "            bibdata = latex_bib.LatexBib.from_doc(doc)\n",
    "            full_md = latex_bib.replace_citations(full_md, bibdata)\n",
    "        except Exception as e:\n",
    "            print(\"Issues with the citations\")\n",
    "            print(e)\n",
    "        \n",
    "        documents.append((paper_id, full_md))\n",
    "    except Exception as e:\n",
    "        warnings.warn(latex.LatexWarning(f\"{paper_id:s} did not run properly\\n\" +\n",
    "                                         str(e)\n",
    "                                        ))\n",
    "        failed.append((paper, \"latex error \" + str(e)))"
   ]
  },
  {
   "cell_type": "markdown",
   "id": "2505a25c",
   "metadata": {
    "papermill": {
     "duration": 0.003859,
     "end_time": "2025-04-18T04:13:01.258322",
     "exception": false,
     "start_time": "2025-04-18T04:13:01.254463",
     "status": "completed"
    },
    "tags": []
   },
   "source": [
    "### Export the logs\n",
    "\n",
    "Throughout, we also keep track of the logs per paper. see `logs-{today date}.md` "
   ]
  },
  {
   "cell_type": "code",
   "execution_count": 6,
   "id": "d733828a",
   "metadata": {
    "execution": {
     "iopub.execute_input": "2025-04-18T04:13:01.267157Z",
     "iopub.status.busy": "2025-04-18T04:13:01.266787Z",
     "iopub.status.idle": "2025-04-18T04:13:01.281924Z",
     "shell.execute_reply": "2025-04-18T04:13:01.281271Z"
    },
    "papermill": {
     "duration": 0.020807,
     "end_time": "2025-04-18T04:13:01.282956",
     "exception": false,
     "start_time": "2025-04-18T04:13:01.262149",
     "status": "completed"
    },
    "scrolled": false,
    "tags": []
   },
   "outputs": [
    {
     "data": {
      "text/markdown": [
       "## Successful papers"
      ],
      "text/plain": [
       "<IPython.core.display.Markdown object>"
      ]
     },
     "metadata": {},
     "output_type": "display_data"
    },
    {
     "data": {
      "text/markdown": [
       "\n",
       "|||\n",
       "|---:|:---|\n",
       "| [![arXiv](https://img.shields.io/badge/arXiv-2504.12541-b31b1b.svg)](https://arxiv.org/abs/2504.12541) | **Evolving Atmospheric Ion Escape from Kepler-1649 b and c: Power-Law Trends in Atmospheric Loss**  |\n",
       "|| H. Li, et al. -- incl., <mark>L. Xie</mark>, <mark>D. Christie</mark> |\n",
       "|*Appeared on*| *2025-04-18*|\n",
       "|*Comments*| *19 pages, 6 figures, 3 tables. Submitted to ApJL*|\n",
       "|**Abstract**|            Rocky planets orbiting M-dwarf stars are prime targets for characterizing terrestrial atmospheres, yet their long-term evolution under intense stellar winds and high-energy radiation remains poorly understood. The Kepler-1649 system, which hosts two terrestrial exoplanets orbiting an M5V star, presents a valuable opportunity to explore atmospheric evolution in the extreme environments characteristic of M-dwarf stellar systems. In this Letter we show that both planets could have retained atmospheres over gigayear timescales. Using a multi-species magnetohydrodynamic model, we simulate atmospheric ion escape driven by stellar winds and extreme ultraviolet radiation from 0.7 to 4.8 Gyrs. The results show that total ion escape rates follow a power-law decline ($\\propto \\tau^{-1.6}$ for Kepler-1649 b, $\\propto \\tau^{-1.5}$ for Kepler-1649 c$\\,$), with O$^{+}$ dominating atmospheric loss (76.8%-98.7%). The escape rates at 4.8 Gyrs are two orders of magnitude lower than those during the early epochs ($1.9\\times10^{27}$ s$^{-1}$ at 0.7 Gyr vs. $3.0\\times10^{25}$ s$^{-1}$ at 4.8 Gyrs for planet b$\\,$), while planet b consistently exhibits 1.1-1.9$\\times$ higher O$^{+}$ escape rates than planet c due to its closer orbit (0.051 AU vs. 0.088 AU). Despite substantial early atmospheric erosion, both planets may still retain significant atmospheres, suggesting the potential for long-term habitability. These findings offer predictive insight into atmospheric retention in M-dwarf systems and inform future JWST observations aimed at refining habitability assessments.         |"
      ],
      "text/plain": [
       "[2504.12541] Evolving Atmospheric Ion Escape from Kepler-1649 b and c: Power-Law Trends in Atmospheric Loss\n",
       "\tH. Li, et al. -- incl., <mark>L. Xie</mark>, <mark>D. Christie</mark>"
      ]
     },
     "metadata": {},
     "output_type": "display_data"
    },
    {
     "data": {
      "text/markdown": [
       "\n",
       "|||\n",
       "|---:|:---|\n",
       "| [![arXiv](https://img.shields.io/badge/arXiv-2504.12963-b31b1b.svg)](https://arxiv.org/abs/2504.12963) | **ALMAGAL IV. Morphological comparison of molecular and thermal dust emission using the histogram of oriented gradients (HOG) method**  |\n",
       "|| C. Mininni, et al. -- incl., <mark>H. Beuther</mark>, <mark>M. Wells</mark> |\n",
       "|*Appeared on*| *2025-04-18*|\n",
       "|*Comments*| *Accepted for publication in A&A; 29 pages, 20 figures*|\n",
       "|**Abstract**|            The study of molecular line emission is crucial to unveil the kinematics and the physical conditions of gas in star-forming regions. Our aim is to quantify the reliability of using individual molecular transitions to derive physical properties of the bulk of the H2 gas, looking at morphological correlations in their overall integrated molecular line emission with the cold dust. For this study we selected transitions of H2CO, CH$_3$OH, DCN, HC$_3$N, CH$_3$CN, CH$_3$OCHO, SO, and SiO and compared them with the 1.38 mm dust continuum emission at different spatial scales in the ALMAGAL sample, that observed a total of 1013 targets covering all evolutionary stages of the high-mass star-formation process and different conditions of clump fragmentation. We used the method of the histogram of oriented gradients (HOG) implemented in the tool astroHOG to compare the morphology of integrated line emission with maps of the 1.38 mm dust continuum emission. Moreover, we calculated the Spearman's correlation coefficient, and compared it with our astroHOG results. Only H$_2$CO, CH$_3$OH, and SO show emission on spatial scales comparable with the diffuse continuum emission. However, from the HOG method, the median correlation of the emission of each of these species with the continuum is only $\\sim$24-29%. In comparison with the dense fragments these molecular species still have low values of correlation. On the other hand DCN, HC$_3$N, CH$_3$CN, and CH$_3$OCHO show a good correlation with the dense dust fragments, above 60%. The worst correlation is seen with SiO, both with the extended continuum emission and with compact sources. From the comparison of the results of the HOG method and the Spearman's correlation coefficient, the HOG method gives much more reliable results than the intensity-based coefficient in estimating the level of similarity of the emission morphology.         |"
      ],
      "text/plain": [
       "[2504.12963] ALMAGAL IV. Morphological comparison of molecular and thermal dust emission using the histogram of oriented gradients (HOG) method\n",
       "\tC. Mininni, et al. -- incl., <mark>H. Beuther</mark>, <mark>M. Wells</mark>"
      ]
     },
     "metadata": {},
     "output_type": "display_data"
    },
    {
     "data": {
      "text/markdown": [
       "## Failed papers"
      ],
      "text/plain": [
       "<IPython.core.display.Markdown object>"
      ]
     },
     "metadata": {},
     "output_type": "display_data"
    },
    {
     "data": {
      "text/markdown": [
       "\n",
       "|||\n",
       "|---:|:---|\n",
       "| [![arXiv](https://img.shields.io/badge/arXiv-2504.12863-b31b1b.svg)](https://arxiv.org/abs/2504.12863) | **The impact of ram pressure on cluster galaxies, insights from GAEA and TNG**  |\n",
       "|| <mark>L. Xie</mark>, et al. |\n",
       "|*Appeared on*| *2025-04-18*|\n",
       "|*Comments*| *11 pages, 8 figures, accepted for publication in A&A*|\n",
       "|**Abstract**|            Ram pressure stripping (RPS) has a non-negligible impact on the gas content of cluster galaxies. We use the semi-analytic model GAEA and the hydro-simulation TNG to investigate whether cluster galaxies suffer a strong RPS that is sufficient to remove a significant fraction of their gas during the first pericentric passage. We estimate that a ram pressure of $10^{-10.5}$, $10^{-12} $, $10^{-13.5} $ $g cm^{-1} s^{-2}$ can remove at most $90\\%$, $50\\%$, and $20\\%$ of the cold gas reservoir from low-mass galaxies with $9<\\log M_{\\star}/{\\rm M}_{\\odot} <9.5$, assuming the gas can be stripped instantaneously. We then use this information to divide the phase space diagram into `strong', `moderate', `weak', and `no' RPS zones. By tracing the orbit of galaxies since $2.5R_{vir}$, we find in both GAEA and TNG that about half of the galaxies in Virgo-like halos ($\\log M_h / M_{\\odot} \\sim 14 $) did not suffer strong RPS during the first pericentric passage. In Coma-like halos ($\\log M_h / M_{\\odot} \\sim 15$), almost all galaxies have suffered strong RPS during the first pericentric passage, which can remove all gas from low-mass galaxies but is insufficient to significantly reduce the gas content of more massive galaxies. In general, results from TNG and GAEA are consistent, with the RPS being only slightly stronger in TNG than in GAEA. Our findings suggest that most cluster galaxies will maintain a notable fraction of their gas and continue forming stars after the first pericentric passage, except for those with low stellar mass ($\\log M_{\\star}/{\\rm M}_{\\odot} <9.5$) in very massive halos ($\\log M_{h}/{\\rm M}_{\\odot} > 15$).         |\n",
       "|<p style=\"color:green\"> **ERROR** </p>| <p style=\"color:green\">affiliation error: mpia.affiliation_verifications: 'Heidelberg' keyword not found.</p> |"
      ],
      "text/plain": [
       "<IPython.core.display.Markdown object>"
      ]
     },
     "metadata": {},
     "output_type": "display_data"
    },
    {
     "data": {
      "text/markdown": [
       "\n",
       "|||\n",
       "|---:|:---|\n",
       "| [![arXiv](https://img.shields.io/badge/arXiv-2504.13020-b31b1b.svg)](https://arxiv.org/abs/2504.13020) | **Euclid preparation. Estimating galaxy physical properties using CatBoost chained regressors with attention**  |\n",
       "|| E. Collaboration, et al. -- incl., <mark>K. Jahnke</mark> |\n",
       "|*Appeared on*| *2025-04-18*|\n",
       "|*Comments*| *22 pages, 13 figures, 4 tables. Accepted for publication by Astronomy & Astrophysics*|\n",
       "|**Abstract**|            Euclid will image ~14000 deg^2 of the extragalactic sky at visible and NIR wavelengths, providing a dataset of unprecedented size and richness that will facilitate a multitude of studies into the evolution of galaxies. In the vast majority of cases the main source of information will come from broad-band images and data products thereof. Therefore, there is a pressing need to identify or develop scalable yet reliable methodologies to estimate the redshift and physical properties of galaxies using broad-band photometry from Euclid, optionally including ground-based optical photometry also. To address this need, we present a novel method to estimate the redshift, stellar mass, star-formation rate, specific star-formation rate, E(B-V), and age of galaxies, using mock Euclid and ground-based photometry. The main novelty of our property-estimation pipeline is its use of the CatBoost implementation of gradient-boosted regression-trees, together with chained regression and an intelligent, automatic optimization of the training data. The pipeline also includes a computationally-efficient method to estimate prediction uncertainties, and, in the absence of ground-truth labels, provides accurate predictions for metrics of model performance up to z~2. We apply our pipeline to several datasets consisting of mock Euclid broad-band photometry and mock ground-based ugriz photometry, to evaluate the performance of our methodology for estimating the redshift and physical properties of galaxies detected in the Euclid Wide Survey. The quality of our photometric redshift and physical property estimates are highly competitive overall, validating our modeling approach. We find that the inclusion of ground-based optical photometry significantly improves the quality of the property estimation, highlighting the importance of combining Euclid data with ancillary ground-based optical data. (Abridged)         |\n",
       "|<p style=\"color:red\"> **ERROR** </p>| <p style=\"color:red\">latex error not a gzip file</p> |"
      ],
      "text/plain": [
       "<IPython.core.display.Markdown object>"
      ]
     },
     "metadata": {},
     "output_type": "display_data"
    }
   ],
   "source": [
    "import datetime\n",
    "today = str(datetime.date.today())\n",
    "logfile = f\"_build/html/logs/log-{today}.md\"\n",
    "\n",
    "\n",
    "with open(logfile, 'w') as logs:\n",
    "    # Success\n",
    "    logs.write(f'# Arxiv on Deck 2: Logs - {today}\\n\\n')\n",
    "    logs.write(\"\"\"* Arxiv had {0:,d} new papers\\n\"\"\".format(len(new_papers)))\n",
    "    logs.write(\"\"\"    * {0:,d} with possible author matches\\n\\n\"\"\".format(len(candidates)))\n",
    "    logs.write(\"## Sucessful papers\\n\\n\")\n",
    "    display(Markdown(\"## Successful papers\"))\n",
    "    success = [k[0] for k in documents]\n",
    "    for candid in candidates:\n",
    "        if candid['identifier'].split(':')[-1] in success:\n",
    "            display(candid)\n",
    "            logs.write(candid.generate_markdown_text() + '\\n\\n')\n",
    "\n",
    "    ## failed\n",
    "    logs.write(\"## Failed papers\\n\\n\")\n",
    "    display(Markdown(\"## Failed papers\"))\n",
    "    failed = sorted(failed, key=lambda x: x[1])\n",
    "    current_reason = \"\"\n",
    "    for paper, reason in failed:\n",
    "        if 'affiliation' in reason:\n",
    "            color = 'green'\n",
    "        else:\n",
    "            color = 'red'\n",
    "        data = Markdown(\n",
    "                paper.generate_markdown_text() + \n",
    "                f'\\n|<p style=\"color:{color:s}\"> **ERROR** </p>| <p style=\"color:{color:s}\">{reason:s}</p> |'\n",
    "               )\n",
    "        if reason != current_reason:\n",
    "            logs.write(f'### {reason:s} \\n\\n')\n",
    "            current_reason = reason\n",
    "        logs.write(data.data + '\\n\\n')\n",
    "        \n",
    "        # only display here the important errors (all in logs)\n",
    "        # if color in ('red',):\n",
    "        display(data)"
   ]
  },
  {
   "cell_type": "markdown",
   "id": "472d20ee",
   "metadata": {
    "papermill": {
     "duration": 0.00439,
     "end_time": "2025-04-18T04:13:01.291819",
     "exception": false,
     "start_time": "2025-04-18T04:13:01.287429",
     "status": "completed"
    },
    "tags": []
   },
   "source": [
    "## Export documents\n",
    "\n",
    "We now write the .md files and export relevant images"
   ]
  },
  {
   "cell_type": "code",
   "execution_count": 7,
   "id": "d426aed9",
   "metadata": {
    "execution": {
     "iopub.execute_input": "2025-04-18T04:13:01.301710Z",
     "iopub.status.busy": "2025-04-18T04:13:01.301295Z",
     "iopub.status.idle": "2025-04-18T04:13:01.308486Z",
     "shell.execute_reply": "2025-04-18T04:13:01.307802Z"
    },
    "papermill": {
     "duration": 0.01337,
     "end_time": "2025-04-18T04:13:01.309577",
     "exception": false,
     "start_time": "2025-04-18T04:13:01.296207",
     "status": "completed"
    },
    "tags": []
   },
   "outputs": [],
   "source": [
    "def export_markdown_summary(md: str, md_fname:str, directory: str):\n",
    "    \"\"\"Export MD document and associated relevant images\"\"\"\n",
    "    import os\n",
    "    import shutil\n",
    "    import re\n",
    "\n",
    "    if (os.path.exists(directory) and not os.path.isdir(directory)):\n",
    "        raise RuntimeError(f\"a non-directory file exists with name {directory:s}\")\n",
    "\n",
    "    if (not os.path.exists(directory)):\n",
    "        print(f\"creating directory {directory:s}\")\n",
    "        os.mkdir(directory)\n",
    "\n",
    "    fig_fnames = (re.compile(r'\\[Fig.*\\]\\((.*)\\)').findall(md) + \n",
    "                  re.compile(r'\\<img src=\"([^>\\s]*)\"[^>]*/>').findall(md))\n",
    "    print(\"found figures\", fig_fnames)\n",
    "    for fname in fig_fnames:\n",
    "        if 'http' in fname:\n",
    "            # No need to copy online figures\n",
    "            continue\n",
    "        if not os.path.exists(fname):\n",
    "            print(\"file not found\", fname)\n",
    "            continue\n",
    "        print(\"copying \", fname, \"to\", directory)\n",
    "        destdir = os.path.join(directory, os.path.dirname(fname))\n",
    "        destfname = os.path.join(destdir, os.path.basename(fname))\n",
    "        try:\n",
    "            os.makedirs(destdir)\n",
    "        except FileExistsError:\n",
    "            pass\n",
    "        shutil.copy(fname, destfname)\n",
    "    with open(os.path.join(directory, md_fname), 'w') as fout:\n",
    "        fout.write(md)\n",
    "    print(\"exported in \", os.path.join(directory, md_fname))\n",
    "    [print(\"    + \" + os.path.join(directory,fk)) for fk in fig_fnames]"
   ]
  },
  {
   "cell_type": "code",
   "execution_count": 8,
   "id": "014d04a4",
   "metadata": {
    "execution": {
     "iopub.execute_input": "2025-04-18T04:13:01.319781Z",
     "iopub.status.busy": "2025-04-18T04:13:01.319220Z",
     "iopub.status.idle": "2025-04-18T04:13:01.331590Z",
     "shell.execute_reply": "2025-04-18T04:13:01.331028Z"
    },
    "papermill": {
     "duration": 0.018485,
     "end_time": "2025-04-18T04:13:01.332566",
     "exception": false,
     "start_time": "2025-04-18T04:13:01.314081",
     "status": "completed"
    },
    "tags": []
   },
   "outputs": [
    {
     "name": "stdout",
     "output_type": "stream",
     "text": [
      "found figures ['tmp_2504.12541/./Kb_kc_escape_rate_20250211.png', 'tmp_2504.12541/./6x8_Kb_20250327_200000_modifycolorbar_colorbarforeveryspecies_changecolorbar_-4t4_deleteH.png', 'tmp_2504.12541/./6x8_Kc_20250327_200000_modifycolorbar_colorbarforeveryspecies_changecolorbar_-4t4_deleteH.png']\n",
      "copying  tmp_2504.12541/./Kb_kc_escape_rate_20250211.png to _build/html/\n",
      "copying  tmp_2504.12541/./6x8_Kb_20250327_200000_modifycolorbar_colorbarforeveryspecies_changecolorbar_-4t4_deleteH.png to _build/html/\n",
      "copying  tmp_2504.12541/./6x8_Kc_20250327_200000_modifycolorbar_colorbarforeveryspecies_changecolorbar_-4t4_deleteH.png to _build/html/\n",
      "exported in  _build/html/2504.12541.md\n",
      "    + _build/html/tmp_2504.12541/./Kb_kc_escape_rate_20250211.png\n",
      "    + _build/html/tmp_2504.12541/./6x8_Kb_20250327_200000_modifycolorbar_colorbarforeveryspecies_changecolorbar_-4t4_deleteH.png\n",
      "    + _build/html/tmp_2504.12541/./6x8_Kc_20250327_200000_modifycolorbar_colorbarforeveryspecies_changecolorbar_-4t4_deleteH.png\n",
      "found figures ['tmp_2504.12963/./figures/astroHOG_histogram_diffuse_all.png', 'tmp_2504.12963/./figures/astroHOG_histogram_cores_all.png', '', 'tmp_2504.12963/./figures/spear_vs_V_maskdiffuse_part2_all.png', 'tmp_2504.12963/./figures/grid_properties_detection.png', 'tmp_2504.12963/./figures/grid_properties_detection.png']\n",
      "copying  tmp_2504.12963/./figures/astroHOG_histogram_diffuse_all.png to _build/html/\n",
      "copying  tmp_2504.12963/./figures/astroHOG_histogram_cores_all.png to _build/html/\n",
      "file not found \n",
      "copying  tmp_2504.12963/./figures/spear_vs_V_maskdiffuse_part2_all.png to _build/html/\n",
      "copying  tmp_2504.12963/./figures/grid_properties_detection.png to _build/html/\n",
      "copying  tmp_2504.12963/./figures/grid_properties_detection.png to _build/html/\n",
      "exported in  _build/html/2504.12963.md\n",
      "    + _build/html/tmp_2504.12963/./figures/astroHOG_histogram_diffuse_all.png\n",
      "    + _build/html/tmp_2504.12963/./figures/astroHOG_histogram_cores_all.png\n",
      "    + _build/html/\n",
      "    + _build/html/tmp_2504.12963/./figures/spear_vs_V_maskdiffuse_part2_all.png\n",
      "    + _build/html/tmp_2504.12963/./figures/grid_properties_detection.png\n",
      "    + _build/html/tmp_2504.12963/./figures/grid_properties_detection.png\n"
     ]
    }
   ],
   "source": [
    "for paper_id, md in documents:\n",
    "    export_markdown_summary(md, f\"{paper_id:s}.md\", '_build/html/')"
   ]
  },
  {
   "cell_type": "markdown",
   "id": "f087a0a7",
   "metadata": {
    "papermill": {
     "duration": 0.00448,
     "end_time": "2025-04-18T04:13:01.342179",
     "exception": false,
     "start_time": "2025-04-18T04:13:01.337699",
     "status": "completed"
    },
    "tags": []
   },
   "source": [
    "## Display the papers\n",
    "\n",
    "Not necessary but allows for a quick check."
   ]
  },
  {
   "cell_type": "code",
   "execution_count": 9,
   "id": "fd25f625",
   "metadata": {
    "execution": {
     "iopub.execute_input": "2025-04-18T04:13:01.352224Z",
     "iopub.status.busy": "2025-04-18T04:13:01.351794Z",
     "iopub.status.idle": "2025-04-18T04:13:01.357803Z",
     "shell.execute_reply": "2025-04-18T04:13:01.357195Z"
    },
    "papermill": {
     "duration": 0.012061,
     "end_time": "2025-04-18T04:13:01.358749",
     "exception": false,
     "start_time": "2025-04-18T04:13:01.346688",
     "status": "completed"
    },
    "scrolled": false,
    "tags": []
   },
   "outputs": [
    {
     "data": {
      "text/markdown": [
       "<div class=\"macros\" style=\"visibility:hidden;\">\n",
       "$\\newcommand{\\ensuremath}{}$\n",
       "$\\newcommand{\\xspace}{}$\n",
       "$\\newcommand{\\object}[1]{\\texttt{#1}}$\n",
       "$\\newcommand{\\farcs}{{.}''}$\n",
       "$\\newcommand{\\farcm}{{.}'}$\n",
       "$\\newcommand{\\arcsec}{''}$\n",
       "$\\newcommand{\\arcmin}{'}$\n",
       "$\\newcommand{\\ion}[2]{#1#2}$\n",
       "$\\newcommand{\\textsc}[1]{\\textrm{#1}}$\n",
       "$\\newcommand{\\hl}[1]{\\textrm{#1}}$\n",
       "$\\newcommand{\\footnote}[1]{}$\n",
       "$\\newcommand{\\vdag}{(v)^\\dagger}$\n",
       "$\\newcommand$\n",
       "$\\newcommand$</div>\n",
       "\n",
       "\n",
       "\n",
       "<div id=\"title\">\n",
       "\n",
       "# Evolving Atmospheric Ion Escape from Kepler-1649 b and c: Power-Law Trends in Atmospheric Loss\n",
       "\n",
       "</div>\n",
       "<div id=\"comments\">\n",
       "\n",
       "[![arXiv](https://img.shields.io/badge/arXiv-2504.12541-b31b1b.svg)](https://arxiv.org/abs/2504.12541)<mark>Appeared on: 2025-04-18</mark> -  _19 pages, 6 figures, 3 tables. Submitted to ApJL_\n",
       "\n",
       "</div>\n",
       "<div id=\"authors\">\n",
       "\n",
       "H. Li, et al. -- incl., <mark>L. Xie</mark>, <mark>D. Christie</mark>\n",
       "\n",
       "</div>\n",
       "<div id=\"abstract\">\n",
       "\n",
       "**Abstract:** Rocky planets orbiting M-dwarf stars are prime targets for characterizing terrestrial atmospheres, yet their long-term evolution under intense stellar winds and high-energy radiation remains poorly understood. The Kepler-1649 system, which hosts two terrestrial exoplanets orbiting an M5V star, presents a valuable opportunity to explore atmospheric evolution in the extreme environments characteristic of M-dwarf stellar systems. In this Letter we show that both planets could have retained atmospheres over gigayear timescales. Using a multi-species magnetohydrodynamic model, we simulate atmospheric ion escape driven by stellar winds and extreme ultraviolet radiation from 0.7 to 4.8 Gyrs. The results show that total ion escape rates follow a power-law decline ( $\\propto \\tau^{-1.6}$ for Kepler-1649 b, $\\propto \\tau^{-1.5}$ for Kepler-1649 c $ $ ), with $\\ce{O+}$ dominating atmospheric loss (76.8 \\% –98.7 \\% ). The escape rates at 4.8 Gyrs are two orders of magnitude lower than those during the early epochs ( $1.9\\times10^{27}$ s $^{-1}$ at 0.7 Gyr vs. $3.0\\times10^{25}$ s $^{-1}$ at 4.8 Gyrs for planet b $ $ ), while planet b consistently exhibits 1.1–1.9 $\\times$ higher $\\ce{O+}$ escape rates than planet c due to its closer orbit (0.051 AU vs. 0.088 AU). Despite substantial early atmospheric erosion, both planets may still retain significant atmospheres, suggesting the potential for long-term habitability. These findings offer predictive insight into atmospheric retention in M-dwarf systems and inform future JWST observations aimed at refining habitability assessments.\n",
       "\n",
       "</div>\n",
       "\n",
       "<div id=\"div_fig1\">\n",
       "\n",
       "<img src=\"tmp_2504.12541/./Kb_kc_escape_rate_20250211.png\" alt=\"Fig1\" width=\"100%\"/>\n",
       "\n",
       "**Figure 1. -** Evolution of ion escape rates for Kepler-1649 b (left panels) and c (right panels) across stellar ages (0.7--4.8 Gyrs).\n",
       "Top to bottom: \\ce{O+}, \\ce{O2+}, \\ce{CO2+}, and total ion escape rates (s$^{-1}$). Data points are fitted with power-law functions (solid lines).\n",
       "\t (*fig1*)\n",
       "\n",
       "</div>\n",
       "<div id=\"div_fig2\">\n",
       "\n",
       "<img src=\"tmp_2504.12541/./6x8_Kb_20250327_200000_modifycolorbar_colorbarforeveryspecies_changecolorbar_-4t4_deleteH.png\" alt=\"Fig2\" width=\"100%\"/>\n",
       "\n",
       "**Figure 2. -** Logarithmic ion number density (cm$^{-3}$) distributions in the X-Z plane for Kepler-1649 b at different stellar ages (0.7--4.8 Gyrs; top to bottom). Columns show \\ce{O+}, \\ce{O2+}, and \\ce{CO2+}(left to right). Coordinates are normalized to planetary radius $R_{\\rm P}$.\n",
       "         (*Fig:2D_distribution_Kb*)\n",
       "\n",
       "</div>\n",
       "<div id=\"div_fig3\">\n",
       "\n",
       "<img src=\"tmp_2504.12541/./6x8_Kc_20250327_200000_modifycolorbar_colorbarforeveryspecies_changecolorbar_-4t4_deleteH.png\" alt=\"Fig3\" width=\"100%\"/>\n",
       "\n",
       "**Figure 3. -** Logarithmic ion number density (cm$^{-3}$) distributions in the X-Z plane for Kepler-1649 c at different stellar ages (0.7--4.8 Gyrs; top to bottom). Columns show \\ce{O+}, \\ce{O2+}, and \\ce{CO2+}(left to right). Coordinates are normalized to planetary radius $R_{\\rm P}$.\n",
       "         (*Fig:2D_distribution_Kc*)\n",
       "\n",
       "</div><div id=\"qrcode\"><img src=https://api.qrserver.com/v1/create-qr-code/?size=100x100&data=\"https://arxiv.org/abs/2504.12541\"></div>"
      ],
      "text/plain": [
       "<IPython.core.display.Markdown object>"
      ]
     },
     "metadata": {},
     "output_type": "display_data"
    },
    {
     "data": {
      "text/markdown": [
       "<div class=\"macros\" style=\"visibility:hidden;\">\n",
       "$\\newcommand{\\ensuremath}{}$\n",
       "$\\newcommand{\\xspace}{}$\n",
       "$\\newcommand{\\object}[1]{\\texttt{#1}}$\n",
       "$\\newcommand{\\farcs}{{.}''}$\n",
       "$\\newcommand{\\farcm}{{.}'}$\n",
       "$\\newcommand{\\arcsec}{''}$\n",
       "$\\newcommand{\\arcmin}{'}$\n",
       "$\\newcommand{\\ion}[2]{#1#2}$\n",
       "$\\newcommand{\\textsc}[1]{\\textrm{#1}}$\n",
       "$\\newcommand{\\hl}[1]{\\textrm{#1}}$\n",
       "$\\newcommand{\\footnote}[1]{}$</div>\n",
       "\n",
       "\n",
       "\n",
       "<div id=\"title\">\n",
       "\n",
       "# ALMAGAL IV. Morphological comparison of molecular and thermal dust emission using the histogram of oriented gradients (HOG) method\n",
       "\n",
       "</div>\n",
       "<div id=\"comments\">\n",
       "\n",
       "[![arXiv](https://img.shields.io/badge/arXiv-2504.12963-b31b1b.svg)](https://arxiv.org/abs/2504.12963)<mark>Appeared on: 2025-04-18</mark> -  _Accepted for publication in A&A; 29 pages, 20 figures_\n",
       "\n",
       "</div>\n",
       "<div id=\"authors\">\n",
       "\n",
       "C. Mininni, et al. -- incl., <mark>H. Beuther</mark>, <mark>M. Wells</mark>\n",
       "\n",
       "</div>\n",
       "<div id=\"abstract\">\n",
       "\n",
       "**Abstract:** The study of molecular line emission is crucial to unveil the kinematics and the physical conditions of gas in star-forming regions. We utilize data from the ALMAGAL survey which provides an unprecedentedly large statistical sample of high-mass star-forming clumps that helps to remove bias and reduce noise (e.g. due to source peculiarities, selection or environmental effects) to determine how well individual molecular species trace continuum emission. Our aim is to quantify the reliability of using individual molecular transitions to derive physical properties of the bulk of the $H_2$ gas, looking at morphological correlations in their overall integrated molecular line emission with the cold dust. For this study we selected transitions  of $H_2$ CO, $CH_3$ OH, DCN, $HC_3$ N, $CH_3$ CN, $CH_3$ OCHO, SO, and SiO  and compared them with the 1.38 mm dust continuum emission at different spatial scales in the ALMAGAL sample. We included two transitions of $H_2$ CO to understand the validity of the results depending on the excitation condition of the selected transition of a molecular specie. The ALMAGAL project observed more than 1000 candidate high-mass star-forming clumps in ALMA Band 6 at a spatial resolution down to 1000 au. A total of 1013 targets have been analyzed in the present paper, covering all evolutionary stages of the high-mass star-formation process and different conditions of clump fragmentation. We used, for the first time on a large statistical sample, the method of the histogram of oriented gradients (HOG) implemented in the tool \\texttt{astroHOG} to compare the morphology of integrated line emission with maps of the 1.38 mm dust continuum emission. For each clump, we defined two masks: one that covers the extended more diffuse continuum emission and a smaller one that contains only the compact sources. We select these two masks to study if and how the correlation among the selected molecules changes with the spatial scale of the emission, from extended more diffuse gas in the clumps to denser gas in compact fragments (cores). Moreover, we calculated the Spearman's correlation coefficient, and compared it with our astroHOG results. Among the molecular species analyzed in this paper, only $H_2$ CO, $CH_3$ OH, and SO show emission on spatial scales comparable with the diffuse 1.38 mm dust continuum emission. However, from the HOG method, the median correlation of the emission of each of these species with the continuum is only $\\sim$ 24-29 \\% . In comparison with the dusty dense fragments these molecular species still have low values of correlation, on average below 45 \\% . The low level of morphological correlation suggests that these molecular lines likely trace on average the clump medium or outer layers around dense fragments (in some cases possibly due to optical depth effects) or are also at this scale tracing inner parts of outflows. On the other hand DCN, $HC_3$ N, $CH_3$ CN, and $CH_3$ OCHO show a good correlation with the dense dust fragments, above 60 \\% . The worst correlation is seen with SiO, both with the extended continuum emission and with compact sources. Moreover, unlike other outflow tracers, SiO in a large fraction of the sources does not cover well the area of the extended continuum emission. This and the results of the astroHOG analysis reveal that SiO and SO do not trace the same gas, contrary to what was previously thought. From the comparison of the results of the HOG method and the Spearman's correlation coefficient, the HOG method gives much more reliable results than the intensity-based coefficient in estimating the level of similarity of the emission morphology.\n",
       "\n",
       "</div>\n",
       "\n",
       "<div id=\"div_fig1\">\n",
       "\n",
       "<img src=\"tmp_2504.12963/./figures/astroHOG_histogram_diffuse_all.png\" alt=\"Fig12.1\" width=\"50%\"/><img src=\"tmp_2504.12963/./figures/astroHOG_histogram_cores_all.png\" alt=\"Fig12.2\" width=\"50%\"/>\n",
       "\n",
       "**Figure 12. -** \n",
       "    Morphological correlation between the continuum emission and the line emission (moment-0) for the indicated transition, as quantified by $V_{\\rm{N}}$ parameter from the \\texttt{astroHOG} method.\n",
       "    Values of $V_{\\rm{N}}$$\\approx$ 0 and $V_{\\rm{N}}$$\\approx$ 1  correspond to no correlation and perfect correlation in the distribution of the two emissions, respectively.\n",
       "    The upper panels correspond to the correlation on the intersection of the moment-0 line emission mask and the mask$_{\\rm{ext.}}$.\n",
       "    The lower panels correspond to a mask selecting only the compact sources where the line is detected, starting from mask$_{\\mathrm{com.}}$.\n",
       "    The dotted and dashed histograms represent how the distribution would change if all the values were replaced by V$_{\\mathrm{N}}- $error (the error on the value of $V_{\\mathrm{N}}$ is derived using an MC method, see Sect. 4.3) and $V_{\\mathrm{N}}+ $error, respectively.  (*fig:resultsastroHOG*)\n",
       "\n",
       "</div>\n",
       "<div id=\"div_fig2\">\n",
       "\n",
       "<img src=\"\" alt=\"Fig13.1\" width=\"50%\"/><img src=\"tmp_2504.12963/./figures/spear_vs_V_maskdiffuse_part2_all.png\" alt=\"Fig13.2\" width=\"50%\"/>\n",
       "\n",
       "**Figure 13. -** Comparison between Spearman's correlation coefficient and the $V_{N}$ parameter from the HOG method in the comparison between the continuum and the indicated species using mask$_{\\rm{ext.}}$. The two boxes delimited by red dotted-dashed lines are the regions in the plot where the two estimators give the more contrasting results.  (*fig:spearman1*)\n",
       "\n",
       "</div>\n",
       "<div id=\"div_fig3\">\n",
       "\n",
       "<img src=\"tmp_2504.12963/./figures/grid_properties_detection.png\" alt=\"Fig2.1\" width=\"50%\"/><img src=\"tmp_2504.12963/./figures/grid_properties_detection.png\" alt=\"Fig2.2\" width=\"50%\"/>\n",
       "\n",
       "**Figure 2. -** Increase of the detection statistic of the molecular transitions analyzed, divided in bins of temperature of the clump (upper panel) and evolutionary stage of the clump L/M (lower panel). (*fig:grid_prop*)\n",
       "\n",
       "</div><div id=\"qrcode\"><img src=https://api.qrserver.com/v1/create-qr-code/?size=100x100&data=\"https://arxiv.org/abs/2504.12963\"></div>"
      ],
      "text/plain": [
       "<IPython.core.display.Markdown object>"
      ]
     },
     "metadata": {},
     "output_type": "display_data"
    }
   ],
   "source": [
    "[display(Markdown(k[1])) for k in documents];"
   ]
  },
  {
   "cell_type": "markdown",
   "id": "873873a4",
   "metadata": {
    "papermill": {
     "duration": 0.004925,
     "end_time": "2025-04-18T04:13:01.368761",
     "exception": false,
     "start_time": "2025-04-18T04:13:01.363836",
     "status": "completed"
    },
    "tags": []
   },
   "source": [
    "# Create HTML index"
   ]
  },
  {
   "cell_type": "code",
   "execution_count": 10,
   "id": "cf665672",
   "metadata": {
    "execution": {
     "iopub.execute_input": "2025-04-18T04:13:01.379217Z",
     "iopub.status.busy": "2025-04-18T04:13:01.378987Z",
     "iopub.status.idle": "2025-04-18T04:13:01.389458Z",
     "shell.execute_reply": "2025-04-18T04:13:01.388917Z"
    },
    "papermill": {
     "duration": 0.016805,
     "end_time": "2025-04-18T04:13:01.390413",
     "exception": false,
     "start_time": "2025-04-18T04:13:01.373608",
     "status": "completed"
    },
    "tags": []
   },
   "outputs": [
    {
     "name": "stdout",
     "output_type": "stream",
     "text": [
      "446  publications files modified in the last 7 days.\n"
     ]
    }
   ],
   "source": [
    "from datetime import datetime, timedelta, timezone\n",
    "from glob import glob\n",
    "import os\n",
    "\n",
    "files = glob('_build/html/*.md')\n",
    "days = 7\n",
    "now = datetime.today()\n",
    "res = []\n",
    "for fk in files:\n",
    "    stat_result = os.stat(fk).st_ctime\n",
    "    modified = datetime.fromtimestamp(stat_result, tz=timezone.utc).replace(tzinfo=None)\n",
    "    delta = now.today() - modified\n",
    "    if delta <= timedelta(days=days):\n",
    "        res.append((delta.seconds, fk))\n",
    "res = [k[1] for k in reversed(sorted(res, key=lambda x:x[1]))]\n",
    "npub = len(res)\n",
    "print(len(res), f\" publications files modified in the last {days:d} days.\")\n",
    "# [ print('\\t', k) for k in res ];"
   ]
  },
  {
   "cell_type": "code",
   "execution_count": 11,
   "id": "015de740",
   "metadata": {
    "execution": {
     "iopub.execute_input": "2025-04-18T04:13:01.401607Z",
     "iopub.status.busy": "2025-04-18T04:13:01.401182Z",
     "iopub.status.idle": "2025-04-18T04:13:01.424717Z",
     "shell.execute_reply": "2025-04-18T04:13:01.424159Z"
    },
    "papermill": {
     "duration": 0.030228,
     "end_time": "2025-04-18T04:13:01.425718",
     "exception": false,
     "start_time": "2025-04-18T04:13:01.395490",
     "status": "completed"
    },
    "tags": []
   },
   "outputs": [
    {
     "name": "stdout",
     "output_type": "stream",
     "text": [
      "12  publications in the last 7 days.\n"
     ]
    }
   ],
   "source": [
    "import datetime\n",
    "from glob import glob\n",
    "\n",
    "def get_last_n_days(lst, days=1):\n",
    "    \"\"\" Get the documents from the last n days \"\"\"\n",
    "    sorted_lst = sorted(lst, key=lambda x: x[1], reverse=True)\n",
    "    for fname, date in sorted_lst:\n",
    "        if date >= str(datetime.date.today() - datetime.timedelta(days=days)):\n",
    "            yield fname\n",
    "\n",
    "def extract_appearance_dates(lst_file):\n",
    "    dates = []\n",
    "\n",
    "    def get_date(line):\n",
    "        return line\\\n",
    "            .split('Appeared on:')[-1]\\\n",
    "            .split('</mark>')[0].strip()\n",
    "\n",
    "    for fname in lst:\n",
    "        with open(fname, 'r') as f:\n",
    "            found_date = False\n",
    "            for line in f:\n",
    "                if not found_date:\n",
    "                    if \"Appeared on\" in line:\n",
    "                        found_date = True\n",
    "                        dates.append((fname, get_date(line)))\n",
    "                else:\n",
    "                    break\n",
    "    return dates\n",
    "\n",
    "from glob import glob\n",
    "lst = glob('_build/html/*md')\n",
    "days = 7\n",
    "dates = extract_appearance_dates(lst)\n",
    "res = list(get_last_n_days(dates, days))\n",
    "npub = len(res)\n",
    "print(len(res), f\" publications in the last {days:d} days.\")"
   ]
  },
  {
   "cell_type": "code",
   "execution_count": 12,
   "id": "52ca0208",
   "metadata": {
    "execution": {
     "iopub.execute_input": "2025-04-18T04:13:01.437257Z",
     "iopub.status.busy": "2025-04-18T04:13:01.436760Z",
     "iopub.status.idle": "2025-04-18T04:13:01.441711Z",
     "shell.execute_reply": "2025-04-18T04:13:01.441179Z"
    },
    "papermill": {
     "duration": 0.011693,
     "end_time": "2025-04-18T04:13:01.442740",
     "exception": false,
     "start_time": "2025-04-18T04:13:01.431047",
     "status": "completed"
    },
    "scrolled": false,
    "tags": []
   },
   "outputs": [],
   "source": [
    "def create_carousel(npub=4):\n",
    "    \"\"\" Generate the HTML code for a carousel with `npub` slides \"\"\"\n",
    "    carousel = [\"\"\"  <div class=\"carousel\" \"\"\",\n",
    "                \"\"\"       data-flickity='{ \"autoPlay\": 10000, \"adaptiveHeight\": true, \"resize\": true, \"wrapAround\": true, \"pauseAutoPlayOnHover\": true, \"groupCells\": 1 }' id=\"asyncTypeset\">\"\"\"\n",
    "                ]\n",
    "    \n",
    "    item_str = \"\"\"    <div class=\"carousel-cell\"> <div id=\"slide{k}\" class=\"md_view\">Content {k}</div> </div>\"\"\"\n",
    "    for k in range(1, npub + 1):\n",
    "        carousel.append(item_str.format(k=k))\n",
    "    carousel.append(\"  </div>\")\n",
    "    return '\\n'.join(carousel)\n",
    "\n",
    "def create_grid(npub=4):\n",
    "    \"\"\" Generate the HTML code for a flat grid with `npub` slides \"\"\"\n",
    "    grid = [\"\"\"  <div class=\"grid\"> \"\"\",\n",
    "                ]\n",
    "    \n",
    "    item_str = \"\"\"    <div class=\"grid-item\"> <div id=\"slide{k}\" class=\"md_view\">Content {k}</div> </div>\"\"\"\n",
    "    for k in range(1, npub + 1):\n",
    "        grid.append(item_str.format(k=k))\n",
    "    grid.append(\"  </div>\")\n",
    "    return '\\n'.join(grid)"
   ]
  },
  {
   "cell_type": "code",
   "execution_count": 13,
   "id": "a6eac5b6",
   "metadata": {
    "execution": {
     "iopub.execute_input": "2025-04-18T04:13:01.454008Z",
     "iopub.status.busy": "2025-04-18T04:13:01.453579Z",
     "iopub.status.idle": "2025-04-18T04:13:01.458665Z",
     "shell.execute_reply": "2025-04-18T04:13:01.458169Z"
    },
    "papermill": {
     "duration": 0.011737,
     "end_time": "2025-04-18T04:13:01.459661",
     "exception": false,
     "start_time": "2025-04-18T04:13:01.447924",
     "status": "completed"
    },
    "scrolled": false,
    "tags": []
   },
   "outputs": [],
   "source": [
    "carousel = create_carousel(npub)\n",
    "docs = ', '.join(['\"{0:s}\"'.format(k.split('/')[-1]) for k in res])\n",
    "slides = ', '.join([f'\"slide{k}\"' for k in range(1, npub + 1)])\n",
    "\n",
    "with open(\"daily_template.html\", \"r\") as tpl:\n",
    "    page = tpl.read()\n",
    "    page = page.replace(\"{%-- carousel:s --%}\", carousel)\\\n",
    "               .replace(\"{%-- suptitle:s --%}\",  \"7-day archives\" )\\\n",
    "               .replace(\"{%-- docs:s --%}\", docs)\\\n",
    "               .replace(\"{%-- slides:s --%}\", slides)\n",
    "    \n",
    "with open(\"_build/html/index_7days.html\", 'w') as fout:\n",
    "    fout.write(page)"
   ]
  },
  {
   "cell_type": "code",
   "execution_count": 14,
   "id": "adc1a1ec",
   "metadata": {
    "execution": {
     "iopub.execute_input": "2025-04-18T04:13:01.471370Z",
     "iopub.status.busy": "2025-04-18T04:13:01.470818Z",
     "iopub.status.idle": "2025-04-18T04:13:01.477911Z",
     "shell.execute_reply": "2025-04-18T04:13:01.477278Z"
    },
    "papermill": {
     "duration": 0.013997,
     "end_time": "2025-04-18T04:13:01.478989",
     "exception": false,
     "start_time": "2025-04-18T04:13:01.464992",
     "status": "completed"
    },
    "tags": []
   },
   "outputs": [
    {
     "name": "stdout",
     "output_type": "stream",
     "text": [
      "3  publications in the last day.\n"
     ]
    }
   ],
   "source": [
    "# redo for today\n",
    "days = 1\n",
    "res = list(get_last_n_days(dates, days))\n",
    "npub = len(res)\n",
    "print(len(res), f\" publications in the last day.\")\n",
    "\n",
    "carousel = create_carousel(npub)\n",
    "docs = ', '.join(['\"{0:s}\"'.format(k.split('/')[-1]) for k in res])\n",
    "slides = ', '.join([f'\"slide{k}\"' for k in range(1, npub + 1)])\n",
    "\n",
    "with open(\"daily_template.html\", \"r\") as tpl:\n",
    "    page = tpl.read()\n",
    "    page = page.replace(\"{%-- carousel:s --%}\", carousel)\\\n",
    "               .replace(\"{%-- suptitle:s --%}\",  \"Daily\" )\\\n",
    "               .replace(\"{%-- docs:s --%}\", docs)\\\n",
    "               .replace(\"{%-- slides:s --%}\", slides)\n",
    "    \n",
    "# print(carousel, docs, slides)\n",
    "# print(page)\n",
    "with open(\"_build/html/index_daily.html\", 'w') as fout:\n",
    "    fout.write(page)"
   ]
  },
  {
   "cell_type": "code",
   "execution_count": 15,
   "id": "00eece82",
   "metadata": {
    "execution": {
     "iopub.execute_input": "2025-04-18T04:13:01.490393Z",
     "iopub.status.busy": "2025-04-18T04:13:01.490026Z",
     "iopub.status.idle": "2025-04-18T04:13:01.496690Z",
     "shell.execute_reply": "2025-04-18T04:13:01.496058Z"
    },
    "papermill": {
     "duration": 0.013371,
     "end_time": "2025-04-18T04:13:01.497658",
     "exception": false,
     "start_time": "2025-04-18T04:13:01.484287",
     "status": "completed"
    },
    "scrolled": false,
    "tags": []
   },
   "outputs": [
    {
     "name": "stdout",
     "output_type": "stream",
     "text": [
      "6  6 publications selected.\n"
     ]
    }
   ],
   "source": [
    "# Create the flat grid of the last N papers (fixed number regardless of dates)\n",
    "from itertools import islice \n",
    "\n",
    "npub = 6\n",
    "res = [k[0] for k in (islice(reversed(sorted(dates, key=lambda x: x[1])), 6))]\n",
    "print(len(res), f\" {npub} publications selected.\")\n",
    "\n",
    "grid = create_grid(npub)\n",
    "docs = ', '.join(['\"{0:s}\"'.format(k.split('/')[-1]) for k in res])\n",
    "slides = ', '.join([f'\"slide{k}\"' for k in range(1, npub + 1)])\n",
    "\n",
    "with open(\"grid_template.html\", \"r\") as tpl:\n",
    "    page = tpl.read()\n",
    "    page = page.replace(\"{%-- grid-content:s --%}\", grid)\\\n",
    "               .replace(\"{%-- suptitle:s --%}\",  f\"Last {npub:,d} papers\" )\\\n",
    "               .replace(\"{%-- docs:s --%}\", docs)\\\n",
    "               .replace(\"{%-- slides:s --%}\", slides)\n",
    "    \n",
    "# print(grid, docs, slides)\n",
    "# print(page)\n",
    "with open(\"_build/html/index_npub_grid.html\", 'w') as fout:\n",
    "    fout.write(page)"
   ]
  }
 ],
 "metadata": {
  "kernelspec": {
   "display_name": "Python 3 (ipykernel)",
   "language": "python",
   "name": "python3"
  },
  "language_info": {
   "codemirror_mode": {
    "name": "ipython",
    "version": 3
   },
   "file_extension": ".py",
   "mimetype": "text/x-python",
   "name": "python",
   "nbconvert_exporter": "python",
   "pygments_lexer": "ipython3",
   "version": "3.9.22"
  },
  "papermill": {
   "default_parameters": {},
   "duration": 65.691288,
   "end_time": "2025-04-18T04:13:01.718668",
   "environment_variables": {},
   "exception": null,
   "input_path": "MPIA daily digest.ipynb",
   "output_path": "log.ipynb",
   "parameters": {},
   "start_time": "2025-04-18T04:11:56.027380",
   "version": "2.6.0"
  },
  "vscode": {
   "interpreter": {
    "hash": "aee8b7b246df8f9039afb4144a1f6fd8d2ca17a180786b69acc140d282b71a49"
   }
  },
  "widgets": {
   "application/vnd.jupyter.widget-state+json": {
    "state": {
     "189487eb0430460490a503a81f34a536": {
      "model_module": "@jupyter-widgets/base",
      "model_module_version": "2.0.0",
      "model_name": "LayoutModel",
      "state": {
       "_model_module": "@jupyter-widgets/base",
       "_model_module_version": "2.0.0",
       "_model_name": "LayoutModel",
       "_view_count": null,
       "_view_module": "@jupyter-widgets/base",
       "_view_module_version": "2.0.0",
       "_view_name": "LayoutView",
       "align_content": null,
       "align_items": null,
       "align_self": null,
       "border_bottom": null,
       "border_left": null,
       "border_right": null,
       "border_top": null,
       "bottom": null,
       "display": null,
       "flex": null,
       "flex_flow": null,
       "grid_area": null,
       "grid_auto_columns": null,
       "grid_auto_flow": null,
       "grid_auto_rows": null,
       "grid_column": null,
       "grid_gap": null,
       "grid_row": null,
       "grid_template_areas": null,
       "grid_template_columns": null,
       "grid_template_rows": null,
       "height": null,
       "justify_content": null,
       "justify_items": null,
       "left": null,
       "margin": null,
       "max_height": null,
       "max_width": null,
       "min_height": null,
       "min_width": null,
       "object_fit": null,
       "object_position": null,
       "order": null,
       "overflow": null,
       "padding": null,
       "right": null,
       "top": null,
       "visibility": null,
       "width": null
      }
     },
     "3dab36cb8dba4bd1baafaa4719eac5c5": {
      "model_module": "@jupyter-widgets/base",
      "model_module_version": "2.0.0",
      "model_name": "LayoutModel",
      "state": {
       "_model_module": "@jupyter-widgets/base",
       "_model_module_version": "2.0.0",
       "_model_name": "LayoutModel",
       "_view_count": null,
       "_view_module": "@jupyter-widgets/base",
       "_view_module_version": "2.0.0",
       "_view_name": "LayoutView",
       "align_content": null,
       "align_items": null,
       "align_self": null,
       "border_bottom": null,
       "border_left": null,
       "border_right": null,
       "border_top": null,
       "bottom": null,
       "display": null,
       "flex": null,
       "flex_flow": null,
       "grid_area": null,
       "grid_auto_columns": null,
       "grid_auto_flow": null,
       "grid_auto_rows": null,
       "grid_column": null,
       "grid_gap": null,
       "grid_row": null,
       "grid_template_areas": null,
       "grid_template_columns": null,
       "grid_template_rows": null,
       "height": null,
       "justify_content": null,
       "justify_items": null,
       "left": null,
       "margin": null,
       "max_height": null,
       "max_width": null,
       "min_height": null,
       "min_width": null,
       "object_fit": null,
       "object_position": null,
       "order": null,
       "overflow": null,
       "padding": null,
       "right": null,
       "top": null,
       "visibility": null,
       "width": null
      }
     },
     "6b8f9f89f0314c888562f1879055eb87": {
      "model_module": "@jupyter-widgets/controls",
      "model_module_version": "2.0.0",
      "model_name": "HTMLStyleModel",
      "state": {
       "_model_module": "@jupyter-widgets/controls",
       "_model_module_version": "2.0.0",
       "_model_name": "HTMLStyleModel",
       "_view_count": null,
       "_view_module": "@jupyter-widgets/base",
       "_view_module_version": "2.0.0",
       "_view_name": "StyleView",
       "background": null,
       "description_width": "",
       "font_size": null,
       "text_color": null
      }
     },
     "77ab53400cac4a09981f9a72059c407b": {
      "model_module": "@jupyter-widgets/controls",
      "model_module_version": "2.0.0",
      "model_name": "HTMLStyleModel",
      "state": {
       "_model_module": "@jupyter-widgets/controls",
       "_model_module_version": "2.0.0",
       "_model_name": "HTMLStyleModel",
       "_view_count": null,
       "_view_module": "@jupyter-widgets/base",
       "_view_module_version": "2.0.0",
       "_view_name": "StyleView",
       "background": null,
       "description_width": "",
       "font_size": null,
       "text_color": null
      }
     },
     "7ff7aa3e221d49e9bde94290519e1027": {
      "model_module": "@jupyter-widgets/controls",
      "model_module_version": "2.0.0",
      "model_name": "ProgressStyleModel",
      "state": {
       "_model_module": "@jupyter-widgets/controls",
       "_model_module_version": "2.0.0",
       "_model_name": "ProgressStyleModel",
       "_view_count": null,
       "_view_module": "@jupyter-widgets/base",
       "_view_module_version": "2.0.0",
       "_view_name": "StyleView",
       "bar_color": null,
       "description_width": ""
      }
     },
     "80f62e668273491898e6aa1d1a0f0b4b": {
      "model_module": "@jupyter-widgets/base",
      "model_module_version": "2.0.0",
      "model_name": "LayoutModel",
      "state": {
       "_model_module": "@jupyter-widgets/base",
       "_model_module_version": "2.0.0",
       "_model_name": "LayoutModel",
       "_view_count": null,
       "_view_module": "@jupyter-widgets/base",
       "_view_module_version": "2.0.0",
       "_view_name": "LayoutView",
       "align_content": null,
       "align_items": null,
       "align_self": null,
       "border_bottom": null,
       "border_left": null,
       "border_right": null,
       "border_top": null,
       "bottom": null,
       "display": null,
       "flex": null,
       "flex_flow": null,
       "grid_area": null,
       "grid_auto_columns": null,
       "grid_auto_flow": null,
       "grid_auto_rows": null,
       "grid_column": null,
       "grid_gap": null,
       "grid_row": null,
       "grid_template_areas": null,
       "grid_template_columns": null,
       "grid_template_rows": null,
       "height": null,
       "justify_content": null,
       "justify_items": null,
       "left": null,
       "margin": null,
       "max_height": null,
       "max_width": null,
       "min_height": null,
       "min_width": null,
       "object_fit": null,
       "object_position": null,
       "order": null,
       "overflow": null,
       "padding": null,
       "right": null,
       "top": null,
       "visibility": null,
       "width": null
      }
     },
     "83699d35b7eb437ab744df97e14537c6": {
      "model_module": "@jupyter-widgets/controls",
      "model_module_version": "2.0.0",
      "model_name": "HTMLModel",
      "state": {
       "_dom_classes": [],
       "_model_module": "@jupyter-widgets/controls",
       "_model_module_version": "2.0.0",
       "_model_name": "HTMLModel",
       "_view_count": null,
       "_view_module": "@jupyter-widgets/controls",
       "_view_module_version": "2.0.0",
       "_view_name": "HTMLView",
       "description": "",
       "description_allow_html": false,
       "layout": "IPY_MODEL_80f62e668273491898e6aa1d1a0f0b4b",
       "placeholder": "​",
       "style": "IPY_MODEL_6b8f9f89f0314c888562f1879055eb87",
       "tabbable": null,
       "tooltip": null,
       "value": "100%"
      }
     },
     "88967acea3e44c018373a8fd4058ceea": {
      "model_module": "@jupyter-widgets/controls",
      "model_module_version": "2.0.0",
      "model_name": "FloatProgressModel",
      "state": {
       "_dom_classes": [],
       "_model_module": "@jupyter-widgets/controls",
       "_model_module_version": "2.0.0",
       "_model_name": "FloatProgressModel",
       "_view_count": null,
       "_view_module": "@jupyter-widgets/controls",
       "_view_module_version": "2.0.0",
       "_view_name": "ProgressView",
       "bar_style": "success",
       "description": "",
       "description_allow_html": false,
       "layout": "IPY_MODEL_3dab36cb8dba4bd1baafaa4719eac5c5",
       "max": 4.0,
       "min": 0.0,
       "orientation": "horizontal",
       "style": "IPY_MODEL_7ff7aa3e221d49e9bde94290519e1027",
       "tabbable": null,
       "tooltip": null,
       "value": 4.0
      }
     },
     "a1c554c46a9d449b8bf800f91e1c4ad3": {
      "model_module": "@jupyter-widgets/controls",
      "model_module_version": "2.0.0",
      "model_name": "HTMLModel",
      "state": {
       "_dom_classes": [],
       "_model_module": "@jupyter-widgets/controls",
       "_model_module_version": "2.0.0",
       "_model_name": "HTMLModel",
       "_view_count": null,
       "_view_module": "@jupyter-widgets/controls",
       "_view_module_version": "2.0.0",
       "_view_name": "HTMLView",
       "description": "",
       "description_allow_html": false,
       "layout": "IPY_MODEL_189487eb0430460490a503a81f34a536",
       "placeholder": "​",
       "style": "IPY_MODEL_77ab53400cac4a09981f9a72059c407b",
       "tabbable": null,
       "tooltip": null,
       "value": " 4/4 [00:38&lt;00:00,  7.59s/it]"
      }
     },
     "c235b7111fe742c4b79d3ad99283485f": {
      "model_module": "@jupyter-widgets/controls",
      "model_module_version": "2.0.0",
      "model_name": "HBoxModel",
      "state": {
       "_dom_classes": [],
       "_model_module": "@jupyter-widgets/controls",
       "_model_module_version": "2.0.0",
       "_model_name": "HBoxModel",
       "_view_count": null,
       "_view_module": "@jupyter-widgets/controls",
       "_view_module_version": "2.0.0",
       "_view_name": "HBoxView",
       "box_style": "",
       "children": [
        "IPY_MODEL_83699d35b7eb437ab744df97e14537c6",
        "IPY_MODEL_88967acea3e44c018373a8fd4058ceea",
        "IPY_MODEL_a1c554c46a9d449b8bf800f91e1c4ad3"
       ],
       "layout": "IPY_MODEL_d76cbebd6b294d2ab5bee5ba5a22aea1",
       "tabbable": null,
       "tooltip": null
      }
     },
     "d76cbebd6b294d2ab5bee5ba5a22aea1": {
      "model_module": "@jupyter-widgets/base",
      "model_module_version": "2.0.0",
      "model_name": "LayoutModel",
      "state": {
       "_model_module": "@jupyter-widgets/base",
       "_model_module_version": "2.0.0",
       "_model_name": "LayoutModel",
       "_view_count": null,
       "_view_module": "@jupyter-widgets/base",
       "_view_module_version": "2.0.0",
       "_view_name": "LayoutView",
       "align_content": null,
       "align_items": null,
       "align_self": null,
       "border_bottom": null,
       "border_left": null,
       "border_right": null,
       "border_top": null,
       "bottom": null,
       "display": null,
       "flex": null,
       "flex_flow": null,
       "grid_area": null,
       "grid_auto_columns": null,
       "grid_auto_flow": null,
       "grid_auto_rows": null,
       "grid_column": null,
       "grid_gap": null,
       "grid_row": null,
       "grid_template_areas": null,
       "grid_template_columns": null,
       "grid_template_rows": null,
       "height": null,
       "justify_content": null,
       "justify_items": null,
       "left": null,
       "margin": null,
       "max_height": null,
       "max_width": null,
       "min_height": null,
       "min_width": null,
       "object_fit": null,
       "object_position": null,
       "order": null,
       "overflow": null,
       "padding": null,
       "right": null,
       "top": null,
       "visibility": null,
       "width": null
      }
     }
    },
    "version_major": 2,
    "version_minor": 0
   }
  }
 },
 "nbformat": 4,
 "nbformat_minor": 5
}