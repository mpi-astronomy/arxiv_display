{
 "cells": [
  {
   "cell_type": "markdown",
   "id": "92bcb855",
   "metadata": {
    "papermill": {
     "duration": 0.00441,
     "end_time": "2024-08-20T04:09:22.172360",
     "exception": false,
     "start_time": "2024-08-20T04:09:22.167950",
     "status": "completed"
    },
    "tags": []
   },
   "source": [
    "# MPIA Arxiv on Deck 2\n",
    "\n",
    "Contains the steps to produce the paper extractions."
   ]
  },
  {
   "cell_type": "code",
   "execution_count": 1,
   "id": "3a0d6e11",
   "metadata": {
    "execution": {
     "iopub.execute_input": "2024-08-20T04:09:22.179682Z",
     "iopub.status.busy": "2024-08-20T04:09:22.179188Z",
     "iopub.status.idle": "2024-08-20T04:09:22.630150Z",
     "shell.execute_reply": "2024-08-20T04:09:22.629419Z"
    },
    "papermill": {
     "duration": 0.456475,
     "end_time": "2024-08-20T04:09:22.631870",
     "exception": false,
     "start_time": "2024-08-20T04:09:22.175395",
     "status": "completed"
    },
    "tags": []
   },
   "outputs": [],
   "source": [
    "# Imports\n",
    "import os\n",
    "from IPython.display import Markdown, display\n",
    "from tqdm.notebook import tqdm\n",
    "import warnings\n",
    "from PIL import Image \n",
    "\n",
    "# requires arxiv_on_deck_2\n",
    "\n",
    "from arxiv_on_deck_2.arxiv2 import (get_new_papers, \n",
    "                                    get_paper_from_identifier,\n",
    "                                    retrieve_document_source, \n",
    "                                    get_markdown_badge)\n",
    "from arxiv_on_deck_2 import (latex,\n",
    "                             latex_bib,\n",
    "                             mpia,\n",
    "                             highlight_authors_in_list)\n",
    "\n",
    "# Sometimes images are really big\n",
    "Image.MAX_IMAGE_PIXELS = 1000000000 "
   ]
  },
  {
   "cell_type": "code",
   "execution_count": 2,
   "id": "22aa9d44",
   "metadata": {
    "execution": {
     "iopub.execute_input": "2024-08-20T04:09:22.639176Z",
     "iopub.status.busy": "2024-08-20T04:09:22.638790Z",
     "iopub.status.idle": "2024-08-20T04:09:22.643878Z",
     "shell.execute_reply": "2024-08-20T04:09:22.643288Z"
    },
    "papermill": {
     "duration": 0.010538,
     "end_time": "2024-08-20T04:09:22.645537",
     "exception": false,
     "start_time": "2024-08-20T04:09:22.634999",
     "status": "completed"
    },
    "tags": []
   },
   "outputs": [],
   "source": [
    "# Some useful definitions.\n",
    "\n",
    "class AffiliationWarning(UserWarning):\n",
    "    pass\n",
    "\n",
    "class AffiliationError(RuntimeError):\n",
    "    pass\n",
    "\n",
    "def validation(source: str):\n",
    "    \"\"\"Raises error paper during parsing of source file\n",
    "    \n",
    "    Allows checks before parsing TeX code.\n",
    "    \n",
    "    Raises AffiliationWarning\n",
    "    \"\"\"\n",
    "    check = mpia.affiliation_verifications(source, verbose=True)\n",
    "    if check is not True:\n",
    "        raise AffiliationError(\"mpia.affiliation_verifications: \" + check)\n",
    "\n",
    "        \n",
    "warnings.simplefilter('always', AffiliationWarning)\n",
    "\n",
    "\n",
    "def get_markdown_qrcode(paper_id: str):\n",
    "    \"\"\" Generate a qrcode to the arxiv page using qrserver.com\n",
    "    \n",
    "    :param paper: Arxiv paper\n",
    "    :returns: markdown text\n",
    "    \"\"\"\n",
    "    url = r\"https://api.qrserver.com/v1/create-qr-code/?size=100x100&data=\"\n",
    "    txt = f\"\"\"<img src={url}\"https://arxiv.org/abs/{paper_id}\">\"\"\"\n",
    "    txt = '<div id=\"qrcode\">' + txt + '</div>'\n",
    "    return txt"
   ]
  },
  {
   "cell_type": "markdown",
   "id": "14bd6310",
   "metadata": {
    "papermill": {
     "duration": 0.002769,
     "end_time": "2024-08-20T04:09:22.651361",
     "exception": false,
     "start_time": "2024-08-20T04:09:22.648592",
     "status": "completed"
    },
    "tags": []
   },
   "source": [
    "## get list of arxiv paper candidates\n",
    "\n",
    "We use the MPIA mitarbeiter list webpage from mpia.de to get author names\n",
    "We then get all new papers from Arxiv and match authors"
   ]
  },
  {
   "cell_type": "code",
   "execution_count": 3,
   "id": "7ea813a8",
   "metadata": {
    "execution": {
     "iopub.execute_input": "2024-08-20T04:09:22.658222Z",
     "iopub.status.busy": "2024-08-20T04:09:22.657779Z",
     "iopub.status.idle": "2024-08-20T04:09:43.924257Z",
     "shell.execute_reply": "2024-08-20T04:09:43.923623Z"
    },
    "papermill": {
     "duration": 21.271574,
     "end_time": "2024-08-20T04:09:43.925824",
     "exception": false,
     "start_time": "2024-08-20T04:09:22.654250",
     "status": "completed"
    },
    "tags": []
   },
   "outputs": [],
   "source": [
    "# deal with the author list and edge cases of people that cannot be consistent on their name  \n",
    "\n",
    "def filter_non_scientists(name: str) -> bool:\n",
    "    \"\"\" Loose filter on expected authorships\n",
    "\n",
    "    removing IT, administration, technical staff\n",
    "    :param name: name\n",
    "    :returns: False if name is not a scientist\n",
    "    \"\"\"\n",
    "    remove_list = ['Wolf', 'Licht', 'Binroth', 'Witzel', 'Jordan',\n",
    "                   'Zähringer', 'Scheerer', 'Hoffmann', 'Düe',\n",
    "                   'Hellmich', 'Enkler-Scharpegge', 'Witte-Nguy',\n",
    "                   'Dehen', 'Beckmann', 'Jager', 'Jäger'\n",
    "                  ]\n",
    "\n",
    "    for k in remove_list:\n",
    "        if k in name:\n",
    "            return False\n",
    "    return True\n",
    "\n",
    "def add_author_to_list(author_list: list) -> list:\n",
    "    \"\"\" Add author to list if not already in list\n",
    "    \n",
    "    :param author: author name\n",
    "    :param author_list: list of authors\n",
    "    :returns: updated list of authors\n",
    "    \"\"\"\n",
    "    add_list = ['T. Henning']\n",
    "\n",
    "    for author in add_list:\n",
    "        if author not in author_list:\n",
    "            author_list.append(author)\n",
    "    return author_list\n",
    "\n",
    "# get list from MPIA website\n",
    "# filter for non-scientists (mpia.get_mpia_mitarbeiter_list() does some filtering)\n",
    "mpia_authors = [k[1] for k in mpia.get_mpia_mitarbeiter_list() if filter_non_scientists(k[1])]\n",
    "# add some missing author because of inconsistencies in their MPIA name and author name on papers\n",
    "mpia_authors = add_author_to_list(mpia_authors)"
   ]
  },
  {
   "cell_type": "code",
   "execution_count": 4,
   "id": "2645e73a",
   "metadata": {
    "execution": {
     "iopub.execute_input": "2024-08-20T04:09:43.933164Z",
     "iopub.status.busy": "2024-08-20T04:09:43.932780Z",
     "iopub.status.idle": "2024-08-20T04:09:44.651863Z",
     "shell.execute_reply": "2024-08-20T04:09:44.651202Z"
    },
    "papermill": {
     "duration": 0.724157,
     "end_time": "2024-08-20T04:09:44.653235",
     "exception": false,
     "start_time": "2024-08-20T04:09:43.929078",
     "status": "completed"
    },
    "tags": []
   },
   "outputs": [
    {
     "name": "stdout",
     "output_type": "stream",
     "text": [
      "X. Zhang  ->  X. Zhang  |  ['X. Zhang']\n",
      "M. Benisty  ->  M. Benisty  |  ['M. Benisty']\n",
      "J. Li  ->  J. Li  |  ['J. Li']\n",
      "J. Li  ->  J. Li  |  ['J. Li']\n",
      "I. J. M. Crossfield  ->  I. J. M. Crossfield  |  ['I. J. M. Crossfield']\n",
      "K. Lee  ->  K. Lee  |  ['K. Lee']\n",
      "F. Walter  ->  F. Walter  |  ['F. Walter']\n"
     ]
    },
    {
     "name": "stdout",
     "output_type": "stream",
     "text": [
      "H. Beuther  ->  H. Beuther  |  ['H. Beuther']\n",
      "S. Li  ->  S. Li  |  ['S. Li']\n",
      "Arxiv has 66 new papers today\n",
      "          8 with possible author matches\n"
     ]
    }
   ],
   "source": [
    "new_papers = get_new_papers()\n",
    "# add manual references\n",
    "add_paper_refs = []\n",
    "new_papers.extend([get_paper_from_identifier(k) for k in add_paper_refs])\n",
    "\n",
    "candidates = []\n",
    "for paperk in new_papers:\n",
    "    # Check author list with their initials\n",
    "    normed_author_list = [mpia.get_initials(k) for k in paperk['authors']]\n",
    "    hl_authors = highlight_authors_in_list(normed_author_list, mpia_authors, verbose=True)\n",
    "    matches = [(hl, orig) for hl, orig in zip(hl_authors, paperk['authors']) if 'mark' in hl]\n",
    "    paperk['authors'] = hl_authors\n",
    "    if matches:\n",
    "        # only select paper if an author matched our list\n",
    "        candidates.append(paperk)\n",
    "print(\"\"\"Arxiv has {0:,d} new papers today\"\"\".format(len(new_papers)))        \n",
    "print(\"\"\"          {0:,d} with possible author matches\"\"\".format(len(candidates)))"
   ]
  },
  {
   "cell_type": "markdown",
   "id": "3543b34a",
   "metadata": {
    "papermill": {
     "duration": 0.003271,
     "end_time": "2024-08-20T04:09:44.660946",
     "exception": false,
     "start_time": "2024-08-20T04:09:44.657675",
     "status": "completed"
    },
    "tags": []
   },
   "source": [
    "# Parse sources and generate relevant outputs\n",
    "\n",
    "From the candidates, we do the following steps:\n",
    "* get their tarball from ArXiv (and extract data)\n",
    "* find the main .tex file: find one with \\documentclass{...} (sometimes it's non trivial)\n",
    "* Check affiliations with :func:`validation`, which uses :func:`mpia.affiliation_verifications`\n",
    "* If passing the affiliations: we parse the .tex source\n",
    "   * inject sub-documents into the main (flatten the main document)\n",
    "   * parse structure, extract information (title, abstract, authors, figures...)\n",
    "   * handles `\\graphicspath` if provided\n",
    "* Generate the .md document."
   ]
  },
  {
   "cell_type": "code",
   "execution_count": 5,
   "id": "9576b79e",
   "metadata": {
    "execution": {
     "iopub.execute_input": "2024-08-20T04:09:44.668238Z",
     "iopub.status.busy": "2024-08-20T04:09:44.667852Z",
     "iopub.status.idle": "2024-08-20T04:11:08.994594Z",
     "shell.execute_reply": "2024-08-20T04:11:08.993808Z"
    },
    "papermill": {
     "duration": 84.336411,
     "end_time": "2024-08-20T04:11:09.000412",
     "exception": false,
     "start_time": "2024-08-20T04:09:44.664001",
     "status": "completed"
    },
    "scrolled": false,
    "tags": []
   },
   "outputs": [
    {
     "data": {
      "application/vnd.jupyter.widget-view+json": {
       "model_id": "546b1421489c4fc4b151df9f85217050",
       "version_major": 2,
       "version_minor": 0
      },
      "text/plain": [
       "  0%|          | 0/8 [00:00<?, ?it/s]"
      ]
     },
     "metadata": {},
     "output_type": "display_data"
    },
    {
     "name": "stdout",
     "output_type": "stream",
     "text": [
      "Retrieving document from  https://arxiv.org/e-print/2408.09051\n"
     ]
    },
    {
     "name": "stdout",
     "output_type": "stream",
     "text": [
      "extracting tarball to tmp_2408.09051..."
     ]
    },
    {
     "name": "stdout",
     "output_type": "stream",
     "text": [
      " done.\n",
      "Retrieving document from  https://arxiv.org/e-print/2408.09216\n",
      "extracting tarball to tmp_2408.09216..."
     ]
    },
    {
     "name": "stderr",
     "output_type": "stream",
     "text": [
      "/opt/hostedtoolcache/Python/3.9.19/x64/lib/python3.9/site-packages/IPython/core/interactiveshell.py:3550: LatexWarning: Multiple tex files.\n",
      "\n",
      "  exec(code_obj, self.user_global_ns, self.user_ns)\n",
      "/tmp/ipykernel_2723/1211882699.py:51: LatexWarning: 2408.09051 did not run properly\n",
      "'PosixPath' object is not subscriptable\n",
      "  warnings.warn(latex.LatexWarning(f\"{paper_id:s} did not run properly\\n\" +\n"
     ]
    },
    {
     "name": "stdout",
     "output_type": "stream",
     "text": [
      " done.\n"
     ]
    },
    {
     "name": "stdout",
     "output_type": "stream",
     "text": [
      "M. Benisty  ->  M. Benisty  |  ['M. Benisty']\n"
     ]
    },
    {
     "name": "stdout",
     "output_type": "stream",
     "text": [
      "Found 60 bibliographic references in tmp_2408.09216/main.bbl.\n",
      "Retrieving document from  https://arxiv.org/e-print/2408.09260\n",
      "Retrieving document from  https://arxiv.org/e-print/2408.09502\n"
     ]
    },
    {
     "name": "stderr",
     "output_type": "stream",
     "text": [
      "/tmp/ipykernel_2723/1211882699.py:51: LatexWarning: 2408.09260 did not run properly\n",
      "not a gzip file\n",
      "  warnings.warn(latex.LatexWarning(f\"{paper_id:s} did not run properly\\n\" +\n"
     ]
    },
    {
     "name": "stdout",
     "output_type": "stream",
     "text": [
      "extracting tarball to tmp_2408.09502..."
     ]
    },
    {
     "name": "stdout",
     "output_type": "stream",
     "text": [
      " done.\n",
      "Retrieving document from  https://arxiv.org/e-print/2408.09606\n"
     ]
    },
    {
     "name": "stdout",
     "output_type": "stream",
     "text": [
      "extracting tarball to tmp_2408.09606..."
     ]
    },
    {
     "name": "stdout",
     "output_type": "stream",
     "text": [
      " done.\n",
      "Retrieving document from  https://arxiv.org/e-print/2408.09708\n"
     ]
    },
    {
     "name": "stdout",
     "output_type": "stream",
     "text": [
      "extracting tarball to tmp_2408.09708... done.\n",
      "Retrieving document from  https://arxiv.org/e-print/2408.09944\n"
     ]
    },
    {
     "name": "stdout",
     "output_type": "stream",
     "text": [
      "extracting tarball to tmp_2408.09944... done.\n"
     ]
    },
    {
     "name": "stderr",
     "output_type": "stream",
     "text": [
      "/tmp/ipykernel_2723/1211882699.py:51: LatexWarning: 2408.09944 did not run properly\n",
      "Unable to locate Ghostscript on paths\n",
      "  warnings.warn(latex.LatexWarning(f\"{paper_id:s} did not run properly\\n\" +\n"
     ]
    },
    {
     "name": "stdout",
     "output_type": "stream",
     "text": [
      "Retrieving document from  https://arxiv.org/e-print/2408.10199\n"
     ]
    },
    {
     "name": "stdout",
     "output_type": "stream",
     "text": [
      "extracting tarball to tmp_2408.10199..."
     ]
    },
    {
     "name": "stdout",
     "output_type": "stream",
     "text": [
      " done.\n"
     ]
    },
    {
     "name": "stdout",
     "output_type": "stream",
     "text": [
      "H. Beuther  ->  H. Beuther  |  ['H. Beuther']\n",
      "S. Li  ->  S. Li  |  ['S. Li']\n"
     ]
    },
    {
     "name": "stdout",
     "output_type": "stream",
     "text": [
      "Found 41 bibliographic references in tmp_2408.10199/ms2.bbl.\n"
     ]
    }
   ],
   "source": [
    "documents = []\n",
    "failed = []\n",
    "for paper in tqdm(candidates):\n",
    "    # debug crap\n",
    "    paper['identifier'] = paper['identifier'].lower().replace('arxiv:', '').replace(r'\\n', '').strip()\n",
    "    paper_id = paper['identifier']\n",
    "    \n",
    "    folder = f'tmp_{paper_id}'\n",
    "\n",
    "    try:\n",
    "        if not os.path.isdir(folder):\n",
    "            folder = retrieve_document_source(f\"{paper_id}\", f'tmp_{paper_id}')\n",
    "        \n",
    "        try:\n",
    "            doc = latex.LatexDocument(folder, validation=validation)    \n",
    "        except AffiliationError as affilerror:\n",
    "            msg = f\"ArXiv:{paper_id:s} is not an MPIA paper... \" + str(affilerror)\n",
    "            failed.append((paper, \"affiliation error: \" + str(affilerror) ))\n",
    "            continue\n",
    "        \n",
    "        # Hack because sometimes author parsing does not work well\n",
    "        if (len(doc.authors) != len(paper['authors'])):\n",
    "            doc._authors = paper['authors']\n",
    "        else:\n",
    "            # highlight authors (FIXME: doc.highlight_authors)\n",
    "            # done on arxiv paper already\n",
    "            doc._authors = highlight_authors_in_list(\n",
    "                [mpia.get_initials(k) for k in doc.authors], \n",
    "                mpia_authors, verbose=True)\n",
    "        if (doc.abstract) in (None, ''):\n",
    "            doc._abstract = paper['abstract']\n",
    "            \n",
    "        doc.comment = (get_markdown_badge(paper_id) + \n",
    "                       \"<mark>Appeared on: \" + paper['date'] + \"</mark> - \")\n",
    "        if paper['comments']:\n",
    "            doc.comment += \" _\" + paper['comments'] + \"_\"\n",
    "        \n",
    "        full_md = doc.generate_markdown_text()\n",
    "        \n",
    "        full_md += get_markdown_qrcode(paper_id)\n",
    "        \n",
    "        # replace citations\n",
    "        try:\n",
    "            bibdata = latex_bib.LatexBib.from_doc(doc)\n",
    "            full_md = latex_bib.replace_citations(full_md, bibdata)\n",
    "        except Exception as e:\n",
    "            print(e)\n",
    "        \n",
    "        documents.append((paper_id, full_md))\n",
    "    except Exception as e:\n",
    "        warnings.warn(latex.LatexWarning(f\"{paper_id:s} did not run properly\\n\" +\n",
    "                                         str(e)\n",
    "                                        ))\n",
    "        failed.append((paper, \"latex error \" + str(e)))"
   ]
  },
  {
   "cell_type": "markdown",
   "id": "2505a25c",
   "metadata": {
    "papermill": {
     "duration": 0.004083,
     "end_time": "2024-08-20T04:11:09.008672",
     "exception": false,
     "start_time": "2024-08-20T04:11:09.004589",
     "status": "completed"
    },
    "tags": []
   },
   "source": [
    "### Export the logs\n",
    "\n",
    "Throughout, we also keep track of the logs per paper. see `logs-{today date}.md` "
   ]
  },
  {
   "cell_type": "code",
   "execution_count": 6,
   "id": "d733828a",
   "metadata": {
    "execution": {
     "iopub.execute_input": "2024-08-20T04:11:09.018119Z",
     "iopub.status.busy": "2024-08-20T04:11:09.017558Z",
     "iopub.status.idle": "2024-08-20T04:11:09.036014Z",
     "shell.execute_reply": "2024-08-20T04:11:09.035336Z"
    },
    "papermill": {
     "duration": 0.024623,
     "end_time": "2024-08-20T04:11:09.037292",
     "exception": false,
     "start_time": "2024-08-20T04:11:09.012669",
     "status": "completed"
    },
    "scrolled": false,
    "tags": []
   },
   "outputs": [
    {
     "data": {
      "text/markdown": [
       "## Successful papers"
      ],
      "text/plain": [
       "<IPython.core.display.Markdown object>"
      ]
     },
     "metadata": {},
     "output_type": "display_data"
    },
    {
     "data": {
      "text/markdown": [
       "\n",
       "|||\n",
       "|---:|:---|\n",
       "| [![arXiv](https://img.shields.io/badge/arXiv-2408.09216-b31b1b.svg)](https://arxiv.org/abs/2408.09216) | **Asymmetric dust accumulation of the PDS 70 disk revealed by ALMA Band 3 observations**  |\n",
       "|| K. Doi, et al. -- incl., <mark>M. Benisty</mark> |\n",
       "|*Appeared on*| *2024-08-20*|\n",
       "|*Comments*| *submitted*|\n",
       "|**Abstract**|            The PDS 70 system, hosting two planets within its disk, is an ideal target for examining the effect of planets on dust accumulation, growth, and ongoing planet formation. Here, we present high-resolution ($0.''07 = 8 \\ \\mathrm{au}$) dust continuum observations of the PDS 70 disk in ALMA Band 3 (3.0 mm). While previous Band 7 observations showed a dust ring with slight asymmetry, our Band 3 observations reveal a more prominent asymmetric peak in the northwest direction, where the intensity is 2.5 times higher than in other directions and the spectral index is at the local minimum with $\\alpha_{\\mathrm{SED}} \\sim 2.2$. This indicates that a substantial amount of dust is accumulated both radially and azimuthally in the peak. We also detect point-source emission around the stellar position in the Band 3 image, which is likely to be free-free emission. We constrain the eccentricity of the outer ring to be $e<0.04$ from the position of the central star and the outer ring. From the comparison with numerical simulations, we constrain the mass of PDS 70c to be less than 4.9 Jupiter masses if the gas turbulence strength $\\alpha_{\\mathrm{turb}} = 10^{-3}$. Then, we discuss the formation mechanism of the disk structures and further planet formation scenarios in the disk.         |"
      ],
      "text/plain": [
       "[2408.09216] Asymmetric dust accumulation of the PDS 70 disk revealed by ALMA Band 3 observations\n",
       "\tK. Doi, et al. -- incl., <mark>M. Benisty</mark>"
      ]
     },
     "metadata": {},
     "output_type": "display_data"
    },
    {
     "data": {
      "text/markdown": [
       "\n",
       "|||\n",
       "|---:|:---|\n",
       "| [![arXiv](https://img.shields.io/badge/arXiv-2408.10199-b31b1b.svg)](https://arxiv.org/abs/2408.10199) | **Magnetic Fields in Massive Star-forming Regions (MagMaR) IV: Tracing the Magnetic Fields in the O-type protostellar system IRAS 16547$-$4247**  |\n",
       "|| L. A. Zapata, et al. -- incl., <mark>H. Beuther</mark>, <mark>S. Li</mark> |\n",
       "|*Appeared on*| *2024-08-20*|\n",
       "|*Comments*| *Accepted by the Astrophysical Journal, 13 pages*|\n",
       "|**Abstract**|            The formation of the massive stars, and in particular, the role that the magnetic fields play in their early evolutionary phase is still far from being completely understood. Here, we present Atacama Large Millimeter/Submillimeter Array (ALMA) 1.2 mm full polarized continuum, and H$^{13}$CO$^+$(3$-$2), CS(5$-$4), and HN$^{13}$C(3$-$2) line observations with a high angular resolution ($\\sim$0.4$''$ or 1100 au). In the 1.2 mm continuum emission, we reveal a dusty envelope surrounding the massive protostars, IRAS16547-E and IRAS16547-W, with dimensions of $\\sim$10,000 au. This envelope has a bi-conical structure likely carved by the powerful thermal radio jet present in region. The magnetic fields vectors follow very-well the bi-conical envelope. The polarization fraction is $\\sim$2.0\\% in this region. Some of these vectors seem to converge to IRAS 16547-E, and IRAS 16547-W, the most massive protostars. Moreover, the velocity fields revealed from the spectral lines H$^{13}$CO$^+$(3$-$2), and HN$^{13}$C(3$-$2) show velocity gradients with a good correspondence with the magnetic fields, that maybe are tracing the cavities of molecular outflows or maybe in some parts infall. We derived a magnetic field strength in some filamentary regions that goes from 2 to 6.1\\,mG. We also find that the CS(5$-$4) molecular line emission reveals multiple outflow cavities or bow-shocks with different orientations, some of which seem to follow the NW-SE radio thermal jet.         |"
      ],
      "text/plain": [
       "[2408.10199] Magnetic Fields in Massive Star-forming Regions (MagMaR) IV: Tracing the Magnetic Fields in the O-type protostellar system IRAS 16547$-$4247\n",
       "\tL. A. Zapata, et al. -- incl., <mark>H. Beuther</mark>, <mark>S. Li</mark>"
      ]
     },
     "metadata": {},
     "output_type": "display_data"
    },
    {
     "data": {
      "text/markdown": [
       "## Failed papers"
      ],
      "text/plain": [
       "<IPython.core.display.Markdown object>"
      ]
     },
     "metadata": {},
     "output_type": "display_data"
    },
    {
     "data": {
      "text/markdown": [
       "\n",
       "|||\n",
       "|---:|:---|\n",
       "| [![arXiv](https://img.shields.io/badge/arXiv-2408.09502-b31b1b.svg)](https://arxiv.org/abs/2408.09502) | **The Electrical Design of a Membrane Antenna for Lunar-based Low-frequency Radio Telescope**  |\n",
       "|| Suonanben, et al. -- incl., <mark>J. Li</mark> |\n",
       "|*Appeared on*| *2024-08-20*|\n",
       "|*Comments*| *14 pages, 19 figures*|\n",
       "|**Abstract**|            Detecting primordial fluctuations from the cosmic dark ages requires extremely large low-frequency radio telescope arrays deployed on the far side of the Moon. The antenna of such an array must be lightweight, easily storable and transportable, deployable on a large scale, durable, and capable of good electrical performance. A membrane antenna is an excellent candidate to meet these criteria. We study the design of a low-frequency membrane antenna for a lunar-based low-frequency (<30 MHz) radio telescope constructed from polyimide film widely used in aerospace applications, owing to its excellent dielectric properties and high stability as a substrate material. We first design and optimize an antenna in free space through dipole deformation and coupling principles, then simulate an antenna on the lunar surface with a simple lunar soil model, yielding an efficiency greater than 90% in the range of 12-19 MHz and greater than 10% in the range of 5-35 MHz. The antenna inherits the omni-directional radiation pattern of a simple dipole antenna in the 5-30 MHz frequency band, giving a large field of view and allowing detection of the 21 cm global signal when used alone. A demonstration prototype is constructed, and its measured electrical property is found to be consistent with simulated results using |S11| measurements. This membrane antenna can potentially fulfill the requirements of a lunar low-frequency array, establishing a solid technical foundation for future large-scale arrays for exploring the cosmic dark ages.         |\n",
       "|<p style=\"color:green\"> **ERROR** </p>| <p style=\"color:green\">affiliation error: mpia.affiliation_verifications: 'Heidelberg' keyword not found.</p> |"
      ],
      "text/plain": [
       "<IPython.core.display.Markdown object>"
      ]
     },
     "metadata": {},
     "output_type": "display_data"
    },
    {
     "data": {
      "text/markdown": [
       "\n",
       "|||\n",
       "|---:|:---|\n",
       "| [![arXiv](https://img.shields.io/badge/arXiv-2408.09606-b31b1b.svg)](https://arxiv.org/abs/2408.09606) | **Global weather map reveals persistent top-of-atmosphere features on the nearest brown dwarfs**  |\n",
       "|| X. Chen, et al. -- incl., <mark>I. J. M. Crossfield</mark> |\n",
       "|*Appeared on*| *2024-08-20*|\n",
       "|*Comments*| *32 pages, 14 figures, accepted for publication in MNRAS*|\n",
       "|**Abstract**|            Brown dwarfs and planetary-mass companions display rotationally modulated photometric variability, especially those near the L/T transition. This variability is commonly attributed to top-of-atmosphere (TOA) inhomogeneities, with proposed models including patchy thick and thin clouds, planetary-scale jets, or chemical disequilibrium. Surface mapping techniques are powerful tools to probe their atmospheric structures and distinguish between models. One of the most successful methods for stellar surface mapping is Doppler imaging, where the existence of TOA inhomogeneities can be inferred from their varying Doppler shifts across the face of a rotating star. We applied Doppler imaging to the nearest brown dwarf binary WISE 1049AB (aka Luhman 16AB) using time-resolved, high-resolution spectroscopic observations from Gemini IGRINS, and obtained for the first time H and K band simultaneous global weather map for brown dwarfs. Compared to the only previous Doppler map for a brown dwarf in 2014 featuring a predominant mid-latitude cold spot on WISE 1049B and no feature on WISE 1049A, our observations detected persistent spot-like structures on WISE 1049B in the equatorial to mid-latitude regions on two nights, and revealed new polar spots on WISE 1049A. Our results suggest stability of atmospheric features over timescale of days and possible long-term stable or recurring structures. H and K band maps displayed similar structures in and out of CO bands, indicating the cold spots not solely due to chemical hotspots but must involve clouds. Upcoming 30-m extremely large telescopes (ELTs) will enable more sensitive Doppler imaging of dozens of brown dwarfs and even a small number of directly-imaged exoplanets.         |\n",
       "|<p style=\"color:green\"> **ERROR** </p>| <p style=\"color:green\">affiliation error: mpia.affiliation_verifications: 'Heidelberg' keyword not found.</p> |"
      ],
      "text/plain": [
       "<IPython.core.display.Markdown object>"
      ]
     },
     "metadata": {},
     "output_type": "display_data"
    },
    {
     "data": {
      "text/markdown": [
       "\n",
       "|||\n",
       "|---:|:---|\n",
       "| [![arXiv](https://img.shields.io/badge/arXiv-2408.09708-b31b1b.svg)](https://arxiv.org/abs/2408.09708) | **AXPs/SGRs: strange stars with crusts?**  |\n",
       "|| G. Qiao, et al. -- incl., <mark>K. Lee</mark> |\n",
       "|*Appeared on*| *2024-08-20*|\n",
       "|*Comments*| *12 pages, 3 figures, accepted for publication in JUSTC*|\n",
       "|**Abstract**|            The emission of Anomalous X-ray Pulsars (AXPs) and Soft Gamma-Ray Repeaters (SGRs) is believed to be powered by the dissipation of their strong magnetic fields, which coined the name `magnetar'. By combining timing and energy observational results, the magnetar model can be easily appreciated. From a timing perspective, the magnetic field strengths of AXPs and SGRs, calculated assuming dipole radiation, are extremely strong. From an energy perspective, the X-ray/soft gamma-ray luminosities of AXPs and SGRs are larger than their rotational energy loss rates (i.e., $ L_{\\rm X}>\\dot E_{\\rm rot}$). It is thus reasonable to assume that the high-energy radiation comes from magnetic energy decay, and the magnetar model has been extensively discussed (or accepted). However, we argue that: (1) calculating magnetic fields by assuming that rotational energy loss is dominated by dipole radiation (i.e., $\\dot{E}_{\\rm rot}\\simeq\\dot{E}_{\\mu}$)) may be controversial, and we suggest that the energies carried by outflowing particles should also be considered; and (2) the fact that X-ray luminosity is greater than the rotational energy loss rate does not necessarily mean that the emission energy comes from the magnetic field decaying, which requires further observational testing. Furthermore, some observational facts conflict with the `magnetar' model, such as observations of anti-magnetars, high magnetic field pulsars, and radio and X-ray observations of AXPs/SGRs. Therefore, we propose a crusted strange star model as an alternative, which can explain many more observational facts of AXPs/SGRs.         |\n",
       "|<p style=\"color:green\"> **ERROR** </p>| <p style=\"color:green\">affiliation error: mpia.affiliation_verifications: 'Heidelberg' keyword not found.</p> |"
      ],
      "text/plain": [
       "<IPython.core.display.Markdown object>"
      ]
     },
     "metadata": {},
     "output_type": "display_data"
    },
    {
     "data": {
      "text/markdown": [
       "\n",
       "|||\n",
       "|---:|:---|\n",
       "| [![arXiv](https://img.shields.io/badge/arXiv-2408.09051-b31b1b.svg)](https://arxiv.org/abs/2408.09051) | **AI-assisted super-resolution cosmological simulations IV: An emulator for deterministic realizations**  |\n",
       "|| <mark>X. Zhang</mark>, et al. |\n",
       "|*Appeared on*| *2024-08-20*|\n",
       "|*Comments*| *16 pages, 15 figures*|\n",
       "|**Abstract**|            Super-resolution (SR) models in cosmological simulations use deep learning (DL) to rapidly supplement low-resolution (LR) runs with statistically correct, fine details. The SR technique preserves large-scale structures by conditioning on a low-resolution (LR) version of the simulation. On smaller scales, the generative deep learning (DL) process is stochastic, resulting in numerous possible SR realizations, each with unique small-scale structures. Validation of SR then relies on making sure that a specific statistic of interest is accurately reproduced by comparing SR and high resolution (HR) runs. In this study, we develop an emulator designed to reproduce the individual small-scale structures of an HR simulation as closely as possible. We process an SR realization alongside a specific High-Resolution Initial Condition (HRIC), transforming the SR output to emulate the results of a full simulation with that HRIC. By comparing visualizations, individual halo measures and cross-correlating Fourier modes we show that the emulated SR runs closely align with the corresponding HR simulation, even on length scales an order of magnitude smaller than the LR run. Additionally, small halos are trained to match the HR simulation, and the subhalo mass function is more accurately reproduced. These results show the promise of this method for generating numerous fast and accurate simulations and mock observations for large galaxy surveys.         |\n",
       "|<p style=\"color:red\"> **ERROR** </p>| <p style=\"color:red\">latex error 'PosixPath' object is not subscriptable</p> |"
      ],
      "text/plain": [
       "<IPython.core.display.Markdown object>"
      ]
     },
     "metadata": {},
     "output_type": "display_data"
    },
    {
     "data": {
      "text/markdown": [
       "\n",
       "|||\n",
       "|---:|:---|\n",
       "| [![arXiv](https://img.shields.io/badge/arXiv-2408.09944-b31b1b.svg)](https://arxiv.org/abs/2408.09944) | **Detection of the [O I] 63 $\\mu$m emission line from the $z = 6.04$ quasar J2054-0005**  |\n",
       "|| N. Ishii, et al. -- incl., <mark>F. Walter</mark> |\n",
       "|*Appeared on*| *2024-08-20*|\n",
       "|*Comments*| *Submitted to PASJ. 5 figures and 3 tables. Comments are very welcome*|\n",
       "|**Abstract**|            We report the highest-redshift detection of [O I] 63 $\\mu$m from a luminous quasar, J2054-0005, at $z=6.04$ based on the Atacama Large Millimeter/sub-millimeter Array Band 9 observations. The [O I] 63 $\\mu$m line luminosity is $(4.5\\pm1.5) \\times 10^{9}~L_{\\rm \\odot}$, corresponding to the [O I] 63 $\\mu$m-to-far-infrared luminosity ratio of $\\approx 6.7\\times10^{-4}$, which is consistent with the value obtained in the local universe. Remarkably, [O I] 63 $\\mu$m is as bright as [C II] 158 $\\mu$m, resulting in the [O I]-to-[C II] line luminosity ratio of $1.3\\pm0.5$. Based on a careful comparison of the luminosity ratios of [O I] 63 $\\mu$m, [C II] 158 $\\mu$m, and dust continuum emission to models of photo-dissociation regions, we find that J2054-0005 has a gas density log($n_{\\rm H}$/cm$^{-3}$)$=3.7\\pm0.3$ and an incident far-ultraviolet radiation field of log($G/G_{\\rm 0}$)$= 3.0\\pm0.1$, showing that [O I] 63 $\\mu$m serves as an important coolant of the dense and warm gas in J2054-0005. A close examination of the [O I] and [C II] line profiles suggests that the [O I] line may be partially self-absorbed, however deeper observations are needed to verify this conclusion. Regardless, the gas density and incident radiation field are in a broad agreement with the values obtained in nearby star-forming galaxies and objects with [O I] 63 $\\mu$m observations at $z=1-3$ with the Herschel Space Observatory. These results demonstrate the power of ALMA high-frequency observations targeting [O I] 63 $\\mu$m to examine the properties of photo-dissociation regions in high-redshift galaxies.         |\n",
       "|<p style=\"color:red\"> **ERROR** </p>| <p style=\"color:red\">latex error Unable to locate Ghostscript on paths</p> |"
      ],
      "text/plain": [
       "<IPython.core.display.Markdown object>"
      ]
     },
     "metadata": {},
     "output_type": "display_data"
    },
    {
     "data": {
      "text/markdown": [
       "\n",
       "|||\n",
       "|---:|:---|\n",
       "| [![arXiv](https://img.shields.io/badge/arXiv-2408.09260-b31b1b.svg)](https://arxiv.org/abs/2408.09260) | **Analysis of the Effect of Tilted Corner Cube Reflector Arrays on Lunar Laser Ranging**  |\n",
       "|| J. Cao, et al. -- incl., <mark>J. Li</mark> |\n",
       "|*Appeared on*| *2024-08-20*|\n",
       "|*Comments*| **|\n",
       "|**Abstract**|            This paper primarily investigates the effect of the tilt of corner cube reflector (CCR) arrays on lunar laser ranging (LLR). A mathematical model was established to study the random errors caused by the tilt of the CCR arrays. The study found that, ideally, when the laser ranging pulse width is 10 picoseconds or less, it is possible to distinguish from which specific corner cubes within the CCR array each peak in the echo signal originates. Consequently, partial data from the echo can be extracted for signal processing, significantly reducing random errors and improving the single-shot precision of LLR. The distance obtained by extracting part of the echo can be reduced to the center position of the array, thereby providing multiple higher-precision ranging results from each measurement. This not only improves the precision of LLR but also increases the data volume. A simulation experiment based on the 1.2 m laser ranging system at Yunnan Observatories was conducted. By extracting one peak for signal processing, the single-shot precision improved from 32.24 mm to 2.52 mm, validating the theoretical analysis results. Finally, an experimental laser ranging system based on a 53 cm binocular telescope system was established for ground experiments. The experimental results indicated that the echo signal could identify the tilt state of the CCR array. By extracting the peak returned by the central CCR for signal processing, the ranging precision was greatly improved. Through theoretical analyses, simulation experiments, and ground experiments, a solution to reduce the random errors caused by the tilt of the CCR array was provided. This offers an approach to enhance the single-shot precision of future LLR and provides a reference for upgrading ground-based equipment at future laser ranging stations.         |\n",
       "|<p style=\"color:red\"> **ERROR** </p>| <p style=\"color:red\">latex error not a gzip file</p> |"
      ],
      "text/plain": [
       "<IPython.core.display.Markdown object>"
      ]
     },
     "metadata": {},
     "output_type": "display_data"
    }
   ],
   "source": [
    "import datetime\n",
    "today = str(datetime.date.today())\n",
    "logfile = f\"_build/html/logs/log-{today}.md\"\n",
    "\n",
    "\n",
    "with open(logfile, 'w') as logs:\n",
    "    # Success\n",
    "    logs.write(f'# Arxiv on Deck 2: Logs - {today}\\n\\n')\n",
    "    logs.write(\"\"\"* Arxiv had {0:,d} new papers\\n\"\"\".format(len(new_papers)))\n",
    "    logs.write(\"\"\"    * {0:,d} with possible author matches\\n\\n\"\"\".format(len(candidates)))\n",
    "    logs.write(\"## Sucessful papers\\n\\n\")\n",
    "    display(Markdown(\"## Successful papers\"))\n",
    "    success = [k[0] for k in documents]\n",
    "    for candid in candidates:\n",
    "        if candid['identifier'].split(':')[-1] in success:\n",
    "            display(candid)\n",
    "            logs.write(candid.generate_markdown_text() + '\\n\\n')\n",
    "\n",
    "    ## failed\n",
    "    logs.write(\"## Failed papers\\n\\n\")\n",
    "    display(Markdown(\"## Failed papers\"))\n",
    "    failed = sorted(failed, key=lambda x: x[1])\n",
    "    current_reason = \"\"\n",
    "    for paper, reason in failed:\n",
    "        if 'affiliation' in reason:\n",
    "            color = 'green'\n",
    "        else:\n",
    "            color = 'red'\n",
    "        data = Markdown(\n",
    "                paper.generate_markdown_text() + \n",
    "                f'\\n|<p style=\"color:{color:s}\"> **ERROR** </p>| <p style=\"color:{color:s}\">{reason:s}</p> |'\n",
    "               )\n",
    "        if reason != current_reason:\n",
    "            logs.write(f'### {reason:s} \\n\\n')\n",
    "            current_reason = reason\n",
    "        logs.write(data.data + '\\n\\n')\n",
    "        \n",
    "        # only display here the important errors (all in logs)\n",
    "        # if color in ('red',):\n",
    "        display(data)"
   ]
  },
  {
   "cell_type": "markdown",
   "id": "472d20ee",
   "metadata": {
    "papermill": {
     "duration": 0.004958,
     "end_time": "2024-08-20T04:11:09.047415",
     "exception": false,
     "start_time": "2024-08-20T04:11:09.042457",
     "status": "completed"
    },
    "tags": []
   },
   "source": [
    "## Export documents\n",
    "\n",
    "We now write the .md files and export relevant images"
   ]
  },
  {
   "cell_type": "code",
   "execution_count": 7,
   "id": "d426aed9",
   "metadata": {
    "execution": {
     "iopub.execute_input": "2024-08-20T04:11:09.058346Z",
     "iopub.status.busy": "2024-08-20T04:11:09.058143Z",
     "iopub.status.idle": "2024-08-20T04:11:09.064920Z",
     "shell.execute_reply": "2024-08-20T04:11:09.064332Z"
    },
    "papermill": {
     "duration": 0.013808,
     "end_time": "2024-08-20T04:11:09.066214",
     "exception": false,
     "start_time": "2024-08-20T04:11:09.052406",
     "status": "completed"
    },
    "tags": []
   },
   "outputs": [],
   "source": [
    "def export_markdown_summary(md: str, md_fname:str, directory: str):\n",
    "    \"\"\"Export MD document and associated relevant images\"\"\"\n",
    "    import os\n",
    "    import shutil\n",
    "    import re\n",
    "\n",
    "    if (os.path.exists(directory) and not os.path.isdir(directory)):\n",
    "        raise RuntimeError(f\"a non-directory file exists with name {directory:s}\")\n",
    "\n",
    "    if (not os.path.exists(directory)):\n",
    "        print(f\"creating directory {directory:s}\")\n",
    "        os.mkdir(directory)\n",
    "\n",
    "    fig_fnames = (re.compile(r'\\[Fig.*\\]\\((.*)\\)').findall(md) + \n",
    "                  re.compile(r'\\<img src=\"([^>\\s]*)\"[^>]*/>').findall(md))\n",
    "    print(\"found figures\", fig_fnames)\n",
    "    for fname in fig_fnames:\n",
    "        if 'http' in fname:\n",
    "            # No need to copy online figures\n",
    "            continue\n",
    "        if not os.path.exists(fname):\n",
    "            print(\"file not found\", fname)\n",
    "            continue\n",
    "        print(\"copying \", fname, \"to\", directory)\n",
    "        destdir = os.path.join(directory, os.path.dirname(fname))\n",
    "        destfname = os.path.join(destdir, os.path.basename(fname))\n",
    "        try:\n",
    "            os.makedirs(destdir)\n",
    "        except FileExistsError:\n",
    "            pass\n",
    "        shutil.copy(fname, destfname)\n",
    "    with open(os.path.join(directory, md_fname), 'w') as fout:\n",
    "        fout.write(md)\n",
    "    print(\"exported in \", os.path.join(directory, md_fname))\n",
    "    [print(\"    + \" + os.path.join(directory,fk)) for fk in fig_fnames]"
   ]
  },
  {
   "cell_type": "code",
   "execution_count": 8,
   "id": "014d04a4",
   "metadata": {
    "execution": {
     "iopub.execute_input": "2024-08-20T04:11:09.077496Z",
     "iopub.status.busy": "2024-08-20T04:11:09.077026Z",
     "iopub.status.idle": "2024-08-20T04:11:09.093697Z",
     "shell.execute_reply": "2024-08-20T04:11:09.093152Z"
    },
    "papermill": {
     "duration": 0.023662,
     "end_time": "2024-08-20T04:11:09.095010",
     "exception": false,
     "start_time": "2024-08-20T04:11:09.071348",
     "status": "completed"
    },
    "tags": []
   },
   "outputs": [
    {
     "name": "stdout",
     "output_type": "stream",
     "text": [
      "found figures ['tmp_2408.09216/./spectral_index_1x2.png', 'tmp_2408.09216/./ring_corner_B3.png', 'tmp_2408.09216/./delta_center_corner_B3.png']\n",
      "copying  tmp_2408.09216/./spectral_index_1x2.png to _build/html/\n",
      "copying  tmp_2408.09216/./ring_corner_B3.png to _build/html/\n",
      "copying  tmp_2408.09216/./delta_center_corner_B3.png to _build/html/\n",
      "exported in  _build/html/2408.09216.md\n",
      "    + _build/html/tmp_2408.09216/./spectral_index_1x2.png\n",
      "    + _build/html/tmp_2408.09216/./ring_corner_B3.png\n",
      "    + _build/html/tmp_2408.09216/./delta_center_corner_B3.png\n",
      "found figures ['tmp_2408.10199/./IRAS16547_Band6pa_debiased_3sig.png', 'tmp_2408.10199/./mom8-eps-converted-to-3.png', 'tmp_2408.10199/./figure_mom1_cs-2.png', 'tmp_2408.10199/./IRAS16547_Band6pol_debiased_2sig.png', 'tmp_2408.10199/./IRAS16547_Band6polfrac_debiased_2sig.png']\n",
      "copying  tmp_2408.10199/./IRAS16547_Band6pa_debiased_3sig.png to _build/html/\n",
      "copying  tmp_2408.10199/./mom8-eps-converted-to-3.png to _build/html/\n",
      "copying  tmp_2408.10199/./figure_mom1_cs-2.png to _build/html/\n",
      "copying  tmp_2408.10199/./IRAS16547_Band6pol_debiased_2sig.png to _build/html/\n",
      "copying  tmp_2408.10199/./IRAS16547_Band6polfrac_debiased_2sig.png to _build/html/\n",
      "exported in  _build/html/2408.10199.md\n",
      "    + _build/html/tmp_2408.10199/./IRAS16547_Band6pa_debiased_3sig.png\n",
      "    + _build/html/tmp_2408.10199/./mom8-eps-converted-to-3.png\n",
      "    + _build/html/tmp_2408.10199/./figure_mom1_cs-2.png\n",
      "    + _build/html/tmp_2408.10199/./IRAS16547_Band6pol_debiased_2sig.png\n",
      "    + _build/html/tmp_2408.10199/./IRAS16547_Band6polfrac_debiased_2sig.png\n"
     ]
    }
   ],
   "source": [
    "for paper_id, md in documents:\n",
    "    export_markdown_summary(md, f\"{paper_id:s}.md\", '_build/html/')"
   ]
  },
  {
   "cell_type": "markdown",
   "id": "f087a0a7",
   "metadata": {
    "papermill": {
     "duration": 0.005091,
     "end_time": "2024-08-20T04:11:09.105475",
     "exception": false,
     "start_time": "2024-08-20T04:11:09.100384",
     "status": "completed"
    },
    "tags": []
   },
   "source": [
    "## Display the papers\n",
    "\n",
    "Not necessary but allows for a quick check."
   ]
  },
  {
   "cell_type": "code",
   "execution_count": 9,
   "id": "fd25f625",
   "metadata": {
    "execution": {
     "iopub.execute_input": "2024-08-20T04:11:09.117148Z",
     "iopub.status.busy": "2024-08-20T04:11:09.116742Z",
     "iopub.status.idle": "2024-08-20T04:11:09.122660Z",
     "shell.execute_reply": "2024-08-20T04:11:09.122043Z"
    },
    "papermill": {
     "duration": 0.01321,
     "end_time": "2024-08-20T04:11:09.124036",
     "exception": false,
     "start_time": "2024-08-20T04:11:09.110826",
     "status": "completed"
    },
    "scrolled": false,
    "tags": []
   },
   "outputs": [
    {
     "data": {
      "text/markdown": [
       "<div class=\"macros\" style=\"visibility:hidden;\">\n",
       "$\\newcommand{\\ensuremath}{}$\n",
       "$\\newcommand{\\xspace}{}$\n",
       "$\\newcommand{\\object}[1]{\\texttt{#1}}$\n",
       "$\\newcommand{\\farcs}{{.}''}$\n",
       "$\\newcommand{\\farcm}{{.}'}$\n",
       "$\\newcommand{\\arcsec}{''}$\n",
       "$\\newcommand{\\arcmin}{'}$\n",
       "$\\newcommand{\\ion}[2]{#1#2}$\n",
       "$\\newcommand{\\textsc}[1]{\\textrm{#1}}$\n",
       "$\\newcommand{\\hl}[1]{\\textrm{#1}}$\n",
       "$\\newcommand{\\footnote}[1]{}$\n",
       "$\\newcommand{\\vdag}{(v)^\\dagger}$\n",
       "$\\newcommand$\n",
       "$\\newcommand$</div>\n",
       "\n",
       "\n",
       "\n",
       "<div id=\"title\">\n",
       "\n",
       "# Asymmetric dust accumulation of the PDS 70 disk revealed by ALMA Band 3 observations\n",
       "\n",
       "</div>\n",
       "<div id=\"comments\">\n",
       "\n",
       "[![arXiv](https://img.shields.io/badge/arXiv-2408.09216-b31b1b.svg)](https://arxiv.org/abs/2408.09216)<mark>Appeared on: 2024-08-20</mark> -  _submitted_\n",
       "\n",
       "</div>\n",
       "<div id=\"authors\">\n",
       "\n",
       "K. D. (土井聖明), et al. -- incl., <mark>M. Benisty</mark>\n",
       "\n",
       "</div>\n",
       "<div id=\"abstract\">\n",
       "\n",
       "**Abstract:** The PDS 70 system, hosting two planets within its disk, is an ideal target for examining the effect of planets on dust accumulation, growth, and ongoing planet formation.Here, we present high-resolution ( $0\\farcs07 = 8  \\mathrm{au}$ ) dust continuum observations of the PDS 70 disk in ALMA Band 3 (3.0 mm).While previous Band 7 observations showed a dust ring with slight asymmetry, our Band 3 observations reveal a more prominent asymmetric peak in the northwest direction, where the intensity is 2.5 times higher than in other directions and the spectral index is at the local minimum with $\\alpha_{\\mathrm{SED}} \\sim 2.2$ .This indicates that a substantial amount of dust is accumulated both radially and azimuthally in the peak.We also detect point-source emission around the stellar position in the Band 3 image, which is likely to be free-free emission.We constrain the eccentricity of the outer ring to be $e<0.04$ from the position of the central star and the outer ring.From the comparison with numerical simulations, we constrain the mass of PDS 70c to be less than 4.9 Jupiter masses if the gas turbulence strength $\\alpha_{\\mathrm{turb}} = 10^{-3}$ .Then, we discuss the formation mechanism of the disk structures and further planet formation scenarios in the disk.\n",
       "\n",
       "</div>\n",
       "\n",
       "<div id=\"div_fig1\">\n",
       "\n",
       "<img src=\"tmp_2408.09216/./spectral_index_1x2.png\" alt=\"Fig2\" width=\"100%\"/>\n",
       "\n",
       "**Figure 2. -** \n",
       "      Top: The radial profile of the intensity in Band 7 (blue) and Band 3 (orange).\n",
       "      The dashed line represents the Band 3 profile scaled to match the peak intensity of Band 7 for comparison of the radial morphology.\n",
       "      The Gaussian in the upper right corner shows the major and minor axes of the beam after deprojection.\n",
       "      Bottom: The radial profile of the spectral index.\n",
       "      The shaded area represents the $1\\sigma$ error range due to thermal noise.\n",
       "      The error bar in the lower right corner indicates the $1\\sigma$ error range due to the absolute flux calibration uncertainty.\n",
       "     (*fig:PDS70_radial*)\n",
       "\n",
       "</div>\n",
       "<div id=\"div_fig2\">\n",
       "\n",
       "<img src=\"tmp_2408.09216/./ring_corner_B3.png\" alt=\"Fig6\" width=\"100%\"/>\n",
       "\n",
       "**Figure 6. -** \n",
       "    The corner plot of MCMC fitting for the ring of PDS 70 in Band 3. The dashed lines in the top panels show the 16th, 50th, and 84th percentiles of the marginal distributions. The blue lines show the parameters that maximize the joint probability. (*fig:MCMC_B3_ring*)\n",
       "\n",
       "</div>\n",
       "<div id=\"div_fig3\">\n",
       "\n",
       "<img src=\"tmp_2408.09216/./delta_center_corner_B3.png\" alt=\"Fig3\" width=\"100%\"/>\n",
       "\n",
       "**Figure 3. -** \n",
       "    The corner plot of the difference in the center position between the ring and the central source in Band 3.\n",
       "    It shows that the center of the ring and the central source are consistent.\n",
       "     (*fig:MCMC_B3_center_shift*)\n",
       "\n",
       "</div><div id=\"qrcode\"><img src=https://api.qrserver.com/v1/create-qr-code/?size=100x100&data=\"https://arxiv.org/abs/2408.09216\"></div>"
      ],
      "text/plain": [
       "<IPython.core.display.Markdown object>"
      ]
     },
     "metadata": {},
     "output_type": "display_data"
    },
    {
     "data": {
      "text/markdown": [
       "<div class=\"macros\" style=\"visibility:hidden;\">\n",
       "$\\newcommand{\\ensuremath}{}$\n",
       "$\\newcommand{\\xspace}{}$\n",
       "$\\newcommand{\\object}[1]{\\texttt{#1}}$\n",
       "$\\newcommand{\\farcs}{{.}''}$\n",
       "$\\newcommand{\\farcm}{{.}'}$\n",
       "$\\newcommand{\\arcsec}{''}$\n",
       "$\\newcommand{\\arcmin}{'}$\n",
       "$\\newcommand{\\ion}[2]{#1#2}$\n",
       "$\\newcommand{\\textsc}[1]{\\textrm{#1}}$\n",
       "$\\newcommand{\\hl}[1]{\\textrm{#1}}$\n",
       "$\\newcommand{\\footnote}[1]{}$\n",
       "$\\newcommand{\\vdag}{(v)^\\dagger}$\n",
       "$\\newcommand$\n",
       "$\\newcommand$\n",
       "$\\newcommand{\\dechms}[4]{#1^{\\rm h}#2^{\\rm m}#3\\mbox{^{\\rm s}\\mskip-7.6mu. }#4}$\n",
       "$\\newcommand{\\intdms}[3]{#1^{\\circ}#2'#3\"}$\n",
       "$\\newcommand{\\decdms}[4]{-#1^{\\circ}#2'#3\\mbox{\"\\mskip-7.6mu. }#4}$</div>\n",
       "\n",
       "\n",
       "\n",
       "<div id=\"title\">\n",
       "\n",
       "# Magnetic Fields in Massive Star-forming Regions (MagMaR) IV: Tracing the Magnetic Fields in the O-type protostellar system IRAS 16547$-$4247\n",
       "\n",
       "</div>\n",
       "<div id=\"comments\">\n",
       "\n",
       "[![arXiv](https://img.shields.io/badge/arXiv-2408.10199-b31b1b.svg)](https://arxiv.org/abs/2408.10199)<mark>Appeared on: 2024-08-20</mark> -  _Accepted by the Astrophysical Journal, 13 pages_\n",
       "\n",
       "</div>\n",
       "<div id=\"authors\">\n",
       "\n",
       "L. A. Zapata, et al. -- incl., <mark>H. Beuther</mark>, <mark>S. Li</mark>\n",
       "\n",
       "</div>\n",
       "<div id=\"abstract\">\n",
       "\n",
       "**Abstract:** The formation of the massive stars, and in particular, the role that the magnetic fields play in their early evolutionary phase is still farfrom being completely understood. Here, we present Atacama Large Millimeter/Submillimeter Array (ALMA) 1.2 mm full polarizedcontinuum, and H $^{13}$ CO $^+$ (3 $-$ 2), CS(5 $-$ 4), and HN $^{13}$ C(3 $-$ 2) line observations with a high angular resolution( $\\sim$ 0.4 $\"$ or 1100 au). In the 1.2 mm continuum emission, we reveal a dusty envelope surrounding the massive protostars, IRAS16547-E and IRAS16547-W,with dimensions of $\\sim$ 10,000 au. This envelope has a bi-conical structure likely carved by the powerful thermal radio jet present in region.The magnetic fields vectors follow very-well the bi-conical envelope. The polarization fraction is $\\sim$ 2.0 \\% in this region.Some of these vectors seem to converge to IRAS 16547-E, and IRAS 16547-W, the most massive protostars. Moreover, the velocityfields revealed from the spectral lines H $^{13}$ CO $^+$ (3 $-$ 2), and HN $^{13}$ C(3 $-$ 2) show velocity gradients with agood correspondence with the magnetic fields, that maybe are tracing the cavities of molecular outflows or maybe in some parts infall.We derived a magnetic field strength in some filamentary regions that goes from 2 to 6.1 mG.  We also find that the CS(5 $-$ 4) molecularline emission reveals multiple outflow cavities or bow-shocks with different orientations, some of which seem to follow the NW-SE radio thermal jet.\n",
       "\n",
       "</div>\n",
       "\n",
       "<div id=\"div_fig1\">\n",
       "\n",
       "<img src=\"tmp_2408.10199/./IRAS16547_Band6pa_debiased_3sig.png\" alt=\"Fig4\" width=\"100%\"/>\n",
       "\n",
       "**Figure 4. -** \\scriptsize ALMA magnetic field vectors overlaid onto the resulting 1.2 mm continuum emission (Stokes I) from IRAS 16547$-$4247.\n",
       "The white vector segments trace the polarization percentage.  The vector segment is displayed more or less per every beam,\n",
       "using only data with a 2$\\sigma$ cut in the debiasing process. The black contours are from $-$0.5, 0.5, 1, 5, 10, 20, 40, and 60 times 0.2 mJy Beam$^{-1}$ the RMS-noise of the image.\n",
       "The red contours are from $-$5, 5, 10, 20, 40, 60, 80, and 180 times the RMS-noise of the\n",
       "VLA 3.6 cm continuum emission, which is 20 $\\mu$Jy Beam$^{-1}$.   The 3.6 cm continuum emission delineates the radio thermal jet  with  a NW-SE\n",
       "orientation reported by [Garay, et. al (2003)](), [Rodríguez, Moran and Franco-Hernández (2008)](). The synthesized beam (half-power contour) of the ALMA continuum image is shown in the bottom-right corner.\n",
       "The scale bar in the right represent the peak flux of the ALMA 1.2 mm continuum emission. The dashed lines trace more or less the bi-conical dusty envelope revealed in this study.\n",
       "The white circle traces the primary beam or the FWHM of 22.7$\"$. The yellow dots trace the positions of the sources reported in Table   \\ref{table1}. (*fig:fig1*)\n",
       "\n",
       "</div>\n",
       "<div id=\"div_fig2\">\n",
       "\n",
       "<img src=\"tmp_2408.10199/./mom8-eps-converted-to-3.png\" alt=\"Fig3.1\" width=\"50%\"/><img src=\"tmp_2408.10199/./figure_mom1_cs-2.png\" alt=\"Fig3.2\" width=\"50%\"/>\n",
       "\n",
       "**Figure 3. -** \\scriptsize Upper: ALMA moment 8 map of the CS(5$-$4) from IRAS 16547$-$4247 overlaid onto the resulting 1.2 mm continuum emission (grey contours),\n",
       "and the VLA 3.6 cm continuum emission (white contours). The grey contours are from 50, 125, and 375 times 0.2 mJy Beam$^{-1}$.\n",
       "The white contours are from $-$5, 5, 10, 20, 40, 60, 80, and 180 times the RMS-noise of the VLA 3.6 cm continuum emission, which is 20 $\\mu$Jy Beam$^{-1}$.\n",
       "The 3.6 cm continuum emission delineates a radio free-free jet  with NW-SE  orientation reported by [Garay, et. al (2003)](), [Rodríguez, Moran and Franco-Hernández (2008)]().\n",
       "The synthesized beam (half-power contour) of the ALMA continuum image is shown in the bottom-right corner.\n",
       "The scale bar in the right represents the peak flux of the ALMA CS line emission. The blue dashed curves trace more or less the multiple bow-shocks and outflow cavities revealed by this molecule.\n",
       " The white lines show that aperture angle of the outflow is more than 150$^\\circ$ in the north and south sides.\n",
       " Lower: Same as the upper image but with the ALMA moment 1 map of the CS(5$-$4). The scale bar in the right represents the radial velocity of the ALMA CS line emission.\n",
       "  The magenta dashed lines mark the orientation of the CO(3$-$2) ouflows reported by [Higuchi, Saigo and Chibueze (2015)]().\n",
       " (*fig:fig5*)\n",
       "\n",
       "</div>\n",
       "<div id=\"div_fig3\">\n",
       "\n",
       "<img src=\"tmp_2408.10199/./IRAS16547_Band6pol_debiased_2sig.png\" alt=\"Fig5.1\" width=\"50%\"/><img src=\"tmp_2408.10199/./IRAS16547_Band6polfrac_debiased_2sig.png\" alt=\"Fig5.2\" width=\"50%\"/>\n",
       "\n",
       "**Figure 5. -** \\scriptsize Left Panel: ALMA Polarization Intensity map overlaid with the 1.2 mm continuum emission from IRAS 16547$-$4247.\n",
       "Right Panel: Same as the left panel, but showing the ALMA Polarization Fraction. In both panels, the black contours are from $-$0.5, 0.5, 1, 5, 10, 20, 40,  and 60\n",
       "times 0.2 mJy Beam$^{-1}$ the RMS-noise of the image.  The synthesized beam (half-power contour) of the ALMA continuum\n",
       " image is shown in the bottom-right corner. The scale bar in the right represents the de-biased polarization intensity, and polarization fraction.\n",
       " These maps were constructed with a threshold of 2$\\sigma$ for the polarization.   (*fig:fig2*)\n",
       "\n",
       "</div><div id=\"qrcode\"><img src=https://api.qrserver.com/v1/create-qr-code/?size=100x100&data=\"https://arxiv.org/abs/2408.10199\"></div>"
      ],
      "text/plain": [
       "<IPython.core.display.Markdown object>"
      ]
     },
     "metadata": {},
     "output_type": "display_data"
    }
   ],
   "source": [
    "[display(Markdown(k[1])) for k in documents];"
   ]
  },
  {
   "cell_type": "markdown",
   "id": "873873a4",
   "metadata": {
    "papermill": {
     "duration": 0.005427,
     "end_time": "2024-08-20T04:11:09.135090",
     "exception": false,
     "start_time": "2024-08-20T04:11:09.129663",
     "status": "completed"
    },
    "tags": []
   },
   "source": [
    "# Create HTML index"
   ]
  },
  {
   "cell_type": "code",
   "execution_count": 10,
   "id": "cf665672",
   "metadata": {
    "execution": {
     "iopub.execute_input": "2024-08-20T04:11:09.147318Z",
     "iopub.status.busy": "2024-08-20T04:11:09.146923Z",
     "iopub.status.idle": "2024-08-20T04:11:09.154767Z",
     "shell.execute_reply": "2024-08-20T04:11:09.154234Z"
    },
    "papermill": {
     "duration": 0.015356,
     "end_time": "2024-08-20T04:11:09.156081",
     "exception": false,
     "start_time": "2024-08-20T04:11:09.140725",
     "status": "completed"
    },
    "tags": []
   },
   "outputs": [
    {
     "name": "stdout",
     "output_type": "stream",
     "text": [
      "165  publications files modified in the last 7 days.\n"
     ]
    }
   ],
   "source": [
    "from datetime import datetime, timedelta, timezone\n",
    "from glob import glob\n",
    "import os\n",
    "\n",
    "files = glob('_build/html/*.md')\n",
    "days = 7\n",
    "now = datetime.today()\n",
    "res = []\n",
    "for fk in files:\n",
    "    stat_result = os.stat(fk).st_ctime\n",
    "    modified = datetime.fromtimestamp(stat_result, tz=timezone.utc).replace(tzinfo=None)\n",
    "    delta = now.today() - modified\n",
    "    if delta <= timedelta(days=days):\n",
    "        res.append((delta.seconds, fk))\n",
    "res = [k[1] for k in reversed(sorted(res, key=lambda x:x[1]))]\n",
    "npub = len(res)\n",
    "print(len(res), f\" publications files modified in the last {days:d} days.\")\n",
    "# [ print('\\t', k) for k in res ];"
   ]
  },
  {
   "cell_type": "code",
   "execution_count": 11,
   "id": "015de740",
   "metadata": {
    "execution": {
     "iopub.execute_input": "2024-08-20T04:11:09.168464Z",
     "iopub.status.busy": "2024-08-20T04:11:09.168048Z",
     "iopub.status.idle": "2024-08-20T04:11:09.181610Z",
     "shell.execute_reply": "2024-08-20T04:11:09.181072Z"
    },
    "papermill": {
     "duration": 0.021173,
     "end_time": "2024-08-20T04:11:09.182892",
     "exception": false,
     "start_time": "2024-08-20T04:11:09.161719",
     "status": "completed"
    },
    "tags": []
   },
   "outputs": [
    {
     "name": "stdout",
     "output_type": "stream",
     "text": [
      "9  publications in the last 7 days.\n"
     ]
    }
   ],
   "source": [
    "import datetime\n",
    "from glob import glob\n",
    "\n",
    "def get_last_n_days(lst, days=1):\n",
    "    \"\"\" Get the documents from the last n days \"\"\"\n",
    "    sorted_lst = sorted(lst, key=lambda x: x[1], reverse=True)\n",
    "    for fname, date in sorted_lst:\n",
    "        if date >= str(datetime.date.today() - datetime.timedelta(days=days)):\n",
    "            yield fname\n",
    "\n",
    "def extract_appearance_dates(lst_file):\n",
    "    dates = []\n",
    "\n",
    "    def get_date(line):\n",
    "        return line\\\n",
    "            .split('Appeared on:')[-1]\\\n",
    "            .split('</mark>')[0].strip()\n",
    "\n",
    "    for fname in lst:\n",
    "        with open(fname, 'r') as f:\n",
    "            found_date = False\n",
    "            for line in f:\n",
    "                if not found_date:\n",
    "                    if \"Appeared on\" in line:\n",
    "                        found_date = True\n",
    "                        dates.append((fname, get_date(line)))\n",
    "                else:\n",
    "                    break\n",
    "    return dates\n",
    "\n",
    "from glob import glob\n",
    "lst = glob('_build/html/*md')\n",
    "days = 7\n",
    "dates = extract_appearance_dates(lst)\n",
    "res = list(get_last_n_days(dates, days))\n",
    "npub = len(res)\n",
    "print(len(res), f\" publications in the last {days:d} days.\")"
   ]
  },
  {
   "cell_type": "code",
   "execution_count": 12,
   "id": "52ca0208",
   "metadata": {
    "execution": {
     "iopub.execute_input": "2024-08-20T04:11:09.195353Z",
     "iopub.status.busy": "2024-08-20T04:11:09.195122Z",
     "iopub.status.idle": "2024-08-20T04:11:09.200082Z",
     "shell.execute_reply": "2024-08-20T04:11:09.199434Z"
    },
    "papermill": {
     "duration": 0.012667,
     "end_time": "2024-08-20T04:11:09.201383",
     "exception": false,
     "start_time": "2024-08-20T04:11:09.188716",
     "status": "completed"
    },
    "scrolled": false,
    "tags": []
   },
   "outputs": [],
   "source": [
    "def create_carousel(npub=4):\n",
    "    \"\"\" Generate the HTML code for a carousel with `npub` slides \"\"\"\n",
    "    carousel = [\"\"\"  <div class=\"carousel\" \"\"\",\n",
    "                \"\"\"       data-flickity='{ \"autoPlay\": 10000, \"adaptiveHeight\": true, \"resize\": true, \"wrapAround\": true, \"pauseAutoPlayOnHover\": true, \"groupCells\": 1 }' id=\"asyncTypeset\">\"\"\"\n",
    "                ]\n",
    "    \n",
    "    item_str = \"\"\"    <div class=\"carousel-cell\"> <div id=\"slide{k}\" class=\"md_view\">Content {k}</div> </div>\"\"\"\n",
    "    for k in range(1, npub + 1):\n",
    "        carousel.append(item_str.format(k=k))\n",
    "    carousel.append(\"  </div>\")\n",
    "    return '\\n'.join(carousel)\n",
    "\n",
    "def create_grid(npub=4):\n",
    "    \"\"\" Generate the HTML code for a flat grid with `npub` slides \"\"\"\n",
    "    grid = [\"\"\"  <div class=\"grid\"> \"\"\",\n",
    "                ]\n",
    "    \n",
    "    item_str = \"\"\"    <div class=\"grid-item\"> <div id=\"slide{k}\" class=\"md_view\">Content {k}</div> </div>\"\"\"\n",
    "    for k in range(1, npub + 1):\n",
    "        grid.append(item_str.format(k=k))\n",
    "    grid.append(\"  </div>\")\n",
    "    return '\\n'.join(grid)"
   ]
  },
  {
   "cell_type": "code",
   "execution_count": 13,
   "id": "a6eac5b6",
   "metadata": {
    "execution": {
     "iopub.execute_input": "2024-08-20T04:11:09.213931Z",
     "iopub.status.busy": "2024-08-20T04:11:09.213556Z",
     "iopub.status.idle": "2024-08-20T04:11:09.218509Z",
     "shell.execute_reply": "2024-08-20T04:11:09.217978Z"
    },
    "papermill": {
     "duration": 0.0127,
     "end_time": "2024-08-20T04:11:09.219836",
     "exception": false,
     "start_time": "2024-08-20T04:11:09.207136",
     "status": "completed"
    },
    "scrolled": false,
    "tags": []
   },
   "outputs": [],
   "source": [
    "carousel = create_carousel(npub)\n",
    "docs = ', '.join(['\"{0:s}\"'.format(k.split('/')[-1]) for k in res])\n",
    "slides = ', '.join([f'\"slide{k}\"' for k in range(1, npub + 1)])\n",
    "\n",
    "with open(\"daily_template.html\", \"r\") as tpl:\n",
    "    page = tpl.read()\n",
    "    page = page.replace(\"{%-- carousel:s --%}\", carousel)\\\n",
    "               .replace(\"{%-- suptitle:s --%}\",  \"7-day archives\" )\\\n",
    "               .replace(\"{%-- docs:s --%}\", docs)\\\n",
    "               .replace(\"{%-- slides:s --%}\", slides)\n",
    "    \n",
    "with open(\"_build/html/index_7days.html\", 'w') as fout:\n",
    "    fout.write(page)"
   ]
  },
  {
   "cell_type": "code",
   "execution_count": 14,
   "id": "adc1a1ec",
   "metadata": {
    "execution": {
     "iopub.execute_input": "2024-08-20T04:11:09.232627Z",
     "iopub.status.busy": "2024-08-20T04:11:09.232263Z",
     "iopub.status.idle": "2024-08-20T04:11:09.238661Z",
     "shell.execute_reply": "2024-08-20T04:11:09.238040Z"
    },
    "papermill": {
     "duration": 0.014136,
     "end_time": "2024-08-20T04:11:09.239928",
     "exception": false,
     "start_time": "2024-08-20T04:11:09.225792",
     "status": "completed"
    },
    "tags": []
   },
   "outputs": [
    {
     "name": "stdout",
     "output_type": "stream",
     "text": [
      "2  publications in the last day.\n"
     ]
    }
   ],
   "source": [
    "# redo for today\n",
    "days = 1\n",
    "res = list(get_last_n_days(dates, days))\n",
    "npub = len(res)\n",
    "print(len(res), f\" publications in the last day.\")\n",
    "\n",
    "carousel = create_carousel(npub)\n",
    "docs = ', '.join(['\"{0:s}\"'.format(k.split('/')[-1]) for k in res])\n",
    "slides = ', '.join([f'\"slide{k}\"' for k in range(1, npub + 1)])\n",
    "\n",
    "with open(\"daily_template.html\", \"r\") as tpl:\n",
    "    page = tpl.read()\n",
    "    page = page.replace(\"{%-- carousel:s --%}\", carousel)\\\n",
    "               .replace(\"{%-- suptitle:s --%}\",  \"Daily\" )\\\n",
    "               .replace(\"{%-- docs:s --%}\", docs)\\\n",
    "               .replace(\"{%-- slides:s --%}\", slides)\n",
    "    \n",
    "# print(carousel, docs, slides)\n",
    "# print(page)\n",
    "with open(\"_build/html/index_daily.html\", 'w') as fout:\n",
    "    fout.write(page)"
   ]
  },
  {
   "cell_type": "code",
   "execution_count": 15,
   "id": "00eece82",
   "metadata": {
    "execution": {
     "iopub.execute_input": "2024-08-20T04:11:09.252701Z",
     "iopub.status.busy": "2024-08-20T04:11:09.252328Z",
     "iopub.status.idle": "2024-08-20T04:11:09.258646Z",
     "shell.execute_reply": "2024-08-20T04:11:09.258036Z"
    },
    "papermill": {
     "duration": 0.014132,
     "end_time": "2024-08-20T04:11:09.259919",
     "exception": false,
     "start_time": "2024-08-20T04:11:09.245787",
     "status": "completed"
    },
    "scrolled": false,
    "tags": []
   },
   "outputs": [
    {
     "name": "stdout",
     "output_type": "stream",
     "text": [
      "6  6 publications selected.\n"
     ]
    }
   ],
   "source": [
    "# Create the flat grid of the last N papers (fixed number regardless of dates)\n",
    "from itertools import islice \n",
    "\n",
    "npub = 6\n",
    "res = [k[0] for k in (islice(reversed(sorted(dates, key=lambda x: x[1])), 6))]\n",
    "print(len(res), f\" {npub} publications selected.\")\n",
    "\n",
    "grid = create_grid(npub)\n",
    "docs = ', '.join(['\"{0:s}\"'.format(k.split('/')[-1]) for k in res])\n",
    "slides = ', '.join([f'\"slide{k}\"' for k in range(1, npub + 1)])\n",
    "\n",
    "with open(\"grid_template.html\", \"r\") as tpl:\n",
    "    page = tpl.read()\n",
    "    page = page.replace(\"{%-- grid-content:s --%}\", grid)\\\n",
    "               .replace(\"{%-- suptitle:s --%}\",  f\"Last {npub:,d} papers\" )\\\n",
    "               .replace(\"{%-- docs:s --%}\", docs)\\\n",
    "               .replace(\"{%-- slides:s --%}\", slides)\n",
    "    \n",
    "# print(grid, docs, slides)\n",
    "# print(page)\n",
    "with open(\"_build/html/index_npub_grid.html\", 'w') as fout:\n",
    "    fout.write(page)"
   ]
  }
 ],
 "metadata": {
  "kernelspec": {
   "display_name": "Python 3 (ipykernel)",
   "language": "python",
   "name": "python3"
  },
  "language_info": {
   "codemirror_mode": {
    "name": "ipython",
    "version": 3
   },
   "file_extension": ".py",
   "mimetype": "text/x-python",
   "name": "python",
   "nbconvert_exporter": "python",
   "pygments_lexer": "ipython3",
   "version": "3.9.19"
  },
  "papermill": {
   "default_parameters": {},
   "duration": 108.272877,
   "end_time": "2024-08-20T04:11:09.481885",
   "environment_variables": {},
   "exception": null,
   "input_path": "MPIA daily digest.ipynb",
   "output_path": "log.ipynb",
   "parameters": {},
   "start_time": "2024-08-20T04:09:21.209008",
   "version": "2.6.0"
  },
  "vscode": {
   "interpreter": {
    "hash": "aee8b7b246df8f9039afb4144a1f6fd8d2ca17a180786b69acc140d282b71a49"
   }
  },
  "widgets": {
   "application/vnd.jupyter.widget-state+json": {
    "state": {
     "08352fab03014176ba598b8b2fc0dd33": {
      "model_module": "@jupyter-widgets/controls",
      "model_module_version": "2.0.0",
      "model_name": "HTMLStyleModel",
      "state": {
       "_model_module": "@jupyter-widgets/controls",
       "_model_module_version": "2.0.0",
       "_model_name": "HTMLStyleModel",
       "_view_count": null,
       "_view_module": "@jupyter-widgets/base",
       "_view_module_version": "2.0.0",
       "_view_name": "StyleView",
       "background": null,
       "description_width": "",
       "font_size": null,
       "text_color": null
      }
     },
     "0fb761e948054d2aa2d4847dde51ad30": {
      "model_module": "@jupyter-widgets/controls",
      "model_module_version": "2.0.0",
      "model_name": "ProgressStyleModel",
      "state": {
       "_model_module": "@jupyter-widgets/controls",
       "_model_module_version": "2.0.0",
       "_model_name": "ProgressStyleModel",
       "_view_count": null,
       "_view_module": "@jupyter-widgets/base",
       "_view_module_version": "2.0.0",
       "_view_name": "StyleView",
       "bar_color": null,
       "description_width": ""
      }
     },
     "102bc0a79b8144299b6ecd0843188625": {
      "model_module": "@jupyter-widgets/controls",
      "model_module_version": "2.0.0",
      "model_name": "HTMLModel",
      "state": {
       "_dom_classes": [],
       "_model_module": "@jupyter-widgets/controls",
       "_model_module_version": "2.0.0",
       "_model_name": "HTMLModel",
       "_view_count": null,
       "_view_module": "@jupyter-widgets/controls",
       "_view_module_version": "2.0.0",
       "_view_name": "HTMLView",
       "description": "",
       "description_allow_html": false,
       "layout": "IPY_MODEL_c82d649f91124d1c9784808b5e99ee41",
       "placeholder": "​",
       "style": "IPY_MODEL_08352fab03014176ba598b8b2fc0dd33",
       "tabbable": null,
       "tooltip": null,
       "value": " 8/8 [01:24&lt;00:00, 15.10s/it]"
      }
     },
     "1eefaf64989f4c71b850aee3bfc4ea5d": {
      "model_module": "@jupyter-widgets/controls",
      "model_module_version": "2.0.0",
      "model_name": "HTMLModel",
      "state": {
       "_dom_classes": [],
       "_model_module": "@jupyter-widgets/controls",
       "_model_module_version": "2.0.0",
       "_model_name": "HTMLModel",
       "_view_count": null,
       "_view_module": "@jupyter-widgets/controls",
       "_view_module_version": "2.0.0",
       "_view_name": "HTMLView",
       "description": "",
       "description_allow_html": false,
       "layout": "IPY_MODEL_b5f76d52e4d3466bb4b36232416fd050",
       "placeholder": "​",
       "style": "IPY_MODEL_fcf2ad39166141228b05a4454207d7af",
       "tabbable": null,
       "tooltip": null,
       "value": "100%"
      }
     },
     "37b8f04b1c98466bbda88e6ab602f695": {
      "model_module": "@jupyter-widgets/base",
      "model_module_version": "2.0.0",
      "model_name": "LayoutModel",
      "state": {
       "_model_module": "@jupyter-widgets/base",
       "_model_module_version": "2.0.0",
       "_model_name": "LayoutModel",
       "_view_count": null,
       "_view_module": "@jupyter-widgets/base",
       "_view_module_version": "2.0.0",
       "_view_name": "LayoutView",
       "align_content": null,
       "align_items": null,
       "align_self": null,
       "border_bottom": null,
       "border_left": null,
       "border_right": null,
       "border_top": null,
       "bottom": null,
       "display": null,
       "flex": null,
       "flex_flow": null,
       "grid_area": null,
       "grid_auto_columns": null,
       "grid_auto_flow": null,
       "grid_auto_rows": null,
       "grid_column": null,
       "grid_gap": null,
       "grid_row": null,
       "grid_template_areas": null,
       "grid_template_columns": null,
       "grid_template_rows": null,
       "height": null,
       "justify_content": null,
       "justify_items": null,
       "left": null,
       "margin": null,
       "max_height": null,
       "max_width": null,
       "min_height": null,
       "min_width": null,
       "object_fit": null,
       "object_position": null,
       "order": null,
       "overflow": null,
       "padding": null,
       "right": null,
       "top": null,
       "visibility": null,
       "width": null
      }
     },
     "546b1421489c4fc4b151df9f85217050": {
      "model_module": "@jupyter-widgets/controls",
      "model_module_version": "2.0.0",
      "model_name": "HBoxModel",
      "state": {
       "_dom_classes": [],
       "_model_module": "@jupyter-widgets/controls",
       "_model_module_version": "2.0.0",
       "_model_name": "HBoxModel",
       "_view_count": null,
       "_view_module": "@jupyter-widgets/controls",
       "_view_module_version": "2.0.0",
       "_view_name": "HBoxView",
       "box_style": "",
       "children": [
        "IPY_MODEL_1eefaf64989f4c71b850aee3bfc4ea5d",
        "IPY_MODEL_c964d2428f9a473195427f615182c524",
        "IPY_MODEL_102bc0a79b8144299b6ecd0843188625"
       ],
       "layout": "IPY_MODEL_37b8f04b1c98466bbda88e6ab602f695",
       "tabbable": null,
       "tooltip": null
      }
     },
     "6c31812d743641ed907e6e5d27888918": {
      "model_module": "@jupyter-widgets/base",
      "model_module_version": "2.0.0",
      "model_name": "LayoutModel",
      "state": {
       "_model_module": "@jupyter-widgets/base",
       "_model_module_version": "2.0.0",
       "_model_name": "LayoutModel",
       "_view_count": null,
       "_view_module": "@jupyter-widgets/base",
       "_view_module_version": "2.0.0",
       "_view_name": "LayoutView",
       "align_content": null,
       "align_items": null,
       "align_self": null,
       "border_bottom": null,
       "border_left": null,
       "border_right": null,
       "border_top": null,
       "bottom": null,
       "display": null,
       "flex": null,
       "flex_flow": null,
       "grid_area": null,
       "grid_auto_columns": null,
       "grid_auto_flow": null,
       "grid_auto_rows": null,
       "grid_column": null,
       "grid_gap": null,
       "grid_row": null,
       "grid_template_areas": null,
       "grid_template_columns": null,
       "grid_template_rows": null,
       "height": null,
       "justify_content": null,
       "justify_items": null,
       "left": null,
       "margin": null,
       "max_height": null,
       "max_width": null,
       "min_height": null,
       "min_width": null,
       "object_fit": null,
       "object_position": null,
       "order": null,
       "overflow": null,
       "padding": null,
       "right": null,
       "top": null,
       "visibility": null,
       "width": null
      }
     },
     "b5f76d52e4d3466bb4b36232416fd050": {
      "model_module": "@jupyter-widgets/base",
      "model_module_version": "2.0.0",
      "model_name": "LayoutModel",
      "state": {
       "_model_module": "@jupyter-widgets/base",
       "_model_module_version": "2.0.0",
       "_model_name": "LayoutModel",
       "_view_count": null,
       "_view_module": "@jupyter-widgets/base",
       "_view_module_version": "2.0.0",
       "_view_name": "LayoutView",
       "align_content": null,
       "align_items": null,
       "align_self": null,
       "border_bottom": null,
       "border_left": null,
       "border_right": null,
       "border_top": null,
       "bottom": null,
       "display": null,
       "flex": null,
       "flex_flow": null,
       "grid_area": null,
       "grid_auto_columns": null,
       "grid_auto_flow": null,
       "grid_auto_rows": null,
       "grid_column": null,
       "grid_gap": null,
       "grid_row": null,
       "grid_template_areas": null,
       "grid_template_columns": null,
       "grid_template_rows": null,
       "height": null,
       "justify_content": null,
       "justify_items": null,
       "left": null,
       "margin": null,
       "max_height": null,
       "max_width": null,
       "min_height": null,
       "min_width": null,
       "object_fit": null,
       "object_position": null,
       "order": null,
       "overflow": null,
       "padding": null,
       "right": null,
       "top": null,
       "visibility": null,
       "width": null
      }
     },
     "c82d649f91124d1c9784808b5e99ee41": {
      "model_module": "@jupyter-widgets/base",
      "model_module_version": "2.0.0",
      "model_name": "LayoutModel",
      "state": {
       "_model_module": "@jupyter-widgets/base",
       "_model_module_version": "2.0.0",
       "_model_name": "LayoutModel",
       "_view_count": null,
       "_view_module": "@jupyter-widgets/base",
       "_view_module_version": "2.0.0",
       "_view_name": "LayoutView",
       "align_content": null,
       "align_items": null,
       "align_self": null,
       "border_bottom": null,
       "border_left": null,
       "border_right": null,
       "border_top": null,
       "bottom": null,
       "display": null,
       "flex": null,
       "flex_flow": null,
       "grid_area": null,
       "grid_auto_columns": null,
       "grid_auto_flow": null,
       "grid_auto_rows": null,
       "grid_column": null,
       "grid_gap": null,
       "grid_row": null,
       "grid_template_areas": null,
       "grid_template_columns": null,
       "grid_template_rows": null,
       "height": null,
       "justify_content": null,
       "justify_items": null,
       "left": null,
       "margin": null,
       "max_height": null,
       "max_width": null,
       "min_height": null,
       "min_width": null,
       "object_fit": null,
       "object_position": null,
       "order": null,
       "overflow": null,
       "padding": null,
       "right": null,
       "top": null,
       "visibility": null,
       "width": null
      }
     },
     "c964d2428f9a473195427f615182c524": {
      "model_module": "@jupyter-widgets/controls",
      "model_module_version": "2.0.0",
      "model_name": "FloatProgressModel",
      "state": {
       "_dom_classes": [],
       "_model_module": "@jupyter-widgets/controls",
       "_model_module_version": "2.0.0",
       "_model_name": "FloatProgressModel",
       "_view_count": null,
       "_view_module": "@jupyter-widgets/controls",
       "_view_module_version": "2.0.0",
       "_view_name": "ProgressView",
       "bar_style": "success",
       "description": "",
       "description_allow_html": false,
       "layout": "IPY_MODEL_6c31812d743641ed907e6e5d27888918",
       "max": 8.0,
       "min": 0.0,
       "orientation": "horizontal",
       "style": "IPY_MODEL_0fb761e948054d2aa2d4847dde51ad30",
       "tabbable": null,
       "tooltip": null,
       "value": 8.0
      }
     },
     "fcf2ad39166141228b05a4454207d7af": {
      "model_module": "@jupyter-widgets/controls",
      "model_module_version": "2.0.0",
      "model_name": "HTMLStyleModel",
      "state": {
       "_model_module": "@jupyter-widgets/controls",
       "_model_module_version": "2.0.0",
       "_model_name": "HTMLStyleModel",
       "_view_count": null,
       "_view_module": "@jupyter-widgets/base",
       "_view_module_version": "2.0.0",
       "_view_name": "StyleView",
       "background": null,
       "description_width": "",
       "font_size": null,
       "text_color": null
      }
     }
    },
    "version_major": 2,
    "version_minor": 0
   }
  }
 },
 "nbformat": 4,
 "nbformat_minor": 5
}