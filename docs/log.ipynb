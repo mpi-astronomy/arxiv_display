{
 "cells": [
  {
   "cell_type": "markdown",
   "id": "92bcb855",
   "metadata": {
    "papermill": {
     "duration": 0.004639,
     "end_time": "2023-09-06T04:04:48.050526",
     "exception": false,
     "start_time": "2023-09-06T04:04:48.045887",
     "status": "completed"
    },
    "tags": []
   },
   "source": [
    "# MPIA Arxiv on Deck 2\n",
    "\n",
    "Contains the steps to produce the paper extractions."
   ]
  },
  {
   "cell_type": "code",
   "execution_count": 1,
   "id": "3a0d6e11",
   "metadata": {
    "execution": {
     "iopub.execute_input": "2023-09-06T04:04:48.059278Z",
     "iopub.status.busy": "2023-09-06T04:04:48.058811Z",
     "iopub.status.idle": "2023-09-06T04:04:48.287543Z",
     "shell.execute_reply": "2023-09-06T04:04:48.286907Z"
    },
    "papermill": {
     "duration": 0.235356,
     "end_time": "2023-09-06T04:04:48.289607",
     "exception": false,
     "start_time": "2023-09-06T04:04:48.054251",
     "status": "completed"
    },
    "tags": []
   },
   "outputs": [],
   "source": [
    "# Imports\n",
    "import os\n",
    "from IPython.display import Markdown, display\n",
    "from tqdm.notebook import tqdm\n",
    "import warnings\n",
    "from PIL import Image \n",
    "\n",
    "# requires arxiv_on_deck_2\n",
    "\n",
    "from arxiv_on_deck_2.arxiv2 import (get_new_papers, \n",
    "                                    get_paper_from_identifier,\n",
    "                                    retrieve_document_source, \n",
    "                                    get_markdown_badge)\n",
    "from arxiv_on_deck_2 import (latex,\n",
    "                             latex_bib,\n",
    "                             mpia,\n",
    "                             highlight_authors_in_list)\n",
    "\n",
    "# Sometimes images are really big\n",
    "Image.MAX_IMAGE_PIXELS = 1000000000 "
   ]
  },
  {
   "cell_type": "code",
   "execution_count": 2,
   "id": "22aa9d44",
   "metadata": {
    "execution": {
     "iopub.execute_input": "2023-09-06T04:04:48.299337Z",
     "iopub.status.busy": "2023-09-06T04:04:48.299089Z",
     "iopub.status.idle": "2023-09-06T04:04:48.304580Z",
     "shell.execute_reply": "2023-09-06T04:04:48.303934Z"
    },
    "papermill": {
     "duration": 0.011441,
     "end_time": "2023-09-06T04:04:48.306093",
     "exception": false,
     "start_time": "2023-09-06T04:04:48.294652",
     "status": "completed"
    },
    "tags": []
   },
   "outputs": [],
   "source": [
    "# Some useful definitions.\n",
    "\n",
    "class AffiliationWarning(UserWarning):\n",
    "    pass\n",
    "\n",
    "class AffiliationError(RuntimeError):\n",
    "    pass\n",
    "\n",
    "def validation(source: str):\n",
    "    \"\"\"Raises error paper during parsing of source file\n",
    "    \n",
    "    Allows checks before parsing TeX code.\n",
    "    \n",
    "    Raises AffiliationWarning\n",
    "    \"\"\"\n",
    "    check = mpia.affiliation_verifications(source, verbose=True)\n",
    "    if check is not True:\n",
    "        raise AffiliationError(\"mpia.affiliation_verifications: \" + check)\n",
    "\n",
    "        \n",
    "warnings.simplefilter('always', AffiliationWarning)\n",
    "\n",
    "\n",
    "def get_markdown_qrcode(paper_id: str):\n",
    "    \"\"\" Generate a qrcode to the arxiv page using qrserver.com\n",
    "    \n",
    "    :param paper: Arxiv paper\n",
    "    :returns: markdown text\n",
    "    \"\"\"\n",
    "    url = r\"https://api.qrserver.com/v1/create-qr-code/?size=100x100&data=\"\n",
    "    txt = f\"\"\"<img src={url}\"https://arxiv.org/abs/{paper_id}\">\"\"\"\n",
    "    txt = '<div id=\"qrcode\">' + txt + '</div>'\n",
    "    return txt"
   ]
  },
  {
   "cell_type": "markdown",
   "id": "14bd6310",
   "metadata": {
    "papermill": {
     "duration": 0.003263,
     "end_time": "2023-09-06T04:04:48.312743",
     "exception": false,
     "start_time": "2023-09-06T04:04:48.309480",
     "status": "completed"
    },
    "tags": []
   },
   "source": [
    "## get list of arxiv paper candidates\n",
    "\n",
    "We use the MPIA mitarbeiter list webpage from mpia.de to get author names\n",
    "We then get all new papers from Arxiv and match authors"
   ]
  },
  {
   "cell_type": "code",
   "execution_count": 3,
   "id": "2645e73a",
   "metadata": {
    "execution": {
     "iopub.execute_input": "2023-09-06T04:04:48.320476Z",
     "iopub.status.busy": "2023-09-06T04:04:48.320265Z",
     "iopub.status.idle": "2023-09-06T04:05:15.149499Z",
     "shell.execute_reply": "2023-09-06T04:05:15.148510Z"
    },
    "papermill": {
     "duration": 26.834956,
     "end_time": "2023-09-06T04:05:15.151095",
     "exception": false,
     "start_time": "2023-09-06T04:04:48.316139",
     "status": "completed"
    },
    "tags": []
   },
   "outputs": [
    {
     "name": "stdout",
     "output_type": "stream",
     "text": [
      "M. Smith  ->  M. Smith  |  ['M. Smith']\n",
      "S. Ghosh  ->  S. Ghosh  |  ['S. Ghosh']\n",
      "S. Ghosh  ->  S. Ghosh  |  ['S. Ghosh']\n",
      "A. Gould  ->  A. Gould  |  ['A. Gould']\n"
     ]
    },
    {
     "name": "stdout",
     "output_type": "stream",
     "text": [
      "R. Launhardt  ->  R. Launhardt  |  ['R. Launhardt']\n",
      "D. Semenov  ->  D. Semenov  |  ['D. Semenov']\n",
      "A. Hughes  ->  A. Hughes  |  ['A. Hughes']\n"
     ]
    },
    {
     "name": "stdout",
     "output_type": "stream",
     "text": [
      "Arxiv has 151 new papers today\n",
      "          6 with possible author matches\n"
     ]
    }
   ],
   "source": [
    "# get list from MPIA website\n",
    "# it automatically filters identified non-scientists :func:`mpia.filter_non_scientists`\n",
    "mpia_authors = mpia.get_mpia_mitarbeiter_list()\n",
    "normed_mpia_authors = [k[1] for k in mpia_authors]   # initials + fullname\n",
    "new_papers = get_new_papers()\n",
    "# add manual references\n",
    "add_paper_refs = []\n",
    "new_papers.extend([get_paper_from_identifier(k) for k in add_paper_refs])\n",
    "\n",
    "candidates = []\n",
    "for paperk in new_papers:\n",
    "    # Check author list with their initials\n",
    "    normed_author_list = [mpia.get_initials(k) for k in paperk['authors']]\n",
    "    hl_authors = highlight_authors_in_list(normed_author_list, normed_mpia_authors, verbose=True)\n",
    "    matches = [(hl, orig) for hl, orig in zip(hl_authors, paperk['authors']) if 'mark' in hl]\n",
    "    paperk['authors'] = hl_authors\n",
    "    if matches:\n",
    "        # only select paper if an author matched our list\n",
    "        candidates.append(paperk)\n",
    "print(\"\"\"Arxiv has {0:,d} new papers today\"\"\".format(len(new_papers)))        \n",
    "print(\"\"\"          {0:,d} with possible author matches\"\"\".format(len(candidates)))"
   ]
  },
  {
   "cell_type": "markdown",
   "id": "3543b34a",
   "metadata": {
    "papermill": {
     "duration": 0.003946,
     "end_time": "2023-09-06T04:05:15.159008",
     "exception": false,
     "start_time": "2023-09-06T04:05:15.155062",
     "status": "completed"
    },
    "tags": []
   },
   "source": [
    "# Parse sources and generate relevant outputs\n",
    "\n",
    "From the candidates, we do the following steps:\n",
    "* get their tarball from ArXiv (and extract data)\n",
    "* find the main .tex file: find one with \\documentclass{...} (sometimes it's non trivial)\n",
    "* Check affiliations with :func:`validation`, which uses :func:`mpia.affiliation_verifications`\n",
    "* If passing the affiliations: we parse the .tex source\n",
    "   * inject sub-documents into the main (flatten the main document)\n",
    "   * parse structure, extract information (title, abstract, authors, figures...)\n",
    "   * handles `\\graphicspath` if provided\n",
    "* Generate the .md document."
   ]
  },
  {
   "cell_type": "code",
   "execution_count": 4,
   "id": "9576b79e",
   "metadata": {
    "execution": {
     "iopub.execute_input": "2023-09-06T04:05:15.171038Z",
     "iopub.status.busy": "2023-09-06T04:05:15.170785Z",
     "iopub.status.idle": "2023-09-06T04:06:00.490060Z",
     "shell.execute_reply": "2023-09-06T04:06:00.489432Z"
    },
    "papermill": {
     "duration": 45.329578,
     "end_time": "2023-09-06T04:06:00.492164",
     "exception": false,
     "start_time": "2023-09-06T04:05:15.162586",
     "status": "completed"
    },
    "scrolled": false,
    "tags": []
   },
   "outputs": [
    {
     "data": {
      "application/vnd.jupyter.widget-view+json": {
       "model_id": "6d0f9158c253409190cd36665e2c9aab",
       "version_major": 2,
       "version_minor": 0
      },
      "text/plain": [
       "  0%|          | 0/6 [00:00<?, ?it/s]"
      ]
     },
     "metadata": {},
     "output_type": "display_data"
    },
    {
     "name": "stdout",
     "output_type": "stream",
     "text": [
      "Retrieving document from  https://arxiv.org/e-print/2309.00671\n"
     ]
    },
    {
     "name": "stdout",
     "output_type": "stream",
     "text": [
      "extracting tarball to tmp_2309.00671..."
     ]
    },
    {
     "name": "stdout",
     "output_type": "stream",
     "text": [
      " done.\n",
      "Retrieving document from  https://arxiv.org/e-print/2309.00973\n"
     ]
    },
    {
     "name": "stderr",
     "output_type": "stream",
     "text": [
      "/opt/hostedtoolcache/Python/3.9.17/x64/lib/python3.9/site-packages/IPython/core/interactiveshell.py:3526: LatexWarning: Multiple tex files.\n",
      "\n",
      "  exec(code_obj, self.user_global_ns, self.user_ns)\n",
      "/opt/hostedtoolcache/Python/3.9.17/x64/lib/python3.9/site-packages/IPython/core/interactiveshell.py:3526: LatexWarning: Found documentclass in tmp_2309.00671/main.tex\n",
      "\n",
      "  exec(code_obj, self.user_global_ns, self.user_ns)\n",
      "/opt/hostedtoolcache/Python/3.9.17/x64/lib/python3.9/site-packages/arxiv_on_deck_2/latex.py:399: LatexWarning: Latex injecting: 'table_clusters' from 'tmp_2309.00671/table_clusters.tex'\n",
      "  warnings.warn(LatexWarning(f\"Latex injecting: '{ext}' from '{subsource}'\"))\n",
      "/opt/hostedtoolcache/Python/3.9.17/x64/lib/python3.9/site-packages/arxiv_on_deck_2/latex.py:399: LatexWarning: Latex injecting: 'icl_redshift_authors' from 'tmp_2309.00671/icl_redshift_authors.tex'\n",
      "  warnings.warn(LatexWarning(f\"Latex injecting: '{ext}' from '{subsource}'\"))\n"
     ]
    },
    {
     "name": "stdout",
     "output_type": "stream",
     "text": [
      "extracting tarball to tmp_2309.00973..."
     ]
    },
    {
     "name": "stdout",
     "output_type": "stream",
     "text": [
      " done.\n",
      "Retrieving document from  https://arxiv.org/e-print/2309.01084\n"
     ]
    },
    {
     "name": "stdout",
     "output_type": "stream",
     "text": [
      "extracting tarball to tmp_2309.01084..."
     ]
    },
    {
     "name": "stdout",
     "output_type": "stream",
     "text": [
      " done.\n",
      "Retrieving document from  https://arxiv.org/e-print/2309.01280\n"
     ]
    },
    {
     "name": "stdout",
     "output_type": "stream",
     "text": [
      "extracting tarball to tmp_2309.01280... done.\n"
     ]
    },
    {
     "name": "stderr",
     "output_type": "stream",
     "text": [
      "/opt/hostedtoolcache/Python/3.9.17/x64/lib/python3.9/site-packages/arxiv_on_deck_2/latex.py:473: LatexWarning: Error parsing the document directly. Trying to recover.\n",
      "  warnings.warn(LatexWarning(f\"Error parsing the document directly. Trying to recover.\"))\n"
     ]
    },
    {
     "name": "stdout",
     "output_type": "stream",
     "text": [
      "✘ → 0:header\n",
      "  ↳ 7701:\\section{Introduction}\\label{sec:one}\n",
      "✔ → 7701:\\section{Introduction}\\label{sec:one}\n",
      "  ↳ 14054:\\section{Observation and data}\\label{sec:two}\n"
     ]
    },
    {
     "name": "stdout",
     "output_type": "stream",
     "text": [
      "✔ → 14054:\\section{Observation and data}\\label{sec:two}\n",
      "  ↳ 18514:\\section{Light curve analysis}\\label{sec:three}\n"
     ]
    },
    {
     "name": "stdout",
     "output_type": "stream",
     "text": [
      "✔ → 18514:\\section{Light curve analysis}\\label{sec:three}\n",
      "  ↳ 35602:\\section{Source star and Einstein radius}\\label{sec:four}\n"
     ]
    },
    {
     "name": "stdout",
     "output_type": "stream",
     "text": [
      "✔ → 35602:\\section{Source star and Einstein radius}\\label{sec:four}\n",
      "  ↳ 43818:\\section{Physical parameters}\\label{sec:five}\n"
     ]
    },
    {
     "name": "stdout",
     "output_type": "stream",
     "text": [
      "✔ → 43818:\\section{Physical parameters}\\label{sec:five}\n",
      "  ↳ 48633:\\section{Summary and discussion}\\label{sec:six}\n"
     ]
    },
    {
     "name": "stdout",
     "output_type": "stream",
     "text": [
      "✔ → 48633:\\section{Summary and discussion}\\label{sec:six}\n",
      "  ↳ 56995:end\n"
     ]
    },
    {
     "name": "stderr",
     "output_type": "stream",
     "text": [
      "/tmp/ipykernel_2103/3009462391.py:49: LatexWarning: 2309.01280 did not run properly\n",
      "list index out of range\n",
      "  warnings.warn(latex.LatexWarning(f\"{paper_id:s} did not run properly\\n\" +\n"
     ]
    },
    {
     "name": "stdout",
     "output_type": "stream",
     "text": [
      "Retrieving document from  https://arxiv.org/e-print/2309.01629\n"
     ]
    },
    {
     "name": "stdout",
     "output_type": "stream",
     "text": [
      "extracting tarball to tmp_2309.01629..."
     ]
    },
    {
     "name": "stdout",
     "output_type": "stream",
     "text": [
      " done.\n"
     ]
    },
    {
     "name": "stderr",
     "output_type": "stream",
     "text": [
      "/opt/hostedtoolcache/Python/3.9.17/x64/lib/python3.9/site-packages/arxiv_on_deck_2/latex.py:473: LatexWarning: Error parsing the document directly. Trying to recover.\n",
      "  warnings.warn(LatexWarning(f\"Error parsing the document directly. Trying to recover.\"))\n"
     ]
    },
    {
     "name": "stdout",
     "output_type": "stream",
     "text": [
      "✔ → 0:header\n",
      "  ↳ 7743:\\section{Introduction} \\label{sec:intro}\n",
      "✔ → 7743:\\section{Introduction} \\label{sec:intro}\n",
      "  ↳ 14285:\\section{Observations and data reduction} \\label{sec:obs}\n"
     ]
    },
    {
     "name": "stdout",
     "output_type": "stream",
     "text": [
      "✔ → 14285:\\section{Observations and data reduction} \\label{sec:obs}\n",
      "  ↳ 25237:\\section{Results} \\label{sec:res}\n"
     ]
    },
    {
     "name": "stdout",
     "output_type": "stream",
     "text": [
      "✔ → 25237:\\section{Results} \\label{sec:res}\n",
      "  ↳ 49816:\\section{Modeling and analysis} \\label{sec:mod}\n"
     ]
    },
    {
     "name": "stdout",
     "output_type": "stream",
     "text": [
      "✘ → 49816:\\section{Modeling and analysis} \\label{sec:mod}\n",
      "  ↳ 79727:\\section{Discussion} \\label{sec:dis}\n"
     ]
    },
    {
     "name": "stdout",
     "output_type": "stream",
     "text": [
      "✔ → 79727:\\section{Discussion} \\label{sec:dis}\n",
      "  ↳ 100157:\\section{Summary and conclusions} \\label{sec:sum}\n"
     ]
    },
    {
     "name": "stdout",
     "output_type": "stream",
     "text": [
      "✔ → 100157:\\section{Summary and conclusions} \\label{sec:sum}\n",
      "  ↳ 107333:\\begin{appendix}\n",
      "✔ → 107333:\\begin{appendix}\n",
      "  ↳ 107350:\\section{Channel maps}          \\label{sec-app-chmaps}\n",
      "✔ → 107350:\\section{Channel maps}          \\label{sec-app-chmaps}\n",
      "  ↳ 111055:\\section{The luminosity of the central star}\n"
     ]
    },
    {
     "name": "stdout",
     "output_type": "stream",
     "text": [
      "✔ → 111055:\\section{The luminosity of the central star}\n",
      "  ↳ 113273:\\section{Proper motion of HH 494} \\label{sec:app:hh494}\n",
      "✔ → 113273:\\section{Proper motion of HH 494} \\label{sec:app:hh494}\n",
      "  ↳ 116915:end\n"
     ]
    },
    {
     "name": "stdout",
     "output_type": "stream",
     "text": [
      "R. Launhardt  ->  R. Launhardt  |  ['R. Launhardt']\n",
      "D. Semenov  ->  D. Semenov  |  ['D. Semenov']\n"
     ]
    },
    {
     "name": "stdout",
     "output_type": "stream",
     "text": [
      "Found 91 bibliographic references in tmp_2309.01629/cb26_pap2_v2023Aug31_acc.bbl.\n",
      "Retrieving document from  https://arxiv.org/e-print/2309.01724\n"
     ]
    },
    {
     "name": "stdout",
     "output_type": "stream",
     "text": [
      "extracting tarball to tmp_2309.01724..."
     ]
    },
    {
     "name": "stdout",
     "output_type": "stream",
     "text": [
      " done.\n"
     ]
    }
   ],
   "source": [
    "documents = []\n",
    "failed = []\n",
    "for paper in tqdm(candidates):\n",
    "    paper_id = paper['identifier'].lower().replace('arxiv:', '')\n",
    "    \n",
    "    folder = f'tmp_{paper_id}'\n",
    "\n",
    "    try:\n",
    "        if not os.path.isdir(folder):\n",
    "            folder = retrieve_document_source(f\"{paper_id}\", f'tmp_{paper_id}')\n",
    "        \n",
    "        try:\n",
    "            doc = latex.LatexDocument(folder, validation=validation)    \n",
    "        except AffiliationError as affilerror:\n",
    "            msg = f\"ArXiv:{paper_id:s} is not an MPIA paper... \" + str(affilerror)\n",
    "            failed.append((paper, \"affiliation error: \" + str(affilerror) ))\n",
    "            continue\n",
    "        \n",
    "        # Hack because sometimes author parsing does not work well\n",
    "        if (len(doc.authors) != len(paper['authors'])):\n",
    "            doc._authors = paper['authors']\n",
    "        else:\n",
    "            # highlight authors (FIXME: doc.highlight_authors)\n",
    "            # done on arxiv paper already\n",
    "            doc._authors = highlight_authors_in_list(\n",
    "                [mpia.get_initials(k) for k in doc.authors], \n",
    "                normed_mpia_authors, verbose=True)\n",
    "        if (doc.abstract) in (None, ''):\n",
    "            doc._abstract = paper['abstract']\n",
    "            \n",
    "        doc.comment = (get_markdown_badge(paper_id) + \n",
    "                       \"<mark>Appeared on: \" + paper['date'] + \"</mark> - \")\n",
    "        if paper['comments']:\n",
    "            doc.comment += \" _\" + paper['comments'] + \"_\"\n",
    "        \n",
    "        full_md = doc.generate_markdown_text()\n",
    "        \n",
    "        full_md += get_markdown_qrcode(paper_id)\n",
    "        \n",
    "        # replace citations\n",
    "        try:\n",
    "            bibdata = latex_bib.LatexBib.from_doc(doc)\n",
    "            full_md = latex_bib.replace_citations(full_md, bibdata)\n",
    "        except Exception as e:\n",
    "            print(e)\n",
    "        \n",
    "        documents.append((paper_id, full_md))\n",
    "    except Exception as e:\n",
    "        warnings.warn(latex.LatexWarning(f\"{paper_id:s} did not run properly\\n\" +\n",
    "                                         str(e)\n",
    "                                        ))\n",
    "        failed.append((paper, \"latex error \" + str(e)))"
   ]
  },
  {
   "cell_type": "markdown",
   "id": "2505a25c",
   "metadata": {
    "papermill": {
     "duration": 0.005828,
     "end_time": "2023-09-06T04:06:00.503882",
     "exception": false,
     "start_time": "2023-09-06T04:06:00.498054",
     "status": "completed"
    },
    "tags": []
   },
   "source": [
    "### Export the logs\n",
    "\n",
    "Throughout, we also keep track of the logs per paper. see `logs-{today date}.md` "
   ]
  },
  {
   "cell_type": "code",
   "execution_count": 5,
   "id": "d733828a",
   "metadata": {
    "execution": {
     "iopub.execute_input": "2023-09-06T04:06:00.517423Z",
     "iopub.status.busy": "2023-09-06T04:06:00.516527Z",
     "iopub.status.idle": "2023-09-06T04:06:00.533488Z",
     "shell.execute_reply": "2023-09-06T04:06:00.532865Z"
    },
    "papermill": {
     "duration": 0.025275,
     "end_time": "2023-09-06T04:06:00.534880",
     "exception": false,
     "start_time": "2023-09-06T04:06:00.509605",
     "status": "completed"
    },
    "scrolled": false,
    "tags": []
   },
   "outputs": [
    {
     "data": {
      "text/markdown": [
       "## Successful papers"
      ],
      "text/plain": [
       "<IPython.core.display.Markdown object>"
      ]
     },
     "metadata": {},
     "output_type": "display_data"
    },
    {
     "data": {
      "text/markdown": [
       "\n",
       "|||\n",
       "|---:|:---|\n",
       "| [![arXiv](https://img.shields.io/badge/arXiv-arXiv:2309.01629-b31b1b.svg)](https://arxiv.org/abs/arXiv:2309.01629) | **A resolved rotating disk wind from a young T Tauri star in the Bok  globule CB26**  |\n",
       "|| <mark>R. Launhardt</mark>, et al. -- incl., <mark>D. Semenov</mark> |\n",
       "|*Appeared on*| *2023-09-06*|\n",
       "|*Comments*| *Accepted by A&A, 25 pages, 19 figures*|\n",
       "|**Abstract**| The disk-outflow connection plays a key role in extracting excess angular momentum from a forming protostar. We have previously reported the discovery of a small molecular outflow from the edge-on T Tauri star in the Bok globule CB26 that shows a peculiar velocity pattern, reminiscent of an outflow that corotates with the disk. We report new, high-resolution mm-interferometric observations of CB26 with the aim of revealing the morphology and kinematics of the outflow at the disk-outflow interface. The IRAM PdBI was used to observe CO(2-1) at 1.3mm with a resolution of 0.5\". Using a physical model of the disk, which was derived from the dust emission, we employed chemo-dynamical modeling combined with line radiative transfer to constrain kinematic parameters and to construct a model of the CO emission from the disk that allowed us to separate the emission of the disk from that of the outflow. Our observations confirm the disk-wind nature of the rotating molecular outflow from CB26. The new high-resolution data reveal an X-shaped morphology of the CO emission close to the disk, and vertical streaks extending from the disk surface with a small half-opening angle of ~7deg, which can be traced out to vertical heights of ~500au. We interpret this emission as the combination of the disk atmosphere and a well-collimated disk wind, which we trace down to vertical heights of 40au, where it is launched from the surface of the flared disk at radii of 20-45au. The observed CO outflow has a total momentum flux of 1e-5 Msun km/s/yr, which is nearly three orders of magnitude larger than the maximum thrust that can be provided by the luminosity of the central star. We conclude that photoevaporation cannot be the main driving mechanism for this outflow, but it must be predominantly an MHD disk wind. It is thus far the best-resolved rotating disk wind observed to be launched from a circumstellar disk. |"
      ],
      "text/plain": [
       "[arXiv:2309.01629] A resolved rotating disk wind from a young T Tauri star in the Bok  globule CB26\n",
       "\t<mark>R. Launhardt</mark>, et al. -- incl., <mark>D. Semenov</mark>"
      ]
     },
     "metadata": {},
     "output_type": "display_data"
    },
    {
     "data": {
      "text/markdown": [
       "## Failed papers"
      ],
      "text/plain": [
       "<IPython.core.display.Markdown object>"
      ]
     },
     "metadata": {},
     "output_type": "display_data"
    },
    {
     "data": {
      "text/markdown": [
       "\n",
       "|||\n",
       "|---:|:---|\n",
       "| [![arXiv](https://img.shields.io/badge/arXiv-arXiv:2309.00671-b31b1b.svg)](https://arxiv.org/abs/arXiv:2309.00671) | **Dark Energy Survey Year 6 Results: Intra-Cluster Light from Redshift 0.2  to 0.5**  |\n",
       "|| Y. Zhang, et al. -- incl., <mark>M. Smith</mark> |\n",
       "|*Appeared on*| *2023-09-06*|\n",
       "|*Comments*| *Submitted to MNRAS*|\n",
       "|**Abstract**| Using the full six years of imaging data from the Dark Energy Survey, we study the surface brightness profiles of galaxy cluster central galaxies and intra-cluster light. We apply a ``stacking'' method to over four thousand galaxy clusters identified by the redMaPPer cluster finding algorithm in the redshift range of 0.2 to 0.5. This yields high signal-to-noise radial profile measurements of the central galaxy and intra-cluster light out to 1 Mpc from the cluster center. Using redMaPPer richness as a cluster mass indicator, we find that the intra-cluster light brightness has a strong mass dependence throughout the 0.2 to 0.5 redshift range, and the dependence grows stronger at a larger radius. In terms of redshift evolution, we find some evidence that the central galaxy, as well as the diffuse light within the transition region between the cluster central galaxy and intra-cluster light within 80 kpc from the center, may be growing over time. At larger radii, more than 80 kpc away from the cluster center, we do not find evidence of additional redshift evolution beyond the cluster mass dependence, which is consistent with the findings from the IllustrisTNG hydrodynamic simulation. We speculate that the major driver of intra-cluster light growth, especially at large radii, is associated with cluster mass growth. Finally, we find that the color of the cluster central galaxy and intra-cluster light displays a radial gradient that becomes bluer at a larger radius, which is consistent with a stellar stripping and disruption origin of intra-cluster light as suggested by simulation studies. |\n",
       "|<p style=\"color:green\"> **ERROR** </p>| <p style=\"color:green\">affiliation error: mpia.affiliation_verifications: 'Heidelberg' keyword not found.</p> |"
      ],
      "text/plain": [
       "<IPython.core.display.Markdown object>"
      ]
     },
     "metadata": {},
     "output_type": "display_data"
    },
    {
     "data": {
      "text/markdown": [
       "\n",
       "|||\n",
       "|---:|:---|\n",
       "| [![arXiv](https://img.shields.io/badge/arXiv-arXiv:2309.00973-b31b1b.svg)](https://arxiv.org/abs/arXiv:2309.00973) | **Evading no-go for PBH formation and production of SIGWs using Multiple  Sharp Transitions in EFT of single field inflation**  |\n",
       "|| G. Bhattacharya, et al. -- incl., <mark>S. Ghosh</mark> |\n",
       "|*Appeared on*| *2023-09-06*|\n",
       "|*Comments*| *14 pages, 3 figures, Comments are welcome*|\n",
       "|**Abstract**| Deploying \\textit{multiple sharp transitions} (MSTs) under a unified framework, we investigate the formation of Primordial Black Holes (PBHs) and the production of Scalar Induced Gravitational Waves (SIGWs) by incorporating one-loop corrected renormalized-resummed scalar power spectrum. With effective sound speed parameter, $1 \\leq c_s \\leq 1.17$, the direct consequence is the generation of PBH masses spanning $M_{\\rm PBH}\\sim{\\cal O}(10^{-31}M_{\\odot}- 10^{4}M_{\\odot})$, thus evading well known \\textit{No-go theorem} on PBH mass. Our results align coherently with the extensive NANOGrav 15-year data and the sensitivities outlined by other terrestrial and space-based experiments (e.g.: LISA, HLVK, BBO, HLV(O3), etc.). |\n",
       "|<p style=\"color:green\"> **ERROR** </p>| <p style=\"color:green\">affiliation error: mpia.affiliation_verifications: 'Heidelberg' keyword not found.</p> |"
      ],
      "text/plain": [
       "<IPython.core.display.Markdown object>"
      ]
     },
     "metadata": {},
     "output_type": "display_data"
    },
    {
     "data": {
      "text/markdown": [
       "\n",
       "|||\n",
       "|---:|:---|\n",
       "| [![arXiv](https://img.shields.io/badge/arXiv-arXiv:2309.01084-b31b1b.svg)](https://arxiv.org/abs/arXiv:2309.01084) | **Rotational Variability and Detection of Superflares in a Young Brown  Dwarf by TESS**  |\n",
       "|| R. Kumbhakar, et al. -- incl., <mark>S. Ghosh</mark> |\n",
       "|*Appeared on*| *2023-09-06*|\n",
       "|*Comments*| *10 pages, 5 figures*|\n",
       "|**Abstract**| We present a comprehensive analysis of a Transiting Exoplanet Survey Satellite (TESS) high-quality light curve for a young brown dwarf, MHO~4 having spectral type M7.0, in the Taurus star-forming region. We investigate the rotation periods and characterize the BD's dynamic atmosphere and surface features. We present light curve analysis of MHO~4, and estimate the rotation period to be around 2.224~d. Remarkably, MHO~4 exhibits two significant flaring events. Furthermore, we also estimated bolometric flare energies to be within the energy range of $10^{34}$ to $10^{35}$ erg, which sits in the superflare category. |\n",
       "|<p style=\"color:green\"> **ERROR** </p>| <p style=\"color:green\">affiliation error: mpia.affiliation_verifications: 'Heidelberg' keyword not found.</p> |"
      ],
      "text/plain": [
       "<IPython.core.display.Markdown object>"
      ]
     },
     "metadata": {},
     "output_type": "display_data"
    },
    {
     "data": {
      "text/markdown": [
       "\n",
       "|||\n",
       "|---:|:---|\n",
       "| [![arXiv](https://img.shields.io/badge/arXiv-arXiv:2309.01724-b31b1b.svg)](https://arxiv.org/abs/arXiv:2309.01724) | **Neural network-based emulation of interstellar medium models**  |\n",
       "|| P. Palud, et al. -- incl., <mark>A. Hughes</mark> |\n",
       "|*Appeared on*| *2023-09-06*|\n",
       "|*Comments*| **|\n",
       "|**Abstract**| The interpretation of observations of atomic and molecular tracers in the galactic and extragalactic interstellar medium (ISM) requires comparisons with state-of-the-art astrophysical models to infer some physical conditions. Usually, ISM models are too time-consuming for such inference procedures, as they call for numerous model evaluations. As a result, they are often replaced by an interpolation of a grid of precomputed models. We propose a new general method to derive faster, lighter, and more accurate approximations of the model from a grid of precomputed models. These emulators are defined with artificial neural networks (ANNs) designed and trained to address the specificities inherent in ISM models. Indeed, such models often predict many observables (e.g., line intensities) from just a few input physical parameters and can yield outliers due to numerical instabilities or physical bistabilities. We propose applying five strategies to address these characteristics: 1) an outlier removal procedure; 2) a clustering method that yields homogeneous subsets of lines that are simpler to predict with different ANNs; 3) a dimension reduction technique that enables to adequately size the network architecture; 4) the physical inputs are augmented with a polynomial transform to ease the learning of nonlinearities; and 5) a dense architecture to ease the learning of simple relations. We compare the proposed ANNs with standard classes of interpolation methods to emulate the Meudon PDR code, a representative ISM numerical model. Combinations of the proposed strategies outperform all interpolation methods by a factor of 2 on the average error, reaching 4.5% on the Meudon PDR code. These networks are also 1000 times faster than accurate interpolation methods and require ten to forty times less memory. This work will enable efficient inferences on wide-field multiline observations of the ISM. |\n",
       "|<p style=\"color:green\"> **ERROR** </p>| <p style=\"color:green\">affiliation error: mpia.affiliation_verifications: 'Heidelberg' keyword not found.</p> |"
      ],
      "text/plain": [
       "<IPython.core.display.Markdown object>"
      ]
     },
     "metadata": {},
     "output_type": "display_data"
    },
    {
     "data": {
      "text/markdown": [
       "\n",
       "|||\n",
       "|---:|:---|\n",
       "| [![arXiv](https://img.shields.io/badge/arXiv-arXiv:2309.01280-b31b1b.svg)](https://arxiv.org/abs/arXiv:2309.01280) | **KMT-2021-BLG-1547Lb: Giant microlensing planet detected through a signal  deformed by source binarity**  |\n",
       "|| C. Han, et al. -- incl., <mark>A. Gould</mark> |\n",
       "|*Appeared on*| *2023-09-06*|\n",
       "|*Comments*| *9 pages, 4 tables, 7 figures*|\n",
       "|**Abstract**| We investigate the previous microlensing data collected by the KMTNet survey in search of anomalous events for which no precise interpretations of the anomalies have been suggested. From this investigation, we find that the anomaly in the lensing light curve of the event KMT-2021-BLG-1547 is approximately described by a binary-lens (2L1S) model with a lens possessing a giant planet, but the model leaves unexplained residuals. We investigate the origin of the residuals by testing more sophisticated models that include either an extra lens component (3L1S model) or an extra source star (2L2S model) to the 2L1S configuration of the lens system. From these analyses, we find that the residuals from the 2L1S model originate from the existence of a faint companion to the source. The 2L2S solution substantially reduces the residuals and improves the model fit by $\\Delta\\chi^2=67.1$ with respect to the 2L1S solution. The 3L1S solution also improves the fit, but its fit is worse than that of the 2L2S solution by $\\Delta\\chi^2=24.7$. According to the 2L2S solution, the lens of the event is a planetary system with planet and host masses $(M_{\\rm p}/M_{\\rm J}, M_{\\rm h}/M_\\odot)=\\left( 1.47^{+0.64}_{-0.77}, 0.72^{+0.32}_{-0.38}\\right)$ lying at a distance $\\D_{\\rm L} =5.07^{+0.98}_{-1.50}$~kpc, and the source is a binary composed of a subgiant primary of a late G or an early K spectral type and a main-sequence companion of a K spectral type. The event demonstrates the need of sophisticated modeling for unexplained anomalies for the construction of a complete microlensing planet sample. |\n",
       "|<p style=\"color:red\"> **ERROR** </p>| <p style=\"color:red\">latex error list index out of range</p> |"
      ],
      "text/plain": [
       "<IPython.core.display.Markdown object>"
      ]
     },
     "metadata": {},
     "output_type": "display_data"
    }
   ],
   "source": [
    "import datetime\n",
    "today = str(datetime.date.today())\n",
    "logfile = f\"_build/html/logs/log-{today}.md\"\n",
    "\n",
    "\n",
    "with open(logfile, 'w') as logs:\n",
    "    # Success\n",
    "    logs.write(f'# Arxiv on Deck 2: Logs - {today}\\n\\n')\n",
    "    logs.write(\"\"\"* Arxiv had {0:,d} new papers\\n\"\"\".format(len(new_papers)))\n",
    "    logs.write(\"\"\"    * {0:,d} with possible author matches\\n\\n\"\"\".format(len(candidates)))\n",
    "    logs.write(\"## Sucessful papers\\n\\n\")\n",
    "    display(Markdown(\"## Successful papers\"))\n",
    "    success = [k[0] for k in documents]\n",
    "    for candid in candidates:\n",
    "        if candid['identifier'].split(':')[-1] in success:\n",
    "            display(candid)\n",
    "            logs.write(candid.generate_markdown_text() + '\\n\\n')\n",
    "\n",
    "    ## failed\n",
    "    logs.write(\"## Failed papers\\n\\n\")\n",
    "    display(Markdown(\"## Failed papers\"))\n",
    "    failed = sorted(failed, key=lambda x: x[1])\n",
    "    current_reason = \"\"\n",
    "    for paper, reason in failed:\n",
    "        if 'affiliation' in reason:\n",
    "            color = 'green'\n",
    "        else:\n",
    "            color = 'red'\n",
    "        data = Markdown(\n",
    "                paper.generate_markdown_text() + \n",
    "                f'\\n|<p style=\"color:{color:s}\"> **ERROR** </p>| <p style=\"color:{color:s}\">{reason:s}</p> |'\n",
    "               )\n",
    "        if reason != current_reason:\n",
    "            logs.write(f'### {reason:s} \\n\\n')\n",
    "            current_reason = reason\n",
    "        logs.write(data.data + '\\n\\n')\n",
    "        \n",
    "        # only display here the important errors (all in logs)\n",
    "        # if color in ('red',):\n",
    "        display(data)"
   ]
  },
  {
   "cell_type": "markdown",
   "id": "472d20ee",
   "metadata": {
    "papermill": {
     "duration": 0.006639,
     "end_time": "2023-09-06T04:06:00.548264",
     "exception": false,
     "start_time": "2023-09-06T04:06:00.541625",
     "status": "completed"
    },
    "tags": []
   },
   "source": [
    "## Export documents\n",
    "\n",
    "We now write the .md files and export relevant images"
   ]
  },
  {
   "cell_type": "code",
   "execution_count": 6,
   "id": "d426aed9",
   "metadata": {
    "execution": {
     "iopub.execute_input": "2023-09-06T04:06:00.565048Z",
     "iopub.status.busy": "2023-09-06T04:06:00.564399Z",
     "iopub.status.idle": "2023-09-06T04:06:00.571862Z",
     "shell.execute_reply": "2023-09-06T04:06:00.571354Z"
    },
    "papermill": {
     "duration": 0.016791,
     "end_time": "2023-09-06T04:06:00.573531",
     "exception": false,
     "start_time": "2023-09-06T04:06:00.556740",
     "status": "completed"
    },
    "tags": []
   },
   "outputs": [],
   "source": [
    "def export_markdown_summary(md: str, md_fname:str, directory: str):\n",
    "    \"\"\"Export MD document and associated relevant images\"\"\"\n",
    "    import os\n",
    "    import shutil\n",
    "    import re\n",
    "\n",
    "    if (os.path.exists(directory) and not os.path.isdir(directory)):\n",
    "        raise RuntimeError(f\"a non-directory file exists with name {directory:s}\")\n",
    "\n",
    "    if (not os.path.exists(directory)):\n",
    "        print(f\"creating directory {directory:s}\")\n",
    "        os.mkdir(directory)\n",
    "\n",
    "    fig_fnames = (re.compile(r'\\[Fig.*\\]\\((.*)\\)').findall(md) + \n",
    "                  re.compile(r'\\<img src=\"([^>\\s]*)\"[^>]*/>').findall(md))\n",
    "    for fname in fig_fnames:\n",
    "        if 'http' in fname:\n",
    "            # No need to copy online figures\n",
    "            continue\n",
    "        destdir = os.path.join(directory, os.path.dirname(fname))\n",
    "        destfname = os.path.join(destdir, os.path.basename(fname))\n",
    "        try:\n",
    "            os.makedirs(destdir)\n",
    "        except FileExistsError:\n",
    "            pass\n",
    "        shutil.copy(fname, destfname)\n",
    "    with open(os.path.join(directory, md_fname), 'w') as fout:\n",
    "        fout.write(md)\n",
    "    print(\"exported in \", os.path.join(directory, md_fname))\n",
    "    [print(\"    + \" + os.path.join(directory,fk)) for fk in fig_fnames]"
   ]
  },
  {
   "cell_type": "code",
   "execution_count": 7,
   "id": "014d04a4",
   "metadata": {
    "execution": {
     "iopub.execute_input": "2023-09-06T04:06:00.588749Z",
     "iopub.status.busy": "2023-09-06T04:06:00.588179Z",
     "iopub.status.idle": "2023-09-06T04:06:00.598277Z",
     "shell.execute_reply": "2023-09-06T04:06:00.597769Z"
    },
    "papermill": {
     "duration": 0.019078,
     "end_time": "2023-09-06T04:06:00.599668",
     "exception": false,
     "start_time": "2023-09-06T04:06:00.580590",
     "status": "completed"
    },
    "tags": []
   },
   "outputs": [
    {
     "name": "stdout",
     "output_type": "stream",
     "text": [
      "exported in  _build/html/2309.01629.md\n",
      "    + _build/html/tmp_2309.01629/./Figures/fig_cb26_all_moments01_pap_new1_2023Jul19.png\n",
      "    + _build/html/tmp_2309.01629/./Figures/fig_cb26_all_moments01_pap_new2_2023Jul19.png\n",
      "    + _build/html/tmp_2309.01629/./Figures/fig_cb26_12co_chanmap_oct2014_obs.png\n",
      "    + _build/html/tmp_2309.01629/./Figures/fig_cb26_overview_2022Nov.png\n"
     ]
    }
   ],
   "source": [
    "for paper_id, md in documents:\n",
    "    export_markdown_summary(md, f\"{paper_id:s}.md\", '_build/html/')"
   ]
  },
  {
   "cell_type": "markdown",
   "id": "f087a0a7",
   "metadata": {
    "papermill": {
     "duration": 0.007074,
     "end_time": "2023-09-06T04:06:00.613943",
     "exception": false,
     "start_time": "2023-09-06T04:06:00.606869",
     "status": "completed"
    },
    "tags": []
   },
   "source": [
    "## Display the papers\n",
    "\n",
    "Not necessary but allows for a quick check."
   ]
  },
  {
   "cell_type": "code",
   "execution_count": 8,
   "id": "fd25f625",
   "metadata": {
    "execution": {
     "iopub.execute_input": "2023-09-06T04:06:00.628825Z",
     "iopub.status.busy": "2023-09-06T04:06:00.628249Z",
     "iopub.status.idle": "2023-09-06T04:06:00.633122Z",
     "shell.execute_reply": "2023-09-06T04:06:00.632626Z"
    },
    "papermill": {
     "duration": 0.013908,
     "end_time": "2023-09-06T04:06:00.634519",
     "exception": false,
     "start_time": "2023-09-06T04:06:00.620611",
     "status": "completed"
    },
    "scrolled": false,
    "tags": []
   },
   "outputs": [
    {
     "data": {
      "text/markdown": [
       "<div class=\"macros\" style=\"visibility:hidden;\">\n",
       "$\\newcommand{\\ensuremath}{}$\n",
       "$\\newcommand{\\xspace}{}$\n",
       "$\\newcommand{\\object}[1]{\\texttt{#1}}$\n",
       "$\\newcommand{\\farcs}{{.}''}$\n",
       "$\\newcommand{\\farcm}{{.}'}$\n",
       "$\\newcommand{\\arcsec}{''}$\n",
       "$\\newcommand{\\arcmin}{'}$\n",
       "$\\newcommand{\\ion}[2]{#1#2}$\n",
       "$\\newcommand{\\textsc}[1]{\\textrm{#1}}$\n",
       "$\\newcommand{\\hl}[1]{\\textrm{#1}}$\n",
       "$\\newcommand{\\footnote}[1]{}$\n",
       "$\\newcommand{\\micron}{\\upmum}$\n",
       "$\\newcommand{\\msol}{\\mbox{M_\\odot}}$\n",
       "$\\newcommand{\\mjup}{\\mbox{M_{\\rm Jup}}}$\n",
       "$\\newcommand{\\rsol}{\\mbox{R_\\odot}}$\n",
       "$\\newcommand{\\lsol}{\\mbox{L_\\odot}}$\n",
       "$\\newcommand{\\point}{\\cdot}$\n",
       "$\\newcommand$\n",
       "$\\newcommand$\n",
       "$\\newcommand$\n",
       "$\\newcommand{\\HII}{H {\\small{II}} }$\n",
       "$\\newcommand{\\accrate}{M_\\sun{\\rm yr}^{-1}}$\n",
       "$\\newcommand{\\mjyb}{{\\rm mJy beam}^{-1}}$\n",
       "$\\newcommand{\\mjyp}{{\\rm mJy pixel}^{-1}}$\n",
       "$\\newcommand{\\mujyb}{{\\rm{\\mu}Jy beam}^{-1}}$\n",
       "$\\newcommand{\\mujyp}{{\\rm{\\mu}Jy pixel}^{-1}}$\n",
       "$\\newcommand{\\Mjysr}{{\\rm MJy sr}^{-1}}$\n",
       "$\\newcommand{\\Mjyb}{{\\rm MJy beam}^{-1}}$\n",
       "$\\newcommand{\\cmcub}{cm^{-3}}$\n",
       "$\\newcommand{\\jyb}{{\\rm Jy beam}^{-1}}$\n",
       "$\\newcommand{\\mjybkms}{{\\rm mJy beam}^{-1}{\\rm km s}^{-1}}$\n",
       "$\\newcommand{\\jybkms}{{\\rm Jy beam}^{-1}{\\rm km s}^{-1}}$\n",
       "$\\newcommand{\\dotsec}{\\rlap.{\"}}$\n",
       "$\\newcommand{\\dotmin}{\\rlap.{'}}$\n",
       "$\\newcommand{\\dotdeg}{\\rlap.{^\\circ}}$\n",
       "$\\newcommand{\\dd}{  {\\rm d}}$\n",
       "$\\newcommand{\\env}{{\\rm env}}$\n",
       "$\\newcommand{\\disk}{{\\rm disk}}$\n",
       "$\\newcommand{\\rcyl}{r_{\\rm cyl}}$\n",
       "$\\newcommand{\\teff}{T_{\\rm eff}}$\n",
       "$\\newcommand{\\K}{\\rm K}$\n",
       "$\\newcommand{\\nm}{  \\rm nm}$\n",
       "$\\newcommand{\\mm}{  \\rm mm}$\n",
       "$\\newcommand{\\cm}{  \\rm cm}$\n",
       "$\\newcommand{\\mum}{  \\rm \\mu m}$\n",
       "$\\newcommand{\\msun}{M_\\odot}$\n",
       "$\\newcommand{\\lsun}{L_\\odot}$\n",
       "$\\newcommand{\\rsun}{R_\\odot}$\n",
       "$\\newcommand{\\au}{\\rm au}$\n",
       "$\\newcommand{\\Jy}{\\rm Jy}$\n",
       "$\\newcommand{\\beam}{\\rm beam}$\n",
       "$\\newcommand{\\asp}{\\mbox{.\\!\\!^{\\prime\\prime}}}$\n",
       "$\\newcommand{\\grd}{\\mbox{^{\\circ}}}$\n",
       "$\\newcommand{\\nthp}{\\mbox{N_2H^+}}$\n",
       "$\\newcommand{\\htdp}{\\mbox{H_2D^+}}$\n",
       "$\\newcommand{\\ntdp}{\\mbox{N_2D^+}}$\n",
       "$\\newcommand{\\nht}{\\mbox{NH_3}}$\n",
       "$\\newcommand{\\hcop}{\\mbox{HCO^+}}$\n",
       "$\\newcommand{\\htcop}{\\mbox{H^{13}CO^+}}$\n",
       "$\\newcommand{\\kmspc}{\\mbox{km s^{-1} pc^{-1}}}$\n",
       "$\\newcommand{\\kms}{\\mbox{km s^{-1}}}$\n",
       "$\\newcommand{\\htp}{\\mbox{H_3^+}}$\n",
       "$\\newcommand{\\Ka}{\\mbox{K_{\\rm a}}}$\n",
       "$\\newcommand{\\rl}[1]{{\\leavevmode\\color{magenta} #1}}$\n",
       "$\\newcommand{\\zcp}[1]{{\\leavevmode\\color{cyan} #1}}$</div>\n",
       "\n",
       "\n",
       "\n",
       "<div id=\"title\">\n",
       "\n",
       "# A resolved rotating disk wind from a young T Tauri star in the Bok globule CB 26      $\\thanks{Based on observations carried out with the IRAM Plateau de Bure Interferometer (PdBI, now NOEMA), the Owens Valley millimeter-wave array (OVRO), and the Submillimeter Array (SMA).}$\n",
       "\n",
       "</div>\n",
       "<div id=\"comments\">\n",
       "\n",
       "[![arXiv](https://img.shields.io/badge/arXiv-2309.01629-b31b1b.svg)](https://arxiv.org/abs/2309.01629)<mark>Appeared on: 2023-09-06</mark> -  _Accepted by A&A, 25 pages, 19 figures_\n",
       "\n",
       "</div>\n",
       "<div id=\"authors\">\n",
       "\n",
       "<mark>R. Launhardt</mark>, et al. -- incl., <mark>D. Semenov</mark>\n",
       "\n",
       "</div>\n",
       "<div id=\"abstract\">\n",
       "\n",
       "**Abstract:** The disk-outflow connection plays a key role in extracting excess angular momentum from a forming protostar. Although indications of jet rotation have been reported for a few objects, observational constraints of outflow rotation are still very scarce. We have previously reported the discovery of a small collimated molecular outflow from the  edge-on T Tauri star -- disk system in the Bok globule CB 26 that shows a peculiar velocity pattern, reminiscent of an outflow that corotates with the Keplerian disk. However, we could not ultimately exclude possible alternative explanations for the origin of the observed velocity field. We report new, high angular resolution millimeter-interferometric observations of CB 26 with the aim of revealing the morphology and kinematics of the outflow at the disk -- outflow interface to unambiguously discriminate between the possible alternative explanations for the observed peculiar velocity pattern. The IRAM PdBI array and the 30 m telescope were used to observe HCO $^{+}$ (1--0) and H $^{13}$ CO $^{+}$ (1--0) at 3.3 mm and $\\mbox{$^{12}$CO(2--1)}$ at 1.3 mm in three configurations plus zerospacing, resulting in spectral line maps with angular resolutions of 3 $\\farcs$ 5 and 0 $\\farcs$ 5, respectively. The SMA was used to observe the HCO $^{+}$ (3--2) line at 1.1 mm with an angular resolution of 1 $\\farcs$ 35. Additional earlier observations of $^{13}$ CO(1--0) at 2.7 mm with an angular resolution of 1 $\\farcs$ 0, obtained with OVRO, are also used for the analysis. Using a physical model of the disk, which was derived from the dust continuum emission, we employed chemo-dynamical modeling combined with line radiative transfer calculations to constrain kinematic parameters of the system and to construct a model of the CO emission from the disk that allowed us to separate the emission of the disk from that of the outflow. Our observations confirm the disk-wind nature of the rotating molecular outflow from $\\mbox{CB 26 - YSO 1}$ . The new high-resolution data reveal an X-shaped morphology of the CO emission close to the disk, and vertical streaks extending from the disk surface with a small half-opening angle of $\\approx$ 7◦, which can be traced out to vertical heights of $\\approx$ 500 au. We interpret this emission as the combination of the disk atmosphere and a well-collimated disk wind, of which we mainly see the outer walls of the outflow cone. The decomposition of this emission into a contribution from the disk atmosphere and the disk wind allowed us to trace the disk wind down to vertical heights of $\\approx$ 40 au, where it is launched from the surface of the flared disk at radii of $R_{\\rm L}\\approx$ 20 -- 45 au.The disk wind is rotating with the same orientation and speed as the Keplerian disk and the velocity structure of the cone walls along the flow is consistent with angular momentum conservation.The observed CO outflow has a total gas mass of $\\approx10^{-3}$ $\\msol$ , a dynamical age of $\\mbox{$\\tau_{\\rm dyn}\\approx740$ yr}$ , and a total momentum flux of $\\dot{P}_{\\rm CO}\\approx 1.0\\times10^{-5}$ $\\msol$ $\\kms$ yr $^{-1}$ , which is nearly three orders of magnitude larger than the maximum thrust that can be provided by the luminosity of the central star. We conclude that photoevaporation cannot be the main driving mechanism for this outflow, but it must be predominantly a magnetohydrodynamic (MHD) disk wind. It is thus far the best-resolved rotating disk wind observed to be launched from a circumstellar disk in Keplerian rotation around a low-mass young stellar object (YSO), albeit also the one with the largest launch radius. It confirms the observed trend that disk winds from Class I YSOs with transitional disks have much larger launch radii than jets ejected from Class 0 protostars.\n",
       "\n",
       "</div>\n",
       "\n",
       "<div id=\"div_fig1\">\n",
       "\n",
       "<img src=\"tmp_2309.01629/./Figures/fig_cb26_all_moments01_pap_new1_2023Jul19.png\" alt=\"Fig5.1\" width=\"50%\"/><img src=\"tmp_2309.01629/./Figures/fig_cb26_all_moments01_pap_new2_2023Jul19.png\" alt=\"Fig5.2\" width=\"50%\"/>\n",
       "\n",
       "**Figure 5. -** \n",
       "Line spectra of CB 26, integrated over $\\approx$1.5 beams around the disk center (top row), integrated intensity maps (middle row), and mean velocity fields (1$^{\\rm st}$ moment maps, bottom row). From left to right:  \n",
       "$^{12}$CO (2--1) (0.5 to 4.8 and 7.0 to 12.0 $\\kms$),\n",
       "$^{13}$CO (1--0) (3.4 to 4.9 and 6.2 to 7.7 $\\kms$),\n",
       "HCO$^+$(3--2) (1 to 10 $\\kms$), and\n",
       "HCO$^+$(1--0) and H$^{13}$CO$^+$(1--0) in blue (2.0 to 5.0 and 6.3 to 9.0 $\\kms$).\n",
       "Dashed vertical lines in the spectra (top) indicate the velocity range within which the spectra are most strongly affected by resolved-out emission and self-absorption from the extended envelope (see Figs. \\ref{fig_chanmap_12co_obs} through \\ref{fig_chanmap_hco10}). Total intensity contours in the maps start at 3 $\\sigma$. Overlaid as red contours in the middle row at 2.5, 7.5, and 15 mJy/beam is the 230 GHz dust continuum emission from the disk. Synthesized FWHM beam sizes are shown as gray ellipses in the lower right corners (dark gray: line, light gray: continuum). The bottom panels show the respective 1$^{\\rm st}$ moment maps with contours of the total intensity overlaid. A black triangle marks the location of the central star (and center of the disk). We note that, except for HCO$^+$(3--2), the envelope-dominated central velocity channels were masked out before the moment maps where generated. (*fig_intmaps1*)\n",
       "\n",
       "</div>\n",
       "<div id=\"div_fig2\">\n",
       "\n",
       "<img src=\"tmp_2309.01629/./Figures/fig_cb26_12co_chanmap_oct2014_obs.png\" alt=\"Fig7\" width=\"100%\"/>\n",
       "\n",
       "**Figure 7. -** $^{12}$CO (2--1) channel maps of CB 26, obtained with PdBI in 2005 and 2009, rotated counterclockwise by $32◦$.\n",
       "Contour levels start at 15 mJy/beam (2 $\\sigma$ r.m.s., see Table \\ref{tab-obs}).\n",
       "Red contours mark the 1.2 mm dust continuum emission from the disk (3 and 15 mJy/beam.\n",
       "The reference position is $\\alpha_{2000} = 04^h59^m50.74^s$,\n",
       "                          $\\delta_{2000} = 52^{\\circ}04^{\\prime}43.80^{\\prime\\prime}$.\n",
       "The $^{12}$CO synthesized beam size is indicated as the gray ellipse in the lower right\n",
       "corner of the first channel map. The channel number and mean $\\Delta v = v_{\\rm LSR}-5.95$(in $\\kms$) are indicated in the top left and right corners of the maps, respectively.\n",
       "Maps in the central velocity channels between $\\Delta v\\approx\\pm1.2$\\kms are corrupted by\n",
       "resolved-out emission and self-absorption from the extended envelope.\n",
       " (*fig_chanmap_12co_obs*)\n",
       "\n",
       "</div>\n",
       "<div id=\"div_fig3\">\n",
       "\n",
       "<img src=\"tmp_2309.01629/./Figures/fig_cb26_overview_2022Nov.png\" alt=\"Fig4\" width=\"100%\"/>\n",
       "\n",
       "**Figure 4. -** \n",
       " Overview of the CB 26 region. The left panel shows a wide-field optical \"true-color\" image, which is based on H$\\alpha$(blue), [SII](green), and I--band (red) images  ([Stecklum, Launhardt and Fischer 2004]()) . The globules CB 25 and CB 26 as well as Herbig-Haro object HH 494 are marked in the image. The zoomed-in right panel shows a NIR J-band image of the bipolar reflection nebula (color, 0$\\asp$6 resolution), overlaid with contours of the 1.3 mm dust continuum emission from the disk (white contours at 3, 7.5, and 15 mJy/beam). Green contours show the integrated $^{12}$CO(2--1) emission (0.5 to 12 $\\kms$) from the bipolar molecular outflow as presented in [Launhardt, Pavlyuchenkov and Gueth (2009)](). The red and blue arrows indicate the large-scale outflow orientation. Beam sizes are shown in respective colors in the lower right corner. The white dashed square marks the image section shown in Fig. \\ref{fig:contim}. The reference position is  $04^h59^m50.74^s, 52^{\\circ}04^{\\prime}43.80^{\\prime\\prime}$(J2000).\n",
       " (*fig-overview*)\n",
       "\n",
       "</div><div id=\"qrcode\"><img src=https://api.qrserver.com/v1/create-qr-code/?size=100x100&data=\"https://arxiv.org/abs/2309.01629\"></div>"
      ],
      "text/plain": [
       "<IPython.core.display.Markdown object>"
      ]
     },
     "metadata": {},
     "output_type": "display_data"
    }
   ],
   "source": [
    "[display(Markdown(k[1])) for k in documents];"
   ]
  },
  {
   "cell_type": "markdown",
   "id": "873873a4",
   "metadata": {
    "papermill": {
     "duration": 0.006991,
     "end_time": "2023-09-06T04:06:00.648613",
     "exception": false,
     "start_time": "2023-09-06T04:06:00.641622",
     "status": "completed"
    },
    "tags": []
   },
   "source": [
    "# Create HTML index"
   ]
  },
  {
   "cell_type": "code",
   "execution_count": 9,
   "id": "cf665672",
   "metadata": {
    "execution": {
     "iopub.execute_input": "2023-09-06T04:06:00.664045Z",
     "iopub.status.busy": "2023-09-06T04:06:00.663473Z",
     "iopub.status.idle": "2023-09-06T04:06:00.673075Z",
     "shell.execute_reply": "2023-09-06T04:06:00.672461Z"
    },
    "papermill": {
     "duration": 0.019014,
     "end_time": "2023-09-06T04:06:00.674602",
     "exception": false,
     "start_time": "2023-09-06T04:06:00.655588",
     "status": "completed"
    },
    "tags": []
   },
   "outputs": [
    {
     "name": "stdout",
     "output_type": "stream",
     "text": [
      "261  publications files modified in the last 7 days.\n"
     ]
    }
   ],
   "source": [
    "from datetime import datetime, timedelta, timezone\n",
    "from glob import glob\n",
    "import os\n",
    "\n",
    "files = glob('_build/html/*.md')\n",
    "days = 7\n",
    "now = datetime.today()\n",
    "res = []\n",
    "for fk in files:\n",
    "    stat_result = os.stat(fk).st_ctime\n",
    "    modified = datetime.fromtimestamp(stat_result, tz=timezone.utc).replace(tzinfo=None)\n",
    "    delta = now.today() - modified\n",
    "    if delta <= timedelta(days=days):\n",
    "        res.append((delta.seconds, fk))\n",
    "res = [k[1] for k in reversed(sorted(res, key=lambda x:x[1]))]\n",
    "npub = len(res)\n",
    "print(len(res), f\" publications files modified in the last {days:d} days.\")\n",
    "# [ print('\\t', k) for k in res ];"
   ]
  },
  {
   "cell_type": "code",
   "execution_count": 10,
   "id": "015de740",
   "metadata": {
    "execution": {
     "iopub.execute_input": "2023-09-06T04:06:00.690198Z",
     "iopub.status.busy": "2023-09-06T04:06:00.689653Z",
     "iopub.status.idle": "2023-09-06T04:06:00.709055Z",
     "shell.execute_reply": "2023-09-06T04:06:00.708432Z"
    },
    "papermill": {
     "duration": 0.028827,
     "end_time": "2023-09-06T04:06:00.710553",
     "exception": false,
     "start_time": "2023-09-06T04:06:00.681726",
     "status": "completed"
    },
    "tags": []
   },
   "outputs": [
    {
     "name": "stdout",
     "output_type": "stream",
     "text": [
      "6  publications in the last 7 days.\n"
     ]
    }
   ],
   "source": [
    "import datetime\n",
    "from glob import glob\n",
    "\n",
    "def get_last_n_days(lst, days=1):\n",
    "    \"\"\" Get the documents from the last n days \"\"\"\n",
    "    sorted_lst = sorted(lst, key=lambda x: x[1], reverse=True)\n",
    "    for fname, date in sorted_lst:\n",
    "        if date >= str(datetime.date.today() - datetime.timedelta(days=days)):\n",
    "            yield fname\n",
    "\n",
    "def extract_appearance_dates(lst_file):\n",
    "    dates = []\n",
    "\n",
    "    def get_date(line):\n",
    "        return line\\\n",
    "            .split('Appeared on:')[-1]\\\n",
    "            .split('</mark>')[0].strip()\n",
    "\n",
    "    for fname in lst:\n",
    "        with open(fname, 'r') as f:\n",
    "            found_date = False\n",
    "            for line in f:\n",
    "                if not found_date:\n",
    "                    if \"Appeared on\" in line:\n",
    "                        found_date = True\n",
    "                        dates.append((fname, get_date(line)))\n",
    "                else:\n",
    "                    break\n",
    "    return dates\n",
    "\n",
    "from glob import glob\n",
    "lst = glob('_build/html/*md')\n",
    "days = 7\n",
    "dates = extract_appearance_dates(lst)\n",
    "res = list(get_last_n_days(dates, days))\n",
    "npub = len(res)\n",
    "print(len(res), f\" publications in the last {days:d} days.\")"
   ]
  },
  {
   "cell_type": "code",
   "execution_count": 11,
   "id": "52ca0208",
   "metadata": {
    "execution": {
     "iopub.execute_input": "2023-09-06T04:06:00.727294Z",
     "iopub.status.busy": "2023-09-06T04:06:00.726617Z",
     "iopub.status.idle": "2023-09-06T04:06:00.732295Z",
     "shell.execute_reply": "2023-09-06T04:06:00.731723Z"
    },
    "papermill": {
     "duration": 0.015627,
     "end_time": "2023-09-06T04:06:00.733690",
     "exception": false,
     "start_time": "2023-09-06T04:06:00.718063",
     "status": "completed"
    },
    "scrolled": false,
    "tags": []
   },
   "outputs": [],
   "source": [
    "def create_carousel(npub=4):\n",
    "    \"\"\" Generate the HTML code for a carousel with `npub` slides \"\"\"\n",
    "    carousel = [\"\"\"  <div class=\"carousel\" \"\"\",\n",
    "                \"\"\"       data-flickity='{ \"autoPlay\": 10000, \"adaptiveHeight\": true, \"resize\": true, \"wrapAround\": true, \"pauseAutoPlayOnHover\": true, \"groupCells\": 1 }' id=\"asyncTypeset\">\"\"\"\n",
    "                ]\n",
    "    \n",
    "    item_str = \"\"\"    <div class=\"carousel-cell\"> <div id=\"slide{k}\" class=\"md_view\">Content {k}</div> </div>\"\"\"\n",
    "    for k in range(1, npub + 1):\n",
    "        carousel.append(item_str.format(k=k))\n",
    "    carousel.append(\"  </div>\")\n",
    "    return '\\n'.join(carousel)\n",
    "\n",
    "def create_grid(npub=4):\n",
    "    \"\"\" Generate the HTML code for a flat grid with `npub` slides \"\"\"\n",
    "    grid = [\"\"\"  <div class=\"grid\"> \"\"\",\n",
    "                ]\n",
    "    \n",
    "    item_str = \"\"\"    <div class=\"grid-item\"> <div id=\"slide{k}\" class=\"md_view\">Content {k}</div> </div>\"\"\"\n",
    "    for k in range(1, npub + 1):\n",
    "        grid.append(item_str.format(k=k))\n",
    "    grid.append(\"  </div>\")\n",
    "    return '\\n'.join(grid)"
   ]
  },
  {
   "cell_type": "code",
   "execution_count": 12,
   "id": "a6eac5b6",
   "metadata": {
    "execution": {
     "iopub.execute_input": "2023-09-06T04:06:00.749604Z",
     "iopub.status.busy": "2023-09-06T04:06:00.749001Z",
     "iopub.status.idle": "2023-09-06T04:06:00.755926Z",
     "shell.execute_reply": "2023-09-06T04:06:00.755347Z"
    },
    "papermill": {
     "duration": 0.016778,
     "end_time": "2023-09-06T04:06:00.757729",
     "exception": false,
     "start_time": "2023-09-06T04:06:00.740951",
     "status": "completed"
    },
    "scrolled": false,
    "tags": []
   },
   "outputs": [],
   "source": [
    "carousel = create_carousel(npub)\n",
    "docs = ', '.join(['\"{0:s}\"'.format(k.split('/')[-1]) for k in res])\n",
    "slides = ', '.join([f'\"slide{k}\"' for k in range(1, npub + 1)])\n",
    "\n",
    "with open(\"daily_template.html\", \"r\") as tpl:\n",
    "    page = tpl.read()\n",
    "    page = page.replace(\"{%-- carousel:s --%}\", carousel)\\\n",
    "               .replace(\"{%-- suptitle:s --%}\",  \"7-day archives\" )\\\n",
    "               .replace(\"{%-- docs:s --%}\", docs)\\\n",
    "               .replace(\"{%-- slides:s --%}\", slides)\n",
    "    \n",
    "with open(\"_build/html/index_7days.html\", 'w') as fout:\n",
    "    fout.write(page)"
   ]
  },
  {
   "cell_type": "code",
   "execution_count": 13,
   "id": "adc1a1ec",
   "metadata": {
    "execution": {
     "iopub.execute_input": "2023-09-06T04:06:00.773542Z",
     "iopub.status.busy": "2023-09-06T04:06:00.773281Z",
     "iopub.status.idle": "2023-09-06T04:06:00.780221Z",
     "shell.execute_reply": "2023-09-06T04:06:00.779734Z"
    },
    "papermill": {
     "duration": 0.016698,
     "end_time": "2023-09-06T04:06:00.781720",
     "exception": false,
     "start_time": "2023-09-06T04:06:00.765022",
     "status": "completed"
    },
    "tags": []
   },
   "outputs": [
    {
     "name": "stdout",
     "output_type": "stream",
     "text": [
      "1  publications in the last day.\n"
     ]
    }
   ],
   "source": [
    "# redo for today\n",
    "days = 1\n",
    "res = list(get_last_n_days(dates, days))\n",
    "npub = len(res)\n",
    "print(len(res), f\" publications in the last day.\")\n",
    "\n",
    "carousel = create_carousel(npub)\n",
    "docs = ', '.join(['\"{0:s}\"'.format(k.split('/')[-1]) for k in res])\n",
    "slides = ', '.join([f'\"slide{k}\"' for k in range(1, npub + 1)])\n",
    "\n",
    "with open(\"daily_template.html\", \"r\") as tpl:\n",
    "    page = tpl.read()\n",
    "    page = page.replace(\"{%-- carousel:s --%}\", carousel)\\\n",
    "               .replace(\"{%-- suptitle:s --%}\",  \"Daily\" )\\\n",
    "               .replace(\"{%-- docs:s --%}\", docs)\\\n",
    "               .replace(\"{%-- slides:s --%}\", slides)\n",
    "    \n",
    "# print(carousel, docs, slides)\n",
    "# print(page)\n",
    "with open(\"_build/html/index_daily.html\", 'w') as fout:\n",
    "    fout.write(page)"
   ]
  },
  {
   "cell_type": "code",
   "execution_count": 14,
   "id": "00eece82",
   "metadata": {
    "execution": {
     "iopub.execute_input": "2023-09-06T04:06:00.797902Z",
     "iopub.status.busy": "2023-09-06T04:06:00.797275Z",
     "iopub.status.idle": "2023-09-06T04:06:00.804297Z",
     "shell.execute_reply": "2023-09-06T04:06:00.803685Z"
    },
    "papermill": {
     "duration": 0.016699,
     "end_time": "2023-09-06T04:06:00.805797",
     "exception": false,
     "start_time": "2023-09-06T04:06:00.789098",
     "status": "completed"
    },
    "scrolled": false,
    "tags": []
   },
   "outputs": [
    {
     "name": "stdout",
     "output_type": "stream",
     "text": [
      "6  6 publications selected.\n"
     ]
    }
   ],
   "source": [
    "# Create the flat grid of the last N papers (fixed number regardless of dates)\n",
    "from itertools import islice \n",
    "\n",
    "npub = 6\n",
    "res = [k[0] for k in (islice(reversed(sorted(dates, key=lambda x: x[1])), 6))]\n",
    "print(len(res), f\" {npub} publications selected.\")\n",
    "\n",
    "grid = create_grid(npub)\n",
    "docs = ', '.join(['\"{0:s}\"'.format(k.split('/')[-1]) for k in res])\n",
    "slides = ', '.join([f'\"slide{k}\"' for k in range(1, npub + 1)])\n",
    "\n",
    "with open(\"grid_template.html\", \"r\") as tpl:\n",
    "    page = tpl.read()\n",
    "    page = page.replace(\"{%-- grid-content:s --%}\", grid)\\\n",
    "               .replace(\"{%-- suptitle:s --%}\",  f\"Last {npub:,d} papers\" )\\\n",
    "               .replace(\"{%-- docs:s --%}\", docs)\\\n",
    "               .replace(\"{%-- slides:s --%}\", slides)\n",
    "    \n",
    "# print(grid, docs, slides)\n",
    "# print(page)\n",
    "with open(\"_build/html/index_npub_grid.html\", 'w') as fout:\n",
    "    fout.write(page)"
   ]
  }
 ],
 "metadata": {
  "kernelspec": {
   "display_name": "Python 3 (ipykernel)",
   "language": "python",
   "name": "python3"
  },
  "language_info": {
   "codemirror_mode": {
    "name": "ipython",
    "version": 3
   },
   "file_extension": ".py",
   "mimetype": "text/x-python",
   "name": "python",
   "nbconvert_exporter": "python",
   "pygments_lexer": "ipython3",
   "version": "3.9.17"
  },
  "papermill": {
   "default_parameters": {},
   "duration": 74.323696,
   "end_time": "2023-09-06T04:06:01.033228",
   "environment_variables": {},
   "exception": null,
   "input_path": "MPIA daily digest.ipynb",
   "output_path": "log.ipynb",
   "parameters": {},
   "start_time": "2023-09-06T04:04:46.709532",
   "version": "2.4.0"
  },
  "vscode": {
   "interpreter": {
    "hash": "aee8b7b246df8f9039afb4144a1f6fd8d2ca17a180786b69acc140d282b71a49"
   }
  },
  "widgets": {
   "application/vnd.jupyter.widget-state+json": {
    "state": {
     "1ea9aa7073ed470c9f7d89271be4887b": {
      "model_module": "@jupyter-widgets/controls",
      "model_module_version": "2.0.0",
      "model_name": "HTMLModel",
      "state": {
       "_dom_classes": [],
       "_model_module": "@jupyter-widgets/controls",
       "_model_module_version": "2.0.0",
       "_model_name": "HTMLModel",
       "_view_count": null,
       "_view_module": "@jupyter-widgets/controls",
       "_view_module_version": "2.0.0",
       "_view_name": "HTMLView",
       "description": "",
       "description_allow_html": false,
       "layout": "IPY_MODEL_36502948d7714937b7e424c3d646ba1d",
       "placeholder": "​",
       "style": "IPY_MODEL_2493c1afb9804674ac69e08980e5e0a0",
       "tabbable": null,
       "tooltip": null,
       "value": " 6/6 [00:45&lt;00:00,  9.76s/it]"
      }
     },
     "211f641284964171b0966d97943b46d1": {
      "model_module": "@jupyter-widgets/controls",
      "model_module_version": "2.0.0",
      "model_name": "FloatProgressModel",
      "state": {
       "_dom_classes": [],
       "_model_module": "@jupyter-widgets/controls",
       "_model_module_version": "2.0.0",
       "_model_name": "FloatProgressModel",
       "_view_count": null,
       "_view_module": "@jupyter-widgets/controls",
       "_view_module_version": "2.0.0",
       "_view_name": "ProgressView",
       "bar_style": "success",
       "description": "",
       "description_allow_html": false,
       "layout": "IPY_MODEL_4c53c75106764b92996a24ed515246d0",
       "max": 6.0,
       "min": 0.0,
       "orientation": "horizontal",
       "style": "IPY_MODEL_7313acf5ae0646d6b6b441a29953112a",
       "tabbable": null,
       "tooltip": null,
       "value": 6.0
      }
     },
     "2493c1afb9804674ac69e08980e5e0a0": {
      "model_module": "@jupyter-widgets/controls",
      "model_module_version": "2.0.0",
      "model_name": "HTMLStyleModel",
      "state": {
       "_model_module": "@jupyter-widgets/controls",
       "_model_module_version": "2.0.0",
       "_model_name": "HTMLStyleModel",
       "_view_count": null,
       "_view_module": "@jupyter-widgets/base",
       "_view_module_version": "2.0.0",
       "_view_name": "StyleView",
       "background": null,
       "description_width": "",
       "font_size": null,
       "text_color": null
      }
     },
     "36502948d7714937b7e424c3d646ba1d": {
      "model_module": "@jupyter-widgets/base",
      "model_module_version": "2.0.0",
      "model_name": "LayoutModel",
      "state": {
       "_model_module": "@jupyter-widgets/base",
       "_model_module_version": "2.0.0",
       "_model_name": "LayoutModel",
       "_view_count": null,
       "_view_module": "@jupyter-widgets/base",
       "_view_module_version": "2.0.0",
       "_view_name": "LayoutView",
       "align_content": null,
       "align_items": null,
       "align_self": null,
       "border_bottom": null,
       "border_left": null,
       "border_right": null,
       "border_top": null,
       "bottom": null,
       "display": null,
       "flex": null,
       "flex_flow": null,
       "grid_area": null,
       "grid_auto_columns": null,
       "grid_auto_flow": null,
       "grid_auto_rows": null,
       "grid_column": null,
       "grid_gap": null,
       "grid_row": null,
       "grid_template_areas": null,
       "grid_template_columns": null,
       "grid_template_rows": null,
       "height": null,
       "justify_content": null,
       "justify_items": null,
       "left": null,
       "margin": null,
       "max_height": null,
       "max_width": null,
       "min_height": null,
       "min_width": null,
       "object_fit": null,
       "object_position": null,
       "order": null,
       "overflow": null,
       "padding": null,
       "right": null,
       "top": null,
       "visibility": null,
       "width": null
      }
     },
     "4c53c75106764b92996a24ed515246d0": {
      "model_module": "@jupyter-widgets/base",
      "model_module_version": "2.0.0",
      "model_name": "LayoutModel",
      "state": {
       "_model_module": "@jupyter-widgets/base",
       "_model_module_version": "2.0.0",
       "_model_name": "LayoutModel",
       "_view_count": null,
       "_view_module": "@jupyter-widgets/base",
       "_view_module_version": "2.0.0",
       "_view_name": "LayoutView",
       "align_content": null,
       "align_items": null,
       "align_self": null,
       "border_bottom": null,
       "border_left": null,
       "border_right": null,
       "border_top": null,
       "bottom": null,
       "display": null,
       "flex": null,
       "flex_flow": null,
       "grid_area": null,
       "grid_auto_columns": null,
       "grid_auto_flow": null,
       "grid_auto_rows": null,
       "grid_column": null,
       "grid_gap": null,
       "grid_row": null,
       "grid_template_areas": null,
       "grid_template_columns": null,
       "grid_template_rows": null,
       "height": null,
       "justify_content": null,
       "justify_items": null,
       "left": null,
       "margin": null,
       "max_height": null,
       "max_width": null,
       "min_height": null,
       "min_width": null,
       "object_fit": null,
       "object_position": null,
       "order": null,
       "overflow": null,
       "padding": null,
       "right": null,
       "top": null,
       "visibility": null,
       "width": null
      }
     },
     "63864af628d547bf8270af145a6a71aa": {
      "model_module": "@jupyter-widgets/base",
      "model_module_version": "2.0.0",
      "model_name": "LayoutModel",
      "state": {
       "_model_module": "@jupyter-widgets/base",
       "_model_module_version": "2.0.0",
       "_model_name": "LayoutModel",
       "_view_count": null,
       "_view_module": "@jupyter-widgets/base",
       "_view_module_version": "2.0.0",
       "_view_name": "LayoutView",
       "align_content": null,
       "align_items": null,
       "align_self": null,
       "border_bottom": null,
       "border_left": null,
       "border_right": null,
       "border_top": null,
       "bottom": null,
       "display": null,
       "flex": null,
       "flex_flow": null,
       "grid_area": null,
       "grid_auto_columns": null,
       "grid_auto_flow": null,
       "grid_auto_rows": null,
       "grid_column": null,
       "grid_gap": null,
       "grid_row": null,
       "grid_template_areas": null,
       "grid_template_columns": null,
       "grid_template_rows": null,
       "height": null,
       "justify_content": null,
       "justify_items": null,
       "left": null,
       "margin": null,
       "max_height": null,
       "max_width": null,
       "min_height": null,
       "min_width": null,
       "object_fit": null,
       "object_position": null,
       "order": null,
       "overflow": null,
       "padding": null,
       "right": null,
       "top": null,
       "visibility": null,
       "width": null
      }
     },
     "6d0f9158c253409190cd36665e2c9aab": {
      "model_module": "@jupyter-widgets/controls",
      "model_module_version": "2.0.0",
      "model_name": "HBoxModel",
      "state": {
       "_dom_classes": [],
       "_model_module": "@jupyter-widgets/controls",
       "_model_module_version": "2.0.0",
       "_model_name": "HBoxModel",
       "_view_count": null,
       "_view_module": "@jupyter-widgets/controls",
       "_view_module_version": "2.0.0",
       "_view_name": "HBoxView",
       "box_style": "",
       "children": [
        "IPY_MODEL_743e02940af343d1b5dc9ca73cdf11d2",
        "IPY_MODEL_211f641284964171b0966d97943b46d1",
        "IPY_MODEL_1ea9aa7073ed470c9f7d89271be4887b"
       ],
       "layout": "IPY_MODEL_883a3257b296497db7f9752d69dd87a1",
       "tabbable": null,
       "tooltip": null
      }
     },
     "7313acf5ae0646d6b6b441a29953112a": {
      "model_module": "@jupyter-widgets/controls",
      "model_module_version": "2.0.0",
      "model_name": "ProgressStyleModel",
      "state": {
       "_model_module": "@jupyter-widgets/controls",
       "_model_module_version": "2.0.0",
       "_model_name": "ProgressStyleModel",
       "_view_count": null,
       "_view_module": "@jupyter-widgets/base",
       "_view_module_version": "2.0.0",
       "_view_name": "StyleView",
       "bar_color": null,
       "description_width": ""
      }
     },
     "743e02940af343d1b5dc9ca73cdf11d2": {
      "model_module": "@jupyter-widgets/controls",
      "model_module_version": "2.0.0",
      "model_name": "HTMLModel",
      "state": {
       "_dom_classes": [],
       "_model_module": "@jupyter-widgets/controls",
       "_model_module_version": "2.0.0",
       "_model_name": "HTMLModel",
       "_view_count": null,
       "_view_module": "@jupyter-widgets/controls",
       "_view_module_version": "2.0.0",
       "_view_name": "HTMLView",
       "description": "",
       "description_allow_html": false,
       "layout": "IPY_MODEL_63864af628d547bf8270af145a6a71aa",
       "placeholder": "​",
       "style": "IPY_MODEL_c02589ffb68241038a5ee1170b141c8c",
       "tabbable": null,
       "tooltip": null,
       "value": "100%"
      }
     },
     "883a3257b296497db7f9752d69dd87a1": {
      "model_module": "@jupyter-widgets/base",
      "model_module_version": "2.0.0",
      "model_name": "LayoutModel",
      "state": {
       "_model_module": "@jupyter-widgets/base",
       "_model_module_version": "2.0.0",
       "_model_name": "LayoutModel",
       "_view_count": null,
       "_view_module": "@jupyter-widgets/base",
       "_view_module_version": "2.0.0",
       "_view_name": "LayoutView",
       "align_content": null,
       "align_items": null,
       "align_self": null,
       "border_bottom": null,
       "border_left": null,
       "border_right": null,
       "border_top": null,
       "bottom": null,
       "display": null,
       "flex": null,
       "flex_flow": null,
       "grid_area": null,
       "grid_auto_columns": null,
       "grid_auto_flow": null,
       "grid_auto_rows": null,
       "grid_column": null,
       "grid_gap": null,
       "grid_row": null,
       "grid_template_areas": null,
       "grid_template_columns": null,
       "grid_template_rows": null,
       "height": null,
       "justify_content": null,
       "justify_items": null,
       "left": null,
       "margin": null,
       "max_height": null,
       "max_width": null,
       "min_height": null,
       "min_width": null,
       "object_fit": null,
       "object_position": null,
       "order": null,
       "overflow": null,
       "padding": null,
       "right": null,
       "top": null,
       "visibility": null,
       "width": null
      }
     },
     "c02589ffb68241038a5ee1170b141c8c": {
      "model_module": "@jupyter-widgets/controls",
      "model_module_version": "2.0.0",
      "model_name": "HTMLStyleModel",
      "state": {
       "_model_module": "@jupyter-widgets/controls",
       "_model_module_version": "2.0.0",
       "_model_name": "HTMLStyleModel",
       "_view_count": null,
       "_view_module": "@jupyter-widgets/base",
       "_view_module_version": "2.0.0",
       "_view_name": "StyleView",
       "background": null,
       "description_width": "",
       "font_size": null,
       "text_color": null
      }
     }
    },
    "version_major": 2,
    "version_minor": 0
   }
  }
 },
 "nbformat": 4,
 "nbformat_minor": 5
}