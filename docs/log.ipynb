{
 "cells": [
  {
   "cell_type": "markdown",
   "id": "92bcb855",
   "metadata": {
    "papermill": {
     "duration": 0.00376,
     "end_time": "2025-07-07T04:25:34.159962",
     "exception": false,
     "start_time": "2025-07-07T04:25:34.156202",
     "status": "completed"
    },
    "tags": []
   },
   "source": [
    "# MPIA Arxiv on Deck 2\n",
    "\n",
    "Contains the steps to produce the paper extractions."
   ]
  },
  {
   "cell_type": "code",
   "execution_count": 1,
   "id": "3a0d6e11",
   "metadata": {
    "execution": {
     "iopub.execute_input": "2025-07-07T04:25:34.167424Z",
     "iopub.status.busy": "2025-07-07T04:25:34.167141Z",
     "iopub.status.idle": "2025-07-07T04:25:34.395535Z",
     "shell.execute_reply": "2025-07-07T04:25:34.394868Z"
    },
    "papermill": {
     "duration": 0.23369,
     "end_time": "2025-07-07T04:25:34.396930",
     "exception": false,
     "start_time": "2025-07-07T04:25:34.163240",
     "status": "completed"
    },
    "tags": []
   },
   "outputs": [],
   "source": [
    "# Imports\n",
    "import os\n",
    "from IPython.display import Markdown, display\n",
    "from tqdm.notebook import tqdm\n",
    "import warnings\n",
    "from PIL import Image \n",
    "import re\n",
    "\n",
    "# requires arxiv_on_deck_2\n",
    "\n",
    "from arxiv_on_deck_2.arxiv2 import (get_new_papers, \n",
    "                                    get_paper_from_identifier,\n",
    "                                    retrieve_document_source, \n",
    "                                    get_markdown_badge)\n",
    "from arxiv_on_deck_2 import (latex,\n",
    "                             latex_bib,\n",
    "                             mpia,\n",
    "                             highlight_authors_in_list)\n",
    "\n",
    "# Sometimes images are really big\n",
    "Image.MAX_IMAGE_PIXELS = 1000000000 "
   ]
  },
  {
   "cell_type": "code",
   "execution_count": 2,
   "id": "22aa9d44",
   "metadata": {
    "execution": {
     "iopub.execute_input": "2025-07-07T04:25:34.404521Z",
     "iopub.status.busy": "2025-07-07T04:25:34.403986Z",
     "iopub.status.idle": "2025-07-07T04:25:34.412096Z",
     "shell.execute_reply": "2025-07-07T04:25:34.411553Z"
    },
    "papermill": {
     "duration": 0.012775,
     "end_time": "2025-07-07T04:25:34.413011",
     "exception": false,
     "start_time": "2025-07-07T04:25:34.400236",
     "status": "completed"
    },
    "tags": []
   },
   "outputs": [],
   "source": [
    "# Some useful definitions.\n",
    "\n",
    "class AffiliationWarning(UserWarning):\n",
    "    pass\n",
    "\n",
    "class AffiliationError(RuntimeError):\n",
    "    pass\n",
    "\n",
    "def validation(source: str):\n",
    "    \"\"\"Raises error paper during parsing of source file\n",
    "    \n",
    "    Allows checks before parsing TeX code.\n",
    "    \n",
    "    Raises AffiliationWarning\n",
    "    \"\"\"\n",
    "    check = mpia.affiliation_verifications(source, verbose=True)\n",
    "    if check is not True:\n",
    "        raise AffiliationError(\"mpia.affiliation_verifications: \" + check)\n",
    "\n",
    "        \n",
    "warnings.simplefilter('always', AffiliationWarning)\n",
    "\n",
    "\n",
    "def get_markdown_qrcode(paper_id: str):\n",
    "    \"\"\" Generate a qrcode to the arxiv page using qrserver.com\n",
    "    \n",
    "    :param paper: Arxiv paper\n",
    "    :returns: markdown text\n",
    "    \"\"\"\n",
    "    url = r\"https://api.qrserver.com/v1/create-qr-code/?size=100x100&data=\"\n",
    "    txt = f\"\"\"<img src={url}\"https://arxiv.org/abs/{paper_id}\">\"\"\"\n",
    "    txt = '<div id=\"qrcode\">' + txt + '</div>'\n",
    "    return txt\n",
    "\n",
    "\n",
    "def clean_non_western_encoded_characters_commands(text: str) -> str:\n",
    "    \"\"\" Remove non-western encoded characters from a string\n",
    "    List may need to grow.\n",
    "    \n",
    "    :param text: the text to clean\n",
    "    :return: the cleaned text\n",
    "    \"\"\"\n",
    "    text = re.sub(r\"(\\\\begin{CJK}{UTF8}{gbsn})(.*?)(\\\\end{CJK})\", r\"\\2\", text)\n",
    "    return text\n",
    "\n",
    "\n",
    "def get_initials(name: str) -> str:\n",
    "    \"\"\" Get the short name, e.g., A.-B. FamName\n",
    "    :param name: full name\n",
    "    :returns: initials\n",
    "    \"\"\"\n",
    "    initials = []\n",
    "    # account for non western names often in ()\n",
    "    if '(' in name:\n",
    "        name = clean_non_western_encoded_characters_commands(name)\n",
    "        suffix = re.findall(r\"\\((.*?)\\)\", name)[0]\n",
    "        name = name.replace(f\"({suffix})\", '')\n",
    "    else:\n",
    "        suffix = ''\n",
    "    split = name.split()\n",
    "    for token in split[:-1]:\n",
    "        if '-' in token:\n",
    "            current = '-'.join([k[0] + '.' for k in token.split('-')])\n",
    "        else:\n",
    "            current = token[0] + '.'\n",
    "        initials.append(current)\n",
    "    initials.append(split[-1].strip())\n",
    "    if suffix:\n",
    "        initials.append(f\"({suffix})\")\n",
    "    return ' '.join(initials)"
   ]
  },
  {
   "cell_type": "markdown",
   "id": "14bd6310",
   "metadata": {
    "papermill": {
     "duration": 0.002846,
     "end_time": "2025-07-07T04:25:34.418826",
     "exception": false,
     "start_time": "2025-07-07T04:25:34.415980",
     "status": "completed"
    },
    "tags": []
   },
   "source": [
    "## get list of arxiv paper candidates\n",
    "\n",
    "We use the MPIA mitarbeiter list webpage from mpia.de to get author names\n",
    "We then get all new papers from Arxiv and match authors"
   ]
  },
  {
   "cell_type": "code",
   "execution_count": 3,
   "id": "7ea813a8",
   "metadata": {
    "execution": {
     "iopub.execute_input": "2025-07-07T04:25:34.425670Z",
     "iopub.status.busy": "2025-07-07T04:25:34.425265Z",
     "iopub.status.idle": "2025-07-07T04:26:01.731322Z",
     "shell.execute_reply": "2025-07-07T04:26:01.730738Z"
    },
    "papermill": {
     "duration": 27.310803,
     "end_time": "2025-07-07T04:26:01.732520",
     "exception": false,
     "start_time": "2025-07-07T04:25:34.421717",
     "status": "completed"
    },
    "tags": []
   },
   "outputs": [],
   "source": [
    "# deal with the author list and edge cases of people that cannot be consistent on their name  \n",
    "\n",
    "def filter_non_scientists(name: str) -> bool:\n",
    "    \"\"\" Loose filter on expected authorships\n",
    "\n",
    "    removing IT, administration, technical staff\n",
    "    :param name: name\n",
    "    :returns: False if name is not a scientist\n",
    "    \"\"\"\n",
    "    remove_list = ['Licht', 'Binroth', 'Witzel', 'Jordan',\n",
    "                   'Zähringer', 'Scheerer', 'Hoffmann', 'Düe',\n",
    "                   'Hellmich', 'Enkler-Scharpegge', 'Witte-Nguy',\n",
    "                   'Dehen', 'Beckmann', 'Jager', 'Jäger'\n",
    "                  ]\n",
    "\n",
    "    for k in remove_list:\n",
    "        if k in name:\n",
    "            return False\n",
    "    return True\n",
    "\n",
    "def add_author_to_list(author_list: list) -> list:\n",
    "    \"\"\" Add author to list if not already in list\n",
    "    \n",
    "    :param author: author name\n",
    "    :param author_list: list of authors\n",
    "    :returns: updated list of authors\n",
    "    \"\"\"\n",
    "    add_list = ['T. Henning']\n",
    "\n",
    "    for author in add_list:\n",
    "        if author not in author_list:\n",
    "            author_list.append(author)\n",
    "    return author_list\n",
    "\n",
    "# get list from MPIA website\n",
    "# filter for non-scientists (mpia.get_mpia_mitarbeiter_list() does some filtering)\n",
    "mpia_authors = [k[1] for k in mpia.get_mpia_mitarbeiter_list() if filter_non_scientists(k[1])]\n",
    "# add some missing author because of inconsistencies in their MPIA name and author name on papers\n",
    "mpia_authors = add_author_to_list(mpia_authors)"
   ]
  },
  {
   "cell_type": "code",
   "execution_count": 4,
   "id": "2645e73a",
   "metadata": {
    "execution": {
     "iopub.execute_input": "2025-07-07T04:26:01.739759Z",
     "iopub.status.busy": "2025-07-07T04:26:01.739375Z",
     "iopub.status.idle": "2025-07-07T04:26:02.653895Z",
     "shell.execute_reply": "2025-07-07T04:26:02.653265Z"
    },
    "papermill": {
     "duration": 0.919347,
     "end_time": "2025-07-07T04:26:02.655151",
     "exception": false,
     "start_time": "2025-07-07T04:26:01.735804",
     "status": "completed"
    },
    "tags": []
   },
   "outputs": [
    {
     "name": "stdout",
     "output_type": "stream",
     "text": [
      "A. Pillepich  ->  A. Pillepich  |  ['A. Pillepich']\n",
      "K. Lee  ->  K. Lee  |  ['K. Lee']\n"
     ]
    },
    {
     "name": "stdout",
     "output_type": "stream",
     "text": [
      "X. Zhang  ->  X. Zhang  |  ['X. Zhang']\n",
      "Y. Wang  ->  Y. Wang  |  ['Y. Wang']\n",
      "Arxiv has 75 new papers today\n",
      "          5 with possible author matches\n"
     ]
    }
   ],
   "source": [
    "new_papers = get_new_papers()\n",
    "# add manual references\n",
    "add_paper_refs = []\n",
    "new_papers.extend([get_paper_from_identifier(k) for k in add_paper_refs])\n",
    "\n",
    "def robust_call(fn, value, *args, **kwargs):\n",
    "    try:\n",
    "        return fn(value, *args, **kwargs)\n",
    "    except Exception:\n",
    "        return value\n",
    "\n",
    "candidates = []\n",
    "for paperk in new_papers:\n",
    "    # Check author list with their initials\n",
    "    normed_author_list = [robust_call(mpia.get_initials, k) for k in paperk['authors']]\n",
    "    hl_authors = highlight_authors_in_list(normed_author_list, mpia_authors, verbose=True)\n",
    "    matches = [(hl, orig) for hl, orig in zip(hl_authors, paperk['authors']) if 'mark' in hl]\n",
    "    paperk['authors'] = hl_authors\n",
    "    if matches:\n",
    "        # only select paper if an author matched our list\n",
    "        candidates.append(paperk)\n",
    "print(\"\"\"Arxiv has {0:,d} new papers today\"\"\".format(len(new_papers)))        \n",
    "print(\"\"\"          {0:,d} with possible author matches\"\"\".format(len(candidates)))"
   ]
  },
  {
   "cell_type": "markdown",
   "id": "3543b34a",
   "metadata": {
    "papermill": {
     "duration": 0.003781,
     "end_time": "2025-07-07T04:26:02.663161",
     "exception": false,
     "start_time": "2025-07-07T04:26:02.659380",
     "status": "completed"
    },
    "tags": []
   },
   "source": [
    "# Parse sources and generate relevant outputs\n",
    "\n",
    "From the candidates, we do the following steps:\n",
    "* get their tarball from ArXiv (and extract data)\n",
    "* find the main .tex file: find one with \\documentclass{...} (sometimes it's non trivial)\n",
    "* Check affiliations with :func:`validation`, which uses :func:`mpia.affiliation_verifications`\n",
    "* If passing the affiliations: we parse the .tex source\n",
    "   * inject sub-documents into the main (flatten the main document)\n",
    "   * parse structure, extract information (title, abstract, authors, figures...)\n",
    "   * handles `\\graphicspath` if provided\n",
    "* Generate the .md document."
   ]
  },
  {
   "cell_type": "code",
   "execution_count": 5,
   "id": "9576b79e",
   "metadata": {
    "execution": {
     "iopub.execute_input": "2025-07-07T04:26:02.671917Z",
     "iopub.status.busy": "2025-07-07T04:26:02.671378Z",
     "iopub.status.idle": "2025-07-07T04:26:28.784349Z",
     "shell.execute_reply": "2025-07-07T04:26:28.783587Z"
    },
    "papermill": {
     "duration": 26.1185,
     "end_time": "2025-07-07T04:26:28.785493",
     "exception": false,
     "start_time": "2025-07-07T04:26:02.666993",
     "status": "completed"
    },
    "scrolled": false,
    "tags": []
   },
   "outputs": [
    {
     "data": {
      "application/vnd.jupyter.widget-view+json": {
       "model_id": "c9e808523b8247f683bc59e66f860bf5",
       "version_major": 2,
       "version_minor": 0
      },
      "text/plain": [
       "  0%|          | 0/5 [00:00<?, ?it/s]"
      ]
     },
     "metadata": {},
     "output_type": "display_data"
    },
    {
     "name": "stdout",
     "output_type": "stream",
     "text": [
      "Retrieving document from  https://arxiv.org/e-print/2507.02105\n"
     ]
    },
    {
     "name": "stdout",
     "output_type": "stream",
     "text": [
      "extracting tarball to tmp_2507.02105..."
     ]
    },
    {
     "name": "stdout",
     "output_type": "stream",
     "text": [
      " done.\n"
     ]
    },
    {
     "name": "stderr",
     "output_type": "stream",
     "text": [
      "/opt/hostedtoolcache/Python/3.9.23/x64/lib/python3.9/site-packages/arxiv_on_deck_2/latex.py:132: LatexWarning: attempting recovering figure fig/sb_profiles_ngb_mock\n",
      "  warnings.warn(LatexWarning(f'attempting recovering figure {image}'))\n",
      "/opt/hostedtoolcache/Python/3.9.23/x64/lib/python3.9/site-packages/arxiv_on_deck_2/latex.py:137: LatexWarning: Recovered figure fig/sb_profiles_ngb_mock as tmp_2507.02105/./fig/sb_profiles_ngb_mock.pdf\n",
      "  warnings.warn(LatexWarning(f'Recovered figure {image} as {fname}'))\n"
     ]
    },
    {
     "name": "stderr",
     "output_type": "stream",
     "text": [
      "/opt/hostedtoolcache/Python/3.9.23/x64/lib/python3.9/site-packages/arxiv_on_deck_2/latex.py:132: LatexWarning: attempting recovering figure fig/f_icl_sblim_27_valid_vs_mvir_singlepanel_ngb\n",
      "  warnings.warn(LatexWarning(f'attempting recovering figure {image}'))\n",
      "/opt/hostedtoolcache/Python/3.9.23/x64/lib/python3.9/site-packages/arxiv_on_deck_2/latex.py:137: LatexWarning: Recovered figure fig/f_icl_sblim_27_valid_vs_mvir_singlepanel_ngb as tmp_2507.02105/./fig/f_icl_sblim_27_valid_vs_mvir_singlepanel_ngb.pdf\n",
      "  warnings.warn(LatexWarning(f'Recovered figure {image} as {fname}'))\n"
     ]
    },
    {
     "name": "stderr",
     "output_type": "stream",
     "text": [
      "/opt/hostedtoolcache/Python/3.9.23/x64/lib/python3.9/site-packages/arxiv_on_deck_2/latex.py:132: LatexWarning: attempting recovering figure fig/compare_all_subsample_sb_profiles_circ_kpc\n",
      "  warnings.warn(LatexWarning(f'attempting recovering figure {image}'))\n",
      "/opt/hostedtoolcache/Python/3.9.23/x64/lib/python3.9/site-packages/arxiv_on_deck_2/latex.py:137: LatexWarning: Recovered figure fig/compare_all_subsample_sb_profiles_circ_kpc as tmp_2507.02105/./fig/compare_all_subsample_sb_profiles_circ_kpc.pdf\n",
      "  warnings.warn(LatexWarning(f'Recovered figure {image} as {fname}'))\n",
      "/opt/hostedtoolcache/Python/3.9.23/x64/lib/python3.9/site-packages/arxiv_on_deck_2/latex.py:132: LatexWarning: attempting recovering figure fig/compare_all_subsample_sb_profiles_ellip_kpc\n",
      "  warnings.warn(LatexWarning(f'attempting recovering figure {image}'))\n",
      "/opt/hostedtoolcache/Python/3.9.23/x64/lib/python3.9/site-packages/arxiv_on_deck_2/latex.py:137: LatexWarning: Recovered figure fig/compare_all_subsample_sb_profiles_ellip_kpc as tmp_2507.02105/./fig/compare_all_subsample_sb_profiles_ellip_kpc.pdf\n",
      "  warnings.warn(LatexWarning(f'Recovered figure {image} as {fname}'))\n"
     ]
    },
    {
     "name": "stderr",
     "output_type": "stream",
     "text": [
      "/opt/hostedtoolcache/Python/3.9.23/x64/lib/python3.9/site-packages/arxiv_on_deck_2/latex.py:132: LatexWarning: attempting recovering figure fig/rpetro_circ_kpc_vs_mvir_singlepanel\n",
      "  warnings.warn(LatexWarning(f'attempting recovering figure {image}'))\n",
      "/opt/hostedtoolcache/Python/3.9.23/x64/lib/python3.9/site-packages/arxiv_on_deck_2/latex.py:137: LatexWarning: Recovered figure fig/rpetro_circ_kpc_vs_mvir_singlepanel as tmp_2507.02105/./fig/rpetro_circ_kpc_vs_mvir_singlepanel.pdf\n",
      "  warnings.warn(LatexWarning(f'Recovered figure {image} as {fname}'))\n",
      "/opt/hostedtoolcache/Python/3.9.23/x64/lib/python3.9/site-packages/arxiv_on_deck_2/latex.py:132: LatexWarning: attempting recovering figure fig/rpetro_ellip_kpc_vs_mvir_singlepanel\n",
      "  warnings.warn(LatexWarning(f'attempting recovering figure {image}'))\n",
      "/opt/hostedtoolcache/Python/3.9.23/x64/lib/python3.9/site-packages/arxiv_on_deck_2/latex.py:137: LatexWarning: Recovered figure fig/rpetro_ellip_kpc_vs_mvir_singlepanel as tmp_2507.02105/./fig/rpetro_ellip_kpc_vs_mvir_singlepanel.pdf\n",
      "  warnings.warn(LatexWarning(f'Recovered figure {image} as {fname}'))\n"
     ]
    },
    {
     "name": "stderr",
     "output_type": "stream",
     "text": [
      "/opt/hostedtoolcache/Python/3.9.23/x64/lib/python3.9/site-packages/arxiv_on_deck_2/latex.py:132: LatexWarning: attempting recovering figure fig/correction_vs_mvir_circ\n",
      "  warnings.warn(LatexWarning(f'attempting recovering figure {image}'))\n",
      "/opt/hostedtoolcache/Python/3.9.23/x64/lib/python3.9/site-packages/arxiv_on_deck_2/latex.py:137: LatexWarning: Recovered figure fig/correction_vs_mvir_circ as tmp_2507.02105/./fig/correction_vs_mvir_circ.pdf\n",
      "  warnings.warn(LatexWarning(f'Recovered figure {image} as {fname}'))\n",
      "/opt/hostedtoolcache/Python/3.9.23/x64/lib/python3.9/site-packages/arxiv_on_deck_2/latex.py:132: LatexWarning: attempting recovering figure fig/correction_vs_mvir_ellip\n",
      "  warnings.warn(LatexWarning(f'attempting recovering figure {image}'))\n",
      "/opt/hostedtoolcache/Python/3.9.23/x64/lib/python3.9/site-packages/arxiv_on_deck_2/latex.py:137: LatexWarning: Recovered figure fig/correction_vs_mvir_ellip as tmp_2507.02105/./fig/correction_vs_mvir_ellip.pdf\n",
      "  warnings.warn(LatexWarning(f'Recovered figure {image} as {fname}'))\n"
     ]
    },
    {
     "name": "stderr",
     "output_type": "stream",
     "text": [
      "/opt/hostedtoolcache/Python/3.9.23/x64/lib/python3.9/site-packages/arxiv_on_deck_2/latex.py:132: LatexWarning: attempting recovering figure fig/rhalf_30_circ_kpc_vs_mvir_singlepanel\n",
      "  warnings.warn(LatexWarning(f'attempting recovering figure {image}'))\n",
      "/opt/hostedtoolcache/Python/3.9.23/x64/lib/python3.9/site-packages/arxiv_on_deck_2/latex.py:137: LatexWarning: Recovered figure fig/rhalf_30_circ_kpc_vs_mvir_singlepanel as tmp_2507.02105/./fig/rhalf_30_circ_kpc_vs_mvir_singlepanel.pdf\n",
      "  warnings.warn(LatexWarning(f'Recovered figure {image} as {fname}'))\n",
      "/opt/hostedtoolcache/Python/3.9.23/x64/lib/python3.9/site-packages/arxiv_on_deck_2/latex.py:132: LatexWarning: attempting recovering figure fig/rhalf_30_ellip_kpc_vs_mvir_singlepanel\n",
      "  warnings.warn(LatexWarning(f'attempting recovering figure {image}'))\n",
      "/opt/hostedtoolcache/Python/3.9.23/x64/lib/python3.9/site-packages/arxiv_on_deck_2/latex.py:137: LatexWarning: Recovered figure fig/rhalf_30_ellip_kpc_vs_mvir_singlepanel as tmp_2507.02105/./fig/rhalf_30_ellip_kpc_vs_mvir_singlepanel.pdf\n",
      "  warnings.warn(LatexWarning(f'Recovered figure {image} as {fname}'))\n"
     ]
    },
    {
     "name": "stderr",
     "output_type": "stream",
     "text": [
      "/opt/hostedtoolcache/Python/3.9.23/x64/lib/python3.9/site-packages/arxiv_on_deck_2/latex.py:132: LatexWarning: attempting recovering figure fig/f_icl_sblim_27_30_vs_mvir_singlepanel\n",
      "  warnings.warn(LatexWarning(f'attempting recovering figure {image}'))\n",
      "/opt/hostedtoolcache/Python/3.9.23/x64/lib/python3.9/site-packages/arxiv_on_deck_2/latex.py:137: LatexWarning: Recovered figure fig/f_icl_sblim_27_30_vs_mvir_singlepanel as tmp_2507.02105/./fig/f_icl_sblim_27_30_vs_mvir_singlepanel.pdf\n",
      "  warnings.warn(LatexWarning(f'Recovered figure {image} as {fname}'))\n",
      "/opt/hostedtoolcache/Python/3.9.23/x64/lib/python3.9/site-packages/arxiv_on_deck_2/latex.py:132: LatexWarning: attempting recovering figure fig/f_icl_dev_27_30_vs_mvir_singlepanel\n",
      "  warnings.warn(LatexWarning(f'attempting recovering figure {image}'))\n",
      "/opt/hostedtoolcache/Python/3.9.23/x64/lib/python3.9/site-packages/arxiv_on_deck_2/latex.py:137: LatexWarning: Recovered figure fig/f_icl_dev_27_30_vs_mvir_singlepanel as tmp_2507.02105/./fig/f_icl_dev_27_30_vs_mvir_singlepanel.pdf\n",
      "  warnings.warn(LatexWarning(f'Recovered figure {image} as {fname}'))\n"
     ]
    },
    {
     "name": "stderr",
     "output_type": "stream",
     "text": [
      "/opt/hostedtoolcache/Python/3.9.23/x64/lib/python3.9/site-packages/arxiv_on_deck_2/latex.py:132: LatexWarning: attempting recovering figure fig/f_icl_2rhalf_30_circ_vs_mvir_singlepanel\n",
      "  warnings.warn(LatexWarning(f'attempting recovering figure {image}'))\n",
      "/opt/hostedtoolcache/Python/3.9.23/x64/lib/python3.9/site-packages/arxiv_on_deck_2/latex.py:137: LatexWarning: Recovered figure fig/f_icl_2rhalf_30_circ_vs_mvir_singlepanel as tmp_2507.02105/./fig/f_icl_2rhalf_30_circ_vs_mvir_singlepanel.pdf\n",
      "  warnings.warn(LatexWarning(f'Recovered figure {image} as {fname}'))\n",
      "/opt/hostedtoolcache/Python/3.9.23/x64/lib/python3.9/site-packages/arxiv_on_deck_2/latex.py:132: LatexWarning: attempting recovering figure fig/f_icl_2rhalf_30_ellip_vs_mvir_singlepanel\n",
      "  warnings.warn(LatexWarning(f'attempting recovering figure {image}'))\n",
      "/opt/hostedtoolcache/Python/3.9.23/x64/lib/python3.9/site-packages/arxiv_on_deck_2/latex.py:137: LatexWarning: Recovered figure fig/f_icl_2rhalf_30_ellip_vs_mvir_singlepanel as tmp_2507.02105/./fig/f_icl_2rhalf_30_ellip_vs_mvir_singlepanel.pdf\n",
      "  warnings.warn(LatexWarning(f'Recovered figure {image} as {fname}'))\n"
     ]
    },
    {
     "name": "stderr",
     "output_type": "stream",
     "text": [
      "/opt/hostedtoolcache/Python/3.9.23/x64/lib/python3.9/site-packages/arxiv_on_deck_2/latex.py:132: LatexWarning: attempting recovering figure fig/f_icl_30_kpc_30_vs_mvir_singlepanel\n",
      "  warnings.warn(LatexWarning(f'attempting recovering figure {image}'))\n",
      "/opt/hostedtoolcache/Python/3.9.23/x64/lib/python3.9/site-packages/arxiv_on_deck_2/latex.py:137: LatexWarning: Recovered figure fig/f_icl_30_kpc_30_vs_mvir_singlepanel as tmp_2507.02105/./fig/f_icl_30_kpc_30_vs_mvir_singlepanel.pdf\n",
      "  warnings.warn(LatexWarning(f'Recovered figure {image} as {fname}'))\n",
      "/opt/hostedtoolcache/Python/3.9.23/x64/lib/python3.9/site-packages/arxiv_on_deck_2/latex.py:132: LatexWarning: attempting recovering figure fig/f_icl_50_kpc_30_vs_mvir_singlepanel\n",
      "  warnings.warn(LatexWarning(f'attempting recovering figure {image}'))\n",
      "/opt/hostedtoolcache/Python/3.9.23/x64/lib/python3.9/site-packages/arxiv_on_deck_2/latex.py:137: LatexWarning: Recovered figure fig/f_icl_50_kpc_30_vs_mvir_singlepanel as tmp_2507.02105/./fig/f_icl_50_kpc_30_vs_mvir_singlepanel.pdf\n",
      "  warnings.warn(LatexWarning(f'Recovered figure {image} as {fname}'))\n",
      "/opt/hostedtoolcache/Python/3.9.23/x64/lib/python3.9/site-packages/arxiv_on_deck_2/latex.py:132: LatexWarning: attempting recovering figure fig/f_icl_100_kpc_30_vs_mvir_singlepanel\n",
      "  warnings.warn(LatexWarning(f'attempting recovering figure {image}'))\n",
      "/opt/hostedtoolcache/Python/3.9.23/x64/lib/python3.9/site-packages/arxiv_on_deck_2/latex.py:137: LatexWarning: Recovered figure fig/f_icl_100_kpc_30_vs_mvir_singlepanel as tmp_2507.02105/./fig/f_icl_100_kpc_30_vs_mvir_singlepanel.pdf\n",
      "  warnings.warn(LatexWarning(f'Recovered figure {image} as {fname}'))\n"
     ]
    },
    {
     "name": "stderr",
     "output_type": "stream",
     "text": [
      "/opt/hostedtoolcache/Python/3.9.23/x64/lib/python3.9/site-packages/arxiv_on_deck_2/latex.py:132: LatexWarning: attempting recovering figure fig/barh_plot_f_icl_real_mock_image_plus_subsample_dev_27_multiple_def_5.5_arcsec_1_4_clipping_side\n",
      "  warnings.warn(LatexWarning(f'attempting recovering figure {image}'))\n",
      "/opt/hostedtoolcache/Python/3.9.23/x64/lib/python3.9/site-packages/arxiv_on_deck_2/latex.py:137: LatexWarning: Recovered figure fig/barh_plot_f_icl_real_mock_image_plus_subsample_dev_27_multiple_def_5.5_arcsec_1_4_clipping_side as tmp_2507.02105/./fig/barh_plot_f_icl_real_mock_image_plus_subsample_dev_27_multiple_def_5.5_arcsec_1_4_clipping_side.pdf\n",
      "  warnings.warn(LatexWarning(f'Recovered figure {image} as {fname}'))\n"
     ]
    },
    {
     "name": "stdout",
     "output_type": "stream",
     "text": [
      "Found 82 bibliographic references in tmp_2507.02105/mnras_template.bbl.\n",
      "Retrieving document from  https://arxiv.org/e-print/2507.02355\n"
     ]
    },
    {
     "name": "stdout",
     "output_type": "stream",
     "text": [
      "extracting tarball to tmp_2507.02355..."
     ]
    },
    {
     "name": "stdout",
     "output_type": "stream",
     "text": [
      " done.\n",
      "Retrieving document from  https://arxiv.org/e-print/2507.02558\n"
     ]
    },
    {
     "name": "stderr",
     "output_type": "stream",
     "text": [
      "/opt/hostedtoolcache/Python/3.9.23/x64/lib/python3.9/site-packages/IPython/core/interactiveshell.py:3550: LatexWarning: Multiple tex files.\n",
      "\n",
      "  exec(code_obj, self.user_global_ns, self.user_ns)\n",
      "/opt/hostedtoolcache/Python/3.9.23/x64/lib/python3.9/site-packages/IPython/core/interactiveshell.py:3550: LatexWarning: Found documentclass in tmp_2507.02355/ms.tex\n",
      "\n",
      "  exec(code_obj, self.user_global_ns, self.user_ns)\n",
      "/opt/hostedtoolcache/Python/3.9.23/x64/lib/python3.9/site-packages/arxiv_on_deck_2/latex.py:414: LatexWarning: Latex injecting: 'Table/burst_property' from 'tmp_2507.02355/Table/burst_property.tex'\n",
      "  warnings.warn(LatexWarning(f\"Latex injecting: '{ext}' from '{subsource}'\"))\n"
     ]
    },
    {
     "name": "stdout",
     "output_type": "stream",
     "text": [
      "extracting tarball to tmp_2507.02558... done.\n",
      "Retrieving document from  https://arxiv.org/e-print/2507.02651\n"
     ]
    },
    {
     "name": "stderr",
     "output_type": "stream",
     "text": [
      "/opt/hostedtoolcache/Python/3.9.23/x64/lib/python3.9/site-packages/IPython/core/interactiveshell.py:3550: LatexWarning: Multiple tex files.\n",
      "\n",
      "  exec(code_obj, self.user_global_ns, self.user_ns)\n",
      "/opt/hostedtoolcache/Python/3.9.23/x64/lib/python3.9/site-packages/IPython/core/interactiveshell.py:3550: LatexWarning: Found documentclass in tmp_2507.02558/main.tex\n",
      "\n",
      "  exec(code_obj, self.user_global_ns, self.user_ns)\n",
      "/opt/hostedtoolcache/Python/3.9.23/x64/lib/python3.9/site-packages/arxiv_on_deck_2/latex.py:414: LatexWarning: Latex injecting: 'latex_authorlist_institutions' from 'tmp_2507.02558/latex_authorlist_institutions.tex'\n",
      "  warnings.warn(LatexWarning(f\"Latex injecting: '{ext}' from '{subsource}'\"))\n",
      "/opt/hostedtoolcache/Python/3.9.23/x64/lib/python3.9/site-packages/arxiv_on_deck_2/latex.py:414: LatexWarning: Latex injecting: 'latex_authorlist_authors' from 'tmp_2507.02558/latex_authorlist_authors.tex'\n",
      "  warnings.warn(LatexWarning(f\"Latex injecting: '{ext}' from '{subsource}'\"))\n",
      "/opt/hostedtoolcache/Python/3.9.23/x64/lib/python3.9/site-packages/arxiv_on_deck_2/latex.py:414: LatexWarning: Latex injecting: 'acknowledgments' from 'tmp_2507.02558/acknowledgments.tex'\n",
      "  warnings.warn(LatexWarning(f\"Latex injecting: '{ext}' from '{subsource}'\"))\n"
     ]
    },
    {
     "name": "stdout",
     "output_type": "stream",
     "text": [
      "extracting tarball to tmp_2507.02651..."
     ]
    },
    {
     "name": "stdout",
     "output_type": "stream",
     "text": [
      " done.\n",
      "Retrieving document from  https://arxiv.org/e-print/2507.02806\n"
     ]
    },
    {
     "name": "stdout",
     "output_type": "stream",
     "text": [
      "extracting tarball to tmp_2507.02806..."
     ]
    },
    {
     "name": "stdout",
     "output_type": "stream",
     "text": [
      " done.\n"
     ]
    }
   ],
   "source": [
    "documents = []\n",
    "failed = []\n",
    "for paper in tqdm(candidates):\n",
    "    # debug crap\n",
    "    paper['identifier'] = paper['identifier'].lower().replace('arxiv:', '').replace(r'\\n', '').strip()\n",
    "    paper_id = paper['identifier']\n",
    "    \n",
    "    folder = f'tmp_{paper_id}'\n",
    "\n",
    "    try:\n",
    "        if not os.path.isdir(folder):\n",
    "            folder = retrieve_document_source(f\"{paper_id}\", f'tmp_{paper_id}')\n",
    "        \n",
    "        try:\n",
    "            doc = latex.LatexDocument(folder, validation=validation)    \n",
    "        except AffiliationError as affilerror:\n",
    "            msg = f\"ArXiv:{paper_id:s} is not an MPIA paper... \" + str(affilerror)\n",
    "            failed.append((paper, \"affiliation error: \" + str(affilerror) ))\n",
    "            continue\n",
    "        \n",
    "        # Hack because sometimes author parsing does not work well\n",
    "        if (len(doc.authors) != len(paper['authors'])):\n",
    "            doc._authors = paper['authors']\n",
    "        else:\n",
    "            # highlight authors (FIXME: doc.highlight_authors)\n",
    "            # done on arxiv paper already\n",
    "            doc._authors = highlight_authors_in_list(\n",
    "                [get_initials(k) for k in doc.authors], \n",
    "                mpia_authors, verbose=True)\n",
    "        if (doc.abstract) in (None, ''):\n",
    "            doc._abstract = paper['abstract']\n",
    "            \n",
    "        doc.comment = (get_markdown_badge(paper_id) + \n",
    "                       \"<mark>Appeared on: \" + paper['date'] + \"</mark> - \")\n",
    "        if paper['comments']:\n",
    "            doc.comment += \" _\" + paper['comments'] + \"_\"\n",
    "        \n",
    "        full_md = doc.generate_markdown_text()\n",
    "        \n",
    "        full_md += get_markdown_qrcode(paper_id)\n",
    "        \n",
    "        # replace citations\n",
    "        try:\n",
    "            bibdata = latex_bib.LatexBib.from_doc(doc)\n",
    "            full_md = latex_bib.replace_citations(full_md, bibdata)\n",
    "        except Exception as e:\n",
    "            print(\"Issues with the citations\")\n",
    "            print(e)\n",
    "        \n",
    "        documents.append((paper_id, full_md))\n",
    "    except Exception as e:\n",
    "        warnings.warn(latex.LatexWarning(f\"{paper_id:s} did not run properly\\n\" +\n",
    "                                         str(e)\n",
    "                                        ))\n",
    "        failed.append((paper, \"latex error \" + str(e)))"
   ]
  },
  {
   "cell_type": "markdown",
   "id": "2505a25c",
   "metadata": {
    "papermill": {
     "duration": 0.004266,
     "end_time": "2025-07-07T04:26:28.794524",
     "exception": false,
     "start_time": "2025-07-07T04:26:28.790258",
     "status": "completed"
    },
    "tags": []
   },
   "source": [
    "### Export the logs\n",
    "\n",
    "Throughout, we also keep track of the logs per paper. see `logs-{today date}.md` "
   ]
  },
  {
   "cell_type": "code",
   "execution_count": 6,
   "id": "d733828a",
   "metadata": {
    "execution": {
     "iopub.execute_input": "2025-07-07T04:26:28.804445Z",
     "iopub.status.busy": "2025-07-07T04:26:28.803962Z",
     "iopub.status.idle": "2025-07-07T04:26:28.858618Z",
     "shell.execute_reply": "2025-07-07T04:26:28.858084Z"
    },
    "papermill": {
     "duration": 0.060858,
     "end_time": "2025-07-07T04:26:28.859620",
     "exception": false,
     "start_time": "2025-07-07T04:26:28.798762",
     "status": "completed"
    },
    "scrolled": false,
    "tags": []
   },
   "outputs": [
    {
     "data": {
      "text/markdown": [
       "## Successful papers"
      ],
      "text/plain": [
       "<IPython.core.display.Markdown object>"
      ]
     },
     "metadata": {},
     "output_type": "display_data"
    },
    {
     "data": {
      "text/markdown": [
       "\n",
       "|||\n",
       "|---:|:---|\n",
       "| [![arXiv](https://img.shields.io/badge/arXiv-2507.02105-b31b1b.svg)](https://arxiv.org/abs/2507.02105) | **Photometric analysis of the intracluster light in the TNG300 simulation and wide-field observations**  |\n",
       "|| D. Montenegro-Taborda, et al. -- incl., <mark>A. Pillepich</mark> |\n",
       "|*Appeared on*| *2025-07-07*|\n",
       "|*Comments*| *Accepted for publication in MNRAS (submitted April 8, 2025)*|\n",
       "|**Abstract**|            We present a robust, apples-to-apples comparison between the photometric properties of the intracluster light (ICL) in the TNG300 magnetohydrodynamic cosmological simulation and those in Wendelstein Wide Field Imager (WWFI) observations. This is accomplished by generating synthetic $g'$-band images of 40 massive ($\\log\\left(M_{\\rm 200, crit}/{\\rm M}_{\\odot}\\right) > 14.5$) TNG300 clusters at $z \\approx 0.06$, closely mimicking WWFI observations, and then performing identical photometric calculations on the synthetic and real images. Importantly, we apply the same observationally motivated satellite-masking procedure to both data-sets, which effectively removes any possible biases introduced by the halo finder. We first analyze the light distribution of the `smooth' stellar component of each cluster, composed of the brightest cluster galaxy (BCG) plus the ICL, and find that it tends to be about twice as extended in TNG300 than in observations, while also being approximately 1 $g'$ mag arcsec$^{-2}$ brighter. We then quantify $f_{\\rm ICL}$, the ICL fraction relative to the BCG+ICL, by considering several ICL definitions: (i) the light dimmer than a surface brightness cut at 27 $g'$ mag arcsec$^{-2}$, (ii) the excess light over a de Vaucouleurs profile, (iii) the light beyond twice the half-light radius ($2 r_{\\rm half}$), and (iv) the light beyond a fixed circular aperture of 30, 50, or 100 kpc. For most definitions, the median $f_{\\rm ICL}$ is consistent between simulation and observations. However, the observations exhibit larger scatter in $f_{\\rm ICL}$, which we attribute primarily to observational uncertainties in the total BCG+ICL luminosity rather than `true' cluster-to-cluster variation in the real Universe. We also find that most methods yield median $f_{\\rm ICL}$ values near 0.3, which is consistent with a BCG/ICL transition radius around $2 r_{\\rm half}$.         |"
      ],
      "text/plain": [
       "[2507.02105] Photometric analysis of the intracluster light in the TNG300 simulation and wide-field observations\n",
       "\tD. Montenegro-Taborda, et al. -- incl., <mark>A. Pillepich</mark>"
      ]
     },
     "metadata": {},
     "output_type": "display_data"
    },
    {
     "data": {
      "text/markdown": [
       "## Failed papers"
      ],
      "text/plain": [
       "<IPython.core.display.Markdown object>"
      ]
     },
     "metadata": {},
     "output_type": "display_data"
    },
    {
     "data": {
      "text/markdown": [
       "\n",
       "|||\n",
       "|---:|:---|\n",
       "| [![arXiv](https://img.shields.io/badge/arXiv-2507.02355-b31b1b.svg)](https://arxiv.org/abs/2507.02355) | **Multi-year Polarimetric Monitoring of Four CHIME-Discovered Repeating Fast Radio Bursts with FAST**  |\n",
       "|| Y. Feng, et al. -- incl., <mark>K. Lee</mark> |\n",
       "|*Appeared on*| *2025-07-07*|\n",
       "|*Comments*| *17 pages, 5 figures,accepted by SCIENCE CHINA*|\n",
       "|**Abstract**|            In this study, we report multi-year polarization measurements of four repeating FRBs initially discovered by CHIME: FRBs~20190117A, 20190208A, 20190303A, and 20190417A. We observed the four repeating FRBs with FAST, detecting a total of 66 bursts. Two bursts from FRB~20190417A exhibit a circular polarization signal-to-noise ratio greater than 7, with the highest circular polarization fraction recorded at 35.7%. While the bursts from FRBs 20190208A and 20190303A are highly linearly polarized, those from FRBs~20190117A and 20190417A show depolarization due to multi-path propagation, with \\sigma_{\\mathrm{RM}} = 2.78 \\pm 0.05 rad m$^{-2}$ and 5.19 \\pm 0.09 rad m$^{-2}$, respectively. The linear polarization distributions among five repeating FRB--FRBs~20190208A, 20190303A, 20201124A, 20220912A, and 20240114A--are nearly identical but show distinct differences from those of non-repeating FRBs. FRBs~20190117A, 20190303A, and 20190417A exhibit substantial rotation measure (RM) variations between bursts, joining other repeating FRBs in this behavior. Combining these findings with published results, 64% of repeating FRBs show RM variations greater than 50 rad m$^{-2}$, and 21\\% exhibit RM reversals. A significant proportion of repeating FRBs reside in a dynamic magneto-ionic environment. The structure function of RM variations shows a power-law index of $\\gamma \\sim (0-0.8)$, corresponding to a shallow power spectrum $\\alpha = -(\\gamma + 2) \\sim -(2.0-2.8)$ of turbulence, if the RM variations are attributed to turbulence. This suggests that the variations are dominated by small-scale RM density fluctuations. We perform K-S tests comparing the RMs of repeating and non-repeating FRBs, which reveal a marginal dichotomy in the distribution of their this http URL caution that the observed dichotomy may be due to the small sample size and selection biases.         |\n",
       "|<p style=\"color:green\"> **ERROR** </p>| <p style=\"color:green\">affiliation error: mpia.affiliation_verifications: 'Heidelberg' keyword not found.</p> |"
      ],
      "text/plain": [
       "<IPython.core.display.Markdown object>"
      ]
     },
     "metadata": {},
     "output_type": "display_data"
    },
    {
     "data": {
      "text/markdown": [
       "\n",
       "|||\n",
       "|---:|:---|\n",
       "| [![arXiv](https://img.shields.io/badge/arXiv-2507.02558-b31b1b.svg)](https://arxiv.org/abs/2507.02558) | **Measuring the muon content of inclined air showers using AERA and the water-Cherenkov detectors of the Pierre Auger Observatory**  |\n",
       "|| P. A. Collaboration, et al. |\n",
       "|*Appeared on*| *2025-07-07*|\n",
       "|*Comments*| *10 pages, 6 figures*|\n",
       "|**Abstract**|            We present a novel approach for assessing the muon content of air showers with large zenith angles on a combined analysis of their radio emission and particle footprint. We use the radiation energy reconstructed by the Auger Engineering Radio Array (AERA) as an energy estimator and determine the muon number independently with the water-Cherenkov detector array of the Pierre Auger Observatory, deployed on a 1500 m grid. We focus our analysis on air showers with primary energy above 4 EeV to ensure full detection efficiency. Over approximately ten years of accumulated data, we identify a set of 40 high-quality events that are used in the analysis. The estimated muon contents in data are compatible with those for iron primaries as predicted by current-generation hadronic interaction models. This result can be interpreted as a deficit of muons in simulations as a lighter mass composition has been established from Xmax measurements. This muon deficit was already observed in previous analyses of the Auger Collaboration and is confirmed using hybrid events that include radio measurements for the first time.         |\n",
       "|<p style=\"color:green\"> **ERROR** </p>| <p style=\"color:green\">affiliation error: mpia.affiliation_verifications: 'Heidelberg' keyword not found.</p> |"
      ],
      "text/plain": [
       "<IPython.core.display.Markdown object>"
      ]
     },
     "metadata": {},
     "output_type": "display_data"
    },
    {
     "data": {
      "text/markdown": [
       "\n",
       "|||\n",
       "|---:|:---|\n",
       "| [![arXiv](https://img.shields.io/badge/arXiv-2507.02651-b31b1b.svg)](https://arxiv.org/abs/2507.02651) | **Prospects for probing dark matter particles and primordial black holes with the Square Kilometre Array using the 21 cm power spectrum at cosmic dawn**  |\n",
       "|| M.-L. Zhao, Y. Shao, S. Wang, <mark>X. Zhang</mark> |\n",
       "|*Appeared on*| *2025-07-07*|\n",
       "|*Comments*| *26 pages, 11 figures*|\n",
       "|**Abstract**|            Probing the nature of dark matter (DM) remains an outstanding problem in modern cosmology. The 21 cm signal, as a sensitive tracer of neutral hydrogen during cosmic dawn, provides a unique means to investigate DM nature during this critical epoch. Annihilation and decay of DM particles, as well as Hawking radiation of primordial black holes (PBHs), can modify the thermal and ionization histories of the early universe, leaving distinctive imprints on the 21 cm power spectrum. Therefore, the redshifted 21 cm power spectrum serves as a powerful tool to investigate such DM processes. In this work, we systematically assess the potential of the upcoming Square Kilometre Array (SKA) to constrain DM and PBH parameters using the 21 cm power spectrum. Assuming $10,000$ hours of integration time, the SKA is projected to reach sensitivities of $\\langle\\sigma v\\rangle \\leq 10^{-28}\\,{\\rm cm}^{3}\\,{\\rm s}^{-1}$ and $\\tau\\geq 10^{28}\\,{\\rm seconds}$, for $10\\,{\\rm GeV}$ DM particles. It can also probe PBHs with masses of $10^{16}\\,\\mathrm{g}$ and abundances $f_{\\mathrm{PBH}} \\leq 10^{-6}$. These results indicate that the SKA could place constraints on DM annihilation, decay, and PBH Hawking radiation that are up to two to three orders of magnitude stronger than current limits. Furthermore, the SKA is expected to exceed existing bounds on sub-GeV DM and to probe Hawking radiation from PBHs with masses above $10^{17}\\,{\\rm g}$, which are otherwise inaccessible by conventional cosmological probes. Overall, the SKA holds great promise for advancing our understanding of both DM particles and PBHs, potentially offering new insights into the fundamental nature of DM.         |\n",
       "|<p style=\"color:green\"> **ERROR** </p>| <p style=\"color:green\">affiliation error: mpia.affiliation_verifications: 'Heidelberg' keyword not found.</p> |"
      ],
      "text/plain": [
       "<IPython.core.display.Markdown object>"
      ]
     },
     "metadata": {},
     "output_type": "display_data"
    },
    {
     "data": {
      "text/markdown": [
       "\n",
       "|||\n",
       "|---:|:---|\n",
       "| [![arXiv](https://img.shields.io/badge/arXiv-2507.02806-b31b1b.svg)](https://arxiv.org/abs/2507.02806) | **GRB 240825A: Early Reverse Shock and Its Physical Implications**  |\n",
       "|| C. Wu, et al. -- incl., <mark>Y. Wang</mark> |\n",
       "|*Appeared on*| *2025-07-07*|\n",
       "|*Comments*| *31 pages, 9 Figures, 10 Tables*|\n",
       "|**Abstract**|            Early multi-wavelength observations offer crucial insights into the nature of the relativistic jets responsible for gamma-ray bursts and their interaction with the surrounding this http URL present data of GRB 240825A from 17 space- and ground-based telescopes/instruments, covering wavelengths from NIR/optical to X-ray and GeV, and spanning from the prompt emission to the afterglow phase triggered by Swift and Fermi. The early afterglow observations were carried out by SVOM/C-GFT, and spectroscopic observations of the afterglow by GTC, VLT, and TNG determined the redshift of the burst ($z = 0.659$) later.A comprehensive analysis of the prompt emission spectrum observed by Swift-BAT and Fermi-GBM/LAT reveals a rare and significant high-energy cutoff at ~76 MeV. Assuming this cutoff is due to $\\gamma\\gamma$ absorption allows us to place an upper limit on the initial Lorentz factor, $\\Gamma_0 < 245$. The optical/NIR and GeV afterglow light curves be described by the standard external shock model, with early-time emission dominated by a reverse shock (RS) and a subsequent transition to forward shock (FS) emission. Our afterglow modelling yields a consistent estimate of the initial Lorentz factor ($\\Gamma_{\\rm 0} \\sim 234$). Furthermore, the RS-to-FS magnetic field ratio ($\\mathcal{R}_B \\sim 302$) indicates that the reverse shock region is significantly more magnetized than the FS region. An isotropic-equivalent kinetic energy of $E_{\\text{k,iso}} = 5.25 \\times 10^{54}$ erg is derived, and the corresponding $\\gamma$-ray radiation efficiency is estimated to be $\\eta_{\\gamma}$ = 3.1%. On the other hand, the standard afterglow model can not reproduce the X-ray light curve of GRB 240825A, calling for improved models to characterize all multi-wavelength data.         |\n",
       "|<p style=\"color:green\"> **ERROR** </p>| <p style=\"color:green\">affiliation error: mpia.affiliation_verifications: 'Heidelberg' keyword not found.</p> |"
      ],
      "text/plain": [
       "<IPython.core.display.Markdown object>"
      ]
     },
     "metadata": {},
     "output_type": "display_data"
    }
   ],
   "source": [
    "import datetime\n",
    "today = str(datetime.date.today())\n",
    "logfile = f\"_build/html/logs/log-{today}.md\"\n",
    "\n",
    "\n",
    "with open(logfile, 'w') as logs:\n",
    "    # Success\n",
    "    logs.write(f'# Arxiv on Deck 2: Logs - {today}\\n\\n')\n",
    "    logs.write(\"\"\"* Arxiv had {0:,d} new papers\\n\"\"\".format(len(new_papers)))\n",
    "    logs.write(\"\"\"    * {0:,d} with possible author matches\\n\\n\"\"\".format(len(candidates)))\n",
    "    logs.write(\"## Sucessful papers\\n\\n\")\n",
    "    display(Markdown(\"## Successful papers\"))\n",
    "    success = [k[0] for k in documents]\n",
    "    for candid in candidates:\n",
    "        if candid['identifier'].split(':')[-1] in success:\n",
    "            display(candid)\n",
    "            logs.write(candid.generate_markdown_text() + '\\n\\n')\n",
    "\n",
    "    ## failed\n",
    "    logs.write(\"## Failed papers\\n\\n\")\n",
    "    display(Markdown(\"## Failed papers\"))\n",
    "    failed = sorted(failed, key=lambda x: x[1])\n",
    "    current_reason = \"\"\n",
    "    for paper, reason in failed:\n",
    "        if 'affiliation' in reason:\n",
    "            color = 'green'\n",
    "        else:\n",
    "            color = 'red'\n",
    "        data = Markdown(\n",
    "                paper.generate_markdown_text() + \n",
    "                f'\\n|<p style=\"color:{color:s}\"> **ERROR** </p>| <p style=\"color:{color:s}\">{reason:s}</p> |'\n",
    "               )\n",
    "        if reason != current_reason:\n",
    "            logs.write(f'### {reason:s} \\n\\n')\n",
    "            current_reason = reason\n",
    "        logs.write(data.data + '\\n\\n')\n",
    "        \n",
    "        # only display here the important errors (all in logs)\n",
    "        # if color in ('red',):\n",
    "        display(data)"
   ]
  },
  {
   "cell_type": "markdown",
   "id": "472d20ee",
   "metadata": {
    "papermill": {
     "duration": 0.005489,
     "end_time": "2025-07-07T04:26:28.870339",
     "exception": false,
     "start_time": "2025-07-07T04:26:28.864850",
     "status": "completed"
    },
    "tags": []
   },
   "source": [
    "## Export documents\n",
    "\n",
    "We now write the .md files and export relevant images"
   ]
  },
  {
   "cell_type": "code",
   "execution_count": 7,
   "id": "d426aed9",
   "metadata": {
    "execution": {
     "iopub.execute_input": "2025-07-07T04:26:28.881549Z",
     "iopub.status.busy": "2025-07-07T04:26:28.881104Z",
     "iopub.status.idle": "2025-07-07T04:26:28.888340Z",
     "shell.execute_reply": "2025-07-07T04:26:28.887767Z"
    },
    "papermill": {
     "duration": 0.013979,
     "end_time": "2025-07-07T04:26:28.889325",
     "exception": false,
     "start_time": "2025-07-07T04:26:28.875346",
     "status": "completed"
    },
    "tags": []
   },
   "outputs": [],
   "source": [
    "def export_markdown_summary(md: str, md_fname:str, directory: str):\n",
    "    \"\"\"Export MD document and associated relevant images\"\"\"\n",
    "    import os\n",
    "    import shutil\n",
    "    import re\n",
    "\n",
    "    if (os.path.exists(directory) and not os.path.isdir(directory)):\n",
    "        raise RuntimeError(f\"a non-directory file exists with name {directory:s}\")\n",
    "\n",
    "    if (not os.path.exists(directory)):\n",
    "        print(f\"creating directory {directory:s}\")\n",
    "        os.mkdir(directory)\n",
    "\n",
    "    fig_fnames = (re.compile(r'\\[Fig.*\\]\\((.*)\\)').findall(md) + \n",
    "                  re.compile(r'\\<img src=\"([^>\\s]*)\"[^>]*/>').findall(md))\n",
    "    print(\"found figures\", fig_fnames)\n",
    "    for fname in fig_fnames:\n",
    "        if 'http' in fname:\n",
    "            # No need to copy online figures\n",
    "            continue\n",
    "        if not os.path.exists(fname):\n",
    "            print(\"file not found\", fname)\n",
    "            continue\n",
    "        print(\"copying \", fname, \"to\", directory)\n",
    "        destdir = os.path.join(directory, os.path.dirname(fname))\n",
    "        destfname = os.path.join(destdir, os.path.basename(fname))\n",
    "        try:\n",
    "            os.makedirs(destdir)\n",
    "        except FileExistsError:\n",
    "            pass\n",
    "        shutil.copy(fname, destfname)\n",
    "    with open(os.path.join(directory, md_fname), 'w') as fout:\n",
    "        fout.write(md)\n",
    "    print(\"exported in \", os.path.join(directory, md_fname))\n",
    "    [print(\"    + \" + os.path.join(directory,fk)) for fk in fig_fnames]"
   ]
  },
  {
   "cell_type": "code",
   "execution_count": 8,
   "id": "014d04a4",
   "metadata": {
    "execution": {
     "iopub.execute_input": "2025-07-07T04:26:28.900522Z",
     "iopub.status.busy": "2025-07-07T04:26:28.900136Z",
     "iopub.status.idle": "2025-07-07T04:26:28.906481Z",
     "shell.execute_reply": "2025-07-07T04:26:28.905962Z"
    },
    "papermill": {
     "duration": 0.012963,
     "end_time": "2025-07-07T04:26:28.907447",
     "exception": false,
     "start_time": "2025-07-07T04:26:28.894484",
     "status": "completed"
    },
    "tags": []
   },
   "outputs": [
    {
     "name": "stdout",
     "output_type": "stream",
     "text": [
      "found figures ['tmp_2507.02105/./fig/compare_all_subsample_sb_profiles_circ_kpc.png', 'tmp_2507.02105/./fig/compare_all_subsample_sb_profiles_ellip_kpc.png', 'tmp_2507.02105/./fig/f_icl_sblim_27_30_vs_mvir_singlepanel.png', 'tmp_2507.02105/./fig/f_icl_dev_27_30_vs_mvir_singlepanel.png', 'tmp_2507.02105/./fig/barh_plot_f_icl_real_mock_image_plus_subsample_dev_27_multiple_def_5.5_arcsec_1_4_clipping_side.png']\n",
      "copying  tmp_2507.02105/./fig/compare_all_subsample_sb_profiles_circ_kpc.png to _build/html/\n",
      "copying  tmp_2507.02105/./fig/compare_all_subsample_sb_profiles_ellip_kpc.png to _build/html/\n",
      "copying  tmp_2507.02105/./fig/f_icl_sblim_27_30_vs_mvir_singlepanel.png to _build/html/\n",
      "copying  tmp_2507.02105/./fig/f_icl_dev_27_30_vs_mvir_singlepanel.png to _build/html/\n",
      "copying  tmp_2507.02105/./fig/barh_plot_f_icl_real_mock_image_plus_subsample_dev_27_multiple_def_5.5_arcsec_1_4_clipping_side.png to _build/html/\n",
      "exported in  _build/html/2507.02105.md\n",
      "    + _build/html/tmp_2507.02105/./fig/compare_all_subsample_sb_profiles_circ_kpc.png\n",
      "    + _build/html/tmp_2507.02105/./fig/compare_all_subsample_sb_profiles_ellip_kpc.png\n",
      "    + _build/html/tmp_2507.02105/./fig/f_icl_sblim_27_30_vs_mvir_singlepanel.png\n",
      "    + _build/html/tmp_2507.02105/./fig/f_icl_dev_27_30_vs_mvir_singlepanel.png\n",
      "    + _build/html/tmp_2507.02105/./fig/barh_plot_f_icl_real_mock_image_plus_subsample_dev_27_multiple_def_5.5_arcsec_1_4_clipping_side.png\n"
     ]
    }
   ],
   "source": [
    "for paper_id, md in documents:\n",
    "    export_markdown_summary(md, f\"{paper_id:s}.md\", '_build/html/')"
   ]
  },
  {
   "cell_type": "markdown",
   "id": "f087a0a7",
   "metadata": {
    "papermill": {
     "duration": 0.005032,
     "end_time": "2025-07-07T04:26:28.917658",
     "exception": false,
     "start_time": "2025-07-07T04:26:28.912626",
     "status": "completed"
    },
    "tags": []
   },
   "source": [
    "## Display the papers\n",
    "\n",
    "Not necessary but allows for a quick check."
   ]
  },
  {
   "cell_type": "code",
   "execution_count": 9,
   "id": "fd25f625",
   "metadata": {
    "execution": {
     "iopub.execute_input": "2025-07-07T04:26:28.928844Z",
     "iopub.status.busy": "2025-07-07T04:26:28.928445Z",
     "iopub.status.idle": "2025-07-07T04:26:28.933039Z",
     "shell.execute_reply": "2025-07-07T04:26:28.932493Z"
    },
    "papermill": {
     "duration": 0.011417,
     "end_time": "2025-07-07T04:26:28.934105",
     "exception": false,
     "start_time": "2025-07-07T04:26:28.922688",
     "status": "completed"
    },
    "scrolled": false,
    "tags": []
   },
   "outputs": [
    {
     "data": {
      "text/markdown": [
       "<div class=\"macros\" style=\"visibility:hidden;\">\n",
       "$\\newcommand{\\ensuremath}{}$\n",
       "$\\newcommand{\\xspace}{}$\n",
       "$\\newcommand{\\object}[1]{\\texttt{#1}}$\n",
       "$\\newcommand{\\farcs}{{.}''}$\n",
       "$\\newcommand{\\farcm}{{.}'}$\n",
       "$\\newcommand{\\arcsec}{''}$\n",
       "$\\newcommand{\\arcmin}{'}$\n",
       "$\\newcommand{\\ion}[2]{#1#2}$\n",
       "$\\newcommand{\\textsc}[1]{\\textrm{#1}}$\n",
       "$\\newcommand{\\hl}[1]{\\textrm{#1}}$\n",
       "$\\newcommand{\\footnote}[1]{}$\n",
       "$\\newcommand{\\Msun}{{\\rm M}_{\\odot}}$\n",
       "$\\newcommand{\\Mtwo}{M_{\\rm 200}}$\n",
       "$\\newcommand{\\Mfive}{M_{\\rm 500}}$\n",
       "$\\newcommand{\\Rtwo}{R_{\\rm 200}}$\n",
       "$\\newcommand{\\Rfive}{R_{\\rm 500}}$\n",
       "$\\newcommand{\\facc}{f_{\\rm acc}}$\n",
       "$\\newcommand{\\fex}{f_{\\rm ex}}$\n",
       "$\\newcommand{\\krot}{\\kappa_{\\rm rot}}$\n",
       "$\\newcommand{\\thebibliography}{\\DeclareRobustCommand{\\VAN}[3]{##3}\\VANthebibliography}$</div>\n",
       "\n",
       "\n",
       "\n",
       "<div id=\"title\">\n",
       "\n",
       "# Photometric analysis of the intracluster light in the TNG300 simulation and wide-field observations\n",
       "\n",
       "</div>\n",
       "<div id=\"comments\">\n",
       "\n",
       "[![arXiv](https://img.shields.io/badge/arXiv-2507.02105-b31b1b.svg)](https://arxiv.org/abs/2507.02105)<mark>Appeared on: 2025-07-07</mark> -  _Accepted for publication in MNRAS (submitted April 8, 2025)_\n",
       "\n",
       "</div>\n",
       "<div id=\"authors\">\n",
       "\n",
       "D. Montenegro-Taborda, et al. -- incl., <mark>A. Pillepich</mark>\n",
       "\n",
       "</div>\n",
       "<div id=\"abstract\">\n",
       "\n",
       "**Abstract:** We present a robust, apples-to-apples comparison between the photometric properties of the intracluster light (ICL) in the TNG300 magnetohydrodynamic cosmological simulation and those in Wendelstein Wide Field Imager (WWFI) observations. This is accomplished by generating synthetic $g'$ -band images of 40 massive ( $\\log\\left(M_{\\rm 200, crit}/{\\rm M}_{\\odot}\\right) > 14.5$ ) TNG300 clusters at $z \\approx 0.06$ , closely mimicking WWFI observations, and then performing identical photometric calculations on the synthetic and real images. Importantly, we apply the same observationally motivated satellite-masking procedure to both data-sets, which effectively removes any possible biases introduced by the halo finder. We first analyze the light distribution of the `smooth' stellar component of each cluster, composed of the brightest cluster galaxy (BCG) plus the ICL, and find that it tends to be about twice as extended in TNG300 than in observations, while also being approximately 1 $g'$ mag arcsec $^{-2}$ brighter. We then quantify $f_{\\rm ICL}$ , the ICL fraction relative to the BCG+ICL, by considering several ICL definitions: (i) the light dimmer than a surface brightness cut at 27 $g'$ mag arcsec $^{-2}$ , (ii) the excess light over a de Vaucouleurs profile, (iii) the light beyond twice the half-light radius ( $2 r_{\\rm half}$ ), and (iv) the light beyond a fixed circular aperture of 30, 50, or 100 kpc. For most definitions, the median $f_{\\rm ICL}$ is consistent between simulation and observations. However, the observations exhibit larger scatter in $f_{\\rm ICL}$ , which we attribute primarily to observational uncertainties in the total BCG+ICL luminosity rather than `true' cluster-to-cluster variation in the real Universe. We also find that most methods yield median $f_{\\rm ICL}$ values near 0.3, which is consistent with a BCG/ICL transition radius around $2 r_{\\rm half}$ .\n",
       "\n",
       "</div>\n",
       "\n",
       "<div id=\"div_fig1\">\n",
       "\n",
       "<img src=\"tmp_2507.02105/./fig/compare_all_subsample_sb_profiles_circ_kpc.png\" alt=\"Fig7.1\" width=\"50%\"/><img src=\"tmp_2507.02105/./fig/compare_all_subsample_sb_profiles_ellip_kpc.png\" alt=\"Fig7.2\" width=\"50%\"/>\n",
       "\n",
       "**Figure 7. -** Median surface brightness (SB) profiles of the simulated (red) and observed (black and blue) BCG+ICL systems, shown both for circular (left) and elliptical (right) apertures. In the case of the observations, the main (consisting of the 38 observed clusters with mass estimates) and full (including all 170 observed clusters) samples are represented by the solid black and dashed blue lines, respectively. The red and black shaded regions represent the 16th to 84th percentile ranges of the TNG300 and WWFI (main sample) profiles, respectively.  The blue shaded region to the left indicates the resolution limit of the simulation, here defined as $4 \\epsilon_{\\ast} \\approx 5.9$ kpc. All SB values are in the observer's frame. (*fig:profiles_comparison*)\n",
       "\n",
       "</div>\n",
       "<div id=\"div_fig2\">\n",
       "\n",
       "<img src=\"tmp_2507.02105/./fig/f_icl_sblim_27_30_vs_mvir_singlepanel.png\" alt=\"Fig11.1\" width=\"50%\"/><img src=\"tmp_2507.02105/./fig/f_icl_dev_27_30_vs_mvir_singlepanel.png\" alt=\"Fig11.2\" width=\"50%\"/>\n",
       "\n",
       "**Figure 11. -** The ICL fraction that results from defining the ICL as the light with SB dimmer than 27 $g'$ mag arcsec$^{-2}$(left) and as the excess of light with respect to an outwardly extrapolated 2D de Vaucouleurs profile fitted to the inner region brighter than 27 $g'$ mag arcsec$^{-2}$(right), plotted against cluster mass. Red and black dots represent the simulation and observations, respectively, while the solid lines and shaded regions indicate the corresponding medians and 16th--84th percentile ranges. As before, the main measurements (dots, solid lines, and shaded regions) represent the corrected, `SB-limited' measurements (see Section \\ref{subsec:undetected_light}) obtained for the `sigma-clipped' images (see Section \\ref{subsec:background_subtraction}), while the dashed red line shows the median $f_{\\rm ICL}$ obtained by performing `full' measurements on the `raw' synthetic images. Only observed clusters with gravitational mass estimates (38 out of 170) are shown. (*fig:f_icl_sblim_27_and_dev*)\n",
       "\n",
       "</div>\n",
       "<div id=\"div_fig3\">\n",
       "\n",
       "<img src=\"tmp_2507.02105/./fig/barh_plot_f_icl_real_mock_image_plus_subsample_dev_27_multiple_def_5.5_arcsec_1_4_clipping_side.png\" alt=\"Fig14\" width=\"100%\"/>\n",
       "\n",
       "**Figure 14. -** ICL fraction distributions for the various methods presented in Sections \\ref{subsec:f_icl_sb27}--\\ref{subsec:f_icl_fixed_kpc}. The black and red bars correspond to the observational (main WWFI sample, composed of 38 clusters) and simulated (TNG300, 40 clusters) cluster populations, respectively. The dashed blue lines show the distributions for the full WWFI sample, i.e. including all 170 observed clusters. The arrows indicate the medians of the distributions. (*fig:f_icl_barchart*)\n",
       "\n",
       "</div><div id=\"qrcode\"><img src=https://api.qrserver.com/v1/create-qr-code/?size=100x100&data=\"https://arxiv.org/abs/2507.02105\"></div>"
      ],
      "text/plain": [
       "<IPython.core.display.Markdown object>"
      ]
     },
     "metadata": {},
     "output_type": "display_data"
    }
   ],
   "source": [
    "[display(Markdown(k[1])) for k in documents];"
   ]
  },
  {
   "cell_type": "markdown",
   "id": "873873a4",
   "metadata": {
    "papermill": {
     "duration": 0.005187,
     "end_time": "2025-07-07T04:26:28.944699",
     "exception": false,
     "start_time": "2025-07-07T04:26:28.939512",
     "status": "completed"
    },
    "tags": []
   },
   "source": [
    "# Create HTML index"
   ]
  },
  {
   "cell_type": "code",
   "execution_count": 10,
   "id": "cf665672",
   "metadata": {
    "execution": {
     "iopub.execute_input": "2025-07-07T04:26:28.956347Z",
     "iopub.status.busy": "2025-07-07T04:26:28.955947Z",
     "iopub.status.idle": "2025-07-07T04:26:28.963680Z",
     "shell.execute_reply": "2025-07-07T04:26:28.963130Z"
    },
    "papermill": {
     "duration": 0.014645,
     "end_time": "2025-07-07T04:26:28.964648",
     "exception": false,
     "start_time": "2025-07-07T04:26:28.950003",
     "status": "completed"
    },
    "tags": []
   },
   "outputs": [
    {
     "name": "stdout",
     "output_type": "stream",
     "text": [
      "133  publications files modified in the last 7 days.\n"
     ]
    }
   ],
   "source": [
    "from datetime import datetime, timedelta, timezone\n",
    "from glob import glob\n",
    "import os\n",
    "\n",
    "files = glob('_build/html/*.md')\n",
    "days = 7\n",
    "now = datetime.today()\n",
    "res = []\n",
    "for fk in files:\n",
    "    stat_result = os.stat(fk).st_ctime\n",
    "    modified = datetime.fromtimestamp(stat_result, tz=timezone.utc).replace(tzinfo=None)\n",
    "    delta = now.today() - modified\n",
    "    if delta <= timedelta(days=days):\n",
    "        res.append((delta.seconds, fk))\n",
    "res = [k[1] for k in reversed(sorted(res, key=lambda x:x[1]))]\n",
    "npub = len(res)\n",
    "print(len(res), f\" publications files modified in the last {days:d} days.\")\n",
    "# [ print('\\t', k) for k in res ];"
   ]
  },
  {
   "cell_type": "code",
   "execution_count": 11,
   "id": "015de740",
   "metadata": {
    "execution": {
     "iopub.execute_input": "2025-07-07T04:26:28.976482Z",
     "iopub.status.busy": "2025-07-07T04:26:28.976054Z",
     "iopub.status.idle": "2025-07-07T04:26:28.988454Z",
     "shell.execute_reply": "2025-07-07T04:26:28.987914Z"
    },
    "papermill": {
     "duration": 0.019399,
     "end_time": "2025-07-07T04:26:28.989474",
     "exception": false,
     "start_time": "2025-07-07T04:26:28.970075",
     "status": "completed"
    },
    "tags": []
   },
   "outputs": [
    {
     "name": "stdout",
     "output_type": "stream",
     "text": [
      "11  publications in the last 7 days.\n"
     ]
    }
   ],
   "source": [
    "import datetime\n",
    "from glob import glob\n",
    "\n",
    "def get_last_n_days(lst, days=1):\n",
    "    \"\"\" Get the documents from the last n days \"\"\"\n",
    "    sorted_lst = sorted(lst, key=lambda x: x[1], reverse=True)\n",
    "    for fname, date in sorted_lst:\n",
    "        if date >= str(datetime.date.today() - datetime.timedelta(days=days)):\n",
    "            yield fname\n",
    "\n",
    "def extract_appearance_dates(lst_file):\n",
    "    dates = []\n",
    "\n",
    "    def get_date(line):\n",
    "        return line\\\n",
    "            .split('Appeared on:')[-1]\\\n",
    "            .split('</mark>')[0].strip()\n",
    "\n",
    "    for fname in lst:\n",
    "        with open(fname, 'r') as f:\n",
    "            found_date = False\n",
    "            for line in f:\n",
    "                if not found_date:\n",
    "                    if \"Appeared on\" in line:\n",
    "                        found_date = True\n",
    "                        dates.append((fname, get_date(line)))\n",
    "                else:\n",
    "                    break\n",
    "    return dates\n",
    "\n",
    "from glob import glob\n",
    "lst = glob('_build/html/*md')\n",
    "days = 7\n",
    "dates = extract_appearance_dates(lst)\n",
    "res = list(get_last_n_days(dates, days))\n",
    "npub = len(res)\n",
    "print(len(res), f\" publications in the last {days:d} days.\")"
   ]
  },
  {
   "cell_type": "code",
   "execution_count": 12,
   "id": "52ca0208",
   "metadata": {
    "execution": {
     "iopub.execute_input": "2025-07-07T04:26:29.001716Z",
     "iopub.status.busy": "2025-07-07T04:26:29.001517Z",
     "iopub.status.idle": "2025-07-07T04:26:29.006423Z",
     "shell.execute_reply": "2025-07-07T04:26:29.005903Z"
    },
    "papermill": {
     "duration": 0.012206,
     "end_time": "2025-07-07T04:26:29.007446",
     "exception": false,
     "start_time": "2025-07-07T04:26:28.995240",
     "status": "completed"
    },
    "scrolled": false,
    "tags": []
   },
   "outputs": [],
   "source": [
    "def create_carousel(npub=4):\n",
    "    \"\"\" Generate the HTML code for a carousel with `npub` slides \"\"\"\n",
    "    carousel = [\"\"\"  <div class=\"carousel\" \"\"\",\n",
    "                \"\"\"       data-flickity='{ \"autoPlay\": 10000, \"adaptiveHeight\": true, \"resize\": true, \"wrapAround\": true, \"pauseAutoPlayOnHover\": true, \"groupCells\": 1 }' id=\"asyncTypeset\">\"\"\"\n",
    "                ]\n",
    "    \n",
    "    item_str = \"\"\"    <div class=\"carousel-cell\"> <div id=\"slide{k}\" class=\"md_view\">Content {k}</div> </div>\"\"\"\n",
    "    for k in range(1, npub + 1):\n",
    "        carousel.append(item_str.format(k=k))\n",
    "    carousel.append(\"  </div>\")\n",
    "    return '\\n'.join(carousel)\n",
    "\n",
    "def create_grid(npub=4):\n",
    "    \"\"\" Generate the HTML code for a flat grid with `npub` slides \"\"\"\n",
    "    grid = [\"\"\"  <div class=\"grid\"> \"\"\",\n",
    "                ]\n",
    "    \n",
    "    item_str = \"\"\"    <div class=\"grid-item\"> <div id=\"slide{k}\" class=\"md_view\">Content {k}</div> </div>\"\"\"\n",
    "    for k in range(1, npub + 1):\n",
    "        grid.append(item_str.format(k=k))\n",
    "    grid.append(\"  </div>\")\n",
    "    return '\\n'.join(grid)"
   ]
  },
  {
   "cell_type": "code",
   "execution_count": 13,
   "id": "a6eac5b6",
   "metadata": {
    "execution": {
     "iopub.execute_input": "2025-07-07T04:26:29.019383Z",
     "iopub.status.busy": "2025-07-07T04:26:29.019200Z",
     "iopub.status.idle": "2025-07-07T04:26:29.024389Z",
     "shell.execute_reply": "2025-07-07T04:26:29.023812Z"
    },
    "papermill": {
     "duration": 0.012357,
     "end_time": "2025-07-07T04:26:29.025396",
     "exception": false,
     "start_time": "2025-07-07T04:26:29.013039",
     "status": "completed"
    },
    "scrolled": false,
    "tags": []
   },
   "outputs": [],
   "source": [
    "carousel = create_carousel(npub)\n",
    "docs = ', '.join(['\"{0:s}\"'.format(k.split('/')[-1]) for k in res])\n",
    "slides = ', '.join([f'\"slide{k}\"' for k in range(1, npub + 1)])\n",
    "\n",
    "with open(\"daily_template.html\", \"r\") as tpl:\n",
    "    page = tpl.read()\n",
    "    page = page.replace(\"{%-- carousel:s --%}\", carousel)\\\n",
    "               .replace(\"{%-- suptitle:s --%}\",  \"7-day archives\" )\\\n",
    "               .replace(\"{%-- docs:s --%}\", docs)\\\n",
    "               .replace(\"{%-- slides:s --%}\", slides)\n",
    "    \n",
    "with open(\"_build/html/index_7days.html\", 'w') as fout:\n",
    "    fout.write(page)"
   ]
  },
  {
   "cell_type": "code",
   "execution_count": 14,
   "id": "adc1a1ec",
   "metadata": {
    "execution": {
     "iopub.execute_input": "2025-07-07T04:26:29.037404Z",
     "iopub.status.busy": "2025-07-07T04:26:29.037034Z",
     "iopub.status.idle": "2025-07-07T04:26:29.043446Z",
     "shell.execute_reply": "2025-07-07T04:26:29.042891Z"
    },
    "papermill": {
     "duration": 0.013484,
     "end_time": "2025-07-07T04:26:29.044419",
     "exception": false,
     "start_time": "2025-07-07T04:26:29.030935",
     "status": "completed"
    },
    "tags": []
   },
   "outputs": [
    {
     "name": "stdout",
     "output_type": "stream",
     "text": [
      "1  publications in the last day.\n"
     ]
    }
   ],
   "source": [
    "# redo for today\n",
    "days = 1\n",
    "res = list(get_last_n_days(dates, days))\n",
    "npub = len(res)\n",
    "print(len(res), f\" publications in the last day.\")\n",
    "\n",
    "carousel = create_carousel(npub)\n",
    "docs = ', '.join(['\"{0:s}\"'.format(k.split('/')[-1]) for k in res])\n",
    "slides = ', '.join([f'\"slide{k}\"' for k in range(1, npub + 1)])\n",
    "\n",
    "with open(\"daily_template.html\", \"r\") as tpl:\n",
    "    page = tpl.read()\n",
    "    page = page.replace(\"{%-- carousel:s --%}\", carousel)\\\n",
    "               .replace(\"{%-- suptitle:s --%}\",  \"Daily\" )\\\n",
    "               .replace(\"{%-- docs:s --%}\", docs)\\\n",
    "               .replace(\"{%-- slides:s --%}\", slides)\n",
    "    \n",
    "# print(carousel, docs, slides)\n",
    "# print(page)\n",
    "with open(\"_build/html/index_daily.html\", 'w') as fout:\n",
    "    fout.write(page)"
   ]
  },
  {
   "cell_type": "code",
   "execution_count": 15,
   "id": "00eece82",
   "metadata": {
    "execution": {
     "iopub.execute_input": "2025-07-07T04:26:29.056515Z",
     "iopub.status.busy": "2025-07-07T04:26:29.056109Z",
     "iopub.status.idle": "2025-07-07T04:26:29.062436Z",
     "shell.execute_reply": "2025-07-07T04:26:29.061913Z"
    },
    "papermill": {
     "duration": 0.013414,
     "end_time": "2025-07-07T04:26:29.063438",
     "exception": false,
     "start_time": "2025-07-07T04:26:29.050024",
     "status": "completed"
    },
    "scrolled": false,
    "tags": []
   },
   "outputs": [
    {
     "name": "stdout",
     "output_type": "stream",
     "text": [
      "6  6 publications selected.\n"
     ]
    }
   ],
   "source": [
    "# Create the flat grid of the last N papers (fixed number regardless of dates)\n",
    "from itertools import islice \n",
    "\n",
    "npub = 6\n",
    "res = [k[0] for k in (islice(reversed(sorted(dates, key=lambda x: x[1])), 6))]\n",
    "print(len(res), f\" {npub} publications selected.\")\n",
    "\n",
    "grid = create_grid(npub)\n",
    "docs = ', '.join(['\"{0:s}\"'.format(k.split('/')[-1]) for k in res])\n",
    "slides = ', '.join([f'\"slide{k}\"' for k in range(1, npub + 1)])\n",
    "\n",
    "with open(\"grid_template.html\", \"r\") as tpl:\n",
    "    page = tpl.read()\n",
    "    page = page.replace(\"{%-- grid-content:s --%}\", grid)\\\n",
    "               .replace(\"{%-- suptitle:s --%}\",  f\"Last {npub:,d} papers\" )\\\n",
    "               .replace(\"{%-- docs:s --%}\", docs)\\\n",
    "               .replace(\"{%-- slides:s --%}\", slides)\n",
    "    \n",
    "# print(grid, docs, slides)\n",
    "# print(page)\n",
    "with open(\"_build/html/index_npub_grid.html\", 'w') as fout:\n",
    "    fout.write(page)"
   ]
  }
 ],
 "metadata": {
  "kernelspec": {
   "display_name": "Python 3 (ipykernel)",
   "language": "python",
   "name": "python3"
  },
  "language_info": {
   "codemirror_mode": {
    "name": "ipython",
    "version": 3
   },
   "file_extension": ".py",
   "mimetype": "text/x-python",
   "name": "python",
   "nbconvert_exporter": "python",
   "pygments_lexer": "ipython3",
   "version": "3.9.23"
  },
  "papermill": {
   "default_parameters": {},
   "duration": 55.992306,
   "end_time": "2025-07-07T04:26:29.285460",
   "environment_variables": {},
   "exception": null,
   "input_path": "MPIA daily digest.ipynb",
   "output_path": "log.ipynb",
   "parameters": {},
   "start_time": "2025-07-07T04:25:33.293154",
   "version": "2.6.0"
  },
  "vscode": {
   "interpreter": {
    "hash": "aee8b7b246df8f9039afb4144a1f6fd8d2ca17a180786b69acc140d282b71a49"
   }
  },
  "widgets": {
   "application/vnd.jupyter.widget-state+json": {
    "state": {
     "09dd12adf85a445092ed520510a9d0de": {
      "model_module": "@jupyter-widgets/base",
      "model_module_version": "2.0.0",
      "model_name": "LayoutModel",
      "state": {
       "_model_module": "@jupyter-widgets/base",
       "_model_module_version": "2.0.0",
       "_model_name": "LayoutModel",
       "_view_count": null,
       "_view_module": "@jupyter-widgets/base",
       "_view_module_version": "2.0.0",
       "_view_name": "LayoutView",
       "align_content": null,
       "align_items": null,
       "align_self": null,
       "border_bottom": null,
       "border_left": null,
       "border_right": null,
       "border_top": null,
       "bottom": null,
       "display": null,
       "flex": null,
       "flex_flow": null,
       "grid_area": null,
       "grid_auto_columns": null,
       "grid_auto_flow": null,
       "grid_auto_rows": null,
       "grid_column": null,
       "grid_gap": null,
       "grid_row": null,
       "grid_template_areas": null,
       "grid_template_columns": null,
       "grid_template_rows": null,
       "height": null,
       "justify_content": null,
       "justify_items": null,
       "left": null,
       "margin": null,
       "max_height": null,
       "max_width": null,
       "min_height": null,
       "min_width": null,
       "object_fit": null,
       "object_position": null,
       "order": null,
       "overflow": null,
       "padding": null,
       "right": null,
       "top": null,
       "visibility": null,
       "width": null
      }
     },
     "257efade8f2e4f598fe408588dad5fbb": {
      "model_module": "@jupyter-widgets/controls",
      "model_module_version": "2.0.0",
      "model_name": "HTMLModel",
      "state": {
       "_dom_classes": [],
       "_model_module": "@jupyter-widgets/controls",
       "_model_module_version": "2.0.0",
       "_model_name": "HTMLModel",
       "_view_count": null,
       "_view_module": "@jupyter-widgets/controls",
       "_view_module_version": "2.0.0",
       "_view_name": "HTMLView",
       "description": "",
       "description_allow_html": false,
       "layout": "IPY_MODEL_09dd12adf85a445092ed520510a9d0de",
       "placeholder": "​",
       "style": "IPY_MODEL_38e5314e9f7f46a2901b7f414276da86",
       "tabbable": null,
       "tooltip": null,
       "value": " 5/5 [00:26&lt;00:00,  3.41s/it]"
      }
     },
     "2aca1b94ebd04f609f5715463c1a9ac1": {
      "model_module": "@jupyter-widgets/controls",
      "model_module_version": "2.0.0",
      "model_name": "FloatProgressModel",
      "state": {
       "_dom_classes": [],
       "_model_module": "@jupyter-widgets/controls",
       "_model_module_version": "2.0.0",
       "_model_name": "FloatProgressModel",
       "_view_count": null,
       "_view_module": "@jupyter-widgets/controls",
       "_view_module_version": "2.0.0",
       "_view_name": "ProgressView",
       "bar_style": "success",
       "description": "",
       "description_allow_html": false,
       "layout": "IPY_MODEL_344738d9a276474d8e38f01e97a2790a",
       "max": 5.0,
       "min": 0.0,
       "orientation": "horizontal",
       "style": "IPY_MODEL_a0e0019a52144c4880872484a88560bf",
       "tabbable": null,
       "tooltip": null,
       "value": 5.0
      }
     },
     "344738d9a276474d8e38f01e97a2790a": {
      "model_module": "@jupyter-widgets/base",
      "model_module_version": "2.0.0",
      "model_name": "LayoutModel",
      "state": {
       "_model_module": "@jupyter-widgets/base",
       "_model_module_version": "2.0.0",
       "_model_name": "LayoutModel",
       "_view_count": null,
       "_view_module": "@jupyter-widgets/base",
       "_view_module_version": "2.0.0",
       "_view_name": "LayoutView",
       "align_content": null,
       "align_items": null,
       "align_self": null,
       "border_bottom": null,
       "border_left": null,
       "border_right": null,
       "border_top": null,
       "bottom": null,
       "display": null,
       "flex": null,
       "flex_flow": null,
       "grid_area": null,
       "grid_auto_columns": null,
       "grid_auto_flow": null,
       "grid_auto_rows": null,
       "grid_column": null,
       "grid_gap": null,
       "grid_row": null,
       "grid_template_areas": null,
       "grid_template_columns": null,
       "grid_template_rows": null,
       "height": null,
       "justify_content": null,
       "justify_items": null,
       "left": null,
       "margin": null,
       "max_height": null,
       "max_width": null,
       "min_height": null,
       "min_width": null,
       "object_fit": null,
       "object_position": null,
       "order": null,
       "overflow": null,
       "padding": null,
       "right": null,
       "top": null,
       "visibility": null,
       "width": null
      }
     },
     "38e5314e9f7f46a2901b7f414276da86": {
      "model_module": "@jupyter-widgets/controls",
      "model_module_version": "2.0.0",
      "model_name": "HTMLStyleModel",
      "state": {
       "_model_module": "@jupyter-widgets/controls",
       "_model_module_version": "2.0.0",
       "_model_name": "HTMLStyleModel",
       "_view_count": null,
       "_view_module": "@jupyter-widgets/base",
       "_view_module_version": "2.0.0",
       "_view_name": "StyleView",
       "background": null,
       "description_width": "",
       "font_size": null,
       "text_color": null
      }
     },
     "3e9e6aa619114ca388e4f655654ff65a": {
      "model_module": "@jupyter-widgets/base",
      "model_module_version": "2.0.0",
      "model_name": "LayoutModel",
      "state": {
       "_model_module": "@jupyter-widgets/base",
       "_model_module_version": "2.0.0",
       "_model_name": "LayoutModel",
       "_view_count": null,
       "_view_module": "@jupyter-widgets/base",
       "_view_module_version": "2.0.0",
       "_view_name": "LayoutView",
       "align_content": null,
       "align_items": null,
       "align_self": null,
       "border_bottom": null,
       "border_left": null,
       "border_right": null,
       "border_top": null,
       "bottom": null,
       "display": null,
       "flex": null,
       "flex_flow": null,
       "grid_area": null,
       "grid_auto_columns": null,
       "grid_auto_flow": null,
       "grid_auto_rows": null,
       "grid_column": null,
       "grid_gap": null,
       "grid_row": null,
       "grid_template_areas": null,
       "grid_template_columns": null,
       "grid_template_rows": null,
       "height": null,
       "justify_content": null,
       "justify_items": null,
       "left": null,
       "margin": null,
       "max_height": null,
       "max_width": null,
       "min_height": null,
       "min_width": null,
       "object_fit": null,
       "object_position": null,
       "order": null,
       "overflow": null,
       "padding": null,
       "right": null,
       "top": null,
       "visibility": null,
       "width": null
      }
     },
     "5ea1f3b880c3422db84a5a3609f8f1b4": {
      "model_module": "@jupyter-widgets/controls",
      "model_module_version": "2.0.0",
      "model_name": "HTMLModel",
      "state": {
       "_dom_classes": [],
       "_model_module": "@jupyter-widgets/controls",
       "_model_module_version": "2.0.0",
       "_model_name": "HTMLModel",
       "_view_count": null,
       "_view_module": "@jupyter-widgets/controls",
       "_view_module_version": "2.0.0",
       "_view_name": "HTMLView",
       "description": "",
       "description_allow_html": false,
       "layout": "IPY_MODEL_3e9e6aa619114ca388e4f655654ff65a",
       "placeholder": "​",
       "style": "IPY_MODEL_8501fc1ed3674b4dad2e6bd54dd033e7",
       "tabbable": null,
       "tooltip": null,
       "value": "100%"
      }
     },
     "5f1f737d860f4246b32a742870484d25": {
      "model_module": "@jupyter-widgets/base",
      "model_module_version": "2.0.0",
      "model_name": "LayoutModel",
      "state": {
       "_model_module": "@jupyter-widgets/base",
       "_model_module_version": "2.0.0",
       "_model_name": "LayoutModel",
       "_view_count": null,
       "_view_module": "@jupyter-widgets/base",
       "_view_module_version": "2.0.0",
       "_view_name": "LayoutView",
       "align_content": null,
       "align_items": null,
       "align_self": null,
       "border_bottom": null,
       "border_left": null,
       "border_right": null,
       "border_top": null,
       "bottom": null,
       "display": null,
       "flex": null,
       "flex_flow": null,
       "grid_area": null,
       "grid_auto_columns": null,
       "grid_auto_flow": null,
       "grid_auto_rows": null,
       "grid_column": null,
       "grid_gap": null,
       "grid_row": null,
       "grid_template_areas": null,
       "grid_template_columns": null,
       "grid_template_rows": null,
       "height": null,
       "justify_content": null,
       "justify_items": null,
       "left": null,
       "margin": null,
       "max_height": null,
       "max_width": null,
       "min_height": null,
       "min_width": null,
       "object_fit": null,
       "object_position": null,
       "order": null,
       "overflow": null,
       "padding": null,
       "right": null,
       "top": null,
       "visibility": null,
       "width": null
      }
     },
     "8501fc1ed3674b4dad2e6bd54dd033e7": {
      "model_module": "@jupyter-widgets/controls",
      "model_module_version": "2.0.0",
      "model_name": "HTMLStyleModel",
      "state": {
       "_model_module": "@jupyter-widgets/controls",
       "_model_module_version": "2.0.0",
       "_model_name": "HTMLStyleModel",
       "_view_count": null,
       "_view_module": "@jupyter-widgets/base",
       "_view_module_version": "2.0.0",
       "_view_name": "StyleView",
       "background": null,
       "description_width": "",
       "font_size": null,
       "text_color": null
      }
     },
     "a0e0019a52144c4880872484a88560bf": {
      "model_module": "@jupyter-widgets/controls",
      "model_module_version": "2.0.0",
      "model_name": "ProgressStyleModel",
      "state": {
       "_model_module": "@jupyter-widgets/controls",
       "_model_module_version": "2.0.0",
       "_model_name": "ProgressStyleModel",
       "_view_count": null,
       "_view_module": "@jupyter-widgets/base",
       "_view_module_version": "2.0.0",
       "_view_name": "StyleView",
       "bar_color": null,
       "description_width": ""
      }
     },
     "c9e808523b8247f683bc59e66f860bf5": {
      "model_module": "@jupyter-widgets/controls",
      "model_module_version": "2.0.0",
      "model_name": "HBoxModel",
      "state": {
       "_dom_classes": [],
       "_model_module": "@jupyter-widgets/controls",
       "_model_module_version": "2.0.0",
       "_model_name": "HBoxModel",
       "_view_count": null,
       "_view_module": "@jupyter-widgets/controls",
       "_view_module_version": "2.0.0",
       "_view_name": "HBoxView",
       "box_style": "",
       "children": [
        "IPY_MODEL_5ea1f3b880c3422db84a5a3609f8f1b4",
        "IPY_MODEL_2aca1b94ebd04f609f5715463c1a9ac1",
        "IPY_MODEL_257efade8f2e4f598fe408588dad5fbb"
       ],
       "layout": "IPY_MODEL_5f1f737d860f4246b32a742870484d25",
       "tabbable": null,
       "tooltip": null
      }
     }
    },
    "version_major": 2,
    "version_minor": 0
   }
  }
 },
 "nbformat": 4,
 "nbformat_minor": 5
}