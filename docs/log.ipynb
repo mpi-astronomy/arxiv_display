{
 "cells": [
  {
   "cell_type": "markdown",
   "id": "92bcb855",
   "metadata": {
    "papermill": {
     "duration": 0.004939,
     "end_time": "2023-10-05T04:05:23.322212",
     "exception": false,
     "start_time": "2023-10-05T04:05:23.317273",
     "status": "completed"
    },
    "tags": []
   },
   "source": [
    "# MPIA Arxiv on Deck 2\n",
    "\n",
    "Contains the steps to produce the paper extractions."
   ]
  },
  {
   "cell_type": "code",
   "execution_count": 1,
   "id": "3a0d6e11",
   "metadata": {
    "execution": {
     "iopub.execute_input": "2023-10-05T04:05:23.334232Z",
     "iopub.status.busy": "2023-10-05T04:05:23.332866Z",
     "iopub.status.idle": "2023-10-05T04:05:24.247748Z",
     "shell.execute_reply": "2023-10-05T04:05:24.247019Z"
    },
    "papermill": {
     "duration": 0.921959,
     "end_time": "2023-10-05T04:05:24.249640",
     "exception": false,
     "start_time": "2023-10-05T04:05:23.327681",
     "status": "completed"
    },
    "tags": []
   },
   "outputs": [],
   "source": [
    "# Imports\n",
    "import os\n",
    "from IPython.display import Markdown, display\n",
    "from tqdm.notebook import tqdm\n",
    "import warnings\n",
    "from PIL import Image \n",
    "\n",
    "# requires arxiv_on_deck_2\n",
    "\n",
    "from arxiv_on_deck_2.arxiv2 import (get_new_papers, \n",
    "                                    get_paper_from_identifier,\n",
    "                                    retrieve_document_source, \n",
    "                                    get_markdown_badge)\n",
    "from arxiv_on_deck_2 import (latex,\n",
    "                             latex_bib,\n",
    "                             mpia,\n",
    "                             highlight_authors_in_list)\n",
    "\n",
    "# Sometimes images are really big\n",
    "Image.MAX_IMAGE_PIXELS = 1000000000 "
   ]
  },
  {
   "cell_type": "code",
   "execution_count": 2,
   "id": "22aa9d44",
   "metadata": {
    "execution": {
     "iopub.execute_input": "2023-10-05T04:05:24.258808Z",
     "iopub.status.busy": "2023-10-05T04:05:24.258221Z",
     "iopub.status.idle": "2023-10-05T04:05:24.264492Z",
     "shell.execute_reply": "2023-10-05T04:05:24.263804Z"
    },
    "papermill": {
     "duration": 0.012729,
     "end_time": "2023-10-05T04:05:24.266170",
     "exception": false,
     "start_time": "2023-10-05T04:05:24.253441",
     "status": "completed"
    },
    "tags": []
   },
   "outputs": [],
   "source": [
    "# Some useful definitions.\n",
    "\n",
    "class AffiliationWarning(UserWarning):\n",
    "    pass\n",
    "\n",
    "class AffiliationError(RuntimeError):\n",
    "    pass\n",
    "\n",
    "def validation(source: str):\n",
    "    \"\"\"Raises error paper during parsing of source file\n",
    "    \n",
    "    Allows checks before parsing TeX code.\n",
    "    \n",
    "    Raises AffiliationWarning\n",
    "    \"\"\"\n",
    "    check = mpia.affiliation_verifications(source, verbose=True)\n",
    "    if check is not True:\n",
    "        raise AffiliationError(\"mpia.affiliation_verifications: \" + check)\n",
    "\n",
    "        \n",
    "warnings.simplefilter('always', AffiliationWarning)\n",
    "\n",
    "\n",
    "def get_markdown_qrcode(paper_id: str):\n",
    "    \"\"\" Generate a qrcode to the arxiv page using qrserver.com\n",
    "    \n",
    "    :param paper: Arxiv paper\n",
    "    :returns: markdown text\n",
    "    \"\"\"\n",
    "    url = r\"https://api.qrserver.com/v1/create-qr-code/?size=100x100&data=\"\n",
    "    txt = f\"\"\"<img src={url}\"https://arxiv.org/abs/{paper_id}\">\"\"\"\n",
    "    txt = '<div id=\"qrcode\">' + txt + '</div>'\n",
    "    return txt"
   ]
  },
  {
   "cell_type": "markdown",
   "id": "14bd6310",
   "metadata": {
    "papermill": {
     "duration": 0.00348,
     "end_time": "2023-10-05T04:05:24.273249",
     "exception": false,
     "start_time": "2023-10-05T04:05:24.269769",
     "status": "completed"
    },
    "tags": []
   },
   "source": [
    "## get list of arxiv paper candidates\n",
    "\n",
    "We use the MPIA mitarbeiter list webpage from mpia.de to get author names\n",
    "We then get all new papers from Arxiv and match authors"
   ]
  },
  {
   "cell_type": "code",
   "execution_count": 3,
   "id": "2645e73a",
   "metadata": {
    "execution": {
     "iopub.execute_input": "2023-10-05T04:05:24.281642Z",
     "iopub.status.busy": "2023-10-05T04:05:24.281151Z",
     "iopub.status.idle": "2023-10-05T04:05:46.634033Z",
     "shell.execute_reply": "2023-10-05T04:05:46.633118Z"
    },
    "papermill": {
     "duration": 22.359137,
     "end_time": "2023-10-05T04:05:46.635864",
     "exception": false,
     "start_time": "2023-10-05T04:05:24.276727",
     "status": "completed"
    },
    "tags": []
   },
   "outputs": [
    {
     "name": "stdout",
     "output_type": "stream",
     "text": [
      "J. Bouwman  ->  J. Bouwman  |  ['J. Bouwman']\n",
      "C. Danti  ->  C. Danti  |  ['C. Danti']\n",
      "J. Mah  ->  J. Mah  |  ['J. Mah']\n",
      "Arxiv has 70 new papers today\n",
      "          2 with possible author matches\n"
     ]
    }
   ],
   "source": [
    "# get list from MPIA website\n",
    "# it automatically filters identified non-scientists :func:`mpia.filter_non_scientists`\n",
    "mpia_authors = mpia.get_mpia_mitarbeiter_list()\n",
    "normed_mpia_authors = [k[1] for k in mpia_authors]   # initials + fullname\n",
    "new_papers = get_new_papers()\n",
    "# add manual references\n",
    "add_paper_refs = []\n",
    "new_papers.extend([get_paper_from_identifier(k) for k in add_paper_refs])\n",
    "\n",
    "candidates = []\n",
    "for paperk in new_papers:\n",
    "    # Check author list with their initials\n",
    "    normed_author_list = [mpia.get_initials(k) for k in paperk['authors']]\n",
    "    hl_authors = highlight_authors_in_list(normed_author_list, normed_mpia_authors, verbose=True)\n",
    "    matches = [(hl, orig) for hl, orig in zip(hl_authors, paperk['authors']) if 'mark' in hl]\n",
    "    paperk['authors'] = hl_authors\n",
    "    if matches:\n",
    "        # only select paper if an author matched our list\n",
    "        candidates.append(paperk)\n",
    "print(\"\"\"Arxiv has {0:,d} new papers today\"\"\".format(len(new_papers)))        \n",
    "print(\"\"\"          {0:,d} with possible author matches\"\"\".format(len(candidates)))"
   ]
  },
  {
   "cell_type": "markdown",
   "id": "3543b34a",
   "metadata": {
    "papermill": {
     "duration": 0.003988,
     "end_time": "2023-10-05T04:05:46.643784",
     "exception": false,
     "start_time": "2023-10-05T04:05:46.639796",
     "status": "completed"
    },
    "tags": []
   },
   "source": [
    "# Parse sources and generate relevant outputs\n",
    "\n",
    "From the candidates, we do the following steps:\n",
    "* get their tarball from ArXiv (and extract data)\n",
    "* find the main .tex file: find one with \\documentclass{...} (sometimes it's non trivial)\n",
    "* Check affiliations with :func:`validation`, which uses :func:`mpia.affiliation_verifications`\n",
    "* If passing the affiliations: we parse the .tex source\n",
    "   * inject sub-documents into the main (flatten the main document)\n",
    "   * parse structure, extract information (title, abstract, authors, figures...)\n",
    "   * handles `\\graphicspath` if provided\n",
    "* Generate the .md document."
   ]
  },
  {
   "cell_type": "code",
   "execution_count": 4,
   "id": "9576b79e",
   "metadata": {
    "execution": {
     "iopub.execute_input": "2023-10-05T04:05:46.652868Z",
     "iopub.status.busy": "2023-10-05T04:05:46.652286Z",
     "iopub.status.idle": "2023-10-05T04:06:24.418761Z",
     "shell.execute_reply": "2023-10-05T04:06:24.418037Z"
    },
    "papermill": {
     "duration": 37.778001,
     "end_time": "2023-10-05T04:06:24.425422",
     "exception": false,
     "start_time": "2023-10-05T04:05:46.647421",
     "status": "completed"
    },
    "scrolled": false,
    "tags": []
   },
   "outputs": [
    {
     "data": {
      "application/vnd.jupyter.widget-view+json": {
       "model_id": "b0562c491584476a90fc4cde57afe668",
       "version_major": 2,
       "version_minor": 0
      },
      "text/plain": [
       "  0%|          | 0/2 [00:00<?, ?it/s]"
      ]
     },
     "metadata": {},
     "output_type": "display_data"
    },
    {
     "name": "stdout",
     "output_type": "stream",
     "text": [
      "Retrieving document from  https://arxiv.org/e-print/2310.02795\n"
     ]
    },
    {
     "name": "stdout",
     "output_type": "stream",
     "text": [
      "extracting tarball to tmp_2310.02795..."
     ]
    },
    {
     "name": "stdout",
     "output_type": "stream",
     "text": [
      " done.\n"
     ]
    },
    {
     "name": "stderr",
     "output_type": "stream",
     "text": [
      "/opt/hostedtoolcache/Python/3.9.18/x64/lib/python3.9/site-packages/IPython/core/interactiveshell.py:3526: LatexWarning: Multiple tex files.\n",
      "\n",
      "  exec(code_obj, self.user_global_ns, self.user_ns)\n",
      "/opt/hostedtoolcache/Python/3.9.18/x64/lib/python3.9/site-packages/IPython/core/interactiveshell.py:3526: LatexWarning: Found documentclass in tmp_2310.02795/etacha_29_09_2023.tex\n",
      "\n",
      "  exec(code_obj, self.user_global_ns, self.user_ns)\n"
     ]
    },
    {
     "name": "stdout",
     "output_type": "stream",
     "text": [
      "J. Bouwman  ->  J. Bouwman  |  ['J. Bouwman']\n"
     ]
    },
    {
     "name": "stdout",
     "output_type": "stream",
     "text": [
      "Found 133 bibliographic references in tmp_2310.02795/etacha_29_09_2023.bbl.\n",
      "Retrieving document from  https://arxiv.org/e-print/2310.02886\n"
     ]
    },
    {
     "name": "stdout",
     "output_type": "stream",
     "text": [
      "extracting tarball to tmp_2310.02886..."
     ]
    },
    {
     "name": "stdout",
     "output_type": "stream",
     "text": [
      " done.\n"
     ]
    },
    {
     "name": "stdout",
     "output_type": "stream",
     "text": [
      "C. Danti  ->  C. Danti  |  ['C. Danti']\n",
      "J. Mah  ->  J. Mah  |  ['J. Mah']\n"
     ]
    },
    {
     "name": "stdout",
     "output_type": "stream",
     "text": [
      "list index out of range\n"
     ]
    }
   ],
   "source": [
    "documents = []\n",
    "failed = []\n",
    "for paper in tqdm(candidates):\n",
    "    paper_id = paper['identifier'].lower().replace('arxiv:', '')\n",
    "    \n",
    "    folder = f'tmp_{paper_id}'\n",
    "\n",
    "    try:\n",
    "        if not os.path.isdir(folder):\n",
    "            folder = retrieve_document_source(f\"{paper_id}\", f'tmp_{paper_id}')\n",
    "        \n",
    "        try:\n",
    "            doc = latex.LatexDocument(folder, validation=validation)    \n",
    "        except AffiliationError as affilerror:\n",
    "            msg = f\"ArXiv:{paper_id:s} is not an MPIA paper... \" + str(affilerror)\n",
    "            failed.append((paper, \"affiliation error: \" + str(affilerror) ))\n",
    "            continue\n",
    "        \n",
    "        # Hack because sometimes author parsing does not work well\n",
    "        if (len(doc.authors) != len(paper['authors'])):\n",
    "            doc._authors = paper['authors']\n",
    "        else:\n",
    "            # highlight authors (FIXME: doc.highlight_authors)\n",
    "            # done on arxiv paper already\n",
    "            doc._authors = highlight_authors_in_list(\n",
    "                [mpia.get_initials(k) for k in doc.authors], \n",
    "                normed_mpia_authors, verbose=True)\n",
    "        if (doc.abstract) in (None, ''):\n",
    "            doc._abstract = paper['abstract']\n",
    "            \n",
    "        doc.comment = (get_markdown_badge(paper_id) + \n",
    "                       \"<mark>Appeared on: \" + paper['date'] + \"</mark> - \")\n",
    "        if paper['comments']:\n",
    "            doc.comment += \" _\" + paper['comments'] + \"_\"\n",
    "        \n",
    "        full_md = doc.generate_markdown_text()\n",
    "        \n",
    "        full_md += get_markdown_qrcode(paper_id)\n",
    "        \n",
    "        # replace citations\n",
    "        try:\n",
    "            bibdata = latex_bib.LatexBib.from_doc(doc)\n",
    "            full_md = latex_bib.replace_citations(full_md, bibdata)\n",
    "        except Exception as e:\n",
    "            print(e)\n",
    "        \n",
    "        documents.append((paper_id, full_md))\n",
    "    except Exception as e:\n",
    "        warnings.warn(latex.LatexWarning(f\"{paper_id:s} did not run properly\\n\" +\n",
    "                                         str(e)\n",
    "                                        ))\n",
    "        failed.append((paper, \"latex error \" + str(e)))"
   ]
  },
  {
   "cell_type": "markdown",
   "id": "2505a25c",
   "metadata": {
    "papermill": {
     "duration": 0.004367,
     "end_time": "2023-10-05T04:06:24.434438",
     "exception": false,
     "start_time": "2023-10-05T04:06:24.430071",
     "status": "completed"
    },
    "tags": []
   },
   "source": [
    "### Export the logs\n",
    "\n",
    "Throughout, we also keep track of the logs per paper. see `logs-{today date}.md` "
   ]
  },
  {
   "cell_type": "code",
   "execution_count": 5,
   "id": "d733828a",
   "metadata": {
    "execution": {
     "iopub.execute_input": "2023-10-05T04:06:24.444798Z",
     "iopub.status.busy": "2023-10-05T04:06:24.444237Z",
     "iopub.status.idle": "2023-10-05T04:06:24.460510Z",
     "shell.execute_reply": "2023-10-05T04:06:24.459834Z"
    },
    "papermill": {
     "duration": 0.023317,
     "end_time": "2023-10-05T04:06:24.462058",
     "exception": false,
     "start_time": "2023-10-05T04:06:24.438741",
     "status": "completed"
    },
    "scrolled": false,
    "tags": []
   },
   "outputs": [
    {
     "data": {
      "text/markdown": [
       "## Successful papers"
      ],
      "text/plain": [
       "<IPython.core.display.Markdown object>"
      ]
     },
     "metadata": {},
     "output_type": "display_data"
    },
    {
     "data": {
      "text/markdown": [
       "\n",
       "|||\n",
       "|---:|:---|\n",
       "| [![arXiv](https://img.shields.io/badge/arXiv-arXiv:2310.02795-b31b1b.svg)](https://arxiv.org/abs/arXiv:2310.02795) | **Protoplanetary and debris disks in the $η$ Chamaeleontis Association:  A sub-millimeter survey obtained with APEX/LABOCA**  |\n",
       "|| V. Roccatagliata, et al. -- incl., <mark>J. Bouwman</mark> |\n",
       "|*Appeared on*| *2023-10-05*|\n",
       "|*Comments*| *20 pages, 9 figures, 7 tables*|\n",
       "|**Abstract**| Nearby associations are ideal regions to study coeval samples of protoplanetary and debris disks down to late M-type stars. Those aged 5-10,Myrs, where most of the disk should have already dissipated forming planets, are of particular interest. We present the first complete study of both protoplanetary and debris disks in a young region, using the $\\eta$ Chamaeleontis association as a test bench to study the cold disk content. We obtained sub-millimeter data for the entire core population down to late M-type stars, plus a few halo members. We performed a continuum sub-millimeter survey with APEX/LABOCA of all the core populations of $\\eta$ Cha association. Disk properties have been derived by modeling protoplanetary and debris disks using RADMC 2D and DMS, respectively. We find that protoplanetary disks in $\\eta$ Cha typically have holes with radii of the order of 0.01 to 0.03 AU, while ring-like emission from the debris disks is located between 20 au and 650 au from the central star. The parallaxes and Gaia eDR3 photometry, in combination with the PARSEC and COLIBRI isochrones, enable us to confirm an age of $\\eta$ Cha between 7 and 9 Myrs. In general, the disk mass seems insufficient to support accretion over a long time, even for the lowest mass accretors, a clear difference compared with other regions and also a sign that the mass budget is further underestimated. We do not find a correlation between the stellar masses, accretion rates, and disk masses, although this could be due to sample issues. We confirm that the presence of inner holes is not enough to stop accretion unless accompanied by dramatic changes to the total disk mass content. Comparing $\\eta$ Cha with other regions at different ages, we find that the physical processes responsible for debris disks (e.g., dust growth, dust trapping) efficiently act in less than 5 Myrs. |"
      ],
      "text/plain": [
       "[arXiv:2310.02795] Protoplanetary and debris disks in the $η$ Chamaeleontis Association:  A sub-millimeter survey obtained with APEX/LABOCA\n",
       "\tV. Roccatagliata, et al. -- incl., <mark>J. Bouwman</mark>"
      ]
     },
     "metadata": {},
     "output_type": "display_data"
    },
    {
     "data": {
      "text/markdown": [
       "\n",
       "|||\n",
       "|---:|:---|\n",
       "| [![arXiv](https://img.shields.io/badge/arXiv-arXiv:2310.02886-b31b1b.svg)](https://arxiv.org/abs/arXiv:2310.02886) | **Composition of giant planets: the roles of pebbles and planetesimals**  |\n",
       "|| <mark>C. Danti</mark>, B. Bitsch, <mark>J. Mah</mark> |\n",
       "|*Appeared on*| *2023-10-05*|\n",
       "|*Comments*| *12 pages, 10 figures, accepted for publication in Astronomy and Astrophysics*|\n",
       "|**Abstract**| One of the current challenges of planet formation theory is to explain the enrichment of observed exoplanetary atmospheres. Past studies have focused on scenarios where either pebbles or planetesimals were the heavy element enrichment's drivers, we combine here both approaches to understand whether the composition of a planet can constrain its formation pathway. We study three different formation scenarios: pebble accretion, pebble accretion with planetesimal formation, combined pebble and planetesimal accretion. We use the chemcomp code to perform semi-analytical 1D simulations of protoplanetary discs, including viscous evolution, pebble drift, and simple chemistry to simulate the growth of planets from planetary embryos to gas giants as they migrate through the disc, while tracking their composition. Our simulations confirm that the composition of the planetary atmosphere is dominated by the accretion of gas enriched by inward drifting and evaporating pebbles. Including planetesimal formation hinders the enrichment, because the pebbles locked into planetesimals cannot evaporate and enrich the disc. This results in a big drop of the accreted heavy elements both in the planetesimal formation and accretion case, proving that planetesimal formation needs to be inefficient in order to explain planets with high heavy element content. Accretion of planetesimals enhances the refractory component of the atmosphere, leading to low volatile to refractory ratios, contrary to the pure pebble scenario. Such low volatile to refractory ratios can also be achieved by planets migrating in the inner disc in pure pebble scenario. Distinguishing these two scenarios requires knowledge about the planet's atmospheric C/H and O/H ratios, which are higher for pure pebble accretion. Therefore, a detailed knowledge of the composition of planetary atmospheres could help to constrain the planet's formation pathway. |"
      ],
      "text/plain": [
       "[arXiv:2310.02886] Composition of giant planets: the roles of pebbles and planetesimals\n",
       "\t<mark>C. Danti</mark>, B. Bitsch, <mark>J. Mah</mark>"
      ]
     },
     "metadata": {},
     "output_type": "display_data"
    },
    {
     "data": {
      "text/markdown": [
       "## Failed papers"
      ],
      "text/plain": [
       "<IPython.core.display.Markdown object>"
      ]
     },
     "metadata": {},
     "output_type": "display_data"
    }
   ],
   "source": [
    "import datetime\n",
    "today = str(datetime.date.today())\n",
    "logfile = f\"_build/html/logs/log-{today}.md\"\n",
    "\n",
    "\n",
    "with open(logfile, 'w') as logs:\n",
    "    # Success\n",
    "    logs.write(f'# Arxiv on Deck 2: Logs - {today}\\n\\n')\n",
    "    logs.write(\"\"\"* Arxiv had {0:,d} new papers\\n\"\"\".format(len(new_papers)))\n",
    "    logs.write(\"\"\"    * {0:,d} with possible author matches\\n\\n\"\"\".format(len(candidates)))\n",
    "    logs.write(\"## Sucessful papers\\n\\n\")\n",
    "    display(Markdown(\"## Successful papers\"))\n",
    "    success = [k[0] for k in documents]\n",
    "    for candid in candidates:\n",
    "        if candid['identifier'].split(':')[-1] in success:\n",
    "            display(candid)\n",
    "            logs.write(candid.generate_markdown_text() + '\\n\\n')\n",
    "\n",
    "    ## failed\n",
    "    logs.write(\"## Failed papers\\n\\n\")\n",
    "    display(Markdown(\"## Failed papers\"))\n",
    "    failed = sorted(failed, key=lambda x: x[1])\n",
    "    current_reason = \"\"\n",
    "    for paper, reason in failed:\n",
    "        if 'affiliation' in reason:\n",
    "            color = 'green'\n",
    "        else:\n",
    "            color = 'red'\n",
    "        data = Markdown(\n",
    "                paper.generate_markdown_text() + \n",
    "                f'\\n|<p style=\"color:{color:s}\"> **ERROR** </p>| <p style=\"color:{color:s}\">{reason:s}</p> |'\n",
    "               )\n",
    "        if reason != current_reason:\n",
    "            logs.write(f'### {reason:s} \\n\\n')\n",
    "            current_reason = reason\n",
    "        logs.write(data.data + '\\n\\n')\n",
    "        \n",
    "        # only display here the important errors (all in logs)\n",
    "        # if color in ('red',):\n",
    "        display(data)"
   ]
  },
  {
   "cell_type": "markdown",
   "id": "472d20ee",
   "metadata": {
    "papermill": {
     "duration": 0.004802,
     "end_time": "2023-10-05T04:06:24.471827",
     "exception": false,
     "start_time": "2023-10-05T04:06:24.467025",
     "status": "completed"
    },
    "tags": []
   },
   "source": [
    "## Export documents\n",
    "\n",
    "We now write the .md files and export relevant images"
   ]
  },
  {
   "cell_type": "code",
   "execution_count": 6,
   "id": "d426aed9",
   "metadata": {
    "execution": {
     "iopub.execute_input": "2023-10-05T04:06:24.483001Z",
     "iopub.status.busy": "2023-10-05T04:06:24.482391Z",
     "iopub.status.idle": "2023-10-05T04:06:24.489930Z",
     "shell.execute_reply": "2023-10-05T04:06:24.489197Z"
    },
    "papermill": {
     "duration": 0.014818,
     "end_time": "2023-10-05T04:06:24.491505",
     "exception": false,
     "start_time": "2023-10-05T04:06:24.476687",
     "status": "completed"
    },
    "tags": []
   },
   "outputs": [],
   "source": [
    "def export_markdown_summary(md: str, md_fname:str, directory: str):\n",
    "    \"\"\"Export MD document and associated relevant images\"\"\"\n",
    "    import os\n",
    "    import shutil\n",
    "    import re\n",
    "\n",
    "    if (os.path.exists(directory) and not os.path.isdir(directory)):\n",
    "        raise RuntimeError(f\"a non-directory file exists with name {directory:s}\")\n",
    "\n",
    "    if (not os.path.exists(directory)):\n",
    "        print(f\"creating directory {directory:s}\")\n",
    "        os.mkdir(directory)\n",
    "\n",
    "    fig_fnames = (re.compile(r'\\[Fig.*\\]\\((.*)\\)').findall(md) + \n",
    "                  re.compile(r'\\<img src=\"([^>\\s]*)\"[^>]*/>').findall(md))\n",
    "    for fname in fig_fnames:\n",
    "        if 'http' in fname:\n",
    "            # No need to copy online figures\n",
    "            continue\n",
    "        destdir = os.path.join(directory, os.path.dirname(fname))\n",
    "        destfname = os.path.join(destdir, os.path.basename(fname))\n",
    "        try:\n",
    "            os.makedirs(destdir)\n",
    "        except FileExistsError:\n",
    "            pass\n",
    "        shutil.copy(fname, destfname)\n",
    "    with open(os.path.join(directory, md_fname), 'w') as fout:\n",
    "        fout.write(md)\n",
    "    print(\"exported in \", os.path.join(directory, md_fname))\n",
    "    [print(\"    + \" + os.path.join(directory,fk)) for fk in fig_fnames]"
   ]
  },
  {
   "cell_type": "code",
   "execution_count": 7,
   "id": "014d04a4",
   "metadata": {
    "execution": {
     "iopub.execute_input": "2023-10-05T04:06:24.502682Z",
     "iopub.status.busy": "2023-10-05T04:06:24.502110Z",
     "iopub.status.idle": "2023-10-05T04:06:24.511541Z",
     "shell.execute_reply": "2023-10-05T04:06:24.510865Z"
    },
    "papermill": {
     "duration": 0.016727,
     "end_time": "2023-10-05T04:06:24.513126",
     "exception": false,
     "start_time": "2023-10-05T04:06:24.496399",
     "status": "completed"
    },
    "tags": []
   },
   "outputs": [
    {
     "name": "stdout",
     "output_type": "stream",
     "text": [
      "exported in  _build/html/2310.02795.md\n",
      "    + _build/html/tmp_2310.02795/./Sptype_Mdot_2023.png\n",
      "    + _build/html/tmp_2310.02795/./Mdot_Mdisk_2023.png\n",
      "    + _build/html/tmp_2310.02795/./recx5_sed_models.png\n",
      "    + _build/html/tmp_2310.02795/./recx9_sed_models.png\n",
      "    + _build/html/tmp_2310.02795/./recx11_sed_models.png\n",
      "    + _build/html/tmp_2310.02795/./echa0801_sed_models.png\n",
      "    + _build/html/tmp_2310.02795/./echa0820_sed_models.png\n",
      "    + _build/html/tmp_2310.02795/./echa0841_sed_models.png\n",
      "    + _build/html/tmp_2310.02795/./echa0843_sed_models.png\n",
      "    + _build/html/tmp_2310.02795/./echa0844_sed_models.png\n",
      "    + _build/html/tmp_2310.02795/./Sptype_apex_2023b.png\n",
      "exported in  _build/html/2310.02886.md\n",
      "    + _build/html/tmp_2310.02886/./atm_comp_growth_track.png\n",
      "    + _build/html/tmp_2310.02886/./mass.png\n",
      "    + _build/html/tmp_2310.02886/./surface_densities_viscosities.png\n"
     ]
    }
   ],
   "source": [
    "for paper_id, md in documents:\n",
    "    export_markdown_summary(md, f\"{paper_id:s}.md\", '_build/html/')"
   ]
  },
  {
   "cell_type": "markdown",
   "id": "f087a0a7",
   "metadata": {
    "papermill": {
     "duration": 0.00498,
     "end_time": "2023-10-05T04:06:24.523149",
     "exception": false,
     "start_time": "2023-10-05T04:06:24.518169",
     "status": "completed"
    },
    "tags": []
   },
   "source": [
    "## Display the papers\n",
    "\n",
    "Not necessary but allows for a quick check."
   ]
  },
  {
   "cell_type": "code",
   "execution_count": 8,
   "id": "fd25f625",
   "metadata": {
    "execution": {
     "iopub.execute_input": "2023-10-05T04:06:24.534626Z",
     "iopub.status.busy": "2023-10-05T04:06:24.534129Z",
     "iopub.status.idle": "2023-10-05T04:06:24.540275Z",
     "shell.execute_reply": "2023-10-05T04:06:24.539734Z"
    },
    "papermill": {
     "duration": 0.013883,
     "end_time": "2023-10-05T04:06:24.542013",
     "exception": false,
     "start_time": "2023-10-05T04:06:24.528130",
     "status": "completed"
    },
    "scrolled": false,
    "tags": []
   },
   "outputs": [
    {
     "data": {
      "text/markdown": [
       "<div class=\"macros\" style=\"visibility:hidden;\">\n",
       "$\\newcommand{\\ensuremath}{}$\n",
       "$\\newcommand{\\xspace}{}$\n",
       "$\\newcommand{\\object}[1]{\\texttt{#1}}$\n",
       "$\\newcommand{\\farcs}{{.}''}$\n",
       "$\\newcommand{\\farcm}{{.}'}$\n",
       "$\\newcommand{\\arcsec}{''}$\n",
       "$\\newcommand{\\arcmin}{'}$\n",
       "$\\newcommand{\\ion}[2]{#1#2}$\n",
       "$\\newcommand{\\textsc}[1]{\\textrm{#1}}$\n",
       "$\\newcommand{\\hl}[1]{\\textrm{#1}}$\n",
       "$\\newcommand{\\footnote}[1]{}$</div>\n",
       "\n",
       "\n",
       "\n",
       "<div id=\"title\">\n",
       "\n",
       "# Protoplanetary and debris disks in the $\\eta$ Chamaeleontis Association:\n",
       "\n",
       "</div>\n",
       "<div id=\"comments\">\n",
       "\n",
       "[![arXiv](https://img.shields.io/badge/arXiv-2310.02795-b31b1b.svg)](https://arxiv.org/abs/2310.02795)<mark>Appeared on: 2023-10-05</mark> -  _20 pages, 9 figures, 7 tables_\n",
       "\n",
       "</div>\n",
       "<div id=\"authors\">\n",
       "\n",
       "V. Roccatagliata, et al. -- incl., <mark>J. Bouwman</mark>\n",
       "\n",
       "</div>\n",
       "<div id=\"abstract\">\n",
       "\n",
       "**Abstract:** Nearby associations are ideal regions to study coeval samples of protoplanetary and debris disks down to late M-type stars. Those aged 5-10,Myrs, where most of the disk should have already dissipated forming planets, are of particular interest. We present the first complete study of both protoplanetary and debris disks in a young region, using the $\\eta$ Chamaeleontis ( $\\eta$ Cha) association as a test bench to study the cold disk content. We obtained sub-millimeter data for the entire core population down to late M-type stars, plus a few halo members. We performed a continuum sub-millimeter survey with APEX/LABOCA of all the core populations of $\\eta$ Cha association. These data are combined with archival, multi-wavelength photometry to compile a complete spectral energy distribution. Disk properties have been derived by modeling protoplanetary and debris disks using RADMC 2D and DMS, respectively. We compute a lower limit of the disk millimeter fraction, which is then compared to the corresponding disk fraction in the infrared for $\\eta$ Cha. We also revisit and refine the age estimate for the region, using the Gaia eDR3 astrometry and photometry for the core sources. We find that protoplanetary disks in $\\eta$ Cha typically have holes with radii of the order of 0.01 to 0.03 AU, while ring-like emission from the debris disks is located between 20 au and 650 au from the central star. The parallaxes and Gaia eDR3 photometry, in combination with the PARSEC and COLIBRI  isochrones, enable us to confirm an age of $\\eta$ Cha between 7 and 9 Myrs. In general, the disk mass seems insufficient to support accretion over a long time, even for the lowest mass accretors, a clear difference compared with other regions and also a sign that the mass budget is further underestimated. We do not find a correlation between the stellar masses, accretion rates, and disk masses, although this could be due to sample issues (the objects are few and mostly low-mass). We confirm that the presence of inner holes is not enough to stop accretion unless accompanied by dramatic changes to the total disk mass content. Comparing $\\eta$ Cha with other regions at different ages, we find that the physical processes responsible for debris disks (e.g., dust growth, dust trapping) efficiently act in less than 5 Myrs.\n",
       "\n",
       "</div>\n",
       "\n",
       "<div id=\"div_fig1\">\n",
       "\n",
       "<img src=\"tmp_2310.02795/./Sptype_Mdot_2023.png\" alt=\"Fig4.1\" width=\"50%\"/><img src=\"tmp_2310.02795/./Mdot_Mdisk_2023.png\" alt=\"Fig4.2\" width=\"50%\"/>\n",
       "\n",
       "**Figure 4. -** _ Top_: Accretion rate vs spectral type. Note the lack of significant correlations between these quantities. _ Bottom_: Circumstellar dust mass derived according to Eqn. \\ref{mdust-eq} vs. accretion rate.  For comparison, the objects in the list from [Manara, Ansdell and Rosotti (2023)]() are shown in grey. Note that the total disk mass would depend on the gas-to-dust ratio. APEX flux and mass upper limits are marked by inverted triangles. The red line corresponds to the model fitted by [Manara, Rosotti and Testi (2016)](). The accretion rates are taken from the literature (see Table \\ref{macc}). For each object, we show the individual measurements (small symbols) together with the average rate (large symbols). A further color ring is added to specify the type of disk according to the classical SED classification.  (*mdotmdisk-fig*)\n",
       "\n",
       "</div>\n",
       "<div id=\"div_fig2\">\n",
       "\n",
       "<img src=\"tmp_2310.02795/./recx5_sed_models.png\" alt=\"Fig7.1\" width=\"12%\"/><img src=\"tmp_2310.02795/./recx9_sed_models.png\" alt=\"Fig7.2\" width=\"12%\"/><img src=\"tmp_2310.02795/./recx11_sed_models.png\" alt=\"Fig7.3\" width=\"12%\"/><img src=\"tmp_2310.02795/./echa0801_sed_models.png\" alt=\"Fig7.4\" width=\"12%\"/><img src=\"tmp_2310.02795/./echa0820_sed_models.png\" alt=\"Fig7.5\" width=\"12%\"/><img src=\"tmp_2310.02795/./echa0841_sed_models.png\" alt=\"Fig7.6\" width=\"12%\"/><img src=\"tmp_2310.02795/./echa0843_sed_models.png\" alt=\"Fig7.7\" width=\"12%\"/><img src=\"tmp_2310.02795/./echa0844_sed_models.png\" alt=\"Fig7.8\" width=\"12%\"/>\n",
       "\n",
       "**Figure 7. -** SED models for the protoplanetary disks. For all cases, the photometry data is marked by blue circles (empty symbols for marginal detections). Spitzer/IRS spectra are plotted in black. The MARCS model stellar photospheres are marked by dotted grey lines, and the various disk models are represented by colored lines and labeled according to their main characteristics (see Table \\ref{models-table}). RECX-5: A large-scale gap is not needed to reproduce the long wavelengths, which also means that SED alone cannot constrain among many diverse but equally plausible SED structures. RECX-9: A change in vertical scale height at 10-15 au is needed, which could be caused by a gap, wall, warp, or any other structure affecting the density and the scale height probably created by the existing companion at 20 au. RECX-11: Best fit with relatively massive and flattened disks. A more puffed innermost disk (either a puffed-up rim or a more extended $\\sim$0.6 au region) is required, with the disk becoming increasingly flattened and settled at larger radii. J0801 and J0820 appear to be examples of relatively massive transition disks with large, strongly mass-depleted inner holes. ECHA J0841: Very flattened SED. ECHA J0843: Small gap or hole required. For ECHA J0844: Gap and/or change in the vertical scale height needed to explain the far-IR flux.  (*models-fig*)\n",
       "\n",
       "</div>\n",
       "<div id=\"div_fig3\">\n",
       "\n",
       "<img src=\"tmp_2310.02795/./Sptype_apex_2023b.png\" alt=\"Fig1\" width=\"100%\"/>\n",
       "\n",
       "**Figure 1. -** APEX flux versus spectral type for the $\\eta$ Cha members. For comparison, the objects in the list from [Manara, Ansdell and Rosotti (2023)]() are shown in grey, scaled to the distance of $\\eta$ Cha. Note the lack of significant correlations between these quantities. Filled dots represent flux detections, while inverted triangles show upper limits. A further color ring is added to specify the type of disk according to the classical SED classification adopted by [Sicilia-Aguilar, Bouwman and Juhász (2009)](): transitional disks (TD), Class II, and Class III (including the debris disks). RS Cha and $\\eta$ Cha are considered as upper limits due to cloud contamination.\n",
       " (*sptmdisk-fig*)\n",
       "\n",
       "</div><div id=\"qrcode\"><img src=https://api.qrserver.com/v1/create-qr-code/?size=100x100&data=\"https://arxiv.org/abs/2310.02795\"></div>"
      ],
      "text/plain": [
       "<IPython.core.display.Markdown object>"
      ]
     },
     "metadata": {},
     "output_type": "display_data"
    },
    {
     "data": {
      "text/markdown": [
       "<div class=\"macros\" style=\"visibility:hidden;\">\n",
       "$\\newcommand{\\ensuremath}{}$\n",
       "$\\newcommand{\\xspace}{}$\n",
       "$\\newcommand{\\object}[1]{\\texttt{#1}}$\n",
       "$\\newcommand{\\farcs}{{.}''}$\n",
       "$\\newcommand{\\farcm}{{.}'}$\n",
       "$\\newcommand{\\arcsec}{''}$\n",
       "$\\newcommand{\\arcmin}{'}$\n",
       "$\\newcommand{\\ion}[2]{#1#2}$\n",
       "$\\newcommand{\\textsc}[1]{\\textrm{#1}}$\n",
       "$\\newcommand{\\hl}[1]{\\textrm{#1}}$\n",
       "$\\newcommand{\\footnote}[1]{}$\n",
       "$\\newcommand{\\}{natexlab}$</div>\n",
       "\n",
       "\n",
       "\n",
       "<div id=\"title\">\n",
       "\n",
       "# Composition of giant planets: the roles of pebbles and planetesimals\n",
       "\n",
       "</div>\n",
       "<div id=\"comments\">\n",
       "\n",
       "[![arXiv](https://img.shields.io/badge/arXiv-2310.02886-b31b1b.svg)](https://arxiv.org/abs/2310.02886)<mark>Appeared on: 2023-10-05</mark> -  _12 pages, 10 figures, accepted for publication in Astronomy and Astrophysics_\n",
       "\n",
       "</div>\n",
       "<div id=\"authors\">\n",
       "\n",
       "<mark>C. Danti</mark>, B. Bitsch, <mark>J. Mah</mark>\n",
       "\n",
       "</div>\n",
       "<div id=\"abstract\">\n",
       "\n",
       "**Abstract:** One of the current challenges of planet formation theory is to explain the enrichment of observed exoplanetary atmospheres.   While past studies have focused on scenarios where either pebbles or planetesimals are the main drivers of heavy element enrichment, we combine here both approaches to understand whether the composition of a planet can constrain its formation pathway. We study three different formation scenarios: pebble accretion, pebble accretion with planetesimal formation inside the disc, combined pebble and planetesimal accretion.   We use the chemcomp code to perform semi-analytical 1D simulations of protoplanetary discs, including viscous evolution, pebble drift, and simple chemistry to simulate the growth of planets from planetary embryos to gas giants as they migrate through the disc, while simultaneously tracking their composition.   Our simulations confirm that the composition of the planetary atmosphere is dominated by the accretion of gas vapour enriched by inward drifting and evaporating pebbles. Including planetesimal formation hinders this enrichment, because many pebbles are locked into planetesimals and cannot evaporate and enrich the disc. This results in a dramatic drop of the accreted heavy elements both in the planetesimal formation and accretion case, demonstrating that planetesimal formation needs to be inefficient in order to explain planets with high heavy element content.   On the other hand, accretion of planetesimals enhances the refractory component of the atmosphere, leading to low volatile to refractory ratios in the atmosphere, in contrast to the majority of pure pebble simulations. However, low volatile to refractory ratios can also be achieved in the pure pebble accretion scenario, if the planet migrates all the way into the inner disc and accretes gas that is enriched in evaporated refractories.   Distinguishing these two scenarios requires knowledge about the planet's atmospheric C/H and O/H ratios, which are much higher in the pure pebble scenario compared to the planetesimal formation and accretion scenario.   This implies that a detailed knowledge of the composition of planetary atmospheres could help to distinguish between the different formation scenarios.\n",
       "\n",
       "</div>\n",
       "\n",
       "<div id=\"div_fig1\">\n",
       "\n",
       "<img src=\"tmp_2310.02886/./atm_comp_growth_track.png\" alt=\"Fig4\" width=\"100%\"/>\n",
       "\n",
       "**Figure 4. -** Final elemental abundances of the planetary atmospheres (top) and their corresponding growth tracks (bottom) for the three different scenarios of only pebble accretion (left), planetesimal formation (middle) and pebble and planetesimal accretion (right). The horizontal blue line in the first row marks the solar abundance, while the vertical violet lines in the second row show the evaporation fronts of the chemical species included in our model for a disc viscosity of $\\alpha = 5 \\cdot 10^{-4}$.The solid lines of the growth tracks correspond to core formation, while the dotted lines correspond to the gas accretion phase. The different colour codings represent different disc viscosities. (*fig:atm_comp*)\n",
       "\n",
       "</div>\n",
       "<div id=\"div_fig2\">\n",
       "\n",
       "<img src=\"tmp_2310.02886/./mass.png\" alt=\"Fig3\" width=\"100%\"/>\n",
       "\n",
       "**Figure 3. -** Total mass of pebbles and planetesimal and water fraction in the gas in the disc. Left panel: Total mass of pebbles (light blue lines) and planetesimals (dark blue line) in the two scenarios: pebble accretion only (dotted line) and planetesimal formation (solid lines). Central and right panel: Water content in the gaseous phase of the disc with viscosity $\\alpha=10^{-3}$ as a function of radius and time in the case of no planetesimal formation (central panel) and in presence of planetesimal formation (right panel). The vertical violet line marks the water evaporation front in the disc. (*fig:water_disk*)\n",
       "\n",
       "</div>\n",
       "<div id=\"div_fig3\">\n",
       "\n",
       "<img src=\"tmp_2310.02886/./surface_densities_viscosities.png\" alt=\"Fig6\" width=\"100%\"/>\n",
       "\n",
       "**Figure 6. -** Surface densities of gas, pebbles and planetesimals for the disc described in Table \\ref{tab:param_disc} in absence of planets, for different disc viscosities increasing from left to right. The top panel shows the pebble accretion scenario, where planetesimals cannot form, the bottom panel shows what happens, instead, when planetesimal formation is involved. (*fig:surface_density*)\n",
       "\n",
       "</div><div id=\"qrcode\"><img src=https://api.qrserver.com/v1/create-qr-code/?size=100x100&data=\"https://arxiv.org/abs/2310.02886\"></div>"
      ],
      "text/plain": [
       "<IPython.core.display.Markdown object>"
      ]
     },
     "metadata": {},
     "output_type": "display_data"
    }
   ],
   "source": [
    "[display(Markdown(k[1])) for k in documents];"
   ]
  },
  {
   "cell_type": "markdown",
   "id": "873873a4",
   "metadata": {
    "papermill": {
     "duration": 0.005433,
     "end_time": "2023-10-05T04:06:24.553165",
     "exception": false,
     "start_time": "2023-10-05T04:06:24.547732",
     "status": "completed"
    },
    "tags": []
   },
   "source": [
    "# Create HTML index"
   ]
  },
  {
   "cell_type": "code",
   "execution_count": 9,
   "id": "cf665672",
   "metadata": {
    "execution": {
     "iopub.execute_input": "2023-10-05T04:06:24.565532Z",
     "iopub.status.busy": "2023-10-05T04:06:24.564943Z",
     "iopub.status.idle": "2023-10-05T04:06:24.574983Z",
     "shell.execute_reply": "2023-10-05T04:06:24.574327Z"
    },
    "papermill": {
     "duration": 0.017813,
     "end_time": "2023-10-05T04:06:24.576431",
     "exception": false,
     "start_time": "2023-10-05T04:06:24.558618",
     "status": "completed"
    },
    "tags": []
   },
   "outputs": [
    {
     "name": "stdout",
     "output_type": "stream",
     "text": [
      "288  publications files modified in the last 7 days.\n"
     ]
    }
   ],
   "source": [
    "from datetime import datetime, timedelta, timezone\n",
    "from glob import glob\n",
    "import os\n",
    "\n",
    "files = glob('_build/html/*.md')\n",
    "days = 7\n",
    "now = datetime.today()\n",
    "res = []\n",
    "for fk in files:\n",
    "    stat_result = os.stat(fk).st_ctime\n",
    "    modified = datetime.fromtimestamp(stat_result, tz=timezone.utc).replace(tzinfo=None)\n",
    "    delta = now.today() - modified\n",
    "    if delta <= timedelta(days=days):\n",
    "        res.append((delta.seconds, fk))\n",
    "res = [k[1] for k in reversed(sorted(res, key=lambda x:x[1]))]\n",
    "npub = len(res)\n",
    "print(len(res), f\" publications files modified in the last {days:d} days.\")\n",
    "# [ print('\\t', k) for k in res ];"
   ]
  },
  {
   "cell_type": "code",
   "execution_count": 10,
   "id": "015de740",
   "metadata": {
    "execution": {
     "iopub.execute_input": "2023-10-05T04:06:24.588841Z",
     "iopub.status.busy": "2023-10-05T04:06:24.588425Z",
     "iopub.status.idle": "2023-10-05T04:06:24.609181Z",
     "shell.execute_reply": "2023-10-05T04:06:24.608530Z"
    },
    "papermill": {
     "duration": 0.028753,
     "end_time": "2023-10-05T04:06:24.610732",
     "exception": false,
     "start_time": "2023-10-05T04:06:24.581979",
     "status": "completed"
    },
    "tags": []
   },
   "outputs": [
    {
     "name": "stdout",
     "output_type": "stream",
     "text": [
      "9  publications in the last 7 days.\n"
     ]
    }
   ],
   "source": [
    "import datetime\n",
    "from glob import glob\n",
    "\n",
    "def get_last_n_days(lst, days=1):\n",
    "    \"\"\" Get the documents from the last n days \"\"\"\n",
    "    sorted_lst = sorted(lst, key=lambda x: x[1], reverse=True)\n",
    "    for fname, date in sorted_lst:\n",
    "        if date >= str(datetime.date.today() - datetime.timedelta(days=days)):\n",
    "            yield fname\n",
    "\n",
    "def extract_appearance_dates(lst_file):\n",
    "    dates = []\n",
    "\n",
    "    def get_date(line):\n",
    "        return line\\\n",
    "            .split('Appeared on:')[-1]\\\n",
    "            .split('</mark>')[0].strip()\n",
    "\n",
    "    for fname in lst:\n",
    "        with open(fname, 'r') as f:\n",
    "            found_date = False\n",
    "            for line in f:\n",
    "                if not found_date:\n",
    "                    if \"Appeared on\" in line:\n",
    "                        found_date = True\n",
    "                        dates.append((fname, get_date(line)))\n",
    "                else:\n",
    "                    break\n",
    "    return dates\n",
    "\n",
    "from glob import glob\n",
    "lst = glob('_build/html/*md')\n",
    "days = 7\n",
    "dates = extract_appearance_dates(lst)\n",
    "res = list(get_last_n_days(dates, days))\n",
    "npub = len(res)\n",
    "print(len(res), f\" publications in the last {days:d} days.\")"
   ]
  },
  {
   "cell_type": "code",
   "execution_count": 11,
   "id": "52ca0208",
   "metadata": {
    "execution": {
     "iopub.execute_input": "2023-10-05T04:06:24.623630Z",
     "iopub.status.busy": "2023-10-05T04:06:24.623173Z",
     "iopub.status.idle": "2023-10-05T04:06:24.628909Z",
     "shell.execute_reply": "2023-10-05T04:06:24.628244Z"
    },
    "papermill": {
     "duration": 0.013946,
     "end_time": "2023-10-05T04:06:24.630430",
     "exception": false,
     "start_time": "2023-10-05T04:06:24.616484",
     "status": "completed"
    },
    "scrolled": false,
    "tags": []
   },
   "outputs": [],
   "source": [
    "def create_carousel(npub=4):\n",
    "    \"\"\" Generate the HTML code for a carousel with `npub` slides \"\"\"\n",
    "    carousel = [\"\"\"  <div class=\"carousel\" \"\"\",\n",
    "                \"\"\"       data-flickity='{ \"autoPlay\": 10000, \"adaptiveHeight\": true, \"resize\": true, \"wrapAround\": true, \"pauseAutoPlayOnHover\": true, \"groupCells\": 1 }' id=\"asyncTypeset\">\"\"\"\n",
    "                ]\n",
    "    \n",
    "    item_str = \"\"\"    <div class=\"carousel-cell\"> <div id=\"slide{k}\" class=\"md_view\">Content {k}</div> </div>\"\"\"\n",
    "    for k in range(1, npub + 1):\n",
    "        carousel.append(item_str.format(k=k))\n",
    "    carousel.append(\"  </div>\")\n",
    "    return '\\n'.join(carousel)\n",
    "\n",
    "def create_grid(npub=4):\n",
    "    \"\"\" Generate the HTML code for a flat grid with `npub` slides \"\"\"\n",
    "    grid = [\"\"\"  <div class=\"grid\"> \"\"\",\n",
    "                ]\n",
    "    \n",
    "    item_str = \"\"\"    <div class=\"grid-item\"> <div id=\"slide{k}\" class=\"md_view\">Content {k}</div> </div>\"\"\"\n",
    "    for k in range(1, npub + 1):\n",
    "        grid.append(item_str.format(k=k))\n",
    "    grid.append(\"  </div>\")\n",
    "    return '\\n'.join(grid)"
   ]
  },
  {
   "cell_type": "code",
   "execution_count": 12,
   "id": "a6eac5b6",
   "metadata": {
    "execution": {
     "iopub.execute_input": "2023-10-05T04:06:24.643153Z",
     "iopub.status.busy": "2023-10-05T04:06:24.642715Z",
     "iopub.status.idle": "2023-10-05T04:06:24.648337Z",
     "shell.execute_reply": "2023-10-05T04:06:24.647678Z"
    },
    "papermill": {
     "duration": 0.013657,
     "end_time": "2023-10-05T04:06:24.649773",
     "exception": false,
     "start_time": "2023-10-05T04:06:24.636116",
     "status": "completed"
    },
    "scrolled": false,
    "tags": []
   },
   "outputs": [],
   "source": [
    "carousel = create_carousel(npub)\n",
    "docs = ', '.join(['\"{0:s}\"'.format(k.split('/')[-1]) for k in res])\n",
    "slides = ', '.join([f'\"slide{k}\"' for k in range(1, npub + 1)])\n",
    "\n",
    "with open(\"daily_template.html\", \"r\") as tpl:\n",
    "    page = tpl.read()\n",
    "    page = page.replace(\"{%-- carousel:s --%}\", carousel)\\\n",
    "               .replace(\"{%-- suptitle:s --%}\",  \"7-day archives\" )\\\n",
    "               .replace(\"{%-- docs:s --%}\", docs)\\\n",
    "               .replace(\"{%-- slides:s --%}\", slides)\n",
    "    \n",
    "with open(\"_build/html/index_7days.html\", 'w') as fout:\n",
    "    fout.write(page)"
   ]
  },
  {
   "cell_type": "code",
   "execution_count": 13,
   "id": "adc1a1ec",
   "metadata": {
    "execution": {
     "iopub.execute_input": "2023-10-05T04:06:24.662810Z",
     "iopub.status.busy": "2023-10-05T04:06:24.662378Z",
     "iopub.status.idle": "2023-10-05T04:06:24.669938Z",
     "shell.execute_reply": "2023-10-05T04:06:24.669283Z"
    },
    "papermill": {
     "duration": 0.015771,
     "end_time": "2023-10-05T04:06:24.671515",
     "exception": false,
     "start_time": "2023-10-05T04:06:24.655744",
     "status": "completed"
    },
    "tags": []
   },
   "outputs": [
    {
     "name": "stdout",
     "output_type": "stream",
     "text": [
      "3  publications in the last day.\n"
     ]
    }
   ],
   "source": [
    "# redo for today\n",
    "days = 1\n",
    "res = list(get_last_n_days(dates, days))\n",
    "npub = len(res)\n",
    "print(len(res), f\" publications in the last day.\")\n",
    "\n",
    "carousel = create_carousel(npub)\n",
    "docs = ', '.join(['\"{0:s}\"'.format(k.split('/')[-1]) for k in res])\n",
    "slides = ', '.join([f'\"slide{k}\"' for k in range(1, npub + 1)])\n",
    "\n",
    "with open(\"daily_template.html\", \"r\") as tpl:\n",
    "    page = tpl.read()\n",
    "    page = page.replace(\"{%-- carousel:s --%}\", carousel)\\\n",
    "               .replace(\"{%-- suptitle:s --%}\",  \"Daily\" )\\\n",
    "               .replace(\"{%-- docs:s --%}\", docs)\\\n",
    "               .replace(\"{%-- slides:s --%}\", slides)\n",
    "    \n",
    "# print(carousel, docs, slides)\n",
    "# print(page)\n",
    "with open(\"_build/html/index_daily.html\", 'w') as fout:\n",
    "    fout.write(page)"
   ]
  },
  {
   "cell_type": "code",
   "execution_count": 14,
   "id": "00eece82",
   "metadata": {
    "execution": {
     "iopub.execute_input": "2023-10-05T04:06:24.684342Z",
     "iopub.status.busy": "2023-10-05T04:06:24.683921Z",
     "iopub.status.idle": "2023-10-05T04:06:24.690869Z",
     "shell.execute_reply": "2023-10-05T04:06:24.690238Z"
    },
    "papermill": {
     "duration": 0.015101,
     "end_time": "2023-10-05T04:06:24.692412",
     "exception": false,
     "start_time": "2023-10-05T04:06:24.677311",
     "status": "completed"
    },
    "scrolled": false,
    "tags": []
   },
   "outputs": [
    {
     "name": "stdout",
     "output_type": "stream",
     "text": [
      "6  6 publications selected.\n"
     ]
    }
   ],
   "source": [
    "# Create the flat grid of the last N papers (fixed number regardless of dates)\n",
    "from itertools import islice \n",
    "\n",
    "npub = 6\n",
    "res = [k[0] for k in (islice(reversed(sorted(dates, key=lambda x: x[1])), 6))]\n",
    "print(len(res), f\" {npub} publications selected.\")\n",
    "\n",
    "grid = create_grid(npub)\n",
    "docs = ', '.join(['\"{0:s}\"'.format(k.split('/')[-1]) for k in res])\n",
    "slides = ', '.join([f'\"slide{k}\"' for k in range(1, npub + 1)])\n",
    "\n",
    "with open(\"grid_template.html\", \"r\") as tpl:\n",
    "    page = tpl.read()\n",
    "    page = page.replace(\"{%-- grid-content:s --%}\", grid)\\\n",
    "               .replace(\"{%-- suptitle:s --%}\",  f\"Last {npub:,d} papers\" )\\\n",
    "               .replace(\"{%-- docs:s --%}\", docs)\\\n",
    "               .replace(\"{%-- slides:s --%}\", slides)\n",
    "    \n",
    "# print(grid, docs, slides)\n",
    "# print(page)\n",
    "with open(\"_build/html/index_npub_grid.html\", 'w') as fout:\n",
    "    fout.write(page)"
   ]
  }
 ],
 "metadata": {
  "kernelspec": {
   "display_name": "Python 3 (ipykernel)",
   "language": "python",
   "name": "python3"
  },
  "language_info": {
   "codemirror_mode": {
    "name": "ipython",
    "version": 3
   },
   "file_extension": ".py",
   "mimetype": "text/x-python",
   "name": "python",
   "nbconvert_exporter": "python",
   "pygments_lexer": "ipython3",
   "version": "3.9.18"
  },
  "papermill": {
   "default_parameters": {},
   "duration": 62.872106,
   "end_time": "2023-10-05T04:06:24.916982",
   "environment_variables": {},
   "exception": null,
   "input_path": "MPIA daily digest.ipynb",
   "output_path": "log.ipynb",
   "parameters": {},
   "start_time": "2023-10-05T04:05:22.044876",
   "version": "2.4.0"
  },
  "vscode": {
   "interpreter": {
    "hash": "aee8b7b246df8f9039afb4144a1f6fd8d2ca17a180786b69acc140d282b71a49"
   }
  },
  "widgets": {
   "application/vnd.jupyter.widget-state+json": {
    "state": {
     "14e3290ba8c34c98814d76131d874b92": {
      "model_module": "@jupyter-widgets/controls",
      "model_module_version": "2.0.0",
      "model_name": "HTMLModel",
      "state": {
       "_dom_classes": [],
       "_model_module": "@jupyter-widgets/controls",
       "_model_module_version": "2.0.0",
       "_model_name": "HTMLModel",
       "_view_count": null,
       "_view_module": "@jupyter-widgets/controls",
       "_view_module_version": "2.0.0",
       "_view_name": "HTMLView",
       "description": "",
       "description_allow_html": false,
       "layout": "IPY_MODEL_2e343f4a2cc04cb39fd101cdeb437765",
       "placeholder": "​",
       "style": "IPY_MODEL_8fc204c39a4f4dd3b366081297f2ce24",
       "tabbable": null,
       "tooltip": null,
       "value": " 2/2 [00:37&lt;00:00, 18.75s/it]"
      }
     },
     "2e343f4a2cc04cb39fd101cdeb437765": {
      "model_module": "@jupyter-widgets/base",
      "model_module_version": "2.0.0",
      "model_name": "LayoutModel",
      "state": {
       "_model_module": "@jupyter-widgets/base",
       "_model_module_version": "2.0.0",
       "_model_name": "LayoutModel",
       "_view_count": null,
       "_view_module": "@jupyter-widgets/base",
       "_view_module_version": "2.0.0",
       "_view_name": "LayoutView",
       "align_content": null,
       "align_items": null,
       "align_self": null,
       "border_bottom": null,
       "border_left": null,
       "border_right": null,
       "border_top": null,
       "bottom": null,
       "display": null,
       "flex": null,
       "flex_flow": null,
       "grid_area": null,
       "grid_auto_columns": null,
       "grid_auto_flow": null,
       "grid_auto_rows": null,
       "grid_column": null,
       "grid_gap": null,
       "grid_row": null,
       "grid_template_areas": null,
       "grid_template_columns": null,
       "grid_template_rows": null,
       "height": null,
       "justify_content": null,
       "justify_items": null,
       "left": null,
       "margin": null,
       "max_height": null,
       "max_width": null,
       "min_height": null,
       "min_width": null,
       "object_fit": null,
       "object_position": null,
       "order": null,
       "overflow": null,
       "padding": null,
       "right": null,
       "top": null,
       "visibility": null,
       "width": null
      }
     },
     "31a8b7e6121a4e32a364db06e4efee4f": {
      "model_module": "@jupyter-widgets/base",
      "model_module_version": "2.0.0",
      "model_name": "LayoutModel",
      "state": {
       "_model_module": "@jupyter-widgets/base",
       "_model_module_version": "2.0.0",
       "_model_name": "LayoutModel",
       "_view_count": null,
       "_view_module": "@jupyter-widgets/base",
       "_view_module_version": "2.0.0",
       "_view_name": "LayoutView",
       "align_content": null,
       "align_items": null,
       "align_self": null,
       "border_bottom": null,
       "border_left": null,
       "border_right": null,
       "border_top": null,
       "bottom": null,
       "display": null,
       "flex": null,
       "flex_flow": null,
       "grid_area": null,
       "grid_auto_columns": null,
       "grid_auto_flow": null,
       "grid_auto_rows": null,
       "grid_column": null,
       "grid_gap": null,
       "grid_row": null,
       "grid_template_areas": null,
       "grid_template_columns": null,
       "grid_template_rows": null,
       "height": null,
       "justify_content": null,
       "justify_items": null,
       "left": null,
       "margin": null,
       "max_height": null,
       "max_width": null,
       "min_height": null,
       "min_width": null,
       "object_fit": null,
       "object_position": null,
       "order": null,
       "overflow": null,
       "padding": null,
       "right": null,
       "top": null,
       "visibility": null,
       "width": null
      }
     },
     "7681f838b24e4d5597b003820efdef6f": {
      "model_module": "@jupyter-widgets/controls",
      "model_module_version": "2.0.0",
      "model_name": "HTMLStyleModel",
      "state": {
       "_model_module": "@jupyter-widgets/controls",
       "_model_module_version": "2.0.0",
       "_model_name": "HTMLStyleModel",
       "_view_count": null,
       "_view_module": "@jupyter-widgets/base",
       "_view_module_version": "2.0.0",
       "_view_name": "StyleView",
       "background": null,
       "description_width": "",
       "font_size": null,
       "text_color": null
      }
     },
     "7c30283d9d74477fa08372deb06cbf09": {
      "model_module": "@jupyter-widgets/base",
      "model_module_version": "2.0.0",
      "model_name": "LayoutModel",
      "state": {
       "_model_module": "@jupyter-widgets/base",
       "_model_module_version": "2.0.0",
       "_model_name": "LayoutModel",
       "_view_count": null,
       "_view_module": "@jupyter-widgets/base",
       "_view_module_version": "2.0.0",
       "_view_name": "LayoutView",
       "align_content": null,
       "align_items": null,
       "align_self": null,
       "border_bottom": null,
       "border_left": null,
       "border_right": null,
       "border_top": null,
       "bottom": null,
       "display": null,
       "flex": null,
       "flex_flow": null,
       "grid_area": null,
       "grid_auto_columns": null,
       "grid_auto_flow": null,
       "grid_auto_rows": null,
       "grid_column": null,
       "grid_gap": null,
       "grid_row": null,
       "grid_template_areas": null,
       "grid_template_columns": null,
       "grid_template_rows": null,
       "height": null,
       "justify_content": null,
       "justify_items": null,
       "left": null,
       "margin": null,
       "max_height": null,
       "max_width": null,
       "min_height": null,
       "min_width": null,
       "object_fit": null,
       "object_position": null,
       "order": null,
       "overflow": null,
       "padding": null,
       "right": null,
       "top": null,
       "visibility": null,
       "width": null
      }
     },
     "826b4b4f7dda4491a67de6895418bb3e": {
      "model_module": "@jupyter-widgets/controls",
      "model_module_version": "2.0.0",
      "model_name": "FloatProgressModel",
      "state": {
       "_dom_classes": [],
       "_model_module": "@jupyter-widgets/controls",
       "_model_module_version": "2.0.0",
       "_model_name": "FloatProgressModel",
       "_view_count": null,
       "_view_module": "@jupyter-widgets/controls",
       "_view_module_version": "2.0.0",
       "_view_name": "ProgressView",
       "bar_style": "success",
       "description": "",
       "description_allow_html": false,
       "layout": "IPY_MODEL_31a8b7e6121a4e32a364db06e4efee4f",
       "max": 2.0,
       "min": 0.0,
       "orientation": "horizontal",
       "style": "IPY_MODEL_a56787ff4eab437eb9ceb98f0c2c0810",
       "tabbable": null,
       "tooltip": null,
       "value": 2.0
      }
     },
     "8fc204c39a4f4dd3b366081297f2ce24": {
      "model_module": "@jupyter-widgets/controls",
      "model_module_version": "2.0.0",
      "model_name": "HTMLStyleModel",
      "state": {
       "_model_module": "@jupyter-widgets/controls",
       "_model_module_version": "2.0.0",
       "_model_name": "HTMLStyleModel",
       "_view_count": null,
       "_view_module": "@jupyter-widgets/base",
       "_view_module_version": "2.0.0",
       "_view_name": "StyleView",
       "background": null,
       "description_width": "",
       "font_size": null,
       "text_color": null
      }
     },
     "90634620baad42fd8e30baceff968442": {
      "model_module": "@jupyter-widgets/base",
      "model_module_version": "2.0.0",
      "model_name": "LayoutModel",
      "state": {
       "_model_module": "@jupyter-widgets/base",
       "_model_module_version": "2.0.0",
       "_model_name": "LayoutModel",
       "_view_count": null,
       "_view_module": "@jupyter-widgets/base",
       "_view_module_version": "2.0.0",
       "_view_name": "LayoutView",
       "align_content": null,
       "align_items": null,
       "align_self": null,
       "border_bottom": null,
       "border_left": null,
       "border_right": null,
       "border_top": null,
       "bottom": null,
       "display": null,
       "flex": null,
       "flex_flow": null,
       "grid_area": null,
       "grid_auto_columns": null,
       "grid_auto_flow": null,
       "grid_auto_rows": null,
       "grid_column": null,
       "grid_gap": null,
       "grid_row": null,
       "grid_template_areas": null,
       "grid_template_columns": null,
       "grid_template_rows": null,
       "height": null,
       "justify_content": null,
       "justify_items": null,
       "left": null,
       "margin": null,
       "max_height": null,
       "max_width": null,
       "min_height": null,
       "min_width": null,
       "object_fit": null,
       "object_position": null,
       "order": null,
       "overflow": null,
       "padding": null,
       "right": null,
       "top": null,
       "visibility": null,
       "width": null
      }
     },
     "a06abcefe4b44caca0d588f38292e3b1": {
      "model_module": "@jupyter-widgets/controls",
      "model_module_version": "2.0.0",
      "model_name": "HTMLModel",
      "state": {
       "_dom_classes": [],
       "_model_module": "@jupyter-widgets/controls",
       "_model_module_version": "2.0.0",
       "_model_name": "HTMLModel",
       "_view_count": null,
       "_view_module": "@jupyter-widgets/controls",
       "_view_module_version": "2.0.0",
       "_view_name": "HTMLView",
       "description": "",
       "description_allow_html": false,
       "layout": "IPY_MODEL_7c30283d9d74477fa08372deb06cbf09",
       "placeholder": "​",
       "style": "IPY_MODEL_7681f838b24e4d5597b003820efdef6f",
       "tabbable": null,
       "tooltip": null,
       "value": "100%"
      }
     },
     "a56787ff4eab437eb9ceb98f0c2c0810": {
      "model_module": "@jupyter-widgets/controls",
      "model_module_version": "2.0.0",
      "model_name": "ProgressStyleModel",
      "state": {
       "_model_module": "@jupyter-widgets/controls",
       "_model_module_version": "2.0.0",
       "_model_name": "ProgressStyleModel",
       "_view_count": null,
       "_view_module": "@jupyter-widgets/base",
       "_view_module_version": "2.0.0",
       "_view_name": "StyleView",
       "bar_color": null,
       "description_width": ""
      }
     },
     "b0562c491584476a90fc4cde57afe668": {
      "model_module": "@jupyter-widgets/controls",
      "model_module_version": "2.0.0",
      "model_name": "HBoxModel",
      "state": {
       "_dom_classes": [],
       "_model_module": "@jupyter-widgets/controls",
       "_model_module_version": "2.0.0",
       "_model_name": "HBoxModel",
       "_view_count": null,
       "_view_module": "@jupyter-widgets/controls",
       "_view_module_version": "2.0.0",
       "_view_name": "HBoxView",
       "box_style": "",
       "children": [
        "IPY_MODEL_a06abcefe4b44caca0d588f38292e3b1",
        "IPY_MODEL_826b4b4f7dda4491a67de6895418bb3e",
        "IPY_MODEL_14e3290ba8c34c98814d76131d874b92"
       ],
       "layout": "IPY_MODEL_90634620baad42fd8e30baceff968442",
       "tabbable": null,
       "tooltip": null
      }
     }
    },
    "version_major": 2,
    "version_minor": 0
   }
  }
 },
 "nbformat": 4,
 "nbformat_minor": 5
}