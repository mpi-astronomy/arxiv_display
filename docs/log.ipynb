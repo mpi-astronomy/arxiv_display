{
 "cells": [
  {
   "cell_type": "markdown",
   "id": "92bcb855",
   "metadata": {
    "papermill": {
     "duration": 0.009296,
     "end_time": "2023-06-27T04:08:15.113748",
     "exception": false,
     "start_time": "2023-06-27T04:08:15.104452",
     "status": "completed"
    },
    "tags": []
   },
   "source": [
    "# MPIA Arxiv on Deck 2\n",
    "\n",
    "Contains the steps to produce the paper extractions."
   ]
  },
  {
   "cell_type": "code",
   "execution_count": 1,
   "id": "3a0d6e11",
   "metadata": {
    "execution": {
     "iopub.execute_input": "2023-06-27T04:08:15.124064Z",
     "iopub.status.busy": "2023-06-27T04:08:15.123412Z",
     "iopub.status.idle": "2023-06-27T04:08:15.372418Z",
     "shell.execute_reply": "2023-06-27T04:08:15.371490Z"
    },
    "papermill": {
     "duration": 0.258109,
     "end_time": "2023-06-27T04:08:15.375770",
     "exception": false,
     "start_time": "2023-06-27T04:08:15.117661",
     "status": "completed"
    },
    "tags": []
   },
   "outputs": [],
   "source": [
    "# Imports\n",
    "import os\n",
    "from IPython.display import Markdown, display\n",
    "from tqdm.notebook import tqdm\n",
    "import warnings\n",
    "from PIL import Image \n",
    "\n",
    "# requires arxiv_on_deck_2\n",
    "\n",
    "from arxiv_on_deck_2.arxiv2 import (get_new_papers, \n",
    "                                    get_paper_from_identifier,\n",
    "                                    retrieve_document_source, \n",
    "                                    get_markdown_badge)\n",
    "from arxiv_on_deck_2 import (latex,\n",
    "                             latex_bib,\n",
    "                             mpia,\n",
    "                             highlight_authors_in_list)\n",
    "\n",
    "# Sometimes images are really big\n",
    "Image.MAX_IMAGE_PIXELS = 1000000000 "
   ]
  },
  {
   "cell_type": "code",
   "execution_count": 2,
   "id": "22aa9d44",
   "metadata": {
    "execution": {
     "iopub.execute_input": "2023-06-27T04:08:15.386126Z",
     "iopub.status.busy": "2023-06-27T04:08:15.385447Z",
     "iopub.status.idle": "2023-06-27T04:08:15.391898Z",
     "shell.execute_reply": "2023-06-27T04:08:15.391180Z"
    },
    "papermill": {
     "duration": 0.013244,
     "end_time": "2023-06-27T04:08:15.393627",
     "exception": false,
     "start_time": "2023-06-27T04:08:15.380383",
     "status": "completed"
    },
    "tags": []
   },
   "outputs": [],
   "source": [
    "# Some useful definitions.\n",
    "\n",
    "class AffiliationWarning(UserWarning):\n",
    "    pass\n",
    "\n",
    "class AffiliationError(RuntimeError):\n",
    "    pass\n",
    "\n",
    "def validation(source: str):\n",
    "    \"\"\"Raises error paper during parsing of source file\n",
    "    \n",
    "    Allows checks before parsing TeX code.\n",
    "    \n",
    "    Raises AffiliationWarning\n",
    "    \"\"\"\n",
    "    check = mpia.affiliation_verifications(source, verbose=True)\n",
    "    if check is not True:\n",
    "        raise AffiliationError(\"mpia.affiliation_verifications: \" + check)\n",
    "\n",
    "        \n",
    "warnings.simplefilter('always', AffiliationWarning)\n",
    "\n",
    "\n",
    "def get_markdown_qrcode(paper_id: str):\n",
    "    \"\"\" Generate a qrcode to the arxiv page using qrserver.com\n",
    "    \n",
    "    :param paper: Arxiv paper\n",
    "    :returns: markdown text\n",
    "    \"\"\"\n",
    "    url = r\"https://api.qrserver.com/v1/create-qr-code/?size=100x100&data=\"\n",
    "    txt = f\"\"\"<img src={url}\"https://arxiv.org/abs/{paper_id}\">\"\"\"\n",
    "    txt = '<div id=\"qrcode\">' + txt + '</div>'\n",
    "    return txt"
   ]
  },
  {
   "cell_type": "markdown",
   "id": "14bd6310",
   "metadata": {
    "papermill": {
     "duration": 0.003925,
     "end_time": "2023-06-27T04:08:15.401694",
     "exception": false,
     "start_time": "2023-06-27T04:08:15.397769",
     "status": "completed"
    },
    "tags": []
   },
   "source": [
    "## get list of arxiv paper candidates\n",
    "\n",
    "We use the MPIA mitarbeiter list webpage from mpia.de to get author names\n",
    "We then get all new papers from Arxiv and match authors"
   ]
  },
  {
   "cell_type": "code",
   "execution_count": 3,
   "id": "2645e73a",
   "metadata": {
    "execution": {
     "iopub.execute_input": "2023-06-27T04:08:15.411613Z",
     "iopub.status.busy": "2023-06-27T04:08:15.410915Z",
     "iopub.status.idle": "2023-06-27T04:08:36.362235Z",
     "shell.execute_reply": "2023-06-27T04:08:36.361555Z"
    },
    "papermill": {
     "duration": 20.958599,
     "end_time": "2023-06-27T04:08:36.364376",
     "exception": false,
     "start_time": "2023-06-27T04:08:15.405777",
     "status": "completed"
    },
    "tags": []
   },
   "outputs": [
    {
     "name": "stdout",
     "output_type": "stream",
     "text": [
      "J. Lian  ->  J. Lian  |  ['J. Lian']\n",
      "M. Bergemann  ->  M. Bergemann  |  ['M. Bergemann']\n",
      "A. Pillepich  ->  A. Pillepich  |  ['A. Pillepich']\n",
      "X. Zhang  ->  X. Zhang  |  ['X. Zhang']\n",
      "Arxiv has 57 new papers today\n",
      "          3 with possible author matches\n"
     ]
    }
   ],
   "source": [
    "# get list from MPIA website\n",
    "# it automatically filters identified non-scientists :func:`mpia.filter_non_scientists`\n",
    "mpia_authors = mpia.get_mpia_mitarbeiter_list()\n",
    "normed_mpia_authors = [k[1] for k in mpia_authors]   # initials + fullname\n",
    "new_papers = get_new_papers()\n",
    "# add manual references\n",
    "add_paper_refs = []\n",
    "new_papers.extend([get_paper_from_identifier(k) for k in add_paper_refs])\n",
    "\n",
    "candidates = []\n",
    "for paperk in new_papers:\n",
    "    # Check author list with their initials\n",
    "    normed_author_list = [mpia.get_initials(k) for k in paperk['authors']]\n",
    "    hl_authors = highlight_authors_in_list(normed_author_list, normed_mpia_authors, verbose=True)\n",
    "    matches = [(hl, orig) for hl, orig in zip(hl_authors, paperk['authors']) if 'mark' in hl]\n",
    "    paperk['authors'] = hl_authors\n",
    "    if matches:\n",
    "        # only select paper if an author matched our list\n",
    "        candidates.append(paperk)\n",
    "print(\"\"\"Arxiv has {0:,d} new papers today\"\"\".format(len(new_papers)))        \n",
    "print(\"\"\"          {0:,d} with possible author matches\"\"\".format(len(candidates)))"
   ]
  },
  {
   "cell_type": "markdown",
   "id": "3543b34a",
   "metadata": {
    "papermill": {
     "duration": 0.003969,
     "end_time": "2023-06-27T04:08:36.372511",
     "exception": false,
     "start_time": "2023-06-27T04:08:36.368542",
     "status": "completed"
    },
    "tags": []
   },
   "source": [
    "# Parse sources and generate relevant outputs\n",
    "\n",
    "From the candidates, we do the following steps:\n",
    "* get their tarball from ArXiv (and extract data)\n",
    "* find the main .tex file: find one with \\documentclass{...} (sometimes it's non trivial)\n",
    "* Check affiliations with :func:`validation`, which uses :func:`mpia.affiliation_verifications`\n",
    "* If passing the affiliations: we parse the .tex source\n",
    "   * inject sub-documents into the main (flatten the main document)\n",
    "   * parse structure, extract information (title, abstract, authors, figures...)\n",
    "   * handles `\\graphicspath` if provided\n",
    "* Generate the .md document."
   ]
  },
  {
   "cell_type": "code",
   "execution_count": 4,
   "id": "9576b79e",
   "metadata": {
    "execution": {
     "iopub.execute_input": "2023-06-27T04:08:36.381981Z",
     "iopub.status.busy": "2023-06-27T04:08:36.381515Z",
     "iopub.status.idle": "2023-06-27T04:08:43.583190Z",
     "shell.execute_reply": "2023-06-27T04:08:43.582076Z"
    },
    "papermill": {
     "duration": 7.208843,
     "end_time": "2023-06-27T04:08:43.585344",
     "exception": false,
     "start_time": "2023-06-27T04:08:36.376501",
     "status": "completed"
    },
    "scrolled": false,
    "tags": []
   },
   "outputs": [
    {
     "data": {
      "application/vnd.jupyter.widget-view+json": {
       "model_id": "6ace6a2ffbb7434082fe699beaffc90e",
       "version_major": 2,
       "version_minor": 0
      },
      "text/plain": [
       "  0%|          | 0/2 [00:00<?, ?it/s]"
      ]
     },
     "metadata": {},
     "output_type": "display_data"
    },
    {
     "name": "stdout",
     "output_type": "stream",
     "text": [
      "Retrieving document from  https://arxiv.org/e-print/2306.13792\n"
     ]
    },
    {
     "name": "stdout",
     "output_type": "stream",
     "text": [
      "extracting tarball to tmp_2306.13792..."
     ]
    },
    {
     "name": "stdout",
     "output_type": "stream",
     "text": [
      " done.\n",
      "Retrieving document from  https://arxiv.org/e-print/2306.14100\n"
     ]
    },
    {
     "name": "stderr",
     "output_type": "stream",
     "text": [
      "/opt/hostedtoolcache/Python/3.9.17/x64/lib/python3.9/site-packages/IPython/core/interactiveshell.py:3508: LatexWarning: Multiple tex files.\n",
      "\n",
      "  exec(code_obj, self.user_global_ns, self.user_ns)\n",
      "/opt/hostedtoolcache/Python/3.9.17/x64/lib/python3.9/site-packages/IPython/core/interactiveshell.py:3508: LatexWarning: Found documentclass in tmp_2306.13792/main.tex\n",
      "\n",
      "  exec(code_obj, self.user_global_ns, self.user_ns)\n"
     ]
    },
    {
     "name": "stdout",
     "output_type": "stream",
     "text": [
      "extracting tarball to tmp_2306.14100... done.\n"
     ]
    },
    {
     "name": "stderr",
     "output_type": "stream",
     "text": [
      "/opt/hostedtoolcache/Python/3.9.17/x64/lib/python3.9/site-packages/arxiv_on_deck_2/latex.py:730: LatexWarning: Could not extract abstract from tmp_2306.14100/main-NA.tex\n",
      "  warnings.warn(LatexWarning(f\"Could not extract abstract from {self.main_file}\"))\n"
     ]
    },
    {
     "name": "stdout",
     "output_type": "stream",
     "text": [
      "list index out of range\n"
     ]
    }
   ],
   "source": [
    "documents = []\n",
    "failed = []\n",
    "for paper in tqdm(candidates[:-1]):\n",
    "    paper_id = paper['identifier'].lower().replace('arxiv:', '')\n",
    "    \n",
    "    folder = f'tmp_{paper_id}'\n",
    "\n",
    "    try:\n",
    "        if not os.path.isdir(folder):\n",
    "            folder = retrieve_document_source(f\"{paper_id}\", f'tmp_{paper_id}')\n",
    "        \n",
    "        try:\n",
    "            doc = latex.LatexDocument(folder, validation=validation)    \n",
    "        except AffiliationError as affilerror:\n",
    "            msg = f\"ArXiv:{paper_id:s} is not an MPIA paper... \" + str(affilerror)\n",
    "            failed.append((paper, \"affiliation error: \" + str(affilerror) ))\n",
    "            continue\n",
    "        \n",
    "        # Hack because sometimes author parsing does not work well\n",
    "        if (len(doc.authors) != len(paper['authors'])):\n",
    "            doc._authors = paper['authors']\n",
    "        else:\n",
    "            # highlight authors (FIXME: doc.highlight_authors)\n",
    "            # done on arxiv paper already\n",
    "            doc._authors = highlight_authors_in_list(\n",
    "                [mpia.get_initials(k) for k in doc.authors], \n",
    "                normed_mpia_authors, verbose=True)\n",
    "        if (doc.abstract) in (None, ''):\n",
    "            doc._abstract = paper['abstract']\n",
    "            \n",
    "        doc.comment = (get_markdown_badge(paper_id) + \n",
    "                       \"<mark>Appeared on: \" + paper['date'] + \"</mark> - \")\n",
    "        if paper['comments']:\n",
    "            doc.comment += \" _\" + paper['comments'] + \"_\"\n",
    "        \n",
    "        full_md = doc.generate_markdown_text()\n",
    "        \n",
    "        full_md += get_markdown_qrcode(paper_id)\n",
    "        \n",
    "        # replace citations\n",
    "        try:\n",
    "            bibdata = latex_bib.LatexBib.from_doc(doc)\n",
    "            full_md = latex_bib.replace_citations(full_md, bibdata)\n",
    "        except Exception as e:\n",
    "            print(e)\n",
    "        \n",
    "        documents.append((paper_id, full_md))\n",
    "    except Exception as e:\n",
    "        warnings.warn(latex.LatexWarning(f\"{paper_id:s} did not run properly\\n\" +\n",
    "                                         str(e)\n",
    "                                        ))\n",
    "        failed.append((paper, \"latex error \" + str(e)))"
   ]
  },
  {
   "cell_type": "markdown",
   "id": "2505a25c",
   "metadata": {
    "papermill": {
     "duration": 0.004687,
     "end_time": "2023-06-27T04:08:43.596359",
     "exception": false,
     "start_time": "2023-06-27T04:08:43.591672",
     "status": "completed"
    },
    "tags": []
   },
   "source": [
    "### Export the logs\n",
    "\n",
    "Throughout, we also keep track of the logs per paper. see `logs-{today date}.md` "
   ]
  },
  {
   "cell_type": "code",
   "execution_count": 5,
   "id": "d733828a",
   "metadata": {
    "execution": {
     "iopub.execute_input": "2023-06-27T04:08:43.607339Z",
     "iopub.status.busy": "2023-06-27T04:08:43.606562Z",
     "iopub.status.idle": "2023-06-27T04:08:43.622303Z",
     "shell.execute_reply": "2023-06-27T04:08:43.621575Z"
    },
    "papermill": {
     "duration": 0.023216,
     "end_time": "2023-06-27T04:08:43.624278",
     "exception": false,
     "start_time": "2023-06-27T04:08:43.601062",
     "status": "completed"
    },
    "scrolled": false,
    "tags": []
   },
   "outputs": [
    {
     "data": {
      "text/markdown": [
       "## Successful papers"
      ],
      "text/plain": [
       "<IPython.core.display.Markdown object>"
      ]
     },
     "metadata": {},
     "output_type": "display_data"
    },
    {
     "data": {
      "text/markdown": [
       "\n",
       "|||\n",
       "|---:|:---|\n",
       "| [![arXiv](https://img.shields.io/badge/arXiv-arXiv:2306.14100-b31b1b.svg)](https://arxiv.org/abs/arXiv:2306.14100) | **Unusual integrated metallicity profile of our Milky Way**  |\n",
       "|| <mark>J. Lian</mark>, et al. -- incl., <mark>M. Bergemann</mark>, <mark>A. Pillepich</mark> |\n",
       "|*Appeared on*| *2023-06-27*|\n",
       "|*Comments*| *34 pages, 6 figures, published online in Nature Astronomy with open access on 22 June 2023. This is the version prior to the peer review. The published version is available here: this https URL*|\n",
       "|**Abstract**| The heavy element abundance profiles in galaxies place stringent constraint on galaxy growth and assembly history. Low-redshift galaxies generally have a negative metallicity gradient in their gas and stars. Such gradients are thought to be a natural manifestation of galaxy inside-out formation. As the Milky Way is currently the only spiral galaxy in which we can measure temporally-resolved chemical abundances, it enables unique insights into the origin of metallicity gradients and their correlation with the growth history of galaxies. However, until now, these unique abundance profiles had not been translated into the integrated-light measurements needed to seamlessly compare with the general galaxy population. Here we report the first measurement of the light-weighted, integrated stellar metallicity profile of our Galaxy. We find that the integrated metallicity profile of the Milky Way has a '$\\wedge$'-shape broken metallicity profile, with a mildly positive gradient inside a Galactocentric radius of 7 kpc and a steep negative gradient outside. This metallicity profile appears unusual when compared to Milky Way-mass star-forming galaxies observed in the MaNGA survey and simulated in the TNG50 cosmological simulation. The analysis of the TNG50 simulated galaxies suggests that the Milky Way's positive inner gradient may be due to an inside-out quenching process. The steep negative gradient in the outer disc, however, is challenging to explain in the simulations. Our results suggest the Milky Way may not be a typical spiral galaxy for its mass regarding metallicity distribution and thus offers insight into the variety of galaxy enrichment processes. |"
      ],
      "text/plain": [
       "[arXiv:2306.14100] Unusual integrated metallicity profile of our Milky Way\n",
       "\t<mark>J. Lian</mark>, et al. -- incl., <mark>M. Bergemann</mark>, <mark>A. Pillepich</mark>"
      ]
     },
     "metadata": {},
     "output_type": "display_data"
    },
    {
     "data": {
      "text/markdown": [
       "## Failed papers"
      ],
      "text/plain": [
       "<IPython.core.display.Markdown object>"
      ]
     },
     "metadata": {},
     "output_type": "display_data"
    },
    {
     "data": {
      "text/markdown": [
       "\n",
       "|||\n",
       "|---:|:---|\n",
       "| [![arXiv](https://img.shields.io/badge/arXiv-arXiv:2306.13792-b31b1b.svg)](https://arxiv.org/abs/arXiv:2306.13792) | **Maximizing science return by coordinating the survey strategies of Roman  with Rubin, and other major facilities**  |\n",
       "|| R. Street, et al. |\n",
       "|*Appeared on*| *2023-06-27*|\n",
       "|*Comments*| *Submitted to the 2023 call for White Papers regarding the Roman Mission Core Community Surveys*|\n",
       "|**Abstract**| [Abridged] The Nancy Grace Roman Space Telescope will be one of several flagship survey facilities operating over the next decade starting $\\sim$2025. The deep near-IR imaging that Roman will deliver will be highly complementary to the capabilities of other survey telescopes that will operate contemporaneously, particularly those that can provide data at different wavelengths and messengers, or different time intervals. Combining data from multiple facilities can provide important astrophysical insights, provided the data acquisition is carefully scheduled, and careful plans are made for appropriate joint data analyses. In this White Paper, we discuss the broad range of science that would be enabled by coordinating Roman observations of the Galactic Bulge with those of the Vera C. Rubin Observatory. Specifically, we discuss how Roman's characterization of lensing events caused by exoplanets, stellar systems and stellar remnants can be enhanced by data from Rubin. The same data will also be highly advantageous for the determination of stellar properties, and for distinguishing exoplanetary transits. It will enable more accurate period-color-luminosity relationships to be measured for RR~Lyrae throughout the Milky Way Bulge and Bar, probing galactic structure and dynamics. But we stress that this is only a sample of the full potential and advocate for a more complete study to be made as a joint effort between these major projects. We note that we do not suggest any changes beyond the established Science Requirements for the RGBTDS, in terms of survey footprint or filter selection. |\n",
       "|<p style=\"color:green\"> **ERROR** </p>| <p style=\"color:green\">affiliation error: mpia.affiliation_verifications: 'Planck' keyword not found.</p> |"
      ],
      "text/plain": [
       "<IPython.core.display.Markdown object>"
      ]
     },
     "metadata": {},
     "output_type": "display_data"
    }
   ],
   "source": [
    "import datetime\n",
    "today = str(datetime.date.today())\n",
    "logfile = f\"_build/html/logs/log-{today}.md\"\n",
    "\n",
    "\n",
    "with open(logfile, 'w') as logs:\n",
    "    # Success\n",
    "    logs.write(f'# Arxiv on Deck 2: Logs - {today}\\n\\n')\n",
    "    logs.write(\"\"\"* Arxiv had {0:,d} new papers\\n\"\"\".format(len(new_papers)))\n",
    "    logs.write(\"\"\"    * {0:,d} with possible author matches\\n\\n\"\"\".format(len(candidates)))\n",
    "    logs.write(\"## Sucessful papers\\n\\n\")\n",
    "    display(Markdown(\"## Successful papers\"))\n",
    "    success = [k[0] for k in documents]\n",
    "    for candid in candidates:\n",
    "        if candid['identifier'].split(':')[-1] in success:\n",
    "            display(candid)\n",
    "            logs.write(candid.generate_markdown_text() + '\\n\\n')\n",
    "\n",
    "    ## failed\n",
    "    logs.write(\"## Failed papers\\n\\n\")\n",
    "    display(Markdown(\"## Failed papers\"))\n",
    "    failed = sorted(failed, key=lambda x: x[1])\n",
    "    current_reason = \"\"\n",
    "    for paper, reason in failed:\n",
    "        if 'affiliation' in reason:\n",
    "            color = 'green'\n",
    "        else:\n",
    "            color = 'red'\n",
    "        data = Markdown(\n",
    "                paper.generate_markdown_text() + \n",
    "                f'\\n|<p style=\"color:{color:s}\"> **ERROR** </p>| <p style=\"color:{color:s}\">{reason:s}</p> |'\n",
    "               )\n",
    "        if reason != current_reason:\n",
    "            logs.write(f'### {reason:s} \\n\\n')\n",
    "            current_reason = reason\n",
    "        logs.write(data.data + '\\n\\n')\n",
    "        \n",
    "        # only display here the important errors (all in logs)\n",
    "        # if color in ('red',):\n",
    "        display(data)"
   ]
  },
  {
   "cell_type": "markdown",
   "id": "472d20ee",
   "metadata": {
    "papermill": {
     "duration": 0.004848,
     "end_time": "2023-06-27T04:08:43.634545",
     "exception": false,
     "start_time": "2023-06-27T04:08:43.629697",
     "status": "completed"
    },
    "tags": []
   },
   "source": [
    "## Export documents\n",
    "\n",
    "We now write the .md files and export relevant images"
   ]
  },
  {
   "cell_type": "code",
   "execution_count": 6,
   "id": "d426aed9",
   "metadata": {
    "execution": {
     "iopub.execute_input": "2023-06-27T04:08:43.645862Z",
     "iopub.status.busy": "2023-06-27T04:08:43.645330Z",
     "iopub.status.idle": "2023-06-27T04:08:43.653443Z",
     "shell.execute_reply": "2023-06-27T04:08:43.652720Z"
    },
    "papermill": {
     "duration": 0.015794,
     "end_time": "2023-06-27T04:08:43.655024",
     "exception": false,
     "start_time": "2023-06-27T04:08:43.639230",
     "status": "completed"
    },
    "tags": []
   },
   "outputs": [],
   "source": [
    "def export_markdown_summary(md: str, md_fname:str, directory: str):\n",
    "    \"\"\"Export MD document and associated relevant images\"\"\"\n",
    "    import os\n",
    "    import shutil\n",
    "    import re\n",
    "\n",
    "    if (os.path.exists(directory) and not os.path.isdir(directory)):\n",
    "        raise RuntimeError(f\"a non-directory file exists with name {directory:s}\")\n",
    "\n",
    "    if (not os.path.exists(directory)):\n",
    "        print(f\"creating directory {directory:s}\")\n",
    "        os.mkdir(directory)\n",
    "\n",
    "    fig_fnames = (re.compile(r'\\[Fig.*\\]\\((.*)\\)').findall(md) + \n",
    "                  re.compile(r'\\<img src=\"([^>\\s]*)\"[^>]*/>').findall(md))\n",
    "    for fname in fig_fnames:\n",
    "        if 'http' in fname:\n",
    "            # No need to copy online figures\n",
    "            continue\n",
    "        destdir = os.path.join(directory, os.path.dirname(fname))\n",
    "        destfname = os.path.join(destdir, os.path.basename(fname))\n",
    "        try:\n",
    "            os.makedirs(destdir)\n",
    "        except FileExistsError:\n",
    "            pass\n",
    "        shutil.copy(fname, destfname)\n",
    "    with open(os.path.join(directory, md_fname), 'w') as fout:\n",
    "        fout.write(md)\n",
    "    print(\"exported in \", os.path.join(directory, md_fname))\n",
    "    [print(\"    + \" + os.path.join(directory,fk)) for fk in fig_fnames]"
   ]
  },
  {
   "cell_type": "code",
   "execution_count": 7,
   "id": "014d04a4",
   "metadata": {
    "execution": {
     "iopub.execute_input": "2023-06-27T04:08:43.666519Z",
     "iopub.status.busy": "2023-06-27T04:08:43.666073Z",
     "iopub.status.idle": "2023-06-27T04:08:43.671502Z",
     "shell.execute_reply": "2023-06-27T04:08:43.670701Z"
    },
    "papermill": {
     "duration": 0.012792,
     "end_time": "2023-06-27T04:08:43.673036",
     "exception": false,
     "start_time": "2023-06-27T04:08:43.660244",
     "status": "completed"
    },
    "tags": []
   },
   "outputs": [
    {
     "name": "stdout",
     "output_type": "stream",
     "text": [
      "exported in  _build/html/2306.14100.md\n",
      "    + _build/html/tmp_2306.14100/./feh-prof-ages-4Gyr.png\n",
      "    + _build/html/tmp_2306.14100/./z-prof-comp-kpc-gas.png\n",
      "    + _build/html/tmp_2306.14100/./grad-in-out-gas-hist.png\n"
     ]
    }
   ],
   "source": [
    "for paper_id, md in documents:\n",
    "    export_markdown_summary(md, f\"{paper_id:s}.md\", '_build/html/')"
   ]
  },
  {
   "cell_type": "markdown",
   "id": "f087a0a7",
   "metadata": {
    "papermill": {
     "duration": 0.004769,
     "end_time": "2023-06-27T04:08:43.682920",
     "exception": false,
     "start_time": "2023-06-27T04:08:43.678151",
     "status": "completed"
    },
    "tags": []
   },
   "source": [
    "## Display the papers\n",
    "\n",
    "Not necessary but allows for a quick check."
   ]
  },
  {
   "cell_type": "code",
   "execution_count": 8,
   "id": "fd25f625",
   "metadata": {
    "execution": {
     "iopub.execute_input": "2023-06-27T04:08:43.694852Z",
     "iopub.status.busy": "2023-06-27T04:08:43.694284Z",
     "iopub.status.idle": "2023-06-27T04:08:43.699513Z",
     "shell.execute_reply": "2023-06-27T04:08:43.698909Z"
    },
    "papermill": {
     "duration": 0.013286,
     "end_time": "2023-06-27T04:08:43.701267",
     "exception": false,
     "start_time": "2023-06-27T04:08:43.687981",
     "status": "completed"
    },
    "scrolled": false,
    "tags": []
   },
   "outputs": [
    {
     "data": {
      "text/markdown": [
       "<div class=\"macros\" style=\"visibility:hidden;\">\n",
       "$\\newcommand{\\ensuremath}{}$\n",
       "$\\newcommand{\\xspace}{}$\n",
       "$\\newcommand{\\object}[1]{\\texttt{#1}}$\n",
       "$\\newcommand{\\farcs}{{.}''}$\n",
       "$\\newcommand{\\farcm}{{.}'}$\n",
       "$\\newcommand{\\arcsec}{''}$\n",
       "$\\newcommand{\\arcmin}{'}$\n",
       "$\\newcommand{\\ion}[2]{#1#2}$\n",
       "$\\newcommand{\\textsc}[1]{\\textrm{#1}}$\n",
       "$\\newcommand{\\hl}[1]{\\textrm{#1}}$\n",
       "$\\newcommand{\\footnote}[1]{}$\n",
       "$\\newcommand{\\bibinfo}[2]{#2}$\n",
       "$\\newcommand{\\eprint}[2][]{\\url{#2}}$\n",
       "$\\newcommand{\\doi}[1]{\\url{https://doi.org/#1}}$\n",
       "$\\newcommand{\\mnras}{MNRAS}$\n",
       "$\\newcommand{\\apj}{ApJ}$\n",
       "$\\newcommand{\\araa}{ARA\\&A}$\n",
       "$\\newcommand{\\aap}{A\\&A}$\n",
       "$\\newcommand{\\aj}{AJ}$\n",
       "$\\newcommand{\\apjl}{ApJL}$\n",
       "$\\newcommand{\\apjs}{ApJS}$\n",
       "$\\newcommand{\\pasp}{PASP}$\n",
       "$\\newcommand{\\ao}{ApOpt}$\n",
       "$\\newcommand{\\mb}[1]{\\textcolor{blue}{#1}}$\n",
       "$\\newcommand{\\jl}[1]{\\textcolor{purple}{#1}}$\n",
       "$\\newcommand{\\rr}[1]{\\textcolor{green}{#1}}$\n",
       "$\\newcommand{\\ap}[1]{\\textcolor{magenta}{#1}}$\n",
       "$\\newcommand{\\mbnew}[1]{\\textcolor{orange}{#1}}$\n",
       "$\\newcommand{\\ha}{\\hbox{H\\alpha}}$\n",
       "$\\newcommand{\\hb}{\\hbox{H\\beta}}$\n",
       "$\\newcommand{\\oii}{\\hbox{[O {\\sc ii}]}}$\n",
       "$\\newcommand{\\oiii}{\\hbox{[O {\\sc iii}]}}$\n",
       "$\\newcommand{\\hg}{\\hbox{H\\gamma}}$\n",
       "$\\newcommand{\\nii}{\\hbox{[N {\\sc ii}]}}$\n",
       "$\\newcommand{\\}{url}$\n",
       "$\\newcommand{\\urlprefix}{URL }$</div>\n",
       "\n",
       "\n",
       "\n",
       "<div id=\"title\">\n",
       "\n",
       "# Unusual integrated metallicity profile of our Milky Way\n",
       "\n",
       "</div>\n",
       "<div id=\"comments\">\n",
       "\n",
       "[![arXiv](https://img.shields.io/badge/arXiv-2306.14100-b31b1b.svg)](https://arxiv.org/abs/2306.14100)<mark>Appeared on: 2023-06-27</mark> -  _34 pages, 6 figures, published online in Nature Astronomy with open access on 22 June 2023. This is the version prior to the peer review. The published version is available here: this https URL_\n",
       "\n",
       "</div>\n",
       "<div id=\"authors\">\n",
       "\n",
       "<mark>J. Lian</mark>, et al. -- incl., <mark>M. Bergemann</mark>, <mark>A. Pillepich</mark>\n",
       "\n",
       "</div>\n",
       "<div id=\"abstract\">\n",
       "\n",
       "**Abstract:** The heavy element abundance profiles in galaxies place stringent constraint on galaxy growth and assembly history. Low-redshift galaxies generally have a negative metallicity gradient in their gas and stars. Such gradients are thought to be a natural manifestation of galaxy inside-out formation. As the Milky Way is currently the only spiral galaxy in which we can measure temporally-resolved chemical abundances, it enables unique insights into the origin of metallicity gradients and their correlation with the growth history of galaxies. However, until now, these unique abundance profiles had not been translated into the integrated-light measurements needed to seamlessly compare with the general galaxy population. Here we report the first measurement of the light-weighted, integrated stellar metallicity profile of our Galaxy. We find that the integrated metallicity profile of the Milky Way has a '$\\wedge$'-shape broken metallicity profile, with a mildly positive gradient inside a Galactocentric radius of 7 kpc and a steep negative gradient outside. This metallicity profile appears unusual when compared to Milky Way-mass star-forming galaxies observed in the MaNGA survey and simulated in the TNG50 cosmological simulation. The analysis of the TNG50 simulated galaxies suggests that the Milky Way's positive inner gradient may be due to an inside-out quenching process. The steep negative gradient in the outer disc, however, is challenging to explain in the simulations. Our results suggest the Milky Way may not be a typical spiral galaxy for its mass regarding metallicity distribution and thus offers insight into the variety of galaxy enrichment processes. \n",
       "\n",
       "</div>\n",
       "\n",
       "<div id=\"div_fig1\">\n",
       "\n",
       "<img src=\"tmp_2306.14100/./feh-prof-ages-4Gyr.png\" alt=\"Fig1\" width=\"100%\"/>\n",
       "\n",
       "**Figure 1. -** Average light-weighted stellar iron and magnesium abundance profiles of the Milky Way galaxy as a whole and of three different age populations.\n",
       "\tThe integrated metallicity of all ages and that in each age bin are average values of mono-abundance populations, weighted by their optical r-band luminosity (Methods). The size of the colourful squares indicates the fraction of the total luminosity at each radial bin contained in each mono-age component.\n",
       "\t (*z-prof-age*)\n",
       "\n",
       "</div>\n",
       "<div id=\"div_fig2\">\n",
       "\n",
       "<img src=\"tmp_2306.14100/./z-prof-comp-kpc-gas.png\" alt=\"Fig2\" width=\"100%\"/>\n",
       "\n",
       "**Figure 2. -** {\\sl Left:} Average radial light-weighted stellar metallicity profile of the Milky Way (black) in comparison with those of  low-redshift Milky Way-mass star-forming galaxies in the MaNGA survey (blue) and in the TNG50 simulation (magenta), averaged across 544 and 134 galaxies, respectively.\n",
       "\tBlack errorbars indicate the stochastic uncertainty of the integrated stellar metallicity of the Milky Way.\n",
       "\tThe blue and magenta shaded regions represent the 1 $\\sigma$ scatter of the distributions of these Milky Way-mass star forming galaxies in the MaNGA survey and TNG50 simulation, respectively. The filled symbols and errorbars denote their median metallicity profile and the error of the median. {\\sl Right:} Comparison among the same galaxy samples as on the left but now for their present-day metallicity gradients. For MaNGA galaxies, we use the oxygen abundance ([O/H]) measured in their ionized gas from optical emission lines (Methods) to represent their present-day metallicity. For the Milky Way and TNG50 galaxies, we use [Mg/H], which is tightly correlated with [O/H]\\citep{ting2022}, of their young (0-4 Gyr) population to represent their present-day metallicity (Methods).\n",
       "\t (*z-prof*)\n",
       "\n",
       "</div>\n",
       "<div id=\"div_fig3\">\n",
       "\n",
       "<img src=\"tmp_2306.14100/./grad-in-out-gas-hist.png\" alt=\"Fig3\" width=\"100%\"/>\n",
       "\n",
       "**Figure 3. -** Comparison of the light-weighted average stellar metallicity gradients in- and outside the break radius ($\\rm R_{b}$ -- panels a and b) and of the present-day gradient (panel c) of the Milky Way with those of Milky Way-mass star-forming galaxies in the MaNGA survey and the TNG50 simulation. In panels a and b, the distributions of MaNGA and TNG50 galaxies are colour coded by their number in each pixel. In both cases, the Milky Way is located at the bottom right edge of the distributions of the observed or simulated galaxy populations. In panel c, the shaded region indicates the 1 $\\sigma$ stochastic uncertainty of the Milky Way's present-day gradient. For reference, we include the gradient of oxygen or magnesium abundance of different types of young objects in the Milky Way, including OB stars \\citep{braganca2019}, Cepheids \\citep{genovali2015}, open cluster \\citep{magrini2017}, and H II regions \\citep{wenger2019}.\n",
       "\t (*zgrad-hist2d*)\n",
       "\n",
       "</div><div id=\"qrcode\"><img src=https://api.qrserver.com/v1/create-qr-code/?size=100x100&data=\"https://arxiv.org/abs/2306.14100\"></div>"
      ],
      "text/plain": [
       "<IPython.core.display.Markdown object>"
      ]
     },
     "metadata": {},
     "output_type": "display_data"
    }
   ],
   "source": [
    "[display(Markdown(k[1])) for k in documents];"
   ]
  },
  {
   "cell_type": "markdown",
   "id": "873873a4",
   "metadata": {
    "papermill": {
     "duration": 0.005682,
     "end_time": "2023-06-27T04:08:43.712683",
     "exception": false,
     "start_time": "2023-06-27T04:08:43.707001",
     "status": "completed"
    },
    "tags": []
   },
   "source": [
    "# Create HTML index"
   ]
  },
  {
   "cell_type": "code",
   "execution_count": 9,
   "id": "cf665672",
   "metadata": {
    "execution": {
     "iopub.execute_input": "2023-06-27T04:08:43.724887Z",
     "iopub.status.busy": "2023-06-27T04:08:43.724291Z",
     "iopub.status.idle": "2023-06-27T04:08:43.734057Z",
     "shell.execute_reply": "2023-06-27T04:08:43.733320Z"
    },
    "papermill": {
     "duration": 0.017957,
     "end_time": "2023-06-27T04:08:43.735933",
     "exception": false,
     "start_time": "2023-06-27T04:08:43.717976",
     "status": "completed"
    },
    "tags": []
   },
   "outputs": [
    {
     "name": "stdout",
     "output_type": "stream",
     "text": [
      "221  publications files modified in the last 7 days.\n"
     ]
    }
   ],
   "source": [
    "from datetime import datetime, timedelta, timezone\n",
    "from glob import glob\n",
    "import os\n",
    "\n",
    "files = glob('_build/html/*.md')\n",
    "days = 7\n",
    "now = datetime.today()\n",
    "res = []\n",
    "for fk in files:\n",
    "    stat_result = os.stat(fk).st_ctime\n",
    "    modified = datetime.fromtimestamp(stat_result, tz=timezone.utc).replace(tzinfo=None)\n",
    "    delta = now.today() - modified\n",
    "    if delta <= timedelta(days=days):\n",
    "        res.append((delta.seconds, fk))\n",
    "res = [k[1] for k in reversed(sorted(res, key=lambda x:x[1]))]\n",
    "npub = len(res)\n",
    "print(len(res), f\" publications files modified in the last {days:d} days.\")\n",
    "# [ print('\\t', k) for k in res ];"
   ]
  },
  {
   "cell_type": "code",
   "execution_count": 10,
   "id": "015de740",
   "metadata": {
    "execution": {
     "iopub.execute_input": "2023-06-27T04:08:43.748056Z",
     "iopub.status.busy": "2023-06-27T04:08:43.747574Z",
     "iopub.status.idle": "2023-06-27T04:08:43.766937Z",
     "shell.execute_reply": "2023-06-27T04:08:43.766291Z"
    },
    "papermill": {
     "duration": 0.026977,
     "end_time": "2023-06-27T04:08:43.768611",
     "exception": false,
     "start_time": "2023-06-27T04:08:43.741634",
     "status": "completed"
    },
    "tags": []
   },
   "outputs": [
    {
     "name": "stdout",
     "output_type": "stream",
     "text": [
      "1  publications in the last 7 days.\n"
     ]
    }
   ],
   "source": [
    "import datetime\n",
    "from glob import glob\n",
    "\n",
    "def get_last_n_days(lst, days=1):\n",
    "    \"\"\" Get the documents from the last n days \"\"\"\n",
    "    sorted_lst = sorted(lst, key=lambda x: x[1], reverse=True)\n",
    "    for fname, date in sorted_lst:\n",
    "        if date >= str(datetime.date.today() - datetime.timedelta(days=days)):\n",
    "            yield fname\n",
    "\n",
    "def extract_appearance_dates(lst_file):\n",
    "    dates = []\n",
    "\n",
    "    def get_date(line):\n",
    "        return line\\\n",
    "            .split('Appeared on:')[-1]\\\n",
    "            .split('</mark>')[0].strip()\n",
    "\n",
    "    for fname in lst:\n",
    "        with open(fname, 'r') as f:\n",
    "            found_date = False\n",
    "            for line in f:\n",
    "                if not found_date:\n",
    "                    if \"Appeared on\" in line:\n",
    "                        found_date = True\n",
    "                        dates.append((fname, get_date(line)))\n",
    "                else:\n",
    "                    break\n",
    "    return dates\n",
    "\n",
    "from glob import glob\n",
    "lst = glob('_build/html/*md')\n",
    "days = 7\n",
    "dates = extract_appearance_dates(lst)\n",
    "res = list(get_last_n_days(dates, days))\n",
    "npub = len(res)\n",
    "print(len(res), f\" publications in the last {days:d} days.\")"
   ]
  },
  {
   "cell_type": "code",
   "execution_count": 11,
   "id": "52ca0208",
   "metadata": {
    "execution": {
     "iopub.execute_input": "2023-06-27T04:08:43.781341Z",
     "iopub.status.busy": "2023-06-27T04:08:43.780848Z",
     "iopub.status.idle": "2023-06-27T04:08:43.786734Z",
     "shell.execute_reply": "2023-06-27T04:08:43.786123Z"
    },
    "papermill": {
     "duration": 0.013657,
     "end_time": "2023-06-27T04:08:43.788209",
     "exception": false,
     "start_time": "2023-06-27T04:08:43.774552",
     "status": "completed"
    },
    "scrolled": false,
    "tags": []
   },
   "outputs": [],
   "source": [
    "def create_carousel(npub=4):\n",
    "    \"\"\" Generate the HTML code for a carousel with `npub` slides \"\"\"\n",
    "    carousel = [\"\"\"  <div class=\"carousel\" \"\"\",\n",
    "                \"\"\"       data-flickity='{ \"autoPlay\": 10000, \"adaptiveHeight\": true, \"resize\": true, \"wrapAround\": true, \"pauseAutoPlayOnHover\": true, \"groupCells\": 1 }' id=\"asyncTypeset\">\"\"\"\n",
    "                ]\n",
    "    \n",
    "    item_str = \"\"\"    <div class=\"carousel-cell\"> <div id=\"slide{k}\" class=\"md_view\">Content {k}</div> </div>\"\"\"\n",
    "    for k in range(1, npub + 1):\n",
    "        carousel.append(item_str.format(k=k))\n",
    "    carousel.append(\"  </div>\")\n",
    "    return '\\n'.join(carousel)\n",
    "\n",
    "def create_grid(npub=4):\n",
    "    \"\"\" Generate the HTML code for a flat grid with `npub` slides \"\"\"\n",
    "    grid = [\"\"\"  <div class=\"grid\"> \"\"\",\n",
    "                ]\n",
    "    \n",
    "    item_str = \"\"\"    <div class=\"grid-item\"> <div id=\"slide{k}\" class=\"md_view\">Content {k}</div> </div>\"\"\"\n",
    "    for k in range(1, npub + 1):\n",
    "        grid.append(item_str.format(k=k))\n",
    "    grid.append(\"  </div>\")\n",
    "    return '\\n'.join(grid)"
   ]
  },
  {
   "cell_type": "code",
   "execution_count": 12,
   "id": "a6eac5b6",
   "metadata": {
    "execution": {
     "iopub.execute_input": "2023-06-27T04:08:43.800647Z",
     "iopub.status.busy": "2023-06-27T04:08:43.800157Z",
     "iopub.status.idle": "2023-06-27T04:08:43.806564Z",
     "shell.execute_reply": "2023-06-27T04:08:43.805860Z"
    },
    "papermill": {
     "duration": 0.014304,
     "end_time": "2023-06-27T04:08:43.808031",
     "exception": false,
     "start_time": "2023-06-27T04:08:43.793727",
     "status": "completed"
    },
    "scrolled": false,
    "tags": []
   },
   "outputs": [],
   "source": [
    "carousel = create_carousel(npub)\n",
    "docs = ', '.join(['\"{0:s}\"'.format(k.split('/')[-1]) for k in res])\n",
    "slides = ', '.join([f'\"slide{k}\"' for k in range(1, npub + 1)])\n",
    "\n",
    "with open(\"daily_template.html\", \"r\") as tpl:\n",
    "    page = tpl.read()\n",
    "    page = page.replace(\"{%-- carousel:s --%}\", carousel)\\\n",
    "               .replace(\"{%-- suptitle:s --%}\",  \"7-day archives\" )\\\n",
    "               .replace(\"{%-- docs:s --%}\", docs)\\\n",
    "               .replace(\"{%-- slides:s --%}\", slides)\n",
    "    \n",
    "with open(\"_build/html/index_7days.html\", 'w') as fout:\n",
    "    fout.write(page)"
   ]
  },
  {
   "cell_type": "code",
   "execution_count": 13,
   "id": "adc1a1ec",
   "metadata": {
    "execution": {
     "iopub.execute_input": "2023-06-27T04:08:43.821956Z",
     "iopub.status.busy": "2023-06-27T04:08:43.821705Z",
     "iopub.status.idle": "2023-06-27T04:08:43.828796Z",
     "shell.execute_reply": "2023-06-27T04:08:43.828061Z"
    },
    "papermill": {
     "duration": 0.016333,
     "end_time": "2023-06-27T04:08:43.830586",
     "exception": false,
     "start_time": "2023-06-27T04:08:43.814253",
     "status": "completed"
    },
    "tags": []
   },
   "outputs": [
    {
     "name": "stdout",
     "output_type": "stream",
     "text": [
      "1  publications in the last day.\n"
     ]
    }
   ],
   "source": [
    "# redo for today\n",
    "days = 1\n",
    "res = list(get_last_n_days(dates, days))\n",
    "npub = len(res)\n",
    "print(len(res), f\" publications in the last day.\")\n",
    "\n",
    "carousel = create_carousel(npub)\n",
    "docs = ', '.join(['\"{0:s}\"'.format(k.split('/')[-1]) for k in res])\n",
    "slides = ', '.join([f'\"slide{k}\"' for k in range(1, npub + 1)])\n",
    "\n",
    "with open(\"daily_template.html\", \"r\") as tpl:\n",
    "    page = tpl.read()\n",
    "    page = page.replace(\"{%-- carousel:s --%}\", carousel)\\\n",
    "               .replace(\"{%-- suptitle:s --%}\",  \"Daily\" )\\\n",
    "               .replace(\"{%-- docs:s --%}\", docs)\\\n",
    "               .replace(\"{%-- slides:s --%}\", slides)\n",
    "    \n",
    "# print(carousel, docs, slides)\n",
    "# print(page)\n",
    "with open(\"_build/html/index_daily.html\", 'w') as fout:\n",
    "    fout.write(page)"
   ]
  },
  {
   "cell_type": "code",
   "execution_count": 14,
   "id": "00eece82",
   "metadata": {
    "execution": {
     "iopub.execute_input": "2023-06-27T04:08:43.843749Z",
     "iopub.status.busy": "2023-06-27T04:08:43.843270Z",
     "iopub.status.idle": "2023-06-27T04:08:43.851093Z",
     "shell.execute_reply": "2023-06-27T04:08:43.850384Z"
    },
    "papermill": {
     "duration": 0.016371,
     "end_time": "2023-06-27T04:08:43.852896",
     "exception": false,
     "start_time": "2023-06-27T04:08:43.836525",
     "status": "completed"
    },
    "scrolled": false,
    "tags": []
   },
   "outputs": [
    {
     "name": "stdout",
     "output_type": "stream",
     "text": [
      "6  6 publications selected.\n"
     ]
    }
   ],
   "source": [
    "# Create the flat grid of the last N papers (fixed number regardless of dates)\n",
    "from itertools import islice \n",
    "\n",
    "npub = 6\n",
    "res = [k[0] for k in (islice(reversed(sorted(dates, key=lambda x: x[1])), 6))]\n",
    "print(len(res), f\" {npub} publications selected.\")\n",
    "\n",
    "grid = create_grid(npub)\n",
    "docs = ', '.join(['\"{0:s}\"'.format(k.split('/')[-1]) for k in res])\n",
    "slides = ', '.join([f'\"slide{k}\"' for k in range(1, npub + 1)])\n",
    "\n",
    "with open(\"grid_template.html\", \"r\") as tpl:\n",
    "    page = tpl.read()\n",
    "    page = page.replace(\"{%-- grid-content:s --%}\", grid)\\\n",
    "               .replace(\"{%-- suptitle:s --%}\",  f\"Last {npub:,d} papers\" )\\\n",
    "               .replace(\"{%-- docs:s --%}\", docs)\\\n",
    "               .replace(\"{%-- slides:s --%}\", slides)\n",
    "    \n",
    "# print(grid, docs, slides)\n",
    "# print(page)\n",
    "with open(\"_build/html/index_npub_grid.html\", 'w') as fout:\n",
    "    fout.write(page)"
   ]
  }
 ],
 "metadata": {
  "kernelspec": {
   "display_name": "Python 3 (ipykernel)",
   "language": "python",
   "name": "python3"
  },
  "language_info": {
   "codemirror_mode": {
    "name": "ipython",
    "version": 3
   },
   "file_extension": ".py",
   "mimetype": "text/x-python",
   "name": "python",
   "nbconvert_exporter": "python",
   "pygments_lexer": "ipython3",
   "version": "3.9.17"
  },
  "papermill": {
   "default_parameters": {},
   "duration": 30.260841,
   "end_time": "2023-06-27T04:08:44.077375",
   "environment_variables": {},
   "exception": null,
   "input_path": "MPIA daily digest.ipynb",
   "output_path": "log.ipynb",
   "parameters": {},
   "start_time": "2023-06-27T04:08:13.816534",
   "version": "2.4.0"
  },
  "vscode": {
   "interpreter": {
    "hash": "aee8b7b246df8f9039afb4144a1f6fd8d2ca17a180786b69acc140d282b71a49"
   }
  },
  "widgets": {
   "application/vnd.jupyter.widget-state+json": {
    "state": {
     "176d64f580e54d999eac32de01ca2655": {
      "model_module": "@jupyter-widgets/base",
      "model_module_version": "2.0.0",
      "model_name": "LayoutModel",
      "state": {
       "_model_module": "@jupyter-widgets/base",
       "_model_module_version": "2.0.0",
       "_model_name": "LayoutModel",
       "_view_count": null,
       "_view_module": "@jupyter-widgets/base",
       "_view_module_version": "2.0.0",
       "_view_name": "LayoutView",
       "align_content": null,
       "align_items": null,
       "align_self": null,
       "border_bottom": null,
       "border_left": null,
       "border_right": null,
       "border_top": null,
       "bottom": null,
       "display": null,
       "flex": null,
       "flex_flow": null,
       "grid_area": null,
       "grid_auto_columns": null,
       "grid_auto_flow": null,
       "grid_auto_rows": null,
       "grid_column": null,
       "grid_gap": null,
       "grid_row": null,
       "grid_template_areas": null,
       "grid_template_columns": null,
       "grid_template_rows": null,
       "height": null,
       "justify_content": null,
       "justify_items": null,
       "left": null,
       "margin": null,
       "max_height": null,
       "max_width": null,
       "min_height": null,
       "min_width": null,
       "object_fit": null,
       "object_position": null,
       "order": null,
       "overflow": null,
       "padding": null,
       "right": null,
       "top": null,
       "visibility": null,
       "width": null
      }
     },
     "2048c770de8d423fb7ffedf7848dbc09": {
      "model_module": "@jupyter-widgets/controls",
      "model_module_version": "2.0.0",
      "model_name": "HTMLModel",
      "state": {
       "_dom_classes": [],
       "_model_module": "@jupyter-widgets/controls",
       "_model_module_version": "2.0.0",
       "_model_name": "HTMLModel",
       "_view_count": null,
       "_view_module": "@jupyter-widgets/controls",
       "_view_module_version": "2.0.0",
       "_view_name": "HTMLView",
       "description": "",
       "description_allow_html": false,
       "layout": "IPY_MODEL_176d64f580e54d999eac32de01ca2655",
       "placeholder": "​",
       "style": "IPY_MODEL_3ecd3dff447c473ea6a70e879b10a60e",
       "tabbable": null,
       "tooltip": null,
       "value": "100%"
      }
     },
     "26bb86a03c9749c386d5d01c778972d3": {
      "model_module": "@jupyter-widgets/base",
      "model_module_version": "2.0.0",
      "model_name": "LayoutModel",
      "state": {
       "_model_module": "@jupyter-widgets/base",
       "_model_module_version": "2.0.0",
       "_model_name": "LayoutModel",
       "_view_count": null,
       "_view_module": "@jupyter-widgets/base",
       "_view_module_version": "2.0.0",
       "_view_name": "LayoutView",
       "align_content": null,
       "align_items": null,
       "align_self": null,
       "border_bottom": null,
       "border_left": null,
       "border_right": null,
       "border_top": null,
       "bottom": null,
       "display": null,
       "flex": null,
       "flex_flow": null,
       "grid_area": null,
       "grid_auto_columns": null,
       "grid_auto_flow": null,
       "grid_auto_rows": null,
       "grid_column": null,
       "grid_gap": null,
       "grid_row": null,
       "grid_template_areas": null,
       "grid_template_columns": null,
       "grid_template_rows": null,
       "height": null,
       "justify_content": null,
       "justify_items": null,
       "left": null,
       "margin": null,
       "max_height": null,
       "max_width": null,
       "min_height": null,
       "min_width": null,
       "object_fit": null,
       "object_position": null,
       "order": null,
       "overflow": null,
       "padding": null,
       "right": null,
       "top": null,
       "visibility": null,
       "width": null
      }
     },
     "3ecd3dff447c473ea6a70e879b10a60e": {
      "model_module": "@jupyter-widgets/controls",
      "model_module_version": "2.0.0",
      "model_name": "HTMLStyleModel",
      "state": {
       "_model_module": "@jupyter-widgets/controls",
       "_model_module_version": "2.0.0",
       "_model_name": "HTMLStyleModel",
       "_view_count": null,
       "_view_module": "@jupyter-widgets/base",
       "_view_module_version": "2.0.0",
       "_view_name": "StyleView",
       "background": null,
       "description_width": "",
       "font_size": null,
       "text_color": null
      }
     },
     "42f43aab35e945ed8911276e192dd795": {
      "model_module": "@jupyter-widgets/base",
      "model_module_version": "2.0.0",
      "model_name": "LayoutModel",
      "state": {
       "_model_module": "@jupyter-widgets/base",
       "_model_module_version": "2.0.0",
       "_model_name": "LayoutModel",
       "_view_count": null,
       "_view_module": "@jupyter-widgets/base",
       "_view_module_version": "2.0.0",
       "_view_name": "LayoutView",
       "align_content": null,
       "align_items": null,
       "align_self": null,
       "border_bottom": null,
       "border_left": null,
       "border_right": null,
       "border_top": null,
       "bottom": null,
       "display": null,
       "flex": null,
       "flex_flow": null,
       "grid_area": null,
       "grid_auto_columns": null,
       "grid_auto_flow": null,
       "grid_auto_rows": null,
       "grid_column": null,
       "grid_gap": null,
       "grid_row": null,
       "grid_template_areas": null,
       "grid_template_columns": null,
       "grid_template_rows": null,
       "height": null,
       "justify_content": null,
       "justify_items": null,
       "left": null,
       "margin": null,
       "max_height": null,
       "max_width": null,
       "min_height": null,
       "min_width": null,
       "object_fit": null,
       "object_position": null,
       "order": null,
       "overflow": null,
       "padding": null,
       "right": null,
       "top": null,
       "visibility": null,
       "width": null
      }
     },
     "43d9b48042dd44778f258e537edfde30": {
      "model_module": "@jupyter-widgets/base",
      "model_module_version": "2.0.0",
      "model_name": "LayoutModel",
      "state": {
       "_model_module": "@jupyter-widgets/base",
       "_model_module_version": "2.0.0",
       "_model_name": "LayoutModel",
       "_view_count": null,
       "_view_module": "@jupyter-widgets/base",
       "_view_module_version": "2.0.0",
       "_view_name": "LayoutView",
       "align_content": null,
       "align_items": null,
       "align_self": null,
       "border_bottom": null,
       "border_left": null,
       "border_right": null,
       "border_top": null,
       "bottom": null,
       "display": null,
       "flex": null,
       "flex_flow": null,
       "grid_area": null,
       "grid_auto_columns": null,
       "grid_auto_flow": null,
       "grid_auto_rows": null,
       "grid_column": null,
       "grid_gap": null,
       "grid_row": null,
       "grid_template_areas": null,
       "grid_template_columns": null,
       "grid_template_rows": null,
       "height": null,
       "justify_content": null,
       "justify_items": null,
       "left": null,
       "margin": null,
       "max_height": null,
       "max_width": null,
       "min_height": null,
       "min_width": null,
       "object_fit": null,
       "object_position": null,
       "order": null,
       "overflow": null,
       "padding": null,
       "right": null,
       "top": null,
       "visibility": null,
       "width": null
      }
     },
     "6ace6a2ffbb7434082fe699beaffc90e": {
      "model_module": "@jupyter-widgets/controls",
      "model_module_version": "2.0.0",
      "model_name": "HBoxModel",
      "state": {
       "_dom_classes": [],
       "_model_module": "@jupyter-widgets/controls",
       "_model_module_version": "2.0.0",
       "_model_name": "HBoxModel",
       "_view_count": null,
       "_view_module": "@jupyter-widgets/controls",
       "_view_module_version": "2.0.0",
       "_view_name": "HBoxView",
       "box_style": "",
       "children": [
        "IPY_MODEL_2048c770de8d423fb7ffedf7848dbc09",
        "IPY_MODEL_a690ea85476540edb0e9479cf836d6db",
        "IPY_MODEL_ed727c10d39747b894b26f497226da96"
       ],
       "layout": "IPY_MODEL_26bb86a03c9749c386d5d01c778972d3",
       "tabbable": null,
       "tooltip": null
      }
     },
     "7e719c555e5d44d69d6f49978ba1e750": {
      "model_module": "@jupyter-widgets/controls",
      "model_module_version": "2.0.0",
      "model_name": "ProgressStyleModel",
      "state": {
       "_model_module": "@jupyter-widgets/controls",
       "_model_module_version": "2.0.0",
       "_model_name": "ProgressStyleModel",
       "_view_count": null,
       "_view_module": "@jupyter-widgets/base",
       "_view_module_version": "2.0.0",
       "_view_name": "StyleView",
       "bar_color": null,
       "description_width": ""
      }
     },
     "a690ea85476540edb0e9479cf836d6db": {
      "model_module": "@jupyter-widgets/controls",
      "model_module_version": "2.0.0",
      "model_name": "FloatProgressModel",
      "state": {
       "_dom_classes": [],
       "_model_module": "@jupyter-widgets/controls",
       "_model_module_version": "2.0.0",
       "_model_name": "FloatProgressModel",
       "_view_count": null,
       "_view_module": "@jupyter-widgets/controls",
       "_view_module_version": "2.0.0",
       "_view_name": "ProgressView",
       "bar_style": "success",
       "description": "",
       "description_allow_html": false,
       "layout": "IPY_MODEL_43d9b48042dd44778f258e537edfde30",
       "max": 2.0,
       "min": 0.0,
       "orientation": "horizontal",
       "style": "IPY_MODEL_7e719c555e5d44d69d6f49978ba1e750",
       "tabbable": null,
       "tooltip": null,
       "value": 2.0
      }
     },
     "ac595b0618824cb18ecc4e7f3673697a": {
      "model_module": "@jupyter-widgets/controls",
      "model_module_version": "2.0.0",
      "model_name": "HTMLStyleModel",
      "state": {
       "_model_module": "@jupyter-widgets/controls",
       "_model_module_version": "2.0.0",
       "_model_name": "HTMLStyleModel",
       "_view_count": null,
       "_view_module": "@jupyter-widgets/base",
       "_view_module_version": "2.0.0",
       "_view_name": "StyleView",
       "background": null,
       "description_width": "",
       "font_size": null,
       "text_color": null
      }
     },
     "ed727c10d39747b894b26f497226da96": {
      "model_module": "@jupyter-widgets/controls",
      "model_module_version": "2.0.0",
      "model_name": "HTMLModel",
      "state": {
       "_dom_classes": [],
       "_model_module": "@jupyter-widgets/controls",
       "_model_module_version": "2.0.0",
       "_model_name": "HTMLModel",
       "_view_count": null,
       "_view_module": "@jupyter-widgets/controls",
       "_view_module_version": "2.0.0",
       "_view_name": "HTMLView",
       "description": "",
       "description_allow_html": false,
       "layout": "IPY_MODEL_42f43aab35e945ed8911276e192dd795",
       "placeholder": "​",
       "style": "IPY_MODEL_ac595b0618824cb18ecc4e7f3673697a",
       "tabbable": null,
       "tooltip": null,
       "value": " 2/2 [00:07&lt;00:00,  4.10s/it]"
      }
     }
    },
    "version_major": 2,
    "version_minor": 0
   }
  }
 },
 "nbformat": 4,
 "nbformat_minor": 5
}