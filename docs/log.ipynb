{
 "cells": [
  {
   "cell_type": "markdown",
   "id": "92bcb855",
   "metadata": {
    "papermill": {
     "duration": 0.003613,
     "end_time": "2025-07-25T04:30:27.051403",
     "exception": false,
     "start_time": "2025-07-25T04:30:27.047790",
     "status": "completed"
    },
    "tags": []
   },
   "source": [
    "# MPIA Arxiv on Deck 2\n",
    "\n",
    "Contains the steps to produce the paper extractions."
   ]
  },
  {
   "cell_type": "code",
   "execution_count": 1,
   "id": "3a0d6e11",
   "metadata": {
    "execution": {
     "iopub.execute_input": "2025-07-25T04:30:27.058294Z",
     "iopub.status.busy": "2025-07-25T04:30:27.058087Z",
     "iopub.status.idle": "2025-07-25T04:30:27.281724Z",
     "shell.execute_reply": "2025-07-25T04:30:27.281092Z"
    },
    "papermill": {
     "duration": 0.22845,
     "end_time": "2025-07-25T04:30:27.283067",
     "exception": false,
     "start_time": "2025-07-25T04:30:27.054617",
     "status": "completed"
    },
    "tags": []
   },
   "outputs": [],
   "source": [
    "# Imports\n",
    "import os\n",
    "from IPython.display import Markdown, display\n",
    "from tqdm.notebook import tqdm\n",
    "import warnings\n",
    "from PIL import Image \n",
    "import re\n",
    "\n",
    "# requires arxiv_on_deck_2\n",
    "\n",
    "from arxiv_on_deck_2.arxiv2 import (get_new_papers, \n",
    "                                    get_paper_from_identifier,\n",
    "                                    retrieve_document_source, \n",
    "                                    get_markdown_badge)\n",
    "from arxiv_on_deck_2 import (latex,\n",
    "                             latex_bib,\n",
    "                             mpia,\n",
    "                             highlight_authors_in_list)\n",
    "\n",
    "# Sometimes images are really big\n",
    "Image.MAX_IMAGE_PIXELS = 1000000000 "
   ]
  },
  {
   "cell_type": "code",
   "execution_count": 2,
   "id": "22aa9d44",
   "metadata": {
    "execution": {
     "iopub.execute_input": "2025-07-25T04:30:27.290211Z",
     "iopub.status.busy": "2025-07-25T04:30:27.290023Z",
     "iopub.status.idle": "2025-07-25T04:30:27.297903Z",
     "shell.execute_reply": "2025-07-25T04:30:27.297359Z"
    },
    "papermill": {
     "duration": 0.012511,
     "end_time": "2025-07-25T04:30:27.298878",
     "exception": false,
     "start_time": "2025-07-25T04:30:27.286367",
     "status": "completed"
    },
    "tags": []
   },
   "outputs": [],
   "source": [
    "# Some useful definitions.\n",
    "\n",
    "class AffiliationWarning(UserWarning):\n",
    "    pass\n",
    "\n",
    "class AffiliationError(RuntimeError):\n",
    "    pass\n",
    "\n",
    "def validation(source: str):\n",
    "    \"\"\"Raises error paper during parsing of source file\n",
    "    \n",
    "    Allows checks before parsing TeX code.\n",
    "    \n",
    "    Raises AffiliationWarning\n",
    "    \"\"\"\n",
    "    check = mpia.affiliation_verifications(source, verbose=True)\n",
    "    if check is not True:\n",
    "        raise AffiliationError(\"mpia.affiliation_verifications: \" + check)\n",
    "\n",
    "        \n",
    "warnings.simplefilter('always', AffiliationWarning)\n",
    "\n",
    "\n",
    "def get_markdown_qrcode(paper_id: str):\n",
    "    \"\"\" Generate a qrcode to the arxiv page using qrserver.com\n",
    "    \n",
    "    :param paper: Arxiv paper\n",
    "    :returns: markdown text\n",
    "    \"\"\"\n",
    "    url = r\"https://api.qrserver.com/v1/create-qr-code/?size=100x100&data=\"\n",
    "    txt = f\"\"\"<img src={url}\"https://arxiv.org/abs/{paper_id}\">\"\"\"\n",
    "    txt = '<div id=\"qrcode\">' + txt + '</div>'\n",
    "    return txt\n",
    "\n",
    "\n",
    "def clean_non_western_encoded_characters_commands(text: str) -> str:\n",
    "    \"\"\" Remove non-western encoded characters from a string\n",
    "    List may need to grow.\n",
    "    \n",
    "    :param text: the text to clean\n",
    "    :return: the cleaned text\n",
    "    \"\"\"\n",
    "    text = re.sub(r\"(\\\\begin{CJK}{UTF8}{gbsn})(.*?)(\\\\end{CJK})\", r\"\\2\", text)\n",
    "    return text\n",
    "\n",
    "\n",
    "def get_initials(name: str) -> str:\n",
    "    \"\"\" Get the short name, e.g., A.-B. FamName\n",
    "    :param name: full name\n",
    "    :returns: initials\n",
    "    \"\"\"\n",
    "    initials = []\n",
    "    # account for non western names often in ()\n",
    "    if '(' in name:\n",
    "        name = clean_non_western_encoded_characters_commands(name)\n",
    "        suffix = re.findall(r\"\\((.*?)\\)\", name)[0]\n",
    "        name = name.replace(f\"({suffix})\", '')\n",
    "    else:\n",
    "        suffix = ''\n",
    "    split = name.split()\n",
    "    for token in split[:-1]:\n",
    "        if '-' in token:\n",
    "            current = '-'.join([k[0] + '.' for k in token.split('-')])\n",
    "        else:\n",
    "            current = token[0] + '.'\n",
    "        initials.append(current)\n",
    "    initials.append(split[-1].strip())\n",
    "    if suffix:\n",
    "        initials.append(f\"({suffix})\")\n",
    "    return ' '.join(initials)"
   ]
  },
  {
   "cell_type": "markdown",
   "id": "14bd6310",
   "metadata": {
    "papermill": {
     "duration": 0.002838,
     "end_time": "2025-07-25T04:30:27.304583",
     "exception": false,
     "start_time": "2025-07-25T04:30:27.301745",
     "status": "completed"
    },
    "tags": []
   },
   "source": [
    "## get list of arxiv paper candidates\n",
    "\n",
    "We use the MPIA mitarbeiter list webpage from mpia.de to get author names\n",
    "We then get all new papers from Arxiv and match authors"
   ]
  },
  {
   "cell_type": "code",
   "execution_count": 3,
   "id": "7ea813a8",
   "metadata": {
    "execution": {
     "iopub.execute_input": "2025-07-25T04:30:27.311150Z",
     "iopub.status.busy": "2025-07-25T04:30:27.310936Z",
     "iopub.status.idle": "2025-07-25T04:30:45.202823Z",
     "shell.execute_reply": "2025-07-25T04:30:45.202209Z"
    },
    "papermill": {
     "duration": 17.896504,
     "end_time": "2025-07-25T04:30:45.203955",
     "exception": false,
     "start_time": "2025-07-25T04:30:27.307451",
     "status": "completed"
    },
    "tags": []
   },
   "outputs": [],
   "source": [
    "# deal with the author list and edge cases of people that cannot be consistent on their name  \n",
    "\n",
    "def filter_non_scientists(name: str) -> bool:\n",
    "    \"\"\" Loose filter on expected authorships\n",
    "\n",
    "    removing IT, administration, technical staff\n",
    "    :param name: name\n",
    "    :returns: False if name is not a scientist\n",
    "    \"\"\"\n",
    "    remove_list = ['Licht', 'Binroth', 'Witzel', 'Jordan',\n",
    "                   'Zähringer', 'Scheerer', 'Hoffmann', 'Düe',\n",
    "                   'Hellmich', 'Enkler-Scharpegge', 'Witte-Nguy',\n",
    "                   'Dehen', 'Beckmann', 'Jager', 'Jäger'\n",
    "                  ]\n",
    "\n",
    "    for k in remove_list:\n",
    "        if k in name:\n",
    "            return False\n",
    "    return True\n",
    "\n",
    "def add_author_to_list(author_list: list) -> list:\n",
    "    \"\"\" Add author to list if not already in list\n",
    "    \n",
    "    :param author: author name\n",
    "    :param author_list: list of authors\n",
    "    :returns: updated list of authors\n",
    "    \"\"\"\n",
    "    add_list = ['T. Henning']\n",
    "\n",
    "    for author in add_list:\n",
    "        if author not in author_list:\n",
    "            author_list.append(author)\n",
    "    return author_list\n",
    "\n",
    "# get list from MPIA website\n",
    "# filter for non-scientists (mpia.get_mpia_mitarbeiter_list() does some filtering)\n",
    "mpia_authors = [k[1] for k in mpia.get_mpia_mitarbeiter_list() if filter_non_scientists(k[1])]\n",
    "# add some missing author because of inconsistencies in their MPIA name and author name on papers\n",
    "mpia_authors = add_author_to_list(mpia_authors)"
   ]
  },
  {
   "cell_type": "code",
   "execution_count": 4,
   "id": "2645e73a",
   "metadata": {
    "execution": {
     "iopub.execute_input": "2025-07-25T04:30:45.210861Z",
     "iopub.status.busy": "2025-07-25T04:30:45.210665Z",
     "iopub.status.idle": "2025-07-25T04:30:45.683678Z",
     "shell.execute_reply": "2025-07-25T04:30:45.683009Z"
    },
    "papermill": {
     "duration": 0.477427,
     "end_time": "2025-07-25T04:30:45.684604",
     "exception": false,
     "start_time": "2025-07-25T04:30:45.207177",
     "status": "completed"
    },
    "tags": []
   },
   "outputs": [
    {
     "name": "stdout",
     "output_type": "stream",
     "text": [
      "M. Zhang  ->  M. Zhang  |  ['M. Zhang']\n",
      "M. S. d. Joode  ->  M. S. d. Joode  |  ['M. S. d. Joode']\n",
      "N. Wang  ->  N. Wang  |  ['N. Wang']\n",
      "S. Jiao  ->  S. Jiao  |  ['S. Jiao']\n",
      "Arxiv has 48 new papers today\n",
      "          4 with possible author matches\n"
     ]
    }
   ],
   "source": [
    "new_papers = get_new_papers()\n",
    "# add manual references\n",
    "add_paper_refs = []\n",
    "new_papers.extend([get_paper_from_identifier(k) for k in add_paper_refs])\n",
    "\n",
    "def robust_call(fn, value, *args, **kwargs):\n",
    "    try:\n",
    "        return fn(value, *args, **kwargs)\n",
    "    except Exception:\n",
    "        return value\n",
    "\n",
    "candidates = []\n",
    "for paperk in new_papers:\n",
    "    # Check author list with their initials\n",
    "    normed_author_list = [robust_call(mpia.get_initials, k) for k in paperk['authors']]\n",
    "    hl_authors = highlight_authors_in_list(normed_author_list, mpia_authors, verbose=True)\n",
    "    matches = [(hl, orig) for hl, orig in zip(hl_authors, paperk['authors']) if 'mark' in hl]\n",
    "    paperk['authors'] = hl_authors\n",
    "    if matches:\n",
    "        # only select paper if an author matched our list\n",
    "        candidates.append(paperk)\n",
    "print(\"\"\"Arxiv has {0:,d} new papers today\"\"\".format(len(new_papers)))        \n",
    "print(\"\"\"          {0:,d} with possible author matches\"\"\".format(len(candidates)))"
   ]
  },
  {
   "cell_type": "markdown",
   "id": "3543b34a",
   "metadata": {
    "papermill": {
     "duration": 0.002974,
     "end_time": "2025-07-25T04:30:45.690786",
     "exception": false,
     "start_time": "2025-07-25T04:30:45.687812",
     "status": "completed"
    },
    "tags": []
   },
   "source": [
    "# Parse sources and generate relevant outputs\n",
    "\n",
    "From the candidates, we do the following steps:\n",
    "* get their tarball from ArXiv (and extract data)\n",
    "* find the main .tex file: find one with \\documentclass{...} (sometimes it's non trivial)\n",
    "* Check affiliations with :func:`validation`, which uses :func:`mpia.affiliation_verifications`\n",
    "* If passing the affiliations: we parse the .tex source\n",
    "   * inject sub-documents into the main (flatten the main document)\n",
    "   * parse structure, extract information (title, abstract, authors, figures...)\n",
    "   * handles `\\graphicspath` if provided\n",
    "* Generate the .md document."
   ]
  },
  {
   "cell_type": "code",
   "execution_count": 5,
   "id": "9576b79e",
   "metadata": {
    "execution": {
     "iopub.execute_input": "2025-07-25T04:30:45.697475Z",
     "iopub.status.busy": "2025-07-25T04:30:45.697296Z",
     "iopub.status.idle": "2025-07-25T04:30:53.434427Z",
     "shell.execute_reply": "2025-07-25T04:30:53.433627Z"
    },
    "papermill": {
     "duration": 7.741675,
     "end_time": "2025-07-25T04:30:53.435448",
     "exception": false,
     "start_time": "2025-07-25T04:30:45.693773",
     "status": "completed"
    },
    "scrolled": false,
    "tags": []
   },
   "outputs": [
    {
     "data": {
      "application/vnd.jupyter.widget-view+json": {
       "model_id": "c4fe85f685fb49a9bbf4a3c54df17ad9",
       "version_major": 2,
       "version_minor": 0
      },
      "text/plain": [
       "  0%|          | 0/4 [00:00<?, ?it/s]"
      ]
     },
     "metadata": {},
     "output_type": "display_data"
    },
    {
     "name": "stdout",
     "output_type": "stream",
     "text": [
      "Retrieving document from  https://arxiv.org/e-print/2507.18002\n"
     ]
    },
    {
     "name": "stdout",
     "output_type": "stream",
     "text": [
      "extracting tarball to tmp_2507.18002..."
     ]
    },
    {
     "name": "stdout",
     "output_type": "stream",
     "text": [
      " done.\n",
      "Retrieving document from  https://arxiv.org/e-print/2507.18185\n",
      "extracting tarball to tmp_2507.18185..."
     ]
    },
    {
     "name": "stdout",
     "output_type": "stream",
     "text": [
      " done.\n",
      "Retrieving document from  https://arxiv.org/e-print/2507.18187\n"
     ]
    },
    {
     "name": "stdout",
     "output_type": "stream",
     "text": [
      "extracting tarball to tmp_2507.18187... done.\n",
      "Retrieving document from  https://arxiv.org/e-print/2507.18547\n",
      "extracting tarball to tmp_2507.18547..."
     ]
    },
    {
     "name": "stdout",
     "output_type": "stream",
     "text": [
      " done.\n"
     ]
    },
    {
     "name": "stdout",
     "output_type": "stream",
     "text": [
      "S. Jiao  ->  S. Jiao  |  ['S. Jiao']\n"
     ]
    },
    {
     "name": "stdout",
     "output_type": "stream",
     "text": [
      "Issues with the citations\n",
      "list index out of range\n"
     ]
    }
   ],
   "source": [
    "documents = []\n",
    "failed = []\n",
    "for paper in tqdm(candidates):\n",
    "    # debug crap\n",
    "    paper['identifier'] = paper['identifier'].lower().replace('arxiv:', '').replace(r'\\n', '').strip()\n",
    "    paper_id = paper['identifier']\n",
    "    \n",
    "    folder = f'tmp_{paper_id}'\n",
    "\n",
    "    try:\n",
    "        if not os.path.isdir(folder):\n",
    "            folder = retrieve_document_source(f\"{paper_id}\", f'tmp_{paper_id}')\n",
    "        \n",
    "        try:\n",
    "            doc = latex.LatexDocument(folder, validation=validation)    \n",
    "        except AffiliationError as affilerror:\n",
    "            msg = f\"ArXiv:{paper_id:s} is not an MPIA paper... \" + str(affilerror)\n",
    "            failed.append((paper, \"affiliation error: \" + str(affilerror) ))\n",
    "            continue\n",
    "        \n",
    "        # Hack because sometimes author parsing does not work well\n",
    "        if (len(doc.authors) != len(paper['authors'])):\n",
    "            doc._authors = paper['authors']\n",
    "        else:\n",
    "            # highlight authors (FIXME: doc.highlight_authors)\n",
    "            # done on arxiv paper already\n",
    "            doc._authors = highlight_authors_in_list(\n",
    "                [get_initials(k) for k in doc.authors], \n",
    "                mpia_authors, verbose=True)\n",
    "        if (doc.abstract) in (None, ''):\n",
    "            doc._abstract = paper['abstract']\n",
    "            \n",
    "        doc.comment = (get_markdown_badge(paper_id) + \n",
    "                       \"<mark>Appeared on: \" + paper['date'] + \"</mark> - \")\n",
    "        if paper['comments']:\n",
    "            doc.comment += \" _\" + paper['comments'] + \"_\"\n",
    "        \n",
    "        full_md = doc.generate_markdown_text()\n",
    "        \n",
    "        full_md += get_markdown_qrcode(paper_id)\n",
    "        \n",
    "        # replace citations\n",
    "        try:\n",
    "            bibdata = latex_bib.LatexBib.from_doc(doc)\n",
    "            full_md = latex_bib.replace_citations(full_md, bibdata)\n",
    "        except Exception as e:\n",
    "            print(\"Issues with the citations\")\n",
    "            print(e)\n",
    "        \n",
    "        documents.append((paper_id, full_md))\n",
    "    except Exception as e:\n",
    "        warnings.warn(latex.LatexWarning(f\"{paper_id:s} did not run properly\\n\" +\n",
    "                                         str(e)\n",
    "                                        ))\n",
    "        failed.append((paper, \"latex error \" + str(e)))"
   ]
  },
  {
   "cell_type": "markdown",
   "id": "2505a25c",
   "metadata": {
    "papermill": {
     "duration": 0.00355,
     "end_time": "2025-07-25T04:30:53.443032",
     "exception": false,
     "start_time": "2025-07-25T04:30:53.439482",
     "status": "completed"
    },
    "tags": []
   },
   "source": [
    "### Export the logs\n",
    "\n",
    "Throughout, we also keep track of the logs per paper. see `logs-{today date}.md` "
   ]
  },
  {
   "cell_type": "code",
   "execution_count": 6,
   "id": "d733828a",
   "metadata": {
    "execution": {
     "iopub.execute_input": "2025-07-25T04:30:53.451060Z",
     "iopub.status.busy": "2025-07-25T04:30:53.450825Z",
     "iopub.status.idle": "2025-07-25T04:30:53.467599Z",
     "shell.execute_reply": "2025-07-25T04:30:53.466971Z"
    },
    "papermill": {
     "duration": 0.022054,
     "end_time": "2025-07-25T04:30:53.468642",
     "exception": false,
     "start_time": "2025-07-25T04:30:53.446588",
     "status": "completed"
    },
    "scrolled": false,
    "tags": []
   },
   "outputs": [
    {
     "data": {
      "text/markdown": [
       "## Successful papers"
      ],
      "text/plain": [
       "<IPython.core.display.Markdown object>"
      ]
     },
     "metadata": {},
     "output_type": "display_data"
    },
    {
     "data": {
      "text/markdown": [
       "\n",
       "|||\n",
       "|---:|:---|\n",
       "| [![arXiv](https://img.shields.io/badge/arXiv-2507.18547-b31b1b.svg)](https://arxiv.org/abs/2507.18547) | **An S-shaped filament formed due to Cloud-Cloud Collision in molecular cloud G178.28-00.61**  |\n",
       "|| T. Zhang, et al. -- incl., <mark>S. Jiao</mark> |\n",
       "|*Appeared on*| *2025-07-25*|\n",
       "|*Comments*| **|\n",
       "|**Abstract**|            We present compelling observational evidence supporting G178.28-00.61 as an early-stage candidate for Cloud-Cloud Collision (CCC), with indications of the formation of an S-shaped filament, evenly-separated dense cores, and young star clusters. The observations of CO molecular line emission demonstrate the existence of two interacting molecular clouds with systemic velocities of 0.8 km/s and -1.2 km/s, respectively. The convergence zone of these two clouds reveals an S-shaped filament in the JCMT 850 micron continuum image, suggesting cloud interaction. In line with expectations from CCC simulations, broad bridging features are discernible in the position-velocity diagrams. An elevated concentration of identified Class I and II young stellar objects along the filament at the intersection area further supports the hypothesis of a collision-induced origin. This observation could be explained by a recent MHD model of CCC (Kong et al. 2024), which predicts a similar morphology, scale, density, and unbound status, as well as the orientation of the polarization.         |"
      ],
      "text/plain": [
       "[2507.18547] An S-shaped filament formed due to Cloud-Cloud Collision in molecular cloud G178.28-00.61\n",
       "\tT. Zhang, et al. -- incl., <mark>S. Jiao</mark>"
      ]
     },
     "metadata": {},
     "output_type": "display_data"
    },
    {
     "data": {
      "text/markdown": [
       "## Failed papers"
      ],
      "text/plain": [
       "<IPython.core.display.Markdown object>"
      ]
     },
     "metadata": {},
     "output_type": "display_data"
    },
    {
     "data": {
      "text/markdown": [
       "\n",
       "|||\n",
       "|---:|:---|\n",
       "| [![arXiv](https://img.shields.io/badge/arXiv-2507.18185-b31b1b.svg)](https://arxiv.org/abs/2507.18185) | **Multi-scale radiative-transfer model of the protoplanetary disc DoAr 44**  |\n",
       "|| <mark>M. S. d. Joode</mark>, M. Brož |\n",
       "|*Appeared on*| *2025-07-25*|\n",
       "|*Comments*| *13 pages, 11 figures. Accepted by Astronomy & Astrophysics*|\n",
       "|**Abstract**|            We aim to construct a comprehensive global multi-scale kinematic equilibrium radiative-transfer model for the pre-transitional disc of DoAr 44 (Haro 1-16, V2062 Oph) in the Ophiuchus star-forming region. This model integrates diverse observational datasets to describe the system, spanning from the accretion region to the outer disc. Our analysis utilises a large set of observational data, including ALMA continuum complex visibilities, VLTI/GRAVITY continuum squared visibilities, closure phases, and triple products, as well as VLT/UVES and VLT/X-shooter H-alpha spectra. Additionally, we incorporated absolute flux measurements from ground-based optical observatories, Spitzer, IRAS, the Submillimeter Array, the IRAM, or the ATCA radio telescopes. These data sets were used to constrain the structure and kinematics of the object through radiative-transfer modelling. Our model reveals that the spectral line profiles are best explained by an optically thin spherical inflow/outflow within the co-rotation radius of the star, exhibiting velocities exceeding 380 km/s. The VLTI near-infrared interferometric observations are consistent with an inner disc extending from 0.1 to 0.2 au. The ALMA sub-millimetre observations indicate a dust ring located between 36 and 56 au, probably related to the CO2 condensation line. The global density and temperature profiles derived from our model provide insight into an intermediate disc, located in the terrestrial planet-forming zone, which has not yet been spatially resolved.         |\n",
       "|<p style=\"color:green\"> **ERROR** </p>| <p style=\"color:green\">affiliation error: mpia.affiliation_verifications: '69117' keyword not found.</p> |"
      ],
      "text/plain": [
       "<IPython.core.display.Markdown object>"
      ]
     },
     "metadata": {},
     "output_type": "display_data"
    },
    {
     "data": {
      "text/markdown": [
       "\n",
       "|||\n",
       "|---:|:---|\n",
       "| [![arXiv](https://img.shields.io/badge/arXiv-2507.18002-b31b1b.svg)](https://arxiv.org/abs/2507.18002) | **CU-JADE: A Method for Traversing Extinction Jumps along the Line-of-Sight**  |\n",
       "|| S. Zhang, et al. -- incl., <mark>M. Zhang</mark> |\n",
       "|*Appeared on*| *2025-07-25*|\n",
       "|*Comments*| *31 pages, 15 figures, 2 tables; accepted for publication in AJ*|\n",
       "|**Abstract**|            Although interstellar dust extinction serves as a powerful distance estimator, the solar system's location within the Galactic plane complicates distance determinations, especially for molecular clouds (MCs) at varying distances along the line of sight (LoS). The presence of complex extinction patterns along LoS introduces degeneracies, resulting in less accurate distance measurements to overlapping MCs in crowded regions of the Galactic plane. In this study, we develop the CUSUM-based Jump-point Analysis for Distance Estimation (CU-JADE), a novel method designed to help mitigate these observational challenges. The key strengths of CU-JADE include: (1) sensitivity to detect abrupt jumps in $Distance$-$A_{\\lambda}$ ($D$-$A$) datasets, (2) minimal systematic errors as demonstrated on both mock and observed data, and (3) the ability to combine CUSUM analysis with multi-wavelength data to improve the completeness of distance measurements for nearby gas structures, even for extinction values as low as $\\Delta A_{V} \\gtrsim 0.15$ mag. By combining CO survey data with a large sample of stars characterized by high-precision parallaxes and extinctions, we uncovered the multi-layered molecular gas distribution in the high-latitude Cepheus region. We also determined accurate distances to MCs beyond the Cygnus Rift by analyzing the intricate structure of gas and extinction within the Galactic plane. Additionally, we constructed a full-sky 3D extinction map extending to 4 kpc, which provides critical insights into dense interstellar medium components dominated by molecular hydrogen. These results advance our understanding of the spatial distribution and physical properties of MCs across the Milky Way.         |\n",
       "|<p style=\"color:green\"> **ERROR** </p>| <p style=\"color:green\">affiliation error: mpia.affiliation_verifications: 'Heidelberg' keyword not found.</p> |"
      ],
      "text/plain": [
       "<IPython.core.display.Markdown object>"
      ]
     },
     "metadata": {},
     "output_type": "display_data"
    },
    {
     "data": {
      "text/markdown": [
       "\n",
       "|||\n",
       "|---:|:---|\n",
       "| [![arXiv](https://img.shields.io/badge/arXiv-2507.18187-b31b1b.svg)](https://arxiv.org/abs/2507.18187) | **Results of 15-Year Pulsar Timing of PSR J0007+7303 with Fermi-LAT**  |\n",
       "|| Z.-x. Yu, et al. -- incl., <mark>N. Wang</mark> |\n",
       "|*Appeared on*| *2025-07-25*|\n",
       "|*Comments*| *Accepted for publication in ApJ*|\n",
       "|**Abstract**|            The study of pulsar glitches provides a unique window into the internal structure and dynamic processes of neutron stars. PSR J0007+7303, a very bright gamma-ray pulsar, is the first pulsar discovered by the Fermi-LAT telescope. In this paper, we present the 15 years of timing results of this pulsar using the Fermi-LAT data. We identified nine glitches, five of which are newly discovered. Among these, two are small glitches, occurring between the three previously reported ones, while the other four are large glitches. The glitches exhibit fractional frequency changes ranging from 15 x 10^-9 to 1238 x 10^-9, with intervals of approximately 1-2 years between events. Uniquely, this pulsar shows no exponential recovery behavior following any glitch, setting it apart from most glitching pulsars. Furthermore, no significant changes were observed in the gamma-ray pulse profile, flux, or phase-averaged spectra before and after glitches, indicating the stability of the pulsar's emission properties despite internal changes. A parametric analysis of the glitches yielded a fractional moment of inertia of the crustal superfluid involved in glitches as 1.06 percent, which matches extremely well with previous statistical work if the non-dissipative entrainment effect is not considered and strongly supports the internal origin of these glitches. These results highlight the distinct glitch behavior of PSR J0007+7303 and offer valuable insights into the crust-superfluid interaction in neutron stars. The physical origin of no exponential recovery is also discussed.         |\n",
       "|<p style=\"color:green\"> **ERROR** </p>| <p style=\"color:green\">affiliation error: mpia.affiliation_verifications: 'Heidelberg' keyword not found.</p> |"
      ],
      "text/plain": [
       "<IPython.core.display.Markdown object>"
      ]
     },
     "metadata": {},
     "output_type": "display_data"
    }
   ],
   "source": [
    "import datetime\n",
    "today = str(datetime.date.today())\n",
    "logfile = f\"_build/html/logs/log-{today}.md\"\n",
    "\n",
    "\n",
    "with open(logfile, 'w') as logs:\n",
    "    # Success\n",
    "    logs.write(f'# Arxiv on Deck 2: Logs - {today}\\n\\n')\n",
    "    logs.write(\"\"\"* Arxiv had {0:,d} new papers\\n\"\"\".format(len(new_papers)))\n",
    "    logs.write(\"\"\"    * {0:,d} with possible author matches\\n\\n\"\"\".format(len(candidates)))\n",
    "    logs.write(\"## Sucessful papers\\n\\n\")\n",
    "    display(Markdown(\"## Successful papers\"))\n",
    "    success = [k[0] for k in documents]\n",
    "    for candid in candidates:\n",
    "        if candid['identifier'].split(':')[-1] in success:\n",
    "            display(candid)\n",
    "            logs.write(candid.generate_markdown_text() + '\\n\\n')\n",
    "\n",
    "    ## failed\n",
    "    logs.write(\"## Failed papers\\n\\n\")\n",
    "    display(Markdown(\"## Failed papers\"))\n",
    "    failed = sorted(failed, key=lambda x: x[1])\n",
    "    current_reason = \"\"\n",
    "    for paper, reason in failed:\n",
    "        if 'affiliation' in reason:\n",
    "            color = 'green'\n",
    "        else:\n",
    "            color = 'red'\n",
    "        data = Markdown(\n",
    "                paper.generate_markdown_text() + \n",
    "                f'\\n|<p style=\"color:{color:s}\"> **ERROR** </p>| <p style=\"color:{color:s}\">{reason:s}</p> |'\n",
    "               )\n",
    "        if reason != current_reason:\n",
    "            logs.write(f'### {reason:s} \\n\\n')\n",
    "            current_reason = reason\n",
    "        logs.write(data.data + '\\n\\n')\n",
    "        \n",
    "        # only display here the important errors (all in logs)\n",
    "        # if color in ('red',):\n",
    "        display(data)"
   ]
  },
  {
   "cell_type": "markdown",
   "id": "472d20ee",
   "metadata": {
    "papermill": {
     "duration": 0.004098,
     "end_time": "2025-07-25T04:30:53.476853",
     "exception": false,
     "start_time": "2025-07-25T04:30:53.472755",
     "status": "completed"
    },
    "tags": []
   },
   "source": [
    "## Export documents\n",
    "\n",
    "We now write the .md files and export relevant images"
   ]
  },
  {
   "cell_type": "code",
   "execution_count": 7,
   "id": "d426aed9",
   "metadata": {
    "execution": {
     "iopub.execute_input": "2025-07-25T04:30:53.486407Z",
     "iopub.status.busy": "2025-07-25T04:30:53.486180Z",
     "iopub.status.idle": "2025-07-25T04:30:53.492966Z",
     "shell.execute_reply": "2025-07-25T04:30:53.492322Z"
    },
    "papermill": {
     "duration": 0.012474,
     "end_time": "2025-07-25T04:30:53.493943",
     "exception": false,
     "start_time": "2025-07-25T04:30:53.481469",
     "status": "completed"
    },
    "tags": []
   },
   "outputs": [],
   "source": [
    "def export_markdown_summary(md: str, md_fname:str, directory: str):\n",
    "    \"\"\"Export MD document and associated relevant images\"\"\"\n",
    "    import os\n",
    "    import shutil\n",
    "    import re\n",
    "\n",
    "    if (os.path.exists(directory) and not os.path.isdir(directory)):\n",
    "        raise RuntimeError(f\"a non-directory file exists with name {directory:s}\")\n",
    "\n",
    "    if (not os.path.exists(directory)):\n",
    "        print(f\"creating directory {directory:s}\")\n",
    "        os.mkdir(directory)\n",
    "\n",
    "    fig_fnames = (re.compile(r'\\[Fig.*\\]\\((.*)\\)').findall(md) + \n",
    "                  re.compile(r'\\<img src=\"([^>\\s]*)\"[^>]*/>').findall(md))\n",
    "    print(\"found figures\", fig_fnames)\n",
    "    for fname in fig_fnames:\n",
    "        if 'http' in fname:\n",
    "            # No need to copy online figures\n",
    "            continue\n",
    "        if not os.path.exists(fname):\n",
    "            print(\"file not found\", fname)\n",
    "            continue\n",
    "        print(\"copying \", fname, \"to\", directory)\n",
    "        destdir = os.path.join(directory, os.path.dirname(fname))\n",
    "        destfname = os.path.join(destdir, os.path.basename(fname))\n",
    "        try:\n",
    "            os.makedirs(destdir)\n",
    "        except FileExistsError:\n",
    "            pass\n",
    "        shutil.copy(fname, destfname)\n",
    "    with open(os.path.join(directory, md_fname), 'w') as fout:\n",
    "        fout.write(md)\n",
    "    print(\"exported in \", os.path.join(directory, md_fname))\n",
    "    [print(\"    + \" + os.path.join(directory,fk)) for fk in fig_fnames]"
   ]
  },
  {
   "cell_type": "code",
   "execution_count": 8,
   "id": "014d04a4",
   "metadata": {
    "execution": {
     "iopub.execute_input": "2025-07-25T04:30:53.503025Z",
     "iopub.status.busy": "2025-07-25T04:30:53.502807Z",
     "iopub.status.idle": "2025-07-25T04:30:53.508380Z",
     "shell.execute_reply": "2025-07-25T04:30:53.507787Z"
    },
    "papermill": {
     "duration": 0.011202,
     "end_time": "2025-07-25T04:30:53.509345",
     "exception": false,
     "start_time": "2025-07-25T04:30:53.498143",
     "status": "completed"
    },
    "tags": []
   },
   "outputs": [
    {
     "name": "stdout",
     "output_type": "stream",
     "text": [
      "found figures ['tmp_2507.18547/./N_T_pol.png', 'tmp_2507.18547/./SED_fit.png', 'tmp_2507.18547/./moment1_2_all.png', 'tmp_2507.18547/./rgb_map.png', 'tmp_2507.18547/./color_diagram.png']\n",
      "copying  tmp_2507.18547/./N_T_pol.png to _build/html/\n",
      "copying  tmp_2507.18547/./SED_fit.png to _build/html/\n",
      "copying  tmp_2507.18547/./moment1_2_all.png to _build/html/\n",
      "copying  tmp_2507.18547/./rgb_map.png to _build/html/\n",
      "copying  tmp_2507.18547/./color_diagram.png to _build/html/\n",
      "exported in  _build/html/2507.18547.md\n",
      "    + _build/html/tmp_2507.18547/./N_T_pol.png\n",
      "    + _build/html/tmp_2507.18547/./SED_fit.png\n",
      "    + _build/html/tmp_2507.18547/./moment1_2_all.png\n",
      "    + _build/html/tmp_2507.18547/./rgb_map.png\n",
      "    + _build/html/tmp_2507.18547/./color_diagram.png\n"
     ]
    }
   ],
   "source": [
    "for paper_id, md in documents:\n",
    "    export_markdown_summary(md, f\"{paper_id:s}.md\", '_build/html/')"
   ]
  },
  {
   "cell_type": "markdown",
   "id": "f087a0a7",
   "metadata": {
    "papermill": {
     "duration": 0.004219,
     "end_time": "2025-07-25T04:30:53.517861",
     "exception": false,
     "start_time": "2025-07-25T04:30:53.513642",
     "status": "completed"
    },
    "tags": []
   },
   "source": [
    "## Display the papers\n",
    "\n",
    "Not necessary but allows for a quick check."
   ]
  },
  {
   "cell_type": "code",
   "execution_count": 9,
   "id": "fd25f625",
   "metadata": {
    "execution": {
     "iopub.execute_input": "2025-07-25T04:30:53.527020Z",
     "iopub.status.busy": "2025-07-25T04:30:53.526806Z",
     "iopub.status.idle": "2025-07-25T04:30:53.531223Z",
     "shell.execute_reply": "2025-07-25T04:30:53.530695Z"
    },
    "papermill": {
     "duration": 0.010128,
     "end_time": "2025-07-25T04:30:53.532178",
     "exception": false,
     "start_time": "2025-07-25T04:30:53.522050",
     "status": "completed"
    },
    "scrolled": false,
    "tags": []
   },
   "outputs": [
    {
     "data": {
      "text/markdown": [
       "<div class=\"macros\" style=\"visibility:hidden;\">\n",
       "$\\newcommand{\\ensuremath}{}$\n",
       "$\\newcommand{\\xspace}{}$\n",
       "$\\newcommand{\\object}[1]{\\texttt{#1}}$\n",
       "$\\newcommand{\\farcs}{{.}''}$\n",
       "$\\newcommand{\\farcm}{{.}'}$\n",
       "$\\newcommand{\\arcsec}{''}$\n",
       "$\\newcommand{\\arcmin}{'}$\n",
       "$\\newcommand{\\ion}[2]{#1#2}$\n",
       "$\\newcommand{\\textsc}[1]{\\textrm{#1}}$\n",
       "$\\newcommand{\\hl}[1]{\\textrm{#1}}$\n",
       "$\\newcommand{\\footnote}[1]{}$\n",
       "$\\newcommand$\n",
       "$\\newcommand$</div>\n",
       "\n",
       "\n",
       "\n",
       "<div id=\"title\">\n",
       "\n",
       "# An S-shaped filament formed due to Cloud-Cloud Collision in molecular cloud G178.28-00.61\n",
       "\n",
       "</div>\n",
       "<div id=\"comments\">\n",
       "\n",
       "[![arXiv](https://img.shields.io/badge/arXiv-2507.18547-b31b1b.svg)](https://arxiv.org/abs/2507.18547)<mark>Appeared on: 2025-07-25</mark> - \n",
       "\n",
       "</div>\n",
       "<div id=\"authors\">\n",
       "\n",
       "T. Zhang, et al. -- incl., <mark>S. Jiao</mark>\n",
       "\n",
       "</div>\n",
       "<div id=\"abstract\">\n",
       "\n",
       "**Abstract:** We present compelling observational evidence supporting G178.28-00.61 as an early-stage candidate for Cloud-Cloud Collision (CCC), with indications of the formation of an S-shaped filament, evenly-separated dense cores, and young star clusters. The observations of CO molecular line emission demonstrate the existence of two interacting molecular clouds with systemic velocities of 0.8 km s $^{-1}$ and -1.2 km s $^{-1}$ , respectively. The convergence zone of these two clouds reveals an S-shaped filament in the JCMT 850 $\\mu$ m continuum image, suggesting cloud interaction. In line with expectations from CCC simulations, broad bridging features are discernible in the position-velocity diagrams. An elevated concentration of identified Class I and II young stellar objects along the filament at the intersection area further supports the hypothesis of a collision-induced origin.This observation could be explained by a recent MHD model of CCC (Kong et al. 2024), which predicts a similar morphology, scale, density, and unbound status, as well as the orientation of the polarization.\n",
       "\n",
       "</div>\n",
       "\n",
       "<div id=\"div_fig1\">\n",
       "\n",
       "<img src=\"tmp_2507.18547/./N_T_pol.png\" alt=\"Fig1.1\" width=\"50%\"/><img src=\"tmp_2507.18547/./SED_fit.png\" alt=\"Fig1.2\" width=\"50%\"/>\n",
       "\n",
       "**Figure 1. -** (a) The 850 $\\mu$m continuum emission map of G178.2-0.6 in color scale, detected by the JCMT and Planck. Ten emission peaks are marked, which were subject to subsequent spectral observation using the KVN in single point mode. The cores identified with the dendrogram are delineated by black contours. The JCMT beam size and the corresponding physical scale are shown in the bottom left corner. The dust polarization is shown by the dark blue solid line at the center, roughly perpendicular to the filament. (b) to (d) The pixel-by-pixel SED fitting results for two-component modified grey body spectra, based on continuum images across four bands (70, 160, 250 $\\mu$m Herschel data and 850 $\\mu$m JCMT+Planck data). (b) The total column density map, overlaid with 850 $\\mu$m continuum contours which range over 0.47--0.77 mJy/arcsec$^2$ with a step of 0.1 mJy/arcsec$^2$. (c) and (d): the derived dust temperature of the warm and cold component, respectively. (e) and (f) The example SEDs of core A2-4 with single-component and two-component fit. (*fig:continuum-SED*)\n",
       "\n",
       "</div>\n",
       "<div id=\"div_fig2\">\n",
       "\n",
       "<img src=\"tmp_2507.18547/./moment1_2_all.png\" alt=\"Fig10\" width=\"100%\"/>\n",
       "\n",
       "**Figure 10. -** Moment 1 maps of $^{13}$CO (1-0) (left panel) and $^{12}$CO (2-1) (right panel) in color scale, with corresponding moment 2 maps overlaid as green contours. The contours for the line widths of $^{13}$CO (1-0) are 1.7--2.5 km s$^{-1}$ with a step of 0.2 km s$^{-1}$, and for $^{12}$CO (2-1) are 3.4--4.0 km s$^{-1}$ with a step of 0.2 km s$^{-1}$. The continuum peaks are labeled and found to locate at the intermediate velocity region. The beam sizes are shown as white circles. (*fig:moments*)\n",
       "\n",
       "</div>\n",
       "<div id=\"div_fig3\">\n",
       "\n",
       "<img src=\"tmp_2507.18547/./rgb_map.png\" alt=\"Fig2.1\" width=\"50%\"/><img src=\"tmp_2507.18547/./color_diagram.png\" alt=\"Fig2.2\" width=\"50%\"/>\n",
       "\n",
       "**Figure 2. -** Left panel: WISE three-color composite image (RGB: 22 $\\mu$m, 12 $\\mu$m, 3.4 $\\mu$m), overlaid with associated YSOs and 850 $\\mu$m continuum contours. Class I YSOs are depicted in yellow diamonds, Class II YSOs in squares, shock knots in circles. The black cross shows the IRAS point source. The continuum peaks are marked as white crosses and names on the side. Right panel: The color–color diagram for the bands 3.4 $\\mu$m, 4.6 $\\mu$m, and 12 $\\mu$m used to classify YSOs associated with G178. The dashed lines denotes the criteria used by \\cite{koe12,koe14} to delineate the YSO classes. (*fig:WISE_YSO*)\n",
       "\n",
       "</div><div id=\"qrcode\"><img src=https://api.qrserver.com/v1/create-qr-code/?size=100x100&data=\"https://arxiv.org/abs/2507.18547\"></div>"
      ],
      "text/plain": [
       "<IPython.core.display.Markdown object>"
      ]
     },
     "metadata": {},
     "output_type": "display_data"
    }
   ],
   "source": [
    "[display(Markdown(k[1])) for k in documents];"
   ]
  },
  {
   "cell_type": "markdown",
   "id": "873873a4",
   "metadata": {
    "papermill": {
     "duration": 0.004358,
     "end_time": "2025-07-25T04:30:53.541004",
     "exception": false,
     "start_time": "2025-07-25T04:30:53.536646",
     "status": "completed"
    },
    "tags": []
   },
   "source": [
    "# Create HTML index"
   ]
  },
  {
   "cell_type": "code",
   "execution_count": 10,
   "id": "cf665672",
   "metadata": {
    "execution": {
     "iopub.execute_input": "2025-07-25T04:30:53.550635Z",
     "iopub.status.busy": "2025-07-25T04:30:53.550435Z",
     "iopub.status.idle": "2025-07-25T04:30:53.557299Z",
     "shell.execute_reply": "2025-07-25T04:30:53.556695Z"
    },
    "papermill": {
     "duration": 0.012703,
     "end_time": "2025-07-25T04:30:53.558301",
     "exception": false,
     "start_time": "2025-07-25T04:30:53.545598",
     "status": "completed"
    },
    "tags": []
   },
   "outputs": [
    {
     "name": "stdout",
     "output_type": "stream",
     "text": [
      "149  publications files modified in the last 7 days.\n"
     ]
    }
   ],
   "source": [
    "from datetime import datetime, timedelta, timezone\n",
    "from glob import glob\n",
    "import os\n",
    "\n",
    "files = glob('_build/html/*.md')\n",
    "days = 7\n",
    "now = datetime.today()\n",
    "res = []\n",
    "for fk in files:\n",
    "    stat_result = os.stat(fk).st_ctime\n",
    "    modified = datetime.fromtimestamp(stat_result, tz=timezone.utc).replace(tzinfo=None)\n",
    "    delta = now.today() - modified\n",
    "    if delta <= timedelta(days=days):\n",
    "        res.append((delta.seconds, fk))\n",
    "res = [k[1] for k in reversed(sorted(res, key=lambda x:x[1]))]\n",
    "npub = len(res)\n",
    "print(len(res), f\" publications files modified in the last {days:d} days.\")\n",
    "# [ print('\\t', k) for k in res ];"
   ]
  },
  {
   "cell_type": "code",
   "execution_count": 11,
   "id": "015de740",
   "metadata": {
    "execution": {
     "iopub.execute_input": "2025-07-25T04:30:53.568212Z",
     "iopub.status.busy": "2025-07-25T04:30:53.568017Z",
     "iopub.status.idle": "2025-07-25T04:30:53.579970Z",
     "shell.execute_reply": "2025-07-25T04:30:53.579440Z"
    },
    "papermill": {
     "duration": 0.017982,
     "end_time": "2025-07-25T04:30:53.580957",
     "exception": false,
     "start_time": "2025-07-25T04:30:53.562975",
     "status": "completed"
    },
    "tags": []
   },
   "outputs": [
    {
     "name": "stdout",
     "output_type": "stream",
     "text": [
      "12  publications in the last 7 days.\n"
     ]
    }
   ],
   "source": [
    "import datetime\n",
    "from glob import glob\n",
    "\n",
    "def get_last_n_days(lst, days=1):\n",
    "    \"\"\" Get the documents from the last n days \"\"\"\n",
    "    sorted_lst = sorted(lst, key=lambda x: x[1], reverse=True)\n",
    "    for fname, date in sorted_lst:\n",
    "        if date >= str(datetime.date.today() - datetime.timedelta(days=days)):\n",
    "            yield fname\n",
    "\n",
    "def extract_appearance_dates(lst_file):\n",
    "    dates = []\n",
    "\n",
    "    def get_date(line):\n",
    "        return line\\\n",
    "            .split('Appeared on:')[-1]\\\n",
    "            .split('</mark>')[0].strip()\n",
    "\n",
    "    for fname in lst:\n",
    "        with open(fname, 'r') as f:\n",
    "            found_date = False\n",
    "            for line in f:\n",
    "                if not found_date:\n",
    "                    if \"Appeared on\" in line:\n",
    "                        found_date = True\n",
    "                        dates.append((fname, get_date(line)))\n",
    "                else:\n",
    "                    break\n",
    "    return dates\n",
    "\n",
    "from glob import glob\n",
    "lst = glob('_build/html/*md')\n",
    "days = 7\n",
    "dates = extract_appearance_dates(lst)\n",
    "res = list(get_last_n_days(dates, days))\n",
    "npub = len(res)\n",
    "print(len(res), f\" publications in the last {days:d} days.\")"
   ]
  },
  {
   "cell_type": "code",
   "execution_count": 12,
   "id": "52ca0208",
   "metadata": {
    "execution": {
     "iopub.execute_input": "2025-07-25T04:30:53.590890Z",
     "iopub.status.busy": "2025-07-25T04:30:53.590709Z",
     "iopub.status.idle": "2025-07-25T04:30:53.595501Z",
     "shell.execute_reply": "2025-07-25T04:30:53.594951Z"
    },
    "papermill": {
     "duration": 0.010831,
     "end_time": "2025-07-25T04:30:53.596486",
     "exception": false,
     "start_time": "2025-07-25T04:30:53.585655",
     "status": "completed"
    },
    "scrolled": false,
    "tags": []
   },
   "outputs": [],
   "source": [
    "def create_carousel(npub=4):\n",
    "    \"\"\" Generate the HTML code for a carousel with `npub` slides \"\"\"\n",
    "    carousel = [\"\"\"  <div class=\"carousel\" \"\"\",\n",
    "                \"\"\"       data-flickity='{ \"autoPlay\": 10000, \"adaptiveHeight\": true, \"resize\": true, \"wrapAround\": true, \"pauseAutoPlayOnHover\": true, \"groupCells\": 1 }' id=\"asyncTypeset\">\"\"\"\n",
    "                ]\n",
    "    \n",
    "    item_str = \"\"\"    <div class=\"carousel-cell\"> <div id=\"slide{k}\" class=\"md_view\">Content {k}</div> </div>\"\"\"\n",
    "    for k in range(1, npub + 1):\n",
    "        carousel.append(item_str.format(k=k))\n",
    "    carousel.append(\"  </div>\")\n",
    "    return '\\n'.join(carousel)\n",
    "\n",
    "def create_grid(npub=4):\n",
    "    \"\"\" Generate the HTML code for a flat grid with `npub` slides \"\"\"\n",
    "    grid = [\"\"\"  <div class=\"grid\"> \"\"\",\n",
    "                ]\n",
    "    \n",
    "    item_str = \"\"\"    <div class=\"grid-item\"> <div id=\"slide{k}\" class=\"md_view\">Content {k}</div> </div>\"\"\"\n",
    "    for k in range(1, npub + 1):\n",
    "        grid.append(item_str.format(k=k))\n",
    "    grid.append(\"  </div>\")\n",
    "    return '\\n'.join(grid)"
   ]
  },
  {
   "cell_type": "code",
   "execution_count": 13,
   "id": "a6eac5b6",
   "metadata": {
    "execution": {
     "iopub.execute_input": "2025-07-25T04:30:53.606366Z",
     "iopub.status.busy": "2025-07-25T04:30:53.606187Z",
     "iopub.status.idle": "2025-07-25T04:30:53.610958Z",
     "shell.execute_reply": "2025-07-25T04:30:53.610431Z"
    },
    "papermill": {
     "duration": 0.010828,
     "end_time": "2025-07-25T04:30:53.611886",
     "exception": false,
     "start_time": "2025-07-25T04:30:53.601058",
     "status": "completed"
    },
    "scrolled": false,
    "tags": []
   },
   "outputs": [],
   "source": [
    "carousel = create_carousel(npub)\n",
    "docs = ', '.join(['\"{0:s}\"'.format(k.split('/')[-1]) for k in res])\n",
    "slides = ', '.join([f'\"slide{k}\"' for k in range(1, npub + 1)])\n",
    "\n",
    "with open(\"daily_template.html\", \"r\") as tpl:\n",
    "    page = tpl.read()\n",
    "    page = page.replace(\"{%-- carousel:s --%}\", carousel)\\\n",
    "               .replace(\"{%-- suptitle:s --%}\",  \"7-day archives\" )\\\n",
    "               .replace(\"{%-- docs:s --%}\", docs)\\\n",
    "               .replace(\"{%-- slides:s --%}\", slides)\n",
    "    \n",
    "with open(\"_build/html/index_7days.html\", 'w') as fout:\n",
    "    fout.write(page)"
   ]
  },
  {
   "cell_type": "code",
   "execution_count": 14,
   "id": "adc1a1ec",
   "metadata": {
    "execution": {
     "iopub.execute_input": "2025-07-25T04:30:53.621992Z",
     "iopub.status.busy": "2025-07-25T04:30:53.621778Z",
     "iopub.status.idle": "2025-07-25T04:30:53.627771Z",
     "shell.execute_reply": "2025-07-25T04:30:53.627130Z"
    },
    "papermill": {
     "duration": 0.012111,
     "end_time": "2025-07-25T04:30:53.628784",
     "exception": false,
     "start_time": "2025-07-25T04:30:53.616673",
     "status": "completed"
    },
    "tags": []
   },
   "outputs": [
    {
     "name": "stdout",
     "output_type": "stream",
     "text": [
      "2  publications in the last day.\n"
     ]
    }
   ],
   "source": [
    "# redo for today\n",
    "days = 1\n",
    "res = list(get_last_n_days(dates, days))\n",
    "npub = len(res)\n",
    "print(len(res), f\" publications in the last day.\")\n",
    "\n",
    "carousel = create_carousel(npub)\n",
    "docs = ', '.join(['\"{0:s}\"'.format(k.split('/')[-1]) for k in res])\n",
    "slides = ', '.join([f'\"slide{k}\"' for k in range(1, npub + 1)])\n",
    "\n",
    "with open(\"daily_template.html\", \"r\") as tpl:\n",
    "    page = tpl.read()\n",
    "    page = page.replace(\"{%-- carousel:s --%}\", carousel)\\\n",
    "               .replace(\"{%-- suptitle:s --%}\",  \"Daily\" )\\\n",
    "               .replace(\"{%-- docs:s --%}\", docs)\\\n",
    "               .replace(\"{%-- slides:s --%}\", slides)\n",
    "    \n",
    "# print(carousel, docs, slides)\n",
    "# print(page)\n",
    "with open(\"_build/html/index_daily.html\", 'w') as fout:\n",
    "    fout.write(page)"
   ]
  },
  {
   "cell_type": "code",
   "execution_count": 15,
   "id": "00eece82",
   "metadata": {
    "execution": {
     "iopub.execute_input": "2025-07-25T04:30:53.638817Z",
     "iopub.status.busy": "2025-07-25T04:30:53.638637Z",
     "iopub.status.idle": "2025-07-25T04:30:53.644699Z",
     "shell.execute_reply": "2025-07-25T04:30:53.644050Z"
    },
    "papermill": {
     "duration": 0.012241,
     "end_time": "2025-07-25T04:30:53.645714",
     "exception": false,
     "start_time": "2025-07-25T04:30:53.633473",
     "status": "completed"
    },
    "scrolled": false,
    "tags": []
   },
   "outputs": [
    {
     "name": "stdout",
     "output_type": "stream",
     "text": [
      "6  6 publications selected.\n"
     ]
    }
   ],
   "source": [
    "# Create the flat grid of the last N papers (fixed number regardless of dates)\n",
    "from itertools import islice \n",
    "\n",
    "npub = 6\n",
    "res = [k[0] for k in (islice(reversed(sorted(dates, key=lambda x: x[1])), 6))]\n",
    "print(len(res), f\" {npub} publications selected.\")\n",
    "\n",
    "grid = create_grid(npub)\n",
    "docs = ', '.join(['\"{0:s}\"'.format(k.split('/')[-1]) for k in res])\n",
    "slides = ', '.join([f'\"slide{k}\"' for k in range(1, npub + 1)])\n",
    "\n",
    "with open(\"grid_template.html\", \"r\") as tpl:\n",
    "    page = tpl.read()\n",
    "    page = page.replace(\"{%-- grid-content:s --%}\", grid)\\\n",
    "               .replace(\"{%-- suptitle:s --%}\",  f\"Last {npub:,d} papers\" )\\\n",
    "               .replace(\"{%-- docs:s --%}\", docs)\\\n",
    "               .replace(\"{%-- slides:s --%}\", slides)\n",
    "    \n",
    "# print(grid, docs, slides)\n",
    "# print(page)\n",
    "with open(\"_build/html/index_npub_grid.html\", 'w') as fout:\n",
    "    fout.write(page)"
   ]
  }
 ],
 "metadata": {
  "kernelspec": {
   "display_name": "Python 3 (ipykernel)",
   "language": "python",
   "name": "python3"
  },
  "language_info": {
   "codemirror_mode": {
    "name": "ipython",
    "version": 3
   },
   "file_extension": ".py",
   "mimetype": "text/x-python",
   "name": "python",
   "nbconvert_exporter": "python",
   "pygments_lexer": "ipython3",
   "version": "3.9.23"
  },
  "papermill": {
   "default_parameters": {},
   "duration": 27.719834,
   "end_time": "2025-07-25T04:30:53.865318",
   "environment_variables": {},
   "exception": null,
   "input_path": "MPIA daily digest.ipynb",
   "output_path": "log.ipynb",
   "parameters": {},
   "start_time": "2025-07-25T04:30:26.145484",
   "version": "2.6.0"
  },
  "vscode": {
   "interpreter": {
    "hash": "aee8b7b246df8f9039afb4144a1f6fd8d2ca17a180786b69acc140d282b71a49"
   }
  },
  "widgets": {
   "application/vnd.jupyter.widget-state+json": {
    "state": {
     "0a5ec7ba63834078961b5c7d445d461e": {
      "model_module": "@jupyter-widgets/base",
      "model_module_version": "2.0.0",
      "model_name": "LayoutModel",
      "state": {
       "_model_module": "@jupyter-widgets/base",
       "_model_module_version": "2.0.0",
       "_model_name": "LayoutModel",
       "_view_count": null,
       "_view_module": "@jupyter-widgets/base",
       "_view_module_version": "2.0.0",
       "_view_name": "LayoutView",
       "align_content": null,
       "align_items": null,
       "align_self": null,
       "border_bottom": null,
       "border_left": null,
       "border_right": null,
       "border_top": null,
       "bottom": null,
       "display": null,
       "flex": null,
       "flex_flow": null,
       "grid_area": null,
       "grid_auto_columns": null,
       "grid_auto_flow": null,
       "grid_auto_rows": null,
       "grid_column": null,
       "grid_gap": null,
       "grid_row": null,
       "grid_template_areas": null,
       "grid_template_columns": null,
       "grid_template_rows": null,
       "height": null,
       "justify_content": null,
       "justify_items": null,
       "left": null,
       "margin": null,
       "max_height": null,
       "max_width": null,
       "min_height": null,
       "min_width": null,
       "object_fit": null,
       "object_position": null,
       "order": null,
       "overflow": null,
       "padding": null,
       "right": null,
       "top": null,
       "visibility": null,
       "width": null
      }
     },
     "120b150a388c485498dfd406d79ce326": {
      "model_module": "@jupyter-widgets/controls",
      "model_module_version": "2.0.0",
      "model_name": "FloatProgressModel",
      "state": {
       "_dom_classes": [],
       "_model_module": "@jupyter-widgets/controls",
       "_model_module_version": "2.0.0",
       "_model_name": "FloatProgressModel",
       "_view_count": null,
       "_view_module": "@jupyter-widgets/controls",
       "_view_module_version": "2.0.0",
       "_view_name": "ProgressView",
       "bar_style": "success",
       "description": "",
       "description_allow_html": false,
       "layout": "IPY_MODEL_200e6a708cad4523921f1e58f143a135",
       "max": 4.0,
       "min": 0.0,
       "orientation": "horizontal",
       "style": "IPY_MODEL_c695aa72f7ec424fa421a65e20ed7d07",
       "tabbable": null,
       "tooltip": null,
       "value": 4.0
      }
     },
     "200e6a708cad4523921f1e58f143a135": {
      "model_module": "@jupyter-widgets/base",
      "model_module_version": "2.0.0",
      "model_name": "LayoutModel",
      "state": {
       "_model_module": "@jupyter-widgets/base",
       "_model_module_version": "2.0.0",
       "_model_name": "LayoutModel",
       "_view_count": null,
       "_view_module": "@jupyter-widgets/base",
       "_view_module_version": "2.0.0",
       "_view_name": "LayoutView",
       "align_content": null,
       "align_items": null,
       "align_self": null,
       "border_bottom": null,
       "border_left": null,
       "border_right": null,
       "border_top": null,
       "bottom": null,
       "display": null,
       "flex": null,
       "flex_flow": null,
       "grid_area": null,
       "grid_auto_columns": null,
       "grid_auto_flow": null,
       "grid_auto_rows": null,
       "grid_column": null,
       "grid_gap": null,
       "grid_row": null,
       "grid_template_areas": null,
       "grid_template_columns": null,
       "grid_template_rows": null,
       "height": null,
       "justify_content": null,
       "justify_items": null,
       "left": null,
       "margin": null,
       "max_height": null,
       "max_width": null,
       "min_height": null,
       "min_width": null,
       "object_fit": null,
       "object_position": null,
       "order": null,
       "overflow": null,
       "padding": null,
       "right": null,
       "top": null,
       "visibility": null,
       "width": null
      }
     },
     "4d86212b485d45d895682513ccdd6392": {
      "model_module": "@jupyter-widgets/controls",
      "model_module_version": "2.0.0",
      "model_name": "HTMLModel",
      "state": {
       "_dom_classes": [],
       "_model_module": "@jupyter-widgets/controls",
       "_model_module_version": "2.0.0",
       "_model_name": "HTMLModel",
       "_view_count": null,
       "_view_module": "@jupyter-widgets/controls",
       "_view_module_version": "2.0.0",
       "_view_name": "HTMLView",
       "description": "",
       "description_allow_html": false,
       "layout": "IPY_MODEL_fdfa6a5fbae243148e2e1dbffd090b1b",
       "placeholder": "​",
       "style": "IPY_MODEL_55bc47b637e74365818554c17040a5df",
       "tabbable": null,
       "tooltip": null,
       "value": "100%"
      }
     },
     "55bc47b637e74365818554c17040a5df": {
      "model_module": "@jupyter-widgets/controls",
      "model_module_version": "2.0.0",
      "model_name": "HTMLStyleModel",
      "state": {
       "_model_module": "@jupyter-widgets/controls",
       "_model_module_version": "2.0.0",
       "_model_name": "HTMLStyleModel",
       "_view_count": null,
       "_view_module": "@jupyter-widgets/base",
       "_view_module_version": "2.0.0",
       "_view_name": "StyleView",
       "background": null,
       "description_width": "",
       "font_size": null,
       "text_color": null
      }
     },
     "599c25af5f2942e4aac6a9ffe6afa3a9": {
      "model_module": "@jupyter-widgets/base",
      "model_module_version": "2.0.0",
      "model_name": "LayoutModel",
      "state": {
       "_model_module": "@jupyter-widgets/base",
       "_model_module_version": "2.0.0",
       "_model_name": "LayoutModel",
       "_view_count": null,
       "_view_module": "@jupyter-widgets/base",
       "_view_module_version": "2.0.0",
       "_view_name": "LayoutView",
       "align_content": null,
       "align_items": null,
       "align_self": null,
       "border_bottom": null,
       "border_left": null,
       "border_right": null,
       "border_top": null,
       "bottom": null,
       "display": null,
       "flex": null,
       "flex_flow": null,
       "grid_area": null,
       "grid_auto_columns": null,
       "grid_auto_flow": null,
       "grid_auto_rows": null,
       "grid_column": null,
       "grid_gap": null,
       "grid_row": null,
       "grid_template_areas": null,
       "grid_template_columns": null,
       "grid_template_rows": null,
       "height": null,
       "justify_content": null,
       "justify_items": null,
       "left": null,
       "margin": null,
       "max_height": null,
       "max_width": null,
       "min_height": null,
       "min_width": null,
       "object_fit": null,
       "object_position": null,
       "order": null,
       "overflow": null,
       "padding": null,
       "right": null,
       "top": null,
       "visibility": null,
       "width": null
      }
     },
     "7207dc9f8f1b4d22aaddb1a76b7c71ac": {
      "model_module": "@jupyter-widgets/controls",
      "model_module_version": "2.0.0",
      "model_name": "HTMLModel",
      "state": {
       "_dom_classes": [],
       "_model_module": "@jupyter-widgets/controls",
       "_model_module_version": "2.0.0",
       "_model_name": "HTMLModel",
       "_view_count": null,
       "_view_module": "@jupyter-widgets/controls",
       "_view_module_version": "2.0.0",
       "_view_name": "HTMLView",
       "description": "",
       "description_allow_html": false,
       "layout": "IPY_MODEL_599c25af5f2942e4aac6a9ffe6afa3a9",
       "placeholder": "​",
       "style": "IPY_MODEL_f8cc0071fc414ee2adffcde6c31de8d5",
       "tabbable": null,
       "tooltip": null,
       "value": " 4/4 [00:07&lt;00:00,  2.79s/it]"
      }
     },
     "c4fe85f685fb49a9bbf4a3c54df17ad9": {
      "model_module": "@jupyter-widgets/controls",
      "model_module_version": "2.0.0",
      "model_name": "HBoxModel",
      "state": {
       "_dom_classes": [],
       "_model_module": "@jupyter-widgets/controls",
       "_model_module_version": "2.0.0",
       "_model_name": "HBoxModel",
       "_view_count": null,
       "_view_module": "@jupyter-widgets/controls",
       "_view_module_version": "2.0.0",
       "_view_name": "HBoxView",
       "box_style": "",
       "children": [
        "IPY_MODEL_4d86212b485d45d895682513ccdd6392",
        "IPY_MODEL_120b150a388c485498dfd406d79ce326",
        "IPY_MODEL_7207dc9f8f1b4d22aaddb1a76b7c71ac"
       ],
       "layout": "IPY_MODEL_0a5ec7ba63834078961b5c7d445d461e",
       "tabbable": null,
       "tooltip": null
      }
     },
     "c695aa72f7ec424fa421a65e20ed7d07": {
      "model_module": "@jupyter-widgets/controls",
      "model_module_version": "2.0.0",
      "model_name": "ProgressStyleModel",
      "state": {
       "_model_module": "@jupyter-widgets/controls",
       "_model_module_version": "2.0.0",
       "_model_name": "ProgressStyleModel",
       "_view_count": null,
       "_view_module": "@jupyter-widgets/base",
       "_view_module_version": "2.0.0",
       "_view_name": "StyleView",
       "bar_color": null,
       "description_width": ""
      }
     },
     "f8cc0071fc414ee2adffcde6c31de8d5": {
      "model_module": "@jupyter-widgets/controls",
      "model_module_version": "2.0.0",
      "model_name": "HTMLStyleModel",
      "state": {
       "_model_module": "@jupyter-widgets/controls",
       "_model_module_version": "2.0.0",
       "_model_name": "HTMLStyleModel",
       "_view_count": null,
       "_view_module": "@jupyter-widgets/base",
       "_view_module_version": "2.0.0",
       "_view_name": "StyleView",
       "background": null,
       "description_width": "",
       "font_size": null,
       "text_color": null
      }
     },
     "fdfa6a5fbae243148e2e1dbffd090b1b": {
      "model_module": "@jupyter-widgets/base",
      "model_module_version": "2.0.0",
      "model_name": "LayoutModel",
      "state": {
       "_model_module": "@jupyter-widgets/base",
       "_model_module_version": "2.0.0",
       "_model_name": "LayoutModel",
       "_view_count": null,
       "_view_module": "@jupyter-widgets/base",
       "_view_module_version": "2.0.0",
       "_view_name": "LayoutView",
       "align_content": null,
       "align_items": null,
       "align_self": null,
       "border_bottom": null,
       "border_left": null,
       "border_right": null,
       "border_top": null,
       "bottom": null,
       "display": null,
       "flex": null,
       "flex_flow": null,
       "grid_area": null,
       "grid_auto_columns": null,
       "grid_auto_flow": null,
       "grid_auto_rows": null,
       "grid_column": null,
       "grid_gap": null,
       "grid_row": null,
       "grid_template_areas": null,
       "grid_template_columns": null,
       "grid_template_rows": null,
       "height": null,
       "justify_content": null,
       "justify_items": null,
       "left": null,
       "margin": null,
       "max_height": null,
       "max_width": null,
       "min_height": null,
       "min_width": null,
       "object_fit": null,
       "object_position": null,
       "order": null,
       "overflow": null,
       "padding": null,
       "right": null,
       "top": null,
       "visibility": null,
       "width": null
      }
     }
    },
    "version_major": 2,
    "version_minor": 0
   }
  }
 },
 "nbformat": 4,
 "nbformat_minor": 5
}