{
 "cells": [
  {
   "cell_type": "markdown",
   "id": "92bcb855",
   "metadata": {
    "papermill": {
     "duration": 0.00603,
     "end_time": "2022-10-20T04:52:51.753001",
     "exception": false,
     "start_time": "2022-10-20T04:52:51.746971",
     "status": "completed"
    },
    "tags": []
   },
   "source": [
    "# MPIA Arxiv on Deck 2\n",
    "\n",
    "Contains the steps to produce the paper extractions."
   ]
  },
  {
   "cell_type": "code",
   "execution_count": 1,
   "id": "3a0d6e11",
   "metadata": {
    "execution": {
     "iopub.execute_input": "2022-10-20T04:52:51.763660Z",
     "iopub.status.busy": "2022-10-20T04:52:51.762955Z",
     "iopub.status.idle": "2022-10-20T04:52:51.934709Z",
     "shell.execute_reply": "2022-10-20T04:52:51.933482Z"
    },
    "papermill": {
     "duration": 0.179129,
     "end_time": "2022-10-20T04:52:51.936752",
     "exception": false,
     "start_time": "2022-10-20T04:52:51.757623",
     "status": "completed"
    },
    "tags": []
   },
   "outputs": [],
   "source": [
    "# Imports\n",
    "import os\n",
    "from IPython.display import Markdown, display\n",
    "from tqdm.notebook import tqdm\n",
    "import warnings\n",
    "from PIL import Image \n",
    "\n",
    "# requires arxiv_on_deck_2\n",
    "\n",
    "from arxiv_on_deck_2.arxiv2 import (get_new_papers, \n",
    "                                    get_paper_from_identifier,\n",
    "                                    retrieve_document_source, \n",
    "                                    get_markdown_badge)\n",
    "from arxiv_on_deck_2 import (latex, \n",
    "                             mpia,\n",
    "                             highlight_authors_in_list)\n",
    "\n",
    "# Sometimes images are really big\n",
    "Image.MAX_IMAGE_PIXELS = 1000000000 "
   ]
  },
  {
   "cell_type": "code",
   "execution_count": 2,
   "id": "22aa9d44",
   "metadata": {
    "execution": {
     "iopub.execute_input": "2022-10-20T04:52:51.946867Z",
     "iopub.status.busy": "2022-10-20T04:52:51.946116Z",
     "iopub.status.idle": "2022-10-20T04:52:51.951364Z",
     "shell.execute_reply": "2022-10-20T04:52:51.950659Z"
    },
    "papermill": {
     "duration": 0.011876,
     "end_time": "2022-10-20T04:52:51.952822",
     "exception": false,
     "start_time": "2022-10-20T04:52:51.940946",
     "status": "completed"
    },
    "tags": []
   },
   "outputs": [],
   "source": [
    "# Some useful definitions.\n",
    "\n",
    "class AffiliationWarning(UserWarning):\n",
    "    pass\n",
    "\n",
    "class AffiliationError(RuntimeError):\n",
    "    pass\n",
    "\n",
    "def validation(source: str):\n",
    "    \"\"\"Raises error paper during parsing of source file\n",
    "    \n",
    "    Allows checks before parsing TeX code.\n",
    "    \n",
    "    Raises AffiliationWarning\n",
    "    \"\"\"\n",
    "    check = mpia.affiliation_verifications(source, verbose=True)\n",
    "    if check is not True:\n",
    "        raise AffiliationError(\"mpia.affiliation_verifications: \" + check)\n",
    "\n",
    "        \n",
    "warnings.simplefilter('always', AffiliationWarning)"
   ]
  },
  {
   "cell_type": "code",
   "execution_count": 3,
   "id": "14622700",
   "metadata": {
    "execution": {
     "iopub.execute_input": "2022-10-20T04:52:51.963280Z",
     "iopub.status.busy": "2022-10-20T04:52:51.963047Z",
     "iopub.status.idle": "2022-10-20T04:52:51.967758Z",
     "shell.execute_reply": "2022-10-20T04:52:51.967016Z"
    },
    "papermill": {
     "duration": 0.012646,
     "end_time": "2022-10-20T04:52:51.969236",
     "exception": false,
     "start_time": "2022-10-20T04:52:51.956590",
     "status": "completed"
    },
    "tags": []
   },
   "outputs": [],
   "source": [
    "# additional CSS to consider. \n",
    "# TODO: Current into each exported file. \n",
    "#       This should be set once into the webpages directly.\n",
    "#       With only the class/id definitions in the .md files.\n",
    "\n",
    "debug_html = \"\"\"\n",
    "<style>\n",
    "#wrap{ overflow:auto; }\n",
    "#fig1{ background:yellow; width:100%; float:left; padding:5px;  }\n",
    "#fig2{ background:red; width:50%; float:left; clear:left; padding:5px;  }\n",
    "#fig3{ background:green; width:50%; float:left; padding:5px;   }\n",
    ".macros{ background:yellow; visibility:visible;}\n",
    "h1 {margin: 0 0 0 0;}\n",
    "mark {background-color:#fff3b6;}\n",
    "img {object-fit:contain; max-height:250px; display:inline-block; text-align: center;}\n",
    "</style>\n",
    "\"\"\" \n",
    "html = \"\"\"\n",
    "<style>\n",
    "#wrap{ overflow:auto; }\n",
    "#fig1{ width:100%; float:left; padding: 5px;  }\n",
    "#fig2{ width:50%; float:left; clear:left; padding: 5px;  }\n",
    "#fig3{ width:50%; float:left; padding: 5px;  }\n",
    ".macros{ visibility:hidden; height:0px; }\n",
    "h1 {margin: 0em 0 0 0;}\n",
    "mark {background-color:#fff3b6;}\n",
    "img {object-fit:contain; max-height:250px; display:inline-block; text-align: center;}\n",
    "</style>\n",
    "\"\"\""
   ]
  },
  {
   "cell_type": "markdown",
   "id": "14bd6310",
   "metadata": {
    "papermill": {
     "duration": 0.003862,
     "end_time": "2022-10-20T04:52:51.976855",
     "exception": false,
     "start_time": "2022-10-20T04:52:51.972993",
     "status": "completed"
    },
    "tags": []
   },
   "source": [
    "## get list of arxiv paper candidates\n",
    "\n",
    "We use the MPIA mitarbeiter list webpage from mpia.de to get author names\n",
    "We then get all new papers from Arxiv and match authors"
   ]
  },
  {
   "cell_type": "code",
   "execution_count": 4,
   "id": "2645e73a",
   "metadata": {
    "execution": {
     "iopub.execute_input": "2022-10-20T04:52:51.985903Z",
     "iopub.status.busy": "2022-10-20T04:52:51.985457Z",
     "iopub.status.idle": "2022-10-20T04:53:19.086202Z",
     "shell.execute_reply": "2022-10-20T04:53:19.085379Z"
    },
    "papermill": {
     "duration": 27.107116,
     "end_time": "2022-10-20T04:53:19.087840",
     "exception": false,
     "start_time": "2022-10-20T04:52:51.980724",
     "status": "completed"
    },
    "tags": []
   },
   "outputs": [
    {
     "name": "stdout",
     "output_type": "stream",
     "text": [
      "Arxiv has 60 new papers today\n",
      "          31 with possible author matches\n"
     ]
    }
   ],
   "source": [
    "# get list from MPIA website\n",
    "# it automatically filters identified non-scientists :func:`mpia.filter_non_scientists`\n",
    "mpia_authors = mpia.get_mpia_mitarbeiter_list()\n",
    "new_papers = get_new_papers()\n",
    "# add manual references\n",
    "add_paper_refs = []\n",
    "new_papers.extend([get_paper_from_identifier(k) for k in add_paper_refs])\n",
    "\n",
    "# select only papers with matching author names and highlight authors\n",
    "hl_list = [k[0] for k in mpia_authors]\n",
    "\n",
    "candidates = []\n",
    "for paperk in new_papers:\n",
    "    hl_authors = highlight_authors_in_list(paperk['authors'], hl_list)\n",
    "    matches = [(hl, orig) for hl, orig in zip(hl_authors, paperk['authors']) if 'mark' in hl]\n",
    "    paperk['authors'] = hl_authors\n",
    "    if matches:\n",
    "        candidates.append(paperk)\n",
    "print(\"\"\"Arxiv has {0:,d} new papers today\"\"\".format(len(new_papers)))        \n",
    "print(\"\"\"          {0:,d} with possible author matches\"\"\".format(len(candidates)))"
   ]
  },
  {
   "cell_type": "markdown",
   "id": "3543b34a",
   "metadata": {
    "papermill": {
     "duration": 0.00409,
     "end_time": "2022-10-20T04:53:19.096378",
     "exception": false,
     "start_time": "2022-10-20T04:53:19.092288",
     "status": "completed"
    },
    "tags": []
   },
   "source": [
    "# Parse sources and generate relevant outputs\n",
    "\n",
    "From the candidates, we do the following steps:\n",
    "* get their tarball from ArXiv (and extract data)\n",
    "* find the main .tex file: find one with \\documentclass{...} (sometimes it's non trivial)\n",
    "* Check affiliations with :func:`validation`, which uses :func:`mpia.affiliation_verifications`\n",
    "* If passing the affiliations: we parse the .tex source\n",
    "   * inject sub-documents into the main (flatten the main document)\n",
    "   * parse structure, extract information (title, abstract, authors, figures...)\n",
    "   * handles `\\graphicspath` if provided\n",
    "* Generate the .md document."
   ]
  },
  {
   "cell_type": "code",
   "execution_count": 5,
   "id": "9576b79e",
   "metadata": {
    "execution": {
     "iopub.execute_input": "2022-10-20T04:53:19.105776Z",
     "iopub.status.busy": "2022-10-20T04:53:19.105286Z",
     "iopub.status.idle": "2022-10-20T04:54:44.360976Z",
     "shell.execute_reply": "2022-10-20T04:54:44.360198Z"
    },
    "papermill": {
     "duration": 85.26234,
     "end_time": "2022-10-20T04:54:44.362611",
     "exception": false,
     "start_time": "2022-10-20T04:53:19.100271",
     "status": "completed"
    },
    "scrolled": false,
    "tags": []
   },
   "outputs": [
    {
     "data": {
      "application/vnd.jupyter.widget-view+json": {
       "model_id": "e9b0200df8e545739ffaea9be68a6ea1",
       "version_major": 2,
       "version_minor": 0
      },
      "text/plain": [
       "  0%|          | 0/30 [00:00<?, ?it/s]"
      ]
     },
     "metadata": {},
     "output_type": "display_data"
    },
    {
     "name": "stdout",
     "output_type": "stream",
     "text": [
      "Retrieving document from  https://arxiv.org/e-print/2210.10053\n"
     ]
    },
    {
     "name": "stdout",
     "output_type": "stream",
     "text": [
      "extracting tarball to tmp_2210.10053..."
     ]
    },
    {
     "name": "stdout",
     "output_type": "stream",
     "text": [
      " done.\n",
      "Retrieving document from  https://arxiv.org/e-print/2210.10059\n"
     ]
    },
    {
     "name": "stderr",
     "output_type": "stream",
     "text": [
      "/opt/hostedtoolcache/Python/3.9.14/x64/lib/python3.9/site-packages/IPython/core/interactiveshell.py:3378: LatexWarning: Multiple tex files.\n",
      "\n",
      "  exec(code_obj, self.user_global_ns, self.user_ns)\n",
      "/opt/hostedtoolcache/Python/3.9.14/x64/lib/python3.9/site-packages/IPython/core/interactiveshell.py:3378: LatexWarning: Found documentclass in tmp_2210.10053/main.tex\n",
      "\n",
      "  exec(code_obj, self.user_global_ns, self.user_ns)\n"
     ]
    },
    {
     "name": "stdout",
     "output_type": "stream",
     "text": [
      "extracting tarball to tmp_2210.10059..."
     ]
    },
    {
     "name": "stdout",
     "output_type": "stream",
     "text": [
      " done.\n",
      "Retrieving document from  https://arxiv.org/e-print/2210.10060\n"
     ]
    },
    {
     "name": "stdout",
     "output_type": "stream",
     "text": [
      "extracting tarball to tmp_2210.10060..."
     ]
    },
    {
     "name": "stdout",
     "output_type": "stream",
     "text": [
      " done.\n",
      "Retrieving document from  https://arxiv.org/e-print/2210.10065\n"
     ]
    },
    {
     "name": "stdout",
     "output_type": "stream",
     "text": [
      "extracting tarball to tmp_2210.10065..."
     ]
    },
    {
     "name": "stdout",
     "output_type": "stream",
     "text": [
      " done.\n",
      "Retrieving document from  https://arxiv.org/e-print/2210.10066\n"
     ]
    },
    {
     "name": "stdout",
     "output_type": "stream",
     "text": [
      "extracting tarball to tmp_2210.10066..."
     ]
    },
    {
     "name": "stdout",
     "output_type": "stream",
     "text": [
      " done.\n",
      "Retrieving document from  https://arxiv.org/e-print/2210.10068\n"
     ]
    },
    {
     "name": "stdout",
     "output_type": "stream",
     "text": [
      "extracting tarball to tmp_2210.10068..."
     ]
    },
    {
     "name": "stdout",
     "output_type": "stream",
     "text": [
      " done.\n",
      "Retrieving document from  https://arxiv.org/e-print/2210.10070\n"
     ]
    },
    {
     "name": "stderr",
     "output_type": "stream",
     "text": [
      "/opt/hostedtoolcache/Python/3.9.14/x64/lib/python3.9/site-packages/IPython/core/interactiveshell.py:3378: LatexWarning: Multiple tex files.\n",
      "\n",
      "  exec(code_obj, self.user_global_ns, self.user_ns)\n",
      "/opt/hostedtoolcache/Python/3.9.14/x64/lib/python3.9/site-packages/IPython/core/interactiveshell.py:3378: LatexWarning: Found documentclass in tmp_2210.10068/main.tex\n",
      "\n",
      "  exec(code_obj, self.user_global_ns, self.user_ns)\n"
     ]
    },
    {
     "name": "stdout",
     "output_type": "stream",
     "text": [
      "extracting tarball to tmp_2210.10070..."
     ]
    },
    {
     "name": "stdout",
     "output_type": "stream",
     "text": [
      " done.\n",
      "Retrieving document from  https://arxiv.org/e-print/2210.10072\n"
     ]
    },
    {
     "name": "stdout",
     "output_type": "stream",
     "text": [
      "extracting tarball to tmp_2210.10072..."
     ]
    },
    {
     "name": "stdout",
     "output_type": "stream",
     "text": [
      " done.\n",
      "Retrieving document from  https://arxiv.org/e-print/2210.10074\n"
     ]
    },
    {
     "name": "stderr",
     "output_type": "stream",
     "text": [
      "/opt/hostedtoolcache/Python/3.9.14/x64/lib/python3.9/site-packages/IPython/core/interactiveshell.py:3378: LatexWarning: Multiple tex files.\n",
      "\n",
      "  exec(code_obj, self.user_global_ns, self.user_ns)\n",
      "/opt/hostedtoolcache/Python/3.9.14/x64/lib/python3.9/site-packages/IPython/core/interactiveshell.py:3378: LatexWarning: Found documentclass in tmp_2210.10072/main.tex\n",
      "\n",
      "  exec(code_obj, self.user_global_ns, self.user_ns)\n"
     ]
    },
    {
     "name": "stdout",
     "output_type": "stream",
     "text": [
      "extracting tarball to tmp_2210.10074..."
     ]
    },
    {
     "name": "stdout",
     "output_type": "stream",
     "text": [
      " done.\n",
      "Retrieving document from  https://arxiv.org/e-print/2210.10075\n"
     ]
    },
    {
     "name": "stderr",
     "output_type": "stream",
     "text": [
      "/opt/hostedtoolcache/Python/3.9.14/x64/lib/python3.9/site-packages/IPython/core/interactiveshell.py:3378: LatexWarning: Multiple tex files.\n",
      "\n",
      "  exec(code_obj, self.user_global_ns, self.user_ns)\n",
      "/opt/hostedtoolcache/Python/3.9.14/x64/lib/python3.9/site-packages/IPython/core/interactiveshell.py:3378: LatexWarning: Found documentclass in tmp_2210.10074/natnotes.tex\n",
      "\n",
      "  exec(code_obj, self.user_global_ns, self.user_ns)\n"
     ]
    },
    {
     "name": "stdout",
     "output_type": "stream",
     "text": [
      "extracting tarball to tmp_2210.10075..."
     ]
    },
    {
     "name": "stdout",
     "output_type": "stream",
     "text": [
      " done.\n",
      "Retrieving document from  https://arxiv.org/e-print/2210.10102\n"
     ]
    },
    {
     "name": "stderr",
     "output_type": "stream",
     "text": [
      "/tmp/ipykernel_2235/4030337529.py:34: LatexWarning: 2210.10102 did not run properly\n",
      "invalid header\n",
      "  warnings.warn(latex.LatexWarning(f\"{paper_id:s} did not run properly\\n\" +\n"
     ]
    },
    {
     "name": "stdout",
     "output_type": "stream",
     "text": [
      "Retrieving document from  https://arxiv.org/e-print/2210.10112\n"
     ]
    },
    {
     "name": "stderr",
     "output_type": "stream",
     "text": [
      "/tmp/ipykernel_2235/4030337529.py:34: LatexWarning: 2210.10112 did not run properly\n",
      "not a gzip file\n",
      "  warnings.warn(latex.LatexWarning(f\"{paper_id:s} did not run properly\\n\" +\n"
     ]
    },
    {
     "name": "stdout",
     "output_type": "stream",
     "text": [
      "Retrieving document from  https://arxiv.org/e-print/2210.10165\n"
     ]
    },
    {
     "name": "stdout",
     "output_type": "stream",
     "text": [
      "extracting tarball to tmp_2210.10165..."
     ]
    },
    {
     "name": "stdout",
     "output_type": "stream",
     "text": [
      " done.\n",
      "Retrieving document from  https://arxiv.org/e-print/2210.10198\n"
     ]
    },
    {
     "name": "stdout",
     "output_type": "stream",
     "text": [
      "extracting tarball to tmp_2210.10198..."
     ]
    },
    {
     "name": "stdout",
     "output_type": "stream",
     "text": [
      " done.\n",
      "Retrieving document from  https://arxiv.org/e-print/2210.10310\n"
     ]
    },
    {
     "name": "stderr",
     "output_type": "stream",
     "text": [
      "/opt/hostedtoolcache/Python/3.9.14/x64/lib/python3.9/site-packages/IPython/core/interactiveshell.py:3378: LatexWarning: Multiple tex files.\n",
      "\n",
      "  exec(code_obj, self.user_global_ns, self.user_ns)\n",
      "/opt/hostedtoolcache/Python/3.9.14/x64/lib/python3.9/site-packages/IPython/core/interactiveshell.py:3378: LatexWarning: Found documentclass in tmp_2210.10198/sample631.tex\n",
      "\n",
      "  exec(code_obj, self.user_global_ns, self.user_ns)\n"
     ]
    },
    {
     "name": "stdout",
     "output_type": "stream",
     "text": [
      "extracting tarball to tmp_2210.10310..."
     ]
    },
    {
     "name": "stdout",
     "output_type": "stream",
     "text": [
      " done.\n",
      "Retrieving document from  https://arxiv.org/e-print/2210.10324\n"
     ]
    },
    {
     "name": "stdout",
     "output_type": "stream",
     "text": [
      "extracting tarball to tmp_2210.10324..."
     ]
    },
    {
     "name": "stdout",
     "output_type": "stream",
     "text": [
      " done.\n",
      "Retrieving document from  https://arxiv.org/e-print/2210.10337\n"
     ]
    },
    {
     "name": "stdout",
     "output_type": "stream",
     "text": [
      "extracting tarball to tmp_2210.10337..."
     ]
    },
    {
     "name": "stdout",
     "output_type": "stream",
     "text": [
      " done.\n",
      "Retrieving document from  https://arxiv.org/e-print/2210.10402\n"
     ]
    },
    {
     "name": "stderr",
     "output_type": "stream",
     "text": [
      "/opt/hostedtoolcache/Python/3.9.14/x64/lib/python3.9/site-packages/IPython/core/interactiveshell.py:3378: LatexWarning: Multiple tex files.\n",
      "\n",
      "  exec(code_obj, self.user_global_ns, self.user_ns)\n",
      "/opt/hostedtoolcache/Python/3.9.14/x64/lib/python3.9/site-packages/IPython/core/interactiveshell.py:3378: LatexWarning: Found documentclass in tmp_2210.10337/natnotes.tex\n",
      "\n",
      "  exec(code_obj, self.user_global_ns, self.user_ns)\n"
     ]
    },
    {
     "name": "stderr",
     "output_type": "stream",
     "text": [
      "/tmp/ipykernel_2235/4030337529.py:34: LatexWarning: 2210.10402 did not run properly\n",
      "not a gzip file\n",
      "  warnings.warn(latex.LatexWarning(f\"{paper_id:s} did not run properly\\n\" +\n"
     ]
    },
    {
     "name": "stdout",
     "output_type": "stream",
     "text": [
      "Retrieving document from  https://arxiv.org/e-print/2210.10419\n"
     ]
    },
    {
     "name": "stdout",
     "output_type": "stream",
     "text": [
      "extracting tarball to tmp_2210.10419..."
     ]
    },
    {
     "name": "stdout",
     "output_type": "stream",
     "text": [
      " done.\n",
      "Retrieving document from  https://arxiv.org/e-print/2210.10440\n"
     ]
    },
    {
     "name": "stdout",
     "output_type": "stream",
     "text": [
      "extracting tarball to tmp_2210.10440..."
     ]
    },
    {
     "name": "stdout",
     "output_type": "stream",
     "text": [
      " done.\n",
      "Retrieving document from  https://arxiv.org/e-print/2210.10448\n"
     ]
    },
    {
     "name": "stdout",
     "output_type": "stream",
     "text": [
      "extracting tarball to tmp_2210.10448..."
     ]
    },
    {
     "name": "stdout",
     "output_type": "stream",
     "text": [
      " done.\n",
      "Retrieving document from  https://arxiv.org/e-print/2210.10500\n"
     ]
    },
    {
     "name": "stdout",
     "output_type": "stream",
     "text": [
      "extracting tarball to tmp_2210.10500..."
     ]
    },
    {
     "name": "stdout",
     "output_type": "stream",
     "text": [
      " done.\n",
      "Retrieving document from  https://arxiv.org/e-print/2210.10591\n"
     ]
    },
    {
     "name": "stdout",
     "output_type": "stream",
     "text": [
      "extracting tarball to tmp_2210.10591..."
     ]
    },
    {
     "name": "stdout",
     "output_type": "stream",
     "text": [
      " done.\n",
      "Retrieving document from  https://arxiv.org/e-print/2210.10608\n"
     ]
    },
    {
     "name": "stderr",
     "output_type": "stream",
     "text": [
      "/opt/hostedtoolcache/Python/3.9.14/x64/lib/python3.9/site-packages/IPython/core/interactiveshell.py:3378: LatexWarning: Multiple tex files.\n",
      "\n",
      "  exec(code_obj, self.user_global_ns, self.user_ns)\n",
      "/opt/hostedtoolcache/Python/3.9.14/x64/lib/python3.9/site-packages/IPython/core/interactiveshell.py:3378: LatexWarning: Found documentclass in tmp_2210.10591/final.tex\n",
      "\n",
      "  exec(code_obj, self.user_global_ns, self.user_ns)\n"
     ]
    },
    {
     "name": "stdout",
     "output_type": "stream",
     "text": [
      "extracting tarball to tmp_2210.10608... done.\n",
      "Retrieving document from  https://arxiv.org/e-print/2210.10653\n"
     ]
    },
    {
     "name": "stdout",
     "output_type": "stream",
     "text": [
      "extracting tarball to tmp_2210.10653..."
     ]
    },
    {
     "name": "stdout",
     "output_type": "stream",
     "text": [
      " done.\n",
      "Retrieving document from  https://arxiv.org/e-print/2210.10673\n"
     ]
    },
    {
     "name": "stderr",
     "output_type": "stream",
     "text": [
      "/opt/hostedtoolcache/Python/3.9.14/x64/lib/python3.9/site-packages/IPython/core/interactiveshell.py:3378: LatexWarning: Multiple tex files.\n",
      "\n",
      "  exec(code_obj, self.user_global_ns, self.user_ns)\n",
      "/opt/hostedtoolcache/Python/3.9.14/x64/lib/python3.9/site-packages/IPython/core/interactiveshell.py:3378: LatexWarning: Found documentclass in tmp_2210.10653/main.tex\n",
      "\n",
      "  exec(code_obj, self.user_global_ns, self.user_ns)\n",
      "/opt/hostedtoolcache/Python/3.9.14/x64/lib/python3.9/site-packages/arxiv_on_deck_2/latex.py:292: LatexWarning: Latex injecting: 'abbreviations' from 'tmp_2210.10653/abbreviations.tex'\n",
      "  warnings.warn(LatexWarning(f\"Latex injecting: '{ext}' from '{subsource}'\"))\n"
     ]
    },
    {
     "name": "stdout",
     "output_type": "stream",
     "text": [
      "extracting tarball to tmp_2210.10673..."
     ]
    },
    {
     "name": "stdout",
     "output_type": "stream",
     "text": [
      " done.\n",
      "Retrieving document from  https://arxiv.org/e-print/2210.10675\n"
     ]
    },
    {
     "name": "stdout",
     "output_type": "stream",
     "text": [
      "extracting tarball to tmp_2210.10675..."
     ]
    },
    {
     "name": "stdout",
     "output_type": "stream",
     "text": [
      " done.\n",
      "Retrieving document from  https://arxiv.org/e-print/2210.10699\n"
     ]
    },
    {
     "name": "stdout",
     "output_type": "stream",
     "text": [
      "extracting tarball to tmp_2210.10699..."
     ]
    },
    {
     "name": "stdout",
     "output_type": "stream",
     "text": [
      " done.\n",
      "Retrieving document from  https://arxiv.org/e-print/2210.10707\n"
     ]
    },
    {
     "name": "stderr",
     "output_type": "stream",
     "text": [
      "/opt/hostedtoolcache/Python/3.9.14/x64/lib/python3.9/site-packages/IPython/core/interactiveshell.py:3378: LatexWarning: Multiple tex files.\n",
      "\n",
      "  exec(code_obj, self.user_global_ns, self.user_ns)\n",
      "/opt/hostedtoolcache/Python/3.9.14/x64/lib/python3.9/site-packages/IPython/core/interactiveshell.py:3378: LatexWarning: Found documentclass in tmp_2210.10699/L98-59b.tex\n",
      "\n",
      "  exec(code_obj, self.user_global_ns, self.user_ns)\n"
     ]
    },
    {
     "name": "stdout",
     "output_type": "stream",
     "text": [
      "extracting tarball to tmp_2210.10707..."
     ]
    },
    {
     "name": "stdout",
     "output_type": "stream",
     "text": [
      " done.\n"
     ]
    },
    {
     "name": "stdout",
     "output_type": "stream",
     "text": [
      "Retrieving document from  https://arxiv.org/e-print/2210.10736\n"
     ]
    },
    {
     "name": "stdout",
     "output_type": "stream",
     "text": [
      "extracting tarball to tmp_2210.10736..."
     ]
    },
    {
     "name": "stdout",
     "output_type": "stream",
     "text": [
      " done.\n"
     ]
    }
   ],
   "source": [
    "documents = []\n",
    "failed = []\n",
    "for paper in tqdm(candidates[:-1]):\n",
    "    paper_id = paper['identifier'].lower().replace('arxiv:', '')\n",
    "    \n",
    "    folder = f'tmp_{paper_id}'\n",
    "\n",
    "    try:\n",
    "        if not os.path.isdir(folder):\n",
    "            folder = retrieve_document_source(f\"{paper_id}\", f'tmp_{paper_id}')\n",
    "        \n",
    "        try:\n",
    "            doc = latex.LatexDocument(folder, validation=validation)    \n",
    "        except AffiliationError as affilerror:\n",
    "            msg = f\"ArXiv:{paper_id:s} is not an MPIA paper... \" + str(affilerror)\n",
    "            failed.append((paper, \"affiliation error: \" + str(affilerror) ))\n",
    "            continue\n",
    "        \n",
    "        # Hack because sometimes author parsing does not work well\n",
    "        if (len(doc.authors) != len(paper['authors'])):\n",
    "            doc._authors = paper['authors']\n",
    "        if (doc.abstract) in (None, ''):\n",
    "            doc._abstract = paper['abstract']\n",
    "            \n",
    "        doc.comment = (get_markdown_badge(paper_id) + \n",
    "                       \"<mark>Appeared on: \" + paper['date'] + \"</mark> - \" +\n",
    "                       \"_\" + paper['comments'] + \"_\")\n",
    "        doc.highlight_authors_in_list(hl_list)\n",
    "\n",
    "        full_md = doc.generate_markdown_text()\n",
    "        \n",
    "        documents.append((paper_id, full_md))\n",
    "    except Exception as e:\n",
    "        warnings.warn(latex.LatexWarning(f\"{paper_id:s} did not run properly\\n\" +\n",
    "                                         str(e)\n",
    "                                        ))\n",
    "        failed.append((paper, \"latex error \" + str(e)))"
   ]
  },
  {
   "cell_type": "markdown",
   "id": "2505a25c",
   "metadata": {
    "papermill": {
     "duration": 0.007379,
     "end_time": "2022-10-20T04:54:44.377867",
     "exception": false,
     "start_time": "2022-10-20T04:54:44.370488",
     "status": "completed"
    },
    "tags": []
   },
   "source": [
    "### Export the logs\n",
    "\n",
    "Throughout, we also keep track of the logs per paper. see `logs-{today date}.md` "
   ]
  },
  {
   "cell_type": "code",
   "execution_count": 6,
   "id": "d733828a",
   "metadata": {
    "execution": {
     "iopub.execute_input": "2022-10-20T04:54:44.393900Z",
     "iopub.status.busy": "2022-10-20T04:54:44.393443Z",
     "iopub.status.idle": "2022-10-20T04:54:44.434689Z",
     "shell.execute_reply": "2022-10-20T04:54:44.434026Z"
    },
    "papermill": {
     "duration": 0.05113,
     "end_time": "2022-10-20T04:54:44.436232",
     "exception": false,
     "start_time": "2022-10-20T04:54:44.385102",
     "status": "completed"
    },
    "scrolled": false,
    "tags": []
   },
   "outputs": [
    {
     "data": {
      "text/markdown": [
       "## Successful papers"
      ],
      "text/plain": [
       "<IPython.core.display.Markdown object>"
      ]
     },
     "metadata": {},
     "output_type": "display_data"
    },
    {
     "data": {
      "text/markdown": [
       "\n",
       "|||\n",
       "|---:|:---|\n",
       "| [![arXiv](https://img.shields.io/badge/arXiv-arXiv:2210.10707-b31b1b.svg)](https://arxiv.org/abs/arXiv:2210.10707) | **X-ray galaxies selected from HyperLEDA database**  |\n",
       "|| <mark>N. Pulatova</mark>, et al. -- incl., <mark>R. Seeburger</mark> |\n",
       "|*Appeared on*| *2022-10-20*|\n",
       "|*Comments*| *11 pages and 5 figures*|\n",
       "|**Abstract**| We cross-matched the 4XMM-DR10 catalog with the HyperLEDA database and obtained the new sample of galaxies that contain X-ray sources. Excluding duplicate observations and false matches, we present a total of 7759 galaxies with X-ray sources. In the current work, we present general properties of the sample: namely the distribution in equatorial coordinates, radial velocity distribution, morphological type, and X-ray fluxes. The sample includes morphological classification for 5241 galaxies with X-ray emission, almost half of which, 42\\%, are elliptical (E, E-S0). Most galaxies in the sample have nuclear X-ray emission (6313 or 81\\%), and the remaining 1443 (19\\%) present X-ray emission from the host galaxy. This sample can be used for future deep studies of multi wavelengths properties of the galaxies with X-ray emission. |"
      ],
      "text/plain": [
       "[arXiv:2210.10707] X-ray galaxies selected from HyperLEDA database\n",
       "\t<mark>N. Pulatova</mark>, et al. -- incl., <mark>R. Seeburger</mark>"
      ]
     },
     "metadata": {},
     "output_type": "display_data"
    },
    {
     "data": {
      "text/markdown": [
       "## Failed papers"
      ],
      "text/plain": [
       "<IPython.core.display.Markdown object>"
      ]
     },
     "metadata": {},
     "output_type": "display_data"
    },
    {
     "data": {
      "text/markdown": [
       "\n",
       "|||\n",
       "|---:|:---|\n",
       "| [![arXiv](https://img.shields.io/badge/arXiv-arXiv:2210.10053-b31b1b.svg)](https://arxiv.org/abs/arXiv:2210.10053) | **Nozzle Shocks, Disk Tearing and Streamers Drive Rapid Accretion in 3D  GRMHD Simulations of Warped Thin Disks**  |\n",
       "|| Nicholas Kaaz, et al. -- incl., <mark>Matthew T.P. Liska</mark> |\n",
       "|*Appeared on*| *2022-10-20*|\n",
       "|*Comments*| *17 pages, 10 figures. Submitted to ApJ. Comments welcome and encouraged!*|\n",
       "|**Abstract**| The angular momentum of gas feeding a black hole (BH) is typically misaligned with respect to the BH spin, resulting in a tilted accretion disk. Rotation of the BH drags the surrounding space-time, manifesting as Lense-Thirring torques that lead to disk precession and warping. We study these processes by simulating a thin ($H/r=0.02$), highly tilted ($\\mathcal{T}=65^\\circ$) accretion disk around a rapidly rotating ($a=0.9375$) BH at extremely high resolutions, which we performed using the general-relativistic magnetohydrodynamic (GRMHD) code H-AMR. The disk becomes significantly warped and continuously tears into two individually precessing sub-disks. We find that mass accretion rates far exceed the standard $\\alpha$-viscosity expectations. We identify two novel dissipation mechanisms specific to warped disks that are the main drivers of accretion, distinct from the local turbulent stresses that are usually thought to drive accretion. In particular, we identify extreme scale height oscillations that occur twice an orbit throughout our disk. When the scale height compresses, `nozzle' shocks form, dissipating orbital energy and driving accretion. Separate from this phenomenon, there is also extreme dissipation at the location of the tear. This leads to the formation of low-angular momentum `streamers' that rain down onto the inner sub-disk, shocking it. The addition of low angular momentum gas to the inner sub-disk causes it to rapidly accrete, even when it is transiently aligned with the BH spin and thus unwarped. These mechanisms, if general, significantly modify the standard accretion paradigm. Additionally, they may drive structural changes on much shorter timescales than expected in $\\alpha$-disks, potentially explaining some of the extreme variability observed in active galactic nuclei. |\n",
       "|<p style=\"color:green\"> **ERROR** </p>| <p style=\"color:green\">affiliation error: mpia.affiliation_verifications: 'Heidelberg' keyword not found.</p> |"
      ],
      "text/plain": [
       "<IPython.core.display.Markdown object>"
      ]
     },
     "metadata": {},
     "output_type": "display_data"
    },
    {
     "data": {
      "text/markdown": [
       "\n",
       "|||\n",
       "|---:|:---|\n",
       "| [![arXiv](https://img.shields.io/badge/arXiv-arXiv:2210.10059-b31b1b.svg)](https://arxiv.org/abs/arXiv:2210.10059) | **The MillenniumTNG Project: High-precision predictions for matter  clustering and halo statistics**  |\n",
       "|| <mark>César Hernández-Aguayo</mark>, et al. -- incl., <mark>Lars Hernquist</mark> |\n",
       "|*Appeared on*| *2022-10-20*|\n",
       "|*Comments*| *submitted to MNRAS, 23 pages, 19 figures, for future public data release, see this https URL*|\n",
       "|**Abstract**| Cosmological inference with large galaxy surveys requires theoretical models that combine precise predictions for large-scale structure with robust and flexible galaxy formation modelling throughout a sufficiently large cosmic volume. Here, we introduce the MillenniumTNG (MTNG) project which combines the hydrodynamical galaxy formation model of IllustrisTNG with the large volume of the Millennium simulation. Our largest hydrodynamic simulation, covering (500 Mpc/h)^3 = (740 Mpc)^3, is complemented by a suite of dark-matter-only simulations with up to 4320^3 dark matter particles (a mass resolution of 1.32 x 10^8 Msun/h) using the fixed-and-paired technique to reduce large-scale cosmic variance. The hydro simulation adds 4320^3 gas cells, achieving a baryonic mass resolution of 2 x 10^7 Msun/h. High time-resolution merger trees and direct lightcone outputs facilitate the construction of a new generation of semi-analytic galaxy formation models that can be calibrated against both the hydro simulation and observation, and then applied to even larger volumes - MTNG includes a flagship simulation with 1.1 trillion dark matter particles and massive neutrinos in a volume of (3000 Mpc)^3. In this introductory analysis we carry out convergence tests on basic measures of non-linear clustering such as the matter power spectrum, the halo mass function and halo clustering, and we compare simulation predictions to those from current cosmological emulators. We also use our simulations to study matter and halo statistics, such as halo bias and clustering at the baryonic acoustic oscillation scale. Finally we measure the impact of baryonic physics on the matter and halo distributions. |\n",
       "|<p style=\"color:green\"> **ERROR** </p>| <p style=\"color:green\">affiliation error: mpia.affiliation_verifications: 'Heidelberg' keyword not found.</p> |"
      ],
      "text/plain": [
       "<IPython.core.display.Markdown object>"
      ]
     },
     "metadata": {},
     "output_type": "display_data"
    },
    {
     "data": {
      "text/markdown": [
       "\n",
       "|||\n",
       "|---:|:---|\n",
       "| [![arXiv](https://img.shields.io/badge/arXiv-arXiv:2210.10060-b31b1b.svg)](https://arxiv.org/abs/arXiv:2210.10060) | **The MillenniumTNG Project: The hydrodynamical full physics simulation  and a first look at its galaxy clusters**  |\n",
       "|| Ruediger Pakmor, et al. -- incl., <mark>César Hernández-Aguayo</mark>, <mark>Lars Hernquist</mark> |\n",
       "|*Appeared on*| *2022-10-20*|\n",
       "|*Comments*| *17 pages, 14 figures, submitted to MNRAS, comments welcome*|\n",
       "|**Abstract**| Cosmological simulations are an important theoretical pillar for understanding nonlinear structure formation in our Universe and for relating it to observations on large scales. In several papers, we introduce our MillenniumTNG (MTNG) project that provides a comprehensive set of high-resolution, large volume simulations of cosmic structure formation aiming to better understand physical processes on large scales and to help interpreting upcoming large-scale galaxy surveys. We here focus on the full physics box MTNG740 that computes a volume of $(740\\,\\mathrm{Mpc})^3$ with a baryonic mass resolution of $3.1\\times~10^7\\,\\mathrm{M_\\odot}$ using \\textsc{arepo} with $80.6$~billion cells and the IllustrisTNG galaxy formation model. We verify that the galaxy properties produced by MTNG740 are consistent with the TNG simulations, including more recent observations. We focus on galaxy clusters and analyse cluster scaling relations and radial profiles. We show that both are broadly consistent with various observational constraints. We demonstrate that the SZ-signal on a deep lightcone is consistent with Planck limits. Finally, we compare MTNG740 clusters with galaxy clusters found in Planck and the SDSS-8 RedMaPPer richness catalogue in observational space, finding very good agreement as well. However, {\\it simultaneously} matching cluster masses, richness, and Compton-$y$ requires us to assume that the SZ mass estimates for Planck clusters are underestimated by $0.2$~dex on average. Thanks to its unprecedented volume for a high-resolution hydrodynamical calculation, the MTNG740 simulation offers rich possibilities to study baryons in galaxies, galaxy clusters, and in large scale structure, and in particular their impact on upcoming large cosmological surveys. |\n",
       "|<p style=\"color:green\"> **ERROR** </p>| <p style=\"color:green\">affiliation error: mpia.affiliation_verifications: 'Heidelberg' keyword not found.</p> |"
      ],
      "text/plain": [
       "<IPython.core.display.Markdown object>"
      ]
     },
     "metadata": {},
     "output_type": "display_data"
    },
    {
     "data": {
      "text/markdown": [
       "\n",
       "|||\n",
       "|---:|:---|\n",
       "| [![arXiv](https://img.shields.io/badge/arXiv-arXiv:2210.10065-b31b1b.svg)](https://arxiv.org/abs/arXiv:2210.10065) | **The MillenniumTNG Project: The large-scale clustering of galaxies**  |\n",
       "|| Sownak Bose, et al. -- incl., <mark>César Hernández-Aguayo</mark>, <mark>Lars Hernquist</mark> |\n",
       "|*Appeared on*| *2022-10-20*|\n",
       "|*Comments*| *15 pages, 11 figures, submitted to MNRAS*|\n",
       "|**Abstract**| Modern redshift surveys are tasked with mapping out the galaxy distribution over enormous distance scales. Existing hydrodynamical simulations, however, do not reach the volumes needed to match upcoming surveys. We present results for the clustering of galaxies using a new, large volume hydrodynamical simulation as part of the MillenniumTNG (MTNG) project. With a computational volume that is $\\approx15$ times larger than the next largest such simulation currently available, we show that MTNG is able to accurately reproduce the observed clustering of galaxies as a function of stellar mass. When separated by colour, there are some discrepancies with respect to the observed population, which can be attributed to the quenching of satellite galaxies in our model. We combine MTNG galaxies with those generated using a semi-analytic model to emulate the sample selection of luminous red galaxies (LRGs) and emission line galaxies (ELGs), and show that although the bias of these populations is approximately (but not exactly) constant on scales larger than $\\approx10$ Mpc, there is significant scale-dependent bias on smaller scales. The amplitude of this effect varies between the two galaxy types, and also between the semi-analytic model and MTNG. We show that this is related to the distribution of haloes hosting LRGs and ELGs. Using mock SDSS-like catalogues generated on MTNG lightcones, we demonstrate the existence of prominent baryonic acoustic features in the large-scale galaxy clustering. We also demonstrate the presence of realistic redshift space distortions in our mocks, finding excellent agreement with the multipoles of the redshift-space clustering measured in SDSS data. |\n",
       "|<p style=\"color:green\"> **ERROR** </p>| <p style=\"color:green\">affiliation error: mpia.affiliation_verifications: 'Heidelberg' keyword not found.</p> |"
      ],
      "text/plain": [
       "<IPython.core.display.Markdown object>"
      ]
     },
     "metadata": {},
     "output_type": "display_data"
    },
    {
     "data": {
      "text/markdown": [
       "\n",
       "|||\n",
       "|---:|:---|\n",
       "| [![arXiv](https://img.shields.io/badge/arXiv-arXiv:2210.10066-b31b1b.svg)](https://arxiv.org/abs/arXiv:2210.10066) | **The MilleniumTNG Project: The galaxy population at $z\\geq 8$**  |\n",
       "|| Rahul Kannan, et al. -- incl., <mark>Lars Hernquist</mark>, <mark>César Hernández-Aguayo</mark>, <mark>Aaron Smith</mark> |\n",
       "|*Appeared on*| *2022-10-20*|\n",
       "|*Comments*| *11 pages, 7 figures, Comments welcome -- Part of the initial set of papers introducing the MilleniumTNG project. Visit www.mtng-project.org for more details*|\n",
       "|**Abstract**| The early release science results from the $\\textit{James Webb Space Telescope (JWST)}$ have yielded an unexpected abundance of high-redshift luminous galaxies that seems to be in tension with current theories of galaxy formation. However, it is currently difficult to draw definitive conclusions form these results as the sources have not yet been spectroscopically confirmed. It is in any case important to establish baseline predictions from current state-of-the-art galaxy formation models that can be compared and contrasted with these new measurements. In this work, we use the new large-volume ($L_\\mathrm{box}\\sim 740 \\, \\mathrm{cMpc}$) hydrodynamic simulation of the MilleniumTNG project to make predictions for the high-redshift ($z\\gtrsim8$) galaxy population and compare them to recent $\\textit{JWST}$ observations. We show that the simulated galaxy population is broadly consistent with observations until $z\\sim10$. From $z\\approx10-12$, the observations indicate a preference for a galaxy population that is largely dust-free, but is still consistent with the simulations. Beyond $z\\gtrsim12$, however, our simulation results underpredict the abundance of luminous galaxies and their star-formation rates by almost an order of magnitude. This indicates either an incomplete understanding of the new $\\textit{JWST}$ data or a need for more sophisticated galaxy formation models that account for additional physical processes such as Population~III stars, variable stellar initial mass functions, or even deviations from the standard $\\Lambda$CDM model. We emphasise that any new process invoked to explain this tension should only significantly influence the galaxy population beyond $z\\gtrsim10$, while leaving the successful galaxy formation predictions of the fiducial model intact below this redshift. |\n",
       "|<p style=\"color:green\"> **ERROR** </p>| <p style=\"color:green\">affiliation error: mpia.affiliation_verifications: 'Heidelberg' keyword not found.</p> |"
      ],
      "text/plain": [
       "<IPython.core.display.Markdown object>"
      ]
     },
     "metadata": {},
     "output_type": "display_data"
    },
    {
     "data": {
      "text/markdown": [
       "\n",
       "|||\n",
       "|---:|:---|\n",
       "| [![arXiv](https://img.shields.io/badge/arXiv-arXiv:2210.10068-b31b1b.svg)](https://arxiv.org/abs/arXiv:2210.10068) | **The MillenniumTNG Project: Refining the one-halo model of red and blue  galaxies at different redshifts**  |\n",
       "|| Boryana Hadzhiyska, et al. -- incl., <mark>Lars Hernquist</mark>, <mark>César Hernández-Aguayo</mark> |\n",
       "|*Appeared on*| *2022-10-20*|\n",
       "|*Comments*| *14 pages, 10 figures; submitted to MNRAS*|\n",
       "|**Abstract**| Luminous red galaxies (LRGs) and blue star-forming emission-line galaxies (ELGs) are key tracers of large-scale structure used by cosmological surveys. Theoretical predictions for such data are often done via simplistic models for the galaxy-halo connection. In this work, we use the large, high-fidelity hydrodynamical simulation of the MillenniumTNG project (MTNG) to inform a new phenomenological approach for obtaining an accurate and flexible galaxy-halo model on small scales. Our aim is to study LRGs and ELGs at two distinct epochs, $z = 1$ and $z = 0$, and recover their clustering down to very small scales, $r \\sim 0.1 \\ {\\rm Mpc}/h$, i.e. the one-halo regime, while a companion paper extends this to a two-halo model for larger distances. The occupation statistics of ELGs in MTNG inform us that: (1) the satellite occupations exhibit a slightly super-Poisson distribution, contrary to commonly made assumptions, and (2) that haloes containing at least one ELG satellite are twice as likely to host a central ELG. We propose simple recipes for modeling these effects, each of which calls for the addition of a single free parameter to simpler halo occupation models. To construct a reliable satellite population model, we explore the LRG and ELG satellite radial and velocity distributions and compare them with those of subhalos and particles in the simulation. We find that ELGs are anisotropically distributed within halos, which together with our occupation results provides strong evidence for cooperative galaxy formation (manifesting itself as one-halo galaxy conformity); i.e.~galaxies with similar properties form in close proximity to each other. Our refined galaxy-halo model represents a useful improvement of commonly used analysis tools and thus can be of help to increase the constraining power of large-scale structure surveys. |\n",
       "|<p style=\"color:green\"> **ERROR** </p>| <p style=\"color:green\">affiliation error: mpia.affiliation_verifications: 'Heidelberg' keyword not found.</p> |"
      ],
      "text/plain": [
       "<IPython.core.display.Markdown object>"
      ]
     },
     "metadata": {},
     "output_type": "display_data"
    },
    {
     "data": {
      "text/markdown": [
       "\n",
       "|||\n",
       "|---:|:---|\n",
       "| [![arXiv](https://img.shields.io/badge/arXiv-arXiv:2210.10070-b31b1b.svg)](https://arxiv.org/abs/arXiv:2210.10070) | **IFU observations of the inner 200 pc of NGC 4546: gas rotation,  non-circular motions and ionised outflows**  |\n",
       "|| <mark>Kelly F. Heckler</mark>, Tiago V. Ricci, Rogemar A. Riffel |\n",
       "|*Appeared on*| *2022-10-20*|\n",
       "|*Comments*| *13 pages, accepted for publication in MNRAS*|\n",
       "|**Abstract**| We present a detailed analysis of the ionised gas distribution and kinematics in the inner ~ 200 pc of NGC 4546, host of a Low Luminosity Active Galactic Nucleus (LLAGN). Using GMOS-IFU observations, with a spectral coverage of 4736-6806 A and an angular resolution of 0.7 arcsec, we confirm that the nuclear emission is consistent with photoionisation by an AGN, while the gas in the circumnuclear region may be ionised by hot low-mass evolved stars. The gas kinematics in the central region of NGC 4546 presents three components: (i) a disc with major axis oriented along a position angle of 43deg +/- 3deg, counter rotating relative to the stellar disc; (ii) non-circular motions, evidenced by residual velocities of up to 60 km/s, likely associated to a previous capture of a dwarf satellite by NGC 4546; and (iii) nuclear outflows in ionised gas, identified as a broad component (sigma ~ 320 km/s) in the line profiles, with a mass outflow rate of dMout = 0.3 +/- 0.1 Msun/yr and a total mass of Mout = (9.2 +/- 0.8)E3 Msun in ionised gas, corresponding to less than 3 per cent of the total mass of ionised gas in the inner 200 pc of NGC 4546. The kinetic efficiency of the outflow is roughly 0.1 per cent, which is smaller than the outflow coupling efficiencies predicted by theoretical studies to AGN feedback become efficient in suppressing star formation in the host galaxy. |\n",
       "|<p style=\"color:green\"> **ERROR** </p>| <p style=\"color:green\">affiliation error: mpia.affiliation_verifications: 'Heidelberg' keyword not found.</p> |"
      ],
      "text/plain": [
       "<IPython.core.display.Markdown object>"
      ]
     },
     "metadata": {},
     "output_type": "display_data"
    },
    {
     "data": {
      "text/markdown": [
       "\n",
       "|||\n",
       "|---:|:---|\n",
       "| [![arXiv](https://img.shields.io/badge/arXiv-arXiv:2210.10072-b31b1b.svg)](https://arxiv.org/abs/arXiv:2210.10072) | **The MillenniumTNG Project: An improved two-halo model for the  galaxy-halo connection of red and blue galaxies**  |\n",
       "|| Boryana Hadzhiyska, et al. -- incl., <mark>Lars Hernquist</mark>, <mark>César Hernández-Aguayo</mark> |\n",
       "|*Appeared on*| *2022-10-20*|\n",
       "|*Comments*| *16 pages, 8 figures; submitted to MNRAS*|\n",
       "|**Abstract**| Approximate methods to populate dark matter halos with galaxies are of great utility to large galaxy surveys. However, the limitations of simple halo occupation models (HODs) preclude a full use of small-scale galaxy clustering data and call for more sophisticated models. We study two galaxy populations, luminous red galaxies (LRGs) and star-forming emission-line galaxies (ELGs), at two epochs, $z=1$ and $z=0$, in the large volume, high-resolution hydrodynamical simulation of the MillenniumTNG project. In a partner study we concentrated on the small-scale, one-halo regime down to $r\\sim 0.1{\\rm Mpc}/h$, while here we focus on modeling galaxy assembly bias in the two-halo regime, $r\\gtrsim 1{\\rm Mpc}/h$. Interestingly, the ELG signal exhibits scale dependence out to relatively large scales ($r\\sim 20{\\rm Mpc}/h$), implying that the linear bias approximation for this tracer is invalid on these scales, contrary to common assumptions. The 10-15\\% discrepancy present in the standard halo model prescription is only reconciled when we augment our halo occupation model with a dependence on extrinsic halo properties (\"shear\" being the best-performing one) rather than intrinsic ones (e.g., concentration, peak mass). We argue that this fact constitutes evidence for two-halo galaxy conformity. Including tertiary assembly bias (i.e. a property beyond mass and \"shear\") is not an essential requirement for reconciling the galaxy assembly bias signal of LRGs, but the combination of external and internal properties is beneficial for recovering ELG the clustering. We find that centrals in low-mass haloes dominate the assembly bias signal of both populations. Finally, we explore the predictions of our model for higher-order statistics such as nearest-neighbor counts. The latter supplies additional information about galaxy assembly bias and can be used to break degeneracies between halo model parameters. |\n",
       "|<p style=\"color:green\"> **ERROR** </p>| <p style=\"color:green\">affiliation error: mpia.affiliation_verifications: 'Heidelberg' keyword not found.</p> |"
      ],
      "text/plain": [
       "<IPython.core.display.Markdown object>"
      ]
     },
     "metadata": {},
     "output_type": "display_data"
    },
    {
     "data": {
      "text/markdown": [
       "\n",
       "|||\n",
       "|---:|:---|\n",
       "| [![arXiv](https://img.shields.io/badge/arXiv-arXiv:2210.10074-b31b1b.svg)](https://arxiv.org/abs/arXiv:2210.10074) | **First results from the JWST Early Release Science Program Q3D: Turbulent  times in the life of a $z \\sim 3$ extremely red quasar revealed by NIRSpec  IFU**  |\n",
       "|| Dominika Wylezalek, et al. -- incl., <mark>Weizhe Liu</mark>, <mark>Andy D. Goulding</mark>, <mark>Jenny E. Greene</mark>, <mark>Timothy Heckman</mark> |\n",
       "|*Appeared on*| *2022-10-20*|\n",
       "|*Comments*| *ApJL in press, 11 pages, please also see associated ESA / STScI press release from Oct 20th 2022*|\n",
       "|**Abstract**| Extremely red quasars, with bolometric luminosities exceeding $10^{47}$ erg s$^{-1}$, are a fascinating high-redshift population that is absent in the local universe. They are the best candidates for supermassive black holes accreting at rates at or above the Eddington limit, and they are associated with the most rapid and powerful outflows of ionized gas known to date. They are also hosted by massive galaxies. Here we present the first integral field unit (IFU) observations of a high-redshift quasar obtained by the Near Infrared Spectrograph (NIRSpec) on board the James Webb Space Telescope (JWST), which targeted SDSSJ165202.64+172852.3, an extremely red quasar at $z=2.94$. JWST observations reveal extended ionized gas - as traced by [OIII]$\\lambda$5007\\AA - in the host galaxy of the quasar, its outflow, and the circumgalactic medium. The complex morphology and kinematics imply that the quasar resides in a very dense environment with several interacting companion galaxies within projected distances of 10-15 kpc. The high density of the environment and the large velocities of the companion galaxies suggest that this system may represent the core of a forming cluster of galaxies. The system is a good candidate for a merger of two or more dark matter halos, each with a mass of a few $10^{13}$ M$_\\odot$ and traces potentially one of the densest knots at $z\\sim3$. |\n",
       "|<p style=\"color:green\"> **ERROR** </p>| <p style=\"color:green\">affiliation error: mpia.affiliation_verifications: 'Heidelberg' keyword not found.</p> |"
      ],
      "text/plain": [
       "<IPython.core.display.Markdown object>"
      ]
     },
     "metadata": {},
     "output_type": "display_data"
    },
    {
     "data": {
      "text/markdown": [
       "\n",
       "|||\n",
       "|---:|:---|\n",
       "| [![arXiv](https://img.shields.io/badge/arXiv-arXiv:2210.10075-b31b1b.svg)](https://arxiv.org/abs/arXiv:2210.10075) | **The MillenniumTNG Project: Inferring cosmology from galaxy clustering  with accelerated N-body scaling and subhalo abundance matching**  |\n",
       "|| Sergio Contreras, et al. -- incl., <mark>Lars Hernquist</mark>, <mark>César Hernández-Aguayo</mark> |\n",
       "|*Appeared on*| *2022-10-20*|\n",
       "|*Comments*| *18 pages, 12 figures, submitted to MNRAS*|\n",
       "|**Abstract**| We introduce a novel technique for constraining cosmological parameters and galaxy assembly bias using non-linear redshift-space clustering of galaxies. We scale cosmological N-body simulations and insert galaxies with the SubHalo Abundance Matching extended (SHAMe) empirical model to generate over 175,000 clustering measurements spanning all relevant cosmological and SHAMe parameter values. We then build an emulator capable of reproducing the projected galaxy correlation function at the monopole, quadrupole and hexadecapole level for separations between $0.1\\,h^{-1}{\\rm Mpc}$ and $25\\,h^{-1}{\\rm Mpc}$. We test this approach by using the emulator and Monte Carlo Markov Chain (MCMC) inference to jointly estimate cosmology and assembly bias parameters both for the MTNG740 hydrodynamic simulation and for a semi-analytical galaxy formation model (SAM) built on the MTNG740-DM dark matter-only simulation, obtaining unbiased results for all cosmological parameters. For instance, for MTNG740 and a galaxy number density of $n\\sim 0.01 h^{3}{\\rm Mpc}^{-3}$, we obtain $\\sigma_{8}=0.799^{+0.039}_{-0.044}$ ($\\sigma_{8,{\\rm MTNG}} =$ 0.8159), and $\\Omega_\\mathrm{M}h^2= 0.138^{+ 0.025}_{- 0.018}$ ($\\Omega_{\\mathrm{M}} h^2_{\\rm MTNG} =$ 0.142). For fixed Hubble parameter ($h$), the constraint becomes $\\Omega_\\mathrm{M}h^2= 0.137^{+ 0.011}_{- 0.012}$. Our method performs similarly well for the SAM and for other tested sample densities. We almost always recover the true amount of galaxy assembly bias within one sigma. The best constraints are obtained when scales smaller than $2\\,h^{-1}{\\rm Mpc}$ are included, as well as when at least the projected correlation function and the monopole are incorporated. These methods offer a powerful way to constrain cosmological parameters using galaxy surveys. |\n",
       "|<p style=\"color:green\"> **ERROR** </p>| <p style=\"color:green\">affiliation error: mpia.affiliation_verifications: 'Heidelberg' keyword not found.</p> |"
      ],
      "text/plain": [
       "<IPython.core.display.Markdown object>"
      ]
     },
     "metadata": {},
     "output_type": "display_data"
    },
    {
     "data": {
      "text/markdown": [
       "\n",
       "|||\n",
       "|---:|:---|\n",
       "| [![arXiv](https://img.shields.io/badge/arXiv-arXiv:2210.10165-b31b1b.svg)](https://arxiv.org/abs/arXiv:2210.10165) | **Episodic accretion and mergers during growth of massive protostars**  |\n",
       "|| Vardan G. Elbakyan, Sergei Nayakshin, <mark>Dominique M.-A. Meyer</mark>, Eduard I. Vorobyov |\n",
       "|*Appeared on*| *2022-10-20*|\n",
       "|*Comments*| *19 pages, 16 figures, accepted to MNRAS*|\n",
       "|**Abstract**| 3D simulations of high mass young stellar object (HMYSO) growth show that their circumstellar discs fragment onto multiple self-gravitating objects. Accretion of these by HMYSO may explain episodic accretion bursts discovered recently. We post-process results of a previous 3D simulation of a HMYSO disc with a 1D code that resolves the disc and object dynamics down to the stellar surface. We find that burst-like deposition of material into the inner disc seen in 3D simulations by itself does not always signify powerful accretion bursts. Only high density post-collapse clumps crossing the inner computational boundary may result in observable bursts. The rich physics of the inner disc has a significant impact on the expected accretion bursts: (1) In the standard turbulent viscosity discs, migrating objects can stall at a migration trap at the distance of a few au from the star. However, in discs powered by magnetised winds, the objects are able to cross the trap and produce bursts akin to those observed so far. (2) Migrating objects may interact with and modify the thermal (hydrogen ionisation) instability of the inner disc, which can be responsible for longer duration and lower luminosity bursts in HMYSOs. (3) If the central star is bloated to a fraction of an au by a previous episode of high accretion rate, or if the migrating object is particularly dense, a merger rather than a disc-mediated accretion burst results; (4) Object disruption bursts may be super-Eddington, leading to episodic feedback on HMYSO surroundings via powerful outflows. |\n",
       "|<p style=\"color:green\"> **ERROR** </p>| <p style=\"color:green\">affiliation error: mpia.affiliation_verifications: 'Heidelberg' keyword not found.</p> |"
      ],
      "text/plain": [
       "<IPython.core.display.Markdown object>"
      ]
     },
     "metadata": {},
     "output_type": "display_data"
    },
    {
     "data": {
      "text/markdown": [
       "\n",
       "|||\n",
       "|---:|:---|\n",
       "| [![arXiv](https://img.shields.io/badge/arXiv-arXiv:2210.10198-b31b1b.svg)](https://arxiv.org/abs/arXiv:2210.10198) | **Radiation Transport Two-Temperature GRMHD Simulations of Warped  Accretion Disks**  |\n",
       "|| <mark>M.T.P. Liska</mark>, et al. |\n",
       "|*Appeared on*| *2022-10-20*|\n",
       "|*Comments*| *16 pages, 11 figures, submitted to ApJ*|\n",
       "|**Abstract**| In many black hole systems, the accretion disk is expected to be misaligned with respect to the black hole spin axis. If the scale height of the disk is much smaller than the misalignment angle, the spin of the black hole can tear the disk into multiple, independently precessing `sub-disks'. This is most likely to happen during outbursts in black hole X-Ray binaries (BHXRBs) and in active galactic nuclei (AGN) accreting above a few percent of the Eddington limit, because the disk becomes razor-thin. Disk tearing has the potential to explain variability phenomena including quasi-periodic oscillations (QPOs) in BHXRBs and changing-look phenomena in AGN. Here, we present the first radiative two-temperature GRMHD simulation of a strongly tilted ($65^{\\circ}$) accretion disk around a $M_{BH}=10M_{\\odot}$ black hole, which tears and precesses. This leads to luminosity swings between a few percent and $50 \\%$ of the Eddington limit on sub-viscous timescales. Surprisingly, even where the disk is radiation pressure dominated, the accretion disk is thermally stable over $t \\gtrsim 14,000 r_g/c$. This suggests warps play an important role in stabilizing the disk against thermal collapse. The disk forms two nozzle shocks perpendicular to the line of nodes where the scale height of the disk decreases $10$-fold and the electron temperature reaches $T_e \\sim 10^8-10^9 K$. In addition, optically thin gas crossing the tear between the inner and outer disk gets heated to $T_e \\sim 10^8 K$. This suggests that warped disks may emit a Comptonized spectrum that deviates substantially from idealized models. |\n",
       "|<p style=\"color:green\"> **ERROR** </p>| <p style=\"color:green\">affiliation error: mpia.affiliation_verifications: 'Heidelberg' keyword not found.</p> |"
      ],
      "text/plain": [
       "<IPython.core.display.Markdown object>"
      ]
     },
     "metadata": {},
     "output_type": "display_data"
    },
    {
     "data": {
      "text/markdown": [
       "\n",
       "|||\n",
       "|---:|:---|\n",
       "| [![arXiv](https://img.shields.io/badge/arXiv-arXiv:2210.10310-b31b1b.svg)](https://arxiv.org/abs/arXiv:2210.10310) | **Time-Variable Jet Ejections from RW Aur A, RY Tau and DG Tau**  |\n",
       "|| Michihiro Takami, et al. -- incl., <mark>Chun-Fan Liu</mark> |\n",
       "|*Appeared on*| *2022-10-20*|\n",
       "|*Comments*| *24 pages, 11 figures, 8 tables, accepted for ApJS*|\n",
       "|**Abstract**| We present Gemini-NIFS, VLT-SINFONI and Keck-OSIRIS observations of near-infrared [Fe II] emission associated with the well-studied jets from three active T Tauri stars; RW Aur A, RY Tau and DG Tau taken from 2012-2021. We primarily covered the redshifted jet from RW Aur A, and the blueshifted jets from RY Tau and DG Tau, to investigate long-term time variabilities potentially related to the activities of mass accretion and/or the stellar magnetic fields. All of these jets consist of several moving knots with tangential velocities of 70-240 km s-1, ejected from the star with different velocities and at irregular time intervals. Via comparison with literature, we identify significant differences in tangential velocities for the DG Tau jet between 1985-2008 and 2008-2021. The sizes of the individual knots appear to increase with time, and in turn, their peak brightnesses in the 1.644-micron emission decreased up to a factor of ~30 during the epochs of our observations. A variety of the decay timescales measured in the [Fe II] 1.644 micron emission can be attributed to different pre-shock conditions if the moving knots are unresolved shocks. However, our data do not exclude the possibility that these knots are due to non-uniform density/temperature distributions with another heating mechanism, or in some cases due to stationary shocks without proper motions. Spatially resolved observations of these knots with significantly higher angular resolutions are necessary to better understand their physical nature. |\n",
       "|<p style=\"color:green\"> **ERROR** </p>| <p style=\"color:green\">affiliation error: mpia.affiliation_verifications: 'Heidelberg' keyword not found.</p> |"
      ],
      "text/plain": [
       "<IPython.core.display.Markdown object>"
      ]
     },
     "metadata": {},
     "output_type": "display_data"
    },
    {
     "data": {
      "text/markdown": [
       "\n",
       "|||\n",
       "|---:|:---|\n",
       "| [![arXiv](https://img.shields.io/badge/arXiv-arXiv:2210.10324-b31b1b.svg)](https://arxiv.org/abs/arXiv:2210.10324) | **Detecting the oscillation and propagation of the nascent dynamic solar  wind structure at 2.6 solar radii using VLBI radio telescopes**  |\n",
       "|| Maoli Ma, et al. -- incl., <mark>Peijia Li</mark>, <mark>Peijin Zhang</mark>, <mark>Jiansen He</mark>, <mark>Lijia Liu</mark>, <mark>Qinghui Liu</mark>, <mark>Zhanghu Chu</mark>, <mark>Xu Zhao</mark>, <mark>Yingkai Liu</mark>, <mark>Hua Zhang</mark> |\n",
       "|*Appeared on*| *2022-10-20*|\n",
       "|*Comments*| *13 pages, 9 figures*|\n",
       "|**Abstract**| Probing the solar corona is crucial to study the coronal heating and solar wind acceleration. However, the transient and inhomogeneous solar wind flows carry large-amplitude inherent Alfven waves and turbulence, which make detection more difficult. We report the oscillation and propagation of the solar wind at 2.6 solar radii (Rs) by observation of China Tianwen and ESA Mars Express with radio telescopes. The observations were carried out on Oct.9 2021, when one coronal mass ejection (CME) passed across the ray paths of the telescope beams. We obtain the frequency fluctuations (FF) of the spacecraft signals from each individual telescope. Firstly, we visually identify the drift of the frequency spikes at a high spatial resolution of thousands of kilometers along the projected baselines. They are used as traces to estimate the solar wind velocity. Then we perform the cross-correlation analysis on the time series of FF from different telescopes. The velocity variations of solar wind structure along radial and tangential directions during the CME passage are obtained. The oscillation of tangential velocity confirms the detection of streamer wave. Moreover, at the tail of the CME, we detect the propagation of an accelerating fast field-aligned density structure indicating the presence of magnetohydrodynamic waves. This study confirm that the ground station-pairs are able to form particular spatial projection baselines with high resolution and sensitivity to study the detailed propagation of the nascent dynamic solar wind structure. |\n",
       "|<p style=\"color:green\"> **ERROR** </p>| <p style=\"color:green\">affiliation error: mpia.affiliation_verifications: 'Heidelberg' keyword not found.</p> |"
      ],
      "text/plain": [
       "<IPython.core.display.Markdown object>"
      ]
     },
     "metadata": {},
     "output_type": "display_data"
    },
    {
     "data": {
      "text/markdown": [
       "\n",
       "|||\n",
       "|---:|:---|\n",
       "| [![arXiv](https://img.shields.io/badge/arXiv-arXiv:2210.10337-b31b1b.svg)](https://arxiv.org/abs/arXiv:2210.10337) | **Spectroscopic Confirmation of Two X-ray Diffuse and Massive Galaxy  Clusters at Low Redshift**  |\n",
       "|| Kaiyuan Chen, Weiwei Xu, <mark>Linhua Jiang</mark> |\n",
       "|*Appeared on*| *2022-10-20*|\n",
       "|*Comments*| *12 pages, 7 figures, 1 table*|\n",
       "|**Abstract**| We present MMT spectroscopic observations of two massive galaxy cluster candidates at redshift $z\\sim0.07$ that show extended and diffuse X-ray emission in the ROSAT All Sky Survey (RASS) images. The targets were selected from a previous catalog of 303 newly-identified cluster candidates with the similar properties using the intra-cluster medium emission. Using the new MMT Hectospec data and SDSS archival spectra, we identify a number of member galaxies for the two targets and confirm that they are galaxy clusters at $z=0.079$ and 0.067, respectively. The size of the two clusters, calculated from the distribution of the member galaxies, is roughly 2 Mpc in radius. We estimate cluster masses using three methods based on their galaxy number overdensities, galaxy velocity dispersions, and X-ray emission. The overdensity-based masses are $(6\\sim8) \\rm \\times10^{14}\\ M_\\odot$, comparable to the masses of large clusters at low redshift. The masses derived from velocity dispersions are significantly lower, likely due to their diffuse and low concentration features. Our result suggests the existence of a population of large clusters with very diffuse X-ray emission that have been missed by most previous searches using the RASS images. If most of the 303 candidates in the previous catalog are confirmed to be real clusters, this may help to reduce the discrepancy of cosmological results between the CMB and galaxy cluster measurements. |\n",
       "|<p style=\"color:green\"> **ERROR** </p>| <p style=\"color:green\">affiliation error: mpia.affiliation_verifications: 'Heidelberg' keyword not found.</p> |"
      ],
      "text/plain": [
       "<IPython.core.display.Markdown object>"
      ]
     },
     "metadata": {},
     "output_type": "display_data"
    },
    {
     "data": {
      "text/markdown": [
       "\n",
       "|||\n",
       "|---:|:---|\n",
       "| [![arXiv](https://img.shields.io/badge/arXiv-arXiv:2210.10419-b31b1b.svg)](https://arxiv.org/abs/arXiv:2210.10419) | **The MillenniumTNG Project: Semi-analytic galaxy formation models on the  past lightcone**  |\n",
       "|| Monica Barrera, et al. -- incl., <mark>César Hernández-Aguayo</mark>, <mark>Lars Hernquist</mark> |\n",
       "|*Appeared on*| *2022-10-20*|\n",
       "|*Comments*| *15 pages, 10 figures, submitted to MNRAS*|\n",
       "|**Abstract**| Upcoming large galaxy surveys will subject the standard cosmological model, $\\Lambda$CDM, to new precision tests. These can be tightened considerably if theoretical models of galaxy formation are available that can predict galaxy clustering and galaxy-galaxy lensing on the full range of measurable scales throughout volumes as large as those of the surveys and with sufficient flexibility that uncertain aspects of the underlying astrophysics can be marginalised over. This, in particular, requires mock galaxy catalogues in large cosmological volumes that can be directly compared to observation, and can be optimised empirically by Monte Carlo Markov Chains or other similar schemes to eliminate or estimate astrophysical parameters related to galaxy formation when constraining cosmology. Semi-analytic galaxy formation methods implemented on top of cosmological dark matter simulations offer a computationally efficient approach to construct physically based and flexibly parametrised galaxy formation models, and as such they are more potent than still faster, but purely empirical models. Here we introduce an updated methodology for the semi-analytic L-GALAXIES code, allowing it to be applied to simulations of the new MillenniumTNG project, producing galaxies directly on fully continuous past lightcones, potentially over the full sky, out to high redshift, and for all galaxies more massive than $\\sim 10^8\\,{\\rm M}_\\odot$. We investigate the numerical convergence of the resulting predictions, and study the projected galaxy clustering signals of different samples. The new methodology can be viewed as an important step towards more faithful forward-modelling of observational data, helping to reduce systematic distortions in the comparison of theory to observations. |\n",
       "|<p style=\"color:green\"> **ERROR** </p>| <p style=\"color:green\">affiliation error: mpia.affiliation_verifications: 'Heidelberg' keyword not found.</p> |"
      ],
      "text/plain": [
       "<IPython.core.display.Markdown object>"
      ]
     },
     "metadata": {},
     "output_type": "display_data"
    },
    {
     "data": {
      "text/markdown": [
       "\n",
       "|||\n",
       "|---:|:---|\n",
       "| [![arXiv](https://img.shields.io/badge/arXiv-arXiv:2210.10440-b31b1b.svg)](https://arxiv.org/abs/arXiv:2210.10440) | **Mid-infrared imaging of Supernova 1987A**  |\n",
       "|| Mikako Matsuura, et al. -- incl., <mark>Margaret Meixner</mark> |\n",
       "|*Appeared on*| *2022-10-20*|\n",
       "|*Comments*| *MNRAS accepted*|\n",
       "|**Abstract**| At a distance of 50 kpc, Supernova 1987A is an ideal target to study how a young supernova (SN) evolves in time. Its equatorial ring, filled with material expelled from the progenitor star about 20,000 years ago, has been engulfed with SN blast waves. Shocks heat dust grains in the ring, emitting their energy at mid-infrared (IR) wavelengths We present ground-based 10--18$\\mu$m monitoring of the ring of SN 1987A from day 6067 to 12814 at a resolution of 0.5\", together with SOFIA photometry at 10-30 $\\mu$m. The IR images in the 2000's (day 6067-7242) showed that the shocks first began brightening the east side of the ring. Later, our mid-IR images from 2017 to 2022 (day 10952-12714) show that dust emission is now fading in the east, while it has brightened on the west side of the ring. Because dust grains are heated in the shocked plasma, which can emit X-rays, the IR and X-ray brightness ratio represent shock diagnostics. Until 2007 the IR to X-ray brightness ratio remained constant over time, and during this time shocks seemed to be largely influencing the east side of the ring. However, since then, the IR to X-ray ratio has been declining, due to increased X-ray brightness. Whether the declining IR brightness is because of dust grains being destroyed or being cooled in the post-shock regions will require more detailed modelling. |\n",
       "|<p style=\"color:green\"> **ERROR** </p>| <p style=\"color:green\">affiliation error: mpia.affiliation_verifications: 'Heidelberg' keyword not found.</p> |"
      ],
      "text/plain": [
       "<IPython.core.display.Markdown object>"
      ]
     },
     "metadata": {},
     "output_type": "display_data"
    },
    {
     "data": {
      "text/markdown": [
       "\n",
       "|||\n",
       "|---:|:---|\n",
       "| [![arXiv](https://img.shields.io/badge/arXiv-arXiv:2210.10448-b31b1b.svg)](https://arxiv.org/abs/arXiv:2210.10448) | **The Nova KT Eri Is a Recurrent Nova With a Recurrence Time-Scale of  40-50 Years**  |\n",
       "|| Bradley E. Schaefer, <mark>Frederick M. Walter</mark>, Rebekah Hounsell, Yael Hillman |\n",
       "|*Appeared on*| *2022-10-20*|\n",
       "|*Comments*| *MNRAS in press*|\n",
       "|**Abstract**| KT Eridani was a very fast nova in 2009 peaking at V=5.42 mag. We marshal large data sets of photometry to finally work out the nature of KT Eri. From the TESS light curve, as confirmed with our radial velocity curve, we find an orbital period of 2.61595 days. With our 272 spectral energy distributions from simultaneous BVRIJHK measures, the companion star has a temperature of 6200$\\pm$500 K. Our century-long average in quiescence has V=14.5. With the Gaia distance (5110$^{+920}_{-430}$ parsecs), the absolute magnitude is +0.7$\\pm$0.3. We converted this absolute magnitude (corrected to the disc light alone) to accretion rates, with a full integration of the alpha-disc model. This accretion rate is very high at 3.5x10$^{-7}$ solar masses per year. Our search and analysis of archival photographs shows that no eruption occurred from 1928--1954 or after 1969. With our analysis of the optical light curve, the X-ray light curve, and the radial velocity curve, we derive a white dwarf mass of 1.25$\\pm$0.03 solar masses. With the high white dwarf mass and very-high accretion rate, KT Eri must require a short time to accumulate the required mass to trigger the next nova event. Our detailed calculations give a recurrence time-scale of 12 years with a total range of 5--50 years. When combined with the archival constraints, we conclude that the recurrence time-scale must be between 40--50 years. So, KT Eri is certainly a recurrent nova, with the prior eruption remaining undiscovered in a solar gap of coverage from 1959 to 1969. |\n",
       "|<p style=\"color:green\"> **ERROR** </p>| <p style=\"color:green\">affiliation error: mpia.affiliation_verifications: 'Heidelberg' keyword not found.</p> |"
      ],
      "text/plain": [
       "<IPython.core.display.Markdown object>"
      ]
     },
     "metadata": {},
     "output_type": "display_data"
    },
    {
     "data": {
      "text/markdown": [
       "\n",
       "|||\n",
       "|---:|:---|\n",
       "| [![arXiv](https://img.shields.io/badge/arXiv-arXiv:2210.10500-b31b1b.svg)](https://arxiv.org/abs/arXiv:2210.10500) | **Resolving the Vicinity of Supermassive Black Holes with Gravitational  Microlensing**  |\n",
       "|| <mark>Henry Best</mark>, Joshua Fagin, Georgios Vernardos, Matthew O'Dowd |\n",
       "|*Appeared on*| *2022-10-20*|\n",
       "|*Comments*| *14 pages, 14 figures*|\n",
       "|**Abstract**| In the near future, wide field surveys will discover 1000's of new strongly lensed quasars, and these will be monitored with unprecedented cadence by the Legacy Survey of Space and Time (LSST). Many of these will undergo caustic-crossing microlensing events over the 10-year LSST survey, in which a sharp caustic feature from a stellar body in the lensing galaxy crosses the inner accretion disk. Caustic-crossing events offer the unique opportunity to probe the vicinity of the central supermassive black hole for 100s of quasars with multi-platform follow-up triggered by LSST monitoring. To prepare for these observations, we have developed detailed simulations of caustic-crossing light curves. These employ a realistic analytic model of the inner accretion disk that reveals the strong surface brightness asymmetries introduced when fully accounting for both special- and general-relativistic effects. We demonstrate that an inflection in the caustic-crossing light curve due to the innermost stable circular orbit (ISCO) can be detected in reasonable follow-up observations and can be analyzed to constrain ISCO size. We also demonstrate that a convolutional neural network can be trained to predict ISCO size more reliably than traditional approaches and can also recover source orientation with high accuracy. |\n",
       "|<p style=\"color:green\"> **ERROR** </p>| <p style=\"color:green\">affiliation error: mpia.affiliation_verifications: 'Heidelberg' keyword not found.</p> |"
      ],
      "text/plain": [
       "<IPython.core.display.Markdown object>"
      ]
     },
     "metadata": {},
     "output_type": "display_data"
    },
    {
     "data": {
      "text/markdown": [
       "\n",
       "|||\n",
       "|---:|:---|\n",
       "| [![arXiv](https://img.shields.io/badge/arXiv-arXiv:2210.10591-b31b1b.svg)](https://arxiv.org/abs/arXiv:2210.10591) | **Photometric and spectroscopic studies of the long period low mass ratio  deep contact binary KN Per**  |\n",
       "|| Xin-Yi Gao, et al. -- incl., <mark>Kai Li</mark>, <mark>Ya-Ni Guo</mark>, <mark>Fei Liu</mark>, <mark>Guo-You Sun</mark> |\n",
       "|*Appeared on*| *2022-10-20*|\n",
       "|*Comments*| *20 pages, 11 figures,, and 10 tables, accepted by PASP*|\n",
       "|**Abstract**| The photometric analysis and spectroscopic study of the long period low mass ratio deep contact binary KN Per were executed. The light curves of BV(RI)$_c$-band were from the Ningbo Bureau of Education and Xinjiang Observatory Telescope (NEXT) at the Xingming Observatory. Through the analysis of Wilson-Devinney (W-D) program, KN Per was found as an A-type low mass ratio deep contact binary (q=0.236, f=53.4\\%). A cool spot applied on the primary component was introduced to explain the unequal maxima of the light curve. Based on the O-C analysis, we found that the rate of the increasing orbital period is $\\dot{P}$ = 5.12 $\\pm$ (0.30) $\\times$ 10$^{-7}$ d/yr, meaning the mass transfer from the secondary component to the primary one. By analyzing the spectroscopic data, we detected chromospheric activity emission line indicators, which is corresponding to the light-curve analysis. 71 long period (P $>$ 0.5 days) contact binaries including our target were collected. The evolutionary states of all collected stars were investigated by the illustrations of mass-radius, mass-luminosity, and log M$_{T}$ - log J$_{o}$. The relations of some physical parameters were also determined. With the instability parameters of KN Per, we determined that it is a stable contact binary system at present. |\n",
       "|<p style=\"color:green\"> **ERROR** </p>| <p style=\"color:green\">affiliation error: mpia.affiliation_verifications: 'Heidelberg' keyword not found.</p> |"
      ],
      "text/plain": [
       "<IPython.core.display.Markdown object>"
      ]
     },
     "metadata": {},
     "output_type": "display_data"
    },
    {
     "data": {
      "text/markdown": [
       "\n",
       "|||\n",
       "|---:|:---|\n",
       "| [![arXiv](https://img.shields.io/badge/arXiv-arXiv:2210.10608-b31b1b.svg)](https://arxiv.org/abs/arXiv:2210.10608) | **Red supergiant stars in IC 1613 and metallicity-dependent mixing length  in the evolutionary model**  |\n",
       "|| Sang-Hyun Chun, et al. -- incl., <mark>Heeyoung Oh</mark> |\n",
       "|*Appeared on*| *2022-10-20*|\n",
       "|*Comments*| *15 pages, 7 figures, accepted in ApJ*|\n",
       "|**Abstract**| We report a spectroscopic study on red supergiant stars (RSGs) in the irregular dwarf galaxy IC 1613 in the Local Group. We derive the effective temperatures ($T_\\mathrm{eff}$) and metallicities of 14 RSGs by synthetic spectral fitting to the spectra observed with the MMIRS instrument on the MMT telescope for a wavelength range from 1.16 $\\mu$m to 1.23 $\\mu$m. A weak bimodal distribution of the RSG metallicity centered on the [Fe/H]=$-0.65$ is found, which is slightly lower than or comparable to that of the Small Magellanic Cloud (SMC). There is no evidence for spatial segregation between the metal rich ([Fe/H]$>-0.65$) and poor ([Fe/H]$<-0.65$) RSGs throughout the galaxy. The mean effective temperature of our RSG sample in IC 1613 is higher by about 250 K than that of the SMC. However, no correlation between $T_\\mathrm{eff}$ and metallicity within our RSG sample is found. We calibrate the convective mixing length ($\\alpha_{\\mathrm{MLT}}$) by comparing stellar evolutionary tracks with the RSG positions on the HR diagram, finding that models with $\\alpha_{\\mathrm{MLT}}=2.2-2.4 H_P$ can best reproduce the effective temperatures of the RSGs in IC 1613 for both Schwarzschild and Ledoux convection criteria. This result supports our previous study that a metallicity dependent mixing length is needed to explain the RSG temperatures observed in the Local Group, but we find that this dependency becomes relatively weak for RSGs having a metallicity equal to or less than the SMC metallicity. |\n",
       "|<p style=\"color:green\"> **ERROR** </p>| <p style=\"color:green\">affiliation error: mpia.affiliation_verifications: 'Heidelberg' keyword not found.</p> |"
      ],
      "text/plain": [
       "<IPython.core.display.Markdown object>"
      ]
     },
     "metadata": {},
     "output_type": "display_data"
    },
    {
     "data": {
      "text/markdown": [
       "\n",
       "|||\n",
       "|---:|:---|\n",
       "| [![arXiv](https://img.shields.io/badge/arXiv-arXiv:2210.10653-b31b1b.svg)](https://arxiv.org/abs/arXiv:2210.10653) | **Agile Systems Engineering for sub-CubeSat scale spacecraft**  |\n",
       "|| Konstantinos Kanavouras, <mark>Andreas Makoto Hein</mark>, Maanasa Sachidanand |\n",
       "|*Appeared on*| *2022-10-20*|\n",
       "|*Comments*| *15 pages, 6 figures, 3 tables, presented in the 73rd International Astronautical Congress*|\n",
       "|**Abstract**| Space systems miniaturization has been increasingly popular for the past decades, with over 1600 CubeSats and 300 sub-CubeSat sized spacecraft estimated to have been launched since 1998. This trend towards decreasing size enables the execution of unprecedented missions in terms of quantity, cost and development time, allowing for massively distributed satellite networks, and rapid prototyping of space equipment. Pocket-sized spacecraft can be designed in-house in less than a year and can reach weights of less than 10g, reducing the considerable effort typically associated with orbital flight. However, while Systems Engineering methodologies have been proposed for missions down to CubeSat size, there is still a gap regarding design approaches for picosatellites and smaller spacecraft, which can exploit their potential for iterative and accelerated development. In this paper, we propose a Systems Engineering methodology that abstains from the classic waterfall-like approach in favor of agile practices, focusing on available capabilities, delivery of features and design \"sprints\". Our method, originating from the software engineering disciplines, allows quick adaptation to imposed constraints, changes to requirements and unexpected events (e.g. chip shortages or delays), by making the design flexible to well-defined modifications. Two femtosatellite missions, currently under development and due to be launched in 2023, are used as case studies for our approach, showing how miniature spacecraft can be designed, developed and qualified from scratch in 6 months or less. We claim that the proposed method can simultaneously increase confidence in the design and decrease turnaround time for extremely small satellites, allowing unprecedented missions to take shape without the overhead traditionally associated with sending cutting-edge hardware to space. |\n",
       "|<p style=\"color:green\"> **ERROR** </p>| <p style=\"color:green\">affiliation error: mpia.affiliation_verifications: 'Heidelberg' keyword not found.</p> |"
      ],
      "text/plain": [
       "<IPython.core.display.Markdown object>"
      ]
     },
     "metadata": {},
     "output_type": "display_data"
    },
    {
     "data": {
      "text/markdown": [
       "\n",
       "|||\n",
       "|---:|:---|\n",
       "| [![arXiv](https://img.shields.io/badge/arXiv-arXiv:2210.10673-b31b1b.svg)](https://arxiv.org/abs/arXiv:2210.10673) | **Very High Energy Afterglow Emission of GRB~221009A: Lessons Learned from  the Brightest Long Gamma-ray Burst in a Wind Environment**  |\n",
       "|| Jia Ren, Yun Wang, <mark>Lu-Lu Zhang</mark> |\n",
       "|*Appeared on*| *2022-10-20*|\n",
       "|*Comments*| *11 pages, 5 figures, comments are welcome*|\n",
       "|**Abstract**| In this paper, we modeled the dynamics and radiation physics of the rarity event GRB 221009A afterglow in detail. Based on the analysis results of the {\\tt ASGARD} package we developed, the afterglow data of GRB 221009A strongly favors the origin of a relativistic jet propagating in a stellar-wind-dominated environment. Therefore, GRB 221009A is a typical lesson for the very high energy (VHE) afterglow of long gamma-ray burst in a wind environment. We also show the broadband spectral energy distribution (SED) analysis results of GRB 221009A, and find that the synchrotron self-Compton (SSC) radiation component of GRB 221009A is very bright in the $0.1-10$ TeV band. The integrated SED of $0-2000$ s after {\\em Fermi}/GBM trigger shows that the bright SSC component can be easily observed in TeV band, above the detection sensitivity of LHASSO, MAGIC and CTA. We predict that the SSC radiation peak flux of GRB 221009A in the first 2000 second integral SED is $\\sim 10^{-7}~\\rm erg~cm^{-2}~s^{-1}$, with a peak energy close to 300 GeV. Furthermore, we find that the inclusion of GeV observations could break the degeneracy between model parameters, highlighting the significance of high-energy observations in determining accurate parameters for GRB afterglows. |\n",
       "|<p style=\"color:green\"> **ERROR** </p>| <p style=\"color:green\">affiliation error: mpia.affiliation_verifications: 'Heidelberg' keyword not found.</p> |"
      ],
      "text/plain": [
       "<IPython.core.display.Markdown object>"
      ]
     },
     "metadata": {},
     "output_type": "display_data"
    },
    {
     "data": {
      "text/markdown": [
       "\n",
       "|||\n",
       "|---:|:---|\n",
       "| [![arXiv](https://img.shields.io/badge/arXiv-arXiv:2210.10675-b31b1b.svg)](https://arxiv.org/abs/arXiv:2210.10675) | **A search for kilonova radio flares in a sample of Swift/BAT short GRBs**  |\n",
       "|| A. Eddins, et al. -- incl., <mark>K.H. Lee</mark> |\n",
       "|*Appeared on*| *2022-10-20*|\n",
       "|*Comments*| *11 pages, submitted to AAS journal*|\n",
       "|**Abstract**| The multi-messenger detection of GW170817 showed that binary neutron star (BNS) mergers are progenitors of (at least some) short gamma-ray bursts (GRBs), and that short GRB jets (and their afterglows) can have structures (and observational properties) more complex than predicted by the standard top-hat jet scenario. Indeed, the emission from the structured jet launched in GW170817 peaked in the radio band (cm wavelengths) at about 100 d since merger - a timescale much longer than the typical time span of radio follow-up observations of short GRBs. Moreover, radio searches for a potential late-time radio flare from the fast tail of the neutron-rich debris that powered the kilonova associated with GW170817 (AT2017gfo) have extended to even longer timescales (years after the merger). In light of this, here we present the results of an observational campaign targeting a sample of seven, years-old GRBs in the Swift/BAT sample with no redshift measurements and no promptly-identified X-ray counterpart. Our goal is to assess whether this sample of short GRBs could harbor nearby BNS mergers, searching for the late-time radio emission expected from their ejecta. We found one radio candidate counterpart for one of the GRBs in our sample, GRB111126A, though an origin related to emission from star formation or from an AGN in its host galaxy cannot be excluded without further observations. |\n",
       "|<p style=\"color:green\"> **ERROR** </p>| <p style=\"color:green\">affiliation error: mpia.affiliation_verifications: 'Heidelberg' keyword not found.</p> |"
      ],
      "text/plain": [
       "<IPython.core.display.Markdown object>"
      ]
     },
     "metadata": {},
     "output_type": "display_data"
    },
    {
     "data": {
      "text/markdown": [
       "\n",
       "|||\n",
       "|---:|:---|\n",
       "| [![arXiv](https://img.shields.io/badge/arXiv-arXiv:2210.10699-b31b1b.svg)](https://arxiv.org/abs/arXiv:2210.10699) | **Hubble WFC3 Spectroscopy of the Rocky Planet L 98-59 b: No Evidence for  a Cloud-Free Primordial Atmosphere**  |\n",
       "|| <mark>Li Zhou</mark>, Bo Ma, Yonghao Wang, Yinan Zhu |\n",
       "|*Appeared on*| *2022-10-20*|\n",
       "|*Comments*| *15 pages, 11 figures, 6 tables, accepted for publication in AJ*|\n",
       "|**Abstract**| We are using archived data from HST of transiting exoplanet L~98-59~b to place constraints on its potentially hot atmosphere. We analyze the data from five transit visits and extract the final combined transmission spectrum using Iraclis. Then we use the inverse atmospheric retrieval code TauREx to analyze the combined transmission spectrum. There is a weak absorption feature near 1.40~$\\mu m$ and 1.55~$\\mu m$ in the transmission spectrum, which can be modeled by a cloudy atmosphere with abundant HCN. However, the unrealistically high abundance of HCN derived cannot be explained by any equilibrium chemical model with reasonable assumptions. Thus, the likeliest scenario is that L~98-59~b has a flat, featureless transmission spectrum in the WFC3/G141 bandpass due to a thin atmosphere with high mean molecular weight, an atmosphere with an opaque aerosol layer, or no atmosphere, and it is very unlikely for L~98-59~b to have a clear hydrogen-dominated primary atmosphere. Due to the narrow wavelength coverage and low spectral resolution of HST/WFC3 G141 grism observation, we cannot tell these different scenarios apart. Our simulation shows future higher precision measurements over wider wavelengths from the James Webb Space Telescope (JWST) can be used to better characterize the planetary atmosphere of L~98-59~b. |\n",
       "|<p style=\"color:green\"> **ERROR** </p>| <p style=\"color:green\">affiliation error: mpia.affiliation_verifications: 'Heidelberg' keyword not found.</p> |"
      ],
      "text/plain": [
       "<IPython.core.display.Markdown object>"
      ]
     },
     "metadata": {},
     "output_type": "display_data"
    },
    {
     "data": {
      "text/markdown": [
       "\n",
       "|||\n",
       "|---:|:---|\n",
       "| [![arXiv](https://img.shields.io/badge/arXiv-arXiv:2210.10736-b31b1b.svg)](https://arxiv.org/abs/arXiv:2210.10736) | **Reconnection-Driven Energy Cascade in Magnetohydrodynamic Turbulence**  |\n",
       "|| Chuanfei Dong, et al. -- incl., <mark>Liang Wang</mark> |\n",
       "|*Appeared on*| *2022-10-20*|\n",
       "|*Comments*| *32 pages, 8 figures, the world's largest 3D MHD turbulence simulation using a fifth-order scheme*|\n",
       "|**Abstract**| Magnetohydrodynamic turbulence regulates the transfer of energy from large to small scales in many astrophysical systems, including the solar atmosphere. We perform three-dimensional magnetohydrodynamic simulations with unprecedentedly large magnetic Reynolds number to reveal how rapid reconnection of magnetic field lines changes the classical paradigm of the turbulent energy cascade. By breaking elongated current sheets into chains of small magnetic flux ropes (or plasmoids), magnetic reconnection leads to a new range of turbulent energy cascade, where the rate of energy transfer is controlled by the growth rate of the plasmoids. As a consequence, the turbulent energy spectra steepen and attain a spectral index of -2.2 that is accompanied by changes in the anisotropy of turbulence eddies. The omnipresence of plasmoids and their consequences on, e.g., solar coronal heating, can be further explored with current and future spacecraft and telescopes. |\n",
       "|<p style=\"color:green\"> **ERROR** </p>| <p style=\"color:green\">affiliation error: mpia.affiliation_verifications: 'Heidelberg' keyword not found.</p> |"
      ],
      "text/plain": [
       "<IPython.core.display.Markdown object>"
      ]
     },
     "metadata": {},
     "output_type": "display_data"
    },
    {
     "data": {
      "text/markdown": [
       "\n",
       "|||\n",
       "|---:|:---|\n",
       "| [![arXiv](https://img.shields.io/badge/arXiv-arXiv:2210.10102-b31b1b.svg)](https://arxiv.org/abs/arXiv:2210.10102) | **Why is zero spatial curvature special?**  |\n",
       "|| Raul Jimenez, et al. -- incl., <mark>Daniel F. Litim</mark> |\n",
       "|*Appeared on*| *2022-10-20*|\n",
       "|*Comments*| **|\n",
       "|**Abstract**| Evidence for almost spatial flatness of the Universe has been provided from several observational probes, including the Cosmic Microwave Background (CMB) and Baryon Acoustic Oscillations (BAO) from galaxy clustering data. However, other than inflation, and in this case only in the limit of infinite time, there is no strong a priori motivation for a spatially flat Universe. Using the renormalization group (RG) technique in curved spacetime, we present in this work a theoretical motivation for spatial flatness. Starting from a general spacetime, the first step of the RG, coarse-graining, gives a Friedmann-Lema\\^itre-Robertson-Walker (FLRW) metric with a set of parameters. Then, we study the rescaling properties of the curvature parameter, and find that zero spatial curvature of the FLRW metric is singled out as the unique scale-free, non-singular background for cosmological perturbations. |\n",
       "|<p style=\"color:red\"> **ERROR** </p>| <p style=\"color:red\">latex error invalid header</p> |"
      ],
      "text/plain": [
       "<IPython.core.display.Markdown object>"
      ]
     },
     "metadata": {},
     "output_type": "display_data"
    },
    {
     "data": {
      "text/markdown": [
       "\n",
       "|||\n",
       "|---:|:---|\n",
       "| [![arXiv](https://img.shields.io/badge/arXiv-arXiv:2210.10112-b31b1b.svg)](https://arxiv.org/abs/arXiv:2210.10112) | **Euclid Near Infrared Spectrometer and Photometer instrument flight model  presentation, performance and ground calibration results summary**  |\n",
       "|| T. Maciaszek, et al. -- incl., <mark>K. Jahnke</mark>, <mark>E. Franceschi</mark>, <mark>S. Ligori</mark> |\n",
       "|*Appeared on*| *2022-10-20*|\n",
       "|*Comments*| *18 pages, to appear in Proceedings of the SPIE*|\n",
       "|**Abstract**| The NISP (Near Infrared Spectrometer and Photometer) is one of the two Euclid instruments. It operates in the near-IR spectral region (950-2020nm) as a photometer and spectrometer. The instrument is composed of: a cold (135 K) optomechanical subsystem consisting of a Silicon carbide structure, an optical assembly, a filter wheel mechanism, a grism wheel mechanism, a calibration unit, and a thermal control system, a detection system based on a mosaic of 16 H2RG with their front-end readout electronic, and a warm electronic system (290 K) composed of a data processing / detector control unit and of an instrument control unit that interfaces with the spacecraft via a 1553 bus for command and control and via Spacewire links for science data. This paper presents: the final architecture of the flight model instrument and subsystems, and the performance and the ground calibration measurement done at NISP level and at Euclid Payload Module level at operational cold temperature. |\n",
       "|<p style=\"color:red\"> **ERROR** </p>| <p style=\"color:red\">latex error not a gzip file</p> |"
      ],
      "text/plain": [
       "<IPython.core.display.Markdown object>"
      ]
     },
     "metadata": {},
     "output_type": "display_data"
    },
    {
     "data": {
      "text/markdown": [
       "\n",
       "|||\n",
       "|---:|:---|\n",
       "| [![arXiv](https://img.shields.io/badge/arXiv-arXiv:2210.10402-b31b1b.svg)](https://arxiv.org/abs/arXiv:2210.10402) | **Solar Ring Mission: Building a Panorama of the Sun and Inner-heliosphere**  |\n",
       "|| Yuming Wang, et al. -- incl., <mark>Linjie Chen</mark>, <mark>Linhua Deng</mark>, <mark>Li Feng</mark>, <mark>Jingnan Guo</mark>, <mark>Yang Guo</mark>, <mark>Jiansen He</mark>, <mark>Xiaolei Li</mark>, <mark>Yiren Li</mark>, <mark>Jiajia Liu</mark>, <mark>Kai Liu</mark>, <mark>Liu Liu</mark>, <mark>Rui Liu</mark>, <mark>Rui Liu</mark>, <mark>Lidong Xia</mark>, <mark>Jinglan Xie</mark>, <mark>Shenyi Zhang</mark>, <mark>Quanhao Zhang</mark>, <mark>Yonghe Zhang</mark>, <mark>Jinsong Zhao</mark> |\n",
       "|*Appeared on*| *2022-10-20*|\n",
       "|*Comments*| *41 pages, 6 figures, 1 table, to be published in Advances in Space Research*|\n",
       "|**Abstract**| Solar Ring (SOR) is a proposed space science mission to monitor and study the Sun and inner heliosphere from a full 360{\\deg} perspective in the ecliptic plane. It will deploy three 120{\\deg}-separated spacecraft on the 1-AU orbit. The first spacecraft, S1, locates 30{\\deg} upstream of the Earth, the second, S2, 90{\\deg} downstream, and the third, S3, completes the configuration. This design with necessary science instruments, e.g., the Doppler-velocity and vector magnetic field imager, wide-angle coronagraph, and in-situ instruments, will allow us to establish many unprecedented capabilities: (1) provide simultaneous Doppler-velocity observations of the whole solar surface to understand the deep interior, (2) provide vector magnetograms of the whole photosphere - the inner boundary of the solar atmosphere and heliosphere, (3) provide the information of the whole lifetime evolution of solar featured structures, and (4) provide the whole view of solar transients and space weather in the inner heliosphere. With these capabilities, Solar Ring mission aims to address outstanding questions about the origin of solar cycle, the origin of solar eruptions and the origin of extreme space weather events. The successful accomplishment of the mission will construct a panorama of the Sun and inner-heliosphere, and therefore advance our understanding of the star and the space environment that holds our life. |\n",
       "|<p style=\"color:red\"> **ERROR** </p>| <p style=\"color:red\">latex error not a gzip file</p> |"
      ],
      "text/plain": [
       "<IPython.core.display.Markdown object>"
      ]
     },
     "metadata": {},
     "output_type": "display_data"
    }
   ],
   "source": [
    "import datetime\n",
    "today = str(datetime.date.today())\n",
    "logfile = f\"_build/html/logs/log-{today}.md\"\n",
    "\n",
    "\n",
    "with open(logfile, 'w') as logs:\n",
    "    # Success\n",
    "    logs.write(f'# Arxiv on Deck 2: Logs - {today}\\n\\n')\n",
    "    logs.write(\"\"\"* Arxiv had {0:,d} new papers\\n\"\"\".format(len(new_papers)))\n",
    "    logs.write(\"\"\"    * {0:,d} with possible author matches\\n\\n\"\"\".format(len(candidates)))\n",
    "    logs.write(\"## Sucessful papers\\n\\n\")\n",
    "    display(Markdown(\"## Successful papers\"))\n",
    "    success = [k[0] for k in documents]\n",
    "    for candid in candidates:\n",
    "        if candid['identifier'].split(':')[-1] in success:\n",
    "            display(candid)\n",
    "            logs.write(candid.generate_markdown_text() + '\\n\\n')\n",
    "\n",
    "    ## failed\n",
    "    logs.write(\"## Failed papers\\n\\n\")\n",
    "    display(Markdown(\"## Failed papers\"))\n",
    "    failed = sorted(failed, key=lambda x: x[1])\n",
    "    current_reason = \"\"\n",
    "    for paper, reason in failed:\n",
    "        if 'affiliation' in reason:\n",
    "            color = 'green'\n",
    "        else:\n",
    "            color = 'red'\n",
    "        data = Markdown(\n",
    "                paper.generate_markdown_text() + \n",
    "                f'\\n|<p style=\"color:{color:s}\"> **ERROR** </p>| <p style=\"color:{color:s}\">{reason:s}</p> |'\n",
    "               )\n",
    "        if reason != current_reason:\n",
    "            logs.write(f'### {reason:s} \\n\\n')\n",
    "            current_reason = reason\n",
    "        logs.write(data.data + '\\n\\n')\n",
    "        \n",
    "        # only display here the important errors (all in logs)\n",
    "        # if color in ('red',):\n",
    "        display(data)"
   ]
  },
  {
   "cell_type": "markdown",
   "id": "472d20ee",
   "metadata": {
    "papermill": {
     "duration": 0.010768,
     "end_time": "2022-10-20T04:54:44.458131",
     "exception": false,
     "start_time": "2022-10-20T04:54:44.447363",
     "status": "completed"
    },
    "tags": []
   },
   "source": [
    "## Export documents\n",
    "\n",
    "We now write the .md files and export relevant images"
   ]
  },
  {
   "cell_type": "code",
   "execution_count": 7,
   "id": "d426aed9",
   "metadata": {
    "execution": {
     "iopub.execute_input": "2022-10-20T04:54:44.481277Z",
     "iopub.status.busy": "2022-10-20T04:54:44.480758Z",
     "iopub.status.idle": "2022-10-20T04:54:44.488759Z",
     "shell.execute_reply": "2022-10-20T04:54:44.488075Z"
    },
    "papermill": {
     "duration": 0.021448,
     "end_time": "2022-10-20T04:54:44.490333",
     "exception": false,
     "start_time": "2022-10-20T04:54:44.468885",
     "status": "completed"
    },
    "tags": []
   },
   "outputs": [],
   "source": [
    "def export_markdown_summary(md: str, md_fname:str, directory: str):\n",
    "    \"\"\"Export MD document and associated relevant images\"\"\"\n",
    "    import os\n",
    "    import shutil\n",
    "    import re\n",
    "\n",
    "    if (os.path.exists(directory) and not os.path.isdir(directory)):\n",
    "        raise RuntimeError(f\"a non-directory file exists with name {directory:s}\")\n",
    "\n",
    "    if (not os.path.exists(directory)):\n",
    "        print(f\"creating directory {directory:s}\")\n",
    "        os.mkdir(directory)\n",
    "\n",
    "    fig_fnames = (re.compile(r'\\[Fig.*\\]\\((.*)\\)').findall(md) + \n",
    "                  re.compile(r'\\<img src=\"([^>\\s]*)\"[^>]*/>').findall(md))\n",
    "    for fname in fig_fnames:\n",
    "        if 'http' in fname:\n",
    "            # No need to copy online figures\n",
    "            continue\n",
    "        destdir = os.path.join(directory, os.path.dirname(fname))\n",
    "        destfname = os.path.join(destdir, os.path.basename(fname))\n",
    "        try:\n",
    "            os.makedirs(destdir)\n",
    "        except FileExistsError:\n",
    "            pass\n",
    "        shutil.copy(fname, destfname)\n",
    "    with open(os.path.join(directory, md_fname), 'w') as fout:\n",
    "        fout.write(md)\n",
    "    print(\"exported in \", os.path.join(directory, md_fname))\n",
    "    [print(\"    + \" + os.path.join(directory,fk)) for fk in fig_fnames]"
   ]
  },
  {
   "cell_type": "code",
   "execution_count": 8,
   "id": "014d04a4",
   "metadata": {
    "execution": {
     "iopub.execute_input": "2022-10-20T04:54:44.513970Z",
     "iopub.status.busy": "2022-10-20T04:54:44.513519Z",
     "iopub.status.idle": "2022-10-20T04:54:44.520590Z",
     "shell.execute_reply": "2022-10-20T04:54:44.519963Z"
    },
    "papermill": {
     "duration": 0.020369,
     "end_time": "2022-10-20T04:54:44.522109",
     "exception": false,
     "start_time": "2022-10-20T04:54:44.501740",
     "status": "completed"
    },
    "tags": []
   },
   "outputs": [
    {
     "name": "stdout",
     "output_type": "stream",
     "text": [
      "exported in  _build/html/2210.10707.md\n",
      "    + _build/html/tmp_2210.10707/./HyperLEDA-X-B-che.jpg\n",
      "    + _build/html/tmp_2210.10707/./RA-Dec.png\n",
      "    + _build/html/tmp_2210.10707/./Angular_separation.png\n"
     ]
    }
   ],
   "source": [
    "for paper_id, md in documents:\n",
    "    export_markdown_summary(md, f\"{paper_id:s}.md\", '_build/html/')"
   ]
  },
  {
   "cell_type": "markdown",
   "id": "f087a0a7",
   "metadata": {
    "papermill": {
     "duration": 0.010902,
     "end_time": "2022-10-20T04:54:44.543929",
     "exception": false,
     "start_time": "2022-10-20T04:54:44.533027",
     "status": "completed"
    },
    "tags": []
   },
   "source": [
    "## Display the papers\n",
    "\n",
    "Not necessary but allows for a quick check."
   ]
  },
  {
   "cell_type": "code",
   "execution_count": 9,
   "id": "fd25f625",
   "metadata": {
    "execution": {
     "iopub.execute_input": "2022-10-20T04:54:44.567183Z",
     "iopub.status.busy": "2022-10-20T04:54:44.566589Z",
     "iopub.status.idle": "2022-10-20T04:54:44.571691Z",
     "shell.execute_reply": "2022-10-20T04:54:44.571040Z"
    },
    "papermill": {
     "duration": 0.018421,
     "end_time": "2022-10-20T04:54:44.573186",
     "exception": false,
     "start_time": "2022-10-20T04:54:44.554765",
     "status": "completed"
    },
    "scrolled": false,
    "tags": []
   },
   "outputs": [
    {
     "data": {
      "text/markdown": [
       "<div class=\"macros\" style=\"visibility:hidden;\">\n",
       "$\\newcommand{\\ensuremath}{}$\n",
       "$\\newcommand{\\xspace}{}$\n",
       "$\\newcommand{\\object}[1]{\\texttt{#1}}$\n",
       "$\\newcommand{\\farcs}{{.}''}$\n",
       "$\\newcommand{\\farcm}{{.}'}$\n",
       "$\\newcommand{\\arcsec}{''}$\n",
       "$\\newcommand{\\arcmin}{'}$\n",
       "$\\newcommand{\\ion}[2]{#1#2}$\n",
       "$\\newcommand{\\textsc}[1]{\\textrm{#1}}$\n",
       "$\\newcommand{\\hl}[1]{\\textrm{#1}}$</div>\n",
       "\n",
       "<div class=\"macros\" style=\"visibility:hidden;\">\n",
       "$\\newcommand{$\\ensuremath$}{}$\n",
       "$\\newcommand{$\\xspace$}{}$\n",
       "$\\newcommand{$\\object$}[1]{\\texttt{#1}}$\n",
       "$\\newcommand{$\\farcs$}{{.}''}$\n",
       "$\\newcommand{$\\farcm$}{{.}'}$\n",
       "$\\newcommand{$\\arcsec$}{''}$\n",
       "$\\newcommand{$\\arcmin$}{'}$\n",
       "$\\newcommand{$\\ion$}[2]{#1#2}$\n",
       "$\\newcommand{$\\textsc$}[1]{\\textrm{#1}}$\n",
       "$\\newcommand{$\\hl$}[1]{\\textrm{#1}}$</div>\n",
       "\n",
       "\n",
       "\n",
       "<div id=\"title\">\n",
       "\n",
       "# X-ray galaxies selected from HyperLEDA database\n",
       "\n",
       "</div>\n",
       "<div id=\"comments\">\n",
       "\n",
       "[![arXiv](https://img.shields.io/badge/arXiv-2210.10707-b31b1b.svg)](https://arxiv.org/abs/2210.10707)<mark>Appeared on: 2022-10-20</mark> - _11 pages and 5 figures_\n",
       "\n",
       "</div>\n",
       "<div id=\"authors\">\n",
       "\n",
       "<mark><mark>N. Pulatova</mark></mark>, et al. -- incl., <mark><mark>R. Seeburger</mark></mark>\n",
       "\n",
       "</div>\n",
       "<div id=\"abstract\">\n",
       "\n",
       "**Abstract:** We cross-matched the 4XMM-DR10 catalog with the HyperLEDA database and obtained the new sample of galaxies that contain X-ray sources. Excluding duplicate observations and false matches, we present a total of 7759 galaxies with X-ray sources. In the current work, we present general properties of the sample: namely the distribution in equatorial coordinates, radial velocity distribution, morphological type, and X-ray fluxes. The sample includes morphological classification for 5241 galaxies with X-ray emission, almost half of which, 42\\%, are elliptical (E, E-S0). Most galaxies in the sample have nuclear X-ray emission (6313 or 81\\%), and the remaining 1443 (19\\%) present X-ray emission from the host galaxy. This sample can be used for future deep studies of multi wavelengths properties of the galaxies with X-ray emission.\\\\[1ex]{\\bf Key words:}X-rays: galaxies, catalogues, galaxies: statistics\n",
       "\n",
       "</div>\n",
       "\n",
       "<div id=\"div_fig1\">\n",
       "\n",
       "<img src=\"tmp_2210.10707/./HyperLEDA-X-B-che.jpg\" alt=\"Fig4\" width=\"100%\"/>\n",
       "\n",
       "**Figure 4. -** Optical B magnitude and X-ray flux. The three regions marked with the numbers 1-3 corresponds to: 1 - brightest galaxies with low redshift; 2 - the limit of  XMM sensitivity; 3- the gap between two populations of active galaxies. (*fig4*)\n",
       "\n",
       "</div>\n",
       "<div id=\"div_fig2\">\n",
       "\n",
       "<img src=\"tmp_2210.10707/./RA-Dec.png\" alt=\"Fig1\" width=\"100%\"/>\n",
       "\n",
       "**Figure 1. -** Distribution in equatorial coordinates (*fig1*)\n",
       "\n",
       "</div>\n",
       "<div id=\"div_fig3\">\n",
       "\n",
       "<img src=\"tmp_2210.10707/./Angular_separation.png\" alt=\"Fig2\" width=\"100%\"/>\n",
       "\n",
       "**Figure 2. -** The angular separation between the position of objects\n",
       "in HyperLEDA and XMM-Newton catalogues, in $arcsec (\")$. (*fig2*)\n",
       "\n",
       "</div>"
      ],
      "text/plain": [
       "<IPython.core.display.Markdown object>"
      ]
     },
     "metadata": {},
     "output_type": "display_data"
    }
   ],
   "source": [
    "[display(Markdown(k[1])) for k in documents];"
   ]
  },
  {
   "cell_type": "markdown",
   "id": "873873a4",
   "metadata": {
    "papermill": {
     "duration": 0.011132,
     "end_time": "2022-10-20T04:54:44.595415",
     "exception": false,
     "start_time": "2022-10-20T04:54:44.584283",
     "status": "completed"
    },
    "tags": []
   },
   "source": [
    "# Create HTML index"
   ]
  },
  {
   "cell_type": "code",
   "execution_count": 10,
   "id": "cf665672",
   "metadata": {
    "execution": {
     "iopub.execute_input": "2022-10-20T04:54:44.619307Z",
     "iopub.status.busy": "2022-10-20T04:54:44.618784Z",
     "iopub.status.idle": "2022-10-20T04:54:44.627649Z",
     "shell.execute_reply": "2022-10-20T04:54:44.626935Z"
    },
    "papermill": {
     "duration": 0.022623,
     "end_time": "2022-10-20T04:54:44.629147",
     "exception": false,
     "start_time": "2022-10-20T04:54:44.606524",
     "status": "completed"
    },
    "tags": []
   },
   "outputs": [
    {
     "name": "stdout",
     "output_type": "stream",
     "text": [
      "69  publications in the last 7 days.\n",
      "\t _build/html/2210.10707.md\n",
      "\t _build/html/2210.09930.md\n",
      "\t _build/html/2210.08996.md\n",
      "\t _build/html/2210.08517.md\n",
      "\t _build/html/2210.08510.md\n",
      "\t _build/html/2210.08078.md\n",
      "\t _build/html/2210.06504.md\n",
      "\t _build/html/2210.05695.md\n",
      "\t _build/html/2210.05595.md\n",
      "\t _build/html/2210.05505.md\n",
      "\t _build/html/2210.04721.md\n",
      "\t _build/html/2210.03615.md\n",
      "\t _build/html/2210.01811.md\n",
      "\t _build/html/2210.01809.md\n",
      "\t _build/html/2210.01556.md\n",
      "\t _build/html/2210.00863.md\n",
      "\t _build/html/2210.00560.md\n",
      "\t _build/html/2209.15403.md\n",
      "\t _build/html/2209.15110.md\n",
      "\t _build/html/2209.14410.md\n",
      "\t _build/html/2209.14396.md\n",
      "\t _build/html/2209.13717.md\n",
      "\t _build/html/2209.13336.md\n",
      "\t _build/html/2209.12906.md\n",
      "\t _build/html/2209.11781.md\n",
      "\t _build/html/2209.11602.md\n",
      "\t _build/html/2209.11248.md\n",
      "\t _build/html/2209.11096.md\n",
      "\t _build/html/2209.10618.md\n",
      "\t _build/html/2209.09914.md\n",
      "\t _build/html/2209.09823.md\n",
      "\t _build/html/2209.08242.md\n",
      "\t _build/html/2209.08120.md\n",
      "\t _build/html/2209.08106.md\n",
      "\t _build/html/2209.07962.md\n",
      "\t _build/html/2209.07931.md\n",
      "\t _build/html/2209.06833.md\n",
      "\t _build/html/2209.05814.md\n",
      "\t _build/html/2209.05593.md\n",
      "\t _build/html/2209.04304.md\n",
      "\t _build/html/2209.03367.md\n",
      "\t _build/html/2209.02872.md\n",
      "\t _build/html/2209.02725.md\n",
      "\t _build/html/2209.02722.md\n",
      "\t _build/html/2209.02092.md\n",
      "\t _build/html/2209.01125.md\n",
      "\t _build/html/2209.00828.md\n",
      "\t _build/html/2209.00363.md\n",
      "\t _build/html/2208.14927.md\n",
      "\t _build/html/2208.09335.md\n",
      "\t _build/html/2208.08872.md\n",
      "\t _build/html/2204.06393.md\n",
      "\t _build/html/2204.03335.md\n",
      "\t _build/html/2204.03253.md\n",
      "\t _build/html/2204.02998.md\n",
      "\t _build/html/2204.02109.md\n",
      "\t _build/html/2204.02017.md\n",
      "\t _build/html/2204.01824.md\n",
      "\t _build/html/2204.01758.md\n",
      "\t _build/html/2204.01245.md\n",
      "\t _build/html/2204.00793.md\n",
      "\t _build/html/2204.00342.md\n",
      "\t _build/html/2203.16959.md\n",
      "\t _build/html/2203.16856.md\n",
      "\t _build/html/2203.16735.md\n",
      "\t _build/html/2203.16734.md\n",
      "\t _build/html/2203.16504.md\n",
      "\t _build/html/2203.15822.md\n",
      "\t _build/html/2203.15811.md\n"
     ]
    }
   ],
   "source": [
    "from datetime import datetime, timedelta, timezone\n",
    "from glob import glob\n",
    "\n",
    "files = glob('_build/html/*.md')\n",
    "days = 7\n",
    "now = datetime.today()\n",
    "res = []\n",
    "for fk in files:\n",
    "    stat_result = os.stat(fk).st_ctime\n",
    "    modified = datetime.fromtimestamp(stat_result, tz=timezone.utc).replace(tzinfo=None)\n",
    "    delta = now.today() - modified\n",
    "    if delta <= timedelta(days=days):\n",
    "        res.append((delta.seconds, fk))\n",
    "res = [k[1] for k in reversed(sorted(res, key=lambda x:x[1]))]\n",
    "npub = len(res)\n",
    "print(len(res), f\" publications in the last {days:d} days.\")\n",
    "[ print('\\t', k) for k in res ];"
   ]
  },
  {
   "cell_type": "code",
   "execution_count": 11,
   "id": "52ca0208",
   "metadata": {
    "execution": {
     "iopub.execute_input": "2022-10-20T04:54:44.653024Z",
     "iopub.status.busy": "2022-10-20T04:54:44.652441Z",
     "iopub.status.idle": "2022-10-20T04:54:44.659046Z",
     "shell.execute_reply": "2022-10-20T04:54:44.658371Z"
    },
    "papermill": {
     "duration": 0.020349,
     "end_time": "2022-10-20T04:54:44.660642",
     "exception": false,
     "start_time": "2022-10-20T04:54:44.640293",
     "status": "completed"
    },
    "scrolled": false,
    "tags": []
   },
   "outputs": [],
   "source": [
    "def create_carousel(npub=4):\n",
    "    \"\"\" Generate the HTML code for a carousel with `npub` slides \"\"\"\n",
    "    carousel = [\"\"\"<section class=\"carousel\" aria-label=\"Gallery\">\"\"\",\n",
    "                \"\"\"  <ol class=\"carousel__viewport\">\"\"\",\n",
    "    ]\n",
    "    for k in range(1, npub + 1):\n",
    "        prev_ = k - 1\n",
    "        next_ = k + 1\n",
    "        if prev_ <= 0:\n",
    "            prev_ = npub\n",
    "        if next_ > npub:\n",
    "            next_ = 1\n",
    "        text  = f\"\"\"    <li id=\"carousel__slide{k}\" tabindex=\"0\" class=\"carousel__slide\">\\n\"\"\"\n",
    "        text += f\"\"\"       <div class=\"carousel__snapper\">\\n\"\"\"\n",
    "        text += f\"\"\"         <a href=\"#carousel__slide{prev_}\" class=\"carousel__prev\">Go to previous slide</a>\\n\"\"\"\n",
    "        text += f\"\"\"         <a href=\"#carousel__slide{next_}\" class=\"carousel__next\">Go to next slide</a>\\n\"\"\"\n",
    "        text += f\"\"\"         <div id=\"slide{k}_content\" class=\"md_view\" >Content {k}</div>\\n\"\"\"\n",
    "        text += f\"\"\"       </div>\\n\"\"\"\n",
    "        text += f\"\"\"    </li>\"\"\"\n",
    "        carousel.append(text)\n",
    "\n",
    "    carousel.extend([\n",
    "        \"\"\"  </ol>\"\"\",\n",
    "        \"\"\"  <aside class=\"carousel__navigation\">\"\"\",\n",
    "        \"\"\"    <ol class=\"carousel__navigation-list\">\"\"\"])\n",
    "\n",
    "    for k in range(1, npub + 1):\n",
    "        text  = f\"\"\"      <li class=\"carousel__navigation-item\">\\n\"\"\"\n",
    "        text += f\"\"\"        <a href=\"#carousel__slide{k}\" class=\"carousel__navigation-button\">Go to {k}</a>\\n\"\"\"\n",
    "        text += f\"\"\"      </li>\"\"\"\n",
    "        carousel.append(text)\n",
    "    carousel.extend([\"\"\"    </ol>\"\"\", \"\"\"  </aside>\"\"\", \"\"\"</section>\"\"\"])\n",
    "\n",
    "    return '\\n'.join(carousel)"
   ]
  },
  {
   "cell_type": "code",
   "execution_count": 12,
   "id": "a6eac5b6",
   "metadata": {
    "execution": {
     "iopub.execute_input": "2022-10-20T04:54:44.720630Z",
     "iopub.status.busy": "2022-10-20T04:54:44.720014Z",
     "iopub.status.idle": "2022-10-20T04:54:44.727208Z",
     "shell.execute_reply": "2022-10-20T04:54:44.726451Z"
    },
    "papermill": {
     "duration": 0.056586,
     "end_time": "2022-10-20T04:54:44.728906",
     "exception": false,
     "start_time": "2022-10-20T04:54:44.672320",
     "status": "completed"
    },
    "scrolled": false,
    "tags": []
   },
   "outputs": [],
   "source": [
    "carousel = create_carousel(npub)\n",
    "docs = ', '.join(['\"{0:s}\"'.format(k.split('/')[-1]) for k in res])\n",
    "slides = ', '.join([f'\"slide{k}_content\"' for k in range(1, npub + 1)])\n",
    "\n",
    "script = f\"\"\"\n",
    "const docs = [{docs}]\n",
    "\n",
    "const slides = [{slides}]\n",
    "\"\"\" + \"\"\"\n",
    "async function run() {\n",
    "    for (let i = 0; i < docs.length; i++) {\n",
    "        let file = await fetch(docs[i]);\n",
    "        let text = await file.text()\n",
    "        document.getElementById(slides[i]).innerHTML =\n",
    "            marked.parse(text);\n",
    "    }\n",
    "    hljs.highlightAll();\n",
    "}\n",
    "run()\n",
    "\"\"\"\n",
    "\n",
    "page = f\"\"\"<!doctype html>\n",
    "<html lang=\"en\">\n",
    "\n",
    "<head>\n",
    "  <meta charset=\"utf-8\">\n",
    "  <meta name=\"viewport\" content=\"width=device-width, initial-scale=1\">\n",
    "  <!-- Bootstrap CSS -->\n",
    "  <link href=\"https://cdn.jsdelivr.net/npm/bootstrap@5.0.2/dist/css/bootstrap.min.css\" rel=\"stylesheet\"\n",
    "   integrity=\"sha384-EVSTQN3/azprG1Anm3QDgpJLIm9Nao0Yz1ztcQTwFspd3yD65VohhpuuCOmLASjC\" crossorigin=\"anonymous\">\n",
    "  <!-- highlight.js CSS -->\n",
    "  <link rel=\"stylesheet\" href=\"https://cdnjs.cloudflare.com/ajax/libs/highlight.js/11.1.0/styles/default.min.css\">\n",
    "  <!-- Mathjax 3 -->\n",
    "  <script type=\"text/javascript\" id=\"MathJax-config\" src=\"mathjax_config.js\"> </script>\n",
    "  <script type=\"text/javascript\" id=\"MathJax-script\" async \n",
    "    src=\"https://cdn.jsdelivr.net/npm/mathjax@3/es5/tex-mml-chtml.js\">\n",
    "  </script>\n",
    "  <link rel=\"stylesheet\" href=\"index_carousel.css\">\n",
    "  <link rel=\"icon\" type=\"image/x-icon\" href=\"https://www.mpia.de/assets/touch-icon-32x32-a66937bcebc4e8894ebff1f41a366c7c7220fd97a38869ee0f2db65a9f59b6c1.png\">\n",
    "  <title>MPIA Arxiv on deck!</title>\n",
    "</head>\n",
    "\n",
    "<body>\n",
    "  <div id=\"header\"> <img src=\"header_banner.png\" width=\"100%\"></div>\n",
    "  <div id=\"suptitle\"> 7-day archives </div>\n",
    "  <div id=\"info\">\n",
    "    <img src=\"https://pngimg.com/uploads/github/github_PNG58.png\" height=30rem></img>\n",
    "    <a href=https://github.com/mpi-astronomy/arxiv_display style=\"color:black;\">github/mpi-astronomy/arxiv_display</a> \n",
    "  </div>\n",
    "  {carousel:s}\n",
    "</body>\n",
    "\n",
    "<!-- Render Markdown -->\n",
    "\n",
    "<body>\n",
    "  <!-- highlight.js: https://highlightjs.org/download/ -->\n",
    "  <script src=\"https://cdnjs.cloudflare.com/ajax/libs/highlight.js/11.5.0/highlight.min.js\"></script>\n",
    "  <!-- marked.js -->\n",
    "  <script src=\"https://cdn.jsdelivr.net/npm/marked/marked.min.js\"></script>\n",
    "  <script>{script:s}</script>\n",
    "</body>\n",
    "</html>\n",
    "\"\"\"\n",
    "with open(\"_build/html/index_7days.html\", 'w') as fout:\n",
    "    fout.write(page)"
   ]
  },
  {
   "cell_type": "markdown",
   "id": "1cebacbc",
   "metadata": {
    "papermill": {
     "duration": 0.011265,
     "end_time": "2022-10-20T04:54:44.751640",
     "exception": false,
     "start_time": "2022-10-20T04:54:44.740375",
     "status": "completed"
    },
    "tags": []
   },
   "source": [
    "# Debugging papers"
   ]
  },
  {
   "cell_type": "raw",
   "id": "debe7cc6",
   "metadata": {
    "papermill": {
     "duration": 0.011244,
     "end_time": "2022-10-20T04:54:44.774072",
     "exception": false,
     "start_time": "2022-10-20T04:54:44.762828",
     "status": "completed"
    },
    "tags": []
   },
   "source": [
    "raise NotImplementedError(\"Manual Stop\")"
   ]
  },
  {
   "cell_type": "raw",
   "id": "eb169192",
   "metadata": {
    "papermill": {
     "duration": 0.011199,
     "end_time": "2022-10-20T04:54:44.796480",
     "exception": false,
     "start_time": "2022-10-20T04:54:44.785281",
     "status": "completed"
    },
    "scrolled": true,
    "tags": []
   },
   "source": [
    "from IPython.display import display, Markdown\n",
    "from TexSoup import TexSoup\n",
    "import re\n",
    "\n",
    "def bracket_error(source: str):\n",
    "    \"\"\" Find problematic portions of the document \"\"\"\n",
    "    \n",
    "    print(\"len(source)\", len(source))\n",
    "    \n",
    "    # Checking header\n",
    "    begin_doc = next(re.finditer(r'\\\\begin\\{document\\}', doc.source)).span()[1]\n",
    "    header = source[:begin_doc]\n",
    "    text = header + r\"\\n\\end{document}\"\n",
    "\n",
    "    try:\n",
    "        # print(\"Header check... \", end='')\n",
    "        TexSoup(text)\n",
    "        display(Markdown(f\"**[OK]** - Header\"))\n",
    "    except:\n",
    "        raise RuntimeError(\"Error in the header\")\n",
    "        \n",
    "    # Check the text per section until the end.\n",
    "    # Do not stop and try them all.\n",
    "    \n",
    "    problematic_text = []\n",
    "    \n",
    "    sections = ([(0, begin_doc, 'until first section')] + \n",
    "                [(g.span()[0], g.span()[1], g.group()) for g in re.finditer(r'\\\\section\\{.*\\}', source)] +\n",
    "                [(g.span()[0], g.span()[1], g.group()) for g in re.finditer(r'\\\\begin\\{appendix\\}', source)]\n",
    "               )\n",
    "    sections.append([len(source), len(source), 'end'])\n",
    "    \n",
    "    sections = sorted(sections, key=lambda x: x[0])\n",
    "    \n",
    "    prev_pos, prev_name = (0, 'header')\n",
    "    parsed = []\n",
    "    \n",
    "    for span, span_end, name in sections:\n",
    "\n",
    "        if span - prev_pos <= 0:\n",
    "            continue\n",
    "            \n",
    "\n",
    "        text = source[prev_pos:span]\n",
    "        if prev_pos > begin_doc:\n",
    "            text = r\"\\n\\begin{document}\" + text + r\"\\n\\end{document}\"\n",
    "        else:\n",
    "            text = text + r\"\\n\\end{document}\"\n",
    "        try:\n",
    "            #print(f\"{prev_pos}:{prev_name}-->{span}:{name} check... \", end='')\n",
    "            parsed.append(TexSoup(text, tolerance=1))  # allow not ending env\n",
    "            display(Markdown(f\"**[OK]** - *{prev_pos}*:{prev_name} &rarr; *{span}*:{name}\"))\n",
    "            # print(\"ok\")\n",
    "\n",
    "            prev_pos = span\n",
    "            prev_name = name\n",
    "        except:\n",
    "            # print(f\"error between {prev_pos} and {span}\")\n",
    "            display(Markdown(f\"**[ERR]** *{prev_pos}*:{prev_name} &rarr; *{span}*:{name}\"))\n",
    "            problematic_text.append((prev_pos, source[prev_pos:span]))\n",
    "            prev_pos = span\n",
    "            prev_name = name\n",
    "            # raise\n",
    "    return problematic_text, parsed\n",
    "\n",
    "\n",
    "def check_environment(text, offset=0):\n",
    "    \"\"\" Check environment \"\"\"\n",
    "    env = re.compile(r\"\\\\begin\\{(?P<env>.*)\\}(.*)\\\\end\\{(?P=env)\\}\", re.DOTALL)\n",
    "\n",
    "    for match in env.finditer(text):\n",
    "        beg, end = match.span()\n",
    "        beg += offset\n",
    "        end += offset\n",
    "        envname = match.groups()[0]\n",
    "        try:\n",
    "            latex.TexSoup(match.group())\n",
    "        except Exception as e:\n",
    "            display(e)\n",
    "            print(f\"Error in {envname:s} between {beg} and {end}\")\n",
    "            return match.groups()[1], beg, end"
   ]
  },
  {
   "cell_type": "raw",
   "id": "2315e835",
   "metadata": {
    "papermill": {
     "duration": 0.011232,
     "end_time": "2022-10-20T04:54:44.818886",
     "exception": false,
     "start_time": "2022-10-20T04:54:44.807654",
     "status": "completed"
    },
    "scrolled": false,
    "tags": []
   },
   "source": [
    "import importlib\n",
    "importlib.reload(latex)\n",
    "which = \"2204.03253\"\n",
    "paper_id = f'{which:s}'\n",
    "folder = f'tmp_{paper_id:s}'\n",
    "\n",
    "if not os.path.isdir(folder):\n",
    "    folder = retrieve_document_source(f\"{paper_id}\", f'tmp_{paper_id}')\n",
    "\n",
    "try:\n",
    "    doc = latex.LatexDocument(folder, validation=validation)    \n",
    "except AffiliationError as affilerror:\n",
    "    msg = f\"ArXiv:{paper_id:s} is not an MPIA paper... \" + str(affilerror)\n",
    "    print(msg)\n",
    "\n",
    "\n",
    "# Hack because sometimes author parsing does not work well\n",
    "if (len(doc.authors) != len(paper['authors'])):\n",
    "    doc._authors = paper['authors']\n",
    "if (doc.abstract) in (None, ''):\n",
    "    doc._abstract = paper['abstract']\n",
    "\n",
    "doc.comment = get_markdown_badge(paper_id) + \" _\" + paper['comments'] + \"_\"\n",
    "doc.highlight_authors_in_list(hl_list)\n",
    "\n",
    "full_md = doc.generate_markdown_text()"
   ]
  },
  {
   "cell_type": "raw",
   "id": "dd3781db",
   "metadata": {
    "papermill": {
     "duration": 0.011424,
     "end_time": "2022-10-20T04:54:44.841499",
     "exception": false,
     "start_time": "2022-10-20T04:54:44.830075",
     "status": "completed"
    },
    "scrolled": false,
    "tags": []
   },
   "source": [
    "doc"
   ]
  },
  {
   "cell_type": "raw",
   "id": "c6eed834",
   "metadata": {
    "papermill": {
     "duration": 0.011455,
     "end_time": "2022-10-20T04:54:44.864275",
     "exception": false,
     "start_time": "2022-10-20T04:54:44.852820",
     "status": "completed"
    },
    "tags": []
   },
   "source": [
    "# [check_environment(k) for k in bracket_error(doc.source)]\n",
    "_, _, a = latex.get_content_per_section(doc.source, verbose=True)\n",
    "if not a:\n",
    "    print(\"no issues per section\")\n",
    "for ak in a:\n",
    "    r = check_environment(ak[1], offset=ak[0])\n",
    "    print(r[1], r[2])\n",
    "    print(r[0])"
   ]
  },
  {
   "cell_type": "code",
   "execution_count": null,
   "id": "71ce768a",
   "metadata": {
    "papermill": {
     "duration": 0.011211,
     "end_time": "2022-10-20T04:54:44.886725",
     "exception": false,
     "start_time": "2022-10-20T04:54:44.875514",
     "status": "completed"
    },
    "tags": []
   },
   "outputs": [],
   "source": []
  }
 ],
 "metadata": {
  "kernelspec": {
   "display_name": "Python 3.10.6 64-bit",
   "language": "python",
   "name": "python3"
  },
  "language_info": {
   "codemirror_mode": {
    "name": "ipython",
    "version": 3
   },
   "file_extension": ".py",
   "mimetype": "text/x-python",
   "name": "python",
   "nbconvert_exporter": "python",
   "pygments_lexer": "ipython3",
   "version": "3.9.14"
  },
  "papermill": {
   "default_parameters": {},
   "duration": 114.688472,
   "end_time": "2022-10-20T04:54:45.115950",
   "environment_variables": {},
   "exception": null,
   "input_path": "MPIA daily digest.ipynb",
   "output_path": "log.ipynb",
   "parameters": {},
   "start_time": "2022-10-20T04:52:50.427478",
   "version": "2.4.0"
  },
  "vscode": {
   "interpreter": {
    "hash": "e7370f93d1d0cde622a1f8e1c04877d8463912d04d973331ad4851f04de6915a"
   }
  },
  "widgets": {
   "application/vnd.jupyter.widget-state+json": {
    "state": {
     "64b6cb8f460044909f92fed59feb0f0d": {
      "model_module": "@jupyter-widgets/base",
      "model_module_version": "2.0.0",
      "model_name": "LayoutModel",
      "state": {
       "_model_module": "@jupyter-widgets/base",
       "_model_module_version": "2.0.0",
       "_model_name": "LayoutModel",
       "_view_count": null,
       "_view_module": "@jupyter-widgets/base",
       "_view_module_version": "2.0.0",
       "_view_name": "LayoutView",
       "align_content": null,
       "align_items": null,
       "align_self": null,
       "border_bottom": null,
       "border_left": null,
       "border_right": null,
       "border_top": null,
       "bottom": null,
       "display": null,
       "flex": null,
       "flex_flow": null,
       "grid_area": null,
       "grid_auto_columns": null,
       "grid_auto_flow": null,
       "grid_auto_rows": null,
       "grid_column": null,
       "grid_gap": null,
       "grid_row": null,
       "grid_template_areas": null,
       "grid_template_columns": null,
       "grid_template_rows": null,
       "height": null,
       "justify_content": null,
       "justify_items": null,
       "left": null,
       "margin": null,
       "max_height": null,
       "max_width": null,
       "min_height": null,
       "min_width": null,
       "object_fit": null,
       "object_position": null,
       "order": null,
       "overflow": null,
       "padding": null,
       "right": null,
       "top": null,
       "visibility": null,
       "width": null
      }
     },
     "7c5f3a2377cf4c8884f6ef4532c5c41c": {
      "model_module": "@jupyter-widgets/controls",
      "model_module_version": "2.0.0",
      "model_name": "FloatProgressModel",
      "state": {
       "_dom_classes": [],
       "_model_module": "@jupyter-widgets/controls",
       "_model_module_version": "2.0.0",
       "_model_name": "FloatProgressModel",
       "_view_count": null,
       "_view_module": "@jupyter-widgets/controls",
       "_view_module_version": "2.0.0",
       "_view_name": "ProgressView",
       "bar_style": "success",
       "description": "",
       "description_allow_html": false,
       "layout": "IPY_MODEL_64b6cb8f460044909f92fed59feb0f0d",
       "max": 30.0,
       "min": 0.0,
       "orientation": "horizontal",
       "style": "IPY_MODEL_7d70b0b69f8140529ac6352e3686ecaa",
       "tabbable": null,
       "tooltip": null,
       "value": 30.0
      }
     },
     "7d70b0b69f8140529ac6352e3686ecaa": {
      "model_module": "@jupyter-widgets/controls",
      "model_module_version": "2.0.0",
      "model_name": "ProgressStyleModel",
      "state": {
       "_model_module": "@jupyter-widgets/controls",
       "_model_module_version": "2.0.0",
       "_model_name": "ProgressStyleModel",
       "_view_count": null,
       "_view_module": "@jupyter-widgets/base",
       "_view_module_version": "2.0.0",
       "_view_name": "StyleView",
       "bar_color": null,
       "description_width": ""
      }
     },
     "7f1850b2871c40beb8bbdb1972d0910a": {
      "model_module": "@jupyter-widgets/controls",
      "model_module_version": "2.0.0",
      "model_name": "HTMLModel",
      "state": {
       "_dom_classes": [],
       "_model_module": "@jupyter-widgets/controls",
       "_model_module_version": "2.0.0",
       "_model_name": "HTMLModel",
       "_view_count": null,
       "_view_module": "@jupyter-widgets/controls",
       "_view_module_version": "2.0.0",
       "_view_name": "HTMLView",
       "description": "",
       "description_allow_html": false,
       "layout": "IPY_MODEL_d1c3d8ed5d8942e386c5b25598a1b725",
       "placeholder": "​",
       "style": "IPY_MODEL_c8be6c3e3e0742a7993d4facc689d383",
       "tabbable": null,
       "tooltip": null,
       "value": " 30/30 [01:25&lt;00:00,  3.45s/it]"
      }
     },
     "a2a01326c7c5460483b6e80161c763da": {
      "model_module": "@jupyter-widgets/base",
      "model_module_version": "2.0.0",
      "model_name": "LayoutModel",
      "state": {
       "_model_module": "@jupyter-widgets/base",
       "_model_module_version": "2.0.0",
       "_model_name": "LayoutModel",
       "_view_count": null,
       "_view_module": "@jupyter-widgets/base",
       "_view_module_version": "2.0.0",
       "_view_name": "LayoutView",
       "align_content": null,
       "align_items": null,
       "align_self": null,
       "border_bottom": null,
       "border_left": null,
       "border_right": null,
       "border_top": null,
       "bottom": null,
       "display": null,
       "flex": null,
       "flex_flow": null,
       "grid_area": null,
       "grid_auto_columns": null,
       "grid_auto_flow": null,
       "grid_auto_rows": null,
       "grid_column": null,
       "grid_gap": null,
       "grid_row": null,
       "grid_template_areas": null,
       "grid_template_columns": null,
       "grid_template_rows": null,
       "height": null,
       "justify_content": null,
       "justify_items": null,
       "left": null,
       "margin": null,
       "max_height": null,
       "max_width": null,
       "min_height": null,
       "min_width": null,
       "object_fit": null,
       "object_position": null,
       "order": null,
       "overflow": null,
       "padding": null,
       "right": null,
       "top": null,
       "visibility": null,
       "width": null
      }
     },
     "af41fd0f27b045de99e33540acbf65a2": {
      "model_module": "@jupyter-widgets/controls",
      "model_module_version": "2.0.0",
      "model_name": "HTMLModel",
      "state": {
       "_dom_classes": [],
       "_model_module": "@jupyter-widgets/controls",
       "_model_module_version": "2.0.0",
       "_model_name": "HTMLModel",
       "_view_count": null,
       "_view_module": "@jupyter-widgets/controls",
       "_view_module_version": "2.0.0",
       "_view_name": "HTMLView",
       "description": "",
       "description_allow_html": false,
       "layout": "IPY_MODEL_a2a01326c7c5460483b6e80161c763da",
       "placeholder": "​",
       "style": "IPY_MODEL_f64eb1da9fbf4747aac37f866a2cd765",
       "tabbable": null,
       "tooltip": null,
       "value": "100%"
      }
     },
     "b362ea9fb2ac4a3c8cd436882d4240fc": {
      "model_module": "@jupyter-widgets/base",
      "model_module_version": "2.0.0",
      "model_name": "LayoutModel",
      "state": {
       "_model_module": "@jupyter-widgets/base",
       "_model_module_version": "2.0.0",
       "_model_name": "LayoutModel",
       "_view_count": null,
       "_view_module": "@jupyter-widgets/base",
       "_view_module_version": "2.0.0",
       "_view_name": "LayoutView",
       "align_content": null,
       "align_items": null,
       "align_self": null,
       "border_bottom": null,
       "border_left": null,
       "border_right": null,
       "border_top": null,
       "bottom": null,
       "display": null,
       "flex": null,
       "flex_flow": null,
       "grid_area": null,
       "grid_auto_columns": null,
       "grid_auto_flow": null,
       "grid_auto_rows": null,
       "grid_column": null,
       "grid_gap": null,
       "grid_row": null,
       "grid_template_areas": null,
       "grid_template_columns": null,
       "grid_template_rows": null,
       "height": null,
       "justify_content": null,
       "justify_items": null,
       "left": null,
       "margin": null,
       "max_height": null,
       "max_width": null,
       "min_height": null,
       "min_width": null,
       "object_fit": null,
       "object_position": null,
       "order": null,
       "overflow": null,
       "padding": null,
       "right": null,
       "top": null,
       "visibility": null,
       "width": null
      }
     },
     "c8be6c3e3e0742a7993d4facc689d383": {
      "model_module": "@jupyter-widgets/controls",
      "model_module_version": "2.0.0",
      "model_name": "HTMLStyleModel",
      "state": {
       "_model_module": "@jupyter-widgets/controls",
       "_model_module_version": "2.0.0",
       "_model_name": "HTMLStyleModel",
       "_view_count": null,
       "_view_module": "@jupyter-widgets/base",
       "_view_module_version": "2.0.0",
       "_view_name": "StyleView",
       "background": null,
       "description_width": "",
       "font_size": null,
       "text_color": null
      }
     },
     "d1c3d8ed5d8942e386c5b25598a1b725": {
      "model_module": "@jupyter-widgets/base",
      "model_module_version": "2.0.0",
      "model_name": "LayoutModel",
      "state": {
       "_model_module": "@jupyter-widgets/base",
       "_model_module_version": "2.0.0",
       "_model_name": "LayoutModel",
       "_view_count": null,
       "_view_module": "@jupyter-widgets/base",
       "_view_module_version": "2.0.0",
       "_view_name": "LayoutView",
       "align_content": null,
       "align_items": null,
       "align_self": null,
       "border_bottom": null,
       "border_left": null,
       "border_right": null,
       "border_top": null,
       "bottom": null,
       "display": null,
       "flex": null,
       "flex_flow": null,
       "grid_area": null,
       "grid_auto_columns": null,
       "grid_auto_flow": null,
       "grid_auto_rows": null,
       "grid_column": null,
       "grid_gap": null,
       "grid_row": null,
       "grid_template_areas": null,
       "grid_template_columns": null,
       "grid_template_rows": null,
       "height": null,
       "justify_content": null,
       "justify_items": null,
       "left": null,
       "margin": null,
       "max_height": null,
       "max_width": null,
       "min_height": null,
       "min_width": null,
       "object_fit": null,
       "object_position": null,
       "order": null,
       "overflow": null,
       "padding": null,
       "right": null,
       "top": null,
       "visibility": null,
       "width": null
      }
     },
     "e9b0200df8e545739ffaea9be68a6ea1": {
      "model_module": "@jupyter-widgets/controls",
      "model_module_version": "2.0.0",
      "model_name": "HBoxModel",
      "state": {
       "_dom_classes": [],
       "_model_module": "@jupyter-widgets/controls",
       "_model_module_version": "2.0.0",
       "_model_name": "HBoxModel",
       "_view_count": null,
       "_view_module": "@jupyter-widgets/controls",
       "_view_module_version": "2.0.0",
       "_view_name": "HBoxView",
       "box_style": "",
       "children": [
        "IPY_MODEL_af41fd0f27b045de99e33540acbf65a2",
        "IPY_MODEL_7c5f3a2377cf4c8884f6ef4532c5c41c",
        "IPY_MODEL_7f1850b2871c40beb8bbdb1972d0910a"
       ],
       "layout": "IPY_MODEL_b362ea9fb2ac4a3c8cd436882d4240fc",
       "tabbable": null,
       "tooltip": null
      }
     },
     "f64eb1da9fbf4747aac37f866a2cd765": {
      "model_module": "@jupyter-widgets/controls",
      "model_module_version": "2.0.0",
      "model_name": "HTMLStyleModel",
      "state": {
       "_model_module": "@jupyter-widgets/controls",
       "_model_module_version": "2.0.0",
       "_model_name": "HTMLStyleModel",
       "_view_count": null,
       "_view_module": "@jupyter-widgets/base",
       "_view_module_version": "2.0.0",
       "_view_name": "StyleView",
       "background": null,
       "description_width": "",
       "font_size": null,
       "text_color": null
      }
     }
    },
    "version_major": 2,
    "version_minor": 0
   }
  }
 },
 "nbformat": 4,
 "nbformat_minor": 5
}