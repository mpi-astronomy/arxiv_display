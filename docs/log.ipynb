{
 "cells": [
  {
   "cell_type": "markdown",
   "id": "92bcb855",
   "metadata": {
    "papermill": {
     "duration": 0.003809,
     "end_time": "2025-07-24T04:31:14.704844",
     "exception": false,
     "start_time": "2025-07-24T04:31:14.701035",
     "status": "completed"
    },
    "tags": []
   },
   "source": [
    "# MPIA Arxiv on Deck 2\n",
    "\n",
    "Contains the steps to produce the paper extractions."
   ]
  },
  {
   "cell_type": "code",
   "execution_count": 1,
   "id": "3a0d6e11",
   "metadata": {
    "execution": {
     "iopub.execute_input": "2025-07-24T04:31:14.712344Z",
     "iopub.status.busy": "2025-07-24T04:31:14.712027Z",
     "iopub.status.idle": "2025-07-24T04:31:14.946974Z",
     "shell.execute_reply": "2025-07-24T04:31:14.946300Z"
    },
    "papermill": {
     "duration": 0.240184,
     "end_time": "2025-07-24T04:31:14.948322",
     "exception": false,
     "start_time": "2025-07-24T04:31:14.708138",
     "status": "completed"
    },
    "tags": []
   },
   "outputs": [],
   "source": [
    "# Imports\n",
    "import os\n",
    "from IPython.display import Markdown, display\n",
    "from tqdm.notebook import tqdm\n",
    "import warnings\n",
    "from PIL import Image \n",
    "import re\n",
    "\n",
    "# requires arxiv_on_deck_2\n",
    "\n",
    "from arxiv_on_deck_2.arxiv2 import (get_new_papers, \n",
    "                                    get_paper_from_identifier,\n",
    "                                    retrieve_document_source, \n",
    "                                    get_markdown_badge)\n",
    "from arxiv_on_deck_2 import (latex,\n",
    "                             latex_bib,\n",
    "                             mpia,\n",
    "                             highlight_authors_in_list)\n",
    "\n",
    "# Sometimes images are really big\n",
    "Image.MAX_IMAGE_PIXELS = 1000000000 "
   ]
  },
  {
   "cell_type": "code",
   "execution_count": 2,
   "id": "22aa9d44",
   "metadata": {
    "execution": {
     "iopub.execute_input": "2025-07-24T04:31:14.955432Z",
     "iopub.status.busy": "2025-07-24T04:31:14.955202Z",
     "iopub.status.idle": "2025-07-24T04:31:14.963177Z",
     "shell.execute_reply": "2025-07-24T04:31:14.962588Z"
    },
    "papermill": {
     "duration": 0.012654,
     "end_time": "2025-07-24T04:31:14.964230",
     "exception": false,
     "start_time": "2025-07-24T04:31:14.951576",
     "status": "completed"
    },
    "tags": []
   },
   "outputs": [],
   "source": [
    "# Some useful definitions.\n",
    "\n",
    "class AffiliationWarning(UserWarning):\n",
    "    pass\n",
    "\n",
    "class AffiliationError(RuntimeError):\n",
    "    pass\n",
    "\n",
    "def validation(source: str):\n",
    "    \"\"\"Raises error paper during parsing of source file\n",
    "    \n",
    "    Allows checks before parsing TeX code.\n",
    "    \n",
    "    Raises AffiliationWarning\n",
    "    \"\"\"\n",
    "    check = mpia.affiliation_verifications(source, verbose=True)\n",
    "    if check is not True:\n",
    "        raise AffiliationError(\"mpia.affiliation_verifications: \" + check)\n",
    "\n",
    "        \n",
    "warnings.simplefilter('always', AffiliationWarning)\n",
    "\n",
    "\n",
    "def get_markdown_qrcode(paper_id: str):\n",
    "    \"\"\" Generate a qrcode to the arxiv page using qrserver.com\n",
    "    \n",
    "    :param paper: Arxiv paper\n",
    "    :returns: markdown text\n",
    "    \"\"\"\n",
    "    url = r\"https://api.qrserver.com/v1/create-qr-code/?size=100x100&data=\"\n",
    "    txt = f\"\"\"<img src={url}\"https://arxiv.org/abs/{paper_id}\">\"\"\"\n",
    "    txt = '<div id=\"qrcode\">' + txt + '</div>'\n",
    "    return txt\n",
    "\n",
    "\n",
    "def clean_non_western_encoded_characters_commands(text: str) -> str:\n",
    "    \"\"\" Remove non-western encoded characters from a string\n",
    "    List may need to grow.\n",
    "    \n",
    "    :param text: the text to clean\n",
    "    :return: the cleaned text\n",
    "    \"\"\"\n",
    "    text = re.sub(r\"(\\\\begin{CJK}{UTF8}{gbsn})(.*?)(\\\\end{CJK})\", r\"\\2\", text)\n",
    "    return text\n",
    "\n",
    "\n",
    "def get_initials(name: str) -> str:\n",
    "    \"\"\" Get the short name, e.g., A.-B. FamName\n",
    "    :param name: full name\n",
    "    :returns: initials\n",
    "    \"\"\"\n",
    "    initials = []\n",
    "    # account for non western names often in ()\n",
    "    if '(' in name:\n",
    "        name = clean_non_western_encoded_characters_commands(name)\n",
    "        suffix = re.findall(r\"\\((.*?)\\)\", name)[0]\n",
    "        name = name.replace(f\"({suffix})\", '')\n",
    "    else:\n",
    "        suffix = ''\n",
    "    split = name.split()\n",
    "    for token in split[:-1]:\n",
    "        if '-' in token:\n",
    "            current = '-'.join([k[0] + '.' for k in token.split('-')])\n",
    "        else:\n",
    "            current = token[0] + '.'\n",
    "        initials.append(current)\n",
    "    initials.append(split[-1].strip())\n",
    "    if suffix:\n",
    "        initials.append(f\"({suffix})\")\n",
    "    return ' '.join(initials)"
   ]
  },
  {
   "cell_type": "markdown",
   "id": "14bd6310",
   "metadata": {
    "papermill": {
     "duration": 0.002891,
     "end_time": "2025-07-24T04:31:14.970150",
     "exception": false,
     "start_time": "2025-07-24T04:31:14.967259",
     "status": "completed"
    },
    "tags": []
   },
   "source": [
    "## get list of arxiv paper candidates\n",
    "\n",
    "We use the MPIA mitarbeiter list webpage from mpia.de to get author names\n",
    "We then get all new papers from Arxiv and match authors"
   ]
  },
  {
   "cell_type": "code",
   "execution_count": 3,
   "id": "7ea813a8",
   "metadata": {
    "execution": {
     "iopub.execute_input": "2025-07-24T04:31:14.977076Z",
     "iopub.status.busy": "2025-07-24T04:31:14.976853Z",
     "iopub.status.idle": "2025-07-24T04:31:33.462353Z",
     "shell.execute_reply": "2025-07-24T04:31:33.461649Z"
    },
    "papermill": {
     "duration": 18.490841,
     "end_time": "2025-07-24T04:31:33.463919",
     "exception": false,
     "start_time": "2025-07-24T04:31:14.973078",
     "status": "completed"
    },
    "tags": []
   },
   "outputs": [],
   "source": [
    "# deal with the author list and edge cases of people that cannot be consistent on their name  \n",
    "\n",
    "def filter_non_scientists(name: str) -> bool:\n",
    "    \"\"\" Loose filter on expected authorships\n",
    "\n",
    "    removing IT, administration, technical staff\n",
    "    :param name: name\n",
    "    :returns: False if name is not a scientist\n",
    "    \"\"\"\n",
    "    remove_list = ['Licht', 'Binroth', 'Witzel', 'Jordan',\n",
    "                   'Zähringer', 'Scheerer', 'Hoffmann', 'Düe',\n",
    "                   'Hellmich', 'Enkler-Scharpegge', 'Witte-Nguy',\n",
    "                   'Dehen', 'Beckmann', 'Jager', 'Jäger'\n",
    "                  ]\n",
    "\n",
    "    for k in remove_list:\n",
    "        if k in name:\n",
    "            return False\n",
    "    return True\n",
    "\n",
    "def add_author_to_list(author_list: list) -> list:\n",
    "    \"\"\" Add author to list if not already in list\n",
    "    \n",
    "    :param author: author name\n",
    "    :param author_list: list of authors\n",
    "    :returns: updated list of authors\n",
    "    \"\"\"\n",
    "    add_list = ['T. Henning']\n",
    "\n",
    "    for author in add_list:\n",
    "        if author not in author_list:\n",
    "            author_list.append(author)\n",
    "    return author_list\n",
    "\n",
    "# get list from MPIA website\n",
    "# filter for non-scientists (mpia.get_mpia_mitarbeiter_list() does some filtering)\n",
    "mpia_authors = [k[1] for k in mpia.get_mpia_mitarbeiter_list() if filter_non_scientists(k[1])]\n",
    "# add some missing author because of inconsistencies in their MPIA name and author name on papers\n",
    "mpia_authors = add_author_to_list(mpia_authors)"
   ]
  },
  {
   "cell_type": "code",
   "execution_count": 4,
   "id": "2645e73a",
   "metadata": {
    "execution": {
     "iopub.execute_input": "2025-07-24T04:31:33.471156Z",
     "iopub.status.busy": "2025-07-24T04:31:33.470926Z",
     "iopub.status.idle": "2025-07-24T04:31:34.145870Z",
     "shell.execute_reply": "2025-07-24T04:31:34.145159Z"
    },
    "papermill": {
     "duration": 0.679771,
     "end_time": "2025-07-24T04:31:34.147006",
     "exception": false,
     "start_time": "2025-07-24T04:31:33.467235",
     "status": "completed"
    },
    "tags": []
   },
   "outputs": [
    {
     "name": "stdout",
     "output_type": "stream",
     "text": [
      "G. Chauvin  ->  G. Chauvin  |  ['G. Chauvin']\n",
      "M. Ravet  ->  M. Ravet  |  ['M. Ravet']\n",
      "P. Mollière  ->  P. Mollière  |  ['P. Mollière']\n",
      "X. Zhang  ->  X. Zhang  |  ['X. Zhang']\n",
      "Y. Wang  ->  Y. Wang  |  ['Y. Wang']\n",
      "X. Zhang  ->  X. Zhang  |  ['X. Zhang']\n"
     ]
    },
    {
     "name": "stdout",
     "output_type": "stream",
     "text": [
      "S. Kraus  ->  S. Kraus  |  ['S. Kraus']\n",
      "Arxiv has 76 new papers today\n",
      "          5 with possible author matches\n"
     ]
    }
   ],
   "source": [
    "new_papers = get_new_papers()\n",
    "# add manual references\n",
    "add_paper_refs = []\n",
    "new_papers.extend([get_paper_from_identifier(k) for k in add_paper_refs])\n",
    "\n",
    "def robust_call(fn, value, *args, **kwargs):\n",
    "    try:\n",
    "        return fn(value, *args, **kwargs)\n",
    "    except Exception:\n",
    "        return value\n",
    "\n",
    "candidates = []\n",
    "for paperk in new_papers:\n",
    "    # Check author list with their initials\n",
    "    normed_author_list = [robust_call(mpia.get_initials, k) for k in paperk['authors']]\n",
    "    hl_authors = highlight_authors_in_list(normed_author_list, mpia_authors, verbose=True)\n",
    "    matches = [(hl, orig) for hl, orig in zip(hl_authors, paperk['authors']) if 'mark' in hl]\n",
    "    paperk['authors'] = hl_authors\n",
    "    if matches:\n",
    "        # only select paper if an author matched our list\n",
    "        candidates.append(paperk)\n",
    "print(\"\"\"Arxiv has {0:,d} new papers today\"\"\".format(len(new_papers)))        \n",
    "print(\"\"\"          {0:,d} with possible author matches\"\"\".format(len(candidates)))"
   ]
  },
  {
   "cell_type": "markdown",
   "id": "3543b34a",
   "metadata": {
    "papermill": {
     "duration": 0.003094,
     "end_time": "2025-07-24T04:31:34.153658",
     "exception": false,
     "start_time": "2025-07-24T04:31:34.150564",
     "status": "completed"
    },
    "tags": []
   },
   "source": [
    "# Parse sources and generate relevant outputs\n",
    "\n",
    "From the candidates, we do the following steps:\n",
    "* get their tarball from ArXiv (and extract data)\n",
    "* find the main .tex file: find one with \\documentclass{...} (sometimes it's non trivial)\n",
    "* Check affiliations with :func:`validation`, which uses :func:`mpia.affiliation_verifications`\n",
    "* If passing the affiliations: we parse the .tex source\n",
    "   * inject sub-documents into the main (flatten the main document)\n",
    "   * parse structure, extract information (title, abstract, authors, figures...)\n",
    "   * handles `\\graphicspath` if provided\n",
    "* Generate the .md document."
   ]
  },
  {
   "cell_type": "code",
   "execution_count": 5,
   "id": "9576b79e",
   "metadata": {
    "execution": {
     "iopub.execute_input": "2025-07-24T04:31:34.160660Z",
     "iopub.status.busy": "2025-07-24T04:31:34.160433Z",
     "iopub.status.idle": "2025-07-24T04:32:18.691071Z",
     "shell.execute_reply": "2025-07-24T04:32:18.690358Z"
    },
    "papermill": {
     "duration": 44.53548,
     "end_time": "2025-07-24T04:32:18.692225",
     "exception": false,
     "start_time": "2025-07-24T04:31:34.156745",
     "status": "completed"
    },
    "scrolled": false,
    "tags": []
   },
   "outputs": [
    {
     "data": {
      "application/vnd.jupyter.widget-view+json": {
       "model_id": "3dc5f44961c8471ea924c351dc8eacaf",
       "version_major": 2,
       "version_minor": 0
      },
      "text/plain": [
       "  0%|          | 0/5 [00:00<?, ?it/s]"
      ]
     },
     "metadata": {},
     "output_type": "display_data"
    },
    {
     "name": "stdout",
     "output_type": "stream",
     "text": [
      "Retrieving document from  https://arxiv.org/e-print/2507.16899\n"
     ]
    },
    {
     "name": "stdout",
     "output_type": "stream",
     "text": [
      "extracting tarball to tmp_2507.16899..."
     ]
    },
    {
     "name": "stdout",
     "output_type": "stream",
     "text": [
      " done.\n"
     ]
    },
    {
     "name": "stdout",
     "output_type": "stream",
     "text": [
      "G. Chauvin  ->  G. Chauvin  |  ['G. Chauvin']\n",
      "M. Ravet  ->  M. Ravet  |  ['M. Ravet']\n",
      "P. Mollière  ->  P. Mollière  |  ['P. Mollière']\n"
     ]
    },
    {
     "name": "stdout",
     "output_type": "stream",
     "text": [
      "Found 167 bibliographic references in tmp_2507.16899/aa54986-25.bbl.\n",
      "Issues with the citations\n",
      "syntax error in line 606: '=' expected\n",
      "Retrieving document from  https://arxiv.org/e-print/2507.17315\n",
      "extracting tarball to tmp_2507.17315... done.\n",
      "Retrieving document from  https://arxiv.org/e-print/2507.17641\n"
     ]
    },
    {
     "name": "stdout",
     "output_type": "stream",
     "text": [
      "extracting tarball to tmp_2507.17641..."
     ]
    },
    {
     "name": "stdout",
     "output_type": "stream",
     "text": [
      " done.\n",
      "Retrieving document from  https://arxiv.org/e-print/2507.17670\n",
      "extracting tarball to tmp_2507.17670..."
     ]
    },
    {
     "name": "stdout",
     "output_type": "stream",
     "text": [
      " done.\n",
      "Retrieving document from  https://arxiv.org/e-print/2507.17705\n",
      "extracting tarball to tmp_2507.17705... done.\n"
     ]
    }
   ],
   "source": [
    "documents = []\n",
    "failed = []\n",
    "for paper in tqdm(candidates):\n",
    "    # debug crap\n",
    "    paper['identifier'] = paper['identifier'].lower().replace('arxiv:', '').replace(r'\\n', '').strip()\n",
    "    paper_id = paper['identifier']\n",
    "    \n",
    "    folder = f'tmp_{paper_id}'\n",
    "\n",
    "    try:\n",
    "        if not os.path.isdir(folder):\n",
    "            folder = retrieve_document_source(f\"{paper_id}\", f'tmp_{paper_id}')\n",
    "        \n",
    "        try:\n",
    "            doc = latex.LatexDocument(folder, validation=validation)    \n",
    "        except AffiliationError as affilerror:\n",
    "            msg = f\"ArXiv:{paper_id:s} is not an MPIA paper... \" + str(affilerror)\n",
    "            failed.append((paper, \"affiliation error: \" + str(affilerror) ))\n",
    "            continue\n",
    "        \n",
    "        # Hack because sometimes author parsing does not work well\n",
    "        if (len(doc.authors) != len(paper['authors'])):\n",
    "            doc._authors = paper['authors']\n",
    "        else:\n",
    "            # highlight authors (FIXME: doc.highlight_authors)\n",
    "            # done on arxiv paper already\n",
    "            doc._authors = highlight_authors_in_list(\n",
    "                [get_initials(k) for k in doc.authors], \n",
    "                mpia_authors, verbose=True)\n",
    "        if (doc.abstract) in (None, ''):\n",
    "            doc._abstract = paper['abstract']\n",
    "            \n",
    "        doc.comment = (get_markdown_badge(paper_id) + \n",
    "                       \"<mark>Appeared on: \" + paper['date'] + \"</mark> - \")\n",
    "        if paper['comments']:\n",
    "            doc.comment += \" _\" + paper['comments'] + \"_\"\n",
    "        \n",
    "        full_md = doc.generate_markdown_text()\n",
    "        \n",
    "        full_md += get_markdown_qrcode(paper_id)\n",
    "        \n",
    "        # replace citations\n",
    "        try:\n",
    "            bibdata = latex_bib.LatexBib.from_doc(doc)\n",
    "            full_md = latex_bib.replace_citations(full_md, bibdata)\n",
    "        except Exception as e:\n",
    "            print(\"Issues with the citations\")\n",
    "            print(e)\n",
    "        \n",
    "        documents.append((paper_id, full_md))\n",
    "    except Exception as e:\n",
    "        warnings.warn(latex.LatexWarning(f\"{paper_id:s} did not run properly\\n\" +\n",
    "                                         str(e)\n",
    "                                        ))\n",
    "        failed.append((paper, \"latex error \" + str(e)))"
   ]
  },
  {
   "cell_type": "markdown",
   "id": "2505a25c",
   "metadata": {
    "papermill": {
     "duration": 0.003688,
     "end_time": "2025-07-24T04:32:18.699855",
     "exception": false,
     "start_time": "2025-07-24T04:32:18.696167",
     "status": "completed"
    },
    "tags": []
   },
   "source": [
    "### Export the logs\n",
    "\n",
    "Throughout, we also keep track of the logs per paper. see `logs-{today date}.md` "
   ]
  },
  {
   "cell_type": "code",
   "execution_count": 6,
   "id": "d733828a",
   "metadata": {
    "execution": {
     "iopub.execute_input": "2025-07-24T04:32:18.708003Z",
     "iopub.status.busy": "2025-07-24T04:32:18.707765Z",
     "iopub.status.idle": "2025-07-24T04:32:18.724381Z",
     "shell.execute_reply": "2025-07-24T04:32:18.723729Z"
    },
    "papermill": {
     "duration": 0.021862,
     "end_time": "2025-07-24T04:32:18.725358",
     "exception": false,
     "start_time": "2025-07-24T04:32:18.703496",
     "status": "completed"
    },
    "scrolled": false,
    "tags": []
   },
   "outputs": [
    {
     "data": {
      "text/markdown": [
       "## Successful papers"
      ],
      "text/plain": [
       "<IPython.core.display.Markdown object>"
      ]
     },
     "metadata": {},
     "output_type": "display_data"
    },
    {
     "data": {
      "text/markdown": [
       "\n",
       "|||\n",
       "|---:|:---|\n",
       "| [![arXiv](https://img.shields.io/badge/arXiv-2507.16899-b31b1b.svg)](https://arxiv.org/abs/2507.16899) | **X-SHYNE: X-Shooter spectra of young exoplanet analogs II. Presentation and analysis of the full library**  |\n",
       "|| S. Petrus, et al. -- incl., <mark>G. Chauvin</mark>, <mark>M. Ravet</mark>, <mark>P. Mollière</mark> |\n",
       "|*Appeared on*| *2025-07-24*|\n",
       "|*Comments*| *28 pages, 18 figures, 6 tables*|\n",
       "|**Abstract**|            The X-SHYNE library is a homogeneous sample of 43 medium-resolution (R=8000) infrared (0.3-2.5um) spectra of young (<500Myr), low-mass (<20Mjup), and cold (Teff=600-2000K) isolated brown dwarfs and wide-separation companions observed with the VLT/X-Shooter instrument. To characterize our targets, we performed a global comparative analysis. We first applied a semi-empirical approach. By refining their age and bolometric luminosity, we derived key atmospheric and physical properties, such as Teff, mass, surface gravity (g), and radius, using the evolutionary model COND03. These results were then compared with the results from a synthetic analysis based on three self-consistent atmospheric models. To compare our spectra with these grids we used the Bayesian inference code ForMoSA. We found similar Lbol estimates between both approaches, but an underestimated Teff from the cloudy models, likely due to a lack of absorbers that could dominate the J and H bands of early L. We also observed a discrepancy in the log(g) estimates, which are dispersed between 3.5 and 5.5 dex for mid-L objects. We interpreted this as a bias caused by a range of rotational velocities leading to cloud migration toward equatorial latitudes, combined with a variety of viewing angles that result in different observed atmospheric properties (cloud column densities, atmospheric pressures, etc.). Finally, while providing robust estimates of [M/H] and C/O for individual objects remains challenging, the X-SHYNE library globally suggests solar values, which are consistent with a formation via stellar formation mechanisms. This study highlights the strength of homogeneous datasets in performing comparative analyses, reducing the impact of systematics, and ensuring robust conclusions while avoiding over-interpretation.         |"
      ],
      "text/plain": [
       "[2507.16899] X-SHYNE: X-Shooter spectra of young exoplanet analogs II. Presentation and analysis of the full library\n",
       "\tS. Petrus, et al. -- incl., <mark>G. Chauvin</mark>, <mark>M. Ravet</mark>, <mark>P. Mollière</mark>"
      ]
     },
     "metadata": {},
     "output_type": "display_data"
    },
    {
     "data": {
      "text/markdown": [
       "## Failed papers"
      ],
      "text/plain": [
       "<IPython.core.display.Markdown object>"
      ]
     },
     "metadata": {},
     "output_type": "display_data"
    },
    {
     "data": {
      "text/markdown": [
       "\n",
       "|||\n",
       "|---:|:---|\n",
       "| [![arXiv](https://img.shields.io/badge/arXiv-2507.17705-b31b1b.svg)](https://arxiv.org/abs/2507.17705) | **The Small Separation A-Star Companion Population: Tentative Signatures of Enhanced Multiplicity with Primary Mass**  |\n",
       "|| M. D. Furio, et al. -- incl., <mark>S. Kraus</mark> |\n",
       "|*Appeared on*| *2025-07-24*|\n",
       "|*Comments*| *14 pages, 3 figures, 6 tables, Accepted by ApJ July 22 2025*|\n",
       "|**Abstract**|            We present updated results from our near-infrared long-baseline interferometry (LBI) survey to constrain the multiplicity properties of intermediate-mass A-type stars within 80 pc. Previous adaptive optics surveys of A-type stars are incomplete at separations $<$ 20au. Therefore, a LBI survey allows us to explore separations previously unexplored. Our sample consists of 54 A-type primaries with estimated masses between 1.44-2.93 M$_{\\odot}$ and ages 10-790 Myr, which we observed with the MIRC-X and MYSTIC instruments at the CHARA Array. We use the open source software CANDID to detect two new companions, seven in total, and we performed a Bayesian demographic analysis to characterize the companion population. We find the separation distribution consistent with being flat, and we estimate a power-law fit to the mass ratio distribution with index -0.13$^{+0.92}_{-0.95}$ and a companion frequency of 0.25$^{+0.17}_{-0.11}$ over mass ratios 0.1-1.0 and projected separations 0.01-27.54au. We find a posterior probability of 0.53 and 0.04 that our results are consistent with extrapolations based on previous models of the solar-type and B-type companion population, respectively. Our results suggest that the close companion population to A-type stars is comparable to that of solar-types and that close companions to B-type stars are potentially more frequent which may be indicative of increased disk fragmentation for stars $\\gtrsim$ 3M$_{\\odot}$.         |\n",
       "|<p style=\"color:green\"> **ERROR** </p>| <p style=\"color:green\">affiliation error: mpia.affiliation_verifications: '69117' keyword not found.</p> |"
      ],
      "text/plain": [
       "<IPython.core.display.Markdown object>"
      ]
     },
     "metadata": {},
     "output_type": "display_data"
    },
    {
     "data": {
      "text/markdown": [
       "\n",
       "|||\n",
       "|---:|:---|\n",
       "| [![arXiv](https://img.shields.io/badge/arXiv-2507.17315-b31b1b.svg)](https://arxiv.org/abs/2507.17315) | **Prospects for searching for sterile neutrinos in dynamical dark energy cosmologies using joint observations of gravitational waves and $γ$-ray bursts**  |\n",
       "|| L. Feng, T. Han, J.-F. Zhang, <mark>X. Zhang</mark> |\n",
       "|*Appeared on*| *2025-07-24*|\n",
       "|*Comments*| *13 pages, 4 figures*|\n",
       "|**Abstract**|            In the era of third-generation (3G) gravitational-wave (GW) detectors, GW standard siren observations from binary neutron star mergers provide a powerful tool for probing the expansion history of the universe. Since sterile neutrinos can influence cosmic evolution by modifying the radiation content and suppressing structure formation, GW standard sirens offer promising prospects for constraining sterile neutrino properties within a cosmological framework. Building on this, we investigate the prospects for detecting sterile neutrinos in dynamical dark energy (DE) models using joint observations from 3G GW detectors and a future short gamma-ray burst detector, such as a THESEUS-like telescope. We consider three DE models: the $w$CDM, holographic DE (HDE), and Chevallier-Polarski-Linder (CPL) models. Our results show that the properties of DE can influence the constraints on sterile neutrino parameters. Moreover, the inclusion of GW data significantly improves constraints on both sterile neutrino parameters and other cosmological parameters across all three models, compared to the current limits derived from CMB+BAO+SN (CBS) observations. When GW data are included into the CBS dataset, a preference for $\\Delta N_{\\rm eff} > 0$ emerges at approximately the $1\\sigma$ level in the $w$CDM and CPL models, and reaches about $3\\sigma$ in the HDE model. Moreover, the upper limits on $m_{\\nu,{\\rm sterile}}^{\\rm eff}$ are reduced by approximately 13%, 75%, and 3% in the $w$CDM, HDE, and CPL models, respectively.         |\n",
       "|<p style=\"color:green\"> **ERROR** </p>| <p style=\"color:green\">affiliation error: mpia.affiliation_verifications: 'Heidelberg' keyword not found.</p> |"
      ],
      "text/plain": [
       "<IPython.core.display.Markdown object>"
      ]
     },
     "metadata": {},
     "output_type": "display_data"
    },
    {
     "data": {
      "text/markdown": [
       "\n",
       "|||\n",
       "|---:|:---|\n",
       "| [![arXiv](https://img.shields.io/badge/arXiv-2507.17641-b31b1b.svg)](https://arxiv.org/abs/2507.17641) | **A deep search for radio pulsations from the 1.3 M$_{\\odot}$ compact-object binary companion of young pulsar PSR J1906+0746**  |\n",
       "|| <mark>Y. Wang</mark>, J. v. Leeuwen |\n",
       "|*Appeared on*| *2025-07-24*|\n",
       "|*Comments*| *8 pages, 11 figures. Accepted by A&A*|\n",
       "|**Abstract**|            Double pulsar systems offer unrivaled advantages for the study of both astrophysics and fundamental physics. But only one has been visible: PSR J0737$-$3039; and its component pulsar B has now rotated out of sight due to the general-relativistic effect of geodetic precession. We know, though, that these precession cycles can also pivot pulsars into sight, and that this precession occurs at similar strength in PSR J1906+0746. That source is a young, unrecycled radio pulsar, orbiting a compact object with mass $\\sim $1.32 M$_{\\odot}$. This work presents a renewed campaign to detect radio pulsations from this companion, two decades after the previous search. Two key reasons driving this reattempt are the possibility that the companion radio beam has since precessed into our line of sight, and the improved sensitivity now offered by the FAST radio telescope. In 28 deep observations, we did not detect a credible companion pulsar signal. After comparing the possible scenarios, we conclude the companion is still most likely a pulsar that is not pointing at us. We next present estimates for the sky covered by such systems throughout their precession cycle. We find that for most system geometries, the all-time beaming fraction is unity, i.e., observers in any direction can see the system at some point. We conclude it is still likely that PSR J1906+0746 will be visible as a double pulsar in the future.         |\n",
       "|<p style=\"color:green\"> **ERROR** </p>| <p style=\"color:green\">affiliation error: mpia.affiliation_verifications: 'Heidelberg' keyword not found.</p> |"
      ],
      "text/plain": [
       "<IPython.core.display.Markdown object>"
      ]
     },
     "metadata": {},
     "output_type": "display_data"
    },
    {
     "data": {
      "text/markdown": [
       "\n",
       "|||\n",
       "|---:|:---|\n",
       "| [![arXiv](https://img.shields.io/badge/arXiv-2507.17670-b31b1b.svg)](https://arxiv.org/abs/2507.17670) | **Mapping ground-based coronagraphic images to Helioprojective-Cartesian coordinate system by image registration**  |\n",
       "|| F. Sha, et al. -- incl., <mark>X. Zhang</mark> |\n",
       "|*Appeared on*| *2025-07-24*|\n",
       "|*Comments*| **|\n",
       "|**Abstract**|            A few ground-based solar coronagraphs have been installed in western China for observing the low-layer corona in recent years. However, determining the Helioprojective Coordinates for the coronagraphic data with high precision is an important but challenging step for further research with other multi-wavelength data. In this paper, we propose an automatic coronal image registration method that combines local statistical correlation and feature point matching to achieve accurate registration between ground-based coronal green-line images and space-based 211 Å images. Then, the accurate field of view information of the coronal green-line images can be derived, allowing the images to be mapped to the Helioprojective Cartesian Coordinates with an accuracy of no less than 0.1''. This method has been extensively validated using 100 days of coronal data spanning an 11-year period, demonstrating its broad applicability to ground-based coronagraphs equipped with green-line observations. It significantly enhances the scientific value of ground-based coronal data, enabling comprehensive studies of coronal transient activities and facilitating the joint analysis of data from multiple instruments. Additionally, it holds potential for future applications in improving the pointing accuracy of coronagraphs.         |\n",
       "|<p style=\"color:green\"> **ERROR** </p>| <p style=\"color:green\">affiliation error: mpia.affiliation_verifications: 'Heidelberg' keyword not found.</p> |"
      ],
      "text/plain": [
       "<IPython.core.display.Markdown object>"
      ]
     },
     "metadata": {},
     "output_type": "display_data"
    }
   ],
   "source": [
    "import datetime\n",
    "today = str(datetime.date.today())\n",
    "logfile = f\"_build/html/logs/log-{today}.md\"\n",
    "\n",
    "\n",
    "with open(logfile, 'w') as logs:\n",
    "    # Success\n",
    "    logs.write(f'# Arxiv on Deck 2: Logs - {today}\\n\\n')\n",
    "    logs.write(\"\"\"* Arxiv had {0:,d} new papers\\n\"\"\".format(len(new_papers)))\n",
    "    logs.write(\"\"\"    * {0:,d} with possible author matches\\n\\n\"\"\".format(len(candidates)))\n",
    "    logs.write(\"## Sucessful papers\\n\\n\")\n",
    "    display(Markdown(\"## Successful papers\"))\n",
    "    success = [k[0] for k in documents]\n",
    "    for candid in candidates:\n",
    "        if candid['identifier'].split(':')[-1] in success:\n",
    "            display(candid)\n",
    "            logs.write(candid.generate_markdown_text() + '\\n\\n')\n",
    "\n",
    "    ## failed\n",
    "    logs.write(\"## Failed papers\\n\\n\")\n",
    "    display(Markdown(\"## Failed papers\"))\n",
    "    failed = sorted(failed, key=lambda x: x[1])\n",
    "    current_reason = \"\"\n",
    "    for paper, reason in failed:\n",
    "        if 'affiliation' in reason:\n",
    "            color = 'green'\n",
    "        else:\n",
    "            color = 'red'\n",
    "        data = Markdown(\n",
    "                paper.generate_markdown_text() + \n",
    "                f'\\n|<p style=\"color:{color:s}\"> **ERROR** </p>| <p style=\"color:{color:s}\">{reason:s}</p> |'\n",
    "               )\n",
    "        if reason != current_reason:\n",
    "            logs.write(f'### {reason:s} \\n\\n')\n",
    "            current_reason = reason\n",
    "        logs.write(data.data + '\\n\\n')\n",
    "        \n",
    "        # only display here the important errors (all in logs)\n",
    "        # if color in ('red',):\n",
    "        display(data)"
   ]
  },
  {
   "cell_type": "markdown",
   "id": "472d20ee",
   "metadata": {
    "papermill": {
     "duration": 0.004765,
     "end_time": "2025-07-24T04:32:18.734557",
     "exception": false,
     "start_time": "2025-07-24T04:32:18.729792",
     "status": "completed"
    },
    "tags": []
   },
   "source": [
    "## Export documents\n",
    "\n",
    "We now write the .md files and export relevant images"
   ]
  },
  {
   "cell_type": "code",
   "execution_count": 7,
   "id": "d426aed9",
   "metadata": {
    "execution": {
     "iopub.execute_input": "2025-07-24T04:32:18.743916Z",
     "iopub.status.busy": "2025-07-24T04:32:18.743687Z",
     "iopub.status.idle": "2025-07-24T04:32:18.750231Z",
     "shell.execute_reply": "2025-07-24T04:32:18.749690Z"
    },
    "papermill": {
     "duration": 0.012396,
     "end_time": "2025-07-24T04:32:18.751201",
     "exception": false,
     "start_time": "2025-07-24T04:32:18.738805",
     "status": "completed"
    },
    "tags": []
   },
   "outputs": [],
   "source": [
    "def export_markdown_summary(md: str, md_fname:str, directory: str):\n",
    "    \"\"\"Export MD document and associated relevant images\"\"\"\n",
    "    import os\n",
    "    import shutil\n",
    "    import re\n",
    "\n",
    "    if (os.path.exists(directory) and not os.path.isdir(directory)):\n",
    "        raise RuntimeError(f\"a non-directory file exists with name {directory:s}\")\n",
    "\n",
    "    if (not os.path.exists(directory)):\n",
    "        print(f\"creating directory {directory:s}\")\n",
    "        os.mkdir(directory)\n",
    "\n",
    "    fig_fnames = (re.compile(r'\\[Fig.*\\]\\((.*)\\)').findall(md) + \n",
    "                  re.compile(r'\\<img src=\"([^>\\s]*)\"[^>]*/>').findall(md))\n",
    "    print(\"found figures\", fig_fnames)\n",
    "    for fname in fig_fnames:\n",
    "        if 'http' in fname:\n",
    "            # No need to copy online figures\n",
    "            continue\n",
    "        if not os.path.exists(fname):\n",
    "            print(\"file not found\", fname)\n",
    "            continue\n",
    "        print(\"copying \", fname, \"to\", directory)\n",
    "        destdir = os.path.join(directory, os.path.dirname(fname))\n",
    "        destfname = os.path.join(destdir, os.path.basename(fname))\n",
    "        try:\n",
    "            os.makedirs(destdir)\n",
    "        except FileExistsError:\n",
    "            pass\n",
    "        shutil.copy(fname, destfname)\n",
    "    with open(os.path.join(directory, md_fname), 'w') as fout:\n",
    "        fout.write(md)\n",
    "    print(\"exported in \", os.path.join(directory, md_fname))\n",
    "    [print(\"    + \" + os.path.join(directory,fk)) for fk in fig_fnames]"
   ]
  },
  {
   "cell_type": "code",
   "execution_count": 8,
   "id": "014d04a4",
   "metadata": {
    "execution": {
     "iopub.execute_input": "2025-07-24T04:32:18.760682Z",
     "iopub.status.busy": "2025-07-24T04:32:18.760453Z",
     "iopub.status.idle": "2025-07-24T04:32:18.767353Z",
     "shell.execute_reply": "2025-07-24T04:32:18.766813Z"
    },
    "papermill": {
     "duration": 0.012841,
     "end_time": "2025-07-24T04:32:18.768392",
     "exception": false,
     "start_time": "2025-07-24T04:32:18.755551",
     "status": "completed"
    },
    "tags": []
   },
   "outputs": [
    {
     "name": "stdout",
     "output_type": "stream",
     "text": [
      "found figures ['tmp_2507.16899/./Figures/xshyne_sequence_full.png', 'tmp_2507.16899/./Figures/lum.png', 'tmp_2507.16899/./Figures/tem.png']\n",
      "copying  tmp_2507.16899/./Figures/xshyne_sequence_full.png to _build/html/\n",
      "copying  tmp_2507.16899/./Figures/lum.png to _build/html/\n",
      "copying  tmp_2507.16899/./Figures/tem.png to _build/html/\n",
      "exported in  _build/html/2507.16899.md\n",
      "    + _build/html/tmp_2507.16899/./Figures/xshyne_sequence_full.png\n",
      "    + _build/html/tmp_2507.16899/./Figures/lum.png\n",
      "    + _build/html/tmp_2507.16899/./Figures/tem.png\n"
     ]
    }
   ],
   "source": [
    "for paper_id, md in documents:\n",
    "    export_markdown_summary(md, f\"{paper_id:s}.md\", '_build/html/')"
   ]
  },
  {
   "cell_type": "markdown",
   "id": "f087a0a7",
   "metadata": {
    "papermill": {
     "duration": 0.004384,
     "end_time": "2025-07-24T04:32:18.777415",
     "exception": false,
     "start_time": "2025-07-24T04:32:18.773031",
     "status": "completed"
    },
    "tags": []
   },
   "source": [
    "## Display the papers\n",
    "\n",
    "Not necessary but allows for a quick check."
   ]
  },
  {
   "cell_type": "code",
   "execution_count": 9,
   "id": "fd25f625",
   "metadata": {
    "execution": {
     "iopub.execute_input": "2025-07-24T04:32:18.786960Z",
     "iopub.status.busy": "2025-07-24T04:32:18.786761Z",
     "iopub.status.idle": "2025-07-24T04:32:18.791105Z",
     "shell.execute_reply": "2025-07-24T04:32:18.790569Z"
    },
    "papermill": {
     "duration": 0.010297,
     "end_time": "2025-07-24T04:32:18.792073",
     "exception": false,
     "start_time": "2025-07-24T04:32:18.781776",
     "status": "completed"
    },
    "scrolled": false,
    "tags": []
   },
   "outputs": [
    {
     "data": {
      "text/markdown": [
       "<div class=\"macros\" style=\"visibility:hidden;\">\n",
       "$\\newcommand{\\ensuremath}{}$\n",
       "$\\newcommand{\\xspace}{}$\n",
       "$\\newcommand{\\object}[1]{\\texttt{#1}}$\n",
       "$\\newcommand{\\farcs}{{.}''}$\n",
       "$\\newcommand{\\farcm}{{.}'}$\n",
       "$\\newcommand{\\arcsec}{''}$\n",
       "$\\newcommand{\\arcmin}{'}$\n",
       "$\\newcommand{\\ion}[2]{#1#2}$\n",
       "$\\newcommand{\\textsc}[1]{\\textrm{#1}}$\n",
       "$\\newcommand{\\hl}[1]{\\textrm{#1}}$\n",
       "$\\newcommand{\\footnote}[1]{}$\n",
       "$\\newcommand{\\mic}{\\ensuremath{\\upmu}m\\xspace}$\n",
       "$\\newcommand{\\Teff}{\\ensuremath{\\mathrm{T_{eff}}}\\xspace}$\n",
       "$\\newcommand{\\fsed}{\\ensuremath{\\mathrm{f_{sed}}}\\xspace}$\n",
       "$\\newcommand{\\kzz}{\\ensuremath{\\mathrm{K_{ZZ}}}\\xspace}$\n",
       "$\\newcommand{\\Rjup}{\\ensuremath{\\mathrm{R_{Jup}}}\\xspace}$\n",
       "$\\newcommand{\\Mjup}{\\ensuremath{\\mathrm{M_{Jup}}}\\xspace}$\n",
       "$\\newcommand{\\Lbol}{\\ensuremath{\\mathrm{L_{bol}}}\\xspace}$\n",
       "$\\newcommand{\\Rlam}{\\ensuremath{\\mathrm{R_{\\uplambda}}}\\xspace}$\n",
       "$\\newcommand{\\chr}{\\ensuremath{\\mathrm{\\chi^{2}_{r}}}\\xspace}$\n",
       "$\\newcommand{\\ab}[1]{\\textcolor{red}{AB: #1}}$</div>\n",
       "\n",
       "\n",
       "\n",
       "<div id=\"title\">\n",
       "\n",
       "# X-SHYNE: X-Shooter spectra of young exoplanet analogs$\\thanks{Based on observations collected at the European Organization for Astronomical Research in the Southern Hemisphere under ESO programs 0101.C-0290; 0102.C-0121; 0103.C-0231; 0104.C-0094; 111.24PX.001; and 114.27B1.001}$: II. Presentation and analysis of the full library\n",
       "\n",
       "</div>\n",
       "<div id=\"comments\">\n",
       "\n",
       "[![arXiv](https://img.shields.io/badge/arXiv-2507.16899-b31b1b.svg)](https://arxiv.org/abs/2507.16899)<mark>Appeared on: 2025-07-24</mark> -  _28 pages, 18 figures, 6 tables_\n",
       "\n",
       "</div>\n",
       "<div id=\"authors\">\n",
       "\n",
       "S. Petrus, et al. -- incl., <mark>G. Chauvin</mark>, <mark>M. Ravet</mark>, <mark>P. Mollière</mark>\n",
       "\n",
       "</div>\n",
       "<div id=\"abstract\">\n",
       "\n",
       "**Abstract:** The characterization of exoplanetary spectra is a crucial step in understanding the chemical and physical processes shaping their atmospheres and constraining their formation and evolutionary history. The X-SHYNE library is a homogeneous sample of 43 medium-resolution ( $\\Rlam$  $\\sim$ 8000) infrared (0.3–2.5 $\\mic$ ) spectra of young ( $<$ 500 Myr), low-mass ( $<$ 20 $\\Mjup$ ), and cold ( $\\Teff$  $\\sim$ 600–2000 K) isolated brown dwarfs and wide-separation companions observed with the VLT/X-Shooter instrument. To characterize our targets, we performed a global comparative analysis. We first applied a semi-empirical approach. By refining their age and bolometric luminosity, we derived key atmospheric and physical properties, such as $\\Teff$ , mass, surface gravity (g), and radius, using the evolutionary model \\texttt{COND03} . These results were then compared with the results from a synthetic analysis based on three self-consistent atmospheric models: the cloudy models \\texttt{Exo-REM} and \\texttt{Sonora Diamondback} , and the cloudless model \\texttt{ATMO} . To compare our spectra with these grids we used the Bayesian inference code \\texttt{ForMoSA} . We found similar $\\Lbol$ estimates between both approaches, but an underestimated $\\Teff$ from the cloudy models, likely due to a lack of absorbers that could dominate the J and H bands of early L. We also observed a discrepancy in the log(g) estimates, which are dispersed between 3.5 and 5.5 dex for mid-L objects. We interpreted this as a bias caused by a range of rotational velocities leading to cloud migration toward equatorial latitudes, combined with a variety of viewing angles that result in different observed atmospheric properties (cloud column densities, atmospheric pressures, etc.). This interpretation is supported by the correlation of the color anomaly $\\Delta$ (J-K) of each object with log(g) and the parameter $\\fsed$ that drives the sedimentation of the clouds. Finally, while providing robust estimates of [ M/H ] and C/O for individual objects remains challenging, the X-SHYNE library globally suggests solar values, which are consistent with a formation via stellar formation mechanisms. This study highlights the strength of homogeneous datasets in performing comparative analyses, reducing the impact of systematics, and ensuring robust conclusions while avoiding over-interpretation.\n",
       "\n",
       "</div>\n",
       "\n",
       "<div id=\"div_fig1\">\n",
       "\n",
       "<img src=\"tmp_2507.16899/./Figures/xshyne_sequence_full.png\" alt=\"Fig4\" width=\"100%\"/>\n",
       "\n",
       "**Figure 4. -** Sequence of the X-SHYNE spectra. The integrated flux between 1.2 and 1.3 $\\mic$ normalized the spectra, and an offset was applied. The color of each spectrum indicates its spectral type. Several zooms are given in Figures \\ref{fig:sequence_VIS_wav}, \\ref{fig:sequence_Y_wav}, \\ref{fig:sequence_J_wav}, \\ref{fig:sequence_H_wav}, and \\ref{fig:sequence_K_wav}. (*fig:sequence_full_wav*)\n",
       "\n",
       "</div>\n",
       "<div id=\"div_fig2\">\n",
       "\n",
       "<img src=\"tmp_2507.16899/./Figures/lum.png\" alt=\"Fig8\" width=\"100%\"/>\n",
       "\n",
       "**Figure 8. -** $\\Lbol$ estimated from each model grid and for each spectral range using the Stefan-Boltzmann law, based on the estimated $\\Teff$(see Figure \\ref{fig:tem}) and radius (see Figure \\ref{fig:rad}). Objects with a negative color anomaly are represented by small light dots, while those with a positive color anomaly are shown as large deep dots. The $\\Lbol$ values derived from the reconstructed SED (see Section \\ref{sec:semiempirical_Lbol}) are indicated by red crosses. (*fig:lum*)\n",
       "\n",
       "</div>\n",
       "<div id=\"div_fig3\">\n",
       "\n",
       "<img src=\"tmp_2507.16899/./Figures/tem.png\" alt=\"Fig9\" width=\"100%\"/>\n",
       "\n",
       "**Figure 9. -** Same as in Figure \\ref{fig:lum}, but for the $\\Teff$. The boundaries of each model grid are represented by the filled colored regions. (*fig:tem*)\n",
       "\n",
       "</div><div id=\"qrcode\"><img src=https://api.qrserver.com/v1/create-qr-code/?size=100x100&data=\"https://arxiv.org/abs/2507.16899\"></div>"
      ],
      "text/plain": [
       "<IPython.core.display.Markdown object>"
      ]
     },
     "metadata": {},
     "output_type": "display_data"
    }
   ],
   "source": [
    "[display(Markdown(k[1])) for k in documents];"
   ]
  },
  {
   "cell_type": "markdown",
   "id": "873873a4",
   "metadata": {
    "papermill": {
     "duration": 0.004661,
     "end_time": "2025-07-24T04:32:18.801626",
     "exception": false,
     "start_time": "2025-07-24T04:32:18.796965",
     "status": "completed"
    },
    "tags": []
   },
   "source": [
    "# Create HTML index"
   ]
  },
  {
   "cell_type": "code",
   "execution_count": 10,
   "id": "cf665672",
   "metadata": {
    "execution": {
     "iopub.execute_input": "2025-07-24T04:32:18.811591Z",
     "iopub.status.busy": "2025-07-24T04:32:18.811342Z",
     "iopub.status.idle": "2025-07-24T04:32:18.818783Z",
     "shell.execute_reply": "2025-07-24T04:32:18.818230Z"
    },
    "papermill": {
     "duration": 0.013576,
     "end_time": "2025-07-24T04:32:18.819761",
     "exception": false,
     "start_time": "2025-07-24T04:32:18.806185",
     "status": "completed"
    },
    "tags": []
   },
   "outputs": [
    {
     "name": "stdout",
     "output_type": "stream",
     "text": [
      "149  publications files modified in the last 7 days.\n"
     ]
    }
   ],
   "source": [
    "from datetime import datetime, timedelta, timezone\n",
    "from glob import glob\n",
    "import os\n",
    "\n",
    "files = glob('_build/html/*.md')\n",
    "days = 7\n",
    "now = datetime.today()\n",
    "res = []\n",
    "for fk in files:\n",
    "    stat_result = os.stat(fk).st_ctime\n",
    "    modified = datetime.fromtimestamp(stat_result, tz=timezone.utc).replace(tzinfo=None)\n",
    "    delta = now.today() - modified\n",
    "    if delta <= timedelta(days=days):\n",
    "        res.append((delta.seconds, fk))\n",
    "res = [k[1] for k in reversed(sorted(res, key=lambda x:x[1]))]\n",
    "npub = len(res)\n",
    "print(len(res), f\" publications files modified in the last {days:d} days.\")\n",
    "# [ print('\\t', k) for k in res ];"
   ]
  },
  {
   "cell_type": "code",
   "execution_count": 11,
   "id": "015de740",
   "metadata": {
    "execution": {
     "iopub.execute_input": "2025-07-24T04:32:18.829808Z",
     "iopub.status.busy": "2025-07-24T04:32:18.829624Z",
     "iopub.status.idle": "2025-07-24T04:32:18.841969Z",
     "shell.execute_reply": "2025-07-24T04:32:18.841437Z"
    },
    "papermill": {
     "duration": 0.018418,
     "end_time": "2025-07-24T04:32:18.842962",
     "exception": false,
     "start_time": "2025-07-24T04:32:18.824544",
     "status": "completed"
    },
    "tags": []
   },
   "outputs": [
    {
     "name": "stdout",
     "output_type": "stream",
     "text": [
      "16  publications in the last 7 days.\n"
     ]
    }
   ],
   "source": [
    "import datetime\n",
    "from glob import glob\n",
    "\n",
    "def get_last_n_days(lst, days=1):\n",
    "    \"\"\" Get the documents from the last n days \"\"\"\n",
    "    sorted_lst = sorted(lst, key=lambda x: x[1], reverse=True)\n",
    "    for fname, date in sorted_lst:\n",
    "        if date >= str(datetime.date.today() - datetime.timedelta(days=days)):\n",
    "            yield fname\n",
    "\n",
    "def extract_appearance_dates(lst_file):\n",
    "    dates = []\n",
    "\n",
    "    def get_date(line):\n",
    "        return line\\\n",
    "            .split('Appeared on:')[-1]\\\n",
    "            .split('</mark>')[0].strip()\n",
    "\n",
    "    for fname in lst:\n",
    "        with open(fname, 'r') as f:\n",
    "            found_date = False\n",
    "            for line in f:\n",
    "                if not found_date:\n",
    "                    if \"Appeared on\" in line:\n",
    "                        found_date = True\n",
    "                        dates.append((fname, get_date(line)))\n",
    "                else:\n",
    "                    break\n",
    "    return dates\n",
    "\n",
    "from glob import glob\n",
    "lst = glob('_build/html/*md')\n",
    "days = 7\n",
    "dates = extract_appearance_dates(lst)\n",
    "res = list(get_last_n_days(dates, days))\n",
    "npub = len(res)\n",
    "print(len(res), f\" publications in the last {days:d} days.\")"
   ]
  },
  {
   "cell_type": "code",
   "execution_count": 12,
   "id": "52ca0208",
   "metadata": {
    "execution": {
     "iopub.execute_input": "2025-07-24T04:32:18.853412Z",
     "iopub.status.busy": "2025-07-24T04:32:18.853178Z",
     "iopub.status.idle": "2025-07-24T04:32:18.858035Z",
     "shell.execute_reply": "2025-07-24T04:32:18.857382Z"
    },
    "papermill": {
     "duration": 0.011203,
     "end_time": "2025-07-24T04:32:18.859007",
     "exception": false,
     "start_time": "2025-07-24T04:32:18.847804",
     "status": "completed"
    },
    "scrolled": false,
    "tags": []
   },
   "outputs": [],
   "source": [
    "def create_carousel(npub=4):\n",
    "    \"\"\" Generate the HTML code for a carousel with `npub` slides \"\"\"\n",
    "    carousel = [\"\"\"  <div class=\"carousel\" \"\"\",\n",
    "                \"\"\"       data-flickity='{ \"autoPlay\": 10000, \"adaptiveHeight\": true, \"resize\": true, \"wrapAround\": true, \"pauseAutoPlayOnHover\": true, \"groupCells\": 1 }' id=\"asyncTypeset\">\"\"\"\n",
    "                ]\n",
    "    \n",
    "    item_str = \"\"\"    <div class=\"carousel-cell\"> <div id=\"slide{k}\" class=\"md_view\">Content {k}</div> </div>\"\"\"\n",
    "    for k in range(1, npub + 1):\n",
    "        carousel.append(item_str.format(k=k))\n",
    "    carousel.append(\"  </div>\")\n",
    "    return '\\n'.join(carousel)\n",
    "\n",
    "def create_grid(npub=4):\n",
    "    \"\"\" Generate the HTML code for a flat grid with `npub` slides \"\"\"\n",
    "    grid = [\"\"\"  <div class=\"grid\"> \"\"\",\n",
    "                ]\n",
    "    \n",
    "    item_str = \"\"\"    <div class=\"grid-item\"> <div id=\"slide{k}\" class=\"md_view\">Content {k}</div> </div>\"\"\"\n",
    "    for k in range(1, npub + 1):\n",
    "        grid.append(item_str.format(k=k))\n",
    "    grid.append(\"  </div>\")\n",
    "    return '\\n'.join(grid)"
   ]
  },
  {
   "cell_type": "code",
   "execution_count": 13,
   "id": "a6eac5b6",
   "metadata": {
    "execution": {
     "iopub.execute_input": "2025-07-24T04:32:18.869538Z",
     "iopub.status.busy": "2025-07-24T04:32:18.869312Z",
     "iopub.status.idle": "2025-07-24T04:32:18.874394Z",
     "shell.execute_reply": "2025-07-24T04:32:18.873849Z"
    },
    "papermill": {
     "duration": 0.011487,
     "end_time": "2025-07-24T04:32:18.875425",
     "exception": false,
     "start_time": "2025-07-24T04:32:18.863938",
     "status": "completed"
    },
    "scrolled": false,
    "tags": []
   },
   "outputs": [],
   "source": [
    "carousel = create_carousel(npub)\n",
    "docs = ', '.join(['\"{0:s}\"'.format(k.split('/')[-1]) for k in res])\n",
    "slides = ', '.join([f'\"slide{k}\"' for k in range(1, npub + 1)])\n",
    "\n",
    "with open(\"daily_template.html\", \"r\") as tpl:\n",
    "    page = tpl.read()\n",
    "    page = page.replace(\"{%-- carousel:s --%}\", carousel)\\\n",
    "               .replace(\"{%-- suptitle:s --%}\",  \"7-day archives\" )\\\n",
    "               .replace(\"{%-- docs:s --%}\", docs)\\\n",
    "               .replace(\"{%-- slides:s --%}\", slides)\n",
    "    \n",
    "with open(\"_build/html/index_7days.html\", 'w') as fout:\n",
    "    fout.write(page)"
   ]
  },
  {
   "cell_type": "code",
   "execution_count": 14,
   "id": "adc1a1ec",
   "metadata": {
    "execution": {
     "iopub.execute_input": "2025-07-24T04:32:18.885828Z",
     "iopub.status.busy": "2025-07-24T04:32:18.885643Z",
     "iopub.status.idle": "2025-07-24T04:32:18.891718Z",
     "shell.execute_reply": "2025-07-24T04:32:18.891131Z"
    },
    "papermill": {
     "duration": 0.012351,
     "end_time": "2025-07-24T04:32:18.892697",
     "exception": false,
     "start_time": "2025-07-24T04:32:18.880346",
     "status": "completed"
    },
    "tags": []
   },
   "outputs": [
    {
     "name": "stdout",
     "output_type": "stream",
     "text": [
      "3  publications in the last day.\n"
     ]
    }
   ],
   "source": [
    "# redo for today\n",
    "days = 1\n",
    "res = list(get_last_n_days(dates, days))\n",
    "npub = len(res)\n",
    "print(len(res), f\" publications in the last day.\")\n",
    "\n",
    "carousel = create_carousel(npub)\n",
    "docs = ', '.join(['\"{0:s}\"'.format(k.split('/')[-1]) for k in res])\n",
    "slides = ', '.join([f'\"slide{k}\"' for k in range(1, npub + 1)])\n",
    "\n",
    "with open(\"daily_template.html\", \"r\") as tpl:\n",
    "    page = tpl.read()\n",
    "    page = page.replace(\"{%-- carousel:s --%}\", carousel)\\\n",
    "               .replace(\"{%-- suptitle:s --%}\",  \"Daily\" )\\\n",
    "               .replace(\"{%-- docs:s --%}\", docs)\\\n",
    "               .replace(\"{%-- slides:s --%}\", slides)\n",
    "    \n",
    "# print(carousel, docs, slides)\n",
    "# print(page)\n",
    "with open(\"_build/html/index_daily.html\", 'w') as fout:\n",
    "    fout.write(page)"
   ]
  },
  {
   "cell_type": "code",
   "execution_count": 15,
   "id": "00eece82",
   "metadata": {
    "execution": {
     "iopub.execute_input": "2025-07-24T04:32:18.903459Z",
     "iopub.status.busy": "2025-07-24T04:32:18.903256Z",
     "iopub.status.idle": "2025-07-24T04:32:18.909189Z",
     "shell.execute_reply": "2025-07-24T04:32:18.908665Z"
    },
    "papermill": {
     "duration": 0.01239,
     "end_time": "2025-07-24T04:32:18.910155",
     "exception": false,
     "start_time": "2025-07-24T04:32:18.897765",
     "status": "completed"
    },
    "scrolled": false,
    "tags": []
   },
   "outputs": [
    {
     "name": "stdout",
     "output_type": "stream",
     "text": [
      "6  6 publications selected.\n"
     ]
    }
   ],
   "source": [
    "# Create the flat grid of the last N papers (fixed number regardless of dates)\n",
    "from itertools import islice \n",
    "\n",
    "npub = 6\n",
    "res = [k[0] for k in (islice(reversed(sorted(dates, key=lambda x: x[1])), 6))]\n",
    "print(len(res), f\" {npub} publications selected.\")\n",
    "\n",
    "grid = create_grid(npub)\n",
    "docs = ', '.join(['\"{0:s}\"'.format(k.split('/')[-1]) for k in res])\n",
    "slides = ', '.join([f'\"slide{k}\"' for k in range(1, npub + 1)])\n",
    "\n",
    "with open(\"grid_template.html\", \"r\") as tpl:\n",
    "    page = tpl.read()\n",
    "    page = page.replace(\"{%-- grid-content:s --%}\", grid)\\\n",
    "               .replace(\"{%-- suptitle:s --%}\",  f\"Last {npub:,d} papers\" )\\\n",
    "               .replace(\"{%-- docs:s --%}\", docs)\\\n",
    "               .replace(\"{%-- slides:s --%}\", slides)\n",
    "    \n",
    "# print(grid, docs, slides)\n",
    "# print(page)\n",
    "with open(\"_build/html/index_npub_grid.html\", 'w') as fout:\n",
    "    fout.write(page)"
   ]
  }
 ],
 "metadata": {
  "kernelspec": {
   "display_name": "Python 3 (ipykernel)",
   "language": "python",
   "name": "python3"
  },
  "language_info": {
   "codemirror_mode": {
    "name": "ipython",
    "version": 3
   },
   "file_extension": ".py",
   "mimetype": "text/x-python",
   "name": "python",
   "nbconvert_exporter": "python",
   "pygments_lexer": "ipython3",
   "version": "3.9.23"
  },
  "papermill": {
   "default_parameters": {},
   "duration": 65.336111,
   "end_time": "2025-07-24T04:32:19.130651",
   "environment_variables": {},
   "exception": null,
   "input_path": "MPIA daily digest.ipynb",
   "output_path": "log.ipynb",
   "parameters": {},
   "start_time": "2025-07-24T04:31:13.794540",
   "version": "2.6.0"
  },
  "vscode": {
   "interpreter": {
    "hash": "aee8b7b246df8f9039afb4144a1f6fd8d2ca17a180786b69acc140d282b71a49"
   }
  },
  "widgets": {
   "application/vnd.jupyter.widget-state+json": {
    "state": {
     "0e7b972934a845ae92ed52c3dc8e5e52": {
      "model_module": "@jupyter-widgets/base",
      "model_module_version": "2.0.0",
      "model_name": "LayoutModel",
      "state": {
       "_model_module": "@jupyter-widgets/base",
       "_model_module_version": "2.0.0",
       "_model_name": "LayoutModel",
       "_view_count": null,
       "_view_module": "@jupyter-widgets/base",
       "_view_module_version": "2.0.0",
       "_view_name": "LayoutView",
       "align_content": null,
       "align_items": null,
       "align_self": null,
       "border_bottom": null,
       "border_left": null,
       "border_right": null,
       "border_top": null,
       "bottom": null,
       "display": null,
       "flex": null,
       "flex_flow": null,
       "grid_area": null,
       "grid_auto_columns": null,
       "grid_auto_flow": null,
       "grid_auto_rows": null,
       "grid_column": null,
       "grid_gap": null,
       "grid_row": null,
       "grid_template_areas": null,
       "grid_template_columns": null,
       "grid_template_rows": null,
       "height": null,
       "justify_content": null,
       "justify_items": null,
       "left": null,
       "margin": null,
       "max_height": null,
       "max_width": null,
       "min_height": null,
       "min_width": null,
       "object_fit": null,
       "object_position": null,
       "order": null,
       "overflow": null,
       "padding": null,
       "right": null,
       "top": null,
       "visibility": null,
       "width": null
      }
     },
     "1f961a5c3f2e43918bf9a08b2cc1b58a": {
      "model_module": "@jupyter-widgets/controls",
      "model_module_version": "2.0.0",
      "model_name": "HTMLModel",
      "state": {
       "_dom_classes": [],
       "_model_module": "@jupyter-widgets/controls",
       "_model_module_version": "2.0.0",
       "_model_name": "HTMLModel",
       "_view_count": null,
       "_view_module": "@jupyter-widgets/controls",
       "_view_module_version": "2.0.0",
       "_view_name": "HTMLView",
       "description": "",
       "description_allow_html": false,
       "layout": "IPY_MODEL_0e7b972934a845ae92ed52c3dc8e5e52",
       "placeholder": "​",
       "style": "IPY_MODEL_4e79fb9c43c54c1881bcfd0e220969f0",
       "tabbable": null,
       "tooltip": null,
       "value": " 5/5 [00:44&lt;00:00,  4.00s/it]"
      }
     },
     "2055d48fdb7f4e3196fe13dc89f01ea6": {
      "model_module": "@jupyter-widgets/controls",
      "model_module_version": "2.0.0",
      "model_name": "FloatProgressModel",
      "state": {
       "_dom_classes": [],
       "_model_module": "@jupyter-widgets/controls",
       "_model_module_version": "2.0.0",
       "_model_name": "FloatProgressModel",
       "_view_count": null,
       "_view_module": "@jupyter-widgets/controls",
       "_view_module_version": "2.0.0",
       "_view_name": "ProgressView",
       "bar_style": "success",
       "description": "",
       "description_allow_html": false,
       "layout": "IPY_MODEL_34e0decafa97406a87f7e82e3fcd9bef",
       "max": 5.0,
       "min": 0.0,
       "orientation": "horizontal",
       "style": "IPY_MODEL_383f26975a784fa6b449e89f52ee7a62",
       "tabbable": null,
       "tooltip": null,
       "value": 5.0
      }
     },
     "280e51fddfc54d30ad09a96f3486880b": {
      "model_module": "@jupyter-widgets/base",
      "model_module_version": "2.0.0",
      "model_name": "LayoutModel",
      "state": {
       "_model_module": "@jupyter-widgets/base",
       "_model_module_version": "2.0.0",
       "_model_name": "LayoutModel",
       "_view_count": null,
       "_view_module": "@jupyter-widgets/base",
       "_view_module_version": "2.0.0",
       "_view_name": "LayoutView",
       "align_content": null,
       "align_items": null,
       "align_self": null,
       "border_bottom": null,
       "border_left": null,
       "border_right": null,
       "border_top": null,
       "bottom": null,
       "display": null,
       "flex": null,
       "flex_flow": null,
       "grid_area": null,
       "grid_auto_columns": null,
       "grid_auto_flow": null,
       "grid_auto_rows": null,
       "grid_column": null,
       "grid_gap": null,
       "grid_row": null,
       "grid_template_areas": null,
       "grid_template_columns": null,
       "grid_template_rows": null,
       "height": null,
       "justify_content": null,
       "justify_items": null,
       "left": null,
       "margin": null,
       "max_height": null,
       "max_width": null,
       "min_height": null,
       "min_width": null,
       "object_fit": null,
       "object_position": null,
       "order": null,
       "overflow": null,
       "padding": null,
       "right": null,
       "top": null,
       "visibility": null,
       "width": null
      }
     },
     "34e0decafa97406a87f7e82e3fcd9bef": {
      "model_module": "@jupyter-widgets/base",
      "model_module_version": "2.0.0",
      "model_name": "LayoutModel",
      "state": {
       "_model_module": "@jupyter-widgets/base",
       "_model_module_version": "2.0.0",
       "_model_name": "LayoutModel",
       "_view_count": null,
       "_view_module": "@jupyter-widgets/base",
       "_view_module_version": "2.0.0",
       "_view_name": "LayoutView",
       "align_content": null,
       "align_items": null,
       "align_self": null,
       "border_bottom": null,
       "border_left": null,
       "border_right": null,
       "border_top": null,
       "bottom": null,
       "display": null,
       "flex": null,
       "flex_flow": null,
       "grid_area": null,
       "grid_auto_columns": null,
       "grid_auto_flow": null,
       "grid_auto_rows": null,
       "grid_column": null,
       "grid_gap": null,
       "grid_row": null,
       "grid_template_areas": null,
       "grid_template_columns": null,
       "grid_template_rows": null,
       "height": null,
       "justify_content": null,
       "justify_items": null,
       "left": null,
       "margin": null,
       "max_height": null,
       "max_width": null,
       "min_height": null,
       "min_width": null,
       "object_fit": null,
       "object_position": null,
       "order": null,
       "overflow": null,
       "padding": null,
       "right": null,
       "top": null,
       "visibility": null,
       "width": null
      }
     },
     "383f26975a784fa6b449e89f52ee7a62": {
      "model_module": "@jupyter-widgets/controls",
      "model_module_version": "2.0.0",
      "model_name": "ProgressStyleModel",
      "state": {
       "_model_module": "@jupyter-widgets/controls",
       "_model_module_version": "2.0.0",
       "_model_name": "ProgressStyleModel",
       "_view_count": null,
       "_view_module": "@jupyter-widgets/base",
       "_view_module_version": "2.0.0",
       "_view_name": "StyleView",
       "bar_color": null,
       "description_width": ""
      }
     },
     "3dc5f44961c8471ea924c351dc8eacaf": {
      "model_module": "@jupyter-widgets/controls",
      "model_module_version": "2.0.0",
      "model_name": "HBoxModel",
      "state": {
       "_dom_classes": [],
       "_model_module": "@jupyter-widgets/controls",
       "_model_module_version": "2.0.0",
       "_model_name": "HBoxModel",
       "_view_count": null,
       "_view_module": "@jupyter-widgets/controls",
       "_view_module_version": "2.0.0",
       "_view_name": "HBoxView",
       "box_style": "",
       "children": [
        "IPY_MODEL_f17784d7770b4f289beda15926ae94d9",
        "IPY_MODEL_2055d48fdb7f4e3196fe13dc89f01ea6",
        "IPY_MODEL_1f961a5c3f2e43918bf9a08b2cc1b58a"
       ],
       "layout": "IPY_MODEL_280e51fddfc54d30ad09a96f3486880b",
       "tabbable": null,
       "tooltip": null
      }
     },
     "4e79fb9c43c54c1881bcfd0e220969f0": {
      "model_module": "@jupyter-widgets/controls",
      "model_module_version": "2.0.0",
      "model_name": "HTMLStyleModel",
      "state": {
       "_model_module": "@jupyter-widgets/controls",
       "_model_module_version": "2.0.0",
       "_model_name": "HTMLStyleModel",
       "_view_count": null,
       "_view_module": "@jupyter-widgets/base",
       "_view_module_version": "2.0.0",
       "_view_name": "StyleView",
       "background": null,
       "description_width": "",
       "font_size": null,
       "text_color": null
      }
     },
     "58edc3f7981c49f7aefae973d1a67b8c": {
      "model_module": "@jupyter-widgets/controls",
      "model_module_version": "2.0.0",
      "model_name": "HTMLStyleModel",
      "state": {
       "_model_module": "@jupyter-widgets/controls",
       "_model_module_version": "2.0.0",
       "_model_name": "HTMLStyleModel",
       "_view_count": null,
       "_view_module": "@jupyter-widgets/base",
       "_view_module_version": "2.0.0",
       "_view_name": "StyleView",
       "background": null,
       "description_width": "",
       "font_size": null,
       "text_color": null
      }
     },
     "71933bcfd9bc4b909889859c5497df27": {
      "model_module": "@jupyter-widgets/base",
      "model_module_version": "2.0.0",
      "model_name": "LayoutModel",
      "state": {
       "_model_module": "@jupyter-widgets/base",
       "_model_module_version": "2.0.0",
       "_model_name": "LayoutModel",
       "_view_count": null,
       "_view_module": "@jupyter-widgets/base",
       "_view_module_version": "2.0.0",
       "_view_name": "LayoutView",
       "align_content": null,
       "align_items": null,
       "align_self": null,
       "border_bottom": null,
       "border_left": null,
       "border_right": null,
       "border_top": null,
       "bottom": null,
       "display": null,
       "flex": null,
       "flex_flow": null,
       "grid_area": null,
       "grid_auto_columns": null,
       "grid_auto_flow": null,
       "grid_auto_rows": null,
       "grid_column": null,
       "grid_gap": null,
       "grid_row": null,
       "grid_template_areas": null,
       "grid_template_columns": null,
       "grid_template_rows": null,
       "height": null,
       "justify_content": null,
       "justify_items": null,
       "left": null,
       "margin": null,
       "max_height": null,
       "max_width": null,
       "min_height": null,
       "min_width": null,
       "object_fit": null,
       "object_position": null,
       "order": null,
       "overflow": null,
       "padding": null,
       "right": null,
       "top": null,
       "visibility": null,
       "width": null
      }
     },
     "f17784d7770b4f289beda15926ae94d9": {
      "model_module": "@jupyter-widgets/controls",
      "model_module_version": "2.0.0",
      "model_name": "HTMLModel",
      "state": {
       "_dom_classes": [],
       "_model_module": "@jupyter-widgets/controls",
       "_model_module_version": "2.0.0",
       "_model_name": "HTMLModel",
       "_view_count": null,
       "_view_module": "@jupyter-widgets/controls",
       "_view_module_version": "2.0.0",
       "_view_name": "HTMLView",
       "description": "",
       "description_allow_html": false,
       "layout": "IPY_MODEL_71933bcfd9bc4b909889859c5497df27",
       "placeholder": "​",
       "style": "IPY_MODEL_58edc3f7981c49f7aefae973d1a67b8c",
       "tabbable": null,
       "tooltip": null,
       "value": "100%"
      }
     }
    },
    "version_major": 2,
    "version_minor": 0
   }
  }
 },
 "nbformat": 4,
 "nbformat_minor": 5
}