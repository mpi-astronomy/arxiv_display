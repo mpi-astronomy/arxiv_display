{
 "cells": [
  {
   "cell_type": "markdown",
   "id": "92bcb855",
   "metadata": {
    "papermill": {
     "duration": 0.005848,
     "end_time": "2023-07-19T04:15:14.989116",
     "exception": false,
     "start_time": "2023-07-19T04:15:14.983268",
     "status": "completed"
    },
    "tags": []
   },
   "source": [
    "# MPIA Arxiv on Deck 2\n",
    "\n",
    "Contains the steps to produce the paper extractions."
   ]
  },
  {
   "cell_type": "code",
   "execution_count": 1,
   "id": "3a0d6e11",
   "metadata": {
    "execution": {
     "iopub.execute_input": "2023-07-19T04:15:15.000897Z",
     "iopub.status.busy": "2023-07-19T04:15:15.000185Z",
     "iopub.status.idle": "2023-07-19T04:15:15.289761Z",
     "shell.execute_reply": "2023-07-19T04:15:15.288860Z"
    },
    "papermill": {
     "duration": 0.298032,
     "end_time": "2023-07-19T04:15:15.292075",
     "exception": false,
     "start_time": "2023-07-19T04:15:14.994043",
     "status": "completed"
    },
    "tags": []
   },
   "outputs": [],
   "source": [
    "# Imports\n",
    "import os\n",
    "from IPython.display import Markdown, display\n",
    "from tqdm.notebook import tqdm\n",
    "import warnings\n",
    "from PIL import Image \n",
    "\n",
    "# requires arxiv_on_deck_2\n",
    "\n",
    "from arxiv_on_deck_2.arxiv2 import (get_new_papers, \n",
    "                                    get_paper_from_identifier,\n",
    "                                    retrieve_document_source, \n",
    "                                    get_markdown_badge)\n",
    "from arxiv_on_deck_2 import (latex,\n",
    "                             latex_bib,\n",
    "                             mpia,\n",
    "                             highlight_authors_in_list)\n",
    "\n",
    "# Sometimes images are really big\n",
    "Image.MAX_IMAGE_PIXELS = 1000000000 "
   ]
  },
  {
   "cell_type": "code",
   "execution_count": 2,
   "id": "22aa9d44",
   "metadata": {
    "execution": {
     "iopub.execute_input": "2023-07-19T04:15:15.303123Z",
     "iopub.status.busy": "2023-07-19T04:15:15.302787Z",
     "iopub.status.idle": "2023-07-19T04:15:15.311995Z",
     "shell.execute_reply": "2023-07-19T04:15:15.311064Z"
    },
    "papermill": {
     "duration": 0.017442,
     "end_time": "2023-07-19T04:15:15.314056",
     "exception": false,
     "start_time": "2023-07-19T04:15:15.296614",
     "status": "completed"
    },
    "tags": []
   },
   "outputs": [],
   "source": [
    "# Some useful definitions.\n",
    "\n",
    "class AffiliationWarning(UserWarning):\n",
    "    pass\n",
    "\n",
    "class AffiliationError(RuntimeError):\n",
    "    pass\n",
    "\n",
    "def validation(source: str):\n",
    "    \"\"\"Raises error paper during parsing of source file\n",
    "    \n",
    "    Allows checks before parsing TeX code.\n",
    "    \n",
    "    Raises AffiliationWarning\n",
    "    \"\"\"\n",
    "    check = mpia.affiliation_verifications(source, verbose=True)\n",
    "    if check is not True:\n",
    "        raise AffiliationError(\"mpia.affiliation_verifications: \" + check)\n",
    "\n",
    "        \n",
    "warnings.simplefilter('always', AffiliationWarning)\n",
    "\n",
    "\n",
    "def get_markdown_qrcode(paper_id: str):\n",
    "    \"\"\" Generate a qrcode to the arxiv page using qrserver.com\n",
    "    \n",
    "    :param paper: Arxiv paper\n",
    "    :returns: markdown text\n",
    "    \"\"\"\n",
    "    url = r\"https://api.qrserver.com/v1/create-qr-code/?size=100x100&data=\"\n",
    "    txt = f\"\"\"<img src={url}\"https://arxiv.org/abs/{paper_id}\">\"\"\"\n",
    "    txt = '<div id=\"qrcode\">' + txt + '</div>'\n",
    "    return txt"
   ]
  },
  {
   "cell_type": "markdown",
   "id": "14bd6310",
   "metadata": {
    "papermill": {
     "duration": 0.00405,
     "end_time": "2023-07-19T04:15:15.322231",
     "exception": false,
     "start_time": "2023-07-19T04:15:15.318181",
     "status": "completed"
    },
    "tags": []
   },
   "source": [
    "## get list of arxiv paper candidates\n",
    "\n",
    "We use the MPIA mitarbeiter list webpage from mpia.de to get author names\n",
    "We then get all new papers from Arxiv and match authors"
   ]
  },
  {
   "cell_type": "code",
   "execution_count": 3,
   "id": "2645e73a",
   "metadata": {
    "execution": {
     "iopub.execute_input": "2023-07-19T04:15:15.332524Z",
     "iopub.status.busy": "2023-07-19T04:15:15.332203Z",
     "iopub.status.idle": "2023-07-19T04:15:42.668987Z",
     "shell.execute_reply": "2023-07-19T04:15:42.667880Z"
    },
    "papermill": {
     "duration": 27.344718,
     "end_time": "2023-07-19T04:15:42.670958",
     "exception": false,
     "start_time": "2023-07-19T04:15:15.326240",
     "status": "completed"
    },
    "tags": []
   },
   "outputs": [
    {
     "name": "stdout",
     "output_type": "stream",
     "text": [
      "X. Zhang  ->  X. Zhang  |  ['X. Zhang']\n",
      "M. Güdel  ->  M. Güdel  |  ['M. Güdel']\n",
      "G. Perotti  ->  G. Perotti  |  ['G. Perotti']\n",
      "M. Samland  ->  M. Samland  |  ['M. Samland']\n",
      "J. Bouwman  ->  J. Bouwman  |  ['J. Bouwman']\n",
      "S. Scheithauer  ->  S. Scheithauer  |  ['S. Scheithauer']\n",
      "J. Schreiber  ->  J. Schreiber  |  ['J. Schreiber']\n",
      "K. Schwarz  ->  K. Schwarz  |  ['K. Schwarz']\n",
      "Arxiv has 52 new papers today\n",
      "          2 with possible author matches\n"
     ]
    }
   ],
   "source": [
    "# get list from MPIA website\n",
    "# it automatically filters identified non-scientists :func:`mpia.filter_non_scientists`\n",
    "mpia_authors = mpia.get_mpia_mitarbeiter_list()\n",
    "normed_mpia_authors = [k[1] for k in mpia_authors]   # initials + fullname\n",
    "new_papers = get_new_papers()\n",
    "# add manual references\n",
    "add_paper_refs = []\n",
    "new_papers.extend([get_paper_from_identifier(k) for k in add_paper_refs])\n",
    "\n",
    "candidates = []\n",
    "for paperk in new_papers:\n",
    "    # Check author list with their initials\n",
    "    normed_author_list = [mpia.get_initials(k) for k in paperk['authors']]\n",
    "    hl_authors = highlight_authors_in_list(normed_author_list, normed_mpia_authors, verbose=True)\n",
    "    matches = [(hl, orig) for hl, orig in zip(hl_authors, paperk['authors']) if 'mark' in hl]\n",
    "    paperk['authors'] = hl_authors\n",
    "    if matches:\n",
    "        # only select paper if an author matched our list\n",
    "        candidates.append(paperk)\n",
    "print(\"\"\"Arxiv has {0:,d} new papers today\"\"\".format(len(new_papers)))        \n",
    "print(\"\"\"          {0:,d} with possible author matches\"\"\".format(len(candidates)))"
   ]
  },
  {
   "cell_type": "markdown",
   "id": "3543b34a",
   "metadata": {
    "papermill": {
     "duration": 0.007174,
     "end_time": "2023-07-19T04:15:42.682465",
     "exception": false,
     "start_time": "2023-07-19T04:15:42.675291",
     "status": "completed"
    },
    "tags": []
   },
   "source": [
    "# Parse sources and generate relevant outputs\n",
    "\n",
    "From the candidates, we do the following steps:\n",
    "* get their tarball from ArXiv (and extract data)\n",
    "* find the main .tex file: find one with \\documentclass{...} (sometimes it's non trivial)\n",
    "* Check affiliations with :func:`validation`, which uses :func:`mpia.affiliation_verifications`\n",
    "* If passing the affiliations: we parse the .tex source\n",
    "   * inject sub-documents into the main (flatten the main document)\n",
    "   * parse structure, extract information (title, abstract, authors, figures...)\n",
    "   * handles `\\graphicspath` if provided\n",
    "* Generate the .md document."
   ]
  },
  {
   "cell_type": "code",
   "execution_count": 4,
   "id": "9576b79e",
   "metadata": {
    "execution": {
     "iopub.execute_input": "2023-07-19T04:15:42.693659Z",
     "iopub.status.busy": "2023-07-19T04:15:42.693033Z",
     "iopub.status.idle": "2023-07-19T04:15:59.346767Z",
     "shell.execute_reply": "2023-07-19T04:15:59.345763Z"
    },
    "papermill": {
     "duration": 16.663278,
     "end_time": "2023-07-19T04:15:59.350477",
     "exception": false,
     "start_time": "2023-07-19T04:15:42.687199",
     "status": "completed"
    },
    "scrolled": false,
    "tags": []
   },
   "outputs": [
    {
     "data": {
      "application/vnd.jupyter.widget-view+json": {
       "model_id": "c2935045664d44a5b4c56a2b6130d7f5",
       "version_major": 2,
       "version_minor": 0
      },
      "text/plain": [
       "  0%|          | 0/2 [00:00<?, ?it/s]"
      ]
     },
     "metadata": {},
     "output_type": "display_data"
    },
    {
     "name": "stdout",
     "output_type": "stream",
     "text": [
      "Retrieving document from  https://arxiv.org/e-print/2307.09041\n"
     ]
    },
    {
     "name": "stdout",
     "output_type": "stream",
     "text": [
      "extracting tarball to tmp_2307.09041..."
     ]
    },
    {
     "name": "stdout",
     "output_type": "stream",
     "text": [
      " done.\n",
      "Retrieving document from  https://arxiv.org/e-print/2307.09301\n"
     ]
    },
    {
     "name": "stdout",
     "output_type": "stream",
     "text": [
      "extracting tarball to tmp_2307.09301..."
     ]
    },
    {
     "name": "stdout",
     "output_type": "stream",
     "text": [
      " done.\n"
     ]
    },
    {
     "name": "stdout",
     "output_type": "stream",
     "text": [
      "Found 94 bibliographic references in tmp_2307.09301/main.bbl.\n",
      "syntax error in line 81: '=' expected\n"
     ]
    }
   ],
   "source": [
    "documents = []\n",
    "failed = []\n",
    "for paper in tqdm(candidates):\n",
    "    paper_id = paper['identifier'].lower().replace('arxiv:', '')\n",
    "    \n",
    "    folder = f'tmp_{paper_id}'\n",
    "\n",
    "    try:\n",
    "        if not os.path.isdir(folder):\n",
    "            folder = retrieve_document_source(f\"{paper_id}\", f'tmp_{paper_id}')\n",
    "        \n",
    "        try:\n",
    "            doc = latex.LatexDocument(folder, validation=validation)    \n",
    "        except AffiliationError as affilerror:\n",
    "            msg = f\"ArXiv:{paper_id:s} is not an MPIA paper... \" + str(affilerror)\n",
    "            failed.append((paper, \"affiliation error: \" + str(affilerror) ))\n",
    "            continue\n",
    "        \n",
    "        # Hack because sometimes author parsing does not work well\n",
    "        if (len(doc.authors) != len(paper['authors'])):\n",
    "            doc._authors = paper['authors']\n",
    "        else:\n",
    "            # highlight authors (FIXME: doc.highlight_authors)\n",
    "            # done on arxiv paper already\n",
    "            doc._authors = highlight_authors_in_list(\n",
    "                [mpia.get_initials(k) for k in doc.authors], \n",
    "                normed_mpia_authors, verbose=True)\n",
    "        if (doc.abstract) in (None, ''):\n",
    "            doc._abstract = paper['abstract']\n",
    "            \n",
    "        doc.comment = (get_markdown_badge(paper_id) + \n",
    "                       \"<mark>Appeared on: \" + paper['date'] + \"</mark> - \")\n",
    "        if paper['comments']:\n",
    "            doc.comment += \" _\" + paper['comments'] + \"_\"\n",
    "        \n",
    "        full_md = doc.generate_markdown_text()\n",
    "        \n",
    "        full_md += get_markdown_qrcode(paper_id)\n",
    "        \n",
    "        # replace citations\n",
    "        try:\n",
    "            bibdata = latex_bib.LatexBib.from_doc(doc)\n",
    "            full_md = latex_bib.replace_citations(full_md, bibdata)\n",
    "        except Exception as e:\n",
    "            print(e)\n",
    "        \n",
    "        documents.append((paper_id, full_md))\n",
    "    except Exception as e:\n",
    "        warnings.warn(latex.LatexWarning(f\"{paper_id:s} did not run properly\\n\" +\n",
    "                                         str(e)\n",
    "                                        ))\n",
    "        failed.append((paper, \"latex error \" + str(e)))"
   ]
  },
  {
   "cell_type": "markdown",
   "id": "2505a25c",
   "metadata": {
    "papermill": {
     "duration": 0.004683,
     "end_time": "2023-07-19T04:15:59.362438",
     "exception": false,
     "start_time": "2023-07-19T04:15:59.357755",
     "status": "completed"
    },
    "tags": []
   },
   "source": [
    "### Export the logs\n",
    "\n",
    "Throughout, we also keep track of the logs per paper. see `logs-{today date}.md` "
   ]
  },
  {
   "cell_type": "code",
   "execution_count": 5,
   "id": "d733828a",
   "metadata": {
    "execution": {
     "iopub.execute_input": "2023-07-19T04:15:59.374987Z",
     "iopub.status.busy": "2023-07-19T04:15:59.373916Z",
     "iopub.status.idle": "2023-07-19T04:15:59.392568Z",
     "shell.execute_reply": "2023-07-19T04:15:59.391442Z"
    },
    "papermill": {
     "duration": 0.029569,
     "end_time": "2023-07-19T04:15:59.396758",
     "exception": false,
     "start_time": "2023-07-19T04:15:59.367189",
     "status": "completed"
    },
    "scrolled": false,
    "tags": []
   },
   "outputs": [
    {
     "data": {
      "text/markdown": [
       "## Successful papers"
      ],
      "text/plain": [
       "<IPython.core.display.Markdown object>"
      ]
     },
     "metadata": {},
     "output_type": "display_data"
    },
    {
     "data": {
      "text/markdown": [
       "\n",
       "|||\n",
       "|---:|:---|\n",
       "| [![arXiv](https://img.shields.io/badge/arXiv-arXiv:2307.09301-b31b1b.svg)](https://arxiv.org/abs/arXiv:2307.09301) | **MINDS. Abundant water and varying C/O across the disk of Sz 98 as seen  by JWST/MIRI**  |\n",
       "|| D. Gasman, et al. -- incl., <mark>M. Güdel</mark>, <mark>G. Perotti</mark>, <mark>M. Samland</mark>, <mark>J. Bouwman</mark>, <mark>S. Scheithauer</mark>, <mark>J. Schreiber</mark>, <mark>K. Schwarz</mark> |\n",
       "|*Appeared on*| *2023-07-19*|\n",
       "|*Comments*| *Submitted to A&A on May 25 2023. 18 pages, 11 figures*|\n",
       "|**Abstract**| MIRI/MRS on board the JWST allows us to probe the inner regions of protoplanetary disks. Here we examine the disk around the classical T Tauri star Sz 98, which has an unusually large dust disk in the millimetre with a compact core. We focus on the H$_2$O emission through both its ro-vibrational and pure rotational emission. Furthermore, we compare our chemical findings with those obtained for the outer disk from Atacama Large Millimeter/submillimeter Array (ALMA) observations. In order to model the molecular features in the spectrum, the continuum was subtracted and LTE slab models were fitted. The spectrum was divided into different wavelength regions corresponding to H$_2$O lines of different excitation conditions, and the slab model fits were performed individually per region. We confidently detect CO, H$_2$O, OH, CO$_2$, and HCN in the emitting layers. The isotopologue H$^{18}_2$O is not detected. Additionally, no other organics, including C$_2$H$_2$, are detected. This indicates that the C/O ratio could be substantially below unity, in contrast with the outer disk. The H$_2$O emission traces a large radial disk surface region, as evidenced by the gradually changing excitation temperatures and emitting radii. The OH and CO$_2$ emission are relatively weak. It is likely that H$_2$O is not significantly photodissociated; either due to self-shielding against the stellar irradiation, or UV-shielding from small dust particles. The relative emitting strength of the different identified molecular features point towards UV-shielding of H$_2$O in the inner disk of Sz 98, with a thin layer of OH on top. The majority of the organic molecules are either hidden below the dust continuum, or not present. In general, the inferred composition points to a sub-solar C/O ratio (<0.5) in the inner disk, in contrast with the larger than unity C/O ratio in the gas in the outer disk found with ALMA. |"
      ],
      "text/plain": [
       "[arXiv:2307.09301] MINDS. Abundant water and varying C/O across the disk of Sz 98 as seen  by JWST/MIRI\n",
       "\tD. Gasman, et al. -- incl., <mark>M. Güdel</mark>, <mark>G. Perotti</mark>, <mark>M. Samland</mark>, <mark>J. Bouwman</mark>, <mark>S. Scheithauer</mark>, <mark>J. Schreiber</mark>, <mark>K. Schwarz</mark>"
      ]
     },
     "metadata": {},
     "output_type": "display_data"
    },
    {
     "data": {
      "text/markdown": [
       "## Failed papers"
      ],
      "text/plain": [
       "<IPython.core.display.Markdown object>"
      ]
     },
     "metadata": {},
     "output_type": "display_data"
    },
    {
     "data": {
      "text/markdown": [
       "\n",
       "|||\n",
       "|---:|:---|\n",
       "| [![arXiv](https://img.shields.io/badge/arXiv-arXiv:2307.09041-b31b1b.svg)](https://arxiv.org/abs/arXiv:2307.09041) | **A candidate of binary black hole system in AGN with broad Balmer  emission lines having quite different line widths**  |\n",
       "|| <mark>X. Zhang</mark> |\n",
       "|*Appeared on*| *2023-07-19*|\n",
       "|*Comments*| *14 pages, 1 table, 13 figures, Accepted to be published in MNRAS*|\n",
       "|**Abstract**| In the manuscript, a candidate of sub-pc binary black hole (BBH) system is reported in SDSS J1257+2023 through different properties of broad Balmer emission lines. After subtractions of host galaxy contributions, Gaussian functions are applied to measure emission lines in SDSS J1257+2023, leading line width (second moment) 760${\\rm km/s}$ of broad H$\\beta$ to be 0.69 times of line width 1100${\\rm km/s}$ of broad H$\\alpha$, quite different from normal line width ratio 1.1 of broad H$\\beta$ to broad H$\\alpha$ in quasars. The quite broader component in broad H$\\alpha$ in SDSS J1257+2023 can be confirmed with confidence level higher than $5\\sigma$ through F-test technique, through different model functions applied to measure emission lines. The broad Balmer emission lines having different line widths can be naturally explained by a BBH system with different obscurations on central two independent BLRs. Meanwhile, through ZTF light curves and corresponding phase folded light curves well described by sinusoidal function, BBH system expected optical QPOs can be detected with periodicity about 1000days, confirmed with confidence level higher than $3\\sigma$ by Generalized Lomb-Scargle periodogram. And through CAR process simulated light curves, confidence level higher than $2\\sigma$ can be determined to support the optical QPOs in SDSS J1257+2023 not from intrinsic AGN activities, although the ZTF light curves have short time durations. Moreover, through oversimplified BBH system simulated results, studying different broad Balmer lines as signs of BBH systems in normal quasars with flux ratios around 4 of broad H$\\alpha$ to broad H$\\beta$ could be done in near future. |\n",
       "|<p style=\"color:green\"> **ERROR** </p>| <p style=\"color:green\">affiliation error: mpia.affiliation_verifications: 'Heidelberg' keyword not found.</p> |"
      ],
      "text/plain": [
       "<IPython.core.display.Markdown object>"
      ]
     },
     "metadata": {},
     "output_type": "display_data"
    }
   ],
   "source": [
    "import datetime\n",
    "today = str(datetime.date.today())\n",
    "logfile = f\"_build/html/logs/log-{today}.md\"\n",
    "\n",
    "\n",
    "with open(logfile, 'w') as logs:\n",
    "    # Success\n",
    "    logs.write(f'# Arxiv on Deck 2: Logs - {today}\\n\\n')\n",
    "    logs.write(\"\"\"* Arxiv had {0:,d} new papers\\n\"\"\".format(len(new_papers)))\n",
    "    logs.write(\"\"\"    * {0:,d} with possible author matches\\n\\n\"\"\".format(len(candidates)))\n",
    "    logs.write(\"## Sucessful papers\\n\\n\")\n",
    "    display(Markdown(\"## Successful papers\"))\n",
    "    success = [k[0] for k in documents]\n",
    "    for candid in candidates:\n",
    "        if candid['identifier'].split(':')[-1] in success:\n",
    "            display(candid)\n",
    "            logs.write(candid.generate_markdown_text() + '\\n\\n')\n",
    "\n",
    "    ## failed\n",
    "    logs.write(\"## Failed papers\\n\\n\")\n",
    "    display(Markdown(\"## Failed papers\"))\n",
    "    failed = sorted(failed, key=lambda x: x[1])\n",
    "    current_reason = \"\"\n",
    "    for paper, reason in failed:\n",
    "        if 'affiliation' in reason:\n",
    "            color = 'green'\n",
    "        else:\n",
    "            color = 'red'\n",
    "        data = Markdown(\n",
    "                paper.generate_markdown_text() + \n",
    "                f'\\n|<p style=\"color:{color:s}\"> **ERROR** </p>| <p style=\"color:{color:s}\">{reason:s}</p> |'\n",
    "               )\n",
    "        if reason != current_reason:\n",
    "            logs.write(f'### {reason:s} \\n\\n')\n",
    "            current_reason = reason\n",
    "        logs.write(data.data + '\\n\\n')\n",
    "        \n",
    "        # only display here the important errors (all in logs)\n",
    "        # if color in ('red',):\n",
    "        display(data)"
   ]
  },
  {
   "cell_type": "markdown",
   "id": "472d20ee",
   "metadata": {
    "papermill": {
     "duration": 0.005562,
     "end_time": "2023-07-19T04:15:59.408015",
     "exception": false,
     "start_time": "2023-07-19T04:15:59.402453",
     "status": "completed"
    },
    "tags": []
   },
   "source": [
    "## Export documents\n",
    "\n",
    "We now write the .md files and export relevant images"
   ]
  },
  {
   "cell_type": "code",
   "execution_count": 6,
   "id": "d426aed9",
   "metadata": {
    "execution": {
     "iopub.execute_input": "2023-07-19T04:15:59.421427Z",
     "iopub.status.busy": "2023-07-19T04:15:59.420890Z",
     "iopub.status.idle": "2023-07-19T04:15:59.430351Z",
     "shell.execute_reply": "2023-07-19T04:15:59.429548Z"
    },
    "papermill": {
     "duration": 0.018547,
     "end_time": "2023-07-19T04:15:59.432134",
     "exception": false,
     "start_time": "2023-07-19T04:15:59.413587",
     "status": "completed"
    },
    "tags": []
   },
   "outputs": [],
   "source": [
    "def export_markdown_summary(md: str, md_fname:str, directory: str):\n",
    "    \"\"\"Export MD document and associated relevant images\"\"\"\n",
    "    import os\n",
    "    import shutil\n",
    "    import re\n",
    "\n",
    "    if (os.path.exists(directory) and not os.path.isdir(directory)):\n",
    "        raise RuntimeError(f\"a non-directory file exists with name {directory:s}\")\n",
    "\n",
    "    if (not os.path.exists(directory)):\n",
    "        print(f\"creating directory {directory:s}\")\n",
    "        os.mkdir(directory)\n",
    "\n",
    "    fig_fnames = (re.compile(r'\\[Fig.*\\]\\((.*)\\)').findall(md) + \n",
    "                  re.compile(r'\\<img src=\"([^>\\s]*)\"[^>]*/>').findall(md))\n",
    "    for fname in fig_fnames:\n",
    "        if 'http' in fname:\n",
    "            # No need to copy online figures\n",
    "            continue\n",
    "        destdir = os.path.join(directory, os.path.dirname(fname))\n",
    "        destfname = os.path.join(destdir, os.path.basename(fname))\n",
    "        try:\n",
    "            os.makedirs(destdir)\n",
    "        except FileExistsError:\n",
    "            pass\n",
    "        shutil.copy(fname, destfname)\n",
    "    with open(os.path.join(directory, md_fname), 'w') as fout:\n",
    "        fout.write(md)\n",
    "    print(\"exported in \", os.path.join(directory, md_fname))\n",
    "    [print(\"    + \" + os.path.join(directory,fk)) for fk in fig_fnames]"
   ]
  },
  {
   "cell_type": "code",
   "execution_count": 7,
   "id": "014d04a4",
   "metadata": {
    "execution": {
     "iopub.execute_input": "2023-07-19T04:15:59.445338Z",
     "iopub.status.busy": "2023-07-19T04:15:59.444778Z",
     "iopub.status.idle": "2023-07-19T04:15:59.455230Z",
     "shell.execute_reply": "2023-07-19T04:15:59.454293Z"
    },
    "papermill": {
     "duration": 0.01967,
     "end_time": "2023-07-19T04:15:59.457220",
     "exception": false,
     "start_time": "2023-07-19T04:15:59.437550",
     "status": "completed"
    },
    "tags": []
   },
   "outputs": [
    {
     "name": "stdout",
     "output_type": "stream",
     "text": [
      "exported in  _build/html/2307.09301.md\n",
      "    + _build/html/tmp_2307.09301/./figures/water_opacity.png\n",
      "    + _build/html/tmp_2307.09301/./figures/slab_total_all_noise.png\n",
      "    + _build/html/tmp_2307.09301/./figures/chi2_region2_HCN.png\n",
      "    + _build/html/tmp_2307.09301/./figures/chi2_region2_CO2.png\n",
      "    + _build/html/tmp_2307.09301/./figures/chi2_region2_CO2_Q_only.png\n"
     ]
    }
   ],
   "source": [
    "for paper_id, md in documents:\n",
    "    export_markdown_summary(md, f\"{paper_id:s}.md\", '_build/html/')"
   ]
  },
  {
   "cell_type": "markdown",
   "id": "f087a0a7",
   "metadata": {
    "papermill": {
     "duration": 0.00529,
     "end_time": "2023-07-19T04:15:59.468720",
     "exception": false,
     "start_time": "2023-07-19T04:15:59.463430",
     "status": "completed"
    },
    "tags": []
   },
   "source": [
    "## Display the papers\n",
    "\n",
    "Not necessary but allows for a quick check."
   ]
  },
  {
   "cell_type": "code",
   "execution_count": 8,
   "id": "fd25f625",
   "metadata": {
    "execution": {
     "iopub.execute_input": "2023-07-19T04:15:59.484439Z",
     "iopub.status.busy": "2023-07-19T04:15:59.483708Z",
     "iopub.status.idle": "2023-07-19T04:15:59.491686Z",
     "shell.execute_reply": "2023-07-19T04:15:59.490520Z"
    },
    "papermill": {
     "duration": 0.018772,
     "end_time": "2023-07-19T04:15:59.494314",
     "exception": false,
     "start_time": "2023-07-19T04:15:59.475542",
     "status": "completed"
    },
    "scrolled": false,
    "tags": []
   },
   "outputs": [
    {
     "data": {
      "text/markdown": [
       "<div class=\"macros\" style=\"visibility:hidden;\">\n",
       "$\\newcommand{\\ensuremath}{}$\n",
       "$\\newcommand{\\xspace}{}$\n",
       "$\\newcommand{\\object}[1]{\\texttt{#1}}$\n",
       "$\\newcommand{\\farcs}{{.}''}$\n",
       "$\\newcommand{\\farcm}{{.}'}$\n",
       "$\\newcommand{\\arcsec}{''}$\n",
       "$\\newcommand{\\arcmin}{'}$\n",
       "$\\newcommand{\\ion}[2]{#1#2}$\n",
       "$\\newcommand{\\textsc}[1]{\\textrm{#1}}$\n",
       "$\\newcommand{\\hl}[1]{\\textrm{#1}}$\n",
       "$\\newcommand{\\footnote}[1]{}$\n",
       "$\\newcommand{\\arraystretch}{1.2}$</div>\n",
       "\n",
       "\n",
       "\n",
       "<div id=\"title\">\n",
       "\n",
       "# MINDS. Abundant water and varying C/O across the disk of Sz 98 as seen by JWST/MIRI\n",
       "\n",
       "</div>\n",
       "<div id=\"comments\">\n",
       "\n",
       "[![arXiv](https://img.shields.io/badge/arXiv-2307.09301-b31b1b.svg)](https://arxiv.org/abs/2307.09301)<mark>Appeared on: 2023-07-19</mark> -  _Submitted to A&A on May 25 2023. 18 pages, 11 figures_\n",
       "\n",
       "</div>\n",
       "<div id=\"authors\">\n",
       "\n",
       "D. Gasman, et al. -- incl., <mark>M. Güdel</mark>, <mark>G. Perotti</mark>, <mark>M. Samland</mark>, <mark>J. Bouwman</mark>, <mark>S. Scheithauer</mark>, <mark>J. Schreiber</mark>, <mark>K. Schwarz</mark>\n",
       "\n",
       "</div>\n",
       "<div id=\"abstract\">\n",
       "\n",
       "**Abstract:** The Mid-InfraRed Instrument (MIRI) Medium Resolution Spectrometer (MRS) on board the _James Webb_ Space Telescope ( _JWST_ ) allows us to probe the inner regions of protoplanetary disks, where the elevated temperatures result in an active chemistry and where the gas composition may dictate the composition of planets forming in this region. The disk around the classical T Tauri star Sz 98, which has an unusually large dust disk in the millimetre with a compact core, was observed with the MRS, and we examine its spectrum here. We aim to explain the observations and put the disk of Sz 98 in context with other disks, with a focus on the $\\ce{H2O}$ emission through both its ro-vibrational and pure rotational emission. Furthermore, we compare our chemical findings with those obtained for the outer disk from Atacama Large Millimeter/submillimeter Array (ALMA) observations. In order to model the molecular features in the spectrum, the continuum was subtracted and local thermodynamic equilibrium (LTE) slab models were fitted. The spectrum was divided into different wavelength regions corresponding to $\\ce{H2O}$ lines of different excitation conditions, and the slab model fits were performed individually per region. We confidently detect $\\ce{CO}$ , $\\ce{H2O}$ , $\\ce{OH}$ , $\\ce{CO2}$ , and $\\ce{HCN}$ in the emitting layers. Despite the plethora of $\\ce{H2O}$ -lines, the isotopologue H $_\\text{2}^{\\text{18}}$ O is not detected. Additionally, no other organics, including $\\ce{C2H2}$ , are detected. This indicates that the C/O ratio could be substantially below unity, in contrast with the outer disk. The $\\ce{H2O}$ emission traces a large radial disk surface region, as evidenced by the gradually changing excitation temperatures and emitting radii. Additionally, the $\\ce{OH}$ and $\\ce{CO2}$ emission are relatively weak. It is likely that $\\ce{H2O}$ is not significantly photodissociated; either due to self-shielding against the stellar irradiation, or UV-shielding from small dust particles. While $\\ce{H2O}$ is prominent and $\\ce{OH}$ relatively weak, the line fluxes in the inner disk of Sz 98 are not outliers compared to other disks. The relative emitting strength of the different identified molecular features point towards UV-shielding of $\\ce{H2O}$ in the inner disk of Sz 98, with a thin layer of $\\ce{OH}$ on top. The majority of the organic molecules are either hidden below the dust continuum, or not present. In general, the inferred composition points to a sub-solar C/O ratio ( $<$ 0.5) in the inner disk, in contrast with the larger than unity C/O ratio in the gas in the outer disk found with ALMA.\n",
       "\n",
       "</div>\n",
       "\n",
       "<div id=\"div_fig1\">\n",
       "\n",
       "<img src=\"tmp_2307.09301/./figures/water_opacity.png\" alt=\"Fig2\" width=\"100%\"/>\n",
       "\n",
       "**Figure 2. -** Flux ratios of H$_\\text{2}^{\\text{16}}$O lines of the same upper level in the data compared to slab models (top); and H$_\\text{2}^{\\text{16}}$O/H$_\\text{2}^{\\text{18}}$O ratio in the data and slab models (bottom). The properties of the transitions can be found in Table \\ref{tab:opacity}. The dotted black vertical line indicates the upper limit of the column density based on the $1\\sigma$ level of the spectrum and the non-detection of the H$_\\text{2}^{\\text{18}}$O line. The column densities on the bottom panel are multiplied by 550 to show the H$_\\text{2}^{\\text{16}}$O column density. (*fig:water_opacity*)\n",
       "\n",
       "</div>\n",
       "<div id=\"div_fig2\">\n",
       "\n",
       "<img src=\"tmp_2307.09301/./figures/slab_total_all_noise.png\" alt=\"Fig6\" width=\"100%\"/>\n",
       "\n",
       "**Figure 6. -** Slab fits for the four different wavelength ranges. The top and bottom panels per region are the data and total model, and the individual slab models; respectively. Spurious spikes and features from the data reduction have been blanked out (see the list in App. \\ref{app:blank}). The horizontal lines indicate the regions used to fit the molecules, or the region where $\\sigma$ is estimated after subtracting the slab models. (*fig:spec_ranges*)\n",
       "\n",
       "</div>\n",
       "<div id=\"div_fig3\">\n",
       "\n",
       "<img src=\"tmp_2307.09301/./figures/chi2_region2_HCN.png\" alt=\"Fig10.1\" width=\"33%\"/><img src=\"tmp_2307.09301/./figures/chi2_region2_CO2.png\" alt=\"Fig10.2\" width=\"33%\"/><img src=\"tmp_2307.09301/./figures/chi2_region2_CO2_Q_only.png\" alt=\"Fig10.3\" width=\"33%\"/>\n",
       "\n",
       "**Figure 10. -** $\\chi^2$ plots of \\ce{HCN} and \\ce{CO2} detected in region 2. The red, yellow, and green lines indicate the $1\\sigma$, $2\\sigma$, and $3\\sigma$ confidence contours, respectively. The white contours show the emitting radii in astronomical units (0.1 to 2.0 au). The black cross corresponds to the best fit. The bottom plot shows the map for \\ce{CO2} when fitting the $Q$-branch only. (*fig:chi2_region2*)\n",
       "\n",
       "</div><div id=\"qrcode\"><img src=https://api.qrserver.com/v1/create-qr-code/?size=100x100&data=\"https://arxiv.org/abs/2307.09301\"></div>"
      ],
      "text/plain": [
       "<IPython.core.display.Markdown object>"
      ]
     },
     "metadata": {},
     "output_type": "display_data"
    }
   ],
   "source": [
    "[display(Markdown(k[1])) for k in documents];"
   ]
  },
  {
   "cell_type": "markdown",
   "id": "873873a4",
   "metadata": {
    "papermill": {
     "duration": 0.00674,
     "end_time": "2023-07-19T04:15:59.507599",
     "exception": false,
     "start_time": "2023-07-19T04:15:59.500859",
     "status": "completed"
    },
    "tags": []
   },
   "source": [
    "# Create HTML index"
   ]
  },
  {
   "cell_type": "code",
   "execution_count": 9,
   "id": "cf665672",
   "metadata": {
    "execution": {
     "iopub.execute_input": "2023-07-19T04:15:59.523039Z",
     "iopub.status.busy": "2023-07-19T04:15:59.522042Z",
     "iopub.status.idle": "2023-07-19T04:15:59.533668Z",
     "shell.execute_reply": "2023-07-19T04:15:59.532859Z"
    },
    "papermill": {
     "duration": 0.021482,
     "end_time": "2023-07-19T04:15:59.535491",
     "exception": false,
     "start_time": "2023-07-19T04:15:59.514009",
     "status": "completed"
    },
    "tags": []
   },
   "outputs": [
    {
     "name": "stdout",
     "output_type": "stream",
     "text": [
      "230  publications files modified in the last 7 days.\n"
     ]
    }
   ],
   "source": [
    "from datetime import datetime, timedelta, timezone\n",
    "from glob import glob\n",
    "import os\n",
    "\n",
    "files = glob('_build/html/*.md')\n",
    "days = 7\n",
    "now = datetime.today()\n",
    "res = []\n",
    "for fk in files:\n",
    "    stat_result = os.stat(fk).st_ctime\n",
    "    modified = datetime.fromtimestamp(stat_result, tz=timezone.utc).replace(tzinfo=None)\n",
    "    delta = now.today() - modified\n",
    "    if delta <= timedelta(days=days):\n",
    "        res.append((delta.seconds, fk))\n",
    "res = [k[1] for k in reversed(sorted(res, key=lambda x:x[1]))]\n",
    "npub = len(res)\n",
    "print(len(res), f\" publications files modified in the last {days:d} days.\")\n",
    "# [ print('\\t', k) for k in res ];"
   ]
  },
  {
   "cell_type": "code",
   "execution_count": 10,
   "id": "015de740",
   "metadata": {
    "execution": {
     "iopub.execute_input": "2023-07-19T04:15:59.549524Z",
     "iopub.status.busy": "2023-07-19T04:15:59.549040Z",
     "iopub.status.idle": "2023-07-19T04:15:59.574647Z",
     "shell.execute_reply": "2023-07-19T04:15:59.573775Z"
    },
    "papermill": {
     "duration": 0.03504,
     "end_time": "2023-07-19T04:15:59.576691",
     "exception": false,
     "start_time": "2023-07-19T04:15:59.541651",
     "status": "completed"
    },
    "tags": []
   },
   "outputs": [
    {
     "name": "stdout",
     "output_type": "stream",
     "text": [
      "3  publications in the last 7 days.\n"
     ]
    }
   ],
   "source": [
    "import datetime\n",
    "from glob import glob\n",
    "\n",
    "def get_last_n_days(lst, days=1):\n",
    "    \"\"\" Get the documents from the last n days \"\"\"\n",
    "    sorted_lst = sorted(lst, key=lambda x: x[1], reverse=True)\n",
    "    for fname, date in sorted_lst:\n",
    "        if date >= str(datetime.date.today() - datetime.timedelta(days=days)):\n",
    "            yield fname\n",
    "\n",
    "def extract_appearance_dates(lst_file):\n",
    "    dates = []\n",
    "\n",
    "    def get_date(line):\n",
    "        return line\\\n",
    "            .split('Appeared on:')[-1]\\\n",
    "            .split('</mark>')[0].strip()\n",
    "\n",
    "    for fname in lst:\n",
    "        with open(fname, 'r') as f:\n",
    "            found_date = False\n",
    "            for line in f:\n",
    "                if not found_date:\n",
    "                    if \"Appeared on\" in line:\n",
    "                        found_date = True\n",
    "                        dates.append((fname, get_date(line)))\n",
    "                else:\n",
    "                    break\n",
    "    return dates\n",
    "\n",
    "from glob import glob\n",
    "lst = glob('_build/html/*md')\n",
    "days = 7\n",
    "dates = extract_appearance_dates(lst)\n",
    "res = list(get_last_n_days(dates, days))\n",
    "npub = len(res)\n",
    "print(len(res), f\" publications in the last {days:d} days.\")"
   ]
  },
  {
   "cell_type": "code",
   "execution_count": 11,
   "id": "52ca0208",
   "metadata": {
    "execution": {
     "iopub.execute_input": "2023-07-19T04:15:59.593007Z",
     "iopub.status.busy": "2023-07-19T04:15:59.592551Z",
     "iopub.status.idle": "2023-07-19T04:15:59.599955Z",
     "shell.execute_reply": "2023-07-19T04:15:59.598845Z"
    },
    "papermill": {
     "duration": 0.018918,
     "end_time": "2023-07-19T04:15:59.602117",
     "exception": false,
     "start_time": "2023-07-19T04:15:59.583199",
     "status": "completed"
    },
    "scrolled": false,
    "tags": []
   },
   "outputs": [],
   "source": [
    "def create_carousel(npub=4):\n",
    "    \"\"\" Generate the HTML code for a carousel with `npub` slides \"\"\"\n",
    "    carousel = [\"\"\"  <div class=\"carousel\" \"\"\",\n",
    "                \"\"\"       data-flickity='{ \"autoPlay\": 10000, \"adaptiveHeight\": true, \"resize\": true, \"wrapAround\": true, \"pauseAutoPlayOnHover\": true, \"groupCells\": 1 }' id=\"asyncTypeset\">\"\"\"\n",
    "                ]\n",
    "    \n",
    "    item_str = \"\"\"    <div class=\"carousel-cell\"> <div id=\"slide{k}\" class=\"md_view\">Content {k}</div> </div>\"\"\"\n",
    "    for k in range(1, npub + 1):\n",
    "        carousel.append(item_str.format(k=k))\n",
    "    carousel.append(\"  </div>\")\n",
    "    return '\\n'.join(carousel)\n",
    "\n",
    "def create_grid(npub=4):\n",
    "    \"\"\" Generate the HTML code for a flat grid with `npub` slides \"\"\"\n",
    "    grid = [\"\"\"  <div class=\"grid\"> \"\"\",\n",
    "                ]\n",
    "    \n",
    "    item_str = \"\"\"    <div class=\"grid-item\"> <div id=\"slide{k}\" class=\"md_view\">Content {k}</div> </div>\"\"\"\n",
    "    for k in range(1, npub + 1):\n",
    "        grid.append(item_str.format(k=k))\n",
    "    grid.append(\"  </div>\")\n",
    "    return '\\n'.join(grid)"
   ]
  },
  {
   "cell_type": "code",
   "execution_count": 12,
   "id": "a6eac5b6",
   "metadata": {
    "execution": {
     "iopub.execute_input": "2023-07-19T04:15:59.615350Z",
     "iopub.status.busy": "2023-07-19T04:15:59.614840Z",
     "iopub.status.idle": "2023-07-19T04:15:59.622403Z",
     "shell.execute_reply": "2023-07-19T04:15:59.621418Z"
    },
    "papermill": {
     "duration": 0.01639,
     "end_time": "2023-07-19T04:15:59.624283",
     "exception": false,
     "start_time": "2023-07-19T04:15:59.607893",
     "status": "completed"
    },
    "scrolled": false,
    "tags": []
   },
   "outputs": [],
   "source": [
    "carousel = create_carousel(npub)\n",
    "docs = ', '.join(['\"{0:s}\"'.format(k.split('/')[-1]) for k in res])\n",
    "slides = ', '.join([f'\"slide{k}\"' for k in range(1, npub + 1)])\n",
    "\n",
    "with open(\"daily_template.html\", \"r\") as tpl:\n",
    "    page = tpl.read()\n",
    "    page = page.replace(\"{%-- carousel:s --%}\", carousel)\\\n",
    "               .replace(\"{%-- suptitle:s --%}\",  \"7-day archives\" )\\\n",
    "               .replace(\"{%-- docs:s --%}\", docs)\\\n",
    "               .replace(\"{%-- slides:s --%}\", slides)\n",
    "    \n",
    "with open(\"_build/html/index_7days.html\", 'w') as fout:\n",
    "    fout.write(page)"
   ]
  },
  {
   "cell_type": "code",
   "execution_count": 13,
   "id": "adc1a1ec",
   "metadata": {
    "execution": {
     "iopub.execute_input": "2023-07-19T04:15:59.639507Z",
     "iopub.status.busy": "2023-07-19T04:15:59.638713Z",
     "iopub.status.idle": "2023-07-19T04:15:59.647953Z",
     "shell.execute_reply": "2023-07-19T04:15:59.647078Z"
    },
    "papermill": {
     "duration": 0.021238,
     "end_time": "2023-07-19T04:15:59.651639",
     "exception": false,
     "start_time": "2023-07-19T04:15:59.630401",
     "status": "completed"
    },
    "tags": []
   },
   "outputs": [
    {
     "name": "stdout",
     "output_type": "stream",
     "text": [
      "2  publications in the last day.\n"
     ]
    }
   ],
   "source": [
    "# redo for today\n",
    "days = 1\n",
    "res = list(get_last_n_days(dates, days))\n",
    "npub = len(res)\n",
    "print(len(res), f\" publications in the last day.\")\n",
    "\n",
    "carousel = create_carousel(npub)\n",
    "docs = ', '.join(['\"{0:s}\"'.format(k.split('/')[-1]) for k in res])\n",
    "slides = ', '.join([f'\"slide{k}\"' for k in range(1, npub + 1)])\n",
    "\n",
    "with open(\"daily_template.html\", \"r\") as tpl:\n",
    "    page = tpl.read()\n",
    "    page = page.replace(\"{%-- carousel:s --%}\", carousel)\\\n",
    "               .replace(\"{%-- suptitle:s --%}\",  \"Daily\" )\\\n",
    "               .replace(\"{%-- docs:s --%}\", docs)\\\n",
    "               .replace(\"{%-- slides:s --%}\", slides)\n",
    "    \n",
    "# print(carousel, docs, slides)\n",
    "# print(page)\n",
    "with open(\"_build/html/index_daily.html\", 'w') as fout:\n",
    "    fout.write(page)"
   ]
  },
  {
   "cell_type": "code",
   "execution_count": 14,
   "id": "00eece82",
   "metadata": {
    "execution": {
     "iopub.execute_input": "2023-07-19T04:15:59.672694Z",
     "iopub.status.busy": "2023-07-19T04:15:59.670317Z",
     "iopub.status.idle": "2023-07-19T04:15:59.681648Z",
     "shell.execute_reply": "2023-07-19T04:15:59.680507Z"
    },
    "papermill": {
     "duration": 0.026181,
     "end_time": "2023-07-19T04:15:59.684083",
     "exception": false,
     "start_time": "2023-07-19T04:15:59.657902",
     "status": "completed"
    },
    "scrolled": false,
    "tags": []
   },
   "outputs": [
    {
     "name": "stdout",
     "output_type": "stream",
     "text": [
      "6  6 publications selected.\n"
     ]
    }
   ],
   "source": [
    "# Create the flat grid of the last N papers (fixed number regardless of dates)\n",
    "from itertools import islice \n",
    "\n",
    "npub = 6\n",
    "res = [k[0] for k in (islice(reversed(sorted(dates, key=lambda x: x[1])), 6))]\n",
    "print(len(res), f\" {npub} publications selected.\")\n",
    "\n",
    "grid = create_grid(npub)\n",
    "docs = ', '.join(['\"{0:s}\"'.format(k.split('/')[-1]) for k in res])\n",
    "slides = ', '.join([f'\"slide{k}\"' for k in range(1, npub + 1)])\n",
    "\n",
    "with open(\"grid_template.html\", \"r\") as tpl:\n",
    "    page = tpl.read()\n",
    "    page = page.replace(\"{%-- grid-content:s --%}\", grid)\\\n",
    "               .replace(\"{%-- suptitle:s --%}\",  f\"Last {npub:,d} papers\" )\\\n",
    "               .replace(\"{%-- docs:s --%}\", docs)\\\n",
    "               .replace(\"{%-- slides:s --%}\", slides)\n",
    "    \n",
    "# print(grid, docs, slides)\n",
    "# print(page)\n",
    "with open(\"_build/html/index_npub_grid.html\", 'w') as fout:\n",
    "    fout.write(page)"
   ]
  }
 ],
 "metadata": {
  "kernelspec": {
   "display_name": "Python 3 (ipykernel)",
   "language": "python",
   "name": "python3"
  },
  "language_info": {
   "codemirror_mode": {
    "name": "ipython",
    "version": 3
   },
   "file_extension": ".py",
   "mimetype": "text/x-python",
   "name": "python",
   "nbconvert_exporter": "python",
   "pygments_lexer": "ipython3",
   "version": "3.9.17"
  },
  "papermill": {
   "default_parameters": {},
   "duration": 46.544156,
   "end_time": "2023-07-19T04:15:59.909278",
   "environment_variables": {},
   "exception": null,
   "input_path": "MPIA daily digest.ipynb",
   "output_path": "log.ipynb",
   "parameters": {},
   "start_time": "2023-07-19T04:15:13.365122",
   "version": "2.4.0"
  },
  "vscode": {
   "interpreter": {
    "hash": "aee8b7b246df8f9039afb4144a1f6fd8d2ca17a180786b69acc140d282b71a49"
   }
  },
  "widgets": {
   "application/vnd.jupyter.widget-state+json": {
    "state": {
     "102d658067ee4153b1088048fd1221dc": {
      "model_module": "@jupyter-widgets/base",
      "model_module_version": "2.0.0",
      "model_name": "LayoutModel",
      "state": {
       "_model_module": "@jupyter-widgets/base",
       "_model_module_version": "2.0.0",
       "_model_name": "LayoutModel",
       "_view_count": null,
       "_view_module": "@jupyter-widgets/base",
       "_view_module_version": "2.0.0",
       "_view_name": "LayoutView",
       "align_content": null,
       "align_items": null,
       "align_self": null,
       "border_bottom": null,
       "border_left": null,
       "border_right": null,
       "border_top": null,
       "bottom": null,
       "display": null,
       "flex": null,
       "flex_flow": null,
       "grid_area": null,
       "grid_auto_columns": null,
       "grid_auto_flow": null,
       "grid_auto_rows": null,
       "grid_column": null,
       "grid_gap": null,
       "grid_row": null,
       "grid_template_areas": null,
       "grid_template_columns": null,
       "grid_template_rows": null,
       "height": null,
       "justify_content": null,
       "justify_items": null,
       "left": null,
       "margin": null,
       "max_height": null,
       "max_width": null,
       "min_height": null,
       "min_width": null,
       "object_fit": null,
       "object_position": null,
       "order": null,
       "overflow": null,
       "padding": null,
       "right": null,
       "top": null,
       "visibility": null,
       "width": null
      }
     },
     "143274062c5d4a6ca42cf334b52f091f": {
      "model_module": "@jupyter-widgets/controls",
      "model_module_version": "2.0.0",
      "model_name": "HTMLStyleModel",
      "state": {
       "_model_module": "@jupyter-widgets/controls",
       "_model_module_version": "2.0.0",
       "_model_name": "HTMLStyleModel",
       "_view_count": null,
       "_view_module": "@jupyter-widgets/base",
       "_view_module_version": "2.0.0",
       "_view_name": "StyleView",
       "background": null,
       "description_width": "",
       "font_size": null,
       "text_color": null
      }
     },
     "1f6871d061724bdd88714c847f03413a": {
      "model_module": "@jupyter-widgets/controls",
      "model_module_version": "2.0.0",
      "model_name": "FloatProgressModel",
      "state": {
       "_dom_classes": [],
       "_model_module": "@jupyter-widgets/controls",
       "_model_module_version": "2.0.0",
       "_model_name": "FloatProgressModel",
       "_view_count": null,
       "_view_module": "@jupyter-widgets/controls",
       "_view_module_version": "2.0.0",
       "_view_name": "ProgressView",
       "bar_style": "success",
       "description": "",
       "description_allow_html": false,
       "layout": "IPY_MODEL_44fff490c9094a399bfd1c1496563879",
       "max": 2.0,
       "min": 0.0,
       "orientation": "horizontal",
       "style": "IPY_MODEL_adac2d2896e8419da0361475b682b6b6",
       "tabbable": null,
       "tooltip": null,
       "value": 2.0
      }
     },
     "44fff490c9094a399bfd1c1496563879": {
      "model_module": "@jupyter-widgets/base",
      "model_module_version": "2.0.0",
      "model_name": "LayoutModel",
      "state": {
       "_model_module": "@jupyter-widgets/base",
       "_model_module_version": "2.0.0",
       "_model_name": "LayoutModel",
       "_view_count": null,
       "_view_module": "@jupyter-widgets/base",
       "_view_module_version": "2.0.0",
       "_view_name": "LayoutView",
       "align_content": null,
       "align_items": null,
       "align_self": null,
       "border_bottom": null,
       "border_left": null,
       "border_right": null,
       "border_top": null,
       "bottom": null,
       "display": null,
       "flex": null,
       "flex_flow": null,
       "grid_area": null,
       "grid_auto_columns": null,
       "grid_auto_flow": null,
       "grid_auto_rows": null,
       "grid_column": null,
       "grid_gap": null,
       "grid_row": null,
       "grid_template_areas": null,
       "grid_template_columns": null,
       "grid_template_rows": null,
       "height": null,
       "justify_content": null,
       "justify_items": null,
       "left": null,
       "margin": null,
       "max_height": null,
       "max_width": null,
       "min_height": null,
       "min_width": null,
       "object_fit": null,
       "object_position": null,
       "order": null,
       "overflow": null,
       "padding": null,
       "right": null,
       "top": null,
       "visibility": null,
       "width": null
      }
     },
     "664dee4a26284a9db762f6e208b4f8f3": {
      "model_module": "@jupyter-widgets/base",
      "model_module_version": "2.0.0",
      "model_name": "LayoutModel",
      "state": {
       "_model_module": "@jupyter-widgets/base",
       "_model_module_version": "2.0.0",
       "_model_name": "LayoutModel",
       "_view_count": null,
       "_view_module": "@jupyter-widgets/base",
       "_view_module_version": "2.0.0",
       "_view_name": "LayoutView",
       "align_content": null,
       "align_items": null,
       "align_self": null,
       "border_bottom": null,
       "border_left": null,
       "border_right": null,
       "border_top": null,
       "bottom": null,
       "display": null,
       "flex": null,
       "flex_flow": null,
       "grid_area": null,
       "grid_auto_columns": null,
       "grid_auto_flow": null,
       "grid_auto_rows": null,
       "grid_column": null,
       "grid_gap": null,
       "grid_row": null,
       "grid_template_areas": null,
       "grid_template_columns": null,
       "grid_template_rows": null,
       "height": null,
       "justify_content": null,
       "justify_items": null,
       "left": null,
       "margin": null,
       "max_height": null,
       "max_width": null,
       "min_height": null,
       "min_width": null,
       "object_fit": null,
       "object_position": null,
       "order": null,
       "overflow": null,
       "padding": null,
       "right": null,
       "top": null,
       "visibility": null,
       "width": null
      }
     },
     "88fef9f9361747d48c031f1894e03b77": {
      "model_module": "@jupyter-widgets/controls",
      "model_module_version": "2.0.0",
      "model_name": "HTMLModel",
      "state": {
       "_dom_classes": [],
       "_model_module": "@jupyter-widgets/controls",
       "_model_module_version": "2.0.0",
       "_model_name": "HTMLModel",
       "_view_count": null,
       "_view_module": "@jupyter-widgets/controls",
       "_view_module_version": "2.0.0",
       "_view_name": "HTMLView",
       "description": "",
       "description_allow_html": false,
       "layout": "IPY_MODEL_fab94daa85e6479fbadc9196070520a2",
       "placeholder": "​",
       "style": "IPY_MODEL_f08564ba576b4a67b7eaa3deca3d6326",
       "tabbable": null,
       "tooltip": null,
       "value": " 2/2 [00:16&lt;00:00,  9.26s/it]"
      }
     },
     "adac2d2896e8419da0361475b682b6b6": {
      "model_module": "@jupyter-widgets/controls",
      "model_module_version": "2.0.0",
      "model_name": "ProgressStyleModel",
      "state": {
       "_model_module": "@jupyter-widgets/controls",
       "_model_module_version": "2.0.0",
       "_model_name": "ProgressStyleModel",
       "_view_count": null,
       "_view_module": "@jupyter-widgets/base",
       "_view_module_version": "2.0.0",
       "_view_name": "StyleView",
       "bar_color": null,
       "description_width": ""
      }
     },
     "c2935045664d44a5b4c56a2b6130d7f5": {
      "model_module": "@jupyter-widgets/controls",
      "model_module_version": "2.0.0",
      "model_name": "HBoxModel",
      "state": {
       "_dom_classes": [],
       "_model_module": "@jupyter-widgets/controls",
       "_model_module_version": "2.0.0",
       "_model_name": "HBoxModel",
       "_view_count": null,
       "_view_module": "@jupyter-widgets/controls",
       "_view_module_version": "2.0.0",
       "_view_name": "HBoxView",
       "box_style": "",
       "children": [
        "IPY_MODEL_f0bfa340572a4b258e190a09033166d3",
        "IPY_MODEL_1f6871d061724bdd88714c847f03413a",
        "IPY_MODEL_88fef9f9361747d48c031f1894e03b77"
       ],
       "layout": "IPY_MODEL_102d658067ee4153b1088048fd1221dc",
       "tabbable": null,
       "tooltip": null
      }
     },
     "f08564ba576b4a67b7eaa3deca3d6326": {
      "model_module": "@jupyter-widgets/controls",
      "model_module_version": "2.0.0",
      "model_name": "HTMLStyleModel",
      "state": {
       "_model_module": "@jupyter-widgets/controls",
       "_model_module_version": "2.0.0",
       "_model_name": "HTMLStyleModel",
       "_view_count": null,
       "_view_module": "@jupyter-widgets/base",
       "_view_module_version": "2.0.0",
       "_view_name": "StyleView",
       "background": null,
       "description_width": "",
       "font_size": null,
       "text_color": null
      }
     },
     "f0bfa340572a4b258e190a09033166d3": {
      "model_module": "@jupyter-widgets/controls",
      "model_module_version": "2.0.0",
      "model_name": "HTMLModel",
      "state": {
       "_dom_classes": [],
       "_model_module": "@jupyter-widgets/controls",
       "_model_module_version": "2.0.0",
       "_model_name": "HTMLModel",
       "_view_count": null,
       "_view_module": "@jupyter-widgets/controls",
       "_view_module_version": "2.0.0",
       "_view_name": "HTMLView",
       "description": "",
       "description_allow_html": false,
       "layout": "IPY_MODEL_664dee4a26284a9db762f6e208b4f8f3",
       "placeholder": "​",
       "style": "IPY_MODEL_143274062c5d4a6ca42cf334b52f091f",
       "tabbable": null,
       "tooltip": null,
       "value": "100%"
      }
     },
     "fab94daa85e6479fbadc9196070520a2": {
      "model_module": "@jupyter-widgets/base",
      "model_module_version": "2.0.0",
      "model_name": "LayoutModel",
      "state": {
       "_model_module": "@jupyter-widgets/base",
       "_model_module_version": "2.0.0",
       "_model_name": "LayoutModel",
       "_view_count": null,
       "_view_module": "@jupyter-widgets/base",
       "_view_module_version": "2.0.0",
       "_view_name": "LayoutView",
       "align_content": null,
       "align_items": null,
       "align_self": null,
       "border_bottom": null,
       "border_left": null,
       "border_right": null,
       "border_top": null,
       "bottom": null,
       "display": null,
       "flex": null,
       "flex_flow": null,
       "grid_area": null,
       "grid_auto_columns": null,
       "grid_auto_flow": null,
       "grid_auto_rows": null,
       "grid_column": null,
       "grid_gap": null,
       "grid_row": null,
       "grid_template_areas": null,
       "grid_template_columns": null,
       "grid_template_rows": null,
       "height": null,
       "justify_content": null,
       "justify_items": null,
       "left": null,
       "margin": null,
       "max_height": null,
       "max_width": null,
       "min_height": null,
       "min_width": null,
       "object_fit": null,
       "object_position": null,
       "order": null,
       "overflow": null,
       "padding": null,
       "right": null,
       "top": null,
       "visibility": null,
       "width": null
      }
     }
    },
    "version_major": 2,
    "version_minor": 0
   }
  }
 },
 "nbformat": 4,
 "nbformat_minor": 5
}