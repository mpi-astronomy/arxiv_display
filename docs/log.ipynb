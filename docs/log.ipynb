{
 "cells": [
  {
   "cell_type": "markdown",
   "id": "92bcb855",
   "metadata": {
    "papermill": {
     "duration": 0.004511,
     "end_time": "2023-03-23T16:25:20.379713",
     "exception": false,
     "start_time": "2023-03-23T16:25:20.375202",
     "status": "completed"
    },
    "tags": []
   },
   "source": [
    "# MPIA Arxiv on Deck 2\n",
    "\n",
    "Contains the steps to produce the paper extractions."
   ]
  },
  {
   "cell_type": "code",
   "execution_count": 1,
   "id": "3a0d6e11",
   "metadata": {
    "execution": {
     "iopub.execute_input": "2023-03-23T16:25:20.388873Z",
     "iopub.status.busy": "2023-03-23T16:25:20.388334Z",
     "iopub.status.idle": "2023-03-23T16:25:20.604347Z",
     "shell.execute_reply": "2023-03-23T16:25:20.603728Z"
    },
    "papermill": {
     "duration": 0.222448,
     "end_time": "2023-03-23T16:25:20.606239",
     "exception": false,
     "start_time": "2023-03-23T16:25:20.383791",
     "status": "completed"
    },
    "tags": []
   },
   "outputs": [],
   "source": [
    "# Imports\n",
    "import os\n",
    "from IPython.display import Markdown, display\n",
    "from tqdm.notebook import tqdm\n",
    "import warnings\n",
    "from PIL import Image \n",
    "\n",
    "# requires arxiv_on_deck_2\n",
    "\n",
    "from arxiv_on_deck_2.arxiv2 import (get_new_papers, \n",
    "                                    get_paper_from_identifier,\n",
    "                                    retrieve_document_source, \n",
    "                                    get_markdown_badge)\n",
    "from arxiv_on_deck_2 import (latex,\n",
    "                             latex_bib,\n",
    "                             mpia,\n",
    "                             highlight_authors_in_list)\n",
    "\n",
    "# Sometimes images are really big\n",
    "Image.MAX_IMAGE_PIXELS = 1000000000 "
   ]
  },
  {
   "cell_type": "code",
   "execution_count": 2,
   "id": "22aa9d44",
   "metadata": {
    "execution": {
     "iopub.execute_input": "2023-03-23T16:25:20.614983Z",
     "iopub.status.busy": "2023-03-23T16:25:20.614751Z",
     "iopub.status.idle": "2023-03-23T16:25:20.619375Z",
     "shell.execute_reply": "2023-03-23T16:25:20.618729Z"
    },
    "papermill": {
     "duration": 0.01105,
     "end_time": "2023-03-23T16:25:20.621083",
     "exception": false,
     "start_time": "2023-03-23T16:25:20.610033",
     "status": "completed"
    },
    "tags": []
   },
   "outputs": [],
   "source": [
    "# Some useful definitions.\n",
    "\n",
    "class AffiliationWarning(UserWarning):\n",
    "    pass\n",
    "\n",
    "class AffiliationError(RuntimeError):\n",
    "    pass\n",
    "\n",
    "def validation(source: str):\n",
    "    \"\"\"Raises error paper during parsing of source file\n",
    "    \n",
    "    Allows checks before parsing TeX code.\n",
    "    \n",
    "    Raises AffiliationWarning\n",
    "    \"\"\"\n",
    "    check = mpia.affiliation_verifications(source, verbose=True)\n",
    "    if check is not True:\n",
    "        raise AffiliationError(\"mpia.affiliation_verifications: \" + check)\n",
    "\n",
    "        \n",
    "warnings.simplefilter('always', AffiliationWarning)"
   ]
  },
  {
   "cell_type": "markdown",
   "id": "14bd6310",
   "metadata": {
    "papermill": {
     "duration": 0.003429,
     "end_time": "2023-03-23T16:25:20.628090",
     "exception": false,
     "start_time": "2023-03-23T16:25:20.624661",
     "status": "completed"
    },
    "tags": []
   },
   "source": [
    "## get list of arxiv paper candidates\n",
    "\n",
    "We use the MPIA mitarbeiter list webpage from mpia.de to get author names\n",
    "We then get all new papers from Arxiv and match authors"
   ]
  },
  {
   "cell_type": "code",
   "execution_count": 3,
   "id": "2645e73a",
   "metadata": {
    "execution": {
     "iopub.execute_input": "2023-03-23T16:25:20.635982Z",
     "iopub.status.busy": "2023-03-23T16:25:20.635772Z",
     "iopub.status.idle": "2023-03-23T16:25:42.105988Z",
     "shell.execute_reply": "2023-03-23T16:25:42.104398Z"
    },
    "papermill": {
     "duration": 21.476365,
     "end_time": "2023-03-23T16:25:42.107907",
     "exception": false,
     "start_time": "2023-03-23T16:25:20.631542",
     "status": "completed"
    },
    "tags": []
   },
   "outputs": [
    {
     "name": "stdout",
     "output_type": "stream",
     "text": [
      "Arxiv has 63 new papers today\n",
      "          3 with possible author matches\n"
     ]
    }
   ],
   "source": [
    "# get list from MPIA website\n",
    "# it automatically filters identified non-scientists :func:`mpia.filter_non_scientists`\n",
    "mpia_authors = mpia.get_mpia_mitarbeiter_list()\n",
    "normed_mpia_authors = [k[1] for k in mpia_authors]   # initials + fullname\n",
    "new_papers = get_new_papers()\n",
    "# add manual references\n",
    "add_paper_refs = []\n",
    "new_papers.extend([get_paper_from_identifier(k) for k in add_paper_refs])\n",
    "\n",
    "candidates = []\n",
    "for paperk in new_papers:\n",
    "    # Check author list with their initials\n",
    "    normed_author_list = [mpia.get_initials(k) for k in paperk['authors']]\n",
    "    hl_authors = highlight_authors_in_list(normed_author_list, normed_mpia_authors, verbose=True)\n",
    "    matches = [(hl, orig) for hl, orig in zip(hl_authors, paperk['authors']) if 'mark' in hl]\n",
    "    paperk['authors'] = hl_authors\n",
    "    if matches:\n",
    "        # only select paper if an author matched our list\n",
    "        candidates.append(paperk)\n",
    "print(\"\"\"Arxiv has {0:,d} new papers today\"\"\".format(len(new_papers)))        \n",
    "print(\"\"\"          {0:,d} with possible author matches\"\"\".format(len(candidates)))"
   ]
  },
  {
   "cell_type": "markdown",
   "id": "3543b34a",
   "metadata": {
    "papermill": {
     "duration": 0.003617,
     "end_time": "2023-03-23T16:25:42.115440",
     "exception": false,
     "start_time": "2023-03-23T16:25:42.111823",
     "status": "completed"
    },
    "tags": []
   },
   "source": [
    "# Parse sources and generate relevant outputs\n",
    "\n",
    "From the candidates, we do the following steps:\n",
    "* get their tarball from ArXiv (and extract data)\n",
    "* find the main .tex file: find one with \\documentclass{...} (sometimes it's non trivial)\n",
    "* Check affiliations with :func:`validation`, which uses :func:`mpia.affiliation_verifications`\n",
    "* If passing the affiliations: we parse the .tex source\n",
    "   * inject sub-documents into the main (flatten the main document)\n",
    "   * parse structure, extract information (title, abstract, authors, figures...)\n",
    "   * handles `\\graphicspath` if provided\n",
    "* Generate the .md document."
   ]
  },
  {
   "cell_type": "code",
   "execution_count": 4,
   "id": "9576b79e",
   "metadata": {
    "execution": {
     "iopub.execute_input": "2023-03-23T16:25:42.124036Z",
     "iopub.status.busy": "2023-03-23T16:25:42.123782Z",
     "iopub.status.idle": "2023-03-23T16:25:57.591995Z",
     "shell.execute_reply": "2023-03-23T16:25:57.591294Z"
    },
    "papermill": {
     "duration": 15.474437,
     "end_time": "2023-03-23T16:25:57.593465",
     "exception": false,
     "start_time": "2023-03-23T16:25:42.119028",
     "status": "completed"
    },
    "scrolled": false,
    "tags": []
   },
   "outputs": [
    {
     "data": {
      "application/vnd.jupyter.widget-view+json": {
       "model_id": "70e2979001824f0a880941e756493bc1",
       "version_major": 2,
       "version_minor": 0
      },
      "text/plain": [
       "  0%|          | 0/2 [00:00<?, ?it/s]"
      ]
     },
     "metadata": {},
     "output_type": "display_data"
    },
    {
     "name": "stdout",
     "output_type": "stream",
     "text": [
      "Retrieving document from  https://arxiv.org/e-print/2303.12101\n"
     ]
    },
    {
     "name": "stdout",
     "output_type": "stream",
     "text": [
      "extracting tarball to tmp_2303.12101..."
     ]
    },
    {
     "name": "stdout",
     "output_type": "stream",
     "text": [
      " done.\n"
     ]
    },
    {
     "name": "stderr",
     "output_type": "stream",
     "text": [
      "/opt/hostedtoolcache/Python/3.9.16/x64/lib/python3.9/site-packages/IPython/core/interactiveshell.py:3460: LatexWarning: Multiple tex files.\n",
      "\n",
      "  exec(code_obj, self.user_global_ns, self.user_ns)\n",
      "/opt/hostedtoolcache/Python/3.9.16/x64/lib/python3.9/site-packages/IPython/core/interactiveshell.py:3460: LatexWarning: Found documentclass in tmp_2303.12101/main.tex\n",
      "\n",
      "  exec(code_obj, self.user_global_ns, self.user_ns)\n",
      "/opt/hostedtoolcache/Python/3.9.16/x64/lib/python3.9/site-packages/arxiv_on_deck_2/latex.py:362: LatexWarning: Latex injecting: 'tex/06appendix' from 'tmp_2303.12101/tex/06appendix.tex'\n",
      "  warnings.warn(LatexWarning(f\"Latex injecting: '{ext}' from '{subsource}'\"))\n",
      "/opt/hostedtoolcache/Python/3.9.16/x64/lib/python3.9/site-packages/arxiv_on_deck_2/latex.py:362: LatexWarning: Latex injecting: 'tex/05conclusion' from 'tmp_2303.12101/tex/05conclusion.tex'\n",
      "  warnings.warn(LatexWarning(f\"Latex injecting: '{ext}' from '{subsource}'\"))\n",
      "/opt/hostedtoolcache/Python/3.9.16/x64/lib/python3.9/site-packages/arxiv_on_deck_2/latex.py:362: LatexWarning: Latex injecting: 'tex/04evolutionary_sequence' from 'tmp_2303.12101/tex/04evolutionary_sequence.tex'\n",
      "  warnings.warn(LatexWarning(f\"Latex injecting: '{ext}' from '{subsource}'\"))\n",
      "/opt/hostedtoolcache/Python/3.9.16/x64/lib/python3.9/site-packages/arxiv_on_deck_2/latex.py:362: LatexWarning: Latex injecting: 'tex/03match_catalogues' from 'tmp_2303.12101/tex/03match_catalogues.tex'\n",
      "  warnings.warn(LatexWarning(f\"Latex injecting: '{ext}' from '{subsource}'\"))\n",
      "/opt/hostedtoolcache/Python/3.9.16/x64/lib/python3.9/site-packages/arxiv_on_deck_2/latex.py:362: LatexWarning: Latex injecting: 'tex/02data' from 'tmp_2303.12101/tex/02data.tex'\n",
      "  warnings.warn(LatexWarning(f\"Latex injecting: '{ext}' from '{subsource}'\"))\n",
      "/opt/hostedtoolcache/Python/3.9.16/x64/lib/python3.9/site-packages/arxiv_on_deck_2/latex.py:362: LatexWarning: Latex injecting: 'tex/01introduction' from 'tmp_2303.12101/tex/01introduction.tex'\n",
      "  warnings.warn(LatexWarning(f\"Latex injecting: '{ext}' from '{subsource}'\"))\n"
     ]
    },
    {
     "name": "stderr",
     "output_type": "stream",
     "text": [
      "/opt/hostedtoolcache/Python/3.9.16/x64/lib/python3.9/site-packages/arxiv_on_deck_2/latex.py:120: LatexWarning: attempting recovering figure overlap_rgb\n",
      "  warnings.warn(LatexWarning(f'attempting recovering figure {image}'))\n",
      "/opt/hostedtoolcache/Python/3.9.16/x64/lib/python3.9/site-packages/arxiv_on_deck_2/latex.py:125: LatexWarning: Recovered figure overlap_rgb as tmp_2303.12101/fig/overlap_rgb.pdf\n",
      "  warnings.warn(LatexWarning(f'Recovered figure {image} as {fname}'))\n"
     ]
    },
    {
     "name": "stderr",
     "output_type": "stream",
     "text": [
      "/opt/hostedtoolcache/Python/3.9.16/x64/lib/python3.9/site-packages/arxiv_on_deck_2/latex.py:120: LatexWarning: attempting recovering figure catalogue_properties_2D_hist\n",
      "  warnings.warn(LatexWarning(f'attempting recovering figure {image}'))\n",
      "/opt/hostedtoolcache/Python/3.9.16/x64/lib/python3.9/site-packages/arxiv_on_deck_2/latex.py:125: LatexWarning: Recovered figure catalogue_properties_2D_hist as tmp_2303.12101/fig/catalogue_properties_2D_hist.pdf\n",
      "  warnings.warn(LatexWarning(f'Recovered figure {image} as {fname}'))\n",
      "/opt/hostedtoolcache/Python/3.9.16/x64/lib/python3.9/site-packages/arxiv_on_deck_2/latex.py:120: LatexWarning: attempting recovering figure Halpha_luminosity_function\n",
      "  warnings.warn(LatexWarning(f'attempting recovering figure {image}'))\n",
      "/opt/hostedtoolcache/Python/3.9.16/x64/lib/python3.9/site-packages/arxiv_on_deck_2/latex.py:125: LatexWarning: Recovered figure Halpha_luminosity_function as tmp_2303.12101/fig/Halpha_luminosity_function.pdf\n",
      "  warnings.warn(LatexWarning(f'Recovered figure {image} as {fname}'))\n"
     ]
    },
    {
     "name": "stderr",
     "output_type": "stream",
     "text": [
      "/opt/hostedtoolcache/Python/3.9.16/x64/lib/python3.9/site-packages/arxiv_on_deck_2/latex.py:120: LatexWarning: attempting recovering figure mass_HA_EBV\n",
      "  warnings.warn(LatexWarning(f'attempting recovering figure {image}'))\n",
      "/opt/hostedtoolcache/Python/3.9.16/x64/lib/python3.9/site-packages/arxiv_on_deck_2/latex.py:125: LatexWarning: Recovered figure mass_HA_EBV as tmp_2303.12101/fig/mass_HA_EBV.pdf\n",
      "  warnings.warn(LatexWarning(f'Recovered figure {image} as {fname}'))\n"
     ]
    },
    {
     "name": "stderr",
     "output_type": "stream",
     "text": [
      "/opt/hostedtoolcache/Python/3.9.16/x64/lib/python3.9/site-packages/arxiv_on_deck_2/latex.py:120: LatexWarning: attempting recovering figure age_tracers\n",
      "  warnings.warn(LatexWarning(f'attempting recovering figure {image}'))\n",
      "/opt/hostedtoolcache/Python/3.9.16/x64/lib/python3.9/site-packages/arxiv_on_deck_2/latex.py:125: LatexWarning: Recovered figure age_tracers as tmp_2303.12101/fig/age_tracers.pdf\n",
      "  warnings.warn(LatexWarning(f'Recovered figure {image} as {fname}'))\n"
     ]
    },
    {
     "name": "stderr",
     "output_type": "stream",
     "text": [
      "/opt/hostedtoolcache/Python/3.9.16/x64/lib/python3.9/site-packages/arxiv_on_deck_2/latex.py:120: LatexWarning: attempting recovering figure nebulae_age_tracers_corner\n",
      "  warnings.warn(LatexWarning(f'attempting recovering figure {image}'))\n",
      "/opt/hostedtoolcache/Python/3.9.16/x64/lib/python3.9/site-packages/arxiv_on_deck_2/latex.py:125: LatexWarning: Recovered figure nebulae_age_tracers_corner as tmp_2303.12101/fig/nebulae_age_tracers_corner.pdf\n",
      "  warnings.warn(LatexWarning(f'Recovered figure {image} as {fname}'))\n"
     ]
    },
    {
     "name": "stderr",
     "output_type": "stream",
     "text": [
      "/opt/hostedtoolcache/Python/3.9.16/x64/lib/python3.9/site-packages/arxiv_on_deck_2/latex.py:120: LatexWarning: attempting recovering figure age_vs_Ha_over_FUV\n",
      "  warnings.warn(LatexWarning(f'attempting recovering figure {image}'))\n",
      "/opt/hostedtoolcache/Python/3.9.16/x64/lib/python3.9/site-packages/arxiv_on_deck_2/latex.py:125: LatexWarning: Recovered figure age_vs_Ha_over_FUV as tmp_2303.12101/fig/age_vs_Ha_over_FUV.pdf\n",
      "  warnings.warn(LatexWarning(f'Recovered figure {image} as {fname}'))\n"
     ]
    },
    {
     "name": "stderr",
     "output_type": "stream",
     "text": [
      "/opt/hostedtoolcache/Python/3.9.16/x64/lib/python3.9/site-packages/arxiv_on_deck_2/latex.py:120: LatexWarning: attempting recovering figure fig/density_getCrossTemDen\n",
      "  warnings.warn(LatexWarning(f'attempting recovering figure {image}'))\n",
      "/opt/hostedtoolcache/Python/3.9.16/x64/lib/python3.9/site-packages/arxiv_on_deck_2/latex.py:651: LatexWarning: Could not find graphic \\includegraphics[width=0.8\\columnwidth]{fig/density_getCrossTemDen}\n",
      "  warnings.warn(LatexWarning(f\"Could not find graphic {k}\"))\n",
      "/opt/hostedtoolcache/Python/3.9.16/x64/lib/python3.9/site-packages/arxiv_on_deck_2/latex.py:120: LatexWarning: attempting recovering figure dolphot_peaks_stellar_models\n",
      "  warnings.warn(LatexWarning(f'attempting recovering figure {image}'))\n",
      "/opt/hostedtoolcache/Python/3.9.16/x64/lib/python3.9/site-packages/arxiv_on_deck_2/latex.py:125: LatexWarning: Recovered figure dolphot_peaks_stellar_models as tmp_2303.12101/fig/dolphot_peaks_stellar_models.pdf\n",
      "  warnings.warn(LatexWarning(f'Recovered figure {image} as {fname}'))\n"
     ]
    },
    {
     "name": "stderr",
     "output_type": "stream",
     "text": [
      "/opt/hostedtoolcache/Python/3.9.16/x64/lib/python3.9/site-packages/arxiv_on_deck_2/latex.py:120: LatexWarning: attempting recovering figure trends_with_age_tracers\n",
      "  warnings.warn(LatexWarning(f'attempting recovering figure {image}'))\n",
      "/opt/hostedtoolcache/Python/3.9.16/x64/lib/python3.9/site-packages/arxiv_on_deck_2/latex.py:125: LatexWarning: Recovered figure trends_with_age_tracers as tmp_2303.12101/fig/trends_with_age_tracers.pdf\n",
      "  warnings.warn(LatexWarning(f'Recovered figure {image} as {fname}'))\n"
     ]
    },
    {
     "name": "stderr",
     "output_type": "stream",
     "text": [
      "/opt/hostedtoolcache/Python/3.9.16/x64/lib/python3.9/site-packages/arxiv_on_deck_2/latex.py:120: LatexWarning: attempting recovering figure age_hist_contained\n",
      "  warnings.warn(LatexWarning(f'attempting recovering figure {image}'))\n",
      "/opt/hostedtoolcache/Python/3.9.16/x64/lib/python3.9/site-packages/arxiv_on_deck_2/latex.py:125: LatexWarning: Recovered figure age_hist_contained as tmp_2303.12101/fig/age_hist_contained.pdf\n",
      "  warnings.warn(LatexWarning(f'Recovered figure {image} as {fname}'))\n"
     ]
    },
    {
     "name": "stderr",
     "output_type": "stream",
     "text": [
      "/opt/hostedtoolcache/Python/3.9.16/x64/lib/python3.9/site-packages/arxiv_on_deck_2/latex.py:120: LatexWarning: attempting recovering figure age_hist_eq_width\n",
      "  warnings.warn(LatexWarning(f'attempting recovering figure {image}'))\n",
      "/opt/hostedtoolcache/Python/3.9.16/x64/lib/python3.9/site-packages/arxiv_on_deck_2/latex.py:125: LatexWarning: Recovered figure age_hist_eq_width as tmp_2303.12101/fig/age_hist_eq_width.pdf\n",
      "  warnings.warn(LatexWarning(f'Recovered figure {image} as {fname}'))\n"
     ]
    },
    {
     "name": "stdout",
     "output_type": "stream",
     "text": [
      "Found 113 bibliographic references in tmp_2303.12101/main.bbl.\n",
      "Retrieving document from  https://arxiv.org/e-print/2303.12110\n"
     ]
    },
    {
     "name": "stdout",
     "output_type": "stream",
     "text": [
      "extracting tarball to tmp_2303.12110..."
     ]
    },
    {
     "name": "stdout",
     "output_type": "stream",
     "text": [
      " done.\n"
     ]
    },
    {
     "name": "stdout",
     "output_type": "stream",
     "text": [
      "Found 75 bibliographic references in tmp_2303.12110/aanda.bbl.\n"
     ]
    }
   ],
   "source": [
    "documents = []\n",
    "failed = []\n",
    "for paper in tqdm(candidates[:-1]):\n",
    "    paper_id = paper['identifier'].lower().replace('arxiv:', '')\n",
    "    \n",
    "    folder = f'tmp_{paper_id}'\n",
    "\n",
    "    try:\n",
    "        if not os.path.isdir(folder):\n",
    "            folder = retrieve_document_source(f\"{paper_id}\", f'tmp_{paper_id}')\n",
    "        \n",
    "        try:\n",
    "            doc = latex.LatexDocument(folder, validation=validation)    \n",
    "        except AffiliationError as affilerror:\n",
    "            msg = f\"ArXiv:{paper_id:s} is not an MPIA paper... \" + str(affilerror)\n",
    "            failed.append((paper, \"affiliation error: \" + str(affilerror) ))\n",
    "            continue\n",
    "        \n",
    "        # Hack because sometimes author parsing does not work well\n",
    "        if (len(doc.authors) != len(paper['authors'])):\n",
    "            doc._authors = paper['authors']\n",
    "        if (doc.abstract) in (None, ''):\n",
    "            doc._abstract = paper['abstract']\n",
    "            \n",
    "        doc.comment = (get_markdown_badge(paper_id) + \n",
    "                       \"<mark>Appeared on: \" + paper['date'] + \"</mark> - \" +\n",
    "                       \"_\" + paper['comments'] + \"_\")\n",
    "        # highlight authors (FIXME: doc.highlight_authors)\n",
    "        doc._authors = highlight_authors_in_list(\n",
    "            [mpia.get_initials(k) for k in doc.authors], \n",
    "            normed_mpia_authors, verbose=True)\n",
    "\n",
    "        full_md = doc.generate_markdown_text()\n",
    "        \n",
    "        # replace citations\n",
    "        try:\n",
    "            bibdata = latex_bib.LatexBib.from_doc(doc)\n",
    "            full_md = latex_bib.replace_citations(full_md, bibdata)\n",
    "        except Exception as e:\n",
    "            print(e)\n",
    "        \n",
    "        documents.append((paper_id, full_md))\n",
    "    except Exception as e:\n",
    "        warnings.warn(latex.LatexWarning(f\"{paper_id:s} did not run properly\\n\" +\n",
    "                                         str(e)\n",
    "                                        ))\n",
    "        failed.append((paper, \"latex error \" + str(e)))"
   ]
  },
  {
   "cell_type": "markdown",
   "id": "2505a25c",
   "metadata": {
    "papermill": {
     "duration": 0.005034,
     "end_time": "2023-03-23T16:25:57.603599",
     "exception": false,
     "start_time": "2023-03-23T16:25:57.598565",
     "status": "completed"
    },
    "tags": []
   },
   "source": [
    "### Export the logs\n",
    "\n",
    "Throughout, we also keep track of the logs per paper. see `logs-{today date}.md` "
   ]
  },
  {
   "cell_type": "code",
   "execution_count": 5,
   "id": "d733828a",
   "metadata": {
    "execution": {
     "iopub.execute_input": "2023-03-23T16:25:57.614217Z",
     "iopub.status.busy": "2023-03-23T16:25:57.613892Z",
     "iopub.status.idle": "2023-03-23T16:25:57.629438Z",
     "shell.execute_reply": "2023-03-23T16:25:57.628830Z"
    },
    "papermill": {
     "duration": 0.023501,
     "end_time": "2023-03-23T16:25:57.631826",
     "exception": false,
     "start_time": "2023-03-23T16:25:57.608325",
     "status": "completed"
    },
    "scrolled": false,
    "tags": []
   },
   "outputs": [
    {
     "data": {
      "text/markdown": [
       "## Successful papers"
      ],
      "text/plain": [
       "<IPython.core.display.Markdown object>"
      ]
     },
     "metadata": {},
     "output_type": "display_data"
    },
    {
     "data": {
      "text/markdown": [
       "\n",
       "|||\n",
       "|---:|:---|\n",
       "| [![arXiv](https://img.shields.io/badge/arXiv-arXiv:2303.12101-b31b1b.svg)](https://arxiv.org/abs/arXiv:2303.12101) | **Stellar associations powering HII regions $\\unicode{x2013}$ I. Defining  an evolutionary sequence**  |\n",
       "|| F. Scheuermann, et al. -- incl., <mark>K. Kreckel</mark>, <mark>S. Hannon</mark>, <mark>E. Schinnerer</mark> |\n",
       "|*Appeared on*| *2023-03-23*|\n",
       "|*Comments*| *15 pages, 12 figures. Accepted for publication in MNRAS*|\n",
       "|**Abstract**| Connecting the gas in HII regions to the underlying source of the ionizing radiation can help us constrain the physical processes of stellar feedback and how HII regions evolve over time. With PHANGS$\\unicode{x2013}$MUSE we detect nearly 24,000 HII regions across 19 galaxies and measure the physical properties of the ionized gas (e.g. metallicity, ionization parameter, density). We use catalogues of multi-scale stellar associations from PHANGS$\\unicode{x2013}$HST to obtain constraints on the age of the ionizing sources. We construct a matched catalogue of 4,177 HII regions that are clearly linked to a single ionizing association. A weak anti-correlation is observed between the association ages and the H$\\alpha$ equivalent width EW(H$\\alpha$), the H$\\alpha$/FUV flux ratio and the ionization parameter, log q. As all three are expected to decrease as the stellar population ages, this could indicate that we observe an evolutionary sequence. This interpretation is further supported by correlations between all three properties. Interpreting these as evolutionary tracers, we find younger nebulae to be more attenuated by dust and closer to giant molecular clouds, in line with recent models of feedback-regulated star formation. We also observe strong correlations with the local metallicity variations and all three proposed age tracers, suggestive of star formation preferentially occurring in locations of locally enhanced metallicity. Overall, EW(H$\\alpha$) and log q show the most consistent trends and appear to be most reliable tracers for the age of an HII region. |"
      ],
      "text/plain": [
       "[arXiv:2303.12101] Stellar associations powering HII regions $\\unicode{x2013}$ I. Defining  an evolutionary sequence\n",
       "\tF. Scheuermann, et al. -- incl., <mark>K. Kreckel</mark>, <mark>S. Hannon</mark>, <mark>E. Schinnerer</mark>"
      ]
     },
     "metadata": {},
     "output_type": "display_data"
    },
    {
     "data": {
      "text/markdown": [
       "\n",
       "|||\n",
       "|---:|:---|\n",
       "| [![arXiv](https://img.shields.io/badge/arXiv-arXiv:2303.12110-b31b1b.svg)](https://arxiv.org/abs/arXiv:2303.12110) | **The Gas Mass Reservoir of Quiescent Galaxies at Cosmic Noon**  |\n",
       "|| D. Blánquez-Sesé, et al. -- incl., <mark>E. Schinnerer</mark> |\n",
       "|*Appeared on*| *2023-03-23*|\n",
       "|*Comments*| *Accepted to A&A on the 16/03/2023*|\n",
       "|**Abstract**| We present a 1.1mm stacking analysis of moderately massive (log($M_{*}$/$M_{\\odot}$) = 10.7 $\\pm$ 0.2) quiescent galaxies (QGs) at $\\langle z\\rangle \\sim1.5$, searching for cold dust continuum emission, an excellent tracer of dust and gas mass. Using both the recent GOODS-ALMA survey as well as the full suite of ALMA Band-6 ancillary data in the GOODS-S field, we report the tentative detection of dust continuum equivalent of dust mass log($M_{dust}$/$M_{\\odot}$) = 7.47 $\\pm$ 0.13 and gas mass log($M_{gas}$/$M_{\\odot}$) = 9.42 $\\pm$ 0.14. The emerging gas fraction is $f_{gas}$ = 5.3 $\\pm$ 1.8%, consistent with the results of previous stacking analyses based on lower resolution sub(mm) observations. Our results support the scenario where high-z QGs have an order of magnitude larger $f_{gas}$ compared to their local counterparts and have experienced quenching with a non negligible gas reservoir in their interstellar medium - i.e. with gas retention. Subsequent analysis yields an anti-correlation between the $f_{gas}$ and the stellar mass of QGs, especially in the high mass end where galaxies reside in the most massive haloes. The $f_{gas}$ - $M_{*}$ anti-correlation promotes the selection bias as a possible solution to the tension between the stacking results pointing towards gas retention in high-z QGs of moderate $M_{*}$ and the studies of individual targets that favour a fully depleted ISM in massive (log($M_{*}$/$M_{\\odot}$) high-z QGs. |"
      ],
      "text/plain": [
       "[arXiv:2303.12110] The Gas Mass Reservoir of Quiescent Galaxies at Cosmic Noon\n",
       "\tD. Blánquez-Sesé, et al. -- incl., <mark>E. Schinnerer</mark>"
      ]
     },
     "metadata": {},
     "output_type": "display_data"
    },
    {
     "data": {
      "text/markdown": [
       "## Failed papers"
      ],
      "text/plain": [
       "<IPython.core.display.Markdown object>"
      ]
     },
     "metadata": {},
     "output_type": "display_data"
    }
   ],
   "source": [
    "import datetime\n",
    "today = str(datetime.date.today())\n",
    "logfile = f\"_build/html/logs/log-{today}.md\"\n",
    "\n",
    "\n",
    "with open(logfile, 'w') as logs:\n",
    "    # Success\n",
    "    logs.write(f'# Arxiv on Deck 2: Logs - {today}\\n\\n')\n",
    "    logs.write(\"\"\"* Arxiv had {0:,d} new papers\\n\"\"\".format(len(new_papers)))\n",
    "    logs.write(\"\"\"    * {0:,d} with possible author matches\\n\\n\"\"\".format(len(candidates)))\n",
    "    logs.write(\"## Sucessful papers\\n\\n\")\n",
    "    display(Markdown(\"## Successful papers\"))\n",
    "    success = [k[0] for k in documents]\n",
    "    for candid in candidates:\n",
    "        if candid['identifier'].split(':')[-1] in success:\n",
    "            display(candid)\n",
    "            logs.write(candid.generate_markdown_text() + '\\n\\n')\n",
    "\n",
    "    ## failed\n",
    "    logs.write(\"## Failed papers\\n\\n\")\n",
    "    display(Markdown(\"## Failed papers\"))\n",
    "    failed = sorted(failed, key=lambda x: x[1])\n",
    "    current_reason = \"\"\n",
    "    for paper, reason in failed:\n",
    "        if 'affiliation' in reason:\n",
    "            color = 'green'\n",
    "        else:\n",
    "            color = 'red'\n",
    "        data = Markdown(\n",
    "                paper.generate_markdown_text() + \n",
    "                f'\\n|<p style=\"color:{color:s}\"> **ERROR** </p>| <p style=\"color:{color:s}\">{reason:s}</p> |'\n",
    "               )\n",
    "        if reason != current_reason:\n",
    "            logs.write(f'### {reason:s} \\n\\n')\n",
    "            current_reason = reason\n",
    "        logs.write(data.data + '\\n\\n')\n",
    "        \n",
    "        # only display here the important errors (all in logs)\n",
    "        # if color in ('red',):\n",
    "        display(data)"
   ]
  },
  {
   "cell_type": "markdown",
   "id": "472d20ee",
   "metadata": {
    "papermill": {
     "duration": 0.005155,
     "end_time": "2023-03-23T16:25:57.643071",
     "exception": false,
     "start_time": "2023-03-23T16:25:57.637916",
     "status": "completed"
    },
    "tags": []
   },
   "source": [
    "## Export documents\n",
    "\n",
    "We now write the .md files and export relevant images"
   ]
  },
  {
   "cell_type": "code",
   "execution_count": 6,
   "id": "d426aed9",
   "metadata": {
    "execution": {
     "iopub.execute_input": "2023-03-23T16:25:57.654856Z",
     "iopub.status.busy": "2023-03-23T16:25:57.654271Z",
     "iopub.status.idle": "2023-03-23T16:25:57.661444Z",
     "shell.execute_reply": "2023-03-23T16:25:57.660759Z"
    },
    "papermill": {
     "duration": 0.014695,
     "end_time": "2023-03-23T16:25:57.662948",
     "exception": false,
     "start_time": "2023-03-23T16:25:57.648253",
     "status": "completed"
    },
    "tags": []
   },
   "outputs": [],
   "source": [
    "def export_markdown_summary(md: str, md_fname:str, directory: str):\n",
    "    \"\"\"Export MD document and associated relevant images\"\"\"\n",
    "    import os\n",
    "    import shutil\n",
    "    import re\n",
    "\n",
    "    if (os.path.exists(directory) and not os.path.isdir(directory)):\n",
    "        raise RuntimeError(f\"a non-directory file exists with name {directory:s}\")\n",
    "\n",
    "    if (not os.path.exists(directory)):\n",
    "        print(f\"creating directory {directory:s}\")\n",
    "        os.mkdir(directory)\n",
    "\n",
    "    fig_fnames = (re.compile(r'\\[Fig.*\\]\\((.*)\\)').findall(md) + \n",
    "                  re.compile(r'\\<img src=\"([^>\\s]*)\"[^>]*/>').findall(md))\n",
    "    for fname in fig_fnames:\n",
    "        if 'http' in fname:\n",
    "            # No need to copy online figures\n",
    "            continue\n",
    "        destdir = os.path.join(directory, os.path.dirname(fname))\n",
    "        destfname = os.path.join(destdir, os.path.basename(fname))\n",
    "        try:\n",
    "            os.makedirs(destdir)\n",
    "        except FileExistsError:\n",
    "            pass\n",
    "        shutil.copy(fname, destfname)\n",
    "    with open(os.path.join(directory, md_fname), 'w') as fout:\n",
    "        fout.write(md)\n",
    "    print(\"exported in \", os.path.join(directory, md_fname))\n",
    "    [print(\"    + \" + os.path.join(directory,fk)) for fk in fig_fnames]"
   ]
  },
  {
   "cell_type": "code",
   "execution_count": 7,
   "id": "014d04a4",
   "metadata": {
    "execution": {
     "iopub.execute_input": "2023-03-23T16:25:57.674692Z",
     "iopub.status.busy": "2023-03-23T16:25:57.674061Z",
     "iopub.status.idle": "2023-03-23T16:25:57.684065Z",
     "shell.execute_reply": "2023-03-23T16:25:57.683352Z"
    },
    "papermill": {
     "duration": 0.017346,
     "end_time": "2023-03-23T16:25:57.685475",
     "exception": false,
     "start_time": "2023-03-23T16:25:57.668129",
     "status": "completed"
    },
    "tags": []
   },
   "outputs": [
    {
     "name": "stdout",
     "output_type": "stream",
     "text": [
      "exported in  _build/html/2303.12101.md\n",
      "    + _build/html/tmp_2303.12101/fig/nebulae_age_tracers_corner.png\n",
      "    + _build/html/tmp_2303.12101/fig/overlap_rgb.png\n",
      "    + _build/html/tmp_2303.12101/fig/catalogue_properties_2D_hist.png\n",
      "exported in  _build/html/2303.12110.md\n",
      "    + _build/html/tmp_2303.12110/./Figures/f_gas_final.png\n",
      "    + _build/html/tmp_2303.12110/./Figures/fgas_mstar_15.0.png\n",
      "    + _build/html/tmp_2303.12110/./Figures/Galaxy_selection_2.png\n",
      "    + _build/html/tmp_2303.12110/./Figures/UVJ_diagram.png\n"
     ]
    }
   ],
   "source": [
    "for paper_id, md in documents:\n",
    "    export_markdown_summary(md, f\"{paper_id:s}.md\", '_build/html/')"
   ]
  },
  {
   "cell_type": "markdown",
   "id": "f087a0a7",
   "metadata": {
    "papermill": {
     "duration": 0.005331,
     "end_time": "2023-03-23T16:25:57.696244",
     "exception": false,
     "start_time": "2023-03-23T16:25:57.690913",
     "status": "completed"
    },
    "tags": []
   },
   "source": [
    "## Display the papers\n",
    "\n",
    "Not necessary but allows for a quick check."
   ]
  },
  {
   "cell_type": "code",
   "execution_count": 8,
   "id": "fd25f625",
   "metadata": {
    "execution": {
     "iopub.execute_input": "2023-03-23T16:25:57.708222Z",
     "iopub.status.busy": "2023-03-23T16:25:57.707693Z",
     "iopub.status.idle": "2023-03-23T16:25:57.713297Z",
     "shell.execute_reply": "2023-03-23T16:25:57.712701Z"
    },
    "papermill": {
     "duration": 0.013108,
     "end_time": "2023-03-23T16:25:57.714783",
     "exception": false,
     "start_time": "2023-03-23T16:25:57.701675",
     "status": "completed"
    },
    "scrolled": false,
    "tags": []
   },
   "outputs": [
    {
     "data": {
      "text/markdown": [
       "<div class=\"macros\" style=\"visibility:hidden;\">\n",
       "$\\newcommand{\\ensuremath}{}$\n",
       "$\\newcommand{\\xspace}{}$\n",
       "$\\newcommand{\\object}[1]{\\texttt{#1}}$\n",
       "$\\newcommand{\\farcs}{{.}''}$\n",
       "$\\newcommand{\\farcm}{{.}'}$\n",
       "$\\newcommand{\\arcsec}{''}$\n",
       "$\\newcommand{\\arcmin}{'}$\n",
       "$\\newcommand{\\ion}[2]{#1#2}$\n",
       "$\\newcommand{\\textsc}[1]{\\textrm{#1}}$\n",
       "$\\newcommand{\\hl}[1]{\\textrm{#1}}$\n",
       "$\\newcommand{\\footnote}[1]{}$\n",
       "$\\newcommand{\\uncertainty}[3]{#1^{+#2}_{-#3}}$\n",
       "$\\newcommand{\\StoN}{\\mathrm{S}/\\mathrm{N}}$\n",
       "$\\newcommand$\n",
       "$\\newcommand$\n",
       "$\\newcommand$\n",
       "$\\newcommand$\n",
       "$\\newcommand$\n",
       "$\\newcommand$\n",
       "$\\newcommand$\n",
       "$\\newcommand$\n",
       "$\\newcommand$\n",
       "$\\newcommand$\n",
       "$\\newcommand$\n",
       "$\\newcommand$\n",
       "$\\newcommand$\n",
       "$\\newcommand$\n",
       "$\\newcommand$\n",
       "$\\newcommand$\n",
       "$\\newcommand$\n",
       "$\\newcommand$\n",
       "$\\newcommand$\n",
       "$\\newcommand$\n",
       "$\\newcommand{\\change}[1]{{\\color{orange}#1}}$\n",
       "$\\newcommand{\\thebibliography}{\\DeclareRobustCommand{\\VAN}[3]{##3}\\VANthebibliography}$</div>\n",
       "\n",
       "<div class=\"macros\" style=\"visibility:hidden;\">\n",
       "$\\newcommand{\\ensuremath}{}$\n",
       "$\\newcommand{\\xspace}{}$\n",
       "$\\newcommand{\\object}[1]{\\texttt{#1}}$\n",
       "$\\newcommand{\\farcs}{{.}''}$\n",
       "$\\newcommand{\\farcm}{{.}'}$\n",
       "$\\newcommand{\\arcsec}{''}$\n",
       "$\\newcommand{\\arcmin}{'}$\n",
       "$\\newcommand{\\ion}[2]{#1#2}$\n",
       "$\\newcommand{\\textsc}[1]{\\textrm{#1}}$\n",
       "$\\newcommand{\\hl}[1]{\\textrm{#1}}$\n",
       "$\\newcommand{\\footnote}[1]{}$\n",
       "$\\newcommand{\\uncertainty}[3]{#1^{+#2}_{-#3}}$\n",
       "$\\newcommand{\\StoN}{\\mathrm{S}/\\mathrm{N}}$\n",
       "$\\newcommand$\n",
       "$\\newcommand$\n",
       "$\\newcommand$\n",
       "$\\newcommand$\n",
       "$\\newcommand$\n",
       "$\\newcommand$\n",
       "$\\newcommand$\n",
       "$\\newcommand$\n",
       "$\\newcommand$\n",
       "$\\newcommand$\n",
       "$\\newcommand$\n",
       "$\\newcommand$\n",
       "$\\newcommand$\n",
       "$\\newcommand$\n",
       "$\\newcommand$\n",
       "$\\newcommand$\n",
       "$\\newcommand$\n",
       "$\\newcommand$\n",
       "$\\newcommand$\n",
       "$\\newcommand$\n",
       "$\\newcommand{\\change}[1]{{\\color{orange}#1}}$\n",
       "$\\newcommand{\\thebibliography}{\\DeclareRobustCommand{\\VAN}[3]{##3}\\VANthebibliography}$</div>\n",
       "\n",
       "\n",
       "\n",
       "<div id=\"title\">\n",
       "\n",
       "# Stellar associations powering $\\HII$ regions -- I. Defining an evolutionary sequence\n",
       "\n",
       "</div>\n",
       "<div id=\"comments\">\n",
       "\n",
       "[![arXiv](https://img.shields.io/badge/arXiv-2303.12101-b31b1b.svg)](https://arxiv.org/abs/2303.12101)<mark>Appeared on: 2023-03-23</mark> - _15 pages, 12 figures. Accepted for publication in MNRAS_\n",
       "\n",
       "</div>\n",
       "<div id=\"authors\">\n",
       "\n",
       "F. Scheuermann, et al.\n",
       "\n",
       "</div>\n",
       "<div id=\"abstract\">\n",
       "\n",
       "**Abstract:** Connecting the gas in $\\HII$ regions to the underlying source of the ionizing radiation can help us constrain the physical processes of stellar feedback and how $\\HII$ regions evolve over time.With PHANGS--MUSE we detect nearly $\\num{24000}$ $\\HII$ regions across 19 galaxies and measure the physical properties of the ionized gas (e.g. metallicity, ionization parameter, density).We use catalogues of multi-scale stellar associations from PHANGS-- $_HST_$ to obtain constraints on the age of the ionizing sources.We construct a matched catalogue of $\\num{4177}$ $\\HII$ regions that are clearly linked to a single ionizing association.A weak anti-correlation is observed between the association ages and the $\\HA$ equivalent width $\\EW$ , the $\\HA/\\FUV$ flux ratio and the ionization parameter, $\\log q$ .As all three are expected to decrease as the stellar population ages, this could indicate that we observe an evolutionary sequence.This interpretation is further supported by correlations between all three properties.Interpreting these as evolutionary tracers, we find younger nebulae to be more attenuated by dust and closer to giant molecular clouds, in line with recent models of feedback-regulated star formation.We also observe strong correlations with the local metallicity variations and all three proposed age tracers, suggestive of star formation preferentially occurring in locations of locally enhanced metallicity.Overall, $\\EW$ and $\\log q$ show the most consistent trends and appear to be most reliable tracers for the age of an $\\HII$ region.\n",
       "\n",
       "</div>\n",
       "\n",
       "<div id=\"div_fig1\">\n",
       "\n",
       "<img src=\"tmp_2303.12101/fig/nebulae_age_tracers_corner.png\" alt=\"Fig6\" width=\"100%\"/>\n",
       "\n",
       "**Figure 6. -** Comparison between the proposed age tracers for the full \\HII region catalogue. The nebulae are grouped by their host galaxy, sorted by stellar mass $M_{\\star}$, with the median of the entire sample indicated by a black line. The 68 and 98 percentile ranges are shaded in grey. (*fig:age_tracers_corner*)\n",
       "\n",
       "</div>\n",
       "<div id=\"div_fig2\">\n",
       "\n",
       "<img src=\"tmp_2303.12101/fig/overlap_rgb.png\" alt=\"Fig1\" width=\"100%\"/>\n",
       "\n",
       "**Figure 1. -** Examples for the overlap between the \\HII regions and stellar associations in \\galaxyname{NGC}{1365}. The cutouts show a three colour composite images, based on the 5 available _HST_ bands, overlaid with the $\\HA$ line emission of MUSE in red. The boundaries of the \\HII regions are shown in red and the stellar associations in blue. Flags that characterise the overlap between the two catalogues are showcased in this figure. (*fig:overlap*)\n",
       "\n",
       "</div>\n",
       "<div id=\"div_fig3\">\n",
       "\n",
       "<img src=\"tmp_2303.12101/fig/catalogue_properties_2D_hist.png\" alt=\"Fig2\" width=\"100%\"/>\n",
       "\n",
       "**Figure 2. -** Distribution of masses and ages of the stellar associations in the matched catalogue (the \\texttt{one-to-one} sample). The black lines mark the cuts that we apply to the sample to ensure a fully sampled IMF (more massive than $>\\SI{e4}{\\Msun}$) and to only include young clusters that should be associated with ionized gas (younger than $\\leq\\SI{8}{\\mega\\year}$). The mass cut leaves us with a sample of \\num{1014} objects and the age cut with \\num{3531}. Applying both cuts results in a sample of \\num{756} objects. (*fig:catalogue_properties_2D_hist_v2*)\n",
       "\n",
       "</div>"
      ],
      "text/plain": [
       "<IPython.core.display.Markdown object>"
      ]
     },
     "metadata": {},
     "output_type": "display_data"
    },
    {
     "data": {
      "text/markdown": [
       "<div class=\"macros\" style=\"visibility:hidden;\">\n",
       "$\\newcommand{\\ensuremath}{}$\n",
       "$\\newcommand{\\xspace}{}$\n",
       "$\\newcommand{\\object}[1]{\\texttt{#1}}$\n",
       "$\\newcommand{\\farcs}{{.}''}$\n",
       "$\\newcommand{\\farcm}{{.}'}$\n",
       "$\\newcommand{\\arcsec}{''}$\n",
       "$\\newcommand{\\arcmin}{'}$\n",
       "$\\newcommand{\\ion}[2]{#1#2}$\n",
       "$\\newcommand{\\textsc}[1]{\\textrm{#1}}$\n",
       "$\\newcommand{\\hl}[1]{\\textrm{#1}}$\n",
       "$\\newcommand{\\footnote}[1]{}$\n",
       "$\\newcommand{\\Mgas}{M_{\\rm gas}}$\n",
       "$\\newcommand{\\Mdust}{M_{\\rm dust}}$\n",
       "$\\newcommand{\\Mstar}{M_{\\rm \\ast}}$\n",
       "$\\newcommand{\\Msol}{\\rm M_{\\rm \\odot}}$\n",
       "$\\newcommand{\\fgas}{f_{\\rm gas}}$\n",
       "$\\newcommand{\\fdust}{f_{\\rm dust}}$\n",
       "$\\newcommand{\\Gobat}{{\\color{blue} G18}}$\n",
       "$\\newcommand{\\Magdis}{{\\color{blue} M21}}$</div>\n",
       "\n",
       "<div class=\"macros\" style=\"visibility:hidden;\">\n",
       "$\\newcommand{\\ensuremath}{}$\n",
       "$\\newcommand{\\xspace}{}$\n",
       "$\\newcommand{\\object}[1]{\\texttt{#1}}$\n",
       "$\\newcommand{\\farcs}{{.}''}$\n",
       "$\\newcommand{\\farcm}{{.}'}$\n",
       "$\\newcommand{\\arcsec}{''}$\n",
       "$\\newcommand{\\arcmin}{'}$\n",
       "$\\newcommand{\\ion}[2]{#1#2}$\n",
       "$\\newcommand{\\textsc}[1]{\\textrm{#1}}$\n",
       "$\\newcommand{\\hl}[1]{\\textrm{#1}}$\n",
       "$\\newcommand{\\footnote}[1]{}$\n",
       "$\\newcommand{\\Mgas}{M_{\\rm gas}}$\n",
       "$\\newcommand{\\Mdust}{M_{\\rm dust}}$\n",
       "$\\newcommand{\\Mstar}{M_{\\rm \\ast}}$\n",
       "$\\newcommand{\\Msol}{\\rm M_{\\rm \\odot}}$\n",
       "$\\newcommand{\\fgas}{f_{\\rm gas}}$\n",
       "$\\newcommand{\\fdust}{f_{\\rm dust}}$\n",
       "$\\newcommand{\\Gobat}{{\\color{blue} G18}}$\n",
       "$\\newcommand{\\Magdis}{{\\color{blue} M21}}$</div>\n",
       "\n",
       "\n",
       "\n",
       "<div id=\"title\">\n",
       "\n",
       "# The gas mass reservoir of quiescent galaxies at cosmic noon\n",
       "\n",
       "</div>\n",
       "<div id=\"comments\">\n",
       "\n",
       "[![arXiv](https://img.shields.io/badge/arXiv-2303.12110-b31b1b.svg)](https://arxiv.org/abs/2303.12110)<mark>Appeared on: 2023-03-23</mark> - _Accepted to A&A on the 16/03/2023_\n",
       "\n",
       "</div>\n",
       "<div id=\"authors\">\n",
       "\n",
       "D. Blánquez-Sesé, et al. -- incl., <mark>E. Schinnerer</mark>\n",
       "\n",
       "</div>\n",
       "<div id=\"abstract\">\n",
       "\n",
       "**Abstract:** We present a 1.1mm stacking analysis of moderately massive (log( $\\Mstar$ / $\\Msol$ ) = 10.7 $\\pm$ 0.2) quiescent galaxies (QGs) at $\\langle z\\rangle \\sim1.5$ , searching for cold dust continuum emission, an excellent tracer of dust and gas mass. Using both the recent GOODS-ALMA survey as well as the full suite of ALMA Band-6 ancillary data in the GOODS-S field, we report the tentative detection of dust continuum equivalent of   dust mass log( $\\Mdust$ / $\\Msol$ ) = 7.47 $\\pm$ 0.13 and gas mass log( $\\Mgas$ / $\\Msol$ ) = 9.42 $\\pm$ 0.14. The emerging gas fraction is $\\fgas$ = 5.3 $\\pm$ 1.8 \\% , consistent with the results of previous stacking analyses based on lower resolution sub(mm) observations. Our results support the scenario where high $-z$ QGs have an order of magnitude larger $\\fgas$ compared to their local counterparts and have experienced quenching with a non negligible gas reservoir in their interstellar medium - i.e. with gas retention. Subsequent analysis yields an anti-correlation between the $\\fgas$ and the stellar mass of QGs, especially in the high mass end where galaxies reside in the most massive haloes. The $\\fgas$ - $\\Mstar$ anti-correlation promotes the selection bias as a possible solution to the tension between the stacking results pointing towards gas retention in high $-z$ QGs of moderate $\\Mstar$ and the studies of individual targets that favour a fully depleted ISM in massive (log( $\\Mstar$ / $\\Msol$ ) > 11.2) high $-z$ QGs.\n",
       "\n",
       "</div>\n",
       "\n",
       "<div id=\"div_fig1\">\n",
       "\n",
       "<img src=\"tmp_2303.12110/./Figures/f_gas_final.png\" alt=\"Fig6.1\" width=\"50%\"/><img src=\"tmp_2303.12110/./Figures/fgas_mstar_15.0.png\" alt=\"Fig6.2\" width=\"50%\"/>\n",
       "\n",
       "**Figure 6. -** **Gas and dust fractions of QGs**_Top_: Selection of $\\fdust$ and $\\fgas$ measurements as a function of  redshift for QGs. Circles correspond to dust derived gas fractions: this work and  previous stacks studies ($\\Gobat$ and $\\Magdis$) are shown in red and blue, respectively. The white circles show two different estimates (connected by a grey dotted line) for a sample of individually observed lensed galaxies. The lower values correspond to those presented in  ([Whitaker, Williams and Mowla (2021)]())  and the upper values show the new estimates provided in  ([Gobat and Liu (2022)]()) . The grey diamonds represent CO derived $\\fgas$ estimates  ([Sargent, Daddi and Bournaud 2015](), [Bezanson, Spilker and Williams 2019](), [Williams, Spilker and Whitaker 2021]()) . The red dashed area embeds $\\fgas$ measurements of local QGs obtained for the ATLAS3D sample  ([Young, Bureau and Davis 2011](), [Cappellari, McDermid and Alatalo 2013](), [Davis, Young and Crocker 2014]()) . The blue shaded area and the purple dashed line represent the best fit to the $\\Magdis$ data and the  ([Gobat, Magdis and Valentino (2020)]())  model respectively. For reference, we add the $\\fgas$ evolution of main sequence galaxies according to  ([Liu, Lang and Magnelli (2019)]()) . _Bottom_: Dust and gas fraction as a function of stellar mass for measurements at $z \\sim 1.5$. The symbols are the same as in the top panel. The dotted line shows the $\\fgas$ prediction according to the  ([Davé, Finlator and Oppenheimer (2012)]())  galaxy evolution models, color coded as a function of $M_{\\mathrm{halo}}$. For reference, we add the $\\fgas$ - $\\Mstar$ trend measured by  ([Magdis, Daddi and Béthermin (2012)](), [Liu, Lang and Magnelli (2019)]()) . The light yellow scattered diamonds and arrows mark the $\\fgas$ detections and upper limits for local QGs with the corresponding best fit plotted as a black dashed line. (*fig:f_gas_plot*)\n",
       "\n",
       "</div>\n",
       "<div id=\"div_fig2\">\n",
       "\n",
       "<img src=\"tmp_2303.12110/./Figures/Galaxy_selection_2.png\" alt=\"Fig1\" width=\"100%\"/>\n",
       "\n",
       "**Figure 1. -** **Galaxy selection.** Density plot of the used ZFOURGE catalogue in the redshift vs stellar mass plane, consisting of a total 13299 galaxies. The red shaded area represents the region covered by our redshift and stellar mass selection criteria ($1 < z < 3$ and 10.20 $<$ log($\\Mstar$/$\\Msol$) $<$ 11.50) embedding 852 sources. The orange circles correspond to the QGs that constitute our final selection.  (*fig:galaxy_selection*)\n",
       "\n",
       "</div>\n",
       "<div id=\"div_fig3\">\n",
       "\n",
       "<img src=\"tmp_2303.12110/./Figures/UVJ_diagram.png\" alt=\"Fig2\" width=\"100%\"/>\n",
       "\n",
       "**Figure 2. -** **UVJ colour diagram.** Distribution of the parent sample of 435 galaxies that meet our selection criteria in the $U-V$, $V-J$ colour-colour space, colour coded by their log(SFR). The red box represents the quiescent region limits defined in  ([Schreiber, Pannella and Elbaz (2015)]()) , which enclose the 140 QGs from which we draw our final sample. (*fig:UVJ_diagram*)\n",
       "\n",
       "</div>"
      ],
      "text/plain": [
       "<IPython.core.display.Markdown object>"
      ]
     },
     "metadata": {},
     "output_type": "display_data"
    }
   ],
   "source": [
    "[display(Markdown(k[1])) for k in documents];"
   ]
  },
  {
   "cell_type": "markdown",
   "id": "873873a4",
   "metadata": {
    "papermill": {
     "duration": 0.005861,
     "end_time": "2023-03-23T16:25:57.726426",
     "exception": false,
     "start_time": "2023-03-23T16:25:57.720565",
     "status": "completed"
    },
    "tags": []
   },
   "source": [
    "# Create HTML index"
   ]
  },
  {
   "cell_type": "code",
   "execution_count": 9,
   "id": "cf665672",
   "metadata": {
    "execution": {
     "iopub.execute_input": "2023-03-23T16:25:57.739191Z",
     "iopub.status.busy": "2023-03-23T16:25:57.738650Z",
     "iopub.status.idle": "2023-03-23T16:25:57.748932Z",
     "shell.execute_reply": "2023-03-23T16:25:57.748389Z"
    },
    "papermill": {
     "duration": 0.018142,
     "end_time": "2023-03-23T16:25:57.750338",
     "exception": false,
     "start_time": "2023-03-23T16:25:57.732196",
     "status": "completed"
    },
    "tags": []
   },
   "outputs": [
    {
     "name": "stdout",
     "output_type": "stream",
     "text": [
      "203  publications files modified in the last 7 days.\n"
     ]
    }
   ],
   "source": [
    "from datetime import datetime, timedelta, timezone\n",
    "from glob import glob\n",
    "import os\n",
    "\n",
    "files = glob('_build/html/*.md')\n",
    "days = 7\n",
    "now = datetime.today()\n",
    "res = []\n",
    "for fk in files:\n",
    "    stat_result = os.stat(fk).st_ctime\n",
    "    modified = datetime.fromtimestamp(stat_result, tz=timezone.utc).replace(tzinfo=None)\n",
    "    delta = now.today() - modified\n",
    "    if delta <= timedelta(days=days):\n",
    "        res.append((delta.seconds, fk))\n",
    "res = [k[1] for k in reversed(sorted(res, key=lambda x:x[1]))]\n",
    "npub = len(res)\n",
    "print(len(res), f\" publications files modified in the last {days:d} days.\")\n",
    "# [ print('\\t', k) for k in res ];"
   ]
  },
  {
   "cell_type": "code",
   "execution_count": 10,
   "id": "015de740",
   "metadata": {
    "execution": {
     "iopub.execute_input": "2023-03-23T16:25:57.763475Z",
     "iopub.status.busy": "2023-03-23T16:25:57.762959Z",
     "iopub.status.idle": "2023-03-23T16:25:57.783708Z",
     "shell.execute_reply": "2023-03-23T16:25:57.783068Z"
    },
    "papermill": {
     "duration": 0.02885,
     "end_time": "2023-03-23T16:25:57.785167",
     "exception": false,
     "start_time": "2023-03-23T16:25:57.756317",
     "status": "completed"
    },
    "tags": []
   },
   "outputs": [
    {
     "name": "stdout",
     "output_type": "stream",
     "text": [
      "6  publications in the last 7 days.\n"
     ]
    }
   ],
   "source": [
    "import datetime\n",
    "from glob import glob\n",
    "\n",
    "def get_last_n_days(lst, days=1):\n",
    "    \"\"\" Get the documents from the last n days \"\"\"\n",
    "    sorted_lst = sorted(lst, key=lambda x: x[1], reverse=True)\n",
    "    for fname, date in sorted_lst:\n",
    "        if date >= str(datetime.date.today() - datetime.timedelta(days=days)):\n",
    "            yield fname\n",
    "\n",
    "def extract_appearance_dates(lst_file):\n",
    "    dates = []\n",
    "\n",
    "    def get_date(line):\n",
    "        return line\\\n",
    "            .split('Appeared on:')[-1]\\\n",
    "            .split('</mark>')[0].strip()\n",
    "\n",
    "    for fname in lst:\n",
    "        with open(fname, 'r') as f:\n",
    "            found_date = False\n",
    "            for line in f:\n",
    "                if not found_date:\n",
    "                    if \"Appeared on\" in line:\n",
    "                        found_date = True\n",
    "                        dates.append((fname, get_date(line)))\n",
    "                else:\n",
    "                    break\n",
    "    return dates\n",
    "\n",
    "from glob import glob\n",
    "lst = glob('_build/html/*md')\n",
    "days = 7\n",
    "dates = extract_appearance_dates(lst)\n",
    "res = list(get_last_n_days(dates, days))\n",
    "npub = len(res)\n",
    "print(len(res), f\" publications in the last {days:d} days.\")"
   ]
  },
  {
   "cell_type": "code",
   "execution_count": 11,
   "id": "52ca0208",
   "metadata": {
    "execution": {
     "iopub.execute_input": "2023-03-23T16:25:57.798356Z",
     "iopub.status.busy": "2023-03-23T16:25:57.797829Z",
     "iopub.status.idle": "2023-03-23T16:25:57.802863Z",
     "shell.execute_reply": "2023-03-23T16:25:57.802375Z"
    },
    "papermill": {
     "duration": 0.013134,
     "end_time": "2023-03-23T16:25:57.804296",
     "exception": false,
     "start_time": "2023-03-23T16:25:57.791162",
     "status": "completed"
    },
    "scrolled": false,
    "tags": []
   },
   "outputs": [],
   "source": [
    "def create_carousel(npub=4):\n",
    "    \"\"\" Generate the HTML code for a carousel with `npub` slides \"\"\"\n",
    "    carousel = [\"\"\"  <div class=\"carousel\" \"\"\",\n",
    "                \"\"\"       data-flickity='{ \"autoPlay\": 10000, \"adaptiveHeight\": true, \"resize\": true, \"wrapAround\": true, \"pauseAutoPlayOnHover\": true, \"groupCells\": 1 }' id=\"asyncTypeset\">\"\"\"\n",
    "                ]\n",
    "    \n",
    "    item_str = \"\"\"    <div class=\"carousel-cell\"> <div id=\"slide{k}\" class=\"md_view\">Content {k}</div> </div>\"\"\"\n",
    "    for k in range(1, npub + 1):\n",
    "        carousel.append(item_str.format(k=k))\n",
    "    carousel.append(\"  </div>\")\n",
    "    return '\\n'.join(carousel)\n",
    "\n",
    "def create_grid(npub=4):\n",
    "    \"\"\" Generate the HTML code for a flat grid with `npub` slides \"\"\"\n",
    "    grid = [\"\"\"  <div class=\"grid\"> \"\"\",\n",
    "                ]\n",
    "    \n",
    "    item_str = \"\"\"    <div class=\"grid-item\"> <div id=\"slide{k}\" class=\"md_view\">Content {k}</div> </div>\"\"\"\n",
    "    for k in range(1, npub + 1):\n",
    "        grid.append(item_str.format(k=k))\n",
    "    grid.append(\"  </div>\")\n",
    "    return '\\n'.join(grid)"
   ]
  },
  {
   "cell_type": "code",
   "execution_count": 12,
   "id": "a6eac5b6",
   "metadata": {
    "execution": {
     "iopub.execute_input": "2023-03-23T16:25:57.817651Z",
     "iopub.status.busy": "2023-03-23T16:25:57.817142Z",
     "iopub.status.idle": "2023-03-23T16:25:57.823619Z",
     "shell.execute_reply": "2023-03-23T16:25:57.823075Z"
    },
    "papermill": {
     "duration": 0.014612,
     "end_time": "2023-03-23T16:25:57.825003",
     "exception": false,
     "start_time": "2023-03-23T16:25:57.810391",
     "status": "completed"
    },
    "scrolled": false,
    "tags": []
   },
   "outputs": [],
   "source": [
    "carousel = create_carousel(npub)\n",
    "docs = ', '.join(['\"{0:s}\"'.format(k.split('/')[-1]) for k in res])\n",
    "slides = ', '.join([f'\"slide{k}\"' for k in range(1, npub + 1)])\n",
    "\n",
    "with open(\"daily_template.html\", \"r\") as tpl:\n",
    "    page = tpl.read()\n",
    "    page = page.replace(\"{%-- carousel:s --%}\", carousel)\\\n",
    "               .replace(\"{%-- suptitle:s --%}\",  \"7-day archives\" )\\\n",
    "               .replace(\"{%-- docs:s --%}\", docs)\\\n",
    "               .replace(\"{%-- slides:s --%}\", slides)\n",
    "    \n",
    "with open(\"_build/html/index_7days.html\", 'w') as fout:\n",
    "    fout.write(page)"
   ]
  },
  {
   "cell_type": "code",
   "execution_count": 13,
   "id": "adc1a1ec",
   "metadata": {
    "execution": {
     "iopub.execute_input": "2023-03-23T16:25:57.838212Z",
     "iopub.status.busy": "2023-03-23T16:25:57.837694Z",
     "iopub.status.idle": "2023-03-23T16:25:57.844824Z",
     "shell.execute_reply": "2023-03-23T16:25:57.844225Z"
    },
    "papermill": {
     "duration": 0.01514,
     "end_time": "2023-03-23T16:25:57.846179",
     "exception": false,
     "start_time": "2023-03-23T16:25:57.831039",
     "status": "completed"
    },
    "tags": []
   },
   "outputs": [
    {
     "name": "stdout",
     "output_type": "stream",
     "text": [
      "2  publications in the last day.\n"
     ]
    }
   ],
   "source": [
    "# redo for today\n",
    "days = 1\n",
    "res = list(get_last_n_days(dates, days))\n",
    "npub = len(res)\n",
    "print(len(res), f\" publications in the last day.\")\n",
    "\n",
    "carousel = create_carousel(npub)\n",
    "docs = ', '.join(['\"{0:s}\"'.format(k.split('/')[-1]) for k in res])\n",
    "slides = ', '.join([f'\"slide{k}\"' for k in range(1, npub + 1)])\n",
    "\n",
    "with open(\"daily_template.html\", \"r\") as tpl:\n",
    "    page = tpl.read()\n",
    "    page = page.replace(\"{%-- carousel:s --%}\", carousel)\\\n",
    "               .replace(\"{%-- suptitle:s --%}\",  \"Daily\" )\\\n",
    "               .replace(\"{%-- docs:s --%}\", docs)\\\n",
    "               .replace(\"{%-- slides:s --%}\", slides)\n",
    "    \n",
    "# print(carousel, docs, slides)\n",
    "# print(page)\n",
    "with open(\"_build/html/index_daily.html\", 'w') as fout:\n",
    "    fout.write(page)"
   ]
  },
  {
   "cell_type": "code",
   "execution_count": 14,
   "id": "00eece82",
   "metadata": {
    "execution": {
     "iopub.execute_input": "2023-03-23T16:25:57.859707Z",
     "iopub.status.busy": "2023-03-23T16:25:57.859194Z",
     "iopub.status.idle": "2023-03-23T16:25:57.867144Z",
     "shell.execute_reply": "2023-03-23T16:25:57.866550Z"
    },
    "papermill": {
     "duration": 0.016262,
     "end_time": "2023-03-23T16:25:57.868567",
     "exception": false,
     "start_time": "2023-03-23T16:25:57.852305",
     "status": "completed"
    },
    "scrolled": false,
    "tags": []
   },
   "outputs": [
    {
     "name": "stdout",
     "output_type": "stream",
     "text": [
      "6  6 publications selected.\n"
     ]
    }
   ],
   "source": [
    "# Create the flat grid of the last N papers (fixed number regardless of dates)\n",
    "from itertools import islice \n",
    "\n",
    "npub = 6\n",
    "res = [k[0] for k in (islice(reversed(sorted(dates, key=lambda x: x[1])), 6))]\n",
    "print(len(res), f\" {npub} publications selected.\")\n",
    "\n",
    "grid = create_grid(npub)\n",
    "docs = ', '.join(['\"{0:s}\"'.format(k.split('/')[-1]) for k in res])\n",
    "slides = ', '.join([f'\"slide{k}\"' for k in range(1, npub + 1)])\n",
    "\n",
    "with open(\"grid_template.html\", \"r\") as tpl:\n",
    "    page = tpl.read()\n",
    "    page = page.replace(\"{%-- grid-content:s --%}\", grid)\\\n",
    "               .replace(\"{%-- suptitle:s --%}\",  f\"Last {npub:,d} papers\" )\\\n",
    "               .replace(\"{%-- docs:s --%}\", docs)\\\n",
    "               .replace(\"{%-- slides:s --%}\", slides)\n",
    "    \n",
    "# print(grid, docs, slides)\n",
    "# print(page)\n",
    "with open(\"_build/html/index_npub_grid.html\", 'w') as fout:\n",
    "    fout.write(page)"
   ]
  },
  {
   "cell_type": "code",
   "execution_count": null,
   "id": "cab45692",
   "metadata": {
    "papermill": {
     "duration": 0.006149,
     "end_time": "2023-03-23T16:25:57.880882",
     "exception": false,
     "start_time": "2023-03-23T16:25:57.874733",
     "status": "completed"
    },
    "tags": []
   },
   "outputs": [],
   "source": []
  },
  {
   "cell_type": "code",
   "execution_count": null,
   "id": "aec9821f",
   "metadata": {
    "papermill": {
     "duration": 0.006173,
     "end_time": "2023-03-23T16:25:57.893215",
     "exception": false,
     "start_time": "2023-03-23T16:25:57.887042",
     "status": "completed"
    },
    "tags": []
   },
   "outputs": [],
   "source": []
  }
 ],
 "metadata": {
  "kernelspec": {
   "display_name": "Python 3 (ipykernel)",
   "language": "python",
   "name": "python3"
  },
  "language_info": {
   "codemirror_mode": {
    "name": "ipython",
    "version": 3
   },
   "file_extension": ".py",
   "mimetype": "text/x-python",
   "name": "python",
   "nbconvert_exporter": "python",
   "pygments_lexer": "ipython3",
   "version": "3.9.16"
  },
  "papermill": {
   "default_parameters": {},
   "duration": 39.050939,
   "end_time": "2023-03-23T16:25:58.117651",
   "environment_variables": {},
   "exception": null,
   "input_path": "MPIA daily digest.ipynb",
   "output_path": "log.ipynb",
   "parameters": {},
   "start_time": "2023-03-23T16:25:19.066712",
   "version": "2.4.0"
  },
  "vscode": {
   "interpreter": {
    "hash": "aee8b7b246df8f9039afb4144a1f6fd8d2ca17a180786b69acc140d282b71a49"
   }
  },
  "widgets": {
   "application/vnd.jupyter.widget-state+json": {
    "state": {
     "29e09402c6c54db3954a91ef6d476880": {
      "model_module": "@jupyter-widgets/controls",
      "model_module_version": "2.0.0",
      "model_name": "HTMLModel",
      "state": {
       "_dom_classes": [],
       "_model_module": "@jupyter-widgets/controls",
       "_model_module_version": "2.0.0",
       "_model_name": "HTMLModel",
       "_view_count": null,
       "_view_module": "@jupyter-widgets/controls",
       "_view_module_version": "2.0.0",
       "_view_name": "HTMLView",
       "description": "",
       "description_allow_html": false,
       "layout": "IPY_MODEL_f2ffeb8fd758401984b405b799670a25",
       "placeholder": "​",
       "style": "IPY_MODEL_df2fbb44671641c29cc67e95ef420cdc",
       "tabbable": null,
       "tooltip": null,
       "value": " 2/2 [00:15&lt;00:00,  6.94s/it]"
      }
     },
     "4276465386a346d7bd30cf20b0a39e6c": {
      "model_module": "@jupyter-widgets/base",
      "model_module_version": "2.0.0",
      "model_name": "LayoutModel",
      "state": {
       "_model_module": "@jupyter-widgets/base",
       "_model_module_version": "2.0.0",
       "_model_name": "LayoutModel",
       "_view_count": null,
       "_view_module": "@jupyter-widgets/base",
       "_view_module_version": "2.0.0",
       "_view_name": "LayoutView",
       "align_content": null,
       "align_items": null,
       "align_self": null,
       "border_bottom": null,
       "border_left": null,
       "border_right": null,
       "border_top": null,
       "bottom": null,
       "display": null,
       "flex": null,
       "flex_flow": null,
       "grid_area": null,
       "grid_auto_columns": null,
       "grid_auto_flow": null,
       "grid_auto_rows": null,
       "grid_column": null,
       "grid_gap": null,
       "grid_row": null,
       "grid_template_areas": null,
       "grid_template_columns": null,
       "grid_template_rows": null,
       "height": null,
       "justify_content": null,
       "justify_items": null,
       "left": null,
       "margin": null,
       "max_height": null,
       "max_width": null,
       "min_height": null,
       "min_width": null,
       "object_fit": null,
       "object_position": null,
       "order": null,
       "overflow": null,
       "padding": null,
       "right": null,
       "top": null,
       "visibility": null,
       "width": null
      }
     },
     "6c651ea5795c4309982b80ba37959c59": {
      "model_module": "@jupyter-widgets/controls",
      "model_module_version": "2.0.0",
      "model_name": "HTMLModel",
      "state": {
       "_dom_classes": [],
       "_model_module": "@jupyter-widgets/controls",
       "_model_module_version": "2.0.0",
       "_model_name": "HTMLModel",
       "_view_count": null,
       "_view_module": "@jupyter-widgets/controls",
       "_view_module_version": "2.0.0",
       "_view_name": "HTMLView",
       "description": "",
       "description_allow_html": false,
       "layout": "IPY_MODEL_7df2929b4f6e4b89baa07c9a9e2e8727",
       "placeholder": "​",
       "style": "IPY_MODEL_9bacadeca9ba4f939c7f2fed75212688",
       "tabbable": null,
       "tooltip": null,
       "value": "100%"
      }
     },
     "70e2979001824f0a880941e756493bc1": {
      "model_module": "@jupyter-widgets/controls",
      "model_module_version": "2.0.0",
      "model_name": "HBoxModel",
      "state": {
       "_dom_classes": [],
       "_model_module": "@jupyter-widgets/controls",
       "_model_module_version": "2.0.0",
       "_model_name": "HBoxModel",
       "_view_count": null,
       "_view_module": "@jupyter-widgets/controls",
       "_view_module_version": "2.0.0",
       "_view_name": "HBoxView",
       "box_style": "",
       "children": [
        "IPY_MODEL_6c651ea5795c4309982b80ba37959c59",
        "IPY_MODEL_fdf6bc3167d54d35930cf1dcf386e5e2",
        "IPY_MODEL_29e09402c6c54db3954a91ef6d476880"
       ],
       "layout": "IPY_MODEL_8a626d9a26584bc1b4ecedb62ac20870",
       "tabbable": null,
       "tooltip": null
      }
     },
     "7df2929b4f6e4b89baa07c9a9e2e8727": {
      "model_module": "@jupyter-widgets/base",
      "model_module_version": "2.0.0",
      "model_name": "LayoutModel",
      "state": {
       "_model_module": "@jupyter-widgets/base",
       "_model_module_version": "2.0.0",
       "_model_name": "LayoutModel",
       "_view_count": null,
       "_view_module": "@jupyter-widgets/base",
       "_view_module_version": "2.0.0",
       "_view_name": "LayoutView",
       "align_content": null,
       "align_items": null,
       "align_self": null,
       "border_bottom": null,
       "border_left": null,
       "border_right": null,
       "border_top": null,
       "bottom": null,
       "display": null,
       "flex": null,
       "flex_flow": null,
       "grid_area": null,
       "grid_auto_columns": null,
       "grid_auto_flow": null,
       "grid_auto_rows": null,
       "grid_column": null,
       "grid_gap": null,
       "grid_row": null,
       "grid_template_areas": null,
       "grid_template_columns": null,
       "grid_template_rows": null,
       "height": null,
       "justify_content": null,
       "justify_items": null,
       "left": null,
       "margin": null,
       "max_height": null,
       "max_width": null,
       "min_height": null,
       "min_width": null,
       "object_fit": null,
       "object_position": null,
       "order": null,
       "overflow": null,
       "padding": null,
       "right": null,
       "top": null,
       "visibility": null,
       "width": null
      }
     },
     "8a626d9a26584bc1b4ecedb62ac20870": {
      "model_module": "@jupyter-widgets/base",
      "model_module_version": "2.0.0",
      "model_name": "LayoutModel",
      "state": {
       "_model_module": "@jupyter-widgets/base",
       "_model_module_version": "2.0.0",
       "_model_name": "LayoutModel",
       "_view_count": null,
       "_view_module": "@jupyter-widgets/base",
       "_view_module_version": "2.0.0",
       "_view_name": "LayoutView",
       "align_content": null,
       "align_items": null,
       "align_self": null,
       "border_bottom": null,
       "border_left": null,
       "border_right": null,
       "border_top": null,
       "bottom": null,
       "display": null,
       "flex": null,
       "flex_flow": null,
       "grid_area": null,
       "grid_auto_columns": null,
       "grid_auto_flow": null,
       "grid_auto_rows": null,
       "grid_column": null,
       "grid_gap": null,
       "grid_row": null,
       "grid_template_areas": null,
       "grid_template_columns": null,
       "grid_template_rows": null,
       "height": null,
       "justify_content": null,
       "justify_items": null,
       "left": null,
       "margin": null,
       "max_height": null,
       "max_width": null,
       "min_height": null,
       "min_width": null,
       "object_fit": null,
       "object_position": null,
       "order": null,
       "overflow": null,
       "padding": null,
       "right": null,
       "top": null,
       "visibility": null,
       "width": null
      }
     },
     "90ddf3eb4e41457fb0b6408ca2972210": {
      "model_module": "@jupyter-widgets/controls",
      "model_module_version": "2.0.0",
      "model_name": "ProgressStyleModel",
      "state": {
       "_model_module": "@jupyter-widgets/controls",
       "_model_module_version": "2.0.0",
       "_model_name": "ProgressStyleModel",
       "_view_count": null,
       "_view_module": "@jupyter-widgets/base",
       "_view_module_version": "2.0.0",
       "_view_name": "StyleView",
       "bar_color": null,
       "description_width": ""
      }
     },
     "9bacadeca9ba4f939c7f2fed75212688": {
      "model_module": "@jupyter-widgets/controls",
      "model_module_version": "2.0.0",
      "model_name": "HTMLStyleModel",
      "state": {
       "_model_module": "@jupyter-widgets/controls",
       "_model_module_version": "2.0.0",
       "_model_name": "HTMLStyleModel",
       "_view_count": null,
       "_view_module": "@jupyter-widgets/base",
       "_view_module_version": "2.0.0",
       "_view_name": "StyleView",
       "background": null,
       "description_width": "",
       "font_size": null,
       "text_color": null
      }
     },
     "df2fbb44671641c29cc67e95ef420cdc": {
      "model_module": "@jupyter-widgets/controls",
      "model_module_version": "2.0.0",
      "model_name": "HTMLStyleModel",
      "state": {
       "_model_module": "@jupyter-widgets/controls",
       "_model_module_version": "2.0.0",
       "_model_name": "HTMLStyleModel",
       "_view_count": null,
       "_view_module": "@jupyter-widgets/base",
       "_view_module_version": "2.0.0",
       "_view_name": "StyleView",
       "background": null,
       "description_width": "",
       "font_size": null,
       "text_color": null
      }
     },
     "f2ffeb8fd758401984b405b799670a25": {
      "model_module": "@jupyter-widgets/base",
      "model_module_version": "2.0.0",
      "model_name": "LayoutModel",
      "state": {
       "_model_module": "@jupyter-widgets/base",
       "_model_module_version": "2.0.0",
       "_model_name": "LayoutModel",
       "_view_count": null,
       "_view_module": "@jupyter-widgets/base",
       "_view_module_version": "2.0.0",
       "_view_name": "LayoutView",
       "align_content": null,
       "align_items": null,
       "align_self": null,
       "border_bottom": null,
       "border_left": null,
       "border_right": null,
       "border_top": null,
       "bottom": null,
       "display": null,
       "flex": null,
       "flex_flow": null,
       "grid_area": null,
       "grid_auto_columns": null,
       "grid_auto_flow": null,
       "grid_auto_rows": null,
       "grid_column": null,
       "grid_gap": null,
       "grid_row": null,
       "grid_template_areas": null,
       "grid_template_columns": null,
       "grid_template_rows": null,
       "height": null,
       "justify_content": null,
       "justify_items": null,
       "left": null,
       "margin": null,
       "max_height": null,
       "max_width": null,
       "min_height": null,
       "min_width": null,
       "object_fit": null,
       "object_position": null,
       "order": null,
       "overflow": null,
       "padding": null,
       "right": null,
       "top": null,
       "visibility": null,
       "width": null
      }
     },
     "fdf6bc3167d54d35930cf1dcf386e5e2": {
      "model_module": "@jupyter-widgets/controls",
      "model_module_version": "2.0.0",
      "model_name": "FloatProgressModel",
      "state": {
       "_dom_classes": [],
       "_model_module": "@jupyter-widgets/controls",
       "_model_module_version": "2.0.0",
       "_model_name": "FloatProgressModel",
       "_view_count": null,
       "_view_module": "@jupyter-widgets/controls",
       "_view_module_version": "2.0.0",
       "_view_name": "ProgressView",
       "bar_style": "success",
       "description": "",
       "description_allow_html": false,
       "layout": "IPY_MODEL_4276465386a346d7bd30cf20b0a39e6c",
       "max": 2.0,
       "min": 0.0,
       "orientation": "horizontal",
       "style": "IPY_MODEL_90ddf3eb4e41457fb0b6408ca2972210",
       "tabbable": null,
       "tooltip": null,
       "value": 2.0
      }
     }
    },
    "version_major": 2,
    "version_minor": 0
   }
  }
 },
 "nbformat": 4,
 "nbformat_minor": 5
}