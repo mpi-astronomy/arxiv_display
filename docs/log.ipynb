{
 "cells": [
  {
   "cell_type": "markdown",
   "id": "92bcb855",
   "metadata": {
    "papermill": {
     "duration": 0.003761,
     "end_time": "2025-02-18T04:11:01.487560",
     "exception": false,
     "start_time": "2025-02-18T04:11:01.483799",
     "status": "completed"
    },
    "tags": []
   },
   "source": [
    "# MPIA Arxiv on Deck 2\n",
    "\n",
    "Contains the steps to produce the paper extractions."
   ]
  },
  {
   "cell_type": "code",
   "execution_count": 1,
   "id": "3a0d6e11",
   "metadata": {
    "execution": {
     "iopub.execute_input": "2025-02-18T04:11:01.494890Z",
     "iopub.status.busy": "2025-02-18T04:11:01.494635Z",
     "iopub.status.idle": "2025-02-18T04:11:01.977700Z",
     "shell.execute_reply": "2025-02-18T04:11:01.977076Z"
    },
    "papermill": {
     "duration": 0.488135,
     "end_time": "2025-02-18T04:11:01.978993",
     "exception": false,
     "start_time": "2025-02-18T04:11:01.490858",
     "status": "completed"
    },
    "tags": []
   },
   "outputs": [],
   "source": [
    "# Imports\n",
    "import os\n",
    "from IPython.display import Markdown, display\n",
    "from tqdm.notebook import tqdm\n",
    "import warnings\n",
    "from PIL import Image \n",
    "import re\n",
    "\n",
    "# requires arxiv_on_deck_2\n",
    "\n",
    "from arxiv_on_deck_2.arxiv2 import (get_new_papers, \n",
    "                                    get_paper_from_identifier,\n",
    "                                    retrieve_document_source, \n",
    "                                    get_markdown_badge)\n",
    "from arxiv_on_deck_2 import (latex,\n",
    "                             latex_bib,\n",
    "                             mpia,\n",
    "                             highlight_authors_in_list)\n",
    "\n",
    "# Sometimes images are really big\n",
    "Image.MAX_IMAGE_PIXELS = 1000000000 "
   ]
  },
  {
   "cell_type": "code",
   "execution_count": 2,
   "id": "22aa9d44",
   "metadata": {
    "execution": {
     "iopub.execute_input": "2025-02-18T04:11:01.986450Z",
     "iopub.status.busy": "2025-02-18T04:11:01.985918Z",
     "iopub.status.idle": "2025-02-18T04:11:01.994021Z",
     "shell.execute_reply": "2025-02-18T04:11:01.993479Z"
    },
    "papermill": {
     "duration": 0.012745,
     "end_time": "2025-02-18T04:11:01.994998",
     "exception": false,
     "start_time": "2025-02-18T04:11:01.982253",
     "status": "completed"
    },
    "tags": []
   },
   "outputs": [],
   "source": [
    "# Some useful definitions.\n",
    "\n",
    "class AffiliationWarning(UserWarning):\n",
    "    pass\n",
    "\n",
    "class AffiliationError(RuntimeError):\n",
    "    pass\n",
    "\n",
    "def validation(source: str):\n",
    "    \"\"\"Raises error paper during parsing of source file\n",
    "    \n",
    "    Allows checks before parsing TeX code.\n",
    "    \n",
    "    Raises AffiliationWarning\n",
    "    \"\"\"\n",
    "    check = mpia.affiliation_verifications(source, verbose=True)\n",
    "    if check is not True:\n",
    "        raise AffiliationError(\"mpia.affiliation_verifications: \" + check)\n",
    "\n",
    "        \n",
    "warnings.simplefilter('always', AffiliationWarning)\n",
    "\n",
    "\n",
    "def get_markdown_qrcode(paper_id: str):\n",
    "    \"\"\" Generate a qrcode to the arxiv page using qrserver.com\n",
    "    \n",
    "    :param paper: Arxiv paper\n",
    "    :returns: markdown text\n",
    "    \"\"\"\n",
    "    url = r\"https://api.qrserver.com/v1/create-qr-code/?size=100x100&data=\"\n",
    "    txt = f\"\"\"<img src={url}\"https://arxiv.org/abs/{paper_id}\">\"\"\"\n",
    "    txt = '<div id=\"qrcode\">' + txt + '</div>'\n",
    "    return txt\n",
    "\n",
    "\n",
    "def clean_non_western_encoded_characters_commands(text: str) -> str:\n",
    "    \"\"\" Remove non-western encoded characters from a string\n",
    "    List may need to grow.\n",
    "    \n",
    "    :param text: the text to clean\n",
    "    :return: the cleaned text\n",
    "    \"\"\"\n",
    "    text = re.sub(r\"(\\\\begin{CJK}{UTF8}{gbsn})(.*?)(\\\\end{CJK})\", r\"\\2\", text)\n",
    "    return text\n",
    "\n",
    "\n",
    "def get_initials(name: str) -> str:\n",
    "    \"\"\" Get the short name, e.g., A.-B. FamName\n",
    "    :param name: full name\n",
    "    :returns: initials\n",
    "    \"\"\"\n",
    "    initials = []\n",
    "    # account for non western names often in ()\n",
    "    if '(' in name:\n",
    "        name = clean_non_western_encoded_characters_commands(name)\n",
    "        suffix = re.findall(r\"\\((.*?)\\)\", name)[0]\n",
    "        name = name.replace(f\"({suffix})\", '')\n",
    "    else:\n",
    "        suffix = ''\n",
    "    split = name.split()\n",
    "    for token in split[:-1]:\n",
    "        if '-' in token:\n",
    "            current = '-'.join([k[0] + '.' for k in token.split('-')])\n",
    "        else:\n",
    "            current = token[0] + '.'\n",
    "        initials.append(current)\n",
    "    initials.append(split[-1].strip())\n",
    "    if suffix:\n",
    "        initials.append(f\"({suffix})\")\n",
    "    return ' '.join(initials)"
   ]
  },
  {
   "cell_type": "markdown",
   "id": "14bd6310",
   "metadata": {
    "papermill": {
     "duration": 0.002879,
     "end_time": "2025-02-18T04:11:02.000784",
     "exception": false,
     "start_time": "2025-02-18T04:11:01.997905",
     "status": "completed"
    },
    "tags": []
   },
   "source": [
    "## get list of arxiv paper candidates\n",
    "\n",
    "We use the MPIA mitarbeiter list webpage from mpia.de to get author names\n",
    "We then get all new papers from Arxiv and match authors"
   ]
  },
  {
   "cell_type": "code",
   "execution_count": 3,
   "id": "7ea813a8",
   "metadata": {
    "execution": {
     "iopub.execute_input": "2025-02-18T04:11:02.007667Z",
     "iopub.status.busy": "2025-02-18T04:11:02.007232Z",
     "iopub.status.idle": "2025-02-18T04:11:24.999047Z",
     "shell.execute_reply": "2025-02-18T04:11:24.998379Z"
    },
    "papermill": {
     "duration": 22.996676,
     "end_time": "2025-02-18T04:11:25.000408",
     "exception": false,
     "start_time": "2025-02-18T04:11:02.003732",
     "status": "completed"
    },
    "tags": []
   },
   "outputs": [],
   "source": [
    "# deal with the author list and edge cases of people that cannot be consistent on their name  \n",
    "\n",
    "def filter_non_scientists(name: str) -> bool:\n",
    "    \"\"\" Loose filter on expected authorships\n",
    "\n",
    "    removing IT, administration, technical staff\n",
    "    :param name: name\n",
    "    :returns: False if name is not a scientist\n",
    "    \"\"\"\n",
    "    remove_list = ['Licht', 'Binroth', 'Witzel', 'Jordan',\n",
    "                   'Zähringer', 'Scheerer', 'Hoffmann', 'Düe',\n",
    "                   'Hellmich', 'Enkler-Scharpegge', 'Witte-Nguy',\n",
    "                   'Dehen', 'Beckmann', 'Jager', 'Jäger'\n",
    "                  ]\n",
    "\n",
    "    for k in remove_list:\n",
    "        if k in name:\n",
    "            return False\n",
    "    return True\n",
    "\n",
    "def add_author_to_list(author_list: list) -> list:\n",
    "    \"\"\" Add author to list if not already in list\n",
    "    \n",
    "    :param author: author name\n",
    "    :param author_list: list of authors\n",
    "    :returns: updated list of authors\n",
    "    \"\"\"\n",
    "    add_list = ['T. Henning']\n",
    "\n",
    "    for author in add_list:\n",
    "        if author not in author_list:\n",
    "            author_list.append(author)\n",
    "    return author_list\n",
    "\n",
    "# get list from MPIA website\n",
    "# filter for non-scientists (mpia.get_mpia_mitarbeiter_list() does some filtering)\n",
    "mpia_authors = [k[1] for k in mpia.get_mpia_mitarbeiter_list() if filter_non_scientists(k[1])]\n",
    "# add some missing author because of inconsistencies in their MPIA name and author name on papers\n",
    "mpia_authors = add_author_to_list(mpia_authors)"
   ]
  },
  {
   "cell_type": "code",
   "execution_count": 4,
   "id": "2645e73a",
   "metadata": {
    "execution": {
     "iopub.execute_input": "2025-02-18T04:11:25.007724Z",
     "iopub.status.busy": "2025-02-18T04:11:25.007503Z",
     "iopub.status.idle": "2025-02-18T04:11:25.600673Z",
     "shell.execute_reply": "2025-02-18T04:11:25.600079Z"
    },
    "papermill": {
     "duration": 0.598044,
     "end_time": "2025-02-18T04:11:25.601770",
     "exception": false,
     "start_time": "2025-02-18T04:11:25.003726",
     "status": "completed"
    },
    "tags": []
   },
   "outputs": [
    {
     "name": "stdout",
     "output_type": "stream",
     "text": [
      "N. Martin  ->  N. Martin  |  ['N. Martin']\n",
      "X. Zhang  ->  X. Zhang  |  ['X. Zhang']\n",
      "T. Henning  ->  T. Henning  |  ['T. Henning']\n",
      "Arxiv has 42 new papers today\n",
      "          3 with possible author matches\n"
     ]
    }
   ],
   "source": [
    "new_papers = get_new_papers()\n",
    "# add manual references\n",
    "add_paper_refs = []\n",
    "new_papers.extend([get_paper_from_identifier(k) for k in add_paper_refs])\n",
    "\n",
    "def robust_call(fn, value, *args, **kwargs):\n",
    "    try:\n",
    "        return fn(value, *args, **kwargs)\n",
    "    except Exception:\n",
    "        return value\n",
    "\n",
    "candidates = []\n",
    "for paperk in new_papers:\n",
    "    # Check author list with their initials\n",
    "    normed_author_list = [robust_call(mpia.get_initials, k) for k in paperk['authors']]\n",
    "    hl_authors = highlight_authors_in_list(normed_author_list, mpia_authors, verbose=True)\n",
    "    matches = [(hl, orig) for hl, orig in zip(hl_authors, paperk['authors']) if 'mark' in hl]\n",
    "    paperk['authors'] = hl_authors\n",
    "    if matches:\n",
    "        # only select paper if an author matched our list\n",
    "        candidates.append(paperk)\n",
    "print(\"\"\"Arxiv has {0:,d} new papers today\"\"\".format(len(new_papers)))        \n",
    "print(\"\"\"          {0:,d} with possible author matches\"\"\".format(len(candidates)))"
   ]
  },
  {
   "cell_type": "markdown",
   "id": "3543b34a",
   "metadata": {
    "papermill": {
     "duration": 0.003019,
     "end_time": "2025-02-18T04:11:25.608204",
     "exception": false,
     "start_time": "2025-02-18T04:11:25.605185",
     "status": "completed"
    },
    "tags": []
   },
   "source": [
    "# Parse sources and generate relevant outputs\n",
    "\n",
    "From the candidates, we do the following steps:\n",
    "* get their tarball from ArXiv (and extract data)\n",
    "* find the main .tex file: find one with \\documentclass{...} (sometimes it's non trivial)\n",
    "* Check affiliations with :func:`validation`, which uses :func:`mpia.affiliation_verifications`\n",
    "* If passing the affiliations: we parse the .tex source\n",
    "   * inject sub-documents into the main (flatten the main document)\n",
    "   * parse structure, extract information (title, abstract, authors, figures...)\n",
    "   * handles `\\graphicspath` if provided\n",
    "* Generate the .md document."
   ]
  },
  {
   "cell_type": "code",
   "execution_count": 5,
   "id": "9576b79e",
   "metadata": {
    "execution": {
     "iopub.execute_input": "2025-02-18T04:11:25.615352Z",
     "iopub.status.busy": "2025-02-18T04:11:25.614924Z",
     "iopub.status.idle": "2025-02-18T04:11:56.889506Z",
     "shell.execute_reply": "2025-02-18T04:11:56.888679Z"
    },
    "papermill": {
     "duration": 31.282365,
     "end_time": "2025-02-18T04:11:56.893567",
     "exception": false,
     "start_time": "2025-02-18T04:11:25.611202",
     "status": "completed"
    },
    "scrolled": false,
    "tags": []
   },
   "outputs": [
    {
     "data": {
      "application/vnd.jupyter.widget-view+json": {
       "model_id": "8efcea00632c4bc38e6fbee90ea675fa",
       "version_major": 2,
       "version_minor": 0
      },
      "text/plain": [
       "  0%|          | 0/3 [00:00<?, ?it/s]"
      ]
     },
     "metadata": {},
     "output_type": "display_data"
    },
    {
     "name": "stdout",
     "output_type": "stream",
     "text": [
      "Retrieving document from  https://arxiv.org/e-print/2502.09792\n"
     ]
    },
    {
     "name": "stdout",
     "output_type": "stream",
     "text": [
      "extracting tarball to tmp_2502.09792..."
     ]
    },
    {
     "name": "stdout",
     "output_type": "stream",
     "text": [
      " done.\n"
     ]
    },
    {
     "name": "stdout",
     "output_type": "stream",
     "text": [
      "N. Martin  ->  N. Martin  |  ['N. Martin']\n"
     ]
    },
    {
     "name": "stdout",
     "output_type": "stream",
     "text": [
      "Found 79 bibliographic references in tmp_2502.09792/Peg7-v8.bbl.\n",
      "Issues with the citations\n",
      "syntax error in line 53: '=' expected\n",
      "Retrieving document from  https://arxiv.org/e-print/2502.10015\n"
     ]
    },
    {
     "name": "stdout",
     "output_type": "stream",
     "text": [
      "extracting tarball to tmp_2502.10015..."
     ]
    },
    {
     "name": "stdout",
     "output_type": "stream",
     "text": [
      " done.\n",
      "Retrieving document from  https://arxiv.org/e-print/2502.10271\n"
     ]
    },
    {
     "name": "stdout",
     "output_type": "stream",
     "text": [
      "extracting tarball to tmp_2502.10271..."
     ]
    },
    {
     "name": "stdout",
     "output_type": "stream",
     "text": [
      " done.\n"
     ]
    },
    {
     "name": "stdout",
     "output_type": "stream",
     "text": [
      "Found 108 bibliographic references in tmp_2502.10271/main.bbl.\n",
      "Issues with the citations\n",
      "syntax error in line 25: '=' expected\n"
     ]
    }
   ],
   "source": [
    "documents = []\n",
    "failed = []\n",
    "for paper in tqdm(candidates):\n",
    "    # debug crap\n",
    "    paper['identifier'] = paper['identifier'].lower().replace('arxiv:', '').replace(r'\\n', '').strip()\n",
    "    paper_id = paper['identifier']\n",
    "    \n",
    "    folder = f'tmp_{paper_id}'\n",
    "\n",
    "    try:\n",
    "        if not os.path.isdir(folder):\n",
    "            folder = retrieve_document_source(f\"{paper_id}\", f'tmp_{paper_id}')\n",
    "        \n",
    "        try:\n",
    "            doc = latex.LatexDocument(folder, validation=validation)    \n",
    "        except AffiliationError as affilerror:\n",
    "            msg = f\"ArXiv:{paper_id:s} is not an MPIA paper... \" + str(affilerror)\n",
    "            failed.append((paper, \"affiliation error: \" + str(affilerror) ))\n",
    "            continue\n",
    "        \n",
    "        # Hack because sometimes author parsing does not work well\n",
    "        if (len(doc.authors) != len(paper['authors'])):\n",
    "            doc._authors = paper['authors']\n",
    "        else:\n",
    "            # highlight authors (FIXME: doc.highlight_authors)\n",
    "            # done on arxiv paper already\n",
    "            doc._authors = highlight_authors_in_list(\n",
    "                [get_initials(k) for k in doc.authors], \n",
    "                mpia_authors, verbose=True)\n",
    "        if (doc.abstract) in (None, ''):\n",
    "            doc._abstract = paper['abstract']\n",
    "            \n",
    "        doc.comment = (get_markdown_badge(paper_id) + \n",
    "                       \"<mark>Appeared on: \" + paper['date'] + \"</mark> - \")\n",
    "        if paper['comments']:\n",
    "            doc.comment += \" _\" + paper['comments'] + \"_\"\n",
    "        \n",
    "        full_md = doc.generate_markdown_text()\n",
    "        \n",
    "        full_md += get_markdown_qrcode(paper_id)\n",
    "        \n",
    "        # replace citations\n",
    "        try:\n",
    "            bibdata = latex_bib.LatexBib.from_doc(doc)\n",
    "            full_md = latex_bib.replace_citations(full_md, bibdata)\n",
    "        except Exception as e:\n",
    "            print(\"Issues with the citations\")\n",
    "            print(e)\n",
    "        \n",
    "        documents.append((paper_id, full_md))\n",
    "    except Exception as e:\n",
    "        warnings.warn(latex.LatexWarning(f\"{paper_id:s} did not run properly\\n\" +\n",
    "                                         str(e)\n",
    "                                        ))\n",
    "        failed.append((paper, \"latex error \" + str(e)))"
   ]
  },
  {
   "cell_type": "markdown",
   "id": "2505a25c",
   "metadata": {
    "papermill": {
     "duration": 0.003539,
     "end_time": "2025-02-18T04:11:56.900865",
     "exception": false,
     "start_time": "2025-02-18T04:11:56.897326",
     "status": "completed"
    },
    "tags": []
   },
   "source": [
    "### Export the logs\n",
    "\n",
    "Throughout, we also keep track of the logs per paper. see `logs-{today date}.md` "
   ]
  },
  {
   "cell_type": "code",
   "execution_count": 6,
   "id": "d733828a",
   "metadata": {
    "execution": {
     "iopub.execute_input": "2025-02-18T04:11:56.909064Z",
     "iopub.status.busy": "2025-02-18T04:11:56.908833Z",
     "iopub.status.idle": "2025-02-18T04:11:56.922615Z",
     "shell.execute_reply": "2025-02-18T04:11:56.921980Z"
    },
    "papermill": {
     "duration": 0.019181,
     "end_time": "2025-02-18T04:11:56.923689",
     "exception": false,
     "start_time": "2025-02-18T04:11:56.904508",
     "status": "completed"
    },
    "scrolled": false,
    "tags": []
   },
   "outputs": [
    {
     "data": {
      "text/markdown": [
       "## Successful papers"
      ],
      "text/plain": [
       "<IPython.core.display.Markdown object>"
      ]
     },
     "metadata": {},
     "output_type": "display_data"
    },
    {
     "data": {
      "text/markdown": [
       "\n",
       "|||\n",
       "|---:|:---|\n",
       "| [![arXiv](https://img.shields.io/badge/arXiv-2502.09792-b31b1b.svg)](https://arxiv.org/abs/2502.09792) | **Deep in the Fields of the Andromeda Halo: Discovery of the Pegasus VII dwarf galaxy in UNIONS**  |\n",
       "|| S. E. T. Smith, et al. -- incl., <mark>N. Martin</mark> |\n",
       "|*Appeared on*| *2025-02-18*|\n",
       "|*Comments*| *13 pages, 5 figures, accepted for publication in ApJ*|\n",
       "|**Abstract**|            We present the newly discovered dwarf galaxy Pegasus VII (Peg VII), a member of the M31 sub-group which has been uncovered in the $ri$ photometric catalogs from the Ultraviolet Near-Infrared Optical Northern Survey and confirmed with follow-up imaging from both the Canada-France-Hawaii Telescope and the Gemini-North Telescope. This system has an absolute $V$-band magnitude of $-5.7 \\pm 0.2$ mag and a physical half-light radius of $177^{+36}_{-34}$ pc, which is characteristic of dynamically-confirmed Milky Way satellite dwarf galaxies and about 5 times more extended than the most extended M31 globular clusters. Peg VII lies at a three-dimensional separation from M31 of $331^{+15}_{-4}$ kpc and a significant elongation ($\\epsilon \\sim 0.5$) towards the projected direction of M31 could be indicative of a past tidal interaction, but additional investigation into the orbit, star formation history, and whether any gas remains in the galaxy is needed to better understand the evolution of Peg VII.         |"
      ],
      "text/plain": [
       "[2502.09792] Deep in the Fields of the Andromeda Halo: Discovery of the Pegasus VII dwarf galaxy in UNIONS\n",
       "\tS. E. T. Smith, et al. -- incl., <mark>N. Martin</mark>"
      ]
     },
     "metadata": {},
     "output_type": "display_data"
    },
    {
     "data": {
      "text/markdown": [
       "\n",
       "|||\n",
       "|---:|:---|\n",
       "| [![arXiv](https://img.shields.io/badge/arXiv-2502.10271-b31b1b.svg)](https://arxiv.org/abs/2502.10271) | **MICONIC: JWST Unveils Shocked Hot Core Chemistry in the Western Nucleus of Arp 220**  |\n",
       "|| V. Buiten, et al. -- incl., <mark>T. Henning</mark> |\n",
       "|*Appeared on*| *2025-02-18*|\n",
       "|*Comments*| *Submitted to A&A*|\n",
       "|**Abstract**|            We present full 3-28 micron JWST MIRI/MRS and NIRSpec/IFU spectra of the western nucleus of Arp 220, the nearest ultraluminous infrared galaxy. This nucleus has long been suggested to possibly host an embedded Compton-thick AGN. Millimeter observations of the dust continuum suggest the presence of a distinct 20 pc core with a dust temperature of $T_\\mathrm{d} \\gtrsim 500~\\mathrm{K}$, in addition to a 100 pc circumnuclear starburst disk. However, unambiguously identifying the nature of this core is challenging, due to the immense obscuration, the nuclear starburst activity, and the nearby eastern nucleus. With the JWST integral field spectrographs, we can, for the first time, separate the two nuclei across this full wavelength range, revealing a wealth of molecular absorption features towards the western nucleus. We analyse the rovibrational bands detected at 4-22 micron, deriving column densities and rotational temperatures for 10 distinct species. Optically thick features of C$_2$H$_2$, HCN and HNC suggest that this molecular gas is hidden behind a curtain of cooler dust, and indicate that the column densities of C$_2$H$_2$ and HCN are an order of magnitude higher than previously derived from Spitzer observations. We identify a warm HCN component with rotational temperature $T_\\mathrm{rot} = 330~\\mathrm{K}$, which we associate with radiative excitation by the hot inner nucleus. We propose a geometry where the detected molecular gas is located in the inner regions of the starburst disk, directly surrounding the hot 20 parsec core. The chemical footprint of the western nucleus is reminiscent of that of hot cores, with additional evidence for shocks. No evidence for the presence of an AGN in the form of X-ray-driven chemistry or extreme excitation is found.         |"
      ],
      "text/plain": [
       "[2502.10271] MICONIC: JWST Unveils Shocked Hot Core Chemistry in the Western Nucleus of Arp 220\n",
       "\tV. Buiten, et al. -- incl., <mark>T. Henning</mark>"
      ]
     },
     "metadata": {},
     "output_type": "display_data"
    },
    {
     "data": {
      "text/markdown": [
       "## Failed papers"
      ],
      "text/plain": [
       "<IPython.core.display.Markdown object>"
      ]
     },
     "metadata": {},
     "output_type": "display_data"
    },
    {
     "data": {
      "text/markdown": [
       "\n",
       "|||\n",
       "|---:|:---|\n",
       "| [![arXiv](https://img.shields.io/badge/arXiv-2502.10015-b31b1b.svg)](https://arxiv.org/abs/2502.10015) | **An Ultra-Fast Image Simulation Technique with Spatially Variable Point Spread Functions**  |\n",
       "|| Z. Bai, et al. -- incl., <mark>X. Zhang</mark> |\n",
       "|*Appeared on*| *2025-02-18*|\n",
       "|*Comments*| *To be published in the AJ. Comments are welcome*|\n",
       "|**Abstract**|            Simulated images are essential in algorithm development and instrument testing for optical telescopes. During real observations, images obtained by optical telescopes are affected by spatially variable point spread functions (PSFs), a crucial effect requiring accurate simulation. Traditional methods segment images into patches, convolve patches with individual PSFs, and reassemble them as a whole image. Although widely used, these approaches suffer from slow convolution processes and reduced image fidelity due to abrupt PSF transitions between different patches. This paper introduces a novel method for generating simulated images with spatial continuously varying PSFs. Our approach firstly decomposes original images into PSF bases derived with the principal component analysis method. The entire image is then convolved with these PSF bases to create image bases. Finally, we multiply the coefficients of image bases with these image bases for each pixels and add the multiplication results along each pixel to obtain the final simulated image. Our method could generate high-fidelity simulated images with spatially variable PSFs without boundary artifacts. The method proposed in this paper significantly improves the speed of astronomical image simulation, potentially advancing observational astronomy and instrumental development.         |\n",
       "|<p style=\"color:green\"> **ERROR** </p>| <p style=\"color:green\">affiliation error: mpia.affiliation_verifications: 'Heidelberg' keyword not found.</p> |"
      ],
      "text/plain": [
       "<IPython.core.display.Markdown object>"
      ]
     },
     "metadata": {},
     "output_type": "display_data"
    }
   ],
   "source": [
    "import datetime\n",
    "today = str(datetime.date.today())\n",
    "logfile = f\"_build/html/logs/log-{today}.md\"\n",
    "\n",
    "\n",
    "with open(logfile, 'w') as logs:\n",
    "    # Success\n",
    "    logs.write(f'# Arxiv on Deck 2: Logs - {today}\\n\\n')\n",
    "    logs.write(\"\"\"* Arxiv had {0:,d} new papers\\n\"\"\".format(len(new_papers)))\n",
    "    logs.write(\"\"\"    * {0:,d} with possible author matches\\n\\n\"\"\".format(len(candidates)))\n",
    "    logs.write(\"## Sucessful papers\\n\\n\")\n",
    "    display(Markdown(\"## Successful papers\"))\n",
    "    success = [k[0] for k in documents]\n",
    "    for candid in candidates:\n",
    "        if candid['identifier'].split(':')[-1] in success:\n",
    "            display(candid)\n",
    "            logs.write(candid.generate_markdown_text() + '\\n\\n')\n",
    "\n",
    "    ## failed\n",
    "    logs.write(\"## Failed papers\\n\\n\")\n",
    "    display(Markdown(\"## Failed papers\"))\n",
    "    failed = sorted(failed, key=lambda x: x[1])\n",
    "    current_reason = \"\"\n",
    "    for paper, reason in failed:\n",
    "        if 'affiliation' in reason:\n",
    "            color = 'green'\n",
    "        else:\n",
    "            color = 'red'\n",
    "        data = Markdown(\n",
    "                paper.generate_markdown_text() + \n",
    "                f'\\n|<p style=\"color:{color:s}\"> **ERROR** </p>| <p style=\"color:{color:s}\">{reason:s}</p> |'\n",
    "               )\n",
    "        if reason != current_reason:\n",
    "            logs.write(f'### {reason:s} \\n\\n')\n",
    "            current_reason = reason\n",
    "        logs.write(data.data + '\\n\\n')\n",
    "        \n",
    "        # only display here the important errors (all in logs)\n",
    "        # if color in ('red',):\n",
    "        display(data)"
   ]
  },
  {
   "cell_type": "markdown",
   "id": "472d20ee",
   "metadata": {
    "papermill": {
     "duration": 0.00409,
     "end_time": "2025-02-18T04:11:56.931963",
     "exception": false,
     "start_time": "2025-02-18T04:11:56.927873",
     "status": "completed"
    },
    "tags": []
   },
   "source": [
    "## Export documents\n",
    "\n",
    "We now write the .md files and export relevant images"
   ]
  },
  {
   "cell_type": "code",
   "execution_count": 7,
   "id": "d426aed9",
   "metadata": {
    "execution": {
     "iopub.execute_input": "2025-02-18T04:11:56.941284Z",
     "iopub.status.busy": "2025-02-18T04:11:56.940789Z",
     "iopub.status.idle": "2025-02-18T04:11:56.947591Z",
     "shell.execute_reply": "2025-02-18T04:11:56.947051Z"
    },
    "papermill": {
     "duration": 0.012523,
     "end_time": "2025-02-18T04:11:56.948607",
     "exception": false,
     "start_time": "2025-02-18T04:11:56.936084",
     "status": "completed"
    },
    "tags": []
   },
   "outputs": [],
   "source": [
    "def export_markdown_summary(md: str, md_fname:str, directory: str):\n",
    "    \"\"\"Export MD document and associated relevant images\"\"\"\n",
    "    import os\n",
    "    import shutil\n",
    "    import re\n",
    "\n",
    "    if (os.path.exists(directory) and not os.path.isdir(directory)):\n",
    "        raise RuntimeError(f\"a non-directory file exists with name {directory:s}\")\n",
    "\n",
    "    if (not os.path.exists(directory)):\n",
    "        print(f\"creating directory {directory:s}\")\n",
    "        os.mkdir(directory)\n",
    "\n",
    "    fig_fnames = (re.compile(r'\\[Fig.*\\]\\((.*)\\)').findall(md) + \n",
    "                  re.compile(r'\\<img src=\"([^>\\s]*)\"[^>]*/>').findall(md))\n",
    "    print(\"found figures\", fig_fnames)\n",
    "    for fname in fig_fnames:\n",
    "        if 'http' in fname:\n",
    "            # No need to copy online figures\n",
    "            continue\n",
    "        if not os.path.exists(fname):\n",
    "            print(\"file not found\", fname)\n",
    "            continue\n",
    "        print(\"copying \", fname, \"to\", directory)\n",
    "        destdir = os.path.join(directory, os.path.dirname(fname))\n",
    "        destfname = os.path.join(destdir, os.path.basename(fname))\n",
    "        try:\n",
    "            os.makedirs(destdir)\n",
    "        except FileExistsError:\n",
    "            pass\n",
    "        shutil.copy(fname, destfname)\n",
    "    with open(os.path.join(directory, md_fname), 'w') as fout:\n",
    "        fout.write(md)\n",
    "    print(\"exported in \", os.path.join(directory, md_fname))\n",
    "    [print(\"    + \" + os.path.join(directory,fk)) for fk in fig_fnames]"
   ]
  },
  {
   "cell_type": "code",
   "execution_count": 8,
   "id": "014d04a4",
   "metadata": {
    "execution": {
     "iopub.execute_input": "2025-02-18T04:11:56.957729Z",
     "iopub.status.busy": "2025-02-18T04:11:56.957490Z",
     "iopub.status.idle": "2025-02-18T04:11:56.976851Z",
     "shell.execute_reply": "2025-02-18T04:11:56.976169Z"
    },
    "papermill": {
     "duration": 0.025168,
     "end_time": "2025-02-18T04:11:56.977945",
     "exception": false,
     "start_time": "2025-02-18T04:11:56.952777",
     "status": "completed"
    },
    "tags": []
   },
   "outputs": [
    {
     "name": "stdout",
     "output_type": "stream",
     "text": [
      "found figures ['tmp_2502.09792/./peg7-cmd-hess-new.png', 'tmp_2502.09792/./peg7-spatial-arrows-wedge.png', 'tmp_2502.09792/./peg7-HB-dist.png', 'tmp_2502.09792/./m31-field-ebv-rect.png']\n",
      "copying  tmp_2502.09792/./peg7-cmd-hess-new.png to _build/html/\n",
      "copying  tmp_2502.09792/./peg7-spatial-arrows-wedge.png to _build/html/\n",
      "copying  tmp_2502.09792/./peg7-HB-dist.png to _build/html/\n",
      "copying  tmp_2502.09792/./m31-field-ebv-rect.png to _build/html/\n",
      "exported in  _build/html/2502.09792.md\n",
      "    + _build/html/tmp_2502.09792/./peg7-cmd-hess-new.png\n",
      "    + _build/html/tmp_2502.09792/./peg7-spatial-arrows-wedge.png\n",
      "    + _build/html/tmp_2502.09792/./peg7-HB-dist.png\n",
      "    + _build/html/tmp_2502.09792/./m31-field-ebv-rect.png\n",
      "found figures ['tmp_2502.10271/./H2O_model_spec_compilation_loglam.png', 'tmp_2502.10271/./line_of_sight_geometry.png', 'tmp_2502.10271/./toy_model_continuum.png', 'tmp_2502.10271/./Arp220_WN_cartoon_v1.png']\n",
      "copying  tmp_2502.10271/./H2O_model_spec_compilation_loglam.png to _build/html/\n",
      "copying  tmp_2502.10271/./line_of_sight_geometry.png to _build/html/\n",
      "copying  tmp_2502.10271/./toy_model_continuum.png to _build/html/\n",
      "copying  tmp_2502.10271/./Arp220_WN_cartoon_v1.png to _build/html/\n",
      "exported in  _build/html/2502.10271.md\n",
      "    + _build/html/tmp_2502.10271/./H2O_model_spec_compilation_loglam.png\n",
      "    + _build/html/tmp_2502.10271/./line_of_sight_geometry.png\n",
      "    + _build/html/tmp_2502.10271/./toy_model_continuum.png\n",
      "    + _build/html/tmp_2502.10271/./Arp220_WN_cartoon_v1.png\n"
     ]
    }
   ],
   "source": [
    "for paper_id, md in documents:\n",
    "    export_markdown_summary(md, f\"{paper_id:s}.md\", '_build/html/')"
   ]
  },
  {
   "cell_type": "markdown",
   "id": "f087a0a7",
   "metadata": {
    "papermill": {
     "duration": 0.004116,
     "end_time": "2025-02-18T04:11:56.986433",
     "exception": false,
     "start_time": "2025-02-18T04:11:56.982317",
     "status": "completed"
    },
    "tags": []
   },
   "source": [
    "## Display the papers\n",
    "\n",
    "Not necessary but allows for a quick check."
   ]
  },
  {
   "cell_type": "code",
   "execution_count": 9,
   "id": "fd25f625",
   "metadata": {
    "execution": {
     "iopub.execute_input": "2025-02-18T04:11:56.995847Z",
     "iopub.status.busy": "2025-02-18T04:11:56.995330Z",
     "iopub.status.idle": "2025-02-18T04:11:57.001250Z",
     "shell.execute_reply": "2025-02-18T04:11:57.000648Z"
    },
    "papermill": {
     "duration": 0.011719,
     "end_time": "2025-02-18T04:11:57.002305",
     "exception": false,
     "start_time": "2025-02-18T04:11:56.990586",
     "status": "completed"
    },
    "scrolled": false,
    "tags": []
   },
   "outputs": [
    {
     "data": {
      "text/markdown": [
       "<div class=\"macros\" style=\"visibility:hidden;\">\n",
       "$\\newcommand{\\ensuremath}{}$\n",
       "$\\newcommand{\\xspace}{}$\n",
       "$\\newcommand{\\object}[1]{\\texttt{#1}}$\n",
       "$\\newcommand{\\farcs}{{.}''}$\n",
       "$\\newcommand{\\farcm}{{.}'}$\n",
       "$\\newcommand{\\arcsec}{''}$\n",
       "$\\newcommand{\\arcmin}{'}$\n",
       "$\\newcommand{\\ion}[2]{#1#2}$\n",
       "$\\newcommand{\\textsc}[1]{\\textrm{#1}}$\n",
       "$\\newcommand{\\hl}[1]{\\textrm{#1}}$\n",
       "$\\newcommand{\\footnote}[1]{}$\n",
       "$\\newcommand{\\vdag}{(v)^\\dagger}$\n",
       "$\\newcommand$\n",
       "$\\newcommand$\n",
       "$\\newcommand{\\chg}[1]{\\textbf{#1}}$\n",
       "$\\newcommand{\\warn}[1]{\\textcolor{red}{\\textbf{#1}}}$\n",
       "$\\newcommand{\\plot}[1]{\\textit{#1}:}$\n",
       "$\\newcommand{\\code}[1]{\\texttt{#1}}$\n",
       "$\\newcommand{\\rh}{r_{\\text{h}}}$\n",
       "$\\newcommand{\\rhm}{r_{\\text{h}}}$\n",
       "$\\newcommand{\\ebv}{E(B-V)}$\n",
       "$\\newcommand{\\Rv}{R_{V}}$\n",
       "$\\newcommand{\\vh}{v_{\\odot}}$\n",
       "$\\newcommand{\\Msun}{\\textup{M}_\\odot}$\n",
       "$\\newcommand{\\Lsun}{\\textup{L}_\\odot}$\n",
       "$\\newcommand{\\sqdeg}{deg^2}$\n",
       "$\\newcommand{\\kms}{km s^{-1}}$\n",
       "$\\newcommand{\\met}{[Fe/H]}$\n",
       "$\\newcommand{\\peg}{Peg VII}$</div>\n",
       "\n",
       "\n",
       "\n",
       "<div id=\"title\">\n",
       "\n",
       "# Deep in the Fields of the Andromeda Halo: \\\\Discovery of the Pegasus VII dwarf galaxy in UNIONS\n",
       "\n",
       "</div>\n",
       "<div id=\"comments\">\n",
       "\n",
       "[![arXiv](https://img.shields.io/badge/arXiv-2502.09792-b31b1b.svg)](https://arxiv.org/abs/2502.09792)<mark>Appeared on: 2025-02-18</mark> -  _13 pages, 5 figures, accepted for publication in ApJ_\n",
       "\n",
       "</div>\n",
       "<div id=\"authors\">\n",
       "\n",
       "S. E. T. Smith, et al. -- incl., <mark>N. Martin</mark>\n",
       "\n",
       "</div>\n",
       "<div id=\"abstract\">\n",
       "\n",
       "**Abstract:** We present the newly discovered dwarf galaxy Pegasus VII ( $\\peg$ ), a member of the M31 sub-group which has been uncovered in the $ri$ photometric catalogs from the Ultraviolet Near-Infrared Optical Northern Survey and confirmed with follow-up imaging from both the Canada-France-Hawaii Telescope and the Gemini-North Telescope. This system has an absolute $V$ -band magnitude of $-5.7$ $\\pm$ 0.2 mag and a physical half-light radius of 177 $^{+36}_{-34}$ pc, which is characteristic of dynamically-confirmed Milky Way satellite dwarf galaxies and about 5 times more extended than the most extended M31 globular clusters. $\\peg$ lies at a three-dimensional separation from M31 of 331 $^{+15}_{-4}$ kpc and    a significant elongation ( $\\epsilon \\sim 0.5$ ) towards the projected direction of M31 could be indicative of a past tidal interaction, but additional investigation into the orbit, star formation history, and whether any gas remains in the galaxy is needed to better understand the evolution of $\\peg$ .\n",
       "\n",
       "</div>\n",
       "\n",
       "<div id=\"div_fig1\">\n",
       "\n",
       "<img src=\"tmp_2502.09792/./peg7-cmd-hess-new.png\" alt=\"Fig3\" width=\"100%\"/>\n",
       "\n",
       "**Figure 3. -** _ Left_: CMD of stellar sources (black markers) within 2 half-light radii of the $\\peg$ centroid. An old (10 Gyr), metal-poor ([Fe/H] = $-2$) PARSEC isochrone is overlaid in red, shifted to a distance of 750 kpc. The 5$\\sigma$ point source depths ($g \\sim 26.1$ and $r \\sim 25.7$ mag) are indicated with a dashed black line. Black crosses show the median color and magnitude errors as a function of magnitude. Dashed orange outlines have been drawn to delineate where putative member stars of $\\peg$ fall on the CMD, as described in Section \\ref{subsec:stardist}.\n",
       "    _ Centre_: This CMD shows sources which fall in an elliptical annulus whose inner radius is 3 half-light radii and has an area equal to the inner 2 half-light radius region, demonstrating the non-member source contamination present in the left panel.\n",
       "    _ Right_: Smoothed Hess difference plot between on-target and field CMDs. Light regions indicate a high density of $\\peg$ stars compared to field stars, while dark regions show deficits. The adopted isochrone is shown in red and we also shift the distance of the HB by 60 kpc (orange dashed lines) to indicate how the distance uncertainty is inferred from the difference CMD.\n",
       "     (*fig:peg7-cmd*)\n",
       "\n",
       "</div>\n",
       "<div id=\"div_fig2\">\n",
       "\n",
       "<img src=\"tmp_2502.09792/./peg7-spatial-arrows-wedge.png\" alt=\"Fig4.1\" width=\"50%\"/><img src=\"tmp_2502.09792/./peg7-HB-dist.png\" alt=\"Fig4.2\" width=\"50%\"/>\n",
       "\n",
       "**Figure 4. -** _ Left_: Tangent plane-projected spatial distribution of cleaned stellar sources detected in Gemini-N/GMOS imaging about $\\peg$. Black stars fall within the isochrone membership selection box defined in the left panel of Figure \\ref{fig:peg7-cmd} while grey stars fall outside of this selection box. Concentric ellipses in yellow, orange, and red show the 1, 2, \\& 3 $\\times$\\rh iso-density contours, respectively, of the best-fit stellar distribution model. The blue arrow indicates the tangent plane-projected direction towards M31 and the grey wedge shows the 1$\\sigma$ uncertainties on the projected direction towards M31 stemming from the position angle of the major axis of $\\peg$. The direction towards M31 is 18$^{+12}_{-9}$$\\deg$ from the position angle of the major axis.\n",
       "    _ Right_: Here we plot in large blue markers the tangent plane-projected spatial distribution of all suspected horizontal branch stars (defined by the HB selection box in the left panel of Figure \\ref{fig:peg7-cmd}). We overlay black contours showing the smoothed density distribution of these same HB stars. We also plot small grey markers for all candidate member stars (same as black point in left panel of this figure), demonstrating how the HB distribution traces the same overdensity as the rest of the member stars.\n",
       "     (*fig:peg7-spatial*)\n",
       "\n",
       "</div>\n",
       "<div id=\"div_fig3\">\n",
       "\n",
       "<img src=\"tmp_2502.09792/./m31-field-ebv-rect.png\" alt=\"Fig5\" width=\"100%\"/>\n",
       "\n",
       "**Figure 5. -** Tangent plane projection centered on M31, which is shown as the central black ellipse.\n",
       "    Known galaxies in the vicinity of M31 are shown as black circles where their filled shade of blue indicates total absolute $V$-band magnitude in the range indicated in the color bar. The position of M33 (Triangulum) is marked with a white triangle. The three concentric, dashed black circles indicate projected radii of 100, 200, \\& 300 kpc at the distance of M31. The dashed grey outline demarcates the PAndAS footprint while the UNIONS footprint in the south galactic cap is shown with a thick dashed green line, as noted in the legend.\n",
       "    $\\peg$ is indicated with a label as well as a large black circle and lies in front of the tangent plane, at a total three-dimensional distance of $\\sim$330 kpc from M31.\n",
       "    All known galaxies in this field of view with projected M31 separations greater than 200 kpc are labelled.\n",
       "    The greyscale background shows the dust maps from \\citet{Schlegel98} where the color bar has a maximum of $E(B-V) = 1$ to show the features around the M31 satellites, though the top band reaches much greater extinctions towards the galactic midplane (indicated by the dashed white line). Triangulum II and Segue 2 are Milky Way satellites in the foreground of this field of view. (*fig:m31-field*)\n",
       "\n",
       "</div><div id=\"qrcode\"><img src=https://api.qrserver.com/v1/create-qr-code/?size=100x100&data=\"https://arxiv.org/abs/2502.09792\"></div>"
      ],
      "text/plain": [
       "<IPython.core.display.Markdown object>"
      ]
     },
     "metadata": {},
     "output_type": "display_data"
    },
    {
     "data": {
      "text/markdown": [
       "<div class=\"macros\" style=\"visibility:hidden;\">\n",
       "$\\newcommand{\\ensuremath}{}$\n",
       "$\\newcommand{\\xspace}{}$\n",
       "$\\newcommand{\\object}[1]{\\texttt{#1}}$\n",
       "$\\newcommand{\\farcs}{{.}''}$\n",
       "$\\newcommand{\\farcm}{{.}'}$\n",
       "$\\newcommand{\\arcsec}{''}$\n",
       "$\\newcommand{\\arcmin}{'}$\n",
       "$\\newcommand{\\ion}[2]{#1#2}$\n",
       "$\\newcommand{\\textsc}[1]{\\textrm{#1}}$\n",
       "$\\newcommand{\\hl}[1]{\\textrm{#1}}$\n",
       "$\\newcommand{\\footnote}[1]{}$\n",
       "$\\newcommand{\\thought}[1]{\\textcolor{red}{#1}}$\n",
       "$\\newcommand{\\PvdW}[1]{\\textcolor{purple}{[PvdW: #1]}}$\n",
       "$\\newcommand{\\pvdw}[1]{\\textcolor{purple}{[PvdW: #1]}}$</div>\n",
       "\n",
       "\n",
       "\n",
       "<div id=\"title\">\n",
       "\n",
       "# MICONIC: JWST Unveils Shocked Hot Core Chemistry in the Western Nucleus of Arp 220\n",
       "\n",
       "</div>\n",
       "<div id=\"comments\">\n",
       "\n",
       "[![arXiv](https://img.shields.io/badge/arXiv-2502.10271-b31b1b.svg)](https://arxiv.org/abs/2502.10271)<mark>Appeared on: 2025-02-18</mark> -  _Submitted to A&A_\n",
       "\n",
       "</div>\n",
       "<div id=\"authors\">\n",
       "\n",
       "V. Buiten, et al. -- incl., <mark>T. Henning</mark>\n",
       "\n",
       "</div>\n",
       "<div id=\"abstract\">\n",
       "\n",
       "**Abstract:** We present full $\\qtyrange{3}{28}{\\micron}$ JWST MIRI/MRS and NIRSpec/IFU spectra of the western nucleus of Arp 220, the nearest ultraluminous infrared galaxy. This nucleus has long been suggested to possibly host an embedded Compton-thick AGN. Millimeter observations of the dust continuum suggest the presence of a distinct $\\qty{20}{\\parsec}$ core with a dust temperature of $T_\\mathrm{d} \\gtrsim \\qty{500}{\\kelvin}$ , in addition to a $\\qty{100}{\\parsec}$ circumnuclear starburst disk. However, unambiguously identifying the nature of this core is challenging, due to the immense obscuration, the nuclear starburst activity, and the nearby eastern nucleus. With the JWST integral field spectrographs, we can, for the first time, separate the two nuclei across this full wavelength range, revealing a wealth of molecular absorption features towards the western nucleus. We analyse the rovibrational bands detected at $\\qtyrange[range-units=single]{4}{22}{\\micron}$ , deriving column densities and rotational temperatures for 10 distinct species. Optically thick features of $\\ce{C2H2}$ , $\\ce{HCN}$ and $\\ce{HNC}$ suggest that this molecular gas is hidden behind a curtain of cooler dust, and indicate that the column densities of $\\ce{C2H2}$ and $\\ce{HCN}$ are an order of magnitude higher than previously derived from _Spitzer_ observations. We identify a warm $\\ce{HCN}$ component with rotational temperature $T_\\mathrm{rot} = \\qty{330}{\\kelvin}$ , which we associate with radiative excitation by the hot inner nucleus. We propose a geometry where the detected molecular gas is located in the inner regions of the starburst disk, directly surrounding the hot $\\qty{20}{\\parsec}$ core. The chemical footprint of the western nucleus is reminiscent of that of hot cores, with additional evidence for shocks. No evidence for the presence of an AGN in the form of X-ray-driven chemistry or extreme excitation is found.\n",
       "\n",
       "</div>\n",
       "\n",
       "<div id=\"div_fig1\">\n",
       "\n",
       "<img src=\"tmp_2502.10271/./H2O_model_spec_compilation_loglam.png\" alt=\"Fig8\" width=\"100%\"/>\n",
       "\n",
       "**Figure 8. -** The spectrum around \\SI{6}{\\micron} and the best-fit \\ce{H2O} model for $f_\\mathrm{bg} = 0.35$. The top panel shows the absolute flux spectrum and continuum model. The middle panel shows the continuum-extracted spectrum. Strong \\ce{H2O} lines are labelled by their upper- and lower-level quantum numbers as $J_{u}, K_{a,u}, K_{c,u} - J_l, K_{a,l}, K_{c,l}$. Several strong emission lines and absorption lines of \\ce{C2H} are labelled as well. The pink shaded area indicates the spectral region considered in the fit. The bottom panel shows the residuals on the continuum-extracted spectrum; the grey shaded area indicates their 68\\% interval. (*fig:H2O_model_spec*)\n",
       "\n",
       "</div>\n",
       "<div id=\"div_fig2\">\n",
       "\n",
       "<img src=\"tmp_2502.10271/./line_of_sight_geometry.png\" alt=\"Fig2.1\" width=\"50%\"/><img src=\"tmp_2502.10271/./toy_model_continuum.png\" alt=\"Fig2.2\" width=\"50%\"/>\n",
       "\n",
       "**Figure 2. -** Top: schematic illustration of the proposed line-of-sight geometry. The molecular gas is embedded in cool dust that produces significant foreground emission, filling in the features produced by absorption of hot background photons. Bottom: expected continuum spectrum for a toy model consisting of a \\SI{1000}{\\kelvin} background blackbody and a \\SI{100}{\\kelvin} foreground modified blackbody. (*fig:geometry_los_illustration*)\n",
       "\n",
       "</div>\n",
       "<div id=\"div_fig3\">\n",
       "\n",
       "<img src=\"tmp_2502.10271/./Arp220_WN_cartoon_v1.png\" alt=\"Fig5\" width=\"100%\"/>\n",
       "\n",
       "**Figure 5. -** Schematic illustration of the proposed geometry of the WN along the line of sight. Following the interpretation of \\citet{Sakamoto2021b}, we assume that the south side of the disk is facing us with an inclination of $i \\approx \\ang{60}$, and that the biconical outflow is normal to the disk. The direction of the tilt is debated \\citep[][Van der Werf et al. in prep]{Scoville1998}, but we note that it does not affect the interpretation of the absorption bands in this work. (*fig:WN_geometry_cartoon*)\n",
       "\n",
       "</div><div id=\"qrcode\"><img src=https://api.qrserver.com/v1/create-qr-code/?size=100x100&data=\"https://arxiv.org/abs/2502.10271\"></div>"
      ],
      "text/plain": [
       "<IPython.core.display.Markdown object>"
      ]
     },
     "metadata": {},
     "output_type": "display_data"
    }
   ],
   "source": [
    "[display(Markdown(k[1])) for k in documents];"
   ]
  },
  {
   "cell_type": "markdown",
   "id": "873873a4",
   "metadata": {
    "papermill": {
     "duration": 0.004569,
     "end_time": "2025-02-18T04:11:57.011627",
     "exception": false,
     "start_time": "2025-02-18T04:11:57.007058",
     "status": "completed"
    },
    "tags": []
   },
   "source": [
    "# Create HTML index"
   ]
  },
  {
   "cell_type": "code",
   "execution_count": 10,
   "id": "cf665672",
   "metadata": {
    "execution": {
     "iopub.execute_input": "2025-02-18T04:11:57.021561Z",
     "iopub.status.busy": "2025-02-18T04:11:57.021319Z",
     "iopub.status.idle": "2025-02-18T04:11:57.030618Z",
     "shell.execute_reply": "2025-02-18T04:11:57.030071Z"
    },
    "papermill": {
     "duration": 0.015454,
     "end_time": "2025-02-18T04:11:57.031585",
     "exception": false,
     "start_time": "2025-02-18T04:11:57.016131",
     "status": "completed"
    },
    "tags": []
   },
   "outputs": [
    {
     "name": "stdout",
     "output_type": "stream",
     "text": [
      "336  publications files modified in the last 7 days.\n"
     ]
    }
   ],
   "source": [
    "from datetime import datetime, timedelta, timezone\n",
    "from glob import glob\n",
    "import os\n",
    "\n",
    "files = glob('_build/html/*.md')\n",
    "days = 7\n",
    "now = datetime.today()\n",
    "res = []\n",
    "for fk in files:\n",
    "    stat_result = os.stat(fk).st_ctime\n",
    "    modified = datetime.fromtimestamp(stat_result, tz=timezone.utc).replace(tzinfo=None)\n",
    "    delta = now.today() - modified\n",
    "    if delta <= timedelta(days=days):\n",
    "        res.append((delta.seconds, fk))\n",
    "res = [k[1] for k in reversed(sorted(res, key=lambda x:x[1]))]\n",
    "npub = len(res)\n",
    "print(len(res), f\" publications files modified in the last {days:d} days.\")\n",
    "# [ print('\\t', k) for k in res ];"
   ]
  },
  {
   "cell_type": "code",
   "execution_count": 11,
   "id": "015de740",
   "metadata": {
    "execution": {
     "iopub.execute_input": "2025-02-18T04:11:57.042304Z",
     "iopub.status.busy": "2025-02-18T04:11:57.041731Z",
     "iopub.status.idle": "2025-02-18T04:11:57.060624Z",
     "shell.execute_reply": "2025-02-18T04:11:57.059960Z"
    },
    "papermill": {
     "duration": 0.025489,
     "end_time": "2025-02-18T04:11:57.061682",
     "exception": false,
     "start_time": "2025-02-18T04:11:57.036193",
     "status": "completed"
    },
    "tags": []
   },
   "outputs": [
    {
     "name": "stdout",
     "output_type": "stream",
     "text": [
      "9  publications in the last 7 days.\n"
     ]
    }
   ],
   "source": [
    "import datetime\n",
    "from glob import glob\n",
    "\n",
    "def get_last_n_days(lst, days=1):\n",
    "    \"\"\" Get the documents from the last n days \"\"\"\n",
    "    sorted_lst = sorted(lst, key=lambda x: x[1], reverse=True)\n",
    "    for fname, date in sorted_lst:\n",
    "        if date >= str(datetime.date.today() - datetime.timedelta(days=days)):\n",
    "            yield fname\n",
    "\n",
    "def extract_appearance_dates(lst_file):\n",
    "    dates = []\n",
    "\n",
    "    def get_date(line):\n",
    "        return line\\\n",
    "            .split('Appeared on:')[-1]\\\n",
    "            .split('</mark>')[0].strip()\n",
    "\n",
    "    for fname in lst:\n",
    "        with open(fname, 'r') as f:\n",
    "            found_date = False\n",
    "            for line in f:\n",
    "                if not found_date:\n",
    "                    if \"Appeared on\" in line:\n",
    "                        found_date = True\n",
    "                        dates.append((fname, get_date(line)))\n",
    "                else:\n",
    "                    break\n",
    "    return dates\n",
    "\n",
    "from glob import glob\n",
    "lst = glob('_build/html/*md')\n",
    "days = 7\n",
    "dates = extract_appearance_dates(lst)\n",
    "res = list(get_last_n_days(dates, days))\n",
    "npub = len(res)\n",
    "print(len(res), f\" publications in the last {days:d} days.\")"
   ]
  },
  {
   "cell_type": "code",
   "execution_count": 12,
   "id": "52ca0208",
   "metadata": {
    "execution": {
     "iopub.execute_input": "2025-02-18T04:11:57.072057Z",
     "iopub.status.busy": "2025-02-18T04:11:57.071595Z",
     "iopub.status.idle": "2025-02-18T04:11:57.076480Z",
     "shell.execute_reply": "2025-02-18T04:11:57.075925Z"
    },
    "papermill": {
     "duration": 0.011008,
     "end_time": "2025-02-18T04:11:57.077389",
     "exception": false,
     "start_time": "2025-02-18T04:11:57.066381",
     "status": "completed"
    },
    "scrolled": false,
    "tags": []
   },
   "outputs": [],
   "source": [
    "def create_carousel(npub=4):\n",
    "    \"\"\" Generate the HTML code for a carousel with `npub` slides \"\"\"\n",
    "    carousel = [\"\"\"  <div class=\"carousel\" \"\"\",\n",
    "                \"\"\"       data-flickity='{ \"autoPlay\": 10000, \"adaptiveHeight\": true, \"resize\": true, \"wrapAround\": true, \"pauseAutoPlayOnHover\": true, \"groupCells\": 1 }' id=\"asyncTypeset\">\"\"\"\n",
    "                ]\n",
    "    \n",
    "    item_str = \"\"\"    <div class=\"carousel-cell\"> <div id=\"slide{k}\" class=\"md_view\">Content {k}</div> </div>\"\"\"\n",
    "    for k in range(1, npub + 1):\n",
    "        carousel.append(item_str.format(k=k))\n",
    "    carousel.append(\"  </div>\")\n",
    "    return '\\n'.join(carousel)\n",
    "\n",
    "def create_grid(npub=4):\n",
    "    \"\"\" Generate the HTML code for a flat grid with `npub` slides \"\"\"\n",
    "    grid = [\"\"\"  <div class=\"grid\"> \"\"\",\n",
    "                ]\n",
    "    \n",
    "    item_str = \"\"\"    <div class=\"grid-item\"> <div id=\"slide{k}\" class=\"md_view\">Content {k}</div> </div>\"\"\"\n",
    "    for k in range(1, npub + 1):\n",
    "        grid.append(item_str.format(k=k))\n",
    "    grid.append(\"  </div>\")\n",
    "    return '\\n'.join(grid)"
   ]
  },
  {
   "cell_type": "code",
   "execution_count": 13,
   "id": "a6eac5b6",
   "metadata": {
    "execution": {
     "iopub.execute_input": "2025-02-18T04:11:57.087752Z",
     "iopub.status.busy": "2025-02-18T04:11:57.087375Z",
     "iopub.status.idle": "2025-02-18T04:11:57.092342Z",
     "shell.execute_reply": "2025-02-18T04:11:57.091806Z"
    },
    "papermill": {
     "duration": 0.01117,
     "end_time": "2025-02-18T04:11:57.093313",
     "exception": false,
     "start_time": "2025-02-18T04:11:57.082143",
     "status": "completed"
    },
    "scrolled": false,
    "tags": []
   },
   "outputs": [],
   "source": [
    "carousel = create_carousel(npub)\n",
    "docs = ', '.join(['\"{0:s}\"'.format(k.split('/')[-1]) for k in res])\n",
    "slides = ', '.join([f'\"slide{k}\"' for k in range(1, npub + 1)])\n",
    "\n",
    "with open(\"daily_template.html\", \"r\") as tpl:\n",
    "    page = tpl.read()\n",
    "    page = page.replace(\"{%-- carousel:s --%}\", carousel)\\\n",
    "               .replace(\"{%-- suptitle:s --%}\",  \"7-day archives\" )\\\n",
    "               .replace(\"{%-- docs:s --%}\", docs)\\\n",
    "               .replace(\"{%-- slides:s --%}\", slides)\n",
    "    \n",
    "with open(\"_build/html/index_7days.html\", 'w') as fout:\n",
    "    fout.write(page)"
   ]
  },
  {
   "cell_type": "code",
   "execution_count": 14,
   "id": "adc1a1ec",
   "metadata": {
    "execution": {
     "iopub.execute_input": "2025-02-18T04:11:57.103875Z",
     "iopub.status.busy": "2025-02-18T04:11:57.103452Z",
     "iopub.status.idle": "2025-02-18T04:11:57.110130Z",
     "shell.execute_reply": "2025-02-18T04:11:57.109577Z"
    },
    "papermill": {
     "duration": 0.01298,
     "end_time": "2025-02-18T04:11:57.111096",
     "exception": false,
     "start_time": "2025-02-18T04:11:57.098116",
     "status": "completed"
    },
    "tags": []
   },
   "outputs": [
    {
     "name": "stdout",
     "output_type": "stream",
     "text": [
      "2  publications in the last day.\n"
     ]
    }
   ],
   "source": [
    "# redo for today\n",
    "days = 1\n",
    "res = list(get_last_n_days(dates, days))\n",
    "npub = len(res)\n",
    "print(len(res), f\" publications in the last day.\")\n",
    "\n",
    "carousel = create_carousel(npub)\n",
    "docs = ', '.join(['\"{0:s}\"'.format(k.split('/')[-1]) for k in res])\n",
    "slides = ', '.join([f'\"slide{k}\"' for k in range(1, npub + 1)])\n",
    "\n",
    "with open(\"daily_template.html\", \"r\") as tpl:\n",
    "    page = tpl.read()\n",
    "    page = page.replace(\"{%-- carousel:s --%}\", carousel)\\\n",
    "               .replace(\"{%-- suptitle:s --%}\",  \"Daily\" )\\\n",
    "               .replace(\"{%-- docs:s --%}\", docs)\\\n",
    "               .replace(\"{%-- slides:s --%}\", slides)\n",
    "    \n",
    "# print(carousel, docs, slides)\n",
    "# print(page)\n",
    "with open(\"_build/html/index_daily.html\", 'w') as fout:\n",
    "    fout.write(page)"
   ]
  },
  {
   "cell_type": "code",
   "execution_count": 15,
   "id": "00eece82",
   "metadata": {
    "execution": {
     "iopub.execute_input": "2025-02-18T04:11:57.121949Z",
     "iopub.status.busy": "2025-02-18T04:11:57.121555Z",
     "iopub.status.idle": "2025-02-18T04:11:57.128161Z",
     "shell.execute_reply": "2025-02-18T04:11:57.127547Z"
    },
    "papermill": {
     "duration": 0.013192,
     "end_time": "2025-02-18T04:11:57.129228",
     "exception": false,
     "start_time": "2025-02-18T04:11:57.116036",
     "status": "completed"
    },
    "scrolled": false,
    "tags": []
   },
   "outputs": [
    {
     "name": "stdout",
     "output_type": "stream",
     "text": [
      "6  6 publications selected.\n"
     ]
    }
   ],
   "source": [
    "# Create the flat grid of the last N papers (fixed number regardless of dates)\n",
    "from itertools import islice \n",
    "\n",
    "npub = 6\n",
    "res = [k[0] for k in (islice(reversed(sorted(dates, key=lambda x: x[1])), 6))]\n",
    "print(len(res), f\" {npub} publications selected.\")\n",
    "\n",
    "grid = create_grid(npub)\n",
    "docs = ', '.join(['\"{0:s}\"'.format(k.split('/')[-1]) for k in res])\n",
    "slides = ', '.join([f'\"slide{k}\"' for k in range(1, npub + 1)])\n",
    "\n",
    "with open(\"grid_template.html\", \"r\") as tpl:\n",
    "    page = tpl.read()\n",
    "    page = page.replace(\"{%-- grid-content:s --%}\", grid)\\\n",
    "               .replace(\"{%-- suptitle:s --%}\",  f\"Last {npub:,d} papers\" )\\\n",
    "               .replace(\"{%-- docs:s --%}\", docs)\\\n",
    "               .replace(\"{%-- slides:s --%}\", slides)\n",
    "    \n",
    "# print(grid, docs, slides)\n",
    "# print(page)\n",
    "with open(\"_build/html/index_npub_grid.html\", 'w') as fout:\n",
    "    fout.write(page)"
   ]
  }
 ],
 "metadata": {
  "kernelspec": {
   "display_name": "Python 3 (ipykernel)",
   "language": "python",
   "name": "python3"
  },
  "language_info": {
   "codemirror_mode": {
    "name": "ipython",
    "version": 3
   },
   "file_extension": ".py",
   "mimetype": "text/x-python",
   "name": "python",
   "nbconvert_exporter": "python",
   "pygments_lexer": "ipython3",
   "version": "3.9.21"
  },
  "papermill": {
   "default_parameters": {},
   "duration": 56.741783,
   "end_time": "2025-02-18T04:11:57.350014",
   "environment_variables": {},
   "exception": null,
   "input_path": "MPIA daily digest.ipynb",
   "output_path": "log.ipynb",
   "parameters": {},
   "start_time": "2025-02-18T04:11:00.608231",
   "version": "2.6.0"
  },
  "vscode": {
   "interpreter": {
    "hash": "aee8b7b246df8f9039afb4144a1f6fd8d2ca17a180786b69acc140d282b71a49"
   }
  },
  "widgets": {
   "application/vnd.jupyter.widget-state+json": {
    "state": {
     "2a07d32dc3eb469dac063af25fdd5111": {
      "model_module": "@jupyter-widgets/controls",
      "model_module_version": "2.0.0",
      "model_name": "FloatProgressModel",
      "state": {
       "_dom_classes": [],
       "_model_module": "@jupyter-widgets/controls",
       "_model_module_version": "2.0.0",
       "_model_name": "FloatProgressModel",
       "_view_count": null,
       "_view_module": "@jupyter-widgets/controls",
       "_view_module_version": "2.0.0",
       "_view_name": "ProgressView",
       "bar_style": "success",
       "description": "",
       "description_allow_html": false,
       "layout": "IPY_MODEL_ffd0a1138e1b45f6a2538fae6984b49e",
       "max": 3.0,
       "min": 0.0,
       "orientation": "horizontal",
       "style": "IPY_MODEL_cbd6bfe01e114720b241a644e1a20790",
       "tabbable": null,
       "tooltip": null,
       "value": 3.0
      }
     },
     "2d006f472e8c495cbecd805845e8413f": {
      "model_module": "@jupyter-widgets/controls",
      "model_module_version": "2.0.0",
      "model_name": "HTMLStyleModel",
      "state": {
       "_model_module": "@jupyter-widgets/controls",
       "_model_module_version": "2.0.0",
       "_model_name": "HTMLStyleModel",
       "_view_count": null,
       "_view_module": "@jupyter-widgets/base",
       "_view_module_version": "2.0.0",
       "_view_name": "StyleView",
       "background": null,
       "description_width": "",
       "font_size": null,
       "text_color": null
      }
     },
     "2e9f525c59ff443caa342d3613b4a264": {
      "model_module": "@jupyter-widgets/controls",
      "model_module_version": "2.0.0",
      "model_name": "HTMLModel",
      "state": {
       "_dom_classes": [],
       "_model_module": "@jupyter-widgets/controls",
       "_model_module_version": "2.0.0",
       "_model_name": "HTMLModel",
       "_view_count": null,
       "_view_module": "@jupyter-widgets/controls",
       "_view_module_version": "2.0.0",
       "_view_name": "HTMLView",
       "description": "",
       "description_allow_html": false,
       "layout": "IPY_MODEL_f3abdf74fa784c449d5e5ae82c688e5e",
       "placeholder": "​",
       "style": "IPY_MODEL_2d006f472e8c495cbecd805845e8413f",
       "tabbable": null,
       "tooltip": null,
       "value": " 3/3 [00:31&lt;00:00,  9.36s/it]"
      }
     },
     "73a43f4d64814d28a3e290ae7c83da2a": {
      "model_module": "@jupyter-widgets/base",
      "model_module_version": "2.0.0",
      "model_name": "LayoutModel",
      "state": {
       "_model_module": "@jupyter-widgets/base",
       "_model_module_version": "2.0.0",
       "_model_name": "LayoutModel",
       "_view_count": null,
       "_view_module": "@jupyter-widgets/base",
       "_view_module_version": "2.0.0",
       "_view_name": "LayoutView",
       "align_content": null,
       "align_items": null,
       "align_self": null,
       "border_bottom": null,
       "border_left": null,
       "border_right": null,
       "border_top": null,
       "bottom": null,
       "display": null,
       "flex": null,
       "flex_flow": null,
       "grid_area": null,
       "grid_auto_columns": null,
       "grid_auto_flow": null,
       "grid_auto_rows": null,
       "grid_column": null,
       "grid_gap": null,
       "grid_row": null,
       "grid_template_areas": null,
       "grid_template_columns": null,
       "grid_template_rows": null,
       "height": null,
       "justify_content": null,
       "justify_items": null,
       "left": null,
       "margin": null,
       "max_height": null,
       "max_width": null,
       "min_height": null,
       "min_width": null,
       "object_fit": null,
       "object_position": null,
       "order": null,
       "overflow": null,
       "padding": null,
       "right": null,
       "top": null,
       "visibility": null,
       "width": null
      }
     },
     "84ea92cd49b54985be211c19c540137f": {
      "model_module": "@jupyter-widgets/controls",
      "model_module_version": "2.0.0",
      "model_name": "HTMLStyleModel",
      "state": {
       "_model_module": "@jupyter-widgets/controls",
       "_model_module_version": "2.0.0",
       "_model_name": "HTMLStyleModel",
       "_view_count": null,
       "_view_module": "@jupyter-widgets/base",
       "_view_module_version": "2.0.0",
       "_view_name": "StyleView",
       "background": null,
       "description_width": "",
       "font_size": null,
       "text_color": null
      }
     },
     "8efcea00632c4bc38e6fbee90ea675fa": {
      "model_module": "@jupyter-widgets/controls",
      "model_module_version": "2.0.0",
      "model_name": "HBoxModel",
      "state": {
       "_dom_classes": [],
       "_model_module": "@jupyter-widgets/controls",
       "_model_module_version": "2.0.0",
       "_model_name": "HBoxModel",
       "_view_count": null,
       "_view_module": "@jupyter-widgets/controls",
       "_view_module_version": "2.0.0",
       "_view_name": "HBoxView",
       "box_style": "",
       "children": [
        "IPY_MODEL_f10981858e83452583c38dfbb79d66c4",
        "IPY_MODEL_2a07d32dc3eb469dac063af25fdd5111",
        "IPY_MODEL_2e9f525c59ff443caa342d3613b4a264"
       ],
       "layout": "IPY_MODEL_73a43f4d64814d28a3e290ae7c83da2a",
       "tabbable": null,
       "tooltip": null
      }
     },
     "cbd6bfe01e114720b241a644e1a20790": {
      "model_module": "@jupyter-widgets/controls",
      "model_module_version": "2.0.0",
      "model_name": "ProgressStyleModel",
      "state": {
       "_model_module": "@jupyter-widgets/controls",
       "_model_module_version": "2.0.0",
       "_model_name": "ProgressStyleModel",
       "_view_count": null,
       "_view_module": "@jupyter-widgets/base",
       "_view_module_version": "2.0.0",
       "_view_name": "StyleView",
       "bar_color": null,
       "description_width": ""
      }
     },
     "dc0aef27902d437b81bb890d6e525273": {
      "model_module": "@jupyter-widgets/base",
      "model_module_version": "2.0.0",
      "model_name": "LayoutModel",
      "state": {
       "_model_module": "@jupyter-widgets/base",
       "_model_module_version": "2.0.0",
       "_model_name": "LayoutModel",
       "_view_count": null,
       "_view_module": "@jupyter-widgets/base",
       "_view_module_version": "2.0.0",
       "_view_name": "LayoutView",
       "align_content": null,
       "align_items": null,
       "align_self": null,
       "border_bottom": null,
       "border_left": null,
       "border_right": null,
       "border_top": null,
       "bottom": null,
       "display": null,
       "flex": null,
       "flex_flow": null,
       "grid_area": null,
       "grid_auto_columns": null,
       "grid_auto_flow": null,
       "grid_auto_rows": null,
       "grid_column": null,
       "grid_gap": null,
       "grid_row": null,
       "grid_template_areas": null,
       "grid_template_columns": null,
       "grid_template_rows": null,
       "height": null,
       "justify_content": null,
       "justify_items": null,
       "left": null,
       "margin": null,
       "max_height": null,
       "max_width": null,
       "min_height": null,
       "min_width": null,
       "object_fit": null,
       "object_position": null,
       "order": null,
       "overflow": null,
       "padding": null,
       "right": null,
       "top": null,
       "visibility": null,
       "width": null
      }
     },
     "f10981858e83452583c38dfbb79d66c4": {
      "model_module": "@jupyter-widgets/controls",
      "model_module_version": "2.0.0",
      "model_name": "HTMLModel",
      "state": {
       "_dom_classes": [],
       "_model_module": "@jupyter-widgets/controls",
       "_model_module_version": "2.0.0",
       "_model_name": "HTMLModel",
       "_view_count": null,
       "_view_module": "@jupyter-widgets/controls",
       "_view_module_version": "2.0.0",
       "_view_name": "HTMLView",
       "description": "",
       "description_allow_html": false,
       "layout": "IPY_MODEL_dc0aef27902d437b81bb890d6e525273",
       "placeholder": "​",
       "style": "IPY_MODEL_84ea92cd49b54985be211c19c540137f",
       "tabbable": null,
       "tooltip": null,
       "value": "100%"
      }
     },
     "f3abdf74fa784c449d5e5ae82c688e5e": {
      "model_module": "@jupyter-widgets/base",
      "model_module_version": "2.0.0",
      "model_name": "LayoutModel",
      "state": {
       "_model_module": "@jupyter-widgets/base",
       "_model_module_version": "2.0.0",
       "_model_name": "LayoutModel",
       "_view_count": null,
       "_view_module": "@jupyter-widgets/base",
       "_view_module_version": "2.0.0",
       "_view_name": "LayoutView",
       "align_content": null,
       "align_items": null,
       "align_self": null,
       "border_bottom": null,
       "border_left": null,
       "border_right": null,
       "border_top": null,
       "bottom": null,
       "display": null,
       "flex": null,
       "flex_flow": null,
       "grid_area": null,
       "grid_auto_columns": null,
       "grid_auto_flow": null,
       "grid_auto_rows": null,
       "grid_column": null,
       "grid_gap": null,
       "grid_row": null,
       "grid_template_areas": null,
       "grid_template_columns": null,
       "grid_template_rows": null,
       "height": null,
       "justify_content": null,
       "justify_items": null,
       "left": null,
       "margin": null,
       "max_height": null,
       "max_width": null,
       "min_height": null,
       "min_width": null,
       "object_fit": null,
       "object_position": null,
       "order": null,
       "overflow": null,
       "padding": null,
       "right": null,
       "top": null,
       "visibility": null,
       "width": null
      }
     },
     "ffd0a1138e1b45f6a2538fae6984b49e": {
      "model_module": "@jupyter-widgets/base",
      "model_module_version": "2.0.0",
      "model_name": "LayoutModel",
      "state": {
       "_model_module": "@jupyter-widgets/base",
       "_model_module_version": "2.0.0",
       "_model_name": "LayoutModel",
       "_view_count": null,
       "_view_module": "@jupyter-widgets/base",
       "_view_module_version": "2.0.0",
       "_view_name": "LayoutView",
       "align_content": null,
       "align_items": null,
       "align_self": null,
       "border_bottom": null,
       "border_left": null,
       "border_right": null,
       "border_top": null,
       "bottom": null,
       "display": null,
       "flex": null,
       "flex_flow": null,
       "grid_area": null,
       "grid_auto_columns": null,
       "grid_auto_flow": null,
       "grid_auto_rows": null,
       "grid_column": null,
       "grid_gap": null,
       "grid_row": null,
       "grid_template_areas": null,
       "grid_template_columns": null,
       "grid_template_rows": null,
       "height": null,
       "justify_content": null,
       "justify_items": null,
       "left": null,
       "margin": null,
       "max_height": null,
       "max_width": null,
       "min_height": null,
       "min_width": null,
       "object_fit": null,
       "object_position": null,
       "order": null,
       "overflow": null,
       "padding": null,
       "right": null,
       "top": null,
       "visibility": null,
       "width": null
      }
     }
    },
    "version_major": 2,
    "version_minor": 0
   }
  }
 },
 "nbformat": 4,
 "nbformat_minor": 5
}