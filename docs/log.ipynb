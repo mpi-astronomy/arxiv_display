{
 "cells": [
  {
   "cell_type": "markdown",
   "id": "92bcb855",
   "metadata": {
    "papermill": {
     "duration": 0.003699,
     "end_time": "2025-03-12T04:11:36.904026",
     "exception": false,
     "start_time": "2025-03-12T04:11:36.900327",
     "status": "completed"
    },
    "tags": []
   },
   "source": [
    "# MPIA Arxiv on Deck 2\n",
    "\n",
    "Contains the steps to produce the paper extractions."
   ]
  },
  {
   "cell_type": "code",
   "execution_count": 1,
   "id": "3a0d6e11",
   "metadata": {
    "execution": {
     "iopub.execute_input": "2025-03-12T04:11:36.911772Z",
     "iopub.status.busy": "2025-03-12T04:11:36.911184Z",
     "iopub.status.idle": "2025-03-12T04:11:37.252579Z",
     "shell.execute_reply": "2025-03-12T04:11:37.251854Z"
    },
    "papermill": {
     "duration": 0.346649,
     "end_time": "2025-03-12T04:11:37.254040",
     "exception": false,
     "start_time": "2025-03-12T04:11:36.907391",
     "status": "completed"
    },
    "tags": []
   },
   "outputs": [],
   "source": [
    "# Imports\n",
    "import os\n",
    "from IPython.display import Markdown, display\n",
    "from tqdm.notebook import tqdm\n",
    "import warnings\n",
    "from PIL import Image \n",
    "import re\n",
    "\n",
    "# requires arxiv_on_deck_2\n",
    "\n",
    "from arxiv_on_deck_2.arxiv2 import (get_new_papers, \n",
    "                                    get_paper_from_identifier,\n",
    "                                    retrieve_document_source, \n",
    "                                    get_markdown_badge)\n",
    "from arxiv_on_deck_2 import (latex,\n",
    "                             latex_bib,\n",
    "                             mpia,\n",
    "                             highlight_authors_in_list)\n",
    "\n",
    "# Sometimes images are really big\n",
    "Image.MAX_IMAGE_PIXELS = 1000000000 "
   ]
  },
  {
   "cell_type": "code",
   "execution_count": 2,
   "id": "22aa9d44",
   "metadata": {
    "execution": {
     "iopub.execute_input": "2025-03-12T04:11:37.261756Z",
     "iopub.status.busy": "2025-03-12T04:11:37.261163Z",
     "iopub.status.idle": "2025-03-12T04:11:37.269097Z",
     "shell.execute_reply": "2025-03-12T04:11:37.268530Z"
    },
    "papermill": {
     "duration": 0.012777,
     "end_time": "2025-03-12T04:11:37.270138",
     "exception": false,
     "start_time": "2025-03-12T04:11:37.257361",
     "status": "completed"
    },
    "tags": []
   },
   "outputs": [],
   "source": [
    "# Some useful definitions.\n",
    "\n",
    "class AffiliationWarning(UserWarning):\n",
    "    pass\n",
    "\n",
    "class AffiliationError(RuntimeError):\n",
    "    pass\n",
    "\n",
    "def validation(source: str):\n",
    "    \"\"\"Raises error paper during parsing of source file\n",
    "    \n",
    "    Allows checks before parsing TeX code.\n",
    "    \n",
    "    Raises AffiliationWarning\n",
    "    \"\"\"\n",
    "    check = mpia.affiliation_verifications(source, verbose=True)\n",
    "    if check is not True:\n",
    "        raise AffiliationError(\"mpia.affiliation_verifications: \" + check)\n",
    "\n",
    "        \n",
    "warnings.simplefilter('always', AffiliationWarning)\n",
    "\n",
    "\n",
    "def get_markdown_qrcode(paper_id: str):\n",
    "    \"\"\" Generate a qrcode to the arxiv page using qrserver.com\n",
    "    \n",
    "    :param paper: Arxiv paper\n",
    "    :returns: markdown text\n",
    "    \"\"\"\n",
    "    url = r\"https://api.qrserver.com/v1/create-qr-code/?size=100x100&data=\"\n",
    "    txt = f\"\"\"<img src={url}\"https://arxiv.org/abs/{paper_id}\">\"\"\"\n",
    "    txt = '<div id=\"qrcode\">' + txt + '</div>'\n",
    "    return txt\n",
    "\n",
    "\n",
    "def clean_non_western_encoded_characters_commands(text: str) -> str:\n",
    "    \"\"\" Remove non-western encoded characters from a string\n",
    "    List may need to grow.\n",
    "    \n",
    "    :param text: the text to clean\n",
    "    :return: the cleaned text\n",
    "    \"\"\"\n",
    "    text = re.sub(r\"(\\\\begin{CJK}{UTF8}{gbsn})(.*?)(\\\\end{CJK})\", r\"\\2\", text)\n",
    "    return text\n",
    "\n",
    "\n",
    "def get_initials(name: str) -> str:\n",
    "    \"\"\" Get the short name, e.g., A.-B. FamName\n",
    "    :param name: full name\n",
    "    :returns: initials\n",
    "    \"\"\"\n",
    "    initials = []\n",
    "    # account for non western names often in ()\n",
    "    if '(' in name:\n",
    "        name = clean_non_western_encoded_characters_commands(name)\n",
    "        suffix = re.findall(r\"\\((.*?)\\)\", name)[0]\n",
    "        name = name.replace(f\"({suffix})\", '')\n",
    "    else:\n",
    "        suffix = ''\n",
    "    split = name.split()\n",
    "    for token in split[:-1]:\n",
    "        if '-' in token:\n",
    "            current = '-'.join([k[0] + '.' for k in token.split('-')])\n",
    "        else:\n",
    "            current = token[0] + '.'\n",
    "        initials.append(current)\n",
    "    initials.append(split[-1].strip())\n",
    "    if suffix:\n",
    "        initials.append(f\"({suffix})\")\n",
    "    return ' '.join(initials)"
   ]
  },
  {
   "cell_type": "markdown",
   "id": "14bd6310",
   "metadata": {
    "papermill": {
     "duration": 0.002909,
     "end_time": "2025-03-12T04:11:37.276072",
     "exception": false,
     "start_time": "2025-03-12T04:11:37.273163",
     "status": "completed"
    },
    "tags": []
   },
   "source": [
    "## get list of arxiv paper candidates\n",
    "\n",
    "We use the MPIA mitarbeiter list webpage from mpia.de to get author names\n",
    "We then get all new papers from Arxiv and match authors"
   ]
  },
  {
   "cell_type": "code",
   "execution_count": 3,
   "id": "7ea813a8",
   "metadata": {
    "execution": {
     "iopub.execute_input": "2025-03-12T04:11:37.283189Z",
     "iopub.status.busy": "2025-03-12T04:11:37.282674Z",
     "iopub.status.idle": "2025-03-12T04:11:59.429252Z",
     "shell.execute_reply": "2025-03-12T04:11:59.428594Z"
    },
    "papermill": {
     "duration": 22.151438,
     "end_time": "2025-03-12T04:11:59.430476",
     "exception": false,
     "start_time": "2025-03-12T04:11:37.279038",
     "status": "completed"
    },
    "tags": []
   },
   "outputs": [],
   "source": [
    "# deal with the author list and edge cases of people that cannot be consistent on their name  \n",
    "\n",
    "def filter_non_scientists(name: str) -> bool:\n",
    "    \"\"\" Loose filter on expected authorships\n",
    "\n",
    "    removing IT, administration, technical staff\n",
    "    :param name: name\n",
    "    :returns: False if name is not a scientist\n",
    "    \"\"\"\n",
    "    remove_list = ['Licht', 'Binroth', 'Witzel', 'Jordan',\n",
    "                   'Zähringer', 'Scheerer', 'Hoffmann', 'Düe',\n",
    "                   'Hellmich', 'Enkler-Scharpegge', 'Witte-Nguy',\n",
    "                   'Dehen', 'Beckmann', 'Jager', 'Jäger'\n",
    "                  ]\n",
    "\n",
    "    for k in remove_list:\n",
    "        if k in name:\n",
    "            return False\n",
    "    return True\n",
    "\n",
    "def add_author_to_list(author_list: list) -> list:\n",
    "    \"\"\" Add author to list if not already in list\n",
    "    \n",
    "    :param author: author name\n",
    "    :param author_list: list of authors\n",
    "    :returns: updated list of authors\n",
    "    \"\"\"\n",
    "    add_list = ['T. Henning']\n",
    "\n",
    "    for author in add_list:\n",
    "        if author not in author_list:\n",
    "            author_list.append(author)\n",
    "    return author_list\n",
    "\n",
    "# get list from MPIA website\n",
    "# filter for non-scientists (mpia.get_mpia_mitarbeiter_list() does some filtering)\n",
    "mpia_authors = [k[1] for k in mpia.get_mpia_mitarbeiter_list() if filter_non_scientists(k[1])]\n",
    "# add some missing author because of inconsistencies in their MPIA name and author name on papers\n",
    "mpia_authors = add_author_to_list(mpia_authors)"
   ]
  },
  {
   "cell_type": "code",
   "execution_count": 4,
   "id": "2645e73a",
   "metadata": {
    "execution": {
     "iopub.execute_input": "2025-03-12T04:11:59.437833Z",
     "iopub.status.busy": "2025-03-12T04:11:59.437599Z",
     "iopub.status.idle": "2025-03-12T04:12:00.240768Z",
     "shell.execute_reply": "2025-03-12T04:12:00.240060Z"
    },
    "papermill": {
     "duration": 0.808283,
     "end_time": "2025-03-12T04:12:00.242150",
     "exception": false,
     "start_time": "2025-03-12T04:11:59.433867",
     "status": "completed"
    },
    "tags": []
   },
   "outputs": [
    {
     "name": "stdout",
     "output_type": "stream",
     "text": [
      "X. Zhang  ->  X. Zhang  |  ['X. Zhang']\n",
      "G. Guiglion  ->  G. Guiglion  |  ['G. Guiglion']\n",
      "R. v. Boekel  ->  R. v. Boekel  |  ['R. v. Boekel']\n",
      "T. Henning  ->  T. Henning  |  ['T. Henning']\n",
      "M. Scheuck  ->  M. Scheuck  |  ['M. Scheuck']\n",
      "J. Li  ->  J. Li  |  ['J. Li']\n",
      "Arxiv has 81 new papers today\n",
      "          4 with possible author matches\n"
     ]
    }
   ],
   "source": [
    "new_papers = get_new_papers()\n",
    "# add manual references\n",
    "add_paper_refs = []\n",
    "new_papers.extend([get_paper_from_identifier(k) for k in add_paper_refs])\n",
    "\n",
    "def robust_call(fn, value, *args, **kwargs):\n",
    "    try:\n",
    "        return fn(value, *args, **kwargs)\n",
    "    except Exception:\n",
    "        return value\n",
    "\n",
    "candidates = []\n",
    "for paperk in new_papers:\n",
    "    # Check author list with their initials\n",
    "    normed_author_list = [robust_call(mpia.get_initials, k) for k in paperk['authors']]\n",
    "    hl_authors = highlight_authors_in_list(normed_author_list, mpia_authors, verbose=True)\n",
    "    matches = [(hl, orig) for hl, orig in zip(hl_authors, paperk['authors']) if 'mark' in hl]\n",
    "    paperk['authors'] = hl_authors\n",
    "    if matches:\n",
    "        # only select paper if an author matched our list\n",
    "        candidates.append(paperk)\n",
    "print(\"\"\"Arxiv has {0:,d} new papers today\"\"\".format(len(new_papers)))        \n",
    "print(\"\"\"          {0:,d} with possible author matches\"\"\".format(len(candidates)))"
   ]
  },
  {
   "cell_type": "markdown",
   "id": "3543b34a",
   "metadata": {
    "papermill": {
     "duration": 0.003074,
     "end_time": "2025-03-12T04:12:00.248764",
     "exception": false,
     "start_time": "2025-03-12T04:12:00.245690",
     "status": "completed"
    },
    "tags": []
   },
   "source": [
    "# Parse sources and generate relevant outputs\n",
    "\n",
    "From the candidates, we do the following steps:\n",
    "* get their tarball from ArXiv (and extract data)\n",
    "* find the main .tex file: find one with \\documentclass{...} (sometimes it's non trivial)\n",
    "* Check affiliations with :func:`validation`, which uses :func:`mpia.affiliation_verifications`\n",
    "* If passing the affiliations: we parse the .tex source\n",
    "   * inject sub-documents into the main (flatten the main document)\n",
    "   * parse structure, extract information (title, abstract, authors, figures...)\n",
    "   * handles `\\graphicspath` if provided\n",
    "* Generate the .md document."
   ]
  },
  {
   "cell_type": "code",
   "execution_count": 5,
   "id": "9576b79e",
   "metadata": {
    "execution": {
     "iopub.execute_input": "2025-03-12T04:12:00.256010Z",
     "iopub.status.busy": "2025-03-12T04:12:00.255567Z",
     "iopub.status.idle": "2025-03-12T04:12:31.699351Z",
     "shell.execute_reply": "2025-03-12T04:12:31.698503Z"
    },
    "papermill": {
     "duration": 31.448719,
     "end_time": "2025-03-12T04:12:31.700557",
     "exception": false,
     "start_time": "2025-03-12T04:12:00.251838",
     "status": "completed"
    },
    "scrolled": false,
    "tags": []
   },
   "outputs": [
    {
     "data": {
      "application/vnd.jupyter.widget-view+json": {
       "model_id": "bb7837a13157491fb6663ee047e3d865",
       "version_major": 2,
       "version_minor": 0
      },
      "text/plain": [
       "  0%|          | 0/4 [00:00<?, ?it/s]"
      ]
     },
     "metadata": {},
     "output_type": "display_data"
    },
    {
     "name": "stdout",
     "output_type": "stream",
     "text": [
      "Retrieving document from  https://arxiv.org/e-print/2503.08033\n"
     ]
    },
    {
     "name": "stdout",
     "output_type": "stream",
     "text": [
      "extracting tarball to tmp_2503.08033..."
     ]
    },
    {
     "name": "stdout",
     "output_type": "stream",
     "text": [
      " done.\n",
      "  0: tmp_2503.08033/methods.tex, 49 lines\n",
      "  1: tmp_2503.08033/supplementary.tex, 58 lines\n",
      "  3: tmp_2503.08033/main.tex, 759 lines\n",
      "Retrieving document from  https://arxiv.org/e-print/2503.08196\n"
     ]
    },
    {
     "name": "stderr",
     "output_type": "stream",
     "text": [
      "/opt/hostedtoolcache/Python/3.9.21/x64/lib/python3.9/site-packages/IPython/core/interactiveshell.py:3550: LatexWarning: Multiple tex files.\n",
      "\n",
      "  exec(code_obj, self.user_global_ns, self.user_ns)\n",
      "/opt/hostedtoolcache/Python/3.9.21/x64/lib/python3.9/site-packages/IPython/core/interactiveshell.py:3550: LatexWarning: Found 3 candidates with documentclass definition.\n",
      "  exec(code_obj, self.user_global_ns, self.user_ns)\n",
      "/opt/hostedtoolcache/Python/3.9.21/x64/lib/python3.9/site-packages/IPython/core/interactiveshell.py:3550: LatexWarning: Assuming tmp_2503.08033/main.tex as main document.\n",
      "  exec(code_obj, self.user_global_ns, self.user_ns)\n",
      "/opt/hostedtoolcache/Python/3.9.21/x64/lib/python3.9/site-packages/arxiv_on_deck_2/latex.py:414: LatexWarning: Latex injecting: 'raw_methods' from 'tmp_2503.08033/raw_methods.tex'\n",
      "  warnings.warn(LatexWarning(f\"Latex injecting: '{ext}' from '{subsource}'\"))\n",
      "/opt/hostedtoolcache/Python/3.9.21/x64/lib/python3.9/site-packages/arxiv_on_deck_2/latex.py:414: LatexWarning: Latex injecting: 'supplementary' from 'tmp_2503.08033/supplementary.tex'\n",
      "  warnings.warn(LatexWarning(f\"Latex injecting: '{ext}' from '{subsource}'\"))\n"
     ]
    },
    {
     "name": "stdout",
     "output_type": "stream",
     "text": [
      "extracting tarball to tmp_2503.08196... done.\n"
     ]
    },
    {
     "name": "stdout",
     "output_type": "stream",
     "text": [
      "Issues with the citations\n",
      "list index out of range\n",
      "Retrieving document from  https://arxiv.org/e-print/2503.08523\n"
     ]
    },
    {
     "name": "stdout",
     "output_type": "stream",
     "text": [
      "extracting tarball to tmp_2503.08523..."
     ]
    },
    {
     "name": "stdout",
     "output_type": "stream",
     "text": [
      " done.\n"
     ]
    },
    {
     "name": "stdout",
     "output_type": "stream",
     "text": [
      "R. v. Boekel  ->  R. v. Boekel  |  ['R. v. Boekel']\n",
      "T. Henning  ->  T. Henning  |  ['T. Henning']\n",
      "M. Scheuck  ->  M. Scheuck  |  ['M. Scheuck']\n"
     ]
    },
    {
     "name": "stdout",
     "output_type": "stream",
     "text": [
      "Found 21 bibliographic references in tmp_2503.08523/T_CrA_MATISSE_arXiv.bbl.\n",
      "Retrieving document from  https://arxiv.org/e-print/2503.08670\n"
     ]
    },
    {
     "name": "stdout",
     "output_type": "stream",
     "text": [
      "extracting tarball to tmp_2503.08670..."
     ]
    },
    {
     "name": "stdout",
     "output_type": "stream",
     "text": [
      " done.\n"
     ]
    }
   ],
   "source": [
    "documents = []\n",
    "failed = []\n",
    "for paper in tqdm(candidates):\n",
    "    # debug crap\n",
    "    paper['identifier'] = paper['identifier'].lower().replace('arxiv:', '').replace(r'\\n', '').strip()\n",
    "    paper_id = paper['identifier']\n",
    "    \n",
    "    folder = f'tmp_{paper_id}'\n",
    "\n",
    "    try:\n",
    "        if not os.path.isdir(folder):\n",
    "            folder = retrieve_document_source(f\"{paper_id}\", f'tmp_{paper_id}')\n",
    "        \n",
    "        try:\n",
    "            doc = latex.LatexDocument(folder, validation=validation)    \n",
    "        except AffiliationError as affilerror:\n",
    "            msg = f\"ArXiv:{paper_id:s} is not an MPIA paper... \" + str(affilerror)\n",
    "            failed.append((paper, \"affiliation error: \" + str(affilerror) ))\n",
    "            continue\n",
    "        \n",
    "        # Hack because sometimes author parsing does not work well\n",
    "        if (len(doc.authors) != len(paper['authors'])):\n",
    "            doc._authors = paper['authors']\n",
    "        else:\n",
    "            # highlight authors (FIXME: doc.highlight_authors)\n",
    "            # done on arxiv paper already\n",
    "            doc._authors = highlight_authors_in_list(\n",
    "                [get_initials(k) for k in doc.authors], \n",
    "                mpia_authors, verbose=True)\n",
    "        if (doc.abstract) in (None, ''):\n",
    "            doc._abstract = paper['abstract']\n",
    "            \n",
    "        doc.comment = (get_markdown_badge(paper_id) + \n",
    "                       \"<mark>Appeared on: \" + paper['date'] + \"</mark> - \")\n",
    "        if paper['comments']:\n",
    "            doc.comment += \" _\" + paper['comments'] + \"_\"\n",
    "        \n",
    "        full_md = doc.generate_markdown_text()\n",
    "        \n",
    "        full_md += get_markdown_qrcode(paper_id)\n",
    "        \n",
    "        # replace citations\n",
    "        try:\n",
    "            bibdata = latex_bib.LatexBib.from_doc(doc)\n",
    "            full_md = latex_bib.replace_citations(full_md, bibdata)\n",
    "        except Exception as e:\n",
    "            print(\"Issues with the citations\")\n",
    "            print(e)\n",
    "        \n",
    "        documents.append((paper_id, full_md))\n",
    "    except Exception as e:\n",
    "        warnings.warn(latex.LatexWarning(f\"{paper_id:s} did not run properly\\n\" +\n",
    "                                         str(e)\n",
    "                                        ))\n",
    "        failed.append((paper, \"latex error \" + str(e)))"
   ]
  },
  {
   "cell_type": "markdown",
   "id": "2505a25c",
   "metadata": {
    "papermill": {
     "duration": 0.003744,
     "end_time": "2025-03-12T04:12:31.708416",
     "exception": false,
     "start_time": "2025-03-12T04:12:31.704672",
     "status": "completed"
    },
    "tags": []
   },
   "source": [
    "### Export the logs\n",
    "\n",
    "Throughout, we also keep track of the logs per paper. see `logs-{today date}.md` "
   ]
  },
  {
   "cell_type": "code",
   "execution_count": 6,
   "id": "d733828a",
   "metadata": {
    "execution": {
     "iopub.execute_input": "2025-03-12T04:12:31.716965Z",
     "iopub.status.busy": "2025-03-12T04:12:31.716748Z",
     "iopub.status.idle": "2025-03-12T04:12:31.731235Z",
     "shell.execute_reply": "2025-03-12T04:12:31.730594Z"
    },
    "papermill": {
     "duration": 0.020075,
     "end_time": "2025-03-12T04:12:31.732279",
     "exception": false,
     "start_time": "2025-03-12T04:12:31.712204",
     "status": "completed"
    },
    "scrolled": false,
    "tags": []
   },
   "outputs": [
    {
     "data": {
      "text/markdown": [
       "## Successful papers"
      ],
      "text/plain": [
       "<IPython.core.display.Markdown object>"
      ]
     },
     "metadata": {},
     "output_type": "display_data"
    },
    {
     "data": {
      "text/markdown": [
       "\n",
       "|||\n",
       "|---:|:---|\n",
       "| [![arXiv](https://img.shields.io/badge/arXiv-2503.08196-b31b1b.svg)](https://arxiv.org/abs/2503.08196) | **Realising the potential of large spectroscopic surveys with machine-learning**  |\n",
       "|| <mark>G. Guiglion</mark> |\n",
       "|*Appeared on*| *2025-03-12*|\n",
       "|*Comments*| *To appear in the proceedings of IAU Symposium 395 (4 pages, 1 figure); IAU Symposium 395 Proceedings, 2025*|\n",
       "|**Abstract**|            Machine-learning is playing an increasing role in helping the astronomical community to face data analysis challenges, in particular in the field of Galactic Archaeology and large scale spectroscopic surveys. We present recent developments in the field of convolutional neural-networks (CNNs) for stellar abundances in the context of the Galactic spectroscopic surveys Gaia-ESO, and Gaia-RVS. Especially, by combining the full Gaia data product, we manage to characterize for the first time the [alpha/M] vs. [M/H] bimodality in the Galactic disc with Gaia-RVS spectra at low-S/N. This work is highly relevant for the next generation of large scale surveys such as MSE, 4MOST, and WST.         |"
      ],
      "text/plain": [
       "[2503.08196] Realising the potential of large spectroscopic surveys with machine-learning\n",
       "\t<mark>G. Guiglion</mark>"
      ]
     },
     "metadata": {},
     "output_type": "display_data"
    },
    {
     "data": {
      "text/markdown": [
       "\n",
       "|||\n",
       "|---:|:---|\n",
       "| [![arXiv](https://img.shields.io/badge/arXiv-2503.08523-b31b1b.svg)](https://arxiv.org/abs/2503.08523) | **T CrA has a companion: First direct detection of T CrA B with VLTI/MATISSE**  |\n",
       "|| J. Varga, et al. -- incl., <mark>R. v. Boekel</mark>, <mark>T. Henning</mark>, <mark>M. Scheuck</mark> |\n",
       "|*Appeared on*| *2025-03-12*|\n",
       "|*Comments*| *9 pages, 8 figures*|\n",
       "|**Abstract**|            T CrA is a Herbig Ae-type young star in a complex circumstellar environment; it includes a circumstellar disk, accretion streamers, jets, and outflows. It has long been suspected to be a binary. However, until now, there has been no direct detection of a companion. Here we present new VLTI/MATISSE L- and N-band observations of T CrA taken between 2023 May and 2024 August with the aim of testing the binary nature of the system. We modeled the data with a geometric model using the Python tool oimodeler. We detected a companion (T CrA B) with a projected separation of $\\Delta r = 153.2 \\pm 1.2$ mas ($\\approx 23$ au) toward the west direction at a position angle of $275.4 \\pm 0.1^\\circ$, in 2024 May-August. Our results support that the companion has a nearly edge-on orbit that is highly misaligned with respect to the circumprimary disk. Such a configuration could cause warping and tearing of the disk around the primary, which has been proposed by recent studies. In the L band the companion is extended, with a full width at half maximum (FWHM) size of $\\sim 1$ au, suggesting that the emission comes from a disk around the secondary star. The companion flux is 0.2-0.3 Jy in the L band, and 0.2-0.7 Jy in the N band, accounting for 4-20% of the total emission at those wavelengths. The SED of the companion is compatible with thermal radiation of warm dust (600-800 K).         |"
      ],
      "text/plain": [
       "[2503.08523] T CrA has a companion: First direct detection of T CrA B with VLTI/MATISSE\n",
       "\tJ. Varga, et al. -- incl., <mark>R. v. Boekel</mark>, <mark>T. Henning</mark>, <mark>M. Scheuck</mark>"
      ]
     },
     "metadata": {},
     "output_type": "display_data"
    },
    {
     "data": {
      "text/markdown": [
       "## Failed papers"
      ],
      "text/plain": [
       "<IPython.core.display.Markdown object>"
      ]
     },
     "metadata": {},
     "output_type": "display_data"
    },
    {
     "data": {
      "text/markdown": [
       "\n",
       "|||\n",
       "|---:|:---|\n",
       "| [![arXiv](https://img.shields.io/badge/arXiv-2503.08033-b31b1b.svg)](https://arxiv.org/abs/2503.08033) | **A radio transient with unusually slow periodic emission**  |\n",
       "|| N. Hurley-Walker, et al. -- incl., <mark>X. Zhang</mark> |\n",
       "|*Appeared on*| *2025-03-12*|\n",
       "|*Comments*| *4 main figures, 9 extended figures*|\n",
       "|**Abstract**|            The high-frequency radio sky is bursting with synchrotron transients from massive stellar explosions and accretion events, but the low-frequency radio sky has so far been quiet beyond the Galactic pulsar population and the long-term scintillation of AGN. The low-frequency band, however, is sensitive to exotic coherent and polarised radio emission processes such as electron cyclotron maser emission from flaring M-dwarfs [1], stellar magnetospheric plasma interactions with exoplanets [2], and a population of steep-spectrum pulsars [3], making Galactic plane searches a prospect for blind transient discovery. Here we report an analysis of archival low-frequency radio data that reveals a periodic, low-frequency radio transient. We find that the source pulses every 18.18 minutes, an unusual periodicity not previously observed. The emission is highly linearly polarised, bright, persists for 30--60 s on each occurrence, and is visible across a broad frequency range. At times the pulses comprise short ($<0.5$-s) duration bursts; at others, a smoother profile is observed. These profiles evolve on timescales of hours. By measuring the dispersion of the radio pulses with respect to frequency, we have localised the source to within our own Galaxy, and suggest that it could be an ultra-long period magnetar.         |\n",
       "|<p style=\"color:green\"> **ERROR** </p>| <p style=\"color:green\">affiliation error: mpia.affiliation_verifications: 'Heidelberg' keyword not found.</p> |"
      ],
      "text/plain": [
       "<IPython.core.display.Markdown object>"
      ]
     },
     "metadata": {},
     "output_type": "display_data"
    },
    {
     "data": {
      "text/markdown": [
       "\n",
       "|||\n",
       "|---:|:---|\n",
       "| [![arXiv](https://img.shields.io/badge/arXiv-2503.08670-b31b1b.svg)](https://arxiv.org/abs/2503.08670) | **In Search of the Potentially Hazardous Asteroids in the Taurid Resonant Swarm**  |\n",
       "|| <mark>J. Li</mark>, et al. |\n",
       "|*Appeared on*| *2025-03-12*|\n",
       "|*Comments*| *PSJ in press*|\n",
       "|**Abstract**|            The Taurid Complex is a large interplanetary system that contains comet 2P/Encke, several meteoroid streams, and possibly a number of near-Earth asteroids. The size and nature of the system has led to the speculation that it was formed through a large-scale cometary breakup. Numerical investigations have suggested that planetary dynamics can create a resonant region with a large number of objects concentrated in a small segment of the orbit, known as the Taurid swarm, which approaches the Earth in certain years and provides favorable conditions to study the Taurid Complex. Recent meteor observations confirmed the existence of the swarm for mm- to m-sized objects. Here we present a dedicated telescopic search for potentially hazardous asteroids and other macroscopic objects in the Taurid swarm using the Zwicky Transient Facility survey. We determine from our non-detection that there are no more than 9--14 $H\\leq24$ (equivalent to a diameter of $D\\gtrsim100$~m) objects in the swarm, suggesting that the Encke--Taurid progenitor was $\\sim10$~km in size. A progenitor of such a size is compatible with the prediction of state-of-the-art Solar System dynamical models, which expects $\\sim0.1$ $D>10$~km objects on Encke-like orbits at any given time.         |\n",
       "|<p style=\"color:green\"> **ERROR** </p>| <p style=\"color:green\">affiliation error: mpia.affiliation_verifications: 'Heidelberg' keyword not found.</p> |"
      ],
      "text/plain": [
       "<IPython.core.display.Markdown object>"
      ]
     },
     "metadata": {},
     "output_type": "display_data"
    }
   ],
   "source": [
    "import datetime\n",
    "today = str(datetime.date.today())\n",
    "logfile = f\"_build/html/logs/log-{today}.md\"\n",
    "\n",
    "\n",
    "with open(logfile, 'w') as logs:\n",
    "    # Success\n",
    "    logs.write(f'# Arxiv on Deck 2: Logs - {today}\\n\\n')\n",
    "    logs.write(\"\"\"* Arxiv had {0:,d} new papers\\n\"\"\".format(len(new_papers)))\n",
    "    logs.write(\"\"\"    * {0:,d} with possible author matches\\n\\n\"\"\".format(len(candidates)))\n",
    "    logs.write(\"## Sucessful papers\\n\\n\")\n",
    "    display(Markdown(\"## Successful papers\"))\n",
    "    success = [k[0] for k in documents]\n",
    "    for candid in candidates:\n",
    "        if candid['identifier'].split(':')[-1] in success:\n",
    "            display(candid)\n",
    "            logs.write(candid.generate_markdown_text() + '\\n\\n')\n",
    "\n",
    "    ## failed\n",
    "    logs.write(\"## Failed papers\\n\\n\")\n",
    "    display(Markdown(\"## Failed papers\"))\n",
    "    failed = sorted(failed, key=lambda x: x[1])\n",
    "    current_reason = \"\"\n",
    "    for paper, reason in failed:\n",
    "        if 'affiliation' in reason:\n",
    "            color = 'green'\n",
    "        else:\n",
    "            color = 'red'\n",
    "        data = Markdown(\n",
    "                paper.generate_markdown_text() + \n",
    "                f'\\n|<p style=\"color:{color:s}\"> **ERROR** </p>| <p style=\"color:{color:s}\">{reason:s}</p> |'\n",
    "               )\n",
    "        if reason != current_reason:\n",
    "            logs.write(f'### {reason:s} \\n\\n')\n",
    "            current_reason = reason\n",
    "        logs.write(data.data + '\\n\\n')\n",
    "        \n",
    "        # only display here the important errors (all in logs)\n",
    "        # if color in ('red',):\n",
    "        display(data)"
   ]
  },
  {
   "cell_type": "markdown",
   "id": "472d20ee",
   "metadata": {
    "papermill": {
     "duration": 0.004345,
     "end_time": "2025-03-12T04:12:31.741126",
     "exception": false,
     "start_time": "2025-03-12T04:12:31.736781",
     "status": "completed"
    },
    "tags": []
   },
   "source": [
    "## Export documents\n",
    "\n",
    "We now write the .md files and export relevant images"
   ]
  },
  {
   "cell_type": "code",
   "execution_count": 7,
   "id": "d426aed9",
   "metadata": {
    "execution": {
     "iopub.execute_input": "2025-03-12T04:12:31.750578Z",
     "iopub.status.busy": "2025-03-12T04:12:31.750392Z",
     "iopub.status.idle": "2025-03-12T04:12:31.757346Z",
     "shell.execute_reply": "2025-03-12T04:12:31.756800Z"
    },
    "papermill": {
     "duration": 0.012882,
     "end_time": "2025-03-12T04:12:31.758360",
     "exception": false,
     "start_time": "2025-03-12T04:12:31.745478",
     "status": "completed"
    },
    "tags": []
   },
   "outputs": [],
   "source": [
    "def export_markdown_summary(md: str, md_fname:str, directory: str):\n",
    "    \"\"\"Export MD document and associated relevant images\"\"\"\n",
    "    import os\n",
    "    import shutil\n",
    "    import re\n",
    "\n",
    "    if (os.path.exists(directory) and not os.path.isdir(directory)):\n",
    "        raise RuntimeError(f\"a non-directory file exists with name {directory:s}\")\n",
    "\n",
    "    if (not os.path.exists(directory)):\n",
    "        print(f\"creating directory {directory:s}\")\n",
    "        os.mkdir(directory)\n",
    "\n",
    "    fig_fnames = (re.compile(r'\\[Fig.*\\]\\((.*)\\)').findall(md) + \n",
    "                  re.compile(r'\\<img src=\"([^>\\s]*)\"[^>]*/>').findall(md))\n",
    "    print(\"found figures\", fig_fnames)\n",
    "    for fname in fig_fnames:\n",
    "        if 'http' in fname:\n",
    "            # No need to copy online figures\n",
    "            continue\n",
    "        if not os.path.exists(fname):\n",
    "            print(\"file not found\", fname)\n",
    "            continue\n",
    "        print(\"copying \", fname, \"to\", directory)\n",
    "        destdir = os.path.join(directory, os.path.dirname(fname))\n",
    "        destfname = os.path.join(destdir, os.path.basename(fname))\n",
    "        try:\n",
    "            os.makedirs(destdir)\n",
    "        except FileExistsError:\n",
    "            pass\n",
    "        shutil.copy(fname, destfname)\n",
    "    with open(os.path.join(directory, md_fname), 'w') as fout:\n",
    "        fout.write(md)\n",
    "    print(\"exported in \", os.path.join(directory, md_fname))\n",
    "    [print(\"    + \" + os.path.join(directory,fk)) for fk in fig_fnames]"
   ]
  },
  {
   "cell_type": "code",
   "execution_count": 8,
   "id": "014d04a4",
   "metadata": {
    "execution": {
     "iopub.execute_input": "2025-03-12T04:12:31.767808Z",
     "iopub.status.busy": "2025-03-12T04:12:31.767588Z",
     "iopub.status.idle": "2025-03-12T04:12:31.779340Z",
     "shell.execute_reply": "2025-03-12T04:12:31.778714Z"
    },
    "papermill": {
     "duration": 0.0176,
     "end_time": "2025-03-12T04:12:31.780372",
     "exception": false,
     "start_time": "2025-03-12T04:12:31.762772",
     "status": "completed"
    },
    "tags": []
   },
   "outputs": [
    {
     "name": "stdout",
     "output_type": "stream",
     "text": [
      "found figures ['tmp_2503.08196/./figs/queiroz_plot.png']\n",
      "copying  tmp_2503.08196/./figs/queiroz_plot.png to _build/html/\n",
      "exported in  _build/html/2503.08196.md\n",
      "    + _build/html/tmp_2503.08196/./figs/queiroz_plot.png\n",
      "found figures ['tmp_2503.08523/./figs/T_CrA_2023-05-10T10_14_59_U1U2U3U4_L_TARGET_NOCHOP_FINALCAL_INT.png', 'tmp_2503.08523/./figs/T_CrA_2024-05-14T07_29_41_A0G2J2J3_L_TARGET_CHOPPED_4BCD_FINALCAL_INT.png', 'tmp_2503.08523/./figs/T_CrA_2024-06-02T04_30_13_U1U2U3U4_L_TARGET_CHOPPED_4BCD_FINALCAL_INT.png', 'tmp_2503.08523/./figs/model_image_3epochs.png', 'tmp_2503.08523/./figs/fit_2023-05-10_N_band.png', 'tmp_2503.08523/./figs/fit_2024-05-14_L_band.png', 'tmp_2503.08523/./figs/fit_2024-06-02_N_band.png', 'tmp_2503.08523/./figs/fit_2024-07-01_L_band.png', 'tmp_2503.08523/./figs/fit_2024-08-10_L_band.png', 'tmp_2503.08523/./figs/fit_2024-08-12_L_band.png']\n",
      "copying  tmp_2503.08523/./figs/T_CrA_2023-05-10T10_14_59_U1U2U3U4_L_TARGET_NOCHOP_FINALCAL_INT.png to _build/html/\n",
      "copying  tmp_2503.08523/./figs/T_CrA_2024-05-14T07_29_41_A0G2J2J3_L_TARGET_CHOPPED_4BCD_FINALCAL_INT.png to _build/html/\n",
      "copying  tmp_2503.08523/./figs/T_CrA_2024-06-02T04_30_13_U1U2U3U4_L_TARGET_CHOPPED_4BCD_FINALCAL_INT.png to _build/html/\n",
      "copying  tmp_2503.08523/./figs/model_image_3epochs.png to _build/html/\n",
      "copying  tmp_2503.08523/./figs/fit_2023-05-10_N_band.png to _build/html/\n",
      "copying  tmp_2503.08523/./figs/fit_2024-05-14_L_band.png to _build/html/\n",
      "copying  tmp_2503.08523/./figs/fit_2024-06-02_N_band.png to _build/html/\n",
      "copying  tmp_2503.08523/./figs/fit_2024-07-01_L_band.png to _build/html/\n",
      "copying  tmp_2503.08523/./figs/fit_2024-08-10_L_band.png to _build/html/\n",
      "copying  tmp_2503.08523/./figs/fit_2024-08-12_L_band.png to _build/html/\n",
      "exported in  _build/html/2503.08523.md\n",
      "    + _build/html/tmp_2503.08523/./figs/T_CrA_2023-05-10T10_14_59_U1U2U3U4_L_TARGET_NOCHOP_FINALCAL_INT.png\n",
      "    + _build/html/tmp_2503.08523/./figs/T_CrA_2024-05-14T07_29_41_A0G2J2J3_L_TARGET_CHOPPED_4BCD_FINALCAL_INT.png\n",
      "    + _build/html/tmp_2503.08523/./figs/T_CrA_2024-06-02T04_30_13_U1U2U3U4_L_TARGET_CHOPPED_4BCD_FINALCAL_INT.png\n",
      "    + _build/html/tmp_2503.08523/./figs/model_image_3epochs.png\n",
      "    + _build/html/tmp_2503.08523/./figs/fit_2023-05-10_N_band.png\n",
      "    + _build/html/tmp_2503.08523/./figs/fit_2024-05-14_L_band.png\n",
      "    + _build/html/tmp_2503.08523/./figs/fit_2024-06-02_N_band.png\n",
      "    + _build/html/tmp_2503.08523/./figs/fit_2024-07-01_L_band.png\n",
      "    + _build/html/tmp_2503.08523/./figs/fit_2024-08-10_L_band.png\n",
      "    + _build/html/tmp_2503.08523/./figs/fit_2024-08-12_L_band.png\n"
     ]
    }
   ],
   "source": [
    "for paper_id, md in documents:\n",
    "    export_markdown_summary(md, f\"{paper_id:s}.md\", '_build/html/')"
   ]
  },
  {
   "cell_type": "markdown",
   "id": "f087a0a7",
   "metadata": {
    "papermill": {
     "duration": 0.004399,
     "end_time": "2025-03-12T04:12:31.789398",
     "exception": false,
     "start_time": "2025-03-12T04:12:31.784999",
     "status": "completed"
    },
    "tags": []
   },
   "source": [
    "## Display the papers\n",
    "\n",
    "Not necessary but allows for a quick check."
   ]
  },
  {
   "cell_type": "code",
   "execution_count": 9,
   "id": "fd25f625",
   "metadata": {
    "execution": {
     "iopub.execute_input": "2025-03-12T04:12:31.799348Z",
     "iopub.status.busy": "2025-03-12T04:12:31.798858Z",
     "iopub.status.idle": "2025-03-12T04:12:31.804773Z",
     "shell.execute_reply": "2025-03-12T04:12:31.804245Z"
    },
    "papermill": {
     "duration": 0.011921,
     "end_time": "2025-03-12T04:12:31.805753",
     "exception": false,
     "start_time": "2025-03-12T04:12:31.793832",
     "status": "completed"
    },
    "scrolled": false,
    "tags": []
   },
   "outputs": [
    {
     "data": {
      "text/markdown": [
       "<div class=\"macros\" style=\"visibility:hidden;\">\n",
       "$\\newcommand{\\ensuremath}{}$\n",
       "$\\newcommand{\\xspace}{}$\n",
       "$\\newcommand{\\object}[1]{\\texttt{#1}}$\n",
       "$\\newcommand{\\farcs}{{.}''}$\n",
       "$\\newcommand{\\farcm}{{.}'}$\n",
       "$\\newcommand{\\arcsec}{''}$\n",
       "$\\newcommand{\\arcmin}{'}$\n",
       "$\\newcommand{\\ion}[2]{#1#2}$\n",
       "$\\newcommand{\\textsc}[1]{\\textrm{#1}}$\n",
       "$\\newcommand{\\hl}[1]{\\textrm{#1}}$\n",
       "$\\newcommand{\\footnote}[1]{}$\n",
       "$\\newcommand{\\feh}{[Fe/H]}$\n",
       "$\\newcommand{\\zmax}{\\langle Z_{\\rm{max}} \\rangle}$\n",
       "$\\newcommand{\\eccentricity}{\\langle e \\rangle}$\n",
       "$\\newcommand{\\aj}{AJ}$\n",
       "$\\newcommand{\\araa}{ARA\\&A}$\n",
       "$\\newcommand{\\apj}{ApJ}$\n",
       "$\\newcommand{\\apjl}{ApJ}$\n",
       "$\\newcommand{\\apjs}{ApJS}$\n",
       "$\\newcommand{\\apss}{Ap\\&SS}$\n",
       "$\\newcommand{\\aap}{A\\&A}$\n",
       "$\\newcommand{\\aapr}{A\\&A~Rev.}$\n",
       "$\\newcommand{\\aaps}{A\\&AS}$\n",
       "$\\newcommand{\\mnras}{MNRAS}$\n",
       "$\\newcommand{\\pasp}{PASP}$\n",
       "$\\newcommand{\\pasj}{PASJ}$\n",
       "$\\newcommand{\\qjras}{QJRAS}$\n",
       "$\\newcommand{\\nat}{Nature}$\n",
       "$\\newcommand{\\aplett}{Astrophys.~Lett.}$\n",
       "$\\newcommand{\\aas}{AAS}$\n",
       "$\\newcommand{\\eprint}{e--print}$</div>\n",
       "\n",
       "\n",
       "\n",
       "<div id=\"title\">\n",
       "\n",
       "# Realising the potential of largespectroscopic surveys with machine-learning\n",
       "\n",
       "</div>\n",
       "<div id=\"comments\">\n",
       "\n",
       "[![arXiv](https://img.shields.io/badge/arXiv-2503.08196-b31b1b.svg)](https://arxiv.org/abs/2503.08196)<mark>Appeared on: 2025-03-12</mark> -  _To appear in the proceedings of IAU Symposium 395 (4 pages, 1 figure); IAU Symposium 395 Proceedings, 2025_\n",
       "\n",
       "</div>\n",
       "<div id=\"authors\">\n",
       "\n",
       "<mark>G. Guiglion</mark>\n",
       "\n",
       "</div>\n",
       "<div id=\"abstract\">\n",
       "\n",
       "**Abstract:** Machine-learning is playing an increasing role in helping the astronomical community to face data analysis challenges, in particular in the field of Galactic Archaeology and large scale spectroscopic surveys. We present recent developments in the field of convolutional neural-networks (CNNs) for stellar abundances in the context of the Galactic spectroscopic surveys $*Gaia*$ -ESO, and $*Gaia*$ -RVS. Especially, by combining the full $*Gaia*$ data product, we manage to characterize for the first time the [ $\\alpha$ /M ] vs. [ M/H ] bimodality in the Galactic disc with $*Gaia*$ -RVS spectra at low-S/N. This work is highly relevant for the next generation of large scale surveys such as MSE, 4MOST, and WST.\n",
       "\n",
       "</div>\n",
       "\n",
       "<div id=\"div_fig1\">\n",
       "\n",
       "<img src=\"tmp_2503.08196/./figs/queiroz_plot.png\" alt=\"Fig1\" width=\"100%\"/>\n",
       "\n",
       "**Figure 1. -** Two-dimensional histograms and contours of [$\\alpha$/M] vs. [M/H] in 53 200 giants of the *Gaia*-RVS observed sample from \\citet{Guiglion2024} with 15$<$S/N$<$25 and log(g)$<$2.2 within the training set limits. Stars are plotted in kiloparsec bins of galactocentric radius (R) and height above the Galactic plane (Z). (*fig:li*)\n",
       "\n",
       "</div><div id=\"qrcode\"><img src=https://api.qrserver.com/v1/create-qr-code/?size=100x100&data=\"https://arxiv.org/abs/2503.08196\"></div>"
      ],
      "text/plain": [
       "<IPython.core.display.Markdown object>"
      ]
     },
     "metadata": {},
     "output_type": "display_data"
    },
    {
     "data": {
      "text/markdown": [
       "<div class=\"macros\" style=\"visibility:hidden;\">\n",
       "$\\newcommand{\\ensuremath}{}$\n",
       "$\\newcommand{\\xspace}{}$\n",
       "$\\newcommand{\\object}[1]{\\texttt{#1}}$\n",
       "$\\newcommand{\\farcs}{{.}''}$\n",
       "$\\newcommand{\\farcm}{{.}'}$\n",
       "$\\newcommand{\\arcsec}{''}$\n",
       "$\\newcommand{\\arcmin}{'}$\n",
       "$\\newcommand{\\ion}[2]{#1#2}$\n",
       "$\\newcommand{\\textsc}[1]{\\textrm{#1}}$\n",
       "$\\newcommand{\\hl}[1]{\\textrm{#1}}$\n",
       "$\\newcommand{\\footnote}[1]{}$</div>\n",
       "\n",
       "\n",
       "\n",
       "<div id=\"title\">\n",
       "\n",
       "# T CrA has a companion$\\thanks{Based on observations collected at the European Southern Observatory under ESO programmes 111.253T.001, 113.26PG.001, 113.26PG.006, and 113.26PG.008.}$: First direct detection of T CrA B with VLTI/MATISSE\n",
       "\n",
       "</div>\n",
       "<div id=\"comments\">\n",
       "\n",
       "[![arXiv](https://img.shields.io/badge/arXiv-2503.08523-b31b1b.svg)](https://arxiv.org/abs/2503.08523)<mark>Appeared on: 2025-03-12</mark> -  _9 pages, 8 figures_\n",
       "\n",
       "</div>\n",
       "<div id=\"authors\">\n",
       "\n",
       "J. Varga, et al. -- incl., <mark>R. v. Boekel</mark>, <mark>T. Henning</mark>, <mark>M. Scheuck</mark>\n",
       "\n",
       "</div>\n",
       "<div id=\"abstract\">\n",
       "\n",
       "**Abstract:** T CrA is a Herbig Ae-type young star in a complex circumstellar environment; it includes a circumstellar disk, accretion streamers, jets, and outflows. It has long been suspected to be a binary. However, until now, there has been no direct detection of a companion. Here we present new VLTI/MATISSE $L$ - and $N$ -band observations of T CrA taken between 2023 May and 2024 August with the aim of testing the binary nature of the system. We modeled the data with a geometric model using the Python tool \\texttt{oimodeler} .We detected a companion (T CrA B) with a projected separation of $\\Delta r = 153.2 \\pm 1.2$ mas ( $\\approx23$ au) toward the  west direction at a position angle of $275.4 \\pm 0.1◦$ , in 2024 May--August.Our results support that the companion has a nearly edge-on orbit that is highly misaligned with respect to the circumprimary disk. Such a configuration could cause warping and tearing of the disk around the primary, which has been proposed by recent studies. In the $L$ band the companion is extended, with a full width at half maximum (FWHM) size of $\\sim1$ au, suggesting that the emission comes from a disk around the secondary star. The companion flux is $0.2$ -- $0.3$ Jy in the $L$ band, and $0.2$ -- $0.7$ Jy in the $N$ band, accounting for $4$ -- $20\\%$ of the total emission at those wavelengths. The SED of the companion is compatible with thermal radiation of warm dust ( $600$ -- $800$ K).\n",
       "\n",
       "</div>\n",
       "\n",
       "<div id=\"div_fig1\">\n",
       "\n",
       "<img src=\"tmp_2503.08523/./figs/T_CrA_2023-05-10T10_14_59_U1U2U3U4_L_TARGET_NOCHOP_FINALCAL_INT.png\" alt=\"Fig4.1\" width=\"33%\"/><img src=\"tmp_2503.08523/./figs/T_CrA_2024-05-14T07_29_41_A0G2J2J3_L_TARGET_CHOPPED_4BCD_FINALCAL_INT.png\" alt=\"Fig4.2\" width=\"33%\"/><img src=\"tmp_2503.08523/./figs/T_CrA_2024-06-02T04_30_13_U1U2U3U4_L_TARGET_CHOPPED_4BCD_FINALCAL_INT.png\" alt=\"Fig4.3\" width=\"33%\"/>\n",
       "\n",
       "**Figure 4. -** Calibrated MATISSE $L$- and $LM$-band data sets with pipeline produced uncertainties. First column: Correlated flux as a function of the spatial frequency. Second column: Closure phase as a function of the spatial frequency corresponding to the longest baselines of the triangles. Third column: Single-dish flux as a function of the wavelength. Fourth column: $uv$ coverage of the observations. The correlated flux and the closure phase values are the average over the four non-chopped exposures of each observation, while the single-dish flux values are the average over the eight chopped exposures. The 2023 May 10 and 2024 June 2 data are UT observations, the rest are AT observations.  (*fig:data_L*)\n",
       "\n",
       "</div>\n",
       "<div id=\"div_fig2\">\n",
       "\n",
       "<img src=\"tmp_2503.08523/./figs/model_image_3epochs.png\" alt=\"Fig1\" width=\"100%\"/>\n",
       "\n",
       "**Figure 1. -** Best-fit model image corresponding to the fit to the three complete $L$-band data sets. The companion is clearly visible at $153$ mas separation toward the west direction. The J2000 coordinate of the central source is $\\alpha = 19^\\mathrm{h}01^\\mathrm{m}58.79^\\mathrm{s}$, $\\delta = -36◦57$\\arcmin$50.34$\\arcsec$$. (*fig:model_img*)\n",
       "\n",
       "</div>\n",
       "<div id=\"div_fig3\">\n",
       "\n",
       "<img src=\"tmp_2503.08523/./figs/fit_2023-05-10_N_band.png\" alt=\"Fig9.1\" width=\"16%\"/><img src=\"tmp_2503.08523/./figs/fit_2024-05-14_L_band.png\" alt=\"Fig9.2\" width=\"16%\"/><img src=\"tmp_2503.08523/./figs/fit_2024-06-02_N_band.png\" alt=\"Fig9.3\" width=\"16%\"/><img src=\"tmp_2503.08523/./figs/fit_2024-07-01_L_band.png\" alt=\"Fig9.4\" width=\"16%\"/><img src=\"tmp_2503.08523/./figs/fit_2024-08-10_L_band.png\" alt=\"Fig9.5\" width=\"16%\"/><img src=\"tmp_2503.08523/./figs/fit_2024-08-12_L_band.png\" alt=\"Fig9.6\" width=\"16%\"/>\n",
       "\n",
       "**Figure 9. -** Fits to the individual exposures in the second stage of our modeling. Each large three by four panel corresponds to a single epoch observation. A column in a panel shows the fits to a particular exposure, with the correlated flux on the top, closure phase in the middle, and single-dish flux at the bottom. The data are shown as solid lines, and the model as dashed lines. Correction factors are indicated in the legend of the correlated flux plots, for each baseline. The 2024 Aug 10 data set is incomplete, and thus only the closure phases were fitted. (*fig:fit_CF_CP*)\n",
       "\n",
       "</div><div id=\"qrcode\"><img src=https://api.qrserver.com/v1/create-qr-code/?size=100x100&data=\"https://arxiv.org/abs/2503.08523\"></div>"
      ],
      "text/plain": [
       "<IPython.core.display.Markdown object>"
      ]
     },
     "metadata": {},
     "output_type": "display_data"
    }
   ],
   "source": [
    "[display(Markdown(k[1])) for k in documents];"
   ]
  },
  {
   "cell_type": "markdown",
   "id": "873873a4",
   "metadata": {
    "papermill": {
     "duration": 0.004849,
     "end_time": "2025-03-12T04:12:31.815637",
     "exception": false,
     "start_time": "2025-03-12T04:12:31.810788",
     "status": "completed"
    },
    "tags": []
   },
   "source": [
    "# Create HTML index"
   ]
  },
  {
   "cell_type": "code",
   "execution_count": 10,
   "id": "cf665672",
   "metadata": {
    "execution": {
     "iopub.execute_input": "2025-03-12T04:12:31.826145Z",
     "iopub.status.busy": "2025-03-12T04:12:31.825757Z",
     "iopub.status.idle": "2025-03-12T04:12:31.835047Z",
     "shell.execute_reply": "2025-03-12T04:12:31.834384Z"
    },
    "papermill": {
     "duration": 0.015657,
     "end_time": "2025-03-12T04:12:31.836059",
     "exception": false,
     "start_time": "2025-03-12T04:12:31.820402",
     "status": "completed"
    },
    "tags": []
   },
   "outputs": [
    {
     "name": "stdout",
     "output_type": "stream",
     "text": [
      "361  publications files modified in the last 7 days.\n"
     ]
    }
   ],
   "source": [
    "from datetime import datetime, timedelta, timezone\n",
    "from glob import glob\n",
    "import os\n",
    "\n",
    "files = glob('_build/html/*.md')\n",
    "days = 7\n",
    "now = datetime.today()\n",
    "res = []\n",
    "for fk in files:\n",
    "    stat_result = os.stat(fk).st_ctime\n",
    "    modified = datetime.fromtimestamp(stat_result, tz=timezone.utc).replace(tzinfo=None)\n",
    "    delta = now.today() - modified\n",
    "    if delta <= timedelta(days=days):\n",
    "        res.append((delta.seconds, fk))\n",
    "res = [k[1] for k in reversed(sorted(res, key=lambda x:x[1]))]\n",
    "npub = len(res)\n",
    "print(len(res), f\" publications files modified in the last {days:d} days.\")\n",
    "# [ print('\\t', k) for k in res ];"
   ]
  },
  {
   "cell_type": "code",
   "execution_count": 11,
   "id": "015de740",
   "metadata": {
    "execution": {
     "iopub.execute_input": "2025-03-12T04:12:31.847161Z",
     "iopub.status.busy": "2025-03-12T04:12:31.846791Z",
     "iopub.status.idle": "2025-03-12T04:12:31.866175Z",
     "shell.execute_reply": "2025-03-12T04:12:31.865548Z"
    },
    "papermill": {
     "duration": 0.025984,
     "end_time": "2025-03-12T04:12:31.867178",
     "exception": false,
     "start_time": "2025-03-12T04:12:31.841194",
     "status": "completed"
    },
    "tags": []
   },
   "outputs": [
    {
     "name": "stdout",
     "output_type": "stream",
     "text": [
      "17  publications in the last 7 days.\n"
     ]
    }
   ],
   "source": [
    "import datetime\n",
    "from glob import glob\n",
    "\n",
    "def get_last_n_days(lst, days=1):\n",
    "    \"\"\" Get the documents from the last n days \"\"\"\n",
    "    sorted_lst = sorted(lst, key=lambda x: x[1], reverse=True)\n",
    "    for fname, date in sorted_lst:\n",
    "        if date >= str(datetime.date.today() - datetime.timedelta(days=days)):\n",
    "            yield fname\n",
    "\n",
    "def extract_appearance_dates(lst_file):\n",
    "    dates = []\n",
    "\n",
    "    def get_date(line):\n",
    "        return line\\\n",
    "            .split('Appeared on:')[-1]\\\n",
    "            .split('</mark>')[0].strip()\n",
    "\n",
    "    for fname in lst:\n",
    "        with open(fname, 'r') as f:\n",
    "            found_date = False\n",
    "            for line in f:\n",
    "                if not found_date:\n",
    "                    if \"Appeared on\" in line:\n",
    "                        found_date = True\n",
    "                        dates.append((fname, get_date(line)))\n",
    "                else:\n",
    "                    break\n",
    "    return dates\n",
    "\n",
    "from glob import glob\n",
    "lst = glob('_build/html/*md')\n",
    "days = 7\n",
    "dates = extract_appearance_dates(lst)\n",
    "res = list(get_last_n_days(dates, days))\n",
    "npub = len(res)\n",
    "print(len(res), f\" publications in the last {days:d} days.\")"
   ]
  },
  {
   "cell_type": "code",
   "execution_count": 12,
   "id": "52ca0208",
   "metadata": {
    "execution": {
     "iopub.execute_input": "2025-03-12T04:12:31.878227Z",
     "iopub.status.busy": "2025-03-12T04:12:31.877706Z",
     "iopub.status.idle": "2025-03-12T04:12:31.882778Z",
     "shell.execute_reply": "2025-03-12T04:12:31.882131Z"
    },
    "papermill": {
     "duration": 0.011674,
     "end_time": "2025-03-12T04:12:31.883793",
     "exception": false,
     "start_time": "2025-03-12T04:12:31.872119",
     "status": "completed"
    },
    "scrolled": false,
    "tags": []
   },
   "outputs": [],
   "source": [
    "def create_carousel(npub=4):\n",
    "    \"\"\" Generate the HTML code for a carousel with `npub` slides \"\"\"\n",
    "    carousel = [\"\"\"  <div class=\"carousel\" \"\"\",\n",
    "                \"\"\"       data-flickity='{ \"autoPlay\": 10000, \"adaptiveHeight\": true, \"resize\": true, \"wrapAround\": true, \"pauseAutoPlayOnHover\": true, \"groupCells\": 1 }' id=\"asyncTypeset\">\"\"\"\n",
    "                ]\n",
    "    \n",
    "    item_str = \"\"\"    <div class=\"carousel-cell\"> <div id=\"slide{k}\" class=\"md_view\">Content {k}</div> </div>\"\"\"\n",
    "    for k in range(1, npub + 1):\n",
    "        carousel.append(item_str.format(k=k))\n",
    "    carousel.append(\"  </div>\")\n",
    "    return '\\n'.join(carousel)\n",
    "\n",
    "def create_grid(npub=4):\n",
    "    \"\"\" Generate the HTML code for a flat grid with `npub` slides \"\"\"\n",
    "    grid = [\"\"\"  <div class=\"grid\"> \"\"\",\n",
    "                ]\n",
    "    \n",
    "    item_str = \"\"\"    <div class=\"grid-item\"> <div id=\"slide{k}\" class=\"md_view\">Content {k}</div> </div>\"\"\"\n",
    "    for k in range(1, npub + 1):\n",
    "        grid.append(item_str.format(k=k))\n",
    "    grid.append(\"  </div>\")\n",
    "    return '\\n'.join(grid)"
   ]
  },
  {
   "cell_type": "code",
   "execution_count": 13,
   "id": "a6eac5b6",
   "metadata": {
    "execution": {
     "iopub.execute_input": "2025-03-12T04:12:31.894656Z",
     "iopub.status.busy": "2025-03-12T04:12:31.894435Z",
     "iopub.status.idle": "2025-03-12T04:12:31.899487Z",
     "shell.execute_reply": "2025-03-12T04:12:31.898976Z"
    },
    "papermill": {
     "duration": 0.011569,
     "end_time": "2025-03-12T04:12:31.900508",
     "exception": false,
     "start_time": "2025-03-12T04:12:31.888939",
     "status": "completed"
    },
    "scrolled": false,
    "tags": []
   },
   "outputs": [],
   "source": [
    "carousel = create_carousel(npub)\n",
    "docs = ', '.join(['\"{0:s}\"'.format(k.split('/')[-1]) for k in res])\n",
    "slides = ', '.join([f'\"slide{k}\"' for k in range(1, npub + 1)])\n",
    "\n",
    "with open(\"daily_template.html\", \"r\") as tpl:\n",
    "    page = tpl.read()\n",
    "    page = page.replace(\"{%-- carousel:s --%}\", carousel)\\\n",
    "               .replace(\"{%-- suptitle:s --%}\",  \"7-day archives\" )\\\n",
    "               .replace(\"{%-- docs:s --%}\", docs)\\\n",
    "               .replace(\"{%-- slides:s --%}\", slides)\n",
    "    \n",
    "with open(\"_build/html/index_7days.html\", 'w') as fout:\n",
    "    fout.write(page)"
   ]
  },
  {
   "cell_type": "code",
   "execution_count": 14,
   "id": "adc1a1ec",
   "metadata": {
    "execution": {
     "iopub.execute_input": "2025-03-12T04:12:31.911320Z",
     "iopub.status.busy": "2025-03-12T04:12:31.911127Z",
     "iopub.status.idle": "2025-03-12T04:12:31.917932Z",
     "shell.execute_reply": "2025-03-12T04:12:31.917269Z"
    },
    "papermill": {
     "duration": 0.013352,
     "end_time": "2025-03-12T04:12:31.918918",
     "exception": false,
     "start_time": "2025-03-12T04:12:31.905566",
     "status": "completed"
    },
    "tags": []
   },
   "outputs": [
    {
     "name": "stdout",
     "output_type": "stream",
     "text": [
      "5  publications in the last day.\n"
     ]
    }
   ],
   "source": [
    "# redo for today\n",
    "days = 1\n",
    "res = list(get_last_n_days(dates, days))\n",
    "npub = len(res)\n",
    "print(len(res), f\" publications in the last day.\")\n",
    "\n",
    "carousel = create_carousel(npub)\n",
    "docs = ', '.join(['\"{0:s}\"'.format(k.split('/')[-1]) for k in res])\n",
    "slides = ', '.join([f'\"slide{k}\"' for k in range(1, npub + 1)])\n",
    "\n",
    "with open(\"daily_template.html\", \"r\") as tpl:\n",
    "    page = tpl.read()\n",
    "    page = page.replace(\"{%-- carousel:s --%}\", carousel)\\\n",
    "               .replace(\"{%-- suptitle:s --%}\",  \"Daily\" )\\\n",
    "               .replace(\"{%-- docs:s --%}\", docs)\\\n",
    "               .replace(\"{%-- slides:s --%}\", slides)\n",
    "    \n",
    "# print(carousel, docs, slides)\n",
    "# print(page)\n",
    "with open(\"_build/html/index_daily.html\", 'w') as fout:\n",
    "    fout.write(page)"
   ]
  },
  {
   "cell_type": "code",
   "execution_count": 15,
   "id": "00eece82",
   "metadata": {
    "execution": {
     "iopub.execute_input": "2025-03-12T04:12:31.930439Z",
     "iopub.status.busy": "2025-03-12T04:12:31.930035Z",
     "iopub.status.idle": "2025-03-12T04:12:31.936585Z",
     "shell.execute_reply": "2025-03-12T04:12:31.936011Z"
    },
    "papermill": {
     "duration": 0.013239,
     "end_time": "2025-03-12T04:12:31.937553",
     "exception": false,
     "start_time": "2025-03-12T04:12:31.924314",
     "status": "completed"
    },
    "scrolled": false,
    "tags": []
   },
   "outputs": [
    {
     "name": "stdout",
     "output_type": "stream",
     "text": [
      "6  6 publications selected.\n"
     ]
    }
   ],
   "source": [
    "# Create the flat grid of the last N papers (fixed number regardless of dates)\n",
    "from itertools import islice \n",
    "\n",
    "npub = 6\n",
    "res = [k[0] for k in (islice(reversed(sorted(dates, key=lambda x: x[1])), 6))]\n",
    "print(len(res), f\" {npub} publications selected.\")\n",
    "\n",
    "grid = create_grid(npub)\n",
    "docs = ', '.join(['\"{0:s}\"'.format(k.split('/')[-1]) for k in res])\n",
    "slides = ', '.join([f'\"slide{k}\"' for k in range(1, npub + 1)])\n",
    "\n",
    "with open(\"grid_template.html\", \"r\") as tpl:\n",
    "    page = tpl.read()\n",
    "    page = page.replace(\"{%-- grid-content:s --%}\", grid)\\\n",
    "               .replace(\"{%-- suptitle:s --%}\",  f\"Last {npub:,d} papers\" )\\\n",
    "               .replace(\"{%-- docs:s --%}\", docs)\\\n",
    "               .replace(\"{%-- slides:s --%}\", slides)\n",
    "    \n",
    "# print(grid, docs, slides)\n",
    "# print(page)\n",
    "with open(\"_build/html/index_npub_grid.html\", 'w') as fout:\n",
    "    fout.write(page)"
   ]
  }
 ],
 "metadata": {
  "kernelspec": {
   "display_name": "Python 3 (ipykernel)",
   "language": "python",
   "name": "python3"
  },
  "language_info": {
   "codemirror_mode": {
    "name": "ipython",
    "version": 3
   },
   "file_extension": ".py",
   "mimetype": "text/x-python",
   "name": "python",
   "nbconvert_exporter": "python",
   "pygments_lexer": "ipython3",
   "version": "3.9.21"
  },
  "papermill": {
   "default_parameters": {},
   "duration": 56.113447,
   "end_time": "2025-03-12T04:12:32.158113",
   "environment_variables": {},
   "exception": null,
   "input_path": "MPIA daily digest.ipynb",
   "output_path": "log.ipynb",
   "parameters": {},
   "start_time": "2025-03-12T04:11:36.044666",
   "version": "2.6.0"
  },
  "vscode": {
   "interpreter": {
    "hash": "aee8b7b246df8f9039afb4144a1f6fd8d2ca17a180786b69acc140d282b71a49"
   }
  },
  "widgets": {
   "application/vnd.jupyter.widget-state+json": {
    "state": {
     "01a48319866f4b57874069f1f38d6a94": {
      "model_module": "@jupyter-widgets/controls",
      "model_module_version": "2.0.0",
      "model_name": "HTMLModel",
      "state": {
       "_dom_classes": [],
       "_model_module": "@jupyter-widgets/controls",
       "_model_module_version": "2.0.0",
       "_model_name": "HTMLModel",
       "_view_count": null,
       "_view_module": "@jupyter-widgets/controls",
       "_view_module_version": "2.0.0",
       "_view_name": "HTMLView",
       "description": "",
       "description_allow_html": false,
       "layout": "IPY_MODEL_ab0190fecad24c69a3ba26bed7eee3cf",
       "placeholder": "​",
       "style": "IPY_MODEL_4bf4c0ecc68d4d8c8fe94f3d3429c5e6",
       "tabbable": null,
       "tooltip": null,
       "value": "100%"
      }
     },
     "1e15f49d77d9427394415e7ec289c941": {
      "model_module": "@jupyter-widgets/controls",
      "model_module_version": "2.0.0",
      "model_name": "HTMLModel",
      "state": {
       "_dom_classes": [],
       "_model_module": "@jupyter-widgets/controls",
       "_model_module_version": "2.0.0",
       "_model_name": "HTMLModel",
       "_view_count": null,
       "_view_module": "@jupyter-widgets/controls",
       "_view_module_version": "2.0.0",
       "_view_name": "HTMLView",
       "description": "",
       "description_allow_html": false,
       "layout": "IPY_MODEL_2d3701e6085144328024ff6c47602637",
       "placeholder": "​",
       "style": "IPY_MODEL_69f57f8b2cc94a5dbf451965b57061e1",
       "tabbable": null,
       "tooltip": null,
       "value": " 4/4 [00:31&lt;00:00,  6.64s/it]"
      }
     },
     "2d3701e6085144328024ff6c47602637": {
      "model_module": "@jupyter-widgets/base",
      "model_module_version": "2.0.0",
      "model_name": "LayoutModel",
      "state": {
       "_model_module": "@jupyter-widgets/base",
       "_model_module_version": "2.0.0",
       "_model_name": "LayoutModel",
       "_view_count": null,
       "_view_module": "@jupyter-widgets/base",
       "_view_module_version": "2.0.0",
       "_view_name": "LayoutView",
       "align_content": null,
       "align_items": null,
       "align_self": null,
       "border_bottom": null,
       "border_left": null,
       "border_right": null,
       "border_top": null,
       "bottom": null,
       "display": null,
       "flex": null,
       "flex_flow": null,
       "grid_area": null,
       "grid_auto_columns": null,
       "grid_auto_flow": null,
       "grid_auto_rows": null,
       "grid_column": null,
       "grid_gap": null,
       "grid_row": null,
       "grid_template_areas": null,
       "grid_template_columns": null,
       "grid_template_rows": null,
       "height": null,
       "justify_content": null,
       "justify_items": null,
       "left": null,
       "margin": null,
       "max_height": null,
       "max_width": null,
       "min_height": null,
       "min_width": null,
       "object_fit": null,
       "object_position": null,
       "order": null,
       "overflow": null,
       "padding": null,
       "right": null,
       "top": null,
       "visibility": null,
       "width": null
      }
     },
     "39e4d3208e224162a4c2d44957ebbc8d": {
      "model_module": "@jupyter-widgets/controls",
      "model_module_version": "2.0.0",
      "model_name": "ProgressStyleModel",
      "state": {
       "_model_module": "@jupyter-widgets/controls",
       "_model_module_version": "2.0.0",
       "_model_name": "ProgressStyleModel",
       "_view_count": null,
       "_view_module": "@jupyter-widgets/base",
       "_view_module_version": "2.0.0",
       "_view_name": "StyleView",
       "bar_color": null,
       "description_width": ""
      }
     },
     "4bf4c0ecc68d4d8c8fe94f3d3429c5e6": {
      "model_module": "@jupyter-widgets/controls",
      "model_module_version": "2.0.0",
      "model_name": "HTMLStyleModel",
      "state": {
       "_model_module": "@jupyter-widgets/controls",
       "_model_module_version": "2.0.0",
       "_model_name": "HTMLStyleModel",
       "_view_count": null,
       "_view_module": "@jupyter-widgets/base",
       "_view_module_version": "2.0.0",
       "_view_name": "StyleView",
       "background": null,
       "description_width": "",
       "font_size": null,
       "text_color": null
      }
     },
     "685ca9d2aed848efaf260e4c7acca175": {
      "model_module": "@jupyter-widgets/base",
      "model_module_version": "2.0.0",
      "model_name": "LayoutModel",
      "state": {
       "_model_module": "@jupyter-widgets/base",
       "_model_module_version": "2.0.0",
       "_model_name": "LayoutModel",
       "_view_count": null,
       "_view_module": "@jupyter-widgets/base",
       "_view_module_version": "2.0.0",
       "_view_name": "LayoutView",
       "align_content": null,
       "align_items": null,
       "align_self": null,
       "border_bottom": null,
       "border_left": null,
       "border_right": null,
       "border_top": null,
       "bottom": null,
       "display": null,
       "flex": null,
       "flex_flow": null,
       "grid_area": null,
       "grid_auto_columns": null,
       "grid_auto_flow": null,
       "grid_auto_rows": null,
       "grid_column": null,
       "grid_gap": null,
       "grid_row": null,
       "grid_template_areas": null,
       "grid_template_columns": null,
       "grid_template_rows": null,
       "height": null,
       "justify_content": null,
       "justify_items": null,
       "left": null,
       "margin": null,
       "max_height": null,
       "max_width": null,
       "min_height": null,
       "min_width": null,
       "object_fit": null,
       "object_position": null,
       "order": null,
       "overflow": null,
       "padding": null,
       "right": null,
       "top": null,
       "visibility": null,
       "width": null
      }
     },
     "69f57f8b2cc94a5dbf451965b57061e1": {
      "model_module": "@jupyter-widgets/controls",
      "model_module_version": "2.0.0",
      "model_name": "HTMLStyleModel",
      "state": {
       "_model_module": "@jupyter-widgets/controls",
       "_model_module_version": "2.0.0",
       "_model_name": "HTMLStyleModel",
       "_view_count": null,
       "_view_module": "@jupyter-widgets/base",
       "_view_module_version": "2.0.0",
       "_view_name": "StyleView",
       "background": null,
       "description_width": "",
       "font_size": null,
       "text_color": null
      }
     },
     "a09583303c4c42dd89375137fdcbd390": {
      "model_module": "@jupyter-widgets/controls",
      "model_module_version": "2.0.0",
      "model_name": "FloatProgressModel",
      "state": {
       "_dom_classes": [],
       "_model_module": "@jupyter-widgets/controls",
       "_model_module_version": "2.0.0",
       "_model_name": "FloatProgressModel",
       "_view_count": null,
       "_view_module": "@jupyter-widgets/controls",
       "_view_module_version": "2.0.0",
       "_view_name": "ProgressView",
       "bar_style": "success",
       "description": "",
       "description_allow_html": false,
       "layout": "IPY_MODEL_dba6599f8cc046718158cc1ab6fda929",
       "max": 4.0,
       "min": 0.0,
       "orientation": "horizontal",
       "style": "IPY_MODEL_39e4d3208e224162a4c2d44957ebbc8d",
       "tabbable": null,
       "tooltip": null,
       "value": 4.0
      }
     },
     "ab0190fecad24c69a3ba26bed7eee3cf": {
      "model_module": "@jupyter-widgets/base",
      "model_module_version": "2.0.0",
      "model_name": "LayoutModel",
      "state": {
       "_model_module": "@jupyter-widgets/base",
       "_model_module_version": "2.0.0",
       "_model_name": "LayoutModel",
       "_view_count": null,
       "_view_module": "@jupyter-widgets/base",
       "_view_module_version": "2.0.0",
       "_view_name": "LayoutView",
       "align_content": null,
       "align_items": null,
       "align_self": null,
       "border_bottom": null,
       "border_left": null,
       "border_right": null,
       "border_top": null,
       "bottom": null,
       "display": null,
       "flex": null,
       "flex_flow": null,
       "grid_area": null,
       "grid_auto_columns": null,
       "grid_auto_flow": null,
       "grid_auto_rows": null,
       "grid_column": null,
       "grid_gap": null,
       "grid_row": null,
       "grid_template_areas": null,
       "grid_template_columns": null,
       "grid_template_rows": null,
       "height": null,
       "justify_content": null,
       "justify_items": null,
       "left": null,
       "margin": null,
       "max_height": null,
       "max_width": null,
       "min_height": null,
       "min_width": null,
       "object_fit": null,
       "object_position": null,
       "order": null,
       "overflow": null,
       "padding": null,
       "right": null,
       "top": null,
       "visibility": null,
       "width": null
      }
     },
     "bb7837a13157491fb6663ee047e3d865": {
      "model_module": "@jupyter-widgets/controls",
      "model_module_version": "2.0.0",
      "model_name": "HBoxModel",
      "state": {
       "_dom_classes": [],
       "_model_module": "@jupyter-widgets/controls",
       "_model_module_version": "2.0.0",
       "_model_name": "HBoxModel",
       "_view_count": null,
       "_view_module": "@jupyter-widgets/controls",
       "_view_module_version": "2.0.0",
       "_view_name": "HBoxView",
       "box_style": "",
       "children": [
        "IPY_MODEL_01a48319866f4b57874069f1f38d6a94",
        "IPY_MODEL_a09583303c4c42dd89375137fdcbd390",
        "IPY_MODEL_1e15f49d77d9427394415e7ec289c941"
       ],
       "layout": "IPY_MODEL_685ca9d2aed848efaf260e4c7acca175",
       "tabbable": null,
       "tooltip": null
      }
     },
     "dba6599f8cc046718158cc1ab6fda929": {
      "model_module": "@jupyter-widgets/base",
      "model_module_version": "2.0.0",
      "model_name": "LayoutModel",
      "state": {
       "_model_module": "@jupyter-widgets/base",
       "_model_module_version": "2.0.0",
       "_model_name": "LayoutModel",
       "_view_count": null,
       "_view_module": "@jupyter-widgets/base",
       "_view_module_version": "2.0.0",
       "_view_name": "LayoutView",
       "align_content": null,
       "align_items": null,
       "align_self": null,
       "border_bottom": null,
       "border_left": null,
       "border_right": null,
       "border_top": null,
       "bottom": null,
       "display": null,
       "flex": null,
       "flex_flow": null,
       "grid_area": null,
       "grid_auto_columns": null,
       "grid_auto_flow": null,
       "grid_auto_rows": null,
       "grid_column": null,
       "grid_gap": null,
       "grid_row": null,
       "grid_template_areas": null,
       "grid_template_columns": null,
       "grid_template_rows": null,
       "height": null,
       "justify_content": null,
       "justify_items": null,
       "left": null,
       "margin": null,
       "max_height": null,
       "max_width": null,
       "min_height": null,
       "min_width": null,
       "object_fit": null,
       "object_position": null,
       "order": null,
       "overflow": null,
       "padding": null,
       "right": null,
       "top": null,
       "visibility": null,
       "width": null
      }
     }
    },
    "version_major": 2,
    "version_minor": 0
   }
  }
 },
 "nbformat": 4,
 "nbformat_minor": 5
}