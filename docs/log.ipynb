{
 "cells": [
  {
   "cell_type": "markdown",
   "id": "92bcb855",
   "metadata": {
    "papermill": {
     "duration": 0.003977,
     "end_time": "2024-11-06T04:10:32.058582",
     "exception": false,
     "start_time": "2024-11-06T04:10:32.054605",
     "status": "completed"
    },
    "tags": []
   },
   "source": [
    "# MPIA Arxiv on Deck 2\n",
    "\n",
    "Contains the steps to produce the paper extractions."
   ]
  },
  {
   "cell_type": "code",
   "execution_count": 1,
   "id": "3a0d6e11",
   "metadata": {
    "execution": {
     "iopub.execute_input": "2024-11-06T04:10:32.065709Z",
     "iopub.status.busy": "2024-11-06T04:10:32.065472Z",
     "iopub.status.idle": "2024-11-06T04:10:32.649318Z",
     "shell.execute_reply": "2024-11-06T04:10:32.648653Z"
    },
    "papermill": {
     "duration": 0.58872,
     "end_time": "2024-11-06T04:10:32.650562",
     "exception": false,
     "start_time": "2024-11-06T04:10:32.061842",
     "status": "completed"
    },
    "tags": []
   },
   "outputs": [],
   "source": [
    "# Imports\n",
    "import os\n",
    "from IPython.display import Markdown, display\n",
    "from tqdm.notebook import tqdm\n",
    "import warnings\n",
    "from PIL import Image \n",
    "import re\n",
    "\n",
    "# requires arxiv_on_deck_2\n",
    "\n",
    "from arxiv_on_deck_2.arxiv2 import (get_new_papers, \n",
    "                                    get_paper_from_identifier,\n",
    "                                    retrieve_document_source, \n",
    "                                    get_markdown_badge)\n",
    "from arxiv_on_deck_2 import (latex,\n",
    "                             latex_bib,\n",
    "                             mpia,\n",
    "                             highlight_authors_in_list)\n",
    "\n",
    "# Sometimes images are really big\n",
    "Image.MAX_IMAGE_PIXELS = 1000000000 "
   ]
  },
  {
   "cell_type": "code",
   "execution_count": 2,
   "id": "22aa9d44",
   "metadata": {
    "execution": {
     "iopub.execute_input": "2024-11-06T04:10:32.657714Z",
     "iopub.status.busy": "2024-11-06T04:10:32.657460Z",
     "iopub.status.idle": "2024-11-06T04:10:32.665217Z",
     "shell.execute_reply": "2024-11-06T04:10:32.664657Z"
    },
    "papermill": {
     "duration": 0.012437,
     "end_time": "2024-11-06T04:10:32.666246",
     "exception": false,
     "start_time": "2024-11-06T04:10:32.653809",
     "status": "completed"
    },
    "tags": []
   },
   "outputs": [],
   "source": [
    "# Some useful definitions.\n",
    "\n",
    "class AffiliationWarning(UserWarning):\n",
    "    pass\n",
    "\n",
    "class AffiliationError(RuntimeError):\n",
    "    pass\n",
    "\n",
    "def validation(source: str):\n",
    "    \"\"\"Raises error paper during parsing of source file\n",
    "    \n",
    "    Allows checks before parsing TeX code.\n",
    "    \n",
    "    Raises AffiliationWarning\n",
    "    \"\"\"\n",
    "    check = mpia.affiliation_verifications(source, verbose=True)\n",
    "    if check is not True:\n",
    "        raise AffiliationError(\"mpia.affiliation_verifications: \" + check)\n",
    "\n",
    "        \n",
    "warnings.simplefilter('always', AffiliationWarning)\n",
    "\n",
    "\n",
    "def get_markdown_qrcode(paper_id: str):\n",
    "    \"\"\" Generate a qrcode to the arxiv page using qrserver.com\n",
    "    \n",
    "    :param paper: Arxiv paper\n",
    "    :returns: markdown text\n",
    "    \"\"\"\n",
    "    url = r\"https://api.qrserver.com/v1/create-qr-code/?size=100x100&data=\"\n",
    "    txt = f\"\"\"<img src={url}\"https://arxiv.org/abs/{paper_id}\">\"\"\"\n",
    "    txt = '<div id=\"qrcode\">' + txt + '</div>'\n",
    "    return txt\n",
    "\n",
    "\n",
    "def clean_non_western_encoded_characters_commands(text: str) -> str:\n",
    "    \"\"\" Remove non-western encoded characters from a string\n",
    "    List may need to grow.\n",
    "    \n",
    "    :param text: the text to clean\n",
    "    :return: the cleaned text\n",
    "    \"\"\"\n",
    "    text = re.sub(r\"(\\\\begin{CJK}{UTF8}{gbsn})(.*?)(\\\\end{CJK})\", r\"\\2\", text)\n",
    "    return text\n",
    "\n",
    "\n",
    "def get_initials(name: str) -> str:\n",
    "    \"\"\" Get the short name, e.g., A.-B. FamName\n",
    "    :param name: full name\n",
    "    :returns: initials\n",
    "    \"\"\"\n",
    "    initials = []\n",
    "    # account for non western names often in ()\n",
    "    if '(' in name:\n",
    "        name = clean_non_western_encoded_characters_commands(name)\n",
    "        suffix = re.findall(r\"\\((.*?)\\)\", name)[0]\n",
    "        name = name.replace(f\"({suffix})\", '')\n",
    "    else:\n",
    "        suffix = ''\n",
    "    split = name.split()\n",
    "    for token in split[:-1]:\n",
    "        if '-' in token:\n",
    "            current = '-'.join([k[0] + '.' for k in token.split('-')])\n",
    "        else:\n",
    "            current = token[0] + '.'\n",
    "        initials.append(current)\n",
    "    initials.append(split[-1].strip())\n",
    "    if suffix:\n",
    "        initials.append(f\"({suffix})\")\n",
    "    return ' '.join(initials)"
   ]
  },
  {
   "cell_type": "markdown",
   "id": "14bd6310",
   "metadata": {
    "papermill": {
     "duration": 0.002913,
     "end_time": "2024-11-06T04:10:32.672181",
     "exception": false,
     "start_time": "2024-11-06T04:10:32.669268",
     "status": "completed"
    },
    "tags": []
   },
   "source": [
    "## get list of arxiv paper candidates\n",
    "\n",
    "We use the MPIA mitarbeiter list webpage from mpia.de to get author names\n",
    "We then get all new papers from Arxiv and match authors"
   ]
  },
  {
   "cell_type": "code",
   "execution_count": 3,
   "id": "7ea813a8",
   "metadata": {
    "execution": {
     "iopub.execute_input": "2024-11-06T04:10:32.678897Z",
     "iopub.status.busy": "2024-11-06T04:10:32.678560Z",
     "iopub.status.idle": "2024-11-06T04:10:49.437398Z",
     "shell.execute_reply": "2024-11-06T04:10:49.436690Z"
    },
    "papermill": {
     "duration": 16.763571,
     "end_time": "2024-11-06T04:10:49.438705",
     "exception": false,
     "start_time": "2024-11-06T04:10:32.675134",
     "status": "completed"
    },
    "tags": []
   },
   "outputs": [],
   "source": [
    "# deal with the author list and edge cases of people that cannot be consistent on their name  \n",
    "\n",
    "def filter_non_scientists(name: str) -> bool:\n",
    "    \"\"\" Loose filter on expected authorships\n",
    "\n",
    "    removing IT, administration, technical staff\n",
    "    :param name: name\n",
    "    :returns: False if name is not a scientist\n",
    "    \"\"\"\n",
    "    remove_list = ['Licht', 'Binroth', 'Witzel', 'Jordan',\n",
    "                   'Zähringer', 'Scheerer', 'Hoffmann', 'Düe',\n",
    "                   'Hellmich', 'Enkler-Scharpegge', 'Witte-Nguy',\n",
    "                   'Dehen', 'Beckmann', 'Jager', 'Jäger'\n",
    "                  ]\n",
    "\n",
    "    for k in remove_list:\n",
    "        if k in name:\n",
    "            return False\n",
    "    return True\n",
    "\n",
    "def add_author_to_list(author_list: list) -> list:\n",
    "    \"\"\" Add author to list if not already in list\n",
    "    \n",
    "    :param author: author name\n",
    "    :param author_list: list of authors\n",
    "    :returns: updated list of authors\n",
    "    \"\"\"\n",
    "    add_list = ['T. Henning']\n",
    "\n",
    "    for author in add_list:\n",
    "        if author not in author_list:\n",
    "            author_list.append(author)\n",
    "    return author_list\n",
    "\n",
    "# get list from MPIA website\n",
    "# filter for non-scientists (mpia.get_mpia_mitarbeiter_list() does some filtering)\n",
    "mpia_authors = [k[1] for k in mpia.get_mpia_mitarbeiter_list() if filter_non_scientists(k[1])]\n",
    "# add some missing author because of inconsistencies in their MPIA name and author name on papers\n",
    "mpia_authors = add_author_to_list(mpia_authors)"
   ]
  },
  {
   "cell_type": "code",
   "execution_count": 4,
   "id": "2645e73a",
   "metadata": {
    "execution": {
     "iopub.execute_input": "2024-11-06T04:10:49.446179Z",
     "iopub.status.busy": "2024-11-06T04:10:49.445972Z",
     "iopub.status.idle": "2024-11-06T04:10:50.141972Z",
     "shell.execute_reply": "2024-11-06T04:10:50.141302Z"
    },
    "papermill": {
     "duration": 0.700981,
     "end_time": "2024-11-06T04:10:50.143056",
     "exception": false,
     "start_time": "2024-11-06T04:10:49.442075",
     "status": "completed"
    },
    "tags": []
   },
   "outputs": [
    {
     "name": "stdout",
     "output_type": "stream",
     "text": [
      "M. Schirmer  ->  M. Schirmer  |  ['M. Schirmer']\n",
      "K. Jahnke  ->  K. Jahnke  |  ['K. Jahnke']\n",
      "N. Winkel  ->  N. Winkel  |  ['N. Winkel']\n",
      "K. Jahnke  ->  K. Jahnke  |  ['K. Jahnke']\n",
      "J. Liu  ->  J. Liu  |  ['J. Liu']\n",
      "R. Zhang  ->  R. Zhang  |  ['R. Zhang']\n"
     ]
    },
    {
     "name": "stdout",
     "output_type": "stream",
     "text": [
      "X. Zhang  ->  X. Zhang  |  ['X. Zhang']\n",
      "K. Jahnke  ->  K. Jahnke  |  ['K. Jahnke']\n",
      "Arxiv has 75 new papers today\n",
      "          6 with possible author matches\n"
     ]
    }
   ],
   "source": [
    "new_papers = get_new_papers()\n",
    "# add manual references\n",
    "add_paper_refs = []\n",
    "new_papers.extend([get_paper_from_identifier(k) for k in add_paper_refs])\n",
    "\n",
    "def robust_call(fn, value, *args, **kwargs):\n",
    "    try:\n",
    "        return fn(value, *args, **kwargs)\n",
    "    except Exception:\n",
    "        return value\n",
    "\n",
    "candidates = []\n",
    "for paperk in new_papers:\n",
    "    # Check author list with their initials\n",
    "    normed_author_list = [robust_call(mpia.get_initials, k) for k in paperk['authors']]\n",
    "    hl_authors = highlight_authors_in_list(normed_author_list, mpia_authors, verbose=True)\n",
    "    matches = [(hl, orig) for hl, orig in zip(hl_authors, paperk['authors']) if 'mark' in hl]\n",
    "    paperk['authors'] = hl_authors\n",
    "    if matches:\n",
    "        # only select paper if an author matched our list\n",
    "        candidates.append(paperk)\n",
    "print(\"\"\"Arxiv has {0:,d} new papers today\"\"\".format(len(new_papers)))        \n",
    "print(\"\"\"          {0:,d} with possible author matches\"\"\".format(len(candidates)))"
   ]
  },
  {
   "cell_type": "markdown",
   "id": "3543b34a",
   "metadata": {
    "papermill": {
     "duration": 0.003229,
     "end_time": "2024-11-06T04:10:50.149825",
     "exception": false,
     "start_time": "2024-11-06T04:10:50.146596",
     "status": "completed"
    },
    "tags": []
   },
   "source": [
    "# Parse sources and generate relevant outputs\n",
    "\n",
    "From the candidates, we do the following steps:\n",
    "* get their tarball from ArXiv (and extract data)\n",
    "* find the main .tex file: find one with \\documentclass{...} (sometimes it's non trivial)\n",
    "* Check affiliations with :func:`validation`, which uses :func:`mpia.affiliation_verifications`\n",
    "* If passing the affiliations: we parse the .tex source\n",
    "   * inject sub-documents into the main (flatten the main document)\n",
    "   * parse structure, extract information (title, abstract, authors, figures...)\n",
    "   * handles `\\graphicspath` if provided\n",
    "* Generate the .md document."
   ]
  },
  {
   "cell_type": "code",
   "execution_count": 5,
   "id": "9576b79e",
   "metadata": {
    "execution": {
     "iopub.execute_input": "2024-11-06T04:10:50.157372Z",
     "iopub.status.busy": "2024-11-06T04:10:50.156807Z",
     "iopub.status.idle": "2024-11-06T04:11:48.903951Z",
     "shell.execute_reply": "2024-11-06T04:11:48.903153Z"
    },
    "papermill": {
     "duration": 58.752134,
     "end_time": "2024-11-06T04:11:48.905100",
     "exception": false,
     "start_time": "2024-11-06T04:10:50.152966",
     "status": "completed"
    },
    "scrolled": false,
    "tags": []
   },
   "outputs": [
    {
     "data": {
      "application/vnd.jupyter.widget-view+json": {
       "model_id": "c5f9591aaee44322a49a29e06e55e49f",
       "version_major": 2,
       "version_minor": 0
      },
      "text/plain": [
       "  0%|          | 0/6 [00:00<?, ?it/s]"
      ]
     },
     "metadata": {},
     "output_type": "display_data"
    },
    {
     "name": "stdout",
     "output_type": "stream",
     "text": [
      "Retrieving document from  https://arxiv.org/e-print/2411.02487\n"
     ]
    },
    {
     "name": "stdout",
     "output_type": "stream",
     "text": [
      "extracting tarball to tmp_2411.02487..."
     ]
    },
    {
     "name": "stdout",
     "output_type": "stream",
     "text": [
      " done.\n"
     ]
    },
    {
     "name": "stdout",
     "output_type": "stream",
     "text": [
      "Found 56 bibliographic references in tmp_2411.02487/Euclid_Gaia_Paper_I_arXiv.bbl.\n",
      "Retrieving document from  https://arxiv.org/e-print/2411.02488\n"
     ]
    },
    {
     "name": "stdout",
     "output_type": "stream",
     "text": [
      "extracting tarball to tmp_2411.02488..."
     ]
    },
    {
     "name": "stdout",
     "output_type": "stream",
     "text": [
      " done.\n"
     ]
    },
    {
     "name": "stderr",
     "output_type": "stream",
     "text": [
      "/opt/hostedtoolcache/Python/3.9.20/x64/lib/python3.9/site-packages/IPython/core/interactiveshell.py:3550: LatexWarning: Multiple tex files.\n",
      "\n",
      "  exec(code_obj, self.user_global_ns, self.user_ns)\n",
      "/opt/hostedtoolcache/Python/3.9.20/x64/lib/python3.9/site-packages/IPython/core/interactiveshell.py:3550: LatexWarning: Found documentclass in tmp_2411.02488/main.tex\n",
      "\n",
      "  exec(code_obj, self.user_global_ns, self.user_ns)\n",
      "/opt/hostedtoolcache/Python/3.9.20/x64/lib/python3.9/site-packages/arxiv_on_deck_2/latex.py:414: LatexWarning: Latex injecting: 'Tables/agn_parameters.tex' from 'tmp_2411.02488/Tables/agn_parameters.tex'\n",
      "  warnings.warn(LatexWarning(f\"Latex injecting: '{ext}' from '{subsource}'\"))\n",
      "/opt/hostedtoolcache/Python/3.9.20/x64/lib/python3.9/site-packages/arxiv_on_deck_2/latex.py:414: LatexWarning: Latex injecting: 'Tables/Results' from 'tmp_2411.02488/Tables/Results.tex'\n",
      "  warnings.warn(LatexWarning(f\"Latex injecting: '{ext}' from '{subsource}'\"))\n",
      "/opt/hostedtoolcache/Python/3.9.20/x64/lib/python3.9/site-packages/arxiv_on_deck_2/latex.py:414: LatexWarning: Latex injecting: 'Tables/sig_parameters.tex' from 'tmp_2411.02488/Tables/sig_parameters.tex'\n",
      "  warnings.warn(LatexWarning(f\"Latex injecting: '{ext}' from '{subsource}'\"))\n",
      "/opt/hostedtoolcache/Python/3.9.20/x64/lib/python3.9/site-packages/arxiv_on_deck_2/latex.py:414: LatexWarning: Latex injecting: 'Tables/host_parameters.tex' from 'tmp_2411.02488/Tables/host_parameters.tex'\n",
      "  warnings.warn(LatexWarning(f\"Latex injecting: '{ext}' from '{subsource}'\"))\n",
      "/opt/hostedtoolcache/Python/3.9.20/x64/lib/python3.9/site-packages/arxiv_on_deck_2/latex.py:414: LatexWarning: Latex injecting: 'Tables/obs_parameters.tex' from 'tmp_2411.02488/Tables/obs_parameters.tex'\n",
      "  warnings.warn(LatexWarning(f\"Latex injecting: '{ext}' from '{subsource}'\"))\n",
      "/opt/hostedtoolcache/Python/3.9.20/x64/lib/python3.9/site-packages/arxiv_on_deck_2/latex.py:414: LatexWarning: Latex injecting: 'Tables/bh_parameters.tex' from 'tmp_2411.02488/Tables/bh_parameters.tex'\n",
      "  warnings.warn(LatexWarning(f\"Latex injecting: '{ext}' from '{subsource}'\"))\n"
     ]
    },
    {
     "name": "stdout",
     "output_type": "stream",
     "text": [
      "Found 210 bibliographic references in tmp_2411.02488/main.bbl.\n",
      "Issues with the citations\n",
      "syntax error in line 326: '=' expected\n",
      "Retrieving document from  https://arxiv.org/e-print/2411.02497\n"
     ]
    },
    {
     "name": "stdout",
     "output_type": "stream",
     "text": [
      "extracting tarball to tmp_2411.02497..."
     ]
    },
    {
     "name": "stdout",
     "output_type": "stream",
     "text": [
      " done.\n",
      "Retrieving document from  https://arxiv.org/e-print/2411.02743\n"
     ]
    },
    {
     "name": "stderr",
     "output_type": "stream",
     "text": [
      "/opt/hostedtoolcache/Python/3.9.20/x64/lib/python3.9/site-packages/IPython/core/interactiveshell.py:3550: LatexWarning: Multiple tex files.\n",
      "\n",
      "  exec(code_obj, self.user_global_ns, self.user_ns)\n",
      "/opt/hostedtoolcache/Python/3.9.20/x64/lib/python3.9/site-packages/IPython/core/interactiveshell.py:3550: LatexWarning: Found documentclass in tmp_2411.02497/main.tex\n",
      "\n",
      "  exec(code_obj, self.user_global_ns, self.user_ns)\n",
      "/opt/hostedtoolcache/Python/3.9.20/x64/lib/python3.9/site-packages/arxiv_on_deck_2/latex.py:414: LatexWarning: Latex injecting: 'authors' from 'tmp_2411.02497/authors.tex'\n",
      "  warnings.warn(LatexWarning(f\"Latex injecting: '{ext}' from '{subsource}'\"))\n",
      "/opt/hostedtoolcache/Python/3.9.20/x64/lib/python3.9/site-packages/arxiv_on_deck_2/latex.py:414: LatexWarning: Latex injecting: 'affiliation' from 'tmp_2411.02497/affiliation.tex'\n",
      "  warnings.warn(LatexWarning(f\"Latex injecting: '{ext}' from '{subsource}'\"))\n"
     ]
    },
    {
     "name": "stdout",
     "output_type": "stream",
     "text": [
      "extracting tarball to tmp_2411.02743..."
     ]
    },
    {
     "name": "stdout",
     "output_type": "stream",
     "text": [
      " done.\n",
      "Retrieving document from  https://arxiv.org/e-print/2411.03126\n"
     ]
    },
    {
     "name": "stdout",
     "output_type": "stream",
     "text": [
      "extracting tarball to tmp_2411.03126..."
     ]
    },
    {
     "name": "stdout",
     "output_type": "stream",
     "text": [
      " done.\n",
      "Retrieving document from  https://arxiv.org/e-print/2411.03184\n"
     ]
    },
    {
     "name": "stdout",
     "output_type": "stream",
     "text": [
      "extracting tarball to tmp_2411.03184... done.\n"
     ]
    },
    {
     "name": "stdout",
     "output_type": "stream",
     "text": [
      "Found 67 bibliographic references in tmp_2411.03184/darkaccretion.bbl.\n",
      "Issues with the citations\n",
      "syntax error in line 137: '}' expected\n"
     ]
    }
   ],
   "source": [
    "documents = []\n",
    "failed = []\n",
    "for paper in tqdm(candidates):\n",
    "    # debug crap\n",
    "    paper['identifier'] = paper['identifier'].lower().replace('arxiv:', '').replace(r'\\n', '').strip()\n",
    "    paper_id = paper['identifier']\n",
    "    \n",
    "    folder = f'tmp_{paper_id}'\n",
    "\n",
    "    try:\n",
    "        if not os.path.isdir(folder):\n",
    "            folder = retrieve_document_source(f\"{paper_id}\", f'tmp_{paper_id}')\n",
    "        \n",
    "        try:\n",
    "            doc = latex.LatexDocument(folder, validation=validation)    \n",
    "        except AffiliationError as affilerror:\n",
    "            msg = f\"ArXiv:{paper_id:s} is not an MPIA paper... \" + str(affilerror)\n",
    "            failed.append((paper, \"affiliation error: \" + str(affilerror) ))\n",
    "            continue\n",
    "        \n",
    "        # Hack because sometimes author parsing does not work well\n",
    "        if (len(doc.authors) != len(paper['authors'])):\n",
    "            doc._authors = paper['authors']\n",
    "        else:\n",
    "            # highlight authors (FIXME: doc.highlight_authors)\n",
    "            # done on arxiv paper already\n",
    "            doc._authors = highlight_authors_in_list(\n",
    "                [get_initials(k) for k in doc.authors], \n",
    "                mpia_authors, verbose=True)\n",
    "        if (doc.abstract) in (None, ''):\n",
    "            doc._abstract = paper['abstract']\n",
    "            \n",
    "        doc.comment = (get_markdown_badge(paper_id) + \n",
    "                       \"<mark>Appeared on: \" + paper['date'] + \"</mark> - \")\n",
    "        if paper['comments']:\n",
    "            doc.comment += \" _\" + paper['comments'] + \"_\"\n",
    "        \n",
    "        full_md = doc.generate_markdown_text()\n",
    "        \n",
    "        full_md += get_markdown_qrcode(paper_id)\n",
    "        \n",
    "        # replace citations\n",
    "        try:\n",
    "            bibdata = latex_bib.LatexBib.from_doc(doc)\n",
    "            full_md = latex_bib.replace_citations(full_md, bibdata)\n",
    "        except Exception as e:\n",
    "            print(\"Issues with the citations\")\n",
    "            print(e)\n",
    "        \n",
    "        documents.append((paper_id, full_md))\n",
    "    except Exception as e:\n",
    "        warnings.warn(latex.LatexWarning(f\"{paper_id:s} did not run properly\\n\" +\n",
    "                                         str(e)\n",
    "                                        ))\n",
    "        failed.append((paper, \"latex error \" + str(e)))"
   ]
  },
  {
   "cell_type": "markdown",
   "id": "2505a25c",
   "metadata": {
    "papermill": {
     "duration": 0.004047,
     "end_time": "2024-11-06T04:11:48.913676",
     "exception": false,
     "start_time": "2024-11-06T04:11:48.909629",
     "status": "completed"
    },
    "tags": []
   },
   "source": [
    "### Export the logs\n",
    "\n",
    "Throughout, we also keep track of the logs per paper. see `logs-{today date}.md` "
   ]
  },
  {
   "cell_type": "code",
   "execution_count": 6,
   "id": "d733828a",
   "metadata": {
    "execution": {
     "iopub.execute_input": "2024-11-06T04:11:48.922853Z",
     "iopub.status.busy": "2024-11-06T04:11:48.922416Z",
     "iopub.status.idle": "2024-11-06T04:11:48.939464Z",
     "shell.execute_reply": "2024-11-06T04:11:48.938874Z"
    },
    "papermill": {
     "duration": 0.022765,
     "end_time": "2024-11-06T04:11:48.940447",
     "exception": false,
     "start_time": "2024-11-06T04:11:48.917682",
     "status": "completed"
    },
    "scrolled": false,
    "tags": []
   },
   "outputs": [
    {
     "data": {
      "text/markdown": [
       "## Successful papers"
      ],
      "text/plain": [
       "<IPython.core.display.Markdown object>"
      ]
     },
     "metadata": {},
     "output_type": "display_data"
    },
    {
     "data": {
      "text/markdown": [
       "\n",
       "|||\n",
       "|---:|:---|\n",
       "| [![arXiv](https://img.shields.io/badge/arXiv-2411.02487-b31b1b.svg)](https://arxiv.org/abs/2411.02487) | **Euclid: High-precision imaging astrometry and photometry from Early Release Observations. I. Internal kinematics of NGC 6397 by combining Euclid and Gaia data**  |\n",
       "|| M. Libralato, et al. -- incl., <mark>M. Schirmer</mark>, <mark>K. Jahnke</mark> |\n",
       "|*Appeared on*| *2024-11-06*|\n",
       "|*Comments*| *23 pages, 21 figures. Accepted for publication in A&A on October 24, 2024. Astro-photometric catalogs and stacked images will be available at the CDS after the paper will be published*|\n",
       "|**Abstract**|            The instruments at the focus of the Euclid space observatory offer superb, diffraction-limited imaging over an unprecedented (from space) wide field of view of 0.57 deg$^2$. This exquisite image quality has the potential to produce high-precision astrometry for point sources once the undersampling of Euclid's cameras is taken into account by means of accurate, effective point spread function (ePSF) modelling. We present a complex, detailed workflow to simultaneously solve for the geometric distortion (GD) and model the undersampled ePSFs of the Euclid detectors. Our procedure was successfully developed and tested with data from the Early Release Observations (ERO) programme focused on the nearby globular cluster NGC 6397. Our final one-dimensional astrometric precision for a well-measured star just below saturation is 0.7 mas (0.007 pixel) for the Visible Instrument (VIS) and 3 mas (0.01 pixel) for the Near-Infrared Spectrometer and Photometer (NISP). Finally, we present a specific scientific application of this high-precision astrometry: the combination of Euclid and Gaia data to compute proper motions and study the internal kinematics of NGC 6397. Future work, when more data become available, will allow for a better characterisation of the ePSFs and GD corrections that are derived here, along with assessment of their temporal stability, and their dependencies on the spectral energy distribution of the sources as seen through the wide-band filters of Euclid.         |"
      ],
      "text/plain": [
       "[2411.02487] Euclid: High-precision imaging astrometry and photometry from Early Release Observations. I. Internal kinematics of NGC 6397 by combining Euclid and Gaia data\n",
       "\tM. Libralato, et al. -- incl., <mark>M. Schirmer</mark>, <mark>K. Jahnke</mark>"
      ]
     },
     "metadata": {},
     "output_type": "display_data"
    },
    {
     "data": {
      "text/markdown": [
       "\n",
       "|||\n",
       "|---:|:---|\n",
       "| [![arXiv](https://img.shields.io/badge/arXiv-2411.02488-b31b1b.svg)](https://arxiv.org/abs/2411.02488) | **Combining Direct Black Hole Mass Measurements and Spatially Resolved Stellar Kinematics to Calibrate the $M_{\\rm BH}$-$\\sigma_\\star$ Relation of Active Galaxies**  |\n",
       "|| <mark>N. Winkel</mark>, et al. -- incl., <mark>K. Jahnke</mark> |\n",
       "|*Appeared on*| *2024-11-06*|\n",
       "|*Comments*| *Resubmitted to ApJ after initial positive referee report. 40 pages, 19 figures, 6 tables*|\n",
       "|**Abstract**|            The origin of the tight scaling relation between the mass of supermassive black holes (SMBHs; $M_{\\rm BH}$) and their host-galaxy properties remains unclear. Active galactic nuclei (AGNs) probe phases of ongoing SMBH growth and offer the only opportunity to measure $M_{\\rm BH}$ beyond the local Universe. However, determining AGN host galaxy stellar velocity dispersion $\\sigma_\\star$, and their galaxy dynamical masses $M_{\\rm dyn}$, is complicated by AGN contamination, aperture effects and different host galaxy morphologies. We select a sample of AGNs for which $M_{\\rm BH}$ has been independently determined to high accuracy by state-of-the-art techniques: dynamical modeling of the reverberation signal and spatially resolving the broad-line region with VLTI/GRAVITY. Using IFU observations, we spatially map the host galaxy stellar kinematics across the galaxy and bulge effective radii. We find that that the dynamically hot component of galaxy disks correlates with $M_{\\rm BH}$; however, the correlations are tightest for aperture-integrated $\\sigma_\\star$ measured across the bulge. Accounting for the different $M_{\\rm BH}$ distributions, we demonstrate - for the first time - that AGNs follow the same $M_{\\rm BH}$-$\\sigma_\\star$ and $M_{\\rm BH}$-$M_{\\rm bulge, dyn}$ relations as quiescent galaxies. We confirm that the classical approach of determining the virial factor as sample-average, yielding ${\\rm log }f= 0.65 \\pm 0.18$, is consistent with the average $f$ from individual measurements. The similarity between the underlying scaling relations of AGNs and quiescent galaxies implies that the current AGN phase is too short to have altered BH masses on a population level. These results strengthen the local calibration of $f$ for measuring single-epoch $M_{\\rm BH}$ in the distant Universe.         |"
      ],
      "text/plain": [
       "[2411.02488] Combining Direct Black Hole Mass Measurements and Spatially Resolved Stellar Kinematics to Calibrate the $M_{\\rm BH}$-$\\sigma_\\star$ Relation of Active Galaxies\n",
       "\t<mark>N. Winkel</mark>, et al. -- incl., <mark>K. Jahnke</mark>"
      ]
     },
     "metadata": {},
     "output_type": "display_data"
    },
    {
     "data": {
      "text/markdown": [
       "\n",
       "|||\n",
       "|---:|:---|\n",
       "| [![arXiv](https://img.shields.io/badge/arXiv-2411.03184-b31b1b.svg)](https://arxiv.org/abs/2411.03184) | **The Soltan argument at $z=6$: UV-luminous quasars contribute less than 10% to early black hole mass growth**  |\n",
       "|| <mark>K. Jahnke</mark> |\n",
       "|*Appeared on*| *2024-11-06*|\n",
       "|*Comments*| *Submitted to Open Journal of Astrophysics; 10 pages, 5 figures*|\n",
       "|**Abstract**|            We combine stellar mass functions and the recent first JWST-based galaxy-black hole scaling relations at $z=6$ to for the first time compute the supermassive black hole (SMBH) mass volume density at this epoch, and compare this to the integrated SMBH mass growth from the population of UV-luminous quasars at $z>6$. We show that even under very conservative assumptions almost all growth of SMBH mass at $z>6$ does not take place in these UV-luminous quasars, but must occur in systems obscured through dust and/or with lower radiative efficiency than standard thin accretion disks. The `Soltan argument' is not fulfilled by the known population of bright quasars at $z>6$: the integrated SMBH mass growth inferred from these largely unobscured active galactic nuclei (AGN) in the early Universe is by a factor $\\ge$10 smaller than the total SMBH mass volume density at $z=6$. This is valid under a large range of assumption about luminosity, mass functions, and accretion modes, and is likely still a factor >2 smaller when accounting for known obscuration fractions at this epoch. The resulting consequences are: >90%, possibly substantially more, of SMBH-buildup in the early Universe does not take place in luminous unobscured quasar phases, but has to occur in obscured systems, with dust absorbing most of the emitted UV-visible AGN emission, potentially with accretion modes with super-Eddington specific accretion rates. This is consistent with short lifetimes for luminous quasar phases from quasar proximity zone studies and clustering. This would remove the empirical need for slow SMBH growth and hence exotic `high-mass seed' black holes at early cosmic time. It also predicts a large population of luminous but very obscured lower-mass quasars at $z>6$, possibly the JWST `Little Red Dots'. This finding might severe impact on how we will diagnose SMBH growth at $z=7$ to 15 in the future.         |"
      ],
      "text/plain": [
       "[2411.03184] The Soltan argument at $z=6$: UV-luminous quasars contribute less than 10% to early black hole mass growth\n",
       "\t<mark>K. Jahnke</mark>"
      ]
     },
     "metadata": {},
     "output_type": "display_data"
    },
    {
     "data": {
      "text/markdown": [
       "## Failed papers"
      ],
      "text/plain": [
       "<IPython.core.display.Markdown object>"
      ]
     },
     "metadata": {},
     "output_type": "display_data"
    },
    {
     "data": {
      "text/markdown": [
       "\n",
       "|||\n",
       "|---:|:---|\n",
       "| [![arXiv](https://img.shields.io/badge/arXiv-2411.02497-b31b1b.svg)](https://arxiv.org/abs/2411.02497) | **Asymmetries and Circumstellar Interaction in the Type II SN 2024bch**  |\n",
       "|| J. E. Andrews, et al. -- incl., <mark>J. Liu</mark> |\n",
       "|*Appeared on*| *2024-11-06*|\n",
       "|*Comments*| *Submitted to ApJ*|\n",
       "|**Abstract**|            We present a comprehensive multi-epoch photometric and spectroscopic study of SN 2024bch, a nearby (19.9 Mpc) Type II supernova (SN) with prominent early high ionization emission lines. Optical spectra from 2.9 days after the estimated explosion reveal narrow lines of H I, He II, C IV, and N IV that disappear by day 6. High cadence photometry from the ground and TESS show that the SN brightened quickly and reached a peak M$_V \\sim$ $-$17.8 mag within a week of explosion, and late-time photometry suggests a $^{56}$Ni mass of 0.050 M$_{\\odot}$. High-resolution spectra from day 8 and 43 trace the unshocked circumstellar medium (CSM) and indicate a wind velocity of 30--40 km s$^{-1}$, a value consistent with a red supergiant (RSG) progenitor. Comparisons between models and the early spectra suggest a pre-SN mass-loss rate of $\\dot{M} \\sim 10^{-3}-10^{-2}\\ M_\\odot\\ \\mathrm{yr}^{-1}$, which is too high to be explained by quiescent mass loss from RSGs, but is consistent with some recent measurements of similar SNe. Persistent blueshifted H I and [O I] emission lines seen in the optical and NIR spectra could be produced by asymmetries in the SN ejecta, while the multi-component H$\\alpha$ may indicate continued interaction with an asymmetric CSM well into the nebular phase. SN 2024bch provides another clue to the complex environments and mass-loss histories around massive stars.         |\n",
       "|<p style=\"color:green\"> **ERROR** </p>| <p style=\"color:green\">affiliation error: mpia.affiliation_verifications: 'Heidelberg' keyword not found.</p> |"
      ],
      "text/plain": [
       "<IPython.core.display.Markdown object>"
      ]
     },
     "metadata": {},
     "output_type": "display_data"
    },
    {
     "data": {
      "text/markdown": [
       "\n",
       "|||\n",
       "|---:|:---|\n",
       "| [![arXiv](https://img.shields.io/badge/arXiv-2411.02743-b31b1b.svg)](https://arxiv.org/abs/2411.02743) | **When LAMOST meets Gaia DR3 Exploring the metallicity of open clusters**  |\n",
       "|| <mark>R. Zhang</mark>, et al. |\n",
       "|*Appeared on*| *2024-11-06*|\n",
       "|*Comments*| **|\n",
       "|**Abstract**|            Context. Open clusters (OCs) are valuable probes of stellar population characteristics. Their age and metallicity provide insights into the chemical enrichment history of the Milky Way. By studying the metallicity of OCs, we can explore the spatial distribution of composition across the Galaxy and understand stellar birth radii through chemical tagging. However, inferring the original positions of OCs remains a challenge. Aims. This study investigates the distribution of metallicity in the solar neighborhood using data from Gaia DR3 and LAMOST spectra. By measuring accurate ages and metallicities, we aim to derive birth radii and understand stellar migration patterns. Methods. We selected 1131 OCs within 3 kpc of the Sun from Gaia DR3 and LAMOST DR8 low-resolution spectra (R=1800). To correct the LAMOST data, we incorporated high-resolution spectra from GALAH DR3 (R=28000) using an artificial neural network. The average metallicity of the OCs was derived from reliable [Fe/H] values of their members. We examined the metallicity distribution across the Galaxy and calculated birth radii based on age and metallicity. Results. The correction method reduces the systematic offset in LAMOST data. We found a metallicity gradient as a function of Galactocentric distance and guiding radii. Comparisons with chemo-dynamic simulations show that observed metallicity values are slightly lower than predicted when uncertainties are ignored, but the metallicity gradients align with previous studies. We also inferred that many OCs near the Sun likely originated from the outer Galactic disk.         |\n",
       "|<p style=\"color:green\"> **ERROR** </p>| <p style=\"color:green\">affiliation error: mpia.affiliation_verifications: 'Heidelberg' keyword not found.</p> |"
      ],
      "text/plain": [
       "<IPython.core.display.Markdown object>"
      ]
     },
     "metadata": {},
     "output_type": "display_data"
    },
    {
     "data": {
      "text/markdown": [
       "\n",
       "|||\n",
       "|---:|:---|\n",
       "| [![arXiv](https://img.shields.io/badge/arXiv-2411.03126-b31b1b.svg)](https://arxiv.org/abs/2411.03126) | **Combining strongly lensed and unlensed fast radio bursts: to be a more precise late-universe probe**  |\n",
       "|| J.-G. Zhang, et al. -- incl., <mark>X. Zhang</mark> |\n",
       "|*Appeared on*| *2024-11-06*|\n",
       "|*Comments*| *18 pages, 7 figures*|\n",
       "|**Abstract**|            The Macquart relation and time-delay cosmography are now two promising ways to fast radio burst (FRB) cosmology. In this work, we propose a joint method that combines strongly lensed and unlensed FRBs for improving cosmological parameter estimation by using simulated FRB data from the future sensitive coherent all-sky monitor survey, which is expected to detect a large number of FRBs including galaxy-galaxy strongly lensed events. We find that using a detectable sample of 100,000 localized FRBs including $40$ lensed events can simultaneously constrain the Hubble constant and the equation of state of dark energy, with high precision of $\\varepsilon(H_0)=0.4\\%$ and $\\varepsilon(w)=4.5\\%$ in the simplest dynamical dark energy model. The joint analysis of unlensed and lensed FRBs significantly improves the constraint on $H_0$, which could be more effective than combining either the unlensed FRBs with future gravitational wave (GW) standard sirens or the lensed FRBs with CMB. Furthermore, combining the full FRB sample with the CMB+BAO+SNe data yields $\\sigma(H_0)=0.29~{\\rm km~s^{-1}~Mpc^{-1}}$, $\\sigma(w_0)=0.046$, and $\\sigma(w_a)=0.15$ in the two-parameter dynamical dark energy model, which outperform the results from the CMB+BAO+SNe+GW data. This reinforces the cosmological implications of a multi-wavelength observational strategy in optical and radio bands. We conclude that the future FRB observations will shed light on the nature of dark energy and also the Hubble tension if enough events with long-duration lensing are incorporated.         |\n",
       "|<p style=\"color:green\"> **ERROR** </p>| <p style=\"color:green\">affiliation error: mpia.affiliation_verifications: 'Heidelberg' keyword not found.</p> |"
      ],
      "text/plain": [
       "<IPython.core.display.Markdown object>"
      ]
     },
     "metadata": {},
     "output_type": "display_data"
    }
   ],
   "source": [
    "import datetime\n",
    "today = str(datetime.date.today())\n",
    "logfile = f\"_build/html/logs/log-{today}.md\"\n",
    "\n",
    "\n",
    "with open(logfile, 'w') as logs:\n",
    "    # Success\n",
    "    logs.write(f'# Arxiv on Deck 2: Logs - {today}\\n\\n')\n",
    "    logs.write(\"\"\"* Arxiv had {0:,d} new papers\\n\"\"\".format(len(new_papers)))\n",
    "    logs.write(\"\"\"    * {0:,d} with possible author matches\\n\\n\"\"\".format(len(candidates)))\n",
    "    logs.write(\"## Sucessful papers\\n\\n\")\n",
    "    display(Markdown(\"## Successful papers\"))\n",
    "    success = [k[0] for k in documents]\n",
    "    for candid in candidates:\n",
    "        if candid['identifier'].split(':')[-1] in success:\n",
    "            display(candid)\n",
    "            logs.write(candid.generate_markdown_text() + '\\n\\n')\n",
    "\n",
    "    ## failed\n",
    "    logs.write(\"## Failed papers\\n\\n\")\n",
    "    display(Markdown(\"## Failed papers\"))\n",
    "    failed = sorted(failed, key=lambda x: x[1])\n",
    "    current_reason = \"\"\n",
    "    for paper, reason in failed:\n",
    "        if 'affiliation' in reason:\n",
    "            color = 'green'\n",
    "        else:\n",
    "            color = 'red'\n",
    "        data = Markdown(\n",
    "                paper.generate_markdown_text() + \n",
    "                f'\\n|<p style=\"color:{color:s}\"> **ERROR** </p>| <p style=\"color:{color:s}\">{reason:s}</p> |'\n",
    "               )\n",
    "        if reason != current_reason:\n",
    "            logs.write(f'### {reason:s} \\n\\n')\n",
    "            current_reason = reason\n",
    "        logs.write(data.data + '\\n\\n')\n",
    "        \n",
    "        # only display here the important errors (all in logs)\n",
    "        # if color in ('red',):\n",
    "        display(data)"
   ]
  },
  {
   "cell_type": "markdown",
   "id": "472d20ee",
   "metadata": {
    "papermill": {
     "duration": 0.004836,
     "end_time": "2024-11-06T04:11:48.950261",
     "exception": false,
     "start_time": "2024-11-06T04:11:48.945425",
     "status": "completed"
    },
    "tags": []
   },
   "source": [
    "## Export documents\n",
    "\n",
    "We now write the .md files and export relevant images"
   ]
  },
  {
   "cell_type": "code",
   "execution_count": 7,
   "id": "d426aed9",
   "metadata": {
    "execution": {
     "iopub.execute_input": "2024-11-06T04:11:48.961014Z",
     "iopub.status.busy": "2024-11-06T04:11:48.960538Z",
     "iopub.status.idle": "2024-11-06T04:11:48.967138Z",
     "shell.execute_reply": "2024-11-06T04:11:48.966631Z"
    },
    "papermill": {
     "duration": 0.013031,
     "end_time": "2024-11-06T04:11:48.968123",
     "exception": false,
     "start_time": "2024-11-06T04:11:48.955092",
     "status": "completed"
    },
    "tags": []
   },
   "outputs": [],
   "source": [
    "def export_markdown_summary(md: str, md_fname:str, directory: str):\n",
    "    \"\"\"Export MD document and associated relevant images\"\"\"\n",
    "    import os\n",
    "    import shutil\n",
    "    import re\n",
    "\n",
    "    if (os.path.exists(directory) and not os.path.isdir(directory)):\n",
    "        raise RuntimeError(f\"a non-directory file exists with name {directory:s}\")\n",
    "\n",
    "    if (not os.path.exists(directory)):\n",
    "        print(f\"creating directory {directory:s}\")\n",
    "        os.mkdir(directory)\n",
    "\n",
    "    fig_fnames = (re.compile(r'\\[Fig.*\\]\\((.*)\\)').findall(md) + \n",
    "                  re.compile(r'\\<img src=\"([^>\\s]*)\"[^>]*/>').findall(md))\n",
    "    print(\"found figures\", fig_fnames)\n",
    "    for fname in fig_fnames:\n",
    "        if 'http' in fname:\n",
    "            # No need to copy online figures\n",
    "            continue\n",
    "        if not os.path.exists(fname):\n",
    "            print(\"file not found\", fname)\n",
    "            continue\n",
    "        print(\"copying \", fname, \"to\", directory)\n",
    "        destdir = os.path.join(directory, os.path.dirname(fname))\n",
    "        destfname = os.path.join(destdir, os.path.basename(fname))\n",
    "        try:\n",
    "            os.makedirs(destdir)\n",
    "        except FileExistsError:\n",
    "            pass\n",
    "        shutil.copy(fname, destfname)\n",
    "    with open(os.path.join(directory, md_fname), 'w') as fout:\n",
    "        fout.write(md)\n",
    "    print(\"exported in \", os.path.join(directory, md_fname))\n",
    "    [print(\"    + \" + os.path.join(directory,fk)) for fk in fig_fnames]"
   ]
  },
  {
   "cell_type": "code",
   "execution_count": 8,
   "id": "014d04a4",
   "metadata": {
    "execution": {
     "iopub.execute_input": "2024-11-06T04:11:48.978789Z",
     "iopub.status.busy": "2024-11-06T04:11:48.978438Z",
     "iopub.status.idle": "2024-11-06T04:11:48.989056Z",
     "shell.execute_reply": "2024-11-06T04:11:48.988453Z"
    },
    "papermill": {
     "duration": 0.017104,
     "end_time": "2024-11-06T04:11:48.990115",
     "exception": false,
     "start_time": "2024-11-06T04:11:48.973011",
     "status": "completed"
    },
    "tags": []
   },
   "outputs": [
    {
     "name": "stdout",
     "output_type": "stream",
     "text": [
      "found figures ['tmp_2411.02487/./Figures/det001_vis_before.png', 'tmp_2411.02487/./Figures/det001_vis_after.png', 'tmp_2411.02487/./Figures/1drms.png', 'tmp_2411.02487/./Figures/det001_Y_before.png', 'tmp_2411.02487/./Figures/det001_Y_after.png']\n",
      "copying  tmp_2411.02487/./Figures/det001_vis_before.png to _build/html/\n",
      "copying  tmp_2411.02487/./Figures/det001_vis_after.png to _build/html/\n",
      "copying  tmp_2411.02487/./Figures/1drms.png to _build/html/\n",
      "copying  tmp_2411.02487/./Figures/det001_Y_before.png to _build/html/\n",
      "copying  tmp_2411.02487/./Figures/det001_Y_after.png to _build/html/\n",
      "exported in  _build/html/2411.02487.md\n",
      "    + _build/html/tmp_2411.02487/./Figures/det001_vis_before.png\n",
      "    + _build/html/tmp_2411.02487/./Figures/det001_vis_after.png\n",
      "    + _build/html/tmp_2411.02487/./Figures/1drms.png\n",
      "    + _build/html/tmp_2411.02487/./Figures/det001_Y_before.png\n",
      "    + _build/html/tmp_2411.02487/./Figures/det001_Y_after.png\n",
      "found figures ['tmp_2411.02488/./Figures/03_Results/Mbh-sigma_corr.png', 'tmp_2411.02488/./Figures/03_Results/Mbh-Mdyn_corr.png', 'tmp_2411.02488/./Figures/03_Results/disp_reff_bulge.png', 'tmp_2411.02488/./Figures/03_Results/sig_parameters.png']\n",
      "copying  tmp_2411.02488/./Figures/03_Results/Mbh-sigma_corr.png to _build/html/\n",
      "copying  tmp_2411.02488/./Figures/03_Results/Mbh-Mdyn_corr.png to _build/html/\n",
      "copying  tmp_2411.02488/./Figures/03_Results/disp_reff_bulge.png to _build/html/\n",
      "copying  tmp_2411.02488/./Figures/03_Results/sig_parameters.png to _build/html/\n",
      "exported in  _build/html/2411.02488.md\n",
      "    + _build/html/tmp_2411.02488/./Figures/03_Results/Mbh-sigma_corr.png\n",
      "    + _build/html/tmp_2411.02488/./Figures/03_Results/Mbh-Mdyn_corr.png\n",
      "    + _build/html/tmp_2411.02488/./Figures/03_Results/disp_reff_bulge.png\n",
      "    + _build/html/tmp_2411.02488/./Figures/03_Results/sig_parameters.png\n",
      "found figures ['tmp_2411.03184/./figures/Qlumdensity_V6.png', 'tmp_2411.03184/./figures/LFevo_V3.png', 'tmp_2411.03184/./figures/massfuncts_V4.png']\n",
      "copying  tmp_2411.03184/./figures/Qlumdensity_V6.png to _build/html/\n",
      "copying  tmp_2411.03184/./figures/LFevo_V3.png to _build/html/\n",
      "copying  tmp_2411.03184/./figures/massfuncts_V4.png to _build/html/\n",
      "exported in  _build/html/2411.03184.md\n",
      "    + _build/html/tmp_2411.03184/./figures/Qlumdensity_V6.png\n",
      "    + _build/html/tmp_2411.03184/./figures/LFevo_V3.png\n",
      "    + _build/html/tmp_2411.03184/./figures/massfuncts_V4.png\n"
     ]
    }
   ],
   "source": [
    "for paper_id, md in documents:\n",
    "    export_markdown_summary(md, f\"{paper_id:s}.md\", '_build/html/')"
   ]
  },
  {
   "cell_type": "markdown",
   "id": "f087a0a7",
   "metadata": {
    "papermill": {
     "duration": 0.004881,
     "end_time": "2024-11-06T04:11:49.000004",
     "exception": false,
     "start_time": "2024-11-06T04:11:48.995123",
     "status": "completed"
    },
    "tags": []
   },
   "source": [
    "## Display the papers\n",
    "\n",
    "Not necessary but allows for a quick check."
   ]
  },
  {
   "cell_type": "code",
   "execution_count": 9,
   "id": "fd25f625",
   "metadata": {
    "execution": {
     "iopub.execute_input": "2024-11-06T04:11:49.010963Z",
     "iopub.status.busy": "2024-11-06T04:11:49.010617Z",
     "iopub.status.idle": "2024-11-06T04:11:49.017288Z",
     "shell.execute_reply": "2024-11-06T04:11:49.016627Z"
    },
    "papermill": {
     "duration": 0.013292,
     "end_time": "2024-11-06T04:11:49.018285",
     "exception": false,
     "start_time": "2024-11-06T04:11:49.004993",
     "status": "completed"
    },
    "scrolled": false,
    "tags": []
   },
   "outputs": [
    {
     "data": {
      "text/markdown": [
       "<div class=\"macros\" style=\"visibility:hidden;\">\n",
       "$\\newcommand{\\ensuremath}{}$\n",
       "$\\newcommand{\\xspace}{}$\n",
       "$\\newcommand{\\object}[1]{\\texttt{#1}}$\n",
       "$\\newcommand{\\farcs}{{.}''}$\n",
       "$\\newcommand{\\farcm}{{.}'}$\n",
       "$\\newcommand{\\arcsec}{''}$\n",
       "$\\newcommand{\\arcmin}{'}$\n",
       "$\\newcommand{\\ion}[2]{#1#2}$\n",
       "$\\newcommand{\\textsc}[1]{\\textrm{#1}}$\n",
       "$\\newcommand{\\hl}[1]{\\textrm{#1}}$\n",
       "$\\newcommand{\\footnote}[1]{}$\n",
       "$\\newcommand{\\vdag}{(v)^\\dagger}$\n",
       "$\\newcommand$\n",
       "$\\newcommand$\n",
       "$\\newcommand{\\hstfull}{\\HST\\xspace}$\n",
       "$\\newcommand{\\hst}{HST\\xspace}$\n",
       "$\\newcommand{\\jwstfull}{\\textit{James Webb} Space Telescope\\xspace}$\n",
       "$\\newcommand{\\jwst}{JWST\\xspace}$\n",
       "$\\newcommand{\\gaia}{\\textit{Gaia}\\xspace}$\n",
       "$\\newcommand{\\euclid}{\\textit{Euclid}\\xspace}$\n",
       "$\\newcommand{\\qfit}{\\texttt{QFIT}\\xspace}$\n",
       "$\\newcommand{\\radxs}{\\texttt{RADXS}\\xspace}$\n",
       "$\\newcommand{\\hpass}{\\texttt{hst1pass}\\xspace}$\n",
       "$\\newcommand{\\jpass}{\\texttt{jwst1pass}\\xspace}$\n",
       "$\\newcommand{\\epass}{\\texttt{euclid1pass}\\xspace}$\n",
       "$\\newcommand{\\kstwo}{\\texttt{KS2}\\xspace}$\n",
       "$\\newcommand{\\masyr}{mas yr^{-1}\\xspace}$\n",
       "$\\newcommand{\\egpm}{\\mbox{\\textit{E}-\\textit{G}}\\xspace}$\n",
       "$\\newcommand{\\addtext}[1]{\\textcolor{OliveGreen}{\\uwave{#1}}}$</div>\n",
       "\n",
       "\n",
       "\n",
       "<div id=\"title\">\n",
       "\n",
       "# $\\euclid$: High-precision imaging astrometry and photometry from Early Release Observations$\\thanks{This paper is published on behalf of the Euclid Consortium.}$: I. Internal kinematics of NGC 6397 by combining $\\euclid$ and $\\gaia$ data\n",
       "\n",
       "</div>\n",
       "<div id=\"comments\">\n",
       "\n",
       "[![arXiv](https://img.shields.io/badge/arXiv-2411.02487-b31b1b.svg)](https://arxiv.org/abs/2411.02487)<mark>Appeared on: 2024-11-06</mark> -  _23 pages, 21 figures. Accepted for publication in A&A on October 24, 2024. Astro-photometric catalogs and stacked images will be available at the CDS after the paper will be published_\n",
       "\n",
       "</div>\n",
       "<div id=\"authors\">\n",
       "\n",
       "M. Libralato, et al. -- incl., <mark>M. Schirmer</mark>, <mark>K. Jahnke</mark>\n",
       "\n",
       "</div>\n",
       "<div id=\"abstract\">\n",
       "\n",
       "**Abstract:** The instruments at the focus of the $\\euclid$ space observatory offer superb, diffraction-limited imaging over an unprecedented (from space) wide field of view of 0.57 deg $^2$ . This exquisite image quality has the potential to produce high-precision astrometry for point sources once the undersampling of $\\euclid$ 's cameras is taken into account by means of accurate, effective point spread function (ePSF) modelling. We present a complex, detailed workflow to simultaneously solve for the geometric distortion (GD) and model the undersampled ePSFs of the $\\euclid$ detectors. Our procedure was successfully developed and tested with data from the Early Release Observations (ERO) programme focused on the nearby globular cluster NGC 6397.  Our final one-dimensional astrometric precision for a well-measured star just below saturation is 0.7 mas (0.007 pixel) for the Visible Instrument (VIS) and 3 mas (0.01 pixel) for the Near-Infrared Spectrometer and Photometer (NISP). Finally, we present a specific scientific application of this high-precision astrometry: the combination of $\\euclid$ and $\\gaia$ data to compute proper motions and study the internal kinematics of NGC 6397. Future work, when more data become available, will allow for a better characterisation of the ePSFs and GD corrections that are derived here, along with assessment of their temporal stability, and their dependencies on the spectral energy distribution of the sources as seen through the wide-band filters of $\\euclid$ .\n",
       "\n",
       "</div>\n",
       "\n",
       "<div id=\"div_fig1\">\n",
       "\n",
       "<img src=\"tmp_2411.02487/./Figures/det001_vis_before.png\" alt=\"Fig9.1\" width=\"50%\"/><img src=\"tmp_2411.02487/./Figures/det001_vis_after.png\" alt=\"Fig9.2\" width=\"50%\"/>\n",
       "\n",
       "**Figure 9. -** GD maps for the VIS quadrant 1-1.E before (left panel) and after (right panel) applying the polynomial correction. Vectors are magnified by a factor of 50 (left) and 10 000 (right) to enhance the details. The positional $x$ and $y$ positional residuals as a function of $x$ and $y$ raw VIS positions are shown in the side panels. (*fig:VISGDdet1*)\n",
       "\n",
       "</div>\n",
       "<div id=\"div_fig2\">\n",
       "\n",
       "<img src=\"tmp_2411.02487/./Figures/1drms.png\" alt=\"Fig1\" width=\"100%\"/>\n",
       "\n",
       "**Figure 1. -** Oned dimensional (1D) positional RMS (expressed in units of VIS or NISP pixel depending on the panel) as a function of VIS or NISP instrumental magnitude. The red horizontal line is set at the median value of bright, well-measured ($\\qfit$$<$ 0.05) stars that lie within the two red, dashed, vertical lines. The median values in pixels and mas are reported in each panel. Only 20\\% of the points are shown for clarity. (*fig:1drms*)\n",
       "\n",
       "</div>\n",
       "<div id=\"div_fig3\">\n",
       "\n",
       "<img src=\"tmp_2411.02487/./Figures/det001_Y_before.png\" alt=\"Fig10.1\" width=\"50%\"/><img src=\"tmp_2411.02487/./Figures/det001_Y_after.png\" alt=\"Fig10.2\" width=\"50%\"/>\n",
       "\n",
       "**Figure 10. -** Similar to Fig. \\ref{fig:VISGDdet1}, but for the NISP DET11 detector with $\\YE$-filter data. Units are now NISP pixels. (*fig:NISPYGDdet1*)\n",
       "\n",
       "</div><div id=\"qrcode\"><img src=https://api.qrserver.com/v1/create-qr-code/?size=100x100&data=\"https://arxiv.org/abs/2411.02487\"></div>"
      ],
      "text/plain": [
       "<IPython.core.display.Markdown object>"
      ]
     },
     "metadata": {},
     "output_type": "display_data"
    },
    {
     "data": {
      "text/markdown": [
       "<div class=\"macros\" style=\"visibility:hidden;\">\n",
       "$\\newcommand{\\ensuremath}{}$\n",
       "$\\newcommand{\\xspace}{}$\n",
       "$\\newcommand{\\object}[1]{\\texttt{#1}}$\n",
       "$\\newcommand{\\farcs}{{.}''}$\n",
       "$\\newcommand{\\farcm}{{.}'}$\n",
       "$\\newcommand{\\arcsec}{''}$\n",
       "$\\newcommand{\\arcmin}{'}$\n",
       "$\\newcommand{\\ion}[2]{#1#2}$\n",
       "$\\newcommand{\\textsc}[1]{\\textrm{#1}}$\n",
       "$\\newcommand{\\hl}[1]{\\textrm{#1}}$\n",
       "$\\newcommand{\\footnote}[1]{}$\n",
       "$\\newcommand{\\vdag}{(v)^\\dagger}$\n",
       "$\\newcommand$\n",
       "$\\newcommand$\n",
       "$\\newcommand$\n",
       "$\\newcommand$\n",
       "$\\newcommand$\n",
       "$\\newcommand$\n",
       "$\\newcommand$\n",
       "$\\newcommand$\n",
       "$\\newcommand$\n",
       "$\\newcommand$\n",
       "$\\newcommand$\n",
       "$\\newcommand$\n",
       "$\\newcommand$\n",
       "$\\newcommand$\n",
       "$\\newcommand$\n",
       "$\\newcommand$\n",
       "$\\newcommand$\n",
       "$\\newcommand$\n",
       "$\\newcommand\\aa{@element@tr}$</div>\n",
       "\n",
       "\n",
       "\n",
       "<div id=\"title\">\n",
       "\n",
       "# Combining Direct Black Hole Mass Measurements and Spatially Resolved Stellar Kinematics to Calibrate the $\\mbh$-$\\sigstar$ Relation of Active Galaxies\n",
       "\n",
       "</div>\n",
       "<div id=\"comments\">\n",
       "\n",
       "[![arXiv](https://img.shields.io/badge/arXiv-2411.02488-b31b1b.svg)](https://arxiv.org/abs/2411.02488)<mark>Appeared on: 2024-11-06</mark> -  _Resubmitted to ApJ after initial positive referee report. 40 pages, 19 figures, 6 tables_\n",
       "\n",
       "</div>\n",
       "<div id=\"authors\">\n",
       "\n",
       "Nico~Winkel, et al.\n",
       "\n",
       "</div>\n",
       "<div id=\"abstract\">\n",
       "\n",
       "**Abstract:** The origin of the tight scaling relation between the mass of supermassive black holes (SMBHs; $\\mbh$ ) and their host-galaxy properties remains unclear.    Active galactic nuclei (AGNs) probe phases of ongoing SMBH growth and offer the only opportunity to measure $\\mbh$ beyond the local Universe. However, determining AGN host galaxy stellar velocity dispersion $\\sigstar$ , and their galaxy dynamical masses $\\mdyn$ , is complicated by AGN contamination, aperture effects and different host galaxy morphologies.    We select a sample of AGNs for which $\\mbh$ has been independently determined to high accuracy by state-of-the-art techniques: dynamical modeling of the reverberation signal and spatially resolving the broad-line region with VLTI/GRAVITY.    Using IFU observations, we spatially map the host galaxy stellar kinematics across the galaxy and bulge effective radii.    We find that that the dynamically hot component of galaxy disks correlates with $\\mbh$ ; however, the correlations are tightest for aperture-integrated $\\sigstar$ measured across the bulge.    Accounting for the different $\\mbh$ distributions, we demonstrate -- for the first time -- that AGNs follow the same $\\mbh$ - $\\sigstar$ and $\\mbh$ - $\\mbulgedyn$ relations as quiescent galaxies.    We confirm that the classical approach of determining the virial factor as sample-average, yielding ${\\rm log }f= 0.65 \\pm 0.18$ , is consistent with the average $\\f$ from individual measurements.    The similarity between the underlying scaling relations of AGNs and quiescent galaxies implies that the current AGN phase is too short to have altered BH masses on a population level. These results strengthen the local calibration of $\\f$ for measuring single-epoch $\\mbh$ in the distant Universe.\n",
       "\n",
       "</div>\n",
       "\n",
       "<div id=\"div_fig1\">\n",
       "\n",
       "<img src=\"tmp_2411.02488/./Figures/03_Results/Mbh-sigma_corr.png\" alt=\"Fig16.1\" width=\"50%\"/><img src=\"tmp_2411.02488/./Figures/03_Results/Mbh-Mdyn_corr.png\" alt=\"Fig16.2\" width=\"50%\"/>\n",
       "\n",
       "**Figure 16. -** *\\mbh-host-galaxy scaling relations of AGNs and quiescent galaxies.*(Top Left)\n",
       "    Colored data points show AGNs hosted by LTGs (circles) and ETGs (squares), with the best-fitting observed relation shown as blue stripe (corresponding to row ii in Table \\ref{tbl:Results}).\n",
       "    For AGNs, no clear distinction between the relations of ETGs and LTGs is observed.\n",
       "    The gray contours show the KH13 sample that is resampled in \\mbh to match the AGNs' \\mbh-distribution (see Sect. \\ref{SubSec:Controlling_selection_effects}). with the fitted relations shown as shaded gray stripe.\n",
       "    The relation of the \\mbh-matched quiescent sample agrees with the AGNs' observed relation, and is significantly flatter than the observed relation of quiescent galaxies shown in the right panel.\n",
       "    (Top right)\n",
       "    After empirically matching the \\mbh distribution of AGNs (blue contours) to that of quiescent galaxies (KH13 sample, gray data points), both fall onto the same region of the \\mbh-\\sigstar plane. The best-fitting relations of AGNs are shown as blue and gray stripes, and correspond to the relations in row corresponds to row (v) and (i) respectively, in Table \\ref{tbl:Results}.\n",
       "    (Bottom left)\n",
       "    The same for the \\mbh-\\mbulgedyn relation, with the observed AGN listed in row (xii) of Table \\ref{tbl:Results}.\n",
       "    After matching the \\mbh distribution, the relations of AGNs and quiescent galaxies are indistinguishable.\n",
       "    (Bottom right) Same for matching the AGNs to the distribution of quiescent. The \\mbh and \\mbulgedyn relation correspond to row (xiv) of Table \\ref{tbl:Results}.\n",
       "     (*fig:MBH-scaling-relations*)\n",
       "\n",
       "</div>\n",
       "<div id=\"div_fig2\">\n",
       "\n",
       "<img src=\"tmp_2411.02488/./Figures/03_Results/disp_reff_bulge.png\" alt=\"Fig1\" width=\"100%\"/>\n",
       "\n",
       "**Figure 1. -** *Radial profile of the spatially resolved stellar velocity dispersion \\sigspat across AGN host-galaxy bulges.*\n",
       "   We measure the spatially resolved stellar dispersion \\sigspat in concentric annuli centered on the AGN position.\n",
       "   Values of \\sigspat are normalized to the value measured at the bulge effective radius $R_{\\rm eff}^{\\rm bulge}$.\n",
       "   Dashed lines show the spatially resolved \\sigspat of individual AGN host galaxies, shaded green regions the 16$^{th}$ to 84$^{th}$ percentile range of the stacked profile.\n",
       "    (*fig:disp_radial*)\n",
       "\n",
       "</div>\n",
       "<div id=\"div_fig3\">\n",
       "\n",
       "<img src=\"tmp_2411.02488/./Figures/03_Results/sig_parameters.png\" alt=\"Fig2\" width=\"100%\"/>\n",
       "\n",
       "**Figure 2. -** *Comparing methods for measuring stellar velocity dispersion.*\n",
       "   Aperture-integrated dispersion measured over $R_{\\rm eff}^{\\rm gal}$ is shown on the x-axis. On the y-axis, we show the aperture integrated dispersion over $R_{\\rm eff}^{\\rm bulge}$(blue) and the spatially resolved dispersion over $R_{\\rm eff}^{\\rm gal}$(orange), respectively.\n",
       "   Compared to the one-to-one correlation, denoted by the dash-dotted line, the mean bulge dispersion is on average slightly higher than the dispersion measured across the galaxy. In contrast, spatially resolving the kinematics results in significantly lower dispersion.\n",
       "    (*fig:sig_parameters*)\n",
       "\n",
       "</div><div id=\"qrcode\"><img src=https://api.qrserver.com/v1/create-qr-code/?size=100x100&data=\"https://arxiv.org/abs/2411.02488\"></div>"
      ],
      "text/plain": [
       "<IPython.core.display.Markdown object>"
      ]
     },
     "metadata": {},
     "output_type": "display_data"
    },
    {
     "data": {
      "text/markdown": [
       "<div class=\"macros\" style=\"visibility:hidden;\">\n",
       "$\\newcommand{\\ensuremath}{}$\n",
       "$\\newcommand{\\xspace}{}$\n",
       "$\\newcommand{\\object}[1]{\\texttt{#1}}$\n",
       "$\\newcommand{\\farcs}{{.}''}$\n",
       "$\\newcommand{\\farcm}{{.}'}$\n",
       "$\\newcommand{\\arcsec}{''}$\n",
       "$\\newcommand{\\arcmin}{'}$\n",
       "$\\newcommand{\\ion}[2]{#1#2}$\n",
       "$\\newcommand{\\textsc}[1]{\\textrm{#1}}$\n",
       "$\\newcommand{\\hl}[1]{\\textrm{#1}}$\n",
       "$\\newcommand{\\footnote}[1]{}$\n",
       "$\\newcommand{\\red}[1]{\\textcolor{red}{#1}}$\n",
       "$\\newcommand{\\green}[1]{\\textcolor{green}{#1}}$\n",
       "$\\newcommand{\\blue}[1]{\\textcolor{blue}{#1}}$\n",
       "$\\newcommand{\\orange}[1]{\\textcolor{orange}{#1}}$\n",
       "$\\newcommand{\\magenta}[1]{\\textcolor{magenta}{#1}}$\n",
       "$\\newcommand{\\MBH}{M_\\mathrm{BH}}$\n",
       "$\\newcommand{\\MBHm}{M_\\mathrm{BH}}$\n",
       "$\\newcommand{\\Msun}{M_\\odot}$\n",
       "$\\newcommand{\\Msunm}{\\mathrm{M}_\\odot}$\n",
       "$\\newcommand{\\MS}{M_\\star}$\n",
       "$\\newcommand{\\MSm}{M_\\star}$\n",
       "$\\newcommand{\\MBHMS}{M_\\mathrm{BH}--M_\\star}$\n",
       "$\\newcommand{\\MBHDm}{\\rho_\\mathrm{BH}}$\n",
       "$\\newcommand{\\MBHDsm}{\\rho_\\mathrm{BH,\\star}}$\n",
       "$\\newcommand{\\MBHD}{\\rho_\\mathrm{BH}}$\n",
       "$\\newcommand{\\MBHDs}{\\rho_\\mathrm{BH,\\star}}$\n",
       "$\\newcommand{\\MAG}{\\mathcal{M}}$\n",
       "$\\newcommand{\\arraystretch}{1.2}$</div>\n",
       "\n",
       "\n",
       "\n",
       "<div id=\"title\">\n",
       "\n",
       "# The Soltan argument at $z=6$:\\ UV-luminous quasars contribute less than 10\\% to early black hole mass growth\n",
       "\n",
       "</div>\n",
       "<div id=\"comments\">\n",
       "\n",
       "[![arXiv](https://img.shields.io/badge/arXiv-2411.03184-b31b1b.svg)](https://arxiv.org/abs/2411.03184)<mark>Appeared on: 2024-11-06</mark> -  _Submitted to Open Journal of Astrophysics; 10 pages, 5 figures_\n",
       "\n",
       "</div>\n",
       "<div id=\"authors\">\n",
       "\n",
       "<mark>K. Jahnke</mark>\n",
       "\n",
       "</div>\n",
       "<div id=\"abstract\">\n",
       "\n",
       "**Abstract:** We combine stellar mass functions and the recent first JWST-based galaxy--black hole scaling relations at $z=6$ to for the first time compute the supermassive black hole (SMBH) mass volume density at this epoch, and compare this to the integrated SMBH mass growth from the population of UV-luminous quasars at $z>6$ .We show that even under very conservative assumptions almost all growth of supermassive black hole mass at $z>6$ does not take place in these UV-luminous quasars, but must occur in systems obscured through dust and/or with lower radiative efficiency than standard thin accretion disks.The `Sołtan argument' is not fulfilled  by the known population of bright quasars at $z>6$ : the integrated SMBH mass growth inferred from these largely unobscured active galactic nuclei (AGN) in the early Universe is by a factor $\\ge$ 10 smaller than the total black hole mass volume density at $z=6$ .This is valid under a large range of assumption about luminosity and mass functions as well as accretion modes, and is likely still at least a factor $>$ 2 smaller when accounting for the known obscuration fractions at this epoch.The resulting consequences are: $>$ 90 \\% , possibly substantially more, of SMBH-buildup in the early Universe does not take place in luminous unobscured quasar phases, but has to occur in obscured systems, with dust absorbing most of the emitted UV--visible AGN emission, potentially with accretion modes with super-Eddington specific accretion rates. This is consistent with short lifetime arguments for luminous quasar phases from quasar proximity zone studies and clustering. This would remove the empirical need for slow SMBH growth and hence exotic `high-mass seed' black holes at early cosmic time. It also predicts a large population of luminous but very obscured lower-mass quasars at $z>6$ , possibly the JWST `Little Red Dots'. This finding might severe impact on how we will diagnose SMBH growth at $z=7$ --15 in the future.\n",
       "\n",
       "</div>\n",
       "\n",
       "<div id=\"div_fig1\">\n",
       "\n",
       "<img src=\"tmp_2411.03184/./figures/Qlumdensity_V6.png\" alt=\"Fig1\" width=\"100%\"/>\n",
       "\n",
       "**Figure 1. -** Bolometric quasar luminosity volume density for largely unobscured UV-luminous quasars at $z=6$, as function of lower cutoff luminosity for integrating the QLF. Black lines show the values for the S23 QLF, green lines for the M18 QLF. Dashed lines use a constant bolometric correction, solid lines a luminosity-dependent BC. (*fig:lumdensity*)\n",
       "\n",
       "</div>\n",
       "<div id=\"div_fig2\">\n",
       "\n",
       "<img src=\"tmp_2411.03184/./figures/LFevo_V3.png\" alt=\"Fig2\" width=\"100%\"/>\n",
       "\n",
       "**Figure 2. -** Fast evolution of the quasar luminosity function before $z=6$. The curves are normalised to 1 at $z=6$ and show the evolution for three different parameters $k$ as $(1+z)^k$, with values $k=-0.70$(solid line), $k=-0.78$(dashed line), and an extreme $k=-0.5$(dotted) line as a general comparison. The area under the curve is the effective time multiplier to convert the luminosity volume density at $z=6$ into a cumulated emitted energy by quasars from $z=\\infty$ to $z=6$. (*fig:lfevo*)\n",
       "\n",
       "</div>\n",
       "<div id=\"div_fig3\">\n",
       "\n",
       "<img src=\"tmp_2411.03184/./figures/massfuncts_V4.png\" alt=\"Fig3\" width=\"100%\"/>\n",
       "\n",
       "**Figure 3. -** Stellar mass functions (dashed lines) and inferred SMBH mass functions (solid lines). Blue lines refer to the ST21 MF, black lines to the WE24 MF. We note that in both MFs $\\MS$ is only constrained by data out to $\\log($\\MS$m/M_\\odot)\\sim10.6$. While the massive end does not contribute substantially to the total mass, the notable existence of $\\log($\\MBH$m)\\sim9$ quasars at $z=6$ is not at odds with this. (*fig:massfncts*)\n",
       "\n",
       "</div><div id=\"qrcode\"><img src=https://api.qrserver.com/v1/create-qr-code/?size=100x100&data=\"https://arxiv.org/abs/2411.03184\"></div>"
      ],
      "text/plain": [
       "<IPython.core.display.Markdown object>"
      ]
     },
     "metadata": {},
     "output_type": "display_data"
    }
   ],
   "source": [
    "[display(Markdown(k[1])) for k in documents];"
   ]
  },
  {
   "cell_type": "markdown",
   "id": "873873a4",
   "metadata": {
    "papermill": {
     "duration": 0.005526,
     "end_time": "2024-11-06T04:11:49.029589",
     "exception": false,
     "start_time": "2024-11-06T04:11:49.024063",
     "status": "completed"
    },
    "tags": []
   },
   "source": [
    "# Create HTML index"
   ]
  },
  {
   "cell_type": "code",
   "execution_count": 10,
   "id": "cf665672",
   "metadata": {
    "execution": {
     "iopub.execute_input": "2024-11-06T04:11:49.041686Z",
     "iopub.status.busy": "2024-11-06T04:11:49.041296Z",
     "iopub.status.idle": "2024-11-06T04:11:49.049067Z",
     "shell.execute_reply": "2024-11-06T04:11:49.048460Z"
    },
    "papermill": {
     "duration": 0.015034,
     "end_time": "2024-11-06T04:11:49.050144",
     "exception": false,
     "start_time": "2024-11-06T04:11:49.035110",
     "status": "completed"
    },
    "tags": []
   },
   "outputs": [
    {
     "name": "stdout",
     "output_type": "stream",
     "text": [
      "242  publications files modified in the last 7 days.\n"
     ]
    }
   ],
   "source": [
    "from datetime import datetime, timedelta, timezone\n",
    "from glob import glob\n",
    "import os\n",
    "\n",
    "files = glob('_build/html/*.md')\n",
    "days = 7\n",
    "now = datetime.today()\n",
    "res = []\n",
    "for fk in files:\n",
    "    stat_result = os.stat(fk).st_ctime\n",
    "    modified = datetime.fromtimestamp(stat_result, tz=timezone.utc).replace(tzinfo=None)\n",
    "    delta = now.today() - modified\n",
    "    if delta <= timedelta(days=days):\n",
    "        res.append((delta.seconds, fk))\n",
    "res = [k[1] for k in reversed(sorted(res, key=lambda x:x[1]))]\n",
    "npub = len(res)\n",
    "print(len(res), f\" publications files modified in the last {days:d} days.\")\n",
    "# [ print('\\t', k) for k in res ];"
   ]
  },
  {
   "cell_type": "code",
   "execution_count": 11,
   "id": "015de740",
   "metadata": {
    "execution": {
     "iopub.execute_input": "2024-11-06T04:11:49.062308Z",
     "iopub.status.busy": "2024-11-06T04:11:49.062005Z",
     "iopub.status.idle": "2024-11-06T04:11:49.078223Z",
     "shell.execute_reply": "2024-11-06T04:11:49.077678Z"
    },
    "papermill": {
     "duration": 0.023343,
     "end_time": "2024-11-06T04:11:49.079194",
     "exception": false,
     "start_time": "2024-11-06T04:11:49.055851",
     "status": "completed"
    },
    "tags": []
   },
   "outputs": [
    {
     "name": "stdout",
     "output_type": "stream",
     "text": [
      "11  publications in the last 7 days.\n"
     ]
    }
   ],
   "source": [
    "import datetime\n",
    "from glob import glob\n",
    "\n",
    "def get_last_n_days(lst, days=1):\n",
    "    \"\"\" Get the documents from the last n days \"\"\"\n",
    "    sorted_lst = sorted(lst, key=lambda x: x[1], reverse=True)\n",
    "    for fname, date in sorted_lst:\n",
    "        if date >= str(datetime.date.today() - datetime.timedelta(days=days)):\n",
    "            yield fname\n",
    "\n",
    "def extract_appearance_dates(lst_file):\n",
    "    dates = []\n",
    "\n",
    "    def get_date(line):\n",
    "        return line\\\n",
    "            .split('Appeared on:')[-1]\\\n",
    "            .split('</mark>')[0].strip()\n",
    "\n",
    "    for fname in lst:\n",
    "        with open(fname, 'r') as f:\n",
    "            found_date = False\n",
    "            for line in f:\n",
    "                if not found_date:\n",
    "                    if \"Appeared on\" in line:\n",
    "                        found_date = True\n",
    "                        dates.append((fname, get_date(line)))\n",
    "                else:\n",
    "                    break\n",
    "    return dates\n",
    "\n",
    "from glob import glob\n",
    "lst = glob('_build/html/*md')\n",
    "days = 7\n",
    "dates = extract_appearance_dates(lst)\n",
    "res = list(get_last_n_days(dates, days))\n",
    "npub = len(res)\n",
    "print(len(res), f\" publications in the last {days:d} days.\")"
   ]
  },
  {
   "cell_type": "code",
   "execution_count": 12,
   "id": "52ca0208",
   "metadata": {
    "execution": {
     "iopub.execute_input": "2024-11-06T04:11:49.091798Z",
     "iopub.status.busy": "2024-11-06T04:11:49.091384Z",
     "iopub.status.idle": "2024-11-06T04:11:49.096069Z",
     "shell.execute_reply": "2024-11-06T04:11:49.095550Z"
    },
    "papermill": {
     "duration": 0.012152,
     "end_time": "2024-11-06T04:11:49.097073",
     "exception": false,
     "start_time": "2024-11-06T04:11:49.084921",
     "status": "completed"
    },
    "scrolled": false,
    "tags": []
   },
   "outputs": [],
   "source": [
    "def create_carousel(npub=4):\n",
    "    \"\"\" Generate the HTML code for a carousel with `npub` slides \"\"\"\n",
    "    carousel = [\"\"\"  <div class=\"carousel\" \"\"\",\n",
    "                \"\"\"       data-flickity='{ \"autoPlay\": 10000, \"adaptiveHeight\": true, \"resize\": true, \"wrapAround\": true, \"pauseAutoPlayOnHover\": true, \"groupCells\": 1 }' id=\"asyncTypeset\">\"\"\"\n",
    "                ]\n",
    "    \n",
    "    item_str = \"\"\"    <div class=\"carousel-cell\"> <div id=\"slide{k}\" class=\"md_view\">Content {k}</div> </div>\"\"\"\n",
    "    for k in range(1, npub + 1):\n",
    "        carousel.append(item_str.format(k=k))\n",
    "    carousel.append(\"  </div>\")\n",
    "    return '\\n'.join(carousel)\n",
    "\n",
    "def create_grid(npub=4):\n",
    "    \"\"\" Generate the HTML code for a flat grid with `npub` slides \"\"\"\n",
    "    grid = [\"\"\"  <div class=\"grid\"> \"\"\",\n",
    "                ]\n",
    "    \n",
    "    item_str = \"\"\"    <div class=\"grid-item\"> <div id=\"slide{k}\" class=\"md_view\">Content {k}</div> </div>\"\"\"\n",
    "    for k in range(1, npub + 1):\n",
    "        grid.append(item_str.format(k=k))\n",
    "    grid.append(\"  </div>\")\n",
    "    return '\\n'.join(grid)"
   ]
  },
  {
   "cell_type": "code",
   "execution_count": 13,
   "id": "a6eac5b6",
   "metadata": {
    "execution": {
     "iopub.execute_input": "2024-11-06T04:11:49.109633Z",
     "iopub.status.busy": "2024-11-06T04:11:49.109231Z",
     "iopub.status.idle": "2024-11-06T04:11:49.114106Z",
     "shell.execute_reply": "2024-11-06T04:11:49.113577Z"
    },
    "papermill": {
     "duration": 0.012202,
     "end_time": "2024-11-06T04:11:49.115056",
     "exception": false,
     "start_time": "2024-11-06T04:11:49.102854",
     "status": "completed"
    },
    "scrolled": false,
    "tags": []
   },
   "outputs": [],
   "source": [
    "carousel = create_carousel(npub)\n",
    "docs = ', '.join(['\"{0:s}\"'.format(k.split('/')[-1]) for k in res])\n",
    "slides = ', '.join([f'\"slide{k}\"' for k in range(1, npub + 1)])\n",
    "\n",
    "with open(\"daily_template.html\", \"r\") as tpl:\n",
    "    page = tpl.read()\n",
    "    page = page.replace(\"{%-- carousel:s --%}\", carousel)\\\n",
    "               .replace(\"{%-- suptitle:s --%}\",  \"7-day archives\" )\\\n",
    "               .replace(\"{%-- docs:s --%}\", docs)\\\n",
    "               .replace(\"{%-- slides:s --%}\", slides)\n",
    "    \n",
    "with open(\"_build/html/index_7days.html\", 'w') as fout:\n",
    "    fout.write(page)"
   ]
  },
  {
   "cell_type": "code",
   "execution_count": 14,
   "id": "adc1a1ec",
   "metadata": {
    "execution": {
     "iopub.execute_input": "2024-11-06T04:11:49.127718Z",
     "iopub.status.busy": "2024-11-06T04:11:49.127242Z",
     "iopub.status.idle": "2024-11-06T04:11:49.133553Z",
     "shell.execute_reply": "2024-11-06T04:11:49.133006Z"
    },
    "papermill": {
     "duration": 0.013647,
     "end_time": "2024-11-06T04:11:49.134487",
     "exception": false,
     "start_time": "2024-11-06T04:11:49.120840",
     "status": "completed"
    },
    "tags": []
   },
   "outputs": [
    {
     "name": "stdout",
     "output_type": "stream",
     "text": [
      "4  publications in the last day.\n"
     ]
    }
   ],
   "source": [
    "# redo for today\n",
    "days = 1\n",
    "res = list(get_last_n_days(dates, days))\n",
    "npub = len(res)\n",
    "print(len(res), f\" publications in the last day.\")\n",
    "\n",
    "carousel = create_carousel(npub)\n",
    "docs = ', '.join(['\"{0:s}\"'.format(k.split('/')[-1]) for k in res])\n",
    "slides = ', '.join([f'\"slide{k}\"' for k in range(1, npub + 1)])\n",
    "\n",
    "with open(\"daily_template.html\", \"r\") as tpl:\n",
    "    page = tpl.read()\n",
    "    page = page.replace(\"{%-- carousel:s --%}\", carousel)\\\n",
    "               .replace(\"{%-- suptitle:s --%}\",  \"Daily\" )\\\n",
    "               .replace(\"{%-- docs:s --%}\", docs)\\\n",
    "               .replace(\"{%-- slides:s --%}\", slides)\n",
    "    \n",
    "# print(carousel, docs, slides)\n",
    "# print(page)\n",
    "with open(\"_build/html/index_daily.html\", 'w') as fout:\n",
    "    fout.write(page)"
   ]
  },
  {
   "cell_type": "code",
   "execution_count": 15,
   "id": "00eece82",
   "metadata": {
    "execution": {
     "iopub.execute_input": "2024-11-06T04:11:49.147181Z",
     "iopub.status.busy": "2024-11-06T04:11:49.146816Z",
     "iopub.status.idle": "2024-11-06T04:11:49.152889Z",
     "shell.execute_reply": "2024-11-06T04:11:49.152366Z"
    },
    "papermill": {
     "duration": 0.013448,
     "end_time": "2024-11-06T04:11:49.153881",
     "exception": false,
     "start_time": "2024-11-06T04:11:49.140433",
     "status": "completed"
    },
    "scrolled": false,
    "tags": []
   },
   "outputs": [
    {
     "name": "stdout",
     "output_type": "stream",
     "text": [
      "6  6 publications selected.\n"
     ]
    }
   ],
   "source": [
    "# Create the flat grid of the last N papers (fixed number regardless of dates)\n",
    "from itertools import islice \n",
    "\n",
    "npub = 6\n",
    "res = [k[0] for k in (islice(reversed(sorted(dates, key=lambda x: x[1])), 6))]\n",
    "print(len(res), f\" {npub} publications selected.\")\n",
    "\n",
    "grid = create_grid(npub)\n",
    "docs = ', '.join(['\"{0:s}\"'.format(k.split('/')[-1]) for k in res])\n",
    "slides = ', '.join([f'\"slide{k}\"' for k in range(1, npub + 1)])\n",
    "\n",
    "with open(\"grid_template.html\", \"r\") as tpl:\n",
    "    page = tpl.read()\n",
    "    page = page.replace(\"{%-- grid-content:s --%}\", grid)\\\n",
    "               .replace(\"{%-- suptitle:s --%}\",  f\"Last {npub:,d} papers\" )\\\n",
    "               .replace(\"{%-- docs:s --%}\", docs)\\\n",
    "               .replace(\"{%-- slides:s --%}\", slides)\n",
    "    \n",
    "# print(grid, docs, slides)\n",
    "# print(page)\n",
    "with open(\"_build/html/index_npub_grid.html\", 'w') as fout:\n",
    "    fout.write(page)"
   ]
  }
 ],
 "metadata": {
  "kernelspec": {
   "display_name": "Python 3 (ipykernel)",
   "language": "python",
   "name": "python3"
  },
  "language_info": {
   "codemirror_mode": {
    "name": "ipython",
    "version": 3
   },
   "file_extension": ".py",
   "mimetype": "text/x-python",
   "name": "python",
   "nbconvert_exporter": "python",
   "pygments_lexer": "ipython3",
   "version": "3.9.20"
  },
  "papermill": {
   "default_parameters": {},
   "duration": 78.181146,
   "end_time": "2024-11-06T04:11:49.375796",
   "environment_variables": {},
   "exception": null,
   "input_path": "MPIA daily digest.ipynb",
   "output_path": "log.ipynb",
   "parameters": {},
   "start_time": "2024-11-06T04:10:31.194650",
   "version": "2.6.0"
  },
  "vscode": {
   "interpreter": {
    "hash": "aee8b7b246df8f9039afb4144a1f6fd8d2ca17a180786b69acc140d282b71a49"
   }
  },
  "widgets": {
   "application/vnd.jupyter.widget-state+json": {
    "state": {
     "2337225f797045dbb588196b60febc97": {
      "model_module": "@jupyter-widgets/base",
      "model_module_version": "2.0.0",
      "model_name": "LayoutModel",
      "state": {
       "_model_module": "@jupyter-widgets/base",
       "_model_module_version": "2.0.0",
       "_model_name": "LayoutModel",
       "_view_count": null,
       "_view_module": "@jupyter-widgets/base",
       "_view_module_version": "2.0.0",
       "_view_name": "LayoutView",
       "align_content": null,
       "align_items": null,
       "align_self": null,
       "border_bottom": null,
       "border_left": null,
       "border_right": null,
       "border_top": null,
       "bottom": null,
       "display": null,
       "flex": null,
       "flex_flow": null,
       "grid_area": null,
       "grid_auto_columns": null,
       "grid_auto_flow": null,
       "grid_auto_rows": null,
       "grid_column": null,
       "grid_gap": null,
       "grid_row": null,
       "grid_template_areas": null,
       "grid_template_columns": null,
       "grid_template_rows": null,
       "height": null,
       "justify_content": null,
       "justify_items": null,
       "left": null,
       "margin": null,
       "max_height": null,
       "max_width": null,
       "min_height": null,
       "min_width": null,
       "object_fit": null,
       "object_position": null,
       "order": null,
       "overflow": null,
       "padding": null,
       "right": null,
       "top": null,
       "visibility": null,
       "width": null
      }
     },
     "234529bf1cc143038b84de318f5dc199": {
      "model_module": "@jupyter-widgets/controls",
      "model_module_version": "2.0.0",
      "model_name": "FloatProgressModel",
      "state": {
       "_dom_classes": [],
       "_model_module": "@jupyter-widgets/controls",
       "_model_module_version": "2.0.0",
       "_model_name": "FloatProgressModel",
       "_view_count": null,
       "_view_module": "@jupyter-widgets/controls",
       "_view_module_version": "2.0.0",
       "_view_name": "ProgressView",
       "bar_style": "success",
       "description": "",
       "description_allow_html": false,
       "layout": "IPY_MODEL_eeac21fa3b244ea9a53346aa98de0151",
       "max": 6.0,
       "min": 0.0,
       "orientation": "horizontal",
       "style": "IPY_MODEL_7a19717f479c41a4bb1d4f6f32508ab8",
       "tabbable": null,
       "tooltip": null,
       "value": 6.0
      }
     },
     "27a045c5f5fa4b28b2ab39382cabd689": {
      "model_module": "@jupyter-widgets/controls",
      "model_module_version": "2.0.0",
      "model_name": "HTMLModel",
      "state": {
       "_dom_classes": [],
       "_model_module": "@jupyter-widgets/controls",
       "_model_module_version": "2.0.0",
       "_model_name": "HTMLModel",
       "_view_count": null,
       "_view_module": "@jupyter-widgets/controls",
       "_view_module_version": "2.0.0",
       "_view_name": "HTMLView",
       "description": "",
       "description_allow_html": false,
       "layout": "IPY_MODEL_58d4ef1271b24a369673442fa6e989e9",
       "placeholder": "​",
       "style": "IPY_MODEL_d93852c5649542a2ac5f242eba00767c",
       "tabbable": null,
       "tooltip": null,
       "value": " 6/6 [00:58&lt;00:00,  6.28s/it]"
      }
     },
     "58d4ef1271b24a369673442fa6e989e9": {
      "model_module": "@jupyter-widgets/base",
      "model_module_version": "2.0.0",
      "model_name": "LayoutModel",
      "state": {
       "_model_module": "@jupyter-widgets/base",
       "_model_module_version": "2.0.0",
       "_model_name": "LayoutModel",
       "_view_count": null,
       "_view_module": "@jupyter-widgets/base",
       "_view_module_version": "2.0.0",
       "_view_name": "LayoutView",
       "align_content": null,
       "align_items": null,
       "align_self": null,
       "border_bottom": null,
       "border_left": null,
       "border_right": null,
       "border_top": null,
       "bottom": null,
       "display": null,
       "flex": null,
       "flex_flow": null,
       "grid_area": null,
       "grid_auto_columns": null,
       "grid_auto_flow": null,
       "grid_auto_rows": null,
       "grid_column": null,
       "grid_gap": null,
       "grid_row": null,
       "grid_template_areas": null,
       "grid_template_columns": null,
       "grid_template_rows": null,
       "height": null,
       "justify_content": null,
       "justify_items": null,
       "left": null,
       "margin": null,
       "max_height": null,
       "max_width": null,
       "min_height": null,
       "min_width": null,
       "object_fit": null,
       "object_position": null,
       "order": null,
       "overflow": null,
       "padding": null,
       "right": null,
       "top": null,
       "visibility": null,
       "width": null
      }
     },
     "77f36e253c604d1cb134b2a5d447e3fb": {
      "model_module": "@jupyter-widgets/controls",
      "model_module_version": "2.0.0",
      "model_name": "HTMLStyleModel",
      "state": {
       "_model_module": "@jupyter-widgets/controls",
       "_model_module_version": "2.0.0",
       "_model_name": "HTMLStyleModel",
       "_view_count": null,
       "_view_module": "@jupyter-widgets/base",
       "_view_module_version": "2.0.0",
       "_view_name": "StyleView",
       "background": null,
       "description_width": "",
       "font_size": null,
       "text_color": null
      }
     },
     "7a19717f479c41a4bb1d4f6f32508ab8": {
      "model_module": "@jupyter-widgets/controls",
      "model_module_version": "2.0.0",
      "model_name": "ProgressStyleModel",
      "state": {
       "_model_module": "@jupyter-widgets/controls",
       "_model_module_version": "2.0.0",
       "_model_name": "ProgressStyleModel",
       "_view_count": null,
       "_view_module": "@jupyter-widgets/base",
       "_view_module_version": "2.0.0",
       "_view_name": "StyleView",
       "bar_color": null,
       "description_width": ""
      }
     },
     "8e5105ecdf45480794db9ef1e2fb982e": {
      "model_module": "@jupyter-widgets/base",
      "model_module_version": "2.0.0",
      "model_name": "LayoutModel",
      "state": {
       "_model_module": "@jupyter-widgets/base",
       "_model_module_version": "2.0.0",
       "_model_name": "LayoutModel",
       "_view_count": null,
       "_view_module": "@jupyter-widgets/base",
       "_view_module_version": "2.0.0",
       "_view_name": "LayoutView",
       "align_content": null,
       "align_items": null,
       "align_self": null,
       "border_bottom": null,
       "border_left": null,
       "border_right": null,
       "border_top": null,
       "bottom": null,
       "display": null,
       "flex": null,
       "flex_flow": null,
       "grid_area": null,
       "grid_auto_columns": null,
       "grid_auto_flow": null,
       "grid_auto_rows": null,
       "grid_column": null,
       "grid_gap": null,
       "grid_row": null,
       "grid_template_areas": null,
       "grid_template_columns": null,
       "grid_template_rows": null,
       "height": null,
       "justify_content": null,
       "justify_items": null,
       "left": null,
       "margin": null,
       "max_height": null,
       "max_width": null,
       "min_height": null,
       "min_width": null,
       "object_fit": null,
       "object_position": null,
       "order": null,
       "overflow": null,
       "padding": null,
       "right": null,
       "top": null,
       "visibility": null,
       "width": null
      }
     },
     "926922dc227a4cd291119dc5903f7d50": {
      "model_module": "@jupyter-widgets/controls",
      "model_module_version": "2.0.0",
      "model_name": "HTMLModel",
      "state": {
       "_dom_classes": [],
       "_model_module": "@jupyter-widgets/controls",
       "_model_module_version": "2.0.0",
       "_model_name": "HTMLModel",
       "_view_count": null,
       "_view_module": "@jupyter-widgets/controls",
       "_view_module_version": "2.0.0",
       "_view_name": "HTMLView",
       "description": "",
       "description_allow_html": false,
       "layout": "IPY_MODEL_8e5105ecdf45480794db9ef1e2fb982e",
       "placeholder": "​",
       "style": "IPY_MODEL_77f36e253c604d1cb134b2a5d447e3fb",
       "tabbable": null,
       "tooltip": null,
       "value": "100%"
      }
     },
     "c5f9591aaee44322a49a29e06e55e49f": {
      "model_module": "@jupyter-widgets/controls",
      "model_module_version": "2.0.0",
      "model_name": "HBoxModel",
      "state": {
       "_dom_classes": [],
       "_model_module": "@jupyter-widgets/controls",
       "_model_module_version": "2.0.0",
       "_model_name": "HBoxModel",
       "_view_count": null,
       "_view_module": "@jupyter-widgets/controls",
       "_view_module_version": "2.0.0",
       "_view_name": "HBoxView",
       "box_style": "",
       "children": [
        "IPY_MODEL_926922dc227a4cd291119dc5903f7d50",
        "IPY_MODEL_234529bf1cc143038b84de318f5dc199",
        "IPY_MODEL_27a045c5f5fa4b28b2ab39382cabd689"
       ],
       "layout": "IPY_MODEL_2337225f797045dbb588196b60febc97",
       "tabbable": null,
       "tooltip": null
      }
     },
     "d93852c5649542a2ac5f242eba00767c": {
      "model_module": "@jupyter-widgets/controls",
      "model_module_version": "2.0.0",
      "model_name": "HTMLStyleModel",
      "state": {
       "_model_module": "@jupyter-widgets/controls",
       "_model_module_version": "2.0.0",
       "_model_name": "HTMLStyleModel",
       "_view_count": null,
       "_view_module": "@jupyter-widgets/base",
       "_view_module_version": "2.0.0",
       "_view_name": "StyleView",
       "background": null,
       "description_width": "",
       "font_size": null,
       "text_color": null
      }
     },
     "eeac21fa3b244ea9a53346aa98de0151": {
      "model_module": "@jupyter-widgets/base",
      "model_module_version": "2.0.0",
      "model_name": "LayoutModel",
      "state": {
       "_model_module": "@jupyter-widgets/base",
       "_model_module_version": "2.0.0",
       "_model_name": "LayoutModel",
       "_view_count": null,
       "_view_module": "@jupyter-widgets/base",
       "_view_module_version": "2.0.0",
       "_view_name": "LayoutView",
       "align_content": null,
       "align_items": null,
       "align_self": null,
       "border_bottom": null,
       "border_left": null,
       "border_right": null,
       "border_top": null,
       "bottom": null,
       "display": null,
       "flex": null,
       "flex_flow": null,
       "grid_area": null,
       "grid_auto_columns": null,
       "grid_auto_flow": null,
       "grid_auto_rows": null,
       "grid_column": null,
       "grid_gap": null,
       "grid_row": null,
       "grid_template_areas": null,
       "grid_template_columns": null,
       "grid_template_rows": null,
       "height": null,
       "justify_content": null,
       "justify_items": null,
       "left": null,
       "margin": null,
       "max_height": null,
       "max_width": null,
       "min_height": null,
       "min_width": null,
       "object_fit": null,
       "object_position": null,
       "order": null,
       "overflow": null,
       "padding": null,
       "right": null,
       "top": null,
       "visibility": null,
       "width": null
      }
     }
    },
    "version_major": 2,
    "version_minor": 0
   }
  }
 },
 "nbformat": 4,
 "nbformat_minor": 5
}