{
 "cells": [
  {
   "cell_type": "markdown",
   "id": "92bcb855",
   "metadata": {
    "papermill": {
     "duration": 0.003769,
     "end_time": "2025-02-20T04:11:49.622896",
     "exception": false,
     "start_time": "2025-02-20T04:11:49.619127",
     "status": "completed"
    },
    "tags": []
   },
   "source": [
    "# MPIA Arxiv on Deck 2\n",
    "\n",
    "Contains the steps to produce the paper extractions."
   ]
  },
  {
   "cell_type": "code",
   "execution_count": 1,
   "id": "3a0d6e11",
   "metadata": {
    "execution": {
     "iopub.execute_input": "2025-02-20T04:11:49.634123Z",
     "iopub.status.busy": "2025-02-20T04:11:49.633589Z",
     "iopub.status.idle": "2025-02-20T04:11:50.128504Z",
     "shell.execute_reply": "2025-02-20T04:11:50.127766Z"
    },
    "papermill": {
     "duration": 0.501153,
     "end_time": "2025-02-20T04:11:50.129917",
     "exception": false,
     "start_time": "2025-02-20T04:11:49.628764",
     "status": "completed"
    },
    "tags": []
   },
   "outputs": [],
   "source": [
    "# Imports\n",
    "import os\n",
    "from IPython.display import Markdown, display\n",
    "from tqdm.notebook import tqdm\n",
    "import warnings\n",
    "from PIL import Image \n",
    "import re\n",
    "\n",
    "# requires arxiv_on_deck_2\n",
    "\n",
    "from arxiv_on_deck_2.arxiv2 import (get_new_papers, \n",
    "                                    get_paper_from_identifier,\n",
    "                                    retrieve_document_source, \n",
    "                                    get_markdown_badge)\n",
    "from arxiv_on_deck_2 import (latex,\n",
    "                             latex_bib,\n",
    "                             mpia,\n",
    "                             highlight_authors_in_list)\n",
    "\n",
    "# Sometimes images are really big\n",
    "Image.MAX_IMAGE_PIXELS = 1000000000 "
   ]
  },
  {
   "cell_type": "code",
   "execution_count": 2,
   "id": "22aa9d44",
   "metadata": {
    "execution": {
     "iopub.execute_input": "2025-02-20T04:11:50.137679Z",
     "iopub.status.busy": "2025-02-20T04:11:50.137139Z",
     "iopub.status.idle": "2025-02-20T04:11:50.145717Z",
     "shell.execute_reply": "2025-02-20T04:11:50.145174Z"
    },
    "papermill": {
     "duration": 0.013514,
     "end_time": "2025-02-20T04:11:50.146726",
     "exception": false,
     "start_time": "2025-02-20T04:11:50.133212",
     "status": "completed"
    },
    "tags": []
   },
   "outputs": [],
   "source": [
    "# Some useful definitions.\n",
    "\n",
    "class AffiliationWarning(UserWarning):\n",
    "    pass\n",
    "\n",
    "class AffiliationError(RuntimeError):\n",
    "    pass\n",
    "\n",
    "def validation(source: str):\n",
    "    \"\"\"Raises error paper during parsing of source file\n",
    "    \n",
    "    Allows checks before parsing TeX code.\n",
    "    \n",
    "    Raises AffiliationWarning\n",
    "    \"\"\"\n",
    "    check = mpia.affiliation_verifications(source, verbose=True)\n",
    "    if check is not True:\n",
    "        raise AffiliationError(\"mpia.affiliation_verifications: \" + check)\n",
    "\n",
    "        \n",
    "warnings.simplefilter('always', AffiliationWarning)\n",
    "\n",
    "\n",
    "def get_markdown_qrcode(paper_id: str):\n",
    "    \"\"\" Generate a qrcode to the arxiv page using qrserver.com\n",
    "    \n",
    "    :param paper: Arxiv paper\n",
    "    :returns: markdown text\n",
    "    \"\"\"\n",
    "    url = r\"https://api.qrserver.com/v1/create-qr-code/?size=100x100&data=\"\n",
    "    txt = f\"\"\"<img src={url}\"https://arxiv.org/abs/{paper_id}\">\"\"\"\n",
    "    txt = '<div id=\"qrcode\">' + txt + '</div>'\n",
    "    return txt\n",
    "\n",
    "\n",
    "def clean_non_western_encoded_characters_commands(text: str) -> str:\n",
    "    \"\"\" Remove non-western encoded characters from a string\n",
    "    List may need to grow.\n",
    "    \n",
    "    :param text: the text to clean\n",
    "    :return: the cleaned text\n",
    "    \"\"\"\n",
    "    text = re.sub(r\"(\\\\begin{CJK}{UTF8}{gbsn})(.*?)(\\\\end{CJK})\", r\"\\2\", text)\n",
    "    return text\n",
    "\n",
    "\n",
    "def get_initials(name: str) -> str:\n",
    "    \"\"\" Get the short name, e.g., A.-B. FamName\n",
    "    :param name: full name\n",
    "    :returns: initials\n",
    "    \"\"\"\n",
    "    initials = []\n",
    "    # account for non western names often in ()\n",
    "    if '(' in name:\n",
    "        name = clean_non_western_encoded_characters_commands(name)\n",
    "        suffix = re.findall(r\"\\((.*?)\\)\", name)[0]\n",
    "        name = name.replace(f\"({suffix})\", '')\n",
    "    else:\n",
    "        suffix = ''\n",
    "    split = name.split()\n",
    "    for token in split[:-1]:\n",
    "        if '-' in token:\n",
    "            current = '-'.join([k[0] + '.' for k in token.split('-')])\n",
    "        else:\n",
    "            current = token[0] + '.'\n",
    "        initials.append(current)\n",
    "    initials.append(split[-1].strip())\n",
    "    if suffix:\n",
    "        initials.append(f\"({suffix})\")\n",
    "    return ' '.join(initials)"
   ]
  },
  {
   "cell_type": "markdown",
   "id": "14bd6310",
   "metadata": {
    "papermill": {
     "duration": 0.002975,
     "end_time": "2025-02-20T04:11:50.152838",
     "exception": false,
     "start_time": "2025-02-20T04:11:50.149863",
     "status": "completed"
    },
    "tags": []
   },
   "source": [
    "## get list of arxiv paper candidates\n",
    "\n",
    "We use the MPIA mitarbeiter list webpage from mpia.de to get author names\n",
    "We then get all new papers from Arxiv and match authors"
   ]
  },
  {
   "cell_type": "code",
   "execution_count": 3,
   "id": "7ea813a8",
   "metadata": {
    "execution": {
     "iopub.execute_input": "2025-02-20T04:11:50.160229Z",
     "iopub.status.busy": "2025-02-20T04:11:50.159694Z",
     "iopub.status.idle": "2025-02-20T04:12:11.423565Z",
     "shell.execute_reply": "2025-02-20T04:12:11.422844Z"
    },
    "papermill": {
     "duration": 21.269193,
     "end_time": "2025-02-20T04:12:11.425005",
     "exception": false,
     "start_time": "2025-02-20T04:11:50.155812",
     "status": "completed"
    },
    "tags": []
   },
   "outputs": [],
   "source": [
    "# deal with the author list and edge cases of people that cannot be consistent on their name  \n",
    "\n",
    "def filter_non_scientists(name: str) -> bool:\n",
    "    \"\"\" Loose filter on expected authorships\n",
    "\n",
    "    removing IT, administration, technical staff\n",
    "    :param name: name\n",
    "    :returns: False if name is not a scientist\n",
    "    \"\"\"\n",
    "    remove_list = ['Licht', 'Binroth', 'Witzel', 'Jordan',\n",
    "                   'Zähringer', 'Scheerer', 'Hoffmann', 'Düe',\n",
    "                   'Hellmich', 'Enkler-Scharpegge', 'Witte-Nguy',\n",
    "                   'Dehen', 'Beckmann', 'Jager', 'Jäger'\n",
    "                  ]\n",
    "\n",
    "    for k in remove_list:\n",
    "        if k in name:\n",
    "            return False\n",
    "    return True\n",
    "\n",
    "def add_author_to_list(author_list: list) -> list:\n",
    "    \"\"\" Add author to list if not already in list\n",
    "    \n",
    "    :param author: author name\n",
    "    :param author_list: list of authors\n",
    "    :returns: updated list of authors\n",
    "    \"\"\"\n",
    "    add_list = ['T. Henning']\n",
    "\n",
    "    for author in add_list:\n",
    "        if author not in author_list:\n",
    "            author_list.append(author)\n",
    "    return author_list\n",
    "\n",
    "# get list from MPIA website\n",
    "# filter for non-scientists (mpia.get_mpia_mitarbeiter_list() does some filtering)\n",
    "mpia_authors = [k[1] for k in mpia.get_mpia_mitarbeiter_list() if filter_non_scientists(k[1])]\n",
    "# add some missing author because of inconsistencies in their MPIA name and author name on papers\n",
    "mpia_authors = add_author_to_list(mpia_authors)"
   ]
  },
  {
   "cell_type": "code",
   "execution_count": 4,
   "id": "2645e73a",
   "metadata": {
    "execution": {
     "iopub.execute_input": "2025-02-20T04:12:11.432640Z",
     "iopub.status.busy": "2025-02-20T04:12:11.432209Z",
     "iopub.status.idle": "2025-02-20T04:12:11.889247Z",
     "shell.execute_reply": "2025-02-20T04:12:11.888489Z"
    },
    "papermill": {
     "duration": 0.462005,
     "end_time": "2025-02-20T04:12:11.890405",
     "exception": false,
     "start_time": "2025-02-20T04:12:11.428400",
     "status": "completed"
    },
    "tags": []
   },
   "outputs": [
    {
     "name": "stdout",
     "output_type": "stream",
     "text": [
      "A. Pillepich  ->  A. Pillepich  |  ['A. Pillepich']\n",
      "P. Mollière  ->  P. Mollière  |  ['P. Mollière']\n",
      "M. Samland  ->  M. Samland  |  ['M. Samland']\n",
      "T. Henning  ->  T. Henning  |  ['T. Henning']\n",
      "J. Liu  ->  J. Liu  |  ['J. Liu']\n",
      "H. Beuther  ->  H. Beuther  |  ['H. Beuther']\n",
      "Arxiv has 51 new papers today\n",
      "          4 with possible author matches\n"
     ]
    }
   ],
   "source": [
    "new_papers = get_new_papers()\n",
    "# add manual references\n",
    "add_paper_refs = []\n",
    "new_papers.extend([get_paper_from_identifier(k) for k in add_paper_refs])\n",
    "\n",
    "def robust_call(fn, value, *args, **kwargs):\n",
    "    try:\n",
    "        return fn(value, *args, **kwargs)\n",
    "    except Exception:\n",
    "        return value\n",
    "\n",
    "candidates = []\n",
    "for paperk in new_papers:\n",
    "    # Check author list with their initials\n",
    "    normed_author_list = [robust_call(mpia.get_initials, k) for k in paperk['authors']]\n",
    "    hl_authors = highlight_authors_in_list(normed_author_list, mpia_authors, verbose=True)\n",
    "    matches = [(hl, orig) for hl, orig in zip(hl_authors, paperk['authors']) if 'mark' in hl]\n",
    "    paperk['authors'] = hl_authors\n",
    "    if matches:\n",
    "        # only select paper if an author matched our list\n",
    "        candidates.append(paperk)\n",
    "print(\"\"\"Arxiv has {0:,d} new papers today\"\"\".format(len(new_papers)))        \n",
    "print(\"\"\"          {0:,d} with possible author matches\"\"\".format(len(candidates)))"
   ]
  },
  {
   "cell_type": "markdown",
   "id": "3543b34a",
   "metadata": {
    "papermill": {
     "duration": 0.003046,
     "end_time": "2025-02-20T04:12:11.896955",
     "exception": false,
     "start_time": "2025-02-20T04:12:11.893909",
     "status": "completed"
    },
    "tags": []
   },
   "source": [
    "# Parse sources and generate relevant outputs\n",
    "\n",
    "From the candidates, we do the following steps:\n",
    "* get their tarball from ArXiv (and extract data)\n",
    "* find the main .tex file: find one with \\documentclass{...} (sometimes it's non trivial)\n",
    "* Check affiliations with :func:`validation`, which uses :func:`mpia.affiliation_verifications`\n",
    "* If passing the affiliations: we parse the .tex source\n",
    "   * inject sub-documents into the main (flatten the main document)\n",
    "   * parse structure, extract information (title, abstract, authors, figures...)\n",
    "   * handles `\\graphicspath` if provided\n",
    "* Generate the .md document."
   ]
  },
  {
   "cell_type": "code",
   "execution_count": 5,
   "id": "9576b79e",
   "metadata": {
    "execution": {
     "iopub.execute_input": "2025-02-20T04:12:11.904265Z",
     "iopub.status.busy": "2025-02-20T04:12:11.903967Z",
     "iopub.status.idle": "2025-02-20T04:13:01.289125Z",
     "shell.execute_reply": "2025-02-20T04:13:01.288284Z"
    },
    "papermill": {
     "duration": 49.390352,
     "end_time": "2025-02-20T04:13:01.290377",
     "exception": false,
     "start_time": "2025-02-20T04:12:11.900025",
     "status": "completed"
    },
    "scrolled": false,
    "tags": []
   },
   "outputs": [
    {
     "data": {
      "application/vnd.jupyter.widget-view+json": {
       "model_id": "34227527aa974261a719c94369351ee4",
       "version_major": 2,
       "version_minor": 0
      },
      "text/plain": [
       "  0%|          | 0/4 [00:00<?, ?it/s]"
      ]
     },
     "metadata": {},
     "output_type": "display_data"
    },
    {
     "name": "stdout",
     "output_type": "stream",
     "text": [
      "Retrieving document from  https://arxiv.org/e-print/2502.13216\n"
     ]
    },
    {
     "name": "stdout",
     "output_type": "stream",
     "text": [
      "extracting tarball to tmp_2502.13216..."
     ]
    },
    {
     "name": "stdout",
     "output_type": "stream",
     "text": [
      " done.\n"
     ]
    },
    {
     "name": "stdout",
     "output_type": "stream",
     "text": [
      "Found 72 bibliographic references in tmp_2502.13216/main.bbl.\n",
      "Retrieving document from  https://arxiv.org/e-print/2502.13610\n"
     ]
    },
    {
     "name": "stdout",
     "output_type": "stream",
     "text": [
      "extracting tarball to tmp_2502.13610..."
     ]
    },
    {
     "name": "stdout",
     "output_type": "stream",
     "text": [
      " done.\n"
     ]
    },
    {
     "name": "stdout",
     "output_type": "stream",
     "text": [
      "P. Mollière  ->  P. Mollière  |  ['P. Mollière']\n",
      "M. Samland  ->  M. Samland  |  ['M. Samland']\n",
      "T. Henning  ->  T. Henning  |  ['T. Henning']\n"
     ]
    },
    {
     "name": "stdout",
     "output_type": "stream",
     "text": [
      "Found 90 bibliographic references in tmp_2502.13610/main.bbl.\n",
      "Retrieving document from  https://arxiv.org/e-print/2502.13644\n"
     ]
    },
    {
     "name": "stdout",
     "output_type": "stream",
     "text": [
      "extracting tarball to tmp_2502.13644..."
     ]
    },
    {
     "name": "stdout",
     "output_type": "stream",
     "text": [
      " done.\n",
      "Retrieving document from  https://arxiv.org/e-print/2502.13866\n"
     ]
    },
    {
     "name": "stdout",
     "output_type": "stream",
     "text": [
      "extracting tarball to tmp_2502.13866... done.\n"
     ]
    },
    {
     "name": "stdout",
     "output_type": "stream",
     "text": [
      "Issues with the citations\n",
      "list index out of range\n"
     ]
    }
   ],
   "source": [
    "documents = []\n",
    "failed = []\n",
    "for paper in tqdm(candidates):\n",
    "    # debug crap\n",
    "    paper['identifier'] = paper['identifier'].lower().replace('arxiv:', '').replace(r'\\n', '').strip()\n",
    "    paper_id = paper['identifier']\n",
    "    \n",
    "    folder = f'tmp_{paper_id}'\n",
    "\n",
    "    try:\n",
    "        if not os.path.isdir(folder):\n",
    "            folder = retrieve_document_source(f\"{paper_id}\", f'tmp_{paper_id}')\n",
    "        \n",
    "        try:\n",
    "            doc = latex.LatexDocument(folder, validation=validation)    \n",
    "        except AffiliationError as affilerror:\n",
    "            msg = f\"ArXiv:{paper_id:s} is not an MPIA paper... \" + str(affilerror)\n",
    "            failed.append((paper, \"affiliation error: \" + str(affilerror) ))\n",
    "            continue\n",
    "        \n",
    "        # Hack because sometimes author parsing does not work well\n",
    "        if (len(doc.authors) != len(paper['authors'])):\n",
    "            doc._authors = paper['authors']\n",
    "        else:\n",
    "            # highlight authors (FIXME: doc.highlight_authors)\n",
    "            # done on arxiv paper already\n",
    "            doc._authors = highlight_authors_in_list(\n",
    "                [get_initials(k) for k in doc.authors], \n",
    "                mpia_authors, verbose=True)\n",
    "        if (doc.abstract) in (None, ''):\n",
    "            doc._abstract = paper['abstract']\n",
    "            \n",
    "        doc.comment = (get_markdown_badge(paper_id) + \n",
    "                       \"<mark>Appeared on: \" + paper['date'] + \"</mark> - \")\n",
    "        if paper['comments']:\n",
    "            doc.comment += \" _\" + paper['comments'] + \"_\"\n",
    "        \n",
    "        full_md = doc.generate_markdown_text()\n",
    "        \n",
    "        full_md += get_markdown_qrcode(paper_id)\n",
    "        \n",
    "        # replace citations\n",
    "        try:\n",
    "            bibdata = latex_bib.LatexBib.from_doc(doc)\n",
    "            full_md = latex_bib.replace_citations(full_md, bibdata)\n",
    "        except Exception as e:\n",
    "            print(\"Issues with the citations\")\n",
    "            print(e)\n",
    "        \n",
    "        documents.append((paper_id, full_md))\n",
    "    except Exception as e:\n",
    "        warnings.warn(latex.LatexWarning(f\"{paper_id:s} did not run properly\\n\" +\n",
    "                                         str(e)\n",
    "                                        ))\n",
    "        failed.append((paper, \"latex error \" + str(e)))"
   ]
  },
  {
   "cell_type": "markdown",
   "id": "2505a25c",
   "metadata": {
    "papermill": {
     "duration": 0.003775,
     "end_time": "2025-02-20T04:13:01.298403",
     "exception": false,
     "start_time": "2025-02-20T04:13:01.294628",
     "status": "completed"
    },
    "tags": []
   },
   "source": [
    "### Export the logs\n",
    "\n",
    "Throughout, we also keep track of the logs per paper. see `logs-{today date}.md` "
   ]
  },
  {
   "cell_type": "code",
   "execution_count": 6,
   "id": "d733828a",
   "metadata": {
    "execution": {
     "iopub.execute_input": "2025-02-20T04:13:01.307602Z",
     "iopub.status.busy": "2025-02-20T04:13:01.306943Z",
     "iopub.status.idle": "2025-02-20T04:13:01.322423Z",
     "shell.execute_reply": "2025-02-20T04:13:01.321851Z"
    },
    "papermill": {
     "duration": 0.021191,
     "end_time": "2025-02-20T04:13:01.323416",
     "exception": false,
     "start_time": "2025-02-20T04:13:01.302225",
     "status": "completed"
    },
    "scrolled": false,
    "tags": []
   },
   "outputs": [
    {
     "data": {
      "text/markdown": [
       "## Successful papers"
      ],
      "text/plain": [
       "<IPython.core.display.Markdown object>"
      ]
     },
     "metadata": {},
     "output_type": "display_data"
    },
    {
     "data": {
      "text/markdown": [
       "\n",
       "|||\n",
       "|---:|:---|\n",
       "| [![arXiv](https://img.shields.io/badge/arXiv-2502.13216-b31b1b.svg)](https://arxiv.org/abs/2502.13216) | **Robust machine learning model of inferring the ex-situ stellar fraction of galaxies from photometric data**  |\n",
       "|| R. Cai, et al. -- incl., <mark>A. Pillepich</mark> |\n",
       "|*Appeared on*| *2025-02-20*|\n",
       "|*Comments*| *Accepted in A&A*|\n",
       "|**Abstract**|            We search for parameters defined from photometric images to quantify the ex situ stellar mass fraction of galaxies. We created mock images using galaxies in the cosmological hydrodynamical simulations TNG100, EAGLE, and TNG50 at redshift $z=0$. We define a series of parameters describing their structures. In particular, the inner and outer halo of a galaxy are defined by sectors ranging from $45-135$ degrees from the disk major axis, and with radii ranging from $3.5-10$ kpc and $10-30$ kpc, respectively, to avoid the contamination of disk and bulge. The surface brightness and colour gradients are defined by the same sectors along the minor axis and with similar radii ranges. We used the Random Forest method to create a model that predicts $f_{\\rm exsitu}$ from morphological parameters. The model predicts $f_{\\rm exsitu}$ well with a scatter smaller than 0.1 compared to the ground truth in all mass ranges. The models trained from TNG100 and EAGLE work similarly well and are cross-validated; they also work well in making predictions for TNG50 galaxies. The analysis using Random Forest reveals that $\\nabla \\rho_{\\rm outer}$, $\\nabla (g-r)_{\\rm outer}$, $f_{\\rm outerhalo}$ and $f_{\\rm innerhalo}$ are the most influential parameters in predicting $f_{\\rm exsitu}$, underscoring their significance in uncovering the merging history of galaxies. We further analyse how the quality of images will affect the results by using SDSS-like and HSC-like mock images for galaxies at different distances. Our results can be used to infer the ex situ stellar mass fractions for a large sample of galaxies from photometric surveys.         |"
      ],
      "text/plain": [
       "[2502.13216] Robust machine learning model of inferring the ex-situ stellar fraction of galaxies from photometric data\n",
       "\tR. Cai, et al. -- incl., <mark>A. Pillepich</mark>"
      ]
     },
     "metadata": {},
     "output_type": "display_data"
    },
    {
     "data": {
      "text/markdown": [
       "\n",
       "|||\n",
       "|---:|:---|\n",
       "| [![arXiv](https://img.shields.io/badge/arXiv-2502.13610-b31b1b.svg)](https://arxiv.org/abs/2502.13610) | **HCN and C2H2 in the atmosphere of a T8.5+T9 brown dwarf binary**  |\n",
       "|| E. C. Matthews, et al. -- incl., <mark>P. Mollière</mark>, <mark>M. Samland</mark>, <mark>T. Henning</mark> |\n",
       "|*Appeared on*| *2025-02-20*|\n",
       "|*Comments*| *Accepted for publication in The Astrophysical Journal Letters. 13 pages (5 figures) + appendices*|\n",
       "|**Abstract**|            T-type brown dwarfs present an opportunity to explore atmospheres teeming with molecules such as H2O, CH4 and NH3, which exhibit a wealth of absorption features in the mid-infrared. With JWST, we can finally explore this chemistry in detail, including for the coldest brown dwarfs that were not yet discovered in the Spitzer era. This allows precise derivations of the molecular abundances, which in turn informs our understanding of vertical transport in these atmospheres and can provide clues about the formation of cold brown dwarfs and exoplanets. This study presents the first JWST/MRS mid-IR spectrum (R ~ 1500-3000) of a T-dwarf: the T8.5+T9 brown dwarf binary WISE J045853.90+643451.9. We fit the spectrum using a parameterized P-T profile and free molecular abundances (i.e., a retrieval analysis), treating the binary as unresolved. We find a good fit with a cloud-free atmosphere and identify H2O, CH4 and NH3 features. Moreover, we make the first detections of HCN and C2H2 (at 13.4$\\sigma$ and 9.5$\\sigma$ respectively) in any brown dwarf atmosphere. The detection of HCN suggests intense vertical mixing ($K_{zz}\\sim10^{11}$cm$^2$s$^{-1}$), challenging previous literature derivations of $K_{zz}$ values for T-type brown dwarfs. Even more surprising is the C2H2 detection, which cannot be explained with existing atmospheric models for isolated objects. This result challenges model assumptions about vertical mixing, and/or our understanding of the C2H2 chemical network, or might hint towards a more complex atmospheric processes such as magnetic fields driving aurorae, or lightning driving ionization. These findings open a new frontier in studying carbon chemistry within brown dwarf atmospheres.         |"
      ],
      "text/plain": [
       "[2502.13610] HCN and C2H2 in the atmosphere of a T8.5+T9 brown dwarf binary\n",
       "\tE. C. Matthews, et al. -- incl., <mark>P. Mollière</mark>, <mark>M. Samland</mark>, <mark>T. Henning</mark>"
      ]
     },
     "metadata": {},
     "output_type": "display_data"
    },
    {
     "data": {
      "text/markdown": [
       "\n",
       "|||\n",
       "|---:|:---|\n",
       "| [![arXiv](https://img.shields.io/badge/arXiv-2502.13866-b31b1b.svg)](https://arxiv.org/abs/2502.13866) | **Hierarchical accretion flow from the G351 infrared dark filament to its central cores**  |\n",
       "|| <mark>H. Beuther</mark>, et al. |\n",
       "|*Appeared on*| *2025-02-20*|\n",
       "|*Comments*| *7 pages, 4 figures, accepted for Astronomy & Astrophysics*|\n",
       "|**Abstract**|            Aims: We characterize and quantify this multi-scale flow for a prototypical high-mass star-forming region. Methods: In a multi-scale analysis from parsec to ~50au scales, we combined multiple single-dish and interferometric observations to study the gas flow from large-scale sizes of several parsec (Mopra) via intermediate-scale filamentary gas flows (ALMA-IMF) to the central cores (ALMA DIHCA and configuration 10 data). The highest-resolution multi-configuration ALMA dataset achieved a spatial resolution of 0.027''x0.022'' or 50au. Results: This multi-scale study allows us to follow the gas from the environment of the high-mass star-forming region (~2pc) via intermediate-scale (~0.25pc) filamentary gas flows down to the innermost cores within the central few 1000au. The intermediate-scale filaments connect spatially and kinematically to the larger-scale cloud as well as the innermost cores. We estimate a filamentary mass inflow rate around 10^-3M_sun/yr, feeding into the central region that hosts at least a dozen mm cores. While the flow from the cloud via the filaments down to 10^4au appears relatively ordered, within the central 10^4au the kinematic structures become much more complicated and disordered. We speculate that this is caused by the interplay of the converging infalling gas with feedback processes from the forming central protostars. Conclusions: This multi-scale study characterises and quantifies the hierarchical gas flow from clouds down to the central protostars for a prototypical infrared dark cloud with several embedded cores at an unprecedented detail. While comparatively ordered gas flows are found over a broad range of scales, the innermost area exhibits more disordered structures, likely caused by the combination of inflow, outflow and cluster dynamical processes.         |"
      ],
      "text/plain": [
       "[2502.13866] Hierarchical accretion flow from the G351 infrared dark filament to its central cores\n",
       "\t<mark>H. Beuther</mark>, et al."
      ]
     },
     "metadata": {},
     "output_type": "display_data"
    },
    {
     "data": {
      "text/markdown": [
       "## Failed papers"
      ],
      "text/plain": [
       "<IPython.core.display.Markdown object>"
      ]
     },
     "metadata": {},
     "output_type": "display_data"
    },
    {
     "data": {
      "text/markdown": [
       "\n",
       "|||\n",
       "|---:|:---|\n",
       "| [![arXiv](https://img.shields.io/badge/arXiv-2502.13644-b31b1b.svg)](https://arxiv.org/abs/2502.13644) | **Dynamics of $Z_N$ domain walls with bias directions**  |\n",
       "|| Y.-J. Li, <mark>J. Liu</mark>, Z.-K. Guo |\n",
       "|*Appeared on*| *2025-02-20*|\n",
       "|*Comments*| **|\n",
       "|**Abstract**|            The spontaneous breaking of a discrete symmetry can lead to the formation of domain walls in the early Universe. In this work, we explore the impact of bias directions on the dynamics of $Z_N$ domain walls, mainly focusing on the $N = 3$ model with a biased potential. Utilizing the Press-Ryden-Spergel method, we numerically investigate the dynamics of domain walls with lattice simulations. We find notable differences in the dynamics of domain walls due to bias directions. Our results indicate that the annihilation time depends not only on the vacuum energy difference $\\delta V$ but also on bias directions described by the relative potential difference $ \\zeta $.         |\n",
       "|<p style=\"color:green\"> **ERROR** </p>| <p style=\"color:green\">affiliation error: mpia.affiliation_verifications: 'Heidelberg' keyword not found.</p> |"
      ],
      "text/plain": [
       "<IPython.core.display.Markdown object>"
      ]
     },
     "metadata": {},
     "output_type": "display_data"
    }
   ],
   "source": [
    "import datetime\n",
    "today = str(datetime.date.today())\n",
    "logfile = f\"_build/html/logs/log-{today}.md\"\n",
    "\n",
    "\n",
    "with open(logfile, 'w') as logs:\n",
    "    # Success\n",
    "    logs.write(f'# Arxiv on Deck 2: Logs - {today}\\n\\n')\n",
    "    logs.write(\"\"\"* Arxiv had {0:,d} new papers\\n\"\"\".format(len(new_papers)))\n",
    "    logs.write(\"\"\"    * {0:,d} with possible author matches\\n\\n\"\"\".format(len(candidates)))\n",
    "    logs.write(\"## Sucessful papers\\n\\n\")\n",
    "    display(Markdown(\"## Successful papers\"))\n",
    "    success = [k[0] for k in documents]\n",
    "    for candid in candidates:\n",
    "        if candid['identifier'].split(':')[-1] in success:\n",
    "            display(candid)\n",
    "            logs.write(candid.generate_markdown_text() + '\\n\\n')\n",
    "\n",
    "    ## failed\n",
    "    logs.write(\"## Failed papers\\n\\n\")\n",
    "    display(Markdown(\"## Failed papers\"))\n",
    "    failed = sorted(failed, key=lambda x: x[1])\n",
    "    current_reason = \"\"\n",
    "    for paper, reason in failed:\n",
    "        if 'affiliation' in reason:\n",
    "            color = 'green'\n",
    "        else:\n",
    "            color = 'red'\n",
    "        data = Markdown(\n",
    "                paper.generate_markdown_text() + \n",
    "                f'\\n|<p style=\"color:{color:s}\"> **ERROR** </p>| <p style=\"color:{color:s}\">{reason:s}</p> |'\n",
    "               )\n",
    "        if reason != current_reason:\n",
    "            logs.write(f'### {reason:s} \\n\\n')\n",
    "            current_reason = reason\n",
    "        logs.write(data.data + '\\n\\n')\n",
    "        \n",
    "        # only display here the important errors (all in logs)\n",
    "        # if color in ('red',):\n",
    "        display(data)"
   ]
  },
  {
   "cell_type": "markdown",
   "id": "472d20ee",
   "metadata": {
    "papermill": {
     "duration": 0.004335,
     "end_time": "2025-02-20T04:13:01.332283",
     "exception": false,
     "start_time": "2025-02-20T04:13:01.327948",
     "status": "completed"
    },
    "tags": []
   },
   "source": [
    "## Export documents\n",
    "\n",
    "We now write the .md files and export relevant images"
   ]
  },
  {
   "cell_type": "code",
   "execution_count": 7,
   "id": "d426aed9",
   "metadata": {
    "execution": {
     "iopub.execute_input": "2025-02-20T04:13:01.342125Z",
     "iopub.status.busy": "2025-02-20T04:13:01.341831Z",
     "iopub.status.idle": "2025-02-20T04:13:01.349846Z",
     "shell.execute_reply": "2025-02-20T04:13:01.349193Z"
    },
    "papermill": {
     "duration": 0.014354,
     "end_time": "2025-02-20T04:13:01.350939",
     "exception": false,
     "start_time": "2025-02-20T04:13:01.336585",
     "status": "completed"
    },
    "tags": []
   },
   "outputs": [],
   "source": [
    "def export_markdown_summary(md: str, md_fname:str, directory: str):\n",
    "    \"\"\"Export MD document and associated relevant images\"\"\"\n",
    "    import os\n",
    "    import shutil\n",
    "    import re\n",
    "\n",
    "    if (os.path.exists(directory) and not os.path.isdir(directory)):\n",
    "        raise RuntimeError(f\"a non-directory file exists with name {directory:s}\")\n",
    "\n",
    "    if (not os.path.exists(directory)):\n",
    "        print(f\"creating directory {directory:s}\")\n",
    "        os.mkdir(directory)\n",
    "\n",
    "    fig_fnames = (re.compile(r'\\[Fig.*\\]\\((.*)\\)').findall(md) + \n",
    "                  re.compile(r'\\<img src=\"([^>\\s]*)\"[^>]*/>').findall(md))\n",
    "    print(\"found figures\", fig_fnames)\n",
    "    for fname in fig_fnames:\n",
    "        if 'http' in fname:\n",
    "            # No need to copy online figures\n",
    "            continue\n",
    "        if not os.path.exists(fname):\n",
    "            print(\"file not found\", fname)\n",
    "            continue\n",
    "        print(\"copying \", fname, \"to\", directory)\n",
    "        destdir = os.path.join(directory, os.path.dirname(fname))\n",
    "        destfname = os.path.join(destdir, os.path.basename(fname))\n",
    "        try:\n",
    "            os.makedirs(destdir)\n",
    "        except FileExistsError:\n",
    "            pass\n",
    "        shutil.copy(fname, destfname)\n",
    "    with open(os.path.join(directory, md_fname), 'w') as fout:\n",
    "        fout.write(md)\n",
    "    print(\"exported in \", os.path.join(directory, md_fname))\n",
    "    [print(\"    + \" + os.path.join(directory,fk)) for fk in fig_fnames]"
   ]
  },
  {
   "cell_type": "code",
   "execution_count": 8,
   "id": "014d04a4",
   "metadata": {
    "execution": {
     "iopub.execute_input": "2025-02-20T04:13:01.361359Z",
     "iopub.status.busy": "2025-02-20T04:13:01.360786Z",
     "iopub.status.idle": "2025-02-20T04:13:01.382826Z",
     "shell.execute_reply": "2025-02-20T04:13:01.382106Z"
    },
    "papermill": {
     "duration": 0.028493,
     "end_time": "2025-02-20T04:13:01.384079",
     "exception": false,
     "start_time": "2025-02-20T04:13:01.355586",
     "status": "completed"
    },
    "tags": []
   },
   "outputs": [
    {
     "name": "stdout",
     "output_type": "stream",
     "text": [
      "found figures ['tmp_2502.13216/./figure/picversion12/simulation/fig1_1.png', 'tmp_2502.13216/./figure/picversion12/simulation/fig1_2.png', 'tmp_2502.13216/./figure/picversion12/simulation/fig1_3.png', 'tmp_2502.13216/./figure/picversion12/simulation/TNG100fexSub.png', 'tmp_2502.13216/./figure/picversion12/simulation/EAGLEfexSub.png', 'tmp_2502.13216/./figure/picversion12/simulation/TNG100testfexSub.png', 'tmp_2502.13216/./figure/picversion12/simulation/EAGLEtestfexSub.png', 'tmp_2502.13216/./figure/picversion12/TNG100SDSSlikeID6.png', 'tmp_2502.13216/./figure/picversion12/TNG100SDSSlikeID6_1.png']\n",
      "copying  tmp_2502.13216/./figure/picversion12/simulation/fig1_1.png to _build/html/\n",
      "copying  tmp_2502.13216/./figure/picversion12/simulation/fig1_2.png to _build/html/\n",
      "copying  tmp_2502.13216/./figure/picversion12/simulation/fig1_3.png to _build/html/\n",
      "copying  tmp_2502.13216/./figure/picversion12/simulation/TNG100fexSub.png to _build/html/\n",
      "copying  tmp_2502.13216/./figure/picversion12/simulation/EAGLEfexSub.png to _build/html/\n",
      "copying  tmp_2502.13216/./figure/picversion12/simulation/TNG100testfexSub.png to _build/html/\n",
      "copying  tmp_2502.13216/./figure/picversion12/simulation/EAGLEtestfexSub.png to _build/html/\n",
      "copying  tmp_2502.13216/./figure/picversion12/TNG100SDSSlikeID6.png to _build/html/\n",
      "copying  tmp_2502.13216/./figure/picversion12/TNG100SDSSlikeID6_1.png to _build/html/\n",
      "exported in  _build/html/2502.13216.md\n",
      "    + _build/html/tmp_2502.13216/./figure/picversion12/simulation/fig1_1.png\n",
      "    + _build/html/tmp_2502.13216/./figure/picversion12/simulation/fig1_2.png\n",
      "    + _build/html/tmp_2502.13216/./figure/picversion12/simulation/fig1_3.png\n",
      "    + _build/html/tmp_2502.13216/./figure/picversion12/simulation/TNG100fexSub.png\n",
      "    + _build/html/tmp_2502.13216/./figure/picversion12/simulation/EAGLEfexSub.png\n",
      "    + _build/html/tmp_2502.13216/./figure/picversion12/simulation/TNG100testfexSub.png\n",
      "    + _build/html/tmp_2502.13216/./figure/picversion12/simulation/EAGLEtestfexSub.png\n",
      "    + _build/html/tmp_2502.13216/./figure/picversion12/TNG100SDSSlikeID6.png\n",
      "    + _build/html/tmp_2502.13216/./figure/picversion12/TNG100SDSSlikeID6_1.png\n",
      "found figures ['tmp_2502.13610/./main_spectrum_plot.png', 'tmp_2502.13610/./main_spectrum_with_model_ch1.png', 'tmp_2502.13610/./main_spectrum_with_model_ch2.png', 'tmp_2502.13610/./main_spectrum_with_model_ch3.png', 'tmp_2502.13610/./opacity_allmolecules.png', 'tmp_2502.13610/./HCN_C2H2_modelcomparison_v3.png']\n",
      "copying  tmp_2502.13610/./main_spectrum_plot.png to _build/html/\n",
      "copying  tmp_2502.13610/./main_spectrum_with_model_ch1.png to _build/html/\n",
      "copying  tmp_2502.13610/./main_spectrum_with_model_ch2.png to _build/html/\n",
      "copying  tmp_2502.13610/./main_spectrum_with_model_ch3.png to _build/html/\n",
      "copying  tmp_2502.13610/./opacity_allmolecules.png to _build/html/\n",
      "copying  tmp_2502.13610/./HCN_C2H2_modelcomparison_v3.png to _build/html/\n",
      "exported in  _build/html/2502.13610.md\n",
      "    + _build/html/tmp_2502.13610/./main_spectrum_plot.png\n",
      "    + _build/html/tmp_2502.13610/./main_spectrum_with_model_ch1.png\n",
      "    + _build/html/tmp_2502.13610/./main_spectrum_with_model_ch2.png\n",
      "    + _build/html/tmp_2502.13610/./main_spectrum_with_model_ch3.png\n",
      "    + _build/html/tmp_2502.13610/./opacity_allmolecules.png\n",
      "    + _build/html/tmp_2502.13610/./HCN_C2H2_modelcomparison_v3.png\n",
      "found figures ['tmp_2502.13866/./almaimf_zoom.png', 'tmp_2502.13866/./zoom_h2co.png', 'tmp_2502.13866/./g351_large_v2.png']\n",
      "copying  tmp_2502.13866/./almaimf_zoom.png to _build/html/\n",
      "copying  tmp_2502.13866/./zoom_h2co.png to _build/html/\n",
      "copying  tmp_2502.13866/./g351_large_v2.png to _build/html/\n",
      "exported in  _build/html/2502.13866.md\n",
      "    + _build/html/tmp_2502.13866/./almaimf_zoom.png\n",
      "    + _build/html/tmp_2502.13866/./zoom_h2co.png\n",
      "    + _build/html/tmp_2502.13866/./g351_large_v2.png\n"
     ]
    }
   ],
   "source": [
    "for paper_id, md in documents:\n",
    "    export_markdown_summary(md, f\"{paper_id:s}.md\", '_build/html/')"
   ]
  },
  {
   "cell_type": "markdown",
   "id": "f087a0a7",
   "metadata": {
    "papermill": {
     "duration": 0.004637,
     "end_time": "2025-02-20T04:13:01.394029",
     "exception": false,
     "start_time": "2025-02-20T04:13:01.389392",
     "status": "completed"
    },
    "tags": []
   },
   "source": [
    "## Display the papers\n",
    "\n",
    "Not necessary but allows for a quick check."
   ]
  },
  {
   "cell_type": "code",
   "execution_count": 9,
   "id": "fd25f625",
   "metadata": {
    "execution": {
     "iopub.execute_input": "2025-02-20T04:13:01.404829Z",
     "iopub.status.busy": "2025-02-20T04:13:01.404335Z",
     "iopub.status.idle": "2025-02-20T04:13:01.412121Z",
     "shell.execute_reply": "2025-02-20T04:13:01.411532Z"
    },
    "papermill": {
     "duration": 0.014473,
     "end_time": "2025-02-20T04:13:01.413247",
     "exception": false,
     "start_time": "2025-02-20T04:13:01.398774",
     "status": "completed"
    },
    "scrolled": false,
    "tags": []
   },
   "outputs": [
    {
     "data": {
      "text/markdown": [
       "<div class=\"macros\" style=\"visibility:hidden;\">\n",
       "$\\newcommand{\\ensuremath}{}$\n",
       "$\\newcommand{\\xspace}{}$\n",
       "$\\newcommand{\\object}[1]{\\texttt{#1}}$\n",
       "$\\newcommand{\\farcs}{{.}''}$\n",
       "$\\newcommand{\\farcm}{{.}'}$\n",
       "$\\newcommand{\\arcsec}{''}$\n",
       "$\\newcommand{\\arcmin}{'}$\n",
       "$\\newcommand{\\ion}[2]{#1#2}$\n",
       "$\\newcommand{\\textsc}[1]{\\textrm{#1}}$\n",
       "$\\newcommand{\\hl}[1]{\\textrm{#1}}$\n",
       "$\\newcommand{\\footnote}[1]{}$\n",
       "$\\newcommand{\\dlens}{D_{\\rm L}}$\n",
       "$\\newcommand{\\dsource}{D_{\\rm S}}$\n",
       "$\\newcommand{\\dls}{D_{\\rm S}-D_{\\rm L}}$\n",
       "$\\newcommand{\\vdag}{(v)^\\dagger}$\n",
       "$\\newcommand{\\vt}{{\\rm v}_t}$\n",
       "$\\newcommand{\\swd}{Schwarzschild }$\n",
       "$\\newcommand{\\atlas}{ATLAS^{\\rm{3D}}}$\n",
       "$\\newcommand{\\sfg}{S^4G }$\n",
       "$\\newcommand{\\kms}{km s^{-1}}$\n",
       "$\\newcommand{\\dgr}{^\\circ}$\n",
       "$\\newcommand{\\kmsM}{km s^{-1} Mpc^{-1}}$\n",
       "$\\newcommand{\\Msun}{M_\\odot}$\n",
       "$\\newcommand{\\Msunpcsq}{M_\\odot pc^{-2}}$\n",
       "$\\newcommand{\\Msunpccube}{M_\\odot pc^{-3}}$\n",
       "$\\newcommand{\\Lsun}{L_\\odot}$\n",
       "$\\newcommand{\\Lsunpcsq}{L_\\odot pc^{-2}}$\n",
       "$\\newcommand{\\Lsunpccube}{L_\\odot pc^{-3}}$\n",
       "$\\newcommand{\\MLsun}{M_\\odot/L_\\odot}$\n",
       "$\\newcommand{\\magarcsq}{\\mathrm{mag arcsec^{-2}}}$\n",
       "$\\newcommand{\\Mstar}{\\ensuremath{M_*}}$\n",
       "$\\newcommand{\\rmaxhot}{\\ensuremath{r|_{{\\rm max}(p_{\\rm hot})}}}$\n",
       "$\\newcommand{\\rcut}{\\ensuremath{r_\\mathrm{cut}}}$\n",
       "$\\newcommand{\\rmax}{\\ensuremath{r_\\mathrm{max}}}$\n",
       "$\\newcommand{\\Mshalo}{\\ensuremath{M_{*,\\mathrm{halo(r< 2R_e)}}}}$\n",
       "$\\newcommand{\\Mswarm}{\\ensuremath{M_{*,\\mathrm{warm(r< 2R_e)}}}}$\n",
       "$\\newcommand{\\LZ}[1]{{\\color{magenta} #1}}$\n",
       "$\\newcommand{\\arraystretch}{1.5}$\n",
       "$\\newcommand{\\arraystretch}{1.5}$\n",
       "$\\newcommand{\\arraystretch}{1.5}$\n",
       "$\\newcommand{\\arraystretch}{1.5}$</div>\n",
       "\n",
       "\n",
       "\n",
       "<div id=\"title\">\n",
       "\n",
       "# Robust machine learning model of inferring the ex situ stellar fraction of galaxies from photometric data\n",
       "\n",
       "</div>\n",
       "<div id=\"comments\">\n",
       "\n",
       "[![arXiv](https://img.shields.io/badge/arXiv-2502.13216-b31b1b.svg)](https://arxiv.org/abs/2502.13216)<mark>Appeared on: 2025-02-20</mark> -  _Accepted in A&A_\n",
       "\n",
       "</div>\n",
       "<div id=\"authors\">\n",
       "\n",
       "R. Cai, et al. -- incl., <mark>A. Pillepich</mark>\n",
       "\n",
       "</div>\n",
       "<div id=\"abstract\">\n",
       "\n",
       "**Abstract:** We search for parameters defined from photometric images to quantify the ex situ stellar mass fraction of galaxies.   We created mock images using galaxies in the cosmological hydrodynamical simulations TNG100, EAGLE, and TNG50 at redshift $z=0$ . We define a series of parameters describing their structures, including: the absolute magnitude in $r$ and $g$ bands ( $M_r$ , $M_g$ ), the half-light and 90 \\% -light radius ( $r_{50}$ , $r_{90}$ ), the concentration ( $C$ ), the luminosity fractions of inner and outer halos ( $f_{\\rm innerhalo}$ , $f_{\\rm outerhalo}$ ), the inner and outer surface brightness gradients ( $\\nabla \\rho_{\\rm inner}$ , $\\nabla \\rho_{\\rm outer}$ ), and $*g-r*$ colour gradients ( $\\nabla \\rm (*g-r*)_{inner}$ , $\\nabla \\rm (*g-r*)_{outer}$ ). In particular, the inner and outer halo of a galaxy are defined by sectors ranging from $45-135$ degrees from the disk major axis, and with radii ranging from $3.5-10$ kpc and $10-30$ kpc, respectively, to avoid the contamination of disk and bulge. The surface brightness and colour gradients are defined by the same sectors along the minor axis and with similar radii ranges. We used the Random Forest method to create a model that predicts $f_{\\rm exsitu}$ from morphological parameters. The model predicts $f_{\\rm exsitu}$ well with a scatter smaller than 0.1 compared to the ground truth in all mass ranges. The models trained from TNG100 and EAGLE work similarly well and are cross-validated; they alsowork well in making predictions for TNG50 galaxies. The analysis using Random Forest reveals that $\\nabla \\rho_{\\rm outer}$ , $\\nabla \\rm (*g-r*)_{outer}$ , $f_{\\rm outerhalo}$ and $f_{\\rm innerhalo}$ are the   most influential parameters in predicting $f_{\\rm exsitu}$ , underscoring their significance in uncovering the merging history of galaxies. We further analyse how the quality of images will affect the results by using SDSS-like and HSC-like mock images for galaxies at different distances. Our results can be used to infer the ex situ stellar mass fractions for a large sample of galaxies from photometric surveys.\n",
       "\n",
       "</div>\n",
       "\n",
       "<div id=\"div_fig1\">\n",
       "\n",
       "<img src=\"tmp_2502.13216/./figure/picversion12/simulation/fig1_1.png\" alt=\"Fig4.1\" width=\"33%\"/><img src=\"tmp_2502.13216/./figure/picversion12/simulation/fig1_2.png\" alt=\"Fig4.2\" width=\"33%\"/><img src=\"tmp_2502.13216/./figure/picversion12/simulation/fig1_3.png\" alt=\"Fig4.3\" width=\"33%\"/>\n",
       "\n",
       "**Figure 4. -** The correlations between the parameters extracted from mock SDSS photometric observations for galaxies at 40 Mpc and the ex situ stellar mass fraction of galaxies. The grey dots are TNG100 galaxies, the black solid and dashed curves are the running median and the $\\pm 1 \\sigma$ scatter of the TNG100 galaxies. The blue symbols for EAGLE galaxies. {The Spearman’s rank coefficient($\\rho$)} of each correlation is labelled in the figure.\n",
       " (*fig3:fexsitufeature*)\n",
       "\n",
       "</div>\n",
       "<div id=\"div_fig2\">\n",
       "\n",
       "<img src=\"tmp_2502.13216/./figure/picversion12/simulation/TNG100fexSub.png\" alt=\"Fig6.1\" width=\"25%\"/><img src=\"tmp_2502.13216/./figure/picversion12/simulation/EAGLEfexSub.png\" alt=\"Fig6.2\" width=\"25%\"/><img src=\"tmp_2502.13216/./figure/picversion12/simulation/TNG100testfexSub.png\" alt=\"Fig6.3\" width=\"25%\"/><img src=\"tmp_2502.13216/./figure/picversion12/simulation/EAGLEtestfexSub.png\" alt=\"Fig6.4\" width=\"25%\"/>\n",
       "\n",
       "**Figure 6. -** The model predicted $f_{\\rm exsitu}$ vs. the ground truth. The different panels are models trained and validated by TNG100 and EAGLE in the top, and cross-validated with each other in the bottom, all with the combined parameters Sub0. For each column, we show the one-to-one comparison in the top panel: $r$ is $\\sqrt{r^2}$, and $\\sigma(\\Delta f_{\\rm exsitu})$ is the scatter of residual $\\Delta f_{\\rm exsitu}=f_{\\rm exsitu,predicted}-f_{\\rm exsitu,truth}$, the solid black line marks $y=x$, and the dashed black line represents ±1$\\sigma(\\Delta f_{\\rm exsitu})$ scatter. The inset panel is the histogram of $\\Delta f_{\\rm exsitu}$. In the bottom panel, we show the residual $\\Delta f_{\\rm exsitu}$ as a function of galaxy $f_{\\rm exsitu,truth}$: the red solid and dashed curves show the running median and ±1$\\sigma(\\Delta f_{\\rm exsitu})$ scatter.  (*fig:fex_fextrue*)\n",
       "\n",
       "</div>\n",
       "<div id=\"div_fig3\">\n",
       "\n",
       "<img src=\"tmp_2502.13216/./figure/picversion12/TNG100SDSSlikeID6.png\" alt=\"Fig1.1\" width=\"50%\"/><img src=\"tmp_2502.13216/./figure/picversion12/TNG100SDSSlikeID6_1.png\" alt=\"Fig1.2\" width=\"50%\"/>\n",
       "\n",
       "**Figure 1. -** A SDSS-like $r$-band image created from a TNG100 galaxy subhalo 6 at z=0 projected near edge-on, and placing it at the distance of 40 Mpc. ** Top:** 2D image. The sector enclosed by blue is defined as the inner halo (3.5 kpc-10 kpc) and that in red is the outer halo (10 kpc-30 kpc). ** Bottom:** surface brightness profile along the minor axis. The black horizontal line indicates the background noise of the sky $\\Sigma_{r,0}$, the red and magenta vertical lines mark $r_{\\rm 50}$ and $r_{\\rm 90}$ obtained from the petrosian radius.\n",
       " (*TNG100SDSSlikeID6*)\n",
       "\n",
       "</div><div id=\"qrcode\"><img src=https://api.qrserver.com/v1/create-qr-code/?size=100x100&data=\"https://arxiv.org/abs/2502.13216\"></div>"
      ],
      "text/plain": [
       "<IPython.core.display.Markdown object>"
      ]
     },
     "metadata": {},
     "output_type": "display_data"
    },
    {
     "data": {
      "text/markdown": [
       "<div class=\"macros\" style=\"visibility:hidden;\">\n",
       "$\\newcommand{\\ensuremath}{}$\n",
       "$\\newcommand{\\xspace}{}$\n",
       "$\\newcommand{\\object}[1]{\\texttt{#1}}$\n",
       "$\\newcommand{\\farcs}{{.}''}$\n",
       "$\\newcommand{\\farcm}{{.}'}$\n",
       "$\\newcommand{\\arcsec}{''}$\n",
       "$\\newcommand{\\arcmin}{'}$\n",
       "$\\newcommand{\\ion}[2]{#1#2}$\n",
       "$\\newcommand{\\textsc}[1]{\\textrm{#1}}$\n",
       "$\\newcommand{\\hl}[1]{\\textrm{#1}}$\n",
       "$\\newcommand{\\footnote}[1]{}$\n",
       "$\\newcommand{\\vdag}{(v)^\\dagger}$\n",
       "$\\newcommand$\n",
       "$\\newcommand$\n",
       "$\\newcommand{\\topfraction}{.99}$\n",
       "$\\newcommand{\\floatpagefraction}{0.99}$\n",
       "$\\newcommand{\\arraystretch}{1.3}$\n",
       "$\\newcommand{\\w0458}{WISE-0458}$\n",
       "$\\newcommand{\\Mjup}{\\ensuremath{M_\\textrm{Jup}}}$\n",
       "$\\newcommand{\\Rjup}{\\ensuremath{R_\\textrm{Jup}}}$</div>\n",
       "\n",
       "\n",
       "\n",
       "<div id=\"title\">\n",
       "\n",
       "# $\\ce{HCN}$ and $\\ce{C2H2}$ in the atmosphere of a T8.5+T9 brown dwarf binary\n",
       "\n",
       "</div>\n",
       "<div id=\"comments\">\n",
       "\n",
       "[![arXiv](https://img.shields.io/badge/arXiv-2502.13610-b31b1b.svg)](https://arxiv.org/abs/2502.13610)<mark>Appeared on: 2025-02-20</mark> -  _Accepted for publication in The Astrophysical Journal Letters. 13 pages (5 figures) + appendices_\n",
       "\n",
       "</div>\n",
       "<div id=\"authors\">\n",
       "\n",
       "E. C. Matthews, et al. -- incl., <mark>P. Mollière</mark>, <mark>M. Samland</mark>, <mark>T. Henning</mark>\n",
       "\n",
       "</div>\n",
       "<div id=\"abstract\">\n",
       "\n",
       "**Abstract:** T-type brown dwarfs present an opportunity to explore  atmospheres teeming with molecules such as $\\ce{H2O}$ , $\\ce{CH4}$ and $\\ce{NH3}$ , which exhibit a wealth of absorption features in the mid-infrared. With JWST, we can finally explore this chemistry in detail, including for the coldest brown dwarfs that were not yet discovered in the Spitzer era. This allows precise derivations of the molecular abundances, which in turn informs our understanding of vertical transport in these atmospheres and can provide clues about the formation of cold brown dwarfs and exoplanets. This study presents the first JWST/MRS mid-IR spectrum (R $\\sim$ 1500-3000) of a T-dwarf: the T8.5+T9 brown dwarf binary WISE J045853.90+643451.9. We fit the spectrum using a parameterized $P$ - $T$ profile and free molecular abundances (i.e., a retrieval analysis), treating the binary as unresolved. We find a good fit with a cloud-free atmosphere and identify $\\ce{H2O}$ , $\\ce{CH4}$ and $\\ce{NH3}$ features. Moreover, we make the first detections of $\\ce{HCN}$ and $\\ce{C2H2}$ (at 13.4 $\\sigma$ and 9.5 $\\sigma$ respectively) in any brown dwarf atmosphere. The detection of $\\ce{HCN}$ suggests intense vertical mixing ( $K_{zz}\\sim10^{11}$ cm $^2$ s $^{-1}$ ), challenging previous literature derivations of $K_{zz}$ values for T-type brown dwarfs. Even more surprising is the $\\ce{C2H2}$ detection, which cannot be explained with existing atmospheric models for isolated objects. This result challenges model assumptions about vertical mixing, and/or our understanding of the $\\ce{C2H2}$ chemical network, or might hint towards a more complex atmospheric processes such as magnetic fields driving aurorae, or lightning driving ionization. These findings open a new frontier in studying carbon chemistry within brown dwarf atmospheres.\n",
       "\n",
       "</div>\n",
       "\n",
       "<div id=\"div_fig1\">\n",
       "\n",
       "<img src=\"tmp_2502.13610/./main_spectrum_plot.png\" alt=\"Fig3.1\" width=\"25%\"/><img src=\"tmp_2502.13610/./main_spectrum_with_model_ch1.png\" alt=\"Fig3.2\" width=\"25%\"/><img src=\"tmp_2502.13610/./main_spectrum_with_model_ch2.png\" alt=\"Fig3.3\" width=\"25%\"/><img src=\"tmp_2502.13610/./main_spectrum_with_model_ch3.png\" alt=\"Fig3.4\" width=\"25%\"/>\n",
       "\n",
       "**Figure 3. -** The MIRI/MRS spectrum of $\\w$0458, and our best-fit model. Panel (a) shows the full spectrum, binned to 1/10th the original spectral resolution for visual clarity. Colors represent each individual subchannel of the MRS detector (labelled 1A-3C), and we also label the locations of prominent molecular absorption features in this brown dwarf atmosphere. Panels (b), (d), (f) show the best-fit model (black) compared to the data for each channel (at R=1,000). Our model is a free retrieval using \\texttt{pRT}(see Section \\ref{sec:retrievals}), including a parameterized pressure-temperature profile and 7 molecular species; 5 molecules are confidently detected (\\ce{H2O}, \\ce{CH4}, \\ce{NH3}, \\ce{HCN} and \\ce{C2H2}). Panels (c), (e) and (g) show the residuals, taking the 10$^b$ factor into account. (*fig:mainspectrum_and_model*)\n",
       "\n",
       "</div>\n",
       "<div id=\"div_fig2\">\n",
       "\n",
       "<img src=\"tmp_2502.13610/./opacity_allmolecules.png\" alt=\"Fig5\" width=\"100%\"/>\n",
       "\n",
       "**Figure 5. -** Opacities of molecules in our best-fit model, with abundances matching the best-fit value (for \\ce{H2O}, \\ce{CH4}, \\ce{NH3}, \\ce{HCN} and \\ce{C2H2}) and 2$\\sigma$ upper limits (for CO and $CO_2$) from our best-fit model. Opacities in the upper panel are at R=100 and in the lower panel are at R=1000 (matching the resolution used in our \\texttt{pRT} retrievals). In the lower panel we highlight the regions where \\ce{HCN} and \\ce{C2H2} absorb most strongly in the near- and mid-IR. For the $\\w$0458 abundances, both species are only detectable in the mid-IR around 14 \\micron in the $\\w$0458 atmosphere. With sufficiently high abundances (higher than those observed here), both species might become detectable in the near-IR, at 3 \\micron and 1.5 \\micron. (*fig:hcnopacity*)\n",
       "\n",
       "</div>\n",
       "<div id=\"div_fig3\">\n",
       "\n",
       "<img src=\"tmp_2502.13610/./HCN_C2H2_modelcomparison_v3.png\" alt=\"Fig4\" width=\"100%\"/>\n",
       "\n",
       "**Figure 4. -** Comparison of the data and best-fit models with and without including the molecules \\ce{HCN} and \\ce{C2H2}. Here we show our retrieved spectra for a \"basic\" model with only \\ce{H2O}, \\ce{CH4}, \\ce{NH3}, CO and $CO_2$(brown), and a model that also includes \\ce{HCN} and \\ce{C2H2}(green), alongside the data (black, including our retrieved uncertainty inflation). The lower panel shows the residuals (data - model) for the both models, and shading in the background of both panels indicates regions of high opacity for \\ce{HCN}(pink) and \\ce{C2H2}(blue). The plot shows only the 13.4-14.6 \\micron region of the spectrum where \\ce{HCN} and \\ce{C2H2} absorption features are significant (see also Fig. \\ref{fig:hcnopacity}), but these species have a small continuum effect across more of the mid-IR. (*fig:hcn_c2h2*)\n",
       "\n",
       "</div><div id=\"qrcode\"><img src=https://api.qrserver.com/v1/create-qr-code/?size=100x100&data=\"https://arxiv.org/abs/2502.13610\"></div>"
      ],
      "text/plain": [
       "<IPython.core.display.Markdown object>"
      ]
     },
     "metadata": {},
     "output_type": "display_data"
    },
    {
     "data": {
      "text/markdown": [
       "<div class=\"macros\" style=\"visibility:hidden;\">\n",
       "$\\newcommand{\\ensuremath}{}$\n",
       "$\\newcommand{\\xspace}{}$\n",
       "$\\newcommand{\\object}[1]{\\texttt{#1}}$\n",
       "$\\newcommand{\\farcs}{{.}''}$\n",
       "$\\newcommand{\\farcm}{{.}'}$\n",
       "$\\newcommand{\\arcsec}{''}$\n",
       "$\\newcommand{\\arcmin}{'}$\n",
       "$\\newcommand{\\ion}[2]{#1#2}$\n",
       "$\\newcommand{\\textsc}[1]{\\textrm{#1}}$\n",
       "$\\newcommand{\\hl}[1]{\\textrm{#1}}$\n",
       "$\\newcommand{\\footnote}[1]{}$\n",
       "$\\newcommand\\natexlab{#1}$</div>\n",
       "\n",
       "\n",
       "\n",
       "<div id=\"title\">\n",
       "\n",
       "# Hierarchical accretion flow from the G351 infrared dark filament to its central cores\n",
       "\n",
       "</div>\n",
       "<div id=\"comments\">\n",
       "\n",
       "[![arXiv](https://img.shields.io/badge/arXiv-2502.13866-b31b1b.svg)](https://arxiv.org/abs/2502.13866)<mark>Appeared on: 2025-02-20</mark> -  _7 pages, 4 figures, accepted for Astronomy & Astrophysics_\n",
       "\n",
       "</div>\n",
       "<div id=\"authors\">\n",
       "\n",
       "B. H., et al.\n",
       "\n",
       "</div>\n",
       "<div id=\"abstract\">\n",
       "\n",
       "**Abstract:** Quantifying the accretion flow from large cloud scales down to individual protostars is a central ingredient to the understanding of (high-mass) star formation. We characterize and quantify this multi-scale flow for a prototypical high-mass star-forming region. In a multi-scale analysis from parsec to $\\sim$ 50 au scales, we combined multiple single-dish and interferometric observations to study the gas flow from large-scale sizes of several parsec (Mopra) via intermediate-scale filamentary gas flows (ALMA-IMF) to the central cores (ALMA DIHCA and configuration 10 data). The highest-resolution multi-configuration ALMA dataset achieved a spatial resolution of $0.027\"\\times 0.022\"$ or 50 au. This multi-scale study allows us to follow the gas from the  environment of the high-mass star-forming region ( $\\sim$ 2 pc) via intermediate-scale ( $\\sim$ 0.25 pc) filamentary gas flows down to the innermost cores within the central few 1000 au. The intermediate-scale filaments connect spatially and kinematically to the larger-scale cloud as well as the innermost cores. We estimate a filamentary mass inflow rate around $10^{-3}$ M $_{\\odot}$ yr $^{-1}$ , feeding into the central region that hosts at least a dozen mm cores. While the flow from the cloud via the filaments down to 10 $^4$ au appears relatively ordered, within the central 10 $^4$ au the kinematic structures become much more complicated and disordered. We speculate that this is caused by the interplay of the converging infalling gas with feedback processes from the forming central protostars. This multi-scale study characterises and quantifies the hierarchical gas flow from clouds down to the central protostars for a prototypical infrared dark cloud with several embedded cores at an unprecedented detail. While comparatively ordered gas flows are found over a broad range of scales, the innermost area exhibits more disordered structures, likely caused by the combination of inflow, outflow and cluster dynamical processes.\n",
       "\n",
       "</div>\n",
       "\n",
       "<div id=\"div_fig1\">\n",
       "\n",
       "<img src=\"tmp_2502.13866/./almaimf_zoom.png\" alt=\"Fig3\" width=\"100%\"/>\n",
       "\n",
       "**Figure 3. -** Zoom-in plots from the more central region in G351. The two left panels show the ALMA-IMF data \\citep{motte2022,ginsburg2022,cunningham2023} from the first zoom-region (black box in Fig. \\ref{g351_large}). The color-scale in the left and middle panels are the 1st moment maps in $H_2$CO and DCN. The contours show the 1.3 mm continuum emission starting at 4$\\sigma$ and continue in 8$\\sigma$ steps (1$\\sigma$=0.6 mJy beam$^{-1}$). The ellipses in the middle panel outline the areas used for the mass flow rate estimates, and the red arrow shows the direction of the red-shifted outflow lobe from \\citet{beuther2017b}. The right panel then shows the final zoom-in (magenta boxes in middle panel and Fig. \\ref{g351_large}) data from the DIHCA and high-resolution studies \\citep{olguin2021,beuther2019} with the $H_2$CO 1st moment map in color-scale and the 1.3 mm continuum data in contours (5 to 25$\\sigma$ in 5$\\sigma$ steps with 1$\\sigma$=60 $\\mu$Jy beam$^{-1}$). The arrow in the right panel marks the direction of the position-velocity cut in Fig. \\ref{pv_h2co}. Linear scale-bars are shown in the middle and right panels, synthesized beams are presented in the bottom- and top-left corners of the respective panels. (*ALMA-IMF*)\n",
       "\n",
       "</div>\n",
       "<div id=\"div_fig2\">\n",
       "\n",
       "<img src=\"tmp_2502.13866/./zoom_h2co.png\" alt=\"Fig4\" width=\"100%\"/>\n",
       "\n",
       "**Figure 4. -** Velocity structure of the central region. The left three panels show integrated $H_2$CO$(3_{2,2}-2_{2,1})$ maps for different velocity regimes as marked. The right panel presents a corresponding position-velocity cut from east to west along the line shown in the right panel of Fig. \\ref{ALMA-IMF} and in the 2nd panel from left here. The dashed vertical lines in all panels mark the R.A. positions of the two central cores mm1 and mm2 (right and left dashed lines, respectively), where mm1 also drives a molecular outflow in northwest-southeast direction \\citep{beuther2019}. The horizontal dashed line in the pv-diagram shows the $v_{\\rm LSR}\\sim -3.6$ km s$^{-1}$ from \\citet{leurini2011}. Other features are marked and labeled.  (*pv_h2co*)\n",
       "\n",
       "</div>\n",
       "<div id=\"div_fig3\">\n",
       "\n",
       "<img src=\"tmp_2502.13866/./g351_large_v2.png\" alt=\"Fig1\" width=\"100%\"/>\n",
       "\n",
       "**Figure 1. -** Overview of the G351 region. The left panel shows in color-scale the Spitzer 8 $\\mu$m emission \\citep{churchwell2009} and in contours the ATLASGAL 870 $\\mu$m emission \\citep{schuller2009}. Contour levels start at the 4$\\sigma$ level of 240 mJy beam$^{-1}$. The middle and right panels present the molecular emission from the HCO$^+$(1--0)  and $N_2$H$^+$(1--0) lines observed with the MALT90 survey \\citep{jackson2013}. In both cases, the color-scale shows the 1st moment maps (intensity-weighted peak velocities), and the contours present the integrated line emission or 0th moment from 5 to 95\\% of the respective peak emission. For $N_2$H$^+$(1--0), the 1st moment map is from the isolated hyperfine component shifted by +8.0 km s$^{-1}$ to the $v_{\\rm{lsr}}$. Since the rms increases toward the map edges, we masked the emission outside the 5\\% 0th moment map for the $N_2$H$^+$(1--0) map.  The black and magenta boxes in the middle and right panels outline the areas shown in the following ALMA-IMF and ALMA central core images. Linear scale-bars are shown in the left and right panels, and the MALT90 beams are presented in the bottom corners. (*g351_large*)\n",
       "\n",
       "</div><div id=\"qrcode\"><img src=https://api.qrserver.com/v1/create-qr-code/?size=100x100&data=\"https://arxiv.org/abs/2502.13866\"></div>"
      ],
      "text/plain": [
       "<IPython.core.display.Markdown object>"
      ]
     },
     "metadata": {},
     "output_type": "display_data"
    }
   ],
   "source": [
    "[display(Markdown(k[1])) for k in documents];"
   ]
  },
  {
   "cell_type": "markdown",
   "id": "873873a4",
   "metadata": {
    "papermill": {
     "duration": 0.005,
     "end_time": "2025-02-20T04:13:01.423685",
     "exception": false,
     "start_time": "2025-02-20T04:13:01.418685",
     "status": "completed"
    },
    "tags": []
   },
   "source": [
    "# Create HTML index"
   ]
  },
  {
   "cell_type": "code",
   "execution_count": 10,
   "id": "cf665672",
   "metadata": {
    "execution": {
     "iopub.execute_input": "2025-02-20T04:13:01.435346Z",
     "iopub.status.busy": "2025-02-20T04:13:01.434698Z",
     "iopub.status.idle": "2025-02-20T04:13:01.444453Z",
     "shell.execute_reply": "2025-02-20T04:13:01.443880Z"
    },
    "papermill": {
     "duration": 0.016805,
     "end_time": "2025-02-20T04:13:01.445576",
     "exception": false,
     "start_time": "2025-02-20T04:13:01.428771",
     "status": "completed"
    },
    "tags": []
   },
   "outputs": [
    {
     "name": "stdout",
     "output_type": "stream",
     "text": [
      "339  publications files modified in the last 7 days.\n"
     ]
    }
   ],
   "source": [
    "from datetime import datetime, timedelta, timezone\n",
    "from glob import glob\n",
    "import os\n",
    "\n",
    "files = glob('_build/html/*.md')\n",
    "days = 7\n",
    "now = datetime.today()\n",
    "res = []\n",
    "for fk in files:\n",
    "    stat_result = os.stat(fk).st_ctime\n",
    "    modified = datetime.fromtimestamp(stat_result, tz=timezone.utc).replace(tzinfo=None)\n",
    "    delta = now.today() - modified\n",
    "    if delta <= timedelta(days=days):\n",
    "        res.append((delta.seconds, fk))\n",
    "res = [k[1] for k in reversed(sorted(res, key=lambda x:x[1]))]\n",
    "npub = len(res)\n",
    "print(len(res), f\" publications files modified in the last {days:d} days.\")\n",
    "# [ print('\\t', k) for k in res ];"
   ]
  },
  {
   "cell_type": "code",
   "execution_count": 11,
   "id": "015de740",
   "metadata": {
    "execution": {
     "iopub.execute_input": "2025-02-20T04:13:01.457853Z",
     "iopub.status.busy": "2025-02-20T04:13:01.457278Z",
     "iopub.status.idle": "2025-02-20T04:13:01.477323Z",
     "shell.execute_reply": "2025-02-20T04:13:01.476497Z"
    },
    "papermill": {
     "duration": 0.027226,
     "end_time": "2025-02-20T04:13:01.478557",
     "exception": false,
     "start_time": "2025-02-20T04:13:01.451331",
     "status": "completed"
    },
    "tags": []
   },
   "outputs": [
    {
     "name": "stdout",
     "output_type": "stream",
     "text": [
      "8  publications in the last 7 days.\n"
     ]
    }
   ],
   "source": [
    "import datetime\n",
    "from glob import glob\n",
    "\n",
    "def get_last_n_days(lst, days=1):\n",
    "    \"\"\" Get the documents from the last n days \"\"\"\n",
    "    sorted_lst = sorted(lst, key=lambda x: x[1], reverse=True)\n",
    "    for fname, date in sorted_lst:\n",
    "        if date >= str(datetime.date.today() - datetime.timedelta(days=days)):\n",
    "            yield fname\n",
    "\n",
    "def extract_appearance_dates(lst_file):\n",
    "    dates = []\n",
    "\n",
    "    def get_date(line):\n",
    "        return line\\\n",
    "            .split('Appeared on:')[-1]\\\n",
    "            .split('</mark>')[0].strip()\n",
    "\n",
    "    for fname in lst:\n",
    "        with open(fname, 'r') as f:\n",
    "            found_date = False\n",
    "            for line in f:\n",
    "                if not found_date:\n",
    "                    if \"Appeared on\" in line:\n",
    "                        found_date = True\n",
    "                        dates.append((fname, get_date(line)))\n",
    "                else:\n",
    "                    break\n",
    "    return dates\n",
    "\n",
    "from glob import glob\n",
    "lst = glob('_build/html/*md')\n",
    "days = 7\n",
    "dates = extract_appearance_dates(lst)\n",
    "res = list(get_last_n_days(dates, days))\n",
    "npub = len(res)\n",
    "print(len(res), f\" publications in the last {days:d} days.\")"
   ]
  },
  {
   "cell_type": "code",
   "execution_count": 12,
   "id": "52ca0208",
   "metadata": {
    "execution": {
     "iopub.execute_input": "2025-02-20T04:13:01.490583Z",
     "iopub.status.busy": "2025-02-20T04:13:01.490157Z",
     "iopub.status.idle": "2025-02-20T04:13:01.495445Z",
     "shell.execute_reply": "2025-02-20T04:13:01.494772Z"
    },
    "papermill": {
     "duration": 0.012395,
     "end_time": "2025-02-20T04:13:01.496573",
     "exception": false,
     "start_time": "2025-02-20T04:13:01.484178",
     "status": "completed"
    },
    "scrolled": false,
    "tags": []
   },
   "outputs": [],
   "source": [
    "def create_carousel(npub=4):\n",
    "    \"\"\" Generate the HTML code for a carousel with `npub` slides \"\"\"\n",
    "    carousel = [\"\"\"  <div class=\"carousel\" \"\"\",\n",
    "                \"\"\"       data-flickity='{ \"autoPlay\": 10000, \"adaptiveHeight\": true, \"resize\": true, \"wrapAround\": true, \"pauseAutoPlayOnHover\": true, \"groupCells\": 1 }' id=\"asyncTypeset\">\"\"\"\n",
    "                ]\n",
    "    \n",
    "    item_str = \"\"\"    <div class=\"carousel-cell\"> <div id=\"slide{k}\" class=\"md_view\">Content {k}</div> </div>\"\"\"\n",
    "    for k in range(1, npub + 1):\n",
    "        carousel.append(item_str.format(k=k))\n",
    "    carousel.append(\"  </div>\")\n",
    "    return '\\n'.join(carousel)\n",
    "\n",
    "def create_grid(npub=4):\n",
    "    \"\"\" Generate the HTML code for a flat grid with `npub` slides \"\"\"\n",
    "    grid = [\"\"\"  <div class=\"grid\"> \"\"\",\n",
    "                ]\n",
    "    \n",
    "    item_str = \"\"\"    <div class=\"grid-item\"> <div id=\"slide{k}\" class=\"md_view\">Content {k}</div> </div>\"\"\"\n",
    "    for k in range(1, npub + 1):\n",
    "        grid.append(item_str.format(k=k))\n",
    "    grid.append(\"  </div>\")\n",
    "    return '\\n'.join(grid)"
   ]
  },
  {
   "cell_type": "code",
   "execution_count": 13,
   "id": "a6eac5b6",
   "metadata": {
    "execution": {
     "iopub.execute_input": "2025-02-20T04:13:01.508931Z",
     "iopub.status.busy": "2025-02-20T04:13:01.508305Z",
     "iopub.status.idle": "2025-02-20T04:13:01.513989Z",
     "shell.execute_reply": "2025-02-20T04:13:01.513274Z"
    },
    "papermill": {
     "duration": 0.013059,
     "end_time": "2025-02-20T04:13:01.515228",
     "exception": false,
     "start_time": "2025-02-20T04:13:01.502169",
     "status": "completed"
    },
    "scrolled": false,
    "tags": []
   },
   "outputs": [],
   "source": [
    "carousel = create_carousel(npub)\n",
    "docs = ', '.join(['\"{0:s}\"'.format(k.split('/')[-1]) for k in res])\n",
    "slides = ', '.join([f'\"slide{k}\"' for k in range(1, npub + 1)])\n",
    "\n",
    "with open(\"daily_template.html\", \"r\") as tpl:\n",
    "    page = tpl.read()\n",
    "    page = page.replace(\"{%-- carousel:s --%}\", carousel)\\\n",
    "               .replace(\"{%-- suptitle:s --%}\",  \"7-day archives\" )\\\n",
    "               .replace(\"{%-- docs:s --%}\", docs)\\\n",
    "               .replace(\"{%-- slides:s --%}\", slides)\n",
    "    \n",
    "with open(\"_build/html/index_7days.html\", 'w') as fout:\n",
    "    fout.write(page)"
   ]
  },
  {
   "cell_type": "code",
   "execution_count": 14,
   "id": "adc1a1ec",
   "metadata": {
    "execution": {
     "iopub.execute_input": "2025-02-20T04:13:01.527514Z",
     "iopub.status.busy": "2025-02-20T04:13:01.527029Z",
     "iopub.status.idle": "2025-02-20T04:13:01.534070Z",
     "shell.execute_reply": "2025-02-20T04:13:01.533513Z"
    },
    "papermill": {
     "duration": 0.014329,
     "end_time": "2025-02-20T04:13:01.535149",
     "exception": false,
     "start_time": "2025-02-20T04:13:01.520820",
     "status": "completed"
    },
    "tags": []
   },
   "outputs": [
    {
     "name": "stdout",
     "output_type": "stream",
     "text": [
      "3  publications in the last day.\n"
     ]
    }
   ],
   "source": [
    "# redo for today\n",
    "days = 1\n",
    "res = list(get_last_n_days(dates, days))\n",
    "npub = len(res)\n",
    "print(len(res), f\" publications in the last day.\")\n",
    "\n",
    "carousel = create_carousel(npub)\n",
    "docs = ', '.join(['\"{0:s}\"'.format(k.split('/')[-1]) for k in res])\n",
    "slides = ', '.join([f'\"slide{k}\"' for k in range(1, npub + 1)])\n",
    "\n",
    "with open(\"daily_template.html\", \"r\") as tpl:\n",
    "    page = tpl.read()\n",
    "    page = page.replace(\"{%-- carousel:s --%}\", carousel)\\\n",
    "               .replace(\"{%-- suptitle:s --%}\",  \"Daily\" )\\\n",
    "               .replace(\"{%-- docs:s --%}\", docs)\\\n",
    "               .replace(\"{%-- slides:s --%}\", slides)\n",
    "    \n",
    "# print(carousel, docs, slides)\n",
    "# print(page)\n",
    "with open(\"_build/html/index_daily.html\", 'w') as fout:\n",
    "    fout.write(page)"
   ]
  },
  {
   "cell_type": "code",
   "execution_count": 15,
   "id": "00eece82",
   "metadata": {
    "execution": {
     "iopub.execute_input": "2025-02-20T04:13:01.547248Z",
     "iopub.status.busy": "2025-02-20T04:13:01.546798Z",
     "iopub.status.idle": "2025-02-20T04:13:01.553470Z",
     "shell.execute_reply": "2025-02-20T04:13:01.552923Z"
    },
    "papermill": {
     "duration": 0.01386,
     "end_time": "2025-02-20T04:13:01.554574",
     "exception": false,
     "start_time": "2025-02-20T04:13:01.540714",
     "status": "completed"
    },
    "scrolled": false,
    "tags": []
   },
   "outputs": [
    {
     "name": "stdout",
     "output_type": "stream",
     "text": [
      "6  6 publications selected.\n"
     ]
    }
   ],
   "source": [
    "# Create the flat grid of the last N papers (fixed number regardless of dates)\n",
    "from itertools import islice \n",
    "\n",
    "npub = 6\n",
    "res = [k[0] for k in (islice(reversed(sorted(dates, key=lambda x: x[1])), 6))]\n",
    "print(len(res), f\" {npub} publications selected.\")\n",
    "\n",
    "grid = create_grid(npub)\n",
    "docs = ', '.join(['\"{0:s}\"'.format(k.split('/')[-1]) for k in res])\n",
    "slides = ', '.join([f'\"slide{k}\"' for k in range(1, npub + 1)])\n",
    "\n",
    "with open(\"grid_template.html\", \"r\") as tpl:\n",
    "    page = tpl.read()\n",
    "    page = page.replace(\"{%-- grid-content:s --%}\", grid)\\\n",
    "               .replace(\"{%-- suptitle:s --%}\",  f\"Last {npub:,d} papers\" )\\\n",
    "               .replace(\"{%-- docs:s --%}\", docs)\\\n",
    "               .replace(\"{%-- slides:s --%}\", slides)\n",
    "    \n",
    "# print(grid, docs, slides)\n",
    "# print(page)\n",
    "with open(\"_build/html/index_npub_grid.html\", 'w') as fout:\n",
    "    fout.write(page)"
   ]
  }
 ],
 "metadata": {
  "kernelspec": {
   "display_name": "Python 3 (ipykernel)",
   "language": "python",
   "name": "python3"
  },
  "language_info": {
   "codemirror_mode": {
    "name": "ipython",
    "version": 3
   },
   "file_extension": ".py",
   "mimetype": "text/x-python",
   "name": "python",
   "nbconvert_exporter": "python",
   "pygments_lexer": "ipython3",
   "version": "3.9.21"
  },
  "papermill": {
   "default_parameters": {},
   "duration": 73.176977,
   "end_time": "2025-02-20T04:13:01.877342",
   "environment_variables": {},
   "exception": null,
   "input_path": "MPIA daily digest.ipynb",
   "output_path": "log.ipynb",
   "parameters": {},
   "start_time": "2025-02-20T04:11:48.700365",
   "version": "2.6.0"
  },
  "vscode": {
   "interpreter": {
    "hash": "aee8b7b246df8f9039afb4144a1f6fd8d2ca17a180786b69acc140d282b71a49"
   }
  },
  "widgets": {
   "application/vnd.jupyter.widget-state+json": {
    "state": {
     "1bc79438664f4ca6bdbe5cb0f1d1a1d5": {
      "model_module": "@jupyter-widgets/controls",
      "model_module_version": "2.0.0",
      "model_name": "HTMLModel",
      "state": {
       "_dom_classes": [],
       "_model_module": "@jupyter-widgets/controls",
       "_model_module_version": "2.0.0",
       "_model_name": "HTMLModel",
       "_view_count": null,
       "_view_module": "@jupyter-widgets/controls",
       "_view_module_version": "2.0.0",
       "_view_name": "HTMLView",
       "description": "",
       "description_allow_html": false,
       "layout": "IPY_MODEL_6e4b11810cb04ea0b76a2abbf3c3ac5f",
       "placeholder": "​",
       "style": "IPY_MODEL_9e73e365163340f385da10716e06e97a",
       "tabbable": null,
       "tooltip": null,
       "value": " 4/4 [00:49&lt;00:00, 11.19s/it]"
      }
     },
     "202358830cd444daaf1d7a9f965a316d": {
      "model_module": "@jupyter-widgets/controls",
      "model_module_version": "2.0.0",
      "model_name": "ProgressStyleModel",
      "state": {
       "_model_module": "@jupyter-widgets/controls",
       "_model_module_version": "2.0.0",
       "_model_name": "ProgressStyleModel",
       "_view_count": null,
       "_view_module": "@jupyter-widgets/base",
       "_view_module_version": "2.0.0",
       "_view_name": "StyleView",
       "bar_color": null,
       "description_width": ""
      }
     },
     "34227527aa974261a719c94369351ee4": {
      "model_module": "@jupyter-widgets/controls",
      "model_module_version": "2.0.0",
      "model_name": "HBoxModel",
      "state": {
       "_dom_classes": [],
       "_model_module": "@jupyter-widgets/controls",
       "_model_module_version": "2.0.0",
       "_model_name": "HBoxModel",
       "_view_count": null,
       "_view_module": "@jupyter-widgets/controls",
       "_view_module_version": "2.0.0",
       "_view_name": "HBoxView",
       "box_style": "",
       "children": [
        "IPY_MODEL_61eaf42d86ae4acf8f9f1d998e3530ff",
        "IPY_MODEL_807acee5cedb4386b77c243350355892",
        "IPY_MODEL_1bc79438664f4ca6bdbe5cb0f1d1a1d5"
       ],
       "layout": "IPY_MODEL_e4385d20febe4bdb9d61ebd818a954d3",
       "tabbable": null,
       "tooltip": null
      }
     },
     "61eaf42d86ae4acf8f9f1d998e3530ff": {
      "model_module": "@jupyter-widgets/controls",
      "model_module_version": "2.0.0",
      "model_name": "HTMLModel",
      "state": {
       "_dom_classes": [],
       "_model_module": "@jupyter-widgets/controls",
       "_model_module_version": "2.0.0",
       "_model_name": "HTMLModel",
       "_view_count": null,
       "_view_module": "@jupyter-widgets/controls",
       "_view_module_version": "2.0.0",
       "_view_name": "HTMLView",
       "description": "",
       "description_allow_html": false,
       "layout": "IPY_MODEL_795ab102408247fd8b06517298f0d36d",
       "placeholder": "​",
       "style": "IPY_MODEL_980840ec60c84b7c98a9e130b59758f0",
       "tabbable": null,
       "tooltip": null,
       "value": "100%"
      }
     },
     "6e4b11810cb04ea0b76a2abbf3c3ac5f": {
      "model_module": "@jupyter-widgets/base",
      "model_module_version": "2.0.0",
      "model_name": "LayoutModel",
      "state": {
       "_model_module": "@jupyter-widgets/base",
       "_model_module_version": "2.0.0",
       "_model_name": "LayoutModel",
       "_view_count": null,
       "_view_module": "@jupyter-widgets/base",
       "_view_module_version": "2.0.0",
       "_view_name": "LayoutView",
       "align_content": null,
       "align_items": null,
       "align_self": null,
       "border_bottom": null,
       "border_left": null,
       "border_right": null,
       "border_top": null,
       "bottom": null,
       "display": null,
       "flex": null,
       "flex_flow": null,
       "grid_area": null,
       "grid_auto_columns": null,
       "grid_auto_flow": null,
       "grid_auto_rows": null,
       "grid_column": null,
       "grid_gap": null,
       "grid_row": null,
       "grid_template_areas": null,
       "grid_template_columns": null,
       "grid_template_rows": null,
       "height": null,
       "justify_content": null,
       "justify_items": null,
       "left": null,
       "margin": null,
       "max_height": null,
       "max_width": null,
       "min_height": null,
       "min_width": null,
       "object_fit": null,
       "object_position": null,
       "order": null,
       "overflow": null,
       "padding": null,
       "right": null,
       "top": null,
       "visibility": null,
       "width": null
      }
     },
     "795ab102408247fd8b06517298f0d36d": {
      "model_module": "@jupyter-widgets/base",
      "model_module_version": "2.0.0",
      "model_name": "LayoutModel",
      "state": {
       "_model_module": "@jupyter-widgets/base",
       "_model_module_version": "2.0.0",
       "_model_name": "LayoutModel",
       "_view_count": null,
       "_view_module": "@jupyter-widgets/base",
       "_view_module_version": "2.0.0",
       "_view_name": "LayoutView",
       "align_content": null,
       "align_items": null,
       "align_self": null,
       "border_bottom": null,
       "border_left": null,
       "border_right": null,
       "border_top": null,
       "bottom": null,
       "display": null,
       "flex": null,
       "flex_flow": null,
       "grid_area": null,
       "grid_auto_columns": null,
       "grid_auto_flow": null,
       "grid_auto_rows": null,
       "grid_column": null,
       "grid_gap": null,
       "grid_row": null,
       "grid_template_areas": null,
       "grid_template_columns": null,
       "grid_template_rows": null,
       "height": null,
       "justify_content": null,
       "justify_items": null,
       "left": null,
       "margin": null,
       "max_height": null,
       "max_width": null,
       "min_height": null,
       "min_width": null,
       "object_fit": null,
       "object_position": null,
       "order": null,
       "overflow": null,
       "padding": null,
       "right": null,
       "top": null,
       "visibility": null,
       "width": null
      }
     },
     "807acee5cedb4386b77c243350355892": {
      "model_module": "@jupyter-widgets/controls",
      "model_module_version": "2.0.0",
      "model_name": "FloatProgressModel",
      "state": {
       "_dom_classes": [],
       "_model_module": "@jupyter-widgets/controls",
       "_model_module_version": "2.0.0",
       "_model_name": "FloatProgressModel",
       "_view_count": null,
       "_view_module": "@jupyter-widgets/controls",
       "_view_module_version": "2.0.0",
       "_view_name": "ProgressView",
       "bar_style": "success",
       "description": "",
       "description_allow_html": false,
       "layout": "IPY_MODEL_98c450808e7d4c04a9b7a9db510c776a",
       "max": 4.0,
       "min": 0.0,
       "orientation": "horizontal",
       "style": "IPY_MODEL_202358830cd444daaf1d7a9f965a316d",
       "tabbable": null,
       "tooltip": null,
       "value": 4.0
      }
     },
     "980840ec60c84b7c98a9e130b59758f0": {
      "model_module": "@jupyter-widgets/controls",
      "model_module_version": "2.0.0",
      "model_name": "HTMLStyleModel",
      "state": {
       "_model_module": "@jupyter-widgets/controls",
       "_model_module_version": "2.0.0",
       "_model_name": "HTMLStyleModel",
       "_view_count": null,
       "_view_module": "@jupyter-widgets/base",
       "_view_module_version": "2.0.0",
       "_view_name": "StyleView",
       "background": null,
       "description_width": "",
       "font_size": null,
       "text_color": null
      }
     },
     "98c450808e7d4c04a9b7a9db510c776a": {
      "model_module": "@jupyter-widgets/base",
      "model_module_version": "2.0.0",
      "model_name": "LayoutModel",
      "state": {
       "_model_module": "@jupyter-widgets/base",
       "_model_module_version": "2.0.0",
       "_model_name": "LayoutModel",
       "_view_count": null,
       "_view_module": "@jupyter-widgets/base",
       "_view_module_version": "2.0.0",
       "_view_name": "LayoutView",
       "align_content": null,
       "align_items": null,
       "align_self": null,
       "border_bottom": null,
       "border_left": null,
       "border_right": null,
       "border_top": null,
       "bottom": null,
       "display": null,
       "flex": null,
       "flex_flow": null,
       "grid_area": null,
       "grid_auto_columns": null,
       "grid_auto_flow": null,
       "grid_auto_rows": null,
       "grid_column": null,
       "grid_gap": null,
       "grid_row": null,
       "grid_template_areas": null,
       "grid_template_columns": null,
       "grid_template_rows": null,
       "height": null,
       "justify_content": null,
       "justify_items": null,
       "left": null,
       "margin": null,
       "max_height": null,
       "max_width": null,
       "min_height": null,
       "min_width": null,
       "object_fit": null,
       "object_position": null,
       "order": null,
       "overflow": null,
       "padding": null,
       "right": null,
       "top": null,
       "visibility": null,
       "width": null
      }
     },
     "9e73e365163340f385da10716e06e97a": {
      "model_module": "@jupyter-widgets/controls",
      "model_module_version": "2.0.0",
      "model_name": "HTMLStyleModel",
      "state": {
       "_model_module": "@jupyter-widgets/controls",
       "_model_module_version": "2.0.0",
       "_model_name": "HTMLStyleModel",
       "_view_count": null,
       "_view_module": "@jupyter-widgets/base",
       "_view_module_version": "2.0.0",
       "_view_name": "StyleView",
       "background": null,
       "description_width": "",
       "font_size": null,
       "text_color": null
      }
     },
     "e4385d20febe4bdb9d61ebd818a954d3": {
      "model_module": "@jupyter-widgets/base",
      "model_module_version": "2.0.0",
      "model_name": "LayoutModel",
      "state": {
       "_model_module": "@jupyter-widgets/base",
       "_model_module_version": "2.0.0",
       "_model_name": "LayoutModel",
       "_view_count": null,
       "_view_module": "@jupyter-widgets/base",
       "_view_module_version": "2.0.0",
       "_view_name": "LayoutView",
       "align_content": null,
       "align_items": null,
       "align_self": null,
       "border_bottom": null,
       "border_left": null,
       "border_right": null,
       "border_top": null,
       "bottom": null,
       "display": null,
       "flex": null,
       "flex_flow": null,
       "grid_area": null,
       "grid_auto_columns": null,
       "grid_auto_flow": null,
       "grid_auto_rows": null,
       "grid_column": null,
       "grid_gap": null,
       "grid_row": null,
       "grid_template_areas": null,
       "grid_template_columns": null,
       "grid_template_rows": null,
       "height": null,
       "justify_content": null,
       "justify_items": null,
       "left": null,
       "margin": null,
       "max_height": null,
       "max_width": null,
       "min_height": null,
       "min_width": null,
       "object_fit": null,
       "object_position": null,
       "order": null,
       "overflow": null,
       "padding": null,
       "right": null,
       "top": null,
       "visibility": null,
       "width": null
      }
     }
    },
    "version_major": 2,
    "version_minor": 0
   }
  }
 },
 "nbformat": 4,
 "nbformat_minor": 5
}