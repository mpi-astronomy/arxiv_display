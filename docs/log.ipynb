{
 "cells": [
  {
   "cell_type": "markdown",
   "id": "92bcb855",
   "metadata": {
    "papermill": {
     "duration": 0.005688,
     "end_time": "2022-09-13T05:19:57.997837",
     "exception": false,
     "start_time": "2022-09-13T05:19:57.992149",
     "status": "completed"
    },
    "tags": []
   },
   "source": [
    "# MPIA Arxiv on Deck 2\n",
    "\n",
    "Contains the steps to produce the paper extractions."
   ]
  },
  {
   "cell_type": "code",
   "execution_count": 1,
   "id": "3a0d6e11",
   "metadata": {
    "execution": {
     "iopub.execute_input": "2022-09-13T05:19:58.008615Z",
     "iopub.status.busy": "2022-09-13T05:19:58.008031Z",
     "iopub.status.idle": "2022-09-13T05:19:58.187279Z",
     "shell.execute_reply": "2022-09-13T05:19:58.186477Z"
    },
    "papermill": {
     "duration": 0.187328,
     "end_time": "2022-09-13T05:19:58.189583",
     "exception": false,
     "start_time": "2022-09-13T05:19:58.002255",
     "status": "completed"
    },
    "tags": []
   },
   "outputs": [],
   "source": [
    "# Imports\n",
    "import os\n",
    "from IPython.display import Markdown, display\n",
    "from tqdm.notebook import tqdm\n",
    "import warnings\n",
    "from PIL import Image \n",
    "\n",
    "# requires arxiv_on_deck_2\n",
    "\n",
    "from arxiv_on_deck_2.arxiv2 import (get_new_papers, \n",
    "                                    get_paper_from_identifier,\n",
    "                                    retrieve_document_source, \n",
    "                                    get_markdown_badge)\n",
    "from arxiv_on_deck_2 import (latex, \n",
    "                             mpia,\n",
    "                             highlight_authors_in_list)\n",
    "\n",
    "# Sometimes images are really big\n",
    "Image.MAX_IMAGE_PIXELS = 1000000000 "
   ]
  },
  {
   "cell_type": "code",
   "execution_count": 2,
   "id": "22aa9d44",
   "metadata": {
    "execution": {
     "iopub.execute_input": "2022-09-13T05:19:58.200200Z",
     "iopub.status.busy": "2022-09-13T05:19:58.199514Z",
     "iopub.status.idle": "2022-09-13T05:19:58.205036Z",
     "shell.execute_reply": "2022-09-13T05:19:58.204432Z"
    },
    "papermill": {
     "duration": 0.012883,
     "end_time": "2022-09-13T05:19:58.206781",
     "exception": false,
     "start_time": "2022-09-13T05:19:58.193898",
     "status": "completed"
    },
    "tags": []
   },
   "outputs": [],
   "source": [
    "# Some useful definitions.\n",
    "\n",
    "class AffiliationWarning(UserWarning):\n",
    "    pass\n",
    "\n",
    "class AffiliationError(RuntimeError):\n",
    "    pass\n",
    "\n",
    "def validation(source: str):\n",
    "    \"\"\"Raises error paper during parsing of source file\n",
    "    \n",
    "    Allows checks before parsing TeX code.\n",
    "    \n",
    "    Raises AffiliationWarning\n",
    "    \"\"\"\n",
    "    check = mpia.affiliation_verifications(source, verbose=True)\n",
    "    if check is not True:\n",
    "        raise AffiliationError(\"mpia.affiliation_verifications: \" + check)\n",
    "\n",
    "        \n",
    "warnings.simplefilter('always', AffiliationWarning)"
   ]
  },
  {
   "cell_type": "code",
   "execution_count": 3,
   "id": "14622700",
   "metadata": {
    "execution": {
     "iopub.execute_input": "2022-09-13T05:19:58.217996Z",
     "iopub.status.busy": "2022-09-13T05:19:58.217261Z",
     "iopub.status.idle": "2022-09-13T05:19:58.221554Z",
     "shell.execute_reply": "2022-09-13T05:19:58.220873Z"
    },
    "papermill": {
     "duration": 0.01114,
     "end_time": "2022-09-13T05:19:58.223059",
     "exception": false,
     "start_time": "2022-09-13T05:19:58.211919",
     "status": "completed"
    },
    "tags": []
   },
   "outputs": [],
   "source": [
    "# additional CSS to consider. \n",
    "# TODO: Current into each exported file. \n",
    "#       This should be set once into the webpages directly.\n",
    "#       With only the class/id definitions in the .md files.\n",
    "\n",
    "debug_html = \"\"\"\n",
    "<style>\n",
    "#wrap{ overflow:auto; }\n",
    "#fig1{ background:yellow; width:100%; float:left; padding:5px;  }\n",
    "#fig2{ background:red; width:50%; float:left; clear:left; padding:5px;  }\n",
    "#fig3{ background:green; width:50%; float:left; padding:5px;   }\n",
    ".macros{ background:yellow; visibility:visible;}\n",
    "h1 {margin: 0 0 0 0;}\n",
    "mark {background-color:#fff3b6;}\n",
    "img {object-fit:contain; max-height:250px; display:inline-block; text-align: center;}\n",
    "</style>\n",
    "\"\"\" \n",
    "html = \"\"\"\n",
    "<style>\n",
    "#wrap{ overflow:auto; }\n",
    "#fig1{ width:100%; float:left; padding: 5px;  }\n",
    "#fig2{ width:50%; float:left; clear:left; padding: 5px;  }\n",
    "#fig3{ width:50%; float:left; padding: 5px;  }\n",
    ".macros{ visibility:hidden; height:0px; }\n",
    "h1 {margin: 0em 0 0 0;}\n",
    "mark {background-color:#fff3b6;}\n",
    "img {object-fit:contain; max-height:250px; display:inline-block; text-align: center;}\n",
    "</style>\n",
    "\"\"\""
   ]
  },
  {
   "cell_type": "markdown",
   "id": "14bd6310",
   "metadata": {
    "papermill": {
     "duration": 0.00409,
     "end_time": "2022-09-13T05:19:58.231198",
     "exception": false,
     "start_time": "2022-09-13T05:19:58.227108",
     "status": "completed"
    },
    "tags": []
   },
   "source": [
    "## get list of arxiv paper candidates\n",
    "\n",
    "We use the MPIA mitarbeiter list webpage from mpia.de to get author names\n",
    "We then get all new papers from Arxiv and match authors"
   ]
  },
  {
   "cell_type": "code",
   "execution_count": 4,
   "id": "2645e73a",
   "metadata": {
    "execution": {
     "iopub.execute_input": "2022-09-13T05:19:58.242937Z",
     "iopub.status.busy": "2022-09-13T05:19:58.242298Z",
     "iopub.status.idle": "2022-09-13T05:20:23.263687Z",
     "shell.execute_reply": "2022-09-13T05:20:23.262987Z"
    },
    "papermill": {
     "duration": 25.028678,
     "end_time": "2022-09-13T05:20:23.265538",
     "exception": false,
     "start_time": "2022-09-13T05:19:58.236860",
     "status": "completed"
    },
    "tags": []
   },
   "outputs": [
    {
     "name": "stdout",
     "output_type": "stream",
     "text": [
      "Arxiv has 70 new papers today\n",
      "          20 with possible author matches\n"
     ]
    }
   ],
   "source": [
    "# get list from MPIA website\n",
    "# it automatically filters identified non-scientists :func:`mpia.filter_non_scientists`\n",
    "mpia_authors = mpia.get_mpia_mitarbeiter_list()\n",
    "new_papers = get_new_papers()\n",
    "# add manual references\n",
    "add_paper_refs = []\n",
    "new_papers.extend([get_paper_from_identifier(k) for k in add_paper_refs])\n",
    "\n",
    "# select only papers with matching author names and highlight authors\n",
    "hl_list = [k[0] for k in mpia_authors]\n",
    "\n",
    "candidates = []\n",
    "for paperk in new_papers:\n",
    "    hl_authors = highlight_authors_in_list(paperk['authors'], hl_list)\n",
    "    matches = [(hl, orig) for hl, orig in zip(hl_authors, paperk['authors']) if 'mark' in hl]\n",
    "    paperk['authors'] = hl_authors\n",
    "    if matches:\n",
    "        candidates.append(paperk)\n",
    "print(\"\"\"Arxiv has {0:,d} new papers today\"\"\".format(len(new_papers)))        \n",
    "print(\"\"\"          {0:,d} with possible author matches\"\"\".format(len(candidates)))"
   ]
  },
  {
   "cell_type": "markdown",
   "id": "3543b34a",
   "metadata": {
    "papermill": {
     "duration": 0.004356,
     "end_time": "2022-09-13T05:20:23.274471",
     "exception": false,
     "start_time": "2022-09-13T05:20:23.270115",
     "status": "completed"
    },
    "tags": []
   },
   "source": [
    "# Parse sources and generate relevant outputs\n",
    "\n",
    "From the candidates, we do the following steps:\n",
    "* get their tarball from ArXiv (and extract data)\n",
    "* find the main .tex file: find one with \\documentclass{...} (sometimes it's non trivial)\n",
    "* Check affiliations with :func:`validation`, which uses :func:`mpia.affiliation_verifications`\n",
    "* If passing the affiliations: we parse the .tex source\n",
    "   * inject sub-documents into the main (flatten the main document)\n",
    "   * parse structure, extract information (title, abstract, authors, figures...)\n",
    "   * handles `\\graphicspath` if provided\n",
    "* Generate the .md document."
   ]
  },
  {
   "cell_type": "code",
   "execution_count": 5,
   "id": "9576b79e",
   "metadata": {
    "execution": {
     "iopub.execute_input": "2022-09-13T05:20:23.284716Z",
     "iopub.status.busy": "2022-09-13T05:20:23.284211Z",
     "iopub.status.idle": "2022-09-13T05:22:11.605559Z",
     "shell.execute_reply": "2022-09-13T05:22:11.604820Z"
    },
    "papermill": {
     "duration": 108.33657,
     "end_time": "2022-09-13T05:22:11.615168",
     "exception": false,
     "start_time": "2022-09-13T05:20:23.278598",
     "status": "completed"
    },
    "scrolled": false,
    "tags": []
   },
   "outputs": [
    {
     "data": {
      "application/vnd.jupyter.widget-view+json": {
       "model_id": "071016c6749e4f51bb147a7a2632648d",
       "version_major": 2,
       "version_minor": 0
      },
      "text/plain": [
       "  0%|          | 0/19 [00:00<?, ?it/s]"
      ]
     },
     "metadata": {},
     "output_type": "display_data"
    },
    {
     "name": "stdout",
     "output_type": "stream",
     "text": [
      "Retrieving document from  https://arxiv.org/e-print/2209.04452\n"
     ]
    },
    {
     "name": "stdout",
     "output_type": "stream",
     "text": [
      "extracting tarball to tmp_2209.04452..."
     ]
    },
    {
     "name": "stdout",
     "output_type": "stream",
     "text": [
      " done.\n",
      "Retrieving document from  https://arxiv.org/e-print/2209.04453\n"
     ]
    },
    {
     "name": "stdout",
     "output_type": "stream",
     "text": [
      "extracting tarball to tmp_2209.04453..."
     ]
    },
    {
     "name": "stdout",
     "output_type": "stream",
     "text": [
      " done.\n",
      "Retrieving document from  https://arxiv.org/e-print/2209.04460\n"
     ]
    },
    {
     "name": "stdout",
     "output_type": "stream",
     "text": [
      "extracting tarball to tmp_2209.04460..."
     ]
    },
    {
     "name": "stdout",
     "output_type": "stream",
     "text": [
      " done.\n",
      "Retrieving document from  https://arxiv.org/e-print/2209.04463\n"
     ]
    },
    {
     "name": "stdout",
     "output_type": "stream",
     "text": [
      "extracting tarball to tmp_2209.04463..."
     ]
    },
    {
     "name": "stdout",
     "output_type": "stream",
     "text": [
      " done.\n",
      "Retrieving document from  https://arxiv.org/e-print/2209.04465\n"
     ]
    },
    {
     "name": "stderr",
     "output_type": "stream",
     "text": [
      "/opt/hostedtoolcache/Python/3.9.13/x64/lib/python3.9/site-packages/IPython/core/interactiveshell.py:3378: LatexWarning: Multiple tex files.\n",
      "\n",
      "  exec(code_obj, self.user_global_ns, self.user_ns)\n",
      "/opt/hostedtoolcache/Python/3.9.13/x64/lib/python3.9/site-packages/IPython/core/interactiveshell.py:3378: LatexWarning: Found documentclass in tmp_2209.04463/SN2020jgb.tex\n",
      "\n",
      "  exec(code_obj, self.user_global_ns, self.user_ns)\n",
      "/opt/hostedtoolcache/Python/3.9.13/x64/lib/python3.9/site-packages/arxiv_on_deck_2/latex.py:292: LatexWarning: Latex injecting: './spec.tex' from 'tmp_2209.04463/spec.tex'\n",
      "  warnings.warn(LatexWarning(f\"Latex injecting: '{ext}' from '{subsource}'\"))\n"
     ]
    },
    {
     "name": "stdout",
     "output_type": "stream",
     "text": [
      "extracting tarball to tmp_2209.04465..."
     ]
    },
    {
     "name": "stdout",
     "output_type": "stream",
     "text": [
      " done.\n",
      "Retrieving document from  https://arxiv.org/e-print/2209.04466\n"
     ]
    },
    {
     "name": "stdout",
     "output_type": "stream",
     "text": [
      "extracting tarball to tmp_2209.04466..."
     ]
    },
    {
     "name": "stdout",
     "output_type": "stream",
     "text": [
      " done.\n",
      "Retrieving document from  https://arxiv.org/e-print/2209.04583\n"
     ]
    },
    {
     "name": "stdout",
     "output_type": "stream",
     "text": [
      "extracting tarball to tmp_2209.04583..."
     ]
    },
    {
     "name": "stdout",
     "output_type": "stream",
     "text": [
      " done.\n",
      "Retrieving document from  https://arxiv.org/e-print/2209.04607\n"
     ]
    },
    {
     "name": "stderr",
     "output_type": "stream",
     "text": [
      "/opt/hostedtoolcache/Python/3.9.13/x64/lib/python3.9/site-packages/IPython/core/interactiveshell.py:3378: LatexWarning: Multiple tex files.\n",
      "\n",
      "  exec(code_obj, self.user_global_ns, self.user_ns)\n",
      "/opt/hostedtoolcache/Python/3.9.13/x64/lib/python3.9/site-packages/IPython/core/interactiveshell.py:3378: LatexWarning: Found documentclass in tmp_2209.04583/natbib.tex\n",
      "\n",
      "  exec(code_obj, self.user_global_ns, self.user_ns)\n"
     ]
    },
    {
     "name": "stdout",
     "output_type": "stream",
     "text": [
      "extracting tarball to tmp_2209.04607..."
     ]
    },
    {
     "name": "stdout",
     "output_type": "stream",
     "text": [
      " done.\n"
     ]
    },
    {
     "name": "stderr",
     "output_type": "stream",
     "text": [
      "/tmp/ipykernel_2270/4030337529.py:34: LatexWarning: 2209.04607 did not run properly\n",
      "[Errno 2] No such file or directory: 'gs'\n",
      "  warnings.warn(latex.LatexWarning(f\"{paper_id:s} did not run properly\\n\" +\n"
     ]
    },
    {
     "name": "stdout",
     "output_type": "stream",
     "text": [
      "Retrieving document from  https://arxiv.org/e-print/2209.04914\n"
     ]
    },
    {
     "name": "stdout",
     "output_type": "stream",
     "text": [
      "extracting tarball to tmp_2209.04914..."
     ]
    },
    {
     "name": "stdout",
     "output_type": "stream",
     "text": [
      " done.\n",
      "Retrieving document from  https://arxiv.org/e-print/2209.04943\n"
     ]
    },
    {
     "name": "stdout",
     "output_type": "stream",
     "text": [
      "extracting tarball to tmp_2209.04943..."
     ]
    },
    {
     "name": "stdout",
     "output_type": "stream",
     "text": [
      " done.\n",
      "Retrieving document from  https://arxiv.org/e-print/2209.04970\n"
     ]
    },
    {
     "name": "stdout",
     "output_type": "stream",
     "text": [
      "extracting tarball to tmp_2209.04970..."
     ]
    },
    {
     "name": "stdout",
     "output_type": "stream",
     "text": [
      " done.\n",
      "Retrieving document from  https://arxiv.org/e-print/2209.05051\n"
     ]
    },
    {
     "name": "stdout",
     "output_type": "stream",
     "text": [
      "extracting tarball to tmp_2209.05051..."
     ]
    },
    {
     "name": "stdout",
     "output_type": "stream",
     "text": [
      " done.\n",
      "Retrieving document from  https://arxiv.org/e-print/2209.05107\n"
     ]
    },
    {
     "name": "stdout",
     "output_type": "stream",
     "text": [
      "extracting tarball to tmp_2209.05107..."
     ]
    },
    {
     "name": "stdout",
     "output_type": "stream",
     "text": [
      " done.\n",
      "Retrieving document from  https://arxiv.org/e-print/2209.05125\n"
     ]
    },
    {
     "name": "stderr",
     "output_type": "stream",
     "text": [
      "/opt/hostedtoolcache/Python/3.9.13/x64/lib/python3.9/site-packages/IPython/core/interactiveshell.py:3378: LatexWarning: Multiple tex files.\n",
      "\n",
      "  exec(code_obj, self.user_global_ns, self.user_ns)\n",
      "/opt/hostedtoolcache/Python/3.9.13/x64/lib/python3.9/site-packages/IPython/core/interactiveshell.py:3378: LatexWarning: Found documentclass in tmp_2209.05107/natbib.tex\n",
      "\n",
      "  exec(code_obj, self.user_global_ns, self.user_ns)\n"
     ]
    },
    {
     "name": "stdout",
     "output_type": "stream",
     "text": [
      "extracting tarball to tmp_2209.05125..."
     ]
    },
    {
     "name": "stdout",
     "output_type": "stream",
     "text": [
      " done.\n",
      "Retrieving document from  https://arxiv.org/e-print/2209.05138\n"
     ]
    },
    {
     "name": "stdout",
     "output_type": "stream",
     "text": [
      "extracting tarball to tmp_2209.05138..."
     ]
    },
    {
     "name": "stdout",
     "output_type": "stream",
     "text": [
      " done.\n",
      "Retrieving document from  https://arxiv.org/e-print/2209.05205\n"
     ]
    },
    {
     "name": "stdout",
     "output_type": "stream",
     "text": [
      "extracting tarball to tmp_2209.05205..."
     ]
    },
    {
     "name": "stdout",
     "output_type": "stream",
     "text": [
      " done.\n",
      "Retrieving document from  https://arxiv.org/e-print/2209.05229\n"
     ]
    },
    {
     "name": "stdout",
     "output_type": "stream",
     "text": [
      "extracting tarball to tmp_2209.05229..."
     ]
    },
    {
     "name": "stdout",
     "output_type": "stream",
     "text": [
      " done.\n",
      "Retrieving document from  https://arxiv.org/e-print/2209.05242\n"
     ]
    },
    {
     "name": "stdout",
     "output_type": "stream",
     "text": [
      "extracting tarball to tmp_2209.05242..."
     ]
    },
    {
     "name": "stdout",
     "output_type": "stream",
     "text": [
      " done.\n",
      "Retrieving document from  https://arxiv.org/e-print/2209.05303\n"
     ]
    },
    {
     "name": "stdout",
     "output_type": "stream",
     "text": [
      "extracting tarball to tmp_2209.05303..."
     ]
    },
    {
     "name": "stdout",
     "output_type": "stream",
     "text": [
      " done.\n"
     ]
    },
    {
     "name": "stderr",
     "output_type": "stream",
     "text": [
      "/opt/hostedtoolcache/Python/3.9.13/x64/lib/python3.9/site-packages/IPython/core/interactiveshell.py:3378: LatexWarning: Multiple tex files.\n",
      "\n",
      "  exec(code_obj, self.user_global_ns, self.user_ns)\n",
      "/opt/hostedtoolcache/Python/3.9.13/x64/lib/python3.9/site-packages/IPython/core/interactiveshell.py:3378: LatexWarning: Found documentclass in tmp_2209.05303/arxiv.tex\n",
      "\n",
      "  exec(code_obj, self.user_global_ns, self.user_ns)\n"
     ]
    }
   ],
   "source": [
    "documents = []\n",
    "failed = []\n",
    "for paper in tqdm(candidates[:-1]):\n",
    "    paper_id = paper['identifier'].lower().replace('arxiv:', '')\n",
    "    \n",
    "    folder = f'tmp_{paper_id}'\n",
    "\n",
    "    try:\n",
    "        if not os.path.isdir(folder):\n",
    "            folder = retrieve_document_source(f\"{paper_id}\", f'tmp_{paper_id}')\n",
    "        \n",
    "        try:\n",
    "            doc = latex.LatexDocument(folder, validation=validation)    \n",
    "        except AffiliationError as affilerror:\n",
    "            msg = f\"ArXiv:{paper_id:s} is not an MPIA paper... \" + str(affilerror)\n",
    "            failed.append((paper, \"affiliation error: \" + str(affilerror) ))\n",
    "            continue\n",
    "        \n",
    "        # Hack because sometimes author parsing does not work well\n",
    "        if (len(doc.authors) != len(paper['authors'])):\n",
    "            doc._authors = paper['authors']\n",
    "        if (doc.abstract) in (None, ''):\n",
    "            doc._abstract = paper['abstract']\n",
    "            \n",
    "        doc.comment = (get_markdown_badge(paper_id) + \n",
    "                       \"<mark>Appeared on: \" + paper['date'] + \"</mark> - \" +\n",
    "                       \"_\" + paper['comments'] + \"_\")\n",
    "        doc.highlight_authors_in_list(hl_list)\n",
    "\n",
    "        full_md = doc.generate_markdown_text()\n",
    "        \n",
    "        documents.append((paper_id, full_md))\n",
    "    except Exception as e:\n",
    "        warnings.warn(latex.LatexWarning(f\"{paper_id:s} did not run properly\\n\" +\n",
    "                                         str(e)\n",
    "                                        ))\n",
    "        failed.append((paper, \"latex error \" + str(e)))"
   ]
  },
  {
   "cell_type": "markdown",
   "id": "2505a25c",
   "metadata": {
    "papermill": {
     "duration": 0.006494,
     "end_time": "2022-09-13T05:22:11.628176",
     "exception": false,
     "start_time": "2022-09-13T05:22:11.621682",
     "status": "completed"
    },
    "tags": []
   },
   "source": [
    "### Export the logs\n",
    "\n",
    "Throughout, we also keep track of the logs per paper. see `logs-{today date}.md` "
   ]
  },
  {
   "cell_type": "code",
   "execution_count": 6,
   "id": "d733828a",
   "metadata": {
    "execution": {
     "iopub.execute_input": "2022-09-13T05:22:11.643131Z",
     "iopub.status.busy": "2022-09-13T05:22:11.642423Z",
     "iopub.status.idle": "2022-09-13T05:22:11.677085Z",
     "shell.execute_reply": "2022-09-13T05:22:11.676319Z"
    },
    "papermill": {
     "duration": 0.047727,
     "end_time": "2022-09-13T05:22:11.682135",
     "exception": false,
     "start_time": "2022-09-13T05:22:11.634408",
     "status": "completed"
    },
    "scrolled": false,
    "tags": []
   },
   "outputs": [
    {
     "data": {
      "text/markdown": [
       "## Successful papers"
      ],
      "text/plain": [
       "<IPython.core.display.Markdown object>"
      ]
     },
     "metadata": {},
     "output_type": "display_data"
    },
    {
     "data": {
      "text/markdown": [
       "## Failed papers"
      ],
      "text/plain": [
       "<IPython.core.display.Markdown object>"
      ]
     },
     "metadata": {},
     "output_type": "display_data"
    },
    {
     "data": {
      "text/markdown": [
       "\n",
       "|||\n",
       "|---:|:---|\n",
       "| [![arXiv](https://img.shields.io/badge/arXiv-arXiv:2209.04914-b31b1b.svg)](https://arxiv.org/abs/arXiv:2209.04914) | **AGN feedback in NGC 3982**  |\n",
       "|| <mark>Prajwel Joseph</mark>, Koshy George, K. T. Paul |\n",
       "|*Appeared on*| *2022-09-13*|\n",
       "|*Comments*| *Accepted in A&A, 7 pages, 8 figures, interactive online figure at this https URL*|\n",
       "|**Abstract**| The energetic feedback from supermassive black holes can influence star formation at the centres of galaxies. Observational evidence for AGN impact on star formation can be searched in galaxies by combining ultraviolet imaging and optical integral field unit data. The ultraviolet flux directly traces recent star formation, and the integral field unit data can reveal dust attenuation, gas ionisation mechanisms, and gas/stellar kinematics from the central regions of the galaxy disk. A pilot study on NGC 3982 shows star formation suppression in the central regions of the galaxy, likely due to negative AGN feedback, and enhanced star formation in the outer regions. The case of NGC 3982 could be observational evidence of AGN feedback operating in a Seyfert galaxy. |\n",
       "|<p style=\"color:green\"> **ERROR** </p>| <p style=\"color:green\">affiliation error: mpia.affiliation_verifications: '69117' keyword not found.</p> |"
      ],
      "text/plain": [
       "<IPython.core.display.Markdown object>"
      ]
     },
     "metadata": {},
     "output_type": "display_data"
    },
    {
     "data": {
      "text/markdown": [
       "\n",
       "|||\n",
       "|---:|:---|\n",
       "| [![arXiv](https://img.shields.io/badge/arXiv-arXiv:2209.05125-b31b1b.svg)](https://arxiv.org/abs/arXiv:2209.05125) | **X-ray detection of a nova in the fireball phase**  |\n",
       "|| <mark>Ole König</mark>, et al. -- incl., <mark>Frank Haberl</mark> |\n",
       "|*Appeared on*| *2022-09-13*|\n",
       "|*Comments*| *Published in Nature on 11 May 2022*|\n",
       "|**Abstract**| Novae are caused by runaway thermonuclear burning in the hydrogen-rich envelopes of accreting white dwarfs, which results in the envelope to expand rapidly and to eject most of its mass. For more than 30 years, nova theory has predicted the existence of a \"fireball\" phase following directly the runaway fusion, which should be observable as a short, bright, and soft X-ray flash before the nova becomes visible in the optical. Here we present the unequivocal detection of an extremely bright and very soft X-ray flash of the classical Galactic nova YZ Reticuli 11 hours prior to its 9 mag optical brightening. No X-ray source was detected 4 hours before and after the event, constraining the duration of the flash to shorter than 8 hours. In agreement with theoretical predictions, the source's spectral shape is consistent with a black body of $3.27^{+0.11}_{-0.33}\\times 10^5$ K ($28.2^{+0.9}_{-2.8}$ eV), or a white dwarf atmosphere, radiating at the Eddington luminosity, with a photosphere that is only slightly larger than a typical white dwarf. This detection of the expanding white dwarf photosphere before the ejection of the envelope provides the last link of the predicted photospheric lightcurve evolution and opens a new window to measure the total nova energetics. |\n",
       "|<p style=\"color:green\"> **ERROR** </p>| <p style=\"color:green\">affiliation error: mpia.affiliation_verifications: '69117' keyword not found.</p> |"
      ],
      "text/plain": [
       "<IPython.core.display.Markdown object>"
      ]
     },
     "metadata": {},
     "output_type": "display_data"
    },
    {
     "data": {
      "text/markdown": [
       "\n",
       "|||\n",
       "|---:|:---|\n",
       "| [![arXiv](https://img.shields.io/badge/arXiv-arXiv:2209.04452-b31b1b.svg)](https://arxiv.org/abs/arXiv:2209.04452) | **A characterization method for low-frequency environmental noise in LIGO**  |\n",
       "|| Guillermo Valdes, et al. -- incl., <mark>Yanqi Zhang</mark> |\n",
       "|*Appeared on*| *2022-09-13*|\n",
       "|*Comments*| **|\n",
       "|**Abstract**| We present a method to characterize the noise in ground-based gravitational-wave observatories such as the Laser Gravitational-Wave Observatory (LIGO). This method uses linear regression algorithms such as the least absolute shrinkage and selection operator (LASSO) to identify noise sources and analyzes the detector output versus noise witness sensors to quantify the coupling of such noise. Our method can be implemented with currently available resources at LIGO, which avoids extra coding or direct experimentation at the LIGO sites. We present two examples to validate and estimate the coupling of elevated ground motion at frequencies below 10 Hz with noise in the detector output. |\n",
       "|<p style=\"color:green\"> **ERROR** </p>| <p style=\"color:green\">affiliation error: mpia.affiliation_verifications: 'Heidelberg' keyword not found.</p> |"
      ],
      "text/plain": [
       "<IPython.core.display.Markdown object>"
      ]
     },
     "metadata": {},
     "output_type": "display_data"
    },
    {
     "data": {
      "text/markdown": [
       "\n",
       "|||\n",
       "|---:|:---|\n",
       "| [![arXiv](https://img.shields.io/badge/arXiv-arXiv:2209.04453-b31b1b.svg)](https://arxiv.org/abs/arXiv:2209.04453) | **Multi-height Measurements Of The Solar Vector Magnetic Field: A White  Paper Submitted To The Decadal Survey For Solar And Space Physics  (Heliophysics) 2024-2033**  |\n",
       "|| L. Bertello, et al. -- incl., <mark>C. Henney</mark> |\n",
       "|*Appeared on*| *2022-09-13*|\n",
       "|*Comments*| *13 pages, 2 figures*|\n",
       "|**Abstract**| This white paper advocates the importance of multi-height measurements of the vector magnetic field in the solar atmosphere. As briefly described in this document, these measurements are critical for addressing some of the most fundamental questions in solar and heliospheric physics today, including: (1) What is the origin of the magnetic field observed in the solar atmosphere? (2) What is the coupling between magnetic fields and flows throughout the solar atmosphere? Accurate measurements of the photospheric and chromospheric three-dimensional magnetic fields are required for a precise determination of the emergence and evolution of active regions. Newly emerging magnetic flux in pre-existing magnetic regions causes an increase in the topological complexity of the magnetic field, which leads to flares and coronal mass ejections. Measurements of the vector magnetic field constitute also the primary product for space weather operations, research, and modeling of the solar atmosphere and heliosphere. The proposed next generation Ground-based solar Observing Network Group (ngGONG), a coordinated system of multi-platform instruments, will address these questions and provide large datasets for statistical investigations of solar feature behavior and evolution and continuity in monitoring for space-weather focused endeavors both research and operational. It will also enable sun-as-a-star investigations, crucial as we look toward understanding other planet-hosting stars. |\n",
       "|<p style=\"color:green\"> **ERROR** </p>| <p style=\"color:green\">affiliation error: mpia.affiliation_verifications: 'Heidelberg' keyword not found.</p> |"
      ],
      "text/plain": [
       "<IPython.core.display.Markdown object>"
      ]
     },
     "metadata": {},
     "output_type": "display_data"
    },
    {
     "data": {
      "text/markdown": [
       "\n",
       "|||\n",
       "|---:|:---|\n",
       "| [![arXiv](https://img.shields.io/badge/arXiv-arXiv:2209.04460-b31b1b.svg)](https://arxiv.org/abs/arXiv:2209.04460) | **Figure and Figure Caption Extraction for Mixed Raster and Vector PDFs:  Digitization of Astronomical Literature with OCR Features**  |\n",
       "|| J.P. Naiman, <mark>Peter K. G. Williams</mark>, Alyssa Goodman |\n",
       "|*Appeared on*| *2022-09-13*|\n",
       "|*Comments*| *16 pages, 3 figures, accepted to TPDL 2022*|\n",
       "|**Abstract**| Scientific articles published prior to the \"age of digitization\" in the late 1990s contain figures which are \"trapped\" within their scanned pages. While progress to extract figures and their captions has been made, there is currently no robust method for this process. We present a YOLO-based method for use on scanned pages, post-Optical Character Recognition (OCR), which uses both grayscale and OCR-features. When applied to the astrophysics literature holdings of the Astrophysics Data System (ADS), we find F1 scores of 90.9% (92.2%) for figures (figure captions) with the intersection-over-union (IOU) cut-off of 0.9 which is a significant improvement over other state-of-the-art methods. |\n",
       "|<p style=\"color:green\"> **ERROR** </p>| <p style=\"color:green\">affiliation error: mpia.affiliation_verifications: 'Heidelberg' keyword not found.</p> |"
      ],
      "text/plain": [
       "<IPython.core.display.Markdown object>"
      ]
     },
     "metadata": {},
     "output_type": "display_data"
    },
    {
     "data": {
      "text/markdown": [
       "\n",
       "|||\n",
       "|---:|:---|\n",
       "| [![arXiv](https://img.shields.io/badge/arXiv-arXiv:2209.04463-b31b1b.svg)](https://arxiv.org/abs/arXiv:2209.04463) | **SN 2020jgb: A Peculiar Type Ia Supernova Triggered by a Massive  Helium-Shell Detonation in a Star-Forming Galaxy**  |\n",
       "|| Chang Liu, et al. -- incl., <mark>Yashvi Sharma</mark>, <mark>Frank J. Masci</mark> |\n",
       "|*Appeared on*| *2022-09-13*|\n",
       "|*Comments*| *22 pages, 10 figures; submitted to ApJ*|\n",
       "|**Abstract**| The detonation of a thin ($\\lesssim$0.03\\,$\\mathrm{M_\\odot}$) helium shell (He-shell) atop a $\\sim$$1\\,\\mathrm{M_\\odot}$ white dwarf (WD) is a promising mechanism to explain normal Type Ia supernovae (SNe\\,Ia), while thicker He-shells and less massive WDs may explain some recently observed peculiar SNe\\,Ia. We present observations of SN\\,2020jgb, a peculiar SN\\,Ia discovered by the Zwicky Transient Facility (ZTF). Near maximum light, SN\\,2020jgb is slightly subluminous (ZTF $g$-band absolute magnitude $M_g$ between $-18.2$ and $-18.7$\\,mag depending on the amount of host galaxy extinction) and shows an unusually red color ($g_\\mathrm{ZTF}-r_\\mathrm{ZTF}$ between 0.4 and 0.2\\,mag) due to strong line-blanketing blueward of $\\sim$5000\\,\\AA. These properties resemble those of SN\\,2018byg, a peculiar SN\\,Ia consistent with a thick He-shell double detonation (DDet) SN. Using detailed radiative transfer models, we show that the optical spectroscopic and photometric evolution of SN\\,2020jgb are broadly consistent with a $\\sim$0.95\\,$\\mathrm{M_\\odot}$ (C/O core + He-shell; up to $\\sim$1.00\\,$\\mathrm{M_\\odot}$ depending on the total host extinction) progenitor ignited by a thick ($\\sim$0.13\\,$\\mathrm{M_\\odot}$) He-shell. We detect a prominent absorption feature at $\\sim$1\\,\\micron\\ in the near-infrared (NIR) spectrum of SN\\,2020jgb, which could originate from unburnt helium in the outermost ejecta. While the sample size is limited, similar 1\\,\\micron\\ features have been detected in all the thick He-shell DDet candidates with NIR spectra obtained to date. SN\\,2020jgb is also the first subluminous, thick He-shell DDet SN discovered in a star-forming galaxy, indisputably showing that He-shell DDet objects occur in both star-forming and passive galaxies, consistent with the normal SN\\,Ia population. |\n",
       "|<p style=\"color:green\"> **ERROR** </p>| <p style=\"color:green\">affiliation error: mpia.affiliation_verifications: 'Heidelberg' keyword not found.</p> |"
      ],
      "text/plain": [
       "<IPython.core.display.Markdown object>"
      ]
     },
     "metadata": {},
     "output_type": "display_data"
    },
    {
     "data": {
      "text/markdown": [
       "\n",
       "|||\n",
       "|---:|:---|\n",
       "| [![arXiv](https://img.shields.io/badge/arXiv-arXiv:2209.04465-b31b1b.svg)](https://arxiv.org/abs/arXiv:2209.04465) | **Evaluating the efficacy of sonification for signal detection in  univariate, evenly sampled light curves using astronify**  |\n",
       "|| <mark>J. Tucker Brown</mark>, <mark>C.M. Harrison</mark>, A. Zanella, J. Trayford |\n",
       "|*Appeared on*| *2022-09-13*|\n",
       "|*Comments*| *Accepted for publication in MNRAS (10 pages, 5 figures). Sonifications of Figure 1 (4 audio files) and Figure 5 (2 movie files) are available in the ancillary files folder. These, plus all other data products associated with this article are also available at: this https URL*|\n",
       "|**Abstract**| Sonification is the technique of representing data with sound, with potential applications in astronomy research for aiding discovery and accessibility. Several astronomy-focused sonification tools have been developed; however, efficacy testing is extremely limited. We performed testing of astronify, a prototype tool for sonification functionality within the Barbara A. Mikulski Archive for Space Telescopes (MAST). We created synthetic light curves containing zero, one, or two transit-like signals with a range of signal-to-noise ratios (SNRs=3-100) and applied the default mapping of brightness to pitch. We performed remote testing, asking participants to count signals when presented with light curves as a sonification, visual plot, or combination of both. We obtained 192 responses, of which 118 self-classified as experts in astronomy and data analysis. For high SNRs (=30 and 100), experts and non-experts performed well with sonified data (85-100% successful signal counting). At low SNRs (=3 and 5) both groups were consistent with guessing with sonifications. At medium SNRs (=7 and 10), experts performed no better than non-experts with sonifications but significantly better (factor of ~2-3) with visuals. We infer that sonification training, like that experienced by experts for visual data inspection, will be important if this sonification method is to be useful for moderate SNR signal detection within astronomical archives and broader research. Nonetheless, we show that even a very simple, and non-optimised, sonification approach allows users to identify high SNR signals. A more optimised approach, for which we present ideas, would likely yield higher success for lower SNR signals. |\n",
       "|<p style=\"color:green\"> **ERROR** </p>| <p style=\"color:green\">affiliation error: mpia.affiliation_verifications: 'Heidelberg' keyword not found.</p> |"
      ],
      "text/plain": [
       "<IPython.core.display.Markdown object>"
      ]
     },
     "metadata": {},
     "output_type": "display_data"
    },
    {
     "data": {
      "text/markdown": [
       "\n",
       "|||\n",
       "|---:|:---|\n",
       "| [![arXiv](https://img.shields.io/badge/arXiv-arXiv:2209.04466-b31b1b.svg)](https://arxiv.org/abs/arXiv:2209.04466) | **GOALS-JWST: NIRCam and MIRI Imaging of the Circumnuclear Starburst Ring  in NGC 7469**  |\n",
       "|| Thomas Bohn, et al. -- incl., <mark>Lee Armus</mark>, <mark>Joseph M. Mazzarella</mark>, <mark>Michael J. I. Brown</mark> |\n",
       "|*Appeared on*| *2022-09-13*|\n",
       "|*Comments*| *4 figures, 1 table, Submitted to ApJL*|\n",
       "|**Abstract**| We present James Webb Space Telescope (JWST) imaging of NGC 7469 with the Near-Infrared Camera (NIRCam) and the Mid-InfraRed Instrument (MIRI). NGC 7469 is a nearby, $z=0.016317$, luminous infrared galaxy (LIRG) that hosts both a Seyfert Type-1.5 nucleus and a circumnuclear starburst ring with a radius of $\\sim$0.5 kpc. The new near-infrared (NIR) JWST imaging reveals 65 star-forming regions, 36 of which were not detected by HST observations. Nineteen of the 36 sources have very red NIR colors that indicate obscurations up to A$_{\\rm{v}}\\sim7$ and a contribution of at least 25$\\%$ from hot dust emission to the 4.4$\\mu$m band. Their NIR colors are also consistent with young ($<$5 Myr) stellar populations and more than half of them are coincident with the MIR emission peaks. These younger, dusty star-forming regions account for $\\sim$2$\\%$ and $\\sim$10$\\%$ of the total 1.5$\\mu$m and 4.4$\\mu$m luminosity of the starburst ring, respectively. The addition of these young regions confirm the age bimodality seen in the star-forming regions of the ring. Moreover, we have increased the number of young sources by a factor of four, raising the total percentage of the young population to $\\sim$40$\\%$. These results illustrate the effectiveness of JWST in identifying and characterizing previously hidden star formation in the densest star-forming environments around AGN. |\n",
       "|<p style=\"color:green\"> **ERROR** </p>| <p style=\"color:green\">affiliation error: mpia.affiliation_verifications: 'Heidelberg' keyword not found.</p> |"
      ],
      "text/plain": [
       "<IPython.core.display.Markdown object>"
      ]
     },
     "metadata": {},
     "output_type": "display_data"
    },
    {
     "data": {
      "text/markdown": [
       "\n",
       "|||\n",
       "|---:|:---|\n",
       "| [![arXiv](https://img.shields.io/badge/arXiv-arXiv:2209.04583-b31b1b.svg)](https://arxiv.org/abs/arXiv:2209.04583) | **Exoatmospheric detection of a meter-sized Earth impactor**  |\n",
       "|| David L. Clark, et al. -- incl., <mark>Peter G. Brown</mark>, <mark>Aren Heinze</mark> |\n",
       "|*Appeared on*| *2022-09-13*|\n",
       "|*Comments*| *24 pages, 11 figures. This article has been submitted for publication in The Planetary Science Journal*|\n",
       "|**Abstract**| On 2020 September 18 US Government sensors detected a bolide with peak bolometric magnitude of -19 over the western Pacific. The impact was also detected by the Geostationary Lightning Mapper (GLM) instrument on the GOES-17 satellite and infrasound sensors in Hawaii. The USG measurements reported a steep entry angle of $67{^{\\circ}}$ from horizontal from a radiant $13{^{\\circ}}$ E of N and an impact speed of 11.7 km/s. Interpretation of all energy yields produces a preferred energy estimate of 0.4 KT TNT, corresponding to a $23,000$ kilogram $3$ meter diameter meteoroid. A post-impact search of telescopic images found that the ATLAS survey captured the object just 10 minutes prior to impact at an Earth-centred distance of nearly $11,900$ kilometers with apparent magnitude $m\\text{=}12.5$. The object appears as a $0.44{^{\\circ}}$ streak originating on the eastern edge of the image extending one-third of the predicted (based on the CNEOS state vector) $1.26{^{\\circ}}$ over the 30 second exposure. The streak shows brightness variability consistent with small asteroid rotation. The position of Earth's shadow, the object's size, and its consistency with the CNEOS state vector confirm the object is likely natural. This is the sixth exoatmospheric detection of an NEA impactor and the closest initial telescopic detection prior to an impact. The high altitude of peak fireball brightness suggest it was a weak object comparable in many respects with 2008 TC3 (Almahatta Sitta meteorite), with an absolute magnitude of $H=32.5$ and likely low albedo. Therefore we suggest the NEA as having been a C-complex asteroid. |\n",
       "|<p style=\"color:green\"> **ERROR** </p>| <p style=\"color:green\">affiliation error: mpia.affiliation_verifications: 'Heidelberg' keyword not found.</p> |"
      ],
      "text/plain": [
       "<IPython.core.display.Markdown object>"
      ]
     },
     "metadata": {},
     "output_type": "display_data"
    },
    {
     "data": {
      "text/markdown": [
       "\n",
       "|||\n",
       "|---:|:---|\n",
       "| [![arXiv](https://img.shields.io/badge/arXiv-arXiv:2209.04943-b31b1b.svg)](https://arxiv.org/abs/arXiv:2209.04943) | **A census of OBe stars in nearby metal-poor dwarf galaxies reveals a high  fraction of extreme rotators**  |\n",
       "|| A. Schootemeijer, et al. -- incl., <mark>N. Langer</mark> |\n",
       "|*Appeared on*| *2022-09-13*|\n",
       "|*Comments*| *19 pages, 23 figures - accepted for publication in Astronomy & Astrophysics*|\n",
       "|**Abstract**| The Early Universe, together with many nearby dwarf galaxies, is deficient in heavy elements. The evolution of massive stars in such environments is thought to be affected by rotation. Extreme rotators amongst them tend to form decretion disks and manifest themselves as OBe stars. We use a combination of U B, GAIA, Spitzer, and Hubble Space Telescope photometry to identify the complete populations of massive OBe stars - one hundred to thousands in number - in five nearby dwarf galaxies. This allows us to derive the galaxy-wide fractions of main sequence stars that are OBe stars (f_OBe), and how it depends on absolute magnitude, mass, and metallicity (Z). We find f_OBe = 0.22 in the Large Magellanic Cloud (0.5 Z_Sun), increasing to f_OBe = 0.31 in the Small Magellanic Cloud (0.2 Z_Sun). In the so far unexplored metallicity regime below 0.2 Z_Sun, in Holmberg I, Holmberg II, and Sextans A, we also obtain high OBe star fractions of 0.27, 0.27, and 0.27, respectively. These high OBe star fractions, and the strong contribution in the stellar mass range which dominates the production of supernovae, shed new light on the formation channel of OBe stars, as well as on the preference of long-duration gamma-ray bursts and superluminous supernovae to occur in metal-poor galaxies. |\n",
       "|<p style=\"color:green\"> **ERROR** </p>| <p style=\"color:green\">affiliation error: mpia.affiliation_verifications: 'Heidelberg' keyword not found.</p> |"
      ],
      "text/plain": [
       "<IPython.core.display.Markdown object>"
      ]
     },
     "metadata": {},
     "output_type": "display_data"
    },
    {
     "data": {
      "text/markdown": [
       "\n",
       "|||\n",
       "|---:|:---|\n",
       "| [![arXiv](https://img.shields.io/badge/arXiv-arXiv:2209.04970-b31b1b.svg)](https://arxiv.org/abs/arXiv:2209.04970) | **Gravitational waves from rapid structure formation on microscopic scales  before matter-radiation equality**  |\n",
       "|| <mark>Marcos M. Flores</mark>, Alexander Kusenko, Misao Sasaki |\n",
       "|*Appeared on*| *2022-09-13*|\n",
       "|*Comments*| *7 pages, 1 figure*|\n",
       "|**Abstract**| The existence of scalar fields can be probed by observations of stochastic gravitational waves. Scalar fields mediate attractive forces, usually stronger than gravity, on the length scales shorter than their Compton wavelengths, which can be non-negligible in the early universe, when the horizon size is small. These attractive forces exhibit an instability similar to the gravitational instability, only stronger. They can, therefore, lead to the growth of structures in some species. We identify a gravitational waves signature of such processes and show that it can be detected by the future gravitational waves experiments. |\n",
       "|<p style=\"color:green\"> **ERROR** </p>| <p style=\"color:green\">affiliation error: mpia.affiliation_verifications: 'Heidelberg' keyword not found.</p> |"
      ],
      "text/plain": [
       "<IPython.core.display.Markdown object>"
      ]
     },
     "metadata": {},
     "output_type": "display_data"
    },
    {
     "data": {
      "text/markdown": [
       "\n",
       "|||\n",
       "|---:|:---|\n",
       "| [![arXiv](https://img.shields.io/badge/arXiv-arXiv:2209.05051-b31b1b.svg)](https://arxiv.org/abs/arXiv:2209.05051) | **TIC 452991707 and TIC 452991693 as a Candidate Sextuple System with  Three Eclipsing Binaries**  |\n",
       "|| P. Zasche, <mark>Z. Henzl</mark> |\n",
       "|*Appeared on*| *2022-09-13*|\n",
       "|*Comments*| *Published in: Acta Astronomica, vol 72, no 2, p. 103-111 (2022AcA....72..103Z)*|\n",
       "|**Abstract**| We present the discovery of a rare system detected in the TESS data showing three different eclipsing-like signals. TIC 452991707 and TIC 452991693 seem to be the second such system on the sky, whose two components separated about 16\" are gravitationally bounded, or comprise a co-moving pair. The three periods detected from the TESS data are: PA=1.46155 d, PB=1.77418 d, and PC=1.03989 d, respectively. The A and B periods belong to TIC 452991707, while the C comes from the component TIC 452991693. The pair A shows the deepest eclipses, and its orbit is very slightly eccentric. The third period C has lowest amplitude (eclipsing or ellipsoidal nature), but originates from TIC 452991693, which is connected to A+B because both visual components share similar proper motion and distance. Long-term collection of data from older photometry from various surveys also shows that the two inner pairs A and B orbit around their barycenter. Its period is probably of a few years, but for a final derivation of its orbital parameters one needs more up-to-date data. Hence, we call for new observations of this amazing system. |\n",
       "|<p style=\"color:green\"> **ERROR** </p>| <p style=\"color:green\">affiliation error: mpia.affiliation_verifications: 'Heidelberg' keyword not found.</p> |"
      ],
      "text/plain": [
       "<IPython.core.display.Markdown object>"
      ]
     },
     "metadata": {},
     "output_type": "display_data"
    },
    {
     "data": {
      "text/markdown": [
       "\n",
       "|||\n",
       "|---:|:---|\n",
       "| [![arXiv](https://img.shields.io/badge/arXiv-arXiv:2209.05107-b31b1b.svg)](https://arxiv.org/abs/arXiv:2209.05107) | **Multimessenger Picture of J1048+7143**  |\n",
       "|| Emma Kun, et al. -- incl., <mark>Lang Cui</mark> |\n",
       "|*Appeared on*| *2022-09-13*|\n",
       "|*Comments*| *16 pages, 8 figures, 2 tables. Submitted to ApJ*|\n",
       "|**Abstract**| We draw the multimessenger picture of J1048+7143, a flat-spectrum radio quasar known to show quasi-periodic oscillations in the $\\gamma$-ray regime. We generate the adaptively-binned Fermi Large Area Telescope light curve of this source above 168 MeV to find three major $\\gamma$-ray flares of the source, such that all three flares consist of two-two sharp sub-flares. Based on radio interferometric imaging data taken with the Very Large Array, we find that the kpc-scale jet is directed towards west, while our analysis of $8.6$-GHz very long baseline interferometry data, mostly taken with the Very Long Baseline Array, revealed signatures of two pc-scale jets, one pointing towards east, one pointing towards south. We suggest that the misalignment of the kpc- and pc-scale jets is a revealing signature of jet precession. We also analyze the $5$-GHz total flux density curve of J1048+7143 taken with the Nanshan(Ur) and RATAN-600 single dish radio telescopes and find two complete radio flares, slightly lagging behind the $\\gamma$-ray flares. We model the timing of $\\gamma$-ray flares as signature of the spin-orbit precession in a supermassive black hole binary, and find that the binary could merge in the next $\\sim 60-80$ years. We show that both the Pulsar Timing Arrays and the planned Laser Interferometer Space Antenna lack sensitivity and frequency coverage to detect the hypothetical supermassive black hole binary in J1048$+$7143. We argue that the identification of sources similar to J1048+7143 plays a key role to reveal periodic high-energy sources in the distant Universe. |\n",
       "|<p style=\"color:green\"> **ERROR** </p>| <p style=\"color:green\">affiliation error: mpia.affiliation_verifications: 'Heidelberg' keyword not found.</p> |"
      ],
      "text/plain": [
       "<IPython.core.display.Markdown object>"
      ]
     },
     "metadata": {},
     "output_type": "display_data"
    },
    {
     "data": {
      "text/markdown": [
       "\n",
       "|||\n",
       "|---:|:---|\n",
       "| [![arXiv](https://img.shields.io/badge/arXiv-arXiv:2209.05138-b31b1b.svg)](https://arxiv.org/abs/arXiv:2209.05138) | **Effects of Planetesimal Scattering: Explaining the Observed Offsets from  Period Ratios 3:2 and 2:1**  |\n",
       "|| <mark>Tuhin Ghosh</mark>, Sourav Chatterjee |\n",
       "|*Appeared on*| *2022-09-13*|\n",
       "|*Comments*| *21 pages, 14 figures, 1 table, submitted to the Astrophysical Journal; comments welcome*|\n",
       "|**Abstract**| The observed deficit and excess of adjacent planet pairs with period ratios narrow and wide of 3:2 and 2:1, the nominal values for the corresponding mean motion resonances (MMRs), have intrigued many. Previously, using a suite of simulations, Chatterjee & Ford 2015 showed that the excess above the 2:1 MMR can be naturally explained if planet pairs, initially trapped in the 2:1 MMR, dynamically interact with nearby planetesimals in a disk. We build on this work by: a) updating the census of discovered planet pairs, b) extending the study to initially non-resonant as well as resonant planet pairs, c) using initial planet and orbital properties directly guided by those observed, and d) extending the initial period ratios to include both 2:1 and 3:2. We find that 1) interactions with planetesimals typically increase the period ratios of both initially resonant and non-resonant planet pairs; 2) starting from an initially flat distribution of systems across 3:2 and 2:1, these interactions can naturally create the deficits observed narrow of these period ratios; 3) contribution from initially resonant planet pairs is needed to explain the observed levels of excess wide of 3:2; 4) a mixture model where about 25% (1%) planet pairs were initially trapped into 3:2 (2:1) MMRs is favored to explain both the observed deficit and excess of systems across these period ratios, however, up to a few percent of planet pairs are expected to remain in MMR today. |\n",
       "|<p style=\"color:green\"> **ERROR** </p>| <p style=\"color:green\">affiliation error: mpia.affiliation_verifications: 'Heidelberg' keyword not found.</p> |"
      ],
      "text/plain": [
       "<IPython.core.display.Markdown object>"
      ]
     },
     "metadata": {},
     "output_type": "display_data"
    },
    {
     "data": {
      "text/markdown": [
       "\n",
       "|||\n",
       "|---:|:---|\n",
       "| [![arXiv](https://img.shields.io/badge/arXiv-arXiv:2209.05205-b31b1b.svg)](https://arxiv.org/abs/arXiv:2209.05205) | **The KOBE experiment: K-dwarfs Orbited By habitable Exoplanets. Project  goals, target selection and stellar characterization**  |\n",
       "|| J. Lillo-Box, et al. -- incl., <mark>I. Hermelo</mark> |\n",
       "|*Appeared on*| *2022-09-13*|\n",
       "|*Comments*| *Accepted for publication in A&A. 12 pages, 9 figures, 1 table*|\n",
       "|**Abstract**| The detection of habitable worlds is one of humanity's greatest endeavors. So far, astrobiological studies show that one of the most critical components for life development is liquid water. Its chemical properties and its capacity to dissolve and hence transport other substances makes this constituent a key piece in the development of life. As a consequence, looking for life as we know it is directly related to the search for liquid water. For a remote detection of life in distant planetary systems, this means looking for planets in the so-called habitable zone. In this sense, K-dwarf stars are the perfect hosts. Contrary to G-dwarfs, the habitable zone is closer, thus making planet detection easier using transit or radial velocity techniques. Contrary to M-dwarfs, the stellar activity is much smaller, hence having a smaller impact in both the detectability and in the true habitability of the planet. Also, K-dwarfs are the quietest in terms of oscillations, and granulation noise. Despite this, there is a dearth of planets in the habitable zone of K-dwarfs due to a lack of observing programs devoted to this parameter space. In response to a call for Legacy Programs of the Calar Alto observatory, we have started the first dedicated and systematic search for habitable planets around K-dwarfs, the K-dwarfs Orbited By habitable Exoplanets (KOBE). This survey is monitoring the radial velocity of 50 carefully pre-selected K-dwarfs with the CARMENES instrument along 5 semesters with an average of 90 data points per target. Based on planet occurrence rates convolved with our detectability limits, we expect to find $1.68\\pm 0.25$ planets per star in the KOBE sample and in half of the sample we expect to find one of those planets within the habitable zone. In this paper, we describe the project motivation, goals and target selection and preliminary stellar characterization. |\n",
       "|<p style=\"color:green\"> **ERROR** </p>| <p style=\"color:green\">affiliation error: mpia.affiliation_verifications: 'Heidelberg' keyword not found.</p> |"
      ],
      "text/plain": [
       "<IPython.core.display.Markdown object>"
      ]
     },
     "metadata": {},
     "output_type": "display_data"
    },
    {
     "data": {
      "text/markdown": [
       "\n",
       "|||\n",
       "|---:|:---|\n",
       "| [![arXiv](https://img.shields.io/badge/arXiv-arXiv:2209.05229-b31b1b.svg)](https://arxiv.org/abs/arXiv:2209.05229) | **Resilience of small PAHs in interstellar clouds: Efficient stabilization  of cyanonaphthalene by fast radiative cooling**  |\n",
       "|| Mark H. Stockett, et al. -- incl., <mark>Henrik Cederquist</mark>, <mark>Henning T. Schmidt</mark>, <mark>Henning Zettergren</mark> |\n",
       "|*Appeared on*| *2022-09-13*|\n",
       "|*Comments*| **|\n",
       "|**Abstract**| After decades of speculation and searching, astronomers have recently identified specific Polycyclic Aromatic Hydrocarbons (PAHs) in space. Remarkably, the observed abundance of cyanonaphthalene (CNN, C10H7CN) in the Taurus Molecular Cloud (TMC-1) is six orders of magnitude higher than expected from astrophysical modeling. Here, we report absolute unimolecular dissociation and radiative cooling rate coefficients of the 1-CNN isomer in its cationic form. These results are based on measurements of the time-dependent neutral product emission rate and Kinetic Energy Release distributions produced from an ensemble of internally excited 1-CNN + studied in an environment similar to that in interstellar clouds. We find that Recurrent Fluorescence - radiative relaxation via thermally populated electronic excited states - efficiently stabilizes 1-CNN+ , owing to a large enhancement of the electronic transition probability by vibronic coupling. Our results help explain the anomalous abundance of CNN in TMC-1 and challenge the widely accepted picture of rapid destruction of small PAHs in space. |\n",
       "|<p style=\"color:green\"> **ERROR** </p>| <p style=\"color:green\">affiliation error: mpia.affiliation_verifications: 'Heidelberg' keyword not found.</p> |"
      ],
      "text/plain": [
       "<IPython.core.display.Markdown object>"
      ]
     },
     "metadata": {},
     "output_type": "display_data"
    },
    {
     "data": {
      "text/markdown": [
       "\n",
       "|||\n",
       "|---:|:---|\n",
       "| [![arXiv](https://img.shields.io/badge/arXiv-arXiv:2209.05242-b31b1b.svg)](https://arxiv.org/abs/arXiv:2209.05242) | **Rotation Measure Variations and Reversals of Repeating Fast Radio Bursts  in Massive Binary Systems**  |\n",
       "|| Z. Y. Zhao, <mark>G. Q. Zhang</mark>, F. Y. Wang, Z. G. Dai |\n",
       "|*Appeared on*| *2022-09-13*|\n",
       "|*Comments*| *16 pages, 4 figures, 2 tables, submitted*|\n",
       "|**Abstract**| Recent observations discovered that some repeating fast radio bursts (FRBs) show complex variations and reversals of Faraday rotation measures (RMs), indicating the sources of these FRBs are embedded in a dynamically magnetized environment. One possible scenario is that repeating FRBs generated by pulsars in binary systems, especially containing a high-mass companion with strong stellar outflows. Here, we study the RM variations caused by stellar winds, and a possible stellar disc. If the magnetic field is radial in the stellar wind, RM will reach the peak at periastron and will not reverse. For the toroidal magnetic field in the wind, RM will reverse at the super conjunction. The $\\left| \\mathrm{RM} \\right|$ evolution is symmetric before and after the periastron for a radial magnetic field, or the super conjunction for a toroidal magnetic field. For the case of the toroidal field in the disc, the RM variations only occur at the time when the pulsar passes through the inclined disc before and after periastron. Our model can explain the secular RM variation of FRB 20180916B. Besides, the clumps in the stellar wind and disc can cause short time-scale ($< 1$ day) variations or reversals of RM. Therefore, long-term monitoring of RM variations can reveal the origins of FRBs. |\n",
       "|<p style=\"color:green\"> **ERROR** </p>| <p style=\"color:green\">affiliation error: mpia.affiliation_verifications: 'Heidelberg' keyword not found.</p> |"
      ],
      "text/plain": [
       "<IPython.core.display.Markdown object>"
      ]
     },
     "metadata": {},
     "output_type": "display_data"
    },
    {
     "data": {
      "text/markdown": [
       "\n",
       "|||\n",
       "|---:|:---|\n",
       "| [![arXiv](https://img.shields.io/badge/arXiv-arXiv:2209.05303-b31b1b.svg)](https://arxiv.org/abs/arXiv:2209.05303) | **The phase curve and the geometric albedo of WASP-43b measured with  CHEOPS, TESS and HST WFC3/UVIS**  |\n",
       "|| G. Scandariato, et al. -- incl., <mark>K. Heng</mark>, <mark>S. Hoyer</mark>, <mark>M. B. Davies</mark>, <mark>G. Olofsson</mark> |\n",
       "|*Appeared on*| *2022-09-13*|\n",
       "|*Comments*| **|\n",
       "|**Abstract**| Observations of the phase curves and secondary eclipses of extrasolar planets provide a window on the composition and thermal structure of the planetary atmospheres. For example, the photometric observations of secondary eclipses lead to the measurement of the planetary geometric albedo $A_g$, which is an indicator of the presence of clouds in the atmosphere. In this work we aim to measure the $A_g$ in the optical domain of WASP-43b, a moderately irradiated giant planet with an equilibrium temperature of $\\sim$1400~K. To this purpose, we analyze the secondary eclipse light curves collected by CHEOPS, together with TESS observations of the system and the publicly available photometry obtained with HST WFC3/UVIS. We also analyze the archival infrared observations of the eclipses and retrieve the thermal emission spectrum of the planet. By extrapolating the thermal spectrum to the optical bands, we correct the optical eclipses for thermal emission and derive the optical $A_g$. The fit of the optical data leads to a marginal detection of the phase curve signal, characterized by an amplitude of $160\\pm60$~ppm and 80$^{+60}_{-50}$~ppm in the CHEOPS and TESS passband respectively, with an eastward phase shift of $\\sim50^\\circ$ (1.5$\\sigma$ detection). The analysis of the infrared data suggests a non-inverted thermal profile and solar-like metallicity. The combination of optical and infrared analysis allows us to derive an upper limit for the optical albedo of $A_g<0.087$ with a confidence of 99.9\\%. Our analysis of the atmosphere of WASP-43b places this planet in the sample of irradiated hot Jupiters, with monotonic temperature-pressure profile and no indication of condensation of reflective clouds on the planetary dayside. |\n",
       "|<p style=\"color:green\"> **ERROR** </p>| <p style=\"color:green\">affiliation error: mpia.affiliation_verifications: 'Heidelberg' keyword not found.</p> |"
      ],
      "text/plain": [
       "<IPython.core.display.Markdown object>"
      ]
     },
     "metadata": {},
     "output_type": "display_data"
    },
    {
     "data": {
      "text/markdown": [
       "\n",
       "|||\n",
       "|---:|:---|\n",
       "| [![arXiv](https://img.shields.io/badge/arXiv-arXiv:2209.04607-b31b1b.svg)](https://arxiv.org/abs/arXiv:2209.04607) | **Brown-dwarf companions in microlensing binaries detected during the  2016--2018 seasons**  |\n",
       "|| Cheongho Han, et al. -- incl., <mark>Andrew Gould</mark>, <mark>Seung-Lee Kim</mark>, <mark>Chung-Uk Lee</mark>, <mark>Dong-Joo Lee</mark>, <mark>Yongseok Lee</mark> |\n",
       "|*Appeared on*| *2022-09-13*|\n",
       "|*Comments*| *11 pages, 10 figures, 10 tables*|\n",
       "|**Abstract**| With the aim of finding microlensing binaries containing brown-dwarf (BD) companions, we investigate the microlensing survey data collected during the 2016--2018 seasons. For this purpose, we first conducted modeling of lensing events with light curves exhibiting anomaly features that are likely to be produced by binary lenses. We then sorted out BD-companion binary-lens events by applying the criterion that the companion-to-primary mass ratio is $q \\lesssim 0.1$. From this procedure, we identify 6 binaries with candidate BD companions, including OGLE-2016-BLG-0890L, MOA-2017-BLG-477L, OGLE-2017-BLG-0614L, KMT-2018-BLG-0357L, OGLE-2018-BLG-1489L, and OGLE-2018-BLG-0360L. We estimate the masses of the binary companions by conducting Bayesian analyses using the observables of the individual lensing events. According to the Bayesian estimation of the lens masses, the probabilities for the lens companions of the events OGLE-2016-BLG-0890, OGLE-2017-BLG-0614, OGLE-2018-BLG-1489, and OGLE-2018-BLG-0360 to be in the BD mass regime are very high with $P_{\\rm BD}> 80\\%$. For MOA-2017-BLG-477 and KMT-2018-BLG-0357, the probabilities are relatively low with $P_{\\rm BD}=61\\%$ and 69\\%, respectively. |\n",
       "|<p style=\"color:red\"> **ERROR** </p>| <p style=\"color:red\">latex error [Errno 2] No such file or directory: 'gs'</p> |"
      ],
      "text/plain": [
       "<IPython.core.display.Markdown object>"
      ]
     },
     "metadata": {},
     "output_type": "display_data"
    }
   ],
   "source": [
    "import datetime\n",
    "today = str(datetime.date.today())\n",
    "logfile = f\"_build/html/logs/log-{today}.md\"\n",
    "\n",
    "\n",
    "with open(logfile, 'w') as logs:\n",
    "    # Success\n",
    "    logs.write(f'# Arxiv on Deck 2: Logs - {today}\\n\\n')\n",
    "    logs.write(\"\"\"* Arxiv had {0:,d} new papers\\n\"\"\".format(len(new_papers)))\n",
    "    logs.write(\"\"\"    * {0:,d} with possible author matches\\n\\n\"\"\".format(len(candidates)))\n",
    "    logs.write(\"## Sucessful papers\\n\\n\")\n",
    "    display(Markdown(\"## Successful papers\"))\n",
    "    success = [k[0] for k in documents]\n",
    "    for candid in candidates:\n",
    "        if candid['identifier'].split(':')[-1] in success:\n",
    "            display(candid)\n",
    "            logs.write(candid.generate_markdown_text() + '\\n\\n')\n",
    "\n",
    "    ## failed\n",
    "    logs.write(\"## Failed papers\\n\\n\")\n",
    "    display(Markdown(\"## Failed papers\"))\n",
    "    failed = sorted(failed, key=lambda x: x[1])\n",
    "    current_reason = \"\"\n",
    "    for paper, reason in failed:\n",
    "        if 'affiliation' in reason:\n",
    "            color = 'green'\n",
    "        else:\n",
    "            color = 'red'\n",
    "        data = Markdown(\n",
    "                paper.generate_markdown_text() + \n",
    "                f'\\n|<p style=\"color:{color:s}\"> **ERROR** </p>| <p style=\"color:{color:s}\">{reason:s}</p> |'\n",
    "               )\n",
    "        if reason != current_reason:\n",
    "            logs.write(f'### {reason:s} \\n\\n')\n",
    "            current_reason = reason\n",
    "        logs.write(data.data + '\\n\\n')\n",
    "        \n",
    "        # only display here the important errors (all in logs)\n",
    "        # if color in ('red',):\n",
    "        display(data)"
   ]
  },
  {
   "cell_type": "markdown",
   "id": "472d20ee",
   "metadata": {
    "papermill": {
     "duration": 0.00889,
     "end_time": "2022-09-13T05:22:11.700122",
     "exception": false,
     "start_time": "2022-09-13T05:22:11.691232",
     "status": "completed"
    },
    "tags": []
   },
   "source": [
    "## Export documents\n",
    "\n",
    "We now write the .md files and export relevant images"
   ]
  },
  {
   "cell_type": "code",
   "execution_count": 7,
   "id": "d426aed9",
   "metadata": {
    "execution": {
     "iopub.execute_input": "2022-09-13T05:22:11.720185Z",
     "iopub.status.busy": "2022-09-13T05:22:11.719411Z",
     "iopub.status.idle": "2022-09-13T05:22:11.727973Z",
     "shell.execute_reply": "2022-09-13T05:22:11.727201Z"
    },
    "papermill": {
     "duration": 0.020926,
     "end_time": "2022-09-13T05:22:11.729960",
     "exception": false,
     "start_time": "2022-09-13T05:22:11.709034",
     "status": "completed"
    },
    "tags": []
   },
   "outputs": [],
   "source": [
    "def export_markdown_summary(md: str, md_fname:str, directory: str):\n",
    "    \"\"\"Export MD document and associated relevant images\"\"\"\n",
    "    import os\n",
    "    import shutil\n",
    "    import re\n",
    "\n",
    "    if (os.path.exists(directory) and not os.path.isdir(directory)):\n",
    "        raise RuntimeError(f\"a non-directory file exists with name {directory:s}\")\n",
    "\n",
    "    if (not os.path.exists(directory)):\n",
    "        print(f\"creating directory {directory:s}\")\n",
    "        os.mkdir(directory)\n",
    "\n",
    "    fig_fnames = (re.compile(r'\\[Fig.*\\]\\((.*)\\)').findall(md) + \n",
    "                  re.compile(r'\\<img src=\"([^>\\s]*)\"[^>]*/>').findall(md))\n",
    "    for fname in fig_fnames:\n",
    "        if 'http' in fname:\n",
    "            # No need to copy online figures\n",
    "            continue\n",
    "        destdir = os.path.join(directory, os.path.dirname(fname))\n",
    "        destfname = os.path.join(destdir, os.path.basename(fname))\n",
    "        try:\n",
    "            os.makedirs(destdir)\n",
    "        except FileExistsError:\n",
    "            pass\n",
    "        shutil.copy(fname, destfname)\n",
    "    with open(os.path.join(directory, md_fname), 'w') as fout:\n",
    "        fout.write(md)\n",
    "    print(\"exported in \", os.path.join(directory, md_fname))\n",
    "    [print(\"    + \" + os.path.join(directory,fk)) for fk in fig_fnames]"
   ]
  },
  {
   "cell_type": "code",
   "execution_count": 8,
   "id": "014d04a4",
   "metadata": {
    "execution": {
     "iopub.execute_input": "2022-09-13T05:22:11.749948Z",
     "iopub.status.busy": "2022-09-13T05:22:11.749202Z",
     "iopub.status.idle": "2022-09-13T05:22:11.754040Z",
     "shell.execute_reply": "2022-09-13T05:22:11.753318Z"
    },
    "papermill": {
     "duration": 0.016697,
     "end_time": "2022-09-13T05:22:11.755748",
     "exception": false,
     "start_time": "2022-09-13T05:22:11.739051",
     "status": "completed"
    },
    "tags": []
   },
   "outputs": [],
   "source": [
    "for paper_id, md in documents:\n",
    "    export_markdown_summary(md, f\"{paper_id:s}.md\", '_build/html/')"
   ]
  },
  {
   "cell_type": "markdown",
   "id": "f087a0a7",
   "metadata": {
    "papermill": {
     "duration": 0.009005,
     "end_time": "2022-09-13T05:22:11.773798",
     "exception": false,
     "start_time": "2022-09-13T05:22:11.764793",
     "status": "completed"
    },
    "tags": []
   },
   "source": [
    "## Display the papers\n",
    "\n",
    "Not necessary but allows for a quick check."
   ]
  },
  {
   "cell_type": "code",
   "execution_count": 9,
   "id": "fd25f625",
   "metadata": {
    "execution": {
     "iopub.execute_input": "2022-09-13T05:22:11.794065Z",
     "iopub.status.busy": "2022-09-13T05:22:11.793307Z",
     "iopub.status.idle": "2022-09-13T05:22:11.799359Z",
     "shell.execute_reply": "2022-09-13T05:22:11.798638Z"
    },
    "papermill": {
     "duration": 0.018435,
     "end_time": "2022-09-13T05:22:11.801223",
     "exception": false,
     "start_time": "2022-09-13T05:22:11.782788",
     "status": "completed"
    },
    "scrolled": false,
    "tags": []
   },
   "outputs": [],
   "source": [
    "[display(Markdown(k[1])) for k in documents];"
   ]
  },
  {
   "cell_type": "markdown",
   "id": "873873a4",
   "metadata": {
    "papermill": {
     "duration": 0.008906,
     "end_time": "2022-09-13T05:22:11.819725",
     "exception": false,
     "start_time": "2022-09-13T05:22:11.810819",
     "status": "completed"
    },
    "tags": []
   },
   "source": [
    "# Create HTML index"
   ]
  },
  {
   "cell_type": "code",
   "execution_count": 10,
   "id": "cf665672",
   "metadata": {
    "execution": {
     "iopub.execute_input": "2022-09-13T05:22:11.839921Z",
     "iopub.status.busy": "2022-09-13T05:22:11.838976Z",
     "iopub.status.idle": "2022-09-13T05:22:11.849338Z",
     "shell.execute_reply": "2022-09-13T05:22:11.848537Z"
    },
    "papermill": {
     "duration": 0.022588,
     "end_time": "2022-09-13T05:22:11.851179",
     "exception": false,
     "start_time": "2022-09-13T05:22:11.828591",
     "status": "completed"
    },
    "tags": []
   },
   "outputs": [
    {
     "name": "stdout",
     "output_type": "stream",
     "text": [
      "30  publications in the last 7 days.\n",
      "\t _build/html/2209.04304.md\n",
      "\t _build/html/2209.03367.md\n",
      "\t _build/html/2209.02872.md\n",
      "\t _build/html/2209.02725.md\n",
      "\t _build/html/2209.02722.md\n",
      "\t _build/html/2209.02092.md\n",
      "\t _build/html/2209.01125.md\n",
      "\t _build/html/2209.00828.md\n",
      "\t _build/html/2209.00363.md\n",
      "\t _build/html/2208.14927.md\n",
      "\t _build/html/2208.09335.md\n",
      "\t _build/html/2208.08872.md\n",
      "\t _build/html/2204.06393.md\n",
      "\t _build/html/2204.03335.md\n",
      "\t _build/html/2204.03253.md\n",
      "\t _build/html/2204.02998.md\n",
      "\t _build/html/2204.02109.md\n",
      "\t _build/html/2204.02017.md\n",
      "\t _build/html/2204.01824.md\n",
      "\t _build/html/2204.01758.md\n",
      "\t _build/html/2204.01245.md\n",
      "\t _build/html/2204.00793.md\n",
      "\t _build/html/2204.00342.md\n",
      "\t _build/html/2203.16959.md\n",
      "\t _build/html/2203.16856.md\n",
      "\t _build/html/2203.16735.md\n",
      "\t _build/html/2203.16734.md\n",
      "\t _build/html/2203.16504.md\n",
      "\t _build/html/2203.15822.md\n",
      "\t _build/html/2203.15811.md\n"
     ]
    }
   ],
   "source": [
    "from datetime import datetime, timedelta, timezone\n",
    "from glob import glob\n",
    "\n",
    "files = glob('_build/html/*.md')\n",
    "days = 7\n",
    "now = datetime.today()\n",
    "res = []\n",
    "for fk in files:\n",
    "    stat_result = os.stat(fk).st_ctime\n",
    "    modified = datetime.fromtimestamp(stat_result, tz=timezone.utc).replace(tzinfo=None)\n",
    "    delta = now.today() - modified\n",
    "    if delta <= timedelta(days=days):\n",
    "        res.append((delta.seconds, fk))\n",
    "res = [k[1] for k in reversed(sorted(res, key=lambda x:x[1]))]\n",
    "npub = len(res)\n",
    "print(len(res), f\" publications in the last {days:d} days.\")\n",
    "[ print('\\t', k) for k in res ];"
   ]
  },
  {
   "cell_type": "code",
   "execution_count": 11,
   "id": "52ca0208",
   "metadata": {
    "execution": {
     "iopub.execute_input": "2022-09-13T05:22:11.871778Z",
     "iopub.status.busy": "2022-09-13T05:22:11.870967Z",
     "iopub.status.idle": "2022-09-13T05:22:11.879060Z",
     "shell.execute_reply": "2022-09-13T05:22:11.878375Z"
    },
    "papermill": {
     "duration": 0.020245,
     "end_time": "2022-09-13T05:22:11.880767",
     "exception": false,
     "start_time": "2022-09-13T05:22:11.860522",
     "status": "completed"
    },
    "scrolled": false,
    "tags": []
   },
   "outputs": [],
   "source": [
    "def create_carousel(npub=4):\n",
    "    \"\"\" Generate the HTML code for a carousel with `npub` slides \"\"\"\n",
    "    carousel = [\"\"\"<section class=\"carousel\" aria-label=\"Gallery\">\"\"\",\n",
    "                \"\"\"  <ol class=\"carousel__viewport\">\"\"\",\n",
    "    ]\n",
    "    for k in range(1, npub + 1):\n",
    "        prev_ = k - 1\n",
    "        next_ = k + 1\n",
    "        if prev_ <= 0:\n",
    "            prev_ = npub\n",
    "        if next_ > npub:\n",
    "            next_ = 1\n",
    "        text  = f\"\"\"    <li id=\"carousel__slide{k}\" tabindex=\"0\" class=\"carousel__slide\">\\n\"\"\"\n",
    "        text += f\"\"\"       <div class=\"carousel__snapper\">\\n\"\"\"\n",
    "        text += f\"\"\"         <a href=\"#carousel__slide{prev_}\" class=\"carousel__prev\">Go to previous slide</a>\\n\"\"\"\n",
    "        text += f\"\"\"         <a href=\"#carousel__slide{next_}\" class=\"carousel__next\">Go to next slide</a>\\n\"\"\"\n",
    "        text += f\"\"\"         <div id=\"slide{k}_content\" class=\"md_view\" >Content {k}</div>\\n\"\"\"\n",
    "        text += f\"\"\"       </div>\\n\"\"\"\n",
    "        text += f\"\"\"    </li>\"\"\"\n",
    "        carousel.append(text)\n",
    "\n",
    "    carousel.extend([\n",
    "        \"\"\"  </ol>\"\"\",\n",
    "        \"\"\"  <aside class=\"carousel__navigation\">\"\"\",\n",
    "        \"\"\"    <ol class=\"carousel__navigation-list\">\"\"\"])\n",
    "\n",
    "    for k in range(1, npub + 1):\n",
    "        text  = f\"\"\"      <li class=\"carousel__navigation-item\">\\n\"\"\"\n",
    "        text += f\"\"\"        <a href=\"#carousel__slide{k}\" class=\"carousel__navigation-button\">Go to {k}</a>\\n\"\"\"\n",
    "        text += f\"\"\"      </li>\"\"\"\n",
    "        carousel.append(text)\n",
    "    carousel.extend([\"\"\"    </ol>\"\"\", \"\"\"  </aside>\"\"\", \"\"\"</section>\"\"\"])\n",
    "\n",
    "    return '\\n'.join(carousel)"
   ]
  },
  {
   "cell_type": "code",
   "execution_count": 12,
   "id": "a6eac5b6",
   "metadata": {
    "execution": {
     "iopub.execute_input": "2022-09-13T05:22:11.900853Z",
     "iopub.status.busy": "2022-09-13T05:22:11.900260Z",
     "iopub.status.idle": "2022-09-13T05:22:11.907308Z",
     "shell.execute_reply": "2022-09-13T05:22:11.906562Z"
    },
    "papermill": {
     "duration": 0.019163,
     "end_time": "2022-09-13T05:22:11.909035",
     "exception": false,
     "start_time": "2022-09-13T05:22:11.889872",
     "status": "completed"
    },
    "scrolled": false,
    "tags": []
   },
   "outputs": [],
   "source": [
    "carousel = create_carousel(npub)\n",
    "docs = ', '.join(['\"{0:s}\"'.format(k.split('/')[-1]) for k in res])\n",
    "slides = ', '.join([f'\"slide{k}_content\"' for k in range(1, npub + 1)])\n",
    "\n",
    "script = f\"\"\"\n",
    "const docs = [{docs}]\n",
    "\n",
    "const slides = [{slides}]\n",
    "\"\"\" + \"\"\"\n",
    "async function run() {\n",
    "    for (let i = 0; i < docs.length; i++) {\n",
    "        let file = await fetch(docs[i]);\n",
    "        let text = await file.text()\n",
    "        document.getElementById(slides[i]).innerHTML =\n",
    "            marked.parse(text);\n",
    "    }\n",
    "    hljs.highlightAll();\n",
    "}\n",
    "run()\n",
    "\"\"\"\n",
    "\n",
    "page = f\"\"\"<!doctype html>\n",
    "<html lang=\"en\">\n",
    "\n",
    "<head>\n",
    "  <meta charset=\"utf-8\">\n",
    "  <meta name=\"viewport\" content=\"width=device-width, initial-scale=1\">\n",
    "  <!-- Bootstrap CSS -->\n",
    "  <link href=\"https://cdn.jsdelivr.net/npm/bootstrap@5.0.2/dist/css/bootstrap.min.css\" rel=\"stylesheet\"\n",
    "   integrity=\"sha384-EVSTQN3/azprG1Anm3QDgpJLIm9Nao0Yz1ztcQTwFspd3yD65VohhpuuCOmLASjC\" crossorigin=\"anonymous\">\n",
    "  <!-- highlight.js CSS -->\n",
    "  <link rel=\"stylesheet\" href=\"https://cdnjs.cloudflare.com/ajax/libs/highlight.js/11.1.0/styles/default.min.css\">\n",
    "  <!-- Mathjax 3 -->\n",
    "  <script type=\"text/javascript\" id=\"MathJax-config\" src=\"mathjax_config.js\"> </script>\n",
    "  <script type=\"text/javascript\" id=\"MathJax-script\" async \n",
    "    src=\"https://cdn.jsdelivr.net/npm/mathjax@3/es5/tex-mml-chtml.js\">\n",
    "  </script>\n",
    "  <link rel=\"stylesheet\" href=\"index_carousel.css\">\n",
    "  <link rel=\"icon\" type=\"image/x-icon\" href=\"https://www.mpia.de/assets/touch-icon-32x32-a66937bcebc4e8894ebff1f41a366c7c7220fd97a38869ee0f2db65a9f59b6c1.png\">\n",
    "  <title>MPIA Arxiv on deck!</title>\n",
    "</head>\n",
    "\n",
    "<body>\n",
    "  <div id=\"header\"> <img src=\"header_banner.png\" width=\"100%\"></div>\n",
    "  <div id=\"suptitle\"> 7-day archives </div>\n",
    "  <div id=\"info\">\n",
    "    <img src=\"https://pngimg.com/uploads/github/github_PNG58.png\" height=30rem></img>\n",
    "    <a href=https://github.com/mpi-astronomy/arxiv_display style=\"color:black;\">github/mpi-astronomy/arxiv_display</a> \n",
    "  </div>\n",
    "  {carousel:s}\n",
    "</body>\n",
    "\n",
    "<!-- Render Markdown -->\n",
    "\n",
    "<body>\n",
    "  <!-- highlight.js: https://highlightjs.org/download/ -->\n",
    "  <script src=\"https://cdnjs.cloudflare.com/ajax/libs/highlight.js/11.5.0/highlight.min.js\"></script>\n",
    "  <!-- marked.js -->\n",
    "  <script src=\"https://cdn.jsdelivr.net/npm/marked/marked.min.js\"></script>\n",
    "  <script>{script:s}</script>\n",
    "</body>\n",
    "</html>\n",
    "\"\"\"\n",
    "with open(\"_build/html/index_7days.html\", 'w') as fout:\n",
    "    fout.write(page)"
   ]
  },
  {
   "cell_type": "markdown",
   "id": "1cebacbc",
   "metadata": {
    "papermill": {
     "duration": 0.009012,
     "end_time": "2022-09-13T05:22:11.927061",
     "exception": false,
     "start_time": "2022-09-13T05:22:11.918049",
     "status": "completed"
    },
    "tags": []
   },
   "source": [
    "# Debugging papers"
   ]
  },
  {
   "cell_type": "raw",
   "id": "debe7cc6",
   "metadata": {
    "papermill": {
     "duration": 0.008904,
     "end_time": "2022-09-13T05:22:11.944964",
     "exception": false,
     "start_time": "2022-09-13T05:22:11.936060",
     "status": "completed"
    },
    "tags": []
   },
   "source": [
    "raise NotImplementedError(\"Manual Stop\")"
   ]
  },
  {
   "cell_type": "raw",
   "id": "eb169192",
   "metadata": {
    "papermill": {
     "duration": 0.009011,
     "end_time": "2022-09-13T05:22:11.962903",
     "exception": false,
     "start_time": "2022-09-13T05:22:11.953892",
     "status": "completed"
    },
    "scrolled": true,
    "tags": []
   },
   "source": [
    "from IPython.display import display, Markdown\n",
    "from TexSoup import TexSoup\n",
    "import re\n",
    "\n",
    "def bracket_error(source: str):\n",
    "    \"\"\" Find problematic portions of the document \"\"\"\n",
    "    \n",
    "    print(\"len(source)\", len(source))\n",
    "    \n",
    "    # Checking header\n",
    "    begin_doc = next(re.finditer(r'\\\\begin\\{document\\}', doc.source)).span()[1]\n",
    "    header = source[:begin_doc]\n",
    "    text = header + r\"\\n\\end{document}\"\n",
    "\n",
    "    try:\n",
    "        # print(\"Header check... \", end='')\n",
    "        TexSoup(text)\n",
    "        display(Markdown(f\"**[OK]** - Header\"))\n",
    "    except:\n",
    "        raise RuntimeError(\"Error in the header\")\n",
    "        \n",
    "    # Check the text per section until the end.\n",
    "    # Do not stop and try them all.\n",
    "    \n",
    "    problematic_text = []\n",
    "    \n",
    "    sections = ([(0, begin_doc, 'until first section')] + \n",
    "                [(g.span()[0], g.span()[1], g.group()) for g in re.finditer(r'\\\\section\\{.*\\}', source)] +\n",
    "                [(g.span()[0], g.span()[1], g.group()) for g in re.finditer(r'\\\\begin\\{appendix\\}', source)]\n",
    "               )\n",
    "    sections.append([len(source), len(source), 'end'])\n",
    "    \n",
    "    sections = sorted(sections, key=lambda x: x[0])\n",
    "    \n",
    "    prev_pos, prev_name = (0, 'header')\n",
    "    parsed = []\n",
    "    \n",
    "    for span, span_end, name in sections:\n",
    "\n",
    "        if span - prev_pos <= 0:\n",
    "            continue\n",
    "            \n",
    "\n",
    "        text = source[prev_pos:span]\n",
    "        if prev_pos > begin_doc:\n",
    "            text = r\"\\n\\begin{document}\" + text + r\"\\n\\end{document}\"\n",
    "        else:\n",
    "            text = text + r\"\\n\\end{document}\"\n",
    "        try:\n",
    "            #print(f\"{prev_pos}:{prev_name}-->{span}:{name} check... \", end='')\n",
    "            parsed.append(TexSoup(text, tolerance=1))  # allow not ending env\n",
    "            display(Markdown(f\"**[OK]** - *{prev_pos}*:{prev_name} &rarr; *{span}*:{name}\"))\n",
    "            # print(\"ok\")\n",
    "\n",
    "            prev_pos = span\n",
    "            prev_name = name\n",
    "        except:\n",
    "            # print(f\"error between {prev_pos} and {span}\")\n",
    "            display(Markdown(f\"**[ERR]** *{prev_pos}*:{prev_name} &rarr; *{span}*:{name}\"))\n",
    "            problematic_text.append((prev_pos, source[prev_pos:span]))\n",
    "            prev_pos = span\n",
    "            prev_name = name\n",
    "            # raise\n",
    "    return problematic_text, parsed\n",
    "\n",
    "\n",
    "def check_environment(text, offset=0):\n",
    "    \"\"\" Check environment \"\"\"\n",
    "    env = re.compile(r\"\\\\begin\\{(?P<env>.*)\\}(.*)\\\\end\\{(?P=env)\\}\", re.DOTALL)\n",
    "\n",
    "    for match in env.finditer(text):\n",
    "        beg, end = match.span()\n",
    "        beg += offset\n",
    "        end += offset\n",
    "        envname = match.groups()[0]\n",
    "        try:\n",
    "            latex.TexSoup(match.group())\n",
    "        except Exception as e:\n",
    "            display(e)\n",
    "            print(f\"Error in {envname:s} between {beg} and {end}\")\n",
    "            return match.groups()[1], beg, end"
   ]
  },
  {
   "cell_type": "raw",
   "id": "2315e835",
   "metadata": {
    "papermill": {
     "duration": 0.009034,
     "end_time": "2022-09-13T05:22:11.981073",
     "exception": false,
     "start_time": "2022-09-13T05:22:11.972039",
     "status": "completed"
    },
    "scrolled": false,
    "tags": []
   },
   "source": [
    "import importlib\n",
    "importlib.reload(latex)\n",
    "which = \"2204.03253\"\n",
    "paper_id = f'{which:s}'\n",
    "folder = f'tmp_{paper_id:s}'\n",
    "\n",
    "if not os.path.isdir(folder):\n",
    "    folder = retrieve_document_source(f\"{paper_id}\", f'tmp_{paper_id}')\n",
    "\n",
    "try:\n",
    "    doc = latex.LatexDocument(folder, validation=validation)    \n",
    "except AffiliationError as affilerror:\n",
    "    msg = f\"ArXiv:{paper_id:s} is not an MPIA paper... \" + str(affilerror)\n",
    "    print(msg)\n",
    "\n",
    "\n",
    "# Hack because sometimes author parsing does not work well\n",
    "if (len(doc.authors) != len(paper['authors'])):\n",
    "    doc._authors = paper['authors']\n",
    "if (doc.abstract) in (None, ''):\n",
    "    doc._abstract = paper['abstract']\n",
    "\n",
    "doc.comment = get_markdown_badge(paper_id) + \" _\" + paper['comments'] + \"_\"\n",
    "doc.highlight_authors_in_list(hl_list)\n",
    "\n",
    "full_md = doc.generate_markdown_text()"
   ]
  },
  {
   "cell_type": "raw",
   "id": "dd3781db",
   "metadata": {
    "papermill": {
     "duration": 0.008915,
     "end_time": "2022-09-13T05:22:11.998872",
     "exception": false,
     "start_time": "2022-09-13T05:22:11.989957",
     "status": "completed"
    },
    "scrolled": false,
    "tags": []
   },
   "source": [
    "doc"
   ]
  },
  {
   "cell_type": "raw",
   "id": "c6eed834",
   "metadata": {
    "papermill": {
     "duration": 0.008896,
     "end_time": "2022-09-13T05:22:12.016651",
     "exception": false,
     "start_time": "2022-09-13T05:22:12.007755",
     "status": "completed"
    },
    "tags": []
   },
   "source": [
    "# [check_environment(k) for k in bracket_error(doc.source)]\n",
    "_, _, a = latex.get_content_per_section(doc.source, verbose=True)\n",
    "if not a:\n",
    "    print(\"no issues per section\")\n",
    "for ak in a:\n",
    "    r = check_environment(ak[1], offset=ak[0])\n",
    "    print(r[1], r[2])\n",
    "    print(r[0])"
   ]
  },
  {
   "cell_type": "code",
   "execution_count": null,
   "id": "71ce768a",
   "metadata": {
    "papermill": {
     "duration": 0.008952,
     "end_time": "2022-09-13T05:22:12.034450",
     "exception": false,
     "start_time": "2022-09-13T05:22:12.025498",
     "status": "completed"
    },
    "tags": []
   },
   "outputs": [],
   "source": []
  }
 ],
 "metadata": {
  "kernelspec": {
   "display_name": "Python 3.10.6 64-bit",
   "language": "python",
   "name": "python3"
  },
  "language_info": {
   "codemirror_mode": {
    "name": "ipython",
    "version": 3
   },
   "file_extension": ".py",
   "mimetype": "text/x-python",
   "name": "python",
   "nbconvert_exporter": "python",
   "pygments_lexer": "ipython3",
   "version": "3.9.13"
  },
  "papermill": {
   "default_parameters": {},
   "duration": 135.705191,
   "end_time": "2022-09-13T05:22:12.364004",
   "environment_variables": {},
   "exception": null,
   "input_path": "MPIA daily digest.ipynb",
   "output_path": "log.ipynb",
   "parameters": {},
   "start_time": "2022-09-13T05:19:56.658813",
   "version": "2.4.0"
  },
  "vscode": {
   "interpreter": {
    "hash": "e7370f93d1d0cde622a1f8e1c04877d8463912d04d973331ad4851f04de6915a"
   }
  },
  "widgets": {
   "application/vnd.jupyter.widget-state+json": {
    "state": {
     "071016c6749e4f51bb147a7a2632648d": {
      "model_module": "@jupyter-widgets/controls",
      "model_module_version": "2.0.0",
      "model_name": "HBoxModel",
      "state": {
       "_dom_classes": [],
       "_model_module": "@jupyter-widgets/controls",
       "_model_module_version": "2.0.0",
       "_model_name": "HBoxModel",
       "_view_count": null,
       "_view_module": "@jupyter-widgets/controls",
       "_view_module_version": "2.0.0",
       "_view_name": "HBoxView",
       "box_style": "",
       "children": [
        "IPY_MODEL_087b76b821d445ad81649f65f8f3a9da",
        "IPY_MODEL_9609bd3ccdeb422da5df5b2346fc6d5a",
        "IPY_MODEL_6e7a5653a51549c780f85090d7070f4b"
       ],
       "layout": "IPY_MODEL_e0253a4b25d3408cb43bf1da4b80b8f2",
       "tabbable": null,
       "tooltip": null
      }
     },
     "087b76b821d445ad81649f65f8f3a9da": {
      "model_module": "@jupyter-widgets/controls",
      "model_module_version": "2.0.0",
      "model_name": "HTMLModel",
      "state": {
       "_dom_classes": [],
       "_model_module": "@jupyter-widgets/controls",
       "_model_module_version": "2.0.0",
       "_model_name": "HTMLModel",
       "_view_count": null,
       "_view_module": "@jupyter-widgets/controls",
       "_view_module_version": "2.0.0",
       "_view_name": "HTMLView",
       "description": "",
       "description_allow_html": false,
       "layout": "IPY_MODEL_5e8e5d513d424a39b4fff3ab6173653d",
       "placeholder": "​",
       "style": "IPY_MODEL_8044b7d4fe3c405ca36d57b45197fc79",
       "tabbable": null,
       "tooltip": null,
       "value": "100%"
      }
     },
     "37e940d668c9405893c5b5b86ef11824": {
      "model_module": "@jupyter-widgets/base",
      "model_module_version": "2.0.0",
      "model_name": "LayoutModel",
      "state": {
       "_model_module": "@jupyter-widgets/base",
       "_model_module_version": "2.0.0",
       "_model_name": "LayoutModel",
       "_view_count": null,
       "_view_module": "@jupyter-widgets/base",
       "_view_module_version": "2.0.0",
       "_view_name": "LayoutView",
       "align_content": null,
       "align_items": null,
       "align_self": null,
       "border_bottom": null,
       "border_left": null,
       "border_right": null,
       "border_top": null,
       "bottom": null,
       "display": null,
       "flex": null,
       "flex_flow": null,
       "grid_area": null,
       "grid_auto_columns": null,
       "grid_auto_flow": null,
       "grid_auto_rows": null,
       "grid_column": null,
       "grid_gap": null,
       "grid_row": null,
       "grid_template_areas": null,
       "grid_template_columns": null,
       "grid_template_rows": null,
       "height": null,
       "justify_content": null,
       "justify_items": null,
       "left": null,
       "margin": null,
       "max_height": null,
       "max_width": null,
       "min_height": null,
       "min_width": null,
       "object_fit": null,
       "object_position": null,
       "order": null,
       "overflow": null,
       "padding": null,
       "right": null,
       "top": null,
       "visibility": null,
       "width": null
      }
     },
     "5e8e5d513d424a39b4fff3ab6173653d": {
      "model_module": "@jupyter-widgets/base",
      "model_module_version": "2.0.0",
      "model_name": "LayoutModel",
      "state": {
       "_model_module": "@jupyter-widgets/base",
       "_model_module_version": "2.0.0",
       "_model_name": "LayoutModel",
       "_view_count": null,
       "_view_module": "@jupyter-widgets/base",
       "_view_module_version": "2.0.0",
       "_view_name": "LayoutView",
       "align_content": null,
       "align_items": null,
       "align_self": null,
       "border_bottom": null,
       "border_left": null,
       "border_right": null,
       "border_top": null,
       "bottom": null,
       "display": null,
       "flex": null,
       "flex_flow": null,
       "grid_area": null,
       "grid_auto_columns": null,
       "grid_auto_flow": null,
       "grid_auto_rows": null,
       "grid_column": null,
       "grid_gap": null,
       "grid_row": null,
       "grid_template_areas": null,
       "grid_template_columns": null,
       "grid_template_rows": null,
       "height": null,
       "justify_content": null,
       "justify_items": null,
       "left": null,
       "margin": null,
       "max_height": null,
       "max_width": null,
       "min_height": null,
       "min_width": null,
       "object_fit": null,
       "object_position": null,
       "order": null,
       "overflow": null,
       "padding": null,
       "right": null,
       "top": null,
       "visibility": null,
       "width": null
      }
     },
     "6e7a5653a51549c780f85090d7070f4b": {
      "model_module": "@jupyter-widgets/controls",
      "model_module_version": "2.0.0",
      "model_name": "HTMLModel",
      "state": {
       "_dom_classes": [],
       "_model_module": "@jupyter-widgets/controls",
       "_model_module_version": "2.0.0",
       "_model_name": "HTMLModel",
       "_view_count": null,
       "_view_module": "@jupyter-widgets/controls",
       "_view_module_version": "2.0.0",
       "_view_name": "HTMLView",
       "description": "",
       "description_allow_html": false,
       "layout": "IPY_MODEL_f3c59b173a8f4ff0b6aed88c3eebd733",
       "placeholder": "​",
       "style": "IPY_MODEL_a2e69c88d22e4cff924d11a10b065979",
       "tabbable": null,
       "tooltip": null,
       "value": " 19/19 [01:48&lt;00:00, 16.76s/it]"
      }
     },
     "8044b7d4fe3c405ca36d57b45197fc79": {
      "model_module": "@jupyter-widgets/controls",
      "model_module_version": "2.0.0",
      "model_name": "HTMLStyleModel",
      "state": {
       "_model_module": "@jupyter-widgets/controls",
       "_model_module_version": "2.0.0",
       "_model_name": "HTMLStyleModel",
       "_view_count": null,
       "_view_module": "@jupyter-widgets/base",
       "_view_module_version": "2.0.0",
       "_view_name": "StyleView",
       "background": null,
       "description_width": "",
       "font_size": null,
       "text_color": null
      }
     },
     "9609bd3ccdeb422da5df5b2346fc6d5a": {
      "model_module": "@jupyter-widgets/controls",
      "model_module_version": "2.0.0",
      "model_name": "FloatProgressModel",
      "state": {
       "_dom_classes": [],
       "_model_module": "@jupyter-widgets/controls",
       "_model_module_version": "2.0.0",
       "_model_name": "FloatProgressModel",
       "_view_count": null,
       "_view_module": "@jupyter-widgets/controls",
       "_view_module_version": "2.0.0",
       "_view_name": "ProgressView",
       "bar_style": "success",
       "description": "",
       "description_allow_html": false,
       "layout": "IPY_MODEL_37e940d668c9405893c5b5b86ef11824",
       "max": 19.0,
       "min": 0.0,
       "orientation": "horizontal",
       "style": "IPY_MODEL_b93d3bb7fbc9457bb545cf28298c5d3c",
       "tabbable": null,
       "tooltip": null,
       "value": 19.0
      }
     },
     "a2e69c88d22e4cff924d11a10b065979": {
      "model_module": "@jupyter-widgets/controls",
      "model_module_version": "2.0.0",
      "model_name": "HTMLStyleModel",
      "state": {
       "_model_module": "@jupyter-widgets/controls",
       "_model_module_version": "2.0.0",
       "_model_name": "HTMLStyleModel",
       "_view_count": null,
       "_view_module": "@jupyter-widgets/base",
       "_view_module_version": "2.0.0",
       "_view_name": "StyleView",
       "background": null,
       "description_width": "",
       "font_size": null,
       "text_color": null
      }
     },
     "b93d3bb7fbc9457bb545cf28298c5d3c": {
      "model_module": "@jupyter-widgets/controls",
      "model_module_version": "2.0.0",
      "model_name": "ProgressStyleModel",
      "state": {
       "_model_module": "@jupyter-widgets/controls",
       "_model_module_version": "2.0.0",
       "_model_name": "ProgressStyleModel",
       "_view_count": null,
       "_view_module": "@jupyter-widgets/base",
       "_view_module_version": "2.0.0",
       "_view_name": "StyleView",
       "bar_color": null,
       "description_width": ""
      }
     },
     "e0253a4b25d3408cb43bf1da4b80b8f2": {
      "model_module": "@jupyter-widgets/base",
      "model_module_version": "2.0.0",
      "model_name": "LayoutModel",
      "state": {
       "_model_module": "@jupyter-widgets/base",
       "_model_module_version": "2.0.0",
       "_model_name": "LayoutModel",
       "_view_count": null,
       "_view_module": "@jupyter-widgets/base",
       "_view_module_version": "2.0.0",
       "_view_name": "LayoutView",
       "align_content": null,
       "align_items": null,
       "align_self": null,
       "border_bottom": null,
       "border_left": null,
       "border_right": null,
       "border_top": null,
       "bottom": null,
       "display": null,
       "flex": null,
       "flex_flow": null,
       "grid_area": null,
       "grid_auto_columns": null,
       "grid_auto_flow": null,
       "grid_auto_rows": null,
       "grid_column": null,
       "grid_gap": null,
       "grid_row": null,
       "grid_template_areas": null,
       "grid_template_columns": null,
       "grid_template_rows": null,
       "height": null,
       "justify_content": null,
       "justify_items": null,
       "left": null,
       "margin": null,
       "max_height": null,
       "max_width": null,
       "min_height": null,
       "min_width": null,
       "object_fit": null,
       "object_position": null,
       "order": null,
       "overflow": null,
       "padding": null,
       "right": null,
       "top": null,
       "visibility": null,
       "width": null
      }
     },
     "f3c59b173a8f4ff0b6aed88c3eebd733": {
      "model_module": "@jupyter-widgets/base",
      "model_module_version": "2.0.0",
      "model_name": "LayoutModel",
      "state": {
       "_model_module": "@jupyter-widgets/base",
       "_model_module_version": "2.0.0",
       "_model_name": "LayoutModel",
       "_view_count": null,
       "_view_module": "@jupyter-widgets/base",
       "_view_module_version": "2.0.0",
       "_view_name": "LayoutView",
       "align_content": null,
       "align_items": null,
       "align_self": null,
       "border_bottom": null,
       "border_left": null,
       "border_right": null,
       "border_top": null,
       "bottom": null,
       "display": null,
       "flex": null,
       "flex_flow": null,
       "grid_area": null,
       "grid_auto_columns": null,
       "grid_auto_flow": null,
       "grid_auto_rows": null,
       "grid_column": null,
       "grid_gap": null,
       "grid_row": null,
       "grid_template_areas": null,
       "grid_template_columns": null,
       "grid_template_rows": null,
       "height": null,
       "justify_content": null,
       "justify_items": null,
       "left": null,
       "margin": null,
       "max_height": null,
       "max_width": null,
       "min_height": null,
       "min_width": null,
       "object_fit": null,
       "object_position": null,
       "order": null,
       "overflow": null,
       "padding": null,
       "right": null,
       "top": null,
       "visibility": null,
       "width": null
      }
     }
    },
    "version_major": 2,
    "version_minor": 0
   }
  }
 },
 "nbformat": 4,
 "nbformat_minor": 5
}