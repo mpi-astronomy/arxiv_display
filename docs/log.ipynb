{
 "cells": [
  {
   "cell_type": "markdown",
   "id": "92bcb855",
   "metadata": {
    "papermill": {
     "duration": 0.004015,
     "end_time": "2025-02-14T04:11:14.216213",
     "exception": false,
     "start_time": "2025-02-14T04:11:14.212198",
     "status": "completed"
    },
    "tags": []
   },
   "source": [
    "# MPIA Arxiv on Deck 2\n",
    "\n",
    "Contains the steps to produce the paper extractions."
   ]
  },
  {
   "cell_type": "code",
   "execution_count": 1,
   "id": "3a0d6e11",
   "metadata": {
    "execution": {
     "iopub.execute_input": "2025-02-14T04:11:14.226323Z",
     "iopub.status.busy": "2025-02-14T04:11:14.224298Z",
     "iopub.status.idle": "2025-02-14T04:11:14.781096Z",
     "shell.execute_reply": "2025-02-14T04:11:14.780207Z"
    },
    "papermill": {
     "duration": 0.563468,
     "end_time": "2025-02-14T04:11:14.783233",
     "exception": false,
     "start_time": "2025-02-14T04:11:14.219765",
     "status": "completed"
    },
    "tags": []
   },
   "outputs": [],
   "source": [
    "# Imports\n",
    "import os\n",
    "from IPython.display import Markdown, display\n",
    "from tqdm.notebook import tqdm\n",
    "import warnings\n",
    "from PIL import Image \n",
    "import re\n",
    "\n",
    "# requires arxiv_on_deck_2\n",
    "\n",
    "from arxiv_on_deck_2.arxiv2 import (get_new_papers, \n",
    "                                    get_paper_from_identifier,\n",
    "                                    retrieve_document_source, \n",
    "                                    get_markdown_badge)\n",
    "from arxiv_on_deck_2 import (latex,\n",
    "                             latex_bib,\n",
    "                             mpia,\n",
    "                             highlight_authors_in_list)\n",
    "\n",
    "# Sometimes images are really big\n",
    "Image.MAX_IMAGE_PIXELS = 1000000000 "
   ]
  },
  {
   "cell_type": "code",
   "execution_count": 2,
   "id": "22aa9d44",
   "metadata": {
    "execution": {
     "iopub.execute_input": "2025-02-14T04:11:14.795371Z",
     "iopub.status.busy": "2025-02-14T04:11:14.795039Z",
     "iopub.status.idle": "2025-02-14T04:11:14.805170Z",
     "shell.execute_reply": "2025-02-14T04:11:14.804592Z"
    },
    "papermill": {
     "duration": 0.01625,
     "end_time": "2025-02-14T04:11:14.806243",
     "exception": false,
     "start_time": "2025-02-14T04:11:14.789993",
     "status": "completed"
    },
    "tags": []
   },
   "outputs": [],
   "source": [
    "# Some useful definitions.\n",
    "\n",
    "class AffiliationWarning(UserWarning):\n",
    "    pass\n",
    "\n",
    "class AffiliationError(RuntimeError):\n",
    "    pass\n",
    "\n",
    "def validation(source: str):\n",
    "    \"\"\"Raises error paper during parsing of source file\n",
    "    \n",
    "    Allows checks before parsing TeX code.\n",
    "    \n",
    "    Raises AffiliationWarning\n",
    "    \"\"\"\n",
    "    check = mpia.affiliation_verifications(source, verbose=True)\n",
    "    if check is not True:\n",
    "        raise AffiliationError(\"mpia.affiliation_verifications: \" + check)\n",
    "\n",
    "        \n",
    "warnings.simplefilter('always', AffiliationWarning)\n",
    "\n",
    "\n",
    "def get_markdown_qrcode(paper_id: str):\n",
    "    \"\"\" Generate a qrcode to the arxiv page using qrserver.com\n",
    "    \n",
    "    :param paper: Arxiv paper\n",
    "    :returns: markdown text\n",
    "    \"\"\"\n",
    "    url = r\"https://api.qrserver.com/v1/create-qr-code/?size=100x100&data=\"\n",
    "    txt = f\"\"\"<img src={url}\"https://arxiv.org/abs/{paper_id}\">\"\"\"\n",
    "    txt = '<div id=\"qrcode\">' + txt + '</div>'\n",
    "    return txt\n",
    "\n",
    "\n",
    "def clean_non_western_encoded_characters_commands(text: str) -> str:\n",
    "    \"\"\" Remove non-western encoded characters from a string\n",
    "    List may need to grow.\n",
    "    \n",
    "    :param text: the text to clean\n",
    "    :return: the cleaned text\n",
    "    \"\"\"\n",
    "    text = re.sub(r\"(\\\\begin{CJK}{UTF8}{gbsn})(.*?)(\\\\end{CJK})\", r\"\\2\", text)\n",
    "    return text\n",
    "\n",
    "\n",
    "def get_initials(name: str) -> str:\n",
    "    \"\"\" Get the short name, e.g., A.-B. FamName\n",
    "    :param name: full name\n",
    "    :returns: initials\n",
    "    \"\"\"\n",
    "    initials = []\n",
    "    # account for non western names often in ()\n",
    "    if '(' in name:\n",
    "        name = clean_non_western_encoded_characters_commands(name)\n",
    "        suffix = re.findall(r\"\\((.*?)\\)\", name)[0]\n",
    "        name = name.replace(f\"({suffix})\", '')\n",
    "    else:\n",
    "        suffix = ''\n",
    "    split = name.split()\n",
    "    for token in split[:-1]:\n",
    "        if '-' in token:\n",
    "            current = '-'.join([k[0] + '.' for k in token.split('-')])\n",
    "        else:\n",
    "            current = token[0] + '.'\n",
    "        initials.append(current)\n",
    "    initials.append(split[-1].strip())\n",
    "    if suffix:\n",
    "        initials.append(f\"({suffix})\")\n",
    "    return ' '.join(initials)"
   ]
  },
  {
   "cell_type": "markdown",
   "id": "14bd6310",
   "metadata": {
    "papermill": {
     "duration": 0.003687,
     "end_time": "2025-02-14T04:11:14.814005",
     "exception": false,
     "start_time": "2025-02-14T04:11:14.810318",
     "status": "completed"
    },
    "tags": []
   },
   "source": [
    "## get list of arxiv paper candidates\n",
    "\n",
    "We use the MPIA mitarbeiter list webpage from mpia.de to get author names\n",
    "We then get all new papers from Arxiv and match authors"
   ]
  },
  {
   "cell_type": "code",
   "execution_count": 3,
   "id": "7ea813a8",
   "metadata": {
    "execution": {
     "iopub.execute_input": "2025-02-14T04:11:14.822862Z",
     "iopub.status.busy": "2025-02-14T04:11:14.822601Z",
     "iopub.status.idle": "2025-02-14T04:11:36.994183Z",
     "shell.execute_reply": "2025-02-14T04:11:36.993464Z"
    },
    "papermill": {
     "duration": 22.181092,
     "end_time": "2025-02-14T04:11:36.998554",
     "exception": false,
     "start_time": "2025-02-14T04:11:14.817462",
     "status": "completed"
    },
    "tags": []
   },
   "outputs": [],
   "source": [
    "# deal with the author list and edge cases of people that cannot be consistent on their name  \n",
    "\n",
    "def filter_non_scientists(name: str) -> bool:\n",
    "    \"\"\" Loose filter on expected authorships\n",
    "\n",
    "    removing IT, administration, technical staff\n",
    "    :param name: name\n",
    "    :returns: False if name is not a scientist\n",
    "    \"\"\"\n",
    "    remove_list = ['Licht', 'Binroth', 'Witzel', 'Jordan',\n",
    "                   'Zähringer', 'Scheerer', 'Hoffmann', 'Düe',\n",
    "                   'Hellmich', 'Enkler-Scharpegge', 'Witte-Nguy',\n",
    "                   'Dehen', 'Beckmann', 'Jager', 'Jäger'\n",
    "                  ]\n",
    "\n",
    "    for k in remove_list:\n",
    "        if k in name:\n",
    "            return False\n",
    "    return True\n",
    "\n",
    "def add_author_to_list(author_list: list) -> list:\n",
    "    \"\"\" Add author to list if not already in list\n",
    "    \n",
    "    :param author: author name\n",
    "    :param author_list: list of authors\n",
    "    :returns: updated list of authors\n",
    "    \"\"\"\n",
    "    add_list = ['T. Henning']\n",
    "\n",
    "    for author in add_list:\n",
    "        if author not in author_list:\n",
    "            author_list.append(author)\n",
    "    return author_list\n",
    "\n",
    "# get list from MPIA website\n",
    "# filter for non-scientists (mpia.get_mpia_mitarbeiter_list() does some filtering)\n",
    "mpia_authors = [k[1] for k in mpia.get_mpia_mitarbeiter_list() if filter_non_scientists(k[1])]\n",
    "# add some missing author because of inconsistencies in their MPIA name and author name on papers\n",
    "mpia_authors = add_author_to_list(mpia_authors)"
   ]
  },
  {
   "cell_type": "code",
   "execution_count": 4,
   "id": "2645e73a",
   "metadata": {
    "execution": {
     "iopub.execute_input": "2025-02-14T04:11:37.008044Z",
     "iopub.status.busy": "2025-02-14T04:11:37.007449Z",
     "iopub.status.idle": "2025-02-14T04:11:37.704841Z",
     "shell.execute_reply": "2025-02-14T04:11:37.703915Z"
    },
    "papermill": {
     "duration": 0.703399,
     "end_time": "2025-02-14T04:11:37.706199",
     "exception": false,
     "start_time": "2025-02-14T04:11:37.002800",
     "status": "completed"
    },
    "tags": []
   },
   "outputs": [
    {
     "name": "stdout",
     "output_type": "stream",
     "text": [
      "F. Walter  ->  F. Walter  |  ['F. Walter']\n",
      "K. Lee  ->  K. Lee  |  ['K. Lee']\n",
      "M. Bergemann  ->  M. Bergemann  |  ['M. Bergemann']\n",
      "E. Magg  ->  E. Magg  |  ['E. Magg']\n",
      "Arxiv has 76 new papers today\n",
      "          3 with possible author matches\n"
     ]
    }
   ],
   "source": [
    "new_papers = get_new_papers()\n",
    "# add manual references\n",
    "add_paper_refs = []\n",
    "new_papers.extend([get_paper_from_identifier(k) for k in add_paper_refs])\n",
    "\n",
    "def robust_call(fn, value, *args, **kwargs):\n",
    "    try:\n",
    "        return fn(value, *args, **kwargs)\n",
    "    except Exception:\n",
    "        return value\n",
    "\n",
    "candidates = []\n",
    "for paperk in new_papers:\n",
    "    # Check author list with their initials\n",
    "    normed_author_list = [robust_call(mpia.get_initials, k) for k in paperk['authors']]\n",
    "    hl_authors = highlight_authors_in_list(normed_author_list, mpia_authors, verbose=True)\n",
    "    matches = [(hl, orig) for hl, orig in zip(hl_authors, paperk['authors']) if 'mark' in hl]\n",
    "    paperk['authors'] = hl_authors\n",
    "    if matches:\n",
    "        # only select paper if an author matched our list\n",
    "        candidates.append(paperk)\n",
    "print(\"\"\"Arxiv has {0:,d} new papers today\"\"\".format(len(new_papers)))        \n",
    "print(\"\"\"          {0:,d} with possible author matches\"\"\".format(len(candidates)))"
   ]
  },
  {
   "cell_type": "markdown",
   "id": "3543b34a",
   "metadata": {
    "papermill": {
     "duration": 0.004391,
     "end_time": "2025-02-14T04:11:37.714791",
     "exception": false,
     "start_time": "2025-02-14T04:11:37.710400",
     "status": "completed"
    },
    "tags": []
   },
   "source": [
    "# Parse sources and generate relevant outputs\n",
    "\n",
    "From the candidates, we do the following steps:\n",
    "* get their tarball from ArXiv (and extract data)\n",
    "* find the main .tex file: find one with \\documentclass{...} (sometimes it's non trivial)\n",
    "* Check affiliations with :func:`validation`, which uses :func:`mpia.affiliation_verifications`\n",
    "* If passing the affiliations: we parse the .tex source\n",
    "   * inject sub-documents into the main (flatten the main document)\n",
    "   * parse structure, extract information (title, abstract, authors, figures...)\n",
    "   * handles `\\graphicspath` if provided\n",
    "* Generate the .md document."
   ]
  },
  {
   "cell_type": "code",
   "execution_count": 5,
   "id": "9576b79e",
   "metadata": {
    "execution": {
     "iopub.execute_input": "2025-02-14T04:11:37.731202Z",
     "iopub.status.busy": "2025-02-14T04:11:37.730937Z",
     "iopub.status.idle": "2025-02-14T04:12:42.206864Z",
     "shell.execute_reply": "2025-02-14T04:12:42.205734Z"
    },
    "papermill": {
     "duration": 64.489349,
     "end_time": "2025-02-14T04:12:42.212506",
     "exception": false,
     "start_time": "2025-02-14T04:11:37.723157",
     "status": "completed"
    },
    "scrolled": false,
    "tags": []
   },
   "outputs": [
    {
     "data": {
      "application/vnd.jupyter.widget-view+json": {
       "model_id": "052f8eccf07d42438af71ee3f59e153c",
       "version_major": 2,
       "version_minor": 0
      },
      "text/plain": [
       "  0%|          | 0/3 [00:00<?, ?it/s]"
      ]
     },
     "metadata": {},
     "output_type": "display_data"
    },
    {
     "name": "stdout",
     "output_type": "stream",
     "text": [
      "Retrieving document from  https://arxiv.org/e-print/2502.08984\n"
     ]
    },
    {
     "name": "stdout",
     "output_type": "stream",
     "text": [
      "extracting tarball to tmp_2502.08984... done.\n"
     ]
    },
    {
     "name": "stdout",
     "output_type": "stream",
     "text": [
      "F. Walter  ->  F. Walter  |  ['F. Walter']\n"
     ]
    },
    {
     "name": "stderr",
     "output_type": "stream",
     "text": [
      "/opt/hostedtoolcache/Python/3.9.21/x64/lib/python3.9/site-packages/arxiv_on_deck_2/latex.py:132: LatexWarning: attempting recovering figure empty.eps\n",
      "  warnings.warn(LatexWarning(f'attempting recovering figure {image}'))\n",
      "/opt/hostedtoolcache/Python/3.9.21/x64/lib/python3.9/site-packages/arxiv_on_deck_2/latex.py:707: LatexWarning: Could not find graphic \\includegraphics[width=\\hsize]{empty.eps}\n",
      "  warnings.warn(LatexWarning(f\"Could not find graphic {k}\"))\n",
      "/opt/hostedtoolcache/Python/3.9.21/x64/lib/python3.9/site-packages/arxiv_on_deck_2/latex.py:132: LatexWarning: attempting recovering figure empty.eps\n",
      "  warnings.warn(LatexWarning(f'attempting recovering figure {image}'))\n",
      "/opt/hostedtoolcache/Python/3.9.21/x64/lib/python3.9/site-packages/arxiv_on_deck_2/latex.py:707: LatexWarning: Could not find graphic \\includegraphics[angle=-90,width=3cm]{empty.eps}\n",
      "  warnings.warn(LatexWarning(f\"Could not find graphic {k}\"))\n",
      "/opt/hostedtoolcache/Python/3.9.21/x64/lib/python3.9/site-packages/arxiv_on_deck_2/latex.py:132: LatexWarning: attempting recovering figure empty.eps\n",
      "  warnings.warn(LatexWarning(f'attempting recovering figure {image}'))\n",
      "/opt/hostedtoolcache/Python/3.9.21/x64/lib/python3.9/site-packages/arxiv_on_deck_2/latex.py:707: LatexWarning: Could not find graphic \\includegraphics[width=3cm]{empty.eps}\n",
      "  warnings.warn(LatexWarning(f\"Could not find graphic {k}\"))\n",
      "/opt/hostedtoolcache/Python/3.9.21/x64/lib/python3.9/site-packages/arxiv_on_deck_2/latex.py:132: LatexWarning: attempting recovering figure empty.eps\n",
      "  warnings.warn(LatexWarning(f'attempting recovering figure {image}'))\n",
      "/opt/hostedtoolcache/Python/3.9.21/x64/lib/python3.9/site-packages/arxiv_on_deck_2/latex.py:707: LatexWarning: Could not find graphic \\includegraphics[bb=10 20 100 300,width=3cm,clip]{empty.eps}\n",
      "  warnings.warn(LatexWarning(f\"Could not find graphic {k}\"))\n",
      "/opt/hostedtoolcache/Python/3.9.21/x64/lib/python3.9/site-packages/arxiv_on_deck_2/latex.py:132: LatexWarning: attempting recovering figure empty.eps\n",
      "  warnings.warn(LatexWarning(f'attempting recovering figure {image}'))\n",
      "/opt/hostedtoolcache/Python/3.9.21/x64/lib/python3.9/site-packages/arxiv_on_deck_2/latex.py:707: LatexWarning: Could not find graphic \\includegraphics[bb=10 20 100 300,clip]{empty.eps}\n",
      "  warnings.warn(LatexWarning(f\"Could not find graphic {k}\"))\n",
      "/opt/hostedtoolcache/Python/3.9.21/x64/lib/python3.9/site-packages/arxiv_on_deck_2/latex.py:132: LatexWarning: attempting recovering figure empty.eps\n",
      "  warnings.warn(LatexWarning(f'attempting recovering figure {image}'))\n",
      "/opt/hostedtoolcache/Python/3.9.21/x64/lib/python3.9/site-packages/arxiv_on_deck_2/latex.py:707: LatexWarning: Could not find graphic \\includegraphics[bb=10 20 100 300,clip]{empty.eps}\n",
      "  warnings.warn(LatexWarning(f\"Could not find graphic {k}\"))\n",
      "/opt/hostedtoolcache/Python/3.9.21/x64/lib/python3.9/site-packages/arxiv_on_deck_2/latex.py:132: LatexWarning: attempting recovering figure 1787f23.eps\n",
      "  warnings.warn(LatexWarning(f'attempting recovering figure {image}'))\n",
      "/opt/hostedtoolcache/Python/3.9.21/x64/lib/python3.9/site-packages/arxiv_on_deck_2/latex.py:707: LatexWarning: Could not find graphic \\includegraphics[width=10.9cm]{1787f23.eps}\n",
      "  warnings.warn(LatexWarning(f\"Could not find graphic {k}\"))\n",
      "/opt/hostedtoolcache/Python/3.9.21/x64/lib/python3.9/site-packages/arxiv_on_deck_2/latex.py:132: LatexWarning: attempting recovering figure 1787f24.ps\n",
      "  warnings.warn(LatexWarning(f'attempting recovering figure {image}'))\n",
      "/opt/hostedtoolcache/Python/3.9.21/x64/lib/python3.9/site-packages/arxiv_on_deck_2/latex.py:707: LatexWarning: Could not find graphic \\includegraphics[width=16.4cm,clip]{1787f24.ps}\n",
      "  warnings.warn(LatexWarning(f\"Could not find graphic {k}\"))\n",
      "/opt/hostedtoolcache/Python/3.9.21/x64/lib/python3.9/site-packages/arxiv_on_deck_2/latex.py:132: LatexWarning: attempting recovering figure empty.eps\n",
      "  warnings.warn(LatexWarning(f'attempting recovering figure {image}'))\n",
      "/opt/hostedtoolcache/Python/3.9.21/x64/lib/python3.9/site-packages/arxiv_on_deck_2/latex.py:707: LatexWarning: Could not find graphic \\includegraphics[bb=10 20 100 300,clip]{empty.eps}\n",
      "  warnings.warn(LatexWarning(f\"Could not find graphic {k}\"))\n",
      "/opt/hostedtoolcache/Python/3.9.21/x64/lib/python3.9/site-packages/arxiv_on_deck_2/latex.py:132: LatexWarning: attempting recovering figure 1787f23.eps\n",
      "  warnings.warn(LatexWarning(f'attempting recovering figure {image}'))\n",
      "/opt/hostedtoolcache/Python/3.9.21/x64/lib/python3.9/site-packages/arxiv_on_deck_2/latex.py:707: LatexWarning: Could not find graphic \\includegraphics[width=10.9cm]{1787f23.eps}\n",
      "  warnings.warn(LatexWarning(f\"Could not find graphic {k}\"))\n",
      "/opt/hostedtoolcache/Python/3.9.21/x64/lib/python3.9/site-packages/arxiv_on_deck_2/latex.py:132: LatexWarning: attempting recovering figure 1787f24.ps\n",
      "  warnings.warn(LatexWarning(f'attempting recovering figure {image}'))\n",
      "/opt/hostedtoolcache/Python/3.9.21/x64/lib/python3.9/site-packages/arxiv_on_deck_2/latex.py:707: LatexWarning: Could not find graphic \\includegraphics[width=16.4cm,clip]{1787f24.ps}\n",
      "  warnings.warn(LatexWarning(f\"Could not find graphic {k}\"))\n",
      "/opt/hostedtoolcache/Python/3.9.21/x64/lib/python3.9/site-packages/arxiv_on_deck_2/latex.py:132: LatexWarning: attempting recovering figure 1787f23.eps\n",
      "  warnings.warn(LatexWarning(f'attempting recovering figure {image}'))\n",
      "/opt/hostedtoolcache/Python/3.9.21/x64/lib/python3.9/site-packages/arxiv_on_deck_2/latex.py:707: LatexWarning: Could not find graphic \\includegraphics[width=10.9cm]{1787f23.eps}\n",
      "  warnings.warn(LatexWarning(f\"Could not find graphic {k}\"))\n",
      "/opt/hostedtoolcache/Python/3.9.21/x64/lib/python3.9/site-packages/arxiv_on_deck_2/latex.py:132: LatexWarning: attempting recovering figure 1787f24.ps\n",
      "  warnings.warn(LatexWarning(f'attempting recovering figure {image}'))\n",
      "/opt/hostedtoolcache/Python/3.9.21/x64/lib/python3.9/site-packages/arxiv_on_deck_2/latex.py:707: LatexWarning: Could not find graphic \\includegraphics[width=16.4cm,clip]{1787f24.ps}\n",
      "  warnings.warn(LatexWarning(f\"Could not find graphic {k}\"))\n"
     ]
    },
    {
     "name": "stdout",
     "output_type": "stream",
     "text": [
      "Issues with the citations\n",
      "list index out of range\n",
      "Retrieving document from  https://arxiv.org/e-print/2502.09275\n"
     ]
    },
    {
     "name": "stdout",
     "output_type": "stream",
     "text": [
      "extracting tarball to tmp_2502.09275..."
     ]
    },
    {
     "name": "stdout",
     "output_type": "stream",
     "text": [
      " done.\n",
      "Retrieving document from  https://arxiv.org/e-print/2502.09388\n",
      "extracting tarball to tmp_2502.09388..."
     ]
    },
    {
     "name": "stdout",
     "output_type": "stream",
     "text": [
      " done.\n"
     ]
    },
    {
     "name": "stdout",
     "output_type": "stream",
     "text": [
      "M. Bergemann  ->  M. Bergemann  |  ['M. Bergemann']\n",
      "E. Magg  ->  E. Magg  |  ['E. Magg']\n"
     ]
    },
    {
     "name": "stdout",
     "output_type": "stream",
     "text": [
      "Issues with the citations\n",
      "list index out of range\n"
     ]
    }
   ],
   "source": [
    "documents = []\n",
    "failed = []\n",
    "for paper in tqdm(candidates):\n",
    "    # debug crap\n",
    "    paper['identifier'] = paper['identifier'].lower().replace('arxiv:', '').replace(r'\\n', '').strip()\n",
    "    paper_id = paper['identifier']\n",
    "    \n",
    "    folder = f'tmp_{paper_id}'\n",
    "\n",
    "    try:\n",
    "        if not os.path.isdir(folder):\n",
    "            folder = retrieve_document_source(f\"{paper_id}\", f'tmp_{paper_id}')\n",
    "        \n",
    "        try:\n",
    "            doc = latex.LatexDocument(folder, validation=validation)    \n",
    "        except AffiliationError as affilerror:\n",
    "            msg = f\"ArXiv:{paper_id:s} is not an MPIA paper... \" + str(affilerror)\n",
    "            failed.append((paper, \"affiliation error: \" + str(affilerror) ))\n",
    "            continue\n",
    "        \n",
    "        # Hack because sometimes author parsing does not work well\n",
    "        if (len(doc.authors) != len(paper['authors'])):\n",
    "            doc._authors = paper['authors']\n",
    "        else:\n",
    "            # highlight authors (FIXME: doc.highlight_authors)\n",
    "            # done on arxiv paper already\n",
    "            doc._authors = highlight_authors_in_list(\n",
    "                [get_initials(k) for k in doc.authors], \n",
    "                mpia_authors, verbose=True)\n",
    "        if (doc.abstract) in (None, ''):\n",
    "            doc._abstract = paper['abstract']\n",
    "            \n",
    "        doc.comment = (get_markdown_badge(paper_id) + \n",
    "                       \"<mark>Appeared on: \" + paper['date'] + \"</mark> - \")\n",
    "        if paper['comments']:\n",
    "            doc.comment += \" _\" + paper['comments'] + \"_\"\n",
    "        \n",
    "        full_md = doc.generate_markdown_text()\n",
    "        \n",
    "        full_md += get_markdown_qrcode(paper_id)\n",
    "        \n",
    "        # replace citations\n",
    "        try:\n",
    "            bibdata = latex_bib.LatexBib.from_doc(doc)\n",
    "            full_md = latex_bib.replace_citations(full_md, bibdata)\n",
    "        except Exception as e:\n",
    "            print(\"Issues with the citations\")\n",
    "            print(e)\n",
    "        \n",
    "        documents.append((paper_id, full_md))\n",
    "    except Exception as e:\n",
    "        warnings.warn(latex.LatexWarning(f\"{paper_id:s} did not run properly\\n\" +\n",
    "                                         str(e)\n",
    "                                        ))\n",
    "        failed.append((paper, \"latex error \" + str(e)))"
   ]
  },
  {
   "cell_type": "markdown",
   "id": "2505a25c",
   "metadata": {
    "papermill": {
     "duration": 0.004338,
     "end_time": "2025-02-14T04:12:42.221278",
     "exception": false,
     "start_time": "2025-02-14T04:12:42.216940",
     "status": "completed"
    },
    "tags": []
   },
   "source": [
    "### Export the logs\n",
    "\n",
    "Throughout, we also keep track of the logs per paper. see `logs-{today date}.md` "
   ]
  },
  {
   "cell_type": "code",
   "execution_count": 6,
   "id": "d733828a",
   "metadata": {
    "execution": {
     "iopub.execute_input": "2025-02-14T04:12:42.233556Z",
     "iopub.status.busy": "2025-02-14T04:12:42.233236Z",
     "iopub.status.idle": "2025-02-14T04:12:42.255736Z",
     "shell.execute_reply": "2025-02-14T04:12:42.254802Z"
    },
    "papermill": {
     "duration": 0.029774,
     "end_time": "2025-02-14T04:12:42.256870",
     "exception": false,
     "start_time": "2025-02-14T04:12:42.227096",
     "status": "completed"
    },
    "scrolled": false,
    "tags": []
   },
   "outputs": [
    {
     "data": {
      "text/markdown": [
       "## Successful papers"
      ],
      "text/plain": [
       "<IPython.core.display.Markdown object>"
      ]
     },
     "metadata": {},
     "output_type": "display_data"
    },
    {
     "data": {
      "text/markdown": [
       "\n",
       "|||\n",
       "|---:|:---|\n",
       "| [![arXiv](https://img.shields.io/badge/arXiv-2502.08984-b31b1b.svg)](https://arxiv.org/abs/2502.08984) | **The [NII] 205 $μ$m line emission from high-z SMGs and QSOs**  |\n",
       "|| S. Kolupuri, et al. -- incl., <mark>F. Walter</mark> |\n",
       "|*Appeared on*| *2025-02-14*|\n",
       "|*Comments*| *14 pages, 11 figures, accepted for publication in A&A*|\n",
       "|**Abstract**|            We present [NII] 205 $\\mu$m fine structure line observations of three submillimeter galaxies (SMGs) and three quasar host galaxies at 4$\\lesssim$z$\\lesssim$6 using the Institut de radioastronomie millimetrique (IRAM) interferometer. The [NII] emission is detected in three sources, and we report detections of the underlying dust continuum emission in all sources. The observed [NII]-to-infrared luminosity ratio spans at least 0.5 dex for our sources. Comparing our estimates with sources detected in the [NII] 205 $\\mu$m at similar redshifts shows that the overall [NII]-to-IR luminosity ratio spans over a dex in magnitude from L$_{[NII]}$/L$_{IR}$ ~ 10$^{-4}$ - 10$^{-5}$ and follows the trend of the so-called [NII] fine structure line deficit observed in (ultra)-luminous infrared galaxies in the local Universe. The [CII]-to-[NII] luminosity ratio is >10 for most of our sources, indicating that the bulk of the [CII] 158 $\\mu$m line emission (f([CII]$^{PDR}$)>75%) arises from the neutral medium. From our analysis, we do not find significant differences in the [NII] 205 $\\mu$m emission and the respective ratios between SMGs and QSOs, suggesting a negligible contribution to the boosting of [NII] 205 $\\mu$m emission due to the active galactic nucleus (AGN) photoionization. Future investigations involving other fine structure lines and optical diagnostics will provide further insight into a suite of ionized medium properties and reveal the diversity between AGN and non-AGN environments.         |"
      ],
      "text/plain": [
       "[2502.08984] The [NII] 205 $μ$m line emission from high-z SMGs and QSOs\n",
       "\tS. Kolupuri, et al. -- incl., <mark>F. Walter</mark>"
      ]
     },
     "metadata": {},
     "output_type": "display_data"
    },
    {
     "data": {
      "text/markdown": [
       "\n",
       "|||\n",
       "|---:|:---|\n",
       "| [![arXiv](https://img.shields.io/badge/arXiv-2502.09388-b31b1b.svg)](https://arxiv.org/abs/2502.09388) | **Performance of the Stellar Abundances and atmospheric Parameters Pipeline adapted for M dwarfs I. Atmospheric parameters from the spectroscopic module**  |\n",
       "|| T. Olander, et al. -- incl., <mark>M. Bergemann</mark>, <mark>E. Magg</mark> |\n",
       "|*Appeared on*| *2025-02-14*|\n",
       "|*Comments*| *Accepted in A&A*|\n",
       "|**Abstract**|            M dwarfs are important targets in the search for Earth-like exoplanets due to their small masses and low luminosities. Several ongoing and upcoming space missions are targeting M dwarfs for this reason, and the ESA PLATO mission is one of these. In order to fully characterise a planetary system the properties of the host star must be known. For M dwarfs we can derive effective temperature, surface gravity, metallicity, and abundances of various elements from spectroscopic observations in combination with photometric data. The Stellar Abundances and atmospheric Parameters Pipeline (SAPP) has been developed as a prototype for one of the stellar science softwares within the PLATO consortium, it is aimed at FGK stars. We have modified it to be able to analyse the M dwarf among the PLATO targets. The current version of the pipeline for M dwarfs mostly relies on spectroscopic observations. The data processing is based on the machine learning algorithm The Payne and fits a grid of model spectra to an observed spectrum to derive effective temperature and metallicity. We use spectra in the H-band, as the near-infrared region is beneficial for M dwarfs. A method based on synthetic spectra was developed for the continuum normalisation of the spectra, taking into account the pseudo-continuum formed by numerous lines of the water molecule. Photometry is used to constrain the surface gravity. We tested the modified SAPP on spectra of M dwarfs from the APOGEE survey. Our validation sample of 26 stars includes stars with interferometric observations and binaries. We found a good agreement between our values and reference values from a range of studies. The overall uncertainties in the derived effective temperature, surface gravity, and metallicity is 100 K, 0.1 dex, and 0.15 dex, respectively. We find that the modified SAPP performs well on M dwarfs and identify possible areas of future development.         |"
      ],
      "text/plain": [
       "[2502.09388] Performance of the Stellar Abundances and atmospheric Parameters Pipeline adapted for M dwarfs I. Atmospheric parameters from the spectroscopic module\n",
       "\tT. Olander, et al. -- incl., <mark>M. Bergemann</mark>, <mark>E. Magg</mark>"
      ]
     },
     "metadata": {},
     "output_type": "display_data"
    },
    {
     "data": {
      "text/markdown": [
       "## Failed papers"
      ],
      "text/plain": [
       "<IPython.core.display.Markdown object>"
      ]
     },
     "metadata": {},
     "output_type": "display_data"
    },
    {
     "data": {
      "text/markdown": [
       "\n",
       "|||\n",
       "|---:|:---|\n",
       "| [![arXiv](https://img.shields.io/badge/arXiv-2502.09275-b31b1b.svg)](https://arxiv.org/abs/2502.09275) | **Chinese Pulsar Timing Array upper limits on microhertz gravitational waves from supermassive black-hole binaries using PSR J1713+0747 FAST data**  |\n",
       "|| R. N. Caballero, et al. -- incl., <mark>K. Lee</mark> |\n",
       "|*Appeared on*| *2025-02-14*|\n",
       "|*Comments*| *Accepted by Research in Astronomy and Astrophysics (RAA)*|\n",
       "|**Abstract**|            We derive the gravitational-wave (GW) strain upper limits from resolvable supermassive black-hole binaries using the data from the Five-hundred-meter Aperture Spherical radio Telescope (FAST), in the context of the Chinese Pulsar Timing Array project. We focus on circular orbits in the $\\mu$Hz GW frequency band between $10^{-7}$ and $3\\times10^{-6}$ Hz. This frequency band is higher than the traditional pulsar timing array band and is less explored. We used the data of the millisecond pulsar PSR J1713+5307 observed between August 2019 and April 2021. A dense observation campaign was carried out in September 2020 to allow for the $\\mu$Hz band coverage. Our sky-average continuous source upper limit at the 95% confidence level at 1$\\mu$Hz is 1.26$\\times10^{-12}$, while the same limit in the direction of the pulsar is 4.77$\\times10^{-13}$.         |\n",
       "|<p style=\"color:green\"> **ERROR** </p>| <p style=\"color:green\">affiliation error: mpia.affiliation_verifications: 'Heidelberg' keyword not found.</p> |"
      ],
      "text/plain": [
       "<IPython.core.display.Markdown object>"
      ]
     },
     "metadata": {},
     "output_type": "display_data"
    }
   ],
   "source": [
    "import datetime\n",
    "today = str(datetime.date.today())\n",
    "logfile = f\"_build/html/logs/log-{today}.md\"\n",
    "\n",
    "\n",
    "with open(logfile, 'w') as logs:\n",
    "    # Success\n",
    "    logs.write(f'# Arxiv on Deck 2: Logs - {today}\\n\\n')\n",
    "    logs.write(\"\"\"* Arxiv had {0:,d} new papers\\n\"\"\".format(len(new_papers)))\n",
    "    logs.write(\"\"\"    * {0:,d} with possible author matches\\n\\n\"\"\".format(len(candidates)))\n",
    "    logs.write(\"## Sucessful papers\\n\\n\")\n",
    "    display(Markdown(\"## Successful papers\"))\n",
    "    success = [k[0] for k in documents]\n",
    "    for candid in candidates:\n",
    "        if candid['identifier'].split(':')[-1] in success:\n",
    "            display(candid)\n",
    "            logs.write(candid.generate_markdown_text() + '\\n\\n')\n",
    "\n",
    "    ## failed\n",
    "    logs.write(\"## Failed papers\\n\\n\")\n",
    "    display(Markdown(\"## Failed papers\"))\n",
    "    failed = sorted(failed, key=lambda x: x[1])\n",
    "    current_reason = \"\"\n",
    "    for paper, reason in failed:\n",
    "        if 'affiliation' in reason:\n",
    "            color = 'green'\n",
    "        else:\n",
    "            color = 'red'\n",
    "        data = Markdown(\n",
    "                paper.generate_markdown_text() + \n",
    "                f'\\n|<p style=\"color:{color:s}\"> **ERROR** </p>| <p style=\"color:{color:s}\">{reason:s}</p> |'\n",
    "               )\n",
    "        if reason != current_reason:\n",
    "            logs.write(f'### {reason:s} \\n\\n')\n",
    "            current_reason = reason\n",
    "        logs.write(data.data + '\\n\\n')\n",
    "        \n",
    "        # only display here the important errors (all in logs)\n",
    "        # if color in ('red',):\n",
    "        display(data)"
   ]
  },
  {
   "cell_type": "markdown",
   "id": "472d20ee",
   "metadata": {
    "papermill": {
     "duration": 0.004887,
     "end_time": "2025-02-14T04:12:42.266842",
     "exception": false,
     "start_time": "2025-02-14T04:12:42.261955",
     "status": "completed"
    },
    "tags": []
   },
   "source": [
    "## Export documents\n",
    "\n",
    "We now write the .md files and export relevant images"
   ]
  },
  {
   "cell_type": "code",
   "execution_count": 7,
   "id": "d426aed9",
   "metadata": {
    "execution": {
     "iopub.execute_input": "2025-02-14T04:12:42.278395Z",
     "iopub.status.busy": "2025-02-14T04:12:42.277455Z",
     "iopub.status.idle": "2025-02-14T04:12:42.285984Z",
     "shell.execute_reply": "2025-02-14T04:12:42.285373Z"
    },
    "papermill": {
     "duration": 0.015955,
     "end_time": "2025-02-14T04:12:42.287533",
     "exception": false,
     "start_time": "2025-02-14T04:12:42.271578",
     "status": "completed"
    },
    "tags": []
   },
   "outputs": [],
   "source": [
    "def export_markdown_summary(md: str, md_fname:str, directory: str):\n",
    "    \"\"\"Export MD document and associated relevant images\"\"\"\n",
    "    import os\n",
    "    import shutil\n",
    "    import re\n",
    "\n",
    "    if (os.path.exists(directory) and not os.path.isdir(directory)):\n",
    "        raise RuntimeError(f\"a non-directory file exists with name {directory:s}\")\n",
    "\n",
    "    if (not os.path.exists(directory)):\n",
    "        print(f\"creating directory {directory:s}\")\n",
    "        os.mkdir(directory)\n",
    "\n",
    "    fig_fnames = (re.compile(r'\\[Fig.*\\]\\((.*)\\)').findall(md) + \n",
    "                  re.compile(r'\\<img src=\"([^>\\s]*)\"[^>]*/>').findall(md))\n",
    "    print(\"found figures\", fig_fnames)\n",
    "    for fname in fig_fnames:\n",
    "        if 'http' in fname:\n",
    "            # No need to copy online figures\n",
    "            continue\n",
    "        if not os.path.exists(fname):\n",
    "            print(\"file not found\", fname)\n",
    "            continue\n",
    "        print(\"copying \", fname, \"to\", directory)\n",
    "        destdir = os.path.join(directory, os.path.dirname(fname))\n",
    "        destfname = os.path.join(destdir, os.path.basename(fname))\n",
    "        try:\n",
    "            os.makedirs(destdir)\n",
    "        except FileExistsError:\n",
    "            pass\n",
    "        shutil.copy(fname, destfname)\n",
    "    with open(os.path.join(directory, md_fname), 'w') as fout:\n",
    "        fout.write(md)\n",
    "    print(\"exported in \", os.path.join(directory, md_fname))\n",
    "    [print(\"    + \" + os.path.join(directory,fk)) for fk in fig_fnames]"
   ]
  },
  {
   "cell_type": "code",
   "execution_count": 8,
   "id": "014d04a4",
   "metadata": {
    "execution": {
     "iopub.execute_input": "2025-02-14T04:12:42.298620Z",
     "iopub.status.busy": "2025-02-14T04:12:42.298071Z",
     "iopub.status.idle": "2025-02-14T04:12:42.307261Z",
     "shell.execute_reply": "2025-02-14T04:12:42.306664Z"
    },
    "papermill": {
     "duration": 0.01592,
     "end_time": "2025-02-14T04:12:42.308478",
     "exception": false,
     "start_time": "2025-02-14T04:12:42.292558",
     "status": "completed"
    },
    "tags": []
   },
   "outputs": [
    {
     "name": "stdout",
     "output_type": "stream",
     "text": [
      "found figures ['', '', '', '', '', '', '', 'tmp_2502.08984/./new_nll_ir_with_my_IR.png']\n",
      "file not found \n",
      "file not found \n",
      "file not found \n",
      "file not found \n",
      "file not found \n",
      "file not found \n",
      "file not found \n",
      "copying  tmp_2502.08984/./new_nll_ir_with_my_IR.png to _build/html/\n",
      "exported in  _build/html/2502.08984.md\n",
      "    + _build/html/\n",
      "    + _build/html/\n",
      "    + _build/html/\n",
      "    + _build/html/\n",
      "    + _build/html/\n",
      "    + _build/html/\n",
      "    + _build/html/\n",
      "    + _build/html/tmp_2502.08984/./new_nll_ir_with_my_IR.png\n",
      "found figures ['tmp_2502.09388/./Figures/Teff_spec201222.png', 'tmp_2502.09388/./Figures/logg_spec201222.png', 'tmp_2502.09388/./Figures/met_spec201222.png', 'tmp_2502.09388/./Figures/GJ880_spectra201222.png', 'tmp_2502.09388/./Figures/Teff_interferometry201222.png', 'tmp_2502.09388/./Figures/logg_interferometry201222.png']\n",
      "copying  tmp_2502.09388/./Figures/Teff_spec201222.png to _build/html/\n",
      "copying  tmp_2502.09388/./Figures/logg_spec201222.png to _build/html/\n",
      "copying  tmp_2502.09388/./Figures/met_spec201222.png to _build/html/\n",
      "copying  tmp_2502.09388/./Figures/GJ880_spectra201222.png to _build/html/\n",
      "copying  tmp_2502.09388/./Figures/Teff_interferometry201222.png to _build/html/\n",
      "copying  tmp_2502.09388/./Figures/logg_interferometry201222.png to _build/html/\n",
      "exported in  _build/html/2502.09388.md\n",
      "    + _build/html/tmp_2502.09388/./Figures/Teff_spec201222.png\n",
      "    + _build/html/tmp_2502.09388/./Figures/logg_spec201222.png\n",
      "    + _build/html/tmp_2502.09388/./Figures/met_spec201222.png\n",
      "    + _build/html/tmp_2502.09388/./Figures/GJ880_spectra201222.png\n",
      "    + _build/html/tmp_2502.09388/./Figures/Teff_interferometry201222.png\n",
      "    + _build/html/tmp_2502.09388/./Figures/logg_interferometry201222.png\n"
     ]
    }
   ],
   "source": [
    "for paper_id, md in documents:\n",
    "    export_markdown_summary(md, f\"{paper_id:s}.md\", '_build/html/')"
   ]
  },
  {
   "cell_type": "markdown",
   "id": "f087a0a7",
   "metadata": {
    "papermill": {
     "duration": 0.004805,
     "end_time": "2025-02-14T04:12:42.318350",
     "exception": false,
     "start_time": "2025-02-14T04:12:42.313545",
     "status": "completed"
    },
    "tags": []
   },
   "source": [
    "## Display the papers\n",
    "\n",
    "Not necessary but allows for a quick check."
   ]
  },
  {
   "cell_type": "code",
   "execution_count": 9,
   "id": "fd25f625",
   "metadata": {
    "execution": {
     "iopub.execute_input": "2025-02-14T04:12:42.331319Z",
     "iopub.status.busy": "2025-02-14T04:12:42.330664Z",
     "iopub.status.idle": "2025-02-14T04:12:42.339142Z",
     "shell.execute_reply": "2025-02-14T04:12:42.338514Z"
    },
    "papermill": {
     "duration": 0.016552,
     "end_time": "2025-02-14T04:12:42.340269",
     "exception": false,
     "start_time": "2025-02-14T04:12:42.323717",
     "status": "completed"
    },
    "scrolled": false,
    "tags": []
   },
   "outputs": [
    {
     "data": {
      "text/markdown": [
       "<div class=\"macros\" style=\"visibility:hidden;\">\n",
       "$\\newcommand{\\ensuremath}{}$\n",
       "$\\newcommand{\\xspace}{}$\n",
       "$\\newcommand{\\object}[1]{\\texttt{#1}}$\n",
       "$\\newcommand{\\farcs}{{.}''}$\n",
       "$\\newcommand{\\farcm}{{.}'}$\n",
       "$\\newcommand{\\arcsec}{''}$\n",
       "$\\newcommand{\\arcmin}{'}$\n",
       "$\\newcommand{\\ion}[2]{#1#2}$\n",
       "$\\newcommand{\\textsc}[1]{\\textrm{#1}}$\n",
       "$\\newcommand{\\hl}[1]{\\textrm{#1}}$\n",
       "$\\newcommand{\\footnote}[1]{}$</div>\n",
       "\n",
       "\n",
       "\n",
       "<div id=\"title\">\n",
       "\n",
       "# The [NII] $205  \\mu m$ line emission from high-z SMGs and QSOs\n",
       "\n",
       "</div>\n",
       "<div id=\"comments\">\n",
       "\n",
       "[![arXiv](https://img.shields.io/badge/arXiv-2502.08984-b31b1b.svg)](https://arxiv.org/abs/2502.08984)<mark>Appeared on: 2025-02-14</mark> -  _14 pages, 11 figures, accepted for publication in A&A_\n",
       "\n",
       "</div>\n",
       "<div id=\"authors\">\n",
       "\n",
       "S. Kolupuri, et al. -- incl., <mark>F. Walter</mark>\n",
       "\n",
       "</div>\n",
       "<div id=\"abstract\">\n",
       "\n",
       "**Abstract:** We present [ NII ] 205 $\\mu$ m fine structure line observations of three submillimeter galaxies (SMGs) and three quasar host galaxies at 4 $\\lesssim$ z $\\lesssim$ 6 using the Institut de radioastronomie millimétrique (IRAM) interferometer. The [ NII ] emission is detected in three sources, and we report detections of the underlying dust continuum emission in all sources. The observed [ NII ] -to-infrared luminosity ratio spans at least 0.5 dex for our sources. Comparing our estimates with sources detected in the [ NII ] 205 $\\mu$ m at similar redshifts shows that the overall [ NII ] -to-IR luminosity ratio spans over a dex in magnitude from L $_{[NII]}$ /L $_{IR}$ $\\sim$ 10 $^{-4}$ -- 10 $^{-5}$ and follows the trend of the so-called [ NII ] fine structure line deficit observed in (ultra)-luminous infrared galaxies in the local Universe. The [ CII ] -to- [ NII ] luminosity ratio is >10 for most of our sources, indicating that the bulk of the [ CII ] 158 $\\mu$ m line emission ( $*f*$ ( [ CII ] $^{PDR}$ ) >75 \\% ) arises from the neutral medium. From our analysis, we do not find significant differences in the [ NII ] 205 $\\mu$ m emission and the respective ratios between SMGs and QSOs, suggesting a negligible contribution to the boosting of [ NII ] 205 $\\mu$ m emission due to the active galactic nucleus (AGN) photoionization. Future investigations involving other fine structure lines and optical diagnostics will provide further insight into a suite of ionized medium properties and reveal the diversity between AGN and non-AGN environments.\n",
       "\n",
       "</div>\n",
       "\n",
       "<div id=\"div_fig1\">\n",
       "\n",
       "<img src=\"\" alt=\"Fig5.1\" width=\"25%\"/><img src=\"\" alt=\"Fig5.2\" width=\"25%\"/><img src=\"\" alt=\"Fig5.3\" width=\"25%\"/><img src=\"\" alt=\"Fig5.4\" width=\"25%\"/>\n",
       "\n",
       "**Figure 5. -** Vibrational stability equation of state\n",
       "               $S_{\\mathrm{vib}}(\\lg e, \\lg \\rho)$.\n",
       "               $>0$ means vibrational stability.\n",
       "              Vibrational stability equation of state\n",
       "               $S_{\\mathrm{vib}}(\\lg e, \\lg \\rho)$.\n",
       "               $>0$ means vibrational stability.\n",
       "              Nonlinear Model ResultsNonlinear Model ResultsSpectral types and photometry for stars in the\n",
       "  region.Spectral types and photometry for stars in the\n",
       "  region.List of nearby SNe used in this work.Summary for ISOCAM sources with mid-IR excess\n",
       "(YSO candidates).Summary for ISOCAM sources with mid-IR excess\n",
       "(YSO candidates). Sample stars with absolute magnitudecontinued. Sample stars with absolute magnitudecontinued.Shown in greyscale is a...Plotted above...Complexes characterisation.Line data and abundances ...Continued. (*FigVibStab*)\n",
       "\n",
       "</div>\n",
       "<div id=\"div_fig2\">\n",
       "\n",
       "<img src=\"\" alt=\"Fig12.1\" width=\"33%\"/><img src=\"\" alt=\"Fig12.2\" width=\"33%\"/><img src=\"\" alt=\"Fig12.3\" width=\"33%\"/>\n",
       "\n",
       "**Figure 12. -** Vibrational stability equation of state\n",
       "               $S_{\\mathrm{vib}}(\\lg e, \\lg \\rho)$.\n",
       "               $>0$ means vibrational stability.\n",
       "              Nonlinear Model ResultsNonlinear Model ResultsSpectral types and photometry for stars in the\n",
       "  region.Spectral types and photometry for stars in the\n",
       "  region.List of nearby SNe used in this work.Summary for ISOCAM sources with mid-IR excess\n",
       "(YSO candidates).Summary for ISOCAM sources with mid-IR excess\n",
       "(YSO candidates). Sample stars with absolute magnitudecontinued. Sample stars with absolute magnitudecontinued.Shown in greyscale is a...Plotted above...Complexes characterisation.Line data and abundances ...Continued. (*FigVibStab*)\n",
       "\n",
       "</div>\n",
       "<div id=\"div_fig3\">\n",
       "\n",
       "<img src=\"tmp_2502.08984/./new_nll_ir_with_my_IR.png\" alt=\"Fig6\" width=\"100%\"/>\n",
       "\n",
       "**Figure 6. -** The [NII]-to-IR ratio as a function of IR luminosity for the sources in our sample. Our sample is illustrated as stars, following the same color scheme in Fig. 1. We also compile sources from the local Universe (green triangles) as well as at high redshifts (orange/red squares \\& blue triangles) that have been detected in [NII] 205 $\\mu$m emission. The green and blue bars represent the mean error bars for their respective data points. All luminosities are corrected for gravitational magnification. Our new measurements further populate the sparser high-end of the infrared luminosity regime of such sources.  (*fig:2*)\n",
       "\n",
       "</div><div id=\"qrcode\"><img src=https://api.qrserver.com/v1/create-qr-code/?size=100x100&data=\"https://arxiv.org/abs/2502.08984\"></div>"
      ],
      "text/plain": [
       "<IPython.core.display.Markdown object>"
      ]
     },
     "metadata": {},
     "output_type": "display_data"
    },
    {
     "data": {
      "text/markdown": [
       "<div class=\"macros\" style=\"visibility:hidden;\">\n",
       "$\\newcommand{\\ensuremath}{}$\n",
       "$\\newcommand{\\xspace}{}$\n",
       "$\\newcommand{\\object}[1]{\\texttt{#1}}$\n",
       "$\\newcommand{\\farcs}{{.}''}$\n",
       "$\\newcommand{\\farcm}{{.}'}$\n",
       "$\\newcommand{\\arcsec}{''}$\n",
       "$\\newcommand{\\arcmin}{'}$\n",
       "$\\newcommand{\\ion}[2]{#1#2}$\n",
       "$\\newcommand{\\textsc}[1]{\\textrm{#1}}$\n",
       "$\\newcommand{\\hl}[1]{\\textrm{#1}}$\n",
       "$\\newcommand{\\footnote}[1]{}$\n",
       "$\\newcommand{\\plato}{\\textsc{Plato}}$\n",
       "$\\newcommand{\\gaia}{\\textit{Gaia}}$\n",
       "$\\newcommand{\\ag}{\\ensuremath{A_G}\\xspace}$\n",
       "$\\newcommand{\\ebpminrp}{\\ensuremath{E(G_{\\rm BP} - G_{\\rm RP})}\\xspace}$\n",
       "$\\newcommand{\\bpminrp}{\\ensuremath{G_\\mathrm{BP}-G_\\mathrm{RP}}\\xspace}$\n",
       "$\\newcommand{\\gmag}{\\ensuremath{G}}$\n",
       "$\\newcommand{\\bpmag}{\\ensuremath{G_\\mathrm{BP}}}$\n",
       "$\\newcommand{\\rpmag}{\\ensuremath{G_\\mathrm{RP}}}$\n",
       "$\\newcommand{\\mg}{M_\\gmag}$\n",
       "$\\newcommand{\\diam}{\\theta_{\\rm LD}}$\n",
       "$\\newcommand{\\marcs}{\\texttt{MARCS}}$\n",
       "$\\newcommand{\\phoenix}{\\texttt{PHOENIX}}$\n",
       "$\\newcommand{\\sme}{\\texttt{SME}}$\n",
       "$\\newcommand{\\pysme}{\\texttt{PySME}}$\n",
       "$\\newcommand{\\vald}{\\texttt{VALD}}$\n",
       "$\\newcommand{\\teff}{T_{\\mathrm{eff}}}$\n",
       "$\\newcommand{\\lgg}{\\log{g}}$\n",
       "$\\newcommand{\\lggu}{\\log{g / \\mathrm{cm s^{-2}}}}$\n",
       "$\\newcommand{\\rv}{\\varv_{\\mathrm{r}}}$\n",
       "$\\newcommand{\\vsini}{\\varv \\sin i}$\n",
       "$\\newcommand{\\vbroad}{\\varv_{\\text{broad}}}$\n",
       "$\\newcommand{\\vmic}{V_{\\mathrm{turb}}}$\n",
       "$\\newcommand{\\vmac}{\\xi_{\\text{mac}}}$\n",
       "$\\newcommand{\\lggf}{\\log{gf}}$\n",
       "$\\newcommand{\\feh}{\\mathrm{\\left[Fe/H\\right]}}$\n",
       "$\\newcommand{\\afe}{\\mathrm{\\left[\\alpha/Fe\\right]}}$\n",
       "$\\newcommand{\\xfe}[1]{\\mathrm{\\left[#1/Fe\\right]}}$\n",
       "$\\newcommand{\\xh}[1]{\\mathrm{\\left[#1/H\\right]}}$\n",
       "$\\newcommand{\\abrat}[2]{\\mathrm{\\left[#1/#2\\right]}}$\n",
       "$\\newcommand{\\lgeps}[1]{\\log{\\epsilon_{\\mathrm{#1}}}}$\n",
       "$\\newcommand{\\dex}{\\mathrm{dex}}$\n",
       "$\\newcommand{\\nm}{\\mathrm{nm}}$\n",
       "$\\newcommand{\\kelvin}{\\mathrm{K}}$\n",
       "$\\newcommand{\\kms}{\\mathrm{km s^{-1}}}$\n",
       "$\\newcommand\\natexlab{#1}$</div>\n",
       "\n",
       "\n",
       "\n",
       "<div id=\"title\">\n",
       "\n",
       "# Performance of the _Stellar Abundances and atmospheric Parameters Pipeline_ adapted for M dwarfs: I. Atmospheric parameters from the spectroscopic module\n",
       "\n",
       "</div>\n",
       "<div id=\"comments\">\n",
       "\n",
       "[![arXiv](https://img.shields.io/badge/arXiv-2502.09388-b31b1b.svg)](https://arxiv.org/abs/2502.09388)<mark>Appeared on: 2025-02-14</mark> -  _Accepted in A&A_\n",
       "\n",
       "</div>\n",
       "<div id=\"authors\">\n",
       "\n",
       "T. Olander, et al. -- incl., <mark>M. Bergemann</mark>, <mark>E. Magg</mark>\n",
       "\n",
       "</div>\n",
       "<div id=\"abstract\">\n",
       "\n",
       "**Abstract:** M dwarfs are important targets in the search for Earth-like exoplanets due to their small masses and low luminosities. Several ongoing and upcoming space missions are targeting M dwarfs for this reason, and the ESA $\\plato$ mission is one of these. In order to fully characterise a planetary system the properties of the host star must be known. For M dwarfs we can derive effective temperature, surface gravity, metallicity, and abundances of various elements from spectroscopic observations in combination with photometric data. The Stellar Abundances and atmospheric Parameters Pipeline (SAPP) has been developed to serve as a prototype for one of the stellar science softwares within the $\\plato$ consortium. The pipeline combines results from a spectroscopy, a photometry, an interferometry, and an asteroseismology module to derive stellar parameters for FGK-type stars. We have modified the pipeline to be able to analyse the M dwarf part of the $\\plato$ target sample. The current version of the pipeline for M dwarfs mostly relies on spectroscopic observations. The module processing these data is based on the machine learning algorithm The Payne and fits a grid of model spectra to an observed spectrum to derive effective temperature and metallicity. We use spectra in the H-band, as the near-infrared region is beneficial for M dwarfs because there are fewer molecular lines and they are brighter in this wavelength region than in the optical. A method based on synthetic spectra was developed for the continuum normalisation of the spectra, taking into account the pseudo-continuum formed by numerous lines of the water molecule. Photometry is used to constrain the surface gravity. We tested the modified SAPP on spectra of M dwarfs from the APOGEE survey. Our validation sample of 26 stars includes stars with interferometric observations and binaries. We found a good agreement between our derived values and reference values from a range of previous studies. We estimate the overall uncertainties in the derived effective temperature, surface gravity, and metallicity to be 100 K, 0.1 dex, and 0.15 dex, respectively. We find that the modified SAPP performs well on M dwarfs and identify possible areas of future development that should lead to an improved precision of the derived stellar parameters.\n",
       "\n",
       "</div>\n",
       "\n",
       "<div id=\"div_fig1\">\n",
       "\n",
       "<img src=\"tmp_2502.09388/./Figures/Teff_spec201222.png\" alt=\"Fig10.1\" width=\"33%\"/><img src=\"tmp_2502.09388/./Figures/logg_spec201222.png\" alt=\"Fig10.2\" width=\"33%\"/><img src=\"tmp_2502.09388/./Figures/met_spec201222.png\" alt=\"Fig10.3\" width=\"33%\"/>\n",
       "\n",
       "**Figure 10. -** SAPP results compared with spectroscopic results from \\citet{APOGEE_Sarmento2021,Pass2019,2015ApJMann,2020AAMaldonado,2022ApJSouto,2022MNRAS.516.3802C}.\n",
       "   Values derived using the SAPP are shown on the vertical axis, and the literature values are shown on the horizontal axis.\n",
       "   _Left:_ effective temperature.\n",
       "   _Middle:_ surface gravity. The uncertainties for \\citet{APOGEE_Sarmento2021} and \\citet{2022ApJSouto} are represented at the bottom of the figure in grey. One star is located outside of the borders of the figure: LSPM J1204+1728S for which the SAPP value is 4.86 dex and \\citet{APOGEE_Sarmento2021} obtained 5.31 dex.\n",
       "   _Right:_ metallicity. The black dashed line in all panels corresponds to the 1:1 ratio.\n",
       "    (*Fig:Spec_param*)\n",
       "\n",
       "</div>\n",
       "<div id=\"div_fig2\">\n",
       "\n",
       "<img src=\"tmp_2502.09388/./Figures/GJ880_spectra201222.png\" alt=\"Fig8\" width=\"100%\"/>\n",
       "\n",
       "**Figure 8. -** Normalised observed spectrum of the star GJ 880 as black dashed line, and best-fit model (synthetic spectrum predicted by the Payne's ANN for the parameters given in Table \\ref{tab:Result_analysis}) as orange solid line. Grey shaded areas indicate the location of the line mask we used. Derived parameters for this star are $\\teff$: 3649 K, $\\lgg$: 4.8 dex, and $\\feh$: 0.25 dex. (*Fig:GJ880_spec*)\n",
       "\n",
       "</div>\n",
       "<div id=\"div_fig3\">\n",
       "\n",
       "<img src=\"tmp_2502.09388/./Figures/Teff_interferometry201222.png\" alt=\"Fig3.1\" width=\"50%\"/><img src=\"tmp_2502.09388/./Figures/logg_interferometry201222.png\" alt=\"Fig3.2\" width=\"50%\"/>\n",
       "\n",
       "**Figure 3. -** Comparing $\\teff$(top) and $\\lgg$(bottom) derived from the SAPP with corresponding parameters based on interferometric angular diameters \\citep{Boyajian2012,Rabus2019}. The black dashed line in both figures corresponds to the 1:1 ratio and the grey dotted line in the top panel corresponds to a linear fit to the values from \\citet{Boyajian2012}. We excluded the outlier GJ 725B for which the SAPP derived a $\\teff$ of roughly 3550 K (leftmost blue square in top panel) from the linear fit, for reasons discussed in the text. We note that the K3 dwarf GJ 105A with $\\teff\\sim$4600 K is not shown in the figures. (*Fig:Interferometry*)\n",
       "\n",
       "</div><div id=\"qrcode\"><img src=https://api.qrserver.com/v1/create-qr-code/?size=100x100&data=\"https://arxiv.org/abs/2502.09388\"></div>"
      ],
      "text/plain": [
       "<IPython.core.display.Markdown object>"
      ]
     },
     "metadata": {},
     "output_type": "display_data"
    }
   ],
   "source": [
    "[display(Markdown(k[1])) for k in documents];"
   ]
  },
  {
   "cell_type": "markdown",
   "id": "873873a4",
   "metadata": {
    "papermill": {
     "duration": 0.006287,
     "end_time": "2025-02-14T04:12:42.352049",
     "exception": false,
     "start_time": "2025-02-14T04:12:42.345762",
     "status": "completed"
    },
    "tags": []
   },
   "source": [
    "# Create HTML index"
   ]
  },
  {
   "cell_type": "code",
   "execution_count": 10,
   "id": "cf665672",
   "metadata": {
    "execution": {
     "iopub.execute_input": "2025-02-14T04:12:42.367565Z",
     "iopub.status.busy": "2025-02-14T04:12:42.366744Z",
     "iopub.status.idle": "2025-02-14T04:12:42.381709Z",
     "shell.execute_reply": "2025-02-14T04:12:42.380438Z"
    },
    "papermill": {
     "duration": 0.024615,
     "end_time": "2025-02-14T04:12:42.384098",
     "exception": false,
     "start_time": "2025-02-14T04:12:42.359483",
     "status": "completed"
    },
    "tags": []
   },
   "outputs": [
    {
     "name": "stdout",
     "output_type": "stream",
     "text": [
      "334  publications files modified in the last 7 days.\n"
     ]
    }
   ],
   "source": [
    "from datetime import datetime, timedelta, timezone\n",
    "from glob import glob\n",
    "import os\n",
    "\n",
    "files = glob('_build/html/*.md')\n",
    "days = 7\n",
    "now = datetime.today()\n",
    "res = []\n",
    "for fk in files:\n",
    "    stat_result = os.stat(fk).st_ctime\n",
    "    modified = datetime.fromtimestamp(stat_result, tz=timezone.utc).replace(tzinfo=None)\n",
    "    delta = now.today() - modified\n",
    "    if delta <= timedelta(days=days):\n",
    "        res.append((delta.seconds, fk))\n",
    "res = [k[1] for k in reversed(sorted(res, key=lambda x:x[1]))]\n",
    "npub = len(res)\n",
    "print(len(res), f\" publications files modified in the last {days:d} days.\")\n",
    "# [ print('\\t', k) for k in res ];"
   ]
  },
  {
   "cell_type": "code",
   "execution_count": 11,
   "id": "015de740",
   "metadata": {
    "execution": {
     "iopub.execute_input": "2025-02-14T04:12:42.398830Z",
     "iopub.status.busy": "2025-02-14T04:12:42.397955Z",
     "iopub.status.idle": "2025-02-14T04:12:42.427114Z",
     "shell.execute_reply": "2025-02-14T04:12:42.426164Z"
    },
    "papermill": {
     "duration": 0.03775,
     "end_time": "2025-02-14T04:12:42.428458",
     "exception": false,
     "start_time": "2025-02-14T04:12:42.390708",
     "status": "completed"
    },
    "tags": []
   },
   "outputs": [
    {
     "name": "stdout",
     "output_type": "stream",
     "text": [
      "7  publications in the last 7 days.\n"
     ]
    }
   ],
   "source": [
    "import datetime\n",
    "from glob import glob\n",
    "\n",
    "def get_last_n_days(lst, days=1):\n",
    "    \"\"\" Get the documents from the last n days \"\"\"\n",
    "    sorted_lst = sorted(lst, key=lambda x: x[1], reverse=True)\n",
    "    for fname, date in sorted_lst:\n",
    "        if date >= str(datetime.date.today() - datetime.timedelta(days=days)):\n",
    "            yield fname\n",
    "\n",
    "def extract_appearance_dates(lst_file):\n",
    "    dates = []\n",
    "\n",
    "    def get_date(line):\n",
    "        return line\\\n",
    "            .split('Appeared on:')[-1]\\\n",
    "            .split('</mark>')[0].strip()\n",
    "\n",
    "    for fname in lst:\n",
    "        with open(fname, 'r') as f:\n",
    "            found_date = False\n",
    "            for line in f:\n",
    "                if not found_date:\n",
    "                    if \"Appeared on\" in line:\n",
    "                        found_date = True\n",
    "                        dates.append((fname, get_date(line)))\n",
    "                else:\n",
    "                    break\n",
    "    return dates\n",
    "\n",
    "from glob import glob\n",
    "lst = glob('_build/html/*md')\n",
    "days = 7\n",
    "dates = extract_appearance_dates(lst)\n",
    "res = list(get_last_n_days(dates, days))\n",
    "npub = len(res)\n",
    "print(len(res), f\" publications in the last {days:d} days.\")"
   ]
  },
  {
   "cell_type": "code",
   "execution_count": 12,
   "id": "52ca0208",
   "metadata": {
    "execution": {
     "iopub.execute_input": "2025-02-14T04:12:42.441408Z",
     "iopub.status.busy": "2025-02-14T04:12:42.441119Z",
     "iopub.status.idle": "2025-02-14T04:12:42.447605Z",
     "shell.execute_reply": "2025-02-14T04:12:42.446901Z"
    },
    "papermill": {
     "duration": 0.014174,
     "end_time": "2025-02-14T04:12:42.448665",
     "exception": false,
     "start_time": "2025-02-14T04:12:42.434491",
     "status": "completed"
    },
    "scrolled": false,
    "tags": []
   },
   "outputs": [],
   "source": [
    "def create_carousel(npub=4):\n",
    "    \"\"\" Generate the HTML code for a carousel with `npub` slides \"\"\"\n",
    "    carousel = [\"\"\"  <div class=\"carousel\" \"\"\",\n",
    "                \"\"\"       data-flickity='{ \"autoPlay\": 10000, \"adaptiveHeight\": true, \"resize\": true, \"wrapAround\": true, \"pauseAutoPlayOnHover\": true, \"groupCells\": 1 }' id=\"asyncTypeset\">\"\"\"\n",
    "                ]\n",
    "    \n",
    "    item_str = \"\"\"    <div class=\"carousel-cell\"> <div id=\"slide{k}\" class=\"md_view\">Content {k}</div> </div>\"\"\"\n",
    "    for k in range(1, npub + 1):\n",
    "        carousel.append(item_str.format(k=k))\n",
    "    carousel.append(\"  </div>\")\n",
    "    return '\\n'.join(carousel)\n",
    "\n",
    "def create_grid(npub=4):\n",
    "    \"\"\" Generate the HTML code for a flat grid with `npub` slides \"\"\"\n",
    "    grid = [\"\"\"  <div class=\"grid\"> \"\"\",\n",
    "                ]\n",
    "    \n",
    "    item_str = \"\"\"    <div class=\"grid-item\"> <div id=\"slide{k}\" class=\"md_view\">Content {k}</div> </div>\"\"\"\n",
    "    for k in range(1, npub + 1):\n",
    "        grid.append(item_str.format(k=k))\n",
    "    grid.append(\"  </div>\")\n",
    "    return '\\n'.join(grid)"
   ]
  },
  {
   "cell_type": "code",
   "execution_count": 13,
   "id": "a6eac5b6",
   "metadata": {
    "execution": {
     "iopub.execute_input": "2025-02-14T04:12:42.465670Z",
     "iopub.status.busy": "2025-02-14T04:12:42.464974Z",
     "iopub.status.idle": "2025-02-14T04:12:42.470909Z",
     "shell.execute_reply": "2025-02-14T04:12:42.470156Z"
    },
    "papermill": {
     "duration": 0.018033,
     "end_time": "2025-02-14T04:12:42.472050",
     "exception": false,
     "start_time": "2025-02-14T04:12:42.454017",
     "status": "completed"
    },
    "scrolled": false,
    "tags": []
   },
   "outputs": [],
   "source": [
    "carousel = create_carousel(npub)\n",
    "docs = ', '.join(['\"{0:s}\"'.format(k.split('/')[-1]) for k in res])\n",
    "slides = ', '.join([f'\"slide{k}\"' for k in range(1, npub + 1)])\n",
    "\n",
    "with open(\"daily_template.html\", \"r\") as tpl:\n",
    "    page = tpl.read()\n",
    "    page = page.replace(\"{%-- carousel:s --%}\", carousel)\\\n",
    "               .replace(\"{%-- suptitle:s --%}\",  \"7-day archives\" )\\\n",
    "               .replace(\"{%-- docs:s --%}\", docs)\\\n",
    "               .replace(\"{%-- slides:s --%}\", slides)\n",
    "    \n",
    "with open(\"_build/html/index_7days.html\", 'w') as fout:\n",
    "    fout.write(page)"
   ]
  },
  {
   "cell_type": "code",
   "execution_count": 14,
   "id": "adc1a1ec",
   "metadata": {
    "execution": {
     "iopub.execute_input": "2025-02-14T04:12:42.484753Z",
     "iopub.status.busy": "2025-02-14T04:12:42.484480Z",
     "iopub.status.idle": "2025-02-14T04:12:42.492153Z",
     "shell.execute_reply": "2025-02-14T04:12:42.491570Z"
    },
    "papermill": {
     "duration": 0.015623,
     "end_time": "2025-02-14T04:12:42.493199",
     "exception": false,
     "start_time": "2025-02-14T04:12:42.477576",
     "status": "completed"
    },
    "tags": []
   },
   "outputs": [
    {
     "name": "stdout",
     "output_type": "stream",
     "text": [
      "3  publications in the last day.\n"
     ]
    }
   ],
   "source": [
    "# redo for today\n",
    "days = 1\n",
    "res = list(get_last_n_days(dates, days))\n",
    "npub = len(res)\n",
    "print(len(res), f\" publications in the last day.\")\n",
    "\n",
    "carousel = create_carousel(npub)\n",
    "docs = ', '.join(['\"{0:s}\"'.format(k.split('/')[-1]) for k in res])\n",
    "slides = ', '.join([f'\"slide{k}\"' for k in range(1, npub + 1)])\n",
    "\n",
    "with open(\"daily_template.html\", \"r\") as tpl:\n",
    "    page = tpl.read()\n",
    "    page = page.replace(\"{%-- carousel:s --%}\", carousel)\\\n",
    "               .replace(\"{%-- suptitle:s --%}\",  \"Daily\" )\\\n",
    "               .replace(\"{%-- docs:s --%}\", docs)\\\n",
    "               .replace(\"{%-- slides:s --%}\", slides)\n",
    "    \n",
    "# print(carousel, docs, slides)\n",
    "# print(page)\n",
    "with open(\"_build/html/index_daily.html\", 'w') as fout:\n",
    "    fout.write(page)"
   ]
  },
  {
   "cell_type": "code",
   "execution_count": 15,
   "id": "00eece82",
   "metadata": {
    "execution": {
     "iopub.execute_input": "2025-02-14T04:12:42.505772Z",
     "iopub.status.busy": "2025-02-14T04:12:42.505296Z",
     "iopub.status.idle": "2025-02-14T04:12:42.513810Z",
     "shell.execute_reply": "2025-02-14T04:12:42.513131Z"
    },
    "papermill": {
     "duration": 0.016186,
     "end_time": "2025-02-14T04:12:42.515083",
     "exception": false,
     "start_time": "2025-02-14T04:12:42.498897",
     "status": "completed"
    },
    "scrolled": false,
    "tags": []
   },
   "outputs": [
    {
     "name": "stdout",
     "output_type": "stream",
     "text": [
      "6  6 publications selected.\n"
     ]
    }
   ],
   "source": [
    "# Create the flat grid of the last N papers (fixed number regardless of dates)\n",
    "from itertools import islice \n",
    "\n",
    "npub = 6\n",
    "res = [k[0] for k in (islice(reversed(sorted(dates, key=lambda x: x[1])), 6))]\n",
    "print(len(res), f\" {npub} publications selected.\")\n",
    "\n",
    "grid = create_grid(npub)\n",
    "docs = ', '.join(['\"{0:s}\"'.format(k.split('/')[-1]) for k in res])\n",
    "slides = ', '.join([f'\"slide{k}\"' for k in range(1, npub + 1)])\n",
    "\n",
    "with open(\"grid_template.html\", \"r\") as tpl:\n",
    "    page = tpl.read()\n",
    "    page = page.replace(\"{%-- grid-content:s --%}\", grid)\\\n",
    "               .replace(\"{%-- suptitle:s --%}\",  f\"Last {npub:,d} papers\" )\\\n",
    "               .replace(\"{%-- docs:s --%}\", docs)\\\n",
    "               .replace(\"{%-- slides:s --%}\", slides)\n",
    "    \n",
    "# print(grid, docs, slides)\n",
    "# print(page)\n",
    "with open(\"_build/html/index_npub_grid.html\", 'w') as fout:\n",
    "    fout.write(page)"
   ]
  }
 ],
 "metadata": {
  "kernelspec": {
   "display_name": "Python 3 (ipykernel)",
   "language": "python",
   "name": "python3"
  },
  "language_info": {
   "codemirror_mode": {
    "name": "ipython",
    "version": 3
   },
   "file_extension": ".py",
   "mimetype": "text/x-python",
   "name": "python",
   "nbconvert_exporter": "python",
   "pygments_lexer": "ipython3",
   "version": "3.9.21"
  },
  "papermill": {
   "default_parameters": {},
   "duration": 89.831594,
   "end_time": "2025-02-14T04:12:43.039393",
   "environment_variables": {},
   "exception": null,
   "input_path": "MPIA daily digest.ipynb",
   "output_path": "log.ipynb",
   "parameters": {},
   "start_time": "2025-02-14T04:11:13.207799",
   "version": "2.6.0"
  },
  "vscode": {
   "interpreter": {
    "hash": "aee8b7b246df8f9039afb4144a1f6fd8d2ca17a180786b69acc140d282b71a49"
   }
  },
  "widgets": {
   "application/vnd.jupyter.widget-state+json": {
    "state": {
     "052f8eccf07d42438af71ee3f59e153c": {
      "model_module": "@jupyter-widgets/controls",
      "model_module_version": "2.0.0",
      "model_name": "HBoxModel",
      "state": {
       "_dom_classes": [],
       "_model_module": "@jupyter-widgets/controls",
       "_model_module_version": "2.0.0",
       "_model_name": "HBoxModel",
       "_view_count": null,
       "_view_module": "@jupyter-widgets/controls",
       "_view_module_version": "2.0.0",
       "_view_name": "HBoxView",
       "box_style": "",
       "children": [
        "IPY_MODEL_6b850b4d09e544a9a9055b654721a49d",
        "IPY_MODEL_f482a29b3f1b43bf84e61ddddc973ec7",
        "IPY_MODEL_f964cbef68274cf485a55331b836919a"
       ],
       "layout": "IPY_MODEL_8ccb3ffeba32483393ef0aaa3688a1a3",
       "tabbable": null,
       "tooltip": null
      }
     },
     "424bcd4c030649b3be42deea3d701ec7": {
      "model_module": "@jupyter-widgets/base",
      "model_module_version": "2.0.0",
      "model_name": "LayoutModel",
      "state": {
       "_model_module": "@jupyter-widgets/base",
       "_model_module_version": "2.0.0",
       "_model_name": "LayoutModel",
       "_view_count": null,
       "_view_module": "@jupyter-widgets/base",
       "_view_module_version": "2.0.0",
       "_view_name": "LayoutView",
       "align_content": null,
       "align_items": null,
       "align_self": null,
       "border_bottom": null,
       "border_left": null,
       "border_right": null,
       "border_top": null,
       "bottom": null,
       "display": null,
       "flex": null,
       "flex_flow": null,
       "grid_area": null,
       "grid_auto_columns": null,
       "grid_auto_flow": null,
       "grid_auto_rows": null,
       "grid_column": null,
       "grid_gap": null,
       "grid_row": null,
       "grid_template_areas": null,
       "grid_template_columns": null,
       "grid_template_rows": null,
       "height": null,
       "justify_content": null,
       "justify_items": null,
       "left": null,
       "margin": null,
       "max_height": null,
       "max_width": null,
       "min_height": null,
       "min_width": null,
       "object_fit": null,
       "object_position": null,
       "order": null,
       "overflow": null,
       "padding": null,
       "right": null,
       "top": null,
       "visibility": null,
       "width": null
      }
     },
     "6b850b4d09e544a9a9055b654721a49d": {
      "model_module": "@jupyter-widgets/controls",
      "model_module_version": "2.0.0",
      "model_name": "HTMLModel",
      "state": {
       "_dom_classes": [],
       "_model_module": "@jupyter-widgets/controls",
       "_model_module_version": "2.0.0",
       "_model_name": "HTMLModel",
       "_view_count": null,
       "_view_module": "@jupyter-widgets/controls",
       "_view_module_version": "2.0.0",
       "_view_name": "HTMLView",
       "description": "",
       "description_allow_html": false,
       "layout": "IPY_MODEL_885e8483a04442ce8e57ce14c7196199",
       "placeholder": "​",
       "style": "IPY_MODEL_9fc6c4afa62447aea26c570c00a86e58",
       "tabbable": null,
       "tooltip": null,
       "value": "100%"
      }
     },
     "885e8483a04442ce8e57ce14c7196199": {
      "model_module": "@jupyter-widgets/base",
      "model_module_version": "2.0.0",
      "model_name": "LayoutModel",
      "state": {
       "_model_module": "@jupyter-widgets/base",
       "_model_module_version": "2.0.0",
       "_model_name": "LayoutModel",
       "_view_count": null,
       "_view_module": "@jupyter-widgets/base",
       "_view_module_version": "2.0.0",
       "_view_name": "LayoutView",
       "align_content": null,
       "align_items": null,
       "align_self": null,
       "border_bottom": null,
       "border_left": null,
       "border_right": null,
       "border_top": null,
       "bottom": null,
       "display": null,
       "flex": null,
       "flex_flow": null,
       "grid_area": null,
       "grid_auto_columns": null,
       "grid_auto_flow": null,
       "grid_auto_rows": null,
       "grid_column": null,
       "grid_gap": null,
       "grid_row": null,
       "grid_template_areas": null,
       "grid_template_columns": null,
       "grid_template_rows": null,
       "height": null,
       "justify_content": null,
       "justify_items": null,
       "left": null,
       "margin": null,
       "max_height": null,
       "max_width": null,
       "min_height": null,
       "min_width": null,
       "object_fit": null,
       "object_position": null,
       "order": null,
       "overflow": null,
       "padding": null,
       "right": null,
       "top": null,
       "visibility": null,
       "width": null
      }
     },
     "8ccb3ffeba32483393ef0aaa3688a1a3": {
      "model_module": "@jupyter-widgets/base",
      "model_module_version": "2.0.0",
      "model_name": "LayoutModel",
      "state": {
       "_model_module": "@jupyter-widgets/base",
       "_model_module_version": "2.0.0",
       "_model_name": "LayoutModel",
       "_view_count": null,
       "_view_module": "@jupyter-widgets/base",
       "_view_module_version": "2.0.0",
       "_view_name": "LayoutView",
       "align_content": null,
       "align_items": null,
       "align_self": null,
       "border_bottom": null,
       "border_left": null,
       "border_right": null,
       "border_top": null,
       "bottom": null,
       "display": null,
       "flex": null,
       "flex_flow": null,
       "grid_area": null,
       "grid_auto_columns": null,
       "grid_auto_flow": null,
       "grid_auto_rows": null,
       "grid_column": null,
       "grid_gap": null,
       "grid_row": null,
       "grid_template_areas": null,
       "grid_template_columns": null,
       "grid_template_rows": null,
       "height": null,
       "justify_content": null,
       "justify_items": null,
       "left": null,
       "margin": null,
       "max_height": null,
       "max_width": null,
       "min_height": null,
       "min_width": null,
       "object_fit": null,
       "object_position": null,
       "order": null,
       "overflow": null,
       "padding": null,
       "right": null,
       "top": null,
       "visibility": null,
       "width": null
      }
     },
     "9fc6c4afa62447aea26c570c00a86e58": {
      "model_module": "@jupyter-widgets/controls",
      "model_module_version": "2.0.0",
      "model_name": "HTMLStyleModel",
      "state": {
       "_model_module": "@jupyter-widgets/controls",
       "_model_module_version": "2.0.0",
       "_model_name": "HTMLStyleModel",
       "_view_count": null,
       "_view_module": "@jupyter-widgets/base",
       "_view_module_version": "2.0.0",
       "_view_name": "StyleView",
       "background": null,
       "description_width": "",
       "font_size": null,
       "text_color": null
      }
     },
     "acbb853b1d434245b126f2e85d13c35f": {
      "model_module": "@jupyter-widgets/base",
      "model_module_version": "2.0.0",
      "model_name": "LayoutModel",
      "state": {
       "_model_module": "@jupyter-widgets/base",
       "_model_module_version": "2.0.0",
       "_model_name": "LayoutModel",
       "_view_count": null,
       "_view_module": "@jupyter-widgets/base",
       "_view_module_version": "2.0.0",
       "_view_name": "LayoutView",
       "align_content": null,
       "align_items": null,
       "align_self": null,
       "border_bottom": null,
       "border_left": null,
       "border_right": null,
       "border_top": null,
       "bottom": null,
       "display": null,
       "flex": null,
       "flex_flow": null,
       "grid_area": null,
       "grid_auto_columns": null,
       "grid_auto_flow": null,
       "grid_auto_rows": null,
       "grid_column": null,
       "grid_gap": null,
       "grid_row": null,
       "grid_template_areas": null,
       "grid_template_columns": null,
       "grid_template_rows": null,
       "height": null,
       "justify_content": null,
       "justify_items": null,
       "left": null,
       "margin": null,
       "max_height": null,
       "max_width": null,
       "min_height": null,
       "min_width": null,
       "object_fit": null,
       "object_position": null,
       "order": null,
       "overflow": null,
       "padding": null,
       "right": null,
       "top": null,
       "visibility": null,
       "width": null
      }
     },
     "bd32cd24a76b48198ea5aecc2ad43fb9": {
      "model_module": "@jupyter-widgets/controls",
      "model_module_version": "2.0.0",
      "model_name": "HTMLStyleModel",
      "state": {
       "_model_module": "@jupyter-widgets/controls",
       "_model_module_version": "2.0.0",
       "_model_name": "HTMLStyleModel",
       "_view_count": null,
       "_view_module": "@jupyter-widgets/base",
       "_view_module_version": "2.0.0",
       "_view_name": "StyleView",
       "background": null,
       "description_width": "",
       "font_size": null,
       "text_color": null
      }
     },
     "f482a29b3f1b43bf84e61ddddc973ec7": {
      "model_module": "@jupyter-widgets/controls",
      "model_module_version": "2.0.0",
      "model_name": "FloatProgressModel",
      "state": {
       "_dom_classes": [],
       "_model_module": "@jupyter-widgets/controls",
       "_model_module_version": "2.0.0",
       "_model_name": "FloatProgressModel",
       "_view_count": null,
       "_view_module": "@jupyter-widgets/controls",
       "_view_module_version": "2.0.0",
       "_view_name": "ProgressView",
       "bar_style": "success",
       "description": "",
       "description_allow_html": false,
       "layout": "IPY_MODEL_acbb853b1d434245b126f2e85d13c35f",
       "max": 3.0,
       "min": 0.0,
       "orientation": "horizontal",
       "style": "IPY_MODEL_fad909ddf5644dec80f8ef71eec77227",
       "tabbable": null,
       "tooltip": null,
       "value": 3.0
      }
     },
     "f964cbef68274cf485a55331b836919a": {
      "model_module": "@jupyter-widgets/controls",
      "model_module_version": "2.0.0",
      "model_name": "HTMLModel",
      "state": {
       "_dom_classes": [],
       "_model_module": "@jupyter-widgets/controls",
       "_model_module_version": "2.0.0",
       "_model_name": "HTMLModel",
       "_view_count": null,
       "_view_module": "@jupyter-widgets/controls",
       "_view_module_version": "2.0.0",
       "_view_name": "HTMLView",
       "description": "",
       "description_allow_html": false,
       "layout": "IPY_MODEL_424bcd4c030649b3be42deea3d701ec7",
       "placeholder": "​",
       "style": "IPY_MODEL_bd32cd24a76b48198ea5aecc2ad43fb9",
       "tabbable": null,
       "tooltip": null,
       "value": " 3/3 [01:04&lt;00:00, 27.15s/it]"
      }
     },
     "fad909ddf5644dec80f8ef71eec77227": {
      "model_module": "@jupyter-widgets/controls",
      "model_module_version": "2.0.0",
      "model_name": "ProgressStyleModel",
      "state": {
       "_model_module": "@jupyter-widgets/controls",
       "_model_module_version": "2.0.0",
       "_model_name": "ProgressStyleModel",
       "_view_count": null,
       "_view_module": "@jupyter-widgets/base",
       "_view_module_version": "2.0.0",
       "_view_name": "StyleView",
       "bar_color": null,
       "description_width": ""
      }
     }
    },
    "version_major": 2,
    "version_minor": 0
   }
  }
 },
 "nbformat": 4,
 "nbformat_minor": 5
}