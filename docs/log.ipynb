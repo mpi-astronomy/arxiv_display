{
 "cells": [
  {
   "cell_type": "markdown",
   "id": "92bcb855",
   "metadata": {
    "papermill": {
     "duration": 0.003951,
     "end_time": "2024-09-24T04:10:25.536439",
     "exception": false,
     "start_time": "2024-09-24T04:10:25.532488",
     "status": "completed"
    },
    "tags": []
   },
   "source": [
    "# MPIA Arxiv on Deck 2\n",
    "\n",
    "Contains the steps to produce the paper extractions."
   ]
  },
  {
   "cell_type": "code",
   "execution_count": 1,
   "id": "3a0d6e11",
   "metadata": {
    "execution": {
     "iopub.execute_input": "2024-09-24T04:10:25.544060Z",
     "iopub.status.busy": "2024-09-24T04:10:25.543533Z",
     "iopub.status.idle": "2024-09-24T04:10:26.216112Z",
     "shell.execute_reply": "2024-09-24T04:10:26.215476Z"
    },
    "papermill": {
     "duration": 0.677605,
     "end_time": "2024-09-24T04:10:26.217455",
     "exception": false,
     "start_time": "2024-09-24T04:10:25.539850",
     "status": "completed"
    },
    "tags": []
   },
   "outputs": [],
   "source": [
    "# Imports\n",
    "import os\n",
    "from IPython.display import Markdown, display\n",
    "from tqdm.notebook import tqdm\n",
    "import warnings\n",
    "from PIL import Image \n",
    "import re\n",
    "\n",
    "# requires arxiv_on_deck_2\n",
    "\n",
    "from arxiv_on_deck_2.arxiv2 import (get_new_papers, \n",
    "                                    get_paper_from_identifier,\n",
    "                                    retrieve_document_source, \n",
    "                                    get_markdown_badge)\n",
    "from arxiv_on_deck_2 import (latex,\n",
    "                             latex_bib,\n",
    "                             mpia,\n",
    "                             highlight_authors_in_list)\n",
    "\n",
    "# Sometimes images are really big\n",
    "Image.MAX_IMAGE_PIXELS = 1000000000 "
   ]
  },
  {
   "cell_type": "code",
   "execution_count": 2,
   "id": "22aa9d44",
   "metadata": {
    "execution": {
     "iopub.execute_input": "2024-09-24T04:10:26.224963Z",
     "iopub.status.busy": "2024-09-24T04:10:26.224442Z",
     "iopub.status.idle": "2024-09-24T04:10:26.232344Z",
     "shell.execute_reply": "2024-09-24T04:10:26.231832Z"
    },
    "papermill": {
     "duration": 0.012579,
     "end_time": "2024-09-24T04:10:26.233324",
     "exception": false,
     "start_time": "2024-09-24T04:10:26.220745",
     "status": "completed"
    },
    "tags": []
   },
   "outputs": [],
   "source": [
    "# Some useful definitions.\n",
    "\n",
    "class AffiliationWarning(UserWarning):\n",
    "    pass\n",
    "\n",
    "class AffiliationError(RuntimeError):\n",
    "    pass\n",
    "\n",
    "def validation(source: str):\n",
    "    \"\"\"Raises error paper during parsing of source file\n",
    "    \n",
    "    Allows checks before parsing TeX code.\n",
    "    \n",
    "    Raises AffiliationWarning\n",
    "    \"\"\"\n",
    "    check = mpia.affiliation_verifications(source, verbose=True)\n",
    "    if check is not True:\n",
    "        raise AffiliationError(\"mpia.affiliation_verifications: \" + check)\n",
    "\n",
    "        \n",
    "warnings.simplefilter('always', AffiliationWarning)\n",
    "\n",
    "\n",
    "def get_markdown_qrcode(paper_id: str):\n",
    "    \"\"\" Generate a qrcode to the arxiv page using qrserver.com\n",
    "    \n",
    "    :param paper: Arxiv paper\n",
    "    :returns: markdown text\n",
    "    \"\"\"\n",
    "    url = r\"https://api.qrserver.com/v1/create-qr-code/?size=100x100&data=\"\n",
    "    txt = f\"\"\"<img src={url}\"https://arxiv.org/abs/{paper_id}\">\"\"\"\n",
    "    txt = '<div id=\"qrcode\">' + txt + '</div>'\n",
    "    return txt\n",
    "\n",
    "\n",
    "def clean_non_western_encoded_characters_commands(text: str) -> str:\n",
    "    \"\"\" Remove non-western encoded characters from a string\n",
    "    List may need to grow.\n",
    "    \n",
    "    :param text: the text to clean\n",
    "    :return: the cleaned text\n",
    "    \"\"\"\n",
    "    text = re.sub(r\"(\\\\begin{CJK}{UTF8}{gbsn})(.*?)(\\\\end{CJK})\", r\"\\2\", text)\n",
    "    return text\n",
    "\n",
    "\n",
    "def get_initials(name: str) -> str:\n",
    "    \"\"\" Get the short name, e.g., A.-B. FamName\n",
    "    :param name: full name\n",
    "    :returns: initials\n",
    "    \"\"\"\n",
    "    initials = []\n",
    "    # account for non western names often in ()\n",
    "    if '(' in name:\n",
    "        name = clean_non_western_encoded_characters_commands(name)\n",
    "        suffix = re.findall(r\"\\((.*?)\\)\", name)[0]\n",
    "        name = name.replace(f\"({suffix})\", '')\n",
    "    else:\n",
    "        suffix = ''\n",
    "    split = name.split()\n",
    "    for token in split[:-1]:\n",
    "        if '-' in token:\n",
    "            current = '-'.join([k[0] + '.' for k in token.split('-')])\n",
    "        else:\n",
    "            current = token[0] + '.'\n",
    "        initials.append(current)\n",
    "    initials.append(split[-1].strip())\n",
    "    if suffix:\n",
    "        initials.append(f\"({suffix})\")\n",
    "    return ' '.join(initials)"
   ]
  },
  {
   "cell_type": "markdown",
   "id": "14bd6310",
   "metadata": {
    "papermill": {
     "duration": 0.002964,
     "end_time": "2024-09-24T04:10:26.239342",
     "exception": false,
     "start_time": "2024-09-24T04:10:26.236378",
     "status": "completed"
    },
    "tags": []
   },
   "source": [
    "## get list of arxiv paper candidates\n",
    "\n",
    "We use the MPIA mitarbeiter list webpage from mpia.de to get author names\n",
    "We then get all new papers from Arxiv and match authors"
   ]
  },
  {
   "cell_type": "code",
   "execution_count": 3,
   "id": "7ea813a8",
   "metadata": {
    "execution": {
     "iopub.execute_input": "2024-09-24T04:10:26.246297Z",
     "iopub.status.busy": "2024-09-24T04:10:26.245895Z",
     "iopub.status.idle": "2024-09-24T04:10:42.502051Z",
     "shell.execute_reply": "2024-09-24T04:10:42.501426Z"
    },
    "papermill": {
     "duration": 16.260981,
     "end_time": "2024-09-24T04:10:42.503297",
     "exception": false,
     "start_time": "2024-09-24T04:10:26.242316",
     "status": "completed"
    },
    "tags": []
   },
   "outputs": [],
   "source": [
    "# deal with the author list and edge cases of people that cannot be consistent on their name  \n",
    "\n",
    "def filter_non_scientists(name: str) -> bool:\n",
    "    \"\"\" Loose filter on expected authorships\n",
    "\n",
    "    removing IT, administration, technical staff\n",
    "    :param name: name\n",
    "    :returns: False if name is not a scientist\n",
    "    \"\"\"\n",
    "    remove_list = ['Licht', 'Binroth', 'Witzel', 'Jordan',\n",
    "                   'Zähringer', 'Scheerer', 'Hoffmann', 'Düe',\n",
    "                   'Hellmich', 'Enkler-Scharpegge', 'Witte-Nguy',\n",
    "                   'Dehen', 'Beckmann', 'Jager', 'Jäger'\n",
    "                  ]\n",
    "\n",
    "    for k in remove_list:\n",
    "        if k in name:\n",
    "            return False\n",
    "    return True\n",
    "\n",
    "def add_author_to_list(author_list: list) -> list:\n",
    "    \"\"\" Add author to list if not already in list\n",
    "    \n",
    "    :param author: author name\n",
    "    :param author_list: list of authors\n",
    "    :returns: updated list of authors\n",
    "    \"\"\"\n",
    "    add_list = ['T. Henning']\n",
    "\n",
    "    for author in add_list:\n",
    "        if author not in author_list:\n",
    "            author_list.append(author)\n",
    "    return author_list\n",
    "\n",
    "# get list from MPIA website\n",
    "# filter for non-scientists (mpia.get_mpia_mitarbeiter_list() does some filtering)\n",
    "mpia_authors = [k[1] for k in mpia.get_mpia_mitarbeiter_list() if filter_non_scientists(k[1])]\n",
    "# add some missing author because of inconsistencies in their MPIA name and author name on papers\n",
    "mpia_authors = add_author_to_list(mpia_authors)"
   ]
  },
  {
   "cell_type": "code",
   "execution_count": 4,
   "id": "2645e73a",
   "metadata": {
    "execution": {
     "iopub.execute_input": "2024-09-24T04:10:42.510774Z",
     "iopub.status.busy": "2024-09-24T04:10:42.510434Z",
     "iopub.status.idle": "2024-09-24T04:10:43.338273Z",
     "shell.execute_reply": "2024-09-24T04:10:43.337732Z"
    },
    "papermill": {
     "duration": 0.832558,
     "end_time": "2024-09-24T04:10:43.339259",
     "exception": false,
     "start_time": "2024-09-24T04:10:42.506701",
     "status": "completed"
    },
    "tags": []
   },
   "outputs": [
    {
     "name": "stdout",
     "output_type": "stream",
     "text": [
      "C. Clontz  ->  C. Clontz  |  ['C. Clontz']\n",
      "M. Häberle  ->  M. Häberle  |  ['M. Häberle']\n",
      "N. Neumayer  ->  N. Neumayer  |  ['N. Neumayer']\n",
      "J. Liu  ->  J. Liu  |  ['J. Liu']\n",
      "S. Li  ->  S. Li  |  ['S. Li']\n",
      "J. Lian  ->  J. Lian  |  ['J. Lian']\n"
     ]
    },
    {
     "name": "stdout",
     "output_type": "stream",
     "text": [
      "Arxiv has 72 new papers today\n",
      "          4 with possible author matches\n"
     ]
    }
   ],
   "source": [
    "new_papers = get_new_papers()\n",
    "# add manual references\n",
    "add_paper_refs = []\n",
    "new_papers.extend([get_paper_from_identifier(k) for k in add_paper_refs])\n",
    "\n",
    "def robust_call(fn, value, *args, **kwargs):\n",
    "    try:\n",
    "        return fn(value, *args, **kwargs)\n",
    "    except Exception:\n",
    "        return value\n",
    "\n",
    "candidates = []\n",
    "for paperk in new_papers:\n",
    "    # Check author list with their initials\n",
    "    normed_author_list = [robust_call(mpia.get_initials, k) for k in paperk['authors']]\n",
    "    hl_authors = highlight_authors_in_list(normed_author_list, mpia_authors, verbose=True)\n",
    "    matches = [(hl, orig) for hl, orig in zip(hl_authors, paperk['authors']) if 'mark' in hl]\n",
    "    paperk['authors'] = hl_authors\n",
    "    if matches:\n",
    "        # only select paper if an author matched our list\n",
    "        candidates.append(paperk)\n",
    "print(\"\"\"Arxiv has {0:,d} new papers today\"\"\".format(len(new_papers)))        \n",
    "print(\"\"\"          {0:,d} with possible author matches\"\"\".format(len(candidates)))"
   ]
  },
  {
   "cell_type": "markdown",
   "id": "3543b34a",
   "metadata": {
    "papermill": {
     "duration": 0.003125,
     "end_time": "2024-09-24T04:10:43.345825",
     "exception": false,
     "start_time": "2024-09-24T04:10:43.342700",
     "status": "completed"
    },
    "tags": []
   },
   "source": [
    "# Parse sources and generate relevant outputs\n",
    "\n",
    "From the candidates, we do the following steps:\n",
    "* get their tarball from ArXiv (and extract data)\n",
    "* find the main .tex file: find one with \\documentclass{...} (sometimes it's non trivial)\n",
    "* Check affiliations with :func:`validation`, which uses :func:`mpia.affiliation_verifications`\n",
    "* If passing the affiliations: we parse the .tex source\n",
    "   * inject sub-documents into the main (flatten the main document)\n",
    "   * parse structure, extract information (title, abstract, authors, figures...)\n",
    "   * handles `\\graphicspath` if provided\n",
    "* Generate the .md document."
   ]
  },
  {
   "cell_type": "code",
   "execution_count": 5,
   "id": "9576b79e",
   "metadata": {
    "execution": {
     "iopub.execute_input": "2024-09-24T04:10:43.353120Z",
     "iopub.status.busy": "2024-09-24T04:10:43.352733Z",
     "iopub.status.idle": "2024-09-24T04:12:19.678090Z",
     "shell.execute_reply": "2024-09-24T04:12:19.677342Z"
    },
    "papermill": {
     "duration": 96.33027,
     "end_time": "2024-09-24T04:12:19.679242",
     "exception": false,
     "start_time": "2024-09-24T04:10:43.348972",
     "status": "completed"
    },
    "scrolled": false,
    "tags": []
   },
   "outputs": [
    {
     "data": {
      "application/vnd.jupyter.widget-view+json": {
       "model_id": "aa3583cbd7dd41e19cf9c6be5b5fbecd",
       "version_major": 2,
       "version_minor": 0
      },
      "text/plain": [
       "  0%|          | 0/4 [00:00<?, ?it/s]"
      ]
     },
     "metadata": {},
     "output_type": "display_data"
    },
    {
     "name": "stdout",
     "output_type": "stream",
     "text": [
      "Retrieving document from  https://arxiv.org/e-print/2409.13855\n"
     ]
    },
    {
     "name": "stdout",
     "output_type": "stream",
     "text": [
      "extracting tarball to tmp_2409.13855..."
     ]
    },
    {
     "name": "stdout",
     "output_type": "stream",
     "text": [
      " done.\n",
      "  0: tmp_2409.13855/main.tex, 897 lines\n",
      "  1: tmp_2409.13855/oMEGACat_IV_SGB_ages_arxiv/main.tex, 891 lines\n"
     ]
    },
    {
     "name": "stderr",
     "output_type": "stream",
     "text": [
      "/opt/hostedtoolcache/Python/3.9.20/x64/lib/python3.9/site-packages/IPython/core/interactiveshell.py:3550: LatexWarning: Multiple tex files.\n",
      "\n",
      "  exec(code_obj, self.user_global_ns, self.user_ns)\n",
      "/opt/hostedtoolcache/Python/3.9.20/x64/lib/python3.9/site-packages/IPython/core/interactiveshell.py:3550: LatexWarning: Found 2 candidates with documentclass definition.\n",
      "  exec(code_obj, self.user_global_ns, self.user_ns)\n",
      "/opt/hostedtoolcache/Python/3.9.20/x64/lib/python3.9/site-packages/IPython/core/interactiveshell.py:3550: LatexWarning: Assuming tmp_2409.13855/main.tex as main document.\n",
      "  exec(code_obj, self.user_global_ns, self.user_ns)\n"
     ]
    },
    {
     "name": "stderr",
     "output_type": "stream",
     "text": [
      "/opt/hostedtoolcache/Python/3.9.20/x64/lib/python3.9/site-packages/arxiv_on_deck_2/latex.py:488: LatexWarning: Error parsing the document directly. Trying to recover.\n",
      "  warnings.warn(LatexWarning(f\"Error parsing the document directly. Trying to recover.\"))\n"
     ]
    },
    {
     "name": "stdout",
     "output_type": "stream",
     "text": [
      "✔ → 0:header\n",
      "  ↳ 4742:\\section{Introduction} \\label{sec:intro}\n",
      "✔ → 4742:\\section{Introduction} \\label{sec:intro}\n",
      "  ↳ 12435:\\section{Model Choices and the Challenges for Constraining Ages in $\\omega$ Cen} \\label{sec:challenges}\n"
     ]
    },
    {
     "name": "stdout",
     "output_type": "stream",
     "text": [
      "✔ → 12435:\\section{Model Choices and the Challenges for Constraining Ages in $\\omega$ Cen} \\label{sec:challenges}\n",
      "  ↳ 18805:\\section{Data} \\label{sec:data}\n"
     ]
    },
    {
     "name": "stdout",
     "output_type": "stream",
     "text": [
      "✔ → 18805:\\section{Data} \\label{sec:data}\n",
      "  ↳ 26611:\\section{Methods} \\label{sec:methods}\n"
     ]
    },
    {
     "name": "stdout",
     "output_type": "stream",
     "text": [
      "✔ → 26611:\\section{Methods} \\label{sec:methods}\n",
      "  ↳ 41680:\\section{Stellar Age Results} \\label{sec:stellar_ages}\n"
     ]
    },
    {
     "name": "stdout",
     "output_type": "stream",
     "text": [
      "✔ → 41680:\\section{Stellar Age Results} \\label{sec:stellar_ages}\n",
      "  ↳ 53196:\\section{Robustness of Results: Analysis of the Systematic Uncertainties} \\label{sec:systematics}\n"
     ]
    },
    {
     "name": "stdout",
     "output_type": "stream",
     "text": [
      "✔ → 53196:\\section{Robustness of Results: Analysis of the Systematic Uncertainties} \\label{sec:systematics}\n",
      "  ↳ 69770:\\section{Discussion}\\label{sec:discussion}\n"
     ]
    },
    {
     "name": "stdout",
     "output_type": "stream",
     "text": [
      "✔ → 69770:\\section{Discussion}\\label{sec:discussion}\n",
      "  ↳ 80823:\\section{Conclusions} \\label{sec:conclusions}\n",
      "✔ → 80823:\\section{Conclusions} \\label{sec:conclusions}\n",
      "  ↳ 83653:\\section{Software and third party data repository citations} \\label{sec:software}\n",
      "✔ → 83653:\\section{Software and third party data repository citations} \\label{sec:software}\n",
      "  ↳ 84596:\\section{F625W Systematics}\\label{appendix:F625W_systematics}\n",
      "✔ → 84596:\\section{F625W Systematics}\\label{appendix:F625W_systematics}\n",
      "  ↳ 85497:\\section{Empirical Reddening Correction}\\label{appendix:empirical_reddening_corr}\n"
     ]
    },
    {
     "name": "stdout",
     "output_type": "stream",
     "text": [
      "✔ → 85497:\\section{Empirical Reddening Correction}\\label{appendix:empirical_reddening_corr}\n",
      "  ↳ 92033:\\section{\\textbf{Provided Data Products}}\n",
      "✔ → 92033:\\section{\\textbf{Provided Data Products}}\n",
      "  ↳ 94487:end\n"
     ]
    },
    {
     "name": "stdout",
     "output_type": "stream",
     "text": [
      "C. Clontz  ->  C. Clontz  |  ['C. Clontz']\n",
      "M. Häberle  ->  M. Häberle  |  ['M. Häberle']\n",
      "N. Neumayer  ->  N. Neumayer  |  ['N. Neumayer']\n"
     ]
    },
    {
     "name": "stderr",
     "output_type": "stream",
     "text": [
      "/opt/hostedtoolcache/Python/3.9.20/x64/lib/python3.9/site-packages/arxiv_on_deck_2/latex.py:132: LatexWarning: attempting recovering figure figures/log_likelihood_plot_w_Gaussian_fit.pdf\n",
      "  warnings.warn(LatexWarning(f'attempting recovering figure {image}'))\n",
      "/opt/hostedtoolcache/Python/3.9.20/x64/lib/python3.9/site-packages/arxiv_on_deck_2/latex.py:707: LatexWarning: Could not find graphic \\includegraphics[width = .5\\textwidth]{figures/log_likelihood_plot_w_Gaussian_fit.pdf}\n",
      "  warnings.warn(LatexWarning(f\"Could not find graphic {k}\"))\n"
     ]
    },
    {
     "name": "stdout",
     "output_type": "stream",
     "text": [
      "Found 81 bibliographic references in tmp_2409.13855/main.bbl.\n",
      "Retrieving document from  https://arxiv.org/e-print/2409.14382\n"
     ]
    },
    {
     "name": "stdout",
     "output_type": "stream",
     "text": [
      "extracting tarball to tmp_2409.14382..."
     ]
    },
    {
     "name": "stdout",
     "output_type": "stream",
     "text": [
      " done.\n",
      "Retrieving document from  https://arxiv.org/e-print/2409.14445\n"
     ]
    },
    {
     "name": "stdout",
     "output_type": "stream",
     "text": [
      "extracting tarball to tmp_2409.14445..."
     ]
    },
    {
     "name": "stdout",
     "output_type": "stream",
     "text": [
      " done.\n"
     ]
    },
    {
     "name": "stderr",
     "output_type": "stream",
     "text": [
      "/opt/hostedtoolcache/Python/3.9.20/x64/lib/python3.9/site-packages/IPython/core/interactiveshell.py:3550: LatexWarning: Multiple tex files.\n",
      "\n",
      "  exec(code_obj, self.user_global_ns, self.user_ns)\n",
      "/opt/hostedtoolcache/Python/3.9.20/x64/lib/python3.9/site-packages/IPython/core/interactiveshell.py:3550: LatexWarning: Found documentclass in tmp_2409.14445/ms.tex\n",
      "\n",
      "  exec(code_obj, self.user_global_ns, self.user_ns)\n",
      "/opt/hostedtoolcache/Python/3.9.20/x64/lib/python3.9/site-packages/arxiv_on_deck_2/latex.py:414: LatexWarning: Latex injecting: 'Author.tex' from 'tmp_2409.14445/Author.tex'\n",
      "  warnings.warn(LatexWarning(f\"Latex injecting: '{ext}' from '{subsource}'\"))\n"
     ]
    },
    {
     "name": "stdout",
     "output_type": "stream",
     "text": [
      "S. Li  ->  S. Li  |  ['S. Li']\n"
     ]
    },
    {
     "name": "stderr",
     "output_type": "stream",
     "text": [
      "/opt/hostedtoolcache/Python/3.9.20/x64/lib/python3.9/site-packages/arxiv_on_deck_2/latex.py:132: LatexWarning: attempting recovering figure figures/myXCLASSMap_OCS.pdf\n",
      "  warnings.warn(LatexWarning(f'attempting recovering figure {image}'))\n",
      "/opt/hostedtoolcache/Python/3.9.20/x64/lib/python3.9/site-packages/arxiv_on_deck_2/latex.py:707: LatexWarning: Could not find graphic \\includegraphics[width=\\textwidth]{figures/myXCLASSMap_OCS.pdf}\n",
      "  warnings.warn(LatexWarning(f\"Could not find graphic {k}\"))\n"
     ]
    },
    {
     "name": "stdout",
     "output_type": "stream",
     "text": [
      "Found 64 bibliographic references in tmp_2409.14445/ms.bbl.\n",
      "Error retrieving bib data for 2001Lee_jet_wind_model: 'author'\n",
      "Error retrieving bib data for 2001Lee_jet_wind_model: 'author'\n",
      "Retrieving document from  https://arxiv.org/e-print/2409.14716\n"
     ]
    },
    {
     "name": "stdout",
     "output_type": "stream",
     "text": [
      "extracting tarball to tmp_2409.14716..."
     ]
    },
    {
     "name": "stdout",
     "output_type": "stream",
     "text": [
      " done.\n"
     ]
    }
   ],
   "source": [
    "documents = []\n",
    "failed = []\n",
    "for paper in tqdm(candidates):\n",
    "    # debug crap\n",
    "    paper['identifier'] = paper['identifier'].lower().replace('arxiv:', '').replace(r'\\n', '').strip()\n",
    "    paper_id = paper['identifier']\n",
    "    \n",
    "    folder = f'tmp_{paper_id}'\n",
    "\n",
    "    try:\n",
    "        if not os.path.isdir(folder):\n",
    "            folder = retrieve_document_source(f\"{paper_id}\", f'tmp_{paper_id}')\n",
    "        \n",
    "        try:\n",
    "            doc = latex.LatexDocument(folder, validation=validation)    \n",
    "        except AffiliationError as affilerror:\n",
    "            msg = f\"ArXiv:{paper_id:s} is not an MPIA paper... \" + str(affilerror)\n",
    "            failed.append((paper, \"affiliation error: \" + str(affilerror) ))\n",
    "            continue\n",
    "        \n",
    "        # Hack because sometimes author parsing does not work well\n",
    "        if (len(doc.authors) != len(paper['authors'])):\n",
    "            doc._authors = paper['authors']\n",
    "        else:\n",
    "            # highlight authors (FIXME: doc.highlight_authors)\n",
    "            # done on arxiv paper already\n",
    "            doc._authors = highlight_authors_in_list(\n",
    "                [get_initials(k) for k in doc.authors], \n",
    "                mpia_authors, verbose=True)\n",
    "        if (doc.abstract) in (None, ''):\n",
    "            doc._abstract = paper['abstract']\n",
    "            \n",
    "        doc.comment = (get_markdown_badge(paper_id) + \n",
    "                       \"<mark>Appeared on: \" + paper['date'] + \"</mark> - \")\n",
    "        if paper['comments']:\n",
    "            doc.comment += \" _\" + paper['comments'] + \"_\"\n",
    "        \n",
    "        full_md = doc.generate_markdown_text()\n",
    "        \n",
    "        full_md += get_markdown_qrcode(paper_id)\n",
    "        \n",
    "        # replace citations\n",
    "        try:\n",
    "            bibdata = latex_bib.LatexBib.from_doc(doc)\n",
    "            full_md = latex_bib.replace_citations(full_md, bibdata)\n",
    "        except Exception as e:\n",
    "            print(\"Issues with the citations\")\n",
    "            print(e)\n",
    "        \n",
    "        documents.append((paper_id, full_md))\n",
    "    except Exception as e:\n",
    "        warnings.warn(latex.LatexWarning(f\"{paper_id:s} did not run properly\\n\" +\n",
    "                                         str(e)\n",
    "                                        ))\n",
    "        failed.append((paper, \"latex error \" + str(e)))"
   ]
  },
  {
   "cell_type": "markdown",
   "id": "2505a25c",
   "metadata": {
    "papermill": {
     "duration": 0.00454,
     "end_time": "2024-09-24T04:12:19.688664",
     "exception": false,
     "start_time": "2024-09-24T04:12:19.684124",
     "status": "completed"
    },
    "tags": []
   },
   "source": [
    "### Export the logs\n",
    "\n",
    "Throughout, we also keep track of the logs per paper. see `logs-{today date}.md` "
   ]
  },
  {
   "cell_type": "code",
   "execution_count": 6,
   "id": "d733828a",
   "metadata": {
    "execution": {
     "iopub.execute_input": "2024-09-24T04:12:19.698907Z",
     "iopub.status.busy": "2024-09-24T04:12:19.698574Z",
     "iopub.status.idle": "2024-09-24T04:12:19.713690Z",
     "shell.execute_reply": "2024-09-24T04:12:19.713160Z"
    },
    "papermill": {
     "duration": 0.021352,
     "end_time": "2024-09-24T04:12:19.714612",
     "exception": false,
     "start_time": "2024-09-24T04:12:19.693260",
     "status": "completed"
    },
    "scrolled": false,
    "tags": []
   },
   "outputs": [
    {
     "data": {
      "text/markdown": [
       "## Successful papers"
      ],
      "text/plain": [
       "<IPython.core.display.Markdown object>"
      ]
     },
     "metadata": {},
     "output_type": "display_data"
    },
    {
     "data": {
      "text/markdown": [
       "\n",
       "|||\n",
       "|---:|:---|\n",
       "| [![arXiv](https://img.shields.io/badge/arXiv-2409.13855-b31b1b.svg)](https://arxiv.org/abs/2409.13855) | **oMEGACat IV: Constraining Ages of Omega Centauri sub-giant branch stars with HST and MUSE**  |\n",
       "|| <mark>C. Clontz</mark>, et al. -- incl., <mark>M. Häberle</mark>, <mark>N. Neumayer</mark> |\n",
       "|*Appeared on*| *2024-09-24*|\n",
       "|*Comments*| *23 pages, 11 figures*|\n",
       "|**Abstract**|            We present age estimates for over 8100 sub-giant branch (SGB) stars in Omega Centauri ($\\omega$ Cen) to study its star formation history. Our large data set, which combines multi-wavelength HST photometry with MUSE metallicities, provides an unprecedented opportunity to measure individual stellar ages. We do this by fitting each star's photometry and metallicity with theoretical isochrones, that are embedded with an empirical [C+N+O]-[Fe/H] relation specifically for $\\omega$ Cen. The bulk of the stars have ages between 13 and 10 Gyr, with the mean stellar age being 12.08$\\pm$0.01 Gyrs and the median age uncertainty being 0.68 Gyrs. From these ages we construct the most complete age-metallicity relation (AMR) for $\\omega$ Cen to date. We find that the mean age of stars decreases with increasing metallicity and find two distinct streams in the age-metallicity plane, hinting at different star formation pathways. We derive an intrinsic spread in the ages of 0.75$\\pm$0.01 Gyr for the whole cluster, with the age spread showing a clear increase with metallicity. We verify the robustness of our age estimations by varying isochrone parameters and constraining our systematics. We find the C+N+O relation to be the most critical consideration for constraining the AMR. We also present the SGB chromosome map with age information. In the future, these stellar ages could be combined with chemical abundances to study age differences in subpopulations, and uncover the chemical evolution history of this massive nuclear star cluster.         |"
      ],
      "text/plain": [
       "[2409.13855] oMEGACat IV: Constraining Ages of Omega Centauri sub-giant branch stars with HST and MUSE\n",
       "\t<mark>C. Clontz</mark>, et al. -- incl., <mark>M. Häberle</mark>, <mark>N. Neumayer</mark>"
      ]
     },
     "metadata": {},
     "output_type": "display_data"
    },
    {
     "data": {
      "text/markdown": [
       "\n",
       "|||\n",
       "|---:|:---|\n",
       "| [![arXiv](https://img.shields.io/badge/arXiv-2409.14445-b31b1b.svg)](https://arxiv.org/abs/2409.14445) | **ALMASOP. The Localized and Chemically rich Features near the Bases of the Protostellar Jet in HOPS 87**  |\n",
       "|| S.-Y. Hsu, et al. -- incl., <mark>S. Li</mark> |\n",
       "|*Appeared on*| *2024-09-24*|\n",
       "|*Comments*| *16 pages, 6+2 figures, accepted by ApJ*|\n",
       "|**Abstract**|            HOPS 87 is a Class 0 protostellar core known to harbor an extremely young bipolar outflow and a hot corino. We report the discovery of localized, chemically rich regions near the bases of the two-lobe bipolar molecular outflow in HOPS 87 containing molecules such as H$_2$CO, $^{13}$CS, H$_2$S, OCS, and CH$_3$OH, the simplest complex organic molecule (COM). The locations and kinematics suggest that these localized features are due to jet-driven shocks rather than being part of the hot corino region encasing the protostar. The COM compositions of the molecular gas in these jet-localized regions are relatively simpler than those in the hot corino zone. We speculate that this simplicity is due to either the liberation of ice with a less complex chemical history or the effects of shock chemistry. Our study highlights the dynamic interplay between the protostellar bipolar outflow, disk, inner core environment, and the surrounding medium, contributing to our understanding of molecular complexity in solar-like young stellar objects.         |"
      ],
      "text/plain": [
       "[2409.14445] ALMASOP. The Localized and Chemically rich Features near the Bases of the Protostellar Jet in HOPS 87\n",
       "\tS.-Y. Hsu, et al. -- incl., <mark>S. Li</mark>"
      ]
     },
     "metadata": {},
     "output_type": "display_data"
    },
    {
     "data": {
      "text/markdown": [
       "## Failed papers"
      ],
      "text/plain": [
       "<IPython.core.display.Markdown object>"
      ]
     },
     "metadata": {},
     "output_type": "display_data"
    },
    {
     "data": {
      "text/markdown": [
       "\n",
       "|||\n",
       "|---:|:---|\n",
       "| [![arXiv](https://img.shields.io/badge/arXiv-2409.14716-b31b1b.svg)](https://arxiv.org/abs/2409.14716) | **Simultaneous Multiband Photometry of the Early Optical Afterglow of GRB 240825A with Mephisto**  |\n",
       "|| Y. Cheng, et al. -- incl., <mark>J. Lian</mark> |\n",
       "|*Appeared on*| *2024-09-24*|\n",
       "|*Comments*| *15 pages, 5 figures, 1 table. Comments welcome!*|\n",
       "|**Abstract**|            Gamma-ray bursts (GRBs) are the most luminous transients in the universe. The interaction of the relativistic jet with the circumburst medium produces an afterglow and generates multiwavelength emission. In this work, we present simultaneous multiband photometry of GRB~240825A with the Multi-channel Photometric Survey Telescope (Mephisto) and analyze its temporal and spectral properties. The measurement began 128 seconds after the GRB trigger and continued until the fourth day when the afterglow essentially diminished and the measured brightness was close to that of the host galaxy. Based on the multiband light curves in the $uvgriz$ bands, we find that the optical flux density satisfies $F_{\\nu,{\\rm obs}}\\propto t^{-1.34}\\nu^{-2.48}$ with a spectral index of $2.48$ much larger than those of most other GRBs. To reconcile the measured much softer spectral energy distribution (SED) with that predicted by the standard afterglow model, an extra host-galaxy extinction of $E_{B-V}\\sim(0.37-0.57)$ mag is required. We interpreted this excess as arising from a dense circumburst medium. We further find that the SED of the optical afterglow hardened as the afterglow decayed and the color excess $E_{B-V}$ decreased $\\sim0.21$ mag in the first 3000 seconds. Finally, we analyze the properties of the host galaxy of GRB~240825A based on data from the SDSS, PanSTARRS and HSC-SSP surveys. For a host redshift of $z=0.659$, the stellar mass and star formation rate of the host galaxy are estimated to be $\\log(M_*/M_\\odot)=10.0^{+0.3}_{-0.3}$ and $\\log({\\rm SFR}/M_{\\odot}{\\rm yr}^{-1})= 0.6^{+0.8}_{-3.3}$, respectively, pointing to a gas-rich, star-forming, medium-size galaxy.         |\n",
       "|<p style=\"color:green\"> **ERROR** </p>| <p style=\"color:green\">affiliation error: mpia.affiliation_verifications: '69117' keyword not found.</p> |"
      ],
      "text/plain": [
       "<IPython.core.display.Markdown object>"
      ]
     },
     "metadata": {},
     "output_type": "display_data"
    },
    {
     "data": {
      "text/markdown": [
       "\n",
       "|||\n",
       "|---:|:---|\n",
       "| [![arXiv](https://img.shields.io/badge/arXiv-2409.14382-b31b1b.svg)](https://arxiv.org/abs/2409.14382) | **Layout optimization and Performance of Large Array of imaging atmospheric Cherenkov Telescope (LACT)**  |\n",
       "|| Z. Zhang, et al. -- incl., <mark>J. Liu</mark> |\n",
       "|*Appeared on*| *2024-09-24*|\n",
       "|*Comments*| *24 pages, 19 figures, submited to Chinese Physcis C*|\n",
       "|**Abstract**|            Large Array of imaging atmospheric Cherenkov Telescope (LACT) is an array of 32 Cherenkov telescopes with 6-meter diameter mirrors to be constructed at the LHAASO site. In this work, we present a study on the layout optimization and performance analysis of LACT. We investigate two observation modes: large zenith angle observations for ultra-high energy events and small zenith angle observations for lower energy thresholds. For large zenith angles (60°), simulations show that an 8-telescope subarray can achieve an effective area of $3 ~\\rm km^2$ and excellent angular resolution. For small zenith angles, we optimize the layout of 4-telescope cells and the full 32-telescope array. The threshold of the full array is about $200~\\rm GeV$, which is particularly crucial for studying transient phenomena, including gamma-ray bursts (GRBs) and active galactic nuclei (AGNs). This study provides important guidance for the final LACT layout design and performance estimates under different observational conditions, demonstrating LACT's potential for deep observations of ultra-high energy \\gray sources and morphological studies of PeVatrons, as well as time-domain \\gray astronomy.         |\n",
       "|<p style=\"color:green\"> **ERROR** </p>| <p style=\"color:green\">affiliation error: mpia.affiliation_verifications: 'Heidelberg' keyword not found.</p> |"
      ],
      "text/plain": [
       "<IPython.core.display.Markdown object>"
      ]
     },
     "metadata": {},
     "output_type": "display_data"
    }
   ],
   "source": [
    "import datetime\n",
    "today = str(datetime.date.today())\n",
    "logfile = f\"_build/html/logs/log-{today}.md\"\n",
    "\n",
    "\n",
    "with open(logfile, 'w') as logs:\n",
    "    # Success\n",
    "    logs.write(f'# Arxiv on Deck 2: Logs - {today}\\n\\n')\n",
    "    logs.write(\"\"\"* Arxiv had {0:,d} new papers\\n\"\"\".format(len(new_papers)))\n",
    "    logs.write(\"\"\"    * {0:,d} with possible author matches\\n\\n\"\"\".format(len(candidates)))\n",
    "    logs.write(\"## Sucessful papers\\n\\n\")\n",
    "    display(Markdown(\"## Successful papers\"))\n",
    "    success = [k[0] for k in documents]\n",
    "    for candid in candidates:\n",
    "        if candid['identifier'].split(':')[-1] in success:\n",
    "            display(candid)\n",
    "            logs.write(candid.generate_markdown_text() + '\\n\\n')\n",
    "\n",
    "    ## failed\n",
    "    logs.write(\"## Failed papers\\n\\n\")\n",
    "    display(Markdown(\"## Failed papers\"))\n",
    "    failed = sorted(failed, key=lambda x: x[1])\n",
    "    current_reason = \"\"\n",
    "    for paper, reason in failed:\n",
    "        if 'affiliation' in reason:\n",
    "            color = 'green'\n",
    "        else:\n",
    "            color = 'red'\n",
    "        data = Markdown(\n",
    "                paper.generate_markdown_text() + \n",
    "                f'\\n|<p style=\"color:{color:s}\"> **ERROR** </p>| <p style=\"color:{color:s}\">{reason:s}</p> |'\n",
    "               )\n",
    "        if reason != current_reason:\n",
    "            logs.write(f'### {reason:s} \\n\\n')\n",
    "            current_reason = reason\n",
    "        logs.write(data.data + '\\n\\n')\n",
    "        \n",
    "        # only display here the important errors (all in logs)\n",
    "        # if color in ('red',):\n",
    "        display(data)"
   ]
  },
  {
   "cell_type": "markdown",
   "id": "472d20ee",
   "metadata": {
    "papermill": {
     "duration": 0.005055,
     "end_time": "2024-09-24T04:12:19.724825",
     "exception": false,
     "start_time": "2024-09-24T04:12:19.719770",
     "status": "completed"
    },
    "tags": []
   },
   "source": [
    "## Export documents\n",
    "\n",
    "We now write the .md files and export relevant images"
   ]
  },
  {
   "cell_type": "code",
   "execution_count": 7,
   "id": "d426aed9",
   "metadata": {
    "execution": {
     "iopub.execute_input": "2024-09-24T04:12:19.735935Z",
     "iopub.status.busy": "2024-09-24T04:12:19.735552Z",
     "iopub.status.idle": "2024-09-24T04:12:19.742155Z",
     "shell.execute_reply": "2024-09-24T04:12:19.741624Z"
    },
    "papermill": {
     "duration": 0.013206,
     "end_time": "2024-09-24T04:12:19.743109",
     "exception": false,
     "start_time": "2024-09-24T04:12:19.729903",
     "status": "completed"
    },
    "tags": []
   },
   "outputs": [],
   "source": [
    "def export_markdown_summary(md: str, md_fname:str, directory: str):\n",
    "    \"\"\"Export MD document and associated relevant images\"\"\"\n",
    "    import os\n",
    "    import shutil\n",
    "    import re\n",
    "\n",
    "    if (os.path.exists(directory) and not os.path.isdir(directory)):\n",
    "        raise RuntimeError(f\"a non-directory file exists with name {directory:s}\")\n",
    "\n",
    "    if (not os.path.exists(directory)):\n",
    "        print(f\"creating directory {directory:s}\")\n",
    "        os.mkdir(directory)\n",
    "\n",
    "    fig_fnames = (re.compile(r'\\[Fig.*\\]\\((.*)\\)').findall(md) + \n",
    "                  re.compile(r'\\<img src=\"([^>\\s]*)\"[^>]*/>').findall(md))\n",
    "    print(\"found figures\", fig_fnames)\n",
    "    for fname in fig_fnames:\n",
    "        if 'http' in fname:\n",
    "            # No need to copy online figures\n",
    "            continue\n",
    "        if not os.path.exists(fname):\n",
    "            print(\"file not found\", fname)\n",
    "            continue\n",
    "        print(\"copying \", fname, \"to\", directory)\n",
    "        destdir = os.path.join(directory, os.path.dirname(fname))\n",
    "        destfname = os.path.join(destdir, os.path.basename(fname))\n",
    "        try:\n",
    "            os.makedirs(destdir)\n",
    "        except FileExistsError:\n",
    "            pass\n",
    "        shutil.copy(fname, destfname)\n",
    "    with open(os.path.join(directory, md_fname), 'w') as fout:\n",
    "        fout.write(md)\n",
    "    print(\"exported in \", os.path.join(directory, md_fname))\n",
    "    [print(\"    + \" + os.path.join(directory,fk)) for fk in fig_fnames]"
   ]
  },
  {
   "cell_type": "code",
   "execution_count": 8,
   "id": "014d04a4",
   "metadata": {
    "execution": {
     "iopub.execute_input": "2024-09-24T04:12:19.754659Z",
     "iopub.status.busy": "2024-09-24T04:12:19.754161Z",
     "iopub.status.idle": "2024-09-24T04:12:19.768932Z",
     "shell.execute_reply": "2024-09-24T04:12:19.768240Z"
    },
    "papermill": {
     "duration": 0.021578,
     "end_time": "2024-09-24T04:12:19.769932",
     "exception": false,
     "start_time": "2024-09-24T04:12:19.748354",
     "status": "completed"
    },
    "tags": []
   },
   "outputs": [
    {
     "name": "stdout",
     "output_type": "stream",
     "text": [
      "found figures ['tmp_2409.13855/./figures/mean_ages_and_age_spreads_systematics.png', 'tmp_2409.13855/./figures/amr_two_panels.png', 'tmp_2409.13855/./figures/sgb_polygon_selection.png']\n",
      "copying  tmp_2409.13855/./figures/mean_ages_and_age_spreads_systematics.png to _build/html/\n",
      "copying  tmp_2409.13855/./figures/amr_two_panels.png to _build/html/\n",
      "copying  tmp_2409.13855/./figures/sgb_polygon_selection.png to _build/html/\n",
      "exported in  _build/html/2409.13855.md\n",
      "    + _build/html/tmp_2409.13855/./figures/mean_ages_and_age_spreads_systematics.png\n",
      "    + _build/html/tmp_2409.13855/./figures/amr_two_panels.png\n",
      "    + _build/html/tmp_2409.13855/./figures/sgb_polygon_selection.png\n",
      "found figures ['tmp_2409.14445/./figures/mom0_transs.png', 'tmp_2409.14445/./figures/PVtranss.png', 'tmp_2409.14445/./figures/chn_CH3OH_Cycle3.png']\n",
      "copying  tmp_2409.14445/./figures/mom0_transs.png to _build/html/\n",
      "copying  tmp_2409.14445/./figures/PVtranss.png to _build/html/\n",
      "copying  tmp_2409.14445/./figures/chn_CH3OH_Cycle3.png to _build/html/\n",
      "exported in  _build/html/2409.14445.md\n",
      "    + _build/html/tmp_2409.14445/./figures/mom0_transs.png\n",
      "    + _build/html/tmp_2409.14445/./figures/PVtranss.png\n",
      "    + _build/html/tmp_2409.14445/./figures/chn_CH3OH_Cycle3.png\n"
     ]
    }
   ],
   "source": [
    "for paper_id, md in documents:\n",
    "    export_markdown_summary(md, f\"{paper_id:s}.md\", '_build/html/')"
   ]
  },
  {
   "cell_type": "markdown",
   "id": "f087a0a7",
   "metadata": {
    "papermill": {
     "duration": 0.005222,
     "end_time": "2024-09-24T04:12:19.780477",
     "exception": false,
     "start_time": "2024-09-24T04:12:19.775255",
     "status": "completed"
    },
    "tags": []
   },
   "source": [
    "## Display the papers\n",
    "\n",
    "Not necessary but allows for a quick check."
   ]
  },
  {
   "cell_type": "code",
   "execution_count": 9,
   "id": "fd25f625",
   "metadata": {
    "execution": {
     "iopub.execute_input": "2024-09-24T04:12:19.792286Z",
     "iopub.status.busy": "2024-09-24T04:12:19.791696Z",
     "iopub.status.idle": "2024-09-24T04:12:19.797628Z",
     "shell.execute_reply": "2024-09-24T04:12:19.796999Z"
    },
    "papermill": {
     "duration": 0.012808,
     "end_time": "2024-09-24T04:12:19.798618",
     "exception": false,
     "start_time": "2024-09-24T04:12:19.785810",
     "status": "completed"
    },
    "scrolled": false,
    "tags": []
   },
   "outputs": [
    {
     "data": {
      "text/markdown": [
       "<div class=\"macros\" style=\"visibility:hidden;\">\n",
       "$\\newcommand{\\ensuremath}{}$\n",
       "$\\newcommand{\\xspace}{}$\n",
       "$\\newcommand{\\object}[1]{\\texttt{#1}}$\n",
       "$\\newcommand{\\farcs}{{.}''}$\n",
       "$\\newcommand{\\farcm}{{.}'}$\n",
       "$\\newcommand{\\arcsec}{''}$\n",
       "$\\newcommand{\\arcmin}{'}$\n",
       "$\\newcommand{\\ion}[2]{#1#2}$\n",
       "$\\newcommand{\\textsc}[1]{\\textrm{#1}}$\n",
       "$\\newcommand{\\hl}[1]{\\textrm{#1}}$\n",
       "$\\newcommand{\\footnote}[1]{}$\n",
       "$\\newcommand{\\vdag}{(v)^\\dagger}$\n",
       "$\\newcommand$\n",
       "$\\newcommand$\n",
       "$\\newcommand$\n",
       "$\\newcommand$</div>\n",
       "\n",
       "\n",
       "\n",
       "<div id=\"title\">\n",
       "\n",
       "# oMEGACat IV: Constraining Ages of Omega Centauri sub-giant branch stars with _HST_ and MUSE\n",
       "\n",
       "</div>\n",
       "<div id=\"comments\">\n",
       "\n",
       "[![arXiv](https://img.shields.io/badge/arXiv-2409.13855-b31b1b.svg)](https://arxiv.org/abs/2409.13855)<mark>Appeared on: 2024-09-24</mark> -  _23 pages, 11 figures_\n",
       "\n",
       "</div>\n",
       "<div id=\"authors\">\n",
       "\n",
       "<mark>C. Clontz</mark>, et al. -- incl., <mark>M. Häberle</mark>, <mark>N. Neumayer</mark>\n",
       "\n",
       "</div>\n",
       "<div id=\"abstract\">\n",
       "\n",
       "**Abstract:** We present age estimates for over 8100 sub-giant branch (SGB) stars in Omega Centauri ( $\\omc$ ) to study its star formation history. Our large data set, which combines multi-wavelength _HST_ photometry with MUSE metallicities, provides an unprecedented opportunity to measure individual stellar ages. We do this by fitting each star's photometry and metallicity with theoretical isochrones, that are embedded with an empirical [ C+N+O ] - [ Fe/H ] relation specifically for $\\omc$ . The bulk of the stars have ages between 13 and 10 Gyr, with the mean stellar age being 12.08 $\\pm{0.01}$ Gyrs and the median age uncertainty being 0.68 Gyrs. From these ages we construct the most complete age-metallicity relation (AMR) for $\\omc$ to date.  We find that the mean age of stars decreases with increasing metallicity and find two distinct streams in the age-metallicity plane, hinting at different star formation pathways. We derive an intrinsic spread in the ages of 0.75 $\\pm{0.01}$ Gyr for the whole cluster, with the age spread showing a clear increase with metallicity. We verif $\\newtext{y}$ the robustness of our age estimations by varying isochrone parameters and constraining our systematics. We find the C+N+O relation to be the most critical consideration for constraining the AMR. We also present the SGB chromosome map with age information. In the future, these stellar ages could be combined with chemical abundances to study age differences in subpopulations, and uncover the chemical evolution history of this massive nuclear star cluster.\n",
       "\n",
       "</div>\n",
       "\n",
       "<div id=\"div_fig1\">\n",
       "\n",
       "<img src=\"tmp_2409.13855/./figures/mean_ages_and_age_spreads_systematics.png\" alt=\"Fig10\" width=\"100%\"/>\n",
       "\n",
       "**Figure 10. -** (*left*) **Mean Age vs. [Fe/H] Systematics:** Our mean age (\\em{left}) and age spread (\\em{right}) as a function of metallicity with our fiducial results (black points) as well as systematic tests (colored points; marker labels shared with both panels).  In both panels errorbars show 1$\\sigma$ uncertainty and gray bars along the top denote the [Fe/H] equal number bin edges. Generally, our systematics tests slightly affect the mean ages but not the trend with [Fe/H] except for the C+N+O abundance, which significantly impacts this measurement. The age spread is largely independent of any systematic effects.\n",
       " (*fig:age_and_age_spread_systematics*)\n",
       "\n",
       "</div>\n",
       "<div id=\"div_fig2\">\n",
       "\n",
       "<img src=\"tmp_2409.13855/./figures/amr_two_panels.png\" alt=\"Fig8\" width=\"100%\"/>\n",
       "\n",
       "**Figure 8. -** **The Age-Metallicity Relation:**(*left*) The age distribution of the SGB star sample in equal number ($ \\rm N_* = 803$) metallicity bins. The colors correspond to the colormap of Figure 1. (*right*) The 2D histogram of stars in the age-metallicity plane is given by the colormap, where purple is less dense and yellow is denser. The median uncertainty is given by the black contour in the lower center. The Gaia-Sausage /Enceladus (GS/E) SFH  ([Limberg, Souza and Pérez-Villegas 2022]())  is shown by the orange line. \\newtext{On the right side we show the full [Fe/H] histogram with each equal number bin region denoted by colored patches. On the top of both panels we show the full age histogram for the clean SGB sample.} (*fig:age_met_relation*)\n",
       "\n",
       "</div>\n",
       "<div id=\"div_fig3\">\n",
       "\n",
       "<img src=\"tmp_2409.13855/./figures/sgb_polygon_selection.png\" alt=\"Fig6\" width=\"100%\"/>\n",
       "\n",
       "**Figure 6. -** **SGB Selection \\& Relevant Isochrones:** The left panel shows our initial SGB region selection colored by the MUSE metallicity. The middle panel shows stars with $-1.75 < {\\rm[Fe/H]} < -1.65$ and isochrones (described in Section \\ref{subsec:iso_models}) with [Fe/H] = -1.7  and ages ranging from 5 to 15 Gyr (top to bottom) overplotted in green. The solid lines are the solar scaled helium abundance isochrones and the dashed lines are the Y$=$0.40 models. The right panel is similar to the middle, now with ${\\rm[Fe/H]} = -1.0$ and isochrones colored in red. Our selection utilizes the region where the models are the most similar. (*fig:sgb_region*)\n",
       "\n",
       "</div><div id=\"qrcode\"><img src=https://api.qrserver.com/v1/create-qr-code/?size=100x100&data=\"https://arxiv.org/abs/2409.13855\"></div>"
      ],
      "text/plain": [
       "<IPython.core.display.Markdown object>"
      ]
     },
     "metadata": {},
     "output_type": "display_data"
    },
    {
     "data": {
      "text/markdown": [
       "<div class=\"macros\" style=\"visibility:hidden;\">\n",
       "$\\newcommand{\\ensuremath}{}$\n",
       "$\\newcommand{\\xspace}{}$\n",
       "$\\newcommand{\\object}[1]{\\texttt{#1}}$\n",
       "$\\newcommand{\\farcs}{{.}''}$\n",
       "$\\newcommand{\\farcm}{{.}'}$\n",
       "$\\newcommand{\\arcsec}{''}$\n",
       "$\\newcommand{\\arcmin}{'}$\n",
       "$\\newcommand{\\ion}[2]{#1#2}$\n",
       "$\\newcommand{\\textsc}[1]{\\textrm{#1}}$\n",
       "$\\newcommand{\\hl}[1]{\\textrm{#1}}$\n",
       "$\\newcommand{\\footnote}[1]{}$\n",
       "$\\newcommand{\\vdag}{(v)^\\dagger}$\n",
       "$\\newcommand$\n",
       "$\\newcommand$\n",
       "$\\newcommand{\\dij}[1]{\\textcolor{blue}{#1}}$\n",
       "$\\newcommand{\\dijcomm}[1]{\\textcolor{blue}{DIJ: #1}}$\n",
       "$\\newcommand{\\percbcm}{\\mbox{~cm^{-3}}}$\n",
       "$\\newcommand{\\persqcm}{\\mbox{~cm^{-2}}}$\n",
       "$\\newcommand{\\perbeam}{\\mbox{beam^{-1}}}$\n",
       "$\\newcommand{\\Jyperbeam}{\\mbox{~Jy~beam^{-1}}}$\n",
       "$\\newcommand{\\mJyperbeam}{\\mbox{~mJy~beam^{-1}}}$\n",
       "$\\newcommand{\\muJyperbeam}{\\mbox{~\\muJy~beam^{-1}}}$\n",
       "$\\newcommand{\\kmpers}{\\mbox{~km~s^{-1}}}$\n",
       "$\\newcommand{\\vLSR}{v_\\mathrm{LSR}}$\n",
       "$\\newcommand{\\voff}{v_\\mathrm{off}}$\n",
       "$\\newcommand{\\frest}{f_\\mathrm{rest}}$\n",
       "$\\newcommand{\\Aij}{A_\\mathrm{ij}}$\n",
       "$\\newcommand{\\Eu}{E_\\mathrm{u}}$\n",
       "$\\newcommand{\\gu}{g_\\mathrm{u}}$\n",
       "$\\newcommand{\\vwidth}{\\delta v}$\n",
       "$\\newcommand{\\ii}{_2}$\n",
       "$\\newcommand{\\iii}{_3}$\n",
       "$\\newcommand{\\xviii}{^{18}}$\n",
       "$\\newcommand{\\Trot}{T_\\mathrm{rot}}$\n",
       "$\\newcommand{\\Ntot}{N_\\mathrm{tot}}$\n",
       "$\\newcommand{\\Lsun}{L_\\odot}$\n",
       "$\\newcommand{\\Msun}{M_\\odot}$\n",
       "$\\newcommand{\\Lbol}{L_\\mathrm{bol}}$\n",
       "$\\newcommand{\\Tbol}{T_\\mathrm{bol}}$\n",
       "$\\newcommand{\\red}[1]{\\textcolor{red}{#1}}$\n",
       "$\\newcommand{\\blue}[1]{\\textcolor{blue}{#1}}$\n",
       "$\\newcommand{\\brown}[1]{\\textcolor{brown}{#1}}$\n",
       "$\\newcommand{\\magenta}[1]{\\textcolor{magenta}{#1}}$\n",
       "$\\newcommand{\\purple}[1]{\\textcolor{purple}{#1}}$\n",
       "$\\newcommand{\\syhcomm}[1]{\\textcolor{brown}{SYH: #1}}$\n",
       "$\\newcommand{\\MDOTj}{\\dot{M}_\\mathrm{j}}$\n",
       "$\\newcommand{\\MDOTEq}[2]{#1 \\times 10^{#2}}$\n",
       "$\\newcommand{\\MDOTEqUnit}[2]{#1 \\times 10^{#2}~M\\subsun\\peryr}$\n",
       "$\\newcommand{\\MDOTEqRangeUnit}[4]{#1 \\times 10^{#2} -- #3 \\times 10^{#4}~M\\subsun\\peryr}$\n",
       "$\\newcommand{\\REVO}[1]{#1}$\n",
       "$\\newcommand{\\REVI}[1]{\\textbf{#1}}$\n",
       "$\\newcommand{\\REVII}[1]{#1}$\n",
       "$\\newcommand{\\REVIII}[1]{#1}$\n",
       "$\\newcommand{\\ang}{Å}$\n",
       "$\\newcommand{\\degpoint}{\\mbox{^\\circ\\mskip-7.0mu. }}$\n",
       "$\\newcommand{\\halpha}{\\mbox{H\\alpha}}$\n",
       "$\\newcommand{\\hbeta}{\\mbox{H\\beta}}$\n",
       "$\\newcommand{\\hgamma}{\\mbox{H\\gamma}}$\n",
       "$\\newcommand{\\kms}{ km~s^{-1}}$\n",
       "$\\newcommand{\\lya}{\\mbox{Ly\\alpha}}$\n",
       "$\\newcommand{\\lyb}{\\mbox{Ly\\beta}}$\n",
       "$\\newcommand{\\minpoint}{\\mbox{'\\mskip-4.7mu.\\mskip0.8mu}}$\n",
       "$\\newcommand{\\mv}{\\mbox{m_{_V}}}$\n",
       "$\\newcommand{\\Mv}{\\mbox{M_{_V}}}$\n",
       "$\\newcommand{\\peryr}{\\mbox{\\>\\rm yr^{-1}}}$\n",
       "$\\newcommand{\\secpoint}{\\mbox{\"\\mskip-7.6mu. }}$\n",
       "$\\newcommand{\\sqdeg}{\\mbox{{\\rm deg}^2}}$\n",
       "$\\newcommand{\\squig}{\\sim\\!\\!}$\n",
       "$\\newcommand{\\subsun}{\\mbox{_{\\normalsize\\odot}}}$\n",
       "$\\newcommand{\\deg}{\\hbox{^\\circ}}$\n",
       "$\\newcommand{\\sun}{\\hbox{\\odot}}$\n",
       "$\\newcommand{\\earth}{\\hbox{\\oplus}}$\n",
       "$\\newcommand\\lesssim{\\mathrel{\\hbox{\\rlap{\\hbox{$\n",
       "$ \\lower4pt\\hbox{\\sim}}}\\hbox{<}}}}$\n",
       "$\\newcommand\\gtrsim{\\mathrel{\\hbox{\\rlap{\\hbox{$\n",
       "$ \\lower4pt\\hbox{\\sim}}}\\hbox{>}}}}$\n",
       "$\\newcommand{\\sq}{\\hbox{\\rlap{\\sqcap}\\sqcup}}$\n",
       "$\\newcommand{\\arcmin}{\\hbox{^\\prime}}$\n",
       "$\\newcommand{\\arcs}{\\hbox{^{\\prime\\prime}}}$\n",
       "$\\newcommand{\\fd}{\\hbox{.\\!\\!^{\\rm d}}}$\n",
       "$\\newcommand{\\fh}{\\hbox{.\\!\\!^{\\rm h}}}$\n",
       "$\\newcommand{\\fm}{\\hbox{.\\!\\!^{\\rm m}}}$\n",
       "$\\newcommand{\\fs}{\\hbox{.\\!\\!^{\\rm s}}}$\n",
       "$\\newcommand{\\fdg}{\\hbox{.\\!\\!^\\circ}}$\n",
       "$\\newcommand{\\farcm}{\\hbox{.\\mkern-4mu^\\prime}}$\n",
       "$\\newcommand{\\farcs}{\\hbox{.\\!\\!^{\\prime\\prime}}}$\n",
       "$\\newcommand{\\fp}{\\hbox{.\\!\\!^{\\scriptscriptstyle\\rm p}}}$\n",
       "$\\newcommand{\\micron}{\\hbox{\\mum}}$</div>\n",
       "\n",
       "\n",
       "\n",
       "<div id=\"title\">\n",
       "\n",
       "# ALMASOP. The Localized and Chemically rich Features near the Bases of the Protostellar Jet in HOPS 87\n",
       "\n",
       "</div>\n",
       "<div id=\"comments\">\n",
       "\n",
       "[![arXiv](https://img.shields.io/badge/arXiv-2409.14445-b31b1b.svg)](https://arxiv.org/abs/2409.14445)<mark>Appeared on: 2024-09-24</mark> -  _16 pages, 6+2 figures, accepted by ApJ_\n",
       "\n",
       "</div>\n",
       "<div id=\"authors\">\n",
       "\n",
       "S.-Y. Hsu, et al. -- incl., <mark>S. Li</mark>\n",
       "\n",
       "</div>\n",
       "<div id=\"abstract\">\n",
       "\n",
       "**Abstract:** HOPS 87 is a Class 0 protostellar core known to harbor an extremely young bipolar outflow and a hot corino. We report the discovery of localized, chemically rich regions near the bases of the two-lobe bipolar molecular outflow in HOPS 87 containing molecules such as $H_2$ CO, $^{13}$ CS, $H_2$ S, OCS, and $CH_3$ OH, the simplest complex organic molecule (COM).The locations and kinematics suggest that these localized features are due to jet-driven shocks rather than being part of the hot corino region encasing the protostar.The COM compositions of the molecular gas in these jet-localized regions are relatively simpler than those in the hot corino zone.We speculate that this simplicity is due to either the liberation of ice with a less complex chemical history or the effects of shock chemistry.Our study highlights the dynamic interplay between the protostellar bipolar outflow, disk, inner core environment, and the surrounding medium, contributing to our understanding of molecular complexity in solar-like young stellar objects.\n",
       "\n",
       "</div>\n",
       "\n",
       "<div id=\"div_fig1\">\n",
       "\n",
       "<img src=\"tmp_2409.14445/./figures/mom0_transs.png\" alt=\"Fig3\" width=\"100%\"/>\n",
       "\n",
       "**Figure 3. -** \n",
       "Integrated intensity images (moment-0 maps) of selected molecular transitions: C$^{18}$O, CO, $CH_3$CHO, HCOOCH$_{3}$, H$_{2}$CO, CH$_{3}$OH, OCS, $^{13}$CS, and $H_2$S.\n",
       "The origin of the coordinate system is the 1.3 mm continuum peak at [$\\alpha_{2000}, \\delta_{2000}$]$=$[05$^\\mathrm{h}$35$^\\mathrm{m}$23$^\\mathrm{s}$\\!\\!.42, -05$◦$01$\\arcmin$30$\\arcs$\\!\\!.6], and the ranges of right ascension (x-axis) and declination (y-axis) span $\\pm2$\\arcs$$.\n",
       "Each panel is labeled at the top with the corresponding chemical formula and the upper energy level of the transition shown in color.\n",
       "The velocity ranges for integration are $\\pm 40$ $\\kmpers$ for CO and SiO, $\\pm 3$ $\\kmpers$ for $^{13}$CS, and $\\pm 7.5$ $\\kmpers$ for others.\n",
       "The black dashed contours depict the 1.3 mm continuum, set at levels of [5, 10, 20, 40, 80, 160]$\\sigma$, where $\\sigma$ corresponds to 0.9$\\mJyperbeam$(or 0.13 K in terms of brightness temperature).\n",
       "The orange ellipse located at the bottom left corner indicate the beam sizes for the Cycle 6 ALMA program.\n",
       "The green contours display the SiO integrated intensity map, highlighted at levels of [10, 25, 40]$\\sigma$, where each $\\sigma$ corresponds to 28$\\mJyperbeam$\\kmpers.\n",
       "The distribution of the molecules in panels (e)--(i) are particularly noteworthy; these molecules are not typical outflow tracers but exhibit two-lobed distributions.\n",
       "The white cross in panels (c) and (d) illustrate the peak position of the corresponding transition.\n",
       " (*fig:mom0_outflow*)\n",
       "\n",
       "</div>\n",
       "<div id=\"div_fig2\">\n",
       "\n",
       "<img src=\"tmp_2409.14445/./figures/PVtranss.png\" alt=\"Fig6\" width=\"100%\"/>\n",
       "\n",
       "**Figure 6. -** \n",
       "The PV diagrams of selected molecular transitions along $\\REVI$I{the} outflow axis (position angle PA $=-4$◦ $\\REVI$I{with} the center is at the 1.3 mm continuum peak.\n",
       "The relative position $\\REVI$I{offset}($\\Delta p$) is from south ($\\Delta p<0$\\arcs$$) to north ($\\Delta p>0$\\arcs$$).\n",
       "The upper left label in each panel show the chemical species and the upper energy $\\Eu$ of the transitions.\n",
       "Note that the diagrams are exported from the data cube of the full spectral window so the $\\REVI$I{separated components} may $\\REVI$I{come} from molecular transitions other than the labeled one in each label (e.g., the components at (-7.5$\\kmpers$, 0$\\arcs$) in panel (h) and at (-7.5$\\kmpers$, 0$\\arcs$) in panel (k).\n",
       "The color maps and the brown contours are the PV diagram of the labeled transitions.\n",
       "The grey contours represent the CO PV diagram.\n",
       "The brown and grey contours are in steps of [5, 10, 15, 20, 25, 30, 40, 50, 60, 70, 80]$\\sigma$.\n",
       "The navy polyline, referred from the PV diagram of the $CH_3$OH 45 K transition, consists of two horizontal lines at $\\Delta p=0$\\farcs${3}$ and $-0$\\farcs${2}$ and a $\\REVI$I{diagonal} line moves  from $\\Delta p=0$\\farcs${3}$ to $-0$\\farcs${2}$ at $\\Delta v=0.75$\\kmpers and $-0.75$\\kmpers, respectively.\n",
       "The diagrams are exported by CARTA 4.0 \\citep[][]{2021Comrie_CARTA}.\n",
       "The gap in CO indicates the missing flux at low velocities due to interferometry.\n",
       "$\\REVI$I{\n",
       "The broadening of the velocity range localized at $\\Delta p=0$\\farcs${3}$ and $-0$\\farcs${2}$ is significant in $CH_3$OH, $H_2$CO, OCS, and $H_2$S and tentatively observed in $^{13}$CS.\n",
       "Additionally, the rapid growth of velocity $\\Delta v$ with position offset $\\Delta p$ described in 2001Lee_jet_wind_model is significant in SiO.\n",
       "}\n",
       "These characteristics suggest that these molecules are also tracing jet-driven bow shocks  (2001Lee_jet_wind_model) .\n",
       " (*fig:PVtranss*)\n",
       "\n",
       "</div>\n",
       "<div id=\"div_fig3\">\n",
       "\n",
       "<img src=\"tmp_2409.14445/./figures/chn_CH3OH_Cycle3.png\" alt=\"Fig4\" width=\"100%\"/>\n",
       "\n",
       "**Figure 4. -** \n",
       "The $CH_3$OH $5_{1,4}-4_{2,3}$ transition in Cycle 3 observations.\n",
       "The top and bottom rows show the images at the blue- and red-shifted channels, respectively.\n",
       "The labels in each panel shows the relative velocity ($\\Delta v = v - v_\\mathrm{LSR}$).\n",
       "At $\\Delta v=0$ $\\kmpers$ the intensity map displays an arc-like emission pattern west of the center with an absorption feature toward the continuum peak.\n",
       "At $|\\Delta v|>0.68$ $\\kmpers$, there is a single lobe ($\\Delta \\delta \\sim 0$\\farcs${3}$) on each of the northern and the southern sides of the arc ($\\Delta \\delta \\sim 0$\\farcs${2}$) seen at $\\Delta v=0$ $\\kmpers$.\n",
       " (*fig:chn_CH3OH_Cycle3*)\n",
       "\n",
       "</div><div id=\"qrcode\"><img src=https://api.qrserver.com/v1/create-qr-code/?size=100x100&data=\"https://arxiv.org/abs/2409.14445\"></div>"
      ],
      "text/plain": [
       "<IPython.core.display.Markdown object>"
      ]
     },
     "metadata": {},
     "output_type": "display_data"
    }
   ],
   "source": [
    "[display(Markdown(k[1])) for k in documents];"
   ]
  },
  {
   "cell_type": "markdown",
   "id": "873873a4",
   "metadata": {
    "papermill": {
     "duration": 0.005604,
     "end_time": "2024-09-24T04:12:19.809900",
     "exception": false,
     "start_time": "2024-09-24T04:12:19.804296",
     "status": "completed"
    },
    "tags": []
   },
   "source": [
    "# Create HTML index"
   ]
  },
  {
   "cell_type": "code",
   "execution_count": 10,
   "id": "cf665672",
   "metadata": {
    "execution": {
     "iopub.execute_input": "2024-09-24T04:12:19.822477Z",
     "iopub.status.busy": "2024-09-24T04:12:19.821972Z",
     "iopub.status.idle": "2024-09-24T04:12:19.829843Z",
     "shell.execute_reply": "2024-09-24T04:12:19.829299Z"
    },
    "papermill": {
     "duration": 0.015264,
     "end_time": "2024-09-24T04:12:19.830860",
     "exception": false,
     "start_time": "2024-09-24T04:12:19.815596",
     "status": "completed"
    },
    "tags": []
   },
   "outputs": [
    {
     "name": "stdout",
     "output_type": "stream",
     "text": [
      "191  publications files modified in the last 7 days.\n"
     ]
    }
   ],
   "source": [
    "from datetime import datetime, timedelta, timezone\n",
    "from glob import glob\n",
    "import os\n",
    "\n",
    "files = glob('_build/html/*.md')\n",
    "days = 7\n",
    "now = datetime.today()\n",
    "res = []\n",
    "for fk in files:\n",
    "    stat_result = os.stat(fk).st_ctime\n",
    "    modified = datetime.fromtimestamp(stat_result, tz=timezone.utc).replace(tzinfo=None)\n",
    "    delta = now.today() - modified\n",
    "    if delta <= timedelta(days=days):\n",
    "        res.append((delta.seconds, fk))\n",
    "res = [k[1] for k in reversed(sorted(res, key=lambda x:x[1]))]\n",
    "npub = len(res)\n",
    "print(len(res), f\" publications files modified in the last {days:d} days.\")\n",
    "# [ print('\\t', k) for k in res ];"
   ]
  },
  {
   "cell_type": "code",
   "execution_count": 11,
   "id": "015de740",
   "metadata": {
    "execution": {
     "iopub.execute_input": "2024-09-24T04:12:19.843005Z",
     "iopub.status.busy": "2024-09-24T04:12:19.842810Z",
     "iopub.status.idle": "2024-09-24T04:12:19.856739Z",
     "shell.execute_reply": "2024-09-24T04:12:19.856196Z"
    },
    "papermill": {
     "duration": 0.021122,
     "end_time": "2024-09-24T04:12:19.857733",
     "exception": false,
     "start_time": "2024-09-24T04:12:19.836611",
     "status": "completed"
    },
    "tags": []
   },
   "outputs": [
    {
     "name": "stdout",
     "output_type": "stream",
     "text": [
      "11  publications in the last 7 days.\n"
     ]
    }
   ],
   "source": [
    "import datetime\n",
    "from glob import glob\n",
    "\n",
    "def get_last_n_days(lst, days=1):\n",
    "    \"\"\" Get the documents from the last n days \"\"\"\n",
    "    sorted_lst = sorted(lst, key=lambda x: x[1], reverse=True)\n",
    "    for fname, date in sorted_lst:\n",
    "        if date >= str(datetime.date.today() - datetime.timedelta(days=days)):\n",
    "            yield fname\n",
    "\n",
    "def extract_appearance_dates(lst_file):\n",
    "    dates = []\n",
    "\n",
    "    def get_date(line):\n",
    "        return line\\\n",
    "            .split('Appeared on:')[-1]\\\n",
    "            .split('</mark>')[0].strip()\n",
    "\n",
    "    for fname in lst:\n",
    "        with open(fname, 'r') as f:\n",
    "            found_date = False\n",
    "            for line in f:\n",
    "                if not found_date:\n",
    "                    if \"Appeared on\" in line:\n",
    "                        found_date = True\n",
    "                        dates.append((fname, get_date(line)))\n",
    "                else:\n",
    "                    break\n",
    "    return dates\n",
    "\n",
    "from glob import glob\n",
    "lst = glob('_build/html/*md')\n",
    "days = 7\n",
    "dates = extract_appearance_dates(lst)\n",
    "res = list(get_last_n_days(dates, days))\n",
    "npub = len(res)\n",
    "print(len(res), f\" publications in the last {days:d} days.\")"
   ]
  },
  {
   "cell_type": "code",
   "execution_count": 12,
   "id": "52ca0208",
   "metadata": {
    "execution": {
     "iopub.execute_input": "2024-09-24T04:12:19.870535Z",
     "iopub.status.busy": "2024-09-24T04:12:19.870151Z",
     "iopub.status.idle": "2024-09-24T04:12:19.874742Z",
     "shell.execute_reply": "2024-09-24T04:12:19.874143Z"
    },
    "papermill": {
     "duration": 0.012164,
     "end_time": "2024-09-24T04:12:19.875755",
     "exception": false,
     "start_time": "2024-09-24T04:12:19.863591",
     "status": "completed"
    },
    "scrolled": false,
    "tags": []
   },
   "outputs": [],
   "source": [
    "def create_carousel(npub=4):\n",
    "    \"\"\" Generate the HTML code for a carousel with `npub` slides \"\"\"\n",
    "    carousel = [\"\"\"  <div class=\"carousel\" \"\"\",\n",
    "                \"\"\"       data-flickity='{ \"autoPlay\": 10000, \"adaptiveHeight\": true, \"resize\": true, \"wrapAround\": true, \"pauseAutoPlayOnHover\": true, \"groupCells\": 1 }' id=\"asyncTypeset\">\"\"\"\n",
    "                ]\n",
    "    \n",
    "    item_str = \"\"\"    <div class=\"carousel-cell\"> <div id=\"slide{k}\" class=\"md_view\">Content {k}</div> </div>\"\"\"\n",
    "    for k in range(1, npub + 1):\n",
    "        carousel.append(item_str.format(k=k))\n",
    "    carousel.append(\"  </div>\")\n",
    "    return '\\n'.join(carousel)\n",
    "\n",
    "def create_grid(npub=4):\n",
    "    \"\"\" Generate the HTML code for a flat grid with `npub` slides \"\"\"\n",
    "    grid = [\"\"\"  <div class=\"grid\"> \"\"\",\n",
    "                ]\n",
    "    \n",
    "    item_str = \"\"\"    <div class=\"grid-item\"> <div id=\"slide{k}\" class=\"md_view\">Content {k}</div> </div>\"\"\"\n",
    "    for k in range(1, npub + 1):\n",
    "        grid.append(item_str.format(k=k))\n",
    "    grid.append(\"  </div>\")\n",
    "    return '\\n'.join(grid)"
   ]
  },
  {
   "cell_type": "code",
   "execution_count": 13,
   "id": "a6eac5b6",
   "metadata": {
    "execution": {
     "iopub.execute_input": "2024-09-24T04:12:19.891626Z",
     "iopub.status.busy": "2024-09-24T04:12:19.891143Z",
     "iopub.status.idle": "2024-09-24T04:12:19.896418Z",
     "shell.execute_reply": "2024-09-24T04:12:19.895868Z"
    },
    "papermill": {
     "duration": 0.013204,
     "end_time": "2024-09-24T04:12:19.897450",
     "exception": false,
     "start_time": "2024-09-24T04:12:19.884246",
     "status": "completed"
    },
    "scrolled": false,
    "tags": []
   },
   "outputs": [],
   "source": [
    "carousel = create_carousel(npub)\n",
    "docs = ', '.join(['\"{0:s}\"'.format(k.split('/')[-1]) for k in res])\n",
    "slides = ', '.join([f'\"slide{k}\"' for k in range(1, npub + 1)])\n",
    "\n",
    "with open(\"daily_template.html\", \"r\") as tpl:\n",
    "    page = tpl.read()\n",
    "    page = page.replace(\"{%-- carousel:s --%}\", carousel)\\\n",
    "               .replace(\"{%-- suptitle:s --%}\",  \"7-day archives\" )\\\n",
    "               .replace(\"{%-- docs:s --%}\", docs)\\\n",
    "               .replace(\"{%-- slides:s --%}\", slides)\n",
    "    \n",
    "with open(\"_build/html/index_7days.html\", 'w') as fout:\n",
    "    fout.write(page)"
   ]
  },
  {
   "cell_type": "code",
   "execution_count": 14,
   "id": "adc1a1ec",
   "metadata": {
    "execution": {
     "iopub.execute_input": "2024-09-24T04:12:19.910548Z",
     "iopub.status.busy": "2024-09-24T04:12:19.910307Z",
     "iopub.status.idle": "2024-09-24T04:12:19.916631Z",
     "shell.execute_reply": "2024-09-24T04:12:19.916075Z"
    },
    "papermill": {
     "duration": 0.013953,
     "end_time": "2024-09-24T04:12:19.917659",
     "exception": false,
     "start_time": "2024-09-24T04:12:19.903706",
     "status": "completed"
    },
    "tags": []
   },
   "outputs": [
    {
     "name": "stdout",
     "output_type": "stream",
     "text": [
      "4  publications in the last day.\n"
     ]
    }
   ],
   "source": [
    "# redo for today\n",
    "days = 1\n",
    "res = list(get_last_n_days(dates, days))\n",
    "npub = len(res)\n",
    "print(len(res), f\" publications in the last day.\")\n",
    "\n",
    "carousel = create_carousel(npub)\n",
    "docs = ', '.join(['\"{0:s}\"'.format(k.split('/')[-1]) for k in res])\n",
    "slides = ', '.join([f'\"slide{k}\"' for k in range(1, npub + 1)])\n",
    "\n",
    "with open(\"daily_template.html\", \"r\") as tpl:\n",
    "    page = tpl.read()\n",
    "    page = page.replace(\"{%-- carousel:s --%}\", carousel)\\\n",
    "               .replace(\"{%-- suptitle:s --%}\",  \"Daily\" )\\\n",
    "               .replace(\"{%-- docs:s --%}\", docs)\\\n",
    "               .replace(\"{%-- slides:s --%}\", slides)\n",
    "    \n",
    "# print(carousel, docs, slides)\n",
    "# print(page)\n",
    "with open(\"_build/html/index_daily.html\", 'w') as fout:\n",
    "    fout.write(page)"
   ]
  },
  {
   "cell_type": "code",
   "execution_count": 15,
   "id": "00eece82",
   "metadata": {
    "execution": {
     "iopub.execute_input": "2024-09-24T04:12:19.930515Z",
     "iopub.status.busy": "2024-09-24T04:12:19.930269Z",
     "iopub.status.idle": "2024-09-24T04:12:19.936679Z",
     "shell.execute_reply": "2024-09-24T04:12:19.936118Z"
    },
    "papermill": {
     "duration": 0.014081,
     "end_time": "2024-09-24T04:12:19.937732",
     "exception": false,
     "start_time": "2024-09-24T04:12:19.923651",
     "status": "completed"
    },
    "scrolled": false,
    "tags": []
   },
   "outputs": [
    {
     "name": "stdout",
     "output_type": "stream",
     "text": [
      "6  6 publications selected.\n"
     ]
    }
   ],
   "source": [
    "# Create the flat grid of the last N papers (fixed number regardless of dates)\n",
    "from itertools import islice \n",
    "\n",
    "npub = 6\n",
    "res = [k[0] for k in (islice(reversed(sorted(dates, key=lambda x: x[1])), 6))]\n",
    "print(len(res), f\" {npub} publications selected.\")\n",
    "\n",
    "grid = create_grid(npub)\n",
    "docs = ', '.join(['\"{0:s}\"'.format(k.split('/')[-1]) for k in res])\n",
    "slides = ', '.join([f'\"slide{k}\"' for k in range(1, npub + 1)])\n",
    "\n",
    "with open(\"grid_template.html\", \"r\") as tpl:\n",
    "    page = tpl.read()\n",
    "    page = page.replace(\"{%-- grid-content:s --%}\", grid)\\\n",
    "               .replace(\"{%-- suptitle:s --%}\",  f\"Last {npub:,d} papers\" )\\\n",
    "               .replace(\"{%-- docs:s --%}\", docs)\\\n",
    "               .replace(\"{%-- slides:s --%}\", slides)\n",
    "    \n",
    "# print(grid, docs, slides)\n",
    "# print(page)\n",
    "with open(\"_build/html/index_npub_grid.html\", 'w') as fout:\n",
    "    fout.write(page)"
   ]
  }
 ],
 "metadata": {
  "kernelspec": {
   "display_name": "Python 3 (ipykernel)",
   "language": "python",
   "name": "python3"
  },
  "language_info": {
   "codemirror_mode": {
    "name": "ipython",
    "version": 3
   },
   "file_extension": ".py",
   "mimetype": "text/x-python",
   "name": "python",
   "nbconvert_exporter": "python",
   "pygments_lexer": "ipython3",
   "version": "3.9.20"
  },
  "papermill": {
   "default_parameters": {},
   "duration": 115.503889,
   "end_time": "2024-09-24T04:12:20.158912",
   "environment_variables": {},
   "exception": null,
   "input_path": "MPIA daily digest.ipynb",
   "output_path": "log.ipynb",
   "parameters": {},
   "start_time": "2024-09-24T04:10:24.655023",
   "version": "2.6.0"
  },
  "vscode": {
   "interpreter": {
    "hash": "aee8b7b246df8f9039afb4144a1f6fd8d2ca17a180786b69acc140d282b71a49"
   }
  },
  "widgets": {
   "application/vnd.jupyter.widget-state+json": {
    "state": {
     "1204f6c5bede40b49e3a0cb8bfacb4d5": {
      "model_module": "@jupyter-widgets/controls",
      "model_module_version": "2.0.0",
      "model_name": "ProgressStyleModel",
      "state": {
       "_model_module": "@jupyter-widgets/controls",
       "_model_module_version": "2.0.0",
       "_model_name": "ProgressStyleModel",
       "_view_count": null,
       "_view_module": "@jupyter-widgets/base",
       "_view_module_version": "2.0.0",
       "_view_name": "StyleView",
       "bar_color": null,
       "description_width": ""
      }
     },
     "39495d5006c64c2e9727d0e948301fdf": {
      "model_module": "@jupyter-widgets/controls",
      "model_module_version": "2.0.0",
      "model_name": "FloatProgressModel",
      "state": {
       "_dom_classes": [],
       "_model_module": "@jupyter-widgets/controls",
       "_model_module_version": "2.0.0",
       "_model_name": "FloatProgressModel",
       "_view_count": null,
       "_view_module": "@jupyter-widgets/controls",
       "_view_module_version": "2.0.0",
       "_view_name": "ProgressView",
       "bar_style": "success",
       "description": "",
       "description_allow_html": false,
       "layout": "IPY_MODEL_93ca1d31d7c4499baff5c9911e8b9f75",
       "max": 4.0,
       "min": 0.0,
       "orientation": "horizontal",
       "style": "IPY_MODEL_1204f6c5bede40b49e3a0cb8bfacb4d5",
       "tabbable": null,
       "tooltip": null,
       "value": 4.0
      }
     },
     "83f90e45844d464591562c9691c9a771": {
      "model_module": "@jupyter-widgets/controls",
      "model_module_version": "2.0.0",
      "model_name": "HTMLStyleModel",
      "state": {
       "_model_module": "@jupyter-widgets/controls",
       "_model_module_version": "2.0.0",
       "_model_name": "HTMLStyleModel",
       "_view_count": null,
       "_view_module": "@jupyter-widgets/base",
       "_view_module_version": "2.0.0",
       "_view_name": "StyleView",
       "background": null,
       "description_width": "",
       "font_size": null,
       "text_color": null
      }
     },
     "93ca1d31d7c4499baff5c9911e8b9f75": {
      "model_module": "@jupyter-widgets/base",
      "model_module_version": "2.0.0",
      "model_name": "LayoutModel",
      "state": {
       "_model_module": "@jupyter-widgets/base",
       "_model_module_version": "2.0.0",
       "_model_name": "LayoutModel",
       "_view_count": null,
       "_view_module": "@jupyter-widgets/base",
       "_view_module_version": "2.0.0",
       "_view_name": "LayoutView",
       "align_content": null,
       "align_items": null,
       "align_self": null,
       "border_bottom": null,
       "border_left": null,
       "border_right": null,
       "border_top": null,
       "bottom": null,
       "display": null,
       "flex": null,
       "flex_flow": null,
       "grid_area": null,
       "grid_auto_columns": null,
       "grid_auto_flow": null,
       "grid_auto_rows": null,
       "grid_column": null,
       "grid_gap": null,
       "grid_row": null,
       "grid_template_areas": null,
       "grid_template_columns": null,
       "grid_template_rows": null,
       "height": null,
       "justify_content": null,
       "justify_items": null,
       "left": null,
       "margin": null,
       "max_height": null,
       "max_width": null,
       "min_height": null,
       "min_width": null,
       "object_fit": null,
       "object_position": null,
       "order": null,
       "overflow": null,
       "padding": null,
       "right": null,
       "top": null,
       "visibility": null,
       "width": null
      }
     },
     "a45b0293ebe04c91a0247724f91cc1b0": {
      "model_module": "@jupyter-widgets/controls",
      "model_module_version": "2.0.0",
      "model_name": "HTMLModel",
      "state": {
       "_dom_classes": [],
       "_model_module": "@jupyter-widgets/controls",
       "_model_module_version": "2.0.0",
       "_model_name": "HTMLModel",
       "_view_count": null,
       "_view_module": "@jupyter-widgets/controls",
       "_view_module_version": "2.0.0",
       "_view_name": "HTMLView",
       "description": "",
       "description_allow_html": false,
       "layout": "IPY_MODEL_d467c4f7840341a6851d9eaf36ce2987",
       "placeholder": "​",
       "style": "IPY_MODEL_83f90e45844d464591562c9691c9a771",
       "tabbable": null,
       "tooltip": null,
       "value": " 4/4 [01:36&lt;00:00, 19.80s/it]"
      }
     },
     "aa3583cbd7dd41e19cf9c6be5b5fbecd": {
      "model_module": "@jupyter-widgets/controls",
      "model_module_version": "2.0.0",
      "model_name": "HBoxModel",
      "state": {
       "_dom_classes": [],
       "_model_module": "@jupyter-widgets/controls",
       "_model_module_version": "2.0.0",
       "_model_name": "HBoxModel",
       "_view_count": null,
       "_view_module": "@jupyter-widgets/controls",
       "_view_module_version": "2.0.0",
       "_view_name": "HBoxView",
       "box_style": "",
       "children": [
        "IPY_MODEL_e85d8da24bc94ed3ad7cd32eea8a35a9",
        "IPY_MODEL_39495d5006c64c2e9727d0e948301fdf",
        "IPY_MODEL_a45b0293ebe04c91a0247724f91cc1b0"
       ],
       "layout": "IPY_MODEL_e8c6dbf3eced4378bca68b8b9c7d948d",
       "tabbable": null,
       "tooltip": null
      }
     },
     "d467c4f7840341a6851d9eaf36ce2987": {
      "model_module": "@jupyter-widgets/base",
      "model_module_version": "2.0.0",
      "model_name": "LayoutModel",
      "state": {
       "_model_module": "@jupyter-widgets/base",
       "_model_module_version": "2.0.0",
       "_model_name": "LayoutModel",
       "_view_count": null,
       "_view_module": "@jupyter-widgets/base",
       "_view_module_version": "2.0.0",
       "_view_name": "LayoutView",
       "align_content": null,
       "align_items": null,
       "align_self": null,
       "border_bottom": null,
       "border_left": null,
       "border_right": null,
       "border_top": null,
       "bottom": null,
       "display": null,
       "flex": null,
       "flex_flow": null,
       "grid_area": null,
       "grid_auto_columns": null,
       "grid_auto_flow": null,
       "grid_auto_rows": null,
       "grid_column": null,
       "grid_gap": null,
       "grid_row": null,
       "grid_template_areas": null,
       "grid_template_columns": null,
       "grid_template_rows": null,
       "height": null,
       "justify_content": null,
       "justify_items": null,
       "left": null,
       "margin": null,
       "max_height": null,
       "max_width": null,
       "min_height": null,
       "min_width": null,
       "object_fit": null,
       "object_position": null,
       "order": null,
       "overflow": null,
       "padding": null,
       "right": null,
       "top": null,
       "visibility": null,
       "width": null
      }
     },
     "e85d8da24bc94ed3ad7cd32eea8a35a9": {
      "model_module": "@jupyter-widgets/controls",
      "model_module_version": "2.0.0",
      "model_name": "HTMLModel",
      "state": {
       "_dom_classes": [],
       "_model_module": "@jupyter-widgets/controls",
       "_model_module_version": "2.0.0",
       "_model_name": "HTMLModel",
       "_view_count": null,
       "_view_module": "@jupyter-widgets/controls",
       "_view_module_version": "2.0.0",
       "_view_name": "HTMLView",
       "description": "",
       "description_allow_html": false,
       "layout": "IPY_MODEL_f324f504c9a84c8195786659578b537c",
       "placeholder": "​",
       "style": "IPY_MODEL_f6288b34836f4ea1b9d13ac732369d94",
       "tabbable": null,
       "tooltip": null,
       "value": "100%"
      }
     },
     "e8c6dbf3eced4378bca68b8b9c7d948d": {
      "model_module": "@jupyter-widgets/base",
      "model_module_version": "2.0.0",
      "model_name": "LayoutModel",
      "state": {
       "_model_module": "@jupyter-widgets/base",
       "_model_module_version": "2.0.0",
       "_model_name": "LayoutModel",
       "_view_count": null,
       "_view_module": "@jupyter-widgets/base",
       "_view_module_version": "2.0.0",
       "_view_name": "LayoutView",
       "align_content": null,
       "align_items": null,
       "align_self": null,
       "border_bottom": null,
       "border_left": null,
       "border_right": null,
       "border_top": null,
       "bottom": null,
       "display": null,
       "flex": null,
       "flex_flow": null,
       "grid_area": null,
       "grid_auto_columns": null,
       "grid_auto_flow": null,
       "grid_auto_rows": null,
       "grid_column": null,
       "grid_gap": null,
       "grid_row": null,
       "grid_template_areas": null,
       "grid_template_columns": null,
       "grid_template_rows": null,
       "height": null,
       "justify_content": null,
       "justify_items": null,
       "left": null,
       "margin": null,
       "max_height": null,
       "max_width": null,
       "min_height": null,
       "min_width": null,
       "object_fit": null,
       "object_position": null,
       "order": null,
       "overflow": null,
       "padding": null,
       "right": null,
       "top": null,
       "visibility": null,
       "width": null
      }
     },
     "f324f504c9a84c8195786659578b537c": {
      "model_module": "@jupyter-widgets/base",
      "model_module_version": "2.0.0",
      "model_name": "LayoutModel",
      "state": {
       "_model_module": "@jupyter-widgets/base",
       "_model_module_version": "2.0.0",
       "_model_name": "LayoutModel",
       "_view_count": null,
       "_view_module": "@jupyter-widgets/base",
       "_view_module_version": "2.0.0",
       "_view_name": "LayoutView",
       "align_content": null,
       "align_items": null,
       "align_self": null,
       "border_bottom": null,
       "border_left": null,
       "border_right": null,
       "border_top": null,
       "bottom": null,
       "display": null,
       "flex": null,
       "flex_flow": null,
       "grid_area": null,
       "grid_auto_columns": null,
       "grid_auto_flow": null,
       "grid_auto_rows": null,
       "grid_column": null,
       "grid_gap": null,
       "grid_row": null,
       "grid_template_areas": null,
       "grid_template_columns": null,
       "grid_template_rows": null,
       "height": null,
       "justify_content": null,
       "justify_items": null,
       "left": null,
       "margin": null,
       "max_height": null,
       "max_width": null,
       "min_height": null,
       "min_width": null,
       "object_fit": null,
       "object_position": null,
       "order": null,
       "overflow": null,
       "padding": null,
       "right": null,
       "top": null,
       "visibility": null,
       "width": null
      }
     },
     "f6288b34836f4ea1b9d13ac732369d94": {
      "model_module": "@jupyter-widgets/controls",
      "model_module_version": "2.0.0",
      "model_name": "HTMLStyleModel",
      "state": {
       "_model_module": "@jupyter-widgets/controls",
       "_model_module_version": "2.0.0",
       "_model_name": "HTMLStyleModel",
       "_view_count": null,
       "_view_module": "@jupyter-widgets/base",
       "_view_module_version": "2.0.0",
       "_view_name": "StyleView",
       "background": null,
       "description_width": "",
       "font_size": null,
       "text_color": null
      }
     }
    },
    "version_major": 2,
    "version_minor": 0
   }
  }
 },
 "nbformat": 4,
 "nbformat_minor": 5
}