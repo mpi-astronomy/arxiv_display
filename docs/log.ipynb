{
 "cells": [
  {
   "cell_type": "markdown",
   "id": "92bcb855",
   "metadata": {
    "papermill": {
     "duration": 0.010628,
     "end_time": "2022-10-10T05:15:20.349476",
     "exception": false,
     "start_time": "2022-10-10T05:15:20.338848",
     "status": "completed"
    },
    "tags": []
   },
   "source": [
    "# MPIA Arxiv on Deck 2\n",
    "\n",
    "Contains the steps to produce the paper extractions."
   ]
  },
  {
   "cell_type": "code",
   "execution_count": 1,
   "id": "3a0d6e11",
   "metadata": {
    "execution": {
     "iopub.execute_input": "2022-10-10T05:15:20.368621Z",
     "iopub.status.busy": "2022-10-10T05:15:20.366924Z",
     "iopub.status.idle": "2022-10-10T05:15:20.570869Z",
     "shell.execute_reply": "2022-10-10T05:15:20.569827Z"
    },
    "papermill": {
     "duration": 0.218009,
     "end_time": "2022-10-10T05:15:20.574344",
     "exception": false,
     "start_time": "2022-10-10T05:15:20.356335",
     "status": "completed"
    },
    "tags": []
   },
   "outputs": [],
   "source": [
    "# Imports\n",
    "import os\n",
    "from IPython.display import Markdown, display\n",
    "from tqdm.notebook import tqdm\n",
    "import warnings\n",
    "from PIL import Image \n",
    "\n",
    "# requires arxiv_on_deck_2\n",
    "\n",
    "from arxiv_on_deck_2.arxiv2 import (get_new_papers, \n",
    "                                    get_paper_from_identifier,\n",
    "                                    retrieve_document_source, \n",
    "                                    get_markdown_badge)\n",
    "from arxiv_on_deck_2 import (latex, \n",
    "                             mpia,\n",
    "                             highlight_authors_in_list)\n",
    "\n",
    "# Sometimes images are really big\n",
    "Image.MAX_IMAGE_PIXELS = 1000000000 "
   ]
  },
  {
   "cell_type": "code",
   "execution_count": 2,
   "id": "22aa9d44",
   "metadata": {
    "execution": {
     "iopub.execute_input": "2022-10-10T05:15:20.586253Z",
     "iopub.status.busy": "2022-10-10T05:15:20.585963Z",
     "iopub.status.idle": "2022-10-10T05:15:20.591934Z",
     "shell.execute_reply": "2022-10-10T05:15:20.591193Z"
    },
    "papermill": {
     "duration": 0.013554,
     "end_time": "2022-10-10T05:15:20.593796",
     "exception": false,
     "start_time": "2022-10-10T05:15:20.580242",
     "status": "completed"
    },
    "tags": []
   },
   "outputs": [],
   "source": [
    "# Some useful definitions.\n",
    "\n",
    "class AffiliationWarning(UserWarning):\n",
    "    pass\n",
    "\n",
    "class AffiliationError(RuntimeError):\n",
    "    pass\n",
    "\n",
    "def validation(source: str):\n",
    "    \"\"\"Raises error paper during parsing of source file\n",
    "    \n",
    "    Allows checks before parsing TeX code.\n",
    "    \n",
    "    Raises AffiliationWarning\n",
    "    \"\"\"\n",
    "    check = mpia.affiliation_verifications(source, verbose=True)\n",
    "    if check is not True:\n",
    "        raise AffiliationError(\"mpia.affiliation_verifications: \" + check)\n",
    "\n",
    "        \n",
    "warnings.simplefilter('always', AffiliationWarning)"
   ]
  },
  {
   "cell_type": "code",
   "execution_count": 3,
   "id": "14622700",
   "metadata": {
    "execution": {
     "iopub.execute_input": "2022-10-10T05:15:20.606274Z",
     "iopub.status.busy": "2022-10-10T05:15:20.605558Z",
     "iopub.status.idle": "2022-10-10T05:15:20.610207Z",
     "shell.execute_reply": "2022-10-10T05:15:20.609448Z"
    },
    "papermill": {
     "duration": 0.013832,
     "end_time": "2022-10-10T05:15:20.612077",
     "exception": false,
     "start_time": "2022-10-10T05:15:20.598245",
     "status": "completed"
    },
    "tags": []
   },
   "outputs": [],
   "source": [
    "# additional CSS to consider. \n",
    "# TODO: Current into each exported file. \n",
    "#       This should be set once into the webpages directly.\n",
    "#       With only the class/id definitions in the .md files.\n",
    "\n",
    "debug_html = \"\"\"\n",
    "<style>\n",
    "#wrap{ overflow:auto; }\n",
    "#fig1{ background:yellow; width:100%; float:left; padding:5px;  }\n",
    "#fig2{ background:red; width:50%; float:left; clear:left; padding:5px;  }\n",
    "#fig3{ background:green; width:50%; float:left; padding:5px;   }\n",
    ".macros{ background:yellow; visibility:visible;}\n",
    "h1 {margin: 0 0 0 0;}\n",
    "mark {background-color:#fff3b6;}\n",
    "img {object-fit:contain; max-height:250px; display:inline-block; text-align: center;}\n",
    "</style>\n",
    "\"\"\" \n",
    "html = \"\"\"\n",
    "<style>\n",
    "#wrap{ overflow:auto; }\n",
    "#fig1{ width:100%; float:left; padding: 5px;  }\n",
    "#fig2{ width:50%; float:left; clear:left; padding: 5px;  }\n",
    "#fig3{ width:50%; float:left; padding: 5px;  }\n",
    ".macros{ visibility:hidden; height:0px; }\n",
    "h1 {margin: 0em 0 0 0;}\n",
    "mark {background-color:#fff3b6;}\n",
    "img {object-fit:contain; max-height:250px; display:inline-block; text-align: center;}\n",
    "</style>\n",
    "\"\"\""
   ]
  },
  {
   "cell_type": "markdown",
   "id": "14bd6310",
   "metadata": {
    "papermill": {
     "duration": 0.004629,
     "end_time": "2022-10-10T05:15:20.621180",
     "exception": false,
     "start_time": "2022-10-10T05:15:20.616551",
     "status": "completed"
    },
    "tags": []
   },
   "source": [
    "## get list of arxiv paper candidates\n",
    "\n",
    "We use the MPIA mitarbeiter list webpage from mpia.de to get author names\n",
    "We then get all new papers from Arxiv and match authors"
   ]
  },
  {
   "cell_type": "code",
   "execution_count": 4,
   "id": "2645e73a",
   "metadata": {
    "execution": {
     "iopub.execute_input": "2022-10-10T05:15:20.631980Z",
     "iopub.status.busy": "2022-10-10T05:15:20.631376Z",
     "iopub.status.idle": "2022-10-10T05:15:48.881147Z",
     "shell.execute_reply": "2022-10-10T05:15:48.877433Z"
    },
    "papermill": {
     "duration": 28.257644,
     "end_time": "2022-10-10T05:15:48.883313",
     "exception": false,
     "start_time": "2022-10-10T05:15:20.625669",
     "status": "completed"
    },
    "tags": []
   },
   "outputs": [
    {
     "name": "stdout",
     "output_type": "stream",
     "text": [
      "Arxiv has 50 new papers today\n",
      "          26 with possible author matches\n"
     ]
    }
   ],
   "source": [
    "# get list from MPIA website\n",
    "# it automatically filters identified non-scientists :func:`mpia.filter_non_scientists`\n",
    "mpia_authors = mpia.get_mpia_mitarbeiter_list()\n",
    "new_papers = get_new_papers()\n",
    "# add manual references\n",
    "add_paper_refs = []\n",
    "new_papers.extend([get_paper_from_identifier(k) for k in add_paper_refs])\n",
    "\n",
    "# select only papers with matching author names and highlight authors\n",
    "hl_list = [k[0] for k in mpia_authors]\n",
    "\n",
    "candidates = []\n",
    "for paperk in new_papers:\n",
    "    hl_authors = highlight_authors_in_list(paperk['authors'], hl_list)\n",
    "    matches = [(hl, orig) for hl, orig in zip(hl_authors, paperk['authors']) if 'mark' in hl]\n",
    "    paperk['authors'] = hl_authors\n",
    "    if matches:\n",
    "        candidates.append(paperk)\n",
    "print(\"\"\"Arxiv has {0:,d} new papers today\"\"\".format(len(new_papers)))        \n",
    "print(\"\"\"          {0:,d} with possible author matches\"\"\".format(len(candidates)))"
   ]
  },
  {
   "cell_type": "markdown",
   "id": "3543b34a",
   "metadata": {
    "papermill": {
     "duration": 0.004742,
     "end_time": "2022-10-10T05:15:48.893043",
     "exception": false,
     "start_time": "2022-10-10T05:15:48.888301",
     "status": "completed"
    },
    "tags": []
   },
   "source": [
    "# Parse sources and generate relevant outputs\n",
    "\n",
    "From the candidates, we do the following steps:\n",
    "* get their tarball from ArXiv (and extract data)\n",
    "* find the main .tex file: find one with \\documentclass{...} (sometimes it's non trivial)\n",
    "* Check affiliations with :func:`validation`, which uses :func:`mpia.affiliation_verifications`\n",
    "* If passing the affiliations: we parse the .tex source\n",
    "   * inject sub-documents into the main (flatten the main document)\n",
    "   * parse structure, extract information (title, abstract, authors, figures...)\n",
    "   * handles `\\graphicspath` if provided\n",
    "* Generate the .md document."
   ]
  },
  {
   "cell_type": "code",
   "execution_count": 5,
   "id": "9576b79e",
   "metadata": {
    "execution": {
     "iopub.execute_input": "2022-10-10T05:15:48.903909Z",
     "iopub.status.busy": "2022-10-10T05:15:48.903379Z",
     "iopub.status.idle": "2022-10-10T05:19:36.787040Z",
     "shell.execute_reply": "2022-10-10T05:19:36.786381Z"
    },
    "papermill": {
     "duration": 227.892538,
     "end_time": "2022-10-10T05:19:36.790192",
     "exception": false,
     "start_time": "2022-10-10T05:15:48.897654",
     "status": "completed"
    },
    "scrolled": false,
    "tags": []
   },
   "outputs": [
    {
     "data": {
      "application/vnd.jupyter.widget-view+json": {
       "model_id": "87974820ee1e495884a3a99e21a46ae6",
       "version_major": 2,
       "version_minor": 0
      },
      "text/plain": [
       "  0%|          | 0/25 [00:00<?, ?it/s]"
      ]
     },
     "metadata": {},
     "output_type": "display_data"
    },
    {
     "name": "stdout",
     "output_type": "stream",
     "text": [
      "Retrieving document from  https://arxiv.org/e-print/2210.03130\n"
     ]
    },
    {
     "name": "stdout",
     "output_type": "stream",
     "text": [
      "extracting tarball to tmp_2210.03130..."
     ]
    },
    {
     "name": "stdout",
     "output_type": "stream",
     "text": [
      " done.\n",
      "Retrieving document from  https://arxiv.org/e-print/2210.03132\n"
     ]
    },
    {
     "name": "stderr",
     "output_type": "stream",
     "text": [
      "/opt/hostedtoolcache/Python/3.9.14/x64/lib/python3.9/site-packages/IPython/core/interactiveshell.py:3378: LatexWarning: Multiple tex files.\n",
      "\n",
      "  exec(code_obj, self.user_global_ns, self.user_ns)\n",
      "/opt/hostedtoolcache/Python/3.9.14/x64/lib/python3.9/site-packages/IPython/core/interactiveshell.py:3378: LatexWarning: Found documentclass in tmp_2210.03130/rnaas.tex\n",
      "\n",
      "  exec(code_obj, self.user_global_ns, self.user_ns)\n"
     ]
    },
    {
     "name": "stdout",
     "output_type": "stream",
     "text": [
      "extracting tarball to tmp_2210.03132..."
     ]
    },
    {
     "name": "stdout",
     "output_type": "stream",
     "text": [
      " done.\n",
      "Retrieving document from  https://arxiv.org/e-print/2210.03133\n"
     ]
    },
    {
     "name": "stdout",
     "output_type": "stream",
     "text": [
      "extracting tarball to tmp_2210.03133..."
     ]
    },
    {
     "name": "stdout",
     "output_type": "stream",
     "text": [
      " done.\n",
      "Retrieving document from  https://arxiv.org/e-print/2210.03135\n"
     ]
    },
    {
     "name": "stdout",
     "output_type": "stream",
     "text": [
      "extracting tarball to tmp_2210.03135..."
     ]
    },
    {
     "name": "stdout",
     "output_type": "stream",
     "text": [
      " done.\n",
      "Retrieving document from  https://arxiv.org/e-print/2210.03194\n"
     ]
    },
    {
     "name": "stdout",
     "output_type": "stream",
     "text": [
      "extracting tarball to tmp_2210.03194..."
     ]
    },
    {
     "name": "stdout",
     "output_type": "stream",
     "text": [
      " done.\n",
      "Retrieving document from  https://arxiv.org/e-print/2210.03203\n"
     ]
    },
    {
     "name": "stderr",
     "output_type": "stream",
     "text": [
      "/opt/hostedtoolcache/Python/3.9.14/x64/lib/python3.9/site-packages/IPython/core/interactiveshell.py:3378: LatexWarning: Multiple tex files.\n",
      "\n",
      "  exec(code_obj, self.user_global_ns, self.user_ns)\n",
      "/opt/hostedtoolcache/Python/3.9.14/x64/lib/python3.9/site-packages/IPython/core/interactiveshell.py:3378: LatexWarning: Found documentclass in tmp_2210.03194/main.tex\n",
      "\n",
      "  exec(code_obj, self.user_global_ns, self.user_ns)\n",
      "/opt/hostedtoolcache/Python/3.9.14/x64/lib/python3.9/site-packages/arxiv_on_deck_2/latex.py:292: LatexWarning: Latex injecting: 'spectropolarimetricfit' from 'tmp_2210.03194/spectropolarimetricfit.tex'\n",
      "  warnings.warn(LatexWarning(f\"Latex injecting: '{ext}' from '{subsource}'\"))\n",
      "/opt/hostedtoolcache/Python/3.9.14/x64/lib/python3.9/site-packages/arxiv_on_deck_2/latex.py:292: LatexWarning: Latex injecting: 'spectropolarimetricfit_ave' from 'tmp_2210.03194/spectropolarimetricfit_ave.tex'\n",
      "  warnings.warn(LatexWarning(f\"Latex injecting: '{ext}' from '{subsource}'\"))\n",
      "/opt/hostedtoolcache/Python/3.9.14/x64/lib/python3.9/site-packages/arxiv_on_deck_2/latex.py:292: LatexWarning: Latex injecting: 'hetgfit' from 'tmp_2210.03194/hetgfit.tex'\n",
      "  warnings.warn(LatexWarning(f\"Latex injecting: '{ext}' from '{subsource}'\"))\n",
      "/opt/hostedtoolcache/Python/3.9.14/x64/lib/python3.9/site-packages/arxiv_on_deck_2/latex.py:292: LatexWarning: Latex injecting: 'qu_table' from 'tmp_2210.03194/qu_table.tex'\n",
      "  warnings.warn(LatexWarning(f\"Latex injecting: '{ext}' from '{subsource}'\"))\n",
      "/opt/hostedtoolcache/Python/3.9.14/x64/lib/python3.9/site-packages/arxiv_on_deck_2/latex.py:292: LatexWarning: Latex injecting: 'ephemeris' from 'tmp_2210.03194/ephemeris.tex'\n",
      "  warnings.warn(LatexWarning(f\"Latex injecting: '{ext}' from '{subsource}'\"))\n",
      "/opt/hostedtoolcache/Python/3.9.14/x64/lib/python3.9/site-packages/arxiv_on_deck_2/latex.py:292: LatexWarning: Latex injecting: 'pd_table' from 'tmp_2210.03194/pd_table.tex'\n",
      "  warnings.warn(LatexWarning(f\"Latex injecting: '{ext}' from '{subsource}'\"))\n",
      "/opt/hostedtoolcache/Python/3.9.14/x64/lib/python3.9/site-packages/arxiv_on_deck_2/latex.py:292: LatexWarning: Latex injecting: 'units' from 'tmp_2210.03194/units.tex'\n",
      "  warnings.warn(LatexWarning(f\"Latex injecting: '{ext}' from '{subsource}'\"))\n"
     ]
    },
    {
     "name": "stdout",
     "output_type": "stream",
     "text": [
      "extracting tarball to tmp_2210.03203..."
     ]
    },
    {
     "name": "stdout",
     "output_type": "stream",
     "text": [
      " done.\n",
      "Retrieving document from  https://arxiv.org/e-print/2210.03215\n"
     ]
    },
    {
     "name": "stderr",
     "output_type": "stream",
     "text": [
      "/opt/hostedtoolcache/Python/3.9.14/x64/lib/python3.9/site-packages/IPython/core/interactiveshell.py:3378: LatexWarning: Multiple tex files.\n",
      "\n",
      "  exec(code_obj, self.user_global_ns, self.user_ns)\n",
      "/opt/hostedtoolcache/Python/3.9.14/x64/lib/python3.9/site-packages/IPython/core/interactiveshell.py:3378: LatexWarning: Found documentclass in tmp_2210.03203/main.tex\n",
      "\n",
      "  exec(code_obj, self.user_global_ns, self.user_ns)\n"
     ]
    },
    {
     "name": "stderr",
     "output_type": "stream",
     "text": [
      "/tmp/ipykernel_2217/4030337529.py:34: LatexWarning: 2210.03215 did not run properly\n",
      "not a gzip file\n",
      "  warnings.warn(latex.LatexWarning(f\"{paper_id:s} did not run properly\\n\" +\n"
     ]
    },
    {
     "name": "stdout",
     "output_type": "stream",
     "text": [
      "Retrieving document from  https://arxiv.org/e-print/2210.03272\n"
     ]
    },
    {
     "name": "stdout",
     "output_type": "stream",
     "text": [
      "extracting tarball to tmp_2210.03272..."
     ]
    },
    {
     "name": "stdout",
     "output_type": "stream",
     "text": [
      " done.\n",
      "Retrieving document from  https://arxiv.org/e-print/2210.03322\n"
     ]
    },
    {
     "name": "stdout",
     "output_type": "stream",
     "text": [
      "extracting tarball to tmp_2210.03322... done.\n",
      "Retrieving document from  https://arxiv.org/e-print/2210.03364\n"
     ]
    },
    {
     "name": "stderr",
     "output_type": "stream",
     "text": [
      "/opt/hostedtoolcache/Python/3.9.14/x64/lib/python3.9/site-packages/IPython/core/interactiveshell.py:3378: LatexWarning: Multiple tex files.\n",
      "\n",
      "  exec(code_obj, self.user_global_ns, self.user_ns)\n",
      "/opt/hostedtoolcache/Python/3.9.14/x64/lib/python3.9/site-packages/IPython/core/interactiveshell.py:3378: LatexWarning: Found documentclass in tmp_2210.03322/main.tex\n",
      "\n",
      "  exec(code_obj, self.user_global_ns, self.user_ns)\n"
     ]
    },
    {
     "name": "stdout",
     "output_type": "stream",
     "text": [
      "extracting tarball to tmp_2210.03364..."
     ]
    },
    {
     "name": "stdout",
     "output_type": "stream",
     "text": [
      " done.\n",
      "Retrieving document from  https://arxiv.org/e-print/2210.03390\n"
     ]
    },
    {
     "name": "stdout",
     "output_type": "stream",
     "text": [
      "extracting tarball to tmp_2210.03390... done.\n",
      "Retrieving document from  https://arxiv.org/e-print/2210.03434\n"
     ]
    },
    {
     "name": "stdout",
     "output_type": "stream",
     "text": [
      "extracting tarball to tmp_2210.03434..."
     ]
    },
    {
     "name": "stdout",
     "output_type": "stream",
     "text": [
      " done.\n",
      "Retrieving document from  https://arxiv.org/e-print/2210.03464\n"
     ]
    },
    {
     "name": "stdout",
     "output_type": "stream",
     "text": [
      "extracting tarball to tmp_2210.03464..."
     ]
    },
    {
     "name": "stdout",
     "output_type": "stream",
     "text": [
      " done.\n",
      "Retrieving document from  https://arxiv.org/e-print/2210.03508\n"
     ]
    },
    {
     "name": "stderr",
     "output_type": "stream",
     "text": [
      "/opt/hostedtoolcache/Python/3.9.14/x64/lib/python3.9/site-packages/IPython/core/interactiveshell.py:3378: LatexWarning: Multiple tex files.\n",
      "\n",
      "  exec(code_obj, self.user_global_ns, self.user_ns)\n",
      "/opt/hostedtoolcache/Python/3.9.14/x64/lib/python3.9/site-packages/IPython/core/interactiveshell.py:3378: LatexWarning: Found documentclass in tmp_2210.03464/44699corr.tex\n",
      "\n",
      "  exec(code_obj, self.user_global_ns, self.user_ns)\n"
     ]
    },
    {
     "name": "stdout",
     "output_type": "stream",
     "text": [
      "extracting tarball to tmp_2210.03508..."
     ]
    },
    {
     "name": "stdout",
     "output_type": "stream",
     "text": [
      " done.\n",
      "Retrieving document from  https://arxiv.org/e-print/2210.03509\n"
     ]
    },
    {
     "name": "stdout",
     "output_type": "stream",
     "text": [
      "extracting tarball to tmp_2210.03509..."
     ]
    },
    {
     "name": "stdout",
     "output_type": "stream",
     "text": [
      " done.\n",
      "Retrieving document from  https://arxiv.org/e-print/2210.03584\n"
     ]
    },
    {
     "name": "stderr",
     "output_type": "stream",
     "text": [
      "/opt/hostedtoolcache/Python/3.9.14/x64/lib/python3.9/site-packages/IPython/core/interactiveshell.py:3378: LatexWarning: Multiple tex files.\n",
      "\n",
      "  exec(code_obj, self.user_global_ns, self.user_ns)\n",
      "/opt/hostedtoolcache/Python/3.9.14/x64/lib/python3.9/site-packages/IPython/core/interactiveshell.py:3378: LatexWarning: Found documentclass in tmp_2210.03509/main.tex\n",
      "\n",
      "  exec(code_obj, self.user_global_ns, self.user_ns)\n"
     ]
    },
    {
     "name": "stdout",
     "output_type": "stream",
     "text": [
      "extracting tarball to tmp_2210.03584..."
     ]
    },
    {
     "name": "stdout",
     "output_type": "stream",
     "text": [
      " done.\n",
      "Retrieving document from  https://arxiv.org/e-print/2210.03598\n"
     ]
    },
    {
     "name": "stderr",
     "output_type": "stream",
     "text": [
      "/opt/hostedtoolcache/Python/3.9.14/x64/lib/python3.9/site-packages/IPython/core/interactiveshell.py:3378: LatexWarning: Multiple tex files.\n",
      "\n",
      "  exec(code_obj, self.user_global_ns, self.user_ns)\n",
      "/opt/hostedtoolcache/Python/3.9.14/x64/lib/python3.9/site-packages/IPython/core/interactiveshell.py:3378: LatexWarning: Found documentclass in tmp_2210.03584/natnotes.tex\n",
      "\n",
      "  exec(code_obj, self.user_global_ns, self.user_ns)\n"
     ]
    },
    {
     "name": "stdout",
     "output_type": "stream",
     "text": [
      "extracting tarball to tmp_2210.03598..."
     ]
    },
    {
     "name": "stdout",
     "output_type": "stream",
     "text": [
      " done.\n",
      "Retrieving document from  https://arxiv.org/e-print/2210.03607\n"
     ]
    },
    {
     "name": "stdout",
     "output_type": "stream",
     "text": [
      "extracting tarball to tmp_2210.03607..."
     ]
    },
    {
     "name": "stdout",
     "output_type": "stream",
     "text": [
      " done.\n",
      "Retrieving document from  https://arxiv.org/e-print/2210.03609\n"
     ]
    },
    {
     "name": "stderr",
     "output_type": "stream",
     "text": [
      "/opt/hostedtoolcache/Python/3.9.14/x64/lib/python3.9/site-packages/IPython/core/interactiveshell.py:3378: LatexWarning: Multiple tex files.\n",
      "\n",
      "  exec(code_obj, self.user_global_ns, self.user_ns)\n",
      "/opt/hostedtoolcache/Python/3.9.14/x64/lib/python3.9/site-packages/IPython/core/interactiveshell.py:3378: LatexWarning: Found documentclass in tmp_2210.03607/PM.tex\n",
      "\n",
      "  exec(code_obj, self.user_global_ns, self.user_ns)\n",
      "/opt/hostedtoolcache/Python/3.9.14/x64/lib/python3.9/site-packages/arxiv_on_deck_2/latex.py:292: LatexWarning: Latex injecting: 'Tex/fig_each_burst' from 'tmp_2210.03607/Tex/fig_each_burst.tex'\n",
      "  warnings.warn(LatexWarning(f\"Latex injecting: '{ext}' from '{subsource}'\"))\n",
      "/opt/hostedtoolcache/Python/3.9.14/x64/lib/python3.9/site-packages/arxiv_on_deck_2/latex.py:292: LatexWarning: Latex injecting: 'Tex/tab_each_burst' from 'tmp_2210.03607/Tex/tab_each_burst.tex'\n",
      "  warnings.warn(LatexWarning(f\"Latex injecting: '{ext}' from '{subsource}'\"))\n",
      "/opt/hostedtoolcache/Python/3.9.14/x64/lib/python3.9/site-packages/arxiv_on_deck_2/latex.py:292: LatexWarning: Latex injecting: 'Tex/4-Conclusions.tex' from 'tmp_2210.03607/Tex/4-Conclusions.tex'\n",
      "  warnings.warn(LatexWarning(f\"Latex injecting: '{ext}' from '{subsource}'\"))\n",
      "/opt/hostedtoolcache/Python/3.9.14/x64/lib/python3.9/site-packages/arxiv_on_deck_2/latex.py:292: LatexWarning: Latex injecting: 'Tex/2-Obsearvation' from 'tmp_2210.03607/Tex/2-Obsearvation.tex'\n",
      "  warnings.warn(LatexWarning(f\"Latex injecting: '{ext}' from '{subsource}'\"))\n",
      "/opt/hostedtoolcache/Python/3.9.14/x64/lib/python3.9/site-packages/arxiv_on_deck_2/latex.py:292: LatexWarning: Latex injecting: 'Tex/1-Introduction' from 'tmp_2210.03607/Tex/1-Introduction.tex'\n",
      "  warnings.warn(LatexWarning(f\"Latex injecting: '{ext}' from '{subsource}'\"))\n"
     ]
    },
    {
     "name": "stdout",
     "output_type": "stream",
     "text": [
      "extracting tarball to tmp_2210.03609..."
     ]
    },
    {
     "name": "stdout",
     "output_type": "stream",
     "text": [
      " done.\n",
      "Retrieving document from  https://arxiv.org/e-print/2210.03610\n"
     ]
    },
    {
     "name": "stderr",
     "output_type": "stream",
     "text": [
      "/opt/hostedtoolcache/Python/3.9.14/x64/lib/python3.9/site-packages/IPython/core/interactiveshell.py:3378: LatexWarning: Multiple tex files.\n",
      "\n",
      "  exec(code_obj, self.user_global_ns, self.user_ns)\n",
      "/opt/hostedtoolcache/Python/3.9.14/x64/lib/python3.9/site-packages/IPython/core/interactiveshell.py:3378: LatexWarning: Found documentclass in tmp_2210.03609/ms.tex\n",
      "\n",
      "  exec(code_obj, self.user_global_ns, self.user_ns)\n"
     ]
    },
    {
     "name": "stdout",
     "output_type": "stream",
     "text": [
      "extracting tarball to tmp_2210.03610..."
     ]
    },
    {
     "name": "stdout",
     "output_type": "stream",
     "text": [
      " done.\n",
      "Retrieving document from  https://arxiv.org/e-print/2210.03615\n"
     ]
    },
    {
     "name": "stderr",
     "output_type": "stream",
     "text": [
      "/opt/hostedtoolcache/Python/3.9.14/x64/lib/python3.9/site-packages/IPython/core/interactiveshell.py:3378: LatexWarning: Multiple tex files.\n",
      "\n",
      "  exec(code_obj, self.user_global_ns, self.user_ns)\n",
      "/opt/hostedtoolcache/Python/3.9.14/x64/lib/python3.9/site-packages/IPython/core/interactiveshell.py:3378: LatexWarning: Found documentclass in tmp_2210.03610/ms.tex\n",
      "\n",
      "  exec(code_obj, self.user_global_ns, self.user_ns)\n",
      "/opt/hostedtoolcache/Python/3.9.14/x64/lib/python3.9/site-packages/arxiv_on_deck_2/latex.py:292: LatexWarning: Latex injecting: 'tablems.tex' from 'tmp_2210.03610/tablems.tex'\n",
      "  warnings.warn(LatexWarning(f\"Latex injecting: '{ext}' from '{subsource}'\"))\n",
      "/opt/hostedtoolcache/Python/3.9.14/x64/lib/python3.9/site-packages/arxiv_on_deck_2/latex.py:292: LatexWarning: Latex injecting: 'tablecandppdot.tex' from 'tmp_2210.03610/tablecandppdot.tex'\n",
      "  warnings.warn(LatexWarning(f\"Latex injecting: '{ext}' from '{subsource}'\"))\n",
      "/opt/hostedtoolcache/Python/3.9.14/x64/lib/python3.9/site-packages/arxiv_on_deck_2/latex.py:292: LatexWarning: Latex injecting: 'tablelsp.tex' from 'tmp_2210.03610/tablelsp.tex'\n",
      "  warnings.warn(LatexWarning(f\"Latex injecting: '{ext}' from '{subsource}'\"))\n",
      "/opt/hostedtoolcache/Python/3.9.14/x64/lib/python3.9/site-packages/arxiv_on_deck_2/latex.py:292: LatexWarning: Latex injecting: 'table4.tex' from 'tmp_2210.03610/table4.tex'\n",
      "  warnings.warn(LatexWarning(f\"Latex injecting: '{ext}' from '{subsource}'\"))\n",
      "/opt/hostedtoolcache/Python/3.9.14/x64/lib/python3.9/site-packages/arxiv_on_deck_2/latex.py:292: LatexWarning: Latex injecting: 'tablepresto' from 'tmp_2210.03610/tablepresto.tex'\n",
      "  warnings.warn(LatexWarning(f\"Latex injecting: '{ext}' from '{subsource}'\"))\n",
      "/opt/hostedtoolcache/Python/3.9.14/x64/lib/python3.9/site-packages/arxiv_on_deck_2/latex.py:292: LatexWarning: Latex injecting: 'table12.tex' from 'tmp_2210.03610/table12.tex'\n",
      "  warnings.warn(LatexWarning(f\"Latex injecting: '{ext}' from '{subsource}'\"))\n"
     ]
    },
    {
     "name": "stdout",
     "output_type": "stream",
     "text": [
      "extracting tarball to tmp_2210.03615..."
     ]
    },
    {
     "name": "stdout",
     "output_type": "stream",
     "text": [
      " done.\n"
     ]
    },
    {
     "name": "stderr",
     "output_type": "stream",
     "text": [
      "/opt/hostedtoolcache/Python/3.9.14/x64/lib/python3.9/site-packages/IPython/core/interactiveshell.py:3378: LatexWarning: Multiple tex files.\n",
      "\n",
      "  exec(code_obj, self.user_global_ns, self.user_ns)\n",
      "/opt/hostedtoolcache/Python/3.9.14/x64/lib/python3.9/site-packages/IPython/core/interactiveshell.py:3378: LatexWarning: Found documentclass in tmp_2210.03615/Main.tex\n",
      "\n",
      "  exec(code_obj, self.user_global_ns, self.user_ns)\n",
      "/opt/hostedtoolcache/Python/3.9.14/x64/lib/python3.9/site-packages/arxiv_on_deck_2/latex.py:292: LatexWarning: Latex injecting: 'app_3Dplots' from 'tmp_2210.03615/app_3Dplots.tex'\n",
      "  warnings.warn(LatexWarning(f\"Latex injecting: '{ext}' from '{subsource}'\"))\n",
      "/opt/hostedtoolcache/Python/3.9.14/x64/lib/python3.9/site-packages/arxiv_on_deck_2/latex.py:292: LatexWarning: Latex injecting: 'app_2Dplots' from 'tmp_2210.03615/app_2Dplots.tex'\n",
      "  warnings.warn(LatexWarning(f\"Latex injecting: '{ext}' from '{subsource}'\"))\n",
      "/opt/hostedtoolcache/Python/3.9.14/x64/lib/python3.9/site-packages/arxiv_on_deck_2/latex.py:292: LatexWarning: Latex injecting: 'Tables/TabCols' from 'tmp_2210.03615/Tables/TabCols.tex'\n",
      "  warnings.warn(LatexWarning(f\"Latex injecting: '{ext}' from '{subsource}'\"))\n",
      "/opt/hostedtoolcache/Python/3.9.14/x64/lib/python3.9/site-packages/arxiv_on_deck_2/latex.py:292: LatexWarning: Latex injecting: 'Tables/gpy_Params' from 'tmp_2210.03615/Tables/gpy_Params.tex'\n",
      "  warnings.warn(LatexWarning(f\"Latex injecting: '{ext}' from '{subsource}'\"))\n",
      "/opt/hostedtoolcache/Python/3.9.14/x64/lib/python3.9/site-packages/arxiv_on_deck_2/latex.py:292: LatexWarning: Latex injecting: 'lazy_jitter' from 'tmp_2210.03615/lazy_jitter.tex'\n",
      "  warnings.warn(LatexWarning(f\"Latex injecting: '{ext}' from '{subsource}'\"))\n",
      "/opt/hostedtoolcache/Python/3.9.14/x64/lib/python3.9/site-packages/arxiv_on_deck_2/latex.py:292: LatexWarning: Latex injecting: 'Tables/LeafExtents_Coords' from 'tmp_2210.03615/Tables/LeafExtents_Coords.tex'\n",
      "  warnings.warn(LatexWarning(f\"Latex injecting: '{ext}' from '{subsource}'\"))\n",
      "/opt/hostedtoolcache/Python/3.9.14/x64/lib/python3.9/site-packages/arxiv_on_deck_2/latex.py:292: LatexWarning: Latex injecting: 'Tables/MainTrunkDend' from 'tmp_2210.03615/Tables/MainTrunkDend.tex'\n",
      "  warnings.warn(LatexWarning(f\"Latex injecting: '{ext}' from '{subsource}'\"))\n",
      "/opt/hostedtoolcache/Python/3.9.14/x64/lib/python3.9/site-packages/arxiv_on_deck_2/latex.py:292: LatexWarning: Latex injecting: 'Tables/RegionDend' from 'tmp_2210.03615/Tables/RegionDend.tex'\n",
      "  warnings.warn(LatexWarning(f\"Latex injecting: '{ext}' from '{subsource}'\"))\n"
     ]
    },
    {
     "name": "stdout",
     "output_type": "stream",
     "text": [
      "Retrieving document from  https://arxiv.org/e-print/2210.03645\n"
     ]
    },
    {
     "name": "stdout",
     "output_type": "stream",
     "text": [
      "extracting tarball to tmp_2210.03645..."
     ]
    },
    {
     "name": "stdout",
     "output_type": "stream",
     "text": [
      " done.\n",
      "Retrieving document from  https://arxiv.org/e-print/2210.03684\n"
     ]
    },
    {
     "name": "stderr",
     "output_type": "stream",
     "text": [
      "/opt/hostedtoolcache/Python/3.9.14/x64/lib/python3.9/site-packages/IPython/core/interactiveshell.py:3378: LatexWarning: Multiple tex files.\n",
      "\n",
      "  exec(code_obj, self.user_global_ns, self.user_ns)\n",
      "/opt/hostedtoolcache/Python/3.9.14/x64/lib/python3.9/site-packages/IPython/core/interactiveshell.py:3378: LatexWarning: Found documentclass in tmp_2210.03645/sample2.tex\n",
      "\n",
      "  exec(code_obj, self.user_global_ns, self.user_ns)\n",
      "/opt/hostedtoolcache/Python/3.9.14/x64/lib/python3.9/site-packages/arxiv_on_deck_2/latex.py:292: LatexWarning: Latex injecting: 'table' from 'tmp_2210.03645/table.tex'\n",
      "  warnings.warn(LatexWarning(f\"Latex injecting: '{ext}' from '{subsource}'\"))\n"
     ]
    },
    {
     "name": "stdout",
     "output_type": "stream",
     "text": [
      "extracting tarball to tmp_2210.03684..."
     ]
    },
    {
     "name": "stdout",
     "output_type": "stream",
     "text": [
      " done.\n",
      "Retrieving document from  https://arxiv.org/e-print/2210.03705\n"
     ]
    },
    {
     "name": "stdout",
     "output_type": "stream",
     "text": [
      "extracting tarball to tmp_2210.03705..."
     ]
    },
    {
     "name": "stdout",
     "output_type": "stream",
     "text": [
      " done.\n",
      "Retrieving document from  https://arxiv.org/e-print/2210.03721\n"
     ]
    },
    {
     "name": "stdout",
     "output_type": "stream",
     "text": [
      "extracting tarball to tmp_2210.03721..."
     ]
    },
    {
     "name": "stdout",
     "output_type": "stream",
     "text": [
      " done.\n"
     ]
    },
    {
     "name": "stderr",
     "output_type": "stream",
     "text": [
      "/opt/hostedtoolcache/Python/3.9.14/x64/lib/python3.9/site-packages/IPython/core/interactiveshell.py:3378: LatexWarning: Multiple tex files.\n",
      "\n",
      "  exec(code_obj, self.user_global_ns, self.user_ns)\n",
      "/opt/hostedtoolcache/Python/3.9.14/x64/lib/python3.9/site-packages/IPython/core/interactiveshell.py:3378: LatexWarning: Found documentclass in tmp_2210.03721/main.tex\n",
      "\n",
      "  exec(code_obj, self.user_global_ns, self.user_ns)\n",
      "/opt/hostedtoolcache/Python/3.9.14/x64/lib/python3.9/site-packages/arxiv_on_deck_2/latex.py:292: LatexWarning: Latex injecting: 'author-list' from 'tmp_2210.03721/author-list.tex'\n",
      "  warnings.warn(LatexWarning(f\"Latex injecting: '{ext}' from '{subsource}'\"))\n",
      "/opt/hostedtoolcache/Python/3.9.14/x64/lib/python3.9/site-packages/arxiv_on_deck_2/latex.py:292: LatexWarning: Latex injecting: 'author-list' from 'tmp_2210.03721/Exact window functions/author-list.tex'\n",
      "  warnings.warn(LatexWarning(f\"Latex injecting: '{ext}' from '{subsource}'\"))\n"
     ]
    }
   ],
   "source": [
    "documents = []\n",
    "failed = []\n",
    "for paper in tqdm(candidates[:-1]):\n",
    "    paper_id = paper['identifier'].lower().replace('arxiv:', '')\n",
    "    \n",
    "    folder = f'tmp_{paper_id}'\n",
    "\n",
    "    try:\n",
    "        if not os.path.isdir(folder):\n",
    "            folder = retrieve_document_source(f\"{paper_id}\", f'tmp_{paper_id}')\n",
    "        \n",
    "        try:\n",
    "            doc = latex.LatexDocument(folder, validation=validation)    \n",
    "        except AffiliationError as affilerror:\n",
    "            msg = f\"ArXiv:{paper_id:s} is not an MPIA paper... \" + str(affilerror)\n",
    "            failed.append((paper, \"affiliation error: \" + str(affilerror) ))\n",
    "            continue\n",
    "        \n",
    "        # Hack because sometimes author parsing does not work well\n",
    "        if (len(doc.authors) != len(paper['authors'])):\n",
    "            doc._authors = paper['authors']\n",
    "        if (doc.abstract) in (None, ''):\n",
    "            doc._abstract = paper['abstract']\n",
    "            \n",
    "        doc.comment = (get_markdown_badge(paper_id) + \n",
    "                       \"<mark>Appeared on: \" + paper['date'] + \"</mark> - \" +\n",
    "                       \"_\" + paper['comments'] + \"_\")\n",
    "        doc.highlight_authors_in_list(hl_list)\n",
    "\n",
    "        full_md = doc.generate_markdown_text()\n",
    "        \n",
    "        documents.append((paper_id, full_md))\n",
    "    except Exception as e:\n",
    "        warnings.warn(latex.LatexWarning(f\"{paper_id:s} did not run properly\\n\" +\n",
    "                                         str(e)\n",
    "                                        ))\n",
    "        failed.append((paper, \"latex error \" + str(e)))"
   ]
  },
  {
   "cell_type": "markdown",
   "id": "2505a25c",
   "metadata": {
    "papermill": {
     "duration": 0.008453,
     "end_time": "2022-10-10T05:19:36.807271",
     "exception": false,
     "start_time": "2022-10-10T05:19:36.798818",
     "status": "completed"
    },
    "tags": []
   },
   "source": [
    "### Export the logs\n",
    "\n",
    "Throughout, we also keep track of the logs per paper. see `logs-{today date}.md` "
   ]
  },
  {
   "cell_type": "code",
   "execution_count": 6,
   "id": "d733828a",
   "metadata": {
    "execution": {
     "iopub.execute_input": "2022-10-10T05:19:36.827112Z",
     "iopub.status.busy": "2022-10-10T05:19:36.826204Z",
     "iopub.status.idle": "2022-10-10T05:19:36.874738Z",
     "shell.execute_reply": "2022-10-10T05:19:36.874116Z"
    },
    "papermill": {
     "duration": 0.067385,
     "end_time": "2022-10-10T05:19:36.882602",
     "exception": false,
     "start_time": "2022-10-10T05:19:36.815217",
     "status": "completed"
    },
    "scrolled": false,
    "tags": []
   },
   "outputs": [
    {
     "data": {
      "text/markdown": [
       "## Successful papers"
      ],
      "text/plain": [
       "<IPython.core.display.Markdown object>"
      ]
     },
     "metadata": {},
     "output_type": "display_data"
    },
    {
     "data": {
      "text/markdown": [
       "\n",
       "|||\n",
       "|---:|:---|\n",
       "| [![arXiv](https://img.shields.io/badge/arXiv-arXiv:2210.03615-b31b1b.svg)](https://arxiv.org/abs/arXiv:2210.03615) | **The three-dimensional structure of Galactic molecular cloud complexes  out to 2.5 kpc**  |\n",
       "|| <mark>T. E. Dharmawardena</mark>, et al. -- incl., <mark>C.A.L. Bailer-Jones</mark>, <mark>M. Fouesneau</mark>, <mark>T. Müller</mark>, <mark>J. Henshaw</mark> |\n",
       "|*Appeared on*| *2022-10-10*|\n",
       "|*Comments*| *accepted for publication by MNRAS, 23 pages, 9 figures, 3 tables*|\n",
       "|**Abstract**| Knowledge of the three-dimensional structure of Galactic molecular clouds is important for understanding how clouds are affected by processes such as turbulence and magnetic fields and how this structure effects star formation within them. Great progress has been made in this field with the arrival of the Gaia mission, which provides accurate distances to $\\sim10^{9}$ stars. Combining these distances with extinctions inferred from optical-IR, we recover the three-dimensional structure of 16 Galactic molecular cloud complexes at $\\sim1$pc resolution using our novel three-dimensional dust mapping algorithm \\texttt{Dustribution}. Using \\texttt{astrodendro} we derive a catalogue of physical parameters for each complex. We recover structures with aspect ratios between 1 and 11, i.e.\\ everything from near-spherical to very elongated shapes. We find a large variation in cloud environments that is not apparent when studying them in two-dimensions. For example, the nearby California and Orion A clouds look similar on-sky, but we find California to be more sheet-like, and massive, which could explain their different star-formation rates. In Carina, our most distant complex, we observe evidence for dust sputtering, which explains its measured low dust mass. By calculating the total mass of these individual clouds, we demonstrate that it is necessary to define cloud boundaries in three-dimensions in order to obtain an accurate mass; simply integrating the extinction overestimates masses. We find that Larson's relationship on mass vs radius holds true whether you assume a spherical shape for the cloud or take their true extents. |"
      ],
      "text/plain": [
       "[arXiv:2210.03615] The three-dimensional structure of Galactic molecular cloud complexes  out to 2.5 kpc\n",
       "\t<mark>T. E. Dharmawardena</mark>, et al. -- incl., <mark>C.A.L. Bailer-Jones</mark>, <mark>M. Fouesneau</mark>, <mark>T. Müller</mark>, <mark>J. Henshaw</mark>"
      ]
     },
     "metadata": {},
     "output_type": "display_data"
    },
    {
     "data": {
      "text/markdown": [
       "## Failed papers"
      ],
      "text/plain": [
       "<IPython.core.display.Markdown object>"
      ]
     },
     "metadata": {},
     "output_type": "display_data"
    },
    {
     "data": {
      "text/markdown": [
       "\n",
       "|||\n",
       "|---:|:---|\n",
       "| [![arXiv](https://img.shields.io/badge/arXiv-arXiv:2210.03509-b31b1b.svg)](https://arxiv.org/abs/arXiv:2210.03509) | **The impact of environment on the lives of disk galaxies as revealed by  SDSS-IV MaNGA**  |\n",
       "|| Shuang Zhou, et al. -- incl., <mark>Joel R. Brownstein</mark> |\n",
       "|*Appeared on*| *2022-10-10*|\n",
       "|*Comments*| *9 pages, 3 figures, MNRAS accepted*|\n",
       "|**Abstract**| Environment has long been known to have significant impact on the evolution of galaxies, but here we seek to quantify the subtler differences that might be found in disk galaxies, depending on whether they are isolated, the most massive galaxy in a group (centrals), or a lesser member (satellites). The MaNGA survey allows us to define a large mass-matched sample of 574 galaxies with high-quality integrated spectra in each category. Initial examination of their spectral indices indicates significant differences, particularly in low-mass galaxies. Semi-analytic spectral fitting of a full chemical evolution model to these spectra confirms these differences, with low-mass satellites having a shorter period of star formation and chemical enrichment typical of a closed box, while central galaxies have more extended histories, with evidence of on-going gas accretion over their lifetimes. The derived parameters for gas infall timescale and wind strength suggest that low-mass satellite galaxies have their hot halos of gas effectively removed, while central galaxies retain a larger fraction of gas than isolated galaxies due to the deeper group potential well in which they sit. S0 galaxies form a distinct subset within the sample, particularly at higher masses, but do not bias the inferred lower-mass environmental impact significantly. The consistent picture that emerges underlines the wealth of archaeological information that can be extracted from high-quality spectral data using techniques like semi-analytic spectral fitting. |\n",
       "|<p style=\"color:green\"> **ERROR** </p>| <p style=\"color:green\">affiliation error: mpia.affiliation_verifications: '69117' keyword not found.</p> |"
      ],
      "text/plain": [
       "<IPython.core.display.Markdown object>"
      ]
     },
     "metadata": {},
     "output_type": "display_data"
    },
    {
     "data": {
      "text/markdown": [
       "\n",
       "|||\n",
       "|---:|:---|\n",
       "| [![arXiv](https://img.shields.io/badge/arXiv-arXiv:2210.03130-b31b1b.svg)](https://arxiv.org/abs/arXiv:2210.03130) | **Mapping Variations of Redshift Distributions with Probability Integral  Transforms**  |\n",
       "|| J. Myles, et al. -- incl., <mark>I. Harrison</mark>, <mark>J. J. Mohr</mark> |\n",
       "|*Appeared on*| *2022-10-10*|\n",
       "|*Comments*| **|\n",
       "|**Abstract**| We present a method for mapping variations between probability distribution functions and apply this method within the context of measuring galaxy redshift distributions from imaging survey data. This method, which we name PITPZ for the probability integral transformations it relies on, uses a difference in curves between distribution functions in an ensemble as a transformation to apply to another distribution function, thus transferring the variation in the ensemble to the latter distribution function. This procedure is broadly applicable to the problem of uncertainty propagation. In the context of redshift distributions, for example, the uncertainty contribution due to certain effects can be studied effectively only in simulations, thus necessitating a transfer of variation measured in simulations to the redshift distributions measured from data. We illustrate the use of PITPZ by using the method to propagate photometric calibration uncertainty to redshift distributions of the Dark Energy Survey Year 3 weak lensing source galaxies. For this test case, we find that PITPZ yields a lensing amplitude uncertainty estimate due to photometric calibration error within 1 per cent of the truth, compared to as much as a 30 per cent underestimate when using traditional methods. |\n",
       "|<p style=\"color:green\"> **ERROR** </p>| <p style=\"color:green\">affiliation error: mpia.affiliation_verifications: 'Heidelberg' keyword not found.</p> |"
      ],
      "text/plain": [
       "<IPython.core.display.Markdown object>"
      ]
     },
     "metadata": {},
     "output_type": "display_data"
    },
    {
     "data": {
      "text/markdown": [
       "\n",
       "|||\n",
       "|---:|:---|\n",
       "| [![arXiv](https://img.shields.io/badge/arXiv-arXiv:2210.03132-b31b1b.svg)](https://arxiv.org/abs/arXiv:2210.03132) | **Measuring properties of primordial black hole mergers at cosmological  distances: effect of higher order modes in gravitational waves**  |\n",
       "|| Ken K. Y. Ng, et al. -- incl., <mark>Michele Maggiore</mark> |\n",
       "|*Appeared on*| *2022-10-10*|\n",
       "|*Comments*| *11 pages, 11 figures*|\n",
       "|**Abstract**| Primordial black holes (PBHs) may form from the collapse of matter overdensities shortly after the Big Bang. One may identify their existence by observing gravitational wave (GW) emissions from merging PBH binaries at high redshifts $z\\gtrsim 30$, where astrophysical binary black holes (BBHs) are unlikely to merge. The next-generation ground-based GW detectors, Cosmic Explorer and Einstein Telescope, will be able to observe BBHs with total masses of $\\mathcal{O}(10-100)~M_{\\odot}$ at such redshifts. This paper serves as a companion paper of arXiv:2108.07276, focusing on the effect of higher-order modes (HoMs) in the waveform modeling, which may be detectable for these high redshift BBHs, on the estimation of source parameters. We perform Bayesian parameter estimation to obtain the measurement uncertainties with and without HoM modeling in the waveform for sources with different total masses, mass ratios, orbital inclinations and redshifts observed by a network of next-generation GW detectors. We show that including HoMs in the waveform model reduces the uncertainties of redshifts and masses by up to a factor of two, depending on the exact source parameters. We then discuss the implications for identifying PBHs with the improved single-event measurements, and expand the investigation of the model dependence of the relative abundance between the BBH mergers originating from the first stars and the primordial BBH mergers as shown in arXiv:2108.07276. |\n",
       "|<p style=\"color:green\"> **ERROR** </p>| <p style=\"color:green\">affiliation error: mpia.affiliation_verifications: 'Heidelberg' keyword not found.</p> |"
      ],
      "text/plain": [
       "<IPython.core.display.Markdown object>"
      ]
     },
     "metadata": {},
     "output_type": "display_data"
    },
    {
     "data": {
      "text/markdown": [
       "\n",
       "|||\n",
       "|---:|:---|\n",
       "| [![arXiv](https://img.shields.io/badge/arXiv-arXiv:2210.03133-b31b1b.svg)](https://arxiv.org/abs/arXiv:2210.03133) | **Abundance and temperature of the outer hot circum-Galactic medium: The  SRG/eROSITA view of the soft X-ray background in the eFEDS field**  |\n",
       "|| G. Ponti, et al. -- incl., <mark>Y. Zhang</mark> |\n",
       "|*Appeared on*| *2022-10-10*|\n",
       "|*Comments*| *Accepted for publication in Astronomy and Astrophysics*|\n",
       "|**Abstract**| Despite their vital importance to understand galaxy evolution and our own Galactic ecosystem, our knowledge of the physical properties of the hot phase of the Milky Way is still inadequate. However, sensitive SRG/eROSITA large area surveys are now providing us with the long sought-after data needed to mend this state of affairs. We present the properties of the soft X-ray emission as observed by eROSITA in the eFEDS field. We measure the temperature and metal abundance of the hot circum-Galactic medium (CGM) to be within $kT_{CGM}=0.153-0.178$ keV and $Z_{CGM}=0.052-0.072$ $Z_\\odot$, depending on the contribution of solar wind charge exchange (SWCX). Slightly larger CGM abundances $Z_{CGM}=0.05-0.10$ $Z_\\odot$ are possible, considering the uncertain extrapolation of the extragalactic Cosmic X-ray background (CXB) emission below $\\sim1$ keV. To recover CGM abundances as large as $Z_{CGM}=0.3$ $Z_\\odot$, it must be postulated the presence of an additional component, likely associated with the warm-hot intergalactic medium, providing $\\sim15-20$% of the flux in the soft X-ray band. The emission in the soft band is dominated by the CGM, with contributions from the CXB and the local hot bubble. Moreover, the eROSITA data require the presence of an additional component associated with the elusive Galactic corona plus a possible contribution from unresolved M dwarf stars. This component has a temperature of $kT\\sim0.4-0.7$ keV and it might be out of thermal equilibrium. It contributes $\\sim9$% to the total emission in the 0.6--2 keV band, therefore it is a likely candidate to produce part of the unresolved CXB flux observed in X-ray ultra-deep fields. We also observe a significant contribution to the soft X-ray flux due to SWCX, during periods characterised by stronger solar wind activity, and causing the largest uncertainty on the determination of the CGM temperature. |\n",
       "|<p style=\"color:green\"> **ERROR** </p>| <p style=\"color:green\">affiliation error: mpia.affiliation_verifications: 'Heidelberg' keyword not found.</p> |"
      ],
      "text/plain": [
       "<IPython.core.display.Markdown object>"
      ]
     },
     "metadata": {},
     "output_type": "display_data"
    },
    {
     "data": {
      "text/markdown": [
       "\n",
       "|||\n",
       "|---:|:---|\n",
       "| [![arXiv](https://img.shields.io/badge/arXiv-arXiv:2210.03135-b31b1b.svg)](https://arxiv.org/abs/arXiv:2210.03135) | **The hidden side of cosmic star formation at z > 3: Bridging  optically-dark and Lyman break galaxies with GOODS-ALMA**  |\n",
       "|| Mengyuan Xiao, et al. -- incl., <mark>Henry C. Ferguson</mark>, <mark>Corentin Schreiber</mark> |\n",
       "|*Appeared on*| *2022-10-10*|\n",
       "|*Comments*| *26 pages, 14 figures, 8 tables. Submitted to A&A*|\n",
       "|**Abstract**| Our current understanding of the cosmic star formation history at z>3 is primarily based on UV-selected galaxies (i.e., LBGs). Recent studies of H-dropouts revealed that we may be missing a large amount of star formation taking place in massive galaxies at z>3. In this work, we extend the H-dropout criterion to lower masses to select optically-dark/faint galaxies (OFGs), in order to complete the census between LBGs and H-dropouts. Our criterion (H> 26.5 mag & [4.5] < 25 mag), combined with a de-blending technique, is designed to select not only extremely dust-obscured massive galaxies but also normal star-forming galaxies. In total, we identify 27 OFGs at z_phot > 3 (z_med=4.1) in the GOODS-ALMA field, covering a wide distribution of stellar masses with log($M_{\\star}$/$M_{\\odot}$) = 9.4-11.1. We find that up to 75% of the OFGs with log($M_{\\star}$/$M_{\\odot}$) = 9.5-10.5 are neglected by previous LBGs and H-dropout selection techniques. After performing stacking analysis, the OFGs exhibit shorter gas depletion timescales, slightly lower gas fractions, and lower dust temperatures than typical star-forming galaxies. Their SFR_tot (SFR_ IR+SFR_UV) is much larger than SFR_UVcorr (corrected for dust extinction), with SFR_tot/SFR_UVcorr = $8\\pm1$, suggesting the presence of hidden dust regions in the OFGs that absorb all UV photons. The average dust size measured by a circular Gaussian model fit is R_e(1.13 mm)=1.01$\\pm$0.05 kpc. We find that the cosmic SFRD at z>3 contributed by massive OFGs is at least two orders of magnitude higher than the one contributed by equivalently massive LBGs. Finally, we calculate the combined contribution of OFGs and LBGs to the cosmic SFRD at z=4-5 to be 4 $\\times$ 10$^{-2}$ $M_{\\odot}$ yr$^{-1}$Mpc$^{-3}$, which is about 0.15 dex (43%) higher than the SFRD derived from UV-selected samples alone at the same redshift. |\n",
       "|<p style=\"color:green\"> **ERROR** </p>| <p style=\"color:green\">affiliation error: mpia.affiliation_verifications: 'Heidelberg' keyword not found.</p> |"
      ],
      "text/plain": [
       "<IPython.core.display.Markdown object>"
      ]
     },
     "metadata": {},
     "output_type": "display_data"
    },
    {
     "data": {
      "text/markdown": [
       "\n",
       "|||\n",
       "|---:|:---|\n",
       "| [![arXiv](https://img.shields.io/badge/arXiv-arXiv:2210.03194-b31b1b.svg)](https://arxiv.org/abs/arXiv:2210.03194) | **Observations of 4U 1626-67 with the Imaging X-ray Polarimetry Explorer**  |\n",
       "|| <mark>Herman L. Marshall</mark>, et al. -- incl., <mark>Jeremy Heyl</mark> |\n",
       "|*Appeared on*| *2022-10-10*|\n",
       "|*Comments*| *19 pages, 7 figures, 7 tables; accepted for publication in the Astrophysical Journal*|\n",
       "|**Abstract**| We present measurements of the polarization of X-rays in the 2-8 keV band from the pulsar in the ultracompact low mass X-ray binary 4U1626-67 using data from the Imaging X-ray Polarimetry Explorer (IXPE). The 7.66 s pulsations were clearly detected throughout the IXPE observations as well as in the NICER soft X-ray observations, which we use as the basis for our timing analysis and to constrain the spectral shape over 0.4-10 keV energy band. Chandra HETGS high-resolution X-ray spectra were also obtained near the times of the IXPE observations for firm spectral modeling. We find an upper limit on the pulse-averaged linear polarization of <4% (at 95% confidence). Similarly, there was no significant detection of polarized flux in pulse phase intervals when subdividing the bandpass by energy. However, spectropolarimetric modeling over the full bandpass in pulse phase intervals provide a marginal detection of polarization of the power-law spectral component at the 4.8 +/- 2.3% level (90% confidence). We discuss the implications concerning the accretion geometry onto the pulsar, favoring two-component models of the pulsed emission. |\n",
       "|<p style=\"color:green\"> **ERROR** </p>| <p style=\"color:green\">affiliation error: mpia.affiliation_verifications: 'Heidelberg' keyword not found.</p> |"
      ],
      "text/plain": [
       "<IPython.core.display.Markdown object>"
      ]
     },
     "metadata": {},
     "output_type": "display_data"
    },
    {
     "data": {
      "text/markdown": [
       "\n",
       "|||\n",
       "|---:|:---|\n",
       "| [![arXiv](https://img.shields.io/badge/arXiv-arXiv:2210.03203-b31b1b.svg)](https://arxiv.org/abs/arXiv:2210.03203) | **The Aemulus Project VI: Emulation of beyond-standard galaxy clustering  statistics to improve cosmological constraints**  |\n",
       "|| Kate Storey-Fisher, et al. -- incl., <mark>Zhongxu Zhai</mark>, <mark>Joseph DeRose</mark> |\n",
       "|*Appeared on*| *2022-10-10*|\n",
       "|*Comments*| *Submitted to the Astrophysical Journal; comments welcome*|\n",
       "|**Abstract**| There is untapped cosmological information in galaxy redshift surveys in the non-linear regime. In this work, we use the AEMULUS suite of cosmological $N$-body simulations to construct Gaussian process emulators of galaxy clustering statistics at small scales ($0.1-50 \\: h^{-1}\\,\\mathrm{Mpc}$) in order to constrain cosmological and galaxy bias parameters. In addition to standard statistics -- the projected correlation function $w_\\mathrm{p}(r_\\mathrm{p})$, the redshift-space monopole of the correlation function $\\xi_0(s)$, and the quadrupole $\\xi_2(s)$ -- we emulate statistics that include information about the local environment, namely the underdensity probability function $P_\\mathrm{U}(s)$ and the density-marked correlation function $M(s)$. This extends the model of AEMULUS III for redshift-space distortions by including new statistics sensitive to galaxy assembly bias. In recovery tests, we find that the beyond-standard statistics significantly increase the constraining power on cosmological parameters of interest: including $P_\\mathrm{U}(s)$ and $M(s)$ improves the precision of our constraints on $\\sigma_8$ by 33%, $\\Omega_m$ by 28%, and the growth of structure parameter, $f \\sigma_8$, by 18% compared to standard statistics. We additionally find that scales below $4 \\: h^{-1}\\,\\mathrm{Mpc}$ contain as much information as larger scales. The density-sensitive statistics also contribute to constraining halo occupation distribution parameters and a flexible environment-dependent assembly bias model, which is important for extracting the small-scale cosmological information as well as understanding the galaxy-halo connection. This analysis demonstrates the potential of emulating beyond-standard clustering statistics at small scales to constrain the growth of structure as a test of cosmic acceleration. Our emulator is publicly available at https://github.com/kstoreyf/aemulator. |\n",
       "|<p style=\"color:green\"> **ERROR** </p>| <p style=\"color:green\">affiliation error: mpia.affiliation_verifications: 'Heidelberg' keyword not found.</p> |"
      ],
      "text/plain": [
       "<IPython.core.display.Markdown object>"
      ]
     },
     "metadata": {},
     "output_type": "display_data"
    },
    {
     "data": {
      "text/markdown": [
       "\n",
       "|||\n",
       "|---:|:---|\n",
       "| [![arXiv](https://img.shields.io/badge/arXiv-arXiv:2210.03272-b31b1b.svg)](https://arxiv.org/abs/arXiv:2210.03272) | **A Fast Transient Backend to Detect FRBs with the Tianlai Dish Pathfinder  Array**  |\n",
       "|| Zijie Yu, et al. -- incl., <mark>Jixia Li</mark>, <mark>Lin Shu</mark> |\n",
       "|*Appeared on*| *2022-10-10*|\n",
       "|*Comments*| *16 pages, 14 figures, RAA accepted*|\n",
       "|**Abstract**| The Tianlai Dish Pathfinder array is a radio interferometer array consisting of 16 six meter dish antennas. The original digital backend integration time is at the seconds level, designed for HI intensity mapping experiment. A new digital backend with millisecond response is added to enable it to search for fast radio burst (FRB) during its observations. The design and calibration of this backend, and the real time search pipeline for it are described in this paper. It is capable of forming 16 digital beams for each linear polarisation, covering an area of 19.6 square degrees. The search pipeline is capable of searching for, recording and classifying FRBs automatically in real time. In commissioning, we succeeded in capturing the signal pulses from the pulsars PSR B0329+54 and B2021+51. |\n",
       "|<p style=\"color:green\"> **ERROR** </p>| <p style=\"color:green\">affiliation error: mpia.affiliation_verifications: 'Heidelberg' keyword not found.</p> |"
      ],
      "text/plain": [
       "<IPython.core.display.Markdown object>"
      ]
     },
     "metadata": {},
     "output_type": "display_data"
    },
    {
     "data": {
      "text/markdown": [
       "\n",
       "|||\n",
       "|---:|:---|\n",
       "| [![arXiv](https://img.shields.io/badge/arXiv-arXiv:2210.03322-b31b1b.svg)](https://arxiv.org/abs/arXiv:2210.03322) | **The Instantaneous Redshift Difference of Gravitationally Lensed Images:  Theory and Observational Prospects**  |\n",
       "|| Chengyi Wang, Krzysztof Bolejko, <mark>Geraint F. Lewis</mark> |\n",
       "|*Appeared on*| *2022-10-10*|\n",
       "|*Comments*| *6 pages, 5 figures*|\n",
       "|**Abstract**| Due to the expansion of our Universe, the redshift of distant objects changes with time. Although the amplitude of this redshift drift is small, it will be measurable with a decade-long campaigns on the next generation of telescopes. Here we present an alternative view of the redshift drift which captures the expansion of the universe in single epoch observations of the multiple images of gravitationally lensed sources. Considering a sufficiently massive lens, with an associated time delay of order decades, simultaneous photons arriving at a detector would have been emitted decades earlier in one image compared to another, leading to an instantaneous redshift difference between the images. We also investigate the effect of peculiar velocities on the redshift difference in the observed images. Whilst still requiring the observational power of the next generation of telescopes and instruments, the advantage of such a single epoch detection over other redshift drift measurements is that it will be less susceptible to systematic effects that result from requiring instrument stability over decade-long campaigns. |\n",
       "|<p style=\"color:green\"> **ERROR** </p>| <p style=\"color:green\">affiliation error: mpia.affiliation_verifications: 'Heidelberg' keyword not found.</p> |"
      ],
      "text/plain": [
       "<IPython.core.display.Markdown object>"
      ]
     },
     "metadata": {},
     "output_type": "display_data"
    },
    {
     "data": {
      "text/markdown": [
       "\n",
       "|||\n",
       "|---:|:---|\n",
       "| [![arXiv](https://img.shields.io/badge/arXiv-arXiv:2210.03364-b31b1b.svg)](https://arxiv.org/abs/arXiv:2210.03364) | **Soft X-ray Spectral Diagnostics of Multi-thermal Plasma in Solar Flares  with Chandrayaan-2 XSM**  |\n",
       "|| N. P. S. Mithun, et al. -- incl., <mark>Helen E. Mason</mark> |\n",
       "|*Appeared on*| *2022-10-10*|\n",
       "|*Comments*| *Accepted for publication in ApJ*|\n",
       "|**Abstract**| Spectroscopic observations in X-ray wavelengths provide excellent diagnostics of the temperature distribution in solar flare plasma. The Solar X-ray Monitor (XSM) onboard the Chandrayaan-2 mission provides broad-band disk integrated soft X-ray solar spectral measurements in the energy range of 1-15 keV with high spectral resolution and time cadence. In this study, we analyse X-ray spectra of three representative GOES C-class flares obtained with the XSM to investigate the evolution of various plasma parameters during the course of the flares. Using the soft X-ray spectra consisting of the continuum and well-resolved line complexes of major elements like Mg, Si, and Fe, we investigate the validity of the isothermal and multi-thermal assumptions on the high temperature components of the flaring plasma. We show that the soft X-ray spectra during the impulsive phase of the high intensity flares are inconsistent with isothermal models and are best fitted with double peaked differential emission measure distributions where the temperature of the hotter component rises faster than that of the cooler component. The two distinct temperature components observed in DEM models during the impulsive phase of the flares suggest the presence of the directly heated plasma in the corona and evaporated plasma from the chromospheric footpoints. We also find that the abundances of low FIP elements Mg, Si, and Fe reduces from near coronal to near photospheric values during the rising phase of the flare and recovers back to coronal values during decay phase, which is also consistent with the chromospheric evaporation scenario. |\n",
       "|<p style=\"color:green\"> **ERROR** </p>| <p style=\"color:green\">affiliation error: mpia.affiliation_verifications: 'Heidelberg' keyword not found.</p> |"
      ],
      "text/plain": [
       "<IPython.core.display.Markdown object>"
      ]
     },
     "metadata": {},
     "output_type": "display_data"
    },
    {
     "data": {
      "text/markdown": [
       "\n",
       "|||\n",
       "|---:|:---|\n",
       "| [![arXiv](https://img.shields.io/badge/arXiv-arXiv:2210.03390-b31b1b.svg)](https://arxiv.org/abs/arXiv:2210.03390) | **A Milliarcsecond Accurate Position for Sagittarius A***  |\n",
       "|| Shuangjing Xu, et al. -- incl., <mark>Bo Zhang</mark> |\n",
       "|*Appeared on*| *2022-10-10*|\n",
       "|*Comments*| *9 pages, 2 figures, accepted by ApJ*|\n",
       "|**Abstract**| The absolute position of Sgr A*, the compact radio source at the center of the Milky Way, had been uncertain by several tens of milliarcseconds. Here we report improved astrometric measurements of the absolute position and proper motion of Sgr A*. Three epochs of phase-referencing observations were conducted with the VLBA for Sgr A* at 22 and 43 GHz in 2019 and 2020. Using extragalactic radio sources with sub-milliarcsecond accurate positions as reference, we determined the absolute position of Sgr A* at a reference epoch 2020.0 to be at $\\alpha$(J2000) = $17^{\\rm h} 45^{\\rm m}40.^{\\rm s}032863~\\pm~0.^{\\rm s}000016$ and $\\delta$(J2000) = $-29^{\\circ} 00^{\\prime} 28.^{''}24260~\\pm~0.^{''}00047$, with an updated proper motion $-3.152~\\pm~0.011$ and $-5.586~\\pm~0.006$ mas yr$^{-1}$ in the easterly and northerly directions, respectively. |\n",
       "|<p style=\"color:green\"> **ERROR** </p>| <p style=\"color:green\">affiliation error: mpia.affiliation_verifications: 'Heidelberg' keyword not found.</p> |"
      ],
      "text/plain": [
       "<IPython.core.display.Markdown object>"
      ]
     },
     "metadata": {},
     "output_type": "display_data"
    },
    {
     "data": {
      "text/markdown": [
       "\n",
       "|||\n",
       "|---:|:---|\n",
       "| [![arXiv](https://img.shields.io/badge/arXiv-arXiv:2210.03434-b31b1b.svg)](https://arxiv.org/abs/arXiv:2210.03434) | **Optical Polarimetry of the May 2022 Lunar Eclipse**  |\n",
       "|| Iain A Steele, et al. -- incl., <mark>Klaas Wiersema</mark> |\n",
       "|*Appeared on*| *2022-10-10*|\n",
       "|*Comments*| *Accepted for publication in MNRAS*|\n",
       "|**Abstract**| The sunlight reflected from the Moon during a total lunar eclipse has been transmitted through the Earth's atmosphere on the way to the Moon. The combination of multiple scattering and inhomogeneous atmospheric characteristics during that transmission can potentially polarize that light. A similar (although much smaller) effect should also be observable from the atmosphere of a transiting exoplanet. We present the results of polarization observations during the first 15 minutes of totality of the lunar eclipse of 2022 May 16. We find degrees of polarization of 2.1 +/- 0.4 per cent in B, 1.2 +/- 0.3 per cent in V, 0.5 +/- 0.2 per cent in R and 0.2 +/- 0.2 per cent in I. Our polarization values lie in the middle of the range of those reported for previous eclipses, providing further evidence that the induced polarization can change from event to event. We found no significant polarization difference (<0.02 per cent) between a region of dark Mare and nearby bright uplands or between the lunar limb and regions closer to the disk centre due to the different angle of incidence. This further strengthens the interpretation of the polarization's origin being due to scattering in the Earth's atmosphere rather than by the lunar regolith. |\n",
       "|<p style=\"color:green\"> **ERROR** </p>| <p style=\"color:green\">affiliation error: mpia.affiliation_verifications: 'Heidelberg' keyword not found.</p> |"
      ],
      "text/plain": [
       "<IPython.core.display.Markdown object>"
      ]
     },
     "metadata": {},
     "output_type": "display_data"
    },
    {
     "data": {
      "text/markdown": [
       "\n",
       "|||\n",
       "|---:|:---|\n",
       "| [![arXiv](https://img.shields.io/badge/arXiv-arXiv:2210.03464-b31b1b.svg)](https://arxiv.org/abs/arXiv:2210.03464) | **Relativistic effects in a mildly recycled pulsar binary: PSR J1952+2630**  |\n",
       "|| T. Gautam, et al. -- incl., <mark>M. Kramer</mark> |\n",
       "|*Appeared on*| *2022-10-10*|\n",
       "|*Comments*| *14 pages, 9 figures, 4 tables. Accepted for publication in Astronomy & Astrophysics*|\n",
       "|**Abstract**| We report the results of timing observations of PSR J1952+2630, a 20.7 ms pulsar in orbit with a massive white dwarf companion. With the increased timing baseline, we obtain improved estimates for astrometric, spin, and binary parameters for this system. We get an improvement of an order of magnitude on the proper motion, and, for the first time, we detect three post-Keplerian parameters in this system: the advance of periastron, the orbital decay, and the Shapiro delay. We constrain the pulsar mass to 1.20$^{+0.28}_{-0.29}\\rm M_{\\odot}$ and the mass of its companion to 0.97$^{+0.16}_{-0.13}\\rm M_{\\odot}$. The current value of $\\dot{P}_{\\rm b}$ is consistent with GR expectation for the masses obtained using $\\dot{\\omega}$ and $h_3$. The excess represents a limit on the emission of dipolar GWs from this system. This results in a limit on the difference in effective scalar couplings for the pulsar and companion (predicted by scalar-tensor theories of gravity; STTs) of $|\\alpha_{\\rm p}-\\alpha_{\\rm c}| < 4.8 \\times 10^{-3}$, which does not yield a competitive test for STTs. However, our simulations of future campaigns of this system show that by 2032, the precision of $\\dot{P}_{\\rm b}$ and $\\dot{\\omega}$ will allow for much more precise masses and much tighter constraints on the orbital decay contribution from dipolar GWs, resulting in $|\\alpha_{\\rm p}-\\alpha_{\\rm c}|<1.3 \\times 10^{-3}$. We also present the constraints this system will place on the $\\{\\alpha_0,\\beta_0\\}$ parameters of DEF gravity by 2032. They are comparable to those of PSR J1738+0333. Unlike PSR J1738+0333, PSR J1952+2630 will not be limited in its mass measurement and has the potential to place even more restrictive limits on DEF gravity in the future. Further improvements to this test will likely be limited by uncertainties in the kinematic contributions to $\\dot{P}_{\\rm b}$ due to lack of precise distance measurements. |\n",
       "|<p style=\"color:green\"> **ERROR** </p>| <p style=\"color:green\">affiliation error: mpia.affiliation_verifications: 'Heidelberg' keyword not found.</p> |"
      ],
      "text/plain": [
       "<IPython.core.display.Markdown object>"
      ]
     },
     "metadata": {},
     "output_type": "display_data"
    },
    {
     "data": {
      "text/markdown": [
       "\n",
       "|||\n",
       "|---:|:---|\n",
       "| [![arXiv](https://img.shields.io/badge/arXiv-arXiv:2210.03508-b31b1b.svg)](https://arxiv.org/abs/arXiv:2210.03508) | **Torus and polar dust dependence on AGN properties**  |\n",
       "|| I. García-Bernete, et al. -- incl., <mark>C. Ramos Almeida</mark>, <mark>A. Alonso-Herrero</mark> |\n",
       "|*Appeared on*| *2022-10-10*|\n",
       "|*Comments*| *Accepted for publication in A&A, 43 pages, 43 figures, 16 tables*|\n",
       "|**Abstract**| We present a statistical analysis of the properties of the obscuring material around active galactic nuclei (AGN). This study represents the first of its kind for an ultra-hard X-ray (14-195keV; Swift/BAT) volume-limited (DL<40 Mpc) sample of 24 Seyfert (Sy) galaxies (BCS40 sample) using high angular resolution infrared data and various torus models: smooth, clumpy and two-phase torus models and clumpy disc+wind models. We find that the smooth, clumpy and two-phase torus models (i.e. without including the polar dusty wind component) and disc+wind models provide best fits for a comparable number of galaxies, 8/24 (33.3%) and 9/24 (37.5%), respectively. We find that the best-fitted models depend on the hydrogen column density (NH), which is related to the X-ray (unobscured/obscured) and/or optical (Sy1/Sy2) classification. In particular, smooth, clumpy and two-phase torus models best reproduce the infrared (IR) emission of AGN with relatively high hydrogen column density (median value of log (NH)=23.5+-0.8; i.e. Sy2). However, clumpy disc+wind models provide the best fits to the nuclear IR spectral energy distributions (SEDs) of Sy1/1.8/1.9 (median value of log (NH)=21.0+-1.0), specifically in the near-IR (NIR) range. The success of the disc+wind models in fitting the NIR emission of Sy1 galaxies is due to the combination of adding large graphite grains to the dust composition and self-obscuration effects caused by the wind at intermediate inclinations. In general, we find that the Seyfert galaxies having unfavourable (favourable) conditions, i.e. nuclear hydrogen column density and Eddington ratio, for launching IR dusty polar outflows are best-fitted with smooth, clumpy and two-phase torus (disk+wind) models confirming the predictions from simulations. Therefore, our results indicate that the nature of the inner dusty structure in AGN depend on the intrinsic AGN properties. |\n",
       "|<p style=\"color:green\"> **ERROR** </p>| <p style=\"color:green\">affiliation error: mpia.affiliation_verifications: 'Heidelberg' keyword not found.</p> |"
      ],
      "text/plain": [
       "<IPython.core.display.Markdown object>"
      ]
     },
     "metadata": {},
     "output_type": "display_data"
    },
    {
     "data": {
      "text/markdown": [
       "\n",
       "|||\n",
       "|---:|:---|\n",
       "| [![arXiv](https://img.shields.io/badge/arXiv-arXiv:2210.03584-b31b1b.svg)](https://arxiv.org/abs/arXiv:2210.03584) | **Investigating the [C$\\,{\\rm \\scriptsize II}$]-to-H$\\,{\\rm \\scriptsize  I}$ conversion factor and the H$\\,{\\rm \\scriptsize I}$ gas budget of galaxies  at $z\\approx 6$ with hydrodynamical simulations**  |\n",
       "|| David Vizgan, et al. -- incl., <mark>Kasper E. Heintz</mark> |\n",
       "|*Appeared on*| *2022-10-10*|\n",
       "|*Comments*| *7 pages, 3 figures. Accepted for publication by ApJL*|\n",
       "|**Abstract**| One of the most fundamental baryonic matter components of galaxies is the neutral atomic hydrogen (H$\\,{\\rm \\scriptsize I}$). At low redshifts, this component can be traced directly through the 21-cm transition, but to infer H$\\,{\\rm \\scriptsize I}$ gas content of the most distant galaxies, a viable tracer is needed. We here investigate the fidelity of the fine structure transition of the ($^2P_{3/2} - ^2P_{1/3}$) transition of singly-ionized carbon [C$\\,{\\rm \\scriptsize II}$] at $158\\,\\mu$m as a proxy for H$\\,{\\rm \\scriptsize I}$ in a set simulated galaxies at $z\\approx 6$, following the work by Heintz et al. (2021). We select 11,125 star-forming galaxies from the SIMBA simulations, with far-infrared line emissions post-processed and modeled within the SIGAME framework. We find a strong connection between [C$\\,{\\rm \\scriptsize II}$] and H$\\,{\\rm \\scriptsize I}$, with the relation between this [C$\\,{\\rm \\scriptsize II}$]-to-H$\\,{\\rm \\scriptsize I}$ relation ($\\beta_{\\rm [C\\,{\\rm \\scriptsize II}]}$) being anti-correlated with the gas-phase metallicity of the simulated galaxies. We further use these simulations to make predictions for the total baryonic matter content of galaxies at $z\\approx 6$, and specifically the HI gas mass fraction. We find mean values of $M_{\\rm HI}/M_\\star = 1.4$, and $M_{\\rm HI}/M_{\\rm bar,tot} = 0.45$. These results provide strong evidence for H$\\,{\\rm \\scriptsize I}$ being the dominant baryonic matter component by mass in galaxies at $z\\approx 6$. |\n",
       "|<p style=\"color:green\"> **ERROR** </p>| <p style=\"color:green\">affiliation error: mpia.affiliation_verifications: 'Heidelberg' keyword not found.</p> |"
      ],
      "text/plain": [
       "<IPython.core.display.Markdown object>"
      ]
     },
     "metadata": {},
     "output_type": "display_data"
    },
    {
     "data": {
      "text/markdown": [
       "\n",
       "|||\n",
       "|---:|:---|\n",
       "| [![arXiv](https://img.shields.io/badge/arXiv-arXiv:2210.03598-b31b1b.svg)](https://arxiv.org/abs/arXiv:2210.03598) | **Robust inference of neutron-star parameters from thermonuclear burst  observations**  |\n",
       "|| D. K. Galloway, Z. Johnston, A. J. Goodwin, <mark>C.-C. He</mark> |\n",
       "|*Appeared on*| *2022-10-10*|\n",
       "|*Comments*| *22 pages, 11 figures, 1 table & 1 machine-readable table as supplementary data; submitted to ApJS. Accompanying software package available at this https URL*|\n",
       "|**Abstract**| Thermonuclear (type-I) bursts arise from unstable ignition of accumulated fuel on the surface of neutron stars in low-mass X-ray binaries. Measurements of burst properties in principle enable observers to infer the properties of the host neutron star and mass donors, but a number of confounding astrophysical effects contribute to systematic uncertainties. Here we describe some commonly-used approaches for determining system parameters, including composition of the burst fuel, and introduce a new suite of software tools, concord, intended to fully account for astrophysical uncertainties. Comparison of observed burst properties with the predictions of numerical models is a complementary method of constraining host properties, and the tools presented here are intended to make comprehensive model-observation comparisons straightforward. When combined with the extensive samples of burst observations accumulated by X-ray observatories, these software tools will provide a step-change in the amount of information that can be inferred about typical burst sources. |\n",
       "|<p style=\"color:green\"> **ERROR** </p>| <p style=\"color:green\">affiliation error: mpia.affiliation_verifications: 'Heidelberg' keyword not found.</p> |"
      ],
      "text/plain": [
       "<IPython.core.display.Markdown object>"
      ]
     },
     "metadata": {},
     "output_type": "display_data"
    },
    {
     "data": {
      "text/markdown": [
       "\n",
       "|||\n",
       "|---:|:---|\n",
       "| [![arXiv](https://img.shields.io/badge/arXiv-arXiv:2210.03607-b31b1b.svg)](https://arxiv.org/abs/arXiv:2210.03607) | **FAST observations of an extremely active episode of FRB 20201124A: I.  Burst morphology**  |\n",
       "|| D. J. Zhou, et al. -- incl., <mark>B. Zhang</mark>, <mark>K. J. Lee</mark>, <mark>D. Li</mark>, <mark>Y. K. Zhang</mark>, <mark>C. F. Zhang</mark> |\n",
       "|*Appeared on*| *2022-10-10*|\n",
       "|*Comments*| *Accepted by Research in Astronomy and Astrophysics (RAA)*|\n",
       "|**Abstract**| We report the properties of more than 600 bursts (including cluster-bursts) detected from the repeating fast radio burst (FRB) source FRB 20201124A with the Five-hundred-meter Aperture Spherical radio Telescope (FAST) during an extremely active episode on UTC September 25-28, 2021, in a series of four papers. The observations were carried out in the band of 1.0 - 1.5 GHz by using the center beam of the L-band 19-beam receiver. We monitored the source in sixteen 1-hour sessions and one 3-hour session spanning 23 days. All the bursts were detected during the first four days. In this first paper of the series, we perform a detailed morphological study of 624 bursts using the 2-dimensional frequency-time ``waterfall'' plots, with a burst (or cluster-burst) defined as an emission episode during which the adjacent emission peaks have a separation shorter than 400 ms. The duration of a burst is therefore always longer than 1 ms, with the longest up to more than 120 ms. The emission spectra of the sub-bursts are typically narrow within the observing band with a characteristic width of $\\sim$277 MHz. The center frequency distribution has a dominant peak at about 1091.9 MHz and a secondary weak peak around 1327.9 MHz. Most bursts show a frequency-downward-drifting pattern. Based on the drifting patterns, we classify the bursts into five main categories: downward drifting (263) bursts, upward drifting (3) bursts, complex (203), no drifting (35) bursts, and no evidence for drifting (121) bursts. Subtypes are introduced based on the emission frequency range in the band (low, middle, high and wide) as well as the number of components in one burst (1, 2, or multiple). We measured a varying scintillation bandwidth from about 0.5 MHz at 1.0 GHz to 1.4 MHz at 1.5 GHz with a spectral index of 3.0. |\n",
       "|<p style=\"color:green\"> **ERROR** </p>| <p style=\"color:green\">affiliation error: mpia.affiliation_verifications: 'Heidelberg' keyword not found.</p> |"
      ],
      "text/plain": [
       "<IPython.core.display.Markdown object>"
      ]
     },
     "metadata": {},
     "output_type": "display_data"
    },
    {
     "data": {
      "text/markdown": [
       "\n",
       "|||\n",
       "|---:|:---|\n",
       "| [![arXiv](https://img.shields.io/badge/arXiv-arXiv:2210.03609-b31b1b.svg)](https://arxiv.org/abs/arXiv:2210.03609) | **FAST observations of an extremely active episode of FRB 20201124A: III.  Polarimetry**  |\n",
       "|| Jin-Chen Jiang, et al. -- incl., <mark>Heng Xu</mark>, <mark>Chun-Feng Zhang</mark>, <mark>Yong-Kun Zhang</mark>, <mark>Ke-Jia Lee</mark>, <mark>Bing Zhang</mark>, <mark>Jin-Lin Han</mark>, <mark>Di Li</mark>, <mark>Dong-Zi Li</mark>, <mark>Zong-Lin Yang</mark> |\n",
       "|*Appeared on*| *2022-10-10*|\n",
       "|*Comments*| *25 pages, 16 figures. Accepted by Research in Astronomy and Astrophysics (RAA)*|\n",
       "|**Abstract**| As the third paper in the multiple-part series, we report the statistical properties of radio bursts detected from the repeating fast radio burst (FRB) source FRB 20201124A with the Five-hundred-meter Aperture Spherical radio telescope (FAST) during an extremely active episode between the 25th and the 28th of September 2021 (UT). We focus on the polarisation properties of 536 bright bursts with $\\mathrm{S/N}>50$. We found that the Faraday rotation measures (RMs) monotonically dropped from $-579 \\ {\\rm rad \\ m^{-2}}$ to $-605 \\ {\\rm rad \\ m^{-2}}$ in the 4-day window. The RM values were compatible with the values ($-300$ to $-900\\ {\\rm rad \\ m^{-2}}$ ) reported 4 month ago (Xu et al. 2022). However, the RM evolution rate in the current observation window was at least an order of magnitude smaller than the one ($\\sim 500\\ {\\rm rad \\ m^{-2}\\, day^{-1}}$) previously reported during the rapid RM-variation phase, but is still higher than the one ($\\le 1\\ {\\rm rad \\ m^{-2} day^{-1}}$ ) during the later RM no-evolution phase. The bursts of FRB 20201124A were highly polarised with the total degree of polarisation (circular plus linear) greater than 90% for more than 90\\% of all bursts. The distribution of linear polarisation position angles (PAs), degree of linear polarisation ($L/I$), and degree of circular polarisation ($V/I$) can be characterised with unimodal distribution functions. During the observation window, the distributions became wider with time, i.e. with larger scatter, but the centroids of the distribution functions remained nearly constant. For individual bursts, significant PA variations (confidence level 5-$\\sigma$) were observed in 33% of all bursts. The polarisation of single pulses seems to follow certain complex trajectories on the Poincar\\'e sphere, which may shed light on the radiation mechanism at the source or the plasma properties along the path of FRB propagation. |\n",
       "|<p style=\"color:green\"> **ERROR** </p>| <p style=\"color:green\">affiliation error: mpia.affiliation_verifications: 'Heidelberg' keyword not found.</p> |"
      ],
      "text/plain": [
       "<IPython.core.display.Markdown object>"
      ]
     },
     "metadata": {},
     "output_type": "display_data"
    },
    {
     "data": {
      "text/markdown": [
       "\n",
       "|||\n",
       "|---:|:---|\n",
       "| [![arXiv](https://img.shields.io/badge/arXiv-arXiv:2210.03610-b31b1b.svg)](https://arxiv.org/abs/arXiv:2210.03610) | **FAST observations of an extremely active episode of FRB 20201124A: IV.  Spin Period Search**  |\n",
       "|| Jia-Rui Niu, et al. -- incl., <mark>Bing Zhang</mark>, <mark>Yong-Kun Zhang</mark>, <mark>Di Li</mark>, <mark>Ke-Jia Lee</mark>, <mark>Dong-Zi Li</mark>, <mark>Heng Xu</mark>, <mark>Chun-Feng Zhang</mark> |\n",
       "|*Appeared on*| *2022-10-10*|\n",
       "|*Comments*| *Accepted by Research in Astronomy and Astrophysics (RAA)*|\n",
       "|**Abstract**| We report the properties of more than 800 bursts detected from the repeating fast radio burst (FRB) source FRB 20201124A with the Five-hundred-meter Aperture Spherical radio telescope (FAST) during an extremely active episode on UTC September 25th-28th, 2021 in a series of four papers. In this fourth paper of the series, we present a systematic search of the spin period and linear acceleration of the source object from both 996 individual pulse peaks and the dedispersed time series. No credible spin period was found from this data set. We rule out the presence of significant periodicity in the range between 1 ms to 100 s with a pulse duty cycle $< 0.49\\pm0.08$ (when the profile is defined by a von-Mises function, not a boxcar function) and linear acceleration up to $300$ m s$^{-2}$ in each of the four one-hour observing sessions, and up to $0.6$ m s$^{-2}$ in all 4 days. These searches contest theoretical scenarios involving a 1 ms to 100 s isolated magnetar/pulsar with surface magnetic field $<10^{15}$ G and a small duty cycle (such as in a polar-cap emission mode) or a pulsar with a companion star or black hole up to 100 M$_{\\rm \\odot}$ and $P_b>10$ hours. We also perform a periodicity search of the fine structures and identify 53 unrelated millisecond-timescale \"periods\" in multi-components with the highest significance of 3.9 $\\sigma$. The \"periods\" recovered from the fine structures are neither consistent nor harmonically related. Thus they are not likely to come from a spin period. We caution against claiming spin periodicity with significance below $\\sim$ 4 $\\sigma$ with multi-components from one-off FRBs. We discuss the implications of our results and the possible connections between FRB multi-components and pulsar micro-structures. |\n",
       "|<p style=\"color:green\"> **ERROR** </p>| <p style=\"color:green\">affiliation error: mpia.affiliation_verifications: 'Heidelberg' keyword not found.</p> |"
      ],
      "text/plain": [
       "<IPython.core.display.Markdown object>"
      ]
     },
     "metadata": {},
     "output_type": "display_data"
    },
    {
     "data": {
      "text/markdown": [
       "\n",
       "|||\n",
       "|---:|:---|\n",
       "| [![arXiv](https://img.shields.io/badge/arXiv-arXiv:2210.03645-b31b1b.svg)](https://arxiv.org/abs/arXiv:2210.03645) | **FAST observations of an extremely active episode of FRB 20201124A: II.  Energy Distribution**  |\n",
       "|| <mark>Yong-Kun Zhang</mark>, et al. -- incl., <mark>Bing Zhang</mark>, <mark>Di Li</mark>, <mark>Ke-Jia Lee</mark>, <mark>Chun-Feng Zhang</mark>, <mark>Heng Xu</mark> |\n",
       "|*Appeared on*| *2022-10-10*|\n",
       "|*Comments*| *26 pages, 7 figures, accepted for publication in Research in Astronomy and Astrophysics*|\n",
       "|**Abstract**| We report the properties of more than 800 bursts detected from the repeating fast radio burst (FRB) source FRB 20201124A with the Five-hundred-meter Aperture Spherical radio Telescope (FAST) during an extremely active episode on UTC September 25-28, 2021 in a series of four papers. In this second paper of the series, we mainly focus on the energy distribution of the detected bursts. The event rate initially increased exponentially but the source activity stopped within 24 hours after the 4th day. The detection of 542 bursts in one hour during the fourth day marked the highest event rate detected from one single FRB source so far. The bursts have complex structures in the time-frequency space. We find a double-peak distribution of the waiting time, which can be modeled with two log-normal functions peaking at 51.22 ms and 10.05 s, respectively. Compared with the emission from a previous active episode of the source detected with FAST, the second distribution peak time is smaller, suggesting that this peak is defined by the activity level of the source. We calculate the isotropic energy of the bursts using both a partial bandwidth and a full bandwidth and find that the energy distribution is not significantly changed. We find that an exponentially connected broken-power-law function can fit the cumulative burst energy distribution well, with the lower and higher-energy indices being $-1.22\\pm0.01$ and $-4.27\\pm0.23$, respectively. Assuming a radio radiative efficiency of $\\eta_r = 10^{-4}$, the total isotropic energy of the bursts released during the four days when the source was active is already $3.9\\times10^{46}$ erg, exceeding $\\sim 23\\%$ of the available magnetar dipolar magnetic energy. This challenges the magnetar models invoking an inefficient radio emission (e.g. synchrotron maser models). |\n",
       "|<p style=\"color:green\"> **ERROR** </p>| <p style=\"color:green\">affiliation error: mpia.affiliation_verifications: 'Heidelberg' keyword not found.</p> |"
      ],
      "text/plain": [
       "<IPython.core.display.Markdown object>"
      ]
     },
     "metadata": {},
     "output_type": "display_data"
    },
    {
     "data": {
      "text/markdown": [
       "\n",
       "|||\n",
       "|---:|:---|\n",
       "| [![arXiv](https://img.shields.io/badge/arXiv-arXiv:2210.03684-b31b1b.svg)](https://arxiv.org/abs/arXiv:2210.03684) | **Galaxy Zoo: Clump Scout -- Design and first application of a  two-dimensional aggregation tool for citizen science**  |\n",
       "|| Hugh Dickinson, et al. -- incl., <mark>Chris Lintott</mark> |\n",
       "|*Appeared on*| *2022-10-10*|\n",
       "|*Comments*| *31 pages, 22 figures. Accepted for publication in Monthly Notices of the Royal Astronomical Society*|\n",
       "|**Abstract**| Galaxy Zoo: Clump Scout is a web-based citizen science project designed to identify and spatially locate giant star forming clumps in galaxies that were imaged by the Sloan Digital Sky Survey Legacy Survey. We present a statistically driven software framework that is designed to aggregate two-dimensional annotations of clump locations provided by multiple independent Galaxy Zoo: Clump Scout volunteers and generate a consensus label that identifies the locations of probable clumps within each galaxy. The statistical model our framework is based on allows us to assign false-positive probabilities to each of the clumps we identify, to estimate the skill levels of each of the volunteers who contribute to Galaxy Zoo: Clump Scout and also to quantitatively assess the reliability of the consensus labels that are derived for each subject. We apply our framework to a dataset containing 3,561,454 two-dimensional points, which constitute 1,739,259 annotations of 85,286 distinct subjects provided by 20,999 volunteers. Using this dataset, we identify 128,100 potential clumps distributed among 44,126 galaxies. This dataset can be used to study the prevalence and demographics of giant star forming clumps in low-redshift galaxies. The code for our aggregation software framework is publicly available at: https://github.com/ou-astrophysics/BoxAggregator |\n",
       "|<p style=\"color:green\"> **ERROR** </p>| <p style=\"color:green\">affiliation error: mpia.affiliation_verifications: 'Heidelberg' keyword not found.</p> |"
      ],
      "text/plain": [
       "<IPython.core.display.Markdown object>"
      ]
     },
     "metadata": {},
     "output_type": "display_data"
    },
    {
     "data": {
      "text/markdown": [
       "\n",
       "|||\n",
       "|---:|:---|\n",
       "| [![arXiv](https://img.shields.io/badge/arXiv-arXiv:2210.03705-b31b1b.svg)](https://arxiv.org/abs/arXiv:2210.03705) | **Searching for dilaton fields in the Ly$α$ forest**  |\n",
       "|| Louis Hamaide, <mark>Hendrik Müller</mark>, David J. E. Marsh |\n",
       "|*Appeared on*| *2022-10-10*|\n",
       "|*Comments*| *22 pages, 9 figures, 1 table*|\n",
       "|**Abstract**| Dilatons (and moduli) couple to the masses and coupling constants of ordinary matter, and these quantities are fixed by the local value of the dilaton field. If, in addition, the dilaton with mass $m_\\phi$ contributes to the cosmic dark matter density, then such quantities oscillate in time at the dilaton Compton frequency. We show how these oscillations lead to broadening and shifting of the Voigt profile of the Ly$\\alpha$ forest, in a manner that is correlated with the local dark matter density. We further show how tomographic methods allow the effect to be reconstructed by observing the Ly$\\alpha$ forest spectrum of distant quasars. We then simulate a large number of quasar lines of sight using the lognormal density field, and forecast the ability of future astronomical surveys to measure this effect. We find that in the ultra low mass range $10^{-32}\\text{ eV}\\leq m_\\phi\\leq 10^{-28}\\text{ eV}$ upcoming observations can improve over existing limits to the dilaton electron mass and fine structure constant couplings set by fifth force searches by up to five orders of magnitude. Our projected limits apply assuming that the ultralight dilaton makes up a few percent of the dark matter density, consistent with upper limits set by the cosmic microwave background anisotropies. |\n",
       "|<p style=\"color:green\"> **ERROR** </p>| <p style=\"color:green\">affiliation error: mpia.affiliation_verifications: 'Heidelberg' keyword not found.</p> |"
      ],
      "text/plain": [
       "<IPython.core.display.Markdown object>"
      ]
     },
     "metadata": {},
     "output_type": "display_data"
    },
    {
     "data": {
      "text/markdown": [
       "\n",
       "|||\n",
       "|---:|:---|\n",
       "| [![arXiv](https://img.shields.io/badge/arXiv-arXiv:2210.03721-b31b1b.svg)](https://arxiv.org/abs/arXiv:2210.03721) | **What does an interferometer really measure? Including instrument and  data characteristics in the reconstruction of the 21cm power spectrum**  |\n",
       "|| Adélie Gorce, et al. -- incl., <mark>Adrian Liu</mark>, <mark>Jacqueline N. Hewitt</mark> |\n",
       "|*Appeared on*| *2022-10-10*|\n",
       "|*Comments*| *18 pages, 18 figures, submitted to MNRAS. Comments welcome!*|\n",
       "|**Abstract**| Combining the visibilities measured by an interferometer to form a cosmological power spectrum is a complicated process in which the window functions play a crucial role. In a delay-based analysis, the mapping between instrumental space, made of per-baseline delay spectra, and cosmological space is not a one-to-one relation. Instead, neighbouring modes contribute to the power measured at one point, with their respective contributions encoded in the window functions. To better understand the power spectrum measured by an interferometer, we assess the impact of instrument characteristics and analysis choices on the estimator by deriving its exact window functions, outside of the delay approximation. Focusing on HERA as a case study, we find that observations made with long baselines tend to correspond to enhanced low-k tails of the window functions, which facilitate foreground leakage outside the wedge, whilst the choice of bandwidth and frequency taper can help narrow them down. With the help of simple test cases and more realistic visibility simulations, we show that, apart from tracing mode mixing, the window functions can accurately reconstruct the power spectrum estimator of simulated visibilities. We note that the window functions depend strongly on the chromaticity of the beam, and less on its spatial structure - a Gaussian approximation, ignoring side lobes, is sufficient. Finally, we investigate the potential of asymmetric window functions, down-weighting the contribution of low-k power to avoid foreground leakage. The window functions presented in this work correspond to the latest HERA upper limits for the full Phase I data. They allow an accurate reconstruction of the power spectrum measured by the instrument and can be used in future analyses to confront theoretical models and data directly in cylindrical space. |\n",
       "|<p style=\"color:green\"> **ERROR** </p>| <p style=\"color:green\">affiliation error: mpia.affiliation_verifications: 'Heidelberg' keyword not found.</p> |"
      ],
      "text/plain": [
       "<IPython.core.display.Markdown object>"
      ]
     },
     "metadata": {},
     "output_type": "display_data"
    },
    {
     "data": {
      "text/markdown": [
       "\n",
       "|||\n",
       "|---:|:---|\n",
       "| [![arXiv](https://img.shields.io/badge/arXiv-arXiv:2210.03215-b31b1b.svg)](https://arxiv.org/abs/arXiv:2210.03215) | **Characterization of LEO Satellites With All-Sky Photometric Signatures**  |\n",
       "|| <mark>Harrison Krantz</mark>, Eric C. Pearce, Adam Block |\n",
       "|*Appeared on*| *2022-10-10*|\n",
       "|*Comments*| *11 pages, 8 figures, Proceedings of the 2022 AMOS Conference*|\n",
       "|**Abstract**| We present novel techniques and methodology for unresolved photometric characterization of low-Earth Orbit (LEO) satellites. With the Pomenis LEO Satellite Photometric Survey our team has made over 14,000 observations of Starlink and OneWeb satellites to measure their apparent brightness. From the apparent brightness of each satellite, we calculate a new metric: the effective albedo, which quantifies the specularity of the reflecting satellite. Unlike stellar magnitude units, the effective albedo accounts for apparent range and phase angle and enables direct comparison of different satellites. Mapping the effective albedo from multiple observations across the sky produces an all-sky photometric signature which is distinct for each population of satellites, including the various sub-models of Starlink satellites. Space Situational Awareness (SSA) practitioners can use all-sky photometric signatures to differentiate populations of satellites, compare their reflection characteristics, identify unknown satellites, and find anomalous members. To test the efficacy of all-sky signatures for satellite identification, we applied a machine learning classifier algorithm which correctly identified the majority of satellites based solely on the effective albedo metric and with as few as one observation per individual satellite. Our new method of LEO satellite photometric characterization requires no prior knowledge of the satellite's properties and is readily scalable to large numbers of satellites such as those expected with developing communications mega-constellations. |\n",
       "|<p style=\"color:red\"> **ERROR** </p>| <p style=\"color:red\">latex error not a gzip file</p> |"
      ],
      "text/plain": [
       "<IPython.core.display.Markdown object>"
      ]
     },
     "metadata": {},
     "output_type": "display_data"
    }
   ],
   "source": [
    "import datetime\n",
    "today = str(datetime.date.today())\n",
    "logfile = f\"_build/html/logs/log-{today}.md\"\n",
    "\n",
    "\n",
    "with open(logfile, 'w') as logs:\n",
    "    # Success\n",
    "    logs.write(f'# Arxiv on Deck 2: Logs - {today}\\n\\n')\n",
    "    logs.write(\"\"\"* Arxiv had {0:,d} new papers\\n\"\"\".format(len(new_papers)))\n",
    "    logs.write(\"\"\"    * {0:,d} with possible author matches\\n\\n\"\"\".format(len(candidates)))\n",
    "    logs.write(\"## Sucessful papers\\n\\n\")\n",
    "    display(Markdown(\"## Successful papers\"))\n",
    "    success = [k[0] for k in documents]\n",
    "    for candid in candidates:\n",
    "        if candid['identifier'].split(':')[-1] in success:\n",
    "            display(candid)\n",
    "            logs.write(candid.generate_markdown_text() + '\\n\\n')\n",
    "\n",
    "    ## failed\n",
    "    logs.write(\"## Failed papers\\n\\n\")\n",
    "    display(Markdown(\"## Failed papers\"))\n",
    "    failed = sorted(failed, key=lambda x: x[1])\n",
    "    current_reason = \"\"\n",
    "    for paper, reason in failed:\n",
    "        if 'affiliation' in reason:\n",
    "            color = 'green'\n",
    "        else:\n",
    "            color = 'red'\n",
    "        data = Markdown(\n",
    "                paper.generate_markdown_text() + \n",
    "                f'\\n|<p style=\"color:{color:s}\"> **ERROR** </p>| <p style=\"color:{color:s}\">{reason:s}</p> |'\n",
    "               )\n",
    "        if reason != current_reason:\n",
    "            logs.write(f'### {reason:s} \\n\\n')\n",
    "            current_reason = reason\n",
    "        logs.write(data.data + '\\n\\n')\n",
    "        \n",
    "        # only display here the important errors (all in logs)\n",
    "        # if color in ('red',):\n",
    "        display(data)"
   ]
  },
  {
   "cell_type": "markdown",
   "id": "472d20ee",
   "metadata": {
    "papermill": {
     "duration": 0.012274,
     "end_time": "2022-10-10T05:19:36.906043",
     "exception": false,
     "start_time": "2022-10-10T05:19:36.893769",
     "status": "completed"
    },
    "tags": []
   },
   "source": [
    "## Export documents\n",
    "\n",
    "We now write the .md files and export relevant images"
   ]
  },
  {
   "cell_type": "code",
   "execution_count": 7,
   "id": "d426aed9",
   "metadata": {
    "execution": {
     "iopub.execute_input": "2022-10-10T05:19:36.930955Z",
     "iopub.status.busy": "2022-10-10T05:19:36.930460Z",
     "iopub.status.idle": "2022-10-10T05:19:36.939721Z",
     "shell.execute_reply": "2022-10-10T05:19:36.938868Z"
    },
    "papermill": {
     "duration": 0.024736,
     "end_time": "2022-10-10T05:19:36.941846",
     "exception": false,
     "start_time": "2022-10-10T05:19:36.917110",
     "status": "completed"
    },
    "tags": []
   },
   "outputs": [],
   "source": [
    "def export_markdown_summary(md: str, md_fname:str, directory: str):\n",
    "    \"\"\"Export MD document and associated relevant images\"\"\"\n",
    "    import os\n",
    "    import shutil\n",
    "    import re\n",
    "\n",
    "    if (os.path.exists(directory) and not os.path.isdir(directory)):\n",
    "        raise RuntimeError(f\"a non-directory file exists with name {directory:s}\")\n",
    "\n",
    "    if (not os.path.exists(directory)):\n",
    "        print(f\"creating directory {directory:s}\")\n",
    "        os.mkdir(directory)\n",
    "\n",
    "    fig_fnames = (re.compile(r'\\[Fig.*\\]\\((.*)\\)').findall(md) + \n",
    "                  re.compile(r'\\<img src=\"([^>\\s]*)\"[^>]*/>').findall(md))\n",
    "    for fname in fig_fnames:\n",
    "        if 'http' in fname:\n",
    "            # No need to copy online figures\n",
    "            continue\n",
    "        destdir = os.path.join(directory, os.path.dirname(fname))\n",
    "        destfname = os.path.join(destdir, os.path.basename(fname))\n",
    "        try:\n",
    "            os.makedirs(destdir)\n",
    "        except FileExistsError:\n",
    "            pass\n",
    "        shutil.copy(fname, destfname)\n",
    "    with open(os.path.join(directory, md_fname), 'w') as fout:\n",
    "        fout.write(md)\n",
    "    print(\"exported in \", os.path.join(directory, md_fname))\n",
    "    [print(\"    + \" + os.path.join(directory,fk)) for fk in fig_fnames]"
   ]
  },
  {
   "cell_type": "code",
   "execution_count": 8,
   "id": "014d04a4",
   "metadata": {
    "execution": {
     "iopub.execute_input": "2022-10-10T05:19:36.969321Z",
     "iopub.status.busy": "2022-10-10T05:19:36.968888Z",
     "iopub.status.idle": "2022-10-10T05:19:36.978494Z",
     "shell.execute_reply": "2022-10-10T05:19:36.977730Z"
    },
    "papermill": {
     "duration": 0.028352,
     "end_time": "2022-10-10T05:19:36.982187",
     "exception": false,
     "start_time": "2022-10-10T05:19:36.953835",
     "status": "completed"
    },
    "tags": []
   },
   "outputs": [
    {
     "name": "stdout",
     "output_type": "stream",
     "text": [
      "exported in  _build/html/2210.03615.md\n",
      "    + _build/html/tmp_2210.03615/./Figures/RegionParams/Plot_AllRegions_AllTrunksChildren_Mass_vs_Vol.png\n",
      "    + _build/html/tmp_2210.03615/./Figures/RegionParams/Plot_AllRegions_AllTrunksChildren_Mass_vs_SphericalRad.png\n",
      "    + _build/html/tmp_2210.03615/./Figures/RegionParams/Plot_AllRegions_AllTrunksChildren_Mass_vs_Xextent.png\n",
      "    + _build/html/tmp_2210.03615/./Figures/RegionParams/Plot_AllRegions_AllTrunksChildren_Mass_vs_FillFac.png\n",
      "    + _build/html/tmp_2210.03615/./Figures/Dense_LowCbar/Cas_GpyPredicted_DensitySlices_alongDist.png\n",
      "    + _build/html/tmp_2210.03615/./Figures/ThreeD_renders/mn_22_2305_mj_cassiopeia_sun.png\n",
      "    + _build/html/tmp_2210.03615/./Figures/ThreeD_renders/mn_22_2305_mj_cassiopeia_top.png\n",
      "    + _build/html/tmp_2210.03615/./Figures/Ext_Features/California_Ext_Cumulative_WithFeatures.png\n"
     ]
    }
   ],
   "source": [
    "for paper_id, md in documents:\n",
    "    export_markdown_summary(md, f\"{paper_id:s}.md\", '_build/html/')"
   ]
  },
  {
   "cell_type": "markdown",
   "id": "f087a0a7",
   "metadata": {
    "papermill": {
     "duration": 0.011885,
     "end_time": "2022-10-10T05:19:37.005742",
     "exception": false,
     "start_time": "2022-10-10T05:19:36.993857",
     "status": "completed"
    },
    "tags": []
   },
   "source": [
    "## Display the papers\n",
    "\n",
    "Not necessary but allows for a quick check."
   ]
  },
  {
   "cell_type": "code",
   "execution_count": 9,
   "id": "fd25f625",
   "metadata": {
    "execution": {
     "iopub.execute_input": "2022-10-10T05:19:37.030141Z",
     "iopub.status.busy": "2022-10-10T05:19:37.029282Z",
     "iopub.status.idle": "2022-10-10T05:19:37.035451Z",
     "shell.execute_reply": "2022-10-10T05:19:37.034643Z"
    },
    "papermill": {
     "duration": 0.02199,
     "end_time": "2022-10-10T05:19:37.038891",
     "exception": false,
     "start_time": "2022-10-10T05:19:37.016901",
     "status": "completed"
    },
    "scrolled": false,
    "tags": []
   },
   "outputs": [
    {
     "data": {
      "text/markdown": [
       "<div class=\"macros\" style=\"visibility:hidden;\">\n",
       "$\\newcommand{\\ensuremath}{}$\n",
       "$\\newcommand{\\xspace}{}$\n",
       "$\\newcommand{\\object}[1]{\\texttt{#1}}$\n",
       "$\\newcommand{\\farcs}{{.}''}$\n",
       "$\\newcommand{\\farcm}{{.}'}$\n",
       "$\\newcommand{\\arcsec}{''}$\n",
       "$\\newcommand{\\arcmin}{'}$\n",
       "$\\newcommand{\\ion}[2]{#1#2}$\n",
       "$\\newcommand{\\textsc}[1]{\\textrm{#1}}$\n",
       "$\\newcommand{\\hl}[1]{\\textrm{#1}}$\n",
       "$\\newcommand{\\thebibliography}{\\DeclareRobustCommand{\\VAN}[3]{##3}\\VANthebibliography}$</div>\n",
       "\n",
       "<div class=\"macros\" style=\"visibility:hidden;\">\n",
       "$\\newcommand{$\\ensuremath$}{}$\n",
       "$\\newcommand{$\\xspace$}{}$\n",
       "$\\newcommand{$\\object$}[1]{\\texttt{#1}}$\n",
       "$\\newcommand{$\\farcs$}{{.}''}$\n",
       "$\\newcommand{$\\farcm$}{{.}'}$\n",
       "$\\newcommand{$\\arcsec$}{''}$\n",
       "$\\newcommand{$\\arcmin$}{'}$\n",
       "$\\newcommand{$\\ion$}[2]{#1#2}$\n",
       "$\\newcommand{$\\textsc$}[1]{\\textrm{#1}}$\n",
       "$\\newcommand{$\\hl$}[1]{\\textrm{#1}}$\n",
       "$\\newcommand{$\\thebibliography$}{\\DeclareRobustCommand{\\VAN}[3]{##3}\\VANthebibliography}$</div>\n",
       "\n",
       "\n",
       "\n",
       "<div id=\"title\">\n",
       "\n",
       "# The three-dimensional structure of Galactic molecular cloud complexes out to 2.5 kpc \n",
       "\n",
       "</div>\n",
       "<div id=\"comments\">\n",
       "\n",
       "[![arXiv](https://img.shields.io/badge/arXiv-2210.03615-b31b1b.svg)](https://arxiv.org/abs/2210.03615)<mark>Appeared on: 2022-10-10</mark> - _accepted for publication by MNRAS, 23 pages, 9 figures, 3 tables_\n",
       "\n",
       "</div>\n",
       "<div id=\"authors\">\n",
       "\n",
       "<mark><mark>T. E. Dharmawardena</mark></mark>, et al. -- incl., <mark><mark>C.A.L. Bailer-Jones</mark></mark>, <mark><mark>M. Fouesneau</mark></mark>, <mark><mark>T. Müller</mark></mark>, <mark><mark>J. Henshaw</mark></mark>\n",
       "\n",
       "</div>\n",
       "<div id=\"abstract\">\n",
       "\n",
       "**Abstract:** Knowledge of the three-dimensional structure of Galactic molecular clouds is important for understanding how clouds are affected by processes such as turbulence and magnetic fields and how this structure effects star formation within them.Great progress has been made in this field with the arrival of the Gaia mission, which provides accurate distances to$\\sim10^{9}$stars. Combining these distances with extinctions inferred from optical-IR, we recover the three-dimensional structure of 16 Galactic molecular cloud complexes at$\\sim1$pc resolution using our novel three-dimensional dust mapping algorithm\\texttt{Dustribution}.Using\\texttt{astrodendro}we derive a catalogue of physical parameters for each complex.We recover structures with aspect ratios between 1 and 11, i.e. everything from near-spherical to very elongated shapes.We find a large variation in cloud environments that is not apparent when studying them in two-dimensions.For example, the nearby California and Orion A clouds look similar on-sky, but we find California to be more sheet-like, and massive, which could explain their different star-formation rates.In Carina, our most distant complex, we observe evidence for dust sputtering, which explains its measured low dust mass.By calculating the total mass of these individual clouds, we demonstrate that it is necessary to define cloud boundaries in three-dimensions in order to obtain an accurate mass; simply integrating the extinction overestimates masses.We find that Larson's relationship on mass vs radius holds true whether you assume a spherical shape for the cloud or take their true extents.\n",
       "\n",
       "</div>\n",
       "\n",
       "<div id=\"div_fig1\">\n",
       "\n",
       "<img src=\"tmp_2210.03615/./Figures/RegionParams/Plot_AllRegions_AllTrunksChildren_Mass_vs_Vol.png\" alt=\"Fig18.1\" width=\"25%\"/><img src=\"tmp_2210.03615/./Figures/RegionParams/Plot_AllRegions_AllTrunksChildren_Mass_vs_SphericalRad.png\" alt=\"Fig18.2\" width=\"25%\"/><img src=\"tmp_2210.03615/./Figures/RegionParams/Plot_AllRegions_AllTrunksChildren_Mass_vs_Xextent.png\" alt=\"Fig18.3\" width=\"25%\"/><img src=\"tmp_2210.03615/./Figures/RegionParams/Plot_AllRegions_AllTrunksChildren_Mass_vs_FillFac.png\" alt=\"Fig18.4\" width=\"25%\"/>\n",
       "\n",
       "**Figure 18. -** The total mass vs. (top left) volume of structure within contours laid down by \\texttt{astrodendro}; (top right) spherical radius; (bottom left) $x$ extent; and (bottom right) filling factor of all trunks (brown filled circles) and leaves (green empty circles) for all the mapped molecular cloud complexes. In all plots the black dashed line represents the Larson's law where $M \\propto R^{q}$ with $q = 1.9$. (*fig:Mass_vs_ParamsComp*)\n",
       "\n",
       "</div>\n",
       "<div id=\"div_fig2\">\n",
       "\n",
       "<img src=\"tmp_2210.03615/./Figures/Dense_LowCbar/Cas_GpyPredicted_DensitySlices_alongDist.png\" alt=\"Fig21.1\" width=\"33%\"/><img src=\"tmp_2210.03615/./Figures/ThreeD_renders/mn_22_2305_mj_cassiopeia_sun.png\" alt=\"Fig21.2\" width=\"33%\"/><img src=\"tmp_2210.03615/./Figures/ThreeD_renders/mn_22_2305_mj_cassiopeia_top.png\" alt=\"Fig21.3\" width=\"33%\"/>\n",
       "\n",
       "**Figure 21. -**  Predicted 3D density structure of the Cassiopeia molecular cloud complex. Left: Slices along the line-of-sight of the predicted 3D density structure. With the Cyan triangle we have marked the mass weighted centroid of the primary trunk (as given in Table \\ref{tab:maintrunk_params} placed on the closest distance slice included in the plot. The Cyan $\\times$s mark the mass weighted centroids of the interesting features discussed in Sec.\\ref{sec:IndGMCs} and highlighted in Table \\ref{tab:leaf_params} placed on the closest distance slice included in the plot. The grey hexagon marks the centre of the Cepheus flare shell; Right top: Video of a volume rendering of the predicted 3D density structure which begins from the view as seen from the Sun. It then rotates anti-clockwise about an axis perpendicular to the initial viewing angle. The semi-transparent iso-surfaces mark three different density levels with orange being the least dense to blue being the most dense as shown by the colour bar.; Right bottom: Still image showing the top down view of the predicted 3D density structure of the molecular cloud region using identical rendering to the preceding video. (*fig:Cas_3Ddens*)\n",
       "\n",
       "</div>\n",
       "<div id=\"div_fig3\">\n",
       "\n",
       "<img src=\"tmp_2210.03615/./Figures/Ext_Features/California_Ext_Cumulative_WithFeatures.png\" alt=\"Fig1\" width=\"100%\"/>\n",
       "\n",
       "**Figure 1. -** The predicted integrated 2D extinction of the California molecular cloud complex as seen from the Sun (i.e: on the plane of the sky). The California spine and bubble are highlighted (*fig:Calif_2D*)\n",
       "\n",
       "</div>"
      ],
      "text/plain": [
       "<IPython.core.display.Markdown object>"
      ]
     },
     "metadata": {},
     "output_type": "display_data"
    }
   ],
   "source": [
    "[display(Markdown(k[1])) for k in documents];"
   ]
  },
  {
   "cell_type": "markdown",
   "id": "873873a4",
   "metadata": {
    "papermill": {
     "duration": 0.013167,
     "end_time": "2022-10-10T05:19:37.063674",
     "exception": false,
     "start_time": "2022-10-10T05:19:37.050507",
     "status": "completed"
    },
    "tags": []
   },
   "source": [
    "# Create HTML index"
   ]
  },
  {
   "cell_type": "code",
   "execution_count": 10,
   "id": "cf665672",
   "metadata": {
    "execution": {
     "iopub.execute_input": "2022-10-10T05:19:37.090093Z",
     "iopub.status.busy": "2022-10-10T05:19:37.089594Z",
     "iopub.status.idle": "2022-10-10T05:19:37.102793Z",
     "shell.execute_reply": "2022-10-10T05:19:37.101984Z"
    },
    "papermill": {
     "duration": 0.029018,
     "end_time": "2022-10-10T05:19:37.104570",
     "exception": false,
     "start_time": "2022-10-10T05:19:37.075552",
     "status": "completed"
    },
    "tags": []
   },
   "outputs": [
    {
     "name": "stdout",
     "output_type": "stream",
     "text": [
      "58  publications in the last 7 days.\n",
      "\t _build/html/2210.03615.md\n",
      "\t _build/html/2210.01811.md\n",
      "\t _build/html/2210.01809.md\n",
      "\t _build/html/2210.01556.md\n",
      "\t _build/html/2210.00863.md\n",
      "\t _build/html/2210.00560.md\n",
      "\t _build/html/2209.15403.md\n",
      "\t _build/html/2209.15110.md\n",
      "\t _build/html/2209.14410.md\n",
      "\t _build/html/2209.14396.md\n",
      "\t _build/html/2209.13717.md\n",
      "\t _build/html/2209.13336.md\n",
      "\t _build/html/2209.12906.md\n",
      "\t _build/html/2209.11781.md\n",
      "\t _build/html/2209.11602.md\n",
      "\t _build/html/2209.11248.md\n",
      "\t _build/html/2209.11096.md\n",
      "\t _build/html/2209.10618.md\n",
      "\t _build/html/2209.09914.md\n",
      "\t _build/html/2209.09823.md\n",
      "\t _build/html/2209.08242.md\n",
      "\t _build/html/2209.08120.md\n",
      "\t _build/html/2209.08106.md\n",
      "\t _build/html/2209.07962.md\n",
      "\t _build/html/2209.07931.md\n",
      "\t _build/html/2209.06833.md\n",
      "\t _build/html/2209.05814.md\n",
      "\t _build/html/2209.05593.md\n",
      "\t _build/html/2209.04304.md\n",
      "\t _build/html/2209.03367.md\n",
      "\t _build/html/2209.02872.md\n",
      "\t _build/html/2209.02725.md\n",
      "\t _build/html/2209.02722.md\n",
      "\t _build/html/2209.02092.md\n",
      "\t _build/html/2209.01125.md\n",
      "\t _build/html/2209.00828.md\n",
      "\t _build/html/2209.00363.md\n",
      "\t _build/html/2208.14927.md\n",
      "\t _build/html/2208.09335.md\n",
      "\t _build/html/2208.08872.md\n",
      "\t _build/html/2204.06393.md\n",
      "\t _build/html/2204.03335.md\n",
      "\t _build/html/2204.03253.md\n",
      "\t _build/html/2204.02998.md\n",
      "\t _build/html/2204.02109.md\n",
      "\t _build/html/2204.02017.md\n",
      "\t _build/html/2204.01824.md\n",
      "\t _build/html/2204.01758.md\n",
      "\t _build/html/2204.01245.md\n",
      "\t _build/html/2204.00793.md\n",
      "\t _build/html/2204.00342.md\n",
      "\t _build/html/2203.16959.md\n",
      "\t _build/html/2203.16856.md\n",
      "\t _build/html/2203.16735.md\n",
      "\t _build/html/2203.16734.md\n",
      "\t _build/html/2203.16504.md\n",
      "\t _build/html/2203.15822.md\n",
      "\t _build/html/2203.15811.md\n"
     ]
    }
   ],
   "source": [
    "from datetime import datetime, timedelta, timezone\n",
    "from glob import glob\n",
    "\n",
    "files = glob('_build/html/*.md')\n",
    "days = 7\n",
    "now = datetime.today()\n",
    "res = []\n",
    "for fk in files:\n",
    "    stat_result = os.stat(fk).st_ctime\n",
    "    modified = datetime.fromtimestamp(stat_result, tz=timezone.utc).replace(tzinfo=None)\n",
    "    delta = now.today() - modified\n",
    "    if delta <= timedelta(days=days):\n",
    "        res.append((delta.seconds, fk))\n",
    "res = [k[1] for k in reversed(sorted(res, key=lambda x:x[1]))]\n",
    "npub = len(res)\n",
    "print(len(res), f\" publications in the last {days:d} days.\")\n",
    "[ print('\\t', k) for k in res ];"
   ]
  },
  {
   "cell_type": "code",
   "execution_count": 11,
   "id": "52ca0208",
   "metadata": {
    "execution": {
     "iopub.execute_input": "2022-10-10T05:19:37.163505Z",
     "iopub.status.busy": "2022-10-10T05:19:37.162448Z",
     "iopub.status.idle": "2022-10-10T05:19:37.172031Z",
     "shell.execute_reply": "2022-10-10T05:19:37.171361Z"
    },
    "papermill": {
     "duration": 0.024747,
     "end_time": "2022-10-10T05:19:37.173949",
     "exception": false,
     "start_time": "2022-10-10T05:19:37.149202",
     "status": "completed"
    },
    "scrolled": false,
    "tags": []
   },
   "outputs": [],
   "source": [
    "def create_carousel(npub=4):\n",
    "    \"\"\" Generate the HTML code for a carousel with `npub` slides \"\"\"\n",
    "    carousel = [\"\"\"<section class=\"carousel\" aria-label=\"Gallery\">\"\"\",\n",
    "                \"\"\"  <ol class=\"carousel__viewport\">\"\"\",\n",
    "    ]\n",
    "    for k in range(1, npub + 1):\n",
    "        prev_ = k - 1\n",
    "        next_ = k + 1\n",
    "        if prev_ <= 0:\n",
    "            prev_ = npub\n",
    "        if next_ > npub:\n",
    "            next_ = 1\n",
    "        text  = f\"\"\"    <li id=\"carousel__slide{k}\" tabindex=\"0\" class=\"carousel__slide\">\\n\"\"\"\n",
    "        text += f\"\"\"       <div class=\"carousel__snapper\">\\n\"\"\"\n",
    "        text += f\"\"\"         <a href=\"#carousel__slide{prev_}\" class=\"carousel__prev\">Go to previous slide</a>\\n\"\"\"\n",
    "        text += f\"\"\"         <a href=\"#carousel__slide{next_}\" class=\"carousel__next\">Go to next slide</a>\\n\"\"\"\n",
    "        text += f\"\"\"         <div id=\"slide{k}_content\" class=\"md_view\" >Content {k}</div>\\n\"\"\"\n",
    "        text += f\"\"\"       </div>\\n\"\"\"\n",
    "        text += f\"\"\"    </li>\"\"\"\n",
    "        carousel.append(text)\n",
    "\n",
    "    carousel.extend([\n",
    "        \"\"\"  </ol>\"\"\",\n",
    "        \"\"\"  <aside class=\"carousel__navigation\">\"\"\",\n",
    "        \"\"\"    <ol class=\"carousel__navigation-list\">\"\"\"])\n",
    "\n",
    "    for k in range(1, npub + 1):\n",
    "        text  = f\"\"\"      <li class=\"carousel__navigation-item\">\\n\"\"\"\n",
    "        text += f\"\"\"        <a href=\"#carousel__slide{k}\" class=\"carousel__navigation-button\">Go to {k}</a>\\n\"\"\"\n",
    "        text += f\"\"\"      </li>\"\"\"\n",
    "        carousel.append(text)\n",
    "    carousel.extend([\"\"\"    </ol>\"\"\", \"\"\"  </aside>\"\"\", \"\"\"</section>\"\"\"])\n",
    "\n",
    "    return '\\n'.join(carousel)"
   ]
  },
  {
   "cell_type": "code",
   "execution_count": 12,
   "id": "a6eac5b6",
   "metadata": {
    "execution": {
     "iopub.execute_input": "2022-10-10T05:19:37.198861Z",
     "iopub.status.busy": "2022-10-10T05:19:37.198105Z",
     "iopub.status.idle": "2022-10-10T05:19:37.206635Z",
     "shell.execute_reply": "2022-10-10T05:19:37.205895Z"
    },
    "papermill": {
     "duration": 0.023465,
     "end_time": "2022-10-10T05:19:37.208453",
     "exception": false,
     "start_time": "2022-10-10T05:19:37.184988",
     "status": "completed"
    },
    "scrolled": false,
    "tags": []
   },
   "outputs": [],
   "source": [
    "carousel = create_carousel(npub)\n",
    "docs = ', '.join(['\"{0:s}\"'.format(k.split('/')[-1]) for k in res])\n",
    "slides = ', '.join([f'\"slide{k}_content\"' for k in range(1, npub + 1)])\n",
    "\n",
    "script = f\"\"\"\n",
    "const docs = [{docs}]\n",
    "\n",
    "const slides = [{slides}]\n",
    "\"\"\" + \"\"\"\n",
    "async function run() {\n",
    "    for (let i = 0; i < docs.length; i++) {\n",
    "        let file = await fetch(docs[i]);\n",
    "        let text = await file.text()\n",
    "        document.getElementById(slides[i]).innerHTML =\n",
    "            marked.parse(text);\n",
    "    }\n",
    "    hljs.highlightAll();\n",
    "}\n",
    "run()\n",
    "\"\"\"\n",
    "\n",
    "page = f\"\"\"<!doctype html>\n",
    "<html lang=\"en\">\n",
    "\n",
    "<head>\n",
    "  <meta charset=\"utf-8\">\n",
    "  <meta name=\"viewport\" content=\"width=device-width, initial-scale=1\">\n",
    "  <!-- Bootstrap CSS -->\n",
    "  <link href=\"https://cdn.jsdelivr.net/npm/bootstrap@5.0.2/dist/css/bootstrap.min.css\" rel=\"stylesheet\"\n",
    "   integrity=\"sha384-EVSTQN3/azprG1Anm3QDgpJLIm9Nao0Yz1ztcQTwFspd3yD65VohhpuuCOmLASjC\" crossorigin=\"anonymous\">\n",
    "  <!-- highlight.js CSS -->\n",
    "  <link rel=\"stylesheet\" href=\"https://cdnjs.cloudflare.com/ajax/libs/highlight.js/11.1.0/styles/default.min.css\">\n",
    "  <!-- Mathjax 3 -->\n",
    "  <script type=\"text/javascript\" id=\"MathJax-config\" src=\"mathjax_config.js\"> </script>\n",
    "  <script type=\"text/javascript\" id=\"MathJax-script\" async \n",
    "    src=\"https://cdn.jsdelivr.net/npm/mathjax@3/es5/tex-mml-chtml.js\">\n",
    "  </script>\n",
    "  <link rel=\"stylesheet\" href=\"index_carousel.css\">\n",
    "  <link rel=\"icon\" type=\"image/x-icon\" href=\"https://www.mpia.de/assets/touch-icon-32x32-a66937bcebc4e8894ebff1f41a366c7c7220fd97a38869ee0f2db65a9f59b6c1.png\">\n",
    "  <title>MPIA Arxiv on deck!</title>\n",
    "</head>\n",
    "\n",
    "<body>\n",
    "  <div id=\"header\"> <img src=\"header_banner.png\" width=\"100%\"></div>\n",
    "  <div id=\"suptitle\"> 7-day archives </div>\n",
    "  <div id=\"info\">\n",
    "    <img src=\"https://pngimg.com/uploads/github/github_PNG58.png\" height=30rem></img>\n",
    "    <a href=https://github.com/mpi-astronomy/arxiv_display style=\"color:black;\">github/mpi-astronomy/arxiv_display</a> \n",
    "  </div>\n",
    "  {carousel:s}\n",
    "</body>\n",
    "\n",
    "<!-- Render Markdown -->\n",
    "\n",
    "<body>\n",
    "  <!-- highlight.js: https://highlightjs.org/download/ -->\n",
    "  <script src=\"https://cdnjs.cloudflare.com/ajax/libs/highlight.js/11.5.0/highlight.min.js\"></script>\n",
    "  <!-- marked.js -->\n",
    "  <script src=\"https://cdn.jsdelivr.net/npm/marked/marked.min.js\"></script>\n",
    "  <script>{script:s}</script>\n",
    "</body>\n",
    "</html>\n",
    "\"\"\"\n",
    "with open(\"_build/html/index_7days.html\", 'w') as fout:\n",
    "    fout.write(page)"
   ]
  },
  {
   "cell_type": "markdown",
   "id": "1cebacbc",
   "metadata": {
    "papermill": {
     "duration": 0.011647,
     "end_time": "2022-10-10T05:19:37.231563",
     "exception": false,
     "start_time": "2022-10-10T05:19:37.219916",
     "status": "completed"
    },
    "tags": []
   },
   "source": [
    "# Debugging papers"
   ]
  },
  {
   "cell_type": "raw",
   "id": "debe7cc6",
   "metadata": {
    "papermill": {
     "duration": 0.011524,
     "end_time": "2022-10-10T05:19:37.255000",
     "exception": false,
     "start_time": "2022-10-10T05:19:37.243476",
     "status": "completed"
    },
    "tags": []
   },
   "source": [
    "raise NotImplementedError(\"Manual Stop\")"
   ]
  },
  {
   "cell_type": "raw",
   "id": "eb169192",
   "metadata": {
    "papermill": {
     "duration": 0.010967,
     "end_time": "2022-10-10T05:19:37.277873",
     "exception": false,
     "start_time": "2022-10-10T05:19:37.266906",
     "status": "completed"
    },
    "scrolled": true,
    "tags": []
   },
   "source": [
    "from IPython.display import display, Markdown\n",
    "from TexSoup import TexSoup\n",
    "import re\n",
    "\n",
    "def bracket_error(source: str):\n",
    "    \"\"\" Find problematic portions of the document \"\"\"\n",
    "    \n",
    "    print(\"len(source)\", len(source))\n",
    "    \n",
    "    # Checking header\n",
    "    begin_doc = next(re.finditer(r'\\\\begin\\{document\\}', doc.source)).span()[1]\n",
    "    header = source[:begin_doc]\n",
    "    text = header + r\"\\n\\end{document}\"\n",
    "\n",
    "    try:\n",
    "        # print(\"Header check... \", end='')\n",
    "        TexSoup(text)\n",
    "        display(Markdown(f\"**[OK]** - Header\"))\n",
    "    except:\n",
    "        raise RuntimeError(\"Error in the header\")\n",
    "        \n",
    "    # Check the text per section until the end.\n",
    "    # Do not stop and try them all.\n",
    "    \n",
    "    problematic_text = []\n",
    "    \n",
    "    sections = ([(0, begin_doc, 'until first section')] + \n",
    "                [(g.span()[0], g.span()[1], g.group()) for g in re.finditer(r'\\\\section\\{.*\\}', source)] +\n",
    "                [(g.span()[0], g.span()[1], g.group()) for g in re.finditer(r'\\\\begin\\{appendix\\}', source)]\n",
    "               )\n",
    "    sections.append([len(source), len(source), 'end'])\n",
    "    \n",
    "    sections = sorted(sections, key=lambda x: x[0])\n",
    "    \n",
    "    prev_pos, prev_name = (0, 'header')\n",
    "    parsed = []\n",
    "    \n",
    "    for span, span_end, name in sections:\n",
    "\n",
    "        if span - prev_pos <= 0:\n",
    "            continue\n",
    "            \n",
    "\n",
    "        text = source[prev_pos:span]\n",
    "        if prev_pos > begin_doc:\n",
    "            text = r\"\\n\\begin{document}\" + text + r\"\\n\\end{document}\"\n",
    "        else:\n",
    "            text = text + r\"\\n\\end{document}\"\n",
    "        try:\n",
    "            #print(f\"{prev_pos}:{prev_name}-->{span}:{name} check... \", end='')\n",
    "            parsed.append(TexSoup(text, tolerance=1))  # allow not ending env\n",
    "            display(Markdown(f\"**[OK]** - *{prev_pos}*:{prev_name} &rarr; *{span}*:{name}\"))\n",
    "            # print(\"ok\")\n",
    "\n",
    "            prev_pos = span\n",
    "            prev_name = name\n",
    "        except:\n",
    "            # print(f\"error between {prev_pos} and {span}\")\n",
    "            display(Markdown(f\"**[ERR]** *{prev_pos}*:{prev_name} &rarr; *{span}*:{name}\"))\n",
    "            problematic_text.append((prev_pos, source[prev_pos:span]))\n",
    "            prev_pos = span\n",
    "            prev_name = name\n",
    "            # raise\n",
    "    return problematic_text, parsed\n",
    "\n",
    "\n",
    "def check_environment(text, offset=0):\n",
    "    \"\"\" Check environment \"\"\"\n",
    "    env = re.compile(r\"\\\\begin\\{(?P<env>.*)\\}(.*)\\\\end\\{(?P=env)\\}\", re.DOTALL)\n",
    "\n",
    "    for match in env.finditer(text):\n",
    "        beg, end = match.span()\n",
    "        beg += offset\n",
    "        end += offset\n",
    "        envname = match.groups()[0]\n",
    "        try:\n",
    "            latex.TexSoup(match.group())\n",
    "        except Exception as e:\n",
    "            display(e)\n",
    "            print(f\"Error in {envname:s} between {beg} and {end}\")\n",
    "            return match.groups()[1], beg, end"
   ]
  },
  {
   "cell_type": "raw",
   "id": "2315e835",
   "metadata": {
    "papermill": {
     "duration": 0.011699,
     "end_time": "2022-10-10T05:19:37.300900",
     "exception": false,
     "start_time": "2022-10-10T05:19:37.289201",
     "status": "completed"
    },
    "scrolled": false,
    "tags": []
   },
   "source": [
    "import importlib\n",
    "importlib.reload(latex)\n",
    "which = \"2204.03253\"\n",
    "paper_id = f'{which:s}'\n",
    "folder = f'tmp_{paper_id:s}'\n",
    "\n",
    "if not os.path.isdir(folder):\n",
    "    folder = retrieve_document_source(f\"{paper_id}\", f'tmp_{paper_id}')\n",
    "\n",
    "try:\n",
    "    doc = latex.LatexDocument(folder, validation=validation)    \n",
    "except AffiliationError as affilerror:\n",
    "    msg = f\"ArXiv:{paper_id:s} is not an MPIA paper... \" + str(affilerror)\n",
    "    print(msg)\n",
    "\n",
    "\n",
    "# Hack because sometimes author parsing does not work well\n",
    "if (len(doc.authors) != len(paper['authors'])):\n",
    "    doc._authors = paper['authors']\n",
    "if (doc.abstract) in (None, ''):\n",
    "    doc._abstract = paper['abstract']\n",
    "\n",
    "doc.comment = get_markdown_badge(paper_id) + \" _\" + paper['comments'] + \"_\"\n",
    "doc.highlight_authors_in_list(hl_list)\n",
    "\n",
    "full_md = doc.generate_markdown_text()"
   ]
  },
  {
   "cell_type": "raw",
   "id": "dd3781db",
   "metadata": {
    "papermill": {
     "duration": 0.011534,
     "end_time": "2022-10-10T05:19:37.324215",
     "exception": false,
     "start_time": "2022-10-10T05:19:37.312681",
     "status": "completed"
    },
    "scrolled": false,
    "tags": []
   },
   "source": [
    "doc"
   ]
  },
  {
   "cell_type": "raw",
   "id": "c6eed834",
   "metadata": {
    "papermill": {
     "duration": 0.011141,
     "end_time": "2022-10-10T05:19:37.346621",
     "exception": false,
     "start_time": "2022-10-10T05:19:37.335480",
     "status": "completed"
    },
    "tags": []
   },
   "source": [
    "# [check_environment(k) for k in bracket_error(doc.source)]\n",
    "_, _, a = latex.get_content_per_section(doc.source, verbose=True)\n",
    "if not a:\n",
    "    print(\"no issues per section\")\n",
    "for ak in a:\n",
    "    r = check_environment(ak[1], offset=ak[0])\n",
    "    print(r[1], r[2])\n",
    "    print(r[0])"
   ]
  },
  {
   "cell_type": "code",
   "execution_count": null,
   "id": "71ce768a",
   "metadata": {
    "papermill": {
     "duration": 0.013251,
     "end_time": "2022-10-10T05:19:37.371410",
     "exception": false,
     "start_time": "2022-10-10T05:19:37.358159",
     "status": "completed"
    },
    "tags": []
   },
   "outputs": [],
   "source": []
  }
 ],
 "metadata": {
  "kernelspec": {
   "display_name": "Python 3.10.6 64-bit",
   "language": "python",
   "name": "python3"
  },
  "language_info": {
   "codemirror_mode": {
    "name": "ipython",
    "version": 3
   },
   "file_extension": ".py",
   "mimetype": "text/x-python",
   "name": "python",
   "nbconvert_exporter": "python",
   "pygments_lexer": "ipython3",
   "version": "3.9.14"
  },
  "papermill": {
   "default_parameters": {},
   "duration": 258.473409,
   "end_time": "2022-10-10T05:19:37.603589",
   "environment_variables": {},
   "exception": null,
   "input_path": "MPIA daily digest.ipynb",
   "output_path": "log.ipynb",
   "parameters": {},
   "start_time": "2022-10-10T05:15:19.130180",
   "version": "2.4.0"
  },
  "vscode": {
   "interpreter": {
    "hash": "e7370f93d1d0cde622a1f8e1c04877d8463912d04d973331ad4851f04de6915a"
   }
  },
  "widgets": {
   "application/vnd.jupyter.widget-state+json": {
    "state": {
     "22d4351569c74973a0cb3edb36d2789f": {
      "model_module": "@jupyter-widgets/controls",
      "model_module_version": "2.0.0",
      "model_name": "HTMLStyleModel",
      "state": {
       "_model_module": "@jupyter-widgets/controls",
       "_model_module_version": "2.0.0",
       "_model_name": "HTMLStyleModel",
       "_view_count": null,
       "_view_module": "@jupyter-widgets/base",
       "_view_module_version": "2.0.0",
       "_view_name": "StyleView",
       "background": null,
       "description_width": "",
       "font_size": null,
       "text_color": null
      }
     },
     "46a94a3b1ffd4dbd9a2fc433707d9e8f": {
      "model_module": "@jupyter-widgets/base",
      "model_module_version": "2.0.0",
      "model_name": "LayoutModel",
      "state": {
       "_model_module": "@jupyter-widgets/base",
       "_model_module_version": "2.0.0",
       "_model_name": "LayoutModel",
       "_view_count": null,
       "_view_module": "@jupyter-widgets/base",
       "_view_module_version": "2.0.0",
       "_view_name": "LayoutView",
       "align_content": null,
       "align_items": null,
       "align_self": null,
       "border_bottom": null,
       "border_left": null,
       "border_right": null,
       "border_top": null,
       "bottom": null,
       "display": null,
       "flex": null,
       "flex_flow": null,
       "grid_area": null,
       "grid_auto_columns": null,
       "grid_auto_flow": null,
       "grid_auto_rows": null,
       "grid_column": null,
       "grid_gap": null,
       "grid_row": null,
       "grid_template_areas": null,
       "grid_template_columns": null,
       "grid_template_rows": null,
       "height": null,
       "justify_content": null,
       "justify_items": null,
       "left": null,
       "margin": null,
       "max_height": null,
       "max_width": null,
       "min_height": null,
       "min_width": null,
       "object_fit": null,
       "object_position": null,
       "order": null,
       "overflow": null,
       "padding": null,
       "right": null,
       "top": null,
       "visibility": null,
       "width": null
      }
     },
     "5f17dc17a9934583bc61e0762c3ffff0": {
      "model_module": "@jupyter-widgets/controls",
      "model_module_version": "2.0.0",
      "model_name": "FloatProgressModel",
      "state": {
       "_dom_classes": [],
       "_model_module": "@jupyter-widgets/controls",
       "_model_module_version": "2.0.0",
       "_model_name": "FloatProgressModel",
       "_view_count": null,
       "_view_module": "@jupyter-widgets/controls",
       "_view_module_version": "2.0.0",
       "_view_name": "ProgressView",
       "bar_style": "success",
       "description": "",
       "description_allow_html": false,
       "layout": "IPY_MODEL_9d682bd757fa4662bbefca33239e60c1",
       "max": 25.0,
       "min": 0.0,
       "orientation": "horizontal",
       "style": "IPY_MODEL_c1eede18bbf64d57aa1a75466aa6beeb",
       "tabbable": null,
       "tooltip": null,
       "value": 25.0
      }
     },
     "6827f5c49cbf4290aa669a8e5fcefbba": {
      "model_module": "@jupyter-widgets/controls",
      "model_module_version": "2.0.0",
      "model_name": "HTMLStyleModel",
      "state": {
       "_model_module": "@jupyter-widgets/controls",
       "_model_module_version": "2.0.0",
       "_model_name": "HTMLStyleModel",
       "_view_count": null,
       "_view_module": "@jupyter-widgets/base",
       "_view_module_version": "2.0.0",
       "_view_name": "StyleView",
       "background": null,
       "description_width": "",
       "font_size": null,
       "text_color": null
      }
     },
     "6b6a4c29611d468fbc6e18c17c96ca28": {
      "model_module": "@jupyter-widgets/controls",
      "model_module_version": "2.0.0",
      "model_name": "HTMLModel",
      "state": {
       "_dom_classes": [],
       "_model_module": "@jupyter-widgets/controls",
       "_model_module_version": "2.0.0",
       "_model_name": "HTMLModel",
       "_view_count": null,
       "_view_module": "@jupyter-widgets/controls",
       "_view_module_version": "2.0.0",
       "_view_name": "HTMLView",
       "description": "",
       "description_allow_html": false,
       "layout": "IPY_MODEL_cbc9b641b9c146bc9f27697e002d39a3",
       "placeholder": "​",
       "style": "IPY_MODEL_22d4351569c74973a0cb3edb36d2789f",
       "tabbable": null,
       "tooltip": null,
       "value": " 25/25 [03:47&lt;00:00, 14.01s/it]"
      }
     },
     "7968f9737e694836bfc223ef56daa8ed": {
      "model_module": "@jupyter-widgets/base",
      "model_module_version": "2.0.0",
      "model_name": "LayoutModel",
      "state": {
       "_model_module": "@jupyter-widgets/base",
       "_model_module_version": "2.0.0",
       "_model_name": "LayoutModel",
       "_view_count": null,
       "_view_module": "@jupyter-widgets/base",
       "_view_module_version": "2.0.0",
       "_view_name": "LayoutView",
       "align_content": null,
       "align_items": null,
       "align_self": null,
       "border_bottom": null,
       "border_left": null,
       "border_right": null,
       "border_top": null,
       "bottom": null,
       "display": null,
       "flex": null,
       "flex_flow": null,
       "grid_area": null,
       "grid_auto_columns": null,
       "grid_auto_flow": null,
       "grid_auto_rows": null,
       "grid_column": null,
       "grid_gap": null,
       "grid_row": null,
       "grid_template_areas": null,
       "grid_template_columns": null,
       "grid_template_rows": null,
       "height": null,
       "justify_content": null,
       "justify_items": null,
       "left": null,
       "margin": null,
       "max_height": null,
       "max_width": null,
       "min_height": null,
       "min_width": null,
       "object_fit": null,
       "object_position": null,
       "order": null,
       "overflow": null,
       "padding": null,
       "right": null,
       "top": null,
       "visibility": null,
       "width": null
      }
     },
     "87974820ee1e495884a3a99e21a46ae6": {
      "model_module": "@jupyter-widgets/controls",
      "model_module_version": "2.0.0",
      "model_name": "HBoxModel",
      "state": {
       "_dom_classes": [],
       "_model_module": "@jupyter-widgets/controls",
       "_model_module_version": "2.0.0",
       "_model_name": "HBoxModel",
       "_view_count": null,
       "_view_module": "@jupyter-widgets/controls",
       "_view_module_version": "2.0.0",
       "_view_name": "HBoxView",
       "box_style": "",
       "children": [
        "IPY_MODEL_db8a19807e2b4f808386b86b95534d3b",
        "IPY_MODEL_5f17dc17a9934583bc61e0762c3ffff0",
        "IPY_MODEL_6b6a4c29611d468fbc6e18c17c96ca28"
       ],
       "layout": "IPY_MODEL_46a94a3b1ffd4dbd9a2fc433707d9e8f",
       "tabbable": null,
       "tooltip": null
      }
     },
     "9d682bd757fa4662bbefca33239e60c1": {
      "model_module": "@jupyter-widgets/base",
      "model_module_version": "2.0.0",
      "model_name": "LayoutModel",
      "state": {
       "_model_module": "@jupyter-widgets/base",
       "_model_module_version": "2.0.0",
       "_model_name": "LayoutModel",
       "_view_count": null,
       "_view_module": "@jupyter-widgets/base",
       "_view_module_version": "2.0.0",
       "_view_name": "LayoutView",
       "align_content": null,
       "align_items": null,
       "align_self": null,
       "border_bottom": null,
       "border_left": null,
       "border_right": null,
       "border_top": null,
       "bottom": null,
       "display": null,
       "flex": null,
       "flex_flow": null,
       "grid_area": null,
       "grid_auto_columns": null,
       "grid_auto_flow": null,
       "grid_auto_rows": null,
       "grid_column": null,
       "grid_gap": null,
       "grid_row": null,
       "grid_template_areas": null,
       "grid_template_columns": null,
       "grid_template_rows": null,
       "height": null,
       "justify_content": null,
       "justify_items": null,
       "left": null,
       "margin": null,
       "max_height": null,
       "max_width": null,
       "min_height": null,
       "min_width": null,
       "object_fit": null,
       "object_position": null,
       "order": null,
       "overflow": null,
       "padding": null,
       "right": null,
       "top": null,
       "visibility": null,
       "width": null
      }
     },
     "c1eede18bbf64d57aa1a75466aa6beeb": {
      "model_module": "@jupyter-widgets/controls",
      "model_module_version": "2.0.0",
      "model_name": "ProgressStyleModel",
      "state": {
       "_model_module": "@jupyter-widgets/controls",
       "_model_module_version": "2.0.0",
       "_model_name": "ProgressStyleModel",
       "_view_count": null,
       "_view_module": "@jupyter-widgets/base",
       "_view_module_version": "2.0.0",
       "_view_name": "StyleView",
       "bar_color": null,
       "description_width": ""
      }
     },
     "cbc9b641b9c146bc9f27697e002d39a3": {
      "model_module": "@jupyter-widgets/base",
      "model_module_version": "2.0.0",
      "model_name": "LayoutModel",
      "state": {
       "_model_module": "@jupyter-widgets/base",
       "_model_module_version": "2.0.0",
       "_model_name": "LayoutModel",
       "_view_count": null,
       "_view_module": "@jupyter-widgets/base",
       "_view_module_version": "2.0.0",
       "_view_name": "LayoutView",
       "align_content": null,
       "align_items": null,
       "align_self": null,
       "border_bottom": null,
       "border_left": null,
       "border_right": null,
       "border_top": null,
       "bottom": null,
       "display": null,
       "flex": null,
       "flex_flow": null,
       "grid_area": null,
       "grid_auto_columns": null,
       "grid_auto_flow": null,
       "grid_auto_rows": null,
       "grid_column": null,
       "grid_gap": null,
       "grid_row": null,
       "grid_template_areas": null,
       "grid_template_columns": null,
       "grid_template_rows": null,
       "height": null,
       "justify_content": null,
       "justify_items": null,
       "left": null,
       "margin": null,
       "max_height": null,
       "max_width": null,
       "min_height": null,
       "min_width": null,
       "object_fit": null,
       "object_position": null,
       "order": null,
       "overflow": null,
       "padding": null,
       "right": null,
       "top": null,
       "visibility": null,
       "width": null
      }
     },
     "db8a19807e2b4f808386b86b95534d3b": {
      "model_module": "@jupyter-widgets/controls",
      "model_module_version": "2.0.0",
      "model_name": "HTMLModel",
      "state": {
       "_dom_classes": [],
       "_model_module": "@jupyter-widgets/controls",
       "_model_module_version": "2.0.0",
       "_model_name": "HTMLModel",
       "_view_count": null,
       "_view_module": "@jupyter-widgets/controls",
       "_view_module_version": "2.0.0",
       "_view_name": "HTMLView",
       "description": "",
       "description_allow_html": false,
       "layout": "IPY_MODEL_7968f9737e694836bfc223ef56daa8ed",
       "placeholder": "​",
       "style": "IPY_MODEL_6827f5c49cbf4290aa669a8e5fcefbba",
       "tabbable": null,
       "tooltip": null,
       "value": "100%"
      }
     }
    },
    "version_major": 2,
    "version_minor": 0
   }
  }
 },
 "nbformat": 4,
 "nbformat_minor": 5
}