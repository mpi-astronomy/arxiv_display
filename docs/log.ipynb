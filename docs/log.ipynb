{
 "cells": [
  {
   "cell_type": "markdown",
   "id": "92bcb855",
   "metadata": {
    "papermill": {
     "duration": 0.005167,
     "end_time": "2022-11-15T04:11:47.266033",
     "exception": false,
     "start_time": "2022-11-15T04:11:47.260866",
     "status": "completed"
    },
    "tags": []
   },
   "source": [
    "# MPIA Arxiv on Deck 2\n",
    "\n",
    "Contains the steps to produce the paper extractions."
   ]
  },
  {
   "cell_type": "code",
   "execution_count": 1,
   "id": "3a0d6e11",
   "metadata": {
    "execution": {
     "iopub.execute_input": "2022-11-15T04:11:47.276162Z",
     "iopub.status.busy": "2022-11-15T04:11:47.275425Z",
     "iopub.status.idle": "2022-11-15T04:11:47.445111Z",
     "shell.execute_reply": "2022-11-15T04:11:47.444445Z"
    },
    "papermill": {
     "duration": 0.176686,
     "end_time": "2022-11-15T04:11:47.447046",
     "exception": false,
     "start_time": "2022-11-15T04:11:47.270360",
     "status": "completed"
    },
    "tags": []
   },
   "outputs": [],
   "source": [
    "# Imports\n",
    "import os\n",
    "from IPython.display import Markdown, display\n",
    "from tqdm.notebook import tqdm\n",
    "import warnings\n",
    "from PIL import Image \n",
    "\n",
    "# requires arxiv_on_deck_2\n",
    "\n",
    "from arxiv_on_deck_2.arxiv2 import (get_new_papers, \n",
    "                                    get_paper_from_identifier,\n",
    "                                    retrieve_document_source, \n",
    "                                    get_markdown_badge)\n",
    "from arxiv_on_deck_2 import (latex, \n",
    "                             mpia,\n",
    "                             highlight_authors_in_list)\n",
    "\n",
    "# Sometimes images are really big\n",
    "Image.MAX_IMAGE_PIXELS = 1000000000 "
   ]
  },
  {
   "cell_type": "code",
   "execution_count": 2,
   "id": "22aa9d44",
   "metadata": {
    "execution": {
     "iopub.execute_input": "2022-11-15T04:11:47.458340Z",
     "iopub.status.busy": "2022-11-15T04:11:47.457723Z",
     "iopub.status.idle": "2022-11-15T04:11:47.462729Z",
     "shell.execute_reply": "2022-11-15T04:11:47.462076Z"
    },
    "papermill": {
     "duration": 0.011665,
     "end_time": "2022-11-15T04:11:47.464288",
     "exception": false,
     "start_time": "2022-11-15T04:11:47.452623",
     "status": "completed"
    },
    "tags": []
   },
   "outputs": [],
   "source": [
    "# Some useful definitions.\n",
    "\n",
    "class AffiliationWarning(UserWarning):\n",
    "    pass\n",
    "\n",
    "class AffiliationError(RuntimeError):\n",
    "    pass\n",
    "\n",
    "def validation(source: str):\n",
    "    \"\"\"Raises error paper during parsing of source file\n",
    "    \n",
    "    Allows checks before parsing TeX code.\n",
    "    \n",
    "    Raises AffiliationWarning\n",
    "    \"\"\"\n",
    "    check = mpia.affiliation_verifications(source, verbose=True)\n",
    "    if check is not True:\n",
    "        raise AffiliationError(\"mpia.affiliation_verifications: \" + check)\n",
    "\n",
    "        \n",
    "warnings.simplefilter('always', AffiliationWarning)"
   ]
  },
  {
   "cell_type": "code",
   "execution_count": 3,
   "id": "14622700",
   "metadata": {
    "execution": {
     "iopub.execute_input": "2022-11-15T04:11:47.473875Z",
     "iopub.status.busy": "2022-11-15T04:11:47.473272Z",
     "iopub.status.idle": "2022-11-15T04:11:47.477169Z",
     "shell.execute_reply": "2022-11-15T04:11:47.476572Z"
    },
    "papermill": {
     "duration": 0.0104,
     "end_time": "2022-11-15T04:11:47.478679",
     "exception": false,
     "start_time": "2022-11-15T04:11:47.468279",
     "status": "completed"
    },
    "tags": []
   },
   "outputs": [],
   "source": [
    "# additional CSS to consider. \n",
    "# TODO: Current into each exported file. \n",
    "#       This should be set once into the webpages directly.\n",
    "#       With only the class/id definitions in the .md files.\n",
    "\n",
    "debug_html = \"\"\"\n",
    "<style>\n",
    "#wrap{ overflow:auto; }\n",
    "#fig1{ background:yellow; width:100%; float:left; padding:5px;  }\n",
    "#fig2{ background:red; width:50%; float:left; clear:left; padding:5px;  }\n",
    "#fig3{ background:green; width:50%; float:left; padding:5px;   }\n",
    ".macros{ background:yellow; visibility:visible;}\n",
    "h1 {margin: 0 0 0 0;}\n",
    "mark {background-color:#fff3b6;}\n",
    "img {object-fit:contain; max-height:250px; display:inline-block; text-align: center;}\n",
    "</style>\n",
    "\"\"\" \n",
    "html = \"\"\"\n",
    "<style>\n",
    "#wrap{ overflow:auto; }\n",
    "#fig1{ width:100%; float:left; padding: 5px;  }\n",
    "#fig2{ width:50%; float:left; clear:left; padding: 5px;  }\n",
    "#fig3{ width:50%; float:left; padding: 5px;  }\n",
    ".macros{ visibility:hidden; height:0px; }\n",
    "h1 {margin: 0em 0 0 0;}\n",
    "mark {background-color:#fff3b6;}\n",
    "img {object-fit:contain; max-height:250px; display:inline-block; text-align: center;}\n",
    "</style>\n",
    "\"\"\""
   ]
  },
  {
   "cell_type": "markdown",
   "id": "14bd6310",
   "metadata": {
    "papermill": {
     "duration": 0.003914,
     "end_time": "2022-11-15T04:11:47.486468",
     "exception": false,
     "start_time": "2022-11-15T04:11:47.482554",
     "status": "completed"
    },
    "tags": []
   },
   "source": [
    "## get list of arxiv paper candidates\n",
    "\n",
    "We use the MPIA mitarbeiter list webpage from mpia.de to get author names\n",
    "We then get all new papers from Arxiv and match authors"
   ]
  },
  {
   "cell_type": "code",
   "execution_count": 4,
   "id": "2645e73a",
   "metadata": {
    "execution": {
     "iopub.execute_input": "2022-11-15T04:11:47.496020Z",
     "iopub.status.busy": "2022-11-15T04:11:47.495386Z",
     "iopub.status.idle": "2022-11-15T04:12:11.482942Z",
     "shell.execute_reply": "2022-11-15T04:12:11.482372Z"
    },
    "papermill": {
     "duration": 23.994424,
     "end_time": "2022-11-15T04:12:11.484786",
     "exception": false,
     "start_time": "2022-11-15T04:11:47.490362",
     "status": "completed"
    },
    "tags": []
   },
   "outputs": [
    {
     "name": "stdout",
     "output_type": "stream",
     "text": [
      "Arxiv has 93 new papers today\n",
      "          42 with possible author matches\n"
     ]
    }
   ],
   "source": [
    "# get list from MPIA website\n",
    "# it automatically filters identified non-scientists :func:`mpia.filter_non_scientists`\n",
    "mpia_authors = mpia.get_mpia_mitarbeiter_list()\n",
    "new_papers = get_new_papers()\n",
    "# add manual references\n",
    "add_paper_refs = []\n",
    "new_papers.extend([get_paper_from_identifier(k) for k in add_paper_refs])\n",
    "\n",
    "# select only papers with matching author names and highlight authors\n",
    "hl_list = [k[0] for k in mpia_authors]\n",
    "\n",
    "candidates = []\n",
    "for paperk in new_papers:\n",
    "    hl_authors = highlight_authors_in_list(paperk['authors'], hl_list)\n",
    "    matches = [(hl, orig) for hl, orig in zip(hl_authors, paperk['authors']) if 'mark' in hl]\n",
    "    paperk['authors'] = hl_authors\n",
    "    if matches:\n",
    "        candidates.append(paperk)\n",
    "print(\"\"\"Arxiv has {0:,d} new papers today\"\"\".format(len(new_papers)))        \n",
    "print(\"\"\"          {0:,d} with possible author matches\"\"\".format(len(candidates)))"
   ]
  },
  {
   "cell_type": "markdown",
   "id": "3543b34a",
   "metadata": {
    "papermill": {
     "duration": 0.004122,
     "end_time": "2022-11-15T04:12:11.493234",
     "exception": false,
     "start_time": "2022-11-15T04:12:11.489112",
     "status": "completed"
    },
    "tags": []
   },
   "source": [
    "# Parse sources and generate relevant outputs\n",
    "\n",
    "From the candidates, we do the following steps:\n",
    "* get their tarball from ArXiv (and extract data)\n",
    "* find the main .tex file: find one with \\documentclass{...} (sometimes it's non trivial)\n",
    "* Check affiliations with :func:`validation`, which uses :func:`mpia.affiliation_verifications`\n",
    "* If passing the affiliations: we parse the .tex source\n",
    "   * inject sub-documents into the main (flatten the main document)\n",
    "   * parse structure, extract information (title, abstract, authors, figures...)\n",
    "   * handles `\\graphicspath` if provided\n",
    "* Generate the .md document."
   ]
  },
  {
   "cell_type": "code",
   "execution_count": 5,
   "id": "9576b79e",
   "metadata": {
    "execution": {
     "iopub.execute_input": "2022-11-15T04:12:11.503129Z",
     "iopub.status.busy": "2022-11-15T04:12:11.502598Z",
     "iopub.status.idle": "2022-11-15T04:13:26.838018Z",
     "shell.execute_reply": "2022-11-15T04:13:26.837352Z"
    },
    "papermill": {
     "duration": 75.342667,
     "end_time": "2022-11-15T04:13:26.840036",
     "exception": false,
     "start_time": "2022-11-15T04:12:11.497369",
     "status": "completed"
    },
    "scrolled": false,
    "tags": []
   },
   "outputs": [
    {
     "data": {
      "application/vnd.jupyter.widget-view+json": {
       "model_id": "2b2adc52f4df47ddb1c05f7c153b566f",
       "version_major": 2,
       "version_minor": 0
      },
      "text/plain": [
       "  0%|          | 0/41 [00:00<?, ?it/s]"
      ]
     },
     "metadata": {},
     "output_type": "display_data"
    },
    {
     "name": "stdout",
     "output_type": "stream",
     "text": [
      "Retrieving document from  https://arxiv.org/e-print/2211.06433\n"
     ]
    },
    {
     "name": "stdout",
     "output_type": "stream",
     "text": [
      "extracting tarball to tmp_2211.06433... done.\n",
      "Retrieving document from  https://arxiv.org/e-print/2211.06436\n"
     ]
    },
    {
     "name": "stdout",
     "output_type": "stream",
     "text": [
      "extracting tarball to tmp_2211.06436... done.\n",
      "Retrieving document from  https://arxiv.org/e-print/2211.06445\n"
     ]
    },
    {
     "name": "stdout",
     "output_type": "stream",
     "text": [
      "extracting tarball to tmp_2211.06445..."
     ]
    },
    {
     "name": "stdout",
     "output_type": "stream",
     "text": [
      " done.\n",
      "Retrieving document from  https://arxiv.org/e-print/2211.06450\n"
     ]
    },
    {
     "name": "stderr",
     "output_type": "stream",
     "text": [
      "/opt/hostedtoolcache/Python/3.9.15/x64/lib/python3.9/site-packages/IPython/core/interactiveshell.py:3433: LatexWarning: Multiple tex files.\n",
      "\n",
      "  exec(code_obj, self.user_global_ns, self.user_ns)\n",
      "/opt/hostedtoolcache/Python/3.9.15/x64/lib/python3.9/site-packages/IPython/core/interactiveshell.py:3433: LatexWarning: Found documentclass in tmp_2211.06445/main.tex\n",
      "\n",
      "  exec(code_obj, self.user_global_ns, self.user_ns)\n",
      "/opt/hostedtoolcache/Python/3.9.15/x64/lib/python3.9/site-packages/arxiv_on_deck_2/latex.py:292: LatexWarning: Latex injecting: 'keystone_planet_table' from 'tmp_2211.06445/keystone_planet_table.tex'\n",
      "  warnings.warn(LatexWarning(f\"Latex injecting: '{ext}' from '{subsource}'\"))\n",
      "/opt/hostedtoolcache/Python/3.9.15/x64/lib/python3.9/site-packages/arxiv_on_deck_2/latex.py:292: LatexWarning: Latex injecting: 'priors_table' from 'tmp_2211.06445/priors_table.tex'\n",
      "  warnings.warn(LatexWarning(f\"Latex injecting: '{ext}' from '{subsource}'\"))\n",
      "/opt/hostedtoolcache/Python/3.9.15/x64/lib/python3.9/site-packages/arxiv_on_deck_2/latex.py:292: LatexWarning: Latex injecting: 'point_estimates_table' from 'tmp_2211.06445/point_estimates_table.tex'\n",
      "  warnings.warn(LatexWarning(f\"Latex injecting: '{ext}' from '{subsource}'\"))\n",
      "/opt/hostedtoolcache/Python/3.9.15/x64/lib/python3.9/site-packages/arxiv_on_deck_2/latex.py:292: LatexWarning: Latex injecting: 'stellar_table' from 'tmp_2211.06445/stellar_table.tex'\n",
      "  warnings.warn(LatexWarning(f\"Latex injecting: '{ext}' from '{subsource}'\"))\n",
      "/opt/hostedtoolcache/Python/3.9.15/x64/lib/python3.9/site-packages/arxiv_on_deck_2/latex.py:292: LatexWarning: Latex injecting: 'authors' from 'tmp_2211.06445/authors.tex'\n",
      "  warnings.warn(LatexWarning(f\"Latex injecting: '{ext}' from '{subsource}'\"))\n"
     ]
    },
    {
     "name": "stderr",
     "output_type": "stream",
     "text": [
      "/tmp/ipykernel_2254/4030337529.py:34: LatexWarning: 2211.06450 did not run properly\n",
      "not a gzip file\n",
      "  warnings.warn(latex.LatexWarning(f\"{paper_id:s} did not run properly\\n\" +\n"
     ]
    },
    {
     "name": "stdout",
     "output_type": "stream",
     "text": [
      "Retrieving document from  https://arxiv.org/e-print/2211.06454\n"
     ]
    },
    {
     "name": "stdout",
     "output_type": "stream",
     "text": [
      "extracting tarball to tmp_2211.06454..."
     ]
    },
    {
     "name": "stdout",
     "output_type": "stream",
     "text": [
      " done.\n"
     ]
    },
    {
     "name": "stderr",
     "output_type": "stream",
     "text": [
      "/opt/hostedtoolcache/Python/3.9.15/x64/lib/python3.9/site-packages/IPython/core/interactiveshell.py:3433: LatexWarning: Multiple tex files.\n",
      "\n",
      "  exec(code_obj, self.user_global_ns, self.user_ns)\n",
      "/opt/hostedtoolcache/Python/3.9.15/x64/lib/python3.9/site-packages/IPython/core/interactiveshell.py:3433: LatexWarning: Found documentclass in tmp_2211.06454/main.tex\n",
      "\n",
      "  exec(code_obj, self.user_global_ns, self.user_ns)\n",
      "/opt/hostedtoolcache/Python/3.9.15/x64/lib/python3.9/site-packages/arxiv_on_deck_2/latex.py:292: LatexWarning: Latex injecting: 'BrEmitters_Table_Headers' from 'tmp_2211.06454/BrEmitters_Table_Headers.tex'\n",
      "  warnings.warn(LatexWarning(f\"Latex injecting: '{ext}' from '{subsource}'\"))\n",
      "/opt/hostedtoolcache/Python/3.9.15/x64/lib/python3.9/site-packages/arxiv_on_deck_2/latex.py:292: LatexWarning: Latex injecting: 'Table1-YoungClusterPlates' from 'tmp_2211.06454/Table1-YoungClusterPlates.tex'\n",
      "  warnings.warn(LatexWarning(f\"Latex injecting: '{ext}' from '{subsource}'\"))\n"
     ]
    },
    {
     "name": "stdout",
     "output_type": "stream",
     "text": [
      "Retrieving document from  https://arxiv.org/e-print/2211.06486\n"
     ]
    },
    {
     "name": "stdout",
     "output_type": "stream",
     "text": [
      "extracting tarball to tmp_2211.06486..."
     ]
    },
    {
     "name": "stdout",
     "output_type": "stream",
     "text": [
      " done.\n",
      "Retrieving document from  https://arxiv.org/e-print/2211.06518\n"
     ]
    },
    {
     "name": "stdout",
     "output_type": "stream",
     "text": [
      "extracting tarball to tmp_2211.06518..."
     ]
    },
    {
     "name": "stdout",
     "output_type": "stream",
     "text": [
      " done.\n",
      "Retrieving document from  https://arxiv.org/e-print/2211.06529\n"
     ]
    },
    {
     "name": "stdout",
     "output_type": "stream",
     "text": [
      "extracting tarball to tmp_2211.06529..."
     ]
    },
    {
     "name": "stdout",
     "output_type": "stream",
     "text": [
      " done.\n",
      "Retrieving document from  https://arxiv.org/e-print/2211.06534\n"
     ]
    },
    {
     "name": "stdout",
     "output_type": "stream",
     "text": [
      "extracting tarball to tmp_2211.06534..."
     ]
    },
    {
     "name": "stdout",
     "output_type": "stream",
     "text": [
      " done.\n",
      "Retrieving document from  https://arxiv.org/e-print/2211.06564\n"
     ]
    },
    {
     "name": "stdout",
     "output_type": "stream",
     "text": [
      "extracting tarball to tmp_2211.06564... done.\n",
      "Retrieving document from  https://arxiv.org/e-print/2211.06576\n"
     ]
    },
    {
     "name": "stderr",
     "output_type": "stream",
     "text": [
      "/opt/hostedtoolcache/Python/3.9.15/x64/lib/python3.9/site-packages/IPython/core/interactiveshell.py:3433: LatexWarning: Multiple tex files.\n",
      "\n",
      "  exec(code_obj, self.user_global_ns, self.user_ns)\n",
      "/opt/hostedtoolcache/Python/3.9.15/x64/lib/python3.9/site-packages/IPython/core/interactiveshell.py:3433: LatexWarning: Found documentclass in tmp_2211.06564/neurips_2022.tex\n",
      "\n",
      "  exec(code_obj, self.user_global_ns, self.user_ns)\n"
     ]
    },
    {
     "name": "stdout",
     "output_type": "stream",
     "text": [
      "extracting tarball to tmp_2211.06576... done.\n",
      "Retrieving document from  https://arxiv.org/e-print/2211.06629\n"
     ]
    },
    {
     "name": "stdout",
     "output_type": "stream",
     "text": [
      "extracting tarball to tmp_2211.06629... done.\n",
      "Retrieving document from  https://arxiv.org/e-print/2211.06698\n"
     ]
    },
    {
     "name": "stdout",
     "output_type": "stream",
     "text": [
      "extracting tarball to tmp_2211.06698..."
     ]
    },
    {
     "name": "stdout",
     "output_type": "stream",
     "text": [
      " done.\n",
      "Retrieving document from  https://arxiv.org/e-print/2211.06712\n"
     ]
    },
    {
     "name": "stdout",
     "output_type": "stream",
     "text": [
      "extracting tarball to tmp_2211.06712..."
     ]
    },
    {
     "name": "stdout",
     "output_type": "stream",
     "text": [
      " done.\n",
      "Retrieving document from  https://arxiv.org/e-print/2211.06773\n"
     ]
    },
    {
     "name": "stderr",
     "output_type": "stream",
     "text": [
      "/opt/hostedtoolcache/Python/3.9.15/x64/lib/python3.9/site-packages/IPython/core/interactiveshell.py:3433: LatexWarning: Multiple tex files.\n",
      "\n",
      "  exec(code_obj, self.user_global_ns, self.user_ns)\n",
      "/opt/hostedtoolcache/Python/3.9.15/x64/lib/python3.9/site-packages/IPython/core/interactiveshell.py:3433: LatexWarning: Found documentclass in tmp_2211.06712/pevtsov.tex\n",
      "\n",
      "  exec(code_obj, self.user_global_ns, self.user_ns)\n",
      "/opt/hostedtoolcache/Python/3.9.15/x64/lib/python3.9/site-packages/arxiv_on_deck_2/latex.py:292: LatexWarning: Latex injecting: 'pevtsov.bbl' from 'tmp_2211.06712/pevtsov.tex'\n",
      "  warnings.warn(LatexWarning(f\"Latex injecting: '{ext}' from '{subsource}'\"))\n",
      "/opt/hostedtoolcache/Python/3.9.15/x64/lib/python3.9/site-packages/arxiv_on_deck_2/latex.py:292: LatexWarning: Latex injecting: 'pevtsov.bbl' from 'tmp_2211.06712/HelioDecadal ngGONG(1)/pevtsov.tex'\n",
      "  warnings.warn(LatexWarning(f\"Latex injecting: '{ext}' from '{subsource}'\"))\n"
     ]
    },
    {
     "name": "stdout",
     "output_type": "stream",
     "text": [
      "extracting tarball to tmp_2211.06773..."
     ]
    },
    {
     "name": "stdout",
     "output_type": "stream",
     "text": [
      " done.\n",
      "Retrieving document from  https://arxiv.org/e-print/2211.06777\n"
     ]
    },
    {
     "name": "stderr",
     "output_type": "stream",
     "text": [
      "/opt/hostedtoolcache/Python/3.9.15/x64/lib/python3.9/site-packages/IPython/core/interactiveshell.py:3433: LatexWarning: Multiple tex files.\n",
      "\n",
      "  exec(code_obj, self.user_global_ns, self.user_ns)\n",
      "/opt/hostedtoolcache/Python/3.9.15/x64/lib/python3.9/site-packages/IPython/core/interactiveshell.py:3433: LatexWarning: Found documentclass in tmp_2211.06773/natnotes.tex\n",
      "\n",
      "  exec(code_obj, self.user_global_ns, self.user_ns)\n"
     ]
    },
    {
     "name": "stdout",
     "output_type": "stream",
     "text": [
      "extracting tarball to tmp_2211.06777... done.\n",
      "Retrieving document from  https://arxiv.org/e-print/2211.06825\n"
     ]
    },
    {
     "name": "stdout",
     "output_type": "stream",
     "text": [
      "extracting tarball to tmp_2211.06825..."
     ]
    },
    {
     "name": "stdout",
     "output_type": "stream",
     "text": [
      " done.\n",
      "Retrieving document from  https://arxiv.org/e-print/2211.06834\n"
     ]
    },
    {
     "name": "stderr",
     "output_type": "stream",
     "text": [
      "/opt/hostedtoolcache/Python/3.9.15/x64/lib/python3.9/site-packages/IPython/core/interactiveshell.py:3433: LatexWarning: Multiple tex files.\n",
      "\n",
      "  exec(code_obj, self.user_global_ns, self.user_ns)\n",
      "/opt/hostedtoolcache/Python/3.9.15/x64/lib/python3.9/site-packages/IPython/core/interactiveshell.py:3433: LatexWarning: Found documentclass in tmp_2211.06825/ms.tex\n",
      "\n",
      "  exec(code_obj, self.user_global_ns, self.user_ns)\n"
     ]
    },
    {
     "name": "stdout",
     "output_type": "stream",
     "text": [
      "extracting tarball to tmp_2211.06834... done.\n",
      "Retrieving document from  https://arxiv.org/e-print/2211.06895\n"
     ]
    },
    {
     "name": "stdout",
     "output_type": "stream",
     "text": [
      "extracting tarball to tmp_2211.06895..."
     ]
    },
    {
     "name": "stdout",
     "output_type": "stream",
     "text": [
      " done.\n",
      "Retrieving document from  https://arxiv.org/e-print/2211.06903\n"
     ]
    },
    {
     "name": "stdout",
     "output_type": "stream",
     "text": [
      "extracting tarball to tmp_2211.06903..."
     ]
    },
    {
     "name": "stdout",
     "output_type": "stream",
     "text": [
      " done.\n",
      "Retrieving document from  https://arxiv.org/e-print/2211.06915\n"
     ]
    },
    {
     "name": "stdout",
     "output_type": "stream",
     "text": [
      "extracting tarball to tmp_2211.06915..."
     ]
    },
    {
     "name": "stdout",
     "output_type": "stream",
     "text": [
      " done.\n",
      "Retrieving document from  https://arxiv.org/e-print/2211.06931\n"
     ]
    },
    {
     "name": "stdout",
     "output_type": "stream",
     "text": [
      "extracting tarball to tmp_2211.06931..."
     ]
    },
    {
     "name": "stdout",
     "output_type": "stream",
     "text": [
      " done.\n",
      "Retrieving document from  https://arxiv.org/e-print/2211.06942\n"
     ]
    },
    {
     "name": "stderr",
     "output_type": "stream",
     "text": [
      "/tmp/ipykernel_2254/4030337529.py:34: LatexWarning: 2211.06942 did not run properly\n",
      "not a gzip file\n",
      "  warnings.warn(latex.LatexWarning(f\"{paper_id:s} did not run properly\\n\" +\n"
     ]
    },
    {
     "name": "stdout",
     "output_type": "stream",
     "text": [
      "Retrieving document from  https://arxiv.org/e-print/2211.06960\n"
     ]
    },
    {
     "name": "stdout",
     "output_type": "stream",
     "text": [
      "extracting tarball to tmp_2211.06960... done.\n",
      "Retrieving document from  https://arxiv.org/e-print/2211.07049\n"
     ]
    },
    {
     "name": "stdout",
     "output_type": "stream",
     "text": [
      "extracting tarball to tmp_2211.07049..."
     ]
    },
    {
     "name": "stdout",
     "output_type": "stream",
     "text": [
      " done.\n",
      "Retrieving document from  https://arxiv.org/e-print/2211.07070\n"
     ]
    },
    {
     "name": "stderr",
     "output_type": "stream",
     "text": [
      "/opt/hostedtoolcache/Python/3.9.15/x64/lib/python3.9/site-packages/IPython/core/interactiveshell.py:3433: LatexWarning: Multiple tex files.\n",
      "\n",
      "  exec(code_obj, self.user_global_ns, self.user_ns)\n",
      "/opt/hostedtoolcache/Python/3.9.15/x64/lib/python3.9/site-packages/IPython/core/interactiveshell.py:3433: LatexWarning: Found documentclass in tmp_2211.07049/main.tex\n",
      "\n",
      "  exec(code_obj, self.user_global_ns, self.user_ns)\n",
      "/opt/hostedtoolcache/Python/3.9.15/x64/lib/python3.9/site-packages/arxiv_on_deck_2/latex.py:292: LatexWarning: Latex injecting: 'variables_table' from 'tmp_2211.07049/variables_table.tex'\n",
      "  warnings.warn(LatexWarning(f\"Latex injecting: '{ext}' from '{subsource}'\"))\n",
      "/opt/hostedtoolcache/Python/3.9.15/x64/lib/python3.9/site-packages/arxiv_on_deck_2/latex.py:292: LatexWarning: Latex injecting: 'obs_table' from 'tmp_2211.07049/obs_table.tex'\n",
      "  warnings.warn(LatexWarning(f\"Latex injecting: '{ext}' from '{subsource}'\"))\n"
     ]
    },
    {
     "name": "stdout",
     "output_type": "stream",
     "text": [
      "extracting tarball to tmp_2211.07070..."
     ]
    },
    {
     "name": "stdout",
     "output_type": "stream",
     "text": [
      " done.\n",
      "Retrieving document from  https://arxiv.org/e-print/2211.07094\n"
     ]
    },
    {
     "name": "stderr",
     "output_type": "stream",
     "text": [
      "/opt/hostedtoolcache/Python/3.9.15/x64/lib/python3.9/site-packages/IPython/core/interactiveshell.py:3433: LatexWarning: Multiple tex files.\n",
      "\n",
      "  exec(code_obj, self.user_global_ns, self.user_ns)\n",
      "/opt/hostedtoolcache/Python/3.9.15/x64/lib/python3.9/site-packages/IPython/core/interactiveshell.py:3433: LatexWarning: Found documentclass in tmp_2211.07070/sample631.tex\n",
      "\n",
      "  exec(code_obj, self.user_global_ns, self.user_ns)\n"
     ]
    },
    {
     "name": "stdout",
     "output_type": "stream",
     "text": [
      "extracting tarball to tmp_2211.07094..."
     ]
    },
    {
     "name": "stdout",
     "output_type": "stream",
     "text": [
      " done.\n",
      "Retrieving document from  https://arxiv.org/e-print/2211.07100\n"
     ]
    },
    {
     "name": "stderr",
     "output_type": "stream",
     "text": [
      "/opt/hostedtoolcache/Python/3.9.15/x64/lib/python3.9/site-packages/IPython/core/interactiveshell.py:3433: LatexWarning: Multiple tex files.\n",
      "\n",
      "  exec(code_obj, self.user_global_ns, self.user_ns)\n",
      "/opt/hostedtoolcache/Python/3.9.15/x64/lib/python3.9/site-packages/IPython/core/interactiveshell.py:3433: LatexWarning: Found documentclass in tmp_2211.07094/wallaby_pilot.tex\n",
      "\n",
      "  exec(code_obj, self.user_global_ns, self.user_ns)\n"
     ]
    },
    {
     "name": "stdout",
     "output_type": "stream",
     "text": [
      "extracting tarball to tmp_2211.07100..."
     ]
    },
    {
     "name": "stdout",
     "output_type": "stream",
     "text": [
      " done.\n",
      "Retrieving document from  https://arxiv.org/e-print/2211.07128\n"
     ]
    },
    {
     "name": "stdout",
     "output_type": "stream",
     "text": [
      "extracting tarball to tmp_2211.07128..."
     ]
    },
    {
     "name": "stdout",
     "output_type": "stream",
     "text": [
      " done.\n",
      "Retrieving document from  https://arxiv.org/e-print/2211.07168\n"
     ]
    },
    {
     "name": "stderr",
     "output_type": "stream",
     "text": [
      "/opt/hostedtoolcache/Python/3.9.15/x64/lib/python3.9/site-packages/IPython/core/interactiveshell.py:3433: LatexWarning: Multiple tex files.\n",
      "\n",
      "  exec(code_obj, self.user_global_ns, self.user_ns)\n",
      "/opt/hostedtoolcache/Python/3.9.15/x64/lib/python3.9/site-packages/IPython/core/interactiveshell.py:3433: LatexWarning: Found documentclass in tmp_2211.07128/main.tex\n",
      "\n",
      "  exec(code_obj, self.user_global_ns, self.user_ns)\n",
      "/opt/hostedtoolcache/Python/3.9.15/x64/lib/python3.9/site-packages/arxiv_on_deck_2/latex.py:292: LatexWarning: Latex injecting: 'Tex_Tables/predictions_other_transients' from 'tmp_2211.07128/Tex_Tables/predictions_other_transients.tex'\n",
      "  warnings.warn(LatexWarning(f\"Latex injecting: '{ext}' from '{subsource}'\"))\n",
      "/opt/hostedtoolcache/Python/3.9.15/x64/lib/python3.9/site-packages/arxiv_on_deck_2/latex.py:292: LatexWarning: Latex injecting: 'Tex_Tables/SHORT_predictions_full_yse_dr1_sims_zstd0.05_2_3classes_for_paper.tex' from 'tmp_2211.07128/Tex_Tables/SHORT_predictions_full_yse_dr1_sims_zstd0.05_2_3classes_for_paper.tex'\n",
      "  warnings.warn(LatexWarning(f\"Latex injecting: '{ext}' from '{subsource}'\"))\n",
      "/opt/hostedtoolcache/Python/3.9.15/x64/lib/python3.9/site-packages/arxiv_on_deck_2/latex.py:292: LatexWarning: Latex injecting: 'Tex_Tables/spec_highlights_table_redux' from 'tmp_2211.07128/Tex_Tables/spec_highlights_table_redux.tex'\n",
      "  warnings.warn(LatexWarning(f\"Latex injecting: '{ext}' from '{subsource}'\"))\n",
      "/opt/hostedtoolcache/Python/3.9.15/x64/lib/python3.9/site-packages/arxiv_on_deck_2/latex.py:292: LatexWarning: Latex injecting: 'Tex_Tables/training_set_sims' from 'tmp_2211.07128/Tex_Tables/training_set_sims.tex'\n",
      "  warnings.warn(LatexWarning(f\"Latex injecting: '{ext}' from '{subsource}'\"))\n",
      "/opt/hostedtoolcache/Python/3.9.15/x64/lib/python3.9/site-packages/arxiv_on_deck_2/latex.py:292: LatexWarning: Latex injecting: 'Tex_Tables/SNID_reclassifications.tex' from 'tmp_2211.07128/Tex_Tables/SNID_reclassifications.tex'\n",
      "  warnings.warn(LatexWarning(f\"Latex injecting: '{ext}' from '{subsource}'\"))\n",
      "/opt/hostedtoolcache/Python/3.9.15/x64/lib/python3.9/site-packages/arxiv_on_deck_2/latex.py:292: LatexWarning: Latex injecting: 'Tex_Tables/vol_relative_rates' from 'tmp_2211.07128/Tex_Tables/vol_relative_rates.tex'\n",
      "  warnings.warn(LatexWarning(f\"Latex injecting: '{ext}' from '{subsource}'\"))\n",
      "/opt/hostedtoolcache/Python/3.9.15/x64/lib/python3.9/site-packages/arxiv_on_deck_2/latex.py:292: LatexWarning: Latex injecting: 'Tex_Tables/mag_relative_rates' from 'tmp_2211.07128/Tex_Tables/mag_relative_rates.tex'\n",
      "  warnings.warn(LatexWarning(f\"Latex injecting: '{ext}' from '{subsource}'\"))\n",
      "/opt/hostedtoolcache/Python/3.9.15/x64/lib/python3.9/site-packages/arxiv_on_deck_2/latex.py:292: LatexWarning: Latex injecting: 'Tex_Tables/yse_dr1_stats.tex' from 'tmp_2211.07128/Tex_Tables/yse_dr1_stats.tex'\n",
      "  warnings.warn(LatexWarning(f\"Latex injecting: '{ext}' from '{subsource}'\"))\n",
      "/opt/hostedtoolcache/Python/3.9.15/x64/lib/python3.9/site-packages/arxiv_on_deck_2/latex.py:292: LatexWarning: Latex injecting: 'Tex_Tables/cadence_table.tex' from 'tmp_2211.07128/Tex_Tables/cadence_table.tex'\n",
      "  warnings.warn(LatexWarning(f\"Latex injecting: '{ext}' from '{subsource}'\"))\n",
      "/opt/hostedtoolcache/Python/3.9.15/x64/lib/python3.9/site-packages/arxiv_on_deck_2/latex.py:292: LatexWarning: Latex injecting: 'Tex_Tables/TNS_reporting_group_table.tex' from 'tmp_2211.07128/Tex_Tables/TNS_reporting_group_table.tex'\n",
      "  warnings.warn(LatexWarning(f\"Latex injecting: '{ext}' from '{subsource}'\"))\n"
     ]
    },
    {
     "name": "stdout",
     "output_type": "stream",
     "text": [
      "extracting tarball to tmp_2211.07168..."
     ]
    },
    {
     "name": "stdout",
     "output_type": "stream",
     "text": [
      " done.\n",
      "Retrieving document from  https://arxiv.org/e-print/2211.07215\n"
     ]
    },
    {
     "name": "stdout",
     "output_type": "stream",
     "text": [
      "extracting tarball to tmp_2211.07215..."
     ]
    },
    {
     "name": "stdout",
     "output_type": "stream",
     "text": [
      " done.\n",
      "Retrieving document from  https://arxiv.org/e-print/2211.07244\n"
     ]
    },
    {
     "name": "stdout",
     "output_type": "stream",
     "text": [
      "extracting tarball to tmp_2211.07244..."
     ]
    },
    {
     "name": "stdout",
     "output_type": "stream",
     "text": [
      " done.\n",
      "Retrieving document from  https://arxiv.org/e-print/2211.07305\n"
     ]
    },
    {
     "name": "stdout",
     "output_type": "stream",
     "text": [
      "extracting tarball to tmp_2211.07305... done.\n",
      "Retrieving document from  https://arxiv.org/e-print/2211.07306\n"
     ]
    },
    {
     "name": "stdout",
     "output_type": "stream",
     "text": [
      "extracting tarball to tmp_2211.07306..."
     ]
    },
    {
     "name": "stdout",
     "output_type": "stream",
     "text": [
      " done.\n",
      "Retrieving document from  https://arxiv.org/e-print/2211.07333\n"
     ]
    },
    {
     "name": "stderr",
     "output_type": "stream",
     "text": [
      "/opt/hostedtoolcache/Python/3.9.15/x64/lib/python3.9/site-packages/IPython/core/interactiveshell.py:3433: LatexWarning: Multiple tex files.\n",
      "\n",
      "  exec(code_obj, self.user_global_ns, self.user_ns)\n",
      "/opt/hostedtoolcache/Python/3.9.15/x64/lib/python3.9/site-packages/IPython/core/interactiveshell.py:3433: LatexWarning: Found documentclass in tmp_2211.07306/natnotes.tex\n",
      "\n",
      "  exec(code_obj, self.user_global_ns, self.user_ns)\n"
     ]
    },
    {
     "name": "stdout",
     "output_type": "stream",
     "text": [
      "extracting tarball to tmp_2211.07333..."
     ]
    },
    {
     "name": "stdout",
     "output_type": "stream",
     "text": [
      " done.\n",
      "Retrieving document from  https://arxiv.org/e-print/2211.07338\n"
     ]
    },
    {
     "name": "stderr",
     "output_type": "stream",
     "text": [
      "/opt/hostedtoolcache/Python/3.9.15/x64/lib/python3.9/site-packages/IPython/core/interactiveshell.py:3433: LatexWarning: Multiple tex files.\n",
      "\n",
      "  exec(code_obj, self.user_global_ns, self.user_ns)\n",
      "/opt/hostedtoolcache/Python/3.9.15/x64/lib/python3.9/site-packages/IPython/core/interactiveshell.py:3433: LatexWarning: Found documentclass in tmp_2211.07333/KinematicModels.tex\n",
      "\n",
      "  exec(code_obj, self.user_global_ns, self.user_ns)\n",
      "/opt/hostedtoolcache/Python/3.9.15/x64/lib/python3.9/site-packages/arxiv_on_deck_2/latex.py:292: LatexWarning: Latex injecting: 'PaperContent' from 'tmp_2211.07333/PaperContent.tex'\n",
      "  warnings.warn(LatexWarning(f\"Latex injecting: '{ext}' from '{subsource}'\"))\n"
     ]
    },
    {
     "name": "stdout",
     "output_type": "stream",
     "text": [
      "extracting tarball to tmp_2211.07338..."
     ]
    },
    {
     "name": "stdout",
     "output_type": "stream",
     "text": [
      " done.\n",
      "Retrieving document from  https://arxiv.org/e-print/2211.07339\n"
     ]
    },
    {
     "name": "stdout",
     "output_type": "stream",
     "text": [
      "extracting tarball to tmp_2211.07339..."
     ]
    },
    {
     "name": "stdout",
     "output_type": "stream",
     "text": [
      " done.\n",
      "Retrieving document from  https://arxiv.org/e-print/2211.07402\n"
     ]
    },
    {
     "name": "stderr",
     "output_type": "stream",
     "text": [
      "/opt/hostedtoolcache/Python/3.9.15/x64/lib/python3.9/site-packages/IPython/core/interactiveshell.py:3433: LatexWarning: Multiple tex files.\n",
      "\n",
      "  exec(code_obj, self.user_global_ns, self.user_ns)\n",
      "/opt/hostedtoolcache/Python/3.9.15/x64/lib/python3.9/site-packages/IPython/core/interactiveshell.py:3433: LatexWarning: Found documentclass in tmp_2211.07339/mag_field.tex\n",
      "\n",
      "  exec(code_obj, self.user_global_ns, self.user_ns)\n"
     ]
    },
    {
     "name": "stdout",
     "output_type": "stream",
     "text": [
      "extracting tarball to tmp_2211.07402... done.\n",
      "Retrieving document from  https://arxiv.org/e-print/2211.07428\n"
     ]
    },
    {
     "name": "stdout",
     "output_type": "stream",
     "text": [
      "extracting tarball to tmp_2211.07428..."
     ]
    },
    {
     "name": "stdout",
     "output_type": "stream",
     "text": [
      " done.\n",
      "Retrieving document from  https://arxiv.org/e-print/2211.07486\n"
     ]
    },
    {
     "name": "stderr",
     "output_type": "stream",
     "text": [
      "/opt/hostedtoolcache/Python/3.9.15/x64/lib/python3.9/site-packages/IPython/core/interactiveshell.py:3433: LatexWarning: Multiple tex files.\n",
      "\n",
      "  exec(code_obj, self.user_global_ns, self.user_ns)\n",
      "/opt/hostedtoolcache/Python/3.9.15/x64/lib/python3.9/site-packages/IPython/core/interactiveshell.py:3433: LatexWarning: Found documentclass in tmp_2211.07428/shen.tex\n",
      "\n",
      "  exec(code_obj, self.user_global_ns, self.user_ns)\n"
     ]
    },
    {
     "name": "stdout",
     "output_type": "stream",
     "text": [
      "extracting tarball to tmp_2211.07486..."
     ]
    },
    {
     "name": "stdout",
     "output_type": "stream",
     "text": [
      " done.\n",
      "Retrieving document from  https://arxiv.org/e-print/2211.07565\n"
     ]
    },
    {
     "name": "stdout",
     "output_type": "stream",
     "text": [
      "extracting tarball to tmp_2211.07565..."
     ]
    },
    {
     "name": "stdout",
     "output_type": "stream",
     "text": [
      " done.\n"
     ]
    }
   ],
   "source": [
    "documents = []\n",
    "failed = []\n",
    "for paper in tqdm(candidates[:-1]):\n",
    "    paper_id = paper['identifier'].lower().replace('arxiv:', '')\n",
    "    \n",
    "    folder = f'tmp_{paper_id}'\n",
    "\n",
    "    try:\n",
    "        if not os.path.isdir(folder):\n",
    "            folder = retrieve_document_source(f\"{paper_id}\", f'tmp_{paper_id}')\n",
    "        \n",
    "        try:\n",
    "            doc = latex.LatexDocument(folder, validation=validation)    \n",
    "        except AffiliationError as affilerror:\n",
    "            msg = f\"ArXiv:{paper_id:s} is not an MPIA paper... \" + str(affilerror)\n",
    "            failed.append((paper, \"affiliation error: \" + str(affilerror) ))\n",
    "            continue\n",
    "        \n",
    "        # Hack because sometimes author parsing does not work well\n",
    "        if (len(doc.authors) != len(paper['authors'])):\n",
    "            doc._authors = paper['authors']\n",
    "        if (doc.abstract) in (None, ''):\n",
    "            doc._abstract = paper['abstract']\n",
    "            \n",
    "        doc.comment = (get_markdown_badge(paper_id) + \n",
    "                       \"<mark>Appeared on: \" + paper['date'] + \"</mark> - \" +\n",
    "                       \"_\" + paper['comments'] + \"_\")\n",
    "        doc.highlight_authors_in_list(hl_list)\n",
    "\n",
    "        full_md = doc.generate_markdown_text()\n",
    "        \n",
    "        documents.append((paper_id, full_md))\n",
    "    except Exception as e:\n",
    "        warnings.warn(latex.LatexWarning(f\"{paper_id:s} did not run properly\\n\" +\n",
    "                                         str(e)\n",
    "                                        ))\n",
    "        failed.append((paper, \"latex error \" + str(e)))"
   ]
  },
  {
   "cell_type": "markdown",
   "id": "2505a25c",
   "metadata": {
    "papermill": {
     "duration": 0.008549,
     "end_time": "2022-11-15T04:13:26.857303",
     "exception": false,
     "start_time": "2022-11-15T04:13:26.848754",
     "status": "completed"
    },
    "tags": []
   },
   "source": [
    "### Export the logs\n",
    "\n",
    "Throughout, we also keep track of the logs per paper. see `logs-{today date}.md` "
   ]
  },
  {
   "cell_type": "code",
   "execution_count": 6,
   "id": "d733828a",
   "metadata": {
    "execution": {
     "iopub.execute_input": "2022-11-15T04:13:26.876079Z",
     "iopub.status.busy": "2022-11-15T04:13:26.875284Z",
     "iopub.status.idle": "2022-11-15T04:13:26.921758Z",
     "shell.execute_reply": "2022-11-15T04:13:26.920964Z"
    },
    "papermill": {
     "duration": 0.05777,
     "end_time": "2022-11-15T04:13:26.923343",
     "exception": false,
     "start_time": "2022-11-15T04:13:26.865573",
     "status": "completed"
    },
    "scrolled": false,
    "tags": []
   },
   "outputs": [
    {
     "data": {
      "text/markdown": [
       "## Successful papers"
      ],
      "text/plain": [
       "<IPython.core.display.Markdown object>"
      ]
     },
     "metadata": {},
     "output_type": "display_data"
    },
    {
     "data": {
      "text/markdown": [
       "\n",
       "|||\n",
       "|---:|:---|\n",
       "| [![arXiv](https://img.shields.io/badge/arXiv-arXiv:2211.06454-b31b1b.svg)](https://arxiv.org/abs/arXiv:2211.06454) | **Pre-main Sequence Brackett Emitters in the APOGEE DR17 Catalog: Line  Strengths and Physical Properties of Accretion Columns**  |\n",
       "|| Elliott Khilfeh, et al. -- incl., <mark>Jesús Hernández</mark> |\n",
       "|*Appeared on*| *2022-11-15*|\n",
       "|*Comments*| *19 pages, 9 figures, accepted to AJ*|\n",
       "|**Abstract**| Very young (t $\\lesssim$ 10 Myrs) stars possess strong magnetic fields that channel ionized gas from the interiors of their circumstellar discs to the surface of the star. Upon impacting the stellar surface, the shocked gas recombines and emits hydrogen spectral lines. To characterize the density and temperature of the gas within these accretion streams, we measure equivalent widths of Brackett (Br) 11-20 emission lines detected in 1101 APOGEE spectra of 326 likely pre-main sequence accretors. For sources with multiple observations, we measure median epoch-to-epoch line strength variations of 10% in Br11 and 20% in Br20. We also fit the measured line ratios to predictions of radiative transfer models by Kwan & Fischer. We find characteristic best-fit electron densities of $n_e$ = 10$^{11} - 10^{12}$ cm$^{-3}$, and excitation temperatures that are inversely correlated with electron density (from T$\\sim$5000 K for $n_e \\sim 10^{12}$ cm$^{-3}$, to T$\\sim$12500 K at $n_e \\sim 10^{11}$ cm$^{-3}$). These physical parameters are in good agreement with predictions from modelling of accretion streams that account for the hydrodynamics and radiative transfer within the accretion stream. We also present a supplementary catalog of line measurements from 9733 spectra of 4255 Brackett emission line sources in the APOGEE DR17 dataset. |"
      ],
      "text/plain": [
       "[arXiv:2211.06454] Pre-main Sequence Brackett Emitters in the APOGEE DR17 Catalog: Line  Strengths and Physical Properties of Accretion Columns\n",
       "\tElliott Khilfeh, et al. -- incl., <mark>Jesús Hernández</mark>"
      ]
     },
     "metadata": {},
     "output_type": "display_data"
    },
    {
     "data": {
      "text/markdown": [
       "## Failed papers"
      ],
      "text/plain": [
       "<IPython.core.display.Markdown object>"
      ]
     },
     "metadata": {},
     "output_type": "display_data"
    },
    {
     "data": {
      "text/markdown": [
       "\n",
       "|||\n",
       "|---:|:---|\n",
       "| [![arXiv](https://img.shields.io/badge/arXiv-arXiv:2211.07128-b31b1b.svg)](https://arxiv.org/abs/arXiv:2211.07128) | **The Young Supernova Experiment Data Release 1 (YSE DR1): Light Curves  and Photometric Classification of 1975 Supernovae**  |\n",
       "|| P. D. Aleo, et al. -- incl., <mark>V. A. Villar</mark>, <mark>M. E. Huber</mark>, <mark>D. Langeroodi</mark>, <mark>K. W. Smith</mark> |\n",
       "|*Appeared on*| *2022-11-15*|\n",
       "|*Comments*| *Submitted to ApJ; 63 pages; 35 figures; 10 tables*|\n",
       "|**Abstract**| We present the Young Supernova Experiment Data Release 1 (YSE DR1), comprised of processed multi-color Pan-STARRS1 (PS1) griz and Zwicky Transient Facility (ZTF) gr photometry of 1975 transients with host-galaxy associations, redshifts, spectroscopic/photometric classifications, and additional data products from 2019 November 24 to 2021 December 20. YSE DR1 spans discoveries and observations from young and fast-rising supernovae (SNe) to transients that persist for over a year, with a redshift distribution reaching z~0.5. We present relative SN rates from YSE's magnitude- and volume-limited surveys, which are consistent with previously published values within estimated uncertainties for untargeted surveys. We combine YSE and ZTF data, and create multi-survey SN simulations to train the ParSNIP photometric classification algorithm; when validating our classifier on 472 spectroscopically classified YSE DR1 SNe, we achieve 82% accuracy across three SN classes (SNe Ia, II, Ib/Ic) and 90% accuracy across two SN classes (SNe Ia, core-collapse SNe). Our classifier performs particularly well on SNe Ia, with high (>90%) individual completeness and purity, which will help build an anchor photometric SNe Ia sample for cosmology. We then use our photometric classifier to characterize our photometric sample of 1483 SNe, labeling 1048 (~71%) SNe Ia, 339 (~23%) SNe II, and 96 (~6%) SNe Ib/Ic. Our approach demonstrates that simulations can be used to improve the performance of photometric classifiers applied to real data. YSE DR1 provides a training ground for building discovery, anomaly detection, and classification algorithms, performing cosmological analyses, understanding the nature of red and rare transients, exploring tidal disruption events and nuclear variability, and preparing for the forthcoming Vera C. Rubin Observatory Legacy Survey of Space and Time. |\n",
       "|<p style=\"color:green\"> **ERROR** </p>| <p style=\"color:green\">affiliation error: mpia.affiliation_verifications: '69117' keyword not found.</p> |"
      ],
      "text/plain": [
       "<IPython.core.display.Markdown object>"
      ]
     },
     "metadata": {},
     "output_type": "display_data"
    },
    {
     "data": {
      "text/markdown": [
       "\n",
       "|||\n",
       "|---:|:---|\n",
       "| [![arXiv](https://img.shields.io/badge/arXiv-arXiv:2211.06433-b31b1b.svg)](https://arxiv.org/abs/arXiv:2211.06433) | **The link between infall location, early disc size, and the fraction of  self-gravitationally fragmenting discs**  |\n",
       "|| O. Schib, C. Mordasini, <mark>R. Helled</mark> |\n",
       "|*Appeared on*| *2022-11-15*|\n",
       "|*Comments*| *Accepted for publication in A&A*|\n",
       "|**Abstract**| Many protoplanetary discs are self-gravitating early in their lives. If they fragment under their own gravity, they form bound gaseous clumps which may evolve to become giant planets. Today, the fraction of discs that undergo fragmentation, and the frequency of conditions that may lead to giant planet formation via gravitational instability, is still unknown. We perform a population synthesis of discs from formation to dispersal. In varying the infall radius, we study the relationship of the early disc size with fragmentation. Furthermore, we investigate how stellar accretion heating affects the fragmentation fraction. We find that discs fragment only if they become sufficiently large early in their lives. This size depends sensitively on where mass is added to the discs during the collapse of their parent molecular cloud core. By choosing intermediate infall locations leading to a synthetic disc size distribution that is in agreement with the observed one, we find a fragmentation fraction between 0.1 and 11 %, depending on the efficiency of stellar accretion heating of the discs. We conclude that the early disc size is mainly determined by the infall location during the collapse of the molecular cloud core and controls the population-wide frequency of fragmentation. Stellar accretion heating plays an important role for fragmentation and must be studied further. Our work is an observationally-informed step towards a prediction of the frequency of giant planet formation by gravitational instability. Upcoming observations and theoretical studies will deepen our understanding of the formation and early evolution of discs, eventually allowing to understand how infall, disc morphology, giant planet formation via gravitational instability, and the observed extrasolar planet population are linked. |\n",
       "|<p style=\"color:green\"> **ERROR** </p>| <p style=\"color:green\">affiliation error: mpia.affiliation_verifications: 'Heidelberg' keyword not found.</p> |"
      ],
      "text/plain": [
       "<IPython.core.display.Markdown object>"
      ]
     },
     "metadata": {},
     "output_type": "display_data"
    },
    {
     "data": {
      "text/markdown": [
       "\n",
       "|||\n",
       "|---:|:---|\n",
       "| [![arXiv](https://img.shields.io/badge/arXiv-arXiv:2211.06436-b31b1b.svg)](https://arxiv.org/abs/arXiv:2211.06436) | **The CGM$^2$ Survey: Quenching and the Transformation of the  Circumgalactic Medium**  |\n",
       "|| Kirill Tchernyshyov, et al. -- incl., <mark>Joseph N. Burchett</mark> |\n",
       "|*Appeared on*| *2022-11-15*|\n",
       "|*Comments*| *12 pages, 5 figures. Submitted to the AAS Journals*|\n",
       "|**Abstract**| This study addresses how the incidence rate of strong O VI absorbers in a galaxy's circumgalactic medium (CGM) depends on galaxy mass and, independently, on the amount of star formation in the galaxy. We use HST/COS absorption spectroscopy of quasars to measure O VI absorption within 400 projected kpc and 300 km s$^{-1}$ of 52 $M_{*}\\sim 10^{10}$ $M_\\odot$ galaxies. The galaxies have redshifts $0.12<z<0.6$, stellar masses $10^{10.1} < M_* < 10^{10.9}$ $M_\\odot$, and spectroscopic classifications as star-forming or passive. We compare the incidence rates of high column density O VI absorption ($N_{\\rm O\\, VI} \\geq 10^{14.3}$ cm$^{-2}$) near star-forming and passive galaxies in two narrow stellar mass ranges and, separately, in a matched halo mass range. In all three mass ranges, the O VI covering fraction within 150 kpc is higher around star-forming galaxies than around passive galaxies with greater than $3\\sigma$-equivalent statistical significance. On average, the CGM of $M_*\\sim 10^{10}$ $M_\\odot$ star-forming galaxies contains more O VI than the CGM of passive galaxies with the same mass. This difference is evidence for a CGM transformation that happens together with galaxy quenching and is not driven primarily by halo mass. |\n",
       "|<p style=\"color:green\"> **ERROR** </p>| <p style=\"color:green\">affiliation error: mpia.affiliation_verifications: 'Heidelberg' keyword not found.</p> |"
      ],
      "text/plain": [
       "<IPython.core.display.Markdown object>"
      ]
     },
     "metadata": {},
     "output_type": "display_data"
    },
    {
     "data": {
      "text/markdown": [
       "\n",
       "|||\n",
       "|---:|:---|\n",
       "| [![arXiv](https://img.shields.io/badge/arXiv-arXiv:2211.06445-b31b1b.svg)](https://arxiv.org/abs/arXiv:2211.06445) | **TOI-1695 b: A Keystone Water World Elucidating Radius Valley Emergence  Mechanisms Around Early M Dwarfs**  |\n",
       "|| Collin Cherubim, et al. -- incl., <mark>Richard P. Schwarz</mark> |\n",
       "|*Appeared on*| *2022-11-15*|\n",
       "|*Comments*| *22 pages, 11 figures. Resubmitted to AJ after first positive referee report*|\n",
       "|**Abstract**| Characterizing the bulk compositions of transiting exoplanets within the M dwarf radius valley (i.e. keystone planets) offers a unique means to establish whether the radius valley emerges from an atmospheric mass loss process or is imprinted by planet formation itself. We present the confirmation of a new keystone planet orbiting an early M dwarf ($M_s = 0.513 \\pm 0.012\\ M_\\odot$): TOI-1695 b ($P = 3.13$ days, $R_p = 1.90^{+0.16}_{-0.14}\\ R_\\oplus$). TOI-1695 b's radius and orbital period situate the planet between model predictions from thermally-driven mass loss versus gas depleted formation, offering an important test case for radius valley emergence models around early M dwarfs. We confirm the planetary nature of TOI-1695 b based on five sectors of TESS data and a suite of follow-up observations including 49 precise radial velocity measurements taken with the HARPS-N spectrograph. We measure a planetary mass of $6.36 \\pm 1.00\\ M_\\oplus$, which reveals that TOI-1695 b is inconsistent with a purely terrestrial composition of iron and magnesium silicate, and instead is likely a water-rich planet. Our finding that TOI-1695 b is not terrestrial is inconsistent with the planetary system being sculpted by thermally-driven mass loss. We also present a statistical analysis of the seven known keystone planets demonstrating that a thermally-driven mass loss scenario is unlikely for this population. Our findings are consistent with the emerging picture that the M dwarf radius valley originates from planetary formation (i.e. they are born rocky/volatile-rich/gas-enveloped) rather than thermally-driven mass loss processes. |\n",
       "|<p style=\"color:green\"> **ERROR** </p>| <p style=\"color:green\">affiliation error: mpia.affiliation_verifications: 'Heidelberg' keyword not found.</p> |"
      ],
      "text/plain": [
       "<IPython.core.display.Markdown object>"
      ]
     },
     "metadata": {},
     "output_type": "display_data"
    },
    {
     "data": {
      "text/markdown": [
       "\n",
       "|||\n",
       "|---:|:---|\n",
       "| [![arXiv](https://img.shields.io/badge/arXiv-arXiv:2211.06486-b31b1b.svg)](https://arxiv.org/abs/arXiv:2211.06486) | **A general relativistic mass-to-distance ratio for a set of megamaser AGN  black holes II**  |\n",
       "|| A. Villalobos-Ramírez, A. González-Juárez, M. Momennia, <mark>A. Herrera-Aguilar</mark> |\n",
       "|*Appeared on*| *2022-11-15*|\n",
       "|*Comments*| *7 pages in latex, 2 figures and 3 tables*|\n",
       "|**Abstract**| Motivated by recent achievements of a full general relativistic method in estimating the black hole (BH) parameters, we continue to estimate the mass-to-distance ratio of a set of supermassive BHs hosted at the core of the active galactic nuclei (AGNs) of NGC 1320, NGC 1194, NGC 5495, Mrk 1029, and J1346+5228. We also include the $x_0$-offset of BHs as well as recessional redshifts of host galaxies produced by peculiar motion and cosmological expansion of the Universe in our estimation. In order to perform calculations, we use a general relativistic model and a Bayesian fitting method. We find that this model allows us to estimate the central BH mass-to-distance ratio of J1346+5228 for the first time. Finally, we calculate the gravitational redshift of the closest maser to the BH for each AGN. This gravitational redshift is a general relativistic effect produced by the gravitational field that is now properly included in the modeling. |\n",
       "|<p style=\"color:green\"> **ERROR** </p>| <p style=\"color:green\">affiliation error: mpia.affiliation_verifications: 'Heidelberg' keyword not found.</p> |"
      ],
      "text/plain": [
       "<IPython.core.display.Markdown object>"
      ]
     },
     "metadata": {},
     "output_type": "display_data"
    },
    {
     "data": {
      "text/markdown": [
       "\n",
       "|||\n",
       "|---:|:---|\n",
       "| [![arXiv](https://img.shields.io/badge/arXiv-arXiv:2211.06529-b31b1b.svg)](https://arxiv.org/abs/arXiv:2211.06529) | **Solar Orbiter and SDO Observations, and Bifrost MHD Simulations of  Small-scale Coronal Jets**  |\n",
       "|| Navdeep K. Panesar, et al. -- incl., <mark>Daniel Müller</mark> |\n",
       "|*Appeared on*| *2022-11-15*|\n",
       "|*Comments*| *15 pages, 9 Figures, 1 Table, Accepted for publication in ApJ*|\n",
       "|**Abstract**| We report high-resolution, high-cadence observations of five small-scale coronal jets in an on-disk quiet Sun region observed with Solar Orbiter's EUI/\\hri\\ in 174 \\AA. We combine the \\hri\\ images with the EUV images of SDO/AIA and investigate magnetic setting of the jets using co-aligned line-of-sight magnetograms from SDO/HMI. The \\hri\\ jets are miniature versions of typical coronal jets as they show narrow collimated spires with a base brightening. Three out of five jets result from a detectable minifilament eruption following flux cancelation at the neutral line under the minifilament, analogous to coronal jets. To better understand the physics of jets, we also analyze five small-scale jets from a high-resolution Bifrost MHD simulation in synthetic \\FeIX/\\FeX\\ emissions. The jets in the simulation reside above neutral lines and four out of five jets are triggered by magnetic flux cancelation. The temperature maps show the evidence of cool gas in the same four jets. Our simulation also shows the signatures of opposite Doppler shifts (of the order of $\\pm$10s of \\kms) in the jet spire, which is evidence of untwisting motion of the magnetic field in the jet spire. The average jet duration, spire length, base width, and speed in our observations (and in synthetic \\FeIX/\\FeX\\ images) are 6.5$\\pm$4.0 min (9.0$\\pm$4.0 min), 6050$\\pm$2900 km (6500$\\pm$6500 km), 2200$\\pm$850 km, (3900$\\pm$2100 km), and 60$\\pm$8 \\kms\\ (42$\\pm$20 \\kms), respectively. Our observation and simulation results provide a unified picture of small-scale solar coronal jets driven by magnetic reconnection accompanying flux cancelation. This picture also aligns well with the most recent reports of the formation and eruption mechanisms of larger coronal jets. |\n",
       "|<p style=\"color:green\"> **ERROR** </p>| <p style=\"color:green\">affiliation error: mpia.affiliation_verifications: 'Heidelberg' keyword not found.</p> |"
      ],
      "text/plain": [
       "<IPython.core.display.Markdown object>"
      ]
     },
     "metadata": {},
     "output_type": "display_data"
    },
    {
     "data": {
      "text/markdown": [
       "\n",
       "|||\n",
       "|---:|:---|\n",
       "| [![arXiv](https://img.shields.io/badge/arXiv-arXiv:2211.06534-b31b1b.svg)](https://arxiv.org/abs/arXiv:2211.06534) | **Beyond Fisher Forecasting for Cosmology**  |\n",
       "|| <mark>Joseph Ryan</mark>, Brandon Stevenson, Cynthia Trendafilova, <mark>Joel Meyers</mark> |\n",
       "|*Appeared on*| *2022-11-15*|\n",
       "|*Comments*| *Submitted to PRD*|\n",
       "|**Abstract**| The planning and design of future experiments rely heavily on forecasting to assess the potential scientific value provided by a hypothetical set of measurements. The Fisher information matrix, due to its convenient properties and low computational cost, provides an especially useful forecasting tool. However, the Fisher matrix only provides a reasonable approximation to the true likelihood when data are nearly Gaussian distributed and observables have nearly linear dependence on the parameters of interest. Also, Fisher forecasting techniques alone cannot be used to assess their own validity. Thorough sampling of the exact or mock likelihood can definitively determine whether a Fisher forecast is valid, though such sampling is often prohibitively expensive. We propose a simple test, based on the Derivative Approximation for LIkelihoods (DALI) technique, to determine whether the Fisher matrix provides a good approximation to the exact likelihood. We show that the Fisher matrix becomes a poor approximation to the true likelihood in regions where two-dimensional slices of level surfaces of the DALI approximation to the likelihood exhibit negative extrinsic curvature. We demonstrate that our method accurately predicts situations in which the Fisher approximation deviates from the true likelihood for various cosmological models and several data combinations, with only a modest increase in computational cost compared to standard Fisher forecasts. |\n",
       "|<p style=\"color:green\"> **ERROR** </p>| <p style=\"color:green\">affiliation error: mpia.affiliation_verifications: 'Heidelberg' keyword not found.</p> |"
      ],
      "text/plain": [
       "<IPython.core.display.Markdown object>"
      ]
     },
     "metadata": {},
     "output_type": "display_data"
    },
    {
     "data": {
      "text/markdown": [
       "\n",
       "|||\n",
       "|---:|:---|\n",
       "| [![arXiv](https://img.shields.io/badge/arXiv-arXiv:2211.06564-b31b1b.svg)](https://arxiv.org/abs/arXiv:2211.06564) | **Emulating cosmological growth functions with B-Splines**  |\n",
       "|| Ngai Pok Kwan, Chirag Modi, <mark>Yin Li</mark>, Shirley Ho |\n",
       "|*Appeared on*| *2022-11-15*|\n",
       "|*Comments*| **|\n",
       "|**Abstract**| In the light of GPU accelerations, sequential operations such as solving ordinary differential equations can be bottlenecks for gradient evaluations and hinder potential speed gains. In this work, we focus on growth functions and their time derivatives in cosmological particle mesh simulations and show that these are the majority time cost when using gradient based inference algorithms. We propose to construct novel conditional B-spline emulators which directly learn an interpolating function for the growth factor as a function of time, conditioned on the cosmology. We demonstrate that these emulators are sufficiently accurate to not bias our results for cosmological inference and can lead to over an order of magnitude gains in time, especially for small to intermediate size simulations. |\n",
       "|<p style=\"color:green\"> **ERROR** </p>| <p style=\"color:green\">affiliation error: mpia.affiliation_verifications: 'Heidelberg' keyword not found.</p> |"
      ],
      "text/plain": [
       "<IPython.core.display.Markdown object>"
      ]
     },
     "metadata": {},
     "output_type": "display_data"
    },
    {
     "data": {
      "text/markdown": [
       "\n",
       "|||\n",
       "|---:|:---|\n",
       "| [![arXiv](https://img.shields.io/badge/arXiv-arXiv:2211.06576-b31b1b.svg)](https://arxiv.org/abs/arXiv:2211.06576) | **A Close-in Planet Orbiting Giant Star HD 167768**  |\n",
       "|| Huan-Yu Teng, et al. -- incl., <mark>Yu-Juan Liu</mark> |\n",
       "|*Appeared on*| *2022-11-15*|\n",
       "|*Comments*| *Accepted by Publications of the Astronomical Society of Japan, 9 pages, 7 figures, 2 tables. arXiv admin note: text overlap with arXiv:2209.09426*|\n",
       "|**Abstract**| We report the detection of a giant planet orbiting a G-type giant star HD 167768 from radial velocity measurements using HIgh Dispersion Echelle Spectrograph (HIDES) at Okayama Astrophysical Observatory (OAO). HD 167768 has a mass of $1.08_{-0.12}^{+0.14} M_{\\odot}$, a radius of $9.70_{-0.25}^{+0.25} R_{\\odot}$, a metallicity of $\\rm{[Fe/H]}=-0.67_{-0.08}^{+0.09}$, and a surface gravity of $\\log g = 2.50_{-0.06}^{+0.06}$. The planet orbiting the star is a warm Jupiter, having a period of $20.6532_{-0.0032}^{+0.0032}\\ \\rm{d}$, a minimum mass of $0.85_{-0.11}^{+0.12}\\ M_{\\rm{J}}$, and an orbital semimajor axis of $0.1512_{-0.0063}^{+0.0058}\\ \\rm{au}$. The planet has one of the shortest orbital periods among those ever found around deeply evolved stars ($\\log g < 3.5$) using radial velocity methods. The equilibrium temperature of the planet is $1874\\ \\rm{K}$, as high as a hot Jupiter. The radial velocities show two additional regular variations at $41\\ \\rm{d}$ and $95\\ \\rm{d}$, suggesting the possibility of outer companions in the system. Follow-up monitoring will enable validation of the periodicity. We also calculated the orbital evolution of HD 167768 b and found that the planet will be engulfed within 0.15\\,Gyr. |\n",
       "|<p style=\"color:green\"> **ERROR** </p>| <p style=\"color:green\">affiliation error: mpia.affiliation_verifications: 'Heidelberg' keyword not found.</p> |"
      ],
      "text/plain": [
       "<IPython.core.display.Markdown object>"
      ]
     },
     "metadata": {},
     "output_type": "display_data"
    },
    {
     "data": {
      "text/markdown": [
       "\n",
       "|||\n",
       "|---:|:---|\n",
       "| [![arXiv](https://img.shields.io/badge/arXiv-arXiv:2211.06629-b31b1b.svg)](https://arxiv.org/abs/arXiv:2211.06629) | **V838 Mon: A slow waking up of Sleeping Beauty?**  |\n",
       "|| <mark>T. Liimets</mark>, et al. -- incl., <mark>J. E. Lindberg</mark> |\n",
       "|*Appeared on*| *2022-11-15*|\n",
       "|*Comments*| *13 pages, 12 figures, accepted for publication in A&A*|\n",
       "|**Abstract**| Context. V838 Monocerotis is a peculiar binary that underwent an immense stellar explosion in 2002, leaving behind an expanding cool supergiant and a hot B3V companion. Five years after the outburst, the B3V companion disappeared from view, and so far did not recover. Aims. We investigate the changes in the light curve and spectral features Methods. A monitoring campaign has been performed during the past 13 years with the Nordic Optical Telescope to obtain optical photometric and spectroscopic data. The data sets are used to analyse the temporal evolution of the spectral features and the spectral energy distribution, and to characterize the object. Results. Our photometric data show a steady brightening in all bands during the past 13 years, which is particularly prominent in the blue. This rise is also reflected in the spectra, showing a gradual relative increase in the continuum flux at shorter wavelengths. In addition, a slow brightening of the Ha emission line starting in 2015 was detected. These changes might imply that the B3V companion is slowly reappearing. During the same time interval, our analysis reveals a considerable change in the observed colours of the object along with a steady decrease in the strength and width of molecular absorption bands in our low-resolution spectra. These changes suggest a rising temperature of the cool supergiant along with a weakening of its wind, most likely combined with a slow recovery of the secondary due to the evaporation of the dust and accretion of the material from the shell in which the hot companion is embedded. From our medium-resolution spectra, we find that the heliocentric radial velocity of the atomic absorption line of TiI 6556.06 A has been stable for more than a decade. We propose that TiI lines are tracing the velocity of the red supergiant in V838 Mon, and not representing the infalling matter as previously stated. |\n",
       "|<p style=\"color:green\"> **ERROR** </p>| <p style=\"color:green\">affiliation error: mpia.affiliation_verifications: 'Heidelberg' keyword not found.</p> |"
      ],
      "text/plain": [
       "<IPython.core.display.Markdown object>"
      ]
     },
     "metadata": {},
     "output_type": "display_data"
    },
    {
     "data": {
      "text/markdown": [
       "\n",
       "|||\n",
       "|---:|:---|\n",
       "| [![arXiv](https://img.shields.io/badge/arXiv-arXiv:2211.06698-b31b1b.svg)](https://arxiv.org/abs/arXiv:2211.06698) | **eRASSt J040515.6-745202, an X-ray burster in the Magellanic Bridge**  |\n",
       "|| F. Haberl, et al. -- incl., <mark>D. Lang</mark>, <mark>P. Maggi</mark> |\n",
       "|*Appeared on*| *2022-11-15*|\n",
       "|*Comments*| *Accepted for publication in Astronomy & Astrophysics. 10 pages, 13 figures*|\n",
       "|**Abstract**| During the third all-sky survey (eRASS3), eROSITA, the soft X-ray instrument aboard Spectrum-Roentgen-Gamma, detected a new hard X-ray transient, eRASSt J040515.6-745202, in the direction of the Magellanic Bridge. We arranged follow-up observations and searched for archival data to reveal the nature of the transient. Using X-ray observations with XMM-Newton, NICER, and Swift, we investigated the temporal and spectral behaviour of the source for over about 10 days. The X-ray light curve obtained from the XMM-Newton observation with an 28 ks exposure revealed a type-I X-ray burst with a peak bolometric luminosity of at least 1.4e37 erg/s. The burst energetics are consistent with a location of the burster at the distance of the Magellanic Bridge. The relatively long exponential decay time of the burst of 70 s indicates that it ignited in a H-rich environment. The non-detection of the source during the other eROSITA surveys, twelve and six months before and six months after eRASS3, suggests that the burst was discovered during a moderate outburst which reached 2.6e36 erg/s in persistent emission. During the NICER observations, the source showed alternating flux states with the high level at a similar brightness as during the XMM-Newton observation. This behaviour is likely caused by dips as also seen during the last hour of the XMM-Newton observation. Evidence for a recurrence of the dips with a period of 21.8 hr suggests eRASSt J040515.6-745202 is a low-mass X-ray binary (LMXB) system with an accretion disk seen nearly edge on. We identify a multi-wavelength counterpart to the X-ray source in UVW1 and g, r, i, and z images obtained by the optical/UV monitor on XMM-Newton and the Dark Energy Camera at the Cerro Tololo Inter-American Observatory. (abbreviated) |\n",
       "|<p style=\"color:green\"> **ERROR** </p>| <p style=\"color:green\">affiliation error: mpia.affiliation_verifications: 'Heidelberg' keyword not found.</p> |"
      ],
      "text/plain": [
       "<IPython.core.display.Markdown object>"
      ]
     },
     "metadata": {},
     "output_type": "display_data"
    },
    {
     "data": {
      "text/markdown": [
       "\n",
       "|||\n",
       "|---:|:---|\n",
       "| [![arXiv](https://img.shields.io/badge/arXiv-arXiv:2211.06712-b31b1b.svg)](https://arxiv.org/abs/arXiv:2211.06712) | **Helio2024 Science White Paper: ngGONG -- Future Ground-based Facilities  for Research in Heliophysics and Space Weather Operational Forecast**  |\n",
       "|| Alexei A. Pevtsov, et al. -- incl., <mark>M. Roth</mark>, <mark>Jie Zhang</mark> |\n",
       "|*Appeared on*| *2022-11-15*|\n",
       "|*Comments*| *White paper submitted to Decadal Survey for Solar and Space Physics (Heliophysics) 2024-2033, 11 pages, 2 figures*|\n",
       "|**Abstract**| Long-term synoptic observations of the Sun are critical for advancing our understanding of Sun as an astrophysical object, understanding the solar irradiance and its role in solar-terrestrial climate, for developing predictive capabilities of solar eruptive phenomena and their impact on our home planet, and heliosphere in general, and as a data provider for the operational space weather forecast. We advocate for the development of a ground-based network of instruments provisionally called ngGONG to maintain critical observing capabilities for synoptic research in solar physics and for the operational space weather forecast. |\n",
       "|<p style=\"color:green\"> **ERROR** </p>| <p style=\"color:green\">affiliation error: mpia.affiliation_verifications: 'Heidelberg' keyword not found.</p> |"
      ],
      "text/plain": [
       "<IPython.core.display.Markdown object>"
      ]
     },
     "metadata": {},
     "output_type": "display_data"
    },
    {
     "data": {
      "text/markdown": [
       "\n",
       "|||\n",
       "|---:|:---|\n",
       "| [![arXiv](https://img.shields.io/badge/arXiv-arXiv:2211.06773-b31b1b.svg)](https://arxiv.org/abs/arXiv:2211.06773) | **Tracing the hot spot motion using the next generation Event Horizon  Telescope(ngEHT)**  |\n",
       "|| Razieh Emami, et al. -- incl., <mark>Lindy Blackburn</mark>, <mark>Matthew Liska</mark>, <mark>Lars Hernquist</mark>, <mark>Randall Smith</mark>, <mark>He Sun</mark> |\n",
       "|*Appeared on*| *2022-11-15*|\n",
       "|*Comments*| *16 pages, 8 pages*|\n",
       "|**Abstract**| We propose to trace the dynamical motion of a shearing hot spot near the SgrA* source through a dynamical image reconstruction algorithm, StarWarps. Such a hot spot may form as the exhaust of magnetic reconnection in a current sheet near the black hole horizon. A hot spot that is ejected from the current sheet into an orbit in the accretion disk may shear and diffuse due to instabilities at its boundary during its orbit, resulting in a distinct signature. We subdivide the motion to two distinct phases; the first phase refers to the appearance of the hot spot modelled as a bright blob, followed by a subsequent shearing phase simulated as a stretched ellipse. We employ different observational arrays, including EHT(2017,2022) and the next generation event horizon telescope (ngEHTp1, ngEHT) arrays, in which few new additional sites are added to the observational array. We make dynamical image reconstructions for each of these arrays. Subsequently, we infer the hot spot phase in the first phase followed by the axes ratio and the ellipse area in the second phase. We focus on the direct observability of the orbiting hot spot in the sub-mm wavelength. Our analysis demonstrates that newly added dishes may easily trace the first phase as well as part of the second phase, before the flux is reduced substantially. The algorithm used in this work can be extended to any other types of the dynamical motion. Consequently, we conclude that the ngEHT is a key to directly observe the dynamical motions near variable sources, such as SgrA*. |\n",
       "|<p style=\"color:green\"> **ERROR** </p>| <p style=\"color:green\">affiliation error: mpia.affiliation_verifications: 'Heidelberg' keyword not found.</p> |"
      ],
      "text/plain": [
       "<IPython.core.display.Markdown object>"
      ]
     },
     "metadata": {},
     "output_type": "display_data"
    },
    {
     "data": {
      "text/markdown": [
       "\n",
       "|||\n",
       "|---:|:---|\n",
       "| [![arXiv](https://img.shields.io/badge/arXiv-arXiv:2211.06777-b31b1b.svg)](https://arxiv.org/abs/arXiv:2211.06777) | **Searching for Barium Stars from the LAMOST Spectra Using the Machine  Learning Method: I**  |\n",
       "|| <mark>Fengyue Guo</mark>, et al. -- incl., <mark>Yatao Zhang</mark> |\n",
       "|*Appeared on*| *2022-11-15*|\n",
       "|*Comments*| *13 pages, 6 figures*|\n",
       "|**Abstract**| Barium stars are chemically peculiar stars that exhibit enhancement of s-process elements. Chemical abundance analysis of barium stars can provide crucial clues for the study of the chemical evolution of the Galaxy. The Large Sky Area Multi-Object Fiber Spectroscopic Telescope (LAMOST) has released more than 6 million low-resolution spectra of FGK-type stars by Data Release 9 (DR9), which can significantly increase the sample size of barium stars. In this paper, we used machine learning algorithms to search for barium stars from low-resolution spectra of LAMOST. We have applied the Light Gradient Boosting Machine (LGBM) algorithm to build classifiers of barium stars based on different features, and build predictors for determining [Ba/Fe] and [Sr/Fe] of barium candidates. The classification with features in the whole spectrum performs best: for the sample with strontium enhancement, Precision = 97.81%, and Recall = 96.05%; for the sample with barium enhancement, Precision = 96.03% and Recall = 97.70%. In prediction, [Ba/Fe] estimated from BaII line at 4554 \\r{A} has smaller dispersion than that from BaII line at 4934 \\r{A}: MAE$_{4554 \\r{A}}$ = 0.07, $\\sigma_{4554 \\r{A}}$ = 0.12. [Sr/Fe] estimated from SrII line at 4077 \\r{A} performs better than that from SrII line at 4215 \\r{A}: MAE$_{4077 \\r{A}}$ = 0.09, $\\sigma_{4077 \\r{A}}$ = 0.16. A comparison of the LGBM and other popular algorithms shows that LGBM is accurate and efficient in classifying barium stars. This work demonstrated that machine learning can be used as an effective means to identify chemically peculiar stars and determine their elemental abundance. |\n",
       "|<p style=\"color:green\"> **ERROR** </p>| <p style=\"color:green\">affiliation error: mpia.affiliation_verifications: 'Heidelberg' keyword not found.</p> |"
      ],
      "text/plain": [
       "<IPython.core.display.Markdown object>"
      ]
     },
     "metadata": {},
     "output_type": "display_data"
    },
    {
     "data": {
      "text/markdown": [
       "\n",
       "|||\n",
       "|---:|:---|\n",
       "| [![arXiv](https://img.shields.io/badge/arXiv-arXiv:2211.06825-b31b1b.svg)](https://arxiv.org/abs/arXiv:2211.06825) | **Magnetar wind-driven shock breakout emission after double neutron star  mergers: The effect of the anisotropy of the merger ejecta**  |\n",
       "|| Guang-Lei Wu, Yun-Wei Yu, <mark>Shao-Ze Li</mark> |\n",
       "|*Appeared on*| *2022-11-15*|\n",
       "|*Comments*| *Contribution to the Special Issue \"Advances in Astrophysics and Cosmology-in Memory of Prof. Tan Lu\"*|\n",
       "|**Abstract**| A rapidly rotating and highly magnetized remnant neutron star (NS; magnetar) could survive from a merger of double NSs and drive a powerful relativistic wind. The early interaction of this wind with the previous merger ejecta can lead to shock breakout (SBO) emission mainly in ultraviolet and soft X-ray bands, which provides an observational signature for the existence of the remnant magnetar. Here we investigate the effect of an anisotropic structure of the merger ejecta on the SBO emission. It is found that bolometric light curve of the SBO emission can be broadened, since the SBO can occur at different times for different directions. In more detail, the profile of the SBO light curve can be highly dependent on the ejecta structure and, thus, we can in principle use the SBO light curves to probe the structure of the merger ejecta in future. |\n",
       "|<p style=\"color:green\"> **ERROR** </p>| <p style=\"color:green\">affiliation error: mpia.affiliation_verifications: 'Heidelberg' keyword not found.</p> |"
      ],
      "text/plain": [
       "<IPython.core.display.Markdown object>"
      ]
     },
     "metadata": {},
     "output_type": "display_data"
    },
    {
     "data": {
      "text/markdown": [
       "\n",
       "|||\n",
       "|---:|:---|\n",
       "| [![arXiv](https://img.shields.io/badge/arXiv-arXiv:2211.06834-b31b1b.svg)](https://arxiv.org/abs/arXiv:2211.06834) | **M31N 2017-01e: Discovery of a Previous Eruption in this Enigmatic  Recurrent Nova**  |\n",
       "|| Allen W. Shafter, Kenta Taguchi, <mark>Jingyuan Zhao</mark>, Kamil Hornoch |\n",
       "|*Appeared on*| *2022-11-15*|\n",
       "|*Comments*| *11 pages, 3 tables, 1 figure; Accepted for publication in Research Notes of the AAS*|\n",
       "|**Abstract**| We report the discovery of a previously unknown eruption of the recurrent nova M31N 2017-01e that took place on 11 January 2012. The earlier eruption was detected by Pan-STARRS and occurred 1847 days (5.06 yr) prior to the eruption on 31 January 2017 (M31N 2017-01e). The nova has now been seen to have had a total of four recorded eruptions (M31N 2012-01c, 2017-01e, 2019-09d, and 2022-03d) with a mean time between outbursts of just $929.5\\pm6.8$ days ($2.545\\pm0.019$ yr), the second shortest recurrence time known for any nova. We also show that there is a blue variable source ($\\langle V \\rangle = 20.56\\pm0.17$, $B-V\\simeq0.045$), apparently coincident with the position of the nova, that exhibits a 14.3 d periodicity. Possible models of the system are proposed, but none are entirely satisfactory. |\n",
       "|<p style=\"color:green\"> **ERROR** </p>| <p style=\"color:green\">affiliation error: mpia.affiliation_verifications: 'Heidelberg' keyword not found.</p> |"
      ],
      "text/plain": [
       "<IPython.core.display.Markdown object>"
      ]
     },
     "metadata": {},
     "output_type": "display_data"
    },
    {
     "data": {
      "text/markdown": [
       "\n",
       "|||\n",
       "|---:|:---|\n",
       "| [![arXiv](https://img.shields.io/badge/arXiv-arXiv:2211.06895-b31b1b.svg)](https://arxiv.org/abs/arXiv:2211.06895) | **Probing the evolution of Type Ia supernovae with their ejecta velocities**  |\n",
       "|| Y.-C. Pan, et al. -- incl., <mark>I.-Y. Lee</mark>, <mark>M. E. Huber</mark> |\n",
       "|*Appeared on*| *2022-11-15*|\n",
       "|*Comments*| *21 pages, 14 figures, 4 tables, submitted to ApJ*|\n",
       "|**Abstract**| There is growing evidence that Type Ia supernovae (SNe Ia) are likely produced via multiple explosion channels. Understanding how different channels evolve with redshift is critical in determining their precision in measuring cosmological parameters. Previous studies indicated that SN Ia ejecta velocity is one powerful tool to differentiate between different channels. It was also suspected that the tight correlation with the host-galaxy environment could result in the evolution of SN ejecta velocities. In this work, we measure the Si II 6355 velocities from ~400 confirmed SNe Ia discovered by the Pan-STARRS1 Medium Deep Survey (PS1-MDS), and combine them with the SNe discovered by different surveys to form a large compilation of velocity measurements. For the first time, we find that the SNe Ia with faster Si II 6355 have a significantly different redshift distribution from their slower counterparts (with a p-value of 0.00008 from the K-S test), in the sense that HV SNe Ia are more likely to be found at lower redshift. The trend may suggest a strong evolution of SN Ia ejecta velocity, or imply that the SN Ia demographics (as distinguished by their ejecta velocities) are likely to vary with time. Our results also imply that the progenitor system of HV SNe Ia (and possibly some NV SNe Ia) may favor a metal-rich environment and/or scenarios of long delay time. However, we do not see a significant difference (in ~2 sigma) in Hubble residuals when splitting our sample based on the Si II 6355 velocity. |\n",
       "|<p style=\"color:green\"> **ERROR** </p>| <p style=\"color:green\">affiliation error: mpia.affiliation_verifications: 'Heidelberg' keyword not found.</p> |"
      ],
      "text/plain": [
       "<IPython.core.display.Markdown object>"
      ]
     },
     "metadata": {},
     "output_type": "display_data"
    },
    {
     "data": {
      "text/markdown": [
       "\n",
       "|||\n",
       "|---:|:---|\n",
       "| [![arXiv](https://img.shields.io/badge/arXiv-arXiv:2211.06903-b31b1b.svg)](https://arxiv.org/abs/arXiv:2211.06903) | **Discovering Long-period Exoplanets using Deep Learning with Citizen  Science Labels**  |\n",
       "|| Shreshth A. Malik, Nora L. Eisner, <mark>Chris J. Lintott</mark>, Yarin Gal |\n",
       "|*Appeared on*| *2022-11-15*|\n",
       "|*Comments*| *Accepted at the Machine Learning and the Physical Sciences workshop, NeurIPS 2022*|\n",
       "|**Abstract**| Automated planetary transit detection has become vital to prioritize candidates for expert analysis given the scale of modern telescopic surveys. While current methods for short-period exoplanet detection work effectively due to periodicity in the light curves, there lacks a robust approach for detecting single-transit events. However, volunteer-labelled transits recently collected by the Planet Hunters TESS (PHT) project now provide an unprecedented opportunity to investigate a data-driven approach to long-period exoplanet detection. In this work, we train a 1-D convolutional neural network to classify planetary transits using PHT volunteer scores as training data. We find using volunteer scores significantly improves performance over synthetic data, and enables the recovery of known planets at a precision and rate matching that of the volunteers. Importantly, the model also recovers transits found by volunteers but missed by current automated methods. |\n",
       "|<p style=\"color:green\"> **ERROR** </p>| <p style=\"color:green\">affiliation error: mpia.affiliation_verifications: 'Heidelberg' keyword not found.</p> |"
      ],
      "text/plain": [
       "<IPython.core.display.Markdown object>"
      ]
     },
     "metadata": {},
     "output_type": "display_data"
    },
    {
     "data": {
      "text/markdown": [
       "\n",
       "|||\n",
       "|---:|:---|\n",
       "| [![arXiv](https://img.shields.io/badge/arXiv-arXiv:2211.06915-b31b1b.svg)](https://arxiv.org/abs/arXiv:2211.06915) | **A Search for Missing Radio Sources at $z\\gtrsim4$ Using Lyman Dropouts**  |\n",
       "|| Devika Shobhana, et al. -- incl., <mark>Michael J. I. Brown</mark> |\n",
       "|*Appeared on*| *2022-11-15*|\n",
       "|*Comments*| *Accepted for publication in Monthly Notices of the Royal Astronomical Society*|\n",
       "|**Abstract**| Using the Lyman Dropout technique, we identify 148 candidate radio sources at $z \\gtrsim 4 - 7$ from the 887.5 MHz Australian Square Kilometer Array Pathfinder (ASKAP) observations of the GAMA23 field. About 112 radio sources are currently known beyond redshift $z\\sim4$. However, simulations predict that hundreds of thousands of radio sources exist in that redshift range, many of which are probably in existing radio catalogues but do not have measured redshifts, either because their optical emission is too faint or because of the lack of techniques that can identify candidate high-redshift radio sources (HzRSs). Our study addresses these issues using the Lyman Dropout search technique. This newly built sample probes radio luminosities that are 1-2 orders of magnitude fainter than known radio-active galactic nuclei (AGN) at similar redshifts, thanks to ASKAP's sensitivity. We investigate the physical origin of radio emission in our sample using a set of diagnostics: (i) radio luminosity at 1.4 GHz, (ii) 1.4 GHz-to-3.4 $\\mu$m flux density ratio, (iii) Far-IR detection, (iv) WISE colour, and (v) SED modelling. The radio/IR analysis has shown that the majority of radio emission in the faint and bright end of our sample's 887.5 MHz flux density distribution originates from AGN activity. Furthermore, $\\sim10\\%$ of our sample are found to have a 250 $\\mu$m detection, suggesting a composite system. This suggests that some high-$z$ radio-AGNs are hosted by SB galaxies, in contrast to low-$z$ radio-AGNs, which are usually hosted by quiescent elliptical galaxies. |\n",
       "|<p style=\"color:green\"> **ERROR** </p>| <p style=\"color:green\">affiliation error: mpia.affiliation_verifications: 'Heidelberg' keyword not found.</p> |"
      ],
      "text/plain": [
       "<IPython.core.display.Markdown object>"
      ]
     },
     "metadata": {},
     "output_type": "display_data"
    },
    {
     "data": {
      "text/markdown": [
       "\n",
       "|||\n",
       "|---:|:---|\n",
       "| [![arXiv](https://img.shields.io/badge/arXiv-arXiv:2211.06931-b31b1b.svg)](https://arxiv.org/abs/arXiv:2211.06931) | **The multichord stellar occultation by the centaur Bienor on January 11,  2019**  |\n",
       "|| E. Fernández-Valenzuela, et al. -- incl., <mark>S. Hellmich</mark> |\n",
       "|*Appeared on*| *2022-11-15*|\n",
       "|*Comments*| *Accepted for publication in A\\&A*|\n",
       "|**Abstract**| Within our program of physical characterization of trans-Neptunian objects and centaurs, we predicted a stellar occultation by the centaur (54598) Bienor to occur on January 11, 2019, with good observability potential. We obtained high accuracy astrometric data to refine the prediction, resulting in a shadow path favorable for the Iberian Peninsula. This encouraged us to carry out an occultation observation campaign that resulted in five positive detections from four observing sites. This is the fourth centaur for which a multichord (more than two chords) stellar occultation has been observed so far, the other three being (2060) Chiron, (10199) Chariklo, and (95626) 2002 GZ$_{32}$. From the analysis of the occultation chords, combined with the rotational light curve obtained shortly after the occultation, we determined that Bienor has an area-equivalent diameter of $150\\pm20$ km. This diameter is $\\sim30$ km smaller than the one obtained from thermal measurements. The position angle of the short axis of the best fitting ellipse obtained through the analysis of the stellar occultation does not match that of the spin axis derived from long-term photometric models. We also detected a strong irregularity in one of the minima of the rotational light curve that is present no matter the aspect angle at which the observations were done. We present different scenarios to reconcile the results from the different techniques. We did not detect secondary drops related to potential rings or satellites. Nonetheless, similar rings in size to that of Chariklo's cannot be discarded due to low data accuracy. |\n",
       "|<p style=\"color:green\"> **ERROR** </p>| <p style=\"color:green\">affiliation error: mpia.affiliation_verifications: 'Heidelberg' keyword not found.</p> |"
      ],
      "text/plain": [
       "<IPython.core.display.Markdown object>"
      ]
     },
     "metadata": {},
     "output_type": "display_data"
    },
    {
     "data": {
      "text/markdown": [
       "\n",
       "|||\n",
       "|---:|:---|\n",
       "| [![arXiv](https://img.shields.io/badge/arXiv-arXiv:2211.06960-b31b1b.svg)](https://arxiv.org/abs/arXiv:2211.06960) | **Non-detection of Broad Hydrogen Radio Recombination Lines in Circinus  Galaxy**  |\n",
       "|| Junzhi Wang, et al. -- incl., <mark>Zhi-Yu Zhang</mark>, <mark>Shu Liu</mark>, <mark>Jiangshui Zhang</mark> |\n",
       "|*Appeared on*| *2022-11-15*|\n",
       "|*Comments*| *5 pages, 2 Figures, published in MNRAS Letters*|\n",
       "|**Abstract**| The line widths of broad line regions (BLRs) of AGNs are key parameters for understanding the central super massive black holes (SMBHs). However, due to obscuration from dusty torus, optical recombination lines from BLRs in type II AGNs can not be directly detected. Radio recombination lines (RRLs), with low extinction, can be ideal tracers to probe emission from BLRs in type II AGNs. We performed RRL observations for H35$\\alpha$ and H36$\\alpha$ toward the center of Circinus galaxy with ALMA. Narrow components of H35$\\alpha$ and H36$\\alpha$, which are thought to be mainly from star forming regions around the nuclear region, are detected. However, only upper limits are obtained for broad H35$\\alpha$ and H36$\\alpha$. Since Circinus galaxy is one of the nearest AGN, non-detection of broad RRLs in Circinus galaxy at this band tells us that it is hopeless to detect broad RRL emission in local AGNs with current facilities. Submillimetre RRLs, with flux densities that are dozens of times higher than those at the millimetre level, could be the tools to directly detect BLRs in type II AGNs with ALMA, once its backend frequency coverage has been upgraded to several times better than its current capabilities. |\n",
       "|<p style=\"color:green\"> **ERROR** </p>| <p style=\"color:green\">affiliation error: mpia.affiliation_verifications: 'Heidelberg' keyword not found.</p> |"
      ],
      "text/plain": [
       "<IPython.core.display.Markdown object>"
      ]
     },
     "metadata": {},
     "output_type": "display_data"
    },
    {
     "data": {
      "text/markdown": [
       "\n",
       "|||\n",
       "|---:|:---|\n",
       "| [![arXiv](https://img.shields.io/badge/arXiv-arXiv:2211.07049-b31b1b.svg)](https://arxiv.org/abs/arXiv:2211.07049) | **Radio Transients and Variables in the Tenth Deeper, Wider, Faster  Observing Run**  |\n",
       "|| D. Dobie, et al. -- incl., <mark>C. Li</mark>, <mark>J. Zhang</mark>, <mark>S. N. Zhang</mark> |\n",
       "|*Appeared on*| *2022-11-15*|\n",
       "|*Comments*| **|\n",
       "|**Abstract**| The Deeper, Wider, Faster (DWF) program coordinates observations with telescopes across the electromagnetic spectrum, searching for transients on timescales of milliseconds to days. The tenth DWF observing run was carried out in near real-time during September 2021 and consisted of six consecutive days of observations of the NGC 6744 galaxy group and a field containing the repeating fast radio burst FRB190711 with the Australian Square Kilometre Array Pathfinder, the Dark Energy Camera, the Hard X-ray Modulation Telescope and the Parkes 64m \"Murriyang\" radio telescope. In this work we present the results of an image-domain search for transient, variable and circularly polarised sources carried out with ASKAP using data from the observing run, along with test observations prior to the run and follow-up observations carried out during and after the run. We identified eight variable radio sources, consisting of one pulsar, six stellar systems (five of which exhibit circularly polarised emission) and one previously uncatalogued source. Of particular interest is the detection of pulses from the ultra-cool dwarf SCR J1845-6357 with a period of $14.2\\pm 0.3$ h, in good agreement with the known optical rotation period, making this the slowest rotating radio-loud ultra-cool dwarf discovered. |\n",
       "|<p style=\"color:green\"> **ERROR** </p>| <p style=\"color:green\">affiliation error: mpia.affiliation_verifications: 'Heidelberg' keyword not found.</p> |"
      ],
      "text/plain": [
       "<IPython.core.display.Markdown object>"
      ]
     },
     "metadata": {},
     "output_type": "display_data"
    },
    {
     "data": {
      "text/markdown": [
       "\n",
       "|||\n",
       "|---:|:---|\n",
       "| [![arXiv](https://img.shields.io/badge/arXiv-arXiv:2211.07070-b31b1b.svg)](https://arxiv.org/abs/arXiv:2211.07070) | **On the Hadronic Origin of High Energy Emission of $γ$-ray Loud  Narrow-Line Seyfert 1 PKS 1502+036**  |\n",
       "|| Zhen-Jie Wang, Ze-Rui Wang, <mark>Ruo-Yu Liu</mark>, Junfeng Wang |\n",
       "|*Appeared on*| *2022-11-15*|\n",
       "|*Comments*| *16 pages, 8 figures, accepted for publication in ApJ*|\n",
       "|**Abstract**| The radiation mechanism of Radio-Loud Narrow-Line Seyfert 1 (RL-NLS1) from X-ray to $\\gamma$-ray bands remains an open question. While the leptonic model has been employed to explain the spectral energy distribution (SED), the hadronic process may potentially account for the high energy radiation of some $\\gamma$-ray loud Narrow-Line Seyfert 1 (NLS1) as well. We study one of such RL-NLS1, PKS 1502+036, comparing the theoretical SEDs predicted by the leptonic model and the lepto-hadronic model to the observed one. For the hadronic processes, we take into account the proton synchrotron radiation and proton-photon interactions (including the Bethe-Heitler process and the photopion process) including the emission of pairs generated in the electromagnetic cascade initiated by these processes. Our results show that the leptonic model can reproduce the SED of this source, in which the X-ray to $\\gamma$-ray radiation can be interpreted as the inverse Compton (IC) scattering. On the other hand, the proton synchrotron radiation can also explain the high energy component of SED although extreme parameters are needed. We also demonstrate that the $p\\gamma$ interactions as well as the cascade process cannot explain SED. Our results imply that a leptonic origin is favored for the multi-wavelength emission of PKS 1502+036. |\n",
       "|<p style=\"color:green\"> **ERROR** </p>| <p style=\"color:green\">affiliation error: mpia.affiliation_verifications: 'Heidelberg' keyword not found.</p> |"
      ],
      "text/plain": [
       "<IPython.core.display.Markdown object>"
      ]
     },
     "metadata": {},
     "output_type": "display_data"
    },
    {
     "data": {
      "text/markdown": [
       "\n",
       "|||\n",
       "|---:|:---|\n",
       "| [![arXiv](https://img.shields.io/badge/arXiv-arXiv:2211.07094-b31b1b.svg)](https://arxiv.org/abs/arXiv:2211.07094) | **WALLABY Pilot Survey: Public release of HI data for almost 600 galaxies  from phase 1 of ASKAP pilot observations**  |\n",
       "|| T. Westmeier, et al. -- incl., <mark>X. Lin</mark>, <mark>D. Kleiner</mark>, <mark>K. Lee-Waddell</mark>, <mark>L. Staveley-Smith</mark>, <mark>Lewis Ball</mark>, <mark>E. K. Mahony</mark> |\n",
       "|*Appeared on*| *2022-11-15*|\n",
       "|*Comments*| *24 pages, 13 figures, 5 tables, accepted for publication in PASA*|\n",
       "|**Abstract**| We present WALLABY pilot data release 1, the first public release of HI pilot survey data from the Wide-field ASKAP L-band Legacy All-sky Blind Survey (WALLABY) on the Australian Square Kilometre Array Pathfinder. Phase 1 of the WALLABY pilot survey targeted three $60~{\\rm deg}^2$ regions on the sky in the direction of the Hydra and Norma galaxy clusters and the NGC 4636 galaxy group, covering the redshift range of z < 0.08. The source catalogue, images and spectra of nearly 600 extragalactic HI detections and kinematic models for 109 spatially resolved galaxies are available. As the pilot survey targeted regions containing nearby group and cluster environments, the median redshift of the sample of z ~ 0.014 is relatively low compared to the full WALLABY survey. The median galaxy HI mass is $2.3 \\times 10^{9}~M_{\\odot}$. The target noise level of 1.6 mJy per $30''$ beam and 18.5 kHz channel translates into a $5\\sigma$ HI mass sensitivity for point sources of about $5.2 \\times 10^{8} \\, (D_{\\rm L} / \\mathrm{100~Mpc})^{2} \\, M_{\\odot}$ across 50 spectral channels (~200 km/s) and a $5\\sigma$ HI column density sensitivity of about $8.6 \\times 10^{19} \\, (1 + z)^{4}~\\mathrm{cm}^{-2}$ across 5 channels (~20 km/s) for emission filling the $30''$ beam. As expected for a pilot survey, several technical issues and artefacts are still affecting the data quality. Most notably, there are systematic flux errors of up to several 10% caused by uncertainties about the exact size and shape of each of the primary beams as well as the presence of sidelobes due to the finite deconvolution threshold. In addition, artefacts such as residual continuum emission and bandpass ripples have affected some of the data. The pilot survey has been highly successful in uncovering such technical problems, most of which are expected to be addressed and rectified before the start of the full WALLABY survey. |\n",
       "|<p style=\"color:green\"> **ERROR** </p>| <p style=\"color:green\">affiliation error: mpia.affiliation_verifications: 'Heidelberg' keyword not found.</p> |"
      ],
      "text/plain": [
       "<IPython.core.display.Markdown object>"
      ]
     },
     "metadata": {},
     "output_type": "display_data"
    },
    {
     "data": {
      "text/markdown": [
       "\n",
       "|||\n",
       "|---:|:---|\n",
       "| [![arXiv](https://img.shields.io/badge/arXiv-arXiv:2211.07100-b31b1b.svg)](https://arxiv.org/abs/arXiv:2211.07100) | **Observations of pores and surrounding regions with CO 4.66 μm lines  by BBSO/CYRA**  |\n",
       "|| Yongliang Song, et al. -- incl., <mark>Xin Li</mark>, <mark>Mei Zhang</mark> |\n",
       "|*Appeared on*| *2022-11-15*|\n",
       "|*Comments*| *8 pages, 8 figures. Accepted for publication in A&A*|\n",
       "|**Abstract**| Solar observations of carbon monoxide (CO) indicate the existence of lower-temperature gas in the lower solar chromosphere. We present an observation of pores, and quiet-Sun, and network magnetic field regions with CO 4.66 {\\mu}m lines by the Cryogenic Infrared Spectrograph (CYRA) at Big Bear Solar Observatory. We used the strong CO lines at around 4.66 {\\mu}m to understand the properties of the thermal structures of lower solar atmosphere in different solar features with various magnetic field strengths. AIA 1700 {\\AA} images, HMI continuum images and magnetograms are also included in the observation. The data from 3D radiation magnetohydrodynamic (MHD) simulation with the Bifrost code are also employed for the first time to be compared with the observation. We used the RH code to synthesize the CO line profiles in the network regions. The CO 3-2 R14 line center intensity changes to be either enhanced or diminished with increasing magnetic field strength, which should be caused by different heating effects in magnetic flux tubes with different sizes. We find several \"cold bubbles\" in the CO 3-2 R14 line center intensity images, which can be classified into two types. One type is located in the quiet-Sun regions without magnetic fields. The other type, which has rarely been reported in the past, is near or surrounded by magnetic fields. Notably, some are located at the edge of the magnetic network. The two kinds of cold bubbles and the relationship between cold bubble intensities and network magnetic field strength are both reproduced by the 3D MHD simulation with the Bifrost and RH codes. The simulation also shows that there is a cold plasma blob near the network magnetic fields, causing the observed cold bubbles seen in the CO 3-2 R14 line center image. Our observation and simulation illustrate that the magnetic field plays a vital role in the generation of some CO cold bubbles. |\n",
       "|<p style=\"color:green\"> **ERROR** </p>| <p style=\"color:green\">affiliation error: mpia.affiliation_verifications: 'Heidelberg' keyword not found.</p> |"
      ],
      "text/plain": [
       "<IPython.core.display.Markdown object>"
      ]
     },
     "metadata": {},
     "output_type": "display_data"
    },
    {
     "data": {
      "text/markdown": [
       "\n",
       "|||\n",
       "|---:|:---|\n",
       "| [![arXiv](https://img.shields.io/badge/arXiv-arXiv:2211.07168-b31b1b.svg)](https://arxiv.org/abs/arXiv:2211.07168) | **Unsupervised Galaxy Morphological Visual Representation with Deep  Contrastive Learning**  |\n",
       "|| Shoulin Wei, et al. -- incl., <mark>Yadi Li</mark>, <mark>Nan Li</mark>, <mark>Bo Liang</mark>, <mark>Zhijian Zhang</mark> |\n",
       "|*Appeared on*| *2022-11-15*|\n",
       "|*Comments*| *21 pages, 16 figures*|\n",
       "|**Abstract**| Galaxy morphology reflects structural properties which contribute to understand the formation and evolution of galaxies. Deep convolutional networks have proven to be very successful in learning hidden features that allow for unprecedented performance on galaxy morphological classification. Such networks mostly follow the supervised learning paradigm which requires sufficient labelled data for training. However, it is an expensive and complicated process of labeling for million galaxies, particularly for the forthcoming survey projects. In this paper, we present an approach based on contrastive learning with aim for learning galaxy morphological visual representation using only unlabeled data. Considering the properties of low semantic information and contour dominated of galaxy image, the feature extraction layer of the proposed method incorporates vision transformers and convolutional network to provide rich semantic representation via the fusion of the multi-hierarchy features. We train and test our method on 3 classifications of datasets from Galaxy Zoo 2 and SDSS-DR17, and 4 classifications from Galaxy Zoo DECaLS. The testing accuracy achieves 94.7%, 96.5% and 89.9% respectively. The experiment of cross validation demonstrates our model possesses transfer and generalization ability when applied to the new datasets. The code that reveals our proposed method and pretrained models are publicly available and can be easily adapted to new surveys. |\n",
       "|<p style=\"color:green\"> **ERROR** </p>| <p style=\"color:green\">affiliation error: mpia.affiliation_verifications: 'Heidelberg' keyword not found.</p> |"
      ],
      "text/plain": [
       "<IPython.core.display.Markdown object>"
      ]
     },
     "metadata": {},
     "output_type": "display_data"
    },
    {
     "data": {
      "text/markdown": [
       "\n",
       "|||\n",
       "|---:|:---|\n",
       "| [![arXiv](https://img.shields.io/badge/arXiv-arXiv:2211.07215-b31b1b.svg)](https://arxiv.org/abs/arXiv:2211.07215) | **The Volumetric Extended-Schmidt Law: A Unity Slope**  |\n",
       "|| Kaiyi Du, et al. -- incl., <mark>Zhi-Yu Zhang</mark>, <mark>Xin Li</mark>, <mark>Sai Zhai</mark> |\n",
       "|*Appeared on*| *2022-11-15*|\n",
       "|*Comments*| *15 pages, 8 figures, accepted by MNRAS*|\n",
       "|**Abstract**| We investigate the extended-Schmidt (ES) law in volume densities ($\\rho_{\\rm SFR}$ $\\propto$ $(\\rho_{\\rm gas}\\rho_{\\rm star}^{0.5})^{\\alpha^{\\rm VES}}$) for spatially-resolved regions in spiral, dwarf, and ultra-diffuse galaxies (UDGs), and compare to the volumetric Kennicutt-Schmidt (KS) law ($\\rho_{\\rm SFR}$ $\\propto$ $\\rho_{\\rm gas}^{\\alpha^{\\rm VKS}}$). We first characterize these star formation laws in individual galaxies using a sample of 11 spirals, finding median slopes $\\alpha^{\\rm VES}$=0.98 and $\\alpha^{\\rm VKS}$=1.42, with a galaxy-to-galaxy rms fluctuation that is substantially smaller for the volumetric ES law (0.18 vs 0.41). By combining all regions in spirals with those in additional 13 dwarfs and one UDG into one single dataset, it is found that the rms scatter of the volumetric ES law at given x-axis is 0.25 dex, also smaller than that of the volumetric KS law (0.34 dex). At the extremely low gas density regime as offered by the UDG, the volumetric KS law breaks down but the volumetric ES law still holds. On the other hand, as compared to the surface density ES law, the volumetric ES law instead has a slightly larger rms scatter, consistent with the scenario that the ES law has an intrinsic slope of $\\alpha^{\\rm VES} \\equiv$1 but the additional observational error of the scale height increases the uncertainty of the volume density. The unity slope of the ES law implies that the star formation efficiency (=$\\rho_{\\rm SFR}$/$\\rho_{\\rm gas}$) is regulated by the quantity that is related to the $\\rho_{\\rm star}^{0.5}$. |\n",
       "|<p style=\"color:green\"> **ERROR** </p>| <p style=\"color:green\">affiliation error: mpia.affiliation_verifications: 'Heidelberg' keyword not found.</p> |"
      ],
      "text/plain": [
       "<IPython.core.display.Markdown object>"
      ]
     },
     "metadata": {},
     "output_type": "display_data"
    },
    {
     "data": {
      "text/markdown": [
       "\n",
       "|||\n",
       "|---:|:---|\n",
       "| [![arXiv](https://img.shields.io/badge/arXiv-arXiv:2211.07244-b31b1b.svg)](https://arxiv.org/abs/arXiv:2211.07244) | **Rapid Formation of Exoplanetesimals Revealed by White Dwarfs**  |\n",
       "|| A. Bonsor, <mark>T. Lichtenberg</mark>, J. Drazkowska, A.M. Buchan |\n",
       "|*Appeared on*| *2022-11-15*|\n",
       "|*Comments*| *Accepted to Nature Astronomy*|\n",
       "|**Abstract**| The timing of formation for the first planetesimals determines the mode of planetary accretion and their geophysical and compositional evolution. Astronomical observations of circumstellar discs and Solar System geochronology provide evidence for planetesimal formation during molecular cloud collapse, much earlier than previously estimated. Here, we present distinct observational evidence from white dwarf planetary systems for planetesimal formation occurring during the first few hundred thousand years after cloud collapse in exoplanetary systems. A significant fraction of white dwarfs have accreted planetary material rich in iron core or mantle material. In order for the exo-asteroids accreted by white dwarfs to form iron cores, substantial heating is required. By simulating planetesimal evolution and collisional evolution we show that the most likely heat source is short-lived radioactive nuclides such as Al-2 (half life of approximately 0.7 Myr). Core-rich materials in the atmospheres of white dwarfs, therefore, provide independent evidence for rapid planetesimal formation, concurrent with star formation. |\n",
       "|<p style=\"color:green\"> **ERROR** </p>| <p style=\"color:green\">affiliation error: mpia.affiliation_verifications: 'Heidelberg' keyword not found.</p> |"
      ],
      "text/plain": [
       "<IPython.core.display.Markdown object>"
      ]
     },
     "metadata": {},
     "output_type": "display_data"
    },
    {
     "data": {
      "text/markdown": [
       "\n",
       "|||\n",
       "|---:|:---|\n",
       "| [![arXiv](https://img.shields.io/badge/arXiv-arXiv:2211.07305-b31b1b.svg)](https://arxiv.org/abs/arXiv:2211.07305) | **Resonant Excitation of Planetary Eccentricity due to a Dispersing  Eccentric Protoplanetary Disk: A New Mechanism of Generating Large Planetary  Eccentricities**  |\n",
       "|| <mark>Jiaru Li</mark>, Dong Lai |\n",
       "|*Appeared on*| *2022-11-15*|\n",
       "|*Comments*| *10 pages, 7 figures, submitted to ApJ*|\n",
       "|**Abstract**| We present a new mechanism of generating large planetary eccentricities. This mechanism applies to planets within the inner cavities of their companion protoplanetary disks. A massive disk with an inner truncation may become eccentric due to non-adiabatic effects associated with gas cooling, and can retain its eccentricity in long-lived coherently-precessing eccentric modes; as the disk disperses, the inner planet will encounter a secular resonance with the eccentric disk when the planet and the disk have the same apsidal precession rates; the eccentricity of the planet is then excited to a large value as the system goes through the resonance. In this work, we solve the eccentric modes of a model disk for a wide range of masses. We then adopt an approximate secular dynamics model to calculate the long-term evolution of the \"planet + dispersing disk\" system. The planet attains a large eccentricity (between 0.1 and 0.6) in our calculations, even though the disk eccentricity is quite small ($\\lesssim0.05$). This eccentricity excitation can be understood in terms of the mode conversion (``avoided crossing'') phenomenon associated with the evolution of the \"planet + disk\" eccentricity eigenstates. |\n",
       "|<p style=\"color:green\"> **ERROR** </p>| <p style=\"color:green\">affiliation error: mpia.affiliation_verifications: 'Heidelberg' keyword not found.</p> |"
      ],
      "text/plain": [
       "<IPython.core.display.Markdown object>"
      ]
     },
     "metadata": {},
     "output_type": "display_data"
    },
    {
     "data": {
      "text/markdown": [
       "\n",
       "|||\n",
       "|---:|:---|\n",
       "| [![arXiv](https://img.shields.io/badge/arXiv-arXiv:2211.07306-b31b1b.svg)](https://arxiv.org/abs/arXiv:2211.07306) | **Probing plasma composition with the next generation Event Horizon  Telescope (ngEHT)**  |\n",
       "|| Razieh Emami, et al. -- incl., <mark>Lindy Blackburn</mark>, <mark>Lars Hernquist</mark>, <mark>Randall Smith</mark>, <mark>Matthew Liska</mark>, <mark>Joana A. Kramer</mark> |\n",
       "|*Appeared on*| *2022-11-15*|\n",
       "|*Comments*| *14 pages, 9 figures*|\n",
       "|**Abstract**| We explore the plasma matter content in the innermost accretion disk/jet in M87* as relevant for an enthusiastic search for the signatures of anti-matter in the next generation of the Event Horizon Telescope (ngEHT). We model the impact of non-zero positron-to-electron ratio using different emission models including a constant electron to magnetic pressure (constant $\\beta_e$ model) with a population of non-thermal electrons as well as a R-beta model populated with thermal electrons. In the former case, we pick a semi-analytic fit to the force-free region of a general relativistic magnetohydrodynamic (GRMHD) simulation, while in the latter case, we analyze the GRMHD simulations directly. In both cases, positrons are being added at the post-processing level. We generate polarized images and spectra for some of these models and find out that at the radio frequencies, both of the linear and the circular polarizations get enhanced per adding pairs. On the contrary, we show that at higher frequencies a substantial positron fraction washes out the circular polarization. We report strong degeneracies between different emission models and the positron fraction, though our non-thermal models show more sensitivities to the pair fraction than the thermal models. We conclude that a large theoretical image library is indeed required to fully understand the trends probed in this study, and to place them in the context of large set of parameters which also affect polarimetric images, such as magnetic field strength, black hole spin, and detailed aspects of the electron temperature and the distribution function. |\n",
       "|<p style=\"color:green\"> **ERROR** </p>| <p style=\"color:green\">affiliation error: mpia.affiliation_verifications: 'Heidelberg' keyword not found.</p> |"
      ],
      "text/plain": [
       "<IPython.core.display.Markdown object>"
      ]
     },
     "metadata": {},
     "output_type": "display_data"
    },
    {
     "data": {
      "text/markdown": [
       "\n",
       "|||\n",
       "|---:|:---|\n",
       "| [![arXiv](https://img.shields.io/badge/arXiv-arXiv:2211.07333-b31b1b.svg)](https://arxiv.org/abs/arXiv:2211.07333) | **WALLABY Pilot Survey: Public release of HI kinematic models for more  than 100 galaxies from phase 1 of ASKAP pilot observations**  |\n",
       "|| N. Deg, et al. -- incl., <mark>D. Kleiner</mark>, <mark>K. Lee-Waddell</mark>, <mark>X. Lin</mark>, <mark>L. Staveley-Smith</mark> |\n",
       "|*Appeared on*| *2022-11-15*|\n",
       "|*Comments*| *Accepted to PASA*|\n",
       "|**Abstract**| We present the Widefield ASKAP L-band Legacy All-sky Blind surveY (WALLABY) Pilot Phase I HI kinematic models. This first data release consists of HI observations of three fields in the direction of the Hydra and Norma clusters, and the NGC 4636 galaxy group. In this paper, we describe how we generate and publicly release flat-disk tilted-ring kinematic models for 109/592 unique HI detections in these fields. The modelling method adopted here - which we call the WALLABY Kinematic Analysis Proto-Pipeline (WKAPP) and for which the corresponding scripts are also publicly available - consists of combining results from the homogeneous application of the FAT and 3DBAROLO algorithms to the subset of 209 detections with sufficient resolution and S/N in order to generate optimized model parameters and uncertainties. The 109 models presented here tend to be gas rich detections resolved by at least 3-4 synthesized beams across their major axes, but there is no obvious environmental bias in the modelling. The data release described here is the first step towards the derivation of similar products for thousands of spatially-resolved WALLABY detections via a dedicated kinematic pipeline. Such a large publicly available and homogeneously analyzed dataset will be a powerful legacy product that that will enable a wide range of scientific studies. |\n",
       "|<p style=\"color:green\"> **ERROR** </p>| <p style=\"color:green\">affiliation error: mpia.affiliation_verifications: 'Heidelberg' keyword not found.</p> |"
      ],
      "text/plain": [
       "<IPython.core.display.Markdown object>"
      ]
     },
     "metadata": {},
     "output_type": "display_data"
    },
    {
     "data": {
      "text/markdown": [
       "\n",
       "|||\n",
       "|---:|:---|\n",
       "| [![arXiv](https://img.shields.io/badge/arXiv-arXiv:2211.07338-b31b1b.svg)](https://arxiv.org/abs/arXiv:2211.07338) | **VLBI Celestial and Terrestrial Reference Frames VIE2022b**  |\n",
       "|| H. Krásná, et al. -- incl., <mark>J. Böhm</mark>, <mark>S. Böhm</mark>, <mark>A. Hellerschmied</mark> |\n",
       "|*Appeared on*| *2022-11-15*|\n",
       "|*Comments*| *11 pages, Submitted to the Astronomy & Astrophysics*|\n",
       "|**Abstract**| Context: We introduce the computation of global reference frames from Very Long Baseline Interferometry (VLBI) observations at the Vienna International VLBI Service for Geodesy and Astrometry (IVS) Analysis Center (VIE) in detail. We focus on the celestial and terrestrial frames from our two latest solutions VIE2020 and VIE2022b. Aims: The current International Celestial and Terrestrial Reference Frames, ICRF3 and ITRF2020, include VLBI observations until spring 2018 and December 2020, respectively. We provide terrestrial and celestial reference frames including VLBI sessions until June 2022 organized by the IVS. Methods: Vienna terrestrial and celestial reference frames are computed in a common least squares adjustment of geodetic and astrometric VLBI observations with the Vienna VLBI and Satellite Software (VieVS). Results: We provide high-quality celestial and terrestrial reference frames computed from 24-hour IVS observing sessions. The CRF provides positions of 5407 radio sources. In particular, positions of sources with few observations at the time of the ICRF3 calculation could be improved. The frame also includes positions of 870 new radio sources, which are not included in ICRF3. The additional observations beyond the data used for ITRF2020 provide a more reliable estimation of positions and linear velocities of newly established VLBI Global Observing System (VGOS) telescopes. |\n",
       "|<p style=\"color:green\"> **ERROR** </p>| <p style=\"color:green\">affiliation error: mpia.affiliation_verifications: 'Heidelberg' keyword not found.</p> |"
      ],
      "text/plain": [
       "<IPython.core.display.Markdown object>"
      ]
     },
     "metadata": {},
     "output_type": "display_data"
    },
    {
     "data": {
      "text/markdown": [
       "\n",
       "|||\n",
       "|---:|:---|\n",
       "| [![arXiv](https://img.shields.io/badge/arXiv-arXiv:2211.07339-b31b1b.svg)](https://arxiv.org/abs/arXiv:2211.07339) | **Magnetised neutron star crust within effective relativistic mean-field  model**  |\n",
       "|| Vishal Parmar, H. C. Das, <mark>M. K. Sharma</mark>, S. K. Patra |\n",
       "|*Appeared on*| *2022-11-15*|\n",
       "|*Comments*| *17 pages, 12 figures, 5 tables, comments welcome*|\n",
       "|**Abstract**| Even though the crystallize nature of the neutron star crust plays a pivotal role in describing various fascinating astrophysical observations, its microscopic structure is not fully understood in the presence of a colossal magnetic field. In the present work, we study the crustal properties of a neutron star within an effective relativistic mean field framework in the presence of magnetic field strength $\\sim 10^{17}$ G. We calculate the equilibrium composition of the outer crust by minimizing the gibbs free energy using the most recent atomic mass evaluations. The magnetic field significantly affects the equation of state (eos) and the properties of the outer crust, such as neutron drip density, pressure, and melting temperature. For the inner crust, we use the compressible liquid drop model for the first time to study the crustal properties in a magnetic environment. The inner crust properties, such as mass and charge number distribution, isospin asymmetry, cluster density, etc. , show typical quantum oscillations (de haasvan alphen effect) sensitive to the magnetic field's strength. The density-dependent symmetry energy influences the magnetic inner crust like the field-free case. We study the probable modifications in the pasta structures and it is observed that their mass and thickness changes by $\\sim 10-15 \\%$ depending upon the magnetic field strength. The fundamental torsional oscillation mode frequency is investigated for the magnetized crust in the context of quasiperiodic oscillations (qpo) in soft gamma repeaters. The magnetic field strengths considered in this work influences only the eos of outer and shallow regions of the inner crust, which results in no significant change in global neutron star properties. However, the outer crust mass and its moment of inertia increase considerably with increase in magnetic field strength. |\n",
       "|<p style=\"color:green\"> **ERROR** </p>| <p style=\"color:green\">affiliation error: mpia.affiliation_verifications: 'Heidelberg' keyword not found.</p> |"
      ],
      "text/plain": [
       "<IPython.core.display.Markdown object>"
      ]
     },
     "metadata": {},
     "output_type": "display_data"
    },
    {
     "data": {
      "text/markdown": [
       "\n",
       "|||\n",
       "|---:|:---|\n",
       "| [![arXiv](https://img.shields.io/badge/arXiv-arXiv:2211.07402-b31b1b.svg)](https://arxiv.org/abs/arXiv:2211.07402) | **Observations and modeling of spectral line asymmetries in stellar flares**  |\n",
       "|| Jiří Wollmann, <mark>Petr Heinzel</mark>, Petr Kabáth |\n",
       "|*Appeared on*| *2022-11-15*|\n",
       "|*Comments*| **|\n",
       "|**Abstract**| Stellar flares are energetic events occurring in stellar atmospheres. They have been observed on various stars using photometric light curves and spectra. On some cool stars, flares tend to release substantially more energy compared to solar flares. Spectroscopic observations have revealed that some spectral lines, aside from an enhancement and broadening, exhibit asymmetry in their profile. Asymmetries with enhanced blue wings are often associated with the presence of coronal mass ejections while the origin of the red asymmetries is currently not well understood. A few mechanisms have been suggested but no modeling has been performed yet. We observed the dMe star AD Leo using the 2-meter Perek telescope at Ond\\v{r}ejov observatory, with simultaneous photometric light curves. In analogy with solar flares, we model the H$\\alpha$ line emergent from an extensive arcade of cool flare loops and explain the observed asymmetries using the concept of coronal rain. We solve the non-LTE radiative transfer in H$\\alpha$ within cool flare loops taking into account the velocity distribution of individual rain clouds. For a flare occurring at the center of the stellar disc, we then integrate radiation emergent from the whole arcade to get the flux from the loop area. We observed two flares in the H$\\alpha$ line that exhibit red wing asymmetry corresponding to velocities up to 50 km s$^{-1}$ during the gradual phase of the flare. Synthetic profiles generated from the model of coronal rain have enhanced red wings quite compatible with observations. |\n",
       "|<p style=\"color:green\"> **ERROR** </p>| <p style=\"color:green\">affiliation error: mpia.affiliation_verifications: 'Heidelberg' keyword not found.</p> |"
      ],
      "text/plain": [
       "<IPython.core.display.Markdown object>"
      ]
     },
     "metadata": {},
     "output_type": "display_data"
    },
    {
     "data": {
      "text/markdown": [
       "\n",
       "|||\n",
       "|---:|:---|\n",
       "| [![arXiv](https://img.shields.io/badge/arXiv-arXiv:2211.07428-b31b1b.svg)](https://arxiv.org/abs/arXiv:2211.07428) | **Non-thermal Broadening of IRIS Fe XXI Lines Caused by Turbulent Plasma  Flows in the Magnetic Reconnection Region During Solar Eruptions**  |\n",
       "|| Chengcai Shen, et al. -- incl., <mark>Xiaoyan Xie</mark> |\n",
       "|*Appeared on*| *2022-11-15*|\n",
       "|*Comments*| **|\n",
       "|**Abstract**| Magnetic reconnection is the key mechanism for energy release in solar eruptions, where the high-temperature emission is the primary diagnostic for investigating the plasma properties during the reconnection process. Non-thermal broadening of high-temperature lines has been observed in both the reconnection current sheet (CS) and flare loop-top regions by UV spectrometers, but its origin remains unclear. In this work, we use a recently developed three-dimensional magnetohydrodynamic (MHD) simulation to model magnetic reconnection in the standard solar flare geometry and reveal highly dynamic plasma flows in the reconnection regions. We calculate the synthetic profiles of the Fe XXI 1354 \\AA~line observed by the Interface Region Imaging Spectrograph (IRIS) spacecraft by using parameters of the MHD model, including plasma density, temperature, and velocity. Our model shows that the turbulent bulk plasma flows in the CS and flare loop-top regions are responsible for the non-thermal broadening of the Fe XXI emission line. The modeled non-thermal velocity ranges from tens of km s$^{-1}$ to more than two hundred km s$^{-1}$, which is consistent with the IRIS observations. Simulated 2D spectral line maps around the reconnection region also reveal highly dynamic downwflow structures where the high non-thermal velocity is large, which is consistent with the observations as well. |\n",
       "|<p style=\"color:green\"> **ERROR** </p>| <p style=\"color:green\">affiliation error: mpia.affiliation_verifications: 'Heidelberg' keyword not found.</p> |"
      ],
      "text/plain": [
       "<IPython.core.display.Markdown object>"
      ]
     },
     "metadata": {},
     "output_type": "display_data"
    },
    {
     "data": {
      "text/markdown": [
       "\n",
       "|||\n",
       "|---:|:---|\n",
       "| [![arXiv](https://img.shields.io/badge/arXiv-arXiv:2211.07486-b31b1b.svg)](https://arxiv.org/abs/arXiv:2211.07486) | **Saturn's Seasonal Variability from Four Decades of Ground-Based  Mid-Infrared Observations**  |\n",
       "|| James S.D. Blake, et al. -- incl., <mark>Henrik Melin</mark> |\n",
       "|*Appeared on*| *2022-11-15*|\n",
       "|*Comments*| *25 pages, 15 figures, accepted for publication in Icarus*|\n",
       "|**Abstract**| A multi-decade record of ground-based mid-infrared (7-25 $\\mu$m) images of Saturn is used to explore seasonal and non-seasonal variability in thermal emission over more than a Saturnian year (1984-2022). Thermal emission measured by 3-m and 8-m-class observatories compares favourably with synthetic images based on both Cassini-derived temperature records and the predictions of radiative climate models. 8-m class facilities are capable of resolving thermal contrasts on the scale of Saturn's belts, zones, polar hexagon, and polar cyclones, superimposed onto large-scale seasonal asymmetries. Seasonal changes in brightness temperatures of $\\sim30$ K in the stratosphere and $\\sim10$ K in the upper troposphere are observed, as the northern and southern polar stratospheric vortices (NPSV and SPSV) form in spring and dissipate in autumn. The timings of the first appearance of the warm polar vortices is successfully reproduced by radiative climate models, confirming them to be radiative phenomena, albeit entrained within sharp boundaries influenced by dynamics. Axisymmetric thermal bands (4-5 per hemisphere) display temperature gradients that are strongly correlated with Saturn's zonal winds, indicating winds that decay in strength with altitude, and implying meridional circulation cells forming the system of cool zones and warm belts. Saturn's thermal structure is largely repeatable from year to year (via comparison of infrared images in 1989 and 2018), with the exception of low-latitudes. Here we find evidence of inter-annual variations because the equatorial banding at 7.9 $\\mu$m is inconsistent with a $\\sim15$-year period for Saturn's equatorial stratospheric oscillation, i.e., it is not strictly semi-annual. Finally, observations between 2017-2022 extend the legacy of the Cassini mission, revealing the continued warming of the NPSV during northern summer. [Abr.] |\n",
       "|<p style=\"color:green\"> **ERROR** </p>| <p style=\"color:green\">affiliation error: mpia.affiliation_verifications: 'Heidelberg' keyword not found.</p> |"
      ],
      "text/plain": [
       "<IPython.core.display.Markdown object>"
      ]
     },
     "metadata": {},
     "output_type": "display_data"
    },
    {
     "data": {
      "text/markdown": [
       "\n",
       "|||\n",
       "|---:|:---|\n",
       "| [![arXiv](https://img.shields.io/badge/arXiv-arXiv:2211.07565-b31b1b.svg)](https://arxiv.org/abs/arXiv:2211.07565) | **Quijote-PNG: Quasi-maximum likelihood estimation of Primordial  Non-Gaussianity in the non-linear halo density field**  |\n",
       "|| Gabriel Jung, et al. -- incl., <mark>Michele Liguori</mark>, <mark>Licia Verde</mark> |\n",
       "|*Appeared on*| *2022-11-15*|\n",
       "|*Comments*| *16 pages, 10 figures*|\n",
       "|**Abstract**| We study primordial non-Gaussian signatures in the redshift-space halo field on non-linear scales, using a quasi-maximum likelihood estimator based on optimally compressed power spectrum and modal bispectrum statistics. We train and validate the estimator on a suite of halo catalogues constructed from the Quijote-PNG N-body simulations, which we release to accompany this paper. We verify its unbiasedness and near optimality, for the three main types of primordial non-Gaussianity (PNG): local, equilateral, and orthogonal. We compare the modal bispectrum expansion with a $k$-binning approach, showing that the former allows for faster convergence of numerical derivatives in the computation of the score-function, thus leading to better final constraints. We find, in agreement with previous studies, that the local PNG signal in the halo-field is dominated by the scale-dependent bias signature on large scales and saturates at $k \\sim 0.2~h\\,\\mathrm{Mpc}^{-1}$, whereas the small-scale bispectrum is the main source of information for equilateral and orthogonal PNG. Combining power spectrum and bispectrum on non-linear scales plays an important role in breaking degeneracies between cosmological and PNG parameters; such degeneracies remain however strong for equilateral PNG. We forecast that PNG parameters can be constrained with $\\Delta f_\\mathrm{NL}^\\mathrm{local} = 45$, $\\Delta f_\\mathrm{NL}^\\mathrm{equil} = 570$, $\\Delta f_\\mathrm{NL}^\\mathrm{ortho} = 110$, on a cubic volume of $1 \\left({ {\\rm Gpc}/{ {\\rm h}}} \\right)^3$, at $z = 1$, considering scales up to $k_\\mathrm{max} = 0.5~\\mathrm{Mpc}^{-1}$. |\n",
       "|<p style=\"color:green\"> **ERROR** </p>| <p style=\"color:green\">affiliation error: mpia.affiliation_verifications: 'Heidelberg' keyword not found.</p> |"
      ],
      "text/plain": [
       "<IPython.core.display.Markdown object>"
      ]
     },
     "metadata": {},
     "output_type": "display_data"
    },
    {
     "data": {
      "text/markdown": [
       "\n",
       "|||\n",
       "|---:|:---|\n",
       "| [![arXiv](https://img.shields.io/badge/arXiv-arXiv:2211.06518-b31b1b.svg)](https://arxiv.org/abs/arXiv:2211.06518) | **EOS Manual**  |\n",
       "|| <mark>Li Zeng</mark>, Stein B. Jacobsen, Dimitar D. Sasselov, Michail I. Petaev |\n",
       "|*Appeared on*| *2022-11-15*|\n",
       "|*Comments*| *For pedagogical purpose only (non-profit). Comments and suggestions welcome!*|\n",
       "|**Abstract**| The exoplanet field now abounds with new discoveries of planets and planetary systems. It is of great interest for the scientific community to understand the compositions and internal structures of these new planets outside our own solar system, and then infer their formation scenarios. In particular, the proper implementation of the equation-of-states of various matters into the calculation of internal structure is crucial. Thus, we have come up with this write-up that provides the detailed steps to turn an equation-of-state (EOS) into a mass-radius relation of exoplanets, and highlight the physics and chemistry involved in these calculations. It must be visualized! |\n",
       "|<p style=\"color:green\"> **ERROR** </p>| <p style=\"color:green\">affiliation error: mpia.affiliation_verifications: 'Planck' keyword not found.</p> |"
      ],
      "text/plain": [
       "<IPython.core.display.Markdown object>"
      ]
     },
     "metadata": {},
     "output_type": "display_data"
    },
    {
     "data": {
      "text/markdown": [
       "\n",
       "|||\n",
       "|---:|:---|\n",
       "| [![arXiv](https://img.shields.io/badge/arXiv-arXiv:2211.06450-b31b1b.svg)](https://arxiv.org/abs/arXiv:2211.06450) | **Spectropolarimetry as a Means to Address Cloud Composition and  Habitability for a Cloudy Exoplanetary Atmosphere in the Habitable Zone**  |\n",
       "|| Robert A. West, et al. -- incl., <mark>Philip Dumont</mark> |\n",
       "|*Appeared on*| *2022-11-15*|\n",
       "|*Comments*| *ApJ, accepted*|\n",
       "|**Abstract**| In our solar system, the densely cloud-covered atmosphere of Venus stands out as an example of how polarimetry can be used to gain information on cloud composition and particle mean radius. With current interest running high on discovering and characterizing extrasolar planets in the habitable zone where water exists in the liquid state, making use of spectropolarimetric measurements of directly-imaged exoplanets could provide key information unobtainable through other means. In principle, spectropolarimetric measurements can determine if acidity causes water activities in the clouds to be too low for life. To this end, we show that a spectropolarimeter measurement over the range 400 nm - 1000 nm would need to resolve linear polarization to a precision of about 1% or better for reflected starlight from an optically thick cloud-enshrouded exoplanet. We assess the likelihood of achieving this goal by simulating measurements from a notional spectropolarimeter as part of a starshade configuration for a large space telescope (a HabEx design, but for a 6 m diameter primary mirror). Our simulations include consideration of noise from a variety of sources. We provide guidance on limits that would need to be levied on instrumental polarization to address the science issues we discuss. For photon-limited noise, integration times would need to be of order one hour for a large radius (10 Earth radii) planet to more than 100 hours for smaller exoplanets depending on the star-planet separation, planet radius, phase angle and desired uncertainty. We discuss implications for surface chemistry and habitability. |\n",
       "|<p style=\"color:red\"> **ERROR** </p>| <p style=\"color:red\">latex error not a gzip file</p> |"
      ],
      "text/plain": [
       "<IPython.core.display.Markdown object>"
      ]
     },
     "metadata": {},
     "output_type": "display_data"
    },
    {
     "data": {
      "text/markdown": [
       "\n",
       "|||\n",
       "|---:|:---|\n",
       "| [![arXiv](https://img.shields.io/badge/arXiv-arXiv:2211.06942-b31b1b.svg)](https://arxiv.org/abs/arXiv:2211.06942) | **V5856 Sagittarii/2016: Broad Multi-Epoch Spectral Coverage of a  Sustained High Luminosity Nova**  |\n",
       "|| Robert Williams, et al. -- incl., <mark>Frederick M. Walter</mark> |\n",
       "|*Appeared on*| *2022-11-15*|\n",
       "|*Comments*| *27 pages; 13 figures. Accepted for publication in the ApJ*|\n",
       "|**Abstract**| Nova V5856 Sagittarii is unique for having remained more than nine magnitudes above its pre-outburst brightness for more than six years. Extensive visible and IR spectra from the time of outburst to the present epoch reveal separate emitting regions with distinct spectral characteristics. Permitted emission lines have both broad and narrow components, whereas the forbidden line profiles are almost entirely broad. The permitted line components frequently display P Cygni profiles indicating high optical depth, whereas the broad components do not show detectable absorption. The densities and velocities deduced from the spectra, including differences in the O I 7773 and 8446 lines, are not consistent with an on-going wind. Instead, the prolonged high luminosity and spectral characteristics are indicative of a post-outburst common envelope that enshrouds the binary, and is likely the primary source of the visible and IR emission. |\n",
       "|<p style=\"color:red\"> **ERROR** </p>| <p style=\"color:red\">latex error not a gzip file</p> |"
      ],
      "text/plain": [
       "<IPython.core.display.Markdown object>"
      ]
     },
     "metadata": {},
     "output_type": "display_data"
    }
   ],
   "source": [
    "import datetime\n",
    "today = str(datetime.date.today())\n",
    "logfile = f\"_build/html/logs/log-{today}.md\"\n",
    "\n",
    "\n",
    "with open(logfile, 'w') as logs:\n",
    "    # Success\n",
    "    logs.write(f'# Arxiv on Deck 2: Logs - {today}\\n\\n')\n",
    "    logs.write(\"\"\"* Arxiv had {0:,d} new papers\\n\"\"\".format(len(new_papers)))\n",
    "    logs.write(\"\"\"    * {0:,d} with possible author matches\\n\\n\"\"\".format(len(candidates)))\n",
    "    logs.write(\"## Sucessful papers\\n\\n\")\n",
    "    display(Markdown(\"## Successful papers\"))\n",
    "    success = [k[0] for k in documents]\n",
    "    for candid in candidates:\n",
    "        if candid['identifier'].split(':')[-1] in success:\n",
    "            display(candid)\n",
    "            logs.write(candid.generate_markdown_text() + '\\n\\n')\n",
    "\n",
    "    ## failed\n",
    "    logs.write(\"## Failed papers\\n\\n\")\n",
    "    display(Markdown(\"## Failed papers\"))\n",
    "    failed = sorted(failed, key=lambda x: x[1])\n",
    "    current_reason = \"\"\n",
    "    for paper, reason in failed:\n",
    "        if 'affiliation' in reason:\n",
    "            color = 'green'\n",
    "        else:\n",
    "            color = 'red'\n",
    "        data = Markdown(\n",
    "                paper.generate_markdown_text() + \n",
    "                f'\\n|<p style=\"color:{color:s}\"> **ERROR** </p>| <p style=\"color:{color:s}\">{reason:s}</p> |'\n",
    "               )\n",
    "        if reason != current_reason:\n",
    "            logs.write(f'### {reason:s} \\n\\n')\n",
    "            current_reason = reason\n",
    "        logs.write(data.data + '\\n\\n')\n",
    "        \n",
    "        # only display here the important errors (all in logs)\n",
    "        # if color in ('red',):\n",
    "        display(data)"
   ]
  },
  {
   "cell_type": "markdown",
   "id": "472d20ee",
   "metadata": {
    "papermill": {
     "duration": 0.013859,
     "end_time": "2022-11-15T04:13:26.951037",
     "exception": false,
     "start_time": "2022-11-15T04:13:26.937178",
     "status": "completed"
    },
    "tags": []
   },
   "source": [
    "## Export documents\n",
    "\n",
    "We now write the .md files and export relevant images"
   ]
  },
  {
   "cell_type": "code",
   "execution_count": 7,
   "id": "d426aed9",
   "metadata": {
    "execution": {
     "iopub.execute_input": "2022-11-15T04:13:26.980048Z",
     "iopub.status.busy": "2022-11-15T04:13:26.979516Z",
     "iopub.status.idle": "2022-11-15T04:13:26.986781Z",
     "shell.execute_reply": "2022-11-15T04:13:26.986158Z"
    },
    "papermill": {
     "duration": 0.023546,
     "end_time": "2022-11-15T04:13:26.988196",
     "exception": false,
     "start_time": "2022-11-15T04:13:26.964650",
     "status": "completed"
    },
    "tags": []
   },
   "outputs": [],
   "source": [
    "def export_markdown_summary(md: str, md_fname:str, directory: str):\n",
    "    \"\"\"Export MD document and associated relevant images\"\"\"\n",
    "    import os\n",
    "    import shutil\n",
    "    import re\n",
    "\n",
    "    if (os.path.exists(directory) and not os.path.isdir(directory)):\n",
    "        raise RuntimeError(f\"a non-directory file exists with name {directory:s}\")\n",
    "\n",
    "    if (not os.path.exists(directory)):\n",
    "        print(f\"creating directory {directory:s}\")\n",
    "        os.mkdir(directory)\n",
    "\n",
    "    fig_fnames = (re.compile(r'\\[Fig.*\\]\\((.*)\\)').findall(md) + \n",
    "                  re.compile(r'\\<img src=\"([^>\\s]*)\"[^>]*/>').findall(md))\n",
    "    for fname in fig_fnames:\n",
    "        if 'http' in fname:\n",
    "            # No need to copy online figures\n",
    "            continue\n",
    "        destdir = os.path.join(directory, os.path.dirname(fname))\n",
    "        destfname = os.path.join(destdir, os.path.basename(fname))\n",
    "        try:\n",
    "            os.makedirs(destdir)\n",
    "        except FileExistsError:\n",
    "            pass\n",
    "        shutil.copy(fname, destfname)\n",
    "    with open(os.path.join(directory, md_fname), 'w') as fout:\n",
    "        fout.write(md)\n",
    "    print(\"exported in \", os.path.join(directory, md_fname))\n",
    "    [print(\"    + \" + os.path.join(directory,fk)) for fk in fig_fnames]"
   ]
  },
  {
   "cell_type": "code",
   "execution_count": 8,
   "id": "014d04a4",
   "metadata": {
    "execution": {
     "iopub.execute_input": "2022-11-15T04:13:27.016707Z",
     "iopub.status.busy": "2022-11-15T04:13:27.016150Z",
     "iopub.status.idle": "2022-11-15T04:13:27.022461Z",
     "shell.execute_reply": "2022-11-15T04:13:27.021805Z"
    },
    "papermill": {
     "duration": 0.022287,
     "end_time": "2022-11-15T04:13:27.023897",
     "exception": false,
     "start_time": "2022-11-15T04:13:27.001610",
     "status": "completed"
    },
    "tags": []
   },
   "outputs": [
    {
     "name": "stdout",
     "output_type": "stream",
     "text": [
      "exported in  _build/html/2211.06454.md\n",
      "    + _build/html/tmp_2211.06454/./9250-58037-022.png\n",
      "    + _build/html/tmp_2211.06454/./10083-58057-200.png\n",
      "    + _build/html/tmp_2211.06454/./7220-56606-227.png\n",
      "    + _build/html/tmp_2211.06454/./9533-58063-189.png\n",
      "    + _build/html/tmp_2211.06454/./mdot.png\n",
      "    + _build/html/tmp_2211.06454/./Br11_Plot9.png\n",
      "    + _build/html/tmp_2211.06454/./br11.png\n"
     ]
    }
   ],
   "source": [
    "for paper_id, md in documents:\n",
    "    export_markdown_summary(md, f\"{paper_id:s}.md\", '_build/html/')"
   ]
  },
  {
   "cell_type": "markdown",
   "id": "f087a0a7",
   "metadata": {
    "papermill": {
     "duration": 0.013442,
     "end_time": "2022-11-15T04:13:27.050788",
     "exception": false,
     "start_time": "2022-11-15T04:13:27.037346",
     "status": "completed"
    },
    "tags": []
   },
   "source": [
    "## Display the papers\n",
    "\n",
    "Not necessary but allows for a quick check."
   ]
  },
  {
   "cell_type": "code",
   "execution_count": 9,
   "id": "fd25f625",
   "metadata": {
    "execution": {
     "iopub.execute_input": "2022-11-15T04:13:27.079237Z",
     "iopub.status.busy": "2022-11-15T04:13:27.078681Z",
     "iopub.status.idle": "2022-11-15T04:13:27.083778Z",
     "shell.execute_reply": "2022-11-15T04:13:27.083260Z"
    },
    "papermill": {
     "duration": 0.02103,
     "end_time": "2022-11-15T04:13:27.085236",
     "exception": false,
     "start_time": "2022-11-15T04:13:27.064206",
     "status": "completed"
    },
    "scrolled": false,
    "tags": []
   },
   "outputs": [
    {
     "data": {
      "text/markdown": [
       "<div class=\"macros\" style=\"visibility:hidden;\">\n",
       "$\\newcommand{\\ensuremath}{}$\n",
       "$\\newcommand{\\xspace}{}$\n",
       "$\\newcommand{\\object}[1]{\\texttt{#1}}$\n",
       "$\\newcommand{\\farcs}{{.}''}$\n",
       "$\\newcommand{\\farcm}{{.}'}$\n",
       "$\\newcommand{\\arcsec}{''}$\n",
       "$\\newcommand{\\arcmin}{'}$\n",
       "$\\newcommand{\\ion}[2]{#1#2}$\n",
       "$\\newcommand{\\textsc}[1]{\\textrm{#1}}$\n",
       "$\\newcommand{\\hl}[1]{\\textrm{#1}}$\n",
       "$\\newcommand{\\vdag}{(v)^\\dagger}$\n",
       "$\\newcommand$\n",
       "$\\newcommand$</div>\n",
       "\n",
       "<div class=\"macros\" style=\"visibility:hidden;\">\n",
       "$\\newcommand{$\\ensuremath$}{}$\n",
       "$\\newcommand{$\\xspace$}{}$\n",
       "$\\newcommand{$\\object$}[1]{\\texttt{#1}}$\n",
       "$\\newcommand{$\\farcs$}{{.}''}$\n",
       "$\\newcommand{$\\farcm$}{{.}'}$\n",
       "$\\newcommand{$\\arcsec$}{''}$\n",
       "$\\newcommand{$\\arcmin$}{'}$\n",
       "$\\newcommand{$\\ion$}[2]{#1#2}$\n",
       "$\\newcommand{$\\textsc$}[1]{\\textrm{#1}}$\n",
       "$\\newcommand{$\\hl$}[1]{\\textrm{#1}}$\n",
       "$\\newcommand{$\\vdag$}{(v)^\\dagger}$\n",
       "$\\newcommand$\n",
       "$\\newcommand$</div>\n",
       "\n",
       "\n",
       "\n",
       "<div id=\"title\">\n",
       "\n",
       "# \n",
       "\n",
       "</div>\n",
       "<div id=\"comments\">\n",
       "\n",
       "[![arXiv](https://img.shields.io/badge/arXiv-2211.06454-b31b1b.svg)](https://arxiv.org/abs/2211.06454)<mark>Appeared on: 2022-11-15</mark> - _19 pages, 9 figures, accepted to AJ_\n",
       "\n",
       "</div>\n",
       "<div id=\"authors\">\n",
       "\n",
       "Elliott Khilfeh, et al. -- incl., <mark><mark>Jesús Hernández</mark></mark>\n",
       "\n",
       "</div>\n",
       "<div id=\"abstract\">\n",
       "\n",
       "**Abstract:** Very young (t$\\lesssim$10 Myrs) stars possess strong magnetic fields that channel ionized gas from the interiors of their circumstellar discs to the surface of the star. Upon impacting the stellar surface, the shocked gas recombines and emits hydrogen spectral lines. To characterize the density and temperature of the gas within these accretion streams, we measure equivalent widths of Brackett (Br) 11 – 20 emission lines detected in 1101 APOGEE spectra of 326 likely pre-main sequence accretors. For sources with multiple observations, we measure median epoch-to-epoch line strength variations of 10\\%in Br11 and 20\\%in Br20. We also fit the measured line ratios to predictions of radiative transfer models by Kwan\\&Fischer.  We find characteristic best-fit electron densities of$n_e$= 10$^{11} - 10^{12}$cm$^{-3}$, and excitation temperatures that are inversely correlated with electron density (from T$\\sim$5000 K for$n_e \\sim 10^{12}$cm$^{-3}$, to T$\\sim$12500 K at$n_e \\sim 10^{11}$cm$^{-3}$). These physical parameters are in good agreement with predictions from modelling of accretion streams that account for the hydrodynamics and radiative transfer within the accretion stream. We also present a supplementary catalog of line measurements from 9733 spectra of 4255 Brackett emission line sources in the APOGEE DR17 dataset.\n",
       "\n",
       "</div>\n",
       "\n",
       "<div id=\"div_fig1\">\n",
       "\n",
       "<img src=\"tmp_2211.06454/./9250-58037-022.png\" alt=\"Fig9.1\" width=\"25%\"/><img src=\"tmp_2211.06454/./10083-58057-200.png\" alt=\"Fig9.2\" width=\"25%\"/><img src=\"tmp_2211.06454/./7220-56606-227.png\" alt=\"Fig9.3\" width=\"25%\"/><img src=\"tmp_2211.06454/./9533-58063-189.png\" alt=\"Fig9.4\" width=\"25%\"/>\n",
       "\n",
       "**Figure 9. -** \\textit{(top left panel)}: Example of a source with (double-peaked) Br 11 emission, and a neighboring 16781 line with an identical velocity profile. These sources are coded with an FeII flag = 1 in the machine readable table of our sample.  \\textit{(top right panel)}: Example of a source with strong Br 11 emission, and two lines near the wavelength expected for the neighboring [FeII] line. These sources are coded with an FeII flag = 2 in the machine readable table of our sample. \\textit{(Bottom panels)}: Examples of two sources with a prominent emission feature at 16775: the source on the left shows this line near two photospheric features, while the source on the right shows two additional emission lines in between the 16775 line and Br11.  Both of these patterns which include the 16775 feature are coded with an FeII flag = 3 in the machine readable table of our sample. \\label{fig:FeII_emitters} (*fig:FeII_emitters*)\n",
       "\n",
       "</div>\n",
       "<div id=\"div_fig2\">\n",
       "\n",
       "<img src=\"tmp_2211.06454/./mdot.png\" alt=\"Fig1\" width=\"100%\"/>\n",
       "\n",
       "**Figure 1. -** Accretion rate measurements for sources with optical measurements by \\citet{Manzo-Martinez2020}(full sample shown as the blue histogram), highlighting the subsets of sources with APOGEEnet stellar parameters (yellow histogram), and with Brackett emission lines detected in this work (black histogram). The Brackett sample is strongly biased towards the most rapidly accreting sources in the \\citet{Manzo-Martinez2020} sample, given the larger temperatures and densities required to populate hydrogen's n=11-20 levels, and the larger optical depths that are necessary to produce detectable emission lines. \\label{fig:Manzo_comparison} (*fig:Manzo_comparison*)\n",
       "\n",
       "</div>\n",
       "<div id=\"div_fig3\">\n",
       "\n",
       "<img src=\"tmp_2211.06454/./Br11_Plot9.png\" alt=\"Fig6.1\" width=\"50%\"/><img src=\"tmp_2211.06454/./br11.png\" alt=\"Fig6.2\" width=\"50%\"/>\n",
       "\n",
       "**Figure 6. -** Left: Wavelength-flux plot of the Br11 emission line for a strongly accreting YSO, 2M05471411+0009073. The green highlighted regions are the windows which were used to calculate the continuum (horizontal dashed line) on the left and right of the central line (vertical dashed line). The equivalent width of the Br11 line is given by the width of the shaded blue region below the continuum. Right: Distribution of the absolute value of equivalent widths for Br11 for all of the objects in the sample, excluding those that are likely associated with Be stars or that have nebular emission. Note that since Br11 line is seen in emission, by convention EqW is negative. \\label{fig:EqW} (*fig:EqW*)\n",
       "\n",
       "</div>"
      ],
      "text/plain": [
       "<IPython.core.display.Markdown object>"
      ]
     },
     "metadata": {},
     "output_type": "display_data"
    }
   ],
   "source": [
    "[display(Markdown(k[1])) for k in documents];"
   ]
  },
  {
   "cell_type": "markdown",
   "id": "873873a4",
   "metadata": {
    "papermill": {
     "duration": 0.013943,
     "end_time": "2022-11-15T04:13:27.113111",
     "exception": false,
     "start_time": "2022-11-15T04:13:27.099168",
     "status": "completed"
    },
    "tags": []
   },
   "source": [
    "# Create HTML index"
   ]
  },
  {
   "cell_type": "code",
   "execution_count": 10,
   "id": "cf665672",
   "metadata": {
    "execution": {
     "iopub.execute_input": "2022-11-15T04:13:27.142142Z",
     "iopub.status.busy": "2022-11-15T04:13:27.141683Z",
     "iopub.status.idle": "2022-11-15T04:13:27.151323Z",
     "shell.execute_reply": "2022-11-15T04:13:27.150495Z"
    },
    "papermill": {
     "duration": 0.026224,
     "end_time": "2022-11-15T04:13:27.152906",
     "exception": false,
     "start_time": "2022-11-15T04:13:27.126682",
     "status": "completed"
    },
    "tags": []
   },
   "outputs": [
    {
     "name": "stdout",
     "output_type": "stream",
     "text": [
      "88  publications in the last 7 days.\n",
      "\t _build/html/2211.06454.md\n",
      "\t _build/html/2211.06205.md\n",
      "\t _build/html/2211.06194.md\n",
      "\t _build/html/2211.05022.md\n",
      "\t _build/html/2211.04048.md\n",
      "\t _build/html/2211.03641.md\n",
      "\t _build/html/2211.02502.md\n",
      "\t _build/html/2211.01474.md\n",
      "\t _build/html/2211.00667.md\n",
      "\t _build/html/2211.00657.md\n",
      "\t _build/html/2211.00087.md\n",
      "\t _build/html/2211.00036.md\n",
      "\t _build/html/2211.00020.md\n",
      "\t _build/html/2211.00010.md\n",
      "\t _build/html/2210.17434.md\n",
      "\t _build/html/2210.12412.md\n",
      "\t _build/html/2210.11926.md\n",
      "\t _build/html/2210.11551.md\n",
      "\t _build/html/2210.11103.md\n",
      "\t _build/html/2210.10707.md\n",
      "\t _build/html/2210.09930.md\n",
      "\t _build/html/2210.08996.md\n",
      "\t _build/html/2210.08517.md\n",
      "\t _build/html/2210.08510.md\n",
      "\t _build/html/2210.08078.md\n",
      "\t _build/html/2210.06504.md\n",
      "\t _build/html/2210.05695.md\n",
      "\t _build/html/2210.05595.md\n",
      "\t _build/html/2210.05505.md\n",
      "\t _build/html/2210.04721.md\n",
      "\t _build/html/2210.03615.md\n",
      "\t _build/html/2210.01811.md\n",
      "\t _build/html/2210.01809.md\n",
      "\t _build/html/2210.01556.md\n",
      "\t _build/html/2210.00863.md\n",
      "\t _build/html/2210.00560.md\n",
      "\t _build/html/2209.15403.md\n",
      "\t _build/html/2209.15110.md\n",
      "\t _build/html/2209.14410.md\n",
      "\t _build/html/2209.14396.md\n",
      "\t _build/html/2209.13717.md\n",
      "\t _build/html/2209.13336.md\n",
      "\t _build/html/2209.12906.md\n",
      "\t _build/html/2209.11781.md\n",
      "\t _build/html/2209.11602.md\n",
      "\t _build/html/2209.11248.md\n",
      "\t _build/html/2209.11096.md\n",
      "\t _build/html/2209.10618.md\n",
      "\t _build/html/2209.09914.md\n",
      "\t _build/html/2209.09823.md\n",
      "\t _build/html/2209.08242.md\n",
      "\t _build/html/2209.08120.md\n",
      "\t _build/html/2209.08106.md\n",
      "\t _build/html/2209.07962.md\n",
      "\t _build/html/2209.07931.md\n",
      "\t _build/html/2209.06833.md\n",
      "\t _build/html/2209.05814.md\n",
      "\t _build/html/2209.05593.md\n",
      "\t _build/html/2209.04304.md\n",
      "\t _build/html/2209.03367.md\n",
      "\t _build/html/2209.02872.md\n",
      "\t _build/html/2209.02725.md\n",
      "\t _build/html/2209.02722.md\n",
      "\t _build/html/2209.02092.md\n",
      "\t _build/html/2209.01125.md\n",
      "\t _build/html/2209.00828.md\n",
      "\t _build/html/2209.00363.md\n",
      "\t _build/html/2208.14927.md\n",
      "\t _build/html/2208.09335.md\n",
      "\t _build/html/2208.08872.md\n",
      "\t _build/html/2204.06393.md\n",
      "\t _build/html/2204.03335.md\n",
      "\t _build/html/2204.03253.md\n",
      "\t _build/html/2204.02998.md\n",
      "\t _build/html/2204.02109.md\n",
      "\t _build/html/2204.02017.md\n",
      "\t _build/html/2204.01824.md\n",
      "\t _build/html/2204.01758.md\n",
      "\t _build/html/2204.01245.md\n",
      "\t _build/html/2204.00793.md\n",
      "\t _build/html/2204.00342.md\n",
      "\t _build/html/2203.16959.md\n",
      "\t _build/html/2203.16856.md\n",
      "\t _build/html/2203.16735.md\n",
      "\t _build/html/2203.16734.md\n",
      "\t _build/html/2203.16504.md\n",
      "\t _build/html/2203.15822.md\n",
      "\t _build/html/2203.15811.md\n"
     ]
    }
   ],
   "source": [
    "from datetime import datetime, timedelta, timezone\n",
    "from glob import glob\n",
    "\n",
    "files = glob('_build/html/*.md')\n",
    "days = 7\n",
    "now = datetime.today()\n",
    "res = []\n",
    "for fk in files:\n",
    "    stat_result = os.stat(fk).st_ctime\n",
    "    modified = datetime.fromtimestamp(stat_result, tz=timezone.utc).replace(tzinfo=None)\n",
    "    delta = now.today() - modified\n",
    "    if delta <= timedelta(days=days):\n",
    "        res.append((delta.seconds, fk))\n",
    "res = [k[1] for k in reversed(sorted(res, key=lambda x:x[1]))]\n",
    "npub = len(res)\n",
    "print(len(res), f\" publications in the last {days:d} days.\")\n",
    "[ print('\\t', k) for k in res ];"
   ]
  },
  {
   "cell_type": "code",
   "execution_count": 11,
   "id": "52ca0208",
   "metadata": {
    "execution": {
     "iopub.execute_input": "2022-11-15T04:13:27.212105Z",
     "iopub.status.busy": "2022-11-15T04:13:27.211299Z",
     "iopub.status.idle": "2022-11-15T04:13:27.218169Z",
     "shell.execute_reply": "2022-11-15T04:13:27.217500Z"
    },
    "papermill": {
     "duration": 0.023516,
     "end_time": "2022-11-15T04:13:27.219803",
     "exception": false,
     "start_time": "2022-11-15T04:13:27.196287",
     "status": "completed"
    },
    "scrolled": false,
    "tags": []
   },
   "outputs": [],
   "source": [
    "def create_carousel(npub=4):\n",
    "    \"\"\" Generate the HTML code for a carousel with `npub` slides \"\"\"\n",
    "    carousel = [\"\"\"<section class=\"carousel\" aria-label=\"Gallery\">\"\"\",\n",
    "                \"\"\"  <ol class=\"carousel__viewport\">\"\"\",\n",
    "    ]\n",
    "    for k in range(1, npub + 1):\n",
    "        prev_ = k - 1\n",
    "        next_ = k + 1\n",
    "        if prev_ <= 0:\n",
    "            prev_ = npub\n",
    "        if next_ > npub:\n",
    "            next_ = 1\n",
    "        text  = f\"\"\"    <li id=\"carousel__slide{k}\" tabindex=\"0\" class=\"carousel__slide\">\\n\"\"\"\n",
    "        text += f\"\"\"       <div class=\"carousel__snapper\">\\n\"\"\"\n",
    "        text += f\"\"\"         <a href=\"#carousel__slide{prev_}\" class=\"carousel__prev\">Go to previous slide</a>\\n\"\"\"\n",
    "        text += f\"\"\"         <a href=\"#carousel__slide{next_}\" class=\"carousel__next\">Go to next slide</a>\\n\"\"\"\n",
    "        text += f\"\"\"         <div id=\"slide{k}_content\" class=\"md_view\" >Content {k}</div>\\n\"\"\"\n",
    "        text += f\"\"\"       </div>\\n\"\"\"\n",
    "        text += f\"\"\"    </li>\"\"\"\n",
    "        carousel.append(text)\n",
    "\n",
    "    carousel.extend([\n",
    "        \"\"\"  </ol>\"\"\",\n",
    "        \"\"\"  <aside class=\"carousel__navigation\">\"\"\",\n",
    "        \"\"\"    <ol class=\"carousel__navigation-list\">\"\"\"])\n",
    "\n",
    "    for k in range(1, npub + 1):\n",
    "        text  = f\"\"\"      <li class=\"carousel__navigation-item\">\\n\"\"\"\n",
    "        text += f\"\"\"        <a href=\"#carousel__slide{k}\" class=\"carousel__navigation-button\">Go to {k}</a>\\n\"\"\"\n",
    "        text += f\"\"\"      </li>\"\"\"\n",
    "        carousel.append(text)\n",
    "    carousel.extend([\"\"\"    </ol>\"\"\", \"\"\"  </aside>\"\"\", \"\"\"</section>\"\"\"])\n",
    "\n",
    "    return '\\n'.join(carousel)"
   ]
  },
  {
   "cell_type": "code",
   "execution_count": 12,
   "id": "a6eac5b6",
   "metadata": {
    "execution": {
     "iopub.execute_input": "2022-11-15T04:13:27.249425Z",
     "iopub.status.busy": "2022-11-15T04:13:27.249148Z",
     "iopub.status.idle": "2022-11-15T04:13:27.255600Z",
     "shell.execute_reply": "2022-11-15T04:13:27.254900Z"
    },
    "papermill": {
     "duration": 0.023253,
     "end_time": "2022-11-15T04:13:27.257118",
     "exception": false,
     "start_time": "2022-11-15T04:13:27.233865",
     "status": "completed"
    },
    "scrolled": false,
    "tags": []
   },
   "outputs": [],
   "source": [
    "carousel = create_carousel(npub)\n",
    "docs = ', '.join(['\"{0:s}\"'.format(k.split('/')[-1]) for k in res])\n",
    "slides = ', '.join([f'\"slide{k}_content\"' for k in range(1, npub + 1)])\n",
    "\n",
    "script = f\"\"\"\n",
    "const docs = [{docs}]\n",
    "\n",
    "const slides = [{slides}]\n",
    "\"\"\" + \"\"\"\n",
    "async function run() {\n",
    "    for (let i = 0; i < docs.length; i++) {\n",
    "        let file = await fetch(docs[i]);\n",
    "        let text = await file.text()\n",
    "        document.getElementById(slides[i]).innerHTML =\n",
    "            marked.parse(text);\n",
    "    }\n",
    "    hljs.highlightAll();\n",
    "}\n",
    "run()\n",
    "\"\"\"\n",
    "\n",
    "page = f\"\"\"<!doctype html>\n",
    "<html lang=\"en\">\n",
    "\n",
    "<head>\n",
    "  <meta charset=\"utf-8\">\n",
    "  <meta name=\"viewport\" content=\"width=device-width, initial-scale=1\">\n",
    "  <!-- Bootstrap CSS -->\n",
    "  <link href=\"https://cdn.jsdelivr.net/npm/bootstrap@5.0.2/dist/css/bootstrap.min.css\" rel=\"stylesheet\"\n",
    "   integrity=\"sha384-EVSTQN3/azprG1Anm3QDgpJLIm9Nao0Yz1ztcQTwFspd3yD65VohhpuuCOmLASjC\" crossorigin=\"anonymous\">\n",
    "  <!-- highlight.js CSS -->\n",
    "  <link rel=\"stylesheet\" href=\"https://cdnjs.cloudflare.com/ajax/libs/highlight.js/11.1.0/styles/default.min.css\">\n",
    "  <!-- Mathjax 3 -->\n",
    "  <script type=\"text/javascript\" id=\"MathJax-config\" src=\"mathjax_config.js\"> </script>\n",
    "  <script type=\"text/javascript\" id=\"MathJax-script\" async \n",
    "    src=\"https://cdn.jsdelivr.net/npm/mathjax@3/es5/tex-mml-chtml.js\">\n",
    "  </script>\n",
    "  <link rel=\"stylesheet\" href=\"index_carousel.css\">\n",
    "  <link rel=\"icon\" type=\"image/x-icon\" href=\"https://www.mpia.de/assets/touch-icon-32x32-a66937bcebc4e8894ebff1f41a366c7c7220fd97a38869ee0f2db65a9f59b6c1.png\">\n",
    "  <title>MPIA Arxiv on deck!</title>\n",
    "</head>\n",
    "\n",
    "<body>\n",
    "  <div id=\"header\"> <img src=\"header_banner.png\" width=\"100%\"></div>\n",
    "  <div id=\"suptitle\"> 7-day archives </div>\n",
    "  <div id=\"info\">\n",
    "    <img src=\"https://pngimg.com/uploads/github/github_PNG58.png\" height=30rem></img>\n",
    "    <a href=https://github.com/mpi-astronomy/arxiv_display style=\"color:black;\">github/mpi-astronomy/arxiv_display</a> \n",
    "  </div>\n",
    "  {carousel:s}\n",
    "</body>\n",
    "\n",
    "<!-- Render Markdown -->\n",
    "\n",
    "<body>\n",
    "  <!-- highlight.js: https://highlightjs.org/download/ -->\n",
    "  <script src=\"https://cdnjs.cloudflare.com/ajax/libs/highlight.js/11.5.0/highlight.min.js\"></script>\n",
    "  <!-- marked.js -->\n",
    "  <script src=\"https://cdn.jsdelivr.net/npm/marked/marked.min.js\"></script>\n",
    "  <script>{script:s}</script>\n",
    "</body>\n",
    "</html>\n",
    "\"\"\"\n",
    "with open(\"_build/html/index_7days.html\", 'w') as fout:\n",
    "    fout.write(page)"
   ]
  },
  {
   "cell_type": "markdown",
   "id": "1cebacbc",
   "metadata": {
    "papermill": {
     "duration": 0.013991,
     "end_time": "2022-11-15T04:13:27.284900",
     "exception": false,
     "start_time": "2022-11-15T04:13:27.270909",
     "status": "completed"
    },
    "tags": []
   },
   "source": [
    "# Debugging papers"
   ]
  },
  {
   "cell_type": "raw",
   "id": "debe7cc6",
   "metadata": {
    "papermill": {
     "duration": 0.013915,
     "end_time": "2022-11-15T04:13:27.312607",
     "exception": false,
     "start_time": "2022-11-15T04:13:27.298692",
     "status": "completed"
    },
    "tags": []
   },
   "source": [
    "raise NotImplementedError(\"Manual Stop\")"
   ]
  },
  {
   "cell_type": "raw",
   "id": "eb169192",
   "metadata": {
    "papermill": {
     "duration": 0.014133,
     "end_time": "2022-11-15T04:13:27.340475",
     "exception": false,
     "start_time": "2022-11-15T04:13:27.326342",
     "status": "completed"
    },
    "scrolled": true,
    "tags": []
   },
   "source": [
    "from IPython.display import display, Markdown\n",
    "from TexSoup import TexSoup\n",
    "import re\n",
    "\n",
    "def bracket_error(source: str):\n",
    "    \"\"\" Find problematic portions of the document \"\"\"\n",
    "    \n",
    "    print(\"len(source)\", len(source))\n",
    "    \n",
    "    # Checking header\n",
    "    begin_doc = next(re.finditer(r'\\\\begin\\{document\\}', doc.source)).span()[1]\n",
    "    header = source[:begin_doc]\n",
    "    text = header + r\"\\n\\end{document}\"\n",
    "\n",
    "    try:\n",
    "        # print(\"Header check... \", end='')\n",
    "        TexSoup(text)\n",
    "        display(Markdown(f\"**[OK]** - Header\"))\n",
    "    except:\n",
    "        raise RuntimeError(\"Error in the header\")\n",
    "        \n",
    "    # Check the text per section until the end.\n",
    "    # Do not stop and try them all.\n",
    "    \n",
    "    problematic_text = []\n",
    "    \n",
    "    sections = ([(0, begin_doc, 'until first section')] + \n",
    "                [(g.span()[0], g.span()[1], g.group()) for g in re.finditer(r'\\\\section\\{.*\\}', source)] +\n",
    "                [(g.span()[0], g.span()[1], g.group()) for g in re.finditer(r'\\\\begin\\{appendix\\}', source)]\n",
    "               )\n",
    "    sections.append([len(source), len(source), 'end'])\n",
    "    \n",
    "    sections = sorted(sections, key=lambda x: x[0])\n",
    "    \n",
    "    prev_pos, prev_name = (0, 'header')\n",
    "    parsed = []\n",
    "    \n",
    "    for span, span_end, name in sections:\n",
    "\n",
    "        if span - prev_pos <= 0:\n",
    "            continue\n",
    "            \n",
    "\n",
    "        text = source[prev_pos:span]\n",
    "        if prev_pos > begin_doc:\n",
    "            text = r\"\\n\\begin{document}\" + text + r\"\\n\\end{document}\"\n",
    "        else:\n",
    "            text = text + r\"\\n\\end{document}\"\n",
    "        try:\n",
    "            #print(f\"{prev_pos}:{prev_name}-->{span}:{name} check... \", end='')\n",
    "            parsed.append(TexSoup(text, tolerance=1))  # allow not ending env\n",
    "            display(Markdown(f\"**[OK]** - *{prev_pos}*:{prev_name} &rarr; *{span}*:{name}\"))\n",
    "            # print(\"ok\")\n",
    "\n",
    "            prev_pos = span\n",
    "            prev_name = name\n",
    "        except:\n",
    "            # print(f\"error between {prev_pos} and {span}\")\n",
    "            display(Markdown(f\"**[ERR]** *{prev_pos}*:{prev_name} &rarr; *{span}*:{name}\"))\n",
    "            problematic_text.append((prev_pos, source[prev_pos:span]))\n",
    "            prev_pos = span\n",
    "            prev_name = name\n",
    "            # raise\n",
    "    return problematic_text, parsed\n",
    "\n",
    "\n",
    "def check_environment(text, offset=0):\n",
    "    \"\"\" Check environment \"\"\"\n",
    "    env = re.compile(r\"\\\\begin\\{(?P<env>.*)\\}(.*)\\\\end\\{(?P=env)\\}\", re.DOTALL)\n",
    "\n",
    "    for match in env.finditer(text):\n",
    "        beg, end = match.span()\n",
    "        beg += offset\n",
    "        end += offset\n",
    "        envname = match.groups()[0]\n",
    "        try:\n",
    "            latex.TexSoup(match.group())\n",
    "        except Exception as e:\n",
    "            display(e)\n",
    "            print(f\"Error in {envname:s} between {beg} and {end}\")\n",
    "            return match.groups()[1], beg, end"
   ]
  },
  {
   "cell_type": "raw",
   "id": "2315e835",
   "metadata": {
    "papermill": {
     "duration": 0.013771,
     "end_time": "2022-11-15T04:13:27.368217",
     "exception": false,
     "start_time": "2022-11-15T04:13:27.354446",
     "status": "completed"
    },
    "scrolled": false,
    "tags": []
   },
   "source": [
    "import importlib\n",
    "importlib.reload(latex)\n",
    "which = \"2204.03253\"\n",
    "paper_id = f'{which:s}'\n",
    "folder = f'tmp_{paper_id:s}'\n",
    "\n",
    "if not os.path.isdir(folder):\n",
    "    folder = retrieve_document_source(f\"{paper_id}\", f'tmp_{paper_id}')\n",
    "\n",
    "try:\n",
    "    doc = latex.LatexDocument(folder, validation=validation)    \n",
    "except AffiliationError as affilerror:\n",
    "    msg = f\"ArXiv:{paper_id:s} is not an MPIA paper... \" + str(affilerror)\n",
    "    print(msg)\n",
    "\n",
    "\n",
    "# Hack because sometimes author parsing does not work well\n",
    "if (len(doc.authors) != len(paper['authors'])):\n",
    "    doc._authors = paper['authors']\n",
    "if (doc.abstract) in (None, ''):\n",
    "    doc._abstract = paper['abstract']\n",
    "\n",
    "doc.comment = get_markdown_badge(paper_id) + \" _\" + paper['comments'] + \"_\"\n",
    "doc.highlight_authors_in_list(hl_list)\n",
    "\n",
    "full_md = doc.generate_markdown_text()"
   ]
  },
  {
   "cell_type": "raw",
   "id": "dd3781db",
   "metadata": {
    "papermill": {
     "duration": 0.013683,
     "end_time": "2022-11-15T04:13:27.395939",
     "exception": false,
     "start_time": "2022-11-15T04:13:27.382256",
     "status": "completed"
    },
    "scrolled": false,
    "tags": []
   },
   "source": [
    "doc"
   ]
  },
  {
   "cell_type": "raw",
   "id": "c6eed834",
   "metadata": {
    "papermill": {
     "duration": 0.013758,
     "end_time": "2022-11-15T04:13:27.423494",
     "exception": false,
     "start_time": "2022-11-15T04:13:27.409736",
     "status": "completed"
    },
    "tags": []
   },
   "source": [
    "# [check_environment(k) for k in bracket_error(doc.source)]\n",
    "_, _, a = latex.get_content_per_section(doc.source, verbose=True)\n",
    "if not a:\n",
    "    print(\"no issues per section\")\n",
    "for ak in a:\n",
    "    r = check_environment(ak[1], offset=ak[0])\n",
    "    print(r[1], r[2])\n",
    "    print(r[0])"
   ]
  },
  {
   "cell_type": "code",
   "execution_count": null,
   "id": "71ce768a",
   "metadata": {
    "papermill": {
     "duration": 0.013822,
     "end_time": "2022-11-15T04:13:27.451052",
     "exception": false,
     "start_time": "2022-11-15T04:13:27.437230",
     "status": "completed"
    },
    "tags": []
   },
   "outputs": [],
   "source": []
  }
 ],
 "metadata": {
  "kernelspec": {
   "display_name": "Python 3.10.6 64-bit",
   "language": "python",
   "name": "python3"
  },
  "language_info": {
   "codemirror_mode": {
    "name": "ipython",
    "version": 3
   },
   "file_extension": ".py",
   "mimetype": "text/x-python",
   "name": "python",
   "nbconvert_exporter": "python",
   "pygments_lexer": "ipython3",
   "version": "3.9.15"
  },
  "papermill": {
   "default_parameters": {},
   "duration": 101.732288,
   "end_time": "2022-11-15T04:13:27.682028",
   "environment_variables": {},
   "exception": null,
   "input_path": "MPIA daily digest.ipynb",
   "output_path": "log.ipynb",
   "parameters": {},
   "start_time": "2022-11-15T04:11:45.949740",
   "version": "2.4.0"
  },
  "vscode": {
   "interpreter": {
    "hash": "e7370f93d1d0cde622a1f8e1c04877d8463912d04d973331ad4851f04de6915a"
   }
  },
  "widgets": {
   "application/vnd.jupyter.widget-state+json": {
    "state": {
     "2b2adc52f4df47ddb1c05f7c153b566f": {
      "model_module": "@jupyter-widgets/controls",
      "model_module_version": "2.0.0",
      "model_name": "HBoxModel",
      "state": {
       "_dom_classes": [],
       "_model_module": "@jupyter-widgets/controls",
       "_model_module_version": "2.0.0",
       "_model_name": "HBoxModel",
       "_view_count": null,
       "_view_module": "@jupyter-widgets/controls",
       "_view_module_version": "2.0.0",
       "_view_name": "HBoxView",
       "box_style": "",
       "children": [
        "IPY_MODEL_3f1fc6678bf948f8ac42dd4adfc60c9a",
        "IPY_MODEL_482eb96cad294e4581793d2dcd58b859",
        "IPY_MODEL_5856a550cd9a47a4a7bced6d5c8ce423"
       ],
       "layout": "IPY_MODEL_605a5f2d1bdd40f1bcd9a05f0e68deec",
       "tabbable": null,
       "tooltip": null
      }
     },
     "3f1fc6678bf948f8ac42dd4adfc60c9a": {
      "model_module": "@jupyter-widgets/controls",
      "model_module_version": "2.0.0",
      "model_name": "HTMLModel",
      "state": {
       "_dom_classes": [],
       "_model_module": "@jupyter-widgets/controls",
       "_model_module_version": "2.0.0",
       "_model_name": "HTMLModel",
       "_view_count": null,
       "_view_module": "@jupyter-widgets/controls",
       "_view_module_version": "2.0.0",
       "_view_name": "HTMLView",
       "description": "",
       "description_allow_html": false,
       "layout": "IPY_MODEL_4bd3f470a4f54e19a0f0cdb3b4a3b8db",
       "placeholder": "​",
       "style": "IPY_MODEL_a58e67b7632d44c7a8e4fc836cb15140",
       "tabbable": null,
       "tooltip": null,
       "value": "100%"
      }
     },
     "482eb96cad294e4581793d2dcd58b859": {
      "model_module": "@jupyter-widgets/controls",
      "model_module_version": "2.0.0",
      "model_name": "FloatProgressModel",
      "state": {
       "_dom_classes": [],
       "_model_module": "@jupyter-widgets/controls",
       "_model_module_version": "2.0.0",
       "_model_name": "FloatProgressModel",
       "_view_count": null,
       "_view_module": "@jupyter-widgets/controls",
       "_view_module_version": "2.0.0",
       "_view_name": "ProgressView",
       "bar_style": "success",
       "description": "",
       "description_allow_html": false,
       "layout": "IPY_MODEL_9c4c3983f604463083b65732d9144dbd",
       "max": 41.0,
       "min": 0.0,
       "orientation": "horizontal",
       "style": "IPY_MODEL_6ad41a5aa4174c159213bd4dd2d98265",
       "tabbable": null,
       "tooltip": null,
       "value": 41.0
      }
     },
     "4bd3f470a4f54e19a0f0cdb3b4a3b8db": {
      "model_module": "@jupyter-widgets/base",
      "model_module_version": "2.0.0",
      "model_name": "LayoutModel",
      "state": {
       "_model_module": "@jupyter-widgets/base",
       "_model_module_version": "2.0.0",
       "_model_name": "LayoutModel",
       "_view_count": null,
       "_view_module": "@jupyter-widgets/base",
       "_view_module_version": "2.0.0",
       "_view_name": "LayoutView",
       "align_content": null,
       "align_items": null,
       "align_self": null,
       "border_bottom": null,
       "border_left": null,
       "border_right": null,
       "border_top": null,
       "bottom": null,
       "display": null,
       "flex": null,
       "flex_flow": null,
       "grid_area": null,
       "grid_auto_columns": null,
       "grid_auto_flow": null,
       "grid_auto_rows": null,
       "grid_column": null,
       "grid_gap": null,
       "grid_row": null,
       "grid_template_areas": null,
       "grid_template_columns": null,
       "grid_template_rows": null,
       "height": null,
       "justify_content": null,
       "justify_items": null,
       "left": null,
       "margin": null,
       "max_height": null,
       "max_width": null,
       "min_height": null,
       "min_width": null,
       "object_fit": null,
       "object_position": null,
       "order": null,
       "overflow": null,
       "padding": null,
       "right": null,
       "top": null,
       "visibility": null,
       "width": null
      }
     },
     "5856a550cd9a47a4a7bced6d5c8ce423": {
      "model_module": "@jupyter-widgets/controls",
      "model_module_version": "2.0.0",
      "model_name": "HTMLModel",
      "state": {
       "_dom_classes": [],
       "_model_module": "@jupyter-widgets/controls",
       "_model_module_version": "2.0.0",
       "_model_name": "HTMLModel",
       "_view_count": null,
       "_view_module": "@jupyter-widgets/controls",
       "_view_module_version": "2.0.0",
       "_view_name": "HTMLView",
       "description": "",
       "description_allow_html": false,
       "layout": "IPY_MODEL_9f99c5c78ed64fb2a413f3bb6eebc27f",
       "placeholder": "​",
       "style": "IPY_MODEL_b2fcf9092e0e47ce9bf5f58e6128b77d",
       "tabbable": null,
       "tooltip": null,
       "value": " 41/41 [01:15&lt;00:00,  1.41s/it]"
      }
     },
     "605a5f2d1bdd40f1bcd9a05f0e68deec": {
      "model_module": "@jupyter-widgets/base",
      "model_module_version": "2.0.0",
      "model_name": "LayoutModel",
      "state": {
       "_model_module": "@jupyter-widgets/base",
       "_model_module_version": "2.0.0",
       "_model_name": "LayoutModel",
       "_view_count": null,
       "_view_module": "@jupyter-widgets/base",
       "_view_module_version": "2.0.0",
       "_view_name": "LayoutView",
       "align_content": null,
       "align_items": null,
       "align_self": null,
       "border_bottom": null,
       "border_left": null,
       "border_right": null,
       "border_top": null,
       "bottom": null,
       "display": null,
       "flex": null,
       "flex_flow": null,
       "grid_area": null,
       "grid_auto_columns": null,
       "grid_auto_flow": null,
       "grid_auto_rows": null,
       "grid_column": null,
       "grid_gap": null,
       "grid_row": null,
       "grid_template_areas": null,
       "grid_template_columns": null,
       "grid_template_rows": null,
       "height": null,
       "justify_content": null,
       "justify_items": null,
       "left": null,
       "margin": null,
       "max_height": null,
       "max_width": null,
       "min_height": null,
       "min_width": null,
       "object_fit": null,
       "object_position": null,
       "order": null,
       "overflow": null,
       "padding": null,
       "right": null,
       "top": null,
       "visibility": null,
       "width": null
      }
     },
     "6ad41a5aa4174c159213bd4dd2d98265": {
      "model_module": "@jupyter-widgets/controls",
      "model_module_version": "2.0.0",
      "model_name": "ProgressStyleModel",
      "state": {
       "_model_module": "@jupyter-widgets/controls",
       "_model_module_version": "2.0.0",
       "_model_name": "ProgressStyleModel",
       "_view_count": null,
       "_view_module": "@jupyter-widgets/base",
       "_view_module_version": "2.0.0",
       "_view_name": "StyleView",
       "bar_color": null,
       "description_width": ""
      }
     },
     "9c4c3983f604463083b65732d9144dbd": {
      "model_module": "@jupyter-widgets/base",
      "model_module_version": "2.0.0",
      "model_name": "LayoutModel",
      "state": {
       "_model_module": "@jupyter-widgets/base",
       "_model_module_version": "2.0.0",
       "_model_name": "LayoutModel",
       "_view_count": null,
       "_view_module": "@jupyter-widgets/base",
       "_view_module_version": "2.0.0",
       "_view_name": "LayoutView",
       "align_content": null,
       "align_items": null,
       "align_self": null,
       "border_bottom": null,
       "border_left": null,
       "border_right": null,
       "border_top": null,
       "bottom": null,
       "display": null,
       "flex": null,
       "flex_flow": null,
       "grid_area": null,
       "grid_auto_columns": null,
       "grid_auto_flow": null,
       "grid_auto_rows": null,
       "grid_column": null,
       "grid_gap": null,
       "grid_row": null,
       "grid_template_areas": null,
       "grid_template_columns": null,
       "grid_template_rows": null,
       "height": null,
       "justify_content": null,
       "justify_items": null,
       "left": null,
       "margin": null,
       "max_height": null,
       "max_width": null,
       "min_height": null,
       "min_width": null,
       "object_fit": null,
       "object_position": null,
       "order": null,
       "overflow": null,
       "padding": null,
       "right": null,
       "top": null,
       "visibility": null,
       "width": null
      }
     },
     "9f99c5c78ed64fb2a413f3bb6eebc27f": {
      "model_module": "@jupyter-widgets/base",
      "model_module_version": "2.0.0",
      "model_name": "LayoutModel",
      "state": {
       "_model_module": "@jupyter-widgets/base",
       "_model_module_version": "2.0.0",
       "_model_name": "LayoutModel",
       "_view_count": null,
       "_view_module": "@jupyter-widgets/base",
       "_view_module_version": "2.0.0",
       "_view_name": "LayoutView",
       "align_content": null,
       "align_items": null,
       "align_self": null,
       "border_bottom": null,
       "border_left": null,
       "border_right": null,
       "border_top": null,
       "bottom": null,
       "display": null,
       "flex": null,
       "flex_flow": null,
       "grid_area": null,
       "grid_auto_columns": null,
       "grid_auto_flow": null,
       "grid_auto_rows": null,
       "grid_column": null,
       "grid_gap": null,
       "grid_row": null,
       "grid_template_areas": null,
       "grid_template_columns": null,
       "grid_template_rows": null,
       "height": null,
       "justify_content": null,
       "justify_items": null,
       "left": null,
       "margin": null,
       "max_height": null,
       "max_width": null,
       "min_height": null,
       "min_width": null,
       "object_fit": null,
       "object_position": null,
       "order": null,
       "overflow": null,
       "padding": null,
       "right": null,
       "top": null,
       "visibility": null,
       "width": null
      }
     },
     "a58e67b7632d44c7a8e4fc836cb15140": {
      "model_module": "@jupyter-widgets/controls",
      "model_module_version": "2.0.0",
      "model_name": "HTMLStyleModel",
      "state": {
       "_model_module": "@jupyter-widgets/controls",
       "_model_module_version": "2.0.0",
       "_model_name": "HTMLStyleModel",
       "_view_count": null,
       "_view_module": "@jupyter-widgets/base",
       "_view_module_version": "2.0.0",
       "_view_name": "StyleView",
       "background": null,
       "description_width": "",
       "font_size": null,
       "text_color": null
      }
     },
     "b2fcf9092e0e47ce9bf5f58e6128b77d": {
      "model_module": "@jupyter-widgets/controls",
      "model_module_version": "2.0.0",
      "model_name": "HTMLStyleModel",
      "state": {
       "_model_module": "@jupyter-widgets/controls",
       "_model_module_version": "2.0.0",
       "_model_name": "HTMLStyleModel",
       "_view_count": null,
       "_view_module": "@jupyter-widgets/base",
       "_view_module_version": "2.0.0",
       "_view_name": "StyleView",
       "background": null,
       "description_width": "",
       "font_size": null,
       "text_color": null
      }
     }
    },
    "version_major": 2,
    "version_minor": 0
   }
  }
 },
 "nbformat": 4,
 "nbformat_minor": 5
}