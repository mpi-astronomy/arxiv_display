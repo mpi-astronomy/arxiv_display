{
 "cells": [
  {
   "cell_type": "markdown",
   "id": "92bcb855",
   "metadata": {
    "papermill": {
     "duration": 0.005396,
     "end_time": "2022-11-18T04:09:58.712907",
     "exception": false,
     "start_time": "2022-11-18T04:09:58.707511",
     "status": "completed"
    },
    "tags": []
   },
   "source": [
    "# MPIA Arxiv on Deck 2\n",
    "\n",
    "Contains the steps to produce the paper extractions."
   ]
  },
  {
   "cell_type": "code",
   "execution_count": 1,
   "id": "3a0d6e11",
   "metadata": {
    "execution": {
     "iopub.execute_input": "2022-11-18T04:09:58.723709Z",
     "iopub.status.busy": "2022-11-18T04:09:58.722956Z",
     "iopub.status.idle": "2022-11-18T04:09:58.895129Z",
     "shell.execute_reply": "2022-11-18T04:09:58.894381Z"
    },
    "papermill": {
     "duration": 0.180458,
     "end_time": "2022-11-18T04:09:58.897604",
     "exception": false,
     "start_time": "2022-11-18T04:09:58.717146",
     "status": "completed"
    },
    "tags": []
   },
   "outputs": [],
   "source": [
    "# Imports\n",
    "import os\n",
    "from IPython.display import Markdown, display\n",
    "from tqdm.notebook import tqdm\n",
    "import warnings\n",
    "from PIL import Image \n",
    "\n",
    "# requires arxiv_on_deck_2\n",
    "\n",
    "from arxiv_on_deck_2.arxiv2 import (get_new_papers, \n",
    "                                    get_paper_from_identifier,\n",
    "                                    retrieve_document_source, \n",
    "                                    get_markdown_badge)\n",
    "from arxiv_on_deck_2 import (latex, \n",
    "                             mpia,\n",
    "                             highlight_authors_in_list)\n",
    "\n",
    "# Sometimes images are really big\n",
    "Image.MAX_IMAGE_PIXELS = 1000000000 "
   ]
  },
  {
   "cell_type": "code",
   "execution_count": 2,
   "id": "22aa9d44",
   "metadata": {
    "execution": {
     "iopub.execute_input": "2022-11-18T04:09:58.910033Z",
     "iopub.status.busy": "2022-11-18T04:09:58.909319Z",
     "iopub.status.idle": "2022-11-18T04:09:58.914397Z",
     "shell.execute_reply": "2022-11-18T04:09:58.913800Z"
    },
    "papermill": {
     "duration": 0.011702,
     "end_time": "2022-11-18T04:09:58.915931",
     "exception": false,
     "start_time": "2022-11-18T04:09:58.904229",
     "status": "completed"
    },
    "tags": []
   },
   "outputs": [],
   "source": [
    "# Some useful definitions.\n",
    "\n",
    "class AffiliationWarning(UserWarning):\n",
    "    pass\n",
    "\n",
    "class AffiliationError(RuntimeError):\n",
    "    pass\n",
    "\n",
    "def validation(source: str):\n",
    "    \"\"\"Raises error paper during parsing of source file\n",
    "    \n",
    "    Allows checks before parsing TeX code.\n",
    "    \n",
    "    Raises AffiliationWarning\n",
    "    \"\"\"\n",
    "    check = mpia.affiliation_verifications(source, verbose=True)\n",
    "    if check is not True:\n",
    "        raise AffiliationError(\"mpia.affiliation_verifications: \" + check)\n",
    "\n",
    "        \n",
    "warnings.simplefilter('always', AffiliationWarning)"
   ]
  },
  {
   "cell_type": "code",
   "execution_count": 3,
   "id": "14622700",
   "metadata": {
    "execution": {
     "iopub.execute_input": "2022-11-18T04:09:58.925166Z",
     "iopub.status.busy": "2022-11-18T04:09:58.924590Z",
     "iopub.status.idle": "2022-11-18T04:09:58.928541Z",
     "shell.execute_reply": "2022-11-18T04:09:58.927874Z"
    },
    "papermill": {
     "duration": 0.010473,
     "end_time": "2022-11-18T04:09:58.930238",
     "exception": false,
     "start_time": "2022-11-18T04:09:58.919765",
     "status": "completed"
    },
    "tags": []
   },
   "outputs": [],
   "source": [
    "# additional CSS to consider. \n",
    "# TODO: Current into each exported file. \n",
    "#       This should be set once into the webpages directly.\n",
    "#       With only the class/id definitions in the .md files.\n",
    "\n",
    "debug_html = \"\"\"\n",
    "<style>\n",
    "#wrap{ overflow:auto; }\n",
    "#fig1{ background:yellow; width:100%; float:left; padding:5px;  }\n",
    "#fig2{ background:red; width:50%; float:left; clear:left; padding:5px;  }\n",
    "#fig3{ background:green; width:50%; float:left; padding:5px;   }\n",
    ".macros{ background:yellow; visibility:visible;}\n",
    "h1 {margin: 0 0 0 0;}\n",
    "mark {background-color:#fff3b6;}\n",
    "img {object-fit:contain; max-height:250px; display:inline-block; text-align: center;}\n",
    "</style>\n",
    "\"\"\" \n",
    "html = \"\"\"\n",
    "<style>\n",
    "#wrap{ overflow:auto; }\n",
    "#fig1{ width:100%; float:left; padding: 5px;  }\n",
    "#fig2{ width:50%; float:left; clear:left; padding: 5px;  }\n",
    "#fig3{ width:50%; float:left; padding: 5px;  }\n",
    ".macros{ visibility:hidden; height:0px; }\n",
    "h1 {margin: 0em 0 0 0;}\n",
    "mark {background-color:#fff3b6;}\n",
    "img {object-fit:contain; max-height:250px; display:inline-block; text-align: center;}\n",
    "</style>\n",
    "\"\"\""
   ]
  },
  {
   "cell_type": "markdown",
   "id": "14bd6310",
   "metadata": {
    "papermill": {
     "duration": 0.00388,
     "end_time": "2022-11-18T04:09:58.937903",
     "exception": false,
     "start_time": "2022-11-18T04:09:58.934023",
     "status": "completed"
    },
    "tags": []
   },
   "source": [
    "## get list of arxiv paper candidates\n",
    "\n",
    "We use the MPIA mitarbeiter list webpage from mpia.de to get author names\n",
    "We then get all new papers from Arxiv and match authors"
   ]
  },
  {
   "cell_type": "code",
   "execution_count": 4,
   "id": "2645e73a",
   "metadata": {
    "execution": {
     "iopub.execute_input": "2022-11-18T04:09:58.946972Z",
     "iopub.status.busy": "2022-11-18T04:09:58.946511Z",
     "iopub.status.idle": "2022-11-18T04:10:20.548769Z",
     "shell.execute_reply": "2022-11-18T04:10:20.547911Z"
    },
    "papermill": {
     "duration": 21.608894,
     "end_time": "2022-11-18T04:10:20.550684",
     "exception": false,
     "start_time": "2022-11-18T04:09:58.941790",
     "status": "completed"
    },
    "tags": []
   },
   "outputs": [
    {
     "name": "stdout",
     "output_type": "stream",
     "text": [
      "Arxiv has 60 new papers today\n",
      "          20 with possible author matches\n"
     ]
    }
   ],
   "source": [
    "# get list from MPIA website\n",
    "# it automatically filters identified non-scientists :func:`mpia.filter_non_scientists`\n",
    "mpia_authors = mpia.get_mpia_mitarbeiter_list()\n",
    "new_papers = get_new_papers()\n",
    "# add manual references\n",
    "add_paper_refs = []\n",
    "new_papers.extend([get_paper_from_identifier(k) for k in add_paper_refs])\n",
    "\n",
    "# select only papers with matching author names and highlight authors\n",
    "hl_list = [k[0] for k in mpia_authors]\n",
    "\n",
    "candidates = []\n",
    "for paperk in new_papers:\n",
    "    hl_authors = highlight_authors_in_list(paperk['authors'], hl_list)\n",
    "    matches = [(hl, orig) for hl, orig in zip(hl_authors, paperk['authors']) if 'mark' in hl]\n",
    "    paperk['authors'] = hl_authors\n",
    "    if matches:\n",
    "        candidates.append(paperk)\n",
    "print(\"\"\"Arxiv has {0:,d} new papers today\"\"\".format(len(new_papers)))        \n",
    "print(\"\"\"          {0:,d} with possible author matches\"\"\".format(len(candidates)))"
   ]
  },
  {
   "cell_type": "markdown",
   "id": "3543b34a",
   "metadata": {
    "papermill": {
     "duration": 0.004441,
     "end_time": "2022-11-18T04:10:20.559615",
     "exception": false,
     "start_time": "2022-11-18T04:10:20.555174",
     "status": "completed"
    },
    "tags": []
   },
   "source": [
    "# Parse sources and generate relevant outputs\n",
    "\n",
    "From the candidates, we do the following steps:\n",
    "* get their tarball from ArXiv (and extract data)\n",
    "* find the main .tex file: find one with \\documentclass{...} (sometimes it's non trivial)\n",
    "* Check affiliations with :func:`validation`, which uses :func:`mpia.affiliation_verifications`\n",
    "* If passing the affiliations: we parse the .tex source\n",
    "   * inject sub-documents into the main (flatten the main document)\n",
    "   * parse structure, extract information (title, abstract, authors, figures...)\n",
    "   * handles `\\graphicspath` if provided\n",
    "* Generate the .md document."
   ]
  },
  {
   "cell_type": "code",
   "execution_count": 5,
   "id": "9576b79e",
   "metadata": {
    "execution": {
     "iopub.execute_input": "2022-11-18T04:10:20.569147Z",
     "iopub.status.busy": "2022-11-18T04:10:20.568632Z",
     "iopub.status.idle": "2022-11-18T04:11:10.130080Z",
     "shell.execute_reply": "2022-11-18T04:11:10.129164Z"
    },
    "papermill": {
     "duration": 49.568635,
     "end_time": "2022-11-18T04:11:10.132191",
     "exception": false,
     "start_time": "2022-11-18T04:10:20.563556",
     "status": "completed"
    },
    "scrolled": false,
    "tags": []
   },
   "outputs": [
    {
     "data": {
      "application/vnd.jupyter.widget-view+json": {
       "model_id": "0ca32935986a419db109a5799844dc25",
       "version_major": 2,
       "version_minor": 0
      },
      "text/plain": [
       "  0%|          | 0/19 [00:00<?, ?it/s]"
      ]
     },
     "metadata": {},
     "output_type": "display_data"
    },
    {
     "name": "stdout",
     "output_type": "stream",
     "text": [
      "Retrieving document from  https://arxiv.org/e-print/2211.09136\n"
     ]
    },
    {
     "name": "stdout",
     "output_type": "stream",
     "text": [
      "extracting tarball to tmp_2211.09136..."
     ]
    },
    {
     "name": "stdout",
     "output_type": "stream",
     "text": [
      " done.\n",
      "Retrieving document from  https://arxiv.org/e-print/2211.09149\n"
     ]
    },
    {
     "name": "stdout",
     "output_type": "stream",
     "text": [
      "extracting tarball to tmp_2211.09149..."
     ]
    },
    {
     "name": "stdout",
     "output_type": "stream",
     "text": [
      " done.\n",
      "Retrieving document from  https://arxiv.org/e-print/2211.09202\n"
     ]
    },
    {
     "name": "stderr",
     "output_type": "stream",
     "text": [
      "/opt/hostedtoolcache/Python/3.9.15/x64/lib/python3.9/site-packages/IPython/core/interactiveshell.py:3433: LatexWarning: Multiple tex files.\n",
      "\n",
      "  exec(code_obj, self.user_global_ns, self.user_ns)\n",
      "/opt/hostedtoolcache/Python/3.9.15/x64/lib/python3.9/site-packages/IPython/core/interactiveshell.py:3433: LatexWarning: Found documentclass in tmp_2211.09149/main.tex\n",
      "\n",
      "  exec(code_obj, self.user_global_ns, self.user_ns)\n",
      "/opt/hostedtoolcache/Python/3.9.15/x64/lib/python3.9/site-packages/arxiv_on_deck_2/latex.py:292: LatexWarning: Latex injecting: 'table/table_summary' from 'tmp_2211.09149/table/table_summary.tex'\n",
      "  warnings.warn(LatexWarning(f\"Latex injecting: '{ext}' from '{subsource}'\"))\n",
      "/opt/hostedtoolcache/Python/3.9.15/x64/lib/python3.9/site-packages/arxiv_on_deck_2/latex.py:292: LatexWarning: Latex injecting: 'table/table_senor_structure' from 'tmp_2211.09149/table/table_senor_structure.tex'\n",
      "  warnings.warn(LatexWarning(f\"Latex injecting: '{ext}' from '{subsource}'\"))\n",
      "/opt/hostedtoolcache/Python/3.9.15/x64/lib/python3.9/site-packages/arxiv_on_deck_2/latex.py:292: LatexWarning: Latex injecting: 'author.tex' from 'tmp_2211.09149/author.tex'\n",
      "  warnings.warn(LatexWarning(f\"Latex injecting: '{ext}' from '{subsource}'\"))\n"
     ]
    },
    {
     "name": "stdout",
     "output_type": "stream",
     "text": [
      "extracting tarball to tmp_2211.09202..."
     ]
    },
    {
     "name": "stdout",
     "output_type": "stream",
     "text": [
      " done.\n",
      "Retrieving document from  https://arxiv.org/e-print/2211.09217\n"
     ]
    },
    {
     "name": "stdout",
     "output_type": "stream",
     "text": [
      "extracting tarball to tmp_2211.09217..."
     ]
    },
    {
     "name": "stdout",
     "output_type": "stream",
     "text": [
      " done.\n"
     ]
    },
    {
     "name": "stderr",
     "output_type": "stream",
     "text": [
      "/opt/hostedtoolcache/Python/3.9.15/x64/lib/python3.9/site-packages/IPython/core/interactiveshell.py:3433: LatexWarning: Multiple tex files.\n",
      "\n",
      "  exec(code_obj, self.user_global_ns, self.user_ns)\n",
      "/opt/hostedtoolcache/Python/3.9.15/x64/lib/python3.9/site-packages/IPython/core/interactiveshell.py:3433: LatexWarning: Found documentclass in tmp_2211.09217/draft_03.tex\n",
      "\n",
      "  exec(code_obj, self.user_global_ns, self.user_ns)\n",
      "/opt/hostedtoolcache/Python/3.9.15/x64/lib/python3.9/site-packages/arxiv_on_deck_2/latex.py:292: LatexWarning: Latex injecting: './figset3' from 'tmp_2211.09217/figset3.tex'\n",
      "  warnings.warn(LatexWarning(f\"Latex injecting: '{ext}' from '{subsource}'\"))\n",
      "/opt/hostedtoolcache/Python/3.9.15/x64/lib/python3.9/site-packages/arxiv_on_deck_2/latex.py:292: LatexWarning: Latex injecting: './figset2' from 'tmp_2211.09217/figset2.tex'\n",
      "  warnings.warn(LatexWarning(f\"Latex injecting: '{ext}' from '{subsource}'\"))\n",
      "/opt/hostedtoolcache/Python/3.9.15/x64/lib/python3.9/site-packages/arxiv_on_deck_2/latex.py:292: LatexWarning: Latex injecting: './figset1' from 'tmp_2211.09217/figset1.tex'\n",
      "  warnings.warn(LatexWarning(f\"Latex injecting: '{ext}' from '{subsource}'\"))\n",
      "/opt/hostedtoolcache/Python/3.9.15/x64/lib/python3.9/site-packages/arxiv_on_deck_2/latex.py:292: LatexWarning: Latex injecting: './TableA2_short' from 'tmp_2211.09217/TableA2_short.tex'\n",
      "  warnings.warn(LatexWarning(f\"Latex injecting: '{ext}' from '{subsource}'\"))\n",
      "/opt/hostedtoolcache/Python/3.9.15/x64/lib/python3.9/site-packages/arxiv_on_deck_2/latex.py:292: LatexWarning: Latex injecting: './TableA1' from 'tmp_2211.09217/TableA1.tex'\n",
      "  warnings.warn(LatexWarning(f\"Latex injecting: '{ext}' from '{subsource}'\"))\n",
      "/opt/hostedtoolcache/Python/3.9.15/x64/lib/python3.9/site-packages/arxiv_on_deck_2/latex.py:292: LatexWarning: Latex injecting: './Table2' from 'tmp_2211.09217/Table2.tex'\n",
      "  warnings.warn(LatexWarning(f\"Latex injecting: '{ext}' from '{subsource}'\"))\n",
      "/opt/hostedtoolcache/Python/3.9.15/x64/lib/python3.9/site-packages/arxiv_on_deck_2/latex.py:292: LatexWarning: Latex injecting: './Table1' from 'tmp_2211.09217/Table1.tex'\n",
      "  warnings.warn(LatexWarning(f\"Latex injecting: '{ext}' from '{subsource}'\"))\n"
     ]
    },
    {
     "name": "stdout",
     "output_type": "stream",
     "text": [
      "Retrieving document from  https://arxiv.org/e-print/2211.09279\n"
     ]
    },
    {
     "name": "stdout",
     "output_type": "stream",
     "text": [
      "extracting tarball to tmp_2211.09279..."
     ]
    },
    {
     "name": "stdout",
     "output_type": "stream",
     "text": [
      " done.\n",
      "Retrieving document from  https://arxiv.org/e-print/2211.09300\n"
     ]
    },
    {
     "name": "stderr",
     "output_type": "stream",
     "text": [
      "/opt/hostedtoolcache/Python/3.9.15/x64/lib/python3.9/site-packages/IPython/core/interactiveshell.py:3433: LatexWarning: Multiple tex files.\n",
      "\n",
      "  exec(code_obj, self.user_global_ns, self.user_ns)\n",
      "/opt/hostedtoolcache/Python/3.9.15/x64/lib/python3.9/site-packages/IPython/core/interactiveshell.py:3433: LatexWarning: Found documentclass in tmp_2211.09279/POLISH2_cal_v4_arXiv.tex\n",
      "\n",
      "  exec(code_obj, self.user_global_ns, self.user_ns)\n"
     ]
    },
    {
     "name": "stdout",
     "output_type": "stream",
     "text": [
      "extracting tarball to tmp_2211.09300... done.\n",
      "Retrieving document from  https://arxiv.org/e-print/2211.09308\n"
     ]
    },
    {
     "name": "stdout",
     "output_type": "stream",
     "text": [
      "extracting tarball to tmp_2211.09308... done.\n"
     ]
    },
    {
     "name": "stdout",
     "output_type": "stream",
     "text": [
      "Retrieving document from  https://arxiv.org/e-print/2211.09309\n"
     ]
    },
    {
     "name": "stdout",
     "output_type": "stream",
     "text": [
      "extracting tarball to tmp_2211.09309..."
     ]
    },
    {
     "name": "stdout",
     "output_type": "stream",
     "text": [
      " done.\n",
      "Retrieving document from  https://arxiv.org/e-print/2211.09331\n"
     ]
    },
    {
     "name": "stderr",
     "output_type": "stream",
     "text": [
      "/opt/hostedtoolcache/Python/3.9.15/x64/lib/python3.9/site-packages/IPython/core/interactiveshell.py:3433: LatexWarning: Multiple tex files.\n",
      "\n",
      "  exec(code_obj, self.user_global_ns, self.user_ns)\n",
      "/opt/hostedtoolcache/Python/3.9.15/x64/lib/python3.9/site-packages/IPython/core/interactiveshell.py:3433: LatexWarning: Found documentclass in tmp_2211.09309/main.tex\n",
      "\n",
      "  exec(code_obj, self.user_global_ns, self.user_ns)\n"
     ]
    },
    {
     "name": "stdout",
     "output_type": "stream",
     "text": [
      "extracting tarball to tmp_2211.09331..."
     ]
    },
    {
     "name": "stdout",
     "output_type": "stream",
     "text": [
      " done.\n",
      "Retrieving document from  https://arxiv.org/e-print/2211.09349\n"
     ]
    },
    {
     "name": "stdout",
     "output_type": "stream",
     "text": [
      "extracting tarball to tmp_2211.09349... done.\n",
      "Retrieving document from  https://arxiv.org/e-print/2211.09351\n"
     ]
    },
    {
     "name": "stdout",
     "output_type": "stream",
     "text": [
      "extracting tarball to tmp_2211.09351..."
     ]
    },
    {
     "name": "stdout",
     "output_type": "stream",
     "text": [
      " done.\n",
      "Retrieving document from  https://arxiv.org/e-print/2211.09450\n"
     ]
    },
    {
     "name": "stdout",
     "output_type": "stream",
     "text": [
      "extracting tarball to tmp_2211.09450... done.\n",
      "Retrieving document from  https://arxiv.org/e-print/2211.09492\n"
     ]
    },
    {
     "name": "stderr",
     "output_type": "stream",
     "text": [
      "/opt/hostedtoolcache/Python/3.9.15/x64/lib/python3.9/site-packages/IPython/core/interactiveshell.py:3433: LatexWarning: Multiple tex files.\n",
      "\n",
      "  exec(code_obj, self.user_global_ns, self.user_ns)\n",
      "/opt/hostedtoolcache/Python/3.9.15/x64/lib/python3.9/site-packages/IPython/core/interactiveshell.py:3433: LatexWarning: Found documentclass in tmp_2211.09450/IGW-PTA-PBH-20221015.tex\n",
      "\n",
      "  exec(code_obj, self.user_global_ns, self.user_ns)\n"
     ]
    },
    {
     "name": "stdout",
     "output_type": "stream",
     "text": [
      "extracting tarball to tmp_2211.09492... done.\n",
      "Retrieving document from  https://arxiv.org/e-print/2211.09543\n"
     ]
    },
    {
     "name": "stdout",
     "output_type": "stream",
     "text": [
      "extracting tarball to tmp_2211.09543... done.\n",
      "Retrieving document from  https://arxiv.org/e-print/2211.09548\n"
     ]
    },
    {
     "name": "stdout",
     "output_type": "stream",
     "text": [
      "extracting tarball to tmp_2211.09548..."
     ]
    },
    {
     "name": "stdout",
     "output_type": "stream",
     "text": [
      " done.\n",
      "Retrieving document from  https://arxiv.org/e-print/2211.09583\n"
     ]
    },
    {
     "name": "stdout",
     "output_type": "stream",
     "text": [
      "extracting tarball to tmp_2211.09583..."
     ]
    },
    {
     "name": "stdout",
     "output_type": "stream",
     "text": [
      " done.\n",
      "Retrieving document from  https://arxiv.org/e-print/2211.09617\n"
     ]
    },
    {
     "name": "stdout",
     "output_type": "stream",
     "text": [
      "extracting tarball to tmp_2211.09617..."
     ]
    },
    {
     "name": "stdout",
     "output_type": "stream",
     "text": [
      " done.\n",
      "Retrieving document from  https://arxiv.org/e-print/2211.09628\n"
     ]
    },
    {
     "name": "stderr",
     "output_type": "stream",
     "text": [
      "/opt/hostedtoolcache/Python/3.9.15/x64/lib/python3.9/site-packages/IPython/core/interactiveshell.py:3433: LatexWarning: Multiple tex files.\n",
      "\n",
      "  exec(code_obj, self.user_global_ns, self.user_ns)\n",
      "/opt/hostedtoolcache/Python/3.9.15/x64/lib/python3.9/site-packages/IPython/core/interactiveshell.py:3433: LatexWarning: Found documentclass in tmp_2211.09617/main.tex\n",
      "\n",
      "  exec(code_obj, self.user_global_ns, self.user_ns)\n",
      "/opt/hostedtoolcache/Python/3.9.15/x64/lib/python3.9/site-packages/arxiv_on_deck_2/latex.py:292: LatexWarning: Latex injecting: 'journaldef.tex' from 'tmp_2211.09617/journaldef.tex'\n",
      "  warnings.warn(LatexWarning(f\"Latex injecting: '{ext}' from '{subsource}'\"))\n",
      "/opt/hostedtoolcache/Python/3.9.15/x64/lib/python3.9/site-packages/arxiv_on_deck_2/latex.py:292: LatexWarning: Latex injecting: 'journaldef.tex' from 'tmp_2211.09617/journaldef.tex'\n",
      "  warnings.warn(LatexWarning(f\"Latex injecting: '{ext}' from '{subsource}'\"))\n"
     ]
    },
    {
     "name": "stdout",
     "output_type": "stream",
     "text": [
      "extracting tarball to tmp_2211.09628..."
     ]
    },
    {
     "name": "stdout",
     "output_type": "stream",
     "text": [
      " done.\n",
      "Retrieving document from  https://arxiv.org/e-print/2211.09635\n"
     ]
    },
    {
     "name": "stdout",
     "output_type": "stream",
     "text": [
      "extracting tarball to tmp_2211.09635..."
     ]
    },
    {
     "name": "stdout",
     "output_type": "stream",
     "text": [
      " done.\n"
     ]
    }
   ],
   "source": [
    "documents = []\n",
    "failed = []\n",
    "for paper in tqdm(candidates[:-1]):\n",
    "    paper_id = paper['identifier'].lower().replace('arxiv:', '')\n",
    "    \n",
    "    folder = f'tmp_{paper_id}'\n",
    "\n",
    "    try:\n",
    "        if not os.path.isdir(folder):\n",
    "            folder = retrieve_document_source(f\"{paper_id}\", f'tmp_{paper_id}')\n",
    "        \n",
    "        try:\n",
    "            doc = latex.LatexDocument(folder, validation=validation)    \n",
    "        except AffiliationError as affilerror:\n",
    "            msg = f\"ArXiv:{paper_id:s} is not an MPIA paper... \" + str(affilerror)\n",
    "            failed.append((paper, \"affiliation error: \" + str(affilerror) ))\n",
    "            continue\n",
    "        \n",
    "        # Hack because sometimes author parsing does not work well\n",
    "        if (len(doc.authors) != len(paper['authors'])):\n",
    "            doc._authors = paper['authors']\n",
    "        if (doc.abstract) in (None, ''):\n",
    "            doc._abstract = paper['abstract']\n",
    "            \n",
    "        doc.comment = (get_markdown_badge(paper_id) + \n",
    "                       \"<mark>Appeared on: \" + paper['date'] + \"</mark> - \" +\n",
    "                       \"_\" + paper['comments'] + \"_\")\n",
    "        doc.highlight_authors_in_list(hl_list)\n",
    "\n",
    "        full_md = doc.generate_markdown_text()\n",
    "        \n",
    "        documents.append((paper_id, full_md))\n",
    "    except Exception as e:\n",
    "        warnings.warn(latex.LatexWarning(f\"{paper_id:s} did not run properly\\n\" +\n",
    "                                         str(e)\n",
    "                                        ))\n",
    "        failed.append((paper, \"latex error \" + str(e)))"
   ]
  },
  {
   "cell_type": "markdown",
   "id": "2505a25c",
   "metadata": {
    "papermill": {
     "duration": 0.006608,
     "end_time": "2022-11-18T04:11:10.145276",
     "exception": false,
     "start_time": "2022-11-18T04:11:10.138668",
     "status": "completed"
    },
    "tags": []
   },
   "source": [
    "### Export the logs\n",
    "\n",
    "Throughout, we also keep track of the logs per paper. see `logs-{today date}.md` "
   ]
  },
  {
   "cell_type": "code",
   "execution_count": 6,
   "id": "d733828a",
   "metadata": {
    "execution": {
     "iopub.execute_input": "2022-11-18T04:11:10.159286Z",
     "iopub.status.busy": "2022-11-18T04:11:10.158568Z",
     "iopub.status.idle": "2022-11-18T04:11:10.189948Z",
     "shell.execute_reply": "2022-11-18T04:11:10.188977Z"
    },
    "papermill": {
     "duration": 0.040226,
     "end_time": "2022-11-18T04:11:10.191500",
     "exception": false,
     "start_time": "2022-11-18T04:11:10.151274",
     "status": "completed"
    },
    "scrolled": false,
    "tags": []
   },
   "outputs": [
    {
     "data": {
      "text/markdown": [
       "## Successful papers"
      ],
      "text/plain": [
       "<IPython.core.display.Markdown object>"
      ]
     },
     "metadata": {},
     "output_type": "display_data"
    },
    {
     "data": {
      "text/markdown": [
       "\n",
       "|||\n",
       "|---:|:---|\n",
       "| [![arXiv](https://img.shields.io/badge/arXiv-arXiv:2211.09217-b31b1b.svg)](https://arxiv.org/abs/arXiv:2211.09217) | **Stellar Properties for a Comprehensive Collection of Star Forming  Regions in the SDSS APOGEE-2 Survey**  |\n",
       "|| Carlos G. Román-Zúñiga, et al. -- incl., <mark>Jesús Hernández</mark>, <mark>D. A. García-Hernández</mark> |\n",
       "|*Appeared on*| *2022-11-18*|\n",
       "|*Comments*| *6 figures, 4 tables*|\n",
       "|**Abstract**| The Sloan Digital Sky Survey IV (SDSS-IV) APOGEE-2 primary science goal was to observe red giant stars throughout the Galaxy to study its dynamics, morphology, and chemical evolution. The APOGEE instrument, a high-resolution 300 fiber H-band (1.55-1.71 micron) spectrograph, is also ideal to study other stellar populations in the Galaxy, among which are a number of star forming regions and young open clusters. We present the results of the determination of six stellar properties ($T_{eff}$, $\\log{g}$, [Fe/H], $L/L_\\odot$, $M/M_\\odot$, and ages) for a sample that is composed of 3360 young stars, of sub-solar to super-solar types, in sixteen Galactic star formation and young open cluster regions. Those sources were selected by using a clustering method that removes most of the field contamination. Samples were also refined by removing targets affected by various systematic effects of the parameter determination. The final samples are presented in a comprehensive catalog that includes all six estimated parameters. This overview study also includes parameter spatial distribution maps for all regions and Hertzprung-Russell ($L/L_\\odot$ vs. $T_{eff}$) diagrams. This study serves as a guide for detailed studies on individual regions, and paves the way for the future studies on the global properties of stars in the pre-main sequence phase of stellar evolution using more robust samples. |"
      ],
      "text/plain": [
       "[arXiv:2211.09217] Stellar Properties for a Comprehensive Collection of Star Forming  Regions in the SDSS APOGEE-2 Survey\n",
       "\tCarlos G. Román-Zúñiga, et al. -- incl., <mark>Jesús Hernández</mark>, <mark>D. A. García-Hernández</mark>"
      ]
     },
     "metadata": {},
     "output_type": "display_data"
    },
    {
     "data": {
      "text/markdown": [
       "## Failed papers"
      ],
      "text/plain": [
       "<IPython.core.display.Markdown object>"
      ]
     },
     "metadata": {},
     "output_type": "display_data"
    },
    {
     "data": {
      "text/markdown": [
       "\n",
       "|||\n",
       "|---:|:---|\n",
       "| [![arXiv](https://img.shields.io/badge/arXiv-arXiv:2211.09309-b31b1b.svg)](https://arxiv.org/abs/arXiv:2211.09309) | **Charging of free-falling test masses in orbit due to cosmic rays:  results from LISA Pathfinder**  |\n",
       "|| LISA Pathfinder Collaboration, et al. -- incl., <mark>I. Harrison</mark>, <mark>G. Heinzel</mark>, <mark>M. Hewitson</mark>, <mark>J. Ramos-Castro</mark> |\n",
       "|*Appeared on*| *2022-11-18*|\n",
       "|*Comments*| *16 pates, 9 figures*|\n",
       "|**Abstract**| A comprehensive summary of the measurements made to characterize test mass charging due to the space environment during the LISA Pathfinder mission is presented. Measurements of the residual charge of the test mass after release by the grabbing and positioning mechanism, show that the initial charge of the test masses was negative after all releases, leaving the test mass with a potential in the range $-12$ mV to $-512$ mV. Variations in the neutral test mass charging rate between $21.7$ e s$^{-1}$ and $30.7$ e s$^{-1}$ were observed over the course of the 17-month science operations produced by cosmic ray flux changes including a Forbush decrease associated with a small solar energetic particle event. A dependence of the cosmic ray charging rate on the test mass potential between $-30.2$ e s$^{-1}$ V$^{-1}$ and $-40.3$ e s$^{-1}$ V$^{-1}$ was observed and this is attributed to a contribution to charging from low-energy electrons emitted from the gold surfaces of the gravitational reference sensor. Data from the on-board particle detector show a reliable correlation with the charging rate and with other environmental monitors of the cosmic ray flux. This correlation is exploited to extrapolate test mass charging rates to a 20-year period giving useful insight into the expected range of charging rate that may be observed in the LISA mission. |\n",
       "|<p style=\"color:green\"> **ERROR** </p>| <p style=\"color:green\">affiliation error: mpia.affiliation_verifications: '69117' keyword not found.</p> |"
      ],
      "text/plain": [
       "<IPython.core.display.Markdown object>"
      ]
     },
     "metadata": {},
     "output_type": "display_data"
    },
    {
     "data": {
      "text/markdown": [
       "\n",
       "|||\n",
       "|---:|:---|\n",
       "| [![arXiv](https://img.shields.io/badge/arXiv-arXiv:2211.09492-b31b1b.svg)](https://arxiv.org/abs/arXiv:2211.09492) | **Photometric redshift estimation of galaxies in the DESI Legacy Imaging  Surveys**  |\n",
       "|| <mark>Changhua Li</mark>, et al. -- incl., <mark>Yanxia Zhang</mark>, <mark>Yongheng Zhao</mark>, <mark>Jing-Yi Zhang</mark>, <mark>Shanshan Li</mark>, <mark>Linying Mi</mark>, <mark>Boliang He</mark> |\n",
       "|*Appeared on*| *2022-11-18*|\n",
       "|*Comments*| *Accepted for publication in MNRAS. 14 pages, 9 figures, 11 tables*|\n",
       "|**Abstract**| The accurate estimation of photometric redshifts plays a crucial role in accomplishing science objectives of the large survey projects. The template-fitting and machine learning are the two main types of methods applied currently. Based on the training set obtained by cross-correlating the DESI Legacy Imaging Surveys DR9 galaxy catalogue and SDSS DR16 galaxy catalogue, the two kinds of methods are used and optimized, such as EAZY for template-fitting approach and CATBOOST for machine learning. Then the created models are tested by the cross-matched samples of the DESI Legacy Imaging SurveysDR9 galaxy catalogue with LAMOST DR7, GAMA DR3 and WiggleZ galaxy catalogues. Moreover three machine learning methods (CATBOOST, Multi-Layer Perceptron and Random Forest) are compared, CATBOOST shows its superiority for our case. By feature selection and optimization of model parameters, CATBOOST can obtain higher accuracy with optical and infrared photometric information, the best performance ($MSE=0.0032$, $\\sigma_{NMAD}=0.0156$ and $O=0.88$ per cent) with $g \\le 24.0$, $r \\le 23.4$ and $z \\le 22.5$ is achieved. But EAZY can provide more accurate photometric redshift estimation for high redshift galaxies, especially beyond the redhisft range of training sample. Finally, we finish the redshift estimation of all DESI DR9 galaxies with CATBOOST and EAZY, which will contribute to the further study of galaxies and their properties. |\n",
       "|<p style=\"color:green\"> **ERROR** </p>| <p style=\"color:green\">affiliation error: mpia.affiliation_verifications: '69117' keyword not found.</p> |"
      ],
      "text/plain": [
       "<IPython.core.display.Markdown object>"
      ]
     },
     "metadata": {},
     "output_type": "display_data"
    },
    {
     "data": {
      "text/markdown": [
       "\n",
       "|||\n",
       "|---:|:---|\n",
       "| [![arXiv](https://img.shields.io/badge/arXiv-arXiv:2211.09136-b31b1b.svg)](https://arxiv.org/abs/arXiv:2211.09136) | **A New Stellar Mass Proxy for Subhalo Abundance Matching**  |\n",
       "|| Chen-Yu Chuang, <mark>Yen-Ting Lin</mark> |\n",
       "|*Appeared on*| *2022-11-18*|\n",
       "|*Comments*| *11 pages, 4 figures, 1 table, submitted to AAS Journals*|\n",
       "|**Abstract**| Subhalo abundance matching (SHAM) has played an important role in improving our understanding of how galaxies populate their host dark matter halos. In essence, the SHAM framework is to find a dark matter halo property that best correlates with an attribute of galaxies, such as stellar mass. The peak value of the maximum circular velocity ($V_{\\rm max}$) a halo/subhalo has ever attained throughout its lifetime, $V_{\\rm peak}$, has been a popular choice for SHAM. A recent study by Tonnesen & Ostriker (2021) suggested that quantity $\\phi$, which combines the present-day $V_{\\rm max}$ and the peak value of halo dark matter mass, performs better in predicting stellar mass than $V_{\\rm peak}$. Inspired by their approach, in this work, we find that further improvement can be achieved by a quantity $\\psi_5$ that combines the 90th percentile of $V_{\\rm max}$ a halo/subhalo has ever achieved with the 60th percentile of the dark matter halo time variation rate. Tests based on the simulation IllustrisTNG300 show that our new SHAM scheme, with just three free parameters, can improve the stellar mass prediction and mass-dependent clustering by 15% and 16% from $\\phi$, respectively, over the redshift range $z=0-2$. |\n",
       "|<p style=\"color:green\"> **ERROR** </p>| <p style=\"color:green\">affiliation error: mpia.affiliation_verifications: 'Heidelberg' keyword not found.</p> |"
      ],
      "text/plain": [
       "<IPython.core.display.Markdown object>"
      ]
     },
     "metadata": {},
     "output_type": "display_data"
    },
    {
     "data": {
      "text/markdown": [
       "\n",
       "|||\n",
       "|---:|:---|\n",
       "| [![arXiv](https://img.shields.io/badge/arXiv-arXiv:2211.09149-b31b1b.svg)](https://arxiv.org/abs/arXiv:2211.09149) | **Fringing Analysis and Simulation for the Vera C. Rubin Observatory's  Legacy Survey of Space and Time**  |\n",
       "|| <mark>Zhiyuan Guo</mark>, et al. -- incl., <mark>Chris W. Walter</mark> |\n",
       "|*Appeared on*| *2022-11-18*|\n",
       "|*Comments*| *17 pages, 16 figures, submitted to PASP*|\n",
       "|**Abstract**| The presence of fringing in astronomical CCD images will impact photometric quality and measurements. Yet its impact on the Vera C. Rubin Observatory's Legacy Survey of Space and Time (LSST) has not been fully studied. We present a detailed study on fringing for Charge-Coupled Devices (CCDs) already implemented on the Rubin Observatory LSST Camera's focal plane. After making physical measurements and knowing the compositions, we have developed a model for the e2v CCDs. We present a method to fit for the internal height variation of the epoxy layer within the sensors based on fringing measurements in a laboratory setting. This method is generic enough that it can be easily modified to work for other CCDs. Using the derived fringing model, we successfully reproduce comparable fringing amplitudes that match the observed levels in images taken by existing telescopes with different optical designs. This model is then used to forecast the expected level of fringing in a single LSST y-band sky background exposure with Rubin telescope optics in the presence of a realistic time varying sky spectrum. The predicted fringing amplitude in LSST images ranges from $0.04\\%$ to $0.2\\%$ depending on the location of a CCD on the focal plane. We find that the predicted variation in surface brightness caused by fringing in LSST y-band skybackground images is about $0.6\\ \\mu\\rm{Jy}\\ \\rm{arcsec}^{-2}$, which is 40 times larger than the current measurement error. We conclude that it is necessary to include fringing correction in the Rubin's LSST image processing pipeline. |\n",
       "|<p style=\"color:green\"> **ERROR** </p>| <p style=\"color:green\">affiliation error: mpia.affiliation_verifications: 'Heidelberg' keyword not found.</p> |"
      ],
      "text/plain": [
       "<IPython.core.display.Markdown object>"
      ]
     },
     "metadata": {},
     "output_type": "display_data"
    },
    {
     "data": {
      "text/markdown": [
       "\n",
       "|||\n",
       "|---:|:---|\n",
       "| [![arXiv](https://img.shields.io/badge/arXiv-arXiv:2211.09202-b31b1b.svg)](https://arxiv.org/abs/arXiv:2211.09202) | **Deep Drilling in the Time Domain with DECam: Survey Characterization**  |\n",
       "|| Melissa L. Graham, et al. -- incl., <mark>Ari Heinze</mark>, <mark>Chien-Hsiu Lee</mark>, <mark>Chris Lidman</mark>, <mark>Clara E. Martínez-Vázquez</mark>, <mark>Lifan Wang</mark> |\n",
       "|*Appeared on*| *2022-11-18*|\n",
       "|*Comments*| *22 pages, 17 figures, 2 tables. Accepted to MNRAS*|\n",
       "|**Abstract**| This paper presents a new optical imaging survey of four deep drilling fields (DDFs), two Galactic and two extragalactic, with the Dark Energy Camera (DECam) on the 4 meter Blanco telescope at the Cerro Tololo Inter-American Observatory (CTIO). During the first year of observations in 2021, $>$4000 images covering 21 square degrees (7 DECam pointings), with $\\sim$40 epochs (nights) per field and 5 to 6 images per night per filter in $g$, $r$, $i$, and/or $z$, have become publicly available (the proprietary period for this program is waived). We describe the real-time difference-image pipeline and how alerts are distributed to brokers via the same distribution system as the Zwicky Transient Facility (ZTF). In this paper, we focus on the two extragalactic deep fields (COSMOS and ELAIS-S1), characterizing the detected sources and demonstrating that the survey design is effective for probing the discovery space of faint and fast variable and transient sources. We describe and make publicly available 4413 calibrated light curves based on difference-image detection photometry of transients and variables in the extragalactic fields. We also present preliminary scientific analysis regarding Solar System small bodies, stellar flares and variables, Galactic anomaly detection, fast-rising transients and variables, supernovae, and active galactic nuclei. |\n",
       "|<p style=\"color:green\"> **ERROR** </p>| <p style=\"color:green\">affiliation error: mpia.affiliation_verifications: 'Heidelberg' keyword not found.</p> |"
      ],
      "text/plain": [
       "<IPython.core.display.Markdown object>"
      ]
     },
     "metadata": {},
     "output_type": "display_data"
    },
    {
     "data": {
      "text/markdown": [
       "\n",
       "|||\n",
       "|---:|:---|\n",
       "| [![arXiv](https://img.shields.io/badge/arXiv-arXiv:2211.09279-b31b1b.svg)](https://arxiv.org/abs/arXiv:2211.09279) | **A Decade of Linear and Circular Polarimetry with the POLISH2 Polarimeter**  |\n",
       "|| Sloane J. Wiktorowicz, et al. -- incl., <mark>Ninos Hermis</mark> |\n",
       "|*Appeared on*| *2022-11-18*|\n",
       "|*Comments*| *38 pages, 16 figures, accepted by ApJS*|\n",
       "|**Abstract**| The POLISH2 optical polarimeter has been in operation at the Lick Observatory 3-m Shane telescope since 2011, and it was commissioned at the Gemini North 8-m in 2016. This instrument primarily targets exoplanets, asteroids, and the Crab pulsar, but it has also been used for a wide variety of planetary, galactic, and supernova science. POLISH2's photoelastic modulators, employed instead of rotating waveplates or ferro-electric liquid crystal modulators, offer the unprecedented ability to achieve sensitivity and accuracy of order 1 ppm (0.0001%), which are difficult to obtain with conventional polarimeters. Additionally, POLISH2 simultaneously measures intensity (Stokes I), linear polarization (Stokes Q and U), and circular polarization (Stokes V), which fully describe the polarization state of incident light. We document our laboratory and on-sky calibration methodology, our archival on-sky database, and we demonstrate conclusive detection of circular polarization of certain objects. |\n",
       "|<p style=\"color:green\"> **ERROR** </p>| <p style=\"color:green\">affiliation error: mpia.affiliation_verifications: 'Heidelberg' keyword not found.</p> |"
      ],
      "text/plain": [
       "<IPython.core.display.Markdown object>"
      ]
     },
     "metadata": {},
     "output_type": "display_data"
    },
    {
     "data": {
      "text/markdown": [
       "\n",
       "|||\n",
       "|---:|:---|\n",
       "| [![arXiv](https://img.shields.io/badge/arXiv-arXiv:2211.09300-b31b1b.svg)](https://arxiv.org/abs/arXiv:2211.09300) | **Statistical Inference for Coadded Astronomical Images**  |\n",
       "|| <mark>Mallory Wang</mark>, et al. |\n",
       "|*Appeared on*| *2022-11-18*|\n",
       "|*Comments*| *Accepted to the NeurIPS 2022 Machine Learning and the Physical Sciences workshop. 6 pages, 2 figures*|\n",
       "|**Abstract**| Coadded astronomical images are created by stacking multiple single-exposure images. Because coadded images are smaller in terms of data size than the single-exposure images they summarize, loading and processing them is less computationally expensive. However, image coaddition introduces additional dependence among pixels, which complicates principled statistical analysis of them. We present a principled Bayesian approach for performing light source parameter inference with coadded astronomical images. Our method implicitly marginalizes over the single-exposure pixel intensities that contribute to the coadded images, giving it the computational efficiency necessary to scale to next-generation astronomical surveys. As a proof of concept, we show that our method for estimating the locations and fluxes of stars using simulated coadds outperforms a method trained on single-exposure images. |\n",
       "|<p style=\"color:green\"> **ERROR** </p>| <p style=\"color:green\">affiliation error: mpia.affiliation_verifications: 'Heidelberg' keyword not found.</p> |"
      ],
      "text/plain": [
       "<IPython.core.display.Markdown object>"
      ]
     },
     "metadata": {},
     "output_type": "display_data"
    },
    {
     "data": {
      "text/markdown": [
       "\n",
       "|||\n",
       "|---:|:---|\n",
       "| [![arXiv](https://img.shields.io/badge/arXiv-arXiv:2211.09308-b31b1b.svg)](https://arxiv.org/abs/arXiv:2211.09308) | **Design and testing of Kinetic Inductance Detector package for the  Terahertz Intensity Mapper**  |\n",
       "|| <mark>L.-J. Liu</mark>, et al. |\n",
       "|*Appeared on*| *2022-11-18*|\n",
       "|*Comments*| *8 pages, 5 figures, to be published in conference proceedings of SPIE Astronomical Telescopes + Instrumentation 2022*|\n",
       "|**Abstract**| The Terahertz Intensity Mapper (TIM) is designed to probe the star formation history in dust-obscured star-forming galaxies around the peak of cosmic star formation. This will be done via measurements of the redshifted 157.7 um line of singly ionized carbon ([CII]). TIM employs two R $\\sim 250$ long-slit grating spectrometers covering 240-420 um. Each is equipped with a focal plane unit containing 4 wafer-sized subarrays of horn-coupled aluminum kinetic inductance detectors (KIDs). We present the design and performance of a prototype focal plane assembly for one of TIM's KID-based subarrays. Our design strictly maintain high optical efficiency and a suitable electromagnetic environment for the KIDs. The prototype detector housing in combination with the first flight-like quadrant are tested at 250 mK. Initial frequency scan shows that many resonances are affected by collisions and/or very shallow transmission dips as a result of a degraded internal quality factor (Q factor). This is attributed to the presence of an external magnetic field during cooldown. We report on a study of magnetic field dependence of the Q factor of our quadrant array. We implement a Helmholtz coil to vary the magnetic field at the detectors by (partially) nulling earth's. Our investigation shows that the earth magnetic field can significantly affect our KIDs' performance by degrading the Q factor by a factor of 2-5, well below those expected from the operational temperature or optical loading. We find that we can sufficiently recover our detectors' quality factor by tuning the current in the coils to generate a field that matches earth's magnetic field in magnitude to within a few uT. Therefore, it is necessary to employ a properly designed magnetic shield enclosing the TIM focal plane unit. Based on the results presented in this paper, we set a shielding requirement of |B| < 3 uT. |\n",
       "|<p style=\"color:green\"> **ERROR** </p>| <p style=\"color:green\">affiliation error: mpia.affiliation_verifications: 'Heidelberg' keyword not found.</p> |"
      ],
      "text/plain": [
       "<IPython.core.display.Markdown object>"
      ]
     },
     "metadata": {},
     "output_type": "display_data"
    },
    {
     "data": {
      "text/markdown": [
       "\n",
       "|||\n",
       "|---:|:---|\n",
       "| [![arXiv](https://img.shields.io/badge/arXiv-arXiv:2211.09331-b31b1b.svg)](https://arxiv.org/abs/arXiv:2211.09331) | **Intrinsic Alignments Between Galaxies and the Cosmic Web at $z\\sim 1-2$  in the IllustrisTNG Simulations**  |\n",
       "|| <mark>Benjamin Zhang</mark>, et al. -- incl., <mark>Khee-Gan Lee</mark> |\n",
       "|*Appeared on*| *2022-11-18*|\n",
       "|*Comments*| *26 pages, 7 figures*|\n",
       "|**Abstract**| Galaxy formation theories predict that galaxy shapes and angular momenta have intrinsic alignments (IA) with the cosmic web, which provides an observational test of various theories, and is important to quantify as a nuisance parameter for weak lensing. We study galaxy IA in the IllustrisTNG suite of hydrodynamical simulations at redshifts 1 and 2, finding that alignment trends are consistent with previous studies. However, we find that the magnitude of the spin alignment signal is $\\sim 2.4 \\times$ weaker than seen in previous studies of the Horizon-AGN simulation, suggesting that IA may have significant dependence on subgrid physics. Based on IllustrisTNG, we then construct mock observational spectroscopic surveys that can probe shape-cosmic web IA at $z \\sim 1-2$, modeled on the low-$z$ galaxy redshift and IGM tomography surveys on the upcoming Subaru Prime Focus Spectrograph Galaxy Evolution (PFS GE) survey. However, even over box sizes of $L=205 h^{-1} \\mathrm{Mpc}$, we find that global anisotropies induce a sample variance in the 2D projected IA signal that depend on the projected direction -- this induces significant errors in the observed alignment. We predict a $5.3\\sigma$ detection of IlustrisTNG's shape IA signal at $z \\sim 1$ from Subaru PFS GE, although a detection would be challenging at $z \\sim 2$. However, a rough rescaling of the relative IA signal strengths between the TNG and HorizonAGN simulations suggests that PFS GE should be able to constrain the latter's stronger signal. |\n",
       "|<p style=\"color:green\"> **ERROR** </p>| <p style=\"color:green\">affiliation error: mpia.affiliation_verifications: 'Heidelberg' keyword not found.</p> |"
      ],
      "text/plain": [
       "<IPython.core.display.Markdown object>"
      ]
     },
     "metadata": {},
     "output_type": "display_data"
    },
    {
     "data": {
      "text/markdown": [
       "\n",
       "|||\n",
       "|---:|:---|\n",
       "| [![arXiv](https://img.shields.io/badge/arXiv-arXiv:2211.09349-b31b1b.svg)](https://arxiv.org/abs/arXiv:2211.09349) | **Estimation of Solar Observations with the Five-hundred-meter Aperture  Spherical Radio Telescope (FAST)**  |\n",
       "|| Lei Qian, et al. -- incl., <mark>Hongfei Liu</mark>, <mark>Hengqian Gan</mark>, <mark>Lei Zhao</mark> |\n",
       "|*Appeared on*| *2022-11-18*|\n",
       "|*Comments*| *5 pages, 2 figures. Accepted by RAA*|\n",
       "|**Abstract**| We present the estimation of the solar observation with the Five-hundred-meter Aperture Spherical radio Telescope (FAST). For both the quite Sun and the Sun with radio bursts, when pointing directly to the Sun, the total power received by FAST would be out of the safe operational range of the signal chain, even resulting in the damage to the receiver. As a conclusion, the Sun should be kept at least $\\sim 2^{\\circ}$ away from the main beam during the observing at $\\sim 1.25 {\\ \\rm GHz}$. The separation for lower frequency should be larger. For simplicity, the angular separation between the FAST beam and the Sun is suggested to be $\\sim 5^{\\circ}$ for observations on 200 MHz or higher bands. |\n",
       "|<p style=\"color:green\"> **ERROR** </p>| <p style=\"color:green\">affiliation error: mpia.affiliation_verifications: 'Heidelberg' keyword not found.</p> |"
      ],
      "text/plain": [
       "<IPython.core.display.Markdown object>"
      ]
     },
     "metadata": {},
     "output_type": "display_data"
    },
    {
     "data": {
      "text/markdown": [
       "\n",
       "|||\n",
       "|---:|:---|\n",
       "| [![arXiv](https://img.shields.io/badge/arXiv-arXiv:2211.09351-b31b1b.svg)](https://arxiv.org/abs/arXiv:2211.09351) | **Design of The Kinetic Inductance Detector Based Focal Plane Assembly for  The Terahertz Intensity Mapper**  |\n",
       "|| <mark>L.-J. Liu</mark>, et al. |\n",
       "|*Appeared on*| *2022-11-18*|\n",
       "|*Comments*| *8 pages, 6 figures, accepted for publication in Journal of Low Temperature Physics*|\n",
       "|**Abstract**| We report on the kinetic inductance detector (KID) array focal plane assembly design for the Terahertz Intensity Mapper (TIM). Each of the 2 arrays consists of 4 wafer-sized dies (quadrants), and the overall assembly must satisfy thermal and mechanical requirements, while maintaining high optical efficiency and a suitable electromagnetic environment for the KIDs. In particular, our design manages to strictly maintain a 50 $\\mathrm{\\mu m}$ air gap between the array and the horn block. We have prototyped and are now testing a sub-scale assembly which houses a single quadrant for characterization before integration into the full array. The initial test result shows a $>$95\\% yield, indicating a good performance of our TIM detector packaging design. |\n",
       "|<p style=\"color:green\"> **ERROR** </p>| <p style=\"color:green\">affiliation error: mpia.affiliation_verifications: 'Heidelberg' keyword not found.</p> |"
      ],
      "text/plain": [
       "<IPython.core.display.Markdown object>"
      ]
     },
     "metadata": {},
     "output_type": "display_data"
    },
    {
     "data": {
      "text/markdown": [
       "\n",
       "|||\n",
       "|---:|:---|\n",
       "| [![arXiv](https://img.shields.io/badge/arXiv-arXiv:2211.09450-b31b1b.svg)](https://arxiv.org/abs/arXiv:2211.09450) | **Bayesian implications for the primordial black holes from NANOGrav's  pulsar-timing data by using the scalar induced gravitational waves**  |\n",
       "|| <mark>Zhi-Chao Zhao</mark>, Sai Wang |\n",
       "|*Appeared on*| *2022-11-18*|\n",
       "|*Comments*| *16 pages, 5 figures, 1 table*|\n",
       "|**Abstract**| Assuming the common-spectrum process in the NANOGrav 12.5-year dataset has an origin of scalar induced gravitational waves, we study the enhancement of primordial curvature perturbations and the mass function of primordial black holes, by performing the Bayesian parameter inference for the first time. We obtain lower limits on the spectral amplitude, i.e. $\\mathcal{A}\\gtrsim10^{-2}$ at 95\\% confidence level, when assuming the power spectrum of primordial curvature perturbations to follow a log-normal distribution function with width $\\sigma$. In the limit of $\\sigma\\rightarrow0$, we find that the primordial black holes with $10^{-3}-10^{-2}$ solar mass are allowed to compose at least a fraction of dark matter. Such a mass range would be shifted to more massive regimes for larger values of $\\sigma$, e.g. to a regime of $10^{-2}-10^{-1}$ solar mass for $\\sigma=1$. We expect that planned gravitational-wave experiments are capable to reach at least $\\mathcal{A}\\sim10^{-4}$ and search for the primordial black holes over the whole parameter space. In addition, importance of multi-band detector networks is emphasized to accomplish our theoretical expectation. |\n",
       "|<p style=\"color:green\"> **ERROR** </p>| <p style=\"color:green\">affiliation error: mpia.affiliation_verifications: 'Heidelberg' keyword not found.</p> |"
      ],
      "text/plain": [
       "<IPython.core.display.Markdown object>"
      ]
     },
     "metadata": {},
     "output_type": "display_data"
    },
    {
     "data": {
      "text/markdown": [
       "\n",
       "|||\n",
       "|---:|:---|\n",
       "| [![arXiv](https://img.shields.io/badge/arXiv-arXiv:2211.09543-b31b1b.svg)](https://arxiv.org/abs/arXiv:2211.09543) | **The hard to soft transition of GX 339-4 as seen by Insight-HXMT**  |\n",
       "|| <mark>Honghui Liu</mark>, et al. -- incl., <mark>Lingda Kong</mark>, <mark>Shu Zhang</mark>, <mark>Shuangnan Zhang</mark> |\n",
       "|*Appeared on*| *2022-11-18*|\n",
       "|*Comments*| *10 pages, 5 figures*|\n",
       "|**Abstract**| We present an analysis of the relativistic reflection spectra of GX 339-4 during the hard-to-soft transition of its 2021 outburst observed by Insight-HXMT. The strong relativistic reflection signatures in the data suggest a high black hole spin ($a_*>0.86$) and an intermediate disk inclination angle (35-43 deg) of the system. The transition is accompanied by an increasing temperature of the disk and a softening of the corona emission while the inner disk radius remains stable. Assuming a lamppost geometry, the corona height is also found to stay close to the black hole across the state transition. If we include the Comptonization of the reflection spectrum, the scattering fraction parameter is found to decrease during the state transition. We also perform an analysis with a reflection model designed for hot accretion disks of stellar mass black holes where the surface of the innermost accretion disk is illuminated by emission from the corona and the thermal disk below. Our results support the scenario in which the state transition is associated with variations in the corona properties. |\n",
       "|<p style=\"color:green\"> **ERROR** </p>| <p style=\"color:green\">affiliation error: mpia.affiliation_verifications: 'Heidelberg' keyword not found.</p> |"
      ],
      "text/plain": [
       "<IPython.core.display.Markdown object>"
      ]
     },
     "metadata": {},
     "output_type": "display_data"
    },
    {
     "data": {
      "text/markdown": [
       "\n",
       "|||\n",
       "|---:|:---|\n",
       "| [![arXiv](https://img.shields.io/badge/arXiv-arXiv:2211.09548-b31b1b.svg)](https://arxiv.org/abs/arXiv:2211.09548) | **Asgard/NOTT: L-band nulling interferometry at the VLTI I. Simulating the  expected high-contrast performance**  |\n",
       "|| Romain Laugier, et al. -- incl., <mark>Simon Gross</mark> |\n",
       "|*Appeared on*| *2022-11-18*|\n",
       "|*Comments*| **|\n",
       "|**Abstract**| Context: NOTT (formerly Hi-5) is a new high-contrast L' band (3.5-4.0 \\textmu m) beam combiner for the VLTI with the ambitious goal to be sensitive to young giant exoplanets down to 5 mas separation around nearby stars. The performance of nulling interferometers in these wavelengths is affected both by fundamental noise from the background and by the contributions of instrumental noises. This motivates the development of end-to-end simulations to optimize these instruments. Aims: To enable the performance evaluation and inform the design of such instruments on the current and future infrastructures, taking into account the different sources of noise, and their correlation. Methods: SCIFYsim is an end-to-end simulator for single mode filtered beam combiners, with an emphasis on nulling interferometers. It is used to compute a covariance matrix of the errors. Statistical detection tests based on likelihood ratios are then used to compute compound detection limits for the instrument. Results: With the current assumptions on the performance of the wavefront correction systems, the errors are dominated by correlated instrumental errors down to stars of magnitude 6-7 in the L band, beyond which thermal background from the telescopes and relay system becomes dominant. Conclusions: SCIFYsim is suited to anticipate some of the challenges of design, tuning, operation and signal processing for integrated optics beam combiners. The detection limits found for this early version of NOTT simulation with the unit telescopes are compatible with detections at contrasts up to $10^5$ in the L band at separations of 5 to 80 mas around bright stars. |\n",
       "|<p style=\"color:green\"> **ERROR** </p>| <p style=\"color:green\">affiliation error: mpia.affiliation_verifications: 'Heidelberg' keyword not found.</p> |"
      ],
      "text/plain": [
       "<IPython.core.display.Markdown object>"
      ]
     },
     "metadata": {},
     "output_type": "display_data"
    },
    {
     "data": {
      "text/markdown": [
       "\n",
       "|||\n",
       "|---:|:---|\n",
       "| [![arXiv](https://img.shields.io/badge/arXiv-arXiv:2211.09583-b31b1b.svg)](https://arxiv.org/abs/arXiv:2211.09583) | **Linking the Internal Properties of Infant Globular Clusters to their  Formation Environments**  |\n",
       "|| Frederika Phipps, Sadegh Khochfar, <mark>Anna Lisa Varri</mark>, Claudio Dalla Vecchia |\n",
       "|*Appeared on*| *2022-11-18*|\n",
       "|*Comments*| *17 pages, 12 Figures, Accepted by MNRAS*|\n",
       "|**Abstract**| We investigate the formation of infant globular cluster (GC) candidates in high-resolution cosmological simulations from the First Billion Years (FiBY) project. By analysing the evolution of the systems in the energy and angular momentum plane, we identify the redshift at which the infant GCs first became gravitationally bound, and we find evidence of radial infall of their gaseous and stellar components. The collapse appears to be driven by internal self-gravity, however, the initial trigger is sourced from the external environment. The phase space behaviour of the infant GCs also allows us to identify some characteristic groupings of objects. Such a classification based on internal properties appears to be reflected in the formation environment: GC candidates that belong to the same class are found in host galaxies of similar morphology, with the majority of the infant GCs located in clumpy, irregular proto-galaxies. Finally, through the inspection of two GC candidates that contain only stars by z = 6, we find that supernova feedback is the main physical mechanism behind their dearth of gas and that the systems subsequently respond with an approximately adiabatic expansion. Such infant GC candidates already resemble the GCs we currently observe in the local Universe. |\n",
       "|<p style=\"color:green\"> **ERROR** </p>| <p style=\"color:green\">affiliation error: mpia.affiliation_verifications: 'Heidelberg' keyword not found.</p> |"
      ],
      "text/plain": [
       "<IPython.core.display.Markdown object>"
      ]
     },
     "metadata": {},
     "output_type": "display_data"
    },
    {
     "data": {
      "text/markdown": [
       "\n",
       "|||\n",
       "|---:|:---|\n",
       "| [![arXiv](https://img.shields.io/badge/arXiv-arXiv:2211.09617-b31b1b.svg)](https://arxiv.org/abs/arXiv:2211.09617) | **Detecting deviations from Gaussianity in high-redshift CMB lensing maps**  |\n",
       "|| <mark>Zhuoqi Zhang</mark>, Yuuki Omori, Chihway Chang |\n",
       "|*Appeared on*| *2022-11-18*|\n",
       "|*Comments*| *9 pages, 9 figures. Comments welcome*|\n",
       "|**Abstract**| While the probability density function (PDF) of the cosmic microwave background (CMB) convergence field approximately follows a Gaussian distribution, small contributions from structures at low redshifts make the overall distribution slightly non-Gaussian. Some of this late-time component can be modelled using the distribution of galaxies and subtracted off from the original CMB lensing map to produce a map of matter distribution at high redshifts. Using this high-redshift mass map, we are able to directly study the early phases of structure formation and look for deviations from our standard model. In this work, we forecast the detectability of signatures of non-Gaussianity due to nonlinear structure formation at $z>1.2$. Although we find that detecting such signatures using ongoing surveys will be challenging, we forecast that future experiments such as the CMB-S4 will be able to make detections of $\\sim$ 7$\\sigma$. |\n",
       "|<p style=\"color:green\"> **ERROR** </p>| <p style=\"color:green\">affiliation error: mpia.affiliation_verifications: 'Heidelberg' keyword not found.</p> |"
      ],
      "text/plain": [
       "<IPython.core.display.Markdown object>"
      ]
     },
     "metadata": {},
     "output_type": "display_data"
    },
    {
     "data": {
      "text/markdown": [
       "\n",
       "|||\n",
       "|---:|:---|\n",
       "| [![arXiv](https://img.shields.io/badge/arXiv-arXiv:2211.09628-b31b1b.svg)](https://arxiv.org/abs/arXiv:2211.09628) | **A Detailed Look at the Most Obscured Galactic Nuclei in the Mid-Infrared**  |\n",
       "|| F. R. Donnan, et al. -- incl., <mark>A. Alonso-Herrero</mark>, <mark>A. Hernán-Caballero</mark> |\n",
       "|*Appeared on*| *2022-11-18*|\n",
       "|*Comments*| *Accepted for publication in A&A. 23 pages, 15 figures, 3 tables*|\n",
       "|**Abstract**| Context. Compact Obscured Nuclei (CONs) are an extreme phase of galaxy evolution where rapid supermassive black hole growth and$/$or compact star-forming activity is completely obscured by gas and dust. Aims. We investigate the properties of CONs in the mid-infrared and explore techniques aimed at identifying these objects such as through the equivalent width (EW) ratios of their Polycyclic Aromatic Hydrocarbon (PAH) features. Methods. We model Spitzer spectra by decomposing the continua into nuclear and star-forming components from which we then measure the nuclear optical depth, $\\tau_N$, of the $9.8 \\mu$m silicate absorption feature. We also use Spitzer spectral maps to investigate how PAH EW ratios vary with aperture size for objects hosting CONs. Results. We find that the nuclear optical depth, $\\tau_N$, strongly correlates with the HCN-vib emission line in the millimetre for CONs with a Pearson correlation coefficient of 0.91. We find the PAH EW ratios technique to be effective at selecting CONs and robust against highly inclined galaxies where strong dust lanes may mimic a CON like spectrum by producing a high $\\tau_N$. Our analysis of the Spitzer spectral maps showed that the efficacy of the PAH EW ratios to isolate CONs is reduced when there is a strong star-forming component from the host galaxy. In addition, we find that the use of the inferred nuclear optical depth is a reliable method to identify CONs in $36^{+8}_{-7}\\%$ of ULIRGs and $17^{+3}_{-3}\\%$ of LIRGs, consistent with previous work. Conclusions. We confirm mid-IR spectra to be a powerful diagnostic of CONs where the increased sensitivity of JWST will allow identification of CONs at cosmic noon revealing this extreme but hidden phase of galaxy evolution. |\n",
       "|<p style=\"color:green\"> **ERROR** </p>| <p style=\"color:green\">affiliation error: mpia.affiliation_verifications: 'Heidelberg' keyword not found.</p> |"
      ],
      "text/plain": [
       "<IPython.core.display.Markdown object>"
      ]
     },
     "metadata": {},
     "output_type": "display_data"
    },
    {
     "data": {
      "text/markdown": [
       "\n",
       "|||\n",
       "|---:|:---|\n",
       "| [![arXiv](https://img.shields.io/badge/arXiv-arXiv:2211.09635-b31b1b.svg)](https://arxiv.org/abs/arXiv:2211.09635) | **The role of the magnetic fields in GRB outflows**  |\n",
       "|| N. Jordana-Mitjans, et al. -- incl., <mark>R. J. Smith</mark>, <mark>V. Lipunov</mark> |\n",
       "|*Appeared on*| *2022-11-18*|\n",
       "|*Comments*| *To appear in the Proceedings of the 16th Marcel Grossmann Meeting (July 5-10, 2021)*|\n",
       "|**Abstract**| Gamma-ray bursts (GRBs) are bright extragalactic flashes of gamma-ray radiation and briefly the most energetic explosions in the Universe. Their catastrophic origin (the merger of compact objects or the collapse of massive stars) drives the formation of a newborn compact remnant (black hole or magnetar) that powers two highly relativistic jets. To distinguish between magnetized and baryonic jet models and ultimately determine the power source for these energetic explosions, our team studies the polarization of the light during the first minutes after the explosion (using novel instruments on fully autonomous telescopes around the globe) to directly probe the magnetic field properties in these extragalactic jets. This technology allowed the detection of highly polarized optical light in GRB 120308A and confirmed the presence of mildly magnetized jets with large-scale primordial magnetic fields in a reduced sample of GRBs (e.g. GRB 090102, GRB 110205A, GRB 101112A, GRB 160625B). Here we discuss the observations of the most energetic and first GRB detected at very high TeV energies, GRB 190114C, which opens a new frontier in GRB magnetic field studies suggesting that some jets can be launched highly magnetized and that the collapse and destruction of these magnetic fields at very early times may have powered the explosion itself. Additionally, our most recent polarimetric observations of the jet of GRB 141220A indicate that, when the jetted ejected material is decelerated by the surrounding environment, the magnetic field amplification mechanisms at the front shock (needed to generate the observed synchrotron emission) produce small magnetic domains. These measurements validate theoretical expectations and contrast with previous observations that suggest large magnetic domains in collisionless shocks (i.e. GRB 091208B). |\n",
       "|<p style=\"color:green\"> **ERROR** </p>| <p style=\"color:green\">affiliation error: mpia.affiliation_verifications: 'Heidelberg' keyword not found.</p> |"
      ],
      "text/plain": [
       "<IPython.core.display.Markdown object>"
      ]
     },
     "metadata": {},
     "output_type": "display_data"
    }
   ],
   "source": [
    "import datetime\n",
    "today = str(datetime.date.today())\n",
    "logfile = f\"_build/html/logs/log-{today}.md\"\n",
    "\n",
    "\n",
    "with open(logfile, 'w') as logs:\n",
    "    # Success\n",
    "    logs.write(f'# Arxiv on Deck 2: Logs - {today}\\n\\n')\n",
    "    logs.write(\"\"\"* Arxiv had {0:,d} new papers\\n\"\"\".format(len(new_papers)))\n",
    "    logs.write(\"\"\"    * {0:,d} with possible author matches\\n\\n\"\"\".format(len(candidates)))\n",
    "    logs.write(\"## Sucessful papers\\n\\n\")\n",
    "    display(Markdown(\"## Successful papers\"))\n",
    "    success = [k[0] for k in documents]\n",
    "    for candid in candidates:\n",
    "        if candid['identifier'].split(':')[-1] in success:\n",
    "            display(candid)\n",
    "            logs.write(candid.generate_markdown_text() + '\\n\\n')\n",
    "\n",
    "    ## failed\n",
    "    logs.write(\"## Failed papers\\n\\n\")\n",
    "    display(Markdown(\"## Failed papers\"))\n",
    "    failed = sorted(failed, key=lambda x: x[1])\n",
    "    current_reason = \"\"\n",
    "    for paper, reason in failed:\n",
    "        if 'affiliation' in reason:\n",
    "            color = 'green'\n",
    "        else:\n",
    "            color = 'red'\n",
    "        data = Markdown(\n",
    "                paper.generate_markdown_text() + \n",
    "                f'\\n|<p style=\"color:{color:s}\"> **ERROR** </p>| <p style=\"color:{color:s}\">{reason:s}</p> |'\n",
    "               )\n",
    "        if reason != current_reason:\n",
    "            logs.write(f'### {reason:s} \\n\\n')\n",
    "            current_reason = reason\n",
    "        logs.write(data.data + '\\n\\n')\n",
    "        \n",
    "        # only display here the important errors (all in logs)\n",
    "        # if color in ('red',):\n",
    "        display(data)"
   ]
  },
  {
   "cell_type": "markdown",
   "id": "472d20ee",
   "metadata": {
    "papermill": {
     "duration": 0.008368,
     "end_time": "2022-11-18T04:11:10.208447",
     "exception": false,
     "start_time": "2022-11-18T04:11:10.200079",
     "status": "completed"
    },
    "tags": []
   },
   "source": [
    "## Export documents\n",
    "\n",
    "We now write the .md files and export relevant images"
   ]
  },
  {
   "cell_type": "code",
   "execution_count": 7,
   "id": "d426aed9",
   "metadata": {
    "execution": {
     "iopub.execute_input": "2022-11-18T04:11:10.226739Z",
     "iopub.status.busy": "2022-11-18T04:11:10.226217Z",
     "iopub.status.idle": "2022-11-18T04:11:10.234474Z",
     "shell.execute_reply": "2022-11-18T04:11:10.233797Z"
    },
    "papermill": {
     "duration": 0.019189,
     "end_time": "2022-11-18T04:11:10.235957",
     "exception": false,
     "start_time": "2022-11-18T04:11:10.216768",
     "status": "completed"
    },
    "tags": []
   },
   "outputs": [],
   "source": [
    "def export_markdown_summary(md: str, md_fname:str, directory: str):\n",
    "    \"\"\"Export MD document and associated relevant images\"\"\"\n",
    "    import os\n",
    "    import shutil\n",
    "    import re\n",
    "\n",
    "    if (os.path.exists(directory) and not os.path.isdir(directory)):\n",
    "        raise RuntimeError(f\"a non-directory file exists with name {directory:s}\")\n",
    "\n",
    "    if (not os.path.exists(directory)):\n",
    "        print(f\"creating directory {directory:s}\")\n",
    "        os.mkdir(directory)\n",
    "\n",
    "    fig_fnames = (re.compile(r'\\[Fig.*\\]\\((.*)\\)').findall(md) + \n",
    "                  re.compile(r'\\<img src=\"([^>\\s]*)\"[^>]*/>').findall(md))\n",
    "    for fname in fig_fnames:\n",
    "        if 'http' in fname:\n",
    "            # No need to copy online figures\n",
    "            continue\n",
    "        destdir = os.path.join(directory, os.path.dirname(fname))\n",
    "        destfname = os.path.join(destdir, os.path.basename(fname))\n",
    "        try:\n",
    "            os.makedirs(destdir)\n",
    "        except FileExistsError:\n",
    "            pass\n",
    "        shutil.copy(fname, destfname)\n",
    "    with open(os.path.join(directory, md_fname), 'w') as fout:\n",
    "        fout.write(md)\n",
    "    print(\"exported in \", os.path.join(directory, md_fname))\n",
    "    [print(\"    + \" + os.path.join(directory,fk)) for fk in fig_fnames]"
   ]
  },
  {
   "cell_type": "code",
   "execution_count": 8,
   "id": "014d04a4",
   "metadata": {
    "execution": {
     "iopub.execute_input": "2022-11-18T04:11:10.254402Z",
     "iopub.status.busy": "2022-11-18T04:11:10.254159Z",
     "iopub.status.idle": "2022-11-18T04:11:10.264702Z",
     "shell.execute_reply": "2022-11-18T04:11:10.263986Z"
    },
    "papermill": {
     "duration": 0.021743,
     "end_time": "2022-11-18T04:11:10.266226",
     "exception": false,
     "start_time": "2022-11-18T04:11:10.244483",
     "status": "completed"
    },
    "tags": []
   },
   "outputs": [
    {
     "name": "stdout",
     "output_type": "stream",
     "text": [
      "exported in  _build/html/2211.09217.md\n",
      "    + _build/html/tmp_2211.09217/././fig06.png\n",
      "    + _build/html/tmp_2211.09217/././fig01.png\n",
      "    + _build/html/tmp_2211.09217/././fig02.png\n"
     ]
    }
   ],
   "source": [
    "for paper_id, md in documents:\n",
    "    export_markdown_summary(md, f\"{paper_id:s}.md\", '_build/html/')"
   ]
  },
  {
   "cell_type": "markdown",
   "id": "f087a0a7",
   "metadata": {
    "papermill": {
     "duration": 0.008459,
     "end_time": "2022-11-18T04:11:10.283199",
     "exception": false,
     "start_time": "2022-11-18T04:11:10.274740",
     "status": "completed"
    },
    "tags": []
   },
   "source": [
    "## Display the papers\n",
    "\n",
    "Not necessary but allows for a quick check."
   ]
  },
  {
   "cell_type": "code",
   "execution_count": 9,
   "id": "fd25f625",
   "metadata": {
    "execution": {
     "iopub.execute_input": "2022-11-18T04:11:10.302238Z",
     "iopub.status.busy": "2022-11-18T04:11:10.301797Z",
     "iopub.status.idle": "2022-11-18T04:11:10.307296Z",
     "shell.execute_reply": "2022-11-18T04:11:10.306614Z"
    },
    "papermill": {
     "duration": 0.016615,
     "end_time": "2022-11-18T04:11:10.308784",
     "exception": false,
     "start_time": "2022-11-18T04:11:10.292169",
     "status": "completed"
    },
    "scrolled": false,
    "tags": []
   },
   "outputs": [
    {
     "data": {
      "text/markdown": [
       "<div class=\"macros\" style=\"visibility:hidden;\">\n",
       "$\\newcommand{\\ensuremath}{}$\n",
       "$\\newcommand{\\xspace}{}$\n",
       "$\\newcommand{\\object}[1]{\\texttt{#1}}$\n",
       "$\\newcommand{\\farcs}{{.}''}$\n",
       "$\\newcommand{\\farcm}{{.}'}$\n",
       "$\\newcommand{\\arcsec}{''}$\n",
       "$\\newcommand{\\arcmin}{'}$\n",
       "$\\newcommand{\\ion}[2]{#1#2}$\n",
       "$\\newcommand{\\textsc}[1]{\\textrm{#1}}$\n",
       "$\\newcommand{\\hl}[1]{\\textrm{#1}}$\n",
       "$\\newcommand{\\vdag}{(v)^\\dagger}$\n",
       "$\\newcommand$\n",
       "$\\newcommand$\n",
       "$\\newcommand$\n",
       "$\\newcommand$\n",
       "$\\newcommand$\n",
       "$\\newcommand$\n",
       "$\\newcommand$\n",
       "$\\newcommand$\n",
       "$\\newcommand$</div>\n",
       "\n",
       "<div class=\"macros\" style=\"visibility:hidden;\">\n",
       "$\\newcommand{$\\ensuremath$}{}$\n",
       "$\\newcommand{$\\xspace$}{}$\n",
       "$\\newcommand{$\\object$}[1]{\\texttt{#1}}$\n",
       "$\\newcommand{$\\farcs$}{{.}''}$\n",
       "$\\newcommand{$\\farcm$}{{.}'}$\n",
       "$\\newcommand{$\\arcsec$}{''}$\n",
       "$\\newcommand{$\\arcmin$}{'}$\n",
       "$\\newcommand{$\\ion$}[2]{#1#2}$\n",
       "$\\newcommand{$\\textsc$}[1]{\\textrm{#1}}$\n",
       "$\\newcommand{$\\hl$}[1]{\\textrm{#1}}$\n",
       "$\\newcommand{$\\vdag$}{(v)^\\dagger}$\n",
       "$\\newcommand$\n",
       "$\\newcommand$\n",
       "$\\newcommand$\n",
       "$\\newcommand$\n",
       "$\\newcommand$\n",
       "$\\newcommand$\n",
       "$\\newcommand$\n",
       "$\\newcommand$\n",
       "$\\newcommand$</div>\n",
       "\n",
       "\n",
       "\n",
       "<div id=\"title\">\n",
       "\n",
       "# Based on SDSS Data Releases 16 and 17\n",
       "\n",
       "</div>\n",
       "<div id=\"comments\">\n",
       "\n",
       "[![arXiv](https://img.shields.io/badge/arXiv-2211.09217-b31b1b.svg)](https://arxiv.org/abs/2211.09217)<mark>Appeared on: 2022-11-18</mark> - _6 figures, 4 tables_\n",
       "\n",
       "</div>\n",
       "<div id=\"authors\">\n",
       "\n",
       "Carlos G. Rom\\'an-Z\\'u\\~niga, et al. -- incl., <mark>Jes\\'us Hern\\'andez</mark>, <mark>D. A. Garc\\'ia-Hern\\'andez</mark>\n",
       "\n",
       "</div>\n",
       "<div id=\"abstract\">\n",
       "\n",
       "**Abstract:** The Sloan Digital Sky Survey IV (SDSS-IV) APOGEE-2 primary science goal was to observe red giant stars throughout the Galaxy to study its dynamics, morphology, and chemical evolution. The APOGEE instrument, a high- resolution 300 fiber H-band (1.55-1.71 micron) spectrograph, is also ideal to study other stellar populations in the Galaxy, among which are a number of star forming regions and young open clusters. We present the results of the determination of six stellar properties (\\teff,\\logg,[Fe/H],$\\mathrm{L/L_\\odot, M/M_\\odot, and  age}$) for a sample that is composed of 3360  young stars, of sub-solar to super-solar types, in sixteen Galactic star formation and young open cluster regions. Those sources were selected by using a clustering method that removes most of the field contamination. Samples were also refined by removing targets affected by various systematic effects of the parameter determination. The final samples are presented in a comprehensive catalog that includes all six estimated parameters. This overview study also includes parameter spatial distribution maps for all regions and Hertzprung-Russell ($\\mathrm{\\log{L/L_\\odot}}$versus\\teff) diagrams. This study serves as a guide for detailed studies on individual regions, and paves the way for the future studies on the global properties of stars in the pre-main sequence phase of stellar evolution using more robust samples.\n",
       "\n",
       "</div>\n",
       "\n",
       "<div id=\"div_fig1\">\n",
       "\n",
       "<img src=\"tmp_2211.09217/././fig06.png\" alt=\"Fig1\" width=\"100%\"/>\n",
       "\n",
       "**Figure 1. -** Effective temperature vs. Gaia EDR3 colors for the APOGEE Pleiades sample. The symbol colors represent age estimates from \\texttt{MassAge}. The solid line is the empirical sequence from \\citet{Esplin18}. \\label{fig:pleidisc} (*fig:pleidisc*)\n",
       "\n",
       "</div>\n",
       "<div id=\"div_fig2\">\n",
       "\n",
       "<img src=\"tmp_2211.09217/././fig01.png\" alt=\"Fig2\" width=\"100%\"/>\n",
       "\n",
       "**Figure 2. -** A map, in Galactic coordinates, showing the locations of all the fields listed in Table \\ref{tab:yso_sample}, along with labels identifying the eighteen main regions reported in this study. Each circular field is projected with a realistic radius of 1.5 or 1.0 deg for regions observed with the North or South APOGEE instruments, respectively. The colors of the fields refer to the field-subprograms described in Section \\ref{sec:observations}. \\label{fig:bigmap} (*fig:bigmap*)\n",
       "\n",
       "</div>\n",
       "<div id=\"div_fig3\">\n",
       "\n",
       "<img src=\"tmp_2211.09217/././fig02.png\" alt=\"Fig3\" width=\"100%\"/>\n",
       "\n",
       "**Figure 3. -** APOGEE-2 Cygnus-X Complex Fields are shown, delimited with circles; red circles indicate the main region fields, and the dotted blue circles indicate \"auxiliary\" fields (see Appendix \\ref{App:sub-programs}) also searched for candidate members. Color dot symbols indicate the positions of all scientific targets.\n",
       "The grayscale image in the background shows a 12 $\\mu$m dust emission map from the\n",
       "WISE WSSA Atlas \\citep{WSSA14}. The colorbar indicates values of the signal-to-noise ratio after visit combination. The component figures (51) for all the regions studied in this paper, are available online in the Figure Set \\ref{FS1}, which also include maps highlighting H mag brightness and Number of Visits.\n",
       "\\label{fig:posmap} (*fig:posmap*)\n",
       "\n",
       "</div>"
      ],
      "text/plain": [
       "<IPython.core.display.Markdown object>"
      ]
     },
     "metadata": {},
     "output_type": "display_data"
    }
   ],
   "source": [
    "[display(Markdown(k[1])) for k in documents];"
   ]
  },
  {
   "cell_type": "markdown",
   "id": "873873a4",
   "metadata": {
    "papermill": {
     "duration": 0.008666,
     "end_time": "2022-11-18T04:11:10.326138",
     "exception": false,
     "start_time": "2022-11-18T04:11:10.317472",
     "status": "completed"
    },
    "tags": []
   },
   "source": [
    "# Create HTML index"
   ]
  },
  {
   "cell_type": "code",
   "execution_count": 10,
   "id": "cf665672",
   "metadata": {
    "execution": {
     "iopub.execute_input": "2022-11-18T04:11:10.344976Z",
     "iopub.status.busy": "2022-11-18T04:11:10.344467Z",
     "iopub.status.idle": "2022-11-18T04:11:10.354789Z",
     "shell.execute_reply": "2022-11-18T04:11:10.354103Z"
    },
    "papermill": {
     "duration": 0.021467,
     "end_time": "2022-11-18T04:11:10.356304",
     "exception": false,
     "start_time": "2022-11-18T04:11:10.334837",
     "status": "completed"
    },
    "tags": []
   },
   "outputs": [
    {
     "name": "stdout",
     "output_type": "stream",
     "text": [
      "94  publications in the last 7 days.\n",
      "\t _build/html/2211.09217.md\n",
      "\t _build/html/2211.08493.md\n",
      "\t _build/html/2211.08487.md\n",
      "\t _build/html/2211.08294.md\n",
      "\t _build/html/2211.07667.md\n",
      "\t _build/html/2211.07659.md\n",
      "\t _build/html/2211.06454.md\n",
      "\t _build/html/2211.06205.md\n",
      "\t _build/html/2211.06194.md\n",
      "\t _build/html/2211.05022.md\n",
      "\t _build/html/2211.04048.md\n",
      "\t _build/html/2211.03641.md\n",
      "\t _build/html/2211.02502.md\n",
      "\t _build/html/2211.01474.md\n",
      "\t _build/html/2211.00667.md\n",
      "\t _build/html/2211.00657.md\n",
      "\t _build/html/2211.00087.md\n",
      "\t _build/html/2211.00036.md\n",
      "\t _build/html/2211.00020.md\n",
      "\t _build/html/2211.00010.md\n",
      "\t _build/html/2210.17434.md\n",
      "\t _build/html/2210.12412.md\n",
      "\t _build/html/2210.11926.md\n",
      "\t _build/html/2210.11551.md\n",
      "\t _build/html/2210.11103.md\n",
      "\t _build/html/2210.10707.md\n",
      "\t _build/html/2210.09930.md\n",
      "\t _build/html/2210.08996.md\n",
      "\t _build/html/2210.08517.md\n",
      "\t _build/html/2210.08510.md\n",
      "\t _build/html/2210.08078.md\n",
      "\t _build/html/2210.06504.md\n",
      "\t _build/html/2210.05695.md\n",
      "\t _build/html/2210.05595.md\n",
      "\t _build/html/2210.05505.md\n",
      "\t _build/html/2210.04721.md\n",
      "\t _build/html/2210.03615.md\n",
      "\t _build/html/2210.01811.md\n",
      "\t _build/html/2210.01809.md\n",
      "\t _build/html/2210.01556.md\n",
      "\t _build/html/2210.00863.md\n",
      "\t _build/html/2210.00560.md\n",
      "\t _build/html/2209.15403.md\n",
      "\t _build/html/2209.15110.md\n",
      "\t _build/html/2209.14410.md\n",
      "\t _build/html/2209.14396.md\n",
      "\t _build/html/2209.13717.md\n",
      "\t _build/html/2209.13336.md\n",
      "\t _build/html/2209.12906.md\n",
      "\t _build/html/2209.11781.md\n",
      "\t _build/html/2209.11602.md\n",
      "\t _build/html/2209.11248.md\n",
      "\t _build/html/2209.11096.md\n",
      "\t _build/html/2209.10618.md\n",
      "\t _build/html/2209.09914.md\n",
      "\t _build/html/2209.09823.md\n",
      "\t _build/html/2209.08242.md\n",
      "\t _build/html/2209.08120.md\n",
      "\t _build/html/2209.08106.md\n",
      "\t _build/html/2209.07962.md\n",
      "\t _build/html/2209.07931.md\n",
      "\t _build/html/2209.06833.md\n",
      "\t _build/html/2209.05814.md\n",
      "\t _build/html/2209.05593.md\n",
      "\t _build/html/2209.04304.md\n",
      "\t _build/html/2209.03367.md\n",
      "\t _build/html/2209.02872.md\n",
      "\t _build/html/2209.02725.md\n",
      "\t _build/html/2209.02722.md\n",
      "\t _build/html/2209.02092.md\n",
      "\t _build/html/2209.01125.md\n",
      "\t _build/html/2209.00828.md\n",
      "\t _build/html/2209.00363.md\n",
      "\t _build/html/2208.14927.md\n",
      "\t _build/html/2208.09335.md\n",
      "\t _build/html/2208.08872.md\n",
      "\t _build/html/2204.06393.md\n",
      "\t _build/html/2204.03335.md\n",
      "\t _build/html/2204.03253.md\n",
      "\t _build/html/2204.02998.md\n",
      "\t _build/html/2204.02109.md\n",
      "\t _build/html/2204.02017.md\n",
      "\t _build/html/2204.01824.md\n",
      "\t _build/html/2204.01758.md\n",
      "\t _build/html/2204.01245.md\n",
      "\t _build/html/2204.00793.md\n",
      "\t _build/html/2204.00342.md\n",
      "\t _build/html/2203.16959.md\n",
      "\t _build/html/2203.16856.md\n",
      "\t _build/html/2203.16735.md\n",
      "\t _build/html/2203.16734.md\n",
      "\t _build/html/2203.16504.md\n",
      "\t _build/html/2203.15822.md\n",
      "\t _build/html/2203.15811.md\n"
     ]
    }
   ],
   "source": [
    "from datetime import datetime, timedelta, timezone\n",
    "from glob import glob\n",
    "\n",
    "files = glob('_build/html/*.md')\n",
    "days = 7\n",
    "now = datetime.today()\n",
    "res = []\n",
    "for fk in files:\n",
    "    stat_result = os.stat(fk).st_ctime\n",
    "    modified = datetime.fromtimestamp(stat_result, tz=timezone.utc).replace(tzinfo=None)\n",
    "    delta = now.today() - modified\n",
    "    if delta <= timedelta(days=days):\n",
    "        res.append((delta.seconds, fk))\n",
    "res = [k[1] for k in reversed(sorted(res, key=lambda x:x[1]))]\n",
    "npub = len(res)\n",
    "print(len(res), f\" publications in the last {days:d} days.\")\n",
    "[ print('\\t', k) for k in res ];"
   ]
  },
  {
   "cell_type": "code",
   "execution_count": 11,
   "id": "52ca0208",
   "metadata": {
    "execution": {
     "iopub.execute_input": "2022-11-18T04:11:10.381813Z",
     "iopub.status.busy": "2022-11-18T04:11:10.381582Z",
     "iopub.status.idle": "2022-11-18T04:11:10.389644Z",
     "shell.execute_reply": "2022-11-18T04:11:10.387904Z"
    },
    "papermill": {
     "duration": 0.026067,
     "end_time": "2022-11-18T04:11:10.391337",
     "exception": false,
     "start_time": "2022-11-18T04:11:10.365270",
     "status": "completed"
    },
    "scrolled": false,
    "tags": []
   },
   "outputs": [],
   "source": [
    "def create_carousel(npub=4):\n",
    "    \"\"\" Generate the HTML code for a carousel with `npub` slides \"\"\"\n",
    "    carousel = [\"\"\"<section class=\"carousel\" aria-label=\"Gallery\">\"\"\",\n",
    "                \"\"\"  <ol class=\"carousel__viewport\">\"\"\",\n",
    "    ]\n",
    "    for k in range(1, npub + 1):\n",
    "        prev_ = k - 1\n",
    "        next_ = k + 1\n",
    "        if prev_ <= 0:\n",
    "            prev_ = npub\n",
    "        if next_ > npub:\n",
    "            next_ = 1\n",
    "        text  = f\"\"\"    <li id=\"carousel__slide{k}\" tabindex=\"0\" class=\"carousel__slide\">\\n\"\"\"\n",
    "        text += f\"\"\"       <div class=\"carousel__snapper\">\\n\"\"\"\n",
    "        text += f\"\"\"         <a href=\"#carousel__slide{prev_}\" class=\"carousel__prev\">Go to previous slide</a>\\n\"\"\"\n",
    "        text += f\"\"\"         <a href=\"#carousel__slide{next_}\" class=\"carousel__next\">Go to next slide</a>\\n\"\"\"\n",
    "        text += f\"\"\"         <div id=\"slide{k}_content\" class=\"md_view\" >Content {k}</div>\\n\"\"\"\n",
    "        text += f\"\"\"       </div>\\n\"\"\"\n",
    "        text += f\"\"\"    </li>\"\"\"\n",
    "        carousel.append(text)\n",
    "\n",
    "    carousel.extend([\n",
    "        \"\"\"  </ol>\"\"\",\n",
    "        \"\"\"  <aside class=\"carousel__navigation\">\"\"\",\n",
    "        \"\"\"    <ol class=\"carousel__navigation-list\">\"\"\"])\n",
    "\n",
    "    for k in range(1, npub + 1):\n",
    "        text  = f\"\"\"      <li class=\"carousel__navigation-item\">\\n\"\"\"\n",
    "        text += f\"\"\"        <a href=\"#carousel__slide{k}\" class=\"carousel__navigation-button\">Go to {k}</a>\\n\"\"\"\n",
    "        text += f\"\"\"      </li>\"\"\"\n",
    "        carousel.append(text)\n",
    "    carousel.extend([\"\"\"    </ol>\"\"\", \"\"\"  </aside>\"\"\", \"\"\"</section>\"\"\"])\n",
    "\n",
    "    return '\\n'.join(carousel)"
   ]
  },
  {
   "cell_type": "code",
   "execution_count": 12,
   "id": "a6eac5b6",
   "metadata": {
    "execution": {
     "iopub.execute_input": "2022-11-18T04:11:10.410601Z",
     "iopub.status.busy": "2022-11-18T04:11:10.410356Z",
     "iopub.status.idle": "2022-11-18T04:11:10.416892Z",
     "shell.execute_reply": "2022-11-18T04:11:10.416233Z"
    },
    "papermill": {
     "duration": 0.018143,
     "end_time": "2022-11-18T04:11:10.418438",
     "exception": false,
     "start_time": "2022-11-18T04:11:10.400295",
     "status": "completed"
    },
    "scrolled": false,
    "tags": []
   },
   "outputs": [],
   "source": [
    "carousel = create_carousel(npub)\n",
    "docs = ', '.join(['\"{0:s}\"'.format(k.split('/')[-1]) for k in res])\n",
    "slides = ', '.join([f'\"slide{k}_content\"' for k in range(1, npub + 1)])\n",
    "\n",
    "script = f\"\"\"\n",
    "const docs = [{docs}]\n",
    "\n",
    "const slides = [{slides}]\n",
    "\"\"\" + \"\"\"\n",
    "async function run() {\n",
    "    for (let i = 0; i < docs.length; i++) {\n",
    "        let file = await fetch(docs[i]);\n",
    "        let text = await file.text()\n",
    "        document.getElementById(slides[i]).innerHTML =\n",
    "            marked.parse(text);\n",
    "    }\n",
    "    hljs.highlightAll();\n",
    "}\n",
    "run()\n",
    "\"\"\"\n",
    "\n",
    "page = f\"\"\"<!doctype html>\n",
    "<html lang=\"en\">\n",
    "\n",
    "<head>\n",
    "  <meta charset=\"utf-8\">\n",
    "  <meta name=\"viewport\" content=\"width=device-width, initial-scale=1\">\n",
    "  <!-- Bootstrap CSS -->\n",
    "  <link href=\"https://cdn.jsdelivr.net/npm/bootstrap@5.0.2/dist/css/bootstrap.min.css\" rel=\"stylesheet\"\n",
    "   integrity=\"sha384-EVSTQN3/azprG1Anm3QDgpJLIm9Nao0Yz1ztcQTwFspd3yD65VohhpuuCOmLASjC\" crossorigin=\"anonymous\">\n",
    "  <!-- highlight.js CSS -->\n",
    "  <link rel=\"stylesheet\" href=\"https://cdnjs.cloudflare.com/ajax/libs/highlight.js/11.1.0/styles/default.min.css\">\n",
    "  <!-- Mathjax 3 -->\n",
    "  <script type=\"text/javascript\" id=\"MathJax-config\" src=\"mathjax_config.js\"> </script>\n",
    "  <script type=\"text/javascript\" id=\"MathJax-script\" async \n",
    "    src=\"https://cdn.jsdelivr.net/npm/mathjax@3/es5/tex-mml-chtml.js\">\n",
    "  </script>\n",
    "  <link rel=\"stylesheet\" href=\"index_carousel.css\">\n",
    "  <link rel=\"icon\" type=\"image/x-icon\" href=\"https://www.mpia.de/assets/touch-icon-32x32-a66937bcebc4e8894ebff1f41a366c7c7220fd97a38869ee0f2db65a9f59b6c1.png\">\n",
    "  <title>MPIA Arxiv on deck!</title>\n",
    "</head>\n",
    "\n",
    "<body>\n",
    "  <div id=\"header\"> <img src=\"header_banner.png\" width=\"100%\"></div>\n",
    "  <div id=\"suptitle\"> 7-day archives </div>\n",
    "  <div id=\"info\">\n",
    "    <img src=\"https://pngimg.com/uploads/github/github_PNG58.png\" height=30rem></img>\n",
    "    <a href=https://github.com/mpi-astronomy/arxiv_display style=\"color:black;\">github/mpi-astronomy/arxiv_display</a> \n",
    "  </div>\n",
    "  {carousel:s}\n",
    "</body>\n",
    "\n",
    "<!-- Render Markdown -->\n",
    "\n",
    "<body>\n",
    "  <!-- highlight.js: https://highlightjs.org/download/ -->\n",
    "  <script src=\"https://cdnjs.cloudflare.com/ajax/libs/highlight.js/11.5.0/highlight.min.js\"></script>\n",
    "  <!-- marked.js -->\n",
    "  <script src=\"https://cdn.jsdelivr.net/npm/marked/marked.min.js\"></script>\n",
    "  <script>{script:s}</script>\n",
    "</body>\n",
    "</html>\n",
    "\"\"\"\n",
    "with open(\"_build/html/index_7days.html\", 'w') as fout:\n",
    "    fout.write(page)"
   ]
  },
  {
   "cell_type": "markdown",
   "id": "1cebacbc",
   "metadata": {
    "papermill": {
     "duration": 0.008887,
     "end_time": "2022-11-18T04:11:10.436163",
     "exception": false,
     "start_time": "2022-11-18T04:11:10.427276",
     "status": "completed"
    },
    "tags": []
   },
   "source": [
    "# Debugging papers"
   ]
  },
  {
   "cell_type": "raw",
   "id": "debe7cc6",
   "metadata": {
    "papermill": {
     "duration": 0.008845,
     "end_time": "2022-11-18T04:11:10.453887",
     "exception": false,
     "start_time": "2022-11-18T04:11:10.445042",
     "status": "completed"
    },
    "tags": []
   },
   "source": [
    "raise NotImplementedError(\"Manual Stop\")"
   ]
  },
  {
   "cell_type": "raw",
   "id": "eb169192",
   "metadata": {
    "papermill": {
     "duration": 0.008833,
     "end_time": "2022-11-18T04:11:10.471544",
     "exception": false,
     "start_time": "2022-11-18T04:11:10.462711",
     "status": "completed"
    },
    "scrolled": true,
    "tags": []
   },
   "source": [
    "from IPython.display import display, Markdown\n",
    "from TexSoup import TexSoup\n",
    "import re\n",
    "\n",
    "def bracket_error(source: str):\n",
    "    \"\"\" Find problematic portions of the document \"\"\"\n",
    "    \n",
    "    print(\"len(source)\", len(source))\n",
    "    \n",
    "    # Checking header\n",
    "    begin_doc = next(re.finditer(r'\\\\begin\\{document\\}', doc.source)).span()[1]\n",
    "    header = source[:begin_doc]\n",
    "    text = header + r\"\\n\\end{document}\"\n",
    "\n",
    "    try:\n",
    "        # print(\"Header check... \", end='')\n",
    "        TexSoup(text)\n",
    "        display(Markdown(f\"**[OK]** - Header\"))\n",
    "    except:\n",
    "        raise RuntimeError(\"Error in the header\")\n",
    "        \n",
    "    # Check the text per section until the end.\n",
    "    # Do not stop and try them all.\n",
    "    \n",
    "    problematic_text = []\n",
    "    \n",
    "    sections = ([(0, begin_doc, 'until first section')] + \n",
    "                [(g.span()[0], g.span()[1], g.group()) for g in re.finditer(r'\\\\section\\{.*\\}', source)] +\n",
    "                [(g.span()[0], g.span()[1], g.group()) for g in re.finditer(r'\\\\begin\\{appendix\\}', source)]\n",
    "               )\n",
    "    sections.append([len(source), len(source), 'end'])\n",
    "    \n",
    "    sections = sorted(sections, key=lambda x: x[0])\n",
    "    \n",
    "    prev_pos, prev_name = (0, 'header')\n",
    "    parsed = []\n",
    "    \n",
    "    for span, span_end, name in sections:\n",
    "\n",
    "        if span - prev_pos <= 0:\n",
    "            continue\n",
    "            \n",
    "\n",
    "        text = source[prev_pos:span]\n",
    "        if prev_pos > begin_doc:\n",
    "            text = r\"\\n\\begin{document}\" + text + r\"\\n\\end{document}\"\n",
    "        else:\n",
    "            text = text + r\"\\n\\end{document}\"\n",
    "        try:\n",
    "            #print(f\"{prev_pos}:{prev_name}-->{span}:{name} check... \", end='')\n",
    "            parsed.append(TexSoup(text, tolerance=1))  # allow not ending env\n",
    "            display(Markdown(f\"**[OK]** - *{prev_pos}*:{prev_name} &rarr; *{span}*:{name}\"))\n",
    "            # print(\"ok\")\n",
    "\n",
    "            prev_pos = span\n",
    "            prev_name = name\n",
    "        except:\n",
    "            # print(f\"error between {prev_pos} and {span}\")\n",
    "            display(Markdown(f\"**[ERR]** *{prev_pos}*:{prev_name} &rarr; *{span}*:{name}\"))\n",
    "            problematic_text.append((prev_pos, source[prev_pos:span]))\n",
    "            prev_pos = span\n",
    "            prev_name = name\n",
    "            # raise\n",
    "    return problematic_text, parsed\n",
    "\n",
    "\n",
    "def check_environment(text, offset=0):\n",
    "    \"\"\" Check environment \"\"\"\n",
    "    env = re.compile(r\"\\\\begin\\{(?P<env>.*)\\}(.*)\\\\end\\{(?P=env)\\}\", re.DOTALL)\n",
    "\n",
    "    for match in env.finditer(text):\n",
    "        beg, end = match.span()\n",
    "        beg += offset\n",
    "        end += offset\n",
    "        envname = match.groups()[0]\n",
    "        try:\n",
    "            latex.TexSoup(match.group())\n",
    "        except Exception as e:\n",
    "            display(e)\n",
    "            print(f\"Error in {envname:s} between {beg} and {end}\")\n",
    "            return match.groups()[1], beg, end"
   ]
  },
  {
   "cell_type": "raw",
   "id": "2315e835",
   "metadata": {
    "papermill": {
     "duration": 0.009037,
     "end_time": "2022-11-18T04:11:10.489614",
     "exception": false,
     "start_time": "2022-11-18T04:11:10.480577",
     "status": "completed"
    },
    "scrolled": false,
    "tags": []
   },
   "source": [
    "import importlib\n",
    "importlib.reload(latex)\n",
    "which = \"2204.03253\"\n",
    "paper_id = f'{which:s}'\n",
    "folder = f'tmp_{paper_id:s}'\n",
    "\n",
    "if not os.path.isdir(folder):\n",
    "    folder = retrieve_document_source(f\"{paper_id}\", f'tmp_{paper_id}')\n",
    "\n",
    "try:\n",
    "    doc = latex.LatexDocument(folder, validation=validation)    \n",
    "except AffiliationError as affilerror:\n",
    "    msg = f\"ArXiv:{paper_id:s} is not an MPIA paper... \" + str(affilerror)\n",
    "    print(msg)\n",
    "\n",
    "\n",
    "# Hack because sometimes author parsing does not work well\n",
    "if (len(doc.authors) != len(paper['authors'])):\n",
    "    doc._authors = paper['authors']\n",
    "if (doc.abstract) in (None, ''):\n",
    "    doc._abstract = paper['abstract']\n",
    "\n",
    "doc.comment = get_markdown_badge(paper_id) + \" _\" + paper['comments'] + \"_\"\n",
    "doc.highlight_authors_in_list(hl_list)\n",
    "\n",
    "full_md = doc.generate_markdown_text()"
   ]
  },
  {
   "cell_type": "raw",
   "id": "dd3781db",
   "metadata": {
    "papermill": {
     "duration": 0.008795,
     "end_time": "2022-11-18T04:11:10.507242",
     "exception": false,
     "start_time": "2022-11-18T04:11:10.498447",
     "status": "completed"
    },
    "scrolled": false,
    "tags": []
   },
   "source": [
    "doc"
   ]
  },
  {
   "cell_type": "raw",
   "id": "c6eed834",
   "metadata": {
    "papermill": {
     "duration": 0.008839,
     "end_time": "2022-11-18T04:11:10.524910",
     "exception": false,
     "start_time": "2022-11-18T04:11:10.516071",
     "status": "completed"
    },
    "tags": []
   },
   "source": [
    "# [check_environment(k) for k in bracket_error(doc.source)]\n",
    "_, _, a = latex.get_content_per_section(doc.source, verbose=True)\n",
    "if not a:\n",
    "    print(\"no issues per section\")\n",
    "for ak in a:\n",
    "    r = check_environment(ak[1], offset=ak[0])\n",
    "    print(r[1], r[2])\n",
    "    print(r[0])"
   ]
  },
  {
   "cell_type": "code",
   "execution_count": null,
   "id": "71ce768a",
   "metadata": {
    "papermill": {
     "duration": 0.009642,
     "end_time": "2022-11-18T04:11:10.543435",
     "exception": false,
     "start_time": "2022-11-18T04:11:10.533793",
     "status": "completed"
    },
    "tags": []
   },
   "outputs": [],
   "source": []
  }
 ],
 "metadata": {
  "kernelspec": {
   "display_name": "Python 3.10.6 64-bit",
   "language": "python",
   "name": "python3"
  },
  "language_info": {
   "codemirror_mode": {
    "name": "ipython",
    "version": 3
   },
   "file_extension": ".py",
   "mimetype": "text/x-python",
   "name": "python",
   "nbconvert_exporter": "python",
   "pygments_lexer": "ipython3",
   "version": "3.9.15"
  },
  "papermill": {
   "default_parameters": {},
   "duration": 73.343296,
   "end_time": "2022-11-18T04:11:10.872438",
   "environment_variables": {},
   "exception": null,
   "input_path": "MPIA daily digest.ipynb",
   "output_path": "log.ipynb",
   "parameters": {},
   "start_time": "2022-11-18T04:09:57.529142",
   "version": "2.4.0"
  },
  "vscode": {
   "interpreter": {
    "hash": "e7370f93d1d0cde622a1f8e1c04877d8463912d04d973331ad4851f04de6915a"
   }
  },
  "widgets": {
   "application/vnd.jupyter.widget-state+json": {
    "state": {
     "07ecb9192fc74493bb1f7cddca1e2f93": {
      "model_module": "@jupyter-widgets/controls",
      "model_module_version": "2.0.0",
      "model_name": "HTMLStyleModel",
      "state": {
       "_model_module": "@jupyter-widgets/controls",
       "_model_module_version": "2.0.0",
       "_model_name": "HTMLStyleModel",
       "_view_count": null,
       "_view_module": "@jupyter-widgets/base",
       "_view_module_version": "2.0.0",
       "_view_name": "StyleView",
       "background": null,
       "description_width": "",
       "font_size": null,
       "text_color": null
      }
     },
     "0ca32935986a419db109a5799844dc25": {
      "model_module": "@jupyter-widgets/controls",
      "model_module_version": "2.0.0",
      "model_name": "HBoxModel",
      "state": {
       "_dom_classes": [],
       "_model_module": "@jupyter-widgets/controls",
       "_model_module_version": "2.0.0",
       "_model_name": "HBoxModel",
       "_view_count": null,
       "_view_module": "@jupyter-widgets/controls",
       "_view_module_version": "2.0.0",
       "_view_name": "HBoxView",
       "box_style": "",
       "children": [
        "IPY_MODEL_450c5f7fc096406aa9a32c291656dbfd",
        "IPY_MODEL_42d6039e6fa344a09dd58df91021bdf0",
        "IPY_MODEL_39d442f65315488eb8f3e6a85182a3a0"
       ],
       "layout": "IPY_MODEL_c28116fca0dd4e8b9856470fdeae9218",
       "tabbable": null,
       "tooltip": null
      }
     },
     "39d442f65315488eb8f3e6a85182a3a0": {
      "model_module": "@jupyter-widgets/controls",
      "model_module_version": "2.0.0",
      "model_name": "HTMLModel",
      "state": {
       "_dom_classes": [],
       "_model_module": "@jupyter-widgets/controls",
       "_model_module_version": "2.0.0",
       "_model_name": "HTMLModel",
       "_view_count": null,
       "_view_module": "@jupyter-widgets/controls",
       "_view_module_version": "2.0.0",
       "_view_name": "HTMLView",
       "description": "",
       "description_allow_html": false,
       "layout": "IPY_MODEL_96c3f0678a164399a16acf7eaa39033a",
       "placeholder": "​",
       "style": "IPY_MODEL_07ecb9192fc74493bb1f7cddca1e2f93",
       "tabbable": null,
       "tooltip": null,
       "value": " 19/19 [00:49&lt;00:00,  1.01it/s]"
      }
     },
     "42d6039e6fa344a09dd58df91021bdf0": {
      "model_module": "@jupyter-widgets/controls",
      "model_module_version": "2.0.0",
      "model_name": "FloatProgressModel",
      "state": {
       "_dom_classes": [],
       "_model_module": "@jupyter-widgets/controls",
       "_model_module_version": "2.0.0",
       "_model_name": "FloatProgressModel",
       "_view_count": null,
       "_view_module": "@jupyter-widgets/controls",
       "_view_module_version": "2.0.0",
       "_view_name": "ProgressView",
       "bar_style": "success",
       "description": "",
       "description_allow_html": false,
       "layout": "IPY_MODEL_dd7dbaa478fb4557964db848fc34d5a3",
       "max": 19.0,
       "min": 0.0,
       "orientation": "horizontal",
       "style": "IPY_MODEL_9b1c1795ba874e908959b016467ea3d9",
       "tabbable": null,
       "tooltip": null,
       "value": 19.0
      }
     },
     "450c5f7fc096406aa9a32c291656dbfd": {
      "model_module": "@jupyter-widgets/controls",
      "model_module_version": "2.0.0",
      "model_name": "HTMLModel",
      "state": {
       "_dom_classes": [],
       "_model_module": "@jupyter-widgets/controls",
       "_model_module_version": "2.0.0",
       "_model_name": "HTMLModel",
       "_view_count": null,
       "_view_module": "@jupyter-widgets/controls",
       "_view_module_version": "2.0.0",
       "_view_name": "HTMLView",
       "description": "",
       "description_allow_html": false,
       "layout": "IPY_MODEL_6be3bd98264b429798ce8bd8a55948e3",
       "placeholder": "​",
       "style": "IPY_MODEL_67091e2d23c941509e112768fc6a28d8",
       "tabbable": null,
       "tooltip": null,
       "value": "100%"
      }
     },
     "67091e2d23c941509e112768fc6a28d8": {
      "model_module": "@jupyter-widgets/controls",
      "model_module_version": "2.0.0",
      "model_name": "HTMLStyleModel",
      "state": {
       "_model_module": "@jupyter-widgets/controls",
       "_model_module_version": "2.0.0",
       "_model_name": "HTMLStyleModel",
       "_view_count": null,
       "_view_module": "@jupyter-widgets/base",
       "_view_module_version": "2.0.0",
       "_view_name": "StyleView",
       "background": null,
       "description_width": "",
       "font_size": null,
       "text_color": null
      }
     },
     "6be3bd98264b429798ce8bd8a55948e3": {
      "model_module": "@jupyter-widgets/base",
      "model_module_version": "2.0.0",
      "model_name": "LayoutModel",
      "state": {
       "_model_module": "@jupyter-widgets/base",
       "_model_module_version": "2.0.0",
       "_model_name": "LayoutModel",
       "_view_count": null,
       "_view_module": "@jupyter-widgets/base",
       "_view_module_version": "2.0.0",
       "_view_name": "LayoutView",
       "align_content": null,
       "align_items": null,
       "align_self": null,
       "border_bottom": null,
       "border_left": null,
       "border_right": null,
       "border_top": null,
       "bottom": null,
       "display": null,
       "flex": null,
       "flex_flow": null,
       "grid_area": null,
       "grid_auto_columns": null,
       "grid_auto_flow": null,
       "grid_auto_rows": null,
       "grid_column": null,
       "grid_gap": null,
       "grid_row": null,
       "grid_template_areas": null,
       "grid_template_columns": null,
       "grid_template_rows": null,
       "height": null,
       "justify_content": null,
       "justify_items": null,
       "left": null,
       "margin": null,
       "max_height": null,
       "max_width": null,
       "min_height": null,
       "min_width": null,
       "object_fit": null,
       "object_position": null,
       "order": null,
       "overflow": null,
       "padding": null,
       "right": null,
       "top": null,
       "visibility": null,
       "width": null
      }
     },
     "96c3f0678a164399a16acf7eaa39033a": {
      "model_module": "@jupyter-widgets/base",
      "model_module_version": "2.0.0",
      "model_name": "LayoutModel",
      "state": {
       "_model_module": "@jupyter-widgets/base",
       "_model_module_version": "2.0.0",
       "_model_name": "LayoutModel",
       "_view_count": null,
       "_view_module": "@jupyter-widgets/base",
       "_view_module_version": "2.0.0",
       "_view_name": "LayoutView",
       "align_content": null,
       "align_items": null,
       "align_self": null,
       "border_bottom": null,
       "border_left": null,
       "border_right": null,
       "border_top": null,
       "bottom": null,
       "display": null,
       "flex": null,
       "flex_flow": null,
       "grid_area": null,
       "grid_auto_columns": null,
       "grid_auto_flow": null,
       "grid_auto_rows": null,
       "grid_column": null,
       "grid_gap": null,
       "grid_row": null,
       "grid_template_areas": null,
       "grid_template_columns": null,
       "grid_template_rows": null,
       "height": null,
       "justify_content": null,
       "justify_items": null,
       "left": null,
       "margin": null,
       "max_height": null,
       "max_width": null,
       "min_height": null,
       "min_width": null,
       "object_fit": null,
       "object_position": null,
       "order": null,
       "overflow": null,
       "padding": null,
       "right": null,
       "top": null,
       "visibility": null,
       "width": null
      }
     },
     "9b1c1795ba874e908959b016467ea3d9": {
      "model_module": "@jupyter-widgets/controls",
      "model_module_version": "2.0.0",
      "model_name": "ProgressStyleModel",
      "state": {
       "_model_module": "@jupyter-widgets/controls",
       "_model_module_version": "2.0.0",
       "_model_name": "ProgressStyleModel",
       "_view_count": null,
       "_view_module": "@jupyter-widgets/base",
       "_view_module_version": "2.0.0",
       "_view_name": "StyleView",
       "bar_color": null,
       "description_width": ""
      }
     },
     "c28116fca0dd4e8b9856470fdeae9218": {
      "model_module": "@jupyter-widgets/base",
      "model_module_version": "2.0.0",
      "model_name": "LayoutModel",
      "state": {
       "_model_module": "@jupyter-widgets/base",
       "_model_module_version": "2.0.0",
       "_model_name": "LayoutModel",
       "_view_count": null,
       "_view_module": "@jupyter-widgets/base",
       "_view_module_version": "2.0.0",
       "_view_name": "LayoutView",
       "align_content": null,
       "align_items": null,
       "align_self": null,
       "border_bottom": null,
       "border_left": null,
       "border_right": null,
       "border_top": null,
       "bottom": null,
       "display": null,
       "flex": null,
       "flex_flow": null,
       "grid_area": null,
       "grid_auto_columns": null,
       "grid_auto_flow": null,
       "grid_auto_rows": null,
       "grid_column": null,
       "grid_gap": null,
       "grid_row": null,
       "grid_template_areas": null,
       "grid_template_columns": null,
       "grid_template_rows": null,
       "height": null,
       "justify_content": null,
       "justify_items": null,
       "left": null,
       "margin": null,
       "max_height": null,
       "max_width": null,
       "min_height": null,
       "min_width": null,
       "object_fit": null,
       "object_position": null,
       "order": null,
       "overflow": null,
       "padding": null,
       "right": null,
       "top": null,
       "visibility": null,
       "width": null
      }
     },
     "dd7dbaa478fb4557964db848fc34d5a3": {
      "model_module": "@jupyter-widgets/base",
      "model_module_version": "2.0.0",
      "model_name": "LayoutModel",
      "state": {
       "_model_module": "@jupyter-widgets/base",
       "_model_module_version": "2.0.0",
       "_model_name": "LayoutModel",
       "_view_count": null,
       "_view_module": "@jupyter-widgets/base",
       "_view_module_version": "2.0.0",
       "_view_name": "LayoutView",
       "align_content": null,
       "align_items": null,
       "align_self": null,
       "border_bottom": null,
       "border_left": null,
       "border_right": null,
       "border_top": null,
       "bottom": null,
       "display": null,
       "flex": null,
       "flex_flow": null,
       "grid_area": null,
       "grid_auto_columns": null,
       "grid_auto_flow": null,
       "grid_auto_rows": null,
       "grid_column": null,
       "grid_gap": null,
       "grid_row": null,
       "grid_template_areas": null,
       "grid_template_columns": null,
       "grid_template_rows": null,
       "height": null,
       "justify_content": null,
       "justify_items": null,
       "left": null,
       "margin": null,
       "max_height": null,
       "max_width": null,
       "min_height": null,
       "min_width": null,
       "object_fit": null,
       "object_position": null,
       "order": null,
       "overflow": null,
       "padding": null,
       "right": null,
       "top": null,
       "visibility": null,
       "width": null
      }
     }
    },
    "version_major": 2,
    "version_minor": 0
   }
  }
 },
 "nbformat": 4,
 "nbformat_minor": 5
}