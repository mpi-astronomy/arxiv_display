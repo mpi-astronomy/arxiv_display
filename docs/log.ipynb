{
 "cells": [
  {
   "cell_type": "markdown",
   "id": "92bcb855",
   "metadata": {
    "papermill": {
     "duration": 0.003815,
     "end_time": "2025-01-09T04:10:51.801604",
     "exception": false,
     "start_time": "2025-01-09T04:10:51.797789",
     "status": "completed"
    },
    "tags": []
   },
   "source": [
    "# MPIA Arxiv on Deck 2\n",
    "\n",
    "Contains the steps to produce the paper extractions."
   ]
  },
  {
   "cell_type": "code",
   "execution_count": 1,
   "id": "3a0d6e11",
   "metadata": {
    "execution": {
     "iopub.execute_input": "2025-01-09T04:10:51.809367Z",
     "iopub.status.busy": "2025-01-09T04:10:51.808916Z",
     "iopub.status.idle": "2025-01-09T04:10:52.241485Z",
     "shell.execute_reply": "2025-01-09T04:10:52.240776Z"
    },
    "papermill": {
     "duration": 0.437836,
     "end_time": "2025-01-09T04:10:52.242815",
     "exception": false,
     "start_time": "2025-01-09T04:10:51.804979",
     "status": "completed"
    },
    "tags": []
   },
   "outputs": [],
   "source": [
    "# Imports\n",
    "import os\n",
    "from IPython.display import Markdown, display\n",
    "from tqdm.notebook import tqdm\n",
    "import warnings\n",
    "from PIL import Image \n",
    "import re\n",
    "\n",
    "# requires arxiv_on_deck_2\n",
    "\n",
    "from arxiv_on_deck_2.arxiv2 import (get_new_papers, \n",
    "                                    get_paper_from_identifier,\n",
    "                                    retrieve_document_source, \n",
    "                                    get_markdown_badge)\n",
    "from arxiv_on_deck_2 import (latex,\n",
    "                             latex_bib,\n",
    "                             mpia,\n",
    "                             highlight_authors_in_list)\n",
    "\n",
    "# Sometimes images are really big\n",
    "Image.MAX_IMAGE_PIXELS = 1000000000 "
   ]
  },
  {
   "cell_type": "code",
   "execution_count": 2,
   "id": "22aa9d44",
   "metadata": {
    "execution": {
     "iopub.execute_input": "2025-01-09T04:10:52.250586Z",
     "iopub.status.busy": "2025-01-09T04:10:52.250066Z",
     "iopub.status.idle": "2025-01-09T04:10:52.258189Z",
     "shell.execute_reply": "2025-01-09T04:10:52.257537Z"
    },
    "papermill": {
     "duration": 0.013042,
     "end_time": "2025-01-09T04:10:52.259243",
     "exception": false,
     "start_time": "2025-01-09T04:10:52.246201",
     "status": "completed"
    },
    "tags": []
   },
   "outputs": [],
   "source": [
    "# Some useful definitions.\n",
    "\n",
    "class AffiliationWarning(UserWarning):\n",
    "    pass\n",
    "\n",
    "class AffiliationError(RuntimeError):\n",
    "    pass\n",
    "\n",
    "def validation(source: str):\n",
    "    \"\"\"Raises error paper during parsing of source file\n",
    "    \n",
    "    Allows checks before parsing TeX code.\n",
    "    \n",
    "    Raises AffiliationWarning\n",
    "    \"\"\"\n",
    "    check = mpia.affiliation_verifications(source, verbose=True)\n",
    "    if check is not True:\n",
    "        raise AffiliationError(\"mpia.affiliation_verifications: \" + check)\n",
    "\n",
    "        \n",
    "warnings.simplefilter('always', AffiliationWarning)\n",
    "\n",
    "\n",
    "def get_markdown_qrcode(paper_id: str):\n",
    "    \"\"\" Generate a qrcode to the arxiv page using qrserver.com\n",
    "    \n",
    "    :param paper: Arxiv paper\n",
    "    :returns: markdown text\n",
    "    \"\"\"\n",
    "    url = r\"https://api.qrserver.com/v1/create-qr-code/?size=100x100&data=\"\n",
    "    txt = f\"\"\"<img src={url}\"https://arxiv.org/abs/{paper_id}\">\"\"\"\n",
    "    txt = '<div id=\"qrcode\">' + txt + '</div>'\n",
    "    return txt\n",
    "\n",
    "\n",
    "def clean_non_western_encoded_characters_commands(text: str) -> str:\n",
    "    \"\"\" Remove non-western encoded characters from a string\n",
    "    List may need to grow.\n",
    "    \n",
    "    :param text: the text to clean\n",
    "    :return: the cleaned text\n",
    "    \"\"\"\n",
    "    text = re.sub(r\"(\\\\begin{CJK}{UTF8}{gbsn})(.*?)(\\\\end{CJK})\", r\"\\2\", text)\n",
    "    return text\n",
    "\n",
    "\n",
    "def get_initials(name: str) -> str:\n",
    "    \"\"\" Get the short name, e.g., A.-B. FamName\n",
    "    :param name: full name\n",
    "    :returns: initials\n",
    "    \"\"\"\n",
    "    initials = []\n",
    "    # account for non western names often in ()\n",
    "    if '(' in name:\n",
    "        name = clean_non_western_encoded_characters_commands(name)\n",
    "        suffix = re.findall(r\"\\((.*?)\\)\", name)[0]\n",
    "        name = name.replace(f\"({suffix})\", '')\n",
    "    else:\n",
    "        suffix = ''\n",
    "    split = name.split()\n",
    "    for token in split[:-1]:\n",
    "        if '-' in token:\n",
    "            current = '-'.join([k[0] + '.' for k in token.split('-')])\n",
    "        else:\n",
    "            current = token[0] + '.'\n",
    "        initials.append(current)\n",
    "    initials.append(split[-1].strip())\n",
    "    if suffix:\n",
    "        initials.append(f\"({suffix})\")\n",
    "    return ' '.join(initials)"
   ]
  },
  {
   "cell_type": "markdown",
   "id": "14bd6310",
   "metadata": {
    "papermill": {
     "duration": 0.002963,
     "end_time": "2025-01-09T04:10:52.265197",
     "exception": false,
     "start_time": "2025-01-09T04:10:52.262234",
     "status": "completed"
    },
    "tags": []
   },
   "source": [
    "## get list of arxiv paper candidates\n",
    "\n",
    "We use the MPIA mitarbeiter list webpage from mpia.de to get author names\n",
    "We then get all new papers from Arxiv and match authors"
   ]
  },
  {
   "cell_type": "code",
   "execution_count": 3,
   "id": "7ea813a8",
   "metadata": {
    "execution": {
     "iopub.execute_input": "2025-01-09T04:10:52.272037Z",
     "iopub.status.busy": "2025-01-09T04:10:52.271825Z",
     "iopub.status.idle": "2025-01-09T04:11:12.136305Z",
     "shell.execute_reply": "2025-01-09T04:11:12.135588Z"
    },
    "papermill": {
     "duration": 19.869493,
     "end_time": "2025-01-09T04:11:12.137692",
     "exception": false,
     "start_time": "2025-01-09T04:10:52.268199",
     "status": "completed"
    },
    "tags": []
   },
   "outputs": [],
   "source": [
    "# deal with the author list and edge cases of people that cannot be consistent on their name  \n",
    "\n",
    "def filter_non_scientists(name: str) -> bool:\n",
    "    \"\"\" Loose filter on expected authorships\n",
    "\n",
    "    removing IT, administration, technical staff\n",
    "    :param name: name\n",
    "    :returns: False if name is not a scientist\n",
    "    \"\"\"\n",
    "    remove_list = ['Licht', 'Binroth', 'Witzel', 'Jordan',\n",
    "                   'Zähringer', 'Scheerer', 'Hoffmann', 'Düe',\n",
    "                   'Hellmich', 'Enkler-Scharpegge', 'Witte-Nguy',\n",
    "                   'Dehen', 'Beckmann', 'Jager', 'Jäger'\n",
    "                  ]\n",
    "\n",
    "    for k in remove_list:\n",
    "        if k in name:\n",
    "            return False\n",
    "    return True\n",
    "\n",
    "def add_author_to_list(author_list: list) -> list:\n",
    "    \"\"\" Add author to list if not already in list\n",
    "    \n",
    "    :param author: author name\n",
    "    :param author_list: list of authors\n",
    "    :returns: updated list of authors\n",
    "    \"\"\"\n",
    "    add_list = ['T. Henning']\n",
    "\n",
    "    for author in add_list:\n",
    "        if author not in author_list:\n",
    "            author_list.append(author)\n",
    "    return author_list\n",
    "\n",
    "# get list from MPIA website\n",
    "# filter for non-scientists (mpia.get_mpia_mitarbeiter_list() does some filtering)\n",
    "mpia_authors = [k[1] for k in mpia.get_mpia_mitarbeiter_list() if filter_non_scientists(k[1])]\n",
    "# add some missing author because of inconsistencies in their MPIA name and author name on papers\n",
    "mpia_authors = add_author_to_list(mpia_authors)"
   ]
  },
  {
   "cell_type": "code",
   "execution_count": 4,
   "id": "2645e73a",
   "metadata": {
    "execution": {
     "iopub.execute_input": "2025-01-09T04:11:12.145171Z",
     "iopub.status.busy": "2025-01-09T04:11:12.144732Z",
     "iopub.status.idle": "2025-01-09T04:11:12.872268Z",
     "shell.execute_reply": "2025-01-09T04:11:12.871608Z"
    },
    "papermill": {
     "duration": 0.732301,
     "end_time": "2025-01-09T04:11:12.873359",
     "exception": false,
     "start_time": "2025-01-09T04:11:12.141058",
     "status": "completed"
    },
    "tags": []
   },
   "outputs": [
    {
     "name": "stdout",
     "output_type": "stream",
     "text": [
      "F. Walter  ->  F. Walter  |  ['F. Walter']\n",
      "H. Beuther  ->  H. Beuther  |  ['H. Beuther']\n",
      "D. Semenov  ->  D. Semenov  |  ['D. Semenov']\n",
      "J. Eberhardt  ->  J. Eberhardt  |  ['J. Eberhardt']\n",
      "T. Henning  ->  T. Henning  |  ['T. Henning']\n",
      "T. Henning  ->  T. Henning  |  ['T. Henning']\n",
      "G. Perotti  ->  G. Perotti  |  ['G. Perotti']\n",
      "K. Schwarz  ->  K. Schwarz  |  ['K. Schwarz']\n",
      "H.-W. Rix  ->  H.-W. Rix  |  ['H.-W. Rix']\n",
      "Arxiv has 51 new papers today\n",
      "          5 with possible author matches\n"
     ]
    }
   ],
   "source": [
    "new_papers = get_new_papers()\n",
    "# add manual references\n",
    "add_paper_refs = []\n",
    "new_papers.extend([get_paper_from_identifier(k) for k in add_paper_refs])\n",
    "\n",
    "def robust_call(fn, value, *args, **kwargs):\n",
    "    try:\n",
    "        return fn(value, *args, **kwargs)\n",
    "    except Exception:\n",
    "        return value\n",
    "\n",
    "candidates = []\n",
    "for paperk in new_papers:\n",
    "    # Check author list with their initials\n",
    "    normed_author_list = [robust_call(mpia.get_initials, k) for k in paperk['authors']]\n",
    "    hl_authors = highlight_authors_in_list(normed_author_list, mpia_authors, verbose=True)\n",
    "    matches = [(hl, orig) for hl, orig in zip(hl_authors, paperk['authors']) if 'mark' in hl]\n",
    "    paperk['authors'] = hl_authors\n",
    "    if matches:\n",
    "        # only select paper if an author matched our list\n",
    "        candidates.append(paperk)\n",
    "print(\"\"\"Arxiv has {0:,d} new papers today\"\"\".format(len(new_papers)))        \n",
    "print(\"\"\"          {0:,d} with possible author matches\"\"\".format(len(candidates)))"
   ]
  },
  {
   "cell_type": "markdown",
   "id": "3543b34a",
   "metadata": {
    "papermill": {
     "duration": 0.005262,
     "end_time": "2025-01-09T04:11:12.882236",
     "exception": false,
     "start_time": "2025-01-09T04:11:12.876974",
     "status": "completed"
    },
    "tags": []
   },
   "source": [
    "# Parse sources and generate relevant outputs\n",
    "\n",
    "From the candidates, we do the following steps:\n",
    "* get their tarball from ArXiv (and extract data)\n",
    "* find the main .tex file: find one with \\documentclass{...} (sometimes it's non trivial)\n",
    "* Check affiliations with :func:`validation`, which uses :func:`mpia.affiliation_verifications`\n",
    "* If passing the affiliations: we parse the .tex source\n",
    "   * inject sub-documents into the main (flatten the main document)\n",
    "   * parse structure, extract information (title, abstract, authors, figures...)\n",
    "   * handles `\\graphicspath` if provided\n",
    "* Generate the .md document."
   ]
  },
  {
   "cell_type": "code",
   "execution_count": 5,
   "id": "9576b79e",
   "metadata": {
    "execution": {
     "iopub.execute_input": "2025-01-09T04:11:12.889504Z",
     "iopub.status.busy": "2025-01-09T04:11:12.889093Z",
     "iopub.status.idle": "2025-01-09T04:15:52.513883Z",
     "shell.execute_reply": "2025-01-09T04:15:52.513067Z"
    },
    "papermill": {
     "duration": 279.634041,
     "end_time": "2025-01-09T04:15:52.519395",
     "exception": false,
     "start_time": "2025-01-09T04:11:12.885354",
     "status": "completed"
    },
    "scrolled": false,
    "tags": []
   },
   "outputs": [
    {
     "data": {
      "application/vnd.jupyter.widget-view+json": {
       "model_id": "360808760a6049ba9c00dca28c4e7923",
       "version_major": 2,
       "version_minor": 0
      },
      "text/plain": [
       "  0%|          | 0/5 [00:00<?, ?it/s]"
      ]
     },
     "metadata": {},
     "output_type": "display_data"
    },
    {
     "name": "stdout",
     "output_type": "stream",
     "text": [
      "Retrieving document from  https://arxiv.org/e-print/2501.04098\n"
     ]
    },
    {
     "name": "stdout",
     "output_type": "stream",
     "text": [
      "extracting tarball to tmp_2501.04098... done.\n",
      "Retrieving document from  https://arxiv.org/e-print/2501.04518\n"
     ]
    },
    {
     "name": "stdout",
     "output_type": "stream",
     "text": [
      "extracting tarball to tmp_2501.04518..."
     ]
    },
    {
     "name": "stdout",
     "output_type": "stream",
     "text": [
      " done.\n"
     ]
    },
    {
     "name": "stdout",
     "output_type": "stream",
     "text": [
      "H. Beuther  ->  H. Beuther  |  ['H. Beuther']\n",
      "D. Semenov  ->  D. Semenov  |  ['D. Semenov']\n"
     ]
    },
    {
     "name": "stdout",
     "output_type": "stream",
     "text": [
      "Found 111 bibliographic references in tmp_2501.04518/aa51998-24corr.bbl.\n",
      "Retrieving document from  https://arxiv.org/e-print/2501.04523\n"
     ]
    },
    {
     "name": "stdout",
     "output_type": "stream",
     "text": [
      "extracting tarball to tmp_2501.04523..."
     ]
    },
    {
     "name": "stdout",
     "output_type": "stream",
     "text": [
      " done.\n"
     ]
    },
    {
     "name": "stderr",
     "output_type": "stream",
     "text": [
      "/opt/hostedtoolcache/Python/3.9.21/x64/lib/python3.9/site-packages/IPython/core/interactiveshell.py:3550: LatexWarning: Multiple tex files.\n",
      "\n",
      "  exec(code_obj, self.user_global_ns, self.user_ns)\n",
      "/opt/hostedtoolcache/Python/3.9.21/x64/lib/python3.9/site-packages/IPython/core/interactiveshell.py:3550: LatexWarning: Found documentclass in tmp_2501.04523/main.tex\n",
      "\n",
      "  exec(code_obj, self.user_global_ns, self.user_ns)\n",
      "/opt/hostedtoolcache/Python/3.9.21/x64/lib/python3.9/site-packages/arxiv_on_deck_2/latex.py:414: LatexWarning: Latex injecting: 'appendices' from 'tmp_2501.04523/appendices.tex'\n",
      "  warnings.warn(LatexWarning(f\"Latex injecting: '{ext}' from '{subsource}'\"))\n",
      "/opt/hostedtoolcache/Python/3.9.21/x64/lib/python3.9/site-packages/arxiv_on_deck_2/latex.py:414: LatexWarning: Latex injecting: 'Tables/occ_depths_table' from 'tmp_2501.04523/Tables/occ_depths_table.tex'\n",
      "  warnings.warn(LatexWarning(f\"Latex injecting: '{ext}' from '{subsource}'\"))\n",
      "/opt/hostedtoolcache/Python/3.9.21/x64/lib/python3.9/site-packages/arxiv_on_deck_2/latex.py:414: LatexWarning: Latex injecting: 'Tables/rv_data_table' from 'tmp_2501.04523/Tables/rv_data_table.tex'\n",
      "  warnings.warn(LatexWarning(f\"Latex injecting: '{ext}' from '{subsource}'\"))\n",
      "/opt/hostedtoolcache/Python/3.9.21/x64/lib/python3.9/site-packages/arxiv_on_deck_2/latex.py:414: LatexWarning: Latex injecting: 'commands' from 'tmp_2501.04523/commands.tex'\n",
      "  warnings.warn(LatexWarning(f\"Latex injecting: '{ext}' from '{subsource}'\"))\n"
     ]
    },
    {
     "name": "stdout",
     "output_type": "stream",
     "text": [
      "Found 122 bibliographic references in tmp_2501.04523/main.bbl.\n",
      "Retrieving document from  https://arxiv.org/e-print/2501.04587\n"
     ]
    },
    {
     "name": "stdout",
     "output_type": "stream",
     "text": [
      "extracting tarball to tmp_2501.04587..."
     ]
    },
    {
     "name": "stdout",
     "output_type": "stream",
     "text": [
      " done.\n"
     ]
    },
    {
     "name": "stdout",
     "output_type": "stream",
     "text": [
      "Found 129 bibliographic references in tmp_2501.04587/main.bbl.\n",
      "Issues with the citations\n",
      "syntax error in line 95: '=' expected\n",
      "Retrieving document from  https://arxiv.org/e-print/2501.04616\n"
     ]
    },
    {
     "name": "stdout",
     "output_type": "stream",
     "text": [
      "extracting tarball to tmp_2501.04616..."
     ]
    },
    {
     "name": "stdout",
     "output_type": "stream",
     "text": [
      " done.\n"
     ]
    },
    {
     "name": "stdout",
     "output_type": "stream",
     "text": [
      "H.-W. Rix  ->  H.-W. Rix  |  ['H.-W. Rix']\n"
     ]
    },
    {
     "name": "stdout",
     "output_type": "stream",
     "text": [
      "Found 97 bibliographic references in tmp_2501.04616/main.bbl.\n"
     ]
    }
   ],
   "source": [
    "documents = []\n",
    "failed = []\n",
    "for paper in tqdm(candidates):\n",
    "    # debug crap\n",
    "    paper['identifier'] = paper['identifier'].lower().replace('arxiv:', '').replace(r'\\n', '').strip()\n",
    "    paper_id = paper['identifier']\n",
    "    \n",
    "    folder = f'tmp_{paper_id}'\n",
    "\n",
    "    try:\n",
    "        if not os.path.isdir(folder):\n",
    "            folder = retrieve_document_source(f\"{paper_id}\", f'tmp_{paper_id}')\n",
    "        \n",
    "        try:\n",
    "            doc = latex.LatexDocument(folder, validation=validation)    \n",
    "        except AffiliationError as affilerror:\n",
    "            msg = f\"ArXiv:{paper_id:s} is not an MPIA paper... \" + str(affilerror)\n",
    "            failed.append((paper, \"affiliation error: \" + str(affilerror) ))\n",
    "            continue\n",
    "        \n",
    "        # Hack because sometimes author parsing does not work well\n",
    "        if (len(doc.authors) != len(paper['authors'])):\n",
    "            doc._authors = paper['authors']\n",
    "        else:\n",
    "            # highlight authors (FIXME: doc.highlight_authors)\n",
    "            # done on arxiv paper already\n",
    "            doc._authors = highlight_authors_in_list(\n",
    "                [get_initials(k) for k in doc.authors], \n",
    "                mpia_authors, verbose=True)\n",
    "        if (doc.abstract) in (None, ''):\n",
    "            doc._abstract = paper['abstract']\n",
    "            \n",
    "        doc.comment = (get_markdown_badge(paper_id) + \n",
    "                       \"<mark>Appeared on: \" + paper['date'] + \"</mark> - \")\n",
    "        if paper['comments']:\n",
    "            doc.comment += \" _\" + paper['comments'] + \"_\"\n",
    "        \n",
    "        full_md = doc.generate_markdown_text()\n",
    "        \n",
    "        full_md += get_markdown_qrcode(paper_id)\n",
    "        \n",
    "        # replace citations\n",
    "        try:\n",
    "            bibdata = latex_bib.LatexBib.from_doc(doc)\n",
    "            full_md = latex_bib.replace_citations(full_md, bibdata)\n",
    "        except Exception as e:\n",
    "            print(\"Issues with the citations\")\n",
    "            print(e)\n",
    "        \n",
    "        documents.append((paper_id, full_md))\n",
    "    except Exception as e:\n",
    "        warnings.warn(latex.LatexWarning(f\"{paper_id:s} did not run properly\\n\" +\n",
    "                                         str(e)\n",
    "                                        ))\n",
    "        failed.append((paper, \"latex error \" + str(e)))"
   ]
  },
  {
   "cell_type": "markdown",
   "id": "2505a25c",
   "metadata": {
    "papermill": {
     "duration": 0.004029,
     "end_time": "2025-01-09T04:15:52.527605",
     "exception": false,
     "start_time": "2025-01-09T04:15:52.523576",
     "status": "completed"
    },
    "tags": []
   },
   "source": [
    "### Export the logs\n",
    "\n",
    "Throughout, we also keep track of the logs per paper. see `logs-{today date}.md` "
   ]
  },
  {
   "cell_type": "code",
   "execution_count": 6,
   "id": "d733828a",
   "metadata": {
    "execution": {
     "iopub.execute_input": "2025-01-09T04:15:52.536692Z",
     "iopub.status.busy": "2025-01-09T04:15:52.536454Z",
     "iopub.status.idle": "2025-01-09T04:15:52.553322Z",
     "shell.execute_reply": "2025-01-09T04:15:52.552653Z"
    },
    "papermill": {
     "duration": 0.022761,
     "end_time": "2025-01-09T04:15:52.554438",
     "exception": false,
     "start_time": "2025-01-09T04:15:52.531677",
     "status": "completed"
    },
    "scrolled": false,
    "tags": []
   },
   "outputs": [
    {
     "data": {
      "text/markdown": [
       "## Successful papers"
      ],
      "text/plain": [
       "<IPython.core.display.Markdown object>"
      ]
     },
     "metadata": {},
     "output_type": "display_data"
    },
    {
     "data": {
      "text/markdown": [
       "\n",
       "|||\n",
       "|---:|:---|\n",
       "| [![arXiv](https://img.shields.io/badge/arXiv-2501.04518-b31b1b.svg)](https://arxiv.org/abs/2501.04518) | **The Cygnus Allscale Survey of Chemistry and Dynamical Environments: CASCADE. IV. Unveiling the hidden structures in DR18**  |\n",
       "|| W.-J. Kim, et al. -- incl., <mark>H. Beuther</mark>, <mark>D. Semenov</mark> |\n",
       "|*Appeared on*| *2025-01-09*|\n",
       "|*Comments*| *25 pages, 21 figures, and 4 tables. Accepted for publication in A&A*|\n",
       "|**Abstract**|            The Cygnus-X complex is a massive, nearby (1.4 kpc) star-forming region with several OB associations. As part of the Cygnus Allscale Survey of Chemistry and Dynamical Environments (CASCADE) program, we carried out 3.6 millimeter (mm) continuum and spectral line high-resolution observations ($\\sim$ 3 - 4$''$) toward DR18, covering several molecular species with the Northern Extended Millimeter Array (NOEMA) and the Institut de Radioastronomie Millimétrique (IRAM) 30m telescope. In addition, multi-wavelength archival datasets were used to provide a comprehensive analysis of the region. A comparison of the 3.6mm and 6 cm continuum emission confirms that a B2 star (DR18-05) shapes the cometary HII region in the DR18 cavity, with ionized gas escaping toward the OB2 association. On the other hand, the extended 3.6mm and 6 cm continuum emission are likely to trace photoevaporating ionized gas from ultraviolet radiation from the Cyg OB2 association, not from DR18-05. The shell structure around DR18-05 indicates photodissociation regions (PDRs) formed by the expanding HII region and photo-erosion from DR18-05 and OB2 stars. We also identified 18 compact cores with N$_2$H$^+$ emission, half of which are gravitationally bound and mostly located in colder regions behind the PDRs. The SiO emission is found only in PDRs, with narrow-line widths ( 0.8 - 2.0 km s$^{-1}$) and lower abundances (X(SiO) $\\sim$ 5$\\times$10$^{-11}$ - 1$\\times$10$^{-10}$). Comparing with the UV irradiated shock models, we suggest that the SiO emission partially encompassing the HII region arises from the molecular gas region, marginally compressed by low-velocity shocks with $\\sim$ 5 km s$^{-1}$, irradiated by external UV radiation (G$_{\\rm 0} \\sim 10^{2} - 10^{3}$), as they traverse through a medium with $n_{\\rm H} \\sim 10^{4}$ to 10$^5$ cm$^{-3}$.         |"
      ],
      "text/plain": [
       "[2501.04518] The Cygnus Allscale Survey of Chemistry and Dynamical Environments: CASCADE. IV. Unveiling the hidden structures in DR18\n",
       "\tW.-J. Kim, et al. -- incl., <mark>H. Beuther</mark>, <mark>D. Semenov</mark>"
      ]
     },
     "metadata": {},
     "output_type": "display_data"
    },
    {
     "data": {
      "text/markdown": [
       "\n",
       "|||\n",
       "|---:|:---|\n",
       "| [![arXiv](https://img.shields.io/badge/arXiv-2501.04523-b31b1b.svg)](https://arxiv.org/abs/2501.04523) | **NGTS-EB, an eccentric, long-period, low-mass eclipsing binary**  |\n",
       "|| T. Rodel, et al. -- incl., <mark>J. Eberhardt</mark>, <mark>T. Henning</mark> |\n",
       "|*Appeared on*| *2025-01-09*|\n",
       "|*Comments*| *Main body: 14 pages, 6 figures, 5 tables. Appendices: 7 pages, 5 figures, 5 tables*|\n",
       "|**Abstract**|            Despite being the most common types of stars in the Galaxy, the physical properties of late M dwarfs are often poorly constrained. A trend of radius inflation compared to evolutionary models has been observed for earlier type M dwarfs in eclipsing binaries, possibly caused by magnetic activity. It is currently unclear whether this trend also extends to later type M dwarfs below theconvective boundary. This makes the discovery of lower-mass, fully convective, M dwarfs in eclipsing binaries valuable for testing evolutionary models especially in longer-period binaries where tidal interaction between the primary and secondary is negligible. With this context, we present the discovery of the NGTS-EB-7 AB system, an eclipsing binary containing a late M dwarf secondary and an evolved G-type primary star. The secondary star has a radius of $0.125 \\pm 0.006 R_\\odot$ , a mass of $0.096 \\pm 0.004 M_\\odot$ and follows a highly eccentric $(e=0.71436 \\pm 0.00085)$ orbit every $193.35875 \\pm 0.00034$ days. This makes NGTS-EB-7 AB the third longest-period eclipsing binary system with a secondary smaller than $200 M_J$ with the mass and radius constrained to better than $5 \\%$. In addition, NGTS-EB-7 is situated near the centre of the proposed LOPS2 southern field of the upcoming PLATO mission, allowing for detection of the secondary eclipse and measurement of the companion`s temperature. With its long-period and well-constrained physical properties - NGTS-EB-7 B will make a valuable addition to the sample of M dwarfs in eclipsing binaries and help in determining accurate empirical mass/radius relations for later M dwarf stars.         |"
      ],
      "text/plain": [
       "[2501.04523] NGTS-EB, an eccentric, long-period, low-mass eclipsing binary\n",
       "\tT. Rodel, et al. -- incl., <mark>J. Eberhardt</mark>, <mark>T. Henning</mark>"
      ]
     },
     "metadata": {},
     "output_type": "display_data"
    },
    {
     "data": {
      "text/markdown": [
       "\n",
       "|||\n",
       "|---:|:---|\n",
       "| [![arXiv](https://img.shields.io/badge/arXiv-2501.04587-b31b1b.svg)](https://arxiv.org/abs/2501.04587) | **MINDS. The influence of outer dust disc structure on the volatile delivery to the inner disc**  |\n",
       "|| D. Gasman, et al. -- incl., <mark>T. Henning</mark>, <mark>G. Perotti</mark>, <mark>K. Schwarz</mark> |\n",
       "|*Appeared on*| *2025-01-09*|\n",
       "|*Comments*| *Accepted for publication in A&A. 29 pages, 12 figures and 10 tables*|\n",
       "|**Abstract**|            ALMA has revealed that the millimetre dust structures of protoplanetary discs are extremely diverse. It has been proposed that the strength of H$_2$O emission in the inner disc particularly depends on the influx of icy pebbles from the outer disc, a process that would correlate with the outer dust disc radius, and that could be prevented by pressure bumps. This work aims to assess the influence of pressure bumps on the inner disc's molecular reservoirs. Using JWST's MIRI/MRS, we compared the observational emission properties of H$_2$O, HCN, C$_2$H$_2$, and CO$_2$ with the outer dust disc structure from ALMA observations, in eight discs with confirmed gaps in ALMA observations, and two discs with gaps of tens of astronomical units in width, around stars with $M_\\star \\geq 0.45M_{\\odot}$. We used new visibility plane fits of the ALMA data to determine the outer dust disc radius and identify substructures in the discs. We find that the presence of a dust gap does not necessarily result in weak H$_2$O emission. Furthermore, the relative lack of colder H$_2$O-emission seems to go hand in hand with elevated emission from carbon-bearing species. The discs with cavities and extremely wide gaps appear to behave as a somewhat separate group, with stronger cold H$_2$O emission and weak warm H$_2$O emission. We conclude that fully blocking radial dust drift from the outer disc seems difficult to achieve. However, there does seem to be a dichotomy between discs that show a strong cold H$_2$O excess and ones that show strong emission from HCN and C$_2$H$_2$. Better constraints on the influence of the outer dust disc structure and inner disc composition require more information on substructure formation timescales and disc ages, along with the importance of trapping of volatiles like CO and CO$_2$ into more strongly bound ices like H$_2$O and chemical transformation of CO into less volatile species.         |"
      ],
      "text/plain": [
       "[2501.04587] MINDS. The influence of outer dust disc structure on the volatile delivery to the inner disc\n",
       "\tD. Gasman, et al. -- incl., <mark>T. Henning</mark>, <mark>G. Perotti</mark>, <mark>K. Schwarz</mark>"
      ]
     },
     "metadata": {},
     "output_type": "display_data"
    },
    {
     "data": {
      "text/markdown": [
       "\n",
       "|||\n",
       "|---:|:---|\n",
       "| [![arXiv](https://img.shields.io/badge/arXiv-2501.04616-b31b1b.svg)](https://arxiv.org/abs/2501.04616) | **Vertical structure and kinematics of the LMC disc from SDSS/Gaia**  |\n",
       "|| Ó. Jiménez-Arranz, et al. -- incl., <mark>H.-W. Rix</mark> |\n",
       "|*Appeared on*| *2025-01-09*|\n",
       "|*Comments*| *Submitted to A&A. The interactive LMC 3D models can be found in this https URL*|\n",
       "|**Abstract**|            [Abbreviated] Context: Studies of the LMC's internal kinematics have provided a detailed view of its structure, largely by the exquisite proper motion data supplied by Gaia. However, LoS velocities are only available for a small subset of Gaia data, limiting studies of the kinematics perpendicular to the LMC disc plane. Aims: We synergise new SDSS-IV/V LoS velocity measurements with Gaia data, increasing the 5D phase-space sample by almost a factor of three. We interpret and model the vertical structure and kinematics of the LMC disc. Methods: Split our sample into different stellar types. Then examine maps of vertical velocity moments perpendicular to the LMC disc. We interpret our results within three possible scenarios: 1) time-variability in the orientation of the disc symmetry axis; 2) use of an incorrect LMC disc plane orientation; or 3) the presence of warps or twists in the LMC disc. We also present a new method to construct a continuous 3D representation of the disc from spatially-resolved measurements of its viewing angles. Results: Using young stellar populations, we identify a region in the LMC arm with highly negative v_z'; this overlaps spatially with the supershell LMC 4. Our results indicate that: 1) the LMC viewing angles may vary with time, but this cannot explain most of the structure in v_z' maps; 2) when re-deriving the LMC disc plane by minimising the RMS vertical velocity v_z' across the disc, the inclination and line-of-nodes position angle are i ~ 24 degr and \\Omega ~ 327 degr, respectively; 3) we obtain different inclinations for the inner and outer disc regions, and a quadrupolar variation with azimuth in outer the disc. We provide 3D models of the LMC disc shape. Conclusions: The combination of SDSS-IV/V and Gaia data reveal that the LMC disc is not a flat plane in equilibrium, but that the central bar region is tilted relative to a warped outer disc.         |"
      ],
      "text/plain": [
       "[2501.04616] Vertical structure and kinematics of the LMC disc from SDSS/Gaia\n",
       "\tÓ. Jiménez-Arranz, et al. -- incl., <mark>H.-W. Rix</mark>"
      ]
     },
     "metadata": {},
     "output_type": "display_data"
    },
    {
     "data": {
      "text/markdown": [
       "## Failed papers"
      ],
      "text/plain": [
       "<IPython.core.display.Markdown object>"
      ]
     },
     "metadata": {},
     "output_type": "display_data"
    },
    {
     "data": {
      "text/markdown": [
       "\n",
       "|||\n",
       "|---:|:---|\n",
       "| [![arXiv](https://img.shields.io/badge/arXiv-2501.04098-b31b1b.svg)](https://arxiv.org/abs/2501.04098) | **Revisiting the Classics: On the Statistics of Dust Formation in Novae**  |\n",
       "|| A. Chong, et al. -- incl., <mark>F. Walter</mark> |\n",
       "|*Appeared on*| *2025-01-09*|\n",
       "|*Comments*| *23 pages, 58 figures, 1 table, submitted to MNRAS*|\n",
       "|**Abstract**|            While nova eruptions produce some of the most common and dramatic dust formation episodes among astrophysical transients, the demographics of dust-forming novae remain poorly understood. Here, we present a statistical study of dust formation in 40 novae with high-quality optical/IR light curves, quantitatively distinguishing dust-forming from non-dust-forming novae while exploring the properties of the dust events. We find that 50-70% of novae produce dust, significantly higher than previous estimates. Dust-forming novae can be separated from those that do not show dust formation by using the largest redward ($V-K$) colour change from peak visible brightness; ($V-J$) or ($V-H$) offer useful but less sensitive constraints. This makes optical+IR photometry a powerful tool to quantify dust formation in novae. We find that novae detected in GeV $\\gamma$-rays by \\emph{Fermi}-LAT appear to form dust more often than novae not detected by \\emph{Fermi}, implying a possible connection between $\\gamma$-ray producing shocks and dust production. We also find that novae that evolve very quickly ($t_2 < 10$ days) are much less likely to form dust, in agreement with previous findings. We confirm a correlation between $t_2$ and the time of the onset of dust formation (which occurs $\\sim$1 week--3 months after maximum light), but conclude that it is primarily an observational artifact driven by dust formation determining when a nova drops 2 mag below peak. The significant fraction of novae that form dust make them ideal laboratories in our Galactic backyard to tackle the puzzle of dust formation around explosive transients.         |\n",
       "|<p style=\"color:green\"> **ERROR** </p>| <p style=\"color:green\">affiliation error: mpia.affiliation_verifications: 'Heidelberg' keyword not found.</p> |"
      ],
      "text/plain": [
       "<IPython.core.display.Markdown object>"
      ]
     },
     "metadata": {},
     "output_type": "display_data"
    }
   ],
   "source": [
    "import datetime\n",
    "today = str(datetime.date.today())\n",
    "logfile = f\"_build/html/logs/log-{today}.md\"\n",
    "\n",
    "\n",
    "with open(logfile, 'w') as logs:\n",
    "    # Success\n",
    "    logs.write(f'# Arxiv on Deck 2: Logs - {today}\\n\\n')\n",
    "    logs.write(\"\"\"* Arxiv had {0:,d} new papers\\n\"\"\".format(len(new_papers)))\n",
    "    logs.write(\"\"\"    * {0:,d} with possible author matches\\n\\n\"\"\".format(len(candidates)))\n",
    "    logs.write(\"## Sucessful papers\\n\\n\")\n",
    "    display(Markdown(\"## Successful papers\"))\n",
    "    success = [k[0] for k in documents]\n",
    "    for candid in candidates:\n",
    "        if candid['identifier'].split(':')[-1] in success:\n",
    "            display(candid)\n",
    "            logs.write(candid.generate_markdown_text() + '\\n\\n')\n",
    "\n",
    "    ## failed\n",
    "    logs.write(\"## Failed papers\\n\\n\")\n",
    "    display(Markdown(\"## Failed papers\"))\n",
    "    failed = sorted(failed, key=lambda x: x[1])\n",
    "    current_reason = \"\"\n",
    "    for paper, reason in failed:\n",
    "        if 'affiliation' in reason:\n",
    "            color = 'green'\n",
    "        else:\n",
    "            color = 'red'\n",
    "        data = Markdown(\n",
    "                paper.generate_markdown_text() + \n",
    "                f'\\n|<p style=\"color:{color:s}\"> **ERROR** </p>| <p style=\"color:{color:s}\">{reason:s}</p> |'\n",
    "               )\n",
    "        if reason != current_reason:\n",
    "            logs.write(f'### {reason:s} \\n\\n')\n",
    "            current_reason = reason\n",
    "        logs.write(data.data + '\\n\\n')\n",
    "        \n",
    "        # only display here the important errors (all in logs)\n",
    "        # if color in ('red',):\n",
    "        display(data)"
   ]
  },
  {
   "cell_type": "markdown",
   "id": "472d20ee",
   "metadata": {
    "papermill": {
     "duration": 0.004681,
     "end_time": "2025-01-09T04:15:52.564076",
     "exception": false,
     "start_time": "2025-01-09T04:15:52.559395",
     "status": "completed"
    },
    "tags": []
   },
   "source": [
    "## Export documents\n",
    "\n",
    "We now write the .md files and export relevant images"
   ]
  },
  {
   "cell_type": "code",
   "execution_count": 7,
   "id": "d426aed9",
   "metadata": {
    "execution": {
     "iopub.execute_input": "2025-01-09T04:15:52.574653Z",
     "iopub.status.busy": "2025-01-09T04:15:52.574215Z",
     "iopub.status.idle": "2025-01-09T04:15:52.580865Z",
     "shell.execute_reply": "2025-01-09T04:15:52.580323Z"
    },
    "papermill": {
     "duration": 0.012854,
     "end_time": "2025-01-09T04:15:52.581797",
     "exception": false,
     "start_time": "2025-01-09T04:15:52.568943",
     "status": "completed"
    },
    "tags": []
   },
   "outputs": [],
   "source": [
    "def export_markdown_summary(md: str, md_fname:str, directory: str):\n",
    "    \"\"\"Export MD document and associated relevant images\"\"\"\n",
    "    import os\n",
    "    import shutil\n",
    "    import re\n",
    "\n",
    "    if (os.path.exists(directory) and not os.path.isdir(directory)):\n",
    "        raise RuntimeError(f\"a non-directory file exists with name {directory:s}\")\n",
    "\n",
    "    if (not os.path.exists(directory)):\n",
    "        print(f\"creating directory {directory:s}\")\n",
    "        os.mkdir(directory)\n",
    "\n",
    "    fig_fnames = (re.compile(r'\\[Fig.*\\]\\((.*)\\)').findall(md) + \n",
    "                  re.compile(r'\\<img src=\"([^>\\s]*)\"[^>]*/>').findall(md))\n",
    "    print(\"found figures\", fig_fnames)\n",
    "    for fname in fig_fnames:\n",
    "        if 'http' in fname:\n",
    "            # No need to copy online figures\n",
    "            continue\n",
    "        if not os.path.exists(fname):\n",
    "            print(\"file not found\", fname)\n",
    "            continue\n",
    "        print(\"copying \", fname, \"to\", directory)\n",
    "        destdir = os.path.join(directory, os.path.dirname(fname))\n",
    "        destfname = os.path.join(destdir, os.path.basename(fname))\n",
    "        try:\n",
    "            os.makedirs(destdir)\n",
    "        except FileExistsError:\n",
    "            pass\n",
    "        shutil.copy(fname, destfname)\n",
    "    with open(os.path.join(directory, md_fname), 'w') as fout:\n",
    "        fout.write(md)\n",
    "    print(\"exported in \", os.path.join(directory, md_fname))\n",
    "    [print(\"    + \" + os.path.join(directory,fk)) for fk in fig_fnames]"
   ]
  },
  {
   "cell_type": "code",
   "execution_count": 8,
   "id": "014d04a4",
   "metadata": {
    "execution": {
     "iopub.execute_input": "2025-01-09T04:15:52.592249Z",
     "iopub.status.busy": "2025-01-09T04:15:52.591869Z",
     "iopub.status.idle": "2025-01-09T04:15:52.616212Z",
     "shell.execute_reply": "2025-01-09T04:15:52.615564Z"
    },
    "papermill": {
     "duration": 0.030726,
     "end_time": "2025-01-09T04:15:52.617250",
     "exception": false,
     "start_time": "2025-01-09T04:15:52.586524",
     "status": "completed"
    },
    "tags": []
   },
   "outputs": [
    {
     "name": "stdout",
     "output_type": "stream",
     "text": [
      "found figures ['tmp_2501.04518/./figures/moment_maps/HCOp1-0_mom0_merged.png', 'tmp_2501.04518/./figures/moment_maps/N2Hp1-0_mom0.png', 'tmp_2501.04518/./figures/moment_maps/SiO2-1_mom0.png', 'tmp_2501.04518/./figures/moment_maps/NH2D_mom0.png', 'tmp_2501.04518/./figures/rgb_images/DR18_rgb_hcop_8micron_6cm_new.png', 'tmp_2501.04518/./figures/images/DR18_brgamma_h2_diff_fullmap_zoom_sio_n2hp.png', 'tmp_2501.04518/./figures/images/vla_noema_continuum.png']\n",
      "copying  tmp_2501.04518/./figures/moment_maps/HCOp1-0_mom0_merged.png to _build/html/\n",
      "copying  tmp_2501.04518/./figures/moment_maps/N2Hp1-0_mom0.png to _build/html/\n",
      "copying  tmp_2501.04518/./figures/moment_maps/SiO2-1_mom0.png to _build/html/\n",
      "copying  tmp_2501.04518/./figures/moment_maps/NH2D_mom0.png to _build/html/\n",
      "copying  tmp_2501.04518/./figures/rgb_images/DR18_rgb_hcop_8micron_6cm_new.png to _build/html/\n",
      "copying  tmp_2501.04518/./figures/images/DR18_brgamma_h2_diff_fullmap_zoom_sio_n2hp.png to _build/html/\n",
      "copying  tmp_2501.04518/./figures/images/vla_noema_continuum.png to _build/html/\n",
      "exported in  _build/html/2501.04518.md\n",
      "    + _build/html/tmp_2501.04518/./figures/moment_maps/HCOp1-0_mom0_merged.png\n",
      "    + _build/html/tmp_2501.04518/./figures/moment_maps/N2Hp1-0_mom0.png\n",
      "    + _build/html/tmp_2501.04518/./figures/moment_maps/SiO2-1_mom0.png\n",
      "    + _build/html/tmp_2501.04518/./figures/moment_maps/NH2D_mom0.png\n",
      "    + _build/html/tmp_2501.04518/./figures/rgb_images/DR18_rgb_hcop_8micron_6cm_new.png\n",
      "    + _build/html/tmp_2501.04518/./figures/images/DR18_brgamma_h2_diff_fullmap_zoom_sio_n2hp.png\n",
      "    + _build/html/tmp_2501.04518/./figures/images/vla_noema_continuum.png\n",
      "found figures ['tmp_2501.04523/./Figures/RV_plot_time.png', 'tmp_2501.04523/./Figures/RV_plot_phase.png', 'tmp_2501.04523/./Figures/lightcurves/TESS8_transit.png', 'tmp_2501.04523/./Figures/lightcurves/TESS29_transit.png', 'tmp_2501.04523/./Figures/lightcurves/NGTS_transit.png', 'tmp_2501.04523/./Figures/gaia_HRD.png']\n",
      "copying  tmp_2501.04523/./Figures/RV_plot_time.png to _build/html/\n",
      "copying  tmp_2501.04523/./Figures/RV_plot_phase.png to _build/html/\n",
      "copying  tmp_2501.04523/./Figures/lightcurves/TESS8_transit.png to _build/html/\n",
      "copying  tmp_2501.04523/./Figures/lightcurves/TESS29_transit.png to _build/html/\n",
      "copying  tmp_2501.04523/./Figures/lightcurves/NGTS_transit.png to _build/html/\n",
      "copying  tmp_2501.04523/./Figures/gaia_HRD.png to _build/html/\n",
      "exported in  _build/html/2501.04523.md\n",
      "    + _build/html/tmp_2501.04523/./Figures/RV_plot_time.png\n",
      "    + _build/html/tmp_2501.04523/./Figures/RV_plot_phase.png\n",
      "    + _build/html/tmp_2501.04523/./Figures/lightcurves/TESS8_transit.png\n",
      "    + _build/html/tmp_2501.04523/./Figures/lightcurves/TESS29_transit.png\n",
      "    + _build/html/tmp_2501.04523/./Figures/lightcurves/NGTS_transit.png\n",
      "    + _build/html/tmp_2501.04523/./Figures/gaia_HRD.png\n",
      "found figures ['tmp_2501.04587/./figures/scenario_schematic.png', 'tmp_2501.04587/./figures/radial_profiles.png', 'tmp_2501.04587/./figures/hot_cold.png']\n",
      "copying  tmp_2501.04587/./figures/scenario_schematic.png to _build/html/\n",
      "copying  tmp_2501.04587/./figures/radial_profiles.png to _build/html/\n",
      "copying  tmp_2501.04587/./figures/hot_cold.png to _build/html/\n",
      "exported in  _build/html/2501.04587.md\n",
      "    + _build/html/tmp_2501.04587/./figures/scenario_schematic.png\n",
      "    + _build/html/tmp_2501.04587/./figures/radial_profiles.png\n",
      "    + _build/html/tmp_2501.04587/./figures/hot_cold.png\n",
      "found figures ['tmp_2501.04616/./figures/01_LMC_vertical_velocity_maps_eDR3_muzfree.png', 'tmp_2501.04616/./figures/08_Radial_variation_LMC_disc_fitting.png', 'tmp_2501.04616/./figures/09_Azimuthal_radial_variation_LMC_disc_fitting.png']\n",
      "copying  tmp_2501.04616/./figures/01_LMC_vertical_velocity_maps_eDR3_muzfree.png to _build/html/\n",
      "copying  tmp_2501.04616/./figures/08_Radial_variation_LMC_disc_fitting.png to _build/html/\n",
      "copying  tmp_2501.04616/./figures/09_Azimuthal_radial_variation_LMC_disc_fitting.png to _build/html/\n",
      "exported in  _build/html/2501.04616.md\n",
      "    + _build/html/tmp_2501.04616/./figures/01_LMC_vertical_velocity_maps_eDR3_muzfree.png\n",
      "    + _build/html/tmp_2501.04616/./figures/08_Radial_variation_LMC_disc_fitting.png\n",
      "    + _build/html/tmp_2501.04616/./figures/09_Azimuthal_radial_variation_LMC_disc_fitting.png\n"
     ]
    }
   ],
   "source": [
    "for paper_id, md in documents:\n",
    "    export_markdown_summary(md, f\"{paper_id:s}.md\", '_build/html/')"
   ]
  },
  {
   "cell_type": "markdown",
   "id": "f087a0a7",
   "metadata": {
    "papermill": {
     "duration": 0.004772,
     "end_time": "2025-01-09T04:15:52.627198",
     "exception": false,
     "start_time": "2025-01-09T04:15:52.622426",
     "status": "completed"
    },
    "tags": []
   },
   "source": [
    "## Display the papers\n",
    "\n",
    "Not necessary but allows for a quick check."
   ]
  },
  {
   "cell_type": "code",
   "execution_count": 9,
   "id": "fd25f625",
   "metadata": {
    "execution": {
     "iopub.execute_input": "2025-01-09T04:15:52.638007Z",
     "iopub.status.busy": "2025-01-09T04:15:52.637762Z",
     "iopub.status.idle": "2025-01-09T04:15:52.646516Z",
     "shell.execute_reply": "2025-01-09T04:15:52.645948Z"
    },
    "papermill": {
     "duration": 0.015335,
     "end_time": "2025-01-09T04:15:52.647552",
     "exception": false,
     "start_time": "2025-01-09T04:15:52.632217",
     "status": "completed"
    },
    "scrolled": false,
    "tags": []
   },
   "outputs": [
    {
     "data": {
      "text/markdown": [
       "<div class=\"macros\" style=\"visibility:hidden;\">\n",
       "$\\newcommand{\\ensuremath}{}$\n",
       "$\\newcommand{\\xspace}{}$\n",
       "$\\newcommand{\\object}[1]{\\texttt{#1}}$\n",
       "$\\newcommand{\\farcs}{{.}''}$\n",
       "$\\newcommand{\\farcm}{{.}'}$\n",
       "$\\newcommand{\\arcsec}{''}$\n",
       "$\\newcommand{\\arcmin}{'}$\n",
       "$\\newcommand{\\ion}[2]{#1#2}$\n",
       "$\\newcommand{\\textsc}[1]{\\textrm{#1}}$\n",
       "$\\newcommand{\\hl}[1]{\\textrm{#1}}$\n",
       "$\\newcommand{\\footnote}[1]{}$\n",
       "$\\newcommand{\\kms}{\\mbox{km s^{-1}}}$\n",
       "$\\newcommand{\\hi}{H{\\sc i}}$\n",
       "$\\newcommand{\\hii}{H{\\sc ii}}$</div>\n",
       "\n",
       "\n",
       "\n",
       "<div id=\"title\">\n",
       "\n",
       "# The Cygnus Allscale Survey of Chemistry and Dynamical Environments: CASCADE: IV. Unveiling the hidden structures in DR18\n",
       "\n",
       "</div>\n",
       "<div id=\"comments\">\n",
       "\n",
       "[![arXiv](https://img.shields.io/badge/arXiv-2501.04518-b31b1b.svg)](https://arxiv.org/abs/2501.04518)<mark>Appeared on: 2025-01-09</mark> -  _25 pages, 21 figures, and 4 tables. Accepted for publication in A&A_\n",
       "\n",
       "</div>\n",
       "<div id=\"authors\">\n",
       "\n",
       "W.-J. Kim, et al. -- incl., <mark>H. Beuther</mark>, <mark>D. Semenov</mark>\n",
       "\n",
       "</div>\n",
       "<div id=\"abstract\">\n",
       "\n",
       "**Abstract:** The Cygnus-X complex is a massive (a few $10^6$ M $_{\\odot}$ molecular gas mass), nearby (1.4 kpc) star-forming region with several OB associations. Of these, Cyg OB2 is the largest,  with at least 169 OB stars. DR18 is the largest globule near the OB2 association, making it a perfect target for investigating the influence of ultraviolet radiation on molecular clouds. By analyzing emission from different molecular species, we aim to study the molecular gas structures toward DR18 using high angular-resolution molecular line observations. As part of the Cygnus Allscale Survey of Chemistry and Dynamical Environments (CASCADE) program,  we carried out 3.6 millimeter (mm) continuum and spectral line high-resolution observations ( $\\sim$ 3 -- 4 $\"$ ) toward DR18, covering several molecular species (e.g., HCN, HNC, $\\ce{H2CO}$ , $\\ce{N2H+}$ , SiO, $\\ce{C2H}$ , deuterated species, etc.) with the Northern Extended Millimeter Array (NOEMA) and the Institut de Radioastronomie Millimétrique (IRAM) 30 m telescope. In addition, multi-wavelength archival datasets from mid-infrared (MIR) to centimeter (cm) wavelengths were used to provide a comprehensive analysis of the region. The spectral index analysis shows significant contamination of the 3.6  mm continuum by free-free emission from ionized gas. A comparison of the 3.6 mm and 6 cm continuum emission confirms that a B2 star (DR18-05) shapes the cometary $\\hii$ region in the DR18 cavity, with ionized gas escaping toward the OB2 association. On the other hand, the extended 3.6 mm and 6 cm continuum emission are likely to trace photoevaporating ionized gas from ultraviolet radiation from the Cyg OB2 association --  not from DR18-05. To study the feedback of the B2 star and the OB2 association on surrounding molecular regions, we analyzed the $\\ce{HCO+}$ , HCN, HNC, $\\ce{N2H+}$ , and SiO emission lines. The shell structure around DR18-05 indicates photodissociation regions (PDRs) formed by the expanding $\\hii$ region and photo-erosion from DR18-05 and OB2 stars. We also identified 18 compact cores with $\\ce{N2H+}$ emission, half of which are gravitationally bound (virial parameter, $\\alpha_{\\rm vir}$ , $\\lesssim$ 2.0), and mostly located in colder regions ( $T_{\\rm HCN/HNC}$ $<$ 30 K) behind the PDRs. The SiO emission is found only in PDRs, with narrow-line widths ( $\\sim$ 0.8 -- 2.0 $\\kms$ ) and lower abundances (X(SiO) $\\sim 5\\times10^{-11} - 1 \\times10^{-10}$ ). Comparing with the UV irradiated shock models, we suggest that the SiO emission partially encompassing the $\\hii$ region arises from the molecular gas region, marginally compressed by low-velocity shocks with $\\sim$ 5 $\\kms$ , irradiated by external UV radiation ( $G_{\\rm 0} \\sim 10^2 - 10^3$ ), as they traverse through a medium with $n_{\\rm H} \\sim 10^4$ to $10^5$ cm $^{-3}$ . These shocks can be generated by the initial expansion of the $\\hii$ region and potentially by stellar winds.\n",
       "\n",
       "</div>\n",
       "\n",
       "<div id=\"div_fig1\">\n",
       "\n",
       "<img src=\"tmp_2501.04518/./figures/moment_maps/HCOp1-0_mom0_merged.png\" alt=\"Fig15.1\" width=\"25%\"/><img src=\"tmp_2501.04518/./figures/moment_maps/N2Hp1-0_mom0.png\" alt=\"Fig15.2\" width=\"25%\"/><img src=\"tmp_2501.04518/./figures/moment_maps/SiO2-1_mom0.png\" alt=\"Fig15.3\" width=\"25%\"/><img src=\"tmp_2501.04518/./figures/moment_maps/NH2D_mom0.png\" alt=\"Fig15.4\" width=\"25%\"/>\n",
       "\n",
       "**Figure 15. -** Velocity-integrated intensity maps of \\ce{HCO+}(6 $\\kms$ to 15.6 $\\kms$), \\ce{N2H+}($-$1.2 $\\kms$ to 17.2 $\\kms$ spanning all the hfs transitions) in the upper row and SiO (8 $\\kms$ to 10 $\\kms$) and \\ce{NH2D}(0 $\\kms$ to 15.2 $\\kms$ covering all the hfs transitions) in the lower row. The black contours represent the GBT+NOEMA combined 3.6 mm continuum emission, and the bright green marker indicates the position of the ionizing source, DR18-05. The contour levels of the mm continuum are the same as shown in Fig. \\ref{fig:mm_cm_images}. The horizontal white scale bar has a size of 0.1 pc at a given distance of 1.4 kpc. The beam of the maps of each species is displayed on the left corner of each image panel.  (*fig:mom0_maps*)\n",
       "\n",
       "</div>\n",
       "<div id=\"div_fig2\">\n",
       "\n",
       "<img src=\"tmp_2501.04518/./figures/rgb_images/DR18_rgb_hcop_8micron_6cm_new.png\" alt=\"Fig17.1\" width=\"50%\"/><img src=\"tmp_2501.04518/./figures/images/DR18_brgamma_h2_diff_fullmap_zoom_sio_n2hp.png\" alt=\"Fig17.2\" width=\"50%\"/>\n",
       "\n",
       "**Figure 17. -** Different emission distributions toward DR18. _Left_: Three-color composite image of DR18; \\ce{HCO+} emission in red, 8 $\\mu$m emission in green, and the GLOSTAR 6 cm radio continuum emission in blue. The 6 cm emission represents a combination VLA D- and B-configuration data from the GLOSTAR survey. The synthesized beam size of the GLOSTAR data is $4\"$,  comparable to that of NOEMA data ($\\sim 3-4\"$). The pixel size,  of the _Spitzer_/IRAC 8 $\\mu$m data is $0\\rlap{.}\"6$. The black dashed lines indicate the cuts for intensity profiles of different emission tracers, presented in Fig. \\ref{fig:intensity_profile}. The white rectangles represent the areas of the East and North shells, as well as the Ridge. _Right_: Flux difference image of Br$\\gamma$ and \\ce{H2} 1--0 $S$(1) emission lines obtained from [Comerón, Schneider and Djupvik (2022)](). The black and yellow contours show the 5$\\sigma$ level of \\ce{N2H+} velocity-integrated intensity and a 3.0$\\sigma$ level of SiO velocity-integrated intensity, respectively. In both images, the bright green star indicates DR18-05, the ionizing source in DR18.  (*fig:dr18_pdr_image*)\n",
       "\n",
       "</div>\n",
       "<div id=\"div_fig3\">\n",
       "\n",
       "<img src=\"tmp_2501.04518/./figures/images/vla_noema_continuum.png\" alt=\"Fig13\" width=\"100%\"/>\n",
       "\n",
       "**Figure 13. -** Millimeter (left) and centimeter (right) continuum emission maps. The mm continuum emission map represents the combination of the GBT MUSTANG2 and NOEMA data sets, whereas the cm continuum emission map is generated by combining the VLA D and B configuration observations. The FWHM synthetic beams of these maps are displayed in the lower left corners. The contour levels of the mm continuum emission are 0.46, 0.96, 1.38, 1.80, 4.14, 5.33, and 6.51 mJy beam$^{-1}$, whereas for the cm emission, the levels are 0.35, 0.70, 1.05, 1.40, 1.75, 2.10, 2.45, 2.80, 3.15, and 3.50 mJy beam$^{-1}$. The star symbol indicates the position of the B2 star. (*fig:mm_cm_images*)\n",
       "\n",
       "</div><div id=\"qrcode\"><img src=https://api.qrserver.com/v1/create-qr-code/?size=100x100&data=\"https://arxiv.org/abs/2501.04518\"></div>"
      ],
      "text/plain": [
       "<IPython.core.display.Markdown object>"
      ]
     },
     "metadata": {},
     "output_type": "display_data"
    },
    {
     "data": {
      "text/markdown": [
       "<div class=\"macros\" style=\"visibility:hidden;\">\n",
       "$\\newcommand{\\ensuremath}{}$\n",
       "$\\newcommand{\\xspace}{}$\n",
       "$\\newcommand{\\object}[1]{\\texttt{#1}}$\n",
       "$\\newcommand{\\farcs}{{.}''}$\n",
       "$\\newcommand{\\farcm}{{.}'}$\n",
       "$\\newcommand{\\arcsec}{''}$\n",
       "$\\newcommand{\\arcmin}{'}$\n",
       "$\\newcommand{\\ion}[2]{#1#2}$\n",
       "$\\newcommand{\\textsc}[1]{\\textrm{#1}}$\n",
       "$\\newcommand{\\hl}[1]{\\textrm{#1}}$\n",
       "$\\newcommand{\\footnote}[1]{}$\n",
       "$\\newcommand{\\kepler}{{\\it Kepler}}$\n",
       "$\\newcommand{\\corot}{{\\it CoRoT}}$\n",
       "$\\newcommand{\\TESS}{{\\it TESS}}$\n",
       "$\\newcommand{\\tess}{{\\it TESS}}$\n",
       "$\\newcommand{\\PLATO}{{\\it PLATO}}$\n",
       "$\\newcommand{\\plato}{{\\it PLATO}}$\n",
       "$\\newcommand{\\gaia}{{\\it Gaia}}$\n",
       "$\\newcommand{\\GAIA}{{\\it Gaia}}$\n",
       "$\\newcommand{\\twomass}{{\\it 2MASS}}$\n",
       "$\\newcommand{\\JWST}{{\\it JWST}}$\n",
       "$\\newcommand{\\jwst}{{\\it JWST}}$\n",
       "$\\newcommand{\\NGTS}{{\\it NGTS}}$\n",
       "$\\newcommand{\\ngts}{{\\it NGTS}}$\n",
       "$\\newcommand{\\LSO}{La Silla Observatory}$\n",
       "$\\newcommand{\\paranal}{{Paranal Observatory}}$\n",
       "$\\newcommand{\\Spitzer}{\\textit{Spitzer}}$\n",
       "$\\newcommand{\\HARPS}{{\\it HARPS}}$\n",
       "$\\newcommand{\\harps}{{\\it HARPS}}$\n",
       "$\\newcommand{\\Minerva}{{\\it MINERVA-Australis}}$\n",
       "$\\newcommand{\\minerva}{{\\it MINERVA-Australis}}$\n",
       "$\\newcommand{\\iSHELL}{{\\it iSHELL}}$\n",
       "$\\newcommand{\\ishell}{{\\it iSHELL}}$\n",
       "$\\newcommand{\\FEROS}{{\\it FEROS}}$\n",
       "$\\newcommand{\\feros}{{\\it FEROS}}$\n",
       "$\\newcommand{\\CORALIE}{{\\it CORALIE}}$\n",
       "$\\newcommand{\\coralie}{{\\it CORALIE}}$\n",
       "$\\newcommand{\\Ktwo}{K2}$\n",
       "$\\newcommand{\\hires}{{\\it HIRES}}$\n",
       "$\\newcommand{\\HiRES}{{\\it HIRES}}$\n",
       "$\\newcommand{\\HIRES}{{\\it HIRES}}$\n",
       "$\\newcommand{\\pfs}{{\\it PFS}}$\n",
       "$\\newcommand{\\PFS}{{\\it PFS}}$\n",
       "$\\newcommand{\\MEarth}{{\\it MEarth}}$\n",
       "$\\newcommand{\\MEarthSouth}{{\\it MEarth-South}}$\n",
       "$\\newcommand{\\astep}{{\\it ASTEP}}$\n",
       "$\\newcommand{\\ASTEP}{{\\it ASTEP}}$\n",
       "$\\newcommand{\\lco}{{\\it LCOGT}}$\n",
       "$\\newcommand{\\lcogt}{{\\it LCOGT}}$\n",
       "$\\newcommand{\\LCO}{{\\it LCOGT}}$\n",
       "$\\newcommand{\\LCOGT}{{\\it LCOGT}}$\n",
       "$\\newcommand{\\waspsouth}{{\\it WASP-South}}$\n",
       "$\\newcommand{\\wasp}{{\\it WASP}}$\n",
       "$\\newcommand{\\WASP}{{\\it WASP}}$\n",
       "$\\newcommand{\\kelt}{{\\it KELT}}$\n",
       "$\\newcommand{\\hatnet}{{\\it HATNet}}$\n",
       "$\\newcommand{\\hatsouth}{{\\it HAT-South}}$\n",
       "$\\newcommand{\\cheops}{{\\it CHEOPS}}$\n",
       "$\\newcommand{\\CHEOPS}{{\\it CHEOPS}}$\n",
       "$\\newcommand{\\Keck}{{\\it Keck}}$\n",
       "$\\newcommand{\\keck}{{\\it Keck}}$\n",
       "$\\newcommand{\\Gemini}{{\\it Gemini}}$\n",
       "$\\newcommand{\\gemini}{{\\it Gemini}}$\n",
       "$\\newcommand{\\VLT}{{\\it VLT}}$\n",
       "$\\newcommand{\\vlt}{{\\it VLT}}$\n",
       "$\\newcommand{\\SOAR}{{\\it SOAR}}$\n",
       "$\\newcommand{\\soar}{{\\it SOAR}}$\n",
       "$\\newcommand{\\tres}{{\\it TRES}}$\n",
       "$\\newcommand{\\TRES}{{\\it TRES}}$\n",
       "$\\newcommand{\\kesprint}{{\\it KESPRINT}}$\n",
       "$\\newcommand{\\KESPRINT}{{\\it KESPRINT}}$\n",
       "$\\newcommand{\\ucac}{{\\it UCAC4}}$\n",
       "$\\newcommand{\\apass}{{\\it APASS}}$\n",
       "$\\newcommand{\\saao}{{\\it SAAO}}$\n",
       "$\\newcommand{\\SAAO}{{\\it SAAO}}$\n",
       "$\\newcommand{\\eulercam}{{\\it EulerCam}}$\n",
       "$\\newcommand{\\trappist}{{\\it TRAPPIST}}$\n",
       "$\\newcommand{\\TRAPPIST}{{\\it TRAPPIST}}$\n",
       "$\\newcommand{\\elsauce}{{\\it El Sauce}}$\n",
       "$\\newcommand{\\speculoos}{{\\it SPECULOOS}}$\n",
       "$\\newcommand{\\nirps}{{\\it NIRPS}}$\n",
       "$\\newcommand{\\espresso}{{\\it ESPRESSO}}$\n",
       "$\\newcommand{\\kms}{km s^{-1}}$\n",
       "$\\newcommand{\\ms}{m s^{-1}}$\n",
       "$\\newcommand{\\msy}{m s^{-1} yr^{-1}}$\n",
       "$\\newcommand{\\masy}{mas yr^{-1}}$\n",
       "$\\newcommand{\\wm}{W m^{-2}}$\n",
       "$\\newcommand{\\tc}{T\\textsubscript{\\textit{c}}}$\n",
       "$\\newcommand{\\texp}{\\mbox{t_{exp}}}$\n",
       "$\\newcommand{\\mpl}{\\mbox{M_{p}}}$\n",
       "$\\newcommand{\\rpl}{\\mbox{R\\textsubscript{p}}}$\n",
       "$\\newcommand{\\mstar}{\\mbox{M_{\\star}}}$\n",
       "$\\newcommand{\\rstar}{\\mbox{R_{\\star}}}$\n",
       "$\\newcommand{\\lstar}{\\mbox{L_{\\star}}}$\n",
       "$\\newcommand{\\mjup}{\\mbox{M\\textsubscript{J}}}$\n",
       "$\\newcommand{\\rjup}{\\mbox{R\\textsubscript{J}}}$\n",
       "$\\newcommand{\\msun}{\\mbox{M_{\\odot}}}$\n",
       "$\\newcommand{\\rsun}{\\mbox{R_{\\odot}}}$\n",
       "$\\newcommand{\\lsun}{\\mbox{L_{\\odot}}}$\n",
       "$\\newcommand{\\ssun}{\\mbox{S_{\\odot}}}$\n",
       "$\\newcommand{\\Lsun}{\\mbox{L_{\\odot}}}$\n",
       "$\\newcommand{\\Msun}{\\mbox{M_{\\odot}}}$\n",
       "$\\newcommand{\\Rsun}{\\mbox{R_{\\odot}}}$\n",
       "$\\newcommand{\\Ssun}{\\mbox{S_{\\odot}}}$\n",
       "$\\newcommand{\\rearth}{R_{\\oplus}}$\n",
       "$\\newcommand{\\mearth}{M_{\\oplus}}$\n",
       "$\\newcommand{\\gccc}{g cm^{-3}}$\n",
       "$\\newcommand{\\ergscm}{erg s^{-1}cm^{-2}}$\n",
       "$\\newcommand{\\teff}{T\\textsubscript{eff}}$\n",
       "$\\newcommand{\\tmag}{T\\textsubscript{mag}}$\n",
       "$\\newcommand{\\teq}{T_{\\rm eq}}$\n",
       "$\\newcommand{\\logg}{\\log g}$\n",
       "$\\newcommand{\\microm}{\\mum}$\n",
       "$\\newcommand{\\mone}{\\mbox{M_\\text{A}}}$\n",
       "$\\newcommand{\\rone}{\\mbox{R_\\text{A}}}$\n",
       "$\\newcommand{\\mtwo}{\\mbox{M_\\text{B}}}$\n",
       "$\\newcommand{\\rtwo}{\\mbox{R_\\text{B}}}$\n",
       "$\\newcommand{\\vsini}{v \\sin i_\\star}$\n",
       "$\\newcommand{\\vrad}{v_{\\rm rad}}$\n",
       "$\\newcommand{\\vmic}{v_{\\rm mic}}$\n",
       "$\\newcommand{\\vmac}{v_{\\rm mac}}$\n",
       "$\\newcommand{\\dex}{\\rm dex}$\n",
       "$\\newcommand{\\met}{[M/H]}$\n",
       "$\\newcommand{\\feh}{[Fe/H]}$\n",
       "$\\newcommand{\\mgh}{[Mg/H]}$\n",
       "$\\newcommand{\\sih}{[Si/H]}$\n",
       "$\\newcommand{\\ch}{[C/H]}$\n",
       "$\\newcommand{\\oh}{[O/H]}$\n",
       "$\\newcommand{\\mdot}{\\.{M}}$\n",
       "$\\newcommand{\\msunyr}{M_{\\odot} yr^{-1}}$\n",
       "$\\newcommand{\\MJ}{M_{J}}$\n",
       "$\\newcommand{\\RJ}{R_{J}}$\n",
       "$\\newcommand{\\halpha}{H\\alpha}$\n",
       "$\\newcommand{\\hbeta}{H\\beta}$\n",
       "$\\newcommand{\\sii}{[S {\\sc II}] }$\n",
       "$\\newcommand{\\oii}{[O {\\sc I}] }$\n",
       "$\\newcommand{\\oiii}{[O {\\sc III}] }$\n",
       "$\\newcommand{\\oi}{[O {\\sc i}] }$\n",
       "$\\newcommand{\\cai}{Ca {\\sc I} }$\n",
       "$\\newcommand{\\caii}{[Ca {\\sc II}] }$\n",
       "$\\newcommand{\\feii}{[Fe {\\sc II}] }$\n",
       "$\\newcommand{\\fei}{[Fe {\\sc I}] }$\n",
       "$\\newcommand{\\nii}{[N {\\sc II}] }$\n",
       "$\\newcommand{\\mgi}{Mg {\\sc I} }$\n",
       "$\\newcommand{\\nai}{[Na {\\sc I}]}$\n",
       "$\\newcommand{\\msd}{m~s^{-1}~d^{-1}}$\n",
       "$\\newcommand{\\gc}{g~cm^{-3}}$\n",
       "$\\newcommand{\\lgr}{\\log (R^\\prime_{HK})}$\n",
       "$\\newcommand{\\lgt}{\\log~t}$\n",
       "$\\newcommand{\\logrhk}{log R^\\prime_\\mathrm{HK}}$\n",
       "$\\newcommand{\\tiara}{\\texttt{TIaRA}}$\n",
       "$\\newcommand{\\TICID}{TIC 238060327}$\n",
       "$\\newcommand{\\OBJID}{\\ngts-EB-7}$\n",
       "$\\newcommand{\\logrhkval}{-5.12\\pm0.17}$\n",
       "$\\newcommand{\\secondarydurtot}{12.7\\pm0.2}$\n",
       "$\\newcommand{\\secondarydurfull}{10.6\\pm0.2}$\n",
       "$\\newcommand{\\Tnoughtocc}{2459503.5\\pm0.1}$\n",
       "$\\newcommand{\\phinoughtocc}{0.0900\\pm0.0006}$\n",
       "$\\newcommand{\\MBMsun}{0.096^{+0.003}_{-0.004}}$\n",
       "$\\newcommand{\\MBMjup}{102^{+4}_{-5}}$\n",
       "$\\newcommand{\\apodistance}{1.13\\pm0.06}$\n",
       "$\\newcommand{\\peridistance}{0.189\\pm0.009}$\n",
       "$\\newcommand{\\hostteff}{5770\\pm110}$\n",
       "$\\newcommand{\\hostlogg}{4.17\\pm0.15}$\n",
       "$\\newcommand{\\hostmet}{0.26\\pm0.12}$\n",
       "$\\newcommand{\\hostvsini}{2.7\\pm0.8}$\n",
       "$\\newcommand{\\hostrad}{1.45^{+0.07}_{-0.06}}$\n",
       "$\\newcommand{\\isohostmass}{1.13^{+0.06}_{-0.07}}$\n",
       "$\\newcommand{\\hostage}{10\\pm1}$\n",
       "$\\newcommand{\\alles}{\\texttt{allesfitter}}$\n",
       "$\\newcommand{\\paws}{\\texttt{PAWS}}$\n",
       "$\\newcommand{\\ariadne}{\\texttt{astroARIADNE}}$\n",
       "$\\newcommand{\\specmatch}{\\texttt{specmatch-emp}}$\n",
       "$\\newcommand{\\isochrones}{\\texttt{isochrones}}$\n",
       "$\\newcommand{\\thebibliography}{\\DeclareRobustCommand{\\VAN}[3]{##3}\\VANthebibliography}$</div>\n",
       "\n",
       "\n",
       "\n",
       "<div id=\"title\">\n",
       "\n",
       "# $\\OBJID$, an eccentric, long-period, low-mass eclipsing binary\n",
       "\n",
       "</div>\n",
       "<div id=\"comments\">\n",
       "\n",
       "[![arXiv](https://img.shields.io/badge/arXiv-2501.04523-b31b1b.svg)](https://arxiv.org/abs/2501.04523)<mark>Appeared on: 2025-01-09</mark> -  _Main body: 14 pages, 6 figures, 5 tables. Appendices: 7 pages, 5 figures, 5 tables_\n",
       "\n",
       "</div>\n",
       "<div id=\"authors\">\n",
       "\n",
       "T. Rodel, et al. -- incl., <mark>J. Eberhardt</mark>, <mark>T. Henning</mark>\n",
       "\n",
       "</div>\n",
       "<div id=\"abstract\">\n",
       "\n",
       "**Abstract:** Despite being the most common types of stars in the Galaxy, the physical properties of late M dwarfs are often poorly constrained. A trend of radius inflation compared to evolutionary models has been observed for earlier type M dwarfs in eclipsing binaries, possibly caused by magnetic activity. It is currently unclear whether this trend also extends to later type M dwarfs below the convective boundary. This makes the discovery of lower-mass, fully convective, M dwarfs in eclipsing binaries valuable for testing evolutionary models – especially in longer-period binaries where tidal interaction between the primary and secondary is negligible. With this context, we present the discovery of the $\\OBJID$ AB system, an eclipsing binary containing a late M dwarf secondary and an evolved G-type primary star. The secondary star has a radius of $\\BRcompanionRsun$ $\\rsun$ , a mass of $\\MBMsun$ $\\msun$ and follows a highly eccentric (e= $\\Be$ ) orbit every $\\Bperiod$ days. This makes $\\OBJID$ AB the third longest-period eclipsing binary system with a secondary smaller than 200 $\\mjup$ with the mass and radius constrained to better than 5 \\% . In addition, $\\OBJID$ is situated near the centre of the proposed LOPS2 southern field of the upcoming $\\plato$ mission, allowing for detection of the secondary eclipse and measurement of the companion's temperature. With its long-period and well-constrained physical properties - $\\OBJID$ B will make a valuable addition to the sample of M dwarfs in eclipsing binaries and help in determining accurate empirical mass/radius relations for later M dwarf stars.\n",
       "\n",
       "</div>\n",
       "\n",
       "<div id=\"div_fig1\">\n",
       "\n",
       "<img src=\"tmp_2501.04523/./Figures/RV_plot_time.png\" alt=\"Fig2.1\" width=\"50%\"/><img src=\"tmp_2501.04523/./Figures/RV_plot_phase.png\" alt=\"Fig2.2\" width=\"50%\"/>\n",
       "\n",
       "**Figure 2. -** Radial velocity measurements of $\\OBJID$.Radial velocity measurements of $\\OBJID$. Data points from $\\coralie$ are denoted with a black circle, $\\harps$ is shown with a blue square and $\\feros$ with grey triangles. The median fitted RV model is also overplotted in red. The top panel shows the data while the bottom shows the residuals after subtracting the best model fit. Subfigure **(a)** shows the data plotted versus time while **(b)** shows the same data as a function of orbital phase.Radial velocities as a function of time.Radial velocities after phase-folding on the orbital period of \\Bperiod days. (*fig:RV_plot*)\n",
       "\n",
       "</div>\n",
       "<div id=\"div_fig2\">\n",
       "\n",
       "<img src=\"tmp_2501.04523/./Figures/lightcurves/TESS8_transit.png\" alt=\"Fig1.1\" width=\"33%\"/><img src=\"tmp_2501.04523/./Figures/lightcurves/TESS29_transit.png\" alt=\"Fig1.2\" width=\"33%\"/><img src=\"tmp_2501.04523/./Figures/lightcurves/NGTS_transit.png\" alt=\"Fig1.3\" width=\"33%\"/>\n",
       "\n",
       "**Figure 1. -** Transit lightcurves of $\\OBJID$ normalised to the out-of-transit flux levels. Each panel shows the median transit model (see Section \\ref{section:allesfitter}) as a solid red line. The transit data plotted is shown as black square markers with errorbars. The top panel of each subfigure shows the data and model while the lower panel of each shows the residuals after the model has been subtracted from the observed data.$\\tess$ Sector 8 transit.$\\tess$ Sector 29 transit.$\\ngts$ transit. (*fig:transits*)\n",
       "\n",
       "</div>\n",
       "<div id=\"div_fig3\">\n",
       "\n",
       "<img src=\"tmp_2501.04523/./Figures/gaia_HRD.png\" alt=\"Fig3\" width=\"100%\"/>\n",
       "\n",
       "**Figure 3. -** $\\gaia$ DR3 Hertzsprung Russell diagram with the position of $\\OBJID$ A highlighted with a black star symbol. $\\gaia$ BP-RP colour is plotted against absolute magnitude in the G band for all stars in the crossmatched SPOC FFI sample described in \\protect[Doyle, et. al (2024)](https://ui.adsabs.harvard.edu/abs/2024MNRAS.529.1802D). The position of $\\OBJID$ A shown is consistent with a star beginning to move off the main sequence. (*fig:gaia_HRD*)\n",
       "\n",
       "</div><div id=\"qrcode\"><img src=https://api.qrserver.com/v1/create-qr-code/?size=100x100&data=\"https://arxiv.org/abs/2501.04523\"></div>"
      ],
      "text/plain": [
       "<IPython.core.display.Markdown object>"
      ]
     },
     "metadata": {},
     "output_type": "display_data"
    },
    {
     "data": {
      "text/markdown": [
       "<div class=\"macros\" style=\"visibility:hidden;\">\n",
       "$\\newcommand{\\ensuremath}{}$\n",
       "$\\newcommand{\\xspace}{}$\n",
       "$\\newcommand{\\object}[1]{\\texttt{#1}}$\n",
       "$\\newcommand{\\farcs}{{.}''}$\n",
       "$\\newcommand{\\farcm}{{.}'}$\n",
       "$\\newcommand{\\arcsec}{''}$\n",
       "$\\newcommand{\\arcmin}{'}$\n",
       "$\\newcommand{\\ion}[2]{#1#2}$\n",
       "$\\newcommand{\\textsc}[1]{\\textrm{#1}}$\n",
       "$\\newcommand{\\hl}[1]{\\textrm{#1}}$\n",
       "$\\newcommand{\\footnote}[1]{}$</div>\n",
       "\n",
       "\n",
       "\n",
       "<div id=\"title\">\n",
       "\n",
       "# MINDS. The influence of outer dust disc structure on the volatile delivery to the inner disc\n",
       "\n",
       "</div>\n",
       "<div id=\"comments\">\n",
       "\n",
       "[![arXiv](https://img.shields.io/badge/arXiv-2501.04587-b31b1b.svg)](https://arxiv.org/abs/2501.04587)<mark>Appeared on: 2025-01-09</mark> -  _Accepted for publication in A&A. 29 pages, 12 figures and 10 tables_\n",
       "\n",
       "</div>\n",
       "<div id=\"authors\">\n",
       "\n",
       "D. Gasman, et al. -- incl., <mark>T. Henning</mark>, <mark>G. Perotti</mark>, <mark>K. Schwarz</mark>\n",
       "\n",
       "</div>\n",
       "<div id=\"abstract\">\n",
       "\n",
       "**Abstract:** The Atacama Large Millimeter/submillimeter Array (ALMA) has revealed that the millimetre dust structures of protoplanetary discs are extremely diverse, ranging from small and compact dust discs to large discs with multiple rings and gaps. It has been proposed that the strength of $\\ce{H2O}$ emission in the inner disc particularly depends on the influx of icy pebbles from the outer disc, a process that would correlate with the outer dust disc radius, and that could be prevented by pressure bumps. Additionally, the dust disc structure should also influence the emission of other gas species in the inner disc. Since terrestrial planets likely form in the inner disc regions, understanding their composition is of interest. This work aims to assess the influence of pressure bumps on the inner disc's molecular reservoirs. The presence of a dust gap, and potentially giant planet formation farther out in the disc, may influence the composition of the inner disc, and thus the building blocks of terrestrial planets. Using the improved sensitivity and spectral resolution of the Mid-InfraRed Instrument's (MIRI) Medium Resolution Spectrometer (MRS) on the _James Webb_ Space Telescope ( _JWST_ ) compared to _Spitzer_ , we compared the observational emission properties of $\\ce{H2O}$ , $\\ce{HCN}$ , $\\ce{C2H2}$ , and $\\ce{CO2}$ with the outer dust disc structure from ALMA observations, in eight discs with confirmed gaps in ALMA observations, and two discs with gaps of tens of astronomical units in width, around stars with $M_\\star \\geq 0.45M_{\\odot}$ . We used new visibility plane fits of the ALMA data to determine the outer dust disc radius and identify substructures in the discs. We find that the presence of a dust gap does not necessarily result in weak $\\ce{H2O}$ emission. Furthermore, the relative lack of colder $\\ce{H2O}$ -emission seems to go hand in hand with elevated emission from carbon-bearing species. Of the discs that show significant substructure within the $\\ce{CO}$ and $\\ce{CH4}$ snowlines, most show detectable emission from the carbon-bearing species. The discs with cavities and extremely wide gaps appear to behave as a somewhat separate group, with stronger cold $\\ce{H2O}$ emission and weak warm $\\ce{H2O}$ emission. We conclude that fully blocking radial dust drift from the outer disc seems difficult to achieve, even for discs with very wide gaps or cavities, which can still show significant cold $\\ce{H2O}$ emission. However, there does seem to be a dichotomy between discs that show a strong cold $\\ce{H2O}$ excess and ones that show strong emission from $\\ce{HCN}$ and $\\ce{C2H2}$ . Better constraints on the influence of the outer dust disc structure and inner disc composition require more information on substructure formation timescales and disc ages, along with the importance of trapping of (hyper)volatiles like CO and $\\ce{CO2}$ into more strongly bound ices like $\\ce{H2O}$ and chemical transformation of CO into less volatile species.\n",
       "\n",
       "</div>\n",
       "\n",
       "<div id=\"div_fig1\">\n",
       "\n",
       "<img src=\"tmp_2501.04587/./figures/scenario_schematic.png\" alt=\"Fig8\" width=\"100%\"/>\n",
       "\n",
       "**Figure 8. -** Emission properties of the inner disc based on the modelling works by \\citet{ref:21KaPiKr}, \\citet{ref:23KaPiKr}, \\citet{ref:24MaSaBi}, \\citet{ref:24LiBiHe}, and \\citet{ref:24SeVlDi}. (*fig:scenarios*)\n",
       "\n",
       "</div>\n",
       "<div id=\"div_fig2\">\n",
       "\n",
       "<img src=\"tmp_2501.04587/./figures/radial_profiles.png\" alt=\"Fig6\" width=\"100%\"/>\n",
       "\n",
       "**Figure 6. -** Radial profiles of the disc sample based on the analysis in the image (black line) and visibility plane (grey line). The snowline estimates of \\ce{H2O}, \\ce{CO2}, \\ce{CH4}, and \\ce{CO} are indicated by the coloured areas. The minimum distance from the star that can be imaged, based on half the beam radius, is indicated by the hatched area. The $R_\\text{gap}$, or the location of the innermost detected local minimum, is indicated by the vertical dotted line. The discs are organised from strongest \\ce{H2O}/$L_\\text{acc}^{0.6}$(top left) to weakest (bottom right), with the two (pre-)transition discs in the bottom row. (*fig:radial_profiles*)\n",
       "\n",
       "</div>\n",
       "<div id=\"div_fig3\">\n",
       "\n",
       "<img src=\"tmp_2501.04587/./figures/hot_cold.png\" alt=\"Fig1\" width=\"100%\"/>\n",
       "\n",
       "**Figure 1. -** Average of integrated line fluxes of warm (top, orange) and cold (middle, blue) \\ce{H2O} gas, and their ratio (bottom, black), plotted against the outer dust disc radius. The PCCs and p values for these log-log scatter plots are given in the panels, and the corresponding trend is indicated by the dotted black line. Upper and lower limits are indicated by triangles. (*fig:water_radius_corr*)\n",
       "\n",
       "</div><div id=\"qrcode\"><img src=https://api.qrserver.com/v1/create-qr-code/?size=100x100&data=\"https://arxiv.org/abs/2501.04587\"></div>"
      ],
      "text/plain": [
       "<IPython.core.display.Markdown object>"
      ]
     },
     "metadata": {},
     "output_type": "display_data"
    },
    {
     "data": {
      "text/markdown": [
       "<div class=\"macros\" style=\"visibility:hidden;\">\n",
       "$\\newcommand{\\ensuremath}{}$\n",
       "$\\newcommand{\\xspace}{}$\n",
       "$\\newcommand{\\object}[1]{\\texttt{#1}}$\n",
       "$\\newcommand{\\farcs}{{.}''}$\n",
       "$\\newcommand{\\farcm}{{.}'}$\n",
       "$\\newcommand{\\arcsec}{''}$\n",
       "$\\newcommand{\\arcmin}{'}$\n",
       "$\\newcommand{\\ion}[2]{#1#2}$\n",
       "$\\newcommand{\\textsc}[1]{\\textrm{#1}}$\n",
       "$\\newcommand{\\hl}[1]{\\textrm{#1}}$\n",
       "$\\newcommand{\\footnote}[1]{}$\n",
       "$\\newcommand{\\gaia}{\\textsl{Gaia }}$\n",
       "$\\newcommand{\\gaianospace}{\\textit{Gaia}}$\n",
       "$\\newcommand{\\kms}{km~s^{-1} }$\n",
       "$\\newcommand{\\kmsnospace}{km~s^{-1}}$\n",
       "$\\newcommand{◦}{^{\\circ}~}$\n",
       "$\\newcommand{◦nospace}{^{\\circ}}$\n",
       "$\\newcommand{\\addreferences}{\\textcolor{red}{(add References) }}$\n",
       "$\\newcommand{\\msun}{M_\\odot }$\n",
       "$\\newcommand{\\vlos}{V_{\\text{los}} }$\n",
       "$\\newcommand{\\vlosnospace}{V_{\\text{los}}}$\n",
       "$\\newcommand{\\sourceid}{\\texttt{source\\_id} }$\n",
       "$\\newcommand{\\sourceidnospace}{\\texttt{source\\_id}}$\n",
       "$\\newcommand{\\danny}[1]{{\\textcolor{blue}{ #1}}}$\n",
       "$\\newcommand{\\oscar}[1]{{\\textcolor{brown}{ #1}}}$\n",
       "$\\newcommand{\\action}[1]{{\\textcolor{magenta}{ [Action for: #1]}}}$\n",
       "$\\newcommand{\\kmskpc}{km~s^{-1}~kpc^{-1} }$\n",
       "$\\newcommand{\\kmskpcnospace}{km~s^{-1}~kpc^{-1}}$\n",
       "$\\newcommand{\\arraystretch}{1.5}$\n",
       "$\\newcommand{\\arraystretch}{1.5}$\n",
       "$\\newcommand{\\arraystretch}{1.5}$</div>\n",
       "\n",
       "\n",
       "\n",
       "<div id=\"title\">\n",
       "\n",
       "# Vertical structure and kinematics of the LMC disc from \\textsl{SDSS}/\\textsl{Gaia}\n",
       "\n",
       "</div>\n",
       "<div id=\"comments\">\n",
       "\n",
       "[![arXiv](https://img.shields.io/badge/arXiv-2501.04616-b31b1b.svg)](https://arxiv.org/abs/2501.04616)<mark>Appeared on: 2025-01-09</mark> -  _Submitted to A&A. The interactive LMC 3D models can be found in this https URL_\n",
       "\n",
       "</div>\n",
       "<div id=\"authors\">\n",
       "\n",
       "Ó. Jiménez-Arranz, et al. -- incl., <mark>H.-W. Rix</mark>\n",
       "\n",
       "</div>\n",
       "<div id=\"abstract\">\n",
       "\n",
       "**Abstract:** Studies of the LMC's internal kinematics have provided a detailed view of its structure, largely thanks to the exquisite proper motion data supplied by the $\\gaia$ mission. However, line-of-sight (LoS) velocities, the third component of the stellar motion, are only available for a small subset of the current $\\gaia$ data, limiting studies of the kinematics perpendicular to the LMC disc plane. We synergise new \\textsl{SDSS} -IV/V LoS velocity measurements with existing $\\gaia$ DR3 data, increasing the 5D phase-space sample by almost a factor of three. Using this unprecedented dataset, we interpret and model the vertical structure and kinematics across the LMC disc. We first split our parent sample into different stellar types (young and old). We then examine maps of vertical velocity, $v_{z'}$ , moments (median and MAD) perpendicular to the LMC disc out to $R' \\approx 5$ kpc; we also examine the vertical velocity profiles as a function of disc azimuth and radius. We interpret our results in the context of three possible scenarios: 1) time-variability in the orientation of the disc symmetry axis; 2) use of an incorrect LMC disc plane orientation; or 3) the presence of warps or twists in the LMC disc. We also present a new inversion method to construct a continuous 3D representation of the disc from spatially-resolved measurements of its viewing angles. Using young stellar populations, we identify a region in the LMC arm with highly negative $\\overline{v_{z'}}$ ; this overlaps spatially with the supershell LMC 4. When interpreting the maps of $\\overline{v_{z'}}$ , our results indicate that: 1) the LMC viewing angles may vary with time due to, e.g., precession or nutation of the spin axis, but this cannot explain most of the structure in $\\overline{v_{z'}}$ maps;2) when re-deriving the LMC disc plane by minimising the RMS vertical velocity $v_{z'}$ across the disc, the inclination and line-of-nodes position angle are $i = 24^\\circ$ and $\\Omega = 327^\\circ$ , respectively, with an $\\sim 3^\\circ$ systematic uncertainty associated with sample selection, contamination, and the position of the LMC center; 3) when modelling in concentric rings, we obtain different inclinations for the inner and outer disc regions, and when modelling in polar segments we obtain a quadrupolar variation as function of azimuth in outer the disc. We provide 3D representations of the implied LMC disc shape. These provide further evidence for  perturbations caused by interaction with the SMC. The combination of \\textsl{SDSS} -IV/V and $\\gaia$ data reveal that the LMC disc is not a flat plane in equilibrium, but that the central bar region is tilted relative to a warped outer disc.\n",
       "\n",
       "</div>\n",
       "\n",
       "<div id=\"div_fig1\">\n",
       "\n",
       "<img src=\"tmp_2501.04616/./figures/01_LMC_vertical_velocity_maps_eDR3_muzfree.png\" alt=\"Fig8\" width=\"100%\"/>\n",
       "\n",
       "**Figure 8. -** Comparison of the median vertical velocity maps between the different LMC clean samples. Top: LMC complete sample. Bottom: LMC optimal sample. From left to right: \\textsl{APOGEE}, \\textsl{BOSS}, $\\gaia$nospace, and Combined sample. We display bins containing three or more stars; otherwise, we display individual stars as a scatter plot. A black line splitting the overdensities (LMC bar and spiral arm) from the underdensities is plotted for reference. All maps are shown in the LMC in-plane $(x', y')$ Cartesian coordinate system. To mimic how the LMC is seen in the sky, the plotted data has both axes inverted.\n",
       "     (*fig:samples_vertical_velocity*)\n",
       "\n",
       "</div>\n",
       "<div id=\"div_fig2\">\n",
       "\n",
       "<img src=\"tmp_2501.04616/./figures/08_Radial_variation_LMC_disc_fitting.png\" alt=\"Fig5\" width=\"100%\"/>\n",
       "\n",
       "**Figure 5. -** Variation of the LMC disc plane fitting as function of the LMC galactocentric radius $R'$. Top: Inclination $i$. Bottom: Line-of-nodes position angle $\\Omega$. The \"global\" fit derived in Sect. \\ref{subsec:incorrect_plane} is displayed by the horizontal dashed lines. We use a grey shaded area to draw attention to the bar region \\citep[$R'_{\\text{bar}}=2.3$ kpc,][]{jimenez-arranz23a}. In all panels we display the LMC complete (optimal) sample in green (salmon). (*fig:disc_fit_vs_radius*)\n",
       "\n",
       "</div>\n",
       "<div id=\"div_fig3\">\n",
       "\n",
       "<img src=\"tmp_2501.04616/./figures/09_Azimuthal_radial_variation_LMC_disc_fitting.png\" alt=\"Fig12\" width=\"100%\"/>\n",
       "\n",
       "**Figure 12. -** Variation of the LMC disc plane fitting as function of the azimuth $\\phi$ and the LMC galactocentric radius $R'$. Left panels: LMC Combined complete sample. Right panels: LMC Combined optimal sample. The first and the third (second and fourth) panels show the inclination $i$(line-of-nodes position angle $\\Omega$). Only bins with more than 50 stars are displayed. Each colorbar is centred in the \"global\" fit derived in Sect. \\ref{subsec:incorrect_plane}. (*fig:disc_fit_vs_azimuth*)\n",
       "\n",
       "</div><div id=\"qrcode\"><img src=https://api.qrserver.com/v1/create-qr-code/?size=100x100&data=\"https://arxiv.org/abs/2501.04616\"></div>"
      ],
      "text/plain": [
       "<IPython.core.display.Markdown object>"
      ]
     },
     "metadata": {},
     "output_type": "display_data"
    }
   ],
   "source": [
    "[display(Markdown(k[1])) for k in documents];"
   ]
  },
  {
   "cell_type": "markdown",
   "id": "873873a4",
   "metadata": {
    "papermill": {
     "duration": 0.005574,
     "end_time": "2025-01-09T04:15:52.659080",
     "exception": false,
     "start_time": "2025-01-09T04:15:52.653506",
     "status": "completed"
    },
    "tags": []
   },
   "source": [
    "# Create HTML index"
   ]
  },
  {
   "cell_type": "code",
   "execution_count": 10,
   "id": "cf665672",
   "metadata": {
    "execution": {
     "iopub.execute_input": "2025-01-09T04:15:52.671526Z",
     "iopub.status.busy": "2025-01-09T04:15:52.671054Z",
     "iopub.status.idle": "2025-01-09T04:15:52.680161Z",
     "shell.execute_reply": "2025-01-09T04:15:52.679604Z"
    },
    "papermill": {
     "duration": 0.016549,
     "end_time": "2025-01-09T04:15:52.681206",
     "exception": false,
     "start_time": "2025-01-09T04:15:52.664657",
     "status": "completed"
    },
    "tags": []
   },
   "outputs": [
    {
     "name": "stdout",
     "output_type": "stream",
     "text": [
      "299  publications files modified in the last 7 days.\n"
     ]
    }
   ],
   "source": [
    "from datetime import datetime, timedelta, timezone\n",
    "from glob import glob\n",
    "import os\n",
    "\n",
    "files = glob('_build/html/*.md')\n",
    "days = 7\n",
    "now = datetime.today()\n",
    "res = []\n",
    "for fk in files:\n",
    "    stat_result = os.stat(fk).st_ctime\n",
    "    modified = datetime.fromtimestamp(stat_result, tz=timezone.utc).replace(tzinfo=None)\n",
    "    delta = now.today() - modified\n",
    "    if delta <= timedelta(days=days):\n",
    "        res.append((delta.seconds, fk))\n",
    "res = [k[1] for k in reversed(sorted(res, key=lambda x:x[1]))]\n",
    "npub = len(res)\n",
    "print(len(res), f\" publications files modified in the last {days:d} days.\")\n",
    "# [ print('\\t', k) for k in res ];"
   ]
  },
  {
   "cell_type": "code",
   "execution_count": 11,
   "id": "015de740",
   "metadata": {
    "execution": {
     "iopub.execute_input": "2025-01-09T04:15:52.693919Z",
     "iopub.status.busy": "2025-01-09T04:15:52.693665Z",
     "iopub.status.idle": "2025-01-09T04:15:52.711663Z",
     "shell.execute_reply": "2025-01-09T04:15:52.711057Z"
    },
    "papermill": {
     "duration": 0.025429,
     "end_time": "2025-01-09T04:15:52.712721",
     "exception": false,
     "start_time": "2025-01-09T04:15:52.687292",
     "status": "completed"
    },
    "tags": []
   },
   "outputs": [
    {
     "name": "stdout",
     "output_type": "stream",
     "text": [
      "8  publications in the last 7 days.\n"
     ]
    }
   ],
   "source": [
    "import datetime\n",
    "from glob import glob\n",
    "\n",
    "def get_last_n_days(lst, days=1):\n",
    "    \"\"\" Get the documents from the last n days \"\"\"\n",
    "    sorted_lst = sorted(lst, key=lambda x: x[1], reverse=True)\n",
    "    for fname, date in sorted_lst:\n",
    "        if date >= str(datetime.date.today() - datetime.timedelta(days=days)):\n",
    "            yield fname\n",
    "\n",
    "def extract_appearance_dates(lst_file):\n",
    "    dates = []\n",
    "\n",
    "    def get_date(line):\n",
    "        return line\\\n",
    "            .split('Appeared on:')[-1]\\\n",
    "            .split('</mark>')[0].strip()\n",
    "\n",
    "    for fname in lst:\n",
    "        with open(fname, 'r') as f:\n",
    "            found_date = False\n",
    "            for line in f:\n",
    "                if not found_date:\n",
    "                    if \"Appeared on\" in line:\n",
    "                        found_date = True\n",
    "                        dates.append((fname, get_date(line)))\n",
    "                else:\n",
    "                    break\n",
    "    return dates\n",
    "\n",
    "from glob import glob\n",
    "lst = glob('_build/html/*md')\n",
    "days = 7\n",
    "dates = extract_appearance_dates(lst)\n",
    "res = list(get_last_n_days(dates, days))\n",
    "npub = len(res)\n",
    "print(len(res), f\" publications in the last {days:d} days.\")"
   ]
  },
  {
   "cell_type": "code",
   "execution_count": 12,
   "id": "52ca0208",
   "metadata": {
    "execution": {
     "iopub.execute_input": "2025-01-09T04:15:52.726105Z",
     "iopub.status.busy": "2025-01-09T04:15:52.725505Z",
     "iopub.status.idle": "2025-01-09T04:15:52.730846Z",
     "shell.execute_reply": "2025-01-09T04:15:52.730173Z"
    },
    "papermill": {
     "duration": 0.013073,
     "end_time": "2025-01-09T04:15:52.731949",
     "exception": false,
     "start_time": "2025-01-09T04:15:52.718876",
     "status": "completed"
    },
    "scrolled": false,
    "tags": []
   },
   "outputs": [],
   "source": [
    "def create_carousel(npub=4):\n",
    "    \"\"\" Generate the HTML code for a carousel with `npub` slides \"\"\"\n",
    "    carousel = [\"\"\"  <div class=\"carousel\" \"\"\",\n",
    "                \"\"\"       data-flickity='{ \"autoPlay\": 10000, \"adaptiveHeight\": true, \"resize\": true, \"wrapAround\": true, \"pauseAutoPlayOnHover\": true, \"groupCells\": 1 }' id=\"asyncTypeset\">\"\"\"\n",
    "                ]\n",
    "    \n",
    "    item_str = \"\"\"    <div class=\"carousel-cell\"> <div id=\"slide{k}\" class=\"md_view\">Content {k}</div> </div>\"\"\"\n",
    "    for k in range(1, npub + 1):\n",
    "        carousel.append(item_str.format(k=k))\n",
    "    carousel.append(\"  </div>\")\n",
    "    return '\\n'.join(carousel)\n",
    "\n",
    "def create_grid(npub=4):\n",
    "    \"\"\" Generate the HTML code for a flat grid with `npub` slides \"\"\"\n",
    "    grid = [\"\"\"  <div class=\"grid\"> \"\"\",\n",
    "                ]\n",
    "    \n",
    "    item_str = \"\"\"    <div class=\"grid-item\"> <div id=\"slide{k}\" class=\"md_view\">Content {k}</div> </div>\"\"\"\n",
    "    for k in range(1, npub + 1):\n",
    "        grid.append(item_str.format(k=k))\n",
    "    grid.append(\"  </div>\")\n",
    "    return '\\n'.join(grid)"
   ]
  },
  {
   "cell_type": "code",
   "execution_count": 13,
   "id": "a6eac5b6",
   "metadata": {
    "execution": {
     "iopub.execute_input": "2025-01-09T04:15:52.745103Z",
     "iopub.status.busy": "2025-01-09T04:15:52.744637Z",
     "iopub.status.idle": "2025-01-09T04:15:52.749863Z",
     "shell.execute_reply": "2025-01-09T04:15:52.749318Z"
    },
    "papermill": {
     "duration": 0.012746,
     "end_time": "2025-01-09T04:15:52.750816",
     "exception": false,
     "start_time": "2025-01-09T04:15:52.738070",
     "status": "completed"
    },
    "scrolled": false,
    "tags": []
   },
   "outputs": [],
   "source": [
    "carousel = create_carousel(npub)\n",
    "docs = ', '.join(['\"{0:s}\"'.format(k.split('/')[-1]) for k in res])\n",
    "slides = ', '.join([f'\"slide{k}\"' for k in range(1, npub + 1)])\n",
    "\n",
    "with open(\"daily_template.html\", \"r\") as tpl:\n",
    "    page = tpl.read()\n",
    "    page = page.replace(\"{%-- carousel:s --%}\", carousel)\\\n",
    "               .replace(\"{%-- suptitle:s --%}\",  \"7-day archives\" )\\\n",
    "               .replace(\"{%-- docs:s --%}\", docs)\\\n",
    "               .replace(\"{%-- slides:s --%}\", slides)\n",
    "    \n",
    "with open(\"_build/html/index_7days.html\", 'w') as fout:\n",
    "    fout.write(page)"
   ]
  },
  {
   "cell_type": "code",
   "execution_count": 14,
   "id": "adc1a1ec",
   "metadata": {
    "execution": {
     "iopub.execute_input": "2025-01-09T04:15:52.763716Z",
     "iopub.status.busy": "2025-01-09T04:15:52.763454Z",
     "iopub.status.idle": "2025-01-09T04:15:52.770427Z",
     "shell.execute_reply": "2025-01-09T04:15:52.769871Z"
    },
    "papermill": {
     "duration": 0.014547,
     "end_time": "2025-01-09T04:15:52.771407",
     "exception": false,
     "start_time": "2025-01-09T04:15:52.756860",
     "status": "completed"
    },
    "tags": []
   },
   "outputs": [
    {
     "name": "stdout",
     "output_type": "stream",
     "text": [
      "4  publications in the last day.\n"
     ]
    }
   ],
   "source": [
    "# redo for today\n",
    "days = 1\n",
    "res = list(get_last_n_days(dates, days))\n",
    "npub = len(res)\n",
    "print(len(res), f\" publications in the last day.\")\n",
    "\n",
    "carousel = create_carousel(npub)\n",
    "docs = ', '.join(['\"{0:s}\"'.format(k.split('/')[-1]) for k in res])\n",
    "slides = ', '.join([f'\"slide{k}\"' for k in range(1, npub + 1)])\n",
    "\n",
    "with open(\"daily_template.html\", \"r\") as tpl:\n",
    "    page = tpl.read()\n",
    "    page = page.replace(\"{%-- carousel:s --%}\", carousel)\\\n",
    "               .replace(\"{%-- suptitle:s --%}\",  \"Daily\" )\\\n",
    "               .replace(\"{%-- docs:s --%}\", docs)\\\n",
    "               .replace(\"{%-- slides:s --%}\", slides)\n",
    "    \n",
    "# print(carousel, docs, slides)\n",
    "# print(page)\n",
    "with open(\"_build/html/index_daily.html\", 'w') as fout:\n",
    "    fout.write(page)"
   ]
  },
  {
   "cell_type": "code",
   "execution_count": 15,
   "id": "00eece82",
   "metadata": {
    "execution": {
     "iopub.execute_input": "2025-01-09T04:15:52.784218Z",
     "iopub.status.busy": "2025-01-09T04:15:52.783999Z",
     "iopub.status.idle": "2025-01-09T04:15:52.790373Z",
     "shell.execute_reply": "2025-01-09T04:15:52.789853Z"
    },
    "papermill": {
     "duration": 0.013946,
     "end_time": "2025-01-09T04:15:52.791401",
     "exception": false,
     "start_time": "2025-01-09T04:15:52.777455",
     "status": "completed"
    },
    "scrolled": false,
    "tags": []
   },
   "outputs": [
    {
     "name": "stdout",
     "output_type": "stream",
     "text": [
      "6  6 publications selected.\n"
     ]
    }
   ],
   "source": [
    "# Create the flat grid of the last N papers (fixed number regardless of dates)\n",
    "from itertools import islice \n",
    "\n",
    "npub = 6\n",
    "res = [k[0] for k in (islice(reversed(sorted(dates, key=lambda x: x[1])), 6))]\n",
    "print(len(res), f\" {npub} publications selected.\")\n",
    "\n",
    "grid = create_grid(npub)\n",
    "docs = ', '.join(['\"{0:s}\"'.format(k.split('/')[-1]) for k in res])\n",
    "slides = ', '.join([f'\"slide{k}\"' for k in range(1, npub + 1)])\n",
    "\n",
    "with open(\"grid_template.html\", \"r\") as tpl:\n",
    "    page = tpl.read()\n",
    "    page = page.replace(\"{%-- grid-content:s --%}\", grid)\\\n",
    "               .replace(\"{%-- suptitle:s --%}\",  f\"Last {npub:,d} papers\" )\\\n",
    "               .replace(\"{%-- docs:s --%}\", docs)\\\n",
    "               .replace(\"{%-- slides:s --%}\", slides)\n",
    "    \n",
    "# print(grid, docs, slides)\n",
    "# print(page)\n",
    "with open(\"_build/html/index_npub_grid.html\", 'w') as fout:\n",
    "    fout.write(page)"
   ]
  }
 ],
 "metadata": {
  "kernelspec": {
   "display_name": "Python 3 (ipykernel)",
   "language": "python",
   "name": "python3"
  },
  "language_info": {
   "codemirror_mode": {
    "name": "ipython",
    "version": 3
   },
   "file_extension": ".py",
   "mimetype": "text/x-python",
   "name": "python",
   "nbconvert_exporter": "python",
   "pygments_lexer": "ipython3",
   "version": "3.9.21"
  },
  "papermill": {
   "default_parameters": {},
   "duration": 302.092938,
   "end_time": "2025-01-09T04:15:53.013014",
   "environment_variables": {},
   "exception": null,
   "input_path": "MPIA daily digest.ipynb",
   "output_path": "log.ipynb",
   "parameters": {},
   "start_time": "2025-01-09T04:10:50.920076",
   "version": "2.6.0"
  },
  "vscode": {
   "interpreter": {
    "hash": "aee8b7b246df8f9039afb4144a1f6fd8d2ca17a180786b69acc140d282b71a49"
   }
  },
  "widgets": {
   "application/vnd.jupyter.widget-state+json": {
    "state": {
     "01a03d1d7f834dd39f2fa210eae9e416": {
      "model_module": "@jupyter-widgets/base",
      "model_module_version": "2.0.0",
      "model_name": "LayoutModel",
      "state": {
       "_model_module": "@jupyter-widgets/base",
       "_model_module_version": "2.0.0",
       "_model_name": "LayoutModel",
       "_view_count": null,
       "_view_module": "@jupyter-widgets/base",
       "_view_module_version": "2.0.0",
       "_view_name": "LayoutView",
       "align_content": null,
       "align_items": null,
       "align_self": null,
       "border_bottom": null,
       "border_left": null,
       "border_right": null,
       "border_top": null,
       "bottom": null,
       "display": null,
       "flex": null,
       "flex_flow": null,
       "grid_area": null,
       "grid_auto_columns": null,
       "grid_auto_flow": null,
       "grid_auto_rows": null,
       "grid_column": null,
       "grid_gap": null,
       "grid_row": null,
       "grid_template_areas": null,
       "grid_template_columns": null,
       "grid_template_rows": null,
       "height": null,
       "justify_content": null,
       "justify_items": null,
       "left": null,
       "margin": null,
       "max_height": null,
       "max_width": null,
       "min_height": null,
       "min_width": null,
       "object_fit": null,
       "object_position": null,
       "order": null,
       "overflow": null,
       "padding": null,
       "right": null,
       "top": null,
       "visibility": null,
       "width": null
      }
     },
     "2f34fc1ea38e470eac319aa6d52a870b": {
      "model_module": "@jupyter-widgets/controls",
      "model_module_version": "2.0.0",
      "model_name": "ProgressStyleModel",
      "state": {
       "_model_module": "@jupyter-widgets/controls",
       "_model_module_version": "2.0.0",
       "_model_name": "ProgressStyleModel",
       "_view_count": null,
       "_view_module": "@jupyter-widgets/base",
       "_view_module_version": "2.0.0",
       "_view_name": "StyleView",
       "bar_color": null,
       "description_width": ""
      }
     },
     "360808760a6049ba9c00dca28c4e7923": {
      "model_module": "@jupyter-widgets/controls",
      "model_module_version": "2.0.0",
      "model_name": "HBoxModel",
      "state": {
       "_dom_classes": [],
       "_model_module": "@jupyter-widgets/controls",
       "_model_module_version": "2.0.0",
       "_model_name": "HBoxModel",
       "_view_count": null,
       "_view_module": "@jupyter-widgets/controls",
       "_view_module_version": "2.0.0",
       "_view_name": "HBoxView",
       "box_style": "",
       "children": [
        "IPY_MODEL_eadeaeaaa55047f4ae9c60bbbf638c81",
        "IPY_MODEL_e213dc821ecc483897e9d0c1e6f2af29",
        "IPY_MODEL_fec262a5869043998abd3997ef4a8b40"
       ],
       "layout": "IPY_MODEL_42a1455e8d444d6ca113d2b4f4c7ddfa",
       "tabbable": null,
       "tooltip": null
      }
     },
     "3f43df0b84dd4d4e81d0d108a9932ff3": {
      "model_module": "@jupyter-widgets/base",
      "model_module_version": "2.0.0",
      "model_name": "LayoutModel",
      "state": {
       "_model_module": "@jupyter-widgets/base",
       "_model_module_version": "2.0.0",
       "_model_name": "LayoutModel",
       "_view_count": null,
       "_view_module": "@jupyter-widgets/base",
       "_view_module_version": "2.0.0",
       "_view_name": "LayoutView",
       "align_content": null,
       "align_items": null,
       "align_self": null,
       "border_bottom": null,
       "border_left": null,
       "border_right": null,
       "border_top": null,
       "bottom": null,
       "display": null,
       "flex": null,
       "flex_flow": null,
       "grid_area": null,
       "grid_auto_columns": null,
       "grid_auto_flow": null,
       "grid_auto_rows": null,
       "grid_column": null,
       "grid_gap": null,
       "grid_row": null,
       "grid_template_areas": null,
       "grid_template_columns": null,
       "grid_template_rows": null,
       "height": null,
       "justify_content": null,
       "justify_items": null,
       "left": null,
       "margin": null,
       "max_height": null,
       "max_width": null,
       "min_height": null,
       "min_width": null,
       "object_fit": null,
       "object_position": null,
       "order": null,
       "overflow": null,
       "padding": null,
       "right": null,
       "top": null,
       "visibility": null,
       "width": null
      }
     },
     "42a1455e8d444d6ca113d2b4f4c7ddfa": {
      "model_module": "@jupyter-widgets/base",
      "model_module_version": "2.0.0",
      "model_name": "LayoutModel",
      "state": {
       "_model_module": "@jupyter-widgets/base",
       "_model_module_version": "2.0.0",
       "_model_name": "LayoutModel",
       "_view_count": null,
       "_view_module": "@jupyter-widgets/base",
       "_view_module_version": "2.0.0",
       "_view_name": "LayoutView",
       "align_content": null,
       "align_items": null,
       "align_self": null,
       "border_bottom": null,
       "border_left": null,
       "border_right": null,
       "border_top": null,
       "bottom": null,
       "display": null,
       "flex": null,
       "flex_flow": null,
       "grid_area": null,
       "grid_auto_columns": null,
       "grid_auto_flow": null,
       "grid_auto_rows": null,
       "grid_column": null,
       "grid_gap": null,
       "grid_row": null,
       "grid_template_areas": null,
       "grid_template_columns": null,
       "grid_template_rows": null,
       "height": null,
       "justify_content": null,
       "justify_items": null,
       "left": null,
       "margin": null,
       "max_height": null,
       "max_width": null,
       "min_height": null,
       "min_width": null,
       "object_fit": null,
       "object_position": null,
       "order": null,
       "overflow": null,
       "padding": null,
       "right": null,
       "top": null,
       "visibility": null,
       "width": null
      }
     },
     "5760711461494b5b9003bbfe72da2e2b": {
      "model_module": "@jupyter-widgets/base",
      "model_module_version": "2.0.0",
      "model_name": "LayoutModel",
      "state": {
       "_model_module": "@jupyter-widgets/base",
       "_model_module_version": "2.0.0",
       "_model_name": "LayoutModel",
       "_view_count": null,
       "_view_module": "@jupyter-widgets/base",
       "_view_module_version": "2.0.0",
       "_view_name": "LayoutView",
       "align_content": null,
       "align_items": null,
       "align_self": null,
       "border_bottom": null,
       "border_left": null,
       "border_right": null,
       "border_top": null,
       "bottom": null,
       "display": null,
       "flex": null,
       "flex_flow": null,
       "grid_area": null,
       "grid_auto_columns": null,
       "grid_auto_flow": null,
       "grid_auto_rows": null,
       "grid_column": null,
       "grid_gap": null,
       "grid_row": null,
       "grid_template_areas": null,
       "grid_template_columns": null,
       "grid_template_rows": null,
       "height": null,
       "justify_content": null,
       "justify_items": null,
       "left": null,
       "margin": null,
       "max_height": null,
       "max_width": null,
       "min_height": null,
       "min_width": null,
       "object_fit": null,
       "object_position": null,
       "order": null,
       "overflow": null,
       "padding": null,
       "right": null,
       "top": null,
       "visibility": null,
       "width": null
      }
     },
     "9e58c67ea82446dd8ab3df27be999fb0": {
      "model_module": "@jupyter-widgets/controls",
      "model_module_version": "2.0.0",
      "model_name": "HTMLStyleModel",
      "state": {
       "_model_module": "@jupyter-widgets/controls",
       "_model_module_version": "2.0.0",
       "_model_name": "HTMLStyleModel",
       "_view_count": null,
       "_view_module": "@jupyter-widgets/base",
       "_view_module_version": "2.0.0",
       "_view_name": "StyleView",
       "background": null,
       "description_width": "",
       "font_size": null,
       "text_color": null
      }
     },
     "e213dc821ecc483897e9d0c1e6f2af29": {
      "model_module": "@jupyter-widgets/controls",
      "model_module_version": "2.0.0",
      "model_name": "FloatProgressModel",
      "state": {
       "_dom_classes": [],
       "_model_module": "@jupyter-widgets/controls",
       "_model_module_version": "2.0.0",
       "_model_name": "FloatProgressModel",
       "_view_count": null,
       "_view_module": "@jupyter-widgets/controls",
       "_view_module_version": "2.0.0",
       "_view_name": "ProgressView",
       "bar_style": "success",
       "description": "",
       "description_allow_html": false,
       "layout": "IPY_MODEL_01a03d1d7f834dd39f2fa210eae9e416",
       "max": 5.0,
       "min": 0.0,
       "orientation": "horizontal",
       "style": "IPY_MODEL_2f34fc1ea38e470eac319aa6d52a870b",
       "tabbable": null,
       "tooltip": null,
       "value": 5.0
      }
     },
     "eadeaeaaa55047f4ae9c60bbbf638c81": {
      "model_module": "@jupyter-widgets/controls",
      "model_module_version": "2.0.0",
      "model_name": "HTMLModel",
      "state": {
       "_dom_classes": [],
       "_model_module": "@jupyter-widgets/controls",
       "_model_module_version": "2.0.0",
       "_model_name": "HTMLModel",
       "_view_count": null,
       "_view_module": "@jupyter-widgets/controls",
       "_view_module_version": "2.0.0",
       "_view_name": "HTMLView",
       "description": "",
       "description_allow_html": false,
       "layout": "IPY_MODEL_3f43df0b84dd4d4e81d0d108a9932ff3",
       "placeholder": "​",
       "style": "IPY_MODEL_f6ea3080d2304329a0c574a2abdec1bf",
       "tabbable": null,
       "tooltip": null,
       "value": "100%"
      }
     },
     "f6ea3080d2304329a0c574a2abdec1bf": {
      "model_module": "@jupyter-widgets/controls",
      "model_module_version": "2.0.0",
      "model_name": "HTMLStyleModel",
      "state": {
       "_model_module": "@jupyter-widgets/controls",
       "_model_module_version": "2.0.0",
       "_model_name": "HTMLStyleModel",
       "_view_count": null,
       "_view_module": "@jupyter-widgets/base",
       "_view_module_version": "2.0.0",
       "_view_name": "StyleView",
       "background": null,
       "description_width": "",
       "font_size": null,
       "text_color": null
      }
     },
     "fec262a5869043998abd3997ef4a8b40": {
      "model_module": "@jupyter-widgets/controls",
      "model_module_version": "2.0.0",
      "model_name": "HTMLModel",
      "state": {
       "_dom_classes": [],
       "_model_module": "@jupyter-widgets/controls",
       "_model_module_version": "2.0.0",
       "_model_name": "HTMLModel",
       "_view_count": null,
       "_view_module": "@jupyter-widgets/controls",
       "_view_module_version": "2.0.0",
       "_view_name": "HTMLView",
       "description": "",
       "description_allow_html": false,
       "layout": "IPY_MODEL_5760711461494b5b9003bbfe72da2e2b",
       "placeholder": "​",
       "style": "IPY_MODEL_9e58c67ea82446dd8ab3df27be999fb0",
       "tabbable": null,
       "tooltip": null,
       "value": " 5/5 [04:39&lt;00:00, 65.95s/it]"
      }
     }
    },
    "version_major": 2,
    "version_minor": 0
   }
  }
 },
 "nbformat": 4,
 "nbformat_minor": 5
}