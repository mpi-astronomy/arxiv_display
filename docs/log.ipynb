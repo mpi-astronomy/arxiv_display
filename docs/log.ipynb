{
 "cells": [
  {
   "cell_type": "markdown",
   "id": "92bcb855",
   "metadata": {
    "papermill": {
     "duration": 0.004294,
     "end_time": "2024-09-09T04:10:31.776676",
     "exception": false,
     "start_time": "2024-09-09T04:10:31.772382",
     "status": "completed"
    },
    "tags": []
   },
   "source": [
    "# MPIA Arxiv on Deck 2\n",
    "\n",
    "Contains the steps to produce the paper extractions."
   ]
  },
  {
   "cell_type": "code",
   "execution_count": 1,
   "id": "3a0d6e11",
   "metadata": {
    "execution": {
     "iopub.execute_input": "2024-09-09T04:10:31.784646Z",
     "iopub.status.busy": "2024-09-09T04:10:31.784069Z",
     "iopub.status.idle": "2024-09-09T04:10:32.216742Z",
     "shell.execute_reply": "2024-09-09T04:10:32.215952Z"
    },
    "papermill": {
     "duration": 0.438925,
     "end_time": "2024-09-09T04:10:32.218842",
     "exception": false,
     "start_time": "2024-09-09T04:10:31.779917",
     "status": "completed"
    },
    "tags": []
   },
   "outputs": [],
   "source": [
    "# Imports\n",
    "import os\n",
    "from IPython.display import Markdown, display\n",
    "from tqdm.notebook import tqdm\n",
    "import warnings\n",
    "from PIL import Image \n",
    "\n",
    "# requires arxiv_on_deck_2\n",
    "\n",
    "from arxiv_on_deck_2.arxiv2 import (get_new_papers, \n",
    "                                    get_paper_from_identifier,\n",
    "                                    retrieve_document_source, \n",
    "                                    get_markdown_badge)\n",
    "from arxiv_on_deck_2 import (latex,\n",
    "                             latex_bib,\n",
    "                             mpia,\n",
    "                             highlight_authors_in_list)\n",
    "\n",
    "# Sometimes images are really big\n",
    "Image.MAX_IMAGE_PIXELS = 1000000000 "
   ]
  },
  {
   "cell_type": "code",
   "execution_count": 2,
   "id": "22aa9d44",
   "metadata": {
    "execution": {
     "iopub.execute_input": "2024-09-09T04:10:32.227067Z",
     "iopub.status.busy": "2024-09-09T04:10:32.226486Z",
     "iopub.status.idle": "2024-09-09T04:10:32.232086Z",
     "shell.execute_reply": "2024-09-09T04:10:32.231459Z"
    },
    "papermill": {
     "duration": 0.011224,
     "end_time": "2024-09-09T04:10:32.233504",
     "exception": false,
     "start_time": "2024-09-09T04:10:32.222280",
     "status": "completed"
    },
    "tags": []
   },
   "outputs": [],
   "source": [
    "# Some useful definitions.\n",
    "\n",
    "class AffiliationWarning(UserWarning):\n",
    "    pass\n",
    "\n",
    "class AffiliationError(RuntimeError):\n",
    "    pass\n",
    "\n",
    "def validation(source: str):\n",
    "    \"\"\"Raises error paper during parsing of source file\n",
    "    \n",
    "    Allows checks before parsing TeX code.\n",
    "    \n",
    "    Raises AffiliationWarning\n",
    "    \"\"\"\n",
    "    check = mpia.affiliation_verifications(source, verbose=True)\n",
    "    if check is not True:\n",
    "        raise AffiliationError(\"mpia.affiliation_verifications: \" + check)\n",
    "\n",
    "        \n",
    "warnings.simplefilter('always', AffiliationWarning)\n",
    "\n",
    "\n",
    "def get_markdown_qrcode(paper_id: str):\n",
    "    \"\"\" Generate a qrcode to the arxiv page using qrserver.com\n",
    "    \n",
    "    :param paper: Arxiv paper\n",
    "    :returns: markdown text\n",
    "    \"\"\"\n",
    "    url = r\"https://api.qrserver.com/v1/create-qr-code/?size=100x100&data=\"\n",
    "    txt = f\"\"\"<img src={url}\"https://arxiv.org/abs/{paper_id}\">\"\"\"\n",
    "    txt = '<div id=\"qrcode\">' + txt + '</div>'\n",
    "    return txt"
   ]
  },
  {
   "cell_type": "markdown",
   "id": "14bd6310",
   "metadata": {
    "papermill": {
     "duration": 0.003014,
     "end_time": "2024-09-09T04:10:32.239593",
     "exception": false,
     "start_time": "2024-09-09T04:10:32.236579",
     "status": "completed"
    },
    "tags": []
   },
   "source": [
    "## get list of arxiv paper candidates\n",
    "\n",
    "We use the MPIA mitarbeiter list webpage from mpia.de to get author names\n",
    "We then get all new papers from Arxiv and match authors"
   ]
  },
  {
   "cell_type": "code",
   "execution_count": 3,
   "id": "7ea813a8",
   "metadata": {
    "execution": {
     "iopub.execute_input": "2024-09-09T04:10:32.247483Z",
     "iopub.status.busy": "2024-09-09T04:10:32.246890Z",
     "iopub.status.idle": "2024-09-09T04:10:51.389956Z",
     "shell.execute_reply": "2024-09-09T04:10:51.389272Z"
    },
    "papermill": {
     "duration": 19.148851,
     "end_time": "2024-09-09T04:10:51.391564",
     "exception": false,
     "start_time": "2024-09-09T04:10:32.242713",
     "status": "completed"
    },
    "tags": []
   },
   "outputs": [],
   "source": [
    "# deal with the author list and edge cases of people that cannot be consistent on their name  \n",
    "\n",
    "def filter_non_scientists(name: str) -> bool:\n",
    "    \"\"\" Loose filter on expected authorships\n",
    "\n",
    "    removing IT, administration, technical staff\n",
    "    :param name: name\n",
    "    :returns: False if name is not a scientist\n",
    "    \"\"\"\n",
    "    remove_list = ['Wolf', 'Licht', 'Binroth', 'Witzel', 'Jordan',\n",
    "                   'Zähringer', 'Scheerer', 'Hoffmann', 'Düe',\n",
    "                   'Hellmich', 'Enkler-Scharpegge', 'Witte-Nguy',\n",
    "                   'Dehen', 'Beckmann', 'Jager', 'Jäger'\n",
    "                  ]\n",
    "\n",
    "    for k in remove_list:\n",
    "        if k in name:\n",
    "            return False\n",
    "    return True\n",
    "\n",
    "def add_author_to_list(author_list: list) -> list:\n",
    "    \"\"\" Add author to list if not already in list\n",
    "    \n",
    "    :param author: author name\n",
    "    :param author_list: list of authors\n",
    "    :returns: updated list of authors\n",
    "    \"\"\"\n",
    "    add_list = ['T. Henning']\n",
    "\n",
    "    for author in add_list:\n",
    "        if author not in author_list:\n",
    "            author_list.append(author)\n",
    "    return author_list\n",
    "\n",
    "# get list from MPIA website\n",
    "# filter for non-scientists (mpia.get_mpia_mitarbeiter_list() does some filtering)\n",
    "mpia_authors = [k[1] for k in mpia.get_mpia_mitarbeiter_list() if filter_non_scientists(k[1])]\n",
    "# add some missing author because of inconsistencies in their MPIA name and author name on papers\n",
    "mpia_authors = add_author_to_list(mpia_authors)"
   ]
  },
  {
   "cell_type": "code",
   "execution_count": 4,
   "id": "2645e73a",
   "metadata": {
    "execution": {
     "iopub.execute_input": "2024-09-09T04:10:51.399498Z",
     "iopub.status.busy": "2024-09-09T04:10:51.398925Z",
     "iopub.status.idle": "2024-09-09T04:10:52.052049Z",
     "shell.execute_reply": "2024-09-09T04:10:52.051237Z"
    },
    "papermill": {
     "duration": 0.65874,
     "end_time": "2024-09-09T04:10:52.053585",
     "exception": false,
     "start_time": "2024-09-09T04:10:51.394845",
     "status": "completed"
    },
    "tags": []
   },
   "outputs": [
    {
     "name": "stdout",
     "output_type": "stream",
     "text": [
      "T. Pfeil  ->  T. Pfeil  |  ['T. Pfeil']\n",
      "H. Klahr  ->  H. Klahr  |  ['H. Klahr']\n",
      "A. d. Graaff  ->  A. D. Graaff  |  ['A. D. Graaff']\n",
      "X. Zhang  ->  X. Zhang  |  ['X. Zhang']\n",
      "S. Ghosh  ->  S. Ghosh  |  ['S. Ghosh']\n",
      "Arxiv has 55 new papers today\n",
      "          4 with possible author matches\n"
     ]
    }
   ],
   "source": [
    "new_papers = get_new_papers()\n",
    "# add manual references\n",
    "add_paper_refs = []\n",
    "new_papers.extend([get_paper_from_identifier(k) for k in add_paper_refs])\n",
    "\n",
    "candidates = []\n",
    "for paperk in new_papers:\n",
    "    # Check author list with their initials\n",
    "    normed_author_list = [mpia.get_initials(k) for k in paperk['authors']]\n",
    "    hl_authors = highlight_authors_in_list(normed_author_list, mpia_authors, verbose=True)\n",
    "    matches = [(hl, orig) for hl, orig in zip(hl_authors, paperk['authors']) if 'mark' in hl]\n",
    "    paperk['authors'] = hl_authors\n",
    "    if matches:\n",
    "        # only select paper if an author matched our list\n",
    "        candidates.append(paperk)\n",
    "print(\"\"\"Arxiv has {0:,d} new papers today\"\"\".format(len(new_papers)))        \n",
    "print(\"\"\"          {0:,d} with possible author matches\"\"\".format(len(candidates)))"
   ]
  },
  {
   "cell_type": "markdown",
   "id": "3543b34a",
   "metadata": {
    "papermill": {
     "duration": 0.003281,
     "end_time": "2024-09-09T04:10:52.061327",
     "exception": false,
     "start_time": "2024-09-09T04:10:52.058046",
     "status": "completed"
    },
    "tags": []
   },
   "source": [
    "# Parse sources and generate relevant outputs\n",
    "\n",
    "From the candidates, we do the following steps:\n",
    "* get their tarball from ArXiv (and extract data)\n",
    "* find the main .tex file: find one with \\documentclass{...} (sometimes it's non trivial)\n",
    "* Check affiliations with :func:`validation`, which uses :func:`mpia.affiliation_verifications`\n",
    "* If passing the affiliations: we parse the .tex source\n",
    "   * inject sub-documents into the main (flatten the main document)\n",
    "   * parse structure, extract information (title, abstract, authors, figures...)\n",
    "   * handles `\\graphicspath` if provided\n",
    "* Generate the .md document."
   ]
  },
  {
   "cell_type": "code",
   "execution_count": 5,
   "id": "9576b79e",
   "metadata": {
    "execution": {
     "iopub.execute_input": "2024-09-09T04:10:52.069361Z",
     "iopub.status.busy": "2024-09-09T04:10:52.068856Z",
     "iopub.status.idle": "2024-09-09T04:11:22.716068Z",
     "shell.execute_reply": "2024-09-09T04:11:22.715333Z"
    },
    "papermill": {
     "duration": 30.657935,
     "end_time": "2024-09-09T04:11:22.722424",
     "exception": false,
     "start_time": "2024-09-09T04:10:52.064489",
     "status": "completed"
    },
    "scrolled": false,
    "tags": []
   },
   "outputs": [
    {
     "data": {
      "application/vnd.jupyter.widget-view+json": {
       "model_id": "a00b25d2c3584be4be5a2c4c5181dad5",
       "version_major": 2,
       "version_minor": 0
      },
      "text/plain": [
       "  0%|          | 0/4 [00:00<?, ?it/s]"
      ]
     },
     "metadata": {},
     "output_type": "display_data"
    },
    {
     "name": "stdout",
     "output_type": "stream",
     "text": [
      "Retrieving document from  https://arxiv.org/e-print/2409.03816\n"
     ]
    },
    {
     "name": "stdout",
     "output_type": "stream",
     "text": [
      "extracting tarball to tmp_2409.03816..."
     ]
    },
    {
     "name": "stdout",
     "output_type": "stream",
     "text": [
      " done.\n"
     ]
    },
    {
     "name": "stderr",
     "output_type": "stream",
     "text": [
      "/opt/hostedtoolcache/Python/3.9.19/x64/lib/python3.9/site-packages/arxiv_on_deck_2/latex.py:488: LatexWarning: Error parsing the document directly. Trying to recover.\n",
      "  warnings.warn(LatexWarning(f\"Error parsing the document directly. Trying to recover.\"))\n"
     ]
    },
    {
     "name": "stdout",
     "output_type": "stream",
     "text": [
      "✔ → 0:header\n",
      "  ↳ 5071:\\section{Introduction} \\label{sec:intro}\n"
     ]
    },
    {
     "name": "stdout",
     "output_type": "stream",
     "text": [
      "✔ → 5071:\\section{Introduction} \\label{sec:intro}\n",
      "  ↳ 11967:\\section{Theory}\n"
     ]
    },
    {
     "name": "stdout",
     "output_type": "stream",
     "text": [
      "✔ → 11967:\\section{Theory}\n",
      "  ↳ 30039:\\section{The \\tpop  model}\n"
     ]
    },
    {
     "name": "stdout",
     "output_type": "stream",
     "text": [
      "✔ → 30039:\\section{The \\tpop  model}\n",
      "  ↳ 52446:\\section{Calibration}\n"
     ]
    },
    {
     "name": "stdout",
     "output_type": "stream",
     "text": [
      "✔ → 52446:\\section{Calibration}\n",
      "  ↳ 73073:\\section{Test Simulations}\n"
     ]
    },
    {
     "name": "stdout",
     "output_type": "stream",
     "text": [
      "✔ → 73073:\\section{Test Simulations}\n",
      "  ↳ 92843:\\section{Discussion}\n",
      "✔ → 92843:\\section{Discussion}\n",
      "  ↳ 96121:\\section{Summary and conclusion}\n",
      "✔ → 96121:\\section{Summary and conclusion}\n",
      "  ↳ 100490:\\begin{appendix}\n",
      "✔ → 100490:\\begin{appendix}\n",
      "  ↳ 100507:\\section{Additional tables}\n"
     ]
    },
    {
     "name": "stdout",
     "output_type": "stream",
     "text": [
      "✘ → 100507:\\section{Additional tables}\n",
      "  ↳ 108121:\\section{Column density formulation}\n",
      "✔ → 108121:\\section{Column density formulation}\n",
      "  ↳ 109308:\\section{Transition functions}\n"
     ]
    },
    {
     "name": "stdout",
     "output_type": "stream",
     "text": [
      "✔ → 109308:\\section{Transition functions}\n",
      "  ↳ 111808:\\section{Flux-limited dust diffusion}\n",
      "✔ → 111808:\\section{Flux-limited dust diffusion}\n",
      "  ↳ 113242:\\section{Calibrations and test simulations without diffusion}\n",
      "✔ → 113242:\\section{Calibrations and test simulations without diffusion}\n",
      "  ↳ 115025:end\n"
     ]
    },
    {
     "name": "stdout",
     "output_type": "stream",
     "text": [
      "T. Pfeil  ->  T. Pfeil  |  ['T. Pfeil']\n",
      "H. Klahr  ->  H. Klahr  |  ['H. Klahr']\n"
     ]
    },
    {
     "name": "stdout",
     "output_type": "stream",
     "text": [
      "Found 83 bibliographic references in tmp_2409.03816/aanda.bbl.\n",
      "syntax error in line 221: '}' expected\n",
      "Retrieving document from  https://arxiv.org/e-print/2409.03829\n"
     ]
    },
    {
     "name": "stdout",
     "output_type": "stream",
     "text": [
      "extracting tarball to tmp_2409.03829..."
     ]
    },
    {
     "name": "stdout",
     "output_type": "stream",
     "text": [
      " done.\n"
     ]
    },
    {
     "name": "stdout",
     "output_type": "stream",
     "text": [
      "A. d. Graaff  ->  A. D. Graaff  |  ['A. D. Graaff']\n",
      "Retrieving document from  https://arxiv.org/e-print/2409.04046\n"
     ]
    },
    {
     "name": "stderr",
     "output_type": "stream",
     "text": [
      "/tmp/ipykernel_2761/1211882699.py:51: LatexWarning: 2409.03829 did not run properly\n",
      "bad escape \\i at position 36\n",
      "  warnings.warn(latex.LatexWarning(f\"{paper_id:s} did not run properly\\n\" +\n"
     ]
    },
    {
     "name": "stdout",
     "output_type": "stream",
     "text": [
      "extracting tarball to tmp_2409.04046..."
     ]
    },
    {
     "name": "stdout",
     "output_type": "stream",
     "text": [
      " done.\n",
      "Retrieving document from  https://arxiv.org/e-print/2409.04405\n"
     ]
    },
    {
     "name": "stdout",
     "output_type": "stream",
     "text": [
      "extracting tarball to tmp_2409.04405..."
     ]
    },
    {
     "name": "stdout",
     "output_type": "stream",
     "text": [
      " done.\n"
     ]
    }
   ],
   "source": [
    "documents = []\n",
    "failed = []\n",
    "for paper in tqdm(candidates):\n",
    "    # debug crap\n",
    "    paper['identifier'] = paper['identifier'].lower().replace('arxiv:', '').replace(r'\\n', '').strip()\n",
    "    paper_id = paper['identifier']\n",
    "    \n",
    "    folder = f'tmp_{paper_id}'\n",
    "\n",
    "    try:\n",
    "        if not os.path.isdir(folder):\n",
    "            folder = retrieve_document_source(f\"{paper_id}\", f'tmp_{paper_id}')\n",
    "        \n",
    "        try:\n",
    "            doc = latex.LatexDocument(folder, validation=validation)    \n",
    "        except AffiliationError as affilerror:\n",
    "            msg = f\"ArXiv:{paper_id:s} is not an MPIA paper... \" + str(affilerror)\n",
    "            failed.append((paper, \"affiliation error: \" + str(affilerror) ))\n",
    "            continue\n",
    "        \n",
    "        # Hack because sometimes author parsing does not work well\n",
    "        if (len(doc.authors) != len(paper['authors'])):\n",
    "            doc._authors = paper['authors']\n",
    "        else:\n",
    "            # highlight authors (FIXME: doc.highlight_authors)\n",
    "            # done on arxiv paper already\n",
    "            doc._authors = highlight_authors_in_list(\n",
    "                [mpia.get_initials(k) for k in doc.authors], \n",
    "                mpia_authors, verbose=True)\n",
    "        if (doc.abstract) in (None, ''):\n",
    "            doc._abstract = paper['abstract']\n",
    "            \n",
    "        doc.comment = (get_markdown_badge(paper_id) + \n",
    "                       \"<mark>Appeared on: \" + paper['date'] + \"</mark> - \")\n",
    "        if paper['comments']:\n",
    "            doc.comment += \" _\" + paper['comments'] + \"_\"\n",
    "        \n",
    "        full_md = doc.generate_markdown_text()\n",
    "        \n",
    "        full_md += get_markdown_qrcode(paper_id)\n",
    "        \n",
    "        # replace citations\n",
    "        try:\n",
    "            bibdata = latex_bib.LatexBib.from_doc(doc)\n",
    "            full_md = latex_bib.replace_citations(full_md, bibdata)\n",
    "        except Exception as e:\n",
    "            print(e)\n",
    "        \n",
    "        documents.append((paper_id, full_md))\n",
    "    except Exception as e:\n",
    "        warnings.warn(latex.LatexWarning(f\"{paper_id:s} did not run properly\\n\" +\n",
    "                                         str(e)\n",
    "                                        ))\n",
    "        failed.append((paper, \"latex error \" + str(e)))"
   ]
  },
  {
   "cell_type": "markdown",
   "id": "2505a25c",
   "metadata": {
    "papermill": {
     "duration": 0.004499,
     "end_time": "2024-09-09T04:11:22.731445",
     "exception": false,
     "start_time": "2024-09-09T04:11:22.726946",
     "status": "completed"
    },
    "tags": []
   },
   "source": [
    "### Export the logs\n",
    "\n",
    "Throughout, we also keep track of the logs per paper. see `logs-{today date}.md` "
   ]
  },
  {
   "cell_type": "code",
   "execution_count": 6,
   "id": "d733828a",
   "metadata": {
    "execution": {
     "iopub.execute_input": "2024-09-09T04:11:22.742186Z",
     "iopub.status.busy": "2024-09-09T04:11:22.741528Z",
     "iopub.status.idle": "2024-09-09T04:11:22.757363Z",
     "shell.execute_reply": "2024-09-09T04:11:22.756677Z"
    },
    "papermill": {
     "duration": 0.022831,
     "end_time": "2024-09-09T04:11:22.758748",
     "exception": false,
     "start_time": "2024-09-09T04:11:22.735917",
     "status": "completed"
    },
    "scrolled": false,
    "tags": []
   },
   "outputs": [
    {
     "data": {
      "text/markdown": [
       "## Successful papers"
      ],
      "text/plain": [
       "<IPython.core.display.Markdown object>"
      ]
     },
     "metadata": {},
     "output_type": "display_data"
    },
    {
     "data": {
      "text/markdown": [
       "\n",
       "|||\n",
       "|---:|:---|\n",
       "| [![arXiv](https://img.shields.io/badge/arXiv-2409.03816-b31b1b.svg)](https://arxiv.org/abs/2409.03816) | **TriPoD: Tri-Population size distributions for Dust evolution. Coagulation in vertically integrated hydrodynamic simulations of protoplanetary disks**  |\n",
       "|| <mark>T. Pfeil</mark>, T. Birnstiel, <mark>H. Klahr</mark> |\n",
       "|*Appeared on*| *2024-09-09*|\n",
       "|*Comments*| *22 pages, 13 figures, accepted for publication in Astronomy and Astrophysics*|\n",
       "|**Abstract**|            Context. Dust coagulation and fragmentation impact the structure and evolution of protoplanetary disks and set the initial conditions for planet formation. Dust grains dominate the opacities, they determine the cooling times of the gas, they influence the ionization state of the gas, and the grain surface area is an important parameter for the chemistry in protoplanetary disks. Therefore, dust evolution should not be ignored in numerical studies of protoplanetary disks. Available dust coagulation models are, however, too computationally expensive to be implemented in large-scale hydrodynamic simulations. This limits detailed numerical studies of protoplanetary disks, including these effects, mostly to one-dimensional models. Aims. We aim to develop a simple - yet accurate - dust coagulation model that can be implemented in hydrodynamic simulations of protoplanetary disks. Our model shall not significantly increase the computational cost of simulations and provide information about the local grain size distribution. Methods. The local dust size distributions are assumed to be truncated power laws. Such distributions can be characterized by two dust fluids (large and small grains) and a maximum particle size, truncating the power law. We compare our model to state-of-the-art dust coagulation simulations and calibrate it to achieve a good fit with these sophisticated numerical methods. Results. Running various parameter studies, we achieved a good fit between our simplified three-parameter model and DustPy, a state-of-the-art dust coagulation software. Conclusions. We present TriPoD, a sub-grid dust coagulation model for the PLUTO code. With TriPoD, we can perform two-dimensional, vertically integrated dust coagulation simulations on top of a hydrodynamic simulation. Studying the dust distributions in two-dimensional vortices and planet-disk systems is thus made possible.         |"
      ],
      "text/plain": [
       "[2409.03816] TriPoD: Tri-Population size distributions for Dust evolution. Coagulation in vertically integrated hydrodynamic simulations of protoplanetary disks\n",
       "\t<mark>T. Pfeil</mark>, T. Birnstiel, <mark>H. Klahr</mark>"
      ]
     },
     "metadata": {},
     "output_type": "display_data"
    },
    {
     "data": {
      "text/markdown": [
       "## Failed papers"
      ],
      "text/plain": [
       "<IPython.core.display.Markdown object>"
      ]
     },
     "metadata": {},
     "output_type": "display_data"
    },
    {
     "data": {
      "text/markdown": [
       "\n",
       "|||\n",
       "|---:|:---|\n",
       "| [![arXiv](https://img.shields.io/badge/arXiv-2409.04046-b31b1b.svg)](https://arxiv.org/abs/2409.04046) | **Nonlinear dynamics of oscillons and transients during preheating after single field inflation**  |\n",
       "|| T. Jia, Y. Sang, <mark>X. Zhang</mark> |\n",
       "|*Appeared on*| *2024-09-09*|\n",
       "|*Comments*| *14 pages, 12 figures, 2 tables*|\n",
       "|**Abstract**|            In the single-field model, the preheating process occurs through self-resonance of inflaton field. We study the nonlinear structures generated during preheating in the $\\alpha$-attractor models and monodromy models. The potentials have a power law form $\\propto\\left|\\phi\\right|^{2n}$ near the origin and a flat region away from bottom, which are consistent with current cosmological observations. The Floquet analysis shows that potential parameters in monodromy model have a significant influence on the region of resonance bands. The analytical oscillons solution for the $\\alpha$-attractor T model with parameter $n=1$ is derived using the small amplitude analysis method. Besides we investigate the formation of nonlinear structures, the equation of state and the energy transfer through the (3+1) dimensional lattice simulation. We find that the symmetric T potential and the asymmetric E potential in the $\\alpha$-attractor models have similar nonlinear dynamics. And the potential parameter $n$ in monodromy model significantly influences the lifetime of transients, whereas the parameter $q$ exerts minimal impact on the nonlinear dynamics.         |\n",
       "|<p style=\"color:green\"> **ERROR** </p>| <p style=\"color:green\">affiliation error: mpia.affiliation_verifications: 'Heidelberg' keyword not found.</p> |"
      ],
      "text/plain": [
       "<IPython.core.display.Markdown object>"
      ]
     },
     "metadata": {},
     "output_type": "display_data"
    },
    {
     "data": {
      "text/markdown": [
       "\n",
       "|||\n",
       "|---:|:---|\n",
       "| [![arXiv](https://img.shields.io/badge/arXiv-2409.04405-b31b1b.svg)](https://arxiv.org/abs/2409.04405) | **Asymptotic-state prediction for fast flavor transformation in neutron star mergers**  |\n",
       "|| S. Richers, et al. -- incl., <mark>S. Ghosh</mark> |\n",
       "|*Appeared on*| *2024-09-09*|\n",
       "|*Comments*| *Comments welcome*|\n",
       "|**Abstract**|            Neutrino flavor instabilities appear to be omnipresent in dense astrophysical environments, thus presenting a challenge to large-scale simulations of core-collapse supernovae and neutron star mergers (NSMs). Subgrid models offer a path forward, but require an accurate determination of the local outcome of such conversion phenomena. Focusing on \"fast\" instabilities, related to the existence of a crossing between neutrino and antineutrino angular distributions, we consider a range of analytical mixing schemes, including a new, fully three-dimensional one, and also introduce a new machine learning (ML) model. We compare the accuracy of these models with the results of several thousands of local dynamical calculations of neutrino evolution from the conditions extracted from classical NSM simulations. Our ML model shows good overall performance, but struggles to generalize to conditions from a NSM simulation not used for training. The multidimensional analytic model performs and generalizes even better, while other analytic models (which assume axisymmetric neutrino distributions) do not have reliably high performances, as they notably fail as expected to account for effects resulting from strong anisotropies. The ML and analytic subgrid models extensively tested here are both promising, with different computational requirements and sources of systematic errors.         |\n",
       "|<p style=\"color:green\"> **ERROR** </p>| <p style=\"color:green\">affiliation error: mpia.affiliation_verifications: 'Heidelberg' keyword not found.</p> |"
      ],
      "text/plain": [
       "<IPython.core.display.Markdown object>"
      ]
     },
     "metadata": {},
     "output_type": "display_data"
    },
    {
     "data": {
      "text/markdown": [
       "\n",
       "|||\n",
       "|---:|:---|\n",
       "| [![arXiv](https://img.shields.io/badge/arXiv-2409.03829-b31b1b.svg)](https://arxiv.org/abs/2409.03829) | **RUBIES Reveals a Massive Quiescent Galaxy at z=7.3**  |\n",
       "|| A. Weibel, et al. -- incl., <mark>A. d. Graaff</mark> |\n",
       "|*Appeared on*| *2024-09-09*|\n",
       "|*Comments*| *21 pages, 7 figures, submitted to ApJ*|\n",
       "|**Abstract**|            We report the spectroscopic discovery of a massive quiescent galaxy at $z_{\\rm spec}=7.29\\pm0.01$, just $\\sim700\\,$Myr after the Big Bang. RUBIES-UDS-QG-z7 was selected from public JWST/NIRCam and MIRI imaging from the PRIMER survey and observed with JWST/NIRSpec as part of RUBIES. The NIRSpec/PRISM spectrum reveals one of the strongest Balmer breaks observed thus far at $z>6$, no emission lines, but tentative Balmer and Ca absorption features, as well as a Lyman break. Simultaneous modeling of the NIRSpec/PRISM spectrum and NIRCam and MIRI photometry (spanning $0.9-18\\,\\mu$m) shows that the galaxy formed a stellar mass of log$(M_*/M_\\odot)=10.23^{+0.04}_{-0.04}$ in a rapid $\\sim 100-200\\,$Myr burst of star formation at $z\\sim8-9$, and ceased forming stars by $z\\sim8$ resulting in $\\log \\rm{sSFR/yr}^{-1}<-10$. We measure a small physical size of $209_{-24}^{+33}\\,{\\rm pc}$, which implies a high stellar mass surface density within the effective radius of $\\log(\\Sigma_{*,\\rm e}/{\\rm M_\\odot\\,kpc}^{-2})=10.85_{-0.12}^{+0.11}$ comparable to the densities measured in quiescent galaxies at $z\\sim2-5$. The 3D stellar mass density profile of RUBIES-UDS-QG-z7 is remarkably similar to the central densities of local massive ellipticals, suggesting that at least some of their cores may have already been in place at $z>7$. The discovery of RUBIES-UDS-QG-z7 has strong implications for galaxy formation models: the estimated number density of quiescent galaxies at $z\\sim7$ is $>100\\times$ larger than predicted from any model to date, indicating that quiescent galaxies have formed earlier than previously expected.         |\n",
       "|<p style=\"color:red\"> **ERROR** </p>| <p style=\"color:red\">latex error bad escape \\i at position 36</p> |"
      ],
      "text/plain": [
       "<IPython.core.display.Markdown object>"
      ]
     },
     "metadata": {},
     "output_type": "display_data"
    }
   ],
   "source": [
    "import datetime\n",
    "today = str(datetime.date.today())\n",
    "logfile = f\"_build/html/logs/log-{today}.md\"\n",
    "\n",
    "\n",
    "with open(logfile, 'w') as logs:\n",
    "    # Success\n",
    "    logs.write(f'# Arxiv on Deck 2: Logs - {today}\\n\\n')\n",
    "    logs.write(\"\"\"* Arxiv had {0:,d} new papers\\n\"\"\".format(len(new_papers)))\n",
    "    logs.write(\"\"\"    * {0:,d} with possible author matches\\n\\n\"\"\".format(len(candidates)))\n",
    "    logs.write(\"## Sucessful papers\\n\\n\")\n",
    "    display(Markdown(\"## Successful papers\"))\n",
    "    success = [k[0] for k in documents]\n",
    "    for candid in candidates:\n",
    "        if candid['identifier'].split(':')[-1] in success:\n",
    "            display(candid)\n",
    "            logs.write(candid.generate_markdown_text() + '\\n\\n')\n",
    "\n",
    "    ## failed\n",
    "    logs.write(\"## Failed papers\\n\\n\")\n",
    "    display(Markdown(\"## Failed papers\"))\n",
    "    failed = sorted(failed, key=lambda x: x[1])\n",
    "    current_reason = \"\"\n",
    "    for paper, reason in failed:\n",
    "        if 'affiliation' in reason:\n",
    "            color = 'green'\n",
    "        else:\n",
    "            color = 'red'\n",
    "        data = Markdown(\n",
    "                paper.generate_markdown_text() + \n",
    "                f'\\n|<p style=\"color:{color:s}\"> **ERROR** </p>| <p style=\"color:{color:s}\">{reason:s}</p> |'\n",
    "               )\n",
    "        if reason != current_reason:\n",
    "            logs.write(f'### {reason:s} \\n\\n')\n",
    "            current_reason = reason\n",
    "        logs.write(data.data + '\\n\\n')\n",
    "        \n",
    "        # only display here the important errors (all in logs)\n",
    "        # if color in ('red',):\n",
    "        display(data)"
   ]
  },
  {
   "cell_type": "markdown",
   "id": "472d20ee",
   "metadata": {
    "papermill": {
     "duration": 0.004788,
     "end_time": "2024-09-09T04:11:22.768676",
     "exception": false,
     "start_time": "2024-09-09T04:11:22.763888",
     "status": "completed"
    },
    "tags": []
   },
   "source": [
    "## Export documents\n",
    "\n",
    "We now write the .md files and export relevant images"
   ]
  },
  {
   "cell_type": "code",
   "execution_count": 7,
   "id": "d426aed9",
   "metadata": {
    "execution": {
     "iopub.execute_input": "2024-09-09T04:11:22.779871Z",
     "iopub.status.busy": "2024-09-09T04:11:22.779283Z",
     "iopub.status.idle": "2024-09-09T04:11:22.786622Z",
     "shell.execute_reply": "2024-09-09T04:11:22.786030Z"
    },
    "papermill": {
     "duration": 0.014451,
     "end_time": "2024-09-09T04:11:22.787953",
     "exception": false,
     "start_time": "2024-09-09T04:11:22.773502",
     "status": "completed"
    },
    "tags": []
   },
   "outputs": [],
   "source": [
    "def export_markdown_summary(md: str, md_fname:str, directory: str):\n",
    "    \"\"\"Export MD document and associated relevant images\"\"\"\n",
    "    import os\n",
    "    import shutil\n",
    "    import re\n",
    "\n",
    "    if (os.path.exists(directory) and not os.path.isdir(directory)):\n",
    "        raise RuntimeError(f\"a non-directory file exists with name {directory:s}\")\n",
    "\n",
    "    if (not os.path.exists(directory)):\n",
    "        print(f\"creating directory {directory:s}\")\n",
    "        os.mkdir(directory)\n",
    "\n",
    "    fig_fnames = (re.compile(r'\\[Fig.*\\]\\((.*)\\)').findall(md) + \n",
    "                  re.compile(r'\\<img src=\"([^>\\s]*)\"[^>]*/>').findall(md))\n",
    "    print(\"found figures\", fig_fnames)\n",
    "    for fname in fig_fnames:\n",
    "        if 'http' in fname:\n",
    "            # No need to copy online figures\n",
    "            continue\n",
    "        if not os.path.exists(fname):\n",
    "            print(\"file not found\", fname)\n",
    "            continue\n",
    "        print(\"copying \", fname, \"to\", directory)\n",
    "        destdir = os.path.join(directory, os.path.dirname(fname))\n",
    "        destfname = os.path.join(destdir, os.path.basename(fname))\n",
    "        try:\n",
    "            os.makedirs(destdir)\n",
    "        except FileExistsError:\n",
    "            pass\n",
    "        shutil.copy(fname, destfname)\n",
    "    with open(os.path.join(directory, md_fname), 'w') as fout:\n",
    "        fout.write(md)\n",
    "    print(\"exported in \", os.path.join(directory, md_fname))\n",
    "    [print(\"    + \" + os.path.join(directory,fk)) for fk in fig_fnames]"
   ]
  },
  {
   "cell_type": "code",
   "execution_count": 8,
   "id": "014d04a4",
   "metadata": {
    "execution": {
     "iopub.execute_input": "2024-09-09T04:11:22.799725Z",
     "iopub.status.busy": "2024-09-09T04:11:22.799120Z",
     "iopub.status.idle": "2024-09-09T04:11:22.806266Z",
     "shell.execute_reply": "2024-09-09T04:11:22.805668Z"
    },
    "papermill": {
     "duration": 0.01471,
     "end_time": "2024-09-09T04:11:22.807684",
     "exception": false,
     "start_time": "2024-09-09T04:11:22.792974",
     "status": "completed"
    },
    "tags": []
   },
   "outputs": [
    {
     "name": "stdout",
     "output_type": "stream",
     "text": [
      "found figures ['tmp_2409.03816/./FiguresPaper3/2popDustPyCompare_New.png', 'tmp_2409.03816/./FiguresPaper3/FudgeStudy_Diffusion_New.png', 'tmp_2409.03816/./FiguresPaper3/DuffellCompareDetailed_New.png']\n",
      "copying  tmp_2409.03816/./FiguresPaper3/2popDustPyCompare_New.png to _build/html/\n",
      "copying  tmp_2409.03816/./FiguresPaper3/FudgeStudy_Diffusion_New.png to _build/html/\n",
      "copying  tmp_2409.03816/./FiguresPaper3/DuffellCompareDetailed_New.png to _build/html/\n",
      "exported in  _build/html/2409.03816.md\n",
      "    + _build/html/tmp_2409.03816/./FiguresPaper3/2popDustPyCompare_New.png\n",
      "    + _build/html/tmp_2409.03816/./FiguresPaper3/FudgeStudy_Diffusion_New.png\n",
      "    + _build/html/tmp_2409.03816/./FiguresPaper3/DuffellCompareDetailed_New.png\n"
     ]
    }
   ],
   "source": [
    "for paper_id, md in documents:\n",
    "    export_markdown_summary(md, f\"{paper_id:s}.md\", '_build/html/')"
   ]
  },
  {
   "cell_type": "markdown",
   "id": "f087a0a7",
   "metadata": {
    "papermill": {
     "duration": 0.005026,
     "end_time": "2024-09-09T04:11:22.817837",
     "exception": false,
     "start_time": "2024-09-09T04:11:22.812811",
     "status": "completed"
    },
    "tags": []
   },
   "source": [
    "## Display the papers\n",
    "\n",
    "Not necessary but allows for a quick check."
   ]
  },
  {
   "cell_type": "code",
   "execution_count": 9,
   "id": "fd25f625",
   "metadata": {
    "execution": {
     "iopub.execute_input": "2024-09-09T04:11:22.829382Z",
     "iopub.status.busy": "2024-09-09T04:11:22.828744Z",
     "iopub.status.idle": "2024-09-09T04:11:22.834112Z",
     "shell.execute_reply": "2024-09-09T04:11:22.833458Z"
    },
    "papermill": {
     "duration": 0.012733,
     "end_time": "2024-09-09T04:11:22.835485",
     "exception": false,
     "start_time": "2024-09-09T04:11:22.822752",
     "status": "completed"
    },
    "scrolled": false,
    "tags": []
   },
   "outputs": [
    {
     "data": {
      "text/markdown": [
       "<div class=\"macros\" style=\"visibility:hidden;\">\n",
       "$\\newcommand{\\ensuremath}{}$\n",
       "$\\newcommand{\\xspace}{}$\n",
       "$\\newcommand{\\object}[1]{\\texttt{#1}}$\n",
       "$\\newcommand{\\farcs}{{.}''}$\n",
       "$\\newcommand{\\farcm}{{.}'}$\n",
       "$\\newcommand{\\arcsec}{''}$\n",
       "$\\newcommand{\\arcmin}{'}$\n",
       "$\\newcommand{\\ion}[2]{#1#2}$\n",
       "$\\newcommand{\\textsc}[1]{\\textrm{#1}}$\n",
       "$\\newcommand{\\hl}[1]{\\textrm{#1}}$\n",
       "$\\newcommand{\\footnote}[1]{}$\n",
       "$\\newcommand{\\RN}[1]{$\n",
       "$  \\textup{\\uppercase\\expandafter{\\romannumeral#1}}$\n",
       "$}$\n",
       "$\\newcommand{\\Sigmag}{\\Sigma_{\\mathrm{g}}}$\n",
       "$\\newcommand{\\Sigmad}{\\Sigma_{\\mathrm{d}}}$\n",
       "$\\newcommand{\\rhog}{\\rho_{\\mathrm{g}}}$\n",
       "$\\newcommand{\\rhod}{\\rho_{\\mathrm{d}}}$\n",
       "$\\newcommand{\\vg}{\\vec{v}_{\\mathrm{g}}}$\n",
       "$\\newcommand{\\vd}{\\vec{v}_{\\mathrm{d}}}$\n",
       "$\\newcommand{\\amax}{a_{\\mathrm{max}}}$\n",
       "$\\newcommand{\\amin}{a_{\\mathrm{min}}}$\n",
       "$\\newcommand{\\aint}{a_{\\mathrm{int}}}$\n",
       "$\\newcommand{\\adr}{a_{\\mathrm{drift}}}$\n",
       "$\\newcommand{\\vdr}{v_{\\mathrm{drift}}}$\n",
       "$\\newcommand{\\tfr}{t_\\mathrm{fric}}$\n",
       "$\\newcommand{\\St}{\\mathrm{St}}$\n",
       "$\\newcommand{\\Rey}{\\mathrm{Re}}$\n",
       "$\\newcommand{\\OmK}{\\Omega_\\text{K}}$\n",
       "$\\newcommand{\\der}[2]{\\frac{\\partial{#1}}{\\partial{#2}}}$\n",
       "$\\newcommand{\\hd}{h_{\\mathrm{d}}}$\n",
       "$\\newcommand{\\Mp}{m_{\\mathrm{p}}}$\n",
       "$\\newcommand{\\Sd}{\\Sigma_{\\mathrm{d}}}$\n",
       "$\\newcommand{\\dpy}{\\texttt{DustPy}}$\n",
       "$\\newcommand{\\pluto}{\\texttt{PLUTO}}$\n",
       "$\\newcommand{\\tpop}{\\texttt{TriPoD}}$\n",
       "$\\newcommand{\\tpoppy}{\\texttt{two-pop-py}}$\n",
       "$\\newcommand{\\rev}[1]{{#1}}$\n",
       "$\\newcommand{\\revI}[1]{{#1}}$\n",
       "$\\newcommand{\\revII}[1]{{#1}}$\n",
       "$\\newcommand{\\new}[1]{{#1}}$\n",
       "$\\newcommand$</div>\n",
       "\n",
       "\n",
       "\n",
       "<div id=\"title\">\n",
       "\n",
       "# $\\tpop$ : \\texttt{Tri}-\\texttt{P}opulation size distributions for \\texttt{D}ust evolution.\n",
       "\n",
       "</div>\n",
       "<div id=\"comments\">\n",
       "\n",
       "[![arXiv](https://img.shields.io/badge/arXiv-2409.03816-b31b1b.svg)](https://arxiv.org/abs/2409.03816)<mark>Appeared on: 2024-09-09</mark> -  _22 pages, 13 figures, accepted for publication in Astronomy and Astrophysics_\n",
       "\n",
       "</div>\n",
       "<div id=\"authors\">\n",
       "\n",
       "<mark>T. Pfeil</mark>, T. Birnstiel, <mark>H. Klahr</mark>\n",
       "\n",
       "</div>\n",
       "<div id=\"abstract\">\n",
       "\n",
       "**Abstract:** Dust coagulation and fragmentation impact the structure and evolution of protoplanetary disks and set the initial conditions for planet formation. Dust grains dominate the opacities, they determine the cooling times of the gas via thermal accommodation in collisions, they influence the ionization state of the gas, and the available grain surface area is an important parameter for the chemistry in protoplanetary disks. Therefore, dust evolution is an effect that should not be ignored in numerical studies of protoplanetary disks. Available dust coagulation models are, however, too computationally expensive to be implemented in large-scale hydrodynamic simulations. This limits detailed numerical studies of protoplanetary disks, including these effects, mostly to one-dimensional models. We aim to develop a simple---yet accurate---dust coagulation model that can be easily implemented in hydrodynamic simulations of protoplanetary disks. Our model shall not significantly increase the computational cost of simulations and provide information about the local grain size distribution. The local dust size distributions are assumed to be truncated power laws. Such distributions can be fully characterized by only two dust fluids (large and small grains) and a maximum particle size, truncating the power law. We compare our model to state-of-the-art dust coagulation simulations and calibrate it to achieve a good fit with these sophisticated numerical methods. Running various parameter studies, we achieved a good fit between our simplified three-parameter model and $\\dpy$ , a state-of-the-art dust coagulation software. We present $\\tpop$ , a sub-grid dust coagulation model for the $\\pluto$ code. With $\\tpop$ , we can perform two-dimensional, vertically integrated dust coagulation simulations on top of a hydrodynamic simulation. Studying the dust distributions in two-dimensional vortices and planet-disk systems is thus made possible.\n",
       "\n",
       "</div>\n",
       "\n",
       "<div id=\"div_fig1\">\n",
       "\n",
       "<img src=\"tmp_2409.03816/./FiguresPaper3/2popDustPyCompare_New.png\" alt=\"Fig3\" width=\"100%\"/>\n",
       "\n",
       "**Figure 3. -** Comparison between the fiducial $\\dpy$  setup and the fiducial $\\tpop$  setup.Comparison between the full coagulation model $\\dpy$(upper row, 171 dust fluids) and our new three-parameter power-law prescription $\\tpop$ , which we implemented in the $\\pluto$  code (two dust fluids). We show two snapshots of the one-dimensional disk models in the first two panels in each row. The third panel shows the local dust size distribution of the respective model at \\SI{10}{\\AU} for both snapshots. The light grid in the background represents size distribution power laws with $n(a)\\propto a^{-3.5}$ and $n(a)\\propto a^{-3.0}$. (*fig:fiducial*)\n",
       "\n",
       "</div>\n",
       "<div id=\"div_fig2\">\n",
       "\n",
       "<img src=\"tmp_2409.03816/./FiguresPaper3/FudgeStudy_Diffusion_New.png\" alt=\"Fig6\" width=\"100%\"/>\n",
       "\n",
       "**Figure 6. -** Drift velocity factor parameter study.Comparison between $\\dpy$  and our model in a setup with dust diffusion ($\\delta=10^{-3}$) and with different drift calibration factors $f_\\mathrm{drift}$. $\\rev$I{Solid lines show the results of our $\\tpop$  calibration runs and dashed lines show the respective $\\dpy$  simulation, to which we calibrate our model.} The upper row shows a timeseries of the dust column density evolution in three snapshots. In the lower row, we show the mass evolution and the errors with respect to the full coagulation model $\\dpy$ . For a factor of $\\new${$f_\\mathrm{drift}=0.8$}, the mass evolution of the full coagulation model is well reproduced by our three-parameter model. (*fig:FudgeDiff*)\n",
       "\n",
       "</div>\n",
       "<div id=\"div_fig3\">\n",
       "\n",
       "<img src=\"tmp_2409.03816/./FiguresPaper3/DuffellCompareDetailed_New.png\" alt=\"Fig9\" width=\"100%\"/>\n",
       "\n",
       "**Figure 9. -** Detailed comparison between $\\dpy$  and $\\tpop$  in a simulation with a planetary gap.Comparison between a $\\dpy$  simulation and a $\\pluto$  simulation with our $\\tpop$  dust coagulation model in a protoplanetary disk with a pre-defined gap. We also show the particle sizes and dust column density profiles calculated with the old $\\tpop$py  model as dotted lines. $\\rev$I{The plot on the right-hand side depicts the local dust size distributions at \\SI{5}{\\AU} (within the gap) and at \\SI{8.5}{\\AU} (at the pressure maximum), for two different snapshots. The gray lines in the right panel follow power laws with $q=-3.5$ and $q=-3.0$.} (*fig:Duffell1D*)\n",
       "\n",
       "</div><div id=\"qrcode\"><img src=https://api.qrserver.com/v1/create-qr-code/?size=100x100&data=\"https://arxiv.org/abs/2409.03816\"></div>"
      ],
      "text/plain": [
       "<IPython.core.display.Markdown object>"
      ]
     },
     "metadata": {},
     "output_type": "display_data"
    }
   ],
   "source": [
    "[display(Markdown(k[1])) for k in documents];"
   ]
  },
  {
   "cell_type": "markdown",
   "id": "873873a4",
   "metadata": {
    "papermill": {
     "duration": 0.005419,
     "end_time": "2024-09-09T04:11:22.846405",
     "exception": false,
     "start_time": "2024-09-09T04:11:22.840986",
     "status": "completed"
    },
    "tags": []
   },
   "source": [
    "# Create HTML index"
   ]
  },
  {
   "cell_type": "code",
   "execution_count": 10,
   "id": "cf665672",
   "metadata": {
    "execution": {
     "iopub.execute_input": "2024-09-09T04:11:22.858492Z",
     "iopub.status.busy": "2024-09-09T04:11:22.857967Z",
     "iopub.status.idle": "2024-09-09T04:11:22.866878Z",
     "shell.execute_reply": "2024-09-09T04:11:22.866195Z"
    },
    "papermill": {
     "duration": 0.016684,
     "end_time": "2024-09-09T04:11:22.868331",
     "exception": false,
     "start_time": "2024-09-09T04:11:22.851647",
     "status": "completed"
    },
    "tags": []
   },
   "outputs": [
    {
     "name": "stdout",
     "output_type": "stream",
     "text": [
      "176  publications files modified in the last 7 days.\n"
     ]
    }
   ],
   "source": [
    "from datetime import datetime, timedelta, timezone\n",
    "from glob import glob\n",
    "import os\n",
    "\n",
    "files = glob('_build/html/*.md')\n",
    "days = 7\n",
    "now = datetime.today()\n",
    "res = []\n",
    "for fk in files:\n",
    "    stat_result = os.stat(fk).st_ctime\n",
    "    modified = datetime.fromtimestamp(stat_result, tz=timezone.utc).replace(tzinfo=None)\n",
    "    delta = now.today() - modified\n",
    "    if delta <= timedelta(days=days):\n",
    "        res.append((delta.seconds, fk))\n",
    "res = [k[1] for k in reversed(sorted(res, key=lambda x:x[1]))]\n",
    "npub = len(res)\n",
    "print(len(res), f\" publications files modified in the last {days:d} days.\")\n",
    "# [ print('\\t', k) for k in res ];"
   ]
  },
  {
   "cell_type": "code",
   "execution_count": 11,
   "id": "015de740",
   "metadata": {
    "execution": {
     "iopub.execute_input": "2024-09-09T04:11:22.880882Z",
     "iopub.status.busy": "2024-09-09T04:11:22.880376Z",
     "iopub.status.idle": "2024-09-09T04:11:22.895901Z",
     "shell.execute_reply": "2024-09-09T04:11:22.895198Z"
    },
    "papermill": {
     "duration": 0.023359,
     "end_time": "2024-09-09T04:11:22.897307",
     "exception": false,
     "start_time": "2024-09-09T04:11:22.873948",
     "status": "completed"
    },
    "tags": []
   },
   "outputs": [
    {
     "name": "stdout",
     "output_type": "stream",
     "text": [
      "5  publications in the last 7 days.\n"
     ]
    }
   ],
   "source": [
    "import datetime\n",
    "from glob import glob\n",
    "\n",
    "def get_last_n_days(lst, days=1):\n",
    "    \"\"\" Get the documents from the last n days \"\"\"\n",
    "    sorted_lst = sorted(lst, key=lambda x: x[1], reverse=True)\n",
    "    for fname, date in sorted_lst:\n",
    "        if date >= str(datetime.date.today() - datetime.timedelta(days=days)):\n",
    "            yield fname\n",
    "\n",
    "def extract_appearance_dates(lst_file):\n",
    "    dates = []\n",
    "\n",
    "    def get_date(line):\n",
    "        return line\\\n",
    "            .split('Appeared on:')[-1]\\\n",
    "            .split('</mark>')[0].strip()\n",
    "\n",
    "    for fname in lst:\n",
    "        with open(fname, 'r') as f:\n",
    "            found_date = False\n",
    "            for line in f:\n",
    "                if not found_date:\n",
    "                    if \"Appeared on\" in line:\n",
    "                        found_date = True\n",
    "                        dates.append((fname, get_date(line)))\n",
    "                else:\n",
    "                    break\n",
    "    return dates\n",
    "\n",
    "from glob import glob\n",
    "lst = glob('_build/html/*md')\n",
    "days = 7\n",
    "dates = extract_appearance_dates(lst)\n",
    "res = list(get_last_n_days(dates, days))\n",
    "npub = len(res)\n",
    "print(len(res), f\" publications in the last {days:d} days.\")"
   ]
  },
  {
   "cell_type": "code",
   "execution_count": 12,
   "id": "52ca0208",
   "metadata": {
    "execution": {
     "iopub.execute_input": "2024-09-09T04:11:22.909975Z",
     "iopub.status.busy": "2024-09-09T04:11:22.909363Z",
     "iopub.status.idle": "2024-09-09T04:11:22.914774Z",
     "shell.execute_reply": "2024-09-09T04:11:22.914099Z"
    },
    "papermill": {
     "duration": 0.01326,
     "end_time": "2024-09-09T04:11:22.916134",
     "exception": false,
     "start_time": "2024-09-09T04:11:22.902874",
     "status": "completed"
    },
    "scrolled": false,
    "tags": []
   },
   "outputs": [],
   "source": [
    "def create_carousel(npub=4):\n",
    "    \"\"\" Generate the HTML code for a carousel with `npub` slides \"\"\"\n",
    "    carousel = [\"\"\"  <div class=\"carousel\" \"\"\",\n",
    "                \"\"\"       data-flickity='{ \"autoPlay\": 10000, \"adaptiveHeight\": true, \"resize\": true, \"wrapAround\": true, \"pauseAutoPlayOnHover\": true, \"groupCells\": 1 }' id=\"asyncTypeset\">\"\"\"\n",
    "                ]\n",
    "    \n",
    "    item_str = \"\"\"    <div class=\"carousel-cell\"> <div id=\"slide{k}\" class=\"md_view\">Content {k}</div> </div>\"\"\"\n",
    "    for k in range(1, npub + 1):\n",
    "        carousel.append(item_str.format(k=k))\n",
    "    carousel.append(\"  </div>\")\n",
    "    return '\\n'.join(carousel)\n",
    "\n",
    "def create_grid(npub=4):\n",
    "    \"\"\" Generate the HTML code for a flat grid with `npub` slides \"\"\"\n",
    "    grid = [\"\"\"  <div class=\"grid\"> \"\"\",\n",
    "                ]\n",
    "    \n",
    "    item_str = \"\"\"    <div class=\"grid-item\"> <div id=\"slide{k}\" class=\"md_view\">Content {k}</div> </div>\"\"\"\n",
    "    for k in range(1, npub + 1):\n",
    "        grid.append(item_str.format(k=k))\n",
    "    grid.append(\"  </div>\")\n",
    "    return '\\n'.join(grid)"
   ]
  },
  {
   "cell_type": "code",
   "execution_count": 13,
   "id": "a6eac5b6",
   "metadata": {
    "execution": {
     "iopub.execute_input": "2024-09-09T04:11:22.928943Z",
     "iopub.status.busy": "2024-09-09T04:11:22.928379Z",
     "iopub.status.idle": "2024-09-09T04:11:22.934070Z",
     "shell.execute_reply": "2024-09-09T04:11:22.933390Z"
    },
    "papermill": {
     "duration": 0.013827,
     "end_time": "2024-09-09T04:11:22.935573",
     "exception": false,
     "start_time": "2024-09-09T04:11:22.921746",
     "status": "completed"
    },
    "scrolled": false,
    "tags": []
   },
   "outputs": [],
   "source": [
    "carousel = create_carousel(npub)\n",
    "docs = ', '.join(['\"{0:s}\"'.format(k.split('/')[-1]) for k in res])\n",
    "slides = ', '.join([f'\"slide{k}\"' for k in range(1, npub + 1)])\n",
    "\n",
    "with open(\"daily_template.html\", \"r\") as tpl:\n",
    "    page = tpl.read()\n",
    "    page = page.replace(\"{%-- carousel:s --%}\", carousel)\\\n",
    "               .replace(\"{%-- suptitle:s --%}\",  \"7-day archives\" )\\\n",
    "               .replace(\"{%-- docs:s --%}\", docs)\\\n",
    "               .replace(\"{%-- slides:s --%}\", slides)\n",
    "    \n",
    "with open(\"_build/html/index_7days.html\", 'w') as fout:\n",
    "    fout.write(page)"
   ]
  },
  {
   "cell_type": "code",
   "execution_count": 14,
   "id": "adc1a1ec",
   "metadata": {
    "execution": {
     "iopub.execute_input": "2024-09-09T04:11:22.948903Z",
     "iopub.status.busy": "2024-09-09T04:11:22.948300Z",
     "iopub.status.idle": "2024-09-09T04:11:22.955473Z",
     "shell.execute_reply": "2024-09-09T04:11:22.954879Z"
    },
    "papermill": {
     "duration": 0.015439,
     "end_time": "2024-09-09T04:11:22.956863",
     "exception": false,
     "start_time": "2024-09-09T04:11:22.941424",
     "status": "completed"
    },
    "tags": []
   },
   "outputs": [
    {
     "name": "stdout",
     "output_type": "stream",
     "text": [
      "1  publications in the last day.\n"
     ]
    }
   ],
   "source": [
    "# redo for today\n",
    "days = 1\n",
    "res = list(get_last_n_days(dates, days))\n",
    "npub = len(res)\n",
    "print(len(res), f\" publications in the last day.\")\n",
    "\n",
    "carousel = create_carousel(npub)\n",
    "docs = ', '.join(['\"{0:s}\"'.format(k.split('/')[-1]) for k in res])\n",
    "slides = ', '.join([f'\"slide{k}\"' for k in range(1, npub + 1)])\n",
    "\n",
    "with open(\"daily_template.html\", \"r\") as tpl:\n",
    "    page = tpl.read()\n",
    "    page = page.replace(\"{%-- carousel:s --%}\", carousel)\\\n",
    "               .replace(\"{%-- suptitle:s --%}\",  \"Daily\" )\\\n",
    "               .replace(\"{%-- docs:s --%}\", docs)\\\n",
    "               .replace(\"{%-- slides:s --%}\", slides)\n",
    "    \n",
    "# print(carousel, docs, slides)\n",
    "# print(page)\n",
    "with open(\"_build/html/index_daily.html\", 'w') as fout:\n",
    "    fout.write(page)"
   ]
  },
  {
   "cell_type": "code",
   "execution_count": 15,
   "id": "00eece82",
   "metadata": {
    "execution": {
     "iopub.execute_input": "2024-09-09T04:11:22.969449Z",
     "iopub.status.busy": "2024-09-09T04:11:22.968969Z",
     "iopub.status.idle": "2024-09-09T04:11:22.975910Z",
     "shell.execute_reply": "2024-09-09T04:11:22.975342Z"
    },
    "papermill": {
     "duration": 0.014732,
     "end_time": "2024-09-09T04:11:22.977214",
     "exception": false,
     "start_time": "2024-09-09T04:11:22.962482",
     "status": "completed"
    },
    "scrolled": false,
    "tags": []
   },
   "outputs": [
    {
     "name": "stdout",
     "output_type": "stream",
     "text": [
      "6  6 publications selected.\n"
     ]
    }
   ],
   "source": [
    "# Create the flat grid of the last N papers (fixed number regardless of dates)\n",
    "from itertools import islice \n",
    "\n",
    "npub = 6\n",
    "res = [k[0] for k in (islice(reversed(sorted(dates, key=lambda x: x[1])), 6))]\n",
    "print(len(res), f\" {npub} publications selected.\")\n",
    "\n",
    "grid = create_grid(npub)\n",
    "docs = ', '.join(['\"{0:s}\"'.format(k.split('/')[-1]) for k in res])\n",
    "slides = ', '.join([f'\"slide{k}\"' for k in range(1, npub + 1)])\n",
    "\n",
    "with open(\"grid_template.html\", \"r\") as tpl:\n",
    "    page = tpl.read()\n",
    "    page = page.replace(\"{%-- grid-content:s --%}\", grid)\\\n",
    "               .replace(\"{%-- suptitle:s --%}\",  f\"Last {npub:,d} papers\" )\\\n",
    "               .replace(\"{%-- docs:s --%}\", docs)\\\n",
    "               .replace(\"{%-- slides:s --%}\", slides)\n",
    "    \n",
    "# print(grid, docs, slides)\n",
    "# print(page)\n",
    "with open(\"_build/html/index_npub_grid.html\", 'w') as fout:\n",
    "    fout.write(page)"
   ]
  }
 ],
 "metadata": {
  "kernelspec": {
   "display_name": "Python 3 (ipykernel)",
   "language": "python",
   "name": "python3"
  },
  "language_info": {
   "codemirror_mode": {
    "name": "ipython",
    "version": 3
   },
   "file_extension": ".py",
   "mimetype": "text/x-python",
   "name": "python",
   "nbconvert_exporter": "python",
   "pygments_lexer": "ipython3",
   "version": "3.9.19"
  },
  "papermill": {
   "default_parameters": {},
   "duration": 52.511457,
   "end_time": "2024-09-09T04:11:23.300588",
   "environment_variables": {},
   "exception": null,
   "input_path": "MPIA daily digest.ipynb",
   "output_path": "log.ipynb",
   "parameters": {},
   "start_time": "2024-09-09T04:10:30.789131",
   "version": "2.6.0"
  },
  "vscode": {
   "interpreter": {
    "hash": "aee8b7b246df8f9039afb4144a1f6fd8d2ca17a180786b69acc140d282b71a49"
   }
  },
  "widgets": {
   "application/vnd.jupyter.widget-state+json": {
    "state": {
     "24c09570cc64451c97a722eb0b77985e": {
      "model_module": "@jupyter-widgets/base",
      "model_module_version": "2.0.0",
      "model_name": "LayoutModel",
      "state": {
       "_model_module": "@jupyter-widgets/base",
       "_model_module_version": "2.0.0",
       "_model_name": "LayoutModel",
       "_view_count": null,
       "_view_module": "@jupyter-widgets/base",
       "_view_module_version": "2.0.0",
       "_view_name": "LayoutView",
       "align_content": null,
       "align_items": null,
       "align_self": null,
       "border_bottom": null,
       "border_left": null,
       "border_right": null,
       "border_top": null,
       "bottom": null,
       "display": null,
       "flex": null,
       "flex_flow": null,
       "grid_area": null,
       "grid_auto_columns": null,
       "grid_auto_flow": null,
       "grid_auto_rows": null,
       "grid_column": null,
       "grid_gap": null,
       "grid_row": null,
       "grid_template_areas": null,
       "grid_template_columns": null,
       "grid_template_rows": null,
       "height": null,
       "justify_content": null,
       "justify_items": null,
       "left": null,
       "margin": null,
       "max_height": null,
       "max_width": null,
       "min_height": null,
       "min_width": null,
       "object_fit": null,
       "object_position": null,
       "order": null,
       "overflow": null,
       "padding": null,
       "right": null,
       "top": null,
       "visibility": null,
       "width": null
      }
     },
     "2e9147addb20450890f57d4c9d4ba5ef": {
      "model_module": "@jupyter-widgets/base",
      "model_module_version": "2.0.0",
      "model_name": "LayoutModel",
      "state": {
       "_model_module": "@jupyter-widgets/base",
       "_model_module_version": "2.0.0",
       "_model_name": "LayoutModel",
       "_view_count": null,
       "_view_module": "@jupyter-widgets/base",
       "_view_module_version": "2.0.0",
       "_view_name": "LayoutView",
       "align_content": null,
       "align_items": null,
       "align_self": null,
       "border_bottom": null,
       "border_left": null,
       "border_right": null,
       "border_top": null,
       "bottom": null,
       "display": null,
       "flex": null,
       "flex_flow": null,
       "grid_area": null,
       "grid_auto_columns": null,
       "grid_auto_flow": null,
       "grid_auto_rows": null,
       "grid_column": null,
       "grid_gap": null,
       "grid_row": null,
       "grid_template_areas": null,
       "grid_template_columns": null,
       "grid_template_rows": null,
       "height": null,
       "justify_content": null,
       "justify_items": null,
       "left": null,
       "margin": null,
       "max_height": null,
       "max_width": null,
       "min_height": null,
       "min_width": null,
       "object_fit": null,
       "object_position": null,
       "order": null,
       "overflow": null,
       "padding": null,
       "right": null,
       "top": null,
       "visibility": null,
       "width": null
      }
     },
     "3bbf6cea1cbc4c3eb7a8984ff30311f4": {
      "model_module": "@jupyter-widgets/controls",
      "model_module_version": "2.0.0",
      "model_name": "ProgressStyleModel",
      "state": {
       "_model_module": "@jupyter-widgets/controls",
       "_model_module_version": "2.0.0",
       "_model_name": "ProgressStyleModel",
       "_view_count": null,
       "_view_module": "@jupyter-widgets/base",
       "_view_module_version": "2.0.0",
       "_view_name": "StyleView",
       "bar_color": null,
       "description_width": ""
      }
     },
     "445ad5b6cb4a4cccaab52428ef9f3fa3": {
      "model_module": "@jupyter-widgets/base",
      "model_module_version": "2.0.0",
      "model_name": "LayoutModel",
      "state": {
       "_model_module": "@jupyter-widgets/base",
       "_model_module_version": "2.0.0",
       "_model_name": "LayoutModel",
       "_view_count": null,
       "_view_module": "@jupyter-widgets/base",
       "_view_module_version": "2.0.0",
       "_view_name": "LayoutView",
       "align_content": null,
       "align_items": null,
       "align_self": null,
       "border_bottom": null,
       "border_left": null,
       "border_right": null,
       "border_top": null,
       "bottom": null,
       "display": null,
       "flex": null,
       "flex_flow": null,
       "grid_area": null,
       "grid_auto_columns": null,
       "grid_auto_flow": null,
       "grid_auto_rows": null,
       "grid_column": null,
       "grid_gap": null,
       "grid_row": null,
       "grid_template_areas": null,
       "grid_template_columns": null,
       "grid_template_rows": null,
       "height": null,
       "justify_content": null,
       "justify_items": null,
       "left": null,
       "margin": null,
       "max_height": null,
       "max_width": null,
       "min_height": null,
       "min_width": null,
       "object_fit": null,
       "object_position": null,
       "order": null,
       "overflow": null,
       "padding": null,
       "right": null,
       "top": null,
       "visibility": null,
       "width": null
      }
     },
     "9aa00180603c4b7f9e00c4658ca60f6a": {
      "model_module": "@jupyter-widgets/controls",
      "model_module_version": "2.0.0",
      "model_name": "FloatProgressModel",
      "state": {
       "_dom_classes": [],
       "_model_module": "@jupyter-widgets/controls",
       "_model_module_version": "2.0.0",
       "_model_name": "FloatProgressModel",
       "_view_count": null,
       "_view_module": "@jupyter-widgets/controls",
       "_view_module_version": "2.0.0",
       "_view_name": "ProgressView",
       "bar_style": "success",
       "description": "",
       "description_allow_html": false,
       "layout": "IPY_MODEL_ab1ef2613f17441596c110068addefe7",
       "max": 4.0,
       "min": 0.0,
       "orientation": "horizontal",
       "style": "IPY_MODEL_3bbf6cea1cbc4c3eb7a8984ff30311f4",
       "tabbable": null,
       "tooltip": null,
       "value": 4.0
      }
     },
     "a00b25d2c3584be4be5a2c4c5181dad5": {
      "model_module": "@jupyter-widgets/controls",
      "model_module_version": "2.0.0",
      "model_name": "HBoxModel",
      "state": {
       "_dom_classes": [],
       "_model_module": "@jupyter-widgets/controls",
       "_model_module_version": "2.0.0",
       "_model_name": "HBoxModel",
       "_view_count": null,
       "_view_module": "@jupyter-widgets/controls",
       "_view_module_version": "2.0.0",
       "_view_name": "HBoxView",
       "box_style": "",
       "children": [
        "IPY_MODEL_ca34575af6e540bd8e54f21220e0fbb1",
        "IPY_MODEL_9aa00180603c4b7f9e00c4658ca60f6a",
        "IPY_MODEL_bbe7b6c6c61a4c9d85f195c8032ec95f"
       ],
       "layout": "IPY_MODEL_2e9147addb20450890f57d4c9d4ba5ef",
       "tabbable": null,
       "tooltip": null
      }
     },
     "a6481898cf594b129764b003d3bffc39": {
      "model_module": "@jupyter-widgets/controls",
      "model_module_version": "2.0.0",
      "model_name": "HTMLStyleModel",
      "state": {
       "_model_module": "@jupyter-widgets/controls",
       "_model_module_version": "2.0.0",
       "_model_name": "HTMLStyleModel",
       "_view_count": null,
       "_view_module": "@jupyter-widgets/base",
       "_view_module_version": "2.0.0",
       "_view_name": "StyleView",
       "background": null,
       "description_width": "",
       "font_size": null,
       "text_color": null
      }
     },
     "ab1ef2613f17441596c110068addefe7": {
      "model_module": "@jupyter-widgets/base",
      "model_module_version": "2.0.0",
      "model_name": "LayoutModel",
      "state": {
       "_model_module": "@jupyter-widgets/base",
       "_model_module_version": "2.0.0",
       "_model_name": "LayoutModel",
       "_view_count": null,
       "_view_module": "@jupyter-widgets/base",
       "_view_module_version": "2.0.0",
       "_view_name": "LayoutView",
       "align_content": null,
       "align_items": null,
       "align_self": null,
       "border_bottom": null,
       "border_left": null,
       "border_right": null,
       "border_top": null,
       "bottom": null,
       "display": null,
       "flex": null,
       "flex_flow": null,
       "grid_area": null,
       "grid_auto_columns": null,
       "grid_auto_flow": null,
       "grid_auto_rows": null,
       "grid_column": null,
       "grid_gap": null,
       "grid_row": null,
       "grid_template_areas": null,
       "grid_template_columns": null,
       "grid_template_rows": null,
       "height": null,
       "justify_content": null,
       "justify_items": null,
       "left": null,
       "margin": null,
       "max_height": null,
       "max_width": null,
       "min_height": null,
       "min_width": null,
       "object_fit": null,
       "object_position": null,
       "order": null,
       "overflow": null,
       "padding": null,
       "right": null,
       "top": null,
       "visibility": null,
       "width": null
      }
     },
     "bbe7b6c6c61a4c9d85f195c8032ec95f": {
      "model_module": "@jupyter-widgets/controls",
      "model_module_version": "2.0.0",
      "model_name": "HTMLModel",
      "state": {
       "_dom_classes": [],
       "_model_module": "@jupyter-widgets/controls",
       "_model_module_version": "2.0.0",
       "_model_name": "HTMLModel",
       "_view_count": null,
       "_view_module": "@jupyter-widgets/controls",
       "_view_module_version": "2.0.0",
       "_view_name": "HTMLView",
       "description": "",
       "description_allow_html": false,
       "layout": "IPY_MODEL_24c09570cc64451c97a722eb0b77985e",
       "placeholder": "​",
       "style": "IPY_MODEL_a6481898cf594b129764b003d3bffc39",
       "tabbable": null,
       "tooltip": null,
       "value": " 4/4 [00:30&lt;00:00,  4.97s/it]"
      }
     },
     "ca34575af6e540bd8e54f21220e0fbb1": {
      "model_module": "@jupyter-widgets/controls",
      "model_module_version": "2.0.0",
      "model_name": "HTMLModel",
      "state": {
       "_dom_classes": [],
       "_model_module": "@jupyter-widgets/controls",
       "_model_module_version": "2.0.0",
       "_model_name": "HTMLModel",
       "_view_count": null,
       "_view_module": "@jupyter-widgets/controls",
       "_view_module_version": "2.0.0",
       "_view_name": "HTMLView",
       "description": "",
       "description_allow_html": false,
       "layout": "IPY_MODEL_445ad5b6cb4a4cccaab52428ef9f3fa3",
       "placeholder": "​",
       "style": "IPY_MODEL_d719b582263645baaafa9dd0582f8c6d",
       "tabbable": null,
       "tooltip": null,
       "value": "100%"
      }
     },
     "d719b582263645baaafa9dd0582f8c6d": {
      "model_module": "@jupyter-widgets/controls",
      "model_module_version": "2.0.0",
      "model_name": "HTMLStyleModel",
      "state": {
       "_model_module": "@jupyter-widgets/controls",
       "_model_module_version": "2.0.0",
       "_model_name": "HTMLStyleModel",
       "_view_count": null,
       "_view_module": "@jupyter-widgets/base",
       "_view_module_version": "2.0.0",
       "_view_name": "StyleView",
       "background": null,
       "description_width": "",
       "font_size": null,
       "text_color": null
      }
     }
    },
    "version_major": 2,
    "version_minor": 0
   }
  }
 },
 "nbformat": 4,
 "nbformat_minor": 5
}