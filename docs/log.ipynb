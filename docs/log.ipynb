{
 "cells": [
  {
   "cell_type": "markdown",
   "id": "92bcb855",
   "metadata": {
    "papermill": {
     "duration": 0.00369,
     "end_time": "2025-05-09T04:13:32.005613",
     "exception": false,
     "start_time": "2025-05-09T04:13:32.001923",
     "status": "completed"
    },
    "tags": []
   },
   "source": [
    "# MPIA Arxiv on Deck 2\n",
    "\n",
    "Contains the steps to produce the paper extractions."
   ]
  },
  {
   "cell_type": "code",
   "execution_count": 1,
   "id": "3a0d6e11",
   "metadata": {
    "execution": {
     "iopub.execute_input": "2025-05-09T04:13:32.012836Z",
     "iopub.status.busy": "2025-05-09T04:13:32.012637Z",
     "iopub.status.idle": "2025-05-09T04:13:32.495074Z",
     "shell.execute_reply": "2025-05-09T04:13:32.494350Z"
    },
    "papermill": {
     "duration": 0.48761,
     "end_time": "2025-05-09T04:13:32.496541",
     "exception": false,
     "start_time": "2025-05-09T04:13:32.008931",
     "status": "completed"
    },
    "tags": []
   },
   "outputs": [],
   "source": [
    "# Imports\n",
    "import os\n",
    "from IPython.display import Markdown, display\n",
    "from tqdm.notebook import tqdm\n",
    "import warnings\n",
    "from PIL import Image \n",
    "import re\n",
    "\n",
    "# requires arxiv_on_deck_2\n",
    "\n",
    "from arxiv_on_deck_2.arxiv2 import (get_new_papers, \n",
    "                                    get_paper_from_identifier,\n",
    "                                    retrieve_document_source, \n",
    "                                    get_markdown_badge)\n",
    "from arxiv_on_deck_2 import (latex,\n",
    "                             latex_bib,\n",
    "                             mpia,\n",
    "                             highlight_authors_in_list)\n",
    "\n",
    "# Sometimes images are really big\n",
    "Image.MAX_IMAGE_PIXELS = 1000000000 "
   ]
  },
  {
   "cell_type": "code",
   "execution_count": 2,
   "id": "22aa9d44",
   "metadata": {
    "execution": {
     "iopub.execute_input": "2025-05-09T04:13:32.504017Z",
     "iopub.status.busy": "2025-05-09T04:13:32.503586Z",
     "iopub.status.idle": "2025-05-09T04:13:32.511676Z",
     "shell.execute_reply": "2025-05-09T04:13:32.511124Z"
    },
    "papermill": {
     "duration": 0.012876,
     "end_time": "2025-05-09T04:13:32.512682",
     "exception": false,
     "start_time": "2025-05-09T04:13:32.499806",
     "status": "completed"
    },
    "tags": []
   },
   "outputs": [],
   "source": [
    "# Some useful definitions.\n",
    "\n",
    "class AffiliationWarning(UserWarning):\n",
    "    pass\n",
    "\n",
    "class AffiliationError(RuntimeError):\n",
    "    pass\n",
    "\n",
    "def validation(source: str):\n",
    "    \"\"\"Raises error paper during parsing of source file\n",
    "    \n",
    "    Allows checks before parsing TeX code.\n",
    "    \n",
    "    Raises AffiliationWarning\n",
    "    \"\"\"\n",
    "    check = mpia.affiliation_verifications(source, verbose=True)\n",
    "    if check is not True:\n",
    "        raise AffiliationError(\"mpia.affiliation_verifications: \" + check)\n",
    "\n",
    "        \n",
    "warnings.simplefilter('always', AffiliationWarning)\n",
    "\n",
    "\n",
    "def get_markdown_qrcode(paper_id: str):\n",
    "    \"\"\" Generate a qrcode to the arxiv page using qrserver.com\n",
    "    \n",
    "    :param paper: Arxiv paper\n",
    "    :returns: markdown text\n",
    "    \"\"\"\n",
    "    url = r\"https://api.qrserver.com/v1/create-qr-code/?size=100x100&data=\"\n",
    "    txt = f\"\"\"<img src={url}\"https://arxiv.org/abs/{paper_id}\">\"\"\"\n",
    "    txt = '<div id=\"qrcode\">' + txt + '</div>'\n",
    "    return txt\n",
    "\n",
    "\n",
    "def clean_non_western_encoded_characters_commands(text: str) -> str:\n",
    "    \"\"\" Remove non-western encoded characters from a string\n",
    "    List may need to grow.\n",
    "    \n",
    "    :param text: the text to clean\n",
    "    :return: the cleaned text\n",
    "    \"\"\"\n",
    "    text = re.sub(r\"(\\\\begin{CJK}{UTF8}{gbsn})(.*?)(\\\\end{CJK})\", r\"\\2\", text)\n",
    "    return text\n",
    "\n",
    "\n",
    "def get_initials(name: str) -> str:\n",
    "    \"\"\" Get the short name, e.g., A.-B. FamName\n",
    "    :param name: full name\n",
    "    :returns: initials\n",
    "    \"\"\"\n",
    "    initials = []\n",
    "    # account for non western names often in ()\n",
    "    if '(' in name:\n",
    "        name = clean_non_western_encoded_characters_commands(name)\n",
    "        suffix = re.findall(r\"\\((.*?)\\)\", name)[0]\n",
    "        name = name.replace(f\"({suffix})\", '')\n",
    "    else:\n",
    "        suffix = ''\n",
    "    split = name.split()\n",
    "    for token in split[:-1]:\n",
    "        if '-' in token:\n",
    "            current = '-'.join([k[0] + '.' for k in token.split('-')])\n",
    "        else:\n",
    "            current = token[0] + '.'\n",
    "        initials.append(current)\n",
    "    initials.append(split[-1].strip())\n",
    "    if suffix:\n",
    "        initials.append(f\"({suffix})\")\n",
    "    return ' '.join(initials)"
   ]
  },
  {
   "cell_type": "markdown",
   "id": "14bd6310",
   "metadata": {
    "papermill": {
     "duration": 0.002914,
     "end_time": "2025-05-09T04:13:32.518555",
     "exception": false,
     "start_time": "2025-05-09T04:13:32.515641",
     "status": "completed"
    },
    "tags": []
   },
   "source": [
    "## get list of arxiv paper candidates\n",
    "\n",
    "We use the MPIA mitarbeiter list webpage from mpia.de to get author names\n",
    "We then get all new papers from Arxiv and match authors"
   ]
  },
  {
   "cell_type": "code",
   "execution_count": 3,
   "id": "7ea813a8",
   "metadata": {
    "execution": {
     "iopub.execute_input": "2025-05-09T04:13:32.525820Z",
     "iopub.status.busy": "2025-05-09T04:13:32.525464Z",
     "iopub.status.idle": "2025-05-09T04:13:52.311062Z",
     "shell.execute_reply": "2025-05-09T04:13:52.310388Z"
    },
    "papermill": {
     "duration": 19.790616,
     "end_time": "2025-05-09T04:13:52.312527",
     "exception": false,
     "start_time": "2025-05-09T04:13:32.521911",
     "status": "completed"
    },
    "tags": []
   },
   "outputs": [],
   "source": [
    "# deal with the author list and edge cases of people that cannot be consistent on their name  \n",
    "\n",
    "def filter_non_scientists(name: str) -> bool:\n",
    "    \"\"\" Loose filter on expected authorships\n",
    "\n",
    "    removing IT, administration, technical staff\n",
    "    :param name: name\n",
    "    :returns: False if name is not a scientist\n",
    "    \"\"\"\n",
    "    remove_list = ['Licht', 'Binroth', 'Witzel', 'Jordan',\n",
    "                   'Zähringer', 'Scheerer', 'Hoffmann', 'Düe',\n",
    "                   'Hellmich', 'Enkler-Scharpegge', 'Witte-Nguy',\n",
    "                   'Dehen', 'Beckmann', 'Jager', 'Jäger'\n",
    "                  ]\n",
    "\n",
    "    for k in remove_list:\n",
    "        if k in name:\n",
    "            return False\n",
    "    return True\n",
    "\n",
    "def add_author_to_list(author_list: list) -> list:\n",
    "    \"\"\" Add author to list if not already in list\n",
    "    \n",
    "    :param author: author name\n",
    "    :param author_list: list of authors\n",
    "    :returns: updated list of authors\n",
    "    \"\"\"\n",
    "    add_list = ['T. Henning']\n",
    "\n",
    "    for author in add_list:\n",
    "        if author not in author_list:\n",
    "            author_list.append(author)\n",
    "    return author_list\n",
    "\n",
    "# get list from MPIA website\n",
    "# filter for non-scientists (mpia.get_mpia_mitarbeiter_list() does some filtering)\n",
    "mpia_authors = [k[1] for k in mpia.get_mpia_mitarbeiter_list() if filter_non_scientists(k[1])]\n",
    "# add some missing author because of inconsistencies in their MPIA name and author name on papers\n",
    "mpia_authors = add_author_to_list(mpia_authors)"
   ]
  },
  {
   "cell_type": "code",
   "execution_count": 4,
   "id": "2645e73a",
   "metadata": {
    "execution": {
     "iopub.execute_input": "2025-05-09T04:13:52.319829Z",
     "iopub.status.busy": "2025-05-09T04:13:52.319445Z",
     "iopub.status.idle": "2025-05-09T04:13:52.882021Z",
     "shell.execute_reply": "2025-05-09T04:13:52.881400Z"
    },
    "papermill": {
     "duration": 0.567129,
     "end_time": "2025-05-09T04:13:52.883001",
     "exception": false,
     "start_time": "2025-05-09T04:13:52.315872",
     "status": "completed"
    },
    "tags": []
   },
   "outputs": [
    {
     "name": "stdout",
     "output_type": "stream",
     "text": [
      "Y. Wang  ->  Y. Wang  |  ['Y. Wang']\n",
      "K. Jahnke  ->  K. Jahnke  |  ['K. Jahnke']\n",
      "K. Kreckel  ->  K. Kreckel  |  ['K. Kreckel']\n",
      "F. Walter  ->  F. Walter  |  ['F. Walter']\n",
      "X. Zhang  ->  X. Zhang  |  ['X. Zhang']\n"
     ]
    },
    {
     "name": "stdout",
     "output_type": "stream",
     "text": [
      "Arxiv has 48 new papers today\n",
      "          3 with possible author matches\n"
     ]
    }
   ],
   "source": [
    "new_papers = get_new_papers()\n",
    "# add manual references\n",
    "add_paper_refs = []\n",
    "new_papers.extend([get_paper_from_identifier(k) for k in add_paper_refs])\n",
    "\n",
    "def robust_call(fn, value, *args, **kwargs):\n",
    "    try:\n",
    "        return fn(value, *args, **kwargs)\n",
    "    except Exception:\n",
    "        return value\n",
    "\n",
    "candidates = []\n",
    "for paperk in new_papers:\n",
    "    # Check author list with their initials\n",
    "    normed_author_list = [robust_call(mpia.get_initials, k) for k in paperk['authors']]\n",
    "    hl_authors = highlight_authors_in_list(normed_author_list, mpia_authors, verbose=True)\n",
    "    matches = [(hl, orig) for hl, orig in zip(hl_authors, paperk['authors']) if 'mark' in hl]\n",
    "    paperk['authors'] = hl_authors\n",
    "    if matches:\n",
    "        # only select paper if an author matched our list\n",
    "        candidates.append(paperk)\n",
    "print(\"\"\"Arxiv has {0:,d} new papers today\"\"\".format(len(new_papers)))        \n",
    "print(\"\"\"          {0:,d} with possible author matches\"\"\".format(len(candidates)))"
   ]
  },
  {
   "cell_type": "markdown",
   "id": "3543b34a",
   "metadata": {
    "papermill": {
     "duration": 0.003081,
     "end_time": "2025-05-09T04:13:52.889633",
     "exception": false,
     "start_time": "2025-05-09T04:13:52.886552",
     "status": "completed"
    },
    "tags": []
   },
   "source": [
    "# Parse sources and generate relevant outputs\n",
    "\n",
    "From the candidates, we do the following steps:\n",
    "* get their tarball from ArXiv (and extract data)\n",
    "* find the main .tex file: find one with \\documentclass{...} (sometimes it's non trivial)\n",
    "* Check affiliations with :func:`validation`, which uses :func:`mpia.affiliation_verifications`\n",
    "* If passing the affiliations: we parse the .tex source\n",
    "   * inject sub-documents into the main (flatten the main document)\n",
    "   * parse structure, extract information (title, abstract, authors, figures...)\n",
    "   * handles `\\graphicspath` if provided\n",
    "* Generate the .md document."
   ]
  },
  {
   "cell_type": "code",
   "execution_count": 5,
   "id": "9576b79e",
   "metadata": {
    "execution": {
     "iopub.execute_input": "2025-05-09T04:13:52.896944Z",
     "iopub.status.busy": "2025-05-09T04:13:52.896550Z",
     "iopub.status.idle": "2025-05-09T04:14:50.361758Z",
     "shell.execute_reply": "2025-05-09T04:14:50.361077Z"
    },
    "papermill": {
     "duration": 57.470042,
     "end_time": "2025-05-09T04:14:50.362770",
     "exception": false,
     "start_time": "2025-05-09T04:13:52.892728",
     "status": "completed"
    },
    "scrolled": false,
    "tags": []
   },
   "outputs": [
    {
     "data": {
      "application/vnd.jupyter.widget-view+json": {
       "model_id": "f525aa40442e441592b0e97178afb443",
       "version_major": 2,
       "version_minor": 0
      },
      "text/plain": [
       "  0%|          | 0/3 [00:00<?, ?it/s]"
      ]
     },
     "metadata": {},
     "output_type": "display_data"
    },
    {
     "name": "stdout",
     "output_type": "stream",
     "text": [
      "Retrieving document from  https://arxiv.org/e-print/2505.04688\n",
      "extracting tarball to tmp_2505.04688..."
     ]
    },
    {
     "name": "stdout",
     "output_type": "stream",
     "text": [
      " done.\n"
     ]
    },
    {
     "name": "stdout",
     "output_type": "stream",
     "text": [
      "Found 31 bibliographic references in tmp_2505.04688/blank.bbl.\n",
      "Issues with the citations\n",
      "syntax error in line 53: '=' expected\n",
      "Retrieving document from  https://arxiv.org/e-print/2505.04707\n",
      "extracting tarball to tmp_2505.04707..."
     ]
    },
    {
     "name": "stdout",
     "output_type": "stream",
     "text": [
      " done.\n"
     ]
    },
    {
     "name": "stdout",
     "output_type": "stream",
     "text": [
      "K. Kreckel  ->  K. Kreckel  |  ['K. Kreckel']\n",
      "F. Walter  ->  F. Walter  |  ['F. Walter']\n"
     ]
    },
    {
     "name": "stdout",
     "output_type": "stream",
     "text": [
      "Found 79 bibliographic references in tmp_2505.04707/main.bbl.\n",
      "Issues with the citations\n",
      "syntax error in line 424: '=' expected\n",
      "Retrieving document from  https://arxiv.org/e-print/2505.05021\n",
      "extracting tarball to tmp_2505.05021... done.\n"
     ]
    }
   ],
   "source": [
    "documents = []\n",
    "failed = []\n",
    "for paper in tqdm(candidates):\n",
    "    # debug crap\n",
    "    paper['identifier'] = paper['identifier'].lower().replace('arxiv:', '').replace(r'\\n', '').strip()\n",
    "    paper_id = paper['identifier']\n",
    "    \n",
    "    folder = f'tmp_{paper_id}'\n",
    "\n",
    "    try:\n",
    "        if not os.path.isdir(folder):\n",
    "            folder = retrieve_document_source(f\"{paper_id}\", f'tmp_{paper_id}')\n",
    "        \n",
    "        try:\n",
    "            doc = latex.LatexDocument(folder, validation=validation)    \n",
    "        except AffiliationError as affilerror:\n",
    "            msg = f\"ArXiv:{paper_id:s} is not an MPIA paper... \" + str(affilerror)\n",
    "            failed.append((paper, \"affiliation error: \" + str(affilerror) ))\n",
    "            continue\n",
    "        \n",
    "        # Hack because sometimes author parsing does not work well\n",
    "        if (len(doc.authors) != len(paper['authors'])):\n",
    "            doc._authors = paper['authors']\n",
    "        else:\n",
    "            # highlight authors (FIXME: doc.highlight_authors)\n",
    "            # done on arxiv paper already\n",
    "            doc._authors = highlight_authors_in_list(\n",
    "                [get_initials(k) for k in doc.authors], \n",
    "                mpia_authors, verbose=True)\n",
    "        if (doc.abstract) in (None, ''):\n",
    "            doc._abstract = paper['abstract']\n",
    "            \n",
    "        doc.comment = (get_markdown_badge(paper_id) + \n",
    "                       \"<mark>Appeared on: \" + paper['date'] + \"</mark> - \")\n",
    "        if paper['comments']:\n",
    "            doc.comment += \" _\" + paper['comments'] + \"_\"\n",
    "        \n",
    "        full_md = doc.generate_markdown_text()\n",
    "        \n",
    "        full_md += get_markdown_qrcode(paper_id)\n",
    "        \n",
    "        # replace citations\n",
    "        try:\n",
    "            bibdata = latex_bib.LatexBib.from_doc(doc)\n",
    "            full_md = latex_bib.replace_citations(full_md, bibdata)\n",
    "        except Exception as e:\n",
    "            print(\"Issues with the citations\")\n",
    "            print(e)\n",
    "        \n",
    "        documents.append((paper_id, full_md))\n",
    "    except Exception as e:\n",
    "        warnings.warn(latex.LatexWarning(f\"{paper_id:s} did not run properly\\n\" +\n",
    "                                         str(e)\n",
    "                                        ))\n",
    "        failed.append((paper, \"latex error \" + str(e)))"
   ]
  },
  {
   "cell_type": "markdown",
   "id": "2505a25c",
   "metadata": {
    "papermill": {
     "duration": 0.003534,
     "end_time": "2025-05-09T04:14:50.370123",
     "exception": false,
     "start_time": "2025-05-09T04:14:50.366589",
     "status": "completed"
    },
    "tags": []
   },
   "source": [
    "### Export the logs\n",
    "\n",
    "Throughout, we also keep track of the logs per paper. see `logs-{today date}.md` "
   ]
  },
  {
   "cell_type": "code",
   "execution_count": 6,
   "id": "d733828a",
   "metadata": {
    "execution": {
     "iopub.execute_input": "2025-05-09T04:14:50.378588Z",
     "iopub.status.busy": "2025-05-09T04:14:50.378030Z",
     "iopub.status.idle": "2025-05-09T04:14:50.391740Z",
     "shell.execute_reply": "2025-05-09T04:14:50.391187Z"
    },
    "papermill": {
     "duration": 0.019216,
     "end_time": "2025-05-09T04:14:50.392868",
     "exception": false,
     "start_time": "2025-05-09T04:14:50.373652",
     "status": "completed"
    },
    "scrolled": false,
    "tags": []
   },
   "outputs": [
    {
     "data": {
      "text/markdown": [
       "## Successful papers"
      ],
      "text/plain": [
       "<IPython.core.display.Markdown object>"
      ]
     },
     "metadata": {},
     "output_type": "display_data"
    },
    {
     "data": {
      "text/markdown": [
       "\n",
       "|||\n",
       "|---:|:---|\n",
       "| [![arXiv](https://img.shields.io/badge/arXiv-2505.04688-b31b1b.svg)](https://arxiv.org/abs/2505.04688) | **Euclid preparation. The impact of redshift interlopers on the two-point correlation function analysis**  |\n",
       "|| E. Collaboration, et al. -- incl., <mark>Y. Wang</mark>, <mark>K. Jahnke</mark> |\n",
       "|*Appeared on*| *2025-05-09*|\n",
       "|*Comments*| *27 pages, 22 figures, submitted to A&A*|\n",
       "|**Abstract**|            The Euclid survey aims to measure the spectroscopic redshift of emission-line galaxies by identifying the H$\\,{\\alpha}$ line in their slitless spectra. This method is sensitive to the signal-to-noise ratio of the line, as noise fluctuations or other strong emission lines can be misidentified as H$\\,{\\alpha}$, depending on redshift. These effects lead to catastrophic redshift errors and the inclusion of interlopers in the sample. We forecast the impact of such redshift errors on galaxy clustering measurements. In particular, we study the effect of interloper contamination on the two-point correlation function (2PCF), the growth rate of structures, and the Alcock-Paczynski (AP) parameters. We analyze 1000 synthetic spectroscopic catalogues, the EuclidLargeMocks, designed to match the area and selection function of the Data Release 1 (DR1) sample. We estimate the 2PCF of the contaminated catalogues, isolating contributions from correctly identified galaxies and from interlopers. We explore different models with increasing complexity to describe the measured 2PCF at fixed cosmology. Finally, we perform a cosmological inference and evaluate the systematic error on the inferred $f\\sigma_8$, $\\alpha_{\\parallel}$ and $\\alpha_{\\perp}$ values associated with different models. Our results demonstrate that a minimal modelling approach, which only accounts for an attenuation of the clustering signal regardless of the type of contaminants, is sufficient to recover the correct values of $f\\sigma_8$, $\\alpha_{\\parallel}$, and $\\alpha_{\\perp}$ at DR1. The accuracy and precision of the estimated AP parameters are largely insensitive to the presence of interlopers. The adoption of a minimal model induces a 1%-3% systematic error on the growth rate of structure estimation, depending on the redshift. However, this error remains smaller than the statistical error expected for the Euclid DR1 analysis.         |"
      ],
      "text/plain": [
       "[2505.04688] Euclid preparation. The impact of redshift interlopers on the two-point correlation function analysis\n",
       "\tE. Collaboration, et al. -- incl., <mark>Y. Wang</mark>, <mark>K. Jahnke</mark>"
      ]
     },
     "metadata": {},
     "output_type": "display_data"
    },
    {
     "data": {
      "text/markdown": [
       "\n",
       "|||\n",
       "|---:|:---|\n",
       "| [![arXiv](https://img.shields.io/badge/arXiv-2505.04707-b31b1b.svg)](https://arxiv.org/abs/2505.04707) | **Physical Conditions of the Ionized Superwind in NGC 253 with VLT/MUSE**  |\n",
       "|| S. A. Cronin, et al. -- incl., <mark>K. Kreckel</mark>, <mark>F. Walter</mark> |\n",
       "|*Appeared on*| *2025-05-09*|\n",
       "|*Comments*| *21 pages, 14 figures, submitted to ApJ, incorporated feedback from referee report*|\n",
       "|**Abstract**|            We present an analysis of the H$\\alpha$-emitting ionized gas in the warm phase of the NGC 253 outflow using integral field spectroscopy from the Multi Unit Spectroscopic Explorer (MUSE). In each spaxel, we decompose H$\\alpha$, [N II], and [S II] emission lines into a system of up to 3 Gaussian components, accounting for the velocity contributions due to the disk and both intercepted walls of an outflow cone. In the approaching southern lobe of the outflow, we find maximum deprojected outflow velocities down to ~ -500 km/s. Velocity gradients of this outflowing gas range from ~ -350 to -550 km/s/kpc with increasing distance from the nucleus. Additionally, [N II]/H$\\alpha$ and [S II]/H$\\alpha$ integrated line ratios are suggestive of shocks as the dominant ionization source throughout the wind. Electron densities, inferred from the [S II] doublet, peak at 2100 cm$^{-3}$ near the nucleus and reach $\\lesssim 50 $cm$^{-3}$ in the wind. Finally, at an uncertainty of 0.3 dex on the inferred mass of $4\\times10^{5}$ M$_{\\odot}$, the mass-outflow rate of the H$\\alpha$-emitting gas in the southern outflow lobe is ~ 0.4 M$_{\\odot}$/year. This yields a mass-loading factor of $\\eta$ ~ 0.1 and a ~ 2% starburst energy efficiency.         |"
      ],
      "text/plain": [
       "[2505.04707] Physical Conditions of the Ionized Superwind in NGC 253 with VLT/MUSE\n",
       "\tS. A. Cronin, et al. -- incl., <mark>K. Kreckel</mark>, <mark>F. Walter</mark>"
      ]
     },
     "metadata": {},
     "output_type": "display_data"
    },
    {
     "data": {
      "text/markdown": [
       "## Failed papers"
      ],
      "text/plain": [
       "<IPython.core.display.Markdown object>"
      ]
     },
     "metadata": {},
     "output_type": "display_data"
    },
    {
     "data": {
      "text/markdown": [
       "\n",
       "|||\n",
       "|---:|:---|\n",
       "| [![arXiv](https://img.shields.io/badge/arXiv-2505.05021-b31b1b.svg)](https://arxiv.org/abs/2505.05021) | **Searching for pulsars in Globular Clusters with the Fast Fold Algorithm and a new pulsar discovered in M13**  |\n",
       "|| Y. Li, et al. -- incl., <mark>X. Zhang</mark> |\n",
       "|*Appeared on*| *2025-05-09*|\n",
       "|*Comments*| **|\n",
       "|**Abstract**|            We employed the Fast Folding Algorithm (FFA) on L-Band Globular Cluster (GC) observations taken with Five-hundred-meter Aperture Spherical radio Telescope (FAST) to search for new pulsars, especially those with a long rotational period. We conducted a search across 16 GCs that collectively host 93 known pulsars, as well as 14 GCs that do not contain any known pulsars. The majority of these known pulsars were successfully re-detected in our survey. The few non-detections could be attributed to the high accelerations of these pulsars. Additionally, we have discovered a new binary millisecond pulsar, namely M13I (or PSR J1641+3627I) in GC M13 (or NGC 6205), and obtained its phase-coherent timing solution using observations spanning 6 years. M13I has a spin period of 6.37 ms, and an orbital period of 18.23 days. The eccentricity of the binary orbit is 0.064, with a companion mass range of approximately 0.45 to 1.37 M$_{\\odot}$. The orbital properties of M13I are remarkably different from those of the other known pulsars in M13, indicating that this pulsar has undergone a different evolutionary path compared to the rest.         |\n",
       "|<p style=\"color:green\"> **ERROR** </p>| <p style=\"color:green\">affiliation error: mpia.affiliation_verifications: 'Heidelberg' keyword not found.</p> |"
      ],
      "text/plain": [
       "<IPython.core.display.Markdown object>"
      ]
     },
     "metadata": {},
     "output_type": "display_data"
    }
   ],
   "source": [
    "import datetime\n",
    "today = str(datetime.date.today())\n",
    "logfile = f\"_build/html/logs/log-{today}.md\"\n",
    "\n",
    "\n",
    "with open(logfile, 'w') as logs:\n",
    "    # Success\n",
    "    logs.write(f'# Arxiv on Deck 2: Logs - {today}\\n\\n')\n",
    "    logs.write(\"\"\"* Arxiv had {0:,d} new papers\\n\"\"\".format(len(new_papers)))\n",
    "    logs.write(\"\"\"    * {0:,d} with possible author matches\\n\\n\"\"\".format(len(candidates)))\n",
    "    logs.write(\"## Sucessful papers\\n\\n\")\n",
    "    display(Markdown(\"## Successful papers\"))\n",
    "    success = [k[0] for k in documents]\n",
    "    for candid in candidates:\n",
    "        if candid['identifier'].split(':')[-1] in success:\n",
    "            display(candid)\n",
    "            logs.write(candid.generate_markdown_text() + '\\n\\n')\n",
    "\n",
    "    ## failed\n",
    "    logs.write(\"## Failed papers\\n\\n\")\n",
    "    display(Markdown(\"## Failed papers\"))\n",
    "    failed = sorted(failed, key=lambda x: x[1])\n",
    "    current_reason = \"\"\n",
    "    for paper, reason in failed:\n",
    "        if 'affiliation' in reason:\n",
    "            color = 'green'\n",
    "        else:\n",
    "            color = 'red'\n",
    "        data = Markdown(\n",
    "                paper.generate_markdown_text() + \n",
    "                f'\\n|<p style=\"color:{color:s}\"> **ERROR** </p>| <p style=\"color:{color:s}\">{reason:s}</p> |'\n",
    "               )\n",
    "        if reason != current_reason:\n",
    "            logs.write(f'### {reason:s} \\n\\n')\n",
    "            current_reason = reason\n",
    "        logs.write(data.data + '\\n\\n')\n",
    "        \n",
    "        # only display here the important errors (all in logs)\n",
    "        # if color in ('red',):\n",
    "        display(data)"
   ]
  },
  {
   "cell_type": "markdown",
   "id": "472d20ee",
   "metadata": {
    "papermill": {
     "duration": 0.003975,
     "end_time": "2025-05-09T04:14:50.400982",
     "exception": false,
     "start_time": "2025-05-09T04:14:50.397007",
     "status": "completed"
    },
    "tags": []
   },
   "source": [
    "## Export documents\n",
    "\n",
    "We now write the .md files and export relevant images"
   ]
  },
  {
   "cell_type": "code",
   "execution_count": 7,
   "id": "d426aed9",
   "metadata": {
    "execution": {
     "iopub.execute_input": "2025-05-09T04:14:50.410054Z",
     "iopub.status.busy": "2025-05-09T04:14:50.409614Z",
     "iopub.status.idle": "2025-05-09T04:14:50.416468Z",
     "shell.execute_reply": "2025-05-09T04:14:50.415893Z"
    },
    "papermill": {
     "duration": 0.01247,
     "end_time": "2025-05-09T04:14:50.417385",
     "exception": false,
     "start_time": "2025-05-09T04:14:50.404915",
     "status": "completed"
    },
    "tags": []
   },
   "outputs": [],
   "source": [
    "def export_markdown_summary(md: str, md_fname:str, directory: str):\n",
    "    \"\"\"Export MD document and associated relevant images\"\"\"\n",
    "    import os\n",
    "    import shutil\n",
    "    import re\n",
    "\n",
    "    if (os.path.exists(directory) and not os.path.isdir(directory)):\n",
    "        raise RuntimeError(f\"a non-directory file exists with name {directory:s}\")\n",
    "\n",
    "    if (not os.path.exists(directory)):\n",
    "        print(f\"creating directory {directory:s}\")\n",
    "        os.mkdir(directory)\n",
    "\n",
    "    fig_fnames = (re.compile(r'\\[Fig.*\\]\\((.*)\\)').findall(md) + \n",
    "                  re.compile(r'\\<img src=\"([^>\\s]*)\"[^>]*/>').findall(md))\n",
    "    print(\"found figures\", fig_fnames)\n",
    "    for fname in fig_fnames:\n",
    "        if 'http' in fname:\n",
    "            # No need to copy online figures\n",
    "            continue\n",
    "        if not os.path.exists(fname):\n",
    "            print(\"file not found\", fname)\n",
    "            continue\n",
    "        print(\"copying \", fname, \"to\", directory)\n",
    "        destdir = os.path.join(directory, os.path.dirname(fname))\n",
    "        destfname = os.path.join(destdir, os.path.basename(fname))\n",
    "        try:\n",
    "            os.makedirs(destdir)\n",
    "        except FileExistsError:\n",
    "            pass\n",
    "        shutil.copy(fname, destfname)\n",
    "    with open(os.path.join(directory, md_fname), 'w') as fout:\n",
    "        fout.write(md)\n",
    "    print(\"exported in \", os.path.join(directory, md_fname))\n",
    "    [print(\"    + \" + os.path.join(directory,fk)) for fk in fig_fnames]"
   ]
  },
  {
   "cell_type": "code",
   "execution_count": 8,
   "id": "014d04a4",
   "metadata": {
    "execution": {
     "iopub.execute_input": "2025-05-09T04:14:50.426058Z",
     "iopub.status.busy": "2025-05-09T04:14:50.425861Z",
     "iopub.status.idle": "2025-05-09T04:14:50.444448Z",
     "shell.execute_reply": "2025-05-09T04:14:50.443739Z"
    },
    "papermill": {
     "duration": 0.024063,
     "end_time": "2025-05-09T04:14:50.445442",
     "exception": false,
     "start_time": "2025-05-09T04:14:50.421379",
     "status": "completed"
    },
    "tags": []
   },
   "outputs": [
    {
     "name": "stdout",
     "output_type": "stream",
     "text": [
      "found figures ['tmp_2505.04688/./Figures/z1z3_params_comparison_fs8bs8_subset_paper_default.png', 'tmp_2505.04688/./Figures/from2D_overlpapped_contributes_z1z3.png', 'tmp_2505.04688/./Figures/z1_fs8bs8_paper_default.png', 'tmp_2505.04688/./Figures/z3_fs8bs8_paper_default.png']\n",
      "copying  tmp_2505.04688/./Figures/z1z3_params_comparison_fs8bs8_subset_paper_default.png to _build/html/\n",
      "copying  tmp_2505.04688/./Figures/from2D_overlpapped_contributes_z1z3.png to _build/html/\n",
      "copying  tmp_2505.04688/./Figures/z1_fs8bs8_paper_default.png to _build/html/\n",
      "copying  tmp_2505.04688/./Figures/z3_fs8bs8_paper_default.png to _build/html/\n",
      "exported in  _build/html/2505.04688.md\n",
      "    + _build/html/tmp_2505.04688/./Figures/z1z3_params_comparison_fs8bs8_subset_paper_default.png\n",
      "    + _build/html/tmp_2505.04688/./Figures/from2D_overlpapped_contributes_z1z3.png\n",
      "    + _build/html/tmp_2505.04688/./Figures/z1_fs8bs8_paper_default.png\n",
      "    + _build/html/tmp_2505.04688/./Figures/z3_fs8bs8_paper_default.png\n",
      "found figures ['tmp_2505.04707/./deproj_diagram.png', 'tmp_2505.04707/./se_projvel_fwhm.png', 'tmp_2505.04707/./se_flux_matsubayashi_regions.png']\n",
      "copying  tmp_2505.04707/./deproj_diagram.png to _build/html/\n",
      "copying  tmp_2505.04707/./se_projvel_fwhm.png to _build/html/\n",
      "copying  tmp_2505.04707/./se_flux_matsubayashi_regions.png to _build/html/\n",
      "exported in  _build/html/2505.04707.md\n",
      "    + _build/html/tmp_2505.04707/./deproj_diagram.png\n",
      "    + _build/html/tmp_2505.04707/./se_projvel_fwhm.png\n",
      "    + _build/html/tmp_2505.04707/./se_flux_matsubayashi_regions.png\n"
     ]
    }
   ],
   "source": [
    "for paper_id, md in documents:\n",
    "    export_markdown_summary(md, f\"{paper_id:s}.md\", '_build/html/')"
   ]
  },
  {
   "cell_type": "markdown",
   "id": "f087a0a7",
   "metadata": {
    "papermill": {
     "duration": 0.004108,
     "end_time": "2025-05-09T04:14:50.454256",
     "exception": false,
     "start_time": "2025-05-09T04:14:50.450148",
     "status": "completed"
    },
    "tags": []
   },
   "source": [
    "## Display the papers\n",
    "\n",
    "Not necessary but allows for a quick check."
   ]
  },
  {
   "cell_type": "code",
   "execution_count": 9,
   "id": "fd25f625",
   "metadata": {
    "execution": {
     "iopub.execute_input": "2025-05-09T04:14:50.463726Z",
     "iopub.status.busy": "2025-05-09T04:14:50.463313Z",
     "iopub.status.idle": "2025-05-09T04:14:50.469381Z",
     "shell.execute_reply": "2025-05-09T04:14:50.468808Z"
    },
    "papermill": {
     "duration": 0.011796,
     "end_time": "2025-05-09T04:14:50.470390",
     "exception": false,
     "start_time": "2025-05-09T04:14:50.458594",
     "status": "completed"
    },
    "scrolled": false,
    "tags": []
   },
   "outputs": [
    {
     "data": {
      "text/markdown": [
       "<div class=\"macros\" style=\"visibility:hidden;\">\n",
       "$\\newcommand{\\ensuremath}{}$\n",
       "$\\newcommand{\\xspace}{}$\n",
       "$\\newcommand{\\object}[1]{\\texttt{#1}}$\n",
       "$\\newcommand{\\farcs}{{.}''}$\n",
       "$\\newcommand{\\farcm}{{.}'}$\n",
       "$\\newcommand{\\arcsec}{''}$\n",
       "$\\newcommand{\\arcmin}{'}$\n",
       "$\\newcommand{\\ion}[2]{#1#2}$\n",
       "$\\newcommand{\\textsc}[1]{\\textrm{#1}}$\n",
       "$\\newcommand{\\hl}[1]{\\textrm{#1}}$\n",
       "$\\newcommand{\\footnote}[1]{}$\n",
       "$\\newcommand{\\xic}{\\xi_{\\rm m}}$\n",
       "$\\newcommand{\\xit}{\\xi_{\\rm cc}}$\n",
       "$\\newcommand{\\xin}{\\xi_{\\rm nn}}$\n",
       "$\\newcommand{\\xil}{\\xi_{\\ell\\ell}}$\n",
       "$\\newcommand{\\xitn}{\\xi_{\\rm cn}}$\n",
       "$\\newcommand{\\xitl}{\\xi_{\\rm c\\ell}}$\n",
       "$\\newcommand{\\xiln}{\\xi_{\\ell \\rm n}}$\n",
       "$\\newcommand{\\rt}{R_{\\rm c}}$\n",
       "$\\newcommand{\\rn}{R_{\\rm n}}$\n",
       "$\\newcommand{\\rl}{R_{\\ell}}$\n",
       "$\\newcommand{\\rc}{R_{\\rm m}}$\n",
       "$\\newcommand{\\fc}{f_{\\rm tot}}$\n",
       "$\\newcommand{\\bx}{\\mathbf{x}}$\n",
       "$\\newcommand{\\br}{\\mathbf{r}}$\n",
       "$\\newcommand{\\orcid}[1]$\n",
       "$\\newcommand{\\arraystretch}{1.3}$</div>\n",
       "\n",
       "\n",
       "\n",
       "<div id=\"title\">\n",
       "\n",
       "# $\\Euclid$ preparation: The impact of redshift interlopers on the two-point correlation function analysis\n",
       "\n",
       "</div>\n",
       "<div id=\"comments\">\n",
       "\n",
       "[![arXiv](https://img.shields.io/badge/arXiv-2505.04688-b31b1b.svg)](https://arxiv.org/abs/2505.04688)<mark>Appeared on: 2025-05-09</mark> -  _27 pages, 22 figures, submitted to A&A_\n",
       "\n",
       "</div>\n",
       "<div id=\"authors\">\n",
       "\n",
       "E. Collaboration, et al. -- incl., <mark>Y. Wang</mark>, <mark>K. Jahnke</mark>\n",
       "\n",
       "</div>\n",
       "<div id=\"abstract\">\n",
       "\n",
       "**Abstract:** The $\\Euclid$ galaxy survey is designed to measure the spectroscopic redshift of emission-line galaxies (ELG) by identifying the $\\ha$ emission line in their slitless spectra. The efficacy of this approach depends crucially on the signal-to-noise ratio (SNR) of the line, as sometimes noise fluctuations in the spectrum continuum can be misidentified as $\\ha$ . In addition, other genuine strong emission lines can be mistaken for $\\ha$ , depending on the redshift of the source. Both effects lead to ambiguities in the redshift measurement, potentially resulting in catastrophic redshift errors and the inclusion of `interloper galaxies in the sample. This paper forecasts the impact on the galaxy clustering analysis of the expected redshift errors in the $\\Euclid$ spectroscopic sample. Specifically, it investigates the effect of the redshift interloper contamination on the galaxy two-point correlation function (2PCF) and, in turn, on the inferred growth rate of structure $\\(f \\sigma_8\\)$ and Alcock--Paczynski (AP) parameters, $\\(\\alpha_\\parallel\\)$ and $\\(\\alpha_\\perp\\)$ . This work is based on the analysis of $\\num{1000}$ synthetic spectroscopic catalogues, the _EuclidLargeMocks_ , which mimic the area and selection function of the $\\Euclid$ Data Release 1 (DR1) sample. We estimate the 2PCF of contaminated catalogues and separate the different contributions, particularly those coming from galaxies with correct measured redshift and from contaminants. We explore different models with increasing complexity to describe the measured 2PCF at fixed cosmology, with the aim of identifying the most efficient model in reproducing the data. Finally, we perform a cosmological inference and evaluate the systematic error on the inferred $\\(f \\sigma_8\\)$ , $\\(\\alpha_\\parallel\\)$ and $\\(\\alpha_\\perp\\)$ values associated with different models. Our results demonstrate that a minimal modelling approach, which only accounts for an attenuation of the clustering signal regardless of the type of contaminants, is sufficient to recover the correct values of $\\(f \\sigma_8\\)$ and $\\(\\alpha_\\parallel\\)$ , $\\(\\alpha_\\perp\\)$ at DR1. The accuracy and precision of the estimated AP parameters are largely insensitive to the presence of interlopers. The adoption of a minimal modelling induces a 1 \\% --3 \\% systematic error on the growth rate of structure estimation, depending on the considered redshift. However, this error remains smaller than the statistical error expected for the $\\Euclid$ DR1 analysis.\n",
       "\n",
       "</div>\n",
       "\n",
       "<div id=\"div_fig1\">\n",
       "\n",
       "<img src=\"tmp_2505.04688/./Figures/z1z3_params_comparison_fs8bs8_subset_paper_default.png\" alt=\"Fig18\" width=\"100%\"/>\n",
       "\n",
       "**Figure 18. -** $f\\sigma_8$ and $b\\sigma_8$ values and $1 \\sigma$ uncertainties for all tests in the two reference redshift bins. They grey band corresponds to $1 \\sigma$ around the values inferred in the reference case. (*fig:errorbars-parameters*)\n",
       "\n",
       "</div>\n",
       "<div id=\"div_fig2\">\n",
       "\n",
       "<img src=\"tmp_2505.04688/./Figures/from2D_overlpapped_contributes_z1z3.png\" alt=\"Fig16\" width=\"100%\"/>\n",
       "\n",
       "**Figure 16. -** Monopole, quadrupole and hexadecapole moments of all terms in Eq. \\eqref{eq:contam-2pcf-RR} averaged over all mock catalogues for $z \\in \\left[0.9, 1.1\\right]$(_left_) and $z \\in \\left[1.3, 1.5\\right]$(_right_). All terms comprise the correlation function and the corresponding prefactor. To simplify the visualization of all terms, the rightmost column of each panel shows a zoom-in on the smallest contributions in the corresponding redshift bin. (*fig:multipoles-z1-z3*)\n",
       "\n",
       "</div>\n",
       "<div id=\"div_fig3\">\n",
       "\n",
       "<img src=\"tmp_2505.04688/./Figures/z1_fs8bs8_paper_default.png\" alt=\"Fig7.1\" width=\"50%\"/><img src=\"tmp_2505.04688/./Figures/z3_fs8bs8_paper_default.png\" alt=\"Fig7.2\" width=\"50%\"/>\n",
       "\n",
       "**Figure 7. -** Contour plots for $f\\sigma_8$ and $b\\sigma_8$ derived from three representative tests in $z \\in [0.9, 1.1]$(_top_) and $z \\in [1.3, 1.5]$(_bottom_). The dashed grey lines indicate the mean values of the reference case posterior distribution. (*fig:fs8b_contour_all*)\n",
       "\n",
       "</div><div id=\"qrcode\"><img src=https://api.qrserver.com/v1/create-qr-code/?size=100x100&data=\"https://arxiv.org/abs/2505.04688\"></div>"
      ],
      "text/plain": [
       "<IPython.core.display.Markdown object>"
      ]
     },
     "metadata": {},
     "output_type": "display_data"
    },
    {
     "data": {
      "text/markdown": [
       "<div class=\"macros\" style=\"visibility:hidden;\">\n",
       "$\\newcommand{\\ensuremath}{}$\n",
       "$\\newcommand{\\xspace}{}$\n",
       "$\\newcommand{\\object}[1]{\\texttt{#1}}$\n",
       "$\\newcommand{\\farcs}{{.}''}$\n",
       "$\\newcommand{\\farcm}{{.}'}$\n",
       "$\\newcommand{\\arcsec}{''}$\n",
       "$\\newcommand{\\arcmin}{'}$\n",
       "$\\newcommand{\\ion}[2]{#1#2}$\n",
       "$\\newcommand{\\textsc}[1]{\\textrm{#1}}$\n",
       "$\\newcommand{\\hl}[1]{\\textrm{#1}}$\n",
       "$\\newcommand{\\footnote}[1]{}$\n",
       "$\\newcommand{\\vdag}{(v)^\\dagger}$\n",
       "$\\newcommand$\n",
       "$\\newcommand$\n",
       "$\\newcommand$\n",
       "$\\newcommand$\n",
       "$\\newcommand$\n",
       "$\\newcommand$\n",
       "$\\newcommand$\n",
       "$\\newcommand$\n",
       "$\\newcommand$\n",
       "$\\newcommand$\n",
       "$\\newcommand$\n",
       "$\\newcommand$\n",
       "$\\newcommand$\n",
       "$\\newcommand$\n",
       "$\\newcommand$\n",
       "$\\newcommand$\n",
       "$\\newcommand$\n",
       "$\\newcommand$\n",
       "$\\newcommand$\n",
       "$\\newcommand$\n",
       "$\\newcommand$\n",
       "$\\newcommand$</div>\n",
       "\n",
       "\n",
       "\n",
       "<div id=\"title\">\n",
       "\n",
       "# Physical Conditions of the Ionized Superwind in NGC 253 with VLT/MUSE\n",
       "\n",
       "</div>\n",
       "<div id=\"comments\">\n",
       "\n",
       "[![arXiv](https://img.shields.io/badge/arXiv-2505.04707-b31b1b.svg)](https://arxiv.org/abs/2505.04707)<mark>Appeared on: 2025-05-09</mark> -  _21 pages, 14 figures, submitted to ApJ, incorporated feedback from referee report_\n",
       "\n",
       "</div>\n",
       "<div id=\"authors\">\n",
       "\n",
       "S. A. Cronin, et al. -- incl., <mark>K. Kreckel</mark>, <mark>F. Walter</mark>\n",
       "\n",
       "</div>\n",
       "<div id=\"abstract\">\n",
       "\n",
       "**Abstract:** We present an analysis of the $\\ha$ -emitting ionized gas in the warm phase of the NGC 253 outflow using integral field spectroscopy from the Multi Unit Spectroscopic Explorer (MUSE). In each spaxel, we decompose $\\ha$ , $\\nii$ , and $\\sii$ emission lines into a system of up to 3 Gaussian components, accounting for the velocity contributions due to the disk and both intercepted walls of an outflow cone. In the approaching southern lobe of the outflow, we find maximum deprojected outflow velocities down to $\\sim -500$  $\\kms$ . Velocity gradients of this outflowing gas range from $\\sim -350$ to $-550$  $\\kms$ kpc $^{-1}$ with increasing distance from the nucleus.  Additionally, $\\nii$ / $\\ha$ and $\\sii$ / $\\ha$ integrated line ratios are suggestive of shocks as the dominant ionization source throughout the wind. Electron densities, inferred from the $\\sii$ doublet, peak at $2100$ cm $^{-3}$ near the nucleus and reach $\\lesssim 50$ cm $^{-3}$ in the wind. Finally, at an uncertainty of $0.3$ dex on the inferred mass of $4\\times10^{5}$  $\\msun$ , the mass-outflow rate of the $\\ha$ -emitting gas in the southern outflow lobe is $\\sim 0.4$  $\\msunperyear$ . This yields a mass-loading factor of $\\eta \\sim 0.1$ and a $\\sim 2\\%$ starburst energy efficiency.\n",
       "\n",
       "</div>\n",
       "\n",
       "<div id=\"div_fig1\">\n",
       "\n",
       "<img src=\"tmp_2505.04707/./deproj_diagram.png\" alt=\"Fig8\" width=\"100%\"/>\n",
       "\n",
       "**Figure 8. -** Geometry of a cone with inclination $i$ and semi-opening angle $\\alpha$ measured with respect to its rotational axis ($\\hat{a}$; dashed line). (a) As a function of $\\varphi$(the azimuthal angle around the cone axis), $\\vec{v}_{\\rm deproj}$ traces the wall of the cone, and the projected velocity vector $\\vec{v}_{\\rm proj}$(solid black line) lies in the $XY$ plane. Here, $\\vec{v}_{\\rm deproj}$ points toward the observer at $\\varphi = 270^\\circ$(left black point), in which the velocity has a maximum projection factor ($|\\cos(i - \\alpha)|$) toward the observer. The maximum projection factor away from the observer is then $|\\cos(i + \\alpha)|$ at $\\varphi = 90^\\circ$(right black point). (b) A 3D cone in the $XYZ$ plane with the observer at $X = 0$. (c) The same cone as (a), but noting the angle projected from the sky plane. For $i = 78^{\\circ}$, this angle is small ($12^{\\circ}$), which is why most lines-of-sight do not detect the back wall of the cone. (*fig:deproj*)\n",
       "\n",
       "</div>\n",
       "<div id=\"div_fig2\">\n",
       "\n",
       "<img src=\"tmp_2505.04707/./se_projvel_fwhm.png\" alt=\"Fig9\" width=\"100%\"/>\n",
       "\n",
       "**Figure 9. -** Kinematics of the southern outflow lobe in \\ngc. _Top:_ Projected \\niibwvl velocities of the main outflow cone (\"Blue Outflow\"), additional redshifted outflow components (\"Redshifted Outflow\") and disk components (\"Disk\"). The average projected velocities of the southern outflow cone are between $\\sim -150$ and $-250$ \\kms. In the bluest region of the Blue Outflow map, velocities reach $\\sim -350$ \\kms. Redshifted components in both outflow maps may be caused by confusion with the intervening disk. _Bottom:_ Intrinsic FWHM calculated by subtracting in quadrature the instrumental resolution ($100$ \\kms) from the measured FWHM. The average Blue Outflow linewidth map is $\\sim 250$ \\kms. Broad linewidths may indicate that the ionized gas is filling the outflow cone.  _ Both:_ JWST MIRI F770W contours highlight the nucleus, spiral arms, and outflow filaments. The white $\\times$ marks the galaxy center. (*fig:kinematics_se*)\n",
       "\n",
       "</div>\n",
       "<div id=\"div_fig3\">\n",
       "\n",
       "<img src=\"tmp_2505.04707/./se_flux_matsubayashi_regions.png\" alt=\"Fig7\" width=\"100%\"/>\n",
       "\n",
       "**Figure 7. -** Integrated flux of \\ha, \\niiawvl$+$\\niibwvl, and \\siiawvl$+$\\siibwvl in each component in the SE cube. The white $\\times$ marks the galaxy center. All emission lines are brightest in Hii regions and the starbursting nucleus. The emission is not uniformly bright throughout the Blue Outflow, indicating that the outflow cone is clumpy. (*fig:flux_se*)\n",
       "\n",
       "</div><div id=\"qrcode\"><img src=https://api.qrserver.com/v1/create-qr-code/?size=100x100&data=\"https://arxiv.org/abs/2505.04707\"></div>"
      ],
      "text/plain": [
       "<IPython.core.display.Markdown object>"
      ]
     },
     "metadata": {},
     "output_type": "display_data"
    }
   ],
   "source": [
    "[display(Markdown(k[1])) for k in documents];"
   ]
  },
  {
   "cell_type": "markdown",
   "id": "873873a4",
   "metadata": {
    "papermill": {
     "duration": 0.004426,
     "end_time": "2025-05-09T04:14:50.479404",
     "exception": false,
     "start_time": "2025-05-09T04:14:50.474978",
     "status": "completed"
    },
    "tags": []
   },
   "source": [
    "# Create HTML index"
   ]
  },
  {
   "cell_type": "code",
   "execution_count": 10,
   "id": "cf665672",
   "metadata": {
    "execution": {
     "iopub.execute_input": "2025-05-09T04:14:50.489112Z",
     "iopub.status.busy": "2025-05-09T04:14:50.488711Z",
     "iopub.status.idle": "2025-05-09T04:14:50.499077Z",
     "shell.execute_reply": "2025-05-09T04:14:50.498517Z"
    },
    "papermill": {
     "duration": 0.01624,
     "end_time": "2025-05-09T04:14:50.500018",
     "exception": false,
     "start_time": "2025-05-09T04:14:50.483778",
     "status": "completed"
    },
    "tags": []
   },
   "outputs": [
    {
     "name": "stdout",
     "output_type": "stream",
     "text": [
      "482  publications files modified in the last 7 days.\n"
     ]
    }
   ],
   "source": [
    "from datetime import datetime, timedelta, timezone\n",
    "from glob import glob\n",
    "import os\n",
    "\n",
    "files = glob('_build/html/*.md')\n",
    "days = 7\n",
    "now = datetime.today()\n",
    "res = []\n",
    "for fk in files:\n",
    "    stat_result = os.stat(fk).st_ctime\n",
    "    modified = datetime.fromtimestamp(stat_result, tz=timezone.utc).replace(tzinfo=None)\n",
    "    delta = now.today() - modified\n",
    "    if delta <= timedelta(days=days):\n",
    "        res.append((delta.seconds, fk))\n",
    "res = [k[1] for k in reversed(sorted(res, key=lambda x:x[1]))]\n",
    "npub = len(res)\n",
    "print(len(res), f\" publications files modified in the last {days:d} days.\")\n",
    "# [ print('\\t', k) for k in res ];"
   ]
  },
  {
   "cell_type": "code",
   "execution_count": 11,
   "id": "015de740",
   "metadata": {
    "execution": {
     "iopub.execute_input": "2025-05-09T04:14:50.509835Z",
     "iopub.status.busy": "2025-05-09T04:14:50.509597Z",
     "iopub.status.idle": "2025-05-09T04:14:50.533687Z",
     "shell.execute_reply": "2025-05-09T04:14:50.533119Z"
    },
    "papermill": {
     "duration": 0.030146,
     "end_time": "2025-05-09T04:14:50.534666",
     "exception": false,
     "start_time": "2025-05-09T04:14:50.504520",
     "status": "completed"
    },
    "tags": []
   },
   "outputs": [
    {
     "name": "stdout",
     "output_type": "stream",
     "text": [
      "10  publications in the last 7 days.\n"
     ]
    }
   ],
   "source": [
    "import datetime\n",
    "from glob import glob\n",
    "\n",
    "def get_last_n_days(lst, days=1):\n",
    "    \"\"\" Get the documents from the last n days \"\"\"\n",
    "    sorted_lst = sorted(lst, key=lambda x: x[1], reverse=True)\n",
    "    for fname, date in sorted_lst:\n",
    "        if date >= str(datetime.date.today() - datetime.timedelta(days=days)):\n",
    "            yield fname\n",
    "\n",
    "def extract_appearance_dates(lst_file):\n",
    "    dates = []\n",
    "\n",
    "    def get_date(line):\n",
    "        return line\\\n",
    "            .split('Appeared on:')[-1]\\\n",
    "            .split('</mark>')[0].strip()\n",
    "\n",
    "    for fname in lst:\n",
    "        with open(fname, 'r') as f:\n",
    "            found_date = False\n",
    "            for line in f:\n",
    "                if not found_date:\n",
    "                    if \"Appeared on\" in line:\n",
    "                        found_date = True\n",
    "                        dates.append((fname, get_date(line)))\n",
    "                else:\n",
    "                    break\n",
    "    return dates\n",
    "\n",
    "from glob import glob\n",
    "lst = glob('_build/html/*md')\n",
    "days = 7\n",
    "dates = extract_appearance_dates(lst)\n",
    "res = list(get_last_n_days(dates, days))\n",
    "npub = len(res)\n",
    "print(len(res), f\" publications in the last {days:d} days.\")"
   ]
  },
  {
   "cell_type": "code",
   "execution_count": 12,
   "id": "52ca0208",
   "metadata": {
    "execution": {
     "iopub.execute_input": "2025-05-09T04:14:50.544846Z",
     "iopub.status.busy": "2025-05-09T04:14:50.544451Z",
     "iopub.status.idle": "2025-05-09T04:14:50.549178Z",
     "shell.execute_reply": "2025-05-09T04:14:50.548642Z"
    },
    "papermill": {
     "duration": 0.010785,
     "end_time": "2025-05-09T04:14:50.550109",
     "exception": false,
     "start_time": "2025-05-09T04:14:50.539324",
     "status": "completed"
    },
    "scrolled": false,
    "tags": []
   },
   "outputs": [],
   "source": [
    "def create_carousel(npub=4):\n",
    "    \"\"\" Generate the HTML code for a carousel with `npub` slides \"\"\"\n",
    "    carousel = [\"\"\"  <div class=\"carousel\" \"\"\",\n",
    "                \"\"\"       data-flickity='{ \"autoPlay\": 10000, \"adaptiveHeight\": true, \"resize\": true, \"wrapAround\": true, \"pauseAutoPlayOnHover\": true, \"groupCells\": 1 }' id=\"asyncTypeset\">\"\"\"\n",
    "                ]\n",
    "    \n",
    "    item_str = \"\"\"    <div class=\"carousel-cell\"> <div id=\"slide{k}\" class=\"md_view\">Content {k}</div> </div>\"\"\"\n",
    "    for k in range(1, npub + 1):\n",
    "        carousel.append(item_str.format(k=k))\n",
    "    carousel.append(\"  </div>\")\n",
    "    return '\\n'.join(carousel)\n",
    "\n",
    "def create_grid(npub=4):\n",
    "    \"\"\" Generate the HTML code for a flat grid with `npub` slides \"\"\"\n",
    "    grid = [\"\"\"  <div class=\"grid\"> \"\"\",\n",
    "                ]\n",
    "    \n",
    "    item_str = \"\"\"    <div class=\"grid-item\"> <div id=\"slide{k}\" class=\"md_view\">Content {k}</div> </div>\"\"\"\n",
    "    for k in range(1, npub + 1):\n",
    "        grid.append(item_str.format(k=k))\n",
    "    grid.append(\"  </div>\")\n",
    "    return '\\n'.join(grid)"
   ]
  },
  {
   "cell_type": "code",
   "execution_count": 13,
   "id": "a6eac5b6",
   "metadata": {
    "execution": {
     "iopub.execute_input": "2025-05-09T04:14:50.560180Z",
     "iopub.status.busy": "2025-05-09T04:14:50.559784Z",
     "iopub.status.idle": "2025-05-09T04:14:50.564897Z",
     "shell.execute_reply": "2025-05-09T04:14:50.564361Z"
    },
    "papermill": {
     "duration": 0.011177,
     "end_time": "2025-05-09T04:14:50.565839",
     "exception": false,
     "start_time": "2025-05-09T04:14:50.554662",
     "status": "completed"
    },
    "scrolled": false,
    "tags": []
   },
   "outputs": [],
   "source": [
    "carousel = create_carousel(npub)\n",
    "docs = ', '.join(['\"{0:s}\"'.format(k.split('/')[-1]) for k in res])\n",
    "slides = ', '.join([f'\"slide{k}\"' for k in range(1, npub + 1)])\n",
    "\n",
    "with open(\"daily_template.html\", \"r\") as tpl:\n",
    "    page = tpl.read()\n",
    "    page = page.replace(\"{%-- carousel:s --%}\", carousel)\\\n",
    "               .replace(\"{%-- suptitle:s --%}\",  \"7-day archives\" )\\\n",
    "               .replace(\"{%-- docs:s --%}\", docs)\\\n",
    "               .replace(\"{%-- slides:s --%}\", slides)\n",
    "    \n",
    "with open(\"_build/html/index_7days.html\", 'w') as fout:\n",
    "    fout.write(page)"
   ]
  },
  {
   "cell_type": "code",
   "execution_count": 14,
   "id": "adc1a1ec",
   "metadata": {
    "execution": {
     "iopub.execute_input": "2025-05-09T04:14:50.576076Z",
     "iopub.status.busy": "2025-05-09T04:14:50.575704Z",
     "iopub.status.idle": "2025-05-09T04:14:50.583430Z",
     "shell.execute_reply": "2025-05-09T04:14:50.582763Z"
    },
    "papermill": {
     "duration": 0.01379,
     "end_time": "2025-05-09T04:14:50.584398",
     "exception": false,
     "start_time": "2025-05-09T04:14:50.570608",
     "status": "completed"
    },
    "tags": []
   },
   "outputs": [
    {
     "name": "stdout",
     "output_type": "stream",
     "text": [
      "6  publications in the last day.\n"
     ]
    }
   ],
   "source": [
    "# redo for today\n",
    "days = 1\n",
    "res = list(get_last_n_days(dates, days))\n",
    "npub = len(res)\n",
    "print(len(res), f\" publications in the last day.\")\n",
    "\n",
    "carousel = create_carousel(npub)\n",
    "docs = ', '.join(['\"{0:s}\"'.format(k.split('/')[-1]) for k in res])\n",
    "slides = ', '.join([f'\"slide{k}\"' for k in range(1, npub + 1)])\n",
    "\n",
    "with open(\"daily_template.html\", \"r\") as tpl:\n",
    "    page = tpl.read()\n",
    "    page = page.replace(\"{%-- carousel:s --%}\", carousel)\\\n",
    "               .replace(\"{%-- suptitle:s --%}\",  \"Daily\" )\\\n",
    "               .replace(\"{%-- docs:s --%}\", docs)\\\n",
    "               .replace(\"{%-- slides:s --%}\", slides)\n",
    "    \n",
    "# print(carousel, docs, slides)\n",
    "# print(page)\n",
    "with open(\"_build/html/index_daily.html\", 'w') as fout:\n",
    "    fout.write(page)"
   ]
  },
  {
   "cell_type": "code",
   "execution_count": 15,
   "id": "00eece82",
   "metadata": {
    "execution": {
     "iopub.execute_input": "2025-05-09T04:14:50.594801Z",
     "iopub.status.busy": "2025-05-09T04:14:50.594429Z",
     "iopub.status.idle": "2025-05-09T04:14:50.600914Z",
     "shell.execute_reply": "2025-05-09T04:14:50.600276Z"
    },
    "papermill": {
     "duration": 0.012754,
     "end_time": "2025-05-09T04:14:50.601900",
     "exception": false,
     "start_time": "2025-05-09T04:14:50.589146",
     "status": "completed"
    },
    "scrolled": false,
    "tags": []
   },
   "outputs": [
    {
     "name": "stdout",
     "output_type": "stream",
     "text": [
      "6  6 publications selected.\n"
     ]
    }
   ],
   "source": [
    "# Create the flat grid of the last N papers (fixed number regardless of dates)\n",
    "from itertools import islice \n",
    "\n",
    "npub = 6\n",
    "res = [k[0] for k in (islice(reversed(sorted(dates, key=lambda x: x[1])), 6))]\n",
    "print(len(res), f\" {npub} publications selected.\")\n",
    "\n",
    "grid = create_grid(npub)\n",
    "docs = ', '.join(['\"{0:s}\"'.format(k.split('/')[-1]) for k in res])\n",
    "slides = ', '.join([f'\"slide{k}\"' for k in range(1, npub + 1)])\n",
    "\n",
    "with open(\"grid_template.html\", \"r\") as tpl:\n",
    "    page = tpl.read()\n",
    "    page = page.replace(\"{%-- grid-content:s --%}\", grid)\\\n",
    "               .replace(\"{%-- suptitle:s --%}\",  f\"Last {npub:,d} papers\" )\\\n",
    "               .replace(\"{%-- docs:s --%}\", docs)\\\n",
    "               .replace(\"{%-- slides:s --%}\", slides)\n",
    "    \n",
    "# print(grid, docs, slides)\n",
    "# print(page)\n",
    "with open(\"_build/html/index_npub_grid.html\", 'w') as fout:\n",
    "    fout.write(page)"
   ]
  }
 ],
 "metadata": {
  "kernelspec": {
   "display_name": "Python 3 (ipykernel)",
   "language": "python",
   "name": "python3"
  },
  "language_info": {
   "codemirror_mode": {
    "name": "ipython",
    "version": 3
   },
   "file_extension": ".py",
   "mimetype": "text/x-python",
   "name": "python",
   "nbconvert_exporter": "python",
   "pygments_lexer": "ipython3",
   "version": "3.9.22"
  },
  "papermill": {
   "default_parameters": {},
   "duration": 79.675388,
   "end_time": "2025-05-09T04:14:50.822678",
   "environment_variables": {},
   "exception": null,
   "input_path": "MPIA daily digest.ipynb",
   "output_path": "log.ipynb",
   "parameters": {},
   "start_time": "2025-05-09T04:13:31.147290",
   "version": "2.6.0"
  },
  "vscode": {
   "interpreter": {
    "hash": "aee8b7b246df8f9039afb4144a1f6fd8d2ca17a180786b69acc140d282b71a49"
   }
  },
  "widgets": {
   "application/vnd.jupyter.widget-state+json": {
    "state": {
     "01ecb73266f2433296db555a9e71848d": {
      "model_module": "@jupyter-widgets/controls",
      "model_module_version": "2.0.0",
      "model_name": "HTMLStyleModel",
      "state": {
       "_model_module": "@jupyter-widgets/controls",
       "_model_module_version": "2.0.0",
       "_model_name": "HTMLStyleModel",
       "_view_count": null,
       "_view_module": "@jupyter-widgets/base",
       "_view_module_version": "2.0.0",
       "_view_name": "StyleView",
       "background": null,
       "description_width": "",
       "font_size": null,
       "text_color": null
      }
     },
     "23a7354620c745ae9232e11e9e322a59": {
      "model_module": "@jupyter-widgets/base",
      "model_module_version": "2.0.0",
      "model_name": "LayoutModel",
      "state": {
       "_model_module": "@jupyter-widgets/base",
       "_model_module_version": "2.0.0",
       "_model_name": "LayoutModel",
       "_view_count": null,
       "_view_module": "@jupyter-widgets/base",
       "_view_module_version": "2.0.0",
       "_view_name": "LayoutView",
       "align_content": null,
       "align_items": null,
       "align_self": null,
       "border_bottom": null,
       "border_left": null,
       "border_right": null,
       "border_top": null,
       "bottom": null,
       "display": null,
       "flex": null,
       "flex_flow": null,
       "grid_area": null,
       "grid_auto_columns": null,
       "grid_auto_flow": null,
       "grid_auto_rows": null,
       "grid_column": null,
       "grid_gap": null,
       "grid_row": null,
       "grid_template_areas": null,
       "grid_template_columns": null,
       "grid_template_rows": null,
       "height": null,
       "justify_content": null,
       "justify_items": null,
       "left": null,
       "margin": null,
       "max_height": null,
       "max_width": null,
       "min_height": null,
       "min_width": null,
       "object_fit": null,
       "object_position": null,
       "order": null,
       "overflow": null,
       "padding": null,
       "right": null,
       "top": null,
       "visibility": null,
       "width": null
      }
     },
     "40634a260d7f4248b12ae73265e3010c": {
      "model_module": "@jupyter-widgets/controls",
      "model_module_version": "2.0.0",
      "model_name": "HTMLModel",
      "state": {
       "_dom_classes": [],
       "_model_module": "@jupyter-widgets/controls",
       "_model_module_version": "2.0.0",
       "_model_name": "HTMLModel",
       "_view_count": null,
       "_view_module": "@jupyter-widgets/controls",
       "_view_module_version": "2.0.0",
       "_view_name": "HTMLView",
       "description": "",
       "description_allow_html": false,
       "layout": "IPY_MODEL_4c7875eaef744461830cd24f65a62599",
       "placeholder": "​",
       "style": "IPY_MODEL_83bba3b0ebc74c0798735259555f9cd2",
       "tabbable": null,
       "tooltip": null,
       "value": " 3/3 [00:57&lt;00:00, 26.08s/it]"
      }
     },
     "4c7875eaef744461830cd24f65a62599": {
      "model_module": "@jupyter-widgets/base",
      "model_module_version": "2.0.0",
      "model_name": "LayoutModel",
      "state": {
       "_model_module": "@jupyter-widgets/base",
       "_model_module_version": "2.0.0",
       "_model_name": "LayoutModel",
       "_view_count": null,
       "_view_module": "@jupyter-widgets/base",
       "_view_module_version": "2.0.0",
       "_view_name": "LayoutView",
       "align_content": null,
       "align_items": null,
       "align_self": null,
       "border_bottom": null,
       "border_left": null,
       "border_right": null,
       "border_top": null,
       "bottom": null,
       "display": null,
       "flex": null,
       "flex_flow": null,
       "grid_area": null,
       "grid_auto_columns": null,
       "grid_auto_flow": null,
       "grid_auto_rows": null,
       "grid_column": null,
       "grid_gap": null,
       "grid_row": null,
       "grid_template_areas": null,
       "grid_template_columns": null,
       "grid_template_rows": null,
       "height": null,
       "justify_content": null,
       "justify_items": null,
       "left": null,
       "margin": null,
       "max_height": null,
       "max_width": null,
       "min_height": null,
       "min_width": null,
       "object_fit": null,
       "object_position": null,
       "order": null,
       "overflow": null,
       "padding": null,
       "right": null,
       "top": null,
       "visibility": null,
       "width": null
      }
     },
     "75abec665a2c4ad191c6be59866a6cb2": {
      "model_module": "@jupyter-widgets/controls",
      "model_module_version": "2.0.0",
      "model_name": "ProgressStyleModel",
      "state": {
       "_model_module": "@jupyter-widgets/controls",
       "_model_module_version": "2.0.0",
       "_model_name": "ProgressStyleModel",
       "_view_count": null,
       "_view_module": "@jupyter-widgets/base",
       "_view_module_version": "2.0.0",
       "_view_name": "StyleView",
       "bar_color": null,
       "description_width": ""
      }
     },
     "83bba3b0ebc74c0798735259555f9cd2": {
      "model_module": "@jupyter-widgets/controls",
      "model_module_version": "2.0.0",
      "model_name": "HTMLStyleModel",
      "state": {
       "_model_module": "@jupyter-widgets/controls",
       "_model_module_version": "2.0.0",
       "_model_name": "HTMLStyleModel",
       "_view_count": null,
       "_view_module": "@jupyter-widgets/base",
       "_view_module_version": "2.0.0",
       "_view_name": "StyleView",
       "background": null,
       "description_width": "",
       "font_size": null,
       "text_color": null
      }
     },
     "d00b01f4b53a46328301d32b667e54d9": {
      "model_module": "@jupyter-widgets/controls",
      "model_module_version": "2.0.0",
      "model_name": "HTMLModel",
      "state": {
       "_dom_classes": [],
       "_model_module": "@jupyter-widgets/controls",
       "_model_module_version": "2.0.0",
       "_model_name": "HTMLModel",
       "_view_count": null,
       "_view_module": "@jupyter-widgets/controls",
       "_view_module_version": "2.0.0",
       "_view_name": "HTMLView",
       "description": "",
       "description_allow_html": false,
       "layout": "IPY_MODEL_23a7354620c745ae9232e11e9e322a59",
       "placeholder": "​",
       "style": "IPY_MODEL_01ecb73266f2433296db555a9e71848d",
       "tabbable": null,
       "tooltip": null,
       "value": "100%"
      }
     },
     "d305c810af2e4da085ec657fd051a206": {
      "model_module": "@jupyter-widgets/base",
      "model_module_version": "2.0.0",
      "model_name": "LayoutModel",
      "state": {
       "_model_module": "@jupyter-widgets/base",
       "_model_module_version": "2.0.0",
       "_model_name": "LayoutModel",
       "_view_count": null,
       "_view_module": "@jupyter-widgets/base",
       "_view_module_version": "2.0.0",
       "_view_name": "LayoutView",
       "align_content": null,
       "align_items": null,
       "align_self": null,
       "border_bottom": null,
       "border_left": null,
       "border_right": null,
       "border_top": null,
       "bottom": null,
       "display": null,
       "flex": null,
       "flex_flow": null,
       "grid_area": null,
       "grid_auto_columns": null,
       "grid_auto_flow": null,
       "grid_auto_rows": null,
       "grid_column": null,
       "grid_gap": null,
       "grid_row": null,
       "grid_template_areas": null,
       "grid_template_columns": null,
       "grid_template_rows": null,
       "height": null,
       "justify_content": null,
       "justify_items": null,
       "left": null,
       "margin": null,
       "max_height": null,
       "max_width": null,
       "min_height": null,
       "min_width": null,
       "object_fit": null,
       "object_position": null,
       "order": null,
       "overflow": null,
       "padding": null,
       "right": null,
       "top": null,
       "visibility": null,
       "width": null
      }
     },
     "e972fbbea7864071884ae869b409077e": {
      "model_module": "@jupyter-widgets/base",
      "model_module_version": "2.0.0",
      "model_name": "LayoutModel",
      "state": {
       "_model_module": "@jupyter-widgets/base",
       "_model_module_version": "2.0.0",
       "_model_name": "LayoutModel",
       "_view_count": null,
       "_view_module": "@jupyter-widgets/base",
       "_view_module_version": "2.0.0",
       "_view_name": "LayoutView",
       "align_content": null,
       "align_items": null,
       "align_self": null,
       "border_bottom": null,
       "border_left": null,
       "border_right": null,
       "border_top": null,
       "bottom": null,
       "display": null,
       "flex": null,
       "flex_flow": null,
       "grid_area": null,
       "grid_auto_columns": null,
       "grid_auto_flow": null,
       "grid_auto_rows": null,
       "grid_column": null,
       "grid_gap": null,
       "grid_row": null,
       "grid_template_areas": null,
       "grid_template_columns": null,
       "grid_template_rows": null,
       "height": null,
       "justify_content": null,
       "justify_items": null,
       "left": null,
       "margin": null,
       "max_height": null,
       "max_width": null,
       "min_height": null,
       "min_width": null,
       "object_fit": null,
       "object_position": null,
       "order": null,
       "overflow": null,
       "padding": null,
       "right": null,
       "top": null,
       "visibility": null,
       "width": null
      }
     },
     "f525aa40442e441592b0e97178afb443": {
      "model_module": "@jupyter-widgets/controls",
      "model_module_version": "2.0.0",
      "model_name": "HBoxModel",
      "state": {
       "_dom_classes": [],
       "_model_module": "@jupyter-widgets/controls",
       "_model_module_version": "2.0.0",
       "_model_name": "HBoxModel",
       "_view_count": null,
       "_view_module": "@jupyter-widgets/controls",
       "_view_module_version": "2.0.0",
       "_view_name": "HBoxView",
       "box_style": "",
       "children": [
        "IPY_MODEL_d00b01f4b53a46328301d32b667e54d9",
        "IPY_MODEL_fe05613040f645fabfdd91c1a796b807",
        "IPY_MODEL_40634a260d7f4248b12ae73265e3010c"
       ],
       "layout": "IPY_MODEL_e972fbbea7864071884ae869b409077e",
       "tabbable": null,
       "tooltip": null
      }
     },
     "fe05613040f645fabfdd91c1a796b807": {
      "model_module": "@jupyter-widgets/controls",
      "model_module_version": "2.0.0",
      "model_name": "FloatProgressModel",
      "state": {
       "_dom_classes": [],
       "_model_module": "@jupyter-widgets/controls",
       "_model_module_version": "2.0.0",
       "_model_name": "FloatProgressModel",
       "_view_count": null,
       "_view_module": "@jupyter-widgets/controls",
       "_view_module_version": "2.0.0",
       "_view_name": "ProgressView",
       "bar_style": "success",
       "description": "",
       "description_allow_html": false,
       "layout": "IPY_MODEL_d305c810af2e4da085ec657fd051a206",
       "max": 3.0,
       "min": 0.0,
       "orientation": "horizontal",
       "style": "IPY_MODEL_75abec665a2c4ad191c6be59866a6cb2",
       "tabbable": null,
       "tooltip": null,
       "value": 3.0
      }
     }
    },
    "version_major": 2,
    "version_minor": 0
   }
  }
 },
 "nbformat": 4,
 "nbformat_minor": 5
}