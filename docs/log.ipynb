{
 "cells": [
  {
   "cell_type": "markdown",
   "id": "92bcb855",
   "metadata": {
    "papermill": {
     "duration": 0.003785,
     "end_time": "2025-01-27T04:10:52.052430",
     "exception": false,
     "start_time": "2025-01-27T04:10:52.048645",
     "status": "completed"
    },
    "tags": []
   },
   "source": [
    "# MPIA Arxiv on Deck 2\n",
    "\n",
    "Contains the steps to produce the paper extractions."
   ]
  },
  {
   "cell_type": "code",
   "execution_count": 1,
   "id": "3a0d6e11",
   "metadata": {
    "execution": {
     "iopub.execute_input": "2025-01-27T04:10:52.059458Z",
     "iopub.status.busy": "2025-01-27T04:10:52.059243Z",
     "iopub.status.idle": "2025-01-27T04:10:52.656841Z",
     "shell.execute_reply": "2025-01-27T04:10:52.656172Z"
    },
    "papermill": {
     "duration": 0.602458,
     "end_time": "2025-01-27T04:10:52.658173",
     "exception": false,
     "start_time": "2025-01-27T04:10:52.055715",
     "status": "completed"
    },
    "tags": []
   },
   "outputs": [],
   "source": [
    "# Imports\n",
    "import os\n",
    "from IPython.display import Markdown, display\n",
    "from tqdm.notebook import tqdm\n",
    "import warnings\n",
    "from PIL import Image \n",
    "import re\n",
    "\n",
    "# requires arxiv_on_deck_2\n",
    "\n",
    "from arxiv_on_deck_2.arxiv2 import (get_new_papers, \n",
    "                                    get_paper_from_identifier,\n",
    "                                    retrieve_document_source, \n",
    "                                    get_markdown_badge)\n",
    "from arxiv_on_deck_2 import (latex,\n",
    "                             latex_bib,\n",
    "                             mpia,\n",
    "                             highlight_authors_in_list)\n",
    "\n",
    "# Sometimes images are really big\n",
    "Image.MAX_IMAGE_PIXELS = 1000000000 "
   ]
  },
  {
   "cell_type": "code",
   "execution_count": 2,
   "id": "22aa9d44",
   "metadata": {
    "execution": {
     "iopub.execute_input": "2025-01-27T04:10:52.665545Z",
     "iopub.status.busy": "2025-01-27T04:10:52.665107Z",
     "iopub.status.idle": "2025-01-27T04:10:52.673109Z",
     "shell.execute_reply": "2025-01-27T04:10:52.672476Z"
    },
    "papermill": {
     "duration": 0.012731,
     "end_time": "2025-01-27T04:10:52.674173",
     "exception": false,
     "start_time": "2025-01-27T04:10:52.661442",
     "status": "completed"
    },
    "tags": []
   },
   "outputs": [],
   "source": [
    "# Some useful definitions.\n",
    "\n",
    "class AffiliationWarning(UserWarning):\n",
    "    pass\n",
    "\n",
    "class AffiliationError(RuntimeError):\n",
    "    pass\n",
    "\n",
    "def validation(source: str):\n",
    "    \"\"\"Raises error paper during parsing of source file\n",
    "    \n",
    "    Allows checks before parsing TeX code.\n",
    "    \n",
    "    Raises AffiliationWarning\n",
    "    \"\"\"\n",
    "    check = mpia.affiliation_verifications(source, verbose=True)\n",
    "    if check is not True:\n",
    "        raise AffiliationError(\"mpia.affiliation_verifications: \" + check)\n",
    "\n",
    "        \n",
    "warnings.simplefilter('always', AffiliationWarning)\n",
    "\n",
    "\n",
    "def get_markdown_qrcode(paper_id: str):\n",
    "    \"\"\" Generate a qrcode to the arxiv page using qrserver.com\n",
    "    \n",
    "    :param paper: Arxiv paper\n",
    "    :returns: markdown text\n",
    "    \"\"\"\n",
    "    url = r\"https://api.qrserver.com/v1/create-qr-code/?size=100x100&data=\"\n",
    "    txt = f\"\"\"<img src={url}\"https://arxiv.org/abs/{paper_id}\">\"\"\"\n",
    "    txt = '<div id=\"qrcode\">' + txt + '</div>'\n",
    "    return txt\n",
    "\n",
    "\n",
    "def clean_non_western_encoded_characters_commands(text: str) -> str:\n",
    "    \"\"\" Remove non-western encoded characters from a string\n",
    "    List may need to grow.\n",
    "    \n",
    "    :param text: the text to clean\n",
    "    :return: the cleaned text\n",
    "    \"\"\"\n",
    "    text = re.sub(r\"(\\\\begin{CJK}{UTF8}{gbsn})(.*?)(\\\\end{CJK})\", r\"\\2\", text)\n",
    "    return text\n",
    "\n",
    "\n",
    "def get_initials(name: str) -> str:\n",
    "    \"\"\" Get the short name, e.g., A.-B. FamName\n",
    "    :param name: full name\n",
    "    :returns: initials\n",
    "    \"\"\"\n",
    "    initials = []\n",
    "    # account for non western names often in ()\n",
    "    if '(' in name:\n",
    "        name = clean_non_western_encoded_characters_commands(name)\n",
    "        suffix = re.findall(r\"\\((.*?)\\)\", name)[0]\n",
    "        name = name.replace(f\"({suffix})\", '')\n",
    "    else:\n",
    "        suffix = ''\n",
    "    split = name.split()\n",
    "    for token in split[:-1]:\n",
    "        if '-' in token:\n",
    "            current = '-'.join([k[0] + '.' for k in token.split('-')])\n",
    "        else:\n",
    "            current = token[0] + '.'\n",
    "        initials.append(current)\n",
    "    initials.append(split[-1].strip())\n",
    "    if suffix:\n",
    "        initials.append(f\"({suffix})\")\n",
    "    return ' '.join(initials)"
   ]
  },
  {
   "cell_type": "markdown",
   "id": "14bd6310",
   "metadata": {
    "papermill": {
     "duration": 0.002878,
     "end_time": "2025-01-27T04:10:52.679969",
     "exception": false,
     "start_time": "2025-01-27T04:10:52.677091",
     "status": "completed"
    },
    "tags": []
   },
   "source": [
    "## get list of arxiv paper candidates\n",
    "\n",
    "We use the MPIA mitarbeiter list webpage from mpia.de to get author names\n",
    "We then get all new papers from Arxiv and match authors"
   ]
  },
  {
   "cell_type": "code",
   "execution_count": 3,
   "id": "7ea813a8",
   "metadata": {
    "execution": {
     "iopub.execute_input": "2025-01-27T04:10:52.686837Z",
     "iopub.status.busy": "2025-01-27T04:10:52.686419Z",
     "iopub.status.idle": "2025-01-27T04:11:10.918047Z",
     "shell.execute_reply": "2025-01-27T04:11:10.917416Z"
    },
    "papermill": {
     "duration": 18.236302,
     "end_time": "2025-01-27T04:11:10.919189",
     "exception": false,
     "start_time": "2025-01-27T04:10:52.682887",
     "status": "completed"
    },
    "tags": []
   },
   "outputs": [],
   "source": [
    "# deal with the author list and edge cases of people that cannot be consistent on their name  \n",
    "\n",
    "def filter_non_scientists(name: str) -> bool:\n",
    "    \"\"\" Loose filter on expected authorships\n",
    "\n",
    "    removing IT, administration, technical staff\n",
    "    :param name: name\n",
    "    :returns: False if name is not a scientist\n",
    "    \"\"\"\n",
    "    remove_list = ['Licht', 'Binroth', 'Witzel', 'Jordan',\n",
    "                   'Zähringer', 'Scheerer', 'Hoffmann', 'Düe',\n",
    "                   'Hellmich', 'Enkler-Scharpegge', 'Witte-Nguy',\n",
    "                   'Dehen', 'Beckmann', 'Jager', 'Jäger'\n",
    "                  ]\n",
    "\n",
    "    for k in remove_list:\n",
    "        if k in name:\n",
    "            return False\n",
    "    return True\n",
    "\n",
    "def add_author_to_list(author_list: list) -> list:\n",
    "    \"\"\" Add author to list if not already in list\n",
    "    \n",
    "    :param author: author name\n",
    "    :param author_list: list of authors\n",
    "    :returns: updated list of authors\n",
    "    \"\"\"\n",
    "    add_list = ['T. Henning']\n",
    "\n",
    "    for author in add_list:\n",
    "        if author not in author_list:\n",
    "            author_list.append(author)\n",
    "    return author_list\n",
    "\n",
    "# get list from MPIA website\n",
    "# filter for non-scientists (mpia.get_mpia_mitarbeiter_list() does some filtering)\n",
    "mpia_authors = [k[1] for k in mpia.get_mpia_mitarbeiter_list() if filter_non_scientists(k[1])]\n",
    "# add some missing author because of inconsistencies in their MPIA name and author name on papers\n",
    "mpia_authors = add_author_to_list(mpia_authors)"
   ]
  },
  {
   "cell_type": "code",
   "execution_count": 4,
   "id": "2645e73a",
   "metadata": {
    "execution": {
     "iopub.execute_input": "2025-01-27T04:11:10.926684Z",
     "iopub.status.busy": "2025-01-27T04:11:10.926176Z",
     "iopub.status.idle": "2025-01-27T04:11:11.669267Z",
     "shell.execute_reply": "2025-01-27T04:11:11.668670Z"
    },
    "papermill": {
     "duration": 0.747707,
     "end_time": "2025-01-27T04:11:11.670253",
     "exception": false,
     "start_time": "2025-01-27T04:11:10.922546",
     "status": "completed"
    },
    "tags": []
   },
   "outputs": [
    {
     "name": "stdout",
     "output_type": "stream",
     "text": [
      "K. El-Badry  ->  K. El-Badry  |  ['K. El-Badry']\n",
      "J. Liu  ->  J. Liu  |  ['J. Liu']\n",
      "X. Zhang  ->  X. Zhang  |  ['X. Zhang']\n",
      "R. Burn  ->  R. Burn  |  ['R. Burn']\n",
      "K. Jahnke  ->  K. Jahnke  |  ['K. Jahnke']\n",
      "J. Li  ->  J. Li  |  ['J. Li']\n",
      "H.-W. Rix  ->  H.-W. Rix  |  ['H.-W. Rix']\n",
      "J. Müller-Horn  ->  J. Müller-Horn  |  ['J. Müller-Horn']\n",
      "R. Seeburger  ->  L. R. Seeburger  |  ['R. Seeburger']\n"
     ]
    },
    {
     "name": "stdout",
     "output_type": "stream",
     "text": [
      "Arxiv has 56 new papers today\n",
      "          6 with possible author matches\n"
     ]
    }
   ],
   "source": [
    "new_papers = get_new_papers()\n",
    "# add manual references\n",
    "add_paper_refs = []\n",
    "new_papers.extend([get_paper_from_identifier(k) for k in add_paper_refs])\n",
    "\n",
    "def robust_call(fn, value, *args, **kwargs):\n",
    "    try:\n",
    "        return fn(value, *args, **kwargs)\n",
    "    except Exception:\n",
    "        return value\n",
    "\n",
    "candidates = []\n",
    "for paperk in new_papers:\n",
    "    # Check author list with their initials\n",
    "    normed_author_list = [robust_call(mpia.get_initials, k) for k in paperk['authors']]\n",
    "    hl_authors = highlight_authors_in_list(normed_author_list, mpia_authors, verbose=True)\n",
    "    matches = [(hl, orig) for hl, orig in zip(hl_authors, paperk['authors']) if 'mark' in hl]\n",
    "    paperk['authors'] = hl_authors\n",
    "    if matches:\n",
    "        # only select paper if an author matched our list\n",
    "        candidates.append(paperk)\n",
    "print(\"\"\"Arxiv has {0:,d} new papers today\"\"\".format(len(new_papers)))        \n",
    "print(\"\"\"          {0:,d} with possible author matches\"\"\".format(len(candidates)))"
   ]
  },
  {
   "cell_type": "markdown",
   "id": "3543b34a",
   "metadata": {
    "papermill": {
     "duration": 0.003069,
     "end_time": "2025-01-27T04:11:11.676722",
     "exception": false,
     "start_time": "2025-01-27T04:11:11.673653",
     "status": "completed"
    },
    "tags": []
   },
   "source": [
    "# Parse sources and generate relevant outputs\n",
    "\n",
    "From the candidates, we do the following steps:\n",
    "* get their tarball from ArXiv (and extract data)\n",
    "* find the main .tex file: find one with \\documentclass{...} (sometimes it's non trivial)\n",
    "* Check affiliations with :func:`validation`, which uses :func:`mpia.affiliation_verifications`\n",
    "* If passing the affiliations: we parse the .tex source\n",
    "   * inject sub-documents into the main (flatten the main document)\n",
    "   * parse structure, extract information (title, abstract, authors, figures...)\n",
    "   * handles `\\graphicspath` if provided\n",
    "* Generate the .md document."
   ]
  },
  {
   "cell_type": "code",
   "execution_count": 5,
   "id": "9576b79e",
   "metadata": {
    "execution": {
     "iopub.execute_input": "2025-01-27T04:11:11.683831Z",
     "iopub.status.busy": "2025-01-27T04:11:11.683582Z",
     "iopub.status.idle": "2025-01-27T04:13:52.286033Z",
     "shell.execute_reply": "2025-01-27T04:13:52.285170Z"
    },
    "papermill": {
     "duration": 160.607319,
     "end_time": "2025-01-27T04:13:52.287135",
     "exception": false,
     "start_time": "2025-01-27T04:11:11.679816",
     "status": "completed"
    },
    "scrolled": false,
    "tags": []
   },
   "outputs": [
    {
     "data": {
      "application/vnd.jupyter.widget-view+json": {
       "model_id": "7670b74a81184c29be6bb6962d55fefd",
       "version_major": 2,
       "version_minor": 0
      },
      "text/plain": [
       "  0%|          | 0/6 [00:00<?, ?it/s]"
      ]
     },
     "metadata": {},
     "output_type": "display_data"
    },
    {
     "name": "stdout",
     "output_type": "stream",
     "text": [
      "Retrieving document from  https://arxiv.org/e-print/2501.14025\n"
     ]
    },
    {
     "name": "stdout",
     "output_type": "stream",
     "text": [
      "extracting tarball to tmp_2501.14025..."
     ]
    },
    {
     "name": "stdout",
     "output_type": "stream",
     "text": [
      " done.\n",
      "Retrieving document from  https://arxiv.org/e-print/2501.14145\n"
     ]
    },
    {
     "name": "stdout",
     "output_type": "stream",
     "text": [
      "extracting tarball to tmp_2501.14145..."
     ]
    },
    {
     "name": "stdout",
     "output_type": "stream",
     "text": [
      " done.\n",
      "Retrieving document from  https://arxiv.org/e-print/2501.14247\n"
     ]
    },
    {
     "name": "stdout",
     "output_type": "stream",
     "text": [
      "extracting tarball to tmp_2501.14247..."
     ]
    },
    {
     "name": "stdout",
     "output_type": "stream",
     "text": [
      " done.\n",
      "Retrieving document from  https://arxiv.org/e-print/2501.14355\n",
      "extracting tarball to tmp_2501.14355..."
     ]
    },
    {
     "name": "stdout",
     "output_type": "stream",
     "text": [
      " done.\n"
     ]
    },
    {
     "name": "stdout",
     "output_type": "stream",
     "text": [
      "Found 137 bibliographic references in tmp_2501.14355/main.bbl.\n",
      "Issues with the citations\n",
      "syntax error in line 11: '=' expected\n",
      "Retrieving document from  https://arxiv.org/e-print/2501.14408\n",
      "extracting tarball to tmp_2501.14408..."
     ]
    },
    {
     "name": "stdout",
     "output_type": "stream",
     "text": [
      " done.\n"
     ]
    },
    {
     "name": "stdout",
     "output_type": "stream",
     "text": [
      "Found 154 bibliographic references in tmp_2501.14408/Euclid-TNG50.bbl.\n",
      "Issues with the citations\n",
      "syntax error in line 354: '=' expected\n",
      "Retrieving document from  https://arxiv.org/e-print/2501.14494\n",
      "extracting tarball to tmp_2501.14494..."
     ]
    },
    {
     "name": "stdout",
     "output_type": "stream",
     "text": [
      " done.\n"
     ]
    },
    {
     "name": "stdout",
     "output_type": "stream",
     "text": [
      "J. Li  ->  J. Li  |  ['J. Li']\n",
      "H.-W. Rix  ->  H.-W. Rix  |  ['H.-W. Rix']\n",
      "J. Müller-Horn  ->  J. Müller-Horn  |  ['J. Müller-Horn']\n",
      "R. Seeburger  ->  L. R. Seeburger  |  ['R. Seeburger']\n"
     ]
    },
    {
     "name": "stdout",
     "output_type": "stream",
     "text": [
      "Found 67 bibliographic references in tmp_2501.14494/wdms.bbl.\n",
      "Issues with the citations\n",
      "syntax error in line 459: '=' expected\n"
     ]
    }
   ],
   "source": [
    "documents = []\n",
    "failed = []\n",
    "for paper in tqdm(candidates):\n",
    "    # debug crap\n",
    "    paper['identifier'] = paper['identifier'].lower().replace('arxiv:', '').replace(r'\\n', '').strip()\n",
    "    paper_id = paper['identifier']\n",
    "    \n",
    "    folder = f'tmp_{paper_id}'\n",
    "\n",
    "    try:\n",
    "        if not os.path.isdir(folder):\n",
    "            folder = retrieve_document_source(f\"{paper_id}\", f'tmp_{paper_id}')\n",
    "        \n",
    "        try:\n",
    "            doc = latex.LatexDocument(folder, validation=validation)    \n",
    "        except AffiliationError as affilerror:\n",
    "            msg = f\"ArXiv:{paper_id:s} is not an MPIA paper... \" + str(affilerror)\n",
    "            failed.append((paper, \"affiliation error: \" + str(affilerror) ))\n",
    "            continue\n",
    "        \n",
    "        # Hack because sometimes author parsing does not work well\n",
    "        if (len(doc.authors) != len(paper['authors'])):\n",
    "            doc._authors = paper['authors']\n",
    "        else:\n",
    "            # highlight authors (FIXME: doc.highlight_authors)\n",
    "            # done on arxiv paper already\n",
    "            doc._authors = highlight_authors_in_list(\n",
    "                [get_initials(k) for k in doc.authors], \n",
    "                mpia_authors, verbose=True)\n",
    "        if (doc.abstract) in (None, ''):\n",
    "            doc._abstract = paper['abstract']\n",
    "            \n",
    "        doc.comment = (get_markdown_badge(paper_id) + \n",
    "                       \"<mark>Appeared on: \" + paper['date'] + \"</mark> - \")\n",
    "        if paper['comments']:\n",
    "            doc.comment += \" _\" + paper['comments'] + \"_\"\n",
    "        \n",
    "        full_md = doc.generate_markdown_text()\n",
    "        \n",
    "        full_md += get_markdown_qrcode(paper_id)\n",
    "        \n",
    "        # replace citations\n",
    "        try:\n",
    "            bibdata = latex_bib.LatexBib.from_doc(doc)\n",
    "            full_md = latex_bib.replace_citations(full_md, bibdata)\n",
    "        except Exception as e:\n",
    "            print(\"Issues with the citations\")\n",
    "            print(e)\n",
    "        \n",
    "        documents.append((paper_id, full_md))\n",
    "    except Exception as e:\n",
    "        warnings.warn(latex.LatexWarning(f\"{paper_id:s} did not run properly\\n\" +\n",
    "                                         str(e)\n",
    "                                        ))\n",
    "        failed.append((paper, \"latex error \" + str(e)))"
   ]
  },
  {
   "cell_type": "markdown",
   "id": "2505a25c",
   "metadata": {
    "papermill": {
     "duration": 0.003806,
     "end_time": "2025-01-27T04:13:52.295099",
     "exception": false,
     "start_time": "2025-01-27T04:13:52.291293",
     "status": "completed"
    },
    "tags": []
   },
   "source": [
    "### Export the logs\n",
    "\n",
    "Throughout, we also keep track of the logs per paper. see `logs-{today date}.md` "
   ]
  },
  {
   "cell_type": "code",
   "execution_count": 6,
   "id": "d733828a",
   "metadata": {
    "execution": {
     "iopub.execute_input": "2025-01-27T04:13:52.303670Z",
     "iopub.status.busy": "2025-01-27T04:13:52.303364Z",
     "iopub.status.idle": "2025-01-27T04:13:52.321122Z",
     "shell.execute_reply": "2025-01-27T04:13:52.320612Z"
    },
    "papermill": {
     "duration": 0.023187,
     "end_time": "2025-01-27T04:13:52.322067",
     "exception": false,
     "start_time": "2025-01-27T04:13:52.298880",
     "status": "completed"
    },
    "scrolled": false,
    "tags": []
   },
   "outputs": [
    {
     "data": {
      "text/markdown": [
       "## Successful papers"
      ],
      "text/plain": [
       "<IPython.core.display.Markdown object>"
      ]
     },
     "metadata": {},
     "output_type": "display_data"
    },
    {
     "data": {
      "text/markdown": [
       "\n",
       "|||\n",
       "|---:|:---|\n",
       "| [![arXiv](https://img.shields.io/badge/arXiv-2501.14355-b31b1b.svg)](https://arxiv.org/abs/2501.14355) | **The NCORES Program: Precise planetary masses, null results, and insight into the planet mass distribution near the radius gap**  |\n",
       "|| D. J. Armstrong, et al. -- incl., <mark>R. Burn</mark> |\n",
       "|*Appeared on*| *2025-01-27*|\n",
       "|*Comments*| *Accepted to MNRAS*|\n",
       "|**Abstract**|            NCORES was a large observing program on the ESO HARPS spectrograph, dedicated to measuring the masses of Neptune-like and smaller transiting planets discovered by the TESS satellite using the radial velocity technique. This paper presents an overview of the programme, its scientific goals and published results, covering 35 planets in 18 planetary systems. We present spectrally derived stellar characterisation and mass constraints for five additional TOIs where radial velocity observations found only marginally significant signals (TOI-510.01, $M_p=1.08^{+0.58}_{-0.55}M_\\oplus$), or found no signal (TOIs 271.01, 641.01, 697.01 and 745.01). A newly detected non-transiting radial velocity candidate is presented orbiting TOI-510 on a 10.0d orbit, with a minimum mass of $4.82^{+1.29}_{-1.26}M_\\oplus$, although uncertainties on the system architecture and true orbital period remain. Combining the NCORES sample with archival known planets we investigate the distribution of planet masses and compositions around and below the radius gap, finding that the population of planets below the gap is consistent with a rocky composition and ranges up to a sharp cut-off at $10M_\\oplus$. We compare the observed distribution to models of pebble- and planetesimal-driven formation and evolution, finding good broad agreement with both models while highlighting interesting areas of potential discrepancy. Increased numbers of precisely measured planet masses in this parameter space are required to distinguish between pebble and planetesimal accretion.         |"
      ],
      "text/plain": [
       "[2501.14355] The NCORES Program: Precise planetary masses, null results, and insight into the planet mass distribution near the radius gap\n",
       "\tD. J. Armstrong, et al. -- incl., <mark>R. Burn</mark>"
      ]
     },
     "metadata": {},
     "output_type": "display_data"
    },
    {
     "data": {
      "text/markdown": [
       "\n",
       "|||\n",
       "|---:|:---|\n",
       "| [![arXiv](https://img.shields.io/badge/arXiv-2501.14408-b31b1b.svg)](https://arxiv.org/abs/2501.14408) | **Euclid preparation: Extracting physical parameters from galaxies with machine learning**  |\n",
       "|| E. Collaboration, et al. -- incl., <mark>K. Jahnke</mark> |\n",
       "|*Appeared on*| *2025-01-27*|\n",
       "|*Comments*| **|\n",
       "|**Abstract**|            The Euclid mission is generating a vast amount of imaging data in four broadband filters at high angular resolution. This will allow the detailed study of mass, metallicity, and stellar populations across galaxies, which will constrain their formation and evolutionary pathways. Transforming the Euclid imaging for large samples of galaxies into maps of physical parameters in an efficient and reliable manner is an outstanding challenge. We investigate the power and reliability of machine learning techniques to extract the distribution of physical parameters within well-resolved galaxies. We focus on estimating stellar mass surface density, mass-averaged stellar metallicity and age. We generate noise-free, synthetic high-resolution imaging data in the Euclid photometric bands for a set of 1154 galaxies from the TNG50 cosmological simulation. The images are generated with the SKIRT radiative transfer code, taking into account the complex 3D distribution of stellar populations and interstellar dust attenuation. We use a machine learning framework to map the idealised mock observational data to the physical parameters on a pixel-by-pixel basis. We find that stellar mass surface density can be accurately recovered with a $\\leq 0.130 {\\rm \\,dex}$ scatter. Conversely, stellar metallicity and age estimates are, as expected, less robust, but still contain significant information which originates from underlying correlations at a sub-kpc scale between stellar mass surface density and stellar population properties.         |"
      ],
      "text/plain": [
       "[2501.14408] Euclid preparation: Extracting physical parameters from galaxies with machine learning\n",
       "\tE. Collaboration, et al. -- incl., <mark>K. Jahnke</mark>"
      ]
     },
     "metadata": {},
     "output_type": "display_data"
    },
    {
     "data": {
      "text/markdown": [
       "\n",
       "|||\n",
       "|---:|:---|\n",
       "| [![arXiv](https://img.shields.io/badge/arXiv-2501.14494-b31b1b.svg)](https://arxiv.org/abs/2501.14494) | **Identification of 30,000 White Dwarf-Main Sequence binaries candidates from Gaia DR3 BP/RP(XP) low-resolution spectra**  |\n",
       "|| <mark>J. Li</mark>, et al. -- incl., <mark>H.-W. Rix</mark>, <mark>J. Müller-Horn</mark>, <mark>R. Seeburger</mark> |\n",
       "|*Appeared on*| *2025-01-27*|\n",
       "|*Comments*| *30 pages, 12 figures, Submitted to ApJS*|\n",
       "|**Abstract**|            White dwarf-main sequence (WDMS) binary systems are essential probes for understanding binary stellar evolution and play a pivotal role in constraining theoretical models of various transient phenomena. In this study, we construct a catalog of WDMS binaries using Gaia DR3's low-resolution BP/RP (XP) spectra. Our approach integrates a model-independent neural network for spectral modelling with Gaussian Process Classification to accurately identify WDMS binaries among over 10 million stars within 1 kpc. This study identify approximately 30,000 WDMS binary candidates, including ~1,700 high-confidence systems confirmed through spectral fitting. Our technique is shown to be effective at detecting systems where the main-sequence star dominates the spectrum - cases that have historically challenged conventional methods. Validation using GALEX photometry reinforces the reliability of our classifications: 70\\% of candidates with an absolute magnitude $M_{G} > 7$ exhibit UV excess, a characteristic signature of white dwarf companions. Our all-sky catalog of WDMS binaries expands the available dataset for studying binary evolution and white dwarf physics and sheds light on the formation of WDMS.         |"
      ],
      "text/plain": [
       "[2501.14494] Identification of 30,000 White Dwarf-Main Sequence binaries candidates from Gaia DR3 BP/RP(XP) low-resolution spectra\n",
       "\t<mark>J. Li</mark>, et al. -- incl., <mark>H.-W. Rix</mark>, <mark>J. Müller-Horn</mark>, <mark>R. Seeburger</mark>"
      ]
     },
     "metadata": {},
     "output_type": "display_data"
    },
    {
     "data": {
      "text/markdown": [
       "## Failed papers"
      ],
      "text/plain": [
       "<IPython.core.display.Markdown object>"
      ]
     },
     "metadata": {},
     "output_type": "display_data"
    },
    {
     "data": {
      "text/markdown": [
       "\n",
       "|||\n",
       "|---:|:---|\n",
       "| [![arXiv](https://img.shields.io/badge/arXiv-2501.14025-b31b1b.svg)](https://arxiv.org/abs/2501.14025) | **Cataclysmic Variables in Triples: Formation Models and New Discoveries**  |\n",
       "|| C. Shariat, et al. -- incl., <mark>K. El-Badry</mark> |\n",
       "|*Appeared on*| *2025-01-27*|\n",
       "|*Comments*| *Submitted to PASP. Comments are welcome*|\n",
       "|**Abstract**|            The formation of cataclysmic variables (CVs) has long been modeled as a product of common envelope evolution (CEE) in isolated binaries. However, a significant fraction of intermediate-mass stars -- the progenitors of the white dwarfs (WDs) in CVs -- are in triples. We therefore investigate the importance of triple star dynamics in CV formation. Using Gaia astrometry and existing CV catalogs, we construct a sample of $\\sim50$ CVs in hierarchical triples within 1 kpc of the Sun, containing main-sequence (MS) and WD tertiaries at separations of 100 - 30,000 au. We infer that at least 10% of CVs host wide tertiaries. To interpret this discovery, we evolve a population of 2000 triples using detailed three-body simulations, 47 of which become CVs. We predict that 20% of CVs in triples form without ever experiencing CEE, where the WD and donor are brought together by the eccentric Kozai-Lidov (EKL) mechanism after the formation of the WD. These systems favor larger donor stars and longer birth orbital periods (8-20 hrs) than typical CVs. Among systems that do undergo CEE, about half would not have interacted without the presence of the tertiary. Triple formation channels both with and without CEE require initially wide inner orbits ($\\gtrsim 1$ au), which in turn require larger tertiary separations to be stable. Consistent with this prediction, we find that the observed Gaia CV triples have wider separations on average than normal wide binaries selected in the same way. Our work underscores the importance of triples in shaping interacting binary populations including CVs, ultracompact binaries, and low-mass X-ray binaries.         |\n",
       "|<p style=\"color:green\"> **ERROR** </p>| <p style=\"color:green\">affiliation error: mpia.affiliation_verifications: 'Heidelberg' keyword not found.</p> |"
      ],
      "text/plain": [
       "<IPython.core.display.Markdown object>"
      ]
     },
     "metadata": {},
     "output_type": "display_data"
    },
    {
     "data": {
      "text/markdown": [
       "\n",
       "|||\n",
       "|---:|:---|\n",
       "| [![arXiv](https://img.shields.io/badge/arXiv-2501.14145-b31b1b.svg)](https://arxiv.org/abs/2501.14145) | **Resolution requirements for numerical modeling of neutrino quantum kinetics**  |\n",
       "|| H. Nagakura, M. Zaizen, <mark>J. Liu</mark>, L. Johns |\n",
       "|*Appeared on*| *2025-01-27*|\n",
       "|*Comments*| *11 pages, 10 figures*|\n",
       "|**Abstract**|            Neutrino quantum kinetics is a rapidly evolving field in computational astrophysics, with a primary focus on collective neutrino oscillations in core-collapse supernovae and post-merger phases of binary neutron star mergers. In recent years, there has been considerable debate concerning resolution dependence in numerical simulations. In this paper, we conduct a comprehensive resolution study in both angular- and spatial directions by using two independent schemes of quantum kinetic neutrino transport: finite volume and pseudospectral methods. We complement our discussion by linear stability analysis including inhomogeneous modes. Our result suggests that decreasing spatial resolutions underestimates the growth of flavor instability, and then leads to wrong asymptotic states of flavor conversions, which potentially has a critical impact on astrophysical consequences. We further delve into numerical results of low resolution simulations, that reveals the underlying mechanism responsible for numerical artifacts caused by insufficient resolutions. This study settles the debate on requirements of resolutions and serves as a guideline for numerical modeling of quantum kinetic neutrino transport.         |\n",
       "|<p style=\"color:green\"> **ERROR** </p>| <p style=\"color:green\">affiliation error: mpia.affiliation_verifications: 'Heidelberg' keyword not found.</p> |"
      ],
      "text/plain": [
       "<IPython.core.display.Markdown object>"
      ]
     },
     "metadata": {},
     "output_type": "display_data"
    },
    {
     "data": {
      "text/markdown": [
       "\n",
       "|||\n",
       "|---:|:---|\n",
       "| [![arXiv](https://img.shields.io/badge/arXiv-2501.14247-b31b1b.svg)](https://arxiv.org/abs/2501.14247) | **A flaring radio counterpart to a fast radio burst reveals a newborn magnetized engine**  |\n",
       "|| <mark>X. Zhang</mark>, et al. |\n",
       "|*Appeared on*| *2025-01-27*|\n",
       "|*Comments*| *37 pages including 14 figures. Comments are welcome*|\n",
       "|**Abstract**|            Fast Radio Bursts (FRBs) are energetic millisecond radio bursts at cosmological distances, whose underlying engine is not identified. Among a sub-population that emit repeated radio bursts, a handful were associated with a persistent radio source (PRS) whose origin is unknown. Here we report the discovery of a compact flaring radio source (FRS) associated with a newly-active repeating FRB within one month after the first radio burst was detected. Its temporal and spectral characteristics differ from those of the PRSs but are similar to those of engine-powered supernovae and low-luminosity active galactic nuclei. We detected a spectral peak around $1.6\\pm0.2$ GHz that is consistent with synchrotron self-absorption. Assuming equipartition, the magnetic field strength in the FRS is larger than the line-of-sight component constrained from the FRB Faraday rotation, suggesting a highly magnetized engine. The radius of the FRS is constrained to be $\\sim0.03$ pc and the minimum total energy is $\\sim~6.2\\times{10}^{47}~{\\rm ergs~}$. This FRS reveals the birth of a highly magnetized FRB engine, and hints that PRSs associated with other active FRBs may be in the later stage of evolution.         |\n",
       "|<p style=\"color:green\"> **ERROR** </p>| <p style=\"color:green\">affiliation error: mpia.affiliation_verifications: 'Heidelberg' keyword not found.</p> |"
      ],
      "text/plain": [
       "<IPython.core.display.Markdown object>"
      ]
     },
     "metadata": {},
     "output_type": "display_data"
    }
   ],
   "source": [
    "import datetime\n",
    "today = str(datetime.date.today())\n",
    "logfile = f\"_build/html/logs/log-{today}.md\"\n",
    "\n",
    "\n",
    "with open(logfile, 'w') as logs:\n",
    "    # Success\n",
    "    logs.write(f'# Arxiv on Deck 2: Logs - {today}\\n\\n')\n",
    "    logs.write(\"\"\"* Arxiv had {0:,d} new papers\\n\"\"\".format(len(new_papers)))\n",
    "    logs.write(\"\"\"    * {0:,d} with possible author matches\\n\\n\"\"\".format(len(candidates)))\n",
    "    logs.write(\"## Sucessful papers\\n\\n\")\n",
    "    display(Markdown(\"## Successful papers\"))\n",
    "    success = [k[0] for k in documents]\n",
    "    for candid in candidates:\n",
    "        if candid['identifier'].split(':')[-1] in success:\n",
    "            display(candid)\n",
    "            logs.write(candid.generate_markdown_text() + '\\n\\n')\n",
    "\n",
    "    ## failed\n",
    "    logs.write(\"## Failed papers\\n\\n\")\n",
    "    display(Markdown(\"## Failed papers\"))\n",
    "    failed = sorted(failed, key=lambda x: x[1])\n",
    "    current_reason = \"\"\n",
    "    for paper, reason in failed:\n",
    "        if 'affiliation' in reason:\n",
    "            color = 'green'\n",
    "        else:\n",
    "            color = 'red'\n",
    "        data = Markdown(\n",
    "                paper.generate_markdown_text() + \n",
    "                f'\\n|<p style=\"color:{color:s}\"> **ERROR** </p>| <p style=\"color:{color:s}\">{reason:s}</p> |'\n",
    "               )\n",
    "        if reason != current_reason:\n",
    "            logs.write(f'### {reason:s} \\n\\n')\n",
    "            current_reason = reason\n",
    "        logs.write(data.data + '\\n\\n')\n",
    "        \n",
    "        # only display here the important errors (all in logs)\n",
    "        # if color in ('red',):\n",
    "        display(data)"
   ]
  },
  {
   "cell_type": "markdown",
   "id": "472d20ee",
   "metadata": {
    "papermill": {
     "duration": 0.00457,
     "end_time": "2025-01-27T04:13:52.331294",
     "exception": false,
     "start_time": "2025-01-27T04:13:52.326724",
     "status": "completed"
    },
    "tags": []
   },
   "source": [
    "## Export documents\n",
    "\n",
    "We now write the .md files and export relevant images"
   ]
  },
  {
   "cell_type": "code",
   "execution_count": 7,
   "id": "d426aed9",
   "metadata": {
    "execution": {
     "iopub.execute_input": "2025-01-27T04:13:52.341203Z",
     "iopub.status.busy": "2025-01-27T04:13:52.341015Z",
     "iopub.status.idle": "2025-01-27T04:13:52.347760Z",
     "shell.execute_reply": "2025-01-27T04:13:52.347253Z"
    },
    "papermill": {
     "duration": 0.012818,
     "end_time": "2025-01-27T04:13:52.348687",
     "exception": false,
     "start_time": "2025-01-27T04:13:52.335869",
     "status": "completed"
    },
    "tags": []
   },
   "outputs": [],
   "source": [
    "def export_markdown_summary(md: str, md_fname:str, directory: str):\n",
    "    \"\"\"Export MD document and associated relevant images\"\"\"\n",
    "    import os\n",
    "    import shutil\n",
    "    import re\n",
    "\n",
    "    if (os.path.exists(directory) and not os.path.isdir(directory)):\n",
    "        raise RuntimeError(f\"a non-directory file exists with name {directory:s}\")\n",
    "\n",
    "    if (not os.path.exists(directory)):\n",
    "        print(f\"creating directory {directory:s}\")\n",
    "        os.mkdir(directory)\n",
    "\n",
    "    fig_fnames = (re.compile(r'\\[Fig.*\\]\\((.*)\\)').findall(md) + \n",
    "                  re.compile(r'\\<img src=\"([^>\\s]*)\"[^>]*/>').findall(md))\n",
    "    print(\"found figures\", fig_fnames)\n",
    "    for fname in fig_fnames:\n",
    "        if 'http' in fname:\n",
    "            # No need to copy online figures\n",
    "            continue\n",
    "        if not os.path.exists(fname):\n",
    "            print(\"file not found\", fname)\n",
    "            continue\n",
    "        print(\"copying \", fname, \"to\", directory)\n",
    "        destdir = os.path.join(directory, os.path.dirname(fname))\n",
    "        destfname = os.path.join(destdir, os.path.basename(fname))\n",
    "        try:\n",
    "            os.makedirs(destdir)\n",
    "        except FileExistsError:\n",
    "            pass\n",
    "        shutil.copy(fname, destfname)\n",
    "    with open(os.path.join(directory, md_fname), 'w') as fout:\n",
    "        fout.write(md)\n",
    "    print(\"exported in \", os.path.join(directory, md_fname))\n",
    "    [print(\"    + \" + os.path.join(directory,fk)) for fk in fig_fnames]"
   ]
  },
  {
   "cell_type": "code",
   "execution_count": 8,
   "id": "014d04a4",
   "metadata": {
    "execution": {
     "iopub.execute_input": "2025-01-27T04:13:52.358970Z",
     "iopub.status.busy": "2025-01-27T04:13:52.358598Z",
     "iopub.status.idle": "2025-01-27T04:13:52.382302Z",
     "shell.execute_reply": "2025-01-27T04:13:52.381753Z"
    },
    "papermill": {
     "duration": 0.029924,
     "end_time": "2025-01-27T04:13:52.383345",
     "exception": false,
     "start_time": "2025-01-27T04:13:52.353421",
     "status": "completed"
    },
    "tags": []
   },
   "outputs": [
    {
     "name": "stdout",
     "output_type": "stream",
     "text": [
      "found figures ['tmp_2501.14355/./TPF_Gaia_TOI-510_TIC238086647_S6.png', 'tmp_2501.14355/./combined_rvphaseplot_041224.png', 'tmp_2501.14355/./SR_DM_NCORESonly_080724.png']\n",
      "copying  tmp_2501.14355/./TPF_Gaia_TOI-510_TIC238086647_S6.png to _build/html/\n",
      "copying  tmp_2501.14355/./combined_rvphaseplot_041224.png to _build/html/\n",
      "copying  tmp_2501.14355/./SR_DM_NCORESonly_080724.png to _build/html/\n",
      "exported in  _build/html/2501.14355.md\n",
      "    + _build/html/tmp_2501.14355/./TPF_Gaia_TOI-510_TIC238086647_S6.png\n",
      "    + _build/html/tmp_2501.14355/./combined_rvphaseplot_041224.png\n",
      "    + _build/html/tmp_2501.14355/./SR_DM_NCORESonly_080724.png\n",
      "found figures ['tmp_2501.14408/./Figures/models_all.png', 'tmp_2501.14408/./Figures/histograms_tot.png', 'tmp_2501.14408/./Figures/TNG539333_O5_good.png']\n",
      "copying  tmp_2501.14408/./Figures/models_all.png to _build/html/\n",
      "copying  tmp_2501.14408/./Figures/histograms_tot.png to _build/html/\n",
      "copying  tmp_2501.14408/./Figures/TNG539333_O5_good.png to _build/html/\n",
      "exported in  _build/html/2501.14408.md\n",
      "    + _build/html/tmp_2501.14408/./Figures/models_all.png\n",
      "    + _build/html/tmp_2501.14408/./Figures/histograms_tot.png\n",
      "    + _build/html/tmp_2501.14408/./Figures/TNG539333_O5_good.png\n",
      "found figures ['tmp_2501.14494/./fig_wdms/HRD_wdmsfit.png', 'tmp_2501.14494/./fig_wdms/camd.png', 'tmp_2501.14494/./fig_wdms/camd_ext.png', 'tmp_2501.14494/./fig_wdms/camd_1stclean.png', 'tmp_2501.14494/./fig_wdms/HRD_galex.png']\n",
      "copying  tmp_2501.14494/./fig_wdms/HRD_wdmsfit.png to _build/html/\n",
      "copying  tmp_2501.14494/./fig_wdms/camd.png to _build/html/\n",
      "copying  tmp_2501.14494/./fig_wdms/camd_ext.png to _build/html/\n",
      "copying  tmp_2501.14494/./fig_wdms/camd_1stclean.png to _build/html/\n",
      "copying  tmp_2501.14494/./fig_wdms/HRD_galex.png to _build/html/\n",
      "exported in  _build/html/2501.14494.md\n",
      "    + _build/html/tmp_2501.14494/./fig_wdms/HRD_wdmsfit.png\n",
      "    + _build/html/tmp_2501.14494/./fig_wdms/camd.png\n",
      "    + _build/html/tmp_2501.14494/./fig_wdms/camd_ext.png\n",
      "    + _build/html/tmp_2501.14494/./fig_wdms/camd_1stclean.png\n",
      "    + _build/html/tmp_2501.14494/./fig_wdms/HRD_galex.png\n"
     ]
    }
   ],
   "source": [
    "for paper_id, md in documents:\n",
    "    export_markdown_summary(md, f\"{paper_id:s}.md\", '_build/html/')"
   ]
  },
  {
   "cell_type": "markdown",
   "id": "f087a0a7",
   "metadata": {
    "papermill": {
     "duration": 0.00465,
     "end_time": "2025-01-27T04:13:52.392776",
     "exception": false,
     "start_time": "2025-01-27T04:13:52.388126",
     "status": "completed"
    },
    "tags": []
   },
   "source": [
    "## Display the papers\n",
    "\n",
    "Not necessary but allows for a quick check."
   ]
  },
  {
   "cell_type": "code",
   "execution_count": 9,
   "id": "fd25f625",
   "metadata": {
    "execution": {
     "iopub.execute_input": "2025-01-27T04:13:52.403533Z",
     "iopub.status.busy": "2025-01-27T04:13:52.403010Z",
     "iopub.status.idle": "2025-01-27T04:13:52.410053Z",
     "shell.execute_reply": "2025-01-27T04:13:52.409409Z"
    },
    "papermill": {
     "duration": 0.013442,
     "end_time": "2025-01-27T04:13:52.411091",
     "exception": false,
     "start_time": "2025-01-27T04:13:52.397649",
     "status": "completed"
    },
    "scrolled": false,
    "tags": []
   },
   "outputs": [
    {
     "data": {
      "text/markdown": [
       "<div class=\"macros\" style=\"visibility:hidden;\">\n",
       "$\\newcommand{\\ensuremath}{}$\n",
       "$\\newcommand{\\xspace}{}$\n",
       "$\\newcommand{\\object}[1]{\\texttt{#1}}$\n",
       "$\\newcommand{\\farcs}{{.}''}$\n",
       "$\\newcommand{\\farcm}{{.}'}$\n",
       "$\\newcommand{\\arcsec}{''}$\n",
       "$\\newcommand{\\arcmin}{'}$\n",
       "$\\newcommand{\\ion}[2]{#1#2}$\n",
       "$\\newcommand{\\textsc}[1]{\\textrm{#1}}$\n",
       "$\\newcommand{\\hl}[1]{\\textrm{#1}}$\n",
       "$\\newcommand{\\footnote}[1]{}$\n",
       "$\\newcommand{\\kms}{km s^{-1}}$\n",
       "$\\newcommand{\\ms}{m s^{-1}}$\n",
       "$\\newcommand{\\mss}{\\mbox{m s^{-2}}}$\n",
       "$\\newcommand{\\masy}{mas yr^{-1}}$\n",
       "$\\newcommand{\\mpl}{\\mbox{M_{p}}}$\n",
       "$\\newcommand{\\rpl}{\\mbox{R_{p}}}$\n",
       "$\\newcommand{\\mstar}{\\mbox{M_{\\star}}}$\n",
       "$\\newcommand{\\rstar}{\\mbox{R_{\\star}}}$\n",
       "$\\newcommand{\\mjup}{\\mbox{M_{\\rm Jup}}}$\n",
       "$\\newcommand{\\rjup}{\\mbox{R_{\\rm Jup}}}$\n",
       "$\\newcommand{\\msun}{\\mbox{M_{\\odot}}}$\n",
       "$\\newcommand{\\rsun}{\\mbox{R_{\\odot}}}$\n",
       "$\\newcommand{\\rearth}{R_{\\oplus}}$\n",
       "$\\newcommand{\\mearth}{M_{\\oplus}}$\n",
       "$\\newcommand{\\gccc}{g cm^{-3}}$\n",
       "$\\newcommand{\\ergscm}{erg s^{-1}cm^{-2}}$\n",
       "$\\newcommand{\\vsini}{v\\sin{i}}$\n",
       "$\\newcommand{\\teff}{T_{\\rm eff}}$\n",
       "$\\newcommand{\\feh}{\\mbox{\\rm[Fe/H]}}$\n",
       "$\\newcommand{\\ymg}{\\mbox{\\rm[Y/Mg]}}$\n",
       "$\\newcommand{\\logg}{\\log g}$\n",
       "$\\newcommand{\\rprs}{\\mbox{R_{p}/R_{s}}}$\n",
       "$\\newcommand{\\vdag}{(v)^\\dagger}$\n",
       "$\\newcommand{\\jv}{\\textcolor[RGB]{200,20,50}}$\n",
       "$\\newcommand{\\arraystretch}{1.3}$\n",
       "$\\newcommand{\\thebibliography}{\\DeclareRobustCommand{\\VAN}[3]{##3}\\VANthebibliography}$</div>\n",
       "\n",
       "\n",
       "\n",
       "<div id=\"title\">\n",
       "\n",
       "# The NCORES Program: Precise planetary masses, null results, and insight into the planet mass distribution near the radius gap$\\thanks{Based on observations collected at the European Southern Observatory under ESO programme 1102.C-0249 (PI: Armstrong). This paper includes data gathered with the 6.5 meter Magellan Telescopes located at Las Campanas Observatory, Chile.}$\n",
       "\n",
       "</div>\n",
       "<div id=\"comments\">\n",
       "\n",
       "[![arXiv](https://img.shields.io/badge/arXiv-2501.14355-b31b1b.svg)](https://arxiv.org/abs/2501.14355)<mark>Appeared on: 2025-01-27</mark> -  _Accepted to MNRAS_\n",
       "\n",
       "</div>\n",
       "<div id=\"authors\">\n",
       "\n",
       "D. J. Armstrong, et al. -- incl., <mark>R. Burn</mark>\n",
       "\n",
       "</div>\n",
       "<div id=\"abstract\">\n",
       "\n",
       "**Abstract:** NCORES was a large observing program on the ESO HARPS spectrograph, dedicated to measuring the masses of Neptune-like and smaller transiting planets discovered by the _TESS_ satellite using the radial velocity technique. This paper presents an overview of the programme, its scientific goals and published results, covering 35 planets in 18 planetary systems. We present spectrally derived stellar characterisation and mass constraints for five additional TOIs where radial velocity observations found only marginally significant signals (TOI-510.01, $M_p = 1.08^{+0.58}_{-0.55}M_\\oplus$ ), or found no signal (TOIs 271.01, 641.01, 697.01 and 745.01). A newly detected non-transiting radial velocity candidate is presented orbiting TOI-510 on a 10.0d orbit, with a minimum mass of $4.82^{+1.29}_{-1.26}M_\\oplus$ , although uncertainties on the system architecture and true orbital period remain. Combining the NCORES sample with archival known planets we investigate the distribution of planet masses and compositions around and below the radius gap, finding that the population of planets below the gap is consistent with a rocky composition and ranges up to a sharp cut-off at $10M_\\oplus$ . We compare the observed distribution to models of pebble- and planetesimal-driven formation and evolution, finding good broad agreement with both models while highlighting interesting areas of potential discrepancy. Increased numbers of precisely measured planet masses in this parameter space are required to distinguish between pebble and planetesimal accretion.\n",
       "\n",
       "</div>\n",
       "\n",
       "<div id=\"div_fig1\">\n",
       "\n",
       "<img src=\"tmp_2501.14355/./TPF_Gaia_TOI-510_TIC238086647_S6.png\" alt=\"Fig1\" width=\"100%\"/>\n",
       "\n",
       "**Figure 1. -** _TESS_ field of view around TOI-510 in Sector 6, generated with \\texttt{tpfplotter}. Known stars from Gaia are shown as red circles. TOI-510 is marked by a white cross. The _TESS_ photometric aperture is highlighted in red. (*fig:tpf510*)\n",
       "\n",
       "</div>\n",
       "<div id=\"div_fig2\">\n",
       "\n",
       "<img src=\"tmp_2501.14355/./combined_rvphaseplot_041224.png\" alt=\"Fig20\" width=\"100%\"/>\n",
       "\n",
       "**Figure 20. -** Radial velocity data for TOI-271, TOI-641, TOI-697 and TOI-745, phase folded on the period from the joint model. Random models from the MCMC trace are shown in orange. The model best matching the 95\\% confidence limit on semi-amplitude is shown in red to highlight the limit we place on candidate planet mass. (*fig:rvnulls*)\n",
       "\n",
       "</div>\n",
       "<div id=\"div_fig3\">\n",
       "\n",
       "<img src=\"tmp_2501.14355/./SR_DM_NCORESonly_080724.png\" alt=\"Fig11\" width=\"100%\"/>\n",
       "\n",
       "**Figure 11. -** Planets with known mass and radius determined to better than $3\\sigma$ plotted in Insolation-Radius space, coloured and inversely scaled in size by their density. Only planets with host star mass $M_*>0.7M_\\odot$ are shown. The radius gap location determined in \\citet{Ho:2023ab} is shown as a black dashed line. The background is coloured by a kernel density estimate of the planets shown. The diversity of sub-Neptune composition above the gap can be seen in the range of densities observed in this region. (*fig:SRplot*)\n",
       "\n",
       "</div><div id=\"qrcode\"><img src=https://api.qrserver.com/v1/create-qr-code/?size=100x100&data=\"https://arxiv.org/abs/2501.14355\"></div>"
      ],
      "text/plain": [
       "<IPython.core.display.Markdown object>"
      ]
     },
     "metadata": {},
     "output_type": "display_data"
    },
    {
     "data": {
      "text/markdown": [
       "<div class=\"macros\" style=\"visibility:hidden;\">\n",
       "$\\newcommand{\\ensuremath}{}$\n",
       "$\\newcommand{\\xspace}{}$\n",
       "$\\newcommand{\\object}[1]{\\texttt{#1}}$\n",
       "$\\newcommand{\\farcs}{{.}''}$\n",
       "$\\newcommand{\\farcm}{{.}'}$\n",
       "$\\newcommand{\\arcsec}{''}$\n",
       "$\\newcommand{\\arcmin}{'}$\n",
       "$\\newcommand{\\ion}[2]{#1#2}$\n",
       "$\\newcommand{\\textsc}[1]{\\textrm{#1}}$\n",
       "$\\newcommand{\\hl}[1]{\\textrm{#1}}$\n",
       "$\\newcommand{\\footnote}[1]{}$\n",
       "$\\newcommand{\\mass}{\\Sigma_{\\star}}$\n",
       "$\\newcommand{\\orcid}[1]$</div>\n",
       "\n",
       "\n",
       "\n",
       "<div id=\"title\">\n",
       "\n",
       "# $\\Euclid$\\/ preparation: Extracting physical parameters from galaxies with machine learning\n",
       "\n",
       "</div>\n",
       "<div id=\"comments\">\n",
       "\n",
       "[![arXiv](https://img.shields.io/badge/arXiv-2501.14408-b31b1b.svg)](https://arxiv.org/abs/2501.14408)<mark>Appeared on: 2025-01-27</mark> - \n",
       "\n",
       "</div>\n",
       "<div id=\"authors\">\n",
       "\n",
       "E. Collaboration, et al. -- incl., <mark>K. Jahnke</mark>\n",
       "\n",
       "</div>\n",
       "<div id=\"abstract\">\n",
       "\n",
       "**Abstract:** The $\\Euclid$ \\/ mission is generating a vast amount of imaging data in four broadband filters at high angular resolution. This will allow the detailed study of mass, metallicity, and stellar populations across galaxies, which will constrain their formation and evolutionary pathways. Transforming the $\\Euclid$ \\/ imaging for large samples of galaxies into maps of physical parameters in an efficient and reliable manner is an outstanding challenge. We investigate the power and reliability of machine learning techniques to extract the distribution of physical parameters within well-resolved galaxies. We focus on estimating stellar mass surface density, mass-averaged stellar metallicity and age. We generate noise-free, synthetic high-resolution ( $100{\\rm   pc} \\times100 {\\rm   pc}$ ) imaging data in the $\\Euclid$ \\/ photometric bands for a set of 1154 galaxies from the TNG50 cosmological simulation. The images are generated with the SKIRT radiative transfer code, taking into account the complex 3D distribution of stellar populations and interstellar dust attenuation. We use a machine learning framework to map the idealised mock observational data to the physical parameters on a pixel-by-pixel basis. We find that stellar mass surface density can be accurately recovered with a $\\leq 0.130 {\\rm  dex}$ scatter.Conversely, stellar metallicity and age estimates are, as expected, less robust, but still contain significant information which originates from underlying correlations at a sub-kpc scale between stellar mass surface density and stellar population properties. As a corollary, we show that TNG50 follows a spatially resolved mass-metallicity relation that is consistent with observations. Due to its relatively low computational and time requirements, that is a time-frame of minutes without dedicated high performance computing infrastructure once it has been trained, our method allows for fast and robust estimates of the stellar mass surface density distributions of nearby galaxies from four-filter $\\Euclid$ \\/ imaging data. Equivalent estimates of stellar population properties (stellar metallicity and age) are less robust but still hold value as first-order approximations across large samples.\n",
       "\n",
       "</div>\n",
       "\n",
       "<div id=\"div_fig1\">\n",
       "\n",
       "<img src=\"tmp_2501.14408/./Figures/models_all.png\" alt=\"Fig4\" width=\"100%\"/>\n",
       "\n",
       "**Figure 4. -** Predictions for $\\mass$(top), $Z_{\\star}$(middle), and $t_{\\star}$(bottom) using the four \\Euclid\\/ bands as the input features for the three models: linear regression (left), random forest (middle), and deep neural network (right) as a function of their true value. Diagonal line marks the identity, the additional two dashed lines mark the limit for the catastrophic outliers (instances where the predicted value is two times larger or smaller than the true value). Running medians, with their 16$^\\text{th}$ and 84$^\\text{th}$ percentiles are marked with large blue points with error bars. (*fig:models_all*)\n",
       "\n",
       "</div>\n",
       "<div id=\"div_fig2\">\n",
       "\n",
       "<img src=\"tmp_2501.14408/./Figures/histograms_tot.png\" alt=\"Fig3\" width=\"100%\"/>\n",
       "\n",
       "**Figure 3. -** The normalised distribution of $\\logten M_{\\star}$, $\\logten Z_{\\star}$, and $\\logten t_{\\star}$ global values of the galaxy properties for the entire data set, training set, and test set (see legend). (*fig:hist*)\n",
       "\n",
       "</div>\n",
       "<div id=\"div_fig3\">\n",
       "\n",
       "<img src=\"tmp_2501.14408/./Figures/TNG539333_O5_good.png\" alt=\"Fig6\" width=\"100%\"/>\n",
       "\n",
       "**Figure 6. -** Full disc map of galaxy TNG 539333 (O5 projection) for $\\logten \\left[$\\mass$ /{\\rm \\left(M_{\\odot} pc^{-2}\\right)}\\right]$(left), $\\logten \\left(Z_{\\star} / {\\rm Z_{\\odot}}\\right) $(middle), and $\\logten \\left(t_{\\star} / {\\rm Gyr}\\right)$(right) as an example of a more accurate model. From top to bottom, top row shows the actual values for each property, followed by the model created by a deep neural network algorithm on four \\Euclid\\/ bands, and the third row shows the residuals, where points in red (blue) represent pixels where the actual values are higher (lower) than those in the model. Histograms contained in the lower right corner of the residual maps show the distribution of error prediction ($\\logten$$y_i$ - $\\logten$$\\hat{y}_i$, where $y_i$ is the actual $i$-th value, and $\\hat{y}_i$ is the predicted $i$-th value of the pixel), dashed lines mark the 16$^\\text{th}$ and 84$^\\text{th}$ percentile of the distribution for the pixels contained within the dashed circle of a 12 kpc radius. Bottom row shows radial profiles for the true (red) and predicted (blue) values where large points mark the median, and error bars mark the 16$^\\text{th}$ and 84$^\\text{th}$ percentile of the distribution contained within the radial bin, as well as their residuals plotted underneath. (*fig:galaxy_good*)\n",
       "\n",
       "</div><div id=\"qrcode\"><img src=https://api.qrserver.com/v1/create-qr-code/?size=100x100&data=\"https://arxiv.org/abs/2501.14408\"></div>"
      ],
      "text/plain": [
       "<IPython.core.display.Markdown object>"
      ]
     },
     "metadata": {},
     "output_type": "display_data"
    },
    {
     "data": {
      "text/markdown": [
       "<div class=\"macros\" style=\"visibility:hidden;\">\n",
       "$\\newcommand{\\ensuremath}{}$\n",
       "$\\newcommand{\\xspace}{}$\n",
       "$\\newcommand{\\object}[1]{\\texttt{#1}}$\n",
       "$\\newcommand{\\farcs}{{.}''}$\n",
       "$\\newcommand{\\farcm}{{.}'}$\n",
       "$\\newcommand{\\arcsec}{''}$\n",
       "$\\newcommand{\\arcmin}{'}$\n",
       "$\\newcommand{\\ion}[2]{#1#2}$\n",
       "$\\newcommand{\\textsc}[1]{\\textrm{#1}}$\n",
       "$\\newcommand{\\hl}[1]{\\textrm{#1}}$\n",
       "$\\newcommand{\\footnote}[1]{}$\n",
       "$\\newcommand{\\vdag}{(v)^\\dagger}$\n",
       "$\\newcommand$\n",
       "$\\newcommand$\n",
       "$\\newcommand{\\photmoh}{[M/H]_{\\rm phot}}$\n",
       "$\\newcommand{\\teff}{T_{\\mathrm{eff}}}$\n",
       "$\\newcommand{\\logg}{\\log g}$\n",
       "$\\newcommand{\\moh}{[M/H]}$\n",
       "$\\newcommand{\\msun}{M_{\\odot}}$\n",
       "$\\newcommand{\\singlechi}{\\chi^2_{\\mathrm{single}}}$\n",
       "$\\newcommand{\\binarychi}{\\chi^2_{\\mathrm{WDMS}}}$\n",
       "$\\newcommand{\\jd}[1]{\\textcolor{blue}{JD:~#1}}$\n",
       "$\\newcommand{\\hw}[1]{\\textcolor{purple}{HW:~#1}}$\n",
       "$\\newcommand{\\gaia}{\\textsl{Gaia}}$</div>\n",
       "\n",
       "\n",
       "\n",
       "<div id=\"title\">\n",
       "\n",
       "# Identification of 30,000 White Dwarf-Main Sequence binaries candidates from Gaia DR3 BP/RP(XP) low-resolution spectra\n",
       "\n",
       "</div>\n",
       "<div id=\"comments\">\n",
       "\n",
       "[![arXiv](https://img.shields.io/badge/arXiv-2501.14494-b31b1b.svg)](https://arxiv.org/abs/2501.14494)<mark>Appeared on: 2025-01-27</mark> -  _30 pages, 12 figures, Submitted to ApJS_\n",
       "\n",
       "</div>\n",
       "<div id=\"authors\">\n",
       "\n",
       "<mark>J. Li</mark>, et al. -- incl., <mark>H.-W. Rix</mark>, <mark>J. Müller-Horn</mark>, <mark>R. Seeburger</mark>\n",
       "\n",
       "</div>\n",
       "<div id=\"abstract\">\n",
       "\n",
       "**Abstract:** White dwarf-main sequence (WDMS) binary systems are essential probes for understanding binary stellar evolution and play a pivotal role in constraining theoretical models of various transient phenomena.In this study, we construct a catalog of WDMS binaries using Gaia DR3's low-resolution BP/RP (XP) spectra.Our approach integrates a model-independent neural network for spectral modelling with Gaussian Process Classification to accurately identify WDMS binaries among over 10 million stars within 1 kpc.This study identify approximately 30,000 WDMS binary candidates, including 1,700 high-confidence systems confirmed through spectral fitting.Our technique is shown to be effective at detecting systems where the main-sequence star dominates the spectrum - cases that have historically challenged conventional methods.Validation using GALEX photometry reinforces the reliability of our classifications: 70 \\% of candidates with an absolute magnitude $M_{G} > 7$ exhibit UV excess, a characteristic signature of white dwarf companions.Our all-sky catalog of WDMS binaries expands the available dataset for studying binary evolution and white dwarf physics and sheds light on the formation of WDMS.\n",
       "\n",
       "</div>\n",
       "\n",
       "<div id=\"div_fig1\">\n",
       "\n",
       "<img src=\"tmp_2501.14494/./fig_wdms/HRD_wdmsfit.png\" alt=\"Fig6\" width=\"100%\"/>\n",
       "\n",
       "**Figure 6. -** CMD showing the distribution of WDMS binary candidates identified through $\\chi^2$ fitting of XP spectra (red dots).\n",
       "    The background grayscale shows the density distribution of all stars, with the scale bar indicating the logarithmic number of stars per bin.\n",
       "    The x-axis shows the de-reddened $\\gaia$ color (B-R)$_0$, while the y-axis shows the absolute G magnitude ($M_{G0}$) after extinction correction.\n",
       "    The 10 cyan stars are examples of the $\\chi^2$ selected WDMS binaries, the yellow lines show the best fit spectral decomposition of a WD and an MS by XP spectra.\n",
       "    The binary candidates primarily occupy the region between the main sequence (right) and white dwarf sequence (left), as expected for composite systems.\n",
       "    The blue dotted line denotes the requirements of the WD component of a binary model fit, which should lie to the left of this line as in the WD regime. (*fig:hrd_wdmsfit*)\n",
       "\n",
       "</div>\n",
       "<div id=\"div_fig2\">\n",
       "\n",
       "<img src=\"tmp_2501.14494/./fig_wdms/camd.png\" alt=\"Fig3.1\" width=\"33%\"/><img src=\"tmp_2501.14494/./fig_wdms/camd_ext.png\" alt=\"Fig3.2\" width=\"33%\"/><img src=\"tmp_2501.14494/./fig_wdms/camd_1stclean.png\" alt=\"Fig3.3\" width=\"33%\"/>\n",
       "\n",
       "**Figure 3. -** \n",
       "    Left: Color-magnitude diagram (CMD) showing the density distribution of stars of selected $\\gaia$  data, with absolute G-band magnitude ($M_G$) plotted against $B_p$-$R_p$ color (B-R).\n",
       "    Middle: Extinction-corrected CMD for the stars displayed in the left panel, accounting for interstellar reddening.\n",
       "    Right: The CMD showing the distribution of stars in our sample within $\\sim$300 pc that passed our initial cleaning for training the spectral emulator.\n",
       "    The blue dotted line represents a PARSEC isochrone for [M/H]$= 0.5$,  which serves as an upper boundary for selecting single main sequence stars.\n",
       "    The blue dashed line is a hard cut to select white dwarf stars.  (*fig:initial query*)\n",
       "\n",
       "</div>\n",
       "<div id=\"div_fig3\">\n",
       "\n",
       "<img src=\"tmp_2501.14494/./fig_wdms/HRD_galex.png\" alt=\"Fig11\" width=\"100%\"/>\n",
       "\n",
       "**Figure 11. -** \n",
       "   Comparison of WDMS binary candidates selected by different methods in various CMDs.\n",
       "   Left panel: $\\gaia$ CMD showing absolute G magnitude versus de-reddened B-R color.\n",
       "   Middle and right panels: GALEX-Gaia CMD using NUV and FUV bands, respectively.\n",
       "   In all panels, blue dots represent WDMS binaries identified through $\\chi^2$-fitting of their XP spectra (\\texttt{Chi2} sample in Table \\ref{tab:sample_stats}), while red dots show WDMS candidates identified by our Gaussian Process Classifier (GPC) (\\texttt{QC} sample) but missed by the \\texttt{Chi2} sample.\n",
       "   Yellow dots mark possible MSMS binaries (\\texttt{flag$_{\\rm MSMS}$}=1), mostly brighter than the dotted line at $M_{G0} = 7$.\n",
       "   The underlying grey points show the single stars, as defined by the GPC with $P_{\\rm WDMS}<0.2$.\n",
       "    (*fig:galex*)\n",
       "\n",
       "</div><div id=\"qrcode\"><img src=https://api.qrserver.com/v1/create-qr-code/?size=100x100&data=\"https://arxiv.org/abs/2501.14494\"></div>"
      ],
      "text/plain": [
       "<IPython.core.display.Markdown object>"
      ]
     },
     "metadata": {},
     "output_type": "display_data"
    }
   ],
   "source": [
    "[display(Markdown(k[1])) for k in documents];"
   ]
  },
  {
   "cell_type": "markdown",
   "id": "873873a4",
   "metadata": {
    "papermill": {
     "duration": 0.00509,
     "end_time": "2025-01-27T04:13:52.421475",
     "exception": false,
     "start_time": "2025-01-27T04:13:52.416385",
     "status": "completed"
    },
    "tags": []
   },
   "source": [
    "# Create HTML index"
   ]
  },
  {
   "cell_type": "code",
   "execution_count": 10,
   "id": "cf665672",
   "metadata": {
    "execution": {
     "iopub.execute_input": "2025-01-27T04:13:52.433203Z",
     "iopub.status.busy": "2025-01-27T04:13:52.432804Z",
     "iopub.status.idle": "2025-01-27T04:13:52.441426Z",
     "shell.execute_reply": "2025-01-27T04:13:52.440833Z"
    },
    "papermill": {
     "duration": 0.015499,
     "end_time": "2025-01-27T04:13:52.442446",
     "exception": false,
     "start_time": "2025-01-27T04:13:52.426947",
     "status": "completed"
    },
    "tags": []
   },
   "outputs": [
    {
     "name": "stdout",
     "output_type": "stream",
     "text": [
      "318  publications files modified in the last 7 days.\n"
     ]
    }
   ],
   "source": [
    "from datetime import datetime, timedelta, timezone\n",
    "from glob import glob\n",
    "import os\n",
    "\n",
    "files = glob('_build/html/*.md')\n",
    "days = 7\n",
    "now = datetime.today()\n",
    "res = []\n",
    "for fk in files:\n",
    "    stat_result = os.stat(fk).st_ctime\n",
    "    modified = datetime.fromtimestamp(stat_result, tz=timezone.utc).replace(tzinfo=None)\n",
    "    delta = now.today() - modified\n",
    "    if delta <= timedelta(days=days):\n",
    "        res.append((delta.seconds, fk))\n",
    "res = [k[1] for k in reversed(sorted(res, key=lambda x:x[1]))]\n",
    "npub = len(res)\n",
    "print(len(res), f\" publications files modified in the last {days:d} days.\")\n",
    "# [ print('\\t', k) for k in res ];"
   ]
  },
  {
   "cell_type": "code",
   "execution_count": 11,
   "id": "015de740",
   "metadata": {
    "execution": {
     "iopub.execute_input": "2025-01-27T04:13:52.453993Z",
     "iopub.status.busy": "2025-01-27T04:13:52.453796Z",
     "iopub.status.idle": "2025-01-27T04:13:52.471950Z",
     "shell.execute_reply": "2025-01-27T04:13:52.471431Z"
    },
    "papermill": {
     "duration": 0.025132,
     "end_time": "2025-01-27T04:13:52.472878",
     "exception": false,
     "start_time": "2025-01-27T04:13:52.447746",
     "status": "completed"
    },
    "tags": []
   },
   "outputs": [
    {
     "name": "stdout",
     "output_type": "stream",
     "text": [
      "6  publications in the last 7 days.\n"
     ]
    }
   ],
   "source": [
    "import datetime\n",
    "from glob import glob\n",
    "\n",
    "def get_last_n_days(lst, days=1):\n",
    "    \"\"\" Get the documents from the last n days \"\"\"\n",
    "    sorted_lst = sorted(lst, key=lambda x: x[1], reverse=True)\n",
    "    for fname, date in sorted_lst:\n",
    "        if date >= str(datetime.date.today() - datetime.timedelta(days=days)):\n",
    "            yield fname\n",
    "\n",
    "def extract_appearance_dates(lst_file):\n",
    "    dates = []\n",
    "\n",
    "    def get_date(line):\n",
    "        return line\\\n",
    "            .split('Appeared on:')[-1]\\\n",
    "            .split('</mark>')[0].strip()\n",
    "\n",
    "    for fname in lst:\n",
    "        with open(fname, 'r') as f:\n",
    "            found_date = False\n",
    "            for line in f:\n",
    "                if not found_date:\n",
    "                    if \"Appeared on\" in line:\n",
    "                        found_date = True\n",
    "                        dates.append((fname, get_date(line)))\n",
    "                else:\n",
    "                    break\n",
    "    return dates\n",
    "\n",
    "from glob import glob\n",
    "lst = glob('_build/html/*md')\n",
    "days = 7\n",
    "dates = extract_appearance_dates(lst)\n",
    "res = list(get_last_n_days(dates, days))\n",
    "npub = len(res)\n",
    "print(len(res), f\" publications in the last {days:d} days.\")"
   ]
  },
  {
   "cell_type": "code",
   "execution_count": 12,
   "id": "52ca0208",
   "metadata": {
    "execution": {
     "iopub.execute_input": "2025-01-27T04:13:52.484614Z",
     "iopub.status.busy": "2025-01-27T04:13:52.484373Z",
     "iopub.status.idle": "2025-01-27T04:13:52.489100Z",
     "shell.execute_reply": "2025-01-27T04:13:52.488573Z"
    },
    "papermill": {
     "duration": 0.011701,
     "end_time": "2025-01-27T04:13:52.490065",
     "exception": false,
     "start_time": "2025-01-27T04:13:52.478364",
     "status": "completed"
    },
    "scrolled": false,
    "tags": []
   },
   "outputs": [],
   "source": [
    "def create_carousel(npub=4):\n",
    "    \"\"\" Generate the HTML code for a carousel with `npub` slides \"\"\"\n",
    "    carousel = [\"\"\"  <div class=\"carousel\" \"\"\",\n",
    "                \"\"\"       data-flickity='{ \"autoPlay\": 10000, \"adaptiveHeight\": true, \"resize\": true, \"wrapAround\": true, \"pauseAutoPlayOnHover\": true, \"groupCells\": 1 }' id=\"asyncTypeset\">\"\"\"\n",
    "                ]\n",
    "    \n",
    "    item_str = \"\"\"    <div class=\"carousel-cell\"> <div id=\"slide{k}\" class=\"md_view\">Content {k}</div> </div>\"\"\"\n",
    "    for k in range(1, npub + 1):\n",
    "        carousel.append(item_str.format(k=k))\n",
    "    carousel.append(\"  </div>\")\n",
    "    return '\\n'.join(carousel)\n",
    "\n",
    "def create_grid(npub=4):\n",
    "    \"\"\" Generate the HTML code for a flat grid with `npub` slides \"\"\"\n",
    "    grid = [\"\"\"  <div class=\"grid\"> \"\"\",\n",
    "                ]\n",
    "    \n",
    "    item_str = \"\"\"    <div class=\"grid-item\"> <div id=\"slide{k}\" class=\"md_view\">Content {k}</div> </div>\"\"\"\n",
    "    for k in range(1, npub + 1):\n",
    "        grid.append(item_str.format(k=k))\n",
    "    grid.append(\"  </div>\")\n",
    "    return '\\n'.join(grid)"
   ]
  },
  {
   "cell_type": "code",
   "execution_count": 13,
   "id": "a6eac5b6",
   "metadata": {
    "execution": {
     "iopub.execute_input": "2025-01-27T04:13:52.501597Z",
     "iopub.status.busy": "2025-01-27T04:13:52.501401Z",
     "iopub.status.idle": "2025-01-27T04:13:52.506315Z",
     "shell.execute_reply": "2025-01-27T04:13:52.505772Z"
    },
    "papermill": {
     "duration": 0.011701,
     "end_time": "2025-01-27T04:13:52.507202",
     "exception": false,
     "start_time": "2025-01-27T04:13:52.495501",
     "status": "completed"
    },
    "scrolled": false,
    "tags": []
   },
   "outputs": [],
   "source": [
    "carousel = create_carousel(npub)\n",
    "docs = ', '.join(['\"{0:s}\"'.format(k.split('/')[-1]) for k in res])\n",
    "slides = ', '.join([f'\"slide{k}\"' for k in range(1, npub + 1)])\n",
    "\n",
    "with open(\"daily_template.html\", \"r\") as tpl:\n",
    "    page = tpl.read()\n",
    "    page = page.replace(\"{%-- carousel:s --%}\", carousel)\\\n",
    "               .replace(\"{%-- suptitle:s --%}\",  \"7-day archives\" )\\\n",
    "               .replace(\"{%-- docs:s --%}\", docs)\\\n",
    "               .replace(\"{%-- slides:s --%}\", slides)\n",
    "    \n",
    "with open(\"_build/html/index_7days.html\", 'w') as fout:\n",
    "    fout.write(page)"
   ]
  },
  {
   "cell_type": "code",
   "execution_count": 14,
   "id": "adc1a1ec",
   "metadata": {
    "execution": {
     "iopub.execute_input": "2025-01-27T04:13:52.519181Z",
     "iopub.status.busy": "2025-01-27T04:13:52.518803Z",
     "iopub.status.idle": "2025-01-27T04:13:52.525606Z",
     "shell.execute_reply": "2025-01-27T04:13:52.525030Z"
    },
    "papermill": {
     "duration": 0.013823,
     "end_time": "2025-01-27T04:13:52.526601",
     "exception": false,
     "start_time": "2025-01-27T04:13:52.512778",
     "status": "completed"
    },
    "tags": []
   },
   "outputs": [
    {
     "name": "stdout",
     "output_type": "stream",
     "text": [
      "3  publications in the last day.\n"
     ]
    }
   ],
   "source": [
    "# redo for today\n",
    "days = 1\n",
    "res = list(get_last_n_days(dates, days))\n",
    "npub = len(res)\n",
    "print(len(res), f\" publications in the last day.\")\n",
    "\n",
    "carousel = create_carousel(npub)\n",
    "docs = ', '.join(['\"{0:s}\"'.format(k.split('/')[-1]) for k in res])\n",
    "slides = ', '.join([f'\"slide{k}\"' for k in range(1, npub + 1)])\n",
    "\n",
    "with open(\"daily_template.html\", \"r\") as tpl:\n",
    "    page = tpl.read()\n",
    "    page = page.replace(\"{%-- carousel:s --%}\", carousel)\\\n",
    "               .replace(\"{%-- suptitle:s --%}\",  \"Daily\" )\\\n",
    "               .replace(\"{%-- docs:s --%}\", docs)\\\n",
    "               .replace(\"{%-- slides:s --%}\", slides)\n",
    "    \n",
    "# print(carousel, docs, slides)\n",
    "# print(page)\n",
    "with open(\"_build/html/index_daily.html\", 'w') as fout:\n",
    "    fout.write(page)"
   ]
  },
  {
   "cell_type": "code",
   "execution_count": 15,
   "id": "00eece82",
   "metadata": {
    "execution": {
     "iopub.execute_input": "2025-01-27T04:13:52.538639Z",
     "iopub.status.busy": "2025-01-27T04:13:52.538197Z",
     "iopub.status.idle": "2025-01-27T04:13:52.544502Z",
     "shell.execute_reply": "2025-01-27T04:13:52.543940Z"
    },
    "papermill": {
     "duration": 0.013369,
     "end_time": "2025-01-27T04:13:52.545479",
     "exception": false,
     "start_time": "2025-01-27T04:13:52.532110",
     "status": "completed"
    },
    "scrolled": false,
    "tags": []
   },
   "outputs": [
    {
     "name": "stdout",
     "output_type": "stream",
     "text": [
      "6  6 publications selected.\n"
     ]
    }
   ],
   "source": [
    "# Create the flat grid of the last N papers (fixed number regardless of dates)\n",
    "from itertools import islice \n",
    "\n",
    "npub = 6\n",
    "res = [k[0] for k in (islice(reversed(sorted(dates, key=lambda x: x[1])), 6))]\n",
    "print(len(res), f\" {npub} publications selected.\")\n",
    "\n",
    "grid = create_grid(npub)\n",
    "docs = ', '.join(['\"{0:s}\"'.format(k.split('/')[-1]) for k in res])\n",
    "slides = ', '.join([f'\"slide{k}\"' for k in range(1, npub + 1)])\n",
    "\n",
    "with open(\"grid_template.html\", \"r\") as tpl:\n",
    "    page = tpl.read()\n",
    "    page = page.replace(\"{%-- grid-content:s --%}\", grid)\\\n",
    "               .replace(\"{%-- suptitle:s --%}\",  f\"Last {npub:,d} papers\" )\\\n",
    "               .replace(\"{%-- docs:s --%}\", docs)\\\n",
    "               .replace(\"{%-- slides:s --%}\", slides)\n",
    "    \n",
    "# print(grid, docs, slides)\n",
    "# print(page)\n",
    "with open(\"_build/html/index_npub_grid.html\", 'w') as fout:\n",
    "    fout.write(page)"
   ]
  }
 ],
 "metadata": {
  "kernelspec": {
   "display_name": "Python 3 (ipykernel)",
   "language": "python",
   "name": "python3"
  },
  "language_info": {
   "codemirror_mode": {
    "name": "ipython",
    "version": 3
   },
   "file_extension": ".py",
   "mimetype": "text/x-python",
   "name": "python",
   "nbconvert_exporter": "python",
   "pygments_lexer": "ipython3",
   "version": "3.9.21"
  },
  "papermill": {
   "default_parameters": {},
   "duration": 181.58687,
   "end_time": "2025-01-27T04:13:52.766445",
   "environment_variables": {},
   "exception": null,
   "input_path": "MPIA daily digest.ipynb",
   "output_path": "log.ipynb",
   "parameters": {},
   "start_time": "2025-01-27T04:10:51.179575",
   "version": "2.6.0"
  },
  "vscode": {
   "interpreter": {
    "hash": "aee8b7b246df8f9039afb4144a1f6fd8d2ca17a180786b69acc140d282b71a49"
   }
  },
  "widgets": {
   "application/vnd.jupyter.widget-state+json": {
    "state": {
     "11b90104129c463a9511239884adbab7": {
      "model_module": "@jupyter-widgets/controls",
      "model_module_version": "2.0.0",
      "model_name": "FloatProgressModel",
      "state": {
       "_dom_classes": [],
       "_model_module": "@jupyter-widgets/controls",
       "_model_module_version": "2.0.0",
       "_model_name": "FloatProgressModel",
       "_view_count": null,
       "_view_module": "@jupyter-widgets/controls",
       "_view_module_version": "2.0.0",
       "_view_name": "ProgressView",
       "bar_style": "success",
       "description": "",
       "description_allow_html": false,
       "layout": "IPY_MODEL_21a230dff64540ed8dd0b600ead0164b",
       "max": 6.0,
       "min": 0.0,
       "orientation": "horizontal",
       "style": "IPY_MODEL_3144560ae05347a4879825a92f334e47",
       "tabbable": null,
       "tooltip": null,
       "value": 6.0
      }
     },
     "21a230dff64540ed8dd0b600ead0164b": {
      "model_module": "@jupyter-widgets/base",
      "model_module_version": "2.0.0",
      "model_name": "LayoutModel",
      "state": {
       "_model_module": "@jupyter-widgets/base",
       "_model_module_version": "2.0.0",
       "_model_name": "LayoutModel",
       "_view_count": null,
       "_view_module": "@jupyter-widgets/base",
       "_view_module_version": "2.0.0",
       "_view_name": "LayoutView",
       "align_content": null,
       "align_items": null,
       "align_self": null,
       "border_bottom": null,
       "border_left": null,
       "border_right": null,
       "border_top": null,
       "bottom": null,
       "display": null,
       "flex": null,
       "flex_flow": null,
       "grid_area": null,
       "grid_auto_columns": null,
       "grid_auto_flow": null,
       "grid_auto_rows": null,
       "grid_column": null,
       "grid_gap": null,
       "grid_row": null,
       "grid_template_areas": null,
       "grid_template_columns": null,
       "grid_template_rows": null,
       "height": null,
       "justify_content": null,
       "justify_items": null,
       "left": null,
       "margin": null,
       "max_height": null,
       "max_width": null,
       "min_height": null,
       "min_width": null,
       "object_fit": null,
       "object_position": null,
       "order": null,
       "overflow": null,
       "padding": null,
       "right": null,
       "top": null,
       "visibility": null,
       "width": null
      }
     },
     "3144560ae05347a4879825a92f334e47": {
      "model_module": "@jupyter-widgets/controls",
      "model_module_version": "2.0.0",
      "model_name": "ProgressStyleModel",
      "state": {
       "_model_module": "@jupyter-widgets/controls",
       "_model_module_version": "2.0.0",
       "_model_name": "ProgressStyleModel",
       "_view_count": null,
       "_view_module": "@jupyter-widgets/base",
       "_view_module_version": "2.0.0",
       "_view_name": "StyleView",
       "bar_color": null,
       "description_width": ""
      }
     },
     "3da75763c4b948d4bee4c686af421ea0": {
      "model_module": "@jupyter-widgets/base",
      "model_module_version": "2.0.0",
      "model_name": "LayoutModel",
      "state": {
       "_model_module": "@jupyter-widgets/base",
       "_model_module_version": "2.0.0",
       "_model_name": "LayoutModel",
       "_view_count": null,
       "_view_module": "@jupyter-widgets/base",
       "_view_module_version": "2.0.0",
       "_view_name": "LayoutView",
       "align_content": null,
       "align_items": null,
       "align_self": null,
       "border_bottom": null,
       "border_left": null,
       "border_right": null,
       "border_top": null,
       "bottom": null,
       "display": null,
       "flex": null,
       "flex_flow": null,
       "grid_area": null,
       "grid_auto_columns": null,
       "grid_auto_flow": null,
       "grid_auto_rows": null,
       "grid_column": null,
       "grid_gap": null,
       "grid_row": null,
       "grid_template_areas": null,
       "grid_template_columns": null,
       "grid_template_rows": null,
       "height": null,
       "justify_content": null,
       "justify_items": null,
       "left": null,
       "margin": null,
       "max_height": null,
       "max_width": null,
       "min_height": null,
       "min_width": null,
       "object_fit": null,
       "object_position": null,
       "order": null,
       "overflow": null,
       "padding": null,
       "right": null,
       "top": null,
       "visibility": null,
       "width": null
      }
     },
     "75d263c7861b44b5a6911f1bbe078727": {
      "model_module": "@jupyter-widgets/controls",
      "model_module_version": "2.0.0",
      "model_name": "HTMLStyleModel",
      "state": {
       "_model_module": "@jupyter-widgets/controls",
       "_model_module_version": "2.0.0",
       "_model_name": "HTMLStyleModel",
       "_view_count": null,
       "_view_module": "@jupyter-widgets/base",
       "_view_module_version": "2.0.0",
       "_view_name": "StyleView",
       "background": null,
       "description_width": "",
       "font_size": null,
       "text_color": null
      }
     },
     "7670b74a81184c29be6bb6962d55fefd": {
      "model_module": "@jupyter-widgets/controls",
      "model_module_version": "2.0.0",
      "model_name": "HBoxModel",
      "state": {
       "_dom_classes": [],
       "_model_module": "@jupyter-widgets/controls",
       "_model_module_version": "2.0.0",
       "_model_name": "HBoxModel",
       "_view_count": null,
       "_view_module": "@jupyter-widgets/controls",
       "_view_module_version": "2.0.0",
       "_view_name": "HBoxView",
       "box_style": "",
       "children": [
        "IPY_MODEL_940e40fffa1b4affabd6084c213aedea",
        "IPY_MODEL_11b90104129c463a9511239884adbab7",
        "IPY_MODEL_d76c8be7363a479387ccfcf07312de38"
       ],
       "layout": "IPY_MODEL_3da75763c4b948d4bee4c686af421ea0",
       "tabbable": null,
       "tooltip": null
      }
     },
     "7cff620c693942f988479329e6614bba": {
      "model_module": "@jupyter-widgets/base",
      "model_module_version": "2.0.0",
      "model_name": "LayoutModel",
      "state": {
       "_model_module": "@jupyter-widgets/base",
       "_model_module_version": "2.0.0",
       "_model_name": "LayoutModel",
       "_view_count": null,
       "_view_module": "@jupyter-widgets/base",
       "_view_module_version": "2.0.0",
       "_view_name": "LayoutView",
       "align_content": null,
       "align_items": null,
       "align_self": null,
       "border_bottom": null,
       "border_left": null,
       "border_right": null,
       "border_top": null,
       "bottom": null,
       "display": null,
       "flex": null,
       "flex_flow": null,
       "grid_area": null,
       "grid_auto_columns": null,
       "grid_auto_flow": null,
       "grid_auto_rows": null,
       "grid_column": null,
       "grid_gap": null,
       "grid_row": null,
       "grid_template_areas": null,
       "grid_template_columns": null,
       "grid_template_rows": null,
       "height": null,
       "justify_content": null,
       "justify_items": null,
       "left": null,
       "margin": null,
       "max_height": null,
       "max_width": null,
       "min_height": null,
       "min_width": null,
       "object_fit": null,
       "object_position": null,
       "order": null,
       "overflow": null,
       "padding": null,
       "right": null,
       "top": null,
       "visibility": null,
       "width": null
      }
     },
     "940e40fffa1b4affabd6084c213aedea": {
      "model_module": "@jupyter-widgets/controls",
      "model_module_version": "2.0.0",
      "model_name": "HTMLModel",
      "state": {
       "_dom_classes": [],
       "_model_module": "@jupyter-widgets/controls",
       "_model_module_version": "2.0.0",
       "_model_name": "HTMLModel",
       "_view_count": null,
       "_view_module": "@jupyter-widgets/controls",
       "_view_module_version": "2.0.0",
       "_view_name": "HTMLView",
       "description": "",
       "description_allow_html": false,
       "layout": "IPY_MODEL_c043c1e57bd94c50800448601238ef16",
       "placeholder": "​",
       "style": "IPY_MODEL_75d263c7861b44b5a6911f1bbe078727",
       "tabbable": null,
       "tooltip": null,
       "value": "100%"
      }
     },
     "c043c1e57bd94c50800448601238ef16": {
      "model_module": "@jupyter-widgets/base",
      "model_module_version": "2.0.0",
      "model_name": "LayoutModel",
      "state": {
       "_model_module": "@jupyter-widgets/base",
       "_model_module_version": "2.0.0",
       "_model_name": "LayoutModel",
       "_view_count": null,
       "_view_module": "@jupyter-widgets/base",
       "_view_module_version": "2.0.0",
       "_view_name": "LayoutView",
       "align_content": null,
       "align_items": null,
       "align_self": null,
       "border_bottom": null,
       "border_left": null,
       "border_right": null,
       "border_top": null,
       "bottom": null,
       "display": null,
       "flex": null,
       "flex_flow": null,
       "grid_area": null,
       "grid_auto_columns": null,
       "grid_auto_flow": null,
       "grid_auto_rows": null,
       "grid_column": null,
       "grid_gap": null,
       "grid_row": null,
       "grid_template_areas": null,
       "grid_template_columns": null,
       "grid_template_rows": null,
       "height": null,
       "justify_content": null,
       "justify_items": null,
       "left": null,
       "margin": null,
       "max_height": null,
       "max_width": null,
       "min_height": null,
       "min_width": null,
       "object_fit": null,
       "object_position": null,
       "order": null,
       "overflow": null,
       "padding": null,
       "right": null,
       "top": null,
       "visibility": null,
       "width": null
      }
     },
     "d76c8be7363a479387ccfcf07312de38": {
      "model_module": "@jupyter-widgets/controls",
      "model_module_version": "2.0.0",
      "model_name": "HTMLModel",
      "state": {
       "_dom_classes": [],
       "_model_module": "@jupyter-widgets/controls",
       "_model_module_version": "2.0.0",
       "_model_name": "HTMLModel",
       "_view_count": null,
       "_view_module": "@jupyter-widgets/controls",
       "_view_module_version": "2.0.0",
       "_view_name": "HTMLView",
       "description": "",
       "description_allow_html": false,
       "layout": "IPY_MODEL_7cff620c693942f988479329e6614bba",
       "placeholder": "​",
       "style": "IPY_MODEL_d7a8e326123a4e268fbe1c080978c2a6",
       "tabbable": null,
       "tooltip": null,
       "value": " 6/6 [02:40&lt;00:00, 37.99s/it]"
      }
     },
     "d7a8e326123a4e268fbe1c080978c2a6": {
      "model_module": "@jupyter-widgets/controls",
      "model_module_version": "2.0.0",
      "model_name": "HTMLStyleModel",
      "state": {
       "_model_module": "@jupyter-widgets/controls",
       "_model_module_version": "2.0.0",
       "_model_name": "HTMLStyleModel",
       "_view_count": null,
       "_view_module": "@jupyter-widgets/base",
       "_view_module_version": "2.0.0",
       "_view_name": "StyleView",
       "background": null,
       "description_width": "",
       "font_size": null,
       "text_color": null
      }
     }
    },
    "version_major": 2,
    "version_minor": 0
   }
  }
 },
 "nbformat": 4,
 "nbformat_minor": 5
}