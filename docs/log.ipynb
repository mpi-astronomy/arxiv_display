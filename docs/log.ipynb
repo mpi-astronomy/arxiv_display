{
 "cells": [
  {
   "cell_type": "markdown",
   "id": "92bcb855",
   "metadata": {
    "papermill": {
     "duration": 0.005321,
     "end_time": "2023-01-20T04:08:00.675197",
     "exception": false,
     "start_time": "2023-01-20T04:08:00.669876",
     "status": "completed"
    },
    "tags": []
   },
   "source": [
    "# MPIA Arxiv on Deck 2\n",
    "\n",
    "Contains the steps to produce the paper extractions."
   ]
  },
  {
   "cell_type": "code",
   "execution_count": 1,
   "id": "3a0d6e11",
   "metadata": {
    "execution": {
     "iopub.execute_input": "2023-01-20T04:08:00.684219Z",
     "iopub.status.busy": "2023-01-20T04:08:00.683572Z",
     "iopub.status.idle": "2023-01-20T04:08:00.852027Z",
     "shell.execute_reply": "2023-01-20T04:08:00.851146Z"
    },
    "papermill": {
     "duration": 0.174803,
     "end_time": "2023-01-20T04:08:00.853879",
     "exception": false,
     "start_time": "2023-01-20T04:08:00.679076",
     "status": "completed"
    },
    "tags": []
   },
   "outputs": [],
   "source": [
    "# Imports\n",
    "import os\n",
    "from IPython.display import Markdown, display\n",
    "from tqdm.notebook import tqdm\n",
    "import warnings\n",
    "from PIL import Image \n",
    "\n",
    "# requires arxiv_on_deck_2\n",
    "\n",
    "from arxiv_on_deck_2.arxiv2 import (get_new_papers, \n",
    "                                    get_paper_from_identifier,\n",
    "                                    retrieve_document_source, \n",
    "                                    get_markdown_badge)\n",
    "from arxiv_on_deck_2 import (latex, \n",
    "                             mpia,\n",
    "                             highlight_authors_in_list)\n",
    "\n",
    "# Sometimes images are really big\n",
    "Image.MAX_IMAGE_PIXELS = 1000000000 "
   ]
  },
  {
   "cell_type": "code",
   "execution_count": 2,
   "id": "22aa9d44",
   "metadata": {
    "execution": {
     "iopub.execute_input": "2023-01-20T04:08:00.862715Z",
     "iopub.status.busy": "2023-01-20T04:08:00.862188Z",
     "iopub.status.idle": "2023-01-20T04:08:00.866433Z",
     "shell.execute_reply": "2023-01-20T04:08:00.865871Z"
    },
    "papermill": {
     "duration": 0.010462,
     "end_time": "2023-01-20T04:08:00.868229",
     "exception": false,
     "start_time": "2023-01-20T04:08:00.857767",
     "status": "completed"
    },
    "tags": []
   },
   "outputs": [],
   "source": [
    "# Some useful definitions.\n",
    "\n",
    "class AffiliationWarning(UserWarning):\n",
    "    pass\n",
    "\n",
    "class AffiliationError(RuntimeError):\n",
    "    pass\n",
    "\n",
    "def validation(source: str):\n",
    "    \"\"\"Raises error paper during parsing of source file\n",
    "    \n",
    "    Allows checks before parsing TeX code.\n",
    "    \n",
    "    Raises AffiliationWarning\n",
    "    \"\"\"\n",
    "    check = mpia.affiliation_verifications(source, verbose=True)\n",
    "    if check is not True:\n",
    "        raise AffiliationError(\"mpia.affiliation_verifications: \" + check)\n",
    "\n",
    "        \n",
    "warnings.simplefilter('always', AffiliationWarning)"
   ]
  },
  {
   "cell_type": "code",
   "execution_count": 3,
   "id": "14622700",
   "metadata": {
    "execution": {
     "iopub.execute_input": "2023-01-20T04:08:00.877078Z",
     "iopub.status.busy": "2023-01-20T04:08:00.876498Z",
     "iopub.status.idle": "2023-01-20T04:08:00.880125Z",
     "shell.execute_reply": "2023-01-20T04:08:00.879555Z"
    },
    "papermill": {
     "duration": 0.009114,
     "end_time": "2023-01-20T04:08:00.881560",
     "exception": false,
     "start_time": "2023-01-20T04:08:00.872446",
     "status": "completed"
    },
    "tags": []
   },
   "outputs": [],
   "source": [
    "# additional CSS to consider. \n",
    "# TODO: Current into each exported file. \n",
    "#       This should be set once into the webpages directly.\n",
    "#       With only the class/id definitions in the .md files.\n",
    "\n",
    "debug_html = \"\"\"\n",
    "<style>\n",
    "#wrap{ overflow:auto; }\n",
    "#fig1{ background:yellow; width:100%; float:left; padding:5px;  }\n",
    "#fig2{ background:red; width:50%; float:left; clear:left; padding:5px;  }\n",
    "#fig3{ background:green; width:50%; float:left; padding:5px;   }\n",
    ".macros{ background:yellow; visibility:visible;}\n",
    "h1 {margin: 0 0 0 0;}\n",
    "mark {background-color:#fff3b6;}\n",
    "img {object-fit:contain; max-height:250px; display:inline-block; text-align: center;}\n",
    "</style>\n",
    "\"\"\" \n",
    "html = \"\"\"\n",
    "<style>\n",
    "#wrap{ overflow:auto; }\n",
    "#fig1{ width:100%; float:left; padding: 5px;  }\n",
    "#fig2{ width:50%; float:left; clear:left; padding: 5px;  }\n",
    "#fig3{ width:50%; float:left; padding: 5px;  }\n",
    ".macros{ visibility:hidden; height:0px; }\n",
    "h1 {margin: 0em 0 0 0;}\n",
    "mark {background-color:#fff3b6;}\n",
    "img {object-fit:contain; max-height:250px; display:inline-block; text-align: center;}\n",
    "</style>\n",
    "\"\"\""
   ]
  },
  {
   "cell_type": "markdown",
   "id": "14bd6310",
   "metadata": {
    "papermill": {
     "duration": 0.003494,
     "end_time": "2023-01-20T04:08:00.888394",
     "exception": false,
     "start_time": "2023-01-20T04:08:00.884900",
     "status": "completed"
    },
    "tags": []
   },
   "source": [
    "## get list of arxiv paper candidates\n",
    "\n",
    "We use the MPIA mitarbeiter list webpage from mpia.de to get author names\n",
    "We then get all new papers from Arxiv and match authors"
   ]
  },
  {
   "cell_type": "code",
   "execution_count": 4,
   "id": "2645e73a",
   "metadata": {
    "execution": {
     "iopub.execute_input": "2023-01-20T04:08:00.896251Z",
     "iopub.status.busy": "2023-01-20T04:08:00.895773Z",
     "iopub.status.idle": "2023-01-20T04:08:22.738150Z",
     "shell.execute_reply": "2023-01-20T04:08:22.737288Z"
    },
    "papermill": {
     "duration": 21.847921,
     "end_time": "2023-01-20T04:08:22.739628",
     "exception": false,
     "start_time": "2023-01-20T04:08:00.891707",
     "status": "completed"
    },
    "tags": []
   },
   "outputs": [
    {
     "name": "stdout",
     "output_type": "stream",
     "text": [
      "Arxiv has 60 new papers today\n",
      "          24 with possible author matches\n"
     ]
    }
   ],
   "source": [
    "# get list from MPIA website\n",
    "# it automatically filters identified non-scientists :func:`mpia.filter_non_scientists`\n",
    "mpia_authors = mpia.get_mpia_mitarbeiter_list()\n",
    "new_papers = get_new_papers()\n",
    "# add manual references\n",
    "add_paper_refs = []\n",
    "new_papers.extend([get_paper_from_identifier(k) for k in add_paper_refs])\n",
    "\n",
    "# select only papers with matching author names and highlight authors\n",
    "hl_list = [k[0] for k in mpia_authors]\n",
    "\n",
    "candidates = []\n",
    "for paperk in new_papers:\n",
    "    hl_authors = highlight_authors_in_list(paperk['authors'], hl_list)\n",
    "    matches = [(hl, orig) for hl, orig in zip(hl_authors, paperk['authors']) if 'mark' in hl]\n",
    "    paperk['authors'] = hl_authors\n",
    "    if matches:\n",
    "        candidates.append(paperk)\n",
    "print(\"\"\"Arxiv has {0:,d} new papers today\"\"\".format(len(new_papers)))        \n",
    "print(\"\"\"          {0:,d} with possible author matches\"\"\".format(len(candidates)))"
   ]
  },
  {
   "cell_type": "markdown",
   "id": "3543b34a",
   "metadata": {
    "papermill": {
     "duration": 0.003436,
     "end_time": "2023-01-20T04:08:22.747066",
     "exception": false,
     "start_time": "2023-01-20T04:08:22.743630",
     "status": "completed"
    },
    "tags": []
   },
   "source": [
    "# Parse sources and generate relevant outputs\n",
    "\n",
    "From the candidates, we do the following steps:\n",
    "* get their tarball from ArXiv (and extract data)\n",
    "* find the main .tex file: find one with \\documentclass{...} (sometimes it's non trivial)\n",
    "* Check affiliations with :func:`validation`, which uses :func:`mpia.affiliation_verifications`\n",
    "* If passing the affiliations: we parse the .tex source\n",
    "   * inject sub-documents into the main (flatten the main document)\n",
    "   * parse structure, extract information (title, abstract, authors, figures...)\n",
    "   * handles `\\graphicspath` if provided\n",
    "* Generate the .md document."
   ]
  },
  {
   "cell_type": "code",
   "execution_count": 5,
   "id": "9576b79e",
   "metadata": {
    "execution": {
     "iopub.execute_input": "2023-01-20T04:08:22.757839Z",
     "iopub.status.busy": "2023-01-20T04:08:22.755248Z",
     "iopub.status.idle": "2023-01-20T04:09:02.350755Z",
     "shell.execute_reply": "2023-01-20T04:09:02.350032Z"
    },
    "papermill": {
     "duration": 39.602351,
     "end_time": "2023-01-20T04:09:02.352975",
     "exception": false,
     "start_time": "2023-01-20T04:08:22.750624",
     "status": "completed"
    },
    "scrolled": false,
    "tags": []
   },
   "outputs": [
    {
     "data": {
      "application/vnd.jupyter.widget-view+json": {
       "model_id": "6169859f045f46348581e0b1880401ce",
       "version_major": 2,
       "version_minor": 0
      },
      "text/plain": [
       "  0%|          | 0/23 [00:00<?, ?it/s]"
      ]
     },
     "metadata": {},
     "output_type": "display_data"
    },
    {
     "name": "stdout",
     "output_type": "stream",
     "text": [
      "Retrieving document from  https://arxiv.org/e-print/2301.07723\n"
     ]
    },
    {
     "name": "stdout",
     "output_type": "stream",
     "text": [
      "extracting tarball to tmp_2301.07723..."
     ]
    },
    {
     "name": "stdout",
     "output_type": "stream",
     "text": [
      " done.\n",
      "Retrieving document from  https://arxiv.org/e-print/2301.07724\n"
     ]
    },
    {
     "name": "stderr",
     "output_type": "stream",
     "text": [
      "/opt/hostedtoolcache/Python/3.9.16/x64/lib/python3.9/site-packages/IPython/core/interactiveshell.py:3442: LatexWarning: Multiple tex files.\n",
      "\n",
      "  exec(code_obj, self.user_global_ns, self.user_ns)\n",
      "/opt/hostedtoolcache/Python/3.9.16/x64/lib/python3.9/site-packages/IPython/core/interactiveshell.py:3442: LatexWarning: Found documentclass in tmp_2301.07723/main.tex\n",
      "\n",
      "  exec(code_obj, self.user_global_ns, self.user_ns)\n",
      "/opt/hostedtoolcache/Python/3.9.16/x64/lib/python3.9/site-packages/arxiv_on_deck_2/latex.py:292: LatexWarning: Latex injecting: 'citation_fix' from 'tmp_2301.07723/citation_fix.tex'\n",
      "  warnings.warn(LatexWarning(f\"Latex injecting: '{ext}' from '{subsource}'\"))\n"
     ]
    },
    {
     "name": "stdout",
     "output_type": "stream",
     "text": [
      "extracting tarball to tmp_2301.07724..."
     ]
    },
    {
     "name": "stdout",
     "output_type": "stream",
     "text": [
      " done.\n",
      "Retrieving document from  https://arxiv.org/e-print/2301.07725\n"
     ]
    },
    {
     "name": "stdout",
     "output_type": "stream",
     "text": [
      "extracting tarball to tmp_2301.07725..."
     ]
    },
    {
     "name": "stdout",
     "output_type": "stream",
     "text": [
      " done.\n",
      "Retrieving document from  https://arxiv.org/e-print/2301.07727\n"
     ]
    },
    {
     "name": "stderr",
     "output_type": "stream",
     "text": [
      "/opt/hostedtoolcache/Python/3.9.16/x64/lib/python3.9/site-packages/IPython/core/interactiveshell.py:3442: LatexWarning: Multiple tex files.\n",
      "\n",
      "  exec(code_obj, self.user_global_ns, self.user_ns)\n",
      "/opt/hostedtoolcache/Python/3.9.16/x64/lib/python3.9/site-packages/IPython/core/interactiveshell.py:3442: LatexWarning: Found documentclass in tmp_2301.07725/natbib.tex\n",
      "\n",
      "  exec(code_obj, self.user_global_ns, self.user_ns)\n"
     ]
    },
    {
     "name": "stdout",
     "output_type": "stream",
     "text": [
      "extracting tarball to tmp_2301.07727..."
     ]
    },
    {
     "name": "stdout",
     "output_type": "stream",
     "text": [
      " done.\n",
      "Retrieving document from  https://arxiv.org/e-print/2301.07731\n"
     ]
    },
    {
     "name": "stdout",
     "output_type": "stream",
     "text": [
      "extracting tarball to tmp_2301.07731..."
     ]
    },
    {
     "name": "stdout",
     "output_type": "stream",
     "text": [
      " done.\n",
      "Retrieving document from  https://arxiv.org/e-print/2301.07738\n"
     ]
    },
    {
     "name": "stdout",
     "output_type": "stream",
     "text": [
      "extracting tarball to tmp_2301.07738..."
     ]
    },
    {
     "name": "stdout",
     "output_type": "stream",
     "text": [
      " done.\n",
      "Retrieving document from  https://arxiv.org/e-print/2301.07745\n"
     ]
    },
    {
     "name": "stdout",
     "output_type": "stream",
     "text": [
      "extracting tarball to tmp_2301.07745... done.\n",
      "Retrieving document from  https://arxiv.org/e-print/2301.07760\n"
     ]
    },
    {
     "name": "stderr",
     "output_type": "stream",
     "text": [
      "/opt/hostedtoolcache/Python/3.9.16/x64/lib/python3.9/site-packages/IPython/core/interactiveshell.py:3442: LatexWarning: Multiple tex files.\n",
      "\n",
      "  exec(code_obj, self.user_global_ns, self.user_ns)\n",
      "/opt/hostedtoolcache/Python/3.9.16/x64/lib/python3.9/site-packages/IPython/core/interactiveshell.py:3442: LatexWarning: Found documentclass in tmp_2301.07745/nev.tex\n",
      "\n",
      "  exec(code_obj, self.user_global_ns, self.user_ns)\n",
      "/opt/hostedtoolcache/Python/3.9.16/x64/lib/python3.9/site-packages/arxiv_on_deck_2/latex.py:292: LatexWarning: Latex injecting: 'settings' from 'tmp_2301.07745/settings.tex'\n",
      "  warnings.warn(LatexWarning(f\"Latex injecting: '{ext}' from '{subsource}'\"))\n"
     ]
    },
    {
     "name": "stderr",
     "output_type": "stream",
     "text": [
      "/tmp/ipykernel_2067/4030337529.py:34: LatexWarning: 2301.07760 did not run properly\n",
      "not a gzip file\n",
      "  warnings.warn(latex.LatexWarning(f\"{paper_id:s} did not run properly\\n\" +\n"
     ]
    },
    {
     "name": "stdout",
     "output_type": "stream",
     "text": [
      "Retrieving document from  https://arxiv.org/e-print/2301.07771\n"
     ]
    },
    {
     "name": "stdout",
     "output_type": "stream",
     "text": [
      "extracting tarball to tmp_2301.07771..."
     ]
    },
    {
     "name": "stdout",
     "output_type": "stream",
     "text": [
      " done.\n",
      "Retrieving document from  https://arxiv.org/e-print/2301.07796\n"
     ]
    },
    {
     "name": "stdout",
     "output_type": "stream",
     "text": [
      "extracting tarball to tmp_2301.07796..."
     ]
    },
    {
     "name": "stdout",
     "output_type": "stream",
     "text": [
      " done.\n",
      "Retrieving document from  https://arxiv.org/e-print/2301.07814\n"
     ]
    },
    {
     "name": "stdout",
     "output_type": "stream",
     "text": [
      "extracting tarball to tmp_2301.07814..."
     ]
    },
    {
     "name": "stdout",
     "output_type": "stream",
     "text": [
      " done.\n",
      "Retrieving document from  https://arxiv.org/e-print/2301.07860\n"
     ]
    },
    {
     "name": "stdout",
     "output_type": "stream",
     "text": [
      "extracting tarball to tmp_2301.07860..."
     ]
    },
    {
     "name": "stdout",
     "output_type": "stream",
     "text": [
      " done.\n",
      "Retrieving document from  https://arxiv.org/e-print/2301.07877\n"
     ]
    },
    {
     "name": "stdout",
     "output_type": "stream",
     "text": [
      "extracting tarball to tmp_2301.07877... done.\n",
      "Retrieving document from  https://arxiv.org/e-print/2301.07878\n"
     ]
    },
    {
     "name": "stdout",
     "output_type": "stream",
     "text": [
      "extracting tarball to tmp_2301.07878... done.\n",
      "Retrieving document from  https://arxiv.org/e-print/2301.07929\n"
     ]
    },
    {
     "name": "stdout",
     "output_type": "stream",
     "text": [
      "extracting tarball to tmp_2301.07929..."
     ]
    },
    {
     "name": "stdout",
     "output_type": "stream",
     "text": [
      " done.\n",
      "Retrieving document from  https://arxiv.org/e-print/2301.07990\n"
     ]
    },
    {
     "name": "stderr",
     "output_type": "stream",
     "text": [
      "/opt/hostedtoolcache/Python/3.9.16/x64/lib/python3.9/site-packages/IPython/core/interactiveshell.py:3442: LatexWarning: Multiple tex files.\n",
      "\n",
      "  exec(code_obj, self.user_global_ns, self.user_ns)\n",
      "/opt/hostedtoolcache/Python/3.9.16/x64/lib/python3.9/site-packages/IPython/core/interactiveshell.py:3442: LatexWarning: Found documentclass in tmp_2301.07929/aas.tex\n",
      "\n",
      "  exec(code_obj, self.user_global_ns, self.user_ns)\n"
     ]
    },
    {
     "name": "stdout",
     "output_type": "stream",
     "text": [
      "extracting tarball to tmp_2301.07990... done.\n"
     ]
    },
    {
     "name": "stdout",
     "output_type": "stream",
     "text": [
      "Retrieving document from  https://arxiv.org/e-print/2301.07993\n"
     ]
    },
    {
     "name": "stdout",
     "output_type": "stream",
     "text": [
      "extracting tarball to tmp_2301.07993..."
     ]
    },
    {
     "name": "stdout",
     "output_type": "stream",
     "text": [
      " done.\n",
      "Retrieving document from  https://arxiv.org/e-print/2301.08003\n"
     ]
    },
    {
     "name": "stdout",
     "output_type": "stream",
     "text": [
      "extracting tarball to tmp_2301.08003..."
     ]
    },
    {
     "name": "stdout",
     "output_type": "stream",
     "text": [
      " done.\n",
      "Retrieving document from  https://arxiv.org/e-print/2301.08048\n"
     ]
    },
    {
     "name": "stdout",
     "output_type": "stream",
     "text": [
      "extracting tarball to tmp_2301.08048..."
     ]
    },
    {
     "name": "stdout",
     "output_type": "stream",
     "text": [
      " done.\n",
      "Retrieving document from  https://arxiv.org/e-print/2301.08052\n"
     ]
    },
    {
     "name": "stdout",
     "output_type": "stream",
     "text": [
      "extracting tarball to tmp_2301.08052... done.\n",
      "Retrieving document from  https://arxiv.org/e-print/2301.08071\n"
     ]
    },
    {
     "name": "stderr",
     "output_type": "stream",
     "text": [
      "/tmp/ipykernel_2067/4030337529.py:34: LatexWarning: 2301.08071 did not run properly\n",
      "not a gzip file\n",
      "  warnings.warn(latex.LatexWarning(f\"{paper_id:s} did not run properly\\n\" +\n"
     ]
    },
    {
     "name": "stdout",
     "output_type": "stream",
     "text": [
      "Retrieving document from  https://arxiv.org/e-print/2301.08162\n"
     ]
    },
    {
     "name": "stdout",
     "output_type": "stream",
     "text": [
      "extracting tarball to tmp_2301.08162..."
     ]
    },
    {
     "name": "stdout",
     "output_type": "stream",
     "text": [
      " done.\n",
      "Retrieving document from  https://arxiv.org/e-print/2301.08192\n"
     ]
    },
    {
     "name": "stdout",
     "output_type": "stream",
     "text": [
      "extracting tarball to tmp_2301.08192..."
     ]
    },
    {
     "name": "stdout",
     "output_type": "stream",
     "text": [
      " done.\n"
     ]
    },
    {
     "name": "stderr",
     "output_type": "stream",
     "text": [
      "/opt/hostedtoolcache/Python/3.9.16/x64/lib/python3.9/site-packages/IPython/core/interactiveshell.py:3442: LatexWarning: Multiple tex files.\n",
      "\n",
      "  exec(code_obj, self.user_global_ns, self.user_ns)\n",
      "/opt/hostedtoolcache/Python/3.9.16/x64/lib/python3.9/site-packages/IPython/core/interactiveshell.py:3442: LatexWarning: Found documentclass in tmp_2301.08192/main.tex\n",
      "\n",
      "  exec(code_obj, self.user_global_ns, self.user_ns)\n"
     ]
    }
   ],
   "source": [
    "documents = []\n",
    "failed = []\n",
    "for paper in tqdm(candidates[:-1]):\n",
    "    paper_id = paper['identifier'].lower().replace('arxiv:', '')\n",
    "    \n",
    "    folder = f'tmp_{paper_id}'\n",
    "\n",
    "    try:\n",
    "        if not os.path.isdir(folder):\n",
    "            folder = retrieve_document_source(f\"{paper_id}\", f'tmp_{paper_id}')\n",
    "        \n",
    "        try:\n",
    "            doc = latex.LatexDocument(folder, validation=validation)    \n",
    "        except AffiliationError as affilerror:\n",
    "            msg = f\"ArXiv:{paper_id:s} is not an MPIA paper... \" + str(affilerror)\n",
    "            failed.append((paper, \"affiliation error: \" + str(affilerror) ))\n",
    "            continue\n",
    "        \n",
    "        # Hack because sometimes author parsing does not work well\n",
    "        if (len(doc.authors) != len(paper['authors'])):\n",
    "            doc._authors = paper['authors']\n",
    "        if (doc.abstract) in (None, ''):\n",
    "            doc._abstract = paper['abstract']\n",
    "            \n",
    "        doc.comment = (get_markdown_badge(paper_id) + \n",
    "                       \"<mark>Appeared on: \" + paper['date'] + \"</mark> - \" +\n",
    "                       \"_\" + paper['comments'] + \"_\")\n",
    "        doc.highlight_authors_in_list(hl_list)\n",
    "\n",
    "        full_md = doc.generate_markdown_text()\n",
    "        \n",
    "        documents.append((paper_id, full_md))\n",
    "    except Exception as e:\n",
    "        warnings.warn(latex.LatexWarning(f\"{paper_id:s} did not run properly\\n\" +\n",
    "                                         str(e)\n",
    "                                        ))\n",
    "        failed.append((paper, \"latex error \" + str(e)))"
   ]
  },
  {
   "cell_type": "markdown",
   "id": "2505a25c",
   "metadata": {
    "papermill": {
     "duration": 0.006942,
     "end_time": "2023-01-20T04:09:02.366136",
     "exception": false,
     "start_time": "2023-01-20T04:09:02.359194",
     "status": "completed"
    },
    "tags": []
   },
   "source": [
    "### Export the logs\n",
    "\n",
    "Throughout, we also keep track of the logs per paper. see `logs-{today date}.md` "
   ]
  },
  {
   "cell_type": "code",
   "execution_count": 6,
   "id": "d733828a",
   "metadata": {
    "execution": {
     "iopub.execute_input": "2023-01-20T04:09:02.380067Z",
     "iopub.status.busy": "2023-01-20T04:09:02.379190Z",
     "iopub.status.idle": "2023-01-20T04:09:02.441197Z",
     "shell.execute_reply": "2023-01-20T04:09:02.440596Z"
    },
    "papermill": {
     "duration": 0.070922,
     "end_time": "2023-01-20T04:09:02.442647",
     "exception": false,
     "start_time": "2023-01-20T04:09:02.371725",
     "status": "completed"
    },
    "scrolled": false,
    "tags": []
   },
   "outputs": [
    {
     "data": {
      "text/markdown": [
       "## Successful papers"
      ],
      "text/plain": [
       "<IPython.core.display.Markdown object>"
      ]
     },
     "metadata": {},
     "output_type": "display_data"
    },
    {
     "data": {
      "text/markdown": [
       "\n",
       "|||\n",
       "|---:|:---|\n",
       "| [![arXiv](https://img.shields.io/badge/arXiv-arXiv:2301.07990-b31b1b.svg)](https://arxiv.org/abs/arXiv:2301.07990) | **Timing the formation of the Galactic thin disc with asteroseismic  stellar ages**  |\n",
       "|| Wu Yaqian, et al. -- incl., <mark>Zhao Gang</mark>, <mark>Li Yaguang</mark> |\n",
       "|*Appeared on*| *2023-01-20*|\n",
       "|*Comments*| *17 pages, 13 figures, accepted by MNRAS*|\n",
       "|**Abstract**| The formation of the extended thin disc is the most spectacular event of our Galaxy in the past $\\sim8$\\,Gyr. To unveil this process, obtaining precise and accurate stellar ages for a large sample of stars is essential although challenging. In this work, we present the asteroseismic age determination of 5306 red giant branch stars using \\kepler{} and LAMOST data, with a thorough examination of how the age determination is affected by the choice of different temperature scales and stellar models. Thanks to the high precision of the asteroseismic and spectroscopic parameters of our sample stars, we are able to achieve age determination with an average accuracy of 12 per cent. However, the age determination is sensitively dependent on the adopted temperature scale, as 50\\,K difference in effective temperature may cause larger than 10 per cent systematic uncertainty in the age estimates. Using the ages derived with the most plausible set of the temperature scale, we study the age distribution of the chemical thin disc stars, and present an estimate of the formation epoch of the first Galactic thin disc stars. We find that the first (oldest) thin disc stars have an age of $9.5^{+0.5(\\rm rand.)+0.5(\\rm sys.)}_{-0.4(\\rm rand.)-0.3(\\rm sys.)}$\\,Gyr, where the systematic uncertainties reflect ages estimated using different stellar evolutionary models. At this epoch, the Galactic thick disc was still forming stars, indicating there is a time window when both the thin and thick discs of our Galaxy were forming stars together. Moreover, we find that the first thin disc stars exhibit a broad distribution of Galactocentric radii, suggesting that the inner and outer thin discs began to form simultaneously. |"
      ],
      "text/plain": [
       "[arXiv:2301.07990] Timing the formation of the Galactic thin disc with asteroseismic  stellar ages\n",
       "\tWu Yaqian, et al. -- incl., <mark>Zhao Gang</mark>, <mark>Li Yaguang</mark>"
      ]
     },
     "metadata": {},
     "output_type": "display_data"
    },
    {
     "data": {
      "text/markdown": [
       "## Failed papers"
      ],
      "text/plain": [
       "<IPython.core.display.Markdown object>"
      ]
     },
     "metadata": {},
     "output_type": "display_data"
    },
    {
     "data": {
      "text/markdown": [
       "\n",
       "|||\n",
       "|---:|:---|\n",
       "| [![arXiv](https://img.shields.io/badge/arXiv-arXiv:2301.07724-b31b1b.svg)](https://arxiv.org/abs/arXiv:2301.07724) | **The SOUX AGN Sample: SDSS-XMM-Newton Optical, Ultraviolet and X-ray  selected active galactic nuclei spanning a wide range of parameter space --  Sample definition**  |\n",
       "|| Daniel Kynoch, et al. -- incl., <mark>Hermine Landt</mark> |\n",
       "|*Appeared on*| *2023-01-20*|\n",
       "|*Comments*| *23 pages, 24 figures and 10 tables. Accepted for publication in MNRAS*|\n",
       "|**Abstract**| We assemble a sample of 696 type 1 AGN up to a redshift of $z=2.5$, all of which have an SDSS spectrum containing at least one broad emission line (H $\\alpha$, H $\\beta$ or Mg II) and an XMM-Newton X-ray spectrum containing at least 250 counts in addition to simultaneous optical/ultraviolet photometry from the XMM Optical Monitor. Our sample includes quasars and narrow-line Seyfert 1s: thus our AGN span a wide range in luminosity, black hole mass and accretion rate. We determine single-epoch black hole mass relations for the three emission lines and find that they provide broadly consistent mass estimates whether the continuum or emission line luminosity is used as the proxy for the broad emission line region radius. We explore variations of the UV/X-ray energy index $\\alpha_\\mathrm{ox}$ with the UV continuum luminosity and with black hole mass and accretion rate, and make comparisons to the physical quasar spectral energy distribution (SED) model QSOSED. The majority of the AGN in our sample lie in a region of parameter space with $0.02<L/L_\\mathrm{Edd}<2$ as defined by this model, with narrow-line type 1 AGN offset to lower masses and higher accretion rates than typical broad-line quasars. We find differences in the dependence of $\\alpha_\\mathrm{ox}$ on UV luminosity between both narrow/broad-line and radio-loud/quiet subsets of AGN: $\\alpha_\\mathrm{ox}$ has a slightly weaker dependence on UV luminosity for broad-line AGN and radio-loud AGN have systematically harder $\\alpha_\\mathrm{ox}$. |\n",
       "|<p style=\"color:green\"> **ERROR** </p>| <p style=\"color:green\">affiliation error: mpia.affiliation_verifications: '69117' keyword not found.</p> |"
      ],
      "text/plain": [
       "<IPython.core.display.Markdown object>"
      ]
     },
     "metadata": {},
     "output_type": "display_data"
    },
    {
     "data": {
      "text/markdown": [
       "\n",
       "|||\n",
       "|---:|:---|\n",
       "| [![arXiv](https://img.shields.io/badge/arXiv-arXiv:2301.07993-b31b1b.svg)](https://arxiv.org/abs/arXiv:2301.07993) | **Ammonia mapping observations of the Galactic infrared bubble N49: Three  NH$_3$ clumps along the molecular filament**  |\n",
       "|| Mikito Kohno, et al. -- incl., <mark>Ross A. Burns</mark> |\n",
       "|*Appeared on*| *2023-01-20*|\n",
       "|*Comments*| *29 pages, 13 figures, 3 tables, accepted for Publications of the Astronomical Society of Japan (PASJ)*|\n",
       "|**Abstract**| We have carried out the NH$_3$ $(J,K)=(1,1),(2,2),$ and $(3,3)$ mapping observations toward the Galactic infrared bubble N49 (G28.83-0.25) using the Nobeyama 45 m telescope. Three NH$_3$ clumps (A, B, and C) were discovered along the molecular filament with the radial velocities of $\\sim$ 96, 87, and 89 km s$^{-1}$, respectively. The kinetic temperature derived from the NH$_3$ (2,2)/NH$_3$ (1,1) shows $T_{\\rm kin} = 27.0 \\pm 0.6$ K enhanced at Clump B in the eastern edge of the bubble, where position coincides with massive young stellar objects (MYSOs) associated with the 6.7 GHz class II methanol maser source. This result shows the dense clump is locally heated by stellar feedback from the embedded MYSOs. The NH$_3$ Clump B also exists at the 88 km s$^{-1}$ and 95 km s$^{-1}$ molecular filament intersection. We therefore suggest that the NH$_3$ dense gas formation in Clump B can be explained by a filament-filament interaction scenario. On the other hand, NH$_3$ Clump A and C at the northern and southern side of the molecular filament might be the sites of spontaneous star formation because these clumps are located $\\sim$5$-$10 pc away from the edge of the bubble. |\n",
       "|<p style=\"color:green\"> **ERROR** </p>| <p style=\"color:green\">affiliation error: mpia.affiliation_verifications: '69117' keyword not found.</p> |"
      ],
      "text/plain": [
       "<IPython.core.display.Markdown object>"
      ]
     },
     "metadata": {},
     "output_type": "display_data"
    },
    {
     "data": {
      "text/markdown": [
       "\n",
       "|||\n",
       "|---:|:---|\n",
       "| [![arXiv](https://img.shields.io/badge/arXiv-arXiv:2301.08192-b31b1b.svg)](https://arxiv.org/abs/arXiv:2301.08192) | **A broadband thermal emission spectrum of the ultra-hot Jupiter WASP-18b**  |\n",
       "|| Louis-Philippe Coulombe, et al. -- incl., <mark>Lindsey S. Wiser</mark>, <mark>Neil T. Lewis</mark>, <mark>Michael R. Line</mark>, <mark>Elspeth K. H. Lee</mark>, <mark>Xi Zhang</mark> |\n",
       "|*Appeared on*| *2023-01-20*|\n",
       "|*Comments*| *JWST ERS bright star observations. Uploaded to inform JWST Cycle 2 proposals. Manuscript under review. 50 pages, 14 figures, 2 tables*|\n",
       "|**Abstract**| Close-in giant exoplanets with temperatures greater than 2,000 K (''ultra-hot Jupiters'') have been the subject of extensive efforts to determine their atmospheric properties using thermal emission measurements from the Hubble and Spitzer Space Telescopes. However, previous studies have yielded inconsistent results because the small sizes of the spectral features and the limited information content of the data resulted in high sensitivity to the varying assumptions made in the treatment of instrument systematics and the atmospheric retrieval analysis. Here we present a dayside thermal emission spectrum of the ultra-hot Jupiter WASP-18b obtained with the NIRISS instrument on JWST. The data span 0.85 to 2.85 $\\mu$m in wavelength at an average resolving power of 400 and exhibit minimal systematics. The spectrum shows three water emission features (at $>$6$\\sigma$ confidence) and evidence for optical opacity, possibly due to H$^-$, TiO, and VO (combined significance of 3.8$\\sigma$). Models that fit the data require a thermal inversion, molecular dissociation as predicted by chemical equilibrium, a solar heavy element abundance (''metallicity'', M/H = 1.03$_{-0.51}^{+1.11}$ $\\times$ solar), and a carbon-to-oxygen (C/O) ratio less than unity. The data also yield a dayside brightness temperature map, which shows a peak in temperature near the sub-stellar point that decreases steeply and symmetrically with longitude toward the terminators. |\n",
       "|<p style=\"color:green\"> **ERROR** </p>| <p style=\"color:green\">affiliation error: mpia.affiliation_verifications: '69117' keyword not found.</p> |"
      ],
      "text/plain": [
       "<IPython.core.display.Markdown object>"
      ]
     },
     "metadata": {},
     "output_type": "display_data"
    },
    {
     "data": {
      "text/markdown": [
       "\n",
       "|||\n",
       "|---:|:---|\n",
       "| [![arXiv](https://img.shields.io/badge/arXiv-arXiv:2301.07723-b31b1b.svg)](https://arxiv.org/abs/arXiv:2301.07723) | **What Sets the Star Formation Rate of Molecular Clouds? The Density  Distribution as a Fingerprint of Compression and Expansion Rates**  |\n",
       "|| Sabrina M. Appel, et al. -- incl., <mark>Vadim A. Semenov</mark> |\n",
       "|*Appeared on*| *2023-01-20*|\n",
       "|*Comments*| *22 pages, 13 figures. Submitted to ApJ. Comments welcome*|\n",
       "|**Abstract**| We use a suite of 3D simulations of star-forming molecular clouds, with and without stellar feedback, magnetic fields, and driven turbulence, to study the compression and expansion rates of the gas as functions of density. We show that, around the mean density, supersonic turbulence promotes rough equilibrium between the amounts of compressing and expanding gas, consistent with continuous gas cycling between high and low density states. We find that the inclusion of protostellar jets produces rapidly expanding and compressing low-density gas. We find that the gas mass flux peaks at the transition between the lognormal and power-law forms of the density probability distribution function (PDF). This is consistent with the transition density tracking the post-shock density, which promotes an enhancement of mass at this density (i.e., shock compression and filament formation). At high densities, the gas dynamics are dominated by self-gravity: the compression rate in all of our runs matches the rate of the run with only gravity, suggesting that processes other than self-gravity have little effect at these densities. The net gas mass flux becomes constant at a density below the sink formation threshold, where it equals the star formation rate. The density at which the net gas mass flux equals the star formation rate is one order of magnitude lower than our sink threshold density, corresponds to the formation of the second power-law tail in the density PDF, and sets the overall star formation rates of these simulations. |\n",
       "|<p style=\"color:green\"> **ERROR** </p>| <p style=\"color:green\">affiliation error: mpia.affiliation_verifications: 'Heidelberg' keyword not found.</p> |"
      ],
      "text/plain": [
       "<IPython.core.display.Markdown object>"
      ]
     },
     "metadata": {},
     "output_type": "display_data"
    },
    {
     "data": {
      "text/markdown": [
       "\n",
       "|||\n",
       "|---:|:---|\n",
       "| [![arXiv](https://img.shields.io/badge/arXiv-arXiv:2301.07725-b31b1b.svg)](https://arxiv.org/abs/arXiv:2301.07725) | **Near-IR Weak-Lensing (NIRWL) Measurements in the CANDELS Fields I:  Point-Spread Function Modeling and Systematics**  |\n",
       "|| Kyle Finner, et al. -- incl., <mark>Bomee Lee</mark> |\n",
       "|*Appeared on*| *2023-01-20*|\n",
       "|*Comments*| *27 pages, 19 figures, submitted to ApJ*|\n",
       "|**Abstract**| We have undertaken a Near-IR Weak Lensing (NIRWL) analysis of the wide-field CANDELS HST/WFC3-IR F160W observations. With the Gaia proper-motion-corrected catalog as an astrometric reference, we updated the astrometry of the five CANDELS mosaics and achieved an absolute alignment within $0.02\\pm0.02$ arcsec on average, which is a factor of several superior to existing mosaics. These mosaics are available to download. We investigated the systematic effects that need to be corrected for weak-lensing measurements. We find the largest contributing systematic effect is caused by undersampling. Using stars as a probe of the point-spread function (PSF), we find a sub-pixel centroid dependence on the PSF shape that induces a change in the PSF ellipticity and size by up to 0.02 and $3\\%$, respectively. We find that the brighter-fatter effect causes a $2\\%$ increase in the size of the PSF and discover a brighter-rounder effect that changes the ellipticity by 0.006. Based on the narrow bandpasses of the WFC3-IR filters and the small range of slopes in a galaxy's spectral energy distribution (SED) within the bandpasses, we suggest that the impact of galaxy SED on PSF is minor in the NIR. Finally, we modeled the PSF of WFC3-IR F160W for weak lensing using a principal component analysis. The PSF models account for temporal and spatial variations of the PSF. The PSF corrections result in residual ellipticities and sizes, $|de_1| < 0.0005\\pm0.0003$, $|de_2| < 0.0005\\pm0.0003$, and $|dR| < 0.0005\\pm0.0001$, that are sufficient for the upcoming NIRWL search for massive overdensities in the five CANDELS fields. NIRWL Mosaics: https://drive.google.com/drive/folders/1k9WEV3tBOuRKBlcaTJ0-wTZnUCisS__r?usp=share_link |\n",
       "|<p style=\"color:green\"> **ERROR** </p>| <p style=\"color:green\">affiliation error: mpia.affiliation_verifications: 'Heidelberg' keyword not found.</p> |"
      ],
      "text/plain": [
       "<IPython.core.display.Markdown object>"
      ]
     },
     "metadata": {},
     "output_type": "display_data"
    },
    {
     "data": {
      "text/markdown": [
       "\n",
       "|||\n",
       "|---:|:---|\n",
       "| [![arXiv](https://img.shields.io/badge/arXiv-arXiv:2301.07727-b31b1b.svg)](https://arxiv.org/abs/arXiv:2301.07727) | **DREAM I. Orbital architecture orrery**  |\n",
       "|| V. Bourrier, et al. -- incl., <mark>M. Mallonn</mark>, <mark>G. Henry</mark>, <mark>G. Hebrard</mark> |\n",
       "|*Appeared on*| *2023-01-20*|\n",
       "|*Comments*| *25 pages and 12 figures (plus Appendix)*|\n",
       "|**Abstract**| The distribution of close-in exoplanets is shaped by a complex interplay between atmospheric and dynamical processes. The Desert-Rim Exoplanets Atmosphere and Migration (DREAM) program aims at disentangling those processes through the study of the hot Neptune desert, whose rim hosts planets that are undergoing, or survived, atmospheric evaporation and orbital migration. In this first paper, we use the Rossiter-McLaughlin Revolutions (RMR) technique to investigate the orbital architecture of 14 close-in planets ranging from mini-Neptune to Jupiter-size and covering a broad range of orbital distances. While no signal is detected for the two smallest planets, we were able to constrain the sky-projected spin--orbit angle of six planets for the first time, to revise its value for six others, and, thanks to constraints on the stellar inclination, to derive the 3D orbital architecture in seven systems. These results reveal a striking three-quarters of polar orbits in our sample, all being systems with a single close-in planet but of various stellar and planetary types. High-eccentricity migration is favored to explain such orbits for several evaporating warm Neptunes, supporting the role of late migration in shaping the desert and populating its rim. Putting our measurements in the wider context of the close-in planet population will be useful to investigate the various processes shaping their architectures. |\n",
       "|<p style=\"color:green\"> **ERROR** </p>| <p style=\"color:green\">affiliation error: mpia.affiliation_verifications: 'Heidelberg' keyword not found.</p> |"
      ],
      "text/plain": [
       "<IPython.core.display.Markdown object>"
      ]
     },
     "metadata": {},
     "output_type": "display_data"
    },
    {
     "data": {
      "text/markdown": [
       "\n",
       "|||\n",
       "|---:|:---|\n",
       "| [![arXiv](https://img.shields.io/badge/arXiv-arXiv:2301.07731-b31b1b.svg)](https://arxiv.org/abs/arXiv:2301.07731) | **The geometric albedo of the hot Jupiter HD 187933b measured with CHEOPS**  |\n",
       "|| A. F. Krenn, et al. -- incl., <mark>K. Heng</mark>, <mark>M. B. Davies</mark>, <mark>M. Güdel</mark> |\n",
       "|*Appeared on*| *2023-01-20*|\n",
       "|*Comments*| *17 pages, 10 figures, accepted for publication in A&A*|\n",
       "|**Abstract**| Context.Measurements of the occultation of an exoplanet at visible wavelengths allow us to determine the reflective properties of a planetary atmosphere. The observed occultation depth can be translated into a geometric albedo. This in turn aids in characterising the structure and composition of an atmosphere by providing additional information on the wavelength-dependent reflective qualities of the aerosols in the atmosphere. Aims. Our aim is to provide a precise measurement of the geometric albedo of the gas giant HD 189733b by measuring the occultation depth in the broad optical bandpass of CHEOPS (350 - 1100 nm). Methods. We analysed 13 observations of the occultation of HD 189733b performed by CHEOPS utilising the Python package PyCHEOPS. The resulting occultation depth is then used to infer the geometric albedo accounting for the contribution of thermal emission from the planet. We also aid the analysis by refining the transit parameters combining observations made by the TESS and CHEOPS space telescopes. Results. We report the detection of an $24.7 \\pm 4.5$ ppm occultation in the CHEOPS observations. This occultation depth corresponds to a geometric albedo of $0.076 \\pm 0.016$. Our measurement is consistent with models assuming the atmosphere of the planet to be cloud-free at the scattering level and absorption in the CHEOPS band to be dominated by the resonant Na doublet. Taking into account previous optical-light occultation observations obtained with the Hubble Space Telescope, both measurements combined are consistent with a super-stellar Na elemental abundance in the dayside atmosphere of HD 189733b. We further constrain the planetary Bond albedo to between 0.013 and 0.42 at 3$\\sigma$ confidence. |\n",
       "|<p style=\"color:green\"> **ERROR** </p>| <p style=\"color:green\">affiliation error: mpia.affiliation_verifications: 'Heidelberg' keyword not found.</p> |"
      ],
      "text/plain": [
       "<IPython.core.display.Markdown object>"
      ]
     },
     "metadata": {},
     "output_type": "display_data"
    },
    {
     "data": {
      "text/markdown": [
       "\n",
       "|||\n",
       "|---:|:---|\n",
       "| [![arXiv](https://img.shields.io/badge/arXiv-arXiv:2301.07738-b31b1b.svg)](https://arxiv.org/abs/arXiv:2301.07738) | **Metal enrichment of ionised and neutral gas of galaxies in the EAGLE  simulations**  |\n",
       "|| M. Arabsalmani, et al. -- incl., <mark>L. Garratt-Smithson</mark> |\n",
       "|*Appeared on*| *2023-01-20*|\n",
       "|*Comments*| *Under review with ApJ, 12 pages, 6 figures*|\n",
       "|**Abstract**| We study the relation between the metallicities of ionised and neutral gas in star-forming galaxies at z=1-3 using the EAGLE cosmological, hydrodynamical simulations. This is done by constructing a dense grid of sightlines through the simulated galaxies and obtaining the star formation rate- and HI column density-weighted metallicities, Z_{SFR} and Z_{HI}, for each sightline as proxies for the metallicities of ionised and neutral gas, respectively. We find Z_{SFR} > Z_{HI} for almost all sightlines, with their difference generally increasing with decreasing metallicity. The stellar masses of galaxies do not have a significant effect on this trend, but the positions of the sightlines with respect to the galaxy centres play an important role: the difference between the two metallicities decreases when moving towards the galaxy centres, and saturates to a minimum value in the central regions of galaxies, irrespective of redshift and stellar mass. This implies that the mixing of the two gas phases is most efficient in the central regions of galaxies where sightlines generally have high column densities of HI. However, a high HI column density alone does not guarantee a small difference between the two metallicities. In galaxy outskirts, the inefficiency of the mixing of star-forming gas with HI seems to dominate over the dilution of heavy elements in HI through mixing with the pristine gas. We find good agreement between the limited amount of available observational data and the Z_{SFR}-Z_{HI} relation predicted by the EAGLE simulations, but more data is required for stringent tests. |\n",
       "|<p style=\"color:green\"> **ERROR** </p>| <p style=\"color:green\">affiliation error: mpia.affiliation_verifications: 'Heidelberg' keyword not found.</p> |"
      ],
      "text/plain": [
       "<IPython.core.display.Markdown object>"
      ]
     },
     "metadata": {},
     "output_type": "display_data"
    },
    {
     "data": {
      "text/markdown": [
       "\n",
       "|||\n",
       "|---:|:---|\n",
       "| [![arXiv](https://img.shields.io/badge/arXiv-arXiv:2301.07745-b31b1b.svg)](https://arxiv.org/abs/arXiv:2301.07745) | **Using [Ne V]/[Ne III] to Understand the Nature of Extreme-Ionization  Galaxies**  |\n",
       "|| Nikko J. Cleri, et al. -- incl., <mark>Steven L. Finkelstein</mark> |\n",
       "|*Appeared on*| *2023-01-20*|\n",
       "|*Comments*| *15 pages, 5 figures, submitted to ApJ*|\n",
       "|**Abstract**| Spectroscopic studies of extreme-ionization galaxies (EIGs) are critical to our understanding of exotic systems throughout cosmic time. These EIGs exhibit spectral features requiring >54.42 eV photons: the energy needed to fully ionize helium into He2+ and emit He II recombination lines. They are likely key contributors to reionization, and they can also probe exotic stellar populations or accretion onto massive black holes. To facilitate the use of EIGs as probes of high ionization, we focus on ratios constructed from strong rest-frame UV/optical emission lines, specifically [O III] 5008, H-beta, [Ne III] 3870, [O II] 3727,3729, and [Ne V] 3427. These lines probe the relative intensity at energies of 35.12, 13.62, 97.12, 40.96, and 13.62 eV, respectively, covering a wider range of ionization than traced by other common rest-frame UV/optical techniques. We use ratios of these lines ([Ne V]/[Ne III] = Ne53 and [Ne III]/[O II]), which are closely separated in wavelength, and mitigates effects of dust attenuation and uncertainties in flux calibration. We make predictions from photoionization models constructed from Cloudy that use a broad range of stellar populations and black hole accretion models to explore the sensitivity of these line ratios to changes in the ionizing spectrum. We compare our models to observations from the Hubble Space Telescope and James Webb Space Telescope of galaxies with strong high-ionization emission lines at z ~ 0, z ~ 2, and z ~ 7. We show that the Ne53 ratio can separate galaxies with ionization from 'normal' stellar populations from those with AGN and even 'exotic' Population III models. We introduce new selection methods to identify galaxies with photoionization driven by Population III stars or intermediate-mass black hole accretion disks that could be identified in upcoming high-redshift spectroscopic surveys. |\n",
       "|<p style=\"color:green\"> **ERROR** </p>| <p style=\"color:green\">affiliation error: mpia.affiliation_verifications: 'Heidelberg' keyword not found.</p> |"
      ],
      "text/plain": [
       "<IPython.core.display.Markdown object>"
      ]
     },
     "metadata": {},
     "output_type": "display_data"
    },
    {
     "data": {
      "text/markdown": [
       "\n",
       "|||\n",
       "|---:|:---|\n",
       "| [![arXiv](https://img.shields.io/badge/arXiv-arXiv:2301.07771-b31b1b.svg)](https://arxiv.org/abs/arXiv:2301.07771) | **Cosmic metal invaders: Intergalactic OVII as a tracer of the warm-hot  intergalactic medium within cosmic filaments in the EAGLE simulation**  |\n",
       "|| T. Tuominen, et al. -- incl., <mark>P. Heinämäki</mark> |\n",
       "|*Appeared on*| *2023-01-20*|\n",
       "|*Comments*| *17 pages, 13 figures, accepted for publication in Astronomy and Astrophysics. For associated video, see this https URL*|\n",
       "|**Abstract**| The current observational status of the hot (log T(K) > 5.5) warm-hot intergalactic medium (WHIM) remains incomplete. While recent observations from stacking large numbers of Cosmic Web filaments have yielded statistically significant detections, direct measurements of single objects remain scarce. The lack of such a sample currently prevents a robust analysis of the cosmic baryon content composed of the hot WHIM, which could help solve the cosmological missing baryons problem. To improve the search for the missing baryons, we used the EAGLE simulation. Our aim is to understand the metal enrichment and distribution of highly ionised metals in the Cosmic Web. We detected the filaments by applying the Bisous formalism to the simulated galaxies, and characterised the spatial distributions as well as mass and volume fractions of the filamentary oxygen and OVII. We then constructed OVII column density maps and determined their detectability with Athena X-IFU. However, the oxygen and OVII number densities drop fast beyond the virial radii of haloes, falling below detectable levels at 700 kpc. Thus, only ~1% of the filament volumes are filled with OVII at detectable densities. This non-homogeneous distribution of the OVII complicates its usage for tracing the missing baryons. Instead, OVII forms narrow envelopes around haloes. This localised nature results in a low chance (10-20% per sight line) of detecting intergalactic OVII with Athena X-IFU within the SDSS catalogue of filaments. With future filament samples from the 4MOST survey, the chances increase up to a level of ~50%. Nonetheless, based on EAGLE results, this would not be enough to conclusively solve the missing baryon problem, as it would be limited to a few times the virial radii of haloes. Fortunately, the volumes around haloes are dense in hot WHIM, and tracing it could reduce the content of baryons still missing by ~25%. |\n",
       "|<p style=\"color:green\"> **ERROR** </p>| <p style=\"color:green\">affiliation error: mpia.affiliation_verifications: 'Heidelberg' keyword not found.</p> |"
      ],
      "text/plain": [
       "<IPython.core.display.Markdown object>"
      ]
     },
     "metadata": {},
     "output_type": "display_data"
    },
    {
     "data": {
      "text/markdown": [
       "\n",
       "|||\n",
       "|---:|:---|\n",
       "| [![arXiv](https://img.shields.io/badge/arXiv-arXiv:2301.07796-b31b1b.svg)](https://arxiv.org/abs/arXiv:2301.07796) | **Grid-Based Simulations of Polar Circumbinary Disks: Polar Alignment and  Vortex Formation**  |\n",
       "|| Ian Rabago, <mark>Zhaohuan Zhu</mark>, Rebecca G. Martin, Stephen H. Lubow |\n",
       "|*Appeared on*| *2023-01-20*|\n",
       "|*Comments*| *10 pages, 11 figures, Accepted for publication in MNRAS. Visualizations of the simulations in this paper can be found online at this https URL*|\n",
       "|**Abstract**| We describe the first grid-based simulations of the polar alignment of a circumbinary disk. We simulate the evolution of an inclined disk around an eccentric binary using the grid-based code ATHENA++. The use of a grid-based numerical code allows us to explore lower disk viscosities than have been examined in previous studies. We find that the disk aligns to a polar orientation when the $\\alpha$ viscosity is high, while disks with lower viscosity nodally precess with little alignment over 1000 binary orbital periods. The timescales for polar alignment and disk precession are compared as a function of disk viscosity, and are found to be in agreement with previous studies. At very low disk viscosities (e.g. $\\alpha = 10^{-5}$), anticyclonic vortices are observed along the inner edge of the disk. These vortices can persist for thousands of binary orbits, creating azimuthally localized overdensities as well as multiple pairs of spiral arms. The vortex is formed at $\\sim 3-4$ times the binary semi-major axis, close to the inner edge of the disk, and orbits at roughly the local Keplerian speed. The presence of a vortex in the disk may play an important role in the evolution of circumbinary systems, such as driving episodic accretion and accelerating the formation of polar circumbinary planets. |\n",
       "|<p style=\"color:green\"> **ERROR** </p>| <p style=\"color:green\">affiliation error: mpia.affiliation_verifications: 'Heidelberg' keyword not found.</p> |"
      ],
      "text/plain": [
       "<IPython.core.display.Markdown object>"
      ]
     },
     "metadata": {},
     "output_type": "display_data"
    },
    {
     "data": {
      "text/markdown": [
       "\n",
       "|||\n",
       "|---:|:---|\n",
       "| [![arXiv](https://img.shields.io/badge/arXiv-arXiv:2301.07814-b31b1b.svg)](https://arxiv.org/abs/arXiv:2301.07814) | **The Planck clusters in the LOFAR sky VI. LoTSS-DR2: Properties of radio  relics**  |\n",
       "|| A. Jones, et al. -- incl., <mark>X. Zhang</mark> |\n",
       "|*Appeared on*| *2023-01-20*|\n",
       "|*Comments*| *28 pages, 17 figures. Accepted for publication in A&A*|\n",
       "|**Abstract**| Context. It is well-established that shock waves in the intracluster medium launched by galaxy cluster mergers can produce synchrotron emission, which is visible to us at radio frequencies as radio relics. However, the particle acceleration mechanism producing these relics is still not fully understood. It is also unclear how relics relate to radio halos, which trace merger-induced turbulence in the intracluster medium. Aims. We aim to perform the first statistical analysis of radio relics in a mass-selected sample of galaxy clusters, using homogeneous observations. Methods. We analysed all relics observed by the Low Frequency Array Two Metre Sky Survey Data Release 2 (LoTSS DR2) at 144 MHz, hosted by galaxy clusters in the second Planck catalogue of SZ sources (PSZ2). We measured and compared the relic properties in a uniform, unbiased way. In particular, we developed a method to describe the characteristic downstream width in a statistical manner. Additionally, we searched for differences between radio relic-hosting clusters with and without radio halos. Results. We find that, in our sample, $\\sim$ 10% of galaxy clusters host at least one radio relic. We confirm previous findings, at higher frequencies, of a correlation between the relic-cluster centre distance and the longest linear size, as well as the radio relic power and cluster mass. However, our findings suggest that we are still missing a population of low-power relics. We also find that relics are wider than theoretically expected, even with optimistic downstream conditions. Finally, we do not find evidence of a single property that separates relic-hosting clusters with and without radio halos. |\n",
       "|<p style=\"color:green\"> **ERROR** </p>| <p style=\"color:green\">affiliation error: mpia.affiliation_verifications: 'Heidelberg' keyword not found.</p> |"
      ],
      "text/plain": [
       "<IPython.core.display.Markdown object>"
      ]
     },
     "metadata": {},
     "output_type": "display_data"
    },
    {
     "data": {
      "text/markdown": [
       "\n",
       "|||\n",
       "|---:|:---|\n",
       "| [![arXiv](https://img.shields.io/badge/arXiv-arXiv:2301.07860-b31b1b.svg)](https://arxiv.org/abs/arXiv:2301.07860) | **A Multilevel Scheduling Framework for Distributed Time-domain Large-area  Sky Survey Telescope Array**  |\n",
       "|| <mark>Yajie Zhang</mark>, et al. -- incl., <mark>Zhaohui Shang</mark> |\n",
       "|*Appeared on*| *2023-01-20*|\n",
       "|*Comments*| *Accepted for publication in the Astronomical Journal*|\n",
       "|**Abstract**| Telescope arrays are receiving increasing attention due to their promise of higher resource utilization, greater sky survey area, and higher frequency of full space-time monitoring than single telescopes. Compared with the ordinary coordinated operation of several telescopes, the new astronomical observation mode has an order of magnitude difference in the number of telescopes. It requires efficient coordinated observation by large-domain telescopes distributed at different sites. Coherent modeling of various abstract environmental constraints is essential for responding to multiple complex science goals. Also, due to competing science priorities and field visibility, how the telescope arrays are scheduled for observations can significantly affect observation efficiency. This paper proposes a multilevel scheduling model oriented toward the problem of telescope-array scheduling for time-domain surveys. A flexible framework is developed with basic functionality encapsulated in software components implemented on hierarchical architectures. An optimization metric is proposed to self-consistently weight contributions from time-varying observation conditions to maintain uniform coverage and efficient time utilization from a global perspective. The performance of the scheduler is evaluated through simulated instances. The experimental results show that our scheduling framework performs correctly and provides acceptable solutions considering the percentage of time allocation efficiency and sky coverage uniformity in a feasible amount of time. Using a generic version of the telescope-array scheduling framework, we also demonstrate its scalability and its potential to be applied to other astronomical applications. |\n",
       "|<p style=\"color:green\"> **ERROR** </p>| <p style=\"color:green\">affiliation error: mpia.affiliation_verifications: 'Heidelberg' keyword not found.</p> |"
      ],
      "text/plain": [
       "<IPython.core.display.Markdown object>"
      ]
     },
     "metadata": {},
     "output_type": "display_data"
    },
    {
     "data": {
      "text/markdown": [
       "\n",
       "|||\n",
       "|---:|:---|\n",
       "| [![arXiv](https://img.shields.io/badge/arXiv-arXiv:2301.07877-b31b1b.svg)](https://arxiv.org/abs/arXiv:2301.07877) | **A disk-wind driving the rotating molecular outflow in CB 26**  |\n",
       "|| <mark>J. A. López-Vázquez</mark>, Luis A. Zapata, <mark>Chin-Fei Lee</mark> |\n",
       "|*Appeared on*| *2023-01-20*|\n",
       "|*Comments*| *9 pages, 8 figures*|\n",
       "|**Abstract**| We present 12CO (J=2-1) sensitive molecular line and 1.3 mm continuum observations made with the Submillimeter Array (SMA) of the bipolar outflow associated with the young star located in the Bok globule known as CB 26. The SMA observations were carried out in its extended configuration allowing us to study the kinematics and structure of the outflow with about 1 arcsec or 140 au resolution. We find that the dusty and edge-on circumstellar disk related with the outflow has an projected spatial (deconvolved) size of 196 au x 42 au with a total (gas and dust) mass of 0.031 Msun. We estimated a dynamical mass for the central object of 0.66 Msun, and the mass of the molecular outflow of 5x10-5 Msun. The observations confirm that the outflow rotation has a similar orientation to that of the edge-on disk. For the outflow, we find that the following quantities: the rotation velocity, the specific angular momentum, and the launching radius, decrease with the height above mid-plane, as observed in other molecular rotating outflows. The radius, and expansion velocity also increase with the height above the disk midplane. Estimations for the outflow linear momentum rate, the outflow angular momentum rate, and the accretion luminosity seem to be well explained by a disk wind present in CB26. |\n",
       "|<p style=\"color:green\"> **ERROR** </p>| <p style=\"color:green\">affiliation error: mpia.affiliation_verifications: 'Heidelberg' keyword not found.</p> |"
      ],
      "text/plain": [
       "<IPython.core.display.Markdown object>"
      ]
     },
     "metadata": {},
     "output_type": "display_data"
    },
    {
     "data": {
      "text/markdown": [
       "\n",
       "|||\n",
       "|---:|:---|\n",
       "| [![arXiv](https://img.shields.io/badge/arXiv-arXiv:2301.07878-b31b1b.svg)](https://arxiv.org/abs/arXiv:2301.07878) | **Structure and evolution of a tidally heated star**  |\n",
       "|| Diana Estrella-Trujillo, S. Jane Arthur, <mark>Gloria Koenigsberger</mark>, Edmundo Moreno |\n",
       "|*Appeared on*| *2023-01-20*|\n",
       "|*Comments*| *16 pages, 7 figures, appendix with 9 figures, A&A in Press*|\n",
       "|**Abstract**| The shearing motion of tidal flows that are excited in non-equilibrium binary stars transform kinetic energy into heat via a process referred to as tidal heating. In this paper we aim to explore the way tidal heating affects the stellar structure. We used the TIDES code, which solves the equations of motion of the three-dimensional (3D) grid of volume elements that conform multiple layers of a rotating binary star to obtain an instantaneous value for the angular velocity, $\\omega''$, as a function of position in the presence of gravitational, centrifugal, Coriolis, gas pressure, and viscous forces. The released energy, $\\dot{E,}$ was computed using a prescription for turbulent viscosity that depends on the instantaneous velocity gradients. The $\\dot{E}$ values for each radius were injected into a MESA stellar structure calculation. The method is illustrated for a 1.0+0.8 M$_\\odot$ binary system, with an orbital period of $P$=1.44d and departures from synchronous rotation of 5% and 10%. We find that heated models have a larger radius and surface luminosity, a smaller surface convection zone, and lower nuclear reaction rates than the equivalent standard stellar models, and their evolutionary tracks extend to higher temperatures. The magnitude of these effects depends on the amount of injected energy, which, for a fixed set of stellar, rotation and orbital parameters, depends on the perturbed star's density structure and turbulent viscosity. Tidal heating offers a possible alternative for describing phenomena such as bloated or overluminous binary components, age discrepancies, and aspherical mass ejection, as well as the extended main sequence turnoff in clusters. However, establishing its actual role requires 3D stellar structure models commensurate with the nonspherically symmetric properties of tidal perturbations. |\n",
       "|<p style=\"color:green\"> **ERROR** </p>| <p style=\"color:green\">affiliation error: mpia.affiliation_verifications: 'Heidelberg' keyword not found.</p> |"
      ],
      "text/plain": [
       "<IPython.core.display.Markdown object>"
      ]
     },
     "metadata": {},
     "output_type": "display_data"
    },
    {
     "data": {
      "text/markdown": [
       "\n",
       "|||\n",
       "|---:|:---|\n",
       "| [![arXiv](https://img.shields.io/badge/arXiv-arXiv:2301.07929-b31b1b.svg)](https://arxiv.org/abs/arXiv:2301.07929) | **A Radio-Gas Study of 11 Radio-quiet PG Quasars**  |\n",
       "|| Silpa S., P. Kharb, Luis C. Ho, <mark>C. M. Harrison</mark> |\n",
       "|*Appeared on*| *2023-01-20*|\n",
       "|*Comments*| *19 pages, 7 figures; submitted to ApJ*|\n",
       "|**Abstract**| We present polarization-sensitive images from the Karl G. Jansky Very Large Array (VLA) at 5~GHz of 11 radio-quiet PG quasars. Based on the radio morphology, spectral index and polarization properties from the VLA study, coupled with the findings of previous 685~MHz uGMRT data, we find evidence for bent and low-powered jets on milli or sub-arcsec and arcsec scales in 8 sources. We cannot determine the origin of radio emission (between jet/AGN wind/starburst wind) with the current data in the remaining 3 sources. Of the 11 sources, linear polarization is detected in four of them. The fractional polarization in them ranges between 2\\% to 25\\%. In PG~0050+124 and PG~1229+204, the inferred B-field direction is parallel to the local kpc-scale jet direction. Very Long Baseline Array (VLBA) data on PG~0050+124 indicates that the jet changes its direction from pc- to kpc-scales in this source. For PG~0923+129, the relationship between its B-field direction and radio outflow direction remains unclear. PG~0934+013 exhibits transverse inferred B-fields at the base of its kpc-scale jet. While there appears to be no evidence in the literature for global signatures of `AGN feedback' in this sample such as reduced molecular gas content or star-formation, scenarios like localised AGN feedback or a preliminary phase of AGN feedback, cannot be ruled out. Differences in the time-scales of gas outflows and AGN activity could also play a role. In addition, the galactic merger scenario could influence the overall interpretation of AGN feedback in these sources, given that the host galaxies in a large fraction of them show signatures of ongoing galactic mergers. |\n",
       "|<p style=\"color:green\"> **ERROR** </p>| <p style=\"color:green\">affiliation error: mpia.affiliation_verifications: 'Heidelberg' keyword not found.</p> |"
      ],
      "text/plain": [
       "<IPython.core.display.Markdown object>"
      ]
     },
     "metadata": {},
     "output_type": "display_data"
    },
    {
     "data": {
      "text/markdown": [
       "\n",
       "|||\n",
       "|---:|:---|\n",
       "| [![arXiv](https://img.shields.io/badge/arXiv-arXiv:2301.08003-b31b1b.svg)](https://arxiv.org/abs/arXiv:2301.08003) | **Gamma-ray spectroscopy of galactic nucleosynthesis**  |\n",
       "|| Roland Diehl, et al. -- incl., <mark>Martin Krause</mark> |\n",
       "|*Appeared on*| *2023-01-20*|\n",
       "|*Comments*| *6 pages, 2 figures. Invited contribution to conference 'Nuclear Physics in Astrophysics X', Geneva Sep 2022*|\n",
       "|**Abstract**| Diffuse gamma-ray emission from the decay of radioactive $^{26}$Al is a messenger from the nucleosynthesis activity in our current-day galaxy. Because this material is attributed to ejections from massive stars and their supernovae, the gamma-ray signal includes information about nucleosynthesis in massive star interiors as it varies with evolutionary stages, and about their feedback on the surrounding interstellar medium. Our method of population synthesis of massive-star groups has been refined as a diagnostic tool for this purpose. It allows to build a bottom-up prediction of the diffuse gamma-ray sky when known massive star group distributions and theoretical models of stellar evolution and core-collapse supernova explosions are employed. We find general consistency of an origin in such massive-star groups, in particular we also find support for the clumpy distribution of such source regions across the Galaxy, and characteristics of large cavities around these. A discrepancy in the integrated $^{26}$Al gamma-ray flux is interpreted as an indication for excess $^{26}$Al emission from nearby, distributed in cavities that extend over major regions of the sky. |\n",
       "|<p style=\"color:green\"> **ERROR** </p>| <p style=\"color:green\">affiliation error: mpia.affiliation_verifications: 'Heidelberg' keyword not found.</p> |"
      ],
      "text/plain": [
       "<IPython.core.display.Markdown object>"
      ]
     },
     "metadata": {},
     "output_type": "display_data"
    },
    {
     "data": {
      "text/markdown": [
       "\n",
       "|||\n",
       "|---:|:---|\n",
       "| [![arXiv](https://img.shields.io/badge/arXiv-arXiv:2301.08048-b31b1b.svg)](https://arxiv.org/abs/arXiv:2301.08048) | **CRIRES$^{+}$ on sky at the ESO Very Large Telescope**  |\n",
       "|| R. J. Dorn, et al. -- incl., <mark>U. Heiter</mark>, <mark>B. Klein</mark>, <mark>J-L. Lizon</mark> |\n",
       "|*Appeared on*| *2023-01-20*|\n",
       "|*Comments*| *Accepted for publication in Astronomy and Astrophysics*|\n",
       "|**Abstract**| The CRyogenic InfraRed Echelle Spectrograph (CRIRES) Upgrade project CRIRES$^{+}$ extended the capabilities of CRIRES. It transformed this VLT instrument into a cross-dispersed spectrograph to increase the wavelength range that is covered simultaneously by up to a factor of ten. In addition, a new detector focal plane array of three Hawaii 2RG detectors with a 5.3 $\\mu$m cutoff wavelength replaced the existing detectors. Amongst many other improvements, a new spectropolarimetric unit was added and the calibration system has been enhanced. The instrument was installed at the VLT on Unit Telescope 3 at the beginning of 2020 and successfully commissioned and verified for science operations during 2021, partly remotely from Europe due to the COVID-19 pandemic. The instrument was subsequently offered to the community from October 2021 onwards. This article describes the performance and capabilities of the upgraded instrument and presents on sky results. |\n",
       "|<p style=\"color:green\"> **ERROR** </p>| <p style=\"color:green\">affiliation error: mpia.affiliation_verifications: 'Heidelberg' keyword not found.</p> |"
      ],
      "text/plain": [
       "<IPython.core.display.Markdown object>"
      ]
     },
     "metadata": {},
     "output_type": "display_data"
    },
    {
     "data": {
      "text/markdown": [
       "\n",
       "|||\n",
       "|---:|:---|\n",
       "| [![arXiv](https://img.shields.io/badge/arXiv-arXiv:2301.08052-b31b1b.svg)](https://arxiv.org/abs/arXiv:2301.08052) | **The Planck clusters in the LOFAR sky: IV: LoTSS-DR2: statistics of radio  halos and re-acceleration models**  |\n",
       "|| R. Cassano, et al. -- incl., <mark>X. Zhang</mark> |\n",
       "|*Appeared on*| *2023-01-20*|\n",
       "|*Comments*| *12 pages, 10 figures, accepted for publication in A&A*|\n",
       "|**Abstract**| Diffuse cluster-scale synchrotron radio emission is discovered in an increasing number of galaxy clusters in the form of radio halos (RHs), probing the presence of relativistic electrons and magnetic fields in the intra-cluster medium. The favoured scenario to explain their origin is that they trace turbulent regions generated during cluster mergers where particles are re-accelerated. In this framework, RHs are expected to probe cluster dynamics and are predicted to be more frequent in massive systems. Statistical studies are important to study the connection of RHs with cluster dynamics and to constrain theoretical models. Furthermore, low-frequency surveys can shed light on the existence of RHs with very steep radio-spectra, a key prediction of turbulent models. We study the properties of RHs from clusters of the second catalog of Planck Sunyaev Zel'dovich detected sources that lie within the 5634 deg^2 covered by the second Data Release (DR2) of the LOFAR Two-meter Sky Survey. We find that the number of observed RHs, their radio flux density and redshift distributions are in line with what is expected in the framework of the re-acceleration scenario. In addition, the fraction of clusters with RHs increases with the cluster mass, confirming the leading role of the gravitational process of cluster formation in the generation of RHs. These models predict a large fraction of RHs with very steep spectrum in the DR2 Planck sample, this will be tested in future studies, yet a comparison of the occurrence of halos in GMRT and LOFAR samples indeed shows a larger occurrence of RHs at lower frequencies suggesting the presence of a number of very steep spectrum RH that is preferentially detected by LOFAR. Using morphological information we confirm that RHs are preferentially located in merging systems and that the fraction of newly LOFAR discovered RHs is larger in less disturbed systems. |\n",
       "|<p style=\"color:green\"> **ERROR** </p>| <p style=\"color:green\">affiliation error: mpia.affiliation_verifications: 'Heidelberg' keyword not found.</p> |"
      ],
      "text/plain": [
       "<IPython.core.display.Markdown object>"
      ]
     },
     "metadata": {},
     "output_type": "display_data"
    },
    {
     "data": {
      "text/markdown": [
       "\n",
       "|||\n",
       "|---:|:---|\n",
       "| [![arXiv](https://img.shields.io/badge/arXiv-arXiv:2301.08162-b31b1b.svg)](https://arxiv.org/abs/arXiv:2301.08162) | **Characterization of a set of small planets with TESS and CHEOPS and an  analysis of photometric performance**  |\n",
       "|| Dominic Oddo, et al. -- incl., <mark>Mallory Harris</mark>, <mark>Richard P. Schwarz</mark>, <mark>Guillermo Torres</mark>, <mark>Joseph D. Twicken</mark>, <mark>Carl Ziegler</mark> |\n",
       "|*Appeared on*| *2023-01-20*|\n",
       "|*Comments*| *Accepted for publication in AJ*|\n",
       "|**Abstract**| The radius valley carries implications for how the atmospheres of small planets form and evolve, but this feature is only visible with highly-precise characterizations of many small planets. We present the characterization of 9 planets and one planet candidate with both NASA TESS and ESA CHEOPS observations, which adds to the overall population of planets bordering the radius valley. While five of our planets - TOI 118 b, TOI 262 b, TOI 455 b, TOI 560 b, and TOI 562 b - have already been published, we vet and validate transit signals as planetary using followup observations for four new TESS planets, including TOI 198 b, TOI 244 b, TOI 444 b, and TOI 470 b. While a three times increase in primary mirror size should mean that one CHEOPS transit yields an equivalent model uncertainty in transit depth as about nine TESS transits under ideal conditions, we find that our CHEOPS transits typically yield uncertainties equivalent to between 2 and 12 TESS transits, averaging 5.9 equivalent transits. Therefore, we find that while our fits to CHEOPS transits provide overall lower uncertainties on transit depth and better precision relative to fits to TESS transits, our uncertainties for these fits do not always match expected predictions given photon-limited noise. We find no correlations between number of equivalent transits and any physical parameters, indicating that this behavior is not strictly systematic, but rather might be due to other factors such as in-transit gaps during CHEOPS visits or non-homogeneous detrending of CHEOPS light curves. |\n",
       "|<p style=\"color:green\"> **ERROR** </p>| <p style=\"color:green\">affiliation error: mpia.affiliation_verifications: 'Heidelberg' keyword not found.</p> |"
      ],
      "text/plain": [
       "<IPython.core.display.Markdown object>"
      ]
     },
     "metadata": {},
     "output_type": "display_data"
    },
    {
     "data": {
      "text/markdown": [
       "\n",
       "|||\n",
       "|---:|:---|\n",
       "| [![arXiv](https://img.shields.io/badge/arXiv-arXiv:2301.07760-b31b1b.svg)](https://arxiv.org/abs/arXiv:2301.07760) | **Astronomical Detection of the Interstellar Anion C10H- towards TMC-1  from the GOTHAM Large Program on the GBT**  |\n",
       "|| Anthony Remijan, et al. -- incl., <mark>Eric Herbst</mark>, <mark>Kin Long Kelvin Lee</mark> |\n",
       "|*Appeared on*| *2023-01-20*|\n",
       "|*Comments*| *38 Pages, 24 Figures, 12 Tables, 8 Appendices*|\n",
       "|**Abstract**| Using data from the GOTHAM (GBT Observations of TMC-1: Hunting for Aromatic Molecules) survey, we report the first astronomical detection of the C10H- anion. The astronomical observations also provided the necessary data to refine the spectroscopic parameters of C10H-. From the velocity stacked data and the matched filter response, C10H- is detected at >9{\\sigma} confidence level at a column density of 4.04e11 cm-2. A dedicated search for the C10H radical was also conducted towards TMC-1. In this case, the stacked molecular emission of C10H was detected at a ~3.2{\\sigma} confidence interval at a column density of 2.02e11 cm-2. However, since the determined confidence level is currently <5{\\sigma}, we consider the identification of C10H as tentative. The full GOTHAM dataset was also used to better characterize the physical parameters including column density, excitation temperature, linewidth, and source size for the C4H, C6H and C8H radicals and their respective anions, and the measured column densities were compared to the predictions from a gas/grain chemical formation model and from a machine learning analysis. Given the measured values, the C10H-/C10H column density ratio is ~2.0 - the highest value measured between an anion and neutral species to date. Such a high ratio is at odds with current theories for interstellar anion chemistry. For the radical species, both models can reproduce the measured abundances found from the survey; however, the machine learning analysis matches the detected anion abundances much better than the gas/grain chemical model, suggesting that the current understanding of the formation chemistry of molecular anions is still highly uncertain. |\n",
       "|<p style=\"color:red\"> **ERROR** </p>| <p style=\"color:red\">latex error not a gzip file</p> |"
      ],
      "text/plain": [
       "<IPython.core.display.Markdown object>"
      ]
     },
     "metadata": {},
     "output_type": "display_data"
    },
    {
     "data": {
      "text/markdown": [
       "\n",
       "|||\n",
       "|---:|:---|\n",
       "| [![arXiv](https://img.shields.io/badge/arXiv-arXiv:2301.08071-b31b1b.svg)](https://arxiv.org/abs/arXiv:2301.08071) | **The GRAVITY+ Project: Towards All-sky, Faint-Science, High-Contrast  Near-Infrared Interferometry at the VLTI**  |\n",
       "|| GRAVITY+ Collaboration, et al. -- incl., <mark>Helen Bedigan</mark>, <mark>Henri Bonnet</mark>, <mark>Ric Davies</mark>, <mark>Frank Eisenhauer</mark>, <mark>Helmut Feuchtgruber</mark>, <mark>Natascha M. Förster Schreiber</mark> |\n",
       "|*Appeared on*| *2023-01-20*|\n",
       "|*Comments*| *Published in the ESO Messenger*|\n",
       "|**Abstract**| The GRAVITY instrument has been revolutionary for near-infrared interferometry by pushing sensitivity and precision to previously unknown limits. With the upgrade of GRAVITY and the Very Large Telescope Interferometer (VLTI) in GRAVITY+, these limits will be pushed even further, with vastly improved sky coverage, as well as faint-science and high-contrast capabilities. This upgrade includes the implementation of wide-field off-axis fringe-tracking, new adaptive optics systems on all Unit Telescopes, and laser guide stars in an upgraded facility. GRAVITY+ will open up the sky to the measurement of black hole masses across cosmic time in hundreds of active galactic nuclei, use the faint stars in the Galactic centre to probe General Relativity, and enable the characterisation of dozens of young exoplanets to study their formation, bearing the promise of another scientific revolution to come at the VLTI. |\n",
       "|<p style=\"color:red\"> **ERROR** </p>| <p style=\"color:red\">latex error not a gzip file</p> |"
      ],
      "text/plain": [
       "<IPython.core.display.Markdown object>"
      ]
     },
     "metadata": {},
     "output_type": "display_data"
    }
   ],
   "source": [
    "import datetime\n",
    "today = str(datetime.date.today())\n",
    "logfile = f\"_build/html/logs/log-{today}.md\"\n",
    "\n",
    "\n",
    "with open(logfile, 'w') as logs:\n",
    "    # Success\n",
    "    logs.write(f'# Arxiv on Deck 2: Logs - {today}\\n\\n')\n",
    "    logs.write(\"\"\"* Arxiv had {0:,d} new papers\\n\"\"\".format(len(new_papers)))\n",
    "    logs.write(\"\"\"    * {0:,d} with possible author matches\\n\\n\"\"\".format(len(candidates)))\n",
    "    logs.write(\"## Sucessful papers\\n\\n\")\n",
    "    display(Markdown(\"## Successful papers\"))\n",
    "    success = [k[0] for k in documents]\n",
    "    for candid in candidates:\n",
    "        if candid['identifier'].split(':')[-1] in success:\n",
    "            display(candid)\n",
    "            logs.write(candid.generate_markdown_text() + '\\n\\n')\n",
    "\n",
    "    ## failed\n",
    "    logs.write(\"## Failed papers\\n\\n\")\n",
    "    display(Markdown(\"## Failed papers\"))\n",
    "    failed = sorted(failed, key=lambda x: x[1])\n",
    "    current_reason = \"\"\n",
    "    for paper, reason in failed:\n",
    "        if 'affiliation' in reason:\n",
    "            color = 'green'\n",
    "        else:\n",
    "            color = 'red'\n",
    "        data = Markdown(\n",
    "                paper.generate_markdown_text() + \n",
    "                f'\\n|<p style=\"color:{color:s}\"> **ERROR** </p>| <p style=\"color:{color:s}\">{reason:s}</p> |'\n",
    "               )\n",
    "        if reason != current_reason:\n",
    "            logs.write(f'### {reason:s} \\n\\n')\n",
    "            current_reason = reason\n",
    "        logs.write(data.data + '\\n\\n')\n",
    "        \n",
    "        # only display here the important errors (all in logs)\n",
    "        # if color in ('red',):\n",
    "        display(data)"
   ]
  },
  {
   "cell_type": "markdown",
   "id": "472d20ee",
   "metadata": {
    "papermill": {
     "duration": 0.008298,
     "end_time": "2023-01-20T04:09:02.460068",
     "exception": false,
     "start_time": "2023-01-20T04:09:02.451770",
     "status": "completed"
    },
    "tags": []
   },
   "source": [
    "## Export documents\n",
    "\n",
    "We now write the .md files and export relevant images"
   ]
  },
  {
   "cell_type": "code",
   "execution_count": 7,
   "id": "d426aed9",
   "metadata": {
    "execution": {
     "iopub.execute_input": "2023-01-20T04:09:02.479761Z",
     "iopub.status.busy": "2023-01-20T04:09:02.479054Z",
     "iopub.status.idle": "2023-01-20T04:09:02.487491Z",
     "shell.execute_reply": "2023-01-20T04:09:02.486790Z"
    },
    "papermill": {
     "duration": 0.019827,
     "end_time": "2023-01-20T04:09:02.488855",
     "exception": false,
     "start_time": "2023-01-20T04:09:02.469028",
     "status": "completed"
    },
    "tags": []
   },
   "outputs": [],
   "source": [
    "def export_markdown_summary(md: str, md_fname:str, directory: str):\n",
    "    \"\"\"Export MD document and associated relevant images\"\"\"\n",
    "    import os\n",
    "    import shutil\n",
    "    import re\n",
    "\n",
    "    if (os.path.exists(directory) and not os.path.isdir(directory)):\n",
    "        raise RuntimeError(f\"a non-directory file exists with name {directory:s}\")\n",
    "\n",
    "    if (not os.path.exists(directory)):\n",
    "        print(f\"creating directory {directory:s}\")\n",
    "        os.mkdir(directory)\n",
    "\n",
    "    fig_fnames = (re.compile(r'\\[Fig.*\\]\\((.*)\\)').findall(md) + \n",
    "                  re.compile(r'\\<img src=\"([^>\\s]*)\"[^>]*/>').findall(md))\n",
    "    for fname in fig_fnames:\n",
    "        if 'http' in fname:\n",
    "            # No need to copy online figures\n",
    "            continue\n",
    "        destdir = os.path.join(directory, os.path.dirname(fname))\n",
    "        destfname = os.path.join(destdir, os.path.basename(fname))\n",
    "        try:\n",
    "            os.makedirs(destdir)\n",
    "        except FileExistsError:\n",
    "            pass\n",
    "        shutil.copy(fname, destfname)\n",
    "    with open(os.path.join(directory, md_fname), 'w') as fout:\n",
    "        fout.write(md)\n",
    "    print(\"exported in \", os.path.join(directory, md_fname))\n",
    "    [print(\"    + \" + os.path.join(directory,fk)) for fk in fig_fnames]"
   ]
  },
  {
   "cell_type": "code",
   "execution_count": 8,
   "id": "014d04a4",
   "metadata": {
    "execution": {
     "iopub.execute_input": "2023-01-20T04:09:02.507804Z",
     "iopub.status.busy": "2023-01-20T04:09:02.507194Z",
     "iopub.status.idle": "2023-01-20T04:09:02.512959Z",
     "shell.execute_reply": "2023-01-20T04:09:02.512281Z"
    },
    "papermill": {
     "duration": 0.016886,
     "end_time": "2023-01-20T04:09:02.514360",
     "exception": false,
     "start_time": "2023-01-20T04:09:02.497474",
     "status": "completed"
    },
    "tags": []
   },
   "outputs": [
    {
     "name": "stdout",
     "output_type": "stream",
     "text": [
      "exported in  _build/html/2301.07990.md\n",
      "    + _build/html/tmp_2301.07990/./timing_cleanfig9.png\n",
      "    + _build/html/tmp_2301.07990/./timing_cleanfig3.png\n",
      "    + _build/html/tmp_2301.07990/./timing_cleanfig4.png\n"
     ]
    }
   ],
   "source": [
    "for paper_id, md in documents:\n",
    "    export_markdown_summary(md, f\"{paper_id:s}.md\", '_build/html/')"
   ]
  },
  {
   "cell_type": "markdown",
   "id": "f087a0a7",
   "metadata": {
    "papermill": {
     "duration": 0.008279,
     "end_time": "2023-01-20T04:09:02.530812",
     "exception": false,
     "start_time": "2023-01-20T04:09:02.522533",
     "status": "completed"
    },
    "tags": []
   },
   "source": [
    "## Display the papers\n",
    "\n",
    "Not necessary but allows for a quick check."
   ]
  },
  {
   "cell_type": "code",
   "execution_count": 9,
   "id": "fd25f625",
   "metadata": {
    "execution": {
     "iopub.execute_input": "2023-01-20T04:09:02.549353Z",
     "iopub.status.busy": "2023-01-20T04:09:02.548643Z",
     "iopub.status.idle": "2023-01-20T04:09:02.553818Z",
     "shell.execute_reply": "2023-01-20T04:09:02.553223Z"
    },
    "papermill": {
     "duration": 0.01654,
     "end_time": "2023-01-20T04:09:02.555599",
     "exception": false,
     "start_time": "2023-01-20T04:09:02.539059",
     "status": "completed"
    },
    "scrolled": false,
    "tags": []
   },
   "outputs": [
    {
     "data": {
      "text/markdown": [
       "<div class=\"macros\" style=\"visibility:hidden;\">\n",
       "$\\newcommand{\\ensuremath}{}$\n",
       "$\\newcommand{\\xspace}{}$\n",
       "$\\newcommand{\\object}[1]{\\texttt{#1}}$\n",
       "$\\newcommand{\\farcs}{{.}''}$\n",
       "$\\newcommand{\\farcm}{{.}'}$\n",
       "$\\newcommand{\\arcsec}{''}$\n",
       "$\\newcommand{\\arcmin}{'}$\n",
       "$\\newcommand{\\ion}[2]{#1#2}$\n",
       "$\\newcommand{\\textsc}[1]{\\textrm{#1}}$\n",
       "$\\newcommand{\\hl}[1]{\\textrm{#1}}$\n",
       "$\\newcommand{\\kepler}[0]{\\emph{Kepler}}$\n",
       "$\\newcommand{\\gaia}[0]{\\emph{Gaia}}$\n",
       "$\\newcommand{\\mmode}[1]{\\ifmmode{#1}\\else{#1}\\fi}$\n",
       "$\\newcommand{\\Dnu}[0]{\\mmode{\\Delta\\nu}}$\n",
       "$\\newcommand{\\numax}[0]{\\mmode{\\nu_\\text{max}}}$\n",
       "$\\newcommand{\\Teff}[0]{\\mmode{T_\\text{eff}}~}$\n",
       "$\\newcommand{\\liyg}[1]{{\\color{orange} #1}}$\n",
       "$\\newcommand$\n",
       "$\\newcommand{\\thebibliography}{\\DeclareRobustCommand{\\VAN}[3]{##3}\\VANthebibliography}$</div>\n",
       "\n",
       "<div class=\"macros\" style=\"visibility:hidden;\">\n",
       "$\\newcommand{$\\ensuremath$}{}$\n",
       "$\\newcommand{$\\xspace$}{}$\n",
       "$\\newcommand{$\\object$}[1]{\\texttt{#1}}$\n",
       "$\\newcommand{$\\farcs$}{{.}''}$\n",
       "$\\newcommand{$\\farcm$}{{.}'}$\n",
       "$\\newcommand{$\\arcsec$}{''}$\n",
       "$\\newcommand{$\\arcmin$}{'}$\n",
       "$\\newcommand{$\\ion$}[2]{#1#2}$\n",
       "$\\newcommand{$\\textsc$}[1]{\\textrm{#1}}$\n",
       "$\\newcommand{$\\hl$}[1]{\\textrm{#1}}$\n",
       "$\\newcommand{$\\kepler$}[0]{\\emph{Kepler}}$\n",
       "$\\newcommand{$\\gaia$}[0]{\\emph{Gaia}}$\n",
       "$\\newcommand{$\\mmode$}[1]{\\ifmmode{#1}\\else{#1}\\fi}$\n",
       "$\\newcommand{$\\Dnu$}[0]{$\\mmode${\\Delta\\nu}}$\n",
       "$\\newcommand{$\\numax$}[0]{$\\mmode${\\nu_\\text{max}}}$\n",
       "$\\newcommand{$\\Teff$}[0]{$\\mmode${T_\\text{eff}}~}$\n",
       "$\\newcommand{$\\liyg$}[1]{{\\color{orange} #1}}$\n",
       "$\\newcommand$\n",
       "$\\newcommand{$\\thebibliography$}{\\DeclareRobustCommand{\\VAN}[3]{##3}\\VANthebibliography}$</div>\n",
       "\n",
       "\n",
       "\n",
       "<div id=\"title\">\n",
       "\n",
       "# Timing the formation of the Galactic thin disc with asteroseismic stellar ages\n",
       "\n",
       "</div>\n",
       "<div id=\"comments\">\n",
       "\n",
       "[![arXiv](https://img.shields.io/badge/arXiv-2301.07990-b31b1b.svg)](https://arxiv.org/abs/2301.07990)<mark>Appeared on: 2023-01-20</mark> - _17 pages, 13 figures, accepted by MNRAS_\n",
       "\n",
       "</div>\n",
       "<div id=\"authors\">\n",
       "\n",
       "Wu Yaqian, et al. -- incl., <mark><mark>Zhao Gang</mark></mark>, <mark><mark>Li Yaguang</mark></mark>\n",
       "\n",
       "</div>\n",
       "<div id=\"abstract\">\n",
       "\n",
       "**Abstract:** The formation of the extended thin disc is the most spectacular event of our Galaxy in the past$\\sim8$Gyr. To unveil this process, obtaining precise and accurate stellar ages for a large sample of stars is essential although challenging.In this work, we present the asteroseismic age determination of 5306 red giant branch stars using$\\kepler$and LAMOST data, with a thorough examination of how the age determination is affected by the choice of different temperature scales and stellar models. Thanks to the high precision of the asteroseismic and spectroscopic parameters of our sample stars, we are able to achieve age determination with an average accuracy of 12 per cent. However, the age determination is sensitively dependent on the adopted temperature scale, as 50 K difference in effective temperature may cause larger than 10 per cent systematic uncertainty in the age estimates. Using the ages derived with the most plausible set of the temperature scale, we study the age distribution of the chemical thin disc stars, and present an estimate of the formation epoch of the first Galactic thin disc stars. We find that the first (oldest) thin disc stars have an age of$9.5^{+0.5(\\rm rand.)+0.5(\\rm sys.)}_{-0.4(\\rm rand.)-0.3(\\rm sys.)}$Gyr, where the systematic uncertainties reflect ages estimated using different stellar evolutionary models. At this epoch, the Galactic thick disc was still forming stars, indicating there is a time window when both the thin and thick discs of our Galaxy were forming stars together. Moreover, we find that the first thin disc stars exhibit a broad distribution of Galactocentric radii, suggesting that the inner and outer thin discs began to form simultaneously.\n",
       "\n",
       "</div>\n",
       "\n",
       "<div id=\"div_fig1\">\n",
       "\n",
       "<img src=\"tmp_2301.07990/./timing_cleanfig9.png\" alt=\"Fig9\" width=\"100%\"/>\n",
       "\n",
       "**Figure 9. -** Age distribution histogram for the thin (black) and thick disc (grey) stars. The red line and squares represent the mock data set that best fits the the observed age histogram for determining the upper age bound of the thin disc stars (see main text). The fit suggests an upper bound of 9.5 Gyr for the intrinsic ages of the thin disc stars. (*fig6*)\n",
       "\n",
       "</div>\n",
       "<div id=\"div_fig2\">\n",
       "\n",
       "<img src=\"tmp_2301.07990/./timing_cleanfig3.png\" alt=\"Fig3\" width=\"100%\"/>\n",
       "\n",
       "**Figure 3. -** {\\em left}: Differential temperature between the LAMOST DD-Payne estimates and the photometric estimates using the \\citet{Gonz2009} temperature scale as a function of [Fe/H] with colour-coded stellar number density.\n",
       "    The solid line in black shows a linear fit to the difference for the disc stars, and it yields a negative trend of $\\Delta$Teff= -54.9690 - 86.8584$\\times$[Fe/H]. {\\em Right}: Same as the left panel, but for temperature difference between the LAMOST DD-Payne estimates and the photometric estimates using the \\citet{Huang2015} temperature scale. A linear fit (black) is found to well reproduce the systematic trend for the disc stars: $\\Delta$Teff= 29.8236 - 27.8769$\\times$[Fe/H]. (*fig:fig2*)\n",
       "\n",
       "</div>\n",
       "<div id=\"div_fig3\">\n",
       "\n",
       "<img src=\"tmp_2301.07990/./timing_cleanfig4.png\" alt=\"Fig4\" width=\"100%\"/>\n",
       "\n",
       "**Figure 4. -** {\\em Left}: Distributions of age estimates, as well as their error estimates, for the RGB sample stars. {\\em Right}: Spatial distribution of the RGB sample stars with colour-coded ages in the $R$ and $Z$ plane. (*fig4*)\n",
       "\n",
       "</div>"
      ],
      "text/plain": [
       "<IPython.core.display.Markdown object>"
      ]
     },
     "metadata": {},
     "output_type": "display_data"
    }
   ],
   "source": [
    "[display(Markdown(k[1])) for k in documents];"
   ]
  },
  {
   "cell_type": "markdown",
   "id": "873873a4",
   "metadata": {
    "papermill": {
     "duration": 0.044567,
     "end_time": "2023-01-20T04:09:02.608665",
     "exception": false,
     "start_time": "2023-01-20T04:09:02.564098",
     "status": "completed"
    },
    "tags": []
   },
   "source": [
    "# Create HTML index"
   ]
  },
  {
   "cell_type": "code",
   "execution_count": 10,
   "id": "cf665672",
   "metadata": {
    "execution": {
     "iopub.execute_input": "2023-01-20T04:09:02.628373Z",
     "iopub.status.busy": "2023-01-20T04:09:02.627407Z",
     "iopub.status.idle": "2023-01-20T04:09:02.641406Z",
     "shell.execute_reply": "2023-01-20T04:09:02.640763Z"
    },
    "papermill": {
     "duration": 0.025386,
     "end_time": "2023-01-20T04:09:02.642732",
     "exception": false,
     "start_time": "2023-01-20T04:09:02.617346",
     "status": "completed"
    },
    "tags": []
   },
   "outputs": [
    {
     "name": "stdout",
     "output_type": "stream",
     "text": [
      "176  publications in the last 7 days.\n",
      "\t _build/html/2301.07990.md\n",
      "\t _build/html/2301.07366.md\n",
      "\t _build/html/2301.07199.md\n",
      "\t _build/html/2301.07116.md\n",
      "\t _build/html/2301.06873.md\n",
      "\t _build/html/2301.06819.md\n",
      "\t _build/html/2301.06575.md\n",
      "\t _build/html/2301.05720.md\n",
      "\t _build/html/2301.05718.md\n",
      "\t _build/html/2301.05034.md\n",
      "\t _build/html/2301.04656.md\n",
      "\t _build/html/2301.04533.md\n",
      "\t _build/html/2301.04442.md\n",
      "\t _build/html/2301.03811.md\n",
      "\t _build/html/2301.03689.md\n",
      "\t _build/html/2301.03387.md\n",
      "\t _build/html/2301.03209.md\n",
      "\t _build/html/2301.02671.md\n",
      "\t _build/html/2301.02477.md\n",
      "\t _build/html/2301.02313.md\n",
      "\t _build/html/2301.02265.md\n",
      "\t _build/html/2301.01937.md\n",
      "\t _build/html/2301.01895.md\n",
      "\t _build/html/2301.01684.md\n",
      "\t _build/html/2301.01306.md\n",
      "\t _build/html/2301.00881.md\n",
      "\t _build/html/2301.00854.md\n",
      "\t _build/html/2301.00578.md\n",
      "\t _build/html/2212.12039.md\n",
      "\t _build/html/2212.11991.md\n",
      "\t _build/html/2212.11425.md\n",
      "\t _build/html/2212.11177.md\n",
      "\t _build/html/2212.10804.md\n",
      "\t _build/html/2212.10512.md\n",
      "\t _build/html/2212.09766.md\n",
      "\t _build/html/2212.09675.md\n",
      "\t _build/html/2212.09661.md\n",
      "\t _build/html/2212.09652.md\n",
      "\t _build/html/2212.09443.md\n",
      "\t _build/html/2212.09307.md\n",
      "\t _build/html/2212.09168.md\n",
      "\t _build/html/2212.09159.md\n",
      "\t _build/html/2212.08702.md\n",
      "\t _build/html/2212.07332.md\n",
      "\t _build/html/2212.06434.md\n",
      "\t _build/html/2212.04710.md\n",
      "\t _build/html/2212.04026.md\n",
      "\t _build/html/2212.03563.md\n",
      "\t _build/html/2212.03514.md\n",
      "\t _build/html/2212.02667.md\n",
      "\t _build/html/2212.02627.md\n",
      "\t _build/html/2212.02235.md\n",
      "\t _build/html/2212.01707.md\n",
      "\t _build/html/2212.01526.md\n",
      "\t _build/html/2212.01397.md\n",
      "\t _build/html/2212.01291.md\n",
      "\t _build/html/2212.01281.md\n",
      "\t _build/html/2212.00812.md\n",
      "\t _build/html/2212.00811.md\n",
      "\t _build/html/2212.00806.md\n",
      "\t _build/html/2212.00047.md\n",
      "\t _build/html/2212.00032.md\n",
      "\t _build/html/2211.16996.md\n",
      "\t _build/html/2211.16510.md\n",
      "\t _build/html/2211.16123.md\n",
      "\t _build/html/2211.15816.md\n",
      "\t _build/html/2211.15698.md\n",
      "\t _build/html/2211.15576.md\n",
      "\t _build/html/2211.15434.md\n",
      "\t _build/html/2211.15288.md\n",
      "\t _build/html/2211.15224.md\n",
      "\t _build/html/2211.14543.md\n",
      "\t _build/html/2211.14330.md\n",
      "\t _build/html/2211.14322.md\n",
      "\t _build/html/2211.14132.md\n",
      "\t _build/html/2211.13811.md\n",
      "\t _build/html/2211.13426.md\n",
      "\t _build/html/2211.13318.md\n",
      "\t _build/html/2211.13146.md\n",
      "\t _build/html/2211.12613.md\n",
      "\t _build/html/2211.11767.md\n",
      "\t _build/html/2211.09840.md\n",
      "\t _build/html/2211.09217.md\n",
      "\t _build/html/2211.08493.md\n",
      "\t _build/html/2211.08487.md\n",
      "\t _build/html/2211.08294.md\n",
      "\t _build/html/2211.07667.md\n",
      "\t _build/html/2211.07659.md\n",
      "\t _build/html/2211.06454.md\n",
      "\t _build/html/2211.06205.md\n",
      "\t _build/html/2211.06194.md\n",
      "\t _build/html/2211.05022.md\n",
      "\t _build/html/2211.04048.md\n",
      "\t _build/html/2211.03641.md\n",
      "\t _build/html/2211.02502.md\n",
      "\t _build/html/2211.01474.md\n",
      "\t _build/html/2211.00667.md\n",
      "\t _build/html/2211.00657.md\n",
      "\t _build/html/2211.00087.md\n",
      "\t _build/html/2211.00036.md\n",
      "\t _build/html/2211.00020.md\n",
      "\t _build/html/2211.00010.md\n",
      "\t _build/html/2210.17434.md\n",
      "\t _build/html/2210.12412.md\n",
      "\t _build/html/2210.11926.md\n",
      "\t _build/html/2210.11551.md\n",
      "\t _build/html/2210.11103.md\n",
      "\t _build/html/2210.10707.md\n",
      "\t _build/html/2210.09930.md\n",
      "\t _build/html/2210.08996.md\n",
      "\t _build/html/2210.08517.md\n",
      "\t _build/html/2210.08510.md\n",
      "\t _build/html/2210.08078.md\n",
      "\t _build/html/2210.06504.md\n",
      "\t _build/html/2210.05695.md\n",
      "\t _build/html/2210.05595.md\n",
      "\t _build/html/2210.05505.md\n",
      "\t _build/html/2210.04721.md\n",
      "\t _build/html/2210.03615.md\n",
      "\t _build/html/2210.01811.md\n",
      "\t _build/html/2210.01809.md\n",
      "\t _build/html/2210.01556.md\n",
      "\t _build/html/2210.00863.md\n",
      "\t _build/html/2210.00560.md\n",
      "\t _build/html/2209.15403.md\n",
      "\t _build/html/2209.15110.md\n",
      "\t _build/html/2209.14410.md\n",
      "\t _build/html/2209.14396.md\n",
      "\t _build/html/2209.13717.md\n",
      "\t _build/html/2209.13336.md\n",
      "\t _build/html/2209.12906.md\n",
      "\t _build/html/2209.11781.md\n",
      "\t _build/html/2209.11602.md\n",
      "\t _build/html/2209.11248.md\n",
      "\t _build/html/2209.11096.md\n",
      "\t _build/html/2209.10618.md\n",
      "\t _build/html/2209.09914.md\n",
      "\t _build/html/2209.09823.md\n",
      "\t _build/html/2209.08242.md\n",
      "\t _build/html/2209.08120.md\n",
      "\t _build/html/2209.08106.md\n",
      "\t _build/html/2209.07962.md\n",
      "\t _build/html/2209.07931.md\n",
      "\t _build/html/2209.06833.md\n",
      "\t _build/html/2209.05814.md\n",
      "\t _build/html/2209.05593.md\n",
      "\t _build/html/2209.04304.md\n",
      "\t _build/html/2209.03367.md\n",
      "\t _build/html/2209.02872.md\n",
      "\t _build/html/2209.02725.md\n",
      "\t _build/html/2209.02722.md\n",
      "\t _build/html/2209.02092.md\n",
      "\t _build/html/2209.01125.md\n",
      "\t _build/html/2209.00828.md\n",
      "\t _build/html/2209.00363.md\n",
      "\t _build/html/2208.14927.md\n",
      "\t _build/html/2208.09335.md\n",
      "\t _build/html/2208.08872.md\n",
      "\t _build/html/2204.06393.md\n",
      "\t _build/html/2204.03335.md\n",
      "\t _build/html/2204.03253.md\n",
      "\t _build/html/2204.02998.md\n",
      "\t _build/html/2204.02109.md\n",
      "\t _build/html/2204.02017.md\n",
      "\t _build/html/2204.01824.md\n",
      "\t _build/html/2204.01758.md\n",
      "\t _build/html/2204.01245.md\n",
      "\t _build/html/2204.00793.md\n",
      "\t _build/html/2204.00342.md\n",
      "\t _build/html/2203.16959.md\n",
      "\t _build/html/2203.16856.md\n",
      "\t _build/html/2203.16735.md\n",
      "\t _build/html/2203.16734.md\n",
      "\t _build/html/2203.16504.md\n",
      "\t _build/html/2203.15822.md\n",
      "\t _build/html/2203.15811.md\n"
     ]
    }
   ],
   "source": [
    "from datetime import datetime, timedelta, timezone\n",
    "from glob import glob\n",
    "\n",
    "files = glob('_build/html/*.md')\n",
    "days = 7\n",
    "now = datetime.today()\n",
    "res = []\n",
    "for fk in files:\n",
    "    stat_result = os.stat(fk).st_ctime\n",
    "    modified = datetime.fromtimestamp(stat_result, tz=timezone.utc).replace(tzinfo=None)\n",
    "    delta = now.today() - modified\n",
    "    if delta <= timedelta(days=days):\n",
    "        res.append((delta.seconds, fk))\n",
    "res = [k[1] for k in reversed(sorted(res, key=lambda x:x[1]))]\n",
    "npub = len(res)\n",
    "print(len(res), f\" publications in the last {days:d} days.\")\n",
    "[ print('\\t', k) for k in res ];"
   ]
  },
  {
   "cell_type": "code",
   "execution_count": 11,
   "id": "015de740",
   "metadata": {
    "execution": {
     "iopub.execute_input": "2023-01-20T04:09:02.661685Z",
     "iopub.status.busy": "2023-01-20T04:09:02.661148Z",
     "iopub.status.idle": "2023-01-20T04:09:02.680934Z",
     "shell.execute_reply": "2023-01-20T04:09:02.680118Z"
    },
    "papermill": {
     "duration": 0.031075,
     "end_time": "2023-01-20T04:09:02.682635",
     "exception": false,
     "start_time": "2023-01-20T04:09:02.651560",
     "status": "completed"
    },
    "tags": []
   },
   "outputs": [
    {
     "name": "stdout",
     "output_type": "stream",
     "text": [
      "11  publications in the last 7 days.\n"
     ]
    }
   ],
   "source": [
    "import datetime\n",
    "from glob import glob\n",
    "\n",
    "def get_last_n_days(lst, days=1):\n",
    "    \"\"\" Get the documents from the last n days \"\"\"\n",
    "    sorted_lst = sorted(lst, key=lambda x: x[1], reverse=True)\n",
    "    for fname, date in sorted_lst:\n",
    "        if date >= str(datetime.date.today() - datetime.timedelta(days=days)):\n",
    "            yield fname\n",
    "\n",
    "def extract_appearance_dates(lst_file):\n",
    "    dates = []\n",
    "\n",
    "    def get_date(line):\n",
    "        return line\\\n",
    "            .split('Appeared on:')[-1]\\\n",
    "            .split('</mark>')[0].strip()\n",
    "\n",
    "    for fname in lst:\n",
    "        with open(fname, 'r') as f:\n",
    "            found_date = False\n",
    "            for line in f:\n",
    "                if not found_date:\n",
    "                    if \"Appeared on\" in line:\n",
    "                        found_date = True\n",
    "                        dates.append((fname, get_date(line)))\n",
    "                else:\n",
    "                    break\n",
    "    return dates\n",
    "\n",
    "from glob import glob\n",
    "lst = glob('_build/html/*md')\n",
    "days = 7\n",
    "dates = extract_appearance_dates(lst)\n",
    "res = list(get_last_n_days(dates, days))\n",
    "npub = len(res)\n",
    "print(len(res), f\" publications in the last {days:d} days.\")"
   ]
  },
  {
   "cell_type": "code",
   "execution_count": 12,
   "id": "52ca0208",
   "metadata": {
    "execution": {
     "iopub.execute_input": "2023-01-20T04:09:02.702958Z",
     "iopub.status.busy": "2023-01-20T04:09:02.702222Z",
     "iopub.status.idle": "2023-01-20T04:09:02.708631Z",
     "shell.execute_reply": "2023-01-20T04:09:02.708011Z"
    },
    "papermill": {
     "duration": 0.018515,
     "end_time": "2023-01-20T04:09:02.710517",
     "exception": false,
     "start_time": "2023-01-20T04:09:02.692002",
     "status": "completed"
    },
    "scrolled": false,
    "tags": []
   },
   "outputs": [],
   "source": [
    "def create_carousel(npub=4):\n",
    "    \"\"\" Generate the HTML code for a carousel with `npub` slides \"\"\"\n",
    "    carousel = [\"\"\"<section class=\"carousel\" aria-label=\"Gallery\">\"\"\",\n",
    "                \"\"\"  <ol class=\"carousel__viewport\">\"\"\",\n",
    "    ]\n",
    "    for k in range(1, npub + 1):\n",
    "        prev_ = k - 1\n",
    "        next_ = k + 1\n",
    "        if prev_ <= 0:\n",
    "            prev_ = npub\n",
    "        if next_ > npub:\n",
    "            next_ = 1\n",
    "        text  = f\"\"\"    <li id=\"carousel__slide{k}\" tabindex=\"0\" class=\"carousel__slide\">\\n\"\"\"\n",
    "        text += f\"\"\"       <div class=\"carousel__snapper\">\\n\"\"\"\n",
    "        text += f\"\"\"         <a href=\"#carousel__slide{prev_}\" class=\"carousel__prev\">Go to previous slide</a>\\n\"\"\"\n",
    "        text += f\"\"\"         <a href=\"#carousel__slide{next_}\" class=\"carousel__next\">Go to next slide</a>\\n\"\"\"\n",
    "        text += f\"\"\"         <div id=\"slide{k}_content\" class=\"md_view\" >Content {k}</div>\\n\"\"\"\n",
    "        text += f\"\"\"       </div>\\n\"\"\"\n",
    "        text += f\"\"\"    </li>\"\"\"\n",
    "        carousel.append(text)\n",
    "\n",
    "    carousel.extend([\n",
    "        \"\"\"  </ol>\"\"\",\n",
    "        \"\"\"  <aside class=\"carousel__navigation\">\"\"\",\n",
    "        \"\"\"    <ol class=\"carousel__navigation-list\">\"\"\"])\n",
    "\n",
    "    for k in range(1, npub + 1):\n",
    "        text  = f\"\"\"      <li class=\"carousel__navigation-item\">\\n\"\"\"\n",
    "        text += f\"\"\"        <a href=\"#carousel__slide{k}\" class=\"carousel__navigation-button\">Go to {k}</a>\\n\"\"\"\n",
    "        text += f\"\"\"      </li>\"\"\"\n",
    "        carousel.append(text)\n",
    "    carousel.extend([\"\"\"    </ol>\"\"\", \"\"\"  </aside>\"\"\", \"\"\"</section>\"\"\"])\n",
    "\n",
    "    return '\\n'.join(carousel)"
   ]
  },
  {
   "cell_type": "code",
   "execution_count": 13,
   "id": "a6eac5b6",
   "metadata": {
    "execution": {
     "iopub.execute_input": "2023-01-20T04:09:02.733673Z",
     "iopub.status.busy": "2023-01-20T04:09:02.733398Z",
     "iopub.status.idle": "2023-01-20T04:09:02.740270Z",
     "shell.execute_reply": "2023-01-20T04:09:02.739578Z"
    },
    "papermill": {
     "duration": 0.021058,
     "end_time": "2023-01-20T04:09:02.741882",
     "exception": false,
     "start_time": "2023-01-20T04:09:02.720824",
     "status": "completed"
    },
    "scrolled": false,
    "tags": []
   },
   "outputs": [],
   "source": [
    "carousel = create_carousel(npub)\n",
    "docs = ', '.join(['\"{0:s}\"'.format(k.split('/')[-1]) for k in res])\n",
    "slides = ', '.join([f'\"slide{k}_content\"' for k in range(1, npub + 1)])\n",
    "\n",
    "script = f\"\"\"\n",
    "const docs = [{docs}]\n",
    "\n",
    "const slides = [{slides}]\n",
    "\"\"\" + \"\"\"\n",
    "async function run() {\n",
    "    for (let i = 0; i < docs.length; i++) {\n",
    "        let file = await fetch(docs[i]);\n",
    "        let text = await file.text()\n",
    "        document.getElementById(slides[i]).innerHTML =\n",
    "            marked.parse(text);\n",
    "    }\n",
    "    hljs.highlightAll();\n",
    "}\n",
    "run()\n",
    "\"\"\"\n",
    "\n",
    "page = f\"\"\"<!doctype html>\n",
    "<html lang=\"en\">\n",
    "\n",
    "<head>\n",
    "  <meta charset=\"utf-8\">\n",
    "  <meta name=\"viewport\" content=\"width=device-width, initial-scale=1\">\n",
    "  <!-- Bootstrap CSS -->\n",
    "  <link href=\"https://cdn.jsdelivr.net/npm/bootstrap@5.0.2/dist/css/bootstrap.min.css\" rel=\"stylesheet\"\n",
    "   integrity=\"sha384-EVSTQN3/azprG1Anm3QDgpJLIm9Nao0Yz1ztcQTwFspd3yD65VohhpuuCOmLASjC\" crossorigin=\"anonymous\">\n",
    "  <!-- highlight.js CSS -->\n",
    "  <link rel=\"stylesheet\" href=\"https://cdnjs.cloudflare.com/ajax/libs/highlight.js/11.1.0/styles/default.min.css\">\n",
    "  <!-- Mathjax 3 -->\n",
    "  <script type=\"text/javascript\" id=\"MathJax-config\" src=\"mathjax_config.js\"> </script>\n",
    "  <script type=\"text/javascript\" id=\"MathJax-script\" async \n",
    "    src=\"https://cdn.jsdelivr.net/npm/mathjax@3/es5/tex-mml-chtml.js\">\n",
    "  </script>\n",
    "  <link rel=\"stylesheet\" href=\"index_carousel.css\">\n",
    "  <link rel=\"icon\" type=\"image/x-icon\" href=\"https://www.mpia.de/assets/touch-icon-32x32-a66937bcebc4e8894ebff1f41a366c7c7220fd97a38869ee0f2db65a9f59b6c1.png\">\n",
    "  <title>MPIA Arxiv on deck!</title>\n",
    "</head>\n",
    "\n",
    "<body>\n",
    "  <div id=\"header\"> <img src=\"header_banner.png\" width=\"100%\"></div>\n",
    "  <div id=\"suptitle\"> 7-day archives </div>\n",
    "  <div id=\"info\">\n",
    "    <img src=\"https://pngimg.com/uploads/github/github_PNG58.png\" height=30rem></img>\n",
    "    <a href=https://github.com/mpi-astronomy/arxiv_display style=\"color:black;\">github/mpi-astronomy/arxiv_display</a> \n",
    "  </div>\n",
    "  {carousel:s}\n",
    "</body>\n",
    "\n",
    "<!-- Render Markdown -->\n",
    "\n",
    "<body>\n",
    "  <!-- highlight.js: https://highlightjs.org/download/ -->\n",
    "  <script src=\"https://cdnjs.cloudflare.com/ajax/libs/highlight.js/11.5.0/highlight.min.js\"></script>\n",
    "  <!-- marked.js -->\n",
    "  <script src=\"https://cdn.jsdelivr.net/npm/marked/marked.min.js\"></script>\n",
    "  <script>{script:s}</script>\n",
    "</body>\n",
    "</html>\n",
    "\"\"\"\n",
    "with open(\"_build/html/index_7days.html\", 'w') as fout:\n",
    "    fout.write(page)"
   ]
  },
  {
   "cell_type": "markdown",
   "id": "1cebacbc",
   "metadata": {
    "papermill": {
     "duration": 0.009104,
     "end_time": "2023-01-20T04:09:02.760419",
     "exception": false,
     "start_time": "2023-01-20T04:09:02.751315",
     "status": "completed"
    },
    "tags": []
   },
   "source": [
    "# Debugging papers"
   ]
  },
  {
   "cell_type": "raw",
   "id": "debe7cc6",
   "metadata": {
    "papermill": {
     "duration": 0.008815,
     "end_time": "2023-01-20T04:09:02.777812",
     "exception": false,
     "start_time": "2023-01-20T04:09:02.768997",
     "status": "completed"
    },
    "tags": []
   },
   "source": [
    "raise NotImplementedError(\"Manual Stop\")"
   ]
  },
  {
   "cell_type": "raw",
   "id": "eb169192",
   "metadata": {
    "papermill": {
     "duration": 0.008523,
     "end_time": "2023-01-20T04:09:02.795031",
     "exception": false,
     "start_time": "2023-01-20T04:09:02.786508",
     "status": "completed"
    },
    "scrolled": true,
    "tags": []
   },
   "source": [
    "from IPython.display import display, Markdown\n",
    "from TexSoup import TexSoup\n",
    "import re\n",
    "\n",
    "def bracket_error(source: str):\n",
    "    \"\"\" Find problematic portions of the document \"\"\"\n",
    "    \n",
    "    print(\"len(source)\", len(source))\n",
    "    \n",
    "    # Checking header\n",
    "    begin_doc = next(re.finditer(r'\\\\begin\\{document\\}', doc.source)).span()[1]\n",
    "    header = source[:begin_doc]\n",
    "    text = header + r\"\\n\\end{document}\"\n",
    "\n",
    "    try:\n",
    "        # print(\"Header check... \", end='')\n",
    "        TexSoup(text)\n",
    "        display(Markdown(f\"**[OK]** - Header\"))\n",
    "    except:\n",
    "        raise RuntimeError(\"Error in the header\")\n",
    "        \n",
    "    # Check the text per section until the end.\n",
    "    # Do not stop and try them all.\n",
    "    \n",
    "    problematic_text = []\n",
    "    \n",
    "    sections = ([(0, begin_doc, 'until first section')] + \n",
    "                [(g.span()[0], g.span()[1], g.group()) for g in re.finditer(r'\\\\section\\{.*\\}', source)] +\n",
    "                [(g.span()[0], g.span()[1], g.group()) for g in re.finditer(r'\\\\begin\\{appendix\\}', source)]\n",
    "               )\n",
    "    sections.append([len(source), len(source), 'end'])\n",
    "    \n",
    "    sections = sorted(sections, key=lambda x: x[0])\n",
    "    \n",
    "    prev_pos, prev_name = (0, 'header')\n",
    "    parsed = []\n",
    "    \n",
    "    for span, span_end, name in sections:\n",
    "\n",
    "        if span - prev_pos <= 0:\n",
    "            continue\n",
    "            \n",
    "\n",
    "        text = source[prev_pos:span]\n",
    "        if prev_pos > begin_doc:\n",
    "            text = r\"\\n\\begin{document}\" + text + r\"\\n\\end{document}\"\n",
    "        else:\n",
    "            text = text + r\"\\n\\end{document}\"\n",
    "        try:\n",
    "            #print(f\"{prev_pos}:{prev_name}-->{span}:{name} check... \", end='')\n",
    "            parsed.append(TexSoup(text, tolerance=1))  # allow not ending env\n",
    "            display(Markdown(f\"**[OK]** - *{prev_pos}*:{prev_name} &rarr; *{span}*:{name}\"))\n",
    "            # print(\"ok\")\n",
    "\n",
    "            prev_pos = span\n",
    "            prev_name = name\n",
    "        except:\n",
    "            # print(f\"error between {prev_pos} and {span}\")\n",
    "            display(Markdown(f\"**[ERR]** *{prev_pos}*:{prev_name} &rarr; *{span}*:{name}\"))\n",
    "            problematic_text.append((prev_pos, source[prev_pos:span]))\n",
    "            prev_pos = span\n",
    "            prev_name = name\n",
    "            # raise\n",
    "    return problematic_text, parsed\n",
    "\n",
    "\n",
    "def check_environment(text, offset=0):\n",
    "    \"\"\" Check environment \"\"\"\n",
    "    env = re.compile(r\"\\\\begin\\{(?P<env>.*)\\}(.*)\\\\end\\{(?P=env)\\}\", re.DOTALL)\n",
    "\n",
    "    for match in env.finditer(text):\n",
    "        beg, end = match.span()\n",
    "        beg += offset\n",
    "        end += offset\n",
    "        envname = match.groups()[0]\n",
    "        try:\n",
    "            latex.TexSoup(match.group())\n",
    "        except Exception as e:\n",
    "            display(e)\n",
    "            print(f\"Error in {envname:s} between {beg} and {end}\")\n",
    "            return match.groups()[1], beg, end"
   ]
  },
  {
   "cell_type": "raw",
   "id": "2315e835",
   "metadata": {
    "papermill": {
     "duration": 0.009361,
     "end_time": "2023-01-20T04:09:02.813860",
     "exception": false,
     "start_time": "2023-01-20T04:09:02.804499",
     "status": "completed"
    },
    "scrolled": false,
    "tags": []
   },
   "source": [
    "import importlib\n",
    "importlib.reload(latex)\n",
    "which = \"2204.03253\"\n",
    "paper_id = f'{which:s}'\n",
    "folder = f'tmp_{paper_id:s}'\n",
    "\n",
    "if not os.path.isdir(folder):\n",
    "    folder = retrieve_document_source(f\"{paper_id}\", f'tmp_{paper_id}')\n",
    "\n",
    "try:\n",
    "    doc = latex.LatexDocument(folder, validation=validation)    \n",
    "except AffiliationError as affilerror:\n",
    "    msg = f\"ArXiv:{paper_id:s} is not an MPIA paper... \" + str(affilerror)\n",
    "    print(msg)\n",
    "\n",
    "\n",
    "# Hack because sometimes author parsing does not work well\n",
    "if (len(doc.authors) != len(paper['authors'])):\n",
    "    doc._authors = paper['authors']\n",
    "if (doc.abstract) in (None, ''):\n",
    "    doc._abstract = paper['abstract']\n",
    "\n",
    "doc.comment = get_markdown_badge(paper_id) + \" _\" + paper['comments'] + \"_\"\n",
    "doc.highlight_authors_in_list(hl_list)\n",
    "\n",
    "full_md = doc.generate_markdown_text()"
   ]
  },
  {
   "cell_type": "raw",
   "id": "dd3781db",
   "metadata": {
    "papermill": {
     "duration": 0.010993,
     "end_time": "2023-01-20T04:09:02.835110",
     "exception": false,
     "start_time": "2023-01-20T04:09:02.824117",
     "status": "completed"
    },
    "scrolled": false,
    "tags": []
   },
   "source": [
    "doc"
   ]
  },
  {
   "cell_type": "raw",
   "id": "c6eed834",
   "metadata": {
    "papermill": {
     "duration": 0.008659,
     "end_time": "2023-01-20T04:09:02.853060",
     "exception": false,
     "start_time": "2023-01-20T04:09:02.844401",
     "status": "completed"
    },
    "tags": []
   },
   "source": [
    "# [check_environment(k) for k in bracket_error(doc.source)]\n",
    "_, _, a = latex.get_content_per_section(doc.source, verbose=True)\n",
    "if not a:\n",
    "    print(\"no issues per section\")\n",
    "for ak in a:\n",
    "    r = check_environment(ak[1], offset=ak[0])\n",
    "    print(r[1], r[2])\n",
    "    print(r[0])"
   ]
  },
  {
   "cell_type": "code",
   "execution_count": null,
   "id": "71ce768a",
   "metadata": {
    "papermill": {
     "duration": 0.008599,
     "end_time": "2023-01-20T04:09:02.870536",
     "exception": false,
     "start_time": "2023-01-20T04:09:02.861937",
     "status": "completed"
    },
    "tags": []
   },
   "outputs": [],
   "source": []
  }
 ],
 "metadata": {
  "kernelspec": {
   "display_name": "Python 3",
   "language": "python",
   "name": "python3"
  },
  "language_info": {
   "codemirror_mode": {
    "name": "ipython",
    "version": 3
   },
   "file_extension": ".py",
   "mimetype": "text/x-python",
   "name": "python",
   "nbconvert_exporter": "python",
   "pygments_lexer": "ipython3",
   "version": "3.9.16"
  },
  "papermill": {
   "default_parameters": {},
   "duration": 63.402533,
   "end_time": "2023-01-20T04:09:03.098727",
   "environment_variables": {},
   "exception": null,
   "input_path": "MPIA daily digest.ipynb",
   "output_path": "log.ipynb",
   "parameters": {},
   "start_time": "2023-01-20T04:07:59.696194",
   "version": "2.4.0"
  },
  "vscode": {
   "interpreter": {
    "hash": "aee8b7b246df8f9039afb4144a1f6fd8d2ca17a180786b69acc140d282b71a49"
   }
  },
  "widgets": {
   "application/vnd.jupyter.widget-state+json": {
    "state": {
     "28925fed870546e7a2fb4fc31a60c467": {
      "model_module": "@jupyter-widgets/base",
      "model_module_version": "2.0.0",
      "model_name": "LayoutModel",
      "state": {
       "_model_module": "@jupyter-widgets/base",
       "_model_module_version": "2.0.0",
       "_model_name": "LayoutModel",
       "_view_count": null,
       "_view_module": "@jupyter-widgets/base",
       "_view_module_version": "2.0.0",
       "_view_name": "LayoutView",
       "align_content": null,
       "align_items": null,
       "align_self": null,
       "border_bottom": null,
       "border_left": null,
       "border_right": null,
       "border_top": null,
       "bottom": null,
       "display": null,
       "flex": null,
       "flex_flow": null,
       "grid_area": null,
       "grid_auto_columns": null,
       "grid_auto_flow": null,
       "grid_auto_rows": null,
       "grid_column": null,
       "grid_gap": null,
       "grid_row": null,
       "grid_template_areas": null,
       "grid_template_columns": null,
       "grid_template_rows": null,
       "height": null,
       "justify_content": null,
       "justify_items": null,
       "left": null,
       "margin": null,
       "max_height": null,
       "max_width": null,
       "min_height": null,
       "min_width": null,
       "object_fit": null,
       "object_position": null,
       "order": null,
       "overflow": null,
       "padding": null,
       "right": null,
       "top": null,
       "visibility": null,
       "width": null
      }
     },
     "305057362804461baa215c287d7add73": {
      "model_module": "@jupyter-widgets/controls",
      "model_module_version": "2.0.0",
      "model_name": "ProgressStyleModel",
      "state": {
       "_model_module": "@jupyter-widgets/controls",
       "_model_module_version": "2.0.0",
       "_model_name": "ProgressStyleModel",
       "_view_count": null,
       "_view_module": "@jupyter-widgets/base",
       "_view_module_version": "2.0.0",
       "_view_name": "StyleView",
       "bar_color": null,
       "description_width": ""
      }
     },
     "3381a5528e0649f093dee43be288be4d": {
      "model_module": "@jupyter-widgets/base",
      "model_module_version": "2.0.0",
      "model_name": "LayoutModel",
      "state": {
       "_model_module": "@jupyter-widgets/base",
       "_model_module_version": "2.0.0",
       "_model_name": "LayoutModel",
       "_view_count": null,
       "_view_module": "@jupyter-widgets/base",
       "_view_module_version": "2.0.0",
       "_view_name": "LayoutView",
       "align_content": null,
       "align_items": null,
       "align_self": null,
       "border_bottom": null,
       "border_left": null,
       "border_right": null,
       "border_top": null,
       "bottom": null,
       "display": null,
       "flex": null,
       "flex_flow": null,
       "grid_area": null,
       "grid_auto_columns": null,
       "grid_auto_flow": null,
       "grid_auto_rows": null,
       "grid_column": null,
       "grid_gap": null,
       "grid_row": null,
       "grid_template_areas": null,
       "grid_template_columns": null,
       "grid_template_rows": null,
       "height": null,
       "justify_content": null,
       "justify_items": null,
       "left": null,
       "margin": null,
       "max_height": null,
       "max_width": null,
       "min_height": null,
       "min_width": null,
       "object_fit": null,
       "object_position": null,
       "order": null,
       "overflow": null,
       "padding": null,
       "right": null,
       "top": null,
       "visibility": null,
       "width": null
      }
     },
     "3fe03f47b6654f7291f961e35bdaaccf": {
      "model_module": "@jupyter-widgets/controls",
      "model_module_version": "2.0.0",
      "model_name": "HTMLStyleModel",
      "state": {
       "_model_module": "@jupyter-widgets/controls",
       "_model_module_version": "2.0.0",
       "_model_name": "HTMLStyleModel",
       "_view_count": null,
       "_view_module": "@jupyter-widgets/base",
       "_view_module_version": "2.0.0",
       "_view_name": "StyleView",
       "background": null,
       "description_width": "",
       "font_size": null,
       "text_color": null
      }
     },
     "420bd9dac5544b19a43762bdb2f75f3a": {
      "model_module": "@jupyter-widgets/base",
      "model_module_version": "2.0.0",
      "model_name": "LayoutModel",
      "state": {
       "_model_module": "@jupyter-widgets/base",
       "_model_module_version": "2.0.0",
       "_model_name": "LayoutModel",
       "_view_count": null,
       "_view_module": "@jupyter-widgets/base",
       "_view_module_version": "2.0.0",
       "_view_name": "LayoutView",
       "align_content": null,
       "align_items": null,
       "align_self": null,
       "border_bottom": null,
       "border_left": null,
       "border_right": null,
       "border_top": null,
       "bottom": null,
       "display": null,
       "flex": null,
       "flex_flow": null,
       "grid_area": null,
       "grid_auto_columns": null,
       "grid_auto_flow": null,
       "grid_auto_rows": null,
       "grid_column": null,
       "grid_gap": null,
       "grid_row": null,
       "grid_template_areas": null,
       "grid_template_columns": null,
       "grid_template_rows": null,
       "height": null,
       "justify_content": null,
       "justify_items": null,
       "left": null,
       "margin": null,
       "max_height": null,
       "max_width": null,
       "min_height": null,
       "min_width": null,
       "object_fit": null,
       "object_position": null,
       "order": null,
       "overflow": null,
       "padding": null,
       "right": null,
       "top": null,
       "visibility": null,
       "width": null
      }
     },
     "6169859f045f46348581e0b1880401ce": {
      "model_module": "@jupyter-widgets/controls",
      "model_module_version": "2.0.0",
      "model_name": "HBoxModel",
      "state": {
       "_dom_classes": [],
       "_model_module": "@jupyter-widgets/controls",
       "_model_module_version": "2.0.0",
       "_model_name": "HBoxModel",
       "_view_count": null,
       "_view_module": "@jupyter-widgets/controls",
       "_view_module_version": "2.0.0",
       "_view_name": "HBoxView",
       "box_style": "",
       "children": [
        "IPY_MODEL_e8fb10a1fc5441af846a4a105f33abdc",
        "IPY_MODEL_8b34e66014b749c2aa611e4846639989",
        "IPY_MODEL_b6d70f6717604322a8ed498734cfaa7b"
       ],
       "layout": "IPY_MODEL_c1a81a8195d947f4b7b5d813b324ced9",
       "tabbable": null,
       "tooltip": null
      }
     },
     "80c45e76ec14492a9bd53bbc271901dd": {
      "model_module": "@jupyter-widgets/controls",
      "model_module_version": "2.0.0",
      "model_name": "HTMLStyleModel",
      "state": {
       "_model_module": "@jupyter-widgets/controls",
       "_model_module_version": "2.0.0",
       "_model_name": "HTMLStyleModel",
       "_view_count": null,
       "_view_module": "@jupyter-widgets/base",
       "_view_module_version": "2.0.0",
       "_view_name": "StyleView",
       "background": null,
       "description_width": "",
       "font_size": null,
       "text_color": null
      }
     },
     "8b34e66014b749c2aa611e4846639989": {
      "model_module": "@jupyter-widgets/controls",
      "model_module_version": "2.0.0",
      "model_name": "FloatProgressModel",
      "state": {
       "_dom_classes": [],
       "_model_module": "@jupyter-widgets/controls",
       "_model_module_version": "2.0.0",
       "_model_name": "FloatProgressModel",
       "_view_count": null,
       "_view_module": "@jupyter-widgets/controls",
       "_view_module_version": "2.0.0",
       "_view_name": "ProgressView",
       "bar_style": "success",
       "description": "",
       "description_allow_html": false,
       "layout": "IPY_MODEL_420bd9dac5544b19a43762bdb2f75f3a",
       "max": 23.0,
       "min": 0.0,
       "orientation": "horizontal",
       "style": "IPY_MODEL_305057362804461baa215c287d7add73",
       "tabbable": null,
       "tooltip": null,
       "value": 23.0
      }
     },
     "b6d70f6717604322a8ed498734cfaa7b": {
      "model_module": "@jupyter-widgets/controls",
      "model_module_version": "2.0.0",
      "model_name": "HTMLModel",
      "state": {
       "_dom_classes": [],
       "_model_module": "@jupyter-widgets/controls",
       "_model_module_version": "2.0.0",
       "_model_name": "HTMLModel",
       "_view_count": null,
       "_view_module": "@jupyter-widgets/controls",
       "_view_module_version": "2.0.0",
       "_view_name": "HTMLView",
       "description": "",
       "description_allow_html": false,
       "layout": "IPY_MODEL_3381a5528e0649f093dee43be288be4d",
       "placeholder": "​",
       "style": "IPY_MODEL_3fe03f47b6654f7291f961e35bdaaccf",
       "tabbable": null,
       "tooltip": null,
       "value": " 23/23 [00:39&lt;00:00,  1.82s/it]"
      }
     },
     "c1a81a8195d947f4b7b5d813b324ced9": {
      "model_module": "@jupyter-widgets/base",
      "model_module_version": "2.0.0",
      "model_name": "LayoutModel",
      "state": {
       "_model_module": "@jupyter-widgets/base",
       "_model_module_version": "2.0.0",
       "_model_name": "LayoutModel",
       "_view_count": null,
       "_view_module": "@jupyter-widgets/base",
       "_view_module_version": "2.0.0",
       "_view_name": "LayoutView",
       "align_content": null,
       "align_items": null,
       "align_self": null,
       "border_bottom": null,
       "border_left": null,
       "border_right": null,
       "border_top": null,
       "bottom": null,
       "display": null,
       "flex": null,
       "flex_flow": null,
       "grid_area": null,
       "grid_auto_columns": null,
       "grid_auto_flow": null,
       "grid_auto_rows": null,
       "grid_column": null,
       "grid_gap": null,
       "grid_row": null,
       "grid_template_areas": null,
       "grid_template_columns": null,
       "grid_template_rows": null,
       "height": null,
       "justify_content": null,
       "justify_items": null,
       "left": null,
       "margin": null,
       "max_height": null,
       "max_width": null,
       "min_height": null,
       "min_width": null,
       "object_fit": null,
       "object_position": null,
       "order": null,
       "overflow": null,
       "padding": null,
       "right": null,
       "top": null,
       "visibility": null,
       "width": null
      }
     },
     "e8fb10a1fc5441af846a4a105f33abdc": {
      "model_module": "@jupyter-widgets/controls",
      "model_module_version": "2.0.0",
      "model_name": "HTMLModel",
      "state": {
       "_dom_classes": [],
       "_model_module": "@jupyter-widgets/controls",
       "_model_module_version": "2.0.0",
       "_model_name": "HTMLModel",
       "_view_count": null,
       "_view_module": "@jupyter-widgets/controls",
       "_view_module_version": "2.0.0",
       "_view_name": "HTMLView",
       "description": "",
       "description_allow_html": false,
       "layout": "IPY_MODEL_28925fed870546e7a2fb4fc31a60c467",
       "placeholder": "​",
       "style": "IPY_MODEL_80c45e76ec14492a9bd53bbc271901dd",
       "tabbable": null,
       "tooltip": null,
       "value": "100%"
      }
     }
    },
    "version_major": 2,
    "version_minor": 0
   }
  }
 },
 "nbformat": 4,
 "nbformat_minor": 5
}