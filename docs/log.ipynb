{
 "cells": [
  {
   "cell_type": "markdown",
   "id": "92bcb855",
   "metadata": {
    "papermill": {
     "duration": 0.00394,
     "end_time": "2024-07-09T04:09:00.959087",
     "exception": false,
     "start_time": "2024-07-09T04:09:00.955147",
     "status": "completed"
    },
    "tags": []
   },
   "source": [
    "# MPIA Arxiv on Deck 2\n",
    "\n",
    "Contains the steps to produce the paper extractions."
   ]
  },
  {
   "cell_type": "code",
   "execution_count": 1,
   "id": "3a0d6e11",
   "metadata": {
    "execution": {
     "iopub.execute_input": "2024-07-09T04:09:00.966741Z",
     "iopub.status.busy": "2024-07-09T04:09:00.966141Z",
     "iopub.status.idle": "2024-07-09T04:09:01.346244Z",
     "shell.execute_reply": "2024-07-09T04:09:01.345489Z"
    },
    "papermill": {
     "duration": 0.38646,
     "end_time": "2024-07-09T04:09:01.348655",
     "exception": false,
     "start_time": "2024-07-09T04:09:00.962195",
     "status": "completed"
    },
    "tags": []
   },
   "outputs": [],
   "source": [
    "# Imports\n",
    "import os\n",
    "from IPython.display import Markdown, display\n",
    "from tqdm.notebook import tqdm\n",
    "import warnings\n",
    "from PIL import Image \n",
    "\n",
    "# requires arxiv_on_deck_2\n",
    "\n",
    "from arxiv_on_deck_2.arxiv2 import (get_new_papers, \n",
    "                                    get_paper_from_identifier,\n",
    "                                    retrieve_document_source, \n",
    "                                    get_markdown_badge)\n",
    "from arxiv_on_deck_2 import (latex,\n",
    "                             latex_bib,\n",
    "                             mpia,\n",
    "                             highlight_authors_in_list)\n",
    "\n",
    "# Sometimes images are really big\n",
    "Image.MAX_IMAGE_PIXELS = 1000000000 "
   ]
  },
  {
   "cell_type": "code",
   "execution_count": 2,
   "id": "22aa9d44",
   "metadata": {
    "execution": {
     "iopub.execute_input": "2024-07-09T04:09:01.360607Z",
     "iopub.status.busy": "2024-07-09T04:09:01.359824Z",
     "iopub.status.idle": "2024-07-09T04:09:01.365794Z",
     "shell.execute_reply": "2024-07-09T04:09:01.365137Z"
    },
    "papermill": {
     "duration": 0.013789,
     "end_time": "2024-07-09T04:09:01.367648",
     "exception": false,
     "start_time": "2024-07-09T04:09:01.353859",
     "status": "completed"
    },
    "tags": []
   },
   "outputs": [],
   "source": [
    "# Some useful definitions.\n",
    "\n",
    "class AffiliationWarning(UserWarning):\n",
    "    pass\n",
    "\n",
    "class AffiliationError(RuntimeError):\n",
    "    pass\n",
    "\n",
    "def validation(source: str):\n",
    "    \"\"\"Raises error paper during parsing of source file\n",
    "    \n",
    "    Allows checks before parsing TeX code.\n",
    "    \n",
    "    Raises AffiliationWarning\n",
    "    \"\"\"\n",
    "    check = mpia.affiliation_verifications(source, verbose=True)\n",
    "    if check is not True:\n",
    "        raise AffiliationError(\"mpia.affiliation_verifications: \" + check)\n",
    "\n",
    "        \n",
    "warnings.simplefilter('always', AffiliationWarning)\n",
    "\n",
    "\n",
    "def get_markdown_qrcode(paper_id: str):\n",
    "    \"\"\" Generate a qrcode to the arxiv page using qrserver.com\n",
    "    \n",
    "    :param paper: Arxiv paper\n",
    "    :returns: markdown text\n",
    "    \"\"\"\n",
    "    url = r\"https://api.qrserver.com/v1/create-qr-code/?size=100x100&data=\"\n",
    "    txt = f\"\"\"<img src={url}\"https://arxiv.org/abs/{paper_id}\">\"\"\"\n",
    "    txt = '<div id=\"qrcode\">' + txt + '</div>'\n",
    "    return txt"
   ]
  },
  {
   "cell_type": "markdown",
   "id": "14bd6310",
   "metadata": {
    "papermill": {
     "duration": 0.002876,
     "end_time": "2024-07-09T04:09:01.373688",
     "exception": false,
     "start_time": "2024-07-09T04:09:01.370812",
     "status": "completed"
    },
    "tags": []
   },
   "source": [
    "## get list of arxiv paper candidates\n",
    "\n",
    "We use the MPIA mitarbeiter list webpage from mpia.de to get author names\n",
    "We then get all new papers from Arxiv and match authors"
   ]
  },
  {
   "cell_type": "code",
   "execution_count": 3,
   "id": "7ea813a8",
   "metadata": {
    "execution": {
     "iopub.execute_input": "2024-07-09T04:09:01.380758Z",
     "iopub.status.busy": "2024-07-09T04:09:01.380493Z",
     "iopub.status.idle": "2024-07-09T04:09:19.670638Z",
     "shell.execute_reply": "2024-07-09T04:09:19.669995Z"
    },
    "papermill": {
     "duration": 18.295653,
     "end_time": "2024-07-09T04:09:19.672274",
     "exception": false,
     "start_time": "2024-07-09T04:09:01.376621",
     "status": "completed"
    },
    "tags": []
   },
   "outputs": [],
   "source": [
    "# deal with the author list and edge cases of people that cannot be consistent on their name  \n",
    "\n",
    "def filter_non_scientists(name: str) -> bool:\n",
    "    \"\"\" Loose filter on expected authorships\n",
    "\n",
    "    removing IT, administration, technical staff\n",
    "    :param name: name\n",
    "    :returns: False if name is not a scientist\n",
    "    \"\"\"\n",
    "    remove_list = ['Wolf', 'Licht', 'Binroth', 'Witzel', 'Jordan',\n",
    "                   'Zähringer', 'Scheerer', 'Hoffmann', 'Düe',\n",
    "                   'Hellmich', 'Enkler-Scharpegge', 'Witte-Nguy',\n",
    "                   'Dehen', 'Beckmann', 'Jager', 'Jäger'\n",
    "                  ]\n",
    "\n",
    "    for k in remove_list:\n",
    "        if k in name:\n",
    "            return False\n",
    "    return True\n",
    "\n",
    "def add_author_to_list(author_list: list) -> list:\n",
    "    \"\"\" Add author to list if not already in list\n",
    "    \n",
    "    :param author: author name\n",
    "    :param author_list: list of authors\n",
    "    :returns: updated list of authors\n",
    "    \"\"\"\n",
    "    add_list = ['T. Henning']\n",
    "\n",
    "    for author in add_list:\n",
    "        if author not in author_list:\n",
    "            author_list.append(author)\n",
    "    return author_list\n",
    "\n",
    "# get list from MPIA website\n",
    "# filter for non-scientists (mpia.get_mpia_mitarbeiter_list() does some filtering)\n",
    "mpia_authors = [k[1] for k in mpia.get_mpia_mitarbeiter_list() if filter_non_scientists(k[1])]\n",
    "# add some missing author because of inconsistencies in their MPIA name and author name on papers\n",
    "mpia_authors = add_author_to_list(mpia_authors)"
   ]
  },
  {
   "cell_type": "code",
   "execution_count": 4,
   "id": "2645e73a",
   "metadata": {
    "execution": {
     "iopub.execute_input": "2024-07-09T04:09:19.679777Z",
     "iopub.status.busy": "2024-07-09T04:09:19.679410Z",
     "iopub.status.idle": "2024-07-09T04:09:20.696845Z",
     "shell.execute_reply": "2024-07-09T04:09:20.696165Z"
    },
    "papermill": {
     "duration": 1.022689,
     "end_time": "2024-07-09T04:09:20.698293",
     "exception": false,
     "start_time": "2024-07-09T04:09:19.675604",
     "status": "completed"
    },
    "tags": []
   },
   "outputs": [
    {
     "name": "stdout",
     "output_type": "stream",
     "text": [
      "T. Henning  ->  T. Henning  |  ['T. Henning']\n",
      "G. Perotti  ->  G. Perotti  |  ['G. Perotti']\n",
      "K. Schwarz  ->  K. Schwarz  |  ['K. Schwarz']\n",
      "H. Beuther  ->  H. Beuther  |  ['H. Beuther']\n",
      "S. Li  ->  S. Li  |  ['S. Li']\n"
     ]
    },
    {
     "name": "stdout",
     "output_type": "stream",
     "text": [
      "Arxiv has 87 new papers today\n",
      "          3 with possible author matches\n"
     ]
    }
   ],
   "source": [
    "new_papers = get_new_papers()\n",
    "# add manual references\n",
    "add_paper_refs = []\n",
    "new_papers.extend([get_paper_from_identifier(k) for k in add_paper_refs])\n",
    "\n",
    "candidates = []\n",
    "for paperk in new_papers:\n",
    "    # Check author list with their initials\n",
    "    normed_author_list = [mpia.get_initials(k) for k in paperk['authors']]\n",
    "    hl_authors = highlight_authors_in_list(normed_author_list, mpia_authors, verbose=True)\n",
    "    matches = [(hl, orig) for hl, orig in zip(hl_authors, paperk['authors']) if 'mark' in hl]\n",
    "    paperk['authors'] = hl_authors\n",
    "    if matches:\n",
    "        # only select paper if an author matched our list\n",
    "        candidates.append(paperk)\n",
    "print(\"\"\"Arxiv has {0:,d} new papers today\"\"\".format(len(new_papers)))        \n",
    "print(\"\"\"          {0:,d} with possible author matches\"\"\".format(len(candidates)))"
   ]
  },
  {
   "cell_type": "markdown",
   "id": "3543b34a",
   "metadata": {
    "papermill": {
     "duration": 0.004079,
     "end_time": "2024-07-09T04:09:20.705871",
     "exception": false,
     "start_time": "2024-07-09T04:09:20.701792",
     "status": "completed"
    },
    "tags": []
   },
   "source": [
    "# Parse sources and generate relevant outputs\n",
    "\n",
    "From the candidates, we do the following steps:\n",
    "* get their tarball from ArXiv (and extract data)\n",
    "* find the main .tex file: find one with \\documentclass{...} (sometimes it's non trivial)\n",
    "* Check affiliations with :func:`validation`, which uses :func:`mpia.affiliation_verifications`\n",
    "* If passing the affiliations: we parse the .tex source\n",
    "   * inject sub-documents into the main (flatten the main document)\n",
    "   * parse structure, extract information (title, abstract, authors, figures...)\n",
    "   * handles `\\graphicspath` if provided\n",
    "* Generate the .md document."
   ]
  },
  {
   "cell_type": "code",
   "execution_count": 5,
   "id": "9576b79e",
   "metadata": {
    "execution": {
     "iopub.execute_input": "2024-07-09T04:09:20.713607Z",
     "iopub.status.busy": "2024-07-09T04:09:20.713077Z",
     "iopub.status.idle": "2024-07-09T04:10:30.110293Z",
     "shell.execute_reply": "2024-07-09T04:10:30.109555Z"
    },
    "papermill": {
     "duration": 69.402629,
     "end_time": "2024-07-09T04:10:30.111666",
     "exception": false,
     "start_time": "2024-07-09T04:09:20.709037",
     "status": "completed"
    },
    "scrolled": false,
    "tags": []
   },
   "outputs": [
    {
     "data": {
      "application/vnd.jupyter.widget-view+json": {
       "model_id": "36eb2f4b0e2948d4b7f128b59725cc07",
       "version_major": 2,
       "version_minor": 0
      },
      "text/plain": [
       "  0%|          | 0/3 [00:00<?, ?it/s]"
      ]
     },
     "metadata": {},
     "output_type": "display_data"
    },
    {
     "name": "stdout",
     "output_type": "stream",
     "text": [
      "Retrieving document from  https://arxiv.org/e-print/2407.05070\n",
      "extracting tarball to tmp_2407.05070..."
     ]
    },
    {
     "name": "stdout",
     "output_type": "stream",
     "text": [
      " done.\n"
     ]
    },
    {
     "name": "stdout",
     "output_type": "stream",
     "text": [
      "Found 71 bibliographic references in tmp_2407.05070/aanda.bbl.\n",
      "syntax error in line 67: '=' expected\n",
      "Retrieving document from  https://arxiv.org/e-print/2407.05770\n"
     ]
    },
    {
     "name": "stdout",
     "output_type": "stream",
     "text": [
      "extracting tarball to tmp_2407.05770..."
     ]
    },
    {
     "name": "stdout",
     "output_type": "stream",
     "text": [
      " done.\n"
     ]
    },
    {
     "name": "stdout",
     "output_type": "stream",
     "text": [
      "Found 127 bibliographic references in tmp_2407.05770/aa49390_24corr.bbl.\n",
      "Retrieving document from  https://arxiv.org/e-print/2407.05968\n",
      "extracting tarball to tmp_2407.05968... done.\n"
     ]
    }
   ],
   "source": [
    "documents = []\n",
    "failed = []\n",
    "for paper in tqdm(candidates):\n",
    "    # debug crap\n",
    "    paper['identifier'] = paper['identifier'].lower().replace('arxiv:', '').replace(r'\\n', '').strip()\n",
    "    paper_id = paper['identifier']\n",
    "    \n",
    "    folder = f'tmp_{paper_id}'\n",
    "\n",
    "    try:\n",
    "        if not os.path.isdir(folder):\n",
    "            folder = retrieve_document_source(f\"{paper_id}\", f'tmp_{paper_id}')\n",
    "        \n",
    "        try:\n",
    "            doc = latex.LatexDocument(folder, validation=validation)    \n",
    "        except AffiliationError as affilerror:\n",
    "            msg = f\"ArXiv:{paper_id:s} is not an MPIA paper... \" + str(affilerror)\n",
    "            failed.append((paper, \"affiliation error: \" + str(affilerror) ))\n",
    "            continue\n",
    "        \n",
    "        # Hack because sometimes author parsing does not work well\n",
    "        if (len(doc.authors) != len(paper['authors'])):\n",
    "            doc._authors = paper['authors']\n",
    "        else:\n",
    "            # highlight authors (FIXME: doc.highlight_authors)\n",
    "            # done on arxiv paper already\n",
    "            doc._authors = highlight_authors_in_list(\n",
    "                [mpia.get_initials(k) for k in doc.authors], \n",
    "                mpia_authors, verbose=True)\n",
    "        if (doc.abstract) in (None, ''):\n",
    "            doc._abstract = paper['abstract']\n",
    "            \n",
    "        doc.comment = (get_markdown_badge(paper_id) + \n",
    "                       \"<mark>Appeared on: \" + paper['date'] + \"</mark> - \")\n",
    "        if paper['comments']:\n",
    "            doc.comment += \" _\" + paper['comments'] + \"_\"\n",
    "        \n",
    "        full_md = doc.generate_markdown_text()\n",
    "        \n",
    "        full_md += get_markdown_qrcode(paper_id)\n",
    "        \n",
    "        # replace citations\n",
    "        try:\n",
    "            bibdata = latex_bib.LatexBib.from_doc(doc)\n",
    "            full_md = latex_bib.replace_citations(full_md, bibdata)\n",
    "        except Exception as e:\n",
    "            print(e)\n",
    "        \n",
    "        documents.append((paper_id, full_md))\n",
    "    except Exception as e:\n",
    "        warnings.warn(latex.LatexWarning(f\"{paper_id:s} did not run properly\\n\" +\n",
    "                                         str(e)\n",
    "                                        ))\n",
    "        failed.append((paper, \"latex error \" + str(e)))"
   ]
  },
  {
   "cell_type": "markdown",
   "id": "2505a25c",
   "metadata": {
    "papermill": {
     "duration": 0.003593,
     "end_time": "2024-07-09T04:10:30.119072",
     "exception": false,
     "start_time": "2024-07-09T04:10:30.115479",
     "status": "completed"
    },
    "tags": []
   },
   "source": [
    "### Export the logs\n",
    "\n",
    "Throughout, we also keep track of the logs per paper. see `logs-{today date}.md` "
   ]
  },
  {
   "cell_type": "code",
   "execution_count": 6,
   "id": "d733828a",
   "metadata": {
    "execution": {
     "iopub.execute_input": "2024-07-09T04:10:30.127959Z",
     "iopub.status.busy": "2024-07-09T04:10:30.127374Z",
     "iopub.status.idle": "2024-07-09T04:10:30.141613Z",
     "shell.execute_reply": "2024-07-09T04:10:30.140980Z"
    },
    "papermill": {
     "duration": 0.020418,
     "end_time": "2024-07-09T04:10:30.143099",
     "exception": false,
     "start_time": "2024-07-09T04:10:30.122681",
     "status": "completed"
    },
    "scrolled": false,
    "tags": []
   },
   "outputs": [
    {
     "data": {
      "text/markdown": [
       "## Successful papers"
      ],
      "text/plain": [
       "<IPython.core.display.Markdown object>"
      ]
     },
     "metadata": {},
     "output_type": "display_data"
    },
    {
     "data": {
      "text/markdown": [
       "\n",
       "|||\n",
       "|---:|:---|\n",
       "| [![arXiv](https://img.shields.io/badge/arXiv-2407.05070-b31b1b.svg)](https://arxiv.org/abs/2407.05070) | **MINDS. The DR Tau disk II: probing the hot and cold H$_2$O reservoirs in the JWST-MIRI spectrum**  |\n",
       "|| M. Temmink, et al. -- incl., <mark>T. Henning</mark>, <mark>G. Perotti</mark>, <mark>K. Schwarz</mark> |\n",
       "|*Appeared on*| *2024-07-09*|\n",
       "|*Comments*| *Accepted for publication in Astronomy & Astrophysics on 05/07/2024*|\n",
       "|**Abstract**|            The MRS mode of the JWST-MIRI instrument gives insights into the chemical richness and complexity of the inner regions of planet-forming disks. Here, we analyse the H$_2$O-rich spectrum of the compact disk DR Tau. We probe the excitation conditions of the H$_2$O transitions observed in different wavelength regions across the entire spectrum using LTE slab models, probing both the rovibrational and rotational transitions. These regions suggest a radial temperature gradient, as the excitation temperature (emitting radius) decreases (increases) with increasing wavelength. To explain the derived emitting radii, we require a larger inclination for the inner disk (i~20-23 degrees) compared to the outer disk (i~5 degrees), agreeing with our previous analysis on CO. We also analyse the pure rotational spectrum (<10 micron) using a large, structured disk (CI Tau) as a template, confirming the presence of the radial gradient, and by fitting multiple components to further characterise the radial and vertical temperature gradients present in the spectrum. At least three temperature components (T~180-800 K) are required to reproduce the rotational spectrum of H$_2$O arising from the inner ~0.3-8 au. These components describe a radial temperature gradient that scales roughly as ~R$^{-0.5}$ in the emitting layers. As the H$_2$O is mainly optically thick, we derive a lower limit on the abundance ratio of H$_2$O/CO~0.17, suggesting a potential depletion of H$_2$O. Similarly to previous work, we detect a cold H$_2$O component (T~180 K) originating from near the snowline. We cannot conclude if an enhancement of the H$_2$O reservoir is observed following radial drift. A consistent analysis of a larger sample of compact disks is necessary to study the importance of drift in enhancing the H$_2$O abundances.         |"
      ],
      "text/plain": [
       "[2407.05070] MINDS. The DR Tau disk II: probing the hot and cold H$_2$O reservoirs in the JWST-MIRI spectrum\n",
       "\tM. Temmink, et al. -- incl., <mark>T. Henning</mark>, <mark>G. Perotti</mark>, <mark>K. Schwarz</mark>"
      ]
     },
     "metadata": {},
     "output_type": "display_data"
    },
    {
     "data": {
      "text/markdown": [
       "\n",
       "|||\n",
       "|---:|:---|\n",
       "| [![arXiv](https://img.shields.io/badge/arXiv-2407.05770-b31b1b.svg)](https://arxiv.org/abs/2407.05770) | **A global view on star formation: The GLOSTAR Galactic plane survey X. Galactic HII region catalog using radio recombination lines**  |\n",
       "|| S. Khan, et al. -- incl., <mark>H. Beuther</mark> |\n",
       "|*Appeared on*| *2024-07-09*|\n",
       "|*Comments*| *Accepted for publication in A&A*|\n",
       "|**Abstract**|            Studies of Galactic HII regions are of crucial importance for studying star formation and the evolution of the interstellar medium. Gaining an insight into their physical characteristics contributes to a more comprehensive understanding of these phenomena. The GLOSTAR project aims to provide a GLObal view on STAR formation in the Milky Way by performing an unbiased and sensitive survey. This is achieved by using the extremely wideband (4{-}8 GHz) C-band receiver of the Karl G. Jansky Very Large Array and the Effelsberg 100 m telescope. Using radio recombination lines observed in the GLOSTAR survey with the VLA in D-configuration with a typical line sensitivity of 1{\\sigma} {\\sim} 3.0 mJy beam{^-1} at {\\sim} 5 km s{^-1} and an angular resolution of 25\", we cataloged 244 individual Galactic HII regions and derived their physical properties. We examined the mid-infrared (MIR) morphology of these HII regions and find that a significant portion of them exhibit a bubble-like morphology in the GLIMPSE 8 {\\mu}m emission. We also searched for associations with the dust continuum and sources of methanol maser emission, other tracers of young stellar objects, and find that 48\\% and 14\\% of our HII regions, respectively, are coextensive with those. We measured the electron temperature for a large sample of HII regions within Galactocentric distances spanning from 1.6 to 13.1 kpc and derived the Galactic electron temperature gradient as {\\sim} 372 {\\pm} 28 K kpc{^-1} with an intercept of 4248 {\\pm} 161 K, which is consistent with previous studies.         |"
      ],
      "text/plain": [
       "[2407.05770] A global view on star formation: The GLOSTAR Galactic plane survey X. Galactic HII region catalog using radio recombination lines\n",
       "\tS. Khan, et al. -- incl., <mark>H. Beuther</mark>"
      ]
     },
     "metadata": {},
     "output_type": "display_data"
    },
    {
     "data": {
      "text/markdown": [
       "## Failed papers"
      ],
      "text/plain": [
       "<IPython.core.display.Markdown object>"
      ]
     },
     "metadata": {},
     "output_type": "display_data"
    },
    {
     "data": {
      "text/markdown": [
       "\n",
       "|||\n",
       "|---:|:---|\n",
       "| [![arXiv](https://img.shields.io/badge/arXiv-2407.05968-b31b1b.svg)](https://arxiv.org/abs/2407.05968) | **Fermi-LAT discovery of the GeV emission of the superluminous supernovae SN 2017egm**  |\n",
       "|| <mark>S. Li</mark>, et al. |\n",
       "|*Appeared on*| *2024-07-09*|\n",
       "|*Comments*| **|\n",
       "|**Abstract**|            Superluminous supernovae (SLSNe) are a new class of transients with luminosities $\\sim10 -100$ times larger than the usual core-collapse supernovae (SNe). Their origin is still unclear and one widely discussed scenario involves a millisecond magnetar central engine. The GeV-TeV emission of SLSNe has been predicted in the literature but has not been convincingly detected yet. Here we report the search for the $\\gamma$-ray emission in the direction of SN 2017egm, one of the closest SLSNe detected so far, with the 15-year {\\it Fermi}-LAT Pass 8 data. There is a transient $\\gamma$-ray source appearing about 2 months after this event and lasting a few months. Both the peak time and the luminosity of the GeV emission are consistent with the magnetar model prediction, suggesting that such a GeV transient is the high-energy counterpart of SN 2017egm and the central engine of this SLSNe is a young magnetar.         |\n",
       "|<p style=\"color:green\"> **ERROR** </p>| <p style=\"color:green\">affiliation error: mpia.affiliation_verifications: 'Heidelberg' keyword not found.</p> |"
      ],
      "text/plain": [
       "<IPython.core.display.Markdown object>"
      ]
     },
     "metadata": {},
     "output_type": "display_data"
    }
   ],
   "source": [
    "import datetime\n",
    "today = str(datetime.date.today())\n",
    "logfile = f\"_build/html/logs/log-{today}.md\"\n",
    "\n",
    "\n",
    "with open(logfile, 'w') as logs:\n",
    "    # Success\n",
    "    logs.write(f'# Arxiv on Deck 2: Logs - {today}\\n\\n')\n",
    "    logs.write(\"\"\"* Arxiv had {0:,d} new papers\\n\"\"\".format(len(new_papers)))\n",
    "    logs.write(\"\"\"    * {0:,d} with possible author matches\\n\\n\"\"\".format(len(candidates)))\n",
    "    logs.write(\"## Sucessful papers\\n\\n\")\n",
    "    display(Markdown(\"## Successful papers\"))\n",
    "    success = [k[0] for k in documents]\n",
    "    for candid in candidates:\n",
    "        if candid['identifier'].split(':')[-1] in success:\n",
    "            display(candid)\n",
    "            logs.write(candid.generate_markdown_text() + '\\n\\n')\n",
    "\n",
    "    ## failed\n",
    "    logs.write(\"## Failed papers\\n\\n\")\n",
    "    display(Markdown(\"## Failed papers\"))\n",
    "    failed = sorted(failed, key=lambda x: x[1])\n",
    "    current_reason = \"\"\n",
    "    for paper, reason in failed:\n",
    "        if 'affiliation' in reason:\n",
    "            color = 'green'\n",
    "        else:\n",
    "            color = 'red'\n",
    "        data = Markdown(\n",
    "                paper.generate_markdown_text() + \n",
    "                f'\\n|<p style=\"color:{color:s}\"> **ERROR** </p>| <p style=\"color:{color:s}\">{reason:s}</p> |'\n",
    "               )\n",
    "        if reason != current_reason:\n",
    "            logs.write(f'### {reason:s} \\n\\n')\n",
    "            current_reason = reason\n",
    "        logs.write(data.data + '\\n\\n')\n",
    "        \n",
    "        # only display here the important errors (all in logs)\n",
    "        # if color in ('red',):\n",
    "        display(data)"
   ]
  },
  {
   "cell_type": "markdown",
   "id": "472d20ee",
   "metadata": {
    "papermill": {
     "duration": 0.00397,
     "end_time": "2024-07-09T04:10:30.151297",
     "exception": false,
     "start_time": "2024-07-09T04:10:30.147327",
     "status": "completed"
    },
    "tags": []
   },
   "source": [
    "## Export documents\n",
    "\n",
    "We now write the .md files and export relevant images"
   ]
  },
  {
   "cell_type": "code",
   "execution_count": 7,
   "id": "d426aed9",
   "metadata": {
    "execution": {
     "iopub.execute_input": "2024-07-09T04:10:30.160724Z",
     "iopub.status.busy": "2024-07-09T04:10:30.160146Z",
     "iopub.status.idle": "2024-07-09T04:10:30.167291Z",
     "shell.execute_reply": "2024-07-09T04:10:30.166642Z"
    },
    "papermill": {
     "duration": 0.01341,
     "end_time": "2024-07-09T04:10:30.168642",
     "exception": false,
     "start_time": "2024-07-09T04:10:30.155232",
     "status": "completed"
    },
    "tags": []
   },
   "outputs": [],
   "source": [
    "def export_markdown_summary(md: str, md_fname:str, directory: str):\n",
    "    \"\"\"Export MD document and associated relevant images\"\"\"\n",
    "    import os\n",
    "    import shutil\n",
    "    import re\n",
    "\n",
    "    if (os.path.exists(directory) and not os.path.isdir(directory)):\n",
    "        raise RuntimeError(f\"a non-directory file exists with name {directory:s}\")\n",
    "\n",
    "    if (not os.path.exists(directory)):\n",
    "        print(f\"creating directory {directory:s}\")\n",
    "        os.mkdir(directory)\n",
    "\n",
    "    fig_fnames = (re.compile(r'\\[Fig.*\\]\\((.*)\\)').findall(md) + \n",
    "                  re.compile(r'\\<img src=\"([^>\\s]*)\"[^>]*/>').findall(md))\n",
    "    print(\"found figures\", fig_fnames)\n",
    "    for fname in fig_fnames:\n",
    "        if 'http' in fname:\n",
    "            # No need to copy online figures\n",
    "            continue\n",
    "        if not os.path.exists(fname):\n",
    "            print(\"file not found\", fname)\n",
    "            continue\n",
    "        print(\"copying \", fname, \"to\", directory)\n",
    "        destdir = os.path.join(directory, os.path.dirname(fname))\n",
    "        destfname = os.path.join(destdir, os.path.basename(fname))\n",
    "        try:\n",
    "            os.makedirs(destdir)\n",
    "        except FileExistsError:\n",
    "            pass\n",
    "        shutil.copy(fname, destfname)\n",
    "    with open(os.path.join(directory, md_fname), 'w') as fout:\n",
    "        fout.write(md)\n",
    "    print(\"exported in \", os.path.join(directory, md_fname))\n",
    "    [print(\"    + \" + os.path.join(directory,fk)) for fk in fig_fnames]"
   ]
  },
  {
   "cell_type": "code",
   "execution_count": 8,
   "id": "014d04a4",
   "metadata": {
    "execution": {
     "iopub.execute_input": "2024-07-09T04:10:30.178335Z",
     "iopub.status.busy": "2024-07-09T04:10:30.177873Z",
     "iopub.status.idle": "2024-07-09T04:10:30.188372Z",
     "shell.execute_reply": "2024-07-09T04:10:30.187700Z"
    },
    "papermill": {
     "duration": 0.01697,
     "end_time": "2024-07-09T04:10:30.189821",
     "exception": false,
     "start_time": "2024-07-09T04:10:30.172851",
     "status": "completed"
    },
    "tags": []
   },
   "outputs": [
    {
     "name": "stdout",
     "output_type": "stream",
     "text": [
      "found figures ['tmp_2407.05070/./Spectrum_Region1-NF.png', 'tmp_2407.05070/./Spectrum_Region2-NF.png', 'tmp_2407.05070/./Spectrum_Region3-NF.png', 'tmp_2407.05070/./Spectrum_Region4-NF.png', 'tmp_2407.05070/./Spectrum_Region5-NF.png', 'tmp_2407.05070/./Spectrum_Region6-NF.png', 'tmp_2407.05070/./DRTau-CITau-NF.png']\n",
      "copying  tmp_2407.05070/./Spectrum_Region1-NF.png to _build/html/\n",
      "copying  tmp_2407.05070/./Spectrum_Region2-NF.png to _build/html/\n",
      "copying  tmp_2407.05070/./Spectrum_Region3-NF.png to _build/html/\n",
      "copying  tmp_2407.05070/./Spectrum_Region4-NF.png to _build/html/\n",
      "copying  tmp_2407.05070/./Spectrum_Region5-NF.png to _build/html/\n",
      "copying  tmp_2407.05070/./Spectrum_Region6-NF.png to _build/html/\n",
      "copying  tmp_2407.05070/./DRTau-CITau-NF.png to _build/html/\n",
      "exported in  _build/html/2407.05070.md\n",
      "    + _build/html/tmp_2407.05070/./Spectrum_Region1-NF.png\n",
      "    + _build/html/tmp_2407.05070/./Spectrum_Region2-NF.png\n",
      "    + _build/html/tmp_2407.05070/./Spectrum_Region3-NF.png\n",
      "    + _build/html/tmp_2407.05070/./Spectrum_Region4-NF.png\n",
      "    + _build/html/tmp_2407.05070/./Spectrum_Region5-NF.png\n",
      "    + _build/html/tmp_2407.05070/./Spectrum_Region6-NF.png\n",
      "    + _build/html/tmp_2407.05070/./DRTau-CITau-NF.png\n",
      "found figures ['tmp_2407.05770/./figures/hist_distribution2.png', 'tmp_2407.05770/./figures/velo_diff.png', 'tmp_2407.05770/./figures/distance_compare.png', 'tmp_2407.05770/./figures/cdf_HII_te_assoc_ad.png', 'tmp_2407.05770/./figures/cdf_HII_ne_assoc.png', 'tmp_2407.05770/./figures/cdf_HII_em_assoc.png', 'tmp_2407.05770/./figures/cdf_HII_nycl_assoc.png', 'tmp_2407.05770/./figures/cdf_HII_mass_assoc.png', 'tmp_2407.05770/./figures/cdf_HII_dist_assoc.png']\n",
      "copying  tmp_2407.05770/./figures/hist_distribution2.png to _build/html/\n",
      "copying  tmp_2407.05770/./figures/velo_diff.png to _build/html/\n",
      "copying  tmp_2407.05770/./figures/distance_compare.png to _build/html/\n",
      "copying  tmp_2407.05770/./figures/cdf_HII_te_assoc_ad.png to _build/html/\n",
      "copying  tmp_2407.05770/./figures/cdf_HII_ne_assoc.png to _build/html/\n",
      "copying  tmp_2407.05770/./figures/cdf_HII_em_assoc.png to _build/html/\n",
      "copying  tmp_2407.05770/./figures/cdf_HII_nycl_assoc.png to _build/html/\n",
      "copying  tmp_2407.05770/./figures/cdf_HII_mass_assoc.png to _build/html/\n",
      "copying  tmp_2407.05770/./figures/cdf_HII_dist_assoc.png to _build/html/\n",
      "exported in  _build/html/2407.05770.md\n",
      "    + _build/html/tmp_2407.05770/./figures/hist_distribution2.png\n",
      "    + _build/html/tmp_2407.05770/./figures/velo_diff.png\n",
      "    + _build/html/tmp_2407.05770/./figures/distance_compare.png\n",
      "    + _build/html/tmp_2407.05770/./figures/cdf_HII_te_assoc_ad.png\n",
      "    + _build/html/tmp_2407.05770/./figures/cdf_HII_ne_assoc.png\n",
      "    + _build/html/tmp_2407.05770/./figures/cdf_HII_em_assoc.png\n",
      "    + _build/html/tmp_2407.05770/./figures/cdf_HII_nycl_assoc.png\n",
      "    + _build/html/tmp_2407.05770/./figures/cdf_HII_mass_assoc.png\n",
      "    + _build/html/tmp_2407.05770/./figures/cdf_HII_dist_assoc.png\n"
     ]
    }
   ],
   "source": [
    "for paper_id, md in documents:\n",
    "    export_markdown_summary(md, f\"{paper_id:s}.md\", '_build/html/')"
   ]
  },
  {
   "cell_type": "markdown",
   "id": "f087a0a7",
   "metadata": {
    "papermill": {
     "duration": 0.004192,
     "end_time": "2024-07-09T04:10:30.198384",
     "exception": false,
     "start_time": "2024-07-09T04:10:30.194192",
     "status": "completed"
    },
    "tags": []
   },
   "source": [
    "## Display the papers\n",
    "\n",
    "Not necessary but allows for a quick check."
   ]
  },
  {
   "cell_type": "code",
   "execution_count": 9,
   "id": "fd25f625",
   "metadata": {
    "execution": {
     "iopub.execute_input": "2024-07-09T04:10:30.208335Z",
     "iopub.status.busy": "2024-07-09T04:10:30.207768Z",
     "iopub.status.idle": "2024-07-09T04:10:30.214495Z",
     "shell.execute_reply": "2024-07-09T04:10:30.213816Z"
    },
    "papermill": {
     "duration": 0.013406,
     "end_time": "2024-07-09T04:10:30.215921",
     "exception": false,
     "start_time": "2024-07-09T04:10:30.202515",
     "status": "completed"
    },
    "scrolled": false,
    "tags": []
   },
   "outputs": [
    {
     "data": {
      "text/markdown": [
       "<div class=\"macros\" style=\"visibility:hidden;\">\n",
       "$\\newcommand{\\ensuremath}{}$\n",
       "$\\newcommand{\\xspace}{}$\n",
       "$\\newcommand{\\object}[1]{\\texttt{#1}}$\n",
       "$\\newcommand{\\farcs}{{.}''}$\n",
       "$\\newcommand{\\farcm}{{.}'}$\n",
       "$\\newcommand{\\arcsec}{''}$\n",
       "$\\newcommand{\\arcmin}{'}$\n",
       "$\\newcommand{\\ion}[2]{#1#2}$\n",
       "$\\newcommand{\\textsc}[1]{\\textrm{#1}}$\n",
       "$\\newcommand{\\hl}[1]{\\textrm{#1}}$\n",
       "$\\newcommand{\\footnote}[1]{}$</div>\n",
       "\n",
       "\n",
       "\n",
       "<div id=\"title\">\n",
       "\n",
       "# MINDS. The DR Tau disk II: probing the hot and cold $\\ce{H_2O}$ reservoirs in the JWST-MIRI spectrum\n",
       "\n",
       "</div>\n",
       "<div id=\"comments\">\n",
       "\n",
       "[![arXiv](https://img.shields.io/badge/arXiv-2407.05070-b31b1b.svg)](https://arxiv.org/abs/2407.05070)<mark>Appeared on: 2024-07-09</mark> -  _Accepted for publication in Astronomy & Astrophysics on 05/07/2024_\n",
       "\n",
       "</div>\n",
       "<div id=\"authors\">\n",
       "\n",
       "M. Temmink, et al. -- incl., <mark>T. Henning</mark>, <mark>G. Perotti</mark>, <mark>K. Schwarz</mark>\n",
       "\n",
       "</div>\n",
       "<div id=\"abstract\">\n",
       "\n",
       "**Abstract:** The Medium Resolution Spectrometer (MRS) of the Mid-InfraRed Instrument (MIRI) on the James Webb Space Telescope (JWST) gives insights into the chemical richness and complexity of the inner regions of planet-forming disks. Several disks that are compact in the millimetre dust emission have been found by Spitzer to be particularly bright in $\\ce{H_2O}$ , which is thought to be caused by the inward drift of icy pebbles. Here, we analyse the $\\ce{H_2O}$ -rich spectrum of the compact disk DR Tau using high-quality JWST-MIRI observations. We infer the $\\ce{H_2O}$ column densities (in cm $^{-2}$ ) using methods presented in previous works, as well as introducing a new method to fully characterise the pure rotational spectrum. We aim to further characterise the abundances of $\\ce{H_2O}$ in the inner regions of this disk and its abundance relative to $\\ce{CO}$ . We also search for emission of other molecular species, such as $\\ce{CH_4}$ , $\\ce{NH_3}$ , $\\ce{CS}$ , $\\ce{H_2}$ , $\\ce{SO_2}$ , and larger hydrocarbons; commonly detected species, such as $\\ce{CO}$ , $\\ce{CO_2}$ , $\\ce{HCN}$ , and $\\ce{C_2H_2}$ , have been investigated in our previous paper. We first use 0D local thermodynamic equilibrium (LTE) slab models to investigate the excitation properties observed in different wavelength regions across the entire spectrum, probing both the ro-vibrational and rotational transitions. To further analyse the pure rotational spectrum ( $\\geq$ 10 $\\mathrm{\\mu}$ m), we use the spectrum of a large, structured disk (CI Tau) as a template to search for differences with our compact disk. Finally, we fit multiple components to characterise the radial (and vertical) temperature gradient(s) present in the spectrum of DR Tau. The 0D slab models indicate a radial gradient in the disk, as the excitation temperature (emitting radius) decreases (increases) with increasing wavelength, which is confirmed by the analysis involving the large disk template. To explain the derived emitting radii, we need a larger inclination for the inner disk ( $i\\sim$ 10-23◦ee), agreeing with our previous analysis on $\\ce{CO}$ . From our multi-component fit, we find that at least three temperature components ( $T_1\\sim$ 800 K, $T_2\\sim$ 470 K, and $T_3\\sim$ 180 K) are required to reproduce the observed rotational spectrum of $\\ce{H_2O}$ arising from the inner $R_\\textnormal{em}\\sim$ 0.3-8 au. By comparing line ratios, we derived an upper limit on the column densities (in cm $^{-2}$ ) for the first two components of $\\log_{10}(N)\\leq$ 18.4 within $\\sim$ 1.2 au. We note that the models with a pure temperature gradient provide as robust results as the more complex models, which include spatial line shielding. No robust detection of the isotopologue $\\ce{H_2 ^{18}O}$ can be made and upper limits are provided for other molecular species. Our analysis confirms the presence of a pure radial temperature gradient present in the inner disk of DR Tau, which can be described by at least three components. This gradient scales roughly as $\\sim R_\\textnormal{em}^{-0.5}$ in the emitting layers, in the inner 2 au. As the observed $\\ce{H_2O}$ is mainly optically thick, a lower limit on the abundance ratio of $\\ce{H_2O}$ / $\\ce{CO}$ $\\sim$ 0.17 is derived, suggesting a potential depletion of $\\ce{H_2O}$ . Similarly to previous work, we detect a cold $\\ce{H_2O}$ component ( $T\\sim$ 180 K) originating from near the snowline, now with a multi-component analysis. Yet, we cannot conclude whether an enhancement of the $\\ce{H_2O}$ reservoir is observed following radial drift. A consistent analysis of a larger sample is necessary to study the importance of drift in enhancing the $\\ce{H_2O}$ abundances.\n",
       "\n",
       "</div>\n",
       "\n",
       "<div id=\"div_fig1\">\n",
       "\n",
       "<img src=\"tmp_2407.05070/./Spectrum_Region1-NF.png\" alt=\"Fig10.1\" width=\"33%\"/><img src=\"tmp_2407.05070/./Spectrum_Region2-NF.png\" alt=\"Fig10.2\" width=\"33%\"/><img src=\"tmp_2407.05070/./Spectrum_Region3-NF.png\" alt=\"Fig10.3\" width=\"33%\"/>\n",
       "\n",
       "**Figure 10. -** Best fitting slab models (without line overlap) for the different regions. In each subfigure, the top panel displays the continuum subtracted JWST spectrum in a specific region, while the full model spectrum is shown in red. The bottom panels show the models for the individually detected molecules. In addition, we show the \\ce{CO} model in pink from \\citet{TemminkEA24}. The horizontal bar in each top panel indicate the line regions used in the $\\chi^2_\\textnormal{red}$-fits. (*fig:RegionSpectra*)\n",
       "\n",
       "</div>\n",
       "<div id=\"div_fig2\">\n",
       "\n",
       "<img src=\"tmp_2407.05070/./Spectrum_Region4-NF.png\" alt=\"Fig11.1\" width=\"33%\"/><img src=\"tmp_2407.05070/./Spectrum_Region5-NF.png\" alt=\"Fig11.2\" width=\"33%\"/><img src=\"tmp_2407.05070/./Spectrum_Region6-NF.png\" alt=\"Fig11.3\" width=\"33%\"/>\n",
       "\n",
       "**Figure 11. -** Continuation of Figure \\ref{fig:RegionSpectra}. The best fit to the \\ce{OH} emission is shown in magenta. In addition, we show the best fitting slab models, adopted from \\citet{TemminkEA24}, for \\ce{CO_2}(green), \\ce{HCN}(orange), and \\ce{C_2H_2}(yellow) in the wavelength region of 13.6-16.3 $\\mathrm{\\mu}$m.  (*fig:RegionSpectra*)\n",
       "\n",
       "</div>\n",
       "<div id=\"div_fig3\">\n",
       "\n",
       "<img src=\"tmp_2407.05070/./DRTau-CITau-NF.png\" alt=\"Fig5\" width=\"100%\"/>\n",
       "\n",
       "**Figure 5. -** The spectra (across 13.4-24.0 $\\mathrm{\\mu}$m) of DR Tau (grey) and CI Tau (black, scaled; see Section \\ref{sec:LDT-CITau}) shown together with the residual spectrum (in red) of DR Tau after subtraction of the scaled spectrum of CI Tau. The best fitting \\ce{H_2O} slab model ($T$=375 K) to the residuals is shown in blue. The black dashed box just shortward of $\\sim$24.0 $\\mathrm{\\mu}$m indicates the pair of lines identified by \\citet{BanzattiEA23Subm}, hinting at a third component ($\\sim$170 K) needed to fully explain the observed \\ce{H_2O} reservoir. (*fig:LDTemplate*)\n",
       "\n",
       "</div><div id=\"qrcode\"><img src=https://api.qrserver.com/v1/create-qr-code/?size=100x100&data=\"https://arxiv.org/abs/2407.05070\"></div>"
      ],
      "text/plain": [
       "<IPython.core.display.Markdown object>"
      ]
     },
     "metadata": {},
     "output_type": "display_data"
    },
    {
     "data": {
      "text/markdown": [
       "<div class=\"macros\" style=\"visibility:hidden;\">\n",
       "$\\newcommand{\\ensuremath}{}$\n",
       "$\\newcommand{\\xspace}{}$\n",
       "$\\newcommand{\\object}[1]{\\texttt{#1}}$\n",
       "$\\newcommand{\\farcs}{{.}''}$\n",
       "$\\newcommand{\\farcm}{{.}'}$\n",
       "$\\newcommand{\\arcsec}{''}$\n",
       "$\\newcommand{\\arcmin}{'}$\n",
       "$\\newcommand{\\ion}[2]{#1#2}$\n",
       "$\\newcommand{\\textsc}[1]{\\textrm{#1}}$\n",
       "$\\newcommand{\\hl}[1]{\\textrm{#1}}$\n",
       "$\\newcommand{\\footnote}[1]{}$</div>\n",
       "\n",
       "\n",
       "\n",
       "<div id=\"title\">\n",
       "\n",
       "# A global view on star formation: The GLOSTAR Galactic plane survey \\ X. Galactic $\\ion{H}{ii}$ region catalog using radio recombination lines$\\thanks{Tables \\ref{tab:catalog} and \\ref{tab:phy_prop} are only available in electronic form at the CDS via anonymous ftp to \\url{cdsarc.u-strasbg.fr} (130.79.128.5) or via \\url{http://cdsweb.u-strasbg.fr/cgi-bin/qcat?J/A+A/}. }$\n",
       "\n",
       "</div>\n",
       "<div id=\"comments\">\n",
       "\n",
       "[![arXiv](https://img.shields.io/badge/arXiv-2407.05770-b31b1b.svg)](https://arxiv.org/abs/2407.05770)<mark>Appeared on: 2024-07-09</mark> -  _Accepted for publication in A&A_\n",
       "\n",
       "</div>\n",
       "<div id=\"authors\">\n",
       "\n",
       "S. Khan, et al. -- incl., <mark>H. Beuther</mark>\n",
       "\n",
       "</div>\n",
       "<div id=\"abstract\">\n",
       "\n",
       "**Abstract:** Studies of Galactic $\\ion{H}{ii}$ regions are of crucial importance for studying star formation and the evolution of the interstellar medium. Gaining an insight into their physical characteristics contributes to a more comprehensive understanding of these phenomena. The GLOSTAR project aims to provide a GLObal view on STAR formation in the Milky Way by performing an unbiased and sensitive survey. This is achieved by using the extremely wideband (4 $-$ 8 GHz) _C_ -band receiver of the _Karl G. Jansky_ Very Large Array and the Effelsberg 100 m telescope. Using radio recombination lines observed in the GLOSTAR survey with the VLA in D-configuration with a typical line sensitivity of 1 $\\sigma \\sim \\rm 3.0 mJy beam^{-1}$ at $\\sim \\rm 5 km s^{-1}$ and an angular resolution of 25 $\\arcsec$ , we cataloged 244 individual Galactic $\\ion{H}{ii}$ regions ( $-$ 2 $◦ \\leq$ $\\ell$ $\\leq$ 60 $◦$ \\& | _b_ | $\\leq$ 1 $◦$ and 76 $◦ \\leq$ $\\ell$ $\\leq$ 83 $◦$ \\& $-$ 1 $◦ \\leq$ _b_ $\\leq$ 2 $◦$ ) and derived their physical properties. We examined the mid-infrared (MIR) morphology of these $\\ion{H}{ii}$ regions and find that a significant portion of them exhibit a bubble-like morphology in the GLIMPSE 8 $\\mu$ m emission. We also searched for associations with the dust continuum and sources of methanol maser emission, other tracers of young stellar objects, and ﬁnd that 48 \\% and 14 \\% of our $\\ion{H}{ii}$ regions, respectively, are coextensive with those. We measured the electron temperature for a large sample of $\\ion{H}{II}$ regions within Galactocentric distances spanning from 1.6 to 13.1 kpc and derived the Galactic electron temperature gradient  as $\\sim$ 372 $\\pm$ 28 K kpc $^{-1}$ with an intercept of 4248 $\\pm$ 161 K, which is consistent with previous studies.\n",
       "\n",
       "</div>\n",
       "\n",
       "<div id=\"div_fig1\">\n",
       "\n",
       "<img src=\"tmp_2407.05770/./figures/hist_distribution2.png\" alt=\"Fig15\" width=\"100%\"/>\n",
       "\n",
       "**Figure 15. -** Distributions of various $\\ion${H}{ii} region physical properties from top left to bottom right, continuum flux density, RRL amplitude, RRL FWHM, effective radius, electron temperature, electron density, EM, Lyman photon rate, and ionized gas mass. The electron temperature reported by [Quireza, et. al (2006)]() is indicated in red, while the one reported by [Wenger, et. al (2019)]() is shown in yellow, and these are compared to the GLOSTAR $\\ion${H}{ii} region sample (aquamarine). On average, the electron temperature of GLOSTAR $\\ion${H}{ii} regions (6707 K) is lower than that of [Quireza, et. al (2006)]()(8214 K) and [Wenger, et. al (2019)]()(8055 K). Electron density histograms are presented for both the GLOSTAR (aquamarine) and [Quireza, et. al (2006)]()(red) $\\ion${H}{ii} region samples. On average, the GLOSTAR nebulae have higher electron density than the [Quireza, et. al (2006)]() sources. (*fig:phy_prop_dist*)\n",
       "\n",
       "</div>\n",
       "<div id=\"div_fig2\">\n",
       "\n",
       "<img src=\"tmp_2407.05770/./figures/velo_diff.png\" alt=\"Fig11.1\" width=\"50%\"/><img src=\"tmp_2407.05770/./figures/distance_compare.png\" alt=\"Fig11.2\" width=\"50%\"/>\n",
       "\n",
       "**Figure 11. -** Top panel: Plot of the difference in source velocity ($\\rm V_{lsr}$) and the velocity of tangent point ($\\rm V_T$), versus the difference in the velocity of the first absorption minimum ($\\rm V_A$) and the $\\rm V_T$. The diagonal and horizontal shaded regions represent the expected location of the near and far distance sources, respectively, while the solid line shows the approximate boundaries  ([Kolpak, et. al 2003](), [Urquhart, Hoare and Lumsden 2012]()) . The dashed diagonal line divides the darker triangular region in the lower left quadrant of the plot into two regions: sources above the line are more likely to be at a near distance, while those below are more likely to be at a far distance. Bottom panel: Plot shows the relation between the distance determined using the Bayesian method presented by [Reid, et. al (2016)](), [Reid, Menten and Brunthaler (2019)]() and the near/far distance determined using the [Reid, Menten and Brunthaler (2014)]() rotation curve. The red circles and blue stars represent the distances taken from literature and obtained distance for 53 $\\ion${H}{ii} regions, respectively. The solid black line shows the line of equality, and the gray shaded region represents $\\pm$1 kpc.  (*fig:final_dist*)\n",
       "\n",
       "</div>\n",
       "<div id=\"div_fig3\">\n",
       "\n",
       "<img src=\"tmp_2407.05770/./figures/cdf_HII_te_assoc_ad.png\" alt=\"Fig18.1\" width=\"16%\"/><img src=\"tmp_2407.05770/./figures/cdf_HII_ne_assoc.png\" alt=\"Fig18.2\" width=\"16%\"/><img src=\"tmp_2407.05770/./figures/cdf_HII_em_assoc.png\" alt=\"Fig18.3\" width=\"16%\"/><img src=\"tmp_2407.05770/./figures/cdf_HII_nycl_assoc.png\" alt=\"Fig18.4\" width=\"16%\"/><img src=\"tmp_2407.05770/./figures/cdf_HII_mass_assoc.png\" alt=\"Fig18.5\" width=\"16%\"/><img src=\"tmp_2407.05770/./figures/cdf_HII_dist_assoc.png\" alt=\"Fig18.6\" width=\"16%\"/>\n",
       "\n",
       "**Figure 18. -** Comparison between the properties of GLOSTAR $\\ion${H}{ii} regions that are associated with ATLASGAL dust clumps (in red) and those that are not linked to ATLASGAL clumps (in blue). CDFs are presented for various properties of GLOSTAR $\\ion${H}{ii} regions. The results of the Anderson-Darling (AD) tests, indicated above each plot, provide insights into the statistical significance of the observed differences. (*fig:dust_without_dust_hist*)\n",
       "\n",
       "</div><div id=\"qrcode\"><img src=https://api.qrserver.com/v1/create-qr-code/?size=100x100&data=\"https://arxiv.org/abs/2407.05770\"></div>"
      ],
      "text/plain": [
       "<IPython.core.display.Markdown object>"
      ]
     },
     "metadata": {},
     "output_type": "display_data"
    }
   ],
   "source": [
    "[display(Markdown(k[1])) for k in documents];"
   ]
  },
  {
   "cell_type": "markdown",
   "id": "873873a4",
   "metadata": {
    "papermill": {
     "duration": 0.004641,
     "end_time": "2024-07-09T04:10:30.225481",
     "exception": false,
     "start_time": "2024-07-09T04:10:30.220840",
     "status": "completed"
    },
    "tags": []
   },
   "source": [
    "# Create HTML index"
   ]
  },
  {
   "cell_type": "code",
   "execution_count": 10,
   "id": "cf665672",
   "metadata": {
    "execution": {
     "iopub.execute_input": "2024-07-09T04:10:30.236019Z",
     "iopub.status.busy": "2024-07-09T04:10:30.235579Z",
     "iopub.status.idle": "2024-07-09T04:10:30.242985Z",
     "shell.execute_reply": "2024-07-09T04:10:30.242324Z"
    },
    "papermill": {
     "duration": 0.014262,
     "end_time": "2024-07-09T04:10:30.244284",
     "exception": false,
     "start_time": "2024-07-09T04:10:30.230022",
     "status": "completed"
    },
    "tags": []
   },
   "outputs": [
    {
     "name": "stdout",
     "output_type": "stream",
     "text": [
      "119  publications files modified in the last 7 days.\n"
     ]
    }
   ],
   "source": [
    "from datetime import datetime, timedelta, timezone\n",
    "from glob import glob\n",
    "import os\n",
    "\n",
    "files = glob('_build/html/*.md')\n",
    "days = 7\n",
    "now = datetime.today()\n",
    "res = []\n",
    "for fk in files:\n",
    "    stat_result = os.stat(fk).st_ctime\n",
    "    modified = datetime.fromtimestamp(stat_result, tz=timezone.utc).replace(tzinfo=None)\n",
    "    delta = now.today() - modified\n",
    "    if delta <= timedelta(days=days):\n",
    "        res.append((delta.seconds, fk))\n",
    "res = [k[1] for k in reversed(sorted(res, key=lambda x:x[1]))]\n",
    "npub = len(res)\n",
    "print(len(res), f\" publications files modified in the last {days:d} days.\")\n",
    "# [ print('\\t', k) for k in res ];"
   ]
  },
  {
   "cell_type": "code",
   "execution_count": 11,
   "id": "015de740",
   "metadata": {
    "execution": {
     "iopub.execute_input": "2024-07-09T04:10:30.254899Z",
     "iopub.status.busy": "2024-07-09T04:10:30.254474Z",
     "iopub.status.idle": "2024-07-09T04:10:30.267378Z",
     "shell.execute_reply": "2024-07-09T04:10:30.266696Z"
    },
    "papermill": {
     "duration": 0.019794,
     "end_time": "2024-07-09T04:10:30.268811",
     "exception": false,
     "start_time": "2024-07-09T04:10:30.249017",
     "status": "completed"
    },
    "tags": []
   },
   "outputs": [
    {
     "name": "stdout",
     "output_type": "stream",
     "text": [
      "13  publications in the last 7 days.\n"
     ]
    }
   ],
   "source": [
    "import datetime\n",
    "from glob import glob\n",
    "\n",
    "def get_last_n_days(lst, days=1):\n",
    "    \"\"\" Get the documents from the last n days \"\"\"\n",
    "    sorted_lst = sorted(lst, key=lambda x: x[1], reverse=True)\n",
    "    for fname, date in sorted_lst:\n",
    "        if date >= str(datetime.date.today() - datetime.timedelta(days=days)):\n",
    "            yield fname\n",
    "\n",
    "def extract_appearance_dates(lst_file):\n",
    "    dates = []\n",
    "\n",
    "    def get_date(line):\n",
    "        return line\\\n",
    "            .split('Appeared on:')[-1]\\\n",
    "            .split('</mark>')[0].strip()\n",
    "\n",
    "    for fname in lst:\n",
    "        with open(fname, 'r') as f:\n",
    "            found_date = False\n",
    "            for line in f:\n",
    "                if not found_date:\n",
    "                    if \"Appeared on\" in line:\n",
    "                        found_date = True\n",
    "                        dates.append((fname, get_date(line)))\n",
    "                else:\n",
    "                    break\n",
    "    return dates\n",
    "\n",
    "from glob import glob\n",
    "lst = glob('_build/html/*md')\n",
    "days = 7\n",
    "dates = extract_appearance_dates(lst)\n",
    "res = list(get_last_n_days(dates, days))\n",
    "npub = len(res)\n",
    "print(len(res), f\" publications in the last {days:d} days.\")"
   ]
  },
  {
   "cell_type": "code",
   "execution_count": 12,
   "id": "52ca0208",
   "metadata": {
    "execution": {
     "iopub.execute_input": "2024-07-09T04:10:30.279778Z",
     "iopub.status.busy": "2024-07-09T04:10:30.279326Z",
     "iopub.status.idle": "2024-07-09T04:10:30.284522Z",
     "shell.execute_reply": "2024-07-09T04:10:30.283974Z"
    },
    "papermill": {
     "duration": 0.012126,
     "end_time": "2024-07-09T04:10:30.285826",
     "exception": false,
     "start_time": "2024-07-09T04:10:30.273700",
     "status": "completed"
    },
    "scrolled": false,
    "tags": []
   },
   "outputs": [],
   "source": [
    "def create_carousel(npub=4):\n",
    "    \"\"\" Generate the HTML code for a carousel with `npub` slides \"\"\"\n",
    "    carousel = [\"\"\"  <div class=\"carousel\" \"\"\",\n",
    "                \"\"\"       data-flickity='{ \"autoPlay\": 10000, \"adaptiveHeight\": true, \"resize\": true, \"wrapAround\": true, \"pauseAutoPlayOnHover\": true, \"groupCells\": 1 }' id=\"asyncTypeset\">\"\"\"\n",
    "                ]\n",
    "    \n",
    "    item_str = \"\"\"    <div class=\"carousel-cell\"> <div id=\"slide{k}\" class=\"md_view\">Content {k}</div> </div>\"\"\"\n",
    "    for k in range(1, npub + 1):\n",
    "        carousel.append(item_str.format(k=k))\n",
    "    carousel.append(\"  </div>\")\n",
    "    return '\\n'.join(carousel)\n",
    "\n",
    "def create_grid(npub=4):\n",
    "    \"\"\" Generate the HTML code for a flat grid with `npub` slides \"\"\"\n",
    "    grid = [\"\"\"  <div class=\"grid\"> \"\"\",\n",
    "                ]\n",
    "    \n",
    "    item_str = \"\"\"    <div class=\"grid-item\"> <div id=\"slide{k}\" class=\"md_view\">Content {k}</div> </div>\"\"\"\n",
    "    for k in range(1, npub + 1):\n",
    "        grid.append(item_str.format(k=k))\n",
    "    grid.append(\"  </div>\")\n",
    "    return '\\n'.join(grid)"
   ]
  },
  {
   "cell_type": "code",
   "execution_count": 13,
   "id": "a6eac5b6",
   "metadata": {
    "execution": {
     "iopub.execute_input": "2024-07-09T04:10:30.296390Z",
     "iopub.status.busy": "2024-07-09T04:10:30.296032Z",
     "iopub.status.idle": "2024-07-09T04:10:30.301149Z",
     "shell.execute_reply": "2024-07-09T04:10:30.300627Z"
    },
    "papermill": {
     "duration": 0.011846,
     "end_time": "2024-07-09T04:10:30.302440",
     "exception": false,
     "start_time": "2024-07-09T04:10:30.290594",
     "status": "completed"
    },
    "scrolled": false,
    "tags": []
   },
   "outputs": [],
   "source": [
    "carousel = create_carousel(npub)\n",
    "docs = ', '.join(['\"{0:s}\"'.format(k.split('/')[-1]) for k in res])\n",
    "slides = ', '.join([f'\"slide{k}\"' for k in range(1, npub + 1)])\n",
    "\n",
    "with open(\"daily_template.html\", \"r\") as tpl:\n",
    "    page = tpl.read()\n",
    "    page = page.replace(\"{%-- carousel:s --%}\", carousel)\\\n",
    "               .replace(\"{%-- suptitle:s --%}\",  \"7-day archives\" )\\\n",
    "               .replace(\"{%-- docs:s --%}\", docs)\\\n",
    "               .replace(\"{%-- slides:s --%}\", slides)\n",
    "    \n",
    "with open(\"_build/html/index_7days.html\", 'w') as fout:\n",
    "    fout.write(page)"
   ]
  },
  {
   "cell_type": "code",
   "execution_count": 14,
   "id": "adc1a1ec",
   "metadata": {
    "execution": {
     "iopub.execute_input": "2024-07-09T04:10:30.313144Z",
     "iopub.status.busy": "2024-07-09T04:10:30.312896Z",
     "iopub.status.idle": "2024-07-09T04:10:30.319636Z",
     "shell.execute_reply": "2024-07-09T04:10:30.319077Z"
    },
    "papermill": {
     "duration": 0.013597,
     "end_time": "2024-07-09T04:10:30.320986",
     "exception": false,
     "start_time": "2024-07-09T04:10:30.307389",
     "status": "completed"
    },
    "tags": []
   },
   "outputs": [
    {
     "name": "stdout",
     "output_type": "stream",
     "text": [
      "5  publications in the last day.\n"
     ]
    }
   ],
   "source": [
    "# redo for today\n",
    "days = 1\n",
    "res = list(get_last_n_days(dates, days))\n",
    "npub = len(res)\n",
    "print(len(res), f\" publications in the last day.\")\n",
    "\n",
    "carousel = create_carousel(npub)\n",
    "docs = ', '.join(['\"{0:s}\"'.format(k.split('/')[-1]) for k in res])\n",
    "slides = ', '.join([f'\"slide{k}\"' for k in range(1, npub + 1)])\n",
    "\n",
    "with open(\"daily_template.html\", \"r\") as tpl:\n",
    "    page = tpl.read()\n",
    "    page = page.replace(\"{%-- carousel:s --%}\", carousel)\\\n",
    "               .replace(\"{%-- suptitle:s --%}\",  \"Daily\" )\\\n",
    "               .replace(\"{%-- docs:s --%}\", docs)\\\n",
    "               .replace(\"{%-- slides:s --%}\", slides)\n",
    "    \n",
    "# print(carousel, docs, slides)\n",
    "# print(page)\n",
    "with open(\"_build/html/index_daily.html\", 'w') as fout:\n",
    "    fout.write(page)"
   ]
  },
  {
   "cell_type": "code",
   "execution_count": 15,
   "id": "00eece82",
   "metadata": {
    "execution": {
     "iopub.execute_input": "2024-07-09T04:10:30.332187Z",
     "iopub.status.busy": "2024-07-09T04:10:30.331745Z",
     "iopub.status.idle": "2024-07-09T04:10:30.338351Z",
     "shell.execute_reply": "2024-07-09T04:10:30.337682Z"
    },
    "papermill": {
     "duration": 0.013759,
     "end_time": "2024-07-09T04:10:30.339681",
     "exception": false,
     "start_time": "2024-07-09T04:10:30.325922",
     "status": "completed"
    },
    "scrolled": false,
    "tags": []
   },
   "outputs": [
    {
     "name": "stdout",
     "output_type": "stream",
     "text": [
      "6  6 publications selected.\n"
     ]
    }
   ],
   "source": [
    "# Create the flat grid of the last N papers (fixed number regardless of dates)\n",
    "from itertools import islice \n",
    "\n",
    "npub = 6\n",
    "res = [k[0] for k in (islice(reversed(sorted(dates, key=lambda x: x[1])), 6))]\n",
    "print(len(res), f\" {npub} publications selected.\")\n",
    "\n",
    "grid = create_grid(npub)\n",
    "docs = ', '.join(['\"{0:s}\"'.format(k.split('/')[-1]) for k in res])\n",
    "slides = ', '.join([f'\"slide{k}\"' for k in range(1, npub + 1)])\n",
    "\n",
    "with open(\"grid_template.html\", \"r\") as tpl:\n",
    "    page = tpl.read()\n",
    "    page = page.replace(\"{%-- grid-content:s --%}\", grid)\\\n",
    "               .replace(\"{%-- suptitle:s --%}\",  f\"Last {npub:,d} papers\" )\\\n",
    "               .replace(\"{%-- docs:s --%}\", docs)\\\n",
    "               .replace(\"{%-- slides:s --%}\", slides)\n",
    "    \n",
    "# print(grid, docs, slides)\n",
    "# print(page)\n",
    "with open(\"_build/html/index_npub_grid.html\", 'w') as fout:\n",
    "    fout.write(page)"
   ]
  }
 ],
 "metadata": {
  "kernelspec": {
   "display_name": "Python 3 (ipykernel)",
   "language": "python",
   "name": "python3"
  },
  "language_info": {
   "codemirror_mode": {
    "name": "ipython",
    "version": 3
   },
   "file_extension": ".py",
   "mimetype": "text/x-python",
   "name": "python",
   "nbconvert_exporter": "python",
   "pygments_lexer": "ipython3",
   "version": "3.9.19"
  },
  "papermill": {
   "default_parameters": {},
   "duration": 90.564443,
   "end_time": "2024-07-09T04:10:30.661509",
   "environment_variables": {},
   "exception": null,
   "input_path": "MPIA daily digest.ipynb",
   "output_path": "log.ipynb",
   "parameters": {},
   "start_time": "2024-07-09T04:09:00.097066",
   "version": "2.6.0"
  },
  "vscode": {
   "interpreter": {
    "hash": "aee8b7b246df8f9039afb4144a1f6fd8d2ca17a180786b69acc140d282b71a49"
   }
  },
  "widgets": {
   "application/vnd.jupyter.widget-state+json": {
    "state": {
     "1f747c391e35400d85b156216b450469": {
      "model_module": "@jupyter-widgets/base",
      "model_module_version": "2.0.0",
      "model_name": "LayoutModel",
      "state": {
       "_model_module": "@jupyter-widgets/base",
       "_model_module_version": "2.0.0",
       "_model_name": "LayoutModel",
       "_view_count": null,
       "_view_module": "@jupyter-widgets/base",
       "_view_module_version": "2.0.0",
       "_view_name": "LayoutView",
       "align_content": null,
       "align_items": null,
       "align_self": null,
       "border_bottom": null,
       "border_left": null,
       "border_right": null,
       "border_top": null,
       "bottom": null,
       "display": null,
       "flex": null,
       "flex_flow": null,
       "grid_area": null,
       "grid_auto_columns": null,
       "grid_auto_flow": null,
       "grid_auto_rows": null,
       "grid_column": null,
       "grid_gap": null,
       "grid_row": null,
       "grid_template_areas": null,
       "grid_template_columns": null,
       "grid_template_rows": null,
       "height": null,
       "justify_content": null,
       "justify_items": null,
       "left": null,
       "margin": null,
       "max_height": null,
       "max_width": null,
       "min_height": null,
       "min_width": null,
       "object_fit": null,
       "object_position": null,
       "order": null,
       "overflow": null,
       "padding": null,
       "right": null,
       "top": null,
       "visibility": null,
       "width": null
      }
     },
     "26b7eef900194378b34957f1bc1d245e": {
      "model_module": "@jupyter-widgets/controls",
      "model_module_version": "2.0.0",
      "model_name": "ProgressStyleModel",
      "state": {
       "_model_module": "@jupyter-widgets/controls",
       "_model_module_version": "2.0.0",
       "_model_name": "ProgressStyleModel",
       "_view_count": null,
       "_view_module": "@jupyter-widgets/base",
       "_view_module_version": "2.0.0",
       "_view_name": "StyleView",
       "bar_color": null,
       "description_width": ""
      }
     },
     "36eb2f4b0e2948d4b7f128b59725cc07": {
      "model_module": "@jupyter-widgets/controls",
      "model_module_version": "2.0.0",
      "model_name": "HBoxModel",
      "state": {
       "_dom_classes": [],
       "_model_module": "@jupyter-widgets/controls",
       "_model_module_version": "2.0.0",
       "_model_name": "HBoxModel",
       "_view_count": null,
       "_view_module": "@jupyter-widgets/controls",
       "_view_module_version": "2.0.0",
       "_view_name": "HBoxView",
       "box_style": "",
       "children": [
        "IPY_MODEL_f845a58dfb9f4938a8f706a980b1e271",
        "IPY_MODEL_605c8059f4e9407697729498baabc637",
        "IPY_MODEL_529c8f3eeff946c5a7481f1fc2521818"
       ],
       "layout": "IPY_MODEL_1f747c391e35400d85b156216b450469",
       "tabbable": null,
       "tooltip": null
      }
     },
     "3985309914c94af789eb9b94537e881e": {
      "model_module": "@jupyter-widgets/base",
      "model_module_version": "2.0.0",
      "model_name": "LayoutModel",
      "state": {
       "_model_module": "@jupyter-widgets/base",
       "_model_module_version": "2.0.0",
       "_model_name": "LayoutModel",
       "_view_count": null,
       "_view_module": "@jupyter-widgets/base",
       "_view_module_version": "2.0.0",
       "_view_name": "LayoutView",
       "align_content": null,
       "align_items": null,
       "align_self": null,
       "border_bottom": null,
       "border_left": null,
       "border_right": null,
       "border_top": null,
       "bottom": null,
       "display": null,
       "flex": null,
       "flex_flow": null,
       "grid_area": null,
       "grid_auto_columns": null,
       "grid_auto_flow": null,
       "grid_auto_rows": null,
       "grid_column": null,
       "grid_gap": null,
       "grid_row": null,
       "grid_template_areas": null,
       "grid_template_columns": null,
       "grid_template_rows": null,
       "height": null,
       "justify_content": null,
       "justify_items": null,
       "left": null,
       "margin": null,
       "max_height": null,
       "max_width": null,
       "min_height": null,
       "min_width": null,
       "object_fit": null,
       "object_position": null,
       "order": null,
       "overflow": null,
       "padding": null,
       "right": null,
       "top": null,
       "visibility": null,
       "width": null
      }
     },
     "419b73c986c24b47b6393935c58b9705": {
      "model_module": "@jupyter-widgets/controls",
      "model_module_version": "2.0.0",
      "model_name": "HTMLStyleModel",
      "state": {
       "_model_module": "@jupyter-widgets/controls",
       "_model_module_version": "2.0.0",
       "_model_name": "HTMLStyleModel",
       "_view_count": null,
       "_view_module": "@jupyter-widgets/base",
       "_view_module_version": "2.0.0",
       "_view_name": "StyleView",
       "background": null,
       "description_width": "",
       "font_size": null,
       "text_color": null
      }
     },
     "529c8f3eeff946c5a7481f1fc2521818": {
      "model_module": "@jupyter-widgets/controls",
      "model_module_version": "2.0.0",
      "model_name": "HTMLModel",
      "state": {
       "_dom_classes": [],
       "_model_module": "@jupyter-widgets/controls",
       "_model_module_version": "2.0.0",
       "_model_name": "HTMLModel",
       "_view_count": null,
       "_view_module": "@jupyter-widgets/controls",
       "_view_module_version": "2.0.0",
       "_view_name": "HTMLView",
       "description": "",
       "description_allow_html": false,
       "layout": "IPY_MODEL_987bf87ef5374a31a42eb61804ac25a1",
       "placeholder": "​",
       "style": "IPY_MODEL_abf0a9ca69d14e0eb51a2f14b9077526",
       "tabbable": null,
       "tooltip": null,
       "value": " 3/3 [01:09&lt;00:00, 38.02s/it]"
      }
     },
     "605c8059f4e9407697729498baabc637": {
      "model_module": "@jupyter-widgets/controls",
      "model_module_version": "2.0.0",
      "model_name": "FloatProgressModel",
      "state": {
       "_dom_classes": [],
       "_model_module": "@jupyter-widgets/controls",
       "_model_module_version": "2.0.0",
       "_model_name": "FloatProgressModel",
       "_view_count": null,
       "_view_module": "@jupyter-widgets/controls",
       "_view_module_version": "2.0.0",
       "_view_name": "ProgressView",
       "bar_style": "success",
       "description": "",
       "description_allow_html": false,
       "layout": "IPY_MODEL_3985309914c94af789eb9b94537e881e",
       "max": 3.0,
       "min": 0.0,
       "orientation": "horizontal",
       "style": "IPY_MODEL_26b7eef900194378b34957f1bc1d245e",
       "tabbable": null,
       "tooltip": null,
       "value": 3.0
      }
     },
     "987bf87ef5374a31a42eb61804ac25a1": {
      "model_module": "@jupyter-widgets/base",
      "model_module_version": "2.0.0",
      "model_name": "LayoutModel",
      "state": {
       "_model_module": "@jupyter-widgets/base",
       "_model_module_version": "2.0.0",
       "_model_name": "LayoutModel",
       "_view_count": null,
       "_view_module": "@jupyter-widgets/base",
       "_view_module_version": "2.0.0",
       "_view_name": "LayoutView",
       "align_content": null,
       "align_items": null,
       "align_self": null,
       "border_bottom": null,
       "border_left": null,
       "border_right": null,
       "border_top": null,
       "bottom": null,
       "display": null,
       "flex": null,
       "flex_flow": null,
       "grid_area": null,
       "grid_auto_columns": null,
       "grid_auto_flow": null,
       "grid_auto_rows": null,
       "grid_column": null,
       "grid_gap": null,
       "grid_row": null,
       "grid_template_areas": null,
       "grid_template_columns": null,
       "grid_template_rows": null,
       "height": null,
       "justify_content": null,
       "justify_items": null,
       "left": null,
       "margin": null,
       "max_height": null,
       "max_width": null,
       "min_height": null,
       "min_width": null,
       "object_fit": null,
       "object_position": null,
       "order": null,
       "overflow": null,
       "padding": null,
       "right": null,
       "top": null,
       "visibility": null,
       "width": null
      }
     },
     "a6d89edee1b44a46bb1410144521c0d9": {
      "model_module": "@jupyter-widgets/base",
      "model_module_version": "2.0.0",
      "model_name": "LayoutModel",
      "state": {
       "_model_module": "@jupyter-widgets/base",
       "_model_module_version": "2.0.0",
       "_model_name": "LayoutModel",
       "_view_count": null,
       "_view_module": "@jupyter-widgets/base",
       "_view_module_version": "2.0.0",
       "_view_name": "LayoutView",
       "align_content": null,
       "align_items": null,
       "align_self": null,
       "border_bottom": null,
       "border_left": null,
       "border_right": null,
       "border_top": null,
       "bottom": null,
       "display": null,
       "flex": null,
       "flex_flow": null,
       "grid_area": null,
       "grid_auto_columns": null,
       "grid_auto_flow": null,
       "grid_auto_rows": null,
       "grid_column": null,
       "grid_gap": null,
       "grid_row": null,
       "grid_template_areas": null,
       "grid_template_columns": null,
       "grid_template_rows": null,
       "height": null,
       "justify_content": null,
       "justify_items": null,
       "left": null,
       "margin": null,
       "max_height": null,
       "max_width": null,
       "min_height": null,
       "min_width": null,
       "object_fit": null,
       "object_position": null,
       "order": null,
       "overflow": null,
       "padding": null,
       "right": null,
       "top": null,
       "visibility": null,
       "width": null
      }
     },
     "abf0a9ca69d14e0eb51a2f14b9077526": {
      "model_module": "@jupyter-widgets/controls",
      "model_module_version": "2.0.0",
      "model_name": "HTMLStyleModel",
      "state": {
       "_model_module": "@jupyter-widgets/controls",
       "_model_module_version": "2.0.0",
       "_model_name": "HTMLStyleModel",
       "_view_count": null,
       "_view_module": "@jupyter-widgets/base",
       "_view_module_version": "2.0.0",
       "_view_name": "StyleView",
       "background": null,
       "description_width": "",
       "font_size": null,
       "text_color": null
      }
     },
     "f845a58dfb9f4938a8f706a980b1e271": {
      "model_module": "@jupyter-widgets/controls",
      "model_module_version": "2.0.0",
      "model_name": "HTMLModel",
      "state": {
       "_dom_classes": [],
       "_model_module": "@jupyter-widgets/controls",
       "_model_module_version": "2.0.0",
       "_model_name": "HTMLModel",
       "_view_count": null,
       "_view_module": "@jupyter-widgets/controls",
       "_view_module_version": "2.0.0",
       "_view_name": "HTMLView",
       "description": "",
       "description_allow_html": false,
       "layout": "IPY_MODEL_a6d89edee1b44a46bb1410144521c0d9",
       "placeholder": "​",
       "style": "IPY_MODEL_419b73c986c24b47b6393935c58b9705",
       "tabbable": null,
       "tooltip": null,
       "value": "100%"
      }
     }
    },
    "version_major": 2,
    "version_minor": 0
   }
  }
 },
 "nbformat": 4,
 "nbformat_minor": 5
}