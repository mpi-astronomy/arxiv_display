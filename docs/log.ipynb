{
 "cells": [
  {
   "cell_type": "markdown",
   "id": "92bcb855",
   "metadata": {
    "papermill": {
     "duration": 0.004691,
     "end_time": "2023-03-29T04:07:50.645545",
     "exception": false,
     "start_time": "2023-03-29T04:07:50.640854",
     "status": "completed"
    },
    "tags": []
   },
   "source": [
    "# MPIA Arxiv on Deck 2\n",
    "\n",
    "Contains the steps to produce the paper extractions."
   ]
  },
  {
   "cell_type": "code",
   "execution_count": 1,
   "id": "3a0d6e11",
   "metadata": {
    "execution": {
     "iopub.execute_input": "2023-03-29T04:07:50.654351Z",
     "iopub.status.busy": "2023-03-29T04:07:50.653904Z",
     "iopub.status.idle": "2023-03-29T04:07:50.865958Z",
     "shell.execute_reply": "2023-03-29T04:07:50.865350Z"
    },
    "papermill": {
     "duration": 0.218314,
     "end_time": "2023-03-29T04:07:50.867756",
     "exception": false,
     "start_time": "2023-03-29T04:07:50.649442",
     "status": "completed"
    },
    "tags": []
   },
   "outputs": [],
   "source": [
    "# Imports\n",
    "import os\n",
    "from IPython.display import Markdown, display\n",
    "from tqdm.notebook import tqdm\n",
    "import warnings\n",
    "from PIL import Image \n",
    "\n",
    "# requires arxiv_on_deck_2\n",
    "\n",
    "from arxiv_on_deck_2.arxiv2 import (get_new_papers, \n",
    "                                    get_paper_from_identifier,\n",
    "                                    retrieve_document_source, \n",
    "                                    get_markdown_badge)\n",
    "from arxiv_on_deck_2 import (latex,\n",
    "                             latex_bib,\n",
    "                             mpia,\n",
    "                             highlight_authors_in_list)\n",
    "\n",
    "# Sometimes images are really big\n",
    "Image.MAX_IMAGE_PIXELS = 1000000000 "
   ]
  },
  {
   "cell_type": "code",
   "execution_count": 2,
   "id": "22aa9d44",
   "metadata": {
    "execution": {
     "iopub.execute_input": "2023-03-29T04:07:50.876511Z",
     "iopub.status.busy": "2023-03-29T04:07:50.875888Z",
     "iopub.status.idle": "2023-03-29T04:07:50.881415Z",
     "shell.execute_reply": "2023-03-29T04:07:50.880813Z"
    },
    "papermill": {
     "duration": 0.011423,
     "end_time": "2023-03-29T04:07:50.882790",
     "exception": false,
     "start_time": "2023-03-29T04:07:50.871367",
     "status": "completed"
    },
    "tags": []
   },
   "outputs": [],
   "source": [
    "# Some useful definitions.\n",
    "\n",
    "class AffiliationWarning(UserWarning):\n",
    "    pass\n",
    "\n",
    "class AffiliationError(RuntimeError):\n",
    "    pass\n",
    "\n",
    "def validation(source: str):\n",
    "    \"\"\"Raises error paper during parsing of source file\n",
    "    \n",
    "    Allows checks before parsing TeX code.\n",
    "    \n",
    "    Raises AffiliationWarning\n",
    "    \"\"\"\n",
    "    check = mpia.affiliation_verifications(source, verbose=True)\n",
    "    if check is not True:\n",
    "        raise AffiliationError(\"mpia.affiliation_verifications: \" + check)\n",
    "\n",
    "        \n",
    "warnings.simplefilter('always', AffiliationWarning)\n",
    "\n",
    "\n",
    "def get_markdown_qrcode(paper_id: str):\n",
    "    \"\"\" Generate a qrcode to the arxiv page using qrserver.com\n",
    "    \n",
    "    :param paper: Arxiv paper\n",
    "    :returns: markdown text\n",
    "    \"\"\"\n",
    "    url = r\"https://api.qrserver.com/v1/create-qr-code/?size=100x100&data=\"\n",
    "    txt = f\"\"\"<img src={url}\"https://arxiv.org/abs/{paper_id}\">\"\"\"\n",
    "    txt = '<div id=\"qrcode\">' + txt + '</div>'\n",
    "    return txt"
   ]
  },
  {
   "cell_type": "markdown",
   "id": "14bd6310",
   "metadata": {
    "papermill": {
     "duration": 0.003228,
     "end_time": "2023-03-29T04:07:50.889335",
     "exception": false,
     "start_time": "2023-03-29T04:07:50.886107",
     "status": "completed"
    },
    "tags": []
   },
   "source": [
    "## get list of arxiv paper candidates\n",
    "\n",
    "We use the MPIA mitarbeiter list webpage from mpia.de to get author names\n",
    "We then get all new papers from Arxiv and match authors"
   ]
  },
  {
   "cell_type": "code",
   "execution_count": 3,
   "id": "2645e73a",
   "metadata": {
    "execution": {
     "iopub.execute_input": "2023-03-29T04:07:50.897003Z",
     "iopub.status.busy": "2023-03-29T04:07:50.896660Z",
     "iopub.status.idle": "2023-03-29T04:08:18.903724Z",
     "shell.execute_reply": "2023-03-29T04:08:18.902266Z"
    },
    "papermill": {
     "duration": 28.012991,
     "end_time": "2023-03-29T04:08:18.905655",
     "exception": false,
     "start_time": "2023-03-29T04:07:50.892664",
     "status": "completed"
    },
    "tags": []
   },
   "outputs": [
    {
     "name": "stdout",
     "output_type": "stream",
     "text": [
      "Arxiv has 66 new papers today\n",
      "          6 with possible author matches\n"
     ]
    }
   ],
   "source": [
    "# get list from MPIA website\n",
    "# it automatically filters identified non-scientists :func:`mpia.filter_non_scientists`\n",
    "mpia_authors = mpia.get_mpia_mitarbeiter_list()\n",
    "normed_mpia_authors = [k[1] for k in mpia_authors]   # initials + fullname\n",
    "new_papers = get_new_papers()\n",
    "# add manual references\n",
    "add_paper_refs = []\n",
    "new_papers.extend([get_paper_from_identifier(k) for k in add_paper_refs])\n",
    "\n",
    "candidates = []\n",
    "for paperk in new_papers:\n",
    "    # Check author list with their initials\n",
    "    normed_author_list = [mpia.get_initials(k) for k in paperk['authors']]\n",
    "    hl_authors = highlight_authors_in_list(normed_author_list, normed_mpia_authors, verbose=True)\n",
    "    matches = [(hl, orig) for hl, orig in zip(hl_authors, paperk['authors']) if 'mark' in hl]\n",
    "    paperk['authors'] = hl_authors\n",
    "    if matches:\n",
    "        # only select paper if an author matched our list\n",
    "        candidates.append(paperk)\n",
    "print(\"\"\"Arxiv has {0:,d} new papers today\"\"\".format(len(new_papers)))        \n",
    "print(\"\"\"          {0:,d} with possible author matches\"\"\".format(len(candidates)))"
   ]
  },
  {
   "cell_type": "markdown",
   "id": "3543b34a",
   "metadata": {
    "papermill": {
     "duration": 0.003547,
     "end_time": "2023-03-29T04:08:18.914163",
     "exception": false,
     "start_time": "2023-03-29T04:08:18.910616",
     "status": "completed"
    },
    "tags": []
   },
   "source": [
    "# Parse sources and generate relevant outputs\n",
    "\n",
    "From the candidates, we do the following steps:\n",
    "* get their tarball from ArXiv (and extract data)\n",
    "* find the main .tex file: find one with \\documentclass{...} (sometimes it's non trivial)\n",
    "* Check affiliations with :func:`validation`, which uses :func:`mpia.affiliation_verifications`\n",
    "* If passing the affiliations: we parse the .tex source\n",
    "   * inject sub-documents into the main (flatten the main document)\n",
    "   * parse structure, extract information (title, abstract, authors, figures...)\n",
    "   * handles `\\graphicspath` if provided\n",
    "* Generate the .md document."
   ]
  },
  {
   "cell_type": "code",
   "execution_count": 4,
   "id": "9576b79e",
   "metadata": {
    "execution": {
     "iopub.execute_input": "2023-03-29T04:08:18.922390Z",
     "iopub.status.busy": "2023-03-29T04:08:18.922139Z",
     "iopub.status.idle": "2023-03-29T04:10:52.251395Z",
     "shell.execute_reply": "2023-03-29T04:10:52.250768Z"
    },
    "papermill": {
     "duration": 153.335741,
     "end_time": "2023-03-29T04:10:52.253314",
     "exception": false,
     "start_time": "2023-03-29T04:08:18.917573",
     "status": "completed"
    },
    "scrolled": false,
    "tags": []
   },
   "outputs": [
    {
     "data": {
      "application/vnd.jupyter.widget-view+json": {
       "model_id": "9f7525a3b4d04233809bbc7e81b4b57b",
       "version_major": 2,
       "version_minor": 0
      },
      "text/plain": [
       "  0%|          | 0/5 [00:00<?, ?it/s]"
      ]
     },
     "metadata": {},
     "output_type": "display_data"
    },
    {
     "name": "stdout",
     "output_type": "stream",
     "text": [
      "Retrieving document from  https://arxiv.org/e-print/2303.15516\n"
     ]
    },
    {
     "name": "stdout",
     "output_type": "stream",
     "text": [
      "extracting tarball to tmp_2303.15516..."
     ]
    },
    {
     "name": "stdout",
     "output_type": "stream",
     "text": [
      " done.\n",
      "Retrieving document from  https://arxiv.org/e-print/2303.15525\n"
     ]
    },
    {
     "name": "stdout",
     "output_type": "stream",
     "text": [
      "extracting tarball to tmp_2303.15525..."
     ]
    },
    {
     "name": "stdout",
     "output_type": "stream",
     "text": [
      " done.\n"
     ]
    },
    {
     "name": "stderr",
     "output_type": "stream",
     "text": [
      "/opt/hostedtoolcache/Python/3.9.16/x64/lib/python3.9/site-packages/IPython/core/interactiveshell.py:3460: LatexWarning: Multiple tex files.\n",
      "\n",
      "  exec(code_obj, self.user_global_ns, self.user_ns)\n",
      "/opt/hostedtoolcache/Python/3.9.16/x64/lib/python3.9/site-packages/IPython/core/interactiveshell.py:3460: LatexWarning: Found documentclass in tmp_2303.15525/main.tex\n",
      "\n",
      "  exec(code_obj, self.user_global_ns, self.user_ns)\n",
      "/opt/hostedtoolcache/Python/3.9.16/x64/lib/python3.9/site-packages/arxiv_on_deck_2/latex.py:399: LatexWarning: Latex injecting: 'pn_table' from 'tmp_2303.15525/pn_table.tex'\n",
      "  warnings.warn(LatexWarning(f\"Latex injecting: '{ext}' from '{subsource}'\"))\n",
      "/opt/hostedtoolcache/Python/3.9.16/x64/lib/python3.9/site-packages/arxiv_on_deck_2/latex.py:399: LatexWarning: Latex injecting: 'G042.9-06.9_table.tex' from 'tmp_2303.15525/G042.9-06.9_table.tex'\n",
      "  warnings.warn(LatexWarning(f\"Latex injecting: '{ext}' from '{subsource}'\"))\n",
      "/opt/hostedtoolcache/Python/3.9.16/x64/lib/python3.9/site-packages/arxiv_on_deck_2/latex.py:399: LatexWarning: Latex injecting: 'obs_table.tex' from 'tmp_2303.15525/obs_table.tex'\n",
      "  warnings.warn(LatexWarning(f\"Latex injecting: '{ext}' from '{subsource}'\"))\n",
      "/opt/hostedtoolcache/Python/3.9.16/x64/lib/python3.9/site-packages/arxiv_on_deck_2/latex.py:399: LatexWarning: Latex injecting: 'PN.tex' from 'tmp_2303.15525/PN.tex'\n",
      "  warnings.warn(LatexWarning(f\"Latex injecting: '{ext}' from '{subsource}'\"))\n"
     ]
    },
    {
     "name": "stdout",
     "output_type": "stream",
     "text": [
      "Found 107 bibliographic references in tmp_2303.15525/main.bbl.\n",
      "Retrieving document from  https://arxiv.org/e-print/2303.15618\n"
     ]
    },
    {
     "name": "stdout",
     "output_type": "stream",
     "text": [
      "extracting tarball to tmp_2303.15618..."
     ]
    },
    {
     "name": "stdout",
     "output_type": "stream",
     "text": [
      " done.\n",
      "Retrieving document from  https://arxiv.org/e-print/2303.15675\n"
     ]
    },
    {
     "name": "stdout",
     "output_type": "stream",
     "text": [
      "extracting tarball to tmp_2303.15675..."
     ]
    },
    {
     "name": "stdout",
     "output_type": "stream",
     "text": [
      " done.\n"
     ]
    },
    {
     "name": "stderr",
     "output_type": "stream",
     "text": [
      "/opt/hostedtoolcache/Python/3.9.16/x64/lib/python3.9/site-packages/arxiv_on_deck_2/latex.py:473: LatexWarning: Error parsing the document directly. Trying to recover.\n",
      "  warnings.warn(LatexWarning(f\"Error parsing the document directly. Trying to recover.\"))\n"
     ]
    },
    {
     "name": "stdout",
     "output_type": "stream",
     "text": [
      "✔ → 0:header\n",
      "  ↳ 5540:\\section{Introduction} \\label{sect:intro}\n"
     ]
    },
    {
     "name": "stdout",
     "output_type": "stream",
     "text": [
      "✔ → 5540:\\section{Introduction} \\label{sect:intro}\n",
      "  ↳ 14697:\\section{Disk Model} \\label{sect:model}\n"
     ]
    },
    {
     "name": "stdout",
     "output_type": "stream",
     "text": [
      "✘ → 14697:\\section{Disk Model} \\label{sect:model}\n",
      "  ↳ 36514:\\section{Simulation setups} \\label{sect:Setup}\n"
     ]
    },
    {
     "name": "stdout",
     "output_type": "stream",
     "text": [
      "✔ → 36514:\\section{Simulation setups} \\label{sect:Setup}\n",
      "  ↳ 46965:\\section{Results} \\label{sect:results}\n"
     ]
    },
    {
     "name": "stdout",
     "output_type": "stream",
     "text": [
      "✔ → 46965:\\section{Results} \\label{sect:results}\n",
      "  ↳ 84330:\\section{Discussion} \\label{sect:discussion}\n"
     ]
    },
    {
     "name": "stdout",
     "output_type": "stream",
     "text": [
      "✔ → 84330:\\section{Discussion} \\label{sect:discussion}\n",
      "  ↳ 98370:\\section{Summary and Conclusions} \\label{sect:summary and conclusions}\n",
      "✔ → 98370:\\section{Summary and Conclusions} \\label{sect:summary and conclusions}\n",
      "  ↳ 104237:\\begin{appendix}\n",
      "✔ → 104237:\\begin{appendix}\n",
      "  ↳ 104254:\\section{Rayleigh adjustment for a nonuniform radial grid} \\label{appendix:rayleigh adjustment}\n"
     ]
    },
    {
     "name": "stdout",
     "output_type": "stream",
     "text": [
      "✘ → 104254:\\section{Rayleigh adjustment for a nonuniform radial grid} \\label{appendix:rayleigh adjustment}\n",
      "  ↳ 113054:\\section{Dependence of the steady-state MRI-driven accretion on the power-law dust size distribution} \\label{appendix:Follow-up on the effect of a dust distribution on the steady-state MRI-driven accretion regime}\n"
     ]
    },
    {
     "name": "stdout",
     "output_type": "stream",
     "text": [
      "✔ → 113054:\\section{Dependence of the steady-state MRI-driven accretion on the power-law dust size distribution} \\label{appendix:Follow-up on the effect of a dust distribution on the steady-state MRI-driven accretion regime}\n",
      "  ↳ 120359:\\section{Temporal evolution of the dust surface density distribution for Models V and VI} \\label{appendix:temporal evolution of the dust surface density distribution for Models V and VI}\n",
      "✔ → 120359:\\section{Temporal evolution of the dust surface density distribution for Models V and VI} \\label{appendix:temporal evolution of the dust surface density distribution for Models V and VI}\n",
      "  ↳ 121988:end\n"
     ]
    },
    {
     "name": "stdout",
     "output_type": "stream",
     "text": [
      "Found 107 bibliographic references in tmp_2303.15675/aa_original_tdelage.bbl.\n",
      "Retrieving document from  https://arxiv.org/e-print/2303.16137\n"
     ]
    },
    {
     "name": "stdout",
     "output_type": "stream",
     "text": [
      "extracting tarball to tmp_2303.16137... done.\n"
     ]
    }
   ],
   "source": [
    "documents = []\n",
    "failed = []\n",
    "for paper in tqdm(candidates[:-1]):\n",
    "    paper_id = paper['identifier'].lower().replace('arxiv:', '')\n",
    "    \n",
    "    folder = f'tmp_{paper_id}'\n",
    "\n",
    "    try:\n",
    "        if not os.path.isdir(folder):\n",
    "            folder = retrieve_document_source(f\"{paper_id}\", f'tmp_{paper_id}')\n",
    "        \n",
    "        try:\n",
    "            doc = latex.LatexDocument(folder, validation=validation)    \n",
    "        except AffiliationError as affilerror:\n",
    "            msg = f\"ArXiv:{paper_id:s} is not an MPIA paper... \" + str(affilerror)\n",
    "            failed.append((paper, \"affiliation error: \" + str(affilerror) ))\n",
    "            continue\n",
    "        \n",
    "        # Hack because sometimes author parsing does not work well\n",
    "        if (len(doc.authors) != len(paper['authors'])):\n",
    "            doc._authors = paper['authors']\n",
    "        else:\n",
    "            # highlight authors (FIXME: doc.highlight_authors)\n",
    "            # done on arxiv paper already\n",
    "            doc._authors = highlight_authors_in_list(\n",
    "                [mpia.get_initials(k) for k in doc.authors], \n",
    "                normed_mpia_authors, verbose=True)\n",
    "        if (doc.abstract) in (None, ''):\n",
    "            doc._abstract = paper['abstract']\n",
    "            \n",
    "        doc.comment = (get_markdown_badge(paper_id) + \n",
    "                       \"<mark>Appeared on: \" + paper['date'] + \"</mark> - \")\n",
    "        if paper['comments']:\n",
    "            doc.comment += \" _\" + paper['comments'] + \"_\"\n",
    "        \n",
    "        full_md = doc.generate_markdown_text()\n",
    "        \n",
    "        full_md += get_markdown_qrcode(paper_id)\n",
    "        \n",
    "        # replace citations\n",
    "        try:\n",
    "            bibdata = latex_bib.LatexBib.from_doc(doc)\n",
    "            full_md = latex_bib.replace_citations(full_md, bibdata)\n",
    "        except Exception as e:\n",
    "            print(e)\n",
    "        \n",
    "        documents.append((paper_id, full_md))\n",
    "    except Exception as e:\n",
    "        warnings.warn(latex.LatexWarning(f\"{paper_id:s} did not run properly\\n\" +\n",
    "                                         str(e)\n",
    "                                        ))\n",
    "        failed.append((paper, \"latex error \" + str(e)))"
   ]
  },
  {
   "cell_type": "markdown",
   "id": "2505a25c",
   "metadata": {
    "papermill": {
     "duration": 0.005853,
     "end_time": "2023-03-29T04:10:52.264269",
     "exception": false,
     "start_time": "2023-03-29T04:10:52.258416",
     "status": "completed"
    },
    "tags": []
   },
   "source": [
    "### Export the logs\n",
    "\n",
    "Throughout, we also keep track of the logs per paper. see `logs-{today date}.md` "
   ]
  },
  {
   "cell_type": "code",
   "execution_count": 5,
   "id": "d733828a",
   "metadata": {
    "execution": {
     "iopub.execute_input": "2023-03-29T04:10:52.275844Z",
     "iopub.status.busy": "2023-03-29T04:10:52.275100Z",
     "iopub.status.idle": "2023-03-29T04:10:52.294122Z",
     "shell.execute_reply": "2023-03-29T04:10:52.293459Z"
    },
    "papermill": {
     "duration": 0.02657,
     "end_time": "2023-03-29T04:10:52.295657",
     "exception": false,
     "start_time": "2023-03-29T04:10:52.269087",
     "status": "completed"
    },
    "scrolled": false,
    "tags": []
   },
   "outputs": [
    {
     "data": {
      "text/markdown": [
       "## Successful papers"
      ],
      "text/plain": [
       "<IPython.core.display.Markdown object>"
      ]
     },
     "metadata": {},
     "output_type": "display_data"
    },
    {
     "data": {
      "text/markdown": [
       "\n",
       "|||\n",
       "|---:|:---|\n",
       "| [![arXiv](https://img.shields.io/badge/arXiv-arXiv:2303.15525-b31b1b.svg)](https://arxiv.org/abs/arXiv:2303.15525) | **Euclid preparation. XXXII. A UV-NIR spectral atlas of compact planetary  nebulae for wavelength calibration**  |\n",
       "|| E. Collaboration, et al. -- incl., <mark>K. Paterson</mark>, <mark>M. Schirmer</mark> |\n",
       "|*Appeared on*| *2023-03-29*|\n",
       "|*Comments*| *Accepted in A&A*|\n",
       "|**Abstract**| The Euclid mission will conduct an extragalactic survey over 15000 deg$^2$ of the extragalactic sky. The spectroscopic channel of the Near-Infrared Spectrometer and Photometer (NISP) has a resolution of $R\\sim450$ for its blue and red grisms that collectively cover the $0.93$--$1.89 $\\micron;range. NISP will obtain spectroscopic redshifts for $3\\times10^7$ galaxies for the experiments on galaxy clustering, baryonic acoustic oscillations, and redshift space distortion. The wavelength calibration must be accurate within $5$\\AA to avoid systematics in the redshifts and downstream cosmological parameters. The NISP pre-flight dispersion laws for the grisms were obtained on the ground using a Fabry-Perot etalon. Launch vibrations, zero gravity conditions, and thermal stabilisation may alter these dispersion laws, requiring an in-flight recalibration. To this end, we use the emission lines in the spectra of compact planetary nebulae (PNe), which were selected from a PN data base. To ensure completeness of the PN sample, we developed a novel technique to identify compact and strong line emitters in Gaia spectroscopic data using the Gaia spectra shape coefficients. We obtained VLT/X-SHOOTER spectra from $0.3$ to $2.5$ \\micron;for 19 PNe in excellent seeing conditions and a wide slit, mimicking Euclid's slitless spectroscopy mode but with 10 times higher spectral resolution. Additional observations of one northern PN were obtained in the $0.80$--$1.90$ \\micron range with the GMOS and GNIRS instruments at the Gemini North observatory. The collected spectra were combined into an atlas of heliocentric vacuum wavelengths with a joint statistical and systematic accuracy of 0.1 \\AA in the optical and 0.3 \\AA in the near-infrared. The wavelength atlas and the related 1D and 2D spectra are made publicly available. |"
      ],
      "text/plain": [
       "[arXiv:2303.15525] Euclid preparation. XXXII. A UV-NIR spectral atlas of compact planetary  nebulae for wavelength calibration\n",
       "\tE. Collaboration, et al. -- incl., <mark>K. Paterson</mark>, <mark>M. Schirmer</mark>"
      ]
     },
     "metadata": {},
     "output_type": "display_data"
    },
    {
     "data": {
      "text/markdown": [
       "\n",
       "|||\n",
       "|---:|:---|\n",
       "| [![arXiv](https://img.shields.io/badge/arXiv-arXiv:2303.15675-b31b1b.svg)](https://arxiv.org/abs/arXiv:2303.15675) | **The impact of dust evolution on the dead zone outer edge in magnetized  protoplanetary disks**  |\n",
       "|| T. N. Delage, et al. -- incl., <mark>M. Gárate</mark>, <mark>M. Flock</mark> |\n",
       "|*Appeared on*| *2023-03-29*|\n",
       "|*Comments*| *23 pages, 13 figures, Accepted for publication in A&A*|\n",
       "|**Abstract**| [Abridged] Aims. We provide an important step toward a better understanding of the magnetorotational instability (MRI)-dust coevolution in protoplanetary disks by presenting a proof of concept that dust evolution ultimately plays a crucial role in the MRI activity. Methods. First, we study how a fixed power-law dust size distribution with varying parameters impacts the MRI activity, especially the steady-state MRI-driven accretion, by employing and improving our previous 1+1D MRI-driven turbulence model. Second, we relax the steady-state accretion assumption in this disk accretion model, and partially couple it to a dust evolution model in order to investigate how the evolution of dust (dynamics and grain growth processes combined) and MRI-driven accretion are intertwined on million-year timescales. Results. Dust coagulation and settling lead to a higher gas ionization degree in the protoplanetary disk, resulting in stronger MRI-driven turbulence as well as a more compact dead zone. On the other hand, fragmentation has an opposite effect because it replenishes the disk in small dust particles. Since the dust content of the disk decreases over million years of evolution due to radial drift, the MRI-driven turbulence overall becomes stronger and the dead zone more compact until the disk dust-gas mixture eventually behaves as a grain-free plasma. Furthermore, our results show that dust evolution alone does not lead to a complete reactivation of the dead zone. Conclusions. The MRI activity evolution (hence the temporal evolution of the MRI-induced $\\alpha$-parameter) is controlled by dust evolution and occurs on a timescale of local dust growth, as long as there is enough dust particles in the disk to dominate the recombination process for the ionization chemistry. Once it is no longer the case, it is expected to be controlled by gas evolution and occurs on a viscous evolution timescale. |"
      ],
      "text/plain": [
       "[arXiv:2303.15675] The impact of dust evolution on the dead zone outer edge in magnetized  protoplanetary disks\n",
       "\tT. N. Delage, et al. -- incl., <mark>M. Gárate</mark>, <mark>M. Flock</mark>"
      ]
     },
     "metadata": {},
     "output_type": "display_data"
    },
    {
     "data": {
      "text/markdown": [
       "## Failed papers"
      ],
      "text/plain": [
       "<IPython.core.display.Markdown object>"
      ]
     },
     "metadata": {},
     "output_type": "display_data"
    },
    {
     "data": {
      "text/markdown": [
       "\n",
       "|||\n",
       "|---:|:---|\n",
       "| [![arXiv](https://img.shields.io/badge/arXiv-arXiv:2303.15516-b31b1b.svg)](https://arxiv.org/abs/arXiv:2303.15516) | **A systematic survey of millimetre-wavelength flaring variability of  Young Stellar Objects in the Orion Nebula Cluster**  |\n",
       "|| J. Vargas-González, et al. -- incl., <mark>M. Güdel</mark> |\n",
       "|*Appeared on*| *2023-03-29*|\n",
       "|*Comments*| *15 pages, 8 figures, accepted for publication in MNRAS*|\n",
       "|**Abstract**| High-energy processes are ubiquitous even in the earliest stages of protostellar evolution. Motivated by the results of our systematic search for intense centimeter radio flares in Young Stellar Objects (YSOs) and by rare findings of strong millimeter-wavelength variability, we have conducted a systematic search for such variability in the Orion Nebula Cluster (ONC) using Atacama Large Millimeter/submillimeter Array (ALMA). Rapid variability on timescales of minutes to hours in the (centimeter)millimeter-wavelength range indicates (gyro)synchrotron radiation. Additionally, mass accretion will also affect the millimeter-wavelength luminosity but typically on longer timescales. Beyond studies of individual YSOs, our characterization of strong millimeter-wavelength variability with ALMA in the ONC sets first systematic constraints on the occurrence of such variability in a large number of YSOs ($\\sim$130). We report the discovery of an order of magnitude millimeter-flare within just a few minutes from a known YSO previously reported as a radio flaring source at cm-wavelengths (the \"ORBS'' source). We also present an assessment of the systematic variability effects caused by the use of time-sliced imaging of a complex region. These are mostly due to the impact of a changing synthesized beam throughout the observations. We use simulated ALMA observations to reproduce and quantify these effects and set a lower limit for the variability that can be studied using our method in a complex region such as the ONC. Our results demonstrate that the utility of time domain analysis of YSOs extends into the millimeter-wavelength range, potentially interfering with the conversion of observed fluxes into dust masses. |\n",
       "|<p style=\"color:green\"> **ERROR** </p>| <p style=\"color:green\">affiliation error: mpia.affiliation_verifications: 'Heidelberg' keyword not found.</p> |"
      ],
      "text/plain": [
       "<IPython.core.display.Markdown object>"
      ]
     },
     "metadata": {},
     "output_type": "display_data"
    },
    {
     "data": {
      "text/markdown": [
       "\n",
       "|||\n",
       "|---:|:---|\n",
       "| [![arXiv](https://img.shields.io/badge/arXiv-arXiv:2303.15618-b31b1b.svg)](https://arxiv.org/abs/arXiv:2303.15618) | **Revisiting Emission-Line Measurement Methods for Narrow-Line Active  Galactic Nuclei**  |\n",
       "|| V. C. Khatu, et al. -- incl., <mark>S.-S. Li</mark> |\n",
       "|*Appeared on*| *2023-03-29*|\n",
       "|*Comments*| *14 pages, 9 figures, accepted for publication in PASP*|\n",
       "|**Abstract**| Measuring broad emission-line widths in active galactic nuclei (AGN) is not straightforward owing to the complex nature of flux variability in these systems. Line-width measurements become especially challenging when signal-to-noise is low, profiles are narrower, or spectral resolution is low. We conducted an extensive correlation analysis between emission-line measurements from the optical spectra of Markarian 142 (Mrk 142; a narrow-line Seyfert galaxy) taken with the Gemini North Telescope (Gemini) at a spectral resolution of 185.6+\\-10.2 km/s and the Lijiang Telescope (LJT) at 695.2+\\-3.9 km/s to investigate the disparities in the measured broad-line widths from both telescope data. Mrk~142 posed a challenge due to its narrow broad-line profiles, which were severely affected by instrumental broadening in the lower-resolution LJT spectra. We discovered that allowing the narrow-line flux of permitted lines having broad and narrow components to vary during spectral fitting caused a leak in the narrow-line flux to the broad component, resulting in broader broad-line widths in the LJT spectra. Fixing the narrow-line flux ratios constrained the flux leak and yielded the Hydrogen-beta broad-line widths from LJT spectra $\\sim$54\\% closer to the Gemini Hydrogen-beta widths than with flexible narrow-line ratios. The availability of spectra at different resolutions presented this unique opportunity to inspect how spectral resolution affected emission-line profiles in our data and adopt a unique method to accurately measure broad-line widths. Reconsidering line-measurement methods while studying diverse AGN populations is critical for the success of future reverberation-mapping studies. Based on the technique used in this work, we offer recommendations for measuring line widths in narrow-line AGN. |\n",
       "|<p style=\"color:green\"> **ERROR** </p>| <p style=\"color:green\">affiliation error: mpia.affiliation_verifications: 'Heidelberg' keyword not found.</p> |"
      ],
      "text/plain": [
       "<IPython.core.display.Markdown object>"
      ]
     },
     "metadata": {},
     "output_type": "display_data"
    },
    {
     "data": {
      "text/markdown": [
       "\n",
       "|||\n",
       "|---:|:---|\n",
       "| [![arXiv](https://img.shields.io/badge/arXiv-arXiv:2303.16137-b31b1b.svg)](https://arxiv.org/abs/arXiv:2303.16137) | **XRBcats: Galactic High Mass X-ray Binary Catalogue**  |\n",
       "|| <mark>M. Neumann</mark>, A. Avakyan, V. Doroshenko, A. Santangelo |\n",
       "|*Appeared on*| *2023-03-29*|\n",
       "|*Comments*| *10 pages, 2 figures, submitted to A&A. For auxillary files, see this http URL*|\n",
       "|**Abstract**| We present a new catalogue of the high-mass X-ray binaries (HMXBs) in the Galaxy improving upon the most recent such catalogue. We include new HMXBs discovered since aforementioned publication and revise the classification for several objects previously considered HMXBs or candidates. The catalogue includes both basic information such as source names, coordinates, types, and more detailed data such as distance and X-ray luminosity estimates, binary system parameters and other characteristic properties of 169 HMXBs, together with appropriate references to the literature. Finding charts in several bands from infra-red to hard X-rays are also included for each object. The aim of this catalogue is to provide the reader a list of all currently known Galactic HMXBs with some basic information on both compact objects and non-degenerate counterpart properties (where available). We also include objects tentatively classified as HXMBs in the literature and give a brief motivation for the classifcation in each relevant case. The catalogue is compiled based on a search of known HMXBs and candidates in all commonly available databases and literature published before 31 October 2022. Relevant properties in the optical and other bands were collected for all objects either from the literature or using the data provided by large-scale surveys. In the later case, the counterparts in each individual survey were found by cross-correlating positions of identified HMXBs with relevant databases. An up-to date catalogue of Galactic HMXBs is presented to facilitate research in this area. An attempt was made to collect a larger set of relevant HMXB properties in a more uniform way compared to previously published works. |\n",
       "|<p style=\"color:green\"> **ERROR** </p>| <p style=\"color:green\">affiliation error: mpia.affiliation_verifications: 'Heidelberg' keyword not found.</p> |"
      ],
      "text/plain": [
       "<IPython.core.display.Markdown object>"
      ]
     },
     "metadata": {},
     "output_type": "display_data"
    }
   ],
   "source": [
    "import datetime\n",
    "today = str(datetime.date.today())\n",
    "logfile = f\"_build/html/logs/log-{today}.md\"\n",
    "\n",
    "\n",
    "with open(logfile, 'w') as logs:\n",
    "    # Success\n",
    "    logs.write(f'# Arxiv on Deck 2: Logs - {today}\\n\\n')\n",
    "    logs.write(\"\"\"* Arxiv had {0:,d} new papers\\n\"\"\".format(len(new_papers)))\n",
    "    logs.write(\"\"\"    * {0:,d} with possible author matches\\n\\n\"\"\".format(len(candidates)))\n",
    "    logs.write(\"## Sucessful papers\\n\\n\")\n",
    "    display(Markdown(\"## Successful papers\"))\n",
    "    success = [k[0] for k in documents]\n",
    "    for candid in candidates:\n",
    "        if candid['identifier'].split(':')[-1] in success:\n",
    "            display(candid)\n",
    "            logs.write(candid.generate_markdown_text() + '\\n\\n')\n",
    "\n",
    "    ## failed\n",
    "    logs.write(\"## Failed papers\\n\\n\")\n",
    "    display(Markdown(\"## Failed papers\"))\n",
    "    failed = sorted(failed, key=lambda x: x[1])\n",
    "    current_reason = \"\"\n",
    "    for paper, reason in failed:\n",
    "        if 'affiliation' in reason:\n",
    "            color = 'green'\n",
    "        else:\n",
    "            color = 'red'\n",
    "        data = Markdown(\n",
    "                paper.generate_markdown_text() + \n",
    "                f'\\n|<p style=\"color:{color:s}\"> **ERROR** </p>| <p style=\"color:{color:s}\">{reason:s}</p> |'\n",
    "               )\n",
    "        if reason != current_reason:\n",
    "            logs.write(f'### {reason:s} \\n\\n')\n",
    "            current_reason = reason\n",
    "        logs.write(data.data + '\\n\\n')\n",
    "        \n",
    "        # only display here the important errors (all in logs)\n",
    "        # if color in ('red',):\n",
    "        display(data)"
   ]
  },
  {
   "cell_type": "markdown",
   "id": "472d20ee",
   "metadata": {
    "papermill": {
     "duration": 0.005603,
     "end_time": "2023-03-29T04:10:52.307101",
     "exception": false,
     "start_time": "2023-03-29T04:10:52.301498",
     "status": "completed"
    },
    "tags": []
   },
   "source": [
    "## Export documents\n",
    "\n",
    "We now write the .md files and export relevant images"
   ]
  },
  {
   "cell_type": "code",
   "execution_count": 6,
   "id": "d426aed9",
   "metadata": {
    "execution": {
     "iopub.execute_input": "2023-03-29T04:10:52.319971Z",
     "iopub.status.busy": "2023-03-29T04:10:52.319321Z",
     "iopub.status.idle": "2023-03-29T04:10:52.326706Z",
     "shell.execute_reply": "2023-03-29T04:10:52.326115Z"
    },
    "papermill": {
     "duration": 0.015391,
     "end_time": "2023-03-29T04:10:52.328170",
     "exception": false,
     "start_time": "2023-03-29T04:10:52.312779",
     "status": "completed"
    },
    "tags": []
   },
   "outputs": [],
   "source": [
    "def export_markdown_summary(md: str, md_fname:str, directory: str):\n",
    "    \"\"\"Export MD document and associated relevant images\"\"\"\n",
    "    import os\n",
    "    import shutil\n",
    "    import re\n",
    "\n",
    "    if (os.path.exists(directory) and not os.path.isdir(directory)):\n",
    "        raise RuntimeError(f\"a non-directory file exists with name {directory:s}\")\n",
    "\n",
    "    if (not os.path.exists(directory)):\n",
    "        print(f\"creating directory {directory:s}\")\n",
    "        os.mkdir(directory)\n",
    "\n",
    "    fig_fnames = (re.compile(r'\\[Fig.*\\]\\((.*)\\)').findall(md) + \n",
    "                  re.compile(r'\\<img src=\"([^>\\s]*)\"[^>]*/>').findall(md))\n",
    "    for fname in fig_fnames:\n",
    "        if 'http' in fname:\n",
    "            # No need to copy online figures\n",
    "            continue\n",
    "        destdir = os.path.join(directory, os.path.dirname(fname))\n",
    "        destfname = os.path.join(destdir, os.path.basename(fname))\n",
    "        try:\n",
    "            os.makedirs(destdir)\n",
    "        except FileExistsError:\n",
    "            pass\n",
    "        shutil.copy(fname, destfname)\n",
    "    with open(os.path.join(directory, md_fname), 'w') as fout:\n",
    "        fout.write(md)\n",
    "    print(\"exported in \", os.path.join(directory, md_fname))\n",
    "    [print(\"    + \" + os.path.join(directory,fk)) for fk in fig_fnames]"
   ]
  },
  {
   "cell_type": "code",
   "execution_count": 7,
   "id": "014d04a4",
   "metadata": {
    "execution": {
     "iopub.execute_input": "2023-03-29T04:10:52.341168Z",
     "iopub.status.busy": "2023-03-29T04:10:52.340672Z",
     "iopub.status.idle": "2023-03-29T04:10:52.354217Z",
     "shell.execute_reply": "2023-03-29T04:10:52.353578Z"
    },
    "papermill": {
     "duration": 0.021911,
     "end_time": "2023-03-29T04:10:52.355877",
     "exception": false,
     "start_time": "2023-03-29T04:10:52.333966",
     "status": "completed"
    },
    "tags": []
   },
   "outputs": [
    {
     "name": "stdout",
     "output_type": "stream",
     "text": [
      "exported in  _build/html/2303.15525.md\n",
      "    + _build/html/tmp_2303.15525/./PNmorph_linear.png\n",
      "    + _build/html/tmp_2303.15525/./PN_gaia.png\n",
      "    + _build/html/tmp_2303.15525/./fp_pn.png\n",
      "exported in  _build/html/2303.15675.md\n",
      "    + _build/html/tmp_2303.15675/./impact_full_dust_evolution/Steady_state_vfrag1e2/Steady_MRI_v_frag1e2_dustpy_optimal_B_field.png\n",
      "    + _build/html/tmp_2303.15675/./impact_dust_distribution_only/Steady-state_Vary_a_distMAX.png\n",
      "    + _build/html/tmp_2303.15675/./impact_full_dust_evolution/LBP_vfrag1e2/LBP_MRI_v_frag1e2_dustpy_optimal_B_field.png\n"
     ]
    }
   ],
   "source": [
    "for paper_id, md in documents:\n",
    "    export_markdown_summary(md, f\"{paper_id:s}.md\", '_build/html/')"
   ]
  },
  {
   "cell_type": "markdown",
   "id": "f087a0a7",
   "metadata": {
    "papermill": {
     "duration": 0.006082,
     "end_time": "2023-03-29T04:10:52.367935",
     "exception": false,
     "start_time": "2023-03-29T04:10:52.361853",
     "status": "completed"
    },
    "tags": []
   },
   "source": [
    "## Display the papers\n",
    "\n",
    "Not necessary but allows for a quick check."
   ]
  },
  {
   "cell_type": "code",
   "execution_count": 8,
   "id": "fd25f625",
   "metadata": {
    "execution": {
     "iopub.execute_input": "2023-03-29T04:10:52.380959Z",
     "iopub.status.busy": "2023-03-29T04:10:52.380440Z",
     "iopub.status.idle": "2023-03-29T04:10:52.386649Z",
     "shell.execute_reply": "2023-03-29T04:10:52.386009Z"
    },
    "papermill": {
     "duration": 0.014354,
     "end_time": "2023-03-29T04:10:52.388048",
     "exception": false,
     "start_time": "2023-03-29T04:10:52.373694",
     "status": "completed"
    },
    "scrolled": false,
    "tags": []
   },
   "outputs": [
    {
     "data": {
      "text/markdown": [
       "<div class=\"macros\" style=\"visibility:hidden;\">\n",
       "$\\newcommand{\\ensuremath}{}$\n",
       "$\\newcommand{\\xspace}{}$\n",
       "$\\newcommand{\\object}[1]{\\texttt{#1}}$\n",
       "$\\newcommand{\\farcs}{{.}''}$\n",
       "$\\newcommand{\\farcm}{{.}'}$\n",
       "$\\newcommand{\\arcsec}{''}$\n",
       "$\\newcommand{\\arcmin}{'}$\n",
       "$\\newcommand{\\ion}[2]{#1#2}$\n",
       "$\\newcommand{\\textsc}[1]{\\textrm{#1}}$\n",
       "$\\newcommand{\\hl}[1]{\\textrm{#1}}$\n",
       "$\\newcommand{\\footnote}[1]{}$\n",
       "$\\newcommand{\\orcid}[1]$</div>\n",
       "\n",
       "\n",
       "\n",
       "<div id=\"title\">\n",
       "\n",
       "# $\\Euclid$ preparation. XXXII. A UV–NIR spectral atlas of compact planetary nebulae for wavelength calibration\n",
       "\n",
       "</div>\n",
       "<div id=\"comments\">\n",
       "\n",
       "[![arXiv](https://img.shields.io/badge/arXiv-2303.15525-b31b1b.svg)](https://arxiv.org/abs/2303.15525)<mark>Appeared on: 2023-03-29</mark> -  _Accepted in A&A_\n",
       "\n",
       "</div>\n",
       "<div id=\"authors\">\n",
       "\n",
       "E. Collaboration, et al. -- incl., <mark>K. Paterson</mark>, <mark>M. Schirmer</mark>\n",
       "\n",
       "</div>\n",
       "<div id=\"abstract\">\n",
       "\n",
       "**Abstract:** The Euclid mission will conduct an extragalactic survey over 15 000 deg $^2$ of the extragalactic sky. The spectroscopic channel of the Near-Infrared Spectrometer and Photometer (NISP)has a resolution of $R\\sim450$ for its blue and red grisms that collectively cover the $0.93$ -- $1.89 $ $\\micron$ \\; range. NISP will obtain spectroscopic redshifts for $3\\times10^7$ galaxies for the experiments on galaxy clustering, baryonic acoustic oscillations, and redshift space distortion. The wavelength calibration must be accurate within $5 $ Å to avoid systematics in the redshifts and downstream cosmological parameters. The NISP pre-flight dispersion laws for the grisms were obtained on the ground using a Fabry-Perot etalon. Launch vibrations, zero gravity conditions, and thermal stabilisation may alter these dispersion laws, requiring an in-flight recalibration. To this end, we use the emission lines in the spectra of compact planetary nebulae (PNe), which were selected from a PN data base. To ensure completeness of the PN sample, we developed a novel technique to identify compact and strong line emitters in Gaia spectroscopic data using the Gaia spectra shape coefficients. We obtained VLT/X-SHOOTER spectra from $0.3$ to $2.5$ $\\micron$ \\; for 19 PNe in excellent seeing conditions and a wide slit, mimicking $\\Euclid$ 's slitless spectroscopy mode but with 10 times higher spectral resolution. Additional observations of one northern PN were obtained in the $0.80$ -- $1.90$ $\\micron$ range with the GMOS and GNIRS instruments at the Gemini North observatory. The collected spectra were combined into an atlas of heliocentric vacuum wavelengths with a joint statistical and systematic accuracy of 0.1 Å in the optical and 0.3 Å in the near-infrared. The wavelength atlas and the related 1D and 2D spectra are made publicly available.\n",
       "\n",
       "</div>\n",
       "\n",
       "<div id=\"div_fig1\">\n",
       "\n",
       "<img src=\"tmp_2303.15525/./PNmorph_linear.png\" alt=\"Fig7\" width=\"100%\"/>\n",
       "\n",
       "**Figure 7. -** HST images of all PNe in this paper, in linear scale (a nonlinear stretch is shown in Fig. \\ref{fig:PNmorph}). DdDm-1 was taken in the F675W broad-band filter including the H$\\alpha$ line. Contrary to the other panels shown here, this image of DdDm-1 suffers from spherical aberration prior to the installation of HST's corrective optics. F502N refers to a narrow-band filter including the [$\\ion${O}{III}] line. These images include the emission from the central star. [$\\ion${O}{III}] refers to that emission line extracted from a slitless spectrum. The spectral resolution is too low to resolve the intrinsic line width, hence these can be considered 2D line images, without the central star whose continuum is dispersed along the horizontal axis. The white circle shows the NISP-S EE80 disk with a radius of \\ang{;;0.5}. The field of view is $\\ang{;;2}\\times\\ang{;;2}$. (*fig:PNmorph_linear*)\n",
       "\n",
       "</div>\n",
       "<div id=\"div_fig2\">\n",
       "\n",
       "<img src=\"tmp_2303.15525/./PN_gaia.png\" alt=\"Fig2\" width=\"100%\"/>\n",
       "\n",
       "**Figure 2. -** Normalised 1st-order shape coefficients (assuming 0 indexing) of the BP and RP Gaia spectra. The logarithmic density of all 200 million Gaia sources in this space is indicated by the grey cells. Our sample of compact PNe (Table \\ref{table:observations}) is shown by the red crosses if they had Gaia DR3 BP/RP spectra, and known or candidate PNe from [ and Chornay (2021)]() by light blue crosses. The latter follow the bulk of the Gaia sources, suggesting that their SEDs are continuum-dominated; a small subset shows low ${\\rm RP}_{1}$ values and approach our sample of compact PNe. Compact PNe candidates with ${\\rm RP}_1<-0.4$ are shown in orange, but were rejected/disqualified upon further inspection  (Sect. \\ref{sec:searchGaia2}). (*fig:gaia_pn*)\n",
       "\n",
       "</div>\n",
       "<div id=\"div_fig3\">\n",
       "\n",
       "<img src=\"tmp_2303.15525/./fp_pn.png\" alt=\"Fig4\" width=\"100%\"/>\n",
       "\n",
       "**Figure 4. -** _Top panel_: Total system response for the NISP blue grism (shaded area, exceeding 50\\% of its peak transmission between $0.93$--$1.37 $\\micron; these data are updated with respect to those presented in \\citetalias{scaramella2022}). The regularly spaced, grey spectrum shows the arbitrarily scaled Fabry-Perot emission lines used for the pre-flight calibration of the dispersion law.\n",
       "As an example for the in-flight calibration, the purple spectrum shows the estimated NISP signal-to-noise ratio (SNR) of He2-436, extrapolated from our X-SHOOTER observations. The horizontal dashed line displays a $3.5 \\sigma$ threshold to identify usable PN lines. _Bottom panel_: Same for the NISP red grism ($1.21$--$1.89 $\\micron). (*fig:fp_pn*)\n",
       "\n",
       "</div><div id=\"qrcode\"><img src=https://api.qrserver.com/v1/create-qr-code/?size=100x100&data=\"https://arxiv.org/abs/2303.15525\"></div>"
      ],
      "text/plain": [
       "<IPython.core.display.Markdown object>"
      ]
     },
     "metadata": {},
     "output_type": "display_data"
    },
    {
     "data": {
      "text/markdown": [
       "<div class=\"macros\" style=\"visibility:hidden;\">\n",
       "$\\newcommand{\\ensuremath}{}$\n",
       "$\\newcommand{\\xspace}{}$\n",
       "$\\newcommand{\\object}[1]{\\texttt{#1}}$\n",
       "$\\newcommand{\\farcs}{{.}''}$\n",
       "$\\newcommand{\\farcm}{{.}'}$\n",
       "$\\newcommand{\\arcsec}{''}$\n",
       "$\\newcommand{\\arcmin}{'}$\n",
       "$\\newcommand{\\ion}[2]{#1#2}$\n",
       "$\\newcommand{\\textsc}[1]{\\textrm{#1}}$\n",
       "$\\newcommand{\\hl}[1]{\\textrm{#1}}$\n",
       "$\\newcommand{\\footnote}[1]{}$\n",
       "$\\newcommand{\\cmark}{\\ding{51}}$\n",
       "$\\newcommand{\\xmark}{\\ding{55}}$\n",
       "$\\newcommand{\\tder}[2]{\\frac{\\mathrm{d}#1}{\\mathrm{d}#2}}$\n",
       "$\\newcommand{\\pder}[2]{\\frac{\\partial #1}{\\partial #2}}$\n",
       "$\\newcommand{\\tctext}[1]{\\begin{CJK}{UTF8}{bkai}#1\\end{CJK}}$</div>\n",
       "\n",
       "\n",
       "\n",
       "<div id=\"title\">\n",
       "\n",
       "# The impact of dust evolution on the dead zone outer edge in magnetized protoplanetary disks\n",
       "\n",
       "</div>\n",
       "<div id=\"comments\">\n",
       "\n",
       "[![arXiv](https://img.shields.io/badge/arXiv-2303.15675-b31b1b.svg)](https://arxiv.org/abs/2303.15675)<mark>Appeared on: 2023-03-29</mark> -  _23 pages, 13 figures, Accepted for publication in A&A_\n",
       "\n",
       "</div>\n",
       "<div id=\"authors\">\n",
       "\n",
       "T. N. Delage, et al. -- incl., <mark>M. Gárate</mark>, <mark>M. Flock</mark>\n",
       "\n",
       "</div>\n",
       "<div id=\"abstract\">\n",
       "\n",
       "**Abstract:** The dead zone outer edge corresponds to the transition from the magnetically dead to the magnetorotational instability (MRI)-active regions in the outer protoplanetary disk mid-plane. It has been previously hypothesized to be a sweet spot for dust particles trapping. A more consistent approach to access such an idea yet remains to be developed, since the interplay between dust evolution and MRI-driven accretion over million years has been poorly understood. We provide an important step toward a better understanding of the MRI--dust coevolution in protoplanetary disks. In this pilot study, we present a proof of concept that dust evolution ultimately plays a crucial role in the MRI activity. First, we study how a fixed power-law dust size distribution with varying parameters impacts the MRI activity, especially the steady-state MRI-driven accretion, by employing and improving our previous 1+1D MRI-driven turbulence model. Second, we relax the steady-state accretion assumption in this disk accretion model, and partially couple it to a dust evolution model in order to investigate how the evolution of dust (dynamics and grain growth processes combined) and MRI-driven accretion are intertwined on million-year timescales, from a more sophisticated modeling of the gas ionization degree. Dust coagulation and settling lead to a higher gas ionization degree in the protoplanetary disk, resulting in stronger MRI-driven turbulence as well as a more compact dead zone. On the other hand, fragmentation has an opposite effect because it replenishes the disk in small dust particles which are very efficient in sweeping up free electrons and ions from the gas phase. Since the dust content of the disk decreases over million years of evolution due to radial drift, the MRI-driven turbulence overall becomes stronger and the dead zone more compact until the disk dust-gas mixture eventually behaves as a grain-free plasma. Furthermore, our results show that dust evolution alone does not lead to a complete reactivation of the dead zone. For typical T-Tauri stars, we find that the dead zone outer edge is expected to be located roughly between $10 $ au and $50 $ au during the disk lifetime for our choice of the magnetic field strength and configuration. Finally, the MRI activity evolution is expected to be crucially sensitive to the choice made for the minimum grain size of the dust distribution. The MRI activity evolution (hence the temporal evolution of the MRI-induced $\\alpha$ -parameter) is controlled by dust evolution and occurs on a timescale of local dust growth, as long as there is enough dust particles in the disk to dominate the recombination process for the ionization chemistry. Once it is no longer the case, the MRI activity evolution is expected to be controlled by gas evolution and occurs on a viscous evolution timescale.\n",
       "\n",
       "</div>\n",
       "\n",
       "<div id=\"div_fig1\">\n",
       "\n",
       "<img src=\"tmp_2303.15675/./impact_full_dust_evolution/Steady_state_vfrag1e2/Steady_MRI_v_frag1e2_dustpy_optimal_B_field.png\" alt=\"Fig3\" width=\"100%\"/>\n",
       "\n",
       "**Figure 3. -** Impact of dust evolution on the MRI-driven turbulence, for Model IV. The panels show the temporal evolution of the same quantities as in Fig. \\ref{fig:Vary_a_distMAX}, except for the gas accretion rate. Also, the gas surface density is now fixed to the displayed input profile in _Panel b_. We emphasize that these quantities do not describe steady-state MRI-driven accretion (unlike Fig. \\ref{fig:Vary_a_distMAX}), since they are re-calculated at each dust evolution snapshot, through partial coupling between the 1D radial dust evolution model employed and our MRI-driven turbulence model. On this note, the corresponding temporal evolution of the five dust quantities used to perform such a coupling are shown in Fig. \\ref{fig:Steady_MRI_v_frag1e2_key_quantities_for_MRI}. Here we note that, in _Panel f_, the dead zone outer edge coincides at $t = 0 $yr, $t = 100 $yrs and $t = 1000 $yrs.\n",
       "   (*fig:Steady_MRI_v_frag1e2_dustpy_optimal_B_field*)\n",
       "\n",
       "</div>\n",
       "<div id=\"div_fig2\">\n",
       "\n",
       "<img src=\"tmp_2303.15675/./impact_dust_distribution_only/Steady-state_Vary_a_distMAX.png\" alt=\"Fig1\" width=\"100%\"/>\n",
       "\n",
       "**Figure 1. -** Impact on the steady-state MRI-driven accretion when varying the maximum grain size, $a_{\\rm{dist,Max}}$, of the fixed power-law dust size distribution (Model I). Going from solid light-colored to dark-colored lines, $a_{\\rm{dist,Max}}$ spans the range from $1   \\mu$m to $1  $cm. The panels show the steady-state radial profiles of several key quantities \\citep[see also][for their definition]{Delage2021}, for the model parameters $M_{\\star} = 1   M_{\\odot}$, $L_{\\star} = 2   L_{\\odot}$, $M_{\\rm{disk}} = 0.05  M_\\star$, $f_{\\rm{dg,tot}} = 10^{-2}$, $\\alpha_{\\rm{hydro}} = 10^{-4}$, $a_{\\rm{min}} = 0.1   \\mu$m, and $p_{\\rm{dist,Exp}} = -3.5$. _Panel a_: pressure-weighted vertically integrated turbulent parameter, $\\bar{\\alpha}$. _Panel b_: gas surface density, $\\Sigma_{\\rm{gas}}$. _Panel c_: mid-plane total ionization rate, $\\zeta$. _Panel d_: mid-plane optimal r.m.s. magnetic field strength, $B$. _Panel e_: (constant) gas accretion rate, $\\dot{M}_{\\rm{acc,gas}}$. _Panel f_: mid-plane radial dead zone outer edge location, $R_{\\rm{DZ}}$. For comparison, the dashed gray and black lines in _Panel a_ display the steady-state quantity $\\bar{\\alpha}$ obtained assuming the limiting case of a mono-disperse population of dust with size $a_{\\rm{mono}} = 0.1   \\mu$m and $a_{\\rm{mono}} = 1  $cm (grain-free case), respectively. (*fig:Vary_a_distMAX*)\n",
       "\n",
       "</div>\n",
       "<div id=\"div_fig3\">\n",
       "\n",
       "<img src=\"tmp_2303.15675/./impact_full_dust_evolution/LBP_vfrag1e2/LBP_MRI_v_frag1e2_dustpy_optimal_B_field.png\" alt=\"Fig5\" width=\"100%\"/>\n",
       "\n",
       "**Figure 5. -** Same as in Fig. \\ref{fig:Steady_MRI_v_frag1e2_dustpy_optimal_B_field}, except for Model V. The corresponding temporal evolution of the five dust quantities is shown in Fig. \\ref{fig:LBP_MRI_v_frag1e2_key_quantities_for_MRI}. The gas surface density (_Panel b_) is fixed to the input profile corresponding to the classical self-similar solution \\citep[][]{1974MNRAS.168..603L}, with a total disk gas mass $M_{\\rm{disk}} = 0.05  $M$_{\\star}$, and a critical radius $R_{c} = 80  $au. As a result, the gas is no longer in a steady-state MRI-driven accretion at $t = 0  $yr, unlike Model IV. Here we note that, in _Panel f_, the dead zone outer edge coincides at $t = 0 $yr and $t = 100 $yrs. (*fig:LBP_MRI_v_frag1e2_dustpy_optimal_B_field*)\n",
       "\n",
       "</div><div id=\"qrcode\"><img src=https://api.qrserver.com/v1/create-qr-code/?size=100x100&data=\"https://arxiv.org/abs/2303.15675\"></div>"
      ],
      "text/plain": [
       "<IPython.core.display.Markdown object>"
      ]
     },
     "metadata": {},
     "output_type": "display_data"
    }
   ],
   "source": [
    "[display(Markdown(k[1])) for k in documents];"
   ]
  },
  {
   "cell_type": "markdown",
   "id": "873873a4",
   "metadata": {
    "papermill": {
     "duration": 0.006296,
     "end_time": "2023-03-29T04:10:52.400728",
     "exception": false,
     "start_time": "2023-03-29T04:10:52.394432",
     "status": "completed"
    },
    "tags": []
   },
   "source": [
    "# Create HTML index"
   ]
  },
  {
   "cell_type": "code",
   "execution_count": 9,
   "id": "cf665672",
   "metadata": {
    "execution": {
     "iopub.execute_input": "2023-03-29T04:10:52.414687Z",
     "iopub.status.busy": "2023-03-29T04:10:52.414147Z",
     "iopub.status.idle": "2023-03-29T04:10:52.422965Z",
     "shell.execute_reply": "2023-03-29T04:10:52.422316Z"
    },
    "papermill": {
     "duration": 0.017565,
     "end_time": "2023-03-29T04:10:52.424462",
     "exception": false,
     "start_time": "2023-03-29T04:10:52.406897",
     "status": "completed"
    },
    "tags": []
   },
   "outputs": [
    {
     "name": "stdout",
     "output_type": "stream",
     "text": [
      "177  publications files modified in the last 7 days.\n"
     ]
    }
   ],
   "source": [
    "from datetime import datetime, timedelta, timezone\n",
    "from glob import glob\n",
    "import os\n",
    "\n",
    "files = glob('_build/html/*.md')\n",
    "days = 7\n",
    "now = datetime.today()\n",
    "res = []\n",
    "for fk in files:\n",
    "    stat_result = os.stat(fk).st_ctime\n",
    "    modified = datetime.fromtimestamp(stat_result, tz=timezone.utc).replace(tzinfo=None)\n",
    "    delta = now.today() - modified\n",
    "    if delta <= timedelta(days=days):\n",
    "        res.append((delta.seconds, fk))\n",
    "res = [k[1] for k in reversed(sorted(res, key=lambda x:x[1]))]\n",
    "npub = len(res)\n",
    "print(len(res), f\" publications files modified in the last {days:d} days.\")\n",
    "# [ print('\\t', k) for k in res ];"
   ]
  },
  {
   "cell_type": "code",
   "execution_count": 10,
   "id": "015de740",
   "metadata": {
    "execution": {
     "iopub.execute_input": "2023-03-29T04:10:52.438552Z",
     "iopub.status.busy": "2023-03-29T04:10:52.438096Z",
     "iopub.status.idle": "2023-03-29T04:10:52.484827Z",
     "shell.execute_reply": "2023-03-29T04:10:52.484308Z"
    },
    "papermill": {
     "duration": 0.055738,
     "end_time": "2023-03-29T04:10:52.486547",
     "exception": false,
     "start_time": "2023-03-29T04:10:52.430809",
     "status": "completed"
    },
    "tags": []
   },
   "outputs": [
    {
     "name": "stdout",
     "output_type": "stream",
     "text": [
      "6  publications in the last 7 days.\n"
     ]
    }
   ],
   "source": [
    "import datetime\n",
    "from glob import glob\n",
    "\n",
    "def get_last_n_days(lst, days=1):\n",
    "    \"\"\" Get the documents from the last n days \"\"\"\n",
    "    sorted_lst = sorted(lst, key=lambda x: x[1], reverse=True)\n",
    "    for fname, date in sorted_lst:\n",
    "        if date >= str(datetime.date.today() - datetime.timedelta(days=days)):\n",
    "            yield fname\n",
    "\n",
    "def extract_appearance_dates(lst_file):\n",
    "    dates = []\n",
    "\n",
    "    def get_date(line):\n",
    "        return line\\\n",
    "            .split('Appeared on:')[-1]\\\n",
    "            .split('</mark>')[0].strip()\n",
    "\n",
    "    for fname in lst:\n",
    "        with open(fname, 'r') as f:\n",
    "            found_date = False\n",
    "            for line in f:\n",
    "                if not found_date:\n",
    "                    if \"Appeared on\" in line:\n",
    "                        found_date = True\n",
    "                        dates.append((fname, get_date(line)))\n",
    "                else:\n",
    "                    break\n",
    "    return dates\n",
    "\n",
    "from glob import glob\n",
    "lst = glob('_build/html/*md')\n",
    "days = 7\n",
    "dates = extract_appearance_dates(lst)\n",
    "res = list(get_last_n_days(dates, days))\n",
    "npub = len(res)\n",
    "print(len(res), f\" publications in the last {days:d} days.\")"
   ]
  },
  {
   "cell_type": "code",
   "execution_count": 11,
   "id": "52ca0208",
   "metadata": {
    "execution": {
     "iopub.execute_input": "2023-03-29T04:10:52.511992Z",
     "iopub.status.busy": "2023-03-29T04:10:52.511221Z",
     "iopub.status.idle": "2023-03-29T04:10:52.517776Z",
     "shell.execute_reply": "2023-03-29T04:10:52.516389Z"
    },
    "papermill": {
     "duration": 0.018792,
     "end_time": "2023-03-29T04:10:52.519653",
     "exception": false,
     "start_time": "2023-03-29T04:10:52.500861",
     "status": "completed"
    },
    "scrolled": false,
    "tags": []
   },
   "outputs": [],
   "source": [
    "def create_carousel(npub=4):\n",
    "    \"\"\" Generate the HTML code for a carousel with `npub` slides \"\"\"\n",
    "    carousel = [\"\"\"  <div class=\"carousel\" \"\"\",\n",
    "                \"\"\"       data-flickity='{ \"autoPlay\": 10000, \"adaptiveHeight\": true, \"resize\": true, \"wrapAround\": true, \"pauseAutoPlayOnHover\": true, \"groupCells\": 1 }' id=\"asyncTypeset\">\"\"\"\n",
    "                ]\n",
    "    \n",
    "    item_str = \"\"\"    <div class=\"carousel-cell\"> <div id=\"slide{k}\" class=\"md_view\">Content {k}</div> </div>\"\"\"\n",
    "    for k in range(1, npub + 1):\n",
    "        carousel.append(item_str.format(k=k))\n",
    "    carousel.append(\"  </div>\")\n",
    "    return '\\n'.join(carousel)\n",
    "\n",
    "def create_grid(npub=4):\n",
    "    \"\"\" Generate the HTML code for a flat grid with `npub` slides \"\"\"\n",
    "    grid = [\"\"\"  <div class=\"grid\"> \"\"\",\n",
    "                ]\n",
    "    \n",
    "    item_str = \"\"\"    <div class=\"grid-item\"> <div id=\"slide{k}\" class=\"md_view\">Content {k}</div> </div>\"\"\"\n",
    "    for k in range(1, npub + 1):\n",
    "        grid.append(item_str.format(k=k))\n",
    "    grid.append(\"  </div>\")\n",
    "    return '\\n'.join(grid)"
   ]
  },
  {
   "cell_type": "code",
   "execution_count": 12,
   "id": "a6eac5b6",
   "metadata": {
    "execution": {
     "iopub.execute_input": "2023-03-29T04:10:52.534030Z",
     "iopub.status.busy": "2023-03-29T04:10:52.533556Z",
     "iopub.status.idle": "2023-03-29T04:10:52.539117Z",
     "shell.execute_reply": "2023-03-29T04:10:52.538493Z"
    },
    "papermill": {
     "duration": 0.01451,
     "end_time": "2023-03-29T04:10:52.540614",
     "exception": false,
     "start_time": "2023-03-29T04:10:52.526104",
     "status": "completed"
    },
    "scrolled": false,
    "tags": []
   },
   "outputs": [],
   "source": [
    "carousel = create_carousel(npub)\n",
    "docs = ', '.join(['\"{0:s}\"'.format(k.split('/')[-1]) for k in res])\n",
    "slides = ', '.join([f'\"slide{k}\"' for k in range(1, npub + 1)])\n",
    "\n",
    "with open(\"daily_template.html\", \"r\") as tpl:\n",
    "    page = tpl.read()\n",
    "    page = page.replace(\"{%-- carousel:s --%}\", carousel)\\\n",
    "               .replace(\"{%-- suptitle:s --%}\",  \"7-day archives\" )\\\n",
    "               .replace(\"{%-- docs:s --%}\", docs)\\\n",
    "               .replace(\"{%-- slides:s --%}\", slides)\n",
    "    \n",
    "with open(\"_build/html/index_7days.html\", 'w') as fout:\n",
    "    fout.write(page)"
   ]
  },
  {
   "cell_type": "code",
   "execution_count": 13,
   "id": "adc1a1ec",
   "metadata": {
    "execution": {
     "iopub.execute_input": "2023-03-29T04:10:52.554833Z",
     "iopub.status.busy": "2023-03-29T04:10:52.554373Z",
     "iopub.status.idle": "2023-03-29T04:10:52.561400Z",
     "shell.execute_reply": "2023-03-29T04:10:52.560788Z"
    },
    "papermill": {
     "duration": 0.016424,
     "end_time": "2023-03-29T04:10:52.563466",
     "exception": false,
     "start_time": "2023-03-29T04:10:52.547042",
     "status": "completed"
    },
    "tags": []
   },
   "outputs": [
    {
     "name": "stdout",
     "output_type": "stream",
     "text": [
      "2  publications in the last day.\n"
     ]
    }
   ],
   "source": [
    "# redo for today\n",
    "days = 1\n",
    "res = list(get_last_n_days(dates, days))\n",
    "npub = len(res)\n",
    "print(len(res), f\" publications in the last day.\")\n",
    "\n",
    "carousel = create_carousel(npub)\n",
    "docs = ', '.join(['\"{0:s}\"'.format(k.split('/')[-1]) for k in res])\n",
    "slides = ', '.join([f'\"slide{k}\"' for k in range(1, npub + 1)])\n",
    "\n",
    "with open(\"daily_template.html\", \"r\") as tpl:\n",
    "    page = tpl.read()\n",
    "    page = page.replace(\"{%-- carousel:s --%}\", carousel)\\\n",
    "               .replace(\"{%-- suptitle:s --%}\",  \"Daily\" )\\\n",
    "               .replace(\"{%-- docs:s --%}\", docs)\\\n",
    "               .replace(\"{%-- slides:s --%}\", slides)\n",
    "    \n",
    "# print(carousel, docs, slides)\n",
    "# print(page)\n",
    "with open(\"_build/html/index_daily.html\", 'w') as fout:\n",
    "    fout.write(page)"
   ]
  },
  {
   "cell_type": "code",
   "execution_count": 14,
   "id": "00eece82",
   "metadata": {
    "execution": {
     "iopub.execute_input": "2023-03-29T04:10:52.578171Z",
     "iopub.status.busy": "2023-03-29T04:10:52.577552Z",
     "iopub.status.idle": "2023-03-29T04:10:52.584498Z",
     "shell.execute_reply": "2023-03-29T04:10:52.583867Z"
    },
    "papermill": {
     "duration": 0.015934,
     "end_time": "2023-03-29T04:10:52.585976",
     "exception": false,
     "start_time": "2023-03-29T04:10:52.570042",
     "status": "completed"
    },
    "scrolled": false,
    "tags": []
   },
   "outputs": [
    {
     "name": "stdout",
     "output_type": "stream",
     "text": [
      "6  6 publications selected.\n"
     ]
    }
   ],
   "source": [
    "# Create the flat grid of the last N papers (fixed number regardless of dates)\n",
    "from itertools import islice \n",
    "\n",
    "npub = 6\n",
    "res = [k[0] for k in (islice(reversed(sorted(dates, key=lambda x: x[1])), 6))]\n",
    "print(len(res), f\" {npub} publications selected.\")\n",
    "\n",
    "grid = create_grid(npub)\n",
    "docs = ', '.join(['\"{0:s}\"'.format(k.split('/')[-1]) for k in res])\n",
    "slides = ', '.join([f'\"slide{k}\"' for k in range(1, npub + 1)])\n",
    "\n",
    "with open(\"grid_template.html\", \"r\") as tpl:\n",
    "    page = tpl.read()\n",
    "    page = page.replace(\"{%-- grid-content:s --%}\", grid)\\\n",
    "               .replace(\"{%-- suptitle:s --%}\",  f\"Last {npub:,d} papers\" )\\\n",
    "               .replace(\"{%-- docs:s --%}\", docs)\\\n",
    "               .replace(\"{%-- slides:s --%}\", slides)\n",
    "    \n",
    "# print(grid, docs, slides)\n",
    "# print(page)\n",
    "with open(\"_build/html/index_npub_grid.html\", 'w') as fout:\n",
    "    fout.write(page)"
   ]
  }
 ],
 "metadata": {
  "kernelspec": {
   "display_name": "Python 3 (ipykernel)",
   "language": "python",
   "name": "python3"
  },
  "language_info": {
   "codemirror_mode": {
    "name": "ipython",
    "version": 3
   },
   "file_extension": ".py",
   "mimetype": "text/x-python",
   "name": "python",
   "nbconvert_exporter": "python",
   "pygments_lexer": "ipython3",
   "version": "3.9.16"
  },
  "papermill": {
   "default_parameters": {},
   "duration": 183.475409,
   "end_time": "2023-03-29T04:10:52.809415",
   "environment_variables": {},
   "exception": null,
   "input_path": "MPIA daily digest.ipynb",
   "output_path": "log.ipynb",
   "parameters": {},
   "start_time": "2023-03-29T04:07:49.334006",
   "version": "2.4.0"
  },
  "vscode": {
   "interpreter": {
    "hash": "aee8b7b246df8f9039afb4144a1f6fd8d2ca17a180786b69acc140d282b71a49"
   }
  },
  "widgets": {
   "application/vnd.jupyter.widget-state+json": {
    "state": {
     "0decabe3d56e468e815bee821803cc83": {
      "model_module": "@jupyter-widgets/controls",
      "model_module_version": "2.0.0",
      "model_name": "HTMLModel",
      "state": {
       "_dom_classes": [],
       "_model_module": "@jupyter-widgets/controls",
       "_model_module_version": "2.0.0",
       "_model_name": "HTMLModel",
       "_view_count": null,
       "_view_module": "@jupyter-widgets/controls",
       "_view_module_version": "2.0.0",
       "_view_name": "HTMLView",
       "description": "",
       "description_allow_html": false,
       "layout": "IPY_MODEL_e83faeb586674fc294a2528d23f70bbd",
       "placeholder": "​",
       "style": "IPY_MODEL_e4b63640684347e3b5cc4927c3a5035b",
       "tabbable": null,
       "tooltip": null,
       "value": " 5/5 [02:33&lt;00:00, 29.19s/it]"
      }
     },
     "117bff7f20174045b92f762225e5e5f1": {
      "model_module": "@jupyter-widgets/controls",
      "model_module_version": "2.0.0",
      "model_name": "ProgressStyleModel",
      "state": {
       "_model_module": "@jupyter-widgets/controls",
       "_model_module_version": "2.0.0",
       "_model_name": "ProgressStyleModel",
       "_view_count": null,
       "_view_module": "@jupyter-widgets/base",
       "_view_module_version": "2.0.0",
       "_view_name": "StyleView",
       "bar_color": null,
       "description_width": ""
      }
     },
     "34b89473ff2b4d6b85e86598dde2101a": {
      "model_module": "@jupyter-widgets/base",
      "model_module_version": "2.0.0",
      "model_name": "LayoutModel",
      "state": {
       "_model_module": "@jupyter-widgets/base",
       "_model_module_version": "2.0.0",
       "_model_name": "LayoutModel",
       "_view_count": null,
       "_view_module": "@jupyter-widgets/base",
       "_view_module_version": "2.0.0",
       "_view_name": "LayoutView",
       "align_content": null,
       "align_items": null,
       "align_self": null,
       "border_bottom": null,
       "border_left": null,
       "border_right": null,
       "border_top": null,
       "bottom": null,
       "display": null,
       "flex": null,
       "flex_flow": null,
       "grid_area": null,
       "grid_auto_columns": null,
       "grid_auto_flow": null,
       "grid_auto_rows": null,
       "grid_column": null,
       "grid_gap": null,
       "grid_row": null,
       "grid_template_areas": null,
       "grid_template_columns": null,
       "grid_template_rows": null,
       "height": null,
       "justify_content": null,
       "justify_items": null,
       "left": null,
       "margin": null,
       "max_height": null,
       "max_width": null,
       "min_height": null,
       "min_width": null,
       "object_fit": null,
       "object_position": null,
       "order": null,
       "overflow": null,
       "padding": null,
       "right": null,
       "top": null,
       "visibility": null,
       "width": null
      }
     },
     "446cd5d0ce6b4f55a9980f0faa203ad8": {
      "model_module": "@jupyter-widgets/base",
      "model_module_version": "2.0.0",
      "model_name": "LayoutModel",
      "state": {
       "_model_module": "@jupyter-widgets/base",
       "_model_module_version": "2.0.0",
       "_model_name": "LayoutModel",
       "_view_count": null,
       "_view_module": "@jupyter-widgets/base",
       "_view_module_version": "2.0.0",
       "_view_name": "LayoutView",
       "align_content": null,
       "align_items": null,
       "align_self": null,
       "border_bottom": null,
       "border_left": null,
       "border_right": null,
       "border_top": null,
       "bottom": null,
       "display": null,
       "flex": null,
       "flex_flow": null,
       "grid_area": null,
       "grid_auto_columns": null,
       "grid_auto_flow": null,
       "grid_auto_rows": null,
       "grid_column": null,
       "grid_gap": null,
       "grid_row": null,
       "grid_template_areas": null,
       "grid_template_columns": null,
       "grid_template_rows": null,
       "height": null,
       "justify_content": null,
       "justify_items": null,
       "left": null,
       "margin": null,
       "max_height": null,
       "max_width": null,
       "min_height": null,
       "min_width": null,
       "object_fit": null,
       "object_position": null,
       "order": null,
       "overflow": null,
       "padding": null,
       "right": null,
       "top": null,
       "visibility": null,
       "width": null
      }
     },
     "85536845260746059f17cc66472d1aa0": {
      "model_module": "@jupyter-widgets/base",
      "model_module_version": "2.0.0",
      "model_name": "LayoutModel",
      "state": {
       "_model_module": "@jupyter-widgets/base",
       "_model_module_version": "2.0.0",
       "_model_name": "LayoutModel",
       "_view_count": null,
       "_view_module": "@jupyter-widgets/base",
       "_view_module_version": "2.0.0",
       "_view_name": "LayoutView",
       "align_content": null,
       "align_items": null,
       "align_self": null,
       "border_bottom": null,
       "border_left": null,
       "border_right": null,
       "border_top": null,
       "bottom": null,
       "display": null,
       "flex": null,
       "flex_flow": null,
       "grid_area": null,
       "grid_auto_columns": null,
       "grid_auto_flow": null,
       "grid_auto_rows": null,
       "grid_column": null,
       "grid_gap": null,
       "grid_row": null,
       "grid_template_areas": null,
       "grid_template_columns": null,
       "grid_template_rows": null,
       "height": null,
       "justify_content": null,
       "justify_items": null,
       "left": null,
       "margin": null,
       "max_height": null,
       "max_width": null,
       "min_height": null,
       "min_width": null,
       "object_fit": null,
       "object_position": null,
       "order": null,
       "overflow": null,
       "padding": null,
       "right": null,
       "top": null,
       "visibility": null,
       "width": null
      }
     },
     "9f7525a3b4d04233809bbc7e81b4b57b": {
      "model_module": "@jupyter-widgets/controls",
      "model_module_version": "2.0.0",
      "model_name": "HBoxModel",
      "state": {
       "_dom_classes": [],
       "_model_module": "@jupyter-widgets/controls",
       "_model_module_version": "2.0.0",
       "_model_name": "HBoxModel",
       "_view_count": null,
       "_view_module": "@jupyter-widgets/controls",
       "_view_module_version": "2.0.0",
       "_view_name": "HBoxView",
       "box_style": "",
       "children": [
        "IPY_MODEL_f5ca42316e594c95b2a1d3aa8d3e8cf8",
        "IPY_MODEL_b67be76cd45843488857be530e65c2cc",
        "IPY_MODEL_0decabe3d56e468e815bee821803cc83"
       ],
       "layout": "IPY_MODEL_34b89473ff2b4d6b85e86598dde2101a",
       "tabbable": null,
       "tooltip": null
      }
     },
     "b67be76cd45843488857be530e65c2cc": {
      "model_module": "@jupyter-widgets/controls",
      "model_module_version": "2.0.0",
      "model_name": "FloatProgressModel",
      "state": {
       "_dom_classes": [],
       "_model_module": "@jupyter-widgets/controls",
       "_model_module_version": "2.0.0",
       "_model_name": "FloatProgressModel",
       "_view_count": null,
       "_view_module": "@jupyter-widgets/controls",
       "_view_module_version": "2.0.0",
       "_view_name": "ProgressView",
       "bar_style": "success",
       "description": "",
       "description_allow_html": false,
       "layout": "IPY_MODEL_446cd5d0ce6b4f55a9980f0faa203ad8",
       "max": 5.0,
       "min": 0.0,
       "orientation": "horizontal",
       "style": "IPY_MODEL_117bff7f20174045b92f762225e5e5f1",
       "tabbable": null,
       "tooltip": null,
       "value": 5.0
      }
     },
     "dd23c6f4f33a458997bdb223180ca0c1": {
      "model_module": "@jupyter-widgets/controls",
      "model_module_version": "2.0.0",
      "model_name": "HTMLStyleModel",
      "state": {
       "_model_module": "@jupyter-widgets/controls",
       "_model_module_version": "2.0.0",
       "_model_name": "HTMLStyleModel",
       "_view_count": null,
       "_view_module": "@jupyter-widgets/base",
       "_view_module_version": "2.0.0",
       "_view_name": "StyleView",
       "background": null,
       "description_width": "",
       "font_size": null,
       "text_color": null
      }
     },
     "e4b63640684347e3b5cc4927c3a5035b": {
      "model_module": "@jupyter-widgets/controls",
      "model_module_version": "2.0.0",
      "model_name": "HTMLStyleModel",
      "state": {
       "_model_module": "@jupyter-widgets/controls",
       "_model_module_version": "2.0.0",
       "_model_name": "HTMLStyleModel",
       "_view_count": null,
       "_view_module": "@jupyter-widgets/base",
       "_view_module_version": "2.0.0",
       "_view_name": "StyleView",
       "background": null,
       "description_width": "",
       "font_size": null,
       "text_color": null
      }
     },
     "e83faeb586674fc294a2528d23f70bbd": {
      "model_module": "@jupyter-widgets/base",
      "model_module_version": "2.0.0",
      "model_name": "LayoutModel",
      "state": {
       "_model_module": "@jupyter-widgets/base",
       "_model_module_version": "2.0.0",
       "_model_name": "LayoutModel",
       "_view_count": null,
       "_view_module": "@jupyter-widgets/base",
       "_view_module_version": "2.0.0",
       "_view_name": "LayoutView",
       "align_content": null,
       "align_items": null,
       "align_self": null,
       "border_bottom": null,
       "border_left": null,
       "border_right": null,
       "border_top": null,
       "bottom": null,
       "display": null,
       "flex": null,
       "flex_flow": null,
       "grid_area": null,
       "grid_auto_columns": null,
       "grid_auto_flow": null,
       "grid_auto_rows": null,
       "grid_column": null,
       "grid_gap": null,
       "grid_row": null,
       "grid_template_areas": null,
       "grid_template_columns": null,
       "grid_template_rows": null,
       "height": null,
       "justify_content": null,
       "justify_items": null,
       "left": null,
       "margin": null,
       "max_height": null,
       "max_width": null,
       "min_height": null,
       "min_width": null,
       "object_fit": null,
       "object_position": null,
       "order": null,
       "overflow": null,
       "padding": null,
       "right": null,
       "top": null,
       "visibility": null,
       "width": null
      }
     },
     "f5ca42316e594c95b2a1d3aa8d3e8cf8": {
      "model_module": "@jupyter-widgets/controls",
      "model_module_version": "2.0.0",
      "model_name": "HTMLModel",
      "state": {
       "_dom_classes": [],
       "_model_module": "@jupyter-widgets/controls",
       "_model_module_version": "2.0.0",
       "_model_name": "HTMLModel",
       "_view_count": null,
       "_view_module": "@jupyter-widgets/controls",
       "_view_module_version": "2.0.0",
       "_view_name": "HTMLView",
       "description": "",
       "description_allow_html": false,
       "layout": "IPY_MODEL_85536845260746059f17cc66472d1aa0",
       "placeholder": "​",
       "style": "IPY_MODEL_dd23c6f4f33a458997bdb223180ca0c1",
       "tabbable": null,
       "tooltip": null,
       "value": "100%"
      }
     }
    },
    "version_major": 2,
    "version_minor": 0
   }
  }
 },
 "nbformat": 4,
 "nbformat_minor": 5
}