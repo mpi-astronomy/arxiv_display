{
 "cells": [
  {
   "cell_type": "markdown",
   "id": "92bcb855",
   "metadata": {
    "papermill": {
     "duration": 0.00456,
     "end_time": "2024-05-14T20:11:52.082096",
     "exception": false,
     "start_time": "2024-05-14T20:11:52.077536",
     "status": "completed"
    },
    "tags": []
   },
   "source": [
    "# MPIA Arxiv on Deck 2\n",
    "\n",
    "Contains the steps to produce the paper extractions."
   ]
  },
  {
   "cell_type": "code",
   "execution_count": 1,
   "id": "3a0d6e11",
   "metadata": {
    "execution": {
     "iopub.execute_input": "2024-05-14T20:11:52.090331Z",
     "iopub.status.busy": "2024-05-14T20:11:52.089815Z",
     "iopub.status.idle": "2024-05-14T20:11:52.541984Z",
     "shell.execute_reply": "2024-05-14T20:11:52.541286Z"
    },
    "papermill": {
     "duration": 0.458176,
     "end_time": "2024-05-14T20:11:52.543766",
     "exception": false,
     "start_time": "2024-05-14T20:11:52.085590",
     "status": "completed"
    },
    "tags": []
   },
   "outputs": [],
   "source": [
    "# Imports\n",
    "import os\n",
    "from IPython.display import Markdown, display\n",
    "from tqdm.notebook import tqdm\n",
    "import warnings\n",
    "from PIL import Image \n",
    "\n",
    "# requires arxiv_on_deck_2\n",
    "\n",
    "from arxiv_on_deck_2.arxiv2 import (get_new_papers, \n",
    "                                    get_paper_from_identifier,\n",
    "                                    retrieve_document_source, \n",
    "                                    get_markdown_badge)\n",
    "from arxiv_on_deck_2 import (latex,\n",
    "                             latex_bib,\n",
    "                             mpia,\n",
    "                             highlight_authors_in_list)\n",
    "\n",
    "# Sometimes images are really big\n",
    "Image.MAX_IMAGE_PIXELS = 1000000000 "
   ]
  },
  {
   "cell_type": "code",
   "execution_count": 2,
   "id": "22aa9d44",
   "metadata": {
    "execution": {
     "iopub.execute_input": "2024-05-14T20:11:52.551656Z",
     "iopub.status.busy": "2024-05-14T20:11:52.551074Z",
     "iopub.status.idle": "2024-05-14T20:11:52.557387Z",
     "shell.execute_reply": "2024-05-14T20:11:52.556409Z"
    },
    "papermill": {
     "duration": 0.011805,
     "end_time": "2024-05-14T20:11:52.558885",
     "exception": false,
     "start_time": "2024-05-14T20:11:52.547080",
     "status": "completed"
    },
    "tags": []
   },
   "outputs": [],
   "source": [
    "# Some useful definitions.\n",
    "\n",
    "class AffiliationWarning(UserWarning):\n",
    "    pass\n",
    "\n",
    "class AffiliationError(RuntimeError):\n",
    "    pass\n",
    "\n",
    "def validation(source: str):\n",
    "    \"\"\"Raises error paper during parsing of source file\n",
    "    \n",
    "    Allows checks before parsing TeX code.\n",
    "    \n",
    "    Raises AffiliationWarning\n",
    "    \"\"\"\n",
    "    check = mpia.affiliation_verifications(source, verbose=True)\n",
    "    if check is not True:\n",
    "        raise AffiliationError(\"mpia.affiliation_verifications: \" + check)\n",
    "\n",
    "        \n",
    "warnings.simplefilter('always', AffiliationWarning)\n",
    "\n",
    "\n",
    "def get_markdown_qrcode(paper_id: str):\n",
    "    \"\"\" Generate a qrcode to the arxiv page using qrserver.com\n",
    "    \n",
    "    :param paper: Arxiv paper\n",
    "    :returns: markdown text\n",
    "    \"\"\"\n",
    "    url = r\"https://api.qrserver.com/v1/create-qr-code/?size=100x100&data=\"\n",
    "    txt = f\"\"\"<img src={url}\"https://arxiv.org/abs/{paper_id}\">\"\"\"\n",
    "    txt = '<div id=\"qrcode\">' + txt + '</div>'\n",
    "    return txt"
   ]
  },
  {
   "cell_type": "markdown",
   "id": "14bd6310",
   "metadata": {
    "papermill": {
     "duration": 0.003058,
     "end_time": "2024-05-14T20:11:52.565204",
     "exception": false,
     "start_time": "2024-05-14T20:11:52.562146",
     "status": "completed"
    },
    "tags": []
   },
   "source": [
    "## get list of arxiv paper candidates\n",
    "\n",
    "We use the MPIA mitarbeiter list webpage from mpia.de to get author names\n",
    "We then get all new papers from Arxiv and match authors"
   ]
  },
  {
   "cell_type": "code",
   "execution_count": 3,
   "id": "7ea813a8",
   "metadata": {
    "execution": {
     "iopub.execute_input": "2024-05-14T20:11:52.572974Z",
     "iopub.status.busy": "2024-05-14T20:11:52.572307Z",
     "iopub.status.idle": "2024-05-14T20:12:12.311284Z",
     "shell.execute_reply": "2024-05-14T20:12:12.310640Z"
    },
    "papermill": {
     "duration": 19.744775,
     "end_time": "2024-05-14T20:12:12.312990",
     "exception": false,
     "start_time": "2024-05-14T20:11:52.568215",
     "status": "completed"
    },
    "tags": []
   },
   "outputs": [],
   "source": [
    "# deal with the author list and edge cases of people that cannot be consistent on their name  \n",
    "\n",
    "def filter_non_scientists(name: str) -> bool:\n",
    "    \"\"\" Loose filter on expected authorships\n",
    "\n",
    "    removing IT, administration, technical staff\n",
    "    :param name: name\n",
    "    :returns: False if name is not a scientist\n",
    "    \"\"\"\n",
    "    remove_list = ['Wolf', 'Licht', 'Binroth', 'Witzel', 'Jordan',\n",
    "                   'Zähringer', 'Scheerer', 'Hoffmann', 'Düe',\n",
    "                   'Hellmich', 'Enkler-Scharpegge', 'Witte-Nguy',\n",
    "                   'Dehen', 'Beckmann', 'Jager', 'Jäger'\n",
    "                  ]\n",
    "\n",
    "    for k in remove_list:\n",
    "        if k in name:\n",
    "            return False\n",
    "    return True\n",
    "\n",
    "def add_author_to_list(author_list: list) -> list:\n",
    "    \"\"\" Add author to list if not already in list\n",
    "    \n",
    "    :param author: author name\n",
    "    :param author_list: list of authors\n",
    "    :returns: updated list of authors\n",
    "    \"\"\"\n",
    "    add_list = ['T. Henning']\n",
    "\n",
    "    for author in add_list:\n",
    "        if author not in author_list:\n",
    "            author_list.append(author)\n",
    "    return author_list\n",
    "\n",
    "# get list from MPIA website\n",
    "# filter for non-scientists (mpia.get_mpia_mitarbeiter_list() does some filtering)\n",
    "mpia_authors = [k[1] for k in mpia.get_mpia_mitarbeiter_list() if filter_non_scientists(k[1])]\n",
    "# add some missing author because of inconsistencies in their MPIA name and author name on papers\n",
    "mpia_authors = add_author_to_list(mpia_authors)"
   ]
  },
  {
   "cell_type": "code",
   "execution_count": 4,
   "id": "2645e73a",
   "metadata": {
    "execution": {
     "iopub.execute_input": "2024-05-14T20:12:12.320727Z",
     "iopub.status.busy": "2024-05-14T20:12:12.320243Z",
     "iopub.status.idle": "2024-05-14T20:12:13.146572Z",
     "shell.execute_reply": "2024-05-14T20:12:13.145862Z"
    },
    "papermill": {
     "duration": 0.831557,
     "end_time": "2024-05-14T20:12:13.147925",
     "exception": false,
     "start_time": "2024-05-14T20:12:12.316368",
     "status": "completed"
    },
    "tags": []
   },
   "outputs": [
    {
     "name": "stdout",
     "output_type": "stream",
     "text": [
      "J. Liu  ->  J. Liu  |  ['J. Liu']\n",
      "J. Eberhardt  ->  J. Eberhardt  |  ['J. Eberhardt']\n",
      "T. Henning  ->  T. Henning  |  ['T. Henning']\n",
      "T. Trifonov  ->  T. Trifonov  |  ['T. Trifonov']\n",
      "A. Gould  ->  A. Gould  |  ['A. Gould']\n",
      "J. Liu  ->  J. Liu  |  ['J. Liu']\n"
     ]
    },
    {
     "name": "stdout",
     "output_type": "stream",
     "text": [
      "T. Henning  ->  T. Henning  |  ['T. Henning']\n",
      "J. Lian  ->  J. Lian  |  ['J. Lian']\n",
      "J. Li  ->  J. Li  |  ['J. Li']\n",
      "Arxiv has 73 new papers today\n",
      "          7 with possible author matches\n"
     ]
    }
   ],
   "source": [
    "new_papers = get_new_papers()\n",
    "# add manual references\n",
    "add_paper_refs = []\n",
    "new_papers.extend([get_paper_from_identifier(k) for k in add_paper_refs])\n",
    "\n",
    "candidates = []\n",
    "for paperk in new_papers:\n",
    "    # Check author list with their initials\n",
    "    normed_author_list = [mpia.get_initials(k) for k in paperk['authors']]\n",
    "    hl_authors = highlight_authors_in_list(normed_author_list, mpia_authors, verbose=True)\n",
    "    matches = [(hl, orig) for hl, orig in zip(hl_authors, paperk['authors']) if 'mark' in hl]\n",
    "    paperk['authors'] = hl_authors\n",
    "    if matches:\n",
    "        # only select paper if an author matched our list\n",
    "        candidates.append(paperk)\n",
    "print(\"\"\"Arxiv has {0:,d} new papers today\"\"\".format(len(new_papers)))        \n",
    "print(\"\"\"          {0:,d} with possible author matches\"\"\".format(len(candidates)))"
   ]
  },
  {
   "cell_type": "markdown",
   "id": "3543b34a",
   "metadata": {
    "papermill": {
     "duration": 0.003347,
     "end_time": "2024-05-14T20:12:13.154829",
     "exception": false,
     "start_time": "2024-05-14T20:12:13.151482",
     "status": "completed"
    },
    "tags": []
   },
   "source": [
    "# Parse sources and generate relevant outputs\n",
    "\n",
    "From the candidates, we do the following steps:\n",
    "* get their tarball from ArXiv (and extract data)\n",
    "* find the main .tex file: find one with \\documentclass{...} (sometimes it's non trivial)\n",
    "* Check affiliations with :func:`validation`, which uses :func:`mpia.affiliation_verifications`\n",
    "* If passing the affiliations: we parse the .tex source\n",
    "   * inject sub-documents into the main (flatten the main document)\n",
    "   * parse structure, extract information (title, abstract, authors, figures...)\n",
    "   * handles `\\graphicspath` if provided\n",
    "* Generate the .md document."
   ]
  },
  {
   "cell_type": "code",
   "execution_count": 5,
   "id": "9576b79e",
   "metadata": {
    "execution": {
     "iopub.execute_input": "2024-05-14T20:12:13.162889Z",
     "iopub.status.busy": "2024-05-14T20:12:13.162377Z",
     "iopub.status.idle": "2024-05-14T20:12:50.190766Z",
     "shell.execute_reply": "2024-05-14T20:12:50.189937Z"
    },
    "papermill": {
     "duration": 37.034818,
     "end_time": "2024-05-14T20:12:50.192869",
     "exception": false,
     "start_time": "2024-05-14T20:12:13.158051",
     "status": "completed"
    },
    "scrolled": false,
    "tags": []
   },
   "outputs": [
    {
     "data": {
      "application/vnd.jupyter.widget-view+json": {
       "model_id": "53f9c83cb09e40169676757fe7c58d58",
       "version_major": 2,
       "version_minor": 0
      },
      "text/plain": [
       "  0%|          | 0/7 [00:00<?, ?it/s]"
      ]
     },
     "metadata": {},
     "output_type": "display_data"
    },
    {
     "name": "stdout",
     "output_type": "stream",
     "text": [
      "Retrieving document from  https://arxiv.org/e-print/2405.07152\n"
     ]
    },
    {
     "name": "stdout",
     "output_type": "stream",
     "text": [
      "extracting tarball to tmp_2405.07152... done.\n",
      "Retrieving document from  https://arxiv.org/e-print/2405.07367\n"
     ]
    },
    {
     "name": "stdout",
     "output_type": "stream",
     "text": [
      "extracting tarball to tmp_2405.07367... done.\n",
      "  1: tmp_2405.07367/JWST_sci_template.tex, 88 lines\n",
      "  3: tmp_2405.07367/paper.tex, 1,110 lines\n"
     ]
    },
    {
     "name": "stderr",
     "output_type": "stream",
     "text": [
      "/opt/hostedtoolcache/Python/3.9.19/x64/lib/python3.9/site-packages/IPython/core/interactiveshell.py:3550: LatexWarning: Multiple tex files.\n",
      "\n",
      "  exec(code_obj, self.user_global_ns, self.user_ns)\n",
      "/opt/hostedtoolcache/Python/3.9.19/x64/lib/python3.9/site-packages/IPython/core/interactiveshell.py:3550: LatexWarning: Found 2 candidates with documentclass definition.\n",
      "  exec(code_obj, self.user_global_ns, self.user_ns)\n",
      "/opt/hostedtoolcache/Python/3.9.19/x64/lib/python3.9/site-packages/IPython/core/interactiveshell.py:3550: LatexWarning: Assuming tmp_2405.07367/paper.tex as main document.\n",
      "  exec(code_obj, self.user_global_ns, self.user_ns)\n"
     ]
    },
    {
     "name": "stdout",
     "output_type": "stream",
     "text": [
      "Found 88 bibliographic references in tmp_2405.07367/paper.bbl.\n",
      "Retrieving document from  https://arxiv.org/e-print/2405.07514\n"
     ]
    },
    {
     "name": "stdout",
     "output_type": "stream",
     "text": [
      "extracting tarball to tmp_2405.07514..."
     ]
    },
    {
     "name": "stdout",
     "output_type": "stream",
     "text": [
      " done.\n"
     ]
    },
    {
     "name": "stderr",
     "output_type": "stream",
     "text": [
      "/tmp/ipykernel_2183/1211882699.py:51: LatexWarning: 2405.07514 did not run properly\n",
      "Unable to locate Ghostscript on paths\n",
      "  warnings.warn(latex.LatexWarning(f\"{paper_id:s} did not run properly\\n\" +\n"
     ]
    },
    {
     "name": "stdout",
     "output_type": "stream",
     "text": [
      "Retrieving document from  https://arxiv.org/e-print/2405.07559\n",
      "extracting tarball to tmp_2405.07559..."
     ]
    },
    {
     "name": "stdout",
     "output_type": "stream",
     "text": [
      " done.\n",
      "Retrieving document from  https://arxiv.org/e-print/2405.07855\n"
     ]
    },
    {
     "name": "stdout",
     "output_type": "stream",
     "text": [
      "extracting tarball to tmp_2405.07855... done.\n"
     ]
    },
    {
     "name": "stdout",
     "output_type": "stream",
     "text": [
      "T. Henning  ->  T. Henning  |  ['T. Henning']\n"
     ]
    },
    {
     "name": "stdout",
     "output_type": "stream",
     "text": [
      "Found 115 bibliographic references in tmp_2405.07855/C2H2+NH3+UV.bbl.\n",
      "Retrieving document from  https://arxiv.org/e-print/2405.07964\n"
     ]
    },
    {
     "name": "stdout",
     "output_type": "stream",
     "text": [
      "extracting tarball to tmp_2405.07964..."
     ]
    },
    {
     "name": "stdout",
     "output_type": "stream",
     "text": [
      " done.\n",
      "Retrieving document from  https://arxiv.org/e-print/2405.07986\n",
      "extracting tarball to tmp_2405.07986..."
     ]
    },
    {
     "name": "stdout",
     "output_type": "stream",
     "text": [
      " done.\n"
     ]
    }
   ],
   "source": [
    "documents = []\n",
    "failed = []\n",
    "for paper in tqdm(candidates):\n",
    "    # debug crap\n",
    "    paper['identifier'] = paper['identifier'].lower().replace('arxiv:', '').replace(r'\\n', '').strip()\n",
    "    paper_id = paper['identifier']\n",
    "    \n",
    "    folder = f'tmp_{paper_id}'\n",
    "\n",
    "    try:\n",
    "        if not os.path.isdir(folder):\n",
    "            folder = retrieve_document_source(f\"{paper_id}\", f'tmp_{paper_id}')\n",
    "        \n",
    "        try:\n",
    "            doc = latex.LatexDocument(folder, validation=validation)    \n",
    "        except AffiliationError as affilerror:\n",
    "            msg = f\"ArXiv:{paper_id:s} is not an MPIA paper... \" + str(affilerror)\n",
    "            failed.append((paper, \"affiliation error: \" + str(affilerror) ))\n",
    "            continue\n",
    "        \n",
    "        # Hack because sometimes author parsing does not work well\n",
    "        if (len(doc.authors) != len(paper['authors'])):\n",
    "            doc._authors = paper['authors']\n",
    "        else:\n",
    "            # highlight authors (FIXME: doc.highlight_authors)\n",
    "            # done on arxiv paper already\n",
    "            doc._authors = highlight_authors_in_list(\n",
    "                [mpia.get_initials(k) for k in doc.authors], \n",
    "                mpia_authors, verbose=True)\n",
    "        if (doc.abstract) in (None, ''):\n",
    "            doc._abstract = paper['abstract']\n",
    "            \n",
    "        doc.comment = (get_markdown_badge(paper_id) + \n",
    "                       \"<mark>Appeared on: \" + paper['date'] + \"</mark> - \")\n",
    "        if paper['comments']:\n",
    "            doc.comment += \" _\" + paper['comments'] + \"_\"\n",
    "        \n",
    "        full_md = doc.generate_markdown_text()\n",
    "        \n",
    "        full_md += get_markdown_qrcode(paper_id)\n",
    "        \n",
    "        # replace citations\n",
    "        try:\n",
    "            bibdata = latex_bib.LatexBib.from_doc(doc)\n",
    "            full_md = latex_bib.replace_citations(full_md, bibdata)\n",
    "        except Exception as e:\n",
    "            print(e)\n",
    "        \n",
    "        documents.append((paper_id, full_md))\n",
    "    except Exception as e:\n",
    "        warnings.warn(latex.LatexWarning(f\"{paper_id:s} did not run properly\\n\" +\n",
    "                                         str(e)\n",
    "                                        ))\n",
    "        failed.append((paper, \"latex error \" + str(e)))"
   ]
  },
  {
   "cell_type": "markdown",
   "id": "2505a25c",
   "metadata": {
    "papermill": {
     "duration": 0.004298,
     "end_time": "2024-05-14T20:12:50.201539",
     "exception": false,
     "start_time": "2024-05-14T20:12:50.197241",
     "status": "completed"
    },
    "tags": []
   },
   "source": [
    "### Export the logs\n",
    "\n",
    "Throughout, we also keep track of the logs per paper. see `logs-{today date}.md` "
   ]
  },
  {
   "cell_type": "code",
   "execution_count": 6,
   "id": "d733828a",
   "metadata": {
    "execution": {
     "iopub.execute_input": "2024-05-14T20:12:50.212965Z",
     "iopub.status.busy": "2024-05-14T20:12:50.212433Z",
     "iopub.status.idle": "2024-05-14T20:12:50.230671Z",
     "shell.execute_reply": "2024-05-14T20:12:50.230012Z"
    },
    "papermill": {
     "duration": 0.025585,
     "end_time": "2024-05-14T20:12:50.232313",
     "exception": false,
     "start_time": "2024-05-14T20:12:50.206728",
     "status": "completed"
    },
    "scrolled": false,
    "tags": []
   },
   "outputs": [
    {
     "data": {
      "text/markdown": [
       "## Successful papers"
      ],
      "text/plain": [
       "<IPython.core.display.Markdown object>"
      ]
     },
     "metadata": {},
     "output_type": "display_data"
    },
    {
     "data": {
      "text/markdown": [
       "\n",
       "|||\n",
       "|---:|:---|\n",
       "| [![arXiv](https://img.shields.io/badge/arXiv-2405.07367-b31b1b.svg)](https://arxiv.org/abs/2405.07367) | **TOI-2447 b / NGTS-29 b: a 69-day Saturn around a Solar analogue**  |\n",
       "|| S. Gill, et al. -- incl., <mark>J. Eberhardt</mark>, <mark>T. Henning</mark>, <mark>T. Trifonov</mark> |\n",
       "|*Appeared on*| *2024-05-14*|\n",
       "|*Comments*| *16 pages, 12 figures. Accepted for publication in MNRAS*|\n",
       "|**Abstract**|            Discovering transiting exoplanets with relatively long orbital periods ($>$10 days) is crucial to facilitate the study of cool exoplanet atmospheres ($T_{\\rm eq} < 700 K$) and to understand exoplanet formation and inward migration further out than typical transiting exoplanets. In order to discover these longer period transiting exoplanets, long-term photometric and radial velocity campaigns are required. We report the discovery of TOI-2447 b ($=$ NGTS-29b), a Saturn-mass transiting exoplanet orbiting a bright (T=10.0) Solar-type star (T$_{\\rm eff}$=5730 K). TOI-2447 b was identified as a transiting exoplanet candidate from a single transit event of 1.3% depth and 7.29 h duration in $TESS$ Sector 31 and a prior transit event from 2017 in NGTS data. Four further transit events were observed with NGTS photometry which revealed an orbital period of P=69.34 days. The transit events establish a radius for TOI-2447 b of $0.865 \\pm 0.010\\rm R_{\\rm J}$, while radial velocity measurements give a mass of $0.386 \\pm 0.025 \\rm M_{\\rm J}$. The equilibrium temperature of the planet is $414$ K, making it much cooler than the majority of $TESS$ planet discoveries. We also detect a transit signal in NGTS data not caused by TOI-2447 b, along with transit timing variations and evidence for a $\\sim$150 day signal in radial velocity measurements. It is likely that the system hosts additional planets, but further photometry and radial velocity campaigns will be needed to determine their parameters with confidence. TOI-2447 b/NGTS-29b joins a small but growing population of cool giants that will provide crucial insights into giant planet composition and formation mechanisms.         |"
      ],
      "text/plain": [
       "[2405.07367] TOI-2447 b / NGTS-29 b: a 69-day Saturn around a Solar analogue\n",
       "\tS. Gill, et al. -- incl., <mark>J. Eberhardt</mark>, <mark>T. Henning</mark>, <mark>T. Trifonov</mark>"
      ]
     },
     "metadata": {},
     "output_type": "display_data"
    },
    {
     "data": {
      "text/markdown": [
       "\n",
       "|||\n",
       "|---:|:---|\n",
       "| [![arXiv](https://img.shields.io/badge/arXiv-2405.07855-b31b1b.svg)](https://arxiv.org/abs/2405.07855) | **Formation of N-bearing complex organic molecules in molecular clouds: Ketenimine, acetonitrile, acetaldimine, and vinylamine via the UV photolysis of C$_2$H$_2$ ice**  |\n",
       "|| K.-J. Chuang, C. Jäger, J. C. Santos, <mark>T. Henning</mark> |\n",
       "|*Appeared on*| *2024-05-14*|\n",
       "|*Comments*| *22 pages, 9 figures*|\n",
       "|**Abstract**|            The solid-state C$_2$H$_2$ chemistry in interstellar H$_2$O-rich ice has been proposed to explain astronomically observed complex organic molecules (COMs), including ketene (CH$_2$CO), acetaldehyde (CH$_3$CHO), and ethanol (CH$_3$CH$_2$OH), toward early star-forming regions. This formation mechanism is supported by recent laboratory studies and theoretical calculations for the reactions of C$_2$H$_2$+OH/H. However, the analog reaction of C$_2$H$_2$+NH$_2$ forming N-bearing species has been suggested to have a relatively low rate constant that is orders of magnitude lower than the value of C$_2$H$_2$+OH. This work extends our previous laboratory studies on O-bearing COM formation to investigate the interactions between C$_2$H$_2$ and NH$_3$ ice triggered by cosmic ray-induced secondary UV photons under molecular cloud conditions. Experiments were performed in an ultra-high vacuum chamber to investigate the UV photolysis of the C$_2$H$_2$:NH$_3$ ice mixture at 10 K. The studied ice chemistry of C$_2$H$_2$ with NH$_2$ radicals and H atoms resulting from the UV photodissociation of NH$_3$ leads to the formation of several N-bearing COMs, including vinylamine (CH$_2$CHNH$_2$), acetaldimine (CH$_3$CHNH), acetonitrile (CH$_3$CN), ketenimine (CH$_2$CNH), and tentatively ethylamine (CH$_3$CH$_2$NH$_2$). The experimental results show an immediate and abundant CH$_2$CHNH$_2$ yield as the first-generation product, which is further converted into other chemical derivatives. The effective destruction and formation cross-section values of parent species and COMs were derived, and we discuss the chemical links among these molecules and their astronomical relevance.         |"
      ],
      "text/plain": [
       "[2405.07855] Formation of N-bearing complex organic molecules in molecular clouds: Ketenimine, acetonitrile, acetaldimine, and vinylamine via the UV photolysis of C$_2$H$_2$ ice\n",
       "\tK.-J. Chuang, C. Jäger, J. C. Santos, <mark>T. Henning</mark>"
      ]
     },
     "metadata": {},
     "output_type": "display_data"
    },
    {
     "data": {
      "text/markdown": [
       "## Failed papers"
      ],
      "text/plain": [
       "<IPython.core.display.Markdown object>"
      ]
     },
     "metadata": {},
     "output_type": "display_data"
    },
    {
     "data": {
      "text/markdown": [
       "\n",
       "|||\n",
       "|---:|:---|\n",
       "| [![arXiv](https://img.shields.io/badge/arXiv-2405.07152-b31b1b.svg)](https://arxiv.org/abs/2405.07152) | **On the energy budget of starquake-induced repeating fast radio bursts**  |\n",
       "|| W.-Y. Wang, et al. -- incl., <mark>J. Liu</mark> |\n",
       "|*Appeared on*| *2024-05-14*|\n",
       "|*Comments*| *10 pages, 2 figures. Submitted. Some intriguing FAST's results are expected!*|\n",
       "|**Abstract**|            With a growing sample of fast radio bursts (FRBs), we investigate the energy budget of different power sources within the framework of magnetar starquake triggering mechanism. During a starquake, the energy can be released in any form through magnetic, strain, rotational, and gravitational energies. Following findings are revealed: 1. The crust can store a free magnetic energy of the amount of at least $6.3\\times10^{46}$ erg via toroidal fields, with frequent starquakes happening due to the instability of the crust. 2. The strain energy develops as a rigid object spins down, which can be released during a global starquake accompanied by a glitch. However, it takes a long time to accumulate enough strain energy via spin-down. 3. The rotational energy of a magnetar with $P\\lesssim0.1\\rm\\,s$ can match the energy and luminosity budget of FRBs. 4. The budget of the total gravitational energy is high, but the mechanism and efficiency of converting this energy to radiation deserve further exploration.         |\n",
       "|<p style=\"color:green\"> **ERROR** </p>| <p style=\"color:green\">affiliation error: mpia.affiliation_verifications: 'Heidelberg' keyword not found.</p> |"
      ],
      "text/plain": [
       "<IPython.core.display.Markdown object>"
      ]
     },
     "metadata": {},
     "output_type": "display_data"
    },
    {
     "data": {
      "text/markdown": [
       "\n",
       "|||\n",
       "|---:|:---|\n",
       "| [![arXiv](https://img.shields.io/badge/arXiv-2405.07559-b31b1b.svg)](https://arxiv.org/abs/2405.07559) | **Preliminary Design of Detector Assembly for DIXE**  |\n",
       "|| <mark>J. Liu</mark>, et al. |\n",
       "|*Appeared on*| *2024-05-14*|\n",
       "|*Comments*| *13 pages, 6 figures. Submitted version, the full version is published by Journal of Low Temperature Physics*|\n",
       "|**Abstract**|            Diffuse X-ray Explorer (DIXE) is a proposed X-ray spectroscopic survey experiment for the China Space Station. Its detector assembly (DA) contains the transition edge sensor (TES) microcalorimeter and readout electronics based on the superconducting quantum interference device (SQUID) on the cold stage. The cold stage is thermally connected to the ADR stage, and a Kevlar suspension is used to stabilize and isolate it from the 4 K environment. TES and SQUID are both sensitive to the magnetic field, so a hybrid shielding structure consisting of an outer Cryoperm shield and an inner niobium shield is used to attenuate the magnetic field. In addition, IR/optical/UV photons can produce shot noise and thus degrade the energy resolution of the TES microcalorimeter. A blocking filter assembly is designed to minimize the effects. In it, five filters are mounted at different temperature stages, reducing the probability of IR/optical/UV photons reaching the detector through multiple reflections between filters and absorption. This paper will describe the preliminary design of the detector assembly and its optimization.         |\n",
       "|<p style=\"color:green\"> **ERROR** </p>| <p style=\"color:green\">affiliation error: mpia.affiliation_verifications: 'Heidelberg' keyword not found.</p> |"
      ],
      "text/plain": [
       "<IPython.core.display.Markdown object>"
      ]
     },
     "metadata": {},
     "output_type": "display_data"
    },
    {
     "data": {
      "text/markdown": [
       "\n",
       "|||\n",
       "|---:|:---|\n",
       "| [![arXiv](https://img.shields.io/badge/arXiv-2405.07964-b31b1b.svg)](https://arxiv.org/abs/2405.07964) | **Early phase simultaneous multi-band observations of Type II supernova SN 2024ggi with Mephisto**  |\n",
       "|| X. Chen, et al. -- incl., <mark>J. Lian</mark> |\n",
       "|*Appeared on*| *2024-05-14*|\n",
       "|*Comments*| *Pages 9, Table 1, Figures 7*|\n",
       "|**Abstract**|            We present early-phase good cadence simultaneous multi-band ($ugi$, $vrz$--bands) imaging of nearby supernova SN 2024ggi, which exploded in the nearby galaxy, NGC~3621. A quick follow-up was conducted within less than a day after the explosion and continued $\\sim$23 days. The $uvg$-band light curves display a rapid rise ($\\sim$1.4 mag day$^{-1}$) to maximum in $\\sim$4 days and absolute magnitude $M_{g}\\sim$--17.75 mag. The post-peak decay rate in redder bands is $\\sim$0.01 mag day$^{-1}$. Different colors (e.g., $u-g$ and $v-r$) of SN~2024ggi are slightly redder than SN~2023ixf. A significant rise ($\\sim$12.5 kK) in black-body temperature (optical) was noticed within $\\sim$2 days after the explosion, which successively decreased, indicating shock break out inside a dense circumstellar medium (CSM) surrounding the progenitor. Using semi-analytical modeling, the ejecta mass and progenitor radius were estimated as 1.2 M$_{\\odot}$ and $\\sim$550 R$_{\\odot}$, respectively. The archival deep images ($g,r,i,z$-bands) from the Dark Energy Camera Legacy Survey (DECaLS) were examined, and a possible progenitor was detected in each band ($\\sim$22--22.5 mag) and had a mass range of 14--17 M$_{\\odot}$.         |\n",
       "|<p style=\"color:green\"> **ERROR** </p>| <p style=\"color:green\">affiliation error: mpia.affiliation_verifications: 'Heidelberg' keyword not found.</p> |"
      ],
      "text/plain": [
       "<IPython.core.display.Markdown object>"
      ]
     },
     "metadata": {},
     "output_type": "display_data"
    },
    {
     "data": {
      "text/markdown": [
       "\n",
       "|||\n",
       "|---:|:---|\n",
       "| [![arXiv](https://img.shields.io/badge/arXiv-2405.07986-b31b1b.svg)](https://arxiv.org/abs/2405.07986) | **JWST's PEARLS: resolved study of the stellar and dust components in starburst galaxies at cosmic noon**  |\n",
       "|| M. Polletta, et al. -- incl., <mark>J. Li</mark> |\n",
       "|*Appeared on*| *2024-05-14*|\n",
       "|*Comments*| *24 pages, 21 figures + appendix. Submitted to A&A. Comments welcome!*|\n",
       "|**Abstract**|            Dusty star-forming galaxies (DSFGs) contribute significantly to the stellar buildup at cosmic noon. Major mergers and gas accretion are often invoked to explain DSFGs' prodigious star-formation rates (SFRs) and large stellar masses. We conducted a spatially-resolved morphological analysis of the rest-frame UV/NIR emission in three DSFGs at z~2.5. Initially discovered as CO emitters by NOEMA observations of a bright Herschel source, we observed them with the JWST/NIRCam as part of the PEARLS program. The NIRCam data reveal the galaxies' stellar population and dust distribution on scales of 250 pc. Spatial variations in stellar mass, SFR, and dust extinction are determined in resolved maps obtained through pixel-based SED fitting. The CO emitters are massive, dusty starburst galaxies with SFRs ranging from 340 to 2500 Msun/yr, positioning them among the most active SFGs at 2<z<3. Notably, they belong to the ~1.5% of the entire JWST population with extremely red colors. Their morphologies are disk-like, with effective radii of 2.0-4.4 kpc, and exhibit sub-structures such as clumps and spiral arms. The galaxies have dust extinctions up to Av=5-7 mag with asymmetric distributions extending over several kpc and including off-center regions resembling bent spiral arms and clumps. The NIR dust-attenuation curve in these sources deviates from standard laws, implying different dust grain properties than commonly assumed in starburst galaxies. The proximity of galaxies with consistent redshifts, strong color gradients, overall disturbed appearance, asymmetric dust obscuration, and wide-spread star formation favor interactions (minor mergers and flybys) as the mechanism driving the CO galaxies' exceptional SFRs. Their large masses and rich environment hint at membership in two proto-structures, as initially inferred from their association with a Planck-selected high-z source.         |\n",
       "|<p style=\"color:green\"> **ERROR** </p>| <p style=\"color:green\">affiliation error: mpia.affiliation_verifications: 'Heidelberg' keyword not found.</p> |"
      ],
      "text/plain": [
       "<IPython.core.display.Markdown object>"
      ]
     },
     "metadata": {},
     "output_type": "display_data"
    },
    {
     "data": {
      "text/markdown": [
       "\n",
       "|||\n",
       "|---:|:---|\n",
       "| [![arXiv](https://img.shields.io/badge/arXiv-2405.07514-b31b1b.svg)](https://arxiv.org/abs/2405.07514) | **KMT-2023-BLG-1866Lb: Microlensing super-Earth around an M dwarf host**  |\n",
       "|| C. Han, et al. -- incl., <mark>A. Gould</mark> |\n",
       "|*Appeared on*| *2024-05-14*|\n",
       "|*Comments*| *9 pages, 8 figures, 4 tables*|\n",
       "|**Abstract**|            We investigate the nature of the short-term anomaly that appears in the lensing light curve of KMT-2023-BLG-1866. The anomaly was only partly covered due to its short duration, less than a day, coupled with cloudy weather conditions and restricted nighttime duration. Considering intricacy of interpreting partially covered signals, we thoroughly explore all potential degenerate solutions. Through this process, we identify three planetary scenarios that equally well account for the observed anomaly. These scenarios are characterized by the specific planetary parameters: $(s, q)_{\\rm inner} = [0.9740 \\pm 0.0083, (2.46 \\pm 1.07) \\times 10^{-5}]$, $(s, q)_{\\rm intermediate} = [0.9779 \\pm 0.0017, (1.56 \\pm 0.25)\\times 10^{-5}]$, and $(s, q)_{\\rm outer} = [0.9894 \\pm 0.0107, (2.31 \\pm 1.29)\\times 10^{-5}]$, where $s$ and $q$ denote the projected separation (scaled to the Einstein radius) and mass ratio between the planet and its host, respectively. We identify that the ambiguity between the inner and outer solutions stems from the inner-outer degeneracy, while the similarity between the intermediate solution and the others is due to an accidental degeneracy caused by incomplete anomaly coverage. Through Bayesian analysis utilizing the constraints derived from measured lensing observables and blending flux, our estimation indicates that the lens system comprises a very low-mass planet orbiting an early M-type star situated approximately (6.2 -- 6.5)~kpc from Earth in terms of median posterior values for the different solutions. The median mass of the planet host is in the range of (0.48 -- 0.51)~$M_\\odot$, and that of the planet's mass spans a range of (2.6 -- 4.0)~$M_{\\rm E}$, varying across different solutions. The detection of KMT-2023-BLG-1866Lb signifies the extension of the lensing surveys to very low-mass planets that have been difficult to be detected from earlier surveys.         |\n",
       "|<p style=\"color:red\"> **ERROR** </p>| <p style=\"color:red\">latex error Unable to locate Ghostscript on paths</p> |"
      ],
      "text/plain": [
       "<IPython.core.display.Markdown object>"
      ]
     },
     "metadata": {},
     "output_type": "display_data"
    }
   ],
   "source": [
    "import datetime\n",
    "today = str(datetime.date.today())\n",
    "logfile = f\"_build/html/logs/log-{today}.md\"\n",
    "\n",
    "\n",
    "with open(logfile, 'w') as logs:\n",
    "    # Success\n",
    "    logs.write(f'# Arxiv on Deck 2: Logs - {today}\\n\\n')\n",
    "    logs.write(\"\"\"* Arxiv had {0:,d} new papers\\n\"\"\".format(len(new_papers)))\n",
    "    logs.write(\"\"\"    * {0:,d} with possible author matches\\n\\n\"\"\".format(len(candidates)))\n",
    "    logs.write(\"## Sucessful papers\\n\\n\")\n",
    "    display(Markdown(\"## Successful papers\"))\n",
    "    success = [k[0] for k in documents]\n",
    "    for candid in candidates:\n",
    "        if candid['identifier'].split(':')[-1] in success:\n",
    "            display(candid)\n",
    "            logs.write(candid.generate_markdown_text() + '\\n\\n')\n",
    "\n",
    "    ## failed\n",
    "    logs.write(\"## Failed papers\\n\\n\")\n",
    "    display(Markdown(\"## Failed papers\"))\n",
    "    failed = sorted(failed, key=lambda x: x[1])\n",
    "    current_reason = \"\"\n",
    "    for paper, reason in failed:\n",
    "        if 'affiliation' in reason:\n",
    "            color = 'green'\n",
    "        else:\n",
    "            color = 'red'\n",
    "        data = Markdown(\n",
    "                paper.generate_markdown_text() + \n",
    "                f'\\n|<p style=\"color:{color:s}\"> **ERROR** </p>| <p style=\"color:{color:s}\">{reason:s}</p> |'\n",
    "               )\n",
    "        if reason != current_reason:\n",
    "            logs.write(f'### {reason:s} \\n\\n')\n",
    "            current_reason = reason\n",
    "        logs.write(data.data + '\\n\\n')\n",
    "        \n",
    "        # only display here the important errors (all in logs)\n",
    "        # if color in ('red',):\n",
    "        display(data)"
   ]
  },
  {
   "cell_type": "markdown",
   "id": "472d20ee",
   "metadata": {
    "papermill": {
     "duration": 0.005014,
     "end_time": "2024-05-14T20:12:50.242691",
     "exception": false,
     "start_time": "2024-05-14T20:12:50.237677",
     "status": "completed"
    },
    "tags": []
   },
   "source": [
    "## Export documents\n",
    "\n",
    "We now write the .md files and export relevant images"
   ]
  },
  {
   "cell_type": "code",
   "execution_count": 7,
   "id": "d426aed9",
   "metadata": {
    "execution": {
     "iopub.execute_input": "2024-05-14T20:12:50.254535Z",
     "iopub.status.busy": "2024-05-14T20:12:50.253884Z",
     "iopub.status.idle": "2024-05-14T20:12:50.261307Z",
     "shell.execute_reply": "2024-05-14T20:12:50.260567Z"
    },
    "papermill": {
     "duration": 0.014999,
     "end_time": "2024-05-14T20:12:50.262655",
     "exception": false,
     "start_time": "2024-05-14T20:12:50.247656",
     "status": "completed"
    },
    "tags": []
   },
   "outputs": [],
   "source": [
    "def export_markdown_summary(md: str, md_fname:str, directory: str):\n",
    "    \"\"\"Export MD document and associated relevant images\"\"\"\n",
    "    import os\n",
    "    import shutil\n",
    "    import re\n",
    "\n",
    "    if (os.path.exists(directory) and not os.path.isdir(directory)):\n",
    "        raise RuntimeError(f\"a non-directory file exists with name {directory:s}\")\n",
    "\n",
    "    if (not os.path.exists(directory)):\n",
    "        print(f\"creating directory {directory:s}\")\n",
    "        os.mkdir(directory)\n",
    "\n",
    "    fig_fnames = (re.compile(r'\\[Fig.*\\]\\((.*)\\)').findall(md) + \n",
    "                  re.compile(r'\\<img src=\"([^>\\s]*)\"[^>]*/>').findall(md))\n",
    "    for fname in fig_fnames:\n",
    "        if 'http' in fname:\n",
    "            # No need to copy online figures\n",
    "            continue\n",
    "        destdir = os.path.join(directory, os.path.dirname(fname))\n",
    "        destfname = os.path.join(destdir, os.path.basename(fname))\n",
    "        try:\n",
    "            os.makedirs(destdir)\n",
    "        except FileExistsError:\n",
    "            pass\n",
    "        shutil.copy(fname, destfname)\n",
    "    with open(os.path.join(directory, md_fname), 'w') as fout:\n",
    "        fout.write(md)\n",
    "    print(\"exported in \", os.path.join(directory, md_fname))\n",
    "    [print(\"    + \" + os.path.join(directory,fk)) for fk in fig_fnames]"
   ]
  },
  {
   "cell_type": "code",
   "execution_count": 8,
   "id": "014d04a4",
   "metadata": {
    "execution": {
     "iopub.execute_input": "2024-05-14T20:12:50.274684Z",
     "iopub.status.busy": "2024-05-14T20:12:50.274191Z",
     "iopub.status.idle": "2024-05-14T20:12:50.281826Z",
     "shell.execute_reply": "2024-05-14T20:12:50.281149Z"
    },
    "papermill": {
     "duration": 0.015364,
     "end_time": "2024-05-14T20:12:50.283266",
     "exception": false,
     "start_time": "2024-05-14T20:12:50.267902",
     "status": "completed"
    },
    "tags": []
   },
   "outputs": [
    {
     "name": "stdout",
     "output_type": "stream",
     "text": [
      "exported in  _build/html/2405.07367.md\n",
      "    + _build/html/tmp_2405.07367/./TOI-2447_WASP.png\n",
      "    + _build/html/tmp_2405.07367/./TOI-2447_WASP.png\n",
      "    + _build/html/tmp_2405.07367/./TOI-2447_SPOC_LC.png\n",
      "exported in  _build/html/2405.07855.md\n",
      "    + _build/html/tmp_2405.07855/./Figures/Figure07.png\n",
      "    + _build/html/tmp_2405.07855/./Figures/Figure01.png\n",
      "    + _build/html/tmp_2405.07855/./Figures/Figure04.png\n"
     ]
    }
   ],
   "source": [
    "for paper_id, md in documents:\n",
    "    export_markdown_summary(md, f\"{paper_id:s}.md\", '_build/html/')"
   ]
  },
  {
   "cell_type": "markdown",
   "id": "f087a0a7",
   "metadata": {
    "papermill": {
     "duration": 0.005264,
     "end_time": "2024-05-14T20:12:50.293847",
     "exception": false,
     "start_time": "2024-05-14T20:12:50.288583",
     "status": "completed"
    },
    "tags": []
   },
   "source": [
    "## Display the papers\n",
    "\n",
    "Not necessary but allows for a quick check."
   ]
  },
  {
   "cell_type": "code",
   "execution_count": 9,
   "id": "fd25f625",
   "metadata": {
    "execution": {
     "iopub.execute_input": "2024-05-14T20:12:50.305870Z",
     "iopub.status.busy": "2024-05-14T20:12:50.305386Z",
     "iopub.status.idle": "2024-05-14T20:12:50.311660Z",
     "shell.execute_reply": "2024-05-14T20:12:50.311012Z"
    },
    "papermill": {
     "duration": 0.013995,
     "end_time": "2024-05-14T20:12:50.313061",
     "exception": false,
     "start_time": "2024-05-14T20:12:50.299066",
     "status": "completed"
    },
    "scrolled": false,
    "tags": []
   },
   "outputs": [
    {
     "data": {
      "text/markdown": [
       "<div class=\"macros\" style=\"visibility:hidden;\">\n",
       "$\\newcommand{\\ensuremath}{}$\n",
       "$\\newcommand{\\xspace}{}$\n",
       "$\\newcommand{\\object}[1]{\\texttt{#1}}$\n",
       "$\\newcommand{\\farcs}{{.}''}$\n",
       "$\\newcommand{\\farcm}{{.}'}$\n",
       "$\\newcommand{\\arcsec}{''}$\n",
       "$\\newcommand{\\arcmin}{'}$\n",
       "$\\newcommand{\\ion}[2]{#1#2}$\n",
       "$\\newcommand{\\textsc}[1]{\\textrm{#1}}$\n",
       "$\\newcommand{\\hl}[1]{\\textrm{#1}}$\n",
       "$\\newcommand{\\footnote}[1]{}$\n",
       "$\\newcommand{\\ms}{ ms^{-1}}$\n",
       "$\\newcommand{\\mjup}{ M_{\\rm J}}$\n",
       "$\\newcommand{\\rjup}{ R_{\\rm J}}$\n",
       "$\\newcommand{\\msun}{ M_{\\odot}}$\n",
       "$\\newcommand{\\kepler}{{\\it Kepler}}$\n",
       "$\\newcommand{\\corot}{{\\it CoRoT}}$\n",
       "$\\newcommand{\\tess}{{\\it TESS}}$\n",
       "$\\newcommand{\\plato}{{\\it PLATO}}$\n",
       "$\\newcommand{\\gaia}{{\\it Gaia}}$\n",
       "$\\newcommand{\\jwst}{{\\it JWST}}$\n",
       "$\\newcommand{\\ngts}{{NGTS}}$\n",
       "$\\newcommand{\\wasp}{{WASP}}$\n",
       "$\\newcommand{\\coralie}{{CORALIE}}$\n",
       "$\\newcommand{\\harps}{{HARPS}}$\n",
       "$\\newcommand{\\feros}{{FEROS}}$\n",
       "$\\newcommand{\\chiron}{{CHIRON}}$\n",
       "$\\newcommand{\\pfs}{{PFS}}$\n",
       "$\\newcommand{\\LSO}{La Silla Observatory}$\n",
       "$\\newcommand{\\PAR}{Paranal Observatory}$\n",
       "$\\newcommand{\\ktwo}{{\\it K2}}$\n",
       "$\\newcommand{\\teff}{{T_{\\rm eff}}}$\n",
       "$\\newcommand{\\logg}{{\\log g}}$\n",
       "$\\newcommand{\\feh}{[Fe/H]}$\n",
       "$\\newcommand{\\vsini}{V\\sin i}$\n",
       "$\\newcommand{\\systemt}{{\\rm TOI-2447}}$\n",
       "$\\newcommand{\\systemtic}{{\\rm TIC-1167538}}$\n",
       "$\\newcommand{\\systemtb}{{\\rm TOI-2447 b}}$\n",
       "$\\newcommand{\\systemc}{{\\rm NGTS-29 c}}$\n",
       "$\\newcommand{\\systemn}{{\\rm NGTS-29}}$\n",
       "$\\newcommand{\\systemnb}{{\\rm NGTS-29 b}}$\n",
       "$\\newcommand{\\system}{{\\rm TOI-2447}}$\n",
       "$\\newcommand{\\systemb}{{\\rm TOI-2447 b}}$\n",
       "$\\newcommand{\\thebibliography}{\\DeclareRobustCommand{\\VAN}[3]{##3}\\VANthebibliography}$</div>\n",
       "\n",
       "\n",
       "\n",
       "<div id=\"title\">\n",
       "\n",
       "# TOI-2447 b $\\slash$ NGTS-29 b: a 69-day Saturn around a Solar analogue\n",
       "\n",
       "</div>\n",
       "<div id=\"comments\">\n",
       "\n",
       "[![arXiv](https://img.shields.io/badge/arXiv-2405.07367-b31b1b.svg)](https://arxiv.org/abs/2405.07367)<mark>Appeared on: 2024-05-14</mark> -  _16 pages, 12 figures. Accepted for publication in MNRAS_\n",
       "\n",
       "</div>\n",
       "<div id=\"authors\">\n",
       "\n",
       "S. Gill, et al. -- incl., <mark>J. Eberhardt</mark>, <mark>T. Henning</mark>, <mark>T. Trifonov</mark>\n",
       "\n",
       "</div>\n",
       "<div id=\"abstract\">\n",
       "\n",
       "**Abstract:** Discovering transiting exoplanets with relatively long orbital periods ( $>$ 10 days) is crucialtofacilitate the study of cool exoplanet atmospheres ( $T_{\\rm eq} < 700 K$ ) and to understand exoplanet formation and inward migration further out than typical transiting exoplanets.  In order to discover these longer period transiting exoplanets, long-term photometric and radial velocity campaigns are required. We report the discovery of $\\systemb$ ( $=$ $\\systemnb$ ), a Saturn-mass transiting exoplanet orbiting a bright (T=10.0) Solar-type star ( $\\teff$ =5730 K). $\\systemb$ was identified as a transiting exoplanet candidate from a single transit event of 1.3 \\% depth and 7.29 h duration in $\\tess$ Sector 31 and a prior transit event from 2017 in NGTS data. Four further transit events were observed with $\\ngts$ photometry which revealed an orbital period of P=69.34 days.  The transit events establish a radius for $\\systemb$ of $0.865 \\pm 0.010 \\rm R_{\\rm J}$ , while radial velocity measurements give a mass of $0.386 \\pm 0.025 \\rm M_{\\rm J}$ .  The equilibrium temperature of the planet is $414$ K, making it much cooler than the majority of TESS planet discoveries. We also detect a transit signal in $\\ngts$ data not caused by $\\systemb$ , along with transit timing variations and evidence for a $\\sim$ 150 day signal in radial velocity measurements. It is likely that the system hosts additional planets, but further photometry and radial velocity campaigns will be needed to determine their parameters with confidence. $\\systemtb$ $\\slash$ $\\systemnb$ joins a small but growing population of cool giants that will provide crucial insights into giant planet composition and formation mechanisms.\n",
       "\n",
       "</div>\n",
       "\n",
       "<div id=\"div_fig1\">\n",
       "\n",
       "<img src=\"tmp_2405.07367/./TOI-2447_WASP.png\" alt=\"Fig4\" width=\"100%\"/>\n",
       "\n",
       "**Figure 4. -** Lomb–Scargle power spectrum (black) of photometric observations for each season of $\\wasp$ data of $\\system$. We also plot the power-spectrum level (red) corresponding to a 1\\% false-alarm probability for the highest peak in each season of data. (*fig:WASP_LS*)\n",
       "\n",
       "</div>\n",
       "<div id=\"div_fig2\">\n",
       "\n",
       "<img src=\"tmp_2405.07367/./TOI-2447_WASP.png\" alt=\"Fig7\" width=\"100%\"/>\n",
       "\n",
       "**Figure 7. -** Lomb–Scargle power spectrum (black) of photometric observations for each season of $\\wasp$ data of $\\system$. We also plot the power-spectrum level (red) corresponding to a 1\\% false-alarm probability for the highest peak in each season of data. (*fig:WASP_LS*)\n",
       "\n",
       "</div>\n",
       "<div id=\"div_fig3\">\n",
       "\n",
       "<img src=\"tmp_2405.07367/./TOI-2447_SPOC_LC.png\" alt=\"Fig2\" width=\"100%\"/>\n",
       "\n",
       "**Figure 2. -** $\\tess$ SPOC 2-minute lightcurves plotted in raw cadence (grey points) and binned to 10 minutes (black points) for $\\systemt$ic$\\slash$\\systemt$\\slash$\\systemn from Sector 5 (top panel), Sector 31 (second panel) and Sector 32 (third panel).  The single transit event is marked in red in Sector 31.  A zoom-in of the normalised single-transit event in Sector 31 is shown in the lower panel, along with our best fitting transit model (orange line).  A possible spot crossing event can be seen during the transit (red box). (*fig:tess_lc*)\n",
       "\n",
       "</div><div id=\"qrcode\"><img src=https://api.qrserver.com/v1/create-qr-code/?size=100x100&data=\"https://arxiv.org/abs/2405.07367\"></div>"
      ],
      "text/plain": [
       "<IPython.core.display.Markdown object>"
      ]
     },
     "metadata": {},
     "output_type": "display_data"
    },
    {
     "data": {
      "text/markdown": [
       "<div class=\"macros\" style=\"visibility:hidden;\">\n",
       "$\\newcommand{\\ensuremath}{}$\n",
       "$\\newcommand{\\xspace}{}$\n",
       "$\\newcommand{\\object}[1]{\\texttt{#1}}$\n",
       "$\\newcommand{\\farcs}{{.}''}$\n",
       "$\\newcommand{\\farcm}{{.}'}$\n",
       "$\\newcommand{\\arcsec}{''}$\n",
       "$\\newcommand{\\arcmin}{'}$\n",
       "$\\newcommand{\\ion}[2]{#1#2}$\n",
       "$\\newcommand{\\textsc}[1]{\\textrm{#1}}$\n",
       "$\\newcommand{\\hl}[1]{\\textrm{#1}}$\n",
       "$\\newcommand{\\footnote}[1]{}$</div>\n",
       "\n",
       "\n",
       "\n",
       "<div id=\"title\">\n",
       "\n",
       "# Formation of N--bearing complex organic molecules in molecular clouds: Ketenimine, acetonitrile, acetaldimine, and vinylamine via the UV photolysis of $C_2$$H_2$ ice\n",
       "\n",
       "</div>\n",
       "<div id=\"comments\">\n",
       "\n",
       "[![arXiv](https://img.shields.io/badge/arXiv-2405.07855-b31b1b.svg)](https://arxiv.org/abs/2405.07855)<mark>Appeared on: 2024-05-14</mark> -  _22 pages, 9 figures_\n",
       "\n",
       "</div>\n",
       "<div id=\"authors\">\n",
       "\n",
       "K.-J. Chuang, C. Jäger, J. C. Santos, <mark>T. Henning</mark>\n",
       "\n",
       "</div>\n",
       "<div id=\"abstract\">\n",
       "\n",
       "**Abstract:** The solid-state $C_2$ $H_2$ chemistry in interstellar $H_2$ O-rich ice has been proposed to explain astronomically observed complex organic molecules (COMs), including ketene ($CH_2$ CO), acetaldehyde ($CH_3$ CHO), and ethanol ($CH_3$ $CH_2$ OH), toward early star-forming regions. This formation mechanism is supported by recent laboratory studies and theoretical calculations for the reactions of $C_2$ $H_2$ +OH/H. However, the analog reaction of $C_2$ $H_2$ +$NH_2$ forming N-bearing species has been suggested to have a relatively low rate constant that is orders of magnitude lower than the value of $C_2$ $H_2$ +OH. This work extends our previous laboratory studies on O-bearing COM formation to investigate the interactions between $C_2$ $H_2$ and $NH_3$ ice triggered by cosmic ray-induced secondary UV photons under molecular cloud conditions. Experiments were performed in an ultra-high vacuum chamber to investigate the UV photolysis of the $C_2$ $H_2$ :$NH_3$ ice mixture at 10 K. The ongoing chemistry was monitored in situ by Fourier-transform infrared spectroscopy as a function of photon fluence. The IR spectral identification of the newly formed N-bearing products was further secured by a quadrupole mass spectrometer during the temperature-programmed desorption experiment. The studied ice chemistry of $C_2$ $H_2$ with $NH_2$ radicals and H atoms resulting from the UV photodissociation of $NH_3$ leads to the formation of several N-bearing COMs, including vinylamine ($CH_2$ $CHNH_2$ ), acetaldimine ($CH_3$ CHNH), acetonitrile ($CH_3$ CN), ketenimine ($CH_2$ CNH), and tentatively ethylamine ($CH_3$ $CH_2$ $NH_2$ ). The experimental results show an immediate and abundant $CH_2$ $CHNH_2$ yield as the first-generation product, which is further converted into other chemical derivatives. The effective destruction and formation cross-section values of parent species and COMs were derived, and we discuss the chemical links among these molecules and their astronomical relevance.\n",
       "\n",
       "</div>\n",
       "\n",
       "<div id=\"div_fig1\">\n",
       "\n",
       "<img src=\"tmp_2405.07855/./Figures/Figure07.png\" alt=\"Fig5\" width=\"100%\"/>\n",
       "\n",
       "**Figure 5. -** Kinetic evolution of (a) parent and (b) products derived from UV photolysis of the $C_2$$H_2$:$NH_3$(1:1.4) ice mixture at 10 K over a fluence of 1.1$\\times$10$^{18}$ photon cm$^{-2}$. The dashed lines present the fitting results, and the solid lines connecting data are only for clarity. (*Fig7*)\n",
       "\n",
       "</div>\n",
       "<div id=\"div_fig2\">\n",
       "\n",
       "<img src=\"tmp_2405.07855/./Figures/Figure01.png\" alt=\"Fig1\" width=\"100%\"/>\n",
       "\n",
       "**Figure 1. -** Infrared spectra of the studied interstellar ice analogs. Upper: IR spectra obtained after UV irradiation of the $C_2$$H_2$:$NH_3$(1:1.4) ice mixture at 10 K for a fluence of 5.7$\\times$10$^{17}$ photon cm$^{-2}$. The column densities of $C_2$$H_2$ and $NH_3$ in the ice mixture are 8.1$\\times$10$^{16}$ and 1.1$\\times$10$^{-17}$ molecule cm$^{-2}$, respectively. Bottom: Infrared spectra obtained after UV irradiation of pure ice $NH_3$ and $C_2$$H_2$ at 10 K for a fluence of 5.7$\\times$10$^{17}$ photon cm$^{-2}$ and offset for clarity. The column densities of pure $C_2$$H_2$ and $NH_3$ ice are 7.3$\\times$10$^{-17}$ and 1.1$\\times$10$^{-17}$ molecule cm$^{-2}$, respectively. The shaded area is present for the IR spectra before UV irradiation. The IR peaks of the newly formed products are labeled with an arrow. (*Fig1*)\n",
       "\n",
       "</div>\n",
       "<div id=\"div_fig3\">\n",
       "\n",
       "<img src=\"tmp_2405.07855/./Figures/Figure04.png\" alt=\"Fig2\" width=\"100%\"/>\n",
       "\n",
       "**Figure 2. -** Derivatives of the species' absorbance area during the TPD experiment are presented as a function of temperature. (*Fig4*)\n",
       "\n",
       "</div><div id=\"qrcode\"><img src=https://api.qrserver.com/v1/create-qr-code/?size=100x100&data=\"https://arxiv.org/abs/2405.07855\"></div>"
      ],
      "text/plain": [
       "<IPython.core.display.Markdown object>"
      ]
     },
     "metadata": {},
     "output_type": "display_data"
    }
   ],
   "source": [
    "[display(Markdown(k[1])) for k in documents];"
   ]
  },
  {
   "cell_type": "markdown",
   "id": "873873a4",
   "metadata": {
    "papermill": {
     "duration": 0.005388,
     "end_time": "2024-05-14T20:12:50.323938",
     "exception": false,
     "start_time": "2024-05-14T20:12:50.318550",
     "status": "completed"
    },
    "tags": []
   },
   "source": [
    "# Create HTML index"
   ]
  },
  {
   "cell_type": "code",
   "execution_count": 10,
   "id": "cf665672",
   "metadata": {
    "execution": {
     "iopub.execute_input": "2024-05-14T20:12:50.336236Z",
     "iopub.status.busy": "2024-05-14T20:12:50.335599Z",
     "iopub.status.idle": "2024-05-14T20:12:50.343246Z",
     "shell.execute_reply": "2024-05-14T20:12:50.342561Z"
    },
    "papermill": {
     "duration": 0.015506,
     "end_time": "2024-05-14T20:12:50.344758",
     "exception": false,
     "start_time": "2024-05-14T20:12:50.329252",
     "status": "completed"
    },
    "tags": []
   },
   "outputs": [
    {
     "name": "stdout",
     "output_type": "stream",
     "text": [
      "69  publications files modified in the last 7 days.\n"
     ]
    }
   ],
   "source": [
    "from datetime import datetime, timedelta, timezone\n",
    "from glob import glob\n",
    "import os\n",
    "\n",
    "files = glob('_build/html/*.md')\n",
    "days = 7\n",
    "now = datetime.today()\n",
    "res = []\n",
    "for fk in files:\n",
    "    stat_result = os.stat(fk).st_ctime\n",
    "    modified = datetime.fromtimestamp(stat_result, tz=timezone.utc).replace(tzinfo=None)\n",
    "    delta = now.today() - modified\n",
    "    if delta <= timedelta(days=days):\n",
    "        res.append((delta.seconds, fk))\n",
    "res = [k[1] for k in reversed(sorted(res, key=lambda x:x[1]))]\n",
    "npub = len(res)\n",
    "print(len(res), f\" publications files modified in the last {days:d} days.\")\n",
    "# [ print('\\t', k) for k in res ];"
   ]
  },
  {
   "cell_type": "code",
   "execution_count": 11,
   "id": "015de740",
   "metadata": {
    "execution": {
     "iopub.execute_input": "2024-05-14T20:12:50.357975Z",
     "iopub.status.busy": "2024-05-14T20:12:50.357413Z",
     "iopub.status.idle": "2024-05-14T20:12:50.368762Z",
     "shell.execute_reply": "2024-05-14T20:12:50.368124Z"
    },
    "papermill": {
     "duration": 0.019648,
     "end_time": "2024-05-14T20:12:50.370169",
     "exception": false,
     "start_time": "2024-05-14T20:12:50.350521",
     "status": "completed"
    },
    "tags": []
   },
   "outputs": [
    {
     "name": "stdout",
     "output_type": "stream",
     "text": [
      "4  publications in the last 7 days.\n"
     ]
    }
   ],
   "source": [
    "import datetime\n",
    "from glob import glob\n",
    "\n",
    "def get_last_n_days(lst, days=1):\n",
    "    \"\"\" Get the documents from the last n days \"\"\"\n",
    "    sorted_lst = sorted(lst, key=lambda x: x[1], reverse=True)\n",
    "    for fname, date in sorted_lst:\n",
    "        if date >= str(datetime.date.today() - datetime.timedelta(days=days)):\n",
    "            yield fname\n",
    "\n",
    "def extract_appearance_dates(lst_file):\n",
    "    dates = []\n",
    "\n",
    "    def get_date(line):\n",
    "        return line\\\n",
    "            .split('Appeared on:')[-1]\\\n",
    "            .split('</mark>')[0].strip()\n",
    "\n",
    "    for fname in lst:\n",
    "        with open(fname, 'r') as f:\n",
    "            found_date = False\n",
    "            for line in f:\n",
    "                if not found_date:\n",
    "                    if \"Appeared on\" in line:\n",
    "                        found_date = True\n",
    "                        dates.append((fname, get_date(line)))\n",
    "                else:\n",
    "                    break\n",
    "    return dates\n",
    "\n",
    "from glob import glob\n",
    "lst = glob('_build/html/*md')\n",
    "days = 7\n",
    "dates = extract_appearance_dates(lst)\n",
    "res = list(get_last_n_days(dates, days))\n",
    "npub = len(res)\n",
    "print(len(res), f\" publications in the last {days:d} days.\")"
   ]
  },
  {
   "cell_type": "code",
   "execution_count": 12,
   "id": "52ca0208",
   "metadata": {
    "execution": {
     "iopub.execute_input": "2024-05-14T20:12:50.382775Z",
     "iopub.status.busy": "2024-05-14T20:12:50.382305Z",
     "iopub.status.idle": "2024-05-14T20:12:50.387845Z",
     "shell.execute_reply": "2024-05-14T20:12:50.387086Z"
    },
    "papermill": {
     "duration": 0.013352,
     "end_time": "2024-05-14T20:12:50.389266",
     "exception": false,
     "start_time": "2024-05-14T20:12:50.375914",
     "status": "completed"
    },
    "scrolled": false,
    "tags": []
   },
   "outputs": [],
   "source": [
    "def create_carousel(npub=4):\n",
    "    \"\"\" Generate the HTML code for a carousel with `npub` slides \"\"\"\n",
    "    carousel = [\"\"\"  <div class=\"carousel\" \"\"\",\n",
    "                \"\"\"       data-flickity='{ \"autoPlay\": 10000, \"adaptiveHeight\": true, \"resize\": true, \"wrapAround\": true, \"pauseAutoPlayOnHover\": true, \"groupCells\": 1 }' id=\"asyncTypeset\">\"\"\"\n",
    "                ]\n",
    "    \n",
    "    item_str = \"\"\"    <div class=\"carousel-cell\"> <div id=\"slide{k}\" class=\"md_view\">Content {k}</div> </div>\"\"\"\n",
    "    for k in range(1, npub + 1):\n",
    "        carousel.append(item_str.format(k=k))\n",
    "    carousel.append(\"  </div>\")\n",
    "    return '\\n'.join(carousel)\n",
    "\n",
    "def create_grid(npub=4):\n",
    "    \"\"\" Generate the HTML code for a flat grid with `npub` slides \"\"\"\n",
    "    grid = [\"\"\"  <div class=\"grid\"> \"\"\",\n",
    "                ]\n",
    "    \n",
    "    item_str = \"\"\"    <div class=\"grid-item\"> <div id=\"slide{k}\" class=\"md_view\">Content {k}</div> </div>\"\"\"\n",
    "    for k in range(1, npub + 1):\n",
    "        grid.append(item_str.format(k=k))\n",
    "    grid.append(\"  </div>\")\n",
    "    return '\\n'.join(grid)"
   ]
  },
  {
   "cell_type": "code",
   "execution_count": 13,
   "id": "a6eac5b6",
   "metadata": {
    "execution": {
     "iopub.execute_input": "2024-05-14T20:12:50.402066Z",
     "iopub.status.busy": "2024-05-14T20:12:50.401601Z",
     "iopub.status.idle": "2024-05-14T20:12:50.407169Z",
     "shell.execute_reply": "2024-05-14T20:12:50.406510Z"
    },
    "papermill": {
     "duration": 0.013714,
     "end_time": "2024-05-14T20:12:50.408744",
     "exception": false,
     "start_time": "2024-05-14T20:12:50.395030",
     "status": "completed"
    },
    "scrolled": false,
    "tags": []
   },
   "outputs": [],
   "source": [
    "carousel = create_carousel(npub)\n",
    "docs = ', '.join(['\"{0:s}\"'.format(k.split('/')[-1]) for k in res])\n",
    "slides = ', '.join([f'\"slide{k}\"' for k in range(1, npub + 1)])\n",
    "\n",
    "with open(\"daily_template.html\", \"r\") as tpl:\n",
    "    page = tpl.read()\n",
    "    page = page.replace(\"{%-- carousel:s --%}\", carousel)\\\n",
    "               .replace(\"{%-- suptitle:s --%}\",  \"7-day archives\" )\\\n",
    "               .replace(\"{%-- docs:s --%}\", docs)\\\n",
    "               .replace(\"{%-- slides:s --%}\", slides)\n",
    "    \n",
    "with open(\"_build/html/index_7days.html\", 'w') as fout:\n",
    "    fout.write(page)"
   ]
  },
  {
   "cell_type": "code",
   "execution_count": 14,
   "id": "adc1a1ec",
   "metadata": {
    "execution": {
     "iopub.execute_input": "2024-05-14T20:12:50.422440Z",
     "iopub.status.busy": "2024-05-14T20:12:50.421822Z",
     "iopub.status.idle": "2024-05-14T20:12:50.428863Z",
     "shell.execute_reply": "2024-05-14T20:12:50.428144Z"
    },
    "papermill": {
     "duration": 0.01584,
     "end_time": "2024-05-14T20:12:50.430628",
     "exception": false,
     "start_time": "2024-05-14T20:12:50.414788",
     "status": "completed"
    },
    "tags": []
   },
   "outputs": [
    {
     "name": "stdout",
     "output_type": "stream",
     "text": [
      "2  publications in the last day.\n"
     ]
    }
   ],
   "source": [
    "# redo for today\n",
    "days = 1\n",
    "res = list(get_last_n_days(dates, days))\n",
    "npub = len(res)\n",
    "print(len(res), f\" publications in the last day.\")\n",
    "\n",
    "carousel = create_carousel(npub)\n",
    "docs = ', '.join(['\"{0:s}\"'.format(k.split('/')[-1]) for k in res])\n",
    "slides = ', '.join([f'\"slide{k}\"' for k in range(1, npub + 1)])\n",
    "\n",
    "with open(\"daily_template.html\", \"r\") as tpl:\n",
    "    page = tpl.read()\n",
    "    page = page.replace(\"{%-- carousel:s --%}\", carousel)\\\n",
    "               .replace(\"{%-- suptitle:s --%}\",  \"Daily\" )\\\n",
    "               .replace(\"{%-- docs:s --%}\", docs)\\\n",
    "               .replace(\"{%-- slides:s --%}\", slides)\n",
    "    \n",
    "# print(carousel, docs, slides)\n",
    "# print(page)\n",
    "with open(\"_build/html/index_daily.html\", 'w') as fout:\n",
    "    fout.write(page)"
   ]
  },
  {
   "cell_type": "code",
   "execution_count": 15,
   "id": "00eece82",
   "metadata": {
    "execution": {
     "iopub.execute_input": "2024-05-14T20:12:50.444591Z",
     "iopub.status.busy": "2024-05-14T20:12:50.443872Z",
     "iopub.status.idle": "2024-05-14T20:12:50.451055Z",
     "shell.execute_reply": "2024-05-14T20:12:50.450496Z"
    },
    "papermill": {
     "duration": 0.015385,
     "end_time": "2024-05-14T20:12:50.452320",
     "exception": false,
     "start_time": "2024-05-14T20:12:50.436935",
     "status": "completed"
    },
    "scrolled": false,
    "tags": []
   },
   "outputs": [
    {
     "name": "stdout",
     "output_type": "stream",
     "text": [
      "6  6 publications selected.\n"
     ]
    }
   ],
   "source": [
    "# Create the flat grid of the last N papers (fixed number regardless of dates)\n",
    "from itertools import islice \n",
    "\n",
    "npub = 6\n",
    "res = [k[0] for k in (islice(reversed(sorted(dates, key=lambda x: x[1])), 6))]\n",
    "print(len(res), f\" {npub} publications selected.\")\n",
    "\n",
    "grid = create_grid(npub)\n",
    "docs = ', '.join(['\"{0:s}\"'.format(k.split('/')[-1]) for k in res])\n",
    "slides = ', '.join([f'\"slide{k}\"' for k in range(1, npub + 1)])\n",
    "\n",
    "with open(\"grid_template.html\", \"r\") as tpl:\n",
    "    page = tpl.read()\n",
    "    page = page.replace(\"{%-- grid-content:s --%}\", grid)\\\n",
    "               .replace(\"{%-- suptitle:s --%}\",  f\"Last {npub:,d} papers\" )\\\n",
    "               .replace(\"{%-- docs:s --%}\", docs)\\\n",
    "               .replace(\"{%-- slides:s --%}\", slides)\n",
    "    \n",
    "# print(grid, docs, slides)\n",
    "# print(page)\n",
    "with open(\"_build/html/index_npub_grid.html\", 'w') as fout:\n",
    "    fout.write(page)"
   ]
  }
 ],
 "metadata": {
  "kernelspec": {
   "display_name": "Python 3 (ipykernel)",
   "language": "python",
   "name": "python3"
  },
  "language_info": {
   "codemirror_mode": {
    "name": "ipython",
    "version": 3
   },
   "file_extension": ".py",
   "mimetype": "text/x-python",
   "name": "python",
   "nbconvert_exporter": "python",
   "pygments_lexer": "ipython3",
   "version": "3.9.19"
  },
  "papermill": {
   "default_parameters": {},
   "duration": 59.646498,
   "end_time": "2024-05-14T20:12:50.775560",
   "environment_variables": {},
   "exception": null,
   "input_path": "MPIA daily digest.ipynb",
   "output_path": "log.ipynb",
   "parameters": {},
   "start_time": "2024-05-14T20:11:51.129062",
   "version": "2.6.0"
  },
  "vscode": {
   "interpreter": {
    "hash": "aee8b7b246df8f9039afb4144a1f6fd8d2ca17a180786b69acc140d282b71a49"
   }
  },
  "widgets": {
   "application/vnd.jupyter.widget-state+json": {
    "state": {
     "05d6e89ad25a499f8ed2c47203b14ba4": {
      "model_module": "@jupyter-widgets/controls",
      "model_module_version": "2.0.0",
      "model_name": "HTMLModel",
      "state": {
       "_dom_classes": [],
       "_model_module": "@jupyter-widgets/controls",
       "_model_module_version": "2.0.0",
       "_model_name": "HTMLModel",
       "_view_count": null,
       "_view_module": "@jupyter-widgets/controls",
       "_view_module_version": "2.0.0",
       "_view_name": "HTMLView",
       "description": "",
       "description_allow_html": false,
       "layout": "IPY_MODEL_651b027908a64d96b7737261f6e18a45",
       "placeholder": "​",
       "style": "IPY_MODEL_c105ffa1df794c30a0744aed0c30b598",
       "tabbable": null,
       "tooltip": null,
       "value": " 7/7 [00:37&lt;00:00,  3.27s/it]"
      }
     },
     "0c9011647fb14a3587bbead026515960": {
      "model_module": "@jupyter-widgets/controls",
      "model_module_version": "2.0.0",
      "model_name": "HTMLStyleModel",
      "state": {
       "_model_module": "@jupyter-widgets/controls",
       "_model_module_version": "2.0.0",
       "_model_name": "HTMLStyleModel",
       "_view_count": null,
       "_view_module": "@jupyter-widgets/base",
       "_view_module_version": "2.0.0",
       "_view_name": "StyleView",
       "background": null,
       "description_width": "",
       "font_size": null,
       "text_color": null
      }
     },
     "39491d09740d48739f9a8f7cb4421845": {
      "model_module": "@jupyter-widgets/controls",
      "model_module_version": "2.0.0",
      "model_name": "HTMLModel",
      "state": {
       "_dom_classes": [],
       "_model_module": "@jupyter-widgets/controls",
       "_model_module_version": "2.0.0",
       "_model_name": "HTMLModel",
       "_view_count": null,
       "_view_module": "@jupyter-widgets/controls",
       "_view_module_version": "2.0.0",
       "_view_name": "HTMLView",
       "description": "",
       "description_allow_html": false,
       "layout": "IPY_MODEL_e578aea0a4534bb68f37818d4ccd9012",
       "placeholder": "​",
       "style": "IPY_MODEL_0c9011647fb14a3587bbead026515960",
       "tabbable": null,
       "tooltip": null,
       "value": "100%"
      }
     },
     "40b898d51ef643f3814723b0f6e91494": {
      "model_module": "@jupyter-widgets/controls",
      "model_module_version": "2.0.0",
      "model_name": "FloatProgressModel",
      "state": {
       "_dom_classes": [],
       "_model_module": "@jupyter-widgets/controls",
       "_model_module_version": "2.0.0",
       "_model_name": "FloatProgressModel",
       "_view_count": null,
       "_view_module": "@jupyter-widgets/controls",
       "_view_module_version": "2.0.0",
       "_view_name": "ProgressView",
       "bar_style": "success",
       "description": "",
       "description_allow_html": false,
       "layout": "IPY_MODEL_5b2461b8fed4429dbbed5e1e95b7e6ab",
       "max": 7.0,
       "min": 0.0,
       "orientation": "horizontal",
       "style": "IPY_MODEL_754d8fb06ef84570bd43fed362e0c0f0",
       "tabbable": null,
       "tooltip": null,
       "value": 7.0
      }
     },
     "53f9c83cb09e40169676757fe7c58d58": {
      "model_module": "@jupyter-widgets/controls",
      "model_module_version": "2.0.0",
      "model_name": "HBoxModel",
      "state": {
       "_dom_classes": [],
       "_model_module": "@jupyter-widgets/controls",
       "_model_module_version": "2.0.0",
       "_model_name": "HBoxModel",
       "_view_count": null,
       "_view_module": "@jupyter-widgets/controls",
       "_view_module_version": "2.0.0",
       "_view_name": "HBoxView",
       "box_style": "",
       "children": [
        "IPY_MODEL_39491d09740d48739f9a8f7cb4421845",
        "IPY_MODEL_40b898d51ef643f3814723b0f6e91494",
        "IPY_MODEL_05d6e89ad25a499f8ed2c47203b14ba4"
       ],
       "layout": "IPY_MODEL_7152090f147440d69b2db7be3c933bbc",
       "tabbable": null,
       "tooltip": null
      }
     },
     "5b2461b8fed4429dbbed5e1e95b7e6ab": {
      "model_module": "@jupyter-widgets/base",
      "model_module_version": "2.0.0",
      "model_name": "LayoutModel",
      "state": {
       "_model_module": "@jupyter-widgets/base",
       "_model_module_version": "2.0.0",
       "_model_name": "LayoutModel",
       "_view_count": null,
       "_view_module": "@jupyter-widgets/base",
       "_view_module_version": "2.0.0",
       "_view_name": "LayoutView",
       "align_content": null,
       "align_items": null,
       "align_self": null,
       "border_bottom": null,
       "border_left": null,
       "border_right": null,
       "border_top": null,
       "bottom": null,
       "display": null,
       "flex": null,
       "flex_flow": null,
       "grid_area": null,
       "grid_auto_columns": null,
       "grid_auto_flow": null,
       "grid_auto_rows": null,
       "grid_column": null,
       "grid_gap": null,
       "grid_row": null,
       "grid_template_areas": null,
       "grid_template_columns": null,
       "grid_template_rows": null,
       "height": null,
       "justify_content": null,
       "justify_items": null,
       "left": null,
       "margin": null,
       "max_height": null,
       "max_width": null,
       "min_height": null,
       "min_width": null,
       "object_fit": null,
       "object_position": null,
       "order": null,
       "overflow": null,
       "padding": null,
       "right": null,
       "top": null,
       "visibility": null,
       "width": null
      }
     },
     "651b027908a64d96b7737261f6e18a45": {
      "model_module": "@jupyter-widgets/base",
      "model_module_version": "2.0.0",
      "model_name": "LayoutModel",
      "state": {
       "_model_module": "@jupyter-widgets/base",
       "_model_module_version": "2.0.0",
       "_model_name": "LayoutModel",
       "_view_count": null,
       "_view_module": "@jupyter-widgets/base",
       "_view_module_version": "2.0.0",
       "_view_name": "LayoutView",
       "align_content": null,
       "align_items": null,
       "align_self": null,
       "border_bottom": null,
       "border_left": null,
       "border_right": null,
       "border_top": null,
       "bottom": null,
       "display": null,
       "flex": null,
       "flex_flow": null,
       "grid_area": null,
       "grid_auto_columns": null,
       "grid_auto_flow": null,
       "grid_auto_rows": null,
       "grid_column": null,
       "grid_gap": null,
       "grid_row": null,
       "grid_template_areas": null,
       "grid_template_columns": null,
       "grid_template_rows": null,
       "height": null,
       "justify_content": null,
       "justify_items": null,
       "left": null,
       "margin": null,
       "max_height": null,
       "max_width": null,
       "min_height": null,
       "min_width": null,
       "object_fit": null,
       "object_position": null,
       "order": null,
       "overflow": null,
       "padding": null,
       "right": null,
       "top": null,
       "visibility": null,
       "width": null
      }
     },
     "7152090f147440d69b2db7be3c933bbc": {
      "model_module": "@jupyter-widgets/base",
      "model_module_version": "2.0.0",
      "model_name": "LayoutModel",
      "state": {
       "_model_module": "@jupyter-widgets/base",
       "_model_module_version": "2.0.0",
       "_model_name": "LayoutModel",
       "_view_count": null,
       "_view_module": "@jupyter-widgets/base",
       "_view_module_version": "2.0.0",
       "_view_name": "LayoutView",
       "align_content": null,
       "align_items": null,
       "align_self": null,
       "border_bottom": null,
       "border_left": null,
       "border_right": null,
       "border_top": null,
       "bottom": null,
       "display": null,
       "flex": null,
       "flex_flow": null,
       "grid_area": null,
       "grid_auto_columns": null,
       "grid_auto_flow": null,
       "grid_auto_rows": null,
       "grid_column": null,
       "grid_gap": null,
       "grid_row": null,
       "grid_template_areas": null,
       "grid_template_columns": null,
       "grid_template_rows": null,
       "height": null,
       "justify_content": null,
       "justify_items": null,
       "left": null,
       "margin": null,
       "max_height": null,
       "max_width": null,
       "min_height": null,
       "min_width": null,
       "object_fit": null,
       "object_position": null,
       "order": null,
       "overflow": null,
       "padding": null,
       "right": null,
       "top": null,
       "visibility": null,
       "width": null
      }
     },
     "754d8fb06ef84570bd43fed362e0c0f0": {
      "model_module": "@jupyter-widgets/controls",
      "model_module_version": "2.0.0",
      "model_name": "ProgressStyleModel",
      "state": {
       "_model_module": "@jupyter-widgets/controls",
       "_model_module_version": "2.0.0",
       "_model_name": "ProgressStyleModel",
       "_view_count": null,
       "_view_module": "@jupyter-widgets/base",
       "_view_module_version": "2.0.0",
       "_view_name": "StyleView",
       "bar_color": null,
       "description_width": ""
      }
     },
     "c105ffa1df794c30a0744aed0c30b598": {
      "model_module": "@jupyter-widgets/controls",
      "model_module_version": "2.0.0",
      "model_name": "HTMLStyleModel",
      "state": {
       "_model_module": "@jupyter-widgets/controls",
       "_model_module_version": "2.0.0",
       "_model_name": "HTMLStyleModel",
       "_view_count": null,
       "_view_module": "@jupyter-widgets/base",
       "_view_module_version": "2.0.0",
       "_view_name": "StyleView",
       "background": null,
       "description_width": "",
       "font_size": null,
       "text_color": null
      }
     },
     "e578aea0a4534bb68f37818d4ccd9012": {
      "model_module": "@jupyter-widgets/base",
      "model_module_version": "2.0.0",
      "model_name": "LayoutModel",
      "state": {
       "_model_module": "@jupyter-widgets/base",
       "_model_module_version": "2.0.0",
       "_model_name": "LayoutModel",
       "_view_count": null,
       "_view_module": "@jupyter-widgets/base",
       "_view_module_version": "2.0.0",
       "_view_name": "LayoutView",
       "align_content": null,
       "align_items": null,
       "align_self": null,
       "border_bottom": null,
       "border_left": null,
       "border_right": null,
       "border_top": null,
       "bottom": null,
       "display": null,
       "flex": null,
       "flex_flow": null,
       "grid_area": null,
       "grid_auto_columns": null,
       "grid_auto_flow": null,
       "grid_auto_rows": null,
       "grid_column": null,
       "grid_gap": null,
       "grid_row": null,
       "grid_template_areas": null,
       "grid_template_columns": null,
       "grid_template_rows": null,
       "height": null,
       "justify_content": null,
       "justify_items": null,
       "left": null,
       "margin": null,
       "max_height": null,
       "max_width": null,
       "min_height": null,
       "min_width": null,
       "object_fit": null,
       "object_position": null,
       "order": null,
       "overflow": null,
       "padding": null,
       "right": null,
       "top": null,
       "visibility": null,
       "width": null
      }
     }
    },
    "version_major": 2,
    "version_minor": 0
   }
  }
 },
 "nbformat": 4,
 "nbformat_minor": 5
}