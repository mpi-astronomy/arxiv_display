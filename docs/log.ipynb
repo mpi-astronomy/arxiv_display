{
 "cells": [
  {
   "cell_type": "markdown",
   "id": "92bcb855",
   "metadata": {
    "papermill": {
     "duration": 0.00383,
     "end_time": "2025-03-25T04:11:51.060990",
     "exception": false,
     "start_time": "2025-03-25T04:11:51.057160",
     "status": "completed"
    },
    "tags": []
   },
   "source": [
    "# MPIA Arxiv on Deck 2\n",
    "\n",
    "Contains the steps to produce the paper extractions."
   ]
  },
  {
   "cell_type": "code",
   "execution_count": 1,
   "id": "3a0d6e11",
   "metadata": {
    "execution": {
     "iopub.execute_input": "2025-03-25T04:11:51.068494Z",
     "iopub.status.busy": "2025-03-25T04:11:51.068191Z",
     "iopub.status.idle": "2025-03-25T04:11:51.652658Z",
     "shell.execute_reply": "2025-03-25T04:11:51.651801Z"
    },
    "papermill": {
     "duration": 0.59049,
     "end_time": "2025-03-25T04:11:51.654693",
     "exception": false,
     "start_time": "2025-03-25T04:11:51.064203",
     "status": "completed"
    },
    "tags": []
   },
   "outputs": [],
   "source": [
    "# Imports\n",
    "import os\n",
    "from IPython.display import Markdown, display\n",
    "from tqdm.notebook import tqdm\n",
    "import warnings\n",
    "from PIL import Image \n",
    "import re\n",
    "\n",
    "# requires arxiv_on_deck_2\n",
    "\n",
    "from arxiv_on_deck_2.arxiv2 import (get_new_papers, \n",
    "                                    get_paper_from_identifier,\n",
    "                                    retrieve_document_source, \n",
    "                                    get_markdown_badge)\n",
    "from arxiv_on_deck_2 import (latex,\n",
    "                             latex_bib,\n",
    "                             mpia,\n",
    "                             highlight_authors_in_list)\n",
    "\n",
    "# Sometimes images are really big\n",
    "Image.MAX_IMAGE_PIXELS = 1000000000 "
   ]
  },
  {
   "cell_type": "code",
   "execution_count": 2,
   "id": "22aa9d44",
   "metadata": {
    "execution": {
     "iopub.execute_input": "2025-03-25T04:11:51.662958Z",
     "iopub.status.busy": "2025-03-25T04:11:51.662357Z",
     "iopub.status.idle": "2025-03-25T04:11:51.670928Z",
     "shell.execute_reply": "2025-03-25T04:11:51.670385Z"
    },
    "papermill": {
     "duration": 0.013627,
     "end_time": "2025-03-25T04:11:51.672040",
     "exception": false,
     "start_time": "2025-03-25T04:11:51.658413",
     "status": "completed"
    },
    "tags": []
   },
   "outputs": [],
   "source": [
    "# Some useful definitions.\n",
    "\n",
    "class AffiliationWarning(UserWarning):\n",
    "    pass\n",
    "\n",
    "class AffiliationError(RuntimeError):\n",
    "    pass\n",
    "\n",
    "def validation(source: str):\n",
    "    \"\"\"Raises error paper during parsing of source file\n",
    "    \n",
    "    Allows checks before parsing TeX code.\n",
    "    \n",
    "    Raises AffiliationWarning\n",
    "    \"\"\"\n",
    "    check = mpia.affiliation_verifications(source, verbose=True)\n",
    "    if check is not True:\n",
    "        raise AffiliationError(\"mpia.affiliation_verifications: \" + check)\n",
    "\n",
    "        \n",
    "warnings.simplefilter('always', AffiliationWarning)\n",
    "\n",
    "\n",
    "def get_markdown_qrcode(paper_id: str):\n",
    "    \"\"\" Generate a qrcode to the arxiv page using qrserver.com\n",
    "    \n",
    "    :param paper: Arxiv paper\n",
    "    :returns: markdown text\n",
    "    \"\"\"\n",
    "    url = r\"https://api.qrserver.com/v1/create-qr-code/?size=100x100&data=\"\n",
    "    txt = f\"\"\"<img src={url}\"https://arxiv.org/abs/{paper_id}\">\"\"\"\n",
    "    txt = '<div id=\"qrcode\">' + txt + '</div>'\n",
    "    return txt\n",
    "\n",
    "\n",
    "def clean_non_western_encoded_characters_commands(text: str) -> str:\n",
    "    \"\"\" Remove non-western encoded characters from a string\n",
    "    List may need to grow.\n",
    "    \n",
    "    :param text: the text to clean\n",
    "    :return: the cleaned text\n",
    "    \"\"\"\n",
    "    text = re.sub(r\"(\\\\begin{CJK}{UTF8}{gbsn})(.*?)(\\\\end{CJK})\", r\"\\2\", text)\n",
    "    return text\n",
    "\n",
    "\n",
    "def get_initials(name: str) -> str:\n",
    "    \"\"\" Get the short name, e.g., A.-B. FamName\n",
    "    :param name: full name\n",
    "    :returns: initials\n",
    "    \"\"\"\n",
    "    initials = []\n",
    "    # account for non western names often in ()\n",
    "    if '(' in name:\n",
    "        name = clean_non_western_encoded_characters_commands(name)\n",
    "        suffix = re.findall(r\"\\((.*?)\\)\", name)[0]\n",
    "        name = name.replace(f\"({suffix})\", '')\n",
    "    else:\n",
    "        suffix = ''\n",
    "    split = name.split()\n",
    "    for token in split[:-1]:\n",
    "        if '-' in token:\n",
    "            current = '-'.join([k[0] + '.' for k in token.split('-')])\n",
    "        else:\n",
    "            current = token[0] + '.'\n",
    "        initials.append(current)\n",
    "    initials.append(split[-1].strip())\n",
    "    if suffix:\n",
    "        initials.append(f\"({suffix})\")\n",
    "    return ' '.join(initials)"
   ]
  },
  {
   "cell_type": "markdown",
   "id": "14bd6310",
   "metadata": {
    "papermill": {
     "duration": 0.0029,
     "end_time": "2025-03-25T04:11:51.677888",
     "exception": false,
     "start_time": "2025-03-25T04:11:51.674988",
     "status": "completed"
    },
    "tags": []
   },
   "source": [
    "## get list of arxiv paper candidates\n",
    "\n",
    "We use the MPIA mitarbeiter list webpage from mpia.de to get author names\n",
    "We then get all new papers from Arxiv and match authors"
   ]
  },
  {
   "cell_type": "code",
   "execution_count": 3,
   "id": "7ea813a8",
   "metadata": {
    "execution": {
     "iopub.execute_input": "2025-03-25T04:11:51.684575Z",
     "iopub.status.busy": "2025-03-25T04:11:51.684358Z",
     "iopub.status.idle": "2025-03-25T04:12:09.264668Z",
     "shell.execute_reply": "2025-03-25T04:12:09.264045Z"
    },
    "papermill": {
     "duration": 17.585294,
     "end_time": "2025-03-25T04:12:09.266098",
     "exception": false,
     "start_time": "2025-03-25T04:11:51.680804",
     "status": "completed"
    },
    "tags": []
   },
   "outputs": [],
   "source": [
    "# deal with the author list and edge cases of people that cannot be consistent on their name  \n",
    "\n",
    "def filter_non_scientists(name: str) -> bool:\n",
    "    \"\"\" Loose filter on expected authorships\n",
    "\n",
    "    removing IT, administration, technical staff\n",
    "    :param name: name\n",
    "    :returns: False if name is not a scientist\n",
    "    \"\"\"\n",
    "    remove_list = ['Licht', 'Binroth', 'Witzel', 'Jordan',\n",
    "                   'Zähringer', 'Scheerer', 'Hoffmann', 'Düe',\n",
    "                   'Hellmich', 'Enkler-Scharpegge', 'Witte-Nguy',\n",
    "                   'Dehen', 'Beckmann', 'Jager', 'Jäger'\n",
    "                  ]\n",
    "\n",
    "    for k in remove_list:\n",
    "        if k in name:\n",
    "            return False\n",
    "    return True\n",
    "\n",
    "def add_author_to_list(author_list: list) -> list:\n",
    "    \"\"\" Add author to list if not already in list\n",
    "    \n",
    "    :param author: author name\n",
    "    :param author_list: list of authors\n",
    "    :returns: updated list of authors\n",
    "    \"\"\"\n",
    "    add_list = ['T. Henning']\n",
    "\n",
    "    for author in add_list:\n",
    "        if author not in author_list:\n",
    "            author_list.append(author)\n",
    "    return author_list\n",
    "\n",
    "# get list from MPIA website\n",
    "# filter for non-scientists (mpia.get_mpia_mitarbeiter_list() does some filtering)\n",
    "mpia_authors = [k[1] for k in mpia.get_mpia_mitarbeiter_list() if filter_non_scientists(k[1])]\n",
    "# add some missing author because of inconsistencies in their MPIA name and author name on papers\n",
    "mpia_authors = add_author_to_list(mpia_authors)"
   ]
  },
  {
   "cell_type": "code",
   "execution_count": 4,
   "id": "2645e73a",
   "metadata": {
    "execution": {
     "iopub.execute_input": "2025-03-25T04:12:09.273821Z",
     "iopub.status.busy": "2025-03-25T04:12:09.273338Z",
     "iopub.status.idle": "2025-03-25T04:12:10.182469Z",
     "shell.execute_reply": "2025-03-25T04:12:10.181792Z"
    },
    "papermill": {
     "duration": 0.914002,
     "end_time": "2025-03-25T04:12:10.183482",
     "exception": false,
     "start_time": "2025-03-25T04:12:09.269480",
     "status": "completed"
    },
    "tags": []
   },
   "outputs": [
    {
     "name": "stdout",
     "output_type": "stream",
     "text": [
      "E. Schinnerer  ->  E. Schinnerer  |  ['E. Schinnerer']\n",
      "K. Jahnke  ->  K. Jahnke  |  ['K. Jahnke']\n",
      "J. Li  ->  J. Li  |  ['J. Li']\n",
      "E. Schinnerer  ->  E. Schinnerer  |  ['E. Schinnerer']\n",
      "J. Liu  ->  J. Liu  |  ['J. Liu']\n"
     ]
    },
    {
     "name": "stdout",
     "output_type": "stream",
     "text": [
      "K. Kreckel  ->  K. Kreckel  |  ['K. Kreckel']\n",
      "E. Schinnerer  ->  E. Schinnerer  |  ['E. Schinnerer']\n",
      "Arxiv has 79 new papers today\n",
      "          6 with possible author matches\n"
     ]
    }
   ],
   "source": [
    "new_papers = get_new_papers()\n",
    "# add manual references\n",
    "add_paper_refs = []\n",
    "new_papers.extend([get_paper_from_identifier(k) for k in add_paper_refs])\n",
    "\n",
    "def robust_call(fn, value, *args, **kwargs):\n",
    "    try:\n",
    "        return fn(value, *args, **kwargs)\n",
    "    except Exception:\n",
    "        return value\n",
    "\n",
    "candidates = []\n",
    "for paperk in new_papers:\n",
    "    # Check author list with their initials\n",
    "    normed_author_list = [robust_call(mpia.get_initials, k) for k in paperk['authors']]\n",
    "    hl_authors = highlight_authors_in_list(normed_author_list, mpia_authors, verbose=True)\n",
    "    matches = [(hl, orig) for hl, orig in zip(hl_authors, paperk['authors']) if 'mark' in hl]\n",
    "    paperk['authors'] = hl_authors\n",
    "    if matches:\n",
    "        # only select paper if an author matched our list\n",
    "        candidates.append(paperk)\n",
    "print(\"\"\"Arxiv has {0:,d} new papers today\"\"\".format(len(new_papers)))        \n",
    "print(\"\"\"          {0:,d} with possible author matches\"\"\".format(len(candidates)))"
   ]
  },
  {
   "cell_type": "markdown",
   "id": "3543b34a",
   "metadata": {
    "papermill": {
     "duration": 0.00311,
     "end_time": "2025-03-25T04:12:10.190153",
     "exception": false,
     "start_time": "2025-03-25T04:12:10.187043",
     "status": "completed"
    },
    "tags": []
   },
   "source": [
    "# Parse sources and generate relevant outputs\n",
    "\n",
    "From the candidates, we do the following steps:\n",
    "* get their tarball from ArXiv (and extract data)\n",
    "* find the main .tex file: find one with \\documentclass{...} (sometimes it's non trivial)\n",
    "* Check affiliations with :func:`validation`, which uses :func:`mpia.affiliation_verifications`\n",
    "* If passing the affiliations: we parse the .tex source\n",
    "   * inject sub-documents into the main (flatten the main document)\n",
    "   * parse structure, extract information (title, abstract, authors, figures...)\n",
    "   * handles `\\graphicspath` if provided\n",
    "* Generate the .md document."
   ]
  },
  {
   "cell_type": "code",
   "execution_count": 5,
   "id": "9576b79e",
   "metadata": {
    "execution": {
     "iopub.execute_input": "2025-03-25T04:12:10.198034Z",
     "iopub.status.busy": "2025-03-25T04:12:10.197426Z",
     "iopub.status.idle": "2025-03-25T04:19:31.075744Z",
     "shell.execute_reply": "2025-03-25T04:19:31.074865Z"
    },
    "papermill": {
     "duration": 440.887815,
     "end_time": "2025-03-25T04:19:31.081125",
     "exception": false,
     "start_time": "2025-03-25T04:12:10.193310",
     "status": "completed"
    },
    "scrolled": false,
    "tags": []
   },
   "outputs": [
    {
     "data": {
      "application/vnd.jupyter.widget-view+json": {
       "model_id": "32fe063100604d95a0ce1b455c2390d9",
       "version_major": 2,
       "version_minor": 0
      },
      "text/plain": [
       "  0%|          | 0/6 [00:00<?, ?it/s]"
      ]
     },
     "metadata": {},
     "output_type": "display_data"
    },
    {
     "name": "stdout",
     "output_type": "stream",
     "text": [
      "Retrieving document from  https://arxiv.org/e-print/2503.17440\n"
     ]
    },
    {
     "name": "stdout",
     "output_type": "stream",
     "text": [
      "extracting tarball to tmp_2503.17440..."
     ]
    },
    {
     "name": "stdout",
     "output_type": "stream",
     "text": [
      " done.\n"
     ]
    },
    {
     "name": "stdout",
     "output_type": "stream",
     "text": [
      "Found 84 bibliographic references in tmp_2503.17440/paper.bbl.\n",
      "Retrieving document from  https://arxiv.org/e-print/2503.17455\n"
     ]
    },
    {
     "name": "stdout",
     "output_type": "stream",
     "text": [
      "extracting tarball to tmp_2503.17455..."
     ]
    },
    {
     "name": "stdout",
     "output_type": "stream",
     "text": [
      " done.\n"
     ]
    },
    {
     "name": "stdout",
     "output_type": "stream",
     "text": [
      "Found 106 bibliographic references in tmp_2503.17455/AandA.bbl.\n",
      "Retrieving document from  https://arxiv.org/e-print/2503.17732\n"
     ]
    },
    {
     "name": "stdout",
     "output_type": "stream",
     "text": [
      "extracting tarball to tmp_2503.17732..."
     ]
    },
    {
     "name": "stdout",
     "output_type": "stream",
     "text": [
      " done.\n",
      "Retrieving document from  https://arxiv.org/e-print/2503.17921\n"
     ]
    },
    {
     "name": "stdout",
     "output_type": "stream",
     "text": [
      "extracting tarball to tmp_2503.17921..."
     ]
    },
    {
     "name": "stdout",
     "output_type": "stream",
     "text": [
      " done.\n"
     ]
    },
    {
     "name": "stdout",
     "output_type": "stream",
     "text": [
      "Found 96 bibliographic references in tmp_2503.17921/main_mar_17_2025.bbl.\n",
      "Retrieving document from  https://arxiv.org/e-print/2503.18145\n"
     ]
    },
    {
     "name": "stdout",
     "output_type": "stream",
     "text": [
      "extracting tarball to tmp_2503.18145..."
     ]
    },
    {
     "name": "stdout",
     "output_type": "stream",
     "text": [
      " done.\n",
      "Retrieving document from  https://arxiv.org/e-print/2503.18791\n"
     ]
    },
    {
     "name": "stdout",
     "output_type": "stream",
     "text": [
      "extracting tarball to tmp_2503.18791..."
     ]
    },
    {
     "name": "stdout",
     "output_type": "stream",
     "text": [
      " done.\n"
     ]
    },
    {
     "name": "stderr",
     "output_type": "stream",
     "text": [
      "/opt/hostedtoolcache/Python/3.9.21/x64/lib/python3.9/site-packages/IPython/core/interactiveshell.py:3550: LatexWarning: Multiple tex files.\n",
      "\n",
      "  exec(code_obj, self.user_global_ns, self.user_ns)\n",
      "/opt/hostedtoolcache/Python/3.9.21/x64/lib/python3.9/site-packages/IPython/core/interactiveshell.py:3550: LatexWarning: Found documentclass in tmp_2503.18791/main.tex\n",
      "\n",
      "  exec(code_obj, self.user_global_ns, self.user_ns)\n",
      "/opt/hostedtoolcache/Python/3.9.21/x64/lib/python3.9/site-packages/arxiv_on_deck_2/latex.py:414: LatexWarning: Latex injecting: 'Tables/galaxyfits_fixed' from 'tmp_2503.18791/Tables/galaxyfits_fixed.tex'\n",
      "  warnings.warn(LatexWarning(f\"Latex injecting: '{ext}' from '{subsource}'\"))\n",
      "/opt/hostedtoolcache/Python/3.9.21/x64/lib/python3.9/site-packages/arxiv_on_deck_2/latex.py:414: LatexWarning: Latex injecting: 'Tables/galaxysample.tab' from 'tmp_2503.18791/Tables/galaxysample.tex'\n",
      "  warnings.warn(LatexWarning(f\"Latex injecting: '{ext}' from '{subsource}'\"))\n",
      "/opt/hostedtoolcache/Python/3.9.21/x64/lib/python3.9/site-packages/arxiv_on_deck_2/latex.py:414: LatexWarning: Latex injecting: 'Tables/galaxynoise' from 'tmp_2503.18791/Tables/galaxynoise.tex'\n",
      "  warnings.warn(LatexWarning(f\"Latex injecting: '{ext}' from '{subsource}'\"))\n",
      "/opt/hostedtoolcache/Python/3.9.21/x64/lib/python3.9/site-packages/arxiv_on_deck_2/latex.py:414: LatexWarning: Latex injecting: 'Tables/galaxyfits' from 'tmp_2503.18791/Tables/galaxyfits.tex'\n",
      "  warnings.warn(LatexWarning(f\"Latex injecting: '{ext}' from '{subsource}'\"))\n",
      "/opt/hostedtoolcache/Python/3.9.21/x64/lib/python3.9/site-packages/arxiv_on_deck_2/latex.py:414: LatexWarning: Latex injecting: 'Tables/galaxyhduprops.tex' from 'tmp_2503.18791/Tables/galaxyhduprops.tex'\n",
      "  warnings.warn(LatexWarning(f\"Latex injecting: '{ext}' from '{subsource}'\"))\n",
      "/opt/hostedtoolcache/Python/3.9.21/x64/lib/python3.9/site-packages/arxiv_on_deck_2/latex.py:414: LatexWarning: Latex injecting: 'Tables/galaxysample' from 'tmp_2503.18791/Tables/galaxysample.tex'\n",
      "  warnings.warn(LatexWarning(f\"Latex injecting: '{ext}' from '{subsource}'\"))\n",
      "/opt/hostedtoolcache/Python/3.9.21/x64/lib/python3.9/site-packages/arxiv_on_deck_2/latex.py:414: LatexWarning: Latex injecting: 'Tables/galaxyprops' from 'tmp_2503.18791/Tables/galaxyprops.tex'\n",
      "  warnings.warn(LatexWarning(f\"Latex injecting: '{ext}' from '{subsource}'\"))\n",
      "/opt/hostedtoolcache/Python/3.9.21/x64/lib/python3.9/site-packages/arxiv_on_deck_2/latex.py:414: LatexWarning: Latex injecting: 'authors' from 'tmp_2503.18791/authors.tex'\n",
      "  warnings.warn(LatexWarning(f\"Latex injecting: '{ext}' from '{subsource}'\"))\n",
      "/opt/hostedtoolcache/Python/3.9.21/x64/lib/python3.9/site-packages/arxiv_on_deck_2/latex.py:414: LatexWarning: Latex injecting: 'affil' from 'tmp_2503.18791/affil.tex'\n",
      "  warnings.warn(LatexWarning(f\"Latex injecting: '{ext}' from '{subsource}'\"))\n",
      "/opt/hostedtoolcache/Python/3.9.21/x64/lib/python3.9/site-packages/arxiv_on_deck_2/latex.py:414: LatexWarning: Latex injecting: 'commands' from 'tmp_2503.18791/commands.tex'\n",
      "  warnings.warn(LatexWarning(f\"Latex injecting: '{ext}' from '{subsource}'\"))\n"
     ]
    },
    {
     "name": "stdout",
     "output_type": "stream",
     "text": [
      "Found 56 bibliographic references in tmp_2503.18791/main.bbl.\n"
     ]
    }
   ],
   "source": [
    "documents = []\n",
    "failed = []\n",
    "for paper in tqdm(candidates):\n",
    "    # debug crap\n",
    "    paper['identifier'] = paper['identifier'].lower().replace('arxiv:', '').replace(r'\\n', '').strip()\n",
    "    paper_id = paper['identifier']\n",
    "    \n",
    "    folder = f'tmp_{paper_id}'\n",
    "\n",
    "    try:\n",
    "        if not os.path.isdir(folder):\n",
    "            folder = retrieve_document_source(f\"{paper_id}\", f'tmp_{paper_id}')\n",
    "        \n",
    "        try:\n",
    "            doc = latex.LatexDocument(folder, validation=validation)    \n",
    "        except AffiliationError as affilerror:\n",
    "            msg = f\"ArXiv:{paper_id:s} is not an MPIA paper... \" + str(affilerror)\n",
    "            failed.append((paper, \"affiliation error: \" + str(affilerror) ))\n",
    "            continue\n",
    "        \n",
    "        # Hack because sometimes author parsing does not work well\n",
    "        if (len(doc.authors) != len(paper['authors'])):\n",
    "            doc._authors = paper['authors']\n",
    "        else:\n",
    "            # highlight authors (FIXME: doc.highlight_authors)\n",
    "            # done on arxiv paper already\n",
    "            doc._authors = highlight_authors_in_list(\n",
    "                [get_initials(k) for k in doc.authors], \n",
    "                mpia_authors, verbose=True)\n",
    "        if (doc.abstract) in (None, ''):\n",
    "            doc._abstract = paper['abstract']\n",
    "            \n",
    "        doc.comment = (get_markdown_badge(paper_id) + \n",
    "                       \"<mark>Appeared on: \" + paper['date'] + \"</mark> - \")\n",
    "        if paper['comments']:\n",
    "            doc.comment += \" _\" + paper['comments'] + \"_\"\n",
    "        \n",
    "        full_md = doc.generate_markdown_text()\n",
    "        \n",
    "        full_md += get_markdown_qrcode(paper_id)\n",
    "        \n",
    "        # replace citations\n",
    "        try:\n",
    "            bibdata = latex_bib.LatexBib.from_doc(doc)\n",
    "            full_md = latex_bib.replace_citations(full_md, bibdata)\n",
    "        except Exception as e:\n",
    "            print(\"Issues with the citations\")\n",
    "            print(e)\n",
    "        \n",
    "        documents.append((paper_id, full_md))\n",
    "    except Exception as e:\n",
    "        warnings.warn(latex.LatexWarning(f\"{paper_id:s} did not run properly\\n\" +\n",
    "                                         str(e)\n",
    "                                        ))\n",
    "        failed.append((paper, \"latex error \" + str(e)))"
   ]
  },
  {
   "cell_type": "markdown",
   "id": "2505a25c",
   "metadata": {
    "papermill": {
     "duration": 0.004137,
     "end_time": "2025-03-25T04:19:31.089594",
     "exception": false,
     "start_time": "2025-03-25T04:19:31.085457",
     "status": "completed"
    },
    "tags": []
   },
   "source": [
    "### Export the logs\n",
    "\n",
    "Throughout, we also keep track of the logs per paper. see `logs-{today date}.md` "
   ]
  },
  {
   "cell_type": "code",
   "execution_count": 6,
   "id": "d733828a",
   "metadata": {
    "execution": {
     "iopub.execute_input": "2025-03-25T04:19:31.099106Z",
     "iopub.status.busy": "2025-03-25T04:19:31.098827Z",
     "iopub.status.idle": "2025-03-25T04:19:31.117477Z",
     "shell.execute_reply": "2025-03-25T04:19:31.116830Z"
    },
    "papermill": {
     "duration": 0.02466,
     "end_time": "2025-03-25T04:19:31.118435",
     "exception": false,
     "start_time": "2025-03-25T04:19:31.093775",
     "status": "completed"
    },
    "scrolled": false,
    "tags": []
   },
   "outputs": [
    {
     "data": {
      "text/markdown": [
       "## Successful papers"
      ],
      "text/plain": [
       "<IPython.core.display.Markdown object>"
      ]
     },
     "metadata": {},
     "output_type": "display_data"
    },
    {
     "data": {
      "text/markdown": [
       "\n",
       "|||\n",
       "|---:|:---|\n",
       "| [![arXiv](https://img.shields.io/badge/arXiv-2503.17440-b31b1b.svg)](https://arxiv.org/abs/2503.17440) | **The resolved star-formation efficiency of early-type galaxies**  |\n",
       "|| T. G. Williams, et al. -- incl., <mark>E. Schinnerer</mark> |\n",
       "|*Appeared on*| *2025-03-25*|\n",
       "|*Comments*| *13 pages, 42 Figures (27 in Appendices). Accepted for publication in MNRAS*|\n",
       "|**Abstract**|            Understanding how and why star formation varies between galaxies is fundamental to our comprehension of galaxy evolution. In particular, the star-formation efficiency (SFE; star-formation rate or SFR per unit cold gas mass) has been shown to vary substantially both across and within galaxies. Early-type galaxies (ETGs) constitute an extreme case, as about a quarter have detectable molecular gas reservoirs but little to no detectable star formation. In this work, we present a spatially-resolved view of the SFE in ten ETGs, combining state-of-the-art Atacama Large Millimeter/submillimeter Array (ALMA) and Multi Unit Spectroscopic Explorer (MUSE) observations. Optical spectroscopic line diagnostics are used to identify the ionized emission regions dominated by star-formation, and reject regions where the ionization arises primarily from other sources. We identify very few regions where the ionization is consistent with pure star formation. Using ${\\rm H}\\alpha$ as our SFR tracer, we find that previous integrated measurements of the star-formation rate based on UV and 22$\\mu$m emission are systematically higher than the SFR measured from ${\\rm H}\\alpha$. However, for the small number of regions where ionization is primarily associated with star formation, the SFEs are around 0.4 dex higher than those measured in star-forming galaxies at a similar spatial resolution (with depletion times ranging from $10^8$ to $10^{10}$ yr). Whilst the SFE of ETGs is overall low, we find that the SFEs of individual regions within ETGs can be similar to, or higher than, similar sized regions within star-forming galaxies.         |"
      ],
      "text/plain": [
       "[2503.17440] The resolved star-formation efficiency of early-type galaxies\n",
       "\tT. G. Williams, et al. -- incl., <mark>E. Schinnerer</mark>"
      ]
     },
     "metadata": {},
     "output_type": "display_data"
    },
    {
     "data": {
      "text/markdown": [
       "\n",
       "|||\n",
       "|---:|:---|\n",
       "| [![arXiv](https://img.shields.io/badge/arXiv-2503.17455-b31b1b.svg)](https://arxiv.org/abs/2503.17455) | **Euclid preparation LXX. Forecasting detection limits for intracluster light in the Euclid Wide Survey**  |\n",
       "|| E. Collaboration, et al. -- incl., <mark>K. Jahnke</mark> |\n",
       "|*Appeared on*| *2025-03-25*|\n",
       "|*Comments*| *21 pages, 13 figures, 2 tables. Accepted for publication in A&A*|\n",
       "|**Abstract**|            The intracluster light (ICL) permeating galaxy clusters is a tracer of the cluster's assembly history, and potentially a tracer of their dark matter structure. In this work we explore the capability of the Euclid Wide Survey to detect ICL using H-band mock images. We simulate clusters across a range of redshifts (0.3-1.8) and halo masses ($10^{13.9}$-$10^{15.0}$ M$_\\odot$), using an observationally motivated model of the ICL. We identify a 50-200 kpc circular annulus around the brightest cluster galaxy (BCG) in which the signal-to-noise ratio (S/N) of the ICL is maximised and use the S/N within this aperture as our figure of merit for ICL detection. We compare three state-of-the-art methods for ICL detection, and find that a method that performs simple aperture photometry after high-surface brightness source masking is able to detect ICL with minimal bias for clusters more massive than $10^{14.2}$ M$_\\odot$. The S/N of the ICL detection is primarily limited by the redshift of the cluster, driven by cosmological dimming, rather than the mass of the cluster. Assuming the ICL in each cluster contains 15% of the stellar light, we forecast that Euclid will be able to measure the presence of ICL in up to $\\sim80000$ clusters of $>10^{14.2}$ M$_\\odot$ between $z=0.3$ and 1.5 with a S/N$>3$. Half of these clusters will reside below $z=0.75$ and the majority of those below $z=0.6$ will be detected with a S/N $>20$. A few thousand clusters at $1.3<z<1.5$ will have ICL detectable with a S/N greater than 3. The surface brightness profile of the ICL model is strongly dependent on both the mass of the cluster and the redshift at which it is observed so the outer ICL is best observed in the most massive clusters of $>10^{14.7}$ M$_\\odot$. Euclid will detect the ICL at more than 500 kpc distance from the BCG, up to $z=0.7$, in several hundred of these massive clusters over its large survey volume.         |"
      ],
      "text/plain": [
       "[2503.17455] Euclid preparation LXX. Forecasting detection limits for intracluster light in the Euclid Wide Survey\n",
       "\tE. Collaboration, et al. -- incl., <mark>K. Jahnke</mark>"
      ]
     },
     "metadata": {},
     "output_type": "display_data"
    },
    {
     "data": {
      "text/markdown": [
       "\n",
       "|||\n",
       "|---:|:---|\n",
       "| [![arXiv](https://img.shields.io/badge/arXiv-2503.17921-b31b1b.svg)](https://arxiv.org/abs/2503.17921) | **Empirical SED Templates for Star Clusters Observed with HST and JWST: No Strong PAH or IR Dust Emission after Five Myr**  |\n",
       "|| B. C. Whitmore, et al. -- incl., <mark>E. Schinnerer</mark> |\n",
       "|*Appeared on*| *2025-03-25*|\n",
       "|*Comments*| *35 pages, 15 figures, 7 tables*|\n",
       "|**Abstract**|            JWST observations, when combined with HST data, promise to improve age estimates of star clusters in nearby spiral galaxies. However, feedback from young cluster stars pushes out the natal gas and dust, making cluster formation and evolution a challenge to model. Here, we use JWST + HST observations of the nearby spiral galaxy NGC 628 to produce spectral energy distribution (SED) templates of compact star clusters spanning 275 nm through 21 {\\mu}m. These preliminary SEDs capture the cluster stars and associated gas and dust within radii of 0.12\" to 0.67\" (corresponding to 6 to 33 pc at the distance of NGC 628). One important finding is that the SEDs of 1, 2, 3, and 4 Myr clusters can be differentiated in the infrared. Another is that in 80-90% of the cases we study, the PAH and H_alpha emission track one another, with the dust responsible for the 3.3 {\\mu}m PAH emission largely removed by 4 Myr, consistent with pre-supernova stellar feedback acting quickly on the surrounding gas and dust. Nearly-embedded cluster candidates have infrared SEDs which are quite similar to optically visible 1 to 3 Myr clusters. In nearly all cases we find there is a young star cluster within a few tenths of an arcsec (10 - 30 pc) of the nearly embedded cluster, suggesting the formation of the cluster was triggered by its presence. The resulting age estimates from the empirical templates are compatible both with dynamical estimates based on CO superbubble expansion velocities, and the TODDLERS models which track spherical evolution of homogeneous gas clouds around young stellar clusters.         |"
      ],
      "text/plain": [
       "[2503.17921] Empirical SED Templates for Star Clusters Observed with HST and JWST: No Strong PAH or IR Dust Emission after Five Myr\n",
       "\tB. C. Whitmore, et al. -- incl., <mark>E. Schinnerer</mark>"
      ]
     },
     "metadata": {},
     "output_type": "display_data"
    },
    {
     "data": {
      "text/markdown": [
       "\n",
       "|||\n",
       "|---:|:---|\n",
       "| [![arXiv](https://img.shields.io/badge/arXiv-2503.18791-b31b1b.svg)](https://arxiv.org/abs/2503.18791) | **The PHANGS-HST-Halpha Survey: Warm Ionized Gas Physics at High Angular resolution in Nearby GalaxieS with the Hubble Space Telescope**  |\n",
       "|| R. Chandar, et al. -- incl., <mark>K. Kreckel</mark>, <mark>E. Schinnerer</mark> |\n",
       "|*Appeared on*| *2025-03-25*|\n",
       "|*Comments*| *published in the Astronomical Journal*|\n",
       "|**Abstract**|            The PHANGS project is assembling a comprehensive, multi-wavelength dataset of nearby (~5-20 Mpc), massive star-forming galaxies to enable multi-phase, multi-scale investigations into the processes that drive star formation and galaxy evolution. To date, large survey programs have provided molecular gas (CO) cubes with ALMA, optical IFU spectroscopy with VLT/MUSE, high-resolution NUV--optical imaging in five broad-band filters with HST, and infrared imaging in NIRCAM+MIRI filters with JWST. Here, we present PHANGS-HST-Halpha, which has obtained high-resolution (~2-10 pc), narrow-band imaging in the F658N or F657N filters with the HST/WFC3 camera of the warm ionized gas in the first 19 nearby galaxies observed in common by all four of the PHANGS large programs. We summarize our data reduction process, with a detailed discussion of the production of flux-calibrated, Milky Way extinction corrected, continuum-subtracted Halpha maps. PHANGS-MUSE IFU spectroscopy data are used to background subtract the HST-Halpha maps, and to determine the [NII] correction factors for each galaxy. We describe our public data products and highlight a few key science cases enabled by the PHANGS-HST-Halpha observations.         |"
      ],
      "text/plain": [
       "[2503.18791] The PHANGS-HST-Halpha Survey: Warm Ionized Gas Physics at High Angular resolution in Nearby GalaxieS with the Hubble Space Telescope\n",
       "\tR. Chandar, et al. -- incl., <mark>K. Kreckel</mark>, <mark>E. Schinnerer</mark>"
      ]
     },
     "metadata": {},
     "output_type": "display_data"
    },
    {
     "data": {
      "text/markdown": [
       "## Failed papers"
      ],
      "text/plain": [
       "<IPython.core.display.Markdown object>"
      ]
     },
     "metadata": {},
     "output_type": "display_data"
    },
    {
     "data": {
      "text/markdown": [
       "\n",
       "|||\n",
       "|---:|:---|\n",
       "| [![arXiv](https://img.shields.io/badge/arXiv-2503.17732-b31b1b.svg)](https://arxiv.org/abs/2503.17732) | **Probing the He II reionization ERa via Absorbing C IV Historical Yield (HIERACHY) III: The C IV absorber catalog and initial results on cosmic abundance evolution at $z\\approx 3-5$**  |\n",
       "|| X. Yu, et al. -- incl., <mark>J. Li</mark> |\n",
       "|*Appeared on*| *2025-03-25*|\n",
       "|*Comments*| *26 pages, 12 figures, and 10 tables; Accepted for publication in APJ*|\n",
       "|**Abstract**|            As part of the HIERACHY program, we collect the high-SN and high-spectral resolution optical spectra of 25 quasars at $z\\approx4-5$ to constrain the C IV evolution at $z\\approx 3-5$. In this paper, we report a catalog of 626 (1263) C IV absorption systems (components) at $z\\approx3-5$ with a 50% completeness column density of log$(N_{\\rm CIV}/\\rm cm^{-2}) \\approx 12.3$. The HIERACHY/MIKE C IV sample is one of the best C IV absorber samples optimized to study the IGM during the He II reionization epoch. Using 557 (1090) intervening absorption systems (components), we found the column density distribution function of C IV absorption systems with log$(N_{\\rm CIV}/\\rm cm^{-2})\\gtrsim 12.3$ has a broken power-law shape, with the turn-over column density log$(N_{\\rm crit}/\\rm cm^{-2}) = 13.35^{+0.20}_{-0.19}$, which is close to or smaller than the detection limit of most literature samples. We also found that both comoving path length number density $dn/dX$ and cosmic abundance $\\Omega$ for C IV absorption systems with log$(N_{\\rm CIV}/\\rm cm^{-2})> 13.2$ show an increase (at the 2.2$\\sigma$ and 1.4$\\sigma$ levels, respectively) from redshift $z\\approx5$ to 3, while absorption systems with log$(N_{\\rm CIV}/\\rm cm^{-2})= 12.3-13.2$ exhibit a constant $dn/dX$ and $\\Omega_{\\rm CIV}$.         |\n",
       "|<p style=\"color:green\"> **ERROR** </p>| <p style=\"color:green\">affiliation error: mpia.affiliation_verifications: 'Heidelberg' keyword not found.</p> |"
      ],
      "text/plain": [
       "<IPython.core.display.Markdown object>"
      ]
     },
     "metadata": {},
     "output_type": "display_data"
    },
    {
     "data": {
      "text/markdown": [
       "\n",
       "|||\n",
       "|---:|:---|\n",
       "| [![arXiv](https://img.shields.io/badge/arXiv-2503.18145-b31b1b.svg)](https://arxiv.org/abs/2503.18145) | **Asymptotic states of fast neutrino-flavor conversions in the three-flavor framework**  |\n",
       "|| <mark>J. Liu</mark>, et al. |\n",
       "|*Appeared on*| *2025-03-25*|\n",
       "|*Comments*| **|\n",
       "|**Abstract**|            There has been growing evidence that mu and tau neutrinos are noticeably different due to the emergence of muons in core-collapse supernovae (CCSNe) and binary neutron star mergers (BNSMs). Recent theoretical studies also suggest that all flavors of neutrinos and antineutrinos inevitably experience some flavor mixing instabilities including fast neutrino flavor conversions (FFC), which corresponds to one of the collective neutrino oscillations powered by neutrino self-interactions. This represents a need for quantum kinetic treatment in the numerical modeling of neutrino dynamics, which is, however, a formidable computational challenge. In this paper, we present an approximate method to predict asymptotic states of FFC without solving a quantum kinetic equation under a three-flavor framework, in which mu and tau neutrino distributions are not necessarily identical to each other. The approximate method is developed based on a Bhatnagar-Gross-Krook (BGK) relaxation time prescription, capable of capturing essential features of mixing competitions among three different flavor-coherent states. Our proposed scheme is computationally inexpensive and easy to implement in any classical neutrino transport scheme.         |\n",
       "|<p style=\"color:green\"> **ERROR** </p>| <p style=\"color:green\">affiliation error: mpia.affiliation_verifications: 'Heidelberg' keyword not found.</p> |"
      ],
      "text/plain": [
       "<IPython.core.display.Markdown object>"
      ]
     },
     "metadata": {},
     "output_type": "display_data"
    }
   ],
   "source": [
    "import datetime\n",
    "today = str(datetime.date.today())\n",
    "logfile = f\"_build/html/logs/log-{today}.md\"\n",
    "\n",
    "\n",
    "with open(logfile, 'w') as logs:\n",
    "    # Success\n",
    "    logs.write(f'# Arxiv on Deck 2: Logs - {today}\\n\\n')\n",
    "    logs.write(\"\"\"* Arxiv had {0:,d} new papers\\n\"\"\".format(len(new_papers)))\n",
    "    logs.write(\"\"\"    * {0:,d} with possible author matches\\n\\n\"\"\".format(len(candidates)))\n",
    "    logs.write(\"## Sucessful papers\\n\\n\")\n",
    "    display(Markdown(\"## Successful papers\"))\n",
    "    success = [k[0] for k in documents]\n",
    "    for candid in candidates:\n",
    "        if candid['identifier'].split(':')[-1] in success:\n",
    "            display(candid)\n",
    "            logs.write(candid.generate_markdown_text() + '\\n\\n')\n",
    "\n",
    "    ## failed\n",
    "    logs.write(\"## Failed papers\\n\\n\")\n",
    "    display(Markdown(\"## Failed papers\"))\n",
    "    failed = sorted(failed, key=lambda x: x[1])\n",
    "    current_reason = \"\"\n",
    "    for paper, reason in failed:\n",
    "        if 'affiliation' in reason:\n",
    "            color = 'green'\n",
    "        else:\n",
    "            color = 'red'\n",
    "        data = Markdown(\n",
    "                paper.generate_markdown_text() + \n",
    "                f'\\n|<p style=\"color:{color:s}\"> **ERROR** </p>| <p style=\"color:{color:s}\">{reason:s}</p> |'\n",
    "               )\n",
    "        if reason != current_reason:\n",
    "            logs.write(f'### {reason:s} \\n\\n')\n",
    "            current_reason = reason\n",
    "        logs.write(data.data + '\\n\\n')\n",
    "        \n",
    "        # only display here the important errors (all in logs)\n",
    "        # if color in ('red',):\n",
    "        display(data)"
   ]
  },
  {
   "cell_type": "markdown",
   "id": "472d20ee",
   "metadata": {
    "papermill": {
     "duration": 0.004766,
     "end_time": "2025-03-25T04:19:31.128193",
     "exception": false,
     "start_time": "2025-03-25T04:19:31.123427",
     "status": "completed"
    },
    "tags": []
   },
   "source": [
    "## Export documents\n",
    "\n",
    "We now write the .md files and export relevant images"
   ]
  },
  {
   "cell_type": "code",
   "execution_count": 7,
   "id": "d426aed9",
   "metadata": {
    "execution": {
     "iopub.execute_input": "2025-03-25T04:19:31.139122Z",
     "iopub.status.busy": "2025-03-25T04:19:31.138535Z",
     "iopub.status.idle": "2025-03-25T04:19:31.145618Z",
     "shell.execute_reply": "2025-03-25T04:19:31.145084Z"
    },
    "papermill": {
     "duration": 0.013637,
     "end_time": "2025-03-25T04:19:31.146676",
     "exception": false,
     "start_time": "2025-03-25T04:19:31.133039",
     "status": "completed"
    },
    "tags": []
   },
   "outputs": [],
   "source": [
    "def export_markdown_summary(md: str, md_fname:str, directory: str):\n",
    "    \"\"\"Export MD document and associated relevant images\"\"\"\n",
    "    import os\n",
    "    import shutil\n",
    "    import re\n",
    "\n",
    "    if (os.path.exists(directory) and not os.path.isdir(directory)):\n",
    "        raise RuntimeError(f\"a non-directory file exists with name {directory:s}\")\n",
    "\n",
    "    if (not os.path.exists(directory)):\n",
    "        print(f\"creating directory {directory:s}\")\n",
    "        os.mkdir(directory)\n",
    "\n",
    "    fig_fnames = (re.compile(r'\\[Fig.*\\]\\((.*)\\)').findall(md) + \n",
    "                  re.compile(r'\\<img src=\"([^>\\s]*)\"[^>]*/>').findall(md))\n",
    "    print(\"found figures\", fig_fnames)\n",
    "    for fname in fig_fnames:\n",
    "        if 'http' in fname:\n",
    "            # No need to copy online figures\n",
    "            continue\n",
    "        if not os.path.exists(fname):\n",
    "            print(\"file not found\", fname)\n",
    "            continue\n",
    "        print(\"copying \", fname, \"to\", directory)\n",
    "        destdir = os.path.join(directory, os.path.dirname(fname))\n",
    "        destfname = os.path.join(destdir, os.path.basename(fname))\n",
    "        try:\n",
    "            os.makedirs(destdir)\n",
    "        except FileExistsError:\n",
    "            pass\n",
    "        shutil.copy(fname, destfname)\n",
    "    with open(os.path.join(directory, md_fname), 'w') as fout:\n",
    "        fout.write(md)\n",
    "    print(\"exported in \", os.path.join(directory, md_fname))\n",
    "    [print(\"    + \" + os.path.join(directory,fk)) for fk in fig_fnames]"
   ]
  },
  {
   "cell_type": "code",
   "execution_count": 8,
   "id": "014d04a4",
   "metadata": {
    "execution": {
     "iopub.execute_input": "2025-03-25T04:19:31.157646Z",
     "iopub.status.busy": "2025-03-25T04:19:31.157130Z",
     "iopub.status.idle": "2025-03-25T04:19:31.233530Z",
     "shell.execute_reply": "2025-03-25T04:19:31.232896Z"
    },
    "papermill": {
     "duration": 0.08296,
     "end_time": "2025-03-25T04:19:31.234571",
     "exception": false,
     "start_time": "2025-03-25T04:19:31.151611",
     "status": "completed"
    },
    "tags": []
   },
   "outputs": [
    {
     "name": "stdout",
     "output_type": "stream",
     "text": [
      "found figures ['tmp_2503.17440/./ngc4694_bpt.png', 'tmp_2503.17440/./ngc4694_whan.png', 'tmp_2503.17440/./ngc4694_sfr_map.png']\n",
      "copying  tmp_2503.17440/./ngc4694_bpt.png to _build/html/\n",
      "copying  tmp_2503.17440/./ngc4694_whan.png to _build/html/\n",
      "copying  tmp_2503.17440/./ngc4694_sfr_map.png to _build/html/\n",
      "exported in  _build/html/2503.17440.md\n",
      "    + _build/html/tmp_2503.17440/./ngc4694_bpt.png\n",
      "    + _build/html/tmp_2503.17440/./ngc4694_whan.png\n",
      "    + _build/html/tmp_2503.17440/./ngc4694_sfr_map.png\n",
      "found figures ['tmp_2503.17455/./grid_2panel_mass_fICL_50_200_sim.png', 'tmp_2503.17455/./ICL_fits_comparison_sigmaratio_ficl.png', 'tmp_2503.17455/./sn_curve_multi_newsys_new.png']\n",
      "copying  tmp_2503.17455/./grid_2panel_mass_fICL_50_200_sim.png to _build/html/\n",
      "copying  tmp_2503.17455/./ICL_fits_comparison_sigmaratio_ficl.png to _build/html/\n",
      "copying  tmp_2503.17455/./sn_curve_multi_newsys_new.png to _build/html/\n",
      "exported in  _build/html/2503.17455.md\n",
      "    + _build/html/tmp_2503.17455/./grid_2panel_mass_fICL_50_200_sim.png\n",
      "    + _build/html/tmp_2503.17455/./ICL_fits_comparison_sigmaratio_ficl.png\n",
      "    + _build/html/tmp_2503.17455/./sn_curve_multi_newsys_new.png\n",
      "found figures ['tmp_2503.17921/./pilot4_1_4_mos_oct_25_2024.png', 'tmp_2503.17921/./pilot4_template_mosaic_oct_19_2024.png', 'tmp_2503.17921/./pilot4_5_500_mos_oct_25_2024.png']\n",
      "copying  tmp_2503.17921/./pilot4_1_4_mos_oct_25_2024.png to _build/html/\n",
      "copying  tmp_2503.17921/./pilot4_template_mosaic_oct_19_2024.png to _build/html/\n",
      "copying  tmp_2503.17921/./pilot4_5_500_mos_oct_25_2024.png to _build/html/\n",
      "exported in  _build/html/2503.17921.md\n",
      "    + _build/html/tmp_2503.17921/./pilot4_1_4_mos_oct_25_2024.png\n",
      "    + _build/html/tmp_2503.17921/./pilot4_template_mosaic_oct_19_2024.png\n",
      "    + _build/html/tmp_2503.17921/./pilot4_5_500_mos_oct_25_2024.png\n",
      "found figures ['tmp_2503.18791/./figures/ngc628c_scatter_anchor_contsub.png', 'tmp_2503.18791/./ms_ks.png', 'tmp_2503.18791/./figures/ngc628c_filters_spec.png', 'tmp_2503.18791/./figures/ngc2835s_filters_spec.png']\n",
      "copying  tmp_2503.18791/./figures/ngc628c_scatter_anchor_contsub.png to _build/html/\n",
      "copying  tmp_2503.18791/./ms_ks.png to _build/html/\n",
      "copying  tmp_2503.18791/./figures/ngc628c_filters_spec.png to _build/html/\n",
      "copying  tmp_2503.18791/./figures/ngc2835s_filters_spec.png to _build/html/\n",
      "exported in  _build/html/2503.18791.md\n",
      "    + _build/html/tmp_2503.18791/./figures/ngc628c_scatter_anchor_contsub.png\n",
      "    + _build/html/tmp_2503.18791/./ms_ks.png\n",
      "    + _build/html/tmp_2503.18791/./figures/ngc628c_filters_spec.png\n",
      "    + _build/html/tmp_2503.18791/./figures/ngc2835s_filters_spec.png\n"
     ]
    }
   ],
   "source": [
    "for paper_id, md in documents:\n",
    "    export_markdown_summary(md, f\"{paper_id:s}.md\", '_build/html/')"
   ]
  },
  {
   "cell_type": "markdown",
   "id": "f087a0a7",
   "metadata": {
    "papermill": {
     "duration": 0.005147,
     "end_time": "2025-03-25T04:19:31.245134",
     "exception": false,
     "start_time": "2025-03-25T04:19:31.239987",
     "status": "completed"
    },
    "tags": []
   },
   "source": [
    "## Display the papers\n",
    "\n",
    "Not necessary but allows for a quick check."
   ]
  },
  {
   "cell_type": "code",
   "execution_count": 9,
   "id": "fd25f625",
   "metadata": {
    "execution": {
     "iopub.execute_input": "2025-03-25T04:19:31.256777Z",
     "iopub.status.busy": "2025-03-25T04:19:31.256137Z",
     "iopub.status.idle": "2025-03-25T04:19:31.264742Z",
     "shell.execute_reply": "2025-03-25T04:19:31.264106Z"
    },
    "papermill": {
     "duration": 0.015511,
     "end_time": "2025-03-25T04:19:31.265682",
     "exception": false,
     "start_time": "2025-03-25T04:19:31.250171",
     "status": "completed"
    },
    "scrolled": false,
    "tags": []
   },
   "outputs": [
    {
     "data": {
      "text/markdown": [
       "<div class=\"macros\" style=\"visibility:hidden;\">\n",
       "$\\newcommand{\\ensuremath}{}$\n",
       "$\\newcommand{\\xspace}{}$\n",
       "$\\newcommand{\\object}[1]{\\texttt{#1}}$\n",
       "$\\newcommand{\\farcs}{{.}''}$\n",
       "$\\newcommand{\\farcm}{{.}'}$\n",
       "$\\newcommand{\\arcsec}{''}$\n",
       "$\\newcommand{\\arcmin}{'}$\n",
       "$\\newcommand{\\ion}[2]{#1#2}$\n",
       "$\\newcommand{\\textsc}[1]{\\textrm{#1}}$\n",
       "$\\newcommand{\\hl}[1]{\\textrm{#1}}$\n",
       "$\\newcommand{\\footnote}[1]{}$\n",
       "$\\newcommand{\\sigsfr}{\\Sigma_{\\rm SFR}}$\n",
       "$\\newcommand{\\siggas}{\\Sigma_{\\rm gas}}$\n",
       "$\\newcommand{\\ha}{{\\rm H}\\alpha}$\n",
       "$\\newcommand{\\hb}{{\\rm H}\\beta}$\n",
       "$\\newcommand{\\aco}{\\alpha_\\mathrm{CO}}$\n",
       "$\\newcommand{\\ewha}{W_\\mathrm{H\\alpha}}$\n",
       "$\\newcommand{\\thebibliography}{\\DeclareRobustCommand{\\VAN}[3]{##3}\\VANthebibliography}$</div>\n",
       "\n",
       "\n",
       "\n",
       "<div id=\"title\">\n",
       "\n",
       "# The resolved star-formation efficiency of early-type galaxies\n",
       "\n",
       "</div>\n",
       "<div id=\"comments\">\n",
       "\n",
       "[![arXiv](https://img.shields.io/badge/arXiv-2503.17440-b31b1b.svg)](https://arxiv.org/abs/2503.17440)<mark>Appeared on: 2025-03-25</mark> -  _13 pages, 42 Figures (27 in Appendices). Accepted for publication in MNRAS_\n",
       "\n",
       "</div>\n",
       "<div id=\"authors\">\n",
       "\n",
       "T. G. Williams, et al. -- incl., <mark>E. Schinnerer</mark>\n",
       "\n",
       "</div>\n",
       "<div id=\"abstract\">\n",
       "\n",
       "**Abstract:** Understanding how and why star formation varies between galaxies is fundamental to our comprehension of galaxy evolution. In particular, the star-formation efficiency (SFE; star-formation rate or SFR per unit cold gas mass) has been shown to vary substantially both across and within galaxies. Early-type galaxies (ETGs) constitute an extreme case, as about a quarter have detectable molecular gas reservoirs but little to no detectable star formation. In this work, we present a spatially-resolved view of the SFE in ten ETGs, combining state-of-the-art Atacama Large Millimeter/submillimeter Array (ALMA) and Multi Unit Spectroscopic Explorer (MUSE) observations. Optical spectroscopic line diagnostics are used to identify the ionized emission regions dominated by star-formation, and reject regions where the ionization arises primarily from other sources. We identify very few regions where the ionization is consistent with pure star formation. Using $\\ha$ as our SFR tracer, we find that previous integrated measurements of the star-formation rate based on UV and 22 $\\micron$ emission are systematically higher than the SFR measured from $\\ha$ . However, for the small number of regions where ionization is primarily associated with star formation, the SFEs are around 0.4 dex higher than those measured in star-forming galaxies at a similar spatial resolution (with depletion times ranging from $10^8$ to $10^{10}$ yr). Whilst the SFE of ETGs is overall low, we find that the SFEs of individual regions within ETGs can be similar to, or higher than, similar sized regions within star-forming galaxies.\n",
       "\n",
       "</div>\n",
       "\n",
       "<div id=\"div_fig1\">\n",
       "\n",
       "<img src=\"tmp_2503.17440/./ngc4694_bpt.png\" alt=\"Fig6\" width=\"100%\"/>\n",
       "\n",
       "**Figure 6. -** BPT diagram of individual spaxels within the galaxy NGC 4694. _ Left_: [O{\\sc iii}] -- [N{\\sc ii}] diagnostic. _ Right:_[O{\\sc iii}] -- [S{\\sc ii}] diagnostic. The demarcation from [ and Kauffmann (2003)](https://ui.adsabs.harvard.edu/abs/2003MNRAS.346.1055K) is shown as a solid black line, and those from [Kewley, et. al (2006)](https://ui.adsabs.harvard.edu/abs/2006MNRAS.372..961K) as black dashed and dot-dashed lines. Data points are coloured by their positions in the BPT diagram, and are grey if they do not meet our signal-to-noise thresholds. The error-bars are typically on the order of 0.01 for these ratios as the lines are strongly detected, so these uncertainties are negligible. (*fig:ngc4694_bpt*)\n",
       "\n",
       "</div>\n",
       "<div id=\"div_fig2\">\n",
       "\n",
       "<img src=\"tmp_2503.17440/./ngc4694_whan.png\" alt=\"Fig12\" width=\"100%\"/>\n",
       "\n",
       "**Figure 12. -** WHAN diagnostics of individual spaxels within the galaxy NGC 4694. _ Left_: Map of the WHAN classes overlaid on an $\\ha$ map of the galaxy. _ Right_: WHAN classes defined using the $\\ewha$ -- ([N{\\sc ii}]/$\\ha$ plane. We use the classes of [ and Mateus (2011)](https://ui.adsabs.harvard.edu/abs/2011MNRAS.413.1687C): star-forming (SF), strong AGN (sAGN), weak AGN (wAGN), retired (R) and passive (P). Here, we have dropped the `galaxy' nomenclature from the retired and passive galaxies ued in [ and Mateus (2011)](https://ui.adsabs.harvard.edu/abs/2011MNRAS.413.1687C), to highlight that our observations are resolved. (*fig:ngc4694_whan*)\n",
       "\n",
       "</div>\n",
       "<div id=\"div_fig3\">\n",
       "\n",
       "<img src=\"tmp_2503.17440/./ngc4694_sfr_map.png\" alt=\"Fig8\" width=\"100%\"/>\n",
       "\n",
       "**Figure 8. -** SFR (left) and BPT (right) maps of the galaxy NGC 4694. The pixels here correspond to a 150 pc-size region, and pixels are only coloured if they pass our S/N cuts, and the SFR maps are calculated only for spaxels that fall in the SF region of the BPT diagram. The greyscale shows $\\ha$ emission in both cases. In the left panel, for the small number of spaxels classified as star-forming, we show the SFR surface densities in colour. The right panel shows spaxels coloured by their BPT classification, with the same colours as in Figure \\ref{fig:ngc4694_bpt}. For this galaxy, the majority of the spaxels are defined as having their ionization dominated by processes other than star-formation. (*fig:ngc4694_sfr_map*)\n",
       "\n",
       "</div><div id=\"qrcode\"><img src=https://api.qrserver.com/v1/create-qr-code/?size=100x100&data=\"https://arxiv.org/abs/2503.17440\"></div>"
      ],
      "text/plain": [
       "<IPython.core.display.Markdown object>"
      ]
     },
     "metadata": {},
     "output_type": "display_data"
    },
    {
     "data": {
      "text/markdown": [
       "<div class=\"macros\" style=\"visibility:hidden;\">\n",
       "$\\newcommand{\\ensuremath}{}$\n",
       "$\\newcommand{\\xspace}{}$\n",
       "$\\newcommand{\\object}[1]{\\texttt{#1}}$\n",
       "$\\newcommand{\\farcs}{{.}''}$\n",
       "$\\newcommand{\\farcm}{{.}'}$\n",
       "$\\newcommand{\\arcsec}{''}$\n",
       "$\\newcommand{\\arcmin}{'}$\n",
       "$\\newcommand{\\ion}[2]{#1#2}$\n",
       "$\\newcommand{\\textsc}[1]{\\textrm{#1}}$\n",
       "$\\newcommand{\\hl}[1]{\\textrm{#1}}$\n",
       "$\\newcommand{\\footnote}[1]{}$\n",
       "$\\newcommand{\\Msun}{M_\\sun}$\n",
       "$\\newcommand{\\Mhalo}{M_\\mathrm{h}}$\n",
       "$\\newcommand{\\logMhalo}{\\logten(\\Mhalo/\\Msun)}$\n",
       "$\\newcommand{\\Mstar}{M_*}$\n",
       "$\\newcommand{\\logMstar}{\\logten(\\Mstar/\\Msun)}$\n",
       "$\\newcommand{\\fICL}{f_\\textrm{ICL}}$\n",
       "$\\newcommand{\\Rmax}{R_\\textrm{max}}$\n",
       "$\\newcommand{\\SN}{\\textrm{S/N}}$\n",
       "$\\newcommand{\\ICLap}{(BCG+ICL)_{{50}-{200}}}$\n",
       "$\\newcommand{\\nina}[1]{{\\color{orange}\\textsf{#1}}}$\n",
       "$\\newcommand{\\eceb}[1]{{#1}}$\n",
       "$\\newcommand{\\referee}[1]{#1}$\n",
       "$\\newcommand{\\orcid}[1]{\\orcidlink{#1}}$</div>\n",
       "\n",
       "\n",
       "\n",
       "<div id=\"title\">\n",
       "\n",
       "# $\\Euclid$ preparation: LXX. Forecasting detection limits for intracluster light in the Euclid Wide Survey\n",
       "\n",
       "</div>\n",
       "<div id=\"comments\">\n",
       "\n",
       "[![arXiv](https://img.shields.io/badge/arXiv-2503.17455-b31b1b.svg)](https://arxiv.org/abs/2503.17455)<mark>Appeared on: 2025-03-25</mark> -  _21 pages, 13 figures, 2 tables. Accepted for publication in A&A_\n",
       "\n",
       "</div>\n",
       "<div id=\"authors\">\n",
       "\n",
       "E. Collaboration, et al. -- incl., <mark>K. Jahnke</mark>\n",
       "\n",
       "</div>\n",
       "<div id=\"abstract\">\n",
       "\n",
       "**Abstract:** The intracluster light (ICL) permeating galaxy clusters is a tracer of the cluster's assembly history, and potentially a tracer of their dark matter structure.In this work we explore the capability of the Euclid Wide Survey to detect ICL using $\\eceb{\\HE-band}$ mock images. We simulate clusters across a range of redshifts (0.3--1.8) and halo masses ( $10^{13.9}$ -- $10^{15.0} \\Msun$ ), using an observationally motivated model of the ICL. We identify a 50--200 kpc circular annulus around the brightest cluster galaxy (BCG) in which the signal-to-noise ratio (S/N) of the ICL is maximised and use the S/N within this aperture as our figure of merit for ICL detection. We compare three state-of-the-art methods for ICL detection, and find that a method that performs simple aperture photometry after high-surface brightness source masking is able to detect ICL with minimal bias for clusters more massive than $10^{14.2} \\Msun$ .The S/N of the ICL detection is primarily limited by the redshift of the cluster, driven by cosmological dimming, rather than the mass of the cluster. Assuming the ICL in each cluster contains 15 \\% of the stellar light, we forecast that $\\Euclid$ will be able to measure the presence of ICL in $\\eceb{up to}$ $\\sim80$ 000 clusters of $>10^{14.2} \\Msun$ between $z=0.3$ and 1.5 with a $\\SN>3$ . Half of these clusters will reside below $z=0.75$ and the majority of those below $z=0.6$ will be detected with a $\\SN>20$ . A few thousand clusters at $1.3<z<1.5$ will have ICL detectable with a S/N greater than 3.The surface brightness profile of the ICL model is strongly dependent on both the mass of the cluster and the redshift at which it is observed so the outer ICL is best observed in the most massive clusters of $>10^{14.7} \\Msun$ . $\\Euclid$ will detect the ICL at more than 500 kpc distance from the BCG, up to $z=0.7$ , in several hundred of these massive clusters over its large survey volume.\n",
       "\n",
       "</div>\n",
       "\n",
       "<div id=\"div_fig1\">\n",
       "\n",
       "<img src=\"tmp_2503.17455/./grid_2panel_mass_fICL_50_200_sim.png\" alt=\"Fig8\" width=\"100%\"/>\n",
       "\n",
       "**Figure 8. -** _Left_: \\HE-band S/N of the ICL + BCG measured within a 50--200 kpc annulus, interpolated across halo mass and redshift space, using `smoothed' ICL parameters calculated as described in Sect. \\ref{sec:fitting_sn} assuming a fixed ICL fraction of $15\\%$. Coloured circles indicate the S/N values from the individual model clusters for comparison. Contours indicate the lines corresponding to a $\\SN= 3, 10$ and 20 as labelled. Dashed contours indicate the threshold halo mass above which the total number of clusters in a redshift bin of $\\Delta z=0.1$ is expected to be 10, 100, and 1000, across the footprint of the EWS, calculated as described in Sect. \\ref{sec:haloestimates}. By the same estimates, the grey shaded region to the upper-right indicates the parameter space in which we expect to find no clusters according to the halo mass function.\n",
       "_Right_: \\HE-band S/N of the BCG+ICL measured within a 50--200 kpc annulus, interpolated across ICL fraction and redshift space, for a cluster with $\\Mhalo=10^{14.7} $\\Msun$$. $\\fICL$ is defined as the total flux of the ICL across its entire radial extent, divided by the combined total fluxes of the ICL, BCG and cluster galaxies. Circles indicate the locations at which the ICL S/N has been measured to produce the interpolated map. (*fig:mhalo_z*)\n",
       "\n",
       "</div>\n",
       "<div id=\"div_fig2\">\n",
       "\n",
       "<img src=\"tmp_2503.17455/./ICL_fits_comparison_sigmaratio_ficl.png\" alt=\"Fig11\" width=\"100%\"/>\n",
       "\n",
       "**Figure 11. -** Ratio of the $\\ICLap$  uncertainty $\\referee${($\\sigma_\\mathrm{measured}$)} of each fitting method to the $\\ICLap$  noise ($\\referee${$\\sigma_\\mathrm{in}$, equivalent to the noise component in our S/N measurements)} of the input model, for varying $\\fICL$ at a fixed halo mass of $\\Mhalo=10^{14.7} $\\Msun$$. Points are coloured by redshift. The horizontal lines show the mean value at each redshift, coloured by the corresponding redshift. (*fig:iclfits_comparison_sigma_ficl*)\n",
       "\n",
       "</div>\n",
       "<div id=\"div_fig3\">\n",
       "\n",
       "<img src=\"tmp_2503.17455/./sn_curve_multi_newsys_new.png\" alt=\"Fig1\" width=\"100%\"/>\n",
       "\n",
       "**Figure 1. -** S/N per kpc annulus versus radius for clusters of varying halo mass (_top_), ICL effective radius (_middle_) and ICL Sérsic index (_bottom_), measured on the isolated ICL component (not including BCG) within 2 kpc annuli. The lines and shaded regions respectively show the median value and standard deviation of the S/N across nine instances of the same cluster simulated in different regions of the image. $\\referee${The vertical dotted lines indicate the 50--200 kpc region we selected for the annulus}.\n",
       "     (*fig:sn-curve-multi*)\n",
       "\n",
       "</div><div id=\"qrcode\"><img src=https://api.qrserver.com/v1/create-qr-code/?size=100x100&data=\"https://arxiv.org/abs/2503.17455\"></div>"
      ],
      "text/plain": [
       "<IPython.core.display.Markdown object>"
      ]
     },
     "metadata": {},
     "output_type": "display_data"
    },
    {
     "data": {
      "text/markdown": [
       "<div class=\"macros\" style=\"visibility:hidden;\">\n",
       "$\\newcommand{\\ensuremath}{}$\n",
       "$\\newcommand{\\xspace}{}$\n",
       "$\\newcommand{\\object}[1]{\\texttt{#1}}$\n",
       "$\\newcommand{\\farcs}{{.}''}$\n",
       "$\\newcommand{\\farcm}{{.}'}$\n",
       "$\\newcommand{\\arcsec}{''}$\n",
       "$\\newcommand{\\arcmin}{'}$\n",
       "$\\newcommand{\\ion}[2]{#1#2}$\n",
       "$\\newcommand{\\textsc}[1]{\\textrm{#1}}$\n",
       "$\\newcommand{\\hl}[1]{\\textrm{#1}}$\n",
       "$\\newcommand{\\footnote}[1]{}$\n",
       "$\\newcommand{\\kms}{ km s^{-1}}$\n",
       "$\\newcommand{\\bibtex}{\\textsc{Bib}\\!\\TeX}$\n",
       "$\\newcommand$\n",
       "$\\newcommand{\\ngal}{ 17 }$\n",
       "$\\newcommand{\\UWyoming}{\\affiliation{Department of Physics and Astronomy, University of Wyoming, Laramie, WY 82071, USA}}$\n",
       "$\\newcommand{\\STScI}{\\affiliation{Space Telescope Science Institute, 3700 San Martin Drive, Baltimore, MD 21218, USA}}$\n",
       "$\\newcommand{\\UAntof}{\\affiliation{Centro de Astronomía (CITEVA), Universidad de Antofagasta, Avenida Angamos 601, Antofagasta, Chile}}$\n",
       "$\\newcommand{\\NOIRLab}{\\affiliation{Gemini Observatory/NSF NOIRLab, 950 N. Cherry Avenue, Tucson, AZ 85719, USA}}$\n",
       "$\\newcommand{\\UToledo}{\\affiliation{Ritter Astrophysical Research Center, University of Toledo, Toledo, OH 43606, USA}}$\n",
       "$\\newcommand{\\JHU}{\\affiliation{Department of Physics and Astronomy, The Johns Hopkins University, Baltimore, MD 21218 USA}}$\n",
       "$\\newcommand{\\Caltech}{\\affiliation{TAPIR, California Institute of Technology, Pasadena, CA 91125 USA}}$\n",
       "$\\newcommand{\\OSU}{\\affiliation{Department of Astronomy, The Ohio State University, 140 West 18th Ave., Columbus, OH 43210, USA}}$\n",
       "$\\newcommand{\\OSUphys}{\\affiliation{Department of Physics, The Ohio State University, Columbus, Ohio 43210, USA}}$\n",
       "$\\newcommand{\\OSUcosmo}{\\affiliation{Center for Cosmology \\& Astro-Particle Physics, The Ohio State University, Columbus, Ohio 43210, USA}}$\n",
       "$\\newcommand{\\UMichigan}{\\affiliation{Department of Astronomy, University of Michigan, Ann Arbor, MI 48109, USA}}$\n",
       "$\\newcommand{\\MPIA}{\\affiliation{Max Planck Institut für Astronomie, Königstuhl 17, 69117 Heidelberg, Germany}}$\n",
       "$\\newcommand{\\ESO}{\\affiliation{European Southern Observatory,  Karl-Schwarzschild Str. 2, 85748 Garching bei Muenchen, Germany}}$\n",
       "$\\newcommand{\\UAlberta}{\\affiliation{Department of Physics, University of Alberta, Edmonton, AB T6G 2E1, Canada}}$\n",
       "$\\newcommand{\\UCSD}{\\affiliation{Center for Astrophysics \\& Space Sciences, Department of Physics,  University of California San Diego, 9500 Gilman Drive, La Jolla, CA 92093, USA}}$\n",
       "$\\newcommand{\\Belgium}{\\affiliation{Sterrenkundig Observatorium, Universiteit Gent, Krijgslaan 281 S9, B-9000 Gent, Belgium}}$\n",
       "$\\newcommand{\\UHeidelberg}{\\affiliation{Astronomisches Rechen-Institut, Zentrum für Astronomie der Universität Heidelberg, Mönchhofstr. 12-14, D-69120 Heidelberg, Germany}}$\n",
       "$\\newcommand{\\Bonn}{\\affiliation{Argelander-Institut für Astronomie, Universität Bonn, Auf dem Hügel 71, 53121, Bonn, Germany}}$\n",
       "$\\newcommand{\\ANU}{\\affiliation{Research School of Astronomy and Astrophysics, Australian National University, Canberra, ACT 2611, Australia}}$\n",
       "$\\newcommand{\\AthreeD}{\\affiliation{ARC Centre of Excellence for All Sky Astrophysics in 3 Dimensions (ASTRO 3D), Australia}}$\n",
       "$\\newcommand{\\nrao}{\\affiliation{National Radio Astronomy Observatory, 520 Edgemont Road, Charlottesville, VA 22903, USA}}$\n",
       "$\\newcommand{\\ITA}{\\affiliation{Institut für Theoretische Astrophysik, Zentrum für Astronomie der Universität Heidelberg,\\ Albert-Ueberle-Strasse 2, 69120 Heidelberg, Germany}}$\n",
       "$\\newcommand{\\COOL}{\\affiliation{Cosmic Origins Of Life (COOL) Research DAO, coolresearch.io}}$\n",
       "$\\newcommand{\\IWR}{\\affiliation{Universität Heidelberg, Interdisziplinäres Zentrum für Wissenschaftliches Rechnen, Im Neuenheimer Feld 205, D-69120 Heidelberg, Germany}}$\n",
       "$\\newcommand{\\MPE}{\\affiliation{Max-Planck-Institut für Extraterrestrische Physik (MPE), Giessenbachstr. 1, D-85748 Garching, Germany}}$\n",
       "$\\newcommand{\\ICRAR}{\\affiliation{International Centre for Radio Astronomy Research, University of Western Australia, 35 Stirling Highway, Crawley, WA 6009, Australia}}$\n",
       "$\\newcommand{\\OCADU}{\\affiliation{OCAD University, Toronto, Ontario, M5T 1W1, Canada}}$\n",
       "$\\newcommand{\\UArizona}{\\affiliation{Steward Observatory, University of Arizona, 933 N Cherry Ave,Tucson, AZ 85721, USA}}$\n",
       "$\\newcommand{\\Riverside}{\\affiliation{Department of Physics and Astronomy, University of California, Riverside, CA, 92521 USA}}$\n",
       "$\\newcommand{\\Connecticut}{\\affiliation{University of Connecticut, Department of Physics, 196A  Auditorium Road, Unit 3046, Storrs, CT, 06269}}$\n",
       "$\\newcommand{\\ARI}{\\affiliation{Astrophysics Research Institute, Liverpool John Moores University, 146 Brownlow Hill, Liverpool L3 5RF, UK}}$\n",
       "$\\newcommand{\\LaPlata}{\\affiliation{Instituto de Astrofisica de La Plata, CONICET–UNLP,$\n",
       "$ Paseo del Bosque S/N, B1900FWA La Plata, Argentina }}$\n",
       "$\\newcommand{\\sorbonne}{\\affiliation{Sorbonne {Université}, LERMA, Observatoire de Paris, PSL university, CNRS, F-75014, Paris, France}}$\n",
       "$\\newcommand{\\CITA}{\\affiliation{Canadian Institute for Theoretical Astrophysics (CITA), University of Toronto, 60 St George Street, Toronto, ON M5S 3H8, Canada}}$\n",
       "$\\newcommand{\\MCMASTER}{\\affiliation{Department of Physics and Astronomy, McMaster University, 1280 Main Street West, Hamilton, ON L8S 4M1, Canada}}$\n",
       "$\\newcommand{\\UNAM}{\\affiliation{Instituto de Astronomía, Universidad Nacional Autónoma de México, Unidad Académica en Ensenada, Km 103 Carr. Tijuana−Ensenada, Ensenada, B.C.,$\n",
       "$C.P. 22860, México}}$\n",
       "$\\newcommand{\\Whitman}{\\affil{Whitman College, 345 Boyer Avenue, Walla Walla, WA 99362, USA}}$\n",
       "$\\newcommand{\\ARC}{\\affil{ARC Centre of Excellence for All Sky Astrophysics in 3 Dimensions (ASTRO 3D), Australia}}$\n",
       "$\\newcommand{\\stsciesa}{\\affil{AURA for the European Space Agency (ESA), Space Telescope Science Institute, 3700 San Martin Drive, Baltimore, MD 21218, USA}}$\n",
       "$\\newcommand{\\oxford}{\\affil{Department of Physics, University of Oxford, Keble Road, Oxford OX1 3RH, UK}}$\n",
       "$\\newcommand{\\Carnegie}{\\affil{The Observatories of the Carnegie Institution for Science, 813 Santa Barbara Street, Pasadena, CA 91101, USA}}$\n",
       "$\\newcommand{\\Virginia}{\\affil{University of Virginia, Charlottesville, VA, USA }}$\n",
       "$\\newcommand{\\Rechen}{\\affil{Astronomisches Rechen-Institut, Zentrum für Astronomie der Universität Heidelberg, Mönchhofstraße 12-14, D-69120 Heidelberg, Germany}}$\n",
       "$\\newcommand{\\UniCA}{\\affil{Université Côte d'Azur, Observatoire de la Côte d'Azur, CNRS, Laboratoire Lagrange, 06000, Nice, France}}$\n",
       "$\\newcommand{\\Alberta}{\\affil{Dept. of Physics, University of Alberta, 4-183 CCIS, Edmonton, Alberta, T6G 2E1, Canada}}$\n",
       "$\\newcommand{\\Gent}{\\affil{Sterrenkundig Observatorium, Universiteit Gent, Krijgslaan 281 S9, B-9000 Gent, Belgium}}$\n",
       "$\\newcommand{\\lea}{\\mathrel{<\\kern-1.0em\\lower0.9ex\\hbox{\\sim}}}$\n",
       "$\\newcommand{\\gea}{\\mathrel{>\\kern-1.0em\\lower0.9ex\\hbox{\\sim}}}$</div>\n",
       "\n",
       "\n",
       "\n",
       "<div id=\"title\">\n",
       "\n",
       "# Empirical SED Templates for Star Clusters Observed with HST and JWST: No Strong PAH or IR Dust Emission after Five Myr\n",
       "\n",
       "</div>\n",
       "<div id=\"comments\">\n",
       "\n",
       "[![arXiv](https://img.shields.io/badge/arXiv-2503.17921-b31b1b.svg)](https://arxiv.org/abs/2503.17921)<mark>Appeared on: 2025-03-25</mark> -  _35 pages, 15 figures, 7 tables_\n",
       "\n",
       "</div>\n",
       "<div id=\"authors\">\n",
       "\n",
       "Bradley~C.~Whitmore, et al.\n",
       "\n",
       "</div>\n",
       "<div id=\"abstract\">\n",
       "\n",
       "**Abstract:** JWST observations, when combined withHST data, promise to improve age estimates of star clusters in nearby spiral galaxies.However, feedback from young cluster stars pushes out the natal gas and dust,making cluster formation and evolution a challenge to model.Here, we use JWST $+$ HST observations of the nearby spiral galaxy NGC 628 to producespectral energy distribution (SED) templates of compact star clustersspanning275 nm through 21 $\\mu$ m. These preliminary SEDs capture the cluster stars and associated gas and dust within radii of $\\approx0.12^{\\prime\\prime}$ to $0.67^{\\prime\\prime}$ (corresponding to $\\approx6$ to $33$ pc at the distance of NGC 628).One important finding is that the SEDs of 1, 2, 3, and 4 Myr clusters can be differentiated in the infrared.  Another is that in 80-90 \\% of the cases we study, the PAH and H $_{\\alpha}$ emission track one another, with the dust responsible for the 3.3 $\\micron$ PAH emission largely removed  by  4 Myr, consistent with pre-supernova stellar feedback acting quickly on the surrounding gas and dust.  Nearly-embedded cluster candidates have infrared SEDs which are quite similar to optically visible 1 to 3 Myr clusters. In nearly all cases we find there is a young star cluster within a few tenths of an arcsec (10 - 30 pc) of the nearly embedded cluster, suggesting  the formation of the cluster was triggered by its presence. The resulting age estimates from the empirical templates are compatible both with dynamical estimates based on CO superbubble expansion velocities, and the TODDLERS models which track spherical evolution of homogeneous gas clouds around young stellar clusters.\n",
       "\n",
       "</div>\n",
       "\n",
       "<div id=\"div_fig1\">\n",
       "\n",
       "<img src=\"tmp_2503.17921/./pilot4_1_4_mos_oct_25_2024.png\" alt=\"Fig7\" width=\"100%\"/>\n",
       "\n",
       "**Figure 7. -** Snapshots of  the 1 - 4 Myr training set clusters.  The cluster ID is shown in  yellow, along with the adopted age (see text). The color combinations  used for the snapshots, and a size scale, are shown in the top row. The program cluster is just above the small red cross in all cases.  (*fig:1_4_templates*)\n",
       "\n",
       "</div>\n",
       "<div id=\"div_fig2\">\n",
       "\n",
       "<img src=\"tmp_2503.17921/./pilot4_template_mosaic_oct_19_2024.png\" alt=\"Fig9\" width=\"100%\"/>\n",
       "\n",
       "**Figure 9. -** Figure showing how the mean-value version of the  empirical templates (upper right panel) are derived from the observations of the training set (upper left panel). The dashed lines are from the BC03 stellar continuum models. The black triangles are the 1 sigma detection  limits. The individual  clusters are shown in the bottom panel for the five clusters in each sample, although in some cases there are fewer data points because a cluster is an outlier (see Section \\ref{sec:outliers}), or is off the bottom of the diagram. (*fig:mean_templates*)\n",
       "\n",
       "</div>\n",
       "<div id=\"div_fig3\">\n",
       "\n",
       "<img src=\"tmp_2503.17921/./pilot4_5_500_mos_oct_25_2024.png\" alt=\"Fig8\" width=\"100%\"/>\n",
       "\n",
       "**Figure 8. -** Same as Figure \\ref{fig:1_4_templates} for 5 - 500 Myr training set clusters.   (*fig:5_500_templates*)\n",
       "\n",
       "</div><div id=\"qrcode\"><img src=https://api.qrserver.com/v1/create-qr-code/?size=100x100&data=\"https://arxiv.org/abs/2503.17921\"></div>"
      ],
      "text/plain": [
       "<IPython.core.display.Markdown object>"
      ]
     },
     "metadata": {},
     "output_type": "display_data"
    },
    {
     "data": {
      "text/markdown": [
       "<div class=\"macros\" style=\"visibility:hidden;\">\n",
       "$\\newcommand{\\ensuremath}{}$\n",
       "$\\newcommand{\\xspace}{}$\n",
       "$\\newcommand{\\object}[1]{\\texttt{#1}}$\n",
       "$\\newcommand{\\farcs}{{.}''}$\n",
       "$\\newcommand{\\farcm}{{.}'}$\n",
       "$\\newcommand{\\arcsec}{''}$\n",
       "$\\newcommand{\\arcmin}{'}$\n",
       "$\\newcommand{\\ion}[2]{#1#2}$\n",
       "$\\newcommand{\\textsc}[1]{\\textrm{#1}}$\n",
       "$\\newcommand{\\hl}[1]{\\textrm{#1}}$\n",
       "$\\newcommand{\\footnote}[1]{}$\n",
       "$\\newcommand{\\xx}[1]{\\textcolor{black}{ #1}}$\n",
       "$\\newcommand{\\HII}{\\ion{H}{II}}$\n",
       "$\\newcommand{\\Ha}{H{\\alpha}}$\n",
       "$\\newcommand{\\ngal}{38}$\n",
       "$\\newcommand{\\ngalphangs}{74}$\n",
       "$\\newcommand{\\sfr}{M_{\\odot} yr^{-1}}$\n",
       "$\\newcommand{\\lea}{{\\>\\rlap{\\raise2pt\\hbox{<}}\\lower3pt\\hbox{\\sim} \\>}}$\n",
       "$\\newcommand{\\gea}{{\\>\\rlap{\\raise2pt\\hbox{>}}\\lower3pt\\hbox{\\sim} \\>}}$\n",
       "$\\newcommand{\\GEMINI}{\\affiliation{Gemini Observatory/NSF’s NOIRLab, 950 N. Cherry Avenue, Tucson, AZ, 85719, USA$\n",
       "$}}$\n",
       "$\\newcommand{\\ASCL}{\\affiliation{Astrophysics Source Code Librar$\n",
       "$y, Michigan Technological University, 1400 Townsend Drive, Houghton, MI 49931}}$\n",
       "$\\newcommand{\\OSU}{\\affiliation{Department of Astronomy, The Ohio State University, 140 West 18th Avenue, Columbus, Ohio 43210, USA}}$\n",
       "$\\newcommand{\\Alberta}{\\affiliation{Department of Physics, University of Alberta, Edmonton, AB T6G 2E1, Canada}}$\n",
       "$\\newcommand{\\ANU}{\\affiliation{Research School of Astronomy and Astrophysics, Australian National University, Canberra, ACT 2611, Australia}}$\n",
       "$\\newcommand{\\IPARCOS}{\\affiliation{Instituto de Física de Partículas y del Cosmos, Universidad Complutense de Madrid, E-28040 Madrid, Spain}}$\n",
       "$\\newcommand{\\IPAC}{\\affiliation{Caltech-IPAC, 1200 E. California Blvd. Pasadena, CA 91125, USA}}$\n",
       "$\\newcommand{\\Carnegie}{\\affiliation{Observatories of the Carnegie Institution for Science, 813 Santa Barbara Street, Pasadena, CA 91101, USA}}$\n",
       "$\\newcommand{ÇAPP}{\\affiliation{Center for Cosmology and Astroparticle Physics, 191 West Woodruff Avenue, Columbus, OH 43210, USA}}$\n",
       "$\\newcommand{\\CfA}{\\affiliation{Harvard-Smithsonian Center for Astrophysics, 60 Garden Street, Cambridge, MA 02138, USA}}$\n",
       "$\\newcommand{\\CITEVA}{\\affiliation{Centro de Astronomía (CITEVA), Universidad de Antofagasta, Avenida Angamos 601, Antofagasta, Chile}}$\n",
       "$\\newcommand{\\CNRS}{\\affiliation{CNRS, IRAP, 9 Av. du Colonel Roche, BP 44346, F-31028 Toulouse cedex 4, France}}$\n",
       "$\\newcommand{\\ESO}{\\affiliation{European Southern Observatory, Karl-Schwarzschild Stra{\\ss}e 2, D-85748 Garching bei München, Germany}}$\n",
       "$\\newcommand{\\Heidelberg}{\\affiliation{Astronomisches Rechen-Institut, Zentrum für Astronomie der Universität Heidelberg, Mönchhofstra\\ss e 12-14, D-69120 Heidelberg, Germany}}$\n",
       "$\\newcommand{\\ICRAR}{\\affiliation{International Centre for Radio Astronomy Research, University of Western Australia, 35 Stirling Highway, Crawley, WA 6009, Australia}}$\n",
       "$\\newcommand{\\IRAM}{\\affiliation{Institut de Radioastronomie Millimétrique (IRAM), 300 Rue de la Piscine, F-38406 Saint Martin d'Hères, France}}$\n",
       "$\\newcommand{\\IRAP}{\\affiliation{CNRS, IRAP, 9 Av. du Colonel Roche, BP 44346, F-31028 Toulouse cedex 4, France}}$\n",
       "$\\newcommand{\\UPS}{\\affiliation{Université de Toulouse, UPS-OMP, IRAP, F-31028 Toulouse cedex 4, France}}$\n",
       "$\\newcommand{\\ITA}{\\affiliation{Universität Heidelberg, Zentrum für Astronomie, Institut für Theoretische Astrophysik, Albert-Ueberle-Str 2, D-69120 Heidelberg, Germany}}$\n",
       "$\\newcommand{\\IWR}{\\affiliation{Universität Heidelberg, Interdisziplinäres Zentrum für Wissenschaftliches Rechnen, Im Neuenheimer Feld 205, D-69120 Heidelberg, Germany}}$\n",
       "$\\newcommand{\\JHU}{\\affiliation{Department of Physics and Astronomy, The Johns Hopkins University, Baltimore, MD 21218, USA}}$\n",
       "$\\newcommand{\\Leiden}{\\affiliation{Leiden Observatory, Leiden University, P.O. Box 9513, 2300 RA Leiden, The Netherlands}}$\n",
       "$\\newcommand{\\Maryland}{\\affiliation{Department of Astronomy, University of Maryland, College Park, MD 20742, USA}}$\n",
       "$\\newcommand{\\MPE}{\\affiliation{Max-Planck-Institut für extraterrestrische Physik, Giessenbachstra{\\ss}e 1, D-85748 Garching, Germany}}$\n",
       "$\\newcommand{\\MPIA}{\\affiliation{Max-Planck-Institut für Astronomie, Königstuhl 17, D-69117, Heidelberg, Germany}}$\n",
       "$\\newcommand{\\Nagoya}{\\affiliation{Department of Physics, Nagoya University, Furo-cho, Chikusa-ku, Nagoya, Aichi 464-8602, Japan}}$\n",
       "$\\newcommand{\\NRAO}{\\affiliation{National Radio Astronomy Observatory, 520 Edgemont Road, Charlottesville, VA 22903-2475, USA}}$\n",
       "$\\newcommand{\\OAN}{\\affiliation{Observatorio Astronómico Nacional (IGN), C/Alfonso XII, 3, E-28014 Madrid, Spain}}$\n",
       "$\\newcommand{\\OCAD}{\\affiliation{OCAD University, Toronto, Ontario, M5T 1W1, Canada}}$\n",
       "$\\newcommand{\\ObsParis}{\\affiliation{Sorbonne Université, Observatoire de Paris, Université PSL, CNRS, LERMA, F-75014, Paris, France}}$\n",
       "$\\newcommand{\\Ox}{\\affiliation{Sub-department of Astrophysics, Department of Physics, University of Oxford, Keble Road, Oxford OX1 3RH, UK}}$\n",
       "$\\newcommand{\\Princeton}{\\affiliation{Department of Astrophysical Sciences, Princeton University, Princeton, NJ 08544 USA}}$\n",
       "$\\newcommand{\\UToledo}{\\affiliation{Ritter Astrophysical Research Center, University of Toledo, Toledo, OH, 43606}}$\n",
       "$\\newcommand{\\Toulouse}{\\affiliation{Université de Toulouse, UPS-OMP, IRAP, F-31028 Toulouse cedex 4, France}}$\n",
       "$\\newcommand{\\UBonn}{\\affiliation{Argelander-Institut für Astronomie, Universität Bonn, Auf dem Hügel 71, 53121 Bonn, Germany}}$\n",
       "$\\newcommand{\\UChile}{\\affiliation{Departamento de Astronomía, Universidad de Chile, Camino del Observatorio 1515, Las Condes, Santiago, Chile}}$\n",
       "$\\newcommand{\\UCM}{\\affiliation{Departamento de Física de la Tierra y Astrofísica, Universidad Complutense de Madrid, E-28040 Madrid, Spain}}$\n",
       "$\\newcommand{\\UCSD}{\\affiliation{Center for Astrophysics and Space Sciences, Department of Physics,  University of California,\\ San Diego, 9500 Gilman Drive, La Jolla, CA 92093, USA}}$\n",
       "$\\newcommand{\\ULyon}{\\affiliation{Univ Lyon, Univ Lyon 1, ENS de Lyon, CNRS, Centre de Recherche Astrophysique de Lyon UMR5574,\\ F-69230 Saint-Genis-Laval, France}}$\n",
       "$\\newcommand{\\UMass}{\\affiliation{University of Massachusetts—Amherst, 710 N. Pleasant Street, Amherst, MA 01003, USA}}$\n",
       "$\\newcommand{\\UniCA}{\\affiliation{Université Côte d'Azur, Observatoire de la Côte d'Azur, CNRS, Laboratoire Lagrange, 06000, Nice, France}}$\n",
       "$\\newcommand{\\UWyoming}{\\affiliation{Department of Physics and Astronomy, University of Wyoming, Laramie, WY 82071, USA}}$\n",
       "$\\newcommand{\\LAM}{\\affiliation{$\n",
       "$Aix Marseille Univ, CNRS, CNES, LAM (Laboratoire d’Astrophysique de Marseille),  F-13388 Marseille,$\n",
       "$France}}$\n",
       "$\\newcommand{\\UHawaii}{\\affiliation{Institute for Astronomy, University of Hawaii, 2680 Woodlawn Drive, Honolulu, HI 96822, USA}}$\n",
       "$\\newcommand{\\UGent}{\\affiliation{Sterrenkundig Observatorium, Universiteit Gent, Krijgslaan 281 S9, B-9000 Gent, Belgium}}$\n",
       "$\\newcommand{\\IPARC}{\\affiliation{Instituto de Física de Partículas y del Cosmos IPARCOS, Facultad de Ciencias Físicas, Universidad Complutense de Madrid, E-28040, Spain}}$\n",
       "$\\newcommand{\\STScI}{\\affiliation{Space Telescope Science Institute, 3700 San Martin Drive, Baltimore, MD 21218, USA}}$\n",
       "$\\newcommand{\\McMaster}{\\affiliation{Department of Physics and Astronomy, McMaster University, Hamilton, ON L8S 4M1, Canada}}$\n",
       "$\\newcommand{\\INAF}{\\affiliation{INAF -- Osservatorio Astrofisico di Arcetri, Largo E. Fermi 5, I-50157, Firenze, Italy}}$\n",
       "$\\newcommand{\\Sydney}{\\affiliation{Sydney Institute for Astronomy, School of Physics A28, The University of Sydney, NSW 2006, Australia}}$\n",
       "$\\newcommand{\\UA}{\\affiliation{Centro de Astronomía (CITEVA), Universidad de Antofagasta, Avenida Angamos 601, Antofagasta, Chile}}$\n",
       "$\\newcommand{\\LERMA}{\\affiliation{Observatoire de Paris, PSL Research University, CNRS, Sorbonne Universités, 75014 Paris}}$\n",
       "$\\newcommand{\\SAIMSU}{\\affiliation{Sternberg Astronomical Institute, Lomonosov Moscow State University, Universitetsky pr. 13, 119234 Moscow, Russia}}$\n",
       "$\\newcommand{\\Rad}{\\affiliation{Elizabeth S. and Richard M. Cashin Fellow at the Radcliffe Institute for Advanced Studies at Harvard University, 10 Garden Street, Cambridge, MA 02138, U.S.A.}}$\n",
       "$\\newcommand\\kms{{\\rm km s^{-1}}}$\n",
       "$\\newcommand\\Kkms{{\\rm K km s^{-1}}}$\n",
       "$\\newcommand\\msun{{\\mathrm{M}\\_\\odot}}$\n",
       "$\\newcommand\\lsun{{\\mathrm{L}\\_\\odot}}$\n",
       "$\\newcommand\\micron{\\hbox{\\mum}}$\n",
       "$\\newcommand\\solyr{{\\rm M\\_\\odot yr^{-1}}}$\n",
       "$\\newcommand\\sol{{\\rm M\\_\\odot}}$\n",
       "$\\newcommand\\dyncm{{\\rm dyn cm^{-2}}}$\n",
       "$\\newcommand\\ergs{{\\rm  erg s^{-1}}}$\n",
       "$\\newcommand\\cmsq{{\\rm cm^{-2}}}$\n",
       "$\\newcommand\\cmcb{{\\rm cm^{-3}}}$\n",
       "$\\newcommand\\gcmsq{{\\rm g cm^{-2}}}$\n",
       "$\\newcommand\\gcmcb{{\\rm g cm^{-3}}}$\n",
       "$\\newcommand\\Kcmcb{{\\rm K cm^{-3}}}$\n",
       "$\\newcommand\\ntdp{{\\rm N\\_2D^+}}$\n",
       "$\\newcommand\\fluxdensityunitpix{{\\rm erg s^{-1} cm^{-2} Å^{-1} pix^{-1}}}$\n",
       "$\\newcommand\\fluxunitpix{{\\rm erg s^{-1} cm^{-2} pix^{-1}}}$\n",
       "$\\newcommand\\fluxdensityunit{{\\rm erg s^{-1} cm^{-2} Å^{-1}}}$\n",
       "$\\newcommand\\fluxunit{{\\rm erg s^{-1} cm^{-2}}}$</div>\n",
       "\n",
       "\n",
       "\n",
       "<div id=\"title\">\n",
       "\n",
       "# The PHANGS-HST-H$\\alpha$ Survey: \\ Warm Ionized Gas Physics at High Angular resolution in Nearby GalaxieS with the Hubble Space Telescope\n",
       "\n",
       "</div>\n",
       "<div id=\"comments\">\n",
       "\n",
       "[![arXiv](https://img.shields.io/badge/arXiv-2503.18791-b31b1b.svg)](https://arxiv.org/abs/2503.18791)<mark>Appeared on: 2025-03-25</mark> -  _published in the Astronomical Journal_\n",
       "\n",
       "</div>\n",
       "<div id=\"authors\">\n",
       "\n",
       "R. Chandar, et al. -- incl., <mark>K. Kreckel</mark>, <mark>E. Schinnerer</mark>\n",
       "\n",
       "</div>\n",
       "<div id=\"abstract\">\n",
       "\n",
       "**Abstract:** The PHANGS project is assembling a comprehensive, multi-wavelength dataset of nearby ( $\\sim$ 5-20 Mpc), massive star-forming galaxies to enable multi-phase, multi-scale investigations into the processes that drive star formation and galaxy evolution. To date, large survey programs have provided molecular gas (CO) cubes with ALMA, optical IFU spectroscopy with VLT/MUSE, high-resolution NUV--optical imaging in five broad-band filters with HST, and infrared imaging in NIRCAM $+$ MIRI filters with JWST.  Here, we present PHANGS-HST-H $\\alpha$ , which has obtained high-resolution ( $\\sim$ 2 -- 10 pc), narrow-band imaging in the F658N or F657N filters with the HST/WFC3 camera of the warm ionized gas in the first 19 nearby galaxies observed in common by all four of the PHANGS large programs. We summarize our data reduction process, with a detailed discussion of the production of flux-calibrated, Milky Way extinction corrected, continuum-subtracted H $\\alpha$ maps. PHANGS-MUSE IFU spectroscopy data are used to background subtract the HST-H $\\alpha$ maps, and to determine the [ NII ] correction factors for each galaxy. We describe our public data products $\\footnote{The data released as part of this work includes the reduced drizzled narrow-band images and the flux-calibrated, continuum-subtracted H$\\alpha$ maps for each galaxy.  These images are available for download via MAST at \\url{https://archive.stsci.edu/hlsp/phangs.html}, as well as at the Canadian Astronomy Data Centre as part of the PHANGS archive at \\url{https://www.canfar.net/storage/vault/list/phangs/RELEASES}.}$ and highlight a few key science cases enabled by the PHANGS-HST-H $\\alpha$ observations.\n",
       "\n",
       "</div>\n",
       "\n",
       "<div id=\"div_fig1\">\n",
       "\n",
       "<img src=\"tmp_2503.18791/./figures/ngc628c_scatter_anchor_contsub.png\" alt=\"Fig1\" width=\"100%\"/>\n",
       "\n",
       "**Figure 1. -** **Results of the [N II] $\\lambda$6548Å and [N II] $\\lambda$6583Å line correction routine (\\S \\ref{subsec_contsub2**).} H$\\alpha$ fluxes from the continuum subtracted MUSE synthetic filter maps as a function of the H$\\alpha$ flux densities measured from the MUSE spectroscopic data. The blue circles represent 20 binned data points (equally spaced), and the dashed blue line shows the best linear fit to these points ($y = ax + b$), where $y$ represents the HST image data points and $x$ represents the MUSE data points (see Table \\ref{tab_bgcorr_niicorr}). The dotted line shows the 1-to-1 line. (*fig_scatteranchor*)\n",
       "\n",
       "</div>\n",
       "<div id=\"div_fig2\">\n",
       "\n",
       "<img src=\"tmp_2503.18791/./ms_ks.png\" alt=\"Fig6\" width=\"100%\"/>\n",
       "\n",
       "**Figure 6. -** ** Left:** Galaxies from the SDSS sample with $z \\lesssim 0.1$ form the backdrop of the left panel, where the galaxy star-forming sequence is the prominent upper feature. Coverage of the SFR--M$_*$ plane by galaxies in the parent PHANGS sample ($N=74$; open circles) is shown.\n",
       "        Red crosses show that the 19 galaxies observed as part of the HST-H$\\alpha$ project tend to have higher SFRs.\n",
       "        ** Right:** The star formation and molecular gas surface brightness  ([Sun, Leroy and Rosolowsky 2022]())  for the parent PHANGS sample (open circles) and the PHANGS-HST-H$\\alpha$ subsample studied here (red crosses).  Outlier NGC 3239 is noted.\n",
       "     (*fig:sample*)\n",
       "\n",
       "</div>\n",
       "<div id=\"div_fig3\">\n",
       "\n",
       "<img src=\"tmp_2503.18791/./figures/ngc628c_filters_spec.png\" alt=\"Fig9.1\" width=\"50%\"/><img src=\"tmp_2503.18791/./figures/ngc2835s_filters_spec.png\" alt=\"Fig9.2\" width=\"50%\"/>\n",
       "\n",
       "**Figure 9. -** **Example MUSE spectra compared with HST filter transmission curves (ACS/WFC and WFC3/UVIS).**\n",
       "    Example spectra from NGC 628 (top panel) and NGC 2835 (bottom panel) are shown as solid black lines, overlaid with the F555W (blue), F658N (orange), and F814W (green) filter transmission curves for ACS/WFC (top panel) and WFC3/UVIS  (bottom panel). The left panel displays the full wavelength range of the MUSE observations, with dashed vertical lines marking the coverage limits. In the right panel, we focus on the $\\Ha$ line within the F658N filter bandpass, which includes contributions from the [NII]$\\lambda6548$ and [NII]$\\lambda6583$ emission lines. (*fig_filters_spec*)\n",
       "\n",
       "</div><div id=\"qrcode\"><img src=https://api.qrserver.com/v1/create-qr-code/?size=100x100&data=\"https://arxiv.org/abs/2503.18791\"></div>"
      ],
      "text/plain": [
       "<IPython.core.display.Markdown object>"
      ]
     },
     "metadata": {},
     "output_type": "display_data"
    }
   ],
   "source": [
    "[display(Markdown(k[1])) for k in documents];"
   ]
  },
  {
   "cell_type": "markdown",
   "id": "873873a4",
   "metadata": {
    "papermill": {
     "duration": 0.006533,
     "end_time": "2025-03-25T04:19:31.278721",
     "exception": false,
     "start_time": "2025-03-25T04:19:31.272188",
     "status": "completed"
    },
    "tags": []
   },
   "source": [
    "# Create HTML index"
   ]
  },
  {
   "cell_type": "code",
   "execution_count": 10,
   "id": "cf665672",
   "metadata": {
    "execution": {
     "iopub.execute_input": "2025-03-25T04:19:31.291993Z",
     "iopub.status.busy": "2025-03-25T04:19:31.291381Z",
     "iopub.status.idle": "2025-03-25T04:19:31.301531Z",
     "shell.execute_reply": "2025-03-25T04:19:31.300956Z"
    },
    "papermill": {
     "duration": 0.017876,
     "end_time": "2025-03-25T04:19:31.302565",
     "exception": false,
     "start_time": "2025-03-25T04:19:31.284689",
     "status": "completed"
    },
    "tags": []
   },
   "outputs": [
    {
     "name": "stdout",
     "output_type": "stream",
     "text": [
      "406  publications files modified in the last 7 days.\n"
     ]
    }
   ],
   "source": [
    "from datetime import datetime, timedelta, timezone\n",
    "from glob import glob\n",
    "import os\n",
    "\n",
    "files = glob('_build/html/*.md')\n",
    "days = 7\n",
    "now = datetime.today()\n",
    "res = []\n",
    "for fk in files:\n",
    "    stat_result = os.stat(fk).st_ctime\n",
    "    modified = datetime.fromtimestamp(stat_result, tz=timezone.utc).replace(tzinfo=None)\n",
    "    delta = now.today() - modified\n",
    "    if delta <= timedelta(days=days):\n",
    "        res.append((delta.seconds, fk))\n",
    "res = [k[1] for k in reversed(sorted(res, key=lambda x:x[1]))]\n",
    "npub = len(res)\n",
    "print(len(res), f\" publications files modified in the last {days:d} days.\")\n",
    "# [ print('\\t', k) for k in res ];"
   ]
  },
  {
   "cell_type": "code",
   "execution_count": 11,
   "id": "015de740",
   "metadata": {
    "execution": {
     "iopub.execute_input": "2025-03-25T04:19:31.315882Z",
     "iopub.status.busy": "2025-03-25T04:19:31.315563Z",
     "iopub.status.idle": "2025-03-25T04:19:31.338274Z",
     "shell.execute_reply": "2025-03-25T04:19:31.337592Z"
    },
    "papermill": {
     "duration": 0.030554,
     "end_time": "2025-03-25T04:19:31.339319",
     "exception": false,
     "start_time": "2025-03-25T04:19:31.308765",
     "status": "completed"
    },
    "tags": []
   },
   "outputs": [
    {
     "name": "stdout",
     "output_type": "stream",
     "text": [
      "41  publications in the last 7 days.\n"
     ]
    }
   ],
   "source": [
    "import datetime\n",
    "from glob import glob\n",
    "\n",
    "def get_last_n_days(lst, days=1):\n",
    "    \"\"\" Get the documents from the last n days \"\"\"\n",
    "    sorted_lst = sorted(lst, key=lambda x: x[1], reverse=True)\n",
    "    for fname, date in sorted_lst:\n",
    "        if date >= str(datetime.date.today() - datetime.timedelta(days=days)):\n",
    "            yield fname\n",
    "\n",
    "def extract_appearance_dates(lst_file):\n",
    "    dates = []\n",
    "\n",
    "    def get_date(line):\n",
    "        return line\\\n",
    "            .split('Appeared on:')[-1]\\\n",
    "            .split('</mark>')[0].strip()\n",
    "\n",
    "    for fname in lst:\n",
    "        with open(fname, 'r') as f:\n",
    "            found_date = False\n",
    "            for line in f:\n",
    "                if not found_date:\n",
    "                    if \"Appeared on\" in line:\n",
    "                        found_date = True\n",
    "                        dates.append((fname, get_date(line)))\n",
    "                else:\n",
    "                    break\n",
    "    return dates\n",
    "\n",
    "from glob import glob\n",
    "lst = glob('_build/html/*md')\n",
    "days = 7\n",
    "dates = extract_appearance_dates(lst)\n",
    "res = list(get_last_n_days(dates, days))\n",
    "npub = len(res)\n",
    "print(len(res), f\" publications in the last {days:d} days.\")"
   ]
  },
  {
   "cell_type": "code",
   "execution_count": 12,
   "id": "52ca0208",
   "metadata": {
    "execution": {
     "iopub.execute_input": "2025-03-25T04:19:31.352824Z",
     "iopub.status.busy": "2025-03-25T04:19:31.352330Z",
     "iopub.status.idle": "2025-03-25T04:19:31.357474Z",
     "shell.execute_reply": "2025-03-25T04:19:31.356949Z"
    },
    "papermill": {
     "duration": 0.012757,
     "end_time": "2025-03-25T04:19:31.358450",
     "exception": false,
     "start_time": "2025-03-25T04:19:31.345693",
     "status": "completed"
    },
    "scrolled": false,
    "tags": []
   },
   "outputs": [],
   "source": [
    "def create_carousel(npub=4):\n",
    "    \"\"\" Generate the HTML code for a carousel with `npub` slides \"\"\"\n",
    "    carousel = [\"\"\"  <div class=\"carousel\" \"\"\",\n",
    "                \"\"\"       data-flickity='{ \"autoPlay\": 10000, \"adaptiveHeight\": true, \"resize\": true, \"wrapAround\": true, \"pauseAutoPlayOnHover\": true, \"groupCells\": 1 }' id=\"asyncTypeset\">\"\"\"\n",
    "                ]\n",
    "    \n",
    "    item_str = \"\"\"    <div class=\"carousel-cell\"> <div id=\"slide{k}\" class=\"md_view\">Content {k}</div> </div>\"\"\"\n",
    "    for k in range(1, npub + 1):\n",
    "        carousel.append(item_str.format(k=k))\n",
    "    carousel.append(\"  </div>\")\n",
    "    return '\\n'.join(carousel)\n",
    "\n",
    "def create_grid(npub=4):\n",
    "    \"\"\" Generate the HTML code for a flat grid with `npub` slides \"\"\"\n",
    "    grid = [\"\"\"  <div class=\"grid\"> \"\"\",\n",
    "                ]\n",
    "    \n",
    "    item_str = \"\"\"    <div class=\"grid-item\"> <div id=\"slide{k}\" class=\"md_view\">Content {k}</div> </div>\"\"\"\n",
    "    for k in range(1, npub + 1):\n",
    "        grid.append(item_str.format(k=k))\n",
    "    grid.append(\"  </div>\")\n",
    "    return '\\n'.join(grid)"
   ]
  },
  {
   "cell_type": "code",
   "execution_count": 13,
   "id": "a6eac5b6",
   "metadata": {
    "execution": {
     "iopub.execute_input": "2025-03-25T04:19:31.371775Z",
     "iopub.status.busy": "2025-03-25T04:19:31.371284Z",
     "iopub.status.idle": "2025-03-25T04:19:31.376406Z",
     "shell.execute_reply": "2025-03-25T04:19:31.375885Z"
    },
    "papermill": {
     "duration": 0.012765,
     "end_time": "2025-03-25T04:19:31.377403",
     "exception": false,
     "start_time": "2025-03-25T04:19:31.364638",
     "status": "completed"
    },
    "scrolled": false,
    "tags": []
   },
   "outputs": [],
   "source": [
    "carousel = create_carousel(npub)\n",
    "docs = ', '.join(['\"{0:s}\"'.format(k.split('/')[-1]) for k in res])\n",
    "slides = ', '.join([f'\"slide{k}\"' for k in range(1, npub + 1)])\n",
    "\n",
    "with open(\"daily_template.html\", \"r\") as tpl:\n",
    "    page = tpl.read()\n",
    "    page = page.replace(\"{%-- carousel:s --%}\", carousel)\\\n",
    "               .replace(\"{%-- suptitle:s --%}\",  \"7-day archives\" )\\\n",
    "               .replace(\"{%-- docs:s --%}\", docs)\\\n",
    "               .replace(\"{%-- slides:s --%}\", slides)\n",
    "    \n",
    "with open(\"_build/html/index_7days.html\", 'w') as fout:\n",
    "    fout.write(page)"
   ]
  },
  {
   "cell_type": "code",
   "execution_count": 14,
   "id": "adc1a1ec",
   "metadata": {
    "execution": {
     "iopub.execute_input": "2025-03-25T04:19:31.390651Z",
     "iopub.status.busy": "2025-03-25T04:19:31.390221Z",
     "iopub.status.idle": "2025-03-25T04:19:31.397270Z",
     "shell.execute_reply": "2025-03-25T04:19:31.396754Z"
    },
    "papermill": {
     "duration": 0.014801,
     "end_time": "2025-03-25T04:19:31.398304",
     "exception": false,
     "start_time": "2025-03-25T04:19:31.383503",
     "status": "completed"
    },
    "tags": []
   },
   "outputs": [
    {
     "name": "stdout",
     "output_type": "stream",
     "text": [
      "10  publications in the last day.\n"
     ]
    }
   ],
   "source": [
    "# redo for today\n",
    "days = 1\n",
    "res = list(get_last_n_days(dates, days))\n",
    "npub = len(res)\n",
    "print(len(res), f\" publications in the last day.\")\n",
    "\n",
    "carousel = create_carousel(npub)\n",
    "docs = ', '.join(['\"{0:s}\"'.format(k.split('/')[-1]) for k in res])\n",
    "slides = ', '.join([f'\"slide{k}\"' for k in range(1, npub + 1)])\n",
    "\n",
    "with open(\"daily_template.html\", \"r\") as tpl:\n",
    "    page = tpl.read()\n",
    "    page = page.replace(\"{%-- carousel:s --%}\", carousel)\\\n",
    "               .replace(\"{%-- suptitle:s --%}\",  \"Daily\" )\\\n",
    "               .replace(\"{%-- docs:s --%}\", docs)\\\n",
    "               .replace(\"{%-- slides:s --%}\", slides)\n",
    "    \n",
    "# print(carousel, docs, slides)\n",
    "# print(page)\n",
    "with open(\"_build/html/index_daily.html\", 'w') as fout:\n",
    "    fout.write(page)"
   ]
  },
  {
   "cell_type": "code",
   "execution_count": 15,
   "id": "00eece82",
   "metadata": {
    "execution": {
     "iopub.execute_input": "2025-03-25T04:19:31.411867Z",
     "iopub.status.busy": "2025-03-25T04:19:31.411407Z",
     "iopub.status.idle": "2025-03-25T04:19:31.418609Z",
     "shell.execute_reply": "2025-03-25T04:19:31.418038Z"
    },
    "papermill": {
     "duration": 0.015011,
     "end_time": "2025-03-25T04:19:31.419669",
     "exception": false,
     "start_time": "2025-03-25T04:19:31.404658",
     "status": "completed"
    },
    "scrolled": false,
    "tags": []
   },
   "outputs": [
    {
     "name": "stdout",
     "output_type": "stream",
     "text": [
      "6  6 publications selected.\n"
     ]
    }
   ],
   "source": [
    "# Create the flat grid of the last N papers (fixed number regardless of dates)\n",
    "from itertools import islice \n",
    "\n",
    "npub = 6\n",
    "res = [k[0] for k in (islice(reversed(sorted(dates, key=lambda x: x[1])), 6))]\n",
    "print(len(res), f\" {npub} publications selected.\")\n",
    "\n",
    "grid = create_grid(npub)\n",
    "docs = ', '.join(['\"{0:s}\"'.format(k.split('/')[-1]) for k in res])\n",
    "slides = ', '.join([f'\"slide{k}\"' for k in range(1, npub + 1)])\n",
    "\n",
    "with open(\"grid_template.html\", \"r\") as tpl:\n",
    "    page = tpl.read()\n",
    "    page = page.replace(\"{%-- grid-content:s --%}\", grid)\\\n",
    "               .replace(\"{%-- suptitle:s --%}\",  f\"Last {npub:,d} papers\" )\\\n",
    "               .replace(\"{%-- docs:s --%}\", docs)\\\n",
    "               .replace(\"{%-- slides:s --%}\", slides)\n",
    "    \n",
    "# print(grid, docs, slides)\n",
    "# print(page)\n",
    "with open(\"_build/html/index_npub_grid.html\", 'w') as fout:\n",
    "    fout.write(page)"
   ]
  }
 ],
 "metadata": {
  "kernelspec": {
   "display_name": "Python 3 (ipykernel)",
   "language": "python",
   "name": "python3"
  },
  "language_info": {
   "codemirror_mode": {
    "name": "ipython",
    "version": 3
   },
   "file_extension": ".py",
   "mimetype": "text/x-python",
   "name": "python",
   "nbconvert_exporter": "python",
   "pygments_lexer": "ipython3",
   "version": "3.9.21"
  },
  "papermill": {
   "default_parameters": {},
   "duration": 461.655622,
   "end_time": "2025-03-25T04:19:31.742274",
   "environment_variables": {},
   "exception": null,
   "input_path": "MPIA daily digest.ipynb",
   "output_path": "log.ipynb",
   "parameters": {},
   "start_time": "2025-03-25T04:11:50.086652",
   "version": "2.6.0"
  },
  "vscode": {
   "interpreter": {
    "hash": "aee8b7b246df8f9039afb4144a1f6fd8d2ca17a180786b69acc140d282b71a49"
   }
  },
  "widgets": {
   "application/vnd.jupyter.widget-state+json": {
    "state": {
     "32fe063100604d95a0ce1b455c2390d9": {
      "model_module": "@jupyter-widgets/controls",
      "model_module_version": "2.0.0",
      "model_name": "HBoxModel",
      "state": {
       "_dom_classes": [],
       "_model_module": "@jupyter-widgets/controls",
       "_model_module_version": "2.0.0",
       "_model_name": "HBoxModel",
       "_view_count": null,
       "_view_module": "@jupyter-widgets/controls",
       "_view_module_version": "2.0.0",
       "_view_name": "HBoxView",
       "box_style": "",
       "children": [
        "IPY_MODEL_d15d4020a8904927909519e68fd0d6a4",
        "IPY_MODEL_6a5881ea53404c52b00ea3d35a339622",
        "IPY_MODEL_fef041c3776d49868673e10bacb14f5a"
       ],
       "layout": "IPY_MODEL_c3383bfa6e5b4bc3bf5f171a7d94a292",
       "tabbable": null,
       "tooltip": null
      }
     },
     "596fad4eac884e558638e420ddaccec3": {
      "model_module": "@jupyter-widgets/controls",
      "model_module_version": "2.0.0",
      "model_name": "ProgressStyleModel",
      "state": {
       "_model_module": "@jupyter-widgets/controls",
       "_model_module_version": "2.0.0",
       "_model_name": "ProgressStyleModel",
       "_view_count": null,
       "_view_module": "@jupyter-widgets/base",
       "_view_module_version": "2.0.0",
       "_view_name": "StyleView",
       "bar_color": null,
       "description_width": ""
      }
     },
     "5f81bdbb7ed94080b0829cb12f9d5a26": {
      "model_module": "@jupyter-widgets/controls",
      "model_module_version": "2.0.0",
      "model_name": "HTMLStyleModel",
      "state": {
       "_model_module": "@jupyter-widgets/controls",
       "_model_module_version": "2.0.0",
       "_model_name": "HTMLStyleModel",
       "_view_count": null,
       "_view_module": "@jupyter-widgets/base",
       "_view_module_version": "2.0.0",
       "_view_name": "StyleView",
       "background": null,
       "description_width": "",
       "font_size": null,
       "text_color": null
      }
     },
     "6a5881ea53404c52b00ea3d35a339622": {
      "model_module": "@jupyter-widgets/controls",
      "model_module_version": "2.0.0",
      "model_name": "FloatProgressModel",
      "state": {
       "_dom_classes": [],
       "_model_module": "@jupyter-widgets/controls",
       "_model_module_version": "2.0.0",
       "_model_name": "FloatProgressModel",
       "_view_count": null,
       "_view_module": "@jupyter-widgets/controls",
       "_view_module_version": "2.0.0",
       "_view_name": "ProgressView",
       "bar_style": "success",
       "description": "",
       "description_allow_html": false,
       "layout": "IPY_MODEL_7e364d9120fc43bdae59a53598612a9d",
       "max": 6.0,
       "min": 0.0,
       "orientation": "horizontal",
       "style": "IPY_MODEL_596fad4eac884e558638e420ddaccec3",
       "tabbable": null,
       "tooltip": null,
       "value": 6.0
      }
     },
     "7e364d9120fc43bdae59a53598612a9d": {
      "model_module": "@jupyter-widgets/base",
      "model_module_version": "2.0.0",
      "model_name": "LayoutModel",
      "state": {
       "_model_module": "@jupyter-widgets/base",
       "_model_module_version": "2.0.0",
       "_model_name": "LayoutModel",
       "_view_count": null,
       "_view_module": "@jupyter-widgets/base",
       "_view_module_version": "2.0.0",
       "_view_name": "LayoutView",
       "align_content": null,
       "align_items": null,
       "align_self": null,
       "border_bottom": null,
       "border_left": null,
       "border_right": null,
       "border_top": null,
       "bottom": null,
       "display": null,
       "flex": null,
       "flex_flow": null,
       "grid_area": null,
       "grid_auto_columns": null,
       "grid_auto_flow": null,
       "grid_auto_rows": null,
       "grid_column": null,
       "grid_gap": null,
       "grid_row": null,
       "grid_template_areas": null,
       "grid_template_columns": null,
       "grid_template_rows": null,
       "height": null,
       "justify_content": null,
       "justify_items": null,
       "left": null,
       "margin": null,
       "max_height": null,
       "max_width": null,
       "min_height": null,
       "min_width": null,
       "object_fit": null,
       "object_position": null,
       "order": null,
       "overflow": null,
       "padding": null,
       "right": null,
       "top": null,
       "visibility": null,
       "width": null
      }
     },
     "c3383bfa6e5b4bc3bf5f171a7d94a292": {
      "model_module": "@jupyter-widgets/base",
      "model_module_version": "2.0.0",
      "model_name": "LayoutModel",
      "state": {
       "_model_module": "@jupyter-widgets/base",
       "_model_module_version": "2.0.0",
       "_model_name": "LayoutModel",
       "_view_count": null,
       "_view_module": "@jupyter-widgets/base",
       "_view_module_version": "2.0.0",
       "_view_name": "LayoutView",
       "align_content": null,
       "align_items": null,
       "align_self": null,
       "border_bottom": null,
       "border_left": null,
       "border_right": null,
       "border_top": null,
       "bottom": null,
       "display": null,
       "flex": null,
       "flex_flow": null,
       "grid_area": null,
       "grid_auto_columns": null,
       "grid_auto_flow": null,
       "grid_auto_rows": null,
       "grid_column": null,
       "grid_gap": null,
       "grid_row": null,
       "grid_template_areas": null,
       "grid_template_columns": null,
       "grid_template_rows": null,
       "height": null,
       "justify_content": null,
       "justify_items": null,
       "left": null,
       "margin": null,
       "max_height": null,
       "max_width": null,
       "min_height": null,
       "min_width": null,
       "object_fit": null,
       "object_position": null,
       "order": null,
       "overflow": null,
       "padding": null,
       "right": null,
       "top": null,
       "visibility": null,
       "width": null
      }
     },
     "d15d4020a8904927909519e68fd0d6a4": {
      "model_module": "@jupyter-widgets/controls",
      "model_module_version": "2.0.0",
      "model_name": "HTMLModel",
      "state": {
       "_dom_classes": [],
       "_model_module": "@jupyter-widgets/controls",
       "_model_module_version": "2.0.0",
       "_model_name": "HTMLModel",
       "_view_count": null,
       "_view_module": "@jupyter-widgets/controls",
       "_view_module_version": "2.0.0",
       "_view_name": "HTMLView",
       "description": "",
       "description_allow_html": false,
       "layout": "IPY_MODEL_e1764528648441efb3c2be52d4abe32a",
       "placeholder": "​",
       "style": "IPY_MODEL_5f81bdbb7ed94080b0829cb12f9d5a26",
       "tabbable": null,
       "tooltip": null,
       "value": "100%"
      }
     },
     "db97644242ae4c11be76d1f62b90da53": {
      "model_module": "@jupyter-widgets/controls",
      "model_module_version": "2.0.0",
      "model_name": "HTMLStyleModel",
      "state": {
       "_model_module": "@jupyter-widgets/controls",
       "_model_module_version": "2.0.0",
       "_model_name": "HTMLStyleModel",
       "_view_count": null,
       "_view_module": "@jupyter-widgets/base",
       "_view_module_version": "2.0.0",
       "_view_name": "StyleView",
       "background": null,
       "description_width": "",
       "font_size": null,
       "text_color": null
      }
     },
     "e1764528648441efb3c2be52d4abe32a": {
      "model_module": "@jupyter-widgets/base",
      "model_module_version": "2.0.0",
      "model_name": "LayoutModel",
      "state": {
       "_model_module": "@jupyter-widgets/base",
       "_model_module_version": "2.0.0",
       "_model_name": "LayoutModel",
       "_view_count": null,
       "_view_module": "@jupyter-widgets/base",
       "_view_module_version": "2.0.0",
       "_view_name": "LayoutView",
       "align_content": null,
       "align_items": null,
       "align_self": null,
       "border_bottom": null,
       "border_left": null,
       "border_right": null,
       "border_top": null,
       "bottom": null,
       "display": null,
       "flex": null,
       "flex_flow": null,
       "grid_area": null,
       "grid_auto_columns": null,
       "grid_auto_flow": null,
       "grid_auto_rows": null,
       "grid_column": null,
       "grid_gap": null,
       "grid_row": null,
       "grid_template_areas": null,
       "grid_template_columns": null,
       "grid_template_rows": null,
       "height": null,
       "justify_content": null,
       "justify_items": null,
       "left": null,
       "margin": null,
       "max_height": null,
       "max_width": null,
       "min_height": null,
       "min_width": null,
       "object_fit": null,
       "object_position": null,
       "order": null,
       "overflow": null,
       "padding": null,
       "right": null,
       "top": null,
       "visibility": null,
       "width": null
      }
     },
     "ec2655523f1a4b63a436fc334cf37758": {
      "model_module": "@jupyter-widgets/base",
      "model_module_version": "2.0.0",
      "model_name": "LayoutModel",
      "state": {
       "_model_module": "@jupyter-widgets/base",
       "_model_module_version": "2.0.0",
       "_model_name": "LayoutModel",
       "_view_count": null,
       "_view_module": "@jupyter-widgets/base",
       "_view_module_version": "2.0.0",
       "_view_name": "LayoutView",
       "align_content": null,
       "align_items": null,
       "align_self": null,
       "border_bottom": null,
       "border_left": null,
       "border_right": null,
       "border_top": null,
       "bottom": null,
       "display": null,
       "flex": null,
       "flex_flow": null,
       "grid_area": null,
       "grid_auto_columns": null,
       "grid_auto_flow": null,
       "grid_auto_rows": null,
       "grid_column": null,
       "grid_gap": null,
       "grid_row": null,
       "grid_template_areas": null,
       "grid_template_columns": null,
       "grid_template_rows": null,
       "height": null,
       "justify_content": null,
       "justify_items": null,
       "left": null,
       "margin": null,
       "max_height": null,
       "max_width": null,
       "min_height": null,
       "min_width": null,
       "object_fit": null,
       "object_position": null,
       "order": null,
       "overflow": null,
       "padding": null,
       "right": null,
       "top": null,
       "visibility": null,
       "width": null
      }
     },
     "fef041c3776d49868673e10bacb14f5a": {
      "model_module": "@jupyter-widgets/controls",
      "model_module_version": "2.0.0",
      "model_name": "HTMLModel",
      "state": {
       "_dom_classes": [],
       "_model_module": "@jupyter-widgets/controls",
       "_model_module_version": "2.0.0",
       "_model_name": "HTMLModel",
       "_view_count": null,
       "_view_module": "@jupyter-widgets/controls",
       "_view_module_version": "2.0.0",
       "_view_name": "HTMLView",
       "description": "",
       "description_allow_html": false,
       "layout": "IPY_MODEL_ec2655523f1a4b63a436fc334cf37758",
       "placeholder": "​",
       "style": "IPY_MODEL_db97644242ae4c11be76d1f62b90da53",
       "tabbable": null,
       "tooltip": null,
       "value": " 6/6 [07:20&lt;00:00, 78.61s/it]"
      }
     }
    },
    "version_major": 2,
    "version_minor": 0
   }
  }
 },
 "nbformat": 4,
 "nbformat_minor": 5
}