{
 "cells": [
  {
   "cell_type": "markdown",
   "id": "92bcb855",
   "metadata": {
    "papermill": {
     "duration": 0.0061,
     "end_time": "2022-11-01T05:04:30.265681",
     "exception": false,
     "start_time": "2022-11-01T05:04:30.259581",
     "status": "completed"
    },
    "tags": []
   },
   "source": [
    "# MPIA Arxiv on Deck 2\n",
    "\n",
    "Contains the steps to produce the paper extractions."
   ]
  },
  {
   "cell_type": "code",
   "execution_count": 1,
   "id": "3a0d6e11",
   "metadata": {
    "execution": {
     "iopub.execute_input": "2022-11-01T05:04:30.276358Z",
     "iopub.status.busy": "2022-11-01T05:04:30.275694Z",
     "iopub.status.idle": "2022-11-01T05:04:30.451771Z",
     "shell.execute_reply": "2022-11-01T05:04:30.451015Z"
    },
    "papermill": {
     "duration": 0.183471,
     "end_time": "2022-11-01T05:04:30.453820",
     "exception": false,
     "start_time": "2022-11-01T05:04:30.270349",
     "status": "completed"
    },
    "tags": []
   },
   "outputs": [],
   "source": [
    "# Imports\n",
    "import os\n",
    "from IPython.display import Markdown, display\n",
    "from tqdm.notebook import tqdm\n",
    "import warnings\n",
    "from PIL import Image \n",
    "\n",
    "# requires arxiv_on_deck_2\n",
    "\n",
    "from arxiv_on_deck_2.arxiv2 import (get_new_papers, \n",
    "                                    get_paper_from_identifier,\n",
    "                                    retrieve_document_source, \n",
    "                                    get_markdown_badge)\n",
    "from arxiv_on_deck_2 import (latex, \n",
    "                             mpia,\n",
    "                             highlight_authors_in_list)\n",
    "\n",
    "# Sometimes images are really big\n",
    "Image.MAX_IMAGE_PIXELS = 1000000000 "
   ]
  },
  {
   "cell_type": "code",
   "execution_count": 2,
   "id": "22aa9d44",
   "metadata": {
    "execution": {
     "iopub.execute_input": "2022-11-01T05:04:30.463967Z",
     "iopub.status.busy": "2022-11-01T05:04:30.463262Z",
     "iopub.status.idle": "2022-11-01T05:04:30.468258Z",
     "shell.execute_reply": "2022-11-01T05:04:30.467630Z"
    },
    "papermill": {
     "duration": 0.01175,
     "end_time": "2022-11-01T05:04:30.469941",
     "exception": false,
     "start_time": "2022-11-01T05:04:30.458191",
     "status": "completed"
    },
    "tags": []
   },
   "outputs": [],
   "source": [
    "# Some useful definitions.\n",
    "\n",
    "class AffiliationWarning(UserWarning):\n",
    "    pass\n",
    "\n",
    "class AffiliationError(RuntimeError):\n",
    "    pass\n",
    "\n",
    "def validation(source: str):\n",
    "    \"\"\"Raises error paper during parsing of source file\n",
    "    \n",
    "    Allows checks before parsing TeX code.\n",
    "    \n",
    "    Raises AffiliationWarning\n",
    "    \"\"\"\n",
    "    check = mpia.affiliation_verifications(source, verbose=True)\n",
    "    if check is not True:\n",
    "        raise AffiliationError(\"mpia.affiliation_verifications: \" + check)\n",
    "\n",
    "        \n",
    "warnings.simplefilter('always', AffiliationWarning)"
   ]
  },
  {
   "cell_type": "code",
   "execution_count": 3,
   "id": "14622700",
   "metadata": {
    "execution": {
     "iopub.execute_input": "2022-11-01T05:04:30.480934Z",
     "iopub.status.busy": "2022-11-01T05:04:30.480365Z",
     "iopub.status.idle": "2022-11-01T05:04:30.484175Z",
     "shell.execute_reply": "2022-11-01T05:04:30.483554Z"
    },
    "papermill": {
     "duration": 0.011745,
     "end_time": "2022-11-01T05:04:30.485688",
     "exception": false,
     "start_time": "2022-11-01T05:04:30.473943",
     "status": "completed"
    },
    "tags": []
   },
   "outputs": [],
   "source": [
    "# additional CSS to consider. \n",
    "# TODO: Current into each exported file. \n",
    "#       This should be set once into the webpages directly.\n",
    "#       With only the class/id definitions in the .md files.\n",
    "\n",
    "debug_html = \"\"\"\n",
    "<style>\n",
    "#wrap{ overflow:auto; }\n",
    "#fig1{ background:yellow; width:100%; float:left; padding:5px;  }\n",
    "#fig2{ background:red; width:50%; float:left; clear:left; padding:5px;  }\n",
    "#fig3{ background:green; width:50%; float:left; padding:5px;   }\n",
    ".macros{ background:yellow; visibility:visible;}\n",
    "h1 {margin: 0 0 0 0;}\n",
    "mark {background-color:#fff3b6;}\n",
    "img {object-fit:contain; max-height:250px; display:inline-block; text-align: center;}\n",
    "</style>\n",
    "\"\"\" \n",
    "html = \"\"\"\n",
    "<style>\n",
    "#wrap{ overflow:auto; }\n",
    "#fig1{ width:100%; float:left; padding: 5px;  }\n",
    "#fig2{ width:50%; float:left; clear:left; padding: 5px;  }\n",
    "#fig3{ width:50%; float:left; padding: 5px;  }\n",
    ".macros{ visibility:hidden; height:0px; }\n",
    "h1 {margin: 0em 0 0 0;}\n",
    "mark {background-color:#fff3b6;}\n",
    "img {object-fit:contain; max-height:250px; display:inline-block; text-align: center;}\n",
    "</style>\n",
    "\"\"\""
   ]
  },
  {
   "cell_type": "markdown",
   "id": "14bd6310",
   "metadata": {
    "papermill": {
     "duration": 0.003932,
     "end_time": "2022-11-01T05:04:30.493469",
     "exception": false,
     "start_time": "2022-11-01T05:04:30.489537",
     "status": "completed"
    },
    "tags": []
   },
   "source": [
    "## get list of arxiv paper candidates\n",
    "\n",
    "We use the MPIA mitarbeiter list webpage from mpia.de to get author names\n",
    "We then get all new papers from Arxiv and match authors"
   ]
  },
  {
   "cell_type": "code",
   "execution_count": 4,
   "id": "2645e73a",
   "metadata": {
    "execution": {
     "iopub.execute_input": "2022-11-01T05:04:30.502406Z",
     "iopub.status.busy": "2022-11-01T05:04:30.502184Z",
     "iopub.status.idle": "2022-11-01T05:04:59.005129Z",
     "shell.execute_reply": "2022-11-01T05:04:59.003756Z"
    },
    "papermill": {
     "duration": 28.509778,
     "end_time": "2022-11-01T05:04:59.007147",
     "exception": false,
     "start_time": "2022-11-01T05:04:30.497369",
     "status": "completed"
    },
    "tags": []
   },
   "outputs": [
    {
     "name": "stdout",
     "output_type": "stream",
     "text": [
      "Arxiv has 88 new papers today\n",
      "          27 with possible author matches\n"
     ]
    }
   ],
   "source": [
    "# get list from MPIA website\n",
    "# it automatically filters identified non-scientists :func:`mpia.filter_non_scientists`\n",
    "mpia_authors = mpia.get_mpia_mitarbeiter_list()\n",
    "new_papers = get_new_papers()\n",
    "# add manual references\n",
    "add_paper_refs = []\n",
    "new_papers.extend([get_paper_from_identifier(k) for k in add_paper_refs])\n",
    "\n",
    "# select only papers with matching author names and highlight authors\n",
    "hl_list = [k[0] for k in mpia_authors]\n",
    "\n",
    "candidates = []\n",
    "for paperk in new_papers:\n",
    "    hl_authors = highlight_authors_in_list(paperk['authors'], hl_list)\n",
    "    matches = [(hl, orig) for hl, orig in zip(hl_authors, paperk['authors']) if 'mark' in hl]\n",
    "    paperk['authors'] = hl_authors\n",
    "    if matches:\n",
    "        candidates.append(paperk)\n",
    "print(\"\"\"Arxiv has {0:,d} new papers today\"\"\".format(len(new_papers)))        \n",
    "print(\"\"\"          {0:,d} with possible author matches\"\"\".format(len(candidates)))"
   ]
  },
  {
   "cell_type": "markdown",
   "id": "3543b34a",
   "metadata": {
    "papermill": {
     "duration": 0.004534,
     "end_time": "2022-11-01T05:04:59.016688",
     "exception": false,
     "start_time": "2022-11-01T05:04:59.012154",
     "status": "completed"
    },
    "tags": []
   },
   "source": [
    "# Parse sources and generate relevant outputs\n",
    "\n",
    "From the candidates, we do the following steps:\n",
    "* get their tarball from ArXiv (and extract data)\n",
    "* find the main .tex file: find one with \\documentclass{...} (sometimes it's non trivial)\n",
    "* Check affiliations with :func:`validation`, which uses :func:`mpia.affiliation_verifications`\n",
    "* If passing the affiliations: we parse the .tex source\n",
    "   * inject sub-documents into the main (flatten the main document)\n",
    "   * parse structure, extract information (title, abstract, authors, figures...)\n",
    "   * handles `\\graphicspath` if provided\n",
    "* Generate the .md document."
   ]
  },
  {
   "cell_type": "code",
   "execution_count": 5,
   "id": "9576b79e",
   "metadata": {
    "execution": {
     "iopub.execute_input": "2022-11-01T05:04:59.026710Z",
     "iopub.status.busy": "2022-11-01T05:04:59.026318Z",
     "iopub.status.idle": "2022-11-01T05:06:36.838792Z",
     "shell.execute_reply": "2022-11-01T05:06:36.837680Z"
    },
    "papermill": {
     "duration": 97.819416,
     "end_time": "2022-11-01T05:06:36.840363",
     "exception": false,
     "start_time": "2022-11-01T05:04:59.020947",
     "status": "completed"
    },
    "scrolled": false,
    "tags": []
   },
   "outputs": [
    {
     "data": {
      "application/vnd.jupyter.widget-view+json": {
       "model_id": "05d639393faf49f9ada35b5195f08be1",
       "version_major": 2,
       "version_minor": 0
      },
      "text/plain": [
       "  0%|          | 0/26 [00:00<?, ?it/s]"
      ]
     },
     "metadata": {},
     "output_type": "display_data"
    },
    {
     "name": "stdout",
     "output_type": "stream",
     "text": [
      "Retrieving document from  https://arxiv.org/e-print/2210.16317\n"
     ]
    },
    {
     "name": "stdout",
     "output_type": "stream",
     "text": [
      "extracting tarball to tmp_2210.16317..."
     ]
    },
    {
     "name": "stdout",
     "output_type": "stream",
     "text": [
      " done.\n",
      "Retrieving document from  https://arxiv.org/e-print/2210.16319\n"
     ]
    },
    {
     "name": "stdout",
     "output_type": "stream",
     "text": [
      "extracting tarball to tmp_2210.16319..."
     ]
    },
    {
     "name": "stdout",
     "output_type": "stream",
     "text": [
      " done.\n",
      "Retrieving document from  https://arxiv.org/e-print/2210.16322\n"
     ]
    },
    {
     "name": "stderr",
     "output_type": "stream",
     "text": [
      "/opt/hostedtoolcache/Python/3.9.15/x64/lib/python3.9/site-packages/IPython/core/interactiveshell.py:3433: LatexWarning: Multiple tex files.\n",
      "\n",
      "  exec(code_obj, self.user_global_ns, self.user_ns)\n",
      "/opt/hostedtoolcache/Python/3.9.15/x64/lib/python3.9/site-packages/IPython/core/interactiveshell.py:3433: LatexWarning: Found documentclass in tmp_2210.16319/ms.tex\n",
      "\n",
      "  exec(code_obj, self.user_global_ns, self.user_ns)\n"
     ]
    },
    {
     "name": "stdout",
     "output_type": "stream",
     "text": [
      "extracting tarball to tmp_2210.16322..."
     ]
    },
    {
     "name": "stdout",
     "output_type": "stream",
     "text": [
      " done.\n",
      "Retrieving document from  https://arxiv.org/e-print/2210.16328\n"
     ]
    },
    {
     "name": "stdout",
     "output_type": "stream",
     "text": [
      "extracting tarball to tmp_2210.16328..."
     ]
    },
    {
     "name": "stdout",
     "output_type": "stream",
     "text": [
      " done.\n",
      "Retrieving document from  https://arxiv.org/e-print/2210.16329\n"
     ]
    },
    {
     "name": "stderr",
     "output_type": "stream",
     "text": [
      "/opt/hostedtoolcache/Python/3.9.15/x64/lib/python3.9/site-packages/IPython/core/interactiveshell.py:3433: LatexWarning: Multiple tex files.\n",
      "\n",
      "  exec(code_obj, self.user_global_ns, self.user_ns)\n",
      "/opt/hostedtoolcache/Python/3.9.15/x64/lib/python3.9/site-packages/IPython/core/interactiveshell.py:3433: LatexWarning: Found documentclass in tmp_2210.16328/mnras_guide.tex\n",
      "\n",
      "  exec(code_obj, self.user_global_ns, self.user_ns)\n"
     ]
    },
    {
     "name": "stdout",
     "output_type": "stream",
     "text": [
      "extracting tarball to tmp_2210.16329..."
     ]
    },
    {
     "name": "stdout",
     "output_type": "stream",
     "text": [
      " done.\n",
      "Retrieving document from  https://arxiv.org/e-print/2210.16341\n"
     ]
    },
    {
     "name": "stdout",
     "output_type": "stream",
     "text": [
      "extracting tarball to tmp_2210.16341..."
     ]
    },
    {
     "name": "stdout",
     "output_type": "stream",
     "text": [
      " done.\n",
      "Retrieving document from  https://arxiv.org/e-print/2210.16403\n"
     ]
    },
    {
     "name": "stdout",
     "output_type": "stream",
     "text": [
      "extracting tarball to tmp_2210.16403..."
     ]
    },
    {
     "name": "stdout",
     "output_type": "stream",
     "text": [
      " done.\n",
      "Retrieving document from  https://arxiv.org/e-print/2210.16421\n"
     ]
    },
    {
     "name": "stdout",
     "output_type": "stream",
     "text": [
      "extracting tarball to tmp_2210.16421..."
     ]
    },
    {
     "name": "stdout",
     "output_type": "stream",
     "text": [
      " done.\n",
      "Retrieving document from  https://arxiv.org/e-print/2210.16633\n"
     ]
    },
    {
     "name": "stderr",
     "output_type": "stream",
     "text": [
      "/opt/hostedtoolcache/Python/3.9.15/x64/lib/python3.9/site-packages/IPython/core/interactiveshell.py:3433: LatexWarning: Multiple tex files.\n",
      "\n",
      "  exec(code_obj, self.user_global_ns, self.user_ns)\n",
      "/opt/hostedtoolcache/Python/3.9.15/x64/lib/python3.9/site-packages/IPython/core/interactiveshell.py:3433: LatexWarning: Found documentclass in tmp_2210.16421/aassymbols.tex\n",
      "\n",
      "  exec(code_obj, self.user_global_ns, self.user_ns)\n"
     ]
    },
    {
     "name": "stdout",
     "output_type": "stream",
     "text": [
      "extracting tarball to tmp_2210.16633... done.\n",
      "Retrieving document from  https://arxiv.org/e-print/2210.16641\n"
     ]
    },
    {
     "name": "stdout",
     "output_type": "stream",
     "text": [
      "extracting tarball to tmp_2210.16641... done.\n",
      "Retrieving document from  https://arxiv.org/e-print/2210.16752\n"
     ]
    },
    {
     "name": "stdout",
     "output_type": "stream",
     "text": [
      "extracting tarball to tmp_2210.16752..."
     ]
    },
    {
     "name": "stdout",
     "output_type": "stream",
     "text": [
      " done.\n",
      "Retrieving document from  https://arxiv.org/e-print/2210.16764\n"
     ]
    },
    {
     "name": "stdout",
     "output_type": "stream",
     "text": [
      "extracting tarball to tmp_2210.16764..."
     ]
    },
    {
     "name": "stdout",
     "output_type": "stream",
     "text": [
      " done.\n",
      "Retrieving document from  https://arxiv.org/e-print/2210.16830\n"
     ]
    },
    {
     "name": "stdout",
     "output_type": "stream",
     "text": [
      "extracting tarball to tmp_2210.16830..."
     ]
    },
    {
     "name": "stdout",
     "output_type": "stream",
     "text": [
      " done.\n",
      "Retrieving document from  https://arxiv.org/e-print/2210.16864\n"
     ]
    },
    {
     "name": "stdout",
     "output_type": "stream",
     "text": [
      "extracting tarball to tmp_2210.16864..."
     ]
    },
    {
     "name": "stdout",
     "output_type": "stream",
     "text": [
      " done.\n",
      "Retrieving document from  https://arxiv.org/e-print/2210.16909\n"
     ]
    },
    {
     "name": "stdout",
     "output_type": "stream",
     "text": [
      "extracting tarball to tmp_2210.16909..."
     ]
    },
    {
     "name": "stdout",
     "output_type": "stream",
     "text": [
      " done.\n",
      "Retrieving document from  https://arxiv.org/e-print/2210.16921\n"
     ]
    },
    {
     "name": "stdout",
     "output_type": "stream",
     "text": [
      "extracting tarball to tmp_2210.16921..."
     ]
    },
    {
     "name": "stdout",
     "output_type": "stream",
     "text": [
      " done.\n",
      "Retrieving document from  https://arxiv.org/e-print/2210.16968\n"
     ]
    },
    {
     "name": "stdout",
     "output_type": "stream",
     "text": [
      "extracting tarball to tmp_2210.16968..."
     ]
    },
    {
     "name": "stdout",
     "output_type": "stream",
     "text": [
      " done.\n",
      "Retrieving document from  https://arxiv.org/e-print/2210.17056\n"
     ]
    },
    {
     "name": "stderr",
     "output_type": "stream",
     "text": [
      "/opt/hostedtoolcache/Python/3.9.15/x64/lib/python3.9/site-packages/IPython/core/interactiveshell.py:3433: LatexWarning: Multiple tex files.\n",
      "\n",
      "  exec(code_obj, self.user_global_ns, self.user_ns)\n",
      "/opt/hostedtoolcache/Python/3.9.15/x64/lib/python3.9/site-packages/IPython/core/interactiveshell.py:3433: LatexWarning: Found documentclass in tmp_2210.16968/draft4.tex\n",
      "\n",
      "  exec(code_obj, self.user_global_ns, self.user_ns)\n",
      "/opt/hostedtoolcache/Python/3.9.15/x64/lib/python3.9/site-packages/arxiv_on_deck_2/latex.py:292: LatexWarning: Latex injecting: 'spt0418_se_spec_flux' from 'tmp_2210.16968/spt0418_se_spec_flux.tex'\n",
      "  warnings.warn(LatexWarning(f\"Latex injecting: '{ext}' from '{subsource}'\"))\n"
     ]
    },
    {
     "name": "stdout",
     "output_type": "stream",
     "text": [
      "extracting tarball to tmp_2210.17056..."
     ]
    },
    {
     "name": "stdout",
     "output_type": "stream",
     "text": [
      " done.\n",
      "Retrieving document from  https://arxiv.org/e-print/2210.17062\n"
     ]
    },
    {
     "name": "stderr",
     "output_type": "stream",
     "text": [
      "/opt/hostedtoolcache/Python/3.9.15/x64/lib/python3.9/site-packages/IPython/core/interactiveshell.py:3433: LatexWarning: Multiple tex files.\n",
      "\n",
      "  exec(code_obj, self.user_global_ns, self.user_ns)\n",
      "/opt/hostedtoolcache/Python/3.9.15/x64/lib/python3.9/site-packages/IPython/core/interactiveshell.py:3433: LatexWarning: Found documentclass in tmp_2210.17056/setterberg-spie.tex\n",
      "\n",
      "  exec(code_obj, self.user_global_ns, self.user_ns)\n",
      "/opt/hostedtoolcache/Python/3.9.15/x64/lib/python3.9/site-packages/arxiv_on_deck_2/latex.py:292: LatexWarning: Latex injecting: 'authors.tex' from 'tmp_2210.17056/authors.tex'\n",
      "  warnings.warn(LatexWarning(f\"Latex injecting: '{ext}' from '{subsource}'\"))\n"
     ]
    },
    {
     "name": "stdout",
     "output_type": "stream",
     "text": [
      "extracting tarball to tmp_2210.17062..."
     ]
    },
    {
     "name": "stdout",
     "output_type": "stream",
     "text": [
      " done.\n",
      "Retrieving document from  https://arxiv.org/e-print/2210.17133\n"
     ]
    },
    {
     "name": "stdout",
     "output_type": "stream",
     "text": [
      "extracting tarball to tmp_2210.17133..."
     ]
    },
    {
     "name": "stdout",
     "output_type": "stream",
     "text": [
      " done.\n",
      "Retrieving document from  https://arxiv.org/e-print/2210.17186\n"
     ]
    },
    {
     "name": "stdout",
     "output_type": "stream",
     "text": [
      "extracting tarball to tmp_2210.17186..."
     ]
    },
    {
     "name": "stdout",
     "output_type": "stream",
     "text": [
      " done.\n",
      "Retrieving document from  https://arxiv.org/e-print/2210.17268\n"
     ]
    },
    {
     "name": "stderr",
     "output_type": "stream",
     "text": [
      "/tmp/ipykernel_2249/4030337529.py:34: LatexWarning: 2210.17268 did not run properly\n",
      "not a gzip file\n",
      "  warnings.warn(latex.LatexWarning(f\"{paper_id:s} did not run properly\\n\" +\n"
     ]
    },
    {
     "name": "stdout",
     "output_type": "stream",
     "text": [
      "Retrieving document from  https://arxiv.org/e-print/2210.17334\n"
     ]
    },
    {
     "name": "stdout",
     "output_type": "stream",
     "text": [
      "extracting tarball to tmp_2210.17334..."
     ]
    },
    {
     "name": "stdout",
     "output_type": "stream",
     "text": [
      " done.\n",
      "Retrieving document from  https://arxiv.org/e-print/2210.17389\n"
     ]
    },
    {
     "name": "stderr",
     "output_type": "stream",
     "text": [
      "/opt/hostedtoolcache/Python/3.9.15/x64/lib/python3.9/site-packages/IPython/core/interactiveshell.py:3433: LatexWarning: Multiple tex files.\n",
      "\n",
      "  exec(code_obj, self.user_global_ns, self.user_ns)\n",
      "/opt/hostedtoolcache/Python/3.9.15/x64/lib/python3.9/site-packages/IPython/core/interactiveshell.py:3433: LatexWarning: Found documentclass in tmp_2210.17334/natnotes.tex\n",
      "\n",
      "  exec(code_obj, self.user_global_ns, self.user_ns)\n"
     ]
    },
    {
     "name": "stdout",
     "output_type": "stream",
     "text": [
      "extracting tarball to tmp_2210.17389..."
     ]
    },
    {
     "name": "stdout",
     "output_type": "stream",
     "text": [
      " done.\n",
      "Retrieving document from  https://arxiv.org/e-print/2210.17430\n"
     ]
    },
    {
     "name": "stderr",
     "output_type": "stream",
     "text": [
      "/opt/hostedtoolcache/Python/3.9.15/x64/lib/python3.9/site-packages/IPython/core/interactiveshell.py:3433: LatexWarning: Multiple tex files.\n",
      "\n",
      "  exec(code_obj, self.user_global_ns, self.user_ns)\n",
      "/opt/hostedtoolcache/Python/3.9.15/x64/lib/python3.9/site-packages/IPython/core/interactiveshell.py:3433: LatexWarning: Found documentclass in tmp_2210.17389/natnotes.tex\n",
      "\n",
      "  exec(code_obj, self.user_global_ns, self.user_ns)\n"
     ]
    },
    {
     "name": "stderr",
     "output_type": "stream",
     "text": [
      "/tmp/ipykernel_2249/4030337529.py:34: LatexWarning: 2210.17430 did not run properly\n",
      "not a gzip file\n",
      "  warnings.warn(latex.LatexWarning(f\"{paper_id:s} did not run properly\\n\" +\n"
     ]
    },
    {
     "name": "stdout",
     "output_type": "stream",
     "text": [
      "Retrieving document from  https://arxiv.org/e-print/2210.17434\n"
     ]
    },
    {
     "name": "stdout",
     "output_type": "stream",
     "text": [
      "extracting tarball to tmp_2210.17434..."
     ]
    },
    {
     "name": "stdout",
     "output_type": "stream",
     "text": [
      " done.\n"
     ]
    }
   ],
   "source": [
    "documents = []\n",
    "failed = []\n",
    "for paper in tqdm(candidates[:-1]):\n",
    "    paper_id = paper['identifier'].lower().replace('arxiv:', '')\n",
    "    \n",
    "    folder = f'tmp_{paper_id}'\n",
    "\n",
    "    try:\n",
    "        if not os.path.isdir(folder):\n",
    "            folder = retrieve_document_source(f\"{paper_id}\", f'tmp_{paper_id}')\n",
    "        \n",
    "        try:\n",
    "            doc = latex.LatexDocument(folder, validation=validation)    \n",
    "        except AffiliationError as affilerror:\n",
    "            msg = f\"ArXiv:{paper_id:s} is not an MPIA paper... \" + str(affilerror)\n",
    "            failed.append((paper, \"affiliation error: \" + str(affilerror) ))\n",
    "            continue\n",
    "        \n",
    "        # Hack because sometimes author parsing does not work well\n",
    "        if (len(doc.authors) != len(paper['authors'])):\n",
    "            doc._authors = paper['authors']\n",
    "        if (doc.abstract) in (None, ''):\n",
    "            doc._abstract = paper['abstract']\n",
    "            \n",
    "        doc.comment = (get_markdown_badge(paper_id) + \n",
    "                       \"<mark>Appeared on: \" + paper['date'] + \"</mark> - \" +\n",
    "                       \"_\" + paper['comments'] + \"_\")\n",
    "        doc.highlight_authors_in_list(hl_list)\n",
    "\n",
    "        full_md = doc.generate_markdown_text()\n",
    "        \n",
    "        documents.append((paper_id, full_md))\n",
    "    except Exception as e:\n",
    "        warnings.warn(latex.LatexWarning(f\"{paper_id:s} did not run properly\\n\" +\n",
    "                                         str(e)\n",
    "                                        ))\n",
    "        failed.append((paper, \"latex error \" + str(e)))"
   ]
  },
  {
   "cell_type": "markdown",
   "id": "2505a25c",
   "metadata": {
    "papermill": {
     "duration": 0.007049,
     "end_time": "2022-11-01T05:06:36.854584",
     "exception": false,
     "start_time": "2022-11-01T05:06:36.847535",
     "status": "completed"
    },
    "tags": []
   },
   "source": [
    "### Export the logs\n",
    "\n",
    "Throughout, we also keep track of the logs per paper. see `logs-{today date}.md` "
   ]
  },
  {
   "cell_type": "code",
   "execution_count": 6,
   "id": "d733828a",
   "metadata": {
    "execution": {
     "iopub.execute_input": "2022-11-01T05:06:36.870051Z",
     "iopub.status.busy": "2022-11-01T05:06:36.869486Z",
     "iopub.status.idle": "2022-11-01T05:06:36.910284Z",
     "shell.execute_reply": "2022-11-01T05:06:36.909582Z"
    },
    "papermill": {
     "duration": 0.059516,
     "end_time": "2022-11-01T05:06:36.920835",
     "exception": false,
     "start_time": "2022-11-01T05:06:36.861319",
     "status": "completed"
    },
    "scrolled": false,
    "tags": []
   },
   "outputs": [
    {
     "data": {
      "text/markdown": [
       "## Successful papers"
      ],
      "text/plain": [
       "<IPython.core.display.Markdown object>"
      ]
     },
     "metadata": {},
     "output_type": "display_data"
    },
    {
     "data": {
      "text/markdown": [
       "\n",
       "|||\n",
       "|---:|:---|\n",
       "| [![arXiv](https://img.shields.io/badge/arXiv-arXiv:2210.17434-b31b1b.svg)](https://arxiv.org/abs/arXiv:2210.17434) | **The Near Infrared Imager and Slitless Spectrograph for the James Webb  Space Telescope -- IV. Aperture Masking Interferometry**  |\n",
       "|| Anand Sivaramakrishnan, et al. -- incl., <mark>Alexandra Z. Greenbaum</mark>, <mark>Michael R. Meyer</mark> |\n",
       "|*Appeared on*| *2022-11-01*|\n",
       "|*Comments*| *30 pages, 10 figures*|\n",
       "|**Abstract**| The James Webb Space Telescope's Near Infrared Imager and Slitless Spectrograph (JWST-NIRISS) flies a 7-hole non-redundant mask (NRM), the first such interferometer in space, operating at 3-5 \\micron~wavelengths, and a bright limit of $\\simeq 4$ magnitudes in W2. We describe the NIRISS Aperture Masking Interferometry (AMI) mode to help potential observers understand its underlying principles, present some sample science cases, explain its operational observing strategies, indicate how AMI proposals can be developed with data simulations, and how AMI data can be analyzed. We also present key results from commissioning AMI. Since the allied Kernel Phase Imaging (KPI) technique benefits from AMI operational strategies, we also cover NIRISS KPI methods and analysis techniques, including a new user-friendly KPI pipeline. The NIRISS KPI bright limit is $\\simeq 8$ W2 magnitudes. AMI (and KPI) achieve an inner working angle of $\\sim 70$ mas that is well inside the $\\sim 400$ mas NIRCam inner working angle for its circular occulter coronagraphs at comparable wavelengths. |"
      ],
      "text/plain": [
       "[arXiv:2210.17434] The Near Infrared Imager and Slitless Spectrograph for the James Webb  Space Telescope -- IV. Aperture Masking Interferometry\n",
       "\tAnand Sivaramakrishnan, et al. -- incl., <mark>Alexandra Z. Greenbaum</mark>, <mark>Michael R. Meyer</mark>"
      ]
     },
     "metadata": {},
     "output_type": "display_data"
    },
    {
     "data": {
      "text/markdown": [
       "## Failed papers"
      ],
      "text/plain": [
       "<IPython.core.display.Markdown object>"
      ]
     },
     "metadata": {},
     "output_type": "display_data"
    },
    {
     "data": {
      "text/markdown": [
       "\n",
       "|||\n",
       "|---:|:---|\n",
       "| [![arXiv](https://img.shields.io/badge/arXiv-arXiv:2210.16921-b31b1b.svg)](https://arxiv.org/abs/arXiv:2210.16921) | **A Chemical Modelling Roadmap Linking Protoplanetary Disks and Exoplanet  Atmospheres**  |\n",
       "|| <mark>Christian Eistrup</mark> |\n",
       "|*Appeared on*| *2022-11-01*|\n",
       "|*Comments*| *Invited Review for Special Issue of the American Chemical Society. 51 pages*|\n",
       "|**Abstract**| [Abridged] This review paper discussed which chemical effects may be at play in a planet-forming disk midplane, which effects are relevant under different conditions, and which tools are available for modelling chemical kinetics in a disk midplane. The review goes on to discuss some important efforts in the planet formation modelling community to treat chemical evolution, and, vice versa, efforts in the chemical modelling community to implement more physical effects related to planet formation into the chemical modelling. The aim of this review is both to outline some concepts related to planet formation chemistry, but also to encourage, not just collaboration between the planet formation modelling community and the astrochemical community, but also assistance and guidance from one community to the other. Guidance, regarding which effects, out of many, might be more relevant than others under certain planet formation conditions, and regarding why certain included effects lead to certain important modelling outcomes. As the research fields of exoplanet atmospheres and protoplanetary disks near new frontiers in observational insights with upcoming facilities, developing appropriate modelling frameworks (including physical and chemical effects) is paramount to ultimately enable the linking of a chemically characterised exoplanet atmospheres to its formation history in its natal protoplanetary disk. |\n",
       "|<p style=\"color:green\"> **ERROR** </p>| <p style=\"color:green\">affiliation error: mpia.affiliation_verifications: '69117' keyword not found.</p> |"
      ],
      "text/plain": [
       "<IPython.core.display.Markdown object>"
      ]
     },
     "metadata": {},
     "output_type": "display_data"
    },
    {
     "data": {
      "text/markdown": [
       "\n",
       "|||\n",
       "|---:|:---|\n",
       "| [![arXiv](https://img.shields.io/badge/arXiv-arXiv:2210.16317-b31b1b.svg)](https://arxiv.org/abs/arXiv:2210.16317) | **The estimation of far-field wavefront error of tilt-to-length distortion  coupling in space-based gravitational wave detection**  |\n",
       "|| Ya-Zheng Tao, Hong-Bo Jin, <mark>Yue-Liang Wu</mark> |\n",
       "|*Appeared on*| *2022-11-01*|\n",
       "|*Comments*| *13 pages, 7 figures*|\n",
       "|**Abstract**| In space-based gravitational wave detection, the estimation of far-field wavefront error of the distorted beam is the precondition for the noise reduction. Zernike polynomials is used to describe the wavefront error of the transmitted distorted beam. The propagation of a laser beam between two telescope apertures is calculated numerically. Far-field wavefront error is estimated with the absolute height of the peak-to-valley phase deviation between distorted Gaussian beam and a reference distortion-free Gaussian beam. The results show the pointing jitter is strongly related to the wavefront error. Furthermore, when jitter decreases 10 times from 100 to 10 nrad, wavefront error reduces for more than an order of magnitude. In the analysis of multi-parameter minimization, the minimum of wavefront error tends to Z[5,3] Zernike in some parameter ranges. Some Zernikes have a strong correlation with wavefront error of the received beam. When the aperture diameter increases at Z[5,3] Zernike, wavefront error is not monotonic and has oscillation. Nevertheless, wavefront error almost remains constant with the arm length increasing from 10$^{-1}$ Mkm to 10$^3$ Mkm. When the arm length decreases for three orders of magnitude from 10$^{-1}$ Mkm to 10$^{-4}$ Mkm, wavefront error has only an order of magnitude increasing. In the range of 10$^{-4}$ Mkm to 10$^3$ Mkm, the lowest limit of the wavefront error is from 0.5 fm to 0.015 fm, at Z[5,3] Zernike and 10 nrad jitter. |\n",
       "|<p style=\"color:green\"> **ERROR** </p>| <p style=\"color:green\">affiliation error: mpia.affiliation_verifications: 'Heidelberg' keyword not found.</p> |"
      ],
      "text/plain": [
       "<IPython.core.display.Markdown object>"
      ]
     },
     "metadata": {},
     "output_type": "display_data"
    },
    {
     "data": {
      "text/markdown": [
       "\n",
       "|||\n",
       "|---:|:---|\n",
       "| [![arXiv](https://img.shields.io/badge/arXiv-arXiv:2210.16319-b31b1b.svg)](https://arxiv.org/abs/arXiv:2210.16319) | **Orbital and Radiative Properties of Wandering Intermediate-Mass Black  Holes in the ASTRID Simulation**  |\n",
       "|| Emma Jane Weller, et al. -- incl., <mark>Lars Hernquist</mark> |\n",
       "|*Appeared on*| *2022-11-01*|\n",
       "|*Comments*| *Submitted for publication in MNRAS. 8 pages, 7 figures*|\n",
       "|**Abstract**| Intermediate-Mass Black Holes (IMBHs), defined as having a mass in the range $10^3 \\, \\rm M_\\odot$ to $10^6 \\, \\rm M_\\odot$, are commonly found at the center of dwarf galaxies. Simulations and observations convincingly show that a sizable population of IMBHs could wander off-center in local galaxies. We use the cosmological simulation Astrid to study the orbital and radiative properties of wandering IMBHs in massive galaxies at $z \\sim 3$. We find that this population of undetected black holes has large orbital inclinations ($60^\\circ \\pm 22^\\circ$) with respect to the principal plane of the host. The eccentricity of their orbits is also significant ($0.6 \\pm 0.2$) and decreases with time. Wandering IMBHs undergo spikes of accretion activity around the pericenter of their orbits, with rates $10^{-3}-10^{-5}$ times the Eddington rate and a median accretion duty cycle of $\\sim 12 \\%$. Their typical spectral energy distribution peaks in the infrared at $\\sim 11 \\, \\mu \\rm m$ rest frame. The studied IMBHs reach $2-10 \\, \\rm keV$ X-ray luminosities $> 10^{37} \\, \\mathrm{erg \\, s^{-1}}$ for $\\sim 10\\%$ of the time. This luminosity corresponds to fluxes $>10^{-15} \\, \\mathrm{erg \\, s^{-1} \\, cm^{-2}}$ within $10$ Mpc. Two out of the 28 IMBHs studied ($\\sim 7\\%)$ have brief X-ray luminosity spikes $> 10^{41} \\, \\mathrm{erg \\, s^{-1}}$, in the hyper-luminous X-ray sources (HLXs) regime. These findings suggest that HLXs are a small subset of the general wandering IMBH population, which is characterized by luminosities $10^3 - 10^4$ times fainter. Dedicated surveys with current and future observatories are needed to assess the demographics of this missing population of black holes. |\n",
       "|<p style=\"color:green\"> **ERROR** </p>| <p style=\"color:green\">affiliation error: mpia.affiliation_verifications: 'Heidelberg' keyword not found.</p> |"
      ],
      "text/plain": [
       "<IPython.core.display.Markdown object>"
      ]
     },
     "metadata": {},
     "output_type": "display_data"
    },
    {
     "data": {
      "text/markdown": [
       "\n",
       "|||\n",
       "|---:|:---|\n",
       "| [![arXiv](https://img.shields.io/badge/arXiv-arXiv:2210.16328-b31b1b.svg)](https://arxiv.org/abs/arXiv:2210.16328) | **Endothermic self-interacting dark matter in Milky Way-like dark matter  haloes**  |\n",
       "|| Stephanie O'Neil, et al. -- incl., <mark>Saniya Heeba</mark> |\n",
       "|*Appeared on*| *2022-11-01*|\n",
       "|*Comments*| *19 pages, 13 figures*|\n",
       "|**Abstract**| Self-interacting dark matter (SIDM) offers the potential to mitigate some of the discrepancies between simulated cold dark matter (CDM) and observed galactic properties. We introduce a physically motivated SIDM model to understand the effects of self interactions on the properties of Milky Way and dwarf galaxy sized haloes. This model consists of dark matter with a nearly degenerate excited state, which allows for both elastic and inelastic scattering. In particular, the model includes a significant probability for particles to up-scatter from the ground state to the excited state. We simulate a suite of zoom-in Milky Way-sized N-body haloes with six models with different scattering cross sections to study the effects of up-scattering in SIDM models. We find that the up-scattering reaction greatly increases the central densities of the main halo through the loss of kinetic energy. However, the physical model still results in significant coring due to the presence of elastic scattering and down-scattering. These effects are not as apparent in the subhalo population compared to the main halo, but the number of subhaloes is reduced compared to CDM. |\n",
       "|<p style=\"color:green\"> **ERROR** </p>| <p style=\"color:green\">affiliation error: mpia.affiliation_verifications: 'Heidelberg' keyword not found.</p> |"
      ],
      "text/plain": [
       "<IPython.core.display.Markdown object>"
      ]
     },
     "metadata": {},
     "output_type": "display_data"
    },
    {
     "data": {
      "text/markdown": [
       "\n",
       "|||\n",
       "|---:|:---|\n",
       "| [![arXiv](https://img.shields.io/badge/arXiv-arXiv:2210.16329-b31b1b.svg)](https://arxiv.org/abs/arXiv:2210.16329) | **Optical/$γ$-ray blazar flare correlations: understanding the  high-energy emission process using ASAS-SN and Fermi light curves**  |\n",
       "|| <mark>T. de Jaeger</mark>, et al. -- incl., <mark>I. Liodakis</mark> |\n",
       "|*Appeared on*| *2022-11-01*|\n",
       "|*Comments*| *30 pages (16 of appendix), 7 figures, 2 tables, Submitted to MNRAS, Comments are welcome*|\n",
       "|**Abstract**| Using blazar light curves from the optical All-Sky Automated Survey for Supernovae (ASAS-SN) and the $\\gamma$-ray \\textit{Fermi}-LAT telescope, we performed the most extensive statistical correlation study between both bands, using a sample of 1,180 blazars. This is almost an order of magnitude larger than other recent studies. Blazars represent more than 98\\% of the AGNs detected by \\textit{Fermi}-LAT and are the brightest $\\gamma$-ray sources in the extragalactic sky. They are essential for studying the physical properties of astrophysical jets from central black holes. However, their $\\gamma$-ray flare mechanism is not fully understood. Multi-wavelength correlations help constrain the dominant mechanisms of blazar variability and the emission source region. For this purpose, we search for temporal relationships between optical and $\\gamma$-ray bands. Using a Bayesian Block Decomposition, we detect 1414 optical and 510 $\\gamma$-ray flares, we find a strong correlation between both bands. Among all the flares, we find 321 correlated flares from 133 blazars, and derive an average rest-frame time delay of only 1.1$_{-8.5}^{+7.1}$ days, with no difference between the flat-spectrum radio quasars, BL Lacertae-like objects or low, intermediate, and high-synchrotron peaked blazar classes. Our time-delay limit supports leptonic single-zone model as the driver for non-orphan flares. Limiting our search to well-defined light curves and removing 976 potential but unclear ``orphan'' flares, we find 191 (13\\%) and 115 (22\\%) clear ``orphan'' optical and $\\gamma$-ray flares. The presence of ``orphan'' flares in both bands challenges the standard one-zone blazar flare leptonic model and suggests multi-zone synchrotron sites or a hadronic model for some blazars. |\n",
       "|<p style=\"color:green\"> **ERROR** </p>| <p style=\"color:green\">affiliation error: mpia.affiliation_verifications: 'Heidelberg' keyword not found.</p> |"
      ],
      "text/plain": [
       "<IPython.core.display.Markdown object>"
      ]
     },
     "metadata": {},
     "output_type": "display_data"
    },
    {
     "data": {
      "text/markdown": [
       "\n",
       "|||\n",
       "|---:|:---|\n",
       "| [![arXiv](https://img.shields.io/badge/arXiv-arXiv:2210.16341-b31b1b.svg)](https://arxiv.org/abs/arXiv:2210.16341) | **Potential scientific synergies in weak lensing studies between the CSST  and Euclid space probes**  |\n",
       "|| <mark>D.Z. Liu</mark>, et al. -- incl., <mark>G.L. Li</mark>, <mark>R. Li</mark>, <mark>J. Zhang</mark>, <mark>X.K. Liu</mark> |\n",
       "|*Appeared on*| *2022-11-01*|\n",
       "|*Comments*| *18 pages, 19 figures and 2 tables. Accepted for publication in A&A*|\n",
       "|**Abstract**| Aims. With the next generation of large surveys coming to the stage of observational cosmology soon, it is important to explore their potential synergies and to maximise their scientific outcomes. In this study, we aim to investigate the complementarity of the two upcoming space missions Euclid and the China Space Station Telescope (CSST), focusing on weak lensing (WL) cosmology. In particular, we analyse the photometric redshifts (photo-zs) and the galaxy blending effects. For Euclid, WL measurements suffer from chromatic PSF effects. For this, CSST can provide valuable information for Euclid to obtain more accurate PSF, and to calibrate the color and color-gradient biases for WL measurements. Methods. We create image simulations for different surveys, and quantify the photo-z performance. For blending analyses, we employ high-resolution HST/CANDELS data to mock Euclid, CSST, and an LSST-like survey. We analyse the blending fraction for different cases, and the blending effects on galaxy photometry. Furthermore, we demonstrate that CSST can provide a large enough number of high SNR multi-band galaxy images to calibrate the color-gradient biases for Euclid. Results. The sky coverage of Euclid lies entirely within the CSST footprint. The combination of Euclid with CSST data can be done more uniformly than with the various ground-based data. Our studies show that by combining Euclid and CSST, we can reach a photo-z precision of $\\sigma_{\\rm NMAD} \\approx 0.04$, and an outlier fraction of $\\eta\\approx 2.4\\%$. Because of the similarly high resolutions, the data combination of Euclid and CSST can be relatively straightforward for photometry. To include ground-based data, however, sophisticated deblending utilizing priors from high-resolution space data is demanded. The color-gradient biases for Euclid can be well calibrated to the level of 0.1% using galaxies from CSST deep survey. |\n",
       "|<p style=\"color:green\"> **ERROR** </p>| <p style=\"color:green\">affiliation error: mpia.affiliation_verifications: 'Heidelberg' keyword not found.</p> |"
      ],
      "text/plain": [
       "<IPython.core.display.Markdown object>"
      ]
     },
     "metadata": {},
     "output_type": "display_data"
    },
    {
     "data": {
      "text/markdown": [
       "\n",
       "|||\n",
       "|---:|:---|\n",
       "| [![arXiv](https://img.shields.io/badge/arXiv-arXiv:2210.16403-b31b1b.svg)](https://arxiv.org/abs/arXiv:2210.16403) | **The first gradual solar energetic particle event with enhanced 3He  abundance on Solar Orbiter**  |\n",
       "|| R. Bučík, et al. -- incl., <mark>R. Gómez-Herrero</mark>, <mark>F. Espinosa Lara</mark> |\n",
       "|*Appeared on*| *2022-11-01*|\n",
       "|*Comments*| *9 pages, 9 figures, accepted for publication in A&A*|\n",
       "|**Abstract**| The origin of 3He abundance enhancements in coronal mass ejection (CME)-driven shock gradual solar energetic particle (SEP) events remains largely unexplained. Two mechanisms have been suggested - the re-acceleration of remnant flare material in interplanetary space and concomitant activity in the corona. We explore the first gradual SEP event with enhanced 3He abundance observed by Solar Orbiter. The event started on 2020 November 24 and was associated with a relatively fast halo CME. During the event, the spacecraft was at 0.9 au from the Sun. The event averaged 3He/4He abundance ratio is 24 times higher than the coronal or solar wind value, and the 3He intensity had timing similar to other species. We inspected available imaging, radio observations, and spacecraft magnetic connection to the CME source. It appears the most probable cause of the enhanced 3He abundance are residual 3He ions remaining from a preceding long period of 3He-rich SEPs on 2020 November 17-23. |\n",
       "|<p style=\"color:green\"> **ERROR** </p>| <p style=\"color:green\">affiliation error: mpia.affiliation_verifications: 'Heidelberg' keyword not found.</p> |"
      ],
      "text/plain": [
       "<IPython.core.display.Markdown object>"
      ]
     },
     "metadata": {},
     "output_type": "display_data"
    },
    {
     "data": {
      "text/markdown": [
       "\n",
       "|||\n",
       "|---:|:---|\n",
       "| [![arXiv](https://img.shields.io/badge/arXiv-arXiv:2210.16421-b31b1b.svg)](https://arxiv.org/abs/arXiv:2210.16421) | **The Impact of Beam Variations on Power Spectrum Estimation for 21-cm  Cosmology I: Simulations of Foreground Contamination for HERA**  |\n",
       "|| Honggeun Kim, et al. -- incl., <mark>Jacqueline N. Hewitt</mark>, <mark>Nivedita Mahesh</mark> |\n",
       "|*Appeared on*| *2022-11-01*|\n",
       "|*Comments*| *Accepted for publication in ApJ*|\n",
       "|**Abstract**| Detecting cosmological signals from the Epoch of Reionization (EoR) requires high-precision calibration to isolate the cosmological signals from foreground emission. In radio interferometery, perturbed primary beams of antenna elements can disrupt the precise calibration, which results in contaminating the foreground-free region, or the EoR window, in the cylindrically averaged power spectrum. For Hydrogen Epoch of Reionization Array (HERA), we simulate and characterize the perturbed primary beams induced by feed motions such as axial, lateral, and tilting motions, above the 14-meter dish. To understand the effect of the perturbed beams, visibility measurements are modeled with two different foreground components, point sources and diffuse sources, and we find different feed motions present a different reaction to each type of sky source. HERA's redundant-baseline calibration in the presence of non-redundant antenna beams due to feed motions introduces chromatic errors in gain solutions, which produces foreground power leakage into the EoR window. The observed leakage from vertical feed motions comes predominately from point sources around zenith. Furthermore, the observed leakage from horizontal and tilting feed motion comes predominately from the diffuse components near the horizon. Mitigation of chromatic gain errors will be necessary for robust detection of the EoR signals with minimal foreground bias, and this will be discussed in the subsequent paper. |\n",
       "|<p style=\"color:green\"> **ERROR** </p>| <p style=\"color:green\">affiliation error: mpia.affiliation_verifications: 'Heidelberg' keyword not found.</p> |"
      ],
      "text/plain": [
       "<IPython.core.display.Markdown object>"
      ]
     },
     "metadata": {},
     "output_type": "display_data"
    },
    {
     "data": {
      "text/markdown": [
       "\n",
       "|||\n",
       "|---:|:---|\n",
       "| [![arXiv](https://img.shields.io/badge/arXiv-arXiv:2210.16633-b31b1b.svg)](https://arxiv.org/abs/arXiv:2210.16633) | **Probing the Plasma Tail of Interstellar Comet 2I/Borisov**  |\n",
       "|| P K Manoharan, et al. -- incl., <mark>Tapasi Ghosh</mark> |\n",
       "|*Appeared on*| *2022-11-01*|\n",
       "|*Comments*| *20 pages, 10 figures, and 1 table (Accepted for publication in Planetary Science Journal)*|\n",
       "|**Abstract**| We present an occultation study of compact radio sources by the plasma tail of interstellar Comet 2I/Borisov (C/2019 Q4) both pre- and near-perihelion using the Arecibo and Green Bank radio telescopes. The interplanetary scintillation (IPS) technique was used to probe the plasma tail at P-band (302--352 MHz), 820 MHz, and L-band (1120--1730 MHz). The presence and absence of scintillation at different perpendicular distances from the central axis of the plasma tail suggests a narrow tail of less than 6~arcmin at a distance of $\\sim$10~arcmin ($\\sim$$10^6$~km) from the comet nucleus. Data recorded during the occultation of B1019+083 on 31 October 2019 with the Arecibo Telescope covered the width of the plasma tail from its outer region to the central axis. The systematic increase in scintillation during the occultation provides the plasma properties associated with the tail when the comet was at its pre-perihelion phase. The excess level of L-band scintillation indicates a plasma density enhancement of $\\sim$15--20 times that of the background solar wind. The evolving shape of the observed scintillation power spectra across the tail from its edge to the central axis suggests a density spectrum flatter than Kolmogorov, and that the plasma-density irregularity scales present in the tail range between 10 and 700 km. The discovery of a high-frequency spectral excess, corresponding to irregularity scales much smaller than the Fresnel scale, suggests the presence of small-scale density structures in the plasma tail, likely caused by interaction between the solar wind and the plasma environment formed by the comet. |\n",
       "|<p style=\"color:green\"> **ERROR** </p>| <p style=\"color:green\">affiliation error: mpia.affiliation_verifications: 'Heidelberg' keyword not found.</p> |"
      ],
      "text/plain": [
       "<IPython.core.display.Markdown object>"
      ]
     },
     "metadata": {},
     "output_type": "display_data"
    },
    {
     "data": {
      "text/markdown": [
       "\n",
       "|||\n",
       "|---:|:---|\n",
       "| [![arXiv](https://img.shields.io/badge/arXiv-arXiv:2210.16641-b31b1b.svg)](https://arxiv.org/abs/arXiv:2210.16641) | **Description and performance results of the trigger logic of TUS and  Mini-EUSO to search for Ultra-High Energy Cosmic Rays from space**  |\n",
       "|| M. Bertaina, et al. -- incl., <mark>M.A. Franceschi</mark> |\n",
       "|*Appeared on*| *2022-11-01*|\n",
       "|*Comments*| **|\n",
       "|**Abstract**| The trigger logic of the Tracking Ultraviolet Setup (TUS) and Multiwavelength Imaging New Instrument for the Extreme Universe Space Observatory (Mini-EUSO) space-based projects of the Joint Experiment Missions - EUSO (JEM-EUSO) program is summarized. The performance results on the search for ultra-high energy cosmic rays are presented. |\n",
       "|<p style=\"color:green\"> **ERROR** </p>| <p style=\"color:green\">affiliation error: mpia.affiliation_verifications: 'Heidelberg' keyword not found.</p> |"
      ],
      "text/plain": [
       "<IPython.core.display.Markdown object>"
      ]
     },
     "metadata": {},
     "output_type": "display_data"
    },
    {
     "data": {
      "text/markdown": [
       "\n",
       "|||\n",
       "|---:|:---|\n",
       "| [![arXiv](https://img.shields.io/badge/arXiv-arXiv:2210.16752-b31b1b.svg)](https://arxiv.org/abs/arXiv:2210.16752) | **Direct tests of General Relativity under screening effect with  galaxy-scale strong lensing systems**  |\n",
       "|| <mark>Yujie Lian</mark>, et al. -- incl., <mark>Tonghua Liu</mark> |\n",
       "|*Appeared on*| *2022-11-01*|\n",
       "|*Comments*| *14 pages, 9 figures, accepted for publication in ApJ*|\n",
       "|**Abstract**| Observations of galaxy-scale strong gravitational lensing (SGL) systems have enabled unique tests of nonlinear departures from general relativity (GR) on the galactic and supergalactic scales. One of the most important cases of such tests is constraints on the gravitational slip between two scalar gravitational potentials. In this paper, we use a newly compiled sample of strong gravitational lenses to test the validity of GR, focusing on the screening effects on the apparent positions of lensed sources relative to the GR predictions. This is the first simultaneous measurement of the Post-Newtonian (PN) parameter ($\\gamma_{PN}$) and the screening radius ($\\Lambda$) without any assumptions about the contents of the Universe. Our results suggest that the measured PPN is marginally consistent with GR ($\\gamma_{PN}=1$) with increasing screening radius ($\\Lambda = 10-300 $kpc), although the choice of lens models may have a significant influence on the final measurements. Based on a well-defined sample of 5000 simulated strong lenses from the forthcoming LSST, our methodology will provide a strong extragalactic test of GR with an accuracy of 0.5\\%, assessed up to scales of $\\Lambda \\sim 300$ kpc. For the current and future observations of available SGL systems, there is no noticeable evidence indicating some specific cutoff scales on kpc-Mpc scales, beyond which new gravitational degrees of freedom are expressed. |\n",
       "|<p style=\"color:green\"> **ERROR** </p>| <p style=\"color:green\">affiliation error: mpia.affiliation_verifications: 'Heidelberg' keyword not found.</p> |"
      ],
      "text/plain": [
       "<IPython.core.display.Markdown object>"
      ]
     },
     "metadata": {},
     "output_type": "display_data"
    },
    {
     "data": {
      "text/markdown": [
       "\n",
       "|||\n",
       "|---:|:---|\n",
       "| [![arXiv](https://img.shields.io/badge/arXiv-arXiv:2210.16764-b31b1b.svg)](https://arxiv.org/abs/arXiv:2210.16764) | **VLBI Observations of a sample of Palomar-Green quasars I: parsec-scale  morphology**  |\n",
       "|| Ailing Wang, et al. -- incl., <mark>Yingkang Zhang</mark> |\n",
       "|*Appeared on*| *2022-11-01*|\n",
       "|*Comments*| *This paper has been accepted by MNRAS*|\n",
       "|**Abstract**| We observed 20 Palomar-Green (PG) quasars at low redshift ($z<0.5$) with total flux density > 1 mJy, including 4 radio-loud quasars (RLQs) and 16 radio-quiet quasars (RQQs), using the Very Long Baseline Array (VLBA) at 5 GHz. Ten RQQs are clearly detected in the VLBA images, and a compact radio core is identified in eight of them, indicating the prevalence of active galactic nucleus (AGN)-related radio emission in this flux-density-limited RQQ sample. The RQQs and RLQs in our sample have a division at $\\sim$30~mJy. The radio emission from RQQs appears to be the result of a combination of star formation and AGN-associated activities. All RQQs in our sample have a 5 GHz flux density ratio of Very Large Array (VLA) A-array to D-array $f_{\\rm c} = S_{\\rm A}^{\\rm VLA}/S_{\\rm D}^{\\rm VLA}$ above 0.2. The RQQs with $f_a$ (VLBA and VLA flux density ratio $S^{\\rm VLBA}/S_{\\rm A}^{\\rm VLA}) > 0.2$ versus $f_a < 0.2$ show significant differences in morphology, compactness and total flux density. $f_{\\rm a}$ of RQQs is systematically lower than that of RLQs, probably due to the extended jets or relic jets of RQQs on 10s to 100s parsecs which are resolved out in VLBA images. Future larger samples, especially with the addition of milli-arcsec resolution radio images of RQQs with total flux densities below 1 mJy, can test the conclusions of this paper and contributes to the understanding of the radio emission mechanism of RQQs, and the dichotomy and physical connection between RQQs and RLQs. |\n",
       "|<p style=\"color:green\"> **ERROR** </p>| <p style=\"color:green\">affiliation error: mpia.affiliation_verifications: 'Heidelberg' keyword not found.</p> |"
      ],
      "text/plain": [
       "<IPython.core.display.Markdown object>"
      ]
     },
     "metadata": {},
     "output_type": "display_data"
    },
    {
     "data": {
      "text/markdown": [
       "\n",
       "|||\n",
       "|---:|:---|\n",
       "| [![arXiv](https://img.shields.io/badge/arXiv-arXiv:2210.16830-b31b1b.svg)](https://arxiv.org/abs/arXiv:2210.16830) | **Stellar chromospheric activities revealed from the LAMOST-K2 time-domain  survey**  |\n",
       "|| <mark>Henggeng Han</mark>, et al. -- incl., <mark>Jifeng Liu</mark> |\n",
       "|*Appeared on*| *2022-11-01*|\n",
       "|*Comments*| *20 pages, 34 figures, accepted for publication in ApJS*|\n",
       "|**Abstract**| By using the LAMOST time-domain survey data, we study stellar activities based on the $\\rm{H_{\\alpha}}$ lines for about 2000 stars in four $K$2 plates. Two indices, $R_{\\rm{H\\alpha}}^{'}$ and $R_{\\rm{H\\alpha}}^{+}$, are computed from LAMOST spectra, the former of which is derived by excluding the photospheric contributions to the $\\rm{H_{\\alpha}}$ lines, while the latter is derived by further subtracting the non-dynamo driven chromospheric emission. Meanwhile, the periodicity and variation amplitudes are computed from \\emph{K2} light curves. Both the $R_{\\rm{H\\alpha}}^{'}$-Ro relation and $R_{\\rm{H\\alpha}}^{+}$-Ro relation show complicated profiles in the non-saturated decay region. Hot stars show flatter slopes and higher activity level than cool stars, and the behaviour is more notable in the $R_{\\rm{H\\alpha}}^{+}$-$R_{o}$ relation. This is consistent with recent studies using other activity proxies, including $L_{\\rm{x}}/L_{\\rm{bol}}$, $R_{\\rm{HK}}^{'}$ and amplitudes of optical light curves. % This may suggest different kinds of stars follow different power laws in the decay region. Most of our targets have multiple observations, and some of them exhibit significant variability of ${\\rm{H\\alpha}}$ emissions, which may cause the large scatters shown in the decay region. We find three targets exhibiting positive correlation in rotational phase, possibly indicating that their optical light curves are dominated by hot faculae rather than cool starspots. |\n",
       "|<p style=\"color:green\"> **ERROR** </p>| <p style=\"color:green\">affiliation error: mpia.affiliation_verifications: 'Heidelberg' keyword not found.</p> |"
      ],
      "text/plain": [
       "<IPython.core.display.Markdown object>"
      ]
     },
     "metadata": {},
     "output_type": "display_data"
    },
    {
     "data": {
      "text/markdown": [
       "\n",
       "|||\n",
       "|---:|:---|\n",
       "| [![arXiv](https://img.shields.io/badge/arXiv-arXiv:2210.16864-b31b1b.svg)](https://arxiv.org/abs/arXiv:2210.16864) | **Distribution of gamma-ray bursts on the t90-hardness ratio plane and  their classification revisited**  |\n",
       "|| <mark>Liang Zhang</mark>, et al. |\n",
       "|*Appeared on*| *2022-11-01*|\n",
       "|*Comments*| *10 pages, 9 figures*|\n",
       "|**Abstract**| Using four mixed bivariate distributions (Normal distribution, Skew-Normal distribution, Student distribution, Skew-Student distribution) and bootstrap re-sampling analysis, we analyze the samples of CGRO/BATSE, Swift/BAT and Fermi/GBM gamma-ray bursts in detail on the t90-hardness ratio plane. The Bayesian information criterion is used to judge the goodness of fit for each sample, comprehensively. It is found that all the three samples show a symmetric (either normal or student) distribution. It is also found that the existence of three classes of gamma-ray bursts is preferred by the three samples, but the strength of this preference varies with the sample size: when the sample size of the data set is larger, the preference of three classes scheme becomes weaker. Therefore, the appearance of an intermediate class may be caused by a small sample size and the possibility that there are only two classes of gamma-ray bursts still cannot be expelled yet. A further bootstrap re-sampling analysis also confirms this result. |\n",
       "|<p style=\"color:green\"> **ERROR** </p>| <p style=\"color:green\">affiliation error: mpia.affiliation_verifications: 'Heidelberg' keyword not found.</p> |"
      ],
      "text/plain": [
       "<IPython.core.display.Markdown object>"
      ]
     },
     "metadata": {},
     "output_type": "display_data"
    },
    {
     "data": {
      "text/markdown": [
       "\n",
       "|||\n",
       "|---:|:---|\n",
       "| [![arXiv](https://img.shields.io/badge/arXiv-arXiv:2210.16909-b31b1b.svg)](https://arxiv.org/abs/arXiv:2210.16909) | **Multi-gas phases in supernova remnant IC 443: Mapping shocked H$_2$ with  VLT/KMOS**  |\n",
       "|| Yunwei Deng, et al. -- incl., <mark>Zhi-Yu Zhang</mark>, <mark>Lingrui Lin</mark>, <mark>Guoyin Chen</mark>, <mark>Hui Li</mark> |\n",
       "|*Appeared on*| *2022-11-01*|\n",
       "|*Comments*| *21 pages, 17 figures. Accepted by MNRAS*|\n",
       "|**Abstract**| Supernovae and their remnants provide energetic feedback to the ambient interstellar medium (ISM), which is often distributed in multiple gas phases. Among them, warm molecular hydrogen (H$_2$) often dominates the cooling of the shocked molecular ISM, which has been observed with the H$_2$ emission lines at near-infrared wavelengths. Such studies, however, were either limited in narrow filter imaging or sparsely sampled mid-infrared spectroscopic observations with relatively poor angular resolutions. Here we present near-infrared ($H$- and $K$-band) spectroscopic mosaic observations towards the A, B, C, and G regions of the supernova remnant (SNR) IC 443, with the K-band Multi-Object Spectrograph (KMOS) onboard the Very Large Telescope (VLT). We detected 20 ro-vibrational transitions of H$_2$, one H line (Br$\\gamma$), and two [Fe II] lines, which dominate broadband images at both $H$- and $K$-band. The spatial distribution of H$_2$ lines at all regions are clumpy on scales from $\\sim 0.1$ pc down to $\\sim 0.008$ pc. The fitted excitation temperature of H$_2$ is between 1500 K and 2500 K, indicating warm shocked gas in these regions. The multi-gas-phase comparison shows stratified shock structures in all regions, which explains the co-existence of multiple types of shocks in the same regions. Last, we verify the candidates of young stellar objects previously identified in these regions with our spectroscopic data, and find none of them are associated with young stars. This sets challenges to the previously proposed scenario of triggered star formation by SNR shocks in IC~443. |\n",
       "|<p style=\"color:green\"> **ERROR** </p>| <p style=\"color:green\">affiliation error: mpia.affiliation_verifications: 'Heidelberg' keyword not found.</p> |"
      ],
      "text/plain": [
       "<IPython.core.display.Markdown object>"
      ]
     },
     "metadata": {},
     "output_type": "display_data"
    },
    {
     "data": {
      "text/markdown": [
       "\n",
       "|||\n",
       "|---:|:---|\n",
       "| [![arXiv](https://img.shields.io/badge/arXiv-arXiv:2210.16968-b31b1b.svg)](https://arxiv.org/abs/arXiv:2210.16968) | **Discovery of a Dusty, Chemically Mature Companion to a z$\\sim$4  Starburst Galaxy in JWST ERS Data**  |\n",
       "|| Bo Peng, et al. -- incl., <mark>Henrik Spoon</mark> |\n",
       "|*Appeared on*| *2022-11-01*|\n",
       "|*Comments*| *10 pages, 4 figures. Submitted to ApJL*|\n",
       "|**Abstract**| We report the discovery of two companion sources to a strongly lensed galaxy SPT0418-47 (\"ring\") at redshift 4.225, targeted by the JWST Early Release Science program. We confirm that these sources are at a similar redshift as the ring based on H$\\alpha$ detected in the NIRSpec spectrum, and [C II] 158 $\\mu$m line from ALMA. Using multiple spectral lines detected in JWST/NIRSpec, the rest-frame optical to infrared images from NIRCam and MIRI, and far-infrared (FIR) dust continuum detected by ALMA, we argue that the newly discovered sources are actually lensed images of the same companion galaxy, hereafter referred to as SPT0418-SE (\"SE\"), located within 5 kpc in the source plane of the ring. The star formation rate derived using [C II] and dust continuum puts a lower limit of 17 M$_\\odot$/yr, while the SFR$_\\mathrm{H\\alpha}$ is estimated to be $\\sim$200 times lower, thereby confirming that SE is a heavily dust obscured star-forming galaxy. Analysis using optical strong line diagnostics suggests that SE has near solar elemental abundance, while the ring appears to have super-solar metallicity O/H and N/O. We attempt to reconcile the high metallicity in this system by invoking early onset of star formation with continuous high star forming efficiency, or that optical strong line diagnostics need revision at high redshift. We suggest that SPT0418-47 resides in a massive dark matter halo with yet to be discovered neighbors. This work highlights the importance of joint analysis of JWST and ALMA data for a deep and complete picture of the early Universe. |\n",
       "|<p style=\"color:green\"> **ERROR** </p>| <p style=\"color:green\">affiliation error: mpia.affiliation_verifications: 'Heidelberg' keyword not found.</p> |"
      ],
      "text/plain": [
       "<IPython.core.display.Markdown object>"
      ]
     },
     "metadata": {},
     "output_type": "display_data"
    },
    {
     "data": {
      "text/markdown": [
       "\n",
       "|||\n",
       "|---:|:---|\n",
       "| [![arXiv](https://img.shields.io/badge/arXiv-arXiv:2210.17056-b31b1b.svg)](https://arxiv.org/abs/arXiv:2210.17056) | **Geant4 Modeling of a Cerium Bromide Scintillator Detector for the  IMPRESS CubeSat Mission**  |\n",
       "|| William Setterberg, et al. -- incl., <mark>Lindsay Glesener</mark>, <mark>David M. Smith</mark> |\n",
       "|*Appeared on*| *2022-11-01*|\n",
       "|*Comments*| *12 pages, 9 figures. SPIE 2022 Astronomical Telescopes and Instrumentation proceedings paper*|\n",
       "|**Abstract**| Solar flares are some of the most energetic events in the solar system and can be studied to investigate the physics of plasmas and stellar processes. One interesting aspect of solar flares is the presence of accelerated (nonthermal) particles, whose signatures appear in solar flare hard X-ray emissions. Debate has been ongoing since the early days of the space age as to how these particles are accelerated, and one way to probe relevant acceleration mechanisms is by investigating short-timescale (tens of milliseconds) variations in solar flare hard X-ray flux. The Impulsive Phase Rapid Energetic Solar Spectrometer (IMPRESS) CubeSat mission aims to measure these fast hard X-ray variations. In order to produce the best possible science data from this mission, we characterize the IMPRESS scintillator detectors using Geant4 Monte Carlo models. We show that the Geant4 Monte Carlo detector model is consistent with an analytical model. We find that Geant4 simulations of X-ray and optical interactions explain observed features in experimental data, but do not completely account for our measured energy resolution. We further show that nonuniform light collection leads to double-peak behavior at the 662 keV $^{137}$Cs photopeak and can be corrected in Geant4 models and likely in the lab. |\n",
       "|<p style=\"color:green\"> **ERROR** </p>| <p style=\"color:green\">affiliation error: mpia.affiliation_verifications: 'Heidelberg' keyword not found.</p> |"
      ],
      "text/plain": [
       "<IPython.core.display.Markdown object>"
      ]
     },
     "metadata": {},
     "output_type": "display_data"
    },
    {
     "data": {
      "text/markdown": [
       "\n",
       "|||\n",
       "|---:|:---|\n",
       "| [![arXiv](https://img.shields.io/badge/arXiv-arXiv:2210.17062-b31b1b.svg)](https://arxiv.org/abs/arXiv:2210.17062) | **TESS Giants Transiting Giants III: An eccentric warm Jupiter supports a  period-eccentricity relation for giant planets transiting evolved stars**  |\n",
       "|| Samuel K. Grunblatt, et al. -- incl., <mark>Daniel Huber</mark> |\n",
       "|*Appeared on*| *2022-11-01*|\n",
       "|*Comments*| *21 pages, 11 figures, favorably reviewed by AAS Journals*|\n",
       "|**Abstract**| The fate of planets around rapidly evolving stars is not well understood. Previous studies have suggested that relative to the main sequence population, planets transiting evolved stars ($P$ $<$ 100 d) tend to have more eccentric orbits. Here we present the discovery of TOI-4582 b, a 0.94 $\\pm$ 0.12 R$_\\mathrm{J}$, 0.53 $\\pm$ 0.05 M$_\\mathrm{J}$ planet orbiting an intermediate-mass subgiant star every 31.034 days. We find that this planet is also on a significantly eccentric orbit ($e$ = 0.51 $\\pm$ 0.05). We then compare the population of planets found transiting evolved (log$g$ $<$ 3.8) stars to the population of planets transiting main sequence stars. We find that the rate at which median orbital eccentricity grows with period is significantly higher for evolved star systems than for otherwise similar main sequence systems, particularly for systems with only one planet detected. In general, we observe that mean planet eccentricity $<e>$ = $a$ + $b$log$_{10}$($P$) for the evolved population with a single transiting planet where $a$ = (-0.18 $\\pm$ 0.08) and $b$ = (0.38 $\\pm$ 0.06), significantly distinct from the main sequence planetary system population. This trend is seen even after controlling for stellar mass and metallicity. These systems do not appear to represent a steady evolution pathway from eccentric, long-period planetary orbits to circular, short period orbits, as orbital model comparisons suggest inspiral timescales are uncorrelated with orbital separation or eccentricity. Characterization of additional evolved planetary systems will distinguish effects of stellar evolution from those of stellar mass and composition. |\n",
       "|<p style=\"color:green\"> **ERROR** </p>| <p style=\"color:green\">affiliation error: mpia.affiliation_verifications: 'Heidelberg' keyword not found.</p> |"
      ],
      "text/plain": [
       "<IPython.core.display.Markdown object>"
      ]
     },
     "metadata": {},
     "output_type": "display_data"
    },
    {
     "data": {
      "text/markdown": [
       "\n",
       "|||\n",
       "|---:|:---|\n",
       "| [![arXiv](https://img.shields.io/badge/arXiv-arXiv:2210.17133-b31b1b.svg)](https://arxiv.org/abs/arXiv:2210.17133) | **The miniJPAS survey: stellar atmospheric parameters from 56 optical  filters**  |\n",
       "|| H.-B. Yuan, et al. -- incl., <mark>E. J. Alfaro</mark>, <mark>J.-F. Liu</mark>, <mark>Antonio Hernán-Caballero</mark>, <mark>Héctor Vázquez Ramió</mark> |\n",
       "|*Appeared on*| *2022-11-01*|\n",
       "|*Comments*| *16 pages, 16 figures, 3 tables, accepted by MNRAS*|\n",
       "|**Abstract**| With a unique set of 54 overlapping narrow-band and two broader filters covering the entire optical range, the incoming Javalambre-Physics of the Accelerating Universe Astrophysical Survey (J-PAS) will provide a great opportunity for stellar physics and near-field cosmology. In this work, we use the miniJPAS data in 56 J-PAS filters and 4 complementary SDSS-like filters to explore and prove the potential of the J-PAS filter system in characterizing stars and deriving their atmospheric parameters. We obtain estimates for the effective temperature with a good precision (<150 K) from spectral energy distribution fitting. We have constructed the metallicity-dependent stellar loci in 59 colours for the miniJPAS FGK dwarf stars, after correcting certain systematic errors in flat-fielding. The very blue colours, including uJAVA-r, J0378-r, J0390-r, uJPAS-r, show the strongest metallicity dependence, around 0.25 mag/dex. The sensitivities decrease to about 0.1 mag/dex for the J0400-r, J0410-r, and J0420-r colours. The locus fitting residuals show peaks at the J0390, J0430, J0510, and J0520 filters, suggesting that individual elemental abundances such as [Ca/Fe], [C/Fe], and [Mg/Fe] can also be determined from the J-PAS photometry. Via stellar loci, we have achieved a typical metallicity precision of 0.1 dex. The miniJPAS filters also demonstrate strong potential in discriminating dwarfs and giants, particularly the J0520 and J0510 filters. Our results demonstrate the power of the J-PAS filter system in stellar parameter determinations and the huge potential of the coming J-PAS survey in stellar and Galactic studies. |\n",
       "|<p style=\"color:green\"> **ERROR** </p>| <p style=\"color:green\">affiliation error: mpia.affiliation_verifications: 'Heidelberg' keyword not found.</p> |"
      ],
      "text/plain": [
       "<IPython.core.display.Markdown object>"
      ]
     },
     "metadata": {},
     "output_type": "display_data"
    },
    {
     "data": {
      "text/markdown": [
       "\n",
       "|||\n",
       "|---:|:---|\n",
       "| [![arXiv](https://img.shields.io/badge/arXiv-arXiv:2210.17186-b31b1b.svg)](https://arxiv.org/abs/arXiv:2210.17186) | **Galaxy populations in groups and clusters: evidence for a characteristic  stellar mass scale at $M_\\ast\\sim 10^{9.5}M_\\odot$**  |\n",
       "|| Jiacheng Meng, et al. -- incl., <mark>Cheng Li</mark>, <mark>Lizhi Xie</mark> |\n",
       "|*Appeared on*| *2022-11-01*|\n",
       "|*Comments*| **|\n",
       "|**Abstract**| We use the most recent data release (DR9) of the DESI legacy imaging survey and SDSS galaxy groups to measure the conditional luminosity function (CLF) for groups with halo mass $M_{\\rm h}\\ge 10^{12}M_{\\odot}$ and redshift $0.01\\le z\\le 0.08$, down to a limiting $r$-band magnitude of $M_{\\rm r}=-10\\sim-12$. For a given halo mass we measure the CLF for the total satellite population, as well as separately for the red and blue populations classified using the $(g-z)$ color. We find a clear faint-end upturn in the CLF of red satellites, with a slope $\\alpha\\approx-1.8$ which is almost independent of halo mass. This faint-end upturn is not seen for blue satellites and for the total population. Our stellar population synthesis modeling shows that the $(g-z)$ color provides a clean red/blue division, and that group galaxies in the red population defined by $(g-z)$ are all dominated by old stellar populations. The fraction of old galaxies as a function of galaxy luminosity shows a minimum at a luminosity $M_{\\rm r}\\sim-18$, corresponding to a stellar mass $M_\\ast\\sim10^{9.5}M_\\odot$. This mass scale is independent of halo mass and is comparable to the characteristic luminosity at which galaxies show a dichotomy in surface brightness and size, suggesting that the dichotomy in the old fraction and in galaxy structure may have a common origin. The rising of the old fraction at the faint end for Milky Way (MW)-sized halos found here is in good agreement with the quenched fraction measured both for the MW/M31 system and from the ELVES survey. We discuss the implications of our results for the formation and evolution of low-mass galaxies, and for the stellar mass functions of low-mass galaxies to be observed at high redshift. |\n",
       "|<p style=\"color:green\"> **ERROR** </p>| <p style=\"color:green\">affiliation error: mpia.affiliation_verifications: 'Heidelberg' keyword not found.</p> |"
      ],
      "text/plain": [
       "<IPython.core.display.Markdown object>"
      ]
     },
     "metadata": {},
     "output_type": "display_data"
    },
    {
     "data": {
      "text/markdown": [
       "\n",
       "|||\n",
       "|---:|:---|\n",
       "| [![arXiv](https://img.shields.io/badge/arXiv-arXiv:2210.17334-b31b1b.svg)](https://arxiv.org/abs/arXiv:2210.17334) | **COSMOS2020: Identification of High-z Protocluster Candidates in COSMOS**  |\n",
       "|| Malte Brinch, et al. -- incl., <mark>Daizhong Liu</mark> |\n",
       "|*Appeared on*| *2022-11-01*|\n",
       "|*Comments*| *52 pages, 32 figues, 18 tables, main text is 30 pages, appendix is 22 pages, to be published in ApJ*|\n",
       "|**Abstract**| We conduct a systematic search for protocluster candidates at $z \\geq 6$ in the COSMOS field using the recently released COSMOS2020 source catalog. We select galaxies using a number of selection criteria to obtain a sample of galaxies that have a high probability of being inside a given redshift bin. We then apply overdensity analysis to the bins using two density estimators, a Weighted Adaptive Kernel Estimator and a Weighted Voronoi Tessellation Estimator. We have found 15 significant ($>4\\sigma$) candidate galaxy overdensities across the redshift range $6\\le z\\le7.7$. The majority of the galaxies appear to be on the galaxy main sequence at their respective epochs. We use multiple stellar-mass-to-halo-mass conversion methods to obtain a range of dark matter halo mass estimates for the overdensities in the range of $\\sim10^{11-13}\\,M_{\\rm \\odot}$, at the respective redshifts of the overdensities. The number and the masses of the halos associated with our protocluster candidates are consistent with what is expected from the area of a COSMOS-like survey in a standard $\\Lambda$CDM cosmology. Through comparison with simulation, we expect that all the overdensities at $z\\simeq6$ will evolve into a Virgo-/Coma-like clusters at present (i.e., with masses $\\sim 10^{14}-10^{15}\\,M_{\\rm \\odot}$). Compared to other overdensities identified at $z \\geq 6$ via narrow-band selection techniques, the overdensities presented appear to have $\\sim10\\times$ higher stellar masses and star-formation rates. We compare the evolution in the total star-formation rate and stellar mass content of the protocluster candidates across the redshift range $6\\le z\\le7.7$ and find agreement with the total average star-formation rate from simulations. |\n",
       "|<p style=\"color:green\"> **ERROR** </p>| <p style=\"color:green\">affiliation error: mpia.affiliation_verifications: 'Heidelberg' keyword not found.</p> |"
      ],
      "text/plain": [
       "<IPython.core.display.Markdown object>"
      ]
     },
     "metadata": {},
     "output_type": "display_data"
    },
    {
     "data": {
      "text/markdown": [
       "\n",
       "|||\n",
       "|---:|:---|\n",
       "| [![arXiv](https://img.shields.io/badge/arXiv-arXiv:2210.17389-b31b1b.svg)](https://arxiv.org/abs/arXiv:2210.17389) | **Zonal winds of Uranus and Neptune: Gravitational harmonics, dynamic  self-gravity, shape, and rotation**  |\n",
       "|| Deniz Soyuer, Benno Neuenschwander, <mark>Ravit Helled</mark> |\n",
       "|*Appeared on*| *2022-11-01*|\n",
       "|*Comments*| *Accepted for publication in ApJ*|\n",
       "|**Abstract**| Uranus and Neptune exhibit fast surface zonal winds that can reach up to few hundred meters per second. Previous studies on zonal gravitational harmonics and Ohmic dissipation constraints suggest that the wind speeds diminish rapidly in relatively shallow depths within the planets. Through a case-by-case comparison between the missing dynamical gravitational harmonic $J^\\prime_4$ from structure models, and with that expected from fluid perturbations, we put constraints on zonal wind decay in Uranus and Neptune. To this end, we generate polytropic empirical structure models of Uranus and Neptune using $4^{\\rm th}$-order Theory of Figures (ToF) that leave hydrostatic $J_4$ as an open parameter. Allotting the missing dynamical contribution to density perturbations caused by zonal winds (and their dynamic self-gravity), we find that the maximum scale height of zonal winds are $\\sim 2-3\\%$ of the planetary radii for both planets. Allowing the models to have $J_2$ solutions in the $\\pm 5 \\times 10^{-6}$ range around the observed value has similar implications. The effect of self-gravity on $J^\\prime_4$ is roughly a factor of ten lower than that of zonal winds, as expected. The decay scale heights are virtually insensitive to the proposed modifications to the bulk rotation periods of Uranus and Neptune in the literature. Additionally, we find that the dynamical density perturbations due to zonal winds have a measurable impact on the shape of the planet, and could potentially be used to infer wind decay and bulk rotation period via future observations. |\n",
       "|<p style=\"color:green\"> **ERROR** </p>| <p style=\"color:green\">affiliation error: mpia.affiliation_verifications: 'Heidelberg' keyword not found.</p> |"
      ],
      "text/plain": [
       "<IPython.core.display.Markdown object>"
      ]
     },
     "metadata": {},
     "output_type": "display_data"
    },
    {
     "data": {
      "text/markdown": [
       "\n",
       "|||\n",
       "|---:|:---|\n",
       "| [![arXiv](https://img.shields.io/badge/arXiv-arXiv:2210.16322-b31b1b.svg)](https://arxiv.org/abs/arXiv:2210.16322) | **The Orbits and Dynamical Masses of the Castor System**  |\n",
       "|| <mark>Guillermo Torres</mark>, et al. -- incl., <mark>Claire L. Davies</mark> |\n",
       "|*Appeared on*| *2022-11-01*|\n",
       "|*Comments*| *17 pages in emulateapj format, including figures and tables. Accepted for publication in The Astrophysical Journal*|\n",
       "|**Abstract**| Castor is a system of six stars in which the two brighter objects, Castor A and B, revolve around each other every $\\sim$450 yr and are both short-period spectroscopic binaries. They are attended by the more distant Castor C, which is also a binary. Here we report interferometric observations with the CHARA array that spatially resolve the companions in Castor A and B for the first time. We complement these observations with new radial velocity measurements of A and B spanning 30 yr, with the Hipparcos intermediate data, and with existing astrometric observations of the visual AB pair obtained over the past three centuries. We perform a joint orbital solution to solve simultaneously for the three-dimensional orbits of Castor A and B as well as the AB orbit. We find that they are far from being coplanar: the orbit of A is nearly at right angles (92 degrees) relative to the wide orbit, and that of B is inclined about 59 degrees compared to AB. We determine the dynamical masses of the four stars in Castor A and B to a precision better than 1%. We also determine the radii of the primary stars of both subsystems from their angular diameters measured with CHARA, and use them together with stellar evolution models to infer an age for the system of 290 Myr. The new knowledge of the orbits enables us to measure the slow motion of Castor C as well, which may assist future studies of the dynamical evolution of this remarkable sextuple system. |\n",
       "|<p style=\"color:green\"> **ERROR** </p>| <p style=\"color:green\">affiliation error: mpia.affiliation_verifications: 'Planck' keyword not found.</p> |"
      ],
      "text/plain": [
       "<IPython.core.display.Markdown object>"
      ]
     },
     "metadata": {},
     "output_type": "display_data"
    },
    {
     "data": {
      "text/markdown": [
       "\n",
       "|||\n",
       "|---:|:---|\n",
       "| [![arXiv](https://img.shields.io/badge/arXiv-arXiv:2210.17268-b31b1b.svg)](https://arxiv.org/abs/arXiv:2210.17268) | **Visual Brightness Characteristics of Starlink Generation 1 Satellites**  |\n",
       "|| <mark>Anthony Mallama</mark>, Jay Respler |\n",
       "|*Appeared on*| *2022-11-01*|\n",
       "|*Comments*| **|\n",
       "|**Abstract**| A large dataset of visual magnitudes for all three designs of Starlink satellites is analyzed. Brightness phase functions are derived for the Original, VisorSat and Post-VisorSat models. Similarities and differences between the functions for these spacecraft are noted. A metric called the characteristic magnitude is defined as the average brightness of a satellite when seen overhead at the end of astronomical twilight. When the phase functions are evaluated according to this metric, the characteristic magnitudes are: Original, 4.7; VisorSat, 6.2; and Post-VisorSat, 5.5. |\n",
       "|<p style=\"color:red\"> **ERROR** </p>| <p style=\"color:red\">latex error not a gzip file</p> |"
      ],
      "text/plain": [
       "<IPython.core.display.Markdown object>"
      ]
     },
     "metadata": {},
     "output_type": "display_data"
    },
    {
     "data": {
      "text/markdown": [
       "\n",
       "|||\n",
       "|---:|:---|\n",
       "| [![arXiv](https://img.shields.io/badge/arXiv-arXiv:2210.17430-b31b1b.svg)](https://arxiv.org/abs/arXiv:2210.17430) | **Unstructured Grid Dynamical Modeling of Planetary Atmospheres using  planetMPAS: The Influence of the Rigid Lid, Computational Efficiency, and  Examples of Martian and Jovian Application**  |\n",
       "|| <mark>Yuan Lian</mark>, Mark I. Richardson |\n",
       "|*Appeared on*| *2022-11-01*|\n",
       "|*Comments*| *Manuscript has 61 pages, 20 figures, 2 tables, submitted to Planetary and Space Science*|\n",
       "|**Abstract**| We present a new planetary global circulation model, planetMPAS, based on the state-of-the-art NCAR MPAS General Circulation Model. Taking advantage of the cross compatibility between WRF and MPAS, planetMPAS includes most of the planetWRF physics parameterization schemes for terrestrial planets such as Mars and Titan. PlanetMPAS also includes a set of physics that represents radiative transfer, dry convection, moist convection and its associated microphysics for the Jovian atmosphere. We demonstrate that, despite the rigid-lid approximation, planetMPAS is suitable to simulate the climate systems in Martian and Jovian atmospheres with potential application to slow-rotating planets such as Titan. Simulations using planetMPAS show that the new model can reproduce many aspects of the observed features on Mars and Jupiter, such as the seasonal CO2 cycle, polar argon enrichment, zonal mean temperature, and qualitative dust opacity on Mars, as well as the equatorial superrotation and banded zonal wind patterns on Jupiter. |\n",
       "|<p style=\"color:red\"> **ERROR** </p>| <p style=\"color:red\">latex error not a gzip file</p> |"
      ],
      "text/plain": [
       "<IPython.core.display.Markdown object>"
      ]
     },
     "metadata": {},
     "output_type": "display_data"
    }
   ],
   "source": [
    "import datetime\n",
    "today = str(datetime.date.today())\n",
    "logfile = f\"_build/html/logs/log-{today}.md\"\n",
    "\n",
    "\n",
    "with open(logfile, 'w') as logs:\n",
    "    # Success\n",
    "    logs.write(f'# Arxiv on Deck 2: Logs - {today}\\n\\n')\n",
    "    logs.write(\"\"\"* Arxiv had {0:,d} new papers\\n\"\"\".format(len(new_papers)))\n",
    "    logs.write(\"\"\"    * {0:,d} with possible author matches\\n\\n\"\"\".format(len(candidates)))\n",
    "    logs.write(\"## Sucessful papers\\n\\n\")\n",
    "    display(Markdown(\"## Successful papers\"))\n",
    "    success = [k[0] for k in documents]\n",
    "    for candid in candidates:\n",
    "        if candid['identifier'].split(':')[-1] in success:\n",
    "            display(candid)\n",
    "            logs.write(candid.generate_markdown_text() + '\\n\\n')\n",
    "\n",
    "    ## failed\n",
    "    logs.write(\"## Failed papers\\n\\n\")\n",
    "    display(Markdown(\"## Failed papers\"))\n",
    "    failed = sorted(failed, key=lambda x: x[1])\n",
    "    current_reason = \"\"\n",
    "    for paper, reason in failed:\n",
    "        if 'affiliation' in reason:\n",
    "            color = 'green'\n",
    "        else:\n",
    "            color = 'red'\n",
    "        data = Markdown(\n",
    "                paper.generate_markdown_text() + \n",
    "                f'\\n|<p style=\"color:{color:s}\"> **ERROR** </p>| <p style=\"color:{color:s}\">{reason:s}</p> |'\n",
    "               )\n",
    "        if reason != current_reason:\n",
    "            logs.write(f'### {reason:s} \\n\\n')\n",
    "            current_reason = reason\n",
    "        logs.write(data.data + '\\n\\n')\n",
    "        \n",
    "        # only display here the important errors (all in logs)\n",
    "        # if color in ('red',):\n",
    "        display(data)"
   ]
  },
  {
   "cell_type": "markdown",
   "id": "472d20ee",
   "metadata": {
    "papermill": {
     "duration": 0.009994,
     "end_time": "2022-11-01T05:06:36.941098",
     "exception": false,
     "start_time": "2022-11-01T05:06:36.931104",
     "status": "completed"
    },
    "tags": []
   },
   "source": [
    "## Export documents\n",
    "\n",
    "We now write the .md files and export relevant images"
   ]
  },
  {
   "cell_type": "code",
   "execution_count": 7,
   "id": "d426aed9",
   "metadata": {
    "execution": {
     "iopub.execute_input": "2022-11-01T05:06:36.963014Z",
     "iopub.status.busy": "2022-11-01T05:06:36.962341Z",
     "iopub.status.idle": "2022-11-01T05:06:36.969857Z",
     "shell.execute_reply": "2022-11-01T05:06:36.969181Z"
    },
    "papermill": {
     "duration": 0.020174,
     "end_time": "2022-11-01T05:06:36.971369",
     "exception": false,
     "start_time": "2022-11-01T05:06:36.951195",
     "status": "completed"
    },
    "tags": []
   },
   "outputs": [],
   "source": [
    "def export_markdown_summary(md: str, md_fname:str, directory: str):\n",
    "    \"\"\"Export MD document and associated relevant images\"\"\"\n",
    "    import os\n",
    "    import shutil\n",
    "    import re\n",
    "\n",
    "    if (os.path.exists(directory) and not os.path.isdir(directory)):\n",
    "        raise RuntimeError(f\"a non-directory file exists with name {directory:s}\")\n",
    "\n",
    "    if (not os.path.exists(directory)):\n",
    "        print(f\"creating directory {directory:s}\")\n",
    "        os.mkdir(directory)\n",
    "\n",
    "    fig_fnames = (re.compile(r'\\[Fig.*\\]\\((.*)\\)').findall(md) + \n",
    "                  re.compile(r'\\<img src=\"([^>\\s]*)\"[^>]*/>').findall(md))\n",
    "    for fname in fig_fnames:\n",
    "        if 'http' in fname:\n",
    "            # No need to copy online figures\n",
    "            continue\n",
    "        destdir = os.path.join(directory, os.path.dirname(fname))\n",
    "        destfname = os.path.join(destdir, os.path.basename(fname))\n",
    "        try:\n",
    "            os.makedirs(destdir)\n",
    "        except FileExistsError:\n",
    "            pass\n",
    "        shutil.copy(fname, destfname)\n",
    "    with open(os.path.join(directory, md_fname), 'w') as fout:\n",
    "        fout.write(md)\n",
    "    print(\"exported in \", os.path.join(directory, md_fname))\n",
    "    [print(\"    + \" + os.path.join(directory,fk)) for fk in fig_fnames]"
   ]
  },
  {
   "cell_type": "code",
   "execution_count": 8,
   "id": "014d04a4",
   "metadata": {
    "execution": {
     "iopub.execute_input": "2022-11-01T05:06:36.993280Z",
     "iopub.status.busy": "2022-11-01T05:06:36.992693Z",
     "iopub.status.idle": "2022-11-01T05:06:37.004304Z",
     "shell.execute_reply": "2022-11-01T05:06:37.003639Z"
    },
    "papermill": {
     "duration": 0.024078,
     "end_time": "2022-11-01T05:06:37.005874",
     "exception": false,
     "start_time": "2022-11-01T05:06:36.981796",
     "status": "completed"
    },
    "tags": []
   },
   "outputs": [
    {
     "name": "stdout",
     "output_type": "stream",
     "text": [
      "exported in  _build/html/2210.17434.md\n",
      "    + _build/html/tmp_2210.17434/./Figures/ami_psf.png\n",
      "    + _build/html/tmp_2210.17434/./Figures/NRMprototype.png\n",
      "    + _build/html/tmp_2210.17434/./Figures/CLEARP.png\n",
      "    + _build/html/tmp_2210.17434/./Figures/zodi_visamps_com_sim_rc.png\n"
     ]
    }
   ],
   "source": [
    "for paper_id, md in documents:\n",
    "    export_markdown_summary(md, f\"{paper_id:s}.md\", '_build/html/')"
   ]
  },
  {
   "cell_type": "markdown",
   "id": "f087a0a7",
   "metadata": {
    "papermill": {
     "duration": 0.010127,
     "end_time": "2022-11-01T05:06:37.026024",
     "exception": false,
     "start_time": "2022-11-01T05:06:37.015897",
     "status": "completed"
    },
    "tags": []
   },
   "source": [
    "## Display the papers\n",
    "\n",
    "Not necessary but allows for a quick check."
   ]
  },
  {
   "cell_type": "code",
   "execution_count": 9,
   "id": "fd25f625",
   "metadata": {
    "execution": {
     "iopub.execute_input": "2022-11-01T05:06:37.048555Z",
     "iopub.status.busy": "2022-11-01T05:06:37.047842Z",
     "iopub.status.idle": "2022-11-01T05:06:37.055925Z",
     "shell.execute_reply": "2022-11-01T05:06:37.054747Z"
    },
    "papermill": {
     "duration": 0.021993,
     "end_time": "2022-11-01T05:06:37.058032",
     "exception": false,
     "start_time": "2022-11-01T05:06:37.036039",
     "status": "completed"
    },
    "scrolled": false,
    "tags": []
   },
   "outputs": [
    {
     "data": {
      "text/markdown": [
       "<div class=\"macros\" style=\"visibility:hidden;\">\n",
       "$\\newcommand{\\ensuremath}{}$\n",
       "$\\newcommand{\\xspace}{}$\n",
       "$\\newcommand{\\object}[1]{\\texttt{#1}}$\n",
       "$\\newcommand{\\farcs}{{.}''}$\n",
       "$\\newcommand{\\farcm}{{.}'}$\n",
       "$\\newcommand{\\arcsec}{''}$\n",
       "$\\newcommand{\\arcmin}{'}$\n",
       "$\\newcommand{\\ion}[2]{#1#2}$\n",
       "$\\newcommand{\\textsc}[1]{\\textrm{#1}}$\n",
       "$\\newcommand{\\hl}[1]{\\textrm{#1}}$\n",
       "$\\newcommand{\\etal}{\\textit{et al}.}$\n",
       "$\\newcommand{\\ie}{\\textit{i}.\\textit{e}.}$\n",
       "$\\newcommand{\\eg}{\\textit{e}.\\textit{g}.}$\n",
       "$\\newcommand$\n",
       "$\\newcommand$\n",
       "$\\newcommand$\n",
       "$\\newcommand$\n",
       "$\\newcommand$\n",
       "$\\newcommand{\\nicemicron}{\\text{\\textmu m}}$\n",
       "$\\newcommand{\\angstrom}{\\textup{\\AA}}$\n",
       "$\\newcommand{\\uvplane}{uv-plane}$\n",
       "$\\newcommand{\\mirage}{\\texttt{MIRaGe}}$\n",
       "$\\newcommand{\\finished}{\\bf \\color{black}}$\n",
       "$\\newcommand{\\indraft}{\\color{blue}}$\n",
       "$\\newcommand{\\notstarted}{\\color{red}}$\n",
       "$\\newcommand{\\logl}{\\ln \\mathcal{L}}$\n",
       "$\\newcommand$\n",
       "$\\newcommand$\n",
       "$\\newcommand$\n",
       "$\\newcommand$\n",
       "$\\newcommand$\n",
       "$\\newcommand$\n",
       "$\\newcommand$\n",
       "$\\newcommand$\n",
       "$\\newcommand$\n",
       "$\\newcommand$\n",
       "$\\newcommand$\n",
       "$\\newcommand$\n",
       "$\\newcommand$\n",
       "$\\newcommand$\n",
       "$\\newcommand$\n",
       "$\\newcommand$\n",
       "$\\newcommand$\n",
       "$\\newcommand$\n",
       "$\\newcommand$\n",
       "$\\newcommand$\n",
       "$\\newcommand$\n",
       "$\\newcommand$\n",
       "$\\newcommand$\n",
       "$\\newcommand$\n",
       "$\\newcommand$</div>\n",
       "\n",
       "<div class=\"macros\" style=\"visibility:hidden;\">\n",
       "$\\newcommand{$\\ensuremath$}{}$\n",
       "$\\newcommand{$\\xspace$}{}$\n",
       "$\\newcommand{$\\object$}[1]{\\texttt{#1}}$\n",
       "$\\newcommand{$\\farcs$}{{.}''}$\n",
       "$\\newcommand{$\\farcm$}{{.}'}$\n",
       "$\\newcommand{$\\arcsec$}{''}$\n",
       "$\\newcommand{$\\arcmin$}{'}$\n",
       "$\\newcommand{$\\ion$}[2]{#1#2}$\n",
       "$\\newcommand{$\\textsc$}[1]{\\textrm{#1}}$\n",
       "$\\newcommand{$\\hl$}[1]{\\textrm{#1}}$\n",
       "$\\newcommand{$\\etal$}{\\textit{et al}.}$\n",
       "$\\newcommand{$\\ie$}{\\textit{i}.\\textit{e}.}$\n",
       "$\\newcommand{$\\eg$}{\\textit{e}.\\textit{g}.}$\n",
       "$\\newcommand$\n",
       "$\\newcommand$\n",
       "$\\newcommand$\n",
       "$\\newcommand$\n",
       "$\\newcommand$\n",
       "$\\newcommand{$\\nicemicron$}{\\text{\\textmu m}}$\n",
       "$\\newcommand{$\\angstrom$}{\\textup{\\AA}}$\n",
       "$\\newcommand{$\\uvplane$}{uv-plane}$\n",
       "$\\newcommand{$\\mirage$}{\\texttt{MIRaGe}}$\n",
       "$\\newcommand{$\\finished$}{\\bf \\color{black}}$\n",
       "$\\newcommand{$\\indraft$}{\\color{blue}}$\n",
       "$\\newcommand{$\\notstarted$}{\\color{red}}$\n",
       "$\\newcommand{$\\logl$}{\\ln \\mathcal{L}}$\n",
       "$\\newcommand$\n",
       "$\\newcommand$\n",
       "$\\newcommand$\n",
       "$\\newcommand$\n",
       "$\\newcommand$\n",
       "$\\newcommand$\n",
       "$\\newcommand$\n",
       "$\\newcommand$\n",
       "$\\newcommand$\n",
       "$\\newcommand$\n",
       "$\\newcommand$\n",
       "$\\newcommand$\n",
       "$\\newcommand$\n",
       "$\\newcommand$\n",
       "$\\newcommand$\n",
       "$\\newcommand$\n",
       "$\\newcommand$\n",
       "$\\newcommand$\n",
       "$\\newcommand$\n",
       "$\\newcommand$\n",
       "$\\newcommand$\n",
       "$\\newcommand$\n",
       "$\\newcommand$\n",
       "$\\newcommand$\n",
       "$\\newcommand$</div>\n",
       "\n",
       "\n",
       "\n",
       "<div id=\"title\">\n",
       "\n",
       "# The Near Infrared Imager and Slitless Spectrograph for    the  James Webb Space Telescope -    IV. Aperture Masking Interferometry\n",
       "\n",
       "</div>\n",
       "<div id=\"comments\">\n",
       "\n",
       "[![arXiv](https://img.shields.io/badge/arXiv-2210.17434-b31b1b.svg)](https://arxiv.org/abs/2210.17434)<mark>Appeared on: 2022-11-01</mark> - _30 pages, 10 figures_\n",
       "\n",
       "</div>\n",
       "<div id=\"authors\">\n",
       "\n",
       "Anand Sivaramakrishnan, et al. -- incl., <mark>Alexandra Z. Greenbaum</mark>, <mark>Michael R. Meyer</mark>\n",
       "\n",
       "</div>\n",
       "<div id=\"abstract\">\n",
       "\n",
       "**Abstract:** The James Webb Space Telescope's Near Infrared Imager and Slitless Spectrograph (JWST-NIRISS) flies a 7-hole non-redundant mask (NRM), the first such interferometer in space, operating at 3-5$\\nicemicron$wavelengths, and a bright limit of$\\simeq 4$magnitudes in W2.   We describe the NIRISS Aperture Masking Interferometry (AMI) mode to help potential observers understand its underlying principles, present some sample science cases, explain its operational observing strategies, indicate how AMI proposals can be developed with data simulations, and how AMI data can be analyzed.  We also present key results from commissioning AMI.  Since the allied Kernel Phase Imaging (KPI) technique benefits from AMI operational strategies, we also cover NIRISS KPI methods and analysis techniques, including a new user-friendly KPI pipeline.  The NIRISS KPI bright limit is$\\simeq 8$W2 magnitudes.  AMI (and KPI) achieve an inner working angle of$\\sim  70$mas that is well inside the$\\sim 400$mas NIRCam inner working angle for its circular occulter coronagraphs at comparable wavelengths.\n",
       "\n",
       "</div>\n",
       "\n",
       "<div id=\"div_fig1\">\n",
       "\n",
       "<img src=\"tmp_2210.17434/./Figures/ami_psf.png\" alt=\"Fig1\" width=\"100%\"/>\n",
       "\n",
       "**Figure 1. -** The JWST-NIRISS AMI NRM, PSF, and its uv-coverage. \\textbf{Left}: AMI's 7 hole pupil mask. \\textbf{Middle}: a point source image taken through the NRM, showing a bright peak at the phase center, and with the primary beam crisscrossed by fringe patterns at 21 spatial frequencies. \\textbf{Right}: The Fourier amplitude of the PSF. Note 21 \"splodges\" isolating regions of strong fringe signal (in red) and their mirrored Hermitian counterparts in this $\\uvplane$ coverage, or Modulation Transfer Function (MTF), plot. (*fig:pup_psf_mtf*)\n",
       "\n",
       "</div>\n",
       "<div id=\"div_fig2\">\n",
       "\n",
       "<img src=\"tmp_2210.17434/./Figures/NRMprototype.png\" alt=\"Fig2.1\" width=\"50%\"/><img src=\"tmp_2210.17434/./Figures/CLEARP.png\" alt=\"Fig2.2\" width=\"50%\"/>\n",
       "\n",
       "**Figure 2. -** Left: A full size prototype of the NRM flying aboard NIRISS AMI.  The nominal JWST pupil circumscribing circle diameter is  $40 \\mathrm{mm}$ in the plane of the mask.  Right: The CLEARP pupil mask enables full pupil images using AMI filters, target acquisition, and fast readout subarray. The backwards-facing reflective element at the center of CLEARP is an unilluminated pupil alignment mirror which defines the inner edge of the pupil.  This reflective surface represents 8.8\\% of the full telescope pupil, while the telescope central obscuration is $\\sim$5.2\\%.   Thus some scattered light from starlight is possible from the edges of this pupil alignment mirror.   CLEARP’s outer edge is oversized by $\\sim$4\\% compared to the JWST primary mirror. (*fig:g7s6clearp*)\n",
       "\n",
       "</div>\n",
       "<div id=\"div_fig3\">\n",
       "\n",
       "<img src=\"tmp_2210.17434/./Figures/zodi_visamps_com_sim_rc.png\" alt=\"Fig3\" width=\"100%\"/>\n",
       "\n",
       "**Figure 3. -** Squared visibilities as a function of maximum baseline length. Simulated AMI observations of the dusty debris system $\\eta$ Crv  and a hypothetical exozodiacal system with 100 times lower dust density were analyzed with a precursor to the \\texttt{AMICAL} interferometric package.  Commissioning results (utilizing \\texttt{ImPlaneIA}) of a calibrator star calibrated against another calibrator star are also shown.  These data indicate $\\eta$ Crv's zodiacal light can be detected with AMI.  Improved charge migration calibration could yet render the fainter disk detectable. Such data could constrain the form of the extrazodiacal dust distribution in a routine AMI observation of a single target-calibrator pair.  JWST Program 1242 includes such an observation. (*fig:zodi*)\n",
       "\n",
       "</div>"
      ],
      "text/plain": [
       "<IPython.core.display.Markdown object>"
      ]
     },
     "metadata": {},
     "output_type": "display_data"
    }
   ],
   "source": [
    "[display(Markdown(k[1])) for k in documents];"
   ]
  },
  {
   "cell_type": "markdown",
   "id": "873873a4",
   "metadata": {
    "papermill": {
     "duration": 0.010454,
     "end_time": "2022-11-01T05:06:37.079082",
     "exception": false,
     "start_time": "2022-11-01T05:06:37.068628",
     "status": "completed"
    },
    "tags": []
   },
   "source": [
    "# Create HTML index"
   ]
  },
  {
   "cell_type": "code",
   "execution_count": 10,
   "id": "cf665672",
   "metadata": {
    "execution": {
     "iopub.execute_input": "2022-11-01T05:06:37.101525Z",
     "iopub.status.busy": "2022-11-01T05:06:37.100835Z",
     "iopub.status.idle": "2022-11-01T05:06:37.110806Z",
     "shell.execute_reply": "2022-11-01T05:06:37.110117Z"
    },
    "papermill": {
     "duration": 0.023088,
     "end_time": "2022-11-01T05:06:37.112451",
     "exception": false,
     "start_time": "2022-11-01T05:06:37.089363",
     "status": "completed"
    },
    "tags": []
   },
   "outputs": [
    {
     "name": "stdout",
     "output_type": "stream",
     "text": [
      "74  publications in the last 7 days.\n",
      "\t _build/html/2210.17434.md\n",
      "\t _build/html/2210.12412.md\n",
      "\t _build/html/2210.11926.md\n",
      "\t _build/html/2210.11551.md\n",
      "\t _build/html/2210.11103.md\n",
      "\t _build/html/2210.10707.md\n",
      "\t _build/html/2210.09930.md\n",
      "\t _build/html/2210.08996.md\n",
      "\t _build/html/2210.08517.md\n",
      "\t _build/html/2210.08510.md\n",
      "\t _build/html/2210.08078.md\n",
      "\t _build/html/2210.06504.md\n",
      "\t _build/html/2210.05695.md\n",
      "\t _build/html/2210.05595.md\n",
      "\t _build/html/2210.05505.md\n",
      "\t _build/html/2210.04721.md\n",
      "\t _build/html/2210.03615.md\n",
      "\t _build/html/2210.01811.md\n",
      "\t _build/html/2210.01809.md\n",
      "\t _build/html/2210.01556.md\n",
      "\t _build/html/2210.00863.md\n",
      "\t _build/html/2210.00560.md\n",
      "\t _build/html/2209.15403.md\n",
      "\t _build/html/2209.15110.md\n",
      "\t _build/html/2209.14410.md\n",
      "\t _build/html/2209.14396.md\n",
      "\t _build/html/2209.13717.md\n",
      "\t _build/html/2209.13336.md\n",
      "\t _build/html/2209.12906.md\n",
      "\t _build/html/2209.11781.md\n",
      "\t _build/html/2209.11602.md\n",
      "\t _build/html/2209.11248.md\n",
      "\t _build/html/2209.11096.md\n",
      "\t _build/html/2209.10618.md\n",
      "\t _build/html/2209.09914.md\n",
      "\t _build/html/2209.09823.md\n",
      "\t _build/html/2209.08242.md\n",
      "\t _build/html/2209.08120.md\n",
      "\t _build/html/2209.08106.md\n",
      "\t _build/html/2209.07962.md\n",
      "\t _build/html/2209.07931.md\n",
      "\t _build/html/2209.06833.md\n",
      "\t _build/html/2209.05814.md\n",
      "\t _build/html/2209.05593.md\n",
      "\t _build/html/2209.04304.md\n",
      "\t _build/html/2209.03367.md\n",
      "\t _build/html/2209.02872.md\n",
      "\t _build/html/2209.02725.md\n",
      "\t _build/html/2209.02722.md\n",
      "\t _build/html/2209.02092.md\n",
      "\t _build/html/2209.01125.md\n",
      "\t _build/html/2209.00828.md\n",
      "\t _build/html/2209.00363.md\n",
      "\t _build/html/2208.14927.md\n",
      "\t _build/html/2208.09335.md\n",
      "\t _build/html/2208.08872.md\n",
      "\t _build/html/2204.06393.md\n",
      "\t _build/html/2204.03335.md\n",
      "\t _build/html/2204.03253.md\n",
      "\t _build/html/2204.02998.md\n",
      "\t _build/html/2204.02109.md\n",
      "\t _build/html/2204.02017.md\n",
      "\t _build/html/2204.01824.md\n",
      "\t _build/html/2204.01758.md\n",
      "\t _build/html/2204.01245.md\n",
      "\t _build/html/2204.00793.md\n",
      "\t _build/html/2204.00342.md\n",
      "\t _build/html/2203.16959.md\n",
      "\t _build/html/2203.16856.md\n",
      "\t _build/html/2203.16735.md\n",
      "\t _build/html/2203.16734.md\n",
      "\t _build/html/2203.16504.md\n",
      "\t _build/html/2203.15822.md\n",
      "\t _build/html/2203.15811.md\n"
     ]
    }
   ],
   "source": [
    "from datetime import datetime, timedelta, timezone\n",
    "from glob import glob\n",
    "\n",
    "files = glob('_build/html/*.md')\n",
    "days = 7\n",
    "now = datetime.today()\n",
    "res = []\n",
    "for fk in files:\n",
    "    stat_result = os.stat(fk).st_ctime\n",
    "    modified = datetime.fromtimestamp(stat_result, tz=timezone.utc).replace(tzinfo=None)\n",
    "    delta = now.today() - modified\n",
    "    if delta <= timedelta(days=days):\n",
    "        res.append((delta.seconds, fk))\n",
    "res = [k[1] for k in reversed(sorted(res, key=lambda x:x[1]))]\n",
    "npub = len(res)\n",
    "print(len(res), f\" publications in the last {days:d} days.\")\n",
    "[ print('\\t', k) for k in res ];"
   ]
  },
  {
   "cell_type": "code",
   "execution_count": 11,
   "id": "52ca0208",
   "metadata": {
    "execution": {
     "iopub.execute_input": "2022-11-01T05:06:37.134974Z",
     "iopub.status.busy": "2022-11-01T05:06:37.134406Z",
     "iopub.status.idle": "2022-11-01T05:06:37.142073Z",
     "shell.execute_reply": "2022-11-01T05:06:37.141320Z"
    },
    "papermill": {
     "duration": 0.021051,
     "end_time": "2022-11-01T05:06:37.143966",
     "exception": false,
     "start_time": "2022-11-01T05:06:37.122915",
     "status": "completed"
    },
    "scrolled": false,
    "tags": []
   },
   "outputs": [],
   "source": [
    "def create_carousel(npub=4):\n",
    "    \"\"\" Generate the HTML code for a carousel with `npub` slides \"\"\"\n",
    "    carousel = [\"\"\"<section class=\"carousel\" aria-label=\"Gallery\">\"\"\",\n",
    "                \"\"\"  <ol class=\"carousel__viewport\">\"\"\",\n",
    "    ]\n",
    "    for k in range(1, npub + 1):\n",
    "        prev_ = k - 1\n",
    "        next_ = k + 1\n",
    "        if prev_ <= 0:\n",
    "            prev_ = npub\n",
    "        if next_ > npub:\n",
    "            next_ = 1\n",
    "        text  = f\"\"\"    <li id=\"carousel__slide{k}\" tabindex=\"0\" class=\"carousel__slide\">\\n\"\"\"\n",
    "        text += f\"\"\"       <div class=\"carousel__snapper\">\\n\"\"\"\n",
    "        text += f\"\"\"         <a href=\"#carousel__slide{prev_}\" class=\"carousel__prev\">Go to previous slide</a>\\n\"\"\"\n",
    "        text += f\"\"\"         <a href=\"#carousel__slide{next_}\" class=\"carousel__next\">Go to next slide</a>\\n\"\"\"\n",
    "        text += f\"\"\"         <div id=\"slide{k}_content\" class=\"md_view\" >Content {k}</div>\\n\"\"\"\n",
    "        text += f\"\"\"       </div>\\n\"\"\"\n",
    "        text += f\"\"\"    </li>\"\"\"\n",
    "        carousel.append(text)\n",
    "\n",
    "    carousel.extend([\n",
    "        \"\"\"  </ol>\"\"\",\n",
    "        \"\"\"  <aside class=\"carousel__navigation\">\"\"\",\n",
    "        \"\"\"    <ol class=\"carousel__navigation-list\">\"\"\"])\n",
    "\n",
    "    for k in range(1, npub + 1):\n",
    "        text  = f\"\"\"      <li class=\"carousel__navigation-item\">\\n\"\"\"\n",
    "        text += f\"\"\"        <a href=\"#carousel__slide{k}\" class=\"carousel__navigation-button\">Go to {k}</a>\\n\"\"\"\n",
    "        text += f\"\"\"      </li>\"\"\"\n",
    "        carousel.append(text)\n",
    "    carousel.extend([\"\"\"    </ol>\"\"\", \"\"\"  </aside>\"\"\", \"\"\"</section>\"\"\"])\n",
    "\n",
    "    return '\\n'.join(carousel)"
   ]
  },
  {
   "cell_type": "code",
   "execution_count": 12,
   "id": "a6eac5b6",
   "metadata": {
    "execution": {
     "iopub.execute_input": "2022-11-01T05:06:37.200200Z",
     "iopub.status.busy": "2022-11-01T05:06:37.199860Z",
     "iopub.status.idle": "2022-11-01T05:06:37.207196Z",
     "shell.execute_reply": "2022-11-01T05:06:37.206448Z"
    },
    "papermill": {
     "duration": 0.053972,
     "end_time": "2022-11-01T05:06:37.208716",
     "exception": false,
     "start_time": "2022-11-01T05:06:37.154744",
     "status": "completed"
    },
    "scrolled": false,
    "tags": []
   },
   "outputs": [],
   "source": [
    "carousel = create_carousel(npub)\n",
    "docs = ', '.join(['\"{0:s}\"'.format(k.split('/')[-1]) for k in res])\n",
    "slides = ', '.join([f'\"slide{k}_content\"' for k in range(1, npub + 1)])\n",
    "\n",
    "script = f\"\"\"\n",
    "const docs = [{docs}]\n",
    "\n",
    "const slides = [{slides}]\n",
    "\"\"\" + \"\"\"\n",
    "async function run() {\n",
    "    for (let i = 0; i < docs.length; i++) {\n",
    "        let file = await fetch(docs[i]);\n",
    "        let text = await file.text()\n",
    "        document.getElementById(slides[i]).innerHTML =\n",
    "            marked.parse(text);\n",
    "    }\n",
    "    hljs.highlightAll();\n",
    "}\n",
    "run()\n",
    "\"\"\"\n",
    "\n",
    "page = f\"\"\"<!doctype html>\n",
    "<html lang=\"en\">\n",
    "\n",
    "<head>\n",
    "  <meta charset=\"utf-8\">\n",
    "  <meta name=\"viewport\" content=\"width=device-width, initial-scale=1\">\n",
    "  <!-- Bootstrap CSS -->\n",
    "  <link href=\"https://cdn.jsdelivr.net/npm/bootstrap@5.0.2/dist/css/bootstrap.min.css\" rel=\"stylesheet\"\n",
    "   integrity=\"sha384-EVSTQN3/azprG1Anm3QDgpJLIm9Nao0Yz1ztcQTwFspd3yD65VohhpuuCOmLASjC\" crossorigin=\"anonymous\">\n",
    "  <!-- highlight.js CSS -->\n",
    "  <link rel=\"stylesheet\" href=\"https://cdnjs.cloudflare.com/ajax/libs/highlight.js/11.1.0/styles/default.min.css\">\n",
    "  <!-- Mathjax 3 -->\n",
    "  <script type=\"text/javascript\" id=\"MathJax-config\" src=\"mathjax_config.js\"> </script>\n",
    "  <script type=\"text/javascript\" id=\"MathJax-script\" async \n",
    "    src=\"https://cdn.jsdelivr.net/npm/mathjax@3/es5/tex-mml-chtml.js\">\n",
    "  </script>\n",
    "  <link rel=\"stylesheet\" href=\"index_carousel.css\">\n",
    "  <link rel=\"icon\" type=\"image/x-icon\" href=\"https://www.mpia.de/assets/touch-icon-32x32-a66937bcebc4e8894ebff1f41a366c7c7220fd97a38869ee0f2db65a9f59b6c1.png\">\n",
    "  <title>MPIA Arxiv on deck!</title>\n",
    "</head>\n",
    "\n",
    "<body>\n",
    "  <div id=\"header\"> <img src=\"header_banner.png\" width=\"100%\"></div>\n",
    "  <div id=\"suptitle\"> 7-day archives </div>\n",
    "  <div id=\"info\">\n",
    "    <img src=\"https://pngimg.com/uploads/github/github_PNG58.png\" height=30rem></img>\n",
    "    <a href=https://github.com/mpi-astronomy/arxiv_display style=\"color:black;\">github/mpi-astronomy/arxiv_display</a> \n",
    "  </div>\n",
    "  {carousel:s}\n",
    "</body>\n",
    "\n",
    "<!-- Render Markdown -->\n",
    "\n",
    "<body>\n",
    "  <!-- highlight.js: https://highlightjs.org/download/ -->\n",
    "  <script src=\"https://cdnjs.cloudflare.com/ajax/libs/highlight.js/11.5.0/highlight.min.js\"></script>\n",
    "  <!-- marked.js -->\n",
    "  <script src=\"https://cdn.jsdelivr.net/npm/marked/marked.min.js\"></script>\n",
    "  <script>{script:s}</script>\n",
    "</body>\n",
    "</html>\n",
    "\"\"\"\n",
    "with open(\"_build/html/index_7days.html\", 'w') as fout:\n",
    "    fout.write(page)"
   ]
  },
  {
   "cell_type": "markdown",
   "id": "1cebacbc",
   "metadata": {
    "papermill": {
     "duration": 0.010524,
     "end_time": "2022-11-01T05:06:37.230065",
     "exception": false,
     "start_time": "2022-11-01T05:06:37.219541",
     "status": "completed"
    },
    "tags": []
   },
   "source": [
    "# Debugging papers"
   ]
  },
  {
   "cell_type": "raw",
   "id": "debe7cc6",
   "metadata": {
    "papermill": {
     "duration": 0.010509,
     "end_time": "2022-11-01T05:06:37.250964",
     "exception": false,
     "start_time": "2022-11-01T05:06:37.240455",
     "status": "completed"
    },
    "tags": []
   },
   "source": [
    "raise NotImplementedError(\"Manual Stop\")"
   ]
  },
  {
   "cell_type": "raw",
   "id": "eb169192",
   "metadata": {
    "papermill": {
     "duration": 0.010513,
     "end_time": "2022-11-01T05:06:37.271908",
     "exception": false,
     "start_time": "2022-11-01T05:06:37.261395",
     "status": "completed"
    },
    "scrolled": true,
    "tags": []
   },
   "source": [
    "from IPython.display import display, Markdown\n",
    "from TexSoup import TexSoup\n",
    "import re\n",
    "\n",
    "def bracket_error(source: str):\n",
    "    \"\"\" Find problematic portions of the document \"\"\"\n",
    "    \n",
    "    print(\"len(source)\", len(source))\n",
    "    \n",
    "    # Checking header\n",
    "    begin_doc = next(re.finditer(r'\\\\begin\\{document\\}', doc.source)).span()[1]\n",
    "    header = source[:begin_doc]\n",
    "    text = header + r\"\\n\\end{document}\"\n",
    "\n",
    "    try:\n",
    "        # print(\"Header check... \", end='')\n",
    "        TexSoup(text)\n",
    "        display(Markdown(f\"**[OK]** - Header\"))\n",
    "    except:\n",
    "        raise RuntimeError(\"Error in the header\")\n",
    "        \n",
    "    # Check the text per section until the end.\n",
    "    # Do not stop and try them all.\n",
    "    \n",
    "    problematic_text = []\n",
    "    \n",
    "    sections = ([(0, begin_doc, 'until first section')] + \n",
    "                [(g.span()[0], g.span()[1], g.group()) for g in re.finditer(r'\\\\section\\{.*\\}', source)] +\n",
    "                [(g.span()[0], g.span()[1], g.group()) for g in re.finditer(r'\\\\begin\\{appendix\\}', source)]\n",
    "               )\n",
    "    sections.append([len(source), len(source), 'end'])\n",
    "    \n",
    "    sections = sorted(sections, key=lambda x: x[0])\n",
    "    \n",
    "    prev_pos, prev_name = (0, 'header')\n",
    "    parsed = []\n",
    "    \n",
    "    for span, span_end, name in sections:\n",
    "\n",
    "        if span - prev_pos <= 0:\n",
    "            continue\n",
    "            \n",
    "\n",
    "        text = source[prev_pos:span]\n",
    "        if prev_pos > begin_doc:\n",
    "            text = r\"\\n\\begin{document}\" + text + r\"\\n\\end{document}\"\n",
    "        else:\n",
    "            text = text + r\"\\n\\end{document}\"\n",
    "        try:\n",
    "            #print(f\"{prev_pos}:{prev_name}-->{span}:{name} check... \", end='')\n",
    "            parsed.append(TexSoup(text, tolerance=1))  # allow not ending env\n",
    "            display(Markdown(f\"**[OK]** - *{prev_pos}*:{prev_name} &rarr; *{span}*:{name}\"))\n",
    "            # print(\"ok\")\n",
    "\n",
    "            prev_pos = span\n",
    "            prev_name = name\n",
    "        except:\n",
    "            # print(f\"error between {prev_pos} and {span}\")\n",
    "            display(Markdown(f\"**[ERR]** *{prev_pos}*:{prev_name} &rarr; *{span}*:{name}\"))\n",
    "            problematic_text.append((prev_pos, source[prev_pos:span]))\n",
    "            prev_pos = span\n",
    "            prev_name = name\n",
    "            # raise\n",
    "    return problematic_text, parsed\n",
    "\n",
    "\n",
    "def check_environment(text, offset=0):\n",
    "    \"\"\" Check environment \"\"\"\n",
    "    env = re.compile(r\"\\\\begin\\{(?P<env>.*)\\}(.*)\\\\end\\{(?P=env)\\}\", re.DOTALL)\n",
    "\n",
    "    for match in env.finditer(text):\n",
    "        beg, end = match.span()\n",
    "        beg += offset\n",
    "        end += offset\n",
    "        envname = match.groups()[0]\n",
    "        try:\n",
    "            latex.TexSoup(match.group())\n",
    "        except Exception as e:\n",
    "            display(e)\n",
    "            print(f\"Error in {envname:s} between {beg} and {end}\")\n",
    "            return match.groups()[1], beg, end"
   ]
  },
  {
   "cell_type": "raw",
   "id": "2315e835",
   "metadata": {
    "papermill": {
     "duration": 0.010492,
     "end_time": "2022-11-01T05:06:37.292819",
     "exception": false,
     "start_time": "2022-11-01T05:06:37.282327",
     "status": "completed"
    },
    "scrolled": false,
    "tags": []
   },
   "source": [
    "import importlib\n",
    "importlib.reload(latex)\n",
    "which = \"2204.03253\"\n",
    "paper_id = f'{which:s}'\n",
    "folder = f'tmp_{paper_id:s}'\n",
    "\n",
    "if not os.path.isdir(folder):\n",
    "    folder = retrieve_document_source(f\"{paper_id}\", f'tmp_{paper_id}')\n",
    "\n",
    "try:\n",
    "    doc = latex.LatexDocument(folder, validation=validation)    \n",
    "except AffiliationError as affilerror:\n",
    "    msg = f\"ArXiv:{paper_id:s} is not an MPIA paper... \" + str(affilerror)\n",
    "    print(msg)\n",
    "\n",
    "\n",
    "# Hack because sometimes author parsing does not work well\n",
    "if (len(doc.authors) != len(paper['authors'])):\n",
    "    doc._authors = paper['authors']\n",
    "if (doc.abstract) in (None, ''):\n",
    "    doc._abstract = paper['abstract']\n",
    "\n",
    "doc.comment = get_markdown_badge(paper_id) + \" _\" + paper['comments'] + \"_\"\n",
    "doc.highlight_authors_in_list(hl_list)\n",
    "\n",
    "full_md = doc.generate_markdown_text()"
   ]
  },
  {
   "cell_type": "raw",
   "id": "dd3781db",
   "metadata": {
    "papermill": {
     "duration": 0.011022,
     "end_time": "2022-11-01T05:06:37.314265",
     "exception": false,
     "start_time": "2022-11-01T05:06:37.303243",
     "status": "completed"
    },
    "scrolled": false,
    "tags": []
   },
   "source": [
    "doc"
   ]
  },
  {
   "cell_type": "raw",
   "id": "c6eed834",
   "metadata": {
    "papermill": {
     "duration": 0.010816,
     "end_time": "2022-11-01T05:06:37.335830",
     "exception": false,
     "start_time": "2022-11-01T05:06:37.325014",
     "status": "completed"
    },
    "tags": []
   },
   "source": [
    "# [check_environment(k) for k in bracket_error(doc.source)]\n",
    "_, _, a = latex.get_content_per_section(doc.source, verbose=True)\n",
    "if not a:\n",
    "    print(\"no issues per section\")\n",
    "for ak in a:\n",
    "    r = check_environment(ak[1], offset=ak[0])\n",
    "    print(r[1], r[2])\n",
    "    print(r[0])"
   ]
  },
  {
   "cell_type": "code",
   "execution_count": null,
   "id": "71ce768a",
   "metadata": {
    "papermill": {
     "duration": 0.011221,
     "end_time": "2022-11-01T05:06:37.357870",
     "exception": false,
     "start_time": "2022-11-01T05:06:37.346649",
     "status": "completed"
    },
    "tags": []
   },
   "outputs": [],
   "source": []
  }
 ],
 "metadata": {
  "kernelspec": {
   "display_name": "Python 3.10.6 64-bit",
   "language": "python",
   "name": "python3"
  },
  "language_info": {
   "codemirror_mode": {
    "name": "ipython",
    "version": 3
   },
   "file_extension": ".py",
   "mimetype": "text/x-python",
   "name": "python",
   "nbconvert_exporter": "python",
   "pygments_lexer": "ipython3",
   "version": "3.9.15"
  },
  "papermill": {
   "default_parameters": {},
   "duration": 128.657049,
   "end_time": "2022-11-01T05:06:37.586247",
   "environment_variables": {},
   "exception": null,
   "input_path": "MPIA daily digest.ipynb",
   "output_path": "log.ipynb",
   "parameters": {},
   "start_time": "2022-11-01T05:04:28.929198",
   "version": "2.4.0"
  },
  "vscode": {
   "interpreter": {
    "hash": "e7370f93d1d0cde622a1f8e1c04877d8463912d04d973331ad4851f04de6915a"
   }
  },
  "widgets": {
   "application/vnd.jupyter.widget-state+json": {
    "state": {
     "036e0419b43147a494341d2dc1f0fa83": {
      "model_module": "@jupyter-widgets/base",
      "model_module_version": "2.0.0",
      "model_name": "LayoutModel",
      "state": {
       "_model_module": "@jupyter-widgets/base",
       "_model_module_version": "2.0.0",
       "_model_name": "LayoutModel",
       "_view_count": null,
       "_view_module": "@jupyter-widgets/base",
       "_view_module_version": "2.0.0",
       "_view_name": "LayoutView",
       "align_content": null,
       "align_items": null,
       "align_self": null,
       "border_bottom": null,
       "border_left": null,
       "border_right": null,
       "border_top": null,
       "bottom": null,
       "display": null,
       "flex": null,
       "flex_flow": null,
       "grid_area": null,
       "grid_auto_columns": null,
       "grid_auto_flow": null,
       "grid_auto_rows": null,
       "grid_column": null,
       "grid_gap": null,
       "grid_row": null,
       "grid_template_areas": null,
       "grid_template_columns": null,
       "grid_template_rows": null,
       "height": null,
       "justify_content": null,
       "justify_items": null,
       "left": null,
       "margin": null,
       "max_height": null,
       "max_width": null,
       "min_height": null,
       "min_width": null,
       "object_fit": null,
       "object_position": null,
       "order": null,
       "overflow": null,
       "padding": null,
       "right": null,
       "top": null,
       "visibility": null,
       "width": null
      }
     },
     "05d639393faf49f9ada35b5195f08be1": {
      "model_module": "@jupyter-widgets/controls",
      "model_module_version": "2.0.0",
      "model_name": "HBoxModel",
      "state": {
       "_dom_classes": [],
       "_model_module": "@jupyter-widgets/controls",
       "_model_module_version": "2.0.0",
       "_model_name": "HBoxModel",
       "_view_count": null,
       "_view_module": "@jupyter-widgets/controls",
       "_view_module_version": "2.0.0",
       "_view_name": "HBoxView",
       "box_style": "",
       "children": [
        "IPY_MODEL_0d4363c90bef49cb8e10aee8a23e4404",
        "IPY_MODEL_09a5b542289c4844bf534f753a189ea2",
        "IPY_MODEL_cf39e78c9fd043ddba348b8c4db7826c"
       ],
       "layout": "IPY_MODEL_08301c4780d142eba4cc76744bb8e6f3",
       "tabbable": null,
       "tooltip": null
      }
     },
     "08301c4780d142eba4cc76744bb8e6f3": {
      "model_module": "@jupyter-widgets/base",
      "model_module_version": "2.0.0",
      "model_name": "LayoutModel",
      "state": {
       "_model_module": "@jupyter-widgets/base",
       "_model_module_version": "2.0.0",
       "_model_name": "LayoutModel",
       "_view_count": null,
       "_view_module": "@jupyter-widgets/base",
       "_view_module_version": "2.0.0",
       "_view_name": "LayoutView",
       "align_content": null,
       "align_items": null,
       "align_self": null,
       "border_bottom": null,
       "border_left": null,
       "border_right": null,
       "border_top": null,
       "bottom": null,
       "display": null,
       "flex": null,
       "flex_flow": null,
       "grid_area": null,
       "grid_auto_columns": null,
       "grid_auto_flow": null,
       "grid_auto_rows": null,
       "grid_column": null,
       "grid_gap": null,
       "grid_row": null,
       "grid_template_areas": null,
       "grid_template_columns": null,
       "grid_template_rows": null,
       "height": null,
       "justify_content": null,
       "justify_items": null,
       "left": null,
       "margin": null,
       "max_height": null,
       "max_width": null,
       "min_height": null,
       "min_width": null,
       "object_fit": null,
       "object_position": null,
       "order": null,
       "overflow": null,
       "padding": null,
       "right": null,
       "top": null,
       "visibility": null,
       "width": null
      }
     },
     "09a5b542289c4844bf534f753a189ea2": {
      "model_module": "@jupyter-widgets/controls",
      "model_module_version": "2.0.0",
      "model_name": "FloatProgressModel",
      "state": {
       "_dom_classes": [],
       "_model_module": "@jupyter-widgets/controls",
       "_model_module_version": "2.0.0",
       "_model_name": "FloatProgressModel",
       "_view_count": null,
       "_view_module": "@jupyter-widgets/controls",
       "_view_module_version": "2.0.0",
       "_view_name": "ProgressView",
       "bar_style": "success",
       "description": "",
       "description_allow_html": false,
       "layout": "IPY_MODEL_3fd0dc87e55b4463ba22c582ad000ffa",
       "max": 26.0,
       "min": 0.0,
       "orientation": "horizontal",
       "style": "IPY_MODEL_31e0f568511a48a2b1e09aed9a42a05d",
       "tabbable": null,
       "tooltip": null,
       "value": 26.0
      }
     },
     "0d4363c90bef49cb8e10aee8a23e4404": {
      "model_module": "@jupyter-widgets/controls",
      "model_module_version": "2.0.0",
      "model_name": "HTMLModel",
      "state": {
       "_dom_classes": [],
       "_model_module": "@jupyter-widgets/controls",
       "_model_module_version": "2.0.0",
       "_model_name": "HTMLModel",
       "_view_count": null,
       "_view_module": "@jupyter-widgets/controls",
       "_view_module_version": "2.0.0",
       "_view_name": "HTMLView",
       "description": "",
       "description_allow_html": false,
       "layout": "IPY_MODEL_980c41dd24294d4fa4b9ca64726edc72",
       "placeholder": "​",
       "style": "IPY_MODEL_c57b519985e342708e37b02d6b84c653",
       "tabbable": null,
       "tooltip": null,
       "value": "100%"
      }
     },
     "31e0f568511a48a2b1e09aed9a42a05d": {
      "model_module": "@jupyter-widgets/controls",
      "model_module_version": "2.0.0",
      "model_name": "ProgressStyleModel",
      "state": {
       "_model_module": "@jupyter-widgets/controls",
       "_model_module_version": "2.0.0",
       "_model_name": "ProgressStyleModel",
       "_view_count": null,
       "_view_module": "@jupyter-widgets/base",
       "_view_module_version": "2.0.0",
       "_view_name": "StyleView",
       "bar_color": null,
       "description_width": ""
      }
     },
     "3fd0dc87e55b4463ba22c582ad000ffa": {
      "model_module": "@jupyter-widgets/base",
      "model_module_version": "2.0.0",
      "model_name": "LayoutModel",
      "state": {
       "_model_module": "@jupyter-widgets/base",
       "_model_module_version": "2.0.0",
       "_model_name": "LayoutModel",
       "_view_count": null,
       "_view_module": "@jupyter-widgets/base",
       "_view_module_version": "2.0.0",
       "_view_name": "LayoutView",
       "align_content": null,
       "align_items": null,
       "align_self": null,
       "border_bottom": null,
       "border_left": null,
       "border_right": null,
       "border_top": null,
       "bottom": null,
       "display": null,
       "flex": null,
       "flex_flow": null,
       "grid_area": null,
       "grid_auto_columns": null,
       "grid_auto_flow": null,
       "grid_auto_rows": null,
       "grid_column": null,
       "grid_gap": null,
       "grid_row": null,
       "grid_template_areas": null,
       "grid_template_columns": null,
       "grid_template_rows": null,
       "height": null,
       "justify_content": null,
       "justify_items": null,
       "left": null,
       "margin": null,
       "max_height": null,
       "max_width": null,
       "min_height": null,
       "min_width": null,
       "object_fit": null,
       "object_position": null,
       "order": null,
       "overflow": null,
       "padding": null,
       "right": null,
       "top": null,
       "visibility": null,
       "width": null
      }
     },
     "980c41dd24294d4fa4b9ca64726edc72": {
      "model_module": "@jupyter-widgets/base",
      "model_module_version": "2.0.0",
      "model_name": "LayoutModel",
      "state": {
       "_model_module": "@jupyter-widgets/base",
       "_model_module_version": "2.0.0",
       "_model_name": "LayoutModel",
       "_view_count": null,
       "_view_module": "@jupyter-widgets/base",
       "_view_module_version": "2.0.0",
       "_view_name": "LayoutView",
       "align_content": null,
       "align_items": null,
       "align_self": null,
       "border_bottom": null,
       "border_left": null,
       "border_right": null,
       "border_top": null,
       "bottom": null,
       "display": null,
       "flex": null,
       "flex_flow": null,
       "grid_area": null,
       "grid_auto_columns": null,
       "grid_auto_flow": null,
       "grid_auto_rows": null,
       "grid_column": null,
       "grid_gap": null,
       "grid_row": null,
       "grid_template_areas": null,
       "grid_template_columns": null,
       "grid_template_rows": null,
       "height": null,
       "justify_content": null,
       "justify_items": null,
       "left": null,
       "margin": null,
       "max_height": null,
       "max_width": null,
       "min_height": null,
       "min_width": null,
       "object_fit": null,
       "object_position": null,
       "order": null,
       "overflow": null,
       "padding": null,
       "right": null,
       "top": null,
       "visibility": null,
       "width": null
      }
     },
     "9b3ca6f234ad454bb466b65803f4f533": {
      "model_module": "@jupyter-widgets/controls",
      "model_module_version": "2.0.0",
      "model_name": "HTMLStyleModel",
      "state": {
       "_model_module": "@jupyter-widgets/controls",
       "_model_module_version": "2.0.0",
       "_model_name": "HTMLStyleModel",
       "_view_count": null,
       "_view_module": "@jupyter-widgets/base",
       "_view_module_version": "2.0.0",
       "_view_name": "StyleView",
       "background": null,
       "description_width": "",
       "font_size": null,
       "text_color": null
      }
     },
     "c57b519985e342708e37b02d6b84c653": {
      "model_module": "@jupyter-widgets/controls",
      "model_module_version": "2.0.0",
      "model_name": "HTMLStyleModel",
      "state": {
       "_model_module": "@jupyter-widgets/controls",
       "_model_module_version": "2.0.0",
       "_model_name": "HTMLStyleModel",
       "_view_count": null,
       "_view_module": "@jupyter-widgets/base",
       "_view_module_version": "2.0.0",
       "_view_name": "StyleView",
       "background": null,
       "description_width": "",
       "font_size": null,
       "text_color": null
      }
     },
     "cf39e78c9fd043ddba348b8c4db7826c": {
      "model_module": "@jupyter-widgets/controls",
      "model_module_version": "2.0.0",
      "model_name": "HTMLModel",
      "state": {
       "_dom_classes": [],
       "_model_module": "@jupyter-widgets/controls",
       "_model_module_version": "2.0.0",
       "_model_name": "HTMLModel",
       "_view_count": null,
       "_view_module": "@jupyter-widgets/controls",
       "_view_module_version": "2.0.0",
       "_view_name": "HTMLView",
       "description": "",
       "description_allow_html": false,
       "layout": "IPY_MODEL_036e0419b43147a494341d2dc1f0fa83",
       "placeholder": "​",
       "style": "IPY_MODEL_9b3ca6f234ad454bb466b65803f4f533",
       "tabbable": null,
       "tooltip": null,
       "value": " 26/26 [01:37&lt;00:00,  8.12s/it]"
      }
     }
    },
    "version_major": 2,
    "version_minor": 0
   }
  }
 },
 "nbformat": 4,
 "nbformat_minor": 5
}