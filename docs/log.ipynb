{
 "cells": [
  {
   "cell_type": "markdown",
   "id": "92bcb855",
   "metadata": {
    "papermill": {
     "duration": 0.003756,
     "end_time": "2024-04-16T04:08:35.492059",
     "exception": false,
     "start_time": "2024-04-16T04:08:35.488303",
     "status": "completed"
    },
    "tags": []
   },
   "source": [
    "# MPIA Arxiv on Deck 2\n",
    "\n",
    "Contains the steps to produce the paper extractions."
   ]
  },
  {
   "cell_type": "code",
   "execution_count": 1,
   "id": "3a0d6e11",
   "metadata": {
    "execution": {
     "iopub.execute_input": "2024-04-16T04:08:35.499217Z",
     "iopub.status.busy": "2024-04-16T04:08:35.498958Z",
     "iopub.status.idle": "2024-04-16T04:08:35.855859Z",
     "shell.execute_reply": "2024-04-16T04:08:35.855158Z"
    },
    "papermill": {
     "duration": 0.362387,
     "end_time": "2024-04-16T04:08:35.857480",
     "exception": false,
     "start_time": "2024-04-16T04:08:35.495093",
     "status": "completed"
    },
    "tags": []
   },
   "outputs": [],
   "source": [
    "# Imports\n",
    "import os\n",
    "from IPython.display import Markdown, display\n",
    "from tqdm.notebook import tqdm\n",
    "import warnings\n",
    "from PIL import Image \n",
    "\n",
    "# requires arxiv_on_deck_2\n",
    "\n",
    "from arxiv_on_deck_2.arxiv2 import (get_new_papers, \n",
    "                                    get_paper_from_identifier,\n",
    "                                    retrieve_document_source, \n",
    "                                    get_markdown_badge)\n",
    "from arxiv_on_deck_2 import (latex,\n",
    "                             latex_bib,\n",
    "                             mpia,\n",
    "                             highlight_authors_in_list)\n",
    "\n",
    "# Sometimes images are really big\n",
    "Image.MAX_IMAGE_PIXELS = 1000000000 "
   ]
  },
  {
   "cell_type": "code",
   "execution_count": 2,
   "id": "22aa9d44",
   "metadata": {
    "execution": {
     "iopub.execute_input": "2024-04-16T04:08:35.864691Z",
     "iopub.status.busy": "2024-04-16T04:08:35.864224Z",
     "iopub.status.idle": "2024-04-16T04:08:35.869234Z",
     "shell.execute_reply": "2024-04-16T04:08:35.868683Z"
    },
    "papermill": {
     "duration": 0.009928,
     "end_time": "2024-04-16T04:08:35.870522",
     "exception": false,
     "start_time": "2024-04-16T04:08:35.860594",
     "status": "completed"
    },
    "tags": []
   },
   "outputs": [],
   "source": [
    "# Some useful definitions.\n",
    "\n",
    "class AffiliationWarning(UserWarning):\n",
    "    pass\n",
    "\n",
    "class AffiliationError(RuntimeError):\n",
    "    pass\n",
    "\n",
    "def validation(source: str):\n",
    "    \"\"\"Raises error paper during parsing of source file\n",
    "    \n",
    "    Allows checks before parsing TeX code.\n",
    "    \n",
    "    Raises AffiliationWarning\n",
    "    \"\"\"\n",
    "    check = mpia.affiliation_verifications(source, verbose=True)\n",
    "    if check is not True:\n",
    "        raise AffiliationError(\"mpia.affiliation_verifications: \" + check)\n",
    "\n",
    "        \n",
    "warnings.simplefilter('always', AffiliationWarning)\n",
    "\n",
    "\n",
    "def get_markdown_qrcode(paper_id: str):\n",
    "    \"\"\" Generate a qrcode to the arxiv page using qrserver.com\n",
    "    \n",
    "    :param paper: Arxiv paper\n",
    "    :returns: markdown text\n",
    "    \"\"\"\n",
    "    url = r\"https://api.qrserver.com/v1/create-qr-code/?size=100x100&data=\"\n",
    "    txt = f\"\"\"<img src={url}\"https://arxiv.org/abs/{paper_id}\">\"\"\"\n",
    "    txt = '<div id=\"qrcode\">' + txt + '</div>'\n",
    "    return txt"
   ]
  },
  {
   "cell_type": "markdown",
   "id": "14bd6310",
   "metadata": {
    "papermill": {
     "duration": 0.002733,
     "end_time": "2024-04-16T04:08:35.876090",
     "exception": false,
     "start_time": "2024-04-16T04:08:35.873357",
     "status": "completed"
    },
    "tags": []
   },
   "source": [
    "## get list of arxiv paper candidates\n",
    "\n",
    "We use the MPIA mitarbeiter list webpage from mpia.de to get author names\n",
    "We then get all new papers from Arxiv and match authors"
   ]
  },
  {
   "cell_type": "code",
   "execution_count": 3,
   "id": "2645e73a",
   "metadata": {
    "execution": {
     "iopub.execute_input": "2024-04-16T04:08:35.882740Z",
     "iopub.status.busy": "2024-04-16T04:08:35.882367Z",
     "iopub.status.idle": "2024-04-16T04:08:54.082130Z",
     "shell.execute_reply": "2024-04-16T04:08:54.081488Z"
    },
    "papermill": {
     "duration": 18.204585,
     "end_time": "2024-04-16T04:08:54.083475",
     "exception": false,
     "start_time": "2024-04-16T04:08:35.878890",
     "status": "completed"
    },
    "tags": []
   },
   "outputs": [
    {
     "name": "stdout",
     "output_type": "stream",
     "text": [
      "X. Zhang  ->  X. Zhang  |  ['X. Zhang']\n",
      "J. Shi  ->  J. Shi  |  ['J. Shi']\n",
      "J. Liu  ->  J. Liu  |  ['J. Liu']\n",
      "M. Flock  ->  M. Flock  |  ['M. Flock']\n",
      "F. Walter  ->  F. Walter  |  ['F. Walter']\n",
      "J. Neumann  ->  J. Neumann  |  ['J. Neumann']\n",
      "E. Schinnerer  ->  E. Schinnerer  |  ['E. Schinnerer']\n"
     ]
    },
    {
     "name": "stdout",
     "output_type": "stream",
     "text": [
      "Arxiv has 77 new papers today\n",
      "          5 with possible author matches\n"
     ]
    }
   ],
   "source": [
    "# get list from MPIA website\n",
    "# it automatically filters identified non-scientists :func:`mpia.filter_non_scientists`\n",
    "mpia_authors = mpia.get_mpia_mitarbeiter_list()\n",
    "normed_mpia_authors = [k[1] for k in mpia_authors]   # initials + fullname\n",
    "new_papers = get_new_papers()\n",
    "# add manual references\n",
    "add_paper_refs = []\n",
    "new_papers.extend([get_paper_from_identifier(k) for k in add_paper_refs])\n",
    "\n",
    "candidates = []\n",
    "for paperk in new_papers:\n",
    "    # Check author list with their initials\n",
    "    normed_author_list = [mpia.get_initials(k) for k in paperk['authors']]\n",
    "    hl_authors = highlight_authors_in_list(normed_author_list, normed_mpia_authors, verbose=True)\n",
    "    matches = [(hl, orig) for hl, orig in zip(hl_authors, paperk['authors']) if 'mark' in hl]\n",
    "    paperk['authors'] = hl_authors\n",
    "    if matches:\n",
    "        # only select paper if an author matched our list\n",
    "        candidates.append(paperk)\n",
    "print(\"\"\"Arxiv has {0:,d} new papers today\"\"\".format(len(new_papers)))        \n",
    "print(\"\"\"          {0:,d} with possible author matches\"\"\".format(len(candidates)))"
   ]
  },
  {
   "cell_type": "markdown",
   "id": "3543b34a",
   "metadata": {
    "papermill": {
     "duration": 0.002922,
     "end_time": "2024-04-16T04:08:54.089639",
     "exception": false,
     "start_time": "2024-04-16T04:08:54.086717",
     "status": "completed"
    },
    "tags": []
   },
   "source": [
    "# Parse sources and generate relevant outputs\n",
    "\n",
    "From the candidates, we do the following steps:\n",
    "* get their tarball from ArXiv (and extract data)\n",
    "* find the main .tex file: find one with \\documentclass{...} (sometimes it's non trivial)\n",
    "* Check affiliations with :func:`validation`, which uses :func:`mpia.affiliation_verifications`\n",
    "* If passing the affiliations: we parse the .tex source\n",
    "   * inject sub-documents into the main (flatten the main document)\n",
    "   * parse structure, extract information (title, abstract, authors, figures...)\n",
    "   * handles `\\graphicspath` if provided\n",
    "* Generate the .md document."
   ]
  },
  {
   "cell_type": "code",
   "execution_count": 4,
   "id": "9576b79e",
   "metadata": {
    "execution": {
     "iopub.execute_input": "2024-04-16T04:08:54.096732Z",
     "iopub.status.busy": "2024-04-16T04:08:54.096319Z",
     "iopub.status.idle": "2024-04-16T04:12:04.436352Z",
     "shell.execute_reply": "2024-04-16T04:12:04.435613Z"
    },
    "papermill": {
     "duration": 190.346184,
     "end_time": "2024-04-16T04:12:04.438789",
     "exception": false,
     "start_time": "2024-04-16T04:08:54.092605",
     "status": "completed"
    },
    "scrolled": false,
    "tags": []
   },
   "outputs": [
    {
     "data": {
      "application/vnd.jupyter.widget-view+json": {
       "model_id": "76d16083ff1e43eb9b2cad065da575f6",
       "version_major": 2,
       "version_minor": 0
      },
      "text/plain": [
       "  0%|          | 0/5 [00:00<?, ?it/s]"
      ]
     },
     "metadata": {},
     "output_type": "display_data"
    },
    {
     "name": "stdout",
     "output_type": "stream",
     "text": [
      "Retrieving document from  https://arxiv.org/e-print/2404.08759\n"
     ]
    },
    {
     "name": "stdout",
     "output_type": "stream",
     "text": [
      "extracting tarball to tmp_2404.08759..."
     ]
    },
    {
     "name": "stdout",
     "output_type": "stream",
     "text": [
      " done.\n",
      "Retrieving document from  https://arxiv.org/e-print/2404.09124\n"
     ]
    },
    {
     "name": "stdout",
     "output_type": "stream",
     "text": [
      "extracting tarball to tmp_2404.09124..."
     ]
    },
    {
     "name": "stdout",
     "output_type": "stream",
     "text": [
      " done.\n",
      "Retrieving document from  https://arxiv.org/e-print/2404.09257\n"
     ]
    },
    {
     "name": "stdout",
     "output_type": "stream",
     "text": [
      "extracting tarball to tmp_2404.09257..."
     ]
    },
    {
     "name": "stdout",
     "output_type": "stream",
     "text": [
      " done.\n"
     ]
    },
    {
     "name": "stderr",
     "output_type": "stream",
     "text": [
      "/opt/hostedtoolcache/Python/3.9.19/x64/lib/python3.9/site-packages/arxiv_on_deck_2/latex.py:120: LatexWarning: attempting recovering figure SH-firstdisc_m1_1micron_200ppc_312_lowres\n",
      "  warnings.warn(LatexWarning(f'attempting recovering figure {image}'))\n",
      "/opt/hostedtoolcache/Python/3.9.19/x64/lib/python3.9/site-packages/arxiv_on_deck_2/latex.py:125: LatexWarning: Recovered figure SH-firstdisc_m1_1micron_200ppc_312_lowres as tmp_2404.09257/./Plots/SH-firstdisc_m1_1micron_200ppc_312_lowres.png\n",
      "  warnings.warn(LatexWarning(f'Recovered figure {image} as {fname}'))\n"
     ]
    },
    {
     "name": "stdout",
     "output_type": "stream",
     "text": [
      "Found 180 bibliographic references in tmp_2404.09257/Paper.bbl.\n",
      "syntax error in line 5: unbalanced braces\n",
      "Retrieving document from  https://arxiv.org/e-print/2404.09422\n"
     ]
    },
    {
     "name": "stdout",
     "output_type": "stream",
     "text": [
      "extracting tarball to tmp_2404.09422..."
     ]
    },
    {
     "name": "stdout",
     "output_type": "stream",
     "text": [
      " done.\n"
     ]
    },
    {
     "name": "stdout",
     "output_type": "stream",
     "text": [
      "F. Walter  ->  F. Walter  |  ['F. Walter']\n"
     ]
    },
    {
     "name": "stdout",
     "output_type": "stream",
     "text": [
      "Found 90 bibliographic references in tmp_2404.09422/crosscali.bbl.\n",
      "Retrieving document from  https://arxiv.org/e-print/2404.09791\n"
     ]
    },
    {
     "name": "stdout",
     "output_type": "stream",
     "text": [
      "extracting tarball to tmp_2404.09791..."
     ]
    },
    {
     "name": "stdout",
     "output_type": "stream",
     "text": [
      " done.\n"
     ]
    },
    {
     "name": "stderr",
     "output_type": "stream",
     "text": [
      "/opt/hostedtoolcache/Python/3.9.19/x64/lib/python3.9/site-packages/IPython/core/interactiveshell.py:3550: LatexWarning: Multiple tex files.\n",
      "\n",
      "  exec(code_obj, self.user_global_ns, self.user_ns)\n",
      "/opt/hostedtoolcache/Python/3.9.19/x64/lib/python3.9/site-packages/IPython/core/interactiveshell.py:3550: LatexWarning: Found documentclass in tmp_2404.09791/main_aa.tex\n",
      "\n",
      "  exec(code_obj, self.user_global_ns, self.user_ns)\n",
      "/opt/hostedtoolcache/Python/3.9.19/x64/lib/python3.9/site-packages/arxiv_on_deck_2/latex.py:399: LatexWarning: Latex injecting: 'authors' from 'tmp_2404.09791/authors.tex'\n",
      "  warnings.warn(LatexWarning(f\"Latex injecting: '{ext}' from '{subsource}'\"))\n"
     ]
    },
    {
     "name": "stdout",
     "output_type": "stream",
     "text": [
      "J. Neumann  ->  J. Neumann  |  ['J. Neumann']\n",
      "E. Schinnerer  ->  E. Schinnerer  |  ['E. Schinnerer']\n"
     ]
    },
    {
     "name": "stdout",
     "output_type": "stream",
     "text": [
      "Found 101 bibliographic references in tmp_2404.09791/main_aa.bbl.\n"
     ]
    }
   ],
   "source": [
    "documents = []\n",
    "failed = []\n",
    "for paper in tqdm(candidates):\n",
    "    paper_id = paper['identifier'].lower().replace('arxiv:', '')\n",
    "    \n",
    "    folder = f'tmp_{paper_id}'\n",
    "\n",
    "    try:\n",
    "        if not os.path.isdir(folder):\n",
    "            folder = retrieve_document_source(f\"{paper_id}\", f'tmp_{paper_id}')\n",
    "        \n",
    "        try:\n",
    "            doc = latex.LatexDocument(folder, validation=validation)    \n",
    "        except AffiliationError as affilerror:\n",
    "            msg = f\"ArXiv:{paper_id:s} is not an MPIA paper... \" + str(affilerror)\n",
    "            failed.append((paper, \"affiliation error: \" + str(affilerror) ))\n",
    "            continue\n",
    "        \n",
    "        # Hack because sometimes author parsing does not work well\n",
    "        if (len(doc.authors) != len(paper['authors'])):\n",
    "            doc._authors = paper['authors']\n",
    "        else:\n",
    "            # highlight authors (FIXME: doc.highlight_authors)\n",
    "            # done on arxiv paper already\n",
    "            doc._authors = highlight_authors_in_list(\n",
    "                [mpia.get_initials(k) for k in doc.authors], \n",
    "                normed_mpia_authors, verbose=True)\n",
    "        if (doc.abstract) in (None, ''):\n",
    "            doc._abstract = paper['abstract']\n",
    "            \n",
    "        doc.comment = (get_markdown_badge(paper_id) + \n",
    "                       \"<mark>Appeared on: \" + paper['date'] + \"</mark> - \")\n",
    "        if paper['comments']:\n",
    "            doc.comment += \" _\" + paper['comments'] + \"_\"\n",
    "        \n",
    "        full_md = doc.generate_markdown_text()\n",
    "        \n",
    "        full_md += get_markdown_qrcode(paper_id)\n",
    "        \n",
    "        # replace citations\n",
    "        try:\n",
    "            bibdata = latex_bib.LatexBib.from_doc(doc)\n",
    "            full_md = latex_bib.replace_citations(full_md, bibdata)\n",
    "        except Exception as e:\n",
    "            print(e)\n",
    "        \n",
    "        documents.append((paper_id, full_md))\n",
    "    except Exception as e:\n",
    "        warnings.warn(latex.LatexWarning(f\"{paper_id:s} did not run properly\\n\" +\n",
    "                                         str(e)\n",
    "                                        ))\n",
    "        failed.append((paper, \"latex error \" + str(e)))"
   ]
  },
  {
   "cell_type": "markdown",
   "id": "2505a25c",
   "metadata": {
    "papermill": {
     "duration": 0.003835,
     "end_time": "2024-04-16T04:12:04.447513",
     "exception": false,
     "start_time": "2024-04-16T04:12:04.443678",
     "status": "completed"
    },
    "tags": []
   },
   "source": [
    "### Export the logs\n",
    "\n",
    "Throughout, we also keep track of the logs per paper. see `logs-{today date}.md` "
   ]
  },
  {
   "cell_type": "code",
   "execution_count": 5,
   "id": "d733828a",
   "metadata": {
    "execution": {
     "iopub.execute_input": "2024-04-16T04:12:04.456582Z",
     "iopub.status.busy": "2024-04-16T04:12:04.456118Z",
     "iopub.status.idle": "2024-04-16T04:12:04.472478Z",
     "shell.execute_reply": "2024-04-16T04:12:04.471930Z"
    },
    "papermill": {
     "duration": 0.022497,
     "end_time": "2024-04-16T04:12:04.473840",
     "exception": false,
     "start_time": "2024-04-16T04:12:04.451343",
     "status": "completed"
    },
    "scrolled": false,
    "tags": []
   },
   "outputs": [
    {
     "data": {
      "text/markdown": [
       "## Successful papers"
      ],
      "text/plain": [
       "<IPython.core.display.Markdown object>"
      ]
     },
     "metadata": {},
     "output_type": "display_data"
    },
    {
     "data": {
      "text/markdown": [
       "\n",
       "|||\n",
       "|---:|:---|\n",
       "| [![arXiv](https://img.shields.io/badge/arXiv-arXiv:2404.09257-b31b1b.svg)](https://arxiv.org/abs/arXiv:2404.09257) | **Mixing is easy: new insights for cosmochemical evolution from  pre-stellar core collapse**  |\n",
       "|| A. Bhandare, et al. -- incl., <mark>M. Flock</mark> |\n",
       "|*Appeared on*| *2024-04-16*|\n",
       "|*Comments*| *24 pages and 27 figures. Accepted for publication in A&A*|\n",
       "|**Abstract**| Signposts of early planet formation are ubiquitous in sub-structured young discs. Dense, hot and high-pressure regions formed during gravitational collapse process, integral to star formation, facilitate dynamical mixing of dust within the protostellar disc. This provides an incentive to constrain the role of gas-dust interaction and resolve zones of dust concentration during star-disc formation. We explore if thermal and dynamical conditions developed during disc formation can generate gas flows that efficiently mix and transport well-coupled gas and dust components. We simulate the collapse of dusty molecular cloud cores with the hydrodynamics code PLUTO augmented with radiation transport and self-gravity. We use a 2D axisymmetric geometry and follow the azimuthal component of velocity. Dust is treated as Lagrangian particles that are subject to drag from the gas, whose motion is computed on a Eulerian grid. We consider 1, 10 and 100 micron-sized neutral spherical dust. Importantly, the equation of state accurately includes molecular hydrogen dissociation. We focus on molecular cloud core masses of 1 and 3 Msun and explore effects of initial rotation rates and cloud core sizes. Our study underlines mechanisms for early transport of dust from inner hot disc regions via the occurrence of meridional flows and outflow. The vortical flow fosters dynamical mixing and retention of dust, while thermal pressure driven outflow replenishes dust in the outer disc. Young dynamical precursors to planet-forming discs exhibit regions with complex hydrodynamical gas features and high-temperature structures. These can play a crucial role in concentrating dust for subsequent growth into protoplanets. Dust transport, especially, from sub-au scales surrounding the protostar to outer relatively cooler parts, offers an efficient pathway for thermal reprocessing during pre-stellar core collapse. [Abridged] |"
      ],
      "text/plain": [
       "[arXiv:2404.09257] Mixing is easy: new insights for cosmochemical evolution from  pre-stellar core collapse\n",
       "\tA. Bhandare, et al. -- incl., <mark>M. Flock</mark>"
      ]
     },
     "metadata": {},
     "output_type": "display_data"
    },
    {
     "data": {
      "text/markdown": [
       "\n",
       "|||\n",
       "|---:|:---|\n",
       "| [![arXiv](https://img.shields.io/badge/arXiv-arXiv:2404.09422-b31b1b.svg)](https://arxiv.org/abs/arXiv:2404.09422) | **FEASTS Combined with Interferometry (I): Overall Properties of Diffuse  HI and Implications for Gas Accretion in Nearby Galaxies**  |\n",
       "|| J. Wang, et al. -- incl., <mark>F. Walter</mark> |\n",
       "|*Appeared on*| *2024-04-16*|\n",
       "|*Comments*| *45 pages, 23 figures. In press at ApJ. Data will be released at the FEASTS site upon publication*|\n",
       "|**Abstract**| We present a statistical study of the properties of diffuse HI in ten nearby galaxies, comparing the HI detected by the single-dish telescope FAST (FEASTS program) and the interferometer VLA (THINGS program), respectively. The THINGS' observation missed HI with a median of 23% due to the short-spacing problem of interferometry and limited sensitivity. We extract the diffuse HI by subtracting the dense HI, which is obtained from the THINGS data with a uniform flux-density threshold, from the total HI detected by FAST. Among the sample, the median diffuse-HI fraction is 34%, and more diffuse HI is found in galaxies exhibiting more prominent tidal-interaction signatures. The diffuse HI we detected seems to be distributed in disk-like layers within a typical thickness of $1\\,\\text{kpc}$, different from the more halo-like diffuse HI detected around NGC 4631 in a previous study. Most of the diffuse HI is cospatial with the dense HI and has a typical column density of $10^{17.7}$-$10^{20.1}\\,\\text{cm}^{-2}$. The diffuse and dense HI exhibits a similar rotational motion, but the former lags by a median of 25% in at least the inner disks, and its velocity dispersions are typically twice as high. Based on a simplified estimation of circum-galactic medium properties and assuming pressure equilibrium, the volume density of diffuse HI appears to be constant within each individual galaxy, implying its role as a cooling interface. Comparing with existing models, these results are consistent with a possible link between tidal interactions, the formation of diffuse HI, and gas accretion. |"
      ],
      "text/plain": [
       "[arXiv:2404.09422] FEASTS Combined with Interferometry (I): Overall Properties of Diffuse  HI and Implications for Gas Accretion in Nearby Galaxies\n",
       "\tJ. Wang, et al. -- incl., <mark>F. Walter</mark>"
      ]
     },
     "metadata": {},
     "output_type": "display_data"
    },
    {
     "data": {
      "text/markdown": [
       "\n",
       "|||\n",
       "|---:|:---|\n",
       "| [![arXiv](https://img.shields.io/badge/arXiv-arXiv:2404.09791-b31b1b.svg)](https://arxiv.org/abs/arXiv:2404.09791) | **Simulating nearby disc galaxies on the main star formation sequence I.  Bar formation and the building of the central gas reservoir**  |\n",
       "|| P. Verwilghen, et al. -- incl., <mark>J. Neumann</mark>, <mark>E. Schinnerer</mark> |\n",
       "|*Appeared on*| *2024-04-16*|\n",
       "|*Comments*| *22 pages, 17 figures*|\n",
       "|**Abstract**| Past studies have long emphasised the key role played by galactic stellar bars in the context of disc secular evolution, via the redistribution of gas and stars, the triggering of star formation, and the formation of prominent structures such as rings and central mass concentrations. However, the exact physical processes acting on those structures, as well as the timescales associated with the building and consumption of central gas reservoirs are still not well understood. We are building a suite of hydro-dynamical RAMSES simulations of isolated, low-redshift galaxies that mimic the properties of the PHANGS sample. The initial conditions of the models reproduce the observed stellar mass, disc scale length, or gas fraction, and this paper presents a first subset of these models. Most of our simulated galaxies develop a prominent bar structure, which itself triggers central gas fuelling and the building of an over-density with a typical scale of 100-1000 pc. We confirm that if the host galaxy features an ellipsoidal component, the formation of the bar and gas fuelling are delayed. We show that most of our simulations follow a common time evolution, when accounting for mass scaling and the bar formation time. In our simulations, the stellar mass of $10^{10}$~M$_{\\odot}$ seems to mark a change in the phases describing the time evolution of the bar and its impact on the interstellar medium. In massive discs (M$_{\\star} \\geq 10^{10}$~M$_{\\odot}$), we observe the formation of a central gas reservoir with star formation mostly occurring within a restricted starburst region, leading to a gas depletion phase. Lower-mass systems (M$_{\\star} < 10^{10}$~M$_{\\odot}$) do not exhibit such a depletion phase, and show a more homogeneous spread of star-forming regions along the bar structure, and do not appear to host inner bar-driven discs or rings. |"
      ],
      "text/plain": [
       "[arXiv:2404.09791] Simulating nearby disc galaxies on the main star formation sequence I.  Bar formation and the building of the central gas reservoir\n",
       "\tP. Verwilghen, et al. -- incl., <mark>J. Neumann</mark>, <mark>E. Schinnerer</mark>"
      ]
     },
     "metadata": {},
     "output_type": "display_data"
    },
    {
     "data": {
      "text/markdown": [
       "## Failed papers"
      ],
      "text/plain": [
       "<IPython.core.display.Markdown object>"
      ]
     },
     "metadata": {},
     "output_type": "display_data"
    },
    {
     "data": {
      "text/markdown": [
       "\n",
       "|||\n",
       "|---:|:---|\n",
       "| [![arXiv](https://img.shields.io/badge/arXiv-arXiv:2404.08759-b31b1b.svg)](https://arxiv.org/abs/arXiv:2404.08759) | **Two-Dimensional Models of Microphysical Clouds on Hot Jupiters I: Cloud  Properties**  |\n",
       "|| D. Powell, <mark>X. Zhang</mark> |\n",
       "|*Appeared on*| *2024-04-16*|\n",
       "|*Comments*| *accepted to Ap*|\n",
       "|**Abstract**| We present a new two-dimensional, bin-scheme microphysical model of cloud formation in the atmospheres of hot Jupiters that includes the effects of longitudinal gas and cloud transport. We predict cloud particle size distributions as a function of planetary longitude and atmospheric height for a grid of hot Jupiters with equilibrium temperatures ranging from 1000-2100 K. The predicted 2D cloud distributions vary significantly from models that do not consider horizontal cloud transport and we discuss the microphysical and transport timescales that give rise to the differences in 2D versus 1D models. We find that the horizontal advection of cloud particles increases the cloud formation efficiency for nearly all cloud species and homogenizes cloud distributions across the planets in our model grid. In 2D models, certain cloud species are able to be transported and survive on the daysides of hot Jupiters in cases where 1D models would not predict the existence of clouds. We demonstrate that the depletion of condensible gas species varies as a function of longitude and atmospheric height across the planet, which impacts the resultant gas-phase chemistry. Finally, we discuss various model sensitivities including the sensitivity of cloud properties to microphysical parameters, which we find to be substantially less than the sensitivity to the atmospheric thermal structure and horizontal and vertical transport of condensible material. |\n",
       "|<p style=\"color:green\"> **ERROR** </p>| <p style=\"color:green\">affiliation error: mpia.affiliation_verifications: 'Heidelberg' keyword not found.</p> |"
      ],
      "text/plain": [
       "<IPython.core.display.Markdown object>"
      ]
     },
     "metadata": {},
     "output_type": "display_data"
    },
    {
     "data": {
      "text/markdown": [
       "\n",
       "|||\n",
       "|---:|:---|\n",
       "| [![arXiv](https://img.shields.io/badge/arXiv-arXiv:2404.09124-b31b1b.svg)](https://arxiv.org/abs/arXiv:2404.09124) | **Discovery of a new IW And-type dwarf nova with both tilted disk and  tidal instability**  |\n",
       "|| Y. Sun, et al. -- incl., <mark>J. Shi</mark>, <mark>J. Liu</mark> |\n",
       "|*Appeared on*| *2024-04-16*|\n",
       "|*Comments*| *12 pages, 12 figures, accepted to MNRAS*|\n",
       "|**Abstract**| IW And-type dwarf novae are anomalous Z Cam stars featured with outbursts happening during standstill states, which are not expected in the standard disk instability model. The physical mechanisms for these variations remain unclear. In this study, we report the discovery of a new candidate IW And-type dwarf nova J0652+2436, identified with its frequent outbursts from the slowly rising standstill states. Luckily, the TESS observations during a long standstill state and the earlier K2 observations give a chance to find the orbital and negative superhump period in the light curve of J0652+2436, allowing the measurement of its mass ratio of 0.366. This mass ratio is marginally possible for the tidal instability to set in according to previous SPH simulations. Thus, we propose that the outbursts in J0652+2436 are likely to be caused by the growing accretion disk during standstills, in favor of the previous hypothesis of the mechanisms lying in all IW And stars. We conclude that J0652+2436 might be the first IW And star with both a precessing tilted disk and tidal instability, which will be an important laboratory for studying the accretion disk dynamics and help understand IW And phenomenon. |\n",
       "|<p style=\"color:green\"> **ERROR** </p>| <p style=\"color:green\">affiliation error: mpia.affiliation_verifications: 'Heidelberg' keyword not found.</p> |"
      ],
      "text/plain": [
       "<IPython.core.display.Markdown object>"
      ]
     },
     "metadata": {},
     "output_type": "display_data"
    }
   ],
   "source": [
    "import datetime\n",
    "today = str(datetime.date.today())\n",
    "logfile = f\"_build/html/logs/log-{today}.md\"\n",
    "\n",
    "\n",
    "with open(logfile, 'w') as logs:\n",
    "    # Success\n",
    "    logs.write(f'# Arxiv on Deck 2: Logs - {today}\\n\\n')\n",
    "    logs.write(\"\"\"* Arxiv had {0:,d} new papers\\n\"\"\".format(len(new_papers)))\n",
    "    logs.write(\"\"\"    * {0:,d} with possible author matches\\n\\n\"\"\".format(len(candidates)))\n",
    "    logs.write(\"## Sucessful papers\\n\\n\")\n",
    "    display(Markdown(\"## Successful papers\"))\n",
    "    success = [k[0] for k in documents]\n",
    "    for candid in candidates:\n",
    "        if candid['identifier'].split(':')[-1] in success:\n",
    "            display(candid)\n",
    "            logs.write(candid.generate_markdown_text() + '\\n\\n')\n",
    "\n",
    "    ## failed\n",
    "    logs.write(\"## Failed papers\\n\\n\")\n",
    "    display(Markdown(\"## Failed papers\"))\n",
    "    failed = sorted(failed, key=lambda x: x[1])\n",
    "    current_reason = \"\"\n",
    "    for paper, reason in failed:\n",
    "        if 'affiliation' in reason:\n",
    "            color = 'green'\n",
    "        else:\n",
    "            color = 'red'\n",
    "        data = Markdown(\n",
    "                paper.generate_markdown_text() + \n",
    "                f'\\n|<p style=\"color:{color:s}\"> **ERROR** </p>| <p style=\"color:{color:s}\">{reason:s}</p> |'\n",
    "               )\n",
    "        if reason != current_reason:\n",
    "            logs.write(f'### {reason:s} \\n\\n')\n",
    "            current_reason = reason\n",
    "        logs.write(data.data + '\\n\\n')\n",
    "        \n",
    "        # only display here the important errors (all in logs)\n",
    "        # if color in ('red',):\n",
    "        display(data)"
   ]
  },
  {
   "cell_type": "markdown",
   "id": "472d20ee",
   "metadata": {
    "papermill": {
     "duration": 0.004543,
     "end_time": "2024-04-16T04:12:04.483079",
     "exception": false,
     "start_time": "2024-04-16T04:12:04.478536",
     "status": "completed"
    },
    "tags": []
   },
   "source": [
    "## Export documents\n",
    "\n",
    "We now write the .md files and export relevant images"
   ]
  },
  {
   "cell_type": "code",
   "execution_count": 6,
   "id": "d426aed9",
   "metadata": {
    "execution": {
     "iopub.execute_input": "2024-04-16T04:12:04.493279Z",
     "iopub.status.busy": "2024-04-16T04:12:04.492796Z",
     "iopub.status.idle": "2024-04-16T04:12:04.499124Z",
     "shell.execute_reply": "2024-04-16T04:12:04.498570Z"
    },
    "papermill": {
     "duration": 0.012823,
     "end_time": "2024-04-16T04:12:04.500458",
     "exception": false,
     "start_time": "2024-04-16T04:12:04.487635",
     "status": "completed"
    },
    "tags": []
   },
   "outputs": [],
   "source": [
    "def export_markdown_summary(md: str, md_fname:str, directory: str):\n",
    "    \"\"\"Export MD document and associated relevant images\"\"\"\n",
    "    import os\n",
    "    import shutil\n",
    "    import re\n",
    "\n",
    "    if (os.path.exists(directory) and not os.path.isdir(directory)):\n",
    "        raise RuntimeError(f\"a non-directory file exists with name {directory:s}\")\n",
    "\n",
    "    if (not os.path.exists(directory)):\n",
    "        print(f\"creating directory {directory:s}\")\n",
    "        os.mkdir(directory)\n",
    "\n",
    "    fig_fnames = (re.compile(r'\\[Fig.*\\]\\((.*)\\)').findall(md) + \n",
    "                  re.compile(r'\\<img src=\"([^>\\s]*)\"[^>]*/>').findall(md))\n",
    "    for fname in fig_fnames:\n",
    "        if 'http' in fname:\n",
    "            # No need to copy online figures\n",
    "            continue\n",
    "        destdir = os.path.join(directory, os.path.dirname(fname))\n",
    "        destfname = os.path.join(destdir, os.path.basename(fname))\n",
    "        try:\n",
    "            os.makedirs(destdir)\n",
    "        except FileExistsError:\n",
    "            pass\n",
    "        shutil.copy(fname, destfname)\n",
    "    with open(os.path.join(directory, md_fname), 'w') as fout:\n",
    "        fout.write(md)\n",
    "    print(\"exported in \", os.path.join(directory, md_fname))\n",
    "    [print(\"    + \" + os.path.join(directory,fk)) for fk in fig_fnames]"
   ]
  },
  {
   "cell_type": "code",
   "execution_count": 7,
   "id": "014d04a4",
   "metadata": {
    "execution": {
     "iopub.execute_input": "2024-04-16T04:12:04.510791Z",
     "iopub.status.busy": "2024-04-16T04:12:04.510264Z",
     "iopub.status.idle": "2024-04-16T04:12:04.527795Z",
     "shell.execute_reply": "2024-04-16T04:12:04.527209Z"
    },
    "papermill": {
     "duration": 0.024058,
     "end_time": "2024-04-16T04:12:04.529074",
     "exception": false,
     "start_time": "2024-04-16T04:12:04.505016",
     "status": "completed"
    },
    "tags": []
   },
   "outputs": [
    {
     "name": "stdout",
     "output_type": "stream",
     "text": [
      "exported in  _build/html/2404.09257.md\n",
      "    + _build/html/tmp_2404.09257/./Plots/HD_disc_m1_1micron_200ppc_312_lowres.png\n",
      "    + _build/html/tmp_2404.09257/./Plots/HD_disc_m1_rot2_1micron_200ppc_616_lowres.png\n",
      "    + _build/html/tmp_2404.09257/./Plots/rotationalsupport_multisize_50x3ppc_t421.png\n",
      "    + _build/html/tmp_2404.09257/./Plots/rotationalsupport_multisize_50x3ppc_t431.png\n",
      "    + _build/html/tmp_2404.09257/./Plots/rotationalsupport_multisize_50x3ppc_t441.png\n",
      "    + _build/html/tmp_2404.09257/./Plots/rotationalsupport_multisize_50x3ppc_t476.png\n",
      "exported in  _build/html/2404.09422.md\n",
      "    + _build/html/tmp_2404.09422/./N628.feasts.mom0.png\n",
      "    + _build/html/tmp_2404.09422/./N628.feasts.mom1.png\n",
      "    + _build/html/tmp_2404.09422/./N628.feasts.mom2.png\n",
      "    + _build/html/tmp_2404.09422/./N628.msc.corrected.original.mom0.png\n",
      "    + _build/html/tmp_2404.09422/./N628.msc.corrected.original.mom1.png\n",
      "    + _build/html/tmp_2404.09422/./N628.msc.corrected.original.mom2.png\n",
      "    + _build/html/tmp_2404.09422/./N628.msc.corrected.degradedu.mom0.png\n",
      "    + _build/html/tmp_2404.09422/./N628.msc.corrected.degradedu.mom1.png\n",
      "    + _build/html/tmp_2404.09422/./N628.msc.corrected.degradedu.mom2.png\n",
      "    + _build/html/tmp_2404.09422/./N628.msc.corrected.dmom0u.png\n",
      "    + _build/html/tmp_2404.09422/./N628.msc.corrected.dmom1u.png\n",
      "    + _build/html/tmp_2404.09422/./N628.msc.corrected.dmom2u.png\n",
      "    + _build/html/tmp_2404.09422/./N628.msc.corrected.dmom1_imdu.png\n",
      "    + _build/html/tmp_2404.09422/./N7331.feasts.mom0.png\n",
      "    + _build/html/tmp_2404.09422/./N7331.feasts.mom1.png\n",
      "    + _build/html/tmp_2404.09422/./N7331.feasts.mom2.png\n",
      "    + _build/html/tmp_2404.09422/./N7331.mskna.corrected.original.mom0.png\n",
      "    + _build/html/tmp_2404.09422/./N7331.mskna.corrected.original.mom1.png\n",
      "    + _build/html/tmp_2404.09422/./N7331.mskna.corrected.original.mom2.png\n",
      "    + _build/html/tmp_2404.09422/./N7331.mskna.corrected.degradedu.mom0.png\n",
      "    + _build/html/tmp_2404.09422/./N7331.mskna.corrected.degradedu.mom1.png\n",
      "    + _build/html/tmp_2404.09422/./N7331.mskna.corrected.degradedu.mom2.png\n",
      "    + _build/html/tmp_2404.09422/./N7331.mskna.corrected.dmom0u.png\n",
      "    + _build/html/tmp_2404.09422/./N7331.mskna.corrected.dmom1u.png\n",
      "    + _build/html/tmp_2404.09422/./N7331.mskna.corrected.dmom2u.png\n",
      "    + _build/html/tmp_2404.09422/./N7331.mskna.corrected.dmom1_imdu.png\n",
      "    + _build/html/tmp_2404.09422/./difprofu.png\n",
      "exported in  _build/html/2404.09791.md\n",
      "    + _build/html/tmp_2404.09791/./figures/Gas_OS_NS_M9.5.png\n",
      "    + _build/html/tmp_2404.09791/./figures/Fits_PHANGS_IC_16.png\n",
      "    + _build/html/tmp_2404.09791/./figures/SFR_Glob_mean.png\n"
     ]
    }
   ],
   "source": [
    "for paper_id, md in documents:\n",
    "    export_markdown_summary(md, f\"{paper_id:s}.md\", '_build/html/')"
   ]
  },
  {
   "cell_type": "markdown",
   "id": "f087a0a7",
   "metadata": {
    "papermill": {
     "duration": 0.004622,
     "end_time": "2024-04-16T04:12:04.538506",
     "exception": false,
     "start_time": "2024-04-16T04:12:04.533884",
     "status": "completed"
    },
    "tags": []
   },
   "source": [
    "## Display the papers\n",
    "\n",
    "Not necessary but allows for a quick check."
   ]
  },
  {
   "cell_type": "code",
   "execution_count": 8,
   "id": "fd25f625",
   "metadata": {
    "execution": {
     "iopub.execute_input": "2024-04-16T04:12:04.548939Z",
     "iopub.status.busy": "2024-04-16T04:12:04.548534Z",
     "iopub.status.idle": "2024-04-16T04:12:04.555962Z",
     "shell.execute_reply": "2024-04-16T04:12:04.555381Z"
    },
    "papermill": {
     "duration": 0.014109,
     "end_time": "2024-04-16T04:12:04.557271",
     "exception": false,
     "start_time": "2024-04-16T04:12:04.543162",
     "status": "completed"
    },
    "scrolled": false,
    "tags": []
   },
   "outputs": [
    {
     "data": {
      "text/markdown": [
       "<div class=\"macros\" style=\"visibility:hidden;\">\n",
       "$\\newcommand{\\ensuremath}{}$\n",
       "$\\newcommand{\\xspace}{}$\n",
       "$\\newcommand{\\object}[1]{\\texttt{#1}}$\n",
       "$\\newcommand{\\farcs}{{.}''}$\n",
       "$\\newcommand{\\farcm}{{.}'}$\n",
       "$\\newcommand{\\arcsec}{''}$\n",
       "$\\newcommand{\\arcmin}{'}$\n",
       "$\\newcommand{\\ion}[2]{#1#2}$\n",
       "$\\newcommand{\\textsc}[1]{\\textrm{#1}}$\n",
       "$\\newcommand{\\hl}[1]{\\textrm{#1}}$\n",
       "$\\newcommand{\\footnote}[1]{}$\n",
       "$\\newcommand$\n",
       "$\\newcommand$\n",
       "$\\newcommand$\n",
       "$\\newcommand$</div>\n",
       "\n",
       "\n",
       "\n",
       "<div id=\"title\">\n",
       "\n",
       "# Mixing is easy: new insights for cosmochemical evolution from pre-stellar core collapse\n",
       "\n",
       "</div>\n",
       "<div id=\"comments\">\n",
       "\n",
       "[![arXiv](https://img.shields.io/badge/arXiv-2404.09257-b31b1b.svg)](https://arxiv.org/abs/2404.09257)<mark>Appeared on: 2024-04-16</mark> -  _24 pages and 27 figures. Accepted for publication in A&A_\n",
       "\n",
       "</div>\n",
       "<div id=\"authors\">\n",
       "\n",
       "A. Bhandare, et al. -- incl., <mark>M. Flock</mark>\n",
       "\n",
       "</div>\n",
       "<div id=\"abstract\">\n",
       "\n",
       "**Abstract:** Signposts of early planet formation are ubiquitous in sub-structured young discs. Dense, hot and high-pressure regions formed during the gravitational collapse process, integral to star formation,  facilitate dynamical mixing of dust within the protostellar disc. This provides an incentive to constrain the role of gas and dust interaction and resolve potential zones of dust concentration during star and disc formation stages. We explore if the thermal and dynamical conditions developed during protostellar disc formation can generate gas flows that efficiently mix and transport the well-coupled gas and dust components. We simulate the collapse of dusty molecular cloud cores with the hydrodynamics code \\texttt{PLUTO} augmented with radiation transport and self-gravity. We use a two-dimensional axisymmetric geometry and follow the azimuthal component of the velocity. The dust is treated as Lagrangian particles that are subject to drag from the gas, whose motion is computed on a Eulerian grid. We consider 1, 10 and 100 micron-sized neutral spherical dust grains. Importantly, the equation of state accurately includes molecular hydrogen dissociation. We focus on molecular cloud core masses of 1 and 3 $M_{\\odot}$ and explore effects of different initial rotation rates and cloud core sizes. Our study underlines mechanisms for early transport of dust from the inner hot disc regions via the occurrence of two transient gas motions, namely, meridional flow and outflow. The vortical flow fosters dynamical mixing and retention of dust, while the thermal pressure driven outflow replenishes dust in the outer disc. Notably, these phenomena occur regardless of the initial cloud core mass, size and rotation rate. Young dynamical precursors to planet-forming discs exhibit regions with complex hydrodynamical gas features and high-temperature structures. These can play a crucial role in concentrating dust for subsequent growth into protoplanets. Dust transport, especially, from sub-au scales surrounding the protostar to the outer relatively cooler parts, offers an efficient pathway for thermal reprocessing during pre-stellar core collapse.\n",
       "\n",
       "</div>\n",
       "\n",
       "<div id=\"div_fig1\">\n",
       "\n",
       "<img src=\"tmp_2404.09257/./Plots/HD_disc_m1_1micron_200ppc_312_lowres.png\" alt=\"Fig17\" width=\"100%\"/>\n",
       "\n",
       "**Figure 17. -** 2D view of the first hydrostatic core evolved into a rotationally supported disc at 1221 years after its formation as a result of the fiducial collapse of a 1 $M_{\\odot}$ pre-stellar core with an initial rotation rate of \\mbox{$\\Omega_\\mathrm{0} = 1.77 \\times 10^{-13}$ rad $\\mathrm{s}^{-1}$}(same time snapshot as Fig. \\ref{fig:HD-seconddisc007}). The dust size is fixed to a constant value of 1 $\\muup$m. The four panels show the \\mbox** a)** Stokes number, \\mbox** b)** gas temperature, \\mbox** c)** gas density and \\mbox** d)** radial gas velocity within the inner 15 au of the 3000 au collapsing pre-stellar core. The gas velocity streamlines indicate the material falling onto the disc and the mixing within. The meridional flow exhibited in the plot between 5--10 au forms in the inner regions and travels outwards. This motion results in an outward transport and retains dust in the outer disc. (*fig:HDdisc007*)\n",
       "\n",
       "</div>\n",
       "<div id=\"div_fig2\">\n",
       "\n",
       "<img src=\"tmp_2404.09257/./Plots/HD_disc_m1_rot2_1micron_200ppc_616_lowres.png\" alt=\"Fig23\" width=\"100%\"/>\n",
       "\n",
       "**Figure 23. -** 2D view of a first hydrostatic core evolved into a rotationally supported disc at 1427 years after its formation as a result of the collapse of a 1 $M_{\\odot}$ pre-stellar core with an initial rotation rate of \\mbox{$\\Omega_\\mathrm{0} = 2.099 \\times 10^{-13}$ rad $\\mathrm{s}^{-1}$}(same time snapshot as Fig. \\ref{fig:HD-seconddisc001}). The dust size is fixed to a constant value of 1 $\\muup$m. The four panels show the \\mbox** a)** Stokes number, \\mbox** b)** gas temperature, \\mbox** c)** gas density and \\mbox** d)** radial gas velocity within the inner 15 au of the 3000 au collapsing pre-stellar core. The gas velocity streamlines indicate the material falling onto the disc and the mixing within the meridional flow located at around 10 au. (*fig:HDdisc001*)\n",
       "\n",
       "</div>\n",
       "<div id=\"div_fig3\">\n",
       "\n",
       "<img src=\"tmp_2404.09257/./Plots/rotationalsupport_multisize_50x3ppc_t421.png\" alt=\"Fig7.1\" width=\"25%\"/><img src=\"tmp_2404.09257/./Plots/rotationalsupport_multisize_50x3ppc_t431.png\" alt=\"Fig7.2\" width=\"25%\"/><img src=\"tmp_2404.09257/./Plots/rotationalsupport_multisize_50x3ppc_t441.png\" alt=\"Fig7.3\" width=\"25%\"/><img src=\"tmp_2404.09257/./Plots/rotationalsupport_multisize_50x3ppc_t476.png\" alt=\"Fig7.4\" width=\"25%\"/>\n",
       "\n",
       "**Figure 7. -** Rotational support (\\mbox{$\\rho v_{\\phi}^2 / 2 > 2 P_\\mathrm{th}$}) at different time snapshots highlighting the merger of the first core disc and pseudo-disc around second core formed during the 1 $M_{\\odot}$ pre-stellar core collapse. The topmost plot shows the presence of both discs, which eventually merge _after_ the outflow is launched. The white dashed vertical line marks the radius of the rotationally supported first core disc using the definition detailed in Sect. \\ref{sec:hydrodisc}. Gas velocity streamlines show the infalling envelope, mixing within the discs and the outflowing gas. (*fig:discmerger*)\n",
       "\n",
       "</div><div id=\"qrcode\"><img src=https://api.qrserver.com/v1/create-qr-code/?size=100x100&data=\"https://arxiv.org/abs/2404.09257\"></div>"
      ],
      "text/plain": [
       "<IPython.core.display.Markdown object>"
      ]
     },
     "metadata": {},
     "output_type": "display_data"
    },
    {
     "data": {
      "text/markdown": [
       "<div class=\"macros\" style=\"visibility:hidden;\">\n",
       "$\\newcommand{\\ensuremath}{}$\n",
       "$\\newcommand{\\xspace}{}$\n",
       "$\\newcommand{\\object}[1]{\\texttt{#1}}$\n",
       "$\\newcommand{\\farcs}{{.}''}$\n",
       "$\\newcommand{\\farcm}{{.}'}$\n",
       "$\\newcommand{\\arcsec}{''}$\n",
       "$\\newcommand{\\arcmin}{'}$\n",
       "$\\newcommand{\\ion}[2]{#1#2}$\n",
       "$\\newcommand{\\textsc}[1]{\\textrm{#1}}$\n",
       "$\\newcommand{\\hl}[1]{\\textrm{#1}}$\n",
       "$\\newcommand{\\footnote}[1]{}$\n",
       "$\\newcommand{\\url}[1]{\\href{#1}{#1}}$\n",
       "$\\newcommand{\\dodoi}[1]{doi:~\\href{http://doi.org/#1}{\\nolinkurl{#1}}}$\n",
       "$\\newcommand{\\doeprint}[1]{\\href{http://ascl.net/#1}{\\nolinkurl{http://ascl.net/#1}}}$\n",
       "$\\newcommand{\\doarXiv}[1]{\\href{https://arxiv.org/abs/#1}{\\nolinkurl{https://arxiv.org/abs/#1}}}$\n",
       "$\\newcommand{\\hi}{{\\rm H}{\\textsc i}}$\n",
       "$\\newcommand{\\angstrom}{\\text{\\normalfontÅ}}$\n",
       "$\\newcommand{◦ee}{\\ensuremath{\\text{\\textdegree}}}$\n",
       "$\\newcommand{\\jyb}{\\rm{Jy~beam^{-1} }}$\n",
       "$\\newcommand{\\jykms}{\\rm{Jy~km~s^{-1} }}$\n",
       "$\\newcommand{\\jybkms}{\\rm{Jy~beam^{-1}~km~s^{-1} }}$\n",
       "$\\newcommand{\\mjybi}{\\rm{mJy~beam_{i}^{-1} }}$\n",
       "$\\newcommand{\\mjyb}{\\rm{mJy~beam^{-1} }}$\n",
       "$\\newcommand{\\mjybs}{\\rm{mJy~beam_{s}^{-1} }}$\n",
       "$\\newcommand{\\jybs}{\\rm{Jy~beam_{s}^{-1} }}$\n",
       "$\\newcommand{\\mjybkms}{\\rm{mJy~beam^{-1}~km~s^{-1} }}$\n",
       "$\\newcommand{\\kms}{\\rm{km~s^{-1} }}$\n",
       "$\\newcommand{\\cmsq}{\\rm{ cm^{-2} } }$\n",
       "$\\newcommand{\\NHI}{N_{\\rm HI}}$\n",
       "$\\newcommand{\\Msun}{\\rm{M_{\\odot}}}$\n",
       "$\\newcommand\\natexlab{#1}$</div>\n",
       "\n",
       "\n",
       "\n",
       "<div id=\"title\">\n",
       "\n",
       "#  FEASTS Combined with Interferometry (I): Overall Properties of Diffuse $\\hi$ and Implications for Gas Accretion in Nearby Galaxies\n",
       "\n",
       "</div>\n",
       "<div id=\"comments\">\n",
       "\n",
       "[![arXiv](https://img.shields.io/badge/arXiv-2404.09422-b31b1b.svg)](https://arxiv.org/abs/2404.09422)<mark>Appeared on: 2024-04-16</mark> -  _45 pages, 23 figures. In press at ApJ. Data will be released at the FEASTS site upon publication_\n",
       "\n",
       "</div>\n",
       "<div id=\"authors\">\n",
       "\n",
       "J. W. (王菁), et al. -- incl., <mark>F. Walter</mark>\n",
       "\n",
       "</div>\n",
       "<div id=\"abstract\">\n",
       "\n",
       "**Abstract:** We present a statistical study of the properties of diffuse $\\hi$ in ten nearby galaxies, comparing the $\\hi$ detected by the single-dish telescope FAST (FEASTS program) and the interferometer VLA (THINGS program), respectively.The THINGS' observation missed $\\hi$ with a median of 23 \\% due to the short-spacing problem of interferometry and limited sensitivity.We extract the diffuse $\\hi$ by subtracting the dense $\\hi$ , which is obtained from the THINGS data with a uniform flux-density threshold, from the total $\\hi$ detected by FAST.Among the sample, the median diffuse- $\\hi$ fraction is 34 \\% , and more diffuse $\\hi$ is found in galaxies exhibiting more prominent tidal-interaction signatures.The diffuse $\\hi$ we detected seems to be distributed in disk-like layers within a typical thickness of $1 \\text{kpc}$ , different from the more halo-like diffuse $\\hi$ detected around NGC 4631 in a previous study.Most of the diffuse $\\hi$ is cospatial with the dense $\\hi$ and has a typical column density of $10^{17.7}$ -- $10^{20.1} \\text{cm}^{-2}$ .The diffuse and dense $\\hi$ exhibits a similar rotational motion, but the former lags by a median of 25 \\% in at least the inner disks, and its velocity dispersions are typically twice as high.Based on a simplified estimation of circum-galactic medium properties and assuming pressure equilibrium, the volume density of diffuse $\\hi$ appears to be constant within each individual galaxy, implying its role as a cooling interface.Comparing with existing models, these results are consistent with a possible link between tidal interactions, the formation of diffuse $\\hi$ , and gas accretion.\n",
       "\n",
       "</div>\n",
       "\n",
       "<div id=\"div_fig1\">\n",
       "\n",
       "<img src=\"tmp_2404.09422/./N628.feasts.mom0.png\" alt=\"Fig15.1\" width=\"7%\"/><img src=\"tmp_2404.09422/./N628.feasts.mom1.png\" alt=\"Fig15.2\" width=\"7%\"/><img src=\"tmp_2404.09422/./N628.feasts.mom2.png\" alt=\"Fig15.3\" width=\"7%\"/><img src=\"tmp_2404.09422/./N628.msc.corrected.original.mom0.png\" alt=\"Fig15.4\" width=\"7%\"/><img src=\"tmp_2404.09422/./N628.msc.corrected.original.mom1.png\" alt=\"Fig15.5\" width=\"7%\"/><img src=\"tmp_2404.09422/./N628.msc.corrected.original.mom2.png\" alt=\"Fig15.6\" width=\"7%\"/><img src=\"tmp_2404.09422/./N628.msc.corrected.degradedu.mom0.png\" alt=\"Fig15.7\" width=\"7%\"/><img src=\"tmp_2404.09422/./N628.msc.corrected.degradedu.mom1.png\" alt=\"Fig15.8\" width=\"7%\"/><img src=\"tmp_2404.09422/./N628.msc.corrected.degradedu.mom2.png\" alt=\"Fig15.9\" width=\"7%\"/><img src=\"tmp_2404.09422/./N628.msc.corrected.dmom0u.png\" alt=\"Fig15.10\" width=\"7%\"/><img src=\"tmp_2404.09422/./N628.msc.corrected.dmom1u.png\" alt=\"Fig15.11\" width=\"7%\"/><img src=\"tmp_2404.09422/./N628.msc.corrected.dmom2u.png\" alt=\"Fig15.12\" width=\"7%\"/><img src=\"tmp_2404.09422/./N628.msc.corrected.dmom1_imdu.png\" alt=\"Fig15.13\" width=\"7%\"/>\n",
       "\n",
       "**Figure 15. -** The moment images of the galaxy NGC 628. The sky region displayed is the full region of the FEASTS data.\n",
       "** Row 1:** moment 0-2 images of FEASTS data, representing the total $\\hi$ at the FAST resolution. The circle in the bottom left of the shows the size of the FAST beam.)\n",
       "** Row 2:** moment 0-2 images of THINGS data, representing the dense $\\hi$ at the VLA resolution. We do not show the VLA synthesis beam as it is too small compared to the field of view.\n",
       "** Row 3:** moment 0-2 images of dense $\\hi$ at the FAST resolution.\n",
       "** Row 4:** moment 0-2 images of the total $\\hi$ minus the dense $\\hi$, representing the diffuse $\\hi$ at the FAST resolution.\n",
       "** Row 5:** the difference in $\\hi$ moment-1 images between the dense $\\hi$ and diffuse $hi$ at the FAST resolution (the former minus the latter).   (*fig:mom_n628*)\n",
       "\n",
       "</div>\n",
       "<div id=\"div_fig2\">\n",
       "\n",
       "<img src=\"tmp_2404.09422/./N7331.feasts.mom0.png\" alt=\"Fig24.1\" width=\"7%\"/><img src=\"tmp_2404.09422/./N7331.feasts.mom1.png\" alt=\"Fig24.2\" width=\"7%\"/><img src=\"tmp_2404.09422/./N7331.feasts.mom2.png\" alt=\"Fig24.3\" width=\"7%\"/><img src=\"tmp_2404.09422/./N7331.mskna.corrected.original.mom0.png\" alt=\"Fig24.4\" width=\"7%\"/><img src=\"tmp_2404.09422/./N7331.mskna.corrected.original.mom1.png\" alt=\"Fig24.5\" width=\"7%\"/><img src=\"tmp_2404.09422/./N7331.mskna.corrected.original.mom2.png\" alt=\"Fig24.6\" width=\"7%\"/><img src=\"tmp_2404.09422/./N7331.mskna.corrected.degradedu.mom0.png\" alt=\"Fig24.7\" width=\"7%\"/><img src=\"tmp_2404.09422/./N7331.mskna.corrected.degradedu.mom1.png\" alt=\"Fig24.8\" width=\"7%\"/><img src=\"tmp_2404.09422/./N7331.mskna.corrected.degradedu.mom2.png\" alt=\"Fig24.9\" width=\"7%\"/><img src=\"tmp_2404.09422/./N7331.mskna.corrected.dmom0u.png\" alt=\"Fig24.10\" width=\"7%\"/><img src=\"tmp_2404.09422/./N7331.mskna.corrected.dmom1u.png\" alt=\"Fig24.11\" width=\"7%\"/><img src=\"tmp_2404.09422/./N7331.mskna.corrected.dmom2u.png\" alt=\"Fig24.12\" width=\"7%\"/><img src=\"tmp_2404.09422/./N7331.mskna.corrected.dmom1_imdu.png\" alt=\"Fig24.13\" width=\"7%\"/>\n",
       "\n",
       "**Figure 24. -** Same as Figure \\ref{fig:mom_n628}, but for the galaxy NGC 7331.  (*fig:mom_n7331*)\n",
       "\n",
       "</div>\n",
       "<div id=\"div_fig3\">\n",
       "\n",
       "<img src=\"tmp_2404.09422/./difprofu.png\" alt=\"Fig10\" width=\"100%\"/>\n",
       "\n",
       "**Figure 10. -** Radial profiles of diffuse $\\hi$ properties.\n",
       "The profiles are color coded by galaxy names as denoted in each panel, and the radius are normalized by the optical radius $R_{25}$. All profiles start from radius equal to beam FWHM of FAST.\n",
       "All measurements are made at the same resolution of FEASTS  (9.1$\\pm$2.5 kpc).\n",
       "** a:** the column density profile.\n",
       "The column densities are not corrected for projection because the inclinations in outer disks where diffuse $\\hi$ dominates the total $\\hi$ are highly uncertain.\n",
       "The dashed horizontal line shows the rough column density threshold of selecting the dense $\\hi$.\n",
       "** b:** the profile of diffuse $\\hi$ column densities over the total $\\hi$ column densities.\n",
       "** c:** the profile of projection corrected radial velocity difference between the dense and diffuse $\\hi$(former minus latter) measured along major axis of galaxies (see Section \\ref{sec:derive_prof}).\n",
       "The projection-corrected radial velocities along the major axis approximate rotational velocities, but we warn of their uncertainties.\n",
       "The solid and dashed curves are for the receding and approaching side of the disks respectively.\n",
       "The dotted line marks the position of y$=$0.\n",
       "** d:** similar as in Panel c, but the radial velocity difference is normalized by the radial velocity of the dense $\\hi$ along the major axis.\n",
       "Values between zero and unity indicate lagged rotational$\\slash$orbital velocity (see Section \\ref{sec:derive_prof}).\n",
       "** e:** the profile of velocity dispersion. The solid and dashed lines are for the diffuse and dense $\\hi$ respectively.\n",
       "** f:** the profile of velocity dispersion over the projection corrected radial velocity along major axis for the diffuse $\\hi$.\n",
       " (*fig:prof*)\n",
       "\n",
       "</div><div id=\"qrcode\"><img src=https://api.qrserver.com/v1/create-qr-code/?size=100x100&data=\"https://arxiv.org/abs/2404.09422\"></div>"
      ],
      "text/plain": [
       "<IPython.core.display.Markdown object>"
      ]
     },
     "metadata": {},
     "output_type": "display_data"
    },
    {
     "data": {
      "text/markdown": [
       "<div class=\"macros\" style=\"visibility:hidden;\">\n",
       "$\\newcommand{\\ensuremath}{}$\n",
       "$\\newcommand{\\xspace}{}$\n",
       "$\\newcommand{\\object}[1]{\\texttt{#1}}$\n",
       "$\\newcommand{\\farcs}{{.}''}$\n",
       "$\\newcommand{\\farcm}{{.}'}$\n",
       "$\\newcommand{\\arcsec}{''}$\n",
       "$\\newcommand{\\arcmin}{'}$\n",
       "$\\newcommand{\\ion}[2]{#1#2}$\n",
       "$\\newcommand{\\textsc}[1]{\\textrm{#1}}$\n",
       "$\\newcommand{\\hl}[1]{\\textrm{#1}}$\n",
       "$\\newcommand{\\footnote}[1]{}$\n",
       "$\\newcommand{\\A}{A_{2}}$\n",
       "$\\newcommand{\\tb}{t_{bar}}$\n",
       "$\\newcommand{\\Msun}{\\mbox{M}_{\\sun}}$\n",
       "$\\newcommand{\\kms}{km.s^{-1}}$</div>\n",
       "\n",
       "\n",
       "\n",
       "<div id=\"title\">\n",
       "\n",
       "# Simulating nearby disc galaxies on the main star formation sequence\n",
       "\n",
       "</div>\n",
       "<div id=\"comments\">\n",
       "\n",
       "[![arXiv](https://img.shields.io/badge/arXiv-2404.09791-b31b1b.svg)](https://arxiv.org/abs/2404.09791)<mark>Appeared on: 2024-04-16</mark> -  _22 pages, 17 figures_\n",
       "\n",
       "</div>\n",
       "<div id=\"authors\">\n",
       "\n",
       "P. Verwilghen, et al. -- incl., <mark>J. Neumann</mark>, <mark>E. Schinnerer</mark>\n",
       "\n",
       "</div>\n",
       "<div id=\"abstract\">\n",
       "\n",
       "**Abstract:** Past studies have long emphasised the key role played by galactic stellar bars in the context of disc secular evolution, via the redistribution of gas and stars, the triggering of star formation, and the formation of prominent structures such as rings and central mass concentrations. However, the exact physical processes acting on those structures, as well as the timescales associated with the building and consumption of central gas reservoirs are still not well understood. We are building a suite of hydro-dynamical RAMSES simulations of isolated, low-redshift galaxies that mimic the properties of the PHANGS sample. The initial conditions of the models reproduce the observed stellar mass, disc scale length, or gas fraction, and this paper presents a first subset of these models. Most of our simulated galaxies develop a prominent bar structure, which itself triggers central gas fuelling and the building of an over-density with a typical scale of 100-1000 pc. We confirm that if the host galaxy features an ellipsoidal component, the formation of the bar and gas fuelling are delayed. We show that most of our simulations follow a common time evolution, when accounting for mass scaling and the bar formation time. In our simulations, the stellar mass of $10^{10}$ M $_{\\odot}$ seems to mark a change in the phases describing the time evolution of the bar and its impact on the interstellar medium. In massive discs (M $_{\\star} \\geq 10^{10}$ M $_{\\odot}$ ), we observe the formation of a central gas reservoir with star formation mostly occurring within a restricted starburst region, leading to a gas depletion phase. Lower-mass systems (M $_{\\star} < 10^{10}$ M $_{\\odot}$ ) do not exhibit such a depletion phase, and show a more homogeneous spread of star-forming regions along the bar structure, and do not appear to host inner bar-driven discs or rings. Our results seem to be supported by observations, and we briefly discuss how this new suite of simulations can help our understanding of the secular evolution of main sequence disc galaxies.\n",
       "\n",
       "</div>\n",
       "\n",
       "<div id=\"div_fig1\">\n",
       "\n",
       "<img src=\"tmp_2404.09791/./figures/Gas_OS_NS_M9.5.png\" alt=\"Fig14\" width=\"100%\"/>\n",
       "\n",
       "**Figure 14. -** Time evolution as a function of $\\tau$ of the gas surface density (top row, \\textcolor{OliveGreen}{GAS}), formed stars' surface density (second row, \\textcolor{blue}{NS}), old stars' surface density (third row, \\textcolor{red}{OS}), and cumulative formed stars' surface density (bottom row, \\textcolor{violet}{CNS}) of the four lowest stellar mass models (10$^{9.5}$\\Msun). Each panel shows a box with a side length of 10 kpc. (*fig:Dens_Glob_095*)\n",
       "\n",
       "</div>\n",
       "<div id=\"div_fig2\">\n",
       "\n",
       "<img src=\"tmp_2404.09791/./figures/Fits_PHANGS_IC_16.png\" alt=\"Fig8\" width=\"100%\"/>\n",
       "\n",
       "**Figure 8. -** Results of the fit for different parameters of the models as a function of the stellar mass. Top panels: gas fraction (left) and stellar scale length (right). Middle panels: scale length ratio between the gas and stars (left) and scale length of the stellar bulge (right). Bottom panels: bulge index (left) and bulge mass fraction (right). Colour circles show the actual fits (see the text in Sec. \\ref{sub:cont_params} for details) to the PHANGS-ALMA sample, while the selected values for our used initial conditions (IC(models)) are shown with purple stars. (*fig:PH_IC_Tot*)\n",
       "\n",
       "</div>\n",
       "<div id=\"div_fig3\">\n",
       "\n",
       "<img src=\"tmp_2404.09791/./figures/SFR_Glob_mean.png\" alt=\"Fig2\" width=\"100%\"/>\n",
       "\n",
       "**Figure 2. -** Comparison of the SFR stemming from the PHANGS data sample (grey crosses) and the SFR computed from the simulated galaxies (coloured squared). The colour of the squares corresponds to the different stellar masses. The red dashed line represents the star formation main sequence at $z=0$ from [Leroy, Sandstrom and Lang (2019)](). (*fig:SFR*)\n",
       "\n",
       "</div><div id=\"qrcode\"><img src=https://api.qrserver.com/v1/create-qr-code/?size=100x100&data=\"https://arxiv.org/abs/2404.09791\"></div>"
      ],
      "text/plain": [
       "<IPython.core.display.Markdown object>"
      ]
     },
     "metadata": {},
     "output_type": "display_data"
    }
   ],
   "source": [
    "[display(Markdown(k[1])) for k in documents];"
   ]
  },
  {
   "cell_type": "markdown",
   "id": "873873a4",
   "metadata": {
    "papermill": {
     "duration": 0.005378,
     "end_time": "2024-04-16T04:12:04.568200",
     "exception": false,
     "start_time": "2024-04-16T04:12:04.562822",
     "status": "completed"
    },
    "tags": []
   },
   "source": [
    "# Create HTML index"
   ]
  },
  {
   "cell_type": "code",
   "execution_count": 9,
   "id": "cf665672",
   "metadata": {
    "execution": {
     "iopub.execute_input": "2024-04-16T04:12:04.579884Z",
     "iopub.status.busy": "2024-04-16T04:12:04.579442Z",
     "iopub.status.idle": "2024-04-16T04:12:04.589065Z",
     "shell.execute_reply": "2024-04-16T04:12:04.588514Z"
    },
    "papermill": {
     "duration": 0.016971,
     "end_time": "2024-04-16T04:12:04.590406",
     "exception": false,
     "start_time": "2024-04-16T04:12:04.573435",
     "status": "completed"
    },
    "tags": []
   },
   "outputs": [
    {
     "name": "stdout",
     "output_type": "stream",
     "text": [
      "404  publications files modified in the last 7 days.\n"
     ]
    }
   ],
   "source": [
    "from datetime import datetime, timedelta, timezone\n",
    "from glob import glob\n",
    "import os\n",
    "\n",
    "files = glob('_build/html/*.md')\n",
    "days = 7\n",
    "now = datetime.today()\n",
    "res = []\n",
    "for fk in files:\n",
    "    stat_result = os.stat(fk).st_ctime\n",
    "    modified = datetime.fromtimestamp(stat_result, tz=timezone.utc).replace(tzinfo=None)\n",
    "    delta = now.today() - modified\n",
    "    if delta <= timedelta(days=days):\n",
    "        res.append((delta.seconds, fk))\n",
    "res = [k[1] for k in reversed(sorted(res, key=lambda x:x[1]))]\n",
    "npub = len(res)\n",
    "print(len(res), f\" publications files modified in the last {days:d} days.\")\n",
    "# [ print('\\t', k) for k in res ];"
   ]
  },
  {
   "cell_type": "code",
   "execution_count": 10,
   "id": "015de740",
   "metadata": {
    "execution": {
     "iopub.execute_input": "2024-04-16T04:12:04.602339Z",
     "iopub.status.busy": "2024-04-16T04:12:04.601926Z",
     "iopub.status.idle": "2024-04-16T04:12:04.623806Z",
     "shell.execute_reply": "2024-04-16T04:12:04.623180Z"
    },
    "papermill": {
     "duration": 0.029321,
     "end_time": "2024-04-16T04:12:04.625215",
     "exception": false,
     "start_time": "2024-04-16T04:12:04.595894",
     "status": "completed"
    },
    "tags": []
   },
   "outputs": [
    {
     "name": "stdout",
     "output_type": "stream",
     "text": [
      "5  publications in the last 7 days.\n"
     ]
    }
   ],
   "source": [
    "import datetime\n",
    "from glob import glob\n",
    "\n",
    "def get_last_n_days(lst, days=1):\n",
    "    \"\"\" Get the documents from the last n days \"\"\"\n",
    "    sorted_lst = sorted(lst, key=lambda x: x[1], reverse=True)\n",
    "    for fname, date in sorted_lst:\n",
    "        if date >= str(datetime.date.today() - datetime.timedelta(days=days)):\n",
    "            yield fname\n",
    "\n",
    "def extract_appearance_dates(lst_file):\n",
    "    dates = []\n",
    "\n",
    "    def get_date(line):\n",
    "        return line\\\n",
    "            .split('Appeared on:')[-1]\\\n",
    "            .split('</mark>')[0].strip()\n",
    "\n",
    "    for fname in lst:\n",
    "        with open(fname, 'r') as f:\n",
    "            found_date = False\n",
    "            for line in f:\n",
    "                if not found_date:\n",
    "                    if \"Appeared on\" in line:\n",
    "                        found_date = True\n",
    "                        dates.append((fname, get_date(line)))\n",
    "                else:\n",
    "                    break\n",
    "    return dates\n",
    "\n",
    "from glob import glob\n",
    "lst = glob('_build/html/*md')\n",
    "days = 7\n",
    "dates = extract_appearance_dates(lst)\n",
    "res = list(get_last_n_days(dates, days))\n",
    "npub = len(res)\n",
    "print(len(res), f\" publications in the last {days:d} days.\")"
   ]
  },
  {
   "cell_type": "code",
   "execution_count": 11,
   "id": "52ca0208",
   "metadata": {
    "execution": {
     "iopub.execute_input": "2024-04-16T04:12:04.637344Z",
     "iopub.status.busy": "2024-04-16T04:12:04.636961Z",
     "iopub.status.idle": "2024-04-16T04:12:04.641876Z",
     "shell.execute_reply": "2024-04-16T04:12:04.641260Z"
    },
    "papermill": {
     "duration": 0.012627,
     "end_time": "2024-04-16T04:12:04.643272",
     "exception": false,
     "start_time": "2024-04-16T04:12:04.630645",
     "status": "completed"
    },
    "scrolled": false,
    "tags": []
   },
   "outputs": [],
   "source": [
    "def create_carousel(npub=4):\n",
    "    \"\"\" Generate the HTML code for a carousel with `npub` slides \"\"\"\n",
    "    carousel = [\"\"\"  <div class=\"carousel\" \"\"\",\n",
    "                \"\"\"       data-flickity='{ \"autoPlay\": 10000, \"adaptiveHeight\": true, \"resize\": true, \"wrapAround\": true, \"pauseAutoPlayOnHover\": true, \"groupCells\": 1 }' id=\"asyncTypeset\">\"\"\"\n",
    "                ]\n",
    "    \n",
    "    item_str = \"\"\"    <div class=\"carousel-cell\"> <div id=\"slide{k}\" class=\"md_view\">Content {k}</div> </div>\"\"\"\n",
    "    for k in range(1, npub + 1):\n",
    "        carousel.append(item_str.format(k=k))\n",
    "    carousel.append(\"  </div>\")\n",
    "    return '\\n'.join(carousel)\n",
    "\n",
    "def create_grid(npub=4):\n",
    "    \"\"\" Generate the HTML code for a flat grid with `npub` slides \"\"\"\n",
    "    grid = [\"\"\"  <div class=\"grid\"> \"\"\",\n",
    "                ]\n",
    "    \n",
    "    item_str = \"\"\"    <div class=\"grid-item\"> <div id=\"slide{k}\" class=\"md_view\">Content {k}</div> </div>\"\"\"\n",
    "    for k in range(1, npub + 1):\n",
    "        grid.append(item_str.format(k=k))\n",
    "    grid.append(\"  </div>\")\n",
    "    return '\\n'.join(grid)"
   ]
  },
  {
   "cell_type": "code",
   "execution_count": 12,
   "id": "a6eac5b6",
   "metadata": {
    "execution": {
     "iopub.execute_input": "2024-04-16T04:12:04.655281Z",
     "iopub.status.busy": "2024-04-16T04:12:04.654932Z",
     "iopub.status.idle": "2024-04-16T04:12:04.659845Z",
     "shell.execute_reply": "2024-04-16T04:12:04.659199Z"
    },
    "papermill": {
     "duration": 0.012436,
     "end_time": "2024-04-16T04:12:04.661254",
     "exception": false,
     "start_time": "2024-04-16T04:12:04.648818",
     "status": "completed"
    },
    "scrolled": false,
    "tags": []
   },
   "outputs": [],
   "source": [
    "carousel = create_carousel(npub)\n",
    "docs = ', '.join(['\"{0:s}\"'.format(k.split('/')[-1]) for k in res])\n",
    "slides = ', '.join([f'\"slide{k}\"' for k in range(1, npub + 1)])\n",
    "\n",
    "with open(\"daily_template.html\", \"r\") as tpl:\n",
    "    page = tpl.read()\n",
    "    page = page.replace(\"{%-- carousel:s --%}\", carousel)\\\n",
    "               .replace(\"{%-- suptitle:s --%}\",  \"7-day archives\" )\\\n",
    "               .replace(\"{%-- docs:s --%}\", docs)\\\n",
    "               .replace(\"{%-- slides:s --%}\", slides)\n",
    "    \n",
    "with open(\"_build/html/index_7days.html\", 'w') as fout:\n",
    "    fout.write(page)"
   ]
  },
  {
   "cell_type": "code",
   "execution_count": 13,
   "id": "adc1a1ec",
   "metadata": {
    "execution": {
     "iopub.execute_input": "2024-04-16T04:12:04.673486Z",
     "iopub.status.busy": "2024-04-16T04:12:04.673138Z",
     "iopub.status.idle": "2024-04-16T04:12:04.679768Z",
     "shell.execute_reply": "2024-04-16T04:12:04.679120Z"
    },
    "papermill": {
     "duration": 0.014177,
     "end_time": "2024-04-16T04:12:04.681111",
     "exception": false,
     "start_time": "2024-04-16T04:12:04.666934",
     "status": "completed"
    },
    "tags": []
   },
   "outputs": [
    {
     "name": "stdout",
     "output_type": "stream",
     "text": [
      "3  publications in the last day.\n"
     ]
    }
   ],
   "source": [
    "# redo for today\n",
    "days = 1\n",
    "res = list(get_last_n_days(dates, days))\n",
    "npub = len(res)\n",
    "print(len(res), f\" publications in the last day.\")\n",
    "\n",
    "carousel = create_carousel(npub)\n",
    "docs = ', '.join(['\"{0:s}\"'.format(k.split('/')[-1]) for k in res])\n",
    "slides = ', '.join([f'\"slide{k}\"' for k in range(1, npub + 1)])\n",
    "\n",
    "with open(\"daily_template.html\", \"r\") as tpl:\n",
    "    page = tpl.read()\n",
    "    page = page.replace(\"{%-- carousel:s --%}\", carousel)\\\n",
    "               .replace(\"{%-- suptitle:s --%}\",  \"Daily\" )\\\n",
    "               .replace(\"{%-- docs:s --%}\", docs)\\\n",
    "               .replace(\"{%-- slides:s --%}\", slides)\n",
    "    \n",
    "# print(carousel, docs, slides)\n",
    "# print(page)\n",
    "with open(\"_build/html/index_daily.html\", 'w') as fout:\n",
    "    fout.write(page)"
   ]
  },
  {
   "cell_type": "code",
   "execution_count": 14,
   "id": "00eece82",
   "metadata": {
    "execution": {
     "iopub.execute_input": "2024-04-16T04:12:04.693371Z",
     "iopub.status.busy": "2024-04-16T04:12:04.693002Z",
     "iopub.status.idle": "2024-04-16T04:12:04.699251Z",
     "shell.execute_reply": "2024-04-16T04:12:04.698632Z"
    },
    "papermill": {
     "duration": 0.013864,
     "end_time": "2024-04-16T04:12:04.700608",
     "exception": false,
     "start_time": "2024-04-16T04:12:04.686744",
     "status": "completed"
    },
    "scrolled": false,
    "tags": []
   },
   "outputs": [
    {
     "name": "stdout",
     "output_type": "stream",
     "text": [
      "6  6 publications selected.\n"
     ]
    }
   ],
   "source": [
    "# Create the flat grid of the last N papers (fixed number regardless of dates)\n",
    "from itertools import islice \n",
    "\n",
    "npub = 6\n",
    "res = [k[0] for k in (islice(reversed(sorted(dates, key=lambda x: x[1])), 6))]\n",
    "print(len(res), f\" {npub} publications selected.\")\n",
    "\n",
    "grid = create_grid(npub)\n",
    "docs = ', '.join(['\"{0:s}\"'.format(k.split('/')[-1]) for k in res])\n",
    "slides = ', '.join([f'\"slide{k}\"' for k in range(1, npub + 1)])\n",
    "\n",
    "with open(\"grid_template.html\", \"r\") as tpl:\n",
    "    page = tpl.read()\n",
    "    page = page.replace(\"{%-- grid-content:s --%}\", grid)\\\n",
    "               .replace(\"{%-- suptitle:s --%}\",  f\"Last {npub:,d} papers\" )\\\n",
    "               .replace(\"{%-- docs:s --%}\", docs)\\\n",
    "               .replace(\"{%-- slides:s --%}\", slides)\n",
    "    \n",
    "# print(grid, docs, slides)\n",
    "# print(page)\n",
    "with open(\"_build/html/index_npub_grid.html\", 'w') as fout:\n",
    "    fout.write(page)"
   ]
  }
 ],
 "metadata": {
  "kernelspec": {
   "display_name": "Python 3 (ipykernel)",
   "language": "python",
   "name": "python3"
  },
  "language_info": {
   "codemirror_mode": {
    "name": "ipython",
    "version": 3
   },
   "file_extension": ".py",
   "mimetype": "text/x-python",
   "name": "python",
   "nbconvert_exporter": "python",
   "pygments_lexer": "ipython3",
   "version": "3.9.19"
  },
  "papermill": {
   "default_parameters": {},
   "duration": 210.290913,
   "end_time": "2024-04-16T04:12:04.921788",
   "environment_variables": {},
   "exception": null,
   "input_path": "MPIA daily digest.ipynb",
   "output_path": "log.ipynb",
   "parameters": {},
   "start_time": "2024-04-16T04:08:34.630875",
   "version": "2.5.0"
  },
  "vscode": {
   "interpreter": {
    "hash": "aee8b7b246df8f9039afb4144a1f6fd8d2ca17a180786b69acc140d282b71a49"
   }
  },
  "widgets": {
   "application/vnd.jupyter.widget-state+json": {
    "state": {
     "02e36950c4e8401b93d525fff9bc8fcd": {
      "model_module": "@jupyter-widgets/controls",
      "model_module_version": "2.0.0",
      "model_name": "ProgressStyleModel",
      "state": {
       "_model_module": "@jupyter-widgets/controls",
       "_model_module_version": "2.0.0",
       "_model_name": "ProgressStyleModel",
       "_view_count": null,
       "_view_module": "@jupyter-widgets/base",
       "_view_module_version": "2.0.0",
       "_view_name": "StyleView",
       "bar_color": null,
       "description_width": ""
      }
     },
     "0bad9b5d353b4fd5ad78551950f72b56": {
      "model_module": "@jupyter-widgets/controls",
      "model_module_version": "2.0.0",
      "model_name": "HTMLModel",
      "state": {
       "_dom_classes": [],
       "_model_module": "@jupyter-widgets/controls",
       "_model_module_version": "2.0.0",
       "_model_name": "HTMLModel",
       "_view_count": null,
       "_view_module": "@jupyter-widgets/controls",
       "_view_module_version": "2.0.0",
       "_view_name": "HTMLView",
       "description": "",
       "description_allow_html": false,
       "layout": "IPY_MODEL_a5f0c38002164cf6a4024bac506bf419",
       "placeholder": "​",
       "style": "IPY_MODEL_179e02edb8d845c5b6676aa9a9ca848d",
       "tabbable": null,
       "tooltip": null,
       "value": "100%"
      }
     },
     "1011fe1d70934901b52b6dd575aa57e6": {
      "model_module": "@jupyter-widgets/controls",
      "model_module_version": "2.0.0",
      "model_name": "FloatProgressModel",
      "state": {
       "_dom_classes": [],
       "_model_module": "@jupyter-widgets/controls",
       "_model_module_version": "2.0.0",
       "_model_name": "FloatProgressModel",
       "_view_count": null,
       "_view_module": "@jupyter-widgets/controls",
       "_view_module_version": "2.0.0",
       "_view_name": "ProgressView",
       "bar_style": "success",
       "description": "",
       "description_allow_html": false,
       "layout": "IPY_MODEL_b7883bf7daf04f92b12608630208da78",
       "max": 5.0,
       "min": 0.0,
       "orientation": "horizontal",
       "style": "IPY_MODEL_02e36950c4e8401b93d525fff9bc8fcd",
       "tabbable": null,
       "tooltip": null,
       "value": 5.0
      }
     },
     "179e02edb8d845c5b6676aa9a9ca848d": {
      "model_module": "@jupyter-widgets/controls",
      "model_module_version": "2.0.0",
      "model_name": "HTMLStyleModel",
      "state": {
       "_model_module": "@jupyter-widgets/controls",
       "_model_module_version": "2.0.0",
       "_model_name": "HTMLStyleModel",
       "_view_count": null,
       "_view_module": "@jupyter-widgets/base",
       "_view_module_version": "2.0.0",
       "_view_name": "StyleView",
       "background": null,
       "description_width": "",
       "font_size": null,
       "text_color": null
      }
     },
     "4adff7a4b7a841e6bf31371f9d57504b": {
      "model_module": "@jupyter-widgets/controls",
      "model_module_version": "2.0.0",
      "model_name": "HTMLModel",
      "state": {
       "_dom_classes": [],
       "_model_module": "@jupyter-widgets/controls",
       "_model_module_version": "2.0.0",
       "_model_name": "HTMLModel",
       "_view_count": null,
       "_view_module": "@jupyter-widgets/controls",
       "_view_module_version": "2.0.0",
       "_view_name": "HTMLView",
       "description": "",
       "description_allow_html": false,
       "layout": "IPY_MODEL_6d00b51a73f34c6e999e753841a79f4c",
       "placeholder": "​",
       "style": "IPY_MODEL_9a420445b3284b89867e42df8b6cfc5f",
       "tabbable": null,
       "tooltip": null,
       "value": " 5/5 [03:10&lt;00:00, 39.54s/it]"
      }
     },
     "6d00b51a73f34c6e999e753841a79f4c": {
      "model_module": "@jupyter-widgets/base",
      "model_module_version": "2.0.0",
      "model_name": "LayoutModel",
      "state": {
       "_model_module": "@jupyter-widgets/base",
       "_model_module_version": "2.0.0",
       "_model_name": "LayoutModel",
       "_view_count": null,
       "_view_module": "@jupyter-widgets/base",
       "_view_module_version": "2.0.0",
       "_view_name": "LayoutView",
       "align_content": null,
       "align_items": null,
       "align_self": null,
       "border_bottom": null,
       "border_left": null,
       "border_right": null,
       "border_top": null,
       "bottom": null,
       "display": null,
       "flex": null,
       "flex_flow": null,
       "grid_area": null,
       "grid_auto_columns": null,
       "grid_auto_flow": null,
       "grid_auto_rows": null,
       "grid_column": null,
       "grid_gap": null,
       "grid_row": null,
       "grid_template_areas": null,
       "grid_template_columns": null,
       "grid_template_rows": null,
       "height": null,
       "justify_content": null,
       "justify_items": null,
       "left": null,
       "margin": null,
       "max_height": null,
       "max_width": null,
       "min_height": null,
       "min_width": null,
       "object_fit": null,
       "object_position": null,
       "order": null,
       "overflow": null,
       "padding": null,
       "right": null,
       "top": null,
       "visibility": null,
       "width": null
      }
     },
     "76d16083ff1e43eb9b2cad065da575f6": {
      "model_module": "@jupyter-widgets/controls",
      "model_module_version": "2.0.0",
      "model_name": "HBoxModel",
      "state": {
       "_dom_classes": [],
       "_model_module": "@jupyter-widgets/controls",
       "_model_module_version": "2.0.0",
       "_model_name": "HBoxModel",
       "_view_count": null,
       "_view_module": "@jupyter-widgets/controls",
       "_view_module_version": "2.0.0",
       "_view_name": "HBoxView",
       "box_style": "",
       "children": [
        "IPY_MODEL_0bad9b5d353b4fd5ad78551950f72b56",
        "IPY_MODEL_1011fe1d70934901b52b6dd575aa57e6",
        "IPY_MODEL_4adff7a4b7a841e6bf31371f9d57504b"
       ],
       "layout": "IPY_MODEL_8d960453a58d4c9595f15f90480fca56",
       "tabbable": null,
       "tooltip": null
      }
     },
     "8d960453a58d4c9595f15f90480fca56": {
      "model_module": "@jupyter-widgets/base",
      "model_module_version": "2.0.0",
      "model_name": "LayoutModel",
      "state": {
       "_model_module": "@jupyter-widgets/base",
       "_model_module_version": "2.0.0",
       "_model_name": "LayoutModel",
       "_view_count": null,
       "_view_module": "@jupyter-widgets/base",
       "_view_module_version": "2.0.0",
       "_view_name": "LayoutView",
       "align_content": null,
       "align_items": null,
       "align_self": null,
       "border_bottom": null,
       "border_left": null,
       "border_right": null,
       "border_top": null,
       "bottom": null,
       "display": null,
       "flex": null,
       "flex_flow": null,
       "grid_area": null,
       "grid_auto_columns": null,
       "grid_auto_flow": null,
       "grid_auto_rows": null,
       "grid_column": null,
       "grid_gap": null,
       "grid_row": null,
       "grid_template_areas": null,
       "grid_template_columns": null,
       "grid_template_rows": null,
       "height": null,
       "justify_content": null,
       "justify_items": null,
       "left": null,
       "margin": null,
       "max_height": null,
       "max_width": null,
       "min_height": null,
       "min_width": null,
       "object_fit": null,
       "object_position": null,
       "order": null,
       "overflow": null,
       "padding": null,
       "right": null,
       "top": null,
       "visibility": null,
       "width": null
      }
     },
     "9a420445b3284b89867e42df8b6cfc5f": {
      "model_module": "@jupyter-widgets/controls",
      "model_module_version": "2.0.0",
      "model_name": "HTMLStyleModel",
      "state": {
       "_model_module": "@jupyter-widgets/controls",
       "_model_module_version": "2.0.0",
       "_model_name": "HTMLStyleModel",
       "_view_count": null,
       "_view_module": "@jupyter-widgets/base",
       "_view_module_version": "2.0.0",
       "_view_name": "StyleView",
       "background": null,
       "description_width": "",
       "font_size": null,
       "text_color": null
      }
     },
     "a5f0c38002164cf6a4024bac506bf419": {
      "model_module": "@jupyter-widgets/base",
      "model_module_version": "2.0.0",
      "model_name": "LayoutModel",
      "state": {
       "_model_module": "@jupyter-widgets/base",
       "_model_module_version": "2.0.0",
       "_model_name": "LayoutModel",
       "_view_count": null,
       "_view_module": "@jupyter-widgets/base",
       "_view_module_version": "2.0.0",
       "_view_name": "LayoutView",
       "align_content": null,
       "align_items": null,
       "align_self": null,
       "border_bottom": null,
       "border_left": null,
       "border_right": null,
       "border_top": null,
       "bottom": null,
       "display": null,
       "flex": null,
       "flex_flow": null,
       "grid_area": null,
       "grid_auto_columns": null,
       "grid_auto_flow": null,
       "grid_auto_rows": null,
       "grid_column": null,
       "grid_gap": null,
       "grid_row": null,
       "grid_template_areas": null,
       "grid_template_columns": null,
       "grid_template_rows": null,
       "height": null,
       "justify_content": null,
       "justify_items": null,
       "left": null,
       "margin": null,
       "max_height": null,
       "max_width": null,
       "min_height": null,
       "min_width": null,
       "object_fit": null,
       "object_position": null,
       "order": null,
       "overflow": null,
       "padding": null,
       "right": null,
       "top": null,
       "visibility": null,
       "width": null
      }
     },
     "b7883bf7daf04f92b12608630208da78": {
      "model_module": "@jupyter-widgets/base",
      "model_module_version": "2.0.0",
      "model_name": "LayoutModel",
      "state": {
       "_model_module": "@jupyter-widgets/base",
       "_model_module_version": "2.0.0",
       "_model_name": "LayoutModel",
       "_view_count": null,
       "_view_module": "@jupyter-widgets/base",
       "_view_module_version": "2.0.0",
       "_view_name": "LayoutView",
       "align_content": null,
       "align_items": null,
       "align_self": null,
       "border_bottom": null,
       "border_left": null,
       "border_right": null,
       "border_top": null,
       "bottom": null,
       "display": null,
       "flex": null,
       "flex_flow": null,
       "grid_area": null,
       "grid_auto_columns": null,
       "grid_auto_flow": null,
       "grid_auto_rows": null,
       "grid_column": null,
       "grid_gap": null,
       "grid_row": null,
       "grid_template_areas": null,
       "grid_template_columns": null,
       "grid_template_rows": null,
       "height": null,
       "justify_content": null,
       "justify_items": null,
       "left": null,
       "margin": null,
       "max_height": null,
       "max_width": null,
       "min_height": null,
       "min_width": null,
       "object_fit": null,
       "object_position": null,
       "order": null,
       "overflow": null,
       "padding": null,
       "right": null,
       "top": null,
       "visibility": null,
       "width": null
      }
     }
    },
    "version_major": 2,
    "version_minor": 0
   }
  }
 },
 "nbformat": 4,
 "nbformat_minor": 5
}