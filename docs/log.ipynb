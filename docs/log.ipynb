{
 "cells": [
  {
   "cell_type": "markdown",
   "id": "92bcb855",
   "metadata": {
    "papermill": {
     "duration": 0.003756,
     "end_time": "2024-05-20T04:08:36.586273",
     "exception": false,
     "start_time": "2024-05-20T04:08:36.582517",
     "status": "completed"
    },
    "tags": []
   },
   "source": [
    "# MPIA Arxiv on Deck 2\n",
    "\n",
    "Contains the steps to produce the paper extractions."
   ]
  },
  {
   "cell_type": "code",
   "execution_count": 1,
   "id": "3a0d6e11",
   "metadata": {
    "execution": {
     "iopub.execute_input": "2024-05-20T04:08:36.593922Z",
     "iopub.status.busy": "2024-05-20T04:08:36.593451Z",
     "iopub.status.idle": "2024-05-20T04:08:37.107911Z",
     "shell.execute_reply": "2024-05-20T04:08:37.107221Z"
    },
    "papermill": {
     "duration": 0.520254,
     "end_time": "2024-05-20T04:08:37.109693",
     "exception": false,
     "start_time": "2024-05-20T04:08:36.589439",
     "status": "completed"
    },
    "tags": []
   },
   "outputs": [],
   "source": [
    "# Imports\n",
    "import os\n",
    "from IPython.display import Markdown, display\n",
    "from tqdm.notebook import tqdm\n",
    "import warnings\n",
    "from PIL import Image \n",
    "\n",
    "# requires arxiv_on_deck_2\n",
    "\n",
    "from arxiv_on_deck_2.arxiv2 import (get_new_papers, \n",
    "                                    get_paper_from_identifier,\n",
    "                                    retrieve_document_source, \n",
    "                                    get_markdown_badge)\n",
    "from arxiv_on_deck_2 import (latex,\n",
    "                             latex_bib,\n",
    "                             mpia,\n",
    "                             highlight_authors_in_list)\n",
    "\n",
    "# Sometimes images are really big\n",
    "Image.MAX_IMAGE_PIXELS = 1000000000 "
   ]
  },
  {
   "cell_type": "code",
   "execution_count": 2,
   "id": "22aa9d44",
   "metadata": {
    "execution": {
     "iopub.execute_input": "2024-05-20T04:08:37.117243Z",
     "iopub.status.busy": "2024-05-20T04:08:37.116757Z",
     "iopub.status.idle": "2024-05-20T04:08:37.121829Z",
     "shell.execute_reply": "2024-05-20T04:08:37.121251Z"
    },
    "papermill": {
     "duration": 0.010233,
     "end_time": "2024-05-20T04:08:37.123167",
     "exception": false,
     "start_time": "2024-05-20T04:08:37.112934",
     "status": "completed"
    },
    "tags": []
   },
   "outputs": [],
   "source": [
    "# Some useful definitions.\n",
    "\n",
    "class AffiliationWarning(UserWarning):\n",
    "    pass\n",
    "\n",
    "class AffiliationError(RuntimeError):\n",
    "    pass\n",
    "\n",
    "def validation(source: str):\n",
    "    \"\"\"Raises error paper during parsing of source file\n",
    "    \n",
    "    Allows checks before parsing TeX code.\n",
    "    \n",
    "    Raises AffiliationWarning\n",
    "    \"\"\"\n",
    "    check = mpia.affiliation_verifications(source, verbose=True)\n",
    "    if check is not True:\n",
    "        raise AffiliationError(\"mpia.affiliation_verifications: \" + check)\n",
    "\n",
    "        \n",
    "warnings.simplefilter('always', AffiliationWarning)\n",
    "\n",
    "\n",
    "def get_markdown_qrcode(paper_id: str):\n",
    "    \"\"\" Generate a qrcode to the arxiv page using qrserver.com\n",
    "    \n",
    "    :param paper: Arxiv paper\n",
    "    :returns: markdown text\n",
    "    \"\"\"\n",
    "    url = r\"https://api.qrserver.com/v1/create-qr-code/?size=100x100&data=\"\n",
    "    txt = f\"\"\"<img src={url}\"https://arxiv.org/abs/{paper_id}\">\"\"\"\n",
    "    txt = '<div id=\"qrcode\">' + txt + '</div>'\n",
    "    return txt"
   ]
  },
  {
   "cell_type": "markdown",
   "id": "14bd6310",
   "metadata": {
    "papermill": {
     "duration": 0.00284,
     "end_time": "2024-05-20T04:08:37.129010",
     "exception": false,
     "start_time": "2024-05-20T04:08:37.126170",
     "status": "completed"
    },
    "tags": []
   },
   "source": [
    "## get list of arxiv paper candidates\n",
    "\n",
    "We use the MPIA mitarbeiter list webpage from mpia.de to get author names\n",
    "We then get all new papers from Arxiv and match authors"
   ]
  },
  {
   "cell_type": "code",
   "execution_count": 3,
   "id": "7ea813a8",
   "metadata": {
    "execution": {
     "iopub.execute_input": "2024-05-20T04:08:37.136038Z",
     "iopub.status.busy": "2024-05-20T04:08:37.135638Z",
     "iopub.status.idle": "2024-05-20T04:08:53.741596Z",
     "shell.execute_reply": "2024-05-20T04:08:53.740886Z"
    },
    "papermill": {
     "duration": 16.611435,
     "end_time": "2024-05-20T04:08:53.743362",
     "exception": false,
     "start_time": "2024-05-20T04:08:37.131927",
     "status": "completed"
    },
    "tags": []
   },
   "outputs": [],
   "source": [
    "# deal with the author list and edge cases of people that cannot be consistent on their name  \n",
    "\n",
    "def filter_non_scientists(name: str) -> bool:\n",
    "    \"\"\" Loose filter on expected authorships\n",
    "\n",
    "    removing IT, administration, technical staff\n",
    "    :param name: name\n",
    "    :returns: False if name is not a scientist\n",
    "    \"\"\"\n",
    "    remove_list = ['Wolf', 'Licht', 'Binroth', 'Witzel', 'Jordan',\n",
    "                   'Zähringer', 'Scheerer', 'Hoffmann', 'Düe',\n",
    "                   'Hellmich', 'Enkler-Scharpegge', 'Witte-Nguy',\n",
    "                   'Dehen', 'Beckmann', 'Jager', 'Jäger'\n",
    "                  ]\n",
    "\n",
    "    for k in remove_list:\n",
    "        if k in name:\n",
    "            return False\n",
    "    return True\n",
    "\n",
    "def add_author_to_list(author_list: list) -> list:\n",
    "    \"\"\" Add author to list if not already in list\n",
    "    \n",
    "    :param author: author name\n",
    "    :param author_list: list of authors\n",
    "    :returns: updated list of authors\n",
    "    \"\"\"\n",
    "    add_list = ['T. Henning']\n",
    "\n",
    "    for author in add_list:\n",
    "        if author not in author_list:\n",
    "            author_list.append(author)\n",
    "    return author_list\n",
    "\n",
    "# get list from MPIA website\n",
    "# filter for non-scientists (mpia.get_mpia_mitarbeiter_list() does some filtering)\n",
    "mpia_authors = [k[1] for k in mpia.get_mpia_mitarbeiter_list() if filter_non_scientists(k[1])]\n",
    "# add some missing author because of inconsistencies in their MPIA name and author name on papers\n",
    "mpia_authors = add_author_to_list(mpia_authors)"
   ]
  },
  {
   "cell_type": "code",
   "execution_count": 4,
   "id": "2645e73a",
   "metadata": {
    "execution": {
     "iopub.execute_input": "2024-05-20T04:08:53.750922Z",
     "iopub.status.busy": "2024-05-20T04:08:53.750495Z",
     "iopub.status.idle": "2024-05-20T04:08:54.430904Z",
     "shell.execute_reply": "2024-05-20T04:08:54.430223Z"
    },
    "papermill": {
     "duration": 0.685655,
     "end_time": "2024-05-20T04:08:54.432305",
     "exception": false,
     "start_time": "2024-05-20T04:08:53.746650",
     "status": "completed"
    },
    "tags": []
   },
   "outputs": [
    {
     "name": "stdout",
     "output_type": "stream",
     "text": [
      "H. Linz  ->  H. Linz  |  ['H. Linz']\n",
      "X. Zhang  ->  X. Zhang  |  ['X. Zhang']\n",
      "P. Mollière  ->  P. Mollière  |  ['P. Mollière']\n",
      "E. Nasedkin  ->  E. Nasedkin  |  ['E. Nasedkin']\n",
      "A. d. Graaff  ->  A. D. Graaff  |  ['A. D. Graaff']\n",
      "J. Liu  ->  J. Liu  |  ['J. Liu']\n",
      "Arxiv has 55 new papers today\n",
      "          5 with possible author matches\n"
     ]
    }
   ],
   "source": [
    "new_papers = get_new_papers()\n",
    "# add manual references\n",
    "add_paper_refs = []\n",
    "new_papers.extend([get_paper_from_identifier(k) for k in add_paper_refs])\n",
    "\n",
    "candidates = []\n",
    "for paperk in new_papers:\n",
    "    # Check author list with their initials\n",
    "    normed_author_list = [mpia.get_initials(k) for k in paperk['authors']]\n",
    "    hl_authors = highlight_authors_in_list(normed_author_list, mpia_authors, verbose=True)\n",
    "    matches = [(hl, orig) for hl, orig in zip(hl_authors, paperk['authors']) if 'mark' in hl]\n",
    "    paperk['authors'] = hl_authors\n",
    "    if matches:\n",
    "        # only select paper if an author matched our list\n",
    "        candidates.append(paperk)\n",
    "print(\"\"\"Arxiv has {0:,d} new papers today\"\"\".format(len(new_papers)))        \n",
    "print(\"\"\"          {0:,d} with possible author matches\"\"\".format(len(candidates)))"
   ]
  },
  {
   "cell_type": "markdown",
   "id": "3543b34a",
   "metadata": {
    "papermill": {
     "duration": 0.003023,
     "end_time": "2024-05-20T04:08:54.438798",
     "exception": false,
     "start_time": "2024-05-20T04:08:54.435775",
     "status": "completed"
    },
    "tags": []
   },
   "source": [
    "# Parse sources and generate relevant outputs\n",
    "\n",
    "From the candidates, we do the following steps:\n",
    "* get their tarball from ArXiv (and extract data)\n",
    "* find the main .tex file: find one with \\documentclass{...} (sometimes it's non trivial)\n",
    "* Check affiliations with :func:`validation`, which uses :func:`mpia.affiliation_verifications`\n",
    "* If passing the affiliations: we parse the .tex source\n",
    "   * inject sub-documents into the main (flatten the main document)\n",
    "   * parse structure, extract information (title, abstract, authors, figures...)\n",
    "   * handles `\\graphicspath` if provided\n",
    "* Generate the .md document."
   ]
  },
  {
   "cell_type": "code",
   "execution_count": 5,
   "id": "9576b79e",
   "metadata": {
    "execution": {
     "iopub.execute_input": "2024-05-20T04:08:54.445960Z",
     "iopub.status.busy": "2024-05-20T04:08:54.445574Z",
     "iopub.status.idle": "2024-05-20T04:12:30.856556Z",
     "shell.execute_reply": "2024-05-20T04:12:30.855858Z"
    },
    "papermill": {
     "duration": 216.416352,
     "end_time": "2024-05-20T04:12:30.858132",
     "exception": false,
     "start_time": "2024-05-20T04:08:54.441780",
     "status": "completed"
    },
    "scrolled": false,
    "tags": []
   },
   "outputs": [
    {
     "data": {
      "application/vnd.jupyter.widget-view+json": {
       "model_id": "3c811db5bccd4104ac3fad5963e3eda5",
       "version_major": 2,
       "version_minor": 0
      },
      "text/plain": [
       "  0%|          | 0/5 [00:00<?, ?it/s]"
      ]
     },
     "metadata": {},
     "output_type": "display_data"
    },
    {
     "name": "stdout",
     "output_type": "stream",
     "text": [
      "Retrieving document from  https://arxiv.org/e-print/2405.10427\n",
      "extracting tarball to tmp_2405.10427..."
     ]
    },
    {
     "name": "stdout",
     "output_type": "stream",
     "text": [
      " done.\n"
     ]
    },
    {
     "name": "stdout",
     "output_type": "stream",
     "text": [
      "H. Linz  ->  H. Linz  |  ['H. Linz']\n"
     ]
    },
    {
     "name": "stdout",
     "output_type": "stream",
     "text": [
      "Found 150 bibliographic references in tmp_2405.10427/G323.46-0.08.bbl.\n",
      "syntax error in line 5: unbalanced braces\n",
      "Retrieving document from  https://arxiv.org/e-print/2405.10595\n",
      "extracting tarball to tmp_2405.10595... done.\n",
      "Retrieving document from  https://arxiv.org/e-print/2405.10841\n"
     ]
    },
    {
     "name": "stdout",
     "output_type": "stream",
     "text": [
      "extracting tarball to tmp_2405.10841... done.\n",
      "Retrieving document from  https://arxiv.org/e-print/2405.10866\n",
      "extracting tarball to tmp_2405.10866..."
     ]
    },
    {
     "name": "stderr",
     "output_type": "stream",
     "text": [
      "/opt/hostedtoolcache/Python/3.9.19/x64/lib/python3.9/site-packages/IPython/core/interactiveshell.py:3550: LatexWarning: Multiple tex files.\n",
      "\n",
      "  exec(code_obj, self.user_global_ns, self.user_ns)\n",
      "/tmp/ipykernel_2061/1211882699.py:51: LatexWarning: 2405.10841 did not run properly\n",
      "'PosixPath' object is not subscriptable\n",
      "  warnings.warn(latex.LatexWarning(f\"{paper_id:s} did not run properly\\n\" +\n"
     ]
    },
    {
     "name": "stdout",
     "output_type": "stream",
     "text": [
      " done.\n"
     ]
    },
    {
     "name": "stdout",
     "output_type": "stream",
     "text": [
      "A. d. Graaff  ->  A. D. Graaff  |  ['A. D. Graaff']\n"
     ]
    },
    {
     "name": "stderr",
     "output_type": "stream",
     "text": [
      "/tmp/ipykernel_2061/1211882699.py:51: LatexWarning: 2405.10866 did not run properly\n",
      "list index out of range\n",
      "  warnings.warn(latex.LatexWarning(f\"{paper_id:s} did not run properly\\n\" +\n"
     ]
    },
    {
     "name": "stdout",
     "output_type": "stream",
     "text": [
      "Retrieving document from  https://arxiv.org/e-print/2405.10890\n",
      "extracting tarball to tmp_2405.10890..."
     ]
    },
    {
     "name": "stdout",
     "output_type": "stream",
     "text": [
      " done.\n"
     ]
    }
   ],
   "source": [
    "documents = []\n",
    "failed = []\n",
    "for paper in tqdm(candidates):\n",
    "    # debug crap\n",
    "    paper['identifier'] = paper['identifier'].lower().replace('arxiv:', '').replace(r'\\n', '').strip()\n",
    "    paper_id = paper['identifier']\n",
    "    \n",
    "    folder = f'tmp_{paper_id}'\n",
    "\n",
    "    try:\n",
    "        if not os.path.isdir(folder):\n",
    "            folder = retrieve_document_source(f\"{paper_id}\", f'tmp_{paper_id}')\n",
    "        \n",
    "        try:\n",
    "            doc = latex.LatexDocument(folder, validation=validation)    \n",
    "        except AffiliationError as affilerror:\n",
    "            msg = f\"ArXiv:{paper_id:s} is not an MPIA paper... \" + str(affilerror)\n",
    "            failed.append((paper, \"affiliation error: \" + str(affilerror) ))\n",
    "            continue\n",
    "        \n",
    "        # Hack because sometimes author parsing does not work well\n",
    "        if (len(doc.authors) != len(paper['authors'])):\n",
    "            doc._authors = paper['authors']\n",
    "        else:\n",
    "            # highlight authors (FIXME: doc.highlight_authors)\n",
    "            # done on arxiv paper already\n",
    "            doc._authors = highlight_authors_in_list(\n",
    "                [mpia.get_initials(k) for k in doc.authors], \n",
    "                mpia_authors, verbose=True)\n",
    "        if (doc.abstract) in (None, ''):\n",
    "            doc._abstract = paper['abstract']\n",
    "            \n",
    "        doc.comment = (get_markdown_badge(paper_id) + \n",
    "                       \"<mark>Appeared on: \" + paper['date'] + \"</mark> - \")\n",
    "        if paper['comments']:\n",
    "            doc.comment += \" _\" + paper['comments'] + \"_\"\n",
    "        \n",
    "        full_md = doc.generate_markdown_text()\n",
    "        \n",
    "        full_md += get_markdown_qrcode(paper_id)\n",
    "        \n",
    "        # replace citations\n",
    "        try:\n",
    "            bibdata = latex_bib.LatexBib.from_doc(doc)\n",
    "            full_md = latex_bib.replace_citations(full_md, bibdata)\n",
    "        except Exception as e:\n",
    "            print(e)\n",
    "        \n",
    "        documents.append((paper_id, full_md))\n",
    "    except Exception as e:\n",
    "        warnings.warn(latex.LatexWarning(f\"{paper_id:s} did not run properly\\n\" +\n",
    "                                         str(e)\n",
    "                                        ))\n",
    "        failed.append((paper, \"latex error \" + str(e)))"
   ]
  },
  {
   "cell_type": "markdown",
   "id": "2505a25c",
   "metadata": {
    "papermill": {
     "duration": 0.004356,
     "end_time": "2024-05-20T04:12:30.866403",
     "exception": false,
     "start_time": "2024-05-20T04:12:30.862047",
     "status": "completed"
    },
    "tags": []
   },
   "source": [
    "### Export the logs\n",
    "\n",
    "Throughout, we also keep track of the logs per paper. see `logs-{today date}.md` "
   ]
  },
  {
   "cell_type": "code",
   "execution_count": 6,
   "id": "d733828a",
   "metadata": {
    "execution": {
     "iopub.execute_input": "2024-05-20T04:12:30.875094Z",
     "iopub.status.busy": "2024-05-20T04:12:30.874650Z",
     "iopub.status.idle": "2024-05-20T04:12:30.890218Z",
     "shell.execute_reply": "2024-05-20T04:12:30.889580Z"
    },
    "papermill": {
     "duration": 0.021663,
     "end_time": "2024-05-20T04:12:30.891761",
     "exception": false,
     "start_time": "2024-05-20T04:12:30.870098",
     "status": "completed"
    },
    "scrolled": false,
    "tags": []
   },
   "outputs": [
    {
     "data": {
      "text/markdown": [
       "## Successful papers"
      ],
      "text/plain": [
       "<IPython.core.display.Markdown object>"
      ]
     },
     "metadata": {},
     "output_type": "display_data"
    },
    {
     "data": {
      "text/markdown": [
       "\n",
       "|||\n",
       "|---:|:---|\n",
       "| [![arXiv](https://img.shields.io/badge/arXiv-2405.10427-b31b1b.svg)](https://arxiv.org/abs/2405.10427) | **The accretion burst of the massive young stellar object G323.46 -0.08**  |\n",
       "|| V. Wolf, et al. -- incl., <mark>H. Linz</mark> |\n",
       "|*Appeared on*| *2024-05-20*|\n",
       "|*Comments*| **|\n",
       "|**Abstract**|            Accretion bursts from low-mass young stellar objects (YSOs) are known for many decades. In recent years, the first accretion bursts of massive YSOs (MYSOs) were observed. These phases of intense protostellar growth are of particular importance for studying massive star formation. Bursts of MYSOs are accompanied by flares of Class II methanol masers (hereafter masers), caused by an increase in exciting mid-infrared (MIR) emission. The G323.46$-$0.08 (hereafter G323) event extends the small sample of known MYSO bursts. Maser observations of the MYSO G323 show evidence of a flare, which was presumed to be caused by an accretion burst. This should be verified with IR data. We used time-dependent radiative transfer (TDRT) to characterize the heating and cooling timescales for eruptive MYSOs and to infer the main burst parameters. The G323 accretion burst is confirmed. It reached its peak in late 2013/early 2014 with a Ks-band increase of 2.5mag. TDRT indicates that the duration of the thermal afterglow in the far-infrared (FIR) can exceed the burst duration by years. The latter was proved by SOFIA observations, which indicate a flux increase of $(14.2\\pm4.6)$% at $70\\, \\rm \\mu m$ and $(8.5\\pm6.1)$% at $160\\, \\mu$m in 2022 (2 years after the burst end). A one-sided light echo emerged that was propagating into the interstellar medium. The G323 burst is probably the most energetic MYSO burst observed so far. Within $8.4 \\rm \\, yrs$, an energy of $(0.9\\pm_{0.8}^{2.5}) \\times 10^{47}\\,\\rm erg$ was released. The short timescale points to the accretion of a compact body, while the burst energy corresponds to an accumulated mass of at least $(7\\pm_{6}^{20})\\,M_{Jup}$ and possibly even more if the protostar is bloated. In this case, the accretion event might have triggered protostellar pulsations, which give rise to the observed maser periodicity.         |"
      ],
      "text/plain": [
       "[2405.10427] The accretion burst of the massive young stellar object G323.46 -0.08\n",
       "\tV. Wolf, et al. -- incl., <mark>H. Linz</mark>"
      ]
     },
     "metadata": {},
     "output_type": "display_data"
    },
    {
     "data": {
      "text/markdown": [
       "## Failed papers"
      ],
      "text/plain": [
       "<IPython.core.display.Markdown object>"
      ]
     },
     "metadata": {},
     "output_type": "display_data"
    },
    {
     "data": {
      "text/markdown": [
       "\n",
       "|||\n",
       "|---:|:---|\n",
       "| [![arXiv](https://img.shields.io/badge/arXiv-2405.10595-b31b1b.svg)](https://arxiv.org/abs/2405.10595) | **The first low-mass eclipsing binary within the fully convective zone from TMTS**  |\n",
       "|| C. Liu, et al. -- incl., <mark>X. Zhang</mark> |\n",
       "|*Appeared on*| *2024-05-20*|\n",
       "|*Comments*| *12 pages, 8 figures, and 5 tables*|\n",
       "|**Abstract**|            We present a comprehensive photometric and spectroscopic analysis of the short-period ($\\sim$5.32 hours) and low-mass eclipsing binary TMTSJ0803 discovered by Tsinghua-Ma Huateng Telescope for Survey (TMTS). By fitting the light curves and radial velocity data with the Wilson--Devinney code, we find that the binary is composed of two late spotted active M dwarfs below the fully convective boundary. This is supported by the discovery of a significant Balmer emission lines in the LAMOST spectrum and prominent coronal X-ray emission. In comparison with the typical luminosity of rapidly rotating fully convective stars, the much brighter X-ray luminosity ($L_{X}/L_{\\rm{bol}} = 0.0159 \\pm 0.0059$) suggests the stellar magnetic activity of fully convective stars could be enhanced in such a close binary system. Given the metallicity of [M/H] = $-$ 0.35 dex as inferred from the LAMOST spectrum, we measure the masses and radii of both stars to be $M_{1} = 0.169 \\pm 0.010~M_{\\odot}$, $M_{2} = 0.162 \\pm 0.016~M_{\\odot}$, $R_{1} = 0.170 \\pm 0.006~R_{\\odot}$, and $R_{2} = 0.156 \\pm 0.006~R_{\\odot}$, respectively. Based on the luminosity ratio from the light curve modeling, the effective temperatures of two components are also estimated. In comparison with the stellar evolution models, the radii and effective temperatures of two components are all below the isochrones. The radius deflation might be mainly biased by a small radial velocity (RV) data or (and) a simple correction on RVs, while the discrepancy in effective temperature might be due to the enhanced magnetic activity in this binary.         |\n",
       "|<p style=\"color:green\"> **ERROR** </p>| <p style=\"color:green\">affiliation error: mpia.affiliation_verifications: '69117' keyword not found.</p> |"
      ],
      "text/plain": [
       "<IPython.core.display.Markdown object>"
      ]
     },
     "metadata": {},
     "output_type": "display_data"
    },
    {
     "data": {
      "text/markdown": [
       "\n",
       "|||\n",
       "|---:|:---|\n",
       "| [![arXiv](https://img.shields.io/badge/arXiv-2405.10890-b31b1b.svg)](https://arxiv.org/abs/2405.10890) | **A Versatile Framework for Analyzing Galaxy Image Data by Implanting Human-in-the-loop on a Large Vision Model**  |\n",
       "|| M. Fu, et al. -- incl., <mark>J. Liu</mark> |\n",
       "|*Appeared on*| *2024-05-20*|\n",
       "|*Comments*| *26 pages, 10 figures, to be published on Chinese Physics C*|\n",
       "|**Abstract**|            The exponential growth of astronomical datasets provides an unprecedented opportunity for humans to gain insight into the Universe. However, effectively analyzing this vast amount of data poses a significant challenge. Astronomers are turning to deep learning techniques to address this, but the methods are limited by their specific training sets, leading to considerable duplicate workloads too. Hence, as an example to present how to overcome the issue, we built a framework for general analysis of galaxy images, based on a large vision model (LVM) plus downstream tasks (DST), including galaxy morphological classification, image restoration, object detection, parameter extraction, and more. Considering the low signal-to-noise ratio of galaxy images and the imbalanced distribution of galaxy categories, we have incorporated a Human-in-the-loop (HITL) module into our large vision model, which leverages human knowledge to enhance the reliability and interpretability of processing galaxy images interactively. The proposed framework exhibits notable few-shot learning capabilities and versatile adaptability to all the abovementioned tasks on galaxy images in the DESI legacy imaging surveys. Expressly, for object detection, trained by 1000 data points, our DST upon the LVM achieves an accuracy of 96.7%, while ResNet50 plus Mask R-CNN gives an accuracy of 93.1%; for morphology classification, to obtain AUC ~0.9, LVM plus DST and HITL only requests 1/50 training sets compared to ResNet18. Expectedly, multimodal data can be integrated similarly, which opens up possibilities for conducting joint analyses with datasets spanning diverse domains in the era of multi-message astronomy.         |\n",
       "|<p style=\"color:green\"> **ERROR** </p>| <p style=\"color:green\">affiliation error: mpia.affiliation_verifications: 'Heidelberg' keyword not found.</p> |"
      ],
      "text/plain": [
       "<IPython.core.display.Markdown object>"
      ]
     },
     "metadata": {},
     "output_type": "display_data"
    },
    {
     "data": {
      "text/markdown": [
       "\n",
       "|||\n",
       "|---:|:---|\n",
       "| [![arXiv](https://img.shields.io/badge/arXiv-2405.10841-b31b1b.svg)](https://arxiv.org/abs/2405.10841) | **The ESO SupJup Survey I: Chemical and isotopic characterisation of the late L-dwarf DENIS J0255-4700 with CRIRES$^+$**  |\n",
       "|| S. d. Regt, et al. -- incl., <mark>P. Mollière</mark>, <mark>E. Nasedkin</mark> |\n",
       "|*Appeared on*| *2024-05-20*|\n",
       "|*Comments*| *Submitted to A&A*|\n",
       "|**Abstract**|            It has been proposed that the distinct formation and evolution of exoplanets and brown dwarfs may affect the chemical and isotopic content of their atmospheres. Recent work has indeed shown differences in the $^{12}$C/$^{13}$C isotope ratio, provisionally attributed to the top-down formation of brown dwarfs and the core accretion pathway of super-Jupiters. The ESO SupJup Survey aims to disentangle the formation pathways of isolated brown dwarfs and planetary-mass companions using chemical and isotopic tracers. The survey uses high-resolution spectroscopy with the recently upgraded VLT/CRIRES$^+$ spectrograph, covering a total of 49 targets. Here, we present the first results: an atmospheric characterisation of DENIS J0255-4700, an isolated brown dwarf near the L-T transition. We analyse its K-band spectrum using a retrieval framework where the radiative transfer code petitRADTRANS is coupled to PyMultiNest. Gaussian Processes are employed to model inter-pixel correlations and we adopt an updated parameterisation of the PT-profile. Abundances of CO, H$_2$O, CH$_4$, and NH$_3$ are retrieved for this fast-rotating L-dwarf. The ExoMol H$_2$O line list provides a significantly better fit than that of HITEMP. A free-chemistry retrieval is strongly favoured over equilibrium chemistry, caused by an under-abundance of CH$_4$. The free-chemistry retrieval constrains a super-solar C/O-ratio of $\\sim0.68$ and a solar metallicity. We find tentative evidence ($\\sim3\\sigma$) for the presence of $^{13}$CO, with a constraint on the isotope ratio of $\\mathrm{^{12}C/^{13}C}=184^{+61}_{-40}$ and a lower limit of $\\gtrsim97$, suggesting a depletion of $^{13}$C compared to the interstellar medium ($\\sim68$). High-resolution, high signal-to-noise K-band spectra provide an excellent means to constrain the chemistry and isotopic content of sub-stellar objects, as is the main objective of the ESO SupJup Survey.         |\n",
       "|<p style=\"color:red\"> **ERROR** </p>| <p style=\"color:red\">latex error 'PosixPath' object is not subscriptable</p> |"
      ],
      "text/plain": [
       "<IPython.core.display.Markdown object>"
      ]
     },
     "metadata": {},
     "output_type": "display_data"
    },
    {
     "data": {
      "text/markdown": [
       "\n",
       "|||\n",
       "|---:|:---|\n",
       "| [![arXiv](https://img.shields.io/badge/arXiv-2405.10866-b31b1b.svg)](https://arxiv.org/abs/2405.10866) | **Galaxy And Mass Assembly (GAMA): Stellar-to-Dynamical Mass Relation II. Peculiar Velocities**  |\n",
       "|| M. B. Dogruel, et al. -- incl., <mark>A. d. Graaff</mark> |\n",
       "|*Appeared on*| *2024-05-20*|\n",
       "|*Comments*| *Accepted: 15th May 2024*|\n",
       "|**Abstract**|            Empirical correlations connecting starlight to galaxy dynamics (e.g., the fundamental plane (FP) of elliptical/quiescent galaxies and the Tully--Fisher relation of spiral/star-forming galaxies) provide cosmology-independent distance estimation and are central to local Universe cosmology. In this work, we introduce the mass hyperplane (MH), which is the stellar-to-dynamical mass relation $(M_\\star/M_\\mathrm{dyn})$ recast as a linear distance indicator. Building on recent FP studies, we show that both star-forming and quiescent galaxies follow the same empirical MH, then use this to measure the peculiar velocities (PVs) for a sample of 2496 galaxies at $z<0.12$ from GAMA. The limiting precision of MH-derived distance/PV estimates is set by the intrinsic scatter in size, which we find to be $\\approx$0.1~dex for both quiescent and star-forming galaxies (when modeled independently) and $\\approx$0.11~dex when all galaxies are modeled together; showing that the MH is as good as the FP. To empirically validate our framework and distance/PV estimates, we compare the inferred distances to groups as derived using either quiescent or star-forming galaxies. A good agreement is obtained with no discernible bias or offset, having a scatter of $\\approx$0.05~dex $\\approx$12\\% in distance. Further, we compare our PV measurements for the quiescent galaxies to the previous PV measurements of the galaxies in common between GAMA and the Sloan Digital Sky Survey (SDSS), which shows similarly good agreement. Finally, we provide comparisons of PV measurements made with the FP and the MH, then discuss possible improvements in the context of upcoming surveys such as the 4MOST Hemisphere Survey (4HS).         |\n",
       "|<p style=\"color:red\"> **ERROR** </p>| <p style=\"color:red\">latex error list index out of range</p> |"
      ],
      "text/plain": [
       "<IPython.core.display.Markdown object>"
      ]
     },
     "metadata": {},
     "output_type": "display_data"
    }
   ],
   "source": [
    "import datetime\n",
    "today = str(datetime.date.today())\n",
    "logfile = f\"_build/html/logs/log-{today}.md\"\n",
    "\n",
    "\n",
    "with open(logfile, 'w') as logs:\n",
    "    # Success\n",
    "    logs.write(f'# Arxiv on Deck 2: Logs - {today}\\n\\n')\n",
    "    logs.write(\"\"\"* Arxiv had {0:,d} new papers\\n\"\"\".format(len(new_papers)))\n",
    "    logs.write(\"\"\"    * {0:,d} with possible author matches\\n\\n\"\"\".format(len(candidates)))\n",
    "    logs.write(\"## Sucessful papers\\n\\n\")\n",
    "    display(Markdown(\"## Successful papers\"))\n",
    "    success = [k[0] for k in documents]\n",
    "    for candid in candidates:\n",
    "        if candid['identifier'].split(':')[-1] in success:\n",
    "            display(candid)\n",
    "            logs.write(candid.generate_markdown_text() + '\\n\\n')\n",
    "\n",
    "    ## failed\n",
    "    logs.write(\"## Failed papers\\n\\n\")\n",
    "    display(Markdown(\"## Failed papers\"))\n",
    "    failed = sorted(failed, key=lambda x: x[1])\n",
    "    current_reason = \"\"\n",
    "    for paper, reason in failed:\n",
    "        if 'affiliation' in reason:\n",
    "            color = 'green'\n",
    "        else:\n",
    "            color = 'red'\n",
    "        data = Markdown(\n",
    "                paper.generate_markdown_text() + \n",
    "                f'\\n|<p style=\"color:{color:s}\"> **ERROR** </p>| <p style=\"color:{color:s}\">{reason:s}</p> |'\n",
    "               )\n",
    "        if reason != current_reason:\n",
    "            logs.write(f'### {reason:s} \\n\\n')\n",
    "            current_reason = reason\n",
    "        logs.write(data.data + '\\n\\n')\n",
    "        \n",
    "        # only display here the important errors (all in logs)\n",
    "        # if color in ('red',):\n",
    "        display(data)"
   ]
  },
  {
   "cell_type": "markdown",
   "id": "472d20ee",
   "metadata": {
    "papermill": {
     "duration": 0.004251,
     "end_time": "2024-05-20T04:12:30.900501",
     "exception": false,
     "start_time": "2024-05-20T04:12:30.896250",
     "status": "completed"
    },
    "tags": []
   },
   "source": [
    "## Export documents\n",
    "\n",
    "We now write the .md files and export relevant images"
   ]
  },
  {
   "cell_type": "code",
   "execution_count": 7,
   "id": "d426aed9",
   "metadata": {
    "execution": {
     "iopub.execute_input": "2024-05-20T04:12:30.910298Z",
     "iopub.status.busy": "2024-05-20T04:12:30.909895Z",
     "iopub.status.idle": "2024-05-20T04:12:30.916115Z",
     "shell.execute_reply": "2024-05-20T04:12:30.915523Z"
    },
    "papermill": {
     "duration": 0.012607,
     "end_time": "2024-05-20T04:12:30.917459",
     "exception": false,
     "start_time": "2024-05-20T04:12:30.904852",
     "status": "completed"
    },
    "tags": []
   },
   "outputs": [],
   "source": [
    "def export_markdown_summary(md: str, md_fname:str, directory: str):\n",
    "    \"\"\"Export MD document and associated relevant images\"\"\"\n",
    "    import os\n",
    "    import shutil\n",
    "    import re\n",
    "\n",
    "    if (os.path.exists(directory) and not os.path.isdir(directory)):\n",
    "        raise RuntimeError(f\"a non-directory file exists with name {directory:s}\")\n",
    "\n",
    "    if (not os.path.exists(directory)):\n",
    "        print(f\"creating directory {directory:s}\")\n",
    "        os.mkdir(directory)\n",
    "\n",
    "    fig_fnames = (re.compile(r'\\[Fig.*\\]\\((.*)\\)').findall(md) + \n",
    "                  re.compile(r'\\<img src=\"([^>\\s]*)\"[^>]*/>').findall(md))\n",
    "    for fname in fig_fnames:\n",
    "        if 'http' in fname:\n",
    "            # No need to copy online figures\n",
    "            continue\n",
    "        destdir = os.path.join(directory, os.path.dirname(fname))\n",
    "        destfname = os.path.join(destdir, os.path.basename(fname))\n",
    "        try:\n",
    "            os.makedirs(destdir)\n",
    "        except FileExistsError:\n",
    "            pass\n",
    "        shutil.copy(fname, destfname)\n",
    "    with open(os.path.join(directory, md_fname), 'w') as fout:\n",
    "        fout.write(md)\n",
    "    print(\"exported in \", os.path.join(directory, md_fname))\n",
    "    [print(\"    + \" + os.path.join(directory,fk)) for fk in fig_fnames]"
   ]
  },
  {
   "cell_type": "code",
   "execution_count": 8,
   "id": "014d04a4",
   "metadata": {
    "execution": {
     "iopub.execute_input": "2024-05-20T04:12:30.927218Z",
     "iopub.status.busy": "2024-05-20T04:12:30.926837Z",
     "iopub.status.idle": "2024-05-20T04:12:30.946318Z",
     "shell.execute_reply": "2024-05-20T04:12:30.945771Z"
    },
    "papermill": {
     "duration": 0.025706,
     "end_time": "2024-05-20T04:12:30.947579",
     "exception": false,
     "start_time": "2024-05-20T04:12:30.921873",
     "status": "completed"
    },
    "tags": []
   },
   "outputs": [
    {
     "name": "stdout",
     "output_type": "stream",
     "text": [
      "exported in  _build/html/2405.10427.md\n",
      "    + _build/html/tmp_2405.10427/./Ksequence10_defroi.png\n",
      "    + _build/html/tmp_2405.10427/./lc_all.png\n",
      "    + _build/html/tmp_2405.10427/./naco_Z_slit_ruler.png\n"
     ]
    }
   ],
   "source": [
    "for paper_id, md in documents:\n",
    "    export_markdown_summary(md, f\"{paper_id:s}.md\", '_build/html/')"
   ]
  },
  {
   "cell_type": "markdown",
   "id": "f087a0a7",
   "metadata": {
    "papermill": {
     "duration": 0.004364,
     "end_time": "2024-05-20T04:12:30.956385",
     "exception": false,
     "start_time": "2024-05-20T04:12:30.952021",
     "status": "completed"
    },
    "tags": []
   },
   "source": [
    "## Display the papers\n",
    "\n",
    "Not necessary but allows for a quick check."
   ]
  },
  {
   "cell_type": "code",
   "execution_count": 9,
   "id": "fd25f625",
   "metadata": {
    "execution": {
     "iopub.execute_input": "2024-05-20T04:12:30.966424Z",
     "iopub.status.busy": "2024-05-20T04:12:30.966036Z",
     "iopub.status.idle": "2024-05-20T04:12:30.970589Z",
     "shell.execute_reply": "2024-05-20T04:12:30.969980Z"
    },
    "papermill": {
     "duration": 0.011036,
     "end_time": "2024-05-20T04:12:30.971874",
     "exception": false,
     "start_time": "2024-05-20T04:12:30.960838",
     "status": "completed"
    },
    "scrolled": false,
    "tags": []
   },
   "outputs": [
    {
     "data": {
      "text/markdown": [
       "<div class=\"macros\" style=\"visibility:hidden;\">\n",
       "$\\newcommand{\\ensuremath}{}$\n",
       "$\\newcommand{\\xspace}{}$\n",
       "$\\newcommand{\\object}[1]{\\texttt{#1}}$\n",
       "$\\newcommand{\\farcs}{{.}''}$\n",
       "$\\newcommand{\\farcm}{{.}'}$\n",
       "$\\newcommand{\\arcsec}{''}$\n",
       "$\\newcommand{\\arcmin}{'}$\n",
       "$\\newcommand{\\ion}[2]{#1#2}$\n",
       "$\\newcommand{\\textsc}[1]{\\textrm{#1}}$\n",
       "$\\newcommand{\\hl}[1]{\\textrm{#1}}$\n",
       "$\\newcommand{\\footnote}[1]{}$\n",
       "$\\newcommand{\\mypm}{\\mathbin{\\smash{$\n",
       "$\\raisebox{0.65ex}{$\n",
       "$            \\underset{\\raisebox{0.05ex}{\\smash -}}{\\smash+}$\n",
       "$            }$\n",
       "$        }$\n",
       "$    }$\n",
       "$}$\n",
       "$\\newcommand{\\goodchi}{\\protect\\raisebox{2pt}{\\chi}}$\n",
       "$\\newcommand{\\ts}{ }$\n",
       "$\\newcommand{\\arraystretch}{1.05}$\n",
       "$\\newcommand{\\arraystretch}{1}$</div>\n",
       "\n",
       "\n",
       "\n",
       "<div id=\"title\">\n",
       "\n",
       "# The accretion burst of the massive young stellar object G323.46$-$0.08$\\thanks{Based on observations made with the NASA/DLR Stratospheric Observatory for Infrared Astronomy (SOFIA) under Proposal ID 75\\_0103 and at the European Organization for Astronomical Research in the Southern Hemisphere under ESO programs ID 077.C-0687(A), 083.C-0582(A), 290.C-5165(A).}$\n",
       "\n",
       "</div>\n",
       "<div id=\"comments\">\n",
       "\n",
       "[![arXiv](https://img.shields.io/badge/arXiv-2405.10427-b31b1b.svg)](https://arxiv.org/abs/2405.10427)<mark>Appeared on: 2024-05-20</mark> - \n",
       "\n",
       "</div>\n",
       "<div id=\"authors\">\n",
       "\n",
       "V. Wolf, et al. -- incl., <mark>H. Linz</mark>\n",
       "\n",
       "</div>\n",
       "<div id=\"abstract\">\n",
       "\n",
       "**Abstract:** ${Accretion bursts from low-mass young stellar objects (YSOs) are knownformany decades. In recent years, the first accretion bursts of massive YSOs (MYSOs) were observed.These phases of intense protostellar growth are of particular importance for studying massive star formation. Bursts of MYSOs are accompanied by flares of Class II methanol masers (hereafter masers), caused by an increase in exciting mid-infrared (MIR) emission.They can lead to long-lasting thermal afterglows of the dust continuum radiation visible at infrared (IR) and (sub)mm wavelengths. Furthermore, they might cause a scattered light echo.The G323.46$-$0.08 (hereafter G323) event, which shows all these features, extendsthe small sample of known MYSO bursts.   }$ ${Maser observations of the MYSO G323show evidence of a flare, which was presumed to be caused by an accretion burst. This should be verified with IR data.We used time-dependent radiative transfer (TDRT) to characterize the heating and cooling timescales for eruptive MYSOs and to infer the main burst parameters.   }$ ${Burst light curves, as well as the pre-burst spectral energy distribution (SED) wereestablished from archival IR data.The properties of the MYSO, including its circumstellar disk and envelope, were derived by using static radiative transfer modeling of pre-burst data. For the first time, TDRT was used to predict the temporal evolution of the SED. Observations with SOFIA/HAWC+ were performedto constrain the burst energy from the strength of the thermal afterglow. Image subtraction and ratioing was applied to reveal the light echo.   }$ ${The G323 accretion burst is confirmed. It reached its peak in late 2013/early 2014 with a $K_{\\rm s}$-band increase of ${\\sim}${\\ts}2.5{\\ts}mag.Both $K_{\\rm s}$-band and integrated maser flux densities follow an exponential decay.TDRT indicates that the duration of the thermal afterglow in the far-infrared (FIR) can exceed the burst duration by years.The latter was proved by SOFIA observations, which indicate a flux increase of $(14.2\\pm4.6)$\\% at $70  \\rm \\mu m$ and $(8.5\\pm6.1)$\\% at $160{\\ts}\\mu$m in 2022 (2 years after the burst end).A one-sided light echo emerged that was propagating into the interstellar medium.}$ ${The burst origin of the G323 maser flare is verified.TDRT simulationsrevealed the strong influence of the burst energetics and the localdust distribution on the strength and duration of the afterglow.The G323 burst is probably the most energetic MYSO burst observed so far. Within $8.4 \\rm   yrs$, an energy of $(0.9\\mypm_{0.8}^{2.5}) \\times 10^{47} \\rm erg$ was released. The short timescale points tothe accretion of a compact body, while the burst energy corresponds to an accumulated mass of at least$(7\\mypm_{6}^{20}) M_{Jup}$and possibly even more if the protostar is bloated.In this case, the accretion event might have triggered protostellar pulsations, which give rise to the observed maser periodicity.The associated IR light echo is the second observed from a MYSO burst.}$\n",
       "\n",
       "</div>\n",
       "\n",
       "<div id=\"div_fig1\">\n",
       "\n",
       "<img src=\"tmp_2405.10427/./Ksequence10_defroi.png\" alt=\"Fig20\" width=\"100%\"/>\n",
       "\n",
       "**Figure 20. -** The $K_{\\rm s}$-band difference images show the temporal evolution of the burst and the associated LEs, displayed using a log-scale. The prompt echo, which originates from the cloud core, is monopolar and spreads to the south-east at an PA of $\\sim$ 135◦. A remote LE that appeared later traces denser structures of the ISM. The red polygon encloses the area from which its light curves were established. The FoV is $135$\\arcsec$\\times80$\\arcsec$.$ (*fig:seq*)\n",
       "\n",
       "</div>\n",
       "<div id=\"div_fig2\">\n",
       "\n",
       "<img src=\"tmp_2405.10427/./lc_all.png\" alt=\"Fig18\" width=\"100%\"/>\n",
       "\n",
       "**Figure 18. -** Left:\n",
       "\tLight curves based on VVV(X) (black) and (NEO)WISE photometry (W1 - blue, $W2$ - red) as well as 6.7{$\\ts$}GHz total maser flux (green, \\citealp{greenExcitedstateHydroxylMaser2015, MacLeod:2021}). Vertical\n",
       " red and blue lines mark the dates of the\n",
       " the burst onset and first flare evidence\n",
       "\tfrom the\n",
       "\t6.035{$\\ts$}GHz exOH maser\n",
       " \\citep{MacLeod:2021}.\n",
       "    The $K_{\\rm s}$ rise was approximated by\n",
       "    a polynomial,\n",
       "    while its decay is roughly linear on a log-scale (dashed line).\n",
       "    The (NEO)WISE magnitudes are shifted\n",
       "    to match those of $K_{\\rm s}$. The\n",
       "    integrated maser flux is shown on a log-scale (right ordinate).\n",
       "    Its scatter is due to the short-term periodicity.\n",
       "    Right: $K_{\\rm s}$(black), $i$(blue), and $z$(green) light curves, with $i$ and $z$ magnitudes shifted\n",
       "    to match those of $K_{\\rm s}$.\n",
       "    The $z$ pre- and post-magnitudes agree within the errors.\n",
       " (*fig:lc*)\n",
       "\n",
       "</div>\n",
       "<div id=\"div_fig3\">\n",
       "\n",
       "<img src=\"tmp_2405.10427/./naco_Z_slit_ruler.png\" alt=\"Fig6\" width=\"100%\"/>\n",
       "\n",
       "**Figure 6. -** The NACO AO $K_{\\rm s}$-band image (epoch 2009) using a log-stretch with contours of the 19{$\\ts$}GHz radio continuum (white, \\citealp{murphy:2010}) and from the $Z$-band pre-burst image (red, epoch 2010).\n",
       "    Maser spots are marked by crosses in blue (\\citealp{Caswell:2001}, epoch 1994) and red (\\citealp{greenExcitedstateHydroxylMaser2015}, epoch 2011), with sizes indicating the position error. The black diamond is at the peak of the 1.4{$\\ts$}mm emission while the black square marks the _ GAIA_ source. The yellow rectangle shows orientation and width of the ISAAC slit.\n",
       " (*fig:naco*)\n",
       "\n",
       "</div><div id=\"qrcode\"><img src=https://api.qrserver.com/v1/create-qr-code/?size=100x100&data=\"https://arxiv.org/abs/2405.10427\"></div>"
      ],
      "text/plain": [
       "<IPython.core.display.Markdown object>"
      ]
     },
     "metadata": {},
     "output_type": "display_data"
    }
   ],
   "source": [
    "[display(Markdown(k[1])) for k in documents];"
   ]
  },
  {
   "cell_type": "markdown",
   "id": "873873a4",
   "metadata": {
    "papermill": {
     "duration": 0.004663,
     "end_time": "2024-05-20T04:12:30.981608",
     "exception": false,
     "start_time": "2024-05-20T04:12:30.976945",
     "status": "completed"
    },
    "tags": []
   },
   "source": [
    "# Create HTML index"
   ]
  },
  {
   "cell_type": "code",
   "execution_count": 10,
   "id": "cf665672",
   "metadata": {
    "execution": {
     "iopub.execute_input": "2024-05-20T04:12:30.992118Z",
     "iopub.status.busy": "2024-05-20T04:12:30.991699Z",
     "iopub.status.idle": "2024-05-20T04:12:30.998753Z",
     "shell.execute_reply": "2024-05-20T04:12:30.998202Z"
    },
    "papermill": {
     "duration": 0.013801,
     "end_time": "2024-05-20T04:12:31.000072",
     "exception": false,
     "start_time": "2024-05-20T04:12:30.986271",
     "status": "completed"
    },
    "tags": []
   },
   "outputs": [
    {
     "name": "stdout",
     "output_type": "stream",
     "text": [
      "72  publications files modified in the last 7 days.\n"
     ]
    }
   ],
   "source": [
    "from datetime import datetime, timedelta, timezone\n",
    "from glob import glob\n",
    "import os\n",
    "\n",
    "files = glob('_build/html/*.md')\n",
    "days = 7\n",
    "now = datetime.today()\n",
    "res = []\n",
    "for fk in files:\n",
    "    stat_result = os.stat(fk).st_ctime\n",
    "    modified = datetime.fromtimestamp(stat_result, tz=timezone.utc).replace(tzinfo=None)\n",
    "    delta = now.today() - modified\n",
    "    if delta <= timedelta(days=days):\n",
    "        res.append((delta.seconds, fk))\n",
    "res = [k[1] for k in reversed(sorted(res, key=lambda x:x[1]))]\n",
    "npub = len(res)\n",
    "print(len(res), f\" publications files modified in the last {days:d} days.\")\n",
    "# [ print('\\t', k) for k in res ];"
   ]
  },
  {
   "cell_type": "code",
   "execution_count": 11,
   "id": "015de740",
   "metadata": {
    "execution": {
     "iopub.execute_input": "2024-05-20T04:12:31.010573Z",
     "iopub.status.busy": "2024-05-20T04:12:31.010242Z",
     "iopub.status.idle": "2024-05-20T04:12:31.020505Z",
     "shell.execute_reply": "2024-05-20T04:12:31.019970Z"
    },
    "papermill": {
     "duration": 0.016897,
     "end_time": "2024-05-20T04:12:31.021780",
     "exception": false,
     "start_time": "2024-05-20T04:12:31.004883",
     "status": "completed"
    },
    "tags": []
   },
   "outputs": [
    {
     "name": "stdout",
     "output_type": "stream",
     "text": [
      "3  publications in the last 7 days.\n"
     ]
    }
   ],
   "source": [
    "import datetime\n",
    "from glob import glob\n",
    "\n",
    "def get_last_n_days(lst, days=1):\n",
    "    \"\"\" Get the documents from the last n days \"\"\"\n",
    "    sorted_lst = sorted(lst, key=lambda x: x[1], reverse=True)\n",
    "    for fname, date in sorted_lst:\n",
    "        if date >= str(datetime.date.today() - datetime.timedelta(days=days)):\n",
    "            yield fname\n",
    "\n",
    "def extract_appearance_dates(lst_file):\n",
    "    dates = []\n",
    "\n",
    "    def get_date(line):\n",
    "        return line\\\n",
    "            .split('Appeared on:')[-1]\\\n",
    "            .split('</mark>')[0].strip()\n",
    "\n",
    "    for fname in lst:\n",
    "        with open(fname, 'r') as f:\n",
    "            found_date = False\n",
    "            for line in f:\n",
    "                if not found_date:\n",
    "                    if \"Appeared on\" in line:\n",
    "                        found_date = True\n",
    "                        dates.append((fname, get_date(line)))\n",
    "                else:\n",
    "                    break\n",
    "    return dates\n",
    "\n",
    "from glob import glob\n",
    "lst = glob('_build/html/*md')\n",
    "days = 7\n",
    "dates = extract_appearance_dates(lst)\n",
    "res = list(get_last_n_days(dates, days))\n",
    "npub = len(res)\n",
    "print(len(res), f\" publications in the last {days:d} days.\")"
   ]
  },
  {
   "cell_type": "code",
   "execution_count": 12,
   "id": "52ca0208",
   "metadata": {
    "execution": {
     "iopub.execute_input": "2024-05-20T04:12:31.032676Z",
     "iopub.status.busy": "2024-05-20T04:12:31.032333Z",
     "iopub.status.idle": "2024-05-20T04:12:31.037188Z",
     "shell.execute_reply": "2024-05-20T04:12:31.036610Z"
    },
    "papermill": {
     "duration": 0.011807,
     "end_time": "2024-05-20T04:12:31.038502",
     "exception": false,
     "start_time": "2024-05-20T04:12:31.026695",
     "status": "completed"
    },
    "scrolled": false,
    "tags": []
   },
   "outputs": [],
   "source": [
    "def create_carousel(npub=4):\n",
    "    \"\"\" Generate the HTML code for a carousel with `npub` slides \"\"\"\n",
    "    carousel = [\"\"\"  <div class=\"carousel\" \"\"\",\n",
    "                \"\"\"       data-flickity='{ \"autoPlay\": 10000, \"adaptiveHeight\": true, \"resize\": true, \"wrapAround\": true, \"pauseAutoPlayOnHover\": true, \"groupCells\": 1 }' id=\"asyncTypeset\">\"\"\"\n",
    "                ]\n",
    "    \n",
    "    item_str = \"\"\"    <div class=\"carousel-cell\"> <div id=\"slide{k}\" class=\"md_view\">Content {k}</div> </div>\"\"\"\n",
    "    for k in range(1, npub + 1):\n",
    "        carousel.append(item_str.format(k=k))\n",
    "    carousel.append(\"  </div>\")\n",
    "    return '\\n'.join(carousel)\n",
    "\n",
    "def create_grid(npub=4):\n",
    "    \"\"\" Generate the HTML code for a flat grid with `npub` slides \"\"\"\n",
    "    grid = [\"\"\"  <div class=\"grid\"> \"\"\",\n",
    "                ]\n",
    "    \n",
    "    item_str = \"\"\"    <div class=\"grid-item\"> <div id=\"slide{k}\" class=\"md_view\">Content {k}</div> </div>\"\"\"\n",
    "    for k in range(1, npub + 1):\n",
    "        grid.append(item_str.format(k=k))\n",
    "    grid.append(\"  </div>\")\n",
    "    return '\\n'.join(grid)"
   ]
  },
  {
   "cell_type": "code",
   "execution_count": 13,
   "id": "a6eac5b6",
   "metadata": {
    "execution": {
     "iopub.execute_input": "2024-05-20T04:12:31.049290Z",
     "iopub.status.busy": "2024-05-20T04:12:31.048905Z",
     "iopub.status.idle": "2024-05-20T04:12:31.053834Z",
     "shell.execute_reply": "2024-05-20T04:12:31.053209Z"
    },
    "papermill": {
     "duration": 0.011776,
     "end_time": "2024-05-20T04:12:31.055145",
     "exception": false,
     "start_time": "2024-05-20T04:12:31.043369",
     "status": "completed"
    },
    "scrolled": false,
    "tags": []
   },
   "outputs": [],
   "source": [
    "carousel = create_carousel(npub)\n",
    "docs = ', '.join(['\"{0:s}\"'.format(k.split('/')[-1]) for k in res])\n",
    "slides = ', '.join([f'\"slide{k}\"' for k in range(1, npub + 1)])\n",
    "\n",
    "with open(\"daily_template.html\", \"r\") as tpl:\n",
    "    page = tpl.read()\n",
    "    page = page.replace(\"{%-- carousel:s --%}\", carousel)\\\n",
    "               .replace(\"{%-- suptitle:s --%}\",  \"7-day archives\" )\\\n",
    "               .replace(\"{%-- docs:s --%}\", docs)\\\n",
    "               .replace(\"{%-- slides:s --%}\", slides)\n",
    "    \n",
    "with open(\"_build/html/index_7days.html\", 'w') as fout:\n",
    "    fout.write(page)"
   ]
  },
  {
   "cell_type": "code",
   "execution_count": 14,
   "id": "adc1a1ec",
   "metadata": {
    "execution": {
     "iopub.execute_input": "2024-05-20T04:12:31.066195Z",
     "iopub.status.busy": "2024-05-20T04:12:31.065811Z",
     "iopub.status.idle": "2024-05-20T04:12:31.072161Z",
     "shell.execute_reply": "2024-05-20T04:12:31.071598Z"
    },
    "papermill": {
     "duration": 0.01338,
     "end_time": "2024-05-20T04:12:31.073482",
     "exception": false,
     "start_time": "2024-05-20T04:12:31.060102",
     "status": "completed"
    },
    "tags": []
   },
   "outputs": [
    {
     "name": "stdout",
     "output_type": "stream",
     "text": [
      "1  publications in the last day.\n"
     ]
    }
   ],
   "source": [
    "# redo for today\n",
    "days = 1\n",
    "res = list(get_last_n_days(dates, days))\n",
    "npub = len(res)\n",
    "print(len(res), f\" publications in the last day.\")\n",
    "\n",
    "carousel = create_carousel(npub)\n",
    "docs = ', '.join(['\"{0:s}\"'.format(k.split('/')[-1]) for k in res])\n",
    "slides = ', '.join([f'\"slide{k}\"' for k in range(1, npub + 1)])\n",
    "\n",
    "with open(\"daily_template.html\", \"r\") as tpl:\n",
    "    page = tpl.read()\n",
    "    page = page.replace(\"{%-- carousel:s --%}\", carousel)\\\n",
    "               .replace(\"{%-- suptitle:s --%}\",  \"Daily\" )\\\n",
    "               .replace(\"{%-- docs:s --%}\", docs)\\\n",
    "               .replace(\"{%-- slides:s --%}\", slides)\n",
    "    \n",
    "# print(carousel, docs, slides)\n",
    "# print(page)\n",
    "with open(\"_build/html/index_daily.html\", 'w') as fout:\n",
    "    fout.write(page)"
   ]
  },
  {
   "cell_type": "code",
   "execution_count": 15,
   "id": "00eece82",
   "metadata": {
    "execution": {
     "iopub.execute_input": "2024-05-20T04:12:31.084459Z",
     "iopub.status.busy": "2024-05-20T04:12:31.084257Z",
     "iopub.status.idle": "2024-05-20T04:12:31.090857Z",
     "shell.execute_reply": "2024-05-20T04:12:31.090318Z"
    },
    "papermill": {
     "duration": 0.013594,
     "end_time": "2024-05-20T04:12:31.092163",
     "exception": false,
     "start_time": "2024-05-20T04:12:31.078569",
     "status": "completed"
    },
    "scrolled": false,
    "tags": []
   },
   "outputs": [
    {
     "name": "stdout",
     "output_type": "stream",
     "text": [
      "6  6 publications selected.\n"
     ]
    }
   ],
   "source": [
    "# Create the flat grid of the last N papers (fixed number regardless of dates)\n",
    "from itertools import islice \n",
    "\n",
    "npub = 6\n",
    "res = [k[0] for k in (islice(reversed(sorted(dates, key=lambda x: x[1])), 6))]\n",
    "print(len(res), f\" {npub} publications selected.\")\n",
    "\n",
    "grid = create_grid(npub)\n",
    "docs = ', '.join(['\"{0:s}\"'.format(k.split('/')[-1]) for k in res])\n",
    "slides = ', '.join([f'\"slide{k}\"' for k in range(1, npub + 1)])\n",
    "\n",
    "with open(\"grid_template.html\", \"r\") as tpl:\n",
    "    page = tpl.read()\n",
    "    page = page.replace(\"{%-- grid-content:s --%}\", grid)\\\n",
    "               .replace(\"{%-- suptitle:s --%}\",  f\"Last {npub:,d} papers\" )\\\n",
    "               .replace(\"{%-- docs:s --%}\", docs)\\\n",
    "               .replace(\"{%-- slides:s --%}\", slides)\n",
    "    \n",
    "# print(grid, docs, slides)\n",
    "# print(page)\n",
    "with open(\"_build/html/index_npub_grid.html\", 'w') as fout:\n",
    "    fout.write(page)"
   ]
  }
 ],
 "metadata": {
  "kernelspec": {
   "display_name": "Python 3 (ipykernel)",
   "language": "python",
   "name": "python3"
  },
  "language_info": {
   "codemirror_mode": {
    "name": "ipython",
    "version": 3
   },
   "file_extension": ".py",
   "mimetype": "text/x-python",
   "name": "python",
   "nbconvert_exporter": "python",
   "pygments_lexer": "ipython3",
   "version": "3.9.19"
  },
  "papermill": {
   "default_parameters": {},
   "duration": 235.626265,
   "end_time": "2024-05-20T04:12:31.314521",
   "environment_variables": {},
   "exception": null,
   "input_path": "MPIA daily digest.ipynb",
   "output_path": "log.ipynb",
   "parameters": {},
   "start_time": "2024-05-20T04:08:35.688256",
   "version": "2.6.0"
  },
  "vscode": {
   "interpreter": {
    "hash": "aee8b7b246df8f9039afb4144a1f6fd8d2ca17a180786b69acc140d282b71a49"
   }
  },
  "widgets": {
   "application/vnd.jupyter.widget-state+json": {
    "state": {
     "0386ddf6311b44e1b2cbef5d15c8deca": {
      "model_module": "@jupyter-widgets/base",
      "model_module_version": "2.0.0",
      "model_name": "LayoutModel",
      "state": {
       "_model_module": "@jupyter-widgets/base",
       "_model_module_version": "2.0.0",
       "_model_name": "LayoutModel",
       "_view_count": null,
       "_view_module": "@jupyter-widgets/base",
       "_view_module_version": "2.0.0",
       "_view_name": "LayoutView",
       "align_content": null,
       "align_items": null,
       "align_self": null,
       "border_bottom": null,
       "border_left": null,
       "border_right": null,
       "border_top": null,
       "bottom": null,
       "display": null,
       "flex": null,
       "flex_flow": null,
       "grid_area": null,
       "grid_auto_columns": null,
       "grid_auto_flow": null,
       "grid_auto_rows": null,
       "grid_column": null,
       "grid_gap": null,
       "grid_row": null,
       "grid_template_areas": null,
       "grid_template_columns": null,
       "grid_template_rows": null,
       "height": null,
       "justify_content": null,
       "justify_items": null,
       "left": null,
       "margin": null,
       "max_height": null,
       "max_width": null,
       "min_height": null,
       "min_width": null,
       "object_fit": null,
       "object_position": null,
       "order": null,
       "overflow": null,
       "padding": null,
       "right": null,
       "top": null,
       "visibility": null,
       "width": null
      }
     },
     "146b4ee778424b1597201e0d04197037": {
      "model_module": "@jupyter-widgets/base",
      "model_module_version": "2.0.0",
      "model_name": "LayoutModel",
      "state": {
       "_model_module": "@jupyter-widgets/base",
       "_model_module_version": "2.0.0",
       "_model_name": "LayoutModel",
       "_view_count": null,
       "_view_module": "@jupyter-widgets/base",
       "_view_module_version": "2.0.0",
       "_view_name": "LayoutView",
       "align_content": null,
       "align_items": null,
       "align_self": null,
       "border_bottom": null,
       "border_left": null,
       "border_right": null,
       "border_top": null,
       "bottom": null,
       "display": null,
       "flex": null,
       "flex_flow": null,
       "grid_area": null,
       "grid_auto_columns": null,
       "grid_auto_flow": null,
       "grid_auto_rows": null,
       "grid_column": null,
       "grid_gap": null,
       "grid_row": null,
       "grid_template_areas": null,
       "grid_template_columns": null,
       "grid_template_rows": null,
       "height": null,
       "justify_content": null,
       "justify_items": null,
       "left": null,
       "margin": null,
       "max_height": null,
       "max_width": null,
       "min_height": null,
       "min_width": null,
       "object_fit": null,
       "object_position": null,
       "order": null,
       "overflow": null,
       "padding": null,
       "right": null,
       "top": null,
       "visibility": null,
       "width": null
      }
     },
     "32601851317c40a2a7ca2a98e80592d6": {
      "model_module": "@jupyter-widgets/base",
      "model_module_version": "2.0.0",
      "model_name": "LayoutModel",
      "state": {
       "_model_module": "@jupyter-widgets/base",
       "_model_module_version": "2.0.0",
       "_model_name": "LayoutModel",
       "_view_count": null,
       "_view_module": "@jupyter-widgets/base",
       "_view_module_version": "2.0.0",
       "_view_name": "LayoutView",
       "align_content": null,
       "align_items": null,
       "align_self": null,
       "border_bottom": null,
       "border_left": null,
       "border_right": null,
       "border_top": null,
       "bottom": null,
       "display": null,
       "flex": null,
       "flex_flow": null,
       "grid_area": null,
       "grid_auto_columns": null,
       "grid_auto_flow": null,
       "grid_auto_rows": null,
       "grid_column": null,
       "grid_gap": null,
       "grid_row": null,
       "grid_template_areas": null,
       "grid_template_columns": null,
       "grid_template_rows": null,
       "height": null,
       "justify_content": null,
       "justify_items": null,
       "left": null,
       "margin": null,
       "max_height": null,
       "max_width": null,
       "min_height": null,
       "min_width": null,
       "object_fit": null,
       "object_position": null,
       "order": null,
       "overflow": null,
       "padding": null,
       "right": null,
       "top": null,
       "visibility": null,
       "width": null
      }
     },
     "3c811db5bccd4104ac3fad5963e3eda5": {
      "model_module": "@jupyter-widgets/controls",
      "model_module_version": "2.0.0",
      "model_name": "HBoxModel",
      "state": {
       "_dom_classes": [],
       "_model_module": "@jupyter-widgets/controls",
       "_model_module_version": "2.0.0",
       "_model_name": "HBoxModel",
       "_view_count": null,
       "_view_module": "@jupyter-widgets/controls",
       "_view_module_version": "2.0.0",
       "_view_name": "HBoxView",
       "box_style": "",
       "children": [
        "IPY_MODEL_46ecbac9e56040e4afc7e520509de5d3",
        "IPY_MODEL_4f5696b4e49549cd9f815ba5bca2f34f",
        "IPY_MODEL_ced77d7469874936800902a8fd7b6a29"
       ],
       "layout": "IPY_MODEL_146b4ee778424b1597201e0d04197037",
       "tabbable": null,
       "tooltip": null
      }
     },
     "3e07d4ff5823402280b031d36a1c4d68": {
      "model_module": "@jupyter-widgets/controls",
      "model_module_version": "2.0.0",
      "model_name": "ProgressStyleModel",
      "state": {
       "_model_module": "@jupyter-widgets/controls",
       "_model_module_version": "2.0.0",
       "_model_name": "ProgressStyleModel",
       "_view_count": null,
       "_view_module": "@jupyter-widgets/base",
       "_view_module_version": "2.0.0",
       "_view_name": "StyleView",
       "bar_color": null,
       "description_width": ""
      }
     },
     "46ecbac9e56040e4afc7e520509de5d3": {
      "model_module": "@jupyter-widgets/controls",
      "model_module_version": "2.0.0",
      "model_name": "HTMLModel",
      "state": {
       "_dom_classes": [],
       "_model_module": "@jupyter-widgets/controls",
       "_model_module_version": "2.0.0",
       "_model_name": "HTMLModel",
       "_view_count": null,
       "_view_module": "@jupyter-widgets/controls",
       "_view_module_version": "2.0.0",
       "_view_name": "HTMLView",
       "description": "",
       "description_allow_html": false,
       "layout": "IPY_MODEL_0386ddf6311b44e1b2cbef5d15c8deca",
       "placeholder": "​",
       "style": "IPY_MODEL_c8c39cb7400a43aa8c8adb865e3ccad8",
       "tabbable": null,
       "tooltip": null,
       "value": "100%"
      }
     },
     "4f5696b4e49549cd9f815ba5bca2f34f": {
      "model_module": "@jupyter-widgets/controls",
      "model_module_version": "2.0.0",
      "model_name": "FloatProgressModel",
      "state": {
       "_dom_classes": [],
       "_model_module": "@jupyter-widgets/controls",
       "_model_module_version": "2.0.0",
       "_model_name": "FloatProgressModel",
       "_view_count": null,
       "_view_module": "@jupyter-widgets/controls",
       "_view_module_version": "2.0.0",
       "_view_name": "ProgressView",
       "bar_style": "success",
       "description": "",
       "description_allow_html": false,
       "layout": "IPY_MODEL_e9b5cd405f234134baf8fff7511e2c4e",
       "max": 5.0,
       "min": 0.0,
       "orientation": "horizontal",
       "style": "IPY_MODEL_3e07d4ff5823402280b031d36a1c4d68",
       "tabbable": null,
       "tooltip": null,
       "value": 5.0
      }
     },
     "b497925d467546fd83f8ba76567cd643": {
      "model_module": "@jupyter-widgets/controls",
      "model_module_version": "2.0.0",
      "model_name": "HTMLStyleModel",
      "state": {
       "_model_module": "@jupyter-widgets/controls",
       "_model_module_version": "2.0.0",
       "_model_name": "HTMLStyleModel",
       "_view_count": null,
       "_view_module": "@jupyter-widgets/base",
       "_view_module_version": "2.0.0",
       "_view_name": "StyleView",
       "background": null,
       "description_width": "",
       "font_size": null,
       "text_color": null
      }
     },
     "c8c39cb7400a43aa8c8adb865e3ccad8": {
      "model_module": "@jupyter-widgets/controls",
      "model_module_version": "2.0.0",
      "model_name": "HTMLStyleModel",
      "state": {
       "_model_module": "@jupyter-widgets/controls",
       "_model_module_version": "2.0.0",
       "_model_name": "HTMLStyleModel",
       "_view_count": null,
       "_view_module": "@jupyter-widgets/base",
       "_view_module_version": "2.0.0",
       "_view_name": "StyleView",
       "background": null,
       "description_width": "",
       "font_size": null,
       "text_color": null
      }
     },
     "ced77d7469874936800902a8fd7b6a29": {
      "model_module": "@jupyter-widgets/controls",
      "model_module_version": "2.0.0",
      "model_name": "HTMLModel",
      "state": {
       "_dom_classes": [],
       "_model_module": "@jupyter-widgets/controls",
       "_model_module_version": "2.0.0",
       "_model_name": "HTMLModel",
       "_view_count": null,
       "_view_module": "@jupyter-widgets/controls",
       "_view_module_version": "2.0.0",
       "_view_name": "HTMLView",
       "description": "",
       "description_allow_html": false,
       "layout": "IPY_MODEL_32601851317c40a2a7ca2a98e80592d6",
       "placeholder": "​",
       "style": "IPY_MODEL_b497925d467546fd83f8ba76567cd643",
       "tabbable": null,
       "tooltip": null,
       "value": " 5/5 [03:36&lt;00:00, 40.99s/it]"
      }
     },
     "e9b5cd405f234134baf8fff7511e2c4e": {
      "model_module": "@jupyter-widgets/base",
      "model_module_version": "2.0.0",
      "model_name": "LayoutModel",
      "state": {
       "_model_module": "@jupyter-widgets/base",
       "_model_module_version": "2.0.0",
       "_model_name": "LayoutModel",
       "_view_count": null,
       "_view_module": "@jupyter-widgets/base",
       "_view_module_version": "2.0.0",
       "_view_name": "LayoutView",
       "align_content": null,
       "align_items": null,
       "align_self": null,
       "border_bottom": null,
       "border_left": null,
       "border_right": null,
       "border_top": null,
       "bottom": null,
       "display": null,
       "flex": null,
       "flex_flow": null,
       "grid_area": null,
       "grid_auto_columns": null,
       "grid_auto_flow": null,
       "grid_auto_rows": null,
       "grid_column": null,
       "grid_gap": null,
       "grid_row": null,
       "grid_template_areas": null,
       "grid_template_columns": null,
       "grid_template_rows": null,
       "height": null,
       "justify_content": null,
       "justify_items": null,
       "left": null,
       "margin": null,
       "max_height": null,
       "max_width": null,
       "min_height": null,
       "min_width": null,
       "object_fit": null,
       "object_position": null,
       "order": null,
       "overflow": null,
       "padding": null,
       "right": null,
       "top": null,
       "visibility": null,
       "width": null
      }
     }
    },
    "version_major": 2,
    "version_minor": 0
   }
  }
 },
 "nbformat": 4,
 "nbformat_minor": 5
}