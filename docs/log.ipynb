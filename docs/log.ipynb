{
 "cells": [
  {
   "cell_type": "markdown",
   "id": "92bcb855",
   "metadata": {
    "papermill": {
     "duration": 0.003754,
     "end_time": "2024-08-16T04:09:18.083136",
     "exception": false,
     "start_time": "2024-08-16T04:09:18.079382",
     "status": "completed"
    },
    "tags": []
   },
   "source": [
    "# MPIA Arxiv on Deck 2\n",
    "\n",
    "Contains the steps to produce the paper extractions."
   ]
  },
  {
   "cell_type": "code",
   "execution_count": 1,
   "id": "3a0d6e11",
   "metadata": {
    "execution": {
     "iopub.execute_input": "2024-08-16T04:09:18.090308Z",
     "iopub.status.busy": "2024-08-16T04:09:18.089910Z",
     "iopub.status.idle": "2024-08-16T04:09:18.582872Z",
     "shell.execute_reply": "2024-08-16T04:09:18.582304Z"
    },
    "papermill": {
     "duration": 0.498303,
     "end_time": "2024-08-16T04:09:18.584507",
     "exception": false,
     "start_time": "2024-08-16T04:09:18.086204",
     "status": "completed"
    },
    "tags": []
   },
   "outputs": [],
   "source": [
    "# Imports\n",
    "import os\n",
    "from IPython.display import Markdown, display\n",
    "from tqdm.notebook import tqdm\n",
    "import warnings\n",
    "from PIL import Image \n",
    "\n",
    "# requires arxiv_on_deck_2\n",
    "\n",
    "from arxiv_on_deck_2.arxiv2 import (get_new_papers, \n",
    "                                    get_paper_from_identifier,\n",
    "                                    retrieve_document_source, \n",
    "                                    get_markdown_badge)\n",
    "from arxiv_on_deck_2 import (latex,\n",
    "                             latex_bib,\n",
    "                             mpia,\n",
    "                             highlight_authors_in_list)\n",
    "\n",
    "# Sometimes images are really big\n",
    "Image.MAX_IMAGE_PIXELS = 1000000000 "
   ]
  },
  {
   "cell_type": "code",
   "execution_count": 2,
   "id": "22aa9d44",
   "metadata": {
    "execution": {
     "iopub.execute_input": "2024-08-16T04:09:18.591907Z",
     "iopub.status.busy": "2024-08-16T04:09:18.591434Z",
     "iopub.status.idle": "2024-08-16T04:09:18.596496Z",
     "shell.execute_reply": "2024-08-16T04:09:18.595945Z"
    },
    "papermill": {
     "duration": 0.010019,
     "end_time": "2024-08-16T04:09:18.597750",
     "exception": false,
     "start_time": "2024-08-16T04:09:18.587731",
     "status": "completed"
    },
    "tags": []
   },
   "outputs": [],
   "source": [
    "# Some useful definitions.\n",
    "\n",
    "class AffiliationWarning(UserWarning):\n",
    "    pass\n",
    "\n",
    "class AffiliationError(RuntimeError):\n",
    "    pass\n",
    "\n",
    "def validation(source: str):\n",
    "    \"\"\"Raises error paper during parsing of source file\n",
    "    \n",
    "    Allows checks before parsing TeX code.\n",
    "    \n",
    "    Raises AffiliationWarning\n",
    "    \"\"\"\n",
    "    check = mpia.affiliation_verifications(source, verbose=True)\n",
    "    if check is not True:\n",
    "        raise AffiliationError(\"mpia.affiliation_verifications: \" + check)\n",
    "\n",
    "        \n",
    "warnings.simplefilter('always', AffiliationWarning)\n",
    "\n",
    "\n",
    "def get_markdown_qrcode(paper_id: str):\n",
    "    \"\"\" Generate a qrcode to the arxiv page using qrserver.com\n",
    "    \n",
    "    :param paper: Arxiv paper\n",
    "    :returns: markdown text\n",
    "    \"\"\"\n",
    "    url = r\"https://api.qrserver.com/v1/create-qr-code/?size=100x100&data=\"\n",
    "    txt = f\"\"\"<img src={url}\"https://arxiv.org/abs/{paper_id}\">\"\"\"\n",
    "    txt = '<div id=\"qrcode\">' + txt + '</div>'\n",
    "    return txt"
   ]
  },
  {
   "cell_type": "markdown",
   "id": "14bd6310",
   "metadata": {
    "papermill": {
     "duration": 0.002824,
     "end_time": "2024-08-16T04:09:18.603478",
     "exception": false,
     "start_time": "2024-08-16T04:09:18.600654",
     "status": "completed"
    },
    "tags": []
   },
   "source": [
    "## get list of arxiv paper candidates\n",
    "\n",
    "We use the MPIA mitarbeiter list webpage from mpia.de to get author names\n",
    "We then get all new papers from Arxiv and match authors"
   ]
  },
  {
   "cell_type": "code",
   "execution_count": 3,
   "id": "7ea813a8",
   "metadata": {
    "execution": {
     "iopub.execute_input": "2024-08-16T04:09:18.610333Z",
     "iopub.status.busy": "2024-08-16T04:09:18.609915Z",
     "iopub.status.idle": "2024-08-16T04:09:41.053310Z",
     "shell.execute_reply": "2024-08-16T04:09:41.052695Z"
    },
    "papermill": {
     "duration": 22.448353,
     "end_time": "2024-08-16T04:09:41.054760",
     "exception": false,
     "start_time": "2024-08-16T04:09:18.606407",
     "status": "completed"
    },
    "tags": []
   },
   "outputs": [],
   "source": [
    "# deal with the author list and edge cases of people that cannot be consistent on their name  \n",
    "\n",
    "def filter_non_scientists(name: str) -> bool:\n",
    "    \"\"\" Loose filter on expected authorships\n",
    "\n",
    "    removing IT, administration, technical staff\n",
    "    :param name: name\n",
    "    :returns: False if name is not a scientist\n",
    "    \"\"\"\n",
    "    remove_list = ['Wolf', 'Licht', 'Binroth', 'Witzel', 'Jordan',\n",
    "                   'Zähringer', 'Scheerer', 'Hoffmann', 'Düe',\n",
    "                   'Hellmich', 'Enkler-Scharpegge', 'Witte-Nguy',\n",
    "                   'Dehen', 'Beckmann', 'Jager', 'Jäger'\n",
    "                  ]\n",
    "\n",
    "    for k in remove_list:\n",
    "        if k in name:\n",
    "            return False\n",
    "    return True\n",
    "\n",
    "def add_author_to_list(author_list: list) -> list:\n",
    "    \"\"\" Add author to list if not already in list\n",
    "    \n",
    "    :param author: author name\n",
    "    :param author_list: list of authors\n",
    "    :returns: updated list of authors\n",
    "    \"\"\"\n",
    "    add_list = ['T. Henning']\n",
    "\n",
    "    for author in add_list:\n",
    "        if author not in author_list:\n",
    "            author_list.append(author)\n",
    "    return author_list\n",
    "\n",
    "# get list from MPIA website\n",
    "# filter for non-scientists (mpia.get_mpia_mitarbeiter_list() does some filtering)\n",
    "mpia_authors = [k[1] for k in mpia.get_mpia_mitarbeiter_list() if filter_non_scientists(k[1])]\n",
    "# add some missing author because of inconsistencies in their MPIA name and author name on papers\n",
    "mpia_authors = add_author_to_list(mpia_authors)"
   ]
  },
  {
   "cell_type": "code",
   "execution_count": 4,
   "id": "2645e73a",
   "metadata": {
    "execution": {
     "iopub.execute_input": "2024-08-16T04:09:41.062016Z",
     "iopub.status.busy": "2024-08-16T04:09:41.061624Z",
     "iopub.status.idle": "2024-08-16T04:09:41.642728Z",
     "shell.execute_reply": "2024-08-16T04:09:41.642058Z"
    },
    "papermill": {
     "duration": 0.586306,
     "end_time": "2024-08-16T04:09:41.644250",
     "exception": false,
     "start_time": "2024-08-16T04:09:41.057944",
     "status": "completed"
    },
    "tags": []
   },
   "outputs": [
    {
     "name": "stdout",
     "output_type": "stream",
     "text": [
      "A. d. Graaff  ->  A. D. Graaff  |  ['A. D. Graaff']\n",
      "H.-W. Rix  ->  H.-W. Rix  |  ['H.-W. Rix']\n",
      "F. Walter  ->  F. Walter  |  ['F. Walter']\n",
      "A. Hughes  ->  A. Hughes  |  ['A. Hughes']\n",
      "H. Beuther  ->  H. Beuther  |  ['H. Beuther']\n",
      "Arxiv has 44 new papers today\n",
      "          4 with possible author matches\n"
     ]
    }
   ],
   "source": [
    "new_papers = get_new_papers()\n",
    "# add manual references\n",
    "add_paper_refs = []\n",
    "new_papers.extend([get_paper_from_identifier(k) for k in add_paper_refs])\n",
    "\n",
    "candidates = []\n",
    "for paperk in new_papers:\n",
    "    # Check author list with their initials\n",
    "    normed_author_list = [mpia.get_initials(k) for k in paperk['authors']]\n",
    "    hl_authors = highlight_authors_in_list(normed_author_list, mpia_authors, verbose=True)\n",
    "    matches = [(hl, orig) for hl, orig in zip(hl_authors, paperk['authors']) if 'mark' in hl]\n",
    "    paperk['authors'] = hl_authors\n",
    "    if matches:\n",
    "        # only select paper if an author matched our list\n",
    "        candidates.append(paperk)\n",
    "print(\"\"\"Arxiv has {0:,d} new papers today\"\"\".format(len(new_papers)))        \n",
    "print(\"\"\"          {0:,d} with possible author matches\"\"\".format(len(candidates)))"
   ]
  },
  {
   "cell_type": "markdown",
   "id": "3543b34a",
   "metadata": {
    "papermill": {
     "duration": 0.003113,
     "end_time": "2024-08-16T04:09:41.651850",
     "exception": false,
     "start_time": "2024-08-16T04:09:41.648737",
     "status": "completed"
    },
    "tags": []
   },
   "source": [
    "# Parse sources and generate relevant outputs\n",
    "\n",
    "From the candidates, we do the following steps:\n",
    "* get their tarball from ArXiv (and extract data)\n",
    "* find the main .tex file: find one with \\documentclass{...} (sometimes it's non trivial)\n",
    "* Check affiliations with :func:`validation`, which uses :func:`mpia.affiliation_verifications`\n",
    "* If passing the affiliations: we parse the .tex source\n",
    "   * inject sub-documents into the main (flatten the main document)\n",
    "   * parse structure, extract information (title, abstract, authors, figures...)\n",
    "   * handles `\\graphicspath` if provided\n",
    "* Generate the .md document."
   ]
  },
  {
   "cell_type": "code",
   "execution_count": 5,
   "id": "9576b79e",
   "metadata": {
    "execution": {
     "iopub.execute_input": "2024-08-16T04:09:41.659119Z",
     "iopub.status.busy": "2024-08-16T04:09:41.658572Z",
     "iopub.status.idle": "2024-08-16T04:10:20.522983Z",
     "shell.execute_reply": "2024-08-16T04:10:20.522248Z"
    },
    "papermill": {
     "duration": 38.869642,
     "end_time": "2024-08-16T04:10:20.524452",
     "exception": false,
     "start_time": "2024-08-16T04:09:41.654810",
     "status": "completed"
    },
    "scrolled": false,
    "tags": []
   },
   "outputs": [
    {
     "data": {
      "application/vnd.jupyter.widget-view+json": {
       "model_id": "bea8ede7f0114eb3a5b304b01c89a8aa",
       "version_major": 2,
       "version_minor": 0
      },
      "text/plain": [
       "  0%|          | 0/4 [00:00<?, ?it/s]"
      ]
     },
     "metadata": {},
     "output_type": "display_data"
    },
    {
     "name": "stdout",
     "output_type": "stream",
     "text": [
      "Retrieving document from  https://arxiv.org/e-print/2408.07745\n"
     ]
    },
    {
     "name": "stdout",
     "output_type": "stream",
     "text": [
      "extracting tarball to tmp_2408.07745..."
     ]
    },
    {
     "name": "stdout",
     "output_type": "stream",
     "text": [
      " done.\n"
     ]
    },
    {
     "name": "stdout",
     "output_type": "stream",
     "text": [
      "A. d. Graaff  ->  A. D. Graaff  |  ['A. D. Graaff']\n",
      "H.-W. Rix  ->  H.-W. Rix  |  ['H.-W. Rix']\n",
      "Retrieving document from  https://arxiv.org/e-print/2408.08026\n"
     ]
    },
    {
     "name": "stderr",
     "output_type": "stream",
     "text": [
      "/tmp/ipykernel_2726/1211882699.py:51: LatexWarning: 2408.07745 did not run properly\n",
      "bad escape \\i at position 36\n",
      "  warnings.warn(latex.LatexWarning(f\"{paper_id:s} did not run properly\\n\" +\n"
     ]
    },
    {
     "name": "stdout",
     "output_type": "stream",
     "text": [
      "extracting tarball to tmp_2408.08026..."
     ]
    },
    {
     "name": "stdout",
     "output_type": "stream",
     "text": [
      " done.\n"
     ]
    },
    {
     "name": "stdout",
     "output_type": "stream",
     "text": [
      "Found 164 bibliographic references in tmp_2408.08026/aanda.bbl.\n",
      "Retrieving document from  https://arxiv.org/e-print/2408.08114\n"
     ]
    },
    {
     "name": "stdout",
     "output_type": "stream",
     "text": [
      "extracting tarball to tmp_2408.08114..."
     ]
    },
    {
     "name": "stdout",
     "output_type": "stream",
     "text": [
      " done.\n",
      "Retrieving document from  https://arxiv.org/e-print/2408.08299\n"
     ]
    },
    {
     "name": "stdout",
     "output_type": "stream",
     "text": [
      "extracting tarball to tmp_2408.08299..."
     ]
    },
    {
     "name": "stdout",
     "output_type": "stream",
     "text": [
      " done.\n"
     ]
    },
    {
     "name": "stdout",
     "output_type": "stream",
     "text": [
      "H. Beuther  ->  H. Beuther  |  ['H. Beuther']\n"
     ]
    },
    {
     "name": "stdout",
     "output_type": "stream",
     "text": [
      "Found 94 bibliographic references in tmp_2408.08299/wells_2024.bbl.\n"
     ]
    }
   ],
   "source": [
    "documents = []\n",
    "failed = []\n",
    "for paper in tqdm(candidates):\n",
    "    # debug crap\n",
    "    paper['identifier'] = paper['identifier'].lower().replace('arxiv:', '').replace(r'\\n', '').strip()\n",
    "    paper_id = paper['identifier']\n",
    "    \n",
    "    folder = f'tmp_{paper_id}'\n",
    "\n",
    "    try:\n",
    "        if not os.path.isdir(folder):\n",
    "            folder = retrieve_document_source(f\"{paper_id}\", f'tmp_{paper_id}')\n",
    "        \n",
    "        try:\n",
    "            doc = latex.LatexDocument(folder, validation=validation)    \n",
    "        except AffiliationError as affilerror:\n",
    "            msg = f\"ArXiv:{paper_id:s} is not an MPIA paper... \" + str(affilerror)\n",
    "            failed.append((paper, \"affiliation error: \" + str(affilerror) ))\n",
    "            continue\n",
    "        \n",
    "        # Hack because sometimes author parsing does not work well\n",
    "        if (len(doc.authors) != len(paper['authors'])):\n",
    "            doc._authors = paper['authors']\n",
    "        else:\n",
    "            # highlight authors (FIXME: doc.highlight_authors)\n",
    "            # done on arxiv paper already\n",
    "            doc._authors = highlight_authors_in_list(\n",
    "                [mpia.get_initials(k) for k in doc.authors], \n",
    "                mpia_authors, verbose=True)\n",
    "        if (doc.abstract) in (None, ''):\n",
    "            doc._abstract = paper['abstract']\n",
    "            \n",
    "        doc.comment = (get_markdown_badge(paper_id) + \n",
    "                       \"<mark>Appeared on: \" + paper['date'] + \"</mark> - \")\n",
    "        if paper['comments']:\n",
    "            doc.comment += \" _\" + paper['comments'] + \"_\"\n",
    "        \n",
    "        full_md = doc.generate_markdown_text()\n",
    "        \n",
    "        full_md += get_markdown_qrcode(paper_id)\n",
    "        \n",
    "        # replace citations\n",
    "        try:\n",
    "            bibdata = latex_bib.LatexBib.from_doc(doc)\n",
    "            full_md = latex_bib.replace_citations(full_md, bibdata)\n",
    "        except Exception as e:\n",
    "            print(e)\n",
    "        \n",
    "        documents.append((paper_id, full_md))\n",
    "    except Exception as e:\n",
    "        warnings.warn(latex.LatexWarning(f\"{paper_id:s} did not run properly\\n\" +\n",
    "                                         str(e)\n",
    "                                        ))\n",
    "        failed.append((paper, \"latex error \" + str(e)))"
   ]
  },
  {
   "cell_type": "markdown",
   "id": "2505a25c",
   "metadata": {
    "papermill": {
     "duration": 0.003777,
     "end_time": "2024-08-16T04:10:20.532253",
     "exception": false,
     "start_time": "2024-08-16T04:10:20.528476",
     "status": "completed"
    },
    "tags": []
   },
   "source": [
    "### Export the logs\n",
    "\n",
    "Throughout, we also keep track of the logs per paper. see `logs-{today date}.md` "
   ]
  },
  {
   "cell_type": "code",
   "execution_count": 6,
   "id": "d733828a",
   "metadata": {
    "execution": {
     "iopub.execute_input": "2024-08-16T04:10:20.541053Z",
     "iopub.status.busy": "2024-08-16T04:10:20.540640Z",
     "iopub.status.idle": "2024-08-16T04:10:20.592379Z",
     "shell.execute_reply": "2024-08-16T04:10:20.591736Z"
    },
    "papermill": {
     "duration": 0.057837,
     "end_time": "2024-08-16T04:10:20.593837",
     "exception": false,
     "start_time": "2024-08-16T04:10:20.536000",
     "status": "completed"
    },
    "scrolled": false,
    "tags": []
   },
   "outputs": [
    {
     "data": {
      "text/markdown": [
       "## Successful papers"
      ],
      "text/plain": [
       "<IPython.core.display.Markdown object>"
      ]
     },
     "metadata": {},
     "output_type": "display_data"
    },
    {
     "data": {
      "text/markdown": [
       "\n",
       "|||\n",
       "|---:|:---|\n",
       "| [![arXiv](https://img.shields.io/badge/arXiv-2408.08026-b31b1b.svg)](https://arxiv.org/abs/2408.08026) | **JWST MIRI and NIRCam observations of NGC 891 and its circumgalactic medium**  |\n",
       "|| J. Chastenet, et al. -- incl., <mark>F. Walter</mark> |\n",
       "|*Appeared on*| *2024-08-16*|\n",
       "|*Comments*| *Accepted for publication in Astronomy & Astrophysics; 16 pages, 8 figures*|\n",
       "|**Abstract**|            We present new JWST observations of the nearby, prototypical edge-on, spiral galaxy NGC 891. The northern half of the disk was observed with NIRCam in its F150W and F277W filters. Absorption is clearly visible in the mid-plane of the F150W image, along with vertical dusty plumes that closely resemble the ones seen in the optical. A $\\sim 10 \\times 3~{\\rm kpc}^2$ area of the lower circumgalactic medium (CGM) was mapped with MIRI F770W at 12 pc scales. Thanks to the sensitivity and resolution of JWST, we detect dust emission out to $\\sim 4$ kpc from the disk, in the form of filaments, arcs, and super-bubbles. Some of these filaments can be traced back to regions with recent star formation activity, suggesting that feedback-driven galactic winds play an important role in regulating baryonic cycling. The presence of dust at these altitudes raises questions about the transport mechanisms at play and suggests that small dust grains are able to survive for several tens of million years after having been ejected by galactic winds in the disk-halo interface. We lay out several scenarios that could explain this emission: dust grains may be shielded in the outer layers of cool dense clouds expelled from the galaxy disk, and/or the emission comes from the mixing layers around these cool clumps where material from the hot gas is able to cool down and mix with these cool cloudlets. This first set of data and upcoming spectroscopy will be very helpful to understand the survival of dust grains in energetic environments, and their contribution to recycling baryonic material in the mid-plane of galaxies.         |"
      ],
      "text/plain": [
       "[2408.08026] JWST MIRI and NIRCam observations of NGC 891 and its circumgalactic medium\n",
       "\tJ. Chastenet, et al. -- incl., <mark>F. Walter</mark>"
      ]
     },
     "metadata": {},
     "output_type": "display_data"
    },
    {
     "data": {
      "text/markdown": [
       "\n",
       "|||\n",
       "|---:|:---|\n",
       "| [![arXiv](https://img.shields.io/badge/arXiv-2408.08299-b31b1b.svg)](https://arxiv.org/abs/2408.08299) | **Dynamical Accretion Flows -- ALMAGAL: Flows along filamentary structures in high-mass star-forming clusters**  |\n",
       "|| M. R. A. Wells, et al. -- incl., <mark>H. Beuther</mark> |\n",
       "|*Appeared on*| *2024-08-16*|\n",
       "|*Comments*| *11 pages, 11 figures, accepted for publication in A&A*|\n",
       "|**Abstract**|            We use data from the ALMA Evolutionary Study of High Mass Protocluster Formation in the Galaxy (ALMAGAL) survey to study 100 ALMAGAL regions at $\\sim$ 1\\arcsec~ resolution located between $\\sim$ 2 and 6~kpc distance. Using ALMAGAL $\\sim$ 1.3mm line and continuum data we estimate flow rates onto individual cores. We focus specifically on flow rates along filamentary structures associated with these cores. Our primary analysis is centered around position velocity cuts in H$_2$CO (3$_{0,3}$ - 2$_{0,2}$) which allow us to measure the velocity fields, surrounding these cores. Combining this work with column density estimates we derive the flow rates along the extended filamentary structures associated with cores in these regions. We select a sample of 100 ALMAGAL regions covering four evolutionary stages from quiescent to protostellar, Young Stellar Objects (YSOs), and \\HII~regions (25 each). Using dendrogram and line analysis, we identify a final sample of 182 cores in 87 regions. In this paper, we present 728 flow rates for our sample (4 per core), analysed in the context of evolutionary stage, distance from the core, and core mass. On average, for the whole sample, we derive flow rates on the order of $\\sim$10$^{-4}$ M$_{sun}$yr$^{-1}$ with estimated uncertainties of $\\pm$50\\%. We see increasing differences in the values among evolutionary stages, most notably between the less evolved (quiescent/protostellar) and more evolved (YSO/\\HII~region) sources. We also see an increasing trend as we move further away from the centre of these cores. We also find a clear relationship between the flow rates and core masses $\\sim$M$^{2/3}$ which is in line with the result expected from the tidal-lobe accretion mechanism. Overall, we see increasing trends in the relationships between the flow rate and the three investigated parameters; evolutionary stage, distance from the core, and core mass.         |"
      ],
      "text/plain": [
       "[2408.08299] Dynamical Accretion Flows -- ALMAGAL: Flows along filamentary structures in high-mass star-forming clusters\n",
       "\tM. R. A. Wells, et al. -- incl., <mark>H. Beuther</mark>"
      ]
     },
     "metadata": {},
     "output_type": "display_data"
    },
    {
     "data": {
      "text/markdown": [
       "## Failed papers"
      ],
      "text/plain": [
       "<IPython.core.display.Markdown object>"
      ]
     },
     "metadata": {},
     "output_type": "display_data"
    },
    {
     "data": {
      "text/markdown": [
       "\n",
       "|||\n",
       "|---:|:---|\n",
       "| [![arXiv](https://img.shields.io/badge/arXiv-2408.08114-b31b1b.svg)](https://arxiv.org/abs/2408.08114) | **Quantifying the informativity of emission lines to infer physical conditions in giant molecular clouds. I. Application to model predictions**  |\n",
       "|| L. Einig, et al. -- incl., <mark>A. Hughes</mark> |\n",
       "|*Appeared on*| *2024-08-16*|\n",
       "|*Comments*| **|\n",
       "|**Abstract**|            Observations of ionic, atomic, or molecular lines are performed to improve our understanding of the interstellar medium (ISM). However, the potential of a line to constrain the physical conditions of the ISM is difficult to assess quantitatively, because of the complexity of the ISM physics. The situation is even more complex when trying to assess which combinations of lines are the most useful. Therefore, observation campaigns usually try to observe as many lines as possible for as much time as possible. We search for a quantitative statistical criterion to evaluate the constraining power of a (or combination of) tracer(s) with respect to physical conditions in order to improve our understanding of the statistical relationships between ISM tracers and physical conditions and helps observers to motivate their observation proposals. The best tracers are obtained by comparing the mutual information between a physical parameter and different sets of lines. We apply this method to simulations of radio molecular lines emitted by a photodissociation region similar to the Horsehead Nebula that would be observed at the IRAM 30m telescope. We search for the best lines to constrain the visual extinction $A_v^{tot}$ or the far UV illumination $G_0$. The most informative lines change with the physical regime (e.g., cloud extinction). Short integration time of the CO isotopologue $J=1-0$ lines already yields much information on the total column density most regimes. The best set of lines to constrain the visual extinction does not necessarily combine the most informative individual lines. Precise constraints on $G_0$ are more difficult to achieve with molecular lines. They require spectral lines emitted at the cloud surface (e.g., [CII] and [CI] lines). This approach allows one to better explore the knowledge provided by ISM codes, and to guide future observation campaigns.         |\n",
       "|<p style=\"color:green\"> **ERROR** </p>| <p style=\"color:green\">affiliation error: mpia.affiliation_verifications: 'Heidelberg' keyword not found.</p> |"
      ],
      "text/plain": [
       "<IPython.core.display.Markdown object>"
      ]
     },
     "metadata": {},
     "output_type": "display_data"
    },
    {
     "data": {
      "text/markdown": [
       "\n",
       "|||\n",
       "|---:|:---|\n",
       "| [![arXiv](https://img.shields.io/badge/arXiv-2408.07745-b31b1b.svg)](https://arxiv.org/abs/2408.07745) | **The Small Sizes and High Implied Densities of `Little Red Dots' with Balmer Breaks Could Explain Their Broad Emission Lines Without an AGN**  |\n",
       "|| J. F. Baggen, et al. -- incl., <mark>A. d. Graaff</mark>, <mark>H.-W. Rix</mark> |\n",
       "|*Appeared on*| *2024-08-16*|\n",
       "|*Comments*| **|\n",
       "|**Abstract**|            Early JWST studies found an apparent population of massive, compact galaxies at redshifts $z\\gtrsim7$. Recently three of these galaxies were shown to have prominent Balmer breaks, demonstrating that their light at $\\lambda_{\\rm rest} \\sim 3500$ $Å$ is dominated by a stellar population that is relatively old ($\\sim$200 Myr). All three also have broad H$\\beta$ emission with $\\sigma > 1000 \\,\\rm km s^{-1}$, a common feature of such `little red dots'. From Sérsic profile fits to the NIRCam images in F200W we find that the stellar light of galaxies is extremely compact: the galaxies have half-light radii of $r_{\\rm e}\\sim$ 100 pc, in the regime of ultra compact dwarfs in the nearby Universe. Their masses are uncertain, as they depend on the contribution of possible light from an AGN to the flux at $\\lambda_{\\rm rest}>5000$ $Å$. If the AGN contribution is low beyond the Balmer break region, the masses are $M_* \\sim 10^{10}-10^{11}\\mathrm{M}_{\\odot}$, and the central densities are higher than those of any other known galaxy population by an order of magnitude. Interestingly, the implied velocity dispersions of $\\sim$1500 kms$^{-1}$ are in very good agreement with the measured H$\\beta$ line widths. We suggest that some of the broad lines in `little red dots' are not due to AGNs but simply reflect the kinematics of the galaxies, and speculate that the galaxies are observed in a short-lived phase where the central densities are much higher than at later times. We stress, however, that the canonical interpretation of AGNs causing the broad H$\\beta$ lines also remains viable.         |\n",
       "|<p style=\"color:red\"> **ERROR** </p>| <p style=\"color:red\">latex error bad escape \\i at position 36</p> |"
      ],
      "text/plain": [
       "<IPython.core.display.Markdown object>"
      ]
     },
     "metadata": {},
     "output_type": "display_data"
    }
   ],
   "source": [
    "import datetime\n",
    "today = str(datetime.date.today())\n",
    "logfile = f\"_build/html/logs/log-{today}.md\"\n",
    "\n",
    "\n",
    "with open(logfile, 'w') as logs:\n",
    "    # Success\n",
    "    logs.write(f'# Arxiv on Deck 2: Logs - {today}\\n\\n')\n",
    "    logs.write(\"\"\"* Arxiv had {0:,d} new papers\\n\"\"\".format(len(new_papers)))\n",
    "    logs.write(\"\"\"    * {0:,d} with possible author matches\\n\\n\"\"\".format(len(candidates)))\n",
    "    logs.write(\"## Sucessful papers\\n\\n\")\n",
    "    display(Markdown(\"## Successful papers\"))\n",
    "    success = [k[0] for k in documents]\n",
    "    for candid in candidates:\n",
    "        if candid['identifier'].split(':')[-1] in success:\n",
    "            display(candid)\n",
    "            logs.write(candid.generate_markdown_text() + '\\n\\n')\n",
    "\n",
    "    ## failed\n",
    "    logs.write(\"## Failed papers\\n\\n\")\n",
    "    display(Markdown(\"## Failed papers\"))\n",
    "    failed = sorted(failed, key=lambda x: x[1])\n",
    "    current_reason = \"\"\n",
    "    for paper, reason in failed:\n",
    "        if 'affiliation' in reason:\n",
    "            color = 'green'\n",
    "        else:\n",
    "            color = 'red'\n",
    "        data = Markdown(\n",
    "                paper.generate_markdown_text() + \n",
    "                f'\\n|<p style=\"color:{color:s}\"> **ERROR** </p>| <p style=\"color:{color:s}\">{reason:s}</p> |'\n",
    "               )\n",
    "        if reason != current_reason:\n",
    "            logs.write(f'### {reason:s} \\n\\n')\n",
    "            current_reason = reason\n",
    "        logs.write(data.data + '\\n\\n')\n",
    "        \n",
    "        # only display here the important errors (all in logs)\n",
    "        # if color in ('red',):\n",
    "        display(data)"
   ]
  },
  {
   "cell_type": "markdown",
   "id": "472d20ee",
   "metadata": {
    "papermill": {
     "duration": 0.004379,
     "end_time": "2024-08-16T04:10:20.602807",
     "exception": false,
     "start_time": "2024-08-16T04:10:20.598428",
     "status": "completed"
    },
    "tags": []
   },
   "source": [
    "## Export documents\n",
    "\n",
    "We now write the .md files and export relevant images"
   ]
  },
  {
   "cell_type": "code",
   "execution_count": 7,
   "id": "d426aed9",
   "metadata": {
    "execution": {
     "iopub.execute_input": "2024-08-16T04:10:20.612703Z",
     "iopub.status.busy": "2024-08-16T04:10:20.612296Z",
     "iopub.status.idle": "2024-08-16T04:10:20.619205Z",
     "shell.execute_reply": "2024-08-16T04:10:20.618656Z"
    },
    "papermill": {
     "duration": 0.013373,
     "end_time": "2024-08-16T04:10:20.620498",
     "exception": false,
     "start_time": "2024-08-16T04:10:20.607125",
     "status": "completed"
    },
    "tags": []
   },
   "outputs": [],
   "source": [
    "def export_markdown_summary(md: str, md_fname:str, directory: str):\n",
    "    \"\"\"Export MD document and associated relevant images\"\"\"\n",
    "    import os\n",
    "    import shutil\n",
    "    import re\n",
    "\n",
    "    if (os.path.exists(directory) and not os.path.isdir(directory)):\n",
    "        raise RuntimeError(f\"a non-directory file exists with name {directory:s}\")\n",
    "\n",
    "    if (not os.path.exists(directory)):\n",
    "        print(f\"creating directory {directory:s}\")\n",
    "        os.mkdir(directory)\n",
    "\n",
    "    fig_fnames = (re.compile(r'\\[Fig.*\\]\\((.*)\\)').findall(md) + \n",
    "                  re.compile(r'\\<img src=\"([^>\\s]*)\"[^>]*/>').findall(md))\n",
    "    print(\"found figures\", fig_fnames)\n",
    "    for fname in fig_fnames:\n",
    "        if 'http' in fname:\n",
    "            # No need to copy online figures\n",
    "            continue\n",
    "        if not os.path.exists(fname):\n",
    "            print(\"file not found\", fname)\n",
    "            continue\n",
    "        print(\"copying \", fname, \"to\", directory)\n",
    "        destdir = os.path.join(directory, os.path.dirname(fname))\n",
    "        destfname = os.path.join(destdir, os.path.basename(fname))\n",
    "        try:\n",
    "            os.makedirs(destdir)\n",
    "        except FileExistsError:\n",
    "            pass\n",
    "        shutil.copy(fname, destfname)\n",
    "    with open(os.path.join(directory, md_fname), 'w') as fout:\n",
    "        fout.write(md)\n",
    "    print(\"exported in \", os.path.join(directory, md_fname))\n",
    "    [print(\"    + \" + os.path.join(directory,fk)) for fk in fig_fnames]"
   ]
  },
  {
   "cell_type": "code",
   "execution_count": 8,
   "id": "014d04a4",
   "metadata": {
    "execution": {
     "iopub.execute_input": "2024-08-16T04:10:20.630342Z",
     "iopub.status.busy": "2024-08-16T04:10:20.629922Z",
     "iopub.status.idle": "2024-08-16T04:10:20.640430Z",
     "shell.execute_reply": "2024-08-16T04:10:20.639809Z"
    },
    "papermill": {
     "duration": 0.016851,
     "end_time": "2024-08-16T04:10:20.641688",
     "exception": false,
     "start_time": "2024-08-16T04:10:20.624837",
     "status": "completed"
    },
    "tags": []
   },
   "outputs": [
    {
     "name": "stdout",
     "output_type": "stream",
     "text": [
      "found figures ['tmp_2408.08026/./figures/paper1_nircam_tw.png', 'tmp_2408.08026/./figures/paper1_miri_tw.png', 'tmp_2408.08026/./figures/rgb_annot_multipanel.png', 'tmp_2408.08026/./figures/vertprof_nircam_vB_2.png', 'tmp_2408.08026/./figures/vertprof_nircam_optical_vB.png']\n",
      "copying  tmp_2408.08026/./figures/paper1_nircam_tw.png to _build/html/\n",
      "copying  tmp_2408.08026/./figures/paper1_miri_tw.png to _build/html/\n",
      "copying  tmp_2408.08026/./figures/rgb_annot_multipanel.png to _build/html/\n",
      "copying  tmp_2408.08026/./figures/vertprof_nircam_vB_2.png to _build/html/\n",
      "copying  tmp_2408.08026/./figures/vertprof_nircam_optical_vB.png to _build/html/\n",
      "exported in  _build/html/2408.08026.md\n",
      "    + _build/html/tmp_2408.08026/./figures/paper1_nircam_tw.png\n",
      "    + _build/html/tmp_2408.08026/./figures/paper1_miri_tw.png\n",
      "    + _build/html/tmp_2408.08026/./figures/rgb_annot_multipanel.png\n",
      "    + _build/html/tmp_2408.08026/./figures/vertprof_nircam_vB_2.png\n",
      "    + _build/html/tmp_2408.08026/./figures/vertprof_nircam_optical_vB.png\n",
      "found figures ['tmp_2408.08299/./images/core_mass.png', 'tmp_2408.08299/./images/880433_SO.png', 'tmp_2408.08299/./images/molly_xy_pdf.png']\n",
      "copying  tmp_2408.08299/./images/core_mass.png to _build/html/\n",
      "copying  tmp_2408.08299/./images/880433_SO.png to _build/html/\n",
      "copying  tmp_2408.08299/./images/molly_xy_pdf.png to _build/html/\n",
      "exported in  _build/html/2408.08299.md\n",
      "    + _build/html/tmp_2408.08299/./images/core_mass.png\n",
      "    + _build/html/tmp_2408.08299/./images/880433_SO.png\n",
      "    + _build/html/tmp_2408.08299/./images/molly_xy_pdf.png\n"
     ]
    }
   ],
   "source": [
    "for paper_id, md in documents:\n",
    "    export_markdown_summary(md, f\"{paper_id:s}.md\", '_build/html/')"
   ]
  },
  {
   "cell_type": "markdown",
   "id": "f087a0a7",
   "metadata": {
    "papermill": {
     "duration": 0.004566,
     "end_time": "2024-08-16T04:10:20.650864",
     "exception": false,
     "start_time": "2024-08-16T04:10:20.646298",
     "status": "completed"
    },
    "tags": []
   },
   "source": [
    "## Display the papers\n",
    "\n",
    "Not necessary but allows for a quick check."
   ]
  },
  {
   "cell_type": "code",
   "execution_count": 9,
   "id": "fd25f625",
   "metadata": {
    "execution": {
     "iopub.execute_input": "2024-08-16T04:10:20.660880Z",
     "iopub.status.busy": "2024-08-16T04:10:20.660454Z",
     "iopub.status.idle": "2024-08-16T04:10:20.666354Z",
     "shell.execute_reply": "2024-08-16T04:10:20.665813Z"
    },
    "papermill": {
     "duration": 0.012415,
     "end_time": "2024-08-16T04:10:20.667711",
     "exception": false,
     "start_time": "2024-08-16T04:10:20.655296",
     "status": "completed"
    },
    "scrolled": false,
    "tags": []
   },
   "outputs": [
    {
     "data": {
      "text/markdown": [
       "<div class=\"macros\" style=\"visibility:hidden;\">\n",
       "$\\newcommand{\\ensuremath}{}$\n",
       "$\\newcommand{\\xspace}{}$\n",
       "$\\newcommand{\\object}[1]{\\texttt{#1}}$\n",
       "$\\newcommand{\\farcs}{{.}''}$\n",
       "$\\newcommand{\\farcm}{{.}'}$\n",
       "$\\newcommand{\\arcsec}{''}$\n",
       "$\\newcommand{\\arcmin}{'}$\n",
       "$\\newcommand{\\ion}[2]{#1#2}$\n",
       "$\\newcommand{\\textsc}[1]{\\textrm{#1}}$\n",
       "$\\newcommand{\\hl}[1]{\\textrm{#1}}$\n",
       "$\\newcommand{\\footnote}[1]{}$\n",
       "$\\newcommand{\\tfill}{\\textbf{!fill!}\\xspace}$\n",
       "$\\newcommand{\\ssm}{7.7~\\mum\\xspace}$\n",
       "$\\newcommand{\\astrodendro}{{\\sc astrodendro}\\xspace}$\n",
       "$\\newcommand{\\mjysr}{MJy~sr^{-1}\\xspace}$\n",
       "$\\newcommand{\\orcid}[1]{\\href{https://orcid.org/#1}{\\includegraphics[width=10pt]{figures/orcid-ID.png}}}$</div>\n",
       "\n",
       "\n",
       "\n",
       "<div id=\"title\">\n",
       "\n",
       "# JWST MIRI and NIRCam observations of NGC 891 and its circumgalactic medium\n",
       "\n",
       "</div>\n",
       "<div id=\"comments\">\n",
       "\n",
       "[![arXiv](https://img.shields.io/badge/arXiv-2408.08026-b31b1b.svg)](https://arxiv.org/abs/2408.08026)<mark>Appeared on: 2024-08-16</mark> -  _Accepted for publication in Astronomy & Astrophysics; 16 pages, 8 figures_\n",
       "\n",
       "</div>\n",
       "<div id=\"authors\">\n",
       "\n",
       "J. Chastenet, et al. -- incl., <mark>F. Walter</mark>\n",
       "\n",
       "</div>\n",
       "<div id=\"abstract\">\n",
       "\n",
       "**Abstract:** We present new JWST observations of the nearby, prototypical edge-on, spiral galaxy NGC 891.The northern half of the disk was observed with NIRCam in its F150W and F277W filters. Absorption is clearly visible in the mid-plane of the F150W image, along with vertical dusty plumes that closely resemble the ones seen in the optical.A ${\\sim }10 \\times 3 {\\rm kpc}^2$ area of the lower circumgalactic medium (CGM) was mapped with MIRI F770W at 12 pc scales. Thanks to the sensitivity and resolution of JWST, we detect dust emission out to $\\sim 4$ kpc from the disk, in the form of filaments, arcs, and super-bubbles. Some of these filaments can be traced back to regions with recent star formation activity, suggesting that feedback-driven galactic winds play an important role in regulating baryonic cycling.The presence of dust at these altitudes raises questions about the transport mechanisms at play and suggests that small dust grains are able to survive for several tens of million years after having been ejected by galactic winds in the disk-halo interface. We lay out several scenarios that could explain this emission: dust grains may be shielded in the outer layers of cool dense clouds expelled from the galaxy disk, and/or the emission comes from the mixing layers around these cool clumps where material from the hot gas is able to cool down and mix with these cool cloudlets.This first set of data and upcoming spectroscopy will be very helpful to understand the survival of dust grains in energetic environments, and their contribution to recycling baryonic material in the mid-plane of galaxies.\n",
       "\n",
       "</div>\n",
       "\n",
       "<div id=\"div_fig1\">\n",
       "\n",
       "<img src=\"tmp_2408.08026/./figures/paper1_nircam_tw.png\" alt=\"Fig5.1\" width=\"50%\"/><img src=\"tmp_2408.08026/./figures/paper1_miri_tw.png\" alt=\"Fig5.2\" width=\"50%\"/>\n",
       "\n",
       "**Figure 5. -** _Top left:_ NIRCam F150W data, at native $\\sim 0.05\"$ resolution. The mid-plane shows conspicuous absorption. The background in that band shows large discrepancies, due to the difficulty to correct for both large structure stripes and offsets between the individual dithers. The small squares are gaps in the dither-pattern coverage.\n",
       "    _Top right:_ NIRCam F277W data, at native $\\sim 0.092\"$ resolution. Some absorption is visible in the mid-plane, and the image shows a much smoother background than for the F150W mosaic.\n",
       "    _Bottom:_ MIRI F770W data, at native $\\sim 0.25\"$ resolution, with radial distance indicators at 1, 2, 5, and 10 kpc from the mid-plane. The mid-IR image shows many filamentary structures as far out as $\\sim 4$ kpc. (*fig:finalimages*)\n",
       "\n",
       "</div>\n",
       "<div id=\"div_fig2\">\n",
       "\n",
       "<img src=\"tmp_2408.08026/./figures/rgb_annot_multipanel.png\" alt=\"Fig7\" width=\"100%\"/>\n",
       "\n",
       "**Figure 7. -** Multi-colour image with red: F277W, green: F150W, and blue: V-band, showing the coverage where all data overlap (the V-band and F277W images were adjusted to show the same spatial coverage, including dither gaps), and individual images shown in insets on the right. The NIRCam data was convolved to a $0.2\"$ Gaussian PSF.\n",
       "    We indicate galactocentric radii $r$ at 3 and 7 kpc.\n",
       "    Conspicuous dark features show dusty filaments seen in extinction perpendicular to the disk. We can also notice the presence of star clusters, some obscured by dust, and some are not. (*fig:RGB*)\n",
       "\n",
       "</div>\n",
       "<div id=\"div_fig3\">\n",
       "\n",
       "<img src=\"tmp_2408.08026/./figures/vertprof_nircam_vB_2.png\" alt=\"Fig1.1\" width=\"50%\"/><img src=\"tmp_2408.08026/./figures/vertprof_nircam_optical_vB.png\" alt=\"Fig1.2\" width=\"50%\"/>\n",
       "\n",
       "**Figure 1. -** _Top:_ NIRCam vertical profiles shown with symbols, in light blue for F150W and dark blue for F277W. We also show the fit from [Fraternali, Sancisi and Kamphuis (2011)]() using IRAC data (black line) and two fits from the radiative transfer models of \\citet[][]{Xilouris1998}. In all cases, we average the vertical profiles over galactocentric radii $2.5 {\\rm kpc}\\leq r \\leq 9 {\\rm kpc}$, so that the radial coverage is the same.\n",
       "    _Bottom:_ Emission profiles across the disk at $r \\sim 8 $kpc showing the NIRCam data, and three optical bands. The images have all been normalised to the average values at $z = 1 $kpc, due to different units, for an easier comparison.\n",
       "    The upturn at 1.2 kpc in F150W is an artefact due to one of the dither offsets mentioned in the text. (*fig:NIRCamVP*)\n",
       "\n",
       "</div><div id=\"qrcode\"><img src=https://api.qrserver.com/v1/create-qr-code/?size=100x100&data=\"https://arxiv.org/abs/2408.08026\"></div>"
      ],
      "text/plain": [
       "<IPython.core.display.Markdown object>"
      ]
     },
     "metadata": {},
     "output_type": "display_data"
    },
    {
     "data": {
      "text/markdown": [
       "<div class=\"macros\" style=\"visibility:hidden;\">\n",
       "$\\newcommand{\\ensuremath}{}$\n",
       "$\\newcommand{\\xspace}{}$\n",
       "$\\newcommand{\\object}[1]{\\texttt{#1}}$\n",
       "$\\newcommand{\\farcs}{{.}''}$\n",
       "$\\newcommand{\\farcm}{{.}'}$\n",
       "$\\newcommand{\\arcsec}{''}$\n",
       "$\\newcommand{\\arcmin}{'}$\n",
       "$\\newcommand{\\ion}[2]{#1#2}$\n",
       "$\\newcommand{\\textsc}[1]{\\textrm{#1}}$\n",
       "$\\newcommand{\\hl}[1]{\\textrm{#1}}$\n",
       "$\\newcommand{\\footnote}[1]{}$\n",
       "$\\newcommand{\\HII}{H{\\sc ii}}$\n",
       "$\\newcommand{\\flowrate}{10^{-4}~M_{\\sun}\\mathrm{yr}^{-1}}$</div>\n",
       "\n",
       "\n",
       "\n",
       "<div id=\"title\">\n",
       "\n",
       "# Dynamical Accretion Flows\n",
       "\n",
       "</div>\n",
       "<div id=\"comments\">\n",
       "\n",
       "[![arXiv](https://img.shields.io/badge/arXiv-2408.08299-b31b1b.svg)](https://arxiv.org/abs/2408.08299)<mark>Appeared on: 2024-08-16</mark> -  _11 pages, 11 figures, accepted for publication in A&A_\n",
       "\n",
       "</div>\n",
       "<div id=\"authors\">\n",
       "\n",
       "M. R. A. Wells, et al. -- incl., <mark>H. Beuther</mark>\n",
       "\n",
       "</div>\n",
       "<div id=\"abstract\">\n",
       "\n",
       "**Abstract:** Investigation of the flow of material along filamentary structures towards the central core can help provide insight into high-mass star formation and evolution. Our main motivation is to answer the question: what are the properties of accretion flows in star-forming clusters? We use data from the ALMA Evolutionary Study of High Mass Protocluster Formation in the Galaxy (ALMAGAL) survey to study 100 ALMAGAL regions at $\\sim$ 1 $\\arcsec$ resolution located between $\\sim$ 2 and 6 kpc distance. Making use of the ALMAGAL $\\sim$ 1.3mm line and continuum data we estimate flow rates onto individual cores. We focus specifically on flow rates along filamentary structures associated with these cores. Our primary analysis is centered around position velocity cuts in $H_2$ CO (3 $_{0,3}$ - 2 $_{0,2}$ ) which allow us to measure the velocity fields, surrounding these cores. Combining this work with column density estimates we derive the flow rates along the extended filamentary structures associated with cores in these regions. We select a sample of 100 ALMAGAL regions covering four evolutionary stages from quiescent to protostellar, Young Stellar Objects (YSOs), and $\\HII$ regions (25 each). Using dendrogram and line analysis, we identify a final sample of 182 cores in 87 regions. In this paper, we present 728 flow rates for our sample (4 per core), analysed in the context of evolutionary stage, distance from the core, and core mass. On average, for the whole sample, we derive flow rates on the order of $\\sim$ $\\flowrate$ with estimated uncertainties of $\\pm$ 50 \\% . We see increasing differences in the values among evolutionary stages, most notably between the less evolved (quiescent/protostellar) and more evolved (YSO/ $\\HII$ region) sources and we also see an increasing trend as we move further away from the centre of these cores. We also find a clear relationship between the calculated flow rates and core masses $\\sim$ M $^{2/3}$ which is in line with the result expected from the tidal-lobe accretion mechanism. The significance of these relationships is tested with Kolmogorov-Smirnov and Mann-Whitney U tests. Overall, we see increasing trends in the relationships between the flow rate and the three investigated parameters; evolutionary stage, distance from the core, and core mass.\n",
       "\n",
       "</div>\n",
       "\n",
       "<div id=\"div_fig1\">\n",
       "\n",
       "<img src=\"tmp_2408.08299/./images/core_mass.png\" alt=\"Fig8\" width=\"100%\"/>\n",
       "\n",
       "**Figure 8. -** Scatter plot of the results of the whole sample showing flow rate vs. core mass in grey. The purple points are the average flow rate/mass values per bin, with the associated errors. Here, each bin contains the same number of cores. A line of best fit is shown in black. (*fig:coremass*)\n",
       "\n",
       "</div>\n",
       "<div id=\"div_fig2\">\n",
       "\n",
       "<img src=\"tmp_2408.08299/./images/880433_SO.png\" alt=\"Fig3\" width=\"100%\"/>\n",
       "\n",
       "**Figure 3. -** 0th moment map of SO ($6_5$ - $5_4$) in grey-scale for source AG348.5792-0.9197 overlaid with continuum contours in black (levels 3,6,9 $\\sigma_{cont}$). A green star to show the peak intensity position of the core. Red and blue contours show the \"wings\" of the spectral line emission, from 3 to 20 kms$^{-1}$ either side, with respect to the region velocity of rest. (*fig:outflow*)\n",
       "\n",
       "</div>\n",
       "<div id=\"div_fig3\">\n",
       "\n",
       "<img src=\"tmp_2408.08299/./images/molly_xy_pdf.png\" alt=\"Fig1\" width=\"100%\"/>\n",
       "\n",
       "**Figure 1. -** Source distribution for the regions in our ALMAGAL sub-sample is shown as black dots. The size of the markers scales with the masses of the ALMAGAL clumps. Grey dots are the rest of the ALMAGAL survey and the dashed line is a heliocentric distance circle at 5 kpc. (*fig:survey*)\n",
       "\n",
       "</div><div id=\"qrcode\"><img src=https://api.qrserver.com/v1/create-qr-code/?size=100x100&data=\"https://arxiv.org/abs/2408.08299\"></div>"
      ],
      "text/plain": [
       "<IPython.core.display.Markdown object>"
      ]
     },
     "metadata": {},
     "output_type": "display_data"
    }
   ],
   "source": [
    "[display(Markdown(k[1])) for k in documents];"
   ]
  },
  {
   "cell_type": "markdown",
   "id": "873873a4",
   "metadata": {
    "papermill": {
     "duration": 0.004682,
     "end_time": "2024-08-16T04:10:20.677276",
     "exception": false,
     "start_time": "2024-08-16T04:10:20.672594",
     "status": "completed"
    },
    "tags": []
   },
   "source": [
    "# Create HTML index"
   ]
  },
  {
   "cell_type": "code",
   "execution_count": 10,
   "id": "cf665672",
   "metadata": {
    "execution": {
     "iopub.execute_input": "2024-08-16T04:10:20.687898Z",
     "iopub.status.busy": "2024-08-16T04:10:20.687378Z",
     "iopub.status.idle": "2024-08-16T04:10:20.694767Z",
     "shell.execute_reply": "2024-08-16T04:10:20.694227Z"
    },
    "papermill": {
     "duration": 0.014101,
     "end_time": "2024-08-16T04:10:20.696081",
     "exception": false,
     "start_time": "2024-08-16T04:10:20.681980",
     "status": "completed"
    },
    "tags": []
   },
   "outputs": [
    {
     "name": "stdout",
     "output_type": "stream",
     "text": [
      "163  publications files modified in the last 7 days.\n"
     ]
    }
   ],
   "source": [
    "from datetime import datetime, timedelta, timezone\n",
    "from glob import glob\n",
    "import os\n",
    "\n",
    "files = glob('_build/html/*.md')\n",
    "days = 7\n",
    "now = datetime.today()\n",
    "res = []\n",
    "for fk in files:\n",
    "    stat_result = os.stat(fk).st_ctime\n",
    "    modified = datetime.fromtimestamp(stat_result, tz=timezone.utc).replace(tzinfo=None)\n",
    "    delta = now.today() - modified\n",
    "    if delta <= timedelta(days=days):\n",
    "        res.append((delta.seconds, fk))\n",
    "res = [k[1] for k in reversed(sorted(res, key=lambda x:x[1]))]\n",
    "npub = len(res)\n",
    "print(len(res), f\" publications files modified in the last {days:d} days.\")\n",
    "# [ print('\\t', k) for k in res ];"
   ]
  },
  {
   "cell_type": "code",
   "execution_count": 11,
   "id": "015de740",
   "metadata": {
    "execution": {
     "iopub.execute_input": "2024-08-16T04:10:20.706966Z",
     "iopub.status.busy": "2024-08-16T04:10:20.706575Z",
     "iopub.status.idle": "2024-08-16T04:10:20.720079Z",
     "shell.execute_reply": "2024-08-16T04:10:20.719503Z"
    },
    "papermill": {
     "duration": 0.020323,
     "end_time": "2024-08-16T04:10:20.721339",
     "exception": false,
     "start_time": "2024-08-16T04:10:20.701016",
     "status": "completed"
    },
    "tags": []
   },
   "outputs": [
    {
     "name": "stdout",
     "output_type": "stream",
     "text": [
      "10  publications in the last 7 days.\n"
     ]
    }
   ],
   "source": [
    "import datetime\n",
    "from glob import glob\n",
    "\n",
    "def get_last_n_days(lst, days=1):\n",
    "    \"\"\" Get the documents from the last n days \"\"\"\n",
    "    sorted_lst = sorted(lst, key=lambda x: x[1], reverse=True)\n",
    "    for fname, date in sorted_lst:\n",
    "        if date >= str(datetime.date.today() - datetime.timedelta(days=days)):\n",
    "            yield fname\n",
    "\n",
    "def extract_appearance_dates(lst_file):\n",
    "    dates = []\n",
    "\n",
    "    def get_date(line):\n",
    "        return line\\\n",
    "            .split('Appeared on:')[-1]\\\n",
    "            .split('</mark>')[0].strip()\n",
    "\n",
    "    for fname in lst:\n",
    "        with open(fname, 'r') as f:\n",
    "            found_date = False\n",
    "            for line in f:\n",
    "                if not found_date:\n",
    "                    if \"Appeared on\" in line:\n",
    "                        found_date = True\n",
    "                        dates.append((fname, get_date(line)))\n",
    "                else:\n",
    "                    break\n",
    "    return dates\n",
    "\n",
    "from glob import glob\n",
    "lst = glob('_build/html/*md')\n",
    "days = 7\n",
    "dates = extract_appearance_dates(lst)\n",
    "res = list(get_last_n_days(dates, days))\n",
    "npub = len(res)\n",
    "print(len(res), f\" publications in the last {days:d} days.\")"
   ]
  },
  {
   "cell_type": "code",
   "execution_count": 12,
   "id": "52ca0208",
   "metadata": {
    "execution": {
     "iopub.execute_input": "2024-08-16T04:10:20.732287Z",
     "iopub.status.busy": "2024-08-16T04:10:20.731938Z",
     "iopub.status.idle": "2024-08-16T04:10:20.736664Z",
     "shell.execute_reply": "2024-08-16T04:10:20.736046Z"
    },
    "papermill": {
     "duration": 0.011585,
     "end_time": "2024-08-16T04:10:20.737902",
     "exception": false,
     "start_time": "2024-08-16T04:10:20.726317",
     "status": "completed"
    },
    "scrolled": false,
    "tags": []
   },
   "outputs": [],
   "source": [
    "def create_carousel(npub=4):\n",
    "    \"\"\" Generate the HTML code for a carousel with `npub` slides \"\"\"\n",
    "    carousel = [\"\"\"  <div class=\"carousel\" \"\"\",\n",
    "                \"\"\"       data-flickity='{ \"autoPlay\": 10000, \"adaptiveHeight\": true, \"resize\": true, \"wrapAround\": true, \"pauseAutoPlayOnHover\": true, \"groupCells\": 1 }' id=\"asyncTypeset\">\"\"\"\n",
    "                ]\n",
    "    \n",
    "    item_str = \"\"\"    <div class=\"carousel-cell\"> <div id=\"slide{k}\" class=\"md_view\">Content {k}</div> </div>\"\"\"\n",
    "    for k in range(1, npub + 1):\n",
    "        carousel.append(item_str.format(k=k))\n",
    "    carousel.append(\"  </div>\")\n",
    "    return '\\n'.join(carousel)\n",
    "\n",
    "def create_grid(npub=4):\n",
    "    \"\"\" Generate the HTML code for a flat grid with `npub` slides \"\"\"\n",
    "    grid = [\"\"\"  <div class=\"grid\"> \"\"\",\n",
    "                ]\n",
    "    \n",
    "    item_str = \"\"\"    <div class=\"grid-item\"> <div id=\"slide{k}\" class=\"md_view\">Content {k}</div> </div>\"\"\"\n",
    "    for k in range(1, npub + 1):\n",
    "        grid.append(item_str.format(k=k))\n",
    "    grid.append(\"  </div>\")\n",
    "    return '\\n'.join(grid)"
   ]
  },
  {
   "cell_type": "code",
   "execution_count": 13,
   "id": "a6eac5b6",
   "metadata": {
    "execution": {
     "iopub.execute_input": "2024-08-16T04:10:20.748977Z",
     "iopub.status.busy": "2024-08-16T04:10:20.748572Z",
     "iopub.status.idle": "2024-08-16T04:10:20.753453Z",
     "shell.execute_reply": "2024-08-16T04:10:20.752944Z"
    },
    "papermill": {
     "duration": 0.011807,
     "end_time": "2024-08-16T04:10:20.754725",
     "exception": false,
     "start_time": "2024-08-16T04:10:20.742918",
     "status": "completed"
    },
    "scrolled": false,
    "tags": []
   },
   "outputs": [],
   "source": [
    "carousel = create_carousel(npub)\n",
    "docs = ', '.join(['\"{0:s}\"'.format(k.split('/')[-1]) for k in res])\n",
    "slides = ', '.join([f'\"slide{k}\"' for k in range(1, npub + 1)])\n",
    "\n",
    "with open(\"daily_template.html\", \"r\") as tpl:\n",
    "    page = tpl.read()\n",
    "    page = page.replace(\"{%-- carousel:s --%}\", carousel)\\\n",
    "               .replace(\"{%-- suptitle:s --%}\",  \"7-day archives\" )\\\n",
    "               .replace(\"{%-- docs:s --%}\", docs)\\\n",
    "               .replace(\"{%-- slides:s --%}\", slides)\n",
    "    \n",
    "with open(\"_build/html/index_7days.html\", 'w') as fout:\n",
    "    fout.write(page)"
   ]
  },
  {
   "cell_type": "code",
   "execution_count": 14,
   "id": "adc1a1ec",
   "metadata": {
    "execution": {
     "iopub.execute_input": "2024-08-16T04:10:20.765985Z",
     "iopub.status.busy": "2024-08-16T04:10:20.765517Z",
     "iopub.status.idle": "2024-08-16T04:10:20.771786Z",
     "shell.execute_reply": "2024-08-16T04:10:20.771142Z"
    },
    "papermill": {
     "duration": 0.013201,
     "end_time": "2024-08-16T04:10:20.773066",
     "exception": false,
     "start_time": "2024-08-16T04:10:20.759865",
     "status": "completed"
    },
    "tags": []
   },
   "outputs": [
    {
     "name": "stdout",
     "output_type": "stream",
     "text": [
      "2  publications in the last day.\n"
     ]
    }
   ],
   "source": [
    "# redo for today\n",
    "days = 1\n",
    "res = list(get_last_n_days(dates, days))\n",
    "npub = len(res)\n",
    "print(len(res), f\" publications in the last day.\")\n",
    "\n",
    "carousel = create_carousel(npub)\n",
    "docs = ', '.join(['\"{0:s}\"'.format(k.split('/')[-1]) for k in res])\n",
    "slides = ', '.join([f'\"slide{k}\"' for k in range(1, npub + 1)])\n",
    "\n",
    "with open(\"daily_template.html\", \"r\") as tpl:\n",
    "    page = tpl.read()\n",
    "    page = page.replace(\"{%-- carousel:s --%}\", carousel)\\\n",
    "               .replace(\"{%-- suptitle:s --%}\",  \"Daily\" )\\\n",
    "               .replace(\"{%-- docs:s --%}\", docs)\\\n",
    "               .replace(\"{%-- slides:s --%}\", slides)\n",
    "    \n",
    "# print(carousel, docs, slides)\n",
    "# print(page)\n",
    "with open(\"_build/html/index_daily.html\", 'w') as fout:\n",
    "    fout.write(page)"
   ]
  },
  {
   "cell_type": "code",
   "execution_count": 15,
   "id": "00eece82",
   "metadata": {
    "execution": {
     "iopub.execute_input": "2024-08-16T04:10:20.784580Z",
     "iopub.status.busy": "2024-08-16T04:10:20.784138Z",
     "iopub.status.idle": "2024-08-16T04:10:20.790357Z",
     "shell.execute_reply": "2024-08-16T04:10:20.789745Z"
    },
    "papermill": {
     "duration": 0.013476,
     "end_time": "2024-08-16T04:10:20.791724",
     "exception": false,
     "start_time": "2024-08-16T04:10:20.778248",
     "status": "completed"
    },
    "scrolled": false,
    "tags": []
   },
   "outputs": [
    {
     "name": "stdout",
     "output_type": "stream",
     "text": [
      "6  6 publications selected.\n"
     ]
    }
   ],
   "source": [
    "# Create the flat grid of the last N papers (fixed number regardless of dates)\n",
    "from itertools import islice \n",
    "\n",
    "npub = 6\n",
    "res = [k[0] for k in (islice(reversed(sorted(dates, key=lambda x: x[1])), 6))]\n",
    "print(len(res), f\" {npub} publications selected.\")\n",
    "\n",
    "grid = create_grid(npub)\n",
    "docs = ', '.join(['\"{0:s}\"'.format(k.split('/')[-1]) for k in res])\n",
    "slides = ', '.join([f'\"slide{k}\"' for k in range(1, npub + 1)])\n",
    "\n",
    "with open(\"grid_template.html\", \"r\") as tpl:\n",
    "    page = tpl.read()\n",
    "    page = page.replace(\"{%-- grid-content:s --%}\", grid)\\\n",
    "               .replace(\"{%-- suptitle:s --%}\",  f\"Last {npub:,d} papers\" )\\\n",
    "               .replace(\"{%-- docs:s --%}\", docs)\\\n",
    "               .replace(\"{%-- slides:s --%}\", slides)\n",
    "    \n",
    "# print(grid, docs, slides)\n",
    "# print(page)\n",
    "with open(\"_build/html/index_npub_grid.html\", 'w') as fout:\n",
    "    fout.write(page)"
   ]
  }
 ],
 "metadata": {
  "kernelspec": {
   "display_name": "Python 3 (ipykernel)",
   "language": "python",
   "name": "python3"
  },
  "language_info": {
   "codemirror_mode": {
    "name": "ipython",
    "version": 3
   },
   "file_extension": ".py",
   "mimetype": "text/x-python",
   "name": "python",
   "nbconvert_exporter": "python",
   "pygments_lexer": "ipython3",
   "version": "3.9.19"
  },
  "papermill": {
   "default_parameters": {},
   "duration": 63.866869,
   "end_time": "2024-08-16T04:10:21.013520",
   "environment_variables": {},
   "exception": null,
   "input_path": "MPIA daily digest.ipynb",
   "output_path": "log.ipynb",
   "parameters": {},
   "start_time": "2024-08-16T04:09:17.146651",
   "version": "2.6.0"
  },
  "vscode": {
   "interpreter": {
    "hash": "aee8b7b246df8f9039afb4144a1f6fd8d2ca17a180786b69acc140d282b71a49"
   }
  },
  "widgets": {
   "application/vnd.jupyter.widget-state+json": {
    "state": {
     "0b0d8cd60c6842239cf0ff87aed9ba13": {
      "model_module": "@jupyter-widgets/controls",
      "model_module_version": "2.0.0",
      "model_name": "ProgressStyleModel",
      "state": {
       "_model_module": "@jupyter-widgets/controls",
       "_model_module_version": "2.0.0",
       "_model_name": "ProgressStyleModel",
       "_view_count": null,
       "_view_module": "@jupyter-widgets/base",
       "_view_module_version": "2.0.0",
       "_view_name": "StyleView",
       "bar_color": null,
       "description_width": ""
      }
     },
     "13a8f9cc370249dd925288949bfc9edf": {
      "model_module": "@jupyter-widgets/base",
      "model_module_version": "2.0.0",
      "model_name": "LayoutModel",
      "state": {
       "_model_module": "@jupyter-widgets/base",
       "_model_module_version": "2.0.0",
       "_model_name": "LayoutModel",
       "_view_count": null,
       "_view_module": "@jupyter-widgets/base",
       "_view_module_version": "2.0.0",
       "_view_name": "LayoutView",
       "align_content": null,
       "align_items": null,
       "align_self": null,
       "border_bottom": null,
       "border_left": null,
       "border_right": null,
       "border_top": null,
       "bottom": null,
       "display": null,
       "flex": null,
       "flex_flow": null,
       "grid_area": null,
       "grid_auto_columns": null,
       "grid_auto_flow": null,
       "grid_auto_rows": null,
       "grid_column": null,
       "grid_gap": null,
       "grid_row": null,
       "grid_template_areas": null,
       "grid_template_columns": null,
       "grid_template_rows": null,
       "height": null,
       "justify_content": null,
       "justify_items": null,
       "left": null,
       "margin": null,
       "max_height": null,
       "max_width": null,
       "min_height": null,
       "min_width": null,
       "object_fit": null,
       "object_position": null,
       "order": null,
       "overflow": null,
       "padding": null,
       "right": null,
       "top": null,
       "visibility": null,
       "width": null
      }
     },
     "178ca10f8c274b1db21927ace637f804": {
      "model_module": "@jupyter-widgets/base",
      "model_module_version": "2.0.0",
      "model_name": "LayoutModel",
      "state": {
       "_model_module": "@jupyter-widgets/base",
       "_model_module_version": "2.0.0",
       "_model_name": "LayoutModel",
       "_view_count": null,
       "_view_module": "@jupyter-widgets/base",
       "_view_module_version": "2.0.0",
       "_view_name": "LayoutView",
       "align_content": null,
       "align_items": null,
       "align_self": null,
       "border_bottom": null,
       "border_left": null,
       "border_right": null,
       "border_top": null,
       "bottom": null,
       "display": null,
       "flex": null,
       "flex_flow": null,
       "grid_area": null,
       "grid_auto_columns": null,
       "grid_auto_flow": null,
       "grid_auto_rows": null,
       "grid_column": null,
       "grid_gap": null,
       "grid_row": null,
       "grid_template_areas": null,
       "grid_template_columns": null,
       "grid_template_rows": null,
       "height": null,
       "justify_content": null,
       "justify_items": null,
       "left": null,
       "margin": null,
       "max_height": null,
       "max_width": null,
       "min_height": null,
       "min_width": null,
       "object_fit": null,
       "object_position": null,
       "order": null,
       "overflow": null,
       "padding": null,
       "right": null,
       "top": null,
       "visibility": null,
       "width": null
      }
     },
     "301badb2072f4554977182fa220af6eb": {
      "model_module": "@jupyter-widgets/controls",
      "model_module_version": "2.0.0",
      "model_name": "HTMLModel",
      "state": {
       "_dom_classes": [],
       "_model_module": "@jupyter-widgets/controls",
       "_model_module_version": "2.0.0",
       "_model_name": "HTMLModel",
       "_view_count": null,
       "_view_module": "@jupyter-widgets/controls",
       "_view_module_version": "2.0.0",
       "_view_name": "HTMLView",
       "description": "",
       "description_allow_html": false,
       "layout": "IPY_MODEL_ea31aea811ed49fbaa131ec82909aafe",
       "placeholder": "​",
       "style": "IPY_MODEL_686bd8158f334c9ca63b483586e3c49f",
       "tabbable": null,
       "tooltip": null,
       "value": " 4/4 [00:38&lt;00:00,  9.95s/it]"
      }
     },
     "318f159dd5234779a1778fe27fdbf76b": {
      "model_module": "@jupyter-widgets/controls",
      "model_module_version": "2.0.0",
      "model_name": "FloatProgressModel",
      "state": {
       "_dom_classes": [],
       "_model_module": "@jupyter-widgets/controls",
       "_model_module_version": "2.0.0",
       "_model_name": "FloatProgressModel",
       "_view_count": null,
       "_view_module": "@jupyter-widgets/controls",
       "_view_module_version": "2.0.0",
       "_view_name": "ProgressView",
       "bar_style": "success",
       "description": "",
       "description_allow_html": false,
       "layout": "IPY_MODEL_13a8f9cc370249dd925288949bfc9edf",
       "max": 4.0,
       "min": 0.0,
       "orientation": "horizontal",
       "style": "IPY_MODEL_0b0d8cd60c6842239cf0ff87aed9ba13",
       "tabbable": null,
       "tooltip": null,
       "value": 4.0
      }
     },
     "506cb94c08214f87b25bc16650e9216d": {
      "model_module": "@jupyter-widgets/base",
      "model_module_version": "2.0.0",
      "model_name": "LayoutModel",
      "state": {
       "_model_module": "@jupyter-widgets/base",
       "_model_module_version": "2.0.0",
       "_model_name": "LayoutModel",
       "_view_count": null,
       "_view_module": "@jupyter-widgets/base",
       "_view_module_version": "2.0.0",
       "_view_name": "LayoutView",
       "align_content": null,
       "align_items": null,
       "align_self": null,
       "border_bottom": null,
       "border_left": null,
       "border_right": null,
       "border_top": null,
       "bottom": null,
       "display": null,
       "flex": null,
       "flex_flow": null,
       "grid_area": null,
       "grid_auto_columns": null,
       "grid_auto_flow": null,
       "grid_auto_rows": null,
       "grid_column": null,
       "grid_gap": null,
       "grid_row": null,
       "grid_template_areas": null,
       "grid_template_columns": null,
       "grid_template_rows": null,
       "height": null,
       "justify_content": null,
       "justify_items": null,
       "left": null,
       "margin": null,
       "max_height": null,
       "max_width": null,
       "min_height": null,
       "min_width": null,
       "object_fit": null,
       "object_position": null,
       "order": null,
       "overflow": null,
       "padding": null,
       "right": null,
       "top": null,
       "visibility": null,
       "width": null
      }
     },
     "686bd8158f334c9ca63b483586e3c49f": {
      "model_module": "@jupyter-widgets/controls",
      "model_module_version": "2.0.0",
      "model_name": "HTMLStyleModel",
      "state": {
       "_model_module": "@jupyter-widgets/controls",
       "_model_module_version": "2.0.0",
       "_model_name": "HTMLStyleModel",
       "_view_count": null,
       "_view_module": "@jupyter-widgets/base",
       "_view_module_version": "2.0.0",
       "_view_name": "StyleView",
       "background": null,
       "description_width": "",
       "font_size": null,
       "text_color": null
      }
     },
     "72d6b4d23f4240018194558c01b7172a": {
      "model_module": "@jupyter-widgets/controls",
      "model_module_version": "2.0.0",
      "model_name": "HTMLModel",
      "state": {
       "_dom_classes": [],
       "_model_module": "@jupyter-widgets/controls",
       "_model_module_version": "2.0.0",
       "_model_name": "HTMLModel",
       "_view_count": null,
       "_view_module": "@jupyter-widgets/controls",
       "_view_module_version": "2.0.0",
       "_view_name": "HTMLView",
       "description": "",
       "description_allow_html": false,
       "layout": "IPY_MODEL_178ca10f8c274b1db21927ace637f804",
       "placeholder": "​",
       "style": "IPY_MODEL_b6b0fb6610834a40914f03f4223d5859",
       "tabbable": null,
       "tooltip": null,
       "value": "100%"
      }
     },
     "b6b0fb6610834a40914f03f4223d5859": {
      "model_module": "@jupyter-widgets/controls",
      "model_module_version": "2.0.0",
      "model_name": "HTMLStyleModel",
      "state": {
       "_model_module": "@jupyter-widgets/controls",
       "_model_module_version": "2.0.0",
       "_model_name": "HTMLStyleModel",
       "_view_count": null,
       "_view_module": "@jupyter-widgets/base",
       "_view_module_version": "2.0.0",
       "_view_name": "StyleView",
       "background": null,
       "description_width": "",
       "font_size": null,
       "text_color": null
      }
     },
     "bea8ede7f0114eb3a5b304b01c89a8aa": {
      "model_module": "@jupyter-widgets/controls",
      "model_module_version": "2.0.0",
      "model_name": "HBoxModel",
      "state": {
       "_dom_classes": [],
       "_model_module": "@jupyter-widgets/controls",
       "_model_module_version": "2.0.0",
       "_model_name": "HBoxModel",
       "_view_count": null,
       "_view_module": "@jupyter-widgets/controls",
       "_view_module_version": "2.0.0",
       "_view_name": "HBoxView",
       "box_style": "",
       "children": [
        "IPY_MODEL_72d6b4d23f4240018194558c01b7172a",
        "IPY_MODEL_318f159dd5234779a1778fe27fdbf76b",
        "IPY_MODEL_301badb2072f4554977182fa220af6eb"
       ],
       "layout": "IPY_MODEL_506cb94c08214f87b25bc16650e9216d",
       "tabbable": null,
       "tooltip": null
      }
     },
     "ea31aea811ed49fbaa131ec82909aafe": {
      "model_module": "@jupyter-widgets/base",
      "model_module_version": "2.0.0",
      "model_name": "LayoutModel",
      "state": {
       "_model_module": "@jupyter-widgets/base",
       "_model_module_version": "2.0.0",
       "_model_name": "LayoutModel",
       "_view_count": null,
       "_view_module": "@jupyter-widgets/base",
       "_view_module_version": "2.0.0",
       "_view_name": "LayoutView",
       "align_content": null,
       "align_items": null,
       "align_self": null,
       "border_bottom": null,
       "border_left": null,
       "border_right": null,
       "border_top": null,
       "bottom": null,
       "display": null,
       "flex": null,
       "flex_flow": null,
       "grid_area": null,
       "grid_auto_columns": null,
       "grid_auto_flow": null,
       "grid_auto_rows": null,
       "grid_column": null,
       "grid_gap": null,
       "grid_row": null,
       "grid_template_areas": null,
       "grid_template_columns": null,
       "grid_template_rows": null,
       "height": null,
       "justify_content": null,
       "justify_items": null,
       "left": null,
       "margin": null,
       "max_height": null,
       "max_width": null,
       "min_height": null,
       "min_width": null,
       "object_fit": null,
       "object_position": null,
       "order": null,
       "overflow": null,
       "padding": null,
       "right": null,
       "top": null,
       "visibility": null,
       "width": null
      }
     }
    },
    "version_major": 2,
    "version_minor": 0
   }
  }
 },
 "nbformat": 4,
 "nbformat_minor": 5
}