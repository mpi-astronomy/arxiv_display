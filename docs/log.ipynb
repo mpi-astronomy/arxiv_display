{
 "cells": [
  {
   "cell_type": "markdown",
   "id": "92bcb855",
   "metadata": {
    "papermill": {
     "duration": 0.004019,
     "end_time": "2024-11-29T04:11:45.366195",
     "exception": false,
     "start_time": "2024-11-29T04:11:45.362176",
     "status": "completed"
    },
    "tags": []
   },
   "source": [
    "# MPIA Arxiv on Deck 2\n",
    "\n",
    "Contains the steps to produce the paper extractions."
   ]
  },
  {
   "cell_type": "code",
   "execution_count": 1,
   "id": "3a0d6e11",
   "metadata": {
    "execution": {
     "iopub.execute_input": "2024-11-29T04:11:45.373656Z",
     "iopub.status.busy": "2024-11-29T04:11:45.373379Z",
     "iopub.status.idle": "2024-11-29T04:11:45.712125Z",
     "shell.execute_reply": "2024-11-29T04:11:45.711482Z"
    },
    "papermill": {
     "duration": 0.344007,
     "end_time": "2024-11-29T04:11:45.713489",
     "exception": false,
     "start_time": "2024-11-29T04:11:45.369482",
     "status": "completed"
    },
    "tags": []
   },
   "outputs": [],
   "source": [
    "# Imports\n",
    "import os\n",
    "from IPython.display import Markdown, display\n",
    "from tqdm.notebook import tqdm\n",
    "import warnings\n",
    "from PIL import Image \n",
    "import re\n",
    "\n",
    "# requires arxiv_on_deck_2\n",
    "\n",
    "from arxiv_on_deck_2.arxiv2 import (get_new_papers, \n",
    "                                    get_paper_from_identifier,\n",
    "                                    retrieve_document_source, \n",
    "                                    get_markdown_badge)\n",
    "from arxiv_on_deck_2 import (latex,\n",
    "                             latex_bib,\n",
    "                             mpia,\n",
    "                             highlight_authors_in_list)\n",
    "\n",
    "# Sometimes images are really big\n",
    "Image.MAX_IMAGE_PIXELS = 1000000000 "
   ]
  },
  {
   "cell_type": "code",
   "execution_count": 2,
   "id": "22aa9d44",
   "metadata": {
    "execution": {
     "iopub.execute_input": "2024-11-29T04:11:45.721308Z",
     "iopub.status.busy": "2024-11-29T04:11:45.720767Z",
     "iopub.status.idle": "2024-11-29T04:11:45.728931Z",
     "shell.execute_reply": "2024-11-29T04:11:45.728379Z"
    },
    "papermill": {
     "duration": 0.013064,
     "end_time": "2024-11-29T04:11:45.729908",
     "exception": false,
     "start_time": "2024-11-29T04:11:45.716844",
     "status": "completed"
    },
    "tags": []
   },
   "outputs": [],
   "source": [
    "# Some useful definitions.\n",
    "\n",
    "class AffiliationWarning(UserWarning):\n",
    "    pass\n",
    "\n",
    "class AffiliationError(RuntimeError):\n",
    "    pass\n",
    "\n",
    "def validation(source: str):\n",
    "    \"\"\"Raises error paper during parsing of source file\n",
    "    \n",
    "    Allows checks before parsing TeX code.\n",
    "    \n",
    "    Raises AffiliationWarning\n",
    "    \"\"\"\n",
    "    check = mpia.affiliation_verifications(source, verbose=True)\n",
    "    if check is not True:\n",
    "        raise AffiliationError(\"mpia.affiliation_verifications: \" + check)\n",
    "\n",
    "        \n",
    "warnings.simplefilter('always', AffiliationWarning)\n",
    "\n",
    "\n",
    "def get_markdown_qrcode(paper_id: str):\n",
    "    \"\"\" Generate a qrcode to the arxiv page using qrserver.com\n",
    "    \n",
    "    :param paper: Arxiv paper\n",
    "    :returns: markdown text\n",
    "    \"\"\"\n",
    "    url = r\"https://api.qrserver.com/v1/create-qr-code/?size=100x100&data=\"\n",
    "    txt = f\"\"\"<img src={url}\"https://arxiv.org/abs/{paper_id}\">\"\"\"\n",
    "    txt = '<div id=\"qrcode\">' + txt + '</div>'\n",
    "    return txt\n",
    "\n",
    "\n",
    "def clean_non_western_encoded_characters_commands(text: str) -> str:\n",
    "    \"\"\" Remove non-western encoded characters from a string\n",
    "    List may need to grow.\n",
    "    \n",
    "    :param text: the text to clean\n",
    "    :return: the cleaned text\n",
    "    \"\"\"\n",
    "    text = re.sub(r\"(\\\\begin{CJK}{UTF8}{gbsn})(.*?)(\\\\end{CJK})\", r\"\\2\", text)\n",
    "    return text\n",
    "\n",
    "\n",
    "def get_initials(name: str) -> str:\n",
    "    \"\"\" Get the short name, e.g., A.-B. FamName\n",
    "    :param name: full name\n",
    "    :returns: initials\n",
    "    \"\"\"\n",
    "    initials = []\n",
    "    # account for non western names often in ()\n",
    "    if '(' in name:\n",
    "        name = clean_non_western_encoded_characters_commands(name)\n",
    "        suffix = re.findall(r\"\\((.*?)\\)\", name)[0]\n",
    "        name = name.replace(f\"({suffix})\", '')\n",
    "    else:\n",
    "        suffix = ''\n",
    "    split = name.split()\n",
    "    for token in split[:-1]:\n",
    "        if '-' in token:\n",
    "            current = '-'.join([k[0] + '.' for k in token.split('-')])\n",
    "        else:\n",
    "            current = token[0] + '.'\n",
    "        initials.append(current)\n",
    "    initials.append(split[-1].strip())\n",
    "    if suffix:\n",
    "        initials.append(f\"({suffix})\")\n",
    "    return ' '.join(initials)"
   ]
  },
  {
   "cell_type": "markdown",
   "id": "14bd6310",
   "metadata": {
    "papermill": {
     "duration": 0.002937,
     "end_time": "2024-11-29T04:11:45.736026",
     "exception": false,
     "start_time": "2024-11-29T04:11:45.733089",
     "status": "completed"
    },
    "tags": []
   },
   "source": [
    "## get list of arxiv paper candidates\n",
    "\n",
    "We use the MPIA mitarbeiter list webpage from mpia.de to get author names\n",
    "We then get all new papers from Arxiv and match authors"
   ]
  },
  {
   "cell_type": "code",
   "execution_count": 3,
   "id": "7ea813a8",
   "metadata": {
    "execution": {
     "iopub.execute_input": "2024-11-29T04:11:45.742971Z",
     "iopub.status.busy": "2024-11-29T04:11:45.742572Z",
     "iopub.status.idle": "2024-11-29T04:12:07.773549Z",
     "shell.execute_reply": "2024-11-29T04:12:07.772907Z"
    },
    "papermill": {
     "duration": 22.035828,
     "end_time": "2024-11-29T04:12:07.774808",
     "exception": false,
     "start_time": "2024-11-29T04:11:45.738980",
     "status": "completed"
    },
    "tags": []
   },
   "outputs": [],
   "source": [
    "# deal with the author list and edge cases of people that cannot be consistent on their name  \n",
    "\n",
    "def filter_non_scientists(name: str) -> bool:\n",
    "    \"\"\" Loose filter on expected authorships\n",
    "\n",
    "    removing IT, administration, technical staff\n",
    "    :param name: name\n",
    "    :returns: False if name is not a scientist\n",
    "    \"\"\"\n",
    "    remove_list = ['Licht', 'Binroth', 'Witzel', 'Jordan',\n",
    "                   'Zähringer', 'Scheerer', 'Hoffmann', 'Düe',\n",
    "                   'Hellmich', 'Enkler-Scharpegge', 'Witte-Nguy',\n",
    "                   'Dehen', 'Beckmann', 'Jager', 'Jäger'\n",
    "                  ]\n",
    "\n",
    "    for k in remove_list:\n",
    "        if k in name:\n",
    "            return False\n",
    "    return True\n",
    "\n",
    "def add_author_to_list(author_list: list) -> list:\n",
    "    \"\"\" Add author to list if not already in list\n",
    "    \n",
    "    :param author: author name\n",
    "    :param author_list: list of authors\n",
    "    :returns: updated list of authors\n",
    "    \"\"\"\n",
    "    add_list = ['T. Henning']\n",
    "\n",
    "    for author in add_list:\n",
    "        if author not in author_list:\n",
    "            author_list.append(author)\n",
    "    return author_list\n",
    "\n",
    "# get list from MPIA website\n",
    "# filter for non-scientists (mpia.get_mpia_mitarbeiter_list() does some filtering)\n",
    "mpia_authors = [k[1] for k in mpia.get_mpia_mitarbeiter_list() if filter_non_scientists(k[1])]\n",
    "# add some missing author because of inconsistencies in their MPIA name and author name on papers\n",
    "mpia_authors = add_author_to_list(mpia_authors)"
   ]
  },
  {
   "cell_type": "code",
   "execution_count": 4,
   "id": "2645e73a",
   "metadata": {
    "execution": {
     "iopub.execute_input": "2024-11-29T04:12:07.782311Z",
     "iopub.status.busy": "2024-11-29T04:12:07.781892Z",
     "iopub.status.idle": "2024-11-29T04:12:08.371494Z",
     "shell.execute_reply": "2024-11-29T04:12:08.370773Z"
    },
    "papermill": {
     "duration": 0.594436,
     "end_time": "2024-11-29T04:12:08.372604",
     "exception": false,
     "start_time": "2024-11-29T04:12:07.778168",
     "status": "completed"
    },
    "tags": []
   },
   "outputs": [
    {
     "name": "stdout",
     "output_type": "stream",
     "text": [
      "W. Brandner  ->  W. Brandner  |  ['W. Brandner']\n",
      "O. Krause  ->  O. Krause  |  ['O. Krause']\n",
      "M. Samland  ->  M. Samland  |  ['M. Samland']\n",
      "J. Liu  ->  J. Liu  |  ['J. Liu']\n",
      "Arxiv has 60 new papers today\n",
      "          2 with possible author matches\n"
     ]
    }
   ],
   "source": [
    "new_papers = get_new_papers()\n",
    "# add manual references\n",
    "add_paper_refs = []\n",
    "new_papers.extend([get_paper_from_identifier(k) for k in add_paper_refs])\n",
    "\n",
    "def robust_call(fn, value, *args, **kwargs):\n",
    "    try:\n",
    "        return fn(value, *args, **kwargs)\n",
    "    except Exception:\n",
    "        return value\n",
    "\n",
    "candidates = []\n",
    "for paperk in new_papers:\n",
    "    # Check author list with their initials\n",
    "    normed_author_list = [robust_call(mpia.get_initials, k) for k in paperk['authors']]\n",
    "    hl_authors = highlight_authors_in_list(normed_author_list, mpia_authors, verbose=True)\n",
    "    matches = [(hl, orig) for hl, orig in zip(hl_authors, paperk['authors']) if 'mark' in hl]\n",
    "    paperk['authors'] = hl_authors\n",
    "    if matches:\n",
    "        # only select paper if an author matched our list\n",
    "        candidates.append(paperk)\n",
    "print(\"\"\"Arxiv has {0:,d} new papers today\"\"\".format(len(new_papers)))        \n",
    "print(\"\"\"          {0:,d} with possible author matches\"\"\".format(len(candidates)))"
   ]
  },
  {
   "cell_type": "markdown",
   "id": "3543b34a",
   "metadata": {
    "papermill": {
     "duration": 0.003149,
     "end_time": "2024-11-29T04:12:08.379268",
     "exception": false,
     "start_time": "2024-11-29T04:12:08.376119",
     "status": "completed"
    },
    "tags": []
   },
   "source": [
    "# Parse sources and generate relevant outputs\n",
    "\n",
    "From the candidates, we do the following steps:\n",
    "* get their tarball from ArXiv (and extract data)\n",
    "* find the main .tex file: find one with \\documentclass{...} (sometimes it's non trivial)\n",
    "* Check affiliations with :func:`validation`, which uses :func:`mpia.affiliation_verifications`\n",
    "* If passing the affiliations: we parse the .tex source\n",
    "   * inject sub-documents into the main (flatten the main document)\n",
    "   * parse structure, extract information (title, abstract, authors, figures...)\n",
    "   * handles `\\graphicspath` if provided\n",
    "* Generate the .md document."
   ]
  },
  {
   "cell_type": "code",
   "execution_count": 5,
   "id": "9576b79e",
   "metadata": {
    "execution": {
     "iopub.execute_input": "2024-11-29T04:12:08.386494Z",
     "iopub.status.busy": "2024-11-29T04:12:08.386104Z",
     "iopub.status.idle": "2024-11-29T04:12:13.095998Z",
     "shell.execute_reply": "2024-11-29T04:12:13.095247Z"
    },
    "papermill": {
     "duration": 4.715017,
     "end_time": "2024-11-29T04:12:13.097409",
     "exception": false,
     "start_time": "2024-11-29T04:12:08.382392",
     "status": "completed"
    },
    "scrolled": false,
    "tags": []
   },
   "outputs": [
    {
     "data": {
      "application/vnd.jupyter.widget-view+json": {
       "model_id": "a445c7b823cb40d8ae2618bdd4e424d9",
       "version_major": 2,
       "version_minor": 0
      },
      "text/plain": [
       "  0%|          | 0/2 [00:00<?, ?it/s]"
      ]
     },
     "metadata": {},
     "output_type": "display_data"
    },
    {
     "name": "stdout",
     "output_type": "stream",
     "text": [
      "Retrieving document from  https://arxiv.org/e-print/2411.17868\n"
     ]
    },
    {
     "name": "stdout",
     "output_type": "stream",
     "text": [
      "extracting tarball to tmp_2411.17868... done.\n"
     ]
    },
    {
     "name": "stdout",
     "output_type": "stream",
     "text": [
      "W. Brandner  ->  W. Brandner  |  ['W. Brandner']\n",
      "O. Krause  ->  O. Krause  |  ['O. Krause']\n",
      "M. Samland  ->  M. Samland  |  ['M. Samland']\n"
     ]
    },
    {
     "name": "stdout",
     "output_type": "stream",
     "text": [
      "Found 38 bibliographic references in tmp_2411.17868/main.bbl.\n",
      "Retrieving document from  https://arxiv.org/e-print/2411.17969\n",
      "extracting tarball to tmp_2411.17969... done.\n"
     ]
    },
    {
     "name": "stderr",
     "output_type": "stream",
     "text": [
      "/opt/hostedtoolcache/Python/3.9.20/x64/lib/python3.9/site-packages/arxiv_on_deck_2/latex_bib.py:132: UserWarning: Error processing bibitem\n",
      " item = \\bibitem{2020arXiv200805624M}{Mennesson}, B., {Juanola-Parramon}, R., {Nemati}, B., {Ruane}, G., {Bailey}, V.~P., {Bolcar}, M., {Martin}, S., {Zimmerman}, N., {Stark}, C., {Pueyo}, L., {Benford}, D., {Cady}, E., {Crill}, B., {Douglas}, E., {Gaudi}, B.~S., {Kasdin}, J., {Kern}, B., {Krist}, J., {Kruk}, J., {Luchik}, T., {Macintosh}, B., {Mandell}, A., {Mawet}, D., {McEnery}, J., {Meshkat}, T., {Poberezhskiy}, I., {Rhodes}, J., {Riggs}, A.~J., {Turnbull}, M., {Roberge}, A., {Shi}, F., {Siegler}, N., {Stapelfeldt}, K., {Ygouf}, M., {Zellem}, R., and {Zhao}, F., ``{Paving the Way to Future Missions: the Roman Space Telescope Coronagraph Technology Demonstration},'' {\\em arXiv e-prints} ,  arXiv:2008.05624 (Aug. 2020).\n",
      " regex = \n",
      "        \\\\bibitem(\\[[^\\[\\]]*?\\]){(?P<bibkey>[a-zA-Z0-9\\-\\+\\.\\S]+?)}(?P<authors>|([\\D]*?))(?P<year>[12][0-9]{3})(?P<rest>.*)\n",
      "        \n",
      "  warnings.warn(str(e))\n",
      "/opt/hostedtoolcache/Python/3.9.20/x64/lib/python3.9/site-packages/arxiv_on_deck_2/latex_bib.py:132: UserWarning: Error processing bibitem\n",
      " item = \\bibitem{2020SPIE11443E..1UK}{Kasdin}, N.~J., {Bailey}, V.~P., {Mennesson}, B., {Zellem}, R.~T., {Ygouf}, M., {Rhodes}, J., {Luchik}, T., {Zhao}, F., {Riggs}, A.~J.~E., {Seo}, B.-J., {Krist}, J., {Kern}, B., {Tang}, H., {Nemati}, B., {Groff}, T.~D., {Zimmerman}, N., {Macintosh}, B., {Turnbull}, M., {Debes}, J., {Douglas}, E.~S., and {Lupu}, R.~E., ``{The Nancy Grace Roman Space Telescope Coronagraph Instrument (CGI) technology demonstration},'' in [{\\em Space Telescopes and Instrumentation 2020: Optical, Infrared, and Millimeter Wave}{\\nolinebreak\\hspace{0.1em}]},  {Lystrup}, M. and {Perrin}, M.~D., eds., {\\em Society of Photo-Optical Instrumentation Engineers (SPIE) Conference Series} {\\bf 11443},  114431U (Dec. 2020).\n",
      " regex = \n",
      "        \\\\bibitem(\\[[^\\[\\]]*?\\]){(?P<bibkey>[a-zA-Z0-9\\-\\+\\.\\S]+?)}(?P<authors>|([\\D]*?))(?P<year>[12][0-9]{3})(?P<rest>.*)\n",
      "        \n",
      "  warnings.warn(str(e))\n",
      "/opt/hostedtoolcache/Python/3.9.20/x64/lib/python3.9/site-packages/arxiv_on_deck_2/latex_bib.py:132: UserWarning: Error processing bibitem\n",
      " item = \\bibitem{2023SPIE12680E..0TB}{Bailey}, V.~P., {Bendek}, E., {Monacelli}, B., {Baker}, C., {Bedrosian}, G., {Cady}, E., {Douglas}, E.~S., {Groff}, T., {Hildebrandt}, S.~R., {Kasdin}, N.~J., {Krist}, J., {Macintosh}, B., {Mennesson}, B., {Morrissey}, P., {Poberezhskiy}, I., {Subedi}, H.~B., {Rhodes}, J., {Roberge}, A., {Ygouf}, M., {Zellem}, R.~T., {Zhao}, F., and {Zimmerman}, N.~T., ``{Nancy Grace Roman Space Telescope coronagraph instrument overview and status},'' in [{\\em Society of Photo-Optical Instrumentation Engineers (SPIE) Conference Series}{\\nolinebreak\\hspace{0.1em}]},  {\\em Society of Photo-Optical Instrumentation Engineers (SPIE) Conference Series} {\\bf 12680},  126800T (Oct. 2023).\n",
      " regex = \n",
      "        \\\\bibitem(\\[[^\\[\\]]*?\\]){(?P<bibkey>[a-zA-Z0-9\\-\\+\\.\\S]+?)}(?P<authors>|([\\D]*?))(?P<year>[12][0-9]{3})(?P<rest>.*)\n",
      "        \n",
      "  warnings.warn(str(e))\n",
      "/opt/hostedtoolcache/Python/3.9.20/x64/lib/python3.9/site-packages/arxiv_on_deck_2/latex_bib.py:132: UserWarning: Error processing bibitem\n",
      " item = \\bibitem{2022PASP..134b4402D}{Douglas}, E.~S., {Debes}, J., {Mennesson}, B., {Nemati}, B., {Ashcraft}, J., {Ren}, B., {Stapelfeldt}, K.~R., {Savransky}, D., {Lewis}, N.~K., and {Macintosh}, B., ``{Sensitivity of the Roman Coronagraph Instrument to Exozodiacal Dust},'' {\\em \\pasp}~{\\bf 134},  024402 (Feb. 2022).\n",
      " regex = \n",
      "        \\\\bibitem(\\[[^\\[\\]]*?\\]){(?P<bibkey>[a-zA-Z0-9\\-\\+\\.\\S]+?)}(?P<authors>|([\\D]*?))(?P<year>[12][0-9]{3})(?P<rest>.*)\n",
      "        \n",
      "  warnings.warn(str(e))\n",
      "/opt/hostedtoolcache/Python/3.9.20/x64/lib/python3.9/site-packages/arxiv_on_deck_2/latex_bib.py:132: UserWarning: Error processing bibitem\n",
      " item = \\bibitem{spie_cpp}Savransky, D., ``{The Nancy Grace Roman Space Telescope Coronagraph Community Participation Program},'' in [{\\em Space Telescopes and Instrumentation 2024: Optical, Infrared, and Millimeter Wave}{\\nolinebreak\\hspace{0.1em}]},   {\\bf 13092}, International Society for Optics and Photonics, SPIE (2024).\n",
      " regex = \n",
      "        \\\\bibitem(\\[[^\\[\\]]*?\\]){(?P<bibkey>[a-zA-Z0-9\\-\\+\\.\\S]+?)}(?P<authors>|([\\D]*?))(?P<year>[12][0-9]{3})(?P<rest>.*)\n",
      "        \n",
      "  warnings.warn(str(e))\n",
      "/opt/hostedtoolcache/Python/3.9.20/x64/lib/python3.9/site-packages/arxiv_on_deck_2/latex_bib.py:132: UserWarning: Error processing bibitem\n",
      " item = \\bibitem{spie_drp}Millar-Blanchaer, M.~A., ``{The Roman Coronagraph Community Participation Program: data reduction pipeline and simulations},'' in [{\\em Space Telescopes and Instrumentation 2024: Optical, Infrared, and Millimeter Wave}{\\nolinebreak\\hspace{0.1em}]},   {\\bf 13092}, International Society for Optics and Photonics, SPIE (2024).\n",
      " regex = \n",
      "        \\\\bibitem(\\[[^\\[\\]]*?\\]){(?P<bibkey>[a-zA-Z0-9\\-\\+\\.\\S]+?)}(?P<authors>|([\\D]*?))(?P<year>[12][0-9]{3})(?P<rest>.*)\n",
      "        \n",
      "  warnings.warn(str(e))\n",
      "/opt/hostedtoolcache/Python/3.9.20/x64/lib/python3.9/site-packages/arxiv_on_deck_2/latex_bib.py:132: UserWarning: Error processing bibitem\n",
      " item = \\bibitem{2022SPIE12180E..1ZZ}{Zellem}, R.~T., {Nemati}, B., {Gonzalez}, G., {Ygouf}, M., {Bailey}, V.~P., {Cady}, E.~J., {Colavita}, M.~M., {Hildebrandt}, S.~R., {Maier}, E.~R., {Mennesson}, B., {Payne}, L., {Zimmerman}, N.~T., {Belikov}, R., {De Rosa}, R.~J., {Debes}, J., {Douglas}, E.~S., {Girard}, J., {Groff}, T., {Kasdin}, J., {Lowrance}, P.~J., {Macintosh}, B., {Ryan}, D., and {Weisberg}, C., ``{Nancy Grace Roman Space Telescope coronagraph instrument observation calibration plan},'' in [{\\em Space Telescopes and Instrumentation 2022: Optical, Infrared, and Millimeter Wave}{\\nolinebreak\\hspace{0.1em}]},  {Coyle}, L.~E., {Matsuura}, S., and {Perrin}, M.~D., eds., {\\em Society of Photo-Optical Instrumentation Engineers (SPIE) Conference Series} {\\bf 12180},  121801Z (Aug. 2022).\n",
      " regex = \n",
      "        \\\\bibitem(\\[[^\\[\\]]*?\\]){(?P<bibkey>[a-zA-Z0-9\\-\\+\\.\\S]+?)}(?P<authors>|([\\D]*?))(?P<year>[12][0-9]{3})(?P<rest>.*)\n",
      "        \n",
      "  warnings.warn(str(e))\n",
      "/opt/hostedtoolcache/Python/3.9.20/x64/lib/python3.9/site-packages/arxiv_on_deck_2/latex_bib.py:132: UserWarning: Error processing bibitem\n",
      " item = \\bibitem{2021SPIE11823E..1YR}{Riggs}, A.~J.~E., {Bailey}, V., {Moody}, D.~C., {Sidick}, E., {Balasubramanian}, K., {Moore}, D.~M., {Wilson}, D.~W., {Ruane}, G., {Sirbu}, D., {Gersh-Range}, J., {Trauger}, J., {Mennesson}, B., {Siegler}, N., {Bendek}, E., {Groff}, T.~D., {Zimmerman}, N.~T., {Debes}, J., {Basinger}, S.~A., and {Kasdin}, N.~J., ``{Flight mask designs of the Roman Space Telescope coronagraph instrument},'' in [{\\em Techniques and Instrumentation for Detection of Exoplanets X}{\\nolinebreak\\hspace{0.1em}]},  {Shaklan}, S.~B. and {Ruane}, G.~J., eds., {\\em Society of Photo-Optical Instrumentation Engineers (SPIE) Conference Series} {\\bf 11823},  118231Y (Sept. 2021).\n",
      " regex = \n",
      "        \\\\bibitem(\\[[^\\[\\]]*?\\]){(?P<bibkey>[a-zA-Z0-9\\-\\+\\.\\S]+?)}(?P<authors>|([\\D]*?))(?P<year>[12][0-9]{3})(?P<rest>.*)\n",
      "        \n",
      "  warnings.warn(str(e))\n",
      "/opt/hostedtoolcache/Python/3.9.20/x64/lib/python3.9/site-packages/arxiv_on_deck_2/latex_bib.py:132: UserWarning: Error processing bibitem\n",
      " item = \\bibitem{2014A&A...564A.102C}{Czekaj}, M.~A., {Robin}, A.~C., {Figueras}, F., {Luri}, X., and {Haywood}, M., ``{The Besan{ç}on Galaxy model renewed. I. Constraints on the local star formation history from Tycho data},'' {\\em \\aap}~{\\bf 564},  A102 (Apr. 2014).\n",
      " regex = \n",
      "        \\\\bibitem(\\[[^\\[\\]]*?\\]){(?P<bibkey>[a-zA-Z0-9\\-\\+\\.\\S]+?)}(?P<authors>|([\\D]*?))(?P<year>[12][0-9]{3})(?P<rest>.*)\n",
      "        \n",
      "  warnings.warn(str(e))\n",
      "/opt/hostedtoolcache/Python/3.9.20/x64/lib/python3.9/site-packages/arxiv_on_deck_2/latex_bib.py:132: UserWarning: Error processing bibitem\n",
      " item = \\bibitem{2021arXiv211008097C}{Cracraft}, M., {De Rosa}, R.~J., {Sparks}, W., {Bailey}, V.~P., and {Turnbull}, M., ``{Characterizing the Galactic and Extragalactic Background Near Exoplanet Direct Imaging Targets},'' {\\em arXiv} ,  2110.08097 (2021).\n",
      " regex = \n",
      "        \\\\bibitem(\\[[^\\[\\]]*?\\]){(?P<bibkey>[a-zA-Z0-9\\-\\+\\.\\S]+?)}(?P<authors>|([\\D]*?))(?P<year>[12][0-9]{3})(?P<rest>.*)\n",
      "        \n",
      "  warnings.warn(str(e))\n",
      "/opt/hostedtoolcache/Python/3.9.20/x64/lib/python3.9/site-packages/arxiv_on_deck_2/latex_bib.py:132: UserWarning: Error processing bibitem\n",
      " item = \\bibitem{2015ApJS..216....7B}{Bowler}, B.~P., {Liu}, M.~C., {Shkolnik}, E.~L., and {Tamura}, M., ``{Planets around Low-mass Stars (PALMS). IV. The Outer Architecture of M Dwarf Planetary Systems},'' {\\em \\apjs}~{\\bf 216},  7 (Jan. 2015).\n",
      " regex = \n",
      "        \\\\bibitem(\\[[^\\[\\]]*?\\]){(?P<bibkey>[a-zA-Z0-9\\-\\+\\.\\S]+?)}(?P<authors>|([\\D]*?))(?P<year>[12][0-9]{3})(?P<rest>.*)\n",
      "        \n",
      "  warnings.warn(str(e))\n",
      "/opt/hostedtoolcache/Python/3.9.20/x64/lib/python3.9/site-packages/arxiv_on_deck_2/latex_bib.py:132: UserWarning: Error processing bibitem\n",
      " item = \\bibitem{Service2016}{Service}, M., {Lu}, J.~R., {Campbell}, R., {Sitarski}, B.~N., {Ghez}, A.~M., and {Anderson}, J., ``{A New Distortion Solution for NIRC2 on the Keck II Telescope},'' {\\em \\pasp}~{\\bf 128},  095004 (Sept. 2016).\n",
      " regex = \n",
      "        \\\\bibitem(\\[[^\\[\\]]*?\\]){(?P<bibkey>[a-zA-Z0-9\\-\\+\\.\\S]+?)}(?P<authors>|([\\D]*?))(?P<year>[12][0-9]{3})(?P<rest>.*)\n",
      "        \n",
      "  warnings.warn(str(e))\n",
      "/opt/hostedtoolcache/Python/3.9.20/x64/lib/python3.9/site-packages/arxiv_on_deck_2/latex_bib.py:132: UserWarning: Error processing bibitem\n",
      " item = \\bibitem{Wang2014}{Wang}, J.~J., {Rajan}, A., {Graham}, J.~R., {Savransky}, D., {Ingraham}, P.~J., {Ward-Duong}, K., {Patience}, J., {De Rosa}, R.~J., {Bulger}, J., {Sivaramakrishnan}, A., {Perrin}, M.~D., {Thomas}, S.~J., {Sadakuni}, N., {Greenbaum}, A.~Z., {Pueyo}, L., {Marois}, C., {Oppenheimer}, B.~R., {Kalas}, P., {Cardwell}, A., {Goodsell}, S., {Hibon}, P., and {Rantakyr{ö}}, F.~T., ``{Gemini planet imager observational calibrations VIII: characterization and role of satellite spots},'' in [{\\em Ground-based and Airborne Instrumentation for Astronomy V}{\\nolinebreak\\hspace{0.1em}]},  {Ramsay}, S.~K., {McLean}, I.~S., and {Takami}, H., eds., {\\em Society of Photo-Optical Instrumentation Engineers (SPIE) Conference Series} {\\bf 9147},  914755 (July 2014).\n",
      " regex = \n",
      "        \\\\bibitem(\\[[^\\[\\]]*?\\]){(?P<bibkey>[a-zA-Z0-9\\-\\+\\.\\S]+?)}(?P<authors>|([\\D]*?))(?P<year>[12][0-9]{3})(?P<rest>.*)\n",
      "        \n",
      "  warnings.warn(str(e))\n",
      "/opt/hostedtoolcache/Python/3.9.20/x64/lib/python3.9/site-packages/arxiv_on_deck_2/latex_bib.py:132: UserWarning: Error processing bibitem\n",
      " item = \\bibitem{Pueyo2015}{Pueyo}, L., {Soummer}, R., {Hoffmann}, J., {Oppenheimer}, R., {Graham}, J.~R., {Zimmerman}, N., {Zhai}, C., {Wallace}, J.~K., {Vescelus}, F., {Veicht}, A., {Vasisht}, G., {Truong}, T., {Sivaramakrishnan}, A., {Shao}, M., {Roberts}, L.~C., J., {Roberts}, J.~E., {Rice}, E., {Parry}, I.~R., {Nilsson}, R., {Lockhart}, T., {Ligon}, E.~R., {King}, D., {Hinkley}, S., {Hillenbrand}, L., {Hale}, D., {Dekany}, R., {Crepp}, J.~R., {Cady}, E., {Burruss}, R., {Brenner}, D., {Beichman}, C., and {Baranec}, C., ``{Reconnaissance of the HR 8799 Exosolar System. II. Astrometry and Orbital Motion},'' {\\em \\apj}~{\\bf 803},  31 (Apr. 2015).\n",
      " regex = \n",
      "        \\\\bibitem(\\[[^\\[\\]]*?\\]){(?P<bibkey>[a-zA-Z0-9\\-\\+\\.\\S]+?)}(?P<authors>|([\\D]*?))(?P<year>[12][0-9]{3})(?P<rest>.*)\n",
      "        \n",
      "  warnings.warn(str(e))\n",
      "/opt/hostedtoolcache/Python/3.9.20/x64/lib/python3.9/site-packages/arxiv_on_deck_2/latex_bib.py:132: UserWarning: Error processing bibitem\n",
      " item = \\bibitem{Wang2015}{Wang}, J.~J., {Ruffio}, J.-B., {De Rosa}, R.~J., {Aguilar}, J., {Wolff}, S.~G., and {Pueyo}, L., ``{pyKLIP: PSF Subtraction for Exoplanets and Disks}.'' Astrophysics Source Code Library, record ascl:1506.001 (June 2015).\n",
      " regex = \n",
      "        \\\\bibitem(\\[[^\\[\\]]*?\\]){(?P<bibkey>[a-zA-Z0-9\\-\\+\\.\\S]+?)}(?P<authors>|([\\D]*?))(?P<year>[12][0-9]{3})(?P<rest>.*)\n",
      "        \n",
      "  warnings.warn(str(e))\n",
      "/opt/hostedtoolcache/Python/3.9.20/x64/lib/python3.9/site-packages/arxiv_on_deck_2/latex_bib.py:132: UserWarning: Error processing bibitem\n",
      " item = \\bibitem{Soummer2012}{Soummer}, R., {Pueyo}, L., and {Larkin}, J., ``{Detection and Characterization of Exoplanets and Disks Using Projections on Karhunen-Lo{è}ve Eigenimages},'' {\\em \\apjl}~{\\bf 755},  L28 (Aug. 2012).\n",
      " regex = \n",
      "        \\\\bibitem(\\[[^\\[\\]]*?\\]){(?P<bibkey>[a-zA-Z0-9\\-\\+\\.\\S]+?)}(?P<authors>|([\\D]*?))(?P<year>[12][0-9]{3})(?P<rest>.*)\n",
      "        \n",
      "  warnings.warn(str(e))\n",
      "/opt/hostedtoolcache/Python/3.9.20/x64/lib/python3.9/site-packages/arxiv_on_deck_2/latex_bib.py:132: UserWarning: Error processing bibitem\n",
      " item = \\bibitem{Marois2006}{Marois}, C., {Lafreni{è}re}, D., {Doyon}, R., {Macintosh}, B., and {Nadeau}, D., ``{Angular Differential Imaging: A Powerful High-Contrast Imaging Technique},'' {\\em \\apj}~{\\bf 641},  556--564 (Apr. 2006).\n",
      " regex = \n",
      "        \\\\bibitem(\\[[^\\[\\]]*?\\]){(?P<bibkey>[a-zA-Z0-9\\-\\+\\.\\S]+?)}(?P<authors>|([\\D]*?))(?P<year>[12][0-9]{3})(?P<rest>.*)\n",
      "        \n",
      "  warnings.warn(str(e))\n",
      "/opt/hostedtoolcache/Python/3.9.20/x64/lib/python3.9/site-packages/arxiv_on_deck_2/latex_bib.py:132: UserWarning: Error processing bibitem\n",
      " item = \\bibitem{2022JATIS...8a9002P}{Pogorelyuk}, L., {Krist}, J., {Nemati}, B., {Riggs}, A.~J.~E., {Miller}, S., {Pueyo}, L., {Kasdin}, N.~J., and {Cahoy}, K., ``{Dark hole maintenance with modal pairwise probing in numerical simulations of Roman coronagraph instrument},'' {\\em Journal of Astronomical Telescopes, Instruments, and Systems}~{\\bf 8},  019002 (Jan. 2022).\n",
      " regex = \n",
      "        \\\\bibitem(\\[[^\\[\\]]*?\\]){(?P<bibkey>[a-zA-Z0-9\\-\\+\\.\\S]+?)}(?P<authors>|([\\D]*?))(?P<year>[12][0-9]{3})(?P<rest>.*)\n",
      "        \n",
      "  warnings.warn(str(e))\n",
      "/opt/hostedtoolcache/Python/3.9.20/x64/lib/python3.9/site-packages/arxiv_on_deck_2/latex_bib.py:132: UserWarning: Error processing bibitem\n",
      " item = \\bibitem{2023JATIS...9d5002K}{Krist}, J.~E., {Steeves}, J.~B., {Dube}, B.~D., {Eldorado Riggs}, A.~J., {Kern}, B.~D., {Marx}, D.~S., {Cady}, E.~J., {Zhou}, H., {Poberezhskiy}, I.~Y., {Baker}, C.~W., {McGuire}, J.~P., {Nemati}, B., {Kuan}, G.~M., {Mennesson}, B., {Trauger}, J.~T., {Saini}, N.~S., and {Rafels}, S.~H., ``{End-to-end numerical modeling of the Roman Space Telescope coronagraph},'' {\\em Journal of Astronomical Telescopes, Instruments, and Systems}~{\\bf 9},  045002 (Oct. 2023).\n",
      " regex = \n",
      "        \\\\bibitem(\\[[^\\[\\]]*?\\]){(?P<bibkey>[a-zA-Z0-9\\-\\+\\.\\S]+?)}(?P<authors>|([\\D]*?))(?P<year>[12][0-9]{3})(?P<rest>.*)\n",
      "        \n",
      "  warnings.warn(str(e))\n",
      "/opt/hostedtoolcache/Python/3.9.20/x64/lib/python3.9/site-packages/arxiv_on_deck_2/latex_bib.py:132: UserWarning: Error processing bibitem\n",
      " item = \\bibitem{2016yCat.2345....0D}{Duvert}, G., ``{VizieR Online Data Catalog: JMDC : JMMC Measured Stellar Diameters Catalogue (Duvert, 2016)}.'' VizieR On-line Data Catalog: II/345. Originally published in: JMMC center (2016) (Nov. 2016).\n",
      " regex = \n",
      "        \\\\bibitem(\\[[^\\[\\]]*?\\]){(?P<bibkey>[a-zA-Z0-9\\-\\+\\.\\S]+?)}(?P<authors>|([\\D]*?))(?P<year>[12][0-9]{3})(?P<rest>.*)\n",
      "        \n",
      "  warnings.warn(str(e))\n",
      "/opt/hostedtoolcache/Python/3.9.20/x64/lib/python3.9/site-packages/arxiv_on_deck_2/latex_bib.py:132: UserWarning: Error processing bibitem\n",
      " item = \\bibitem{2017yCat.2346....0B}{Bourges}, L., {Mella}, G., {Lafrasse}, S., {Duvert}, G., {Chelli}, A., {Le Bouquin}, J.~B., {Delfosse}, X., and {Chesneau}, O., ``{VizieR Online Data Catalog: JMMC Stellar Diameters Catalogue - JSDC. Version 2 (Bourges+, 2017)}.'' VizieR On-line Data Catalog: II/346. Originally published in: 2014ASPC..485..223B (Jan. 2017).\n",
      " regex = \n",
      "        \\\\bibitem(\\[[^\\[\\]]*?\\]){(?P<bibkey>[a-zA-Z0-9\\-\\+\\.\\S]+?)}(?P<authors>|([\\D]*?))(?P<year>[12][0-9]{3})(?P<rest>.*)\n",
      "        \n",
      "  warnings.warn(str(e))\n",
      "/opt/hostedtoolcache/Python/3.9.20/x64/lib/python3.9/site-packages/arxiv_on_deck_2/latex_bib.py:132: UserWarning: Error processing bibitem\n",
      " item = \\bibitem{2017yCat..18330244S}{Stevens}, A.~L., {Fiege}, J.~D., {Leahy}, D.~A., and {Morsink}, S.~M., ``{VizieR Online Data Catalog: Pulse profiles for simulated thermonuclear bursts (Stevens+, 2016)}.'' VizieR On-line Data Catalog: J/ApJ/833/244. Originally published in: 2016ApJ...833..244S (May 2017).\n",
      " regex = \n",
      "        \\\\bibitem(\\[[^\\[\\]]*?\\]){(?P<bibkey>[a-zA-Z0-9\\-\\+\\.\\S]+?)}(?P<authors>|([\\D]*?))(?P<year>[12][0-9]{3})(?P<rest>.*)\n",
      "        \n",
      "  warnings.warn(str(e))\n",
      "/opt/hostedtoolcache/Python/3.9.20/x64/lib/python3.9/site-packages/arxiv_on_deck_2/latex_bib.py:132: UserWarning: Error processing bibitem\n",
      " item = \\bibitem{2017yCat..51530016S}{Swihart}, S.~J., {Garcia}, E.~V., {Stassun}, K.~G., {van Belle}, G., {Mutterspaugh}, M.~W., and {Elias}, N., ``{VizieR Online Data Catalog: Calibrator stars catalog for interferometers (Swihart+, 2017)}.'' VizieR On-line Data Catalog: J/AJ/153/16. Originally published in: 2017AJ....153...16S (Apr. 2017).\n",
      " regex = \n",
      "        \\\\bibitem(\\[[^\\[\\]]*?\\]){(?P<bibkey>[a-zA-Z0-9\\-\\+\\.\\S]+?)}(?P<authors>|([\\D]*?))(?P<year>[12][0-9]{3})(?P<rest>.*)\n",
      "        \n",
      "  warnings.warn(str(e))\n",
      "/opt/hostedtoolcache/Python/3.9.20/x64/lib/python3.9/site-packages/arxiv_on_deck_2/latex_bib.py:132: UserWarning: Error processing bibitem\n",
      " item = \\bibitem{2001AJ....122.3466M}{Mason}, B.~D., {Wycoff}, G.~L., {Hartkopf}, W.~I., {Douglass}, G.~G., and {Worley}, C.~E., ``{The 2001 US Naval Observatory Double Star CD-ROM. I. The Washington Double Star Catalog},'' {\\em \\aj}~{\\bf 122},  3466--3471 (Dec. 2001).\n",
      " regex = \n",
      "        \\\\bibitem(\\[[^\\[\\]]*?\\]){(?P<bibkey>[a-zA-Z0-9\\-\\+\\.\\S]+?)}(?P<authors>|([\\D]*?))(?P<year>[12][0-9]{3})(?P<rest>.*)\n",
      "        \n",
      "  warnings.warn(str(e))\n",
      "/opt/hostedtoolcache/Python/3.9.20/x64/lib/python3.9/site-packages/arxiv_on_deck_2/latex_bib.py:132: UserWarning: Error processing bibitem\n",
      " item = \\bibitem{2004A&A...424..727P}{Pourbaix}, D., {Tokovinin}, A.~A., {Batten}, A.~H., {Fekel}, F.~C., {Hartkopf}, W.~I., {Levato}, H., {Morrell}, N.~I., {Torres}, G., and {Udry}, S., ``{SB9: The ninth catalogue of spectroscopic binary orbits},'' {\\em \\aap}~{\\bf 424},  727--732 (Sept. 2004).\n",
      " regex = \n",
      "        \\\\bibitem(\\[[^\\[\\]]*?\\]){(?P<bibkey>[a-zA-Z0-9\\-\\+\\.\\S]+?)}(?P<authors>|([\\D]*?))(?P<year>[12][0-9]{3})(?P<rest>.*)\n",
      "        \n",
      "  warnings.warn(str(e))\n",
      "/opt/hostedtoolcache/Python/3.9.20/x64/lib/python3.9/site-packages/arxiv_on_deck_2/latex_bib.py:132: UserWarning: Error processing bibitem\n",
      " item = \\bibitem{2019A&A...623A..72K}{Kervella}, P., {Arenou}, F., {Mignard}, F., and {Th{é}venin}, F., ``{Stellar and substellar companions of nearby stars from Gaia DR2. Binarity from proper motion anomaly},'' {\\em \\aap}~{\\bf 623},  A72 (Mar. 2019).\n",
      " regex = \n",
      "        \\\\bibitem(\\[[^\\[\\]]*?\\]){(?P<bibkey>[a-zA-Z0-9\\-\\+\\.\\S]+?)}(?P<authors>|([\\D]*?))(?P<year>[12][0-9]{3})(?P<rest>.*)\n",
      "        \n",
      "  warnings.warn(str(e))\n",
      "/opt/hostedtoolcache/Python/3.9.20/x64/lib/python3.9/site-packages/arxiv_on_deck_2/latex_bib.py:132: UserWarning: Error processing bibitem\n",
      " item = \\bibitem{2022A&A...657A...7K}{Kervella}, P., {Arenou}, F., and {Th{é}venin}, F., ``{Stellar and substellar companions from Gaia EDR3. Proper-motion anomaly and resolved common proper-motion pairs},'' {\\em \\aap}~{\\bf 657},  A7 (Jan. 2022).\n",
      " regex = \n",
      "        \\\\bibitem(\\[[^\\[\\]]*?\\]){(?P<bibkey>[a-zA-Z0-9\\-\\+\\.\\S]+?)}(?P<authors>|([\\D]*?))(?P<year>[12][0-9]{3})(?P<rest>.*)\n",
      "        \n",
      "  warnings.warn(str(e))\n",
      "/opt/hostedtoolcache/Python/3.9.20/x64/lib/python3.9/site-packages/arxiv_on_deck_2/latex_bib.py:132: UserWarning: Error processing bibitem\n",
      " item = \\bibitem{2020SPIE11443E..38D}{Douglas}, E.~S., {Ashcraft}, J.~N., {Belikov}, R., {Debes}, J., {Kasdin}, J., {Krist}, J., {Lacy}, B.~I., {Nemati}, B., {Milani}, K., {Pogorelyuk}, L., {Riggs}, A.~J.~E., {Savransky}, D., and {Sirbu}, D., ``{A review of simulation and performance modeling tools for the Roman coronagraph instrument},'' in [{\\em Space Telescopes and Instrumentation 2020: Optical, Infrared, and Millimeter Wave}{\\nolinebreak\\hspace{0.1em}]},  {Lystrup}, M. and {Perrin}, M.~D., eds., {\\em Society of Photo-Optical Instrumentation Engineers (SPIE) Conference Series} {\\bf 11443},  1144338 (Dec. 2020).\n",
      " regex = \n",
      "        \\\\bibitem(\\[[^\\[\\]]*?\\]){(?P<bibkey>[a-zA-Z0-9\\-\\+\\.\\S]+?)}(?P<authors>|([\\D]*?))(?P<year>[12][0-9]{3})(?P<rest>.*)\n",
      "        \n",
      "  warnings.warn(str(e))\n",
      "/opt/hostedtoolcache/Python/3.9.20/x64/lib/python3.9/site-packages/arxiv_on_deck_2/latex_bib.py:132: UserWarning: Error processing bibitem\n",
      " item = \\bibitem{2023PASP..135l5001A}{Anche}, R.~M., {Douglas}, E., {Milani}, K., {Ashcraft}, J., {Millar-Blanchaer}, M.~A., {Debes}, J.~H., {Milli}, J., and {Hom}, J., ``{Simulation of High-contrast Polarimetric Observations of Debris Disks with the Roman Coronagraph Instrument},'' {\\em \\pasp}~{\\bf 135},  125001 (Dec. 2023).\n",
      " regex = \n",
      "        \\\\bibitem(\\[[^\\[\\]]*?\\]){(?P<bibkey>[a-zA-Z0-9\\-\\+\\.\\S]+?)}(?P<authors>|([\\D]*?))(?P<year>[12][0-9]{3})(?P<rest>.*)\n",
      "        \n",
      "  warnings.warn(str(e))\n",
      "/opt/hostedtoolcache/Python/3.9.20/x64/lib/python3.9/site-packages/arxiv_on_deck_2/latex_bib.py:132: UserWarning: Error processing bibitem\n",
      " item = \\bibitem{batalha2018color}Batalha, N.~E., Smith, A.~J., Lewis, N.~K., Marley, M.~S., Fortney, J.~J., and Macintosh, B., ``Color classification of extrasolar giant planets: Prospects and cautions,'' {\\em The Astronomical Journal}~{\\bf 156}(4),  158 (2018).\n",
      " regex = \n",
      "        \\\\bibitem(\\[[^\\[\\]]*?\\]){(?P<bibkey>[a-zA-Z0-9\\-\\+\\.\\S]+?)}(?P<authors>|([\\D]*?))(?P<year>[12][0-9]{3})(?P<rest>.*)\n",
      "        \n",
      "  warnings.warn(str(e))\n",
      "/opt/hostedtoolcache/Python/3.9.20/x64/lib/python3.9/site-packages/arxiv_on_deck_2/latex_bib.py:132: UserWarning: Error processing bibitem\n",
      " item = \\bibitem{2020AJ....159...89B}{Blunt}, S., {Wang}, J.~J., {Angelo}, I., {Ngo}, H., {Cody}, D., {De Rosa}, R.~J., {Graham}, J.~R., {Hirsch}, L., {Nagpal}, V., {Nielsen}, E.~L., {Pearce}, L., {Rice}, M., and {Tejada}, R., ``{orbitize!: A Comprehensive Orbit-fitting Software Package for the High-contrast Imaging Community},'' {\\em \\aj}~{\\bf 159},  89 (Mar. 2020).\n",
      " regex = \n",
      "        \\\\bibitem(\\[[^\\[\\]]*?\\]){(?P<bibkey>[a-zA-Z0-9\\-\\+\\.\\S]+?)}(?P<authors>|([\\D]*?))(?P<year>[12][0-9]{3})(?P<rest>.*)\n",
      "        \n",
      "  warnings.warn(str(e))\n",
      "/opt/hostedtoolcache/Python/3.9.20/x64/lib/python3.9/site-packages/arxiv_on_deck_2/latex_bib.py:132: UserWarning: Error processing bibitem\n",
      " item = \\bibitem{2018PASP..130d4504F}{Fulton}, B.~J., {Petigura}, E.~A., {Blunt}, S., and {Sinukoff}, E., ``{RadVel: The Radial Velocity Modeling Toolkit},'' {\\em \\pasp}~{\\bf 130},  044504 (Apr. 2018).\n",
      " regex = \n",
      "        \\\\bibitem(\\[[^\\[\\]]*?\\]){(?P<bibkey>[a-zA-Z0-9\\-\\+\\.\\S]+?)}(?P<authors>|([\\D]*?))(?P<year>[12][0-9]{3})(?P<rest>.*)\n",
      "        \n",
      "  warnings.warn(str(e))\n",
      "/opt/hostedtoolcache/Python/3.9.20/x64/lib/python3.9/site-packages/arxiv_on_deck_2/latex_bib.py:132: UserWarning: Error processing bibitem\n",
      " item = \\bibitem{10.1117/1.JATIS.6.2.027001}Keithly, D.~R., Savransky, D., Garrett, D., Delacroix, C., and Soto, G., ``{Optimal scheduling of exoplanet direct imaging single-visit observations of a blind search survey},'' {\\em Journal of Astronomical Telescopes, Instruments, and Systems}~{\\bf 6}(2),  027001 (2020).\n",
      " regex = \n",
      "        \\\\bibitem(\\[[^\\[\\]]*?\\]){(?P<bibkey>[a-zA-Z0-9\\-\\+\\.\\S]+?)}(?P<authors>|([\\D]*?))(?P<year>[12][0-9]{3})(?P<rest>.*)\n",
      "        \n",
      "  warnings.warn(str(e))\n",
      "/opt/hostedtoolcache/Python/3.9.20/x64/lib/python3.9/site-packages/arxiv_on_deck_2/latex_bib.py:132: UserWarning: Error processing bibitem\n",
      " item = \\bibitem{10.1117/1.JATIS.2.1.011006}Savransky, D. and Garrett, D., ``{WFIRST-AFTA coronagraph science yield modeling with EXOSIMS},'' {\\em Journal of Astronomical Telescopes, Instruments, and Systems}~{\\bf 2}(1),  011006 (2015).\n",
      " regex = \n",
      "        \\\\bibitem(\\[[^\\[\\]]*?\\]){(?P<bibkey>[a-zA-Z0-9\\-\\+\\.\\S]+?)}(?P<authors>|([\\D]*?))(?P<year>[12][0-9]{3})(?P<rest>.*)\n",
      "        \n",
      "  warnings.warn(str(e))\n",
      "/opt/hostedtoolcache/Python/3.9.20/x64/lib/python3.9/site-packages/arxiv_on_deck_2/latex_bib.py:132: UserWarning: Error processing bibitem\n",
      " item = \\bibitem{10.1117/1.JATIS.6.3.039002}Nemati, B., Stahl, H.~P., Stahl, M.~T., Ruane, G. J.~J., and Sheldon, L.~J., ``{Method for deriving optical telescope performance specifications for Earth-detecting coronagraphs},'' {\\em Journal of Astronomical Telescopes, Instruments, and Systems}~{\\bf 6}(3),  039002 (2020).\n",
      " regex = \n",
      "        \\\\bibitem(\\[[^\\[\\]]*?\\]){(?P<bibkey>[a-zA-Z0-9\\-\\+\\.\\S]+?)}(?P<authors>|([\\D]*?))(?P<year>[12][0-9]{3})(?P<rest>.*)\n",
      "        \n",
      "  warnings.warn(str(e))\n",
      "/opt/hostedtoolcache/Python/3.9.20/x64/lib/python3.9/site-packages/arxiv_on_deck_2/latex_bib.py:132: UserWarning: Error processing bibitem\n",
      " item = \\bibitem{2017ascl.soft06010S}{Savransky}, D., {Delacroix}, C., and {Garrett}, D., ``{EXOSIMS: Exoplanet Open-Source Imaging Mission Simulator}.'' Astrophysics Source Code Library, record ascl:1706.010 (June 2017).\n",
      " regex = \n",
      "        \\\\bibitem(\\[[^\\[\\]]*?\\]){(?P<bibkey>[a-zA-Z0-9\\-\\+\\.\\S]+?)}(?P<authors>|([\\D]*?))(?P<year>[12][0-9]{3})(?P<rest>.*)\n",
      "        \n",
      "  warnings.warn(str(e))\n",
      "/opt/hostedtoolcache/Python/3.9.20/x64/lib/python3.9/site-packages/arxiv_on_deck_2/latex_bib.py:132: UserWarning: Error processing bibitem\n",
      " item = \\bibitem{10.1117/12.2575983}Nemati, B., ``{Photon counting and precision photometry for the Roman Space Telescope Coronagraph},'' in [{\\em Space Telescopes and Instrumentation 2020: Optical, Infrared, and Millimeter Wave}{\\nolinebreak\\hspace{0.1em}]},  Lystrup, M., Perrin, M.~D., Batalha, N., Siegler, N., and Tong, E.~C., eds.,  {\\bf 11443},  114435F, International Society for Optics and Photonics, SPIE (2020).\n",
      " regex = \n",
      "        \\\\bibitem(\\[[^\\[\\]]*?\\]){(?P<bibkey>[a-zA-Z0-9\\-\\+\\.\\S]+?)}(?P<authors>|([\\D]*?))(?P<year>[12][0-9]{3})(?P<rest>.*)\n",
      "        \n",
      "  warnings.warn(str(e))\n",
      "/opt/hostedtoolcache/Python/3.9.20/x64/lib/python3.9/site-packages/arxiv_on_deck_2/latex_bib.py:132: UserWarning: Error processing bibitem\n",
      " item = \\bibitem{spie_tvac}Poberezhskiy, I.~Y., ``{Roman coronagraph status at the completion of instrument level test program},'' in [{\\em Space Telescopes and Instrumentation 2024: Optical, Infrared, and Millimeter Wave}{\\nolinebreak\\hspace{0.1em}]},   {\\bf 13092}, International Society for Optics and Photonics, SPIE (2024).\\end{thebibliography}\n",
      " regex = \n",
      "        \\\\bibitem(\\[[^\\[\\]]*?\\]){(?P<bibkey>[a-zA-Z0-9\\-\\+\\.\\S]+?)}(?P<authors>|([\\D]*?))(?P<year>[12][0-9]{3})(?P<rest>.*)\n",
      "        \n",
      "  warnings.warn(str(e))\n"
     ]
    }
   ],
   "source": [
    "documents = []\n",
    "failed = []\n",
    "for paper in tqdm(candidates):\n",
    "    # debug crap\n",
    "    paper['identifier'] = paper['identifier'].lower().replace('arxiv:', '').replace(r'\\n', '').strip()\n",
    "    paper_id = paper['identifier']\n",
    "    \n",
    "    folder = f'tmp_{paper_id}'\n",
    "\n",
    "    try:\n",
    "        if not os.path.isdir(folder):\n",
    "            folder = retrieve_document_source(f\"{paper_id}\", f'tmp_{paper_id}')\n",
    "        \n",
    "        try:\n",
    "            doc = latex.LatexDocument(folder, validation=validation)    \n",
    "        except AffiliationError as affilerror:\n",
    "            msg = f\"ArXiv:{paper_id:s} is not an MPIA paper... \" + str(affilerror)\n",
    "            failed.append((paper, \"affiliation error: \" + str(affilerror) ))\n",
    "            continue\n",
    "        \n",
    "        # Hack because sometimes author parsing does not work well\n",
    "        if (len(doc.authors) != len(paper['authors'])):\n",
    "            doc._authors = paper['authors']\n",
    "        else:\n",
    "            # highlight authors (FIXME: doc.highlight_authors)\n",
    "            # done on arxiv paper already\n",
    "            doc._authors = highlight_authors_in_list(\n",
    "                [get_initials(k) for k in doc.authors], \n",
    "                mpia_authors, verbose=True)\n",
    "        if (doc.abstract) in (None, ''):\n",
    "            doc._abstract = paper['abstract']\n",
    "            \n",
    "        doc.comment = (get_markdown_badge(paper_id) + \n",
    "                       \"<mark>Appeared on: \" + paper['date'] + \"</mark> - \")\n",
    "        if paper['comments']:\n",
    "            doc.comment += \" _\" + paper['comments'] + \"_\"\n",
    "        \n",
    "        full_md = doc.generate_markdown_text()\n",
    "        \n",
    "        full_md += get_markdown_qrcode(paper_id)\n",
    "        \n",
    "        # replace citations\n",
    "        try:\n",
    "            bibdata = latex_bib.LatexBib.from_doc(doc)\n",
    "            full_md = latex_bib.replace_citations(full_md, bibdata)\n",
    "        except Exception as e:\n",
    "            print(\"Issues with the citations\")\n",
    "            print(e)\n",
    "        \n",
    "        documents.append((paper_id, full_md))\n",
    "    except Exception as e:\n",
    "        warnings.warn(latex.LatexWarning(f\"{paper_id:s} did not run properly\\n\" +\n",
    "                                         str(e)\n",
    "                                        ))\n",
    "        failed.append((paper, \"latex error \" + str(e)))"
   ]
  },
  {
   "cell_type": "markdown",
   "id": "2505a25c",
   "metadata": {
    "papermill": {
     "duration": 0.003883,
     "end_time": "2024-11-29T04:12:13.105531",
     "exception": false,
     "start_time": "2024-11-29T04:12:13.101648",
     "status": "completed"
    },
    "tags": []
   },
   "source": [
    "### Export the logs\n",
    "\n",
    "Throughout, we also keep track of the logs per paper. see `logs-{today date}.md` "
   ]
  },
  {
   "cell_type": "code",
   "execution_count": 6,
   "id": "d733828a",
   "metadata": {
    "execution": {
     "iopub.execute_input": "2024-11-29T04:12:13.114311Z",
     "iopub.status.busy": "2024-11-29T04:12:13.113742Z",
     "iopub.status.idle": "2024-11-29T04:12:13.126385Z",
     "shell.execute_reply": "2024-11-29T04:12:13.125746Z"
    },
    "papermill": {
     "duration": 0.018157,
     "end_time": "2024-11-29T04:12:13.127425",
     "exception": false,
     "start_time": "2024-11-29T04:12:13.109268",
     "status": "completed"
    },
    "scrolled": false,
    "tags": []
   },
   "outputs": [
    {
     "data": {
      "text/markdown": [
       "## Successful papers"
      ],
      "text/plain": [
       "<IPython.core.display.Markdown object>"
      ]
     },
     "metadata": {},
     "output_type": "display_data"
    },
    {
     "data": {
      "text/markdown": [
       "\n",
       "|||\n",
       "|---:|:---|\n",
       "| [![arXiv](https://img.shields.io/badge/arXiv-2411.17868-b31b1b.svg)](https://arxiv.org/abs/2411.17868) | **The Roman coronagraph community participation program: observation planning**  |\n",
       "|| S. G. Wolff, et al. -- incl., <mark>W. Brandner</mark>, <mark>O. Krause</mark>, <mark>M. Samland</mark> |\n",
       "|*Appeared on*| *2024-11-29*|\n",
       "|*Comments*| *Proceedings Volume 13092, Space Telescopes and Instrumentation 2024: Optical, Infrared, and Millimeter Wave; 1309255 (2024)*|\n",
       "|**Abstract**|            The Coronagraphic Instrument onboard the Nancy Grace Roman Space Telescope is an important stepping stone towards the characterization of habitable, rocky exoplanets. In a technology demonstration phase conducted during the first 18 months of the mission (expected to launch in late 2026), novel starlight suppression technology may enable direct imaging of a Jupiter analog in reflected light. Here we summarize the current activities of the Observation Planning working group formed as part of the Community Participation Program. This working group is responsible for target selection and observation planning of both science and calibration targets in the technology demonstration phase of the Roman Coronagraph. We will discuss the ongoing efforts to expand target and reference catalogs, and to model astrophysical targets (exoplanets and circumstellar disks) within the Coronagraph's expected sensitivity. We will also present preparatory observations of high priority targets.         |"
      ],
      "text/plain": [
       "[2411.17868] The Roman coronagraph community participation program: observation planning\n",
       "\tS. G. Wolff, et al. -- incl., <mark>W. Brandner</mark>, <mark>O. Krause</mark>, <mark>M. Samland</mark>"
      ]
     },
     "metadata": {},
     "output_type": "display_data"
    },
    {
     "data": {
      "text/markdown": [
       "## Failed papers"
      ],
      "text/plain": [
       "<IPython.core.display.Markdown object>"
      ]
     },
     "metadata": {},
     "output_type": "display_data"
    },
    {
     "data": {
      "text/markdown": [
       "\n",
       "|||\n",
       "|---:|:---|\n",
       "| [![arXiv](https://img.shields.io/badge/arXiv-2411.17969-b31b1b.svg)](https://arxiv.org/abs/2411.17969) | **Exclusion of a direct progenitor detection for the Type Ic SN 2017ein based on late-time observations**  |\n",
       "|| Y.-H. Zhao, et al. -- incl., <mark>J. Liu</mark> |\n",
       "|*Appeared on*| *2024-11-29*|\n",
       "|*Comments*| *Submitted to ApJL. 8 pages, 4 figures*|\n",
       "|**Abstract**|            To date, SN 2017ein is the only Type Ic supernova with a directly identified progenitor candidate. This candidate points to a very massive ($>$45 $M_\\odot$) Wolf-Rayet progenitor, but its disappearance after the explosion of SN 2017ein remains unconfirmed. In this work, we revisit SN 2017ein in late-time images acquired by the Hubble Space Telescope (HST) at 2.4--3.8 yrs after peak brightness. We find this source has not disappeared and its brightness and color remain almost the same as in the pre-explosion images. Thus, we conclude that the pre-explosion source is not the genuine progenitor of SN 2017ein. We exclude the possibility that it is a companion star of the progenitor, since it has a much lower extinction than SN 2017ein; its color is also inconsistent with a star cluster, indicated by the newly added magnitude limit in F336W, apart from F555W and F814W. We suggest, therefore, this source is an unrelated star in chance alignment with SN 2017ein. Based on the low ejecta mass, we propose that SN 2017ein is most likely originated from a moderately massive star with $M_{\\rm ini}$ $\\sim$ 8--20 $M_\\odot$, stripped by binary interaction, rather than a very massive Wolf-Rayet progenitor.         |\n",
       "|<p style=\"color:green\"> **ERROR** </p>| <p style=\"color:green\">affiliation error: mpia.affiliation_verifications: 'Heidelberg' keyword not found.</p> |"
      ],
      "text/plain": [
       "<IPython.core.display.Markdown object>"
      ]
     },
     "metadata": {},
     "output_type": "display_data"
    }
   ],
   "source": [
    "import datetime\n",
    "today = str(datetime.date.today())\n",
    "logfile = f\"_build/html/logs/log-{today}.md\"\n",
    "\n",
    "\n",
    "with open(logfile, 'w') as logs:\n",
    "    # Success\n",
    "    logs.write(f'# Arxiv on Deck 2: Logs - {today}\\n\\n')\n",
    "    logs.write(\"\"\"* Arxiv had {0:,d} new papers\\n\"\"\".format(len(new_papers)))\n",
    "    logs.write(\"\"\"    * {0:,d} with possible author matches\\n\\n\"\"\".format(len(candidates)))\n",
    "    logs.write(\"## Sucessful papers\\n\\n\")\n",
    "    display(Markdown(\"## Successful papers\"))\n",
    "    success = [k[0] for k in documents]\n",
    "    for candid in candidates:\n",
    "        if candid['identifier'].split(':')[-1] in success:\n",
    "            display(candid)\n",
    "            logs.write(candid.generate_markdown_text() + '\\n\\n')\n",
    "\n",
    "    ## failed\n",
    "    logs.write(\"## Failed papers\\n\\n\")\n",
    "    display(Markdown(\"## Failed papers\"))\n",
    "    failed = sorted(failed, key=lambda x: x[1])\n",
    "    current_reason = \"\"\n",
    "    for paper, reason in failed:\n",
    "        if 'affiliation' in reason:\n",
    "            color = 'green'\n",
    "        else:\n",
    "            color = 'red'\n",
    "        data = Markdown(\n",
    "                paper.generate_markdown_text() + \n",
    "                f'\\n|<p style=\"color:{color:s}\"> **ERROR** </p>| <p style=\"color:{color:s}\">{reason:s}</p> |'\n",
    "               )\n",
    "        if reason != current_reason:\n",
    "            logs.write(f'### {reason:s} \\n\\n')\n",
    "            current_reason = reason\n",
    "        logs.write(data.data + '\\n\\n')\n",
    "        \n",
    "        # only display here the important errors (all in logs)\n",
    "        # if color in ('red',):\n",
    "        display(data)"
   ]
  },
  {
   "cell_type": "markdown",
   "id": "472d20ee",
   "metadata": {
    "papermill": {
     "duration": 0.004139,
     "end_time": "2024-11-29T04:12:13.135850",
     "exception": false,
     "start_time": "2024-11-29T04:12:13.131711",
     "status": "completed"
    },
    "tags": []
   },
   "source": [
    "## Export documents\n",
    "\n",
    "We now write the .md files and export relevant images"
   ]
  },
  {
   "cell_type": "code",
   "execution_count": 7,
   "id": "d426aed9",
   "metadata": {
    "execution": {
     "iopub.execute_input": "2024-11-29T04:12:13.145091Z",
     "iopub.status.busy": "2024-11-29T04:12:13.144684Z",
     "iopub.status.idle": "2024-11-29T04:12:13.151458Z",
     "shell.execute_reply": "2024-11-29T04:12:13.150934Z"
    },
    "papermill": {
     "duration": 0.012518,
     "end_time": "2024-11-29T04:12:13.152449",
     "exception": false,
     "start_time": "2024-11-29T04:12:13.139931",
     "status": "completed"
    },
    "tags": []
   },
   "outputs": [],
   "source": [
    "def export_markdown_summary(md: str, md_fname:str, directory: str):\n",
    "    \"\"\"Export MD document and associated relevant images\"\"\"\n",
    "    import os\n",
    "    import shutil\n",
    "    import re\n",
    "\n",
    "    if (os.path.exists(directory) and not os.path.isdir(directory)):\n",
    "        raise RuntimeError(f\"a non-directory file exists with name {directory:s}\")\n",
    "\n",
    "    if (not os.path.exists(directory)):\n",
    "        print(f\"creating directory {directory:s}\")\n",
    "        os.mkdir(directory)\n",
    "\n",
    "    fig_fnames = (re.compile(r'\\[Fig.*\\]\\((.*)\\)').findall(md) + \n",
    "                  re.compile(r'\\<img src=\"([^>\\s]*)\"[^>]*/>').findall(md))\n",
    "    print(\"found figures\", fig_fnames)\n",
    "    for fname in fig_fnames:\n",
    "        if 'http' in fname:\n",
    "            # No need to copy online figures\n",
    "            continue\n",
    "        if not os.path.exists(fname):\n",
    "            print(\"file not found\", fname)\n",
    "            continue\n",
    "        print(\"copying \", fname, \"to\", directory)\n",
    "        destdir = os.path.join(directory, os.path.dirname(fname))\n",
    "        destfname = os.path.join(destdir, os.path.basename(fname))\n",
    "        try:\n",
    "            os.makedirs(destdir)\n",
    "        except FileExistsError:\n",
    "            pass\n",
    "        shutil.copy(fname, destfname)\n",
    "    with open(os.path.join(directory, md_fname), 'w') as fout:\n",
    "        fout.write(md)\n",
    "    print(\"exported in \", os.path.join(directory, md_fname))\n",
    "    [print(\"    + \" + os.path.join(directory,fk)) for fk in fig_fnames]"
   ]
  },
  {
   "cell_type": "code",
   "execution_count": 8,
   "id": "014d04a4",
   "metadata": {
    "execution": {
     "iopub.execute_input": "2024-11-29T04:12:13.161661Z",
     "iopub.status.busy": "2024-11-29T04:12:13.161245Z",
     "iopub.status.idle": "2024-11-29T04:12:13.167733Z",
     "shell.execute_reply": "2024-11-29T04:12:13.167131Z"
    },
    "papermill": {
     "duration": 0.012114,
     "end_time": "2024-11-29T04:12:13.168718",
     "exception": false,
     "start_time": "2024-11-29T04:12:13.156604",
     "status": "completed"
    },
    "tags": []
   },
   "outputs": [
    {
     "name": "stdout",
     "output_type": "stream",
     "text": [
      "found figures ['tmp_2411.17868/./RomanReference_targets.png']\n",
      "copying  tmp_2411.17868/./RomanReference_targets.png to _build/html/\n",
      "exported in  _build/html/2411.17868.md\n",
      "    + _build/html/tmp_2411.17868/./RomanReference_targets.png\n"
     ]
    }
   ],
   "source": [
    "for paper_id, md in documents:\n",
    "    export_markdown_summary(md, f\"{paper_id:s}.md\", '_build/html/')"
   ]
  },
  {
   "cell_type": "markdown",
   "id": "f087a0a7",
   "metadata": {
    "papermill": {
     "duration": 0.00421,
     "end_time": "2024-11-29T04:12:13.177246",
     "exception": false,
     "start_time": "2024-11-29T04:12:13.173036",
     "status": "completed"
    },
    "tags": []
   },
   "source": [
    "## Display the papers\n",
    "\n",
    "Not necessary but allows for a quick check."
   ]
  },
  {
   "cell_type": "code",
   "execution_count": 9,
   "id": "fd25f625",
   "metadata": {
    "execution": {
     "iopub.execute_input": "2024-11-29T04:12:13.186794Z",
     "iopub.status.busy": "2024-11-29T04:12:13.186350Z",
     "iopub.status.idle": "2024-11-29T04:12:13.190856Z",
     "shell.execute_reply": "2024-11-29T04:12:13.190335Z"
    },
    "papermill": {
     "duration": 0.010213,
     "end_time": "2024-11-29T04:12:13.191781",
     "exception": false,
     "start_time": "2024-11-29T04:12:13.181568",
     "status": "completed"
    },
    "scrolled": false,
    "tags": []
   },
   "outputs": [
    {
     "data": {
      "text/markdown": [
       "<div class=\"macros\" style=\"visibility:hidden;\">\n",
       "$\\newcommand{\\ensuremath}{}$\n",
       "$\\newcommand{\\xspace}{}$\n",
       "$\\newcommand{\\object}[1]{\\texttt{#1}}$\n",
       "$\\newcommand{\\farcs}{{.}''}$\n",
       "$\\newcommand{\\farcm}{{.}'}$\n",
       "$\\newcommand{\\arcsec}{''}$\n",
       "$\\newcommand{\\arcmin}{'}$\n",
       "$\\newcommand{\\ion}[2]{#1#2}$\n",
       "$\\newcommand{\\textsc}[1]{\\textrm{#1}}$\n",
       "$\\newcommand{\\hl}[1]{\\textrm{#1}}$\n",
       "$\\newcommand{\\footnote}[1]{}$\n",
       "$\\newcommand{\\nlhref}[1]{\\href{#1}{\\nolinkurl{#1}}}$\n",
       "$\\newcommand{\\baselinestretch}{1.0}$</div>\n",
       "\n",
       "\n",
       "\n",
       "<div id=\"title\">\n",
       "\n",
       "# The Roman Coronagraph Community Participation Program: observation planning\n",
       "\n",
       "</div>\n",
       "<div id=\"comments\">\n",
       "\n",
       "[![arXiv](https://img.shields.io/badge/arXiv-2411.17868-b31b1b.svg)](https://arxiv.org/abs/2411.17868)<mark>Appeared on: 2024-11-29</mark> -  _Proceedings Volume 13092, Space Telescopes and Instrumentation 2024: Optical, Infrared, and Millimeter Wave; 1309255 (2024)_\n",
       "\n",
       "</div>\n",
       "<div id=\"authors\">\n",
       "\n",
       "S. G. Wolff, et al. -- incl., <mark>W. Brandner</mark>, <mark>O. Krause</mark>, <mark>M. Samland</mark>\n",
       "\n",
       "</div>\n",
       "<div id=\"abstract\">\n",
       "\n",
       "**Abstract:** The Coronagraph Instrument onboard the Nancy Grace Roman Space Telescope is an important stepping stone towards the characterization of habitable, rocky exoplanets. In a Observation Phase conducted during the first 18 months of the mission (expected to launch in late 2026), novel starlight suppression technology may enable direct imaging of a Jupiter analog in reflected light. Here we summarize the current activities of the Observation Planning working group formed as part of the Community Participation Program. This working group is responsible for target selection and observation planning of both science and calibration targets in the technology demonstration phase of the Roman Coronagraph. We will discuss the ongoing efforts to expand target and reference catalogs, and to model astrophysical targets (exoplanets and circumstellar disks) within the Coronagraph’s expected sensitivity. We will also present preparatory observations of high priority targets.\n",
       "\n",
       "</div>\n",
       "\n",
       "<div id=\"div_fig1\">\n",
       "\n",
       "<img src=\"tmp_2411.17868/./RomanReference_targets.png\" alt=\"Fig1\" width=\"100%\"/>\n",
       "\n",
       "**Figure 1. -** The on-sky distribution of candidate wavefront reference stars compared to the positions of potential planet targets (from the Imaging Mission Database, see Section \\ref{sec:database}). Continuous Viewing Zones centered on the Ecliptic poles are displayed in blue. The wavefront reference sources are ranked according to their likelihood of hosting a companion that would degrade the contrast of the Roman Coronagraph.\n",
       "     (*fig:ref*)\n",
       "\n",
       "</div><div id=\"qrcode\"><img src=https://api.qrserver.com/v1/create-qr-code/?size=100x100&data=\"https://arxiv.org/abs/2411.17868\"></div>"
      ],
      "text/plain": [
       "<IPython.core.display.Markdown object>"
      ]
     },
     "metadata": {},
     "output_type": "display_data"
    }
   ],
   "source": [
    "[display(Markdown(k[1])) for k in documents];"
   ]
  },
  {
   "cell_type": "markdown",
   "id": "873873a4",
   "metadata": {
    "papermill": {
     "duration": 0.004449,
     "end_time": "2024-11-29T04:12:13.200777",
     "exception": false,
     "start_time": "2024-11-29T04:12:13.196328",
     "status": "completed"
    },
    "tags": []
   },
   "source": [
    "# Create HTML index"
   ]
  },
  {
   "cell_type": "code",
   "execution_count": 10,
   "id": "cf665672",
   "metadata": {
    "execution": {
     "iopub.execute_input": "2024-11-29T04:12:13.210936Z",
     "iopub.status.busy": "2024-11-29T04:12:13.210527Z",
     "iopub.status.idle": "2024-11-29T04:12:13.218880Z",
     "shell.execute_reply": "2024-11-29T04:12:13.218359Z"
    },
    "papermill": {
     "duration": 0.014514,
     "end_time": "2024-11-29T04:12:13.219866",
     "exception": false,
     "start_time": "2024-11-29T04:12:13.205352",
     "status": "completed"
    },
    "tags": []
   },
   "outputs": [
    {
     "name": "stdout",
     "output_type": "stream",
     "text": [
      "258  publications files modified in the last 7 days.\n"
     ]
    }
   ],
   "source": [
    "from datetime import datetime, timedelta, timezone\n",
    "from glob import glob\n",
    "import os\n",
    "\n",
    "files = glob('_build/html/*.md')\n",
    "days = 7\n",
    "now = datetime.today()\n",
    "res = []\n",
    "for fk in files:\n",
    "    stat_result = os.stat(fk).st_ctime\n",
    "    modified = datetime.fromtimestamp(stat_result, tz=timezone.utc).replace(tzinfo=None)\n",
    "    delta = now.today() - modified\n",
    "    if delta <= timedelta(days=days):\n",
    "        res.append((delta.seconds, fk))\n",
    "res = [k[1] for k in reversed(sorted(res, key=lambda x:x[1]))]\n",
    "npub = len(res)\n",
    "print(len(res), f\" publications files modified in the last {days:d} days.\")\n",
    "# [ print('\\t', k) for k in res ];"
   ]
  },
  {
   "cell_type": "code",
   "execution_count": 11,
   "id": "015de740",
   "metadata": {
    "execution": {
     "iopub.execute_input": "2024-11-29T04:12:13.229732Z",
     "iopub.status.busy": "2024-11-29T04:12:13.229549Z",
     "iopub.status.idle": "2024-11-29T04:12:13.246238Z",
     "shell.execute_reply": "2024-11-29T04:12:13.245712Z"
    },
    "papermill": {
     "duration": 0.022753,
     "end_time": "2024-11-29T04:12:13.247167",
     "exception": false,
     "start_time": "2024-11-29T04:12:13.224414",
     "status": "completed"
    },
    "tags": []
   },
   "outputs": [
    {
     "name": "stdout",
     "output_type": "stream",
     "text": [
      "6  publications in the last 7 days.\n"
     ]
    }
   ],
   "source": [
    "import datetime\n",
    "from glob import glob\n",
    "\n",
    "def get_last_n_days(lst, days=1):\n",
    "    \"\"\" Get the documents from the last n days \"\"\"\n",
    "    sorted_lst = sorted(lst, key=lambda x: x[1], reverse=True)\n",
    "    for fname, date in sorted_lst:\n",
    "        if date >= str(datetime.date.today() - datetime.timedelta(days=days)):\n",
    "            yield fname\n",
    "\n",
    "def extract_appearance_dates(lst_file):\n",
    "    dates = []\n",
    "\n",
    "    def get_date(line):\n",
    "        return line\\\n",
    "            .split('Appeared on:')[-1]\\\n",
    "            .split('</mark>')[0].strip()\n",
    "\n",
    "    for fname in lst:\n",
    "        with open(fname, 'r') as f:\n",
    "            found_date = False\n",
    "            for line in f:\n",
    "                if not found_date:\n",
    "                    if \"Appeared on\" in line:\n",
    "                        found_date = True\n",
    "                        dates.append((fname, get_date(line)))\n",
    "                else:\n",
    "                    break\n",
    "    return dates\n",
    "\n",
    "from glob import glob\n",
    "lst = glob('_build/html/*md')\n",
    "days = 7\n",
    "dates = extract_appearance_dates(lst)\n",
    "res = list(get_last_n_days(dates, days))\n",
    "npub = len(res)\n",
    "print(len(res), f\" publications in the last {days:d} days.\")"
   ]
  },
  {
   "cell_type": "code",
   "execution_count": 12,
   "id": "52ca0208",
   "metadata": {
    "execution": {
     "iopub.execute_input": "2024-11-29T04:12:13.257217Z",
     "iopub.status.busy": "2024-11-29T04:12:13.257003Z",
     "iopub.status.idle": "2024-11-29T04:12:13.261700Z",
     "shell.execute_reply": "2024-11-29T04:12:13.261195Z"
    },
    "papermill": {
     "duration": 0.010872,
     "end_time": "2024-11-29T04:12:13.262715",
     "exception": false,
     "start_time": "2024-11-29T04:12:13.251843",
     "status": "completed"
    },
    "scrolled": false,
    "tags": []
   },
   "outputs": [],
   "source": [
    "def create_carousel(npub=4):\n",
    "    \"\"\" Generate the HTML code for a carousel with `npub` slides \"\"\"\n",
    "    carousel = [\"\"\"  <div class=\"carousel\" \"\"\",\n",
    "                \"\"\"       data-flickity='{ \"autoPlay\": 10000, \"adaptiveHeight\": true, \"resize\": true, \"wrapAround\": true, \"pauseAutoPlayOnHover\": true, \"groupCells\": 1 }' id=\"asyncTypeset\">\"\"\"\n",
    "                ]\n",
    "    \n",
    "    item_str = \"\"\"    <div class=\"carousel-cell\"> <div id=\"slide{k}\" class=\"md_view\">Content {k}</div> </div>\"\"\"\n",
    "    for k in range(1, npub + 1):\n",
    "        carousel.append(item_str.format(k=k))\n",
    "    carousel.append(\"  </div>\")\n",
    "    return '\\n'.join(carousel)\n",
    "\n",
    "def create_grid(npub=4):\n",
    "    \"\"\" Generate the HTML code for a flat grid with `npub` slides \"\"\"\n",
    "    grid = [\"\"\"  <div class=\"grid\"> \"\"\",\n",
    "                ]\n",
    "    \n",
    "    item_str = \"\"\"    <div class=\"grid-item\"> <div id=\"slide{k}\" class=\"md_view\">Content {k}</div> </div>\"\"\"\n",
    "    for k in range(1, npub + 1):\n",
    "        grid.append(item_str.format(k=k))\n",
    "    grid.append(\"  </div>\")\n",
    "    return '\\n'.join(grid)"
   ]
  },
  {
   "cell_type": "code",
   "execution_count": 13,
   "id": "a6eac5b6",
   "metadata": {
    "execution": {
     "iopub.execute_input": "2024-11-29T04:12:13.272918Z",
     "iopub.status.busy": "2024-11-29T04:12:13.272684Z",
     "iopub.status.idle": "2024-11-29T04:12:13.277624Z",
     "shell.execute_reply": "2024-11-29T04:12:13.277103Z"
    },
    "papermill": {
     "duration": 0.011099,
     "end_time": "2024-11-29T04:12:13.278579",
     "exception": false,
     "start_time": "2024-11-29T04:12:13.267480",
     "status": "completed"
    },
    "scrolled": false,
    "tags": []
   },
   "outputs": [],
   "source": [
    "carousel = create_carousel(npub)\n",
    "docs = ', '.join(['\"{0:s}\"'.format(k.split('/')[-1]) for k in res])\n",
    "slides = ', '.join([f'\"slide{k}\"' for k in range(1, npub + 1)])\n",
    "\n",
    "with open(\"daily_template.html\", \"r\") as tpl:\n",
    "    page = tpl.read()\n",
    "    page = page.replace(\"{%-- carousel:s --%}\", carousel)\\\n",
    "               .replace(\"{%-- suptitle:s --%}\",  \"7-day archives\" )\\\n",
    "               .replace(\"{%-- docs:s --%}\", docs)\\\n",
    "               .replace(\"{%-- slides:s --%}\", slides)\n",
    "    \n",
    "with open(\"_build/html/index_7days.html\", 'w') as fout:\n",
    "    fout.write(page)"
   ]
  },
  {
   "cell_type": "code",
   "execution_count": 14,
   "id": "adc1a1ec",
   "metadata": {
    "execution": {
     "iopub.execute_input": "2024-11-29T04:12:13.288902Z",
     "iopub.status.busy": "2024-11-29T04:12:13.288484Z",
     "iopub.status.idle": "2024-11-29T04:12:13.294984Z",
     "shell.execute_reply": "2024-11-29T04:12:13.294464Z"
    },
    "papermill": {
     "duration": 0.012721,
     "end_time": "2024-11-29T04:12:13.295983",
     "exception": false,
     "start_time": "2024-11-29T04:12:13.283262",
     "status": "completed"
    },
    "tags": []
   },
   "outputs": [
    {
     "name": "stdout",
     "output_type": "stream",
     "text": [
      "1  publications in the last day.\n"
     ]
    }
   ],
   "source": [
    "# redo for today\n",
    "days = 1\n",
    "res = list(get_last_n_days(dates, days))\n",
    "npub = len(res)\n",
    "print(len(res), f\" publications in the last day.\")\n",
    "\n",
    "carousel = create_carousel(npub)\n",
    "docs = ', '.join(['\"{0:s}\"'.format(k.split('/')[-1]) for k in res])\n",
    "slides = ', '.join([f'\"slide{k}\"' for k in range(1, npub + 1)])\n",
    "\n",
    "with open(\"daily_template.html\", \"r\") as tpl:\n",
    "    page = tpl.read()\n",
    "    page = page.replace(\"{%-- carousel:s --%}\", carousel)\\\n",
    "               .replace(\"{%-- suptitle:s --%}\",  \"Daily\" )\\\n",
    "               .replace(\"{%-- docs:s --%}\", docs)\\\n",
    "               .replace(\"{%-- slides:s --%}\", slides)\n",
    "    \n",
    "# print(carousel, docs, slides)\n",
    "# print(page)\n",
    "with open(\"_build/html/index_daily.html\", 'w') as fout:\n",
    "    fout.write(page)"
   ]
  },
  {
   "cell_type": "code",
   "execution_count": 15,
   "id": "00eece82",
   "metadata": {
    "execution": {
     "iopub.execute_input": "2024-11-29T04:12:13.306644Z",
     "iopub.status.busy": "2024-11-29T04:12:13.306273Z",
     "iopub.status.idle": "2024-11-29T04:12:13.312450Z",
     "shell.execute_reply": "2024-11-29T04:12:13.311956Z"
    },
    "papermill": {
     "duration": 0.012661,
     "end_time": "2024-11-29T04:12:13.313458",
     "exception": false,
     "start_time": "2024-11-29T04:12:13.300797",
     "status": "completed"
    },
    "scrolled": false,
    "tags": []
   },
   "outputs": [
    {
     "name": "stdout",
     "output_type": "stream",
     "text": [
      "6  6 publications selected.\n"
     ]
    }
   ],
   "source": [
    "# Create the flat grid of the last N papers (fixed number regardless of dates)\n",
    "from itertools import islice \n",
    "\n",
    "npub = 6\n",
    "res = [k[0] for k in (islice(reversed(sorted(dates, key=lambda x: x[1])), 6))]\n",
    "print(len(res), f\" {npub} publications selected.\")\n",
    "\n",
    "grid = create_grid(npub)\n",
    "docs = ', '.join(['\"{0:s}\"'.format(k.split('/')[-1]) for k in res])\n",
    "slides = ', '.join([f'\"slide{k}\"' for k in range(1, npub + 1)])\n",
    "\n",
    "with open(\"grid_template.html\", \"r\") as tpl:\n",
    "    page = tpl.read()\n",
    "    page = page.replace(\"{%-- grid-content:s --%}\", grid)\\\n",
    "               .replace(\"{%-- suptitle:s --%}\",  f\"Last {npub:,d} papers\" )\\\n",
    "               .replace(\"{%-- docs:s --%}\", docs)\\\n",
    "               .replace(\"{%-- slides:s --%}\", slides)\n",
    "    \n",
    "# print(grid, docs, slides)\n",
    "# print(page)\n",
    "with open(\"_build/html/index_npub_grid.html\", 'w') as fout:\n",
    "    fout.write(page)"
   ]
  }
 ],
 "metadata": {
  "kernelspec": {
   "display_name": "Python 3 (ipykernel)",
   "language": "python",
   "name": "python3"
  },
  "language_info": {
   "codemirror_mode": {
    "name": "ipython",
    "version": 3
   },
   "file_extension": ".py",
   "mimetype": "text/x-python",
   "name": "python",
   "nbconvert_exporter": "python",
   "pygments_lexer": "ipython3",
   "version": "3.9.20"
  },
  "papermill": {
   "default_parameters": {},
   "duration": 29.047237,
   "end_time": "2024-11-29T04:12:13.534267",
   "environment_variables": {},
   "exception": null,
   "input_path": "MPIA daily digest.ipynb",
   "output_path": "log.ipynb",
   "parameters": {},
   "start_time": "2024-11-29T04:11:44.487030",
   "version": "2.6.0"
  },
  "vscode": {
   "interpreter": {
    "hash": "aee8b7b246df8f9039afb4144a1f6fd8d2ca17a180786b69acc140d282b71a49"
   }
  },
  "widgets": {
   "application/vnd.jupyter.widget-state+json": {
    "state": {
     "11b79d90e74048f8b3a658bbbb932ef8": {
      "model_module": "@jupyter-widgets/controls",
      "model_module_version": "2.0.0",
      "model_name": "FloatProgressModel",
      "state": {
       "_dom_classes": [],
       "_model_module": "@jupyter-widgets/controls",
       "_model_module_version": "2.0.0",
       "_model_name": "FloatProgressModel",
       "_view_count": null,
       "_view_module": "@jupyter-widgets/controls",
       "_view_module_version": "2.0.0",
       "_view_name": "ProgressView",
       "bar_style": "success",
       "description": "",
       "description_allow_html": false,
       "layout": "IPY_MODEL_72adaed2ce514d44acc06e9b4b2d2fc7",
       "max": 2.0,
       "min": 0.0,
       "orientation": "horizontal",
       "style": "IPY_MODEL_975fb7f2d8204bbc993a7de9bf65edc8",
       "tabbable": null,
       "tooltip": null,
       "value": 2.0
      }
     },
     "3e59823d636241e7aaa9e00abb2e1279": {
      "model_module": "@jupyter-widgets/controls",
      "model_module_version": "2.0.0",
      "model_name": "HTMLStyleModel",
      "state": {
       "_model_module": "@jupyter-widgets/controls",
       "_model_module_version": "2.0.0",
       "_model_name": "HTMLStyleModel",
       "_view_count": null,
       "_view_module": "@jupyter-widgets/base",
       "_view_module_version": "2.0.0",
       "_view_name": "StyleView",
       "background": null,
       "description_width": "",
       "font_size": null,
       "text_color": null
      }
     },
     "4ebb94f7437e477e916af5a2634a247c": {
      "model_module": "@jupyter-widgets/base",
      "model_module_version": "2.0.0",
      "model_name": "LayoutModel",
      "state": {
       "_model_module": "@jupyter-widgets/base",
       "_model_module_version": "2.0.0",
       "_model_name": "LayoutModel",
       "_view_count": null,
       "_view_module": "@jupyter-widgets/base",
       "_view_module_version": "2.0.0",
       "_view_name": "LayoutView",
       "align_content": null,
       "align_items": null,
       "align_self": null,
       "border_bottom": null,
       "border_left": null,
       "border_right": null,
       "border_top": null,
       "bottom": null,
       "display": null,
       "flex": null,
       "flex_flow": null,
       "grid_area": null,
       "grid_auto_columns": null,
       "grid_auto_flow": null,
       "grid_auto_rows": null,
       "grid_column": null,
       "grid_gap": null,
       "grid_row": null,
       "grid_template_areas": null,
       "grid_template_columns": null,
       "grid_template_rows": null,
       "height": null,
       "justify_content": null,
       "justify_items": null,
       "left": null,
       "margin": null,
       "max_height": null,
       "max_width": null,
       "min_height": null,
       "min_width": null,
       "object_fit": null,
       "object_position": null,
       "order": null,
       "overflow": null,
       "padding": null,
       "right": null,
       "top": null,
       "visibility": null,
       "width": null
      }
     },
     "5cbbdb6c1b8e475bae495dd0859179bd": {
      "model_module": "@jupyter-widgets/base",
      "model_module_version": "2.0.0",
      "model_name": "LayoutModel",
      "state": {
       "_model_module": "@jupyter-widgets/base",
       "_model_module_version": "2.0.0",
       "_model_name": "LayoutModel",
       "_view_count": null,
       "_view_module": "@jupyter-widgets/base",
       "_view_module_version": "2.0.0",
       "_view_name": "LayoutView",
       "align_content": null,
       "align_items": null,
       "align_self": null,
       "border_bottom": null,
       "border_left": null,
       "border_right": null,
       "border_top": null,
       "bottom": null,
       "display": null,
       "flex": null,
       "flex_flow": null,
       "grid_area": null,
       "grid_auto_columns": null,
       "grid_auto_flow": null,
       "grid_auto_rows": null,
       "grid_column": null,
       "grid_gap": null,
       "grid_row": null,
       "grid_template_areas": null,
       "grid_template_columns": null,
       "grid_template_rows": null,
       "height": null,
       "justify_content": null,
       "justify_items": null,
       "left": null,
       "margin": null,
       "max_height": null,
       "max_width": null,
       "min_height": null,
       "min_width": null,
       "object_fit": null,
       "object_position": null,
       "order": null,
       "overflow": null,
       "padding": null,
       "right": null,
       "top": null,
       "visibility": null,
       "width": null
      }
     },
     "610181b0f25c464f9dbac671a91b3c2a": {
      "model_module": "@jupyter-widgets/controls",
      "model_module_version": "2.0.0",
      "model_name": "HTMLModel",
      "state": {
       "_dom_classes": [],
       "_model_module": "@jupyter-widgets/controls",
       "_model_module_version": "2.0.0",
       "_model_name": "HTMLModel",
       "_view_count": null,
       "_view_module": "@jupyter-widgets/controls",
       "_view_module_version": "2.0.0",
       "_view_name": "HTMLView",
       "description": "",
       "description_allow_html": false,
       "layout": "IPY_MODEL_d502710afa3f4cc1a4425399a138bff5",
       "placeholder": "​",
       "style": "IPY_MODEL_3e59823d636241e7aaa9e00abb2e1279",
       "tabbable": null,
       "tooltip": null,
       "value": " 2/2 [00:04&lt;00:00,  1.97s/it]"
      }
     },
     "70a75cfa963e496b949fab869e7619e6": {
      "model_module": "@jupyter-widgets/controls",
      "model_module_version": "2.0.0",
      "model_name": "HTMLModel",
      "state": {
       "_dom_classes": [],
       "_model_module": "@jupyter-widgets/controls",
       "_model_module_version": "2.0.0",
       "_model_name": "HTMLModel",
       "_view_count": null,
       "_view_module": "@jupyter-widgets/controls",
       "_view_module_version": "2.0.0",
       "_view_name": "HTMLView",
       "description": "",
       "description_allow_html": false,
       "layout": "IPY_MODEL_5cbbdb6c1b8e475bae495dd0859179bd",
       "placeholder": "​",
       "style": "IPY_MODEL_8c09a0ca3e4141b298e1992cce283699",
       "tabbable": null,
       "tooltip": null,
       "value": "100%"
      }
     },
     "72adaed2ce514d44acc06e9b4b2d2fc7": {
      "model_module": "@jupyter-widgets/base",
      "model_module_version": "2.0.0",
      "model_name": "LayoutModel",
      "state": {
       "_model_module": "@jupyter-widgets/base",
       "_model_module_version": "2.0.0",
       "_model_name": "LayoutModel",
       "_view_count": null,
       "_view_module": "@jupyter-widgets/base",
       "_view_module_version": "2.0.0",
       "_view_name": "LayoutView",
       "align_content": null,
       "align_items": null,
       "align_self": null,
       "border_bottom": null,
       "border_left": null,
       "border_right": null,
       "border_top": null,
       "bottom": null,
       "display": null,
       "flex": null,
       "flex_flow": null,
       "grid_area": null,
       "grid_auto_columns": null,
       "grid_auto_flow": null,
       "grid_auto_rows": null,
       "grid_column": null,
       "grid_gap": null,
       "grid_row": null,
       "grid_template_areas": null,
       "grid_template_columns": null,
       "grid_template_rows": null,
       "height": null,
       "justify_content": null,
       "justify_items": null,
       "left": null,
       "margin": null,
       "max_height": null,
       "max_width": null,
       "min_height": null,
       "min_width": null,
       "object_fit": null,
       "object_position": null,
       "order": null,
       "overflow": null,
       "padding": null,
       "right": null,
       "top": null,
       "visibility": null,
       "width": null
      }
     },
     "8c09a0ca3e4141b298e1992cce283699": {
      "model_module": "@jupyter-widgets/controls",
      "model_module_version": "2.0.0",
      "model_name": "HTMLStyleModel",
      "state": {
       "_model_module": "@jupyter-widgets/controls",
       "_model_module_version": "2.0.0",
       "_model_name": "HTMLStyleModel",
       "_view_count": null,
       "_view_module": "@jupyter-widgets/base",
       "_view_module_version": "2.0.0",
       "_view_name": "StyleView",
       "background": null,
       "description_width": "",
       "font_size": null,
       "text_color": null
      }
     },
     "975fb7f2d8204bbc993a7de9bf65edc8": {
      "model_module": "@jupyter-widgets/controls",
      "model_module_version": "2.0.0",
      "model_name": "ProgressStyleModel",
      "state": {
       "_model_module": "@jupyter-widgets/controls",
       "_model_module_version": "2.0.0",
       "_model_name": "ProgressStyleModel",
       "_view_count": null,
       "_view_module": "@jupyter-widgets/base",
       "_view_module_version": "2.0.0",
       "_view_name": "StyleView",
       "bar_color": null,
       "description_width": ""
      }
     },
     "a445c7b823cb40d8ae2618bdd4e424d9": {
      "model_module": "@jupyter-widgets/controls",
      "model_module_version": "2.0.0",
      "model_name": "HBoxModel",
      "state": {
       "_dom_classes": [],
       "_model_module": "@jupyter-widgets/controls",
       "_model_module_version": "2.0.0",
       "_model_name": "HBoxModel",
       "_view_count": null,
       "_view_module": "@jupyter-widgets/controls",
       "_view_module_version": "2.0.0",
       "_view_name": "HBoxView",
       "box_style": "",
       "children": [
        "IPY_MODEL_70a75cfa963e496b949fab869e7619e6",
        "IPY_MODEL_11b79d90e74048f8b3a658bbbb932ef8",
        "IPY_MODEL_610181b0f25c464f9dbac671a91b3c2a"
       ],
       "layout": "IPY_MODEL_4ebb94f7437e477e916af5a2634a247c",
       "tabbable": null,
       "tooltip": null
      }
     },
     "d502710afa3f4cc1a4425399a138bff5": {
      "model_module": "@jupyter-widgets/base",
      "model_module_version": "2.0.0",
      "model_name": "LayoutModel",
      "state": {
       "_model_module": "@jupyter-widgets/base",
       "_model_module_version": "2.0.0",
       "_model_name": "LayoutModel",
       "_view_count": null,
       "_view_module": "@jupyter-widgets/base",
       "_view_module_version": "2.0.0",
       "_view_name": "LayoutView",
       "align_content": null,
       "align_items": null,
       "align_self": null,
       "border_bottom": null,
       "border_left": null,
       "border_right": null,
       "border_top": null,
       "bottom": null,
       "display": null,
       "flex": null,
       "flex_flow": null,
       "grid_area": null,
       "grid_auto_columns": null,
       "grid_auto_flow": null,
       "grid_auto_rows": null,
       "grid_column": null,
       "grid_gap": null,
       "grid_row": null,
       "grid_template_areas": null,
       "grid_template_columns": null,
       "grid_template_rows": null,
       "height": null,
       "justify_content": null,
       "justify_items": null,
       "left": null,
       "margin": null,
       "max_height": null,
       "max_width": null,
       "min_height": null,
       "min_width": null,
       "object_fit": null,
       "object_position": null,
       "order": null,
       "overflow": null,
       "padding": null,
       "right": null,
       "top": null,
       "visibility": null,
       "width": null
      }
     }
    },
    "version_major": 2,
    "version_minor": 0
   }
  }
 },
 "nbformat": 4,
 "nbformat_minor": 5
}