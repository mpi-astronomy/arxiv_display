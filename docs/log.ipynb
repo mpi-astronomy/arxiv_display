{
 "cells": [
  {
   "cell_type": "markdown",
   "id": "92bcb855",
   "metadata": {
    "papermill": {
     "duration": 0.003685,
     "end_time": "2025-04-17T04:12:53.090853",
     "exception": false,
     "start_time": "2025-04-17T04:12:53.087168",
     "status": "completed"
    },
    "tags": []
   },
   "source": [
    "# MPIA Arxiv on Deck 2\n",
    "\n",
    "Contains the steps to produce the paper extractions."
   ]
  },
  {
   "cell_type": "code",
   "execution_count": 1,
   "id": "3a0d6e11",
   "metadata": {
    "execution": {
     "iopub.execute_input": "2025-04-17T04:12:53.098710Z",
     "iopub.status.busy": "2025-04-17T04:12:53.098100Z",
     "iopub.status.idle": "2025-04-17T04:12:53.448426Z",
     "shell.execute_reply": "2025-04-17T04:12:53.447671Z"
    },
    "papermill": {
     "duration": 0.355789,
     "end_time": "2025-04-17T04:12:53.449942",
     "exception": false,
     "start_time": "2025-04-17T04:12:53.094153",
     "status": "completed"
    },
    "tags": []
   },
   "outputs": [],
   "source": [
    "# Imports\n",
    "import os\n",
    "from IPython.display import Markdown, display\n",
    "from tqdm.notebook import tqdm\n",
    "import warnings\n",
    "from PIL import Image \n",
    "import re\n",
    "\n",
    "# requires arxiv_on_deck_2\n",
    "\n",
    "from arxiv_on_deck_2.arxiv2 import (get_new_papers, \n",
    "                                    get_paper_from_identifier,\n",
    "                                    retrieve_document_source, \n",
    "                                    get_markdown_badge)\n",
    "from arxiv_on_deck_2 import (latex,\n",
    "                             latex_bib,\n",
    "                             mpia,\n",
    "                             highlight_authors_in_list)\n",
    "\n",
    "# Sometimes images are really big\n",
    "Image.MAX_IMAGE_PIXELS = 1000000000 "
   ]
  },
  {
   "cell_type": "code",
   "execution_count": 2,
   "id": "22aa9d44",
   "metadata": {
    "execution": {
     "iopub.execute_input": "2025-04-17T04:12:53.457999Z",
     "iopub.status.busy": "2025-04-17T04:12:53.457265Z",
     "iopub.status.idle": "2025-04-17T04:12:53.465540Z",
     "shell.execute_reply": "2025-04-17T04:12:53.464983Z"
    },
    "papermill": {
     "duration": 0.013253,
     "end_time": "2025-04-17T04:12:53.466537",
     "exception": false,
     "start_time": "2025-04-17T04:12:53.453284",
     "status": "completed"
    },
    "tags": []
   },
   "outputs": [],
   "source": [
    "# Some useful definitions.\n",
    "\n",
    "class AffiliationWarning(UserWarning):\n",
    "    pass\n",
    "\n",
    "class AffiliationError(RuntimeError):\n",
    "    pass\n",
    "\n",
    "def validation(source: str):\n",
    "    \"\"\"Raises error paper during parsing of source file\n",
    "    \n",
    "    Allows checks before parsing TeX code.\n",
    "    \n",
    "    Raises AffiliationWarning\n",
    "    \"\"\"\n",
    "    check = mpia.affiliation_verifications(source, verbose=True)\n",
    "    if check is not True:\n",
    "        raise AffiliationError(\"mpia.affiliation_verifications: \" + check)\n",
    "\n",
    "        \n",
    "warnings.simplefilter('always', AffiliationWarning)\n",
    "\n",
    "\n",
    "def get_markdown_qrcode(paper_id: str):\n",
    "    \"\"\" Generate a qrcode to the arxiv page using qrserver.com\n",
    "    \n",
    "    :param paper: Arxiv paper\n",
    "    :returns: markdown text\n",
    "    \"\"\"\n",
    "    url = r\"https://api.qrserver.com/v1/create-qr-code/?size=100x100&data=\"\n",
    "    txt = f\"\"\"<img src={url}\"https://arxiv.org/abs/{paper_id}\">\"\"\"\n",
    "    txt = '<div id=\"qrcode\">' + txt + '</div>'\n",
    "    return txt\n",
    "\n",
    "\n",
    "def clean_non_western_encoded_characters_commands(text: str) -> str:\n",
    "    \"\"\" Remove non-western encoded characters from a string\n",
    "    List may need to grow.\n",
    "    \n",
    "    :param text: the text to clean\n",
    "    :return: the cleaned text\n",
    "    \"\"\"\n",
    "    text = re.sub(r\"(\\\\begin{CJK}{UTF8}{gbsn})(.*?)(\\\\end{CJK})\", r\"\\2\", text)\n",
    "    return text\n",
    "\n",
    "\n",
    "def get_initials(name: str) -> str:\n",
    "    \"\"\" Get the short name, e.g., A.-B. FamName\n",
    "    :param name: full name\n",
    "    :returns: initials\n",
    "    \"\"\"\n",
    "    initials = []\n",
    "    # account for non western names often in ()\n",
    "    if '(' in name:\n",
    "        name = clean_non_western_encoded_characters_commands(name)\n",
    "        suffix = re.findall(r\"\\((.*?)\\)\", name)[0]\n",
    "        name = name.replace(f\"({suffix})\", '')\n",
    "    else:\n",
    "        suffix = ''\n",
    "    split = name.split()\n",
    "    for token in split[:-1]:\n",
    "        if '-' in token:\n",
    "            current = '-'.join([k[0] + '.' for k in token.split('-')])\n",
    "        else:\n",
    "            current = token[0] + '.'\n",
    "        initials.append(current)\n",
    "    initials.append(split[-1].strip())\n",
    "    if suffix:\n",
    "        initials.append(f\"({suffix})\")\n",
    "    return ' '.join(initials)"
   ]
  },
  {
   "cell_type": "markdown",
   "id": "14bd6310",
   "metadata": {
    "papermill": {
     "duration": 0.002961,
     "end_time": "2025-04-17T04:12:53.472592",
     "exception": false,
     "start_time": "2025-04-17T04:12:53.469631",
     "status": "completed"
    },
    "tags": []
   },
   "source": [
    "## get list of arxiv paper candidates\n",
    "\n",
    "We use the MPIA mitarbeiter list webpage from mpia.de to get author names\n",
    "We then get all new papers from Arxiv and match authors"
   ]
  },
  {
   "cell_type": "code",
   "execution_count": 3,
   "id": "7ea813a8",
   "metadata": {
    "execution": {
     "iopub.execute_input": "2025-04-17T04:12:53.479536Z",
     "iopub.status.busy": "2025-04-17T04:12:53.479265Z",
     "iopub.status.idle": "2025-04-17T04:13:13.833878Z",
     "shell.execute_reply": "2025-04-17T04:13:13.833196Z"
    },
    "papermill": {
     "duration": 20.359788,
     "end_time": "2025-04-17T04:13:13.835321",
     "exception": false,
     "start_time": "2025-04-17T04:12:53.475533",
     "status": "completed"
    },
    "tags": []
   },
   "outputs": [],
   "source": [
    "# deal with the author list and edge cases of people that cannot be consistent on their name  \n",
    "\n",
    "def filter_non_scientists(name: str) -> bool:\n",
    "    \"\"\" Loose filter on expected authorships\n",
    "\n",
    "    removing IT, administration, technical staff\n",
    "    :param name: name\n",
    "    :returns: False if name is not a scientist\n",
    "    \"\"\"\n",
    "    remove_list = ['Licht', 'Binroth', 'Witzel', 'Jordan',\n",
    "                   'Zähringer', 'Scheerer', 'Hoffmann', 'Düe',\n",
    "                   'Hellmich', 'Enkler-Scharpegge', 'Witte-Nguy',\n",
    "                   'Dehen', 'Beckmann', 'Jager', 'Jäger'\n",
    "                  ]\n",
    "\n",
    "    for k in remove_list:\n",
    "        if k in name:\n",
    "            return False\n",
    "    return True\n",
    "\n",
    "def add_author_to_list(author_list: list) -> list:\n",
    "    \"\"\" Add author to list if not already in list\n",
    "    \n",
    "    :param author: author name\n",
    "    :param author_list: list of authors\n",
    "    :returns: updated list of authors\n",
    "    \"\"\"\n",
    "    add_list = ['T. Henning']\n",
    "\n",
    "    for author in add_list:\n",
    "        if author not in author_list:\n",
    "            author_list.append(author)\n",
    "    return author_list\n",
    "\n",
    "# get list from MPIA website\n",
    "# filter for non-scientists (mpia.get_mpia_mitarbeiter_list() does some filtering)\n",
    "mpia_authors = [k[1] for k in mpia.get_mpia_mitarbeiter_list() if filter_non_scientists(k[1])]\n",
    "# add some missing author because of inconsistencies in their MPIA name and author name on papers\n",
    "mpia_authors = add_author_to_list(mpia_authors)"
   ]
  },
  {
   "cell_type": "code",
   "execution_count": 4,
   "id": "2645e73a",
   "metadata": {
    "execution": {
     "iopub.execute_input": "2025-04-17T04:13:13.842821Z",
     "iopub.status.busy": "2025-04-17T04:13:13.842399Z",
     "iopub.status.idle": "2025-04-17T04:13:14.478462Z",
     "shell.execute_reply": "2025-04-17T04:13:14.477816Z"
    },
    "papermill": {
     "duration": 0.640919,
     "end_time": "2025-04-17T04:13:14.479553",
     "exception": false,
     "start_time": "2025-04-17T04:13:13.838634",
     "status": "completed"
    },
    "tags": []
   },
   "outputs": [
    {
     "name": "stdout",
     "output_type": "stream",
     "text": [
      "K. El-Badry  ->  K. El-Badry  |  ['K. El-Badry']\n",
      "X. Zhang  ->  X. Zhang  |  ['X. Zhang']\n",
      "J. Li  ->  J. Li  |  ['J. Li']\n",
      "J. Li  ->  J. Li  |  ['J. Li']\n",
      "S. Kraus  ->  S. Kraus  |  ['S. Kraus']\n",
      "N. Hoyer  ->  N. Hoyer  |  ['N. Hoyer']\n",
      "N. Neumayer  ->  N. Neumayer  |  ['N. Neumayer']\n",
      "R. Andrassy  ->  R. Andrassy  |  ['R. Andrassy']\n",
      "Arxiv has 58 new papers today\n",
      "          7 with possible author matches\n"
     ]
    }
   ],
   "source": [
    "new_papers = get_new_papers()\n",
    "# add manual references\n",
    "add_paper_refs = []\n",
    "new_papers.extend([get_paper_from_identifier(k) for k in add_paper_refs])\n",
    "\n",
    "def robust_call(fn, value, *args, **kwargs):\n",
    "    try:\n",
    "        return fn(value, *args, **kwargs)\n",
    "    except Exception:\n",
    "        return value\n",
    "\n",
    "candidates = []\n",
    "for paperk in new_papers:\n",
    "    # Check author list with their initials\n",
    "    normed_author_list = [robust_call(mpia.get_initials, k) for k in paperk['authors']]\n",
    "    hl_authors = highlight_authors_in_list(normed_author_list, mpia_authors, verbose=True)\n",
    "    matches = [(hl, orig) for hl, orig in zip(hl_authors, paperk['authors']) if 'mark' in hl]\n",
    "    paperk['authors'] = hl_authors\n",
    "    if matches:\n",
    "        # only select paper if an author matched our list\n",
    "        candidates.append(paperk)\n",
    "print(\"\"\"Arxiv has {0:,d} new papers today\"\"\".format(len(new_papers)))        \n",
    "print(\"\"\"          {0:,d} with possible author matches\"\"\".format(len(candidates)))"
   ]
  },
  {
   "cell_type": "markdown",
   "id": "3543b34a",
   "metadata": {
    "papermill": {
     "duration": 0.003045,
     "end_time": "2025-04-17T04:13:14.486120",
     "exception": false,
     "start_time": "2025-04-17T04:13:14.483075",
     "status": "completed"
    },
    "tags": []
   },
   "source": [
    "# Parse sources and generate relevant outputs\n",
    "\n",
    "From the candidates, we do the following steps:\n",
    "* get their tarball from ArXiv (and extract data)\n",
    "* find the main .tex file: find one with \\documentclass{...} (sometimes it's non trivial)\n",
    "* Check affiliations with :func:`validation`, which uses :func:`mpia.affiliation_verifications`\n",
    "* If passing the affiliations: we parse the .tex source\n",
    "   * inject sub-documents into the main (flatten the main document)\n",
    "   * parse structure, extract information (title, abstract, authors, figures...)\n",
    "   * handles `\\graphicspath` if provided\n",
    "* Generate the .md document."
   ]
  },
  {
   "cell_type": "code",
   "execution_count": 5,
   "id": "9576b79e",
   "metadata": {
    "execution": {
     "iopub.execute_input": "2025-04-17T04:13:14.493219Z",
     "iopub.status.busy": "2025-04-17T04:13:14.492782Z",
     "iopub.status.idle": "2025-04-17T04:13:56.355768Z",
     "shell.execute_reply": "2025-04-17T04:13:56.355031Z"
    },
    "papermill": {
     "duration": 41.867763,
     "end_time": "2025-04-17T04:13:56.356912",
     "exception": false,
     "start_time": "2025-04-17T04:13:14.489149",
     "status": "completed"
    },
    "scrolled": false,
    "tags": []
   },
   "outputs": [
    {
     "data": {
      "application/vnd.jupyter.widget-view+json": {
       "model_id": "28ad645daaa842978dfa75d09712565e",
       "version_major": 2,
       "version_minor": 0
      },
      "text/plain": [
       "  0%|          | 0/7 [00:00<?, ?it/s]"
      ]
     },
     "metadata": {},
     "output_type": "display_data"
    },
    {
     "name": "stdout",
     "output_type": "stream",
     "text": [
      "Retrieving document from  https://arxiv.org/e-print/2504.11528\n",
      "extracting tarball to tmp_2504.11528... done.\n",
      "Retrieving document from  https://arxiv.org/e-print/2504.11546\n"
     ]
    },
    {
     "name": "stdout",
     "output_type": "stream",
     "text": [
      "extracting tarball to tmp_2504.11546..."
     ]
    },
    {
     "name": "stdout",
     "output_type": "stream",
     "text": [
      " done.\n",
      "Retrieving document from  https://arxiv.org/e-print/2504.11945\n"
     ]
    },
    {
     "name": "stderr",
     "output_type": "stream",
     "text": [
      "/opt/hostedtoolcache/Python/3.9.22/x64/lib/python3.9/site-packages/IPython/core/interactiveshell.py:3550: LatexWarning: Multiple tex files.\n",
      "\n",
      "  exec(code_obj, self.user_global_ns, self.user_ns)\n",
      "/opt/hostedtoolcache/Python/3.9.22/x64/lib/python3.9/site-packages/IPython/core/interactiveshell.py:3550: LatexWarning: Found documentclass in tmp_2504.11546/high-mags.tex\n",
      "\n",
      "  exec(code_obj, self.user_global_ns, self.user_ns)\n"
     ]
    },
    {
     "name": "stdout",
     "output_type": "stream",
     "text": [
      "extracting tarball to tmp_2504.11945..."
     ]
    },
    {
     "name": "stdout",
     "output_type": "stream",
     "text": [
      " done.\n",
      "Retrieving document from  https://arxiv.org/e-print/2504.11954\n"
     ]
    },
    {
     "name": "stderr",
     "output_type": "stream",
     "text": [
      "/opt/hostedtoolcache/Python/3.9.22/x64/lib/python3.9/site-packages/IPython/core/interactiveshell.py:3550: LatexWarning: Multiple tex files.\n",
      "\n",
      "  exec(code_obj, self.user_global_ns, self.user_ns)\n",
      "/opt/hostedtoolcache/Python/3.9.22/x64/lib/python3.9/site-packages/IPython/core/interactiveshell.py:3550: LatexWarning: Found documentclass in tmp_2504.11945/main_cleaned2post.tex\n",
      "\n",
      "  exec(code_obj, self.user_global_ns, self.user_ns)\n",
      "/opt/hostedtoolcache/Python/3.9.22/x64/lib/python3.9/site-packages/arxiv_on_deck_2/latex.py:414: LatexWarning: Latex injecting: 'Ref2.tex' from 'tmp_2504.11945/Ref2.tex'\n",
      "  warnings.warn(LatexWarning(f\"Latex injecting: '{ext}' from '{subsource}'\"))\n",
      "/opt/hostedtoolcache/Python/3.9.22/x64/lib/python3.9/site-packages/arxiv_on_deck_2/latex.py:414: LatexWarning: Latex injecting: 'Ref1' from 'tmp_2504.11945/Ref1.tex'\n",
      "  warnings.warn(LatexWarning(f\"Latex injecting: '{ext}' from '{subsource}'\"))\n"
     ]
    },
    {
     "name": "stdout",
     "output_type": "stream",
     "text": [
      "extracting tarball to tmp_2504.11954..."
     ]
    },
    {
     "name": "stdout",
     "output_type": "stream",
     "text": [
      " done.\n",
      "  0: tmp_2504.11954/sample631.tex, 504 lines\n",
      "  1: tmp_2504.11954/SB2_orbits-_ApJS_arxiv_submit_20250415/sample631.tex, 504 lines\n",
      "Retrieving document from  https://arxiv.org/e-print/2504.12046\n"
     ]
    },
    {
     "name": "stderr",
     "output_type": "stream",
     "text": [
      "/opt/hostedtoolcache/Python/3.9.22/x64/lib/python3.9/site-packages/IPython/core/interactiveshell.py:3550: LatexWarning: Multiple tex files.\n",
      "\n",
      "  exec(code_obj, self.user_global_ns, self.user_ns)\n",
      "/opt/hostedtoolcache/Python/3.9.22/x64/lib/python3.9/site-packages/IPython/core/interactiveshell.py:3550: LatexWarning: Found 2 candidates with documentclass definition.\n",
      "  exec(code_obj, self.user_global_ns, self.user_ns)\n",
      "/opt/hostedtoolcache/Python/3.9.22/x64/lib/python3.9/site-packages/IPython/core/interactiveshell.py:3550: LatexWarning: Assuming tmp_2504.11954/sample631.tex as main document.\n",
      "  exec(code_obj, self.user_global_ns, self.user_ns)\n"
     ]
    },
    {
     "name": "stdout",
     "output_type": "stream",
     "text": [
      "extracting tarball to tmp_2504.12046..."
     ]
    },
    {
     "name": "stdout",
     "output_type": "stream",
     "text": [
      " done.\n",
      "Retrieving document from  https://arxiv.org/e-print/2504.12079\n"
     ]
    },
    {
     "name": "stdout",
     "output_type": "stream",
     "text": [
      "extracting tarball to tmp_2504.12079..."
     ]
    },
    {
     "name": "stdout",
     "output_type": "stream",
     "text": [
      " done.\n"
     ]
    },
    {
     "name": "stderr",
     "output_type": "stream",
     "text": [
      "/opt/hostedtoolcache/Python/3.9.22/x64/lib/python3.9/site-packages/IPython/core/interactiveshell.py:3550: LatexWarning: Multiple tex files.\n",
      "\n",
      "  exec(code_obj, self.user_global_ns, self.user_ns)\n",
      "/opt/hostedtoolcache/Python/3.9.22/x64/lib/python3.9/site-packages/IPython/core/interactiveshell.py:3550: LatexWarning: Found documentclass in tmp_2504.12079/main.tex\n",
      "\n",
      "  exec(code_obj, self.user_global_ns, self.user_ns)\n",
      "/opt/hostedtoolcache/Python/3.9.22/x64/lib/python3.9/site-packages/arxiv_on_deck_2/latex.py:414: LatexWarning: Latex injecting: 'appendix_a' from 'tmp_2504.12079/appendix_a.tex'\n",
      "  warnings.warn(LatexWarning(f\"Latex injecting: '{ext}' from '{subsource}'\"))\n",
      "/opt/hostedtoolcache/Python/3.9.22/x64/lib/python3.9/site-packages/arxiv_on_deck_2/latex.py:414: LatexWarning: Latex injecting: 'conclusions.tex' from 'tmp_2504.12079/conclusions.tex'\n",
      "  warnings.warn(LatexWarning(f\"Latex injecting: '{ext}' from '{subsource}'\"))\n",
      "/opt/hostedtoolcache/Python/3.9.22/x64/lib/python3.9/site-packages/arxiv_on_deck_2/latex.py:414: LatexWarning: Latex injecting: 'results.tex' from 'tmp_2504.12079/results.tex'\n",
      "  warnings.warn(LatexWarning(f\"Latex injecting: '{ext}' from '{subsource}'\"))\n",
      "/opt/hostedtoolcache/Python/3.9.22/x64/lib/python3.9/site-packages/arxiv_on_deck_2/latex.py:414: LatexWarning: Latex injecting: 'methods.tex' from 'tmp_2504.12079/methods.tex'\n",
      "  warnings.warn(LatexWarning(f\"Latex injecting: '{ext}' from '{subsource}'\"))\n",
      "/opt/hostedtoolcache/Python/3.9.22/x64/lib/python3.9/site-packages/arxiv_on_deck_2/latex.py:414: LatexWarning: Latex injecting: 'introduction.tex' from 'tmp_2504.12079/introduction.tex'\n",
      "  warnings.warn(LatexWarning(f\"Latex injecting: '{ext}' from '{subsource}'\"))\n"
     ]
    },
    {
     "name": "stdout",
     "output_type": "stream",
     "text": [
      "Found 367 bibliographic references in tmp_2504.12079/main.bbl.\n",
      "Issues with the citations\n",
      "syntax error in line 1747: '=' expected\n",
      "Retrieving document from  https://arxiv.org/e-print/2504.12213\n"
     ]
    },
    {
     "name": "stdout",
     "output_type": "stream",
     "text": [
      "extracting tarball to tmp_2504.12213..."
     ]
    },
    {
     "name": "stdout",
     "output_type": "stream",
     "text": [
      " done.\n"
     ]
    }
   ],
   "source": [
    "documents = []\n",
    "failed = []\n",
    "for paper in tqdm(candidates):\n",
    "    # debug crap\n",
    "    paper['identifier'] = paper['identifier'].lower().replace('arxiv:', '').replace(r'\\n', '').strip()\n",
    "    paper_id = paper['identifier']\n",
    "    \n",
    "    folder = f'tmp_{paper_id}'\n",
    "\n",
    "    try:\n",
    "        if not os.path.isdir(folder):\n",
    "            folder = retrieve_document_source(f\"{paper_id}\", f'tmp_{paper_id}')\n",
    "        \n",
    "        try:\n",
    "            doc = latex.LatexDocument(folder, validation=validation)    \n",
    "        except AffiliationError as affilerror:\n",
    "            msg = f\"ArXiv:{paper_id:s} is not an MPIA paper... \" + str(affilerror)\n",
    "            failed.append((paper, \"affiliation error: \" + str(affilerror) ))\n",
    "            continue\n",
    "        \n",
    "        # Hack because sometimes author parsing does not work well\n",
    "        if (len(doc.authors) != len(paper['authors'])):\n",
    "            doc._authors = paper['authors']\n",
    "        else:\n",
    "            # highlight authors (FIXME: doc.highlight_authors)\n",
    "            # done on arxiv paper already\n",
    "            doc._authors = highlight_authors_in_list(\n",
    "                [get_initials(k) for k in doc.authors], \n",
    "                mpia_authors, verbose=True)\n",
    "        if (doc.abstract) in (None, ''):\n",
    "            doc._abstract = paper['abstract']\n",
    "            \n",
    "        doc.comment = (get_markdown_badge(paper_id) + \n",
    "                       \"<mark>Appeared on: \" + paper['date'] + \"</mark> - \")\n",
    "        if paper['comments']:\n",
    "            doc.comment += \" _\" + paper['comments'] + \"_\"\n",
    "        \n",
    "        full_md = doc.generate_markdown_text()\n",
    "        \n",
    "        full_md += get_markdown_qrcode(paper_id)\n",
    "        \n",
    "        # replace citations\n",
    "        try:\n",
    "            bibdata = latex_bib.LatexBib.from_doc(doc)\n",
    "            full_md = latex_bib.replace_citations(full_md, bibdata)\n",
    "        except Exception as e:\n",
    "            print(\"Issues with the citations\")\n",
    "            print(e)\n",
    "        \n",
    "        documents.append((paper_id, full_md))\n",
    "    except Exception as e:\n",
    "        warnings.warn(latex.LatexWarning(f\"{paper_id:s} did not run properly\\n\" +\n",
    "                                         str(e)\n",
    "                                        ))\n",
    "        failed.append((paper, \"latex error \" + str(e)))"
   ]
  },
  {
   "cell_type": "markdown",
   "id": "2505a25c",
   "metadata": {
    "papermill": {
     "duration": 0.003935,
     "end_time": "2025-04-17T04:13:56.365146",
     "exception": false,
     "start_time": "2025-04-17T04:13:56.361211",
     "status": "completed"
    },
    "tags": []
   },
   "source": [
    "### Export the logs\n",
    "\n",
    "Throughout, we also keep track of the logs per paper. see `logs-{today date}.md` "
   ]
  },
  {
   "cell_type": "code",
   "execution_count": 6,
   "id": "d733828a",
   "metadata": {
    "execution": {
     "iopub.execute_input": "2025-04-17T04:13:56.374055Z",
     "iopub.status.busy": "2025-04-17T04:13:56.373815Z",
     "iopub.status.idle": "2025-04-17T04:13:56.392471Z",
     "shell.execute_reply": "2025-04-17T04:13:56.391880Z"
    },
    "papermill": {
     "duration": 0.024398,
     "end_time": "2025-04-17T04:13:56.393539",
     "exception": false,
     "start_time": "2025-04-17T04:13:56.369141",
     "status": "completed"
    },
    "scrolled": false,
    "tags": []
   },
   "outputs": [
    {
     "data": {
      "text/markdown": [
       "## Successful papers"
      ],
      "text/plain": [
       "<IPython.core.display.Markdown object>"
      ]
     },
     "metadata": {},
     "output_type": "display_data"
    },
    {
     "data": {
      "text/markdown": [
       "\n",
       "|||\n",
       "|---:|:---|\n",
       "| [![arXiv](https://img.shields.io/badge/arXiv-2504.12079-b31b1b.svg)](https://arxiv.org/abs/2504.12079) | **Massive Star Clusters in the Semi-Analytical Galaxy Formation Model L-Galaxies 2020**  |\n",
       "|| <mark>N. Hoyer</mark>, et al. -- incl., <mark>N. Neumayer</mark> |\n",
       "|*Appeared on*| *2025-04-17*|\n",
       "|*Comments*| *Resubmitted to A&A. 24 pages, eight figures, two tables. Abstract abriged to meet arXiv requirements*|\n",
       "|**Abstract**|            It is established that there exists a direct link between the formation history of star cluster populations and their host galaxies, however, our lacking understanding of star cluster assembly prohibits us to make full use of their ability to trace galaxy evolution. In this work we introduce a new variation of the 2020 version of the semi-analytical galaxy formation model \"L-Galaxies\" that includes the formation of star clusters above 10^4 M_Sun and probes different physical assumptions that affect their evolution over cosmic time. We use properties of different galaxy components and localised star formation to determine the bound fraction of star formation in disks. After randomly sampling masses from an environmentally-dependent star cluster initial mass function, we assign to each object a half-mass radius, metallicity, and distance from the galaxy centre. We consider up to 2000 individual star clusters per galaxy and evolve their properties over time taking into account stellar evolution, two-body relaxation, tidal shocks, dynamical friction, and a re-positioning during galaxy mergers. Our simulation successfully reproduces several observational quantities, such as the empirical relationship between the absolute V -band magnitude of the brightest young star clusters and the host galaxy star formation rate, the mass function of young star clusters, or mean metallicities of the star cluster distributions versus galaxy masses. The simulation reveals great complexity in the z = 0 star cluster population resulting from differential destruction channels and origins, including in-situ populations in the disk, a major merger-induced heated component in the halo, and accreted star clusters. Model variations point out the importance of e.g. the shape of the star cluster initial mass function or the relationship between the sound speed of cold gas and the star formation rate.         |"
      ],
      "text/plain": [
       "[2504.12079] Massive Star Clusters in the Semi-Analytical Galaxy Formation Model L-Galaxies 2020\n",
       "\t<mark>N. Hoyer</mark>, et al. -- incl., <mark>N. Neumayer</mark>"
      ]
     },
     "metadata": {},
     "output_type": "display_data"
    },
    {
     "data": {
      "text/markdown": [
       "## Failed papers"
      ],
      "text/plain": [
       "<IPython.core.display.Markdown object>"
      ]
     },
     "metadata": {},
     "output_type": "display_data"
    },
    {
     "data": {
      "text/markdown": [
       "\n",
       "|||\n",
       "|---:|:---|\n",
       "| [![arXiv](https://img.shields.io/badge/arXiv-2504.11546-b31b1b.svg)](https://arxiv.org/abs/2504.11546) | **Constraining Lens Masses in Moderately to Highly Magnified Microlensing Events from Gaia**  |\n",
       "|| U. Pylypenko, et al. |\n",
       "|*Appeared on*| *2025-04-17*|\n",
       "|*Comments*| *Submitted to A&A; 18 pages, 12 figures*|\n",
       "|**Abstract**|            Microlensing events provide a unique way to detect and measure the masses of isolated, non-luminous objects, particularly dark stellar remnants. Under certain conditions, it is possible to measure the mass of these objects using photometry alone, specifically when a microlensing light curve displays a finite-source (FS) effect. This effect generally occurs in highly magnified light curves, i.e. when the source and the lens are very well aligned. In this study, we analyse Gaia Alerts and Gaia Data Release 3 datasets, identifying four moderate-to-high-magnification microlensing events without a discernible FS effect. The absence of this effect suggests a large Einstein radius, implying substantial lens masses. In each event, we constrain the FS effect and therefore establish lower limits for angular Einstein radius and lens mass. Additionally, we use the DarkLensCode software to obtain mass, distance, and brightness distribution for the lens based on the Galactic model. Our analysis established lower mass limits of $\\sim 0.2$ $M_{\\odot}$ for one lens and $\\sim 0.3-0.5$ $M_{\\odot}$ for two others. DarkLensCode analysis supports these findings, estimating lens masses in the range of$\\sim 0.42-1.66$ $M_{\\odot}$ and dark lens probabilities exceeding 60\\%. These results strongly indicate that the lenses are stellar remnants, such as white dwarfs or neutron stars. While further investigations are required to confirm the nature of these lenses, we demonstrate a straightforward yet effective approach to identifying stellar remnant candidates.         |\n",
       "|<p style=\"color:green\"> **ERROR** </p>| <p style=\"color:green\">affiliation error: mpia.affiliation_verifications: '69117' keyword not found.</p> |"
      ],
      "text/plain": [
       "<IPython.core.display.Markdown object>"
      ]
     },
     "metadata": {},
     "output_type": "display_data"
    },
    {
     "data": {
      "text/markdown": [
       "\n",
       "|||\n",
       "|---:|:---|\n",
       "| [![arXiv](https://img.shields.io/badge/arXiv-2504.12046-b31b1b.svg)](https://arxiv.org/abs/2504.12046) | **The Dynamic Inner Disk of a Planet Forming Star**  |\n",
       "|| B. R. Setterholm, et al. -- incl., <mark>S. Kraus</mark> |\n",
       "|*Appeared on*| *2025-04-17*|\n",
       "|*Comments*| *25 pages, 16 figures*|\n",
       "|**Abstract**|            Planets are a natural byproduct of the stellar formation process, resulting from local aggregations of material within the disks surrounding young stars. Whereas signatures of gas-giant planets at large orbital separations have been observed and successfully modeled within protoplanetary disks, the formation pathways of planets within their host star's future habitable zones remain poorly understood. Analyzing multiple nights of observations conducted over a short, two-month span with the MIRC-X and PIONIER instruments at the CHARA Array and VLTI, respectively, we uncover a highly active environment at the inner-edge of the planet formation region in the disk of HD 163296. In particular, we localize and track the motion of a disk feature near the dust-sublimation radius with a pattern speed of less than half the local Keplerian velocity, providing a potential glimpse at the planet formation process in action within the inner astronomical unit. We emphasize that this result is at the edge of what is currently possible with available optical interferometric techniques and behooves confirmation with a temporally dense followup observing campaign.         |\n",
       "|<p style=\"color:green\"> **ERROR** </p>| <p style=\"color:green\">affiliation error: mpia.affiliation_verifications: '69117' keyword not found.</p> |"
      ],
      "text/plain": [
       "<IPython.core.display.Markdown object>"
      ]
     },
     "metadata": {},
     "output_type": "display_data"
    },
    {
     "data": {
      "text/markdown": [
       "\n",
       "|||\n",
       "|---:|:---|\n",
       "| [![arXiv](https://img.shields.io/badge/arXiv-2504.12213-b31b1b.svg)](https://arxiv.org/abs/2504.12213) | **Magnetically driven outflows in 3D common-envelope evolution of massive stars**  |\n",
       "|| M. Vetter, et al. -- incl., <mark>R. Andrassy</mark> |\n",
       "|*Appeared on*| *2025-04-17*|\n",
       "|*Comments*| *19 Pages, 13 Figures*|\n",
       "|**Abstract**|            Recent three-dimensional magnetohydrodynamical simulations of the common-envelope interaction revealed the self-consistent formation of bipolar magnetically driven outflows launched from a toroidal structure resembling a circumbinary disk. So far, the dynamical impact of bipolar outflows on the common-envelope phase remains uncertain and we aim to quantify its importance. We illustrate the impact on common-envelope evolution by comparing two simulations -- one with magnetic fields and one without -- using the three-dimensional moving-mesh hydrodynamics code AREPO. We focus on the specific case of a $10 M_\\odot$ red supergiant star with a $5 M_\\odot$ black hole companion. By the end of the magnetohydrodynamic simulations (after $\\sim 1220$ orbits of the core binary system), about $6.4 \\%$ of the envelope mass is ejected via the bipolar outflow, contributing to angular momentum extraction from the disk structure and core binary. The resulting enhanced torques reduce the final orbital separation by about $24 \\%$ compared to the hydrodynamical scenario, while the overall envelope ejection remains dominated by recombination-driven equatorial winds. We analyze field amplification and outflow launching mechanisms, confirming consistency with earlier studies: magnetic fields are amplified by shear flows, and outflows are launched by a magneto-centrifugal process, supported by local shocks and magnetic pressure gradients. These outflows originate from $\\sim 1.1$ times the orbital separation. We conclude that the magnetically driven outflows and their role in the dynamical interaction are a universal aspect, and we further propose an adaptation of the $\\alpha_\\mathrm{CE}$-formalism by adjusting the final orbital energy with a factor of $1+ M_\\mathrm{out}/\\mu$, where $M_\\mathrm{out}$ is the mass ejected through the outflows and $\\mu$ the reduced mass of the core binary. (abridged)         |\n",
       "|<p style=\"color:green\"> **ERROR** </p>| <p style=\"color:green\">affiliation error: mpia.affiliation_verifications: '69117' keyword not found.</p> |"
      ],
      "text/plain": [
       "<IPython.core.display.Markdown object>"
      ]
     },
     "metadata": {},
     "output_type": "display_data"
    },
    {
     "data": {
      "text/markdown": [
       "\n",
       "|||\n",
       "|---:|:---|\n",
       "| [![arXiv](https://img.shields.io/badge/arXiv-2504.11528-b31b1b.svg)](https://arxiv.org/abs/2504.11528) | **How to use Gaia parallaxes for stars with poor astrometric fits**  |\n",
       "|| <mark>K. El-Badry</mark> |\n",
       "|*Appeared on*| *2025-04-17*|\n",
       "|*Comments*| *7 pages, 5 figures. Submitted to OJAp. Example usage at this https URL*|\n",
       "|**Abstract**|            Gaia parallax measurements for stars with poor astrometric fits -- as evidenced by high renormalized unit weight error (RUWE) -- are often assumed to be unreliable, but the extent and nature of their biases remain poorly quantified. High RUWE is usually a consequence of binarity or higher-order multiplicity, so the parallaxes of sources with high RUWE are often of greatest astrophysical interest. Using realistic simulations of Gaia epoch astrometry, we show that the parallax uncertainties of sources with elevated RUWE are underestimated by a factor that ranges from 1 to 4 and can be robustly predicted from observables. We derive an empirical prescription to inflate reported uncertainties based on a simple analytic function of RUWE, apparent magnitude, and parallax. We validate the correction using (a) single-star solutions for Gaia sources with known orbital solutions and (b) wide binaries containing one component with elevated RUWE. The same uncertainty corrections are expected to perform well in DR4 and DR5. Our results demonstrate that Gaia parallaxes for high-RUWE sources can still yield robust distance estimates if uncertainties are appropriately inflated, enabling distance constraints for triples, binaries with periods too long or too short to be fit astrometrically, and sources blended with neighboring sources.         |\n",
       "|<p style=\"color:green\"> **ERROR** </p>| <p style=\"color:green\">affiliation error: mpia.affiliation_verifications: 'Heidelberg' keyword not found.</p> |"
      ],
      "text/plain": [
       "<IPython.core.display.Markdown object>"
      ]
     },
     "metadata": {},
     "output_type": "display_data"
    },
    {
     "data": {
      "text/markdown": [
       "\n",
       "|||\n",
       "|---:|:---|\n",
       "| [![arXiv](https://img.shields.io/badge/arXiv-2504.11945-b31b1b.svg)](https://arxiv.org/abs/2504.11945) | **Jets from a stellar-mass black hole are as relativistic as those from supermassive black holes**  |\n",
       "|| <mark>X. Zhang</mark>, et al. |\n",
       "|*Appeared on*| *2025-04-17*|\n",
       "|*Comments*| *40 pages, 16 figures, submitted version in December 2024*|\n",
       "|**Abstract**|            Relativistic jets from supermassive black holes in active galactic nuclei are amongst the most powerful phenomena in the universe, acting to regulate the growth of massive galaxies. Similar jets from stellar-mass black holes offer a chance to study the same phenomena on accessible observation time scales. However, such comparative studies across black hole masses and time scales remain hampered by the long-standing perception that stellar-mass black hole jets are in a less relativistic regime. We used radio interferometry observations to monitor the Galactic black hole X-ray binary 4U 1543-47 and discovered two distinct, relativistic ejections launched during a single outburst. Our measurements reveal a likely Lorentz factor of $\\sim$ 8 and a minimum of 4.6 at launch with 95% confidence, demonstrating that stellar-mass black holes in X-ray binaries can launch jets as relativistic as those seen in active galactic nuclei.         |\n",
       "|<p style=\"color:green\"> **ERROR** </p>| <p style=\"color:green\">affiliation error: mpia.affiliation_verifications: 'Heidelberg' keyword not found.</p> |"
      ],
      "text/plain": [
       "<IPython.core.display.Markdown object>"
      ]
     },
     "metadata": {},
     "output_type": "display_data"
    },
    {
     "data": {
      "text/markdown": [
       "\n",
       "|||\n",
       "|---:|:---|\n",
       "| [![arXiv](https://img.shields.io/badge/arXiv-2504.11954-b31b1b.svg)](https://arxiv.org/abs/2504.11954) | **Orbital Parameters of 665 Double-lined Spectroscopic Binaries in the LAMOST Medium-Resolution Survey**  |\n",
       "|| S. Guo, et al. -- incl., <mark>J. Li</mark>, <mark>J. Li</mark> |\n",
       "|*Appeared on*| *2025-04-17*|\n",
       "|*Comments*| *Accepted for publication in ApJSS, 18 pages, 13 figures*|\n",
       "|**Abstract**|            The period, mass ratio, eccentricity, and other orbital parameters are fundamental for investigating binary star evolution. However, the number of binaries with known orbital parameters remains limited. Utilizing the LAMOST-MRS survey, we derived orbital solutions for 665 SB2 binaries by fitting the radial velocities of 1119 SB2 systems with at least six observations, employing a modified version of Thejoker optimized for SB2 binaries. To ensure the reliability of the results, four selection criteria were applied: reduced chi-square, normalized mean absolute error, maximum phase gap, and RV distribution metric. After applying these criteria, 665 reliable orbits were retained. Comparison with Kepler, TESS, and ZTF light curve data shows excellent agreement, with discrepancies in some cases attributed to shorter pulsation periods observed in light curves. Additionally, good consistency is found between our periods and those of SB1 systems in Gaia data. These orbital solutions contribute to understanding binary star evolution and the statistical properties of binary populations.         |\n",
       "|<p style=\"color:green\"> **ERROR** </p>| <p style=\"color:green\">affiliation error: mpia.affiliation_verifications: 'Heidelberg' keyword not found.</p> |"
      ],
      "text/plain": [
       "<IPython.core.display.Markdown object>"
      ]
     },
     "metadata": {},
     "output_type": "display_data"
    }
   ],
   "source": [
    "import datetime\n",
    "today = str(datetime.date.today())\n",
    "logfile = f\"_build/html/logs/log-{today}.md\"\n",
    "\n",
    "\n",
    "with open(logfile, 'w') as logs:\n",
    "    # Success\n",
    "    logs.write(f'# Arxiv on Deck 2: Logs - {today}\\n\\n')\n",
    "    logs.write(\"\"\"* Arxiv had {0:,d} new papers\\n\"\"\".format(len(new_papers)))\n",
    "    logs.write(\"\"\"    * {0:,d} with possible author matches\\n\\n\"\"\".format(len(candidates)))\n",
    "    logs.write(\"## Sucessful papers\\n\\n\")\n",
    "    display(Markdown(\"## Successful papers\"))\n",
    "    success = [k[0] for k in documents]\n",
    "    for candid in candidates:\n",
    "        if candid['identifier'].split(':')[-1] in success:\n",
    "            display(candid)\n",
    "            logs.write(candid.generate_markdown_text() + '\\n\\n')\n",
    "\n",
    "    ## failed\n",
    "    logs.write(\"## Failed papers\\n\\n\")\n",
    "    display(Markdown(\"## Failed papers\"))\n",
    "    failed = sorted(failed, key=lambda x: x[1])\n",
    "    current_reason = \"\"\n",
    "    for paper, reason in failed:\n",
    "        if 'affiliation' in reason:\n",
    "            color = 'green'\n",
    "        else:\n",
    "            color = 'red'\n",
    "        data = Markdown(\n",
    "                paper.generate_markdown_text() + \n",
    "                f'\\n|<p style=\"color:{color:s}\"> **ERROR** </p>| <p style=\"color:{color:s}\">{reason:s}</p> |'\n",
    "               )\n",
    "        if reason != current_reason:\n",
    "            logs.write(f'### {reason:s} \\n\\n')\n",
    "            current_reason = reason\n",
    "        logs.write(data.data + '\\n\\n')\n",
    "        \n",
    "        # only display here the important errors (all in logs)\n",
    "        # if color in ('red',):\n",
    "        display(data)"
   ]
  },
  {
   "cell_type": "markdown",
   "id": "472d20ee",
   "metadata": {
    "papermill": {
     "duration": 0.004821,
     "end_time": "2025-04-17T04:13:56.403447",
     "exception": false,
     "start_time": "2025-04-17T04:13:56.398626",
     "status": "completed"
    },
    "tags": []
   },
   "source": [
    "## Export documents\n",
    "\n",
    "We now write the .md files and export relevant images"
   ]
  },
  {
   "cell_type": "code",
   "execution_count": 7,
   "id": "d426aed9",
   "metadata": {
    "execution": {
     "iopub.execute_input": "2025-04-17T04:13:56.414556Z",
     "iopub.status.busy": "2025-04-17T04:13:56.414114Z",
     "iopub.status.idle": "2025-04-17T04:13:56.421177Z",
     "shell.execute_reply": "2025-04-17T04:13:56.420641Z"
    },
    "papermill": {
     "duration": 0.01363,
     "end_time": "2025-04-17T04:13:56.422177",
     "exception": false,
     "start_time": "2025-04-17T04:13:56.408547",
     "status": "completed"
    },
    "tags": []
   },
   "outputs": [],
   "source": [
    "def export_markdown_summary(md: str, md_fname:str, directory: str):\n",
    "    \"\"\"Export MD document and associated relevant images\"\"\"\n",
    "    import os\n",
    "    import shutil\n",
    "    import re\n",
    "\n",
    "    if (os.path.exists(directory) and not os.path.isdir(directory)):\n",
    "        raise RuntimeError(f\"a non-directory file exists with name {directory:s}\")\n",
    "\n",
    "    if (not os.path.exists(directory)):\n",
    "        print(f\"creating directory {directory:s}\")\n",
    "        os.mkdir(directory)\n",
    "\n",
    "    fig_fnames = (re.compile(r'\\[Fig.*\\]\\((.*)\\)').findall(md) + \n",
    "                  re.compile(r'\\<img src=\"([^>\\s]*)\"[^>]*/>').findall(md))\n",
    "    print(\"found figures\", fig_fnames)\n",
    "    for fname in fig_fnames:\n",
    "        if 'http' in fname:\n",
    "            # No need to copy online figures\n",
    "            continue\n",
    "        if not os.path.exists(fname):\n",
    "            print(\"file not found\", fname)\n",
    "            continue\n",
    "        print(\"copying \", fname, \"to\", directory)\n",
    "        destdir = os.path.join(directory, os.path.dirname(fname))\n",
    "        destfname = os.path.join(destdir, os.path.basename(fname))\n",
    "        try:\n",
    "            os.makedirs(destdir)\n",
    "        except FileExistsError:\n",
    "            pass\n",
    "        shutil.copy(fname, destfname)\n",
    "    with open(os.path.join(directory, md_fname), 'w') as fout:\n",
    "        fout.write(md)\n",
    "    print(\"exported in \", os.path.join(directory, md_fname))\n",
    "    [print(\"    + \" + os.path.join(directory,fk)) for fk in fig_fnames]"
   ]
  },
  {
   "cell_type": "code",
   "execution_count": 8,
   "id": "014d04a4",
   "metadata": {
    "execution": {
     "iopub.execute_input": "2025-04-17T04:13:56.433425Z",
     "iopub.status.busy": "2025-04-17T04:13:56.433008Z",
     "iopub.status.idle": "2025-04-17T04:13:56.441682Z",
     "shell.execute_reply": "2025-04-17T04:13:56.441128Z"
    },
    "papermill": {
     "duration": 0.015102,
     "end_time": "2025-04-17T04:13:56.442628",
     "exception": false,
     "start_time": "2025-04-17T04:13:56.427526",
     "status": "completed"
    },
    "tags": []
   },
   "outputs": [
    {
     "name": "stdout",
     "output_type": "stream",
     "text": [
      "found figures ['tmp_2504.12079/./rings_bound_fraction_contours_single.png', 'tmp_2504.12079/./rings_frequencies_surface_density_toomre_morphology.png', 'tmp_2504.12079/./cluster_mv_sfr_total.png']\n",
      "copying  tmp_2504.12079/./rings_bound_fraction_contours_single.png to _build/html/\n",
      "copying  tmp_2504.12079/./rings_frequencies_surface_density_toomre_morphology.png to _build/html/\n",
      "copying  tmp_2504.12079/./cluster_mv_sfr_total.png to _build/html/\n",
      "exported in  _build/html/2504.12079.md\n",
      "    + _build/html/tmp_2504.12079/./rings_bound_fraction_contours_single.png\n",
      "    + _build/html/tmp_2504.12079/./rings_frequencies_surface_density_toomre_morphology.png\n",
      "    + _build/html/tmp_2504.12079/./cluster_mv_sfr_total.png\n"
     ]
    }
   ],
   "source": [
    "for paper_id, md in documents:\n",
    "    export_markdown_summary(md, f\"{paper_id:s}.md\", '_build/html/')"
   ]
  },
  {
   "cell_type": "markdown",
   "id": "f087a0a7",
   "metadata": {
    "papermill": {
     "duration": 0.004887,
     "end_time": "2025-04-17T04:13:56.452454",
     "exception": false,
     "start_time": "2025-04-17T04:13:56.447567",
     "status": "completed"
    },
    "tags": []
   },
   "source": [
    "## Display the papers\n",
    "\n",
    "Not necessary but allows for a quick check."
   ]
  },
  {
   "cell_type": "code",
   "execution_count": 9,
   "id": "fd25f625",
   "metadata": {
    "execution": {
     "iopub.execute_input": "2025-04-17T04:13:56.463497Z",
     "iopub.status.busy": "2025-04-17T04:13:56.462981Z",
     "iopub.status.idle": "2025-04-17T04:13:56.467629Z",
     "shell.execute_reply": "2025-04-17T04:13:56.466988Z"
    },
    "papermill": {
     "duration": 0.011239,
     "end_time": "2025-04-17T04:13:56.468693",
     "exception": false,
     "start_time": "2025-04-17T04:13:56.457454",
     "status": "completed"
    },
    "scrolled": false,
    "tags": []
   },
   "outputs": [
    {
     "data": {
      "text/markdown": [
       "<div class=\"macros\" style=\"visibility:hidden;\">\n",
       "$\\newcommand{\\ensuremath}{}$\n",
       "$\\newcommand{\\xspace}{}$\n",
       "$\\newcommand{\\object}[1]{\\texttt{#1}}$\n",
       "$\\newcommand{\\farcs}{{.}''}$\n",
       "$\\newcommand{\\farcm}{{.}'}$\n",
       "$\\newcommand{\\arcsec}{''}$\n",
       "$\\newcommand{\\arcmin}{'}$\n",
       "$\\newcommand{\\ion}[2]{#1#2}$\n",
       "$\\newcommand{\\textsc}[1]{\\textrm{#1}}$\n",
       "$\\newcommand{\\hl}[1]{\\textrm{#1}}$\n",
       "$\\newcommand{\\footnote}[1]{}$\n",
       "$\\newcommand{\\lgalaxies}{\\textit{L-Galaxies}}$\n",
       "$\\newcommand{\\emosaics}{\\textit{E-MOSAICS}}$\n",
       "$\\newcommand{\\cfe}{\\texttt{cfe}}$\n",
       "$\\newcommand{\\planck}{\\textit{Planck}}$\n",
       "$\\newcommand{\\mwa}{MWA}$\n",
       "$\\newcommand{\\feoh}{[\\mathrm{Fe} / \\mathrm{H}]}$\n",
       "$\\newcommand{\\typezero}{type \\texttt{0}}$\n",
       "$\\newcommand{\\typeone}{type \\texttt{1}}$\n",
       "$\\newcommand{\\typetwo}{type \\texttt{2}}$\n",
       "$\\newcommand{\\rob}[1]{\\color{darkgreen}#1 \\color{black}}$\n",
       "$\\newcommand{\\robc}[1]{\\color{darkgreen}\\textbf{[#1] }\\color{black}}$\n",
       "$\\newcommand{\\robs}[1]{\\color{darkgreen}\\sout{#1} \\color{black}}$</div>\n",
       "\n",
       "\n",
       "\n",
       "<div id=\"title\">\n",
       "\n",
       "# Massive Star Clusters in the Semi-Analytical Galaxy Formation Model ${\\lgalaxies}$${ }$2020\n",
       "\n",
       "</div>\n",
       "<div id=\"comments\">\n",
       "\n",
       "[![arXiv](https://img.shields.io/badge/arXiv-2504.12079-b31b1b.svg)](https://arxiv.org/abs/2504.12079)<mark>Appeared on: 2025-04-17</mark> -  _Resubmitted to A&A. 24 pages, eight figures, two tables. Abstract abriged to meet arXiv requirements_\n",
       "\n",
       "</div>\n",
       "<div id=\"authors\">\n",
       "\n",
       "<mark>N. Hoyer</mark>, et al. -- incl., <mark>N. Neumayer</mark>\n",
       "\n",
       "</div>\n",
       "<div id=\"abstract\">\n",
       "\n",
       "**Abstract:** It is established that there exists a direct link between the formation history of star cluster populations and their host galaxies, however, our lacking understanding of star cluster assembly prohibits us to make full use of their ability to trace galaxy evolution. In this work we introduce a new variation of the $\\num{2020}$ version of the semi-analytical galaxy formation model \" ${\\lgalaxies}$ \" that includes the formation of star clusters above $10^{4}   \\textrm{M}_{\\odot}$ and probes different physical assumptions that affect their evolution over cosmic time. We use properties of different galaxy components and localised star formation to determine the bound fraction of star formation in disks. After randomly sampling masses from an environmentally-dependent star cluster initial mass function, we assign to each object a half-mass radius, metallicity, and distance from the galaxy centre. We consider up to $2000$ individual star clusters per galaxy and evolve their properties over time taking into account stellar evolution, two-body relaxation, tidal shocks, dynamical friction, and a re-positioning during galaxy mergers. Our simulation successfully reproduces several observational quantities, such as the empirical relationship between the absolute $V$ -band magnitude of the brightest young star clusters and the host galaxy star formation rate, the mass function of young star clusters, or mean metallicities of the star cluster distributions versus galaxy masses. The simulation reveals great complexity in the $z=0$ star cluster population resulting from differential destruction channels and origins, including _in-situ_ populations in the disk, a major merger-induced heated component in the halo, and accreted star clusters. Model variations point out the importance of e.g. the shape of the star cluster initial mass function or the relationship between the sound speed of cold gas and the star formation rate. Our new model provides new avenues to trace individual star clusters and test cluster-related physics within a cosmological set-up in a computationally efficient manner.\n",
       "\n",
       "</div>\n",
       "\n",
       "<div id=\"div_fig1\">\n",
       "\n",
       "<img src=\"tmp_2504.12079/./rings_bound_fraction_contours_single.png\" alt=\"Fig1\" width=\"100%\"/>\n",
       "\n",
       "**Figure 1. -** \n",
       "        Bound fraction of star formation, evaluated for $Q_{\\mathrm{eff}} = 0.5$, as a function of epicyclic frequency and cold gas surface density.\n",
       "        Blue solid and dashed black contours give the smoothed distribution (with standard deviation of $1   \\textrm{dex}$) of all annuli of all galaxies with $Q_{\\mathrm{eff}} < 2$ after running {$\\lgalaxies$} tree-files 0-9 and 40-79 on the Millennium and Millennium-II simulations, respectively.\n",
       "        Contour lines are smoothed with a Gaussian kernel with standard deviation of $0.5   \\textrm{dex}$.\n",
       "        The location of the solar neighbourhood (see \\Cref{fig:annuli_frequencies_surface_density_toomre} for details) is marked with a white cross.\n",
       "     (*fig:cluster_bound_fraction*)\n",
       "\n",
       "</div>\n",
       "<div id=\"div_fig2\">\n",
       "\n",
       "<img src=\"tmp_2504.12079/./rings_frequencies_surface_density_toomre_morphology.png\" alt=\"Fig4\" width=\"100%\"/>\n",
       "\n",
       "**Figure 4. -** \n",
       "        Epicyclic frequency, cold gas surface mass density, and the Toomre stability parameter as a function of galactocentric distance for disk- (blue) and bulge-dominated (red) galaxies, defined as having a bulge-to-total stellar mass ratio of $B/T < 0.2$ and $B/T \\geq 0.9$, respectively.\n",
       "        We add for comparison the value of the solar neighbourhood: we calculate $\\kappa_{\\mathrm{D} ,  \\odot} \\approx 0.046   \\textrm{Myr}^{-1}$, as derived from the Oort constants $A = 15.6   \\textrm{km}   \\textrm{s}^{-1}   \\textrm{kpc}^{-1}$ and $B = -15.8   \\textrm{km}   \\textrm{s}^{-1}   \\textrm{kpc}^{-1}$ taken from \\citet{guo2023a}; $\\Sigma_{\\mathrm{g} ,  \\odot} \\approx 13   \\textrm{M}_{\\odot}   \\textrm{pc}^{-2}$ from \\citet{flynn2006b}; and $Q_{\\mathrm{eff} ,  \\odot} \\approx 1.7$\\citep[][with $Q_{\\mathrm{s} ,  \\odot} \\approx 2.7$ and $Q_{\\mathrm{g} ,  \\odot} \\approx 1.5$]{binney2008a}, a typical value for disks \\citep[e.g.][]{rafikov2001b,leroy2008a,feng2014a,westfall2014a}.\n",
       "     (*fig:annuli_frequencies_surface_density_toomre*)\n",
       "\n",
       "</div>\n",
       "<div id=\"div_fig3\">\n",
       "\n",
       "<img src=\"tmp_2504.12079/./cluster_mv_sfr_total.png\" alt=\"Fig5\" width=\"100%\"/>\n",
       "\n",
       "**Figure 5. -** \n",
       "        Absolute $V$-band magnitude of the youngest and most massive star cluster versus the galaxy-averaged star formation rate.\n",
       "        The galaxy sample is limited to disk-dominated galaxies that have a bulge-to-total stellar mass ratio of $B/T < 0.2$.\n",
       "        We compare our results to various observations of nearby disk-dominated galaxies (see main text for details).\n",
       "        For both the simulated data and the observations, we set an age cut of $\\tau_{\\mathrm{c}} \\leq 0.3   \\textrm{Gyr}$ on the star clusters.\n",
       "        _Panel A:_ Full observational and simulated data samples.\n",
       "        For the simulated data, we show the 1-, 2-, and 3-$\\sigma$ intervals.\n",
       "        _Panel B:_ Same as in the first panel but colour-coding all data point by the host galaxy's stellar mass.\n",
       "        If no stellar mass estimate is available for observational data points, we show them with gray symbols.\n",
       "        _Panel C:_ Same as the central panel but colour-coding the data points by the cluster formation efficiency, which is a combination of the bound fraction of star formation and the \"cruel cradle effect\" \\citep{kruijssen2012b,kruijssen2012d} that takes the interaction of a proto-star cluster with its natal environment and nearby giant molecular clouds into account.\n",
       "        Note that the two outliers, NGC{ }1705 and NGC{ }5238, are starburst galaxies and that their massive star clusters were previously classified as nuclear star clusters \\citep{pechetti2020a,hoyer2021a}.\n",
       "        Nuclear star clusters often exhibit complex formation histories \\citep[e.g.][]{spengler2017a,kacharov2018a,fahrion2021a} and cannot easily be compared to our simulated star clusters.\n",
       "     (*fig:cluster_mv_sfr*)\n",
       "\n",
       "</div><div id=\"qrcode\"><img src=https://api.qrserver.com/v1/create-qr-code/?size=100x100&data=\"https://arxiv.org/abs/2504.12079\"></div>"
      ],
      "text/plain": [
       "<IPython.core.display.Markdown object>"
      ]
     },
     "metadata": {},
     "output_type": "display_data"
    }
   ],
   "source": [
    "[display(Markdown(k[1])) for k in documents];"
   ]
  },
  {
   "cell_type": "markdown",
   "id": "873873a4",
   "metadata": {
    "papermill": {
     "duration": 0.005234,
     "end_time": "2025-04-17T04:13:56.479221",
     "exception": false,
     "start_time": "2025-04-17T04:13:56.473987",
     "status": "completed"
    },
    "tags": []
   },
   "source": [
    "# Create HTML index"
   ]
  },
  {
   "cell_type": "code",
   "execution_count": 10,
   "id": "cf665672",
   "metadata": {
    "execution": {
     "iopub.execute_input": "2025-04-17T04:13:56.490776Z",
     "iopub.status.busy": "2025-04-17T04:13:56.490213Z",
     "iopub.status.idle": "2025-04-17T04:13:56.501326Z",
     "shell.execute_reply": "2025-04-17T04:13:56.500749Z"
    },
    "papermill": {
     "duration": 0.017937,
     "end_time": "2025-04-17T04:13:56.502305",
     "exception": false,
     "start_time": "2025-04-17T04:13:56.484368",
     "status": "completed"
    },
    "tags": []
   },
   "outputs": [
    {
     "name": "stdout",
     "output_type": "stream",
     "text": [
      "444  publications files modified in the last 7 days.\n"
     ]
    }
   ],
   "source": [
    "from datetime import datetime, timedelta, timezone\n",
    "from glob import glob\n",
    "import os\n",
    "\n",
    "files = glob('_build/html/*.md')\n",
    "days = 7\n",
    "now = datetime.today()\n",
    "res = []\n",
    "for fk in files:\n",
    "    stat_result = os.stat(fk).st_ctime\n",
    "    modified = datetime.fromtimestamp(stat_result, tz=timezone.utc).replace(tzinfo=None)\n",
    "    delta = now.today() - modified\n",
    "    if delta <= timedelta(days=days):\n",
    "        res.append((delta.seconds, fk))\n",
    "res = [k[1] for k in reversed(sorted(res, key=lambda x:x[1]))]\n",
    "npub = len(res)\n",
    "print(len(res), f\" publications files modified in the last {days:d} days.\")\n",
    "# [ print('\\t', k) for k in res ];"
   ]
  },
  {
   "cell_type": "code",
   "execution_count": 11,
   "id": "015de740",
   "metadata": {
    "execution": {
     "iopub.execute_input": "2025-04-17T04:13:56.514024Z",
     "iopub.status.busy": "2025-04-17T04:13:56.513733Z",
     "iopub.status.idle": "2025-04-17T04:13:56.537258Z",
     "shell.execute_reply": "2025-04-17T04:13:56.536644Z"
    },
    "papermill": {
     "duration": 0.030658,
     "end_time": "2025-04-17T04:13:56.538270",
     "exception": false,
     "start_time": "2025-04-17T04:13:56.507612",
     "status": "completed"
    },
    "tags": []
   },
   "outputs": [
    {
     "name": "stdout",
     "output_type": "stream",
     "text": [
      "12  publications in the last 7 days.\n"
     ]
    }
   ],
   "source": [
    "import datetime\n",
    "from glob import glob\n",
    "\n",
    "def get_last_n_days(lst, days=1):\n",
    "    \"\"\" Get the documents from the last n days \"\"\"\n",
    "    sorted_lst = sorted(lst, key=lambda x: x[1], reverse=True)\n",
    "    for fname, date in sorted_lst:\n",
    "        if date >= str(datetime.date.today() - datetime.timedelta(days=days)):\n",
    "            yield fname\n",
    "\n",
    "def extract_appearance_dates(lst_file):\n",
    "    dates = []\n",
    "\n",
    "    def get_date(line):\n",
    "        return line\\\n",
    "            .split('Appeared on:')[-1]\\\n",
    "            .split('</mark>')[0].strip()\n",
    "\n",
    "    for fname in lst:\n",
    "        with open(fname, 'r') as f:\n",
    "            found_date = False\n",
    "            for line in f:\n",
    "                if not found_date:\n",
    "                    if \"Appeared on\" in line:\n",
    "                        found_date = True\n",
    "                        dates.append((fname, get_date(line)))\n",
    "                else:\n",
    "                    break\n",
    "    return dates\n",
    "\n",
    "from glob import glob\n",
    "lst = glob('_build/html/*md')\n",
    "days = 7\n",
    "dates = extract_appearance_dates(lst)\n",
    "res = list(get_last_n_days(dates, days))\n",
    "npub = len(res)\n",
    "print(len(res), f\" publications in the last {days:d} days.\")"
   ]
  },
  {
   "cell_type": "code",
   "execution_count": 12,
   "id": "52ca0208",
   "metadata": {
    "execution": {
     "iopub.execute_input": "2025-04-17T04:13:56.550303Z",
     "iopub.status.busy": "2025-04-17T04:13:56.549758Z",
     "iopub.status.idle": "2025-04-17T04:13:56.554699Z",
     "shell.execute_reply": "2025-04-17T04:13:56.554175Z"
    },
    "papermill": {
     "duration": 0.011925,
     "end_time": "2025-04-17T04:13:56.555735",
     "exception": false,
     "start_time": "2025-04-17T04:13:56.543810",
     "status": "completed"
    },
    "scrolled": false,
    "tags": []
   },
   "outputs": [],
   "source": [
    "def create_carousel(npub=4):\n",
    "    \"\"\" Generate the HTML code for a carousel with `npub` slides \"\"\"\n",
    "    carousel = [\"\"\"  <div class=\"carousel\" \"\"\",\n",
    "                \"\"\"       data-flickity='{ \"autoPlay\": 10000, \"adaptiveHeight\": true, \"resize\": true, \"wrapAround\": true, \"pauseAutoPlayOnHover\": true, \"groupCells\": 1 }' id=\"asyncTypeset\">\"\"\"\n",
    "                ]\n",
    "    \n",
    "    item_str = \"\"\"    <div class=\"carousel-cell\"> <div id=\"slide{k}\" class=\"md_view\">Content {k}</div> </div>\"\"\"\n",
    "    for k in range(1, npub + 1):\n",
    "        carousel.append(item_str.format(k=k))\n",
    "    carousel.append(\"  </div>\")\n",
    "    return '\\n'.join(carousel)\n",
    "\n",
    "def create_grid(npub=4):\n",
    "    \"\"\" Generate the HTML code for a flat grid with `npub` slides \"\"\"\n",
    "    grid = [\"\"\"  <div class=\"grid\"> \"\"\",\n",
    "                ]\n",
    "    \n",
    "    item_str = \"\"\"    <div class=\"grid-item\"> <div id=\"slide{k}\" class=\"md_view\">Content {k}</div> </div>\"\"\"\n",
    "    for k in range(1, npub + 1):\n",
    "        grid.append(item_str.format(k=k))\n",
    "    grid.append(\"  </div>\")\n",
    "    return '\\n'.join(grid)"
   ]
  },
  {
   "cell_type": "code",
   "execution_count": 13,
   "id": "a6eac5b6",
   "metadata": {
    "execution": {
     "iopub.execute_input": "2025-04-17T04:13:56.567373Z",
     "iopub.status.busy": "2025-04-17T04:13:56.567029Z",
     "iopub.status.idle": "2025-04-17T04:13:56.572307Z",
     "shell.execute_reply": "2025-04-17T04:13:56.571639Z"
    },
    "papermill": {
     "duration": 0.012196,
     "end_time": "2025-04-17T04:13:56.573312",
     "exception": false,
     "start_time": "2025-04-17T04:13:56.561116",
     "status": "completed"
    },
    "scrolled": false,
    "tags": []
   },
   "outputs": [],
   "source": [
    "carousel = create_carousel(npub)\n",
    "docs = ', '.join(['\"{0:s}\"'.format(k.split('/')[-1]) for k in res])\n",
    "slides = ', '.join([f'\"slide{k}\"' for k in range(1, npub + 1)])\n",
    "\n",
    "with open(\"daily_template.html\", \"r\") as tpl:\n",
    "    page = tpl.read()\n",
    "    page = page.replace(\"{%-- carousel:s --%}\", carousel)\\\n",
    "               .replace(\"{%-- suptitle:s --%}\",  \"7-day archives\" )\\\n",
    "               .replace(\"{%-- docs:s --%}\", docs)\\\n",
    "               .replace(\"{%-- slides:s --%}\", slides)\n",
    "    \n",
    "with open(\"_build/html/index_7days.html\", 'w') as fout:\n",
    "    fout.write(page)"
   ]
  },
  {
   "cell_type": "code",
   "execution_count": 14,
   "id": "adc1a1ec",
   "metadata": {
    "execution": {
     "iopub.execute_input": "2025-04-17T04:13:56.585543Z",
     "iopub.status.busy": "2025-04-17T04:13:56.584957Z",
     "iopub.status.idle": "2025-04-17T04:13:56.592130Z",
     "shell.execute_reply": "2025-04-17T04:13:56.591589Z"
    },
    "papermill": {
     "duration": 0.014188,
     "end_time": "2025-04-17T04:13:56.593096",
     "exception": false,
     "start_time": "2025-04-17T04:13:56.578908",
     "status": "completed"
    },
    "tags": []
   },
   "outputs": [
    {
     "name": "stdout",
     "output_type": "stream",
     "text": [
      "5  publications in the last day.\n"
     ]
    }
   ],
   "source": [
    "# redo for today\n",
    "days = 1\n",
    "res = list(get_last_n_days(dates, days))\n",
    "npub = len(res)\n",
    "print(len(res), f\" publications in the last day.\")\n",
    "\n",
    "carousel = create_carousel(npub)\n",
    "docs = ', '.join(['\"{0:s}\"'.format(k.split('/')[-1]) for k in res])\n",
    "slides = ', '.join([f'\"slide{k}\"' for k in range(1, npub + 1)])\n",
    "\n",
    "with open(\"daily_template.html\", \"r\") as tpl:\n",
    "    page = tpl.read()\n",
    "    page = page.replace(\"{%-- carousel:s --%}\", carousel)\\\n",
    "               .replace(\"{%-- suptitle:s --%}\",  \"Daily\" )\\\n",
    "               .replace(\"{%-- docs:s --%}\", docs)\\\n",
    "               .replace(\"{%-- slides:s --%}\", slides)\n",
    "    \n",
    "# print(carousel, docs, slides)\n",
    "# print(page)\n",
    "with open(\"_build/html/index_daily.html\", 'w') as fout:\n",
    "    fout.write(page)"
   ]
  },
  {
   "cell_type": "code",
   "execution_count": 15,
   "id": "00eece82",
   "metadata": {
    "execution": {
     "iopub.execute_input": "2025-04-17T04:13:56.605133Z",
     "iopub.status.busy": "2025-04-17T04:13:56.604693Z",
     "iopub.status.idle": "2025-04-17T04:13:56.611297Z",
     "shell.execute_reply": "2025-04-17T04:13:56.610627Z"
    },
    "papermill": {
     "duration": 0.013729,
     "end_time": "2025-04-17T04:13:56.612361",
     "exception": false,
     "start_time": "2025-04-17T04:13:56.598632",
     "status": "completed"
    },
    "scrolled": false,
    "tags": []
   },
   "outputs": [
    {
     "name": "stdout",
     "output_type": "stream",
     "text": [
      "6  6 publications selected.\n"
     ]
    }
   ],
   "source": [
    "# Create the flat grid of the last N papers (fixed number regardless of dates)\n",
    "from itertools import islice \n",
    "\n",
    "npub = 6\n",
    "res = [k[0] for k in (islice(reversed(sorted(dates, key=lambda x: x[1])), 6))]\n",
    "print(len(res), f\" {npub} publications selected.\")\n",
    "\n",
    "grid = create_grid(npub)\n",
    "docs = ', '.join(['\"{0:s}\"'.format(k.split('/')[-1]) for k in res])\n",
    "slides = ', '.join([f'\"slide{k}\"' for k in range(1, npub + 1)])\n",
    "\n",
    "with open(\"grid_template.html\", \"r\") as tpl:\n",
    "    page = tpl.read()\n",
    "    page = page.replace(\"{%-- grid-content:s --%}\", grid)\\\n",
    "               .replace(\"{%-- suptitle:s --%}\",  f\"Last {npub:,d} papers\" )\\\n",
    "               .replace(\"{%-- docs:s --%}\", docs)\\\n",
    "               .replace(\"{%-- slides:s --%}\", slides)\n",
    "    \n",
    "# print(grid, docs, slides)\n",
    "# print(page)\n",
    "with open(\"_build/html/index_npub_grid.html\", 'w') as fout:\n",
    "    fout.write(page)"
   ]
  }
 ],
 "metadata": {
  "kernelspec": {
   "display_name": "Python 3 (ipykernel)",
   "language": "python",
   "name": "python3"
  },
  "language_info": {
   "codemirror_mode": {
    "name": "ipython",
    "version": 3
   },
   "file_extension": ".py",
   "mimetype": "text/x-python",
   "name": "python",
   "nbconvert_exporter": "python",
   "pygments_lexer": "ipython3",
   "version": "3.9.22"
  },
  "papermill": {
   "default_parameters": {},
   "duration": 64.775204,
   "end_time": "2025-04-17T04:13:56.934668",
   "environment_variables": {},
   "exception": null,
   "input_path": "MPIA daily digest.ipynb",
   "output_path": "log.ipynb",
   "parameters": {},
   "start_time": "2025-04-17T04:12:52.159464",
   "version": "2.6.0"
  },
  "vscode": {
   "interpreter": {
    "hash": "aee8b7b246df8f9039afb4144a1f6fd8d2ca17a180786b69acc140d282b71a49"
   }
  },
  "widgets": {
   "application/vnd.jupyter.widget-state+json": {
    "state": {
     "21977b9519ba44a28405d78a45048b01": {
      "model_module": "@jupyter-widgets/controls",
      "model_module_version": "2.0.0",
      "model_name": "HTMLModel",
      "state": {
       "_dom_classes": [],
       "_model_module": "@jupyter-widgets/controls",
       "_model_module_version": "2.0.0",
       "_model_name": "HTMLModel",
       "_view_count": null,
       "_view_module": "@jupyter-widgets/controls",
       "_view_module_version": "2.0.0",
       "_view_name": "HTMLView",
       "description": "",
       "description_allow_html": false,
       "layout": "IPY_MODEL_322f5b08dd0b4b43900cf4c86e3bfe30",
       "placeholder": "​",
       "style": "IPY_MODEL_57c498afdd6444eca07f0a54e472f81b",
       "tabbable": null,
       "tooltip": null,
       "value": " 7/7 [00:41&lt;00:00,  9.36s/it]"
      }
     },
     "28ad645daaa842978dfa75d09712565e": {
      "model_module": "@jupyter-widgets/controls",
      "model_module_version": "2.0.0",
      "model_name": "HBoxModel",
      "state": {
       "_dom_classes": [],
       "_model_module": "@jupyter-widgets/controls",
       "_model_module_version": "2.0.0",
       "_model_name": "HBoxModel",
       "_view_count": null,
       "_view_module": "@jupyter-widgets/controls",
       "_view_module_version": "2.0.0",
       "_view_name": "HBoxView",
       "box_style": "",
       "children": [
        "IPY_MODEL_97d213b482ac42d781966b510ce2baeb",
        "IPY_MODEL_4644104beb8249278853263da1beedf1",
        "IPY_MODEL_21977b9519ba44a28405d78a45048b01"
       ],
       "layout": "IPY_MODEL_90c21730e70a49c7a41a6fd2b2628c6f",
       "tabbable": null,
       "tooltip": null
      }
     },
     "322f5b08dd0b4b43900cf4c86e3bfe30": {
      "model_module": "@jupyter-widgets/base",
      "model_module_version": "2.0.0",
      "model_name": "LayoutModel",
      "state": {
       "_model_module": "@jupyter-widgets/base",
       "_model_module_version": "2.0.0",
       "_model_name": "LayoutModel",
       "_view_count": null,
       "_view_module": "@jupyter-widgets/base",
       "_view_module_version": "2.0.0",
       "_view_name": "LayoutView",
       "align_content": null,
       "align_items": null,
       "align_self": null,
       "border_bottom": null,
       "border_left": null,
       "border_right": null,
       "border_top": null,
       "bottom": null,
       "display": null,
       "flex": null,
       "flex_flow": null,
       "grid_area": null,
       "grid_auto_columns": null,
       "grid_auto_flow": null,
       "grid_auto_rows": null,
       "grid_column": null,
       "grid_gap": null,
       "grid_row": null,
       "grid_template_areas": null,
       "grid_template_columns": null,
       "grid_template_rows": null,
       "height": null,
       "justify_content": null,
       "justify_items": null,
       "left": null,
       "margin": null,
       "max_height": null,
       "max_width": null,
       "min_height": null,
       "min_width": null,
       "object_fit": null,
       "object_position": null,
       "order": null,
       "overflow": null,
       "padding": null,
       "right": null,
       "top": null,
       "visibility": null,
       "width": null
      }
     },
     "4644104beb8249278853263da1beedf1": {
      "model_module": "@jupyter-widgets/controls",
      "model_module_version": "2.0.0",
      "model_name": "FloatProgressModel",
      "state": {
       "_dom_classes": [],
       "_model_module": "@jupyter-widgets/controls",
       "_model_module_version": "2.0.0",
       "_model_name": "FloatProgressModel",
       "_view_count": null,
       "_view_module": "@jupyter-widgets/controls",
       "_view_module_version": "2.0.0",
       "_view_name": "ProgressView",
       "bar_style": "success",
       "description": "",
       "description_allow_html": false,
       "layout": "IPY_MODEL_b502ae37640445da846456932caafcdb",
       "max": 7.0,
       "min": 0.0,
       "orientation": "horizontal",
       "style": "IPY_MODEL_b09b490e52c94cb1b3e1beea431aeb47",
       "tabbable": null,
       "tooltip": null,
       "value": 7.0
      }
     },
     "57c498afdd6444eca07f0a54e472f81b": {
      "model_module": "@jupyter-widgets/controls",
      "model_module_version": "2.0.0",
      "model_name": "HTMLStyleModel",
      "state": {
       "_model_module": "@jupyter-widgets/controls",
       "_model_module_version": "2.0.0",
       "_model_name": "HTMLStyleModel",
       "_view_count": null,
       "_view_module": "@jupyter-widgets/base",
       "_view_module_version": "2.0.0",
       "_view_name": "StyleView",
       "background": null,
       "description_width": "",
       "font_size": null,
       "text_color": null
      }
     },
     "90c21730e70a49c7a41a6fd2b2628c6f": {
      "model_module": "@jupyter-widgets/base",
      "model_module_version": "2.0.0",
      "model_name": "LayoutModel",
      "state": {
       "_model_module": "@jupyter-widgets/base",
       "_model_module_version": "2.0.0",
       "_model_name": "LayoutModel",
       "_view_count": null,
       "_view_module": "@jupyter-widgets/base",
       "_view_module_version": "2.0.0",
       "_view_name": "LayoutView",
       "align_content": null,
       "align_items": null,
       "align_self": null,
       "border_bottom": null,
       "border_left": null,
       "border_right": null,
       "border_top": null,
       "bottom": null,
       "display": null,
       "flex": null,
       "flex_flow": null,
       "grid_area": null,
       "grid_auto_columns": null,
       "grid_auto_flow": null,
       "grid_auto_rows": null,
       "grid_column": null,
       "grid_gap": null,
       "grid_row": null,
       "grid_template_areas": null,
       "grid_template_columns": null,
       "grid_template_rows": null,
       "height": null,
       "justify_content": null,
       "justify_items": null,
       "left": null,
       "margin": null,
       "max_height": null,
       "max_width": null,
       "min_height": null,
       "min_width": null,
       "object_fit": null,
       "object_position": null,
       "order": null,
       "overflow": null,
       "padding": null,
       "right": null,
       "top": null,
       "visibility": null,
       "width": null
      }
     },
     "97d213b482ac42d781966b510ce2baeb": {
      "model_module": "@jupyter-widgets/controls",
      "model_module_version": "2.0.0",
      "model_name": "HTMLModel",
      "state": {
       "_dom_classes": [],
       "_model_module": "@jupyter-widgets/controls",
       "_model_module_version": "2.0.0",
       "_model_name": "HTMLModel",
       "_view_count": null,
       "_view_module": "@jupyter-widgets/controls",
       "_view_module_version": "2.0.0",
       "_view_name": "HTMLView",
       "description": "",
       "description_allow_html": false,
       "layout": "IPY_MODEL_c501c15545c648aaa5c95becc196baf2",
       "placeholder": "​",
       "style": "IPY_MODEL_ad320a2b38b5439fa846abe868a16244",
       "tabbable": null,
       "tooltip": null,
       "value": "100%"
      }
     },
     "ad320a2b38b5439fa846abe868a16244": {
      "model_module": "@jupyter-widgets/controls",
      "model_module_version": "2.0.0",
      "model_name": "HTMLStyleModel",
      "state": {
       "_model_module": "@jupyter-widgets/controls",
       "_model_module_version": "2.0.0",
       "_model_name": "HTMLStyleModel",
       "_view_count": null,
       "_view_module": "@jupyter-widgets/base",
       "_view_module_version": "2.0.0",
       "_view_name": "StyleView",
       "background": null,
       "description_width": "",
       "font_size": null,
       "text_color": null
      }
     },
     "b09b490e52c94cb1b3e1beea431aeb47": {
      "model_module": "@jupyter-widgets/controls",
      "model_module_version": "2.0.0",
      "model_name": "ProgressStyleModel",
      "state": {
       "_model_module": "@jupyter-widgets/controls",
       "_model_module_version": "2.0.0",
       "_model_name": "ProgressStyleModel",
       "_view_count": null,
       "_view_module": "@jupyter-widgets/base",
       "_view_module_version": "2.0.0",
       "_view_name": "StyleView",
       "bar_color": null,
       "description_width": ""
      }
     },
     "b502ae37640445da846456932caafcdb": {
      "model_module": "@jupyter-widgets/base",
      "model_module_version": "2.0.0",
      "model_name": "LayoutModel",
      "state": {
       "_model_module": "@jupyter-widgets/base",
       "_model_module_version": "2.0.0",
       "_model_name": "LayoutModel",
       "_view_count": null,
       "_view_module": "@jupyter-widgets/base",
       "_view_module_version": "2.0.0",
       "_view_name": "LayoutView",
       "align_content": null,
       "align_items": null,
       "align_self": null,
       "border_bottom": null,
       "border_left": null,
       "border_right": null,
       "border_top": null,
       "bottom": null,
       "display": null,
       "flex": null,
       "flex_flow": null,
       "grid_area": null,
       "grid_auto_columns": null,
       "grid_auto_flow": null,
       "grid_auto_rows": null,
       "grid_column": null,
       "grid_gap": null,
       "grid_row": null,
       "grid_template_areas": null,
       "grid_template_columns": null,
       "grid_template_rows": null,
       "height": null,
       "justify_content": null,
       "justify_items": null,
       "left": null,
       "margin": null,
       "max_height": null,
       "max_width": null,
       "min_height": null,
       "min_width": null,
       "object_fit": null,
       "object_position": null,
       "order": null,
       "overflow": null,
       "padding": null,
       "right": null,
       "top": null,
       "visibility": null,
       "width": null
      }
     },
     "c501c15545c648aaa5c95becc196baf2": {
      "model_module": "@jupyter-widgets/base",
      "model_module_version": "2.0.0",
      "model_name": "LayoutModel",
      "state": {
       "_model_module": "@jupyter-widgets/base",
       "_model_module_version": "2.0.0",
       "_model_name": "LayoutModel",
       "_view_count": null,
       "_view_module": "@jupyter-widgets/base",
       "_view_module_version": "2.0.0",
       "_view_name": "LayoutView",
       "align_content": null,
       "align_items": null,
       "align_self": null,
       "border_bottom": null,
       "border_left": null,
       "border_right": null,
       "border_top": null,
       "bottom": null,
       "display": null,
       "flex": null,
       "flex_flow": null,
       "grid_area": null,
       "grid_auto_columns": null,
       "grid_auto_flow": null,
       "grid_auto_rows": null,
       "grid_column": null,
       "grid_gap": null,
       "grid_row": null,
       "grid_template_areas": null,
       "grid_template_columns": null,
       "grid_template_rows": null,
       "height": null,
       "justify_content": null,
       "justify_items": null,
       "left": null,
       "margin": null,
       "max_height": null,
       "max_width": null,
       "min_height": null,
       "min_width": null,
       "object_fit": null,
       "object_position": null,
       "order": null,
       "overflow": null,
       "padding": null,
       "right": null,
       "top": null,
       "visibility": null,
       "width": null
      }
     }
    },
    "version_major": 2,
    "version_minor": 0
   }
  }
 },
 "nbformat": 4,
 "nbformat_minor": 5
}