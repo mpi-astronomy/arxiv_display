{
 "cells": [
  {
   "cell_type": "markdown",
   "id": "92bcb855",
   "metadata": {
    "papermill": {
     "duration": 0.003902,
     "end_time": "2025-05-27T04:17:02.467008",
     "exception": false,
     "start_time": "2025-05-27T04:17:02.463106",
     "status": "completed"
    },
    "tags": []
   },
   "source": [
    "# MPIA Arxiv on Deck 2\n",
    "\n",
    "Contains the steps to produce the paper extractions."
   ]
  },
  {
   "cell_type": "code",
   "execution_count": 1,
   "id": "3a0d6e11",
   "metadata": {
    "execution": {
     "iopub.execute_input": "2025-05-27T04:17:02.474264Z",
     "iopub.status.busy": "2025-05-27T04:17:02.474008Z",
     "iopub.status.idle": "2025-05-27T04:17:02.951578Z",
     "shell.execute_reply": "2025-05-27T04:17:02.950857Z"
    },
    "papermill": {
     "duration": 0.482886,
     "end_time": "2025-05-27T04:17:02.953112",
     "exception": false,
     "start_time": "2025-05-27T04:17:02.470226",
     "status": "completed"
    },
    "tags": []
   },
   "outputs": [],
   "source": [
    "# Imports\n",
    "import os\n",
    "from IPython.display import Markdown, display\n",
    "from tqdm.notebook import tqdm\n",
    "import warnings\n",
    "from PIL import Image \n",
    "import re\n",
    "\n",
    "# requires arxiv_on_deck_2\n",
    "\n",
    "from arxiv_on_deck_2.arxiv2 import (get_new_papers, \n",
    "                                    get_paper_from_identifier,\n",
    "                                    retrieve_document_source, \n",
    "                                    get_markdown_badge)\n",
    "from arxiv_on_deck_2 import (latex,\n",
    "                             latex_bib,\n",
    "                             mpia,\n",
    "                             highlight_authors_in_list)\n",
    "\n",
    "# Sometimes images are really big\n",
    "Image.MAX_IMAGE_PIXELS = 1000000000 "
   ]
  },
  {
   "cell_type": "code",
   "execution_count": 2,
   "id": "22aa9d44",
   "metadata": {
    "execution": {
     "iopub.execute_input": "2025-05-27T04:17:02.960510Z",
     "iopub.status.busy": "2025-05-27T04:17:02.960075Z",
     "iopub.status.idle": "2025-05-27T04:17:02.968280Z",
     "shell.execute_reply": "2025-05-27T04:17:02.967575Z"
    },
    "papermill": {
     "duration": 0.012937,
     "end_time": "2025-05-27T04:17:02.969306",
     "exception": false,
     "start_time": "2025-05-27T04:17:02.956369",
     "status": "completed"
    },
    "tags": []
   },
   "outputs": [],
   "source": [
    "# Some useful definitions.\n",
    "\n",
    "class AffiliationWarning(UserWarning):\n",
    "    pass\n",
    "\n",
    "class AffiliationError(RuntimeError):\n",
    "    pass\n",
    "\n",
    "def validation(source: str):\n",
    "    \"\"\"Raises error paper during parsing of source file\n",
    "    \n",
    "    Allows checks before parsing TeX code.\n",
    "    \n",
    "    Raises AffiliationWarning\n",
    "    \"\"\"\n",
    "    check = mpia.affiliation_verifications(source, verbose=True)\n",
    "    if check is not True:\n",
    "        raise AffiliationError(\"mpia.affiliation_verifications: \" + check)\n",
    "\n",
    "        \n",
    "warnings.simplefilter('always', AffiliationWarning)\n",
    "\n",
    "\n",
    "def get_markdown_qrcode(paper_id: str):\n",
    "    \"\"\" Generate a qrcode to the arxiv page using qrserver.com\n",
    "    \n",
    "    :param paper: Arxiv paper\n",
    "    :returns: markdown text\n",
    "    \"\"\"\n",
    "    url = r\"https://api.qrserver.com/v1/create-qr-code/?size=100x100&data=\"\n",
    "    txt = f\"\"\"<img src={url}\"https://arxiv.org/abs/{paper_id}\">\"\"\"\n",
    "    txt = '<div id=\"qrcode\">' + txt + '</div>'\n",
    "    return txt\n",
    "\n",
    "\n",
    "def clean_non_western_encoded_characters_commands(text: str) -> str:\n",
    "    \"\"\" Remove non-western encoded characters from a string\n",
    "    List may need to grow.\n",
    "    \n",
    "    :param text: the text to clean\n",
    "    :return: the cleaned text\n",
    "    \"\"\"\n",
    "    text = re.sub(r\"(\\\\begin{CJK}{UTF8}{gbsn})(.*?)(\\\\end{CJK})\", r\"\\2\", text)\n",
    "    return text\n",
    "\n",
    "\n",
    "def get_initials(name: str) -> str:\n",
    "    \"\"\" Get the short name, e.g., A.-B. FamName\n",
    "    :param name: full name\n",
    "    :returns: initials\n",
    "    \"\"\"\n",
    "    initials = []\n",
    "    # account for non western names often in ()\n",
    "    if '(' in name:\n",
    "        name = clean_non_western_encoded_characters_commands(name)\n",
    "        suffix = re.findall(r\"\\((.*?)\\)\", name)[0]\n",
    "        name = name.replace(f\"({suffix})\", '')\n",
    "    else:\n",
    "        suffix = ''\n",
    "    split = name.split()\n",
    "    for token in split[:-1]:\n",
    "        if '-' in token:\n",
    "            current = '-'.join([k[0] + '.' for k in token.split('-')])\n",
    "        else:\n",
    "            current = token[0] + '.'\n",
    "        initials.append(current)\n",
    "    initials.append(split[-1].strip())\n",
    "    if suffix:\n",
    "        initials.append(f\"({suffix})\")\n",
    "    return ' '.join(initials)"
   ]
  },
  {
   "cell_type": "markdown",
   "id": "14bd6310",
   "metadata": {
    "papermill": {
     "duration": 0.002871,
     "end_time": "2025-05-27T04:17:02.975104",
     "exception": false,
     "start_time": "2025-05-27T04:17:02.972233",
     "status": "completed"
    },
    "tags": []
   },
   "source": [
    "## get list of arxiv paper candidates\n",
    "\n",
    "We use the MPIA mitarbeiter list webpage from mpia.de to get author names\n",
    "We then get all new papers from Arxiv and match authors"
   ]
  },
  {
   "cell_type": "code",
   "execution_count": 3,
   "id": "7ea813a8",
   "metadata": {
    "execution": {
     "iopub.execute_input": "2025-05-27T04:17:02.981946Z",
     "iopub.status.busy": "2025-05-27T04:17:02.981524Z",
     "iopub.status.idle": "2025-05-27T04:17:22.655871Z",
     "shell.execute_reply": "2025-05-27T04:17:22.655185Z"
    },
    "papermill": {
     "duration": 19.679125,
     "end_time": "2025-05-27T04:17:22.657168",
     "exception": false,
     "start_time": "2025-05-27T04:17:02.978043",
     "status": "completed"
    },
    "tags": []
   },
   "outputs": [],
   "source": [
    "# deal with the author list and edge cases of people that cannot be consistent on their name  \n",
    "\n",
    "def filter_non_scientists(name: str) -> bool:\n",
    "    \"\"\" Loose filter on expected authorships\n",
    "\n",
    "    removing IT, administration, technical staff\n",
    "    :param name: name\n",
    "    :returns: False if name is not a scientist\n",
    "    \"\"\"\n",
    "    remove_list = ['Licht', 'Binroth', 'Witzel', 'Jordan',\n",
    "                   'Zähringer', 'Scheerer', 'Hoffmann', 'Düe',\n",
    "                   'Hellmich', 'Enkler-Scharpegge', 'Witte-Nguy',\n",
    "                   'Dehen', 'Beckmann', 'Jager', 'Jäger'\n",
    "                  ]\n",
    "\n",
    "    for k in remove_list:\n",
    "        if k in name:\n",
    "            return False\n",
    "    return True\n",
    "\n",
    "def add_author_to_list(author_list: list) -> list:\n",
    "    \"\"\" Add author to list if not already in list\n",
    "    \n",
    "    :param author: author name\n",
    "    :param author_list: list of authors\n",
    "    :returns: updated list of authors\n",
    "    \"\"\"\n",
    "    add_list = ['T. Henning']\n",
    "\n",
    "    for author in add_list:\n",
    "        if author not in author_list:\n",
    "            author_list.append(author)\n",
    "    return author_list\n",
    "\n",
    "# get list from MPIA website\n",
    "# filter for non-scientists (mpia.get_mpia_mitarbeiter_list() does some filtering)\n",
    "mpia_authors = [k[1] for k in mpia.get_mpia_mitarbeiter_list() if filter_non_scientists(k[1])]\n",
    "# add some missing author because of inconsistencies in their MPIA name and author name on papers\n",
    "mpia_authors = add_author_to_list(mpia_authors)"
   ]
  },
  {
   "cell_type": "code",
   "execution_count": 4,
   "id": "2645e73a",
   "metadata": {
    "execution": {
     "iopub.execute_input": "2025-05-27T04:17:22.664884Z",
     "iopub.status.busy": "2025-05-27T04:17:22.664259Z",
     "iopub.status.idle": "2025-05-27T04:17:23.646416Z",
     "shell.execute_reply": "2025-05-27T04:17:23.645697Z"
    },
    "papermill": {
     "duration": 0.986991,
     "end_time": "2025-05-27T04:17:23.647483",
     "exception": false,
     "start_time": "2025-05-27T04:17:22.660492",
     "status": "completed"
    },
    "tags": []
   },
   "outputs": [
    {
     "name": "stdout",
     "output_type": "stream",
     "text": [
      "Y. Wang  ->  Y. Wang  |  ['Y. Wang']\n",
      "J. Li  ->  J. Li  |  ['J. Li']\n",
      "Y. Wang  ->  Y. Wang  |  ['Y. Wang']\n",
      "B. Saha  ->  B. Saha  |  ['B. Saha']\n",
      "E. Schinnerer  ->  E. Schinnerer  |  ['E. Schinnerer']\n",
      "A. Hughes  ->  A. Hughes  |  ['A. Hughes']\n",
      "G. Guiglion  ->  G. Guiglion  |  ['G. Guiglion']\n",
      "R. V  ->  R. v. Boekel  |  ['R. v']\n",
      "Arxiv has 85 new papers today\n",
      "          6 with possible author matches\n"
     ]
    }
   ],
   "source": [
    "new_papers = get_new_papers()\n",
    "# add manual references\n",
    "add_paper_refs = []\n",
    "new_papers.extend([get_paper_from_identifier(k) for k in add_paper_refs])\n",
    "\n",
    "def robust_call(fn, value, *args, **kwargs):\n",
    "    try:\n",
    "        return fn(value, *args, **kwargs)\n",
    "    except Exception:\n",
    "        return value\n",
    "\n",
    "candidates = []\n",
    "for paperk in new_papers:\n",
    "    # Check author list with their initials\n",
    "    normed_author_list = [robust_call(mpia.get_initials, k) for k in paperk['authors']]\n",
    "    hl_authors = highlight_authors_in_list(normed_author_list, mpia_authors, verbose=True)\n",
    "    matches = [(hl, orig) for hl, orig in zip(hl_authors, paperk['authors']) if 'mark' in hl]\n",
    "    paperk['authors'] = hl_authors\n",
    "    if matches:\n",
    "        # only select paper if an author matched our list\n",
    "        candidates.append(paperk)\n",
    "print(\"\"\"Arxiv has {0:,d} new papers today\"\"\".format(len(new_papers)))        \n",
    "print(\"\"\"          {0:,d} with possible author matches\"\"\".format(len(candidates)))"
   ]
  },
  {
   "cell_type": "markdown",
   "id": "3543b34a",
   "metadata": {
    "papermill": {
     "duration": 0.003048,
     "end_time": "2025-05-27T04:17:23.653997",
     "exception": false,
     "start_time": "2025-05-27T04:17:23.650949",
     "status": "completed"
    },
    "tags": []
   },
   "source": [
    "# Parse sources and generate relevant outputs\n",
    "\n",
    "From the candidates, we do the following steps:\n",
    "* get their tarball from ArXiv (and extract data)\n",
    "* find the main .tex file: find one with \\documentclass{...} (sometimes it's non trivial)\n",
    "* Check affiliations with :func:`validation`, which uses :func:`mpia.affiliation_verifications`\n",
    "* If passing the affiliations: we parse the .tex source\n",
    "   * inject sub-documents into the main (flatten the main document)\n",
    "   * parse structure, extract information (title, abstract, authors, figures...)\n",
    "   * handles `\\graphicspath` if provided\n",
    "* Generate the .md document."
   ]
  },
  {
   "cell_type": "code",
   "execution_count": 5,
   "id": "9576b79e",
   "metadata": {
    "execution": {
     "iopub.execute_input": "2025-05-27T04:17:23.661331Z",
     "iopub.status.busy": "2025-05-27T04:17:23.660836Z",
     "iopub.status.idle": "2025-05-27T04:18:00.096369Z",
     "shell.execute_reply": "2025-05-27T04:18:00.095585Z"
    },
    "papermill": {
     "duration": 36.440492,
     "end_time": "2025-05-27T04:18:00.097563",
     "exception": false,
     "start_time": "2025-05-27T04:17:23.657071",
     "status": "completed"
    },
    "scrolled": false,
    "tags": []
   },
   "outputs": [
    {
     "data": {
      "application/vnd.jupyter.widget-view+json": {
       "model_id": "f753e86e940844d4923efaff6a765c57",
       "version_major": 2,
       "version_minor": 0
      },
      "text/plain": [
       "  0%|          | 0/6 [00:00<?, ?it/s]"
      ]
     },
     "metadata": {},
     "output_type": "display_data"
    },
    {
     "name": "stdout",
     "output_type": "stream",
     "text": [
      "Retrieving document from  https://arxiv.org/e-print/2505.18748\n"
     ]
    },
    {
     "name": "stdout",
     "output_type": "stream",
     "text": [
      "extracting tarball to tmp_2505.18748..."
     ]
    },
    {
     "name": "stdout",
     "output_type": "stream",
     "text": [
      " done.\n",
      "Retrieving document from  https://arxiv.org/e-print/2505.18939\n"
     ]
    },
    {
     "name": "stdout",
     "output_type": "stream",
     "text": [
      "extracting tarball to tmp_2505.18939..."
     ]
    },
    {
     "name": "stdout",
     "output_type": "stream",
     "text": [
      " done.\n",
      "Retrieving document from  https://arxiv.org/e-print/2505.19583\n"
     ]
    },
    {
     "name": "stdout",
     "output_type": "stream",
     "text": [
      "extracting tarball to tmp_2505.19583..."
     ]
    },
    {
     "name": "stdout",
     "output_type": "stream",
     "text": [
      " done.\n",
      "Retrieving document from  https://arxiv.org/e-print/2505.19832\n"
     ]
    },
    {
     "name": "stdout",
     "output_type": "stream",
     "text": [
      "extracting tarball to tmp_2505.19832..."
     ]
    },
    {
     "name": "stdout",
     "output_type": "stream",
     "text": [
      " done.\n"
     ]
    },
    {
     "name": "stdout",
     "output_type": "stream",
     "text": [
      "E. Schinnerer  ->  E. Schinnerer  |  ['E. Schinnerer']\n",
      "A. Hughes  ->  A. Hughes  |  ['A. Hughes']\n"
     ]
    },
    {
     "name": "stdout",
     "output_type": "stream",
     "text": [
      "Issues with the citations\n",
      "list index out of range\n",
      "Retrieving document from  https://arxiv.org/e-print/2505.19875\n"
     ]
    },
    {
     "name": "stdout",
     "output_type": "stream",
     "text": [
      "extracting tarball to tmp_2505.19875... done.\n"
     ]
    },
    {
     "name": "stdout",
     "output_type": "stream",
     "text": [
      "G. Guiglion  ->  G. Guiglion  |  ['G. Guiglion']\n"
     ]
    },
    {
     "name": "stderr",
     "output_type": "stream",
     "text": [
      "/opt/hostedtoolcache/Python/3.9.22/x64/lib/python3.9/site-packages/arxiv_on_deck_2/latex.py:132: LatexWarning: attempting recovering figure plots/Sun_Fit.png\n",
      "  warnings.warn(LatexWarning(f'attempting recovering figure {image}'))\n",
      "/opt/hostedtoolcache/Python/3.9.22/x64/lib/python3.9/site-packages/arxiv_on_deck_2/latex.py:707: LatexWarning: Could not find graphic \\includegraphics[width=\\columnwidth]{plots/Sun_Fit.png}\n",
      "  warnings.warn(LatexWarning(f\"Could not find graphic {k}\"))\n",
      "/opt/hostedtoolcache/Python/3.9.22/x64/lib/python3.9/site-packages/arxiv_on_deck_2/latex.py:132: LatexWarning: attempting recovering figure plots/Kiel_diagram.png\n",
      "  warnings.warn(LatexWarning(f'attempting recovering figure {image}'))\n",
      "/opt/hostedtoolcache/Python/3.9.22/x64/lib/python3.9/site-packages/arxiv_on_deck_2/latex.py:707: LatexWarning: Could not find graphic \\includegraphics[width=\\columnwidth]{plots/Kiel_diagram.png}\n",
      "  warnings.warn(LatexWarning(f\"Could not find graphic {k}\"))\n",
      "/opt/hostedtoolcache/Python/3.9.22/x64/lib/python3.9/site-packages/arxiv_on_deck_2/latex.py:132: LatexWarning: attempting recovering figure plots/O_departure.png\n",
      "  warnings.warn(LatexWarning(f'attempting recovering figure {image}'))\n",
      "/opt/hostedtoolcache/Python/3.9.22/x64/lib/python3.9/site-packages/arxiv_on_deck_2/latex.py:707: LatexWarning: Could not find graphic \\includegraphics[width=\\columnwidth]{plots/O_departure.png}\n",
      "  warnings.warn(LatexWarning(f\"Could not find graphic {k}\"))\n",
      "/opt/hostedtoolcache/Python/3.9.22/x64/lib/python3.9/site-packages/arxiv_on_deck_2/latex.py:132: LatexWarning: attempting recovering figure plots/OFe_FeH_vs_binned_corr.png\n",
      "  warnings.warn(LatexWarning(f'attempting recovering figure {image}'))\n",
      "/opt/hostedtoolcache/Python/3.9.22/x64/lib/python3.9/site-packages/arxiv_on_deck_2/latex.py:707: LatexWarning: Could not find graphic \\includegraphics[width=\\columnwidth]{plots/OFe_FeH_vs_binned_corr.png}\n",
      "  warnings.warn(LatexWarning(f\"Could not find graphic {k}\"))\n",
      "/opt/hostedtoolcache/Python/3.9.22/x64/lib/python3.9/site-packages/arxiv_on_deck_2/latex.py:132: LatexWarning: attempting recovering figure plots/abund_vs_teff_logg.png\n",
      "  warnings.warn(LatexWarning(f'attempting recovering figure {image}'))\n",
      "/opt/hostedtoolcache/Python/3.9.22/x64/lib/python3.9/site-packages/arxiv_on_deck_2/latex.py:707: LatexWarning: Could not find graphic \\includegraphics[width=\\columnwidth]{plots/abund_vs_teff_logg.png}\n",
      "  warnings.warn(LatexWarning(f\"Could not find graphic {k}\"))\n",
      "/opt/hostedtoolcache/Python/3.9.22/x64/lib/python3.9/site-packages/arxiv_on_deck_2/latex.py:132: LatexWarning: attempting recovering figure plots/diff_vues.png\n",
      "  warnings.warn(LatexWarning(f'attempting recovering figure {image}'))\n",
      "/opt/hostedtoolcache/Python/3.9.22/x64/lib/python3.9/site-packages/arxiv_on_deck_2/latex.py:707: LatexWarning: Could not find graphic \\includegraphics[width=\\columnwidth]{plots/diff_vues.png}\n",
      "  warnings.warn(LatexWarning(f\"Could not find graphic {k}\"))\n",
      "/opt/hostedtoolcache/Python/3.9.22/x64/lib/python3.9/site-packages/arxiv_on_deck_2/latex.py:132: LatexWarning: attempting recovering figure plots/vmac.png\n",
      "  warnings.warn(LatexWarning(f'attempting recovering figure {image}'))\n",
      "/opt/hostedtoolcache/Python/3.9.22/x64/lib/python3.9/site-packages/arxiv_on_deck_2/latex.py:707: LatexWarning: Could not find graphic \\includegraphics[width=\\columnwidth]{plots/vmac.png}\n",
      "  warnings.warn(LatexWarning(f\"Could not find graphic {k}\"))\n",
      "/opt/hostedtoolcache/Python/3.9.22/x64/lib/python3.9/site-packages/arxiv_on_deck_2/latex.py:132: LatexWarning: attempting recovering figure plots/thefigure.png\n",
      "  warnings.warn(LatexWarning(f'attempting recovering figure {image}'))\n",
      "/opt/hostedtoolcache/Python/3.9.22/x64/lib/python3.9/site-packages/arxiv_on_deck_2/latex.py:707: LatexWarning: Could not find graphic \\includegraphics[width=\\textwidth]{plots/thefigure.png}\n",
      "  warnings.warn(LatexWarning(f\"Could not find graphic {k}\"))\n",
      "/opt/hostedtoolcache/Python/3.9.22/x64/lib/python3.9/site-packages/arxiv_on_deck_2/latex.py:132: LatexWarning: attempting recovering figure plots/Sun_syn.png\n",
      "  warnings.warn(LatexWarning(f'attempting recovering figure {image}'))\n",
      "/opt/hostedtoolcache/Python/3.9.22/x64/lib/python3.9/site-packages/arxiv_on_deck_2/latex.py:707: LatexWarning: Could not find graphic \\includegraphics[width=\\textwidth]{plots/Sun_syn.png}\n",
      "  warnings.warn(LatexWarning(f\"Could not find graphic {k}\"))\n",
      "/opt/hostedtoolcache/Python/3.9.22/x64/lib/python3.9/site-packages/arxiv_on_deck_2/latex.py:132: LatexWarning: attempting recovering figure plots/spectra_obs.png\n",
      "  warnings.warn(LatexWarning(f'attempting recovering figure {image}'))\n",
      "/opt/hostedtoolcache/Python/3.9.22/x64/lib/python3.9/site-packages/arxiv_on_deck_2/latex.py:707: LatexWarning: Could not find graphic \\includegraphics[width=\\textwidth]{plots/spectra_obs.png}\n",
      "  warnings.warn(LatexWarning(f\"Could not find graphic {k}\"))\n",
      "/opt/hostedtoolcache/Python/3.9.22/x64/lib/python3.9/site-packages/arxiv_on_deck_2/latex.py:132: LatexWarning: attempting recovering figure plots/chi2_snr.png\n",
      "  warnings.warn(LatexWarning(f'attempting recovering figure {image}'))\n",
      "/opt/hostedtoolcache/Python/3.9.22/x64/lib/python3.9/site-packages/arxiv_on_deck_2/latex.py:707: LatexWarning: Could not find graphic \\includegraphics[width=\\textwidth]{plots/chi2_snr.png}\n",
      "  warnings.warn(LatexWarning(f\"Could not find graphic {k}\"))\n",
      "/opt/hostedtoolcache/Python/3.9.22/x64/lib/python3.9/site-packages/arxiv_on_deck_2/latex.py:132: LatexWarning: attempting recovering figure plots/OFe_FeH_vs_binned.png\n",
      "  warnings.warn(LatexWarning(f'attempting recovering figure {image}'))\n",
      "/opt/hostedtoolcache/Python/3.9.22/x64/lib/python3.9/site-packages/arxiv_on_deck_2/latex.py:707: LatexWarning: Could not find graphic \\includegraphics[width=12cm]{plots/OFe_FeH_vs_binned.png}\n",
      "  warnings.warn(LatexWarning(f\"Could not find graphic {k}\"))\n"
     ]
    },
    {
     "name": "stdout",
     "output_type": "stream",
     "text": [
      "Found 97 bibliographic references in tmp_2505.19875/aa53526-24.bbl.\n",
      "Retrieving document from  https://arxiv.org/e-print/2505.20061\n"
     ]
    },
    {
     "name": "stderr",
     "output_type": "stream",
     "text": [
      "/tmp/ipykernel_3408/2822249172.py:52: LatexWarning: 2505.20061 did not run properly\n",
      "not a gzip file\n",
      "  warnings.warn(latex.LatexWarning(f\"{paper_id:s} did not run properly\\n\" +\n"
     ]
    }
   ],
   "source": [
    "documents = []\n",
    "failed = []\n",
    "for paper in tqdm(candidates):\n",
    "    # debug crap\n",
    "    paper['identifier'] = paper['identifier'].lower().replace('arxiv:', '').replace(r'\\n', '').strip()\n",
    "    paper_id = paper['identifier']\n",
    "    \n",
    "    folder = f'tmp_{paper_id}'\n",
    "\n",
    "    try:\n",
    "        if not os.path.isdir(folder):\n",
    "            folder = retrieve_document_source(f\"{paper_id}\", f'tmp_{paper_id}')\n",
    "        \n",
    "        try:\n",
    "            doc = latex.LatexDocument(folder, validation=validation)    \n",
    "        except AffiliationError as affilerror:\n",
    "            msg = f\"ArXiv:{paper_id:s} is not an MPIA paper... \" + str(affilerror)\n",
    "            failed.append((paper, \"affiliation error: \" + str(affilerror) ))\n",
    "            continue\n",
    "        \n",
    "        # Hack because sometimes author parsing does not work well\n",
    "        if (len(doc.authors) != len(paper['authors'])):\n",
    "            doc._authors = paper['authors']\n",
    "        else:\n",
    "            # highlight authors (FIXME: doc.highlight_authors)\n",
    "            # done on arxiv paper already\n",
    "            doc._authors = highlight_authors_in_list(\n",
    "                [get_initials(k) for k in doc.authors], \n",
    "                mpia_authors, verbose=True)\n",
    "        if (doc.abstract) in (None, ''):\n",
    "            doc._abstract = paper['abstract']\n",
    "            \n",
    "        doc.comment = (get_markdown_badge(paper_id) + \n",
    "                       \"<mark>Appeared on: \" + paper['date'] + \"</mark> - \")\n",
    "        if paper['comments']:\n",
    "            doc.comment += \" _\" + paper['comments'] + \"_\"\n",
    "        \n",
    "        full_md = doc.generate_markdown_text()\n",
    "        \n",
    "        full_md += get_markdown_qrcode(paper_id)\n",
    "        \n",
    "        # replace citations\n",
    "        try:\n",
    "            bibdata = latex_bib.LatexBib.from_doc(doc)\n",
    "            full_md = latex_bib.replace_citations(full_md, bibdata)\n",
    "        except Exception as e:\n",
    "            print(\"Issues with the citations\")\n",
    "            print(e)\n",
    "        \n",
    "        documents.append((paper_id, full_md))\n",
    "    except Exception as e:\n",
    "        warnings.warn(latex.LatexWarning(f\"{paper_id:s} did not run properly\\n\" +\n",
    "                                         str(e)\n",
    "                                        ))\n",
    "        failed.append((paper, \"latex error \" + str(e)))"
   ]
  },
  {
   "cell_type": "markdown",
   "id": "2505a25c",
   "metadata": {
    "papermill": {
     "duration": 0.003967,
     "end_time": "2025-05-27T04:18:00.105873",
     "exception": false,
     "start_time": "2025-05-27T04:18:00.101906",
     "status": "completed"
    },
    "tags": []
   },
   "source": [
    "### Export the logs\n",
    "\n",
    "Throughout, we also keep track of the logs per paper. see `logs-{today date}.md` "
   ]
  },
  {
   "cell_type": "code",
   "execution_count": 6,
   "id": "d733828a",
   "metadata": {
    "execution": {
     "iopub.execute_input": "2025-05-27T04:18:00.115396Z",
     "iopub.status.busy": "2025-05-27T04:18:00.114720Z",
     "iopub.status.idle": "2025-05-27T04:18:00.133175Z",
     "shell.execute_reply": "2025-05-27T04:18:00.132472Z"
    },
    "papermill": {
     "duration": 0.024289,
     "end_time": "2025-05-27T04:18:00.134190",
     "exception": false,
     "start_time": "2025-05-27T04:18:00.109901",
     "status": "completed"
    },
    "scrolled": false,
    "tags": []
   },
   "outputs": [
    {
     "data": {
      "text/markdown": [
       "## Successful papers"
      ],
      "text/plain": [
       "<IPython.core.display.Markdown object>"
      ]
     },
     "metadata": {},
     "output_type": "display_data"
    },
    {
     "data": {
      "text/markdown": [
       "\n",
       "|||\n",
       "|---:|:---|\n",
       "| [![arXiv](https://img.shields.io/badge/arXiv-2505.19832-b31b1b.svg)](https://arxiv.org/abs/2505.19832) | **Reconciling extragalactic star formation efficiencies with theory: insights from PHANGS**  |\n",
       "|| S. E. Meidt, et al. -- incl., <mark>E. Schinnerer</mark>, <mark>A. Hughes</mark> |\n",
       "|*Appeared on*| *2025-05-27*|\n",
       "|*Comments*| *Accepted for publication in A&A, 28 pages, 8 figures*|\n",
       "|**Abstract**|            New extragalactic measurements of the cloud population-averaged star formation (SF) efficiency per freefall time $\\rm\\epsilon_{\\rm ff}$ from PHANGS show little sign of theoretically predicted dependencies on cloud-scale virial level or velocity dispersion. We explore ways to bring theory into consistency with observations, highlighting systematic variations in internal density structure that must happen together with an increase in virial level typical towards galaxy centers. To introduce these variations into conventional turbulence-regulated SF models we adopt three adjustments motivated by the host galaxy's influence on the cloud-scale: we incorporate self-gravity and a gas density distribution that contains a broad power-law (PL) component and resembles the structure observed in local resolved clouds, we let the internal gas kinematics include motion in the background potential and let this regulate the onset of self-gravitation, and we assume that the gas density distribution is in a steady-state for only a fraction of a freefall time. The combined result is a strong reduction to $\\rm\\epsilon_{\\rm ff}$ predicted in multi-freefall (MFF) scenarios compared to purely lognormal probability density functions and variations that are tied to the PL slope $\\alpha$. The $\\alpha$ needed to match PHANGS $\\rm\\epsilon_{\\rm ff}$'s vary systematically with environment in the sense that gas sitting furthest from virial balance contains more gas at high density. With this `galaxy regulation' behavior included, our `self-gravitating' sgMFF models function similar to the original, roughly `virialized cloud' single-freefall models. However, outside disks with their characteristic regulation, the flexible MFF models may be better suited.         |"
      ],
      "text/plain": [
       "[2505.19832] Reconciling extragalactic star formation efficiencies with theory: insights from PHANGS\n",
       "\tS. E. Meidt, et al. -- incl., <mark>E. Schinnerer</mark>, <mark>A. Hughes</mark>"
      ]
     },
     "metadata": {},
     "output_type": "display_data"
    },
    {
     "data": {
      "text/markdown": [
       "\n",
       "|||\n",
       "|---:|:---|\n",
       "| [![arXiv](https://img.shields.io/badge/arXiv-2505.19875-b31b1b.svg)](https://arxiv.org/abs/2505.19875) | **Impact of <3D> NLTE on GCE of oxygen with the RAdial Velocity Experiment**  |\n",
       "|| <mark>G. Guiglion</mark> |\n",
       "|*Appeared on*| *2025-05-27*|\n",
       "|*Comments*| *11 pages, 12 figures. Accepted for publication in A&A*|\n",
       "|**Abstract**|            Stellar abundances, coupled with kinematics are a unique way to understand the chemo-dynamical processes that occurred to build the Milky Way and its local volume as we observe today. However, measuring abundances is challenging as one needs to properly address the effect of departure from the Local Thermodynamic Equilibrium (LTE), as well as the commonly used 1-dimensional model atmosphere. In this work, we constrain the chemical evolution of [O/Fe] in FG stars of the RAVE survey with [O/Fe] abundances derived in non-LTE (NLTE) and with horizontally-temporally-averaged 3D (<3D>) model atmospheres. Using standard spectral fitting method, we determine for the first time LTE and NLTE [O/Fe] ratios from the O triplet at 8446A in turn-off and dwarf stars thanks to intermediate-resolution RAVE spectra, assuming both 1D and <3D> model atmosphere. NLTE effects play a significant role when determining oxygen even at a resolution of R= 7500. Typical NLTE-LTE corrections of the order of -0.12 dex are measured in dwarfs and turn-off stars using 1D MARCS models. In contrast to applying <3D> NLTE abundance corrections or the classical 1D LTE, the full <3D> NLTE spectral fitting yields improving the precision of abundances by nearly 10%. We show that the decrease of [O/Fe] in the super-solar [Fe/H] regime is rather characterised by a flat trend when [O/Fe] is computed in <3D> NLTE from full spectral fitting. We attribute this flattening at super-solar [Fe/H] to the interplay between locally born stars with negative [O/Fe] and stars migrated from the inner MW regions with super-solar [O/Fe], supporting the complex chemo-dynamical history of the Solar neighbourhood. Our results are key for understanding the effects of <3D> and NLTE when measuring [O/Fe]. This work is a test bed for the analysis of 4MOST low-resolution spectra that will share similar properties as RAVE in the red wavelength domain.         |"
      ],
      "text/plain": [
       "[2505.19875] Impact of <3D> NLTE on GCE of oxygen with the RAdial Velocity Experiment\n",
       "\t<mark>G. Guiglion</mark>"
      ]
     },
     "metadata": {},
     "output_type": "display_data"
    },
    {
     "data": {
      "text/markdown": [
       "## Failed papers"
      ],
      "text/plain": [
       "<IPython.core.display.Markdown object>"
      ]
     },
     "metadata": {},
     "output_type": "display_data"
    },
    {
     "data": {
      "text/markdown": [
       "\n",
       "|||\n",
       "|---:|:---|\n",
       "| [![arXiv](https://img.shields.io/badge/arXiv-2505.19583-b31b1b.svg)](https://arxiv.org/abs/2505.19583) | **Identifying lopsidedness in spiral galaxies using a Deep Convolutional Neural Network**  |\n",
       "|| <mark>B. Saha</mark>, S. Sarkar, A. Banerjee |\n",
       "|*Appeared on*| *2025-05-27*|\n",
       "|*Comments*| *19 pages, 9 figures, 7 tables*|\n",
       "|**Abstract**|            About 30\\% of disk galaxies show lopsidedness in their stellar disk. Although such a large-scale asymmetry in the disk can be primarily looked upon as a long-lived mode ($m=1$), the physical origin of the lopsidedness in the disk continues to be a puzzle. In this work, we develop an automated approach to identify lopsided galaxies from the SDSS DR18 using a Deep Convolutional Neural Network (DCNN) based on the publicly available AlexNet architecture. We select nearly face-on spiral galaxies from SDSS DR18 with the Petrosian 90\\% light radius (\\textit{petroR90\\_i}) greater than $20^{''}$. Based on the visual inspection, we choose 106 lopsided spiral galaxies and 105 symmetric spiral galaxies, as our training set. Our trained model achieves a testing accuracy of 92.8\\% at the end of 150 epochs. We then employ the trained model on a set of 813 face-on spiral galaxies from SDSS DR18 with $17^{''} \\le petroR90\\_i \\le 20^{''} $ and identify 452 new lopsided spiral galaxies. We next investigate the cosmic web environments in which the galaxies are located, using the Hessian matrix of the density field. We find that 39\\% of the lopsided galaxies are located in sparser environments such as sheets and voids. This may provide interesting clues towards understanding the origin of lopsidedness in isolated galaxies, where distortion due to the tidal interactions is less frequent.         |\n",
       "|<p style=\"color:green\"> **ERROR** </p>| <p style=\"color:green\">affiliation error: mpia.affiliation_verifications: '69117' keyword not found.</p> |"
      ],
      "text/plain": [
       "<IPython.core.display.Markdown object>"
      ]
     },
     "metadata": {},
     "output_type": "display_data"
    },
    {
     "data": {
      "text/markdown": [
       "\n",
       "|||\n",
       "|---:|:---|\n",
       "| [![arXiv](https://img.shields.io/badge/arXiv-2505.18748-b31b1b.svg)](https://arxiv.org/abs/2505.18748) | **Clustering analysis of BOSS-CMASS galaxies with semi-analytical model for galaxy formation and halo occupation distribution**  |\n",
       "|| Z. Zhai, A. Benson, <mark>Y. Wang</mark> |\n",
       "|*Appeared on*| *2025-05-27*|\n",
       "|*Comments*| *15 pages, 10 pages, 2 tables; comments welcome*|\n",
       "|**Abstract**|            The spatial distribution and clustering property of massive and luminous galaxies have provided important constraints on the fundamental cosmological parameters and physical processes governing galaxy formation. In this work, we construct and compare independent galaxy-halo connection models in the application of clustering measurement at non-linear scales of BOSS-CMASS galaxies. In particular, we adopt a halo occupation distribution (HOD) model with 11 parameters and a semi-analytical model (SAM) with 16 parameters to describe the galaxy correlation function including the projected correlation function, redshift space monopole and quadrupole. We focus on the redshift space distortion effect caused by the galaxy peculiar velocity. With a empirical model for the velocity field and the emulator technique, we can explore the parameter space of both models. We find that the HOD model is able to recover the underlying velocity field of SAM with an accuracy of 3\\%, and can be improved to 1\\% when the analysis is restricted to scales above 1$h^{-1}$Mpc. The comparison is based on multiple samplings in the parameter space which can verify the convergence of the empirical and physical model for galaxy formation. Then we perform constraints on the model parameters using clustering measurement of CMASS galaxies. Although limited by the emulator accuracy and the flexibility of the model, we find that the clustering measurement is capable of constraining a subset of the SAM parameters, especially for components sensitive to the star formation rate. This result leads us to anticipate that a joint analysis of both clustering and abundance measurements can significantly constrain the parameters of galaxy formation physics, which requires further investigation from both theoretical and observational aspects.         |\n",
       "|<p style=\"color:green\"> **ERROR** </p>| <p style=\"color:green\">affiliation error: mpia.affiliation_verifications: 'Heidelberg' keyword not found.</p> |"
      ],
      "text/plain": [
       "<IPython.core.display.Markdown object>"
      ]
     },
     "metadata": {},
     "output_type": "display_data"
    },
    {
     "data": {
      "text/markdown": [
       "\n",
       "|||\n",
       "|---:|:---|\n",
       "| [![arXiv](https://img.shields.io/badge/arXiv-2505.18939-b31b1b.svg)](https://arxiv.org/abs/2505.18939) | **Ground Calibration Result of the Wide-field X-ray Telescope (WXT) onboard the Einstein Probe**  |\n",
       "|| H. Cheng, et al. -- incl., <mark>J. Li</mark>, <mark>Y. Wang</mark> |\n",
       "|*Appeared on*| *2025-05-27*|\n",
       "|*Comments*| *28 pages, 18 figures, 2 tables. submitted to Experimental Astronomy*|\n",
       "|**Abstract**|            We report on results of the on-ground X-ray calibration of the Wide-field X-ray Telescope (WXT) built from novel lobster-eye micro-pore optics, onboard the Einstein Probe (EP) satellite. To fully characterize the instrumental performance and properties, a series of tests and calibrations have been carried out at different levels of devices, assemblies and the complete module before the launch of EP. In this paper, we present the calibration results of three flight model modules (FM1, FM5 and FM11) obtained during their end-to-end module calibration experiments carried out at the 100-m X-ray Test Facility (100XF) of IHEP, CAS. Measurements of the Point Spread Function (PSF), effective area, and energy response were performed for multiple incident directions and several characteristic X-ray emission line energies. Specifically, the distributions of the PSF and effective areas are found to be roughly uniform across the FoV, in large agreement with the prediction of lobster-eye optics. Their energy dependence behavior aligns well with theoretical predictions and Monte Carlo simulations. At 1.25 keV, the full width at half maximum (FWHM) of the focal spot is in range of 3-7 arcmin (a median of 4.2) and the effective area in range of 2-3 $cm^2$. Noticeably, the flight model instruments demonstrate a $\\sim1.5$ arcmin spatial resolution improvement over the previously launched Lobster Eye Imager for Astronomy. The properties of the complementary metal-oxide semiconductor (CMOS) sensors were also calibrated. The gain coefficients are in range of 6.4-6.9 eV/DN. The energy resolutions are in range of 120-140 eV at 1.25 keV, meeting design requirements. These calibration results have been ingested into the first version of calibration database (CALDB) and applied to the analysis of the scientific data acquired by WXT after the launch of EP.         |\n",
       "|<p style=\"color:green\"> **ERROR** </p>| <p style=\"color:green\">affiliation error: mpia.affiliation_verifications: 'Heidelberg' keyword not found.</p> |"
      ],
      "text/plain": [
       "<IPython.core.display.Markdown object>"
      ]
     },
     "metadata": {},
     "output_type": "display_data"
    },
    {
     "data": {
      "text/markdown": [
       "\n",
       "|||\n",
       "|---:|:---|\n",
       "| [![arXiv](https://img.shields.io/badge/arXiv-2505.20061-b31b1b.svg)](https://arxiv.org/abs/2505.20061) | **X-Ray spectroscopy and timing (XSPECT) experiment on XPoSat -- instrument configuration and science prospects**  |\n",
       "|| <mark>R. V</mark>, et al. |\n",
       "|*Appeared on*| *2025-05-27*|\n",
       "|*Comments*| *20 pages, 13 figures. Submitted to JATIS*|\n",
       "|**Abstract**|            X-ray Polarimeter Satellite (XPoSat) with POLarimeter Instrument in X-rays (POLIX), is India's first spacecraft dedicated to study medium energy X-ray polarisation from celestial objects. X-Ray Spectroscopy and Timing (XSPECT) instrument on XPoSat is configured to study long term spectral behaviour of select sources in Soft X-ray regime. The instrument uses Swept Charge Devices (SCD)s to provide large area and spectral performance with passive cooling arrangement. The instrument consists of set of collimators with two different FOVs, optical light blocking filters, and signal processing electronics. The instrument was designed, tested and calibrated on ground. The unique opportunity is provided by ISRO's XPoSat mission, where a source is observed for longer duration. The device used also enables spectroscopy study of brighter sources compared to the CCD based spectrometers. The first results demonstrate instrument capability for spectral studies in the 0.8 keV-15 keV energy band.         |\n",
       "|<p style=\"color:red\"> **ERROR** </p>| <p style=\"color:red\">latex error not a gzip file</p> |"
      ],
      "text/plain": [
       "<IPython.core.display.Markdown object>"
      ]
     },
     "metadata": {},
     "output_type": "display_data"
    }
   ],
   "source": [
    "import datetime\n",
    "today = str(datetime.date.today())\n",
    "logfile = f\"_build/html/logs/log-{today}.md\"\n",
    "\n",
    "\n",
    "with open(logfile, 'w') as logs:\n",
    "    # Success\n",
    "    logs.write(f'# Arxiv on Deck 2: Logs - {today}\\n\\n')\n",
    "    logs.write(\"\"\"* Arxiv had {0:,d} new papers\\n\"\"\".format(len(new_papers)))\n",
    "    logs.write(\"\"\"    * {0:,d} with possible author matches\\n\\n\"\"\".format(len(candidates)))\n",
    "    logs.write(\"## Sucessful papers\\n\\n\")\n",
    "    display(Markdown(\"## Successful papers\"))\n",
    "    success = [k[0] for k in documents]\n",
    "    for candid in candidates:\n",
    "        if candid['identifier'].split(':')[-1] in success:\n",
    "            display(candid)\n",
    "            logs.write(candid.generate_markdown_text() + '\\n\\n')\n",
    "\n",
    "    ## failed\n",
    "    logs.write(\"## Failed papers\\n\\n\")\n",
    "    display(Markdown(\"## Failed papers\"))\n",
    "    failed = sorted(failed, key=lambda x: x[1])\n",
    "    current_reason = \"\"\n",
    "    for paper, reason in failed:\n",
    "        if 'affiliation' in reason:\n",
    "            color = 'green'\n",
    "        else:\n",
    "            color = 'red'\n",
    "        data = Markdown(\n",
    "                paper.generate_markdown_text() + \n",
    "                f'\\n|<p style=\"color:{color:s}\"> **ERROR** </p>| <p style=\"color:{color:s}\">{reason:s}</p> |'\n",
    "               )\n",
    "        if reason != current_reason:\n",
    "            logs.write(f'### {reason:s} \\n\\n')\n",
    "            current_reason = reason\n",
    "        logs.write(data.data + '\\n\\n')\n",
    "        \n",
    "        # only display here the important errors (all in logs)\n",
    "        # if color in ('red',):\n",
    "        display(data)"
   ]
  },
  {
   "cell_type": "markdown",
   "id": "472d20ee",
   "metadata": {
    "papermill": {
     "duration": 0.0048,
     "end_time": "2025-05-27T04:18:00.144161",
     "exception": false,
     "start_time": "2025-05-27T04:18:00.139361",
     "status": "completed"
    },
    "tags": []
   },
   "source": [
    "## Export documents\n",
    "\n",
    "We now write the .md files and export relevant images"
   ]
  },
  {
   "cell_type": "code",
   "execution_count": 7,
   "id": "d426aed9",
   "metadata": {
    "execution": {
     "iopub.execute_input": "2025-05-27T04:18:00.155305Z",
     "iopub.status.busy": "2025-05-27T04:18:00.154648Z",
     "iopub.status.idle": "2025-05-27T04:18:00.162003Z",
     "shell.execute_reply": "2025-05-27T04:18:00.161413Z"
    },
    "papermill": {
     "duration": 0.014012,
     "end_time": "2025-05-27T04:18:00.162994",
     "exception": false,
     "start_time": "2025-05-27T04:18:00.148982",
     "status": "completed"
    },
    "tags": []
   },
   "outputs": [],
   "source": [
    "def export_markdown_summary(md: str, md_fname:str, directory: str):\n",
    "    \"\"\"Export MD document and associated relevant images\"\"\"\n",
    "    import os\n",
    "    import shutil\n",
    "    import re\n",
    "\n",
    "    if (os.path.exists(directory) and not os.path.isdir(directory)):\n",
    "        raise RuntimeError(f\"a non-directory file exists with name {directory:s}\")\n",
    "\n",
    "    if (not os.path.exists(directory)):\n",
    "        print(f\"creating directory {directory:s}\")\n",
    "        os.mkdir(directory)\n",
    "\n",
    "    fig_fnames = (re.compile(r'\\[Fig.*\\]\\((.*)\\)').findall(md) + \n",
    "                  re.compile(r'\\<img src=\"([^>\\s]*)\"[^>]*/>').findall(md))\n",
    "    print(\"found figures\", fig_fnames)\n",
    "    for fname in fig_fnames:\n",
    "        if 'http' in fname:\n",
    "            # No need to copy online figures\n",
    "            continue\n",
    "        if not os.path.exists(fname):\n",
    "            print(\"file not found\", fname)\n",
    "            continue\n",
    "        print(\"copying \", fname, \"to\", directory)\n",
    "        destdir = os.path.join(directory, os.path.dirname(fname))\n",
    "        destfname = os.path.join(destdir, os.path.basename(fname))\n",
    "        try:\n",
    "            os.makedirs(destdir)\n",
    "        except FileExistsError:\n",
    "            pass\n",
    "        shutil.copy(fname, destfname)\n",
    "    with open(os.path.join(directory, md_fname), 'w') as fout:\n",
    "        fout.write(md)\n",
    "    print(\"exported in \", os.path.join(directory, md_fname))\n",
    "    [print(\"    + \" + os.path.join(directory,fk)) for fk in fig_fnames]"
   ]
  },
  {
   "cell_type": "code",
   "execution_count": 8,
   "id": "014d04a4",
   "metadata": {
    "execution": {
     "iopub.execute_input": "2025-05-27T04:18:00.174030Z",
     "iopub.status.busy": "2025-05-27T04:18:00.173817Z",
     "iopub.status.idle": "2025-05-27T04:18:00.180705Z",
     "shell.execute_reply": "2025-05-27T04:18:00.180151Z"
    },
    "papermill": {
     "duration": 0.013396,
     "end_time": "2025-05-27T04:18:00.181799",
     "exception": false,
     "start_time": "2025-05-27T04:18:00.168403",
     "status": "completed"
    },
    "tags": []
   },
   "outputs": [
    {
     "name": "stdout",
     "output_type": "stream",
     "text": [
      "found figures ['tmp_2505.19832/./outplot2asingle.png', 'tmp_2505.19832/./PHANGSplot.jpeg', 'tmp_2505.19832/./outplot4.png']\n",
      "copying  tmp_2505.19832/./outplot2asingle.png to _build/html/\n",
      "copying  tmp_2505.19832/./PHANGSplot.jpeg to _build/html/\n",
      "copying  tmp_2505.19832/./outplot4.png to _build/html/\n",
      "exported in  _build/html/2505.19832.md\n",
      "    + _build/html/tmp_2505.19832/./outplot2asingle.png\n",
      "    + _build/html/tmp_2505.19832/./PHANGSplot.jpeg\n",
      "    + _build/html/tmp_2505.19832/./outplot4.png\n",
      "found figures []\n",
      "exported in  _build/html/2505.19875.md\n"
     ]
    }
   ],
   "source": [
    "for paper_id, md in documents:\n",
    "    export_markdown_summary(md, f\"{paper_id:s}.md\", '_build/html/')"
   ]
  },
  {
   "cell_type": "markdown",
   "id": "f087a0a7",
   "metadata": {
    "papermill": {
     "duration": 0.004765,
     "end_time": "2025-05-27T04:18:00.191560",
     "exception": false,
     "start_time": "2025-05-27T04:18:00.186795",
     "status": "completed"
    },
    "tags": []
   },
   "source": [
    "## Display the papers\n",
    "\n",
    "Not necessary but allows for a quick check."
   ]
  },
  {
   "cell_type": "code",
   "execution_count": 9,
   "id": "fd25f625",
   "metadata": {
    "execution": {
     "iopub.execute_input": "2025-05-27T04:18:00.202686Z",
     "iopub.status.busy": "2025-05-27T04:18:00.202161Z",
     "iopub.status.idle": "2025-05-27T04:18:00.208448Z",
     "shell.execute_reply": "2025-05-27T04:18:00.207875Z"
    },
    "papermill": {
     "duration": 0.012955,
     "end_time": "2025-05-27T04:18:00.209428",
     "exception": false,
     "start_time": "2025-05-27T04:18:00.196473",
     "status": "completed"
    },
    "scrolled": false,
    "tags": []
   },
   "outputs": [
    {
     "data": {
      "text/markdown": [
       "<div class=\"macros\" style=\"visibility:hidden;\">\n",
       "$\\newcommand{\\ensuremath}{}$\n",
       "$\\newcommand{\\xspace}{}$\n",
       "$\\newcommand{\\object}[1]{\\texttt{#1}}$\n",
       "$\\newcommand{\\farcs}{{.}''}$\n",
       "$\\newcommand{\\farcm}{{.}'}$\n",
       "$\\newcommand{\\arcsec}{''}$\n",
       "$\\newcommand{\\arcmin}{'}$\n",
       "$\\newcommand{\\ion}[2]{#1#2}$\n",
       "$\\newcommand{\\textsc}[1]{\\textrm{#1}}$\n",
       "$\\newcommand{\\hl}[1]{\\textrm{#1}}$\n",
       "$\\newcommand{\\footnote}[1]{}$\n",
       "$\\newcommand{◦ee}{\\ensuremath{^\\circ}}$\n",
       "$\\newcommand{\\kmskpc}{ap{km s^{-1} kpc^{-1}}}$\n",
       "$\\newcommand{\\meanv}{\\ensuremath{<v>}}$\n",
       "$\\newcommand{\\python}{{\\tt Python}}$\n",
       "$\\newcommand{\\avir}{\\mbox{\\langle\\alpha_{\\rm vir}\\rangle}}$\n",
       "$\\newcommand{\\disp}{\\mbox{\\langle\\sigma_{\\rm mol}\\rangle}}$\n",
       "$\\newcommand{\\eff}{\\mbox{\\langle\\epsilon_{\\rm ff}\\rangle}}$\n",
       "$\\newcommand{\\tff}{\\mbox{\\langle\\tau_{\\rm ff}\\rangle}}$\n",
       "$\\newcommand{\\sigmol}{\\mbox{\\langle\\Sigma_{\\rm mol}\\rangle}}$\n",
       "$\\newcommand{\\tdep}{\\mbox{\\tau_{\\rm dep}^{\\rm mol}}}$\n",
       "$\\newcommand{\\vect}[1]{\\boldsymbol{#1}}$\n",
       "$\\newcommand\\sol{\\odot}$</div>\n",
       "\n",
       "\n",
       "\n",
       "<div id=\"title\">\n",
       "\n",
       "# Reconciling extragalactic star formation efficiencies with theory: insights from PHANGS\n",
       "\n",
       "</div>\n",
       "<div id=\"comments\">\n",
       "\n",
       "[![arXiv](https://img.shields.io/badge/arXiv-2505.19832-b31b1b.svg)](https://arxiv.org/abs/2505.19832)<mark>Appeared on: 2025-05-27</mark> -  _Accepted for publication in A&A, 28 pages, 8 figures_\n",
       "\n",
       "</div>\n",
       "<div id=\"authors\">\n",
       "\n",
       "S. E. Meidt, et al. -- incl., <mark>E. Schinnerer</mark>, <mark>A. Hughes</mark>\n",
       "\n",
       "</div>\n",
       "<div id=\"abstract\">\n",
       "\n",
       "**Abstract:** New extragalactic measurements of the cloud population-averaged star formation efficiency per free-fall time $\\rm \\epsilon_{\\rm ff}$ from PHANGS show little sign of a theoretically predicted dependence on the gas virial level and weak variation with cloud-scale gas velocity dispersion.We explore ways to bring theory into consistency with the observations, in particular highlighting systematic variations in internal density structure that must happen together with an increase in virial parameter typical towards denser galaxy centers.To introduce these variations into conventional turbulence-regulated star formation models, we adopt three adjustments, together motivated by the expectation that the background host galaxy has an influence on the cloud-scale: we incorporate self-gravity and an internal density distribution that contains a broad power-law (PL) component and resembles the structure observed in local resolved clouds, we allow that the internal gas kinematics include motion in the background potential and let this regulate the onset of self-gravitation, and we assume that the distribution of gas densities is in a steady-state for only a fraction of a cloud free-fall time.  In practice, these changes significantly reduce the efficiencies predicted in multi-free-fall (MFF) scenarios compared to purely lognormal (LN) probability density functions (PDFs) and ties efficiency variations to variations in the slope of the PL $\\alpha$ .We fit the model to PHANGS measurements of $\\epsilon_{\\rm ff}$ to identify the PL slopes that yield an optimal match.  These slopes vary systematically with galactic environment in the sense that gas that sits furthest from virial balance contains fractionally more gas at high density.  We relate this to the equilibrium response of gas in the presence of the galactic gravitational potential, which forces more gas to high density than characteristic of fully self-gravitating clouds.Viewing the efficiency variations as originating with time evolution in the power-law slope, our findings would alternatively imply coordination of the cloud evolutionary stage within environment.With this `galaxy regulation' behavior included, our preferred `self-gravitating' sgMFF models function similarly to the original, roughly `virialized cloud' single-free-fall models.  However, outside the environment of disks with their characteristic regulation, the flexible MFF models may be better suited.\n",
       "\n",
       "</div>\n",
       "\n",
       "<div id=\"div_fig1\">\n",
       "\n",
       "<img src=\"tmp_2505.19832/./outplot2asingle.png\" alt=\"Fig7\" width=\"100%\"/>\n",
       "\n",
       "**Figure 7. -** Diagnostics of the hybrid LN+PL density PDFs that match different MFF (and SFF) SF models to the $\\rm \\epsilon_{\\rm ff}$ values measured in PHANGS, from left to right: the slope of the PL component of the PDF $\\alpha$, the dense gas fraction $f_{\\rm d}$ measured above a fixed density threshold (see text) and the self-gravitating fraction $f_{\\rm sg}$ measured above the critical density $s_{\\rm crit}$. The top row shows results for PDFs in the fiducial broad PL, shortened duration model given in Eq. (\\ref{eq:finaleff}), adopting a MFF scenario. The second row shows results for PDFs in the broad PL, full duration model with $t_{\\rm obs}=t_{\\rm stop}$ in Eq. (\\ref{eq:finaleff}) also in the MFF scenario.  The bottom two rows show MFF (third row) or SFF (fourth row) predictions adopting hybrid smooth-PDFs in the Burkhart formulation, with $s_{\\rm t}=s_{\\rm crit}$ advocated by \\cite{burkmocz}.  All SF models shown here have assumed $\\epsilon_{\\rm core}=0.5$, $\\phi_t=1$, $b=0.87$ and $c_s=0.3$ km s$^{-1}$ and the critical density given in Eq. (\\ref{eq:scritKM05}).\n",
       "As indicated by the color bar in the top right panel, points are color-coded by galactocentric radius (increasing outward, from red to purple). Symbol style denotes relative gas surface density; in all radial bins, regions sitting below the 30$^{th}$ percentile are marked with diamonds, regions between the 30$^{th}$ and 70$^{th}$ are marked with a circle, and regions above the 70$^{th}$ percentile are marked with a cross.  The gray points in the bottom row repeat the measurements from the top row.  The horizontal gray line (band) in the top left panel shows the mean (full spread) of the PL slopes $\\alpha$ observed in local clouds \\citep{Kainulainen14}.  The gray band in the middle panels illustrates the relation between dense gas fraction and gas surface density fitted by \\cite{neumann23}. The width of the band represents the full spread in the fitted data (roughly 3 times the scatter about the fit line).\n",
       " (*fig:results1*)\n",
       "\n",
       "</div>\n",
       "<div id=\"div_fig2\">\n",
       "\n",
       "<img src=\"tmp_2505.19832/./PHANGSplot.jpeg\" alt=\"Fig4\" width=\"100%\"/>\n",
       "\n",
       "**Figure 4. -** The time-average $\\rm \\epsilon_{\\rm ff}$ measured in 1.5-kpc wide hexagonal apertures sampling throughout 67 nearby galaxies targeted by PHANGS, as measured by \\cite{leroy24}.  Measurements are plotted against the average cloud-scale velocity dispersion $\\langle\\sigma_{\\rm mol}^{\\rm cloud}\\rangle$ in each aperture (\\citealt{leroy24}; see \\citealt{sun22,sun23} for details). Representative values for the $z\\sim1$ clumps examined by \\cite{dz23} are indicated by the thick gray point and bar, which depict the mean and rms of clump velocity dispersions, respectively, at the 11\\% efficiency estimated for these clumps \\citep{dz23}.\n",
       "Colored lines illustrate basic predictions from turbulence-regulated SF models in single-free-fall (SFF) and multi-free-fall  (MFF) scenarios: \\cite{KM05}(KM05, SFF; blue), \\cite{PN11}(PN11, SFF; purple, scaled down by a factor of 10) and \\cite{FK12}(FK12, MFF; red, scaled down by a factor of 100).  Each model is shown at three values of the virial parameter $\\alpha_{\\rm vir}=2.9$, $\\alpha_{\\rm vir}=5.3$ and $\\alpha_{\\rm vir}=9.7$, the 16$^{\\rm th}$, 50$^{\\rm th}$ and 84$^{\\rm th}$ percentiles of the plotted regions, respectively.  The linewidth of the trends increases with increasing virial parameter.\n",
       "All models adopt $\\epsilon_{\\rm core} =0.5$, $b=0.87$, $\\phi_t=1.9$ and gas sound speed $c_s = 0.3   {\\rm km   s^{-1}}$(see main text for definitions of these quantities) and, for comparison purposes, the same definition for the critical density, given by Eq. (\\ref{eq:scritKM05}), estimated using the appropriate virial parameter for each line.\n",
       "  (*fig:PHANGSsfe*)\n",
       "\n",
       "</div>\n",
       "<div id=\"div_fig3\">\n",
       "\n",
       "<img src=\"tmp_2505.19832/./outplot4.png\" alt=\"Fig3\" width=\"100%\"/>\n",
       "\n",
       "**Figure 3. -** \n",
       " Variation in the PL slope $\\alpha$ calculated with the shortened duration model given in Eq. (\\ref{eq:finaleff}) as a function of the cloud-scale virial parameter $\\alpha_{\\rm vir}$.  Symbol shapes and colors are as in Figure \\ref{fig:results1}.\n",
       " The horizontal gray line (band) shows the mean (full spread) of the PL slopes $\\alpha$ observed in local clouds \\citep{Kainulainen14}. The reference line given by Eq. (\\ref{eq:approximatealpha}) with $\\mathcal{R}_\\alpha=0.23\\pm0.06$ is shown in black. Combining the systematic variation of dense gas fraction with virial state implied here together with variations in the critical density (depending on $\\alpha_{\\rm vir}$) produces star formation efficiencies that match the PHANGS observations in Fig. \\ref{fig:PHANGSsfe}(see also Fig. \\ref{fig:PHANGSsfeMODEL} and the discussion in $\\S$\\ref{sec:discussionMFFvKM05}).\n",
       "  (*fig:alphaAlphavir*)\n",
       "\n",
       "</div><div id=\"qrcode\"><img src=https://api.qrserver.com/v1/create-qr-code/?size=100x100&data=\"https://arxiv.org/abs/2505.19832\"></div>"
      ],
      "text/plain": [
       "<IPython.core.display.Markdown object>"
      ]
     },
     "metadata": {},
     "output_type": "display_data"
    },
    {
     "data": {
      "text/markdown": [
       "<div class=\"macros\" style=\"visibility:hidden;\">\n",
       "$\\newcommand{\\ensuremath}{}$\n",
       "$\\newcommand{\\xspace}{}$\n",
       "$\\newcommand{\\object}[1]{\\texttt{#1}}$\n",
       "$\\newcommand{\\farcs}{{.}''}$\n",
       "$\\newcommand{\\farcm}{{.}'}$\n",
       "$\\newcommand{\\arcsec}{''}$\n",
       "$\\newcommand{\\arcmin}{'}$\n",
       "$\\newcommand{\\ion}[2]{#1#2}$\n",
       "$\\newcommand{\\textsc}[1]{\\textrm{#1}}$\n",
       "$\\newcommand{\\hl}[1]{\\textrm{#1}}$\n",
       "$\\newcommand{\\footnote}[1]{}$\n",
       "$\\newcommand{\\mb}[1]{{\\color{red}{\\bf} #1}}$\n",
       "$\\newcommand{\\arraystretch}{1.5}$\n",
       "$\\newcommand{\\kms}{km~s^{-1}}$\n",
       "$\\newcommand{\\teff}{\\textit{T}_{\\text{eff}}}$\n",
       "$\\newcommand{\\teffsun}{\\textit{T}_{\\text{eff},\\bigodot}}$\n",
       "$\\newcommand{\\logg}{\\text{log}(\\textit{g})}$\n",
       "$\\newcommand{\\mh}{[\\text{M}/\\text{H}]}$\n",
       "$\\newcommand{\\ofe}{[\\text{O}/\\text{Fe}]}$\n",
       "$\\newcommand{\\feh}{[\\text{Fe}/\\text{H}]}$\n",
       "$\\newcommand{\\mgfe}{[\\text{Mg}/\\text{Fe}]}$\n",
       "$\\newcommand{\\sife}{[\\text{Si}/\\text{Fe}]}$\n",
       "$\\newcommand{\\alpham}{[\\alpha/\\text{M}]}$\n",
       "$\\newcommand{\\alphafe}{[\\alpha/\\text{Fe}]}$\n",
       "$\\newcommand{\\nife}{[\\text{Ni}/\\text{Fe}]}$\n",
       "$\\newcommand{\\cefe}{[\\text{Ce}/\\text{Fe}]}$\n",
       "$\\newcommand{\\tife}{[\\text{Ti}/\\text{Fe}]}$\n",
       "$\\newcommand{\\sfe}{[\\text{S}/\\text{Fe}]}$\n",
       "$\\newcommand{\\crfe}{[\\text{Cr}/\\text{Fe}]}$\n",
       "$\\newcommand{\\cafe}{[\\text{Ca}/\\text{Fe}]}$\n",
       "$\\newcommand{\\nfe}{[\\text{N}/\\text{Fe}]}$\n",
       "$\\newcommand{\\snr}{S/N}$\n",
       "$\\newcommand{\\vrad}{V_{\\text{rad}}}$\n",
       "$\\newcommand{\\cms}{cm~s^{-2}}$\n",
       "$\\newcommand{\\g}{G}$\n",
       "$\\newcommand{\\bp}{\\text{B}_\\text{p}}$\n",
       "$\\newcommand{\\rp}{\\text{R}_\\text{p}}$</div>\n",
       "\n",
       "\n",
       "\n",
       "<div id=\"title\">\n",
       "\n",
       "# Impact of $\\langle$3D$\\rangle$ NLTE on GCE of oxygen\\\\with the RAdial Velocity Experiment\n",
       "\n",
       "</div>\n",
       "<div id=\"comments\">\n",
       "\n",
       "[![arXiv](https://img.shields.io/badge/arXiv-2505.19875-b31b1b.svg)](https://arxiv.org/abs/2505.19875)<mark>Appeared on: 2025-05-27</mark> -  _11 pages, 12 figures. Accepted for publication in A&A_\n",
       "\n",
       "</div>\n",
       "<div id=\"authors\">\n",
       "\n",
       "<mark>G. Guiglion</mark>\n",
       "\n",
       "</div>\n",
       "<div id=\"abstract\">\n",
       "\n",
       "**Abstract:** The stellar chemical abundances, coupled with stellar kinematicsare a unique way to understand the chemo-dynamical processes that occurs tobuild the Milky Way and its local volume as we observe today. However, measuring stellar abundances is challenging as one needs to properlyaddress the effect of departure from the Local Thermodynamic Equilibrium (LTE), aswell as the commonly used 1-dimensional model atmosphere. In this work,we constrain the chemical evolution of [ O/Fe ] in FG stars of the RAdialVelocity Experiment (RAVE) with [ O/Fe ] abundances derived in non-LTE (NLTE)and with horizontally- temporally -averaged 3D ( $\\langle$ 3D $\\rangle$ ) model atmospheres. Using standard spectral fitting method, we determine for the first timeLTE and NLTE abundances of oxygen from the $\\ion{O}{I}$ triplet at 8 446 Å inturn-off and dwarf stars thanks to intermediate-resolution RAVE spectra,assuming both 1D and ( $\\langle$ 3D $\\rangle$ ) model atmosphere. We find that NLTE effects plays a significant role when determining oxygeneven at a resolution of R= 7500. Typical NLTE-LTE corrections of the order of-0.12 dex are measured in dwarfs and turn-off stars using 1D MARCS models. In addition, $\\langle$ 3D $\\rangle$ modelling significantly impacts the oxygen abundance measurements.In contrast to applying $\\langle$ 3D $\\rangle$ NLTE abundance corrections or the classical1D LTE, the full $\\langle$ 3D $\\rangle$ NLTE spectral fitting yields improving the precisionof abundances by nearly 10 \\% . We also showthat the decrease of [ O/Fe ] in the super-solar metallicity regime is rather characterisedby a flat trend when [ O/Fe ] is computed in $\\langle$ 3D $\\rangle$ NLTEfrom full spectral fitting. We attribute thisflattening at super-solar [ Fe/H ] to the interplay between locally born stars with negative [ O/Fe ] and stars migrated from the inner MW regions with super-solar [ O/Fe ] , supportingthe complex chemo-dynamical history of the Solar neighbourhood. Our results are key for understanding the effects of $\\langle$ 3D $\\rangle$ and NLTE whenmeasuring oxygen abundances in intermediate-resolution spectra. NLTE effect should be takeninto account when confronting Galactic chemical evolution models to observations. Thiswork is a test bed for the spectral analysis of the 4MOST low-resolutionspectra that will share similar properties as RAVE spectra in the redwavelength domain.\n",
       "\n",
       "</div>\n",
       "\n",
       "<div id=\"qrcode\"><img src=https://api.qrserver.com/v1/create-qr-code/?size=100x100&data=\"https://arxiv.org/abs/2505.19875\"></div>"
      ],
      "text/plain": [
       "<IPython.core.display.Markdown object>"
      ]
     },
     "metadata": {},
     "output_type": "display_data"
    }
   ],
   "source": [
    "[display(Markdown(k[1])) for k in documents];"
   ]
  },
  {
   "cell_type": "markdown",
   "id": "873873a4",
   "metadata": {
    "papermill": {
     "duration": 0.00523,
     "end_time": "2025-05-27T04:18:00.220206",
     "exception": false,
     "start_time": "2025-05-27T04:18:00.214976",
     "status": "completed"
    },
    "tags": []
   },
   "source": [
    "# Create HTML index"
   ]
  },
  {
   "cell_type": "code",
   "execution_count": 10,
   "id": "cf665672",
   "metadata": {
    "execution": {
     "iopub.execute_input": "2025-05-27T04:18:00.231913Z",
     "iopub.status.busy": "2025-05-27T04:18:00.231469Z",
     "iopub.status.idle": "2025-05-27T04:18:00.242470Z",
     "shell.execute_reply": "2025-05-27T04:18:00.241926Z"
    },
    "papermill": {
     "duration": 0.018011,
     "end_time": "2025-05-27T04:18:00.243487",
     "exception": false,
     "start_time": "2025-05-27T04:18:00.225476",
     "status": "completed"
    },
    "tags": []
   },
   "outputs": [
    {
     "name": "stdout",
     "output_type": "stream",
     "text": [
      "501  publications files modified in the last 7 days.\n"
     ]
    }
   ],
   "source": [
    "from datetime import datetime, timedelta, timezone\n",
    "from glob import glob\n",
    "import os\n",
    "\n",
    "files = glob('_build/html/*.md')\n",
    "days = 7\n",
    "now = datetime.today()\n",
    "res = []\n",
    "for fk in files:\n",
    "    stat_result = os.stat(fk).st_ctime\n",
    "    modified = datetime.fromtimestamp(stat_result, tz=timezone.utc).replace(tzinfo=None)\n",
    "    delta = now.today() - modified\n",
    "    if delta <= timedelta(days=days):\n",
    "        res.append((delta.seconds, fk))\n",
    "res = [k[1] for k in reversed(sorted(res, key=lambda x:x[1]))]\n",
    "npub = len(res)\n",
    "print(len(res), f\" publications files modified in the last {days:d} days.\")\n",
    "# [ print('\\t', k) for k in res ];"
   ]
  },
  {
   "cell_type": "code",
   "execution_count": 11,
   "id": "015de740",
   "metadata": {
    "execution": {
     "iopub.execute_input": "2025-05-27T04:18:00.255307Z",
     "iopub.status.busy": "2025-05-27T04:18:00.255106Z",
     "iopub.status.idle": "2025-05-27T04:18:00.279793Z",
     "shell.execute_reply": "2025-05-27T04:18:00.279211Z"
    },
    "papermill": {
     "duration": 0.031796,
     "end_time": "2025-05-27T04:18:00.280871",
     "exception": false,
     "start_time": "2025-05-27T04:18:00.249075",
     "status": "completed"
    },
    "tags": []
   },
   "outputs": [
    {
     "name": "stdout",
     "output_type": "stream",
     "text": [
      "8  publications in the last 7 days.\n"
     ]
    }
   ],
   "source": [
    "import datetime\n",
    "from glob import glob\n",
    "\n",
    "def get_last_n_days(lst, days=1):\n",
    "    \"\"\" Get the documents from the last n days \"\"\"\n",
    "    sorted_lst = sorted(lst, key=lambda x: x[1], reverse=True)\n",
    "    for fname, date in sorted_lst:\n",
    "        if date >= str(datetime.date.today() - datetime.timedelta(days=days)):\n",
    "            yield fname\n",
    "\n",
    "def extract_appearance_dates(lst_file):\n",
    "    dates = []\n",
    "\n",
    "    def get_date(line):\n",
    "        return line\\\n",
    "            .split('Appeared on:')[-1]\\\n",
    "            .split('</mark>')[0].strip()\n",
    "\n",
    "    for fname in lst:\n",
    "        with open(fname, 'r') as f:\n",
    "            found_date = False\n",
    "            for line in f:\n",
    "                if not found_date:\n",
    "                    if \"Appeared on\" in line:\n",
    "                        found_date = True\n",
    "                        dates.append((fname, get_date(line)))\n",
    "                else:\n",
    "                    break\n",
    "    return dates\n",
    "\n",
    "from glob import glob\n",
    "lst = glob('_build/html/*md')\n",
    "days = 7\n",
    "dates = extract_appearance_dates(lst)\n",
    "res = list(get_last_n_days(dates, days))\n",
    "npub = len(res)\n",
    "print(len(res), f\" publications in the last {days:d} days.\")"
   ]
  },
  {
   "cell_type": "code",
   "execution_count": 12,
   "id": "52ca0208",
   "metadata": {
    "execution": {
     "iopub.execute_input": "2025-05-27T04:18:00.293266Z",
     "iopub.status.busy": "2025-05-27T04:18:00.292826Z",
     "iopub.status.idle": "2025-05-27T04:18:00.298025Z",
     "shell.execute_reply": "2025-05-27T04:18:00.297439Z"
    },
    "papermill": {
     "duration": 0.012436,
     "end_time": "2025-05-27T04:18:00.299045",
     "exception": false,
     "start_time": "2025-05-27T04:18:00.286609",
     "status": "completed"
    },
    "scrolled": false,
    "tags": []
   },
   "outputs": [],
   "source": [
    "def create_carousel(npub=4):\n",
    "    \"\"\" Generate the HTML code for a carousel with `npub` slides \"\"\"\n",
    "    carousel = [\"\"\"  <div class=\"carousel\" \"\"\",\n",
    "                \"\"\"       data-flickity='{ \"autoPlay\": 10000, \"adaptiveHeight\": true, \"resize\": true, \"wrapAround\": true, \"pauseAutoPlayOnHover\": true, \"groupCells\": 1 }' id=\"asyncTypeset\">\"\"\"\n",
    "                ]\n",
    "    \n",
    "    item_str = \"\"\"    <div class=\"carousel-cell\"> <div id=\"slide{k}\" class=\"md_view\">Content {k}</div> </div>\"\"\"\n",
    "    for k in range(1, npub + 1):\n",
    "        carousel.append(item_str.format(k=k))\n",
    "    carousel.append(\"  </div>\")\n",
    "    return '\\n'.join(carousel)\n",
    "\n",
    "def create_grid(npub=4):\n",
    "    \"\"\" Generate the HTML code for a flat grid with `npub` slides \"\"\"\n",
    "    grid = [\"\"\"  <div class=\"grid\"> \"\"\",\n",
    "                ]\n",
    "    \n",
    "    item_str = \"\"\"    <div class=\"grid-item\"> <div id=\"slide{k}\" class=\"md_view\">Content {k}</div> </div>\"\"\"\n",
    "    for k in range(1, npub + 1):\n",
    "        grid.append(item_str.format(k=k))\n",
    "    grid.append(\"  </div>\")\n",
    "    return '\\n'.join(grid)"
   ]
  },
  {
   "cell_type": "code",
   "execution_count": 13,
   "id": "a6eac5b6",
   "metadata": {
    "execution": {
     "iopub.execute_input": "2025-05-27T04:18:00.311096Z",
     "iopub.status.busy": "2025-05-27T04:18:00.310662Z",
     "iopub.status.idle": "2025-05-27T04:18:00.315628Z",
     "shell.execute_reply": "2025-05-27T04:18:00.315091Z"
    },
    "papermill": {
     "duration": 0.012046,
     "end_time": "2025-05-27T04:18:00.316608",
     "exception": false,
     "start_time": "2025-05-27T04:18:00.304562",
     "status": "completed"
    },
    "scrolled": false,
    "tags": []
   },
   "outputs": [],
   "source": [
    "carousel = create_carousel(npub)\n",
    "docs = ', '.join(['\"{0:s}\"'.format(k.split('/')[-1]) for k in res])\n",
    "slides = ', '.join([f'\"slide{k}\"' for k in range(1, npub + 1)])\n",
    "\n",
    "with open(\"daily_template.html\", \"r\") as tpl:\n",
    "    page = tpl.read()\n",
    "    page = page.replace(\"{%-- carousel:s --%}\", carousel)\\\n",
    "               .replace(\"{%-- suptitle:s --%}\",  \"7-day archives\" )\\\n",
    "               .replace(\"{%-- docs:s --%}\", docs)\\\n",
    "               .replace(\"{%-- slides:s --%}\", slides)\n",
    "    \n",
    "with open(\"_build/html/index_7days.html\", 'w') as fout:\n",
    "    fout.write(page)"
   ]
  },
  {
   "cell_type": "code",
   "execution_count": 14,
   "id": "adc1a1ec",
   "metadata": {
    "execution": {
     "iopub.execute_input": "2025-05-27T04:18:00.328815Z",
     "iopub.status.busy": "2025-05-27T04:18:00.328357Z",
     "iopub.status.idle": "2025-05-27T04:18:00.335488Z",
     "shell.execute_reply": "2025-05-27T04:18:00.334927Z"
    },
    "papermill": {
     "duration": 0.014262,
     "end_time": "2025-05-27T04:18:00.336523",
     "exception": false,
     "start_time": "2025-05-27T04:18:00.322261",
     "status": "completed"
    },
    "tags": []
   },
   "outputs": [
    {
     "name": "stdout",
     "output_type": "stream",
     "text": [
      "3  publications in the last day.\n"
     ]
    }
   ],
   "source": [
    "# redo for today\n",
    "days = 1\n",
    "res = list(get_last_n_days(dates, days))\n",
    "npub = len(res)\n",
    "print(len(res), f\" publications in the last day.\")\n",
    "\n",
    "carousel = create_carousel(npub)\n",
    "docs = ', '.join(['\"{0:s}\"'.format(k.split('/')[-1]) for k in res])\n",
    "slides = ', '.join([f'\"slide{k}\"' for k in range(1, npub + 1)])\n",
    "\n",
    "with open(\"daily_template.html\", \"r\") as tpl:\n",
    "    page = tpl.read()\n",
    "    page = page.replace(\"{%-- carousel:s --%}\", carousel)\\\n",
    "               .replace(\"{%-- suptitle:s --%}\",  \"Daily\" )\\\n",
    "               .replace(\"{%-- docs:s --%}\", docs)\\\n",
    "               .replace(\"{%-- slides:s --%}\", slides)\n",
    "    \n",
    "# print(carousel, docs, slides)\n",
    "# print(page)\n",
    "with open(\"_build/html/index_daily.html\", 'w') as fout:\n",
    "    fout.write(page)"
   ]
  },
  {
   "cell_type": "code",
   "execution_count": 15,
   "id": "00eece82",
   "metadata": {
    "execution": {
     "iopub.execute_input": "2025-05-27T04:18:00.349068Z",
     "iopub.status.busy": "2025-05-27T04:18:00.348512Z",
     "iopub.status.idle": "2025-05-27T04:18:00.355570Z",
     "shell.execute_reply": "2025-05-27T04:18:00.355027Z"
    },
    "papermill": {
     "duration": 0.014547,
     "end_time": "2025-05-27T04:18:00.356638",
     "exception": false,
     "start_time": "2025-05-27T04:18:00.342091",
     "status": "completed"
    },
    "scrolled": false,
    "tags": []
   },
   "outputs": [
    {
     "name": "stdout",
     "output_type": "stream",
     "text": [
      "6  6 publications selected.\n"
     ]
    }
   ],
   "source": [
    "# Create the flat grid of the last N papers (fixed number regardless of dates)\n",
    "from itertools import islice \n",
    "\n",
    "npub = 6\n",
    "res = [k[0] for k in (islice(reversed(sorted(dates, key=lambda x: x[1])), 6))]\n",
    "print(len(res), f\" {npub} publications selected.\")\n",
    "\n",
    "grid = create_grid(npub)\n",
    "docs = ', '.join(['\"{0:s}\"'.format(k.split('/')[-1]) for k in res])\n",
    "slides = ', '.join([f'\"slide{k}\"' for k in range(1, npub + 1)])\n",
    "\n",
    "with open(\"grid_template.html\", \"r\") as tpl:\n",
    "    page = tpl.read()\n",
    "    page = page.replace(\"{%-- grid-content:s --%}\", grid)\\\n",
    "               .replace(\"{%-- suptitle:s --%}\",  f\"Last {npub:,d} papers\" )\\\n",
    "               .replace(\"{%-- docs:s --%}\", docs)\\\n",
    "               .replace(\"{%-- slides:s --%}\", slides)\n",
    "    \n",
    "# print(grid, docs, slides)\n",
    "# print(page)\n",
    "with open(\"_build/html/index_npub_grid.html\", 'w') as fout:\n",
    "    fout.write(page)"
   ]
  }
 ],
 "metadata": {
  "kernelspec": {
   "display_name": "Python 3 (ipykernel)",
   "language": "python",
   "name": "python3"
  },
  "language_info": {
   "codemirror_mode": {
    "name": "ipython",
    "version": 3
   },
   "file_extension": ".py",
   "mimetype": "text/x-python",
   "name": "python",
   "nbconvert_exporter": "python",
   "pygments_lexer": "ipython3",
   "version": "3.9.22"
  },
  "papermill": {
   "default_parameters": {},
   "duration": 58.968537,
   "end_time": "2025-05-27T04:18:00.578196",
   "environment_variables": {},
   "exception": null,
   "input_path": "MPIA daily digest.ipynb",
   "output_path": "log.ipynb",
   "parameters": {},
   "start_time": "2025-05-27T04:17:01.609659",
   "version": "2.6.0"
  },
  "vscode": {
   "interpreter": {
    "hash": "aee8b7b246df8f9039afb4144a1f6fd8d2ca17a180786b69acc140d282b71a49"
   }
  },
  "widgets": {
   "application/vnd.jupyter.widget-state+json": {
    "state": {
     "242ccb9453654a0590b1b130aab47a74": {
      "model_module": "@jupyter-widgets/controls",
      "model_module_version": "2.0.0",
      "model_name": "HTMLStyleModel",
      "state": {
       "_model_module": "@jupyter-widgets/controls",
       "_model_module_version": "2.0.0",
       "_model_name": "HTMLStyleModel",
       "_view_count": null,
       "_view_module": "@jupyter-widgets/base",
       "_view_module_version": "2.0.0",
       "_view_name": "StyleView",
       "background": null,
       "description_width": "",
       "font_size": null,
       "text_color": null
      }
     },
     "5b47dba2d0cb4a7baea99d352fb55f9b": {
      "model_module": "@jupyter-widgets/controls",
      "model_module_version": "2.0.0",
      "model_name": "HTMLModel",
      "state": {
       "_dom_classes": [],
       "_model_module": "@jupyter-widgets/controls",
       "_model_module_version": "2.0.0",
       "_model_name": "HTMLModel",
       "_view_count": null,
       "_view_module": "@jupyter-widgets/controls",
       "_view_module_version": "2.0.0",
       "_view_name": "HTMLView",
       "description": "",
       "description_allow_html": false,
       "layout": "IPY_MODEL_f78031a023f249cfb1aba186e30649cc",
       "placeholder": "​",
       "style": "IPY_MODEL_242ccb9453654a0590b1b130aab47a74",
       "tabbable": null,
       "tooltip": null,
       "value": "100%"
      }
     },
     "68dfff41f1584c8d822ec2039b16aefc": {
      "model_module": "@jupyter-widgets/base",
      "model_module_version": "2.0.0",
      "model_name": "LayoutModel",
      "state": {
       "_model_module": "@jupyter-widgets/base",
       "_model_module_version": "2.0.0",
       "_model_name": "LayoutModel",
       "_view_count": null,
       "_view_module": "@jupyter-widgets/base",
       "_view_module_version": "2.0.0",
       "_view_name": "LayoutView",
       "align_content": null,
       "align_items": null,
       "align_self": null,
       "border_bottom": null,
       "border_left": null,
       "border_right": null,
       "border_top": null,
       "bottom": null,
       "display": null,
       "flex": null,
       "flex_flow": null,
       "grid_area": null,
       "grid_auto_columns": null,
       "grid_auto_flow": null,
       "grid_auto_rows": null,
       "grid_column": null,
       "grid_gap": null,
       "grid_row": null,
       "grid_template_areas": null,
       "grid_template_columns": null,
       "grid_template_rows": null,
       "height": null,
       "justify_content": null,
       "justify_items": null,
       "left": null,
       "margin": null,
       "max_height": null,
       "max_width": null,
       "min_height": null,
       "min_width": null,
       "object_fit": null,
       "object_position": null,
       "order": null,
       "overflow": null,
       "padding": null,
       "right": null,
       "top": null,
       "visibility": null,
       "width": null
      }
     },
     "752d03aacb4e4016a9043870cab858e0": {
      "model_module": "@jupyter-widgets/base",
      "model_module_version": "2.0.0",
      "model_name": "LayoutModel",
      "state": {
       "_model_module": "@jupyter-widgets/base",
       "_model_module_version": "2.0.0",
       "_model_name": "LayoutModel",
       "_view_count": null,
       "_view_module": "@jupyter-widgets/base",
       "_view_module_version": "2.0.0",
       "_view_name": "LayoutView",
       "align_content": null,
       "align_items": null,
       "align_self": null,
       "border_bottom": null,
       "border_left": null,
       "border_right": null,
       "border_top": null,
       "bottom": null,
       "display": null,
       "flex": null,
       "flex_flow": null,
       "grid_area": null,
       "grid_auto_columns": null,
       "grid_auto_flow": null,
       "grid_auto_rows": null,
       "grid_column": null,
       "grid_gap": null,
       "grid_row": null,
       "grid_template_areas": null,
       "grid_template_columns": null,
       "grid_template_rows": null,
       "height": null,
       "justify_content": null,
       "justify_items": null,
       "left": null,
       "margin": null,
       "max_height": null,
       "max_width": null,
       "min_height": null,
       "min_width": null,
       "object_fit": null,
       "object_position": null,
       "order": null,
       "overflow": null,
       "padding": null,
       "right": null,
       "top": null,
       "visibility": null,
       "width": null
      }
     },
     "81b4f2f1f4b54836b4a72faeefdb7865": {
      "model_module": "@jupyter-widgets/controls",
      "model_module_version": "2.0.0",
      "model_name": "HTMLStyleModel",
      "state": {
       "_model_module": "@jupyter-widgets/controls",
       "_model_module_version": "2.0.0",
       "_model_name": "HTMLStyleModel",
       "_view_count": null,
       "_view_module": "@jupyter-widgets/base",
       "_view_module_version": "2.0.0",
       "_view_name": "StyleView",
       "background": null,
       "description_width": "",
       "font_size": null,
       "text_color": null
      }
     },
     "8b17f9031d434bba952c3bce56e0d4d5": {
      "model_module": "@jupyter-widgets/controls",
      "model_module_version": "2.0.0",
      "model_name": "FloatProgressModel",
      "state": {
       "_dom_classes": [],
       "_model_module": "@jupyter-widgets/controls",
       "_model_module_version": "2.0.0",
       "_model_name": "FloatProgressModel",
       "_view_count": null,
       "_view_module": "@jupyter-widgets/controls",
       "_view_module_version": "2.0.0",
       "_view_name": "ProgressView",
       "bar_style": "success",
       "description": "",
       "description_allow_html": false,
       "layout": "IPY_MODEL_68dfff41f1584c8d822ec2039b16aefc",
       "max": 6.0,
       "min": 0.0,
       "orientation": "horizontal",
       "style": "IPY_MODEL_d62317aa84464374b0dd360b8b29f2e9",
       "tabbable": null,
       "tooltip": null,
       "value": 6.0
      }
     },
     "a18d437a39304f7c839d040ce2f859a0": {
      "model_module": "@jupyter-widgets/controls",
      "model_module_version": "2.0.0",
      "model_name": "HTMLModel",
      "state": {
       "_dom_classes": [],
       "_model_module": "@jupyter-widgets/controls",
       "_model_module_version": "2.0.0",
       "_model_name": "HTMLModel",
       "_view_count": null,
       "_view_module": "@jupyter-widgets/controls",
       "_view_module_version": "2.0.0",
       "_view_name": "HTMLView",
       "description": "",
       "description_allow_html": false,
       "layout": "IPY_MODEL_752d03aacb4e4016a9043870cab858e0",
       "placeholder": "​",
       "style": "IPY_MODEL_81b4f2f1f4b54836b4a72faeefdb7865",
       "tabbable": null,
       "tooltip": null,
       "value": " 6/6 [00:36&lt;00:00,  5.16s/it]"
      }
     },
     "d62317aa84464374b0dd360b8b29f2e9": {
      "model_module": "@jupyter-widgets/controls",
      "model_module_version": "2.0.0",
      "model_name": "ProgressStyleModel",
      "state": {
       "_model_module": "@jupyter-widgets/controls",
       "_model_module_version": "2.0.0",
       "_model_name": "ProgressStyleModel",
       "_view_count": null,
       "_view_module": "@jupyter-widgets/base",
       "_view_module_version": "2.0.0",
       "_view_name": "StyleView",
       "bar_color": null,
       "description_width": ""
      }
     },
     "edb69d206788466b981041ad4cac36fc": {
      "model_module": "@jupyter-widgets/base",
      "model_module_version": "2.0.0",
      "model_name": "LayoutModel",
      "state": {
       "_model_module": "@jupyter-widgets/base",
       "_model_module_version": "2.0.0",
       "_model_name": "LayoutModel",
       "_view_count": null,
       "_view_module": "@jupyter-widgets/base",
       "_view_module_version": "2.0.0",
       "_view_name": "LayoutView",
       "align_content": null,
       "align_items": null,
       "align_self": null,
       "border_bottom": null,
       "border_left": null,
       "border_right": null,
       "border_top": null,
       "bottom": null,
       "display": null,
       "flex": null,
       "flex_flow": null,
       "grid_area": null,
       "grid_auto_columns": null,
       "grid_auto_flow": null,
       "grid_auto_rows": null,
       "grid_column": null,
       "grid_gap": null,
       "grid_row": null,
       "grid_template_areas": null,
       "grid_template_columns": null,
       "grid_template_rows": null,
       "height": null,
       "justify_content": null,
       "justify_items": null,
       "left": null,
       "margin": null,
       "max_height": null,
       "max_width": null,
       "min_height": null,
       "min_width": null,
       "object_fit": null,
       "object_position": null,
       "order": null,
       "overflow": null,
       "padding": null,
       "right": null,
       "top": null,
       "visibility": null,
       "width": null
      }
     },
     "f753e86e940844d4923efaff6a765c57": {
      "model_module": "@jupyter-widgets/controls",
      "model_module_version": "2.0.0",
      "model_name": "HBoxModel",
      "state": {
       "_dom_classes": [],
       "_model_module": "@jupyter-widgets/controls",
       "_model_module_version": "2.0.0",
       "_model_name": "HBoxModel",
       "_view_count": null,
       "_view_module": "@jupyter-widgets/controls",
       "_view_module_version": "2.0.0",
       "_view_name": "HBoxView",
       "box_style": "",
       "children": [
        "IPY_MODEL_5b47dba2d0cb4a7baea99d352fb55f9b",
        "IPY_MODEL_8b17f9031d434bba952c3bce56e0d4d5",
        "IPY_MODEL_a18d437a39304f7c839d040ce2f859a0"
       ],
       "layout": "IPY_MODEL_edb69d206788466b981041ad4cac36fc",
       "tabbable": null,
       "tooltip": null
      }
     },
     "f78031a023f249cfb1aba186e30649cc": {
      "model_module": "@jupyter-widgets/base",
      "model_module_version": "2.0.0",
      "model_name": "LayoutModel",
      "state": {
       "_model_module": "@jupyter-widgets/base",
       "_model_module_version": "2.0.0",
       "_model_name": "LayoutModel",
       "_view_count": null,
       "_view_module": "@jupyter-widgets/base",
       "_view_module_version": "2.0.0",
       "_view_name": "LayoutView",
       "align_content": null,
       "align_items": null,
       "align_self": null,
       "border_bottom": null,
       "border_left": null,
       "border_right": null,
       "border_top": null,
       "bottom": null,
       "display": null,
       "flex": null,
       "flex_flow": null,
       "grid_area": null,
       "grid_auto_columns": null,
       "grid_auto_flow": null,
       "grid_auto_rows": null,
       "grid_column": null,
       "grid_gap": null,
       "grid_row": null,
       "grid_template_areas": null,
       "grid_template_columns": null,
       "grid_template_rows": null,
       "height": null,
       "justify_content": null,
       "justify_items": null,
       "left": null,
       "margin": null,
       "max_height": null,
       "max_width": null,
       "min_height": null,
       "min_width": null,
       "object_fit": null,
       "object_position": null,
       "order": null,
       "overflow": null,
       "padding": null,
       "right": null,
       "top": null,
       "visibility": null,
       "width": null
      }
     }
    },
    "version_major": 2,
    "version_minor": 0
   }
  }
 },
 "nbformat": 4,
 "nbformat_minor": 5
}