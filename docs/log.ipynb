{
 "cells": [
  {
   "cell_type": "markdown",
   "id": "92bcb855",
   "metadata": {
    "papermill": {
     "duration": 0.003733,
     "end_time": "2024-04-22T04:08:33.781711",
     "exception": false,
     "start_time": "2024-04-22T04:08:33.777978",
     "status": "completed"
    },
    "tags": []
   },
   "source": [
    "# MPIA Arxiv on Deck 2\n",
    "\n",
    "Contains the steps to produce the paper extractions."
   ]
  },
  {
   "cell_type": "code",
   "execution_count": 1,
   "id": "3a0d6e11",
   "metadata": {
    "execution": {
     "iopub.execute_input": "2024-04-22T04:08:33.789329Z",
     "iopub.status.busy": "2024-04-22T04:08:33.788710Z",
     "iopub.status.idle": "2024-04-22T04:08:34.102355Z",
     "shell.execute_reply": "2024-04-22T04:08:34.101686Z"
    },
    "papermill": {
     "duration": 0.319303,
     "end_time": "2024-04-22T04:08:34.104070",
     "exception": false,
     "start_time": "2024-04-22T04:08:33.784767",
     "status": "completed"
    },
    "tags": []
   },
   "outputs": [],
   "source": [
    "# Imports\n",
    "import os\n",
    "from IPython.display import Markdown, display\n",
    "from tqdm.notebook import tqdm\n",
    "import warnings\n",
    "from PIL import Image \n",
    "\n",
    "# requires arxiv_on_deck_2\n",
    "\n",
    "from arxiv_on_deck_2.arxiv2 import (get_new_papers, \n",
    "                                    get_paper_from_identifier,\n",
    "                                    retrieve_document_source, \n",
    "                                    get_markdown_badge)\n",
    "from arxiv_on_deck_2 import (latex,\n",
    "                             latex_bib,\n",
    "                             mpia,\n",
    "                             highlight_authors_in_list)\n",
    "\n",
    "# Sometimes images are really big\n",
    "Image.MAX_IMAGE_PIXELS = 1000000000 "
   ]
  },
  {
   "cell_type": "code",
   "execution_count": 2,
   "id": "22aa9d44",
   "metadata": {
    "execution": {
     "iopub.execute_input": "2024-04-22T04:08:34.111406Z",
     "iopub.status.busy": "2024-04-22T04:08:34.110825Z",
     "iopub.status.idle": "2024-04-22T04:08:34.116102Z",
     "shell.execute_reply": "2024-04-22T04:08:34.115470Z"
    },
    "papermill": {
     "duration": 0.010243,
     "end_time": "2024-04-22T04:08:34.117438",
     "exception": false,
     "start_time": "2024-04-22T04:08:34.107195",
     "status": "completed"
    },
    "tags": []
   },
   "outputs": [],
   "source": [
    "# Some useful definitions.\n",
    "\n",
    "class AffiliationWarning(UserWarning):\n",
    "    pass\n",
    "\n",
    "class AffiliationError(RuntimeError):\n",
    "    pass\n",
    "\n",
    "def validation(source: str):\n",
    "    \"\"\"Raises error paper during parsing of source file\n",
    "    \n",
    "    Allows checks before parsing TeX code.\n",
    "    \n",
    "    Raises AffiliationWarning\n",
    "    \"\"\"\n",
    "    check = mpia.affiliation_verifications(source, verbose=True)\n",
    "    if check is not True:\n",
    "        raise AffiliationError(\"mpia.affiliation_verifications: \" + check)\n",
    "\n",
    "        \n",
    "warnings.simplefilter('always', AffiliationWarning)\n",
    "\n",
    "\n",
    "def get_markdown_qrcode(paper_id: str):\n",
    "    \"\"\" Generate a qrcode to the arxiv page using qrserver.com\n",
    "    \n",
    "    :param paper: Arxiv paper\n",
    "    :returns: markdown text\n",
    "    \"\"\"\n",
    "    url = r\"https://api.qrserver.com/v1/create-qr-code/?size=100x100&data=\"\n",
    "    txt = f\"\"\"<img src={url}\"https://arxiv.org/abs/{paper_id}\">\"\"\"\n",
    "    txt = '<div id=\"qrcode\">' + txt + '</div>'\n",
    "    return txt"
   ]
  },
  {
   "cell_type": "markdown",
   "id": "14bd6310",
   "metadata": {
    "papermill": {
     "duration": 0.002766,
     "end_time": "2024-04-22T04:08:34.123071",
     "exception": false,
     "start_time": "2024-04-22T04:08:34.120305",
     "status": "completed"
    },
    "tags": []
   },
   "source": [
    "## get list of arxiv paper candidates\n",
    "\n",
    "We use the MPIA mitarbeiter list webpage from mpia.de to get author names\n",
    "We then get all new papers from Arxiv and match authors"
   ]
  },
  {
   "cell_type": "code",
   "execution_count": 3,
   "id": "2645e73a",
   "metadata": {
    "execution": {
     "iopub.execute_input": "2024-04-22T04:08:34.130308Z",
     "iopub.status.busy": "2024-04-22T04:08:34.129749Z",
     "iopub.status.idle": "2024-04-22T04:08:51.944630Z",
     "shell.execute_reply": "2024-04-22T04:08:51.943896Z"
    },
    "papermill": {
     "duration": 17.820092,
     "end_time": "2024-04-22T04:08:51.946014",
     "exception": false,
     "start_time": "2024-04-22T04:08:34.125922",
     "status": "completed"
    },
    "tags": []
   },
   "outputs": [
    {
     "name": "stdout",
     "output_type": "stream",
     "text": [
      "A. d. Graaff  ->  A. D. Graaff  |  ['A. D. Graaff']\n",
      "E. Bañados  ->  E. Bañados  |  ['E. Bañados']\n",
      "F. Walter  ->  F. Walter  |  ['F. Walter']\n",
      "E. Bañados  ->  E. Bañados  |  ['E. Bañados']\n",
      "X. Zhang  ->  X. Zhang  |  ['X. Zhang']\n",
      "A. Gould  ->  A. Gould  |  ['A. Gould']\n",
      "K. El-Badry  ->  K. El-Badry  |  ['K. El-Badry']\n",
      "Arxiv has 42 new papers today\n",
      "          6 with possible author matches\n"
     ]
    }
   ],
   "source": [
    "# get list from MPIA website\n",
    "# it automatically filters identified non-scientists :func:`mpia.filter_non_scientists`\n",
    "mpia_authors = mpia.get_mpia_mitarbeiter_list()\n",
    "normed_mpia_authors = [k[1] for k in mpia_authors]   # initials + fullname\n",
    "new_papers = get_new_papers()\n",
    "# add manual references\n",
    "add_paper_refs = []\n",
    "new_papers.extend([get_paper_from_identifier(k) for k in add_paper_refs])\n",
    "\n",
    "candidates = []\n",
    "for paperk in new_papers:\n",
    "    # Check author list with their initials\n",
    "    normed_author_list = [mpia.get_initials(k) for k in paperk['authors']]\n",
    "    hl_authors = highlight_authors_in_list(normed_author_list, normed_mpia_authors, verbose=True)\n",
    "    matches = [(hl, orig) for hl, orig in zip(hl_authors, paperk['authors']) if 'mark' in hl]\n",
    "    paperk['authors'] = hl_authors\n",
    "    if matches:\n",
    "        # only select paper if an author matched our list\n",
    "        candidates.append(paperk)\n",
    "print(\"\"\"Arxiv has {0:,d} new papers today\"\"\".format(len(new_papers)))        \n",
    "print(\"\"\"          {0:,d} with possible author matches\"\"\".format(len(candidates)))"
   ]
  },
  {
   "cell_type": "markdown",
   "id": "3543b34a",
   "metadata": {
    "papermill": {
     "duration": 0.003014,
     "end_time": "2024-04-22T04:08:51.952265",
     "exception": false,
     "start_time": "2024-04-22T04:08:51.949251",
     "status": "completed"
    },
    "tags": []
   },
   "source": [
    "# Parse sources and generate relevant outputs\n",
    "\n",
    "From the candidates, we do the following steps:\n",
    "* get their tarball from ArXiv (and extract data)\n",
    "* find the main .tex file: find one with \\documentclass{...} (sometimes it's non trivial)\n",
    "* Check affiliations with :func:`validation`, which uses :func:`mpia.affiliation_verifications`\n",
    "* If passing the affiliations: we parse the .tex source\n",
    "   * inject sub-documents into the main (flatten the main document)\n",
    "   * parse structure, extract information (title, abstract, authors, figures...)\n",
    "   * handles `\\graphicspath` if provided\n",
    "* Generate the .md document."
   ]
  },
  {
   "cell_type": "code",
   "execution_count": 4,
   "id": "9576b79e",
   "metadata": {
    "execution": {
     "iopub.execute_input": "2024-04-22T04:08:51.959872Z",
     "iopub.status.busy": "2024-04-22T04:08:51.959268Z",
     "iopub.status.idle": "2024-04-22T04:12:09.539345Z",
     "shell.execute_reply": "2024-04-22T04:12:09.538527Z"
    },
    "papermill": {
     "duration": 197.585997,
     "end_time": "2024-04-22T04:12:09.541463",
     "exception": false,
     "start_time": "2024-04-22T04:08:51.955466",
     "status": "completed"
    },
    "scrolled": false,
    "tags": []
   },
   "outputs": [
    {
     "data": {
      "application/vnd.jupyter.widget-view+json": {
       "model_id": "76a35ad65b6843288b301f7ed72a8571",
       "version_major": 2,
       "version_minor": 0
      },
      "text/plain": [
       "  0%|          | 0/6 [00:00<?, ?it/s]"
      ]
     },
     "metadata": {},
     "output_type": "display_data"
    },
    {
     "name": "stdout",
     "output_type": "stream",
     "text": [
      "Retrieving document from  https://arxiv.org/e-print/2404.12432\n"
     ]
    },
    {
     "name": "stdout",
     "output_type": "stream",
     "text": [
      "extracting tarball to tmp_2404.12432..."
     ]
    },
    {
     "name": "stdout",
     "output_type": "stream",
     "text": [
      " done.\n"
     ]
    },
    {
     "name": "stderr",
     "output_type": "stream",
     "text": [
      "/opt/hostedtoolcache/Python/3.9.19/x64/lib/python3.9/site-packages/IPython/core/interactiveshell.py:3550: LatexWarning: Multiple tex files.\n",
      "\n",
      "  exec(code_obj, self.user_global_ns, self.user_ns)\n",
      "/opt/hostedtoolcache/Python/3.9.19/x64/lib/python3.9/site-packages/IPython/core/interactiveshell.py:3550: LatexWarning: Found documentclass in tmp_2404.12432/sample631.tex\n",
      "\n",
      "  exec(code_obj, self.user_global_ns, self.user_ns)\n",
      "/opt/hostedtoolcache/Python/3.9.19/x64/lib/python3.9/site-packages/arxiv_on_deck_2/latex.py:399: LatexWarning: Latex injecting: 'Table_filler.tex' from 'tmp_2404.12432/Table_filler.tex'\n",
      "  warnings.warn(LatexWarning(f\"Latex injecting: '{ext}' from '{subsource}'\"))\n",
      "/opt/hostedtoolcache/Python/3.9.19/x64/lib/python3.9/site-packages/arxiv_on_deck_2/latex.py:399: LatexWarning: Latex injecting: 'table_quiescent.tex' from 'tmp_2404.12432/table_quiescent.tex'\n",
      "  warnings.warn(LatexWarning(f\"Latex injecting: '{ext}' from '{subsource}'\"))\n",
      "/opt/hostedtoolcache/Python/3.9.19/x64/lib/python3.9/site-packages/arxiv_on_deck_2/latex.py:399: LatexWarning: Latex injecting: 'authors' from 'tmp_2404.12432/authors.tex'\n",
      "  warnings.warn(LatexWarning(f\"Latex injecting: '{ext}' from '{subsource}'\"))\n"
     ]
    },
    {
     "name": "stdout",
     "output_type": "stream",
     "text": [
      "A. d. Graaff  ->  A. D. Graaff  |  ['A. D. Graaff']\n"
     ]
    },
    {
     "name": "stdout",
     "output_type": "stream",
     "text": [
      "Found 122 bibliographic references in tmp_2404.12432/sample631.bbl.\n",
      "Retrieving document from  https://arxiv.org/e-print/2404.12443\n"
     ]
    },
    {
     "name": "stdout",
     "output_type": "stream",
     "text": [
      "extracting tarball to tmp_2404.12443..."
     ]
    },
    {
     "name": "stdout",
     "output_type": "stream",
     "text": [
      " done.\n"
     ]
    },
    {
     "name": "stdout",
     "output_type": "stream",
     "text": [
      "E. Bañados  ->  E. Bañados  |  ['E. Bañados']\n",
      "F. Walter  ->  F. Walter  |  ['F. Walter']\n"
     ]
    },
    {
     "name": "stdout",
     "output_type": "stream",
     "text": [
      "Found 108 bibliographic references in tmp_2404.12443/manuscript.bbl.\n",
      "syntax error in line 753: '}' expected\n",
      "Retrieving document from  https://arxiv.org/e-print/2404.12585\n"
     ]
    },
    {
     "name": "stdout",
     "output_type": "stream",
     "text": [
      "extracting tarball to tmp_2404.12585..."
     ]
    },
    {
     "name": "stdout",
     "output_type": "stream",
     "text": [
      " done.\n"
     ]
    },
    {
     "name": "stderr",
     "output_type": "stream",
     "text": [
      "/opt/hostedtoolcache/Python/3.9.19/x64/lib/python3.9/site-packages/arxiv_on_deck_2/latex.py:120: LatexWarning: attempting recovering figure Plots/FullPDF_PSOJ323+12\n",
      "  warnings.warn(LatexWarning(f'attempting recovering figure {image}'))\n",
      "/opt/hostedtoolcache/Python/3.9.19/x64/lib/python3.9/site-packages/arxiv_on_deck_2/latex.py:125: LatexWarning: Recovered figure Plots/FullPDF_PSOJ323+12 as tmp_2404.12585/./Plots/FullPDF_PSOJ323+12.pdf\n",
      "  warnings.warn(LatexWarning(f'Recovered figure {image} as {fname}'))\n"
     ]
    },
    {
     "name": "stderr",
     "output_type": "stream",
     "text": [
      "/opt/hostedtoolcache/Python/3.9.19/x64/lib/python3.9/site-packages/arxiv_on_deck_2/latex.py:120: LatexWarning: attempting recovering figure Plots/QSO_ReconProfilesIndividual_uncalibrated_ATLASJ025-33\n",
      "  warnings.warn(LatexWarning(f'attempting recovering figure {image}'))\n",
      "/opt/hostedtoolcache/Python/3.9.19/x64/lib/python3.9/site-packages/arxiv_on_deck_2/latex.py:125: LatexWarning: Recovered figure Plots/QSO_ReconProfilesIndividual_uncalibrated_ATLASJ025-33 as tmp_2404.12585/./Plots/QSO_ReconProfilesIndividual_uncalibrated_ATLASJ025-33.pdf\n",
      "  warnings.warn(LatexWarning(f'Recovered figure {image} as {fname}'))\n"
     ]
    },
    {
     "name": "stderr",
     "output_type": "stream",
     "text": [
      "/opt/hostedtoolcache/Python/3.9.19/x64/lib/python3.9/site-packages/arxiv_on_deck_2/latex.py:120: LatexWarning: attempting recovering figure Plots/Predictions_FluxRatio_Sample1_Greig\n",
      "  warnings.warn(LatexWarning(f'attempting recovering figure {image}'))\n",
      "/opt/hostedtoolcache/Python/3.9.19/x64/lib/python3.9/site-packages/arxiv_on_deck_2/latex.py:125: LatexWarning: Recovered figure Plots/Predictions_FluxRatio_Sample1_Greig as tmp_2404.12585/./Plots/Predictions_FluxRatio_Sample1_Greig.pdf\n",
      "  warnings.warn(LatexWarning(f'Recovered figure {image} as {fname}'))\n",
      "/opt/hostedtoolcache/Python/3.9.19/x64/lib/python3.9/site-packages/arxiv_on_deck_2/latex.py:120: LatexWarning: attempting recovering figure Plots/Predictions_FluxRatio_Sample2_Greig\n",
      "  warnings.warn(LatexWarning(f'attempting recovering figure {image}'))\n",
      "/opt/hostedtoolcache/Python/3.9.19/x64/lib/python3.9/site-packages/arxiv_on_deck_2/latex.py:125: LatexWarning: Recovered figure Plots/Predictions_FluxRatio_Sample2_Greig as tmp_2404.12585/./Plots/Predictions_FluxRatio_Sample2_Greig.pdf\n",
      "  warnings.warn(LatexWarning(f'Recovered figure {image} as {fname}'))\n"
     ]
    },
    {
     "name": "stderr",
     "output_type": "stream",
     "text": [
      "/opt/hostedtoolcache/Python/3.9.19/x64/lib/python3.9/site-packages/arxiv_on_deck_2/latex.py:120: LatexWarning: attempting recovering figure Plots/QSO_ReconProfilesIndividual_calibrated_ATLASJ025-33\n",
      "  warnings.warn(LatexWarning(f'attempting recovering figure {image}'))\n",
      "/opt/hostedtoolcache/Python/3.9.19/x64/lib/python3.9/site-packages/arxiv_on_deck_2/latex.py:125: LatexWarning: Recovered figure Plots/QSO_ReconProfilesIndividual_calibrated_ATLASJ025-33 as tmp_2404.12585/./Plots/QSO_ReconProfilesIndividual_calibrated_ATLASJ025-33.pdf\n",
      "  warnings.warn(LatexWarning(f'Recovered figure {image} as {fname}'))\n"
     ]
    },
    {
     "name": "stderr",
     "output_type": "stream",
     "text": [
      "/opt/hostedtoolcache/Python/3.9.19/x64/lib/python3.9/site-packages/arxiv_on_deck_2/latex.py:120: LatexWarning: attempting recovering figure Plots/QSO_ReconProfilesIndividual_inset_PSOJ029-29\n",
      "  warnings.warn(LatexWarning(f'attempting recovering figure {image}'))\n",
      "/opt/hostedtoolcache/Python/3.9.19/x64/lib/python3.9/site-packages/arxiv_on_deck_2/latex.py:125: LatexWarning: Recovered figure Plots/QSO_ReconProfilesIndividual_inset_PSOJ029-29 as tmp_2404.12585/./Plots/QSO_ReconProfilesIndividual_inset_PSOJ029-29.pdf\n",
      "  warnings.warn(LatexWarning(f'Recovered figure {image} as {fname}'))\n",
      "/opt/hostedtoolcache/Python/3.9.19/x64/lib/python3.9/site-packages/arxiv_on_deck_2/latex.py:120: LatexWarning: attempting recovering figure Plots/QSO_ReconProfilesIndividual_inset_ATLASJ029-36\n",
      "  warnings.warn(LatexWarning(f'attempting recovering figure {image}'))\n",
      "/opt/hostedtoolcache/Python/3.9.19/x64/lib/python3.9/site-packages/arxiv_on_deck_2/latex.py:125: LatexWarning: Recovered figure Plots/QSO_ReconProfilesIndividual_inset_ATLASJ029-36 as tmp_2404.12585/./Plots/QSO_ReconProfilesIndividual_inset_ATLASJ029-36.pdf\n",
      "  warnings.warn(LatexWarning(f'Recovered figure {image} as {fname}'))\n",
      "/opt/hostedtoolcache/Python/3.9.19/x64/lib/python3.9/site-packages/arxiv_on_deck_2/latex.py:120: LatexWarning: attempting recovering figure Plots/QSO_ReconProfilesIndividual_inset_VDESJ0224-47\n",
      "  warnings.warn(LatexWarning(f'attempting recovering figure {image}'))\n",
      "/opt/hostedtoolcache/Python/3.9.19/x64/lib/python3.9/site-packages/arxiv_on_deck_2/latex.py:125: LatexWarning: Recovered figure Plots/QSO_ReconProfilesIndividual_inset_VDESJ0224-47 as tmp_2404.12585/./Plots/QSO_ReconProfilesIndividual_inset_VDESJ0224-47.pdf\n",
      "  warnings.warn(LatexWarning(f'Recovered figure {image} as {fname}'))\n",
      "/opt/hostedtoolcache/Python/3.9.19/x64/lib/python3.9/site-packages/arxiv_on_deck_2/latex.py:120: LatexWarning: attempting recovering figure Plots/QSO_ReconProfilesIndividual_inset_PSOJ060+24\n",
      "  warnings.warn(LatexWarning(f'attempting recovering figure {image}'))\n",
      "/opt/hostedtoolcache/Python/3.9.19/x64/lib/python3.9/site-packages/arxiv_on_deck_2/latex.py:125: LatexWarning: Recovered figure Plots/QSO_ReconProfilesIndividual_inset_PSOJ060+24 as tmp_2404.12585/./Plots/QSO_ReconProfilesIndividual_inset_PSOJ060+24.pdf\n",
      "  warnings.warn(LatexWarning(f'Recovered figure {image} as {fname}'))\n",
      "/opt/hostedtoolcache/Python/3.9.19/x64/lib/python3.9/site-packages/arxiv_on_deck_2/latex.py:120: LatexWarning: attempting recovering figure Plots/QSO_ReconProfilesIndividual_inset_J0408-5632\n",
      "  warnings.warn(LatexWarning(f'attempting recovering figure {image}'))\n",
      "/opt/hostedtoolcache/Python/3.9.19/x64/lib/python3.9/site-packages/arxiv_on_deck_2/latex.py:125: LatexWarning: Recovered figure Plots/QSO_ReconProfilesIndividual_inset_J0408-5632 as tmp_2404.12585/./Plots/QSO_ReconProfilesIndividual_inset_J0408-5632.pdf\n",
      "  warnings.warn(LatexWarning(f'Recovered figure {image} as {fname}'))\n",
      "/opt/hostedtoolcache/Python/3.9.19/x64/lib/python3.9/site-packages/arxiv_on_deck_2/latex.py:120: LatexWarning: attempting recovering figure Plots/QSO_ReconProfilesIndividual_inset_PSOJ108+08\n",
      "  warnings.warn(LatexWarning(f'attempting recovering figure {image}'))\n",
      "/opt/hostedtoolcache/Python/3.9.19/x64/lib/python3.9/site-packages/arxiv_on_deck_2/latex.py:125: LatexWarning: Recovered figure Plots/QSO_ReconProfilesIndividual_inset_PSOJ108+08 as tmp_2404.12585/./Plots/QSO_ReconProfilesIndividual_inset_PSOJ108+08.pdf\n",
      "  warnings.warn(LatexWarning(f'Recovered figure {image} as {fname}'))\n",
      "/opt/hostedtoolcache/Python/3.9.19/x64/lib/python3.9/site-packages/arxiv_on_deck_2/latex.py:120: LatexWarning: attempting recovering figure Plots/QSO_ReconProfilesIndividual_inset_SDSSJ0842+1218\n",
      "  warnings.warn(LatexWarning(f'attempting recovering figure {image}'))\n",
      "/opt/hostedtoolcache/Python/3.9.19/x64/lib/python3.9/site-packages/arxiv_on_deck_2/latex.py:125: LatexWarning: Recovered figure Plots/QSO_ReconProfilesIndividual_inset_SDSSJ0842+1218 as tmp_2404.12585/./Plots/QSO_ReconProfilesIndividual_inset_SDSSJ0842+1218.pdf\n",
      "  warnings.warn(LatexWarning(f'Recovered figure {image} as {fname}'))\n",
      "/opt/hostedtoolcache/Python/3.9.19/x64/lib/python3.9/site-packages/arxiv_on_deck_2/latex.py:120: LatexWarning: attempting recovering figure Plots/QSO_ReconProfilesIndividual_inset_PSOJ158-14\n",
      "  warnings.warn(LatexWarning(f'attempting recovering figure {image}'))\n",
      "/opt/hostedtoolcache/Python/3.9.19/x64/lib/python3.9/site-packages/arxiv_on_deck_2/latex.py:125: LatexWarning: Recovered figure Plots/QSO_ReconProfilesIndividual_inset_PSOJ158-14 as tmp_2404.12585/./Plots/QSO_ReconProfilesIndividual_inset_PSOJ158-14.pdf\n",
      "  warnings.warn(LatexWarning(f'Recovered figure {image} as {fname}'))\n"
     ]
    },
    {
     "name": "stderr",
     "output_type": "stream",
     "text": [
      "/opt/hostedtoolcache/Python/3.9.19/x64/lib/python3.9/site-packages/arxiv_on_deck_2/latex.py:120: LatexWarning: attempting recovering figure Plots/QSO_ReconProfilesIndividual_inset_PSOJ217-16\n",
      "  warnings.warn(LatexWarning(f'attempting recovering figure {image}'))\n",
      "/opt/hostedtoolcache/Python/3.9.19/x64/lib/python3.9/site-packages/arxiv_on_deck_2/latex.py:125: LatexWarning: Recovered figure Plots/QSO_ReconProfilesIndividual_inset_PSOJ217-16 as tmp_2404.12585/./Plots/QSO_ReconProfilesIndividual_inset_PSOJ217-16.pdf\n",
      "  warnings.warn(LatexWarning(f'Recovered figure {image} as {fname}'))\n",
      "/opt/hostedtoolcache/Python/3.9.19/x64/lib/python3.9/site-packages/arxiv_on_deck_2/latex.py:120: LatexWarning: attempting recovering figure Plots/QSO_ReconProfilesIndividual_inset_PSOJ231-20\n",
      "  warnings.warn(LatexWarning(f'attempting recovering figure {image}'))\n",
      "/opt/hostedtoolcache/Python/3.9.19/x64/lib/python3.9/site-packages/arxiv_on_deck_2/latex.py:125: LatexWarning: Recovered figure Plots/QSO_ReconProfilesIndividual_inset_PSOJ231-20 as tmp_2404.12585/./Plots/QSO_ReconProfilesIndividual_inset_PSOJ231-20.pdf\n",
      "  warnings.warn(LatexWarning(f'Recovered figure {image} as {fname}'))\n",
      "/opt/hostedtoolcache/Python/3.9.19/x64/lib/python3.9/site-packages/arxiv_on_deck_2/latex.py:120: LatexWarning: attempting recovering figure Plots/QSO_ReconProfilesIndividual_inset_PSOJ242-12\n",
      "  warnings.warn(LatexWarning(f'attempting recovering figure {image}'))\n",
      "/opt/hostedtoolcache/Python/3.9.19/x64/lib/python3.9/site-packages/arxiv_on_deck_2/latex.py:125: LatexWarning: Recovered figure Plots/QSO_ReconProfilesIndividual_inset_PSOJ242-12 as tmp_2404.12585/./Plots/QSO_ReconProfilesIndividual_inset_PSOJ242-12.pdf\n",
      "  warnings.warn(LatexWarning(f'Recovered figure {image} as {fname}'))\n",
      "/opt/hostedtoolcache/Python/3.9.19/x64/lib/python3.9/site-packages/arxiv_on_deck_2/latex.py:120: LatexWarning: attempting recovering figure Plots/QSO_ReconProfilesIndividual_inset_PSOJ308-27\n",
      "  warnings.warn(LatexWarning(f'attempting recovering figure {image}'))\n",
      "/opt/hostedtoolcache/Python/3.9.19/x64/lib/python3.9/site-packages/arxiv_on_deck_2/latex.py:125: LatexWarning: Recovered figure Plots/QSO_ReconProfilesIndividual_inset_PSOJ308-27 as tmp_2404.12585/./Plots/QSO_ReconProfilesIndividual_inset_PSOJ308-27.pdf\n",
      "  warnings.warn(LatexWarning(f'Recovered figure {image} as {fname}'))\n",
      "/opt/hostedtoolcache/Python/3.9.19/x64/lib/python3.9/site-packages/arxiv_on_deck_2/latex.py:120: LatexWarning: attempting recovering figure Plots/QSO_ReconProfilesIndividual_inset_PSOJ323+12\n",
      "  warnings.warn(LatexWarning(f'attempting recovering figure {image}'))\n",
      "/opt/hostedtoolcache/Python/3.9.19/x64/lib/python3.9/site-packages/arxiv_on_deck_2/latex.py:125: LatexWarning: Recovered figure Plots/QSO_ReconProfilesIndividual_inset_PSOJ323+12 as tmp_2404.12585/./Plots/QSO_ReconProfilesIndividual_inset_PSOJ323+12.pdf\n",
      "  warnings.warn(LatexWarning(f'Recovered figure {image} as {fname}'))\n",
      "/opt/hostedtoolcache/Python/3.9.19/x64/lib/python3.9/site-packages/arxiv_on_deck_2/latex.py:120: LatexWarning: attempting recovering figure Plots/QSO_ReconProfilesIndividual_inset_PSOJ359-06\n",
      "  warnings.warn(LatexWarning(f'attempting recovering figure {image}'))\n",
      "/opt/hostedtoolcache/Python/3.9.19/x64/lib/python3.9/site-packages/arxiv_on_deck_2/latex.py:125: LatexWarning: Recovered figure Plots/QSO_ReconProfilesIndividual_inset_PSOJ359-06 as tmp_2404.12585/./Plots/QSO_ReconProfilesIndividual_inset_PSOJ359-06.pdf\n",
      "  warnings.warn(LatexWarning(f'Recovered figure {image} as {fname}'))\n",
      "/opt/hostedtoolcache/Python/3.9.19/x64/lib/python3.9/site-packages/arxiv_on_deck_2/latex.py:120: LatexWarning: attempting recovering figure Plots/QSO_ReconProfilesIndividual_inset_J0100+2802\n",
      "  warnings.warn(LatexWarning(f'attempting recovering figure {image}'))\n",
      "/opt/hostedtoolcache/Python/3.9.19/x64/lib/python3.9/site-packages/arxiv_on_deck_2/latex.py:125: LatexWarning: Recovered figure Plots/QSO_ReconProfilesIndividual_inset_J0100+2802 as tmp_2404.12585/./Plots/QSO_ReconProfilesIndividual_inset_J0100+2802.pdf\n",
      "  warnings.warn(LatexWarning(f'Recovered figure {image} as {fname}'))\n",
      "/opt/hostedtoolcache/Python/3.9.19/x64/lib/python3.9/site-packages/arxiv_on_deck_2/latex.py:120: LatexWarning: attempting recovering figure Plots/QSO_ReconProfilesIndividual_inset_ATLASJ025-33\n",
      "  warnings.warn(LatexWarning(f'attempting recovering figure {image}'))\n",
      "/opt/hostedtoolcache/Python/3.9.19/x64/lib/python3.9/site-packages/arxiv_on_deck_2/latex.py:125: LatexWarning: Recovered figure Plots/QSO_ReconProfilesIndividual_inset_ATLASJ025-33 as tmp_2404.12585/./Plots/QSO_ReconProfilesIndividual_inset_ATLASJ025-33.pdf\n",
      "  warnings.warn(LatexWarning(f'Recovered figure {image} as {fname}'))\n"
     ]
    },
    {
     "name": "stderr",
     "output_type": "stream",
     "text": [
      "/opt/hostedtoolcache/Python/3.9.19/x64/lib/python3.9/site-packages/arxiv_on_deck_2/latex.py:120: LatexWarning: attempting recovering figure Plots/QSO_ReconProfilesIndividual_inset_J0148+0600\n",
      "  warnings.warn(LatexWarning(f'attempting recovering figure {image}'))\n",
      "/opt/hostedtoolcache/Python/3.9.19/x64/lib/python3.9/site-packages/arxiv_on_deck_2/latex.py:125: LatexWarning: Recovered figure Plots/QSO_ReconProfilesIndividual_inset_J0148+0600 as tmp_2404.12585/./Plots/QSO_ReconProfilesIndividual_inset_J0148+0600.pdf\n",
      "  warnings.warn(LatexWarning(f'Recovered figure {image} as {fname}'))\n",
      "/opt/hostedtoolcache/Python/3.9.19/x64/lib/python3.9/site-packages/arxiv_on_deck_2/latex.py:120: LatexWarning: attempting recovering figure Plots/QSO_ReconProfilesIndividual_inset_PSOJ036+03\n",
      "  warnings.warn(LatexWarning(f'attempting recovering figure {image}'))\n",
      "/opt/hostedtoolcache/Python/3.9.19/x64/lib/python3.9/site-packages/arxiv_on_deck_2/latex.py:125: LatexWarning: Recovered figure Plots/QSO_ReconProfilesIndividual_inset_PSOJ036+03 as tmp_2404.12585/./Plots/QSO_ReconProfilesIndividual_inset_PSOJ036+03.pdf\n",
      "  warnings.warn(LatexWarning(f'Recovered figure {image} as {fname}'))\n",
      "/opt/hostedtoolcache/Python/3.9.19/x64/lib/python3.9/site-packages/arxiv_on_deck_2/latex.py:120: LatexWarning: attempting recovering figure Plots/QSO_ReconProfilesIndividual_inset_J0836+0054\n",
      "  warnings.warn(LatexWarning(f'attempting recovering figure {image}'))\n",
      "/opt/hostedtoolcache/Python/3.9.19/x64/lib/python3.9/site-packages/arxiv_on_deck_2/latex.py:125: LatexWarning: Recovered figure Plots/QSO_ReconProfilesIndividual_inset_J0836+0054 as tmp_2404.12585/./Plots/QSO_ReconProfilesIndividual_inset_J0836+0054.pdf\n",
      "  warnings.warn(LatexWarning(f'Recovered figure {image} as {fname}'))\n",
      "/opt/hostedtoolcache/Python/3.9.19/x64/lib/python3.9/site-packages/arxiv_on_deck_2/latex.py:120: LatexWarning: attempting recovering figure Plots/QSO_ReconProfilesIndividual_inset_J0927+2001\n",
      "  warnings.warn(LatexWarning(f'attempting recovering figure {image}'))\n",
      "/opt/hostedtoolcache/Python/3.9.19/x64/lib/python3.9/site-packages/arxiv_on_deck_2/latex.py:125: LatexWarning: Recovered figure Plots/QSO_ReconProfilesIndividual_inset_J0927+2001 as tmp_2404.12585/./Plots/QSO_ReconProfilesIndividual_inset_J0927+2001.pdf\n",
      "  warnings.warn(LatexWarning(f'Recovered figure {image} as {fname}'))\n",
      "/opt/hostedtoolcache/Python/3.9.19/x64/lib/python3.9/site-packages/arxiv_on_deck_2/latex.py:120: LatexWarning: attempting recovering figure Plots/QSO_ReconProfilesIndividual_inset_J1030+0524\n",
      "  warnings.warn(LatexWarning(f'attempting recovering figure {image}'))\n",
      "/opt/hostedtoolcache/Python/3.9.19/x64/lib/python3.9/site-packages/arxiv_on_deck_2/latex.py:125: LatexWarning: Recovered figure Plots/QSO_ReconProfilesIndividual_inset_J1030+0524 as tmp_2404.12585/./Plots/QSO_ReconProfilesIndividual_inset_J1030+0524.pdf\n",
      "  warnings.warn(LatexWarning(f'Recovered figure {image} as {fname}'))\n",
      "/opt/hostedtoolcache/Python/3.9.19/x64/lib/python3.9/site-packages/arxiv_on_deck_2/latex.py:120: LatexWarning: attempting recovering figure Plots/QSO_ReconProfilesIndividual_inset_J1306+0356\n",
      "  warnings.warn(LatexWarning(f'attempting recovering figure {image}'))\n",
      "/opt/hostedtoolcache/Python/3.9.19/x64/lib/python3.9/site-packages/arxiv_on_deck_2/latex.py:125: LatexWarning: Recovered figure Plots/QSO_ReconProfilesIndividual_inset_J1306+0356 as tmp_2404.12585/./Plots/QSO_ReconProfilesIndividual_inset_J1306+0356.pdf\n",
      "  warnings.warn(LatexWarning(f'Recovered figure {image} as {fname}'))\n",
      "/opt/hostedtoolcache/Python/3.9.19/x64/lib/python3.9/site-packages/arxiv_on_deck_2/latex.py:120: LatexWarning: attempting recovering figure Plots/QSO_ReconProfilesIndividual_inset_J1509-1749\n",
      "  warnings.warn(LatexWarning(f'attempting recovering figure {image}'))\n",
      "/opt/hostedtoolcache/Python/3.9.19/x64/lib/python3.9/site-packages/arxiv_on_deck_2/latex.py:125: LatexWarning: Recovered figure Plots/QSO_ReconProfilesIndividual_inset_J1509-1749 as tmp_2404.12585/./Plots/QSO_ReconProfilesIndividual_inset_J1509-1749.pdf\n",
      "  warnings.warn(LatexWarning(f'Recovered figure {image} as {fname}'))\n"
     ]
    },
    {
     "name": "stderr",
     "output_type": "stream",
     "text": [
      "/opt/hostedtoolcache/Python/3.9.19/x64/lib/python3.9/site-packages/arxiv_on_deck_2/latex.py:120: LatexWarning: attempting recovering figure Plots/PDFs_per_bin\n",
      "  warnings.warn(LatexWarning(f'attempting recovering figure {image}'))\n",
      "/opt/hostedtoolcache/Python/3.9.19/x64/lib/python3.9/site-packages/arxiv_on_deck_2/latex.py:125: LatexWarning: Recovered figure Plots/PDFs_per_bin as tmp_2404.12585/./Plots/PDFs_per_bin.pdf\n",
      "  warnings.warn(LatexWarning(f'Recovered figure {image} as {fname}'))\n"
     ]
    },
    {
     "name": "stderr",
     "output_type": "stream",
     "text": [
      "/opt/hostedtoolcache/Python/3.9.19/x64/lib/python3.9/site-packages/arxiv_on_deck_2/latex.py:120: LatexWarning: attempting recovering figure Plots/ReionisationHistory-Individual\n",
      "  warnings.warn(LatexWarning(f'attempting recovering figure {image}'))\n",
      "/opt/hostedtoolcache/Python/3.9.19/x64/lib/python3.9/site-packages/arxiv_on_deck_2/latex.py:125: LatexWarning: Recovered figure Plots/ReionisationHistory-Individual as tmp_2404.12585/./Plots/ReionisationHistory-Individual.pdf\n",
      "  warnings.warn(LatexWarning(f'Recovered figure {image} as {fname}'))\n",
      "/opt/hostedtoolcache/Python/3.9.19/x64/lib/python3.9/site-packages/arxiv_on_deck_2/latex.py:120: LatexWarning: attempting recovering figure Plots/ReionisationHistory-violin\n",
      "  warnings.warn(LatexWarning(f'attempting recovering figure {image}'))\n",
      "/opt/hostedtoolcache/Python/3.9.19/x64/lib/python3.9/site-packages/arxiv_on_deck_2/latex.py:125: LatexWarning: Recovered figure Plots/ReionisationHistory-violin as tmp_2404.12585/./Plots/ReionisationHistory-violin.pdf\n",
      "  warnings.warn(LatexWarning(f'Recovered figure {image} as {fname}'))\n"
     ]
    },
    {
     "name": "stderr",
     "output_type": "stream",
     "text": [
      "/opt/hostedtoolcache/Python/3.9.19/x64/lib/python3.9/site-packages/arxiv_on_deck_2/latex.py:120: LatexWarning: attempting recovering figure Plots/ReionisationHistories-Binned\n",
      "  warnings.warn(LatexWarning(f'attempting recovering figure {image}'))\n",
      "/opt/hostedtoolcache/Python/3.9.19/x64/lib/python3.9/site-packages/arxiv_on_deck_2/latex.py:125: LatexWarning: Recovered figure Plots/ReionisationHistories-Binned as tmp_2404.12585/./Plots/ReionisationHistories-Binned.pdf\n",
      "  warnings.warn(LatexWarning(f'Recovered figure {image} as {fname}'))\n"
     ]
    },
    {
     "name": "stderr",
     "output_type": "stream",
     "text": [
      "/opt/hostedtoolcache/Python/3.9.19/x64/lib/python3.9/site-packages/arxiv_on_deck_2/latex.py:120: LatexWarning: attempting recovering figure Plots/CorrCoeff_and_Matrix_NoContLog_normalised\n",
      "  warnings.warn(LatexWarning(f'attempting recovering figure {image}'))\n",
      "/opt/hostedtoolcache/Python/3.9.19/x64/lib/python3.9/site-packages/arxiv_on_deck_2/latex.py:125: LatexWarning: Recovered figure Plots/CorrCoeff_and_Matrix_NoContLog_normalised as tmp_2404.12585/./Plots/CorrCoeff_and_Matrix_NoContLog_normalised.pdf\n",
      "  warnings.warn(LatexWarning(f'Recovered figure {image} as {fname}'))\n"
     ]
    },
    {
     "name": "stdout",
     "output_type": "stream",
     "text": [
      "Found 93 bibliographic references in tmp_2404.12585/PaperDraft.bbl.\n",
      "Retrieving document from  https://arxiv.org/e-print/2404.12911\n"
     ]
    },
    {
     "name": "stdout",
     "output_type": "stream",
     "text": [
      "extracting tarball to tmp_2404.12911..."
     ]
    },
    {
     "name": "stdout",
     "output_type": "stream",
     "text": [
      " done.\n",
      "Retrieving document from  https://arxiv.org/e-print/2404.13031\n"
     ]
    },
    {
     "name": "stdout",
     "output_type": "stream",
     "text": [
      "extracting tarball to tmp_2404.13031... done.\n"
     ]
    },
    {
     "name": "stderr",
     "output_type": "stream",
     "text": [
      "/opt/hostedtoolcache/Python/3.9.19/x64/lib/python3.9/site-packages/IPython/core/interactiveshell.py:3550: LatexWarning: Multiple tex files.\n",
      "\n",
      "  exec(code_obj, self.user_global_ns, self.user_ns)\n",
      "/opt/hostedtoolcache/Python/3.9.19/x64/lib/python3.9/site-packages/IPython/core/interactiveshell.py:3550: LatexWarning: Found documentclass in tmp_2404.13031/main.tex\n",
      "\n",
      "  exec(code_obj, self.user_global_ns, self.user_ns)\n",
      "/opt/hostedtoolcache/Python/3.9.19/x64/lib/python3.9/site-packages/arxiv_on_deck_2/latex.py:399: LatexWarning: Latex injecting: 'affi.tex' from 'tmp_2404.13031/affi.tex'\n",
      "  warnings.warn(LatexWarning(f\"Latex injecting: '{ext}' from '{subsource}'\"))\n",
      "/opt/hostedtoolcache/Python/3.9.19/x64/lib/python3.9/site-packages/arxiv_on_deck_2/latex.py:399: LatexWarning: Latex injecting: 'author' from 'tmp_2404.13031/author.tex'\n",
      "  warnings.warn(LatexWarning(f\"Latex injecting: '{ext}' from '{subsource}'\"))\n"
     ]
    },
    {
     "name": "stdout",
     "output_type": "stream",
     "text": [
      "Found 76 bibliographic references in tmp_2404.13031/main.bbl.\n",
      "Retrieving document from  https://arxiv.org/e-print/2404.13047\n"
     ]
    },
    {
     "name": "stdout",
     "output_type": "stream",
     "text": [
      "extracting tarball to tmp_2404.13047... done.\n"
     ]
    }
   ],
   "source": [
    "documents = []\n",
    "failed = []\n",
    "for paper in tqdm(candidates):\n",
    "    paper_id = paper['identifier'].lower().replace('arxiv:', '')\n",
    "    \n",
    "    folder = f'tmp_{paper_id}'\n",
    "\n",
    "    try:\n",
    "        if not os.path.isdir(folder):\n",
    "            folder = retrieve_document_source(f\"{paper_id}\", f'tmp_{paper_id}')\n",
    "        \n",
    "        try:\n",
    "            doc = latex.LatexDocument(folder, validation=validation)    \n",
    "        except AffiliationError as affilerror:\n",
    "            msg = f\"ArXiv:{paper_id:s} is not an MPIA paper... \" + str(affilerror)\n",
    "            failed.append((paper, \"affiliation error: \" + str(affilerror) ))\n",
    "            continue\n",
    "        \n",
    "        # Hack because sometimes author parsing does not work well\n",
    "        if (len(doc.authors) != len(paper['authors'])):\n",
    "            doc._authors = paper['authors']\n",
    "        else:\n",
    "            # highlight authors (FIXME: doc.highlight_authors)\n",
    "            # done on arxiv paper already\n",
    "            doc._authors = highlight_authors_in_list(\n",
    "                [mpia.get_initials(k) for k in doc.authors], \n",
    "                normed_mpia_authors, verbose=True)\n",
    "        if (doc.abstract) in (None, ''):\n",
    "            doc._abstract = paper['abstract']\n",
    "            \n",
    "        doc.comment = (get_markdown_badge(paper_id) + \n",
    "                       \"<mark>Appeared on: \" + paper['date'] + \"</mark> - \")\n",
    "        if paper['comments']:\n",
    "            doc.comment += \" _\" + paper['comments'] + \"_\"\n",
    "        \n",
    "        full_md = doc.generate_markdown_text()\n",
    "        \n",
    "        full_md += get_markdown_qrcode(paper_id)\n",
    "        \n",
    "        # replace citations\n",
    "        try:\n",
    "            bibdata = latex_bib.LatexBib.from_doc(doc)\n",
    "            full_md = latex_bib.replace_citations(full_md, bibdata)\n",
    "        except Exception as e:\n",
    "            print(e)\n",
    "        \n",
    "        documents.append((paper_id, full_md))\n",
    "    except Exception as e:\n",
    "        warnings.warn(latex.LatexWarning(f\"{paper_id:s} did not run properly\\n\" +\n",
    "                                         str(e)\n",
    "                                        ))\n",
    "        failed.append((paper, \"latex error \" + str(e)))"
   ]
  },
  {
   "cell_type": "markdown",
   "id": "2505a25c",
   "metadata": {
    "papermill": {
     "duration": 0.00443,
     "end_time": "2024-04-22T04:12:09.551377",
     "exception": false,
     "start_time": "2024-04-22T04:12:09.546947",
     "status": "completed"
    },
    "tags": []
   },
   "source": [
    "### Export the logs\n",
    "\n",
    "Throughout, we also keep track of the logs per paper. see `logs-{today date}.md` "
   ]
  },
  {
   "cell_type": "code",
   "execution_count": 5,
   "id": "d733828a",
   "metadata": {
    "execution": {
     "iopub.execute_input": "2024-04-22T04:12:09.561680Z",
     "iopub.status.busy": "2024-04-22T04:12:09.561284Z",
     "iopub.status.idle": "2024-04-22T04:12:09.578173Z",
     "shell.execute_reply": "2024-04-22T04:12:09.577606Z"
    },
    "papermill": {
     "duration": 0.02367,
     "end_time": "2024-04-22T04:12:09.579473",
     "exception": false,
     "start_time": "2024-04-22T04:12:09.555803",
     "status": "completed"
    },
    "scrolled": false,
    "tags": []
   },
   "outputs": [
    {
     "data": {
      "text/markdown": [
       "## Successful papers"
      ],
      "text/plain": [
       "<IPython.core.display.Markdown object>"
      ]
     },
     "metadata": {},
     "output_type": "display_data"
    },
    {
     "data": {
      "text/markdown": [
       "\n",
       "|||\n",
       "|---:|:---|\n",
       "| [![arXiv](https://img.shields.io/badge/arXiv-arXiv:2404.12432-b31b1b.svg)](https://arxiv.org/abs/arXiv:2404.12432) | **The JWST-SUSPENSE Ultradeep Spectroscopic Program: Survey Overview and  Star-Formation Histories of Quiescent Galaxies at 1 < z < 3**  |\n",
       "|| M. Slob, et al. -- incl., <mark>A. d. Graaff</mark> |\n",
       "|*Appeared on*| *2024-04-22*|\n",
       "|*Comments*| *Submitted to ApJ; 24 pages, 13 figures, 2 tables (excluding appendices)*|\n",
       "|**Abstract**| We present an overview and first results from the Spectroscopic Ultradeep Survey Probing Extragalactic Near-infrared Stellar Emission (SUSPENSE), executed with NIRSpec on JWST. The primary goal of the SUSPENSE program is to characterize the stellar, chemical, and kinematic properties of massive quiescent galaxies at cosmic noon. In a single deep NIRSpec/MSA configuration, we target 20 distant quiescent galaxy candidates ($z=1-3$, $H_{AB}<23$), as well as 53 star-forming galaxies at $z=1-4$. With 16hr of integration and the G140M-F100LP dispersion-filter combination, we observe numerous Balmer and metal absorption lines for all quiescent candidates. We derive stellar masses (log$M_*/M_{\\odot}\\sim10.3-11.5$) and detailed star-formation histories (SFHs) and show that all 20 candidate quiescent galaxies indeed have quenched stellar populations. These galaxies show a variety of mass-weighted ages ($0.8-3.0$Gyr) and star formation timescales ($\\sim0.5-4$Gyr), and four out of 20 galaxies were already quiescent by $z=3$. On average, the $z>1.75$ $[z<1.75]$ galaxies formed 50% of their stellar mass before $z=4$ $[z=3]$. Furthermore, the typical SFHs of galaxies in these two redshift bins ($z_{\\text{mean}}=2.2$ and $z_{\\text{mean}}=1.3$) indicate that galaxies at higher redshift formed earlier and over shorter star-formation timescales compared to lower redshifts. Although this evolution is naturally explained by the growth of the quiescent galaxy population over cosmic time, we cannot rule out that mergers and late-time star formation also contribute to the evolution. In future work, we will further unravel the early formation, quenching, and late-time evolution of these galaxies by extending this work with studies on their chemical abundances, |"
      ],
      "text/plain": [
       "[arXiv:2404.12432] The JWST-SUSPENSE Ultradeep Spectroscopic Program: Survey Overview and  Star-Formation Histories of Quiescent Galaxies at 1 < z < 3\n",
       "\tM. Slob, et al. -- incl., <mark>A. d. Graaff</mark>"
      ]
     },
     "metadata": {},
     "output_type": "display_data"
    },
    {
     "data": {
      "text/markdown": [
       "\n",
       "|||\n",
       "|---:|:---|\n",
       "| [![arXiv](https://img.shields.io/badge/arXiv-arXiv:2404.12443-b31b1b.svg)](https://arxiv.org/abs/arXiv:2404.12443) | **Multi-phase black-hole feedback and a bright [CII] halo in a Lo-BAL  quasar at $z\\sim6.6$**  |\n",
       "|| M. Bischetti, et al. -- incl., <mark>E. Bañados</mark>, <mark>F. Walter</mark> |\n",
       "|*Appeared on*| *2024-04-22*|\n",
       "|*Comments*| *Submitted to ApJ*|\n",
       "|**Abstract**| Although the mass growth of supermassive black holes during the Epoch of Reionisation is expected to play a role in shaping the concurrent growth of their host-galaxies, observational evidence of feedback at z$\\gtrsim$6 is still sparse. We perform the first multi-scale and multi-phase characterisation of black-hole driven outflows in the $z\\sim6.6$ quasar J0923+0402 and assess how these winds impact the cold gas reservoir. We employ the SimBAL spectral synthesis to fit broad absorption line (BAL) features and find a powerful ionized outflow on $\\lesssim210$ pc scale, with a kinetic power $\\sim2-100$\\% of the quasar luminosity. ALMA observations of [CII] emission allow us to study the morphology and kinematics of the cold gas. We detect high-velocity [CII] emission, likely associated with a cold neutral outflow at $\\sim0.5-2$ kpc scale in the host-galaxy, and a bright extended [CII] halo with a size of $\\sim15$ kpc. For the first time at such an early epoch, we accurately constrain the outflow energetics in both the ionized and the atomic neutral gas phases. We find such energetics to be consistent with expectations for an efficient feedback mechanism, and both ejective and preventative feedback modes are likely at play. The scales and energetics of the ionized and atomic outflows suggest that they might be associated with different quasar accretion episodes. The results of this work indicate that strong black hole feedback is occurring in quasars at $z\\gtrsim6$ and is likely responsible for shaping the properties of the cold gas reservoir up to circum-galactic scales. |"
      ],
      "text/plain": [
       "[arXiv:2404.12443] Multi-phase black-hole feedback and a bright [CII] halo in a Lo-BAL  quasar at $z\\sim6.6$\n",
       "\tM. Bischetti, et al. -- incl., <mark>E. Bañados</mark>, <mark>F. Walter</mark>"
      ]
     },
     "metadata": {},
     "output_type": "display_data"
    },
    {
     "data": {
      "text/markdown": [
       "\n",
       "|||\n",
       "|---:|:---|\n",
       "| [![arXiv](https://img.shields.io/badge/arXiv-arXiv:2404.12585-b31b1b.svg)](https://arxiv.org/abs/arXiv:2404.12585) | **IGM damping wing constraints on the tail end of reionisation from the  enlarged XQR-30 sample**  |\n",
       "|| B. Greig, et al. -- incl., <mark>E. Bañados</mark> |\n",
       "|*Appeared on*| *2024-04-22*|\n",
       "|*Comments*| *21 pages, 9 figures and 2 tables. Accepted for publication in MNRAS*|\n",
       "|**Abstract**| The attenuation of Ly$\\alpha$ photons by neutral hydrogen in the intergalactic medium (IGM) at $z\\gtrsim5$ continues to be a powerful probe for studying the epoch of reionisation. Given a framework to estimate the intrinsic (true) Ly$\\alpha$ emission of high-$z$ sources, one can infer the ionisation state of the IGM during reionisation. In this work, we use the enlarged XQR-30 sample of 42 high-resolution and high-SNR QSO spectra between $5.8\\lesssim\\,z\\lesssim\\,6.6$ obtained with VLT/X-Shooter to place constraints on the IGM neutral fraction. This is achieved using our existing Bayesian QSO reconstruction framework which accounts for uncertainties such as the: (i) posterior distribution of predicted intrinsic Ly$\\alpha$ emission profiles (obtained via covariance matrix reconstruction of the Ly$\\alpha$ and N V emission lines from unattenuated high-ionisation emission line profiles; C IV, Si IV + O IV] and C III]) and (ii) distribution of ionised regions within the IGM using synthetic damping wing profiles drawn from a $1.6^3$ Gpc$^3$ reionisation simulation. Following careful quality control, we used 23 of the 42 available QSOs to obtain constraints/limits on the IGM neutral fraction during the tail-end of reionisation. Our median and 68th percentile constraints on the IGM neutral fraction are: $0.20\\substack{+0.14\\\\-0.12}$ and $0.29\\substack{+0.14\\\\-0.13}$ at $z = 6.15$~and 6.35. Further, we also report 68th percentile upper-limits of $\\bar{x}_{\\mathrm{H\\,{\\scriptscriptstyle I}}} < 0.21$, 0.20, 0.21 and 0.18 at $z = 5.8, 5.95, 6.05$~and 6.55. These results imply reionisation is still ongoing at $5.8\\lesssim\\,z\\lesssim\\,6.55$, consistent with previous results from XQR-30 (dark fraction and Ly$\\alpha$ forest) along with other observational probes considered in the literature. |"
      ],
      "text/plain": [
       "[arXiv:2404.12585] IGM damping wing constraints on the tail end of reionisation from the  enlarged XQR-30 sample\n",
       "\tB. Greig, et al. -- incl., <mark>E. Bañados</mark>"
      ]
     },
     "metadata": {},
     "output_type": "display_data"
    },
    {
     "data": {
      "text/markdown": [
       "\n",
       "|||\n",
       "|---:|:---|\n",
       "| [![arXiv](https://img.shields.io/badge/arXiv-arXiv:2404.13031-b31b1b.svg)](https://arxiv.org/abs/arXiv:2404.13031) | **OGLE-2015-BLG-0845L: A low-mass M dwarf from the microlensing parallax  and xallarap effects**  |\n",
       "|| Z. Hu, et al. -- incl., <mark>A. Gould</mark> |\n",
       "|*Appeared on*| *2024-04-22*|\n",
       "|*Comments*| *13 pages, 10 figures. Submitted to Monthly Notices of the Royal Astronomical Society*|\n",
       "|**Abstract**| We present the analysis of the microlensing event OGLE-2015-BLG-0845, which was affected by both the microlensing parallax and xallarap effects. The former was detected via the simultaneous observations from the ground and Spitzer, and the latter was caused by the orbital motion of the source star in a relatively close binary. The combination of these two effects led to a direct mass measurement of the lens object, revealing a low-mass ($0.14 \\pm 0.05 M_{\\odot}$) M-dwarf at the bulge distance ($7.6 \\pm 1.0$ kpc). The source binary consists of a late F-type subgiant and a K-type dwarf of $\\sim1.2 M_{\\odot}$ and $\\sim 0.9 M_{\\odot}$, respectively, and the orbital period is $70 \\pm 10$ days. OGLE-2015-BLG-0845 is the first single-lens event in which the lens mass is measured via the binarity of the source. Given the abundance of binary systems as potential microlensing sources, the xallarap effect may not be a rare phenomenon. Our work thus highlights the application of the xallarap effect in the mass determination of microlenses, and the same method can be used to identify isolated dark lenses. |"
      ],
      "text/plain": [
       "[arXiv:2404.13031] OGLE-2015-BLG-0845L: A low-mass M dwarf from the microlensing parallax  and xallarap effects\n",
       "\tZ. Hu, et al. -- incl., <mark>A. Gould</mark>"
      ]
     },
     "metadata": {},
     "output_type": "display_data"
    },
    {
     "data": {
      "text/markdown": [
       "## Failed papers"
      ],
      "text/plain": [
       "<IPython.core.display.Markdown object>"
      ]
     },
     "metadata": {},
     "output_type": "display_data"
    },
    {
     "data": {
      "text/markdown": [
       "\n",
       "|||\n",
       "|---:|:---|\n",
       "| [![arXiv](https://img.shields.io/badge/arXiv-arXiv:2404.12911-b31b1b.svg)](https://arxiv.org/abs/arXiv:2404.12911) | **SDSS J222428.53+261423.2: unique emission lines properties unveil a  sub-kiloparsec dual AGN candidate**  |\n",
       "|| Q. Zheng, et al. -- incl., <mark>X. Zhang</mark> |\n",
       "|*Appeared on*| *2024-04-22*|\n",
       "|*Comments*| *9 pages, 5 figures, accepted to be published in MNRAS Letter*|\n",
       "|**Abstract**| In this paper, we presented a detailed analysis of the Sloan Digital Sky Survey optical spectrum of a new sub-kpc scale dual AGN candidate SDSS J222428.53+261423.2 (=SDSS J2224). The target is one of the few AGNs with all the optical narrow emission lines characterized by double-peaked profiles and with peak separations in velocity units of about 930 km/s. If the double-peaked narrow emission lines (DPNELs) are due to a dual AGN in \\obj, the estimated physical separation between the two cores is about 500 pc. Meanwhile, three alternative explanations are also discussed in this paper, however, we can not find solid evidence to completely rule them out. Our results support the presence of a sub-kpc dual AGN with DPNELs in all lines, indicating a key episode of galaxy merging evolution at sub-kpc scale. |\n",
       "|<p style=\"color:green\"> **ERROR** </p>| <p style=\"color:green\">affiliation error: mpia.affiliation_verifications: 'Heidelberg' keyword not found.</p> |"
      ],
      "text/plain": [
       "<IPython.core.display.Markdown object>"
      ]
     },
     "metadata": {},
     "output_type": "display_data"
    },
    {
     "data": {
      "text/markdown": [
       "\n",
       "|||\n",
       "|---:|:---|\n",
       "| [![arXiv](https://img.shields.io/badge/arXiv-arXiv:2404.13047-b31b1b.svg)](https://arxiv.org/abs/arXiv:2404.13047) | **Formation of a $33\\,M_{\\odot}$ black hole in a low-metallicity binary**  |\n",
       "|| <mark>K. El-Badry</mark> |\n",
       "|*Appeared on*| *2024-04-22*|\n",
       "|*Comments*| *7 pages, 4 figures, submitted to OJAp. Comments welcome*|\n",
       "|**Abstract**| A $33\\,M_\\odot$ black hole (BH) was recently discovered in an 11.6-year binary only 590 pc from the Sun. The system, Gaia BH3, contains a $0.8\\,M_\\odot$ low-metallicity giant ($\\rm [M/H]=-2.2$) and is kinematically part of the Galactic halo, suggesting that the BH formed from a low-metallicity massive star. I show that orbits similar to that of Gaia BH3 are naturally produced through isolated binary evolution. The system's period and eccentricity can result from a broad range of initial orbits with a modest natal kick ($v_{\\rm kick}\\lesssim 75\\,\\rm km\\,s^{-1}$) to the BH. I construct MESA models for metal-poor massive stars with initial masses ranging from $35-55\\,M_{\\odot}$, which reach maximum radii of $1150-1800\\,R_{\\odot}$ as red supergiants. Stars of this size would fit inside most plausible pre-supernova orbits for the system without overflowing their Roche lobes. In addition, models with moderately rapid initial rotation ($\\Omega/\\Omega_{\\rm crit} \\gtrsim 0.45$) undergo chemically homogeneous evolution and never expand to radii larger than $10\\,R_{\\odot}$. There are thus multiple channels through which a low-metallicity, extreme-mass ratio binary could produce a system like Gaia BH3. Dynamical formation scenarios are also viable, and there is little doubt that both isolated and dynamically-formed BH binaries with orbits similar to Gaia BH3 will be discovered in Gaia DR4. Only about 1 in 10,000 stars in the solar neighborhood have metallicities as low as Gaia BH3. This suggests that BH companions are dramatically over-represented at low-metallicity, though caveats related to small number statistics apply. The fact that the luminous star in Gaia BH3 has been a giant - greatly boosting its detectability - only for $\\sim$1% of the time since the system's formation implies that additional massive BHs remain to be discovered with only moderately fainter companions. |\n",
       "|<p style=\"color:green\"> **ERROR** </p>| <p style=\"color:green\">affiliation error: mpia.affiliation_verifications: 'Heidelberg' keyword not found.</p> |"
      ],
      "text/plain": [
       "<IPython.core.display.Markdown object>"
      ]
     },
     "metadata": {},
     "output_type": "display_data"
    }
   ],
   "source": [
    "import datetime\n",
    "today = str(datetime.date.today())\n",
    "logfile = f\"_build/html/logs/log-{today}.md\"\n",
    "\n",
    "\n",
    "with open(logfile, 'w') as logs:\n",
    "    # Success\n",
    "    logs.write(f'# Arxiv on Deck 2: Logs - {today}\\n\\n')\n",
    "    logs.write(\"\"\"* Arxiv had {0:,d} new papers\\n\"\"\".format(len(new_papers)))\n",
    "    logs.write(\"\"\"    * {0:,d} with possible author matches\\n\\n\"\"\".format(len(candidates)))\n",
    "    logs.write(\"## Sucessful papers\\n\\n\")\n",
    "    display(Markdown(\"## Successful papers\"))\n",
    "    success = [k[0] for k in documents]\n",
    "    for candid in candidates:\n",
    "        if candid['identifier'].split(':')[-1] in success:\n",
    "            display(candid)\n",
    "            logs.write(candid.generate_markdown_text() + '\\n\\n')\n",
    "\n",
    "    ## failed\n",
    "    logs.write(\"## Failed papers\\n\\n\")\n",
    "    display(Markdown(\"## Failed papers\"))\n",
    "    failed = sorted(failed, key=lambda x: x[1])\n",
    "    current_reason = \"\"\n",
    "    for paper, reason in failed:\n",
    "        if 'affiliation' in reason:\n",
    "            color = 'green'\n",
    "        else:\n",
    "            color = 'red'\n",
    "        data = Markdown(\n",
    "                paper.generate_markdown_text() + \n",
    "                f'\\n|<p style=\"color:{color:s}\"> **ERROR** </p>| <p style=\"color:{color:s}\">{reason:s}</p> |'\n",
    "               )\n",
    "        if reason != current_reason:\n",
    "            logs.write(f'### {reason:s} \\n\\n')\n",
    "            current_reason = reason\n",
    "        logs.write(data.data + '\\n\\n')\n",
    "        \n",
    "        # only display here the important errors (all in logs)\n",
    "        # if color in ('red',):\n",
    "        display(data)"
   ]
  },
  {
   "cell_type": "markdown",
   "id": "472d20ee",
   "metadata": {
    "papermill": {
     "duration": 0.005252,
     "end_time": "2024-04-22T04:12:09.590261",
     "exception": false,
     "start_time": "2024-04-22T04:12:09.585009",
     "status": "completed"
    },
    "tags": []
   },
   "source": [
    "## Export documents\n",
    "\n",
    "We now write the .md files and export relevant images"
   ]
  },
  {
   "cell_type": "code",
   "execution_count": 6,
   "id": "d426aed9",
   "metadata": {
    "execution": {
     "iopub.execute_input": "2024-04-22T04:12:09.601927Z",
     "iopub.status.busy": "2024-04-22T04:12:09.601543Z",
     "iopub.status.idle": "2024-04-22T04:12:09.607636Z",
     "shell.execute_reply": "2024-04-22T04:12:09.607067Z"
    },
    "papermill": {
     "duration": 0.013412,
     "end_time": "2024-04-22T04:12:09.608936",
     "exception": false,
     "start_time": "2024-04-22T04:12:09.595524",
     "status": "completed"
    },
    "tags": []
   },
   "outputs": [],
   "source": [
    "def export_markdown_summary(md: str, md_fname:str, directory: str):\n",
    "    \"\"\"Export MD document and associated relevant images\"\"\"\n",
    "    import os\n",
    "    import shutil\n",
    "    import re\n",
    "\n",
    "    if (os.path.exists(directory) and not os.path.isdir(directory)):\n",
    "        raise RuntimeError(f\"a non-directory file exists with name {directory:s}\")\n",
    "\n",
    "    if (not os.path.exists(directory)):\n",
    "        print(f\"creating directory {directory:s}\")\n",
    "        os.mkdir(directory)\n",
    "\n",
    "    fig_fnames = (re.compile(r'\\[Fig.*\\]\\((.*)\\)').findall(md) + \n",
    "                  re.compile(r'\\<img src=\"([^>\\s]*)\"[^>]*/>').findall(md))\n",
    "    for fname in fig_fnames:\n",
    "        if 'http' in fname:\n",
    "            # No need to copy online figures\n",
    "            continue\n",
    "        destdir = os.path.join(directory, os.path.dirname(fname))\n",
    "        destfname = os.path.join(destdir, os.path.basename(fname))\n",
    "        try:\n",
    "            os.makedirs(destdir)\n",
    "        except FileExistsError:\n",
    "            pass\n",
    "        shutil.copy(fname, destfname)\n",
    "    with open(os.path.join(directory, md_fname), 'w') as fout:\n",
    "        fout.write(md)\n",
    "    print(\"exported in \", os.path.join(directory, md_fname))\n",
    "    [print(\"    + \" + os.path.join(directory,fk)) for fk in fig_fnames]"
   ]
  },
  {
   "cell_type": "code",
   "execution_count": 7,
   "id": "014d04a4",
   "metadata": {
    "execution": {
     "iopub.execute_input": "2024-04-22T04:12:09.620620Z",
     "iopub.status.busy": "2024-04-22T04:12:09.620247Z",
     "iopub.status.idle": "2024-04-22T04:12:09.671806Z",
     "shell.execute_reply": "2024-04-22T04:12:09.671164Z"
    },
    "papermill": {
     "duration": 0.058975,
     "end_time": "2024-04-22T04:12:09.673207",
     "exception": false,
     "start_time": "2024-04-22T04:12:09.614232",
     "status": "completed"
    },
    "tags": []
   },
   "outputs": [
    {
     "name": "stdout",
     "output_type": "stream",
     "text": [
      "exported in  _build/html/2404.12432.md\n",
      "    + _build/html/tmp_2404.12432/./SFH_binned_final.png\n",
      "    + _build/html/tmp_2404.12432/./129149.png\n",
      "    + _build/html/tmp_2404.12432/./128036.png\n",
      "    + _build/html/tmp_2404.12432/./mass_tform.png\n",
      "exported in  _build/html/2404.12443.md\n",
      "    + _build/html/tmp_2404.12443/./CII-cont-combined-map.png\n",
      "    + _build/html/tmp_2404.12443/./CII-tot-out-comp-spectra.png\n",
      "    + _build/html/tmp_2404.12443/./J0923+0402moment-maps-vertical.png\n",
      "    + _build/html/tmp_2404.12443/./onepc_t25_3ad6_c17_best_fit_model_1_2.png\n",
      "    + _build/html/tmp_2404.12443/./onepc_t25_3ad6_c17_pars_2_1.png\n",
      "    + _build/html/tmp_2404.12443/./mout-eout-pout-correlation.png\n",
      "exported in  _build/html/2404.12585.md\n",
      "    + _build/html/tmp_2404.12585/./Plots/QSO_ReconProfilesIndividual_uncalibrated_ATLASJ025-33.png\n",
      "    + _build/html/tmp_2404.12585/./Plots/Predictions_FluxRatio_Sample1_Greig.png\n",
      "    + _build/html/tmp_2404.12585/./Plots/Predictions_FluxRatio_Sample2_Greig.png\n",
      "    + _build/html/tmp_2404.12585/./Plots/QSO_ReconProfilesIndividual_inset_PSOJ029-29.png\n",
      "    + _build/html/tmp_2404.12585/./Plots/QSO_ReconProfilesIndividual_inset_ATLASJ029-36.png\n",
      "    + _build/html/tmp_2404.12585/./Plots/QSO_ReconProfilesIndividual_inset_VDESJ0224-47.png\n",
      "    + _build/html/tmp_2404.12585/./Plots/QSO_ReconProfilesIndividual_inset_PSOJ060+24.png\n",
      "    + _build/html/tmp_2404.12585/./Plots/QSO_ReconProfilesIndividual_inset_J0408-5632.png\n",
      "    + _build/html/tmp_2404.12585/./Plots/QSO_ReconProfilesIndividual_inset_PSOJ108+08.png\n",
      "    + _build/html/tmp_2404.12585/./Plots/QSO_ReconProfilesIndividual_inset_SDSSJ0842+1218.png\n",
      "    + _build/html/tmp_2404.12585/./Plots/QSO_ReconProfilesIndividual_inset_PSOJ158-14.png\n",
      "exported in  _build/html/2404.13031.md\n",
      "    + _build/html/tmp_2404.13031/./fig/lc_satprlx_x1sp_x2sp.png\n",
      "    + _build/html/tmp_2404.13031/./fig/q_and_isochrone.png\n",
      "    + _build/html/tmp_2404.13031/./fig/microlensing-geo-en-xlrp+prlx.png\n"
     ]
    }
   ],
   "source": [
    "for paper_id, md in documents:\n",
    "    export_markdown_summary(md, f\"{paper_id:s}.md\", '_build/html/')"
   ]
  },
  {
   "cell_type": "markdown",
   "id": "f087a0a7",
   "metadata": {
    "papermill": {
     "duration": 0.00546,
     "end_time": "2024-04-22T04:12:09.684383",
     "exception": false,
     "start_time": "2024-04-22T04:12:09.678923",
     "status": "completed"
    },
    "tags": []
   },
   "source": [
    "## Display the papers\n",
    "\n",
    "Not necessary but allows for a quick check."
   ]
  },
  {
   "cell_type": "code",
   "execution_count": 8,
   "id": "fd25f625",
   "metadata": {
    "execution": {
     "iopub.execute_input": "2024-04-22T04:12:09.696495Z",
     "iopub.status.busy": "2024-04-22T04:12:09.695947Z",
     "iopub.status.idle": "2024-04-22T04:12:09.704090Z",
     "shell.execute_reply": "2024-04-22T04:12:09.703462Z"
    },
    "papermill": {
     "duration": 0.015701,
     "end_time": "2024-04-22T04:12:09.705493",
     "exception": false,
     "start_time": "2024-04-22T04:12:09.689792",
     "status": "completed"
    },
    "scrolled": false,
    "tags": []
   },
   "outputs": [
    {
     "data": {
      "text/markdown": [
       "<div class=\"macros\" style=\"visibility:hidden;\">\n",
       "$\\newcommand{\\ensuremath}{}$\n",
       "$\\newcommand{\\xspace}{}$\n",
       "$\\newcommand{\\object}[1]{\\texttt{#1}}$\n",
       "$\\newcommand{\\farcs}{{.}''}$\n",
       "$\\newcommand{\\farcm}{{.}'}$\n",
       "$\\newcommand{\\arcsec}{''}$\n",
       "$\\newcommand{\\arcmin}{'}$\n",
       "$\\newcommand{\\ion}[2]{#1#2}$\n",
       "$\\newcommand{\\textsc}[1]{\\textrm{#1}}$\n",
       "$\\newcommand{\\hl}[1]{\\textrm{#1}}$\n",
       "$\\newcommand{\\footnote}[1]{}$\n",
       "$\\newcommand{\\red}{\\textcolor{red}}$\n",
       "$\\newcommand{\\white}{\\textcolor{white}}$</div>\n",
       "\n",
       "\n",
       "\n",
       "<div id=\"title\">\n",
       "\n",
       "# The JWST-SUSPENSE Ultradeep Spectroscopic Program: \\ Survey Overview and Star-Formation Histories of Quiescent Galaxies at $\\boldsymbol{1<z<3}$\n",
       "\n",
       "</div>\n",
       "<div id=\"comments\">\n",
       "\n",
       "[![arXiv](https://img.shields.io/badge/arXiv-2404.12432-b31b1b.svg)](https://arxiv.org/abs/2404.12432)<mark>Appeared on: 2024-04-22</mark> -  _Submitted to ApJ; 24 pages, 13 figures, 2 tables (excluding appendices)_\n",
       "\n",
       "</div>\n",
       "<div id=\"authors\">\n",
       "\n",
       "M. Slob, et al. -- incl., <mark>A. d. Graaff</mark>\n",
       "\n",
       "</div>\n",
       "<div id=\"abstract\">\n",
       "\n",
       "**Abstract:** We present an overview and first results from the Spectroscopic Ultradeep Survey Probing Extragalactic Near-infrared Stellar Emission (SUSPENSE), executed with NIRSpec on JWST. The primary goal of the SUSPENSE program is to characterize the stellar, chemical, and kinematic properties of massive quiescent galaxies at cosmic noon. In a single deep NIRSpec/MSA configuration, we target 20 distant quiescent galaxy candidates ( $z=1-3$ , $H_{AB}<23$ ), as well as 53 star-forming galaxies at $z=1-4$ . With 16 hr of integration and the G140M-F100LP dispersion-filter combination, we observe numerous Balmer and metal absorption lines for all quiescent candidates. We derive stellar masses (log $M_*/M_{\\odot}\\sim10.3-11.5$ ) and detailed star-formation histories (SFHs) and show that all 20 candidate quiescent galaxies indeed have quenched stellar populations. These galaxies show a variety of mass-weighted ages ( $0.8-3.0$ Gyr) and star formation timescales ( $\\sim0.5-4$ Gyr), and four out of 20 galaxies were already quiescent by $z=3$ . On average, the $z>1.75$ $[z<1.75]$ galaxies formed 50 \\% of their stellar mass before $z=4$ $[z=3]$ . Furthermore, the typical SFHs of galaxies in these two redshift bins ( $z_{\\text{mean}}=2.2$ and $z_{\\text{mean}}=1.3$ ) indicate that galaxies at higher redshift formed earlier and over shorter star-formation timescales compared to lower redshifts. Although this evolution is naturally explained by the growth of the quiescent galaxy population over cosmic time, we cannot rule out that mergers and late-time star formation also contribute to the evolution. In future work, we will further unravel the early formation, quenching, and late-time evolution of these galaxies by extending this work with studies on their chemical abundances, resolved stellar populations and kinematics.\n",
       "\n",
       "</div>\n",
       "\n",
       "<div id=\"div_fig1\">\n",
       "\n",
       "<img src=\"tmp_2404.12432/./SFH_binned_final.png\" alt=\"Fig6\" width=\"100%\"/>\n",
       "\n",
       "**Figure 6. -** Top panel: Distribution of the observed redshifts, separated in two redshift bins. The dashed lines indicate the mean redshift of each bin. Middle panel: the average SFH of all quiescent targets, separated into two redshift bins. Here the SFH corresponds to the total mass fraction formed as a function of age of the universe. Bottom panel: the summed SFR of all quiescent galaxies as a function of age of the universe, separated into two redshift bins. Before summing the SFRs of the galaxies we first normalize them by their total stellar mass. The shaded regions around the mean SFHs indicate the error on the mean. In the middle and bottom panels, the dotted vertical lines indicate the average $t_{\\text{form}}$ of each redshift bin, with the vertical bands corresponding to the standard deviation of $t_{\\text{form}}$. (*fig:SFH_binned*)\n",
       "\n",
       "</div>\n",
       "<div id=\"div_fig2\">\n",
       "\n",
       "<img src=\"tmp_2404.12432/./129149.png\" alt=\"Fig11.1\" width=\"50%\"/><img src=\"tmp_2404.12432/./128036.png\" alt=\"Fig11.2\" width=\"50%\"/>\n",
       "\n",
       "**Figure 11. -** Overview of UltraVISTA photometric SEDs (bottom-left), NIRSpec spectra (right), and HST image (top-left) of two example quiescent galaxies in our survey. The 2D spectra for the two observed dithers and the combined 1D spectrum are shown in the top-right and bottom-right rows, respectively. Flux densities ($F_{\\lambda}$) are in $10^{-19}$ erg s$^{-1}$ cm$^{-2}$ Å$^{-1}$. The coverage of the NIRSpec spectra are indicated in the SED panels by the gray rectangles. The best-fit \\texttt{Prospector} models to the photometry and spectra are shown in red (see Section \\ref{sec:prosp}). The images in the top-left panels show the HST-F160W imaging, with an overlay of the NIRSpec MSA slit orientation for one nod position. In Appendix \\ref{ap:all_spec} we show this figure for all targeted quiescent galaxies. (*fig:example_q_spec*)\n",
       "\n",
       "</div>\n",
       "<div id=\"div_fig3\">\n",
       "\n",
       "<img src=\"tmp_2404.12432/./mass_tform.png\" alt=\"Fig5\" width=\"100%\"/>\n",
       "\n",
       "**Figure 5. -** Age of the universe where 50\\% of the stellar mass in the galaxy has formed ($t_{\\text{form}}$) as a function of stellar mass for all quiescent galaxies. The symbols are colored by the redshift at observation. We show the [Nanayakkara, Glazebrook and Jacobs (2024)]()$z\\sim3-4$ sample as gray diamonds, and the [Beverage, Kriek and Suess (2023)]()(gray plus), [Glazebrook, Nanayakkara and Schreiber (2023)]()(gray square), [Setton, Khullar and Miller (2024)]()(gray cross), and [Kriek and Conroy (2016)]()(gray star). (*fig:mass_tform*)\n",
       "\n",
       "</div><div id=\"qrcode\"><img src=https://api.qrserver.com/v1/create-qr-code/?size=100x100&data=\"https://arxiv.org/abs/2404.12432\"></div>"
      ],
      "text/plain": [
       "<IPython.core.display.Markdown object>"
      ]
     },
     "metadata": {},
     "output_type": "display_data"
    },
    {
     "data": {
      "text/markdown": [
       "<div class=\"macros\" style=\"visibility:hidden;\">\n",
       "$\\newcommand{\\ensuremath}{}$\n",
       "$\\newcommand{\\xspace}{}$\n",
       "$\\newcommand{\\object}[1]{\\texttt{#1}}$\n",
       "$\\newcommand{\\farcs}{{.}''}$\n",
       "$\\newcommand{\\farcm}{{.}'}$\n",
       "$\\newcommand{\\arcsec}{''}$\n",
       "$\\newcommand{\\arcmin}{'}$\n",
       "$\\newcommand{\\ion}[2]{#1#2}$\n",
       "$\\newcommand{\\textsc}[1]{\\textrm{#1}}$\n",
       "$\\newcommand{\\hl}[1]{\\textrm{#1}}$\n",
       "$\\newcommand{\\footnote}[1]{}$\n",
       "$\\newcommand{\\vdag}{(v)^\\dagger}$\n",
       "$\\newcommand$\n",
       "$\\newcommand$\n",
       "$\\newcommand{\\lcii}{L_{\\rm[CII]}}$\n",
       "$\\newcommand{\\lir}{L_{\\rm IR}}$\n",
       "$\\newcommand{\\zn}{J0923+0402}$\n",
       "$\\newcommand{\\kms}{km s^{-1}}$\n",
       "$\\newcommand{\\lbol}{L_{\\rm Bol}}$</div>\n",
       "\n",
       "\n",
       "\n",
       "<div id=\"title\">\n",
       "\n",
       "# Multi-phase black-hole feedback and a bright [CII] halo in a Lo-BAL quasar at $\\mathbf{z\\sim6.6}$\n",
       "\n",
       "</div>\n",
       "<div id=\"comments\">\n",
       "\n",
       "[![arXiv](https://img.shields.io/badge/arXiv-2404.12443-b31b1b.svg)](https://arxiv.org/abs/2404.12443)<mark>Appeared on: 2024-04-22</mark> -  _Submitted to ApJ_\n",
       "\n",
       "</div>\n",
       "<div id=\"authors\">\n",
       "\n",
       "M. Bischetti, et al. -- incl., <mark>E. Bañados</mark>, <mark>F. Walter</mark>\n",
       "\n",
       "</div>\n",
       "<div id=\"abstract\">\n",
       "\n",
       "**Abstract:** Although the mass growth of supermassive black holes during the Epoch of Reionisation is expected to play a role in shaping the concurrent growth of their host-galaxies, observational evidence of feedback at z $\\gtrsim$ 6 is still sparse. We perform the first multi-scale and multi-phase characterisation of black-hole driven outflows in the $z\\sim6.6$ quasar J0923+0402 and assess how these winds impact the cold gas reservoir. We employ the SimBAL spectral synthesis to fit broad absorption line (BAL) features and find a powerful ionized outflow on $\\lesssim210$ pc scale, with a kinetic power $\\sim2-100$ \\% of the quasar luminosity. ALMA observations of [ CII ] emission allow us to study the morphology and kinematics of the cold gas. We detect high-velocity [ CII ] emission, likely associated with a cold neutral outflow at $\\sim0.5-2$ kpc scale in the host-galaxy, and a bright extended [ CII ] halo with a size of $\\sim15$ kpc. For the first time at such an early epoch, we accurately constrain the outflow energetics in both the ionized and the atomic neutral gas phases. We find such energetics to be consistent with expectations for an efficient feedback mechanism, and both ejective and preventative feedback modes are likely at play. The scales and energetics of the ionized and atomic outflows suggest that they might be associated with different quasar accretion episodes. The results of this work indicate that strong black hole feedback is occurring in quasars at $z\\gtrsim6$ and is likely responsible for shaping the properties of the cold gas reservoir up to circum-galactic scales.\n",
       "\n",
       "</div>\n",
       "\n",
       "<div id=\"div_fig1\">\n",
       "\n",
       "<img src=\"tmp_2404.12443/./CII-cont-combined-map.png\" alt=\"Fig5.1\" width=\"33%\"/><img src=\"tmp_2404.12443/./CII-tot-out-comp-spectra.png\" alt=\"Fig5.2\" width=\"33%\"/><img src=\"tmp_2404.12443/./J0923+0402moment-maps-vertical.png\" alt=\"Fig5.3\" width=\"33%\"/>\n",
       "\n",
       "**Figure 5. -** _ Left:_ Map of the [CII] emission in $\\zn$. Solid contours correspond to [3,4,6,8,10,12,13]$\\sigma$ significance, where $\\sigma=0.017$ Jy beam$^{-1}$\\kms. The same levels are shown for the continuum emission by the dashed contours, with $\\sigma=5.9\\times10^{-6}$ Jy beam$^{-1}$. The black cross indicates the quasar optical position, as measured from NIRCam F200W data, and the white plus sign corresponds to the peak of the 242-257 GHz continuum emission probed by ALMA. _Middle:_[CII] spectrum corresponding to the total emission detected at $\\gtrsim3\\sigma$(top panel). The best-fit Gaussian profile is shown by the red curve. Middle panel displays the [CII] spectrum extracted from the region with velocity dispersion higher than 230 $\\kms$, including the quasar location. To model the line profile, we added a second blueshifted Gaussian component with $v\\simeq-300$\\kms to the scaled best-fit model of the top panel. Bottom panel shows the [CII] spectrum extracted from one beam aperture centred on the secondary continuum peak. _ Right:_ Velocity and velocity dispersion maps corresponding to the [CII] emission at $>3\\sigma$. The black-dashed polygon highlights the triangle-shaped region with high-velocity dispersion (Sect. \\ref{subsec:alma}). (*fig:cii-integrated*)\n",
       "\n",
       "</div>\n",
       "<div id=\"div_fig2\">\n",
       "\n",
       "<img src=\"tmp_2404.12443/./onepc_t25_3ad6_c17_best_fit_model_1_2.png\" alt=\"Fig4.1\" width=\"50%\"/><img src=\"tmp_2404.12443/./onepc_t25_3ad6_c17_pars_2_1.png\" alt=\"Fig4.2\" width=\"50%\"/>\n",
       "\n",
       "**Figure 4. -** _Left:_ X-Shooter spectrum of $\\zn$(black) and best-fitting _SimBAL_ model (red).\n",
       "    The dashed blue curve represents the unabsorbed quasar emission model by \\citep{Bischetti23}.\n",
       "    The noise spectrum and the spectral regions excluded from the fit are plotted in grey.\n",
       "    Labels indicate the major UV emission lines. _Right:_ BAL outflow physical parameters as a function of velocity with error bars representing 95\\% confidence regions.\n",
       "    The top two panels show the fit parameters ($\\log U$, $\\log N_H-\\log U$, $\\log a$) used in _SimBAL_ modeling.\n",
       "    The bottom panel shows the distribution of hydrogen column density ($\\log N_H$) corrected for the covering fraction (Appendix \\ref{App:simbal}).\n",
       "     (*fig:simbal_bestfit*)\n",
       "\n",
       "</div>\n",
       "<div id=\"div_fig3\">\n",
       "\n",
       "<img src=\"tmp_2404.12443/./mout-eout-pout-correlation.png\" alt=\"Fig6\" width=\"100%\"/>\n",
       "\n",
       "**Figure 6. -** _ Left:_ Mass outflow rate as a function of bolometric luminosity for the [CII] and BAL outflow detected in $\\zn$(stars). The shaded bars show the range of possible values according to our analysis. We compare our results with [CII] outflows from \\cite{Bischetti19, Izumi21a, Izumi21, Tripodi22} and BAL outflows from \\cite{Choi20,Choi22}(diamonds) and \\cite{Miller20}(squares). We also include the compilation of black-hole driven molecular outflows from \\cite{Bischetti19pds} and references therein, and recent measurements by \\cite{RamosAlmeida22, Zanchettin21, Zanchettin23}.\n",
       "    The estimates for the comparison BAL outflows were also calculated assuming a thin-shell scenario.\n",
       "    The bolometric luminosity for the BAL outflow of $\\zn$ is arbitrarily shifted for plotting. _ Middle:_ Outflow kinetic power as a function of $L_{\\rm Bol}$. The solid, dashed and dotted lines correspond to $L_{\\rm Bol}$, 0.1$L_{\\rm Bol}$, and 0.01$L_{\\rm Bol}$, respectively. _ Right:_ Outflow momentum flux as a function of the outflow velocity. The solid(dashed) line indicates the expected momentum boost for a black-hole driven wind arising with nuclear velocity 0.1$c$ and propagating with a momentum(energy) conserving expansion \\citep{Zubovas&King12}.  (*fig:correlations*)\n",
       "\n",
       "</div><div id=\"qrcode\"><img src=https://api.qrserver.com/v1/create-qr-code/?size=100x100&data=\"https://arxiv.org/abs/2404.12443\"></div>"
      ],
      "text/plain": [
       "<IPython.core.display.Markdown object>"
      ]
     },
     "metadata": {},
     "output_type": "display_data"
    },
    {
     "data": {
      "text/markdown": [
       "<div class=\"macros\" style=\"visibility:hidden;\">\n",
       "$\\newcommand{\\ensuremath}{}$\n",
       "$\\newcommand{\\xspace}{}$\n",
       "$\\newcommand{\\object}[1]{\\texttt{#1}}$\n",
       "$\\newcommand{\\farcs}{{.}''}$\n",
       "$\\newcommand{\\farcm}{{.}'}$\n",
       "$\\newcommand{\\arcsec}{''}$\n",
       "$\\newcommand{\\arcmin}{'}$\n",
       "$\\newcommand{\\ion}[2]{#1#2}$\n",
       "$\\newcommand{\\textsc}[1]{\\textrm{#1}}$\n",
       "$\\newcommand{\\hl}[1]{\\textrm{#1}}$\n",
       "$\\newcommand{\\footnote}[1]{}$\n",
       "$\\newcommand$\n",
       "$\\newcommand$\n",
       "$\\newcommand$\n",
       "$\\newcommand{\\lya}{\\ifmmode\\mathrm{Ly}\\alpha\\else Ly\\alpha\\fi}$\n",
       "$\\newcommand{\\lyb}{\\ifmmode\\mathrm{Ly}\\beta\\else Ly\\beta\\fi}$\n",
       "$\\newcommand{\\igm}{\\ifmmode\\mathrm{IGM}\\else IGM\\fi}$\n",
       "$\\newcommand{\\lae}{\\ifmmode\\mathrm{LAE}\\else LAE\\fi}$\n",
       "$\\newcommand{\\h}{\\ifmmode\\mathrm{H}\\else H\\fi}$\n",
       "$\\newcommand{\\hi}{\\ifmmode\\mathrm{H {\\scriptscriptstyle I}}\\else H {\\scriptsize I}\\fi}$\n",
       "$\\newcommand{\\hii}{\\ifmmode\\mathrm{H {\\scriptscriptstyle II}}\\else H {\\scriptsize II}\\fi}$\n",
       "$\\newcommand{\\cmb}{\\ifmmode\\mathrm{CMB}\\else CMB\\fi}$\n",
       "$\\newcommand{\\qso}{\\ifmmode\\mathrm{QSO}\\else QSO\\fi}$\n",
       "$\\newcommand{\\eor}{\\ifmmode\\mathrm{EoR}\\else EoR\\fi}$\n",
       "$\\newcommand{\\heii}{\\ifmmode\\mathrm{He {\\scriptscriptstyle II}}\\else He {\\scriptsize II}\\fi}$\n",
       "$\\newcommand{\\heiii}{\\ifmmode\\mathrm{He {\\scriptscriptstyle III}}\\else He {\\scriptsize III}\\fi}$\n",
       "$\\newcommand{\\ciii}{\\ifmmode\\mathrm{C {\\scriptscriptstyle III]}}\\else C {\\scriptsize III]}\\fi}$\n",
       "$\\newcommand{\\oiii}{\\ifmmode\\mathrm{O {\\scriptscriptstyle III}}\\else O {\\scriptsize III}\\fi}$\n",
       "$\\newcommand{\\aliii}{\\ifmmode\\mathrm{Al {\\scriptscriptstyle III}}\\else Al {\\scriptsize III}\\fi}$\n",
       "$\\newcommand{\\mgii}{\\ifmmode\\mathrm{Mg {\\scriptscriptstyle II}}\\else Mg {\\scriptsize II}\\fi}$\n",
       "$\\newcommand{\\fe}{\\ifmmode\\mathrm{Fe}\\else Fe\\fi}$\n",
       "$\\newcommand{\\nv}{\\ifmmode\\mathrm{N {\\scriptscriptstyle V}}\\else N {\\scriptsize V}\\fi}$\n",
       "$\\newcommand{\\niv}{\\ifmmode\\mathrm{N {\\scriptscriptstyle IV]}}\\else N {\\scriptsize IV]}\\fi}$\n",
       "$\\newcommand{\\cii}{\\ifmmode\\mathrm{C {\\scriptscriptstyle II}}\\else C {\\scriptsize II}\\fi}$\n",
       "$\\newcommand{\\civ}{\\ifmmode\\mathrm{C {\\scriptscriptstyle IV}}\\else C {\\scriptsize IV}\\fi}$\n",
       "$\\newcommand{\\siv}{\\ifmmode\\mathrm{Si {\\scriptscriptstyle IV}}\\else Si {\\scriptsize IV}\\fi}$\n",
       "$\\newcommand{\\siii}{\\ifmmode\\mathrm{Si {\\scriptscriptstyle II}}\\else Si {\\scriptsize II}\\fi}$\n",
       "$\\newcommand{\\siiii}{\\ifmmode\\mathrm{Si {\\scriptscriptstyle III]}}\\else Si {\\scriptsize III]}\\fi}$\n",
       "$\\newcommand{\\ovi}{\\ifmmode\\mathrm{O {\\scriptscriptstyle VI}}\\else O {\\scriptsize VI}\\fi}$\n",
       "$\\newcommand{\\sioiv}{\\ifmmode\\mathrm{Si {\\scriptscriptstyle IV} \\plus O {\\scriptscriptstyle IV]}}\\else Si {\\scriptsize IV} +O {\\scriptsize IV]}\\fi}$\n",
       "$\\newcommand{\\Msun}{M_\\odot}$\n",
       "$\\newcommand{\\note}[1]{{\\color{red} #1}}$\n",
       "$\\newcommand{\\comment}[1]{{\\color{blue} #1}}$\n",
       "$\\newcommand{\\nf}{x_{\\rm HI}}$\n",
       "$\\newcommand{\\avenf}{\\bar{x}_{\\rm HI}}$\n",
       "$\\newcommand{\\faintgal}{\\textsc{\\small Faint galaxies}}$\n",
       "$\\newcommand{\\brightgal}{\\textsc{\\small Bright galaxies}}$\n",
       "$\\newcommand{\\smallHII}{\\textsc{\\small Small \\hii }}$\n",
       "$\\newcommand{\\intermediateHII}{\\textsc{\\small Intermediate \\hii }}$\n",
       "$\\newcommand{\\largeHII}{\\textsc{\\small Large \\hii }}$\n",
       "$\\newcommand{\\cmmc}{\\textsc{\\small 21CMMC}}$\n",
       "$\\newcommand{\\cmfst}{\\textsc{\\small 21CMFAST}}$\n",
       "$\\newcommand{\\sense}{{\\small 21}\\textsc{cmsense}}$\n",
       "$\\newcommand{\\CH}{\\textsc{cosmohammer}}$\n",
       "$\\newcommand{\\emcee}{\\textsc{emcee}}$\n",
       "$\\newcommand{\\thebibliography}{\\DeclareRobustCommand{\\VAN}[3]{##3}\\VANthebibliography}$</div>\n",
       "\n",
       "\n",
       "\n",
       "<div id=\"title\">\n",
       "\n",
       "# IGM damping wing constraints on the tail end of reionisation from the enlarged XQR-30 sample\n",
       "\n",
       "</div>\n",
       "<div id=\"comments\">\n",
       "\n",
       "[![arXiv](https://img.shields.io/badge/arXiv-2404.12585-b31b1b.svg)](https://arxiv.org/abs/2404.12585)<mark>Appeared on: 2024-04-22</mark> -  _21 pages, 9 figures and 2 tables. Accepted for publication in MNRAS_\n",
       "\n",
       "</div>\n",
       "<div id=\"authors\">\n",
       "\n",
       "B. Greig, et al. -- incl., <mark>E. Bañados</mark>\n",
       "\n",
       "</div>\n",
       "<div id=\"abstract\">\n",
       "\n",
       "**Abstract:** $\\noindent$ The attenuation of Ly $\\alpha$ photons by neutral hydrogen in the intergalactic medium (IGM) at $z\\gtrsim5$ continues to be a powerful probe for studying the epoch of reionisation. Given a framework to estimate the intrinsic (true) Ly $\\alpha$ emission of high- $z$ sources, one can infer the ionisation state of the IGM during reionisation. In this work, we use the enlarged XQR-30 sample of 42 high-resolution and high-SNR QSO spectra between $5.8\\lesssim z\\lesssim 6.6$ obtained with VLT/X-Shooter to place constraints on the IGM neutral fraction. This is achieved using our existing Bayesian QSO reconstruction framework which accounts for uncertainties such as the: (i) posterior distribution of predicted intrinsic $\\lya$ emission profiles (obtained via covariance matrix reconstruction of the Ly $\\alpha$ and $\\nv$ emission lines from unattenuated high-ionisation emission line profiles; $\\civ$ , $\\sioiv$ and $\\ciii$ ) and (ii) distribution of ionised regions within the IGM using synthetic damping wing profiles drawn from a $1.6^3$ Gpc $^3$ reionisation simulation. Following careful quality control, we used 23 of the 42 available QSOs to obtain constraints/limits on the IGM neutral fraction during the tail-end of reionisation. Our median and 68th percentile constraints on the IGM neutral fraction are: $0.20\\substack{+0.14\\\\-0.12}$ and $0.29\\substack{+0.14\\\\-0.13}$ at $z = 6.15$ and 6.35. Further, we also report 68th percentile upper-limits of $\\bar{x}_{\\hi } < 0.21$ , 0.20, 0.21 and 0.18 at $z = 5.8, 5.95, 6.05$ and 6.55. These results imply reionisation is still ongoing at $5.8\\lesssim z\\lesssim 6.55$ , consistent with previous results from XQR-30 (dark fraction and Ly $\\alpha$ forest) along with other observational probes considered in the literature.\n",
       "\n",
       "</div>\n",
       "\n",
       "<div id=\"div_fig1\">\n",
       "\n",
       "<img src=\"tmp_2404.12585/./Plots/QSO_ReconProfilesIndividual_uncalibrated_ATLASJ025-33.png\" alt=\"Fig2\" width=\"100%\"/>\n",
       "\n",
       "**Figure 2. -** A visual demonstration of the initial covariance reconstruction for ATLAS J025-33 at $z=6.34$ highlighting problems with our original reconstruction pipeline. _Left panel:_ The observed QSO spectrum (black curve), corresponding maximum-likelihood (red curve) reconstruction and 300 random profile draws (grey curves) from our full reconstructed covariance matrix. The solid purple curve corresponds to the median reconstruction profile obtained from the full distribution of reconstructed profiles while the dashed (dotted) curves correspond to the 68th (95th) distribution of profiles. The vertical blue dashed line corresponds to rest-frame $\\lya$  while the purple box denotes the region over which we fit for the IGM damping wing imprint (1218-1230Å). _Right panel:_ The observed $\\lya$  transmission profile (black curve) obtained by dividing the observed spectrum by the median reconstructed profile. The coloured lines correspond to the median synthetic IGM damping wing profiles for each IGM neutral fraction value sampled by our EoR simulations. Grey shaded regions correspond to absorption features that are masked by our damping wing fitting pipeline. (*fig:uncalibrated*)\n",
       "\n",
       "</div>\n",
       "<div id=\"div_fig2\">\n",
       "\n",
       "<img src=\"tmp_2404.12585/./Plots/Predictions_FluxRatio_Sample1_Greig.png\" alt=\"Fig3.1\" width=\"50%\"/><img src=\"tmp_2404.12585/./Plots/Predictions_FluxRatio_Sample2_Greig.png\" alt=\"Fig3.2\" width=\"50%\"/>\n",
       "\n",
       "**Figure 3. -** The performance of our covariance matrix reconstruction method from two distinct samples of 30 QSOs from X-shooter (left panel) and SDSS (BOSS; right panel) at $3.5 < z < 4.5$. The red solid lines correspond to the flux ratio (reconstructed maximum-likelihood profile over true intrinsic profile) for each individual QSO in the samples. The black solid lines correspond to the median determined over each sample. (*fig:Correction*)\n",
       "\n",
       "</div>\n",
       "<div id=\"div_fig3\">\n",
       "\n",
       "<img src=\"tmp_2404.12585/./Plots/QSO_ReconProfilesIndividual_inset_PSOJ029-29.png\" alt=\"Fig5.1\" width=\"12%\"/><img src=\"tmp_2404.12585/./Plots/QSO_ReconProfilesIndividual_inset_ATLASJ029-36.png\" alt=\"Fig5.2\" width=\"12%\"/><img src=\"tmp_2404.12585/./Plots/QSO_ReconProfilesIndividual_inset_VDESJ0224-47.png\" alt=\"Fig5.3\" width=\"12%\"/><img src=\"tmp_2404.12585/./Plots/QSO_ReconProfilesIndividual_inset_PSOJ060+24.png\" alt=\"Fig5.4\" width=\"12%\"/><img src=\"tmp_2404.12585/./Plots/QSO_ReconProfilesIndividual_inset_J0408-5632.png\" alt=\"Fig5.5\" width=\"12%\"/><img src=\"tmp_2404.12585/./Plots/QSO_ReconProfilesIndividual_inset_PSOJ108+08.png\" alt=\"Fig5.6\" width=\"12%\"/><img src=\"tmp_2404.12585/./Plots/QSO_ReconProfilesIndividual_inset_SDSSJ0842+1218.png\" alt=\"Fig5.7\" width=\"12%\"/><img src=\"tmp_2404.12585/./Plots/QSO_ReconProfilesIndividual_inset_PSOJ158-14.png\" alt=\"Fig5.8\" width=\"12%\"/>\n",
       "\n",
       "**Figure 5. -** Intrinsic QSO reconstructions of the XQR-30 sample. We provide the maximum-likelihood reconstruction (red curve), the purple solid, dashed and dotted curves correspond to the median, 68th and 95th percentile profiles and the thin grey curves represent 300 random draws from our full posterior distribution. The solid thick grey curve near zero corresponds to the QSO noise spectrum, amplified by a factor of 5 to improve the numerical performance of our neutral fraction inference approach (see text for further details). The purple shaded box demarcates our damping wing fitting region (1218-1230Å region). _Inset panel:_ The $\\lya$  transmission profile highlighting the presence (if any) of an IGM damping wing imprint (i.e. observed transmission spectrum below unity) assuming the median (purple curve). Grey shaded regions correspond to features in the observed spectrum removed from our likelihood fitting. (*fig:results*)\n",
       "\n",
       "</div><div id=\"qrcode\"><img src=https://api.qrserver.com/v1/create-qr-code/?size=100x100&data=\"https://arxiv.org/abs/2404.12585\"></div>"
      ],
      "text/plain": [
       "<IPython.core.display.Markdown object>"
      ]
     },
     "metadata": {},
     "output_type": "display_data"
    },
    {
     "data": {
      "text/markdown": [
       "<div class=\"macros\" style=\"visibility:hidden;\">\n",
       "$\\newcommand{\\ensuremath}{}$\n",
       "$\\newcommand{\\xspace}{}$\n",
       "$\\newcommand{\\object}[1]{\\texttt{#1}}$\n",
       "$\\newcommand{\\farcs}{{.}''}$\n",
       "$\\newcommand{\\farcm}{{.}'}$\n",
       "$\\newcommand{\\arcsec}{''}$\n",
       "$\\newcommand{\\arcmin}{'}$\n",
       "$\\newcommand{\\ion}[2]{#1#2}$\n",
       "$\\newcommand{\\textsc}[1]{\\textrm{#1}}$\n",
       "$\\newcommand{\\hl}[1]{\\textrm{#1}}$\n",
       "$\\newcommand{\\footnote}[1]{}$\n",
       "$\\newcommand{\\wei}{\\color{red}}$\n",
       "$\\newcommand{\\remove}{\\color{lightgray}}$\n",
       "$\\newcommand{\\zhecheng}{\\color{cyan}}$\n",
       "$\\newcommand{\\eventname}{OGLE-2015-BLG-0845 }$\n",
       "$\\newcommand{\\spitzer}{\\emph{Spitzer} }$\n",
       "$\\newcommand{\\anupiE}{\\pi_{\\rm{E}} = 2.60^{+0.31}_{-0.22}}$\n",
       "$\\newcommand{\\satpiEs}{\\pi_{\\rm{E}} = 0.087^{+0.002}_{-0.002}}$\n",
       "$\\newcommand{\\satpiEl}{\\pi_{\\rm{E}} = 0.127^{+0.003}_{-0.002}}$\n",
       "$\\newcommand{\\DeltaChisrPX}{\\Delta \\chi^{2} \\simeq  340}$\n",
       "$\\newcommand{\\DeltaChisrTwoSPX}{\\Delta \\chi^{2} \\simeq  50}$\n",
       "$\\newcommand{\\binsDeltachisq}{220}$\n",
       "$\\newcommand{\\binlDeltachisq}{180}$\n",
       "$\\newcommand{\\SonePhot}{(V-I, I)_{\\rm{S1}} = (1.46 \\pm 0.04, 18.65 \\pm 0.13)}$\n",
       "$\\newcommand{\\StwoPhot}{(V-I, I)_{\\rm{S2}} = (1.4\\pm 0.3, 20.6\\pm 0.5)}$\n",
       "$\\newcommand{\\RCzero}{(V-I, I)_{\\rm{RC,0}} = (1.06 \\pm 0.06, 14.46 \\pm 0.04)}$\n",
       "$\\newcommand{\\RCfit}{(V-I, I)_{\\rm{RC}} = (1.972\\pm0.012, 15.82\\pm 0.07)}$\n",
       "$\\newcommand{\\Extinction}{(E_{\\rm{S}}(V-I), A_{\\rm{S}}(I)) = (0.91 \\pm 0.06, 1.37 \\pm 0.08)}$\n",
       "$\\newcommand{\\SonePhotZero}{(V-I, M_{\\rm{I}} )_{\\rm{S1,0}} = (0.54 \\pm 0.07, 2.7 \\pm 0.3)}$\n",
       "$\\newcommand{\\StwoPhotZero}{(V-I, M_{\\rm{I}} )_{\\rm{S2,0}} = (0.5 \\pm 0.4, 4.7 \\pm 0.5)}$\n",
       "$\\newcommand{\\orcid}[1]{\\href{https://orcid.org/#1}{\\textcolor[HTML]{A6CE39}{\\aiOrcid}}}$\n",
       "$\\newcommand{\\arraystretch}{1.4}$\n",
       "$\\newcommand{\\arraystretch}{1.4}$\n",
       "$\\newcommand{\\arraystretch}{1.4}$\n",
       "$\\newcommand{\\thebibliography}{\\DeclareRobustCommand{\\VAN}[3]{##3}\\VANthebibliography}$</div>\n",
       "\n",
       "\n",
       "\n",
       "<div id=\"title\">\n",
       "\n",
       "# OGLE-2015-BLG-0845L: A low-mass M dwarf from the microlensing parallax and xallarap effects\n",
       "\n",
       "</div>\n",
       "<div id=\"comments\">\n",
       "\n",
       "[![arXiv](https://img.shields.io/badge/arXiv-2404.13031-b31b1b.svg)](https://arxiv.org/abs/2404.13031)<mark>Appeared on: 2024-04-22</mark> -  _13 pages, 10 figures. Submitted to Monthly Notices of the Royal Astronomical Society_\n",
       "\n",
       "</div>\n",
       "<div id=\"authors\">\n",
       "\n",
       "Z. Hu, et al. -- incl., <mark>A. Gould</mark>\n",
       "\n",
       "</div>\n",
       "<div id=\"abstract\">\n",
       "\n",
       "**Abstract:** We present the analysis of the microlensing event OGLE-2015-BLG-0845, which was affected by both the microlensing parallax and xallarap effects. The former was detected via the simultaneous observations from the ground and Spitzer, and the latter was caused by the orbital motion of the source star in a relatively close binary. The combination of these two effects led to a direct mass measurement of the lens object, revealing a low-mass ( $0.14 \\pm 0.05 M_{\\sun}$ ) M-dwarf at the bulge distance ( $7.6 \\pm 1.0$ kpc). The source binary consists of a late F-type subgiant and a K-type dwarf of $\\sim1.2 M_{\\sun}$ and $\\sim 0.9 M_{\\sun}$ , respectively, and the orbital period is $70 \\pm 10$ days. OGLE-2015-BLG-0845 is the first single-lens event in which the lens mass is measured via the binarity of the source. Given the abundance of binary systems as potential microlensing sources, the xallarap effect may not be a rare phenomenon. Our work thus highlights the application of the xallarap effect in the mass determination of microlenses, and the same method can be used to identify isolated dark lenses.\n",
       "\n",
       "</div>\n",
       "\n",
       "<div id=\"div_fig1\">\n",
       "\n",
       "<img src=\"tmp_2404.13031/./fig/lc_satprlx_x1sp_x2sp.png\" alt=\"Fig8\" width=\"100%\"/>\n",
       "\n",
       "**Figure 8. -** \n",
       "OGLE $I$ and $V$ band light curves (left panels) and $\\spitzer$ 3.6 $\\mu$m light curve (right panels) of the microlensing event $\\eventname$. In each panel, the best-fit 1L1S parallax model, 1L1S parallax + xallarap model, and the 1L2S parallax + xallarap model are shown as dashed gray line, dash-dotted line, and solid line, respectively. The OGLE $V$-band data have been aligned to the OGLE $I$-band data based on the best-fit flux parameters, and the $\\spitzer$ flux values are shown in logarithmic scale (quasi-magnitudes).\n",
       "The top panels show the observed data and the best-fit models, and the middle panels show the residuals of data and the other models relative to the 1L1S parallax model. In the lower panels, we show the cumulative $\\Delta \\chi^2$ distribution of the other two models relative to the 1L1S parallax model.\n",
       " (*fig:lc-all*)\n",
       "\n",
       "</div>\n",
       "<div id=\"div_fig2\">\n",
       "\n",
       "<img src=\"tmp_2404.13031/./fig/q_and_isochrone.png\" alt=\"Fig4\" width=\"100%\"/>\n",
       "\n",
       "**Figure 4. -** \n",
       "    Comparison between the binary mass from the isochrone fitting and the mass ratio $q$ from light curve fitting.\n",
       "    The red line represents the $q=1$ line.\n",
       "    The stellar masses determined by isochrone fitting are shown in black contours, with the solid and dashed contours showing the 1 and 2 sigma regions.\n",
       "    The light blue shadow regions mark the mass ratio 90\\% upper limit of each degenerate model.\n",
       " (*fig:q-iso*)\n",
       "\n",
       "</div>\n",
       "<div id=\"div_fig3\">\n",
       "\n",
       "<img src=\"tmp_2404.13031/./fig/microlensing-geo-en-xlrp+prlx.png\" alt=\"Fig7\" width=\"100%\"/>\n",
       "\n",
       "**Figure 7. -** An illustration of the satellite parallax method and the xallarap effect in the microlensing phenomenon. Distances and physical sizes are not to scale. The microlensing source is a binary system, with the yellow circle indicating the primary star (i.e., primary source) and the brown circle indicating the secondary star (i.e., secondary source). The centre of light, namely the photocentre, of the source system is indicated by the orange circle. On the observer plane, Spitzer was in an Earth-trailing orbit and observed the same source simultaneously as the ground-based observatories.\n",
       "     (*fig:xlrp_geo*)\n",
       "\n",
       "</div><div id=\"qrcode\"><img src=https://api.qrserver.com/v1/create-qr-code/?size=100x100&data=\"https://arxiv.org/abs/2404.13031\"></div>"
      ],
      "text/plain": [
       "<IPython.core.display.Markdown object>"
      ]
     },
     "metadata": {},
     "output_type": "display_data"
    }
   ],
   "source": [
    "[display(Markdown(k[1])) for k in documents];"
   ]
  },
  {
   "cell_type": "markdown",
   "id": "873873a4",
   "metadata": {
    "papermill": {
     "duration": 0.00609,
     "end_time": "2024-04-22T04:12:09.717792",
     "exception": false,
     "start_time": "2024-04-22T04:12:09.711702",
     "status": "completed"
    },
    "tags": []
   },
   "source": [
    "# Create HTML index"
   ]
  },
  {
   "cell_type": "code",
   "execution_count": 9,
   "id": "cf665672",
   "metadata": {
    "execution": {
     "iopub.execute_input": "2024-04-22T04:12:09.731007Z",
     "iopub.status.busy": "2024-04-22T04:12:09.730626Z",
     "iopub.status.idle": "2024-04-22T04:12:09.740228Z",
     "shell.execute_reply": "2024-04-22T04:12:09.739688Z"
    },
    "papermill": {
     "duration": 0.017671,
     "end_time": "2024-04-22T04:12:09.741574",
     "exception": false,
     "start_time": "2024-04-22T04:12:09.723903",
     "status": "completed"
    },
    "tags": []
   },
   "outputs": [
    {
     "name": "stdout",
     "output_type": "stream",
     "text": [
      "409  publications files modified in the last 7 days.\n"
     ]
    }
   ],
   "source": [
    "from datetime import datetime, timedelta, timezone\n",
    "from glob import glob\n",
    "import os\n",
    "\n",
    "files = glob('_build/html/*.md')\n",
    "days = 7\n",
    "now = datetime.today()\n",
    "res = []\n",
    "for fk in files:\n",
    "    stat_result = os.stat(fk).st_ctime\n",
    "    modified = datetime.fromtimestamp(stat_result, tz=timezone.utc).replace(tzinfo=None)\n",
    "    delta = now.today() - modified\n",
    "    if delta <= timedelta(days=days):\n",
    "        res.append((delta.seconds, fk))\n",
    "res = [k[1] for k in reversed(sorted(res, key=lambda x:x[1]))]\n",
    "npub = len(res)\n",
    "print(len(res), f\" publications files modified in the last {days:d} days.\")\n",
    "# [ print('\\t', k) for k in res ];"
   ]
  },
  {
   "cell_type": "code",
   "execution_count": 10,
   "id": "015de740",
   "metadata": {
    "execution": {
     "iopub.execute_input": "2024-04-22T04:12:09.754955Z",
     "iopub.status.busy": "2024-04-22T04:12:09.754560Z",
     "iopub.status.idle": "2024-04-22T04:12:09.776943Z",
     "shell.execute_reply": "2024-04-22T04:12:09.776398Z"
    },
    "papermill": {
     "duration": 0.030466,
     "end_time": "2024-04-22T04:12:09.778199",
     "exception": false,
     "start_time": "2024-04-22T04:12:09.747733",
     "status": "completed"
    },
    "tags": []
   },
   "outputs": [
    {
     "name": "stdout",
     "output_type": "stream",
     "text": [
      "8  publications in the last 7 days.\n"
     ]
    }
   ],
   "source": [
    "import datetime\n",
    "from glob import glob\n",
    "\n",
    "def get_last_n_days(lst, days=1):\n",
    "    \"\"\" Get the documents from the last n days \"\"\"\n",
    "    sorted_lst = sorted(lst, key=lambda x: x[1], reverse=True)\n",
    "    for fname, date in sorted_lst:\n",
    "        if date >= str(datetime.date.today() - datetime.timedelta(days=days)):\n",
    "            yield fname\n",
    "\n",
    "def extract_appearance_dates(lst_file):\n",
    "    dates = []\n",
    "\n",
    "    def get_date(line):\n",
    "        return line\\\n",
    "            .split('Appeared on:')[-1]\\\n",
    "            .split('</mark>')[0].strip()\n",
    "\n",
    "    for fname in lst:\n",
    "        with open(fname, 'r') as f:\n",
    "            found_date = False\n",
    "            for line in f:\n",
    "                if not found_date:\n",
    "                    if \"Appeared on\" in line:\n",
    "                        found_date = True\n",
    "                        dates.append((fname, get_date(line)))\n",
    "                else:\n",
    "                    break\n",
    "    return dates\n",
    "\n",
    "from glob import glob\n",
    "lst = glob('_build/html/*md')\n",
    "days = 7\n",
    "dates = extract_appearance_dates(lst)\n",
    "res = list(get_last_n_days(dates, days))\n",
    "npub = len(res)\n",
    "print(len(res), f\" publications in the last {days:d} days.\")"
   ]
  },
  {
   "cell_type": "code",
   "execution_count": 11,
   "id": "52ca0208",
   "metadata": {
    "execution": {
     "iopub.execute_input": "2024-04-22T04:12:09.792126Z",
     "iopub.status.busy": "2024-04-22T04:12:09.791763Z",
     "iopub.status.idle": "2024-04-22T04:12:09.796708Z",
     "shell.execute_reply": "2024-04-22T04:12:09.796072Z"
    },
    "papermill": {
     "duration": 0.013231,
     "end_time": "2024-04-22T04:12:09.798013",
     "exception": false,
     "start_time": "2024-04-22T04:12:09.784782",
     "status": "completed"
    },
    "scrolled": false,
    "tags": []
   },
   "outputs": [],
   "source": [
    "def create_carousel(npub=4):\n",
    "    \"\"\" Generate the HTML code for a carousel with `npub` slides \"\"\"\n",
    "    carousel = [\"\"\"  <div class=\"carousel\" \"\"\",\n",
    "                \"\"\"       data-flickity='{ \"autoPlay\": 10000, \"adaptiveHeight\": true, \"resize\": true, \"wrapAround\": true, \"pauseAutoPlayOnHover\": true, \"groupCells\": 1 }' id=\"asyncTypeset\">\"\"\"\n",
    "                ]\n",
    "    \n",
    "    item_str = \"\"\"    <div class=\"carousel-cell\"> <div id=\"slide{k}\" class=\"md_view\">Content {k}</div> </div>\"\"\"\n",
    "    for k in range(1, npub + 1):\n",
    "        carousel.append(item_str.format(k=k))\n",
    "    carousel.append(\"  </div>\")\n",
    "    return '\\n'.join(carousel)\n",
    "\n",
    "def create_grid(npub=4):\n",
    "    \"\"\" Generate the HTML code for a flat grid with `npub` slides \"\"\"\n",
    "    grid = [\"\"\"  <div class=\"grid\"> \"\"\",\n",
    "                ]\n",
    "    \n",
    "    item_str = \"\"\"    <div class=\"grid-item\"> <div id=\"slide{k}\" class=\"md_view\">Content {k}</div> </div>\"\"\"\n",
    "    for k in range(1, npub + 1):\n",
    "        grid.append(item_str.format(k=k))\n",
    "    grid.append(\"  </div>\")\n",
    "    return '\\n'.join(grid)"
   ]
  },
  {
   "cell_type": "code",
   "execution_count": 12,
   "id": "a6eac5b6",
   "metadata": {
    "execution": {
     "iopub.execute_input": "2024-04-22T04:12:09.811811Z",
     "iopub.status.busy": "2024-04-22T04:12:09.811396Z",
     "iopub.status.idle": "2024-04-22T04:12:09.816448Z",
     "shell.execute_reply": "2024-04-22T04:12:09.815803Z"
    },
    "papermill": {
     "duration": 0.01354,
     "end_time": "2024-04-22T04:12:09.817875",
     "exception": false,
     "start_time": "2024-04-22T04:12:09.804335",
     "status": "completed"
    },
    "scrolled": false,
    "tags": []
   },
   "outputs": [],
   "source": [
    "carousel = create_carousel(npub)\n",
    "docs = ', '.join(['\"{0:s}\"'.format(k.split('/')[-1]) for k in res])\n",
    "slides = ', '.join([f'\"slide{k}\"' for k in range(1, npub + 1)])\n",
    "\n",
    "with open(\"daily_template.html\", \"r\") as tpl:\n",
    "    page = tpl.read()\n",
    "    page = page.replace(\"{%-- carousel:s --%}\", carousel)\\\n",
    "               .replace(\"{%-- suptitle:s --%}\",  \"7-day archives\" )\\\n",
    "               .replace(\"{%-- docs:s --%}\", docs)\\\n",
    "               .replace(\"{%-- slides:s --%}\", slides)\n",
    "    \n",
    "with open(\"_build/html/index_7days.html\", 'w') as fout:\n",
    "    fout.write(page)"
   ]
  },
  {
   "cell_type": "code",
   "execution_count": 13,
   "id": "adc1a1ec",
   "metadata": {
    "execution": {
     "iopub.execute_input": "2024-04-22T04:12:09.831700Z",
     "iopub.status.busy": "2024-04-22T04:12:09.831283Z",
     "iopub.status.idle": "2024-04-22T04:12:09.837976Z",
     "shell.execute_reply": "2024-04-22T04:12:09.837315Z"
    },
    "papermill": {
     "duration": 0.014994,
     "end_time": "2024-04-22T04:12:09.839261",
     "exception": false,
     "start_time": "2024-04-22T04:12:09.824267",
     "status": "completed"
    },
    "tags": []
   },
   "outputs": [
    {
     "name": "stdout",
     "output_type": "stream",
     "text": [
      "4  publications in the last day.\n"
     ]
    }
   ],
   "source": [
    "# redo for today\n",
    "days = 1\n",
    "res = list(get_last_n_days(dates, days))\n",
    "npub = len(res)\n",
    "print(len(res), f\" publications in the last day.\")\n",
    "\n",
    "carousel = create_carousel(npub)\n",
    "docs = ', '.join(['\"{0:s}\"'.format(k.split('/')[-1]) for k in res])\n",
    "slides = ', '.join([f'\"slide{k}\"' for k in range(1, npub + 1)])\n",
    "\n",
    "with open(\"daily_template.html\", \"r\") as tpl:\n",
    "    page = tpl.read()\n",
    "    page = page.replace(\"{%-- carousel:s --%}\", carousel)\\\n",
    "               .replace(\"{%-- suptitle:s --%}\",  \"Daily\" )\\\n",
    "               .replace(\"{%-- docs:s --%}\", docs)\\\n",
    "               .replace(\"{%-- slides:s --%}\", slides)\n",
    "    \n",
    "# print(carousel, docs, slides)\n",
    "# print(page)\n",
    "with open(\"_build/html/index_daily.html\", 'w') as fout:\n",
    "    fout.write(page)"
   ]
  },
  {
   "cell_type": "code",
   "execution_count": 14,
   "id": "00eece82",
   "metadata": {
    "execution": {
     "iopub.execute_input": "2024-04-22T04:12:09.853127Z",
     "iopub.status.busy": "2024-04-22T04:12:09.852933Z",
     "iopub.status.idle": "2024-04-22T04:12:09.859081Z",
     "shell.execute_reply": "2024-04-22T04:12:09.858528Z"
    },
    "papermill": {
     "duration": 0.014631,
     "end_time": "2024-04-22T04:12:09.860336",
     "exception": false,
     "start_time": "2024-04-22T04:12:09.845705",
     "status": "completed"
    },
    "scrolled": false,
    "tags": []
   },
   "outputs": [
    {
     "name": "stdout",
     "output_type": "stream",
     "text": [
      "6  6 publications selected.\n"
     ]
    }
   ],
   "source": [
    "# Create the flat grid of the last N papers (fixed number regardless of dates)\n",
    "from itertools import islice \n",
    "\n",
    "npub = 6\n",
    "res = [k[0] for k in (islice(reversed(sorted(dates, key=lambda x: x[1])), 6))]\n",
    "print(len(res), f\" {npub} publications selected.\")\n",
    "\n",
    "grid = create_grid(npub)\n",
    "docs = ', '.join(['\"{0:s}\"'.format(k.split('/')[-1]) for k in res])\n",
    "slides = ', '.join([f'\"slide{k}\"' for k in range(1, npub + 1)])\n",
    "\n",
    "with open(\"grid_template.html\", \"r\") as tpl:\n",
    "    page = tpl.read()\n",
    "    page = page.replace(\"{%-- grid-content:s --%}\", grid)\\\n",
    "               .replace(\"{%-- suptitle:s --%}\",  f\"Last {npub:,d} papers\" )\\\n",
    "               .replace(\"{%-- docs:s --%}\", docs)\\\n",
    "               .replace(\"{%-- slides:s --%}\", slides)\n",
    "    \n",
    "# print(grid, docs, slides)\n",
    "# print(page)\n",
    "with open(\"_build/html/index_npub_grid.html\", 'w') as fout:\n",
    "    fout.write(page)"
   ]
  }
 ],
 "metadata": {
  "kernelspec": {
   "display_name": "Python 3 (ipykernel)",
   "language": "python",
   "name": "python3"
  },
  "language_info": {
   "codemirror_mode": {
    "name": "ipython",
    "version": 3
   },
   "file_extension": ".py",
   "mimetype": "text/x-python",
   "name": "python",
   "nbconvert_exporter": "python",
   "pygments_lexer": "ipython3",
   "version": "3.9.19"
  },
  "papermill": {
   "default_parameters": {},
   "duration": 217.163157,
   "end_time": "2024-04-22T04:12:10.083610",
   "environment_variables": {},
   "exception": null,
   "input_path": "MPIA daily digest.ipynb",
   "output_path": "log.ipynb",
   "parameters": {},
   "start_time": "2024-04-22T04:08:32.920453",
   "version": "2.5.0"
  },
  "vscode": {
   "interpreter": {
    "hash": "aee8b7b246df8f9039afb4144a1f6fd8d2ca17a180786b69acc140d282b71a49"
   }
  },
  "widgets": {
   "application/vnd.jupyter.widget-state+json": {
    "state": {
     "0f58bfaea4bf4433a9337a12a96bcf35": {
      "model_module": "@jupyter-widgets/controls",
      "model_module_version": "2.0.0",
      "model_name": "ProgressStyleModel",
      "state": {
       "_model_module": "@jupyter-widgets/controls",
       "_model_module_version": "2.0.0",
       "_model_name": "ProgressStyleModel",
       "_view_count": null,
       "_view_module": "@jupyter-widgets/base",
       "_view_module_version": "2.0.0",
       "_view_name": "StyleView",
       "bar_color": null,
       "description_width": ""
      }
     },
     "25969c51429c495f9159586d743c650c": {
      "model_module": "@jupyter-widgets/controls",
      "model_module_version": "2.0.0",
      "model_name": "HTMLStyleModel",
      "state": {
       "_model_module": "@jupyter-widgets/controls",
       "_model_module_version": "2.0.0",
       "_model_name": "HTMLStyleModel",
       "_view_count": null,
       "_view_module": "@jupyter-widgets/base",
       "_view_module_version": "2.0.0",
       "_view_name": "StyleView",
       "background": null,
       "description_width": "",
       "font_size": null,
       "text_color": null
      }
     },
     "49a939bd74c04bdeb62cb1465274ce3b": {
      "model_module": "@jupyter-widgets/base",
      "model_module_version": "2.0.0",
      "model_name": "LayoutModel",
      "state": {
       "_model_module": "@jupyter-widgets/base",
       "_model_module_version": "2.0.0",
       "_model_name": "LayoutModel",
       "_view_count": null,
       "_view_module": "@jupyter-widgets/base",
       "_view_module_version": "2.0.0",
       "_view_name": "LayoutView",
       "align_content": null,
       "align_items": null,
       "align_self": null,
       "border_bottom": null,
       "border_left": null,
       "border_right": null,
       "border_top": null,
       "bottom": null,
       "display": null,
       "flex": null,
       "flex_flow": null,
       "grid_area": null,
       "grid_auto_columns": null,
       "grid_auto_flow": null,
       "grid_auto_rows": null,
       "grid_column": null,
       "grid_gap": null,
       "grid_row": null,
       "grid_template_areas": null,
       "grid_template_columns": null,
       "grid_template_rows": null,
       "height": null,
       "justify_content": null,
       "justify_items": null,
       "left": null,
       "margin": null,
       "max_height": null,
       "max_width": null,
       "min_height": null,
       "min_width": null,
       "object_fit": null,
       "object_position": null,
       "order": null,
       "overflow": null,
       "padding": null,
       "right": null,
       "top": null,
       "visibility": null,
       "width": null
      }
     },
     "5ea4cb36f24b41e4b1e8476ba6265cd0": {
      "model_module": "@jupyter-widgets/base",
      "model_module_version": "2.0.0",
      "model_name": "LayoutModel",
      "state": {
       "_model_module": "@jupyter-widgets/base",
       "_model_module_version": "2.0.0",
       "_model_name": "LayoutModel",
       "_view_count": null,
       "_view_module": "@jupyter-widgets/base",
       "_view_module_version": "2.0.0",
       "_view_name": "LayoutView",
       "align_content": null,
       "align_items": null,
       "align_self": null,
       "border_bottom": null,
       "border_left": null,
       "border_right": null,
       "border_top": null,
       "bottom": null,
       "display": null,
       "flex": null,
       "flex_flow": null,
       "grid_area": null,
       "grid_auto_columns": null,
       "grid_auto_flow": null,
       "grid_auto_rows": null,
       "grid_column": null,
       "grid_gap": null,
       "grid_row": null,
       "grid_template_areas": null,
       "grid_template_columns": null,
       "grid_template_rows": null,
       "height": null,
       "justify_content": null,
       "justify_items": null,
       "left": null,
       "margin": null,
       "max_height": null,
       "max_width": null,
       "min_height": null,
       "min_width": null,
       "object_fit": null,
       "object_position": null,
       "order": null,
       "overflow": null,
       "padding": null,
       "right": null,
       "top": null,
       "visibility": null,
       "width": null
      }
     },
     "686a56dfc8e34ce5ae317735be970f41": {
      "model_module": "@jupyter-widgets/base",
      "model_module_version": "2.0.0",
      "model_name": "LayoutModel",
      "state": {
       "_model_module": "@jupyter-widgets/base",
       "_model_module_version": "2.0.0",
       "_model_name": "LayoutModel",
       "_view_count": null,
       "_view_module": "@jupyter-widgets/base",
       "_view_module_version": "2.0.0",
       "_view_name": "LayoutView",
       "align_content": null,
       "align_items": null,
       "align_self": null,
       "border_bottom": null,
       "border_left": null,
       "border_right": null,
       "border_top": null,
       "bottom": null,
       "display": null,
       "flex": null,
       "flex_flow": null,
       "grid_area": null,
       "grid_auto_columns": null,
       "grid_auto_flow": null,
       "grid_auto_rows": null,
       "grid_column": null,
       "grid_gap": null,
       "grid_row": null,
       "grid_template_areas": null,
       "grid_template_columns": null,
       "grid_template_rows": null,
       "height": null,
       "justify_content": null,
       "justify_items": null,
       "left": null,
       "margin": null,
       "max_height": null,
       "max_width": null,
       "min_height": null,
       "min_width": null,
       "object_fit": null,
       "object_position": null,
       "order": null,
       "overflow": null,
       "padding": null,
       "right": null,
       "top": null,
       "visibility": null,
       "width": null
      }
     },
     "73cf197dffd445f399b50c8847ae1e59": {
      "model_module": "@jupyter-widgets/controls",
      "model_module_version": "2.0.0",
      "model_name": "HTMLModel",
      "state": {
       "_dom_classes": [],
       "_model_module": "@jupyter-widgets/controls",
       "_model_module_version": "2.0.0",
       "_model_name": "HTMLModel",
       "_view_count": null,
       "_view_module": "@jupyter-widgets/controls",
       "_view_module_version": "2.0.0",
       "_view_name": "HTMLView",
       "description": "",
       "description_allow_html": false,
       "layout": "IPY_MODEL_5ea4cb36f24b41e4b1e8476ba6265cd0",
       "placeholder": "​",
       "style": "IPY_MODEL_25969c51429c495f9159586d743c650c",
       "tabbable": null,
       "tooltip": null,
       "value": " 6/6 [03:17&lt;00:00, 19.57s/it]"
      }
     },
     "76a35ad65b6843288b301f7ed72a8571": {
      "model_module": "@jupyter-widgets/controls",
      "model_module_version": "2.0.0",
      "model_name": "HBoxModel",
      "state": {
       "_dom_classes": [],
       "_model_module": "@jupyter-widgets/controls",
       "_model_module_version": "2.0.0",
       "_model_name": "HBoxModel",
       "_view_count": null,
       "_view_module": "@jupyter-widgets/controls",
       "_view_module_version": "2.0.0",
       "_view_name": "HBoxView",
       "box_style": "",
       "children": [
        "IPY_MODEL_97bdbc4f94d7489fb447c6fd520ba9a4",
        "IPY_MODEL_7cbee8a907624849aa810a07f9af315f",
        "IPY_MODEL_73cf197dffd445f399b50c8847ae1e59"
       ],
       "layout": "IPY_MODEL_49a939bd74c04bdeb62cb1465274ce3b",
       "tabbable": null,
       "tooltip": null
      }
     },
     "7cbee8a907624849aa810a07f9af315f": {
      "model_module": "@jupyter-widgets/controls",
      "model_module_version": "2.0.0",
      "model_name": "FloatProgressModel",
      "state": {
       "_dom_classes": [],
       "_model_module": "@jupyter-widgets/controls",
       "_model_module_version": "2.0.0",
       "_model_name": "FloatProgressModel",
       "_view_count": null,
       "_view_module": "@jupyter-widgets/controls",
       "_view_module_version": "2.0.0",
       "_view_name": "ProgressView",
       "bar_style": "success",
       "description": "",
       "description_allow_html": false,
       "layout": "IPY_MODEL_a6c38dfaf7084123bb07ddcf1fede72d",
       "max": 6.0,
       "min": 0.0,
       "orientation": "horizontal",
       "style": "IPY_MODEL_0f58bfaea4bf4433a9337a12a96bcf35",
       "tabbable": null,
       "tooltip": null,
       "value": 6.0
      }
     },
     "97bdbc4f94d7489fb447c6fd520ba9a4": {
      "model_module": "@jupyter-widgets/controls",
      "model_module_version": "2.0.0",
      "model_name": "HTMLModel",
      "state": {
       "_dom_classes": [],
       "_model_module": "@jupyter-widgets/controls",
       "_model_module_version": "2.0.0",
       "_model_name": "HTMLModel",
       "_view_count": null,
       "_view_module": "@jupyter-widgets/controls",
       "_view_module_version": "2.0.0",
       "_view_name": "HTMLView",
       "description": "",
       "description_allow_html": false,
       "layout": "IPY_MODEL_686a56dfc8e34ce5ae317735be970f41",
       "placeholder": "​",
       "style": "IPY_MODEL_fa51c553415d4687b73d3fc64facc411",
       "tabbable": null,
       "tooltip": null,
       "value": "100%"
      }
     },
     "a6c38dfaf7084123bb07ddcf1fede72d": {
      "model_module": "@jupyter-widgets/base",
      "model_module_version": "2.0.0",
      "model_name": "LayoutModel",
      "state": {
       "_model_module": "@jupyter-widgets/base",
       "_model_module_version": "2.0.0",
       "_model_name": "LayoutModel",
       "_view_count": null,
       "_view_module": "@jupyter-widgets/base",
       "_view_module_version": "2.0.0",
       "_view_name": "LayoutView",
       "align_content": null,
       "align_items": null,
       "align_self": null,
       "border_bottom": null,
       "border_left": null,
       "border_right": null,
       "border_top": null,
       "bottom": null,
       "display": null,
       "flex": null,
       "flex_flow": null,
       "grid_area": null,
       "grid_auto_columns": null,
       "grid_auto_flow": null,
       "grid_auto_rows": null,
       "grid_column": null,
       "grid_gap": null,
       "grid_row": null,
       "grid_template_areas": null,
       "grid_template_columns": null,
       "grid_template_rows": null,
       "height": null,
       "justify_content": null,
       "justify_items": null,
       "left": null,
       "margin": null,
       "max_height": null,
       "max_width": null,
       "min_height": null,
       "min_width": null,
       "object_fit": null,
       "object_position": null,
       "order": null,
       "overflow": null,
       "padding": null,
       "right": null,
       "top": null,
       "visibility": null,
       "width": null
      }
     },
     "fa51c553415d4687b73d3fc64facc411": {
      "model_module": "@jupyter-widgets/controls",
      "model_module_version": "2.0.0",
      "model_name": "HTMLStyleModel",
      "state": {
       "_model_module": "@jupyter-widgets/controls",
       "_model_module_version": "2.0.0",
       "_model_name": "HTMLStyleModel",
       "_view_count": null,
       "_view_module": "@jupyter-widgets/base",
       "_view_module_version": "2.0.0",
       "_view_name": "StyleView",
       "background": null,
       "description_width": "",
       "font_size": null,
       "text_color": null
      }
     }
    },
    "version_major": 2,
    "version_minor": 0
   }
  }
 },
 "nbformat": 4,
 "nbformat_minor": 5
}