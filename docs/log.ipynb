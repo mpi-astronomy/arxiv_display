{
 "cells": [
  {
   "cell_type": "markdown",
   "id": "92bcb855",
   "metadata": {
    "papermill": {
     "duration": 0.004716,
     "end_time": "2023-10-12T04:05:20.803861",
     "exception": false,
     "start_time": "2023-10-12T04:05:20.799145",
     "status": "completed"
    },
    "tags": []
   },
   "source": [
    "# MPIA Arxiv on Deck 2\n",
    "\n",
    "Contains the steps to produce the paper extractions."
   ]
  },
  {
   "cell_type": "code",
   "execution_count": 1,
   "id": "3a0d6e11",
   "metadata": {
    "execution": {
     "iopub.execute_input": "2023-10-12T04:05:20.814414Z",
     "iopub.status.busy": "2023-10-12T04:05:20.813776Z",
     "iopub.status.idle": "2023-10-12T04:05:21.208517Z",
     "shell.execute_reply": "2023-10-12T04:05:21.207634Z"
    },
    "papermill": {
     "duration": 0.402678,
     "end_time": "2023-10-12T04:05:21.210994",
     "exception": false,
     "start_time": "2023-10-12T04:05:20.808316",
     "status": "completed"
    },
    "tags": []
   },
   "outputs": [],
   "source": [
    "# Imports\n",
    "import os\n",
    "from IPython.display import Markdown, display\n",
    "from tqdm.notebook import tqdm\n",
    "import warnings\n",
    "from PIL import Image \n",
    "\n",
    "# requires arxiv_on_deck_2\n",
    "\n",
    "from arxiv_on_deck_2.arxiv2 import (get_new_papers, \n",
    "                                    get_paper_from_identifier,\n",
    "                                    retrieve_document_source, \n",
    "                                    get_markdown_badge)\n",
    "from arxiv_on_deck_2 import (latex,\n",
    "                             latex_bib,\n",
    "                             mpia,\n",
    "                             highlight_authors_in_list)\n",
    "\n",
    "# Sometimes images are really big\n",
    "Image.MAX_IMAGE_PIXELS = 1000000000 "
   ]
  },
  {
   "cell_type": "code",
   "execution_count": 2,
   "id": "22aa9d44",
   "metadata": {
    "execution": {
     "iopub.execute_input": "2023-10-12T04:05:21.222735Z",
     "iopub.status.busy": "2023-10-12T04:05:21.222289Z",
     "iopub.status.idle": "2023-10-12T04:05:21.228587Z",
     "shell.execute_reply": "2023-10-12T04:05:21.227830Z"
    },
    "papermill": {
     "duration": 0.013977,
     "end_time": "2023-10-12T04:05:21.230951",
     "exception": false,
     "start_time": "2023-10-12T04:05:21.216974",
     "status": "completed"
    },
    "tags": []
   },
   "outputs": [],
   "source": [
    "# Some useful definitions.\n",
    "\n",
    "class AffiliationWarning(UserWarning):\n",
    "    pass\n",
    "\n",
    "class AffiliationError(RuntimeError):\n",
    "    pass\n",
    "\n",
    "def validation(source: str):\n",
    "    \"\"\"Raises error paper during parsing of source file\n",
    "    \n",
    "    Allows checks before parsing TeX code.\n",
    "    \n",
    "    Raises AffiliationWarning\n",
    "    \"\"\"\n",
    "    check = mpia.affiliation_verifications(source, verbose=True)\n",
    "    if check is not True:\n",
    "        raise AffiliationError(\"mpia.affiliation_verifications: \" + check)\n",
    "\n",
    "        \n",
    "warnings.simplefilter('always', AffiliationWarning)\n",
    "\n",
    "\n",
    "def get_markdown_qrcode(paper_id: str):\n",
    "    \"\"\" Generate a qrcode to the arxiv page using qrserver.com\n",
    "    \n",
    "    :param paper: Arxiv paper\n",
    "    :returns: markdown text\n",
    "    \"\"\"\n",
    "    url = r\"https://api.qrserver.com/v1/create-qr-code/?size=100x100&data=\"\n",
    "    txt = f\"\"\"<img src={url}\"https://arxiv.org/abs/{paper_id}\">\"\"\"\n",
    "    txt = '<div id=\"qrcode\">' + txt + '</div>'\n",
    "    return txt"
   ]
  },
  {
   "cell_type": "markdown",
   "id": "14bd6310",
   "metadata": {
    "papermill": {
     "duration": 0.004486,
     "end_time": "2023-10-12T04:05:21.238880",
     "exception": false,
     "start_time": "2023-10-12T04:05:21.234394",
     "status": "completed"
    },
    "tags": []
   },
   "source": [
    "## get list of arxiv paper candidates\n",
    "\n",
    "We use the MPIA mitarbeiter list webpage from mpia.de to get author names\n",
    "We then get all new papers from Arxiv and match authors"
   ]
  },
  {
   "cell_type": "code",
   "execution_count": 3,
   "id": "2645e73a",
   "metadata": {
    "execution": {
     "iopub.execute_input": "2023-10-12T04:05:21.250637Z",
     "iopub.status.busy": "2023-10-12T04:05:21.250296Z",
     "iopub.status.idle": "2023-10-12T04:06:10.330573Z",
     "shell.execute_reply": "2023-10-12T04:06:10.329689Z"
    },
    "papermill": {
     "duration": 49.086697,
     "end_time": "2023-10-12T04:06:10.332337",
     "exception": false,
     "start_time": "2023-10-12T04:05:21.245640",
     "status": "completed"
    },
    "tags": []
   },
   "outputs": [
    {
     "name": "stdout",
     "output_type": "stream",
     "text": [
      "A. d. Graaff  ->  A. D. Graaff  |  ['A. D. Graaff']\n",
      "M. Sharma  ->  Y. M. Sharma  |  ['M. Sharma']\n",
      "K. Lee  ->  K. Lee  |  ['K. Lee']\n",
      "T. Pfeil  ->  T. Pfeil  |  ['T. Pfeil']\n",
      "H. Klahr  ->  H. Klahr  |  ['H. Klahr']\n",
      "X. Zhang  ->  X. Zhang  |  ['X. Zhang']\n"
     ]
    },
    {
     "name": "stdout",
     "output_type": "stream",
     "text": [
      "L. Kreidberg  ->  L. Kreidberg  |  ['L. Kreidberg']\n",
      "T. Mikal-Evans  ->  T. Mikal-Evans  |  ['T. Mikal-Evans']\n",
      "Arxiv has 79 new papers today\n",
      "          6 with possible author matches\n"
     ]
    }
   ],
   "source": [
    "# get list from MPIA website\n",
    "# it automatically filters identified non-scientists :func:`mpia.filter_non_scientists`\n",
    "mpia_authors = mpia.get_mpia_mitarbeiter_list()\n",
    "normed_mpia_authors = [k[1] for k in mpia_authors]   # initials + fullname\n",
    "new_papers = get_new_papers()\n",
    "# add manual references\n",
    "add_paper_refs = []\n",
    "new_papers.extend([get_paper_from_identifier(k) for k in add_paper_refs])\n",
    "\n",
    "candidates = []\n",
    "for paperk in new_papers:\n",
    "    # Check author list with their initials\n",
    "    normed_author_list = [mpia.get_initials(k) for k in paperk['authors']]\n",
    "    hl_authors = highlight_authors_in_list(normed_author_list, normed_mpia_authors, verbose=True)\n",
    "    matches = [(hl, orig) for hl, orig in zip(hl_authors, paperk['authors']) if 'mark' in hl]\n",
    "    paperk['authors'] = hl_authors\n",
    "    if matches:\n",
    "        # only select paper if an author matched our list\n",
    "        candidates.append(paperk)\n",
    "print(\"\"\"Arxiv has {0:,d} new papers today\"\"\".format(len(new_papers)))        \n",
    "print(\"\"\"          {0:,d} with possible author matches\"\"\".format(len(candidates)))"
   ]
  },
  {
   "cell_type": "markdown",
   "id": "3543b34a",
   "metadata": {
    "papermill": {
     "duration": 0.004325,
     "end_time": "2023-10-12T04:06:10.341650",
     "exception": false,
     "start_time": "2023-10-12T04:06:10.337325",
     "status": "completed"
    },
    "tags": []
   },
   "source": [
    "# Parse sources and generate relevant outputs\n",
    "\n",
    "From the candidates, we do the following steps:\n",
    "* get their tarball from ArXiv (and extract data)\n",
    "* find the main .tex file: find one with \\documentclass{...} (sometimes it's non trivial)\n",
    "* Check affiliations with :func:`validation`, which uses :func:`mpia.affiliation_verifications`\n",
    "* If passing the affiliations: we parse the .tex source\n",
    "   * inject sub-documents into the main (flatten the main document)\n",
    "   * parse structure, extract information (title, abstract, authors, figures...)\n",
    "   * handles `\\graphicspath` if provided\n",
    "* Generate the .md document."
   ]
  },
  {
   "cell_type": "code",
   "execution_count": 4,
   "id": "9576b79e",
   "metadata": {
    "execution": {
     "iopub.execute_input": "2023-10-12T04:06:10.352348Z",
     "iopub.status.busy": "2023-10-12T04:06:10.351875Z",
     "iopub.status.idle": "2023-10-12T04:06:58.647712Z",
     "shell.execute_reply": "2023-10-12T04:06:58.646891Z"
    },
    "papermill": {
     "duration": 48.304691,
     "end_time": "2023-10-12T04:06:58.650302",
     "exception": false,
     "start_time": "2023-10-12T04:06:10.345611",
     "status": "completed"
    },
    "scrolled": false,
    "tags": []
   },
   "outputs": [
    {
     "data": {
      "application/vnd.jupyter.widget-view+json": {
       "model_id": "3f4da582c1d146908e04dc639a3c2503",
       "version_major": 2,
       "version_minor": 0
      },
      "text/plain": [
       "  0%|          | 0/6 [00:00<?, ?it/s]"
      ]
     },
     "metadata": {},
     "output_type": "display_data"
    },
    {
     "name": "stdout",
     "output_type": "stream",
     "text": [
      "Retrieving document from  https://arxiv.org/e-print/2310.06887\n"
     ]
    },
    {
     "name": "stdout",
     "output_type": "stream",
     "text": [
      "extracting tarball to tmp_2310.06887..."
     ]
    },
    {
     "name": "stdout",
     "output_type": "stream",
     "text": [
      " done.\n"
     ]
    },
    {
     "name": "stdout",
     "output_type": "stream",
     "text": [
      "A. d. Graaff  ->  A. D. Graaff  |  ['A. D. Graaff']\n"
     ]
    },
    {
     "name": "stderr",
     "output_type": "stream",
     "text": [
      "/opt/hostedtoolcache/Python/3.9.18/x64/lib/python3.9/site-packages/arxiv_on_deck_2/latex.py:120: LatexWarning: attempting recovering figure figs/fig4_smitplaceholder2.png\n",
      "  warnings.warn(LatexWarning(f'attempting recovering figure {image}'))\n",
      "/opt/hostedtoolcache/Python/3.9.18/x64/lib/python3.9/site-packages/arxiv_on_deck_2/latex.py:692: LatexWarning: Could not find graphic \\includegraphics[width=0.5\\textwidth]{figs/fig4_smitplaceholder2.png}\n",
      "  warnings.warn(LatexWarning(f\"Could not find graphic {k}\"))\n",
      "/opt/hostedtoolcache/Python/3.9.18/x64/lib/python3.9/site-packages/arxiv_on_deck_2/latex.py:120: LatexWarning: attempting recovering figure figs/tng_vrot.png\n",
      "  warnings.warn(LatexWarning(f'attempting recovering figure {image}'))\n",
      "/opt/hostedtoolcache/Python/3.9.18/x64/lib/python3.9/site-packages/arxiv_on_deck_2/latex.py:692: LatexWarning: Could not find graphic \\includegraphics[width=0.5\\textwidth]{figs/tng_vrot.png}\n",
      "  warnings.warn(LatexWarning(f\"Could not find graphic {k}\"))\n"
     ]
    },
    {
     "name": "stderr",
     "output_type": "stream",
     "text": [
      "/opt/hostedtoolcache/Python/3.9.18/x64/lib/python3.9/site-packages/arxiv_on_deck_2/latex.py:120: LatexWarning: attempting recovering figure figs/04811_stamps.png\n",
      "  warnings.warn(LatexWarning(f'attempting recovering figure {image}'))\n",
      "/opt/hostedtoolcache/Python/3.9.18/x64/lib/python3.9/site-packages/arxiv_on_deck_2/latex.py:692: LatexWarning: Could not find graphic \\includegraphics[width=\\textwidth]{figs/04811_stamps.png}\n",
      "  warnings.warn(LatexWarning(f\"Could not find graphic {k}\"))\n",
      "/opt/hostedtoolcache/Python/3.9.18/x64/lib/python3.9/site-packages/arxiv_on_deck_2/latex.py:120: LatexWarning: attempting recovering figure figs/gds-grizli-v5.1_04811.zphot.png\n",
      "  warnings.warn(LatexWarning(f'attempting recovering figure {image}'))\n",
      "/opt/hostedtoolcache/Python/3.9.18/x64/lib/python3.9/site-packages/arxiv_on_deck_2/latex.py:692: LatexWarning: Could not find graphic \\includegraphics[width=\\textwidth]{figs/gds-grizli-v5.1_04811.zphot.png}\n",
      "  warnings.warn(LatexWarning(f\"Could not find graphic {k}\"))\n",
      "/opt/hostedtoolcache/Python/3.9.18/x64/lib/python3.9/site-packages/arxiv_on_deck_2/latex.py:120: LatexWarning: attempting recovering figure figs/fig5.pdf\n",
      "  warnings.warn(LatexWarning(f'attempting recovering figure {image}'))\n",
      "/opt/hostedtoolcache/Python/3.9.18/x64/lib/python3.9/site-packages/arxiv_on_deck_2/latex.py:692: LatexWarning: Could not find graphic \\includegraphics[width=\\textwidth]{figs/fig5.pdf}\n",
      "  warnings.warn(LatexWarning(f\"Could not find graphic {k}\"))\n"
     ]
    },
    {
     "name": "stdout",
     "output_type": "stream",
     "text": [
      "Found 153 bibliographic references in tmp_2310.06887/ms.bbl.\n",
      "syntax error in line 242: '=' expected\n",
      "Retrieving document from  https://arxiv.org/e-print/2310.06898\n"
     ]
    },
    {
     "name": "stdout",
     "output_type": "stream",
     "text": [
      "extracting tarball to tmp_2310.06898..."
     ]
    },
    {
     "name": "stdout",
     "output_type": "stream",
     "text": [
      " done.\n",
      "Retrieving document from  https://arxiv.org/e-print/2310.07163\n"
     ]
    },
    {
     "name": "stderr",
     "output_type": "stream",
     "text": [
      "/tmp/ipykernel_2149/3009462391.py:49: LatexWarning: 2310.07163 did not run properly\n",
      "not a gzip file\n",
      "  warnings.warn(latex.LatexWarning(f\"{paper_id:s} did not run properly\\n\" +\n"
     ]
    },
    {
     "name": "stdout",
     "output_type": "stream",
     "text": [
      "Retrieving document from  https://arxiv.org/e-print/2310.07332\n"
     ]
    },
    {
     "name": "stdout",
     "output_type": "stream",
     "text": [
      "extracting tarball to tmp_2310.07332..."
     ]
    },
    {
     "name": "stdout",
     "output_type": "stream",
     "text": [
      " done.\n"
     ]
    },
    {
     "name": "stderr",
     "output_type": "stream",
     "text": [
      "/opt/hostedtoolcache/Python/3.9.18/x64/lib/python3.9/site-packages/arxiv_on_deck_2/latex.py:473: LatexWarning: Error parsing the document directly. Trying to recover.\n",
      "  warnings.warn(LatexWarning(f\"Error parsing the document directly. Trying to recover.\"))\n"
     ]
    },
    {
     "name": "stdout",
     "output_type": "stream",
     "text": [
      "✔ → 0:header\n",
      "  ↳ 4681:\\section{Introduction} \\label{sec:intro}\n",
      "✔ → 4681:\\section{Introduction} \\label{sec:intro}\n",
      "  ↳ 10372:\\section{Theory}\n"
     ]
    },
    {
     "name": "stdout",
     "output_type": "stream",
     "text": [
      "✘ → 10372:\\section{Theory}\n",
      "  ↳ 53286:\\section{Radiative Transfer Post Processing}\n"
     ]
    },
    {
     "name": "stdout",
     "output_type": "stream",
     "text": [
      "✔ → 53286:\\section{Radiative Transfer Post Processing}\n",
      "  ↳ 64011:\\section{Discussion}\n"
     ]
    },
    {
     "name": "stdout",
     "output_type": "stream",
     "text": [
      "✔ → 64011:\\section{Discussion}\n",
      "  ↳ 73761:\\section{Summary and Conclusions}\n",
      "✔ → 73761:\\section{Summary and Conclusions}\n",
      "  ↳ 78873:\\section{Cooling Time Derivations by Barranco et al. (2018)}\n"
     ]
    },
    {
     "name": "stdout",
     "output_type": "stream",
     "text": [
      "✔ → 78873:\\section{Cooling Time Derivations by Barranco et al. (2018)}\n",
      "  ↳ 86480:\\section{Cooling Time Maps}\n"
     ]
    },
    {
     "name": "stdout",
     "output_type": "stream",
     "text": [
      "✔ → 86480:\\section{Cooling Time Maps}\n",
      "  ↳ 97435:end\n",
      "T. Pfeil  ->  T. Pfeil  |  ['T. Pfeil']\n",
      "H. Klahr  ->  H. Klahr  |  ['H. Klahr']\n"
     ]
    },
    {
     "name": "stdout",
     "output_type": "stream",
     "text": [
      "Found 99 bibliographic references in tmp_2310.07332/main.bbl.\n",
      "Retrieving document from  https://arxiv.org/e-print/2310.07358\n"
     ]
    },
    {
     "name": "stdout",
     "output_type": "stream",
     "text": [
      "extracting tarball to tmp_2310.07358..."
     ]
    },
    {
     "name": "stdout",
     "output_type": "stream",
     "text": [
      " done.\n",
      "Retrieving document from  https://arxiv.org/e-print/2310.07714\n"
     ]
    },
    {
     "name": "stdout",
     "output_type": "stream",
     "text": [
      "extracting tarball to tmp_2310.07714... done.\n"
     ]
    },
    {
     "name": "stdout",
     "output_type": "stream",
     "text": [
      "L. Kreidberg  ->  L. Kreidberg  |  ['L. Kreidberg']\n",
      "T. Mikal-Evans  ->  T. Mikal-Evans  |  ['T. Mikal-Evans']\n"
     ]
    },
    {
     "name": "stdout",
     "output_type": "stream",
     "text": [
      "Found 55 bibliographic references in tmp_2310.07714/main.bbl.\n"
     ]
    }
   ],
   "source": [
    "documents = []\n",
    "failed = []\n",
    "for paper in tqdm(candidates):\n",
    "    paper_id = paper['identifier'].lower().replace('arxiv:', '')\n",
    "    \n",
    "    folder = f'tmp_{paper_id}'\n",
    "\n",
    "    try:\n",
    "        if not os.path.isdir(folder):\n",
    "            folder = retrieve_document_source(f\"{paper_id}\", f'tmp_{paper_id}')\n",
    "        \n",
    "        try:\n",
    "            doc = latex.LatexDocument(folder, validation=validation)    \n",
    "        except AffiliationError as affilerror:\n",
    "            msg = f\"ArXiv:{paper_id:s} is not an MPIA paper... \" + str(affilerror)\n",
    "            failed.append((paper, \"affiliation error: \" + str(affilerror) ))\n",
    "            continue\n",
    "        \n",
    "        # Hack because sometimes author parsing does not work well\n",
    "        if (len(doc.authors) != len(paper['authors'])):\n",
    "            doc._authors = paper['authors']\n",
    "        else:\n",
    "            # highlight authors (FIXME: doc.highlight_authors)\n",
    "            # done on arxiv paper already\n",
    "            doc._authors = highlight_authors_in_list(\n",
    "                [mpia.get_initials(k) for k in doc.authors], \n",
    "                normed_mpia_authors, verbose=True)\n",
    "        if (doc.abstract) in (None, ''):\n",
    "            doc._abstract = paper['abstract']\n",
    "            \n",
    "        doc.comment = (get_markdown_badge(paper_id) + \n",
    "                       \"<mark>Appeared on: \" + paper['date'] + \"</mark> - \")\n",
    "        if paper['comments']:\n",
    "            doc.comment += \" _\" + paper['comments'] + \"_\"\n",
    "        \n",
    "        full_md = doc.generate_markdown_text()\n",
    "        \n",
    "        full_md += get_markdown_qrcode(paper_id)\n",
    "        \n",
    "        # replace citations\n",
    "        try:\n",
    "            bibdata = latex_bib.LatexBib.from_doc(doc)\n",
    "            full_md = latex_bib.replace_citations(full_md, bibdata)\n",
    "        except Exception as e:\n",
    "            print(e)\n",
    "        \n",
    "        documents.append((paper_id, full_md))\n",
    "    except Exception as e:\n",
    "        warnings.warn(latex.LatexWarning(f\"{paper_id:s} did not run properly\\n\" +\n",
    "                                         str(e)\n",
    "                                        ))\n",
    "        failed.append((paper, \"latex error \" + str(e)))"
   ]
  },
  {
   "cell_type": "markdown",
   "id": "2505a25c",
   "metadata": {
    "papermill": {
     "duration": 0.005508,
     "end_time": "2023-10-12T04:06:58.662033",
     "exception": false,
     "start_time": "2023-10-12T04:06:58.656525",
     "status": "completed"
    },
    "tags": []
   },
   "source": [
    "### Export the logs\n",
    "\n",
    "Throughout, we also keep track of the logs per paper. see `logs-{today date}.md` "
   ]
  },
  {
   "cell_type": "code",
   "execution_count": 5,
   "id": "d733828a",
   "metadata": {
    "execution": {
     "iopub.execute_input": "2023-10-12T04:06:58.676233Z",
     "iopub.status.busy": "2023-10-12T04:06:58.675576Z",
     "iopub.status.idle": "2023-10-12T04:06:58.706038Z",
     "shell.execute_reply": "2023-10-12T04:06:58.705218Z"
    },
    "papermill": {
     "duration": 0.039762,
     "end_time": "2023-10-12T04:06:58.707995",
     "exception": false,
     "start_time": "2023-10-12T04:06:58.668233",
     "status": "completed"
    },
    "scrolled": false,
    "tags": []
   },
   "outputs": [
    {
     "data": {
      "text/markdown": [
       "## Successful papers"
      ],
      "text/plain": [
       "<IPython.core.display.Markdown object>"
      ]
     },
     "metadata": {},
     "output_type": "display_data"
    },
    {
     "data": {
      "text/markdown": [
       "\n",
       "|||\n",
       "|---:|:---|\n",
       "| [![arXiv](https://img.shields.io/badge/arXiv-arXiv:2310.06887-b31b1b.svg)](https://arxiv.org/abs/arXiv:2310.06887) | **FRESCO: An extended, massive, rapidly rotating galaxy at z=5.3**  |\n",
       "|| E. J. Nelson, et al. -- incl., <mark>A. d. Graaff</mark> |\n",
       "|*Appeared on*| *2023-10-12*|\n",
       "|*Comments*| *Fig. 3 shows the main result*|\n",
       "|**Abstract**| With the remarkable sensitivity and resolution of JWST in the infrared, measuring rest-optical kinematics of galaxies at $z>5$ has become possible for the first time. This study pilots a new method for measuring galaxy dynamics for highly multiplexed, unbiased samples by combining FRESCO NIRCam grism spectroscopy and JADES medium-band imaging. Here we present one of the first JWST kinematic measurements for a galaxy at $z>5$. We find a significant velocity gradient, which, if interpreted as rotation yields $V_{rot} = 240\\pm50$km/s and we hence refer to this galaxy as Twister-z5. With a rest-frame optical effective radius of $r_e=2.25$kpc, the high rotation velocity in this galaxy is not due to a compact size as may be expected in the early universe but rather a high total mass, ${\\rm log(M}_{dyn}/{\\rm M}_\\odot)=11.0\\pm0.2$. This is a factor of roughly 4x higher than the stellar mass within the effective radius. We also observe that the radial H$\\alpha$ equivalent width profile and the specific star formation rate map from resolved stellar population modeling is centrally depressed by a factor of $\\sim1.5$ from the center to $r_e$. Combined with the morphology of the line-emitting gas in comparison to the continuum, this centrally suppressed star formation is consistent with a star-forming disk surrounding a bulge growing inside-out. While large, rapidly rotating disks are common to z~2, the existence of one after only 1Gyr of cosmic time, shown for the first time in ionized gas, adds to the growing evidence that some galaxies matured earlier than expected in the history of the universe. |"
      ],
      "text/plain": [
       "[arXiv:2310.06887] FRESCO: An extended, massive, rapidly rotating galaxy at z=5.3\n",
       "\tE. J. Nelson, et al. -- incl., <mark>A. d. Graaff</mark>"
      ]
     },
     "metadata": {},
     "output_type": "display_data"
    },
    {
     "data": {
      "text/markdown": [
       "\n",
       "|||\n",
       "|---:|:---|\n",
       "| [![arXiv](https://img.shields.io/badge/arXiv-arXiv:2310.07332-b31b1b.svg)](https://arxiv.org/abs/arXiv:2310.07332) | **Dust Coagulation Reconciles Protoplanetary Disk Observations with the  Vertical Shear Instability -- Part I: Dust Coagulation and the VSI Dead Zone**  |\n",
       "|| <mark>T. Pfeil</mark>, T. Birnstiel, <mark>H. Klahr</mark> |\n",
       "|*Appeared on*| *2023-10-12*|\n",
       "|*Comments*| *27 pages, 15 figures, Accepted for publication in The Astrophysical Journal*|\n",
       "|**Abstract**| Protoplanetary disks exhibit a vertical gradient in angular momentum, rendering them susceptible to the Vertical Shear Instability (VSI). The most important condition for the onset of this mechanism is a short timescale of thermal relaxation ($\\lesssim 0.1$ orbital timescales). Simulations of fully VSI active disks are characterized by turbulent, vertically extended dust layers. This is in contradiction with recent observations of the outer regions of some protoplanetary disks, which appear highly settled. In this work, we demonstrate that the process of dust coagulation can diminish the cooling rate of the gas in the outer disk and extinct the VSI activity. Our findings indicate that the turbulence strength is especially susceptible to variations in the fragmentation velocity of the grains. A small fragmentation velocity of $\\approx 100 \\mathrm{\\, cm \\,s^{-1}}$ results in a fully turbulent simulation, whereas a value of $\\approx 400 \\mathrm{\\, cm \\,s^{-1}}$ results in a laminar outer disk, being consistent with observations. We show that VSI turbulence remains relatively unaffected by variations in the maximum particle size in the inner disk regions. However, we find that dust coagulation can significantly suppress the occurrence of VSI turbulence at larger distances from the central star. |"
      ],
      "text/plain": [
       "[arXiv:2310.07332] Dust Coagulation Reconciles Protoplanetary Disk Observations with the  Vertical Shear Instability -- Part I: Dust Coagulation and the VSI Dead Zone\n",
       "\t<mark>T. Pfeil</mark>, T. Birnstiel, <mark>H. Klahr</mark>"
      ]
     },
     "metadata": {},
     "output_type": "display_data"
    },
    {
     "data": {
      "text/markdown": [
       "\n",
       "|||\n",
       "|---:|:---|\n",
       "| [![arXiv](https://img.shields.io/badge/arXiv-arXiv:2310.07714-b31b1b.svg)](https://arxiv.org/abs/arXiv:2310.07714) | **Clouds and Clarity: Revisiting Atmospheric Feature Trends in  Neptune-size Exoplanets**  |\n",
       "|| J. Brande, et al. -- incl., <mark>L. Kreidberg</mark>, <mark>T. Mikal-Evans</mark> |\n",
       "|*Appeared on*| *2023-10-12*|\n",
       "|*Comments*| *Submitted to ApJL. 11 pages, 3 figures, 4 tables*|\n",
       "|**Abstract**| Over the last decade, precise exoplanet transmission spectroscopy has revealed the atmospheres of dozens of exoplanets, driven largely by observatories like the \\textit{Hubble} Space Telescope. One major discovery has been the ubiquity of atmospheric aerosols, often blocking access to exoplanet chemical inventories. Tentative trends have been identified, showing that the clarity of planetary atmospheres may depend on equilibrium temperature. Previous work has often grouped dissimilar planets together in order to increase the statistical power of any trends, but it remains unclear from observed transmission spectra whether these planets exhibit the same atmospheric physics and chemistry. We present a re-analysis of a smaller, more physically similar sample of 15 exo-Neptune transmission spectra across a wide range of temperatures (200-1000 K). Using condensation cloud and hydrocarbon haze models, we find that the exo-Neptune population is best described by very low cloud sedimentation efficiency ($\\mathrm{f_{sed}}\\sim0.01$) and high metallicity ($100\\times$ Solar). There is an intrinsic astrophysical scatter of $\\sim0.5$ scale height, perhaps evidence of stochasticity in these planets' formation processes. Observers should expect significant attenuation in transmission spectra of Neptune-size exoplanets, up to 6 scale heights for equilibrium temperatures between 500 and 800~K. With JWST's greater wavelength sensitivity, colder ($<500$~K) planets should be high-priority targets given their comparative rarity, clearer atmospheres, and the need to distinguish between the ``super-puffs'' and more typical gas-dominated planets. |"
      ],
      "text/plain": [
       "[arXiv:2310.07714] Clouds and Clarity: Revisiting Atmospheric Feature Trends in  Neptune-size Exoplanets\n",
       "\tJ. Brande, et al. -- incl., <mark>L. Kreidberg</mark>, <mark>T. Mikal-Evans</mark>"
      ]
     },
     "metadata": {},
     "output_type": "display_data"
    },
    {
     "data": {
      "text/markdown": [
       "## Failed papers"
      ],
      "text/plain": [
       "<IPython.core.display.Markdown object>"
      ]
     },
     "metadata": {},
     "output_type": "display_data"
    },
    {
     "data": {
      "text/markdown": [
       "\n",
       "|||\n",
       "|---:|:---|\n",
       "| [![arXiv](https://img.shields.io/badge/arXiv-arXiv:2310.06898-b31b1b.svg)](https://arxiv.org/abs/arXiv:2310.06898) | **The origin of supermassive black holes at cosmic dawn**  |\n",
       "|| R. Sharma, <mark>M. Sharma</mark> |\n",
       "|*Appeared on*| *2023-10-12*|\n",
       "|*Comments*| *9 pages, 6 figures, submitted to MNRAS, comments welcome*|\n",
       "|**Abstract**| We investigate the steady spherically symmetric accretion in the combined potential of a central black hole and a dark matter halo. For the halo, we consider a Hernquist and an NFW potential and calculate the critical points of the flow. We find that the trans-sonic solution to the centre is not possible without a black hole, whereas two types of trans-sonic solutions are possible in its presence. We also derive the mass accretion rate for a black hole at the centre of a dark matter halo. Our results indicate two phases of accretion. The first is an initial phase with a low accretion rate that depends on the black hole mass, followed by a second phase with a high accretion rate that depends on the halo mass. In the second phase, the black hole mass increases rapidly to supermassive scales, which explains the existence of quasars at redshift $z\\ge 6$ and also the recently detected supermassive black hole (SMBH) by the James Webb Space Telescope (JWST). Further, we calculate the evolution of the Eddington ratio for growing black holes. The accretion is mostly sub-Eddington except for a short super-Eddington episode when the mass accretion rate transitions from low to high. However, during that episode, the black hole mass is likely inadequate to hinder accretion through radiative feedback. |\n",
       "|<p style=\"color:green\"> **ERROR** </p>| <p style=\"color:green\">affiliation error: mpia.affiliation_verifications: 'Heidelberg' keyword not found.</p> |"
      ],
      "text/plain": [
       "<IPython.core.display.Markdown object>"
      ]
     },
     "metadata": {},
     "output_type": "display_data"
    },
    {
     "data": {
      "text/markdown": [
       "\n",
       "|||\n",
       "|---:|:---|\n",
       "| [![arXiv](https://img.shields.io/badge/arXiv-arXiv:2310.07358-b31b1b.svg)](https://arxiv.org/abs/arXiv:2310.07358) | **CMB delensing with deep learning**  |\n",
       "|| S. Ni, Y. Li, <mark>X. Zhang</mark> |\n",
       "|*Appeared on*| *2023-10-12*|\n",
       "|*Comments*| *10 pages, 10 figures*|\n",
       "|**Abstract**| The cosmic microwave background (CMB) provides an important source for the study of weak gravitational lensing. The lensed CMB can be used to constrain cosmological parameters, but it also has smoothing effect on the original CMB. The angular power spectrum of the unlensed CMB has sharper acoustic peaks and more prominent damping tails, allowing for improved inferences of cosmological parameters affecting these characteristics. Although delensing reduces the B-mode power spectrum, it aids the search for primordial gravitational waves and allows for lower variance reconstruction of lensing and other sources of secondary CMB anisotropies. In this work, we investigate whether the deep learning methods, concretely the U-Net++ algorithm here, can play a crucial role in CMB delensing. We consider three fields, i.e., T, Q and U sky maps, present the angular power spectra of CMB delensed TT, EE and BB, and compare them with the unlensed CMB angular power spectra. The results show that the angular power spectrum of the lensed CMB processed by U-Net++ is in great agreement with the unlensed CMB angular power spectrum. Therefore, the U-Net++ based CMB delensing can efficiently eliminate the effects caused by weak gravitational lensing and shed new light on the CMB power spectrum for future CMB experiments. |\n",
       "|<p style=\"color:green\"> **ERROR** </p>| <p style=\"color:green\">affiliation error: mpia.affiliation_verifications: 'Heidelberg' keyword not found.</p> |"
      ],
      "text/plain": [
       "<IPython.core.display.Markdown object>"
      ]
     },
     "metadata": {},
     "output_type": "display_data"
    },
    {
     "data": {
      "text/markdown": [
       "\n",
       "|||\n",
       "|---:|:---|\n",
       "| [![arXiv](https://img.shields.io/badge/arXiv-arXiv:2310.07163-b31b1b.svg)](https://arxiv.org/abs/arXiv:2310.07163) | **The Qitai Radio Telescope**  |\n",
       "|| N. Wang, et al. -- incl., <mark>K. Lee</mark> |\n",
       "|*Appeared on*| *2023-10-12*|\n",
       "|*Comments*| *12 pages, 11 figures, accepted for publication in Science China Physics, Mechanics & Astronomy*|\n",
       "|**Abstract**| This study presents a general outline of the Qitai radio telescope (QTT) project. Qitai, the site of the telescope, is a county of Xinjiang Uygur Autonomous Region of China, located in the east Tianshan Mountains at an elevation of about 1800 m. The QTT is a fully steerable, Gregorian type telescope with a standard parabolic main reflector of 110 m diameter. The QTT has adopted an um-brella support, homology-symmetric lightweight design. The main reflector is active so that the deformation caused by gravity can be corrected. The structural design aims to ultimately allow high-sensitivity observations from 150 MHz up to 115 GHz. To satisfy the requirements for early scientific goals, the QTT will be equipped with ultra-wideband receivers and large field-of-view mul-ti-beam receivers. A multi-function signal-processing system based on RFSoC and GPU processor chips will be developed. These will enable the QTT to operate in pulsar, spectral line, continuum and Very Long Baseline Interferometer (VLBI) observing modes. Electromagnetic compatibility (EMC) and radio frequency interference (RFI) control techniques are adopted throughout the system design. The QTT will form a world-class observational platform for the detection of low-frequency (nanoHertz) gravitational waves through pulsar timing array (PTA) techniques, pulsar surveys, the discovery of binary black-hole systems, and exploring dark matter and the origin of life in the universe. |\n",
       "|<p style=\"color:red\"> **ERROR** </p>| <p style=\"color:red\">latex error not a gzip file</p> |"
      ],
      "text/plain": [
       "<IPython.core.display.Markdown object>"
      ]
     },
     "metadata": {},
     "output_type": "display_data"
    }
   ],
   "source": [
    "import datetime\n",
    "today = str(datetime.date.today())\n",
    "logfile = f\"_build/html/logs/log-{today}.md\"\n",
    "\n",
    "\n",
    "with open(logfile, 'w') as logs:\n",
    "    # Success\n",
    "    logs.write(f'# Arxiv on Deck 2: Logs - {today}\\n\\n')\n",
    "    logs.write(\"\"\"* Arxiv had {0:,d} new papers\\n\"\"\".format(len(new_papers)))\n",
    "    logs.write(\"\"\"    * {0:,d} with possible author matches\\n\\n\"\"\".format(len(candidates)))\n",
    "    logs.write(\"## Sucessful papers\\n\\n\")\n",
    "    display(Markdown(\"## Successful papers\"))\n",
    "    success = [k[0] for k in documents]\n",
    "    for candid in candidates:\n",
    "        if candid['identifier'].split(':')[-1] in success:\n",
    "            display(candid)\n",
    "            logs.write(candid.generate_markdown_text() + '\\n\\n')\n",
    "\n",
    "    ## failed\n",
    "    logs.write(\"## Failed papers\\n\\n\")\n",
    "    display(Markdown(\"## Failed papers\"))\n",
    "    failed = sorted(failed, key=lambda x: x[1])\n",
    "    current_reason = \"\"\n",
    "    for paper, reason in failed:\n",
    "        if 'affiliation' in reason:\n",
    "            color = 'green'\n",
    "        else:\n",
    "            color = 'red'\n",
    "        data = Markdown(\n",
    "                paper.generate_markdown_text() + \n",
    "                f'\\n|<p style=\"color:{color:s}\"> **ERROR** </p>| <p style=\"color:{color:s}\">{reason:s}</p> |'\n",
    "               )\n",
    "        if reason != current_reason:\n",
    "            logs.write(f'### {reason:s} \\n\\n')\n",
    "            current_reason = reason\n",
    "        logs.write(data.data + '\\n\\n')\n",
    "        \n",
    "        # only display here the important errors (all in logs)\n",
    "        # if color in ('red',):\n",
    "        display(data)"
   ]
  },
  {
   "cell_type": "markdown",
   "id": "472d20ee",
   "metadata": {
    "papermill": {
     "duration": 0.006823,
     "end_time": "2023-10-12T04:06:58.721114",
     "exception": false,
     "start_time": "2023-10-12T04:06:58.714291",
     "status": "completed"
    },
    "tags": []
   },
   "source": [
    "## Export documents\n",
    "\n",
    "We now write the .md files and export relevant images"
   ]
  },
  {
   "cell_type": "code",
   "execution_count": 6,
   "id": "d426aed9",
   "metadata": {
    "execution": {
     "iopub.execute_input": "2023-10-12T04:06:58.735444Z",
     "iopub.status.busy": "2023-10-12T04:06:58.734819Z",
     "iopub.status.idle": "2023-10-12T04:06:58.742188Z",
     "shell.execute_reply": "2023-10-12T04:06:58.741486Z"
    },
    "papermill": {
     "duration": 0.016365,
     "end_time": "2023-10-12T04:06:58.743789",
     "exception": false,
     "start_time": "2023-10-12T04:06:58.727424",
     "status": "completed"
    },
    "tags": []
   },
   "outputs": [],
   "source": [
    "def export_markdown_summary(md: str, md_fname:str, directory: str):\n",
    "    \"\"\"Export MD document and associated relevant images\"\"\"\n",
    "    import os\n",
    "    import shutil\n",
    "    import re\n",
    "\n",
    "    if (os.path.exists(directory) and not os.path.isdir(directory)):\n",
    "        raise RuntimeError(f\"a non-directory file exists with name {directory:s}\")\n",
    "\n",
    "    if (not os.path.exists(directory)):\n",
    "        print(f\"creating directory {directory:s}\")\n",
    "        os.mkdir(directory)\n",
    "\n",
    "    fig_fnames = (re.compile(r'\\[Fig.*\\]\\((.*)\\)').findall(md) + \n",
    "                  re.compile(r'\\<img src=\"([^>\\s]*)\"[^>]*/>').findall(md))\n",
    "    for fname in fig_fnames:\n",
    "        if 'http' in fname:\n",
    "            # No need to copy online figures\n",
    "            continue\n",
    "        destdir = os.path.join(directory, os.path.dirname(fname))\n",
    "        destfname = os.path.join(destdir, os.path.basename(fname))\n",
    "        try:\n",
    "            os.makedirs(destdir)\n",
    "        except FileExistsError:\n",
    "            pass\n",
    "        shutil.copy(fname, destfname)\n",
    "    with open(os.path.join(directory, md_fname), 'w') as fout:\n",
    "        fout.write(md)\n",
    "    print(\"exported in \", os.path.join(directory, md_fname))\n",
    "    [print(\"    + \" + os.path.join(directory,fk)) for fk in fig_fnames]"
   ]
  },
  {
   "cell_type": "code",
   "execution_count": 7,
   "id": "014d04a4",
   "metadata": {
    "execution": {
     "iopub.execute_input": "2023-10-12T04:06:58.758045Z",
     "iopub.status.busy": "2023-10-12T04:06:58.757641Z",
     "iopub.status.idle": "2023-10-12T04:06:58.768257Z",
     "shell.execute_reply": "2023-10-12T04:06:58.767563Z"
    },
    "papermill": {
     "duration": 0.019803,
     "end_time": "2023-10-12T04:06:58.769807",
     "exception": false,
     "start_time": "2023-10-12T04:06:58.750004",
     "status": "completed"
    },
    "tags": []
   },
   "outputs": [
    {
     "name": "stdout",
     "output_type": "stream",
     "text": [
      "exported in  _build/html/2310.06887.md\n",
      "    + _build/html/tmp_2310.06887/./figs_v2/sfms_v2.png\n",
      "    + _build/html/tmp_2310.06887/./figs_v2/mb_hamap.png\n",
      "    + _build/html/tmp_2310.06887/./figs_v2/rot_ims_21jul23.png\n",
      "    + _build/html/tmp_2310.06887/./figs_v2/rotcurves_21jul23.png\n",
      "exported in  _build/html/2310.07332.md\n",
      "    + _build/html/tmp_2310.07332/./radmcCompareAlphaAndVSI200_AnaModel_Linear.png\n",
      "    + _build/html/tmp_2310.07332/./radmcCompareAlphaAndVSI400_AnaModel_Linear.png\n",
      "    + _build/html/tmp_2310.07332/./radmcCompareAlphaAndVSI100_AnaModel_Linear.png\n",
      "exported in  _build/html/2310.07714.md\n",
      "    + _build/html/tmp_2310.07714/./combined_comparison_3amu.png\n",
      "    + _build/html/tmp_2310.07714/./rainbow_stack_3amu.png\n",
      "    + _build/html/tmp_2310.07714/./trend_sample.png\n"
     ]
    }
   ],
   "source": [
    "for paper_id, md in documents:\n",
    "    export_markdown_summary(md, f\"{paper_id:s}.md\", '_build/html/')"
   ]
  },
  {
   "cell_type": "markdown",
   "id": "f087a0a7",
   "metadata": {
    "papermill": {
     "duration": 0.006332,
     "end_time": "2023-10-12T04:06:58.782725",
     "exception": false,
     "start_time": "2023-10-12T04:06:58.776393",
     "status": "completed"
    },
    "tags": []
   },
   "source": [
    "## Display the papers\n",
    "\n",
    "Not necessary but allows for a quick check."
   ]
  },
  {
   "cell_type": "code",
   "execution_count": 8,
   "id": "fd25f625",
   "metadata": {
    "execution": {
     "iopub.execute_input": "2023-10-12T04:06:58.797935Z",
     "iopub.status.busy": "2023-10-12T04:06:58.797480Z",
     "iopub.status.idle": "2023-10-12T04:06:58.806103Z",
     "shell.execute_reply": "2023-10-12T04:06:58.805315Z"
    },
    "papermill": {
     "duration": 0.017861,
     "end_time": "2023-10-12T04:06:58.807894",
     "exception": false,
     "start_time": "2023-10-12T04:06:58.790033",
     "status": "completed"
    },
    "scrolled": false,
    "tags": []
   },
   "outputs": [
    {
     "data": {
      "text/markdown": [
       "<div class=\"macros\" style=\"visibility:hidden;\">\n",
       "$\\newcommand{\\ensuremath}{}$\n",
       "$\\newcommand{\\xspace}{}$\n",
       "$\\newcommand{\\object}[1]{\\texttt{#1}}$\n",
       "$\\newcommand{\\farcs}{{.}''}$\n",
       "$\\newcommand{\\farcm}{{.}'}$\n",
       "$\\newcommand{\\arcsec}{''}$\n",
       "$\\newcommand{\\arcmin}{'}$\n",
       "$\\newcommand{\\ion}[2]{#1#2}$\n",
       "$\\newcommand{\\textsc}[1]{\\textrm{#1}}$\n",
       "$\\newcommand{\\hl}[1]{\\textrm{#1}}$\n",
       "$\\newcommand{\\footnote}[1]{}$\n",
       "$\\newcommand{\\vdag}{(v)^\\dagger}$\n",
       "$\\newcommand$\n",
       "$\\newcommand$\n",
       "$\\newcommand{\\ha}{H\\alpha\\xspace}$\n",
       "$\\newcommand{\\mstar}{M_*\\xspace}$\n",
       "$\\newcommand{\\msun}{M_\\odot\\xspace}$\n",
       "$\\newcommand{\\twister}{Twister-z5}$</div>\n",
       "\n",
       "\n",
       "\n",
       "<div id=\"title\">\n",
       "\n",
       "# FRESCO: An extended, massive, rapidly rotating galaxy at $z=5.3$\n",
       "\n",
       "</div>\n",
       "<div id=\"comments\">\n",
       "\n",
       "[![arXiv](https://img.shields.io/badge/arXiv-2310.06887-b31b1b.svg)](https://arxiv.org/abs/2310.06887)<mark>Appeared on: 2023-10-12</mark> -  _Fig. 3 shows the main result_\n",
       "\n",
       "</div>\n",
       "<div id=\"authors\">\n",
       "\n",
       "E. Nelson, et al. -- incl., <mark>A. d. Graaff</mark>\n",
       "\n",
       "</div>\n",
       "<div id=\"abstract\">\n",
       "\n",
       "**Abstract:** With the remarkable sensitivity and resolution of JWST in the infrared, measuring rest-optical kinematics of galaxies at $z>5$ has become possible for the first time. This study pilots a new method for measuring galaxy dynamics for highly multiplexed, unbiased samples by combining FRESCO NIRCam grism spectroscopy and JADES medium-band imaging. Here we present one of the first JWST kinematic measurements for a galaxy at $z>5$ . We find a significant velocity gradient, which, if interpreted as rotation yields $V_{rot} = 240\\pm50$ km/s and we hence refer to this galaxy as Twister-z5. With a rest-frame optical effective radius of $r_e=2.25$ kpc, the high rotation velocity in this galaxy is not due to a compact size as may be expected in the early universe but rather a high total mass, ${\\rm log(M}_{dyn}/{\\rm M}_\\odot)=11.0\\pm0.2$ . This is a factor of roughly 4 $\\times$ higher than the stellar mass within $r_e$ . We also observe that the radial H $\\alpha$ equivalent width profile and the specific star formation rate map from resolved stellar population modeling is centrally depressed by a factor of $\\sim1.5$ from the center to $r_e$ . Combined with the morphology of the line-emitting gas in comparison to the continuum, this centrally suppressed star formation is consistent with a star-forming disk surrounding a bulge growing inside-out. While large, rapidly rotating disks are common to $z\\sim2$ , the existence of one after only 1Gyr of cosmic time, shown for the first time in ionized gas, adds to the growing evidence that some galaxies matured earlier than expected in the history of the universe.\n",
       "\n",
       "</div>\n",
       "\n",
       "<div id=\"div_fig1\">\n",
       "\n",
       "<img src=\"tmp_2310.06887/./figs_v2/sfms_v2.png\" alt=\"Fig3\" width=\"100%\"/>\n",
       "\n",
       "**Figure 3. -** Star-forming main sequence for galaxies with grism spectroscopic redshifts $4.5<z<6$ in FRESCO with detected $\\ha$. Star formation rates are computed from the measured $\\ha$ fluxes corrected for dust attenuation using empirical relations based on the UV slope \\citep{shivaei:20}. A fit to the SFMS from \\cite{speagle:14} is indicated by the red line for context. The typical measurement error is indicated by the cross in the lower right corner. $\\twister$, the galaxy featured in the present study, is at the very massive end of this distribution on the upper end of a continuation of the locus of points. (*fig:sfms*)\n",
       "\n",
       "</div>\n",
       "<div id=\"div_fig2\">\n",
       "\n",
       "<img src=\"tmp_2310.06887/./figs_v2/mb_hamap.png\" alt=\"Fig6\" width=\"100%\"/>\n",
       "\n",
       "**Figure 6. -** We infer the spatial distribution of $\\ha$(right) from the difference between the F444W broadband filter (center) and F410M medium band filter (left) which covers the $\\ha$ emission line at this redshift. The circle in the middle panel shows the size (FWHM) of the PSF. (*fig:mbha*)\n",
       "\n",
       "</div>\n",
       "<div id=\"div_fig3\">\n",
       "\n",
       "<img src=\"tmp_2310.06887/./figs_v2/rot_ims_21jul23.png\" alt=\"Fig7.1\" width=\"50%\"/><img src=\"tmp_2310.06887/./figs_v2/rotcurves_21jul23.png\" alt=\"Fig7.2\" width=\"50%\"/>\n",
       "\n",
       "**Figure 7. -** Velocity gradient.  As  described  in \\S\\ref{kinematics}, we fit the light weighted center along the x-axis in the grism image, which corresponds to the dispersion direction (left), F444W direct image (center), and a stack of the rest-frame UV emission (right).\n",
       "    The grism has a spectral resolution of $R\\sim1600$, meaning that the grism spectrum contains both spatial and spectral information across in the dispersion direction. The difference between the grism and direct image centroids is the velocity in that spatial pixel. The error bars on the velocity curve are given by the difference between using the rest-UV emission and F444W direct image. (*fig:kinmodel*)\n",
       "\n",
       "</div><div id=\"qrcode\"><img src=https://api.qrserver.com/v1/create-qr-code/?size=100x100&data=\"https://arxiv.org/abs/2310.06887\"></div>"
      ],
      "text/plain": [
       "<IPython.core.display.Markdown object>"
      ]
     },
     "metadata": {},
     "output_type": "display_data"
    },
    {
     "data": {
      "text/markdown": [
       "<div class=\"macros\" style=\"visibility:hidden;\">\n",
       "$\\newcommand{\\ensuremath}{}$\n",
       "$\\newcommand{\\xspace}{}$\n",
       "$\\newcommand{\\object}[1]{\\texttt{#1}}$\n",
       "$\\newcommand{\\farcs}{{.}''}$\n",
       "$\\newcommand{\\farcm}{{.}'}$\n",
       "$\\newcommand{\\arcsec}{''}$\n",
       "$\\newcommand{\\arcmin}{'}$\n",
       "$\\newcommand{\\ion}[2]{#1#2}$\n",
       "$\\newcommand{\\textsc}[1]{\\textrm{#1}}$\n",
       "$\\newcommand{\\hl}[1]{\\textrm{#1}}$\n",
       "$\\newcommand{\\footnote}[1]{}$\n",
       "$\\newcommand{\\expnum}[1]{\\num[scientific-notation=true, exponent-product=\\times, round-mode=places, round-precision=2]{#1}}$\n",
       "$\\newcommand{\\rev}[1]{{#1}}$\n",
       "$\\newcommand{\\hubert}[1]{{#1}}$\n",
       "$\\newcommand{\\report}[1]{{{#1}}}$\n",
       "$\\newcommand{\\reporttwo}[1]{{{#1}}}$\n",
       "$\\newcommand{\\rhog}{\\rho_{\\mathrm{g}}}$\n",
       "$\\newcommand{\\rhod}{\\rho_{\\mathrm{d}}}$\n",
       "$\\newcommand{\\vg}{\\vec{v}_{\\mathrm{g}}}$\n",
       "$\\newcommand{\\vd}{\\vec{v}_{\\mathrm{d}}}$\n",
       "$\\newcommand{\\amax}{a_{\\mathrm{max}}}$\n",
       "$\\newcommand{\\amin}{a_{\\mathrm{min}}}$\n",
       "$\\newcommand{\\aint}{a_{\\mathrm{int}}}$\n",
       "$\\newcommand{\\adr}{a_{\\mathrm{dr}}}$\n",
       "$\\newcommand{\\vdr}{v_{\\mathrm{dr}}}$\n",
       "$\\newcommand{\\tfr}{t_\\mathrm{fric}}$\n",
       "$\\newcommand{\\St}{\\mathrm{St}}$\n",
       "$\\newcommand{\\Rey}{\\mathfrak{Re}}$\n",
       "$\\newcommand{\\OmK}{\\Omega_\\mathrm{K}}$\n",
       "$\\newcommand{\\der}[2]{\\frac{\\partial{#1}}{\\partial{#2}}}$\n",
       "$\\newcommand{\\hd}{h_{\\mathrm{d}}}$\n",
       "$\\newcommand{\\Mp}{m_{\\mathrm{p}}}$\n",
       "$\\newcommand{\\Sd}{\\Sigma_{\\mathrm{d}}}$\n",
       "$\\newcommand{\\planck}{\\kappa_{\\mathrm{P}}}$\n",
       "$\\newcommand{\\dpy}{{\\normalfont\\texttt{DustPy}}}$\n",
       "$\\newcommand{\\pluto}{{\\normalfont\\texttt{PLUTO}}}$\n",
       "$\\newcommand{\\radmc}{{\\normalfont\\texttt{RADMC-3D}}}$\n",
       "$\\newcommand{\\tpop}{{\\normalfont\\texttt{2pop}}}$\n",
       "$\\newcommand{\\noref}{{\\textbf{\\color{red}!!!}}}$\n",
       "$\\newcommand{\\equationautorefname}{Equation}$\n",
       "$\\newcommand{\\figureautorefname}{Figure}$\n",
       "$\\newcommand{\\subsectionautorefname}{Section}$\n",
       "$\\newcommand{\\sectionautorefname}{Section}$\n",
       "$\\newcommand{\\tableautorefname}{Table}$</div>\n",
       "\n",
       "\n",
       "\n",
       "<div id=\"title\">\n",
       "\n",
       "# Dust Coagulation Reconciles Protoplanetary Disk Observations with the Vertical Shear Instability $\\$$\\footnotesize$ Part I: Dust Coagulation and the VSI Dead Zone\n",
       "\n",
       "</div>\n",
       "<div id=\"comments\">\n",
       "\n",
       "[![arXiv](https://img.shields.io/badge/arXiv-2310.07332-b31b1b.svg)](https://arxiv.org/abs/2310.07332)<mark>Appeared on: 2023-10-12</mark> -  _27 pages, 15 figures, Accepted for publication in The Astrophysical Journal_\n",
       "\n",
       "</div>\n",
       "<div id=\"authors\">\n",
       "\n",
       "<mark>T. Pfeil</mark>, T. Birnstiel, <mark>H. Klahr</mark>\n",
       "\n",
       "</div>\n",
       "<div id=\"abstract\">\n",
       "\n",
       "**Abstract:** Protoplanetary disks exhibit a vertical gradient in angular momentum, rendering them susceptible to the Vertical Shear Instability (VSI). The most important condition for the onset of this mechanism is a short timescale of thermal relaxation ( $\\lesssim 0.1$ orbital timescales). Simulations of fully VSI active disks are characterized by turbulent, vertically extended dust layers. This is in contradiction with recent observations of the outer regions of some protoplanetary disks, which appear highly settled.In this work, we demonstrate that the process of dust coagulation can diminish the cooling rate of the gas in the outer disk and extinct the VSI activity.Our findings indicate that the turbulence strength is especially susceptible to variations in the fragmentation velocity of the grains.A small fragmentation velocity of $\\report{$\\approx$}$ $\\SI{100}{\\centi \\meter \\per \\second}$ results in a fully turbulent simulation, whereas a value of $\\report{$\\approx$}$ $\\SI{400}{\\centi \\meter \\per \\second}$ results in a laminar outer disk, being consistent with observations.We show that VSI turbulence remains relatively unaffected by variations in the maximum particle size in the inner disk regions. However, we find that dust coagulation can significantly suppress the occurrence of VSI turbulence at larger distances from the central star.\n",
       "\n",
       "</div>\n",
       "\n",
       "<div id=\"div_fig1\">\n",
       "\n",
       "<img src=\"tmp_2310.07332/./radmcCompareAlphaAndVSI200_AnaModel_Linear.png\" alt=\"Fig7\" width=\"100%\"/>\n",
       "\n",
       "**Figure 7. -** Upper row a: $\\radmc$  intensity maps of our VSI simulation with $v_\\mathrm{fr}=\\SI{200}{\\centi \\meter \\per \\second}$ and $\\alpha=10^{-3}$, seen edge-on.\n",
       "    Rows b, c, and d show intensity maps calculated from analytic dust distribution that assume different diffusivities $\\delta$. The grain sizes are identical in all simulations.\n",
       "    We convolve the images with a typical ALMA beam with FWHM of \\SI{35}{mas} for a distance of \\SI{100}{pc} shown as a grey circle.\n",
       "    Hatched areas mark regions that have optical depth $\\tau\\geq 1$. Horizontal hatches correspond to areas for which the $\\tau=1$ surface lies on the far side of the disk.\n",
       "    Diagonally hatched regions mark $\\tau=1$ surfaces that lie on the observer's side of the disk.\n",
       "    The panels on the right-hand side show minor axis cuts through the images along the vertical lines in the intensity maps. $\\report${Purple lines in all plots are the minor axis cuts from the VSI simulation (panel a).} (*fig:radmc200*)\n",
       "\n",
       "</div>\n",
       "<div id=\"div_fig2\">\n",
       "\n",
       "<img src=\"tmp_2310.07332/./radmcCompareAlphaAndVSI400_AnaModel_Linear.png\" alt=\"Fig8\" width=\"100%\"/>\n",
       "\n",
       "**Figure 8. -** Upper row a: $\\radmc$  intensity maps of our VSI simulation with $v_\\mathrm{fr}=\\SI{400}{\\centi \\meter \\per \\second}$ and $\\alpha=10^{-3}$, seen edge-on.\n",
       "    Rows b, c, and d show intensity maps calculated from analytic dust distribution that assume different diffusivities $\\delta$. The grain sizes are identical in all simulations.\n",
       "    We convolve the images with a typical ALMA beam with FWHM of \\SI{35}{mas} for a distance of \\SI{100}{pc} shown as a grey circle.\n",
       "    Hatched areas mark regions that have optical depth $\\tau\\geq 1$. Horizontal hatches correspond to areas for which the $\\tau=1$ surface lies on the far side of the disk.\n",
       "    Diagonally hatched regions mark $\\tau=1$ surfaces that lie on the observer's side of the disk.\n",
       "    The panels on the right-hand side show minor axis cuts through the images along the vertical lines in the intensity maps. $\\report${Purple lines in all plots are the minor axis cuts from the VSI simulation (panel a).} (*fig:radmc400*)\n",
       "\n",
       "</div>\n",
       "<div id=\"div_fig3\">\n",
       "\n",
       "<img src=\"tmp_2310.07332/./radmcCompareAlphaAndVSI100_AnaModel_Linear.png\" alt=\"Fig6\" width=\"100%\"/>\n",
       "\n",
       "**Figure 6. -** Upper row a: $\\radmc$  intensity maps of our VSI simulation with $v_\\mathrm{fr}=\\SI{100}{\\centi \\meter \\per \\second}$ and $\\alpha=10^{-3}$, seen edge-on.\n",
       "    Rows b, c, and d show intensity maps calculated from analytic dust distribution that assume different diffusivities $\\delta$. The grain sizes are identical in all simulations.\n",
       "    We convolve the images with a typical ALMA beam with FWHM of \\SI{35}{mas} for a distance of \\SI{100}{pc} shown as a grey circle.\n",
       "    Hatched areas mark regions that have optical depth $\\tau\\geq 1$. Horizontal hatches correspond to areas for which the $\\tau=1$ surface lies on the far side of the disk.\n",
       "    Diagonally hatched regions mark $\\tau=1$ surfaces that lie on the observer's side of the disk.\n",
       "    The panels on the right-hand side show minor axis cuts through the images along the vertical lines in the intensity maps. $\\report${Purple lines in all plots are the minor axis cuts from the VSI simulation (panel a).} (*fig:radmc100*)\n",
       "\n",
       "</div><div id=\"qrcode\"><img src=https://api.qrserver.com/v1/create-qr-code/?size=100x100&data=\"https://arxiv.org/abs/2310.07332\"></div>"
      ],
      "text/plain": [
       "<IPython.core.display.Markdown object>"
      ]
     },
     "metadata": {},
     "output_type": "display_data"
    },
    {
     "data": {
      "text/markdown": [
       "<div class=\"macros\" style=\"visibility:hidden;\">\n",
       "$\\newcommand{\\ensuremath}{}$\n",
       "$\\newcommand{\\xspace}{}$\n",
       "$\\newcommand{\\object}[1]{\\texttt{#1}}$\n",
       "$\\newcommand{\\farcs}{{.}''}$\n",
       "$\\newcommand{\\farcm}{{.}'}$\n",
       "$\\newcommand{\\arcsec}{''}$\n",
       "$\\newcommand{\\arcmin}{'}$\n",
       "$\\newcommand{\\ion}[2]{#1#2}$\n",
       "$\\newcommand{\\textsc}[1]{\\textrm{#1}}$\n",
       "$\\newcommand{\\hl}[1]{\\textrm{#1}}$\n",
       "$\\newcommand{\\footnote}[1]{}$\n",
       "$\\newcommand{\\vdag}{(v)^\\dagger}$\n",
       "$\\newcommand$\n",
       "$\\newcommand$\n",
       "$\\newcommand{\\hst}{\\textit{HST}}$\n",
       "$\\newcommand{\\jwst}{\\textit{JWST}}$\n",
       "$\\newcommand{\\tess}{\\textit{TESS}}$\n",
       "$\\newcommand{\\rearth}{R_\\oplus}$\n",
       "$\\newcommand{\\mearth}{M_\\oplus}$\n",
       "$\\newcommand{\\rsun}{R_\\odot}$\n",
       "$\\newcommand{\\msun}{M_\\odot}$\n",
       "$\\newcommand{\\um}{\\mum}$\n",
       "$\\newcommand{\\ah}{A_{H}}$\n",
       "$\\newcommand{\\water}{\\mathrm{H}_2\\mathrm{O}}$\n",
       "$\\newcommand{\\methane}{\\mathrm{CH}_4}$\n",
       "$\\newcommand{\\dioxide}{\\mathrm{CO}_2}$\n",
       "$\\newcommand{\\ammonia}{\\mathrm{NH}_3}$</div>\n",
       "\n",
       "\n",
       "\n",
       "<div id=\"title\">\n",
       "\n",
       "# Clouds and Clarity: Revisiting Atmospheric Feature Trends in Neptune-size Exoplanets\n",
       "\n",
       "</div>\n",
       "<div id=\"comments\">\n",
       "\n",
       "[![arXiv](https://img.shields.io/badge/arXiv-2310.07714-b31b1b.svg)](https://arxiv.org/abs/2310.07714)<mark>Appeared on: 2023-10-12</mark> -  _Submitted to ApJL. 11 pages, 3 figures, 4 tables_\n",
       "\n",
       "</div>\n",
       "<div id=\"authors\">\n",
       "\n",
       "J. Brande, et al. -- incl., <mark>L. Kreidberg</mark>, <mark>T. Mikal-Evans</mark>\n",
       "\n",
       "</div>\n",
       "<div id=\"abstract\">\n",
       "\n",
       "**Abstract:** Over the last decade, precise exoplanet transmission spectroscopy has revealed the atmospheres of dozens of exoplanets, driven largely by observatories like the _Hubble_ Space Telescope. One major discovery has been the ubiquity of atmospheric aerosols, often blocking access to exoplanet chemical inventories. Tentative trends have been identified, showing that the clarity of planetary atmospheres may depend on equilibrium temperature. Previous work has often grouped dissimilar planets together in order to increase the statistical power of any trends, but it remains unclear from observed transmission spectra whether these planets exhibit the same atmospheric physics and chemistry. We present a re-analysis of a smaller, more physically similar sample of 15 exo-Neptune transmission spectra across a wide range of temperatures (200-1000 K). Using condensation cloud and hydrocarbon haze models, we find that the exo-Neptune population is best described by very low cloud sedimentation efficiency ( $\\mathrm{f_{sed}}\\sim0.01$ ) and high metallicity ( $100\\times$ Solar). There is an intrinsic astrophysical scatter of $\\sim0.5$ scale height, perhaps evidence of stochasticity in these planets’ formation processes. Observers should expect significant attenuation in transmission spectra of Neptune-size exoplanets, up to 6 scale heights for equilibrium temperatures between 500 and 800 K. With $\\jwst$ ’s greater wavelength sensitivity, colder ( $<500$ K) planets should be high-priority targets given their comparative rarity, clearer atmospheres, and the need to distinguish between the \"super-puffs’’ and more typical gas-dominated planets.\n",
       "\n",
       "</div>\n",
       "\n",
       "<div id=\"div_fig1\">\n",
       "\n",
       "<img src=\"tmp_2310.07714/./combined_comparison_3amu.png\" alt=\"Fig3\" width=\"100%\"/>\n",
       "\n",
       "**Figure 3. -** Retrieved spectral feature amplitude, $\\ah$ , compared to clear, cloudy, and hazy atmosphere models from [Morley, Fortney and Marley (2015)](). For the clear and cloudy models, the dotted lines indicate a $100\\times$ Solar metallicity atmosphere, and the dot-dashed lines a $300\\times$ Solar atmosphere. All hazy models were calculated at $50\\times$ Solar metallicity, the dotted lines are 1\\% haze precursor conversion, and the dashed lines are 10\\%. The green open markers, shown for context, are the measured $\\methane$ -retrieved $\\ah$  values for K2-18 b and TOI-270 d. The black open markers, shown for context, are the Kepler-51 planets, which are excluded from the trend analysis due to their exceptionally low densities, and GJ 1214 b, which was found to significantly bias the trend fit due to the extremely precise flatness of its spectrum. (*fig:clear_compare*)\n",
       "\n",
       "</div>\n",
       "<div id=\"div_fig2\">\n",
       "\n",
       "<img src=\"tmp_2310.07714/./rainbow_stack_3amu.png\" alt=\"Fig2\" width=\"100%\"/>\n",
       "\n",
       "**Figure 2. -** All $\\hst$ /WFC3 G141 transmission spectra of our exo-Neptunes, scaled to show the relative $\\ah$  values. The retrieved models are colored by the planetary equilibrium temperature, and the spectra are ordered by $\\ah$ . (*fig:spectra_stack*)\n",
       "\n",
       "</div>\n",
       "<div id=\"div_fig3\">\n",
       "\n",
       "<img src=\"tmp_2310.07714/./trend_sample.png\" alt=\"Fig1\" width=\"100%\"/>\n",
       "\n",
       "**Figure 1. -** This work's sample overlaid with known transiting planets. Hexagons indicate planets in our sample also being observed by $\\jwst$  through Cycle 2, while triangles are not yet scheduled or approved for $\\jwst$  observations. Selected targets have been labeled. (*fig:my_label*)\n",
       "\n",
       "</div><div id=\"qrcode\"><img src=https://api.qrserver.com/v1/create-qr-code/?size=100x100&data=\"https://arxiv.org/abs/2310.07714\"></div>"
      ],
      "text/plain": [
       "<IPython.core.display.Markdown object>"
      ]
     },
     "metadata": {},
     "output_type": "display_data"
    }
   ],
   "source": [
    "[display(Markdown(k[1])) for k in documents];"
   ]
  },
  {
   "cell_type": "markdown",
   "id": "873873a4",
   "metadata": {
    "papermill": {
     "duration": 0.008301,
     "end_time": "2023-10-12T04:06:58.824040",
     "exception": false,
     "start_time": "2023-10-12T04:06:58.815739",
     "status": "completed"
    },
    "tags": []
   },
   "source": [
    "# Create HTML index"
   ]
  },
  {
   "cell_type": "code",
   "execution_count": 9,
   "id": "cf665672",
   "metadata": {
    "execution": {
     "iopub.execute_input": "2023-10-12T04:06:58.841148Z",
     "iopub.status.busy": "2023-10-12T04:06:58.840889Z",
     "iopub.status.idle": "2023-10-12T04:06:58.853883Z",
     "shell.execute_reply": "2023-10-12T04:06:58.852765Z"
    },
    "papermill": {
     "duration": 0.023241,
     "end_time": "2023-10-12T04:06:58.855624",
     "exception": false,
     "start_time": "2023-10-12T04:06:58.832383",
     "status": "completed"
    },
    "tags": []
   },
   "outputs": [
    {
     "name": "stdout",
     "output_type": "stream",
     "text": [
      "298  publications files modified in the last 7 days.\n"
     ]
    }
   ],
   "source": [
    "from datetime import datetime, timedelta, timezone\n",
    "from glob import glob\n",
    "import os\n",
    "\n",
    "files = glob('_build/html/*.md')\n",
    "days = 7\n",
    "now = datetime.today()\n",
    "res = []\n",
    "for fk in files:\n",
    "    stat_result = os.stat(fk).st_ctime\n",
    "    modified = datetime.fromtimestamp(stat_result, tz=timezone.utc).replace(tzinfo=None)\n",
    "    delta = now.today() - modified\n",
    "    if delta <= timedelta(days=days):\n",
    "        res.append((delta.seconds, fk))\n",
    "res = [k[1] for k in reversed(sorted(res, key=lambda x:x[1]))]\n",
    "npub = len(res)\n",
    "print(len(res), f\" publications files modified in the last {days:d} days.\")\n",
    "# [ print('\\t', k) for k in res ];"
   ]
  },
  {
   "cell_type": "code",
   "execution_count": 10,
   "id": "015de740",
   "metadata": {
    "execution": {
     "iopub.execute_input": "2023-10-12T04:06:58.871584Z",
     "iopub.status.busy": "2023-10-12T04:06:58.871336Z",
     "iopub.status.idle": "2023-10-12T04:06:58.897194Z",
     "shell.execute_reply": "2023-10-12T04:06:58.896265Z"
    },
    "papermill": {
     "duration": 0.035906,
     "end_time": "2023-10-12T04:06:58.898834",
     "exception": false,
     "start_time": "2023-10-12T04:06:58.862928",
     "status": "completed"
    },
    "tags": []
   },
   "outputs": [
    {
     "name": "stdout",
     "output_type": "stream",
     "text": [
      "12  publications in the last 7 days.\n"
     ]
    }
   ],
   "source": [
    "import datetime\n",
    "from glob import glob\n",
    "\n",
    "def get_last_n_days(lst, days=1):\n",
    "    \"\"\" Get the documents from the last n days \"\"\"\n",
    "    sorted_lst = sorted(lst, key=lambda x: x[1], reverse=True)\n",
    "    for fname, date in sorted_lst:\n",
    "        if date >= str(datetime.date.today() - datetime.timedelta(days=days)):\n",
    "            yield fname\n",
    "\n",
    "def extract_appearance_dates(lst_file):\n",
    "    dates = []\n",
    "\n",
    "    def get_date(line):\n",
    "        return line\\\n",
    "            .split('Appeared on:')[-1]\\\n",
    "            .split('</mark>')[0].strip()\n",
    "\n",
    "    for fname in lst:\n",
    "        with open(fname, 'r') as f:\n",
    "            found_date = False\n",
    "            for line in f:\n",
    "                if not found_date:\n",
    "                    if \"Appeared on\" in line:\n",
    "                        found_date = True\n",
    "                        dates.append((fname, get_date(line)))\n",
    "                else:\n",
    "                    break\n",
    "    return dates\n",
    "\n",
    "from glob import glob\n",
    "lst = glob('_build/html/*md')\n",
    "days = 7\n",
    "dates = extract_appearance_dates(lst)\n",
    "res = list(get_last_n_days(dates, days))\n",
    "npub = len(res)\n",
    "print(len(res), f\" publications in the last {days:d} days.\")"
   ]
  },
  {
   "cell_type": "code",
   "execution_count": 11,
   "id": "52ca0208",
   "metadata": {
    "execution": {
     "iopub.execute_input": "2023-10-12T04:06:58.916155Z",
     "iopub.status.busy": "2023-10-12T04:06:58.915524Z",
     "iopub.status.idle": "2023-10-12T04:06:58.921529Z",
     "shell.execute_reply": "2023-10-12T04:06:58.920811Z"
    },
    "papermill": {
     "duration": 0.016719,
     "end_time": "2023-10-12T04:06:58.923236",
     "exception": false,
     "start_time": "2023-10-12T04:06:58.906517",
     "status": "completed"
    },
    "scrolled": false,
    "tags": []
   },
   "outputs": [],
   "source": [
    "def create_carousel(npub=4):\n",
    "    \"\"\" Generate the HTML code for a carousel with `npub` slides \"\"\"\n",
    "    carousel = [\"\"\"  <div class=\"carousel\" \"\"\",\n",
    "                \"\"\"       data-flickity='{ \"autoPlay\": 10000, \"adaptiveHeight\": true, \"resize\": true, \"wrapAround\": true, \"pauseAutoPlayOnHover\": true, \"groupCells\": 1 }' id=\"asyncTypeset\">\"\"\"\n",
    "                ]\n",
    "    \n",
    "    item_str = \"\"\"    <div class=\"carousel-cell\"> <div id=\"slide{k}\" class=\"md_view\">Content {k}</div> </div>\"\"\"\n",
    "    for k in range(1, npub + 1):\n",
    "        carousel.append(item_str.format(k=k))\n",
    "    carousel.append(\"  </div>\")\n",
    "    return '\\n'.join(carousel)\n",
    "\n",
    "def create_grid(npub=4):\n",
    "    \"\"\" Generate the HTML code for a flat grid with `npub` slides \"\"\"\n",
    "    grid = [\"\"\"  <div class=\"grid\"> \"\"\",\n",
    "                ]\n",
    "    \n",
    "    item_str = \"\"\"    <div class=\"grid-item\"> <div id=\"slide{k}\" class=\"md_view\">Content {k}</div> </div>\"\"\"\n",
    "    for k in range(1, npub + 1):\n",
    "        grid.append(item_str.format(k=k))\n",
    "    grid.append(\"  </div>\")\n",
    "    return '\\n'.join(grid)"
   ]
  },
  {
   "cell_type": "code",
   "execution_count": 12,
   "id": "a6eac5b6",
   "metadata": {
    "execution": {
     "iopub.execute_input": "2023-10-12T04:06:58.939808Z",
     "iopub.status.busy": "2023-10-12T04:06:58.939239Z",
     "iopub.status.idle": "2023-10-12T04:06:58.946026Z",
     "shell.execute_reply": "2023-10-12T04:06:58.945350Z"
    },
    "papermill": {
     "duration": 0.0171,
     "end_time": "2023-10-12T04:06:58.947816",
     "exception": false,
     "start_time": "2023-10-12T04:06:58.930716",
     "status": "completed"
    },
    "scrolled": false,
    "tags": []
   },
   "outputs": [],
   "source": [
    "carousel = create_carousel(npub)\n",
    "docs = ', '.join(['\"{0:s}\"'.format(k.split('/')[-1]) for k in res])\n",
    "slides = ', '.join([f'\"slide{k}\"' for k in range(1, npub + 1)])\n",
    "\n",
    "with open(\"daily_template.html\", \"r\") as tpl:\n",
    "    page = tpl.read()\n",
    "    page = page.replace(\"{%-- carousel:s --%}\", carousel)\\\n",
    "               .replace(\"{%-- suptitle:s --%}\",  \"7-day archives\" )\\\n",
    "               .replace(\"{%-- docs:s --%}\", docs)\\\n",
    "               .replace(\"{%-- slides:s --%}\", slides)\n",
    "    \n",
    "with open(\"_build/html/index_7days.html\", 'w') as fout:\n",
    "    fout.write(page)"
   ]
  },
  {
   "cell_type": "code",
   "execution_count": 13,
   "id": "adc1a1ec",
   "metadata": {
    "execution": {
     "iopub.execute_input": "2023-10-12T04:06:58.964568Z",
     "iopub.status.busy": "2023-10-12T04:06:58.964215Z",
     "iopub.status.idle": "2023-10-12T04:06:58.972927Z",
     "shell.execute_reply": "2023-10-12T04:06:58.972223Z"
    },
    "papermill": {
     "duration": 0.019451,
     "end_time": "2023-10-12T04:06:58.974496",
     "exception": false,
     "start_time": "2023-10-12T04:06:58.955045",
     "status": "completed"
    },
    "tags": []
   },
   "outputs": [
    {
     "name": "stdout",
     "output_type": "stream",
     "text": [
      "9  publications in the last day.\n"
     ]
    }
   ],
   "source": [
    "# redo for today\n",
    "days = 1\n",
    "res = list(get_last_n_days(dates, days))\n",
    "npub = len(res)\n",
    "print(len(res), f\" publications in the last day.\")\n",
    "\n",
    "carousel = create_carousel(npub)\n",
    "docs = ', '.join(['\"{0:s}\"'.format(k.split('/')[-1]) for k in res])\n",
    "slides = ', '.join([f'\"slide{k}\"' for k in range(1, npub + 1)])\n",
    "\n",
    "with open(\"daily_template.html\", \"r\") as tpl:\n",
    "    page = tpl.read()\n",
    "    page = page.replace(\"{%-- carousel:s --%}\", carousel)\\\n",
    "               .replace(\"{%-- suptitle:s --%}\",  \"Daily\" )\\\n",
    "               .replace(\"{%-- docs:s --%}\", docs)\\\n",
    "               .replace(\"{%-- slides:s --%}\", slides)\n",
    "    \n",
    "# print(carousel, docs, slides)\n",
    "# print(page)\n",
    "with open(\"_build/html/index_daily.html\", 'w') as fout:\n",
    "    fout.write(page)"
   ]
  },
  {
   "cell_type": "code",
   "execution_count": 14,
   "id": "00eece82",
   "metadata": {
    "execution": {
     "iopub.execute_input": "2023-10-12T04:06:58.991921Z",
     "iopub.status.busy": "2023-10-12T04:06:58.991307Z",
     "iopub.status.idle": "2023-10-12T04:06:58.998735Z",
     "shell.execute_reply": "2023-10-12T04:06:58.997989Z"
    },
    "papermill": {
     "duration": 0.018118,
     "end_time": "2023-10-12T04:06:59.000451",
     "exception": false,
     "start_time": "2023-10-12T04:06:58.982333",
     "status": "completed"
    },
    "scrolled": false,
    "tags": []
   },
   "outputs": [
    {
     "name": "stdout",
     "output_type": "stream",
     "text": [
      "6  6 publications selected.\n"
     ]
    }
   ],
   "source": [
    "# Create the flat grid of the last N papers (fixed number regardless of dates)\n",
    "from itertools import islice \n",
    "\n",
    "npub = 6\n",
    "res = [k[0] for k in (islice(reversed(sorted(dates, key=lambda x: x[1])), 6))]\n",
    "print(len(res), f\" {npub} publications selected.\")\n",
    "\n",
    "grid = create_grid(npub)\n",
    "docs = ', '.join(['\"{0:s}\"'.format(k.split('/')[-1]) for k in res])\n",
    "slides = ', '.join([f'\"slide{k}\"' for k in range(1, npub + 1)])\n",
    "\n",
    "with open(\"grid_template.html\", \"r\") as tpl:\n",
    "    page = tpl.read()\n",
    "    page = page.replace(\"{%-- grid-content:s --%}\", grid)\\\n",
    "               .replace(\"{%-- suptitle:s --%}\",  f\"Last {npub:,d} papers\" )\\\n",
    "               .replace(\"{%-- docs:s --%}\", docs)\\\n",
    "               .replace(\"{%-- slides:s --%}\", slides)\n",
    "    \n",
    "# print(grid, docs, slides)\n",
    "# print(page)\n",
    "with open(\"_build/html/index_npub_grid.html\", 'w') as fout:\n",
    "    fout.write(page)"
   ]
  }
 ],
 "metadata": {
  "kernelspec": {
   "display_name": "Python 3 (ipykernel)",
   "language": "python",
   "name": "python3"
  },
  "language_info": {
   "codemirror_mode": {
    "name": "ipython",
    "version": 3
   },
   "file_extension": ".py",
   "mimetype": "text/x-python",
   "name": "python",
   "nbconvert_exporter": "python",
   "pygments_lexer": "ipython3",
   "version": "3.9.18"
  },
  "papermill": {
   "default_parameters": {},
   "duration": 99.620109,
   "end_time": "2023-10-12T04:06:59.227128",
   "environment_variables": {},
   "exception": null,
   "input_path": "MPIA daily digest.ipynb",
   "output_path": "log.ipynb",
   "parameters": {},
   "start_time": "2023-10-12T04:05:19.607019",
   "version": "2.4.0"
  },
  "vscode": {
   "interpreter": {
    "hash": "aee8b7b246df8f9039afb4144a1f6fd8d2ca17a180786b69acc140d282b71a49"
   }
  },
  "widgets": {
   "application/vnd.jupyter.widget-state+json": {
    "state": {
     "052fec0f1f2746cfbd5e95294ea12e20": {
      "model_module": "@jupyter-widgets/controls",
      "model_module_version": "2.0.0",
      "model_name": "HTMLStyleModel",
      "state": {
       "_model_module": "@jupyter-widgets/controls",
       "_model_module_version": "2.0.0",
       "_model_name": "HTMLStyleModel",
       "_view_count": null,
       "_view_module": "@jupyter-widgets/base",
       "_view_module_version": "2.0.0",
       "_view_name": "StyleView",
       "background": null,
       "description_width": "",
       "font_size": null,
       "text_color": null
      }
     },
     "1e2df86e75cb4e4185f1f0342285c206": {
      "model_module": "@jupyter-widgets/controls",
      "model_module_version": "2.0.0",
      "model_name": "HTMLModel",
      "state": {
       "_dom_classes": [],
       "_model_module": "@jupyter-widgets/controls",
       "_model_module_version": "2.0.0",
       "_model_name": "HTMLModel",
       "_view_count": null,
       "_view_module": "@jupyter-widgets/controls",
       "_view_module_version": "2.0.0",
       "_view_name": "HTMLView",
       "description": "",
       "description_allow_html": false,
       "layout": "IPY_MODEL_3cefb23b664644ab99865e9c4cf9944c",
       "placeholder": "​",
       "style": "IPY_MODEL_5ab2bd40af594a979eb84ea5bdc8e7b1",
       "tabbable": null,
       "tooltip": null,
       "value": " 6/6 [00:48&lt;00:00,  8.24s/it]"
      }
     },
     "397f58b11c8d44b39bb4ba0488f69a16": {
      "model_module": "@jupyter-widgets/controls",
      "model_module_version": "2.0.0",
      "model_name": "FloatProgressModel",
      "state": {
       "_dom_classes": [],
       "_model_module": "@jupyter-widgets/controls",
       "_model_module_version": "2.0.0",
       "_model_name": "FloatProgressModel",
       "_view_count": null,
       "_view_module": "@jupyter-widgets/controls",
       "_view_module_version": "2.0.0",
       "_view_name": "ProgressView",
       "bar_style": "success",
       "description": "",
       "description_allow_html": false,
       "layout": "IPY_MODEL_3d719abd1d044a2eb2e9f064aad8871a",
       "max": 6.0,
       "min": 0.0,
       "orientation": "horizontal",
       "style": "IPY_MODEL_b30427f835824106bcae42fe39dd9a93",
       "tabbable": null,
       "tooltip": null,
       "value": 6.0
      }
     },
     "3cefb23b664644ab99865e9c4cf9944c": {
      "model_module": "@jupyter-widgets/base",
      "model_module_version": "2.0.0",
      "model_name": "LayoutModel",
      "state": {
       "_model_module": "@jupyter-widgets/base",
       "_model_module_version": "2.0.0",
       "_model_name": "LayoutModel",
       "_view_count": null,
       "_view_module": "@jupyter-widgets/base",
       "_view_module_version": "2.0.0",
       "_view_name": "LayoutView",
       "align_content": null,
       "align_items": null,
       "align_self": null,
       "border_bottom": null,
       "border_left": null,
       "border_right": null,
       "border_top": null,
       "bottom": null,
       "display": null,
       "flex": null,
       "flex_flow": null,
       "grid_area": null,
       "grid_auto_columns": null,
       "grid_auto_flow": null,
       "grid_auto_rows": null,
       "grid_column": null,
       "grid_gap": null,
       "grid_row": null,
       "grid_template_areas": null,
       "grid_template_columns": null,
       "grid_template_rows": null,
       "height": null,
       "justify_content": null,
       "justify_items": null,
       "left": null,
       "margin": null,
       "max_height": null,
       "max_width": null,
       "min_height": null,
       "min_width": null,
       "object_fit": null,
       "object_position": null,
       "order": null,
       "overflow": null,
       "padding": null,
       "right": null,
       "top": null,
       "visibility": null,
       "width": null
      }
     },
     "3d719abd1d044a2eb2e9f064aad8871a": {
      "model_module": "@jupyter-widgets/base",
      "model_module_version": "2.0.0",
      "model_name": "LayoutModel",
      "state": {
       "_model_module": "@jupyter-widgets/base",
       "_model_module_version": "2.0.0",
       "_model_name": "LayoutModel",
       "_view_count": null,
       "_view_module": "@jupyter-widgets/base",
       "_view_module_version": "2.0.0",
       "_view_name": "LayoutView",
       "align_content": null,
       "align_items": null,
       "align_self": null,
       "border_bottom": null,
       "border_left": null,
       "border_right": null,
       "border_top": null,
       "bottom": null,
       "display": null,
       "flex": null,
       "flex_flow": null,
       "grid_area": null,
       "grid_auto_columns": null,
       "grid_auto_flow": null,
       "grid_auto_rows": null,
       "grid_column": null,
       "grid_gap": null,
       "grid_row": null,
       "grid_template_areas": null,
       "grid_template_columns": null,
       "grid_template_rows": null,
       "height": null,
       "justify_content": null,
       "justify_items": null,
       "left": null,
       "margin": null,
       "max_height": null,
       "max_width": null,
       "min_height": null,
       "min_width": null,
       "object_fit": null,
       "object_position": null,
       "order": null,
       "overflow": null,
       "padding": null,
       "right": null,
       "top": null,
       "visibility": null,
       "width": null
      }
     },
     "3f4da582c1d146908e04dc639a3c2503": {
      "model_module": "@jupyter-widgets/controls",
      "model_module_version": "2.0.0",
      "model_name": "HBoxModel",
      "state": {
       "_dom_classes": [],
       "_model_module": "@jupyter-widgets/controls",
       "_model_module_version": "2.0.0",
       "_model_name": "HBoxModel",
       "_view_count": null,
       "_view_module": "@jupyter-widgets/controls",
       "_view_module_version": "2.0.0",
       "_view_name": "HBoxView",
       "box_style": "",
       "children": [
        "IPY_MODEL_8bcbdf6d12634dfab26bb5c84045c3a4",
        "IPY_MODEL_397f58b11c8d44b39bb4ba0488f69a16",
        "IPY_MODEL_1e2df86e75cb4e4185f1f0342285c206"
       ],
       "layout": "IPY_MODEL_e7c4d2bcd1474354910066094cf47f67",
       "tabbable": null,
       "tooltip": null
      }
     },
     "5ab2bd40af594a979eb84ea5bdc8e7b1": {
      "model_module": "@jupyter-widgets/controls",
      "model_module_version": "2.0.0",
      "model_name": "HTMLStyleModel",
      "state": {
       "_model_module": "@jupyter-widgets/controls",
       "_model_module_version": "2.0.0",
       "_model_name": "HTMLStyleModel",
       "_view_count": null,
       "_view_module": "@jupyter-widgets/base",
       "_view_module_version": "2.0.0",
       "_view_name": "StyleView",
       "background": null,
       "description_width": "",
       "font_size": null,
       "text_color": null
      }
     },
     "8bcbdf6d12634dfab26bb5c84045c3a4": {
      "model_module": "@jupyter-widgets/controls",
      "model_module_version": "2.0.0",
      "model_name": "HTMLModel",
      "state": {
       "_dom_classes": [],
       "_model_module": "@jupyter-widgets/controls",
       "_model_module_version": "2.0.0",
       "_model_name": "HTMLModel",
       "_view_count": null,
       "_view_module": "@jupyter-widgets/controls",
       "_view_module_version": "2.0.0",
       "_view_name": "HTMLView",
       "description": "",
       "description_allow_html": false,
       "layout": "IPY_MODEL_ef8713ce4c914a73bc32200f32662da8",
       "placeholder": "​",
       "style": "IPY_MODEL_052fec0f1f2746cfbd5e95294ea12e20",
       "tabbable": null,
       "tooltip": null,
       "value": "100%"
      }
     },
     "b30427f835824106bcae42fe39dd9a93": {
      "model_module": "@jupyter-widgets/controls",
      "model_module_version": "2.0.0",
      "model_name": "ProgressStyleModel",
      "state": {
       "_model_module": "@jupyter-widgets/controls",
       "_model_module_version": "2.0.0",
       "_model_name": "ProgressStyleModel",
       "_view_count": null,
       "_view_module": "@jupyter-widgets/base",
       "_view_module_version": "2.0.0",
       "_view_name": "StyleView",
       "bar_color": null,
       "description_width": ""
      }
     },
     "e7c4d2bcd1474354910066094cf47f67": {
      "model_module": "@jupyter-widgets/base",
      "model_module_version": "2.0.0",
      "model_name": "LayoutModel",
      "state": {
       "_model_module": "@jupyter-widgets/base",
       "_model_module_version": "2.0.0",
       "_model_name": "LayoutModel",
       "_view_count": null,
       "_view_module": "@jupyter-widgets/base",
       "_view_module_version": "2.0.0",
       "_view_name": "LayoutView",
       "align_content": null,
       "align_items": null,
       "align_self": null,
       "border_bottom": null,
       "border_left": null,
       "border_right": null,
       "border_top": null,
       "bottom": null,
       "display": null,
       "flex": null,
       "flex_flow": null,
       "grid_area": null,
       "grid_auto_columns": null,
       "grid_auto_flow": null,
       "grid_auto_rows": null,
       "grid_column": null,
       "grid_gap": null,
       "grid_row": null,
       "grid_template_areas": null,
       "grid_template_columns": null,
       "grid_template_rows": null,
       "height": null,
       "justify_content": null,
       "justify_items": null,
       "left": null,
       "margin": null,
       "max_height": null,
       "max_width": null,
       "min_height": null,
       "min_width": null,
       "object_fit": null,
       "object_position": null,
       "order": null,
       "overflow": null,
       "padding": null,
       "right": null,
       "top": null,
       "visibility": null,
       "width": null
      }
     },
     "ef8713ce4c914a73bc32200f32662da8": {
      "model_module": "@jupyter-widgets/base",
      "model_module_version": "2.0.0",
      "model_name": "LayoutModel",
      "state": {
       "_model_module": "@jupyter-widgets/base",
       "_model_module_version": "2.0.0",
       "_model_name": "LayoutModel",
       "_view_count": null,
       "_view_module": "@jupyter-widgets/base",
       "_view_module_version": "2.0.0",
       "_view_name": "LayoutView",
       "align_content": null,
       "align_items": null,
       "align_self": null,
       "border_bottom": null,
       "border_left": null,
       "border_right": null,
       "border_top": null,
       "bottom": null,
       "display": null,
       "flex": null,
       "flex_flow": null,
       "grid_area": null,
       "grid_auto_columns": null,
       "grid_auto_flow": null,
       "grid_auto_rows": null,
       "grid_column": null,
       "grid_gap": null,
       "grid_row": null,
       "grid_template_areas": null,
       "grid_template_columns": null,
       "grid_template_rows": null,
       "height": null,
       "justify_content": null,
       "justify_items": null,
       "left": null,
       "margin": null,
       "max_height": null,
       "max_width": null,
       "min_height": null,
       "min_width": null,
       "object_fit": null,
       "object_position": null,
       "order": null,
       "overflow": null,
       "padding": null,
       "right": null,
       "top": null,
       "visibility": null,
       "width": null
      }
     }
    },
    "version_major": 2,
    "version_minor": 0
   }
  }
 },
 "nbformat": 4,
 "nbformat_minor": 5
}