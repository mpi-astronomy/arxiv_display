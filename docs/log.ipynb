{
 "cells": [
  {
   "cell_type": "markdown",
   "id": "92bcb855",
   "metadata": {
    "papermill": {
     "duration": 0.00515,
     "end_time": "2023-10-24T04:06:47.794918",
     "exception": false,
     "start_time": "2023-10-24T04:06:47.789768",
     "status": "completed"
    },
    "tags": []
   },
   "source": [
    "# MPIA Arxiv on Deck 2\n",
    "\n",
    "Contains the steps to produce the paper extractions."
   ]
  },
  {
   "cell_type": "code",
   "execution_count": 1,
   "id": "3a0d6e11",
   "metadata": {
    "execution": {
     "iopub.execute_input": "2023-10-24T04:06:47.804380Z",
     "iopub.status.busy": "2023-10-24T04:06:47.803650Z",
     "iopub.status.idle": "2023-10-24T04:06:48.206699Z",
     "shell.execute_reply": "2023-10-24T04:06:48.205942Z"
    },
    "papermill": {
     "duration": 0.410184,
     "end_time": "2023-10-24T04:06:48.208942",
     "exception": false,
     "start_time": "2023-10-24T04:06:47.798758",
     "status": "completed"
    },
    "tags": []
   },
   "outputs": [],
   "source": [
    "# Imports\n",
    "import os\n",
    "from IPython.display import Markdown, display\n",
    "from tqdm.notebook import tqdm\n",
    "import warnings\n",
    "from PIL import Image \n",
    "\n",
    "# requires arxiv_on_deck_2\n",
    "\n",
    "from arxiv_on_deck_2.arxiv2 import (get_new_papers, \n",
    "                                    get_paper_from_identifier,\n",
    "                                    retrieve_document_source, \n",
    "                                    get_markdown_badge)\n",
    "from arxiv_on_deck_2 import (latex,\n",
    "                             latex_bib,\n",
    "                             mpia,\n",
    "                             highlight_authors_in_list)\n",
    "\n",
    "# Sometimes images are really big\n",
    "Image.MAX_IMAGE_PIXELS = 1000000000 "
   ]
  },
  {
   "cell_type": "code",
   "execution_count": 2,
   "id": "22aa9d44",
   "metadata": {
    "execution": {
     "iopub.execute_input": "2023-10-24T04:06:48.220302Z",
     "iopub.status.busy": "2023-10-24T04:06:48.219917Z",
     "iopub.status.idle": "2023-10-24T04:06:48.228118Z",
     "shell.execute_reply": "2023-10-24T04:06:48.227202Z"
    },
    "papermill": {
     "duration": 0.014829,
     "end_time": "2023-10-24T04:06:48.229654",
     "exception": false,
     "start_time": "2023-10-24T04:06:48.214825",
     "status": "completed"
    },
    "tags": []
   },
   "outputs": [],
   "source": [
    "# Some useful definitions.\n",
    "\n",
    "class AffiliationWarning(UserWarning):\n",
    "    pass\n",
    "\n",
    "class AffiliationError(RuntimeError):\n",
    "    pass\n",
    "\n",
    "def validation(source: str):\n",
    "    \"\"\"Raises error paper during parsing of source file\n",
    "    \n",
    "    Allows checks before parsing TeX code.\n",
    "    \n",
    "    Raises AffiliationWarning\n",
    "    \"\"\"\n",
    "    check = mpia.affiliation_verifications(source, verbose=True)\n",
    "    if check is not True:\n",
    "        raise AffiliationError(\"mpia.affiliation_verifications: \" + check)\n",
    "\n",
    "        \n",
    "warnings.simplefilter('always', AffiliationWarning)\n",
    "\n",
    "\n",
    "def get_markdown_qrcode(paper_id: str):\n",
    "    \"\"\" Generate a qrcode to the arxiv page using qrserver.com\n",
    "    \n",
    "    :param paper: Arxiv paper\n",
    "    :returns: markdown text\n",
    "    \"\"\"\n",
    "    url = r\"https://api.qrserver.com/v1/create-qr-code/?size=100x100&data=\"\n",
    "    txt = f\"\"\"<img src={url}\"https://arxiv.org/abs/{paper_id}\">\"\"\"\n",
    "    txt = '<div id=\"qrcode\">' + txt + '</div>'\n",
    "    return txt"
   ]
  },
  {
   "cell_type": "markdown",
   "id": "14bd6310",
   "metadata": {
    "papermill": {
     "duration": 0.003545,
     "end_time": "2023-10-24T04:06:48.236801",
     "exception": false,
     "start_time": "2023-10-24T04:06:48.233256",
     "status": "completed"
    },
    "tags": []
   },
   "source": [
    "## get list of arxiv paper candidates\n",
    "\n",
    "We use the MPIA mitarbeiter list webpage from mpia.de to get author names\n",
    "We then get all new papers from Arxiv and match authors"
   ]
  },
  {
   "cell_type": "code",
   "execution_count": 3,
   "id": "2645e73a",
   "metadata": {
    "execution": {
     "iopub.execute_input": "2023-10-24T04:06:48.245567Z",
     "iopub.status.busy": "2023-10-24T04:06:48.244882Z",
     "iopub.status.idle": "2023-10-24T04:07:12.650392Z",
     "shell.execute_reply": "2023-10-24T04:07:12.649711Z"
    },
    "papermill": {
     "duration": 24.411937,
     "end_time": "2023-10-24T04:07:12.652273",
     "exception": false,
     "start_time": "2023-10-24T04:06:48.240336",
     "status": "completed"
    },
    "tags": []
   },
   "outputs": [
    {
     "name": "stdout",
     "output_type": "stream",
     "text": [
      "K. Lee  ->  K. Lee  |  ['K. Lee']\n",
      "H. Beuther  ->  H. Beuther  |  ['H. Beuther']\n",
      "H. Linz  ->  H. Linz  |  ['H. Linz']\n"
     ]
    },
    {
     "name": "stdout",
     "output_type": "stream",
     "text": [
      "X. Zhang  ->  X. Zhang  |  ['X. Zhang']\n",
      "J. Li  ->  J. Li  |  ['J. Li']\n",
      "M. Kürster  ->  M. Kürster  |  ['M. Kürster']\n",
      "M. Schirmer  ->  M. Schirmer  |  ['M. Schirmer']\n",
      "J. Li  ->  J. Li  |  ['J. Li']\n",
      "M. Smith  ->  M. Smith  |  ['M. Smith']\n",
      "X. Zhang  ->  X. Zhang  |  ['X. Zhang']\n"
     ]
    },
    {
     "name": "stdout",
     "output_type": "stream",
     "text": [
      "Arxiv has 90 new papers today\n",
      "          8 with possible author matches\n"
     ]
    }
   ],
   "source": [
    "# get list from MPIA website\n",
    "# it automatically filters identified non-scientists :func:`mpia.filter_non_scientists`\n",
    "mpia_authors = mpia.get_mpia_mitarbeiter_list()\n",
    "normed_mpia_authors = [k[1] for k in mpia_authors]   # initials + fullname\n",
    "new_papers = get_new_papers()\n",
    "# add manual references\n",
    "add_paper_refs = []\n",
    "new_papers.extend([get_paper_from_identifier(k) for k in add_paper_refs])\n",
    "\n",
    "candidates = []\n",
    "for paperk in new_papers:\n",
    "    # Check author list with their initials\n",
    "    normed_author_list = [mpia.get_initials(k) for k in paperk['authors']]\n",
    "    hl_authors = highlight_authors_in_list(normed_author_list, normed_mpia_authors, verbose=True)\n",
    "    matches = [(hl, orig) for hl, orig in zip(hl_authors, paperk['authors']) if 'mark' in hl]\n",
    "    paperk['authors'] = hl_authors\n",
    "    if matches:\n",
    "        # only select paper if an author matched our list\n",
    "        candidates.append(paperk)\n",
    "print(\"\"\"Arxiv has {0:,d} new papers today\"\"\".format(len(new_papers)))        \n",
    "print(\"\"\"          {0:,d} with possible author matches\"\"\".format(len(candidates)))"
   ]
  },
  {
   "cell_type": "markdown",
   "id": "3543b34a",
   "metadata": {
    "papermill": {
     "duration": 0.003908,
     "end_time": "2023-10-24T04:07:12.660361",
     "exception": false,
     "start_time": "2023-10-24T04:07:12.656453",
     "status": "completed"
    },
    "tags": []
   },
   "source": [
    "# Parse sources and generate relevant outputs\n",
    "\n",
    "From the candidates, we do the following steps:\n",
    "* get their tarball from ArXiv (and extract data)\n",
    "* find the main .tex file: find one with \\documentclass{...} (sometimes it's non trivial)\n",
    "* Check affiliations with :func:`validation`, which uses :func:`mpia.affiliation_verifications`\n",
    "* If passing the affiliations: we parse the .tex source\n",
    "   * inject sub-documents into the main (flatten the main document)\n",
    "   * parse structure, extract information (title, abstract, authors, figures...)\n",
    "   * handles `\\graphicspath` if provided\n",
    "* Generate the .md document."
   ]
  },
  {
   "cell_type": "code",
   "execution_count": 4,
   "id": "9576b79e",
   "metadata": {
    "execution": {
     "iopub.execute_input": "2023-10-24T04:07:12.669455Z",
     "iopub.status.busy": "2023-10-24T04:07:12.669175Z",
     "iopub.status.idle": "2023-10-24T04:08:36.097544Z",
     "shell.execute_reply": "2023-10-24T04:08:36.096753Z"
    },
    "papermill": {
     "duration": 83.435646,
     "end_time": "2023-10-24T04:08:36.099737",
     "exception": false,
     "start_time": "2023-10-24T04:07:12.664091",
     "status": "completed"
    },
    "scrolled": false,
    "tags": []
   },
   "outputs": [
    {
     "data": {
      "application/vnd.jupyter.widget-view+json": {
       "model_id": "d60b2cc494254e7483463a18273d3647",
       "version_major": 2,
       "version_minor": 0
      },
      "text/plain": [
       "  0%|          | 0/8 [00:00<?, ?it/s]"
      ]
     },
     "metadata": {},
     "output_type": "display_data"
    },
    {
     "name": "stdout",
     "output_type": "stream",
     "text": [
      "Retrieving document from  https://arxiv.org/e-print/2310.13740\n"
     ]
    },
    {
     "name": "stdout",
     "output_type": "stream",
     "text": [
      "extracting tarball to tmp_2310.13740..."
     ]
    },
    {
     "name": "stdout",
     "output_type": "stream",
     "text": [
      " done.\n",
      "Retrieving document from  https://arxiv.org/e-print/2310.14061\n"
     ]
    },
    {
     "name": "stderr",
     "output_type": "stream",
     "text": [
      "/opt/hostedtoolcache/Python/3.9.18/x64/lib/python3.9/site-packages/IPython/core/interactiveshell.py:3526: LatexWarning: Multiple tex files.\n",
      "\n",
      "  exec(code_obj, self.user_global_ns, self.user_ns)\n",
      "/opt/hostedtoolcache/Python/3.9.18/x64/lib/python3.9/site-packages/IPython/core/interactiveshell.py:3526: LatexWarning: Found documentclass in tmp_2310.13740/Planck.tex\n",
      "\n",
      "  exec(code_obj, self.user_global_ns, self.user_ns)\n"
     ]
    },
    {
     "name": "stdout",
     "output_type": "stream",
     "text": [
      "extracting tarball to tmp_2310.14061..."
     ]
    },
    {
     "name": "stdout",
     "output_type": "stream",
     "text": [
      " done.\n",
      "Retrieving document from  https://arxiv.org/e-print/2310.14447\n"
     ]
    },
    {
     "name": "stdout",
     "output_type": "stream",
     "text": [
      "extracting tarball to tmp_2310.14447..."
     ]
    },
    {
     "name": "stdout",
     "output_type": "stream",
     "text": [
      " done.\n",
      "Retrieving document from  https://arxiv.org/e-print/2310.14530\n"
     ]
    },
    {
     "name": "stdout",
     "output_type": "stream",
     "text": [
      "extracting tarball to tmp_2310.14530..."
     ]
    },
    {
     "name": "stdout",
     "output_type": "stream",
     "text": [
      " done.\n",
      "Retrieving document from  https://arxiv.org/e-print/2310.14715\n"
     ]
    },
    {
     "name": "stdout",
     "output_type": "stream",
     "text": [
      "extracting tarball to tmp_2310.14715..."
     ]
    },
    {
     "name": "stdout",
     "output_type": "stream",
     "text": [
      " done.\n"
     ]
    },
    {
     "name": "stdout",
     "output_type": "stream",
     "text": [
      "M. Kürster  ->  M. Kürster  |  ['M. Kürster']\n"
     ]
    },
    {
     "name": "stdout",
     "output_type": "stream",
     "text": [
      "Found 67 bibliographic references in tmp_2310.14715/arxiv.bbl.\n",
      "Retrieving document from  https://arxiv.org/e-print/2310.14716\n"
     ]
    },
    {
     "name": "stdout",
     "output_type": "stream",
     "text": [
      "extracting tarball to tmp_2310.14716..."
     ]
    },
    {
     "name": "stdout",
     "output_type": "stream",
     "text": [
      " done.\n"
     ]
    },
    {
     "name": "stderr",
     "output_type": "stream",
     "text": [
      "/opt/hostedtoolcache/Python/3.9.18/x64/lib/python3.9/site-packages/arxiv_on_deck_2/latex.py:473: LatexWarning: Error parsing the document directly. Trying to recover.\n",
      "  warnings.warn(LatexWarning(f\"Error parsing the document directly. Trying to recover.\"))\n"
     ]
    },
    {
     "name": "stdout",
     "output_type": "stream",
     "text": [
      "✔ → 0:header\n",
      "  ↳ 24354:\\section{Introduction}\n"
     ]
    },
    {
     "name": "stdout",
     "output_type": "stream",
     "text": [
      "✔ → 24354:\\section{Introduction}\n",
      "  ↳ 32668:\\section{Photometry}\n",
      "✔ → 32668:\\section{Photometry}\n",
      "  ↳ 36143:\\section{Spatial variation of photometric passbands}\n"
     ]
    },
    {
     "name": "stdout",
     "output_type": "stream",
     "text": [
      "✘ → 36143:\\section{Spatial variation of photometric passbands}\n",
      "  ↳ 46709:\\section{Consequences of passband variations}\n"
     ]
    },
    {
     "name": "stdout",
     "output_type": "stream",
     "text": [
      "✔ → 46709:\\section{Consequences of passband variations}\n",
      "  ↳ 56478:\\section{Implementation in template-fitting algorithms}\n"
     ]
    },
    {
     "name": "stdout",
     "output_type": "stream",
     "text": [
      "✘ → 56478:\\section{Implementation in template-fitting algorithms}\n",
      "  ↳ 68984:\\section{Application to real data}\n"
     ]
    },
    {
     "name": "stdout",
     "output_type": "stream",
     "text": [
      "✔ → 68984:\\section{Application to real data}\n",
      "  ↳ 77133:\\section{Discussion}\n"
     ]
    },
    {
     "name": "stdout",
     "output_type": "stream",
     "text": [
      "✘ → 77133:\\section{Discussion}\n",
      "  ↳ 89138:\\section{Conclusion}\n",
      "✔ → 89138:\\section{Conclusion}\n",
      "  ↳ 93110:\\begin{appendix}\n",
      "✔ → 93110:\\begin{appendix}\n",
      "  ↳ 93127:\\section{Computation of the correction functions}\n"
     ]
    },
    {
     "name": "stdout",
     "output_type": "stream",
     "text": [
      "✔ → 93127:\\section{Computation of the correction functions}\n",
      "  ↳ 96516:\\section{Other effects leading to passband variations}\n"
     ]
    },
    {
     "name": "stdout",
     "output_type": "stream",
     "text": [
      "✔ → 96516:\\section{Other effects leading to passband variations}\n",
      "  ↳ 103413:end\n"
     ]
    },
    {
     "name": "stdout",
     "output_type": "stream",
     "text": [
      "Found 75 bibliographic references in tmp_2310.14716/transmission.bbl.\n",
      "Retrieving document from  https://arxiv.org/e-print/2310.14723\n"
     ]
    },
    {
     "name": "stdout",
     "output_type": "stream",
     "text": [
      "extracting tarball to tmp_2310.14723..."
     ]
    },
    {
     "name": "stdout",
     "output_type": "stream",
     "text": [
      " done.\n",
      "Retrieving document from  https://arxiv.org/e-print/2310.14874\n"
     ]
    },
    {
     "name": "stdout",
     "output_type": "stream",
     "text": [
      "extracting tarball to tmp_2310.14874..."
     ]
    },
    {
     "name": "stdout",
     "output_type": "stream",
     "text": [
      " done.\n"
     ]
    }
   ],
   "source": [
    "documents = []\n",
    "failed = []\n",
    "for paper in tqdm(candidates):\n",
    "    paper_id = paper['identifier'].lower().replace('arxiv:', '')\n",
    "    \n",
    "    folder = f'tmp_{paper_id}'\n",
    "\n",
    "    try:\n",
    "        if not os.path.isdir(folder):\n",
    "            folder = retrieve_document_source(f\"{paper_id}\", f'tmp_{paper_id}')\n",
    "        \n",
    "        try:\n",
    "            doc = latex.LatexDocument(folder, validation=validation)    \n",
    "        except AffiliationError as affilerror:\n",
    "            msg = f\"ArXiv:{paper_id:s} is not an MPIA paper... \" + str(affilerror)\n",
    "            failed.append((paper, \"affiliation error: \" + str(affilerror) ))\n",
    "            continue\n",
    "        \n",
    "        # Hack because sometimes author parsing does not work well\n",
    "        if (len(doc.authors) != len(paper['authors'])):\n",
    "            doc._authors = paper['authors']\n",
    "        else:\n",
    "            # highlight authors (FIXME: doc.highlight_authors)\n",
    "            # done on arxiv paper already\n",
    "            doc._authors = highlight_authors_in_list(\n",
    "                [mpia.get_initials(k) for k in doc.authors], \n",
    "                normed_mpia_authors, verbose=True)\n",
    "        if (doc.abstract) in (None, ''):\n",
    "            doc._abstract = paper['abstract']\n",
    "            \n",
    "        doc.comment = (get_markdown_badge(paper_id) + \n",
    "                       \"<mark>Appeared on: \" + paper['date'] + \"</mark> - \")\n",
    "        if paper['comments']:\n",
    "            doc.comment += \" _\" + paper['comments'] + \"_\"\n",
    "        \n",
    "        full_md = doc.generate_markdown_text()\n",
    "        \n",
    "        full_md += get_markdown_qrcode(paper_id)\n",
    "        \n",
    "        # replace citations\n",
    "        try:\n",
    "            bibdata = latex_bib.LatexBib.from_doc(doc)\n",
    "            full_md = latex_bib.replace_citations(full_md, bibdata)\n",
    "        except Exception as e:\n",
    "            print(e)\n",
    "        \n",
    "        documents.append((paper_id, full_md))\n",
    "    except Exception as e:\n",
    "        warnings.warn(latex.LatexWarning(f\"{paper_id:s} did not run properly\\n\" +\n",
    "                                         str(e)\n",
    "                                        ))\n",
    "        failed.append((paper, \"latex error \" + str(e)))"
   ]
  },
  {
   "cell_type": "markdown",
   "id": "2505a25c",
   "metadata": {
    "papermill": {
     "duration": 0.006127,
     "end_time": "2023-10-24T04:08:36.111899",
     "exception": false,
     "start_time": "2023-10-24T04:08:36.105772",
     "status": "completed"
    },
    "tags": []
   },
   "source": [
    "### Export the logs\n",
    "\n",
    "Throughout, we also keep track of the logs per paper. see `logs-{today date}.md` "
   ]
  },
  {
   "cell_type": "code",
   "execution_count": 5,
   "id": "d733828a",
   "metadata": {
    "execution": {
     "iopub.execute_input": "2023-10-24T04:08:36.125229Z",
     "iopub.status.busy": "2023-10-24T04:08:36.124614Z",
     "iopub.status.idle": "2023-10-24T04:08:36.147032Z",
     "shell.execute_reply": "2023-10-24T04:08:36.146341Z"
    },
    "papermill": {
     "duration": 0.031036,
     "end_time": "2023-10-24T04:08:36.148626",
     "exception": false,
     "start_time": "2023-10-24T04:08:36.117590",
     "status": "completed"
    },
    "scrolled": false,
    "tags": []
   },
   "outputs": [
    {
     "data": {
      "text/markdown": [
       "## Successful papers"
      ],
      "text/plain": [
       "<IPython.core.display.Markdown object>"
      ]
     },
     "metadata": {},
     "output_type": "display_data"
    },
    {
     "data": {
      "text/markdown": [
       "\n",
       "|||\n",
       "|---:|:---|\n",
       "| [![arXiv](https://img.shields.io/badge/arXiv-arXiv:2310.14715-b31b1b.svg)](https://arxiv.org/abs/arXiv:2310.14715) | **The CARMENES search for exoplanets around M dwarfs. Telluric absorption  corrected high S/N optical and near-infrared template spectra of 382 M dwarf  stars**  |\n",
       "|| E. Nagel, et al. -- incl., <mark>M. Kürster</mark> |\n",
       "|*Appeared on*| *2023-10-24*|\n",
       "|*Comments*| *31 pages, 24 figures, 3 tables, accepted for publication by A&A*|\n",
       "|**Abstract**| Light from celestial objects interacts with the molecules of the Earth's atmosphere, resulting in the production of telluric absorption lines in ground-based spectral data. Correcting for these lines, which strongly affect red and infrared wavelengths, is often needed in a wide variety of scientific applications. Here, we present the template division telluric modeling (TDTM) technique, a method for accurately removing telluric absorption lines in stars that exhibit numerous intrinsic features. Based on the Earth's barycentric motion throughout the year, our approach is suited for disentangling telluric and stellar spectral components. By fitting a synthetic transmission model, telluric-free spectra are derived. We demonstrate the performance of the TDTM technique in correcting telluric contamination using a high-resolution optical spectral time series of the feature-rich M3.0 dwarf star Wolf 294 that was obtained with the CARMENES spectrograph. We apply the TDTM approach to the CARMENES survey sample, which consists of 382 targets encompassing 22357 optical and 20314 near-infrared spectra, to correct for telluric absorption. The corrected spectra are coadded to construct template spectra for each of our targets. This library of telluric-free, high signal-to-noise ratio, high-resolution (R>80000) templates comprises the most comprehensive collection of spectral M-dwarf data available to date, both in terms of quantity and quality, and is available at the project website (this http URL). |"
      ],
      "text/plain": [
       "[arXiv:2310.14715] The CARMENES search for exoplanets around M dwarfs. Telluric absorption  corrected high S/N optical and near-infrared template spectra of 382 M dwarf  stars\n",
       "\tE. Nagel, et al. -- incl., <mark>M. Kürster</mark>"
      ]
     },
     "metadata": {},
     "output_type": "display_data"
    },
    {
     "data": {
      "text/markdown": [
       "\n",
       "|||\n",
       "|---:|:---|\n",
       "| [![arXiv](https://img.shields.io/badge/arXiv-arXiv:2310.14716-b31b1b.svg)](https://arxiv.org/abs/arXiv:2310.14716) | **Euclid preparation. XXXI. The effect of the variations in photometric  passbands on photometric-redshift accuracy**  |\n",
       "|| E. Collaboration, et al. -- incl., <mark>M. Schirmer</mark> |\n",
       "|*Appeared on*| *2023-10-24*|\n",
       "|*Comments*| *19 pages, 13 figures; Accepted for publication in A&A*|\n",
       "|**Abstract**| The technique of photometric redshifts has become essential for the exploitation of multi-band extragalactic surveys. While the requirements on photo-zs for the study of galaxy evolution mostly pertain to the precision and to the fraction of outliers, the most stringent requirement in their use in cosmology is on the accuracy, with a level of bias at the sub-percent level for the Euclid cosmology mission. A separate, and challenging, calibration process is needed to control the bias at this level of accuracy. The bias in photo-zs has several distinct origins that may not always be easily overcome. We identify here one source of bias linked to the spatial or time variability of the passbands used to determine the photometric colours of galaxies. We first quantified the effect as observed on several well-known photometric cameras, and found in particular that, due to the properties of optical filters, the redshifts of off-axis sources are usually overestimated. We show using simple simulations that the detailed and complex changes in the shape can be mostly ignored and that it is sufficient to know the mean wavelength of the passbands of each photometric observation to correct almost exactly for this bias; the key point is that this mean wavelength is independent of the spectral energy distribution of the source}. We use this property to propose a correction that can be computationally efficiently implemented in some photo-z algorithms, in particular template-fitting. We verified that our algorithm, implemented in the new photo-z code Phosphoros, can effectively reduce the bias in photo-zs on real data using the CFHTLS T007 survey, with an average measured bias Delta z over the redshift range 0.4<z<0.7 decreasing by about 0.02, specifically from Delta z~0.04 to Delta z~0.02 around z=0.5. Our algorithm is also able to produce corrected photometry for other applications. |"
      ],
      "text/plain": [
       "[arXiv:2310.14716] Euclid preparation. XXXI. The effect of the variations in photometric  passbands on photometric-redshift accuracy\n",
       "\tE. Collaboration, et al. -- incl., <mark>M. Schirmer</mark>"
      ]
     },
     "metadata": {},
     "output_type": "display_data"
    },
    {
     "data": {
      "text/markdown": [
       "## Failed papers"
      ],
      "text/plain": [
       "<IPython.core.display.Markdown object>"
      ]
     },
     "metadata": {},
     "output_type": "display_data"
    },
    {
     "data": {
      "text/markdown": [
       "\n",
       "|||\n",
       "|---:|:---|\n",
       "| [![arXiv](https://img.shields.io/badge/arXiv-arXiv:2310.14061-b31b1b.svg)](https://arxiv.org/abs/arXiv:2310.14061) | **Investigating Protostellar Accretion across the mass spectrum with the  JWST: discovery of a collimated jet from the low luminosity protostar IRAS  16253-2429 in a quiescent accretion phase**  |\n",
       "|| M. Narang, et al. -- incl., <mark>H. Beuther</mark>, <mark>H. Linz</mark> |\n",
       "|*Appeared on*| *2023-10-24*|\n",
       "|*Comments*| *To be submitted to ApJL. Comments and feedback welcome*|\n",
       "|**Abstract**| Investigating Protostellar Accretion (IPA) is a JWST Cycle 1 GO program that used NIRSpec IFU and MIRI MRS to obtain 2.9--28~$\\mu$m spectral cubes of young, deeply embedded, protostars with luminosities of 0.2 to 10,000~L$_{\\odot}$ and central masses of 0.15 to 12~M$_{\\odot}$. In this Letter, we report the discovery of a highly collimated atomic jet from the Class 0 protostar IRAS~16253-2429, the lowest luminosity (mass) source in the IPA program. The collimated jet is clearly detected in multiple [Fe~II] lines, [Ne~II], [Ni~II], and H~I lines, but not in molecular emission. From our analysis, we find that the atomic jet has a velocity of about 169~$\\pm$~15~km\\,s$^{-1}$, after correcting for inclination. The width of the jet increases with distance from the central protostar from 23 to~60 au, corresponding to an opening angle of 2.6~$\\pm$~0.5\\arcdeg. By comparing the measured flux ratios of various fine structure lines to those predicted by simple shock models, we derive a shock velocity of 54~km\\,s$^{-1}$ and a preshock density of 2.0$\\times10^{3}$~cm$^{-3}$ at the base of the jet. From these quantities, and assuming a cylindrical cross-section for the jet, we derive an upper limit for the mass loss rate from the protostar of 1.1$\\times10^{-10}~M_{\\odot}$~yr~$^{-1}$. The low mass loss rate is consistent with simultaneous measurements of low mass accretion rate ($\\sim 1.3 \\times 10^{-9}~M_{\\odot}$~yr~$^{-1}$) for IRAS~16253-2429 from JWST observations (Watson et al. in prep), indicating that the protostar is in a quiescent accretion phase. Our results demonstrate that very low-mass protostars can drive highly collimated, atomic jets, even during the quiescent phase. |\n",
       "|<p style=\"color:green\"> **ERROR** </p>| <p style=\"color:green\">affiliation error: mpia.affiliation_verifications: '69117' keyword not found.</p> |"
      ],
      "text/plain": [
       "<IPython.core.display.Markdown object>"
      ]
     },
     "metadata": {},
     "output_type": "display_data"
    },
    {
     "data": {
      "text/markdown": [
       "\n",
       "|||\n",
       "|---:|:---|\n",
       "| [![arXiv](https://img.shields.io/badge/arXiv-arXiv:2310.14874-b31b1b.svg)](https://arxiv.org/abs/arXiv:2310.14874) | **The Cosmic Dust Storms in SNIa-CSM 2018evt**  |\n",
       "|| L. Wang, et al. -- incl., <mark>M. Smith</mark>, <mark>X. Zhang</mark> |\n",
       "|*Appeared on*| *2023-10-24*|\n",
       "|*Comments*| *Resubmitted to Nature Astronomy, 6 main figures, 7 extended figures, and 2 extended tables*|\n",
       "|**Abstract**| We report evidence of dust formation in the cold, dense shell behind the ejecta-circumstellar medium (CSM) interaction in the Type Ia (SNIa) SN2018evt three years after the explosion, characterized by a rise in the mid-infrared (MIR) flux accompanied by an accelerated decline in the optical. Such a dust-formation picture is also corroborated by the concurrent evolution of the profiles of the Ha emission lines. Our models suggest enhanced dust concentration at increasing distances from the SN as compared to what can be expected from the density profile of the mass loss from a steady stellar wind. This may indicate an enhanced dust presence at larger distances from the progenitor star. The dust distribution can be modeled in terms of a double-shell which assumes a sudden change of the density profile of the dust or a single-shell model with a flatter radial profile. The inferred mass-loss history of SN2018evt is consistent with a progenitor's mass loss in a binary system containing a C/O white dwarf and a massive asymptotic giant branch star. The grand rebrightening in the MIR after day +310 is attributed to the formation of new dust within the CDS region behind the forward shock. The mass of the newly-formed dust increases rapidly with time and follows a power law with an index of 4. By the time of the last MIR observations at day +1041, a total amount of 1.2+-0.2 x 10^{-2} Msun of dust has been produced, making SN 2018evt one of the most prolific dust factory among SNe with evidence of dust formations. |\n",
       "|<p style=\"color:green\"> **ERROR** </p>| <p style=\"color:green\">affiliation error: mpia.affiliation_verifications: '69117' keyword not found.</p> |"
      ],
      "text/plain": [
       "<IPython.core.display.Markdown object>"
      ]
     },
     "metadata": {},
     "output_type": "display_data"
    },
    {
     "data": {
      "text/markdown": [
       "\n",
       "|||\n",
       "|---:|:---|\n",
       "| [![arXiv](https://img.shields.io/badge/arXiv-arXiv:2310.13740-b31b1b.svg)](https://arxiv.org/abs/arXiv:2310.13740) | **Cosmoglobe DR1. III. First full-sky model of polarized synchrotron  emission from all WMAP and Planck LFI data**  |\n",
       "|| D. J. Watts, et al. -- incl., <mark>K. Lee</mark> |\n",
       "|*Appeared on*| *2023-10-24*|\n",
       "|*Comments*| *15 pages, 15 figures, submitted to A&A*|\n",
       "|**Abstract**| We present the first model of full-sky polarized synchrotron emission that is derived from all WMAP and Planck LFI frequency maps. The basis of this analysis is the set of end-to-end reprocessed Cosmoglobe Data Release 1 sky maps presented in a companion paper, which have significantly lower instrumental systematics than the legacy products from each experiment. We find that the resulting polarized synchrotron amplitude map has an average noise rms of $3.2\\,\\mathrm{\\mu K}$ at 30 GHz and $2^{\\circ}$ FWHM, which is 30% lower than the recently released BeyondPlanck model that included only LFI+WMAP Ka-V data, and 29% lower than the WMAP K-band map alone. The mean $B$-to-$E$ power spectrum ratio is $0.40\\pm0.02$, with amplitudes consistent with those measured previously by Planck and QUIJOTE. Assuming a power law model for the synchrotron spectral energy distribution, and using the $T$--$T$ plot method, we find a full-sky inverse noise-variance weighted mean of $\\beta_{\\mathrm{s}}=-3.07\\pm0.07$ between Cosmoglobe DR1 K-band and 30 GHz, in good agreement with previous estimates. In summary, the novel Cosmoglobe DR1 synchrotron model is both more sensitive and systematically cleaner than similar previous models, and it has a more complete error description that is defined by a set of Monte Carlo posterior samples. We believe that these products are preferable over previous Planck and WMAP products for all synchrotron-related scientific applications, including simulation, forecasting and component separation. |\n",
       "|<p style=\"color:green\"> **ERROR** </p>| <p style=\"color:green\">affiliation error: mpia.affiliation_verifications: 'Heidelberg' keyword not found.</p> |"
      ],
      "text/plain": [
       "<IPython.core.display.Markdown object>"
      ]
     },
     "metadata": {},
     "output_type": "display_data"
    },
    {
     "data": {
      "text/markdown": [
       "\n",
       "|||\n",
       "|---:|:---|\n",
       "| [![arXiv](https://img.shields.io/badge/arXiv-arXiv:2310.14447-b31b1b.svg)](https://arxiv.org/abs/arXiv:2310.14447) | **SOUL at LBT: commissioning results, science and future**  |\n",
       "|| E. Pinna, et al. -- incl., <mark>X. Zhang</mark> |\n",
       "|*Appeared on*| *2023-10-24*|\n",
       "|*Comments*| *13 pages, 10 figures, Adaptive Optics for Extremely Large Telescopes 7th Edition, 25-30 Jun 2023 Avignon (France)*|\n",
       "|**Abstract**| The SOUL systems at the Large Bincoular Telescope can be seen such as precursor for the ELT SCAO systems, combining together key technologies such as EMCCD, Pyramid WFS and adaptive telescopes. After the first light of the first upgraded system on September 2018, going through COVID and technical stops, we now have all the 4 systems working on-sky. Here, we report about some key control improvements and the system performance characterized during the commissioning. The upgrade allows us to correct more modes (500) in the bright end and increases the sky coverage providing SR(K)>20% with reference stars G$_{RP}$<17, opening to extragalcatic targets with NGS systems. Finally, we review the first astrophysical results, looking forward to the next generation instruments (SHARK-NIR, SHARK-Vis and iLocater), to be fed by the SOUL AO correction. |\n",
       "|<p style=\"color:green\"> **ERROR** </p>| <p style=\"color:green\">affiliation error: mpia.affiliation_verifications: 'Heidelberg' keyword not found.</p> |"
      ],
      "text/plain": [
       "<IPython.core.display.Markdown object>"
      ]
     },
     "metadata": {},
     "output_type": "display_data"
    },
    {
     "data": {
      "text/markdown": [
       "\n",
       "|||\n",
       "|---:|:---|\n",
       "| [![arXiv](https://img.shields.io/badge/arXiv-arXiv:2310.14530-b31b1b.svg)](https://arxiv.org/abs/arXiv:2310.14530) | **Mock Observations: Formation and Evolution of diffuse light in Galaxy  Groups and Clusters in the IllustrisTNG Simulations**  |\n",
       "|| L. Tang, et al. -- incl., <mark>J. Li</mark> |\n",
       "|*Appeared on*| *2023-10-24*|\n",
       "|*Comments*| *8 figures, 2 tables, Accepted for publication in ApJ*|\n",
       "|**Abstract**| In this paper, by analyzing mock images from the IllustrisTNG100-1 simulation, we examine the properties of the diffuse light and compare them to those of central and satellite galaxies. Our findings suggest that the majority of the diffuse light originates from satellites. This claim is supported by the similarity between the age and metallicity distributions of the diffuse light and those of the satellites. Notably, the color distribution of the diffuse light gradually evolves to resemble that of the centrals at lower redshifts, suggesting a coevolution or passive process. The radial profiles of the diffuse light reveal distinct trends, with the inner regions displaying a relatively flat distribution and the outer regions showing a descending pattern. This finding suggests that the formation of the diffuse light is influenced by both major mergers and stellar tidal stripping. Moreover, strong correlations are found between the stellar mass of the diffuse light and the overall stellar mass of the satellites, as well as between the stellar mass of the diffuse light and the number of satellites within groups or clusters. These relationships can be described by power-law and logarithmic functions. Overall, the diffuse light components predominantly originate from satellites with intermediate ages and metallicities. These satellites typically fall within the stellar mass range of $\\rm 8<\\log_{10}M_{star}/M_{\\odot}< 10$ and the color range of $\\rm -1<[g-r]^{0.1}< 0$. As the redshift decreases, the growth of the diffuse light is primarily influenced by the redder satellites, while the most massive and reddest satellites have minimal roles in its growth. |\n",
       "|<p style=\"color:green\"> **ERROR** </p>| <p style=\"color:green\">affiliation error: mpia.affiliation_verifications: 'Heidelberg' keyword not found.</p> |"
      ],
      "text/plain": [
       "<IPython.core.display.Markdown object>"
      ]
     },
     "metadata": {},
     "output_type": "display_data"
    },
    {
     "data": {
      "text/markdown": [
       "\n",
       "|||\n",
       "|---:|:---|\n",
       "| [![arXiv](https://img.shields.io/badge/arXiv-arXiv:2310.14723-b31b1b.svg)](https://arxiv.org/abs/arXiv:2310.14723) | **Testing the spatial geometry of the universe with TianQin: the prospect  of using supermassive black hole binaries**  |\n",
       "|| Y. Pan, et al. -- incl., <mark>J. Li</mark> |\n",
       "|*Appeared on*| *2023-10-24*|\n",
       "|*Comments*| *This article has been accepted by Astronomy & Astrophysics*|\n",
       "|**Abstract**| The determination of the spatial geometry of the universe plays an important role in modern cosmology. Any deviation from the cosmic curvature $\\Omega_K=0$ would have a profound impact on the primordial inflation paradigm and fundamental physics. In this paper, we carry out a systematic study of the prospect of measuring cosmic curvature with the inspiral signal of supermassive black hole binaries (SMBHBs) that could be detected with TianQin. The study is based on a cosmological-model-independent method that extended the application of gravitational wave (GW) standard sirens in cosmology. By comparing the distances from future simulated GW events and simulated $H(z)$ data, we evaluate if TianQin would produce robust constraints on the cosmic curvature parameter $\\Omega_{k}$. More specifically, we consider 3-yr to 10-yr observations of supermassive black hole binaries with total masses ranging from $10^{3}M_\\odot$ to $10^{7}M_\\odot$. Our results show that in the future, with the synergy of 10-yr high-quality observations, we can tightly constrain the curvature parameter at the level of $1\\sigma$ $\\Omega_k=-0.002\\pm0.061$. Moreover, our findings indicate that the total mass of SMBHB does influence the estimation of cosmic curvature, implied by the analysis performed on different subsamples of gravitational wave data. Therefore, TianQin is expected to provide a powerful and competitive probe of the spatial geometry of the universe, compared to future spaced-based detectors such as DECIGO. |\n",
       "|<p style=\"color:green\"> **ERROR** </p>| <p style=\"color:green\">affiliation error: mpia.affiliation_verifications: 'Heidelberg' keyword not found.</p> |"
      ],
      "text/plain": [
       "<IPython.core.display.Markdown object>"
      ]
     },
     "metadata": {},
     "output_type": "display_data"
    }
   ],
   "source": [
    "import datetime\n",
    "today = str(datetime.date.today())\n",
    "logfile = f\"_build/html/logs/log-{today}.md\"\n",
    "\n",
    "\n",
    "with open(logfile, 'w') as logs:\n",
    "    # Success\n",
    "    logs.write(f'# Arxiv on Deck 2: Logs - {today}\\n\\n')\n",
    "    logs.write(\"\"\"* Arxiv had {0:,d} new papers\\n\"\"\".format(len(new_papers)))\n",
    "    logs.write(\"\"\"    * {0:,d} with possible author matches\\n\\n\"\"\".format(len(candidates)))\n",
    "    logs.write(\"## Sucessful papers\\n\\n\")\n",
    "    display(Markdown(\"## Successful papers\"))\n",
    "    success = [k[0] for k in documents]\n",
    "    for candid in candidates:\n",
    "        if candid['identifier'].split(':')[-1] in success:\n",
    "            display(candid)\n",
    "            logs.write(candid.generate_markdown_text() + '\\n\\n')\n",
    "\n",
    "    ## failed\n",
    "    logs.write(\"## Failed papers\\n\\n\")\n",
    "    display(Markdown(\"## Failed papers\"))\n",
    "    failed = sorted(failed, key=lambda x: x[1])\n",
    "    current_reason = \"\"\n",
    "    for paper, reason in failed:\n",
    "        if 'affiliation' in reason:\n",
    "            color = 'green'\n",
    "        else:\n",
    "            color = 'red'\n",
    "        data = Markdown(\n",
    "                paper.generate_markdown_text() + \n",
    "                f'\\n|<p style=\"color:{color:s}\"> **ERROR** </p>| <p style=\"color:{color:s}\">{reason:s}</p> |'\n",
    "               )\n",
    "        if reason != current_reason:\n",
    "            logs.write(f'### {reason:s} \\n\\n')\n",
    "            current_reason = reason\n",
    "        logs.write(data.data + '\\n\\n')\n",
    "        \n",
    "        # only display here the important errors (all in logs)\n",
    "        # if color in ('red',):\n",
    "        display(data)"
   ]
  },
  {
   "cell_type": "markdown",
   "id": "472d20ee",
   "metadata": {
    "papermill": {
     "duration": 0.006934,
     "end_time": "2023-10-24T04:08:36.162799",
     "exception": false,
     "start_time": "2023-10-24T04:08:36.155865",
     "status": "completed"
    },
    "tags": []
   },
   "source": [
    "## Export documents\n",
    "\n",
    "We now write the .md files and export relevant images"
   ]
  },
  {
   "cell_type": "code",
   "execution_count": 6,
   "id": "d426aed9",
   "metadata": {
    "execution": {
     "iopub.execute_input": "2023-10-24T04:08:36.178837Z",
     "iopub.status.busy": "2023-10-24T04:08:36.178108Z",
     "iopub.status.idle": "2023-10-24T04:08:36.186291Z",
     "shell.execute_reply": "2023-10-24T04:08:36.185707Z"
    },
    "papermill": {
     "duration": 0.018126,
     "end_time": "2023-10-24T04:08:36.187874",
     "exception": false,
     "start_time": "2023-10-24T04:08:36.169748",
     "status": "completed"
    },
    "tags": []
   },
   "outputs": [],
   "source": [
    "def export_markdown_summary(md: str, md_fname:str, directory: str):\n",
    "    \"\"\"Export MD document and associated relevant images\"\"\"\n",
    "    import os\n",
    "    import shutil\n",
    "    import re\n",
    "\n",
    "    if (os.path.exists(directory) and not os.path.isdir(directory)):\n",
    "        raise RuntimeError(f\"a non-directory file exists with name {directory:s}\")\n",
    "\n",
    "    if (not os.path.exists(directory)):\n",
    "        print(f\"creating directory {directory:s}\")\n",
    "        os.mkdir(directory)\n",
    "\n",
    "    fig_fnames = (re.compile(r'\\[Fig.*\\]\\((.*)\\)').findall(md) + \n",
    "                  re.compile(r'\\<img src=\"([^>\\s]*)\"[^>]*/>').findall(md))\n",
    "    for fname in fig_fnames:\n",
    "        if 'http' in fname:\n",
    "            # No need to copy online figures\n",
    "            continue\n",
    "        destdir = os.path.join(directory, os.path.dirname(fname))\n",
    "        destfname = os.path.join(destdir, os.path.basename(fname))\n",
    "        try:\n",
    "            os.makedirs(destdir)\n",
    "        except FileExistsError:\n",
    "            pass\n",
    "        shutil.copy(fname, destfname)\n",
    "    with open(os.path.join(directory, md_fname), 'w') as fout:\n",
    "        fout.write(md)\n",
    "    print(\"exported in \", os.path.join(directory, md_fname))\n",
    "    [print(\"    + \" + os.path.join(directory,fk)) for fk in fig_fnames]"
   ]
  },
  {
   "cell_type": "code",
   "execution_count": 7,
   "id": "014d04a4",
   "metadata": {
    "execution": {
     "iopub.execute_input": "2023-10-24T04:08:36.203529Z",
     "iopub.status.busy": "2023-10-24T04:08:36.203026Z",
     "iopub.status.idle": "2023-10-24T04:08:36.211908Z",
     "shell.execute_reply": "2023-10-24T04:08:36.211250Z"
    },
    "papermill": {
     "duration": 0.018564,
     "end_time": "2023-10-24T04:08:36.213452",
     "exception": false,
     "start_time": "2023-10-24T04:08:36.194888",
     "status": "completed"
    },
    "tags": []
   },
   "outputs": [
    {
     "name": "stdout",
     "output_type": "stream",
     "text": [
      "exported in  _build/html/2310.14715.md\n",
      "    + _build/html/tmp_2310.14715/./Figures/accuracy_O2.png\n",
      "    + _build/html/tmp_2310.14715/./Figures/tdtm_vis_H2O.png\n",
      "    + _build/html/tmp_2310.14715/./Figures/residuals-vs-linedepth.png\n",
      "    + _build/html/tmp_2310.14715/./Figures/residuals-vs-airmass.png\n",
      "    + _build/html/tmp_2310.14715/./Figures/residuals-vs-water_content.png\n",
      "exported in  _build/html/2310.14716.md\n",
      "    + _build/html/tmp_2310.14716/./figs/bias_delta.png\n",
      "    + _build/html/tmp_2310.14716/./figs/shift_bias.png\n",
      "    + _build/html/tmp_2310.14716/./figs/corr_factor.png\n"
     ]
    }
   ],
   "source": [
    "for paper_id, md in documents:\n",
    "    export_markdown_summary(md, f\"{paper_id:s}.md\", '_build/html/')"
   ]
  },
  {
   "cell_type": "markdown",
   "id": "f087a0a7",
   "metadata": {
    "papermill": {
     "duration": 0.007343,
     "end_time": "2023-10-24T04:08:36.227983",
     "exception": false,
     "start_time": "2023-10-24T04:08:36.220640",
     "status": "completed"
    },
    "tags": []
   },
   "source": [
    "## Display the papers\n",
    "\n",
    "Not necessary but allows for a quick check."
   ]
  },
  {
   "cell_type": "code",
   "execution_count": 8,
   "id": "fd25f625",
   "metadata": {
    "execution": {
     "iopub.execute_input": "2023-10-24T04:08:36.244627Z",
     "iopub.status.busy": "2023-10-24T04:08:36.243884Z",
     "iopub.status.idle": "2023-10-24T04:08:36.250162Z",
     "shell.execute_reply": "2023-10-24T04:08:36.249624Z"
    },
    "papermill": {
     "duration": 0.016098,
     "end_time": "2023-10-24T04:08:36.251641",
     "exception": false,
     "start_time": "2023-10-24T04:08:36.235543",
     "status": "completed"
    },
    "scrolled": false,
    "tags": []
   },
   "outputs": [
    {
     "data": {
      "text/markdown": [
       "<div class=\"macros\" style=\"visibility:hidden;\">\n",
       "$\\newcommand{\\ensuremath}{}$\n",
       "$\\newcommand{\\xspace}{}$\n",
       "$\\newcommand{\\object}[1]{\\texttt{#1}}$\n",
       "$\\newcommand{\\farcs}{{.}''}$\n",
       "$\\newcommand{\\farcm}{{.}'}$\n",
       "$\\newcommand{\\arcsec}{''}$\n",
       "$\\newcommand{\\arcmin}{'}$\n",
       "$\\newcommand{\\ion}[2]{#1#2}$\n",
       "$\\newcommand{\\textsc}[1]{\\textrm{#1}}$\n",
       "$\\newcommand{\\hl}[1]{\\textrm{#1}}$\n",
       "$\\newcommand{\\footnote}[1]{}$</div>\n",
       "\n",
       "\n",
       "\n",
       "<div id=\"title\">\n",
       "\n",
       "# The CARMENES search for exoplanets around M dwarfs\n",
       "\n",
       "</div>\n",
       "<div id=\"comments\">\n",
       "\n",
       "[![arXiv](https://img.shields.io/badge/arXiv-2310.14715-b31b1b.svg)](https://arxiv.org/abs/2310.14715)<mark>Appeared on: 2023-10-24</mark> -  _31 pages, 24 figures, 3 tables, accepted for publication by A&A_\n",
       "\n",
       "</div>\n",
       "<div id=\"authors\">\n",
       "\n",
       "E. Nagel, et al. -- incl., <mark>M. Kürster</mark>\n",
       "\n",
       "</div>\n",
       "<div id=\"abstract\">\n",
       "\n",
       "**Abstract:** Light from celestial objects interacts with the molecules of the Earth's atmosphere,resulting in the production of telluric absorption lines in ground-based spectral data.Correcting for these lines, which strongly affect red and infrared wavelengths,is often needed in a wide variety of scientific applications.Here, we present the template division telluric modeling (TDTM) technique,a method for accurately removing telluric absorption lines in stars thatexhibit numerous intrinsic features.Based on the Earth's barycentric motionthroughout the year, our approach is suited for disentangling telluric andstellar spectral components.By fitting a synthetic transmission model, telluric-free spectra are derived.We demonstrate the performance of the TDTM technique in correctingtelluric contaminationusing a high-resolution optical spectral time series of thefeature-rich M3.0 dwarf star Wolf 294 that was obtained with the CARMENES spectrograph.We apply the TDTM approach to the CARMENES survey sample, which consists of382 targets encompassing 22 357 optical and 20 314 near-infrared spectra,to correct for telluric absorption.The corrected spectra are coadded to constructtemplate spectra for each of our targets.This library of telluric-free, high signal-to-noise ratio, high-resolution ( $\\mathcal{R}>80 000$ ) templates comprisesthe most comprehensive collection of spectralM-dwarf data available to date, both in terms of quantity and quality,and is available at the project website.\n",
       "\n",
       "</div>\n",
       "\n",
       "<div id=\"div_fig1\">\n",
       "\n",
       "<img src=\"tmp_2310.14715/./Figures/accuracy_O2.png\" alt=\"Fig12\" width=\"100%\"/>\n",
       "\n",
       "**Figure 12. -** \n",
       "            Example of telluric line fits for the $O_2$ band in a single Wolf 294 spectrum.\n",
       "            The top panel displays the residual telluric spectrum (black dots)\n",
       "            after dividing the science spectrum by the stellar template,\n",
       "            and the best-fit telluric model (green dots) derived with \\texttt{molecfit}.\n",
       "            The subplots illustrate the individual telluric lines (top) and\n",
       "            the residuals (bottom, black dots), with dashed red lines marking\n",
       "            a $2 \\%$ deviation between data and model. The standard deviation $\\sigma$\n",
       "            of the residuals is also shown in each subplot.\n",
       "             (*figure:accuracy_O2*)\n",
       "\n",
       "</div>\n",
       "<div id=\"div_fig2\">\n",
       "\n",
       "<img src=\"tmp_2310.14715/./Figures/tdtm_vis_H2O.png\" alt=\"Fig7\" width=\"100%\"/>\n",
       "\n",
       "**Figure 7. -** \n",
       "Illustration of the TDTM method.\n",
       "_Panel a:_ Segment of the VIS template spectrum of Wolf 294.\n",
       "The number $M_k$ of exposure pixels that contribute to each template knot is color-coded.\n",
       "The red shaded wavelength ranges mark knots with $M_k = 0$.\n",
       "_Panel b:_\n",
       "        One residual telluric spectrum $F_{n,i} / S(\\lambda_{n,i})$(black dots)\n",
       "after the division of the science spectrum by the template,\n",
       "and the best-fit telluric model ($T(\\lambda_{n,i})$, green line) derived with \\texttt{molecfit}.\n",
       "The red shaded wavelength ranges are excluded from the transmission model fit.\n",
       "_Panel c:_\n",
       "\tAbsolute residuals $F_{n,i}/S(\\lambda_{n,i}) - T(\\lambda_{n,i})$ of the fit.\n",
       "_Panel d:_\n",
       "CARMENES spectrum before ($F_{n,i}$, red line) and after ($F_{n,i} / T(\\lambda_{n,i})$)\n",
       "correction with the transmission model derived with \\texttt{molecfit}(black line).\n",
       "_Panel e:_\n",
       "\tTelluric free high S/N template spectrum of Wolf 294 (black line) built using 444 telluric absorption-corrected\n",
       "CARMENES observations. The order has an S/N of 2310.\n",
       " (*figure:tdtm_vis*)\n",
       "\n",
       "</div>\n",
       "<div id=\"div_fig3\">\n",
       "\n",
       "<img src=\"tmp_2310.14715/./Figures/residuals-vs-linedepth.png\" alt=\"Fig3.1\" width=\"33%\"/><img src=\"tmp_2310.14715/./Figures/residuals-vs-airmass.png\" alt=\"Fig3.2\" width=\"33%\"/><img src=\"tmp_2310.14715/./Figures/residuals-vs-water_content.png\" alt=\"Fig3.3\" width=\"33%\"/>\n",
       "\n",
       "**Figure 3. -** \n",
       "        Metrics for assessing the quality of the telluric correction.\n",
       "        _Top panel:_\n",
       "        Residual standard deviation ($\\sigma$) vs. line depth for a single Wolf 294 VIS (blue) and NIR (red) spectrum.\n",
       "        _Middle panel:_ Median residual standard deviation ($\\tilde{\\sigma}$) vs. airmass for all Wolf 294 VIS and NIR spectra.\n",
       "        _Bottom panel:_ Median $\\tilde{\\sigma}$ for telluric water bands vs. precipitable water vapor for all Wolf 294 VIS and NIR spectra. (*figure:residuals-vs-linedepth*)\n",
       "\n",
       "</div><div id=\"qrcode\"><img src=https://api.qrserver.com/v1/create-qr-code/?size=100x100&data=\"https://arxiv.org/abs/2310.14715\"></div>"
      ],
      "text/plain": [
       "<IPython.core.display.Markdown object>"
      ]
     },
     "metadata": {},
     "output_type": "display_data"
    },
    {
     "data": {
      "text/markdown": [
       "<div class=\"macros\" style=\"visibility:hidden;\">\n",
       "$\\newcommand{\\ensuremath}{}$\n",
       "$\\newcommand{\\xspace}{}$\n",
       "$\\newcommand{\\object}[1]{\\texttt{#1}}$\n",
       "$\\newcommand{\\farcs}{{.}''}$\n",
       "$\\newcommand{\\farcm}{{.}'}$\n",
       "$\\newcommand{\\arcsec}{''}$\n",
       "$\\newcommand{\\arcmin}{'}$\n",
       "$\\newcommand{\\ion}[2]{#1#2}$\n",
       "$\\newcommand{\\textsc}[1]{\\textrm{#1}}$\n",
       "$\\newcommand{\\hl}[1]{\\textrm{#1}}$\n",
       "$\\newcommand{\\footnote}[1]{}$\n",
       "$\\newcommand{\\rom}[1]{\\uppercase\\expandafter{\\romannumeral #1\\relax}}$\n",
       "$\\newcommand{\\phz}{photometric redshift}$\n",
       "$\\newcommand{\\phdz}{photometric-redshift}$\n",
       "$\\newcommand{\\dd}{\\mathrm{d}}$\n",
       "$\\newcommand{\\orcid}[1]$</div>\n",
       "\n",
       "\n",
       "\n",
       "<div id=\"title\">\n",
       "\n",
       "# $\\Euclid$ preparation. XXXI. The effect of the variations in photometric passbands on photometric-redshift accuracy\n",
       "\n",
       "</div>\n",
       "<div id=\"comments\">\n",
       "\n",
       "[![arXiv](https://img.shields.io/badge/arXiv-2310.14716-b31b1b.svg)](https://arxiv.org/abs/2310.14716)<mark>Appeared on: 2023-10-24</mark> -  _19 pages, 13 figures; Accepted for publication in A&A_\n",
       "\n",
       "</div>\n",
       "<div id=\"authors\">\n",
       "\n",
       "E. Collaboration, et al. -- incl., <mark>M. Schirmer</mark>\n",
       "\n",
       "</div>\n",
       "<div id=\"abstract\">\n",
       "\n",
       "**Abstract:** The technique of photometric redshifts has become essential for the exploitation of multi-band extragalactic surveys. While the requirements on $\\phz$ s for the study of galaxy evolution mostly pertain to the precision and to the fraction of outliers, the most stringent requirement ${in}$ their use in cosmology is on the accuracy, with a level of bias at the sub-percent level for the $\\Euclid$ cosmology mission. A separate, and challenging, calibration process is needed to control the bias at this level of accuracy. ${The bias in \\phz s has several distinct origins that may not always be easily overcome.}$ We identify here one source of bias linked to the spatial or time variability of the passbands used to determine the photometric colours of galaxies. We first quantified the effect as observed on several well-known photometric cameras, and ${found in particular that, due to the properties of optical filters, the redshifts of off-axis sources are usually overestimated}$ . We show using simple simulations that the detailed and complex changes in the shape can be mostly ignored and that it is sufficient to know the ${mean}$ wavelength of the passbands of each photometric observation to correct almost exactly for this bias; ${the key point is that this mean wavelength is independent of the spectral energy distribution of the source}$ . We use this property to propose a ${correction that can be computationally efficiently implemented in some \\phdz algorithms}$ , in particular template-fitting. We verified that our algorithm, implemented in the new $\\phdz$ code \\texttt{Phosphoros} , can effectively reduce the bias in $\\phz$ s on real data using the CFHTLS T007 survey, with an average measured bias $\\Delta z$ over the redshift range $0.4\\le z\\le 0.7$ decreasing by about 0.02, ${specifically from $\\Delta z\\simeq 0.04$ to $\\Delta z\\simeq 0.02$ around $z=0.5$}$ . Our algorithm is also able to produce corrected photometry for other applications.\n",
       "\n",
       "</div>\n",
       "\n",
       "<div id=\"div_fig1\">\n",
       "\n",
       "<img src=\"tmp_2310.14716/./figs/bias_delta.png\" alt=\"Fig2\" width=\"100%\"/>\n",
       "\n",
       "**Figure 2. -** Bias $\\Delta z$ resulting from a shift of $\\Delta\\mu$ in the $G$ passband for $z=0.15$(solid blue line). The dashed red line is the `theoretical' bias $\\Delta\\mu/400$ nm, where $\\Delta\\mu$ is the error on the location of the Balmer break. The grey area shows the domain of variations of the mean wavelengths of the measured MegaCam $r$ passbands (from 0 to 8 nm). (*fig:toy_mean*)\n",
       "\n",
       "</div>\n",
       "<div id=\"div_fig2\">\n",
       "\n",
       "<img src=\"tmp_2310.14716/./figs/shift_bias.png\" alt=\"Fig4\" width=\"100%\"/>\n",
       "\n",
       "**Figure 4. -** Median bias in $\\phdz$ predictions as a function of redshift for the original catalogue (black line) and when taking into account the correction in the mean passband wavelengths (red line). {The dashed blue line shows the reduction in the bias between the two solid curves.} The grey area indicates the \\Euclid requirement. While it is clear that the passband correction reduces the bias significantly, there is still a need for a post-processing calibration step in order to meet the \\Euclid requirements. (*fig:shift_bias*)\n",
       "\n",
       "</div>\n",
       "<div id=\"div_fig3\">\n",
       "\n",
       "<img src=\"tmp_2310.14716/./figs/corr_factor.png\" alt=\"Fig5\" width=\"100%\"/>\n",
       "\n",
       "**Figure 5. -** Correction factors $C^{\\alpha}_T(\\Delta\\lambda)$(blue points) and the corresponding approximation with a second-degree polynomial (red line) for four arbitrary values of the passband $T(\\lambda)$ and of the coordinates $\\alpha$ in the model grid. (*fig:corr_factor*)\n",
       "\n",
       "</div><div id=\"qrcode\"><img src=https://api.qrserver.com/v1/create-qr-code/?size=100x100&data=\"https://arxiv.org/abs/2310.14716\"></div>"
      ],
      "text/plain": [
       "<IPython.core.display.Markdown object>"
      ]
     },
     "metadata": {},
     "output_type": "display_data"
    }
   ],
   "source": [
    "[display(Markdown(k[1])) for k in documents];"
   ]
  },
  {
   "cell_type": "markdown",
   "id": "873873a4",
   "metadata": {
    "papermill": {
     "duration": 0.007454,
     "end_time": "2023-10-24T04:08:36.266616",
     "exception": false,
     "start_time": "2023-10-24T04:08:36.259162",
     "status": "completed"
    },
    "tags": []
   },
   "source": [
    "# Create HTML index"
   ]
  },
  {
   "cell_type": "code",
   "execution_count": 9,
   "id": "cf665672",
   "metadata": {
    "execution": {
     "iopub.execute_input": "2023-10-24T04:08:36.283330Z",
     "iopub.status.busy": "2023-10-24T04:08:36.282684Z",
     "iopub.status.idle": "2023-10-24T04:08:36.294522Z",
     "shell.execute_reply": "2023-10-24T04:08:36.293860Z"
    },
    "papermill": {
     "duration": 0.021954,
     "end_time": "2023-10-24T04:08:36.296016",
     "exception": false,
     "start_time": "2023-10-24T04:08:36.274062",
     "status": "completed"
    },
    "tags": []
   },
   "outputs": [
    {
     "name": "stdout",
     "output_type": "stream",
     "text": [
      "306  publications files modified in the last 7 days.\n"
     ]
    }
   ],
   "source": [
    "from datetime import datetime, timedelta, timezone\n",
    "from glob import glob\n",
    "import os\n",
    "\n",
    "files = glob('_build/html/*.md')\n",
    "days = 7\n",
    "now = datetime.today()\n",
    "res = []\n",
    "for fk in files:\n",
    "    stat_result = os.stat(fk).st_ctime\n",
    "    modified = datetime.fromtimestamp(stat_result, tz=timezone.utc).replace(tzinfo=None)\n",
    "    delta = now.today() - modified\n",
    "    if delta <= timedelta(days=days):\n",
    "        res.append((delta.seconds, fk))\n",
    "res = [k[1] for k in reversed(sorted(res, key=lambda x:x[1]))]\n",
    "npub = len(res)\n",
    "print(len(res), f\" publications files modified in the last {days:d} days.\")\n",
    "# [ print('\\t', k) for k in res ];"
   ]
  },
  {
   "cell_type": "code",
   "execution_count": 10,
   "id": "015de740",
   "metadata": {
    "execution": {
     "iopub.execute_input": "2023-10-24T04:08:36.312635Z",
     "iopub.status.busy": "2023-10-24T04:08:36.312257Z",
     "iopub.status.idle": "2023-10-24T04:08:36.334706Z",
     "shell.execute_reply": "2023-10-24T04:08:36.334009Z"
    },
    "papermill": {
     "duration": 0.032704,
     "end_time": "2023-10-24T04:08:36.336363",
     "exception": false,
     "start_time": "2023-10-24T04:08:36.303659",
     "status": "completed"
    },
    "tags": []
   },
   "outputs": [
    {
     "name": "stdout",
     "output_type": "stream",
     "text": [
      "6  publications in the last 7 days.\n"
     ]
    }
   ],
   "source": [
    "import datetime\n",
    "from glob import glob\n",
    "\n",
    "def get_last_n_days(lst, days=1):\n",
    "    \"\"\" Get the documents from the last n days \"\"\"\n",
    "    sorted_lst = sorted(lst, key=lambda x: x[1], reverse=True)\n",
    "    for fname, date in sorted_lst:\n",
    "        if date >= str(datetime.date.today() - datetime.timedelta(days=days)):\n",
    "            yield fname\n",
    "\n",
    "def extract_appearance_dates(lst_file):\n",
    "    dates = []\n",
    "\n",
    "    def get_date(line):\n",
    "        return line\\\n",
    "            .split('Appeared on:')[-1]\\\n",
    "            .split('</mark>')[0].strip()\n",
    "\n",
    "    for fname in lst:\n",
    "        with open(fname, 'r') as f:\n",
    "            found_date = False\n",
    "            for line in f:\n",
    "                if not found_date:\n",
    "                    if \"Appeared on\" in line:\n",
    "                        found_date = True\n",
    "                        dates.append((fname, get_date(line)))\n",
    "                else:\n",
    "                    break\n",
    "    return dates\n",
    "\n",
    "from glob import glob\n",
    "lst = glob('_build/html/*md')\n",
    "days = 7\n",
    "dates = extract_appearance_dates(lst)\n",
    "res = list(get_last_n_days(dates, days))\n",
    "npub = len(res)\n",
    "print(len(res), f\" publications in the last {days:d} days.\")"
   ]
  },
  {
   "cell_type": "code",
   "execution_count": 11,
   "id": "52ca0208",
   "metadata": {
    "execution": {
     "iopub.execute_input": "2023-10-24T04:08:36.354100Z",
     "iopub.status.busy": "2023-10-24T04:08:36.353604Z",
     "iopub.status.idle": "2023-10-24T04:08:36.359681Z",
     "shell.execute_reply": "2023-10-24T04:08:36.359021Z"
    },
    "papermill": {
     "duration": 0.016658,
     "end_time": "2023-10-24T04:08:36.361151",
     "exception": false,
     "start_time": "2023-10-24T04:08:36.344493",
     "status": "completed"
    },
    "scrolled": false,
    "tags": []
   },
   "outputs": [],
   "source": [
    "def create_carousel(npub=4):\n",
    "    \"\"\" Generate the HTML code for a carousel with `npub` slides \"\"\"\n",
    "    carousel = [\"\"\"  <div class=\"carousel\" \"\"\",\n",
    "                \"\"\"       data-flickity='{ \"autoPlay\": 10000, \"adaptiveHeight\": true, \"resize\": true, \"wrapAround\": true, \"pauseAutoPlayOnHover\": true, \"groupCells\": 1 }' id=\"asyncTypeset\">\"\"\"\n",
    "                ]\n",
    "    \n",
    "    item_str = \"\"\"    <div class=\"carousel-cell\"> <div id=\"slide{k}\" class=\"md_view\">Content {k}</div> </div>\"\"\"\n",
    "    for k in range(1, npub + 1):\n",
    "        carousel.append(item_str.format(k=k))\n",
    "    carousel.append(\"  </div>\")\n",
    "    return '\\n'.join(carousel)\n",
    "\n",
    "def create_grid(npub=4):\n",
    "    \"\"\" Generate the HTML code for a flat grid with `npub` slides \"\"\"\n",
    "    grid = [\"\"\"  <div class=\"grid\"> \"\"\",\n",
    "                ]\n",
    "    \n",
    "    item_str = \"\"\"    <div class=\"grid-item\"> <div id=\"slide{k}\" class=\"md_view\">Content {k}</div> </div>\"\"\"\n",
    "    for k in range(1, npub + 1):\n",
    "        grid.append(item_str.format(k=k))\n",
    "    grid.append(\"  </div>\")\n",
    "    return '\\n'.join(grid)"
   ]
  },
  {
   "cell_type": "code",
   "execution_count": 12,
   "id": "a6eac5b6",
   "metadata": {
    "execution": {
     "iopub.execute_input": "2023-10-24T04:08:36.378017Z",
     "iopub.status.busy": "2023-10-24T04:08:36.377540Z",
     "iopub.status.idle": "2023-10-24T04:08:36.383720Z",
     "shell.execute_reply": "2023-10-24T04:08:36.383025Z"
    },
    "papermill": {
     "duration": 0.016641,
     "end_time": "2023-10-24T04:08:36.385468",
     "exception": false,
     "start_time": "2023-10-24T04:08:36.368827",
     "status": "completed"
    },
    "scrolled": false,
    "tags": []
   },
   "outputs": [],
   "source": [
    "carousel = create_carousel(npub)\n",
    "docs = ', '.join(['\"{0:s}\"'.format(k.split('/')[-1]) for k in res])\n",
    "slides = ', '.join([f'\"slide{k}\"' for k in range(1, npub + 1)])\n",
    "\n",
    "with open(\"daily_template.html\", \"r\") as tpl:\n",
    "    page = tpl.read()\n",
    "    page = page.replace(\"{%-- carousel:s --%}\", carousel)\\\n",
    "               .replace(\"{%-- suptitle:s --%}\",  \"7-day archives\" )\\\n",
    "               .replace(\"{%-- docs:s --%}\", docs)\\\n",
    "               .replace(\"{%-- slides:s --%}\", slides)\n",
    "    \n",
    "with open(\"_build/html/index_7days.html\", 'w') as fout:\n",
    "    fout.write(page)"
   ]
  },
  {
   "cell_type": "code",
   "execution_count": 13,
   "id": "adc1a1ec",
   "metadata": {
    "execution": {
     "iopub.execute_input": "2023-10-24T04:08:36.403069Z",
     "iopub.status.busy": "2023-10-24T04:08:36.402569Z",
     "iopub.status.idle": "2023-10-24T04:08:36.410958Z",
     "shell.execute_reply": "2023-10-24T04:08:36.410290Z"
    },
    "papermill": {
     "duration": 0.018652,
     "end_time": "2023-10-24T04:08:36.412492",
     "exception": false,
     "start_time": "2023-10-24T04:08:36.393840",
     "status": "completed"
    },
    "tags": []
   },
   "outputs": [
    {
     "name": "stdout",
     "output_type": "stream",
     "text": [
      "2  publications in the last day.\n"
     ]
    }
   ],
   "source": [
    "# redo for today\n",
    "days = 1\n",
    "res = list(get_last_n_days(dates, days))\n",
    "npub = len(res)\n",
    "print(len(res), f\" publications in the last day.\")\n",
    "\n",
    "carousel = create_carousel(npub)\n",
    "docs = ', '.join(['\"{0:s}\"'.format(k.split('/')[-1]) for k in res])\n",
    "slides = ', '.join([f'\"slide{k}\"' for k in range(1, npub + 1)])\n",
    "\n",
    "with open(\"daily_template.html\", \"r\") as tpl:\n",
    "    page = tpl.read()\n",
    "    page = page.replace(\"{%-- carousel:s --%}\", carousel)\\\n",
    "               .replace(\"{%-- suptitle:s --%}\",  \"Daily\" )\\\n",
    "               .replace(\"{%-- docs:s --%}\", docs)\\\n",
    "               .replace(\"{%-- slides:s --%}\", slides)\n",
    "    \n",
    "# print(carousel, docs, slides)\n",
    "# print(page)\n",
    "with open(\"_build/html/index_daily.html\", 'w') as fout:\n",
    "    fout.write(page)"
   ]
  },
  {
   "cell_type": "code",
   "execution_count": 14,
   "id": "00eece82",
   "metadata": {
    "execution": {
     "iopub.execute_input": "2023-10-24T04:08:36.429779Z",
     "iopub.status.busy": "2023-10-24T04:08:36.429273Z",
     "iopub.status.idle": "2023-10-24T04:08:36.437619Z",
     "shell.execute_reply": "2023-10-24T04:08:36.436922Z"
    },
    "papermill": {
     "duration": 0.018871,
     "end_time": "2023-10-24T04:08:36.439181",
     "exception": false,
     "start_time": "2023-10-24T04:08:36.420310",
     "status": "completed"
    },
    "scrolled": false,
    "tags": []
   },
   "outputs": [
    {
     "name": "stdout",
     "output_type": "stream",
     "text": [
      "6  6 publications selected.\n"
     ]
    }
   ],
   "source": [
    "# Create the flat grid of the last N papers (fixed number regardless of dates)\n",
    "from itertools import islice \n",
    "\n",
    "npub = 6\n",
    "res = [k[0] for k in (islice(reversed(sorted(dates, key=lambda x: x[1])), 6))]\n",
    "print(len(res), f\" {npub} publications selected.\")\n",
    "\n",
    "grid = create_grid(npub)\n",
    "docs = ', '.join(['\"{0:s}\"'.format(k.split('/')[-1]) for k in res])\n",
    "slides = ', '.join([f'\"slide{k}\"' for k in range(1, npub + 1)])\n",
    "\n",
    "with open(\"grid_template.html\", \"r\") as tpl:\n",
    "    page = tpl.read()\n",
    "    page = page.replace(\"{%-- grid-content:s --%}\", grid)\\\n",
    "               .replace(\"{%-- suptitle:s --%}\",  f\"Last {npub:,d} papers\" )\\\n",
    "               .replace(\"{%-- docs:s --%}\", docs)\\\n",
    "               .replace(\"{%-- slides:s --%}\", slides)\n",
    "    \n",
    "# print(grid, docs, slides)\n",
    "# print(page)\n",
    "with open(\"_build/html/index_npub_grid.html\", 'w') as fout:\n",
    "    fout.write(page)"
   ]
  }
 ],
 "metadata": {
  "kernelspec": {
   "display_name": "Python 3 (ipykernel)",
   "language": "python",
   "name": "python3"
  },
  "language_info": {
   "codemirror_mode": {
    "name": "ipython",
    "version": 3
   },
   "file_extension": ".py",
   "mimetype": "text/x-python",
   "name": "python",
   "nbconvert_exporter": "python",
   "pygments_lexer": "ipython3",
   "version": "3.9.18"
  },
  "papermill": {
   "default_parameters": {},
   "duration": 110.256067,
   "end_time": "2023-10-24T04:08:36.767194",
   "environment_variables": {},
   "exception": null,
   "input_path": "MPIA daily digest.ipynb",
   "output_path": "log.ipynb",
   "parameters": {},
   "start_time": "2023-10-24T04:06:46.511127",
   "version": "2.4.0"
  },
  "vscode": {
   "interpreter": {
    "hash": "aee8b7b246df8f9039afb4144a1f6fd8d2ca17a180786b69acc140d282b71a49"
   }
  },
  "widgets": {
   "application/vnd.jupyter.widget-state+json": {
    "state": {
     "0145a4d7e3784740be57bcfcf38128b3": {
      "model_module": "@jupyter-widgets/controls",
      "model_module_version": "2.0.0",
      "model_name": "HTMLStyleModel",
      "state": {
       "_model_module": "@jupyter-widgets/controls",
       "_model_module_version": "2.0.0",
       "_model_name": "HTMLStyleModel",
       "_view_count": null,
       "_view_module": "@jupyter-widgets/base",
       "_view_module_version": "2.0.0",
       "_view_name": "StyleView",
       "background": null,
       "description_width": "",
       "font_size": null,
       "text_color": null
      }
     },
     "12e878800def489282e4b80648766011": {
      "model_module": "@jupyter-widgets/base",
      "model_module_version": "2.0.0",
      "model_name": "LayoutModel",
      "state": {
       "_model_module": "@jupyter-widgets/base",
       "_model_module_version": "2.0.0",
       "_model_name": "LayoutModel",
       "_view_count": null,
       "_view_module": "@jupyter-widgets/base",
       "_view_module_version": "2.0.0",
       "_view_name": "LayoutView",
       "align_content": null,
       "align_items": null,
       "align_self": null,
       "border_bottom": null,
       "border_left": null,
       "border_right": null,
       "border_top": null,
       "bottom": null,
       "display": null,
       "flex": null,
       "flex_flow": null,
       "grid_area": null,
       "grid_auto_columns": null,
       "grid_auto_flow": null,
       "grid_auto_rows": null,
       "grid_column": null,
       "grid_gap": null,
       "grid_row": null,
       "grid_template_areas": null,
       "grid_template_columns": null,
       "grid_template_rows": null,
       "height": null,
       "justify_content": null,
       "justify_items": null,
       "left": null,
       "margin": null,
       "max_height": null,
       "max_width": null,
       "min_height": null,
       "min_width": null,
       "object_fit": null,
       "object_position": null,
       "order": null,
       "overflow": null,
       "padding": null,
       "right": null,
       "top": null,
       "visibility": null,
       "width": null
      }
     },
     "359bb64187594ca0aa8fe591367b818f": {
      "model_module": "@jupyter-widgets/controls",
      "model_module_version": "2.0.0",
      "model_name": "HTMLModel",
      "state": {
       "_dom_classes": [],
       "_model_module": "@jupyter-widgets/controls",
       "_model_module_version": "2.0.0",
       "_model_name": "HTMLModel",
       "_view_count": null,
       "_view_module": "@jupyter-widgets/controls",
       "_view_module_version": "2.0.0",
       "_view_name": "HTMLView",
       "description": "",
       "description_allow_html": false,
       "layout": "IPY_MODEL_aab0d7104be34c2f861cf8ee1167832f",
       "placeholder": "​",
       "style": "IPY_MODEL_0145a4d7e3784740be57bcfcf38128b3",
       "tabbable": null,
       "tooltip": null,
       "value": " 8/8 [01:23&lt;00:00, 10.04s/it]"
      }
     },
     "42f0e8becce5414ca8d1459a3a400b9d": {
      "model_module": "@jupyter-widgets/controls",
      "model_module_version": "2.0.0",
      "model_name": "HTMLModel",
      "state": {
       "_dom_classes": [],
       "_model_module": "@jupyter-widgets/controls",
       "_model_module_version": "2.0.0",
       "_model_name": "HTMLModel",
       "_view_count": null,
       "_view_module": "@jupyter-widgets/controls",
       "_view_module_version": "2.0.0",
       "_view_name": "HTMLView",
       "description": "",
       "description_allow_html": false,
       "layout": "IPY_MODEL_fb7d61ce88d24321bd58bdff17f85d6c",
       "placeholder": "​",
       "style": "IPY_MODEL_ad2f62addde7415caa842b075544719c",
       "tabbable": null,
       "tooltip": null,
       "value": "100%"
      }
     },
     "5c599c697256462d873f6f1394eedec2": {
      "model_module": "@jupyter-widgets/controls",
      "model_module_version": "2.0.0",
      "model_name": "FloatProgressModel",
      "state": {
       "_dom_classes": [],
       "_model_module": "@jupyter-widgets/controls",
       "_model_module_version": "2.0.0",
       "_model_name": "FloatProgressModel",
       "_view_count": null,
       "_view_module": "@jupyter-widgets/controls",
       "_view_module_version": "2.0.0",
       "_view_name": "ProgressView",
       "bar_style": "success",
       "description": "",
       "description_allow_html": false,
       "layout": "IPY_MODEL_12e878800def489282e4b80648766011",
       "max": 8.0,
       "min": 0.0,
       "orientation": "horizontal",
       "style": "IPY_MODEL_a416ba40a3164694bd17a37245bd7dc4",
       "tabbable": null,
       "tooltip": null,
       "value": 8.0
      }
     },
     "924322aac54449fea82bc9f3c8a8e079": {
      "model_module": "@jupyter-widgets/base",
      "model_module_version": "2.0.0",
      "model_name": "LayoutModel",
      "state": {
       "_model_module": "@jupyter-widgets/base",
       "_model_module_version": "2.0.0",
       "_model_name": "LayoutModel",
       "_view_count": null,
       "_view_module": "@jupyter-widgets/base",
       "_view_module_version": "2.0.0",
       "_view_name": "LayoutView",
       "align_content": null,
       "align_items": null,
       "align_self": null,
       "border_bottom": null,
       "border_left": null,
       "border_right": null,
       "border_top": null,
       "bottom": null,
       "display": null,
       "flex": null,
       "flex_flow": null,
       "grid_area": null,
       "grid_auto_columns": null,
       "grid_auto_flow": null,
       "grid_auto_rows": null,
       "grid_column": null,
       "grid_gap": null,
       "grid_row": null,
       "grid_template_areas": null,
       "grid_template_columns": null,
       "grid_template_rows": null,
       "height": null,
       "justify_content": null,
       "justify_items": null,
       "left": null,
       "margin": null,
       "max_height": null,
       "max_width": null,
       "min_height": null,
       "min_width": null,
       "object_fit": null,
       "object_position": null,
       "order": null,
       "overflow": null,
       "padding": null,
       "right": null,
       "top": null,
       "visibility": null,
       "width": null
      }
     },
     "a416ba40a3164694bd17a37245bd7dc4": {
      "model_module": "@jupyter-widgets/controls",
      "model_module_version": "2.0.0",
      "model_name": "ProgressStyleModel",
      "state": {
       "_model_module": "@jupyter-widgets/controls",
       "_model_module_version": "2.0.0",
       "_model_name": "ProgressStyleModel",
       "_view_count": null,
       "_view_module": "@jupyter-widgets/base",
       "_view_module_version": "2.0.0",
       "_view_name": "StyleView",
       "bar_color": null,
       "description_width": ""
      }
     },
     "aab0d7104be34c2f861cf8ee1167832f": {
      "model_module": "@jupyter-widgets/base",
      "model_module_version": "2.0.0",
      "model_name": "LayoutModel",
      "state": {
       "_model_module": "@jupyter-widgets/base",
       "_model_module_version": "2.0.0",
       "_model_name": "LayoutModel",
       "_view_count": null,
       "_view_module": "@jupyter-widgets/base",
       "_view_module_version": "2.0.0",
       "_view_name": "LayoutView",
       "align_content": null,
       "align_items": null,
       "align_self": null,
       "border_bottom": null,
       "border_left": null,
       "border_right": null,
       "border_top": null,
       "bottom": null,
       "display": null,
       "flex": null,
       "flex_flow": null,
       "grid_area": null,
       "grid_auto_columns": null,
       "grid_auto_flow": null,
       "grid_auto_rows": null,
       "grid_column": null,
       "grid_gap": null,
       "grid_row": null,
       "grid_template_areas": null,
       "grid_template_columns": null,
       "grid_template_rows": null,
       "height": null,
       "justify_content": null,
       "justify_items": null,
       "left": null,
       "margin": null,
       "max_height": null,
       "max_width": null,
       "min_height": null,
       "min_width": null,
       "object_fit": null,
       "object_position": null,
       "order": null,
       "overflow": null,
       "padding": null,
       "right": null,
       "top": null,
       "visibility": null,
       "width": null
      }
     },
     "ad2f62addde7415caa842b075544719c": {
      "model_module": "@jupyter-widgets/controls",
      "model_module_version": "2.0.0",
      "model_name": "HTMLStyleModel",
      "state": {
       "_model_module": "@jupyter-widgets/controls",
       "_model_module_version": "2.0.0",
       "_model_name": "HTMLStyleModel",
       "_view_count": null,
       "_view_module": "@jupyter-widgets/base",
       "_view_module_version": "2.0.0",
       "_view_name": "StyleView",
       "background": null,
       "description_width": "",
       "font_size": null,
       "text_color": null
      }
     },
     "d60b2cc494254e7483463a18273d3647": {
      "model_module": "@jupyter-widgets/controls",
      "model_module_version": "2.0.0",
      "model_name": "HBoxModel",
      "state": {
       "_dom_classes": [],
       "_model_module": "@jupyter-widgets/controls",
       "_model_module_version": "2.0.0",
       "_model_name": "HBoxModel",
       "_view_count": null,
       "_view_module": "@jupyter-widgets/controls",
       "_view_module_version": "2.0.0",
       "_view_name": "HBoxView",
       "box_style": "",
       "children": [
        "IPY_MODEL_42f0e8becce5414ca8d1459a3a400b9d",
        "IPY_MODEL_5c599c697256462d873f6f1394eedec2",
        "IPY_MODEL_359bb64187594ca0aa8fe591367b818f"
       ],
       "layout": "IPY_MODEL_924322aac54449fea82bc9f3c8a8e079",
       "tabbable": null,
       "tooltip": null
      }
     },
     "fb7d61ce88d24321bd58bdff17f85d6c": {
      "model_module": "@jupyter-widgets/base",
      "model_module_version": "2.0.0",
      "model_name": "LayoutModel",
      "state": {
       "_model_module": "@jupyter-widgets/base",
       "_model_module_version": "2.0.0",
       "_model_name": "LayoutModel",
       "_view_count": null,
       "_view_module": "@jupyter-widgets/base",
       "_view_module_version": "2.0.0",
       "_view_name": "LayoutView",
       "align_content": null,
       "align_items": null,
       "align_self": null,
       "border_bottom": null,
       "border_left": null,
       "border_right": null,
       "border_top": null,
       "bottom": null,
       "display": null,
       "flex": null,
       "flex_flow": null,
       "grid_area": null,
       "grid_auto_columns": null,
       "grid_auto_flow": null,
       "grid_auto_rows": null,
       "grid_column": null,
       "grid_gap": null,
       "grid_row": null,
       "grid_template_areas": null,
       "grid_template_columns": null,
       "grid_template_rows": null,
       "height": null,
       "justify_content": null,
       "justify_items": null,
       "left": null,
       "margin": null,
       "max_height": null,
       "max_width": null,
       "min_height": null,
       "min_width": null,
       "object_fit": null,
       "object_position": null,
       "order": null,
       "overflow": null,
       "padding": null,
       "right": null,
       "top": null,
       "visibility": null,
       "width": null
      }
     }
    },
    "version_major": 2,
    "version_minor": 0
   }
  }
 },
 "nbformat": 4,
 "nbformat_minor": 5
}