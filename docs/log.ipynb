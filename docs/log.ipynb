{
 "cells": [
  {
   "cell_type": "markdown",
   "id": "92bcb855",
   "metadata": {
    "papermill": {
     "duration": 0.005176,
     "end_time": "2023-01-24T04:08:03.176306",
     "exception": false,
     "start_time": "2023-01-24T04:08:03.171130",
     "status": "completed"
    },
    "tags": []
   },
   "source": [
    "# MPIA Arxiv on Deck 2\n",
    "\n",
    "Contains the steps to produce the paper extractions."
   ]
  },
  {
   "cell_type": "code",
   "execution_count": 1,
   "id": "3a0d6e11",
   "metadata": {
    "execution": {
     "iopub.execute_input": "2023-01-24T04:08:03.186207Z",
     "iopub.status.busy": "2023-01-24T04:08:03.185664Z",
     "iopub.status.idle": "2023-01-24T04:08:03.373761Z",
     "shell.execute_reply": "2023-01-24T04:08:03.373135Z"
    },
    "papermill": {
     "duration": 0.195003,
     "end_time": "2023-01-24T04:08:03.375678",
     "exception": false,
     "start_time": "2023-01-24T04:08:03.180675",
     "status": "completed"
    },
    "tags": []
   },
   "outputs": [],
   "source": [
    "# Imports\n",
    "import os\n",
    "from IPython.display import Markdown, display\n",
    "from tqdm.notebook import tqdm\n",
    "import warnings\n",
    "from PIL import Image \n",
    "\n",
    "# requires arxiv_on_deck_2\n",
    "\n",
    "from arxiv_on_deck_2.arxiv2 import (get_new_papers, \n",
    "                                    get_paper_from_identifier,\n",
    "                                    retrieve_document_source, \n",
    "                                    get_markdown_badge)\n",
    "from arxiv_on_deck_2 import (latex, \n",
    "                             mpia,\n",
    "                             highlight_authors_in_list)\n",
    "\n",
    "# Sometimes images are really big\n",
    "Image.MAX_IMAGE_PIXELS = 1000000000 "
   ]
  },
  {
   "cell_type": "code",
   "execution_count": 2,
   "id": "22aa9d44",
   "metadata": {
    "execution": {
     "iopub.execute_input": "2023-01-24T04:08:03.385417Z",
     "iopub.status.busy": "2023-01-24T04:08:03.385174Z",
     "iopub.status.idle": "2023-01-24T04:08:03.389871Z",
     "shell.execute_reply": "2023-01-24T04:08:03.389248Z"
    },
    "papermill": {
     "duration": 0.011466,
     "end_time": "2023-01-24T04:08:03.391408",
     "exception": false,
     "start_time": "2023-01-24T04:08:03.379942",
     "status": "completed"
    },
    "tags": []
   },
   "outputs": [],
   "source": [
    "# Some useful definitions.\n",
    "\n",
    "class AffiliationWarning(UserWarning):\n",
    "    pass\n",
    "\n",
    "class AffiliationError(RuntimeError):\n",
    "    pass\n",
    "\n",
    "def validation(source: str):\n",
    "    \"\"\"Raises error paper during parsing of source file\n",
    "    \n",
    "    Allows checks before parsing TeX code.\n",
    "    \n",
    "    Raises AffiliationWarning\n",
    "    \"\"\"\n",
    "    check = mpia.affiliation_verifications(source, verbose=True)\n",
    "    if check is not True:\n",
    "        raise AffiliationError(\"mpia.affiliation_verifications: \" + check)\n",
    "\n",
    "        \n",
    "warnings.simplefilter('always', AffiliationWarning)"
   ]
  },
  {
   "cell_type": "code",
   "execution_count": 3,
   "id": "14622700",
   "metadata": {
    "execution": {
     "iopub.execute_input": "2023-01-24T04:08:03.400862Z",
     "iopub.status.busy": "2023-01-24T04:08:03.400242Z",
     "iopub.status.idle": "2023-01-24T04:08:03.404046Z",
     "shell.execute_reply": "2023-01-24T04:08:03.403459Z"
    },
    "papermill": {
     "duration": 0.010086,
     "end_time": "2023-01-24T04:08:03.405556",
     "exception": false,
     "start_time": "2023-01-24T04:08:03.395470",
     "status": "completed"
    },
    "tags": []
   },
   "outputs": [],
   "source": [
    "# additional CSS to consider. \n",
    "# TODO: Current into each exported file. \n",
    "#       This should be set once into the webpages directly.\n",
    "#       With only the class/id definitions in the .md files.\n",
    "\n",
    "debug_html = \"\"\"\n",
    "<style>\n",
    "#wrap{ overflow:auto; }\n",
    "#fig1{ background:yellow; width:100%; float:left; padding:5px;  }\n",
    "#fig2{ background:red; width:50%; float:left; clear:left; padding:5px;  }\n",
    "#fig3{ background:green; width:50%; float:left; padding:5px;   }\n",
    ".macros{ background:yellow; visibility:visible;}\n",
    "h1 {margin: 0 0 0 0;}\n",
    "mark {background-color:#fff3b6;}\n",
    "img {object-fit:contain; max-height:250px; display:inline-block; text-align: center;}\n",
    "</style>\n",
    "\"\"\" \n",
    "html = \"\"\"\n",
    "<style>\n",
    "#wrap{ overflow:auto; }\n",
    "#fig1{ width:100%; float:left; padding: 5px;  }\n",
    "#fig2{ width:50%; float:left; clear:left; padding: 5px;  }\n",
    "#fig3{ width:50%; float:left; padding: 5px;  }\n",
    ".macros{ visibility:hidden; height:0px; }\n",
    "h1 {margin: 0em 0 0 0;}\n",
    "mark {background-color:#fff3b6;}\n",
    "img {object-fit:contain; max-height:250px; display:inline-block; text-align: center;}\n",
    "</style>\n",
    "\"\"\""
   ]
  },
  {
   "cell_type": "markdown",
   "id": "14bd6310",
   "metadata": {
    "papermill": {
     "duration": 0.003998,
     "end_time": "2023-01-24T04:08:03.413531",
     "exception": false,
     "start_time": "2023-01-24T04:08:03.409533",
     "status": "completed"
    },
    "tags": []
   },
   "source": [
    "## get list of arxiv paper candidates\n",
    "\n",
    "We use the MPIA mitarbeiter list webpage from mpia.de to get author names\n",
    "We then get all new papers from Arxiv and match authors"
   ]
  },
  {
   "cell_type": "code",
   "execution_count": 4,
   "id": "2645e73a",
   "metadata": {
    "execution": {
     "iopub.execute_input": "2023-01-24T04:08:03.422772Z",
     "iopub.status.busy": "2023-01-24T04:08:03.422187Z",
     "iopub.status.idle": "2023-01-24T04:08:28.102054Z",
     "shell.execute_reply": "2023-01-24T04:08:28.101353Z"
    },
    "papermill": {
     "duration": 24.686265,
     "end_time": "2023-01-24T04:08:28.103705",
     "exception": false,
     "start_time": "2023-01-24T04:08:03.417440",
     "status": "completed"
    },
    "tags": []
   },
   "outputs": [
    {
     "name": "stdout",
     "output_type": "stream",
     "text": [
      "Arxiv has 73 new papers today\n",
      "          26 with possible author matches\n"
     ]
    }
   ],
   "source": [
    "# get list from MPIA website\n",
    "# it automatically filters identified non-scientists :func:`mpia.filter_non_scientists`\n",
    "mpia_authors = mpia.get_mpia_mitarbeiter_list()\n",
    "new_papers = get_new_papers()\n",
    "# add manual references\n",
    "add_paper_refs = []\n",
    "new_papers.extend([get_paper_from_identifier(k) for k in add_paper_refs])\n",
    "\n",
    "# select only papers with matching author names and highlight authors\n",
    "hl_list = [k[0] for k in mpia_authors]\n",
    "\n",
    "candidates = []\n",
    "for paperk in new_papers:\n",
    "    hl_authors = highlight_authors_in_list(paperk['authors'], hl_list)\n",
    "    matches = [(hl, orig) for hl, orig in zip(hl_authors, paperk['authors']) if 'mark' in hl]\n",
    "    paperk['authors'] = hl_authors\n",
    "    if matches:\n",
    "        candidates.append(paperk)\n",
    "print(\"\"\"Arxiv has {0:,d} new papers today\"\"\".format(len(new_papers)))        \n",
    "print(\"\"\"          {0:,d} with possible author matches\"\"\".format(len(candidates)))"
   ]
  },
  {
   "cell_type": "markdown",
   "id": "3543b34a",
   "metadata": {
    "papermill": {
     "duration": 0.004113,
     "end_time": "2023-01-24T04:08:28.112298",
     "exception": false,
     "start_time": "2023-01-24T04:08:28.108185",
     "status": "completed"
    },
    "tags": []
   },
   "source": [
    "# Parse sources and generate relevant outputs\n",
    "\n",
    "From the candidates, we do the following steps:\n",
    "* get their tarball from ArXiv (and extract data)\n",
    "* find the main .tex file: find one with \\documentclass{...} (sometimes it's non trivial)\n",
    "* Check affiliations with :func:`validation`, which uses :func:`mpia.affiliation_verifications`\n",
    "* If passing the affiliations: we parse the .tex source\n",
    "   * inject sub-documents into the main (flatten the main document)\n",
    "   * parse structure, extract information (title, abstract, authors, figures...)\n",
    "   * handles `\\graphicspath` if provided\n",
    "* Generate the .md document."
   ]
  },
  {
   "cell_type": "code",
   "execution_count": 5,
   "id": "9576b79e",
   "metadata": {
    "execution": {
     "iopub.execute_input": "2023-01-24T04:08:28.122099Z",
     "iopub.status.busy": "2023-01-24T04:08:28.121479Z",
     "iopub.status.idle": "2023-01-24T04:10:07.938280Z",
     "shell.execute_reply": "2023-01-24T04:10:07.937550Z"
    },
    "papermill": {
     "duration": 99.823471,
     "end_time": "2023-01-24T04:10:07.939819",
     "exception": false,
     "start_time": "2023-01-24T04:08:28.116348",
     "status": "completed"
    },
    "scrolled": false,
    "tags": []
   },
   "outputs": [
    {
     "data": {
      "application/vnd.jupyter.widget-view+json": {
       "model_id": "5744548f28f24c92a4169d4d76a96377",
       "version_major": 2,
       "version_minor": 0
      },
      "text/plain": [
       "  0%|          | 0/25 [00:00<?, ?it/s]"
      ]
     },
     "metadata": {},
     "output_type": "display_data"
    },
    {
     "name": "stdout",
     "output_type": "stream",
     "text": [
      "Retrieving document from  https://arxiv.org/e-print/2301.08744\n"
     ]
    },
    {
     "name": "stderr",
     "output_type": "stream",
     "text": [
      "/tmp/ipykernel_2084/4030337529.py:34: LatexWarning: 2301.08744 did not run properly\n",
      "not a gzip file\n",
      "  warnings.warn(latex.LatexWarning(f\"{paper_id:s} did not run properly\\n\" +\n"
     ]
    },
    {
     "name": "stdout",
     "output_type": "stream",
     "text": [
      "Retrieving document from  https://arxiv.org/e-print/2301.08761\n"
     ]
    },
    {
     "name": "stdout",
     "output_type": "stream",
     "text": [
      "extracting tarball to tmp_2301.08761..."
     ]
    },
    {
     "name": "stdout",
     "output_type": "stream",
     "text": [
      " done.\n",
      "Retrieving document from  https://arxiv.org/e-print/2301.08762\n"
     ]
    },
    {
     "name": "stdout",
     "output_type": "stream",
     "text": [
      "extracting tarball to tmp_2301.08762..."
     ]
    },
    {
     "name": "stdout",
     "output_type": "stream",
     "text": [
      " done.\n",
      "Retrieving document from  https://arxiv.org/e-print/2301.08770\n"
     ]
    },
    {
     "name": "stderr",
     "output_type": "stream",
     "text": [
      "/opt/hostedtoolcache/Python/3.9.16/x64/lib/python3.9/site-packages/IPython/core/interactiveshell.py:3442: LatexWarning: Multiple tex files.\n",
      "\n",
      "  exec(code_obj, self.user_global_ns, self.user_ns)\n",
      "/opt/hostedtoolcache/Python/3.9.16/x64/lib/python3.9/site-packages/IPython/core/interactiveshell.py:3442: LatexWarning: Found documentclass in tmp_2301.08762/main.tex\n",
      "\n",
      "  exec(code_obj, self.user_global_ns, self.user_ns)\n",
      "/opt/hostedtoolcache/Python/3.9.16/x64/lib/python3.9/site-packages/arxiv_on_deck_2/latex.py:292: LatexWarning: Latex injecting: 'auth.tex' from 'tmp_2301.08762/auth.tex'\n",
      "  warnings.warn(LatexWarning(f\"Latex injecting: '{ext}' from '{subsource}'\"))\n"
     ]
    },
    {
     "name": "stdout",
     "output_type": "stream",
     "text": [
      "extracting tarball to tmp_2301.08770..."
     ]
    },
    {
     "name": "stdout",
     "output_type": "stream",
     "text": [
      " done.\n"
     ]
    },
    {
     "name": "stdout",
     "output_type": "stream",
     "text": [
      "Retrieving document from  https://arxiv.org/e-print/2301.08845\n"
     ]
    },
    {
     "name": "stdout",
     "output_type": "stream",
     "text": [
      "extracting tarball to tmp_2301.08845..."
     ]
    },
    {
     "name": "stdout",
     "output_type": "stream",
     "text": [
      " done.\n",
      "Retrieving document from  https://arxiv.org/e-print/2301.08945\n"
     ]
    },
    {
     "name": "stdout",
     "output_type": "stream",
     "text": [
      "extracting tarball to tmp_2301.08945... done.\n",
      "Retrieving document from  https://arxiv.org/e-print/2301.08946\n"
     ]
    },
    {
     "name": "stderr",
     "output_type": "stream",
     "text": [
      "/tmp/ipykernel_2084/4030337529.py:34: LatexWarning: 2301.08946 did not run properly\n",
      "not a gzip file\n",
      "  warnings.warn(latex.LatexWarning(f\"{paper_id:s} did not run properly\\n\" +\n"
     ]
    },
    {
     "name": "stdout",
     "output_type": "stream",
     "text": [
      "Retrieving document from  https://arxiv.org/e-print/2301.08972\n"
     ]
    },
    {
     "name": "stdout",
     "output_type": "stream",
     "text": [
      "extracting tarball to tmp_2301.08972..."
     ]
    },
    {
     "name": "stdout",
     "output_type": "stream",
     "text": [
      " done.\n",
      "Retrieving document from  https://arxiv.org/e-print/2301.08993\n"
     ]
    },
    {
     "name": "stdout",
     "output_type": "stream",
     "text": [
      "extracting tarball to tmp_2301.08993..."
     ]
    },
    {
     "name": "stdout",
     "output_type": "stream",
     "text": [
      " done.\n",
      "Retrieving document from  https://arxiv.org/e-print/2301.09012\n"
     ]
    },
    {
     "name": "stdout",
     "output_type": "stream",
     "text": [
      "extracting tarball to tmp_2301.09012..."
     ]
    },
    {
     "name": "stdout",
     "output_type": "stream",
     "text": [
      " done.\n",
      "Retrieving document from  https://arxiv.org/e-print/2301.09014\n"
     ]
    },
    {
     "name": "stderr",
     "output_type": "stream",
     "text": [
      "/opt/hostedtoolcache/Python/3.9.16/x64/lib/python3.9/site-packages/IPython/core/interactiveshell.py:3442: LatexWarning: Multiple tex files.\n",
      "\n",
      "  exec(code_obj, self.user_global_ns, self.user_ns)\n",
      "/opt/hostedtoolcache/Python/3.9.16/x64/lib/python3.9/site-packages/IPython/core/interactiveshell.py:3442: LatexWarning: Found documentclass in tmp_2301.09012/stability_slow_entropy_arxiv.tex\n",
      "\n",
      "  exec(code_obj, self.user_global_ns, self.user_ns)\n"
     ]
    },
    {
     "name": "stdout",
     "output_type": "stream",
     "text": [
      "extracting tarball to tmp_2301.09014..."
     ]
    },
    {
     "name": "stdout",
     "output_type": "stream",
     "text": [
      " done.\n",
      "Retrieving document from  https://arxiv.org/e-print/2301.09102\n"
     ]
    },
    {
     "name": "stderr",
     "output_type": "stream",
     "text": [
      "/opt/hostedtoolcache/Python/3.9.16/x64/lib/python3.9/site-packages/IPython/core/interactiveshell.py:3442: LatexWarning: Multiple tex files.\n",
      "\n",
      "  exec(code_obj, self.user_global_ns, self.user_ns)\n",
      "/opt/hostedtoolcache/Python/3.9.16/x64/lib/python3.9/site-packages/IPython/core/interactiveshell.py:3442: LatexWarning: Found documentclass in tmp_2301.09014/mnras_template.tex\n",
      "\n",
      "  exec(code_obj, self.user_global_ns, self.user_ns)\n"
     ]
    },
    {
     "name": "stderr",
     "output_type": "stream",
     "text": [
      "/tmp/ipykernel_2084/4030337529.py:34: LatexWarning: 2301.09102 did not run properly\n",
      "not a gzip file\n",
      "  warnings.warn(latex.LatexWarning(f\"{paper_id:s} did not run properly\\n\" +\n"
     ]
    },
    {
     "name": "stdout",
     "output_type": "stream",
     "text": [
      "Retrieving document from  https://arxiv.org/e-print/2301.09116\n"
     ]
    },
    {
     "name": "stdout",
     "output_type": "stream",
     "text": [
      "extracting tarball to tmp_2301.09116... done.\n",
      "Retrieving document from  https://arxiv.org/e-print/2301.09140\n"
     ]
    },
    {
     "name": "stdout",
     "output_type": "stream",
     "text": [
      "extracting tarball to tmp_2301.09140..."
     ]
    },
    {
     "name": "stdout",
     "output_type": "stream",
     "text": [
      " done.\n"
     ]
    },
    {
     "name": "stdout",
     "output_type": "stream",
     "text": [
      "Retrieving document from  https://arxiv.org/e-print/2301.09275\n"
     ]
    },
    {
     "name": "stdout",
     "output_type": "stream",
     "text": [
      "extracting tarball to tmp_2301.09275..."
     ]
    },
    {
     "name": "stdout",
     "output_type": "stream",
     "text": [
      " done.\n",
      "Retrieving document from  https://arxiv.org/e-print/2301.09296\n"
     ]
    },
    {
     "name": "stdout",
     "output_type": "stream",
     "text": [
      "extracting tarball to tmp_2301.09296..."
     ]
    },
    {
     "name": "stdout",
     "output_type": "stream",
     "text": [
      " done.\n",
      "Retrieving document from  https://arxiv.org/e-print/2301.09382\n"
     ]
    },
    {
     "name": "stderr",
     "output_type": "stream",
     "text": [
      "/opt/hostedtoolcache/Python/3.9.16/x64/lib/python3.9/site-packages/IPython/core/interactiveshell.py:3442: LatexWarning: Multiple tex files.\n",
      "\n",
      "  exec(code_obj, self.user_global_ns, self.user_ns)\n",
      "/opt/hostedtoolcache/Python/3.9.16/x64/lib/python3.9/site-packages/IPython/core/interactiveshell.py:3442: LatexWarning: Found documentclass in tmp_2301.09296/main.tex\n",
      "\n",
      "  exec(code_obj, self.user_global_ns, self.user_ns)\n"
     ]
    },
    {
     "name": "stdout",
     "output_type": "stream",
     "text": [
      "extracting tarball to tmp_2301.09382... done.\n",
      "Retrieving document from  https://arxiv.org/e-print/2301.09401\n"
     ]
    },
    {
     "name": "stdout",
     "output_type": "stream",
     "text": [
      "extracting tarball to tmp_2301.09401... done.\n",
      "Retrieving document from  https://arxiv.org/e-print/2301.09468\n"
     ]
    },
    {
     "name": "stdout",
     "output_type": "stream",
     "text": [
      "extracting tarball to tmp_2301.09468..."
     ]
    },
    {
     "name": "stdout",
     "output_type": "stream",
     "text": [
      " done.\n",
      "Retrieving document from  https://arxiv.org/e-print/2301.09482\n"
     ]
    },
    {
     "name": "stdout",
     "output_type": "stream",
     "text": [
      "extracting tarball to tmp_2301.09482..."
     ]
    },
    {
     "name": "stdout",
     "output_type": "stream",
     "text": [
      " done.\n",
      "Retrieving document from  https://arxiv.org/e-print/2301.09582\n"
     ]
    },
    {
     "name": "stdout",
     "output_type": "stream",
     "text": [
      "extracting tarball to tmp_2301.09582..."
     ]
    },
    {
     "name": "stdout",
     "output_type": "stream",
     "text": [
      " done.\n",
      "Retrieving document from  https://arxiv.org/e-print/2301.09598\n"
     ]
    },
    {
     "name": "stderr",
     "output_type": "stream",
     "text": [
      "/opt/hostedtoolcache/Python/3.9.16/x64/lib/python3.9/site-packages/IPython/core/interactiveshell.py:3442: LatexWarning: Multiple tex files.\n",
      "\n",
      "  exec(code_obj, self.user_global_ns, self.user_ns)\n",
      "/opt/hostedtoolcache/Python/3.9.16/x64/lib/python3.9/site-packages/IPython/core/interactiveshell.py:3442: LatexWarning: Found documentclass in tmp_2301.09582/natbib.tex\n",
      "\n",
      "  exec(code_obj, self.user_global_ns, self.user_ns)\n"
     ]
    },
    {
     "name": "stdout",
     "output_type": "stream",
     "text": [
      "extracting tarball to tmp_2301.09598... done.\n",
      "Retrieving document from  https://arxiv.org/e-print/2301.09612\n"
     ]
    },
    {
     "name": "stderr",
     "output_type": "stream",
     "text": [
      "/opt/hostedtoolcache/Python/3.9.16/x64/lib/python3.9/site-packages/IPython/core/interactiveshell.py:3442: LatexWarning: Multiple tex files.\n",
      "\n",
      "  exec(code_obj, self.user_global_ns, self.user_ns)\n",
      "/opt/hostedtoolcache/Python/3.9.16/x64/lib/python3.9/site-packages/IPython/core/interactiveshell.py:3442: LatexWarning: Found documentclass in tmp_2301.09598/main.tex\n",
      "\n",
      "  exec(code_obj, self.user_global_ns, self.user_ns)\n"
     ]
    },
    {
     "name": "stdout",
     "output_type": "stream",
     "text": [
      "extracting tarball to tmp_2301.09612..."
     ]
    },
    {
     "name": "stdout",
     "output_type": "stream",
     "text": [
      " done.\n",
      "Retrieving document from  https://arxiv.org/e-print/2301.09614\n"
     ]
    },
    {
     "name": "stdout",
     "output_type": "stream",
     "text": [
      "extracting tarball to tmp_2301.09614..."
     ]
    },
    {
     "name": "stdout",
     "output_type": "stream",
     "text": [
      " done.\n",
      "Retrieving document from  https://arxiv.org/e-print/2301.09621\n"
     ]
    },
    {
     "name": "stdout",
     "output_type": "stream",
     "text": [
      "extracting tarball to tmp_2301.09621..."
     ]
    },
    {
     "name": "stdout",
     "output_type": "stream",
     "text": [
      " done.\n"
     ]
    }
   ],
   "source": [
    "documents = []\n",
    "failed = []\n",
    "for paper in tqdm(candidates[:-1]):\n",
    "    paper_id = paper['identifier'].lower().replace('arxiv:', '')\n",
    "    \n",
    "    folder = f'tmp_{paper_id}'\n",
    "\n",
    "    try:\n",
    "        if not os.path.isdir(folder):\n",
    "            folder = retrieve_document_source(f\"{paper_id}\", f'tmp_{paper_id}')\n",
    "        \n",
    "        try:\n",
    "            doc = latex.LatexDocument(folder, validation=validation)    \n",
    "        except AffiliationError as affilerror:\n",
    "            msg = f\"ArXiv:{paper_id:s} is not an MPIA paper... \" + str(affilerror)\n",
    "            failed.append((paper, \"affiliation error: \" + str(affilerror) ))\n",
    "            continue\n",
    "        \n",
    "        # Hack because sometimes author parsing does not work well\n",
    "        if (len(doc.authors) != len(paper['authors'])):\n",
    "            doc._authors = paper['authors']\n",
    "        if (doc.abstract) in (None, ''):\n",
    "            doc._abstract = paper['abstract']\n",
    "            \n",
    "        doc.comment = (get_markdown_badge(paper_id) + \n",
    "                       \"<mark>Appeared on: \" + paper['date'] + \"</mark> - \" +\n",
    "                       \"_\" + paper['comments'] + \"_\")\n",
    "        doc.highlight_authors_in_list(hl_list)\n",
    "\n",
    "        full_md = doc.generate_markdown_text()\n",
    "        \n",
    "        documents.append((paper_id, full_md))\n",
    "    except Exception as e:\n",
    "        warnings.warn(latex.LatexWarning(f\"{paper_id:s} did not run properly\\n\" +\n",
    "                                         str(e)\n",
    "                                        ))\n",
    "        failed.append((paper, \"latex error \" + str(e)))"
   ]
  },
  {
   "cell_type": "markdown",
   "id": "2505a25c",
   "metadata": {
    "papermill": {
     "duration": 0.006951,
     "end_time": "2023-01-24T04:10:07.953968",
     "exception": false,
     "start_time": "2023-01-24T04:10:07.947017",
     "status": "completed"
    },
    "tags": []
   },
   "source": [
    "### Export the logs\n",
    "\n",
    "Throughout, we also keep track of the logs per paper. see `logs-{today date}.md` "
   ]
  },
  {
   "cell_type": "code",
   "execution_count": 6,
   "id": "d733828a",
   "metadata": {
    "execution": {
     "iopub.execute_input": "2023-01-24T04:10:07.969486Z",
     "iopub.status.busy": "2023-01-24T04:10:07.968839Z",
     "iopub.status.idle": "2023-01-24T04:10:08.000164Z",
     "shell.execute_reply": "2023-01-24T04:10:07.999647Z"
    },
    "papermill": {
     "duration": 0.040543,
     "end_time": "2023-01-24T04:10:08.001730",
     "exception": false,
     "start_time": "2023-01-24T04:10:07.961187",
     "status": "completed"
    },
    "scrolled": false,
    "tags": []
   },
   "outputs": [
    {
     "data": {
      "text/markdown": [
       "## Successful papers"
      ],
      "text/plain": [
       "<IPython.core.display.Markdown object>"
      ]
     },
     "metadata": {},
     "output_type": "display_data"
    },
    {
     "data": {
      "text/markdown": [
       "\n",
       "|||\n",
       "|---:|:---|\n",
       "| [![arXiv](https://img.shields.io/badge/arXiv-arXiv:2301.08770-b31b1b.svg)](https://arxiv.org/abs/arXiv:2301.08770) | **JWST/MIRI Spectroscopy of the Disk of the Young Eruptive Star EX Lup in  Quiescence**  |\n",
       "|| Ágnes Kóspál, et al. -- incl., <mark>Lindsey Diehl</mark>, <mark>Jeroen Bouwman</mark>, <mark>Joel D. Green</mark>, <mark>Thomas Henning</mark> |\n",
       "|*Appeared on*| *2023-01-24*|\n",
       "|*Comments*| *9 pages, 4 figures, accepted for publication in ApJL*|\n",
       "|**Abstract**| EX Lup is a low-mass pre-main sequence star that occasionally shows accretion-related outbursts. Here, we present JWST/MIRI medium resolution spectroscopy obtained for EX Lup fourteen years after its powerful outburst. EX Lup is now in quiescence and displays a Class II spectrum. We detect a forest of emission lines from molecules previously identified in infrared spectra of classical T Tauri disks: H2O, OH, H2, HCN, C2H2, and CO2. The detection of organic molecules demonstrates that they are back after disappearing during the large outburst. Spectral lines from water and OH are for the first time de-blended and will provide a much improved characterization of their distribution and density in the inner disk. The spectrum also shows broad emission bands from warm, sub-micron size amorphous silicate grains at 10 and 18 um. During the outburst, in 2008, crystalline forsterite grains were annealed in the inner disk within 1 au, but their spectral signatures in the 10 um silicate band later disappeared. With JWST we re-discovered these crystals via their 19.0, 20.0, and 23.5 um emission, whose strength implies that the particles are at ~3 au from the star. This suggests that crystalline grains formed in 2008 were transported outwards and now approach the water snowline, where they may be incorporated into planetesimals. Containing several key tracers of planetesimal and planet formation, EX Lup is an ideal laboratory to study the effects of variable luminosity on the planet-forming material and may provide explanation for the observed high crystalline fraction in solar system comets. |"
      ],
      "text/plain": [
       "[arXiv:2301.08770] JWST/MIRI Spectroscopy of the Disk of the Young Eruptive Star EX Lup in  Quiescence\n",
       "\tÁgnes Kóspál, et al. -- incl., <mark>Lindsey Diehl</mark>, <mark>Jeroen Bouwman</mark>, <mark>Joel D. Green</mark>, <mark>Thomas Henning</mark>"
      ]
     },
     "metadata": {},
     "output_type": "display_data"
    },
    {
     "data": {
      "text/markdown": [
       "\n",
       "|||\n",
       "|---:|:---|\n",
       "| [![arXiv](https://img.shields.io/badge/arXiv-arXiv:2301.09140-b31b1b.svg)](https://arxiv.org/abs/arXiv:2301.09140) | **An Ice Age JWST inventory of dense molecular cloud ices**  |\n",
       "|| M. K. McClure, et al. -- incl., <mark>G. Perotti</mark>, <mark>Z.L. Smith</mark>, <mark>W. A. Brown</mark>, <mark>Herma M. Cuppen</mark>, <mark>D.C. Lis</mark>, <mark>H. Linnartz</mark> |\n",
       "|*Appeared on*| *2023-01-24*|\n",
       "|*Comments*| *To appear in Nature Astronomy on January 23rd, 2023. 33 pages, 16 figures, 3 tables; includes extended and supplemental data sections. Part of the JWST Ice Age Early Release Science program's science enabling products. Enhanced spectra downloadable on Zenodo at the following DOI: 10.5281/zenodo.7501239*|\n",
       "|**Abstract**| Icy grain mantles are the main reservoir of the volatile elements that link chemical processes in dark, interstellar clouds with the formation of planets and composition of their atmospheres. The initial ice composition is set in the cold, dense parts of molecular clouds, prior to the onset of star formation. With the exquisite sensitivity of JWST, this critical stage of ice evolution is now accessible for detailed study. Here we show the first results of the Early Release Science program \"Ice Age\" that reveal the rich composition of these dense cloud ices. Weak ices, including, $^{13}$CO$_2$, OCN$^-$, $^{13}$CO, OCS, and COMs functional groups are now detected along two pre-stellar lines of sight. The $^{12}$CO$_2$ ice profile indicates modest growth of the icy grains. Column densities of the major and minor ice species indicate that ices contribute between 2 and 19% of the bulk budgets of the key C, O, N, and S elements. Our results suggest that the formation of simple and complex molecules could begin early in a water-ice rich environment. |"
      ],
      "text/plain": [
       "[arXiv:2301.09140] An Ice Age JWST inventory of dense molecular cloud ices\n",
       "\tM. K. McClure, et al. -- incl., <mark>G. Perotti</mark>, <mark>Z.L. Smith</mark>, <mark>W. A. Brown</mark>, <mark>Herma M. Cuppen</mark>, <mark>D.C. Lis</mark>, <mark>H. Linnartz</mark>"
      ]
     },
     "metadata": {},
     "output_type": "display_data"
    },
    {
     "data": {
      "text/markdown": [
       "\n",
       "|||\n",
       "|---:|:---|\n",
       "| [![arXiv](https://img.shields.io/badge/arXiv-arXiv:2301.09621-b31b1b.svg)](https://arxiv.org/abs/arXiv:2301.09621) | **The vertical structure of the spiral galaxy NGC 3501: first stages of  the formation of a thin metal-rich disc**  |\n",
       "|| <mark>Natascha Sattler</mark>, et al. -- incl., <mark>Francesca Pinna</mark>, <mark>Nadine Neumayer</mark> |\n",
       "|*Appeared on*| *2023-01-24*|\n",
       "|*Comments*| *15 pages, 12 figures. Accepted for publication in MNRAS*|\n",
       "|**Abstract**| We trace the evolution of the edge-on spiral galaxy NGC 3501, making use of its stellar populations extracted from deep integral-field spectroscopy MUSE observations. We present stellar kinematic and population maps, as well as the star formation history, of the south-western half of the galaxy. The derived maps of the stellar line-of-sight velocity and velocity dispersion are quite regular, show disc-like rotation, and no other structural component of the galaxy. However, maps of the stellar populations exhibit structures in the mass-weighted and light-weighted age, total metallicity and [Mg/Fe] abundance. These maps indicate that NGC 3501 is a young galaxy, consisting mostly of stars with ages between 2 to 8 Gyr. Also, they show a thicker more extended structure that is metal-poor and $\\alpha$-rich, and another inner metal-rich and $\\alpha$-poor one with smaller radial extension. While previous studies revealed that NGC 3501 shows only one morphological disc component in its vertical structure, we divided the galaxy into two regions: an inner metal-rich midplane and a metal-poor thicker envelope. Comparing the star formation history of the inner thinner metal-rich disc and the thicker metal-poor disc, we see that the metal-rich component evolved more steadily, while the metal-poor one experienced several bursts of star formation. We propose this spiral galaxy is being observed in an early evolutionary phase, with a thicker disc already in place and an inner thin disc in an early formation stage. So we are probably witnessing the birth of a future massive thin disc, continuously growing embedded in a preexisting thicker disc. |"
      ],
      "text/plain": [
       "[arXiv:2301.09621] The vertical structure of the spiral galaxy NGC 3501: first stages of  the formation of a thin metal-rich disc\n",
       "\t<mark>Natascha Sattler</mark>, et al. -- incl., <mark>Francesca Pinna</mark>, <mark>Nadine Neumayer</mark>"
      ]
     },
     "metadata": {},
     "output_type": "display_data"
    },
    {
     "data": {
      "text/markdown": [
       "## Failed papers"
      ],
      "text/plain": [
       "<IPython.core.display.Markdown object>"
      ]
     },
     "metadata": {},
     "output_type": "display_data"
    },
    {
     "data": {
      "text/markdown": [
       "\n",
       "|||\n",
       "|---:|:---|\n",
       "| [![arXiv](https://img.shields.io/badge/arXiv-arXiv:2301.08761-b31b1b.svg)](https://arxiv.org/abs/arXiv:2301.08761) | **Red Horizontal Branch stars: an asteroseismic perspective**  |\n",
       "|| Massimiliano Matteuzzi, et al. -- incl., <mark>Walter E. van Rossem</mark> |\n",
       "|*Appeared on*| *2023-01-24*|\n",
       "|*Comments*| *Accepted for publication in A&A Letters*|\n",
       "|**Abstract**| Robust age estimates of red giant stars are now possible thanks to the precise inference of their mass based on asteroseismic constraints. However, there are cases where such age estimates can be highly precise yet very inaccurate. An example is giants that have undergone mass loss or mass transfer events that have significantly altered their mass. In this context, stars with \"apparent\" ages significantly higher than the age of the Universe are candidates as stripped stars, or stars that have lost more mass than expected, most likely via interaction with a companion star, or because of the poorly understood mass-loss mechanism along the red-giant branch. In this work we identify examples of such objects among red giants observed by $\\textit{Kepler}$, both at low ([Fe/H] $ \\lesssim -0.5$) and solar metallicity. By modelling their structure and pulsation spectra, we find a consistent picture confirming that these are indeed low-mass objects consisting of a He core of $\\approx 0.5 \\, M_\\odot$ and an envelope of $\\approx 0.1 - 0.2 \\, M_\\odot$. Moreover, we find that these stars are characterised by a rather extreme coupling ($q \\gtrsim 0.4$) between the pressure-mode and gravity-mode cavities, i.e. much higher than the typical value for red clump stars, providing thus a direct seismic signature of their peculiar structure. The complex pulsation spectra of these objects, if observed with sufficient frequency resolution, hold detailed information about the structural properties of likely products of mass stripping, hence can potentially shed light on their formation mechanism. On the other hand, our tests highlight the difficulties associated with measuring reliably the large frequency separation, especially in shorter datasets, with impact on the reliability of the inferred masses and ages of low-mass Red Clump stars with e.g. K2 or TESS data. |\n",
       "|<p style=\"color:green\"> **ERROR** </p>| <p style=\"color:green\">affiliation error: mpia.affiliation_verifications: 'Heidelberg' keyword not found.</p> |"
      ],
      "text/plain": [
       "<IPython.core.display.Markdown object>"
      ]
     },
     "metadata": {},
     "output_type": "display_data"
    },
    {
     "data": {
      "text/markdown": [
       "\n",
       "|||\n",
       "|---:|:---|\n",
       "| [![arXiv](https://img.shields.io/badge/arXiv-arXiv:2301.08762-b31b1b.svg)](https://arxiv.org/abs/arXiv:2301.08762) | **CHIME/FRB Discovery of 25 Repeating Fast Radio Burst Sources**  |\n",
       "|| CHIME/FRB Collaboration, et al. -- incl., <mark>Antonio Herrera-Martin</mark>, <mark>Alexander Josephy</mark>, <mark>Jane F. Kaczmarek</mark>, <mark>Zarif Kader</mark>, <mark>Hsiu-Hsien Lin</mark>, <mark>Bradley W. Meyers</mark>, <mark>Ue-Li Pen</mark> |\n",
       "|*Appeared on*| *2023-01-24*|\n",
       "|*Comments*| *Submitted to ApJ. Comments are welcome and follow-up observations are encouraged!*|\n",
       "|**Abstract**| We present the discovery of 25 new repeating fast radio burst (FRB) sources found among CHIME/FRB events detected between 2019 September 30 and 2021 May 1. The sources were found using a new clustering algorithm that looks for multiple events co-located on the sky having similar dispersion measures (DMs). The new repeaters have DMs ranging from $\\sim$220 pc cm$^{-3}$ to $\\sim$1700 pc cm$^{-3}$, and include sources having exhibited as few as two bursts to as many as twelve. We report a statistically significant difference in both the DM and extragalactic DM (eDM) distributions between repeating and apparently nonrepeating sources, with repeaters having lower mean DM and eDM, and we discuss the implications. We find no clear bimodality between the repetition rates of repeaters and upper limits on repetition from apparently nonrepeating sources after correcting for sensitivity and exposure effects, although some active repeating sources stand out as anomalous. We measure the repeater fraction and find that it tends to an equilibrium of $2.6_{-2.6}^{+2.9}$% over our exposure thus far. We also report on 14 more sources which are promising repeating FRB candidates and which merit follow-up observations for confirmation. |\n",
       "|<p style=\"color:green\"> **ERROR** </p>| <p style=\"color:green\">affiliation error: mpia.affiliation_verifications: 'Heidelberg' keyword not found.</p> |"
      ],
      "text/plain": [
       "<IPython.core.display.Markdown object>"
      ]
     },
     "metadata": {},
     "output_type": "display_data"
    },
    {
     "data": {
      "text/markdown": [
       "\n",
       "|||\n",
       "|---:|:---|\n",
       "| [![arXiv](https://img.shields.io/badge/arXiv-arXiv:2301.08845-b31b1b.svg)](https://arxiv.org/abs/arXiv:2301.08845) | **COSMOS2020: Discovery of a protocluster of massive quiescent galaxies at  $z=2.77$**  |\n",
       "|| Kei Ito, et al. -- incl., <mark>Katriona M. L. Gould</mark>, <mark>Yongming Liang</mark>, <mark>Henry J. McCracken</mark> |\n",
       "|*Appeared on*| *2023-01-24*|\n",
       "|*Comments*| *11 pages, 4 figures, 1 table, accepted for publication in ApJL*|\n",
       "|**Abstract**| Protoclusters of galaxies have been found in the last quarter century. However, most of them have been found through the overdensity of star-forming galaxies, and there had been no known structures identified by multiple spectroscopically confirmed quiescent galaxies at $z>2.5$. In this letter, we report the discovery of an overdense structure of massive quiescent galaxies with the spectroscopic redshift $z=2.77$ in the COSMOS field, QO-1000. We first photometrically identify this structure as a $4.2\\sigma$ overdensity with 14 quiescent galaxies in $7\\times4\\ {\\rm pMpc^2}$ from the COSMOS2020 catalog. We then securely confirm the spectroscopic redshifts of 4 quiescent galaxies by detecting multiple Balmer absorption lines with Keck/MOSFIRE. All the spectroscopically confirmed members are massive ($\\log{(M_\\star/M_\\odot)}>11.0$) and located in a narrow redshift range ($2.76<z<2.79$). Moreover, three of them are in the $1\\times1\\ {\\rm pMpc^2}$ in the transverse direction at the same redshift ($z=2.760-2.763$). Such a concentration of four spectroscopically confirmed quiescent galaxies implies that QO-1000 is $>68$ times denser than in the general field. In addition, we confirm that they form a red sequence in the $J-K_s$ color. This structure's halo mass is estimated as $\\log{(M_{\\rm halo}/M_\\odot)}>13.2$ from their stellar mass. Similar structures found in the IllustrisTNG simulation are expected to evolve into massive galaxy clusters with $\\log{(M_{\\rm halo}/M_\\odot)}\\geq14.8$ at $z=0$. These results suggest that QO-1000 is a more mature protocluster than the other known protoclusters. It is likely in a transition phase between the star-forming protoclusters and the quenched galaxy clusters. |\n",
       "|<p style=\"color:green\"> **ERROR** </p>| <p style=\"color:green\">affiliation error: mpia.affiliation_verifications: 'Heidelberg' keyword not found.</p> |"
      ],
      "text/plain": [
       "<IPython.core.display.Markdown object>"
      ]
     },
     "metadata": {},
     "output_type": "display_data"
    },
    {
     "data": {
      "text/markdown": [
       "\n",
       "|||\n",
       "|---:|:---|\n",
       "| [![arXiv](https://img.shields.io/badge/arXiv-arXiv:2301.08945-b31b1b.svg)](https://arxiv.org/abs/arXiv:2301.08945) | **Molecular hydrogen and its proxies HCO$^+$ and CO in the diffuse  interstellar medium**  |\n",
       "|| <mark>Harvey Liszt</mark>, Maryvonne Gerin |\n",
       "|*Appeared on*| *2023-01-24*|\n",
       "|*Comments*| *Accepted for The Astrophysical Journal*|\n",
       "|**Abstract**| There is a robust polyatomic chemistry in diffuse, partially-molecular interstellar gas that is readily accessible in absorption at radio/mm/sub-mm wavelengths. Accurate column densities are derived owing to the weak internal excitation, so relative molecular abundances are well known with respect to each other but not with respect to H2. Here we consider the use of proxies for hydrogen column densities N(H2) and N(H) = N(HI)+2N(H2) based on measurements of HCO+ absorption and CO emission and absorption, and we compare these with results obtained by others when observing HI, H2 and CO toward stars and AGN. We consider the use of HCO+ as a proxy for H2 and show that the assumption of a relative abundance N(H2) = N(HCO+)/3x10^{-9} gives the same view of the atomic-molecular hydrogen transition that is seen in UV absorption toward stars. CO on the other hand shows differences between the radio and optical regimes because emission is always detected when N(\\hcop) > 6x10^{11}\\pcc or N(H2) > 2x10^20\\pcc. Wide variations in the integrated CO {J=1-0} brightness W_CO and N(CO)/N(H2) imply equivalent variations in the CO-H2 conversion factor even while the ensemble mean is near the usual Galactic values. Gas/reddening ratios found in absorption toward stars, N(H)/E(B-V) = 6.2x10^21 H \\pcc/mag overall or 6.8x10^21 H \\pcc/mag for sightlines at E(B-V) <= 0.08 mag lacking H2 are well below the Galactic mean measured at low reddening and high Galactic latitude, 8.3x10^21 H \\pcc/mag. |\n",
       "|<p style=\"color:green\"> **ERROR** </p>| <p style=\"color:green\">affiliation error: mpia.affiliation_verifications: 'Heidelberg' keyword not found.</p> |"
      ],
      "text/plain": [
       "<IPython.core.display.Markdown object>"
      ]
     },
     "metadata": {},
     "output_type": "display_data"
    },
    {
     "data": {
      "text/markdown": [
       "\n",
       "|||\n",
       "|---:|:---|\n",
       "| [![arXiv](https://img.shields.io/badge/arXiv-arXiv:2301.08972-b31b1b.svg)](https://arxiv.org/abs/arXiv:2301.08972) | **A Conditional Abundance Matching Method of Extending Simulated Halo  Merger Trees to Resolve Low-Mass Progenitors and Sub-halos**  |\n",
       "|| Yangyao Chen, et al. -- incl., <mark>Cheng Li</mark> |\n",
       "|*Appeared on*| *2023-01-24*|\n",
       "|*Comments*| *24 pages, 10 figures, 3 tables, submitted to MNRAS*|\n",
       "|**Abstract**| We present an algorithm to extend subhalo merger trees in a low-resolution dark-matter-only simulation by conditionally matching them to those in a high-resolution simulation. The algorithm is general and can be applied to simulation data with different resolutions using different target variables. We instantiate the algorithm by a case in which trees from ELUCID, a constrained simulation of $(500h^{-1}{\\rm Mpc})^3$ volume of the local universe, are extended by matching trees from TNGDark, a simulation with much higher resolution. Our tests show that the extended trees are statistically equivalent to the high-resolution trees in the joint distribution of subhalo quantities and in important summary statistics relevant to modeling galaxy formation and evolution in halos. The extended trees preserve certain information of individual systems in the target simulation, including properties of resolved satellite subhalos, and shapes and orientations of their host halos. With the extension, subhalo merger trees in a cosmological scale simulation are extrapolated to a mass resolution comparable to that in a higher-resolution simulation carried out in a smaller volume, which can be used as the input for (sub)halo-based models of galaxy formation. The source code of the algorithm, and halo merger trees extended to a mass resolution of $\\sim 2 \\times 10^8 h^{-1}M_\\odot$ in the entire ELUCID simulation, are available. |\n",
       "|<p style=\"color:green\"> **ERROR** </p>| <p style=\"color:green\">affiliation error: mpia.affiliation_verifications: 'Heidelberg' keyword not found.</p> |"
      ],
      "text/plain": [
       "<IPython.core.display.Markdown object>"
      ]
     },
     "metadata": {},
     "output_type": "display_data"
    },
    {
     "data": {
      "text/markdown": [
       "\n",
       "|||\n",
       "|---:|:---|\n",
       "| [![arXiv](https://img.shields.io/badge/arXiv-arXiv:2301.08993-b31b1b.svg)](https://arxiv.org/abs/arXiv:2301.08993) | **Search for inelastic dark matter-nucleus scattering with the PICO-60  CF$_{3}$I and C$_{3}$F$_{8}$ bubble chambers**  |\n",
       "|| E. Adams, et al. -- incl., <mark>O. Harris</mark>, <mark>C. Licciardi</mark>, <mark>W. H. Lippincott</mark>, <mark>E. Vázquez-Jáuregui</mark>, <mark>J. Zhang</mark> |\n",
       "|*Appeared on*| *2023-01-24*|\n",
       "|*Comments*| *7 pages, 3 figures*|\n",
       "|**Abstract**| PICO bubble chambers have exceptional sensitivity to inelastic dark matter-nucleus interactions due to a combination of their extended nuclear recoil energy detection window from a few keV to $O$(100 keV) or more and the use of iodine as a heavy target. Inelastic dark matter-nucleus scattering is interesting for studying the properties of dark matter, where many theoretical scenarios have been developed. This study reports the results of a search for dark matter inelastic scattering with the PICO-60 bubble chambers. The analysis reported here comprises physics runs from PICO-60 bubble chambers using CF$_{3}$I and C$_{3}$F$_{8}$. The CF$_{3}$I run consisted of 36.8 kg of CF$_{3}$I reaching an exposure of 3415 kg-day operating at thermodynamic thresholds between 7 and 20 keV. The C$_{3}$F$_{8}$ runs consisted of 52 kg of C$_{3}$F$_{8}$ reaching exposures of 1404 kg-day and 1167 kg-day running at thermodynamic thresholds of 2.45 keV and 3.29 keV, respectively. The analysis disfavors various scenarios, in a wide region of parameter space, that provide a feasible explanation of the signal observed by DAMA, assuming an inelastic interaction, considering that the PICO CF$_{3}$I bubble chamber used iodine as the target material. |\n",
       "|<p style=\"color:green\"> **ERROR** </p>| <p style=\"color:green\">affiliation error: mpia.affiliation_verifications: 'Heidelberg' keyword not found.</p> |"
      ],
      "text/plain": [
       "<IPython.core.display.Markdown object>"
      ]
     },
     "metadata": {},
     "output_type": "display_data"
    },
    {
     "data": {
      "text/markdown": [
       "\n",
       "|||\n",
       "|---:|:---|\n",
       "| [![arXiv](https://img.shields.io/badge/arXiv-arXiv:2301.09012-b31b1b.svg)](https://arxiv.org/abs/arXiv:2301.09012) | **Stability of slow magnetoacoustic and entropy waves in the solar coronal  plasma with thermal misbalance**  |\n",
       "|| Dmitrii Y. Kolotkov, Valery M. Nakariakov, <mark>Joseph B. Fihosy</mark> |\n",
       "|*Appeared on*| *2023-01-24*|\n",
       "|*Comments*| *Accepted for publication in the Physics journal*|\n",
       "|**Abstract**| The back-reaction of the perturbed thermal equilibrium in the solar corona on compressive perturbations, also known as the effect of wave-induced thermal misbalance, is known to result in thermal instabilities chiefly responsible for the formation of fine thermal structuring of the corona. We study the role of the magnetic field and field-aligned thermal conduction in triggering instabilities of slow magnetoacoustic and entropy waves in quiescent and hot active region loops, caused by thermal misbalance. Effects of the magnetic field are accounted for by including it in the parametrisation of a guessed coronal heating function, and the finite plasma parameter $\\beta$, in terms of the first-order thin flux tube approximation. Thermal conduction tends to stabilise both slow and entropy modes, broadening the interval of plausible coronal heating functions allowing for the existence of a thermodynamically stable corona. This effect is most pronounced for hot loops. In contrast to entropy waves, the stability of which is found to be insensitive to the possible dependence of the coronal heating function on the magnetic field, slow waves remain stable only for certain functional forms of this dependence, opening up perspectives for its seismological diagnostics in future. |\n",
       "|<p style=\"color:green\"> **ERROR** </p>| <p style=\"color:green\">affiliation error: mpia.affiliation_verifications: 'Heidelberg' keyword not found.</p> |"
      ],
      "text/plain": [
       "<IPython.core.display.Markdown object>"
      ]
     },
     "metadata": {},
     "output_type": "display_data"
    },
    {
     "data": {
      "text/markdown": [
       "\n",
       "|||\n",
       "|---:|:---|\n",
       "| [![arXiv](https://img.shields.io/badge/arXiv-arXiv:2301.09014-b31b1b.svg)](https://arxiv.org/abs/arXiv:2301.09014) | **Millimeter Observational Signatures of Flares in Magnetically Arrested  Black Hole Accretion Models**  |\n",
       "|| <mark>He Jia</mark>, et al. -- incl., <mark>Matthew Liska</mark> |\n",
       "|*Appeared on*| *2023-01-24*|\n",
       "|*Comments*| *11+7 pages, 9+7 figures, 1 table, submitted to MNRAS*|\n",
       "|**Abstract**| In general relativistic magneto-hydrodynamic (GRMHD) simulations, accreted magnetic flux on the black hole horizon episodically decays, during which magnetic reconnection heats up the plasma near the horizon, potentially powering high-energy flares like those observed in M87* and Sgr A*. We study the mm observational counterparts of such flaring episodes. The change in 230 GHz flux during the expected high energy flares depends primarily on the efficiency of accelerating $\\gamma \\gtrsim 100$ ($T_e \\gtrsim 10^{11}$ K) electrons. For models in which the electrons are heated to $T_e \\sim 10^{11}$ K during flares, the hot plasma produced by reconnection significantly enhances 230 GHz emission and increases the size of the 230 GHz image. By contrast, for models in which the electrons are heated to higher temperatures (which we argue are better motivated), the reconnection-heated plasma is too hot to produce significant 230 GHz synchrotron emission, and the 230 GHz flux decreases during high energy flares. We do not find a significant change in the mm polarization during flares as long as the emission is Faraday thin. We also present expectations for the ring-shaped image as observed by the Event Horizon Telescope during flares, as well as multi-wavelength synchrotron spectra. Our results highlight several limitations of standard post-processing prescriptions for the electron temperature in GRMHD simulations. We also discuss the implications of our results for current and future observations of flares in Sgr A*, M87*, and related systems. Appendices contain detailed convergence studies with respect to resolution and plasma magnetization. |\n",
       "|<p style=\"color:green\"> **ERROR** </p>| <p style=\"color:green\">affiliation error: mpia.affiliation_verifications: 'Heidelberg' keyword not found.</p> |"
      ],
      "text/plain": [
       "<IPython.core.display.Markdown object>"
      ]
     },
     "metadata": {},
     "output_type": "display_data"
    },
    {
     "data": {
      "text/markdown": [
       "\n",
       "|||\n",
       "|---:|:---|\n",
       "| [![arXiv](https://img.shields.io/badge/arXiv-arXiv:2301.09116-b31b1b.svg)](https://arxiv.org/abs/arXiv:2301.09116) | **Synchrotron emission from double-peaked radio light curves of the  symbiotic recurrent nova V3890 Sagitarii**  |\n",
       "|| Miriam M. Nyamai, et al. -- incl., <mark>Justin D. Linford</mark> |\n",
       "|*Appeared on*| *2023-01-24*|\n",
       "|*Comments*| **|\n",
       "|**Abstract**| We present radio observations of the symbiotic recurrent nova V3890 Sagitarii following the 2019 August eruption obtained with the MeerKAT radio telescope at 1.28 GHz and Karl G. Janksy Very Large Array (VLA) at 1.26 to 5 GHz. The radio light curves span from day 1 to 540 days after eruption and are dominated by synchrotron emission produced by the expanding nova ejecta interacting with the dense wind from an evolved companion in the binary system. The radio emission is detected early on (day 6) and increases rapidly to a peak on day 15. The radio luminosity increases due to a decrease in the opacity of the circumstellar material in front of the shocked material and fades as the density of the surrounding medium decreases and the velocity of the shock decelerates. Modelling the light curve provides an estimated mass-loss rate of $M_{\\textrm {wind}} \\approx 10^{-8} {\\textrm {M}}_\\odot~{\\textrm {yr}}^{-1}$ from the red giant star and ejecta mass in the range of $M_{\\textrm {ej}}=10^{-5}-10^{-6}~{\\textrm {M}}_\\odot$from the surface of the white dwarf. V3890 Sgr likely hosts a massive white dwarf similar to other symbiotic recurrent novae, thus considered a candidate for supernovae type Ia (SNe Ia) progenitor. However, its radio flux densities compared to upper limits for SNe Ia have ruled it out as a progenitor for SN 2011fe. |\n",
       "|<p style=\"color:green\"> **ERROR** </p>| <p style=\"color:green\">affiliation error: mpia.affiliation_verifications: 'Heidelberg' keyword not found.</p> |"
      ],
      "text/plain": [
       "<IPython.core.display.Markdown object>"
      ]
     },
     "metadata": {},
     "output_type": "display_data"
    },
    {
     "data": {
      "text/markdown": [
       "\n",
       "|||\n",
       "|---:|:---|\n",
       "| [![arXiv](https://img.shields.io/badge/arXiv-arXiv:2301.09275-b31b1b.svg)](https://arxiv.org/abs/arXiv:2301.09275) | **ALMA Lensing Cluster Survey: Properties of Millimeter Galaxies Hosting  X-ray Detected Active Galactic Nuclei**  |\n",
       "|| Ryosuke Uematsu, et al. -- incl., <mark>Yoshihiro Ueda</mark> |\n",
       "|*Appeared on*| *2023-01-24*|\n",
       "|*Comments*| *14 pages, 3 figures, 2 tables*|\n",
       "|**Abstract**| We report the multi-wavelength properties of millimeter galaxies hosting X-ray detected active galactic nuclei (AGNs) from the ALMA Lensing Cluster Survey (ALCS). ALCS is an extensive survey of well-studied lensing clusters with ALMA, covering an area of 133 arcmin$^2$ over 33 clusters with a 1.2 mm flux-density limit of ${\\sim}$60 $\\mathrm{\\mu Jy}$ ($1\\sigma$). Utilizing the archival data of Chandra, we identify three AGNs at $z=$1.06, 2.09, and 2.84 among the 180 millimeter sources securely detected in the ALCS (of which 155 are inside the coverage of Chandra). The X-ray spectral analysis shows that two AGNs are not significantly absorbed ($\\log N_{\\mathrm{H}}/\\mathrm{cm}^{-2} < 23$), while the other shows signs of moderate absorption ($\\log N_{\\mathrm{H}}/\\mathrm{cm}^{-2}\\sim 23.5$). We also perform spectral energy distribution (SED) modelling of X-ray to millimeter photometry. We find that our X-ray AGN sample shows both high mass accretion rates (intrinsic 0.5--8 keV X-ray luminosities of ${\\sim}10^{\\text{44--45}}\\,\\mathrm{erg\\ s^{-1}}$) and star-formation rates (${\\gtrsim}100\\,M_{\\odot}\\,\\mathrm{yr}^{-1}$). This demonstrates that a wide-area survey with ALMA and Chandra can selectively detect intense growth of both galaxies and supermassive black holes (SMBHs) in the high-redshift universe. |\n",
       "|<p style=\"color:green\"> **ERROR** </p>| <p style=\"color:green\">affiliation error: mpia.affiliation_verifications: 'Heidelberg' keyword not found.</p> |"
      ],
      "text/plain": [
       "<IPython.core.display.Markdown object>"
      ]
     },
     "metadata": {},
     "output_type": "display_data"
    },
    {
     "data": {
      "text/markdown": [
       "\n",
       "|||\n",
       "|---:|:---|\n",
       "| [![arXiv](https://img.shields.io/badge/arXiv-arXiv:2301.09296-b31b1b.svg)](https://arxiv.org/abs/arXiv:2301.09296) | **Characterizing CO Emitters in SSA22-AzTEC26 Field**  |\n",
       "|| Shuo Huang, et al. -- incl., <mark>Minju Lee</mark> |\n",
       "|*Appeared on*| *2023-01-24*|\n",
       "|*Comments*| **|\n",
       "|**Abstract**| We report the physical characterization of four CO emitters detected near the bright submillimeter galaxy (SMG) SSA22-AzTEC26. We analyze the data from ALMA band 3, 4, and 7 observations of the SSA22-AzTEC26 field. In addition to the targeted SMG, we detect four line emitters with SNR$>5.2$ in the cube smoothed with 300 km s$^{-1}$ FWHM Gaussian filter. All four sources have near-infrared (NIR) counterparts within 1 arcsec. We perform ultraviolet to far-infrared spectral energy distribution (SED) modeling to derive the photometric redshift and physical properties. Based on photometric redshift, we reveal that two of them are CO(2-1) at a redshift of 1.113 and 1.146, and one is CO(3-2) at $z=2.124$. The three sources are massive galaxies with a stellar mass $\\gtrsim10^{10.5}M_\\odot$, but have different levels of star formation. Two lie within the scatter of the main sequence (MS) of star-forming galaxies at $z\\sim1-2$, and the most massive galaxy lies significantly below the MS. However, all three sources have a gas fraction within the scatter of the MS scaling relation. This shows that a blind CO line search can detect massive galaxies with low specific star formation rates that still host large gas reservoirs and complements targeted surveys, suggesting later gas acquisition and the need for other mechanisms in addition to gas consumption to suppress the star formation. |\n",
       "|<p style=\"color:green\"> **ERROR** </p>| <p style=\"color:green\">affiliation error: mpia.affiliation_verifications: 'Heidelberg' keyword not found.</p> |"
      ],
      "text/plain": [
       "<IPython.core.display.Markdown object>"
      ]
     },
     "metadata": {},
     "output_type": "display_data"
    },
    {
     "data": {
      "text/markdown": [
       "\n",
       "|||\n",
       "|---:|:---|\n",
       "| [![arXiv](https://img.shields.io/badge/arXiv-arXiv:2301.09382-b31b1b.svg)](https://arxiv.org/abs/arXiv:2301.09382) | **Horndeski Helping Hubble: Towards a possible solution to the Hubble  tension with Horndeski gravity**  |\n",
       "|| Yashi Tiwari, <mark>Basundhara Ghosh</mark>, Rajeev Kumar Jain |\n",
       "|*Appeared on*| *2023-01-24*|\n",
       "|*Comments*| *16 pages, 6 figures, 1 table*|\n",
       "|**Abstract**| The Hubble tension refers to the discrepancy in the value of the Hubble constant $H_0$ inferred from the cosmic microwave background and the supernovae observations. In order to alleviate this tension, we propose a modification to the standard $\\Lambda$CDM model by replacing the cosmological constant $\\Lambda$ with a dynamical scalar field in the framework of Horndeski gravity, which drives the late time accelerated expanding phase of the Universe. With a combination of the $G_4$ and $G_5$ terms of the Horndeski Lagrangian, we show that, it is possible to construct viable scenarios for alleviating the Hubble tension which are free from gradient and ghost instabilities and the superluminal propagation of the scalar and tensor perturbations. Working with two different classes of scalar field potentials and with appropriate choices of model parameters, we exhibit that one can obtain a large enough value of $H_0$, so as to be consistent with the late Universe observations. Since these modifications are extremely small at early times, the corresponding deviations from the $\\Lambda$CDM cosmology are completely negligible at high redshifts. |\n",
       "|<p style=\"color:green\"> **ERROR** </p>| <p style=\"color:green\">affiliation error: mpia.affiliation_verifications: 'Heidelberg' keyword not found.</p> |"
      ],
      "text/plain": [
       "<IPython.core.display.Markdown object>"
      ]
     },
     "metadata": {},
     "output_type": "display_data"
    },
    {
     "data": {
      "text/markdown": [
       "\n",
       "|||\n",
       "|---:|:---|\n",
       "| [![arXiv](https://img.shields.io/badge/arXiv-arXiv:2301.09401-b31b1b.svg)](https://arxiv.org/abs/arXiv:2301.09401) | **Bombardment of CO ice by cosmic rays: I. Experimental insights into the  microphysics of molecule destruction and sputtering**  |\n",
       "|| Alexei V. Ivlev, et al. -- incl., <mark>Péter Herczku</mark> |\n",
       "|*Appeared on*| *2023-01-24*|\n",
       "|*Comments*| *Accepted for publication in ApJ*|\n",
       "|**Abstract**| We present a dedicated experimental study of microscopic mechanisms controlling radiolysis and sputtering of astrophysical ices due to their bombardment by cosmic ray ions. Such ions are slowed down due to inelastic collisions with bound electrons, resulting in ionization and excitation of ice molecules. In experiments on CO ice irradiation, we show that the relative contribution of these two mechanisms of energy loss to molecule destruction and sputtering can be probed by selecting ion energies near the peak of the electronic stopping power. We have observed a significant asymmetry, both in the destruction cross section and the sputtering yield, for pairs of ion energies corresponding to same values of the stopping power on either side of the peak. This implies that the stopping power does not solely control these processes, as usually assumed in the literature. Our results suggest that electronic excitations represent a significantly more efficient channel for radiolysis and, possibly, also for sputtering of CO ice. We also show that the charge state of incident ions as well as the rate for CO$^+$ production in the ice have negligible effect on these processes. |\n",
       "|<p style=\"color:green\"> **ERROR** </p>| <p style=\"color:green\">affiliation error: mpia.affiliation_verifications: 'Heidelberg' keyword not found.</p> |"
      ],
      "text/plain": [
       "<IPython.core.display.Markdown object>"
      ]
     },
     "metadata": {},
     "output_type": "display_data"
    },
    {
     "data": {
      "text/markdown": [
       "\n",
       "|||\n",
       "|---:|:---|\n",
       "| [![arXiv](https://img.shields.io/badge/arXiv-arXiv:2301.09468-b31b1b.svg)](https://arxiv.org/abs/arXiv:2301.09468) | **HARPS-N high spectral resolution observations of Cepheids II. The impact  of the surface-brightness color relation on the Baade-Wesselink projection  factor of eta Aql**  |\n",
       "|| N. Nardetto, et al. -- incl., <mark>J. Storm</mark> |\n",
       "|*Appeared on*| *2023-01-24*|\n",
       "|*Comments*| *Accepted for publication in Astronomy & Astrophysics*|\n",
       "|**Abstract**| The Baade-Wesselink (BW) method of distance determination of Cepheids is used to calibrate the distance scale. Various versions of this method are mainly based on interferometry and/or the surface-brightness color relation (SBCR). We quantify the impact of the SBCR, its slope, and its zeropoint on the projection factor. This quantity is used to convert the pulsation velocity into the radial velocity in the BW method. We also study the impact of extinction and of a potential circumstellar environment on the projection factor. We analyzed HARPS-N spectra of eta Aql to derive its radial velocity curve using different methods. We then applied the inverse BW method using various SBCRs in the literature in order to derive the BW projection factor. We find that the choice of the SBCR is critical: a scatter of about 8% is found in the projection factor for different SBCRs in the literature. The uncertainty on the coefficients of the SBCR affects the statistical precision of the projection factor only little (1-2\\%). Confirming previous studies, we find that the method with which the radial velocity curve is derived is also critical, with a potential difference on the projection factor of 9%. An increase of 0.1 in E(B-V) translates into a decrease in the projection factor of 3%. A 0.1 magnitude effect of a circumstellar envelope (CSE) in the visible domain is rather small on the projection factor, about 1.5%. However, we find that a 0.1 mag infrared excess in the K band due to a CSE can increase the projection factor by about 6%. The impact of the surface-brightness color relation on the BW projection factor is found to be critical. Efforts should be devoted in the future to improve the SBCR of Cepheids empirically, but also theoretically, taking their CSE into account as well. |\n",
       "|<p style=\"color:green\"> **ERROR** </p>| <p style=\"color:green\">affiliation error: mpia.affiliation_verifications: 'Heidelberg' keyword not found.</p> |"
      ],
      "text/plain": [
       "<IPython.core.display.Markdown object>"
      ]
     },
     "metadata": {},
     "output_type": "display_data"
    },
    {
     "data": {
      "text/markdown": [
       "\n",
       "|||\n",
       "|---:|:---|\n",
       "| [![arXiv](https://img.shields.io/badge/arXiv-arXiv:2301.09482-b31b1b.svg)](https://arxiv.org/abs/arXiv:2301.09482) | **CEERS Spectroscopic Confirmation of NIRCam-Selected z > 8 Galaxy  Candidates with JWST/NIRSpec: Initial Characterization of their Properties**  |\n",
       "|| Seiji Fujimoto, et al. -- incl., <mark>Steven L. Finkelstein</mark>, <mark>Henry C. Ferguson</mark>, <mark>Lisa J. Kewley</mark> |\n",
       "|*Appeared on*| *2023-01-24*|\n",
       "|*Comments*| *21 pages, 11 figures, 2 tables. Submitted to ApJL Focus Issue*|\n",
       "|**Abstract**| We present JWST NIRSpec spectroscopy for 11 galaxy candidates with photometric redshifts of $z\\simeq9-13$ and $M_{\\rm\\,UV} \\in[-21,-18]$ newly identified in NIRCam images in the Cosmic Evolution Early Release Science (CEERS) Survey. We confirm emission line redshifts for 7 galaxies at $z=7.762-8.998$ using spectra at $\\sim1-5\\mu$m either with the NIRSpec prism or its three medium resolution gratings. For $z\\simeq9$ photometric candidates, we achieve a high confirmation rate of $\\simeq$90\\%, which validates the classical dropout selection from NIRCam photometry. No robust emission lines are identified in three galaxy candidates at $z>10$, where the strong [OIII] and H$\\beta$ lines would be redshifted beyond the wavelength range observed by NIRSpec, and the Lyman-$\\alpha$ continuum break is not detected with the current sensitivity. Compared with HST-selected bright galaxies ($M_{\\rm\\,UV}\\simeq-22$) that are similarly spectroscopically confirmed at $z\\gtrsim8$, these NIRCam-selected galaxies are characterized by lower star formation rates (SFR$\\simeq4\\,M_{\\odot}$~yr$^{-1}$) and lower stellar masses ($\\simeq10^{8}\\,M_{\\odot}$), but with higher [OIII]+H$\\beta$ equivalent widths ($\\simeq$1100$\\r{A}$), and elevated production efficiency of ionizing photons ($\\log(\\xi_{\\rm\\,ion}/{\\rm\\,Hz\\,erg}^{-1})\\simeq25.8$) induced by young stellar populations ($<10$~Myrs) accounting for $\\simeq20\\%$ of the galaxy mass, highlighting the key contribution of faint galaxies to cosmic reionization. Taking advantage of the homogeneous selection and sensitivity, we also investigate metallicity and ISM conditions with empirical calibrations using the [OIII]/H$\\beta$ ratio. We find that galaxies at $z\\sim8-9$ have higher SFRs and lower metallicities than galaxies at similar stellar masses at $z\\sim2-6$, which is generally consistent with the current galaxy formation and evolution models. |\n",
       "|<p style=\"color:green\"> **ERROR** </p>| <p style=\"color:green\">affiliation error: mpia.affiliation_verifications: 'Heidelberg' keyword not found.</p> |"
      ],
      "text/plain": [
       "<IPython.core.display.Markdown object>"
      ]
     },
     "metadata": {},
     "output_type": "display_data"
    },
    {
     "data": {
      "text/markdown": [
       "\n",
       "|||\n",
       "|---:|:---|\n",
       "| [![arXiv](https://img.shields.io/badge/arXiv-arXiv:2301.09582-b31b1b.svg)](https://arxiv.org/abs/arXiv:2301.09582) | **Dissecting the Mid-Infrared Heart of M83 with JWST**  |\n",
       "|| <mark>Svea Hernandez</mark>, et al. -- incl., <mark>Linda J. Smith</mark>, <mark>Lise Ramambason</mark> |\n",
       "|*Appeared on*| *2023-01-24*|\n",
       "|*Comments*| *13 pages, 3 Tables, 8 Figures, to be submitted to ApJ*|\n",
       "|**Abstract**| We present a first look at the MRS observations of the nucleus of the spiral galaxy M83, taken with MIRI onboard JWST. The observations show a rich set of emission features from the ionized and warm molecular gas, as well as traces of the dust properties in this highly star forming environment. To begin dissecting the complex processes taking place in this part of the galaxy, we divide the nucleus observations into four different regions. We find that the strength of the emission features appears to strongly vary in all four regions, with the south-east region displaying the weakest features tracing both the dust continuum and ISM properties. Comparison between the cold molecular gas traced by the $^{12}$CO (1-0) transition with ALMA and the H$_2$ 0-0 S(1) transition showed a similar spatial distribution throughout the nucleus. This is in contrast to the distribution of the much warmer H$_2$ emission from the S(7) transition found to be concentrated mainly around the optical nucleus. We modeled the H$_2$ excitation using the rotational emission lines and estimate a total molecular gas mass accounting for the warm H$_2$ component of M($>$50 K)$_{\\rm H_{2}}$ = 59.33 ($\\pm 4.75$) $\\times$ 10$^{6}$ M$_{\\odot}$. We compared this value to the total molecular gas mass inferred by probing the cold H$_2$ gas through the $^{12}$CO (1-0) emission, M(CO)$_{\\rm H_{2}}$ = 14.99 $\\times$ 10$^{6}$ M$_{\\odot}$. Our findings indicate that $\\sim$75\\% of the total molecular gas mass in the core of M83 is contained in the warm H$_2$ component. We also identify [OIV]25.89 $\\mu$m and [FeII]25.99 $\\mu$m emission (indicative of shocks) in all four nuclear regions with the strongest emission originating from the north-west section. We propose that the diffuse [FeII]25.99 $\\mu$m emission is an indication of the combined effects of both the collective supernova explosions and the starbursts themselves. |\n",
       "|<p style=\"color:green\"> **ERROR** </p>| <p style=\"color:green\">affiliation error: mpia.affiliation_verifications: 'Heidelberg' keyword not found.</p> |"
      ],
      "text/plain": [
       "<IPython.core.display.Markdown object>"
      ]
     },
     "metadata": {},
     "output_type": "display_data"
    },
    {
     "data": {
      "text/markdown": [
       "\n",
       "|||\n",
       "|---:|:---|\n",
       "| [![arXiv](https://img.shields.io/badge/arXiv-arXiv:2301.09598-b31b1b.svg)](https://arxiv.org/abs/arXiv:2301.09598) | **A New Mid-Infrared and X-ray Machine Learning Algorithm to Discover  Compton-thick AGN**  |\n",
       "|| Ross Silver, et al. -- incl., <mark>Núria Torres-Alba</mark>, <mark>Xiurui Zhao</mark> |\n",
       "|*Appeared on*| *2023-01-24*|\n",
       "|*Comments*| **|\n",
       "|**Abstract**| We present a new method to predict the line-of-sight column density (NH) values of active galactic nuclei (AGN) based on mid-infrared (MIR), soft, and hard X-ray data. We developed a multiple linear regression machine learning algorithm trained with WISE colors, Swift-BAT count rates, soft X-ray hardness ratios, and an MIR-soft X-ray flux ratio. Our algorithm was trained off 451 AGN from the Swift-BAT sample with known NH and has the ability to accurately predict NH values for AGN of all levels of obscuration, as evidenced by its Spearman correlation coefficient value of 0.86 and its 75% classification accuracy. This is significant as few other methods can be reliably applied to AGN with Log(NH <) 22.5. It was determined that the two soft X-ray hardness ratios and the MIR-soft X-ray flux ratio were the largest contributors towards accurate NH determination. This algorithm will contribute significantly to finding Compton-thick (CT-) AGN (NH >= 10^24 cm^-2), thus enabling us to determine the true intrinsic fraction of CT-AGN in the local universe and their contribution to the Cosmic X-ray Background. |\n",
       "|<p style=\"color:green\"> **ERROR** </p>| <p style=\"color:green\">affiliation error: mpia.affiliation_verifications: 'Heidelberg' keyword not found.</p> |"
      ],
      "text/plain": [
       "<IPython.core.display.Markdown object>"
      ]
     },
     "metadata": {},
     "output_type": "display_data"
    },
    {
     "data": {
      "text/markdown": [
       "\n",
       "|||\n",
       "|---:|:---|\n",
       "| [![arXiv](https://img.shields.io/badge/arXiv-arXiv:2301.09612-b31b1b.svg)](https://arxiv.org/abs/arXiv:2301.09612) | **Constraining a Model of the Radio Sky Below 6 MHz Using the Parker Solar  Probe/FIELDS Instrument in Preparation for Upcoming Lunar-based Experiments**  |\n",
       "|| Neil Bassett, et al. -- incl., <mark>Jack O. Burns</mark> |\n",
       "|*Appeared on*| *2023-01-24*|\n",
       "|*Comments*| *18 pages, 10 figures, 5 tables. Under review in the Astrophysical Journal*|\n",
       "|**Abstract**| We present a Bayesian analysis of data from the FIELDS instrument on board the Parker Solar Probe (PSP) spacecraft with the aim of constraining low frequency ($\\lesssim$ 6 MHz) sky in preparation for several upcoming lunar-based experiments. We utilize data recorded during PSP's ``coning roll'' maneuvers, in which the axis of the spacecraft is pointed 45$^{\\circ}$ off of the Sun. The spacecraft then rotates about a line between the Sun and the spacecraft with a period of 24 minutes. We reduce the data into two formats: roll-averaged, in which the spectra are averaged over the roll, and phase-binned, in which the spectra are binned according to the phase of the roll. We construct a forward model of the FIELDS observations that includes numerical simulations of the antenna beam, an analytic emissivity function of the galaxy, and estimates of the absorption due to free electrons. Fitting 5 parameters, we find that the roll-averaged data can be fit well by this model and we obtain posterior parameter constraints that are in general agreement with previous estimates. The model is not, however, able to fit the phase-binned data well, likely due to limitations such as the lack of non-smooth emission structure at both small and large scales, enforced symmetry between the northern and southern galactic hemispheres, and large uncertainties in the free electron density. This suggests that significant improvement in the low frequency sky model is needed in order to fully and accurately represent the sky at frequencies below 6 MHz. |\n",
       "|<p style=\"color:green\"> **ERROR** </p>| <p style=\"color:green\">affiliation error: mpia.affiliation_verifications: 'Heidelberg' keyword not found.</p> |"
      ],
      "text/plain": [
       "<IPython.core.display.Markdown object>"
      ]
     },
     "metadata": {},
     "output_type": "display_data"
    },
    {
     "data": {
      "text/markdown": [
       "\n",
       "|||\n",
       "|---:|:---|\n",
       "| [![arXiv](https://img.shields.io/badge/arXiv-arXiv:2301.09614-b31b1b.svg)](https://arxiv.org/abs/arXiv:2301.09614) | **Point-like sources among z>11 galaxy candidates: contaminants due to  supernovae at high redshifts?**  |\n",
       "|| Haojing Yan, <mark>Lifan Wang</mark>, Zhiyuan Ma, Lei Hu |\n",
       "|*Appeared on*| *2023-01-24*|\n",
       "|*Comments*| **|\n",
       "|**Abstract**| The recent searches for z>11 galaxies using the James Webb Space Telescope have resulted in an unexpectedly high number of candidate objects, which imply at least an order of magnitude higher number density of $z>11$ galaxies than the previously favored predictions. A question has risen whether there are some new types of contaminants among these candidates. The candidate sample of Yan et al. (2023a), totalling 87 dropouts, is the largest one, and we notice that a number of these candidates are point-like. We hypothesize that the point-source dropouts could be supernovae at high redshifts. Further investigation shows that most of their spectral energy distributions indeed can be explained by supernovae at various redshifts from z ~ 1--15, which lends support to this hypothesis. Attributing such point-source dropouts to supernova contamination cannot eliminate the tension, however, because they only account for ~10% of the Yan et al.'s sample. On the other hand, the discovery of \"contaminant\" supernovae at $z>3$ will have a series of important implications. Ironically, the existence of supernovae at $z>10$ would still imply that the previously favored picture of early galaxy formation severely underestimates the global star formation rate density such redshifts. Multiple-epoch JWST imaging will be the simplest and yet the most efficient way to further test this hypothesis. |\n",
       "|<p style=\"color:green\"> **ERROR** </p>| <p style=\"color:green\">affiliation error: mpia.affiliation_verifications: 'Heidelberg' keyword not found.</p> |"
      ],
      "text/plain": [
       "<IPython.core.display.Markdown object>"
      ]
     },
     "metadata": {},
     "output_type": "display_data"
    },
    {
     "data": {
      "text/markdown": [
       "\n",
       "|||\n",
       "|---:|:---|\n",
       "| [![arXiv](https://img.shields.io/badge/arXiv-arXiv:2301.08744-b31b1b.svg)](https://arxiv.org/abs/arXiv:2301.08744) | **PODIUM:A Pulsar Navigation Unit for Science Missions**  |\n",
       "|| Francesco Cacciatore, et al. -- incl., <mark>Pablo Hermosín</mark>, <mark>Margarita Hernanz</mark> |\n",
       "|*Appeared on*| *2023-01-24*|\n",
       "|*Comments*| **|\n",
       "|**Abstract**| PODIUM is a compact spacecraft navigation unit, currently being designed to provide interplanetary missions with autonomous position and velocity estimations. The unit will make use of Pulsar X-ray observations to measure the distance and distance rate from the host spacecraft to the Solar System Barycenter. Such measurements will then be used by the onboard orbit determination function to estimate the complete orbital elements of the spacecraft. The design aims at 6 kg of mass and 20 W of power, in a volume of 150 mm by 240 mm by 600 mm. PODIUM is designed to minimize the impact on the mission operational and accommodation constraints. The architecture is based on a grazing incidence X-ray telescope with focal distance limited to 50 cm. The effective area shall be in the range 25 to 50 cm2 for photon energies in the range 0.2-10 keV, requiring nesting of several mirrors in the Wolter-1 geometry. Grazing incidence angles will be very small, below 2 deg. The current target FOV is 0.25 deg. The pulsars photon arrivals are detected with a single pixel Silicon Drift Detector (SDD) sensor with timing accuracy below 1usec. The unit has no gimbaling to meet the applicable power, size and mass requirements. Instead, the host spacecraft shall slew and point to allow pulsar observation. The avionics architecture is based on a radiation hardened LEON4 processor, to allow a synchronous propagation task and measurement generation and orbit determination step in an asynchronous task. PODIUM will enable higher autonomy and lower cost for interplanetary missions. L2 space observatories and planetary flybys are the current reference use cases. Onboard autonomous state estimation can reduce the ground support effort required for navigation and orbit correction/maintenance computation, and reduce the turnaround time, thus enabling more accurate maneuvers, reducing the orbit maintenance mass budget. |\n",
       "|<p style=\"color:red\"> **ERROR** </p>| <p style=\"color:red\">latex error not a gzip file</p> |"
      ],
      "text/plain": [
       "<IPython.core.display.Markdown object>"
      ]
     },
     "metadata": {},
     "output_type": "display_data"
    },
    {
     "data": {
      "text/markdown": [
       "\n",
       "|||\n",
       "|---:|:---|\n",
       "| [![arXiv](https://img.shields.io/badge/arXiv-arXiv:2301.08946-b31b1b.svg)](https://arxiv.org/abs/arXiv:2301.08946) | **Heating or Cooling: Study of Advective Heat Transport in the Inflow and  the Outflow of Optically Thin Advection-dominated Accretion Flows**  |\n",
       "|| <mark>Cheng-Liang Jiao</mark> |\n",
       "|*Appeared on*| *2023-01-24*|\n",
       "|*Comments*| *9 pages, 4 figures, accepted by ApJ*|\n",
       "|**Abstract**| Advection is believed to be the dominant cooling mechanism in optically thin advection-dominated accretion flows (ADAF's). When outflow is considered, however, the first impression is that advection should be of opposite sign in the inflow and the outflow, due to the opposite direction of radial motion. Then how is the energy balance achieved simultaneously? We investigate the problem in this paper, analysing the profiles of different components of advection with self-similar solutions of ADAF's in spherical coordinates ($r\\theta\\phi$). We find that for $n < 3\\gamma/2-1$, where $n$ is the density index in $\\rho \\propto r^{-n}$ and $\\gamma$ is the heat capacity ratio, the radial advection is a heating mechanism in the inflow and a cooling mechanism in the outflow. It becomes 0 for $n = 3\\gamma/2-1$, and turns to a cooling mechanism in the inflow and a heating mechanism in the outflow for $n > 3\\gamma/2-1$. The energy conservation is only achieved when the latitudinal ($\\theta$-direction) advection is considered, which takes an appropriate value to maintain energy balance, so that the overall effect of advection, no matter the parameter choices, is always a cooling mechanism that cancels out the viscous heating everywhere. For the extreme case of $n=3/2$, latitudinal motion stops, viscous heating is balanced solely by radial advection, and no outflow is developed. |\n",
       "|<p style=\"color:red\"> **ERROR** </p>| <p style=\"color:red\">latex error not a gzip file</p> |"
      ],
      "text/plain": [
       "<IPython.core.display.Markdown object>"
      ]
     },
     "metadata": {},
     "output_type": "display_data"
    },
    {
     "data": {
      "text/markdown": [
       "\n",
       "|||\n",
       "|---:|:---|\n",
       "| [![arXiv](https://img.shields.io/badge/arXiv-arXiv:2301.09102-b31b1b.svg)](https://arxiv.org/abs/arXiv:2301.09102) | **Proton and electron irradiations of CH4:H2O mixed ices**  |\n",
       "|| Duncan V. Mifsud, et al. -- incl., <mark>Péter Herczku</mark> |\n",
       "|*Appeared on*| *2023-01-24*|\n",
       "|*Comments*| *Published as an open access article in the MDPI journal Atoms*|\n",
       "|**Abstract**| The organic chemistry occurring in interstellar environments may lead to the production of complex molecules that are relevant to the emergence of life. Therefore, in order to understand the origins of life itself, it is necessary to probe the chemistry of carbon-bearing molecules under conditions that simulate interstellar space. Several of these regions, such as dense molecular cores, are exposed to ionizing radiation in the form of galactic cosmic rays, which may act as an important driver of molecular destruction and synthesis. In this paper, we report the results of a comparative and systematic study of the irradiation of CH4:H2O ice mixtures by 1 MeV protons and 2 keV electrons at 20 K.We demonstrate that our irradiations result in the formation of a number of new products, including both simple and complex daughter molecules such as C2H6, C3H8, C2H2, CH3OH, CO, CO2, and probably also H2CO. A comparison of the different irradiation regimes has also revealed that proton irradiation resulted in a greater abundance of radiolytic daughter molecules compared to electron irradiation, despite a lower radiation dose having been administered. These results are important in the context of the radiation astrochemistry occurring within the molecular cores of dense interstellar clouds, as well as on outer Solar System objects. |\n",
       "|<p style=\"color:red\"> **ERROR** </p>| <p style=\"color:red\">latex error not a gzip file</p> |"
      ],
      "text/plain": [
       "<IPython.core.display.Markdown object>"
      ]
     },
     "metadata": {},
     "output_type": "display_data"
    }
   ],
   "source": [
    "import datetime\n",
    "today = str(datetime.date.today())\n",
    "logfile = f\"_build/html/logs/log-{today}.md\"\n",
    "\n",
    "\n",
    "with open(logfile, 'w') as logs:\n",
    "    # Success\n",
    "    logs.write(f'# Arxiv on Deck 2: Logs - {today}\\n\\n')\n",
    "    logs.write(\"\"\"* Arxiv had {0:,d} new papers\\n\"\"\".format(len(new_papers)))\n",
    "    logs.write(\"\"\"    * {0:,d} with possible author matches\\n\\n\"\"\".format(len(candidates)))\n",
    "    logs.write(\"## Sucessful papers\\n\\n\")\n",
    "    display(Markdown(\"## Successful papers\"))\n",
    "    success = [k[0] for k in documents]\n",
    "    for candid in candidates:\n",
    "        if candid['identifier'].split(':')[-1] in success:\n",
    "            display(candid)\n",
    "            logs.write(candid.generate_markdown_text() + '\\n\\n')\n",
    "\n",
    "    ## failed\n",
    "    logs.write(\"## Failed papers\\n\\n\")\n",
    "    display(Markdown(\"## Failed papers\"))\n",
    "    failed = sorted(failed, key=lambda x: x[1])\n",
    "    current_reason = \"\"\n",
    "    for paper, reason in failed:\n",
    "        if 'affiliation' in reason:\n",
    "            color = 'green'\n",
    "        else:\n",
    "            color = 'red'\n",
    "        data = Markdown(\n",
    "                paper.generate_markdown_text() + \n",
    "                f'\\n|<p style=\"color:{color:s}\"> **ERROR** </p>| <p style=\"color:{color:s}\">{reason:s}</p> |'\n",
    "               )\n",
    "        if reason != current_reason:\n",
    "            logs.write(f'### {reason:s} \\n\\n')\n",
    "            current_reason = reason\n",
    "        logs.write(data.data + '\\n\\n')\n",
    "        \n",
    "        # only display here the important errors (all in logs)\n",
    "        # if color in ('red',):\n",
    "        display(data)"
   ]
  },
  {
   "cell_type": "markdown",
   "id": "472d20ee",
   "metadata": {
    "papermill": {
     "duration": 0.009861,
     "end_time": "2023-01-24T04:10:08.021675",
     "exception": false,
     "start_time": "2023-01-24T04:10:08.011814",
     "status": "completed"
    },
    "tags": []
   },
   "source": [
    "## Export documents\n",
    "\n",
    "We now write the .md files and export relevant images"
   ]
  },
  {
   "cell_type": "code",
   "execution_count": 7,
   "id": "d426aed9",
   "metadata": {
    "execution": {
     "iopub.execute_input": "2023-01-24T04:10:08.043230Z",
     "iopub.status.busy": "2023-01-24T04:10:08.042437Z",
     "iopub.status.idle": "2023-01-24T04:10:08.050351Z",
     "shell.execute_reply": "2023-01-24T04:10:08.049821Z"
    },
    "papermill": {
     "duration": 0.020496,
     "end_time": "2023-01-24T04:10:08.051989",
     "exception": false,
     "start_time": "2023-01-24T04:10:08.031493",
     "status": "completed"
    },
    "tags": []
   },
   "outputs": [],
   "source": [
    "def export_markdown_summary(md: str, md_fname:str, directory: str):\n",
    "    \"\"\"Export MD document and associated relevant images\"\"\"\n",
    "    import os\n",
    "    import shutil\n",
    "    import re\n",
    "\n",
    "    if (os.path.exists(directory) and not os.path.isdir(directory)):\n",
    "        raise RuntimeError(f\"a non-directory file exists with name {directory:s}\")\n",
    "\n",
    "    if (not os.path.exists(directory)):\n",
    "        print(f\"creating directory {directory:s}\")\n",
    "        os.mkdir(directory)\n",
    "\n",
    "    fig_fnames = (re.compile(r'\\[Fig.*\\]\\((.*)\\)').findall(md) + \n",
    "                  re.compile(r'\\<img src=\"([^>\\s]*)\"[^>]*/>').findall(md))\n",
    "    for fname in fig_fnames:\n",
    "        if 'http' in fname:\n",
    "            # No need to copy online figures\n",
    "            continue\n",
    "        destdir = os.path.join(directory, os.path.dirname(fname))\n",
    "        destfname = os.path.join(destdir, os.path.basename(fname))\n",
    "        try:\n",
    "            os.makedirs(destdir)\n",
    "        except FileExistsError:\n",
    "            pass\n",
    "        shutil.copy(fname, destfname)\n",
    "    with open(os.path.join(directory, md_fname), 'w') as fout:\n",
    "        fout.write(md)\n",
    "    print(\"exported in \", os.path.join(directory, md_fname))\n",
    "    [print(\"    + \" + os.path.join(directory,fk)) for fk in fig_fnames]"
   ]
  },
  {
   "cell_type": "code",
   "execution_count": 8,
   "id": "014d04a4",
   "metadata": {
    "execution": {
     "iopub.execute_input": "2023-01-24T04:10:08.078595Z",
     "iopub.status.busy": "2023-01-24T04:10:08.077924Z",
     "iopub.status.idle": "2023-01-24T04:10:08.087861Z",
     "shell.execute_reply": "2023-01-24T04:10:08.087297Z"
    },
    "papermill": {
     "duration": 0.022491,
     "end_time": "2023-01-24T04:10:08.089258",
     "exception": false,
     "start_time": "2023-01-24T04:10:08.066767",
     "status": "completed"
    },
    "tags": []
   },
   "outputs": [
    {
     "name": "stdout",
     "output_type": "stream",
     "text": [
      "exported in  _build/html/2301.08770.md\n",
      "    + _build/html/tmp_2301.08770/./fig_dust19b.png\n",
      "    + _build/html/tmp_2301.08770/./image.png\n",
      "    + _build/html/tmp_2301.08770/./test_aper_2.png\n",
      "exported in  _build/html/2301.09140.md\n",
      "    + _build/html/tmp_2301.09140/./main_fig1.png\n",
      "    + _build/html/tmp_2301.09140/./main_fig4_top.png\n",
      "    + _build/html/tmp_2301.09140/./main_fig4_bottom.png\n",
      "    + _build/html/tmp_2301.09140/./main_fig2.png\n",
      "exported in  _build/html/2301.09621.md\n",
      "    + _build/html/tmp_2301.09621/./plots/pop_lw.png\n",
      "    + _build/html/tmp_2301.09621/./plots/pop_mw.png\n",
      "    + _build/html/tmp_2301.09621/./plots/V_sigma.png\n",
      "    + _build/html/tmp_2301.09621/./plots/h3_h4.png\n",
      "    + _build/html/tmp_2301.09621/./plots/met.png\n",
      "    + _build/html/tmp_2301.09621/./plots/alpha.png\n"
     ]
    }
   ],
   "source": [
    "for paper_id, md in documents:\n",
    "    export_markdown_summary(md, f\"{paper_id:s}.md\", '_build/html/')"
   ]
  },
  {
   "cell_type": "markdown",
   "id": "f087a0a7",
   "metadata": {
    "papermill": {
     "duration": 0.010012,
     "end_time": "2023-01-24T04:10:08.109306",
     "exception": false,
     "start_time": "2023-01-24T04:10:08.099294",
     "status": "completed"
    },
    "tags": []
   },
   "source": [
    "## Display the papers\n",
    "\n",
    "Not necessary but allows for a quick check."
   ]
  },
  {
   "cell_type": "code",
   "execution_count": 9,
   "id": "fd25f625",
   "metadata": {
    "execution": {
     "iopub.execute_input": "2023-01-24T04:10:08.130803Z",
     "iopub.status.busy": "2023-01-24T04:10:08.130273Z",
     "iopub.status.idle": "2023-01-24T04:10:08.137278Z",
     "shell.execute_reply": "2023-01-24T04:10:08.136769Z"
    },
    "papermill": {
     "duration": 0.019375,
     "end_time": "2023-01-24T04:10:08.138603",
     "exception": false,
     "start_time": "2023-01-24T04:10:08.119228",
     "status": "completed"
    },
    "scrolled": false,
    "tags": []
   },
   "outputs": [
    {
     "data": {
      "text/markdown": [
       "<div class=\"macros\" style=\"visibility:hidden;\">\n",
       "$\\newcommand{\\ensuremath}{}$\n",
       "$\\newcommand{\\xspace}{}$\n",
       "$\\newcommand{\\object}[1]{\\texttt{#1}}$\n",
       "$\\newcommand{\\farcs}{{.}''}$\n",
       "$\\newcommand{\\farcm}{{.}'}$\n",
       "$\\newcommand{\\arcsec}{''}$\n",
       "$\\newcommand{\\arcmin}{'}$\n",
       "$\\newcommand{\\ion}[2]{#1#2}$\n",
       "$\\newcommand{\\textsc}[1]{\\textrm{#1}}$\n",
       "$\\newcommand{\\hl}[1]{\\textrm{#1}}$\n",
       "$\\newcommand{\\vdag}{(v)^\\dagger}$\n",
       "$\\newcommand$\n",
       "$\\newcommand$\n",
       "$\\newcommand$\n",
       "$\\newcommand$\n",
       "$\\newcommand$\n",
       "$\\newcommand$</div>\n",
       "\n",
       "<div class=\"macros\" style=\"visibility:hidden;\">\n",
       "$\\newcommand{$\\ensuremath$}{}$\n",
       "$\\newcommand{$\\xspace$}{}$\n",
       "$\\newcommand{$\\object$}[1]{\\texttt{#1}}$\n",
       "$\\newcommand{$\\farcs$}{{.}''}$\n",
       "$\\newcommand{$\\farcm$}{{.}'}$\n",
       "$\\newcommand{$\\arcsec$}{''}$\n",
       "$\\newcommand{$\\arcmin$}{'}$\n",
       "$\\newcommand{$\\ion$}[2]{#1#2}$\n",
       "$\\newcommand{$\\textsc$}[1]{\\textrm{#1}}$\n",
       "$\\newcommand{$\\hl$}[1]{\\textrm{#1}}$\n",
       "$\\newcommand{$\\vdag$}{(v)^\\dagger}$\n",
       "$\\newcommand$\n",
       "$\\newcommand$\n",
       "$\\newcommand$\n",
       "$\\newcommand$\n",
       "$\\newcommand$\n",
       "$\\newcommand$</div>\n",
       "\n",
       "\n",
       "\n",
       "<div id=\"title\">\n",
       "\n",
       "# JWST/MIRI Spectroscopy of the Disk of the Young Eruptive Star EX Lup in Quiescence\n",
       "\n",
       "</div>\n",
       "<div id=\"comments\">\n",
       "\n",
       "[![arXiv](https://img.shields.io/badge/arXiv-2301.08770-b31b1b.svg)](https://arxiv.org/abs/2301.08770)<mark>Appeared on: 2023-01-24</mark> - _9 pages, 4 figures, accepted for publication in ApJL_\n",
       "\n",
       "</div>\n",
       "<div id=\"authors\">\n",
       "\n",
       "\\'Agnes K\\'osp\\'al, et al. -- incl., <mark>Lindsey Diehl</mark>, <mark>Jeroen Bouwman</mark>, <mark>Joel D. Green</mark>, <mark>Thomas Henning</mark>\n",
       "\n",
       "</div>\n",
       "<div id=\"abstract\">\n",
       "\n",
       "**Abstract:** EX Lup is a low-mass pre-main sequence star that occasionally shows accretion-related outbursts. Here, we present JWST/MIRI medium resolution spectroscopy obtained for EX Lup fourteen years after its powerful outburst. EX Lup is now in quiescence and displays a Class II spectrum. We detect a forest of emission lines from molecules previously identified in infrared spectra of classical T Tauri disks:\\ce{H2O}, OH,\\ce{H2}, HCN,\\ce{C2H2}, and\\ce{CO2}. The detection of organic molecules demonstrates that they are back after disappearing during the large outburst. Spectral lines from water and OH are for the first time de-blended and will provide a much improved characterization of their distribution and density in the inner disk. The spectrum also shows broad emission bands from warm, sub-micron size amorphous silicate grains at 10 and 18$ \\mu$m. During the outburst, in 2008, crystalline forsterite grains were annealed in the inner disk within 1 au, but their spectral signatures in the 10$\\mu$m silicate band later disappeared. With JWST we re-discovered these crystals via their 19.0, 20.0, and 23.5$ \\mu$m emission, whose strength implies that the particles are at$\\sim$3 au from the star. This suggests that crystalline grains formed in 2008 were transported outwards and now approach the water snowline, where they may be incorporated into planetesimals. Containing several key tracers of planetesimal and planet formation, EX Lup is an ideal laboratory to study the effects of variable luminosity on the planet-forming material and may provide explanation for the observed high crystalline fraction in solar system comets.\n",
       "\n",
       "</div>\n",
       "\n",
       "<div id=\"div_fig1\">\n",
       "\n",
       "<img src=\"tmp_2301.08770/./fig_dust19b.png\" alt=\"Fig2\" width=\"100%\"/>\n",
       "\n",
       "**Figure 2. -** Continuum-subtracted JWST/MIRI spectrum of EX Lup with various dust models, and with the Spitzer/IRS quiescent spectrum from 2005. The model curves were shifted for clarity.\\label{fig:dust} (*fig:dust*)\n",
       "\n",
       "</div>\n",
       "<div id=\"div_fig2\">\n",
       "\n",
       "<img src=\"tmp_2301.08770/./image.png\" alt=\"Fig3\" width=\"100%\"/>\n",
       "\n",
       "**Figure 3. -** Continuum-subtracted MIRI spectrum with slab models for the identification of molecular lines.\\label{fig:slab_models} (*fig:slab_models*)\n",
       "\n",
       "</div>\n",
       "<div id=\"div_fig3\">\n",
       "\n",
       "<img src=\"tmp_2301.08770/./test_aper_2.png\" alt=\"Fig1\" width=\"100%\"/>\n",
       "\n",
       "**Figure 1. -** JWST/MIRI MRS spectrum of EX Lup (color), shown together with an earlier Spitzer/IRS spectrum (gray), both taken in quiescence. The different colors mark the individual sub-bands of the JWST spectrum. We indicated some of the observed molecular and solid state features. We note that the spectrum contains hundreds of \\ce{H2O} lines; we only marked a few of them as an illustration. The JWST spectrum shown here is available as Data behind the Figure.\\label{fig:test_aper} (*fig:test_aper*)\n",
       "\n",
       "</div>"
      ],
      "text/plain": [
       "<IPython.core.display.Markdown object>"
      ]
     },
     "metadata": {},
     "output_type": "display_data"
    },
    {
     "data": {
      "text/markdown": [
       "<div class=\"macros\" style=\"visibility:hidden;\">\n",
       "$\\newcommand{\\ensuremath}{}$\n",
       "$\\newcommand{\\xspace}{}$\n",
       "$\\newcommand{\\object}[1]{\\texttt{#1}}$\n",
       "$\\newcommand{\\farcs}{{.}''}$\n",
       "$\\newcommand{\\farcm}{{.}'}$\n",
       "$\\newcommand{\\arcsec}{''}$\n",
       "$\\newcommand{\\arcmin}{'}$\n",
       "$\\newcommand{\\ion}[2]{#1#2}$\n",
       "$\\newcommand{\\textsc}[1]{\\textrm{#1}}$\n",
       "$\\newcommand{\\hl}[1]{\\textrm{#1}}$\n",
       "$\\newcommand{\\bibinfo}[2]{#2}$\n",
       "$\\newcommand{\\eprint}[2][]{\\url{#2}}$\n",
       "$\\newcommand{\\tablenotes}$\n",
       "$\\newcommand{\\cmark}{\\textcolor{green}{\\ding{51}}}$\n",
       "$\\newcommand{\\xmark}{\\textcolor{red}{\\ding{55}}}$\n",
       "$\\newcommand{\\ED}[1]{{\\color{blue!50}\\;ED: #1}}$\n",
       "$\\newcommand{\\arraystretch}{1.3}$\n",
       "$\\newcommand{\\arraystretch}{1.0}$\n",
       "$\\newcommand{\\}{url}$\n",
       "$\\newcommand{\\urlprefix}{URL }$\n",
       "$\\newcommand{\\doiprefix}{DOI: }$</div>\n",
       "\n",
       "<div class=\"macros\" style=\"visibility:hidden;\">\n",
       "$\\newcommand{$\\ensuremath$}{}$\n",
       "$\\newcommand{$\\xspace$}{}$\n",
       "$\\newcommand{$\\object$}[1]{\\texttt{#1}}$\n",
       "$\\newcommand{$\\farcs$}{{.}''}$\n",
       "$\\newcommand{$\\farcm$}{{.}'}$\n",
       "$\\newcommand{$\\arcsec$}{''}$\n",
       "$\\newcommand{$\\arcmin$}{'}$\n",
       "$\\newcommand{$\\ion$}[2]{#1#2}$\n",
       "$\\newcommand{$\\textsc$}[1]{\\textrm{#1}}$\n",
       "$\\newcommand{$\\hl$}[1]{\\textrm{#1}}$\n",
       "$\\newcommand{$\\bibinfo$}[2]{#2}$\n",
       "$\\newcommand{$\\eprint$}[2][]{\\url{#2}}$\n",
       "$\\newcommand{$\\tablenotes$}$\n",
       "$\\newcommand{$\\cmark$}{\\textcolor{green}{\\ding{51}}}$\n",
       "$\\newcommand{$\\xmark$}{\\textcolor{red}{\\ding{55}}}$\n",
       "$\\newcommand{$\\ED$}[1]{{\\color{blue!50}\\;ED: #1}}$\n",
       "$\\newcommand{$\\arraystretch$}{1.3}$\n",
       "$\\newcommand{$\\arraystretch$}{1.0}$\n",
       "$\\newcommand{\\}{url}$\n",
       "$\\newcommand{$\\urlprefix$}{URL }$\n",
       "$\\newcommand{$\\doiprefix$}{DOI: }$</div>\n",
       "\n",
       "\n",
       "\n",
       "<div id=\"title\">\n",
       "\n",
       "# An Ice Age JWST inventory of dense molecular cloud ices\n",
       "\n",
       "</div>\n",
       "<div id=\"comments\">\n",
       "\n",
       "[![arXiv](https://img.shields.io/badge/arXiv-2301.09140-b31b1b.svg)](https://arxiv.org/abs/2301.09140)<mark>Appeared on: 2023-01-24</mark> - _To appear in Nature Astronomy on January 23rd, 2023. 33 pages, 16 figures, 3 tables; includes extended and supplemental data sections. Part of the JWST Ice Age Early Release Science program's science enabling products. Enhanced spectra downloadable on Zenodo at the following DOI: 10.5281/zenodo.7501239_\n",
       "\n",
       "</div>\n",
       "<div id=\"authors\">\n",
       "\n",
       "M. K. McClure, et al. -- incl., <mark>G. Perotti</mark>, <mark>Z.L. Smith</mark>, <mark>W. A. Brown</mark>, <mark>Herma M. Cuppen</mark>, <mark>D.C. Lis</mark>, <mark>H.~Linnartz</mark>\n",
       "\n",
       "</div>\n",
       "<div id=\"abstract\">\n",
       "\n",
       "**Abstract:** \\bf{Icy grain mantles are the main reservoir of the volatile elements that link chemical processes in dark, interstellar clouds with the formation of planets and composition of their atmospheres. The initial ice composition is set in the cold, dense parts of molecular clouds, prior to the onset of star formation. With the exquisite sensitivity of JWST, this critical stage of ice evolution is now accessible for detailed study. Here we show the first results of the Early Release Science program \"Ice Age\" that reveal the rich composition of these dense cloud ices. Weak ices, including, $^{13}$CO$_2$, OCN$^-$, $^{13}$CO, OCS, and COMs functional groups are now detected along two pre-stellar lines of sight. The $^{12}$CO$_2$ ice profile indicates modest growth of the icy grains. Column densities of the major and minor ice species indicate that ices contribute between 2 and 19\\% of the bulk budgets of the key C, O, N, and S elements. Our results suggest that the formation of simple and complex molecules could begin early in a water-ice rich environment.}\n",
       "\n",
       "</div>\n",
       "\n",
       "<div id=\"div_fig1\">\n",
       "\n",
       "<img src=\"tmp_2301.09140/./main_fig1.png\" alt=\"Fig1\" width=\"100%\"/>\n",
       "\n",
       "**Figure 1. -** \\textbf{NIRSpec FS [NIRCam WFSS] and MIRI LRS spectra of NIR38 and J110621.} Top: Full NIRSpec FS and MIRI LRS spectra of NIR38\n",
       "($A_V\\sim60$, solid navy line) and J110621 ($A_V\\sim95$, solid light gray line), with associated continuum fits (dotted lines). For NIR38, a preliminary NIRCam WFSS spectrum has been scaled to the NIRSpec spectrum at 3.8 $\\mu$m and spliced in to cover the NIRSpec FS gap from 3.85--3.9 $\\mu$m and extend the spectrum to 2.5 $\\mu$m. Ice absorption features are color-coded according to species and labelled in the NIR38 spectrum. Wavelength regions used for the continuum fit are indicated by light gray bars (NIRSpec) and dark gray filled circles (MIRI) at the bottom of the top panel. Bottom: Zoom in on the weaker ice features and structure revealed by JWST. The potential dangling O-H feature is indicted by \"dO-H\", and the combination modes of CO$_2$ and H$_2$O by \"combi.\" (*main_fig1*)\n",
       "\n",
       "</div>\n",
       "<div id=\"div_fig2\">\n",
       "\n",
       "<img src=\"tmp_2301.09140/./main_fig4_top.png\" alt=\"Fig4.1\" width=\"50%\"/><img src=\"tmp_2301.09140/./main_fig4_bottom.png\" alt=\"Fig4.2\" width=\"50%\"/>\n",
       "\n",
       "**Figure 4. -** \\textbf{Barplots showing the derived ice column density for different species  towards NIR38 ($A_V \\sim 60$ mag) and J110621 ($A_V \\sim 95$ mag).}(Top) Column densities of the ice species identified in this work, compared to the literature values of Elias 16 ($A_V \\sim 19$ mag)\\cite{Knez2005}. The column densities of the major ice components are from the global \\texttt{ENIIGMA} fit (best of n=112 models), and we use the values from the local fits for the minor ice components. Black arrows indicate upper limits and error bars are taken from the 3$\\sigma$ confidence intervals. (Bottom) Relative column densities of the detected ices, normalized to H$_2$O ice. For the major ice components, we use the values from the global \\texttt{ENIIGMA} fit, and for the minor ice components, we use the values from the local fits. Black arrows indicate upper limits and error bars are taken from the 3$\\sigma$ confidence intervals. (*main_fig4*)\n",
       "\n",
       "</div>\n",
       "<div id=\"div_fig3\">\n",
       "\n",
       "<img src=\"tmp_2301.09140/./main_fig2.png\" alt=\"Fig2\" width=\"100%\"/>\n",
       "\n",
       "**Figure 2. -** \\textbf{Data quality comparison for NIR38 and J110621.}(Top panel) Comparison of the NIRCam WFSS (blue), NIRSpec FS (black), and MIRI LRS FS (red) spectra of the $A_V=60$ background star. Error bars (gray) are 3$\\sigma$, and in some regions are smaller than the thickness of the lines. Spitzer IRAC photometry (gold points) from the IPAC SEIP catalog is given for reference, with error bars and bandpass indicated. (Bottom panel) Comparison of NIRSpec FS and MIRI LRS FS data for the $A_V=95$ star. Colors are the same as in the top panel. (*main_fig2*)\n",
       "\n",
       "</div>"
      ],
      "text/plain": [
       "<IPython.core.display.Markdown object>"
      ]
     },
     "metadata": {},
     "output_type": "display_data"
    },
    {
     "data": {
      "text/markdown": [
       "<div class=\"macros\" style=\"visibility:hidden;\">\n",
       "$\\newcommand{\\ensuremath}{}$\n",
       "$\\newcommand{\\xspace}{}$\n",
       "$\\newcommand{\\object}[1]{\\texttt{#1}}$\n",
       "$\\newcommand{\\farcs}{{.}''}$\n",
       "$\\newcommand{\\farcm}{{.}'}$\n",
       "$\\newcommand{\\arcsec}{''}$\n",
       "$\\newcommand{\\arcmin}{'}$\n",
       "$\\newcommand{\\ion}[2]{#1#2}$\n",
       "$\\newcommand{\\textsc}[1]{\\textrm{#1}}$\n",
       "$\\newcommand{\\hl}[1]{\\textrm{#1}}$\n",
       "$\\newcommand{\\thebibliography}{\\DeclareRobustCommand{\\VAN}[3]{##3}\\VANthebibliography}$</div>\n",
       "\n",
       "<div class=\"macros\" style=\"visibility:hidden;\">\n",
       "$\\newcommand{$\\ensuremath$}{}$\n",
       "$\\newcommand{$\\xspace$}{}$\n",
       "$\\newcommand{$\\object$}[1]{\\texttt{#1}}$\n",
       "$\\newcommand{$\\farcs$}{{.}''}$\n",
       "$\\newcommand{$\\farcm$}{{.}'}$\n",
       "$\\newcommand{$\\arcsec$}{''}$\n",
       "$\\newcommand{$\\arcmin$}{'}$\n",
       "$\\newcommand{$\\ion$}[2]{#1#2}$\n",
       "$\\newcommand{$\\textsc$}[1]{\\textrm{#1}}$\n",
       "$\\newcommand{$\\hl$}[1]{\\textrm{#1}}$\n",
       "$\\newcommand{$\\thebibliography$}{\\DeclareRobustCommand{\\VAN}[3]{##3}\\VANthebibliography}$</div>\n",
       "\n",
       "\n",
       "\n",
       "<div id=\"title\">\n",
       "\n",
       "# The vertical structure of the spiral galaxy NGC 3501: first stages of the formation of a thin metal-rich disc\n",
       "\n",
       "</div>\n",
       "<div id=\"comments\">\n",
       "\n",
       "[![arXiv](https://img.shields.io/badge/arXiv-2301.09621-b31b1b.svg)](https://arxiv.org/abs/2301.09621)<mark>Appeared on: 2023-01-24</mark> - _15 pages, 12 figures. Accepted for publication in MNRAS_\n",
       "\n",
       "</div>\n",
       "<div id=\"authors\">\n",
       "\n",
       "<mark><mark>Natascha Sattler</mark></mark>, et al. -- incl., <mark><mark>Francesca Pinna</mark></mark>, <mark><mark>Nadine Neumayer</mark></mark>\n",
       "\n",
       "</div>\n",
       "<div id=\"abstract\">\n",
       "\n",
       "**Abstract:** We trace the evolution of the edge-on spiral galaxy NGC 3501, making use of its stellar populations extracted from deep integral-field spectroscopy MUSE observations. We present stellar kinematic and population maps, as well as the star formation history, of the south-western half of the galaxy.The derived maps of the stellar line-of-sight velocity and velocity dispersion are quite regular, show disc-like rotation, and no other structural component of the galaxy.However, maps of the stellar populations exhibit structures in the mass-weighted and light-weighted age, total metallicity and[Mg/Fe]abundance.These maps indicate that NGC 3501 is a young galaxy, consisting mostly of stars with ages between 2 to 8 Gyr.Also, they show a thicker more extended structure that is metal-poor and$\\alpha$-rich, and another inner metal-rich and$\\alpha$-poor one with smaller radial extension.While previous studies revealed that NGC 3501 shows only one morphological disc component in its vertical structure, we divided the galaxy into two regions: an inner metal-rich midplane and a metal-poor thicker envelope.Comparing the star formation history of the inner thinner metal-rich disc and the thicker metal-poor disc,we see that the metal-rich component evolved more steadily, while the metal-poor one experienced several bursts of star formation.We propose this spiral galaxy is being observed in an early evolutionary phase, with a thicker disc already in place and an inner thin disc in an early formation stage. So we are probably witnessing the birth of a future massive thin disc, continuously growing embedded in a preexisting thicker disc.\\\n",
       "\n",
       "</div>\n",
       "\n",
       "<div id=\"div_fig1\">\n",
       "\n",
       "<img src=\"tmp_2301.09621/./plots/pop_lw.png\" alt=\"Fig7.1\" width=\"50%\"/><img src=\"tmp_2301.09621/./plots/pop_mw.png\" alt=\"Fig7.2\" width=\"50%\"/>\n",
       "\n",
       "**Figure 7. -** Left: Stellar population maps showing the light-weighted age (top), total metallicity [M/H](middle) and [Mg/Fe]-abundance (bottom). Right: Stellar population maps showing the mass-weighted age (top), total metallicity [M/H](middle) and [Mg/Fe]-abundance (bottom). The approximate positions of the MUSE pointings are indicated by grey lines and the discarded bins are displayed in grey, while the isophotes are displayed in black.\n",
       "     (*fig:pop*)\n",
       "\n",
       "</div>\n",
       "<div id=\"div_fig2\">\n",
       "\n",
       "<img src=\"tmp_2301.09621/./plots/V_sigma.png\" alt=\"Fig6.1\" width=\"50%\"/><img src=\"tmp_2301.09621/./plots/h3_h4.png\" alt=\"Fig6.2\" width=\"50%\"/>\n",
       "\n",
       "**Figure 6. -** Left: Stellar kinematic maps of the mean velocity $V$(upper panel) and velocity dispersion $\\sigma$(bottom panel) of the stellar LOSVD. Right: Kinematic maps show values of $h_3$ and $h_4$ as results from the stellar kinematic pPXF fitting. The discarded bins are plotted in grey and the approximate positions of the MUSE pointings are indicated by grey lines, while the isophotes are displayed in black.\n",
       "     (*fig:kin*)\n",
       "\n",
       "</div>\n",
       "<div id=\"div_fig3\">\n",
       "\n",
       "<img src=\"tmp_2301.09621/./plots/met.png\" alt=\"Fig8.1\" width=\"50%\"/><img src=\"tmp_2301.09621/./plots/alpha.png\" alt=\"Fig8.2\" width=\"50%\"/>\n",
       "\n",
       "**Figure 8. -** Star formation history in terms of the mean mass fraction (normalized to the galaxy mass in the region covered by our data) in the metal-poor (bottom) and metal-rich (top) components as a function of age. Age bins are color-coded by metallicity [M/H](left), and by [Mg/Fe](right). Black dashed edges mark age bins with [Mg/Fe] abundances that we do not consider totally reliable, because of difficulties in retrieving the [$\\alpha$/Fe] for young stars as discussed in Appendix \\ref{appendix:system_unc}.\n",
       "     (*fig:metalpha*)\n",
       "\n",
       "</div>"
      ],
      "text/plain": [
       "<IPython.core.display.Markdown object>"
      ]
     },
     "metadata": {},
     "output_type": "display_data"
    }
   ],
   "source": [
    "[display(Markdown(k[1])) for k in documents];"
   ]
  },
  {
   "cell_type": "markdown",
   "id": "873873a4",
   "metadata": {
    "papermill": {
     "duration": 0.010469,
     "end_time": "2023-01-24T04:10:08.159643",
     "exception": false,
     "start_time": "2023-01-24T04:10:08.149174",
     "status": "completed"
    },
    "tags": []
   },
   "source": [
    "# Create HTML index"
   ]
  },
  {
   "cell_type": "code",
   "execution_count": 10,
   "id": "cf665672",
   "metadata": {
    "execution": {
     "iopub.execute_input": "2023-01-24T04:10:08.209711Z",
     "iopub.status.busy": "2023-01-24T04:10:08.209185Z",
     "iopub.status.idle": "2023-01-24T04:10:08.220245Z",
     "shell.execute_reply": "2023-01-24T04:10:08.219603Z"
    },
    "papermill": {
     "duration": 0.024165,
     "end_time": "2023-01-24T04:10:08.221726",
     "exception": false,
     "start_time": "2023-01-24T04:10:08.197561",
     "status": "completed"
    },
    "tags": []
   },
   "outputs": [
    {
     "name": "stdout",
     "output_type": "stream",
     "text": [
      "180  publications in the last 7 days.\n",
      "\t _build/html/2301.09621.md\n",
      "\t _build/html/2301.09140.md\n",
      "\t _build/html/2301.08770.md\n",
      "\t _build/html/2301.08310.md\n",
      "\t _build/html/2301.07990.md\n",
      "\t _build/html/2301.07366.md\n",
      "\t _build/html/2301.07199.md\n",
      "\t _build/html/2301.07116.md\n",
      "\t _build/html/2301.06873.md\n",
      "\t _build/html/2301.06819.md\n",
      "\t _build/html/2301.06575.md\n",
      "\t _build/html/2301.05720.md\n",
      "\t _build/html/2301.05718.md\n",
      "\t _build/html/2301.05034.md\n",
      "\t _build/html/2301.04656.md\n",
      "\t _build/html/2301.04533.md\n",
      "\t _build/html/2301.04442.md\n",
      "\t _build/html/2301.03811.md\n",
      "\t _build/html/2301.03689.md\n",
      "\t _build/html/2301.03387.md\n",
      "\t _build/html/2301.03209.md\n",
      "\t _build/html/2301.02671.md\n",
      "\t _build/html/2301.02477.md\n",
      "\t _build/html/2301.02313.md\n",
      "\t _build/html/2301.02265.md\n",
      "\t _build/html/2301.01937.md\n",
      "\t _build/html/2301.01895.md\n",
      "\t _build/html/2301.01684.md\n",
      "\t _build/html/2301.01306.md\n",
      "\t _build/html/2301.00881.md\n",
      "\t _build/html/2301.00854.md\n",
      "\t _build/html/2301.00578.md\n",
      "\t _build/html/2212.12039.md\n",
      "\t _build/html/2212.11991.md\n",
      "\t _build/html/2212.11425.md\n",
      "\t _build/html/2212.11177.md\n",
      "\t _build/html/2212.10804.md\n",
      "\t _build/html/2212.10512.md\n",
      "\t _build/html/2212.09766.md\n",
      "\t _build/html/2212.09675.md\n",
      "\t _build/html/2212.09661.md\n",
      "\t _build/html/2212.09652.md\n",
      "\t _build/html/2212.09443.md\n",
      "\t _build/html/2212.09307.md\n",
      "\t _build/html/2212.09168.md\n",
      "\t _build/html/2212.09159.md\n",
      "\t _build/html/2212.08702.md\n",
      "\t _build/html/2212.07332.md\n",
      "\t _build/html/2212.06434.md\n",
      "\t _build/html/2212.04710.md\n",
      "\t _build/html/2212.04026.md\n",
      "\t _build/html/2212.03563.md\n",
      "\t _build/html/2212.03514.md\n",
      "\t _build/html/2212.02667.md\n",
      "\t _build/html/2212.02627.md\n",
      "\t _build/html/2212.02235.md\n",
      "\t _build/html/2212.01707.md\n",
      "\t _build/html/2212.01526.md\n",
      "\t _build/html/2212.01397.md\n",
      "\t _build/html/2212.01291.md\n",
      "\t _build/html/2212.01281.md\n",
      "\t _build/html/2212.00812.md\n",
      "\t _build/html/2212.00811.md\n",
      "\t _build/html/2212.00806.md\n",
      "\t _build/html/2212.00047.md\n",
      "\t _build/html/2212.00032.md\n",
      "\t _build/html/2211.16996.md\n",
      "\t _build/html/2211.16510.md\n",
      "\t _build/html/2211.16123.md\n",
      "\t _build/html/2211.15816.md\n",
      "\t _build/html/2211.15698.md\n",
      "\t _build/html/2211.15576.md\n",
      "\t _build/html/2211.15434.md\n",
      "\t _build/html/2211.15288.md\n",
      "\t _build/html/2211.15224.md\n",
      "\t _build/html/2211.14543.md\n",
      "\t _build/html/2211.14330.md\n",
      "\t _build/html/2211.14322.md\n",
      "\t _build/html/2211.14132.md\n",
      "\t _build/html/2211.13811.md\n",
      "\t _build/html/2211.13426.md\n",
      "\t _build/html/2211.13318.md\n",
      "\t _build/html/2211.13146.md\n",
      "\t _build/html/2211.12613.md\n",
      "\t _build/html/2211.11767.md\n",
      "\t _build/html/2211.09840.md\n",
      "\t _build/html/2211.09217.md\n",
      "\t _build/html/2211.08493.md\n",
      "\t _build/html/2211.08487.md\n",
      "\t _build/html/2211.08294.md\n",
      "\t _build/html/2211.07667.md\n",
      "\t _build/html/2211.07659.md\n",
      "\t _build/html/2211.06454.md\n",
      "\t _build/html/2211.06205.md\n",
      "\t _build/html/2211.06194.md\n",
      "\t _build/html/2211.05022.md\n",
      "\t _build/html/2211.04048.md\n",
      "\t _build/html/2211.03641.md\n",
      "\t _build/html/2211.02502.md\n",
      "\t _build/html/2211.01474.md\n",
      "\t _build/html/2211.00667.md\n",
      "\t _build/html/2211.00657.md\n",
      "\t _build/html/2211.00087.md\n",
      "\t _build/html/2211.00036.md\n",
      "\t _build/html/2211.00020.md\n",
      "\t _build/html/2211.00010.md\n",
      "\t _build/html/2210.17434.md\n",
      "\t _build/html/2210.12412.md\n",
      "\t _build/html/2210.11926.md\n",
      "\t _build/html/2210.11551.md\n",
      "\t _build/html/2210.11103.md\n",
      "\t _build/html/2210.10707.md\n",
      "\t _build/html/2210.09930.md\n",
      "\t _build/html/2210.08996.md\n",
      "\t _build/html/2210.08517.md\n",
      "\t _build/html/2210.08510.md\n",
      "\t _build/html/2210.08078.md\n",
      "\t _build/html/2210.06504.md\n",
      "\t _build/html/2210.05695.md\n",
      "\t _build/html/2210.05595.md\n",
      "\t _build/html/2210.05505.md\n",
      "\t _build/html/2210.04721.md\n",
      "\t _build/html/2210.03615.md\n",
      "\t _build/html/2210.01811.md\n",
      "\t _build/html/2210.01809.md\n",
      "\t _build/html/2210.01556.md\n",
      "\t _build/html/2210.00863.md\n",
      "\t _build/html/2210.00560.md\n",
      "\t _build/html/2209.15403.md\n",
      "\t _build/html/2209.15110.md\n",
      "\t _build/html/2209.14410.md\n",
      "\t _build/html/2209.14396.md\n",
      "\t _build/html/2209.13717.md\n",
      "\t _build/html/2209.13336.md\n",
      "\t _build/html/2209.12906.md\n",
      "\t _build/html/2209.11781.md\n",
      "\t _build/html/2209.11602.md\n",
      "\t _build/html/2209.11248.md\n",
      "\t _build/html/2209.11096.md\n",
      "\t _build/html/2209.10618.md\n",
      "\t _build/html/2209.09914.md\n",
      "\t _build/html/2209.09823.md\n",
      "\t _build/html/2209.08242.md\n",
      "\t _build/html/2209.08120.md\n",
      "\t _build/html/2209.08106.md\n",
      "\t _build/html/2209.07962.md\n",
      "\t _build/html/2209.07931.md\n",
      "\t _build/html/2209.06833.md\n",
      "\t _build/html/2209.05814.md\n",
      "\t _build/html/2209.05593.md\n",
      "\t _build/html/2209.04304.md\n",
      "\t _build/html/2209.03367.md\n",
      "\t _build/html/2209.02872.md\n",
      "\t _build/html/2209.02725.md\n",
      "\t _build/html/2209.02722.md\n",
      "\t _build/html/2209.02092.md\n",
      "\t _build/html/2209.01125.md\n",
      "\t _build/html/2209.00828.md\n",
      "\t _build/html/2209.00363.md\n",
      "\t _build/html/2208.14927.md\n",
      "\t _build/html/2208.09335.md\n",
      "\t _build/html/2208.08872.md\n",
      "\t _build/html/2204.06393.md\n",
      "\t _build/html/2204.03335.md\n",
      "\t _build/html/2204.03253.md\n",
      "\t _build/html/2204.02998.md\n",
      "\t _build/html/2204.02109.md\n",
      "\t _build/html/2204.02017.md\n",
      "\t _build/html/2204.01824.md\n",
      "\t _build/html/2204.01758.md\n",
      "\t _build/html/2204.01245.md\n",
      "\t _build/html/2204.00793.md\n",
      "\t _build/html/2204.00342.md\n",
      "\t _build/html/2203.16959.md\n",
      "\t _build/html/2203.16856.md\n",
      "\t _build/html/2203.16735.md\n",
      "\t _build/html/2203.16734.md\n",
      "\t _build/html/2203.16504.md\n",
      "\t _build/html/2203.15822.md\n",
      "\t _build/html/2203.15811.md\n"
     ]
    }
   ],
   "source": [
    "from datetime import datetime, timedelta, timezone\n",
    "from glob import glob\n",
    "\n",
    "files = glob('_build/html/*.md')\n",
    "days = 7\n",
    "now = datetime.today()\n",
    "res = []\n",
    "for fk in files:\n",
    "    stat_result = os.stat(fk).st_ctime\n",
    "    modified = datetime.fromtimestamp(stat_result, tz=timezone.utc).replace(tzinfo=None)\n",
    "    delta = now.today() - modified\n",
    "    if delta <= timedelta(days=days):\n",
    "        res.append((delta.seconds, fk))\n",
    "res = [k[1] for k in reversed(sorted(res, key=lambda x:x[1]))]\n",
    "npub = len(res)\n",
    "print(len(res), f\" publications in the last {days:d} days.\")\n",
    "[ print('\\t', k) for k in res ];"
   ]
  },
  {
   "cell_type": "code",
   "execution_count": 11,
   "id": "015de740",
   "metadata": {
    "execution": {
     "iopub.execute_input": "2023-01-24T04:10:08.246029Z",
     "iopub.status.busy": "2023-01-24T04:10:08.245609Z",
     "iopub.status.idle": "2023-01-24T04:10:08.266166Z",
     "shell.execute_reply": "2023-01-24T04:10:08.265625Z"
    },
    "papermill": {
     "duration": 0.035336,
     "end_time": "2023-01-24T04:10:08.267849",
     "exception": false,
     "start_time": "2023-01-24T04:10:08.232513",
     "status": "completed"
    },
    "tags": []
   },
   "outputs": [
    {
     "name": "stdout",
     "output_type": "stream",
     "text": [
      "13  publications in the last 7 days.\n"
     ]
    }
   ],
   "source": [
    "import datetime\n",
    "from glob import glob\n",
    "\n",
    "def get_last_n_days(lst, days=1):\n",
    "    \"\"\" Get the documents from the last n days \"\"\"\n",
    "    sorted_lst = sorted(lst, key=lambda x: x[1], reverse=True)\n",
    "    for fname, date in sorted_lst:\n",
    "        if date >= str(datetime.date.today() - datetime.timedelta(days=days)):\n",
    "            yield fname\n",
    "\n",
    "def extract_appearance_dates(lst_file):\n",
    "    dates = []\n",
    "\n",
    "    def get_date(line):\n",
    "        return line\\\n",
    "            .split('Appeared on:')[-1]\\\n",
    "            .split('</mark>')[0].strip()\n",
    "\n",
    "    for fname in lst:\n",
    "        with open(fname, 'r') as f:\n",
    "            found_date = False\n",
    "            for line in f:\n",
    "                if not found_date:\n",
    "                    if \"Appeared on\" in line:\n",
    "                        found_date = True\n",
    "                        dates.append((fname, get_date(line)))\n",
    "                else:\n",
    "                    break\n",
    "    return dates\n",
    "\n",
    "from glob import glob\n",
    "lst = glob('_build/html/*md')\n",
    "days = 7\n",
    "dates = extract_appearance_dates(lst)\n",
    "res = list(get_last_n_days(dates, days))\n",
    "npub = len(res)\n",
    "print(len(res), f\" publications in the last {days:d} days.\")"
   ]
  },
  {
   "cell_type": "code",
   "execution_count": 12,
   "id": "52ca0208",
   "metadata": {
    "execution": {
     "iopub.execute_input": "2023-01-24T04:10:08.291317Z",
     "iopub.status.busy": "2023-01-24T04:10:08.291050Z",
     "iopub.status.idle": "2023-01-24T04:10:08.297283Z",
     "shell.execute_reply": "2023-01-24T04:10:08.296755Z"
    },
    "papermill": {
     "duration": 0.01967,
     "end_time": "2023-01-24T04:10:08.298685",
     "exception": false,
     "start_time": "2023-01-24T04:10:08.279015",
     "status": "completed"
    },
    "scrolled": false,
    "tags": []
   },
   "outputs": [],
   "source": [
    "def create_carousel(npub=4):\n",
    "    \"\"\" Generate the HTML code for a carousel with `npub` slides \"\"\"\n",
    "    carousel = [\"\"\"<section class=\"carousel\" aria-label=\"Gallery\">\"\"\",\n",
    "                \"\"\"  <ol class=\"carousel__viewport\">\"\"\",\n",
    "    ]\n",
    "    for k in range(1, npub + 1):\n",
    "        prev_ = k - 1\n",
    "        next_ = k + 1\n",
    "        if prev_ <= 0:\n",
    "            prev_ = npub\n",
    "        if next_ > npub:\n",
    "            next_ = 1\n",
    "        text  = f\"\"\"    <li id=\"carousel__slide{k}\" tabindex=\"0\" class=\"carousel__slide\">\\n\"\"\"\n",
    "        text += f\"\"\"       <div class=\"carousel__snapper\">\\n\"\"\"\n",
    "        text += f\"\"\"         <a href=\"#carousel__slide{prev_}\" class=\"carousel__prev\">Go to previous slide</a>\\n\"\"\"\n",
    "        text += f\"\"\"         <a href=\"#carousel__slide{next_}\" class=\"carousel__next\">Go to next slide</a>\\n\"\"\"\n",
    "        text += f\"\"\"         <div id=\"slide{k}_content\" class=\"md_view\" >Content {k}</div>\\n\"\"\"\n",
    "        text += f\"\"\"       </div>\\n\"\"\"\n",
    "        text += f\"\"\"    </li>\"\"\"\n",
    "        carousel.append(text)\n",
    "\n",
    "    carousel.extend([\n",
    "        \"\"\"  </ol>\"\"\",\n",
    "        \"\"\"  <aside class=\"carousel__navigation\">\"\"\",\n",
    "        \"\"\"    <ol class=\"carousel__navigation-list\">\"\"\"])\n",
    "\n",
    "    for k in range(1, npub + 1):\n",
    "        text  = f\"\"\"      <li class=\"carousel__navigation-item\">\\n\"\"\"\n",
    "        text += f\"\"\"        <a href=\"#carousel__slide{k}\" class=\"carousel__navigation-button\">Go to {k}</a>\\n\"\"\"\n",
    "        text += f\"\"\"      </li>\"\"\"\n",
    "        carousel.append(text)\n",
    "    carousel.extend([\"\"\"    </ol>\"\"\", \"\"\"  </aside>\"\"\", \"\"\"</section>\"\"\"])\n",
    "\n",
    "    return '\\n'.join(carousel)"
   ]
  },
  {
   "cell_type": "code",
   "execution_count": 13,
   "id": "a6eac5b6",
   "metadata": {
    "execution": {
     "iopub.execute_input": "2023-01-24T04:10:08.322442Z",
     "iopub.status.busy": "2023-01-24T04:10:08.322045Z",
     "iopub.status.idle": "2023-01-24T04:10:08.327804Z",
     "shell.execute_reply": "2023-01-24T04:10:08.327289Z"
    },
    "papermill": {
     "duration": 0.019094,
     "end_time": "2023-01-24T04:10:08.329227",
     "exception": false,
     "start_time": "2023-01-24T04:10:08.310133",
     "status": "completed"
    },
    "scrolled": false,
    "tags": []
   },
   "outputs": [],
   "source": [
    "carousel = create_carousel(npub)\n",
    "docs = ', '.join(['\"{0:s}\"'.format(k.split('/')[-1]) for k in res])\n",
    "slides = ', '.join([f'\"slide{k}_content\"' for k in range(1, npub + 1)])\n",
    "\n",
    "script = f\"\"\"\n",
    "const docs = [{docs}]\n",
    "\n",
    "const slides = [{slides}]\n",
    "\"\"\" + \"\"\"\n",
    "async function run() {\n",
    "    for (let i = 0; i < docs.length; i++) {\n",
    "        let file = await fetch(docs[i]);\n",
    "        let text = await file.text()\n",
    "        document.getElementById(slides[i]).innerHTML =\n",
    "            marked.parse(text);\n",
    "    }\n",
    "    hljs.highlightAll();\n",
    "}\n",
    "run()\n",
    "\"\"\"\n",
    "\n",
    "page = f\"\"\"<!doctype html>\n",
    "<html lang=\"en\">\n",
    "\n",
    "<head>\n",
    "  <meta charset=\"utf-8\">\n",
    "  <meta name=\"viewport\" content=\"width=device-width, initial-scale=1\">\n",
    "  <!-- Bootstrap CSS -->\n",
    "  <link href=\"https://cdn.jsdelivr.net/npm/bootstrap@5.0.2/dist/css/bootstrap.min.css\" rel=\"stylesheet\"\n",
    "   integrity=\"sha384-EVSTQN3/azprG1Anm3QDgpJLIm9Nao0Yz1ztcQTwFspd3yD65VohhpuuCOmLASjC\" crossorigin=\"anonymous\">\n",
    "  <!-- highlight.js CSS -->\n",
    "  <link rel=\"stylesheet\" href=\"https://cdnjs.cloudflare.com/ajax/libs/highlight.js/11.1.0/styles/default.min.css\">\n",
    "  <!-- Mathjax 3 -->\n",
    "  <script type=\"text/javascript\" id=\"MathJax-config\" src=\"mathjax_config.js\"> </script>\n",
    "  <script type=\"text/javascript\" id=\"MathJax-script\" async \n",
    "    src=\"https://cdn.jsdelivr.net/npm/mathjax@3/es5/tex-mml-chtml.js\">\n",
    "  </script>\n",
    "  <link rel=\"stylesheet\" href=\"index_carousel.css\">\n",
    "  <link rel=\"icon\" type=\"image/x-icon\" href=\"https://www.mpia.de/assets/touch-icon-32x32-a66937bcebc4e8894ebff1f41a366c7c7220fd97a38869ee0f2db65a9f59b6c1.png\">\n",
    "  <title>MPIA Arxiv on deck!</title>\n",
    "</head>\n",
    "\n",
    "<body>\n",
    "  <div id=\"header\"> <img src=\"header_banner.png\" width=\"100%\"></div>\n",
    "  <div id=\"suptitle\"> 7-day archives </div>\n",
    "  <div id=\"info\">\n",
    "    <img src=\"https://pngimg.com/uploads/github/github_PNG58.png\" height=30rem></img>\n",
    "    <a href=https://github.com/mpi-astronomy/arxiv_display style=\"color:black;\">github/mpi-astronomy/arxiv_display</a> \n",
    "  </div>\n",
    "  {carousel:s}\n",
    "</body>\n",
    "\n",
    "<!-- Render Markdown -->\n",
    "\n",
    "<body>\n",
    "  <!-- highlight.js: https://highlightjs.org/download/ -->\n",
    "  <script src=\"https://cdnjs.cloudflare.com/ajax/libs/highlight.js/11.5.0/highlight.min.js\"></script>\n",
    "  <!-- marked.js -->\n",
    "  <script src=\"https://cdn.jsdelivr.net/npm/marked/marked.min.js\"></script>\n",
    "  <script>{script:s}</script>\n",
    "</body>\n",
    "</html>\n",
    "\"\"\"\n",
    "with open(\"_build/html/index_7days.html\", 'w') as fout:\n",
    "    fout.write(page)"
   ]
  },
  {
   "cell_type": "markdown",
   "id": "1cebacbc",
   "metadata": {
    "papermill": {
     "duration": 0.010802,
     "end_time": "2023-01-24T04:10:08.350810",
     "exception": false,
     "start_time": "2023-01-24T04:10:08.340008",
     "status": "completed"
    },
    "tags": []
   },
   "source": [
    "# Debugging papers"
   ]
  },
  {
   "cell_type": "raw",
   "id": "debe7cc6",
   "metadata": {
    "papermill": {
     "duration": 0.010735,
     "end_time": "2023-01-24T04:10:08.372830",
     "exception": false,
     "start_time": "2023-01-24T04:10:08.362095",
     "status": "completed"
    },
    "tags": []
   },
   "source": [
    "raise NotImplementedError(\"Manual Stop\")"
   ]
  },
  {
   "cell_type": "raw",
   "id": "eb169192",
   "metadata": {
    "papermill": {
     "duration": 0.010757,
     "end_time": "2023-01-24T04:10:08.394350",
     "exception": false,
     "start_time": "2023-01-24T04:10:08.383593",
     "status": "completed"
    },
    "scrolled": true,
    "tags": []
   },
   "source": [
    "from IPython.display import display, Markdown\n",
    "from TexSoup import TexSoup\n",
    "import re\n",
    "\n",
    "def bracket_error(source: str):\n",
    "    \"\"\" Find problematic portions of the document \"\"\"\n",
    "    \n",
    "    print(\"len(source)\", len(source))\n",
    "    \n",
    "    # Checking header\n",
    "    begin_doc = next(re.finditer(r'\\\\begin\\{document\\}', doc.source)).span()[1]\n",
    "    header = source[:begin_doc]\n",
    "    text = header + r\"\\n\\end{document}\"\n",
    "\n",
    "    try:\n",
    "        # print(\"Header check... \", end='')\n",
    "        TexSoup(text)\n",
    "        display(Markdown(f\"**[OK]** - Header\"))\n",
    "    except:\n",
    "        raise RuntimeError(\"Error in the header\")\n",
    "        \n",
    "    # Check the text per section until the end.\n",
    "    # Do not stop and try them all.\n",
    "    \n",
    "    problematic_text = []\n",
    "    \n",
    "    sections = ([(0, begin_doc, 'until first section')] + \n",
    "                [(g.span()[0], g.span()[1], g.group()) for g in re.finditer(r'\\\\section\\{.*\\}', source)] +\n",
    "                [(g.span()[0], g.span()[1], g.group()) for g in re.finditer(r'\\\\begin\\{appendix\\}', source)]\n",
    "               )\n",
    "    sections.append([len(source), len(source), 'end'])\n",
    "    \n",
    "    sections = sorted(sections, key=lambda x: x[0])\n",
    "    \n",
    "    prev_pos, prev_name = (0, 'header')\n",
    "    parsed = []\n",
    "    \n",
    "    for span, span_end, name in sections:\n",
    "\n",
    "        if span - prev_pos <= 0:\n",
    "            continue\n",
    "            \n",
    "\n",
    "        text = source[prev_pos:span]\n",
    "        if prev_pos > begin_doc:\n",
    "            text = r\"\\n\\begin{document}\" + text + r\"\\n\\end{document}\"\n",
    "        else:\n",
    "            text = text + r\"\\n\\end{document}\"\n",
    "        try:\n",
    "            #print(f\"{prev_pos}:{prev_name}-->{span}:{name} check... \", end='')\n",
    "            parsed.append(TexSoup(text, tolerance=1))  # allow not ending env\n",
    "            display(Markdown(f\"**[OK]** - *{prev_pos}*:{prev_name} &rarr; *{span}*:{name}\"))\n",
    "            # print(\"ok\")\n",
    "\n",
    "            prev_pos = span\n",
    "            prev_name = name\n",
    "        except:\n",
    "            # print(f\"error between {prev_pos} and {span}\")\n",
    "            display(Markdown(f\"**[ERR]** *{prev_pos}*:{prev_name} &rarr; *{span}*:{name}\"))\n",
    "            problematic_text.append((prev_pos, source[prev_pos:span]))\n",
    "            prev_pos = span\n",
    "            prev_name = name\n",
    "            # raise\n",
    "    return problematic_text, parsed\n",
    "\n",
    "\n",
    "def check_environment(text, offset=0):\n",
    "    \"\"\" Check environment \"\"\"\n",
    "    env = re.compile(r\"\\\\begin\\{(?P<env>.*)\\}(.*)\\\\end\\{(?P=env)\\}\", re.DOTALL)\n",
    "\n",
    "    for match in env.finditer(text):\n",
    "        beg, end = match.span()\n",
    "        beg += offset\n",
    "        end += offset\n",
    "        envname = match.groups()[0]\n",
    "        try:\n",
    "            latex.TexSoup(match.group())\n",
    "        except Exception as e:\n",
    "            display(e)\n",
    "            print(f\"Error in {envname:s} between {beg} and {end}\")\n",
    "            return match.groups()[1], beg, end"
   ]
  },
  {
   "cell_type": "raw",
   "id": "2315e835",
   "metadata": {
    "papermill": {
     "duration": 0.010731,
     "end_time": "2023-01-24T04:10:08.415890",
     "exception": false,
     "start_time": "2023-01-24T04:10:08.405159",
     "status": "completed"
    },
    "scrolled": false,
    "tags": []
   },
   "source": [
    "import importlib\n",
    "importlib.reload(latex)\n",
    "which = \"2204.03253\"\n",
    "paper_id = f'{which:s}'\n",
    "folder = f'tmp_{paper_id:s}'\n",
    "\n",
    "if not os.path.isdir(folder):\n",
    "    folder = retrieve_document_source(f\"{paper_id}\", f'tmp_{paper_id}')\n",
    "\n",
    "try:\n",
    "    doc = latex.LatexDocument(folder, validation=validation)    \n",
    "except AffiliationError as affilerror:\n",
    "    msg = f\"ArXiv:{paper_id:s} is not an MPIA paper... \" + str(affilerror)\n",
    "    print(msg)\n",
    "\n",
    "\n",
    "# Hack because sometimes author parsing does not work well\n",
    "if (len(doc.authors) != len(paper['authors'])):\n",
    "    doc._authors = paper['authors']\n",
    "if (doc.abstract) in (None, ''):\n",
    "    doc._abstract = paper['abstract']\n",
    "\n",
    "doc.comment = get_markdown_badge(paper_id) + \" _\" + paper['comments'] + \"_\"\n",
    "doc.highlight_authors_in_list(hl_list)\n",
    "\n",
    "full_md = doc.generate_markdown_text()"
   ]
  },
  {
   "cell_type": "raw",
   "id": "dd3781db",
   "metadata": {
    "papermill": {
     "duration": 0.01104,
     "end_time": "2023-01-24T04:10:08.437880",
     "exception": false,
     "start_time": "2023-01-24T04:10:08.426840",
     "status": "completed"
    },
    "scrolled": false,
    "tags": []
   },
   "source": [
    "doc"
   ]
  },
  {
   "cell_type": "raw",
   "id": "c6eed834",
   "metadata": {
    "papermill": {
     "duration": 0.010772,
     "end_time": "2023-01-24T04:10:08.459400",
     "exception": false,
     "start_time": "2023-01-24T04:10:08.448628",
     "status": "completed"
    },
    "tags": []
   },
   "source": [
    "# [check_environment(k) for k in bracket_error(doc.source)]\n",
    "_, _, a = latex.get_content_per_section(doc.source, verbose=True)\n",
    "if not a:\n",
    "    print(\"no issues per section\")\n",
    "for ak in a:\n",
    "    r = check_environment(ak[1], offset=ak[0])\n",
    "    print(r[1], r[2])\n",
    "    print(r[0])"
   ]
  },
  {
   "cell_type": "code",
   "execution_count": null,
   "id": "71ce768a",
   "metadata": {
    "papermill": {
     "duration": 0.010915,
     "end_time": "2023-01-24T04:10:08.481163",
     "exception": false,
     "start_time": "2023-01-24T04:10:08.470248",
     "status": "completed"
    },
    "tags": []
   },
   "outputs": [],
   "source": []
  }
 ],
 "metadata": {
  "kernelspec": {
   "display_name": "Python 3",
   "language": "python",
   "name": "python3"
  },
  "language_info": {
   "codemirror_mode": {
    "name": "ipython",
    "version": 3
   },
   "file_extension": ".py",
   "mimetype": "text/x-python",
   "name": "python",
   "nbconvert_exporter": "python",
   "pygments_lexer": "ipython3",
   "version": "3.9.16"
  },
  "papermill": {
   "default_parameters": {},
   "duration": 126.847737,
   "end_time": "2023-01-24T04:10:08.710138",
   "environment_variables": {},
   "exception": null,
   "input_path": "MPIA daily digest.ipynb",
   "output_path": "log.ipynb",
   "parameters": {},
   "start_time": "2023-01-24T04:08:01.862401",
   "version": "2.4.0"
  },
  "vscode": {
   "interpreter": {
    "hash": "aee8b7b246df8f9039afb4144a1f6fd8d2ca17a180786b69acc140d282b71a49"
   }
  },
  "widgets": {
   "application/vnd.jupyter.widget-state+json": {
    "state": {
     "0e66ae82c67741919554f8277fcd9fba": {
      "model_module": "@jupyter-widgets/controls",
      "model_module_version": "2.0.0",
      "model_name": "HTMLStyleModel",
      "state": {
       "_model_module": "@jupyter-widgets/controls",
       "_model_module_version": "2.0.0",
       "_model_name": "HTMLStyleModel",
       "_view_count": null,
       "_view_module": "@jupyter-widgets/base",
       "_view_module_version": "2.0.0",
       "_view_name": "StyleView",
       "background": null,
       "description_width": "",
       "font_size": null,
       "text_color": null
      }
     },
     "4782665fd64f4a2c8138a5d99426c28c": {
      "model_module": "@jupyter-widgets/controls",
      "model_module_version": "2.0.0",
      "model_name": "HTMLStyleModel",
      "state": {
       "_model_module": "@jupyter-widgets/controls",
       "_model_module_version": "2.0.0",
       "_model_name": "HTMLStyleModel",
       "_view_count": null,
       "_view_module": "@jupyter-widgets/base",
       "_view_module_version": "2.0.0",
       "_view_name": "StyleView",
       "background": null,
       "description_width": "",
       "font_size": null,
       "text_color": null
      }
     },
     "4deadb68ed3c4b09b96bbc08bf146c20": {
      "model_module": "@jupyter-widgets/base",
      "model_module_version": "2.0.0",
      "model_name": "LayoutModel",
      "state": {
       "_model_module": "@jupyter-widgets/base",
       "_model_module_version": "2.0.0",
       "_model_name": "LayoutModel",
       "_view_count": null,
       "_view_module": "@jupyter-widgets/base",
       "_view_module_version": "2.0.0",
       "_view_name": "LayoutView",
       "align_content": null,
       "align_items": null,
       "align_self": null,
       "border_bottom": null,
       "border_left": null,
       "border_right": null,
       "border_top": null,
       "bottom": null,
       "display": null,
       "flex": null,
       "flex_flow": null,
       "grid_area": null,
       "grid_auto_columns": null,
       "grid_auto_flow": null,
       "grid_auto_rows": null,
       "grid_column": null,
       "grid_gap": null,
       "grid_row": null,
       "grid_template_areas": null,
       "grid_template_columns": null,
       "grid_template_rows": null,
       "height": null,
       "justify_content": null,
       "justify_items": null,
       "left": null,
       "margin": null,
       "max_height": null,
       "max_width": null,
       "min_height": null,
       "min_width": null,
       "object_fit": null,
       "object_position": null,
       "order": null,
       "overflow": null,
       "padding": null,
       "right": null,
       "top": null,
       "visibility": null,
       "width": null
      }
     },
     "5744548f28f24c92a4169d4d76a96377": {
      "model_module": "@jupyter-widgets/controls",
      "model_module_version": "2.0.0",
      "model_name": "HBoxModel",
      "state": {
       "_dom_classes": [],
       "_model_module": "@jupyter-widgets/controls",
       "_model_module_version": "2.0.0",
       "_model_name": "HBoxModel",
       "_view_count": null,
       "_view_module": "@jupyter-widgets/controls",
       "_view_module_version": "2.0.0",
       "_view_name": "HBoxView",
       "box_style": "",
       "children": [
        "IPY_MODEL_9e892461230f49859f6c211f953375c3",
        "IPY_MODEL_94c8bb89cd294c2e9ebf0051272ddace",
        "IPY_MODEL_e7418e3f2799447d8143b5d0a7c94b7f"
       ],
       "layout": "IPY_MODEL_82a175ae87e846c1add4dc5572333745",
       "tabbable": null,
       "tooltip": null
      }
     },
     "67baf89eca3d46f798032d16cb235616": {
      "model_module": "@jupyter-widgets/base",
      "model_module_version": "2.0.0",
      "model_name": "LayoutModel",
      "state": {
       "_model_module": "@jupyter-widgets/base",
       "_model_module_version": "2.0.0",
       "_model_name": "LayoutModel",
       "_view_count": null,
       "_view_module": "@jupyter-widgets/base",
       "_view_module_version": "2.0.0",
       "_view_name": "LayoutView",
       "align_content": null,
       "align_items": null,
       "align_self": null,
       "border_bottom": null,
       "border_left": null,
       "border_right": null,
       "border_top": null,
       "bottom": null,
       "display": null,
       "flex": null,
       "flex_flow": null,
       "grid_area": null,
       "grid_auto_columns": null,
       "grid_auto_flow": null,
       "grid_auto_rows": null,
       "grid_column": null,
       "grid_gap": null,
       "grid_row": null,
       "grid_template_areas": null,
       "grid_template_columns": null,
       "grid_template_rows": null,
       "height": null,
       "justify_content": null,
       "justify_items": null,
       "left": null,
       "margin": null,
       "max_height": null,
       "max_width": null,
       "min_height": null,
       "min_width": null,
       "object_fit": null,
       "object_position": null,
       "order": null,
       "overflow": null,
       "padding": null,
       "right": null,
       "top": null,
       "visibility": null,
       "width": null
      }
     },
     "82a175ae87e846c1add4dc5572333745": {
      "model_module": "@jupyter-widgets/base",
      "model_module_version": "2.0.0",
      "model_name": "LayoutModel",
      "state": {
       "_model_module": "@jupyter-widgets/base",
       "_model_module_version": "2.0.0",
       "_model_name": "LayoutModel",
       "_view_count": null,
       "_view_module": "@jupyter-widgets/base",
       "_view_module_version": "2.0.0",
       "_view_name": "LayoutView",
       "align_content": null,
       "align_items": null,
       "align_self": null,
       "border_bottom": null,
       "border_left": null,
       "border_right": null,
       "border_top": null,
       "bottom": null,
       "display": null,
       "flex": null,
       "flex_flow": null,
       "grid_area": null,
       "grid_auto_columns": null,
       "grid_auto_flow": null,
       "grid_auto_rows": null,
       "grid_column": null,
       "grid_gap": null,
       "grid_row": null,
       "grid_template_areas": null,
       "grid_template_columns": null,
       "grid_template_rows": null,
       "height": null,
       "justify_content": null,
       "justify_items": null,
       "left": null,
       "margin": null,
       "max_height": null,
       "max_width": null,
       "min_height": null,
       "min_width": null,
       "object_fit": null,
       "object_position": null,
       "order": null,
       "overflow": null,
       "padding": null,
       "right": null,
       "top": null,
       "visibility": null,
       "width": null
      }
     },
     "94c8bb89cd294c2e9ebf0051272ddace": {
      "model_module": "@jupyter-widgets/controls",
      "model_module_version": "2.0.0",
      "model_name": "FloatProgressModel",
      "state": {
       "_dom_classes": [],
       "_model_module": "@jupyter-widgets/controls",
       "_model_module_version": "2.0.0",
       "_model_name": "FloatProgressModel",
       "_view_count": null,
       "_view_module": "@jupyter-widgets/controls",
       "_view_module_version": "2.0.0",
       "_view_name": "ProgressView",
       "bar_style": "success",
       "description": "",
       "description_allow_html": false,
       "layout": "IPY_MODEL_67baf89eca3d46f798032d16cb235616",
       "max": 25.0,
       "min": 0.0,
       "orientation": "horizontal",
       "style": "IPY_MODEL_b38061a206a04d51a3ac10d63b77986c",
       "tabbable": null,
       "tooltip": null,
       "value": 25.0
      }
     },
     "9e892461230f49859f6c211f953375c3": {
      "model_module": "@jupyter-widgets/controls",
      "model_module_version": "2.0.0",
      "model_name": "HTMLModel",
      "state": {
       "_dom_classes": [],
       "_model_module": "@jupyter-widgets/controls",
       "_model_module_version": "2.0.0",
       "_model_name": "HTMLModel",
       "_view_count": null,
       "_view_module": "@jupyter-widgets/controls",
       "_view_module_version": "2.0.0",
       "_view_name": "HTMLView",
       "description": "",
       "description_allow_html": false,
       "layout": "IPY_MODEL_c8724567b6e84383ba5148afcd4ab04b",
       "placeholder": "​",
       "style": "IPY_MODEL_0e66ae82c67741919554f8277fcd9fba",
       "tabbable": null,
       "tooltip": null,
       "value": "100%"
      }
     },
     "b38061a206a04d51a3ac10d63b77986c": {
      "model_module": "@jupyter-widgets/controls",
      "model_module_version": "2.0.0",
      "model_name": "ProgressStyleModel",
      "state": {
       "_model_module": "@jupyter-widgets/controls",
       "_model_module_version": "2.0.0",
       "_model_name": "ProgressStyleModel",
       "_view_count": null,
       "_view_module": "@jupyter-widgets/base",
       "_view_module_version": "2.0.0",
       "_view_name": "StyleView",
       "bar_color": null,
       "description_width": ""
      }
     },
     "c8724567b6e84383ba5148afcd4ab04b": {
      "model_module": "@jupyter-widgets/base",
      "model_module_version": "2.0.0",
      "model_name": "LayoutModel",
      "state": {
       "_model_module": "@jupyter-widgets/base",
       "_model_module_version": "2.0.0",
       "_model_name": "LayoutModel",
       "_view_count": null,
       "_view_module": "@jupyter-widgets/base",
       "_view_module_version": "2.0.0",
       "_view_name": "LayoutView",
       "align_content": null,
       "align_items": null,
       "align_self": null,
       "border_bottom": null,
       "border_left": null,
       "border_right": null,
       "border_top": null,
       "bottom": null,
       "display": null,
       "flex": null,
       "flex_flow": null,
       "grid_area": null,
       "grid_auto_columns": null,
       "grid_auto_flow": null,
       "grid_auto_rows": null,
       "grid_column": null,
       "grid_gap": null,
       "grid_row": null,
       "grid_template_areas": null,
       "grid_template_columns": null,
       "grid_template_rows": null,
       "height": null,
       "justify_content": null,
       "justify_items": null,
       "left": null,
       "margin": null,
       "max_height": null,
       "max_width": null,
       "min_height": null,
       "min_width": null,
       "object_fit": null,
       "object_position": null,
       "order": null,
       "overflow": null,
       "padding": null,
       "right": null,
       "top": null,
       "visibility": null,
       "width": null
      }
     },
     "e7418e3f2799447d8143b5d0a7c94b7f": {
      "model_module": "@jupyter-widgets/controls",
      "model_module_version": "2.0.0",
      "model_name": "HTMLModel",
      "state": {
       "_dom_classes": [],
       "_model_module": "@jupyter-widgets/controls",
       "_model_module_version": "2.0.0",
       "_model_name": "HTMLModel",
       "_view_count": null,
       "_view_module": "@jupyter-widgets/controls",
       "_view_module_version": "2.0.0",
       "_view_name": "HTMLView",
       "description": "",
       "description_allow_html": false,
       "layout": "IPY_MODEL_4deadb68ed3c4b09b96bbc08bf146c20",
       "placeholder": "​",
       "style": "IPY_MODEL_4782665fd64f4a2c8138a5d99426c28c",
       "tabbable": null,
       "tooltip": null,
       "value": " 25/25 [01:39&lt;00:00,  3.33s/it]"
      }
     }
    },
    "version_major": 2,
    "version_minor": 0
   }
  }
 },
 "nbformat": 4,
 "nbformat_minor": 5
}