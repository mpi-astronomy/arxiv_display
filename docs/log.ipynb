{
 "cells": [
  {
   "cell_type": "markdown",
   "id": "92bcb855",
   "metadata": {
    "papermill": {
     "duration": 0.003858,
     "end_time": "2025-09-05T04:11:58.467532",
     "exception": false,
     "start_time": "2025-09-05T04:11:58.463674",
     "status": "completed"
    },
    "tags": []
   },
   "source": [
    "# MPIA Arxiv on Deck 2\n",
    "\n",
    "Contains the steps to produce the paper extractions."
   ]
  },
  {
   "cell_type": "code",
   "execution_count": 1,
   "id": "3a0d6e11",
   "metadata": {
    "execution": {
     "iopub.execute_input": "2025-09-05T04:11:58.474821Z",
     "iopub.status.busy": "2025-09-05T04:11:58.474534Z",
     "iopub.status.idle": "2025-09-05T04:11:58.678573Z",
     "shell.execute_reply": "2025-09-05T04:11:58.677937Z"
    },
    "papermill": {
     "duration": 0.209156,
     "end_time": "2025-09-05T04:11:58.679913",
     "exception": false,
     "start_time": "2025-09-05T04:11:58.470757",
     "status": "completed"
    },
    "tags": []
   },
   "outputs": [],
   "source": [
    "# Imports\n",
    "import os\n",
    "from IPython.display import Markdown, display\n",
    "from tqdm.notebook import tqdm\n",
    "import warnings\n",
    "from PIL import Image \n",
    "import re\n",
    "\n",
    "# requires arxiv_on_deck_2\n",
    "\n",
    "from arxiv_on_deck_2.arxiv2 import (get_new_papers, \n",
    "                                    get_paper_from_identifier,\n",
    "                                    retrieve_document_source, \n",
    "                                    get_markdown_badge)\n",
    "from arxiv_on_deck_2 import (latex,\n",
    "                             latex_bib,\n",
    "                             mpia,\n",
    "                             highlight_authors_in_list)\n",
    "\n",
    "# Sometimes images are really big\n",
    "Image.MAX_IMAGE_PIXELS = 1000000000 "
   ]
  },
  {
   "cell_type": "code",
   "execution_count": 2,
   "id": "22aa9d44",
   "metadata": {
    "execution": {
     "iopub.execute_input": "2025-09-05T04:11:58.687139Z",
     "iopub.status.busy": "2025-09-05T04:11:58.686911Z",
     "iopub.status.idle": "2025-09-05T04:11:58.694560Z",
     "shell.execute_reply": "2025-09-05T04:11:58.694043Z"
    },
    "papermill": {
     "duration": 0.012346,
     "end_time": "2025-09-05T04:11:58.695542",
     "exception": false,
     "start_time": "2025-09-05T04:11:58.683196",
     "status": "completed"
    },
    "tags": []
   },
   "outputs": [],
   "source": [
    "# Some useful definitions.\n",
    "\n",
    "class AffiliationWarning(UserWarning):\n",
    "    pass\n",
    "\n",
    "class AffiliationError(RuntimeError):\n",
    "    pass\n",
    "\n",
    "def validation(source: str):\n",
    "    \"\"\"Raises error paper during parsing of source file\n",
    "    \n",
    "    Allows checks before parsing TeX code.\n",
    "    \n",
    "    Raises AffiliationWarning\n",
    "    \"\"\"\n",
    "    check = mpia.affiliation_verifications(source, verbose=True)\n",
    "    if check is not True:\n",
    "        raise AffiliationError(\"mpia.affiliation_verifications: \" + check)\n",
    "\n",
    "        \n",
    "warnings.simplefilter('always', AffiliationWarning)\n",
    "\n",
    "\n",
    "def get_markdown_qrcode(paper_id: str):\n",
    "    \"\"\" Generate a qrcode to the arxiv page using qrserver.com\n",
    "    \n",
    "    :param paper: Arxiv paper\n",
    "    :returns: markdown text\n",
    "    \"\"\"\n",
    "    url = r\"https://api.qrserver.com/v1/create-qr-code/?size=100x100&data=\"\n",
    "    txt = f\"\"\"<img src={url}\"https://arxiv.org/abs/{paper_id}\">\"\"\"\n",
    "    txt = '<div id=\"qrcode\">' + txt + '</div>'\n",
    "    return txt\n",
    "\n",
    "\n",
    "def clean_non_western_encoded_characters_commands(text: str) -> str:\n",
    "    \"\"\" Remove non-western encoded characters from a string\n",
    "    List may need to grow.\n",
    "    \n",
    "    :param text: the text to clean\n",
    "    :return: the cleaned text\n",
    "    \"\"\"\n",
    "    text = re.sub(r\"(\\\\begin{CJK}{UTF8}{gbsn})(.*?)(\\\\end{CJK})\", r\"\\2\", text)\n",
    "    return text\n",
    "\n",
    "\n",
    "def get_initials(name: str) -> str:\n",
    "    \"\"\" Get the short name, e.g., A.-B. FamName\n",
    "    :param name: full name\n",
    "    :returns: initials\n",
    "    \"\"\"\n",
    "    initials = []\n",
    "    # account for non western names often in ()\n",
    "    if '(' in name:\n",
    "        name = clean_non_western_encoded_characters_commands(name)\n",
    "        suffix = re.findall(r\"\\((.*?)\\)\", name)[0]\n",
    "        name = name.replace(f\"({suffix})\", '')\n",
    "    else:\n",
    "        suffix = ''\n",
    "    split = name.split()\n",
    "    for token in split[:-1]:\n",
    "        if '-' in token:\n",
    "            current = '-'.join([k[0] + '.' for k in token.split('-')])\n",
    "        else:\n",
    "            current = token[0] + '.'\n",
    "        initials.append(current)\n",
    "    initials.append(split[-1].strip())\n",
    "    if suffix:\n",
    "        initials.append(f\"({suffix})\")\n",
    "    return ' '.join(initials)"
   ]
  },
  {
   "cell_type": "markdown",
   "id": "14bd6310",
   "metadata": {
    "papermill": {
     "duration": 0.002892,
     "end_time": "2025-09-05T04:11:58.701413",
     "exception": false,
     "start_time": "2025-09-05T04:11:58.698521",
     "status": "completed"
    },
    "tags": []
   },
   "source": [
    "## get list of arxiv paper candidates\n",
    "\n",
    "We use the MPIA mitarbeiter list webpage from mpia.de to get author names\n",
    "We then get all new papers from Arxiv and match authors"
   ]
  },
  {
   "cell_type": "code",
   "execution_count": 3,
   "id": "7ea813a8",
   "metadata": {
    "execution": {
     "iopub.execute_input": "2025-09-05T04:11:58.708002Z",
     "iopub.status.busy": "2025-09-05T04:11:58.707821Z",
     "iopub.status.idle": "2025-09-05T04:12:19.638319Z",
     "shell.execute_reply": "2025-09-05T04:12:19.637682Z"
    },
    "papermill": {
     "duration": 20.935147,
     "end_time": "2025-09-05T04:12:19.639522",
     "exception": false,
     "start_time": "2025-09-05T04:11:58.704375",
     "status": "completed"
    },
    "tags": []
   },
   "outputs": [],
   "source": [
    "# deal with the author list and edge cases of people that cannot be consistent on their name  \n",
    "\n",
    "def filter_non_scientists(name: str) -> bool:\n",
    "    \"\"\" Loose filter on expected authorships\n",
    "\n",
    "    removing IT, administration, technical staff\n",
    "    :param name: name\n",
    "    :returns: False if name is not a scientist\n",
    "    \"\"\"\n",
    "    remove_list = ['Licht', 'Binroth', 'Witzel', 'Jordan',\n",
    "                   'Zähringer', 'Scheerer', 'Hoffmann', 'Düe',\n",
    "                   'Hellmich', 'Enkler-Scharpegge', 'Witte-Nguy',\n",
    "                   'Dehen', 'Beckmann', 'Jager', 'Jäger'\n",
    "                  ]\n",
    "\n",
    "    for k in remove_list:\n",
    "        if k in name:\n",
    "            return False\n",
    "    return True\n",
    "\n",
    "def add_author_to_list(author_list: list) -> list:\n",
    "    \"\"\" Add author to list if not already in list\n",
    "    \n",
    "    :param author: author name\n",
    "    :param author_list: list of authors\n",
    "    :returns: updated list of authors\n",
    "    \"\"\"\n",
    "    add_list = ['T. Henning']\n",
    "\n",
    "    for author in add_list:\n",
    "        if author not in author_list:\n",
    "            author_list.append(author)\n",
    "    return author_list\n",
    "\n",
    "# get list from MPIA website\n",
    "# filter for non-scientists (mpia.get_mpia_mitarbeiter_list() does some filtering)\n",
    "mpia_authors = [k[1] for k in mpia.get_mpia_mitarbeiter_list() if filter_non_scientists(k[1])]\n",
    "# add some missing author because of inconsistencies in their MPIA name and author name on papers\n",
    "mpia_authors = add_author_to_list(mpia_authors)"
   ]
  },
  {
   "cell_type": "code",
   "execution_count": 4,
   "id": "2645e73a",
   "metadata": {
    "execution": {
     "iopub.execute_input": "2025-09-05T04:12:19.646709Z",
     "iopub.status.busy": "2025-09-05T04:12:19.646488Z",
     "iopub.status.idle": "2025-09-05T04:12:20.627080Z",
     "shell.execute_reply": "2025-09-05T04:12:20.626459Z"
    },
    "papermill": {
     "duration": 0.985271,
     "end_time": "2025-09-05T04:12:20.628152",
     "exception": false,
     "start_time": "2025-09-05T04:12:19.642881",
     "status": "completed"
    },
    "tags": []
   },
   "outputs": [
    {
     "name": "stdout",
     "output_type": "stream",
     "text": [
      "X. Zhang  ->  X. Zhang  |  ['X. Zhang']\n",
      "L. Xie  ->  Z.-L. Xie  |  ['L. Xie']\n",
      "F. Walter  ->  F. Walter  |  ['F. Walter']\n"
     ]
    },
    {
     "name": "stdout",
     "output_type": "stream",
     "text": [
      "Arxiv has 73 new papers today\n",
      "          3 with possible author matches\n"
     ]
    }
   ],
   "source": [
    "new_papers = get_new_papers()\n",
    "# add manual references\n",
    "add_paper_refs = []\n",
    "new_papers.extend([get_paper_from_identifier(k) for k in add_paper_refs])\n",
    "\n",
    "def robust_call(fn, value, *args, **kwargs):\n",
    "    try:\n",
    "        return fn(value, *args, **kwargs)\n",
    "    except Exception:\n",
    "        return value\n",
    "\n",
    "candidates = []\n",
    "for paperk in new_papers:\n",
    "    # Check author list with their initials\n",
    "    normed_author_list = [robust_call(mpia.get_initials, k) for k in paperk['authors']]\n",
    "    hl_authors = highlight_authors_in_list(normed_author_list, mpia_authors, verbose=True)\n",
    "    matches = [(hl, orig) for hl, orig in zip(hl_authors, paperk['authors']) if 'mark' in hl]\n",
    "    paperk['authors'] = hl_authors\n",
    "    if matches:\n",
    "        # only select paper if an author matched our list\n",
    "        candidates.append(paperk)\n",
    "print(\"\"\"Arxiv has {0:,d} new papers today\"\"\".format(len(new_papers)))        \n",
    "print(\"\"\"          {0:,d} with possible author matches\"\"\".format(len(candidates)))"
   ]
  },
  {
   "cell_type": "markdown",
   "id": "3543b34a",
   "metadata": {
    "papermill": {
     "duration": 0.003152,
     "end_time": "2025-09-05T04:12:20.634875",
     "exception": false,
     "start_time": "2025-09-05T04:12:20.631723",
     "status": "completed"
    },
    "tags": []
   },
   "source": [
    "# Parse sources and generate relevant outputs\n",
    "\n",
    "From the candidates, we do the following steps:\n",
    "* get their tarball from ArXiv (and extract data)\n",
    "* find the main .tex file: find one with \\documentclass{...} (sometimes it's non trivial)\n",
    "* Check affiliations with :func:`validation`, which uses :func:`mpia.affiliation_verifications`\n",
    "* If passing the affiliations: we parse the .tex source\n",
    "   * inject sub-documents into the main (flatten the main document)\n",
    "   * parse structure, extract information (title, abstract, authors, figures...)\n",
    "   * handles `\\graphicspath` if provided\n",
    "* Generate the .md document."
   ]
  },
  {
   "cell_type": "code",
   "execution_count": 5,
   "id": "9576b79e",
   "metadata": {
    "execution": {
     "iopub.execute_input": "2025-09-05T04:12:20.641934Z",
     "iopub.status.busy": "2025-09-05T04:12:20.641737Z",
     "iopub.status.idle": "2025-09-05T04:12:31.617386Z",
     "shell.execute_reply": "2025-09-05T04:12:31.616612Z"
    },
    "papermill": {
     "duration": 10.980451,
     "end_time": "2025-09-05T04:12:31.618451",
     "exception": false,
     "start_time": "2025-09-05T04:12:20.638000",
     "status": "completed"
    },
    "scrolled": false,
    "tags": []
   },
   "outputs": [
    {
     "data": {
      "application/vnd.jupyter.widget-view+json": {
       "model_id": "3009cdba586c49839b8f58c132fe1031",
       "version_major": 2,
       "version_minor": 0
      },
      "text/plain": [
       "  0%|          | 0/3 [00:00<?, ?it/s]"
      ]
     },
     "metadata": {},
     "output_type": "display_data"
    },
    {
     "name": "stdout",
     "output_type": "stream",
     "text": [
      "Retrieving document from  https://arxiv.org/e-print/2509.03558\n",
      "extracting tarball to tmp_2509.03558..."
     ]
    },
    {
     "name": "stdout",
     "output_type": "stream",
     "text": [
      " done.\n",
      "Retrieving document from  https://arxiv.org/e-print/2509.03585\n",
      "extracting tarball to tmp_2509.03585... done.\n"
     ]
    },
    {
     "name": "stdout",
     "output_type": "stream",
     "text": [
      "L. Xie  ->  Z.-L. Xie  |  ['L. Xie']\n"
     ]
    },
    {
     "name": "stdout",
     "output_type": "stream",
     "text": [
      "Found 72 bibliographic references in tmp_2509.03585/aa54459-25.bbl.\n",
      "Retrieving document from  https://arxiv.org/e-print/2509.03831\n",
      "extracting tarball to tmp_2509.03831... done.\n"
     ]
    }
   ],
   "source": [
    "documents = []\n",
    "failed = []\n",
    "for paper in tqdm(candidates):\n",
    "    # debug crap\n",
    "    paper['identifier'] = paper['identifier'].lower().replace('arxiv:', '').replace(r'\\n', '').strip()\n",
    "    paper_id = paper['identifier']\n",
    "    \n",
    "    folder = f'tmp_{paper_id}'\n",
    "\n",
    "    try:\n",
    "        if not os.path.isdir(folder):\n",
    "            folder = retrieve_document_source(f\"{paper_id}\", f'tmp_{paper_id}')\n",
    "        \n",
    "        try:\n",
    "            doc = latex.LatexDocument(folder, validation=validation)    \n",
    "        except AffiliationError as affilerror:\n",
    "            msg = f\"ArXiv:{paper_id:s} is not an MPIA paper... \" + str(affilerror)\n",
    "            failed.append((paper, \"affiliation error: \" + str(affilerror) ))\n",
    "            continue\n",
    "        \n",
    "        # Hack because sometimes author parsing does not work well\n",
    "        if (len(doc.authors) != len(paper['authors'])):\n",
    "            doc._authors = paper['authors']\n",
    "        else:\n",
    "            # highlight authors (FIXME: doc.highlight_authors)\n",
    "            # done on arxiv paper already\n",
    "            doc._authors = highlight_authors_in_list(\n",
    "                [get_initials(k) for k in doc.authors], \n",
    "                mpia_authors, verbose=True)\n",
    "        if (doc.abstract) in (None, ''):\n",
    "            doc._abstract = paper['abstract']\n",
    "            \n",
    "        doc.comment = (get_markdown_badge(paper_id) + \n",
    "                       \"<mark>Appeared on: \" + paper['date'] + \"</mark> - \")\n",
    "        if paper['comments']:\n",
    "            doc.comment += \" _\" + paper['comments'] + \"_\"\n",
    "        \n",
    "        full_md = doc.generate_markdown_text()\n",
    "        \n",
    "        full_md += get_markdown_qrcode(paper_id)\n",
    "        \n",
    "        # replace citations\n",
    "        try:\n",
    "            bibdata = latex_bib.LatexBib.from_doc(doc)\n",
    "            full_md = latex_bib.replace_citations(full_md, bibdata)\n",
    "        except Exception as e:\n",
    "            print(\"Issues with the citations\")\n",
    "            print(e)\n",
    "        \n",
    "        documents.append((paper_id, full_md))\n",
    "    except Exception as e:\n",
    "        warnings.warn(latex.LatexWarning(f\"{paper_id:s} did not run properly\\n\" +\n",
    "                                         str(e)\n",
    "                                        ))\n",
    "        failed.append((paper, \"latex error \" + str(e)))"
   ]
  },
  {
   "cell_type": "markdown",
   "id": "2505a25c",
   "metadata": {
    "papermill": {
     "duration": 0.0034,
     "end_time": "2025-09-05T04:12:31.625786",
     "exception": false,
     "start_time": "2025-09-05T04:12:31.622386",
     "status": "completed"
    },
    "tags": []
   },
   "source": [
    "### Export the logs\n",
    "\n",
    "Throughout, we also keep track of the logs per paper. see `logs-{today date}.md` "
   ]
  },
  {
   "cell_type": "code",
   "execution_count": 6,
   "id": "d733828a",
   "metadata": {
    "execution": {
     "iopub.execute_input": "2025-09-05T04:12:31.633503Z",
     "iopub.status.busy": "2025-09-05T04:12:31.633286Z",
     "iopub.status.idle": "2025-09-05T04:12:31.646566Z",
     "shell.execute_reply": "2025-09-05T04:12:31.645931Z"
    },
    "papermill": {
     "duration": 0.018424,
     "end_time": "2025-09-05T04:12:31.647662",
     "exception": false,
     "start_time": "2025-09-05T04:12:31.629238",
     "status": "completed"
    },
    "scrolled": false,
    "tags": []
   },
   "outputs": [
    {
     "data": {
      "text/markdown": [
       "## Successful papers"
      ],
      "text/plain": [
       "<IPython.core.display.Markdown object>"
      ]
     },
     "metadata": {},
     "output_type": "display_data"
    },
    {
     "data": {
      "text/markdown": [
       "\n",
       "|||\n",
       "|---:|:---|\n",
       "| [![arXiv](https://img.shields.io/badge/arXiv-2509.03585-b31b1b.svg)](https://arxiv.org/abs/2509.03585) | **The clustering of C IV and Si IV at the end of reionisation: A perspective from the E-XQR-30 survey**  |\n",
       "|| L. Welsh, et al. -- incl., <mark>L. Xie</mark> |\n",
       "|*Appeared on*| *2025-09-05*|\n",
       "|*Comments*| *9 pages, 6 figures, accepted for publication in Astronomy & Astrophysics*|\n",
       "|**Abstract**|            We aim to study the clustering of metal absorption lines and the structures that they arise in as a function of cosmic time. We focus on C IV and Si IV absorption features that are identified along a given quasar sightline. We exploit the two-point correlation function (2PCF) to investigate the clustering of these structures as a function of their separation. We utilise the E-XQR-30 data to perform a novel analysis at z>5. We also draw on literature surveys (including XQ-100) of lower redshift quasars to investigate the possible evolution of this clustering towards cosmic noon (i.e., z~2-3). We find no significant evolution with redshift when considering the separation of absorbers in velocity space. Since we are comparing data across a large interval of cosmic time, we also consider the separation between absorbers in the reference frame of physical distances. In this reference frame, we find that the amplitude of the clustering increases with cosmic time for both C IV and Si IV on the scales of <1500 physical kpc. For the first time, we assess the 2PCF of C IV and Si IV close to the epoch of reionisation utilising the absorber catalogue from the E-XQR-30 survey. We compare this with lower redshift data and find that, on small scales, the clustering of these structures grows with cosmic time. We compare these results to the clustering of galaxies in the GAEA simulations. It appears that the structures traced by C IV are broadly comparable to the galaxies from the considered simulations. The clustering is most similar to that of the galaxies with virial masses M~10^10.5 M_sun. We require tailor-made simulations to investigate the full range of factors contributing to the observed clustering. Future ground-based spectrographs will further facilitate surveys of absorbers at this epoch with increased sensitivity.         |"
      ],
      "text/plain": [
       "[2509.03585] The clustering of C IV and Si IV at the end of reionisation: A perspective from the E-XQR-30 survey\n",
       "\tL. Welsh, et al. -- incl., <mark>L. Xie</mark>"
      ]
     },
     "metadata": {},
     "output_type": "display_data"
    },
    {
     "data": {
      "text/markdown": [
       "## Failed papers"
      ],
      "text/plain": [
       "<IPython.core.display.Markdown object>"
      ]
     },
     "metadata": {},
     "output_type": "display_data"
    },
    {
     "data": {
      "text/markdown": [
       "\n",
       "|||\n",
       "|---:|:---|\n",
       "| [![arXiv](https://img.shields.io/badge/arXiv-2509.03558-b31b1b.svg)](https://arxiv.org/abs/2509.03558) | **Seeing and Meteorological Analysis at the North-1 and North-2 Points of Muztagh-Ata Site on the Pamir Plateau**  |\n",
       "|| W. Gu, et al. -- incl., <mark>X. Zhang</mark> |\n",
       "|*Appeared on*| *2025-09-05*|\n",
       "|*Comments*| *14 pages,26 figures. published in MNRAS*|\n",
       "|**Abstract**|            To support the selection of large optical/infrared telescope sites in western China, long-term monitoring of atmospheric conditions and astronomical seeing has been conducted at the Muztagh-Ata site on the Pamir Plateau since 2017. With the monitoring focus gradually shifting northward, three stations were established: the South Point, North-1 point, and North-2 point. The North-1 point,selected as the site for the 1.93m Muztagh Optical Survey Telescope (MOST), has recorded seeing and meteorological parameters since late 2018. In 2023,the North-2 point was established approximately 1.5 km northeast of North-1 point as a candidate location for a future large-aperture telescope. A 10m DIMM tower and a PC-4A environmental monitoring system were installed to evaluate site quality. This study presents a comparative analysis of data from the North-1 and North-2 points during this http URL median seeing is 0.89 arcsecs at North-1 and 0.78 arcsecs at North-2. Both points show clear seasonal and diurnal variations,with winter nights offering optimal observing this http URL average, about 64% of the nighttime duration per year is suitable for astronomical observations. Nighttime temperature variation is low :2.03 at North-1 and 2.10 at North-2 .Median wind speeds are 5-6 m/s, with dominant directions between 210 and 300, contributing to stable airflow. Moderate wind suppresses turbulence, while strong shear and rapid fluctuations degrade image quality. These findings confirm that both the North-1 and North-2 points offer high-quality atmospheric conditions and serve as promising sites for future ground-based optical/infrared telescopes in western China.         |\n",
       "|<p style=\"color:green\"> **ERROR** </p>| <p style=\"color:green\">affiliation error: mpia.affiliation_verifications: 'Heidelberg' keyword not found.</p> |"
      ],
      "text/plain": [
       "<IPython.core.display.Markdown object>"
      ]
     },
     "metadata": {},
     "output_type": "display_data"
    },
    {
     "data": {
      "text/markdown": [
       "\n",
       "|||\n",
       "|---:|:---|\n",
       "| [![arXiv](https://img.shields.io/badge/arXiv-2509.03831-b31b1b.svg)](https://arxiv.org/abs/2509.03831) | **Discovery of the pre-main-sequence eclipsing binary MML 48**  |\n",
       "|| Y. G. M. Chew, et al. -- incl., <mark>F. Walter</mark> |\n",
       "|*Appeared on*| *2025-09-05*|\n",
       "|*Comments*| *13 pages, 11 figures, accepted for publication in A&A*|\n",
       "|**Abstract**|            We present the discovery of the eclipsing binary MML 48, which is a member of Upper Centaurus Lupus, has an associated age of 16 Myr, and is composed of two young, low-mass stars. We used space- and ground-based observations to characterize the system with both time-series photometry and spectroscopy. Given the extreme mass ratio between the stars, q_EB = 0.209 +- 0.014, we modeled a single-lined spectroscopic and eclipsing binary system. The orbital period, 2.0171068 +- 0.0000004 d, is measured from the highest precision light curves. We derive a primary mass of 1.2 +- 0.07 Msun using stellar models, and with radial velocities we measured a secondary mass of 0.2509 +- 0.0078 Msun. The radii are large, as expected for pre-main-sequence stars, and are measured as 1.574 +- 0.026 +- 0.050 Rsun and 0.587 +- 0.0095 +- 0.050 Rsun, for the primary and secondary stars, respectively. MML 48 joins the short list of known low-mass, pre-main-sequence eclipsing binaries (EBs), being one of only five systems with intermediate ages (15-25 Myr), and the system with the most extreme mass ratio. The primary star is currently at the \"fusion bump\", undergoing an over-production of energy in the core due to the build-up of 3He before reaching its equilibrium abundance set by the proton-proton (p-p) I chain. MML 48 A is the first young star in an eclipsing system that has been found during its fusion bump. MML 48 is thus an important benchmark for low-mass stellar evolution at a time when the stars are rapidly changing, which allows for a tight constraint on the corresponding isochrone given the uneven mass ratio.         |\n",
       "|<p style=\"color:green\"> **ERROR** </p>| <p style=\"color:green\">affiliation error: mpia.affiliation_verifications: 'Heidelberg' keyword not found.</p> |"
      ],
      "text/plain": [
       "<IPython.core.display.Markdown object>"
      ]
     },
     "metadata": {},
     "output_type": "display_data"
    }
   ],
   "source": [
    "import datetime\n",
    "today = str(datetime.date.today())\n",
    "logfile = f\"_build/html/logs/log-{today}.md\"\n",
    "\n",
    "\n",
    "with open(logfile, 'w') as logs:\n",
    "    # Success\n",
    "    logs.write(f'# Arxiv on Deck 2: Logs - {today}\\n\\n')\n",
    "    logs.write(\"\"\"* Arxiv had {0:,d} new papers\\n\"\"\".format(len(new_papers)))\n",
    "    logs.write(\"\"\"    * {0:,d} with possible author matches\\n\\n\"\"\".format(len(candidates)))\n",
    "    logs.write(\"## Sucessful papers\\n\\n\")\n",
    "    display(Markdown(\"## Successful papers\"))\n",
    "    success = [k[0] for k in documents]\n",
    "    for candid in candidates:\n",
    "        if candid['identifier'].split(':')[-1] in success:\n",
    "            display(candid)\n",
    "            logs.write(candid.generate_markdown_text() + '\\n\\n')\n",
    "\n",
    "    ## failed\n",
    "    logs.write(\"## Failed papers\\n\\n\")\n",
    "    display(Markdown(\"## Failed papers\"))\n",
    "    failed = sorted(failed, key=lambda x: x[1])\n",
    "    current_reason = \"\"\n",
    "    for paper, reason in failed:\n",
    "        if 'affiliation' in reason:\n",
    "            color = 'green'\n",
    "        else:\n",
    "            color = 'red'\n",
    "        data = Markdown(\n",
    "                paper.generate_markdown_text() + \n",
    "                f'\\n|<p style=\"color:{color:s}\"> **ERROR** </p>| <p style=\"color:{color:s}\">{reason:s}</p> |'\n",
    "               )\n",
    "        if reason != current_reason:\n",
    "            logs.write(f'### {reason:s} \\n\\n')\n",
    "            current_reason = reason\n",
    "        logs.write(data.data + '\\n\\n')\n",
    "        \n",
    "        # only display here the important errors (all in logs)\n",
    "        # if color in ('red',):\n",
    "        display(data)"
   ]
  },
  {
   "cell_type": "markdown",
   "id": "472d20ee",
   "metadata": {
    "papermill": {
     "duration": 0.003826,
     "end_time": "2025-09-05T04:12:31.655402",
     "exception": false,
     "start_time": "2025-09-05T04:12:31.651576",
     "status": "completed"
    },
    "tags": []
   },
   "source": [
    "## Export documents\n",
    "\n",
    "We now write the .md files and export relevant images"
   ]
  },
  {
   "cell_type": "code",
   "execution_count": 7,
   "id": "d426aed9",
   "metadata": {
    "execution": {
     "iopub.execute_input": "2025-09-05T04:12:31.663922Z",
     "iopub.status.busy": "2025-09-05T04:12:31.663729Z",
     "iopub.status.idle": "2025-09-05T04:12:31.670375Z",
     "shell.execute_reply": "2025-09-05T04:12:31.669836Z"
    },
    "papermill": {
     "duration": 0.01201,
     "end_time": "2025-09-05T04:12:31.671311",
     "exception": false,
     "start_time": "2025-09-05T04:12:31.659301",
     "status": "completed"
    },
    "tags": []
   },
   "outputs": [],
   "source": [
    "def export_markdown_summary(md: str, md_fname:str, directory: str):\n",
    "    \"\"\"Export MD document and associated relevant images\"\"\"\n",
    "    import os\n",
    "    import shutil\n",
    "    import re\n",
    "\n",
    "    if (os.path.exists(directory) and not os.path.isdir(directory)):\n",
    "        raise RuntimeError(f\"a non-directory file exists with name {directory:s}\")\n",
    "\n",
    "    if (not os.path.exists(directory)):\n",
    "        print(f\"creating directory {directory:s}\")\n",
    "        os.mkdir(directory)\n",
    "\n",
    "    fig_fnames = (re.compile(r'\\[Fig.*\\]\\((.*)\\)').findall(md) + \n",
    "                  re.compile(r'\\<img src=\"([^>\\s]*)\"[^>]*/>').findall(md))\n",
    "    print(\"found figures\", fig_fnames)\n",
    "    for fname in fig_fnames:\n",
    "        if 'http' in fname:\n",
    "            # No need to copy online figures\n",
    "            continue\n",
    "        if not os.path.exists(fname):\n",
    "            print(\"file not found\", fname)\n",
    "            continue\n",
    "        print(\"copying \", fname, \"to\", directory)\n",
    "        destdir = os.path.join(directory, os.path.dirname(fname))\n",
    "        destfname = os.path.join(destdir, os.path.basename(fname))\n",
    "        try:\n",
    "            os.makedirs(destdir)\n",
    "        except FileExistsError:\n",
    "            pass\n",
    "        shutil.copy(fname, destfname)\n",
    "    with open(os.path.join(directory, md_fname), 'w') as fout:\n",
    "        fout.write(md)\n",
    "    print(\"exported in \", os.path.join(directory, md_fname))\n",
    "    [print(\"    + \" + os.path.join(directory,fk)) for fk in fig_fnames]"
   ]
  },
  {
   "cell_type": "code",
   "execution_count": 8,
   "id": "014d04a4",
   "metadata": {
    "execution": {
     "iopub.execute_input": "2025-09-05T04:12:31.679968Z",
     "iopub.status.busy": "2025-09-05T04:12:31.679786Z",
     "iopub.status.idle": "2025-09-05T04:12:31.685423Z",
     "shell.execute_reply": "2025-09-05T04:12:31.684782Z"
    },
    "papermill": {
     "duration": 0.011214,
     "end_time": "2025-09-05T04:12:31.686500",
     "exception": false,
     "start_time": "2025-09-05T04:12:31.675286",
     "status": "completed"
    },
    "tags": []
   },
   "outputs": [
    {
     "name": "stdout",
     "output_type": "stream",
     "text": [
      "found figures ['tmp_2509.03585/./Figures/2PCF_1000_LP_umerged_XQR30_scales_tot_new_chains_c63_step.png', 'tmp_2509.03585/./Figures/fin_2PCF_merged_b2_complete_zsplit_w_sim_mpc_civ_sys_new_kpc_conv_steps.png', 'tmp_2509.03585/./Figures/2PCF_complete_1000_2pan_kms_mult_bins_tot_new_chains_step.png']\n",
      "copying  tmp_2509.03585/./Figures/2PCF_1000_LP_umerged_XQR30_scales_tot_new_chains_c63_step.png to _build/html/\n",
      "copying  tmp_2509.03585/./Figures/fin_2PCF_merged_b2_complete_zsplit_w_sim_mpc_civ_sys_new_kpc_conv_steps.png to _build/html/\n",
      "copying  tmp_2509.03585/./Figures/2PCF_complete_1000_2pan_kms_mult_bins_tot_new_chains_step.png to _build/html/\n",
      "exported in  _build/html/2509.03585.md\n",
      "    + _build/html/tmp_2509.03585/./Figures/2PCF_1000_LP_umerged_XQR30_scales_tot_new_chains_c63_step.png\n",
      "    + _build/html/tmp_2509.03585/./Figures/fin_2PCF_merged_b2_complete_zsplit_w_sim_mpc_civ_sys_new_kpc_conv_steps.png\n",
      "    + _build/html/tmp_2509.03585/./Figures/2PCF_complete_1000_2pan_kms_mult_bins_tot_new_chains_step.png\n"
     ]
    }
   ],
   "source": [
    "for paper_id, md in documents:\n",
    "    export_markdown_summary(md, f\"{paper_id:s}.md\", '_build/html/')"
   ]
  },
  {
   "cell_type": "markdown",
   "id": "f087a0a7",
   "metadata": {
    "papermill": {
     "duration": 0.004518,
     "end_time": "2025-09-05T04:12:31.695100",
     "exception": false,
     "start_time": "2025-09-05T04:12:31.690582",
     "status": "completed"
    },
    "tags": []
   },
   "source": [
    "## Display the papers\n",
    "\n",
    "Not necessary but allows for a quick check."
   ]
  },
  {
   "cell_type": "code",
   "execution_count": 9,
   "id": "fd25f625",
   "metadata": {
    "execution": {
     "iopub.execute_input": "2025-09-05T04:12:31.703876Z",
     "iopub.status.busy": "2025-09-05T04:12:31.703683Z",
     "iopub.status.idle": "2025-09-05T04:12:31.708259Z",
     "shell.execute_reply": "2025-09-05T04:12:31.707594Z"
    },
    "papermill": {
     "duration": 0.010167,
     "end_time": "2025-09-05T04:12:31.709266",
     "exception": false,
     "start_time": "2025-09-05T04:12:31.699099",
     "status": "completed"
    },
    "scrolled": false,
    "tags": []
   },
   "outputs": [
    {
     "data": {
      "text/markdown": [
       "<div class=\"macros\" style=\"visibility:hidden;\">\n",
       "$\\newcommand{\\ensuremath}{}$\n",
       "$\\newcommand{\\xspace}{}$\n",
       "$\\newcommand{\\object}[1]{\\texttt{#1}}$\n",
       "$\\newcommand{\\farcs}{{.}''}$\n",
       "$\\newcommand{\\farcm}{{.}'}$\n",
       "$\\newcommand{\\arcsec}{''}$\n",
       "$\\newcommand{\\arcmin}{'}$\n",
       "$\\newcommand{\\ion}[2]{#1#2}$\n",
       "$\\newcommand{\\textsc}[1]{\\textrm{#1}}$\n",
       "$\\newcommand{\\hl}[1]{\\textrm{#1}}$\n",
       "$\\newcommand{\\footnote}[1]{}$\n",
       "$\\newcommand{\\xqr}{E-XQR-30}$\n",
       "$\\newcommand{\\fe}[1]{Fe {\\sc ii}~\\lambda#1}$\n",
       "$\\newcommand{\\civ}{C {\\sc iv}}$\n",
       "$\\newcommand{\\siiv}{Si {\\sc iv}}$\n",
       "$\\newcommand{\\cf}{\\xi(v, v+\\Delta v)}$\n",
       "$\\newcommand{\\md}{\\Omega_{\\rm C \\textsc{iv}}}$\n",
       "$\\newcommand{\\kms}{km s^{-1}}$\n",
       "$\\newcommand{\\comment}[1]{\\textcolor{blue}{#1} }$</div>\n",
       "\n",
       "\n",
       "\n",
       "<div id=\"title\">\n",
       "\n",
       "# The clustering of $\\civ$ and $\\siiv$ at the end of reionisation: A perspective from the E-XQR-30 survey\n",
       "\n",
       "</div>\n",
       "<div id=\"comments\">\n",
       "\n",
       "[![arXiv](https://img.shields.io/badge/arXiv-2509.03585-b31b1b.svg)](https://arxiv.org/abs/2509.03585)<mark>Appeared on: 2025-09-05</mark> -  _9 pages, 6 figures, accepted for publication in Astronomy & Astrophysics_\n",
       "\n",
       "</div>\n",
       "<div id=\"authors\">\n",
       "\n",
       "L. Welsh, et al. -- incl., <mark>L. Xie</mark>\n",
       "\n",
       "</div>\n",
       "<div id=\"abstract\">\n",
       "\n",
       "**Abstract:**            We aim to study the clustering of metal absorption lines and the structures that they arise in as a function of cosmic time. We focus on C IV and Si IV absorption features that are identified along a given quasar sightline. We exploit the two-point correlation function (2PCF) to investigate the clustering of these structures as a function of their separation. We utilise the E-XQR-30 data to perform a novel analysis at z>5. We also draw on literature surveys (including XQ-100) of lower redshift quasars to investigate the possible evolution of this clustering towards cosmic noon (i.e., z~2-3). We find no significant evolution with redshift when considering the separation of absorbers in velocity space. Since we are comparing data across a large interval of cosmic time, we also consider the separation between absorbers in the reference frame of physical distances. In this reference frame, we find that the amplitude of the clustering increases with cosmic time for both C IV and Si IV on the scales of <1500 physical kpc. For the first time, we assess the 2PCF of C IV and Si IV close to the epoch of reionisation utilising the absorber catalogue from the E-XQR-30 survey. We compare this with lower redshift data and find that, on small scales, the clustering of these structures grows with cosmic time. We compare these results to the clustering of galaxies in the GAEA simulations. It appears that the structures traced by C IV are broadly comparable to the galaxies from the considered simulations. The clustering is most similar to that of the galaxies with virial masses M~10^10.5 M_sun. We require tailor-made simulations to investigate the full range of factors contributing to the observed clustering. Future ground-based spectrographs will further facilitate surveys of absorbers at this epoch with increased sensitivity.         \n",
       "\n",
       "</div>\n",
       "\n",
       "<div id=\"div_fig1\">\n",
       "\n",
       "<img src=\"tmp_2509.03585/./Figures/2PCF_1000_LP_umerged_XQR30_scales_tot_new_chains_c63_step.png\" alt=\"Fig2\" width=\"100%\"/>\n",
       "\n",
       "**Figure 2. -** Top: The two point correlation function of $\\civ$ and $\\siiv$ based on the UVES LP data previously analysed in [Calura, Cristiani and Viel (2010)](), [Finlator and Cristiani (2022)](). In this  calculation we have imposed the same column density cuts as applied to the $\\xqr$ data. Compared to $\\xqr$, the resulting distributions are sampled more frequently, with an additional  evaluation point at $\\Delta v = 150$ $\\kms$. The subsequent bins are consistent with those used for XQR-30. Bottom: The 2PCF of $\\civ$ and $\\siiv$ shown on the smallest scale accessible based on the limited statistics of the $\\siiv$ data. These bins span $\\Delta v=$[$50-300, 300-600, 600-1200, 1200-1500, 1500-3000$] $\\kms$ for the first 5 bins. Note that distributions of $\\xi$ values are formed via many realisations of the randomly distributed lines. For each sample, the solid line represents the median value while the shaded region encompasses the interquartile range. (*fig:2pcf_xqr30*)\n",
       "\n",
       "</div>\n",
       "<div id=\"div_fig2\">\n",
       "\n",
       "<img src=\"tmp_2509.03585/./Figures/fin_2PCF_merged_b2_complete_zsplit_w_sim_mpc_civ_sys_new_kpc_conv_steps.png\" alt=\"Fig4\" width=\"100%\"/>\n",
       "\n",
       "**Figure 4. -** The 3D real space correlation calculated at different epochs using the GAEA simulation suite snapshots. The correlation is calculated using the corrfunc package. The different colors correspond to galaxies with different virial parent halo masses. The top and bottom panels correspond to different epochs as indicated by the titles. The solid curves represent the clustering of all galaxies in the snapshot. The dotted lines represent that of only the central galaxies associated with halos. The observed 2PCF of $\\civ$ and $\\siiv$ have been overplotted on these simulation data across different epochs. In this case, we calculate the 2PCF of $\\civ$ systems (i.e., all the absorption within 200 $\\kms$ is considered one feature). Again, the shaded regions correspond to the interquartile range of the observed distributions.  (*fig:xi_sim_n_obs*)\n",
       "\n",
       "</div>\n",
       "<div id=\"div_fig3\">\n",
       "\n",
       "<img src=\"tmp_2509.03585/./Figures/2PCF_complete_1000_2pan_kms_mult_bins_tot_new_chains_step.png\" alt=\"Fig3\" width=\"100%\"/>\n",
       "\n",
       "**Figure 3. -** The 2PCF of $\\civ$(top) and $\\siiv$(bottom) based on the absorbers in the $\\xqr$ survey now combined with that of the lower redshift `UVES LR' data. The UVES LR data are taken with higher resolution and therefore we have merged the features that would not be resolved with XSHOOTER. We additionally include the 2PCF of $\\siiv$ from a third dataset, the XQ-100 survey. The shaded region encompasses the interquartile range of the respective distributions. The $\\siiv$ absorbers in XQ-100 are found at an intermediate epoch between the XQR-30 and UVES LR data. Note that we can probe down to smaller separations (within 200 $\\kms$) with $\\civ$ due to the increased statistics.  (*fig:2pcf_merged*)\n",
       "\n",
       "</div><div id=\"qrcode\"><img src=https://api.qrserver.com/v1/create-qr-code/?size=100x100&data=\"https://arxiv.org/abs/2509.03585\"></div>"
      ],
      "text/plain": [
       "<IPython.core.display.Markdown object>"
      ]
     },
     "metadata": {},
     "output_type": "display_data"
    }
   ],
   "source": [
    "[display(Markdown(k[1])) for k in documents];"
   ]
  },
  {
   "cell_type": "markdown",
   "id": "873873a4",
   "metadata": {
    "papermill": {
     "duration": 0.004166,
     "end_time": "2025-09-05T04:12:31.717673",
     "exception": false,
     "start_time": "2025-09-05T04:12:31.713507",
     "status": "completed"
    },
    "tags": []
   },
   "source": [
    "# Create HTML index"
   ]
  },
  {
   "cell_type": "code",
   "execution_count": 10,
   "id": "cf665672",
   "metadata": {
    "execution": {
     "iopub.execute_input": "2025-09-05T04:12:31.726993Z",
     "iopub.status.busy": "2025-09-05T04:12:31.726752Z",
     "iopub.status.idle": "2025-09-05T04:12:31.734005Z",
     "shell.execute_reply": "2025-09-05T04:12:31.733428Z"
    },
    "papermill": {
     "duration": 0.013051,
     "end_time": "2025-09-05T04:12:31.735042",
     "exception": false,
     "start_time": "2025-09-05T04:12:31.721991",
     "status": "completed"
    },
    "tags": []
   },
   "outputs": [
    {
     "name": "stdout",
     "output_type": "stream",
     "text": [
      "130  publications files modified in the last 7 days.\n"
     ]
    }
   ],
   "source": [
    "from datetime import datetime, timedelta, timezone\n",
    "from glob import glob\n",
    "import os\n",
    "\n",
    "files = glob('_build/html/*.md')\n",
    "days = 7\n",
    "now = datetime.today()\n",
    "res = []\n",
    "for fk in files:\n",
    "    stat_result = os.stat(fk).st_ctime\n",
    "    modified = datetime.fromtimestamp(stat_result, tz=timezone.utc).replace(tzinfo=None)\n",
    "    delta = now.today() - modified\n",
    "    if delta <= timedelta(days=days):\n",
    "        res.append((delta.seconds, fk))\n",
    "res = [k[1] for k in reversed(sorted(res, key=lambda x:x[1]))]\n",
    "npub = len(res)\n",
    "print(len(res), f\" publications files modified in the last {days:d} days.\")\n",
    "# [ print('\\t', k) for k in res ];"
   ]
  },
  {
   "cell_type": "code",
   "execution_count": 11,
   "id": "015de740",
   "metadata": {
    "execution": {
     "iopub.execute_input": "2025-09-05T04:12:31.744587Z",
     "iopub.status.busy": "2025-09-05T04:12:31.744399Z",
     "iopub.status.idle": "2025-09-05T04:12:31.755974Z",
     "shell.execute_reply": "2025-09-05T04:12:31.755429Z"
    },
    "papermill": {
     "duration": 0.017436,
     "end_time": "2025-09-05T04:12:31.756932",
     "exception": false,
     "start_time": "2025-09-05T04:12:31.739496",
     "status": "completed"
    },
    "tags": []
   },
   "outputs": [
    {
     "name": "stdout",
     "output_type": "stream",
     "text": [
      "10  publications in the last 7 days.\n"
     ]
    }
   ],
   "source": [
    "import datetime\n",
    "from glob import glob\n",
    "\n",
    "def get_last_n_days(lst, days=1):\n",
    "    \"\"\" Get the documents from the last n days \"\"\"\n",
    "    sorted_lst = sorted(lst, key=lambda x: x[1], reverse=True)\n",
    "    for fname, date in sorted_lst:\n",
    "        if date >= str(datetime.date.today() - datetime.timedelta(days=days)):\n",
    "            yield fname\n",
    "\n",
    "def extract_appearance_dates(lst_file):\n",
    "    dates = []\n",
    "\n",
    "    def get_date(line):\n",
    "        return line\\\n",
    "            .split('Appeared on:')[-1]\\\n",
    "            .split('</mark>')[0].strip()\n",
    "\n",
    "    for fname in lst:\n",
    "        with open(fname, 'r') as f:\n",
    "            found_date = False\n",
    "            for line in f:\n",
    "                if not found_date:\n",
    "                    if \"Appeared on\" in line:\n",
    "                        found_date = True\n",
    "                        dates.append((fname, get_date(line)))\n",
    "                else:\n",
    "                    break\n",
    "    return dates\n",
    "\n",
    "from glob import glob\n",
    "lst = glob('_build/html/*md')\n",
    "days = 7\n",
    "dates = extract_appearance_dates(lst)\n",
    "res = list(get_last_n_days(dates, days))\n",
    "npub = len(res)\n",
    "print(len(res), f\" publications in the last {days:d} days.\")"
   ]
  },
  {
   "cell_type": "code",
   "execution_count": 12,
   "id": "52ca0208",
   "metadata": {
    "execution": {
     "iopub.execute_input": "2025-09-05T04:12:31.766440Z",
     "iopub.status.busy": "2025-09-05T04:12:31.766257Z",
     "iopub.status.idle": "2025-09-05T04:12:31.770921Z",
     "shell.execute_reply": "2025-09-05T04:12:31.770389Z"
    },
    "papermill": {
     "duration": 0.010633,
     "end_time": "2025-09-05T04:12:31.771920",
     "exception": false,
     "start_time": "2025-09-05T04:12:31.761287",
     "status": "completed"
    },
    "scrolled": false,
    "tags": []
   },
   "outputs": [],
   "source": [
    "def create_carousel(npub=4):\n",
    "    \"\"\" Generate the HTML code for a carousel with `npub` slides \"\"\"\n",
    "    carousel = [\"\"\"  <div class=\"carousel\" \"\"\",\n",
    "                \"\"\"       data-flickity='{ \"autoPlay\": 10000, \"adaptiveHeight\": true, \"resize\": true, \"wrapAround\": true, \"pauseAutoPlayOnHover\": true, \"groupCells\": 1 }' id=\"asyncTypeset\">\"\"\"\n",
    "                ]\n",
    "    \n",
    "    item_str = \"\"\"    <div class=\"carousel-cell\"> <div id=\"slide{k}\" class=\"md_view\">Content {k}</div> </div>\"\"\"\n",
    "    for k in range(1, npub + 1):\n",
    "        carousel.append(item_str.format(k=k))\n",
    "    carousel.append(\"  </div>\")\n",
    "    return '\\n'.join(carousel)\n",
    "\n",
    "def create_grid(npub=4):\n",
    "    \"\"\" Generate the HTML code for a flat grid with `npub` slides \"\"\"\n",
    "    grid = [\"\"\"  <div class=\"grid\"> \"\"\",\n",
    "                ]\n",
    "    \n",
    "    item_str = \"\"\"    <div class=\"grid-item\"> <div id=\"slide{k}\" class=\"md_view\">Content {k}</div> </div>\"\"\"\n",
    "    for k in range(1, npub + 1):\n",
    "        grid.append(item_str.format(k=k))\n",
    "    grid.append(\"  </div>\")\n",
    "    return '\\n'.join(grid)"
   ]
  },
  {
   "cell_type": "code",
   "execution_count": 13,
   "id": "a6eac5b6",
   "metadata": {
    "execution": {
     "iopub.execute_input": "2025-09-05T04:12:31.781489Z",
     "iopub.status.busy": "2025-09-05T04:12:31.781310Z",
     "iopub.status.idle": "2025-09-05T04:12:31.786115Z",
     "shell.execute_reply": "2025-09-05T04:12:31.785474Z"
    },
    "papermill": {
     "duration": 0.01083,
     "end_time": "2025-09-05T04:12:31.787192",
     "exception": false,
     "start_time": "2025-09-05T04:12:31.776362",
     "status": "completed"
    },
    "scrolled": false,
    "tags": []
   },
   "outputs": [],
   "source": [
    "carousel = create_carousel(npub)\n",
    "docs = ', '.join(['\"{0:s}\"'.format(k.split('/')[-1]) for k in res])\n",
    "slides = ', '.join([f'\"slide{k}\"' for k in range(1, npub + 1)])\n",
    "\n",
    "with open(\"daily_template.html\", \"r\") as tpl:\n",
    "    page = tpl.read()\n",
    "    page = page.replace(\"{%-- carousel:s --%}\", carousel)\\\n",
    "               .replace(\"{%-- suptitle:s --%}\",  \"7-day archives\" )\\\n",
    "               .replace(\"{%-- docs:s --%}\", docs)\\\n",
    "               .replace(\"{%-- slides:s --%}\", slides)\n",
    "    \n",
    "with open(\"_build/html/index_7days.html\", 'w') as fout:\n",
    "    fout.write(page)"
   ]
  },
  {
   "cell_type": "code",
   "execution_count": 14,
   "id": "adc1a1ec",
   "metadata": {
    "execution": {
     "iopub.execute_input": "2025-09-05T04:12:31.796871Z",
     "iopub.status.busy": "2025-09-05T04:12:31.796636Z",
     "iopub.status.idle": "2025-09-05T04:12:31.802769Z",
     "shell.execute_reply": "2025-09-05T04:12:31.802100Z"
    },
    "papermill": {
     "duration": 0.012027,
     "end_time": "2025-09-05T04:12:31.803727",
     "exception": false,
     "start_time": "2025-09-05T04:12:31.791700",
     "status": "completed"
    },
    "tags": []
   },
   "outputs": [
    {
     "name": "stdout",
     "output_type": "stream",
     "text": [
      "2  publications in the last day.\n"
     ]
    }
   ],
   "source": [
    "# redo for today\n",
    "days = 1\n",
    "res = list(get_last_n_days(dates, days))\n",
    "npub = len(res)\n",
    "print(len(res), f\" publications in the last day.\")\n",
    "\n",
    "carousel = create_carousel(npub)\n",
    "docs = ', '.join(['\"{0:s}\"'.format(k.split('/')[-1]) for k in res])\n",
    "slides = ', '.join([f'\"slide{k}\"' for k in range(1, npub + 1)])\n",
    "\n",
    "with open(\"daily_template.html\", \"r\") as tpl:\n",
    "    page = tpl.read()\n",
    "    page = page.replace(\"{%-- carousel:s --%}\", carousel)\\\n",
    "               .replace(\"{%-- suptitle:s --%}\",  \"Daily\" )\\\n",
    "               .replace(\"{%-- docs:s --%}\", docs)\\\n",
    "               .replace(\"{%-- slides:s --%}\", slides)\n",
    "    \n",
    "# print(carousel, docs, slides)\n",
    "# print(page)\n",
    "with open(\"_build/html/index_daily.html\", 'w') as fout:\n",
    "    fout.write(page)"
   ]
  },
  {
   "cell_type": "code",
   "execution_count": 15,
   "id": "00eece82",
   "metadata": {
    "execution": {
     "iopub.execute_input": "2025-09-05T04:12:31.813570Z",
     "iopub.status.busy": "2025-09-05T04:12:31.813339Z",
     "iopub.status.idle": "2025-09-05T04:12:31.819412Z",
     "shell.execute_reply": "2025-09-05T04:12:31.818926Z"
    },
    "papermill": {
     "duration": 0.012082,
     "end_time": "2025-09-05T04:12:31.820433",
     "exception": false,
     "start_time": "2025-09-05T04:12:31.808351",
     "status": "completed"
    },
    "scrolled": false,
    "tags": []
   },
   "outputs": [
    {
     "name": "stdout",
     "output_type": "stream",
     "text": [
      "6  6 publications selected.\n"
     ]
    }
   ],
   "source": [
    "# Create the flat grid of the last N papers (fixed number regardless of dates)\n",
    "from itertools import islice \n",
    "\n",
    "npub = 6\n",
    "res = [k[0] for k in (islice(reversed(sorted(dates, key=lambda x: x[1])), 6))]\n",
    "print(len(res), f\" {npub} publications selected.\")\n",
    "\n",
    "grid = create_grid(npub)\n",
    "docs = ', '.join(['\"{0:s}\"'.format(k.split('/')[-1]) for k in res])\n",
    "slides = ', '.join([f'\"slide{k}\"' for k in range(1, npub + 1)])\n",
    "\n",
    "with open(\"grid_template.html\", \"r\") as tpl:\n",
    "    page = tpl.read()\n",
    "    page = page.replace(\"{%-- grid-content:s --%}\", grid)\\\n",
    "               .replace(\"{%-- suptitle:s --%}\",  f\"Last {npub:,d} papers\" )\\\n",
    "               .replace(\"{%-- docs:s --%}\", docs)\\\n",
    "               .replace(\"{%-- slides:s --%}\", slides)\n",
    "    \n",
    "# print(grid, docs, slides)\n",
    "# print(page)\n",
    "with open(\"_build/html/index_npub_grid.html\", 'w') as fout:\n",
    "    fout.write(page)"
   ]
  }
 ],
 "metadata": {
  "kernelspec": {
   "display_name": "Python 3 (ipykernel)",
   "language": "python",
   "name": "python3"
  },
  "language_info": {
   "codemirror_mode": {
    "name": "ipython",
    "version": 3
   },
   "file_extension": ".py",
   "mimetype": "text/x-python",
   "name": "python",
   "nbconvert_exporter": "python",
   "pygments_lexer": "ipython3",
   "version": "3.9.23"
  },
  "papermill": {
   "default_parameters": {},
   "duration": 34.772239,
   "end_time": "2025-09-05T04:12:32.041559",
   "environment_variables": {},
   "exception": null,
   "input_path": "MPIA daily digest.ipynb",
   "output_path": "log.ipynb",
   "parameters": {},
   "start_time": "2025-09-05T04:11:57.269320",
   "version": "2.6.0"
  },
  "vscode": {
   "interpreter": {
    "hash": "aee8b7b246df8f9039afb4144a1f6fd8d2ca17a180786b69acc140d282b71a49"
   }
  },
  "widgets": {
   "application/vnd.jupyter.widget-state+json": {
    "state": {
     "3009cdba586c49839b8f58c132fe1031": {
      "model_module": "@jupyter-widgets/controls",
      "model_module_version": "2.0.0",
      "model_name": "HBoxModel",
      "state": {
       "_dom_classes": [],
       "_model_module": "@jupyter-widgets/controls",
       "_model_module_version": "2.0.0",
       "_model_name": "HBoxModel",
       "_view_count": null,
       "_view_module": "@jupyter-widgets/controls",
       "_view_module_version": "2.0.0",
       "_view_name": "HBoxView",
       "box_style": "",
       "children": [
        "IPY_MODEL_73a177e259134b1ab437d7c4217739f1",
        "IPY_MODEL_53eb0f555ef442e5b21af18fa1570952",
        "IPY_MODEL_54f88dc3b6704110ae5329d2cf8af9da"
       ],
       "layout": "IPY_MODEL_7fc372d613d049a6a7b64d93ae533de9",
       "tabbable": null,
       "tooltip": null
      }
     },
     "53eb0f555ef442e5b21af18fa1570952": {
      "model_module": "@jupyter-widgets/controls",
      "model_module_version": "2.0.0",
      "model_name": "FloatProgressModel",
      "state": {
       "_dom_classes": [],
       "_model_module": "@jupyter-widgets/controls",
       "_model_module_version": "2.0.0",
       "_model_name": "FloatProgressModel",
       "_view_count": null,
       "_view_module": "@jupyter-widgets/controls",
       "_view_module_version": "2.0.0",
       "_view_name": "ProgressView",
       "bar_style": "success",
       "description": "",
       "description_allow_html": false,
       "layout": "IPY_MODEL_6f1989384fb74904b23431091a1ab692",
       "max": 3.0,
       "min": 0.0,
       "orientation": "horizontal",
       "style": "IPY_MODEL_9a6f014ff25c441dad94f89d471ee766",
       "tabbable": null,
       "tooltip": null,
       "value": 3.0
      }
     },
     "54f88dc3b6704110ae5329d2cf8af9da": {
      "model_module": "@jupyter-widgets/controls",
      "model_module_version": "2.0.0",
      "model_name": "HTMLModel",
      "state": {
       "_dom_classes": [],
       "_model_module": "@jupyter-widgets/controls",
       "_model_module_version": "2.0.0",
       "_model_name": "HTMLModel",
       "_view_count": null,
       "_view_module": "@jupyter-widgets/controls",
       "_view_module_version": "2.0.0",
       "_view_name": "HTMLView",
       "description": "",
       "description_allow_html": false,
       "layout": "IPY_MODEL_620f429d94ab4dcbb2cfab0cfb803c0a",
       "placeholder": "​",
       "style": "IPY_MODEL_62d9a0709b774cbca40dd1901b298a2b",
       "tabbable": null,
       "tooltip": null,
       "value": " 3/3 [00:10&lt;00:00,  3.43s/it]"
      }
     },
     "620f429d94ab4dcbb2cfab0cfb803c0a": {
      "model_module": "@jupyter-widgets/base",
      "model_module_version": "2.0.0",
      "model_name": "LayoutModel",
      "state": {
       "_model_module": "@jupyter-widgets/base",
       "_model_module_version": "2.0.0",
       "_model_name": "LayoutModel",
       "_view_count": null,
       "_view_module": "@jupyter-widgets/base",
       "_view_module_version": "2.0.0",
       "_view_name": "LayoutView",
       "align_content": null,
       "align_items": null,
       "align_self": null,
       "border_bottom": null,
       "border_left": null,
       "border_right": null,
       "border_top": null,
       "bottom": null,
       "display": null,
       "flex": null,
       "flex_flow": null,
       "grid_area": null,
       "grid_auto_columns": null,
       "grid_auto_flow": null,
       "grid_auto_rows": null,
       "grid_column": null,
       "grid_gap": null,
       "grid_row": null,
       "grid_template_areas": null,
       "grid_template_columns": null,
       "grid_template_rows": null,
       "height": null,
       "justify_content": null,
       "justify_items": null,
       "left": null,
       "margin": null,
       "max_height": null,
       "max_width": null,
       "min_height": null,
       "min_width": null,
       "object_fit": null,
       "object_position": null,
       "order": null,
       "overflow": null,
       "padding": null,
       "right": null,
       "top": null,
       "visibility": null,
       "width": null
      }
     },
     "62d9a0709b774cbca40dd1901b298a2b": {
      "model_module": "@jupyter-widgets/controls",
      "model_module_version": "2.0.0",
      "model_name": "HTMLStyleModel",
      "state": {
       "_model_module": "@jupyter-widgets/controls",
       "_model_module_version": "2.0.0",
       "_model_name": "HTMLStyleModel",
       "_view_count": null,
       "_view_module": "@jupyter-widgets/base",
       "_view_module_version": "2.0.0",
       "_view_name": "StyleView",
       "background": null,
       "description_width": "",
       "font_size": null,
       "text_color": null
      }
     },
     "6f1989384fb74904b23431091a1ab692": {
      "model_module": "@jupyter-widgets/base",
      "model_module_version": "2.0.0",
      "model_name": "LayoutModel",
      "state": {
       "_model_module": "@jupyter-widgets/base",
       "_model_module_version": "2.0.0",
       "_model_name": "LayoutModel",
       "_view_count": null,
       "_view_module": "@jupyter-widgets/base",
       "_view_module_version": "2.0.0",
       "_view_name": "LayoutView",
       "align_content": null,
       "align_items": null,
       "align_self": null,
       "border_bottom": null,
       "border_left": null,
       "border_right": null,
       "border_top": null,
       "bottom": null,
       "display": null,
       "flex": null,
       "flex_flow": null,
       "grid_area": null,
       "grid_auto_columns": null,
       "grid_auto_flow": null,
       "grid_auto_rows": null,
       "grid_column": null,
       "grid_gap": null,
       "grid_row": null,
       "grid_template_areas": null,
       "grid_template_columns": null,
       "grid_template_rows": null,
       "height": null,
       "justify_content": null,
       "justify_items": null,
       "left": null,
       "margin": null,
       "max_height": null,
       "max_width": null,
       "min_height": null,
       "min_width": null,
       "object_fit": null,
       "object_position": null,
       "order": null,
       "overflow": null,
       "padding": null,
       "right": null,
       "top": null,
       "visibility": null,
       "width": null
      }
     },
     "73a177e259134b1ab437d7c4217739f1": {
      "model_module": "@jupyter-widgets/controls",
      "model_module_version": "2.0.0",
      "model_name": "HTMLModel",
      "state": {
       "_dom_classes": [],
       "_model_module": "@jupyter-widgets/controls",
       "_model_module_version": "2.0.0",
       "_model_name": "HTMLModel",
       "_view_count": null,
       "_view_module": "@jupyter-widgets/controls",
       "_view_module_version": "2.0.0",
       "_view_name": "HTMLView",
       "description": "",
       "description_allow_html": false,
       "layout": "IPY_MODEL_c73cfd0bd88b4ca28ad85ee5b6f64407",
       "placeholder": "​",
       "style": "IPY_MODEL_9cb6dd1b0d33444c9f41d516f71fcdf9",
       "tabbable": null,
       "tooltip": null,
       "value": "100%"
      }
     },
     "7fc372d613d049a6a7b64d93ae533de9": {
      "model_module": "@jupyter-widgets/base",
      "model_module_version": "2.0.0",
      "model_name": "LayoutModel",
      "state": {
       "_model_module": "@jupyter-widgets/base",
       "_model_module_version": "2.0.0",
       "_model_name": "LayoutModel",
       "_view_count": null,
       "_view_module": "@jupyter-widgets/base",
       "_view_module_version": "2.0.0",
       "_view_name": "LayoutView",
       "align_content": null,
       "align_items": null,
       "align_self": null,
       "border_bottom": null,
       "border_left": null,
       "border_right": null,
       "border_top": null,
       "bottom": null,
       "display": null,
       "flex": null,
       "flex_flow": null,
       "grid_area": null,
       "grid_auto_columns": null,
       "grid_auto_flow": null,
       "grid_auto_rows": null,
       "grid_column": null,
       "grid_gap": null,
       "grid_row": null,
       "grid_template_areas": null,
       "grid_template_columns": null,
       "grid_template_rows": null,
       "height": null,
       "justify_content": null,
       "justify_items": null,
       "left": null,
       "margin": null,
       "max_height": null,
       "max_width": null,
       "min_height": null,
       "min_width": null,
       "object_fit": null,
       "object_position": null,
       "order": null,
       "overflow": null,
       "padding": null,
       "right": null,
       "top": null,
       "visibility": null,
       "width": null
      }
     },
     "9a6f014ff25c441dad94f89d471ee766": {
      "model_module": "@jupyter-widgets/controls",
      "model_module_version": "2.0.0",
      "model_name": "ProgressStyleModel",
      "state": {
       "_model_module": "@jupyter-widgets/controls",
       "_model_module_version": "2.0.0",
       "_model_name": "ProgressStyleModel",
       "_view_count": null,
       "_view_module": "@jupyter-widgets/base",
       "_view_module_version": "2.0.0",
       "_view_name": "StyleView",
       "bar_color": null,
       "description_width": ""
      }
     },
     "9cb6dd1b0d33444c9f41d516f71fcdf9": {
      "model_module": "@jupyter-widgets/controls",
      "model_module_version": "2.0.0",
      "model_name": "HTMLStyleModel",
      "state": {
       "_model_module": "@jupyter-widgets/controls",
       "_model_module_version": "2.0.0",
       "_model_name": "HTMLStyleModel",
       "_view_count": null,
       "_view_module": "@jupyter-widgets/base",
       "_view_module_version": "2.0.0",
       "_view_name": "StyleView",
       "background": null,
       "description_width": "",
       "font_size": null,
       "text_color": null
      }
     },
     "c73cfd0bd88b4ca28ad85ee5b6f64407": {
      "model_module": "@jupyter-widgets/base",
      "model_module_version": "2.0.0",
      "model_name": "LayoutModel",
      "state": {
       "_model_module": "@jupyter-widgets/base",
       "_model_module_version": "2.0.0",
       "_model_name": "LayoutModel",
       "_view_count": null,
       "_view_module": "@jupyter-widgets/base",
       "_view_module_version": "2.0.0",
       "_view_name": "LayoutView",
       "align_content": null,
       "align_items": null,
       "align_self": null,
       "border_bottom": null,
       "border_left": null,
       "border_right": null,
       "border_top": null,
       "bottom": null,
       "display": null,
       "flex": null,
       "flex_flow": null,
       "grid_area": null,
       "grid_auto_columns": null,
       "grid_auto_flow": null,
       "grid_auto_rows": null,
       "grid_column": null,
       "grid_gap": null,
       "grid_row": null,
       "grid_template_areas": null,
       "grid_template_columns": null,
       "grid_template_rows": null,
       "height": null,
       "justify_content": null,
       "justify_items": null,
       "left": null,
       "margin": null,
       "max_height": null,
       "max_width": null,
       "min_height": null,
       "min_width": null,
       "object_fit": null,
       "object_position": null,
       "order": null,
       "overflow": null,
       "padding": null,
       "right": null,
       "top": null,
       "visibility": null,
       "width": null
      }
     }
    },
    "version_major": 2,
    "version_minor": 0
   }
  }
 },
 "nbformat": 4,
 "nbformat_minor": 5
}