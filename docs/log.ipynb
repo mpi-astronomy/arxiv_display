{
 "cells": [
  {
   "cell_type": "markdown",
   "id": "92bcb855",
   "metadata": {
    "papermill": {
     "duration": 0.006414,
     "end_time": "2022-10-13T05:15:18.625725",
     "exception": false,
     "start_time": "2022-10-13T05:15:18.619311",
     "status": "completed"
    },
    "tags": []
   },
   "source": [
    "# MPIA Arxiv on Deck 2\n",
    "\n",
    "Contains the steps to produce the paper extractions."
   ]
  },
  {
   "cell_type": "code",
   "execution_count": 1,
   "id": "3a0d6e11",
   "metadata": {
    "execution": {
     "iopub.execute_input": "2022-10-13T05:15:18.637927Z",
     "iopub.status.busy": "2022-10-13T05:15:18.637085Z",
     "iopub.status.idle": "2022-10-13T05:15:18.831147Z",
     "shell.execute_reply": "2022-10-13T05:15:18.830364Z"
    },
    "papermill": {
     "duration": 0.20289,
     "end_time": "2022-10-13T05:15:18.833678",
     "exception": false,
     "start_time": "2022-10-13T05:15:18.630788",
     "status": "completed"
    },
    "tags": []
   },
   "outputs": [],
   "source": [
    "# Imports\n",
    "import os\n",
    "from IPython.display import Markdown, display\n",
    "from tqdm.notebook import tqdm\n",
    "import warnings\n",
    "from PIL import Image \n",
    "\n",
    "# requires arxiv_on_deck_2\n",
    "\n",
    "from arxiv_on_deck_2.arxiv2 import (get_new_papers, \n",
    "                                    get_paper_from_identifier,\n",
    "                                    retrieve_document_source, \n",
    "                                    get_markdown_badge)\n",
    "from arxiv_on_deck_2 import (latex, \n",
    "                             mpia,\n",
    "                             highlight_authors_in_list)\n",
    "\n",
    "# Sometimes images are really big\n",
    "Image.MAX_IMAGE_PIXELS = 1000000000 "
   ]
  },
  {
   "cell_type": "code",
   "execution_count": 2,
   "id": "22aa9d44",
   "metadata": {
    "execution": {
     "iopub.execute_input": "2022-10-13T05:15:18.846582Z",
     "iopub.status.busy": "2022-10-13T05:15:18.844941Z",
     "iopub.status.idle": "2022-10-13T05:15:18.852221Z",
     "shell.execute_reply": "2022-10-13T05:15:18.851513Z"
    },
    "papermill": {
     "duration": 0.015566,
     "end_time": "2022-10-13T05:15:18.854303",
     "exception": false,
     "start_time": "2022-10-13T05:15:18.838737",
     "status": "completed"
    },
    "tags": []
   },
   "outputs": [],
   "source": [
    "# Some useful definitions.\n",
    "\n",
    "class AffiliationWarning(UserWarning):\n",
    "    pass\n",
    "\n",
    "class AffiliationError(RuntimeError):\n",
    "    pass\n",
    "\n",
    "def validation(source: str):\n",
    "    \"\"\"Raises error paper during parsing of source file\n",
    "    \n",
    "    Allows checks before parsing TeX code.\n",
    "    \n",
    "    Raises AffiliationWarning\n",
    "    \"\"\"\n",
    "    check = mpia.affiliation_verifications(source, verbose=True)\n",
    "    if check is not True:\n",
    "        raise AffiliationError(\"mpia.affiliation_verifications: \" + check)\n",
    "\n",
    "        \n",
    "warnings.simplefilter('always', AffiliationWarning)"
   ]
  },
  {
   "cell_type": "code",
   "execution_count": 3,
   "id": "14622700",
   "metadata": {
    "execution": {
     "iopub.execute_input": "2022-10-13T05:15:18.866479Z",
     "iopub.status.busy": "2022-10-13T05:15:18.865978Z",
     "iopub.status.idle": "2022-10-13T05:15:18.870050Z",
     "shell.execute_reply": "2022-10-13T05:15:18.869445Z"
    },
    "papermill": {
     "duration": 0.013428,
     "end_time": "2022-10-13T05:15:18.872013",
     "exception": false,
     "start_time": "2022-10-13T05:15:18.858585",
     "status": "completed"
    },
    "tags": []
   },
   "outputs": [],
   "source": [
    "# additional CSS to consider. \n",
    "# TODO: Current into each exported file. \n",
    "#       This should be set once into the webpages directly.\n",
    "#       With only the class/id definitions in the .md files.\n",
    "\n",
    "debug_html = \"\"\"\n",
    "<style>\n",
    "#wrap{ overflow:auto; }\n",
    "#fig1{ background:yellow; width:100%; float:left; padding:5px;  }\n",
    "#fig2{ background:red; width:50%; float:left; clear:left; padding:5px;  }\n",
    "#fig3{ background:green; width:50%; float:left; padding:5px;   }\n",
    ".macros{ background:yellow; visibility:visible;}\n",
    "h1 {margin: 0 0 0 0;}\n",
    "mark {background-color:#fff3b6;}\n",
    "img {object-fit:contain; max-height:250px; display:inline-block; text-align: center;}\n",
    "</style>\n",
    "\"\"\" \n",
    "html = \"\"\"\n",
    "<style>\n",
    "#wrap{ overflow:auto; }\n",
    "#fig1{ width:100%; float:left; padding: 5px;  }\n",
    "#fig2{ width:50%; float:left; clear:left; padding: 5px;  }\n",
    "#fig3{ width:50%; float:left; padding: 5px;  }\n",
    ".macros{ visibility:hidden; height:0px; }\n",
    "h1 {margin: 0em 0 0 0;}\n",
    "mark {background-color:#fff3b6;}\n",
    "img {object-fit:contain; max-height:250px; display:inline-block; text-align: center;}\n",
    "</style>\n",
    "\"\"\""
   ]
  },
  {
   "cell_type": "markdown",
   "id": "14bd6310",
   "metadata": {
    "papermill": {
     "duration": 0.004678,
     "end_time": "2022-10-13T05:15:18.881148",
     "exception": false,
     "start_time": "2022-10-13T05:15:18.876470",
     "status": "completed"
    },
    "tags": []
   },
   "source": [
    "## get list of arxiv paper candidates\n",
    "\n",
    "We use the MPIA mitarbeiter list webpage from mpia.de to get author names\n",
    "We then get all new papers from Arxiv and match authors"
   ]
  },
  {
   "cell_type": "code",
   "execution_count": 4,
   "id": "2645e73a",
   "metadata": {
    "execution": {
     "iopub.execute_input": "2022-10-13T05:15:18.892690Z",
     "iopub.status.busy": "2022-10-13T05:15:18.891937Z",
     "iopub.status.idle": "2022-10-13T05:15:46.226417Z",
     "shell.execute_reply": "2022-10-13T05:15:46.225472Z"
    },
    "papermill": {
     "duration": 27.342052,
     "end_time": "2022-10-13T05:15:46.228358",
     "exception": false,
     "start_time": "2022-10-13T05:15:18.886306",
     "status": "completed"
    },
    "tags": []
   },
   "outputs": [
    {
     "name": "stdout",
     "output_type": "stream",
     "text": [
      "Arxiv has 55 new papers today\n",
      "          19 with possible author matches\n"
     ]
    }
   ],
   "source": [
    "# get list from MPIA website\n",
    "# it automatically filters identified non-scientists :func:`mpia.filter_non_scientists`\n",
    "mpia_authors = mpia.get_mpia_mitarbeiter_list()\n",
    "new_papers = get_new_papers()\n",
    "# add manual references\n",
    "add_paper_refs = []\n",
    "new_papers.extend([get_paper_from_identifier(k) for k in add_paper_refs])\n",
    "\n",
    "# select only papers with matching author names and highlight authors\n",
    "hl_list = [k[0] for k in mpia_authors]\n",
    "\n",
    "candidates = []\n",
    "for paperk in new_papers:\n",
    "    hl_authors = highlight_authors_in_list(paperk['authors'], hl_list)\n",
    "    matches = [(hl, orig) for hl, orig in zip(hl_authors, paperk['authors']) if 'mark' in hl]\n",
    "    paperk['authors'] = hl_authors\n",
    "    if matches:\n",
    "        candidates.append(paperk)\n",
    "print(\"\"\"Arxiv has {0:,d} new papers today\"\"\".format(len(new_papers)))        \n",
    "print(\"\"\"          {0:,d} with possible author matches\"\"\".format(len(candidates)))"
   ]
  },
  {
   "cell_type": "markdown",
   "id": "3543b34a",
   "metadata": {
    "papermill": {
     "duration": 0.004665,
     "end_time": "2022-10-13T05:15:46.238047",
     "exception": false,
     "start_time": "2022-10-13T05:15:46.233382",
     "status": "completed"
    },
    "tags": []
   },
   "source": [
    "# Parse sources and generate relevant outputs\n",
    "\n",
    "From the candidates, we do the following steps:\n",
    "* get their tarball from ArXiv (and extract data)\n",
    "* find the main .tex file: find one with \\documentclass{...} (sometimes it's non trivial)\n",
    "* Check affiliations with :func:`validation`, which uses :func:`mpia.affiliation_verifications`\n",
    "* If passing the affiliations: we parse the .tex source\n",
    "   * inject sub-documents into the main (flatten the main document)\n",
    "   * parse structure, extract information (title, abstract, authors, figures...)\n",
    "   * handles `\\graphicspath` if provided\n",
    "* Generate the .md document."
   ]
  },
  {
   "cell_type": "code",
   "execution_count": 5,
   "id": "9576b79e",
   "metadata": {
    "execution": {
     "iopub.execute_input": "2022-10-13T05:15:46.249251Z",
     "iopub.status.busy": "2022-10-13T05:15:46.248749Z",
     "iopub.status.idle": "2022-10-13T05:17:22.400952Z",
     "shell.execute_reply": "2022-10-13T05:17:22.399927Z"
    },
    "papermill": {
     "duration": 96.160258,
     "end_time": "2022-10-13T05:17:22.402901",
     "exception": false,
     "start_time": "2022-10-13T05:15:46.242643",
     "status": "completed"
    },
    "scrolled": false,
    "tags": []
   },
   "outputs": [
    {
     "data": {
      "application/vnd.jupyter.widget-view+json": {
       "model_id": "bc29b818795541b0bd6f73e238bffde5",
       "version_major": 2,
       "version_minor": 0
      },
      "text/plain": [
       "  0%|          | 0/18 [00:00<?, ?it/s]"
      ]
     },
     "metadata": {},
     "output_type": "display_data"
    },
    {
     "name": "stdout",
     "output_type": "stream",
     "text": [
      "Retrieving document from  https://arxiv.org/e-print/2210.05679\n"
     ]
    },
    {
     "name": "stdout",
     "output_type": "stream",
     "text": [
      "extracting tarball to tmp_2210.05679..."
     ]
    },
    {
     "name": "stdout",
     "output_type": "stream",
     "text": [
      " done.\n",
      "Retrieving document from  https://arxiv.org/e-print/2210.05684\n"
     ]
    },
    {
     "name": "stdout",
     "output_type": "stream",
     "text": [
      "extracting tarball to tmp_2210.05684..."
     ]
    },
    {
     "name": "stdout",
     "output_type": "stream",
     "text": [
      " done.\n",
      "Retrieving document from  https://arxiv.org/e-print/2210.05695\n"
     ]
    },
    {
     "name": "stderr",
     "output_type": "stream",
     "text": [
      "/opt/hostedtoolcache/Python/3.9.14/x64/lib/python3.9/site-packages/IPython/core/interactiveshell.py:3378: LatexWarning: Multiple tex files.\n",
      "\n",
      "  exec(code_obj, self.user_global_ns, self.user_ns)\n",
      "/opt/hostedtoolcache/Python/3.9.14/x64/lib/python3.9/site-packages/IPython/core/interactiveshell.py:3378: LatexWarning: Found documentclass in tmp_2210.05684/natnotes.tex\n",
      "\n",
      "  exec(code_obj, self.user_global_ns, self.user_ns)\n"
     ]
    },
    {
     "name": "stdout",
     "output_type": "stream",
     "text": [
      "extracting tarball to tmp_2210.05695..."
     ]
    },
    {
     "name": "stdout",
     "output_type": "stream",
     "text": [
      " done.\n"
     ]
    },
    {
     "name": "stderr",
     "output_type": "stream",
     "text": [
      "/opt/hostedtoolcache/Python/3.9.14/x64/lib/python3.9/site-packages/IPython/core/interactiveshell.py:3378: LatexWarning: Multiple tex files.\n",
      "\n",
      "  exec(code_obj, self.user_global_ns, self.user_ns)\n",
      "/opt/hostedtoolcache/Python/3.9.14/x64/lib/python3.9/site-packages/IPython/core/interactiveshell.py:3378: LatexWarning: Found documentclass in tmp_2210.05695/main_SGRBs_compilation.tex\n",
      "\n",
      "  exec(code_obj, self.user_global_ns, self.user_ns)\n",
      "/opt/hostedtoolcache/Python/3.9.14/x64/lib/python3.9/site-packages/arxiv_on_deck_2/latex.py:292: LatexWarning: Latex injecting: 'authors_compilation' from 'tmp_2210.05695/authors_compilation.tex'\n",
      "  warnings.warn(LatexWarning(f\"Latex injecting: '{ext}' from '{subsource}'\"))\n",
      "/opt/hostedtoolcache/Python/3.9.14/x64/lib/python3.9/site-packages/arxiv_on_deck_2/latex.py:292: LatexWarning: Latex injecting: 'affiliations.tex' from 'tmp_2210.05695/affiliations.tex'\n",
      "  warnings.warn(LatexWarning(f\"Latex injecting: '{ext}' from '{subsource}'\"))\n"
     ]
    },
    {
     "name": "stdout",
     "output_type": "stream",
     "text": [
      "Retrieving document from  https://arxiv.org/e-print/2210.05729\n"
     ]
    },
    {
     "name": "stdout",
     "output_type": "stream",
     "text": [
      "extracting tarball to tmp_2210.05729..."
     ]
    },
    {
     "name": "stdout",
     "output_type": "stream",
     "text": [
      " done.\n",
      "Retrieving document from  https://arxiv.org/e-print/2210.05763\n"
     ]
    },
    {
     "name": "stderr",
     "output_type": "stream",
     "text": [
      "/opt/hostedtoolcache/Python/3.9.14/x64/lib/python3.9/site-packages/IPython/core/interactiveshell.py:3378: LatexWarning: Multiple tex files.\n",
      "\n",
      "  exec(code_obj, self.user_global_ns, self.user_ns)\n",
      "/opt/hostedtoolcache/Python/3.9.14/x64/lib/python3.9/site-packages/IPython/core/interactiveshell.py:3378: LatexWarning: Found documentclass in tmp_2210.05729/main.tex\n",
      "\n",
      "  exec(code_obj, self.user_global_ns, self.user_ns)\n"
     ]
    },
    {
     "name": "stdout",
     "output_type": "stream",
     "text": [
      "extracting tarball to tmp_2210.05763..."
     ]
    },
    {
     "name": "stdout",
     "output_type": "stream",
     "text": [
      " done.\n",
      "Retrieving document from  https://arxiv.org/e-print/2210.05777\n"
     ]
    },
    {
     "name": "stdout",
     "output_type": "stream",
     "text": [
      "extracting tarball to tmp_2210.05777..."
     ]
    },
    {
     "name": "stdout",
     "output_type": "stream",
     "text": [
      " done.\n",
      "Retrieving document from  https://arxiv.org/e-print/2210.05778\n"
     ]
    },
    {
     "name": "stdout",
     "output_type": "stream",
     "text": [
      "extracting tarball to tmp_2210.05778..."
     ]
    },
    {
     "name": "stdout",
     "output_type": "stream",
     "text": [
      " done.\n",
      "Retrieving document from  https://arxiv.org/e-print/2210.05808\n"
     ]
    },
    {
     "name": "stdout",
     "output_type": "stream",
     "text": [
      "extracting tarball to tmp_2210.05808..."
     ]
    },
    {
     "name": "stdout",
     "output_type": "stream",
     "text": [
      " done.\n",
      "Retrieving document from  https://arxiv.org/e-print/2210.05842\n"
     ]
    },
    {
     "name": "stdout",
     "output_type": "stream",
     "text": [
      "extracting tarball to tmp_2210.05842..."
     ]
    },
    {
     "name": "stdout",
     "output_type": "stream",
     "text": [
      " done.\n",
      "Retrieving document from  https://arxiv.org/e-print/2210.05919\n"
     ]
    },
    {
     "name": "stdout",
     "output_type": "stream",
     "text": [
      "extracting tarball to tmp_2210.05919..."
     ]
    },
    {
     "name": "stdout",
     "output_type": "stream",
     "text": [
      " done.\n",
      "Retrieving document from  https://arxiv.org/e-print/2210.05937\n"
     ]
    },
    {
     "name": "stdout",
     "output_type": "stream",
     "text": [
      "extracting tarball to tmp_2210.05937..."
     ]
    },
    {
     "name": "stdout",
     "output_type": "stream",
     "text": [
      " done.\n",
      "Retrieving document from  https://arxiv.org/e-print/2210.06109\n"
     ]
    },
    {
     "name": "stdout",
     "output_type": "stream",
     "text": [
      "extracting tarball to tmp_2210.06109..."
     ]
    },
    {
     "name": "stdout",
     "output_type": "stream",
     "text": [
      " done.\n",
      "Retrieving document from  https://arxiv.org/e-print/2210.06165\n"
     ]
    },
    {
     "name": "stdout",
     "output_type": "stream",
     "text": [
      "extracting tarball to tmp_2210.06165..."
     ]
    },
    {
     "name": "stdout",
     "output_type": "stream",
     "text": [
      " done.\n",
      "Retrieving document from  https://arxiv.org/e-print/2210.06219\n"
     ]
    },
    {
     "name": "stdout",
     "output_type": "stream",
     "text": [
      "extracting tarball to tmp_2210.06219..."
     ]
    },
    {
     "name": "stdout",
     "output_type": "stream",
     "text": [
      " done.\n",
      "Retrieving document from  https://arxiv.org/e-print/2210.06251\n"
     ]
    },
    {
     "name": "stdout",
     "output_type": "stream",
     "text": [
      "extracting tarball to tmp_2210.06251..."
     ]
    },
    {
     "name": "stdout",
     "output_type": "stream",
     "text": [
      " done.\n",
      "Retrieving document from  https://arxiv.org/e-print/2210.06283\n"
     ]
    },
    {
     "name": "stdout",
     "output_type": "stream",
     "text": [
      "extracting tarball to tmp_2210.06283... done.\n",
      "Retrieving document from  https://arxiv.org/e-print/2210.06338\n"
     ]
    },
    {
     "name": "stdout",
     "output_type": "stream",
     "text": [
      "extracting tarball to tmp_2210.06338..."
     ]
    },
    {
     "name": "stdout",
     "output_type": "stream",
     "text": [
      " done.\n",
      "Retrieving document from  https://arxiv.org/e-print/2210.06390\n"
     ]
    },
    {
     "name": "stdout",
     "output_type": "stream",
     "text": [
      "extracting tarball to tmp_2210.06390..."
     ]
    },
    {
     "name": "stdout",
     "output_type": "stream",
     "text": [
      " done.\n"
     ]
    },
    {
     "name": "stderr",
     "output_type": "stream",
     "text": [
      "/tmp/ipykernel_2295/4030337529.py:34: LatexWarning: 2210.06390 did not run properly\n",
      "sequence item 1: expected str instance, TexNode found\n",
      "  warnings.warn(latex.LatexWarning(f\"{paper_id:s} did not run properly\\n\" +\n"
     ]
    }
   ],
   "source": [
    "documents = []\n",
    "failed = []\n",
    "for paper in tqdm(candidates[:-1]):\n",
    "    paper_id = paper['identifier'].lower().replace('arxiv:', '')\n",
    "    \n",
    "    folder = f'tmp_{paper_id}'\n",
    "\n",
    "    try:\n",
    "        if not os.path.isdir(folder):\n",
    "            folder = retrieve_document_source(f\"{paper_id}\", f'tmp_{paper_id}')\n",
    "        \n",
    "        try:\n",
    "            doc = latex.LatexDocument(folder, validation=validation)    \n",
    "        except AffiliationError as affilerror:\n",
    "            msg = f\"ArXiv:{paper_id:s} is not an MPIA paper... \" + str(affilerror)\n",
    "            failed.append((paper, \"affiliation error: \" + str(affilerror) ))\n",
    "            continue\n",
    "        \n",
    "        # Hack because sometimes author parsing does not work well\n",
    "        if (len(doc.authors) != len(paper['authors'])):\n",
    "            doc._authors = paper['authors']\n",
    "        if (doc.abstract) in (None, ''):\n",
    "            doc._abstract = paper['abstract']\n",
    "            \n",
    "        doc.comment = (get_markdown_badge(paper_id) + \n",
    "                       \"<mark>Appeared on: \" + paper['date'] + \"</mark> - \" +\n",
    "                       \"_\" + paper['comments'] + \"_\")\n",
    "        doc.highlight_authors_in_list(hl_list)\n",
    "\n",
    "        full_md = doc.generate_markdown_text()\n",
    "        \n",
    "        documents.append((paper_id, full_md))\n",
    "    except Exception as e:\n",
    "        warnings.warn(latex.LatexWarning(f\"{paper_id:s} did not run properly\\n\" +\n",
    "                                         str(e)\n",
    "                                        ))\n",
    "        failed.append((paper, \"latex error \" + str(e)))"
   ]
  },
  {
   "cell_type": "markdown",
   "id": "2505a25c",
   "metadata": {
    "papermill": {
     "duration": 0.007605,
     "end_time": "2022-10-13T05:17:22.418422",
     "exception": false,
     "start_time": "2022-10-13T05:17:22.410817",
     "status": "completed"
    },
    "tags": []
   },
   "source": [
    "### Export the logs\n",
    "\n",
    "Throughout, we also keep track of the logs per paper. see `logs-{today date}.md` "
   ]
  },
  {
   "cell_type": "code",
   "execution_count": 6,
   "id": "d733828a",
   "metadata": {
    "execution": {
     "iopub.execute_input": "2022-10-13T05:17:22.435333Z",
     "iopub.status.busy": "2022-10-13T05:17:22.434640Z",
     "iopub.status.idle": "2022-10-13T05:17:22.495056Z",
     "shell.execute_reply": "2022-10-13T05:17:22.494284Z"
    },
    "papermill": {
     "duration": 0.071027,
     "end_time": "2022-10-13T05:17:22.496953",
     "exception": false,
     "start_time": "2022-10-13T05:17:22.425926",
     "status": "completed"
    },
    "scrolled": false,
    "tags": []
   },
   "outputs": [
    {
     "data": {
      "text/markdown": [
       "## Successful papers"
      ],
      "text/plain": [
       "<IPython.core.display.Markdown object>"
      ]
     },
     "metadata": {},
     "output_type": "display_data"
    },
    {
     "data": {
      "text/markdown": [
       "\n",
       "|||\n",
       "|---:|:---|\n",
       "| [![arXiv](https://img.shields.io/badge/arXiv-arXiv:2210.05695-b31b1b.svg)](https://arxiv.org/abs/arXiv:2210.05695) | **The Jet Opening Angle and Event Rate Distributions of Short Gamma-ray  Bursts from Late-time X-ray Afterglows**  |\n",
       "|| Alicia Rouco Escorial, et al. -- incl., <mark>Kerry Paterson</mark> |\n",
       "|*Appeared on*| *2022-10-13*|\n",
       "|*Comments*| *32 pages, 8 figures, 4 tables (Submitted to ApJ)*|\n",
       "|**Abstract**| We present a comprehensive study of 29 short gamma-ray bursts (SGRBs) observed $\\approx 0.8-60$ days post-burst using $Chandra$ and $XMM-Newton$. We provide the inferred distributions of SGRB jet opening angles and true event rates to compare against neutron star merger rates. We perform uniform analysis and modeling of their afterglows, obtaining 10 opening angle measurements and 19 lower limits. We report on two new opening angle measurements (SGRBs 050724A and 200411A) and eight updated values, obtaining a median value of $\\langle \\theta_{\\rm j} \\rangle \\approx 6.1^{\\circ}$ [-3.2$^{\\circ}$,+9.3$^{\\circ}$] (68\\% confidence on the full distribution) from jet measurements alone. For the remaining events, we infer $\\theta_{\\rm j}\\gtrsim 0.5-26^{\\circ}$. We uncover a population of SGRBs with wider jets of $\\theta_{\\rm j} \\gtrsim 10^{\\circ}$ (including two measurements of $\\theta_{\\rm j} \\gtrsim 15^{\\circ}$), representing $\\sim 28\\%$ of our sample. Coupled with multi-wavelength afterglow information, we derive a total true energy of $\\langle E_{\\rm true, tot} \\rangle \\approx 10^{49}-10^{50}$\\,erg which is consistent with MHD jet launching mechanisms. Furthermore, we determine a range for the beaming-corrected event rate of $\\mathfrak{R}_{\\rm true} \\approx360-1800$ Gpc$^{-3}$ yr$^{-1}$, set by the inclusion of a population of wide jets on the low end, and the jet measurements alone on the high end. From a comparison with the latest merger rates, our results are consistent with the majority of SGRBs originating from binary neutron star mergers. However, our inferred rates are well above the latest neutron star-black hole merger rates, consistent with at most a small fraction of SGRBs originating from such mergers. |"
      ],
      "text/plain": [
       "[arXiv:2210.05695] The Jet Opening Angle and Event Rate Distributions of Short Gamma-ray  Bursts from Late-time X-ray Afterglows\n",
       "\tAlicia Rouco Escorial, et al. -- incl., <mark>Kerry Paterson</mark>"
      ]
     },
     "metadata": {},
     "output_type": "display_data"
    },
    {
     "data": {
      "text/markdown": [
       "## Failed papers"
      ],
      "text/plain": [
       "<IPython.core.display.Markdown object>"
      ]
     },
     "metadata": {},
     "output_type": "display_data"
    },
    {
     "data": {
      "text/markdown": [
       "\n",
       "|||\n",
       "|---:|:---|\n",
       "| [![arXiv](https://img.shields.io/badge/arXiv-arXiv:2210.05679-b31b1b.svg)](https://arxiv.org/abs/arXiv:2210.05679) | **Ironing the folds: The phase space chevrons of a GSE-like merger as a  dark matter subhalo detector**  |\n",
       "|| <mark>Elliot Y. Davies</mark>, et al. |\n",
       "|*Appeared on*| *2022-10-13*|\n",
       "|*Comments*| *18 pages, 20 figures, submitted to MNRAS*|\n",
       "|**Abstract**| Recent work uncovered features in the phase space of the Milky Way's stellar halo which may be attributed to the last major merger. When stellar material from a satellite is accreted onto its host, it phase mixes and appears finely substructured in phase space. For a high-eccentricity merger, this substructure most clearly manifests as numerous wrapping chevrons in $(v_r, r)$ space, corresponding to stripes in $(E, \\theta_r)$ space. We introduce the idea of using this substructure as an alternative subhalo detector to cold stellar streams. We simulate an N-body merger akin to the GSE and assess the impact of subhaloes on these chevrons. We examine how their deformation depends on the mass, pericentre, and number of subhaloes. To quantify the impact of perturbers, we utilise the appearance of chevrons in $(E, \\theta_r)$ space to introduce a new quantity -- the ironing parameter. We show that: (1) a single flyby of a massive ($\\sim 10^{10}$ M$_{\\odot}$) subhalo with pericentre comparable to, or within, the shell's apocentre smooths out the substructure, (2) a single flyby of a low mass ($\\lesssim 10^8$ M$_{\\odot}$) has negligible effect, (3) multiple flybys of subhalos derived from a subhalo mass function between $10^7-10^{10}$ M$_{\\odot}$ cause significant damage if deep within the potential, (4) the effects of known perturbers (e.g. Sagittarius) should be detectable and offer constraints on their initial mass. The sensitivity to the populations of subhaloes suggests that we should be able to place an upper limit on the Milky Way's subhalo mass function. |\n",
       "|<p style=\"color:green\"> **ERROR** </p>| <p style=\"color:green\">affiliation error: mpia.affiliation_verifications: 'Heidelberg' keyword not found.</p> |"
      ],
      "text/plain": [
       "<IPython.core.display.Markdown object>"
      ]
     },
     "metadata": {},
     "output_type": "display_data"
    },
    {
     "data": {
      "text/markdown": [
       "\n",
       "|||\n",
       "|---:|:---|\n",
       "| [![arXiv](https://img.shields.io/badge/arXiv-arXiv:2210.05684-b31b1b.svg)](https://arxiv.org/abs/arXiv:2210.05684) | **BICEP / Keck XVI: Characterizing Dust Polarization Through Correlations  with Neutral Hydrogen**  |\n",
       "|| BICEP/Keck Collaboration, et al. -- incl., <mark>S. Harrison</mark>, <mark>S. Henderson</mark> |\n",
       "|*Appeared on*| *2022-10-13*|\n",
       "|*Comments*| *26 pages, 11 figures*|\n",
       "|**Abstract**| We characterize Galactic dust filaments by correlating BICEP/Keck and Planck data with polarization templates based on neutral hydrogen (HI) observations. Dust polarization is important for both our understanding of astrophysical processes in the interstellar medium (ISM) and the search for primordial gravitational waves in the cosmic microwave background (CMB). In the diffuse ISM, HI is strongly correlated with the dust and partly organized into filaments that are aligned with the local magnetic field. We analyze the deep BICEP/Keck data at 95, 150, and 220 GHz, over the low-column-density region of sky where BICEP/Keck has set the best limits on inflationary theories. We separate the HI emission into distinct velocity components and demonstrate a detection of dust polarization correlated with the local Galactic HI but not with the HI associated with Magellanic Stream I. We present a robust, multi-frequency detection of polarized dust emission correlated with the filamentary HI morphology template down to 95 GHz. We find the correlation for frequencies between 95-353 GHz to be between ~10-50% over multipoles $20<\\ell<200$. We measure the spectral index of the filamentary dust component spectral energy distribution to be $\\beta = 1.54 \\pm 0.13$. We find no evidence for decorrelation in this region between the filaments and the rest of the dust field or from the inclusion of dust associated with the intermediate velocity HI. Finally, we explore the morphological parameter space in the HI-based filamentary model. |\n",
       "|<p style=\"color:green\"> **ERROR** </p>| <p style=\"color:green\">affiliation error: mpia.affiliation_verifications: 'Heidelberg' keyword not found.</p> |"
      ],
      "text/plain": [
       "<IPython.core.display.Markdown object>"
      ]
     },
     "metadata": {},
     "output_type": "display_data"
    },
    {
     "data": {
      "text/markdown": [
       "\n",
       "|||\n",
       "|---:|:---|\n",
       "| [![arXiv](https://img.shields.io/badge/arXiv-arXiv:2210.05729-b31b1b.svg)](https://arxiv.org/abs/arXiv:2210.05729) | **Probing the low-mass end of core-collapse supernovae using a sample of  strongly-stripped Calcium-rich Type IIb Supernovae from the Zwicky Transient  Facility**  |\n",
       "|| Kaustav K. Das, et al. -- incl., <mark>Yashvi Sharma</mark>, <mark>Frank J. Masci</mark>, <mark>Harrison Reedy</mark> |\n",
       "|*Appeared on*| *2022-10-13*|\n",
       "|*Comments*| *21 pages, 13 Figures. Submitted to ApJ*|\n",
       "|**Abstract**| The fate of stars in the zero-age main-sequence (ZAMS) range $\\approx 8-12$ Msun is unclear. They could evolve to form white dwarfs or explode as electron-capture supernovae (SNe) or iron core-collapse SNe (CCSNe). Even though the initial mass function indicates that this mass range should account for over 40% of all CCSNe progenitors, few have been observationally confirmed, likely owing to the faintness and rapid evolution of these transients. In this paper, we present a sample of nine Ca-rich/O-poor Type IIb SNe detected by the Zwicky Transient Facility with progenitors likely in this mass range. We perform a holistic analysis of the spectroscopic and photometric properties of the sample. These sources have a flux ratio of [Ca II] $\\lambda \\lambda$7291, 7324 to [O I] $\\lambda \\lambda$6300, 6364 of $\\gtrsim$ 2 in their nebular spectra. Comparing the measured [O I] luminosity ($\\lesssim 10^{39} \\mathrm{erg\\ s^{-1}}$) and derived oxygen mass ($\\lesssim 0.1$ Msun) with theoretical models, we infer that the progenitor ZAMS mass for these explosions is less than 12 Msun. These correspond to He-stars with core masses less than around 3 Msun. We find that the ejecta properties (Mej $\\lesssim 1$ Msun) are also consistent with those expected for such low mass He-stars. The low ejecta mass of these sources indicates a class of strongly-stripped SNe that is a transition between the regular stripped-envelope SNe and ultra-stripped SNe. The progenitor could be stripped by a main sequence companion and result in the formation of a neutron star $-$ main sequence binary. Such binaries have been suggested to be progenitors of neutron star $-$ white dwarf systems that could merge within a Hubble time, and be detectable with LISA. |\n",
       "|<p style=\"color:green\"> **ERROR** </p>| <p style=\"color:green\">affiliation error: mpia.affiliation_verifications: 'Heidelberg' keyword not found.</p> |"
      ],
      "text/plain": [
       "<IPython.core.display.Markdown object>"
      ]
     },
     "metadata": {},
     "output_type": "display_data"
    },
    {
     "data": {
      "text/markdown": [
       "\n",
       "|||\n",
       "|---:|:---|\n",
       "| [![arXiv](https://img.shields.io/badge/arXiv-arXiv:2210.05763-b31b1b.svg)](https://arxiv.org/abs/arXiv:2210.05763) | **GOALS-JWST: Revealing the Buried Star Clusters in the Luminous Infrared  Galaxy VV 114**  |\n",
       "|| <mark>Sean T. Linden</mark>, et al. -- incl., <mark>Lee Armus</mark>, <mark>Michael J. I. Brown</mark>, <mark>Joseph M. Mazzarella</mark> |\n",
       "|*Appeared on*| *2022-10-13*|\n",
       "|*Comments*| *11 pages, 4 figures, 1 table, submitted to the Astrophysical Journal*|\n",
       "|**Abstract**| We present the results of a {\\it James Webb Space Telescope} NIRCam investigation into the young massive star cluster (YMC) population in the luminous infrared galaxy VV 114. We identify 374 compact YMC candidates with a $S/N \\geq 3$, 5, and 5 at F150W, F200W, and F356W respectively. A direct comparison with our {\\it HST} cluster catalog reveals that $\\sim 20\\%$ of these sources are undetected at optical wavelengths. Based on {\\it yggdrasil} stellar population models, we identify 16 YMCs in our {\\it JWST} catalog with F150W-F200W and F200W-F356W colors suggesting they are all very young ($1-4$ Myr), dusty ($A_{V} \\geq 5$), and massive ($10^{5.8} < M_{\\odot} < 10^{6.1}$). The discovery of these `hidden' sources, many of which are found in the `overlap' region between the two nuclei, triples the number of $t < 4 $ Myr clusters detected in VV 114. Extending the cluster age distribution ($dN/d\\tau \\propto \\tau^{\\gamma}$) to the youngest ages, we find a slope of $\\gamma = -1.27 \\pm 0.32$ for $10^{6} < \\tau (\\mathrm{yr}) < 10^{7}$, which is consistent with the previously determined value from $10^{7} < \\tau (\\mathrm{yr}) < 10^{8.5}$, and confirms that VV 114 has a steep age gradient for all massive star clusters across the entire range of cluster ages observed. Finally, the consistency between our {\\it JWST}- and {\\it HST}-derived age distribution slopes indicates that the balance between cluster formation and destruction has not been significantly altered in VV 114 over the last 0.5 Gyr. |\n",
       "|<p style=\"color:green\"> **ERROR** </p>| <p style=\"color:green\">affiliation error: mpia.affiliation_verifications: 'Heidelberg' keyword not found.</p> |"
      ],
      "text/plain": [
       "<IPython.core.display.Markdown object>"
      ]
     },
     "metadata": {},
     "output_type": "display_data"
    },
    {
     "data": {
      "text/markdown": [
       "\n",
       "|||\n",
       "|---:|:---|\n",
       "| [![arXiv](https://img.shields.io/badge/arXiv-arXiv:2210.05777-b31b1b.svg)](https://arxiv.org/abs/arXiv:2210.05777) | **Gas accretion and Ram Pressure Stripping of Haloes in Void Walls**  |\n",
       "|| B. B. Thompson, <mark>R. Smith</mark>, K. Kraljic |\n",
       "|*Appeared on*| *2022-10-13*|\n",
       "|*Comments*| *13 pages, 8 figures*|\n",
       "|**Abstract**| We conduct hydrodynamical cosmological zoom simulations of fourteen voids to study the ability of haloes to accrete gas at different locations throughout the voids at z = 0. Measuring the relative velocity of haloes with respect to their ambient gas, we find that a tenth of the haloes are expected to be unable to accrete external gas due to its fast flow passed them (so called 'fast flow haloes'). These are typically located near void walls. We determine that these haloes have recently crossed the void wall and are still moving away from it. their motion counter to that of ambient gas falling towards the void wall results in fast flows that make external gas accretion very challenging, and often cause partial gas loss via the resultant ram pressures. Using an analytical approach, we model the impact of such ram pressures on the gas inside haloes of different masses. A halo's external gas accretion is typically cut off, with partial stripping of halo gas. For masses below a few times 10$^{9}$ M$_{\\odot}$, their halo gas is heavily truncated but not completely stripped. We identify numerous examples of haloes with a clear jelly-fish like gas morphology, indicating their surrounding gas is being swept away, cutting them off from further external accretion. These results highlight how, even in the relatively low densities of void walls, a fraction of galaxies can interact with large-scale flows in a manner that has consequences for their gas content and ability to accrete gas. |\n",
       "|<p style=\"color:green\"> **ERROR** </p>| <p style=\"color:green\">affiliation error: mpia.affiliation_verifications: 'Heidelberg' keyword not found.</p> |"
      ],
      "text/plain": [
       "<IPython.core.display.Markdown object>"
      ]
     },
     "metadata": {},
     "output_type": "display_data"
    },
    {
     "data": {
      "text/markdown": [
       "\n",
       "|||\n",
       "|---:|:---|\n",
       "| [![arXiv](https://img.shields.io/badge/arXiv-arXiv:2210.05778-b31b1b.svg)](https://arxiv.org/abs/arXiv:2210.05778) | **Oxygen and iron in interstellar dust: an X-ray investigation**  |\n",
       "|| I. Psaradaki, et al. -- incl., <mark>J.W.A. den Herder</mark> |\n",
       "|*Appeared on*| *2022-10-13*|\n",
       "|*Comments*| *A&A accepted, 13 pages, 5 figures*|\n",
       "|**Abstract**| Understanding the chemistry of the interstellar medium (ISM) is fundamental for the comprehension of the Galactic and stellar evolution. X-rays provide an excellent way to study the dust chemical composition and crystallinity along different sight-lines in the Galaxy. In this work we study the dust grain chemistry in the diffuse regions of the interstellar medium in the soft X-ray band (<1 keV). We use newly calculated X-ray dust extinction cross sections, obtained from laboratory data, in order to investigate the oxygen K and iron L shell absorption. We explore the XMM-Newton and Chandra spectra of 5 low-mass X-ray binaries located in the Galactic plane, and we model the gas and dust features of oxygen and iron simultaneously. The dust samples used for this study include silicates with different Mg:Fe ratios, sulfides, iron oxides and metallic iron. Most dust samples are in both amorphous and crystalline lattice configuration. The extinction cross sections have been computed using Mie scattering approximation and assuming a power law dust size distribution. We find that the Mg-rich amorphous pyroxene (Mg0.75Fe0.25SiO3) represents the largest fraction of dust towards most of the X-ray sources, about 70% on average. Additionally, we find that ~15% of the dust column density in our lines of sight is in Fe metallic. We do not find strong evidence for ferromagnetic compounds, such as Fe3O4 or iron sulfides (FeS, FeS2). Our study confirms that the iron is heavily depleted from the gas phase into solids; more than 90% of iron is in dust. The depletion of neutral oxygen is mild, between 10-20% depending on the line of sight. |\n",
       "|<p style=\"color:green\"> **ERROR** </p>| <p style=\"color:green\">affiliation error: mpia.affiliation_verifications: 'Heidelberg' keyword not found.</p> |"
      ],
      "text/plain": [
       "<IPython.core.display.Markdown object>"
      ]
     },
     "metadata": {},
     "output_type": "display_data"
    },
    {
     "data": {
      "text/markdown": [
       "\n",
       "|||\n",
       "|---:|:---|\n",
       "| [![arXiv](https://img.shields.io/badge/arXiv-arXiv:2210.05808-b31b1b.svg)](https://arxiv.org/abs/arXiv:2210.05808) | **The Colibri Telescope Array for KBO Detection through Serendipitous  Stellar Occultations: a Technical Description**  |\n",
       "|| M. J. Mazur, et al. -- incl., <mark>R. A. Brown</mark> |\n",
       "|*Appeared on*| *2022-10-13*|\n",
       "|*Comments*| *17 pages, 8 figures, submitted to Frontiers in Astronomy and Space Sciences*|\n",
       "|**Abstract**| We present the technical design, construction and testing of the Colibri telescope array at Elginfield Observatory near London, Ontario, Canada. Three 50-cm telescopes are arranged in a triangular array and are separated by 110-160 metres. During operation, they will monitor field stars at the intersections of the ecliptic and galactic plane for serendipitous stellar occultations (SSOs) by trans-Neptunian objects (TNOs). At a frame rate of 40 frames per second (fps), Fresnel diffraction in the occultation light curve can be resolved and, with coincident detections, be used to estimate basic properties of the occulting object. Using off-the-shelf components, the Colibri system streams imagery to disk at a rate of 1.5 GB/s for next-day processing by a custom occultation detection pipeline. The imaging system has been tested and is found to perform well, given the moderate site conditions. Limiting magnitudes at 40 fps are found to be about 12.1 (temporal SNR=5, visible light Gaia G band) with time-series standard deviations ranging from about 0.035 mag to >0.2 mag. SNR is observed to decrease linearly with magnitude for stars fainter than about G = 9.5 mag. Brighter than this limit, SNR is constant, suggesting that atmospheric scintillation is the dominant noise source. Astrometric solutions show errors typically less than approximately 0.3 pixels (0.8 arc seconds) without a need for high-order corrections. |\n",
       "|<p style=\"color:green\"> **ERROR** </p>| <p style=\"color:green\">affiliation error: mpia.affiliation_verifications: 'Heidelberg' keyword not found.</p> |"
      ],
      "text/plain": [
       "<IPython.core.display.Markdown object>"
      ]
     },
     "metadata": {},
     "output_type": "display_data"
    },
    {
     "data": {
      "text/markdown": [
       "\n",
       "|||\n",
       "|---:|:---|\n",
       "| [![arXiv](https://img.shields.io/badge/arXiv-arXiv:2210.05842-b31b1b.svg)](https://arxiv.org/abs/arXiv:2210.05842) | **Testing the mean field theory of scalar field dark matter**  |\n",
       "|| <mark>Andrew Eberhardt</mark>, Alvaro Zamora, Michael Kopp, Tom Abel |\n",
       "|*Appeared on*| *2022-10-13*|\n",
       "|*Comments*| *IDM conference proceedings*|\n",
       "|**Abstract**| Scalar field dark matter offers an interesting alternative to the traditional WIMP dark matter picture. Astrophysical and cosmological simulations are useful to constraining the mass of the dark matter particle in this model. This is particularly true at low mass where the wavelike nature of the dark matter particle manifests on astrophysical scales. These simulations typical use a classical field approximation. In this work, we look at extending these simulations to include quantum corrections. We look into both the ways in which large corrections impact the predictions of scalar field dark matter, and the timescales on which these corrections grow large. Corrections tend to lessen density fluctuations and increase the effect of \"quantum pressure\". During collapse, these corrections grow exponentially, quantum corrections would become important in about ~30 dynamical times. This implies that the predictions of classical field simulations may differ from those with quantum corrections for systems with short dynamical times. |\n",
       "|<p style=\"color:green\"> **ERROR** </p>| <p style=\"color:green\">affiliation error: mpia.affiliation_verifications: 'Heidelberg' keyword not found.</p> |"
      ],
      "text/plain": [
       "<IPython.core.display.Markdown object>"
      ]
     },
     "metadata": {},
     "output_type": "display_data"
    },
    {
     "data": {
      "text/markdown": [
       "\n",
       "|||\n",
       "|---:|:---|\n",
       "| [![arXiv](https://img.shields.io/badge/arXiv-arXiv:2210.05919-b31b1b.svg)](https://arxiv.org/abs/arXiv:2210.05919) | **Multiwavelength observations of a partial filament eruption on 13 June  2011**  |\n",
       "|| <mark>Yanjie Zhang</mark>, et al. -- incl., <mark>Qingmin Zhang</mark>, <mark>Dong Li</mark> |\n",
       "|*Appeared on*| *2022-10-13*|\n",
       "|*Comments*| *18 pages, 7 figures, accepted by Solar Physics (SoPh)*|\n",
       "|**Abstract**| In this paper, we report the multiwavelength observations of the partial filament eruption associated with a C1.2 class flare in NOAA active region 11236 on 13 June 2011. The event occurred at the eastern limb in the field of view (FOV) of Atmospheric Imaging Assembly (AIA) on board the Solar Dynamics Observatory (SDO) spacecraft and was close to the disk center in the FOV of Extreme-UltraViolet Imager (EUVI) on board the behind Solar Terrestrial Relations Observatory (STEREO) spacecraft. During eruption, the filament splits into two parts: the major part and runaway part. The major part flows along closed loops and experiences bifurcation at the loop top. Some of the materials move forward and reach the remote footpoint, while others return back to the original footpoint. The runaway part flows along open field lines, which is evidenced by a flare-related type III radio burst. The runaway part also undergoes bifurcation. The upper branch of escapes the corona and evolves into a jet-like narrow coronal mass ejection (CME) at a speed of 324 km s-1, while the lower branch falls back to the solar surface. A schematic cartoon is proposed to explain the event and provides a new mechanism of partial filament eruptions |\n",
       "|<p style=\"color:green\"> **ERROR** </p>| <p style=\"color:green\">affiliation error: mpia.affiliation_verifications: 'Heidelberg' keyword not found.</p> |"
      ],
      "text/plain": [
       "<IPython.core.display.Markdown object>"
      ]
     },
     "metadata": {},
     "output_type": "display_data"
    },
    {
     "data": {
      "text/markdown": [
       "\n",
       "|||\n",
       "|---:|:---|\n",
       "| [![arXiv](https://img.shields.io/badge/arXiv-arXiv:2210.05937-b31b1b.svg)](https://arxiv.org/abs/arXiv:2210.05937) | **The JCMT BISTRO Survey: A Spiral Magnetic Field in a Hub-Filament  Structure, Monoceros R2**  |\n",
       "|| Jihye Hwang, et al. -- incl., <mark>Chang Won Lee</mark>, <mark>Kyoung Hee Kim</mark>, <mark>Hong-Li Liu</mark>, <mark>Jeong-Eun Lee</mark>, <mark>Sang-sung Lee</mark>, <mark>Yong-Hee Lee</mark>, <mark>Hyeseung Lee</mark> |\n",
       "|*Appeared on*| *2022-10-13*|\n",
       "|*Comments*| *This paper is accepted to the ApJ*|\n",
       "|**Abstract**| We present and analyze observations of polarized dust emission at 850 $\\mu$m towards the central 1 pc $\\times$ 1 pc hub-filament structure of Monoceros R2 (Mon R2). The data are obtained with SCUBA-2/POL-2 on the James Clerk Maxwell Telescope (JCMT) as part of the BISTRO (B-fields in Star-forming Region Observations) survey. The orientations of the magnetic field follow the spiral structure of Mon R2, which are well-described by an axisymmetric magnetic field model. We estimate the turbulent component of the magnetic field using the angle difference between our observations and the best-fit model of the underlying large-scale mean magnetic field. This estimate is used to calculate the magnetic field strength using the Davis-Chandrasekhar-Fermi method, for which we also obtain the distribution of volume density and velocity dispersion using a column density map derived from $Herschel$ data and the C$^{18}$O ($J$ = 3-2) data taken with HARP on the JCMT, respectively. We make maps of magnetic field strengths and mass-to-flux ratios, finding that magnetic field strengths vary from 0.02 to 3.64 mG with a mean value of 1.0 $\\pm$ 0.06 mG, and the mean critical mass-to-flux ratio is 0.47 $\\pm$ 0.02. Additionally, the mean Alfv\\'en Mach number is 0.35 $\\pm$ 0.01. This suggests that in Mon R2, magnetic fields provide resistance against large-scale gravitational collapse, and magnetic pressure exceeds turbulent pressure. We also investigate the properties of each filament in Mon R2. Most of the filaments are aligned along the magnetic field direction and are magnetically sub-critical. |\n",
       "|<p style=\"color:green\"> **ERROR** </p>| <p style=\"color:green\">affiliation error: mpia.affiliation_verifications: 'Heidelberg' keyword not found.</p> |"
      ],
      "text/plain": [
       "<IPython.core.display.Markdown object>"
      ]
     },
     "metadata": {},
     "output_type": "display_data"
    },
    {
     "data": {
      "text/markdown": [
       "\n",
       "|||\n",
       "|---:|:---|\n",
       "| [![arXiv](https://img.shields.io/badge/arXiv-arXiv:2210.06109-b31b1b.svg)](https://arxiv.org/abs/arXiv:2210.06109) | **CATCH: Chasing All Transients Constellation Hunters Space Mission**  |\n",
       "|| <mark>Panping Li</mark>, et al. -- incl., <mark>Zhengwei Li</mark>, <mark>Lian Tao</mark>, <mark>Shuang-Nan Zhang</mark>, <mark>Liqiang Qi</mark>, <mark>Juan Zhang</mark>, <mark>Donghua Zhao</mark>, <mark>Dalin Li</mark>, <mark>Gang Li</mark>, <mark>Hongbang Liu</mark>, <mark>Xiaojing Liu</mark>, <mark>Chen Zhang</mark>, <mark>Tianchong Zhang</mark>, <mark>Liang Zhang</mark>, <mark>Xuan Zhang</mark>, <mark>Haisheng Zhao</mark>, <mark>Kang Zhao</mark>, <mark>Qingchang Zhao</mark>, <mark>Shujie Zhao</mark> |\n",
       "|*Appeared on*| *2022-10-13*|\n",
       "|*Comments*| *43 pages, 15 figures, Submitted to Experimental Astronomy*|\n",
       "|**Abstract**| In time-domain astronomy, a substantial number of transients will be discovered by multi-wavelength and multi-messenger observatories, posing a great challenge for follow-up capabilities. We have thus proposed an intelligent X-ray constellation, the Chasing All Transients Constellation Hunters (\\textit{CATCH}) space mission. Consisting of 126 micro-satellites in three types, \\textit{CATCH} will have the capability to perform follow-up observations for a large number of different types of transients simultaneously. Each satellite in the constellation will carry lightweight X-ray optics and use a deployable mast to increase the focal length. The combination of different optics and detector systems enables different types of satellites to have multiform observation capabilities, including timing, spectroscopy, imaging, and polarization. Controlled by the intelligent system, different satellites can cooperate to perform uninterrupted monitoring, all-sky follow-up observations, and scanning observations with a flexible field of view (FOV) and multi-dimensional observations. Therefore, \\textit{CATCH} will be a powerful mission to study the dynamic universe. Here, we present the current design of the spacecraft, optics, detector system, constellation configuration and observing modes, as well as the development plan. |\n",
       "|<p style=\"color:green\"> **ERROR** </p>| <p style=\"color:green\">affiliation error: mpia.affiliation_verifications: 'Heidelberg' keyword not found.</p> |"
      ],
      "text/plain": [
       "<IPython.core.display.Markdown object>"
      ]
     },
     "metadata": {},
     "output_type": "display_data"
    },
    {
     "data": {
      "text/markdown": [
       "\n",
       "|||\n",
       "|---:|:---|\n",
       "| [![arXiv](https://img.shields.io/badge/arXiv-arXiv:2210.06165-b31b1b.svg)](https://arxiv.org/abs/arXiv:2210.06165) | **COCONUT, a novel fast-converging MHD model for solar corona simulations:  II. Assessing the impact of the input magnetic map on space-weather  forecasting at minimum of activity**  |\n",
       "|| Barbara Perri, et al. -- incl., <mark>Fan Zhang</mark> |\n",
       "|*Appeared on*| *2022-10-13*|\n",
       "|*Comments*| *27 pages, 11 figures, Accepted in ApJ*|\n",
       "|**Abstract**| This paper is dedicated to the new implicit unstructured coronal code COCONUT, which aims at providing fast and accurate inputs for space weather forecast as an alternative to empirical models. We use all 20 available magnetic maps of the solar photosphere covering the date of the 2nd of July 2019 which corresponds to a solar eclipse on Earth. We use the same standard pre-processing on all maps, then perform coronal MHD simulations with the same numerical and physical parameters. In the end, we quantify the performance for each map using three indicators from remote-sensing observations: white-light total solar eclipse images for the streamers' edges, EUV synoptic maps for coronal holes and white-light coronagraph images for the heliospheric current sheet. We discuss the performance for space weather forecasts and we show that the choice of the input magnetic map has a strong impact. We find performances between 24% to 85% for the streamers' edges, 24% to 88% for the coronal hole boundaries and a mean deviation between 4 to 12 degrees for the heliospheric current sheet position. We find that the HMI runs are globally performing better on all indicators, with the GONG-ADAPT being the second-best choice. HMI runs perform better for the streamers' edges, GONG-ADAPT for polar coronal holes, HMI synchronic for equatorial coronal holes and for the streamer belt. We especially showcase the importance of the filling of the poles. This demonstrates that the solar poles have to be taken into account even for ecliptic plane previsions. |\n",
       "|<p style=\"color:green\"> **ERROR** </p>| <p style=\"color:green\">affiliation error: mpia.affiliation_verifications: 'Heidelberg' keyword not found.</p> |"
      ],
      "text/plain": [
       "<IPython.core.display.Markdown object>"
      ]
     },
     "metadata": {},
     "output_type": "display_data"
    },
    {
     "data": {
      "text/markdown": [
       "\n",
       "|||\n",
       "|---:|:---|\n",
       "| [![arXiv](https://img.shields.io/badge/arXiv-arXiv:2210.06219-b31b1b.svg)](https://arxiv.org/abs/arXiv:2210.06219) | **Multiple Regions of Nonthermal Quasi-Periodic Pulsations during the  Impulsive Phase of a Solar Flare**  |\n",
       "|| Yingjie Luo, et al. -- incl., <mark>Rohit Sharma</mark> |\n",
       "|*Appeared on*| *2022-10-13*|\n",
       "|*Comments*| *19 pages, 12 figures, accepted for publication in The Astrophysical Journal*|\n",
       "|**Abstract**| Flare-associated quasi-periodic pulsations (QPPs) in radio and X-ray wavelengths, particularly those related to nonthermal electrons, contain important information about the energy release and transport processes during flares. However, the paucity of spatially resolved observations of such QPPs with a fast time cadence has been an obstacle for us to further understand their physical nature. Here, we report observations of such a QPP event occurred during the impulsive phase of a C1.8-class eruptive solar flare using radio imaging spectroscopy data from the Karl G. Jansky Very Large Array (VLA) and complementary X-ray imaging and spectroscopy data. The radio QPPs, observed by the VLA in the 1--2 GHz with a sub-second cadence, are shown as three spatially distinct sources with different physical characteristics. Two radio sources are located near the conjugate footpoints of the erupting magnetic flux rope with opposite senses of polarization. One of the sources displays a QPP behavior with a ~5-s period. The third radio source, located at the top of the post-flare arcade, coincides with the location of an X-ray source and shares a similar period of ~25--45 s. We show that the two oppositely polarized radio sources are likely due to coherent electron cyclotron maser (ECM) emission. On the other hand, the looptop QPP source, observed in both radio and X-rays, is consistent with incoherent gyrosynchrotron and bremsstrahlung emission, respectively. We conclude that the concurrent, but spatially distinct QPP sources must involve multiple mechanisms which operate in different magnetic loop systems and at different periods. |\n",
       "|<p style=\"color:green\"> **ERROR** </p>| <p style=\"color:green\">affiliation error: mpia.affiliation_verifications: 'Heidelberg' keyword not found.</p> |"
      ],
      "text/plain": [
       "<IPython.core.display.Markdown object>"
      ]
     },
     "metadata": {},
     "output_type": "display_data"
    },
    {
     "data": {
      "text/markdown": [
       "\n",
       "|||\n",
       "|---:|:---|\n",
       "| [![arXiv](https://img.shields.io/badge/arXiv-arXiv:2210.06251-b31b1b.svg)](https://arxiv.org/abs/arXiv:2210.06251) | **The evolution of HCO$^{+}$ in molecular clouds using a novel chemical  post-processing algorithm**  |\n",
       "|| M. Panessa, et al. -- incl., <mark>L. Neumann</mark> |\n",
       "|*Appeared on*| *2022-10-13*|\n",
       "|*Comments*| *23 pages including appendix, 20 figures, submitted to MNRAS, comments are welcome*|\n",
       "|**Abstract**| Modeling the internal chemistry of molecular clouds is critical to accurately simulating their evolution. To reduce computational expense, 3D simulations generally restrict their chemical modeling to species with strong heating and cooling effects. We address this by post-processing tracer particles in the SILCC-Zoom molecular cloud simulations. Using a chemical network of 39 species and 299 reactions (including freeze-out of CO and H$_2$O), and a novel iterative algorithm to reconstruct a filled density grid from sparse tracer particle data, we produce time-dependent density distributions for various species. We focus upon the evolution of HCO$^+$, which is a critical formation reactant of CO but is not typically modeled on-the-fly. We analyse the evolution of the tracer particles to assess the regime in which HCO$^+$ production preferentially takes place. We find that the HCO$^+$ content of the cold molecular gas forms in situ around $n_\\textrm{HCO$^+$}\\simeq10^3$-$10^4$ cm$^{-3}$, over a time-scale of approximately 1 Myr, rather than being distributed to this density regime via turbulent mixing from deeper in the cloud. We further show that the dominant HCO$^+$ formation pathway is dependent on the visual extinction, with the reaction H$_3^+$ + CO contributing 90% of the total HCO$^+$ production flux above $A_\\textrm{V,3D}=3$. Using our novel grid reconstruction algorithm, we produce the very first maps of the HCO$^+$ column density, $N$(HCO$^+$), and show that it reaches values as high as $10^{15}$ cm$^{-2}$. We find that 50% of the HCO$^+$ mass is located in an $A_\\textrm{V}$-range of $\\sim$10-30, and in a density range of $10^{3.5}$-$10^{4.5}$ cm$^{-3}$. Finally, we compare our $N$(HCO$^+$) maps to recent observations of W49A and find good agreement. |\n",
       "|<p style=\"color:green\"> **ERROR** </p>| <p style=\"color:green\">affiliation error: mpia.affiliation_verifications: 'Heidelberg' keyword not found.</p> |"
      ],
      "text/plain": [
       "<IPython.core.display.Markdown object>"
      ]
     },
     "metadata": {},
     "output_type": "display_data"
    },
    {
     "data": {
      "text/markdown": [
       "\n",
       "|||\n",
       "|---:|:---|\n",
       "| [![arXiv](https://img.shields.io/badge/arXiv-arXiv:2210.06338-b31b1b.svg)](https://arxiv.org/abs/arXiv:2210.06338) | **Lorentz invariance violation induced threshold anomaly versus very-high  energy cosmic photon emission from GRB20221009A**  |\n",
       "|| <mark>Hao Li</mark>, Bo-Qiang Ma |\n",
       "|*Appeared on*| *2022-10-13*|\n",
       "|*Comments*| *4 latex pages, 2 figures*|\n",
       "|**Abstract**| It is reported that the Large High Altitude Air Shower Observatory (LHAASO) observed very high energy photons from GRB 20221009A, with the highest energy reaching 18 TeV. We find that observation of such high energy photons is a quite nontrivial fact since extragalactic background light could absorb these photons severely and the flux is too weak to be observed. Therefore we discuss the potential new mechanism for us to observe these photons, and suggest that Lorentz invariance violation induced threshold anomaly of the process (\\gamma\\gamma\\to e^-e^+) provides a candidate to explain this phenomenon. |\n",
       "|<p style=\"color:green\"> **ERROR** </p>| <p style=\"color:green\">affiliation error: mpia.affiliation_verifications: 'Heidelberg' keyword not found.</p> |"
      ],
      "text/plain": [
       "<IPython.core.display.Markdown object>"
      ]
     },
     "metadata": {},
     "output_type": "display_data"
    },
    {
     "data": {
      "text/markdown": [
       "\n",
       "|||\n",
       "|---:|:---|\n",
       "| [![arXiv](https://img.shields.io/badge/arXiv-arXiv:2210.06283-b31b1b.svg)](https://arxiv.org/abs/arXiv:2210.06283) | **Use of Superfluid Helium to Observe Directionality of Galactic Dark  Matter**  |\n",
       "|| <mark>George M. Seidel</mark>, Christian Enss |\n",
       "|*Appeared on*| *2022-10-13*|\n",
       "|*Comments*| *4 pages, 0 figures*|\n",
       "|**Abstract**| The quasiparticle propagation away from the track of a highly ionizing particle in superfluid helium at low temperatures has previously been shown to exhibit anisotropy. We discuss the mechanism responsible for this behavior and show that it occurs for nuclear scattering by dark matter for recoil energies down to a few keV, and perhaps lower. This makes it possible to extend WIMP searches with interaction cross sections that reach into the neutrino floor in a meaningful energy range. |\n",
       "|<p style=\"color:green\"> **ERROR** </p>| <p style=\"color:green\">affiliation error: mpia.affiliation_verifications: 'Max' keyword not found.</p> |"
      ],
      "text/plain": [
       "<IPython.core.display.Markdown object>"
      ]
     },
     "metadata": {},
     "output_type": "display_data"
    },
    {
     "data": {
      "text/markdown": [
       "\n",
       "|||\n",
       "|---:|:---|\n",
       "| [![arXiv](https://img.shields.io/badge/arXiv-arXiv:2210.06390-b31b1b.svg)](https://arxiv.org/abs/arXiv:2210.06390) | **Spectral cube extraction for the VLT/SPHERE IFS: Open-source pipeline  with full forward modeling and improved sensitivity**  |\n",
       "|| <mark>Matthias Samland</mark>, et al. |\n",
       "|*Appeared on*| *2022-10-13*|\n",
       "|*Comments*| *17 pages, 11 figures. Software available at: this https URL*|\n",
       "|**Abstract**| We present a new open-source data-reduction pipeline to reconstruct spectral data cubes from raw SPHERE integral-field spectrograph (IFS) data. The pipeline is written in Python and based on the pipeline that was developed for the CHARIS IFS. It introduces several improvements to SPHERE data analysis that ultimately produce significant improvements in postprocessing sensitivity. We first used new data to measure SPHERE lenslet point spread functions (PSFs) at the four laser calibration wavelengths. These lenslet PSFs enabled us to forward-model SPHERE data, to extract spectra using a least-squares fit, and to remove spectral crosstalk using the measured lenslet PSFs. Our approach also reduces the number of required interpolations, both spectral and spatial, and can preserve the original hexagonal lenslet geometry in the SPHERE IFS. In the case of least-squares extraction, no interpolation of the data is performed. We demonstrate this new pipeline on the directly imaged exoplanet 51 Eri b and on observations of the hot white dwarf companion to HD 2133. The extracted spectrum of HD 2133B matches theoretical models, demonstrating spectrophotometric calibration that is good to a few percent. Postprocessing on two 51 Eri b data sets demonstrates a median improvement in sensitivity of 80% and 30% for the 2015 and 2017 data, respectively, compared to the use of cubes reconstructed by the SPHERE Data Center. The largest improvements are seen for poorer observing conditions. The new SPHERE pipeline takes less than three minutes to produce a data cube on a modern laptop, making it practical to reprocess all SPHERE IFS data. |\n",
       "|<p style=\"color:red\"> **ERROR** </p>| <p style=\"color:red\">latex error sequence item 1: expected str instance, TexNode found</p> |"
      ],
      "text/plain": [
       "<IPython.core.display.Markdown object>"
      ]
     },
     "metadata": {},
     "output_type": "display_data"
    }
   ],
   "source": [
    "import datetime\n",
    "today = str(datetime.date.today())\n",
    "logfile = f\"_build/html/logs/log-{today}.md\"\n",
    "\n",
    "\n",
    "with open(logfile, 'w') as logs:\n",
    "    # Success\n",
    "    logs.write(f'# Arxiv on Deck 2: Logs - {today}\\n\\n')\n",
    "    logs.write(\"\"\"* Arxiv had {0:,d} new papers\\n\"\"\".format(len(new_papers)))\n",
    "    logs.write(\"\"\"    * {0:,d} with possible author matches\\n\\n\"\"\".format(len(candidates)))\n",
    "    logs.write(\"## Sucessful papers\\n\\n\")\n",
    "    display(Markdown(\"## Successful papers\"))\n",
    "    success = [k[0] for k in documents]\n",
    "    for candid in candidates:\n",
    "        if candid['identifier'].split(':')[-1] in success:\n",
    "            display(candid)\n",
    "            logs.write(candid.generate_markdown_text() + '\\n\\n')\n",
    "\n",
    "    ## failed\n",
    "    logs.write(\"## Failed papers\\n\\n\")\n",
    "    display(Markdown(\"## Failed papers\"))\n",
    "    failed = sorted(failed, key=lambda x: x[1])\n",
    "    current_reason = \"\"\n",
    "    for paper, reason in failed:\n",
    "        if 'affiliation' in reason:\n",
    "            color = 'green'\n",
    "        else:\n",
    "            color = 'red'\n",
    "        data = Markdown(\n",
    "                paper.generate_markdown_text() + \n",
    "                f'\\n|<p style=\"color:{color:s}\"> **ERROR** </p>| <p style=\"color:{color:s}\">{reason:s}</p> |'\n",
    "               )\n",
    "        if reason != current_reason:\n",
    "            logs.write(f'### {reason:s} \\n\\n')\n",
    "            current_reason = reason\n",
    "        logs.write(data.data + '\\n\\n')\n",
    "        \n",
    "        # only display here the important errors (all in logs)\n",
    "        # if color in ('red',):\n",
    "        display(data)"
   ]
  },
  {
   "cell_type": "markdown",
   "id": "472d20ee",
   "metadata": {
    "papermill": {
     "duration": 0.009862,
     "end_time": "2022-10-13T05:17:22.517048",
     "exception": false,
     "start_time": "2022-10-13T05:17:22.507186",
     "status": "completed"
    },
    "tags": []
   },
   "source": [
    "## Export documents\n",
    "\n",
    "We now write the .md files and export relevant images"
   ]
  },
  {
   "cell_type": "code",
   "execution_count": 7,
   "id": "d426aed9",
   "metadata": {
    "execution": {
     "iopub.execute_input": "2022-10-13T05:17:22.541228Z",
     "iopub.status.busy": "2022-10-13T05:17:22.540532Z",
     "iopub.status.idle": "2022-10-13T05:17:22.551830Z",
     "shell.execute_reply": "2022-10-13T05:17:22.551033Z"
    },
    "papermill": {
     "duration": 0.024582,
     "end_time": "2022-10-13T05:17:22.553623",
     "exception": false,
     "start_time": "2022-10-13T05:17:22.529041",
     "status": "completed"
    },
    "tags": []
   },
   "outputs": [],
   "source": [
    "def export_markdown_summary(md: str, md_fname:str, directory: str):\n",
    "    \"\"\"Export MD document and associated relevant images\"\"\"\n",
    "    import os\n",
    "    import shutil\n",
    "    import re\n",
    "\n",
    "    if (os.path.exists(directory) and not os.path.isdir(directory)):\n",
    "        raise RuntimeError(f\"a non-directory file exists with name {directory:s}\")\n",
    "\n",
    "    if (not os.path.exists(directory)):\n",
    "        print(f\"creating directory {directory:s}\")\n",
    "        os.mkdir(directory)\n",
    "\n",
    "    fig_fnames = (re.compile(r'\\[Fig.*\\]\\((.*)\\)').findall(md) + \n",
    "                  re.compile(r'\\<img src=\"([^>\\s]*)\"[^>]*/>').findall(md))\n",
    "    for fname in fig_fnames:\n",
    "        if 'http' in fname:\n",
    "            # No need to copy online figures\n",
    "            continue\n",
    "        destdir = os.path.join(directory, os.path.dirname(fname))\n",
    "        destfname = os.path.join(destdir, os.path.basename(fname))\n",
    "        try:\n",
    "            os.makedirs(destdir)\n",
    "        except FileExistsError:\n",
    "            pass\n",
    "        shutil.copy(fname, destfname)\n",
    "    with open(os.path.join(directory, md_fname), 'w') as fout:\n",
    "        fout.write(md)\n",
    "    print(\"exported in \", os.path.join(directory, md_fname))\n",
    "    [print(\"    + \" + os.path.join(directory,fk)) for fk in fig_fnames]"
   ]
  },
  {
   "cell_type": "code",
   "execution_count": 8,
   "id": "014d04a4",
   "metadata": {
    "execution": {
     "iopub.execute_input": "2022-10-13T05:17:22.575458Z",
     "iopub.status.busy": "2022-10-13T05:17:22.574772Z",
     "iopub.status.idle": "2022-10-13T05:17:22.583842Z",
     "shell.execute_reply": "2022-10-13T05:17:22.583136Z"
    },
    "papermill": {
     "duration": 0.022483,
     "end_time": "2022-10-13T05:17:22.585450",
     "exception": false,
     "start_time": "2022-10-13T05:17:22.562967",
     "status": "completed"
    },
    "tags": []
   },
   "outputs": [
    {
     "name": "stdout",
     "output_type": "stream",
     "text": [
      "exported in  _build/html/2210.05695.md\n",
      "    + _build/html/tmp_2210.05695/./TrueRate_paper.png\n",
      "    + _build/html/tmp_2210.05695/./rate_CDF_paper.png\n",
      "    + _build/html/tmp_2210.05695/./ALL_flux_LC.png\n"
     ]
    }
   ],
   "source": [
    "for paper_id, md in documents:\n",
    "    export_markdown_summary(md, f\"{paper_id:s}.md\", '_build/html/')"
   ]
  },
  {
   "cell_type": "markdown",
   "id": "f087a0a7",
   "metadata": {
    "papermill": {
     "duration": 0.009991,
     "end_time": "2022-10-13T05:17:22.604782",
     "exception": false,
     "start_time": "2022-10-13T05:17:22.594791",
     "status": "completed"
    },
    "tags": []
   },
   "source": [
    "## Display the papers\n",
    "\n",
    "Not necessary but allows for a quick check."
   ]
  },
  {
   "cell_type": "code",
   "execution_count": 9,
   "id": "fd25f625",
   "metadata": {
    "execution": {
     "iopub.execute_input": "2022-10-13T05:17:22.626348Z",
     "iopub.status.busy": "2022-10-13T05:17:22.625477Z",
     "iopub.status.idle": "2022-10-13T05:17:22.634189Z",
     "shell.execute_reply": "2022-10-13T05:17:22.633466Z"
    },
    "papermill": {
     "duration": 0.021067,
     "end_time": "2022-10-13T05:17:22.635772",
     "exception": false,
     "start_time": "2022-10-13T05:17:22.614705",
     "status": "completed"
    },
    "scrolled": false,
    "tags": []
   },
   "outputs": [
    {
     "data": {
      "text/markdown": [
       "<div class=\"macros\" style=\"visibility:hidden;\">\n",
       "$\\newcommand{\\ensuremath}{}$\n",
       "$\\newcommand{\\xspace}{}$\n",
       "$\\newcommand{\\object}[1]{\\texttt{#1}}$\n",
       "$\\newcommand{\\farcs}{{.}''}$\n",
       "$\\newcommand{\\farcm}{{.}'}$\n",
       "$\\newcommand{\\arcsec}{''}$\n",
       "$\\newcommand{\\arcmin}{'}$\n",
       "$\\newcommand{\\ion}[2]{#1#2}$\n",
       "$\\newcommand{\\textsc}[1]{\\textrm{#1}}$\n",
       "$\\newcommand{\\hl}[1]{\\textrm{#1}}$\n",
       "$\\newcommand{\\vdag}{(v)^\\dagger}$\n",
       "$\\newcommand$\n",
       "$\\newcommand$\n",
       "$\\newcommand{\\raf}[1]{\\textcolor{orange}{#1}}$\n",
       "$\\newcommand{\\NU}{\\affiliation{Center for Interdisciplinary Exploration and Research in Astrophysics (CIERA) and Department of Physics and Astronomy, Northwestern University, 1800 Sherman Ave, Evanston, IL 60201, USA}}$\n",
       "$\\newcommand{\\GSFC}{\\affiliation{NASA Goddard Space Flight Center, University of Maryland, Baltimore County, Greenbelt, MD 20771, USA}}$\n",
       "$\\newcommand{\\CfA}{\\affiliation{Center for Astrophysics\\:|\\:Harvard \\& Smithsonian, 60 Garden St. Cambridge, MA 02138, USA}}$\n",
       "$\\newcommand{\\Einstein}{\\altaffiliation{NASA Einstein Fellow}}$\n",
       "$\\newcommand{\\NASA}{\\altaffiliation{NASA Postdoctoral Fellow}}$\n",
       "$\\newcommand{\\UAH}{\\affiliation{Center for Space Plasma and Aeronomic Research, University of Alabama in Huntsville, 320 Sparkman Drive, Huntsville, AL 35899, USA}}$\n",
       "$\\newcommand{\\USRA}{\\affiliation{Science and Technology Institute, Universities Space Research Association, Huntsville, AL 35805, USA}}$\n",
       "$\\newcommand{\\Arizona}{\\affiliation{University of Arizona, Steward Observatory, 933 N. Cherry Avenue, Tucson, AZ 85721, USA}}$\n",
       "$\\newcommand{\\Bath}{\\affiliation{Department of Physics, University of Bath, Claverton Down, Bath, BA2 7AY, UK}}$\n",
       "$\\newcommand{\\OU}{\\affiliation{Astrophysical Institute, Department of Physics and Astronomy, 251B Clippinger Lab, Ohio University, Athens, OH 45701, USA}}$\n",
       "$\\newcommand{\\Adler}{\\affiliation{The Adler Planetarium, Chicago, IL 60605, USA}}$\n",
       "$\\newcommand{\\GeminiN}{\\affiliation{Gemini Observatory/NSF's NOIRLab, 670 N. A'ohoku Place, Hilo, HI, 96720, USA}}$\n",
       "$\\newcommand{\\UMD}{\\affiliation{Joint Space-Science Institute, University of Maryland, College Park, MD 20742, USA}}$\n",
       "$\\newcommand{\\GWU}{\\affiliation{Department of Physics, The George Washington University, Washington, DC 20052, USA}}$\n",
       "$\\newcommand{\\Leicester}{\\affiliation{School of Physics and Astronomy, University of Leicester, University Road, Leicester, LE1 7RH, UK}}$\n",
       "$\\newcommand{\\Marin}{\\affiliation{College of Marin, 120 Kent Avenue, Kentfield 94904 CA, USA}}$\n",
       "$\\newcommand{\\UVI}{\\affiliation{University of the Virgin Islands, \\#2 Brewers bay road, Charlotte Amalie, 00802 USVI, USA}}$\n",
       "$\\newcommand{\\Radboud}{\\affiliation{Department of Astrophysics/IMAPP, Radboud University, 6525 AJ Nijmegen, The Netherlands}}$\n",
       "$\\newcommand{\\Warwick}{\\affiliation{Department of Physics, University of Warwick, Coventry, CV4 7AL, UK}}$\n",
       "$\\newcommand{\\Birmingham}{\\affiliation{Birmingham Institute for Gravitational Wave Astronomy and School of Physics and Astronomy, University of Birmingham, Birmingham B15 2TT, UK}}$\n",
       "$\\newcommand{\\Edinburgh}{\\affiliation{Institute for Astronomy, University of Edinburgh, Royal Observatory, Blackford Hill, EH9 3HJ, UK}}$\n",
       "$\\newcommand{\\Caltech}{\\affiliation{Cahill Center for Astrophysics, California Institute of Technology, 1200 E. California Blvd. Pasadena, CA 91125, USA}}$\n",
       "$\\newcommand{\\LJMU}{\\affiliation{Astrophysics Research Institute, Liverpool John Moores University, 146 Brownlow Hill, Liverpool L3 5RF, UK}}$\n",
       "$\\newcommand{\\CCA}{\\affiliation{Center for Computational Astrophysics, Flatiron Institute, 162 W. 5th Avenue, New York, NY 10011, USA}}$\n",
       "$\\newcommand{\\Columbia}{\\affiliation{Department of Physics and Columbia Astrophysics Laboratory, Columbia University, New York, NY 10027, USA}}$\n",
       "$\\newcommand{\\CRESST}{\\affiliation{Center for Research and Exploration in Space Science and Technology (CRESST) and NASA Goddard Space Flight Center, Greenbelt, MD 20771, USA}}$\n",
       "$\\newcommand{\\Maryland}{\\affiliation{Department of Physics, University of Maryland, Baltimore County, 1000 Hilltop Circle, Baltimore, MD 21250, USA}}$\n",
       "$\\newcommand{\\MPIA}{\\affiliation{Max-Planck-Institut f\\\"ur Astronomie (MPIA), Königstuhl 17, 69117 Heidelberg, Germany}}$\n",
       "$\\newcommand{\\Berkely}{\\affiliation{Department of Astronomy, University of California, Berkeley, CA 94720-3411, USA}}$\n",
       "$\\newcommand{\\IU}{\\affiliation{Department of Astronomy, Indiana University, Bloomington, IN 47405-7105, USA}}$\n",
       "$\\newcommand{\\Cornell}{\\affiliation{Department of Astronomy, Cornell University, 404 Space Sciences Building, Ithaca, NY 14853, USA}}$\n",
       "$\\newcommand{\\UChicago}{\\affiliation{University of Chicago, 5801 S Ellis Ave, Chicago, IL 60637, USA}}$\n",
       "$\\newcommand{\\Utah}{\\affiliation{Department of Physics and Astronomy, University of Utah, James Fletcher Building, Salt Lake City, UT 84112,USA}}$\n",
       "$\\newcommand{\\}{ra}$\n",
       "$\\newcommand{\\}{dec}$\n",
       "$\\newcommand{\\nod}{\\nodata}$</div>\n",
       "\n",
       "<div class=\"macros\" style=\"visibility:hidden;\">\n",
       "$\\newcommand{$\\ensuremath$}{}$\n",
       "$\\newcommand{$\\xspace$}{}$\n",
       "$\\newcommand{$\\object$}[1]{\\texttt{#1}}$\n",
       "$\\newcommand{$\\farcs$}{{.}''}$\n",
       "$\\newcommand{$\\farcm$}{{.}'}$\n",
       "$\\newcommand{$\\arcsec$}{''}$\n",
       "$\\newcommand{$\\arcmin$}{'}$\n",
       "$\\newcommand{$\\ion$}[2]{#1#2}$\n",
       "$\\newcommand{$\\textsc$}[1]{\\textrm{#1}}$\n",
       "$\\newcommand{$\\hl$}[1]{\\textrm{#1}}$\n",
       "$\\newcommand{$\\vdag$}{(v)^\\dagger}$\n",
       "$\\newcommand$\n",
       "$\\newcommand$\n",
       "$\\newcommand{$\\raf$}[1]{\\textcolor{orange}{#1}}$\n",
       "$\\newcommand{$\\NU$}{\\affiliation{Center for Interdisciplinary Exploration and Research in Astrophysics (CIERA) and Department of Physics and Astronomy, Northwestern University, 1800 Sherman Ave, Evanston, IL 60201, USA}}$\n",
       "$\\newcommand{$\\GSFC$}{\\affiliation{NASA Goddard Space Flight Center, University of Maryland, Baltimore County, Greenbelt, MD 20771, USA}}$\n",
       "$\\newcommand{$\\CfA$}{\\affiliation{Center for Astrophysics\\:|\\:Harvard \\& Smithsonian, 60 Garden St. Cambridge, MA 02138, USA}}$\n",
       "$\\newcommand{$\\Einstein$}{\\altaffiliation{NASA Einstein Fellow}}$\n",
       "$\\newcommand{$\\NASA$}{\\altaffiliation{NASA Postdoctoral Fellow}}$\n",
       "$\\newcommand{$\\UAH$}{\\affiliation{Center for Space Plasma and Aeronomic Research, University of Alabama in Huntsville, 320 Sparkman Drive, Huntsville, AL 35899, USA}}$\n",
       "$\\newcommand{$\\USRA$}{\\affiliation{Science and Technology Institute, Universities Space Research Association, Huntsville, AL 35805, USA}}$\n",
       "$\\newcommand{$\\Arizona$}{\\affiliation{University of Arizona, Steward Observatory, 933 N. Cherry Avenue, Tucson, AZ 85721, USA}}$\n",
       "$\\newcommand{$\\Bath$}{\\affiliation{Department of Physics, University of Bath, Claverton Down, Bath, BA2 7AY, UK}}$\n",
       "$\\newcommand{$\\OU$}{\\affiliation{Astrophysical Institute, Department of Physics and Astronomy, 251B Clippinger Lab, Ohio University, Athens, OH 45701, USA}}$\n",
       "$\\newcommand{$\\Adler$}{\\affiliation{The Adler Planetarium, Chicago, IL 60605, USA}}$\n",
       "$\\newcommand{$\\GeminiN$}{\\affiliation{Gemini Observatory/NSF's NOIRLab, 670 N. A'ohoku Place, Hilo, HI, 96720, USA}}$\n",
       "$\\newcommand{$\\UMD$}{\\affiliation{Joint Space-Science Institute, University of Maryland, College Park, MD 20742, USA}}$\n",
       "$\\newcommand{$\\GWU$}{\\affiliation{Department of Physics, The George Washington University, Washington, DC 20052, USA}}$\n",
       "$\\newcommand{$\\Leicester$}{\\affiliation{School of Physics and Astronomy, University of Leicester, University Road, Leicester, LE1 7RH, UK}}$\n",
       "$\\newcommand{$\\Marin$}{\\affiliation{College of Marin, 120 Kent Avenue, Kentfield 94904 CA, USA}}$\n",
       "$\\newcommand{$\\UVI$}{\\affiliation{University of the Virgin Islands, \\#2 Brewers bay road, Charlotte Amalie, 00802 USVI, USA}}$\n",
       "$\\newcommand{$\\Radboud$}{\\affiliation{Department of Astrophysics/IMAPP, Radboud University, 6525 AJ Nijmegen, The Netherlands}}$\n",
       "$\\newcommand{$\\Warwick$}{\\affiliation{Department of Physics, University of Warwick, Coventry, CV4 7AL, UK}}$\n",
       "$\\newcommand{$\\Birmingham$}{\\affiliation{Birmingham Institute for Gravitational Wave Astronomy and School of Physics and Astronomy, University of Birmingham, Birmingham B15 2TT, UK}}$\n",
       "$\\newcommand{$\\Edinburgh$}{\\affiliation{Institute for Astronomy, University of Edinburgh, Royal Observatory, Blackford Hill, EH9 3HJ, UK}}$\n",
       "$\\newcommand{$\\Caltech$}{\\affiliation{Cahill Center for Astrophysics, California Institute of Technology, 1200 E. California Blvd. Pasadena, CA 91125, USA}}$\n",
       "$\\newcommand{$\\LJMU$}{\\affiliation{Astrophysics Research Institute, Liverpool John Moores University, 146 Brownlow Hill, Liverpool L3 5RF, UK}}$\n",
       "$\\newcommand{$\\CCA$}{\\affiliation{Center for Computational Astrophysics, Flatiron Institute, 162 W. 5th Avenue, New York, NY 10011, USA}}$\n",
       "$\\newcommand{$\\Columbia$}{\\affiliation{Department of Physics and Columbia Astrophysics Laboratory, Columbia University, New York, NY 10027, USA}}$\n",
       "$\\newcommand{$\\CRESST$}{\\affiliation{Center for Research and Exploration in Space Science and Technology (CRESST) and NASA Goddard Space Flight Center, Greenbelt, MD 20771, USA}}$\n",
       "$\\newcommand{$\\Maryland$}{\\affiliation{Department of Physics, University of Maryland, Baltimore County, 1000 Hilltop Circle, Baltimore, MD 21250, USA}}$\n",
       "$\\newcommand{$\\MPIA$}{\\affiliation{Max-Planck-Institut f\\\"ur Astronomie (MPIA), Königstuhl 17, 69117 Heidelberg, Germany}}$\n",
       "$\\newcommand{$\\Berkely$}{\\affiliation{Department of Astronomy, University of California, Berkeley, CA 94720-3411, USA}}$\n",
       "$\\newcommand{$\\IU$}{\\affiliation{Department of Astronomy, Indiana University, Bloomington, IN 47405-7105, USA}}$\n",
       "$\\newcommand{$\\Cornell$}{\\affiliation{Department of Astronomy, Cornell University, 404 Space Sciences Building, Ithaca, NY 14853, USA}}$\n",
       "$\\newcommand{$\\UChicago$}{\\affiliation{University of Chicago, 5801 S Ellis Ave, Chicago, IL 60637, USA}}$\n",
       "$\\newcommand{$\\Utah$}{\\affiliation{Department of Physics and Astronomy, University of Utah, James Fletcher Building, Salt Lake City, UT 84112,USA}}$\n",
       "$\\newcommand{\\}{ra}$\n",
       "$\\newcommand{\\}{dec}$\n",
       "$\\newcommand{$\\nod$}{$\\nod$ata}$</div>\n",
       "\n",
       "\n",
       "\n",
       "<div id=\"title\">\n",
       "\n",
       "# The Jet Opening Angle and Event Rate Distributions of Short Gamma-ray Bursts from Late-time X-ray Afterglows\n",
       "\n",
       "</div>\n",
       "<div id=\"comments\">\n",
       "\n",
       "[![arXiv](https://img.shields.io/badge/arXiv-2210.05695-b31b1b.svg)](https://arxiv.org/abs/2210.05695)<mark>Appeared on: 2022-10-13</mark> - _32 pages, 8 figures, 4 tables (Submitted to ApJ)_\n",
       "\n",
       "</div>\n",
       "<div id=\"authors\">\n",
       "\n",
       "A.~Rouco~Escorial, et al. -- incl., <mark>K.~Paterson</mark>\n",
       "\n",
       "</div>\n",
       "<div id=\"abstract\">\n",
       "\n",
       "**Abstract:** We present a comprehensive study of 29 short gamma-ray bursts (SGRBs) observed$\\approx 0.8-60$days post-burst using\\textit{Chandra}and\\textit{XMM-Newton}. We provide the inferred distributions of SGRB jet opening angles and true event rates to compare against neutron star merger rates. We perform uniform analysis and modeling of their afterglows, obtaining 10 opening angle measurements and 19 lower limits. We report on two new opening angle measurements (SGRBs 050724A and 200411A) and eight updated values, obtaining a median value of$\\langle \\theta_{\\rm j} \\rangle \\approx 6.1^{\\circ}$[-3.2$^{\\circ}$,+9.3$^{\\circ}$](68\\%confidence on the full distribution) from jet measurements alone. For the remaining events, we infer$\\theta_{\\rm j}\\gtrsim 0.5-26^{\\circ}$. We uncover a population of SGRBs with wider jets of$\\theta_{\\rm j} \\gtrsim 10^{\\circ}$(including two measurements of$\\theta_{\\rm j} \\gtrsim 15^{\\circ}$), representing$\\sim 28\\%$of our sample. Coupled with multi-wavelength afterglow information, we derive a total true energy of$\\langle E_{\\rm true, tot} \\rangle \\approx 10^{49}-10^{50}$erg which is consistent with MHD jet launching mechanisms. Furthermore, we determine a range for the beaming-corrected event rate of$\\mathfrak{R}_{\\rm true} \\approx360-1800$Gpc$^{-3}$yr$^{-1}$, set by the inclusion of a population of wide jets on the low end, and the jet measurements alone on the high end. From a comparison with the latest merger rates, our results are consistent with the majority of SGRBs originating from binary neutron star mergers. However, our inferred rates are well above the latest neutron star-black hole merger rates, consistent with at most a small fraction of SGRBs originating from such mergers.\n",
       "\n",
       "</div>\n",
       "\n",
       "<div id=\"div_fig1\">\n",
       "\n",
       "<img src=\"tmp_2210.05695/./TrueRate_paper.png\" alt=\"Fig7\" width=\"100%\"/>\n",
       "\n",
       "**Figure 7. -** \\textit{upper panel:} The SGRB true event rate distributions ($\\mathfrak{R}_{\\rm true}$) derived from the opening angle measurements, $\\langle \\mathfrak{R}_{\\rm true, meas} \\rangle = 1789[-1510,+6334]$ Gpc$^{-3}$ yr$^{-1}$, (orange) and mock, $\\langle \\mathfrak{R}_{\\rm true, mock} \\rangle = 362[-217,+4376]$ Gpc$^{-3}$ yr$^{-1}$, (yellow) samples using the observed rate of $\\mathfrak{R}_{\\rm obs}=10$ Gpc$^{-3}$ yr$^{-1}$. Median values of each distribution are indicated by black vertical lines. \\textit{bottom panel:} We present a more realistic range of values of $\\mathfrak{R}_{\\rm true}$ that extends between the median values of the true event rate distributions derived from the opening angle measurements (vertical black dashed line) and mock samples (vertical grey dashed line). Other published rates are also shown as comparison. In particular, these rates are derived from: the detection of gravitational waves generated by BNS \\citep{Abbott2020b} and NS-BH mergers \\citep{Abbott2021}, SGRBs \\citep{Fong2015a,Jin2018,Dichiara2020}, Galactic BNS \\citep{OShaughnessy2010,Pol2020,Grunthal2021}, and the estimates for the BNS and NS-BH merger rates derived from population synthesis simulations by \\citet{Sarin2022}. 68\\% confidence levels are represented. (*fig:True_Rate*)\n",
       "\n",
       "</div>\n",
       "<div id=\"div_fig2\">\n",
       "\n",
       "<img src=\"tmp_2210.05695/./rate_CDF_paper.png\" alt=\"Fig2\" width=\"100%\"/>\n",
       "\n",
       "**Figure 2. -** The CDFs of true event rates for the opening angle measurement sample (orange solid line) and the mock sample including wide jets (yellow dashed line) assuming an observed local rate of $\\mathfrak{R}_{\\rm obs} \\approx 10$ Gpc$^{-3}$ yr$^{-1}$. Comparing both distributions, we see that a larger number of wider jet opening angles in our sample would lead to a more constrained true event rate median value. (*fig:true_event_rate*)\n",
       "\n",
       "</div>\n",
       "<div id=\"div_fig3\">\n",
       "\n",
       "<img src=\"tmp_2210.05695/./ALL_flux_LC.png\" alt=\"Fig4\" width=\"100%\"/>\n",
       "\n",
       "**Figure 4. -** Unabsorbed X-ray flux ($0.3-10$ keV)  afterglow light curves of the 29 SGRBs in our sample. \\textit{Swift} observations are represented as follows: WT-mode data with light grey thin diamond, and PC-mode data with dark grey circles. \\textit{Chandra} and \\textit{XMM-Newton} detections are depicted with dark blue squares and pink diamonds, respectively. The X-ray flux upper limits (3$\\sigma$) for both observatories are shown with light blue and light pink triangles, respectively. (*fig:latetime_observations*)\n",
       "\n",
       "</div>"
      ],
      "text/plain": [
       "<IPython.core.display.Markdown object>"
      ]
     },
     "metadata": {},
     "output_type": "display_data"
    }
   ],
   "source": [
    "[display(Markdown(k[1])) for k in documents];"
   ]
  },
  {
   "cell_type": "markdown",
   "id": "873873a4",
   "metadata": {
    "papermill": {
     "duration": 0.010066,
     "end_time": "2022-10-13T05:17:22.657041",
     "exception": false,
     "start_time": "2022-10-13T05:17:22.646975",
     "status": "completed"
    },
    "tags": []
   },
   "source": [
    "# Create HTML index"
   ]
  },
  {
   "cell_type": "code",
   "execution_count": 10,
   "id": "cf665672",
   "metadata": {
    "execution": {
     "iopub.execute_input": "2022-10-13T05:17:22.683284Z",
     "iopub.status.busy": "2022-10-13T05:17:22.682581Z",
     "iopub.status.idle": "2022-10-13T05:17:22.696301Z",
     "shell.execute_reply": "2022-10-13T05:17:22.695360Z"
    },
    "papermill": {
     "duration": 0.028609,
     "end_time": "2022-10-13T05:17:22.698163",
     "exception": false,
     "start_time": "2022-10-13T05:17:22.669554",
     "status": "completed"
    },
    "tags": []
   },
   "outputs": [
    {
     "name": "stdout",
     "output_type": "stream",
     "text": [
      "62  publications in the last 7 days.\n",
      "\t _build/html/2210.05695.md\n",
      "\t _build/html/2210.05595.md\n",
      "\t _build/html/2210.05505.md\n",
      "\t _build/html/2210.04721.md\n",
      "\t _build/html/2210.03615.md\n",
      "\t _build/html/2210.01811.md\n",
      "\t _build/html/2210.01809.md\n",
      "\t _build/html/2210.01556.md\n",
      "\t _build/html/2210.00863.md\n",
      "\t _build/html/2210.00560.md\n",
      "\t _build/html/2209.15403.md\n",
      "\t _build/html/2209.15110.md\n",
      "\t _build/html/2209.14410.md\n",
      "\t _build/html/2209.14396.md\n",
      "\t _build/html/2209.13717.md\n",
      "\t _build/html/2209.13336.md\n",
      "\t _build/html/2209.12906.md\n",
      "\t _build/html/2209.11781.md\n",
      "\t _build/html/2209.11602.md\n",
      "\t _build/html/2209.11248.md\n",
      "\t _build/html/2209.11096.md\n",
      "\t _build/html/2209.10618.md\n",
      "\t _build/html/2209.09914.md\n",
      "\t _build/html/2209.09823.md\n",
      "\t _build/html/2209.08242.md\n",
      "\t _build/html/2209.08120.md\n",
      "\t _build/html/2209.08106.md\n",
      "\t _build/html/2209.07962.md\n",
      "\t _build/html/2209.07931.md\n",
      "\t _build/html/2209.06833.md\n",
      "\t _build/html/2209.05814.md\n",
      "\t _build/html/2209.05593.md\n",
      "\t _build/html/2209.04304.md\n",
      "\t _build/html/2209.03367.md\n",
      "\t _build/html/2209.02872.md\n",
      "\t _build/html/2209.02725.md\n",
      "\t _build/html/2209.02722.md\n",
      "\t _build/html/2209.02092.md\n",
      "\t _build/html/2209.01125.md\n",
      "\t _build/html/2209.00828.md\n",
      "\t _build/html/2209.00363.md\n",
      "\t _build/html/2208.14927.md\n",
      "\t _build/html/2208.09335.md\n",
      "\t _build/html/2208.08872.md\n",
      "\t _build/html/2204.06393.md\n",
      "\t _build/html/2204.03335.md\n",
      "\t _build/html/2204.03253.md\n",
      "\t _build/html/2204.02998.md\n",
      "\t _build/html/2204.02109.md\n",
      "\t _build/html/2204.02017.md\n",
      "\t _build/html/2204.01824.md\n",
      "\t _build/html/2204.01758.md\n",
      "\t _build/html/2204.01245.md\n",
      "\t _build/html/2204.00793.md\n",
      "\t _build/html/2204.00342.md\n",
      "\t _build/html/2203.16959.md\n",
      "\t _build/html/2203.16856.md\n",
      "\t _build/html/2203.16735.md\n",
      "\t _build/html/2203.16734.md\n",
      "\t _build/html/2203.16504.md\n",
      "\t _build/html/2203.15822.md\n",
      "\t _build/html/2203.15811.md\n"
     ]
    }
   ],
   "source": [
    "from datetime import datetime, timedelta, timezone\n",
    "from glob import glob\n",
    "\n",
    "files = glob('_build/html/*.md')\n",
    "days = 7\n",
    "now = datetime.today()\n",
    "res = []\n",
    "for fk in files:\n",
    "    stat_result = os.stat(fk).st_ctime\n",
    "    modified = datetime.fromtimestamp(stat_result, tz=timezone.utc).replace(tzinfo=None)\n",
    "    delta = now.today() - modified\n",
    "    if delta <= timedelta(days=days):\n",
    "        res.append((delta.seconds, fk))\n",
    "res = [k[1] for k in reversed(sorted(res, key=lambda x:x[1]))]\n",
    "npub = len(res)\n",
    "print(len(res), f\" publications in the last {days:d} days.\")\n",
    "[ print('\\t', k) for k in res ];"
   ]
  },
  {
   "cell_type": "code",
   "execution_count": 11,
   "id": "52ca0208",
   "metadata": {
    "execution": {
     "iopub.execute_input": "2022-10-13T05:17:22.723936Z",
     "iopub.status.busy": "2022-10-13T05:17:22.723186Z",
     "iopub.status.idle": "2022-10-13T05:17:22.732982Z",
     "shell.execute_reply": "2022-10-13T05:17:22.732236Z"
    },
    "papermill": {
     "duration": 0.02649,
     "end_time": "2022-10-13T05:17:22.735380",
     "exception": false,
     "start_time": "2022-10-13T05:17:22.708890",
     "status": "completed"
    },
    "scrolled": false,
    "tags": []
   },
   "outputs": [],
   "source": [
    "def create_carousel(npub=4):\n",
    "    \"\"\" Generate the HTML code for a carousel with `npub` slides \"\"\"\n",
    "    carousel = [\"\"\"<section class=\"carousel\" aria-label=\"Gallery\">\"\"\",\n",
    "                \"\"\"  <ol class=\"carousel__viewport\">\"\"\",\n",
    "    ]\n",
    "    for k in range(1, npub + 1):\n",
    "        prev_ = k - 1\n",
    "        next_ = k + 1\n",
    "        if prev_ <= 0:\n",
    "            prev_ = npub\n",
    "        if next_ > npub:\n",
    "            next_ = 1\n",
    "        text  = f\"\"\"    <li id=\"carousel__slide{k}\" tabindex=\"0\" class=\"carousel__slide\">\\n\"\"\"\n",
    "        text += f\"\"\"       <div class=\"carousel__snapper\">\\n\"\"\"\n",
    "        text += f\"\"\"         <a href=\"#carousel__slide{prev_}\" class=\"carousel__prev\">Go to previous slide</a>\\n\"\"\"\n",
    "        text += f\"\"\"         <a href=\"#carousel__slide{next_}\" class=\"carousel__next\">Go to next slide</a>\\n\"\"\"\n",
    "        text += f\"\"\"         <div id=\"slide{k}_content\" class=\"md_view\" >Content {k}</div>\\n\"\"\"\n",
    "        text += f\"\"\"       </div>\\n\"\"\"\n",
    "        text += f\"\"\"    </li>\"\"\"\n",
    "        carousel.append(text)\n",
    "\n",
    "    carousel.extend([\n",
    "        \"\"\"  </ol>\"\"\",\n",
    "        \"\"\"  <aside class=\"carousel__navigation\">\"\"\",\n",
    "        \"\"\"    <ol class=\"carousel__navigation-list\">\"\"\"])\n",
    "\n",
    "    for k in range(1, npub + 1):\n",
    "        text  = f\"\"\"      <li class=\"carousel__navigation-item\">\\n\"\"\"\n",
    "        text += f\"\"\"        <a href=\"#carousel__slide{k}\" class=\"carousel__navigation-button\">Go to {k}</a>\\n\"\"\"\n",
    "        text += f\"\"\"      </li>\"\"\"\n",
    "        carousel.append(text)\n",
    "    carousel.extend([\"\"\"    </ol>\"\"\", \"\"\"  </aside>\"\"\", \"\"\"</section>\"\"\"])\n",
    "\n",
    "    return '\\n'.join(carousel)"
   ]
  },
  {
   "cell_type": "code",
   "execution_count": 12,
   "id": "a6eac5b6",
   "metadata": {
    "execution": {
     "iopub.execute_input": "2022-10-13T05:17:22.762533Z",
     "iopub.status.busy": "2022-10-13T05:17:22.762193Z",
     "iopub.status.idle": "2022-10-13T05:17:22.770269Z",
     "shell.execute_reply": "2022-10-13T05:17:22.769277Z"
    },
    "papermill": {
     "duration": 0.022889,
     "end_time": "2022-10-13T05:17:22.772285",
     "exception": false,
     "start_time": "2022-10-13T05:17:22.749396",
     "status": "completed"
    },
    "scrolled": false,
    "tags": []
   },
   "outputs": [],
   "source": [
    "carousel = create_carousel(npub)\n",
    "docs = ', '.join(['\"{0:s}\"'.format(k.split('/')[-1]) for k in res])\n",
    "slides = ', '.join([f'\"slide{k}_content\"' for k in range(1, npub + 1)])\n",
    "\n",
    "script = f\"\"\"\n",
    "const docs = [{docs}]\n",
    "\n",
    "const slides = [{slides}]\n",
    "\"\"\" + \"\"\"\n",
    "async function run() {\n",
    "    for (let i = 0; i < docs.length; i++) {\n",
    "        let file = await fetch(docs[i]);\n",
    "        let text = await file.text()\n",
    "        document.getElementById(slides[i]).innerHTML =\n",
    "            marked.parse(text);\n",
    "    }\n",
    "    hljs.highlightAll();\n",
    "}\n",
    "run()\n",
    "\"\"\"\n",
    "\n",
    "page = f\"\"\"<!doctype html>\n",
    "<html lang=\"en\">\n",
    "\n",
    "<head>\n",
    "  <meta charset=\"utf-8\">\n",
    "  <meta name=\"viewport\" content=\"width=device-width, initial-scale=1\">\n",
    "  <!-- Bootstrap CSS -->\n",
    "  <link href=\"https://cdn.jsdelivr.net/npm/bootstrap@5.0.2/dist/css/bootstrap.min.css\" rel=\"stylesheet\"\n",
    "   integrity=\"sha384-EVSTQN3/azprG1Anm3QDgpJLIm9Nao0Yz1ztcQTwFspd3yD65VohhpuuCOmLASjC\" crossorigin=\"anonymous\">\n",
    "  <!-- highlight.js CSS -->\n",
    "  <link rel=\"stylesheet\" href=\"https://cdnjs.cloudflare.com/ajax/libs/highlight.js/11.1.0/styles/default.min.css\">\n",
    "  <!-- Mathjax 3 -->\n",
    "  <script type=\"text/javascript\" id=\"MathJax-config\" src=\"mathjax_config.js\"> </script>\n",
    "  <script type=\"text/javascript\" id=\"MathJax-script\" async \n",
    "    src=\"https://cdn.jsdelivr.net/npm/mathjax@3/es5/tex-mml-chtml.js\">\n",
    "  </script>\n",
    "  <link rel=\"stylesheet\" href=\"index_carousel.css\">\n",
    "  <link rel=\"icon\" type=\"image/x-icon\" href=\"https://www.mpia.de/assets/touch-icon-32x32-a66937bcebc4e8894ebff1f41a366c7c7220fd97a38869ee0f2db65a9f59b6c1.png\">\n",
    "  <title>MPIA Arxiv on deck!</title>\n",
    "</head>\n",
    "\n",
    "<body>\n",
    "  <div id=\"header\"> <img src=\"header_banner.png\" width=\"100%\"></div>\n",
    "  <div id=\"suptitle\"> 7-day archives </div>\n",
    "  <div id=\"info\">\n",
    "    <img src=\"https://pngimg.com/uploads/github/github_PNG58.png\" height=30rem></img>\n",
    "    <a href=https://github.com/mpi-astronomy/arxiv_display style=\"color:black;\">github/mpi-astronomy/arxiv_display</a> \n",
    "  </div>\n",
    "  {carousel:s}\n",
    "</body>\n",
    "\n",
    "<!-- Render Markdown -->\n",
    "\n",
    "<body>\n",
    "  <!-- highlight.js: https://highlightjs.org/download/ -->\n",
    "  <script src=\"https://cdnjs.cloudflare.com/ajax/libs/highlight.js/11.5.0/highlight.min.js\"></script>\n",
    "  <!-- marked.js -->\n",
    "  <script src=\"https://cdn.jsdelivr.net/npm/marked/marked.min.js\"></script>\n",
    "  <script>{script:s}</script>\n",
    "</body>\n",
    "</html>\n",
    "\"\"\"\n",
    "with open(\"_build/html/index_7days.html\", 'w') as fout:\n",
    "    fout.write(page)"
   ]
  },
  {
   "cell_type": "markdown",
   "id": "1cebacbc",
   "metadata": {
    "papermill": {
     "duration": 0.01107,
     "end_time": "2022-10-13T05:17:22.794472",
     "exception": false,
     "start_time": "2022-10-13T05:17:22.783402",
     "status": "completed"
    },
    "tags": []
   },
   "source": [
    "# Debugging papers"
   ]
  },
  {
   "cell_type": "raw",
   "id": "debe7cc6",
   "metadata": {
    "papermill": {
     "duration": 0.010292,
     "end_time": "2022-10-13T05:17:22.815339",
     "exception": false,
     "start_time": "2022-10-13T05:17:22.805047",
     "status": "completed"
    },
    "tags": []
   },
   "source": [
    "raise NotImplementedError(\"Manual Stop\")"
   ]
  },
  {
   "cell_type": "raw",
   "id": "eb169192",
   "metadata": {
    "papermill": {
     "duration": 0.010427,
     "end_time": "2022-10-13T05:17:22.836227",
     "exception": false,
     "start_time": "2022-10-13T05:17:22.825800",
     "status": "completed"
    },
    "scrolled": true,
    "tags": []
   },
   "source": [
    "from IPython.display import display, Markdown\n",
    "from TexSoup import TexSoup\n",
    "import re\n",
    "\n",
    "def bracket_error(source: str):\n",
    "    \"\"\" Find problematic portions of the document \"\"\"\n",
    "    \n",
    "    print(\"len(source)\", len(source))\n",
    "    \n",
    "    # Checking header\n",
    "    begin_doc = next(re.finditer(r'\\\\begin\\{document\\}', doc.source)).span()[1]\n",
    "    header = source[:begin_doc]\n",
    "    text = header + r\"\\n\\end{document}\"\n",
    "\n",
    "    try:\n",
    "        # print(\"Header check... \", end='')\n",
    "        TexSoup(text)\n",
    "        display(Markdown(f\"**[OK]** - Header\"))\n",
    "    except:\n",
    "        raise RuntimeError(\"Error in the header\")\n",
    "        \n",
    "    # Check the text per section until the end.\n",
    "    # Do not stop and try them all.\n",
    "    \n",
    "    problematic_text = []\n",
    "    \n",
    "    sections = ([(0, begin_doc, 'until first section')] + \n",
    "                [(g.span()[0], g.span()[1], g.group()) for g in re.finditer(r'\\\\section\\{.*\\}', source)] +\n",
    "                [(g.span()[0], g.span()[1], g.group()) for g in re.finditer(r'\\\\begin\\{appendix\\}', source)]\n",
    "               )\n",
    "    sections.append([len(source), len(source), 'end'])\n",
    "    \n",
    "    sections = sorted(sections, key=lambda x: x[0])\n",
    "    \n",
    "    prev_pos, prev_name = (0, 'header')\n",
    "    parsed = []\n",
    "    \n",
    "    for span, span_end, name in sections:\n",
    "\n",
    "        if span - prev_pos <= 0:\n",
    "            continue\n",
    "            \n",
    "\n",
    "        text = source[prev_pos:span]\n",
    "        if prev_pos > begin_doc:\n",
    "            text = r\"\\n\\begin{document}\" + text + r\"\\n\\end{document}\"\n",
    "        else:\n",
    "            text = text + r\"\\n\\end{document}\"\n",
    "        try:\n",
    "            #print(f\"{prev_pos}:{prev_name}-->{span}:{name} check... \", end='')\n",
    "            parsed.append(TexSoup(text, tolerance=1))  # allow not ending env\n",
    "            display(Markdown(f\"**[OK]** - *{prev_pos}*:{prev_name} &rarr; *{span}*:{name}\"))\n",
    "            # print(\"ok\")\n",
    "\n",
    "            prev_pos = span\n",
    "            prev_name = name\n",
    "        except:\n",
    "            # print(f\"error between {prev_pos} and {span}\")\n",
    "            display(Markdown(f\"**[ERR]** *{prev_pos}*:{prev_name} &rarr; *{span}*:{name}\"))\n",
    "            problematic_text.append((prev_pos, source[prev_pos:span]))\n",
    "            prev_pos = span\n",
    "            prev_name = name\n",
    "            # raise\n",
    "    return problematic_text, parsed\n",
    "\n",
    "\n",
    "def check_environment(text, offset=0):\n",
    "    \"\"\" Check environment \"\"\"\n",
    "    env = re.compile(r\"\\\\begin\\{(?P<env>.*)\\}(.*)\\\\end\\{(?P=env)\\}\", re.DOTALL)\n",
    "\n",
    "    for match in env.finditer(text):\n",
    "        beg, end = match.span()\n",
    "        beg += offset\n",
    "        end += offset\n",
    "        envname = match.groups()[0]\n",
    "        try:\n",
    "            latex.TexSoup(match.group())\n",
    "        except Exception as e:\n",
    "            display(e)\n",
    "            print(f\"Error in {envname:s} between {beg} and {end}\")\n",
    "            return match.groups()[1], beg, end"
   ]
  },
  {
   "cell_type": "raw",
   "id": "2315e835",
   "metadata": {
    "papermill": {
     "duration": 0.010767,
     "end_time": "2022-10-13T05:17:22.857194",
     "exception": false,
     "start_time": "2022-10-13T05:17:22.846427",
     "status": "completed"
    },
    "scrolled": false,
    "tags": []
   },
   "source": [
    "import importlib\n",
    "importlib.reload(latex)\n",
    "which = \"2204.03253\"\n",
    "paper_id = f'{which:s}'\n",
    "folder = f'tmp_{paper_id:s}'\n",
    "\n",
    "if not os.path.isdir(folder):\n",
    "    folder = retrieve_document_source(f\"{paper_id}\", f'tmp_{paper_id}')\n",
    "\n",
    "try:\n",
    "    doc = latex.LatexDocument(folder, validation=validation)    \n",
    "except AffiliationError as affilerror:\n",
    "    msg = f\"ArXiv:{paper_id:s} is not an MPIA paper... \" + str(affilerror)\n",
    "    print(msg)\n",
    "\n",
    "\n",
    "# Hack because sometimes author parsing does not work well\n",
    "if (len(doc.authors) != len(paper['authors'])):\n",
    "    doc._authors = paper['authors']\n",
    "if (doc.abstract) in (None, ''):\n",
    "    doc._abstract = paper['abstract']\n",
    "\n",
    "doc.comment = get_markdown_badge(paper_id) + \" _\" + paper['comments'] + \"_\"\n",
    "doc.highlight_authors_in_list(hl_list)\n",
    "\n",
    "full_md = doc.generate_markdown_text()"
   ]
  },
  {
   "cell_type": "raw",
   "id": "dd3781db",
   "metadata": {
    "papermill": {
     "duration": 0.010319,
     "end_time": "2022-10-13T05:17:22.878152",
     "exception": false,
     "start_time": "2022-10-13T05:17:22.867833",
     "status": "completed"
    },
    "scrolled": false,
    "tags": []
   },
   "source": [
    "doc"
   ]
  },
  {
   "cell_type": "raw",
   "id": "c6eed834",
   "metadata": {
    "papermill": {
     "duration": 0.010731,
     "end_time": "2022-10-13T05:17:22.899443",
     "exception": false,
     "start_time": "2022-10-13T05:17:22.888712",
     "status": "completed"
    },
    "tags": []
   },
   "source": [
    "# [check_environment(k) for k in bracket_error(doc.source)]\n",
    "_, _, a = latex.get_content_per_section(doc.source, verbose=True)\n",
    "if not a:\n",
    "    print(\"no issues per section\")\n",
    "for ak in a:\n",
    "    r = check_environment(ak[1], offset=ak[0])\n",
    "    print(r[1], r[2])\n",
    "    print(r[0])"
   ]
  },
  {
   "cell_type": "code",
   "execution_count": null,
   "id": "71ce768a",
   "metadata": {
    "papermill": {
     "duration": 0.010716,
     "end_time": "2022-10-13T05:17:22.921239",
     "exception": false,
     "start_time": "2022-10-13T05:17:22.910523",
     "status": "completed"
    },
    "tags": []
   },
   "outputs": [],
   "source": []
  }
 ],
 "metadata": {
  "kernelspec": {
   "display_name": "Python 3.10.6 64-bit",
   "language": "python",
   "name": "python3"
  },
  "language_info": {
   "codemirror_mode": {
    "name": "ipython",
    "version": 3
   },
   "file_extension": ".py",
   "mimetype": "text/x-python",
   "name": "python",
   "nbconvert_exporter": "python",
   "pygments_lexer": "ipython3",
   "version": "3.9.14"
  },
  "papermill": {
   "default_parameters": {},
   "duration": 126.058906,
   "end_time": "2022-10-13T05:17:23.257778",
   "environment_variables": {},
   "exception": null,
   "input_path": "MPIA daily digest.ipynb",
   "output_path": "log.ipynb",
   "parameters": {},
   "start_time": "2022-10-13T05:15:17.198872",
   "version": "2.4.0"
  },
  "vscode": {
   "interpreter": {
    "hash": "e7370f93d1d0cde622a1f8e1c04877d8463912d04d973331ad4851f04de6915a"
   }
  },
  "widgets": {
   "application/vnd.jupyter.widget-state+json": {
    "state": {
     "3490b1eb926b4c949ab31000a1ef4ba5": {
      "model_module": "@jupyter-widgets/base",
      "model_module_version": "2.0.0",
      "model_name": "LayoutModel",
      "state": {
       "_model_module": "@jupyter-widgets/base",
       "_model_module_version": "2.0.0",
       "_model_name": "LayoutModel",
       "_view_count": null,
       "_view_module": "@jupyter-widgets/base",
       "_view_module_version": "2.0.0",
       "_view_name": "LayoutView",
       "align_content": null,
       "align_items": null,
       "align_self": null,
       "border_bottom": null,
       "border_left": null,
       "border_right": null,
       "border_top": null,
       "bottom": null,
       "display": null,
       "flex": null,
       "flex_flow": null,
       "grid_area": null,
       "grid_auto_columns": null,
       "grid_auto_flow": null,
       "grid_auto_rows": null,
       "grid_column": null,
       "grid_gap": null,
       "grid_row": null,
       "grid_template_areas": null,
       "grid_template_columns": null,
       "grid_template_rows": null,
       "height": null,
       "justify_content": null,
       "justify_items": null,
       "left": null,
       "margin": null,
       "max_height": null,
       "max_width": null,
       "min_height": null,
       "min_width": null,
       "object_fit": null,
       "object_position": null,
       "order": null,
       "overflow": null,
       "padding": null,
       "right": null,
       "top": null,
       "visibility": null,
       "width": null
      }
     },
     "4ccf3d302e5a431ab452a25bf688f296": {
      "model_module": "@jupyter-widgets/base",
      "model_module_version": "2.0.0",
      "model_name": "LayoutModel",
      "state": {
       "_model_module": "@jupyter-widgets/base",
       "_model_module_version": "2.0.0",
       "_model_name": "LayoutModel",
       "_view_count": null,
       "_view_module": "@jupyter-widgets/base",
       "_view_module_version": "2.0.0",
       "_view_name": "LayoutView",
       "align_content": null,
       "align_items": null,
       "align_self": null,
       "border_bottom": null,
       "border_left": null,
       "border_right": null,
       "border_top": null,
       "bottom": null,
       "display": null,
       "flex": null,
       "flex_flow": null,
       "grid_area": null,
       "grid_auto_columns": null,
       "grid_auto_flow": null,
       "grid_auto_rows": null,
       "grid_column": null,
       "grid_gap": null,
       "grid_row": null,
       "grid_template_areas": null,
       "grid_template_columns": null,
       "grid_template_rows": null,
       "height": null,
       "justify_content": null,
       "justify_items": null,
       "left": null,
       "margin": null,
       "max_height": null,
       "max_width": null,
       "min_height": null,
       "min_width": null,
       "object_fit": null,
       "object_position": null,
       "order": null,
       "overflow": null,
       "padding": null,
       "right": null,
       "top": null,
       "visibility": null,
       "width": null
      }
     },
     "5732b824f10f47c7a34e169b5c7d1246": {
      "model_module": "@jupyter-widgets/controls",
      "model_module_version": "2.0.0",
      "model_name": "ProgressStyleModel",
      "state": {
       "_model_module": "@jupyter-widgets/controls",
       "_model_module_version": "2.0.0",
       "_model_name": "ProgressStyleModel",
       "_view_count": null,
       "_view_module": "@jupyter-widgets/base",
       "_view_module_version": "2.0.0",
       "_view_name": "StyleView",
       "bar_color": null,
       "description_width": ""
      }
     },
     "5905f3ac87d549afbd9032b1386d52ac": {
      "model_module": "@jupyter-widgets/controls",
      "model_module_version": "2.0.0",
      "model_name": "HTMLModel",
      "state": {
       "_dom_classes": [],
       "_model_module": "@jupyter-widgets/controls",
       "_model_module_version": "2.0.0",
       "_model_name": "HTMLModel",
       "_view_count": null,
       "_view_module": "@jupyter-widgets/controls",
       "_view_module_version": "2.0.0",
       "_view_name": "HTMLView",
       "description": "",
       "description_allow_html": false,
       "layout": "IPY_MODEL_4ccf3d302e5a431ab452a25bf688f296",
       "placeholder": "​",
       "style": "IPY_MODEL_9d48c8a6b0d14687a683c5eb734071db",
       "tabbable": null,
       "tooltip": null,
       "value": "100%"
      }
     },
     "623220e64455479d81da5180d6073f84": {
      "model_module": "@jupyter-widgets/base",
      "model_module_version": "2.0.0",
      "model_name": "LayoutModel",
      "state": {
       "_model_module": "@jupyter-widgets/base",
       "_model_module_version": "2.0.0",
       "_model_name": "LayoutModel",
       "_view_count": null,
       "_view_module": "@jupyter-widgets/base",
       "_view_module_version": "2.0.0",
       "_view_name": "LayoutView",
       "align_content": null,
       "align_items": null,
       "align_self": null,
       "border_bottom": null,
       "border_left": null,
       "border_right": null,
       "border_top": null,
       "bottom": null,
       "display": null,
       "flex": null,
       "flex_flow": null,
       "grid_area": null,
       "grid_auto_columns": null,
       "grid_auto_flow": null,
       "grid_auto_rows": null,
       "grid_column": null,
       "grid_gap": null,
       "grid_row": null,
       "grid_template_areas": null,
       "grid_template_columns": null,
       "grid_template_rows": null,
       "height": null,
       "justify_content": null,
       "justify_items": null,
       "left": null,
       "margin": null,
       "max_height": null,
       "max_width": null,
       "min_height": null,
       "min_width": null,
       "object_fit": null,
       "object_position": null,
       "order": null,
       "overflow": null,
       "padding": null,
       "right": null,
       "top": null,
       "visibility": null,
       "width": null
      }
     },
     "74175e74e1614dcbbfac2fcc6fcd0f99": {
      "model_module": "@jupyter-widgets/controls",
      "model_module_version": "2.0.0",
      "model_name": "FloatProgressModel",
      "state": {
       "_dom_classes": [],
       "_model_module": "@jupyter-widgets/controls",
       "_model_module_version": "2.0.0",
       "_model_name": "FloatProgressModel",
       "_view_count": null,
       "_view_module": "@jupyter-widgets/controls",
       "_view_module_version": "2.0.0",
       "_view_name": "ProgressView",
       "bar_style": "success",
       "description": "",
       "description_allow_html": false,
       "layout": "IPY_MODEL_3490b1eb926b4c949ab31000a1ef4ba5",
       "max": 18.0,
       "min": 0.0,
       "orientation": "horizontal",
       "style": "IPY_MODEL_5732b824f10f47c7a34e169b5c7d1246",
       "tabbable": null,
       "tooltip": null,
       "value": 18.0
      }
     },
     "9d48c8a6b0d14687a683c5eb734071db": {
      "model_module": "@jupyter-widgets/controls",
      "model_module_version": "2.0.0",
      "model_name": "HTMLStyleModel",
      "state": {
       "_model_module": "@jupyter-widgets/controls",
       "_model_module_version": "2.0.0",
       "_model_name": "HTMLStyleModel",
       "_view_count": null,
       "_view_module": "@jupyter-widgets/base",
       "_view_module_version": "2.0.0",
       "_view_name": "StyleView",
       "background": null,
       "description_width": "",
       "font_size": null,
       "text_color": null
      }
     },
     "ae956024726b4945b3a8ba8c7f9e8a57": {
      "model_module": "@jupyter-widgets/controls",
      "model_module_version": "2.0.0",
      "model_name": "HTMLStyleModel",
      "state": {
       "_model_module": "@jupyter-widgets/controls",
       "_model_module_version": "2.0.0",
       "_model_name": "HTMLStyleModel",
       "_view_count": null,
       "_view_module": "@jupyter-widgets/base",
       "_view_module_version": "2.0.0",
       "_view_name": "StyleView",
       "background": null,
       "description_width": "",
       "font_size": null,
       "text_color": null
      }
     },
     "bc29b818795541b0bd6f73e238bffde5": {
      "model_module": "@jupyter-widgets/controls",
      "model_module_version": "2.0.0",
      "model_name": "HBoxModel",
      "state": {
       "_dom_classes": [],
       "_model_module": "@jupyter-widgets/controls",
       "_model_module_version": "2.0.0",
       "_model_name": "HBoxModel",
       "_view_count": null,
       "_view_module": "@jupyter-widgets/controls",
       "_view_module_version": "2.0.0",
       "_view_name": "HBoxView",
       "box_style": "",
       "children": [
        "IPY_MODEL_5905f3ac87d549afbd9032b1386d52ac",
        "IPY_MODEL_74175e74e1614dcbbfac2fcc6fcd0f99",
        "IPY_MODEL_d1310bc4503846578db9aeb7871db21a"
       ],
       "layout": "IPY_MODEL_ec50f57cce0a428dadcd8ee720235468",
       "tabbable": null,
       "tooltip": null
      }
     },
     "d1310bc4503846578db9aeb7871db21a": {
      "model_module": "@jupyter-widgets/controls",
      "model_module_version": "2.0.0",
      "model_name": "HTMLModel",
      "state": {
       "_dom_classes": [],
       "_model_module": "@jupyter-widgets/controls",
       "_model_module_version": "2.0.0",
       "_model_name": "HTMLModel",
       "_view_count": null,
       "_view_module": "@jupyter-widgets/controls",
       "_view_module_version": "2.0.0",
       "_view_name": "HTMLView",
       "description": "",
       "description_allow_html": false,
       "layout": "IPY_MODEL_623220e64455479d81da5180d6073f84",
       "placeholder": "​",
       "style": "IPY_MODEL_ae956024726b4945b3a8ba8c7f9e8a57",
       "tabbable": null,
       "tooltip": null,
       "value": " 18/18 [01:36&lt;00:00,  3.72s/it]"
      }
     },
     "ec50f57cce0a428dadcd8ee720235468": {
      "model_module": "@jupyter-widgets/base",
      "model_module_version": "2.0.0",
      "model_name": "LayoutModel",
      "state": {
       "_model_module": "@jupyter-widgets/base",
       "_model_module_version": "2.0.0",
       "_model_name": "LayoutModel",
       "_view_count": null,
       "_view_module": "@jupyter-widgets/base",
       "_view_module_version": "2.0.0",
       "_view_name": "LayoutView",
       "align_content": null,
       "align_items": null,
       "align_self": null,
       "border_bottom": null,
       "border_left": null,
       "border_right": null,
       "border_top": null,
       "bottom": null,
       "display": null,
       "flex": null,
       "flex_flow": null,
       "grid_area": null,
       "grid_auto_columns": null,
       "grid_auto_flow": null,
       "grid_auto_rows": null,
       "grid_column": null,
       "grid_gap": null,
       "grid_row": null,
       "grid_template_areas": null,
       "grid_template_columns": null,
       "grid_template_rows": null,
       "height": null,
       "justify_content": null,
       "justify_items": null,
       "left": null,
       "margin": null,
       "max_height": null,
       "max_width": null,
       "min_height": null,
       "min_width": null,
       "object_fit": null,
       "object_position": null,
       "order": null,
       "overflow": null,
       "padding": null,
       "right": null,
       "top": null,
       "visibility": null,
       "width": null
      }
     }
    },
    "version_major": 2,
    "version_minor": 0
   }
  }
 },
 "nbformat": 4,
 "nbformat_minor": 5
}