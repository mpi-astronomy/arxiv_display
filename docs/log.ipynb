{
 "cells": [
  {
   "cell_type": "markdown",
   "id": "92bcb855",
   "metadata": {
    "papermill": {
     "duration": 0.003892,
     "end_time": "2025-08-13T04:22:10.282501",
     "exception": false,
     "start_time": "2025-08-13T04:22:10.278609",
     "status": "completed"
    },
    "tags": []
   },
   "source": [
    "# MPIA Arxiv on Deck 2\n",
    "\n",
    "Contains the steps to produce the paper extractions."
   ]
  },
  {
   "cell_type": "code",
   "execution_count": 1,
   "id": "3a0d6e11",
   "metadata": {
    "execution": {
     "iopub.execute_input": "2025-08-13T04:22:10.289764Z",
     "iopub.status.busy": "2025-08-13T04:22:10.289524Z",
     "iopub.status.idle": "2025-08-13T04:22:10.514204Z",
     "shell.execute_reply": "2025-08-13T04:22:10.513558Z"
    },
    "papermill": {
     "duration": 0.229718,
     "end_time": "2025-08-13T04:22:10.515532",
     "exception": false,
     "start_time": "2025-08-13T04:22:10.285814",
     "status": "completed"
    },
    "tags": []
   },
   "outputs": [],
   "source": [
    "# Imports\n",
    "import os\n",
    "from IPython.display import Markdown, display\n",
    "from tqdm.notebook import tqdm\n",
    "import warnings\n",
    "from PIL import Image \n",
    "import re\n",
    "\n",
    "# requires arxiv_on_deck_2\n",
    "\n",
    "from arxiv_on_deck_2.arxiv2 import (get_new_papers, \n",
    "                                    get_paper_from_identifier,\n",
    "                                    retrieve_document_source, \n",
    "                                    get_markdown_badge)\n",
    "from arxiv_on_deck_2 import (latex,\n",
    "                             latex_bib,\n",
    "                             mpia,\n",
    "                             highlight_authors_in_list)\n",
    "\n",
    "# Sometimes images are really big\n",
    "Image.MAX_IMAGE_PIXELS = 1000000000 "
   ]
  },
  {
   "cell_type": "code",
   "execution_count": 2,
   "id": "22aa9d44",
   "metadata": {
    "execution": {
     "iopub.execute_input": "2025-08-13T04:22:10.522647Z",
     "iopub.status.busy": "2025-08-13T04:22:10.522446Z",
     "iopub.status.idle": "2025-08-13T04:22:10.530374Z",
     "shell.execute_reply": "2025-08-13T04:22:10.529686Z"
    },
    "papermill": {
     "duration": 0.012612,
     "end_time": "2025-08-13T04:22:10.531412",
     "exception": false,
     "start_time": "2025-08-13T04:22:10.518800",
     "status": "completed"
    },
    "tags": []
   },
   "outputs": [],
   "source": [
    "# Some useful definitions.\n",
    "\n",
    "class AffiliationWarning(UserWarning):\n",
    "    pass\n",
    "\n",
    "class AffiliationError(RuntimeError):\n",
    "    pass\n",
    "\n",
    "def validation(source: str):\n",
    "    \"\"\"Raises error paper during parsing of source file\n",
    "    \n",
    "    Allows checks before parsing TeX code.\n",
    "    \n",
    "    Raises AffiliationWarning\n",
    "    \"\"\"\n",
    "    check = mpia.affiliation_verifications(source, verbose=True)\n",
    "    if check is not True:\n",
    "        raise AffiliationError(\"mpia.affiliation_verifications: \" + check)\n",
    "\n",
    "        \n",
    "warnings.simplefilter('always', AffiliationWarning)\n",
    "\n",
    "\n",
    "def get_markdown_qrcode(paper_id: str):\n",
    "    \"\"\" Generate a qrcode to the arxiv page using qrserver.com\n",
    "    \n",
    "    :param paper: Arxiv paper\n",
    "    :returns: markdown text\n",
    "    \"\"\"\n",
    "    url = r\"https://api.qrserver.com/v1/create-qr-code/?size=100x100&data=\"\n",
    "    txt = f\"\"\"<img src={url}\"https://arxiv.org/abs/{paper_id}\">\"\"\"\n",
    "    txt = '<div id=\"qrcode\">' + txt + '</div>'\n",
    "    return txt\n",
    "\n",
    "\n",
    "def clean_non_western_encoded_characters_commands(text: str) -> str:\n",
    "    \"\"\" Remove non-western encoded characters from a string\n",
    "    List may need to grow.\n",
    "    \n",
    "    :param text: the text to clean\n",
    "    :return: the cleaned text\n",
    "    \"\"\"\n",
    "    text = re.sub(r\"(\\\\begin{CJK}{UTF8}{gbsn})(.*?)(\\\\end{CJK})\", r\"\\2\", text)\n",
    "    return text\n",
    "\n",
    "\n",
    "def get_initials(name: str) -> str:\n",
    "    \"\"\" Get the short name, e.g., A.-B. FamName\n",
    "    :param name: full name\n",
    "    :returns: initials\n",
    "    \"\"\"\n",
    "    initials = []\n",
    "    # account for non western names often in ()\n",
    "    if '(' in name:\n",
    "        name = clean_non_western_encoded_characters_commands(name)\n",
    "        suffix = re.findall(r\"\\((.*?)\\)\", name)[0]\n",
    "        name = name.replace(f\"({suffix})\", '')\n",
    "    else:\n",
    "        suffix = ''\n",
    "    split = name.split()\n",
    "    for token in split[:-1]:\n",
    "        if '-' in token:\n",
    "            current = '-'.join([k[0] + '.' for k in token.split('-')])\n",
    "        else:\n",
    "            current = token[0] + '.'\n",
    "        initials.append(current)\n",
    "    initials.append(split[-1].strip())\n",
    "    if suffix:\n",
    "        initials.append(f\"({suffix})\")\n",
    "    return ' '.join(initials)"
   ]
  },
  {
   "cell_type": "markdown",
   "id": "14bd6310",
   "metadata": {
    "papermill": {
     "duration": 0.002919,
     "end_time": "2025-08-13T04:22:10.537254",
     "exception": false,
     "start_time": "2025-08-13T04:22:10.534335",
     "status": "completed"
    },
    "tags": []
   },
   "source": [
    "## get list of arxiv paper candidates\n",
    "\n",
    "We use the MPIA mitarbeiter list webpage from mpia.de to get author names\n",
    "We then get all new papers from Arxiv and match authors"
   ]
  },
  {
   "cell_type": "code",
   "execution_count": 3,
   "id": "7ea813a8",
   "metadata": {
    "execution": {
     "iopub.execute_input": "2025-08-13T04:22:10.543862Z",
     "iopub.status.busy": "2025-08-13T04:22:10.543670Z",
     "iopub.status.idle": "2025-08-13T04:22:32.032218Z",
     "shell.execute_reply": "2025-08-13T04:22:32.031514Z"
    },
    "papermill": {
     "duration": 21.493337,
     "end_time": "2025-08-13T04:22:32.033513",
     "exception": false,
     "start_time": "2025-08-13T04:22:10.540176",
     "status": "completed"
    },
    "tags": []
   },
   "outputs": [],
   "source": [
    "# deal with the author list and edge cases of people that cannot be consistent on their name  \n",
    "\n",
    "def filter_non_scientists(name: str) -> bool:\n",
    "    \"\"\" Loose filter on expected authorships\n",
    "\n",
    "    removing IT, administration, technical staff\n",
    "    :param name: name\n",
    "    :returns: False if name is not a scientist\n",
    "    \"\"\"\n",
    "    remove_list = ['Licht', 'Binroth', 'Witzel', 'Jordan',\n",
    "                   'Zähringer', 'Scheerer', 'Hoffmann', 'Düe',\n",
    "                   'Hellmich', 'Enkler-Scharpegge', 'Witte-Nguy',\n",
    "                   'Dehen', 'Beckmann', 'Jager', 'Jäger'\n",
    "                  ]\n",
    "\n",
    "    for k in remove_list:\n",
    "        if k in name:\n",
    "            return False\n",
    "    return True\n",
    "\n",
    "def add_author_to_list(author_list: list) -> list:\n",
    "    \"\"\" Add author to list if not already in list\n",
    "    \n",
    "    :param author: author name\n",
    "    :param author_list: list of authors\n",
    "    :returns: updated list of authors\n",
    "    \"\"\"\n",
    "    add_list = ['T. Henning']\n",
    "\n",
    "    for author in add_list:\n",
    "        if author not in author_list:\n",
    "            author_list.append(author)\n",
    "    return author_list\n",
    "\n",
    "# get list from MPIA website\n",
    "# filter for non-scientists (mpia.get_mpia_mitarbeiter_list() does some filtering)\n",
    "mpia_authors = [k[1] for k in mpia.get_mpia_mitarbeiter_list() if filter_non_scientists(k[1])]\n",
    "# add some missing author because of inconsistencies in their MPIA name and author name on papers\n",
    "mpia_authors = add_author_to_list(mpia_authors)"
   ]
  },
  {
   "cell_type": "code",
   "execution_count": 4,
   "id": "2645e73a",
   "metadata": {
    "execution": {
     "iopub.execute_input": "2025-08-13T04:22:32.040826Z",
     "iopub.status.busy": "2025-08-13T04:22:32.040632Z",
     "iopub.status.idle": "2025-08-13T04:22:32.743807Z",
     "shell.execute_reply": "2025-08-13T04:22:32.743237Z"
    },
    "papermill": {
     "duration": 0.707874,
     "end_time": "2025-08-13T04:22:32.744803",
     "exception": false,
     "start_time": "2025-08-13T04:22:32.036929",
     "status": "completed"
    },
    "tags": []
   },
   "outputs": [
    {
     "name": "stdout",
     "output_type": "stream",
     "text": [
      "E. Schinnerer  ->  E. Schinnerer  |  ['E. Schinnerer']\n",
      "F. Walter  ->  F. Walter  |  ['F. Walter']\n",
      "A. d. Graaff  ->  A. D. Graaff  |  ['A. D. Graaff']\n",
      "S. Vaughan  ->  S. Vaughan  |  ['S. Vaughan']\n",
      "M. Zhang  ->  M. Zhang  |  ['M. Zhang']\n",
      "Y. Wang  ->  Y. Wang  |  ['Y. Wang']\n",
      "J. Shi  ->  J. Shi  |  ['J. Shi']\n"
     ]
    },
    {
     "name": "stdout",
     "output_type": "stream",
     "text": [
      "Arxiv has 71 new papers today\n",
      "          5 with possible author matches\n"
     ]
    }
   ],
   "source": [
    "new_papers = get_new_papers()\n",
    "# add manual references\n",
    "add_paper_refs = []\n",
    "new_papers.extend([get_paper_from_identifier(k) for k in add_paper_refs])\n",
    "\n",
    "def robust_call(fn, value, *args, **kwargs):\n",
    "    try:\n",
    "        return fn(value, *args, **kwargs)\n",
    "    except Exception:\n",
    "        return value\n",
    "\n",
    "candidates = []\n",
    "for paperk in new_papers:\n",
    "    # Check author list with their initials\n",
    "    normed_author_list = [robust_call(mpia.get_initials, k) for k in paperk['authors']]\n",
    "    hl_authors = highlight_authors_in_list(normed_author_list, mpia_authors, verbose=True)\n",
    "    matches = [(hl, orig) for hl, orig in zip(hl_authors, paperk['authors']) if 'mark' in hl]\n",
    "    paperk['authors'] = hl_authors\n",
    "    if matches:\n",
    "        # only select paper if an author matched our list\n",
    "        candidates.append(paperk)\n",
    "print(\"\"\"Arxiv has {0:,d} new papers today\"\"\".format(len(new_papers)))        \n",
    "print(\"\"\"          {0:,d} with possible author matches\"\"\".format(len(candidates)))"
   ]
  },
  {
   "cell_type": "markdown",
   "id": "3543b34a",
   "metadata": {
    "papermill": {
     "duration": 0.003147,
     "end_time": "2025-08-13T04:22:32.751510",
     "exception": false,
     "start_time": "2025-08-13T04:22:32.748363",
     "status": "completed"
    },
    "tags": []
   },
   "source": [
    "# Parse sources and generate relevant outputs\n",
    "\n",
    "From the candidates, we do the following steps:\n",
    "* get their tarball from ArXiv (and extract data)\n",
    "* find the main .tex file: find one with \\documentclass{...} (sometimes it's non trivial)\n",
    "* Check affiliations with :func:`validation`, which uses :func:`mpia.affiliation_verifications`\n",
    "* If passing the affiliations: we parse the .tex source\n",
    "   * inject sub-documents into the main (flatten the main document)\n",
    "   * parse structure, extract information (title, abstract, authors, figures...)\n",
    "   * handles `\\graphicspath` if provided\n",
    "* Generate the .md document."
   ]
  },
  {
   "cell_type": "code",
   "execution_count": 5,
   "id": "9576b79e",
   "metadata": {
    "execution": {
     "iopub.execute_input": "2025-08-13T04:22:32.758405Z",
     "iopub.status.busy": "2025-08-13T04:22:32.758214Z",
     "iopub.status.idle": "2025-08-13T04:25:11.273949Z",
     "shell.execute_reply": "2025-08-13T04:25:11.273186Z"
    },
    "papermill": {
     "duration": 158.520466,
     "end_time": "2025-08-13T04:25:11.275043",
     "exception": false,
     "start_time": "2025-08-13T04:22:32.754577",
     "status": "completed"
    },
    "scrolled": false,
    "tags": []
   },
   "outputs": [
    {
     "data": {
      "application/vnd.jupyter.widget-view+json": {
       "model_id": "91fa3420c7614973af1d700be9ff6eec",
       "version_major": 2,
       "version_minor": 0
      },
      "text/plain": [
       "  0%|          | 0/5 [00:00<?, ?it/s]"
      ]
     },
     "metadata": {},
     "output_type": "display_data"
    },
    {
     "name": "stdout",
     "output_type": "stream",
     "text": [
      "Retrieving document from  https://arxiv.org/e-print/2508.08451\n",
      "extracting tarball to tmp_2508.08451..."
     ]
    },
    {
     "name": "stdout",
     "output_type": "stream",
     "text": [
      " done.\n"
     ]
    },
    {
     "name": "stdout",
     "output_type": "stream",
     "text": [
      "E. Schinnerer  ->  E. Schinnerer  |  ['E. Schinnerer']\n",
      "F. Walter  ->  F. Walter  |  ['F. Walter']\n"
     ]
    },
    {
     "name": "stdout",
     "output_type": "stream",
     "text": [
      "Found 160 bibliographic references in tmp_2508.08451/main_v4_accepted.bbl.\n",
      "Retrieving document from  https://arxiv.org/e-print/2508.08577\n"
     ]
    },
    {
     "name": "stdout",
     "output_type": "stream",
     "text": [
      "extracting tarball to tmp_2508.08577..."
     ]
    },
    {
     "name": "stdout",
     "output_type": "stream",
     "text": [
      " done.\n"
     ]
    },
    {
     "name": "stdout",
     "output_type": "stream",
     "text": [
      "A. d. Graaff  ->  A. D. Graaff  |  ['A. D. Graaff']\n"
     ]
    },
    {
     "name": "stdout",
     "output_type": "stream",
     "text": [
      "Found 155 bibliographic references in tmp_2508.08577/sample631.bbl.\n",
      "Retrieving document from  https://arxiv.org/e-print/2508.08720\n"
     ]
    },
    {
     "name": "stdout",
     "output_type": "stream",
     "text": [
      "extracting tarball to tmp_2508.08720..."
     ]
    },
    {
     "name": "stdout",
     "output_type": "stream",
     "text": [
      " done.\n",
      "Retrieving document from  https://arxiv.org/e-print/2508.08766\n",
      "extracting tarball to tmp_2508.08766..."
     ]
    },
    {
     "name": "stdout",
     "output_type": "stream",
     "text": [
      " done.\n",
      "Retrieving document from  https://arxiv.org/e-print/2508.08970\n"
     ]
    },
    {
     "name": "stdout",
     "output_type": "stream",
     "text": [
      "extracting tarball to tmp_2508.08970..."
     ]
    },
    {
     "name": "stdout",
     "output_type": "stream",
     "text": [
      " done.\n"
     ]
    }
   ],
   "source": [
    "documents = []\n",
    "failed = []\n",
    "for paper in tqdm(candidates):\n",
    "    # debug crap\n",
    "    paper['identifier'] = paper['identifier'].lower().replace('arxiv:', '').replace(r'\\n', '').strip()\n",
    "    paper_id = paper['identifier']\n",
    "    \n",
    "    folder = f'tmp_{paper_id}'\n",
    "\n",
    "    try:\n",
    "        if not os.path.isdir(folder):\n",
    "            folder = retrieve_document_source(f\"{paper_id}\", f'tmp_{paper_id}')\n",
    "        \n",
    "        try:\n",
    "            doc = latex.LatexDocument(folder, validation=validation)    \n",
    "        except AffiliationError as affilerror:\n",
    "            msg = f\"ArXiv:{paper_id:s} is not an MPIA paper... \" + str(affilerror)\n",
    "            failed.append((paper, \"affiliation error: \" + str(affilerror) ))\n",
    "            continue\n",
    "        \n",
    "        # Hack because sometimes author parsing does not work well\n",
    "        if (len(doc.authors) != len(paper['authors'])):\n",
    "            doc._authors = paper['authors']\n",
    "        else:\n",
    "            # highlight authors (FIXME: doc.highlight_authors)\n",
    "            # done on arxiv paper already\n",
    "            doc._authors = highlight_authors_in_list(\n",
    "                [get_initials(k) for k in doc.authors], \n",
    "                mpia_authors, verbose=True)\n",
    "        if (doc.abstract) in (None, ''):\n",
    "            doc._abstract = paper['abstract']\n",
    "            \n",
    "        doc.comment = (get_markdown_badge(paper_id) + \n",
    "                       \"<mark>Appeared on: \" + paper['date'] + \"</mark> - \")\n",
    "        if paper['comments']:\n",
    "            doc.comment += \" _\" + paper['comments'] + \"_\"\n",
    "        \n",
    "        full_md = doc.generate_markdown_text()\n",
    "        \n",
    "        full_md += get_markdown_qrcode(paper_id)\n",
    "        \n",
    "        # replace citations\n",
    "        try:\n",
    "            bibdata = latex_bib.LatexBib.from_doc(doc)\n",
    "            full_md = latex_bib.replace_citations(full_md, bibdata)\n",
    "        except Exception as e:\n",
    "            print(\"Issues with the citations\")\n",
    "            print(e)\n",
    "        \n",
    "        documents.append((paper_id, full_md))\n",
    "    except Exception as e:\n",
    "        warnings.warn(latex.LatexWarning(f\"{paper_id:s} did not run properly\\n\" +\n",
    "                                         str(e)\n",
    "                                        ))\n",
    "        failed.append((paper, \"latex error \" + str(e)))"
   ]
  },
  {
   "cell_type": "markdown",
   "id": "2505a25c",
   "metadata": {
    "papermill": {
     "duration": 0.003829,
     "end_time": "2025-08-13T04:25:11.283064",
     "exception": false,
     "start_time": "2025-08-13T04:25:11.279235",
     "status": "completed"
    },
    "tags": []
   },
   "source": [
    "### Export the logs\n",
    "\n",
    "Throughout, we also keep track of the logs per paper. see `logs-{today date}.md` "
   ]
  },
  {
   "cell_type": "code",
   "execution_count": 6,
   "id": "d733828a",
   "metadata": {
    "execution": {
     "iopub.execute_input": "2025-08-13T04:25:11.291483Z",
     "iopub.status.busy": "2025-08-13T04:25:11.291258Z",
     "iopub.status.idle": "2025-08-13T04:25:11.306649Z",
     "shell.execute_reply": "2025-08-13T04:25:11.306111Z"
    },
    "papermill": {
     "duration": 0.02083,
     "end_time": "2025-08-13T04:25:11.307637",
     "exception": false,
     "start_time": "2025-08-13T04:25:11.286807",
     "status": "completed"
    },
    "scrolled": false,
    "tags": []
   },
   "outputs": [
    {
     "data": {
      "text/markdown": [
       "## Successful papers"
      ],
      "text/plain": [
       "<IPython.core.display.Markdown object>"
      ]
     },
     "metadata": {},
     "output_type": "display_data"
    },
    {
     "data": {
      "text/markdown": [
       "\n",
       "|||\n",
       "|---:|:---|\n",
       "| [![arXiv](https://img.shields.io/badge/arXiv-2508.08451-b31b1b.svg)](https://arxiv.org/abs/2508.08451) | **Quantification of The Age Dependence of Mid-Infrared Star Formation Rate Indicators**  |\n",
       "|| D. Calzetti, et al. -- incl., <mark>E. Schinnerer</mark>, <mark>F. Walter</mark> |\n",
       "|*Appeared on*| *2025-08-13*|\n",
       "|*Comments*| *41 pages, 16 figures; accepted for publication on the Astrophysical Journal on August 8th, 2025*|\n",
       "|**Abstract**|            We combine James Webb Space Telescope images of the nearby galaxy NGC 5194 in the hydrogen recombination line Pa-alpha (lambda=1.8756 micron) from the Cycle 1 program JWST-FEAST with 21 micron dust continuum images from the Cycle 2 Treasury program JWGT to quantify the difference in the calibration of mid-infrared star formation rates (SFR) between HII regions and galaxies. We use the archival HST H-alpha image to correct the Pa-alpha emission for the effects of dust attenuation. Our data confirm previous results that the dust-corrected Pa-alpha flux is tightly correlated with the 21 micron emission at the scales of HII regions. When combined with published JWST data for the HII regions of the galaxy NGC 628 and Spitzer 24 micron data for whole galaxies and for kpc-size galaxy regions, we show that the L(24)-L(Pa-alpha) correlation has exponent >1 across six decades in luminosity. In addition, the hybrid 24 micron+H-alpha SFR indicator has a scaling constant about 4.4 times higher for HII regions than for whole galaxies, also in agreement with previous results. Models of stellar populations with a range of star formation histories reveal that the observed trends can be entirely ascribed to and quantified with the contribution to the IR emission by stellar populations older than ~5-6 Myr. Based on the models' results, we provide: (1) a calibration for the infrared SFR across six orders of magnitude in L(24), from HII regions to luminous galaxies, and (2) a prescription for the scaling constant of the hybrid infrared SFR indicators as a function of the star formation timescale.         |"
      ],
      "text/plain": [
       "[2508.08451] Quantification of The Age Dependence of Mid-Infrared Star Formation Rate Indicators\n",
       "\tD. Calzetti, et al. -- incl., <mark>E. Schinnerer</mark>, <mark>F. Walter</mark>"
      ]
     },
     "metadata": {},
     "output_type": "display_data"
    },
    {
     "data": {
      "text/markdown": [
       "\n",
       "|||\n",
       "|---:|:---|\n",
       "| [![arXiv](https://img.shields.io/badge/arXiv-2508.08577-b31b1b.svg)](https://arxiv.org/abs/2508.08577) | **RUBIES spectroscopically confirms the high number density of quiescent galaxies from $\\mathbf{2<z<5}$**  |\n",
       "|| Y. Zhang, et al. -- incl., <mark>A. d. Graaff</mark> |\n",
       "|*Appeared on*| *2025-08-13*|\n",
       "|*Comments*| *27 pages, 11 figures*|\n",
       "|**Abstract**|            We present the number density of massive ($ \\mathrm{ log (M_{*}/M_{\\odot}) > 10.3} $) quiescent galaxies at $2<z<5$ using JWST NIRSpec PRISM spectra. This work relies on spectra from RUBIES, which provides excellent data quality and an unparalleled, well-defined targeting strategy to robustly infer physical properties and number densities. We identify quiescent galaxy candidates within RUBIES through principal component analysis and construct a final sample using star formation histories derived from spectro-photometric fitting of the NIRSpec PRISM spectra and NIRCam photometry. By inverting the RUBIES selection function, we correct for survey incompleteness and calculate the number density of massive quiescent galaxies at these redshifts, providing the most complete spectroscopic estimates prior to cosmic noon to date. We find that early massive quiescent galaxies are surprisingly common ($\\gtrsim 10^{-5}$ Mpc$^{-3}$ by $4<z<5$), which is consistent with previous studies based on JWST photometry alone and/or in smaller survey areas. We compare our number densities with predictions from six state-of-the-art cosmological galaxy formation simulations. At $z>3$, most simulations fail to produce enough massive quiescent galaxies, suggesting the treatment of feedback and/or the channels for early efficient formation are incomplete in most galaxy evolution models.         |"
      ],
      "text/plain": [
       "[2508.08577] RUBIES spectroscopically confirms the high number density of quiescent galaxies from $\\mathbf{2<z<5}$\n",
       "\tY. Zhang, et al. -- incl., <mark>A. d. Graaff</mark>"
      ]
     },
     "metadata": {},
     "output_type": "display_data"
    },
    {
     "data": {
      "text/markdown": [
       "## Failed papers"
      ],
      "text/plain": [
       "<IPython.core.display.Markdown object>"
      ]
     },
     "metadata": {},
     "output_type": "display_data"
    },
    {
     "data": {
      "text/markdown": [
       "\n",
       "|||\n",
       "|---:|:---|\n",
       "| [![arXiv](https://img.shields.io/badge/arXiv-2508.08720-b31b1b.svg)](https://arxiv.org/abs/2508.08720) | **Departures from Standard Disk Predictions in Intensive Ground-Based Monitoring of Three AGN**  |\n",
       "|| D. Gonzalez-Buitrago, et al. -- incl., <mark>S. Vaughan</mark> |\n",
       "|*Appeared on*| *2025-08-13*|\n",
       "|*Comments*| *Accepted for publication in MNRAS. 32 pages, 12 figures, 5 tables*|\n",
       "|**Abstract**|            We present ground-based, multi-band light curves of the AGN Mrk~509, NGC\\,4151, and NGC\\,4593 obtained contemporaneously with \\sw\\, monitoring. We measure cross-correlation lags relative to \\sw\\, UVW2 (1928~Å) and test the standard prediction for disk reprocessing, which assumes a geometrically thin, optically thick accretion disk where continuum interband delays follow the relation \\( \\tau(\\lambda) \\propto \\lambda^{4/3} \\). For Mrk~509 the 273-d \\sw\\, campaign gives well-defined lags that increase with wavelength as $\\tau(\\lambda)\\propto\\lambda^{2.17\\pm0.2}$, steeper than the thin-disk prediction, and the optical lags are a factor of $\\sim5$ longer than expected for a simple disk-reprocessing model. This ``disk-size discrepancy'' as well as excess lags in the $u$ and $r$ bands (which include the Balmer continuum and H$\\alpha$, respectively) suggest a mix of short lags from the disk and longer lags from nebular continuum originating in the broad-line region. The shorter \\sw\\, campaigns, 69~d on NGC\\,4151 and 22~d on NGC\\,4593, yield less well-defined, shorter lags $<2$~d. The NGC\\,4593 lags are consistent with $\\tau(\\lambda) \\propto \\lambda^{4/3}$ but with uncertainties too large for a strong test. For NGC\\,4151 the \\sw\\, lags match $\\tau(\\lambda) \\propto \\lambda^{4/3}$, with a small $U$-band excess, but the ground-based lags in the $r$, $i$, and $z$ bands are significantly shorter than the $B$ and $g$ lags, and also shorter than expected from the thin-disk prediction. The interpretation of this unusual lag spectrum is unclear. Overall these results indicate significant diversity in the $\\tau-\\lambda$ relation across the optical/UV/NIR, which differs from the more homogeneous behavior seen in the \\sw\\, bands.         |\n",
       "|<p style=\"color:green\"> **ERROR** </p>| <p style=\"color:green\">affiliation error: mpia.affiliation_verifications: 'Heidelberg' keyword not found.</p> |"
      ],
      "text/plain": [
       "<IPython.core.display.Markdown object>"
      ]
     },
     "metadata": {},
     "output_type": "display_data"
    },
    {
     "data": {
      "text/markdown": [
       "\n",
       "|||\n",
       "|---:|:---|\n",
       "| [![arXiv](https://img.shields.io/badge/arXiv-2508.08766-b31b1b.svg)](https://arxiv.org/abs/2508.08766) | **Solar magnetic flux rope eruptions caused by inverse flux feeding processes**  |\n",
       "|| Q. Zhang, et al. -- incl., <mark>M. Zhang</mark>, <mark>Y. Wang</mark> |\n",
       "|*Appeared on*| *2025-08-13*|\n",
       "|*Comments*| *This manuscript has been accepted by Astronomy & Astrophysics*|\n",
       "|**Abstract**|            Large-scale solar eruptions are generally accepted to have coronal magnetic flux ropes as their core structures. Recent studies found that the solar eruptions could be initiated by a sequence of flux feeding processes, during with chromospheric fibrils rise and merge with the pre-existing coronal flux rope. Further theoretical analyses have demonstrated that the normal flux feeding, i.e. the axial magnetic flux within the fibril is in the same direction as that in the flux rope, results in the accumulation of the total axial flux within the flux rope, so as to initiate the eruption. If the directions of the axial flux in the fibril and the flux rope are opposite, it is termed inverse flux feeding, whose influence on coronal flux ropes, however, is still unclear. In this paper, we use a 2.5-dimensional magnetohydrodynamic model to simulate the evolution of coronal flux ropes associated with inverse flux feeding. It is found that inverse flux feeding is also efficient in causing solar eruptions: although the total signed axial magnetic flux of the rope decreases after inverse flux feeding, the total unsigned axial flux can accumulate; the eruption occurs if the unsigned axial flux of the rope reaches a critical value, which is almost the same as the threshold for normal flux feeding. The total axial currents within the rope are also similar during the onset of the eruptions caused by both normal and inverse flux feeding. Our simulation results suggest that it is the unsigned axial magnetic flux rather than the signed axial flux that regulates the onset of coronal flux rope eruptions.         |\n",
       "|<p style=\"color:green\"> **ERROR** </p>| <p style=\"color:green\">affiliation error: mpia.affiliation_verifications: 'Heidelberg' keyword not found.</p> |"
      ],
      "text/plain": [
       "<IPython.core.display.Markdown object>"
      ]
     },
     "metadata": {},
     "output_type": "display_data"
    },
    {
     "data": {
      "text/markdown": [
       "\n",
       "|||\n",
       "|---:|:---|\n",
       "| [![arXiv](https://img.shields.io/badge/arXiv-2508.08970-b31b1b.svg)](https://arxiv.org/abs/2508.08970) | **Measuring the Magnetic Field of a Coronal Mass Ejection from Low to Middle Corona**  |\n",
       "|| X. Chen, et al. -- incl., <mark>J. Shi</mark> |\n",
       "|*Appeared on*| *2025-08-13*|\n",
       "|*Comments*| *15 pages, 7 figures*|\n",
       "|**Abstract**|            A major challenge in understanding the initiation and evolution of coronal mass ejections (CMEs) is measuring the magnetic field of the magnetic flux ropes (MFRs) that drive CMEs. Recent developments in radio imaging spectroscopy have paved the way for diagnosing the CMEs' magnetic field using gyrosynchrotron radiation. We present magnetic field measurements of a CME associated with an X5-class flare by combining radio imaging spectroscopy data in microwaves (1--18 GHz) and meter-wave (20--88 MHz), obtained by the Owens Valley Radio Observatory's Expanded Owens Valley Solar Array (EOVSA) and Long Wavelength Array (OVRO-LWA), respectively. EOVSA observations reveal that the microwave source, observed in the low corona during the initiation phase of the eruption, outlines the bottom of the rising MFR-hosting CME bubble seen in extreme ultraviolet and expands as the bubble evolves. As the MFR erupts into the middle corona and appears as a white light CME, its meter-wave counterpart, observed by OVRO-LWA, displays a similar morphology. For the first time, using gyrosynchrotron spectral diagnostics, we obtain magnetic field measurements of the erupting MFR in both the low and middle corona, corresponding to coronal heights of 1.02 and 2.83 $R_{\\odot}$. The magnetic field strength is found to be around 300 G at 1.02 $R_{\\odot}$ during the CME initiation, and about 0.6 G near the leading edge of the CME when it propagates to 2.83 $R_{\\odot}$. These results provide critical new insights into the magnetic structure of the CME and its evolution during the early stages of its eruption.         |\n",
       "|<p style=\"color:green\"> **ERROR** </p>| <p style=\"color:green\">affiliation error: mpia.affiliation_verifications: 'Heidelberg' keyword not found.</p> |"
      ],
      "text/plain": [
       "<IPython.core.display.Markdown object>"
      ]
     },
     "metadata": {},
     "output_type": "display_data"
    }
   ],
   "source": [
    "import datetime\n",
    "today = str(datetime.date.today())\n",
    "logfile = f\"_build/html/logs/log-{today}.md\"\n",
    "\n",
    "\n",
    "with open(logfile, 'w') as logs:\n",
    "    # Success\n",
    "    logs.write(f'# Arxiv on Deck 2: Logs - {today}\\n\\n')\n",
    "    logs.write(\"\"\"* Arxiv had {0:,d} new papers\\n\"\"\".format(len(new_papers)))\n",
    "    logs.write(\"\"\"    * {0:,d} with possible author matches\\n\\n\"\"\".format(len(candidates)))\n",
    "    logs.write(\"## Sucessful papers\\n\\n\")\n",
    "    display(Markdown(\"## Successful papers\"))\n",
    "    success = [k[0] for k in documents]\n",
    "    for candid in candidates:\n",
    "        if candid['identifier'].split(':')[-1] in success:\n",
    "            display(candid)\n",
    "            logs.write(candid.generate_markdown_text() + '\\n\\n')\n",
    "\n",
    "    ## failed\n",
    "    logs.write(\"## Failed papers\\n\\n\")\n",
    "    display(Markdown(\"## Failed papers\"))\n",
    "    failed = sorted(failed, key=lambda x: x[1])\n",
    "    current_reason = \"\"\n",
    "    for paper, reason in failed:\n",
    "        if 'affiliation' in reason:\n",
    "            color = 'green'\n",
    "        else:\n",
    "            color = 'red'\n",
    "        data = Markdown(\n",
    "                paper.generate_markdown_text() + \n",
    "                f'\\n|<p style=\"color:{color:s}\"> **ERROR** </p>| <p style=\"color:{color:s}\">{reason:s}</p> |'\n",
    "               )\n",
    "        if reason != current_reason:\n",
    "            logs.write(f'### {reason:s} \\n\\n')\n",
    "            current_reason = reason\n",
    "        logs.write(data.data + '\\n\\n')\n",
    "        \n",
    "        # only display here the important errors (all in logs)\n",
    "        # if color in ('red',):\n",
    "        display(data)"
   ]
  },
  {
   "cell_type": "markdown",
   "id": "472d20ee",
   "metadata": {
    "papermill": {
     "duration": 0.004391,
     "end_time": "2025-08-13T04:25:11.317068",
     "exception": false,
     "start_time": "2025-08-13T04:25:11.312677",
     "status": "completed"
    },
    "tags": []
   },
   "source": [
    "## Export documents\n",
    "\n",
    "We now write the .md files and export relevant images"
   ]
  },
  {
   "cell_type": "code",
   "execution_count": 7,
   "id": "d426aed9",
   "metadata": {
    "execution": {
     "iopub.execute_input": "2025-08-13T04:25:11.326704Z",
     "iopub.status.busy": "2025-08-13T04:25:11.326516Z",
     "iopub.status.idle": "2025-08-13T04:25:11.333021Z",
     "shell.execute_reply": "2025-08-13T04:25:11.332492Z"
    },
    "papermill": {
     "duration": 0.012442,
     "end_time": "2025-08-13T04:25:11.333974",
     "exception": false,
     "start_time": "2025-08-13T04:25:11.321532",
     "status": "completed"
    },
    "tags": []
   },
   "outputs": [],
   "source": [
    "def export_markdown_summary(md: str, md_fname:str, directory: str):\n",
    "    \"\"\"Export MD document and associated relevant images\"\"\"\n",
    "    import os\n",
    "    import shutil\n",
    "    import re\n",
    "\n",
    "    if (os.path.exists(directory) and not os.path.isdir(directory)):\n",
    "        raise RuntimeError(f\"a non-directory file exists with name {directory:s}\")\n",
    "\n",
    "    if (not os.path.exists(directory)):\n",
    "        print(f\"creating directory {directory:s}\")\n",
    "        os.mkdir(directory)\n",
    "\n",
    "    fig_fnames = (re.compile(r'\\[Fig.*\\]\\((.*)\\)').findall(md) + \n",
    "                  re.compile(r'\\<img src=\"([^>\\s]*)\"[^>]*/>').findall(md))\n",
    "    print(\"found figures\", fig_fnames)\n",
    "    for fname in fig_fnames:\n",
    "        if 'http' in fname:\n",
    "            # No need to copy online figures\n",
    "            continue\n",
    "        if not os.path.exists(fname):\n",
    "            print(\"file not found\", fname)\n",
    "            continue\n",
    "        print(\"copying \", fname, \"to\", directory)\n",
    "        destdir = os.path.join(directory, os.path.dirname(fname))\n",
    "        destfname = os.path.join(destdir, os.path.basename(fname))\n",
    "        try:\n",
    "            os.makedirs(destdir)\n",
    "        except FileExistsError:\n",
    "            pass\n",
    "        shutil.copy(fname, destfname)\n",
    "    with open(os.path.join(directory, md_fname), 'w') as fout:\n",
    "        fout.write(md)\n",
    "    print(\"exported in \", os.path.join(directory, md_fname))\n",
    "    [print(\"    + \" + os.path.join(directory,fk)) for fk in fig_fnames]"
   ]
  },
  {
   "cell_type": "code",
   "execution_count": 8,
   "id": "014d04a4",
   "metadata": {
    "execution": {
     "iopub.execute_input": "2025-08-13T04:25:11.343827Z",
     "iopub.status.busy": "2025-08-13T04:25:11.343642Z",
     "iopub.status.idle": "2025-08-13T04:25:11.361353Z",
     "shell.execute_reply": "2025-08-13T04:25:11.360747Z"
    },
    "papermill": {
     "duration": 0.02382,
     "end_time": "2025-08-13T04:25:11.362372",
     "exception": false,
     "start_time": "2025-08-13T04:25:11.338552",
     "status": "completed"
    },
    "tags": []
   },
   "outputs": [
    {
     "name": "stdout",
     "output_type": "stream",
     "text": [
      "found figures ['tmp_2508.08451/./ew_pa_new.png', 'tmp_2508.08451/./ebvpacor_new.png', 'tmp_2508.08451/./l21lpacor_new.png', 'tmp_2508.08451/./siglum24_pa_new.png', 'tmp_2508.08451/./lir_ebv.png', 'tmp_2508.08451/./sir_spa_new.png']\n",
      "copying  tmp_2508.08451/./ew_pa_new.png to _build/html/\n",
      "copying  tmp_2508.08451/./ebvpacor_new.png to _build/html/\n",
      "copying  tmp_2508.08451/./l21lpacor_new.png to _build/html/\n",
      "copying  tmp_2508.08451/./siglum24_pa_new.png to _build/html/\n",
      "copying  tmp_2508.08451/./lir_ebv.png to _build/html/\n",
      "copying  tmp_2508.08451/./sir_spa_new.png to _build/html/\n",
      "exported in  _build/html/2508.08451.md\n",
      "    + _build/html/tmp_2508.08451/./ew_pa_new.png\n",
      "    + _build/html/tmp_2508.08451/./ebvpacor_new.png\n",
      "    + _build/html/tmp_2508.08451/./l21lpacor_new.png\n",
      "    + _build/html/tmp_2508.08451/./siglum24_pa_new.png\n",
      "    + _build/html/tmp_2508.08451/./lir_ebv.png\n",
      "    + _build/html/tmp_2508.08451/./sir_spa_new.png\n",
      "found figures ['tmp_2508.08577/./figures/PCA_selection_v4.png', 'tmp_2508.08577/./figures/diff_flavors_vs_obs.png', 'tmp_2508.08577/./figures/SED_fits_12594+42328.png']\n",
      "copying  tmp_2508.08577/./figures/PCA_selection_v4.png to _build/html/\n",
      "copying  tmp_2508.08577/./figures/diff_flavors_vs_obs.png to _build/html/\n",
      "copying  tmp_2508.08577/./figures/SED_fits_12594+42328.png to _build/html/\n",
      "exported in  _build/html/2508.08577.md\n",
      "    + _build/html/tmp_2508.08577/./figures/PCA_selection_v4.png\n",
      "    + _build/html/tmp_2508.08577/./figures/diff_flavors_vs_obs.png\n",
      "    + _build/html/tmp_2508.08577/./figures/SED_fits_12594+42328.png\n"
     ]
    }
   ],
   "source": [
    "for paper_id, md in documents:\n",
    "    export_markdown_summary(md, f\"{paper_id:s}.md\", '_build/html/')"
   ]
  },
  {
   "cell_type": "markdown",
   "id": "f087a0a7",
   "metadata": {
    "papermill": {
     "duration": 0.00452,
     "end_time": "2025-08-13T04:25:11.371568",
     "exception": false,
     "start_time": "2025-08-13T04:25:11.367048",
     "status": "completed"
    },
    "tags": []
   },
   "source": [
    "## Display the papers\n",
    "\n",
    "Not necessary but allows for a quick check."
   ]
  },
  {
   "cell_type": "code",
   "execution_count": 9,
   "id": "fd25f625",
   "metadata": {
    "execution": {
     "iopub.execute_input": "2025-08-13T04:25:11.381381Z",
     "iopub.status.busy": "2025-08-13T04:25:11.381111Z",
     "iopub.status.idle": "2025-08-13T04:25:11.387034Z",
     "shell.execute_reply": "2025-08-13T04:25:11.386494Z"
    },
    "papermill": {
     "duration": 0.011899,
     "end_time": "2025-08-13T04:25:11.388011",
     "exception": false,
     "start_time": "2025-08-13T04:25:11.376112",
     "status": "completed"
    },
    "scrolled": false,
    "tags": []
   },
   "outputs": [
    {
     "data": {
      "text/markdown": [
       "<div class=\"macros\" style=\"visibility:hidden;\">\n",
       "$\\newcommand{\\ensuremath}{}$\n",
       "$\\newcommand{\\xspace}{}$\n",
       "$\\newcommand{\\object}[1]{\\texttt{#1}}$\n",
       "$\\newcommand{\\farcs}{{.}''}$\n",
       "$\\newcommand{\\farcm}{{.}'}$\n",
       "$\\newcommand{\\arcsec}{''}$\n",
       "$\\newcommand{\\arcmin}{'}$\n",
       "$\\newcommand{\\ion}[2]{#1#2}$\n",
       "$\\newcommand{\\textsc}[1]{\\textrm{#1}}$\n",
       "$\\newcommand{\\hl}[1]{\\textrm{#1}}$\n",
       "$\\newcommand{\\footnote}[1]{}$</div>\n",
       "\n",
       "\n",
       "\n",
       "<div id=\"title\">\n",
       "\n",
       "# Quantification of The Age Dependence of Mid--Infrared Star Formation Rate Indicators\n",
       "\n",
       "</div>\n",
       "<div id=\"comments\">\n",
       "\n",
       "[![arXiv](https://img.shields.io/badge/arXiv-2508.08451-b31b1b.svg)](https://arxiv.org/abs/2508.08451)<mark>Appeared on: 2025-08-13</mark> -  _41 pages, 16 figures; accepted for publication on the Astrophysical Journal on August 8th, 2025_\n",
       "\n",
       "</div>\n",
       "<div id=\"authors\">\n",
       "\n",
       "D. Calzetti, et al. -- incl., <mark>E. Schinnerer</mark>, <mark>F. Walter</mark>\n",
       "\n",
       "</div>\n",
       "<div id=\"abstract\">\n",
       "\n",
       "**Abstract:** We combine James Webb Space Telescope images of the nearby galaxy NGC 5194  in the hydrogen recombination line Pa $\\alpha$ ( $\\lambda$ 1.8756 $\\mu$ m) from the Cycle 1 program JWST--FEAST with 21 $\\mu$ m dust continuum images from the Cycle 2 Treasury program JWGT to quantify the difference in the calibration of mid--infrared star formation rates (SFR) between HII regions and galaxies. We use the archival HST H $\\alpha$ image to correct the Pa $\\alpha$ emission for the effects of dust attenuation. Our data confirm previous results that the dust--corrected Pa $\\alpha$ flux is tightly correlated with the 21 $\\mu$ m emission at the scales of HII regions. When combined with published JWST data for the HII regions of the galaxy NGC 628 and Spitzer 24 $\\mu$ m data for whole galaxies and for kpc--size galaxy regions, we show that the L(24)--L(Pa $\\alpha$ ) correlation has exponent $>$ 1 across six decades in luminosity. In addition, the hybrid 24 $\\mu$ m+H $\\alpha$ SFR indicator has a scaling constant about 4.4 times higher for HII regions than for whole galaxies, also in agreement with previous results. Models of stellar populations with a range of star formation histories reveal that the observed trends can be entirely ascribed to and quantified with the contribution to the IR emission by stellar populations older than $\\sim$ 5--6 Myr. Based on the models' results, we provide: (1) a calibration for the infrared SFR across six orders of magnitude in L(24), from HII regions to luminous galaxies, and (2) a prescription for the scaling constant of the hybrid infrared SFR indicators as a function of the star formation timescale.\n",
       "\n",
       "</div>\n",
       "\n",
       "<div id=\"div_fig1\">\n",
       "\n",
       "<img src=\"tmp_2508.08451/./ew_pa_new.png\" alt=\"Fig3.1\" width=\"50%\"/><img src=\"tmp_2508.08451/./ebvpacor_new.png\" alt=\"Fig3.2\" width=\"50%\"/>\n",
       "\n",
       "**Figure 3. -** The EW(Pa$\\alpha$) (left panel) and the color excess E(B$-$V) (right panel) as a function of the attenuation--corrected luminosity in Pa$\\alpha$ for the HII regions in NGC 5194. The data are shown as black circles, with their 1$\\sigma$ uncertainties. The right panel includes the data for NGC 628 as magenta triangles, with their 1$\\sigma$ uncertainties. Both panels show as a vertical black dot--dashed line the expected Pa$\\alpha$ luminosity of a 4 Myr old, 3,000 M$_{\\odot}$ cluster, the lower-end luminosity limit in our analysis to mitigate stochastic IMF sampling effects  ([Cerviño, et. al 2002]()) . ** (Left):** The magenta dotted line shows the EW(Pa$\\alpha$) model track of an HII region of constant mass $\\sim$2$\\times$10$^5$ M$_{\\odot}$ with increasing age from 1 Myr (top--right) to 10 Myr (bottom--left). The red continuous line is the model track for a constant age, 3 Myr old, HII region of decreasing mass, from $\\sim$3$\\times$10$^5$ M$_{\\odot}$ down to $\\sim$2$\\times$10$^2$ M$_{\\odot}$,  immersed in a constant luminosity non--ionizing stellar field, with a scatter of factors $-$3/$+$5 (higher/lower red dashed lines) about the mean trend. The cyan line is the same track, but for a 6 Myr old HII region. The blue lines are the tracks for NGC 628,  from [Calzetti, Adamo and Linden (2024)](), using the same model but with a larger photometric aperture\n",
       "(continuous line for the mean trend and dashed lines for the scatter). ** (Right):** The two empirical relations shown are from [Calzetti, Kennicutt and Engelbracht (2007)]() for $\\sim$0.5 kpc  star forming regions (blue solid line for the mean trend and dashed lines for the 90--percentile) and from [Garn and Best (2010)]() for galaxies (red continuous line).  (*fig:corr_lum*)\n",
       "\n",
       "</div>\n",
       "<div id=\"div_fig2\">\n",
       "\n",
       "<img src=\"tmp_2508.08451/./l21lpacor_new.png\" alt=\"Fig4.1\" width=\"50%\"/><img src=\"tmp_2508.08451/./siglum24_pa_new.png\" alt=\"Fig4.2\" width=\"50%\"/>\n",
       "\n",
       "**Figure 4. -** ** (Left:)** The luminosity at 21 $\\mu$m, L(21), as a function of the attenuation--corrected luminosity at Pa$\\alpha$ for the 254 line--emitting regions in NGC 5194 (black circles, this work) and the 143 regions in NGC 628 (magenta triangles, [Calzetti, Adamo and Linden (2024)](), with 1$\\sigma$ uncertainties. The horizontal dashed line and grey region show the location of the 5$\\sigma$ threshold at 21 $\\mu$m in NGC 5194. The black and magenta lines show the best fits through the data with Pa$\\alpha$ luminosity above the IMF sampling limit (vertical dot--dashed line) for the two galaxies separately, while the red line is for the data from the two galaxies combined. ** (Right:)** The luminosity surface density at 24 $\\mu$m, $\\Sigma$(24), as a function of the attenuation--corrected luminosity surface density at Pa$\\alpha$ for the same HII regions in NGC 5194 (black circles) and NGC 628 (magenta triangles), also with 1$\\sigma$ uncertainties, after converting the luminosity at 21 $\\mu$m to 24 $\\mu$m. The solid lines indicate the fits through the HII regions using the same color scheme as the left panel.  The data for the luminosity surface densities of 160 $\\sim$0.5 kpc regions at $\\sim$solar metallicity from [Calzetti, Kennicutt and Engelbracht (2007)]() are shown as blue pentagons with the best linear fit from those authors marked as a blue line. (*fig:l21_vs_lpa*)\n",
       "\n",
       "</div>\n",
       "<div id=\"div_fig3\">\n",
       "\n",
       "<img src=\"tmp_2508.08451/./lir_ebv.png\" alt=\"Fig14.1\" width=\"50%\"/><img src=\"tmp_2508.08451/./sir_spa_new.png\" alt=\"Fig14.2\" width=\"50%\"/>\n",
       "\n",
       "**Figure 14. -** ** (Left:)** The fraction of bolometric luminosity emerging in the infrared, as a function of color excess E(B--V), for the following stellar population models: 3 Myr old instantaneous burst (black solid line); constant star formation over 100 Myr (blue lines); and constant star formation over 10 Gyr (red solid line). The effect of different extinction/attenuation curve choices are shown for the 100 Myr constant star formation model: starburst attenuation curve (blue solid) and the Milky Way (blue dashed), Large Magellanic Cloud (blue short dot--dashed) and Small Magellanic Cloud (blue long dot--dashed) extinction curves. ** (Right:)** The 24 $\\mu$m luminosity surface density as a function of the extinction--corrected Pa$\\alpha$ luminosity surface density for the three star formation models described in the Left panel. The Pa$\\alpha$ surface density is derived via the E(B--V)--$\\Sigma$(Pa$\\alpha$) relation in equation \\ref{equa:newebv} ([Calzetti, Kennicutt and Engelbracht 2007]()) . The models for the 3 Myr instantaneous burst (black solid line), $\\tau$=100 Myr constant star formation (blue solid line) and $\\tau$=10 Gyr constant star formation (red solid line) mark a sequence of increasing $\\Sigma$(24) at fixed $\\Sigma$(Pa$\\alpha$)$_{corr}$. The relation at each age is shown with the 90\\% scatter in the E(B--V)--Pa$\\alpha$ relation from [Calzetti, Kennicutt and Engelbracht (2007)]() as dashed lines.  The black dot--dashed straight lines are examples of linear relations with slopes (bottom to top) of 1 and 1.14, to provide a visual reference. (*fig:LIR_EBV*)\n",
       "\n",
       "</div><div id=\"qrcode\"><img src=https://api.qrserver.com/v1/create-qr-code/?size=100x100&data=\"https://arxiv.org/abs/2508.08451\"></div>"
      ],
      "text/plain": [
       "<IPython.core.display.Markdown object>"
      ]
     },
     "metadata": {},
     "output_type": "display_data"
    },
    {
     "data": {
      "text/markdown": [
       "<div class=\"macros\" style=\"visibility:hidden;\">\n",
       "$\\newcommand{\\ensuremath}{}$\n",
       "$\\newcommand{\\xspace}{}$\n",
       "$\\newcommand{\\object}[1]{\\texttt{#1}}$\n",
       "$\\newcommand{\\farcs}{{.}''}$\n",
       "$\\newcommand{\\farcm}{{.}'}$\n",
       "$\\newcommand{\\arcsec}{''}$\n",
       "$\\newcommand{\\arcmin}{'}$\n",
       "$\\newcommand{\\ion}[2]{#1#2}$\n",
       "$\\newcommand{\\textsc}[1]{\\textrm{#1}}$\n",
       "$\\newcommand{\\hl}[1]{\\textrm{#1}}$\n",
       "$\\newcommand{\\footnote}[1]{}$\n",
       "$\\newcommand{\\vdag}{(v)^\\dagger}$\n",
       "$\\newcommand$\n",
       "$\\newcommand$</div>\n",
       "\n",
       "\n",
       "\n",
       "<div id=\"title\">\n",
       "\n",
       "# RUBIES spectroscopically confirms the high number density of quiescent galaxies from $\\mathbf{2<z<5}$\n",
       "\n",
       "</div>\n",
       "<div id=\"comments\">\n",
       "\n",
       "[![arXiv](https://img.shields.io/badge/arXiv-2508.08577-b31b1b.svg)](https://arxiv.org/abs/2508.08577)<mark>Appeared on: 2025-08-13</mark> -  _27 pages, 11 figures_\n",
       "\n",
       "</div>\n",
       "<div id=\"authors\">\n",
       "\n",
       "Y. Zhang, et al. -- incl., <mark>A. d. Graaff</mark>\n",
       "\n",
       "</div>\n",
       "<div id=\"abstract\">\n",
       "\n",
       "**Abstract:** We present the number density of massive ( $ \\mathrm{ log (M_{*}/M_{\\odot}) > 10.3} $ ) quiescent galaxies at $2<z<5$ using JWST NIRSpec PRISM spectra. This work relies on spectra from RUBIES, which provides excellent data quality and an unparalleled, well-defined targeting strategy to robustly infer physical properties and number densities. We identify quiescent galaxy candidates within RUBIES through principal component analysis and construct a final sample using star formation histories derived from spectro-photometric fitting of the NIRSpec PRISM spectra and NIRCam photometry. By inverting the RUBIES selection function, we correct for survey incompleteness and calculate the number density of massive quiescent galaxies at these redshifts, providing the most complete spectroscopic estimates prior to cosmic noon to date. We find that early massive quiescent galaxies are surprisingly common ( $\\gtrsim 10^{-5}$ Mpc $^{-3}$ by $4<z<5$ ), which is consistent with previous studies based on JWST photometry alone and/or in smaller survey areas. We compare our number densities with predictions from six state-of-the-art cosmological galaxy formation simulations. At $z>3$ , most simulations fail to produce enough massive quiescent galaxies, suggesting the treatment of feedback and/or the channels for early efficient formation are incomplete in most galaxy evolution models.\n",
       "\n",
       "</div>\n",
       "\n",
       "<div id=\"div_fig1\">\n",
       "\n",
       "<img src=\"tmp_2508.08577/./figures/PCA_selection_v4.png\" alt=\"Fig1\" width=\"100%\"/>\n",
       "\n",
       "**Figure 1. -** Demonstration of the PCA analysis of NIRSpec/PRISM spectra from the DJA: The top row includes super color (SC) distributions (left and center) and derived eigenspectra (right panel). Each SC corresponds to the normalization of an eigenspectrum for each individual source, thus SC space location maps to spectral types. The bottom rows highlight representative examples: Dusty Star-Forming Galaxies (brown triangle), Little Red Dots (yellow circle), Old Quiescent Galaxies (red hexagon), Young Quiescent/Post-Starburst Galaxies (green star), Evolved/Napping Star-Forming Galaxies (blue cross), and Young Star-Forming Galaxies (purple cross). The de-redshifted original spectrum is shown in grey. The \\texttt{SpectRes}-resampled spectrum used in PCA is shown as black dots.   (*fig:pca_selection*)\n",
       "\n",
       "</div>\n",
       "<div id=\"div_fig2\">\n",
       "\n",
       "<img src=\"tmp_2508.08577/./figures/diff_flavors_vs_obs.png\" alt=\"Fig6\" width=\"100%\"/>\n",
       "\n",
       "**Figure 6. -** Left panel: Different flavors of total quiescent galaxy number density binned by redshifts from this sample. We show the number density derived from the entire extended quiescent sample (pink hexagons), the entire strict quiescent sample (red hexagons), and the strict quiescent sample but using parent catalog sources from the entire field rather than just the survey footprints for completeness calculation (orange hexagons). Neither our quiescence criteria nor any potential survey targeting bias has a significant impact on the resulting number density. Middle panel: Our fiducial quiescent galaxy number density compared to literature values using JWST data. Our result is in agreement with previous JWST measurements overall. Right panel: Number densities of old ($t_{90} > 0.8 Gyr$) and young ($t_{90} < 0.8 Gyr$) quiescent galaxies in this work compared to (non-JWST) literature values. This work finds a higher number density for young quiescent galaxies at $3<z<4$ and for old quiescent galaxies at $2<z<3$ than previous non-JWST works.  (*fig:number-densities-observations*)\n",
       "\n",
       "</div>\n",
       "<div id=\"div_fig3\">\n",
       "\n",
       "<img src=\"tmp_2508.08577/./figures/SED_fits_12594+42328.png\" alt=\"Fig2\" width=\"100%\"/>\n",
       "\n",
       "**Figure 2. -** Example spectro-photometric fits of a $z\\sim4$ post-starburst galaxy (ID: RUBIES-UDS-12594) and an old quiescent galaxy (ID: RUBIES-EGS-42328). For each row, the upper left panel shows the SED of observed NIRCam photometry and uncertainty (orange circle and error bar), observed NIRSpec PRISM spectrum and uncertainty (red solid line and pink bands), best-fit model photometry and its 68\\% confidence interval (black square and errorbar), and best-fit model spectrum and its 68\\% confidence interval (black solid line and grey band). The bottom left panel shows the residuals of our fits to the observed photometry (orange squares) and spectrum (red solid line). The inset shows the NIRCam/F444W image of the target galaxy. The red rectangle traces the central MSA micro-shutter used to compute slit-like aperture photometry, and the red circle traces the circular photometric catalog aperture. The right panels show the median (lines) and $16-84\\%$ intervals (bands) for the inferred SFHs and $t_90$ measurements. These fits allow us to robustly determine the physical properties of these galaxies. (*fig:SED_young_QG*)\n",
       "\n",
       "</div><div id=\"qrcode\"><img src=https://api.qrserver.com/v1/create-qr-code/?size=100x100&data=\"https://arxiv.org/abs/2508.08577\"></div>"
      ],
      "text/plain": [
       "<IPython.core.display.Markdown object>"
      ]
     },
     "metadata": {},
     "output_type": "display_data"
    }
   ],
   "source": [
    "[display(Markdown(k[1])) for k in documents];"
   ]
  },
  {
   "cell_type": "markdown",
   "id": "873873a4",
   "metadata": {
    "papermill": {
     "duration": 0.00503,
     "end_time": "2025-08-13T04:25:11.398260",
     "exception": false,
     "start_time": "2025-08-13T04:25:11.393230",
     "status": "completed"
    },
    "tags": []
   },
   "source": [
    "# Create HTML index"
   ]
  },
  {
   "cell_type": "code",
   "execution_count": 10,
   "id": "cf665672",
   "metadata": {
    "execution": {
     "iopub.execute_input": "2025-08-13T04:25:11.408844Z",
     "iopub.status.busy": "2025-08-13T04:25:11.408659Z",
     "iopub.status.idle": "2025-08-13T04:25:11.415447Z",
     "shell.execute_reply": "2025-08-13T04:25:11.414896Z"
    },
    "papermill": {
     "duration": 0.013218,
     "end_time": "2025-08-13T04:25:11.416418",
     "exception": false,
     "start_time": "2025-08-13T04:25:11.403200",
     "status": "completed"
    },
    "tags": []
   },
   "outputs": [
    {
     "name": "stdout",
     "output_type": "stream",
     "text": [
      "133  publications files modified in the last 7 days.\n"
     ]
    }
   ],
   "source": [
    "from datetime import datetime, timedelta, timezone\n",
    "from glob import glob\n",
    "import os\n",
    "\n",
    "files = glob('_build/html/*.md')\n",
    "days = 7\n",
    "now = datetime.today()\n",
    "res = []\n",
    "for fk in files:\n",
    "    stat_result = os.stat(fk).st_ctime\n",
    "    modified = datetime.fromtimestamp(stat_result, tz=timezone.utc).replace(tzinfo=None)\n",
    "    delta = now.today() - modified\n",
    "    if delta <= timedelta(days=days):\n",
    "        res.append((delta.seconds, fk))\n",
    "res = [k[1] for k in reversed(sorted(res, key=lambda x:x[1]))]\n",
    "npub = len(res)\n",
    "print(len(res), f\" publications files modified in the last {days:d} days.\")\n",
    "# [ print('\\t', k) for k in res ];"
   ]
  },
  {
   "cell_type": "code",
   "execution_count": 11,
   "id": "015de740",
   "metadata": {
    "execution": {
     "iopub.execute_input": "2025-08-13T04:25:11.427242Z",
     "iopub.status.busy": "2025-08-13T04:25:11.427027Z",
     "iopub.status.idle": "2025-08-13T04:25:11.439120Z",
     "shell.execute_reply": "2025-08-13T04:25:11.438581Z"
    },
    "papermill": {
     "duration": 0.01859,
     "end_time": "2025-08-13T04:25:11.440087",
     "exception": false,
     "start_time": "2025-08-13T04:25:11.421497",
     "status": "completed"
    },
    "tags": []
   },
   "outputs": [
    {
     "name": "stdout",
     "output_type": "stream",
     "text": [
      "9  publications in the last 7 days.\n"
     ]
    }
   ],
   "source": [
    "import datetime\n",
    "from glob import glob\n",
    "\n",
    "def get_last_n_days(lst, days=1):\n",
    "    \"\"\" Get the documents from the last n days \"\"\"\n",
    "    sorted_lst = sorted(lst, key=lambda x: x[1], reverse=True)\n",
    "    for fname, date in sorted_lst:\n",
    "        if date >= str(datetime.date.today() - datetime.timedelta(days=days)):\n",
    "            yield fname\n",
    "\n",
    "def extract_appearance_dates(lst_file):\n",
    "    dates = []\n",
    "\n",
    "    def get_date(line):\n",
    "        return line\\\n",
    "            .split('Appeared on:')[-1]\\\n",
    "            .split('</mark>')[0].strip()\n",
    "\n",
    "    for fname in lst:\n",
    "        with open(fname, 'r') as f:\n",
    "            found_date = False\n",
    "            for line in f:\n",
    "                if not found_date:\n",
    "                    if \"Appeared on\" in line:\n",
    "                        found_date = True\n",
    "                        dates.append((fname, get_date(line)))\n",
    "                else:\n",
    "                    break\n",
    "    return dates\n",
    "\n",
    "from glob import glob\n",
    "lst = glob('_build/html/*md')\n",
    "days = 7\n",
    "dates = extract_appearance_dates(lst)\n",
    "res = list(get_last_n_days(dates, days))\n",
    "npub = len(res)\n",
    "print(len(res), f\" publications in the last {days:d} days.\")"
   ]
  },
  {
   "cell_type": "code",
   "execution_count": 12,
   "id": "52ca0208",
   "metadata": {
    "execution": {
     "iopub.execute_input": "2025-08-13T04:25:11.450995Z",
     "iopub.status.busy": "2025-08-13T04:25:11.450767Z",
     "iopub.status.idle": "2025-08-13T04:25:11.455745Z",
     "shell.execute_reply": "2025-08-13T04:25:11.455183Z"
    },
    "papermill": {
     "duration": 0.011463,
     "end_time": "2025-08-13T04:25:11.456665",
     "exception": false,
     "start_time": "2025-08-13T04:25:11.445202",
     "status": "completed"
    },
    "scrolled": false,
    "tags": []
   },
   "outputs": [],
   "source": [
    "def create_carousel(npub=4):\n",
    "    \"\"\" Generate the HTML code for a carousel with `npub` slides \"\"\"\n",
    "    carousel = [\"\"\"  <div class=\"carousel\" \"\"\",\n",
    "                \"\"\"       data-flickity='{ \"autoPlay\": 10000, \"adaptiveHeight\": true, \"resize\": true, \"wrapAround\": true, \"pauseAutoPlayOnHover\": true, \"groupCells\": 1 }' id=\"asyncTypeset\">\"\"\"\n",
    "                ]\n",
    "    \n",
    "    item_str = \"\"\"    <div class=\"carousel-cell\"> <div id=\"slide{k}\" class=\"md_view\">Content {k}</div> </div>\"\"\"\n",
    "    for k in range(1, npub + 1):\n",
    "        carousel.append(item_str.format(k=k))\n",
    "    carousel.append(\"  </div>\")\n",
    "    return '\\n'.join(carousel)\n",
    "\n",
    "def create_grid(npub=4):\n",
    "    \"\"\" Generate the HTML code for a flat grid with `npub` slides \"\"\"\n",
    "    grid = [\"\"\"  <div class=\"grid\"> \"\"\",\n",
    "                ]\n",
    "    \n",
    "    item_str = \"\"\"    <div class=\"grid-item\"> <div id=\"slide{k}\" class=\"md_view\">Content {k}</div> </div>\"\"\"\n",
    "    for k in range(1, npub + 1):\n",
    "        grid.append(item_str.format(k=k))\n",
    "    grid.append(\"  </div>\")\n",
    "    return '\\n'.join(grid)"
   ]
  },
  {
   "cell_type": "code",
   "execution_count": 13,
   "id": "a6eac5b6",
   "metadata": {
    "execution": {
     "iopub.execute_input": "2025-08-13T04:25:11.467751Z",
     "iopub.status.busy": "2025-08-13T04:25:11.467509Z",
     "iopub.status.idle": "2025-08-13T04:25:11.472669Z",
     "shell.execute_reply": "2025-08-13T04:25:11.472142Z"
    },
    "papermill": {
     "duration": 0.011748,
     "end_time": "2025-08-13T04:25:11.473593",
     "exception": false,
     "start_time": "2025-08-13T04:25:11.461845",
     "status": "completed"
    },
    "scrolled": false,
    "tags": []
   },
   "outputs": [],
   "source": [
    "carousel = create_carousel(npub)\n",
    "docs = ', '.join(['\"{0:s}\"'.format(k.split('/')[-1]) for k in res])\n",
    "slides = ', '.join([f'\"slide{k}\"' for k in range(1, npub + 1)])\n",
    "\n",
    "with open(\"daily_template.html\", \"r\") as tpl:\n",
    "    page = tpl.read()\n",
    "    page = page.replace(\"{%-- carousel:s --%}\", carousel)\\\n",
    "               .replace(\"{%-- suptitle:s --%}\",  \"7-day archives\" )\\\n",
    "               .replace(\"{%-- docs:s --%}\", docs)\\\n",
    "               .replace(\"{%-- slides:s --%}\", slides)\n",
    "    \n",
    "with open(\"_build/html/index_7days.html\", 'w') as fout:\n",
    "    fout.write(page)"
   ]
  },
  {
   "cell_type": "code",
   "execution_count": 14,
   "id": "adc1a1ec",
   "metadata": {
    "execution": {
     "iopub.execute_input": "2025-08-13T04:25:11.484558Z",
     "iopub.status.busy": "2025-08-13T04:25:11.484360Z",
     "iopub.status.idle": "2025-08-13T04:25:11.490378Z",
     "shell.execute_reply": "2025-08-13T04:25:11.489834Z"
    },
    "papermill": {
     "duration": 0.012599,
     "end_time": "2025-08-13T04:25:11.491349",
     "exception": false,
     "start_time": "2025-08-13T04:25:11.478750",
     "status": "completed"
    },
    "tags": []
   },
   "outputs": [
    {
     "name": "stdout",
     "output_type": "stream",
     "text": [
      "3  publications in the last day.\n"
     ]
    }
   ],
   "source": [
    "# redo for today\n",
    "days = 1\n",
    "res = list(get_last_n_days(dates, days))\n",
    "npub = len(res)\n",
    "print(len(res), f\" publications in the last day.\")\n",
    "\n",
    "carousel = create_carousel(npub)\n",
    "docs = ', '.join(['\"{0:s}\"'.format(k.split('/')[-1]) for k in res])\n",
    "slides = ', '.join([f'\"slide{k}\"' for k in range(1, npub + 1)])\n",
    "\n",
    "with open(\"daily_template.html\", \"r\") as tpl:\n",
    "    page = tpl.read()\n",
    "    page = page.replace(\"{%-- carousel:s --%}\", carousel)\\\n",
    "               .replace(\"{%-- suptitle:s --%}\",  \"Daily\" )\\\n",
    "               .replace(\"{%-- docs:s --%}\", docs)\\\n",
    "               .replace(\"{%-- slides:s --%}\", slides)\n",
    "    \n",
    "# print(carousel, docs, slides)\n",
    "# print(page)\n",
    "with open(\"_build/html/index_daily.html\", 'w') as fout:\n",
    "    fout.write(page)"
   ]
  },
  {
   "cell_type": "code",
   "execution_count": 15,
   "id": "00eece82",
   "metadata": {
    "execution": {
     "iopub.execute_input": "2025-08-13T04:25:11.502696Z",
     "iopub.status.busy": "2025-08-13T04:25:11.502515Z",
     "iopub.status.idle": "2025-08-13T04:25:11.508665Z",
     "shell.execute_reply": "2025-08-13T04:25:11.508090Z"
    },
    "papermill": {
     "duration": 0.012862,
     "end_time": "2025-08-13T04:25:11.509607",
     "exception": false,
     "start_time": "2025-08-13T04:25:11.496745",
     "status": "completed"
    },
    "scrolled": false,
    "tags": []
   },
   "outputs": [
    {
     "name": "stdout",
     "output_type": "stream",
     "text": [
      "6  6 publications selected.\n"
     ]
    }
   ],
   "source": [
    "# Create the flat grid of the last N papers (fixed number regardless of dates)\n",
    "from itertools import islice \n",
    "\n",
    "npub = 6\n",
    "res = [k[0] for k in (islice(reversed(sorted(dates, key=lambda x: x[1])), 6))]\n",
    "print(len(res), f\" {npub} publications selected.\")\n",
    "\n",
    "grid = create_grid(npub)\n",
    "docs = ', '.join(['\"{0:s}\"'.format(k.split('/')[-1]) for k in res])\n",
    "slides = ', '.join([f'\"slide{k}\"' for k in range(1, npub + 1)])\n",
    "\n",
    "with open(\"grid_template.html\", \"r\") as tpl:\n",
    "    page = tpl.read()\n",
    "    page = page.replace(\"{%-- grid-content:s --%}\", grid)\\\n",
    "               .replace(\"{%-- suptitle:s --%}\",  f\"Last {npub:,d} papers\" )\\\n",
    "               .replace(\"{%-- docs:s --%}\", docs)\\\n",
    "               .replace(\"{%-- slides:s --%}\", slides)\n",
    "    \n",
    "# print(grid, docs, slides)\n",
    "# print(page)\n",
    "with open(\"_build/html/index_npub_grid.html\", 'w') as fout:\n",
    "    fout.write(page)"
   ]
  }
 ],
 "metadata": {
  "kernelspec": {
   "display_name": "Python 3 (ipykernel)",
   "language": "python",
   "name": "python3"
  },
  "language_info": {
   "codemirror_mode": {
    "name": "ipython",
    "version": 3
   },
   "file_extension": ".py",
   "mimetype": "text/x-python",
   "name": "python",
   "nbconvert_exporter": "python",
   "pygments_lexer": "ipython3",
   "version": "3.9.23"
  },
  "papermill": {
   "default_parameters": {},
   "duration": 182.304658,
   "end_time": "2025-08-13T04:25:11.729951",
   "environment_variables": {},
   "exception": null,
   "input_path": "MPIA daily digest.ipynb",
   "output_path": "log.ipynb",
   "parameters": {},
   "start_time": "2025-08-13T04:22:09.425293",
   "version": "2.6.0"
  },
  "vscode": {
   "interpreter": {
    "hash": "aee8b7b246df8f9039afb4144a1f6fd8d2ca17a180786b69acc140d282b71a49"
   }
  },
  "widgets": {
   "application/vnd.jupyter.widget-state+json": {
    "state": {
     "076c3b3cde2c4a2fb1864915e519d8fa": {
      "model_module": "@jupyter-widgets/controls",
      "model_module_version": "2.0.0",
      "model_name": "HTMLModel",
      "state": {
       "_dom_classes": [],
       "_model_module": "@jupyter-widgets/controls",
       "_model_module_version": "2.0.0",
       "_model_name": "HTMLModel",
       "_view_count": null,
       "_view_module": "@jupyter-widgets/controls",
       "_view_module_version": "2.0.0",
       "_view_name": "HTMLView",
       "description": "",
       "description_allow_html": false,
       "layout": "IPY_MODEL_f3967e10d6c34c52bc9085fbda2fc6ba",
       "placeholder": "​",
       "style": "IPY_MODEL_fe10287adf6440aaa78d095760e9c099",
       "tabbable": null,
       "tooltip": null,
       "value": " 5/5 [02:38&lt;00:00, 17.16s/it]"
      }
     },
     "1e8f777b4ad249edadbd8788034cffd7": {
      "model_module": "@jupyter-widgets/controls",
      "model_module_version": "2.0.0",
      "model_name": "HTMLModel",
      "state": {
       "_dom_classes": [],
       "_model_module": "@jupyter-widgets/controls",
       "_model_module_version": "2.0.0",
       "_model_name": "HTMLModel",
       "_view_count": null,
       "_view_module": "@jupyter-widgets/controls",
       "_view_module_version": "2.0.0",
       "_view_name": "HTMLView",
       "description": "",
       "description_allow_html": false,
       "layout": "IPY_MODEL_398e0b177098427db6a607e242883a78",
       "placeholder": "​",
       "style": "IPY_MODEL_c1345dd3718d4cd38791c8e58a7477fb",
       "tabbable": null,
       "tooltip": null,
       "value": "100%"
      }
     },
     "398e0b177098427db6a607e242883a78": {
      "model_module": "@jupyter-widgets/base",
      "model_module_version": "2.0.0",
      "model_name": "LayoutModel",
      "state": {
       "_model_module": "@jupyter-widgets/base",
       "_model_module_version": "2.0.0",
       "_model_name": "LayoutModel",
       "_view_count": null,
       "_view_module": "@jupyter-widgets/base",
       "_view_module_version": "2.0.0",
       "_view_name": "LayoutView",
       "align_content": null,
       "align_items": null,
       "align_self": null,
       "border_bottom": null,
       "border_left": null,
       "border_right": null,
       "border_top": null,
       "bottom": null,
       "display": null,
       "flex": null,
       "flex_flow": null,
       "grid_area": null,
       "grid_auto_columns": null,
       "grid_auto_flow": null,
       "grid_auto_rows": null,
       "grid_column": null,
       "grid_gap": null,
       "grid_row": null,
       "grid_template_areas": null,
       "grid_template_columns": null,
       "grid_template_rows": null,
       "height": null,
       "justify_content": null,
       "justify_items": null,
       "left": null,
       "margin": null,
       "max_height": null,
       "max_width": null,
       "min_height": null,
       "min_width": null,
       "object_fit": null,
       "object_position": null,
       "order": null,
       "overflow": null,
       "padding": null,
       "right": null,
       "top": null,
       "visibility": null,
       "width": null
      }
     },
     "5fc60bba96ed4441bd0383b57b3ca091": {
      "model_module": "@jupyter-widgets/base",
      "model_module_version": "2.0.0",
      "model_name": "LayoutModel",
      "state": {
       "_model_module": "@jupyter-widgets/base",
       "_model_module_version": "2.0.0",
       "_model_name": "LayoutModel",
       "_view_count": null,
       "_view_module": "@jupyter-widgets/base",
       "_view_module_version": "2.0.0",
       "_view_name": "LayoutView",
       "align_content": null,
       "align_items": null,
       "align_self": null,
       "border_bottom": null,
       "border_left": null,
       "border_right": null,
       "border_top": null,
       "bottom": null,
       "display": null,
       "flex": null,
       "flex_flow": null,
       "grid_area": null,
       "grid_auto_columns": null,
       "grid_auto_flow": null,
       "grid_auto_rows": null,
       "grid_column": null,
       "grid_gap": null,
       "grid_row": null,
       "grid_template_areas": null,
       "grid_template_columns": null,
       "grid_template_rows": null,
       "height": null,
       "justify_content": null,
       "justify_items": null,
       "left": null,
       "margin": null,
       "max_height": null,
       "max_width": null,
       "min_height": null,
       "min_width": null,
       "object_fit": null,
       "object_position": null,
       "order": null,
       "overflow": null,
       "padding": null,
       "right": null,
       "top": null,
       "visibility": null,
       "width": null
      }
     },
     "6c317ab24b874f5ba4cc6fbbf9cc8ab2": {
      "model_module": "@jupyter-widgets/base",
      "model_module_version": "2.0.0",
      "model_name": "LayoutModel",
      "state": {
       "_model_module": "@jupyter-widgets/base",
       "_model_module_version": "2.0.0",
       "_model_name": "LayoutModel",
       "_view_count": null,
       "_view_module": "@jupyter-widgets/base",
       "_view_module_version": "2.0.0",
       "_view_name": "LayoutView",
       "align_content": null,
       "align_items": null,
       "align_self": null,
       "border_bottom": null,
       "border_left": null,
       "border_right": null,
       "border_top": null,
       "bottom": null,
       "display": null,
       "flex": null,
       "flex_flow": null,
       "grid_area": null,
       "grid_auto_columns": null,
       "grid_auto_flow": null,
       "grid_auto_rows": null,
       "grid_column": null,
       "grid_gap": null,
       "grid_row": null,
       "grid_template_areas": null,
       "grid_template_columns": null,
       "grid_template_rows": null,
       "height": null,
       "justify_content": null,
       "justify_items": null,
       "left": null,
       "margin": null,
       "max_height": null,
       "max_width": null,
       "min_height": null,
       "min_width": null,
       "object_fit": null,
       "object_position": null,
       "order": null,
       "overflow": null,
       "padding": null,
       "right": null,
       "top": null,
       "visibility": null,
       "width": null
      }
     },
     "91fa3420c7614973af1d700be9ff6eec": {
      "model_module": "@jupyter-widgets/controls",
      "model_module_version": "2.0.0",
      "model_name": "HBoxModel",
      "state": {
       "_dom_classes": [],
       "_model_module": "@jupyter-widgets/controls",
       "_model_module_version": "2.0.0",
       "_model_name": "HBoxModel",
       "_view_count": null,
       "_view_module": "@jupyter-widgets/controls",
       "_view_module_version": "2.0.0",
       "_view_name": "HBoxView",
       "box_style": "",
       "children": [
        "IPY_MODEL_1e8f777b4ad249edadbd8788034cffd7",
        "IPY_MODEL_a63f7774254b46a2af7e5d98531ac428",
        "IPY_MODEL_076c3b3cde2c4a2fb1864915e519d8fa"
       ],
       "layout": "IPY_MODEL_6c317ab24b874f5ba4cc6fbbf9cc8ab2",
       "tabbable": null,
       "tooltip": null
      }
     },
     "a63f7774254b46a2af7e5d98531ac428": {
      "model_module": "@jupyter-widgets/controls",
      "model_module_version": "2.0.0",
      "model_name": "FloatProgressModel",
      "state": {
       "_dom_classes": [],
       "_model_module": "@jupyter-widgets/controls",
       "_model_module_version": "2.0.0",
       "_model_name": "FloatProgressModel",
       "_view_count": null,
       "_view_module": "@jupyter-widgets/controls",
       "_view_module_version": "2.0.0",
       "_view_name": "ProgressView",
       "bar_style": "success",
       "description": "",
       "description_allow_html": false,
       "layout": "IPY_MODEL_5fc60bba96ed4441bd0383b57b3ca091",
       "max": 5.0,
       "min": 0.0,
       "orientation": "horizontal",
       "style": "IPY_MODEL_c45e192dfd874ab0a76ea6ec6e9225cf",
       "tabbable": null,
       "tooltip": null,
       "value": 5.0
      }
     },
     "c1345dd3718d4cd38791c8e58a7477fb": {
      "model_module": "@jupyter-widgets/controls",
      "model_module_version": "2.0.0",
      "model_name": "HTMLStyleModel",
      "state": {
       "_model_module": "@jupyter-widgets/controls",
       "_model_module_version": "2.0.0",
       "_model_name": "HTMLStyleModel",
       "_view_count": null,
       "_view_module": "@jupyter-widgets/base",
       "_view_module_version": "2.0.0",
       "_view_name": "StyleView",
       "background": null,
       "description_width": "",
       "font_size": null,
       "text_color": null
      }
     },
     "c45e192dfd874ab0a76ea6ec6e9225cf": {
      "model_module": "@jupyter-widgets/controls",
      "model_module_version": "2.0.0",
      "model_name": "ProgressStyleModel",
      "state": {
       "_model_module": "@jupyter-widgets/controls",
       "_model_module_version": "2.0.0",
       "_model_name": "ProgressStyleModel",
       "_view_count": null,
       "_view_module": "@jupyter-widgets/base",
       "_view_module_version": "2.0.0",
       "_view_name": "StyleView",
       "bar_color": null,
       "description_width": ""
      }
     },
     "f3967e10d6c34c52bc9085fbda2fc6ba": {
      "model_module": "@jupyter-widgets/base",
      "model_module_version": "2.0.0",
      "model_name": "LayoutModel",
      "state": {
       "_model_module": "@jupyter-widgets/base",
       "_model_module_version": "2.0.0",
       "_model_name": "LayoutModel",
       "_view_count": null,
       "_view_module": "@jupyter-widgets/base",
       "_view_module_version": "2.0.0",
       "_view_name": "LayoutView",
       "align_content": null,
       "align_items": null,
       "align_self": null,
       "border_bottom": null,
       "border_left": null,
       "border_right": null,
       "border_top": null,
       "bottom": null,
       "display": null,
       "flex": null,
       "flex_flow": null,
       "grid_area": null,
       "grid_auto_columns": null,
       "grid_auto_flow": null,
       "grid_auto_rows": null,
       "grid_column": null,
       "grid_gap": null,
       "grid_row": null,
       "grid_template_areas": null,
       "grid_template_columns": null,
       "grid_template_rows": null,
       "height": null,
       "justify_content": null,
       "justify_items": null,
       "left": null,
       "margin": null,
       "max_height": null,
       "max_width": null,
       "min_height": null,
       "min_width": null,
       "object_fit": null,
       "object_position": null,
       "order": null,
       "overflow": null,
       "padding": null,
       "right": null,
       "top": null,
       "visibility": null,
       "width": null
      }
     },
     "fe10287adf6440aaa78d095760e9c099": {
      "model_module": "@jupyter-widgets/controls",
      "model_module_version": "2.0.0",
      "model_name": "HTMLStyleModel",
      "state": {
       "_model_module": "@jupyter-widgets/controls",
       "_model_module_version": "2.0.0",
       "_model_name": "HTMLStyleModel",
       "_view_count": null,
       "_view_module": "@jupyter-widgets/base",
       "_view_module_version": "2.0.0",
       "_view_name": "StyleView",
       "background": null,
       "description_width": "",
       "font_size": null,
       "text_color": null
      }
     }
    },
    "version_major": 2,
    "version_minor": 0
   }
  }
 },
 "nbformat": 4,
 "nbformat_minor": 5
}