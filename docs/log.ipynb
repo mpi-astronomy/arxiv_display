{
 "cells": [
  {
   "cell_type": "markdown",
   "id": "92bcb855",
   "metadata": {
    "papermill": {
     "duration": 0.0042,
     "end_time": "2024-10-15T04:10:45.605159",
     "exception": false,
     "start_time": "2024-10-15T04:10:45.600959",
     "status": "completed"
    },
    "tags": []
   },
   "source": [
    "# MPIA Arxiv on Deck 2\n",
    "\n",
    "Contains the steps to produce the paper extractions."
   ]
  },
  {
   "cell_type": "code",
   "execution_count": 1,
   "id": "3a0d6e11",
   "metadata": {
    "execution": {
     "iopub.execute_input": "2024-10-15T04:10:45.613020Z",
     "iopub.status.busy": "2024-10-15T04:10:45.612548Z",
     "iopub.status.idle": "2024-10-15T04:10:46.110930Z",
     "shell.execute_reply": "2024-10-15T04:10:46.110222Z"
    },
    "papermill": {
     "duration": 0.50381,
     "end_time": "2024-10-15T04:10:46.112315",
     "exception": false,
     "start_time": "2024-10-15T04:10:45.608505",
     "status": "completed"
    },
    "tags": []
   },
   "outputs": [],
   "source": [
    "# Imports\n",
    "import os\n",
    "from IPython.display import Markdown, display\n",
    "from tqdm.notebook import tqdm\n",
    "import warnings\n",
    "from PIL import Image \n",
    "import re\n",
    "\n",
    "# requires arxiv_on_deck_2\n",
    "\n",
    "from arxiv_on_deck_2.arxiv2 import (get_new_papers, \n",
    "                                    get_paper_from_identifier,\n",
    "                                    retrieve_document_source, \n",
    "                                    get_markdown_badge)\n",
    "from arxiv_on_deck_2 import (latex,\n",
    "                             latex_bib,\n",
    "                             mpia,\n",
    "                             highlight_authors_in_list)\n",
    "\n",
    "# Sometimes images are really big\n",
    "Image.MAX_IMAGE_PIXELS = 1000000000 "
   ]
  },
  {
   "cell_type": "code",
   "execution_count": 2,
   "id": "22aa9d44",
   "metadata": {
    "execution": {
     "iopub.execute_input": "2024-10-15T04:10:46.120210Z",
     "iopub.status.busy": "2024-10-15T04:10:46.119512Z",
     "iopub.status.idle": "2024-10-15T04:10:46.127683Z",
     "shell.execute_reply": "2024-10-15T04:10:46.127160Z"
    },
    "papermill": {
     "duration": 0.01292,
     "end_time": "2024-10-15T04:10:46.128634",
     "exception": false,
     "start_time": "2024-10-15T04:10:46.115714",
     "status": "completed"
    },
    "tags": []
   },
   "outputs": [],
   "source": [
    "# Some useful definitions.\n",
    "\n",
    "class AffiliationWarning(UserWarning):\n",
    "    pass\n",
    "\n",
    "class AffiliationError(RuntimeError):\n",
    "    pass\n",
    "\n",
    "def validation(source: str):\n",
    "    \"\"\"Raises error paper during parsing of source file\n",
    "    \n",
    "    Allows checks before parsing TeX code.\n",
    "    \n",
    "    Raises AffiliationWarning\n",
    "    \"\"\"\n",
    "    check = mpia.affiliation_verifications(source, verbose=True)\n",
    "    if check is not True:\n",
    "        raise AffiliationError(\"mpia.affiliation_verifications: \" + check)\n",
    "\n",
    "        \n",
    "warnings.simplefilter('always', AffiliationWarning)\n",
    "\n",
    "\n",
    "def get_markdown_qrcode(paper_id: str):\n",
    "    \"\"\" Generate a qrcode to the arxiv page using qrserver.com\n",
    "    \n",
    "    :param paper: Arxiv paper\n",
    "    :returns: markdown text\n",
    "    \"\"\"\n",
    "    url = r\"https://api.qrserver.com/v1/create-qr-code/?size=100x100&data=\"\n",
    "    txt = f\"\"\"<img src={url}\"https://arxiv.org/abs/{paper_id}\">\"\"\"\n",
    "    txt = '<div id=\"qrcode\">' + txt + '</div>'\n",
    "    return txt\n",
    "\n",
    "\n",
    "def clean_non_western_encoded_characters_commands(text: str) -> str:\n",
    "    \"\"\" Remove non-western encoded characters from a string\n",
    "    List may need to grow.\n",
    "    \n",
    "    :param text: the text to clean\n",
    "    :return: the cleaned text\n",
    "    \"\"\"\n",
    "    text = re.sub(r\"(\\\\begin{CJK}{UTF8}{gbsn})(.*?)(\\\\end{CJK})\", r\"\\2\", text)\n",
    "    return text\n",
    "\n",
    "\n",
    "def get_initials(name: str) -> str:\n",
    "    \"\"\" Get the short name, e.g., A.-B. FamName\n",
    "    :param name: full name\n",
    "    :returns: initials\n",
    "    \"\"\"\n",
    "    initials = []\n",
    "    # account for non western names often in ()\n",
    "    if '(' in name:\n",
    "        name = clean_non_western_encoded_characters_commands(name)\n",
    "        suffix = re.findall(r\"\\((.*?)\\)\", name)[0]\n",
    "        name = name.replace(f\"({suffix})\", '')\n",
    "    else:\n",
    "        suffix = ''\n",
    "    split = name.split()\n",
    "    for token in split[:-1]:\n",
    "        if '-' in token:\n",
    "            current = '-'.join([k[0] + '.' for k in token.split('-')])\n",
    "        else:\n",
    "            current = token[0] + '.'\n",
    "        initials.append(current)\n",
    "    initials.append(split[-1].strip())\n",
    "    if suffix:\n",
    "        initials.append(f\"({suffix})\")\n",
    "    return ' '.join(initials)"
   ]
  },
  {
   "cell_type": "markdown",
   "id": "14bd6310",
   "metadata": {
    "papermill": {
     "duration": 0.002958,
     "end_time": "2024-10-15T04:10:46.134734",
     "exception": false,
     "start_time": "2024-10-15T04:10:46.131776",
     "status": "completed"
    },
    "tags": []
   },
   "source": [
    "## get list of arxiv paper candidates\n",
    "\n",
    "We use the MPIA mitarbeiter list webpage from mpia.de to get author names\n",
    "We then get all new papers from Arxiv and match authors"
   ]
  },
  {
   "cell_type": "code",
   "execution_count": 3,
   "id": "7ea813a8",
   "metadata": {
    "execution": {
     "iopub.execute_input": "2024-10-15T04:10:46.141614Z",
     "iopub.status.busy": "2024-10-15T04:10:46.141226Z",
     "iopub.status.idle": "2024-10-15T04:11:03.152832Z",
     "shell.execute_reply": "2024-10-15T04:11:03.152184Z"
    },
    "papermill": {
     "duration": 17.01649,
     "end_time": "2024-10-15T04:11:03.154115",
     "exception": false,
     "start_time": "2024-10-15T04:10:46.137625",
     "status": "completed"
    },
    "tags": []
   },
   "outputs": [],
   "source": [
    "# deal with the author list and edge cases of people that cannot be consistent on their name  \n",
    "\n",
    "def filter_non_scientists(name: str) -> bool:\n",
    "    \"\"\" Loose filter on expected authorships\n",
    "\n",
    "    removing IT, administration, technical staff\n",
    "    :param name: name\n",
    "    :returns: False if name is not a scientist\n",
    "    \"\"\"\n",
    "    remove_list = ['Licht', 'Binroth', 'Witzel', 'Jordan',\n",
    "                   'Zähringer', 'Scheerer', 'Hoffmann', 'Düe',\n",
    "                   'Hellmich', 'Enkler-Scharpegge', 'Witte-Nguy',\n",
    "                   'Dehen', 'Beckmann', 'Jager', 'Jäger'\n",
    "                  ]\n",
    "\n",
    "    for k in remove_list:\n",
    "        if k in name:\n",
    "            return False\n",
    "    return True\n",
    "\n",
    "def add_author_to_list(author_list: list) -> list:\n",
    "    \"\"\" Add author to list if not already in list\n",
    "    \n",
    "    :param author: author name\n",
    "    :param author_list: list of authors\n",
    "    :returns: updated list of authors\n",
    "    \"\"\"\n",
    "    add_list = ['T. Henning']\n",
    "\n",
    "    for author in add_list:\n",
    "        if author not in author_list:\n",
    "            author_list.append(author)\n",
    "    return author_list\n",
    "\n",
    "# get list from MPIA website\n",
    "# filter for non-scientists (mpia.get_mpia_mitarbeiter_list() does some filtering)\n",
    "mpia_authors = [k[1] for k in mpia.get_mpia_mitarbeiter_list() if filter_non_scientists(k[1])]\n",
    "# add some missing author because of inconsistencies in their MPIA name and author name on papers\n",
    "mpia_authors = add_author_to_list(mpia_authors)"
   ]
  },
  {
   "cell_type": "code",
   "execution_count": 4,
   "id": "2645e73a",
   "metadata": {
    "execution": {
     "iopub.execute_input": "2024-10-15T04:11:03.162605Z",
     "iopub.status.busy": "2024-10-15T04:11:03.162380Z",
     "iopub.status.idle": "2024-10-15T04:11:04.110383Z",
     "shell.execute_reply": "2024-10-15T04:11:04.109686Z"
    },
    "papermill": {
     "duration": 0.953121,
     "end_time": "2024-10-15T04:11:04.111629",
     "exception": false,
     "start_time": "2024-10-15T04:11:03.158508",
     "status": "completed"
    },
    "tags": []
   },
   "outputs": [
    {
     "name": "stdout",
     "output_type": "stream",
     "text": [
      "S. Kraus  ->  S. Kraus  |  ['S. Kraus']\n",
      "X. Zhang  ->  X. Zhang  |  ['X. Zhang']\n",
      "H.-W. Rix  ->  H.-W. Rix  |  ['H.-W. Rix']\n",
      "J. Liu  ->  J. Liu  |  ['J. Liu']\n",
      "X. Zhang  ->  X. Zhang  |  ['X. Zhang']\n",
      "A. Hughes  ->  A. Hughes  |  ['A. Hughes']\n",
      "P. Garcia  ->  A. P. Garcia  |  ['P. Garcia']\n",
      "L. Kreidberg  ->  L. Kreidberg  |  ['L. Kreidberg']\n"
     ]
    },
    {
     "name": "stdout",
     "output_type": "stream",
     "text": [
      "Arxiv has 102 new papers today\n",
      "          7 with possible author matches\n"
     ]
    }
   ],
   "source": [
    "new_papers = get_new_papers()\n",
    "# add manual references\n",
    "add_paper_refs = []\n",
    "new_papers.extend([get_paper_from_identifier(k) for k in add_paper_refs])\n",
    "\n",
    "def robust_call(fn, value, *args, **kwargs):\n",
    "    try:\n",
    "        return fn(value, *args, **kwargs)\n",
    "    except Exception:\n",
    "        return value\n",
    "\n",
    "candidates = []\n",
    "for paperk in new_papers:\n",
    "    # Check author list with their initials\n",
    "    normed_author_list = [robust_call(mpia.get_initials, k) for k in paperk['authors']]\n",
    "    hl_authors = highlight_authors_in_list(normed_author_list, mpia_authors, verbose=True)\n",
    "    matches = [(hl, orig) for hl, orig in zip(hl_authors, paperk['authors']) if 'mark' in hl]\n",
    "    paperk['authors'] = hl_authors\n",
    "    if matches:\n",
    "        # only select paper if an author matched our list\n",
    "        candidates.append(paperk)\n",
    "print(\"\"\"Arxiv has {0:,d} new papers today\"\"\".format(len(new_papers)))        \n",
    "print(\"\"\"          {0:,d} with possible author matches\"\"\".format(len(candidates)))"
   ]
  },
  {
   "cell_type": "markdown",
   "id": "3543b34a",
   "metadata": {
    "papermill": {
     "duration": 0.003356,
     "end_time": "2024-10-15T04:11:04.118634",
     "exception": false,
     "start_time": "2024-10-15T04:11:04.115278",
     "status": "completed"
    },
    "tags": []
   },
   "source": [
    "# Parse sources and generate relevant outputs\n",
    "\n",
    "From the candidates, we do the following steps:\n",
    "* get their tarball from ArXiv (and extract data)\n",
    "* find the main .tex file: find one with \\documentclass{...} (sometimes it's non trivial)\n",
    "* Check affiliations with :func:`validation`, which uses :func:`mpia.affiliation_verifications`\n",
    "* If passing the affiliations: we parse the .tex source\n",
    "   * inject sub-documents into the main (flatten the main document)\n",
    "   * parse structure, extract information (title, abstract, authors, figures...)\n",
    "   * handles `\\graphicspath` if provided\n",
    "* Generate the .md document."
   ]
  },
  {
   "cell_type": "code",
   "execution_count": 5,
   "id": "9576b79e",
   "metadata": {
    "execution": {
     "iopub.execute_input": "2024-10-15T04:11:04.126359Z",
     "iopub.status.busy": "2024-10-15T04:11:04.125809Z",
     "iopub.status.idle": "2024-10-15T04:12:32.684132Z",
     "shell.execute_reply": "2024-10-15T04:12:32.683360Z"
    },
    "papermill": {
     "duration": 88.563433,
     "end_time": "2024-10-15T04:12:32.685312",
     "exception": false,
     "start_time": "2024-10-15T04:11:04.121879",
     "status": "completed"
    },
    "scrolled": false,
    "tags": []
   },
   "outputs": [
    {
     "data": {
      "application/vnd.jupyter.widget-view+json": {
       "model_id": "6e6987a986244c4f816c13fa6c762f4e",
       "version_major": 2,
       "version_minor": 0
      },
      "text/plain": [
       "  0%|          | 0/7 [00:00<?, ?it/s]"
      ]
     },
     "metadata": {},
     "output_type": "display_data"
    },
    {
     "name": "stdout",
     "output_type": "stream",
     "text": [
      "Retrieving document from  https://arxiv.org/e-print/2410.09259\n"
     ]
    },
    {
     "name": "stdout",
     "output_type": "stream",
     "text": [
      "extracting tarball to tmp_2410.09259..."
     ]
    },
    {
     "name": "stdout",
     "output_type": "stream",
     "text": [
      " done.\n",
      "Retrieving document from  https://arxiv.org/e-print/2410.09499\n"
     ]
    },
    {
     "name": "stdout",
     "output_type": "stream",
     "text": [
      "extracting tarball to tmp_2410.09499..."
     ]
    },
    {
     "name": "stdout",
     "output_type": "stream",
     "text": [
      " done.\n",
      "Retrieving document from  https://arxiv.org/e-print/2410.09705\n"
     ]
    },
    {
     "name": "stdout",
     "output_type": "stream",
     "text": [
      "extracting tarball to tmp_2410.09705..."
     ]
    },
    {
     "name": "stdout",
     "output_type": "stream",
     "text": [
      " done.\n"
     ]
    },
    {
     "name": "stdout",
     "output_type": "stream",
     "text": [
      "Issues with the citations\n",
      "list index out of range\n",
      "Retrieving document from  https://arxiv.org/e-print/2410.09720\n"
     ]
    },
    {
     "name": "stdout",
     "output_type": "stream",
     "text": [
      "extracting tarball to tmp_2410.09720..."
     ]
    },
    {
     "name": "stdout",
     "output_type": "stream",
     "text": [
      " done.\n",
      "Retrieving document from  https://arxiv.org/e-print/2410.09827\n"
     ]
    },
    {
     "name": "stdout",
     "output_type": "stream",
     "text": [
      "extracting tarball to tmp_2410.09827..."
     ]
    },
    {
     "name": "stdout",
     "output_type": "stream",
     "text": [
      " done.\n",
      "Retrieving document from  https://arxiv.org/e-print/2410.09843\n"
     ]
    },
    {
     "name": "stdout",
     "output_type": "stream",
     "text": [
      "extracting tarball to tmp_2410.09843..."
     ]
    },
    {
     "name": "stdout",
     "output_type": "stream",
     "text": [
      " done.\n"
     ]
    },
    {
     "name": "stderr",
     "output_type": "stream",
     "text": [
      "/opt/hostedtoolcache/Python/3.9.20/x64/lib/python3.9/site-packages/IPython/core/interactiveshell.py:3550: LatexWarning: Multiple tex files.\n",
      "\n",
      "  exec(code_obj, self.user_global_ns, self.user_ns)\n",
      "/opt/hostedtoolcache/Python/3.9.20/x64/lib/python3.9/site-packages/IPython/core/interactiveshell.py:3550: LatexWarning: Found documentclass in tmp_2410.09843/sandoval_stutz.tex\n",
      "\n",
      "  exec(code_obj, self.user_global_ns, self.user_ns)\n",
      "/opt/hostedtoolcache/Python/3.9.20/x64/lib/python3.9/site-packages/arxiv_on_deck_2/latex.py:414: LatexWarning: Latex injecting: 'authors' from 'tmp_2410.09843/authors.tex'\n",
      "  warnings.warn(LatexWarning(f\"Latex injecting: '{ext}' from '{subsource}'\"))\n"
     ]
    },
    {
     "name": "stdout",
     "output_type": "stream",
     "text": [
      "P. Garcia  ->  A. P. Garcia  |  ['P. Garcia']\n"
     ]
    },
    {
     "name": "stdout",
     "output_type": "stream",
     "text": [
      "Found 107 bibliographic references in tmp_2410.09843/sandoval_stutz.bbl.\n",
      "Retrieving document from  https://arxiv.org/e-print/2410.10183\n"
     ]
    },
    {
     "name": "stdout",
     "output_type": "stream",
     "text": [
      "extracting tarball to tmp_2410.10183..."
     ]
    },
    {
     "name": "stdout",
     "output_type": "stream",
     "text": [
      " done.\n"
     ]
    },
    {
     "name": "stdout",
     "output_type": "stream",
     "text": [
      "L. Kreidberg  ->  L. Kreidberg  |  ['L. Kreidberg']\n"
     ]
    },
    {
     "name": "stderr",
     "output_type": "stream",
     "text": [
      "/opt/hostedtoolcache/Python/3.9.20/x64/lib/python3.9/site-packages/arxiv_on_deck_2/latex.py:132: LatexWarning: attempting recovering figure GJ1214b_retrieval_steam.pdf\n",
      "  warnings.warn(LatexWarning(f'attempting recovering figure {image}'))\n",
      "/opt/hostedtoolcache/Python/3.9.20/x64/lib/python3.9/site-packages/arxiv_on_deck_2/latex.py:707: LatexWarning: Could not find graphic \\includegraphics[width=0.75\\linewidth]{GJ1214b_retrieval_steam.pdf}\n",
      "  warnings.warn(LatexWarning(f\"Could not find graphic {k}\"))\n"
     ]
    },
    {
     "name": "stdout",
     "output_type": "stream",
     "text": [
      "Found 120 bibliographic references in tmp_2410.10183/ms.bbl.\n",
      "Issues with the citations\n",
      "syntax error in line 5: unbalanced braces\n"
     ]
    }
   ],
   "source": [
    "documents = []\n",
    "failed = []\n",
    "for paper in tqdm(candidates):\n",
    "    # debug crap\n",
    "    paper['identifier'] = paper['identifier'].lower().replace('arxiv:', '').replace(r'\\n', '').strip()\n",
    "    paper_id = paper['identifier']\n",
    "    \n",
    "    folder = f'tmp_{paper_id}'\n",
    "\n",
    "    try:\n",
    "        if not os.path.isdir(folder):\n",
    "            folder = retrieve_document_source(f\"{paper_id}\", f'tmp_{paper_id}')\n",
    "        \n",
    "        try:\n",
    "            doc = latex.LatexDocument(folder, validation=validation)    \n",
    "        except AffiliationError as affilerror:\n",
    "            msg = f\"ArXiv:{paper_id:s} is not an MPIA paper... \" + str(affilerror)\n",
    "            failed.append((paper, \"affiliation error: \" + str(affilerror) ))\n",
    "            continue\n",
    "        \n",
    "        # Hack because sometimes author parsing does not work well\n",
    "        if (len(doc.authors) != len(paper['authors'])):\n",
    "            doc._authors = paper['authors']\n",
    "        else:\n",
    "            # highlight authors (FIXME: doc.highlight_authors)\n",
    "            # done on arxiv paper already\n",
    "            doc._authors = highlight_authors_in_list(\n",
    "                [get_initials(k) for k in doc.authors], \n",
    "                mpia_authors, verbose=True)\n",
    "        if (doc.abstract) in (None, ''):\n",
    "            doc._abstract = paper['abstract']\n",
    "            \n",
    "        doc.comment = (get_markdown_badge(paper_id) + \n",
    "                       \"<mark>Appeared on: \" + paper['date'] + \"</mark> - \")\n",
    "        if paper['comments']:\n",
    "            doc.comment += \" _\" + paper['comments'] + \"_\"\n",
    "        \n",
    "        full_md = doc.generate_markdown_text()\n",
    "        \n",
    "        full_md += get_markdown_qrcode(paper_id)\n",
    "        \n",
    "        # replace citations\n",
    "        try:\n",
    "            bibdata = latex_bib.LatexBib.from_doc(doc)\n",
    "            full_md = latex_bib.replace_citations(full_md, bibdata)\n",
    "        except Exception as e:\n",
    "            print(\"Issues with the citations\")\n",
    "            print(e)\n",
    "        \n",
    "        documents.append((paper_id, full_md))\n",
    "    except Exception as e:\n",
    "        warnings.warn(latex.LatexWarning(f\"{paper_id:s} did not run properly\\n\" +\n",
    "                                         str(e)\n",
    "                                        ))\n",
    "        failed.append((paper, \"latex error \" + str(e)))"
   ]
  },
  {
   "cell_type": "markdown",
   "id": "2505a25c",
   "metadata": {
    "papermill": {
     "duration": 0.004231,
     "end_time": "2024-10-15T04:12:32.694156",
     "exception": false,
     "start_time": "2024-10-15T04:12:32.689925",
     "status": "completed"
    },
    "tags": []
   },
   "source": [
    "### Export the logs\n",
    "\n",
    "Throughout, we also keep track of the logs per paper. see `logs-{today date}.md` "
   ]
  },
  {
   "cell_type": "code",
   "execution_count": 6,
   "id": "d733828a",
   "metadata": {
    "execution": {
     "iopub.execute_input": "2024-10-15T04:12:32.704150Z",
     "iopub.status.busy": "2024-10-15T04:12:32.703576Z",
     "iopub.status.idle": "2024-10-15T04:12:32.721683Z",
     "shell.execute_reply": "2024-10-15T04:12:32.721064Z"
    },
    "papermill": {
     "duration": 0.024224,
     "end_time": "2024-10-15T04:12:32.722672",
     "exception": false,
     "start_time": "2024-10-15T04:12:32.698448",
     "status": "completed"
    },
    "scrolled": false,
    "tags": []
   },
   "outputs": [
    {
     "data": {
      "text/markdown": [
       "## Successful papers"
      ],
      "text/plain": [
       "<IPython.core.display.Markdown object>"
      ]
     },
     "metadata": {},
     "output_type": "display_data"
    },
    {
     "data": {
      "text/markdown": [
       "\n",
       "|||\n",
       "|---:|:---|\n",
       "| [![arXiv](https://img.shields.io/badge/arXiv-2410.09705-b31b1b.svg)](https://arxiv.org/abs/2410.09705) | **The formation and survival of the Milky Way's oldest stellar disk**  |\n",
       "|| M. Xiang, et al. -- incl., <mark>H.-W. Rix</mark>, <mark>J. Liu</mark> |\n",
       "|*Appeared on*| *2024-10-15*|\n",
       "|*Comments*| *Published in Nature Astronomy on 10 October, 2024; This manuscript is the accepted version*|\n",
       "|**Abstract**|            It remains a mystery when our Milky Way first formed a stellar disk component that survived and maintained its disk structure from subsequent galaxy mergers. We present a study of the age-dependent structure and star formation rate of the Milky Way's disk using high-alpha stars with significant orbital angular momentum that have precise age determinations. Our results show that the radial scale length is nearly independent of age, while the vertical scale height experienced dramatic evolution. A disk-like geometry presents even for populations older than 13 Gyr, with the scale height-to-length ratio dropping below 0.5 for populations younger than 12.5 Gyr. We dub the oldest population that has maintained a disk geometry - apparently formed over 13 Gyr ago - PanGu. With an estimated present-day stellar mass of $2 \\times 10^9$ $M_\\odot$, PanGu is presumed to be a major stellar component of our Galaxy in the earliest epoch. The total present-day stellar mass of the whole high-alpha disk is $2 \\times 10^{10}$ $M_\\odot$, mostly formed during a distinct star formation rate peak of 11 $M_\\odot$ per year around 11 Gyrs ago. A comparison with Milky Way analogs in the TNG50 simulations implies that our Galaxy has experienced an exceptionally quiescent dynamical history, even before the Gaia-Enceladus merger.         |"
      ],
      "text/plain": [
       "[2410.09705] The formation and survival of the Milky Way's oldest stellar disk\n",
       "\tM. Xiang, et al. -- incl., <mark>H.-W. Rix</mark>, <mark>J. Liu</mark>"
      ]
     },
     "metadata": {},
     "output_type": "display_data"
    },
    {
     "data": {
      "text/markdown": [
       "\n",
       "|||\n",
       "|---:|:---|\n",
       "| [![arXiv](https://img.shields.io/badge/arXiv-2410.09843-b31b1b.svg)](https://arxiv.org/abs/2410.09843) | **ALMA-IMF XVIII: The assembly of a star cluster: Dense N$_2$H$^+$ (1-0) kinematics in the massive G351.77 protocluster**  |\n",
       "|| N. A. Sandoval-Garrido, et al. -- incl., <mark>P. Garcia</mark> |\n",
       "|*Appeared on*| *2024-10-15*|\n",
       "|*Comments*| *Submitted in A&A, 28 pages, 31 figures, 4 interactive figures, 7 tables*|\n",
       "|**Abstract**|            ALMA-IMF observed 15 massive protoclusters capturing multiple spectral lines and the continuum emission. We focus on the G351.77 protocluster ($\\sim$ 2500 M$_{\\odot}$, estimated from single-dish continuum observations) located at 2 kpc. We trace the dense gas emission and kinematics with N$_2$H$^+$ (1-0) at $\\sim$ 4 kau resolution. We estimate an N$_2$H$^+$ relative abundance $\\sim (1.7 \\pm 0.5) \\times 10^{-10}$. We decompose the N$_2$H$^+$ emission into up to two velocity components, highlighting the kinematic complexity in the dense gas. By examining the position-velocity (PV) diagrams on small scales, we observe clear inflow signatures (V-shapes) associated with dense cores. The most prominent V-shape has a mass inflow rate of $\\sim 9.8 \\times 10^{-4}$ M$_{\\odot}$ yr$^{-1}$ and a short timescale of $\\sim$ 15.6 kyr. We also observe V-shapes without associated cores. This suggests both that cores or centers of accretion exist below the 1.3 mm detection limit, and that the V-shapes may be viable tracers of very early accretion and star formation on $\\sim$ 4 kau scales. The large-scale PV diagram shows that the protocluster is separated into 2 principal velocity structures. Combined with smaller scale DCN and H$_2$CO emission, we propose a scenario of larger scale slow contraction with rotation in the center based on simple toy models. This scenario leads the suggestion of outside-in evolution of the protocluster as it collapses. The gas depletion times implied by the V-shapes are short ($\\sim$ 0.3 Myr), requiring either very fast cluster formation, and/or continuous mass feeding of the protocluster. The latter is possible via the Mother Filament G351.77 is forming out of. The similarities in the properties of G351.77 and the recently published work in G353.41 indicate that many of the physical conditions inferred via the ALMA-IMF N$_2$H$^+$ observations may be generic to protoclusters.         |"
      ],
      "text/plain": [
       "[2410.09843] ALMA-IMF XVIII: The assembly of a star cluster: Dense N$_2$H$^+$ (1-0) kinematics in the massive G351.77 protocluster\n",
       "\tN. A. Sandoval-Garrido, et al. -- incl., <mark>P. Garcia</mark>"
      ]
     },
     "metadata": {},
     "output_type": "display_data"
    },
    {
     "data": {
      "text/markdown": [
       "\n",
       "|||\n",
       "|---:|:---|\n",
       "| [![arXiv](https://img.shields.io/badge/arXiv-2410.10183-b31b1b.svg)](https://arxiv.org/abs/2410.10183) | **Possible Carbon Dioxide Above the Thick Aerosols of GJ 1214 b**  |\n",
       "|| E. Schlawin, et al. -- incl., <mark>L. Kreidberg</mark> |\n",
       "|*Appeared on*| *2024-10-15*|\n",
       "|*Comments*| *22 pages, 11 figures, Accepted in ApJL, Please also see a companion paper Ohno et al. (2024)*|\n",
       "|**Abstract**|            Sub-Neptune planets with radii smaller than Neptune (3.9 Re) are the most common type of planet known to exist in The Milky Way, even though they are absent in the Solar System. These planets can potentially have a large diversity of compositions as a result of different mixtures of rocky material, icy material and gas accreted from a protoplanetary disk. However, the bulk density of a sub-Neptune, informed by its mass and radius alone, cannot uniquely constrain its composition; atmospheric spectroscopy is necessary. GJ 1214 b, which hosts an atmosphere that is potentially the most favorable for spectroscopic detection of any sub-Neptune, is instead enshrouded in aerosols (thus showing no spectroscopic features), hiding its composition from view at previously observed wavelengths in its terminator. Here, we present a JWST NIRSpec transmission spectrum from 2.8 to 5.1 um that shows signatures of carbon dioxide and methane, expected at high metallicity. A model containing both these molecules is preferred by 3.3 and 3.6 sigma as compared to a featureless spectrum for two different data analysis pipelines, respectively. Given the low signal-to-noise of the features compared to the continuum, however, more observations are needed to confirm the carbon dioxide and methane signatures and better constrain other diagnostic features in the near-infrared. Further modeling of the planet's atmosphere, interior structure and origins will provide valuable insights about how sub-Neptunes like GJ 1214 b form and evolve.         |"
      ],
      "text/plain": [
       "[2410.10183] Possible Carbon Dioxide Above the Thick Aerosols of GJ 1214 b\n",
       "\tE. Schlawin, et al. -- incl., <mark>L. Kreidberg</mark>"
      ]
     },
     "metadata": {},
     "output_type": "display_data"
    },
    {
     "data": {
      "text/markdown": [
       "## Failed papers"
      ],
      "text/plain": [
       "<IPython.core.display.Markdown object>"
      ]
     },
     "metadata": {},
     "output_type": "display_data"
    },
    {
     "data": {
      "text/markdown": [
       "\n",
       "|||\n",
       "|---:|:---|\n",
       "| [![arXiv](https://img.shields.io/badge/arXiv-2410.09259-b31b1b.svg)](https://arxiv.org/abs/2410.09259) | **Visual Orbits of Wolf-Rayet Stars I: The Orbit of the dust-producing Wolf-Rayet binary WR\\,137 measured with the CHARA Array**  |\n",
       "|| N. D. Richardson, et al. -- incl., <mark>S. Kraus</mark> |\n",
       "|*Appeared on*| *2024-10-15*|\n",
       "|*Comments*| *Accepted to ApJ*|\n",
       "|**Abstract**|            Classical Wolf-Rayet stars are the descendants of massive OB stars that have lost their hydrogen envelopes and are burning helium in their cores prior to exploding as type Ib/c supernovae. The mechanisms for losing their hydrogen envelopes are either through binary interactions or through strong stellar winds potentially coupled with episodic mass-loss. Amongst the bright classical WR stars, the binary system WR\\,137 (HD\\,192641; WC7d + O9e) is the subject of this paper. This binary is known to have a 13-year period and produces dust near periastron. Here we report on interferometry with the CHARA Array collected over a decade of time and providing the first visual orbit for the system. We combine these astrometric measurements with archival radial velocities to measure masses of the stars of $M_{\\rm WR} = 9.5\\pm3.4 M_\\odot$ and $M_{\\rm O} = 17.3\\pm 1.9 M_\\odot$ when we use the most recent \\textit{Gaia} distance. These results are then compared to predicted dust distribution using these orbital elements, which match the observed imaging from \\textit{JWST} as discussed recently by Lau et al. Furthermore, we compare the system to the BPASS models, finding that the WR star likely formed through stellar winds and not through binary interactions. However, the companion O star did likely accrete some material from the WR's mass-loss to provide the rotation seen today that drives its status as an Oe star.         |\n",
       "|<p style=\"color:green\"> **ERROR** </p>| <p style=\"color:green\">affiliation error: mpia.affiliation_verifications: 'Heidelberg' keyword not found.</p> |"
      ],
      "text/plain": [
       "<IPython.core.display.Markdown object>"
      ]
     },
     "metadata": {},
     "output_type": "display_data"
    },
    {
     "data": {
      "text/markdown": [
       "\n",
       "|||\n",
       "|---:|:---|\n",
       "| [![arXiv](https://img.shields.io/badge/arXiv-2410.09499-b31b1b.svg)](https://arxiv.org/abs/2410.09499) | **The SRG/eROSITA All-Sky Survey : Constraints on the structure growth from cluster number counts**  |\n",
       "|| E. Artis, et al. -- incl., <mark>X. Zhang</mark> |\n",
       "|*Appeared on*| *2024-10-15*|\n",
       "|*Comments*| **|\n",
       "|**Abstract**|            Beyond testing the current cosmological paradigm, cluster number counts can also be utilized to investigate the discrepancies currently affecting current cosmological measurements. In particular, cosmological studies based on cosmic shear and other large-scale structure probes routinely find a value of the amplitude of the fluctuations in the universe S8 smaller than the one inferred from the primary cosmic microwave background. In this work, we investigate this tension by measuring structure evolution across cosmic time as probed by the number counts of the massive halos with the first SRG/eROSITA All-Sky Survey cluster catalog in the Western Galactic Hemisphere complemented with the overlapping Dark Energy Survey Year-3, KiloDegree Survey, and Hyper Suprime-Cam data for weak lensing mass calibration, by implementing two different parameterizations and a model-agnostic method. In the first model, we measure the cosmic linear growth index as {\\gamma} = 1.19 \\pm 0.21, in tension with the standard value of {\\gamma} = 0.55, but in good statistical agreement with other large-scale structures probes. The second model is a phenomenological scenario in which we rescale the linear matter power spectrum at low redshift to investigate a potential reduction of structure formation, providing similar results. Finally, in a third strategy, we consider a standard {\\Lambda}CDM cosmology, but we separate the cluster catalog into five redshift bins, measuring the cosmological parameters in each and inferring the evolution of the structure formation, finding hints of a reduction. Interestingly, the S8 value inferred from eRASS1 cluster number counts, when we add a degree of freedom to the matter power spectrum, recovers the value inferred by cosmic shear studies.         |\n",
       "|<p style=\"color:green\"> **ERROR** </p>| <p style=\"color:green\">affiliation error: mpia.affiliation_verifications: 'Heidelberg' keyword not found.</p> |"
      ],
      "text/plain": [
       "<IPython.core.display.Markdown object>"
      ]
     },
     "metadata": {},
     "output_type": "display_data"
    },
    {
     "data": {
      "text/markdown": [
       "\n",
       "|||\n",
       "|---:|:---|\n",
       "| [![arXiv](https://img.shields.io/badge/arXiv-2410.09720-b31b1b.svg)](https://arxiv.org/abs/2410.09720) | **Recurring tidal disruption events a decade apart in IRAS F01004-2237**  |\n",
       "|| L. Sun, et al. -- incl., <mark>X. Zhang</mark> |\n",
       "|*Appeared on*| *2024-10-15*|\n",
       "|*Comments*| *22 pages, 16 figures, 9 tables, submitted to A&A*|\n",
       "|**Abstract**|            We report the discovery of a second optical flare that occurred in September 2021 in IRAS F01004-2237, where the first flare occurred in 2010 has been reported, and present a detailed analysis of multi-band data. The position of the flare coincides with the galaxy centre with a precision of 650 pc. The flare peaks in $\\sim50$ days with an absolute magnitude of $\\sim-21$ and fades in two years roughly following $L\\propto t^{-5/3}$. It maintains a nearly constant blackbody temperature of $\\sim$22,000 K in the late time. Its optical and UV spectra show hydrogen and helium broad emission lines with full width at half maxima of 7,000--21,000 km s$^{-1}$ and He II/H$\\alpha$ ratio of 0.3--2.3. It shows weak X-ray emission relative to UV emission, with X-ray flares lasting for $<2-3$ weeks, during which the spectrum is soft with a power-law index $\\Gamma=4.4^{+1.4}_{-1.3}$. These characters are consistent with a tidal disruption event (TDE), ruling out the possibilities of a supernova or an active galactic nuclei flare. With a TDE model, we infer a peak UV luminosity of $3.3\\pm0.2\\times10^{44}$ erg s$^{-1}$ and an energy budget of $4.5\\pm0.2\\times10^{51}$ erg. The two optical flares separated by $10.3\\pm0.3$ years can be interpreted as repeating partial TDEs, double TDEs, or two independent TDEs. Although no definitive conclusion can be drawn, the partial TDEs interpretation predicts a third flare around 2033, and the independent TDEs interpretation predicts a high TDE rate of $\\gtrsim10^{-2}$ yr$^{-1}$ in F01004-2237, both of which can be tested by future observations.         |\n",
       "|<p style=\"color:green\"> **ERROR** </p>| <p style=\"color:green\">affiliation error: mpia.affiliation_verifications: 'Heidelberg' keyword not found.</p> |"
      ],
      "text/plain": [
       "<IPython.core.display.Markdown object>"
      ]
     },
     "metadata": {},
     "output_type": "display_data"
    },
    {
     "data": {
      "text/markdown": [
       "\n",
       "|||\n",
       "|---:|:---|\n",
       "| [![arXiv](https://img.shields.io/badge/arXiv-2410.09827-b31b1b.svg)](https://arxiv.org/abs/2410.09827) | **Interpreting Millimeter Emission from IMEGIN galaxies NGC 2146 and NGC 2976**  |\n",
       "|| G. Ejlali, et al. -- incl., <mark>A. Hughes</mark> |\n",
       "|*Appeared on*| *2024-10-15*|\n",
       "|*Comments*| *Accepted for publication in Astronomy & Astrophysics*|\n",
       "|**Abstract**|            The millimeter continuum emission from galaxies provides important information about cold dust, its distribution, heating, and role in their InterStellar Medium (ISM). This emission also carries an unknown portion of the free-free and synchrotron radiation. The IRAM 30m Guaranteed Time Large Project, Interpreting Millimeter Emission of Galaxies with IRAM and NIKA2 (IMEGIN) provides a unique opportunity to study the origin of the millimeter emission on angular resolutions of <18\" in a sample of nearby galaxies. As a pilot study, we present millimeter observations of two IMEGIN galaxies, NGC 2146 (starburst) and NGC 2976 (peculiar dwarf) at 1.15 mm and 2 mm. Combined with the data taken with Spitzer, Herschel, Plank, WSRT, and the 100m Effelsberg telescopes, we model the infrared-to-radio Spectral Energy Distribution (SED) of these galaxies, both globally and at resolved scales, using a Bayesian approach to 1) dissect different components of the millimeter emission, 2) investigate the physical properties of dust, and 3) explore correlations between millimeter emission, gas, and Star Formation Rate (SFR). We find that cold dust is responsible for most of the 1.15 mm emission in both galaxies and at 2 mm in NGC 2976. The free-free emission emits more importantly in NGC 2146 at 2 mm. The cold dust emissivity index is flatter in the dwarf galaxy ($\\beta = 1.3\\pm 0.1$) compared to the starburst galaxy ($\\beta = 1.7\\pm 0.1$). Mapping the dust-to-gas ratio, we find that it changes between 0.004 and 0.01 with a mean of $0.006\\pm0.001$ in the dwarf galaxy. In addition, no global balance holds between the formation and dissociation of H$_2$ in this galaxy. We find tight correlations between the millimeter emission and both the SFR and molecular gas mass in both galaxies.         |\n",
       "|<p style=\"color:green\"> **ERROR** </p>| <p style=\"color:green\">affiliation error: mpia.affiliation_verifications: 'Heidelberg' keyword not found.</p> |"
      ],
      "text/plain": [
       "<IPython.core.display.Markdown object>"
      ]
     },
     "metadata": {},
     "output_type": "display_data"
    }
   ],
   "source": [
    "import datetime\n",
    "today = str(datetime.date.today())\n",
    "logfile = f\"_build/html/logs/log-{today}.md\"\n",
    "\n",
    "\n",
    "with open(logfile, 'w') as logs:\n",
    "    # Success\n",
    "    logs.write(f'# Arxiv on Deck 2: Logs - {today}\\n\\n')\n",
    "    logs.write(\"\"\"* Arxiv had {0:,d} new papers\\n\"\"\".format(len(new_papers)))\n",
    "    logs.write(\"\"\"    * {0:,d} with possible author matches\\n\\n\"\"\".format(len(candidates)))\n",
    "    logs.write(\"## Sucessful papers\\n\\n\")\n",
    "    display(Markdown(\"## Successful papers\"))\n",
    "    success = [k[0] for k in documents]\n",
    "    for candid in candidates:\n",
    "        if candid['identifier'].split(':')[-1] in success:\n",
    "            display(candid)\n",
    "            logs.write(candid.generate_markdown_text() + '\\n\\n')\n",
    "\n",
    "    ## failed\n",
    "    logs.write(\"## Failed papers\\n\\n\")\n",
    "    display(Markdown(\"## Failed papers\"))\n",
    "    failed = sorted(failed, key=lambda x: x[1])\n",
    "    current_reason = \"\"\n",
    "    for paper, reason in failed:\n",
    "        if 'affiliation' in reason:\n",
    "            color = 'green'\n",
    "        else:\n",
    "            color = 'red'\n",
    "        data = Markdown(\n",
    "                paper.generate_markdown_text() + \n",
    "                f'\\n|<p style=\"color:{color:s}\"> **ERROR** </p>| <p style=\"color:{color:s}\">{reason:s}</p> |'\n",
    "               )\n",
    "        if reason != current_reason:\n",
    "            logs.write(f'### {reason:s} \\n\\n')\n",
    "            current_reason = reason\n",
    "        logs.write(data.data + '\\n\\n')\n",
    "        \n",
    "        # only display here the important errors (all in logs)\n",
    "        # if color in ('red',):\n",
    "        display(data)"
   ]
  },
  {
   "cell_type": "markdown",
   "id": "472d20ee",
   "metadata": {
    "papermill": {
     "duration": 0.005174,
     "end_time": "2024-10-15T04:12:32.733145",
     "exception": false,
     "start_time": "2024-10-15T04:12:32.727971",
     "status": "completed"
    },
    "tags": []
   },
   "source": [
    "## Export documents\n",
    "\n",
    "We now write the .md files and export relevant images"
   ]
  },
  {
   "cell_type": "code",
   "execution_count": 7,
   "id": "d426aed9",
   "metadata": {
    "execution": {
     "iopub.execute_input": "2024-10-15T04:12:32.744663Z",
     "iopub.status.busy": "2024-10-15T04:12:32.744166Z",
     "iopub.status.idle": "2024-10-15T04:12:32.751063Z",
     "shell.execute_reply": "2024-10-15T04:12:32.750470Z"
    },
    "papermill": {
     "duration": 0.013772,
     "end_time": "2024-10-15T04:12:32.752084",
     "exception": false,
     "start_time": "2024-10-15T04:12:32.738312",
     "status": "completed"
    },
    "tags": []
   },
   "outputs": [],
   "source": [
    "def export_markdown_summary(md: str, md_fname:str, directory: str):\n",
    "    \"\"\"Export MD document and associated relevant images\"\"\"\n",
    "    import os\n",
    "    import shutil\n",
    "    import re\n",
    "\n",
    "    if (os.path.exists(directory) and not os.path.isdir(directory)):\n",
    "        raise RuntimeError(f\"a non-directory file exists with name {directory:s}\")\n",
    "\n",
    "    if (not os.path.exists(directory)):\n",
    "        print(f\"creating directory {directory:s}\")\n",
    "        os.mkdir(directory)\n",
    "\n",
    "    fig_fnames = (re.compile(r'\\[Fig.*\\]\\((.*)\\)').findall(md) + \n",
    "                  re.compile(r'\\<img src=\"([^>\\s]*)\"[^>]*/>').findall(md))\n",
    "    print(\"found figures\", fig_fnames)\n",
    "    for fname in fig_fnames:\n",
    "        if 'http' in fname:\n",
    "            # No need to copy online figures\n",
    "            continue\n",
    "        if not os.path.exists(fname):\n",
    "            print(\"file not found\", fname)\n",
    "            continue\n",
    "        print(\"copying \", fname, \"to\", directory)\n",
    "        destdir = os.path.join(directory, os.path.dirname(fname))\n",
    "        destfname = os.path.join(destdir, os.path.basename(fname))\n",
    "        try:\n",
    "            os.makedirs(destdir)\n",
    "        except FileExistsError:\n",
    "            pass\n",
    "        shutil.copy(fname, destfname)\n",
    "    with open(os.path.join(directory, md_fname), 'w') as fout:\n",
    "        fout.write(md)\n",
    "    print(\"exported in \", os.path.join(directory, md_fname))\n",
    "    [print(\"    + \" + os.path.join(directory,fk)) for fk in fig_fnames]"
   ]
  },
  {
   "cell_type": "code",
   "execution_count": 8,
   "id": "014d04a4",
   "metadata": {
    "execution": {
     "iopub.execute_input": "2024-10-15T04:12:32.763848Z",
     "iopub.status.busy": "2024-10-15T04:12:32.763343Z",
     "iopub.status.idle": "2024-10-15T04:12:32.778202Z",
     "shell.execute_reply": "2024-10-15T04:12:32.777676Z"
    },
    "papermill": {
     "duration": 0.021778,
     "end_time": "2024-10-15T04:12:32.779219",
     "exception": false,
     "start_time": "2024-10-15T04:12:32.757441",
     "status": "completed"
    },
    "tags": []
   },
   "outputs": [
    {
     "name": "stdout",
     "output_type": "stream",
     "text": [
      "found figures ['tmp_2410.09705/./fig1.png', 'tmp_2410.09705/./fig2.png', 'tmp_2410.09705/./fig3.png']\n",
      "copying  tmp_2410.09705/./fig1.png to _build/html/\n",
      "copying  tmp_2410.09705/./fig2.png to _build/html/\n",
      "copying  tmp_2410.09705/./fig3.png to _build/html/\n",
      "exported in  _build/html/2410.09705.md\n",
      "    + _build/html/tmp_2410.09705/./fig1.png\n",
      "    + _build/html/tmp_2410.09705/./fig2.png\n",
      "    + _build/html/tmp_2410.09705/./fig3.png\n",
      "found figures ['tmp_2410.09843/./Figure/11.png', 'tmp_2410.09843/./Figure/7.1.png', 'tmp_2410.09843/./Figure/7.2.png', 'tmp_2410.09843/./Figure/7.3.png', 'tmp_2410.09843/./Figure/15.png']\n",
      "copying  tmp_2410.09843/./Figure/11.png to _build/html/\n",
      "copying  tmp_2410.09843/./Figure/7.1.png to _build/html/\n",
      "copying  tmp_2410.09843/./Figure/7.2.png to _build/html/\n",
      "copying  tmp_2410.09843/./Figure/7.3.png to _build/html/\n",
      "copying  tmp_2410.09843/./Figure/15.png to _build/html/\n",
      "exported in  _build/html/2410.09843.md\n",
      "    + _build/html/tmp_2410.09843/./Figure/11.png\n",
      "    + _build/html/tmp_2410.09843/./Figure/7.1.png\n",
      "    + _build/html/tmp_2410.09843/./Figure/7.2.png\n",
      "    + _build/html/tmp_2410.09843/./Figure/7.3.png\n",
      "    + _build/html/tmp_2410.09843/./Figure/15.png\n",
      "found figures ['tmp_2410.10183/./wavelength_selection_CO2.png', 'tmp_2410.10183/./if_vs_oof_lightcurve_CO2.png', 'tmp_2410.10183/./Data_2pipeline.png', 'tmp_2410.10183/./lc_2D_all_nrs2.png', 'tmp_2410.10183/./lc_2D_all_nrs1.png']\n",
      "copying  tmp_2410.10183/./wavelength_selection_CO2.png to _build/html/\n",
      "copying  tmp_2410.10183/./if_vs_oof_lightcurve_CO2.png to _build/html/\n",
      "copying  tmp_2410.10183/./Data_2pipeline.png to _build/html/\n",
      "copying  tmp_2410.10183/./lc_2D_all_nrs2.png to _build/html/\n",
      "copying  tmp_2410.10183/./lc_2D_all_nrs1.png to _build/html/\n",
      "exported in  _build/html/2410.10183.md\n",
      "    + _build/html/tmp_2410.10183/./wavelength_selection_CO2.png\n",
      "    + _build/html/tmp_2410.10183/./if_vs_oof_lightcurve_CO2.png\n",
      "    + _build/html/tmp_2410.10183/./Data_2pipeline.png\n",
      "    + _build/html/tmp_2410.10183/./lc_2D_all_nrs2.png\n",
      "    + _build/html/tmp_2410.10183/./lc_2D_all_nrs1.png\n"
     ]
    }
   ],
   "source": [
    "for paper_id, md in documents:\n",
    "    export_markdown_summary(md, f\"{paper_id:s}.md\", '_build/html/')"
   ]
  },
  {
   "cell_type": "markdown",
   "id": "f087a0a7",
   "metadata": {
    "papermill": {
     "duration": 0.005232,
     "end_time": "2024-10-15T04:12:32.790047",
     "exception": false,
     "start_time": "2024-10-15T04:12:32.784815",
     "status": "completed"
    },
    "tags": []
   },
   "source": [
    "## Display the papers\n",
    "\n",
    "Not necessary but allows for a quick check."
   ]
  },
  {
   "cell_type": "code",
   "execution_count": 9,
   "id": "fd25f625",
   "metadata": {
    "execution": {
     "iopub.execute_input": "2024-10-15T04:12:32.801914Z",
     "iopub.status.busy": "2024-10-15T04:12:32.801549Z",
     "iopub.status.idle": "2024-10-15T04:12:32.808531Z",
     "shell.execute_reply": "2024-10-15T04:12:32.807890Z"
    },
    "papermill": {
     "duration": 0.014058,
     "end_time": "2024-10-15T04:12:32.809648",
     "exception": false,
     "start_time": "2024-10-15T04:12:32.795590",
     "status": "completed"
    },
    "scrolled": false,
    "tags": []
   },
   "outputs": [
    {
     "data": {
      "text/markdown": [
       "<div class=\"macros\" style=\"visibility:hidden;\">\n",
       "$\\newcommand{\\ensuremath}{}$\n",
       "$\\newcommand{\\xspace}{}$\n",
       "$\\newcommand{\\object}[1]{\\texttt{#1}}$\n",
       "$\\newcommand{\\farcs}{{.}''}$\n",
       "$\\newcommand{\\farcm}{{.}'}$\n",
       "$\\newcommand{\\arcsec}{''}$\n",
       "$\\newcommand{\\arcmin}{'}$\n",
       "$\\newcommand{\\ion}[2]{#1#2}$\n",
       "$\\newcommand{\\textsc}[1]{\\textrm{#1}}$\n",
       "$\\newcommand{\\hl}[1]{\\textrm{#1}}$\n",
       "$\\newcommand{\\footnote}[1]{}$\n",
       "$\\newcommand{\\teff}{\\ensuremath{T_{\\mathrm{eff}} }}$\n",
       "$\\newcommand{\\logg}{\\ensuremath{{\\mathrm{log}  } g }}$\n",
       "$\\newcommand{\\feh}{\\ensuremath{[{\\mathrm{Fe/H}}] }}$\n",
       "$\\newcommand{\\afe}{\\ensuremath{[{\\mathrm{\\alpha/Fe}}] }}$\n",
       "$\\newcommand{\\mk}{\\ensuremath{\\mathrm M_K }}$\n",
       "$\\newcommand{\\msun}{\\ensuremath{M_\\odot }}$\n",
       "$\\newcommand{\\Hii}{\\ensuremath{\\mathrm{H \\textsc{ii}} }}$\n",
       "$\\newcommand{\\Ha}{\\ensuremath{\\mathrm H_\\alpha }}$\n",
       "$\\newcommand{\\age}{\\ensuremath{\\tau}}$\n",
       "$\\newcommand{\\actaa}{Acta Astron.}$\n",
       "$\\newcommand{\\araa}{Annu. Rev. Astron. Astrophys.}$\n",
       "$\\newcommand{\\areps}{Annu. Rev. Earth Planet. Sci.}$\n",
       "$\\newcommand{\\aar}{Astron. Astrophys. Rev.}$\n",
       "$\\newcommand{\\ab}{Astrobiology}$\n",
       "$\\newcommand{\\aj}{Astron. J.}$\n",
       "$\\newcommand{\\ac}{Astron. Comput.}$\n",
       "$\\newcommand{\\apart}{Astropart. Phys.}$\n",
       "$\\newcommand{\\apj}{Astrophys. J.}$\n",
       "$\\newcommand{\\apjl}{Astrophys. J. Lett.}$\n",
       "$\\newcommand{\\apjs}{Astrophys. J. Suppl. Ser.}$\n",
       "$\\newcommand{\\ao}{Appl. Opt.}$\n",
       "$\\newcommand{\\apss}{Astrophys. Space Sci.}$\n",
       "$\\newcommand{\\aap}{Astron. Astrophys.}$\n",
       "$\\newcommand{\\aapr}{Astron. Astrophys. Rev.}$\n",
       "$\\newcommand{\\aaps}{Astron. Astrophys. Suppl.}$\n",
       "$\\newcommand{\\baas}{Bull. Am. Astron. Soc.}$\n",
       "$\\newcommand{\\caa}{Chin. Astron. Astrophys.}$\n",
       "$\\newcommand{\\cjaa}{Chin. J. Astron. Astrophys.}$\n",
       "$\\newcommand{\\cqg}{Class. Quantum Gravity}$\n",
       "$\\newcommand{\\epsl}{Earth Planet. Sci. Lett.}$\n",
       "$\\newcommand{\\expa}{Exp. Astron.}$\n",
       "$\\newcommand{\\frass}{Front. Astron. Space Sci.}$\n",
       "$\\newcommand{\\gal}{Galaxies}$\n",
       "$\\newcommand{\\gca}{Geochim. Cosmochim. Acta}$\n",
       "$\\newcommand{\\grl}{Geophys. Res. Lett.}$\n",
       "$\\newcommand{\\icarus}{Icarus}$\n",
       "$\\newcommand{\\ija}{Int. J. Astrobiol.}$\n",
       "$\\newcommand{\\jatis}{J. Astron. Telesc. Instrum. Syst.}$\n",
       "$\\newcommand{\\jcap}{J. Cosmol. Astropart. Phys.}$\n",
       "$\\newcommand{\\jgr}{J. Geophys. Res.}$\n",
       "$\\newcommand{\\jgrp}{J. Geophys. Res.: Planets}$\n",
       "$\\newcommand{\\jqsrt}{J. Quant. Spectrosc. Radiat. Transf.}$\n",
       "$\\newcommand{\\lrca}{Living Rev. Comput. Astrophys.}$\n",
       "$\\newcommand{\\lrr}{Living Rev. Relativ.}$\n",
       "$\\newcommand{\\lrsp}{Living Rev. Sol. Phys.}$\n",
       "$\\newcommand{\\memsai}{Mem. Soc. Astron. Italiana}$\n",
       "$\\newcommand{\\maps}{Meteorit. Planet. Sci.}$\n",
       "$\\newcommand{\\mnras}{Mon. Not. R. Astron. Soc.}$\n",
       "$\\newcommand{\\nat}{Nature}$\n",
       "$\\newcommand{\\nastro}{Nat. Astron.}$\n",
       "$\\newcommand{\\ncomms}{Nat. Commun.}$\n",
       "$\\newcommand{\\ngeo}{Nat. Geosci.}$\n",
       "$\\newcommand{\\nphys}{Nat. Phys.}$\n",
       "$\\newcommand{\\na}{New Astron.}$\n",
       "$\\newcommand{\\nar}{New Astron. Rev.}$\n",
       "$\\newcommand{\\physrep}{Phys. Rep.}$\n",
       "$\\newcommand{\\pra}{Phys. Rev. A}$\n",
       "$\\newcommand{\\prb}{Phys. Rev. B}$\n",
       "$\\newcommand{\\prc}{Phys. Rev. C}$\n",
       "$\\newcommand{\\prd}{Phys. Rev. D}$\n",
       "$\\newcommand{\\pre}{Phys. Rev. E}$\n",
       "$\\newcommand{\\prl}{Phys. Rev. Lett.}$\n",
       "$\\newcommand{\\psj}{Planet. Sci. J.}$\n",
       "$\\newcommand{\\planss}{Planet. Space Sci.}$\n",
       "$\\newcommand{\\pnas}{Proc. Natl Acad. Sci. USA}$\n",
       "$\\newcommand{\\procspie}{Proc. SPIE}$\n",
       "$\\newcommand{\\pasa}{Publ. Astron. Soc. Aust.}$\n",
       "$\\newcommand{\\pasj}{Publ. Astron. Soc. Jpn}$\n",
       "$\\newcommand{\\pasp}{Publ. Astron. Soc. Pac.}$\n",
       "$\\newcommand{\\raa}{Res. Astron. Astrophys.}$\n",
       "$\\newcommand{\\rmxaa}{Rev. Mexicana Astron. Astrofis.}$\n",
       "$\\newcommand{\\sci}{Science}$\n",
       "$\\newcommand{\\sciadv}{Sci. Adv.}$\n",
       "$\\newcommand{\\solphys}{Sol. Phys.}$\n",
       "$\\newcommand{\\sovast}{Soviet Astron.}$\n",
       "$\\newcommand{\\ssr}{Space Sci. Rev.}$\n",
       "$\\newcommand{\\uni}{Universe}$</div>\n",
       "\n",
       "\n",
       "\n",
       "<div id=\"title\">\n",
       "\n",
       "# The formation and survival of the Milky Way's oldest stellar disk\n",
       "\n",
       "</div>\n",
       "<div id=\"comments\">\n",
       "\n",
       "[![arXiv](https://img.shields.io/badge/arXiv-2410.09705-b31b1b.svg)](https://arxiv.org/abs/2410.09705)<mark>Appeared on: 2024-10-15</mark> -  _Published in Nature Astronomy on 10 October, 2024; This manuscript is the accepted version_\n",
       "\n",
       "</div>\n",
       "<div id=\"authors\">\n",
       "\n",
       "M. Xiang, et al. -- incl., <mark>H.-W. Rix</mark>, <mark>J. Liu</mark>\n",
       "\n",
       "</div>\n",
       "<div id=\"abstract\">\n",
       "\n",
       "**Abstract:** It remains a mystery when our Milky Way first formed a stellar disk component that survived and maintained its disk structure from subsequent galaxy mergers. We present a study of the age-dependent structure and star formation rate of the Milky Way's disk using high- $\\alpha$ stars with significant orbital angular momentum that have precise age determinations. Our results show that the radial scale length is nearly independent of age, while the vertical scale height experienced dramatic evolution. A disk-like geometry presents even for populations older than $13$ Gyr, with the scale height-to-length ratio dropping below 0.5 for populations younger than 12.5 Gyr. We dub the oldest population that has maintained a disk geometry -- apparently formed over 13 Gyr ago -- $* **PanGu***$ . With an estimated present-day stellar mass of $\\simeq2\\times10^9$  $M_\\odot$ , $* **PanGu***$ is presumed to be a major stellar component of our Galaxy in the earliest epoch. The total present-day stellar mass of the whole high- $\\alpha$ disk is $2\\times 10^{10}M_\\odot$ , mostly formed during a distinct star formation rate peak of 11 $M_\\odot$ /year around 11 Gyrs ago. A comparison with Milky Way analogs in the TNG50 simulations implies that our Galaxy has experienced an exceptionally quiescent dynamical history, even before the Gaia-Enceladus merger.\n",
       "\n",
       "</div>\n",
       "\n",
       "<div id=\"div_fig1\">\n",
       "\n",
       "<img src=\"tmp_2410.09705/./fig1.png\" alt=\"Fig1\" width=\"100%\"/>\n",
       "\n",
       "**Figure 1. -** **Structural parameters for mono-age and mono-$\\feh$ populations of the high-$\\alpha$ disk.** The upper panels show the distribution of best-fit parameters in the age-[Fe/H] plane. The dashed lines delineate parameter window in age-[Fe/H] where the high-$\\alpha$ disk is expected to dominate. We only retain these subsamples for the subsequent analysis, as contamination by the low-$\\alpha$ stellar populations (due to measurement errors) may dominate beyond. The lower panels show the best-fit parameters as a function of age for stellar populations in the selected age windows of the upper panels. The error bars shown in the figure represent the typical range of parameter estimates (i.e., 84th - 16th percentile of the integrated likelihood function) for several populations of different metallicity. (*fig:fig1*)\n",
       "\n",
       "</div>\n",
       "<div id=\"div_fig2\">\n",
       "\n",
       "<img src=\"tmp_2410.09705/./fig2.png\" alt=\"Fig2\" width=\"100%\"/>\n",
       "\n",
       "**Figure 2. -** **Scale height versus scale length of the high-$\\alpha$ disk.** The left and right panel are color-coded by metalicity and age of the stellar sub-populations, respectively. The open circles without error bars in the figure refer to results where the MCMC fit failed to yield a valid parameter constraint. The scale height is smaller than the scale length for nearly all components with $\\tau\\lesssim 13$ Gyr, and also for some sub-populations with even older ages. The shaded regions mark the parameter space where the scale height is smaller than half the scale length. Some of the most metal-poor ($\\feh\\lesssim-1.5)$ sub-populations exhibit smaller scale height than scale length, but many of them have ages younger than 13 Gyr.  (*fig:fig2*)\n",
       "\n",
       "</div>\n",
       "<div id=\"div_fig3\">\n",
       "\n",
       "<img src=\"tmp_2410.09705/./fig3.png\" alt=\"Fig3\" width=\"100%\"/>\n",
       "\n",
       "**Figure 3. -** **Scale height-to-length ratio as a function of age, comparing Milky Way observations to TNG 50 simulations.** The dots are our measurements, color-coded by [Fe/H] of the stellar populations. Only populations with relative uncertainties in $H_z$/$H_R$$<50$\\% are shown. The solid red line is the mean observed  $H_z$/$H_R(\\tau)$-relation marginalized over abundances. The solid and dashed lines in black show the average height-to-length ratio for Milky Way analogs in the TNG50 simulation, with the shaded regions indicating the variance among individual galaxies. The solid black line shows the stellar distribution morphology at present, after adding an age error of 8\\% to the simulation output to mimic the observation. The dashed line shows the morphology *at birth* of the corresponding population. Populations with formal ages older than the universe result from the age uncertainties. (*fig:fig3*)\n",
       "\n",
       "</div><div id=\"qrcode\"><img src=https://api.qrserver.com/v1/create-qr-code/?size=100x100&data=\"https://arxiv.org/abs/2410.09705\"></div>"
      ],
      "text/plain": [
       "<IPython.core.display.Markdown object>"
      ]
     },
     "metadata": {},
     "output_type": "display_data"
    },
    {
     "data": {
      "text/markdown": [
       "<div class=\"macros\" style=\"visibility:hidden;\">\n",
       "$\\newcommand{\\ensuremath}{}$\n",
       "$\\newcommand{\\xspace}{}$\n",
       "$\\newcommand{\\object}[1]{\\texttt{#1}}$\n",
       "$\\newcommand{\\farcs}{{.}''}$\n",
       "$\\newcommand{\\farcm}{{.}'}$\n",
       "$\\newcommand{\\arcsec}{''}$\n",
       "$\\newcommand{\\arcmin}{'}$\n",
       "$\\newcommand{\\ion}[2]{#1#2}$\n",
       "$\\newcommand{\\textsc}[1]{\\textrm{#1}}$\n",
       "$\\newcommand{\\hl}[1]{\\textrm{#1}}$\n",
       "$\\newcommand{\\footnote}[1]{}$\n",
       "$\\newcommand{\\nhp}{N_2H^+\\xspace}$\n",
       "$\\newcommand{\\nthp}{N_2H^+\\xspace}$\n",
       "$\\newcommand{\\hco}{H_2CO\\xspace}$\n",
       "$\\newcommand{\\hdos}{H_2\\xspace}$\n",
       "$\\newcommand{\\tex}{T_{ex}\\xspace}$\n",
       "$\\newcommand{\\calL}{{\\cal L}}$\n",
       "$\\newcommand{\\spitzer}{\\textit{Spitzer}\\xspace}$\n",
       "$\\newcommand{\\msun}{\\hbox{\\hbox{\\rm M}_{\\odot}}\\xspace}$\n",
       "$\\newcommand{\\herschel}{\\textit{Herschel}\\xspace}$\n",
       "$\\newcommand{\\lsun}{L_{\\odot}}$\n",
       "$\\newcommand{\\rsun}{R_{\\odot}}$\n",
       "$\\newcommand{\\rstar}{R_{*}}$\n",
       "$\\newcommand{\\mdotenv}{\\dot{M}_{\\rm env}}$\n",
       "$\\newcommand{\\rmaxenv}{R_{\\rm env,max}}$\n",
       "$\\newcommand{\\rminenv}{R_{\\rm env,min}}$\n",
       "$\\newcommand{\\thetac}{\\theta_{C}}$\n",
       "$\\newcommand{\\mdotdisk}{\\dot{M}_{\\rm disk}}$\n",
       "$\\newcommand{\\rmaxdisk}{R_{\\rm disk,max}}$\n",
       "$\\newcommand{\\rmindisk}{R_{\\rm disk,min}}$\n",
       "$\\newcommand{\\mdisk}{M_{\\rm disk}}$\n",
       "$\\newcommand{\\lbol}{L_{\\rm bol}}$\n",
       "$\\newcommand{\\tbol}{T_{\\rm bol}}$\n",
       "$\\newcommand{\\lsl}{L_{\\rm smm}/L_{\\rm bol}}$\n",
       "$\\newcommand{\\lsmm}{L_{\\rm smm}}$\n",
       "$\\newcommand{\\kms}{\\rm km s^{-1}}$\n",
       "$\\newcommand{\\pc}{{\\rm pc}}$\n",
       "$\\newcommand{\\mx}{{\\rm max}}$\n",
       "$\\newcommand{\\planck}{\\textit{Planck}\\xspace}$\n",
       "$\\newcommand{\\vlsr}{V_{\\rm LSR}\\xspace}$\n",
       "$\\newcommand{\\mum}{\\micron\\xspace}$\n",
       "$\\newcommand{◦ee}{\\mbox{^{\\circ}}\\xspace}$\n",
       "$\\newcommand{\\minflow}{\\dot{\\textup{M}}_{\\textup{tot,in}}\\xspace}$\n",
       "$\\newcommand{\\HII}{H {\\sc ii} }$\n",
       "$\\newcommand{\\novel}{\\multicolumn{1}{c}{\\textemdash}}$\n",
       "$\\newcommand{\\ntot}{N_{\\rm tot}\\xspace}$\n",
       "$\\newcommand{\\mtot}{M_{\\rm tot}\\xspace}$\n",
       "$\\newcommand{\\msunyr}{\\hbox{\\hbox{\\rm M}_{\\odot} \\rm{yr}^{-1}}\\xspace}$\n",
       "$\\newcommand{\\amy}{\\textcolor{purple}}$\n",
       "$\\newcommand{\\nico}{\\textcolor{cyan}}$</div>\n",
       "\n",
       "\n",
       "\n",
       "<div id=\"title\">\n",
       "\n",
       "# ALMA-IMF XVIII: The assembly of a star cluster: Dense $\\nhp$ (1-0)     kinematics in the massive G351.77 protocluster\n",
       "\n",
       "</div>\n",
       "<div id=\"comments\">\n",
       "\n",
       "[![arXiv](https://img.shields.io/badge/arXiv-2410.09843-b31b1b.svg)](https://arxiv.org/abs/2410.09843)<mark>Appeared on: 2024-10-15</mark> -  _Submitted in A&A, 28 pages, 31 figures, 4 interactive figures, 7 tables_\n",
       "\n",
       "</div>\n",
       "<div id=\"authors\">\n",
       "\n",
       "N. A. Sandoval-Garrido, et al. -- incl., <mark>P. Garcia</mark>\n",
       "\n",
       "</div>\n",
       "<div id=\"abstract\">\n",
       "\n",
       "**Abstract:** ALMA-IMF observed 15 massive protoclusters capturing multiple spectral lines and the continuum emission. Here we focus on the massive protocluster G351.77 ( $\\sim$ 2500 M $_{\\odot}$ , estimated from single-dish continuum observations) located at 2 kpc. We trace the dense gas emission and kinematics with $N_2$ H $^+$ (1-0) at $\\sim$ 4 kau resolution. We estimate an $N_2$ H $^+$ relative abundance $\\sim (1.66 \\pm 0.46) \\times 10^{-10}$ . We decompose the $N_2$ H $^+$ emission into up to two velocity components, highlighting the kinematic complexity in the dense gas. By examining the position-velocity (PV) and PPV diagrams on small scales, we observe clear inflow signatures (V-shapes) associated with 1.3 mm cores. The most prominent V-shape has a mass inflow rate of $\\sim 9.82 \\times 10^{-4}$ M $_{\\odot}$ yr $^{-1}$ and a short timescale of $\\sim$ 15.63 kyr. We also observe V-shapes without associated cores. This suggests both that cores or centers of accretion exist below the 1.3 mm detection limit, and that the V-shapes may be viable tracers of very early accretion and star formation on $\\sim$ 4 kau scales. The large-scale PV diagram shows that the protocluster is separated into 2 principal velocity structures separate by $\\sim$ 2 km s $^{-1}$ . Combined with smaller scale DCN and $H_2$ CO emission in the center, we propose a scenario of larger scale slow contraction with rotation in the center based on simple toy models. This scenario is consistent with previous lines of evidence, and leads to the new suggestion of outside-in evolution of the protocluster as it collapses. The gas depletion times implied by the V-shapes are short ( $\\sim$ 0.3 Myr), requiring either very fast cluster formation, and/or continuous mass feeding of the protocluster. The latter is possible via the Mother Filament G351.77 is forming out of. The remarkable similarities in the properties of G351.77 and the recently published work in G353.41 indicate that many of the physical conditions inferred via the ALMA-IMF $N_2$ H $^+$ observations may be generic to protoclusters.\n",
       "\n",
       "</div>\n",
       "\n",
       "<div id=\"div_fig1\">\n",
       "\n",
       "<img src=\"tmp_2410.09843/./Figure/11.png\" alt=\"Fig29\" width=\"100%\"/>\n",
       "\n",
       "**Figure 29. -** Integrated intensity and position-velocity (PV) diagrams of\n",
       "  the Blue- (blue colorbar) and Red- (red color bar) velocity components\n",
       "  seen in $\\nhp$ (1-0). Top left: Spatial distribution of $\\nhp$ (1-0) emission in\n",
       "  G351.77.  The green, black, and magenta $\\times$ markers indicate\n",
       "  the positions of the 9 out of the 18 (see \\S \\ref{sec:kinematic-analysis-at-small-scales})\n",
       "  dense cores  ([Louvet, Sanhueza and Stutz 2024]()) ,\n",
       "  where each color represents the DCN spectral\n",
       "  classification: single, complex, and non-detected, respectively  ([Cunningham, Ginsburg and Galván-Madrid 2023]()) .\n",
       "  The $+$ markers indicate the position of the 16 core candidates, proposed on the basis\n",
       "   on the $\\nhp$ PV features observed at scales of\n",
       "  $\\sim$ 0.1 pc (see \\S \\ref{sec:kinematic-analysis-at-small-scales}\n",
       "  and Table \\ref{tab:VGcores}). Dashed lines indicate the\n",
       "  positions of the four cores that do not have measurable velocities. The red arrow\n",
       "  indicates the direction of the Mother Filament.\n",
       "  The ellipse in the bottom-left represents the\n",
       "  beam size of the $\\nhp$ data. Top right and bottom left: PV diagrams along\n",
       "  the two perpendicular directions. The arrows indicate the position of the\n",
       "  dense cores, listed in Table \\ref{tab:core_parameters}, in the PV diagram.\n",
       "  We observe multiple structures,\n",
       "  such as V-shapes and Straight structures (see text) along the filaments,\n",
       "  some associated with cores in both position and\n",
       "  velocity. The orange arrows represent a velocity gradient of\n",
       "  10 $\\kms$ pc$^{-1}$$\\approx$ 0.1 Myr. (*fig:pv_diagram1*)\n",
       "\n",
       "</div>\n",
       "<div id=\"div_fig2\">\n",
       "\n",
       "<img src=\"tmp_2410.09843/./Figure/7.1.png\" alt=\"Fig7.1\" width=\"33%\"/><img src=\"tmp_2410.09843/./Figure/7.2.png\" alt=\"Fig7.2\" width=\"33%\"/><img src=\"tmp_2410.09843/./Figure/7.3.png\" alt=\"Fig7.3\" width=\"33%\"/>\n",
       "\n",
       "**Figure 7. -** Top: Mean velocity map from the final spectral model\n",
       "  composed of both the 1- and 2-velocity-components. The red arrow display\n",
       "  the direction of the Mother Filament. Whereas the blue arrow indicates\n",
       "  the direction of the large-scale velocity gradient measured from the centroid velocities.\n",
       "  Middle: Centroid velocity\n",
       "  map of the Blue-velocity component. Bottom: Centroid velocity map of the\n",
       "  Red-velocity component. The spectra inside the black contour are fit\n",
       "  with 2-velocity-components. The ellipse in the bottom-left corner represents the beam\n",
       "  size of the $\\nhp$ data. (*fig:velocity_map*)\n",
       "\n",
       "</div>\n",
       "<div id=\"div_fig3\">\n",
       "\n",
       "<img src=\"tmp_2410.09843/./Figure/15.png\" alt=\"Fig30\" width=\"100%\"/>\n",
       "\n",
       "**Figure 30. -** Integrated intensity and position-velocity (PV) diagram of\n",
       "  the F1 (blue colorbar), F2 (red colorbar), F3 (green colorbar), and\n",
       "  F4 (purple colorbar) large-scale structures of $\\nhp$ (1-0) into which the\n",
       "  protocluster has been divided. Left: Spatial distribution of $\\nhp$ (1-0)\n",
       "  emission. Markers and dashed lines are the same as in Fig. \\ref{fig:pv_diagram1}.\n",
       "  The ellipse in the bottom-left\n",
       "  represents the beam size of the $\\nhp$ data. Right: PV diagram. We observe\n",
       "  multiple large-scale V-shapes and Straight-shapes along the different\n",
       "  filamentary structures, with some of them associated with cores in\n",
       "  position and in velocity. The green arrows represent a velocity\n",
       "  gradient of 10 $\\kms$ pc$^{-1}$, which correspond to a timescale\n",
       "  of $\\sim$ 0.1 Myr. (*fig:pvcolores*)\n",
       "\n",
       "</div><div id=\"qrcode\"><img src=https://api.qrserver.com/v1/create-qr-code/?size=100x100&data=\"https://arxiv.org/abs/2410.09843\"></div>"
      ],
      "text/plain": [
       "<IPython.core.display.Markdown object>"
      ]
     },
     "metadata": {},
     "output_type": "display_data"
    },
    {
     "data": {
      "text/markdown": [
       "<div class=\"macros\" style=\"visibility:hidden;\">\n",
       "$\\newcommand{\\ensuremath}{}$\n",
       "$\\newcommand{\\xspace}{}$\n",
       "$\\newcommand{\\object}[1]{\\texttt{#1}}$\n",
       "$\\newcommand{\\farcs}{{.}''}$\n",
       "$\\newcommand{\\farcm}{{.}'}$\n",
       "$\\newcommand{\\arcsec}{''}$\n",
       "$\\newcommand{\\arcmin}{'}$\n",
       "$\\newcommand{\\ion}[2]{#1#2}$\n",
       "$\\newcommand{\\textsc}[1]{\\textrm{#1}}$\n",
       "$\\newcommand{\\hl}[1]{\\textrm{#1}}$\n",
       "$\\newcommand{\\footnote}[1]{}$\n",
       "$\\newcommand{\\vdag}{(v)^\\dagger}$\n",
       "$\\newcommand$\n",
       "$\\newcommand$\n",
       "$\\newcommand{\\exampleConstant}{0.04}$\n",
       "$\\newcommand{◦ee}{^\\circ}$\n",
       "$\\newcommand{\\methane}{CH_4}$\n",
       "$\\newcommand{\\cotwo}{CO_2}$\n",
       "$\\newcommand{\\cotwoSignificance}{2.4 \\sigma}$\n",
       "$\\newcommand{\\chfourSignificance}{2.0 \\sigma}$\n",
       "$\\newcommand{\\ocsSignificance}{\\textcolor{red}{Not favored}}$\n",
       "$\\newcommand{\\ngts}{NGTS}$\n",
       "$\\newcommand{\\tess}{TESS}$\n",
       "$\\newcommand{\\edit}[1]$</div>\n",
       "\n",
       "\n",
       "\n",
       "<div id=\"title\">\n",
       "\n",
       "# Possible Carbon Dioxide Above the Thick Aerosols of GJ 1214 b\n",
       "\n",
       "</div>\n",
       "<div id=\"comments\">\n",
       "\n",
       "[![arXiv](https://img.shields.io/badge/arXiv-2410.10183-b31b1b.svg)](https://arxiv.org/abs/2410.10183)<mark>Appeared on: 2024-10-15</mark> -  _22 pages, 11 figures, Accepted in ApJL, Please also see a companion paper Ohno et al. (2024)_\n",
       "\n",
       "</div>\n",
       "<div id=\"authors\">\n",
       "\n",
       "E. Schlawin, et al. -- incl., <mark>L. Kreidberg</mark>\n",
       "\n",
       "</div>\n",
       "<div id=\"abstract\">\n",
       "\n",
       "**Abstract:** Sub-Neptune planets with radii $\\edit$ 1 ${smaller than}$ Neptune (3.9 R $_\\oplus$ ) are the most common type of planet known to exist in The Milky Way, even though they are absent in the Solar System.These planets can potentially have a large diversity of compositions as a result of different mixtures of rocky material, icy material and gas accreted from a protoplanetary disk.However, the bulk density of a sub-Neptune, informed by its mass and radius alone, cannot uniquely constrain its composition; atmospheric spectroscopy is necessary.GJ 1214 b, which hosts an atmosphere that is potentially the most favorable for spectroscopic detection of any sub-Neptune, is instead enshrouded in aerosols (thus showing no spectroscopic features), hiding its composition from view at previously observed wavelengths in its terminator.Here, we present a JWST NIRSpec transmission spectrum from 2.8 to 5.1 $\\micron$ that shows signatures of $CO_2$ and $CH_4$ , expected at high metallicity.A model containing both these molecules is preferred by 3.3 and 3.6 $\\sigma$ as compared to a featureless spectrum for two different data analysis pipelines, respectively.Given the low signal-to-noise of the features compared to the continuum, however, more observations are needed to confirm the $CO_2$ and $CH_4$ signatures and better constrain other diagnostic features in the near-infrared.Further modeling of the planet's atmosphere, interior structure and origins will provide valuable insights about how sub-Neptunes like GJ 1214 b form and evolve.\n",
       "\n",
       "</div>\n",
       "\n",
       "<div id=\"div_fig1\">\n",
       "\n",
       "<img src=\"tmp_2410.10183/./wavelength_selection_CO2.png\" alt=\"Fig2.1\" width=\"50%\"/><img src=\"tmp_2410.10183/./if_vs_oof_lightcurve_CO2.png\" alt=\"Fig2.2\" width=\"50%\"/>\n",
       "\n",
       "**Figure 2. -** _ Left:_ Wavelength selections for $CO_2$ and Out-of-Feature co-adding.\n",
       "    We use the chemically-consistent model (purple curve) and a threshold (dashed black line) to select wavelengths that are dominated by $CO_2$ opacity (brown circles) and wavelengths that are outside of features (pink circles).\n",
       "    Individual spectra are shown for the NRS1 and NRS2 detectors and per observation (Obs 18 NRS1 (blue), Obs 18 NRS2 (orange), Obs 19 NRS1 (green), and Obs 19 NRS2 (red)).\n",
       "    _ Right:_ Differential light curve inside and outside of significant $CO_2$ features. Each detector and observation's fluxes are summed for wavelengths inside a feature and divided by the fluxes summed outside this feature.\n",
       "    The same blue, orange, green and red colors are used on the left and right to code each detector and observation.\n",
       "    Finally, an average in-feature versus out-of-feature light curve across both observations is shown in purple and brown on the bottom for NRS1 and NRS2, respectively.\n",
       "    The same wavelengths' best fit models are shown as black curves, which use a limb-darkened \\texttt{starry} model.\n",
       "    Linear trends have been removed from all time series and $\\edit$1{vertical offsets were applied} for clarity. (*fig:CO2lc*)\n",
       "\n",
       "</div>\n",
       "<div id=\"div_fig2\">\n",
       "\n",
       "<img src=\"tmp_2410.10183/./Data_2pipeline.png\" alt=\"Fig1\" width=\"100%\"/>\n",
       "\n",
       "**Figure 1. -** **Transmission Spectrum of GJ 1214 b with Two Data Reductions and Illustrative Models:**\n",
       "    The top panel shows the results of data reduction by the \\texttt{tshirt} and \\texttt{Eureka!} pipelines, demonstrating that two independent pipelines yield consistent results within $1\\sigma$ errorbars.\n",
       "    The solid black, solid gray and dash-dotted gray lines show the median spectrum from the chemically-consistent model, chemically-agnostic free model, and a flat line (with stellar inhomogeneities), respectively fit to the HST, JWST-NIRSpec (\\texttt{tshirt}) and JWST-MIRI panchromatic spectrum.\n",
       "    The lower panels show the illustrative transmission spectra to exhibit the transit depth shape of relevant molecules -- we create clear isothermal ($T=500 {\\rm K}$)  $N_2$ atmospheres with only one gas at a time with a VMR=$10^{-4}$ and repeat for all molecules. (*fig:differentAnalyses*)\n",
       "\n",
       "</div>\n",
       "<div id=\"div_fig3\">\n",
       "\n",
       "<img src=\"tmp_2410.10183/./lc_2D_all_nrs2.png\" alt=\"Fig10.1\" width=\"50%\"/><img src=\"tmp_2410.10183/./lc_2D_all_nrs1.png\" alt=\"Fig10.2\" width=\"50%\"/>\n",
       "\n",
       "**Figure 10. -** 2D light curves binned to a resolution of R=100 and 40 time bins for NRS2 (top row) and NRS1 (bottom row), with both transits averaged. The normalized flux in percentage (after linearly de-trending at each wavelength) is shown in panel A. The differential time series, after dividing by the broadband for a given detector is shown in ppm in panel B. The differential light curve model is shown in panel C and the residuals of the light curve subtracted by the model are shown in panel D.\n",
       "    The start of ingress and end of egress times are marked as vertical dashed lines.\n",
       "    Increased and decreased transit depths relative to the broadband light curve are visible as dark and bright bands between ingress and egress.\n",
       "    The most noticeable features are increased transit depths near 4.3 \\micron and 2.8 \\micron and decreased transit depths near 3.6 \\micron and 4.6 \\micron. (*fig:2Dlc*)\n",
       "\n",
       "</div><div id=\"qrcode\"><img src=https://api.qrserver.com/v1/create-qr-code/?size=100x100&data=\"https://arxiv.org/abs/2410.10183\"></div>"
      ],
      "text/plain": [
       "<IPython.core.display.Markdown object>"
      ]
     },
     "metadata": {},
     "output_type": "display_data"
    }
   ],
   "source": [
    "[display(Markdown(k[1])) for k in documents];"
   ]
  },
  {
   "cell_type": "markdown",
   "id": "873873a4",
   "metadata": {
    "papermill": {
     "duration": 0.005898,
     "end_time": "2024-10-15T04:12:32.821748",
     "exception": false,
     "start_time": "2024-10-15T04:12:32.815850",
     "status": "completed"
    },
    "tags": []
   },
   "source": [
    "# Create HTML index"
   ]
  },
  {
   "cell_type": "code",
   "execution_count": 10,
   "id": "cf665672",
   "metadata": {
    "execution": {
     "iopub.execute_input": "2024-10-15T04:12:32.834890Z",
     "iopub.status.busy": "2024-10-15T04:12:32.834428Z",
     "iopub.status.idle": "2024-10-15T04:12:32.842632Z",
     "shell.execute_reply": "2024-10-15T04:12:32.841952Z"
    },
    "papermill": {
     "duration": 0.015867,
     "end_time": "2024-10-15T04:12:32.843705",
     "exception": false,
     "start_time": "2024-10-15T04:12:32.827838",
     "status": "completed"
    },
    "tags": []
   },
   "outputs": [
    {
     "name": "stdout",
     "output_type": "stream",
     "text": [
      "219  publications files modified in the last 7 days.\n"
     ]
    }
   ],
   "source": [
    "from datetime import datetime, timedelta, timezone\n",
    "from glob import glob\n",
    "import os\n",
    "\n",
    "files = glob('_build/html/*.md')\n",
    "days = 7\n",
    "now = datetime.today()\n",
    "res = []\n",
    "for fk in files:\n",
    "    stat_result = os.stat(fk).st_ctime\n",
    "    modified = datetime.fromtimestamp(stat_result, tz=timezone.utc).replace(tzinfo=None)\n",
    "    delta = now.today() - modified\n",
    "    if delta <= timedelta(days=days):\n",
    "        res.append((delta.seconds, fk))\n",
    "res = [k[1] for k in reversed(sorted(res, key=lambda x:x[1]))]\n",
    "npub = len(res)\n",
    "print(len(res), f\" publications files modified in the last {days:d} days.\")\n",
    "# [ print('\\t', k) for k in res ];"
   ]
  },
  {
   "cell_type": "code",
   "execution_count": 11,
   "id": "015de740",
   "metadata": {
    "execution": {
     "iopub.execute_input": "2024-10-15T04:12:32.856764Z",
     "iopub.status.busy": "2024-10-15T04:12:32.856385Z",
     "iopub.status.idle": "2024-10-15T04:12:32.871797Z",
     "shell.execute_reply": "2024-10-15T04:12:32.871179Z"
    },
    "papermill": {
     "duration": 0.023134,
     "end_time": "2024-10-15T04:12:32.872927",
     "exception": false,
     "start_time": "2024-10-15T04:12:32.849793",
     "status": "completed"
    },
    "tags": []
   },
   "outputs": [
    {
     "name": "stdout",
     "output_type": "stream",
     "text": [
      "11  publications in the last 7 days.\n"
     ]
    }
   ],
   "source": [
    "import datetime\n",
    "from glob import glob\n",
    "\n",
    "def get_last_n_days(lst, days=1):\n",
    "    \"\"\" Get the documents from the last n days \"\"\"\n",
    "    sorted_lst = sorted(lst, key=lambda x: x[1], reverse=True)\n",
    "    for fname, date in sorted_lst:\n",
    "        if date >= str(datetime.date.today() - datetime.timedelta(days=days)):\n",
    "            yield fname\n",
    "\n",
    "def extract_appearance_dates(lst_file):\n",
    "    dates = []\n",
    "\n",
    "    def get_date(line):\n",
    "        return line\\\n",
    "            .split('Appeared on:')[-1]\\\n",
    "            .split('</mark>')[0].strip()\n",
    "\n",
    "    for fname in lst:\n",
    "        with open(fname, 'r') as f:\n",
    "            found_date = False\n",
    "            for line in f:\n",
    "                if not found_date:\n",
    "                    if \"Appeared on\" in line:\n",
    "                        found_date = True\n",
    "                        dates.append((fname, get_date(line)))\n",
    "                else:\n",
    "                    break\n",
    "    return dates\n",
    "\n",
    "from glob import glob\n",
    "lst = glob('_build/html/*md')\n",
    "days = 7\n",
    "dates = extract_appearance_dates(lst)\n",
    "res = list(get_last_n_days(dates, days))\n",
    "npub = len(res)\n",
    "print(len(res), f\" publications in the last {days:d} days.\")"
   ]
  },
  {
   "cell_type": "code",
   "execution_count": 12,
   "id": "52ca0208",
   "metadata": {
    "execution": {
     "iopub.execute_input": "2024-10-15T04:12:32.886758Z",
     "iopub.status.busy": "2024-10-15T04:12:32.886243Z",
     "iopub.status.idle": "2024-10-15T04:12:32.891201Z",
     "shell.execute_reply": "2024-10-15T04:12:32.890645Z"
    },
    "papermill": {
     "duration": 0.012729,
     "end_time": "2024-10-15T04:12:32.892202",
     "exception": false,
     "start_time": "2024-10-15T04:12:32.879473",
     "status": "completed"
    },
    "scrolled": false,
    "tags": []
   },
   "outputs": [],
   "source": [
    "def create_carousel(npub=4):\n",
    "    \"\"\" Generate the HTML code for a carousel with `npub` slides \"\"\"\n",
    "    carousel = [\"\"\"  <div class=\"carousel\" \"\"\",\n",
    "                \"\"\"       data-flickity='{ \"autoPlay\": 10000, \"adaptiveHeight\": true, \"resize\": true, \"wrapAround\": true, \"pauseAutoPlayOnHover\": true, \"groupCells\": 1 }' id=\"asyncTypeset\">\"\"\"\n",
    "                ]\n",
    "    \n",
    "    item_str = \"\"\"    <div class=\"carousel-cell\"> <div id=\"slide{k}\" class=\"md_view\">Content {k}</div> </div>\"\"\"\n",
    "    for k in range(1, npub + 1):\n",
    "        carousel.append(item_str.format(k=k))\n",
    "    carousel.append(\"  </div>\")\n",
    "    return '\\n'.join(carousel)\n",
    "\n",
    "def create_grid(npub=4):\n",
    "    \"\"\" Generate the HTML code for a flat grid with `npub` slides \"\"\"\n",
    "    grid = [\"\"\"  <div class=\"grid\"> \"\"\",\n",
    "                ]\n",
    "    \n",
    "    item_str = \"\"\"    <div class=\"grid-item\"> <div id=\"slide{k}\" class=\"md_view\">Content {k}</div> </div>\"\"\"\n",
    "    for k in range(1, npub + 1):\n",
    "        grid.append(item_str.format(k=k))\n",
    "    grid.append(\"  </div>\")\n",
    "    return '\\n'.join(grid)"
   ]
  },
  {
   "cell_type": "code",
   "execution_count": 13,
   "id": "a6eac5b6",
   "metadata": {
    "execution": {
     "iopub.execute_input": "2024-10-15T04:12:32.905794Z",
     "iopub.status.busy": "2024-10-15T04:12:32.905351Z",
     "iopub.status.idle": "2024-10-15T04:12:32.910548Z",
     "shell.execute_reply": "2024-10-15T04:12:32.909922Z"
    },
    "papermill": {
     "duration": 0.013072,
     "end_time": "2024-10-15T04:12:32.911616",
     "exception": false,
     "start_time": "2024-10-15T04:12:32.898544",
     "status": "completed"
    },
    "scrolled": false,
    "tags": []
   },
   "outputs": [],
   "source": [
    "carousel = create_carousel(npub)\n",
    "docs = ', '.join(['\"{0:s}\"'.format(k.split('/')[-1]) for k in res])\n",
    "slides = ', '.join([f'\"slide{k}\"' for k in range(1, npub + 1)])\n",
    "\n",
    "with open(\"daily_template.html\", \"r\") as tpl:\n",
    "    page = tpl.read()\n",
    "    page = page.replace(\"{%-- carousel:s --%}\", carousel)\\\n",
    "               .replace(\"{%-- suptitle:s --%}\",  \"7-day archives\" )\\\n",
    "               .replace(\"{%-- docs:s --%}\", docs)\\\n",
    "               .replace(\"{%-- slides:s --%}\", slides)\n",
    "    \n",
    "with open(\"_build/html/index_7days.html\", 'w') as fout:\n",
    "    fout.write(page)"
   ]
  },
  {
   "cell_type": "code",
   "execution_count": 14,
   "id": "adc1a1ec",
   "metadata": {
    "execution": {
     "iopub.execute_input": "2024-10-15T04:12:32.925086Z",
     "iopub.status.busy": "2024-10-15T04:12:32.924677Z",
     "iopub.status.idle": "2024-10-15T04:12:32.931201Z",
     "shell.execute_reply": "2024-10-15T04:12:32.930539Z"
    },
    "papermill": {
     "duration": 0.0143,
     "end_time": "2024-10-15T04:12:32.932157",
     "exception": false,
     "start_time": "2024-10-15T04:12:32.917857",
     "status": "completed"
    },
    "tags": []
   },
   "outputs": [
    {
     "name": "stdout",
     "output_type": "stream",
     "text": [
      "4  publications in the last day.\n"
     ]
    }
   ],
   "source": [
    "# redo for today\n",
    "days = 1\n",
    "res = list(get_last_n_days(dates, days))\n",
    "npub = len(res)\n",
    "print(len(res), f\" publications in the last day.\")\n",
    "\n",
    "carousel = create_carousel(npub)\n",
    "docs = ', '.join(['\"{0:s}\"'.format(k.split('/')[-1]) for k in res])\n",
    "slides = ', '.join([f'\"slide{k}\"' for k in range(1, npub + 1)])\n",
    "\n",
    "with open(\"daily_template.html\", \"r\") as tpl:\n",
    "    page = tpl.read()\n",
    "    page = page.replace(\"{%-- carousel:s --%}\", carousel)\\\n",
    "               .replace(\"{%-- suptitle:s --%}\",  \"Daily\" )\\\n",
    "               .replace(\"{%-- docs:s --%}\", docs)\\\n",
    "               .replace(\"{%-- slides:s --%}\", slides)\n",
    "    \n",
    "# print(carousel, docs, slides)\n",
    "# print(page)\n",
    "with open(\"_build/html/index_daily.html\", 'w') as fout:\n",
    "    fout.write(page)"
   ]
  },
  {
   "cell_type": "code",
   "execution_count": 15,
   "id": "00eece82",
   "metadata": {
    "execution": {
     "iopub.execute_input": "2024-10-15T04:12:32.945738Z",
     "iopub.status.busy": "2024-10-15T04:12:32.945325Z",
     "iopub.status.idle": "2024-10-15T04:12:32.951713Z",
     "shell.execute_reply": "2024-10-15T04:12:32.951175Z"
    },
    "papermill": {
     "duration": 0.014176,
     "end_time": "2024-10-15T04:12:32.952682",
     "exception": false,
     "start_time": "2024-10-15T04:12:32.938506",
     "status": "completed"
    },
    "scrolled": false,
    "tags": []
   },
   "outputs": [
    {
     "name": "stdout",
     "output_type": "stream",
     "text": [
      "6  6 publications selected.\n"
     ]
    }
   ],
   "source": [
    "# Create the flat grid of the last N papers (fixed number regardless of dates)\n",
    "from itertools import islice \n",
    "\n",
    "npub = 6\n",
    "res = [k[0] for k in (islice(reversed(sorted(dates, key=lambda x: x[1])), 6))]\n",
    "print(len(res), f\" {npub} publications selected.\")\n",
    "\n",
    "grid = create_grid(npub)\n",
    "docs = ', '.join(['\"{0:s}\"'.format(k.split('/')[-1]) for k in res])\n",
    "slides = ', '.join([f'\"slide{k}\"' for k in range(1, npub + 1)])\n",
    "\n",
    "with open(\"grid_template.html\", \"r\") as tpl:\n",
    "    page = tpl.read()\n",
    "    page = page.replace(\"{%-- grid-content:s --%}\", grid)\\\n",
    "               .replace(\"{%-- suptitle:s --%}\",  f\"Last {npub:,d} papers\" )\\\n",
    "               .replace(\"{%-- docs:s --%}\", docs)\\\n",
    "               .replace(\"{%-- slides:s --%}\", slides)\n",
    "    \n",
    "# print(grid, docs, slides)\n",
    "# print(page)\n",
    "with open(\"_build/html/index_npub_grid.html\", 'w') as fout:\n",
    "    fout.write(page)"
   ]
  }
 ],
 "metadata": {
  "kernelspec": {
   "display_name": "Python 3 (ipykernel)",
   "language": "python",
   "name": "python3"
  },
  "language_info": {
   "codemirror_mode": {
    "name": "ipython",
    "version": 3
   },
   "file_extension": ".py",
   "mimetype": "text/x-python",
   "name": "python",
   "nbconvert_exporter": "python",
   "pygments_lexer": "ipython3",
   "version": "3.9.20"
  },
  "papermill": {
   "default_parameters": {},
   "duration": 108.456199,
   "end_time": "2024-10-15T04:12:33.175267",
   "environment_variables": {},
   "exception": null,
   "input_path": "MPIA daily digest.ipynb",
   "output_path": "log.ipynb",
   "parameters": {},
   "start_time": "2024-10-15T04:10:44.719068",
   "version": "2.6.0"
  },
  "vscode": {
   "interpreter": {
    "hash": "aee8b7b246df8f9039afb4144a1f6fd8d2ca17a180786b69acc140d282b71a49"
   }
  },
  "widgets": {
   "application/vnd.jupyter.widget-state+json": {
    "state": {
     "190be794684d493a8503e748b27177c4": {
      "model_module": "@jupyter-widgets/controls",
      "model_module_version": "2.0.0",
      "model_name": "HTMLStyleModel",
      "state": {
       "_model_module": "@jupyter-widgets/controls",
       "_model_module_version": "2.0.0",
       "_model_name": "HTMLStyleModel",
       "_view_count": null,
       "_view_module": "@jupyter-widgets/base",
       "_view_module_version": "2.0.0",
       "_view_name": "StyleView",
       "background": null,
       "description_width": "",
       "font_size": null,
       "text_color": null
      }
     },
     "1c019201f1144efb86fcbf2cd0cdf703": {
      "model_module": "@jupyter-widgets/base",
      "model_module_version": "2.0.0",
      "model_name": "LayoutModel",
      "state": {
       "_model_module": "@jupyter-widgets/base",
       "_model_module_version": "2.0.0",
       "_model_name": "LayoutModel",
       "_view_count": null,
       "_view_module": "@jupyter-widgets/base",
       "_view_module_version": "2.0.0",
       "_view_name": "LayoutView",
       "align_content": null,
       "align_items": null,
       "align_self": null,
       "border_bottom": null,
       "border_left": null,
       "border_right": null,
       "border_top": null,
       "bottom": null,
       "display": null,
       "flex": null,
       "flex_flow": null,
       "grid_area": null,
       "grid_auto_columns": null,
       "grid_auto_flow": null,
       "grid_auto_rows": null,
       "grid_column": null,
       "grid_gap": null,
       "grid_row": null,
       "grid_template_areas": null,
       "grid_template_columns": null,
       "grid_template_rows": null,
       "height": null,
       "justify_content": null,
       "justify_items": null,
       "left": null,
       "margin": null,
       "max_height": null,
       "max_width": null,
       "min_height": null,
       "min_width": null,
       "object_fit": null,
       "object_position": null,
       "order": null,
       "overflow": null,
       "padding": null,
       "right": null,
       "top": null,
       "visibility": null,
       "width": null
      }
     },
     "20d82137c8224a3cae5f3f369ba055b8": {
      "model_module": "@jupyter-widgets/controls",
      "model_module_version": "2.0.0",
      "model_name": "FloatProgressModel",
      "state": {
       "_dom_classes": [],
       "_model_module": "@jupyter-widgets/controls",
       "_model_module_version": "2.0.0",
       "_model_name": "FloatProgressModel",
       "_view_count": null,
       "_view_module": "@jupyter-widgets/controls",
       "_view_module_version": "2.0.0",
       "_view_name": "ProgressView",
       "bar_style": "success",
       "description": "",
       "description_allow_html": false,
       "layout": "IPY_MODEL_4d132cd65aca481f88694aafcc850937",
       "max": 7.0,
       "min": 0.0,
       "orientation": "horizontal",
       "style": "IPY_MODEL_d3dae00715ca42baa67a11a7739828af",
       "tabbable": null,
       "tooltip": null,
       "value": 7.0
      }
     },
     "4d132cd65aca481f88694aafcc850937": {
      "model_module": "@jupyter-widgets/base",
      "model_module_version": "2.0.0",
      "model_name": "LayoutModel",
      "state": {
       "_model_module": "@jupyter-widgets/base",
       "_model_module_version": "2.0.0",
       "_model_name": "LayoutModel",
       "_view_count": null,
       "_view_module": "@jupyter-widgets/base",
       "_view_module_version": "2.0.0",
       "_view_name": "LayoutView",
       "align_content": null,
       "align_items": null,
       "align_self": null,
       "border_bottom": null,
       "border_left": null,
       "border_right": null,
       "border_top": null,
       "bottom": null,
       "display": null,
       "flex": null,
       "flex_flow": null,
       "grid_area": null,
       "grid_auto_columns": null,
       "grid_auto_flow": null,
       "grid_auto_rows": null,
       "grid_column": null,
       "grid_gap": null,
       "grid_row": null,
       "grid_template_areas": null,
       "grid_template_columns": null,
       "grid_template_rows": null,
       "height": null,
       "justify_content": null,
       "justify_items": null,
       "left": null,
       "margin": null,
       "max_height": null,
       "max_width": null,
       "min_height": null,
       "min_width": null,
       "object_fit": null,
       "object_position": null,
       "order": null,
       "overflow": null,
       "padding": null,
       "right": null,
       "top": null,
       "visibility": null,
       "width": null
      }
     },
     "50f4d0c406ce47bf917b2e00ef055dc0": {
      "model_module": "@jupyter-widgets/controls",
      "model_module_version": "2.0.0",
      "model_name": "HTMLModel",
      "state": {
       "_dom_classes": [],
       "_model_module": "@jupyter-widgets/controls",
       "_model_module_version": "2.0.0",
       "_model_name": "HTMLModel",
       "_view_count": null,
       "_view_module": "@jupyter-widgets/controls",
       "_view_module_version": "2.0.0",
       "_view_name": "HTMLView",
       "description": "",
       "description_allow_html": false,
       "layout": "IPY_MODEL_e90e13a21dfe47cfb7a971bc000deb40",
       "placeholder": "​",
       "style": "IPY_MODEL_a8ab8c70e9ac4d1690c6b2d3631f60cf",
       "tabbable": null,
       "tooltip": null,
       "value": "100%"
      }
     },
     "6e6987a986244c4f816c13fa6c762f4e": {
      "model_module": "@jupyter-widgets/controls",
      "model_module_version": "2.0.0",
      "model_name": "HBoxModel",
      "state": {
       "_dom_classes": [],
       "_model_module": "@jupyter-widgets/controls",
       "_model_module_version": "2.0.0",
       "_model_name": "HBoxModel",
       "_view_count": null,
       "_view_module": "@jupyter-widgets/controls",
       "_view_module_version": "2.0.0",
       "_view_name": "HBoxView",
       "box_style": "",
       "children": [
        "IPY_MODEL_50f4d0c406ce47bf917b2e00ef055dc0",
        "IPY_MODEL_20d82137c8224a3cae5f3f369ba055b8",
        "IPY_MODEL_f14bffae0b884ac986bab27133e4bf08"
       ],
       "layout": "IPY_MODEL_1c019201f1144efb86fcbf2cd0cdf703",
       "tabbable": null,
       "tooltip": null
      }
     },
     "a8ab8c70e9ac4d1690c6b2d3631f60cf": {
      "model_module": "@jupyter-widgets/controls",
      "model_module_version": "2.0.0",
      "model_name": "HTMLStyleModel",
      "state": {
       "_model_module": "@jupyter-widgets/controls",
       "_model_module_version": "2.0.0",
       "_model_name": "HTMLStyleModel",
       "_view_count": null,
       "_view_module": "@jupyter-widgets/base",
       "_view_module_version": "2.0.0",
       "_view_name": "StyleView",
       "background": null,
       "description_width": "",
       "font_size": null,
       "text_color": null
      }
     },
     "ad038dfdda1b410c840f084d7e677fe9": {
      "model_module": "@jupyter-widgets/base",
      "model_module_version": "2.0.0",
      "model_name": "LayoutModel",
      "state": {
       "_model_module": "@jupyter-widgets/base",
       "_model_module_version": "2.0.0",
       "_model_name": "LayoutModel",
       "_view_count": null,
       "_view_module": "@jupyter-widgets/base",
       "_view_module_version": "2.0.0",
       "_view_name": "LayoutView",
       "align_content": null,
       "align_items": null,
       "align_self": null,
       "border_bottom": null,
       "border_left": null,
       "border_right": null,
       "border_top": null,
       "bottom": null,
       "display": null,
       "flex": null,
       "flex_flow": null,
       "grid_area": null,
       "grid_auto_columns": null,
       "grid_auto_flow": null,
       "grid_auto_rows": null,
       "grid_column": null,
       "grid_gap": null,
       "grid_row": null,
       "grid_template_areas": null,
       "grid_template_columns": null,
       "grid_template_rows": null,
       "height": null,
       "justify_content": null,
       "justify_items": null,
       "left": null,
       "margin": null,
       "max_height": null,
       "max_width": null,
       "min_height": null,
       "min_width": null,
       "object_fit": null,
       "object_position": null,
       "order": null,
       "overflow": null,
       "padding": null,
       "right": null,
       "top": null,
       "visibility": null,
       "width": null
      }
     },
     "d3dae00715ca42baa67a11a7739828af": {
      "model_module": "@jupyter-widgets/controls",
      "model_module_version": "2.0.0",
      "model_name": "ProgressStyleModel",
      "state": {
       "_model_module": "@jupyter-widgets/controls",
       "_model_module_version": "2.0.0",
       "_model_name": "ProgressStyleModel",
       "_view_count": null,
       "_view_module": "@jupyter-widgets/base",
       "_view_module_version": "2.0.0",
       "_view_name": "StyleView",
       "bar_color": null,
       "description_width": ""
      }
     },
     "e90e13a21dfe47cfb7a971bc000deb40": {
      "model_module": "@jupyter-widgets/base",
      "model_module_version": "2.0.0",
      "model_name": "LayoutModel",
      "state": {
       "_model_module": "@jupyter-widgets/base",
       "_model_module_version": "2.0.0",
       "_model_name": "LayoutModel",
       "_view_count": null,
       "_view_module": "@jupyter-widgets/base",
       "_view_module_version": "2.0.0",
       "_view_name": "LayoutView",
       "align_content": null,
       "align_items": null,
       "align_self": null,
       "border_bottom": null,
       "border_left": null,
       "border_right": null,
       "border_top": null,
       "bottom": null,
       "display": null,
       "flex": null,
       "flex_flow": null,
       "grid_area": null,
       "grid_auto_columns": null,
       "grid_auto_flow": null,
       "grid_auto_rows": null,
       "grid_column": null,
       "grid_gap": null,
       "grid_row": null,
       "grid_template_areas": null,
       "grid_template_columns": null,
       "grid_template_rows": null,
       "height": null,
       "justify_content": null,
       "justify_items": null,
       "left": null,
       "margin": null,
       "max_height": null,
       "max_width": null,
       "min_height": null,
       "min_width": null,
       "object_fit": null,
       "object_position": null,
       "order": null,
       "overflow": null,
       "padding": null,
       "right": null,
       "top": null,
       "visibility": null,
       "width": null
      }
     },
     "f14bffae0b884ac986bab27133e4bf08": {
      "model_module": "@jupyter-widgets/controls",
      "model_module_version": "2.0.0",
      "model_name": "HTMLModel",
      "state": {
       "_dom_classes": [],
       "_model_module": "@jupyter-widgets/controls",
       "_model_module_version": "2.0.0",
       "_model_name": "HTMLModel",
       "_view_count": null,
       "_view_module": "@jupyter-widgets/controls",
       "_view_module_version": "2.0.0",
       "_view_name": "HTMLView",
       "description": "",
       "description_allow_html": false,
       "layout": "IPY_MODEL_ad038dfdda1b410c840f084d7e677fe9",
       "placeholder": "​",
       "style": "IPY_MODEL_190be794684d493a8503e748b27177c4",
       "tabbable": null,
       "tooltip": null,
       "value": " 7/7 [01:28&lt;00:00, 15.23s/it]"
      }
     }
    },
    "version_major": 2,
    "version_minor": 0
   }
  }
 },
 "nbformat": 4,
 "nbformat_minor": 5
}