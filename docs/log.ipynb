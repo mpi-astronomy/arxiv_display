{
 "cells": [
  {
   "cell_type": "markdown",
   "id": "92bcb855",
   "metadata": {
    "papermill": {
     "duration": 0.0045,
     "end_time": "2023-06-06T04:04:05.430304",
     "exception": false,
     "start_time": "2023-06-06T04:04:05.425804",
     "status": "completed"
    },
    "tags": []
   },
   "source": [
    "# MPIA Arxiv on Deck 2\n",
    "\n",
    "Contains the steps to produce the paper extractions."
   ]
  },
  {
   "cell_type": "code",
   "execution_count": 1,
   "id": "3a0d6e11",
   "metadata": {
    "execution": {
     "iopub.execute_input": "2023-06-06T04:04:05.438788Z",
     "iopub.status.busy": "2023-06-06T04:04:05.438319Z",
     "iopub.status.idle": "2023-06-06T04:04:05.654858Z",
     "shell.execute_reply": "2023-06-06T04:04:05.654227Z"
    },
    "papermill": {
     "duration": 0.222862,
     "end_time": "2023-06-06T04:04:05.656840",
     "exception": false,
     "start_time": "2023-06-06T04:04:05.433978",
     "status": "completed"
    },
    "tags": []
   },
   "outputs": [],
   "source": [
    "# Imports\n",
    "import os\n",
    "from IPython.display import Markdown, display\n",
    "from tqdm.notebook import tqdm\n",
    "import warnings\n",
    "from PIL import Image \n",
    "\n",
    "# requires arxiv_on_deck_2\n",
    "\n",
    "from arxiv_on_deck_2.arxiv2 import (get_new_papers, \n",
    "                                    get_paper_from_identifier,\n",
    "                                    retrieve_document_source, \n",
    "                                    get_markdown_badge)\n",
    "from arxiv_on_deck_2 import (latex,\n",
    "                             latex_bib,\n",
    "                             mpia,\n",
    "                             highlight_authors_in_list)\n",
    "\n",
    "# Sometimes images are really big\n",
    "Image.MAX_IMAGE_PIXELS = 1000000000 "
   ]
  },
  {
   "cell_type": "code",
   "execution_count": 2,
   "id": "22aa9d44",
   "metadata": {
    "execution": {
     "iopub.execute_input": "2023-06-06T04:04:05.665534Z",
     "iopub.status.busy": "2023-06-06T04:04:05.664910Z",
     "iopub.status.idle": "2023-06-06T04:04:05.670700Z",
     "shell.execute_reply": "2023-06-06T04:04:05.670060Z"
    },
    "papermill": {
     "duration": 0.012032,
     "end_time": "2023-06-06T04:04:05.672543",
     "exception": false,
     "start_time": "2023-06-06T04:04:05.660511",
     "status": "completed"
    },
    "tags": []
   },
   "outputs": [],
   "source": [
    "# Some useful definitions.\n",
    "\n",
    "class AffiliationWarning(UserWarning):\n",
    "    pass\n",
    "\n",
    "class AffiliationError(RuntimeError):\n",
    "    pass\n",
    "\n",
    "def validation(source: str):\n",
    "    \"\"\"Raises error paper during parsing of source file\n",
    "    \n",
    "    Allows checks before parsing TeX code.\n",
    "    \n",
    "    Raises AffiliationWarning\n",
    "    \"\"\"\n",
    "    check = mpia.affiliation_verifications(source, verbose=True)\n",
    "    if check is not True:\n",
    "        raise AffiliationError(\"mpia.affiliation_verifications: \" + check)\n",
    "\n",
    "        \n",
    "warnings.simplefilter('always', AffiliationWarning)\n",
    "\n",
    "\n",
    "def get_markdown_qrcode(paper_id: str):\n",
    "    \"\"\" Generate a qrcode to the arxiv page using qrserver.com\n",
    "    \n",
    "    :param paper: Arxiv paper\n",
    "    :returns: markdown text\n",
    "    \"\"\"\n",
    "    url = r\"https://api.qrserver.com/v1/create-qr-code/?size=100x100&data=\"\n",
    "    txt = f\"\"\"<img src={url}\"https://arxiv.org/abs/{paper_id}\">\"\"\"\n",
    "    txt = '<div id=\"qrcode\">' + txt + '</div>'\n",
    "    return txt"
   ]
  },
  {
   "cell_type": "markdown",
   "id": "14bd6310",
   "metadata": {
    "papermill": {
     "duration": 0.003269,
     "end_time": "2023-06-06T04:04:05.679196",
     "exception": false,
     "start_time": "2023-06-06T04:04:05.675927",
     "status": "completed"
    },
    "tags": []
   },
   "source": [
    "## get list of arxiv paper candidates\n",
    "\n",
    "We use the MPIA mitarbeiter list webpage from mpia.de to get author names\n",
    "We then get all new papers from Arxiv and match authors"
   ]
  },
  {
   "cell_type": "code",
   "execution_count": 3,
   "id": "2645e73a",
   "metadata": {
    "execution": {
     "iopub.execute_input": "2023-06-06T04:04:05.687357Z",
     "iopub.status.busy": "2023-06-06T04:04:05.686731Z",
     "iopub.status.idle": "2023-06-06T04:04:28.625801Z",
     "shell.execute_reply": "2023-06-06T04:04:28.625007Z"
    },
    "papermill": {
     "duration": 22.945133,
     "end_time": "2023-06-06T04:04:28.627686",
     "exception": false,
     "start_time": "2023-06-06T04:04:05.682553",
     "status": "completed"
    },
    "tags": []
   },
   "outputs": [
    {
     "name": "stdout",
     "output_type": "stream",
     "text": [
      "H.-W. Rix  ->  H.-W. Rix  |  ['H.-W. Rix']\n",
      "A. d. Graaff  ->  A. D. Graaff  |  ['A. D. Graaff']\n",
      "A. d. Graaff  ->  A. D. Graaff  |  ['A. D. Graaff']\n",
      "A. d. Graaff  ->  A. D. Graaff  |  ['A. D. Graaff']\n",
      "H.-W. Rix  ->  H.-W. Rix  |  ['H.-W. Rix']\n",
      "H.-W. Rix  ->  H.-W. Rix  |  ['H.-W. Rix']\n",
      "A. d. Graaff  ->  A. D. Graaff  |  ['A. D. Graaff']\n",
      "M. Güdel  ->  M. Güdel  |  ['M. Güdel']\n"
     ]
    },
    {
     "name": "stdout",
     "output_type": "stream",
     "text": [
      "Arxiv has 74 new papers today\n",
      "          6 with possible author matches\n"
     ]
    }
   ],
   "source": [
    "# get list from MPIA website\n",
    "# it automatically filters identified non-scientists :func:`mpia.filter_non_scientists`\n",
    "mpia_authors = mpia.get_mpia_mitarbeiter_list()\n",
    "normed_mpia_authors = [k[1] for k in mpia_authors]   # initials + fullname\n",
    "new_papers = get_new_papers()\n",
    "# add manual references\n",
    "add_paper_refs = []\n",
    "new_papers.extend([get_paper_from_identifier(k) for k in add_paper_refs])\n",
    "\n",
    "candidates = []\n",
    "for paperk in new_papers:\n",
    "    # Check author list with their initials\n",
    "    normed_author_list = [mpia.get_initials(k) for k in paperk['authors']]\n",
    "    hl_authors = highlight_authors_in_list(normed_author_list, normed_mpia_authors, verbose=True)\n",
    "    matches = [(hl, orig) for hl, orig in zip(hl_authors, paperk['authors']) if 'mark' in hl]\n",
    "    paperk['authors'] = hl_authors\n",
    "    if matches:\n",
    "        # only select paper if an author matched our list\n",
    "        candidates.append(paperk)\n",
    "print(\"\"\"Arxiv has {0:,d} new papers today\"\"\".format(len(new_papers)))        \n",
    "print(\"\"\"          {0:,d} with possible author matches\"\"\".format(len(candidates)))"
   ]
  },
  {
   "cell_type": "markdown",
   "id": "3543b34a",
   "metadata": {
    "papermill": {
     "duration": 0.003563,
     "end_time": "2023-06-06T04:04:28.635129",
     "exception": false,
     "start_time": "2023-06-06T04:04:28.631566",
     "status": "completed"
    },
    "tags": []
   },
   "source": [
    "# Parse sources and generate relevant outputs\n",
    "\n",
    "From the candidates, we do the following steps:\n",
    "* get their tarball from ArXiv (and extract data)\n",
    "* find the main .tex file: find one with \\documentclass{...} (sometimes it's non trivial)\n",
    "* Check affiliations with :func:`validation`, which uses :func:`mpia.affiliation_verifications`\n",
    "* If passing the affiliations: we parse the .tex source\n",
    "   * inject sub-documents into the main (flatten the main document)\n",
    "   * parse structure, extract information (title, abstract, authors, figures...)\n",
    "   * handles `\\graphicspath` if provided\n",
    "* Generate the .md document."
   ]
  },
  {
   "cell_type": "code",
   "execution_count": 4,
   "id": "9576b79e",
   "metadata": {
    "execution": {
     "iopub.execute_input": "2023-06-06T04:04:28.643435Z",
     "iopub.status.busy": "2023-06-06T04:04:28.643192Z",
     "iopub.status.idle": "2023-06-06T04:06:26.519328Z",
     "shell.execute_reply": "2023-06-06T04:06:26.517093Z"
    },
    "papermill": {
     "duration": 117.882252,
     "end_time": "2023-06-06T04:06:26.520843",
     "exception": false,
     "start_time": "2023-06-06T04:04:28.638591",
     "status": "completed"
    },
    "scrolled": false,
    "tags": []
   },
   "outputs": [
    {
     "data": {
      "application/vnd.jupyter.widget-view+json": {
       "model_id": "128df63843b84547a02a6c5dfc02122d",
       "version_major": 2,
       "version_minor": 0
      },
      "text/plain": [
       "  0%|          | 0/5 [00:00<?, ?it/s]"
      ]
     },
     "metadata": {},
     "output_type": "display_data"
    },
    {
     "name": "stdout",
     "output_type": "stream",
     "text": [
      "Retrieving document from  https://arxiv.org/e-print/2306.02465\n"
     ]
    },
    {
     "name": "stdout",
     "output_type": "stream",
     "text": [
      "extracting tarball to tmp_2306.02465..."
     ]
    },
    {
     "name": "stdout",
     "output_type": "stream",
     "text": [
      " done.\n"
     ]
    },
    {
     "name": "stderr",
     "output_type": "stream",
     "text": [
      "/opt/hostedtoolcache/Python/3.9.16/x64/lib/python3.9/site-packages/IPython/core/interactiveshell.py:3508: LatexWarning: Multiple tex files.\n",
      "\n",
      "  exec(code_obj, self.user_global_ns, self.user_ns)\n",
      "/opt/hostedtoolcache/Python/3.9.16/x64/lib/python3.9/site-packages/IPython/core/interactiveshell.py:3508: LatexWarning: Found documentclass in tmp_2306.02465/main.tex\n",
      "\n",
      "  exec(code_obj, self.user_global_ns, self.user_ns)\n",
      "/opt/hostedtoolcache/Python/3.9.16/x64/lib/python3.9/site-packages/arxiv_on_deck_2/latex.py:399: LatexWarning: Latex injecting: 'conclusion' from 'tmp_2306.02465/conclusion.tex'\n",
      "  warnings.warn(LatexWarning(f\"Latex injecting: '{ext}' from '{subsource}'\"))\n",
      "/opt/hostedtoolcache/Python/3.9.16/x64/lib/python3.9/site-packages/arxiv_on_deck_2/latex.py:399: LatexWarning: Latex injecting: 'preparations' from 'tmp_2306.02465/preparations.tex'\n",
      "  warnings.warn(LatexWarning(f\"Latex injecting: '{ext}' from '{subsource}'\"))\n",
      "/opt/hostedtoolcache/Python/3.9.16/x64/lib/python3.9/site-packages/arxiv_on_deck_2/latex.py:399: LatexWarning: Latex injecting: 'miri' from 'tmp_2306.02465/miri.tex'\n",
      "  warnings.warn(LatexWarning(f\"Latex injecting: '{ext}' from '{subsource}'\"))\n",
      "/opt/hostedtoolcache/Python/3.9.16/x64/lib/python3.9/site-packages/arxiv_on_deck_2/latex.py:399: LatexWarning: Latex injecting: 'nirspec' from 'tmp_2306.02465/nirspec.tex'\n",
      "  warnings.warn(LatexWarning(f\"Latex injecting: '{ext}' from '{subsource}'\"))\n",
      "/opt/hostedtoolcache/Python/3.9.16/x64/lib/python3.9/site-packages/arxiv_on_deck_2/latex.py:399: LatexWarning: Latex injecting: 'nircam' from 'tmp_2306.02465/nircam.tex'\n",
      "  warnings.warn(LatexWarning(f\"Latex injecting: '{ext}' from '{subsource}'\"))\n",
      "/opt/hostedtoolcache/Python/3.9.16/x64/lib/python3.9/site-packages/arxiv_on_deck_2/latex.py:399: LatexWarning: Latex injecting: 'footprint' from 'tmp_2306.02465/footprint.tex'\n",
      "  warnings.warn(LatexWarning(f\"Latex injecting: '{ext}' from '{subsource}'\"))\n",
      "/opt/hostedtoolcache/Python/3.9.16/x64/lib/python3.9/site-packages/arxiv_on_deck_2/latex.py:399: LatexWarning: Latex injecting: 'survey_design' from 'tmp_2306.02465/survey_design.tex'\n",
      "  warnings.warn(LatexWarning(f\"Latex injecting: '{ext}' from '{subsource}'\"))\n",
      "/opt/hostedtoolcache/Python/3.9.16/x64/lib/python3.9/site-packages/arxiv_on_deck_2/latex.py:399: LatexWarning: Latex injecting: 'motivation' from 'tmp_2306.02465/motivation.tex'\n",
      "  warnings.warn(LatexWarning(f\"Latex injecting: '{ext}' from '{subsource}'\"))\n",
      "/opt/hostedtoolcache/Python/3.9.16/x64/lib/python3.9/site-packages/arxiv_on_deck_2/latex.py:399: LatexWarning: Latex injecting: 'introduction' from 'tmp_2306.02465/introduction.tex'\n",
      "  warnings.warn(LatexWarning(f\"Latex injecting: '{ext}' from '{subsource}'\"))\n"
     ]
    },
    {
     "name": "stdout",
     "output_type": "stream",
     "text": [
      "Found 129 bibliographic references in tmp_2306.02465/main.bbl.\n",
      "Retrieving document from  https://arxiv.org/e-print/2306.02467\n"
     ]
    },
    {
     "name": "stdout",
     "output_type": "stream",
     "text": [
      "extracting tarball to tmp_2306.02467..."
     ]
    },
    {
     "name": "stdout",
     "output_type": "stream",
     "text": [
      " done.\n"
     ]
    },
    {
     "name": "stderr",
     "output_type": "stream",
     "text": [
      "/tmp/ipykernel_2038/1863104449.py:49: LatexWarning: 2306.02467 did not run properly\n",
      "list index out of range\n",
      "  warnings.warn(latex.LatexWarning(f\"{paper_id:s} did not run properly\\n\" +\n"
     ]
    },
    {
     "name": "stdout",
     "output_type": "stream",
     "text": [
      "Retrieving document from  https://arxiv.org/e-print/2306.02470\n"
     ]
    },
    {
     "name": "stdout",
     "output_type": "stream",
     "text": [
      "extracting tarball to tmp_2306.02470..."
     ]
    },
    {
     "name": "stdout",
     "output_type": "stream",
     "text": [
      " done.\n"
     ]
    },
    {
     "name": "stderr",
     "output_type": "stream",
     "text": [
      "/opt/hostedtoolcache/Python/3.9.16/x64/lib/python3.9/site-packages/IPython/core/interactiveshell.py:3508: LatexWarning: Multiple tex files.\n",
      "\n",
      "  exec(code_obj, self.user_global_ns, self.user_ns)\n",
      "/opt/hostedtoolcache/Python/3.9.16/x64/lib/python3.9/site-packages/IPython/core/interactiveshell.py:3508: LatexWarning: Found documentclass in tmp_2306.02470/JADES_differing_assembly_histories.tex\n",
      "\n",
      "  exec(code_obj, self.user_global_ns, self.user_ns)\n"
     ]
    },
    {
     "name": "stdout",
     "output_type": "stream",
     "text": [
      "A. d. Graaff  ->  A. D. Graaff  |  ['A. D. Graaff']\n",
      "H.-W. Rix  ->  H.-W. Rix  |  ['H.-W. Rix']\n"
     ]
    },
    {
     "name": "stdout",
     "output_type": "stream",
     "text": [
      "Found 80 bibliographic references in tmp_2306.02470/JADES_differing_assembly_histories.bbl.\n",
      "Retrieving document from  https://arxiv.org/e-print/2306.02471\n"
     ]
    },
    {
     "name": "stdout",
     "output_type": "stream",
     "text": [
      "extracting tarball to tmp_2306.02471..."
     ]
    },
    {
     "name": "stdout",
     "output_type": "stream",
     "text": [
      " done.\n"
     ]
    },
    {
     "name": "stderr",
     "output_type": "stream",
     "text": [
      "/opt/hostedtoolcache/Python/3.9.16/x64/lib/python3.9/site-packages/IPython/core/interactiveshell.py:3508: LatexWarning: Multiple tex files.\n",
      "\n",
      "  exec(code_obj, self.user_global_ns, self.user_ns)\n",
      "/opt/hostedtoolcache/Python/3.9.16/x64/lib/python3.9/site-packages/IPython/core/interactiveshell.py:3508: LatexWarning: Found documentclass in tmp_2306.02471/main.tex\n",
      "\n",
      "  exec(code_obj, self.user_global_ns, self.user_ns)\n",
      "/opt/hostedtoolcache/Python/3.9.16/x64/lib/python3.9/site-packages/arxiv_on_deck_2/latex.py:399: LatexWarning: Latex injecting: 'LyaOutputTable' from 'tmp_2306.02471/LyaOutputTable.tex'\n",
      "  warnings.warn(LatexWarning(f\"Latex injecting: '{ext}' from '{subsource}'\"))\n"
     ]
    },
    {
     "name": "stderr",
     "output_type": "stream",
     "text": [
      "/opt/hostedtoolcache/Python/3.9.16/x64/lib/python3.9/site-packages/arxiv_on_deck_2/latex.py:473: LatexWarning: Error parsing the document directly. Trying to recover.\n",
      "  warnings.warn(LatexWarning(f\"Error parsing the document directly. Trying to recover.\"))\n"
     ]
    },
    {
     "name": "stdout",
     "output_type": "stream",
     "text": [
      "✔ → 0:header\n",
      "  ↳ 6123:\\section{Introduction}\\label{intro}\n",
      "✔ → 6123:\\section{Introduction}\\label{intro}\n",
      "  ↳ 11710:\\section{Sample}\\label{sec_sample}\n"
     ]
    },
    {
     "name": "stdout",
     "output_type": "stream",
     "text": [
      "✔ → 11710:\\section{Sample}\\label{sec_sample}\n",
      "  ↳ 13756:\\section{Combined Lya and continuum fit}\\label{sec_fit}\n"
     ]
    },
    {
     "name": "stdout",
     "output_type": "stream",
     "text": [
      "✘ → 13756:\\section{Combined Lya and continuum fit}\\label{sec_fit}\n",
      "  ↳ 40030:\\section{Discussion}\\label{sec_disc}\n"
     ]
    },
    {
     "name": "stdout",
     "output_type": "stream",
     "text": [
      "✔ → 40030:\\section{Discussion}\\label{sec_disc}\n",
      "  ↳ 51453:\\section{Conclusions}\\label{sec_conc}\n",
      "✔ → 51453:\\section{Conclusions}\\label{sec_conc}\n",
      "  ↳ 55925:\\section{Damping wing in R100}\\label{dampapp}\n"
     ]
    },
    {
     "name": "stdout",
     "output_type": "stream",
     "text": [
      "✔ → 55925:\\section{Damping wing in R100}\\label{dampapp}\n",
      "  ↳ 59368:\\section{M$_{\\rm UV}$ Derivation}\\label{m1500app}\n",
      "✔ → 59368:\\section{M$_{\\rm UV}$ Derivation}\\label{m1500app}\n",
      "  ↳ 60500:\\section{Comparison data}\\label{compdata}\n"
     ]
    },
    {
     "name": "stdout",
     "output_type": "stream",
     "text": [
      "✔ → 60500:\\section{Comparison data}\\label{compdata}\n",
      "  ↳ 66506:\\section{Ly$\\alpha$ fraction upper limit definition}\\label{effprob}\n",
      "✔ → 66506:\\section{Ly$\\alpha$ fraction upper limit definition}\\label{effprob}\n",
      "  ↳ 69590:end\n"
     ]
    },
    {
     "name": "stdout",
     "output_type": "stream",
     "text": [
      "H.-W. Rix  ->  H.-W. Rix  |  ['H.-W. Rix']\n"
     ]
    },
    {
     "name": "stdout",
     "output_type": "stream",
     "text": [
      "Found 79 bibliographic references in tmp_2306.02471/main.bbl.\n",
      "syntax error in line 53: '=' expected\n",
      "Retrieving document from  https://arxiv.org/e-print/2306.02472\n"
     ]
    },
    {
     "name": "stdout",
     "output_type": "stream",
     "text": [
      "extracting tarball to tmp_2306.02472..."
     ]
    },
    {
     "name": "stdout",
     "output_type": "stream",
     "text": [
      " done.\n"
     ]
    },
    {
     "name": "stderr",
     "output_type": "stream",
     "text": [
      "/opt/hostedtoolcache/Python/3.9.16/x64/lib/python3.9/site-packages/IPython/core/interactiveshell.py:3508: LatexWarning: Multiple tex files.\n",
      "\n",
      "  exec(code_obj, self.user_global_ns, self.user_ns)\n",
      "/opt/hostedtoolcache/Python/3.9.16/x64/lib/python3.9/site-packages/IPython/core/interactiveshell.py:3508: LatexWarning: Found documentclass in tmp_2306.02472/main.tex\n",
      "\n",
      "  exec(code_obj, self.user_global_ns, self.user_ns)\n",
      "/opt/hostedtoolcache/Python/3.9.16/x64/lib/python3.9/site-packages/arxiv_on_deck_2/latex.py:399: LatexWarning: Latex injecting: 'acknowledgements.tex' from 'tmp_2306.02472/acknowledgements.tex'\n",
      "  warnings.warn(LatexWarning(f\"Latex injecting: '{ext}' from '{subsource}'\"))\n",
      "/opt/hostedtoolcache/Python/3.9.16/x64/lib/python3.9/site-packages/arxiv_on_deck_2/latex.py:399: LatexWarning: Latex injecting: 'authors_mixed_updated.tex' from 'tmp_2306.02472/authors_mixed_updated.tex'\n",
      "  warnings.warn(LatexWarning(f\"Latex injecting: '{ext}' from '{subsource}'\"))\n"
     ]
    },
    {
     "name": "stderr",
     "output_type": "stream",
     "text": [
      "/tmp/ipykernel_2038/1863104449.py:49: LatexWarning: 2306.02472 did not run properly\n",
      "expected string or bytes-like object\n",
      "  warnings.warn(latex.LatexWarning(f\"{paper_id:s} did not run properly\\n\" +\n"
     ]
    }
   ],
   "source": [
    "documents = []\n",
    "failed = []\n",
    "for paper in tqdm(candidates[:-1]):\n",
    "    paper_id = paper['identifier'].lower().replace('arxiv:', '')\n",
    "    \n",
    "    folder = f'tmp_{paper_id}'\n",
    "\n",
    "    try:\n",
    "        if not os.path.isdir(folder):\n",
    "            folder = retrieve_document_source(f\"{paper_id}\", f'tmp_{paper_id}')\n",
    "        \n",
    "        try:\n",
    "            doc = latex.LatexDocument(folder, validation=validation)    \n",
    "        except AffiliationError as affilerror:\n",
    "            msg = f\"ArXiv:{paper_id:s} is not an MPIA paper... \" + str(affilerror)\n",
    "            failed.append((paper, \"affiliation error: \" + str(affilerror) ))\n",
    "            continue\n",
    "        \n",
    "        # Hack because sometimes author parsing does not work well\n",
    "        if (len(doc.authors) != len(paper['authors'])):\n",
    "            doc._authors = paper['authors']\n",
    "        else:\n",
    "            # highlight authors (FIXME: doc.highlight_authors)\n",
    "            # done on arxiv paper already\n",
    "            doc._authors = highlight_authors_in_list(\n",
    "                [mpia.get_initials(k) for k in doc.authors], \n",
    "                normed_mpia_authors, verbose=True)\n",
    "        if (doc.abstract) in (None, ''):\n",
    "            doc._abstract = paper['abstract']\n",
    "            \n",
    "        doc.comment = (get_markdown_badge(paper_id) + \n",
    "                       \"<mark>Appeared on: \" + paper['date'] + \"</mark> - \")\n",
    "        if paper['comments']:\n",
    "            doc.comment += \" _\" + paper['comments'] + \"_\"\n",
    "        \n",
    "        full_md = doc.generate_markdown_text()\n",
    "        \n",
    "        full_md += get_markdown_qrcode(paper_id)\n",
    "        \n",
    "        # replace citations\n",
    "        try:\n",
    "            bibdata = latex_bib.LatexBib.from_doc(doc)\n",
    "            full_md = latex_bib.replace_citations(full_md, bibdata)\n",
    "        except Exception as e:\n",
    "            print(e)\n",
    "        \n",
    "        documents.append((paper_id, full_md))\n",
    "    except Exception as e:\n",
    "        warnings.warn(latex.LatexWarning(f\"{paper_id:s} did not run properly\\n\" +\n",
    "                                         str(e)\n",
    "                                        ))\n",
    "        failed.append((paper, \"latex error \" + str(e)))"
   ]
  },
  {
   "cell_type": "markdown",
   "id": "2505a25c",
   "metadata": {
    "papermill": {
     "duration": 0.005701,
     "end_time": "2023-06-06T04:06:26.532128",
     "exception": false,
     "start_time": "2023-06-06T04:06:26.526427",
     "status": "completed"
    },
    "tags": []
   },
   "source": [
    "### Export the logs\n",
    "\n",
    "Throughout, we also keep track of the logs per paper. see `logs-{today date}.md` "
   ]
  },
  {
   "cell_type": "code",
   "execution_count": 5,
   "id": "d733828a",
   "metadata": {
    "execution": {
     "iopub.execute_input": "2023-06-06T04:06:26.544157Z",
     "iopub.status.busy": "2023-06-06T04:06:26.543770Z",
     "iopub.status.idle": "2023-06-06T04:06:26.558738Z",
     "shell.execute_reply": "2023-06-06T04:06:26.558225Z"
    },
    "papermill": {
     "duration": 0.022686,
     "end_time": "2023-06-06T04:06:26.560081",
     "exception": false,
     "start_time": "2023-06-06T04:06:26.537395",
     "status": "completed"
    },
    "scrolled": false,
    "tags": []
   },
   "outputs": [
    {
     "data": {
      "text/markdown": [
       "## Successful papers"
      ],
      "text/plain": [
       "<IPython.core.display.Markdown object>"
      ]
     },
     "metadata": {},
     "output_type": "display_data"
    },
    {
     "data": {
      "text/markdown": [
       "\n",
       "|||\n",
       "|---:|:---|\n",
       "| [![arXiv](https://img.shields.io/badge/arXiv-arXiv:2306.02465-b31b1b.svg)](https://arxiv.org/abs/arXiv:2306.02465) | **Overview of the JWST Advanced Deep Extragalactic Survey (JADES)**  |\n",
       "|| D. J. Eisenstein, et al. -- incl., <mark>H.-W. Rix</mark>, <mark>A. d. Graaff</mark> |\n",
       "|*Appeared on*| *2023-06-06*|\n",
       "|*Comments*| *33 pages, submitted to ApJ Supplement. The JADES Collaboration web site is at this https URL, and the initial data release is available at this https URL with a viewer at this http URL*|\n",
       "|**Abstract**| We present an overview of the James Webb Space Telescope (JWST) Advanced Deep Extragalactic Survey (JADES), an ambitious program of infrared imaging and spectroscopy in the GOODS-S and GOODS-N deep fields, designed to study galaxy evolution from high redshift to cosmic noon. JADES uses about 770 hours of Cycle 1 guaranteed time largely from the Near-Infrared Camera (NIRCam) and Near-Infrared Spectrograph (NIRSpec) instrument teams. In GOODS-S, in and around the Hubble Ultra Deep Field and Chandra Deep Field South, JADES produces a deep imaging region of ~45 arcmin$^2$ with an average of 130 hrs of exposure time spread over 9 NIRCam filters. This is extended at medium depth in GOODS-S and GOODS-N with NIRCam imaging of ~175 arcmin$^2$ with an average exposure time of 20 hrs spread over 8-10 filters. In both fields, we conduct extensive NIRSpec multi-object spectroscopy, including 2 deep pointings of 55 hrs exposure time, 14 medium pointings of ~12 hrs, and 15 shallower pointings of ~4 hrs, targeting over 5000 HST and JWST-detected faint sources with 5 low, medium, and high-resolution dispersers covering 0.6-5.3 microns. Finally, JADES extends redward via coordinated parallels with the JWST Mid-Infrared Instrument (MIRI), featuring ~9 arcmin$^2$ with 43 hours of exposure at 7.7 microns and twice that area with 2-6.5 hours of exposure at 12.8 microns For nearly 30 years, the GOODS-S and GOODS-N fields have been developed as the premier deep fields on the sky; JADES is now providing a compelling start on the JWST legacy in these fields. |"
      ],
      "text/plain": [
       "[arXiv:2306.02465] Overview of the JWST Advanced Deep Extragalactic Survey (JADES)\n",
       "\tD. J. Eisenstein, et al. -- incl., <mark>H.-W. Rix</mark>, <mark>A. d. Graaff</mark>"
      ]
     },
     "metadata": {},
     "output_type": "display_data"
    },
    {
     "data": {
      "text/markdown": [
       "\n",
       "|||\n",
       "|---:|:---|\n",
       "| [![arXiv](https://img.shields.io/badge/arXiv-arXiv:2306.02470-b31b1b.svg)](https://arxiv.org/abs/arXiv:2306.02470) | **JADES: Differing assembly histories of galaxies -- Observational  evidence for bursty SFHs and (mini-)quenching in the first billion years of  the Universe**  |\n",
       "|| T. J. Looser, et al. -- incl., <mark>A. d. Graaff</mark>, <mark>H.-W. Rix</mark> |\n",
       "|*Appeared on*| *2023-06-06*|\n",
       "|*Comments*| **|\n",
       "|**Abstract**| We use deep NIRSpec spectroscopic data from the JADES survey to derive the star formation histories (SFHs) of a sample of 200 galaxies at 0.6$<$z$<$11 and spanning stellar masses from $\\rm 10^6$ to $\\rm 10^{9.5}~M_\\odot$. We find that galaxies at high-redshift, galaxies above the Main Sequence (MS) and low-mass galaxies tend to host younger stellar populations than their low-redshift, massive, and below the MS counterparts. Interestingly, the correlation between age, M$_*$ and SFR existed even earlier than Cosmic Noon, out to the earliest cosmic epochs. However, these trends have a large scatter. Indeed, there are examples of young stellar populations also below the MS, indicating recent (bursty) star formation in evolved systems. We explore further the burstiness of the SFHs by using the ratio between SFR averaged over the last 10 Myr and averaged between 10 Myr and 100 Myr before the epoch of observation ($\\mathrm{SFR_{cont, 10}/SFR_{cont, 90}}$). We find that high-redshift and low-mass galaxies have particularly bursty SFHs, while more massive and lower-redshift systems evolve more steadily. We also present the discovery of another (mini-)quenched galaxy at z = 4.4 (in addition to the one at z=7.3 reported by Looser et al. 2023), which might be only temporarily quiescent as a consequence of the extremely bursty evolution. Finally, we also find a steady decline of dust reddening of the stellar population approaching the earliest cosmic epochs, although some dust reddening is still observed in some of the highest redshift and most star forming systems. |"
      ],
      "text/plain": [
       "[arXiv:2306.02470] JADES: Differing assembly histories of galaxies -- Observational  evidence for bursty SFHs and (mini-)quenching in the first billion years of  the Universe\n",
       "\tT. J. Looser, et al. -- incl., <mark>A. d. Graaff</mark>, <mark>H.-W. Rix</mark>"
      ]
     },
     "metadata": {},
     "output_type": "display_data"
    },
    {
     "data": {
      "text/markdown": [
       "\n",
       "|||\n",
       "|---:|:---|\n",
       "| [![arXiv](https://img.shields.io/badge/arXiv-arXiv:2306.02471-b31b1b.svg)](https://arxiv.org/abs/arXiv:2306.02471) | **JADES: The emergence and evolution of Ly-alpha emission & constraints on  the IGM neutral fraction**  |\n",
       "|| G. C. Jones, et al. -- incl., <mark>H.-W. Rix</mark> |\n",
       "|*Appeared on*| *2023-06-06*|\n",
       "|*Comments*| *18 pages, 10 figures. Submitted to A&A*|\n",
       "|**Abstract**| The rest-frame UV recombination emission line Ly-alpha can be powered by ionizing photons from young massive stars in star forming galaxies, but its ability to be resonantly scattered by neutral gas complicates its interpretation. For reionization era galaxies, a neutral intergalactic medium (IGM) will scatter Ly-alpha from the line of sight, making Ly-alpha a useful probe of the neutral fraction at z>6. Here, we explore Ly-alpha in JWST/NIRSpec spectra from the ongoing GTO program JADES, which targets hundreds of galaxies in the well-studied GOODS-S and GOODS-N fields. These sources are UV-faint (-20.4<MUV<-16.4), and thus represent a poorly-explored class of galaxies. The low spectral resolution (R~100) spectra of a subset of 93 galaxies in GOODS-S with z_spec>5.5 (as derived with optical lines) are fit with line and continuum models, in order to search for significant line emission. Through exploration of the R100 data, we find evidence for Ly-alpha in 15 sources. Additional analysis of the R1000 data from the same set of galaxies results in five additional detections. This sample allows us to place observational constraints on the fraction of galaxies with Ly-alpha emission in the redshift range 5.5<z<7.5, with a decrease from z=6 to z=7. We also find a positive correlation between Ly-alpha equivalent width and MUV, as seen in other samples. These results are used to estimate the neutral gas fraction at z~7, agreeing with previous results (XHI~0.5-0.9). |"
      ],
      "text/plain": [
       "[arXiv:2306.02471] JADES: The emergence and evolution of Ly-alpha emission & constraints on  the IGM neutral fraction\n",
       "\tG. C. Jones, et al. -- incl., <mark>H.-W. Rix</mark>"
      ]
     },
     "metadata": {},
     "output_type": "display_data"
    },
    {
     "data": {
      "text/markdown": [
       "## Failed papers"
      ],
      "text/plain": [
       "<IPython.core.display.Markdown object>"
      ]
     },
     "metadata": {},
     "output_type": "display_data"
    },
    {
     "data": {
      "text/markdown": [
       "\n",
       "|||\n",
       "|---:|:---|\n",
       "| [![arXiv](https://img.shields.io/badge/arXiv-arXiv:2306.02472-b31b1b.svg)](https://arxiv.org/abs/arXiv:2306.02472) | **Inside-out growth in the early Universe: a core in a vigorously  star-forming disc**  |\n",
       "|| W. M. Baker, et al. -- incl., <mark>A. d. Graaff</mark> |\n",
       "|*Appeared on*| *2023-06-06*|\n",
       "|*Comments*| *49 pages, 15 figures, submitted to Nature Astronomy*|\n",
       "|**Abstract**| The physical processes that establish the morphological evolution and the structural diversity of galaxies are key unknowns in extragalactic astrophysics. Here we report the finding of the morphologically-mature galaxy JADES-GS+53.18343-27.79097, which existed within the first 700 million years of the Universe's history. This star-forming galaxy with a stellar mass of $10^{8.6}$ solar masses consists of three components, a highly-compact core with a half-light radius of 144 pc, a strongly star-forming disc with a radius of 468 pc, and a star-forming clump, which all show distinctive star-formation histories. The central stellar mass density of this galaxy is within a factor of two of the most massive present-day ellipticals, while being globally 1000 times less massive. The radial profile of the specific star-formation rate is strongly rising toward the outskirts. This evidence strongly suggests the first detection of inside-out growth of a galaxy as a proto-bulge and a star-forming disc in the Epoch of Reionization. |\n",
       "|<p style=\"color:red\"> **ERROR** </p>| <p style=\"color:red\">latex error expected string or bytes-like object</p> |"
      ],
      "text/plain": [
       "<IPython.core.display.Markdown object>"
      ]
     },
     "metadata": {},
     "output_type": "display_data"
    },
    {
     "data": {
      "text/markdown": [
       "\n",
       "|||\n",
       "|---:|:---|\n",
       "| [![arXiv](https://img.shields.io/badge/arXiv-arXiv:2306.02467-b31b1b.svg)](https://arxiv.org/abs/arXiv:2306.02467) | **JADES NIRSpec Initial Data Release for the Hubble Ultra Deep Field:  Redshifts and Line Fluxes of Distant Galaxies from the Deepest JWST Cycle 1  NIRSpec Multi-Object Spectroscopy**  |\n",
       "|| A. J. Bunker, et al. -- incl., <mark>A. d. Graaff</mark> |\n",
       "|*Appeared on*| *2023-06-06*|\n",
       "|*Comments*| *Submitted to A&A. Data products available from this https URL*|\n",
       "|**Abstract**| We describe the NIRSpec component of the JWST Deep Extragalactic Survey (JADES), and provide deep spectroscopy of 253 sources targeted with the NIRSpec micro-shutter assembly in the Hubble Ultra Deep Field and surrounding GOODS-South. The multi-object spectra presented here are the deepest so far obtained with JWST, amounting to up to 28 hours in the low-dispersion ($R\\sim 30-300$) prism, and up to 7 hours in each of the three medium-resolution $R\\approx 1000$ gratings and one high-dispersion grating, G395H ($R\\approx2700$). Our low-dispersion and medium-dispersion spectra cover the wavelength range $0.6-5.3\\mu$m. We describe the selection of the spectroscopic targets, the strategy for the allocation of targets to micro-shutters, and the design of the observations. We present the public release of the reduced 2D and 1D spectra, and a description of the reduction and calibration process. We measure spectroscopic redshifts for 178 of the objects targeted extending up to $z=13.2$. We present a catalog of all emission lines detected at $S/N>5$, and our redshift determinations for the targets. Combined with the first JADES NIRCam data release, these public JADES spectroscopic and imaging datasets provide a new foundation for discoveries of the infrared universe by the worldwide scientific community. |\n",
       "|<p style=\"color:red\"> **ERROR** </p>| <p style=\"color:red\">latex error list index out of range</p> |"
      ],
      "text/plain": [
       "<IPython.core.display.Markdown object>"
      ]
     },
     "metadata": {},
     "output_type": "display_data"
    }
   ],
   "source": [
    "import datetime\n",
    "today = str(datetime.date.today())\n",
    "logfile = f\"_build/html/logs/log-{today}.md\"\n",
    "\n",
    "\n",
    "with open(logfile, 'w') as logs:\n",
    "    # Success\n",
    "    logs.write(f'# Arxiv on Deck 2: Logs - {today}\\n\\n')\n",
    "    logs.write(\"\"\"* Arxiv had {0:,d} new papers\\n\"\"\".format(len(new_papers)))\n",
    "    logs.write(\"\"\"    * {0:,d} with possible author matches\\n\\n\"\"\".format(len(candidates)))\n",
    "    logs.write(\"## Sucessful papers\\n\\n\")\n",
    "    display(Markdown(\"## Successful papers\"))\n",
    "    success = [k[0] for k in documents]\n",
    "    for candid in candidates:\n",
    "        if candid['identifier'].split(':')[-1] in success:\n",
    "            display(candid)\n",
    "            logs.write(candid.generate_markdown_text() + '\\n\\n')\n",
    "\n",
    "    ## failed\n",
    "    logs.write(\"## Failed papers\\n\\n\")\n",
    "    display(Markdown(\"## Failed papers\"))\n",
    "    failed = sorted(failed, key=lambda x: x[1])\n",
    "    current_reason = \"\"\n",
    "    for paper, reason in failed:\n",
    "        if 'affiliation' in reason:\n",
    "            color = 'green'\n",
    "        else:\n",
    "            color = 'red'\n",
    "        data = Markdown(\n",
    "                paper.generate_markdown_text() + \n",
    "                f'\\n|<p style=\"color:{color:s}\"> **ERROR** </p>| <p style=\"color:{color:s}\">{reason:s}</p> |'\n",
    "               )\n",
    "        if reason != current_reason:\n",
    "            logs.write(f'### {reason:s} \\n\\n')\n",
    "            current_reason = reason\n",
    "        logs.write(data.data + '\\n\\n')\n",
    "        \n",
    "        # only display here the important errors (all in logs)\n",
    "        # if color in ('red',):\n",
    "        display(data)"
   ]
  },
  {
   "cell_type": "markdown",
   "id": "472d20ee",
   "metadata": {
    "papermill": {
     "duration": 0.006089,
     "end_time": "2023-06-06T04:06:26.572380",
     "exception": false,
     "start_time": "2023-06-06T04:06:26.566291",
     "status": "completed"
    },
    "tags": []
   },
   "source": [
    "## Export documents\n",
    "\n",
    "We now write the .md files and export relevant images"
   ]
  },
  {
   "cell_type": "code",
   "execution_count": 6,
   "id": "d426aed9",
   "metadata": {
    "execution": {
     "iopub.execute_input": "2023-06-06T04:06:26.586352Z",
     "iopub.status.busy": "2023-06-06T04:06:26.585712Z",
     "iopub.status.idle": "2023-06-06T04:06:26.593062Z",
     "shell.execute_reply": "2023-06-06T04:06:26.592507Z"
    },
    "papermill": {
     "duration": 0.016063,
     "end_time": "2023-06-06T04:06:26.594605",
     "exception": false,
     "start_time": "2023-06-06T04:06:26.578542",
     "status": "completed"
    },
    "tags": []
   },
   "outputs": [],
   "source": [
    "def export_markdown_summary(md: str, md_fname:str, directory: str):\n",
    "    \"\"\"Export MD document and associated relevant images\"\"\"\n",
    "    import os\n",
    "    import shutil\n",
    "    import re\n",
    "\n",
    "    if (os.path.exists(directory) and not os.path.isdir(directory)):\n",
    "        raise RuntimeError(f\"a non-directory file exists with name {directory:s}\")\n",
    "\n",
    "    if (not os.path.exists(directory)):\n",
    "        print(f\"creating directory {directory:s}\")\n",
    "        os.mkdir(directory)\n",
    "\n",
    "    fig_fnames = (re.compile(r'\\[Fig.*\\]\\((.*)\\)').findall(md) + \n",
    "                  re.compile(r'\\<img src=\"([^>\\s]*)\"[^>]*/>').findall(md))\n",
    "    for fname in fig_fnames:\n",
    "        if 'http' in fname:\n",
    "            # No need to copy online figures\n",
    "            continue\n",
    "        destdir = os.path.join(directory, os.path.dirname(fname))\n",
    "        destfname = os.path.join(destdir, os.path.basename(fname))\n",
    "        try:\n",
    "            os.makedirs(destdir)\n",
    "        except FileExistsError:\n",
    "            pass\n",
    "        shutil.copy(fname, destfname)\n",
    "    with open(os.path.join(directory, md_fname), 'w') as fout:\n",
    "        fout.write(md)\n",
    "    print(\"exported in \", os.path.join(directory, md_fname))\n",
    "    [print(\"    + \" + os.path.join(directory,fk)) for fk in fig_fnames]"
   ]
  },
  {
   "cell_type": "code",
   "execution_count": 7,
   "id": "014d04a4",
   "metadata": {
    "execution": {
     "iopub.execute_input": "2023-06-06T04:06:26.608213Z",
     "iopub.status.busy": "2023-06-06T04:06:26.607769Z",
     "iopub.status.idle": "2023-06-06T04:06:26.626028Z",
     "shell.execute_reply": "2023-06-06T04:06:26.625368Z"
    },
    "papermill": {
     "duration": 0.026834,
     "end_time": "2023-06-06T04:06:26.627574",
     "exception": false,
     "start_time": "2023-06-06T04:06:26.600740",
     "status": "completed"
    },
    "tags": []
   },
   "outputs": [
    {
     "name": "stdout",
     "output_type": "stream",
     "text": [
      "exported in  _build/html/2306.02465.md\n",
      "    + _build/html/tmp_2306.02465/./jadesgoodss_may2023_all.png\n",
      "    + _build/html/tmp_2306.02465/./jadesgoodss_may2023_nsdp1_nsp.png\n",
      "    + _build/html/tmp_2306.02465/./jadesgoodss_may2023_nsdp2_nsm.png\n",
      "    + _build/html/tmp_2306.02465/./jadesgoodss_may2023_ncdeep_ncmedcy1_ncmedcy2_ncdpcy1_ncdpcy2_ncmp_others.png\n",
      "    + _build/html/tmp_2306.02465/./jadesgoodss_may2023_midp_mimed.png\n",
      "    + _build/html/tmp_2306.02465/./line_sensitivity_v2_1.png\n",
      "    + _build/html/tmp_2306.02465/./jadesgoodsn_may2023_all.png\n",
      "    + _build/html/tmp_2306.02465/./jadesgoodsn_may2023_nsp.png\n",
      "    + _build/html/tmp_2306.02465/./jadesgoodsn_may2023_nsm.png\n",
      "    + _build/html/tmp_2306.02465/./jadesgoodsn_may2023_nc_ncp_others.png\n",
      "    + _build/html/tmp_2306.02465/./jadesgoodsn_may2023_mi.png\n",
      "exported in  _build/html/2306.02470.md\n",
      "    + _build/html/tmp_2306.02470/./Plots/consolidated_ppxf_and_Beagle_output_x_stellar_mass_ppxf_y_SFR_HA_K12_c_mean_age_ppxf_mass_weighted_min_p_values_S_N_cut_0.png\n",
      "    + _build/html/tmp_2306.02470/./Plots/binned_SFH_MW_1D_0.6_z_2_min_p_value_-0.05.png\n",
      "    + _build/html/tmp_2306.02470/./Plots/consolidated_ppxf_and_Beagle_output_x_stellar_mass_ppxf_y_SFR_HA_K12_c_SFR_ppxf_10Myr_div_90Myr_min_p_values_S_N_cut_0.png\n",
      "exported in  _build/html/2306.02471.md\n",
      "    + _build/html/tmp_2306.02471/./MUV_z_May31_V1.png\n",
      "    + _build/html/tmp_2306.02471/./Damping_V4.png\n",
      "    + _build/html/tmp_2306.02471/./XHI_May31_V3.png\n"
     ]
    }
   ],
   "source": [
    "for paper_id, md in documents:\n",
    "    export_markdown_summary(md, f\"{paper_id:s}.md\", '_build/html/')"
   ]
  },
  {
   "cell_type": "markdown",
   "id": "f087a0a7",
   "metadata": {
    "papermill": {
     "duration": 0.006515,
     "end_time": "2023-06-06T04:06:26.640579",
     "exception": false,
     "start_time": "2023-06-06T04:06:26.634064",
     "status": "completed"
    },
    "tags": []
   },
   "source": [
    "## Display the papers\n",
    "\n",
    "Not necessary but allows for a quick check."
   ]
  },
  {
   "cell_type": "code",
   "execution_count": 8,
   "id": "fd25f625",
   "metadata": {
    "execution": {
     "iopub.execute_input": "2023-06-06T04:06:26.654580Z",
     "iopub.status.busy": "2023-06-06T04:06:26.654142Z",
     "iopub.status.idle": "2023-06-06T04:06:26.660945Z",
     "shell.execute_reply": "2023-06-06T04:06:26.660441Z"
    },
    "papermill": {
     "duration": 0.015666,
     "end_time": "2023-06-06T04:06:26.662475",
     "exception": false,
     "start_time": "2023-06-06T04:06:26.646809",
     "status": "completed"
    },
    "scrolled": false,
    "tags": []
   },
   "outputs": [
    {
     "data": {
      "text/markdown": [
       "<div class=\"macros\" style=\"visibility:hidden;\">\n",
       "$\\newcommand{\\ensuremath}{}$\n",
       "$\\newcommand{\\xspace}{}$\n",
       "$\\newcommand{\\object}[1]{\\texttt{#1}}$\n",
       "$\\newcommand{\\farcs}{{.}''}$\n",
       "$\\newcommand{\\farcm}{{.}'}$\n",
       "$\\newcommand{\\arcsec}{''}$\n",
       "$\\newcommand{\\arcmin}{'}$\n",
       "$\\newcommand{\\ion}[2]{#1#2}$\n",
       "$\\newcommand{\\textsc}[1]{\\textrm{#1}}$\n",
       "$\\newcommand{\\hl}[1]{\\textrm{#1}}$\n",
       "$\\newcommand{\\footnote}[1]{}$\n",
       "$\\newcommand{\\lya}{\\ensuremath{{\\rm Ly}\\alpha}}$\n",
       "$\\newcommand{\\kms}{\\ensuremath{{\\rm\\;km\\;s^{-1}}}}$\n",
       "$\\newcommand{\\Mpc}{\\ensuremath{{\\rm\\;Mpc}}}$\n",
       "$\\newcommand{\\Myr}{\\ensuremath{{\\rm\\;Myr}}}$\n",
       "$\\newcommand{\\Msun}{\\ensuremath{{\\rm\\;M_\\odot}}}$\n",
       "$\\newcommand{\\yr}{\\ensuremath{{\\rm\\;yr}}}$\n",
       "$\\newcommand{\\cm}{\\ensuremath{{\\rm\\;cm}}}$\n",
       "$\\newcommand{\\ergscms}{\\ensuremath{{\\rm\\;ergs\\;cm^{-2}\\;s^{-1}}}}$\n",
       "$\\newcommand{\\ergss}{\\ensuremath{{\\rm\\;ergs\\;s^{-1}}}}$\n",
       "$\\newcommand{\\mic}{\\ensuremath{\\mu\\rm m}}$\n",
       "$\\newcommand{\\todo}[1]{{\\color{blue} \\tt #1}}$\n",
       "$\\newcommand{\\tbc}[1]{#1 ({\\color{red} \\tt TBC})}$\n",
       "$\\newcommand{\\tbd}{({\\color{red} \\tt TBD})}$\n",
       "$\\newcommand{\\outline}[1]{{\\color{black}\\it #1}}$\n",
       "$\\newcommand{\\BRC}[1]{{\\color{red!55!black} BR: #1}}$\n",
       "$\\newcommand{\\CWC}[1]{{\\color{purple!55!black} CW: #1}}$\n",
       "$\\newcommand{\\RM}[1]{{\\color{green!25!black} RM: #1}}$\n",
       "$\\newcommand{\\DJE}[1]{{\\color{blue!25!black} DE: #1}}$\n",
       "$\\newcommand{\\um}{\\ensuremath{\\mu{\\rm m}}}$\n",
       "$\\newcommand{\\nod}{\\nodata & \\nodata}$</div>\n",
       "\n",
       "\n",
       "\n",
       "<div id=\"title\">\n",
       "\n",
       "# Overview of the JWST Advanced Deep Extragalactic Survey (JADES)\n",
       "\n",
       "</div>\n",
       "<div id=\"comments\">\n",
       "\n",
       "[![arXiv](https://img.shields.io/badge/arXiv-2306.02465-b31b1b.svg)](https://arxiv.org/abs/2306.02465)<mark>Appeared on: 2023-06-06</mark> -  _33 pages, submitted to ApJ Supplement. The JADES Collaboration web site is at this https URL, and the initial data release is available at this https URL with a viewer at this http URL_\n",
       "\n",
       "</div>\n",
       "<div id=\"authors\">\n",
       "\n",
       "D. J. Eisenstein, et al. -- incl., <mark>H.-W. Rix</mark>, <mark>A. d. Graaff</mark>\n",
       "\n",
       "</div>\n",
       "<div id=\"abstract\">\n",
       "\n",
       "**Abstract:** We present an overview of the James Webb Space Telescope (JWST) Advanced Deep Extragalactic Survey (JADES), an ambitious program of infrared imaging and spectroscopy in the GOODS-S and GOODS-N deep fields, designed to study galaxy evolution from high redshift to cosmic noon.  JADES uses about 770 hours of Cycle 1 guaranteed time largely from the Near-Infrared Camera (NIRCam) and Near-Infrared Spectrograph (NIRSpec) instrument teams.In GOODS-S, in and around the Hubble Ultra Deep Field and ChandraDeep Field South, JADES produces a deep imaging region of $\\sim$ 45arcmin $^2$ with an average of 130 hrs of exposure time spreadover 9 NIRCam filters.  This is extended at medium depth in GOODS-Sand GOODS-N with NIRCam imaging of $\\sim$ 175 arcmin $^2$ with an averageexposure time of 20 hrs spread over 8--10 filters.  In bothfields, we conduct extensive NIRSpec multi-object spectroscopy,including 2 deep pointings of 55 hrs exposure time, 14 mediumpointings of $\\sim$ 12 hrs, and 15 shallower pointings of $\\sim$ 4 hrs, targetingover 5000 HST and JWST-detected faint sources with 5 low, medium, and high-resolution dispersers covering 0.6--5.3 $\\mu$ m.  Finally, JADESextends redward via coordinated parallels with the JWST Mid-InfraredInstrument (MIRI), featuring $\\sim$ 9 arcmin $^2$ with 43hours of exposure at 7.7 $\\mic$ and twice that area with 2--6.5hours of exposure at 12.8 $\\mic$ .  For nearly 30 years, the GOODS-Sand GOODS-N fields have been developed as the premier deep fieldson the sky; JADES is now providing a compelling start on the JWSTlegacy in these fields.\n",
       "\n",
       "</div>\n",
       "\n",
       "<div id=\"div_fig1\">\n",
       "\n",
       "<img src=\"tmp_2306.02465/./jadesgoodss_may2023_all.png\" alt=\"Fig6.1\" width=\"20%\"/><img src=\"tmp_2306.02465/./jadesgoodss_may2023_nsdp1_nsp.png\" alt=\"Fig6.2\" width=\"20%\"/><img src=\"tmp_2306.02465/./jadesgoodss_may2023_nsdp2_nsm.png\" alt=\"Fig6.3\" width=\"20%\"/><img src=\"tmp_2306.02465/./jadesgoodss_may2023_ncdeep_ncmedcy1_ncmedcy2_ncdpcy1_ncdpcy2_ncmp_others.png\" alt=\"Fig6.4\" width=\"20%\"/><img src=\"tmp_2306.02465/./jadesgoodss_may2023_midp_mimed.png\" alt=\"Fig6.5\" width=\"20%\"/>\n",
       "\n",
       "**Figure 6. -** Layout of the JADES observations in the GOODS-South field. JADES observations with NIRCam, NIRSpec MOS, and MIRI are shown as colored shaded regions. Higher opacity indicates higher exposure time for NIRCam and MIRI or overlapping MSA pointings for NIRSpec. Dithers and nods smaller than 2 arcseconds are not plotted. For NIRCam, only the SW quadrants are shown for clarity. For NIRSpec, only the active area of the MSA that was used for target placement, excluding regions that lead to truncated prism spectra, is shown. Some of the observations yet to be made in Cycle 2 (NIRSpec Deep/JWST and most Medium/JWST and their associated NIRCam parallels) have positions and orientations that are still to be defined based on scheduling. Outlines of other surveys, including the HST/ACS UDF and CANDELS, are shown with black and olive green curves. The smaller sub-panels show the same information split by instrument for clarity because it can be difficult to see the details when all observations are plotted together. The NIRCam sub-plot in upper-right additionally includes field outlines for the public JWST Cycle 1 NIRCam imaging from the JEMS, FRESCO and NGDEEEP programs.\n",
       " (*fig:south*)\n",
       "\n",
       "</div>\n",
       "<div id=\"div_fig2\">\n",
       "\n",
       "<img src=\"tmp_2306.02465/./line_sensitivity_v2_1.png\" alt=\"Fig2\" width=\"100%\"/>\n",
       "\n",
       "**Figure 2. -** The unresolved line detection limit as a function of wavelength for two JADES NIRSpec tiers.  We assume a well-centered point source and use a $10\\sigma$ detection threshold.\n",
       "The blue long lines are the prism, while the orange, green, and cyan lines are the three $R=1000$ gratings.  The solid lines show the depth in the Deep/HST pointing, while the dashed lines are a representative Medium/JWST pointing.\n",
       "For an unresolved line, the G395H grating has a similar line detection limit to G395M plotted here.\n",
       " (*fig:ns_depth*)\n",
       "\n",
       "</div>\n",
       "<div id=\"div_fig3\">\n",
       "\n",
       "<img src=\"tmp_2306.02465/./jadesgoodsn_may2023_all.png\" alt=\"Fig7.1\" width=\"20%\"/><img src=\"tmp_2306.02465/./jadesgoodsn_may2023_nsp.png\" alt=\"Fig7.2\" width=\"20%\"/><img src=\"tmp_2306.02465/./jadesgoodsn_may2023_nsm.png\" alt=\"Fig7.3\" width=\"20%\"/><img src=\"tmp_2306.02465/./jadesgoodsn_may2023_nc_ncp_others.png\" alt=\"Fig7.4\" width=\"20%\"/><img src=\"tmp_2306.02465/./jadesgoodsn_may2023_mi.png\" alt=\"Fig7.5\" width=\"20%\"/>\n",
       "\n",
       "**Figure 7. -** Layout of the JADES observations in the GOODS-North field. Details as in Figure \\ref{fig:south}.\n",
       "GOODS-North data collection is nearly complete, so this figure is nearly final.\n",
       "Only the southern-most of the Medium/JWST pointings remains, due to a guide-star acquisition failure; this pointing will be repeated at an unknown location and position angle.  The NIRCam sub-plot in the upper-right additionally includes the outlines of the public JWST Cycle 1 NIRCam imaging from the FRESCO program.\n",
       " (*fig:north*)\n",
       "\n",
       "</div><div id=\"qrcode\"><img src=https://api.qrserver.com/v1/create-qr-code/?size=100x100&data=\"https://arxiv.org/abs/2306.02465\"></div>"
      ],
      "text/plain": [
       "<IPython.core.display.Markdown object>"
      ]
     },
     "metadata": {},
     "output_type": "display_data"
    },
    {
     "data": {
      "text/markdown": [
       "<div class=\"macros\" style=\"visibility:hidden;\">\n",
       "$\\newcommand{\\ensuremath}{}$\n",
       "$\\newcommand{\\xspace}{}$\n",
       "$\\newcommand{\\object}[1]{\\texttt{#1}}$\n",
       "$\\newcommand{\\farcs}{{.}''}$\n",
       "$\\newcommand{\\farcm}{{.}'}$\n",
       "$\\newcommand{\\arcsec}{''}$\n",
       "$\\newcommand{\\arcmin}{'}$\n",
       "$\\newcommand{\\ion}[2]{#1#2}$\n",
       "$\\newcommand{\\textsc}[1]{\\textrm{#1}}$\n",
       "$\\newcommand{\\hl}[1]{\\textrm{#1}}$\n",
       "$\\newcommand{\\footnote}[1]{}$\n",
       "$\\newcommand$\n",
       "$\\newcommand$\n",
       "$\\newcommand$\n",
       "$\\newcommand$\n",
       "$\\newcommand$\n",
       "$\\newcommand$\n",
       "$\\newcommand$\n",
       "$\\newcommand$\n",
       "$\\newcommand$\n",
       "$\\newcommand{\\lya}{Ly\\alpha}$\n",
       "$\\newcommand{\\niii}{N \\textsc{iii}]}$\n",
       "$\\newcommand{\\niv}{N \\textsc{iv}]}$\n",
       "$\\newcommand{\\hei}{He \\textsc{i}}$\n",
       "$\\newcommand{\\heii}{He \\textsc{ii}}$\n",
       "$\\newcommand{\\ciii}{C \\textsc{iii}]}$\n",
       "$\\newcommand{\\oii}{[O \\textsc{ii}]}$\n",
       "$\\newcommand{\\oiii}{[O \\textsc{iii}]}$\n",
       "$\\newcommand{\\oiiiSF}{O \\textsc{iii}]}$\n",
       "$\\newcommand{\\neiii}{[Ne \\textsc{iii}]}$\n",
       "$\\newcommand{\\niiiL}{N \\textsc{iii}] \\lambda}$\n",
       "$\\newcommand{\\nivL}{N \\textsc{iv}] \\lambda}$\n",
       "$\\newcommand{\\ciiiL}{C \\textsc{iii}] \\lambda}$\n",
       "$\\newcommand{\\ciiiLL}{C \\textsc{iii}] \\lambda\\lambda}$\n",
       "$\\newcommand{\\civ}{C \\textsc{iv}}$\n",
       "$\\newcommand{\\oiiL}{[O \\textsc{ii}] \\lambda\\lambda}$\n",
       "$\\newcommand{\\oiiiL}{[O \\textsc{iii}] \\lambda}$\n",
       "$\\newcommand{\\oiiiSFL}{O \\textsc{iii}] \\lambda\\lambda}$\n",
       "$\\newcommand{\\neiiiL}{[Ne \\textsc{iii}] \\lambda}$\n",
       "$\\newcommand{\\hd}{H \\delta}$\n",
       "$\\newcommand{\\hg}{H \\gamma}$\n",
       "$\\newcommand{\\hb}{H \\beta}$\n",
       "$\\newcommand{\\mgii}{Mg \\textsc{ii}}$\n",
       "$\\newcommand{\\oiiiau}{[O \\textsc{iii}]}$\n",
       "$\\newcommand{\\oiiiauL}{[O \\textsc{iii}] \\lambda}$\n",
       "$\\newcommand{\\xhi}{x_{\\rm \\textsc{hi}}}$\n",
       "$\\newcommand{\\flux}{erg s^{-1} cm^{-2}}$\n",
       "$\\newcommand{\\kms}{km s^{-1}\\xspace}$\n",
       "$\\newcommand{\\asec}{^{\\prime\\prime}}$\n",
       "$\\newcommand{\\sfr}[2]{\\ensuremath{\\mathrm{SFR_{#1,#2}}}\\xspace}$\n",
       "$\\newcommand{\\cont}{{\\ensuremath{\\mathrm{cont}}}\\xspace}$\n",
       "$\\newcommand{\\sfrcten}{\\sfr{\\cont}{10}}$\n",
       "$\\newcommand{\\sfrcninety}{\\sfr{\\cont}{90}}$\n",
       "$\\newcommand{\\sfrchund}{\\sfr{\\cont}{100}}$\n",
       "$\\newcommand{\\sfrnebten}{\\sfr{neb}{10}}$\n",
       "$\\newcommand{\\jadesdeep}{JADES/DEEP-HST}$\n",
       "$\\newcommand{\\todo}[1]{\\textcolor{orange}{[to do: #1]}}$\n",
       "$\\newcommand{\\todiscuss}[1]{\\textcolor{teal}{[to discuss: #1]}}$\n",
       "$\\newcommand{\\TBC}[1]{\\textcolor{violet}{[TBC: #1]}}$\n",
       "$\\newcommand{\\txn}[1]{\\textnormal{#1}}$\n",
       "$\\newcommand{\\gtsim}{\\mbox{{\\raisebox{-0.4ex}{\\stackrel{>}{{\\scriptstyle\\sim}}$\n",
       "$}}}}$\n",
       "$\\newcommand{\\ltsim}{\\mbox{{\\raisebox{-0.4ex}{\\stackrel{<}{{\\scriptstyle\\sim}}$\n",
       "$}}}}$\n",
       "$\\newcommand{\\ssim}{\\ensuremath{\\sim\\!}\\xspace}$\n",
       "$\\newcommand{\\lthan}{\\ensuremath{\\!<\\!}\\xspace}$\n",
       "$\\newcommand{\\prob}{\\hbox{\\txn{P}}}$\n",
       "$\\newcommand{\\conditional}[2]{\\hbox{\\txn{P}(#1 \\mid #2)}}$\n",
       "$\\newcommand{\\range}[3]{\\hbox{#1 \\sim #2  \\txn{--}  #3}}$\n",
       "$\\newcommand{\\citationneeded}{\\textcolor{ForestGreen}{^{\\rm citation\\;needed}}}$\n",
       "$\\newcommand{\\M}{\\hbox{\\txn{M}}}$\n",
       "$\\newcommand{\\hda}{\\ensuremath{\\mathrm{H\\updelta_A}}\\xspace}$\n",
       "$\\newcommand{\\re}{\\ensuremath{R_\\mathrm{e}}\\xspace}$\n",
       "$\\newcommand{\\Mstar}{\\ensuremath{M_\\star}\\xspace}$\n",
       "$\\newcommand{\\tquench}{\\ensuremath{\\mathrm{t_{quench}}}\\xspace}$\n",
       "$\\newcommand{\\tform}{\\ensuremath{\\mathrm{t_{form}}\\xspace}}$\n",
       "$\\newcommand{\\lambdar}{\\ensuremath{\\lambda_{\\rm R}}\\xspace}$\n",
       "$\\newcommand{\\eps}{\\ensuremath{\\epsilon}\\xspace}$\n",
       "$\\newcommand{\\MSun}{\\ensuremath{{\\rm M}_\\odot}\\xspace}$\n",
       "$\\newcommand{\\Met}{\\ensuremath{\\mathrm{log_{10}(Z/Z_{\\odot})}}\\xspace}$\n",
       "$\\newcommand{\\fluxcgs}{\\ensuremath{\\mathrm{erg s^{-1} cm^{-2}}}\\xspace}$\n",
       "$\\newcommand{\\targetidfull}{JADES-GS+53.15508-27.80178\\xspace}$\n",
       "$\\newcommand{\\targetid}{JADES-GS-z7-01-QU\\xspace}$\n",
       "$\\newcommand{\\fesc}{\\ensuremath{f_{\\rm esc}}\\xspace}$\n",
       "$\\newcommand{\\Mgas}{\\hbox{\\M_\\txn{gas}}}$\n",
       "$\\newcommand{\\Mbh}{\\hbox{M_{\\textsc{bh}}}}$\n",
       "$\\newcommand{\\Mtot}{\\hbox{\\M_\\txn{tot}}}$\n",
       "$\\newcommand{\\MtotInLog}{\\hbox{\\txn{M}_\\txn{tot}}}$\n",
       "$\\newcommand{\\yr}{\\hbox{\\txn{yr}}}$\n",
       "$\\newcommand{\\LymanAlpha}{\\text{Ly\\alpha}\\xspace}$\n",
       "$\\newcommand{\\Halpha}{H\\alpha\\xspace}$\n",
       "$\\newcommand{\\Hbeta}{H\\beta\\xspace}$\n",
       "$\\newcommand{\\Hgamma}{H\\gamma\\xspace}$\n",
       "$\\newcommand{\\DeltaMS}{\\Delta_{MS}\\xspace}$\n",
       "$\\newcommand{\\Hdelta}{\\text{H\\textdelta}\\xspace}$\n",
       "$\\newcommand{\\OIII}{\\text{[O {\\sc iii}]\\textlambda5008}\\xspace}$\n",
       "$\\newcommand{\\SiIV}{\\text{[Si {\\sc iv}]}\\xspace}$\n",
       "$\\newcommand{\\NII}{{[N {\\sc ii}]}\\xspace}$\n",
       "$\\newcommand{\\Lsun}{\\hbox{ {\\rm L}_\\odot}}$\n",
       "$\\newcommand{\\ergscm}{\\hbox{\\textrm{erg} \\textrm{s}^{-1} \\textrm{cm}^{-2}}}$\n",
       "$\\newcommand{\\jwst}{\\textit{JWST}\\xspace}$\n",
       "$\\newcommand{\\ppxf}{{\\sc ppxf}\\xspace}$\n",
       "$\\newcommand{\\bagpipes}{{\\sc bagpipes}\\xspace}$\n",
       "$\\newcommand{\\beagle}{{\\sc beagle}\\xspace}$\n",
       "$\\newcommand{\\prospector}{{\\sc prospector}\\xspace}$\n",
       "$\\newcommand{\\forcepho}{{\\sc forcepho}\\xspace}$\n",
       "$\\newcommand{Å}{\\oldAA\\xspace}$</div>\n",
       "\n",
       "\n",
       "\n",
       "<div id=\"title\">\n",
       "\n",
       "# JADES: Differing assembly histories of galaxies - Observational evidence for bursty SFHs and (mini-)quenching in the first billion years of the Universe\n",
       "\n",
       "</div>\n",
       "<div id=\"comments\">\n",
       "\n",
       "[![arXiv](https://img.shields.io/badge/arXiv-2306.02470-b31b1b.svg)](https://arxiv.org/abs/2306.02470)<mark>Appeared on: 2023-06-06</mark> - \n",
       "\n",
       "</div>\n",
       "<div id=\"authors\">\n",
       "\n",
       "T. J. Looser, et al. -- incl., <mark>A. d. Graaff</mark>, <mark>H.-W. Rix</mark>\n",
       "\n",
       "</div>\n",
       "<div id=\"abstract\">\n",
       "\n",
       "**Abstract:** We use deep NIRSpec spectroscopic data from the JADES survey to derive the star formation histories (SFHs) of a sample of 200 galaxies at 0.6 $<$ z $<$ 11 and spanning stellar masses from $\\rm 10^6$ to $\\rm 10^{9.5} M_\\odot$ .We find that galaxies at high-redshift, galaxiesabove the Main Sequence (MS) and low-mass galaxies tend to host younger stellar populations than their low-redshift, massive, and below the MS counterparts. Interestingly,the correlation between age, M $_*$ and SFR existed even earlier than Cosmic Noon, out to the earliest cosmic epochs.However, these trends have a large scatter.Indeed, there are examples of young stellar populations also below the MS, indicating recent (bursty) star formation in evolved systems.We explore further the burstiness of the SFHs by using the ratio between SFR averaged over the last 10 Myr and averaged between 10 Myr and 100 Myr before the epoch of observation ( $\\sfrcten$ / $\\sfrcninety$ ).We find thathigh-redshift and low-mass galaxies have particularly bursty SFHs, while more massive and lower-redshift systems evolve more steadily.We also present the discovery ofanother (mini-)quenched galaxy at z = 4.4 (in addition to the one at z=7.3 reported by Looser et al. 2023), which might be only temporarily quiescent as a consequence of the extremely bursty evolution. Finally, we also find a steady decline of dust reddening of the stellar population approaching the earliest cosmic epochs, although some dust reddening is still observed in some of the highest redshift and most star forming systems.\n",
       "\n",
       "</div>\n",
       "\n",
       "<div id=\"div_fig1\">\n",
       "\n",
       "<img src=\"tmp_2306.02470/./Plots/consolidated_ppxf_and_Beagle_output_x_stellar_mass_ppxf_y_SFR_HA_K12_c_mean_age_ppxf_mass_weighted_min_p_values_S_N_cut_0.png\" alt=\"Fig5\" width=\"100%\"/>\n",
       "\n",
       "**Figure 5. -** SFR-mass plane color-coded by the average mass-weighted stellar ages measured by $\\ppxf$ in three different redshift bins. Each data-point represents a single galaxy. The blue lines represent a simple linear fit of the star-forming main sequence (MS) for this sample at that redshift bin. For reference, the three dotted lines indicate the quenched threshold for the lowest, middle and highest redshifts in each subplot, see main text. The error bar in the top-left corner represent the RMS-errors for $\\M$star and SFR for the entire sample. Quiescent and (mini-)quenched galaxies, for which no SFR could be estimated due to non-detection of the relevant nebular emission lines, are plotted at the bottom of the three sub-figures.\n",
       " (*fig:Stellar-ages*)\n",
       "\n",
       "</div>\n",
       "<div id=\"div_fig2\">\n",
       "\n",
       "<img src=\"tmp_2306.02470/./Plots/binned_SFH_MW_1D_0.6_z_2_min_p_value_-0.05.png\" alt=\"Fig6\" width=\"100%\"/>\n",
       "\n",
       "**Figure 6. -** Mass-weighted stacks of \"normalized\" SFHs of galaxies in three bins of each, $\\M$star and $\\DeltaMS$, in the redshift range $\\mathrm{0<z<2}$. The number in the legend of each sub-figure indicates the number of galaxies contributing to the stack. In each bin, the SSP-weights of each contributing galaxy are first normalized, and then averaged over all galaxies contributing to the bin. The underlying inferred SSP weight-grid  is collapsed into four age-bins, where each bin has a width of 1 dex, as indicated. The oldest bin (from 1 Gyr to 10 Gyr) is artificially extended for consistent plotting: For each individual galaxy SFH, only SSP templates consistent with the age of the Universe at the redshift of the target are included in the fitting. See section $\\re$f{ppxf_methodology} for more details. (*fig:SFH_MW_bin_1*)\n",
       "\n",
       "</div>\n",
       "<div id=\"div_fig3\">\n",
       "\n",
       "<img src=\"tmp_2306.02470/./Plots/consolidated_ppxf_and_Beagle_output_x_stellar_mass_ppxf_y_SFR_HA_K12_c_SFR_ppxf_10Myr_div_90Myr_min_p_values_S_N_cut_0.png\" alt=\"Fig12\" width=\"100%\"/>\n",
       "\n",
       "**Figure 12. -** Observational evidence for bursty SFHs: SFR-mass plane color-coded by the ratio of the SFR over the last 10 Myr ($\\sfr$cten), and 10 Myr to 100 Myr ($\\sfr$cninety) before the epoch of observation. Both tracers are inferred from non-parametric SSP fitting of the stellar continuum with $\\ppxf$. Each data-point represents a single galaxy. The quiescent galaxies are plotted at the bottom of the subplots. More details are given in Fig. $\\re$f{fig:Stellar-ages}. (*SFR_mass_plane_burstiness*)\n",
       "\n",
       "</div><div id=\"qrcode\"><img src=https://api.qrserver.com/v1/create-qr-code/?size=100x100&data=\"https://arxiv.org/abs/2306.02470\"></div>"
      ],
      "text/plain": [
       "<IPython.core.display.Markdown object>"
      ]
     },
     "metadata": {},
     "output_type": "display_data"
    },
    {
     "data": {
      "text/markdown": [
       "<div class=\"macros\" style=\"visibility:hidden;\">\n",
       "$\\newcommand{\\ensuremath}{}$\n",
       "$\\newcommand{\\xspace}{}$\n",
       "$\\newcommand{\\object}[1]{\\texttt{#1}}$\n",
       "$\\newcommand{\\farcs}{{.}''}$\n",
       "$\\newcommand{\\farcm}{{.}'}$\n",
       "$\\newcommand{\\arcsec}{''}$\n",
       "$\\newcommand{\\arcmin}{'}$\n",
       "$\\newcommand{\\ion}[2]{#1#2}$\n",
       "$\\newcommand{\\textsc}[1]{\\textrm{#1}}$\n",
       "$\\newcommand{\\hl}[1]{\\textrm{#1}}$\n",
       "$\\newcommand{\\footnote}[1]{}$\n",
       "$\\newcommand$\n",
       "$\\newcommand{\\cii}{[C II]\\xspace}$\n",
       "$\\newcommand{\\oiii}{[O III]\\xspace}$\n",
       "$\\newcommand{\\lya}{Ly\\alpha\\xspace}$\n",
       "$\\newcommand{\\angstrom}{\\textup{Å}\\xspace}$\n",
       "$\\newcommand{\\rew}{REW_{\\rm Ly\\alpha}}$</div>\n",
       "\n",
       "\n",
       "\n",
       "<div id=\"title\">\n",
       "\n",
       "# JADES: The emergence and evolution of Ly$\\alpha$ emission \\& constraints on the IGM neutral fraction\n",
       "\n",
       "</div>\n",
       "<div id=\"comments\">\n",
       "\n",
       "[![arXiv](https://img.shields.io/badge/arXiv-2306.02471-b31b1b.svg)](https://arxiv.org/abs/2306.02471)<mark>Appeared on: 2023-06-06</mark> -  _18 pages, 10 figures. Submitted to A&A_\n",
       "\n",
       "</div>\n",
       "<div id=\"authors\">\n",
       "\n",
       "G. C. Jones, et al. -- incl., <mark>H.-W. Rix</mark>\n",
       "\n",
       "</div>\n",
       "<div id=\"abstract\">\n",
       "\n",
       "**Abstract:** The rest-frame UV recombination emission line $\\lya$ can be powered by ionizing photons from young massive stars in star forming galaxies, but its ability to be resonantly scattered by neutral gas complicates its interpretation. For reionization era galaxies, a neutral intergalactic medium (IGM) will scatter $\\lya$ from the line of sight, making $\\lya$ a useful probe of the neutral fraction at $z\\gtrsim6$ . Here, we explore $\\lya$ in JWST/NIRSpec spectra from the ongoing GTO program JADES, which targets hundreds of galaxies in the well-studied GOODS-S and GOODS-N fields. These sources are UV-faint ( $-20.4<\\rm M_{\\rm UV}<-16.4$ ), and thus represent a poorly-explored class of galaxies. The low spectral resolution ( $R\\sim100$ ) spectra of a subset of 93 galaxies in GOODS-S with $z_{spec}>5.5$ (as derived with optical lines) are fit with line and continuum models, in order to search for significant line emission. Through exploration of the R100 data, we find evidence for $\\lya$ in 15 sources. Additional analysis of the R1000 data from the same set of galaxies results in five additional detections. This sample allows us to place observational constraints on the fraction of galaxies with $\\lya$ emission in the redshift range $5.5<z<7.5$ , with a decrease from $z=6$ to $z=7$ . We also find a positive correlation between $\\lya$ equivalent width and M $_{UV}$ , as seen in other samples. These results are used to estimate the neutral gas fraction at $z\\sim7$ , agreeing with previous results ( $X_{HI}\\sim0.5-0.9$ ).\n",
       "\n",
       "</div>\n",
       "\n",
       "<div id=\"div_fig1\">\n",
       "\n",
       "<img src=\"tmp_2306.02471/./MUV_z_May31_V1.png\" alt=\"Fig1\" width=\"100%\"/>\n",
       "\n",
       "**Figure 1. -** Systemic redshift (based on optical lines) versus M$_{\\rm UV}$(from NIRSpec spectra, see Appendix \\ref{m1500app}) for our sample. Galaxies observed in different tiers are coloured differently. Sources detected in $\\lya$ emission have black outlines. Vertical dashed lines show M$_{\\rm UV}$ values of -18.75 and -20.25. (*fig_zmuv*)\n",
       "\n",
       "</div>\n",
       "<div id=\"div_fig2\">\n",
       "\n",
       "<img src=\"tmp_2306.02471/./Damping_V4.png\" alt=\"Fig3\" width=\"100%\"/>\n",
       "\n",
       "**Figure 3. -** Transmission models of a damping wing (brown lines) and a step function (green lines) for a $z=10$ source. We include the intrinsic model, regridded to match our R100 observations (solid lines), and the dispersed version of this model (dashed lines). The $\\lya$ wavelength is shown by a faint vertical line. (*damp*)\n",
       "\n",
       "</div>\n",
       "<div id=\"div_fig3\">\n",
       "\n",
       "<img src=\"tmp_2306.02471/./XHI_May31_V3.png\" alt=\"Fig2\" width=\"100%\"/>\n",
       "\n",
       "**Figure 2. -** Cumulative distribution for $\\lya$ rest EW for UV-faint ($-20.25<M_{UV}<-18.75$) galaxies at $z\\sim7$. Each solid line shows the expected distribution for a model with $N_{HI}=10^{20}$ cm$^{-2}$ and a wind speed of 200 km s$^{-1}$, but with a different neutral fraction \\citep{pent14}. Estimates from literature are shifted by $1$\\angstrom$$ for visibility. We include both the estimated distribution from our sample and the associated upper limit (see Section \\ref{lyafracsec}) (*xhiplot*)\n",
       "\n",
       "</div><div id=\"qrcode\"><img src=https://api.qrserver.com/v1/create-qr-code/?size=100x100&data=\"https://arxiv.org/abs/2306.02471\"></div>"
      ],
      "text/plain": [
       "<IPython.core.display.Markdown object>"
      ]
     },
     "metadata": {},
     "output_type": "display_data"
    }
   ],
   "source": [
    "[display(Markdown(k[1])) for k in documents];"
   ]
  },
  {
   "cell_type": "markdown",
   "id": "873873a4",
   "metadata": {
    "papermill": {
     "duration": 0.006964,
     "end_time": "2023-06-06T04:06:26.676672",
     "exception": false,
     "start_time": "2023-06-06T04:06:26.669708",
     "status": "completed"
    },
    "tags": []
   },
   "source": [
    "# Create HTML index"
   ]
  },
  {
   "cell_type": "code",
   "execution_count": 9,
   "id": "cf665672",
   "metadata": {
    "execution": {
     "iopub.execute_input": "2023-06-06T04:06:26.692054Z",
     "iopub.status.busy": "2023-06-06T04:06:26.691578Z",
     "iopub.status.idle": "2023-06-06T04:06:26.700593Z",
     "shell.execute_reply": "2023-06-06T04:06:26.699876Z"
    },
    "papermill": {
     "duration": 0.018349,
     "end_time": "2023-06-06T04:06:26.701992",
     "exception": false,
     "start_time": "2023-06-06T04:06:26.683643",
     "status": "completed"
    },
    "tags": []
   },
   "outputs": [
    {
     "name": "stdout",
     "output_type": "stream",
     "text": [
      "216  publications files modified in the last 7 days.\n"
     ]
    }
   ],
   "source": [
    "from datetime import datetime, timedelta, timezone\n",
    "from glob import glob\n",
    "import os\n",
    "\n",
    "files = glob('_build/html/*.md')\n",
    "days = 7\n",
    "now = datetime.today()\n",
    "res = []\n",
    "for fk in files:\n",
    "    stat_result = os.stat(fk).st_ctime\n",
    "    modified = datetime.fromtimestamp(stat_result, tz=timezone.utc).replace(tzinfo=None)\n",
    "    delta = now.today() - modified\n",
    "    if delta <= timedelta(days=days):\n",
    "        res.append((delta.seconds, fk))\n",
    "res = [k[1] for k in reversed(sorted(res, key=lambda x:x[1]))]\n",
    "npub = len(res)\n",
    "print(len(res), f\" publications files modified in the last {days:d} days.\")\n",
    "# [ print('\\t', k) for k in res ];"
   ]
  },
  {
   "cell_type": "code",
   "execution_count": 10,
   "id": "015de740",
   "metadata": {
    "execution": {
     "iopub.execute_input": "2023-06-06T04:06:26.717728Z",
     "iopub.status.busy": "2023-06-06T04:06:26.717231Z",
     "iopub.status.idle": "2023-06-06T04:06:26.734611Z",
     "shell.execute_reply": "2023-06-06T04:06:26.733965Z"
    },
    "papermill": {
     "duration": 0.027061,
     "end_time": "2023-06-06T04:06:26.736107",
     "exception": false,
     "start_time": "2023-06-06T04:06:26.709046",
     "status": "completed"
    },
    "tags": []
   },
   "outputs": [
    {
     "name": "stdout",
     "output_type": "stream",
     "text": [
      "5  publications in the last 7 days.\n"
     ]
    }
   ],
   "source": [
    "import datetime\n",
    "from glob import glob\n",
    "\n",
    "def get_last_n_days(lst, days=1):\n",
    "    \"\"\" Get the documents from the last n days \"\"\"\n",
    "    sorted_lst = sorted(lst, key=lambda x: x[1], reverse=True)\n",
    "    for fname, date in sorted_lst:\n",
    "        if date >= str(datetime.date.today() - datetime.timedelta(days=days)):\n",
    "            yield fname\n",
    "\n",
    "def extract_appearance_dates(lst_file):\n",
    "    dates = []\n",
    "\n",
    "    def get_date(line):\n",
    "        return line\\\n",
    "            .split('Appeared on:')[-1]\\\n",
    "            .split('</mark>')[0].strip()\n",
    "\n",
    "    for fname in lst:\n",
    "        with open(fname, 'r') as f:\n",
    "            found_date = False\n",
    "            for line in f:\n",
    "                if not found_date:\n",
    "                    if \"Appeared on\" in line:\n",
    "                        found_date = True\n",
    "                        dates.append((fname, get_date(line)))\n",
    "                else:\n",
    "                    break\n",
    "    return dates\n",
    "\n",
    "from glob import glob\n",
    "lst = glob('_build/html/*md')\n",
    "days = 7\n",
    "dates = extract_appearance_dates(lst)\n",
    "res = list(get_last_n_days(dates, days))\n",
    "npub = len(res)\n",
    "print(len(res), f\" publications in the last {days:d} days.\")"
   ]
  },
  {
   "cell_type": "code",
   "execution_count": 11,
   "id": "52ca0208",
   "metadata": {
    "execution": {
     "iopub.execute_input": "2023-06-06T04:06:26.752454Z",
     "iopub.status.busy": "2023-06-06T04:06:26.751984Z",
     "iopub.status.idle": "2023-06-06T04:06:26.757457Z",
     "shell.execute_reply": "2023-06-06T04:06:26.756834Z"
    },
    "papermill": {
     "duration": 0.01539,
     "end_time": "2023-06-06T04:06:26.758884",
     "exception": false,
     "start_time": "2023-06-06T04:06:26.743494",
     "status": "completed"
    },
    "scrolled": false,
    "tags": []
   },
   "outputs": [],
   "source": [
    "def create_carousel(npub=4):\n",
    "    \"\"\" Generate the HTML code for a carousel with `npub` slides \"\"\"\n",
    "    carousel = [\"\"\"  <div class=\"carousel\" \"\"\",\n",
    "                \"\"\"       data-flickity='{ \"autoPlay\": 10000, \"adaptiveHeight\": true, \"resize\": true, \"wrapAround\": true, \"pauseAutoPlayOnHover\": true, \"groupCells\": 1 }' id=\"asyncTypeset\">\"\"\"\n",
    "                ]\n",
    "    \n",
    "    item_str = \"\"\"    <div class=\"carousel-cell\"> <div id=\"slide{k}\" class=\"md_view\">Content {k}</div> </div>\"\"\"\n",
    "    for k in range(1, npub + 1):\n",
    "        carousel.append(item_str.format(k=k))\n",
    "    carousel.append(\"  </div>\")\n",
    "    return '\\n'.join(carousel)\n",
    "\n",
    "def create_grid(npub=4):\n",
    "    \"\"\" Generate the HTML code for a flat grid with `npub` slides \"\"\"\n",
    "    grid = [\"\"\"  <div class=\"grid\"> \"\"\",\n",
    "                ]\n",
    "    \n",
    "    item_str = \"\"\"    <div class=\"grid-item\"> <div id=\"slide{k}\" class=\"md_view\">Content {k}</div> </div>\"\"\"\n",
    "    for k in range(1, npub + 1):\n",
    "        grid.append(item_str.format(k=k))\n",
    "    grid.append(\"  </div>\")\n",
    "    return '\\n'.join(grid)"
   ]
  },
  {
   "cell_type": "code",
   "execution_count": 12,
   "id": "a6eac5b6",
   "metadata": {
    "execution": {
     "iopub.execute_input": "2023-06-06T04:06:26.774607Z",
     "iopub.status.busy": "2023-06-06T04:06:26.773998Z",
     "iopub.status.idle": "2023-06-06T04:06:26.779380Z",
     "shell.execute_reply": "2023-06-06T04:06:26.778803Z"
    },
    "papermill": {
     "duration": 0.014752,
     "end_time": "2023-06-06T04:06:26.780804",
     "exception": false,
     "start_time": "2023-06-06T04:06:26.766052",
     "status": "completed"
    },
    "scrolled": false,
    "tags": []
   },
   "outputs": [],
   "source": [
    "carousel = create_carousel(npub)\n",
    "docs = ', '.join(['\"{0:s}\"'.format(k.split('/')[-1]) for k in res])\n",
    "slides = ', '.join([f'\"slide{k}\"' for k in range(1, npub + 1)])\n",
    "\n",
    "with open(\"daily_template.html\", \"r\") as tpl:\n",
    "    page = tpl.read()\n",
    "    page = page.replace(\"{%-- carousel:s --%}\", carousel)\\\n",
    "               .replace(\"{%-- suptitle:s --%}\",  \"7-day archives\" )\\\n",
    "               .replace(\"{%-- docs:s --%}\", docs)\\\n",
    "               .replace(\"{%-- slides:s --%}\", slides)\n",
    "    \n",
    "with open(\"_build/html/index_7days.html\", 'w') as fout:\n",
    "    fout.write(page)"
   ]
  },
  {
   "cell_type": "code",
   "execution_count": 13,
   "id": "adc1a1ec",
   "metadata": {
    "execution": {
     "iopub.execute_input": "2023-06-06T04:06:26.796592Z",
     "iopub.status.busy": "2023-06-06T04:06:26.796150Z",
     "iopub.status.idle": "2023-06-06T04:06:26.803132Z",
     "shell.execute_reply": "2023-06-06T04:06:26.802482Z"
    },
    "papermill": {
     "duration": 0.016594,
     "end_time": "2023-06-06T04:06:26.804581",
     "exception": false,
     "start_time": "2023-06-06T04:06:26.787987",
     "status": "completed"
    },
    "tags": []
   },
   "outputs": [
    {
     "name": "stdout",
     "output_type": "stream",
     "text": [
      "4  publications in the last day.\n"
     ]
    }
   ],
   "source": [
    "# redo for today\n",
    "days = 1\n",
    "res = list(get_last_n_days(dates, days))\n",
    "npub = len(res)\n",
    "print(len(res), f\" publications in the last day.\")\n",
    "\n",
    "carousel = create_carousel(npub)\n",
    "docs = ', '.join(['\"{0:s}\"'.format(k.split('/')[-1]) for k in res])\n",
    "slides = ', '.join([f'\"slide{k}\"' for k in range(1, npub + 1)])\n",
    "\n",
    "with open(\"daily_template.html\", \"r\") as tpl:\n",
    "    page = tpl.read()\n",
    "    page = page.replace(\"{%-- carousel:s --%}\", carousel)\\\n",
    "               .replace(\"{%-- suptitle:s --%}\",  \"Daily\" )\\\n",
    "               .replace(\"{%-- docs:s --%}\", docs)\\\n",
    "               .replace(\"{%-- slides:s --%}\", slides)\n",
    "    \n",
    "# print(carousel, docs, slides)\n",
    "# print(page)\n",
    "with open(\"_build/html/index_daily.html\", 'w') as fout:\n",
    "    fout.write(page)"
   ]
  },
  {
   "cell_type": "code",
   "execution_count": 14,
   "id": "00eece82",
   "metadata": {
    "execution": {
     "iopub.execute_input": "2023-06-06T04:06:26.820508Z",
     "iopub.status.busy": "2023-06-06T04:06:26.819961Z",
     "iopub.status.idle": "2023-06-06T04:06:26.826929Z",
     "shell.execute_reply": "2023-06-06T04:06:26.826306Z"
    },
    "papermill": {
     "duration": 0.016482,
     "end_time": "2023-06-06T04:06:26.828375",
     "exception": false,
     "start_time": "2023-06-06T04:06:26.811893",
     "status": "completed"
    },
    "scrolled": false,
    "tags": []
   },
   "outputs": [
    {
     "name": "stdout",
     "output_type": "stream",
     "text": [
      "6  6 publications selected.\n"
     ]
    }
   ],
   "source": [
    "# Create the flat grid of the last N papers (fixed number regardless of dates)\n",
    "from itertools import islice \n",
    "\n",
    "npub = 6\n",
    "res = [k[0] for k in (islice(reversed(sorted(dates, key=lambda x: x[1])), 6))]\n",
    "print(len(res), f\" {npub} publications selected.\")\n",
    "\n",
    "grid = create_grid(npub)\n",
    "docs = ', '.join(['\"{0:s}\"'.format(k.split('/')[-1]) for k in res])\n",
    "slides = ', '.join([f'\"slide{k}\"' for k in range(1, npub + 1)])\n",
    "\n",
    "with open(\"grid_template.html\", \"r\") as tpl:\n",
    "    page = tpl.read()\n",
    "    page = page.replace(\"{%-- grid-content:s --%}\", grid)\\\n",
    "               .replace(\"{%-- suptitle:s --%}\",  f\"Last {npub:,d} papers\" )\\\n",
    "               .replace(\"{%-- docs:s --%}\", docs)\\\n",
    "               .replace(\"{%-- slides:s --%}\", slides)\n",
    "    \n",
    "# print(grid, docs, slides)\n",
    "# print(page)\n",
    "with open(\"_build/html/index_npub_grid.html\", 'w') as fout:\n",
    "    fout.write(page)"
   ]
  }
 ],
 "metadata": {
  "kernelspec": {
   "display_name": "Python 3 (ipykernel)",
   "language": "python",
   "name": "python3"
  },
  "language_info": {
   "codemirror_mode": {
    "name": "ipython",
    "version": 3
   },
   "file_extension": ".py",
   "mimetype": "text/x-python",
   "name": "python",
   "nbconvert_exporter": "python",
   "pygments_lexer": "ipython3",
   "version": "3.9.16"
  },
  "papermill": {
   "default_parameters": {},
   "duration": 142.963693,
   "end_time": "2023-06-06T04:06:27.059182",
   "environment_variables": {},
   "exception": null,
   "input_path": "MPIA daily digest.ipynb",
   "output_path": "log.ipynb",
   "parameters": {},
   "start_time": "2023-06-06T04:04:04.095489",
   "version": "2.4.0"
  },
  "vscode": {
   "interpreter": {
    "hash": "aee8b7b246df8f9039afb4144a1f6fd8d2ca17a180786b69acc140d282b71a49"
   }
  },
  "widgets": {
   "application/vnd.jupyter.widget-state+json": {
    "state": {
     "046eaf9744c74589a5b2cefcb44c60a8": {
      "model_module": "@jupyter-widgets/base",
      "model_module_version": "2.0.0",
      "model_name": "LayoutModel",
      "state": {
       "_model_module": "@jupyter-widgets/base",
       "_model_module_version": "2.0.0",
       "_model_name": "LayoutModel",
       "_view_count": null,
       "_view_module": "@jupyter-widgets/base",
       "_view_module_version": "2.0.0",
       "_view_name": "LayoutView",
       "align_content": null,
       "align_items": null,
       "align_self": null,
       "border_bottom": null,
       "border_left": null,
       "border_right": null,
       "border_top": null,
       "bottom": null,
       "display": null,
       "flex": null,
       "flex_flow": null,
       "grid_area": null,
       "grid_auto_columns": null,
       "grid_auto_flow": null,
       "grid_auto_rows": null,
       "grid_column": null,
       "grid_gap": null,
       "grid_row": null,
       "grid_template_areas": null,
       "grid_template_columns": null,
       "grid_template_rows": null,
       "height": null,
       "justify_content": null,
       "justify_items": null,
       "left": null,
       "margin": null,
       "max_height": null,
       "max_width": null,
       "min_height": null,
       "min_width": null,
       "object_fit": null,
       "object_position": null,
       "order": null,
       "overflow": null,
       "padding": null,
       "right": null,
       "top": null,
       "visibility": null,
       "width": null
      }
     },
     "128df63843b84547a02a6c5dfc02122d": {
      "model_module": "@jupyter-widgets/controls",
      "model_module_version": "2.0.0",
      "model_name": "HBoxModel",
      "state": {
       "_dom_classes": [],
       "_model_module": "@jupyter-widgets/controls",
       "_model_module_version": "2.0.0",
       "_model_name": "HBoxModel",
       "_view_count": null,
       "_view_module": "@jupyter-widgets/controls",
       "_view_module_version": "2.0.0",
       "_view_name": "HBoxView",
       "box_style": "",
       "children": [
        "IPY_MODEL_be957809b3c540a4b2215ae4213ad8d2",
        "IPY_MODEL_15f5ef4a47d848c19f7847337c90d3c6",
        "IPY_MODEL_e71d0c6dbc474979acbfce6a11250ab7"
       ],
       "layout": "IPY_MODEL_361ea159c4334f37a5aafd9abc5436f8",
       "tabbable": null,
       "tooltip": null
      }
     },
     "15f5ef4a47d848c19f7847337c90d3c6": {
      "model_module": "@jupyter-widgets/controls",
      "model_module_version": "2.0.0",
      "model_name": "FloatProgressModel",
      "state": {
       "_dom_classes": [],
       "_model_module": "@jupyter-widgets/controls",
       "_model_module_version": "2.0.0",
       "_model_name": "FloatProgressModel",
       "_view_count": null,
       "_view_module": "@jupyter-widgets/controls",
       "_view_module_version": "2.0.0",
       "_view_name": "ProgressView",
       "bar_style": "success",
       "description": "",
       "description_allow_html": false,
       "layout": "IPY_MODEL_a408ede90b32416583bc0c7af5030fed",
       "max": 5.0,
       "min": 0.0,
       "orientation": "horizontal",
       "style": "IPY_MODEL_4ca97f0c640340b1959cf3bef232d3fc",
       "tabbable": null,
       "tooltip": null,
       "value": 5.0
      }
     },
     "1e2dd80412634c649bb4c4cba459eefa": {
      "model_module": "@jupyter-widgets/base",
      "model_module_version": "2.0.0",
      "model_name": "LayoutModel",
      "state": {
       "_model_module": "@jupyter-widgets/base",
       "_model_module_version": "2.0.0",
       "_model_name": "LayoutModel",
       "_view_count": null,
       "_view_module": "@jupyter-widgets/base",
       "_view_module_version": "2.0.0",
       "_view_name": "LayoutView",
       "align_content": null,
       "align_items": null,
       "align_self": null,
       "border_bottom": null,
       "border_left": null,
       "border_right": null,
       "border_top": null,
       "bottom": null,
       "display": null,
       "flex": null,
       "flex_flow": null,
       "grid_area": null,
       "grid_auto_columns": null,
       "grid_auto_flow": null,
       "grid_auto_rows": null,
       "grid_column": null,
       "grid_gap": null,
       "grid_row": null,
       "grid_template_areas": null,
       "grid_template_columns": null,
       "grid_template_rows": null,
       "height": null,
       "justify_content": null,
       "justify_items": null,
       "left": null,
       "margin": null,
       "max_height": null,
       "max_width": null,
       "min_height": null,
       "min_width": null,
       "object_fit": null,
       "object_position": null,
       "order": null,
       "overflow": null,
       "padding": null,
       "right": null,
       "top": null,
       "visibility": null,
       "width": null
      }
     },
     "361ea159c4334f37a5aafd9abc5436f8": {
      "model_module": "@jupyter-widgets/base",
      "model_module_version": "2.0.0",
      "model_name": "LayoutModel",
      "state": {
       "_model_module": "@jupyter-widgets/base",
       "_model_module_version": "2.0.0",
       "_model_name": "LayoutModel",
       "_view_count": null,
       "_view_module": "@jupyter-widgets/base",
       "_view_module_version": "2.0.0",
       "_view_name": "LayoutView",
       "align_content": null,
       "align_items": null,
       "align_self": null,
       "border_bottom": null,
       "border_left": null,
       "border_right": null,
       "border_top": null,
       "bottom": null,
       "display": null,
       "flex": null,
       "flex_flow": null,
       "grid_area": null,
       "grid_auto_columns": null,
       "grid_auto_flow": null,
       "grid_auto_rows": null,
       "grid_column": null,
       "grid_gap": null,
       "grid_row": null,
       "grid_template_areas": null,
       "grid_template_columns": null,
       "grid_template_rows": null,
       "height": null,
       "justify_content": null,
       "justify_items": null,
       "left": null,
       "margin": null,
       "max_height": null,
       "max_width": null,
       "min_height": null,
       "min_width": null,
       "object_fit": null,
       "object_position": null,
       "order": null,
       "overflow": null,
       "padding": null,
       "right": null,
       "top": null,
       "visibility": null,
       "width": null
      }
     },
     "4ca97f0c640340b1959cf3bef232d3fc": {
      "model_module": "@jupyter-widgets/controls",
      "model_module_version": "2.0.0",
      "model_name": "ProgressStyleModel",
      "state": {
       "_model_module": "@jupyter-widgets/controls",
       "_model_module_version": "2.0.0",
       "_model_name": "ProgressStyleModel",
       "_view_count": null,
       "_view_module": "@jupyter-widgets/base",
       "_view_module_version": "2.0.0",
       "_view_name": "StyleView",
       "bar_color": null,
       "description_width": ""
      }
     },
     "a408ede90b32416583bc0c7af5030fed": {
      "model_module": "@jupyter-widgets/base",
      "model_module_version": "2.0.0",
      "model_name": "LayoutModel",
      "state": {
       "_model_module": "@jupyter-widgets/base",
       "_model_module_version": "2.0.0",
       "_model_name": "LayoutModel",
       "_view_count": null,
       "_view_module": "@jupyter-widgets/base",
       "_view_module_version": "2.0.0",
       "_view_name": "LayoutView",
       "align_content": null,
       "align_items": null,
       "align_self": null,
       "border_bottom": null,
       "border_left": null,
       "border_right": null,
       "border_top": null,
       "bottom": null,
       "display": null,
       "flex": null,
       "flex_flow": null,
       "grid_area": null,
       "grid_auto_columns": null,
       "grid_auto_flow": null,
       "grid_auto_rows": null,
       "grid_column": null,
       "grid_gap": null,
       "grid_row": null,
       "grid_template_areas": null,
       "grid_template_columns": null,
       "grid_template_rows": null,
       "height": null,
       "justify_content": null,
       "justify_items": null,
       "left": null,
       "margin": null,
       "max_height": null,
       "max_width": null,
       "min_height": null,
       "min_width": null,
       "object_fit": null,
       "object_position": null,
       "order": null,
       "overflow": null,
       "padding": null,
       "right": null,
       "top": null,
       "visibility": null,
       "width": null
      }
     },
     "b9c64c5ecdd546d8a987a89c96532467": {
      "model_module": "@jupyter-widgets/controls",
      "model_module_version": "2.0.0",
      "model_name": "HTMLStyleModel",
      "state": {
       "_model_module": "@jupyter-widgets/controls",
       "_model_module_version": "2.0.0",
       "_model_name": "HTMLStyleModel",
       "_view_count": null,
       "_view_module": "@jupyter-widgets/base",
       "_view_module_version": "2.0.0",
       "_view_name": "StyleView",
       "background": null,
       "description_width": "",
       "font_size": null,
       "text_color": null
      }
     },
     "be957809b3c540a4b2215ae4213ad8d2": {
      "model_module": "@jupyter-widgets/controls",
      "model_module_version": "2.0.0",
      "model_name": "HTMLModel",
      "state": {
       "_dom_classes": [],
       "_model_module": "@jupyter-widgets/controls",
       "_model_module_version": "2.0.0",
       "_model_name": "HTMLModel",
       "_view_count": null,
       "_view_module": "@jupyter-widgets/controls",
       "_view_module_version": "2.0.0",
       "_view_name": "HTMLView",
       "description": "",
       "description_allow_html": false,
       "layout": "IPY_MODEL_046eaf9744c74589a5b2cefcb44c60a8",
       "placeholder": "​",
       "style": "IPY_MODEL_ebb1794348564f4d8a004569504e746d",
       "tabbable": null,
       "tooltip": null,
       "value": "100%"
      }
     },
     "e71d0c6dbc474979acbfce6a11250ab7": {
      "model_module": "@jupyter-widgets/controls",
      "model_module_version": "2.0.0",
      "model_name": "HTMLModel",
      "state": {
       "_dom_classes": [],
       "_model_module": "@jupyter-widgets/controls",
       "_model_module_version": "2.0.0",
       "_model_name": "HTMLModel",
       "_view_count": null,
       "_view_module": "@jupyter-widgets/controls",
       "_view_module_version": "2.0.0",
       "_view_name": "HTMLView",
       "description": "",
       "description_allow_html": false,
       "layout": "IPY_MODEL_1e2dd80412634c649bb4c4cba459eefa",
       "placeholder": "​",
       "style": "IPY_MODEL_b9c64c5ecdd546d8a987a89c96532467",
       "tabbable": null,
       "tooltip": null,
       "value": " 5/5 [01:57&lt;00:00, 16.38s/it]"
      }
     },
     "ebb1794348564f4d8a004569504e746d": {
      "model_module": "@jupyter-widgets/controls",
      "model_module_version": "2.0.0",
      "model_name": "HTMLStyleModel",
      "state": {
       "_model_module": "@jupyter-widgets/controls",
       "_model_module_version": "2.0.0",
       "_model_name": "HTMLStyleModel",
       "_view_count": null,
       "_view_module": "@jupyter-widgets/base",
       "_view_module_version": "2.0.0",
       "_view_name": "StyleView",
       "background": null,
       "description_width": "",
       "font_size": null,
       "text_color": null
      }
     }
    },
    "version_major": 2,
    "version_minor": 0
   }
  }
 },
 "nbformat": 4,
 "nbformat_minor": 5
}