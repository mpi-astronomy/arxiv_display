{
 "cells": [
  {
   "cell_type": "markdown",
   "id": "92bcb855",
   "metadata": {
    "papermill": {
     "duration": 0.003878,
     "end_time": "2025-01-13T04:11:21.261062",
     "exception": false,
     "start_time": "2025-01-13T04:11:21.257184",
     "status": "completed"
    },
    "tags": []
   },
   "source": [
    "# MPIA Arxiv on Deck 2\n",
    "\n",
    "Contains the steps to produce the paper extractions."
   ]
  },
  {
   "cell_type": "code",
   "execution_count": 1,
   "id": "3a0d6e11",
   "metadata": {
    "execution": {
     "iopub.execute_input": "2025-01-13T04:11:21.268490Z",
     "iopub.status.busy": "2025-01-13T04:11:21.268049Z",
     "iopub.status.idle": "2025-01-13T04:11:21.684721Z",
     "shell.execute_reply": "2025-01-13T04:11:21.684030Z"
    },
    "papermill": {
     "duration": 0.421694,
     "end_time": "2025-01-13T04:11:21.686021",
     "exception": false,
     "start_time": "2025-01-13T04:11:21.264327",
     "status": "completed"
    },
    "tags": []
   },
   "outputs": [],
   "source": [
    "# Imports\n",
    "import os\n",
    "from IPython.display import Markdown, display\n",
    "from tqdm.notebook import tqdm\n",
    "import warnings\n",
    "from PIL import Image \n",
    "import re\n",
    "\n",
    "# requires arxiv_on_deck_2\n",
    "\n",
    "from arxiv_on_deck_2.arxiv2 import (get_new_papers, \n",
    "                                    get_paper_from_identifier,\n",
    "                                    retrieve_document_source, \n",
    "                                    get_markdown_badge)\n",
    "from arxiv_on_deck_2 import (latex,\n",
    "                             latex_bib,\n",
    "                             mpia,\n",
    "                             highlight_authors_in_list)\n",
    "\n",
    "# Sometimes images are really big\n",
    "Image.MAX_IMAGE_PIXELS = 1000000000 "
   ]
  },
  {
   "cell_type": "code",
   "execution_count": 2,
   "id": "22aa9d44",
   "metadata": {
    "execution": {
     "iopub.execute_input": "2025-01-13T04:11:21.693534Z",
     "iopub.status.busy": "2025-01-13T04:11:21.693025Z",
     "iopub.status.idle": "2025-01-13T04:11:21.700999Z",
     "shell.execute_reply": "2025-01-13T04:11:21.700443Z"
    },
    "papermill": {
     "duration": 0.012727,
     "end_time": "2025-01-13T04:11:21.702051",
     "exception": false,
     "start_time": "2025-01-13T04:11:21.689324",
     "status": "completed"
    },
    "tags": []
   },
   "outputs": [],
   "source": [
    "# Some useful definitions.\n",
    "\n",
    "class AffiliationWarning(UserWarning):\n",
    "    pass\n",
    "\n",
    "class AffiliationError(RuntimeError):\n",
    "    pass\n",
    "\n",
    "def validation(source: str):\n",
    "    \"\"\"Raises error paper during parsing of source file\n",
    "    \n",
    "    Allows checks before parsing TeX code.\n",
    "    \n",
    "    Raises AffiliationWarning\n",
    "    \"\"\"\n",
    "    check = mpia.affiliation_verifications(source, verbose=True)\n",
    "    if check is not True:\n",
    "        raise AffiliationError(\"mpia.affiliation_verifications: \" + check)\n",
    "\n",
    "        \n",
    "warnings.simplefilter('always', AffiliationWarning)\n",
    "\n",
    "\n",
    "def get_markdown_qrcode(paper_id: str):\n",
    "    \"\"\" Generate a qrcode to the arxiv page using qrserver.com\n",
    "    \n",
    "    :param paper: Arxiv paper\n",
    "    :returns: markdown text\n",
    "    \"\"\"\n",
    "    url = r\"https://api.qrserver.com/v1/create-qr-code/?size=100x100&data=\"\n",
    "    txt = f\"\"\"<img src={url}\"https://arxiv.org/abs/{paper_id}\">\"\"\"\n",
    "    txt = '<div id=\"qrcode\">' + txt + '</div>'\n",
    "    return txt\n",
    "\n",
    "\n",
    "def clean_non_western_encoded_characters_commands(text: str) -> str:\n",
    "    \"\"\" Remove non-western encoded characters from a string\n",
    "    List may need to grow.\n",
    "    \n",
    "    :param text: the text to clean\n",
    "    :return: the cleaned text\n",
    "    \"\"\"\n",
    "    text = re.sub(r\"(\\\\begin{CJK}{UTF8}{gbsn})(.*?)(\\\\end{CJK})\", r\"\\2\", text)\n",
    "    return text\n",
    "\n",
    "\n",
    "def get_initials(name: str) -> str:\n",
    "    \"\"\" Get the short name, e.g., A.-B. FamName\n",
    "    :param name: full name\n",
    "    :returns: initials\n",
    "    \"\"\"\n",
    "    initials = []\n",
    "    # account for non western names often in ()\n",
    "    if '(' in name:\n",
    "        name = clean_non_western_encoded_characters_commands(name)\n",
    "        suffix = re.findall(r\"\\((.*?)\\)\", name)[0]\n",
    "        name = name.replace(f\"({suffix})\", '')\n",
    "    else:\n",
    "        suffix = ''\n",
    "    split = name.split()\n",
    "    for token in split[:-1]:\n",
    "        if '-' in token:\n",
    "            current = '-'.join([k[0] + '.' for k in token.split('-')])\n",
    "        else:\n",
    "            current = token[0] + '.'\n",
    "        initials.append(current)\n",
    "    initials.append(split[-1].strip())\n",
    "    if suffix:\n",
    "        initials.append(f\"({suffix})\")\n",
    "    return ' '.join(initials)"
   ]
  },
  {
   "cell_type": "markdown",
   "id": "14bd6310",
   "metadata": {
    "papermill": {
     "duration": 0.002878,
     "end_time": "2025-01-13T04:11:21.707889",
     "exception": false,
     "start_time": "2025-01-13T04:11:21.705011",
     "status": "completed"
    },
    "tags": []
   },
   "source": [
    "## get list of arxiv paper candidates\n",
    "\n",
    "We use the MPIA mitarbeiter list webpage from mpia.de to get author names\n",
    "We then get all new papers from Arxiv and match authors"
   ]
  },
  {
   "cell_type": "code",
   "execution_count": 3,
   "id": "7ea813a8",
   "metadata": {
    "execution": {
     "iopub.execute_input": "2025-01-13T04:11:21.714730Z",
     "iopub.status.busy": "2025-01-13T04:11:21.714309Z",
     "iopub.status.idle": "2025-01-13T04:11:38.588089Z",
     "shell.execute_reply": "2025-01-13T04:11:38.587434Z"
    },
    "papermill": {
     "duration": 16.878541,
     "end_time": "2025-01-13T04:11:38.589324",
     "exception": false,
     "start_time": "2025-01-13T04:11:21.710783",
     "status": "completed"
    },
    "tags": []
   },
   "outputs": [],
   "source": [
    "# deal with the author list and edge cases of people that cannot be consistent on their name  \n",
    "\n",
    "def filter_non_scientists(name: str) -> bool:\n",
    "    \"\"\" Loose filter on expected authorships\n",
    "\n",
    "    removing IT, administration, technical staff\n",
    "    :param name: name\n",
    "    :returns: False if name is not a scientist\n",
    "    \"\"\"\n",
    "    remove_list = ['Licht', 'Binroth', 'Witzel', 'Jordan',\n",
    "                   'Zähringer', 'Scheerer', 'Hoffmann', 'Düe',\n",
    "                   'Hellmich', 'Enkler-Scharpegge', 'Witte-Nguy',\n",
    "                   'Dehen', 'Beckmann', 'Jager', 'Jäger'\n",
    "                  ]\n",
    "\n",
    "    for k in remove_list:\n",
    "        if k in name:\n",
    "            return False\n",
    "    return True\n",
    "\n",
    "def add_author_to_list(author_list: list) -> list:\n",
    "    \"\"\" Add author to list if not already in list\n",
    "    \n",
    "    :param author: author name\n",
    "    :param author_list: list of authors\n",
    "    :returns: updated list of authors\n",
    "    \"\"\"\n",
    "    add_list = ['T. Henning']\n",
    "\n",
    "    for author in add_list:\n",
    "        if author not in author_list:\n",
    "            author_list.append(author)\n",
    "    return author_list\n",
    "\n",
    "# get list from MPIA website\n",
    "# filter for non-scientists (mpia.get_mpia_mitarbeiter_list() does some filtering)\n",
    "mpia_authors = [k[1] for k in mpia.get_mpia_mitarbeiter_list() if filter_non_scientists(k[1])]\n",
    "# add some missing author because of inconsistencies in their MPIA name and author name on papers\n",
    "mpia_authors = add_author_to_list(mpia_authors)"
   ]
  },
  {
   "cell_type": "code",
   "execution_count": 4,
   "id": "2645e73a",
   "metadata": {
    "execution": {
     "iopub.execute_input": "2025-01-13T04:11:38.596705Z",
     "iopub.status.busy": "2025-01-13T04:11:38.596288Z",
     "iopub.status.idle": "2025-01-13T04:11:39.407151Z",
     "shell.execute_reply": "2025-01-13T04:11:39.406466Z"
    },
    "papermill": {
     "duration": 0.815586,
     "end_time": "2025-01-13T04:11:39.408244",
     "exception": false,
     "start_time": "2025-01-13T04:11:38.592658",
     "status": "completed"
    },
    "tags": []
   },
   "outputs": [
    {
     "name": "stdout",
     "output_type": "stream",
     "text": [
      "B. C. Estrada  ->  B. C. Estrada  |  ['B. C. Estrada']\n",
      "X. Zhang  ->  X. Zhang  |  ['X. Zhang']\n"
     ]
    },
    {
     "name": "stdout",
     "output_type": "stream",
     "text": [
      "N. Storm  ->  N. Storm  |  ['N. Storm']\n",
      "J. Li  ->  J. Li  |  ['J. Li']\n",
      "S. Vaughan  ->  S. Vaughan  |  ['S. Vaughan']\n",
      "T. Henning  ->  T. Henning  |  ['T. Henning']\n",
      "G. Perotti  ->  G. Perotti  |  ['G. Perotti']\n",
      "X. Zhang  ->  X. Zhang  |  ['X. Zhang']\n",
      "J. Liu  ->  J. Liu  |  ['J. Liu']\n",
      "M. Sharma  ->  Y. M. Sharma  |  ['M. Sharma']\n",
      "Arxiv has 62 new papers today\n",
      "          9 with possible author matches\n"
     ]
    }
   ],
   "source": [
    "new_papers = get_new_papers()\n",
    "# add manual references\n",
    "add_paper_refs = []\n",
    "new_papers.extend([get_paper_from_identifier(k) for k in add_paper_refs])\n",
    "\n",
    "def robust_call(fn, value, *args, **kwargs):\n",
    "    try:\n",
    "        return fn(value, *args, **kwargs)\n",
    "    except Exception:\n",
    "        return value\n",
    "\n",
    "candidates = []\n",
    "for paperk in new_papers:\n",
    "    # Check author list with their initials\n",
    "    normed_author_list = [robust_call(mpia.get_initials, k) for k in paperk['authors']]\n",
    "    hl_authors = highlight_authors_in_list(normed_author_list, mpia_authors, verbose=True)\n",
    "    matches = [(hl, orig) for hl, orig in zip(hl_authors, paperk['authors']) if 'mark' in hl]\n",
    "    paperk['authors'] = hl_authors\n",
    "    if matches:\n",
    "        # only select paper if an author matched our list\n",
    "        candidates.append(paperk)\n",
    "print(\"\"\"Arxiv has {0:,d} new papers today\"\"\".format(len(new_papers)))        \n",
    "print(\"\"\"          {0:,d} with possible author matches\"\"\".format(len(candidates)))"
   ]
  },
  {
   "cell_type": "markdown",
   "id": "3543b34a",
   "metadata": {
    "papermill": {
     "duration": 0.003056,
     "end_time": "2025-01-13T04:11:39.414753",
     "exception": false,
     "start_time": "2025-01-13T04:11:39.411697",
     "status": "completed"
    },
    "tags": []
   },
   "source": [
    "# Parse sources and generate relevant outputs\n",
    "\n",
    "From the candidates, we do the following steps:\n",
    "* get their tarball from ArXiv (and extract data)\n",
    "* find the main .tex file: find one with \\documentclass{...} (sometimes it's non trivial)\n",
    "* Check affiliations with :func:`validation`, which uses :func:`mpia.affiliation_verifications`\n",
    "* If passing the affiliations: we parse the .tex source\n",
    "   * inject sub-documents into the main (flatten the main document)\n",
    "   * parse structure, extract information (title, abstract, authors, figures...)\n",
    "   * handles `\\graphicspath` if provided\n",
    "* Generate the .md document."
   ]
  },
  {
   "cell_type": "code",
   "execution_count": 5,
   "id": "9576b79e",
   "metadata": {
    "execution": {
     "iopub.execute_input": "2025-01-13T04:11:39.421755Z",
     "iopub.status.busy": "2025-01-13T04:11:39.421565Z",
     "iopub.status.idle": "2025-01-13T04:12:49.124664Z",
     "shell.execute_reply": "2025-01-13T04:12:49.123908Z"
    },
    "papermill": {
     "duration": 69.708,
     "end_time": "2025-01-13T04:12:49.125825",
     "exception": false,
     "start_time": "2025-01-13T04:11:39.417825",
     "status": "completed"
    },
    "scrolled": false,
    "tags": []
   },
   "outputs": [
    {
     "data": {
      "application/vnd.jupyter.widget-view+json": {
       "model_id": "c77d4882133f4255850553c378f3e822",
       "version_major": 2,
       "version_minor": 0
      },
      "text/plain": [
       "  0%|          | 0/9 [00:00<?, ?it/s]"
      ]
     },
     "metadata": {},
     "output_type": "display_data"
    },
    {
     "name": "stdout",
     "output_type": "stream",
     "text": [
      "Retrieving document from  https://arxiv.org/e-print/2501.05521\n"
     ]
    },
    {
     "name": "stdout",
     "output_type": "stream",
     "text": [
      "extracting tarball to tmp_2501.05521..."
     ]
    },
    {
     "name": "stdout",
     "output_type": "stream",
     "text": [
      " done.\n"
     ]
    },
    {
     "name": "stdout",
     "output_type": "stream",
     "text": [
      "Found 185 bibliographic references in tmp_2501.05521/main.bbl.\n",
      "Issues with the citations\n",
      "syntax error in line 130: '=' expected\n",
      "Retrieving document from  https://arxiv.org/e-print/2501.05725\n"
     ]
    },
    {
     "name": "stdout",
     "output_type": "stream",
     "text": [
      "extracting tarball to tmp_2501.05725..."
     ]
    },
    {
     "name": "stdout",
     "output_type": "stream",
     "text": [
      " done.\n",
      "Retrieving document from  https://arxiv.org/e-print/2501.05807\n"
     ]
    },
    {
     "name": "stdout",
     "output_type": "stream",
     "text": [
      "extracting tarball to tmp_2501.05807..."
     ]
    },
    {
     "name": "stdout",
     "output_type": "stream",
     "text": [
      " done.\n",
      "  1: tmp_2501.05807/EMP_RRLs_final.tex, 598 lines\n",
      "  2: tmp_2501.05807/MP_RRLs.tex, 680 lines\n"
     ]
    },
    {
     "name": "stderr",
     "output_type": "stream",
     "text": [
      "/opt/hostedtoolcache/Python/3.9.21/x64/lib/python3.9/site-packages/IPython/core/interactiveshell.py:3550: LatexWarning: Multiple tex files.\n",
      "\n",
      "  exec(code_obj, self.user_global_ns, self.user_ns)\n",
      "/opt/hostedtoolcache/Python/3.9.21/x64/lib/python3.9/site-packages/IPython/core/interactiveshell.py:3550: LatexWarning: Found 2 candidates with documentclass definition.\n",
      "  exec(code_obj, self.user_global_ns, self.user_ns)\n",
      "/opt/hostedtoolcache/Python/3.9.21/x64/lib/python3.9/site-packages/IPython/core/interactiveshell.py:3550: LatexWarning: Assuming tmp_2501.05807/MP_RRLs.tex as main document.\n",
      "  exec(code_obj, self.user_global_ns, self.user_ns)\n"
     ]
    },
    {
     "name": "stdout",
     "output_type": "stream",
     "text": [
      "N. Storm  ->  N. Storm  |  ['N. Storm']\n"
     ]
    },
    {
     "name": "stderr",
     "output_type": "stream",
     "text": [
      "/opt/hostedtoolcache/Python/3.9.21/x64/lib/python3.9/site-packages/arxiv_on_deck_2/latex.py:132: LatexWarning: attempting recovering figure Manuel/light_curve_RR95_HD331986_final_Stromgren_paper.pdf\n",
      "  warnings.warn(LatexWarning(f'attempting recovering figure {image}'))\n",
      "/opt/hostedtoolcache/Python/3.9.21/x64/lib/python3.9/site-packages/arxiv_on_deck_2/latex.py:707: LatexWarning: Could not find graphic \\includegraphics[width=0.49\\textwidth]{Manuel/light_curve_RR95_HD331986_final_Stromgren_paper.pdf}\n",
      "  warnings.warn(LatexWarning(f\"Could not find graphic {k}\"))\n"
     ]
    },
    {
     "name": "stderr",
     "output_type": "stream",
     "text": [
      "/opt/hostedtoolcache/Python/3.9.21/x64/lib/python3.9/site-packages/arxiv_on_deck_2/latex.py:132: LatexWarning: attempting recovering figure Manuel/HR_diagram.pdf\n",
      "  warnings.warn(LatexWarning(f'attempting recovering figure {image}'))\n",
      "/opt/hostedtoolcache/Python/3.9.21/x64/lib/python3.9/site-packages/arxiv_on_deck_2/latex.py:707: LatexWarning: Could not find graphic \\includegraphics[width=0.9\\textwidth]{Manuel/HR_diagram.pdf}\n",
      "  warnings.warn(LatexWarning(f\"Could not find graphic {k}\"))\n",
      "/opt/hostedtoolcache/Python/3.9.21/x64/lib/python3.9/site-packages/arxiv_on_deck_2/latex.py:132: LatexWarning: attempting recovering figure Manuel/c1_logg_no_outliers.pdf\n",
      "  warnings.warn(LatexWarning(f'attempting recovering figure {image}'))\n",
      "/opt/hostedtoolcache/Python/3.9.21/x64/lib/python3.9/site-packages/arxiv_on_deck_2/latex.py:707: LatexWarning: Could not find graphic \\includegraphics[width=0.49\\textwidth]{Manuel/c1_logg_no_outliers.pdf}\n",
      "  warnings.warn(LatexWarning(f\"Could not find graphic {k}\"))\n",
      "/opt/hostedtoolcache/Python/3.9.21/x64/lib/python3.9/site-packages/arxiv_on_deck_2/latex.py:132: LatexWarning: attempting recovering figure _logg_total.pdf\n",
      "  warnings.warn(LatexWarning(f'attempting recovering figure {image}'))\n",
      "/opt/hostedtoolcache/Python/3.9.21/x64/lib/python3.9/site-packages/arxiv_on_deck_2/latex.py:707: LatexWarning: Could not find graphic \\includegraphics[width=0.49\\textwidth]{Manuel/[c1]_logg_total.pdf}\n",
      "  warnings.warn(LatexWarning(f\"Could not find graphic {k}\"))\n"
     ]
    },
    {
     "name": "stderr",
     "output_type": "stream",
     "text": [
      "/opt/hostedtoolcache/Python/3.9.21/x64/lib/python3.9/site-packages/arxiv_on_deck_2/latex.py:132: LatexWarning: attempting recovering figure michele/orbit_1.png\n",
      "  warnings.warn(LatexWarning(f'attempting recovering figure {image}'))\n",
      "/opt/hostedtoolcache/Python/3.9.21/x64/lib/python3.9/site-packages/arxiv_on_deck_2/latex.py:707: LatexWarning: Could not find graphic \\includegraphics[width=0.9\\textwidth]{michele/orbit_1.png}\n",
      "  warnings.warn(LatexWarning(f\"Could not find graphic {k}\"))\n",
      "/opt/hostedtoolcache/Python/3.9.21/x64/lib/python3.9/site-packages/arxiv_on_deck_2/latex.py:132: LatexWarning: attempting recovering figure michele/orbit_2.png\n",
      "  warnings.warn(LatexWarning(f'attempting recovering figure {image}'))\n",
      "/opt/hostedtoolcache/Python/3.9.21/x64/lib/python3.9/site-packages/arxiv_on_deck_2/latex.py:707: LatexWarning: Could not find graphic \\includegraphics[width=0.9\\textwidth]{michele/orbit_2.png}\n",
      "  warnings.warn(LatexWarning(f\"Could not find graphic {k}\"))\n",
      "/opt/hostedtoolcache/Python/3.9.21/x64/lib/python3.9/site-packages/arxiv_on_deck_2/latex.py:132: LatexWarning: attempting recovering figure michele/orbit_3.png\n",
      "  warnings.warn(LatexWarning(f'attempting recovering figure {image}'))\n",
      "/opt/hostedtoolcache/Python/3.9.21/x64/lib/python3.9/site-packages/arxiv_on_deck_2/latex.py:707: LatexWarning: Could not find graphic \\includegraphics[width=0.9\\textwidth]{michele/orbit_3.png}\n",
      "  warnings.warn(LatexWarning(f\"Could not find graphic {k}\"))\n"
     ]
    },
    {
     "name": "stdout",
     "output_type": "stream",
     "text": [
      "Found 93 bibliographic references in tmp_2501.05807/EMP_RRLs_final.bbl.\n",
      "Retrieving document from  https://arxiv.org/e-print/2501.05875\n"
     ]
    },
    {
     "name": "stdout",
     "output_type": "stream",
     "text": [
      "extracting tarball to tmp_2501.05875..."
     ]
    },
    {
     "name": "stdout",
     "output_type": "stream",
     "text": [
      " done.\n",
      "  0: tmp_2501.05875/natbib.tex, 96 lines\n",
      "  1: tmp_2501.05875/natnotes.tex, 332 lines\n",
      "  2: tmp_2501.05875/aassymbols.tex, 579 lines\n",
      "  3: tmp_2501.05875/paper.tex, 1,152 lines\n",
      "Retrieving document from  https://arxiv.org/e-print/2501.05886\n"
     ]
    },
    {
     "name": "stderr",
     "output_type": "stream",
     "text": [
      "/opt/hostedtoolcache/Python/3.9.21/x64/lib/python3.9/site-packages/IPython/core/interactiveshell.py:3550: LatexWarning: Multiple tex files.\n",
      "\n",
      "  exec(code_obj, self.user_global_ns, self.user_ns)\n",
      "/opt/hostedtoolcache/Python/3.9.21/x64/lib/python3.9/site-packages/IPython/core/interactiveshell.py:3550: LatexWarning: Found 4 candidates with documentclass definition.\n",
      "  exec(code_obj, self.user_global_ns, self.user_ns)\n",
      "/opt/hostedtoolcache/Python/3.9.21/x64/lib/python3.9/site-packages/IPython/core/interactiveshell.py:3550: LatexWarning: Assuming tmp_2501.05875/paper.tex as main document.\n",
      "  exec(code_obj, self.user_global_ns, self.user_ns)\n"
     ]
    },
    {
     "name": "stdout",
     "output_type": "stream",
     "text": [
      "extracting tarball to tmp_2501.05886..."
     ]
    },
    {
     "name": "stdout",
     "output_type": "stream",
     "text": [
      " done.\n",
      "Retrieving document from  https://arxiv.org/e-print/2501.05913\n"
     ]
    },
    {
     "name": "stdout",
     "output_type": "stream",
     "text": [
      "extracting tarball to tmp_2501.05913..."
     ]
    },
    {
     "name": "stdout",
     "output_type": "stream",
     "text": [
      " done.\n"
     ]
    },
    {
     "name": "stdout",
     "output_type": "stream",
     "text": [
      "G. Perotti  ->  G. Perotti  |  ['G. Perotti']\n"
     ]
    },
    {
     "name": "stdout",
     "output_type": "stream",
     "text": [
      "Found 93 bibliographic references in tmp_2501.05913/pds70_R3.bbl.\n",
      "Error retrieving bib data for Gregorio-Hetem1992: 'gregorio-hetem1992'\n",
      "Error retrieving bib data for Hashimoto2012: 'hashimoto2012'\n",
      "Error retrieving bib data for Benisty2021: 'benisty2021'\n",
      "Error retrieving bib data for Facchini2021: 'facchini2021'\n",
      "Error retrieving bib data for Min2005: 'min2005'\n",
      "Retrieving document from  https://arxiv.org/e-print/2501.05944\n"
     ]
    },
    {
     "name": "stderr",
     "output_type": "stream",
     "text": [
      "/opt/hostedtoolcache/Python/3.9.21/x64/lib/python3.9/site-packages/arxiv_on_deck_2/latex_bib.py:132: UserWarning: Error processing bibitem\n",
      " item = \\bibitem{Shu1987}F.~H. {Shu}, F.~C. {Adams}, and S.~{Lizano}, Annual Review of Astronomy and Astrophysics   25, 23 (1987).\n",
      " regex = \n",
      "        \\\\bibitem(\\[[^\\[\\]]*?\\]){(?P<bibkey>[a-zA-Z0-9\\-\\+\\.\\S]+?)}(?P<authors>|([\\D]*?))(?P<year>[12][0-9]{3})(?P<rest>.*)\n",
      "        \n",
      "  warnings.warn(str(e))\n",
      "/opt/hostedtoolcache/Python/3.9.21/x64/lib/python3.9/site-packages/arxiv_on_deck_2/latex_bib.py:132: UserWarning: Error processing bibitem\n",
      " item = \\bibitem{1993ApJ...407..806C}A.~{Chokshi}, A.~G.~G.~M. {Tielens}, and D.~{Hollenbach}, \\apj   407, 806 (1993).\n",
      " regex = \n",
      "        \\\\bibitem(\\[[^\\[\\]]*?\\]){(?P<bibkey>[a-zA-Z0-9\\-\\+\\.\\S]+?)}(?P<authors>|([\\D]*?))(?P<year>[12][0-9]{3})(?P<rest>.*)\n",
      "        \n",
      "  warnings.warn(str(e))\n",
      "/opt/hostedtoolcache/Python/3.9.21/x64/lib/python3.9/site-packages/arxiv_on_deck_2/latex_bib.py:132: UserWarning: Error processing bibitem\n",
      " item = \\bibitem{1997ApJ...480..647D}C.~{Dominik} and A.~G.~G.~M. {Tielens}, \\apj   480, 647 (1997).\n",
      " regex = \n",
      "        \\\\bibitem(\\[[^\\[\\]]*?\\]){(?P<bibkey>[a-zA-Z0-9\\-\\+\\.\\S]+?)}(?P<authors>|([\\D]*?))(?P<year>[12][0-9]{3})(?P<rest>.*)\n",
      "        \n",
      "  warnings.warn(str(e))\n",
      "/opt/hostedtoolcache/Python/3.9.21/x64/lib/python3.9/site-packages/arxiv_on_deck_2/latex_bib.py:132: UserWarning: Error processing bibitem\n",
      " item = \\bibitem{Youdin2005}A.~N. {Youdin} and J.~{Goodman}, \\apj   620, 459 (2005).\n",
      " regex = \n",
      "        \\\\bibitem(\\[[^\\[\\]]*?\\]){(?P<bibkey>[a-zA-Z0-9\\-\\+\\.\\S]+?)}(?P<authors>|([\\D]*?))(?P<year>[12][0-9]{3})(?P<rest>.*)\n",
      "        \n",
      "  warnings.warn(str(e))\n",
      "/opt/hostedtoolcache/Python/3.9.21/x64/lib/python3.9/site-packages/arxiv_on_deck_2/latex_bib.py:132: UserWarning: Error processing bibitem\n",
      " item = \\bibitem{Johansen2007}A.~{Johansen} {\\em et~al.}, \\nat   448, 1022 (2007).\n",
      " regex = \n",
      "        \\\\bibitem(\\[[^\\[\\]]*?\\]){(?P<bibkey>[a-zA-Z0-9\\-\\+\\.\\S]+?)}(?P<authors>|([\\D]*?))(?P<year>[12][0-9]{3})(?P<rest>.*)\n",
      "        \n",
      "  warnings.warn(str(e))\n",
      "/opt/hostedtoolcache/Python/3.9.21/x64/lib/python3.9/site-packages/arxiv_on_deck_2/latex_bib.py:132: UserWarning: Error processing bibitem\n",
      " item = \\bibitem{Dullemond2007}C.~P. {Dullemond}, D.~{Hollenbach}, I.~{Kamp}, and P.~{D'Alessio}, in: Protostars and Planets V,  eds. B.~{Reipurth}, D.~{Jewitt}, and K.~{Keil}, 2007, p. 555.\n",
      " regex = \n",
      "        \\\\bibitem(\\[[^\\[\\]]*?\\]){(?P<bibkey>[a-zA-Z0-9\\-\\+\\.\\S]+?)}(?P<authors>|([\\D]*?))(?P<year>[12][0-9]{3})(?P<rest>.*)\n",
      "        \n",
      "  warnings.warn(str(e))\n",
      "/opt/hostedtoolcache/Python/3.9.21/x64/lib/python3.9/site-packages/arxiv_on_deck_2/latex_bib.py:132: UserWarning: Error processing bibitem\n",
      " item = \\bibitem{Henning2013}T.~{Henning} and D.~{Semenov}, Chemical Reviews   113, 9016 (2013).\n",
      " regex = \n",
      "        \\\\bibitem(\\[[^\\[\\]]*?\\]){(?P<bibkey>[a-zA-Z0-9\\-\\+\\.\\S]+?)}(?P<authors>|([\\D]*?))(?P<year>[12][0-9]{3})(?P<rest>.*)\n",
      "        \n",
      "  warnings.warn(str(e))\n",
      "/opt/hostedtoolcache/Python/3.9.21/x64/lib/python3.9/site-packages/arxiv_on_deck_2/latex_bib.py:132: UserWarning: Error processing bibitem\n",
      " item = \\bibitem{Min2005}M.~{Min}, J.~W. {Hovenier}, and A.~{de Koter}, \\aap   432, 909 (2005).\n",
      " regex = \n",
      "        \\\\bibitem(\\[[^\\[\\]]*?\\]){(?P<bibkey>[a-zA-Z0-9\\-\\+\\.\\S]+?)}(?P<authors>|([\\D]*?))(?P<year>[12][0-9]{3})(?P<rest>.*)\n",
      "        \n",
      "  warnings.warn(str(e))\n",
      "/opt/hostedtoolcache/Python/3.9.21/x64/lib/python3.9/site-packages/arxiv_on_deck_2/latex_bib.py:132: UserWarning: Error processing bibitem\n",
      " item = \\bibitem{Molster2002}F.~J. {Molster}, L.~B.~F.~M. {Waters}, A.~G.~G.~M. {Tielens}, C.~{Koike}, and  H.~{Chihara}, \\aap   382, 241 (2002).\n",
      " regex = \n",
      "        \\\\bibitem(\\[[^\\[\\]]*?\\]){(?P<bibkey>[a-zA-Z0-9\\-\\+\\.\\S]+?)}(?P<authors>|([\\D]*?))(?P<year>[12][0-9]{3})(?P<rest>.*)\n",
      "        \n",
      "  warnings.warn(str(e))\n",
      "/opt/hostedtoolcache/Python/3.9.21/x64/lib/python3.9/site-packages/arxiv_on_deck_2/latex_bib.py:132: UserWarning: Error processing bibitem\n",
      " item = \\bibitem{Juhasz2010}A.~{Juh{á}sz} {\\em et~al.}, \\apj   721, 431 (2010).\n",
      " regex = \n",
      "        \\\\bibitem(\\[[^\\[\\]]*?\\]){(?P<bibkey>[a-zA-Z0-9\\-\\+\\.\\S]+?)}(?P<authors>|([\\D]*?))(?P<year>[12][0-9]{3})(?P<rest>.*)\n",
      "        \n",
      "  warnings.warn(str(e))\n",
      "/opt/hostedtoolcache/Python/3.9.21/x64/lib/python3.9/site-packages/arxiv_on_deck_2/latex_bib.py:132: UserWarning: Error processing bibitem\n",
      " item = \\bibitem{Boekel2005}R.~{van Boekel} {\\em et~al.}, \\aap   437, 189 (2005).\n",
      " regex = \n",
      "        \\\\bibitem(\\[[^\\[\\]]*?\\]){(?P<bibkey>[a-zA-Z0-9\\-\\+\\.\\S]+?)}(?P<authors>|([\\D]*?))(?P<year>[12][0-9]{3})(?P<rest>.*)\n",
      "        \n",
      "  warnings.warn(str(e))\n",
      "/opt/hostedtoolcache/Python/3.9.21/x64/lib/python3.9/site-packages/arxiv_on_deck_2/latex_bib.py:132: UserWarning: Error processing bibitem\n",
      " item = \\bibitem{Apai2005}D.~{Apai} {\\em et~al.}, Science   310, 834 (2005).\n",
      " regex = \n",
      "        \\\\bibitem(\\[[^\\[\\]]*?\\]){(?P<bibkey>[a-zA-Z0-9\\-\\+\\.\\S]+?)}(?P<authors>|([\\D]*?))(?P<year>[12][0-9]{3})(?P<rest>.*)\n",
      "        \n",
      "  warnings.warn(str(e))\n",
      "/opt/hostedtoolcache/Python/3.9.21/x64/lib/python3.9/site-packages/arxiv_on_deck_2/latex_bib.py:132: UserWarning: Error processing bibitem\n",
      " item = \\bibitem{Bouwman2008}J.~{Bouwman} {\\em et~al.}, \\apj   683, 479 (2008).\n",
      " regex = \n",
      "        \\\\bibitem(\\[[^\\[\\]]*?\\]){(?P<bibkey>[a-zA-Z0-9\\-\\+\\.\\S]+?)}(?P<authors>|([\\D]*?))(?P<year>[12][0-9]{3})(?P<rest>.*)\n",
      "        \n",
      "  warnings.warn(str(e))\n",
      "/opt/hostedtoolcache/Python/3.9.21/x64/lib/python3.9/site-packages/arxiv_on_deck_2/latex_bib.py:132: UserWarning: Error processing bibitem\n",
      " item = \\bibitem{Watson2009}D.~M. {Watson} {\\em et~al.}, \\apjs   180, 84 (2009).\n",
      " regex = \n",
      "        \\\\bibitem(\\[[^\\[\\]]*?\\]){(?P<bibkey>[a-zA-Z0-9\\-\\+\\.\\S]+?)}(?P<authors>|([\\D]*?))(?P<year>[12][0-9]{3})(?P<rest>.*)\n",
      "        \n",
      "  warnings.warn(str(e))\n",
      "/opt/hostedtoolcache/Python/3.9.21/x64/lib/python3.9/site-packages/arxiv_on_deck_2/latex_bib.py:132: UserWarning: Error processing bibitem\n",
      " item = \\bibitem{Fabian2000}D.~{Fabian}, C.~{J{ä}ger}, T.~{Henning}, J.~{Dorschner}, and H.~{Mutschke}, \\aap   364, 282 (2000).\n",
      " regex = \n",
      "        \\\\bibitem(\\[[^\\[\\]]*?\\]){(?P<bibkey>[a-zA-Z0-9\\-\\+\\.\\S]+?)}(?P<authors>|([\\D]*?))(?P<year>[12][0-9]{3})(?P<rest>.*)\n",
      "        \n",
      "  warnings.warn(str(e))\n",
      "/opt/hostedtoolcache/Python/3.9.21/x64/lib/python3.9/site-packages/arxiv_on_deck_2/latex_bib.py:132: UserWarning: Error processing bibitem\n",
      " item = \\bibitem{Jang2024a}H.~{Jang}, R.~{Waters}, I.~{Kamp}, and C.~P. {Dullemond}, \\aap   687, A275 (2024).\n",
      " regex = \n",
      "        \\\\bibitem(\\[[^\\[\\]]*?\\]){(?P<bibkey>[a-zA-Z0-9\\-\\+\\.\\S]+?)}(?P<authors>|([\\D]*?))(?P<year>[12][0-9]{3})(?P<rest>.*)\n",
      "        \n",
      "  warnings.warn(str(e))\n",
      "/opt/hostedtoolcache/Python/3.9.21/x64/lib/python3.9/site-packages/arxiv_on_deck_2/latex_bib.py:132: UserWarning: Error processing bibitem\n",
      " item = \\bibitem{Boekel2005b}R.~{van Boekel}, C.~P. {Dullemond}, and C.~{Dominik}, \\aap   441, 563 (2005).\n",
      " regex = \n",
      "        \\\\bibitem(\\[[^\\[\\]]*?\\]){(?P<bibkey>[a-zA-Z0-9\\-\\+\\.\\S]+?)}(?P<authors>|([\\D]*?))(?P<year>[12][0-9]{3})(?P<rest>.*)\n",
      "        \n",
      "  warnings.warn(str(e))\n",
      "/opt/hostedtoolcache/Python/3.9.21/x64/lib/python3.9/site-packages/arxiv_on_deck_2/latex_bib.py:132: UserWarning: Error processing bibitem\n",
      " item = \\bibitem{Juhasz2009}A.~{Juh{á}sz} {\\em et~al.}, \\apj   695, 1024 (2009).\n",
      " regex = \n",
      "        \\\\bibitem(\\[[^\\[\\]]*?\\]){(?P<bibkey>[a-zA-Z0-9\\-\\+\\.\\S]+?)}(?P<authors>|([\\D]*?))(?P<year>[12][0-9]{3})(?P<rest>.*)\n",
      "        \n",
      "  warnings.warn(str(e))\n",
      "/opt/hostedtoolcache/Python/3.9.21/x64/lib/python3.9/site-packages/arxiv_on_deck_2/latex_bib.py:132: UserWarning: Error processing bibitem\n",
      " item = \\bibitem{Foreman-Mackey2013}D.~{Foreman-Mackey}, D.~W. {Hogg}, D.~{Lang}, and J.~{Goodman}, \\pasp   125, 306 (2013).\n",
      " regex = \n",
      "        \\\\bibitem(\\[[^\\[\\]]*?\\]){(?P<bibkey>[a-zA-Z0-9\\-\\+\\.\\S]+?)}(?P<authors>|([\\D]*?))(?P<year>[12][0-9]{3})(?P<rest>.*)\n",
      "        \n",
      "  warnings.warn(str(e))\n",
      "/opt/hostedtoolcache/Python/3.9.21/x64/lib/python3.9/site-packages/arxiv_on_deck_2/latex_bib.py:132: UserWarning: Error processing bibitem\n",
      " item = \\bibitem{Charbonneau1995}P.~{Charbonneau}, \\apjs   101, 309 (1995).\n",
      " regex = \n",
      "        \\\\bibitem(\\[[^\\[\\]]*?\\]){(?P<bibkey>[a-zA-Z0-9\\-\\+\\.\\S]+?)}(?P<authors>|([\\D]*?))(?P<year>[12][0-9]{3})(?P<rest>.*)\n",
      "        \n",
      "  warnings.warn(str(e))\n",
      "/opt/hostedtoolcache/Python/3.9.21/x64/lib/python3.9/site-packages/arxiv_on_deck_2/latex_bib.py:132: UserWarning: Error processing bibitem\n",
      " item = \\bibitem{Gaia2023}{Gaia Collaboration} {\\em et~al.}, \\aap   674, A1 (2023).\n",
      " regex = \n",
      "        \\\\bibitem(\\[[^\\[\\]]*?\\]){(?P<bibkey>[a-zA-Z0-9\\-\\+\\.\\S]+?)}(?P<authors>|([\\D]*?))(?P<year>[12][0-9]{3})(?P<rest>.*)\n",
      "        \n",
      "  warnings.warn(str(e))\n",
      "/opt/hostedtoolcache/Python/3.9.21/x64/lib/python3.9/site-packages/arxiv_on_deck_2/latex_bib.py:132: UserWarning: Error processing bibitem\n",
      " item = \\bibitem{Keppler2018}M.~{Keppler} {\\em et~al.}, \\aap   617, A44 (2018).\n",
      " regex = \n",
      "        \\\\bibitem(\\[[^\\[\\]]*?\\]){(?P<bibkey>[a-zA-Z0-9\\-\\+\\.\\S]+?)}(?P<authors>|([\\D]*?))(?P<year>[12][0-9]{3})(?P<rest>.*)\n",
      "        \n",
      "  warnings.warn(str(e))\n",
      "/opt/hostedtoolcache/Python/3.9.21/x64/lib/python3.9/site-packages/arxiv_on_deck_2/latex_bib.py:132: UserWarning: Error processing bibitem\n",
      " item = \\bibitem{Haffert2019}S.~Y. {Haffert} {\\em et~al.}, Nature Astronomy   3, 749 (2019).\n",
      " regex = \n",
      "        \\\\bibitem(\\[[^\\[\\]]*?\\]){(?P<bibkey>[a-zA-Z0-9\\-\\+\\.\\S]+?)}(?P<authors>|([\\D]*?))(?P<year>[12][0-9]{3})(?P<rest>.*)\n",
      "        \n",
      "  warnings.warn(str(e))\n",
      "/opt/hostedtoolcache/Python/3.9.21/x64/lib/python3.9/site-packages/arxiv_on_deck_2/latex_bib.py:132: UserWarning: Error processing bibitem\n",
      " item = \\bibitem{Isella2019}A.~{Isella} {\\em et~al.}, \\apjl   879, L25 (2019).\n",
      " regex = \n",
      "        \\\\bibitem(\\[[^\\[\\]]*?\\]){(?P<bibkey>[a-zA-Z0-9\\-\\+\\.\\S]+?)}(?P<authors>|([\\D]*?))(?P<year>[12][0-9]{3})(?P<rest>.*)\n",
      "        \n",
      "  warnings.warn(str(e))\n",
      "/opt/hostedtoolcache/Python/3.9.21/x64/lib/python3.9/site-packages/arxiv_on_deck_2/latex_bib.py:132: UserWarning: Error processing bibitem\n",
      " item = \\bibitem{Benisty2021}M.~{Benisty} {\\em et~al.}, \\apjl   916, L2 (2021).\n",
      " regex = \n",
      "        \\\\bibitem(\\[[^\\[\\]]*?\\]){(?P<bibkey>[a-zA-Z0-9\\-\\+\\.\\S]+?)}(?P<authors>|([\\D]*?))(?P<year>[12][0-9]{3})(?P<rest>.*)\n",
      "        \n",
      "  warnings.warn(str(e))\n",
      "/opt/hostedtoolcache/Python/3.9.21/x64/lib/python3.9/site-packages/arxiv_on_deck_2/latex_bib.py:132: UserWarning: Error processing bibitem\n",
      " item = \\bibitem{Christiaens2024}V.~{Christiaens} {\\em et~al.}, \\aap   685, L1 (2024).\n",
      " regex = \n",
      "        \\\\bibitem(\\[[^\\[\\]]*?\\]){(?P<bibkey>[a-zA-Z0-9\\-\\+\\.\\S]+?)}(?P<authors>|([\\D]*?))(?P<year>[12][0-9]{3})(?P<rest>.*)\n",
      "        \n",
      "  warnings.warn(str(e))\n",
      "/opt/hostedtoolcache/Python/3.9.21/x64/lib/python3.9/site-packages/arxiv_on_deck_2/latex_bib.py:132: UserWarning: Error processing bibitem\n",
      " item = \\bibitem{Henning2024}T.~{Henning} {\\em et~al.}, \\pasp   136, 054302 (2024).\n",
      " regex = \n",
      "        \\\\bibitem(\\[[^\\[\\]]*?\\]){(?P<bibkey>[a-zA-Z0-9\\-\\+\\.\\S]+?)}(?P<authors>|([\\D]*?))(?P<year>[12][0-9]{3})(?P<rest>.*)\n",
      "        \n",
      "  warnings.warn(str(e))\n",
      "/opt/hostedtoolcache/Python/3.9.21/x64/lib/python3.9/site-packages/arxiv_on_deck_2/latex_bib.py:132: UserWarning: Error processing bibitem\n",
      " item = \\bibitem{Perotti2023}G.~{Perotti} {\\em et~al.}, Nature   620, 516 (2023).\n",
      " regex = \n",
      "        \\\\bibitem(\\[[^\\[\\]]*?\\]){(?P<bibkey>[a-zA-Z0-9\\-\\+\\.\\S]+?)}(?P<authors>|([\\D]*?))(?P<year>[12][0-9]{3})(?P<rest>.*)\n",
      "        \n",
      "  warnings.warn(str(e))\n",
      "/opt/hostedtoolcache/Python/3.9.21/x64/lib/python3.9/site-packages/arxiv_on_deck_2/latex_bib.py:132: UserWarning: Error processing bibitem\n",
      " item = \\bibitem{Keppler2019}M.~{Keppler} {\\em et~al.}, \\aap   625, A118 (2019).\n",
      " regex = \n",
      "        \\\\bibitem(\\[[^\\[\\]]*?\\]){(?P<bibkey>[a-zA-Z0-9\\-\\+\\.\\S]+?)}(?P<authors>|([\\D]*?))(?P<year>[12][0-9]{3})(?P<rest>.*)\n",
      "        \n",
      "  warnings.warn(str(e))\n",
      "/opt/hostedtoolcache/Python/3.9.21/x64/lib/python3.9/site-packages/arxiv_on_deck_2/latex_bib.py:132: UserWarning: Error processing bibitem\n",
      " item = \\bibitem{Argyriou2023}I.~{Argyriou} {\\em et~al.}, \\aap   675, A111 (2023).\n",
      " regex = \n",
      "        \\\\bibitem(\\[[^\\[\\]]*?\\]){(?P<bibkey>[a-zA-Z0-9\\-\\+\\.\\S]+?)}(?P<authors>|([\\D]*?))(?P<year>[12][0-9]{3})(?P<rest>.*)\n",
      "        \n",
      "  warnings.warn(str(e))\n",
      "/opt/hostedtoolcache/Python/3.9.21/x64/lib/python3.9/site-packages/arxiv_on_deck_2/latex_bib.py:132: UserWarning: Error processing bibitem\n",
      " item = \\bibitem{Flaherty2012}K.~M. {Flaherty} {\\em et~al.}, \\apj   748, 71 (2012).\n",
      " regex = \n",
      "        \\\\bibitem(\\[[^\\[\\]]*?\\]){(?P<bibkey>[a-zA-Z0-9\\-\\+\\.\\S]+?)}(?P<authors>|([\\D]*?))(?P<year>[12][0-9]{3})(?P<rest>.*)\n",
      "        \n",
      "  warnings.warn(str(e))\n",
      "/opt/hostedtoolcache/Python/3.9.21/x64/lib/python3.9/site-packages/arxiv_on_deck_2/latex_bib.py:132: UserWarning: Error processing bibitem\n",
      " item = \\bibitem{Flaherty2016}K.~M. {Flaherty} {\\em et~al.}, \\apj   833, 104 (2016).\n",
      " regex = \n",
      "        \\\\bibitem(\\[[^\\[\\]]*?\\]){(?P<bibkey>[a-zA-Z0-9\\-\\+\\.\\S]+?)}(?P<authors>|([\\D]*?))(?P<year>[12][0-9]{3})(?P<rest>.*)\n",
      "        \n",
      "  warnings.warn(str(e))\n",
      "/opt/hostedtoolcache/Python/3.9.21/x64/lib/python3.9/site-packages/arxiv_on_deck_2/latex_bib.py:132: UserWarning: Error processing bibitem\n",
      " item = \\bibitem{Jager2003}C.~{J{ä}ger}, J.~{Dorschner}, H.~{Mutschke}, T.~{Posch}, and T.~{Henning}, \\aap   408, 193 (2003).\n",
      " regex = \n",
      "        \\\\bibitem(\\[[^\\[\\]]*?\\]){(?P<bibkey>[a-zA-Z0-9\\-\\+\\.\\S]+?)}(?P<authors>|([\\D]*?))(?P<year>[12][0-9]{3})(?P<rest>.*)\n",
      "        \n",
      "  warnings.warn(str(e))\n",
      "/opt/hostedtoolcache/Python/3.9.21/x64/lib/python3.9/site-packages/arxiv_on_deck_2/latex_bib.py:132: UserWarning: Error processing bibitem\n",
      " item = \\bibitem{Dorschner1995}J.~{Dorschner}, B.~{Begemann}, T.~{Henning}, C.~{Jaeger}, and H.~{Mutschke}, \\aap   300, 503 (1995).\n",
      " regex = \n",
      "        \\\\bibitem(\\[[^\\[\\]]*?\\]){(?P<bibkey>[a-zA-Z0-9\\-\\+\\.\\S]+?)}(?P<authors>|([\\D]*?))(?P<year>[12][0-9]{3})(?P<rest>.*)\n",
      "        \n",
      "  warnings.warn(str(e))\n",
      "/opt/hostedtoolcache/Python/3.9.21/x64/lib/python3.9/site-packages/arxiv_on_deck_2/latex_bib.py:132: UserWarning: Error processing bibitem\n",
      " item = \\bibitem{Sogawa2006}H.~{Sogawa} {\\em et~al.}, \\aap   451, 357 (2006).\n",
      " regex = \n",
      "        \\\\bibitem(\\[[^\\[\\]]*?\\]){(?P<bibkey>[a-zA-Z0-9\\-\\+\\.\\S]+?)}(?P<authors>|([\\D]*?))(?P<year>[12][0-9]{3})(?P<rest>.*)\n",
      "        \n",
      "  warnings.warn(str(e))\n",
      "/opt/hostedtoolcache/Python/3.9.21/x64/lib/python3.9/site-packages/arxiv_on_deck_2/latex_bib.py:132: UserWarning: Error processing bibitem\n",
      " item = \\bibitem{Feroz2008}F.~{Feroz} and M.~P. {Hobson}, \\mnras   384, 449 (2008).\n",
      " regex = \n",
      "        \\\\bibitem(\\[[^\\[\\]]*?\\]){(?P<bibkey>[a-zA-Z0-9\\-\\+\\.\\S]+?)}(?P<authors>|([\\D]*?))(?P<year>[12][0-9]{3})(?P<rest>.*)\n",
      "        \n",
      "  warnings.warn(str(e))\n",
      "/opt/hostedtoolcache/Python/3.9.21/x64/lib/python3.9/site-packages/arxiv_on_deck_2/latex_bib.py:132: UserWarning: Error processing bibitem\n",
      " item = \\bibitem{Buchner2014}J.~{Buchner} {\\em et~al.}, \\aap   564, A125 (2014).\n",
      " regex = \n",
      "        \\\\bibitem(\\[[^\\[\\]]*?\\]){(?P<bibkey>[a-zA-Z0-9\\-\\+\\.\\S]+?)}(?P<authors>|([\\D]*?))(?P<year>[12][0-9]{3})(?P<rest>.*)\n",
      "        \n",
      "  warnings.warn(str(e))\n",
      "/opt/hostedtoolcache/Python/3.9.21/x64/lib/python3.9/site-packages/arxiv_on_deck_2/latex_bib.py:132: UserWarning: Error processing bibitem\n",
      " item = \\bibitem{Kaeufer2024b}T.~{Kaeufer}, P.~{Woitke}, I.~{Kamp}, J.~{Kanwar}, and M.~{Min}, \\aap   690, A100 (2024).\n",
      " regex = \n",
      "        \\\\bibitem(\\[[^\\[\\]]*?\\]){(?P<bibkey>[a-zA-Z0-9\\-\\+\\.\\S]+?)}(?P<authors>|([\\D]*?))(?P<year>[12][0-9]{3})(?P<rest>.*)\n",
      "        \n",
      "  warnings.warn(str(e))\n",
      "/opt/hostedtoolcache/Python/3.9.21/x64/lib/python3.9/site-packages/arxiv_on_deck_2/latex_bib.py:132: UserWarning: Error processing bibitem\n",
      " item = \\bibitem{2012A&A...539A.148B}T.~{Birnstiel}, H.~{Klahr}, and B.~{Ercolano}, \\aap   539, A148 (2012).\n",
      " regex = \n",
      "        \\\\bibitem(\\[[^\\[\\]]*?\\]){(?P<bibkey>[a-zA-Z0-9\\-\\+\\.\\S]+?)}(?P<authors>|([\\D]*?))(?P<year>[12][0-9]{3})(?P<rest>.*)\n",
      "        \n",
      "  warnings.warn(str(e))\n",
      "/opt/hostedtoolcache/Python/3.9.21/x64/lib/python3.9/site-packages/arxiv_on_deck_2/latex_bib.py:132: UserWarning: Error processing bibitem\n",
      " item = \\bibitem{Muller2018}A.~{M{ü}ller} {\\em et~al.}, \\aap   617, L2 (2018).\n",
      " regex = \n",
      "        \\\\bibitem(\\[[^\\[\\]]*?\\]){(?P<bibkey>[a-zA-Z0-9\\-\\+\\.\\S]+?)}(?P<authors>|([\\D]*?))(?P<year>[12][0-9]{3})(?P<rest>.*)\n",
      "        \n",
      "  warnings.warn(str(e))\n",
      "/opt/hostedtoolcache/Python/3.9.21/x64/lib/python3.9/site-packages/arxiv_on_deck_2/latex_bib.py:132: UserWarning: Error processing bibitem\n",
      " item = \\bibitem{Portilla2023}B.~{Portilla-Revelo} {\\em et~al.}, \\aap   677, A76 (2023).\n",
      " regex = \n",
      "        \\\\bibitem(\\[[^\\[\\]]*?\\]){(?P<bibkey>[a-zA-Z0-9\\-\\+\\.\\S]+?)}(?P<authors>|([\\D]*?))(?P<year>[12][0-9]{3})(?P<rest>.*)\n",
      "        \n",
      "  warnings.warn(str(e))\n",
      "/opt/hostedtoolcache/Python/3.9.21/x64/lib/python3.9/site-packages/arxiv_on_deck_2/latex_bib.py:132: UserWarning: Error processing bibitem\n",
      " item = \\bibitem{Abraham2009}P.~{{Á}brah{á}m} {\\em et~al.}, \\nat   459, 224 (2009).\n",
      " regex = \n",
      "        \\\\bibitem(\\[[^\\[\\]]*?\\]){(?P<bibkey>[a-zA-Z0-9\\-\\+\\.\\S]+?)}(?P<authors>|([\\D]*?))(?P<year>[12][0-9]{3})(?P<rest>.*)\n",
      "        \n",
      "  warnings.warn(str(e))\n",
      "/opt/hostedtoolcache/Python/3.9.21/x64/lib/python3.9/site-packages/arxiv_on_deck_2/latex_bib.py:132: UserWarning: Error processing bibitem\n",
      " item = \\bibitem{Harker2002}D.~E. {Harker} and S.~J. {Desch}, \\apjl   565, L109 (2002).\n",
      " regex = \n",
      "        \\\\bibitem(\\[[^\\[\\]]*?\\]){(?P<bibkey>[a-zA-Z0-9\\-\\+\\.\\S]+?)}(?P<authors>|([\\D]*?))(?P<year>[12][0-9]{3})(?P<rest>.*)\n",
      "        \n",
      "  warnings.warn(str(e))\n",
      "/opt/hostedtoolcache/Python/3.9.21/x64/lib/python3.9/site-packages/arxiv_on_deck_2/latex_bib.py:132: UserWarning: Error processing bibitem\n",
      " item = \\bibitem{Birnstiel2024}T.~{Birnstiel}, \\araa   62, 157 (2024).\n",
      " regex = \n",
      "        \\\\bibitem(\\[[^\\[\\]]*?\\]){(?P<bibkey>[a-zA-Z0-9\\-\\+\\.\\S]+?)}(?P<authors>|([\\D]*?))(?P<year>[12][0-9]{3})(?P<rest>.*)\n",
      "        \n",
      "  warnings.warn(str(e))\n",
      "/opt/hostedtoolcache/Python/3.9.21/x64/lib/python3.9/site-packages/arxiv_on_deck_2/latex_bib.py:132: UserWarning: Error processing bibitem\n",
      " item = \\bibitem{Alexander2014}R.~{Alexander}, I.~{Pascucci}, S.~{Andrews}, P.~{Armitage}, and L.~{Cieza}, in: Protostars and Planets VI,  eds. H.~{Beuther}, R.~S. {Klessen}, C.~P.  {Dullemond}, and T.~{Henning}, 2014, p. 475.\n",
      " regex = \n",
      "        \\\\bibitem(\\[[^\\[\\]]*?\\]){(?P<bibkey>[a-zA-Z0-9\\-\\+\\.\\S]+?)}(?P<authors>|([\\D]*?))(?P<year>[12][0-9]{3})(?P<rest>.*)\n",
      "        \n",
      "  warnings.warn(str(e))\n",
      "/opt/hostedtoolcache/Python/3.9.21/x64/lib/python3.9/site-packages/arxiv_on_deck_2/latex_bib.py:132: UserWarning: Error processing bibitem\n",
      " item = \\bibitem{Doi2024}K.~{Doi} {\\em et~al.}, \\apjl   974, L25 (2024).\n",
      " regex = \n",
      "        \\\\bibitem(\\[[^\\[\\]]*?\\]){(?P<bibkey>[a-zA-Z0-9\\-\\+\\.\\S]+?)}(?P<authors>|([\\D]*?))(?P<year>[12][0-9]{3})(?P<rest>.*)\n",
      "        \n",
      "  warnings.warn(str(e))\n",
      "/opt/hostedtoolcache/Python/3.9.21/x64/lib/python3.9/site-packages/arxiv_on_deck_2/latex_bib.py:132: UserWarning: Error processing bibitem\n",
      " item = \\bibitem{LiuH2024}H.~B. {Liu} {\\em et~al.}, \\apj   972, 163 (2024).\n",
      " regex = \n",
      "        \\\\bibitem(\\[[^\\[\\]]*?\\]){(?P<bibkey>[a-zA-Z0-9\\-\\+\\.\\S]+?)}(?P<authors>|([\\D]*?))(?P<year>[12][0-9]{3})(?P<rest>.*)\n",
      "        \n",
      "  warnings.warn(str(e))\n",
      "/opt/hostedtoolcache/Python/3.9.21/x64/lib/python3.9/site-packages/arxiv_on_deck_2/latex_bib.py:132: UserWarning: Error processing bibitem\n",
      " item = \\bibitem{Pinilla2024}P.~{Pinilla}, M.~{Benisty}, R.~{Waters}, J.~{Bae}, and S.~{Facchini}, \\aap   686, A135 (2024).\n",
      " regex = \n",
      "        \\\\bibitem(\\[[^\\[\\]]*?\\]){(?P<bibkey>[a-zA-Z0-9\\-\\+\\.\\S]+?)}(?P<authors>|([\\D]*?))(?P<year>[12][0-9]{3})(?P<rest>.*)\n",
      "        \n",
      "  warnings.warn(str(e))\n",
      "/opt/hostedtoolcache/Python/3.9.21/x64/lib/python3.9/site-packages/arxiv_on_deck_2/latex_bib.py:132: UserWarning: Error processing bibitem\n",
      " item = \\bibitem{Petrovic2024}H.~J. {Petrovic}, R.~A. {Booth}, and C.~J. {Clarke}, \\mnras   534, 2412 (2024).\n",
      " regex = \n",
      "        \\\\bibitem(\\[[^\\[\\]]*?\\]){(?P<bibkey>[a-zA-Z0-9\\-\\+\\.\\S]+?)}(?P<authors>|([\\D]*?))(?P<year>[12][0-9]{3})(?P<rest>.*)\n",
      "        \n",
      "  warnings.warn(str(e))\n",
      "/opt/hostedtoolcache/Python/3.9.21/x64/lib/python3.9/site-packages/arxiv_on_deck_2/latex_bib.py:132: UserWarning: Error processing bibitem\n",
      " item = \\bibitem{Sicilia-Aguilar2007}A.~{Sicilia-Aguilar} {\\em et~al.}, \\apj   659, 1637 (2007).\n",
      " regex = \n",
      "        \\\\bibitem(\\[[^\\[\\]]*?\\]){(?P<bibkey>[a-zA-Z0-9\\-\\+\\.\\S]+?)}(?P<authors>|([\\D]*?))(?P<year>[12][0-9]{3})(?P<rest>.*)\n",
      "        \n",
      "  warnings.warn(str(e))\n",
      "/opt/hostedtoolcache/Python/3.9.21/x64/lib/python3.9/site-packages/arxiv_on_deck_2/latex_bib.py:132: UserWarning: Error processing bibitem\n",
      " item = \\bibitem{Min2007}M.~{Min} {\\em et~al.}, \\aap   462, 667 (2007).\n",
      " regex = \n",
      "        \\\\bibitem(\\[[^\\[\\]]*?\\]){(?P<bibkey>[a-zA-Z0-9\\-\\+\\.\\S]+?)}(?P<authors>|([\\D]*?))(?P<year>[12][0-9]{3})(?P<rest>.*)\n",
      "        \n",
      "  warnings.warn(str(e))\n",
      "/opt/hostedtoolcache/Python/3.9.21/x64/lib/python3.9/site-packages/arxiv_on_deck_2/latex_bib.py:132: UserWarning: Error processing bibitem\n",
      " item = \\bibitem{Jang2024b}H.~{Jang} {\\em et~al.}, \\aap   691, A148 (2024).\n",
      " regex = \n",
      "        \\\\bibitem(\\[[^\\[\\]]*?\\]){(?P<bibkey>[a-zA-Z0-9\\-\\+\\.\\S]+?)}(?P<authors>|([\\D]*?))(?P<year>[12][0-9]{3})(?P<rest>.*)\n",
      "        \n",
      "  warnings.warn(str(e))\n",
      "/opt/hostedtoolcache/Python/3.9.21/x64/lib/python3.9/site-packages/arxiv_on_deck_2/latex_bib.py:132: UserWarning: Error processing bibitem\n",
      " item = \\bibitem{Kaeufer2024a}T.~{Kaeufer}, M.~{Min}, P.~{Woitke}, I.~{Kamp}, and A.~M. {Arabhavi}, \\aap   687, A209 (2024).\n",
      " regex = \n",
      "        \\\\bibitem(\\[[^\\[\\]]*?\\]){(?P<bibkey>[a-zA-Z0-9\\-\\+\\.\\S]+?)}(?P<authors>|([\\D]*?))(?P<year>[12][0-9]{3})(?P<rest>.*)\n",
      "        \n",
      "  warnings.warn(str(e))\n",
      "/opt/hostedtoolcache/Python/3.9.21/x64/lib/python3.9/site-packages/arxiv_on_deck_2/latex_bib.py:132: UserWarning: Error processing bibitem\n",
      " item = \\bibitem{Woitke2019}P.~{Woitke} {\\em et~al.}, \\pasp   131, 064301 (2019).\n",
      " regex = \n",
      "        \\\\bibitem(\\[[^\\[\\]]*?\\]){(?P<bibkey>[a-zA-Z0-9\\-\\+\\.\\S]+?)}(?P<authors>|([\\D]*?))(?P<year>[12][0-9]{3})(?P<rest>.*)\n",
      "        \n",
      "  warnings.warn(str(e))\n",
      "/opt/hostedtoolcache/Python/3.9.21/x64/lib/python3.9/site-packages/arxiv_on_deck_2/latex_bib.py:132: UserWarning: Error processing bibitem\n",
      " item = \\bibitem{Grimble2024}W.~{Grimble} {\\em et~al.}, \\apj   970, 137 (2024).\n",
      " regex = \n",
      "        \\\\bibitem(\\[[^\\[\\]]*?\\]){(?P<bibkey>[a-zA-Z0-9\\-\\+\\.\\S]+?)}(?P<authors>|([\\D]*?))(?P<year>[12][0-9]{3})(?P<rest>.*)\n",
      "        \n",
      "  warnings.warn(str(e))\n",
      "/opt/hostedtoolcache/Python/3.9.21/x64/lib/python3.9/site-packages/arxiv_on_deck_2/latex_bib.py:132: UserWarning: Error processing bibitem\n",
      " item = \\bibitem{Muzerolle2009}J.~{Muzerolle} {\\em et~al.}, \\apjl   704, L15 (2009).\n",
      " regex = \n",
      "        \\\\bibitem(\\[[^\\[\\]]*?\\]){(?P<bibkey>[a-zA-Z0-9\\-\\+\\.\\S]+?)}(?P<authors>|([\\D]*?))(?P<year>[12][0-9]{3})(?P<rest>.*)\n",
      "        \n",
      "  warnings.warn(str(e))\n",
      "/opt/hostedtoolcache/Python/3.9.21/x64/lib/python3.9/site-packages/arxiv_on_deck_2/latex_bib.py:132: UserWarning: Error processing bibitem\n",
      " item = \\bibitem{espaillat2011}C.~{Espaillat} {\\em et~al.}, \\apj   728, 49 (2011).\n",
      " regex = \n",
      "        \\\\bibitem(\\[[^\\[\\]]*?\\]){(?P<bibkey>[a-zA-Z0-9\\-\\+\\.\\S]+?)}(?P<authors>|([\\D]*?))(?P<year>[12][0-9]{3})(?P<rest>.*)\n",
      "        \n",
      "  warnings.warn(str(e))\n",
      "/opt/hostedtoolcache/Python/3.9.21/x64/lib/python3.9/site-packages/arxiv_on_deck_2/latex_bib.py:132: UserWarning: Error processing bibitem\n",
      " item = \\bibitem{Chiang1997}E.~I. {Chiang} and P.~{Goldreich}, \\apj   490, 368 (1997).\n",
      " regex = \n",
      "        \\\\bibitem(\\[[^\\[\\]]*?\\]){(?P<bibkey>[a-zA-Z0-9\\-\\+\\.\\S]+?)}(?P<authors>|([\\D]*?))(?P<year>[12][0-9]{3})(?P<rest>.*)\n",
      "        \n",
      "  warnings.warn(str(e))\n",
      "/opt/hostedtoolcache/Python/3.9.21/x64/lib/python3.9/site-packages/arxiv_on_deck_2/latex_bib.py:132: UserWarning: Error processing bibitem\n",
      " item = \\bibitem{Dullemond2001}C.~P. {Dullemond}, C.~{Dominik}, and A.~{Natta}, \\apj   560, 957 (2001).\n",
      " regex = \n",
      "        \\\\bibitem(\\[[^\\[\\]]*?\\]){(?P<bibkey>[a-zA-Z0-9\\-\\+\\.\\S]+?)}(?P<authors>|([\\D]*?))(?P<year>[12][0-9]{3})(?P<rest>.*)\n",
      "        \n",
      "  warnings.warn(str(e))\n",
      "/opt/hostedtoolcache/Python/3.9.21/x64/lib/python3.9/site-packages/arxiv_on_deck_2/latex_bib.py:132: UserWarning: Error processing bibitem\n",
      " item = \\bibitem{Mesa2019}D.~{Mesa} {\\em et~al.}, \\aap   632, A25 (2019).\n",
      " regex = \n",
      "        \\\\bibitem(\\[[^\\[\\]]*?\\]){(?P<bibkey>[a-zA-Z0-9\\-\\+\\.\\S]+?)}(?P<authors>|([\\D]*?))(?P<year>[12][0-9]{3})(?P<rest>.*)\n",
      "        \n",
      "  warnings.warn(str(e))\n",
      "/opt/hostedtoolcache/Python/3.9.21/x64/lib/python3.9/site-packages/arxiv_on_deck_2/latex_bib.py:132: UserWarning: Error processing bibitem\n",
      " item = \\bibitem{Dullemond2012}C.~P. {Dullemond} {\\em et~al.} {RADMC-3D: A multi-purpose radiative transfer tool}, 2012.\n",
      " regex = \n",
      "        \\\\bibitem(\\[[^\\[\\]]*?\\]){(?P<bibkey>[a-zA-Z0-9\\-\\+\\.\\S]+?)}(?P<authors>|([\\D]*?))(?P<year>[12][0-9]{3})(?P<rest>.*)\n",
      "        \n",
      "  warnings.warn(str(e))\n",
      "/opt/hostedtoolcache/Python/3.9.21/x64/lib/python3.9/site-packages/arxiv_on_deck_2/latex_bib.py:132: UserWarning: Error processing bibitem\n",
      " item = \\bibitem{Gregorio-Hetem1992}J.~{Gregorio-Hetem}, J.~R.~D. {Lepine}, G.~R. {Quast}, C.~A.~O. {Torres}, and  R.~{de La Reza}, \\aj   103, 549 (1992).\n",
      " regex = \n",
      "        \\\\bibitem(\\[[^\\[\\]]*?\\]){(?P<bibkey>[a-zA-Z0-9\\-\\+\\.\\S]+?)}(?P<authors>|([\\D]*?))(?P<year>[12][0-9]{3})(?P<rest>.*)\n",
      "        \n",
      "  warnings.warn(str(e))\n",
      "/opt/hostedtoolcache/Python/3.9.21/x64/lib/python3.9/site-packages/arxiv_on_deck_2/latex_bib.py:132: UserWarning: Error processing bibitem\n",
      " item = \\bibitem{Hashimoto2012}J.~{Hashimoto} {\\em et~al.}, \\apjl   758, L19 (2012).\n",
      " regex = \n",
      "        \\\\bibitem(\\[[^\\[\\]]*?\\]){(?P<bibkey>[a-zA-Z0-9\\-\\+\\.\\S]+?)}(?P<authors>|([\\D]*?))(?P<year>[12][0-9]{3})(?P<rest>.*)\n",
      "        \n",
      "  warnings.warn(str(e))\n",
      "/opt/hostedtoolcache/Python/3.9.21/x64/lib/python3.9/site-packages/arxiv_on_deck_2/latex_bib.py:132: UserWarning: Error processing bibitem\n",
      " item = \\bibitem{Facchini2021}S.~{Facchini} {\\em et~al.}, \\aj   162, 99 (2021).\n",
      " regex = \n",
      "        \\\\bibitem(\\[[^\\[\\]]*?\\]){(?P<bibkey>[a-zA-Z0-9\\-\\+\\.\\S]+?)}(?P<authors>|([\\D]*?))(?P<year>[12][0-9]{3})(?P<rest>.*)\n",
      "        \n",
      "  warnings.warn(str(e))\n",
      "/opt/hostedtoolcache/Python/3.9.21/x64/lib/python3.9/site-packages/arxiv_on_deck_2/latex_bib.py:132: UserWarning: Error processing bibitem\n",
      " item = \\bibitem{Gregorio-Hetem2002}J.~{Gregorio-Hetem} and A.~{Hetem}, \\mnras   336, 197 (2002).\n",
      " regex = \n",
      "        \\\\bibitem(\\[[^\\[\\]]*?\\]){(?P<bibkey>[a-zA-Z0-9\\-\\+\\.\\S]+?)}(?P<authors>|([\\D]*?))(?P<year>[12][0-9]{3})(?P<rest>.*)\n",
      "        \n",
      "  warnings.warn(str(e))\n",
      "/opt/hostedtoolcache/Python/3.9.21/x64/lib/python3.9/site-packages/arxiv_on_deck_2/latex_bib.py:132: UserWarning: Error processing bibitem\n",
      " item = \\bibitem{Dong2012}R.~{Dong} {\\em et~al.}, \\apj   760, 111 (2012).\n",
      " regex = \n",
      "        \\\\bibitem(\\[[^\\[\\]]*?\\]){(?P<bibkey>[a-zA-Z0-9\\-\\+\\.\\S]+?)}(?P<authors>|([\\D]*?))(?P<year>[12][0-9]{3})(?P<rest>.*)\n",
      "        \n",
      "  warnings.warn(str(e))\n",
      "/opt/hostedtoolcache/Python/3.9.21/x64/lib/python3.9/site-packages/arxiv_on_deck_2/latex_bib.py:132: UserWarning: Error processing bibitem\n",
      " item = \\bibitem{Dubrulle1995}B.~{Dubrulle}, G.~{Morfill}, and M.~{Sterzik}, \\icarus   114, 237 (1995).\n",
      " regex = \n",
      "        \\\\bibitem(\\[[^\\[\\]]*?\\]){(?P<bibkey>[a-zA-Z0-9\\-\\+\\.\\S]+?)}(?P<authors>|([\\D]*?))(?P<year>[12][0-9]{3})(?P<rest>.*)\n",
      "        \n",
      "  warnings.warn(str(e))\n",
      "/opt/hostedtoolcache/Python/3.9.21/x64/lib/python3.9/site-packages/arxiv_on_deck_2/latex_bib.py:132: UserWarning: Error processing bibitem\n",
      " item = \\bibitem{Dullemond2004}C.~P. {Dullemond} and C.~{Dominik}, \\aap   421, 1075 (2004).\n",
      " regex = \n",
      "        \\\\bibitem(\\[[^\\[\\]]*?\\]){(?P<bibkey>[a-zA-Z0-9\\-\\+\\.\\S]+?)}(?P<authors>|([\\D]*?))(?P<year>[12][0-9]{3})(?P<rest>.*)\n",
      "        \n",
      "  warnings.warn(str(e))\n",
      "/opt/hostedtoolcache/Python/3.9.21/x64/lib/python3.9/site-packages/arxiv_on_deck_2/latex_bib.py:132: UserWarning: Error processing bibitem\n",
      " item = \\bibitem{DAlessio2006}P.~{D'Alessio}, N.~{Calvet}, L.~{Hartmann}, R.~{Franco-Hern{á}ndez}, and  H.~{Serv{í}n}, \\apj   638, 314 (2006).\n",
      " regex = \n",
      "        \\\\bibitem(\\[[^\\[\\]]*?\\]){(?P<bibkey>[a-zA-Z0-9\\-\\+\\.\\S]+?)}(?P<authors>|([\\D]*?))(?P<year>[12][0-9]{3})(?P<rest>.*)\n",
      "        \n",
      "  warnings.warn(str(e))\n",
      "/opt/hostedtoolcache/Python/3.9.21/x64/lib/python3.9/site-packages/arxiv_on_deck_2/latex_bib.py:132: UserWarning: Error processing bibitem\n",
      " item = \\bibitem{Zubko1996}V.~G. {Zubko}, V.~{Mennella}, L.~{Colangeli}, and E.~{Bussoletti}, \\mnras   282, 1321 (1996).\n",
      " regex = \n",
      "        \\\\bibitem(\\[[^\\[\\]]*?\\]){(?P<bibkey>[a-zA-Z0-9\\-\\+\\.\\S]+?)}(?P<authors>|([\\D]*?))(?P<year>[12][0-9]{3})(?P<rest>.*)\n",
      "        \n",
      "  warnings.warn(str(e))\n",
      "/opt/hostedtoolcache/Python/3.9.21/x64/lib/python3.9/site-packages/arxiv_on_deck_2/latex_bib.py:132: UserWarning: Error processing bibitem\n",
      " item = \\bibitem{Mathis1977}J.~S. {Mathis}, W.~{Rumpl}, and K.~H. {Nordsieck}, \\apj   217, 425 (1977).\n",
      " regex = \n",
      "        \\\\bibitem(\\[[^\\[\\]]*?\\]){(?P<bibkey>[a-zA-Z0-9\\-\\+\\.\\S]+?)}(?P<authors>|([\\D]*?))(?P<year>[12][0-9]{3})(?P<rest>.*)\n",
      "        \n",
      "  warnings.warn(str(e))\n",
      "/opt/hostedtoolcache/Python/3.9.21/x64/lib/python3.9/site-packages/arxiv_on_deck_2/latex_bib.py:132: UserWarning: Error processing bibitem\n",
      " item = \\bibitem{Wolf2003}S.~{Wolf}, D.~L. {Padgett}, and K.~R. {Stapelfeldt}, \\apj   588, 373 (2003).\n",
      " regex = \n",
      "        \\\\bibitem(\\[[^\\[\\]]*?\\]){(?P<bibkey>[a-zA-Z0-9\\-\\+\\.\\S]+?)}(?P<authors>|([\\D]*?))(?P<year>[12][0-9]{3})(?P<rest>.*)\n",
      "        \n",
      "  warnings.warn(str(e))\n",
      "/opt/hostedtoolcache/Python/3.9.21/x64/lib/python3.9/site-packages/arxiv_on_deck_2/latex_bib.py:132: UserWarning: Error processing bibitem\n",
      " item = \\bibitem{liuy2012}Y.~{Liu}, D.~{Madlener}, S.~{Wolf}, H.~{Wang}, and J.~P. {Ruge}, \\aap   546, A7 (2012).\n",
      " regex = \n",
      "        \\\\bibitem(\\[[^\\[\\]]*?\\]){(?P<bibkey>[a-zA-Z0-9\\-\\+\\.\\S]+?)}(?P<authors>|([\\D]*?))(?P<year>[12][0-9]{3})(?P<rest>.*)\n",
      "        \n",
      "  warnings.warn(str(e))\n",
      "/opt/hostedtoolcache/Python/3.9.21/x64/lib/python3.9/site-packages/arxiv_on_deck_2/latex_bib.py:132: UserWarning: Error processing bibitem\n",
      " item = \\bibitem{Manara2023}C.~F. {Manara} {\\em et~al.}, in: Protostars and Planets VII,  eds. S.~{Inutsuka}, Y.~{Aikawa}, T.~{Muto},  K.~{Tomida}, and M.~{Tamura}, Vol. 534 of {\\em Astronomical Society of the  Pacific Conference Series}, 2023, p. 539.\n",
      " regex = \n",
      "        \\\\bibitem(\\[[^\\[\\]]*?\\]){(?P<bibkey>[a-zA-Z0-9\\-\\+\\.\\S]+?)}(?P<authors>|([\\D]*?))(?P<year>[12][0-9]{3})(?P<rest>.*)\n",
      "        \n",
      "  warnings.warn(str(e))\n",
      "/opt/hostedtoolcache/Python/3.9.21/x64/lib/python3.9/site-packages/arxiv_on_deck_2/latex_bib.py:132: UserWarning: Error processing bibitem\n",
      " item = \\bibitem{Andrews2013}S.~M. {Andrews}, K.~A. {Rosenfeld}, A.~L. {Kraus}, and D.~J. {Wilner}, \\apj   771, 129 (2013).\n",
      " regex = \n",
      "        \\\\bibitem(\\[[^\\[\\]]*?\\]){(?P<bibkey>[a-zA-Z0-9\\-\\+\\.\\S]+?)}(?P<authors>|([\\D]*?))(?P<year>[12][0-9]{3})(?P<rest>.*)\n",
      "        \n",
      "  warnings.warn(str(e))\n",
      "/opt/hostedtoolcache/Python/3.9.21/x64/lib/python3.9/site-packages/arxiv_on_deck_2/latex_bib.py:132: UserWarning: Error processing bibitem\n",
      " item = \\bibitem{Liu2024}Y.~{Liu} {\\em et~al.}, arXiv e-prints (2024).\n",
      " regex = \n",
      "        \\\\bibitem(\\[[^\\[\\]]*?\\]){(?P<bibkey>[a-zA-Z0-9\\-\\+\\.\\S]+?)}(?P<authors>|([\\D]*?))(?P<year>[12][0-9]{3})(?P<rest>.*)\n",
      "        \n",
      "  warnings.warn(str(e))\n",
      "/opt/hostedtoolcache/Python/3.9.21/x64/lib/python3.9/site-packages/arxiv_on_deck_2/latex_bib.py:132: UserWarning: Error processing bibitem\n",
      " item = \\bibitem{Fang2014}M.~{Fang} {\\em et~al.}, \\aap   570, A118 (2014).\n",
      " regex = \n",
      "        \\\\bibitem(\\[[^\\[\\]]*?\\]){(?P<bibkey>[a-zA-Z0-9\\-\\+\\.\\S]+?)}(?P<authors>|([\\D]*?))(?P<year>[12][0-9]{3})(?P<rest>.*)\n",
      "        \n",
      "  warnings.warn(str(e))\n",
      "/opt/hostedtoolcache/Python/3.9.21/x64/lib/python3.9/site-packages/arxiv_on_deck_2/latex_bib.py:132: UserWarning: Error processing bibitem\n",
      " item = \\bibitem{Ansdell2016}M.~{Ansdell} {\\em et~al.}, \\apj   828, 46 (2016).\n",
      " regex = \n",
      "        \\\\bibitem(\\[[^\\[\\]]*?\\]){(?P<bibkey>[a-zA-Z0-9\\-\\+\\.\\S]+?)}(?P<authors>|([\\D]*?))(?P<year>[12][0-9]{3})(?P<rest>.*)\n",
      "        \n",
      "  warnings.warn(str(e))\n",
      "/opt/hostedtoolcache/Python/3.9.21/x64/lib/python3.9/site-packages/arxiv_on_deck_2/latex_bib.py:132: UserWarning: Error processing bibitem\n",
      " item = \\bibitem{Ansdell2017}M.~{Ansdell} {\\em et~al.}, \\aj   153, 240 (2017).\n",
      " regex = \n",
      "        \\\\bibitem(\\[[^\\[\\]]*?\\]){(?P<bibkey>[a-zA-Z0-9\\-\\+\\.\\S]+?)}(?P<authors>|([\\D]*?))(?P<year>[12][0-9]{3})(?P<rest>.*)\n",
      "        \n",
      "  warnings.warn(str(e))\n",
      "/opt/hostedtoolcache/Python/3.9.21/x64/lib/python3.9/site-packages/arxiv_on_deck_2/latex_bib.py:132: UserWarning: Error processing bibitem\n",
      " item = \\bibitem{Miotello2023}A.~{Miotello}, I.~{Kamp}, T.~{Birnstiel}, L.~C. {Cleeves}, and A.~{Kataoka}, in: Protostars and Planets VII,  eds. S.~{Inutsuka}, Y.~{Aikawa}, T.~{Muto},  K.~{Tomida}, and M.~{Tamura}, Vol. 534 of {\\em Astronomical Society of the  Pacific Conference Series}, 2023, p. 501.\n",
      " regex = \n",
      "        \\\\bibitem(\\[[^\\[\\]]*?\\]){(?P<bibkey>[a-zA-Z0-9\\-\\+\\.\\S]+?)}(?P<authors>|([\\D]*?))(?P<year>[12][0-9]{3})(?P<rest>.*)\n",
      "        \n",
      "  warnings.warn(str(e))\n",
      "/opt/hostedtoolcache/Python/3.9.21/x64/lib/python3.9/site-packages/arxiv_on_deck_2/latex_bib.py:132: UserWarning: Error processing bibitem\n",
      " item = \\bibitem{Manara2019}C.~F. {Manara} {\\em et~al.}, \\aap   631, L2 (2019).\n",
      " regex = \n",
      "        \\\\bibitem(\\[[^\\[\\]]*?\\]){(?P<bibkey>[a-zA-Z0-9\\-\\+\\.\\S]+?)}(?P<authors>|([\\D]*?))(?P<year>[12][0-9]{3})(?P<rest>.*)\n",
      "        \n",
      "  warnings.warn(str(e))\n",
      "/opt/hostedtoolcache/Python/3.9.21/x64/lib/python3.9/site-packages/arxiv_on_deck_2/latex_bib.py:132: UserWarning: Error processing bibitem\n",
      " item = \\bibitem{Skinner2022}S.~L. {Skinner} and M.~{Audard}, \\apj   938, 134 (2022).\n",
      " regex = \n",
      "        \\\\bibitem(\\[[^\\[\\]]*?\\]){(?P<bibkey>[a-zA-Z0-9\\-\\+\\.\\S]+?)}(?P<authors>|([\\D]*?))(?P<year>[12][0-9]{3})(?P<rest>.*)\n",
      "        \n",
      "  warnings.warn(str(e))\n",
      "/opt/hostedtoolcache/Python/3.9.21/x64/lib/python3.9/site-packages/arxiv_on_deck_2/latex_bib.py:132: UserWarning: Error processing bibitem\n",
      " item = \\bibitem{Gaidos2024}E.~{Gaidos} {\\em et~al.}, \\apj   966, 167 (2024).\n",
      " regex = \n",
      "        \\\\bibitem(\\[[^\\[\\]]*?\\]){(?P<bibkey>[a-zA-Z0-9\\-\\+\\.\\S]+?)}(?P<authors>|([\\D]*?))(?P<year>[12][0-9]{3})(?P<rest>.*)\n",
      "        \n",
      "  warnings.warn(str(e))\n",
      "/opt/hostedtoolcache/Python/3.9.21/x64/lib/python3.9/site-packages/arxiv_on_deck_2/latex_bib.py:132: UserWarning: Error processing bibitem\n",
      " item = \\bibitem{Picogna2019}G.~{Picogna}, B.~{Ercolano}, J.~E. {Owen}, and M.~L. {Weber}, \\mnras   487, 691 (2019).\n",
      " regex = \n",
      "        \\\\bibitem(\\[[^\\[\\]]*?\\]){(?P<bibkey>[a-zA-Z0-9\\-\\+\\.\\S]+?)}(?P<authors>|([\\D]*?))(?P<year>[12][0-9]{3})(?P<rest>.*)\n",
      "        \n",
      "  warnings.warn(str(e))\n",
      "/opt/hostedtoolcache/Python/3.9.21/x64/lib/python3.9/site-packages/arxiv_on_deck_2/latex_bib.py:132: UserWarning: Error processing bibitem\n",
      " item = \\bibitem{Pascucci2023}I.~{Pascucci} {\\em et~al.}, in: Protostars and Planets VII,  eds. S.~{Inutsuka}, Y.~{Aikawa}, T.~{Muto},  K.~{Tomida}, and M.~{Tamura}, Vol. 534 of {\\em Astronomical Society of the  Pacific Conference Series}, 2023, p. 567.\n",
      " regex = \n",
      "        \\\\bibitem(\\[[^\\[\\]]*?\\]){(?P<bibkey>[a-zA-Z0-9\\-\\+\\.\\S]+?)}(?P<authors>|([\\D]*?))(?P<year>[12][0-9]{3})(?P<rest>.*)\n",
      "        \n",
      "  warnings.warn(str(e))\n",
      "/opt/hostedtoolcache/Python/3.9.21/x64/lib/python3.9/site-packages/arxiv_on_deck_2/latex_bib.py:132: UserWarning: Error processing bibitem\n",
      " item = \\bibitem{Fang2023}M.~{Fang} {\\em et~al.}, Nature Astronomy   7, 905 (2023).\n",
      " regex = \n",
      "        \\\\bibitem(\\[[^\\[\\]]*?\\]){(?P<bibkey>[a-zA-Z0-9\\-\\+\\.\\S]+?)}(?P<authors>|([\\D]*?))(?P<year>[12][0-9]{3})(?P<rest>.*)\n",
      "        \n",
      "  warnings.warn(str(e))\n",
      "/opt/hostedtoolcache/Python/3.9.21/x64/lib/python3.9/site-packages/arxiv_on_deck_2/latex_bib.py:132: UserWarning: Error processing bibitem\n",
      " item = \\bibitem{Perez2018}L.~M. {P{é}rez} {\\em et~al.}, \\apjl   869, L50 (2018).\n",
      " regex = \n",
      "        \\\\bibitem(\\[[^\\[\\]]*?\\]){(?P<bibkey>[a-zA-Z0-9\\-\\+\\.\\S]+?)}(?P<authors>|([\\D]*?))(?P<year>[12][0-9]{3})(?P<rest>.*)\n",
      "        \n",
      "  warnings.warn(str(e))\n",
      "/opt/hostedtoolcache/Python/3.9.21/x64/lib/python3.9/site-packages/arxiv_on_deck_2/latex_bib.py:132: UserWarning: Error processing bibitem\n",
      " item = \\bibitem{Bi2020}J.~{Bi} {\\em et~al.}, \\apjl   895, L18 (2020).\n",
      " regex = \n",
      "        \\\\bibitem(\\[[^\\[\\]]*?\\]){(?P<bibkey>[a-zA-Z0-9\\-\\+\\.\\S]+?)}(?P<authors>|([\\D]*?))(?P<year>[12][0-9]{3})(?P<rest>.*)\n",
      "        \n",
      "  warnings.warn(str(e))\n",
      "/opt/hostedtoolcache/Python/3.9.21/x64/lib/python3.9/site-packages/arxiv_on_deck_2/latex_bib.py:132: UserWarning: Error processing bibitem\n",
      " item = \\bibitem{Marino2015}S.~{Marino}, S.~{Perez}, and S.~{Casassus}, \\apjl   798, L44 (2015).\n",
      " regex = \n",
      "        \\\\bibitem(\\[[^\\[\\]]*?\\]){(?P<bibkey>[a-zA-Z0-9\\-\\+\\.\\S]+?)}(?P<authors>|([\\D]*?))(?P<year>[12][0-9]{3})(?P<rest>.*)\n",
      "        \n",
      "  warnings.warn(str(e))\n",
      "/opt/hostedtoolcache/Python/3.9.21/x64/lib/python3.9/site-packages/arxiv_on_deck_2/latex_bib.py:132: UserWarning: Error processing bibitem\n",
      " item = \\bibitem{Benisty2018}M.~{Benisty} {\\em et~al.}, \\aap   619, A171 (2018).\n",
      " regex = \n",
      "        \\\\bibitem(\\[[^\\[\\]]*?\\]){(?P<bibkey>[a-zA-Z0-9\\-\\+\\.\\S]+?)}(?P<authors>|([\\D]*?))(?P<year>[12][0-9]{3})(?P<rest>.*)\n",
      "        \n",
      "  warnings.warn(str(e))\n",
      "/opt/hostedtoolcache/Python/3.9.21/x64/lib/python3.9/site-packages/arxiv_on_deck_2/latex_bib.py:132: UserWarning: Error processing bibitem\n",
      " item = \\bibitem{Ansdell2020}M.~{Ansdell} {\\em et~al.}, \\mnras   492, 572 (2020).\n",
      " regex = \n",
      "        \\\\bibitem(\\[[^\\[\\]]*?\\]){(?P<bibkey>[a-zA-Z0-9\\-\\+\\.\\S]+?)}(?P<authors>|([\\D]*?))(?P<year>[12][0-9]{3})(?P<rest>.*)\n",
      "        \n",
      "  warnings.warn(str(e))\n",
      "/opt/hostedtoolcache/Python/3.9.21/x64/lib/python3.9/site-packages/arxiv_on_deck_2/latex_bib.py:132: UserWarning: Error processing bibitem\n",
      " item = \\bibitem{Whitney2013}B.~A. {Whitney} {\\em et~al.}, \\apjs   207, 30 (2013).\n",
      " regex = \n",
      "        \\\\bibitem(\\[[^\\[\\]]*?\\]){(?P<bibkey>[a-zA-Z0-9\\-\\+\\.\\S]+?)}(?P<authors>|([\\D]*?))(?P<year>[12][0-9]{3})(?P<rest>.*)\n",
      "        \n",
      "  warnings.warn(str(e))\n",
      "/opt/hostedtoolcache/Python/3.9.21/x64/lib/python3.9/site-packages/arxiv_on_deck_2/latex_bib.py:132: UserWarning: Error processing bibitem\n",
      " item = \\bibitem{Liu2022}Y.~{Liu}, M.~{Flock}, and M.~{Fang}, Science China Physics, Mechanics, and Astronomy   65, 269511 (2022).\\end{thebibliography}\n",
      " regex = \n",
      "        \\\\bibitem(\\[[^\\[\\]]*?\\]){(?P<bibkey>[a-zA-Z0-9\\-\\+\\.\\S]+?)}(?P<authors>|([\\D]*?))(?P<year>[12][0-9]{3})(?P<rest>.*)\n",
      "        \n",
      "  warnings.warn(str(e))\n"
     ]
    },
    {
     "name": "stdout",
     "output_type": "stream",
     "text": [
      "extracting tarball to tmp_2501.05944... done.\n",
      "Retrieving document from  https://arxiv.org/e-print/2501.06056\n"
     ]
    },
    {
     "name": "stdout",
     "output_type": "stream",
     "text": [
      "extracting tarball to tmp_2501.06056..."
     ]
    },
    {
     "name": "stdout",
     "output_type": "stream",
     "text": [
      " done.\n",
      "Retrieving document from  https://arxiv.org/e-print/2501.06075\n",
      "extracting tarball to tmp_2501.06075... done.\n"
     ]
    },
    {
     "name": "stderr",
     "output_type": "stream",
     "text": [
      "/opt/hostedtoolcache/Python/3.9.21/x64/lib/python3.9/site-packages/IPython/core/interactiveshell.py:3550: LatexWarning: Multiple tex files.\n",
      "\n",
      "  exec(code_obj, self.user_global_ns, self.user_ns)\n",
      "/opt/hostedtoolcache/Python/3.9.21/x64/lib/python3.9/site-packages/IPython/core/interactiveshell.py:3550: LatexWarning: Found documentclass in tmp_2501.06075/13hr_UVM2.tex\n",
      "\n",
      "  exec(code_obj, self.user_global_ns, self.user_ns)\n",
      "/opt/hostedtoolcache/Python/3.9.21/x64/lib/python3.9/site-packages/arxiv_on_deck_2/latex.py:414: LatexWarning: Latex injecting: 'source_table_5lines.tex' from 'tmp_2501.06075/source_table_5lines.tex'\n",
      "  warnings.warn(LatexWarning(f\"Latex injecting: '{ext}' from '{subsource}'\"))\n"
     ]
    }
   ],
   "source": [
    "documents = []\n",
    "failed = []\n",
    "for paper in tqdm(candidates):\n",
    "    # debug crap\n",
    "    paper['identifier'] = paper['identifier'].lower().replace('arxiv:', '').replace(r'\\n', '').strip()\n",
    "    paper_id = paper['identifier']\n",
    "    \n",
    "    folder = f'tmp_{paper_id}'\n",
    "\n",
    "    try:\n",
    "        if not os.path.isdir(folder):\n",
    "            folder = retrieve_document_source(f\"{paper_id}\", f'tmp_{paper_id}')\n",
    "        \n",
    "        try:\n",
    "            doc = latex.LatexDocument(folder, validation=validation)    \n",
    "        except AffiliationError as affilerror:\n",
    "            msg = f\"ArXiv:{paper_id:s} is not an MPIA paper... \" + str(affilerror)\n",
    "            failed.append((paper, \"affiliation error: \" + str(affilerror) ))\n",
    "            continue\n",
    "        \n",
    "        # Hack because sometimes author parsing does not work well\n",
    "        if (len(doc.authors) != len(paper['authors'])):\n",
    "            doc._authors = paper['authors']\n",
    "        else:\n",
    "            # highlight authors (FIXME: doc.highlight_authors)\n",
    "            # done on arxiv paper already\n",
    "            doc._authors = highlight_authors_in_list(\n",
    "                [get_initials(k) for k in doc.authors], \n",
    "                mpia_authors, verbose=True)\n",
    "        if (doc.abstract) in (None, ''):\n",
    "            doc._abstract = paper['abstract']\n",
    "            \n",
    "        doc.comment = (get_markdown_badge(paper_id) + \n",
    "                       \"<mark>Appeared on: \" + paper['date'] + \"</mark> - \")\n",
    "        if paper['comments']:\n",
    "            doc.comment += \" _\" + paper['comments'] + \"_\"\n",
    "        \n",
    "        full_md = doc.generate_markdown_text()\n",
    "        \n",
    "        full_md += get_markdown_qrcode(paper_id)\n",
    "        \n",
    "        # replace citations\n",
    "        try:\n",
    "            bibdata = latex_bib.LatexBib.from_doc(doc)\n",
    "            full_md = latex_bib.replace_citations(full_md, bibdata)\n",
    "        except Exception as e:\n",
    "            print(\"Issues with the citations\")\n",
    "            print(e)\n",
    "        \n",
    "        documents.append((paper_id, full_md))\n",
    "    except Exception as e:\n",
    "        warnings.warn(latex.LatexWarning(f\"{paper_id:s} did not run properly\\n\" +\n",
    "                                         str(e)\n",
    "                                        ))\n",
    "        failed.append((paper, \"latex error \" + str(e)))"
   ]
  },
  {
   "cell_type": "markdown",
   "id": "2505a25c",
   "metadata": {
    "papermill": {
     "duration": 0.004914,
     "end_time": "2025-01-13T04:12:49.135933",
     "exception": false,
     "start_time": "2025-01-13T04:12:49.131019",
     "status": "completed"
    },
    "tags": []
   },
   "source": [
    "### Export the logs\n",
    "\n",
    "Throughout, we also keep track of the logs per paper. see `logs-{today date}.md` "
   ]
  },
  {
   "cell_type": "code",
   "execution_count": 6,
   "id": "d733828a",
   "metadata": {
    "execution": {
     "iopub.execute_input": "2025-01-13T04:12:49.146591Z",
     "iopub.status.busy": "2025-01-13T04:12:49.146356Z",
     "iopub.status.idle": "2025-01-13T04:12:49.168350Z",
     "shell.execute_reply": "2025-01-13T04:12:49.167819Z"
    },
    "papermill": {
     "duration": 0.028533,
     "end_time": "2025-01-13T04:12:49.169313",
     "exception": false,
     "start_time": "2025-01-13T04:12:49.140780",
     "status": "completed"
    },
    "scrolled": false,
    "tags": []
   },
   "outputs": [
    {
     "data": {
      "text/markdown": [
       "## Successful papers"
      ],
      "text/plain": [
       "<IPython.core.display.Markdown object>"
      ]
     },
     "metadata": {},
     "output_type": "display_data"
    },
    {
     "data": {
      "text/markdown": [
       "\n",
       "|||\n",
       "|---:|:---|\n",
       "| [![arXiv](https://img.shields.io/badge/arXiv-2501.05521-b31b1b.svg)](https://arxiv.org/abs/2501.05521) | **The $\\texttt{MSG}$ model for cloudy substellar atmospheres: A grid of self-consistent substellar atmosphere models with microphysical cloud formation**  |\n",
       "|| <mark>B. C. Estrada</mark>, et al. |\n",
       "|*Appeared on*| *2025-01-13*|\n",
       "|*Comments*| *Accepted for publication in A&A*|\n",
       "|**Abstract**|            State-of-the-art JWST observations are unveiling unprecedented views into the atmospheres of substellar objects in the infrared, further highlighting the importance of clouds. Current forward models struggle to fit the silicate clouds absorption feature at ~$10\\,\\mu$m observed in substellar atmospheres. In the MSG model, we aim to couple the MARCS 1D radiative-convective equilibrium atmosphere model with the 1D kinetic, stationary, non-equilibrium, cloud formation model DRIFT, to create a new grid of self-consistent cloudy substellar atmosphere models with microphysical cloud formation. We aim to test if this new grid is able to reproduce the silicate cloud absorption feature at ~$10\\,\\mu$m. We model substellar atmospheres with effective temperatures in the range 1200-2500 K and with $\\log(g)=4.0$. We compute atmospheric structures that self-consistently account for condensate cloud opacities based on microphysical properties. We present an algorithm based on control theory to help converge such self-consistent models. Synthetic atmosphere spectra are computed for each model to explore the observable impact of the cloud microphysics. We additionally explore the impact of choosing different nucleation species (TiO$_2$ or SiO) and the effect of less efficient atmospheric mixing on these spectra. The new MSG cloudy grid using TiO$_2$ nucleation shows spectra which are redder in the near-infrared compared to the currently known population of substellar atmospheres. We find the models with SiO nucleation, and models with reduced mixing efficiency are less red in the near-infrared. The grid is unable to reproduce the silicate features similar to those found in recent JWST observations and Spitzer archival data. We thoroughly discuss further work that may better approximate the impact of convection in cloud-forming regions and steps that may help resolve the silicate cloud feature.         |"
      ],
      "text/plain": [
       "[2501.05521] The $\\texttt{MSG}$ model for cloudy substellar atmospheres: A grid of self-consistent substellar atmosphere models with microphysical cloud formation\n",
       "\t<mark>B. C. Estrada</mark>, et al."
      ]
     },
     "metadata": {},
     "output_type": "display_data"
    },
    {
     "data": {
      "text/markdown": [
       "\n",
       "|||\n",
       "|---:|:---|\n",
       "| [![arXiv](https://img.shields.io/badge/arXiv-2501.05807-b31b1b.svg)](https://arxiv.org/abs/2501.05807) | **The elderly among the oldest: new evidence for extremely metal-poor RR Lyrae stars**  |\n",
       "|| V. D'Orazi, et al. -- incl., <mark>N. Storm</mark> |\n",
       "|*Appeared on*| *2025-01-13*|\n",
       "|*Comments*| *Accepted for publication in Astronomy & Astrophysics; 13 pages. Appendices D-E available on Zenodo*|\n",
       "|**Abstract**|            We performed a detailed spectroscopic analysis of three extremely metal-poor RR Lyrae stars, exploring uncharted territories at these low metallicities for this class of stars. Using high-resolution spectra acquired with HARPS-N at TNG, UVES at VLT, and PEPSI at LBT, and employing Non-Local Thermodynamic Equilibrium (NLTE) spectral synthesis calculations, we provide abundance measurements for Fe, Al, Mg, Ca, Ti, Mn, and Sr. Our findings indicate that the stars have metallicities of [Fe/H] = -3.40 \\pm 0.05, -3.28 \\pm 0.02, and -2.77 \\pm 0.05 for HD 331986, DO Hya, and BPS CS 30317-056, respectively. Additionally, we derived their kinematic and dynamical properties to gain insights into their origins. Interestingly, the kinematics of one star (HD 331986) is consistent with the Galactic disc, while the others exhibit Galactic halo kinematics, albeit with distinct chemical signatures. We compared the [Al/Fe] and [Mg/Mn] ratios of the current targets with recent literature estimates to determine whether these stars were either accreted or formed in situ, finding that the adopted chemical diagnostics are ineffective at low metallicities ([Fe/H] $\\lesssim -$1.5). Finally, the established horizontal branch evolutionary models, indicating that these stars arrive at hotter temperatures on the Zero-Age Horizontal Branch (ZAHB) and then transition into RR Lyrae stars as they evolve, fully support the existence of such low-metallicity RR Lyrae stars. As a consequence, we can anticipate detecting more of them when larger samples of spectra become available from upcoming extensive observational campaigns.         |"
      ],
      "text/plain": [
       "[2501.05807] The elderly among the oldest: new evidence for extremely metal-poor RR Lyrae stars\n",
       "\tV. D'Orazi, et al. -- incl., <mark>N. Storm</mark>"
      ]
     },
     "metadata": {},
     "output_type": "display_data"
    },
    {
     "data": {
      "text/markdown": [
       "\n",
       "|||\n",
       "|---:|:---|\n",
       "| [![arXiv](https://img.shields.io/badge/arXiv-2501.05913-b31b1b.svg)](https://arxiv.org/abs/2501.05913) | **Dust processing in the terrestrial planet-forming region of the PDS 70 disk**  |\n",
       "|| Y. Liu, et al. -- incl., <mark>T. Henning</mark>, <mark>G. Perotti</mark> |\n",
       "|*Appeared on*| *2025-01-13*|\n",
       "|*Comments*| *12 pages, 5 figures, accepted for publication in SCIENCE CHINA Physics, Mechanics & Astronomy*|\n",
       "|**Abstract**|            Dust grains in protoplanetary disks are the building blocks of planets. Investigating the dust composition and size, and their variation over time, is crucial for understanding the planet formation process. The PDS 70 disk is so far the only protoplanetary disk with concrete evidence for the presence of young planets. Mid-infrared spectra were obtained for PDS 70 by the Infrared Spectrograph (IRS) on the Spitzer Space Telescope (SST) and the Mid-Infrared Instrument (MIRI) on the James Webb Space Telescope (JWST) in 2007 and 2022, respectively. In this work, we investigate the dust mineralogy through a detailed decomposition of the observed mid-infrared spectra. The results show that both the dust size and crystallinity increased by a factor of about two during the two epochs of observation, indicating evident dust processing in the terrestrial planet-forming region of the PDS 70 disk. The dust size (~0.8 micron) and crystallinity (~6%) in the PDS 70 disk are similar to those of other disks, which implies that the two nascent planets, PDS 70b and PDS 70c located at radial distances of ~22AU and ~34AU, do not have a significant impact on the dust processing in the inner disk. The flux densities at wavelengths longer than ~16 micron measured by JWST/MIRI are only ~60% of those obtained by Spitzer/IRS. Based on self-consistent radiative transfer modeling, we found that such a strong variability in mid-infrared fluxes can be produced by adjustments to the dust density distribution and structure of the inner disk probably induced by planet-disk interaction.         |"
      ],
      "text/plain": [
       "[2501.05913] Dust processing in the terrestrial planet-forming region of the PDS 70 disk\n",
       "\tY. Liu, et al. -- incl., <mark>T. Henning</mark>, <mark>G. Perotti</mark>"
      ]
     },
     "metadata": {},
     "output_type": "display_data"
    },
    {
     "data": {
      "text/markdown": [
       "## Failed papers"
      ],
      "text/plain": [
       "<IPython.core.display.Markdown object>"
      ]
     },
     "metadata": {},
     "output_type": "display_data"
    },
    {
     "data": {
      "text/markdown": [
       "\n",
       "|||\n",
       "|---:|:---|\n",
       "| [![arXiv](https://img.shields.io/badge/arXiv-2501.05725-b31b1b.svg)](https://arxiv.org/abs/2501.05725) | **Expanding Molecular Shell and Possible {\\gamma}-ray Source Associated with Supernova Remnant Kesteven 67**  |\n",
       "|| Y.-Z. Shen, et al. -- incl., <mark>X. Zhang</mark> |\n",
       "|*Appeared on*| *2025-01-13*|\n",
       "|*Comments*| *14 pages, 10 figures, accepted by MNRAS*|\n",
       "|**Abstract**|            We investigate the molecular environment of the supernova remnant (SNR) Kesteven 67 (G18.8+0.3) using observations in $^{12}$CO, $^{13}$CO, HCO$^+$,and HCN lines and possible associated $\\gamma$-ray emission using 16-yr Fermi-LAT observation. We find that the SNR is closely surrounded by a molecular belt in the southeastern boundary, with the both recessed in the band-like molecular gas structure along the Galactic plane. The asymmetric molecular line profiles are widely present in the surrounding gas around local-standard-of-rest velocity +20 km s$^{-1}$. The secondary components centered at $\\sim$+16km s$^{-1}$ in the belt and $\\sim$+26 km s$^{-1}$ in the northern clump can be ascribed to the motion of a wind-blown molecular shell. This explanation is supported by the position-velocity diagram along a line cutting across the remnant, which shows an arc-like pattern, suggesting an expanding gas structure. With the simulation of chemical effects of shock propagation, the abundance ratios $N$(HCO$^+$)/$N$($^{12}$CO) $\\sim2.6\\times 10^{-5}$--$3.6\\times 10^{-4}$ obtained in the belt can be more naturally interpreted by the wind-driven bubble shock than by the SNR shock. The belt and northern clump are very likely to be parts of an incomplete molecular shell of bubble driven by O-type progenitor star's wind. The analysis of 0.2--500 GeV $\\gamma$-ray emission uncovers a possible point source (`Source~A') about 6.5$\\sigma$ located in the north of the SNR, which essentially corresponds to northern molecular clump. Our spectral fit of the emission indicates that a hadronic origin is favored by the measured Galactic number ratio between CR electrons and protons $\\sim0.01$.         |\n",
       "|<p style=\"color:green\"> **ERROR** </p>| <p style=\"color:green\">affiliation error: mpia.affiliation_verifications: 'Heidelberg' keyword not found.</p> |"
      ],
      "text/plain": [
       "<IPython.core.display.Markdown object>"
      ]
     },
     "metadata": {},
     "output_type": "display_data"
    },
    {
     "data": {
      "text/markdown": [
       "\n",
       "|||\n",
       "|---:|:---|\n",
       "| [![arXiv](https://img.shields.io/badge/arXiv-2501.05875-b31b1b.svg)](https://arxiv.org/abs/2501.05875) | **BASSET: Bandpass-Adaptive Single-pulse SEarch Toolkit -- Optimized Sub-Band Pulse Search Strategies for Faint Narrow-Band FRBs**  |\n",
       "|| J.-H. Cao, et al. -- incl., <mark>J. Li</mark> |\n",
       "|*Appeared on*| *2025-01-13*|\n",
       "|*Comments*| *22 pages, 11 figures, submitted to ApJS*|\n",
       "|**Abstract**|            The existing single-pulse search algorithms for fast radio bursts (FRBs) do not adequately consider the frequency bandpass pattern of the pulse, rendering them incomplete for the relatively narrow-spectrum detection of pulses. We present a new search algorithm for narrow-band pulses to update the existing standard pipeline, Bandpass-Adaptive Single-pulse SEarch Toolkit (BASSET). The BASSET employs a time-frequency correlation analysis to identify and remove the noise involved by the zero-detection frequency band, thereby enhancing the signal-to-noise ratio (SNR) of the pulses. The BASSET algorithm was implemented on the FAST real dataset of FRB 20190520B, resulting in the discovery of additional 79 pulses through reprocessing. The new detection doubles the number of pulses compared to the previously known 75 pulses, bringing the total number of pulses to 154. In conjunction with the pulse calibration and the Markov Chain Monte Carlo (MCMC) simulated injection experiments, this work updates the quantified parameter space of the detection rate. Moreover, a parallel-accelerated version of the BASSET code was provided and evaluated through simulation. BASSET has the capacity of enhancing the detection sensitivity and the SNR of the narrow-band pulses from the existing pipeline, offering high performance and flexible applicability. BASSET not only enhances the completeness of the low-energy narrow-band pulse detection in a more robust mode, but also has the potential to further elucidate the FRB luminosity function at a wider energy scale.         |\n",
       "|<p style=\"color:green\"> **ERROR** </p>| <p style=\"color:green\">affiliation error: mpia.affiliation_verifications: 'Heidelberg' keyword not found.</p> |"
      ],
      "text/plain": [
       "<IPython.core.display.Markdown object>"
      ]
     },
     "metadata": {},
     "output_type": "display_data"
    },
    {
     "data": {
      "text/markdown": [
       "\n",
       "|||\n",
       "|---:|:---|\n",
       "| [![arXiv](https://img.shields.io/badge/arXiv-2501.05886-b31b1b.svg)](https://arxiv.org/abs/2501.05886) | **Estimating variability power spectra of active galaxies from irregular time series**  |\n",
       "|| M. Lefkir, et al. -- incl., <mark>S. Vaughan</mark> |\n",
       "|*Appeared on*| *2025-01-13*|\n",
       "|*Comments*| *21 pages, 16 figures, submitted to MNRAS, code available here: this https URL*|\n",
       "|**Abstract**|            A common feature of Active Galactic Nuclei (AGN) is their random variations in brightness across the whole emission spectrum, from radio to $\\gamma$-rays. Studying the nature and origin of these fluctuations is critical to characterising the underlying variability process of the accretion flow that powers AGN. Random timing fluctuations are often studied with the power spectrum; this quantifies how the amplitude of variations is distributed over temporal frequencies. Red noise variability -- when the power spectrum increases smoothly towards low frequencies -- is ubiquitous in AGN. The commonly used Fourier analysis methods, have significant challenges when applied to arbitrarily sampled light curves of red noise variability. Several time-domain methods exist to infer the power spectral shape in the case of irregular sampling but they suffer from biases which can be difficult to mitigate, or are computationally expensive. In this paper, we demonstrate a method infer the shape of broad-band power spectra for irregular time series, using a Gaussian process regression method scalable to large datasets. The power spectrum is modelled as a power-law model with one or two bends with flexible slopes. The method is fully Bayesian and we demonstrate its utility using simulated light curves. Finally, Ark 564, a well-known variable Seyfert 1 galaxy, is used as a test case and we find consistent results with the literature using independent X-ray data from XMM-Newton and Swift. We provide publicly available, documented and tested implementations in Python and Julia.         |\n",
       "|<p style=\"color:green\"> **ERROR** </p>| <p style=\"color:green\">affiliation error: mpia.affiliation_verifications: 'Heidelberg' keyword not found.</p> |"
      ],
      "text/plain": [
       "<IPython.core.display.Markdown object>"
      ]
     },
     "metadata": {},
     "output_type": "display_data"
    },
    {
     "data": {
      "text/markdown": [
       "\n",
       "|||\n",
       "|---:|:---|\n",
       "| [![arXiv](https://img.shields.io/badge/arXiv-2501.05944-b31b1b.svg)](https://arxiv.org/abs/2501.05944) | **Modeling the Saddle-like GeV-TeV Spectrum of HESS 1809-193: Gamma-Rays Arising from Reverse-Shocked Pulsar Wind Nebula?**  |\n",
       "|| J. Sun, et al. -- incl., <mark>X. Zhang</mark> |\n",
       "|*Appeared on*| *2025-01-13*|\n",
       "|*Comments*| *11 pages, 5 figures, to appear in ApJ*|\n",
       "|**Abstract**|            Evolution of pulsar wind nebulae (PWN) could be expected to leave imprints in gamma-rays. We suggest that intriguing GeV-TeV spectral energy distribution (SED) of HESS J1809-193 and Fermi-LAT source J1810.3-1925e is very likely to be the gamma-ray signature of PWN J1809-193 in light of the scenario that the PWN was struck by the reverse shock of the parent supernova remnant. Based on evolutionary theory of PWNe, we consider that, when the PWN was disrupted during collision by the reverse shock, some very high-energy electrons escaped impulsively. The remaining electrons stayed in the relic PWN, which was displaced from the pulsar. The very high-energy part of the remaining electrons were depleted by the strong magnetic field was enhanced by the reverse shock compression in the reverberation stage, leaving the other part of them generating GeV emission. The particles injected from the pulsar after the disruption enter the relic PWN through the newly formed tunnel called the cocoon. The {\\gamma}-ray emission from the escaped electrons can account for the TeV spectrum of component A of HESS J1809-193 or the TeV halo, while the electrons remaining after disruption can account for the GeV spectrum of J1810.3-1925e. Thus, combination of contributions from these two populations of electrons naturally reproduces the saddle-like SED of HESS 1809-193 and J1810.31925e from 5 GeV to 30 TeV, together with the spectral hardening around 100 GeV. We also show that the post-disruption injection of electrons can explain the spectrum of the relatively faint gamma-ray emission of component B of HESS J1809-193.         |\n",
       "|<p style=\"color:green\"> **ERROR** </p>| <p style=\"color:green\">affiliation error: mpia.affiliation_verifications: 'Heidelberg' keyword not found.</p> |"
      ],
      "text/plain": [
       "<IPython.core.display.Markdown object>"
      ]
     },
     "metadata": {},
     "output_type": "display_data"
    },
    {
     "data": {
      "text/markdown": [
       "\n",
       "|||\n",
       "|---:|:---|\n",
       "| [![arXiv](https://img.shields.io/badge/arXiv-2501.06056-b31b1b.svg)](https://arxiv.org/abs/2501.06056) | **Periodic Variability of the Central Stars of Planetary Nebulae Surveyed through the Zwicky Transient Facility**  |\n",
       "|| P. Chen, X. Fang, X. Chen, <mark>J. Liu</mark> |\n",
       "|*Appeared on*| *2025-01-13*|\n",
       "|*Comments*| *27 pages, 16 figures; Accepted for publication in ApJ*|\n",
       "|**Abstract**|            A consensus has been reached in recent years that binarity plays an important role in the formation and evolution of a significant fraction of planetary nebulae (PNe). Utilizing the archived photometric data from the Zwicky Transient Facility survey, we conducted a comprehensive data mining in search for brightness variations in a large sample of Galactic PNe. This effort leads to identification of 39 PNe, whose central stars exhibit periodic variation in light curves. Among these objects, 20 are known binary central stars of PNe, while the remaining 19 are new discoveries. Additionally, we identified 14 PNe with central stars displaying anomalous variation in light curves, as well as eight variables based on the high-cadence photometric data. Among the new discoveries of periodicity, we found compelling evidence of binary systems at the centres of two archetypal quadrupolar PNe. We also report on very peculiar brightness variation observed in the central core of the compact PN NGC6833. Several PNe in our sample deserve follow-up observations, both high-dispersion spectroscopy and high-precision photometry, to reveal the true nature of their central binarity or even multiplicity.         |\n",
       "|<p style=\"color:green\"> **ERROR** </p>| <p style=\"color:green\">affiliation error: mpia.affiliation_verifications: 'Heidelberg' keyword not found.</p> |"
      ],
      "text/plain": [
       "<IPython.core.display.Markdown object>"
      ]
     },
     "metadata": {},
     "output_type": "display_data"
    },
    {
     "data": {
      "text/markdown": [
       "\n",
       "|||\n",
       "|---:|:---|\n",
       "| [![arXiv](https://img.shields.io/badge/arXiv-2501.06075-b31b1b.svg)](https://arxiv.org/abs/2501.06075) | **The ultraviolet luminosity function of star-forming galaxies between redshifts of 0.4 and 0.6**  |\n",
       "|| M. J. Page, et al. -- incl., <mark>M. Sharma</mark> |\n",
       "|*Appeared on*| *2025-01-13*|\n",
       "|*Comments*| *Published in MNRAS*|\n",
       "|**Abstract**|            We combine ultraviolet imaging of the 13H survey field, taken with the XMM-Newton Optical Monitor telescope (XMM-OM) and the Neil Gehrels Swift Observatory Ultraviolet and Optical Telescope (UVOT) in the UVM2 band, to measure rest-frame ultraviolet 1500A luminosity functions of star-forming galaxies with redshifts between 0.4 and 0.6. In total the UVM2 imaging covers a sky area of 641 square arcmin, and we detect 273 galaxies in the UVM2 image with 0.4<z<0.6. The luminosity function is fit by a Schechter function with best-fit values for the faint end slope alpha = -1.8 +0.4 -0.3 and characteristic absolute magnitude M* = -19.1 +0.3 -0.4. In common with XMM-OM based studies at higher redshifts, our best-fitting value for M* is fainter than previous measurements. We argue that the purging of active galactic nuclei from the sample, facilitated by the co-spatial X-ray survey carried out with XMM-Newton is important for the determination of M*. At the brightest absolute magnitudes (M1500<-18.5) the average UV colour of our galaxies is consistent with that of minimal-extinction local analogues, but the average UV colour is redder for galaxies at fainter absolute magnitudes, suggesting that higher levels of dust attenuation enter the sample at absolute magnitudes somewhat fainter than M*.         |\n",
       "|<p style=\"color:green\"> **ERROR** </p>| <p style=\"color:green\">affiliation error: mpia.affiliation_verifications: 'Heidelberg' keyword not found.</p> |"
      ],
      "text/plain": [
       "<IPython.core.display.Markdown object>"
      ]
     },
     "metadata": {},
     "output_type": "display_data"
    }
   ],
   "source": [
    "import datetime\n",
    "today = str(datetime.date.today())\n",
    "logfile = f\"_build/html/logs/log-{today}.md\"\n",
    "\n",
    "\n",
    "with open(logfile, 'w') as logs:\n",
    "    # Success\n",
    "    logs.write(f'# Arxiv on Deck 2: Logs - {today}\\n\\n')\n",
    "    logs.write(\"\"\"* Arxiv had {0:,d} new papers\\n\"\"\".format(len(new_papers)))\n",
    "    logs.write(\"\"\"    * {0:,d} with possible author matches\\n\\n\"\"\".format(len(candidates)))\n",
    "    logs.write(\"## Sucessful papers\\n\\n\")\n",
    "    display(Markdown(\"## Successful papers\"))\n",
    "    success = [k[0] for k in documents]\n",
    "    for candid in candidates:\n",
    "        if candid['identifier'].split(':')[-1] in success:\n",
    "            display(candid)\n",
    "            logs.write(candid.generate_markdown_text() + '\\n\\n')\n",
    "\n",
    "    ## failed\n",
    "    logs.write(\"## Failed papers\\n\\n\")\n",
    "    display(Markdown(\"## Failed papers\"))\n",
    "    failed = sorted(failed, key=lambda x: x[1])\n",
    "    current_reason = \"\"\n",
    "    for paper, reason in failed:\n",
    "        if 'affiliation' in reason:\n",
    "            color = 'green'\n",
    "        else:\n",
    "            color = 'red'\n",
    "        data = Markdown(\n",
    "                paper.generate_markdown_text() + \n",
    "                f'\\n|<p style=\"color:{color:s}\"> **ERROR** </p>| <p style=\"color:{color:s}\">{reason:s}</p> |'\n",
    "               )\n",
    "        if reason != current_reason:\n",
    "            logs.write(f'### {reason:s} \\n\\n')\n",
    "            current_reason = reason\n",
    "        logs.write(data.data + '\\n\\n')\n",
    "        \n",
    "        # only display here the important errors (all in logs)\n",
    "        # if color in ('red',):\n",
    "        display(data)"
   ]
  },
  {
   "cell_type": "markdown",
   "id": "472d20ee",
   "metadata": {
    "papermill": {
     "duration": 0.005907,
     "end_time": "2025-01-13T04:12:49.181255",
     "exception": false,
     "start_time": "2025-01-13T04:12:49.175348",
     "status": "completed"
    },
    "tags": []
   },
   "source": [
    "## Export documents\n",
    "\n",
    "We now write the .md files and export relevant images"
   ]
  },
  {
   "cell_type": "code",
   "execution_count": 7,
   "id": "d426aed9",
   "metadata": {
    "execution": {
     "iopub.execute_input": "2025-01-13T04:12:49.194078Z",
     "iopub.status.busy": "2025-01-13T04:12:49.193766Z",
     "iopub.status.idle": "2025-01-13T04:12:49.200574Z",
     "shell.execute_reply": "2025-01-13T04:12:49.199927Z"
    },
    "papermill": {
     "duration": 0.014264,
     "end_time": "2025-01-13T04:12:49.201568",
     "exception": false,
     "start_time": "2025-01-13T04:12:49.187304",
     "status": "completed"
    },
    "tags": []
   },
   "outputs": [],
   "source": [
    "def export_markdown_summary(md: str, md_fname:str, directory: str):\n",
    "    \"\"\"Export MD document and associated relevant images\"\"\"\n",
    "    import os\n",
    "    import shutil\n",
    "    import re\n",
    "\n",
    "    if (os.path.exists(directory) and not os.path.isdir(directory)):\n",
    "        raise RuntimeError(f\"a non-directory file exists with name {directory:s}\")\n",
    "\n",
    "    if (not os.path.exists(directory)):\n",
    "        print(f\"creating directory {directory:s}\")\n",
    "        os.mkdir(directory)\n",
    "\n",
    "    fig_fnames = (re.compile(r'\\[Fig.*\\]\\((.*)\\)').findall(md) + \n",
    "                  re.compile(r'\\<img src=\"([^>\\s]*)\"[^>]*/>').findall(md))\n",
    "    print(\"found figures\", fig_fnames)\n",
    "    for fname in fig_fnames:\n",
    "        if 'http' in fname:\n",
    "            # No need to copy online figures\n",
    "            continue\n",
    "        if not os.path.exists(fname):\n",
    "            print(\"file not found\", fname)\n",
    "            continue\n",
    "        print(\"copying \", fname, \"to\", directory)\n",
    "        destdir = os.path.join(directory, os.path.dirname(fname))\n",
    "        destfname = os.path.join(destdir, os.path.basename(fname))\n",
    "        try:\n",
    "            os.makedirs(destdir)\n",
    "        except FileExistsError:\n",
    "            pass\n",
    "        shutil.copy(fname, destfname)\n",
    "    with open(os.path.join(directory, md_fname), 'w') as fout:\n",
    "        fout.write(md)\n",
    "    print(\"exported in \", os.path.join(directory, md_fname))\n",
    "    [print(\"    + \" + os.path.join(directory,fk)) for fk in fig_fnames]"
   ]
  },
  {
   "cell_type": "code",
   "execution_count": 8,
   "id": "014d04a4",
   "metadata": {
    "execution": {
     "iopub.execute_input": "2025-01-13T04:12:49.214497Z",
     "iopub.status.busy": "2025-01-13T04:12:49.214123Z",
     "iopub.status.idle": "2025-01-13T04:12:49.225865Z",
     "shell.execute_reply": "2025-01-13T04:12:49.225312Z"
    },
    "papermill": {
     "duration": 0.01921,
     "end_time": "2025-01-13T04:12:49.226813",
     "exception": false,
     "start_time": "2025-01-13T04:12:49.207603",
     "status": "completed"
    },
    "tags": []
   },
   "outputs": [
    {
     "name": "stdout",
     "output_type": "stream",
     "text": [
      "found figures ['tmp_2501.05521/./figures/p_vs_tau_TiO2.png', 'tmp_2501.05521/./figures/cloud_comp_TiO2.png', 'tmp_2501.05521/./figures/elem_TiO2.png', 'tmp_2501.05521/./figures/spectra_g4.00_TiO2_A.png', 'tmp_2501.05521/./figures/spectra_g4.00_TiO2_B.png', 'tmp_2501.05521/./figures/spectra_g4.00_TiO2_D.png', 'tmp_2501.05521/./figures/spectra_g4.00_TiO2_E.png', 'tmp_2501.05521/./figures/pt_profiles_TiO2_vs_SiO.png', 'tmp_2501.05521/./figures/cloud_size_nd_TiO2_vs_SiO.png', 'tmp_2501.05521/./figures/nucleation_rate_TiO2_vs_SiO.png']\n",
      "copying  tmp_2501.05521/./figures/p_vs_tau_TiO2.png to _build/html/\n",
      "copying  tmp_2501.05521/./figures/cloud_comp_TiO2.png to _build/html/\n",
      "copying  tmp_2501.05521/./figures/elem_TiO2.png to _build/html/\n",
      "copying  tmp_2501.05521/./figures/spectra_g4.00_TiO2_A.png to _build/html/\n",
      "copying  tmp_2501.05521/./figures/spectra_g4.00_TiO2_B.png to _build/html/\n",
      "copying  tmp_2501.05521/./figures/spectra_g4.00_TiO2_D.png to _build/html/\n",
      "copying  tmp_2501.05521/./figures/spectra_g4.00_TiO2_E.png to _build/html/\n",
      "copying  tmp_2501.05521/./figures/pt_profiles_TiO2_vs_SiO.png to _build/html/\n",
      "copying  tmp_2501.05521/./figures/cloud_size_nd_TiO2_vs_SiO.png to _build/html/\n",
      "copying  tmp_2501.05521/./figures/nucleation_rate_TiO2_vs_SiO.png to _build/html/\n",
      "exported in  _build/html/2501.05521.md\n",
      "    + _build/html/tmp_2501.05521/./figures/p_vs_tau_TiO2.png\n",
      "    + _build/html/tmp_2501.05521/./figures/cloud_comp_TiO2.png\n",
      "    + _build/html/tmp_2501.05521/./figures/elem_TiO2.png\n",
      "    + _build/html/tmp_2501.05521/./figures/spectra_g4.00_TiO2_A.png\n",
      "    + _build/html/tmp_2501.05521/./figures/spectra_g4.00_TiO2_B.png\n",
      "    + _build/html/tmp_2501.05521/./figures/spectra_g4.00_TiO2_D.png\n",
      "    + _build/html/tmp_2501.05521/./figures/spectra_g4.00_TiO2_E.png\n",
      "    + _build/html/tmp_2501.05521/./figures/pt_profiles_TiO2_vs_SiO.png\n",
      "    + _build/html/tmp_2501.05521/./figures/cloud_size_nd_TiO2_vs_SiO.png\n",
      "    + _build/html/tmp_2501.05521/./figures/nucleation_rate_TiO2_vs_SiO.png\n",
      "found figures ['tmp_2501.05807/./synthesys.jpeg', 'tmp_2501.05807/./CMD_VBI.png', 'tmp_2501.05807/./CMD_KVK.png', 'tmp_2501.05807/./MgMn_AlFe_GALAHDR4_two_panels.jpeg']\n",
      "copying  tmp_2501.05807/./synthesys.jpeg to _build/html/\n",
      "copying  tmp_2501.05807/./CMD_VBI.png to _build/html/\n",
      "copying  tmp_2501.05807/./CMD_KVK.png to _build/html/\n",
      "copying  tmp_2501.05807/./MgMn_AlFe_GALAHDR4_two_panels.jpeg to _build/html/\n",
      "exported in  _build/html/2501.05807.md\n",
      "    + _build/html/tmp_2501.05807/./synthesys.jpeg\n",
      "    + _build/html/tmp_2501.05807/./CMD_VBI.png\n",
      "    + _build/html/tmp_2501.05807/./CMD_KVK.png\n",
      "    + _build/html/tmp_2501.05807/./MgMn_AlFe_GALAHDR4_two_panels.jpeg\n",
      "found figures ['tmp_2501.05913/./figure2.png', 'tmp_2501.05913/./figure4.png', 'tmp_2501.05913/./figure1.png']\n",
      "copying  tmp_2501.05913/./figure2.png to _build/html/\n",
      "copying  tmp_2501.05913/./figure4.png to _build/html/\n",
      "copying  tmp_2501.05913/./figure1.png to _build/html/\n",
      "exported in  _build/html/2501.05913.md\n",
      "    + _build/html/tmp_2501.05913/./figure2.png\n",
      "    + _build/html/tmp_2501.05913/./figure4.png\n",
      "    + _build/html/tmp_2501.05913/./figure1.png\n"
     ]
    }
   ],
   "source": [
    "for paper_id, md in documents:\n",
    "    export_markdown_summary(md, f\"{paper_id:s}.md\", '_build/html/')"
   ]
  },
  {
   "cell_type": "markdown",
   "id": "f087a0a7",
   "metadata": {
    "papermill": {
     "duration": 0.006093,
     "end_time": "2025-01-13T04:12:49.239201",
     "exception": false,
     "start_time": "2025-01-13T04:12:49.233108",
     "status": "completed"
    },
    "tags": []
   },
   "source": [
    "## Display the papers\n",
    "\n",
    "Not necessary but allows for a quick check."
   ]
  },
  {
   "cell_type": "code",
   "execution_count": 9,
   "id": "fd25f625",
   "metadata": {
    "execution": {
     "iopub.execute_input": "2025-01-13T04:12:49.252042Z",
     "iopub.status.busy": "2025-01-13T04:12:49.251864Z",
     "iopub.status.idle": "2025-01-13T04:12:49.258745Z",
     "shell.execute_reply": "2025-01-13T04:12:49.258113Z"
    },
    "papermill": {
     "duration": 0.014503,
     "end_time": "2025-01-13T04:12:49.259753",
     "exception": false,
     "start_time": "2025-01-13T04:12:49.245250",
     "status": "completed"
    },
    "scrolled": false,
    "tags": []
   },
   "outputs": [
    {
     "data": {
      "text/markdown": [
       "<div class=\"macros\" style=\"visibility:hidden;\">\n",
       "$\\newcommand{\\ensuremath}{}$\n",
       "$\\newcommand{\\xspace}{}$\n",
       "$\\newcommand{\\object}[1]{\\texttt{#1}}$\n",
       "$\\newcommand{\\farcs}{{.}''}$\n",
       "$\\newcommand{\\farcm}{{.}'}$\n",
       "$\\newcommand{\\arcsec}{''}$\n",
       "$\\newcommand{\\arcmin}{'}$\n",
       "$\\newcommand{\\ion}[2]{#1#2}$\n",
       "$\\newcommand{\\textsc}[1]{\\textrm{#1}}$\n",
       "$\\newcommand{\\hl}[1]{\\textrm{#1}}$\n",
       "$\\newcommand{\\footnote}[1]{}$\n",
       "$\\newcommand{\\dal}[1]{\\textcolor{purple}{#1^{(DAL)}}}$\n",
       "$\\newcommand{\\Teff}{T_{\\rm{eff}}}$\n",
       "$\\newcommand{\\PT}{P_{\\mathrm{gas}}-T_{\\mathrm{gas}}}$\n",
       "$\\newcommand{\\arraystretch}{1.2}$\n",
       "$\\newcommand{\\arraystretch}{1.2}$\n",
       "$\\newcommand{\\arraystretch}{1.2}$</div>\n",
       "\n",
       "\n",
       "\n",
       "<div id=\"title\">\n",
       "\n",
       "# The \\texttt{MSG} model for cloudy substellar atmospheres:: A grid of self-consistent substellar atmosphere models with microphysical cloud formation\n",
       "\n",
       "</div>\n",
       "<div id=\"comments\">\n",
       "\n",
       "[![arXiv](https://img.shields.io/badge/arXiv-2501.05521-b31b1b.svg)](https://arxiv.org/abs/2501.05521)<mark>Appeared on: 2025-01-13</mark> -  _Accepted for publication in A&A_\n",
       "\n",
       "</div>\n",
       "<div id=\"authors\">\n",
       "\n",
       "<mark>B. C. Estrada</mark>, et al.\n",
       "\n",
       "</div>\n",
       "<div id=\"abstract\">\n",
       "\n",
       "**Abstract:** State-of-the-art JWST observations are unveiling unprecedented views into the atmospheres of substellar objects in the infrared, further highlighting the importance of clouds. Current forward models struggle to fit the silicate clouds absorption feature at $\\sim10 \\mu$ m observed in substellar atmospheres. In the \\texttt{MSG} model, we aim to couple the \\texttt{MARCS} 1D radiative-convective equilibrium atmosphere model with the 1D kinetic, stationary, non-equilibrium, cloud formation model \\texttt{DRIFT} , also known as \\texttt{StaticWeather} , to create a new grid of self-consistent cloudy substellar atmosphere models with microphysical cloud formation. We aim to test if this new grid is able to reproduce the silicate cloud absorption feature at $\\sim10 \\mu$ m. We model substellar atmospheres with effective temperatures in the range $T_{\\rm{eff}}$ = 1200-2500 K and with $\\log(g)=4.0$ . We compute atmospheric structures that self-consistently account for condensate cloud opacities based on microphysical properties. We present an algorithm based on control theory to help converge such self-consistent models. Synthetic atmosphere spectra are computed for each model to explore the observable impact of the cloud microphysics. We additionally explore the impact of choosing different nucleation species ( $\\ce{TiO2}$ or $\\ce{SiO}$ ) and the effect of less efficient atmospheric mixing on these spectra. The new \\texttt{MSG} cloudy grid using $\\ce{TiO2}$ nucleation shows spectra which are redder in the near-infrared compared to the currently known population of substellar atmospheres. We find the models with $\\ce{SiO}$ nucleation, and models with reduced mixing efficiency are less red in the near-infrared. We present a new grid of \\texttt{MSG} models for cloudy substellar atmospheres that include cloud-radiative feedback from microphysical clouds. The grid is unable to reproduce the silicate features similar to those found in recent JWST observations and _Spitzer_ archival data. We thoroughly discuss further work that may better approximate the impact of convection in cloud-forming regions and steps that may help resolve the silicate cloud feature.\n",
       "\n",
       "</div>\n",
       "\n",
       "<div id=\"div_fig1\">\n",
       "\n",
       "<img src=\"tmp_2501.05521/./figures/p_vs_tau_TiO2.png\" alt=\"Fig8.1\" width=\"33%\"/><img src=\"tmp_2501.05521/./figures/cloud_comp_TiO2.png\" alt=\"Fig8.2\" width=\"33%\"/><img src=\"tmp_2501.05521/./figures/elem_TiO2.png\" alt=\"Fig8.3\" width=\"33%\"/>\n",
       "\n",
       "**Figure 8. -** **Left:** The optical depth of the cloud (orange), gas (blue), and the total (green) throughout the atmosphere at $\\lambda \\approx 1.1  \\mu$m (solid curves) and $\\lambda \\approx 10.0  \\mu$m (dashed curves), for a \\texttt{MSG} model with $TiO_2$ nucleation, at 1500 K and $\\log(g)=4.0$. The $\\tau=1.0$ level is shown for reference (dot-dash red curve). **Middle and right:** Composition of the cloud particles in units of volume fractions $V_s/V_{\\mathrm{tot}}$(middle) and the relative gas-phase element depletions $\\epsilon_i/ \\epsilon_i^0$(right) for the same model as in the left panel.  (*fig:cloud_comp_TiO2*)\n",
       "\n",
       "</div>\n",
       "<div id=\"div_fig2\">\n",
       "\n",
       "<img src=\"tmp_2501.05521/./figures/spectra_g4.00_TiO2_A.png\" alt=\"Fig9.1\" width=\"25%\"/><img src=\"tmp_2501.05521/./figures/spectra_g4.00_TiO2_B.png\" alt=\"Fig9.2\" width=\"25%\"/><img src=\"tmp_2501.05521/./figures/spectra_g4.00_TiO2_D.png\" alt=\"Fig9.3\" width=\"25%\"/><img src=\"tmp_2501.05521/./figures/spectra_g4.00_TiO2_E.png\" alt=\"Fig9.4\" width=\"25%\"/>\n",
       "\n",
       "**Figure 9. -** Synthetic spectra of \\texttt{MSG} models with $TiO_2$ nucleation at $T_{\\rm{eff}}$$=$ 2400 K (blue), 2100 K (orange), 1800 K (green) and 1500 K (pink), with $\\log(g)=4.0$, and the respective cloud-free spectra at the same $T_{\\rm{eff}}$ and $\\log(g)$ in grey. The emergent fluxes are normalised with respect to the cloud-free \\texttt{MSG} spectra, i.e. $F_{\\mathrm{norm}}(\\lambda) = F_{\\mathrm{cloudy}}(\\lambda) / F^{\\mathrm{max}}_{\\mathrm{cloud-free}}$, where $F_{\\mathrm{norm}}$ is the normalised flux, $F_{\\mathrm{cloudy}}$ the flux from the cloudy model, and $F^{\\mathrm{max}}_{\\mathrm{cloud-free}}$ the maximum flux from the cloud-free model within the full wavelength range considered ($\\sim$ 0.4$ \\mu$m - 20.0$ \\mu$m). An arbitrary offset is added for clarity. In the top-left plots we show the NIR range, in the top-right the Y and J bands, in the bottom-left the MIR and the bottom-right the thermal infrared. Important absorbers are respectively labelled. (*fig:spectra_TiO2*)\n",
       "\n",
       "</div>\n",
       "<div id=\"div_fig3\">\n",
       "\n",
       "<img src=\"tmp_2501.05521/./figures/pt_profiles_TiO2_vs_SiO.png\" alt=\"Fig11.1\" width=\"33%\"/><img src=\"tmp_2501.05521/./figures/cloud_size_nd_TiO2_vs_SiO.png\" alt=\"Fig11.2\" width=\"33%\"/><img src=\"tmp_2501.05521/./figures/nucleation_rate_TiO2_vs_SiO.png\" alt=\"Fig11.3\" width=\"33%\"/>\n",
       "\n",
       "**Figure 11. -** **Left**: Pressure-temperature profiles for \\texttt{MSG} models at $T_{\\rm{eff}}=$ 1500 K and $\\log(g)=4.0$ with \\ce{TiO2} nucleation (blue dashed curve) and \\ce{SiO} nucleation (orange solid curve). Convective zones are plotted with thicker lines while radiative zones are plotted with thinner lines. **Middle:** The average cloud particle size (solid curves) and the cloud particle number density (dashed curves) for the models shown on the left. **Right:** The nucleation rates for \\texttt{MSG} models at $T_{\\rm{eff}}$$=$ 1500 K and $\\log(g)=4.0$ with \\ce{TiO2} nucleation (blue curve) and \\ce{SiO} nucleation (orange curve). (*fig:pt_SiO*)\n",
       "\n",
       "</div><div id=\"qrcode\"><img src=https://api.qrserver.com/v1/create-qr-code/?size=100x100&data=\"https://arxiv.org/abs/2501.05521\"></div>"
      ],
      "text/plain": [
       "<IPython.core.display.Markdown object>"
      ]
     },
     "metadata": {},
     "output_type": "display_data"
    },
    {
     "data": {
      "text/markdown": [
       "<div class=\"macros\" style=\"visibility:hidden;\">\n",
       "$\\newcommand{\\ensuremath}{}$\n",
       "$\\newcommand{\\xspace}{}$\n",
       "$\\newcommand{\\object}[1]{\\texttt{#1}}$\n",
       "$\\newcommand{\\farcs}{{.}''}$\n",
       "$\\newcommand{\\farcm}{{.}'}$\n",
       "$\\newcommand{\\arcsec}{''}$\n",
       "$\\newcommand{\\arcmin}{'}$\n",
       "$\\newcommand{\\ion}[2]{#1#2}$\n",
       "$\\newcommand{\\textsc}[1]{\\textrm{#1}}$\n",
       "$\\newcommand{\\hl}[1]{\\textrm{#1}}$\n",
       "$\\newcommand{\\footnote}[1]{}$\n",
       "$\\newcommand{\\teff}{T_{\\text{eff}}}$</div>\n",
       "\n",
       "\n",
       "\n",
       "<div id=\"title\">\n",
       "\n",
       "# The elderly among the oldest: new evidence for extremely metal-poor RR Lyrae stars$\\thanks{Based on observations acquired at the Telescopio Nazionale Galileo under program A43DDT3, on a DDT program with PEPSI at LBT (2021-2022, PI Crestani) and on VLT ESO programs 69.C-0423(A) and 165.N-0276(A).}$\n",
       "\n",
       "</div>\n",
       "<div id=\"comments\">\n",
       "\n",
       "[![arXiv](https://img.shields.io/badge/arXiv-2501.05807-b31b1b.svg)](https://arxiv.org/abs/2501.05807)<mark>Appeared on: 2025-01-13</mark> -  _Accepted for publication in Astronomy & Astrophysics; 13 pages. Appendices D-E available on Zenodo_\n",
       "\n",
       "</div>\n",
       "<div id=\"authors\">\n",
       "\n",
       "V. D'Orazi, et al. -- incl., <mark>N. Storm</mark>\n",
       "\n",
       "</div>\n",
       "<div id=\"abstract\">\n",
       "\n",
       "**Abstract:** We performed a detailed spectroscopic analysis of three extremely metal-poor RR Lyrae stars, exploring uncharted territories at these low metallicities for this class of stars. Using high-resolution spectra acquired with HARPS-N at TNG, UVES at VLT and PEPSI at LBT, and employing non-LTE spectral synthesis calculations, we provide abundance measurements for Fe, Al, Mg, Ca, Ti, Mn, and Sr.  Our findings indicate that the stars have metallicities of [ Fe/H ] = $-3.40 \\pm 0.05$ , $-3.28 \\pm 0.02$ , and $-2.77 \\pm 0.05$ for HD 331986, DO Hya, and BPS CS 30317-056, respectively. Additionally, we derived their kinematic and dynamical properties to gain insights into their origins. Interestingly, the kinematics of one star (HD 331986) is consistent with the Galactic disc, while the others exhibit Galactic halo kinematics, albeit with distinct chemical signatures. We compared the [ Al/Fe ] and [ Mg/Mn ] ratios of the current targets with recent literature estimates to determine whether these stars were either accreted or formed $in situ$ , finding that the adopted chemical diagnostics are ineffective at low metallicities  ( [ Fe/H ] $\\lesssim -$ 1.5).  Finally, the established horizontal branch evolutionary models, indicating that these stars are born hotter at the Zero-Age Horizontal Branch (ZAHB) and then transition into RR Lyrae stars as they evolve, fully support the existence of such low-metallicity RR Lyrae stars. As a consequence, we can anticipate detecting more of them when larger samples of spectra become available from upcoming extensive observational campaigns.\n",
       "\n",
       "</div>\n",
       "\n",
       "<div id=\"div_fig1\">\n",
       "\n",
       "<img src=\"tmp_2501.05807/./synthesys.jpeg\" alt=\"Fig4\" width=\"100%\"/>\n",
       "\n",
       "**Figure 4. -** Comparison of the observed (grey) and synthetic (green) spectra. For HD 331986 (upper panel), we present the upper limit synthesis, while for DO Hya (middle panel) and BPS CS 30317-056 (lower panel), we display the best-fit results along with a variation of $\\pm 0.2 \\mathrm{dex}$(shaded areas). (*fig:synth*)\n",
       "\n",
       "</div>\n",
       "<div id=\"div_fig2\">\n",
       "\n",
       "<img src=\"tmp_2501.05807/./CMD_VBI.png\" alt=\"Fig6.1\" width=\"50%\"/><img src=\"tmp_2501.05807/./CMD_KVK.png\" alt=\"Fig6.2\" width=\"50%\"/>\n",
       "\n",
       "**Figure 6. -** Left -- Optical $B$-$I$, $V$ CMD showing the location\n",
       "    of very metal-poor RRLs. The solid lines display predicted Zero Age Horizontal\n",
       "    Branches at different chemical compositions (see labelled values), while the\n",
       "    dashed lines the central helium exhaustion for the same chemical compositions\n",
       "     ([Pietrinferni, Hidalgo and Cassisi 2021]()) .\n",
       "    Squares and triangles mark different stellar masses along the ZAHB and\n",
       "    end-of-helium. The almost vertical lines display the blue (hot) and the red (cool)\n",
       "    edge of the predicted RRL instability strip for Z=1$\\times$10$^{-5}$ specifically\n",
       "    computed for this investigation (see text for more details).\n",
       "    Right -- Same as the left, but for the optical-NIR ($V$-$K$, $K$) CMD. (*fig:opt_nir_cmd*)\n",
       "\n",
       "</div>\n",
       "<div id=\"div_fig3\">\n",
       "\n",
       "<img src=\"tmp_2501.05807/./MgMn_AlFe_GALAHDR4_two_panels.jpeg\" alt=\"Fig5\" width=\"100%\"/>\n",
       "\n",
       "**Figure 5. -** [Mg/Mn] ratios as a function of [Al/Fe] for our three RRLs (filled markers) along with literature estimates, including GALAH DR4 \\citep[][density plots in this figure]{buder2024} and $Loki$(empty circles) by [Sestito, Fernandez-Alvar and Brooks (2024)](). (*fig:MgMn_AlFe*)\n",
       "\n",
       "</div><div id=\"qrcode\"><img src=https://api.qrserver.com/v1/create-qr-code/?size=100x100&data=\"https://arxiv.org/abs/2501.05807\"></div>"
      ],
      "text/plain": [
       "<IPython.core.display.Markdown object>"
      ]
     },
     "metadata": {},
     "output_type": "display_data"
    },
    {
     "data": {
      "text/markdown": [
       "<div class=\"macros\" style=\"visibility:hidden;\">\n",
       "$\\newcommand{\\ensuremath}{}$\n",
       "$\\newcommand{\\xspace}{}$\n",
       "$\\newcommand{\\object}[1]{\\texttt{#1}}$\n",
       "$\\newcommand{\\farcs}{{.}''}$\n",
       "$\\newcommand{\\farcm}{{.}'}$\n",
       "$\\newcommand{\\arcsec}{''}$\n",
       "$\\newcommand{\\arcmin}{'}$\n",
       "$\\newcommand{\\ion}[2]{#1#2}$\n",
       "$\\newcommand{\\textsc}[1]{\\textrm{#1}}$\n",
       "$\\newcommand{\\hl}[1]{\\textrm{#1}}$\n",
       "$\\newcommand{\\footnote}[1]{}$\n",
       "$\\newcommand{\\aap}{A\\&A, }$\n",
       "$\\newcommand{\\apj}{ApJ, }$\n",
       "$\\newcommand{\\aj}{AJ, }$\n",
       "$\\newcommand{\\apjl}{ApJ, }$\n",
       "$\\newcommand{\\apjs}{ApJS, }$\n",
       "$\\newcommand{\\mnras}{MNRAS, }$\n",
       "$\\newcommand{\\icarus}{Icarus, }$\n",
       "$\\newcommand{\\araa}{ARA\\&A, }$\n",
       "$\\newcommand{\\nat}{Nature, }$\n",
       "$\\newcommand{\\nar}{New Astronomy Reviews, }$\n",
       "$\\newcommand{\\pasj}{PASJ, }$\n",
       "$\\newcommand{\\pasp}{PASP, }$\n",
       "$\\newcommand{\\thesection}{Appendix}$\n",
       "$\\newcommand\\cpartlineleft{#1}$\n",
       "$\\newcommand{\\@}{cpartlineleft#1,#2}$</div>\n",
       "\n",
       "\n",
       "\n",
       "<div id=\"title\">\n",
       "\n",
       "# Dust processing in the terrestrial planet-forming region of the PDS 70 disk\n",
       "\n",
       "</div>\n",
       "<div id=\"comments\">\n",
       "\n",
       "[![arXiv](https://img.shields.io/badge/arXiv-2501.05913-b31b1b.svg)](https://arxiv.org/abs/2501.05913)<mark>Appeared on: 2025-01-13</mark> -  _12 pages, 5 figures, accepted for publication in SCIENCE CHINA Physics, Mechanics & Astronomy_\n",
       "\n",
       "</div>\n",
       "<div id=\"authors\">\n",
       "\n",
       "Y. Liu{yliu@swjtu.edu.cn}, et al. -- incl., <mark>G. Perotti</mark>\n",
       "\n",
       "</div>\n",
       "<div id=\"abstract\">\n",
       "\n",
       "**Abstract:** Dust grains in protoplanetary disks are the building blocks of planets. Investigating the dust composition and size, and their variation over time, is crucial for understanding the planet formation process. The PDS 70 disk is so far the only protoplanetary disk with concrete evidence for the presence of young planets. Mid-infrared spectra were obtained for PDS 70 by the Infrared Spectrograph (IRS) on the Spitzer Space Telescope (SST) and the Mid-Infrared Instrument (MIRI) on the James Webb Space Telescope (JWST) in 2007 and 2022, respectively. In this work, we investigate the dust mineralogy through a detailed decomposition of the observed mid-infrared spectra. The results show that both the dust size and crystallinity increased by a factor of about two during the two epochs of observation, indicating evident dust processing in the terrestrial planet-forming region of the PDS 70 disk. The dust size ( ${\\sim} 0.8 \\mu{\\rm m}$ ) and crystallinity ( ${\\sim} 6\\%$ ) in the PDS 70 disk are similar to those of other disks, which implies that the two nascent planets, PDS 70b and PDS 70c located at radial distances of ${\\sim} 22 {\\rm AU}$ and ${\\sim} 34 {\\rm AU}$ , do not have a significant impact on the dust processing in the inner disk. The flux densities at $\\lambda{\\gtrsim} 16 \\mu{\\rm m}$ measured by JWST/MIRI are only 60 \\% of those obtained by Spitzer/IRS. Based on self-consistent radiative transfer modeling, we found that such a strong variability in mid-infrared fluxes can be produced by adjustments to the dust density distribution and structure of the inner disk probably induced by planet-disk interaction.\n",
       "\n",
       "</div>\n",
       "\n",
       "<div id=\"div_fig1\">\n",
       "\n",
       "<img src=\"tmp_2501.05913/./figure2.png\" alt=\"Fig3\" width=\"100%\"/>\n",
       "\n",
       "**Figure 3. -** Comparison between model spectra (black line) and observed spectra (red line) of PDS 70. The upper panel shows the IRS spectrum, whereas the MIRI spectrum is shown in the bottom panel. For the model spectra, we also mark the contribution by the underlying continuum and dust emission from the disk surface layer, see Eq. \\ref{eq:newFnu}. The vertical bars on the IRS and MIRI spectra refer to the observational uncertainties. Note that the uncertainties of the IRS spectrum are barely seen. The vertical bar shown in the upper left corner of each panel indicates the finally-converged uncertainty obtained from the iterative fitting process, see Sect. \\ref{sec:fitapp}. (*fig:fluxCom*)\n",
       "\n",
       "</div>\n",
       "<div id=\"div_fig2\">\n",
       "\n",
       "<img src=\"tmp_2501.05913/./figure4.png\" alt=\"Fig5\" width=\"100%\"/>\n",
       "\n",
       "**Figure 5. -** Radiative transfer models of PDS 70. _ Left panel: _ dust surface densities of model A (grey line) and model B (black line). Model parameters are given in Table \\ref{tab:paras}. Note that the surface densities of the outer disk for both models are identical. _ Middle panel: _ comparison of infrared spectrum between model and observation. The IRS data is indicated with the red line, whereas the blue line represents the MIRI spectrum. _ Right panel: _ comparison between the model SED and photometry from  optical to millimeter wavelengths. Data points are collected from Gregorio-Hetem et al. Gregorio-Hetem1992, Hashimoto et al. Hashimoto2012, Benisty et al. Benisty2021, and Facchini et al. Facchini2021. (*fig:surdens*)\n",
       "\n",
       "</div>\n",
       "<div id=\"div_fig3\">\n",
       "\n",
       "<img src=\"tmp_2501.05913/./figure1.png\" alt=\"Fig2\" width=\"100%\"/>\n",
       "\n",
       "**Figure 2. -** Mass absorption coefficients of amorphous silicates of olivine type (left panel) and pyroxene type (middle panel), and crystalline forsterite (right panel). The solid lines show the results for the grain size being $0.1 \\mu{\\rm m}$. The dashed lines indicate the results for $2 \\mu{\\rm m}$-sized dust grains. The dotted lines display the results for $5 \\mu{\\rm m}$-sized dust grains. The results are calculated using the theory of distribution of hollow spheres Min2005. (*fig:kappa*)\n",
       "\n",
       "</div><div id=\"qrcode\"><img src=https://api.qrserver.com/v1/create-qr-code/?size=100x100&data=\"https://arxiv.org/abs/2501.05913\"></div>"
      ],
      "text/plain": [
       "<IPython.core.display.Markdown object>"
      ]
     },
     "metadata": {},
     "output_type": "display_data"
    }
   ],
   "source": [
    "[display(Markdown(k[1])) for k in documents];"
   ]
  },
  {
   "cell_type": "markdown",
   "id": "873873a4",
   "metadata": {
    "papermill": {
     "duration": 0.006469,
     "end_time": "2025-01-13T04:12:49.272888",
     "exception": false,
     "start_time": "2025-01-13T04:12:49.266419",
     "status": "completed"
    },
    "tags": []
   },
   "source": [
    "# Create HTML index"
   ]
  },
  {
   "cell_type": "code",
   "execution_count": 10,
   "id": "cf665672",
   "metadata": {
    "execution": {
     "iopub.execute_input": "2025-01-13T04:12:49.287129Z",
     "iopub.status.busy": "2025-01-13T04:12:49.286725Z",
     "iopub.status.idle": "2025-01-13T04:12:49.295573Z",
     "shell.execute_reply": "2025-01-13T04:12:49.295026Z"
    },
    "papermill": {
     "duration": 0.017144,
     "end_time": "2025-01-13T04:12:49.296563",
     "exception": false,
     "start_time": "2025-01-13T04:12:49.279419",
     "status": "completed"
    },
    "tags": []
   },
   "outputs": [
    {
     "name": "stdout",
     "output_type": "stream",
     "text": [
      "305  publications files modified in the last 7 days.\n"
     ]
    }
   ],
   "source": [
    "from datetime import datetime, timedelta, timezone\n",
    "from glob import glob\n",
    "import os\n",
    "\n",
    "files = glob('_build/html/*.md')\n",
    "days = 7\n",
    "now = datetime.today()\n",
    "res = []\n",
    "for fk in files:\n",
    "    stat_result = os.stat(fk).st_ctime\n",
    "    modified = datetime.fromtimestamp(stat_result, tz=timezone.utc).replace(tzinfo=None)\n",
    "    delta = now.today() - modified\n",
    "    if delta <= timedelta(days=days):\n",
    "        res.append((delta.seconds, fk))\n",
    "res = [k[1] for k in reversed(sorted(res, key=lambda x:x[1]))]\n",
    "npub = len(res)\n",
    "print(len(res), f\" publications files modified in the last {days:d} days.\")\n",
    "# [ print('\\t', k) for k in res ];"
   ]
  },
  {
   "cell_type": "code",
   "execution_count": 11,
   "id": "015de740",
   "metadata": {
    "execution": {
     "iopub.execute_input": "2025-01-13T04:12:49.310874Z",
     "iopub.status.busy": "2025-01-13T04:12:49.310427Z",
     "iopub.status.idle": "2025-01-13T04:12:49.328080Z",
     "shell.execute_reply": "2025-01-13T04:12:49.327566Z"
    },
    "papermill": {
     "duration": 0.025969,
     "end_time": "2025-01-13T04:12:49.329146",
     "exception": false,
     "start_time": "2025-01-13T04:12:49.303177",
     "status": "completed"
    },
    "tags": []
   },
   "outputs": [
    {
     "name": "stdout",
     "output_type": "stream",
     "text": [
      "12  publications in the last 7 days.\n"
     ]
    }
   ],
   "source": [
    "import datetime\n",
    "from glob import glob\n",
    "\n",
    "def get_last_n_days(lst, days=1):\n",
    "    \"\"\" Get the documents from the last n days \"\"\"\n",
    "    sorted_lst = sorted(lst, key=lambda x: x[1], reverse=True)\n",
    "    for fname, date in sorted_lst:\n",
    "        if date >= str(datetime.date.today() - datetime.timedelta(days=days)):\n",
    "            yield fname\n",
    "\n",
    "def extract_appearance_dates(lst_file):\n",
    "    dates = []\n",
    "\n",
    "    def get_date(line):\n",
    "        return line\\\n",
    "            .split('Appeared on:')[-1]\\\n",
    "            .split('</mark>')[0].strip()\n",
    "\n",
    "    for fname in lst:\n",
    "        with open(fname, 'r') as f:\n",
    "            found_date = False\n",
    "            for line in f:\n",
    "                if not found_date:\n",
    "                    if \"Appeared on\" in line:\n",
    "                        found_date = True\n",
    "                        dates.append((fname, get_date(line)))\n",
    "                else:\n",
    "                    break\n",
    "    return dates\n",
    "\n",
    "from glob import glob\n",
    "lst = glob('_build/html/*md')\n",
    "days = 7\n",
    "dates = extract_appearance_dates(lst)\n",
    "res = list(get_last_n_days(dates, days))\n",
    "npub = len(res)\n",
    "print(len(res), f\" publications in the last {days:d} days.\")"
   ]
  },
  {
   "cell_type": "code",
   "execution_count": 12,
   "id": "52ca0208",
   "metadata": {
    "execution": {
     "iopub.execute_input": "2025-01-13T04:12:49.343716Z",
     "iopub.status.busy": "2025-01-13T04:12:49.343313Z",
     "iopub.status.idle": "2025-01-13T04:12:49.348147Z",
     "shell.execute_reply": "2025-01-13T04:12:49.347621Z"
    },
    "papermill": {
     "duration": 0.013124,
     "end_time": "2025-01-13T04:12:49.349136",
     "exception": false,
     "start_time": "2025-01-13T04:12:49.336012",
     "status": "completed"
    },
    "scrolled": false,
    "tags": []
   },
   "outputs": [],
   "source": [
    "def create_carousel(npub=4):\n",
    "    \"\"\" Generate the HTML code for a carousel with `npub` slides \"\"\"\n",
    "    carousel = [\"\"\"  <div class=\"carousel\" \"\"\",\n",
    "                \"\"\"       data-flickity='{ \"autoPlay\": 10000, \"adaptiveHeight\": true, \"resize\": true, \"wrapAround\": true, \"pauseAutoPlayOnHover\": true, \"groupCells\": 1 }' id=\"asyncTypeset\">\"\"\"\n",
    "                ]\n",
    "    \n",
    "    item_str = \"\"\"    <div class=\"carousel-cell\"> <div id=\"slide{k}\" class=\"md_view\">Content {k}</div> </div>\"\"\"\n",
    "    for k in range(1, npub + 1):\n",
    "        carousel.append(item_str.format(k=k))\n",
    "    carousel.append(\"  </div>\")\n",
    "    return '\\n'.join(carousel)\n",
    "\n",
    "def create_grid(npub=4):\n",
    "    \"\"\" Generate the HTML code for a flat grid with `npub` slides \"\"\"\n",
    "    grid = [\"\"\"  <div class=\"grid\"> \"\"\",\n",
    "                ]\n",
    "    \n",
    "    item_str = \"\"\"    <div class=\"grid-item\"> <div id=\"slide{k}\" class=\"md_view\">Content {k}</div> </div>\"\"\"\n",
    "    for k in range(1, npub + 1):\n",
    "        grid.append(item_str.format(k=k))\n",
    "    grid.append(\"  </div>\")\n",
    "    return '\\n'.join(grid)"
   ]
  },
  {
   "cell_type": "code",
   "execution_count": 13,
   "id": "a6eac5b6",
   "metadata": {
    "execution": {
     "iopub.execute_input": "2025-01-13T04:12:49.363659Z",
     "iopub.status.busy": "2025-01-13T04:12:49.363262Z",
     "iopub.status.idle": "2025-01-13T04:12:49.368145Z",
     "shell.execute_reply": "2025-01-13T04:12:49.367527Z"
    },
    "papermill": {
     "duration": 0.013445,
     "end_time": "2025-01-13T04:12:49.369328",
     "exception": false,
     "start_time": "2025-01-13T04:12:49.355883",
     "status": "completed"
    },
    "scrolled": false,
    "tags": []
   },
   "outputs": [],
   "source": [
    "carousel = create_carousel(npub)\n",
    "docs = ', '.join(['\"{0:s}\"'.format(k.split('/')[-1]) for k in res])\n",
    "slides = ', '.join([f'\"slide{k}\"' for k in range(1, npub + 1)])\n",
    "\n",
    "with open(\"daily_template.html\", \"r\") as tpl:\n",
    "    page = tpl.read()\n",
    "    page = page.replace(\"{%-- carousel:s --%}\", carousel)\\\n",
    "               .replace(\"{%-- suptitle:s --%}\",  \"7-day archives\" )\\\n",
    "               .replace(\"{%-- docs:s --%}\", docs)\\\n",
    "               .replace(\"{%-- slides:s --%}\", slides)\n",
    "    \n",
    "with open(\"_build/html/index_7days.html\", 'w') as fout:\n",
    "    fout.write(page)"
   ]
  },
  {
   "cell_type": "code",
   "execution_count": 14,
   "id": "adc1a1ec",
   "metadata": {
    "execution": {
     "iopub.execute_input": "2025-01-13T04:12:49.383998Z",
     "iopub.status.busy": "2025-01-13T04:12:49.383588Z",
     "iopub.status.idle": "2025-01-13T04:12:49.390091Z",
     "shell.execute_reply": "2025-01-13T04:12:49.389592Z"
    },
    "papermill": {
     "duration": 0.014944,
     "end_time": "2025-01-13T04:12:49.391075",
     "exception": false,
     "start_time": "2025-01-13T04:12:49.376131",
     "status": "completed"
    },
    "tags": []
   },
   "outputs": [
    {
     "name": "stdout",
     "output_type": "stream",
     "text": [
      "3  publications in the last day.\n"
     ]
    }
   ],
   "source": [
    "# redo for today\n",
    "days = 1\n",
    "res = list(get_last_n_days(dates, days))\n",
    "npub = len(res)\n",
    "print(len(res), f\" publications in the last day.\")\n",
    "\n",
    "carousel = create_carousel(npub)\n",
    "docs = ', '.join(['\"{0:s}\"'.format(k.split('/')[-1]) for k in res])\n",
    "slides = ', '.join([f'\"slide{k}\"' for k in range(1, npub + 1)])\n",
    "\n",
    "with open(\"daily_template.html\", \"r\") as tpl:\n",
    "    page = tpl.read()\n",
    "    page = page.replace(\"{%-- carousel:s --%}\", carousel)\\\n",
    "               .replace(\"{%-- suptitle:s --%}\",  \"Daily\" )\\\n",
    "               .replace(\"{%-- docs:s --%}\", docs)\\\n",
    "               .replace(\"{%-- slides:s --%}\", slides)\n",
    "    \n",
    "# print(carousel, docs, slides)\n",
    "# print(page)\n",
    "with open(\"_build/html/index_daily.html\", 'w') as fout:\n",
    "    fout.write(page)"
   ]
  },
  {
   "cell_type": "code",
   "execution_count": 15,
   "id": "00eece82",
   "metadata": {
    "execution": {
     "iopub.execute_input": "2025-01-13T04:12:49.405886Z",
     "iopub.status.busy": "2025-01-13T04:12:49.405445Z",
     "iopub.status.idle": "2025-01-13T04:12:49.411933Z",
     "shell.execute_reply": "2025-01-13T04:12:49.411296Z"
    },
    "papermill": {
     "duration": 0.014946,
     "end_time": "2025-01-13T04:12:49.412900",
     "exception": false,
     "start_time": "2025-01-13T04:12:49.397954",
     "status": "completed"
    },
    "scrolled": false,
    "tags": []
   },
   "outputs": [
    {
     "name": "stdout",
     "output_type": "stream",
     "text": [
      "6  6 publications selected.\n"
     ]
    }
   ],
   "source": [
    "# Create the flat grid of the last N papers (fixed number regardless of dates)\n",
    "from itertools import islice \n",
    "\n",
    "npub = 6\n",
    "res = [k[0] for k in (islice(reversed(sorted(dates, key=lambda x: x[1])), 6))]\n",
    "print(len(res), f\" {npub} publications selected.\")\n",
    "\n",
    "grid = create_grid(npub)\n",
    "docs = ', '.join(['\"{0:s}\"'.format(k.split('/')[-1]) for k in res])\n",
    "slides = ', '.join([f'\"slide{k}\"' for k in range(1, npub + 1)])\n",
    "\n",
    "with open(\"grid_template.html\", \"r\") as tpl:\n",
    "    page = tpl.read()\n",
    "    page = page.replace(\"{%-- grid-content:s --%}\", grid)\\\n",
    "               .replace(\"{%-- suptitle:s --%}\",  f\"Last {npub:,d} papers\" )\\\n",
    "               .replace(\"{%-- docs:s --%}\", docs)\\\n",
    "               .replace(\"{%-- slides:s --%}\", slides)\n",
    "    \n",
    "# print(grid, docs, slides)\n",
    "# print(page)\n",
    "with open(\"_build/html/index_npub_grid.html\", 'w') as fout:\n",
    "    fout.write(page)"
   ]
  }
 ],
 "metadata": {
  "kernelspec": {
   "display_name": "Python 3 (ipykernel)",
   "language": "python",
   "name": "python3"
  },
  "language_info": {
   "codemirror_mode": {
    "name": "ipython",
    "version": 3
   },
   "file_extension": ".py",
   "mimetype": "text/x-python",
   "name": "python",
   "nbconvert_exporter": "python",
   "pygments_lexer": "ipython3",
   "version": "3.9.21"
  },
  "papermill": {
   "default_parameters": {},
   "duration": 89.26657,
   "end_time": "2025-01-13T04:12:49.635683",
   "environment_variables": {},
   "exception": null,
   "input_path": "MPIA daily digest.ipynb",
   "output_path": "log.ipynb",
   "parameters": {},
   "start_time": "2025-01-13T04:11:20.369113",
   "version": "2.6.0"
  },
  "vscode": {
   "interpreter": {
    "hash": "aee8b7b246df8f9039afb4144a1f6fd8d2ca17a180786b69acc140d282b71a49"
   }
  },
  "widgets": {
   "application/vnd.jupyter.widget-state+json": {
    "state": {
     "017a275a2abd4142942962a095a1383f": {
      "model_module": "@jupyter-widgets/base",
      "model_module_version": "2.0.0",
      "model_name": "LayoutModel",
      "state": {
       "_model_module": "@jupyter-widgets/base",
       "_model_module_version": "2.0.0",
       "_model_name": "LayoutModel",
       "_view_count": null,
       "_view_module": "@jupyter-widgets/base",
       "_view_module_version": "2.0.0",
       "_view_name": "LayoutView",
       "align_content": null,
       "align_items": null,
       "align_self": null,
       "border_bottom": null,
       "border_left": null,
       "border_right": null,
       "border_top": null,
       "bottom": null,
       "display": null,
       "flex": null,
       "flex_flow": null,
       "grid_area": null,
       "grid_auto_columns": null,
       "grid_auto_flow": null,
       "grid_auto_rows": null,
       "grid_column": null,
       "grid_gap": null,
       "grid_row": null,
       "grid_template_areas": null,
       "grid_template_columns": null,
       "grid_template_rows": null,
       "height": null,
       "justify_content": null,
       "justify_items": null,
       "left": null,
       "margin": null,
       "max_height": null,
       "max_width": null,
       "min_height": null,
       "min_width": null,
       "object_fit": null,
       "object_position": null,
       "order": null,
       "overflow": null,
       "padding": null,
       "right": null,
       "top": null,
       "visibility": null,
       "width": null
      }
     },
     "2cc8f8e8f1e242a0b7cde85ef60731a2": {
      "model_module": "@jupyter-widgets/controls",
      "model_module_version": "2.0.0",
      "model_name": "HTMLStyleModel",
      "state": {
       "_model_module": "@jupyter-widgets/controls",
       "_model_module_version": "2.0.0",
       "_model_name": "HTMLStyleModel",
       "_view_count": null,
       "_view_module": "@jupyter-widgets/base",
       "_view_module_version": "2.0.0",
       "_view_name": "StyleView",
       "background": null,
       "description_width": "",
       "font_size": null,
       "text_color": null
      }
     },
     "2efa9330a0d14e228c3724f2a6e8c348": {
      "model_module": "@jupyter-widgets/controls",
      "model_module_version": "2.0.0",
      "model_name": "HTMLModel",
      "state": {
       "_dom_classes": [],
       "_model_module": "@jupyter-widgets/controls",
       "_model_module_version": "2.0.0",
       "_model_name": "HTMLModel",
       "_view_count": null,
       "_view_module": "@jupyter-widgets/controls",
       "_view_module_version": "2.0.0",
       "_view_name": "HTMLView",
       "description": "",
       "description_allow_html": false,
       "layout": "IPY_MODEL_643cd00ecf14437bbd4c8a3848b1b43a",
       "placeholder": "​",
       "style": "IPY_MODEL_3ba545f65ecc466086ea7c9894924987",
       "tabbable": null,
       "tooltip": null,
       "value": "100%"
      }
     },
     "3ba545f65ecc466086ea7c9894924987": {
      "model_module": "@jupyter-widgets/controls",
      "model_module_version": "2.0.0",
      "model_name": "HTMLStyleModel",
      "state": {
       "_model_module": "@jupyter-widgets/controls",
       "_model_module_version": "2.0.0",
       "_model_name": "HTMLStyleModel",
       "_view_count": null,
       "_view_module": "@jupyter-widgets/base",
       "_view_module_version": "2.0.0",
       "_view_name": "StyleView",
       "background": null,
       "description_width": "",
       "font_size": null,
       "text_color": null
      }
     },
     "470a5e4e5b6d469dbcbcd5547ea9c8fd": {
      "model_module": "@jupyter-widgets/base",
      "model_module_version": "2.0.0",
      "model_name": "LayoutModel",
      "state": {
       "_model_module": "@jupyter-widgets/base",
       "_model_module_version": "2.0.0",
       "_model_name": "LayoutModel",
       "_view_count": null,
       "_view_module": "@jupyter-widgets/base",
       "_view_module_version": "2.0.0",
       "_view_name": "LayoutView",
       "align_content": null,
       "align_items": null,
       "align_self": null,
       "border_bottom": null,
       "border_left": null,
       "border_right": null,
       "border_top": null,
       "bottom": null,
       "display": null,
       "flex": null,
       "flex_flow": null,
       "grid_area": null,
       "grid_auto_columns": null,
       "grid_auto_flow": null,
       "grid_auto_rows": null,
       "grid_column": null,
       "grid_gap": null,
       "grid_row": null,
       "grid_template_areas": null,
       "grid_template_columns": null,
       "grid_template_rows": null,
       "height": null,
       "justify_content": null,
       "justify_items": null,
       "left": null,
       "margin": null,
       "max_height": null,
       "max_width": null,
       "min_height": null,
       "min_width": null,
       "object_fit": null,
       "object_position": null,
       "order": null,
       "overflow": null,
       "padding": null,
       "right": null,
       "top": null,
       "visibility": null,
       "width": null
      }
     },
     "643cd00ecf14437bbd4c8a3848b1b43a": {
      "model_module": "@jupyter-widgets/base",
      "model_module_version": "2.0.0",
      "model_name": "LayoutModel",
      "state": {
       "_model_module": "@jupyter-widgets/base",
       "_model_module_version": "2.0.0",
       "_model_name": "LayoutModel",
       "_view_count": null,
       "_view_module": "@jupyter-widgets/base",
       "_view_module_version": "2.0.0",
       "_view_name": "LayoutView",
       "align_content": null,
       "align_items": null,
       "align_self": null,
       "border_bottom": null,
       "border_left": null,
       "border_right": null,
       "border_top": null,
       "bottom": null,
       "display": null,
       "flex": null,
       "flex_flow": null,
       "grid_area": null,
       "grid_auto_columns": null,
       "grid_auto_flow": null,
       "grid_auto_rows": null,
       "grid_column": null,
       "grid_gap": null,
       "grid_row": null,
       "grid_template_areas": null,
       "grid_template_columns": null,
       "grid_template_rows": null,
       "height": null,
       "justify_content": null,
       "justify_items": null,
       "left": null,
       "margin": null,
       "max_height": null,
       "max_width": null,
       "min_height": null,
       "min_width": null,
       "object_fit": null,
       "object_position": null,
       "order": null,
       "overflow": null,
       "padding": null,
       "right": null,
       "top": null,
       "visibility": null,
       "width": null
      }
     },
     "a80528724a69438cb598de85c116205c": {
      "model_module": "@jupyter-widgets/controls",
      "model_module_version": "2.0.0",
      "model_name": "ProgressStyleModel",
      "state": {
       "_model_module": "@jupyter-widgets/controls",
       "_model_module_version": "2.0.0",
       "_model_name": "ProgressStyleModel",
       "_view_count": null,
       "_view_module": "@jupyter-widgets/base",
       "_view_module_version": "2.0.0",
       "_view_name": "StyleView",
       "bar_color": null,
       "description_width": ""
      }
     },
     "c77d4882133f4255850553c378f3e822": {
      "model_module": "@jupyter-widgets/controls",
      "model_module_version": "2.0.0",
      "model_name": "HBoxModel",
      "state": {
       "_dom_classes": [],
       "_model_module": "@jupyter-widgets/controls",
       "_model_module_version": "2.0.0",
       "_model_name": "HBoxModel",
       "_view_count": null,
       "_view_module": "@jupyter-widgets/controls",
       "_view_module_version": "2.0.0",
       "_view_name": "HBoxView",
       "box_style": "",
       "children": [
        "IPY_MODEL_2efa9330a0d14e228c3724f2a6e8c348",
        "IPY_MODEL_d54207eb8a2041649b2863c31c1e4235",
        "IPY_MODEL_e20c032e97d34bca9da4cf98a8da5603"
       ],
       "layout": "IPY_MODEL_e6267088a3e142efa24e11e9cbbecd46",
       "tabbable": null,
       "tooltip": null
      }
     },
     "d54207eb8a2041649b2863c31c1e4235": {
      "model_module": "@jupyter-widgets/controls",
      "model_module_version": "2.0.0",
      "model_name": "FloatProgressModel",
      "state": {
       "_dom_classes": [],
       "_model_module": "@jupyter-widgets/controls",
       "_model_module_version": "2.0.0",
       "_model_name": "FloatProgressModel",
       "_view_count": null,
       "_view_module": "@jupyter-widgets/controls",
       "_view_module_version": "2.0.0",
       "_view_name": "ProgressView",
       "bar_style": "success",
       "description": "",
       "description_allow_html": false,
       "layout": "IPY_MODEL_470a5e4e5b6d469dbcbcd5547ea9c8fd",
       "max": 9.0,
       "min": 0.0,
       "orientation": "horizontal",
       "style": "IPY_MODEL_a80528724a69438cb598de85c116205c",
       "tabbable": null,
       "tooltip": null,
       "value": 9.0
      }
     },
     "e20c032e97d34bca9da4cf98a8da5603": {
      "model_module": "@jupyter-widgets/controls",
      "model_module_version": "2.0.0",
      "model_name": "HTMLModel",
      "state": {
       "_dom_classes": [],
       "_model_module": "@jupyter-widgets/controls",
       "_model_module_version": "2.0.0",
       "_model_name": "HTMLModel",
       "_view_count": null,
       "_view_module": "@jupyter-widgets/controls",
       "_view_module_version": "2.0.0",
       "_view_name": "HTMLView",
       "description": "",
       "description_allow_html": false,
       "layout": "IPY_MODEL_017a275a2abd4142942962a095a1383f",
       "placeholder": "​",
       "style": "IPY_MODEL_2cc8f8e8f1e242a0b7cde85ef60731a2",
       "tabbable": null,
       "tooltip": null,
       "value": " 9/9 [01:09&lt;00:00,  3.81s/it]"
      }
     },
     "e6267088a3e142efa24e11e9cbbecd46": {
      "model_module": "@jupyter-widgets/base",
      "model_module_version": "2.0.0",
      "model_name": "LayoutModel",
      "state": {
       "_model_module": "@jupyter-widgets/base",
       "_model_module_version": "2.0.0",
       "_model_name": "LayoutModel",
       "_view_count": null,
       "_view_module": "@jupyter-widgets/base",
       "_view_module_version": "2.0.0",
       "_view_name": "LayoutView",
       "align_content": null,
       "align_items": null,
       "align_self": null,
       "border_bottom": null,
       "border_left": null,
       "border_right": null,
       "border_top": null,
       "bottom": null,
       "display": null,
       "flex": null,
       "flex_flow": null,
       "grid_area": null,
       "grid_auto_columns": null,
       "grid_auto_flow": null,
       "grid_auto_rows": null,
       "grid_column": null,
       "grid_gap": null,
       "grid_row": null,
       "grid_template_areas": null,
       "grid_template_columns": null,
       "grid_template_rows": null,
       "height": null,
       "justify_content": null,
       "justify_items": null,
       "left": null,
       "margin": null,
       "max_height": null,
       "max_width": null,
       "min_height": null,
       "min_width": null,
       "object_fit": null,
       "object_position": null,
       "order": null,
       "overflow": null,
       "padding": null,
       "right": null,
       "top": null,
       "visibility": null,
       "width": null
      }
     }
    },
    "version_major": 2,
    "version_minor": 0
   }
  }
 },
 "nbformat": 4,
 "nbformat_minor": 5
}