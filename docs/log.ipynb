{
 "cells": [
  {
   "cell_type": "markdown",
   "id": "92bcb855",
   "metadata": {
    "papermill": {
     "duration": 0.005903,
     "end_time": "2023-01-19T04:07:42.978742",
     "exception": false,
     "start_time": "2023-01-19T04:07:42.972839",
     "status": "completed"
    },
    "tags": []
   },
   "source": [
    "# MPIA Arxiv on Deck 2\n",
    "\n",
    "Contains the steps to produce the paper extractions."
   ]
  },
  {
   "cell_type": "code",
   "execution_count": 1,
   "id": "3a0d6e11",
   "metadata": {
    "execution": {
     "iopub.execute_input": "2023-01-19T04:07:42.990021Z",
     "iopub.status.busy": "2023-01-19T04:07:42.989309Z",
     "iopub.status.idle": "2023-01-19T04:07:43.179877Z",
     "shell.execute_reply": "2023-01-19T04:07:43.179175Z"
    },
    "papermill": {
     "duration": 0.19845,
     "end_time": "2023-01-19T04:07:43.181989",
     "exception": false,
     "start_time": "2023-01-19T04:07:42.983539",
     "status": "completed"
    },
    "tags": []
   },
   "outputs": [],
   "source": [
    "# Imports\n",
    "import os\n",
    "from IPython.display import Markdown, display\n",
    "from tqdm.notebook import tqdm\n",
    "import warnings\n",
    "from PIL import Image \n",
    "\n",
    "# requires arxiv_on_deck_2\n",
    "\n",
    "from arxiv_on_deck_2.arxiv2 import (get_new_papers, \n",
    "                                    get_paper_from_identifier,\n",
    "                                    retrieve_document_source, \n",
    "                                    get_markdown_badge)\n",
    "from arxiv_on_deck_2 import (latex, \n",
    "                             mpia,\n",
    "                             highlight_authors_in_list)\n",
    "\n",
    "# Sometimes images are really big\n",
    "Image.MAX_IMAGE_PIXELS = 1000000000 "
   ]
  },
  {
   "cell_type": "code",
   "execution_count": 2,
   "id": "22aa9d44",
   "metadata": {
    "execution": {
     "iopub.execute_input": "2023-01-19T04:07:43.192732Z",
     "iopub.status.busy": "2023-01-19T04:07:43.192055Z",
     "iopub.status.idle": "2023-01-19T04:07:43.197029Z",
     "shell.execute_reply": "2023-01-19T04:07:43.196387Z"
    },
    "papermill": {
     "duration": 0.011894,
     "end_time": "2023-01-19T04:07:43.198707",
     "exception": false,
     "start_time": "2023-01-19T04:07:43.186813",
     "status": "completed"
    },
    "tags": []
   },
   "outputs": [],
   "source": [
    "# Some useful definitions.\n",
    "\n",
    "class AffiliationWarning(UserWarning):\n",
    "    pass\n",
    "\n",
    "class AffiliationError(RuntimeError):\n",
    "    pass\n",
    "\n",
    "def validation(source: str):\n",
    "    \"\"\"Raises error paper during parsing of source file\n",
    "    \n",
    "    Allows checks before parsing TeX code.\n",
    "    \n",
    "    Raises AffiliationWarning\n",
    "    \"\"\"\n",
    "    check = mpia.affiliation_verifications(source, verbose=True)\n",
    "    if check is not True:\n",
    "        raise AffiliationError(\"mpia.affiliation_verifications: \" + check)\n",
    "\n",
    "        \n",
    "warnings.simplefilter('always', AffiliationWarning)"
   ]
  },
  {
   "cell_type": "code",
   "execution_count": 3,
   "id": "14622700",
   "metadata": {
    "execution": {
     "iopub.execute_input": "2023-01-19T04:07:43.207944Z",
     "iopub.status.busy": "2023-01-19T04:07:43.207364Z",
     "iopub.status.idle": "2023-01-19T04:07:43.211168Z",
     "shell.execute_reply": "2023-01-19T04:07:43.210544Z"
    },
    "papermill": {
     "duration": 0.010104,
     "end_time": "2023-01-19T04:07:43.212735",
     "exception": false,
     "start_time": "2023-01-19T04:07:43.202631",
     "status": "completed"
    },
    "tags": []
   },
   "outputs": [],
   "source": [
    "# additional CSS to consider. \n",
    "# TODO: Current into each exported file. \n",
    "#       This should be set once into the webpages directly.\n",
    "#       With only the class/id definitions in the .md files.\n",
    "\n",
    "debug_html = \"\"\"\n",
    "<style>\n",
    "#wrap{ overflow:auto; }\n",
    "#fig1{ background:yellow; width:100%; float:left; padding:5px;  }\n",
    "#fig2{ background:red; width:50%; float:left; clear:left; padding:5px;  }\n",
    "#fig3{ background:green; width:50%; float:left; padding:5px;   }\n",
    ".macros{ background:yellow; visibility:visible;}\n",
    "h1 {margin: 0 0 0 0;}\n",
    "mark {background-color:#fff3b6;}\n",
    "img {object-fit:contain; max-height:250px; display:inline-block; text-align: center;}\n",
    "</style>\n",
    "\"\"\" \n",
    "html = \"\"\"\n",
    "<style>\n",
    "#wrap{ overflow:auto; }\n",
    "#fig1{ width:100%; float:left; padding: 5px;  }\n",
    "#fig2{ width:50%; float:left; clear:left; padding: 5px;  }\n",
    "#fig3{ width:50%; float:left; padding: 5px;  }\n",
    ".macros{ visibility:hidden; height:0px; }\n",
    "h1 {margin: 0em 0 0 0;}\n",
    "mark {background-color:#fff3b6;}\n",
    "img {object-fit:contain; max-height:250px; display:inline-block; text-align: center;}\n",
    "</style>\n",
    "\"\"\""
   ]
  },
  {
   "cell_type": "markdown",
   "id": "14bd6310",
   "metadata": {
    "papermill": {
     "duration": 0.003875,
     "end_time": "2023-01-19T04:07:43.220476",
     "exception": false,
     "start_time": "2023-01-19T04:07:43.216601",
     "status": "completed"
    },
    "tags": []
   },
   "source": [
    "## get list of arxiv paper candidates\n",
    "\n",
    "We use the MPIA mitarbeiter list webpage from mpia.de to get author names\n",
    "We then get all new papers from Arxiv and match authors"
   ]
  },
  {
   "cell_type": "code",
   "execution_count": 4,
   "id": "2645e73a",
   "metadata": {
    "execution": {
     "iopub.execute_input": "2023-01-19T04:07:43.229747Z",
     "iopub.status.busy": "2023-01-19T04:07:43.229171Z",
     "iopub.status.idle": "2023-01-19T04:08:06.161124Z",
     "shell.execute_reply": "2023-01-19T04:08:06.160422Z"
    },
    "papermill": {
     "duration": 22.938395,
     "end_time": "2023-01-19T04:08:06.162817",
     "exception": false,
     "start_time": "2023-01-19T04:07:43.224422",
     "status": "completed"
    },
    "tags": []
   },
   "outputs": [
    {
     "name": "stdout",
     "output_type": "stream",
     "text": [
      "Arxiv has 87 new papers today\n",
      "          40 with possible author matches\n"
     ]
    }
   ],
   "source": [
    "# get list from MPIA website\n",
    "# it automatically filters identified non-scientists :func:`mpia.filter_non_scientists`\n",
    "mpia_authors = mpia.get_mpia_mitarbeiter_list()\n",
    "new_papers = get_new_papers()\n",
    "# add manual references\n",
    "add_paper_refs = []\n",
    "new_papers.extend([get_paper_from_identifier(k) for k in add_paper_refs])\n",
    "\n",
    "# select only papers with matching author names and highlight authors\n",
    "hl_list = [k[0] for k in mpia_authors]\n",
    "\n",
    "candidates = []\n",
    "for paperk in new_papers:\n",
    "    hl_authors = highlight_authors_in_list(paperk['authors'], hl_list)\n",
    "    matches = [(hl, orig) for hl, orig in zip(hl_authors, paperk['authors']) if 'mark' in hl]\n",
    "    paperk['authors'] = hl_authors\n",
    "    if matches:\n",
    "        candidates.append(paperk)\n",
    "print(\"\"\"Arxiv has {0:,d} new papers today\"\"\".format(len(new_papers)))        \n",
    "print(\"\"\"          {0:,d} with possible author matches\"\"\".format(len(candidates)))"
   ]
  },
  {
   "cell_type": "markdown",
   "id": "3543b34a",
   "metadata": {
    "papermill": {
     "duration": 0.004398,
     "end_time": "2023-01-19T04:08:06.171757",
     "exception": false,
     "start_time": "2023-01-19T04:08:06.167359",
     "status": "completed"
    },
    "tags": []
   },
   "source": [
    "# Parse sources and generate relevant outputs\n",
    "\n",
    "From the candidates, we do the following steps:\n",
    "* get their tarball from ArXiv (and extract data)\n",
    "* find the main .tex file: find one with \\documentclass{...} (sometimes it's non trivial)\n",
    "* Check affiliations with :func:`validation`, which uses :func:`mpia.affiliation_verifications`\n",
    "* If passing the affiliations: we parse the .tex source\n",
    "   * inject sub-documents into the main (flatten the main document)\n",
    "   * parse structure, extract information (title, abstract, authors, figures...)\n",
    "   * handles `\\graphicspath` if provided\n",
    "* Generate the .md document."
   ]
  },
  {
   "cell_type": "code",
   "execution_count": 5,
   "id": "9576b79e",
   "metadata": {
    "execution": {
     "iopub.execute_input": "2023-01-19T04:08:06.181776Z",
     "iopub.status.busy": "2023-01-19T04:08:06.181078Z",
     "iopub.status.idle": "2023-01-19T04:09:35.114667Z",
     "shell.execute_reply": "2023-01-19T04:09:35.113924Z"
    },
    "papermill": {
     "duration": 88.94059,
     "end_time": "2023-01-19T04:09:35.116418",
     "exception": false,
     "start_time": "2023-01-19T04:08:06.175828",
     "status": "completed"
    },
    "scrolled": false,
    "tags": []
   },
   "outputs": [
    {
     "data": {
      "application/vnd.jupyter.widget-view+json": {
       "model_id": "1cb35f2c2e174de7b642edd409565e5e",
       "version_major": 2,
       "version_minor": 0
      },
      "text/plain": [
       "  0%|          | 0/39 [00:00<?, ?it/s]"
      ]
     },
     "metadata": {},
     "output_type": "display_data"
    },
    {
     "name": "stdout",
     "output_type": "stream",
     "text": [
      "Retrieving document from  https://arxiv.org/e-print/2301.07113\n"
     ]
    },
    {
     "name": "stdout",
     "output_type": "stream",
     "text": [
      "extracting tarball to tmp_2301.07113..."
     ]
    },
    {
     "name": "stdout",
     "output_type": "stream",
     "text": [
      " done.\n",
      "Retrieving document from  https://arxiv.org/e-print/2301.07114\n"
     ]
    },
    {
     "name": "stdout",
     "output_type": "stream",
     "text": [
      "extracting tarball to tmp_2301.07114..."
     ]
    },
    {
     "name": "stdout",
     "output_type": "stream",
     "text": [
      " done.\n",
      "Retrieving document from  https://arxiv.org/e-print/2301.07116\n"
     ]
    },
    {
     "name": "stdout",
     "output_type": "stream",
     "text": [
      "extracting tarball to tmp_2301.07116..."
     ]
    },
    {
     "name": "stdout",
     "output_type": "stream",
     "text": [
      " done.\n"
     ]
    },
    {
     "name": "stderr",
     "output_type": "stream",
     "text": [
      "/opt/hostedtoolcache/Python/3.9.16/x64/lib/python3.9/site-packages/arxiv_on_deck_2/latex.py:366: LatexWarning: Error parsing the document directly. Trying to recover.\n",
      "  warnings.warn(LatexWarning(f\"Error parsing the document directly. Trying to recover.\"))\n"
     ]
    },
    {
     "name": "stdout",
     "output_type": "stream",
     "text": [
      "✔ → 0:header\n",
      "  ↳ 5661:\\section{Introduction} \\label{sec:intro}\n"
     ]
    },
    {
     "name": "stdout",
     "output_type": "stream",
     "text": [
      "✔ → 5661:\\section{Introduction} \\label{sec:intro}\n",
      "  ↳ 21948:\\section{The challenges of simulating high specific energy winds} \\label{sec:challenge}\n"
     ]
    },
    {
     "name": "stdout",
     "output_type": "stream",
     "text": [
      "✔ → 21948:\\section{The challenges of simulating high specific energy winds} \\label{sec:challenge}\n",
      "  ↳ 29864:\\section{Numerical Methods} \\label{sec:methods}\n"
     ]
    },
    {
     "name": "stdout",
     "output_type": "stream",
     "text": [
      "✘ → 29864:\\section{Numerical Methods} \\label{sec:methods}\n",
      "  ↳ 58814:\\section{Results} \\label{sec:results}\n"
     ]
    },
    {
     "name": "stdout",
     "output_type": "stream",
     "text": [
      "✔ → 58814:\\section{Results} \\label{sec:results}\n",
      "  ↳ 122281:\\section{Discussion} \\label{sec:discussion}\n"
     ]
    },
    {
     "name": "stdout",
     "output_type": "stream",
     "text": [
      "✔ → 122281:\\section{Discussion} \\label{sec:discussion}\n",
      "  ↳ 137086:\\section{Conclusions}\n",
      "✔ → 137086:\\section{Conclusions}\n",
      "  ↳ 143620:\\section{Host cell mass retention fraction} \\label{ap:fret}\n"
     ]
    },
    {
     "name": "stdout",
     "output_type": "stream",
     "text": [
      "✔ → 143620:\\section{Host cell mass retention fraction} \\label{ap:fret}\n",
      "  ↳ 147759:end\n"
     ]
    },
    {
     "name": "stdout",
     "output_type": "stream",
     "text": [
      "Retrieving document from  https://arxiv.org/e-print/2301.07118\n"
     ]
    },
    {
     "name": "stdout",
     "output_type": "stream",
     "text": [
      "extracting tarball to tmp_2301.07118..."
     ]
    },
    {
     "name": "stdout",
     "output_type": "stream",
     "text": [
      " done.\n",
      "Retrieving document from  https://arxiv.org/e-print/2301.07122\n"
     ]
    },
    {
     "name": "stdout",
     "output_type": "stream",
     "text": [
      "extracting tarball to tmp_2301.07122..."
     ]
    },
    {
     "name": "stdout",
     "output_type": "stream",
     "text": [
      " done.\n",
      "Retrieving document from  https://arxiv.org/e-print/2301.07132\n"
     ]
    },
    {
     "name": "stdout",
     "output_type": "stream",
     "text": [
      "extracting tarball to tmp_2301.07132..."
     ]
    },
    {
     "name": "stdout",
     "output_type": "stream",
     "text": [
      " done.\n",
      "Retrieving document from  https://arxiv.org/e-print/2301.07135\n"
     ]
    },
    {
     "name": "stdout",
     "output_type": "stream",
     "text": [
      "extracting tarball to tmp_2301.07135... done.\n",
      "Retrieving document from  https://arxiv.org/e-print/2301.07136\n"
     ]
    },
    {
     "name": "stderr",
     "output_type": "stream",
     "text": [
      "/opt/hostedtoolcache/Python/3.9.16/x64/lib/python3.9/site-packages/IPython/core/interactiveshell.py:3442: LatexWarning: Multiple tex files.\n",
      "\n",
      "  exec(code_obj, self.user_global_ns, self.user_ns)\n",
      "/opt/hostedtoolcache/Python/3.9.16/x64/lib/python3.9/site-packages/IPython/core/interactiveshell.py:3442: LatexWarning: Found documentclass in tmp_2301.07135/ms.tex\n",
      "\n",
      "  exec(code_obj, self.user_global_ns, self.user_ns)\n",
      "/opt/hostedtoolcache/Python/3.9.16/x64/lib/python3.9/site-packages/arxiv_on_deck_2/latex.py:292: LatexWarning: Latex injecting: 'pop0_dsa2k_07_2_60min.tex' from 'tmp_2301.07135/pop0_dsa2k_07_2_60min.tex'\n",
      "  warnings.warn(LatexWarning(f\"Latex injecting: '{ext}' from '{subsource}'\"))\n"
     ]
    },
    {
     "name": "stdout",
     "output_type": "stream",
     "text": [
      "extracting tarball to tmp_2301.07136..."
     ]
    },
    {
     "name": "stdout",
     "output_type": "stream",
     "text": [
      " done.\n",
      "Retrieving document from  https://arxiv.org/e-print/2301.07138\n"
     ]
    },
    {
     "name": "stdout",
     "output_type": "stream",
     "text": [
      "extracting tarball to tmp_2301.07138..."
     ]
    },
    {
     "name": "stdout",
     "output_type": "stream",
     "text": [
      " done.\n",
      "Retrieving document from  https://arxiv.org/e-print/2301.07142\n"
     ]
    },
    {
     "name": "stdout",
     "output_type": "stream",
     "text": [
      "extracting tarball to tmp_2301.07142..."
     ]
    },
    {
     "name": "stdout",
     "output_type": "stream",
     "text": [
      " done.\n",
      "Retrieving document from  https://arxiv.org/e-print/2301.07143\n"
     ]
    },
    {
     "name": "stdout",
     "output_type": "stream",
     "text": [
      "extracting tarball to tmp_2301.07143..."
     ]
    },
    {
     "name": "stdout",
     "output_type": "stream",
     "text": [
      " done.\n",
      "Retrieving document from  https://arxiv.org/e-print/2301.07180\n"
     ]
    },
    {
     "name": "stdout",
     "output_type": "stream",
     "text": [
      "extracting tarball to tmp_2301.07180..."
     ]
    },
    {
     "name": "stdout",
     "output_type": "stream",
     "text": [
      " done.\n",
      "Retrieving document from  https://arxiv.org/e-print/2301.07186\n"
     ]
    },
    {
     "name": "stdout",
     "output_type": "stream",
     "text": [
      "extracting tarball to tmp_2301.07186..."
     ]
    },
    {
     "name": "stdout",
     "output_type": "stream",
     "text": [
      " done.\n"
     ]
    },
    {
     "name": "stderr",
     "output_type": "stream",
     "text": [
      "/opt/hostedtoolcache/Python/3.9.16/x64/lib/python3.9/site-packages/arxiv_on_deck_2/latex.py:118: LatexWarning: attempting recovering figure h\n",
      "  warnings.warn(LatexWarning(f'attempting recovering figure {image}'))\n",
      "/tmp/ipykernel_2054/4030337529.py:34: LatexWarning: 2301.07186 did not run properly\n",
      "Could not find figure h\n",
      "  warnings.warn(latex.LatexWarning(f\"{paper_id:s} did not run properly\\n\" +\n"
     ]
    },
    {
     "name": "stdout",
     "output_type": "stream",
     "text": [
      "Retrieving document from  https://arxiv.org/e-print/2301.07193\n"
     ]
    },
    {
     "name": "stdout",
     "output_type": "stream",
     "text": [
      "extracting tarball to tmp_2301.07193..."
     ]
    },
    {
     "name": "stdout",
     "output_type": "stream",
     "text": [
      " done.\n",
      "Retrieving document from  https://arxiv.org/e-print/2301.07199\n"
     ]
    },
    {
     "name": "stdout",
     "output_type": "stream",
     "text": [
      "extracting tarball to tmp_2301.07199..."
     ]
    },
    {
     "name": "stdout",
     "output_type": "stream",
     "text": [
      " done.\n"
     ]
    },
    {
     "name": "stderr",
     "output_type": "stream",
     "text": [
      "/opt/hostedtoolcache/Python/3.9.16/x64/lib/python3.9/site-packages/IPython/core/interactiveshell.py:3442: LatexWarning: Multiple tex files.\n",
      "\n",
      "  exec(code_obj, self.user_global_ns, self.user_ns)\n",
      "/opt/hostedtoolcache/Python/3.9.16/x64/lib/python3.9/site-packages/IPython/core/interactiveshell.py:3442: LatexWarning: Found documentclass in tmp_2301.07199/recommendations.tex\n",
      "\n",
      "  exec(code_obj, self.user_global_ns, self.user_ns)\n"
     ]
    },
    {
     "name": "stdout",
     "output_type": "stream",
     "text": [
      "Retrieving document from  https://arxiv.org/e-print/2301.07230\n"
     ]
    },
    {
     "name": "stdout",
     "output_type": "stream",
     "text": [
      "extracting tarball to tmp_2301.07230... done.\n",
      "Retrieving document from  https://arxiv.org/e-print/2301.07238\n"
     ]
    },
    {
     "name": "stdout",
     "output_type": "stream",
     "text": [
      "extracting tarball to tmp_2301.07238..."
     ]
    },
    {
     "name": "stdout",
     "output_type": "stream",
     "text": [
      " done.\n",
      "Retrieving document from  https://arxiv.org/e-print/2301.07273\n"
     ]
    },
    {
     "name": "stdout",
     "output_type": "stream",
     "text": [
      "extracting tarball to tmp_2301.07273..."
     ]
    },
    {
     "name": "stdout",
     "output_type": "stream",
     "text": [
      " done.\n",
      "Retrieving document from  https://arxiv.org/e-print/2301.07323\n"
     ]
    },
    {
     "name": "stdout",
     "output_type": "stream",
     "text": [
      "extracting tarball to tmp_2301.07323..."
     ]
    },
    {
     "name": "stdout",
     "output_type": "stream",
     "text": [
      " done.\n",
      "Retrieving document from  https://arxiv.org/e-print/2301.07331\n"
     ]
    },
    {
     "name": "stderr",
     "output_type": "stream",
     "text": [
      "/tmp/ipykernel_2054/4030337529.py:34: LatexWarning: 2301.07331 did not run properly\n",
      "not a gzip file\n",
      "  warnings.warn(latex.LatexWarning(f\"{paper_id:s} did not run properly\\n\" +\n"
     ]
    },
    {
     "name": "stdout",
     "output_type": "stream",
     "text": [
      "Retrieving document from  https://arxiv.org/e-print/2301.07333\n"
     ]
    },
    {
     "name": "stdout",
     "output_type": "stream",
     "text": [
      "extracting tarball to tmp_2301.07333... done.\n",
      "Retrieving document from  https://arxiv.org/e-print/2301.07355\n"
     ]
    },
    {
     "name": "stdout",
     "output_type": "stream",
     "text": [
      "extracting tarball to tmp_2301.07355... done.\n",
      "Retrieving document from  https://arxiv.org/e-print/2301.07358\n"
     ]
    },
    {
     "name": "stdout",
     "output_type": "stream",
     "text": [
      "extracting tarball to tmp_2301.07358..."
     ]
    },
    {
     "name": "stdout",
     "output_type": "stream",
     "text": [
      " done.\n",
      "Retrieving document from  https://arxiv.org/e-print/2301.07359\n"
     ]
    },
    {
     "name": "stderr",
     "output_type": "stream",
     "text": [
      "/opt/hostedtoolcache/Python/3.9.16/x64/lib/python3.9/site-packages/IPython/core/interactiveshell.py:3442: LatexWarning: Multiple tex files.\n",
      "\n",
      "  exec(code_obj, self.user_global_ns, self.user_ns)\n",
      "/opt/hostedtoolcache/Python/3.9.16/x64/lib/python3.9/site-packages/IPython/core/interactiveshell.py:3442: LatexWarning: Found documentclass in tmp_2301.07358/sample63.tex\n",
      "\n",
      "  exec(code_obj, self.user_global_ns, self.user_ns)\n"
     ]
    },
    {
     "name": "stdout",
     "output_type": "stream",
     "text": [
      "extracting tarball to tmp_2301.07359..."
     ]
    },
    {
     "name": "stdout",
     "output_type": "stream",
     "text": [
      " done.\n",
      "Retrieving document from  https://arxiv.org/e-print/2301.07360\n"
     ]
    },
    {
     "name": "stderr",
     "output_type": "stream",
     "text": [
      "/opt/hostedtoolcache/Python/3.9.16/x64/lib/python3.9/site-packages/IPython/core/interactiveshell.py:3442: LatexWarning: Multiple tex files.\n",
      "\n",
      "  exec(code_obj, self.user_global_ns, self.user_ns)\n",
      "/opt/hostedtoolcache/Python/3.9.16/x64/lib/python3.9/site-packages/IPython/core/interactiveshell.py:3442: LatexWarning: Found documentclass in tmp_2301.07359/sample63.tex\n",
      "\n",
      "  exec(code_obj, self.user_global_ns, self.user_ns)\n"
     ]
    },
    {
     "name": "stdout",
     "output_type": "stream",
     "text": [
      "extracting tarball to tmp_2301.07360..."
     ]
    },
    {
     "name": "stdout",
     "output_type": "stream",
     "text": [
      " done.\n",
      "Retrieving document from  https://arxiv.org/e-print/2301.07366\n"
     ]
    },
    {
     "name": "stdout",
     "output_type": "stream",
     "text": [
      "extracting tarball to tmp_2301.07366... done.\n"
     ]
    },
    {
     "name": "stdout",
     "output_type": "stream",
     "text": [
      "Retrieving document from  https://arxiv.org/e-print/2301.07367\n"
     ]
    },
    {
     "name": "stdout",
     "output_type": "stream",
     "text": [
      "extracting tarball to tmp_2301.07367..."
     ]
    },
    {
     "name": "stdout",
     "output_type": "stream",
     "text": [
      " done.\n",
      "Retrieving document from  https://arxiv.org/e-print/2301.07379\n"
     ]
    },
    {
     "name": "stdout",
     "output_type": "stream",
     "text": [
      "extracting tarball to tmp_2301.07379..."
     ]
    },
    {
     "name": "stdout",
     "output_type": "stream",
     "text": [
      " done.\n",
      "Retrieving document from  https://arxiv.org/e-print/2301.07397\n"
     ]
    },
    {
     "name": "stdout",
     "output_type": "stream",
     "text": [
      "extracting tarball to tmp_2301.07397..."
     ]
    },
    {
     "name": "stdout",
     "output_type": "stream",
     "text": [
      " done.\n",
      "Retrieving document from  https://arxiv.org/e-print/2301.07402\n"
     ]
    },
    {
     "name": "stdout",
     "output_type": "stream",
     "text": [
      "extracting tarball to tmp_2301.07402..."
     ]
    },
    {
     "name": "stdout",
     "output_type": "stream",
     "text": [
      " done.\n",
      "Retrieving document from  https://arxiv.org/e-print/2301.07418\n"
     ]
    },
    {
     "name": "stderr",
     "output_type": "stream",
     "text": [
      "/opt/hostedtoolcache/Python/3.9.16/x64/lib/python3.9/site-packages/IPython/core/interactiveshell.py:3442: LatexWarning: Multiple tex files.\n",
      "\n",
      "  exec(code_obj, self.user_global_ns, self.user_ns)\n",
      "/opt/hostedtoolcache/Python/3.9.16/x64/lib/python3.9/site-packages/IPython/core/interactiveshell.py:3442: LatexWarning: Found documentclass in tmp_2301.07402/rev-jaasample.tex\n",
      "\n",
      "  exec(code_obj, self.user_global_ns, self.user_ns)\n"
     ]
    },
    {
     "name": "stdout",
     "output_type": "stream",
     "text": [
      "extracting tarball to tmp_2301.07418..."
     ]
    },
    {
     "name": "stdout",
     "output_type": "stream",
     "text": [
      " done.\n",
      "Retrieving document from  https://arxiv.org/e-print/2301.07444\n"
     ]
    },
    {
     "name": "stderr",
     "output_type": "stream",
     "text": [
      "/opt/hostedtoolcache/Python/3.9.16/x64/lib/python3.9/site-packages/IPython/core/interactiveshell.py:3442: LatexWarning: Multiple tex files.\n",
      "\n",
      "  exec(code_obj, self.user_global_ns, self.user_ns)\n",
      "/opt/hostedtoolcache/Python/3.9.16/x64/lib/python3.9/site-packages/IPython/core/interactiveshell.py:3442: LatexWarning: Found documentclass in tmp_2301.07418/main.tex\n",
      "\n",
      "  exec(code_obj, self.user_global_ns, self.user_ns)\n"
     ]
    },
    {
     "name": "stdout",
     "output_type": "stream",
     "text": [
      "extracting tarball to tmp_2301.07444... done.\n",
      "Retrieving document from  https://arxiv.org/e-print/2301.07447\n"
     ]
    },
    {
     "name": "stdout",
     "output_type": "stream",
     "text": [
      "extracting tarball to tmp_2301.07447..."
     ]
    },
    {
     "name": "stdout",
     "output_type": "stream",
     "text": [
      " done.\n",
      "Retrieving document from  https://arxiv.org/e-print/2301.07450\n"
     ]
    },
    {
     "name": "stdout",
     "output_type": "stream",
     "text": [
      "extracting tarball to tmp_2301.07450..."
     ]
    },
    {
     "name": "stdout",
     "output_type": "stream",
     "text": [
      " done.\n",
      "Retrieving document from  https://arxiv.org/e-print/2301.07552\n"
     ]
    },
    {
     "name": "stdout",
     "output_type": "stream",
     "text": [
      "extracting tarball to tmp_2301.07552..."
     ]
    },
    {
     "name": "stdout",
     "output_type": "stream",
     "text": [
      " done.\n",
      "Retrieving document from  https://arxiv.org/e-print/2301.07647\n"
     ]
    },
    {
     "name": "stderr",
     "output_type": "stream",
     "text": [
      "/opt/hostedtoolcache/Python/3.9.16/x64/lib/python3.9/site-packages/IPython/core/interactiveshell.py:3442: LatexWarning: Multiple tex files.\n",
      "\n",
      "  exec(code_obj, self.user_global_ns, self.user_ns)\n",
      "/opt/hostedtoolcache/Python/3.9.16/x64/lib/python3.9/site-packages/IPython/core/interactiveshell.py:3442: LatexWarning: Found documentclass in tmp_2301.07552/sample631.tex\n",
      "\n",
      "  exec(code_obj, self.user_global_ns, self.user_ns)\n"
     ]
    },
    {
     "name": "stderr",
     "output_type": "stream",
     "text": [
      "/tmp/ipykernel_2054/4030337529.py:34: LatexWarning: 2301.07647 did not run properly\n",
      "not a gzip file\n",
      "  warnings.warn(latex.LatexWarning(f\"{paper_id:s} did not run properly\\n\" +\n"
     ]
    },
    {
     "name": "stdout",
     "output_type": "stream",
     "text": [
      "Retrieving document from  https://arxiv.org/e-print/2301.07651\n"
     ]
    },
    {
     "name": "stdout",
     "output_type": "stream",
     "text": [
      "extracting tarball to tmp_2301.07651... done.\n",
      "Retrieving document from  https://arxiv.org/e-print/2301.07688\n"
     ]
    },
    {
     "name": "stderr",
     "output_type": "stream",
     "text": [
      "/opt/hostedtoolcache/Python/3.9.16/x64/lib/python3.9/site-packages/IPython/core/interactiveshell.py:3442: LatexWarning: Multiple tex files.\n",
      "\n",
      "  exec(code_obj, self.user_global_ns, self.user_ns)\n",
      "/opt/hostedtoolcache/Python/3.9.16/x64/lib/python3.9/site-packages/IPython/core/interactiveshell.py:3442: LatexWarning: Found documentclass in tmp_2301.07651/main.tex\n",
      "\n",
      "  exec(code_obj, self.user_global_ns, self.user_ns)\n",
      "/opt/hostedtoolcache/Python/3.9.16/x64/lib/python3.9/site-packages/arxiv_on_deck_2/latex.py:292: LatexWarning: Latex injecting: 'affiliations.tex' from 'tmp_2301.07651/affiliations.tex'\n",
      "  warnings.warn(LatexWarning(f\"Latex injecting: '{ext}' from '{subsource}'\"))\n",
      "/opt/hostedtoolcache/Python/3.9.16/x64/lib/python3.9/site-packages/arxiv_on_deck_2/latex.py:292: LatexWarning: Latex injecting: '6-appendix.tex' from 'tmp_2301.07651/6-appendix.tex'\n",
      "  warnings.warn(LatexWarning(f\"Latex injecting: '{ext}' from '{subsource}'\"))\n",
      "/opt/hostedtoolcache/Python/3.9.16/x64/lib/python3.9/site-packages/arxiv_on_deck_2/latex.py:292: LatexWarning: Latex injecting: '5-conclusions.tex' from 'tmp_2301.07651/5-conclusions.tex'\n",
      "  warnings.warn(LatexWarning(f\"Latex injecting: '{ext}' from '{subsource}'\"))\n",
      "/opt/hostedtoolcache/Python/3.9.16/x64/lib/python3.9/site-packages/arxiv_on_deck_2/latex.py:292: LatexWarning: Latex injecting: '4-results.tex' from 'tmp_2301.07651/4-results.tex'\n",
      "  warnings.warn(LatexWarning(f\"Latex injecting: '{ext}' from '{subsource}'\"))\n",
      "/opt/hostedtoolcache/Python/3.9.16/x64/lib/python3.9/site-packages/arxiv_on_deck_2/latex.py:292: LatexWarning: Latex injecting: '3-selection.tex' from 'tmp_2301.07651/3-selection.tex'\n",
      "  warnings.warn(LatexWarning(f\"Latex injecting: '{ext}' from '{subsource}'\"))\n",
      "/opt/hostedtoolcache/Python/3.9.16/x64/lib/python3.9/site-packages/arxiv_on_deck_2/latex.py:292: LatexWarning: Latex injecting: '2-methodology.tex' from 'tmp_2301.07651/2-methodology.tex'\n",
      "  warnings.warn(LatexWarning(f\"Latex injecting: '{ext}' from '{subsource}'\"))\n",
      "/opt/hostedtoolcache/Python/3.9.16/x64/lib/python3.9/site-packages/arxiv_on_deck_2/latex.py:292: LatexWarning: Latex injecting: '1-intro.tex' from 'tmp_2301.07651/1-intro.tex'\n",
      "  warnings.warn(LatexWarning(f\"Latex injecting: '{ext}' from '{subsource}'\"))\n",
      "/opt/hostedtoolcache/Python/3.9.16/x64/lib/python3.9/site-packages/arxiv_on_deck_2/latex.py:292: LatexWarning: Latex injecting: 'authors.tex' from 'tmp_2301.07651/authors.tex'\n",
      "  warnings.warn(LatexWarning(f\"Latex injecting: '{ext}' from '{subsource}'\"))\n"
     ]
    },
    {
     "name": "stdout",
     "output_type": "stream",
     "text": [
      "extracting tarball to tmp_2301.07688... done.\n",
      "Retrieving document from  https://arxiv.org/e-print/2301.07692\n"
     ]
    },
    {
     "name": "stderr",
     "output_type": "stream",
     "text": [
      "/opt/hostedtoolcache/Python/3.9.16/x64/lib/python3.9/site-packages/IPython/core/interactiveshell.py:3442: LatexWarning: Multiple tex files.\n",
      "\n",
      "  exec(code_obj, self.user_global_ns, self.user_ns)\n",
      "/opt/hostedtoolcache/Python/3.9.16/x64/lib/python3.9/site-packages/IPython/core/interactiveshell.py:3442: LatexWarning: Found documentclass in tmp_2301.07688/ms.tex\n",
      "\n",
      "  exec(code_obj, self.user_global_ns, self.user_ns)\n"
     ]
    },
    {
     "name": "stdout",
     "output_type": "stream",
     "text": [
      "extracting tarball to tmp_2301.07692..."
     ]
    },
    {
     "name": "stdout",
     "output_type": "stream",
     "text": [
      " done.\n"
     ]
    }
   ],
   "source": [
    "documents = []\n",
    "failed = []\n",
    "for paper in tqdm(candidates[:-1]):\n",
    "    paper_id = paper['identifier'].lower().replace('arxiv:', '')\n",
    "    \n",
    "    folder = f'tmp_{paper_id}'\n",
    "\n",
    "    try:\n",
    "        if not os.path.isdir(folder):\n",
    "            folder = retrieve_document_source(f\"{paper_id}\", f'tmp_{paper_id}')\n",
    "        \n",
    "        try:\n",
    "            doc = latex.LatexDocument(folder, validation=validation)    \n",
    "        except AffiliationError as affilerror:\n",
    "            msg = f\"ArXiv:{paper_id:s} is not an MPIA paper... \" + str(affilerror)\n",
    "            failed.append((paper, \"affiliation error: \" + str(affilerror) ))\n",
    "            continue\n",
    "        \n",
    "        # Hack because sometimes author parsing does not work well\n",
    "        if (len(doc.authors) != len(paper['authors'])):\n",
    "            doc._authors = paper['authors']\n",
    "        if (doc.abstract) in (None, ''):\n",
    "            doc._abstract = paper['abstract']\n",
    "            \n",
    "        doc.comment = (get_markdown_badge(paper_id) + \n",
    "                       \"<mark>Appeared on: \" + paper['date'] + \"</mark> - \" +\n",
    "                       \"_\" + paper['comments'] + \"_\")\n",
    "        doc.highlight_authors_in_list(hl_list)\n",
    "\n",
    "        full_md = doc.generate_markdown_text()\n",
    "        \n",
    "        documents.append((paper_id, full_md))\n",
    "    except Exception as e:\n",
    "        warnings.warn(latex.LatexWarning(f\"{paper_id:s} did not run properly\\n\" +\n",
    "                                         str(e)\n",
    "                                        ))\n",
    "        failed.append((paper, \"latex error \" + str(e)))"
   ]
  },
  {
   "cell_type": "markdown",
   "id": "2505a25c",
   "metadata": {
    "papermill": {
     "duration": 0.008572,
     "end_time": "2023-01-19T04:09:35.133846",
     "exception": false,
     "start_time": "2023-01-19T04:09:35.125274",
     "status": "completed"
    },
    "tags": []
   },
   "source": [
    "### Export the logs\n",
    "\n",
    "Throughout, we also keep track of the logs per paper. see `logs-{today date}.md` "
   ]
  },
  {
   "cell_type": "code",
   "execution_count": 6,
   "id": "d733828a",
   "metadata": {
    "execution": {
     "iopub.execute_input": "2023-01-19T04:09:35.152724Z",
     "iopub.status.busy": "2023-01-19T04:09:35.152124Z",
     "iopub.status.idle": "2023-01-19T04:09:35.202131Z",
     "shell.execute_reply": "2023-01-19T04:09:35.201574Z"
    },
    "papermill": {
     "duration": 0.061241,
     "end_time": "2023-01-19T04:09:35.203566",
     "exception": false,
     "start_time": "2023-01-19T04:09:35.142325",
     "status": "completed"
    },
    "scrolled": false,
    "tags": []
   },
   "outputs": [
    {
     "data": {
      "text/markdown": [
       "## Successful papers"
      ],
      "text/plain": [
       "<IPython.core.display.Markdown object>"
      ]
     },
     "metadata": {},
     "output_type": "display_data"
    },
    {
     "data": {
      "text/markdown": [
       "\n",
       "|||\n",
       "|---:|:---|\n",
       "| [![arXiv](https://img.shields.io/badge/arXiv-arXiv:2301.07116-b31b1b.svg)](https://arxiv.org/abs/arXiv:2301.07116) | **Arkenstone I: A Novel Method for Robustly Capturing High Specific Energy  Outflows In Cosmological Simulations**  |\n",
       "|| <mark>Matthew C. Smith</mark>, et al. -- incl., <mark>Lars Hernquist</mark>, <mark>Yuan Li</mark> |\n",
       "|*Appeared on*| *2023-01-19*|\n",
       "|*Comments*| *Submitted to MNRAS, 26 pages, 15 figures*|\n",
       "|**Abstract**| Arkenstone is a new model for multiphase, stellar feedback driven galactic winds designed for inclusion in coarse resolution cosmological simulations. In this first paper of a series, we describe the features that allow Arkenstone to properly treat high specific energy wind components and demonstrate them using idealised non-cosmological simulations of a galaxy with a realistic CGM, using the Arepo code. Hot, fast gas phases with low mass loadings are predicted to dominate the energy content of multiphase outflows. In order to treat the huge dynamic range of spatial scales involved in cosmological galaxy formation at feasible computational expense, cosmological volume simulations typically employ a Lagrangian code or else use adaptive mesh refinement with a quasi-Lagrangian refinement strategy. However, it is difficult to inject a high specific energy wind in a Lagrangian scheme without incurring artificial burstiness. Additionally, the low densities inherent to this type of flow result in poor spatial resolution. Arkenstone addresses these issues with a novel scheme for coupling energy into the ISM/CGM transition region which also provides the necessary level of refinement at the base of the wind. In the absence of our improvements, we show that poor spatial resolution near the sonic point of a hot, fast outflow leads to an underestimation of gas acceleration as the wind propagates. We explore the different mechanisms by which low and high specific energy winds can regulate the SFR of galaxies. In future work, we will demonstrate other aspects of the Arkenstone model. |"
      ],
      "text/plain": [
       "[arXiv:2301.07116] Arkenstone I: A Novel Method for Robustly Capturing High Specific Energy  Outflows In Cosmological Simulations\n",
       "\t<mark>Matthew C. Smith</mark>, et al. -- incl., <mark>Lars Hernquist</mark>, <mark>Yuan Li</mark>"
      ]
     },
     "metadata": {},
     "output_type": "display_data"
    },
    {
     "data": {
      "text/markdown": [
       "\n",
       "|||\n",
       "|---:|:---|\n",
       "| [![arXiv](https://img.shields.io/badge/arXiv-arXiv:2301.07199-b31b1b.svg)](https://arxiv.org/abs/arXiv:2301.07199) | **The JWST Early Release Science Program for Direct Observations of  Exoplanetary Systems: Best Practices for Data Collection in Cycle 2 and  Beyond**  |\n",
       "|| Sasha Hinkley, et al. -- incl., <mark>Michael Meyer</mark> |\n",
       "|*Appeared on*| *2023-01-19*|\n",
       "|*Comments*| *Not yet submitted for publication. Intended only to be a community resource for JWST Cycle 2 proposals*|\n",
       "|**Abstract**| We present a set of recommended best practices for JWST data collection for members of the community focussed on the direct imaging and spectroscopy of exoplanetary systems. These findings and recommendations are based on the early analysis of the JWST Early Release Science Program 1386, \"High-Contrast Imaging of Exoplanets and Exoplanetary Systems with JWST.\" Our goal is for this information to be useful for observers in preparation of JWST proposals for Cycle 2 and beyond. In addition to compiling a set of best practices from our ERS program, in a few cases we also draw on the expertise gained within the instrument commissioning programs, as well as include a handful of data processing best practices. We anticipate that this document will be regularly updated and resubmitted to arXiv.org to ensure that we have distributed our knowledge of best-practices for data collection as widely and efficiently as possible. |"
      ],
      "text/plain": [
       "[arXiv:2301.07199] The JWST Early Release Science Program for Direct Observations of  Exoplanetary Systems: Best Practices for Data Collection in Cycle 2 and  Beyond\n",
       "\tSasha Hinkley, et al. -- incl., <mark>Michael Meyer</mark>"
      ]
     },
     "metadata": {},
     "output_type": "display_data"
    },
    {
     "data": {
      "text/markdown": [
       "\n",
       "|||\n",
       "|---:|:---|\n",
       "| [![arXiv](https://img.shields.io/badge/arXiv-arXiv:2301.07366-b31b1b.svg)](https://arxiv.org/abs/arXiv:2301.07366) | **Revisiting HESS J1809$-$193 -- a very-high-energy gamma-ray source in a  fascinating environment**  |\n",
       "|| <mark>Lars Mohrmann</mark>, Vikas Joshi, Jim Hinton, Stefan Funk |\n",
       "|*Appeared on*| *2023-01-19*|\n",
       "|*Comments*| *6 pages, 5 figures. Proceedings of the 7th Heidelberg International Symposium on High-Energy Gamma-Ray Astronomy (Gamma2022)*|\n",
       "|**Abstract**| HESS J1809$-$193 is one of the unidentified very-high-energy gamma-ray sources in the H.E.S.S. Galactic Plane Survey (HGPS). It is located in a rich environment, with an energetic pulsar and associated X-ray pulsar wind nebula, several supernova remnants, and molecular clouds in the vicinity. Furthermore, HESS J1809$-$193 was recently detected at energies above 56 TeV with HAWC, which makes it a PeVatron candidate, that is, a source capable of accelerating cosmic rays up to PeV energies. We present a new analysis of the TeV gamma-ray emission of HESS J1809$-$193 with H.E.S.S., based on improved analysis techniques. We find that the emission is best described by two components with distinct morphologies and energy spectra. We complement this study with an analysis of Fermi-LAT data in the same region. Finally, taking into account further multi-wavelength data, we interpret our results both in a hadronic and leptonic framework. |"
      ],
      "text/plain": [
       "[arXiv:2301.07366] Revisiting HESS J1809$-$193 -- a very-high-energy gamma-ray source in a  fascinating environment\n",
       "\t<mark>Lars Mohrmann</mark>, Vikas Joshi, Jim Hinton, Stefan Funk"
      ]
     },
     "metadata": {},
     "output_type": "display_data"
    },
    {
     "data": {
      "text/markdown": [
       "## Failed papers"
      ],
      "text/plain": [
       "<IPython.core.display.Markdown object>"
      ]
     },
     "metadata": {},
     "output_type": "display_data"
    },
    {
     "data": {
      "text/markdown": [
       "\n",
       "|||\n",
       "|---:|:---|\n",
       "| [![arXiv](https://img.shields.io/badge/arXiv-arXiv:2301.07118-b31b1b.svg)](https://arxiv.org/abs/arXiv:2301.07118) | **Mineral Detection of Neutrinos and Dark Matter. A Whitepaper**  |\n",
       "|| Sebastian Baum, et al. -- incl., <mark>Frank Avignone</mark>, <mark>Joseph Bramante</mark>, <mark>Patrick Huber</mark> |\n",
       "|*Appeared on*| *2023-01-19*|\n",
       "|*Comments*| *113 pages, many pictures of tracks*|\n",
       "|**Abstract**| Minerals are solid state nuclear track detectors - nuclear recoils in a mineral leave latent damage to the crystal structure. Depending on the mineral and its temperature, the damage features are retained in the material from minutes (in low-melting point materials such as salts at a few hundred degrees C) to timescales much larger than the 4.5 Gyr-age of the Solar System (in refractory materials at room temperature). The damage features from the $O(50)$ MeV fission fragments left by spontaneous fission of $^{238}$U and other heavy unstable isotopes have long been used for fission track dating of geological samples. Laboratory studies have demonstrated the readout of defects caused by nuclear recoils with energies as small as $O(1)$ keV. This whitepaper discusses a wide range of possible applications of minerals as detectors for $E_R \\gtrsim O(1)$ keV nuclear recoils: Using natural minerals, one could use the damage features accumulated over $O(10)$ Myr$-O(1)$ Gyr to measure astrophysical neutrino fluxes (from the Sun, supernovae, or cosmic rays interacting with the atmosphere) as well as search for Dark Matter. Using signals accumulated over months to few-years timescales in laboratory-manufactured minerals, one could measure reactor neutrinos or use them as Dark Matter detectors, potentially with directional sensitivity. Research groups in Europe, Asia, and America have started developing microscopy techniques to read out the $O(1) - O(100)$ nm damage features in crystals left by $O(0.1) - O(100)$ keV nuclear recoils. We report on the status and plans of these programs. The research program towards the realization of such detectors is highly interdisciplinary, combining geoscience, material science, applied and fundamental physics with techniques from quantum information and Artificial Intelligence. |\n",
       "|<p style=\"color:green\"> **ERROR** </p>| <p style=\"color:green\">affiliation error: mpia.affiliation_verifications: '69117' keyword not found.</p> |"
      ],
      "text/plain": [
       "<IPython.core.display.Markdown object>"
      ]
     },
     "metadata": {},
     "output_type": "display_data"
    },
    {
     "data": {
      "text/markdown": [
       "\n",
       "|||\n",
       "|---:|:---|\n",
       "| [![arXiv](https://img.shields.io/badge/arXiv-arXiv:2301.07132-b31b1b.svg)](https://arxiv.org/abs/arXiv:2301.07132) | **A black widow population dissection through HiPERCAM multi-band light  curve modelling**  |\n",
       "|| D. Mata Sánchez, et al. -- incl., <mark>S. Littlefair</mark> |\n",
       "|*Appeared on*| *2023-01-19*|\n",
       "|*Comments*| *18 pages (+12 pages for appendix), 12 figures (+13 in the appendix), 3 tables (1 in the appendix). Accepted for publication in MNRAS on 2023 January 17th*|\n",
       "|**Abstract**| Black widows are extreme millisecond pulsar binaries where the pulsar wind ablates their low-mass companion stars. Their optical light curves vary periodically due to the high irradiation and tidal distortion of the companion, which allows us to infer the binary parameters. We present simultaneous multi-band observations obtained with the HIPERCAM instrument at the 10.4-m GTC telescope for six of these systems. The combination of this five-band fast photometer with the world's largest optical telescope enables us to inspect the light curve range near minima. We present the first light curve for PSR J1641+8049, as well as attain a significant increase in signal-to-noise and cadence compared with previous publications for the remaining 5 targets: PSR J0023+0923, PSR J0251+2606, PSR J0636+5129, PSR J0952-0607 and PSR J1544+4937. We report on the results of the light curve modelling with the Icarus code for all six systems, which reveals some of the hottest and densest companion stars known. We compare the parameters derived with the limited but steadily growing black widow population for which optical modelling is available. We find some expected correlations, such as that between the companion star mean density and the orbital period of the system, but also a puzzling positive correlation between the orbital inclination and the irradiation temperature of the companion. We propose such a correlation would arise if pulsars with magnetic axis orthogonal to their spin axis are capable of irradiating their companions to a higher degree. |\n",
       "|<p style=\"color:green\"> **ERROR** </p>| <p style=\"color:green\">affiliation error: mpia.affiliation_verifications: '69117' keyword not found.</p> |"
      ],
      "text/plain": [
       "<IPython.core.display.Markdown object>"
      ]
     },
     "metadata": {},
     "output_type": "display_data"
    },
    {
     "data": {
      "text/markdown": [
       "\n",
       "|||\n",
       "|---:|:---|\n",
       "| [![arXiv](https://img.shields.io/badge/arXiv-arXiv:2301.07323-b31b1b.svg)](https://arxiv.org/abs/arXiv:2301.07323) | **Light curves and polarizations of gravitationally lensed kilonovae**  |\n",
       "|| Yan-Qing Qi, <mark>Tong Liu</mark> |\n",
       "|*Appeared on*| *2023-01-19*|\n",
       "|*Comments*| *11 pages, 4 figures, accepted for publication in ApJ*|\n",
       "|**Abstract**| Kilonovae are generally believed to originate from the ejecta of binary neutron stars (NSs) or black hole and NS mergers. Free neutrons might be retained in the outermost layer of the ejecta to produce a precursor via $\\beta$-decay. During the propagation of kilonovae to observers, a small percentage of them might be gravitationally lensed by foreground objects. In this paper, three lens models, i.e., the point-mass model, the singular isothermal sphere (SIS) model, and the Chang-Refsdal model, were taken into consideration to explore the light curves and polarizations of gravitationally lensed kilonovae. We found that if the time delay between two images exceeds the ejecta heating timescale for the lens mass $\\sim 10^{10}~M_\\odot$ in the SIS model, a tiny bump-like signal will be generated in the light curve, and the total luminosity will be magnified in all cases. The polarization of lensed kilonovae is significantly enhanced in most cases. Future detections of lensed kilonovae will impose constraints on the morphology of the ejecta and aid in the determination of the nature of compact object mergers and the search for strong gravitational lenses. |\n",
       "|<p style=\"color:green\"> **ERROR** </p>| <p style=\"color:green\">affiliation error: mpia.affiliation_verifications: '69117' keyword not found.</p> |"
      ],
      "text/plain": [
       "<IPython.core.display.Markdown object>"
      ]
     },
     "metadata": {},
     "output_type": "display_data"
    },
    {
     "data": {
      "text/markdown": [
       "\n",
       "|||\n",
       "|---:|:---|\n",
       "| [![arXiv](https://img.shields.io/badge/arXiv-arXiv:2301.07360-b31b1b.svg)](https://arxiv.org/abs/arXiv:2301.07360) | **MAMMOTH-Subaru V. Effects of Cosmic Variance on Ly$α$ Luminosity  Functions at $z=2.2-2.3$**  |\n",
       "|| Ke Ma, et al. -- incl., <mark>Haibin Zhang</mark>, <mark>Yongming Liang</mark>, <mark>Mingyu Li</mark>, <mark>Qiong Li</mark> |\n",
       "|*Appeared on*| *2023-01-19*|\n",
       "|*Comments*| *14 pages, 7 figures*|\n",
       "|**Abstract**| Cosmic variance introduces significant uncertainties into galaxy number density properties when surveying the high-z Universe with a small volume, such uncertainties produce the field-to-field variance of galaxy number $\\sigma_{g}$ in observational astronomy. This uncertainty significantly affects the Luminosity Functions (LF) measurement of Lya Emitters (LAEs). For most previous Lya LF studies, $\\sigma_{g}$ is often adopted from predictions by cosmological simulations, but barely confirmed by observations. Measuring cosmic variance requires a huge sample over a large volume, exceeding the capabilities of most astronomical instruments. In this study, we demonstrate an observational approach for measuring the cosmic variance contribution for $z\\approx2.2$ Lya LFs. The LAE candidates are observed using narrowband and broadband of the Subaru/Hyper Suprime-Cam (HSC), with 8 independent fields, making the total survey area $\\simeq11.62$deg$^2$ and a comoving volume of $\\simeq8.71\\times10^6$Mpc$^3$. These eight fields are selected using the project of MAMMOTH. We report a best-fit Schechter function with parameters $\\alpha=-1.75$ (fixed), $L_{Ly\\alpha}^{*}=5.18_{-0.40}^{+0.43} \\times 10^{42}$erg s$^{-1}$ and $\\phi_{Lya}^{*}=4.87_{-0.55}^{+0.54}\\times10^{-4}$Mpc$^{-3}$ for the overall Lya LFs. After clipping out the regions that can bias the cosmic variance measurements, we calculate $\\sigma_{g}$, by sampling LAEs within multiple pointings assigned on the field image. We investigate the relation between $\\sigma_{g}$ and survey volume $V$, and fit a simple power law: $\\sigma_g=k\\times(\\frac{V_{\\rm eff}}{10^5 {\\rm Mpc}^3})^{\\beta}$. We find best-fit values of $-1.209_{-0.106}^{+0.106}$ for $\\beta$ and $0.986_{-0.100}^{+0.108}$ for k. We compare our measurements with predictions from simulations and find that the cosmic variance of LAEs might be larger than that of general star-forming galaxies. |\n",
       "|<p style=\"color:green\"> **ERROR** </p>| <p style=\"color:green\">affiliation error: mpia.affiliation_verifications: '69117' keyword not found.</p> |"
      ],
      "text/plain": [
       "<IPython.core.display.Markdown object>"
      ]
     },
     "metadata": {},
     "output_type": "display_data"
    },
    {
     "data": {
      "text/markdown": [
       "\n",
       "|||\n",
       "|---:|:---|\n",
       "| [![arXiv](https://img.shields.io/badge/arXiv-arXiv:2301.07651-b31b1b.svg)](https://arxiv.org/abs/arXiv:2301.07651) | **The Atacama Cosmology Telescope: Flux Upper Limits from a Targeted  Search for Extragalactic Transients**  |\n",
       "|| <mark>Carlos Hervías-Caimapo</mark>, et al. |\n",
       "|*Appeared on*| *2023-01-19*|\n",
       "|*Comments*| *13 pages, 4 figures, 8 tables. The full tables of flux upper limits for individual transients will be available at this https URL Submitted to MNRAS*|\n",
       "|**Abstract**| We have performed targeted searches of known, extragalactic transient events at millimetre wavelengths using nine seasons (2013--2021) of 98, 150, and 229 GHz Atacama Cosmology Telescope (ACT) observations that mapped ${\\sim}40$ per cent of the sky for most of the data volume. We observe at least once 88 gamma-ray bursts (GRBs), 12 tidal disruption events (TDEs) and 203 other transients, including supernovae (SNe). We stack our ACT observations to increase the signal-to-noise ratio of the maps. In all cases but one, we do not detect these transients in the ACT data. The single candidate detection (event AT2019ppm), seen at ${\\sim}5\\sigma$ significance in our data, appears to be due to active galactic nuclei (AGN) activity in the host galaxy coincident with a transient alert. For each source in our search we provide flux upper limits. For example, the medians for the 98 GHz 95 per cent confidence interval upper limits are $28$, $15$, and $16$ mJy for GRBs, SNe, and TDEs respectively. The sensitivity of future wide-area cosmic microwave background (CMB) surveys should be good enough to detect many of these events using the methods described in this paper. |\n",
       "|<p style=\"color:green\"> **ERROR** </p>| <p style=\"color:green\">affiliation error: mpia.affiliation_verifications: '69117' keyword not found.</p> |"
      ],
      "text/plain": [
       "<IPython.core.display.Markdown object>"
      ]
     },
     "metadata": {},
     "output_type": "display_data"
    },
    {
     "data": {
      "text/markdown": [
       "\n",
       "|||\n",
       "|---:|:---|\n",
       "| [![arXiv](https://img.shields.io/badge/arXiv-arXiv:2301.07688-b31b1b.svg)](https://arxiv.org/abs/arXiv:2301.07688) | **The Eighteenth Data Release of the Sloan Digital Sky Surveys: Targeting  and First Spectra from SDSS-V**  |\n",
       "|| Andrés Almeida, et al. -- incl., <mark>Joel R. Brownstein</mark>, <mark>Joseph N. Burchett</mark>, <mark>Nathan De Lee</mark> |\n",
       "|*Appeared on*| *2023-01-19*|\n",
       "|*Comments*| *29 pages plus extensive appendices of targeting details. To be submitted to AAS Journals*|\n",
       "|**Abstract**| The eighteenth data release of the Sloan Digital Sky Surveys (SDSS) is the first one for SDSS-V, the fifth generation of the survey. SDSS-V comprises three primary scientific programs, or \"Mappers\": Milky Way Mapper (MWM), Black Hole Mapper (BHM), and Local Volume Mapper (LVM). This data release contains extensive targeting information for the two multi-object spectroscopy programs (MWM and BHM), including input catalogs and selection functions for their numerous scientific objectives. We describe the production of the targeting databases and their calibration- and scientifically-focused components. DR18 also includes ~25,000 new SDSS spectra and supplemental information for X-ray sources identified by eROSITA in its eFEDS field. We present updates to some of the SDSS software pipelines and preview changes anticipated for DR19. We also describe three value-added catalogs (VACs) based on SDSS-IV data that have been published since DR17, and one VAC based on the SDSS-V data in the eFEDS field. |\n",
       "|<p style=\"color:green\"> **ERROR** </p>| <p style=\"color:green\">affiliation error: mpia.affiliation_verifications: '69117' keyword not found.</p> |"
      ],
      "text/plain": [
       "<IPython.core.display.Markdown object>"
      ]
     },
     "metadata": {},
     "output_type": "display_data"
    },
    {
     "data": {
      "text/markdown": [
       "\n",
       "|||\n",
       "|---:|:---|\n",
       "| [![arXiv](https://img.shields.io/badge/arXiv-arXiv:2301.07113-b31b1b.svg)](https://arxiv.org/abs/arXiv:2301.07113) | **Classifying the satellite plane membership of Centaurus A's dwarf  galaxies using orbital alignment constraints**  |\n",
       "|| Kosuke Jamie Kanehisa, Marcel S. Pawlowski, <mark>Oliver Müller</mark>, Sangmo Tony Sohn |\n",
       "|*Appeared on*| *2023-01-19*|\n",
       "|*Comments*| *15 pages, 8 figures, 3 tables, accepted for publication in MNRAS*|\n",
       "|**Abstract**| The flattened, possibly co-rotating plane of satellite galaxies around Centaurus A, if more than a fortuitous alignment, adds to the pre-existing tension between the well-studied Milky Way and M31 planes and the $\\Lambda$CDM model of structure formation. It was recently reported that the Centaurus A satellite plane (CASP) may be rotationally supported, but a further understanding of the system's kinematics is elusive in the absence of full three-dimensional velocities. We constrain the transverse velocities of 27 satellites that would rotationally stabilise the Centaurus A plane, and classify the satellites by whether their possible orbits are consistent with the CASP. Five satellites are identified to be unlikely to participate in the plane, two of which are clearly non-members. Despite their previously reported line-of-sight velocity trend suggestive of a common co-rotating motion, 17 out of 22 potential CASP members are consistent with either orbital direction within both the full range of possible kinematics as well as when limiting orbits to those within the plane. On the other hand, disregarding the 5 off-plane satellites found to be inconsistent with CASP membership enhances the significance of the CASP's line-of-sight velocity trend fivefold. Our results are robust with different mass estimates of the Centaurus A halo, and the adoption of either spherical or triaxial NFW potentials. |\n",
       "|<p style=\"color:green\"> **ERROR** </p>| <p style=\"color:green\">affiliation error: mpia.affiliation_verifications: 'Heidelberg' keyword not found.</p> |"
      ],
      "text/plain": [
       "<IPython.core.display.Markdown object>"
      ]
     },
     "metadata": {},
     "output_type": "display_data"
    },
    {
     "data": {
      "text/markdown": [
       "\n",
       "|||\n",
       "|---:|:---|\n",
       "| [![arXiv](https://img.shields.io/badge/arXiv-arXiv:2301.07114-b31b1b.svg)](https://arxiv.org/abs/arXiv:2301.07114) | **Multifield Ultralight Dark Matter**  |\n",
       "|| Mateja Gosenca, et al. -- incl., <mark>Andrew Eberhardt</mark> |\n",
       "|*Appeared on*| *2023-01-19*|\n",
       "|*Comments*| *11 pages, 7 figures, to be submitted to PRD*|\n",
       "|**Abstract**| Ultralight dark matter (ULDM) is usually taken to be a single scalar field. Here we explore the possibility that ULDM consists of $N$ light scalar fields with only gravitational interactions. This configuration is more consistent with the underlying particle physics motivations for these scenarios than a single ultralight field. ULDM halos have a characteristic granular structure that increases stellar velocity dispersion and can be used as observational constraints on ULDM models. In multifield simulations, we find that inside a halo the amplitude of the total density fluctuations decreases as $1/\\sqrt{N}$ and that the fields do not become significantly correlated over cosmological timescales. Smoother halos heat stellar orbits less efficiently, reducing the velocity dispersion relative to the single field case and thus weakening the observational constraints on the field mass. Analytically, we show that for $N$ equal-mass fields with mass $m$ the ULDM contribution to the stellar velocity dispersion scales as $1/(N m^3)$. Lighter fields heat the most efficiently and if the smallest mass $m_L$ is significantly below the other field masses the dispersion scales as $1/(N^2 m_L^3)$. |\n",
       "|<p style=\"color:green\"> **ERROR** </p>| <p style=\"color:green\">affiliation error: mpia.affiliation_verifications: 'Heidelberg' keyword not found.</p> |"
      ],
      "text/plain": [
       "<IPython.core.display.Markdown object>"
      ]
     },
     "metadata": {},
     "output_type": "display_data"
    },
    {
     "data": {
      "text/markdown": [
       "\n",
       "|||\n",
       "|---:|:---|\n",
       "| [![arXiv](https://img.shields.io/badge/arXiv-arXiv:2301.07122-b31b1b.svg)](https://arxiv.org/abs/arXiv:2301.07122) | **Predictions on the stellar-to-halo mass relation in the dwarf regime  using the empirical model for galaxy formation EMERGE**  |\n",
       "|| <mark>Joseph A. O'Leary</mark>, et al. |\n",
       "|*Appeared on*| *2023-01-19*|\n",
       "|*Comments*| *19 pages, 19 figures, accepted for publication in MNRAS*|\n",
       "|**Abstract**| One of the primary goals when studying galaxy formation is to understand how the luminous component of the Universe, galaxies, relates to the growth of structure which is dominated by the gravitational collapse of dark matter haloes. The stellar-to-halo mass relation probes how galaxies occupy dark matter haloes and what that entails for their star formation history. We deliver the first self-consistent empirical model that can place constraints on the stellar-to-halo mass relation down to log stellar mass $\\log_{10}(m^*/\\mathrm{M}_{\\odot}) \\leq 5.0$ by fitting our model directly to Local Group dwarf data. This is accomplished by penalising galaxy growth in late-forming, low-mass haloes by mimicking the effects of reionization. This process serves to regulate the number density of galaxies by altering the scatter in halo peak mass $M^{\\mathrm{peak}}_{h}$ at fixed stellar mass, creating a tighter scatter than would otherwise exist without a high-$z$ quenching mechanism. Our results indicate that the previously established double-power law stellar-to-halo mass relation can be extended to include galaxies with $\\log_{10}(M^{\\mathrm{peak}}_{\\mathrm{h}}/\\mathrm{M}_{\\odot})\\gtrsim 10.0$. Furthermore, we show that haloes with $\\log_{10}(M^{\\mathrm{peak}}_{\\mathrm{h}}/\\mathrm{M}_{\\odot})\\lesssim 9.3$ by $z=4$ are unlikely to host a galaxy with $\\log_{10}(m^*/\\mathrm{M}_{\\odot}) > 5.0$. |\n",
       "|<p style=\"color:green\"> **ERROR** </p>| <p style=\"color:green\">affiliation error: mpia.affiliation_verifications: 'Heidelberg' keyword not found.</p> |"
      ],
      "text/plain": [
       "<IPython.core.display.Markdown object>"
      ]
     },
     "metadata": {},
     "output_type": "display_data"
    },
    {
     "data": {
      "text/markdown": [
       "\n",
       "|||\n",
       "|---:|:---|\n",
       "| [![arXiv](https://img.shields.io/badge/arXiv-arXiv:2301.07135-b31b1b.svg)](https://arxiv.org/abs/arXiv:2301.07135) | **Multimessenger Approaches to Supermassive Black Hole Binary Detection  and Parameter Estimation II: Optimal Strategies for a Pulsar Timing Array**  |\n",
       "|| <mark>Tingting Liu</mark>, et al. |\n",
       "|*Appeared on*| *2023-01-19*|\n",
       "|*Comments*| *14 pages, 6 figures, 3 tables; ApJ accepted; data will be available with the ApJ publication*|\n",
       "|**Abstract**| Pulsar timing arrays (PTAs) are Galactic-scale gravitational wave (GW) detectors consisting of precisely-timed pulsars distributed across the sky. Within the decade, PTAs are expected to detect the nanohertz GWs emitted by close-separation supermassive black hole binaries (SMBHBs), thereby opening up the low frequency end of the GW spectrum for science. Individual SMBHBs which power active galactic nuclei are also promising multi-messenger sources; they may be identified via theoretically predicted electromagnetic (EM) signatures and be followed up by PTAs for GW observations. In this work, we study the detection and parameter estimation prospects of a PTA which targets EM-selected SMBHBs. Adopting a simulated Galactic millisecond pulsar population, we envisage three different pulsar timing campaigns which observe three mock sources at different sky locations. We find that an all-sky PTA which times the best pulsars is an optimal and feasible approach to observe EM-selected SMBHBs and measure their source parameters to high precision (i.e., comparable to or better than conventional EM measurements). We discuss the implications of our findings in the context of the future PTA experiment with the planned Deep Synoptic Array-2000 and the multi-messenger studies of SMBHBs such as the well-known binary candidate OJ 287. |\n",
       "|<p style=\"color:green\"> **ERROR** </p>| <p style=\"color:green\">affiliation error: mpia.affiliation_verifications: 'Heidelberg' keyword not found.</p> |"
      ],
      "text/plain": [
       "<IPython.core.display.Markdown object>"
      ]
     },
     "metadata": {},
     "output_type": "display_data"
    },
    {
     "data": {
      "text/markdown": [
       "\n",
       "|||\n",
       "|---:|:---|\n",
       "| [![arXiv](https://img.shields.io/badge/arXiv-arXiv:2301.07136-b31b1b.svg)](https://arxiv.org/abs/arXiv:2301.07136) | **A Framework for Modeling Polycyclic Aromatic Hydrocarbon Emission in  Galaxy Evolution Simulations**  |\n",
       "|| Desika Narayanan, et al. -- incl., <mark>J.D. Smith</mark>, <mark>Brandon Hensley</mark>, <mark>Qi Li</mark> |\n",
       "|*Appeared on*| *2023-01-19*|\n",
       "|*Comments*| *Submitted to ApJ; comments welcome*|\n",
       "|**Abstract**| We present a new methodology for simulating mid-infrared emission from polycyclic aromatic hydrocarbons (PAHs) in galaxy evolution simulations. To do this, we combine theoretical models of PAH emission features as they respond to varying interstellar radiation fields, grain size distributions, and ionization states with a new on-the-fly model for dust evolution in hydrodynamic galaxy simulations. We apply these models to 3 idealized arepo galaxy evolution simulations within the smuggle physics framework. We use these simulations to develop numerical experiments investigating the buildup of PAH masses and luminosities in galaxies in idealized analogs of the Milky Way, a dwarf galaxy, and starburst disk. Our main results follow. Galaxies with high specific star formation rates have increased feedback energy per unit mass, and are able to efficiently shatter dust grains, driving up the fraction of ultra small grains. At the same time, in our model large radiation fields per unit gas density convert aliphatic grains into aromatics. The fraction of dust grains in the form of PAHs (q_PAH) can be understood as a consequence of these processes, and in our model PAHs form primarily from interstellar processing (shattering) of larger grains rather than from the growth of smaller grains. We find that the hardness of the radiation field plays a larger role than variations in the grain size distribution in setting the total integrated PAH luminosities, though cosmological simulations are necessary to fully investigate the complex interplay of processes that drive PAH band luminosities in galaxies. Finally, we highlight feature PAH strength variations, cautioning against the usage of emission templates with constant feature strength ratios. |\n",
       "|<p style=\"color:green\"> **ERROR** </p>| <p style=\"color:green\">affiliation error: mpia.affiliation_verifications: 'Heidelberg' keyword not found.</p> |"
      ],
      "text/plain": [
       "<IPython.core.display.Markdown object>"
      ]
     },
     "metadata": {},
     "output_type": "display_data"
    },
    {
     "data": {
      "text/markdown": [
       "\n",
       "|||\n",
       "|---:|:---|\n",
       "| [![arXiv](https://img.shields.io/badge/arXiv-arXiv:2301.07138-b31b1b.svg)](https://arxiv.org/abs/arXiv:2301.07138) | **Hydrogen Column Density Variability in a Sample of Local Compton-Thin  AGN**  |\n",
       "|| <mark>N. Torres-Albà</mark>, et al. -- incl., <mark>X. Zhao</mark> |\n",
       "|*Appeared on*| *2023-01-19*|\n",
       "|*Comments*| *16 pages, 6 figures, 3 tables, 3 Appendix (19 pages, 2 figures, 11 tables). Submitted to A&A*|\n",
       "|**Abstract**| We present the analysis of multiepoch observations of a set of 12 variable, Compton-thin, local (z<0.1) active galactic nuclei (AGN) selected from the 100-month BAT catalog. We analyze all available X-ray data from \\chandra, \\xmm, and \\nustar, adding up to a total of 53 individual observations. This corresponds to between 3 and 7 observations per source, probing variability timescales between a few days and $\\sim 20$~yr. All sources have at least one \\nustar observation, ensuring high-energy coverage, which allows us to disentangle the line-of-sight and reflection components in the X-ray spectra. For each source, we model all available spectra simultaneously, using the physical torus models \\myt, \\bor, and \\uxc. The simultaneous fitting, along with the high-energy coverage, allows us to place tight constraints on torus parameters such as the torus covering factor, inclination angle, and average column density. We also estimate the line-of-sight column density ($N_{\\rm H}$) for each individual observation. Within the 12 sources, we detect clear line-of-sight $N_{\\rm H}$ variability in 5, non-variability in 5, and for 2 of them it is not possible to fully disentangle intrinsic-luminosity and $N_{\\rm H}$ variability. We observe large differences between the average values of line-of-sight $N_{\\rm H}$ (or $N_{\\rm H}$ of the obscurer) and the average $N_{\\rm H}$ of the torus (or $N_{\\rm H}$ of the reflector), for each source, by a factor between $\\sim2$ to $>100$. This behavior, which suggests a physical disconnect between the absorber and the reflector, is more extreme in sources that present $N_{\\rm H}$ variability. $N_{\\rm H}$-variable AGN also tend to present larger obscuration and broader cloud distributions than their non-variable counterparts. We observe that large changes in obscuration only occur at long timescales, and use this to place tentative lower limits on torus cloud sizes. |\n",
       "|<p style=\"color:green\"> **ERROR** </p>| <p style=\"color:green\">affiliation error: mpia.affiliation_verifications: 'Heidelberg' keyword not found.</p> |"
      ],
      "text/plain": [
       "<IPython.core.display.Markdown object>"
      ]
     },
     "metadata": {},
     "output_type": "display_data"
    },
    {
     "data": {
      "text/markdown": [
       "\n",
       "|||\n",
       "|---:|:---|\n",
       "| [![arXiv](https://img.shields.io/badge/arXiv-arXiv:2301.07142-b31b1b.svg)](https://arxiv.org/abs/arXiv:2301.07142) | **A Simple Method for Predicting $N_H$ Variability in Active Galactic  Nuclei**  |\n",
       "|| Isaiah Cox, et al. -- incl., <mark>Nuria Torres-Alba</mark>, <mark>Xiurui Zhao</mark> |\n",
       "|*Appeared on*| *2023-01-19*|\n",
       "|*Comments*| *12 pages, 14 figures, 4 tables. Submitted to A&A*|\n",
       "|**Abstract**| The unified model of active galactic nuclei (AGN) includes a toroidal obscuring structure to explain the differences between Type I and Type II AGN as an effect of inclination angle. This toroidal structure is thought to be 'clumpy' as the line-of-sight column density, $N_{H}$, has been observed to vary with time in many sources. We present a new method which uses a variation in hardness ratio to predict whether an AGN will have experienced $N_H$ variability across different observations. We define two sets of hard and soft bands that are chosen to be sensitive to the energies most affected by changes in $N_H$. We calculate these ratios for Chandra and XMM-Newton observations on a sample of 12 sources with multiple observations, and compare the predictions of this method with the $N_H$ values obtained from spectral fitting. We find that the method proposed in this work is effective in preselecting sources for variability studies. |\n",
       "|<p style=\"color:green\"> **ERROR** </p>| <p style=\"color:green\">affiliation error: mpia.affiliation_verifications: 'Heidelberg' keyword not found.</p> |"
      ],
      "text/plain": [
       "<IPython.core.display.Markdown object>"
      ]
     },
     "metadata": {},
     "output_type": "display_data"
    },
    {
     "data": {
      "text/markdown": [
       "\n",
       "|||\n",
       "|---:|:---|\n",
       "| [![arXiv](https://img.shields.io/badge/arXiv-arXiv:2301.07143-b31b1b.svg)](https://arxiv.org/abs/arXiv:2301.07143) | **Revisiting mass-radius relationships for exoplanet populations: a  machine learning insight**  |\n",
       "|| <mark>Mahdiyar Mousavi-Sadr</mark>, Davood M. Jassur, Ghassem Gozaliasl |\n",
       "|*Appeared on*| *2023-01-19*|\n",
       "|*Comments*| *Submitted to MNRAS. 15 pages, 17 figures*|\n",
       "|**Abstract**| The growing number of exoplanet discoveries and advances in machine learning techniques allow us to find, explore, and understand characteristics of these new worlds beyond our Solar System. We analyze the dataset of 762 confirmed exoplanets and eight Solar System planets using efficient machine-learning approaches to characterize their fundamental quantities. By adopting different unsupervised clustering algorithms, the data are divided into two main classes: planets with $\\log R_{p}\\leq0.91R_{\\oplus}$ and $\\log M_{p}\\leq1.72M_{\\oplus}$ as class 1 and those with $\\log R_{p}>0.91R_{\\oplus}$ and $\\log M_{p}>1.72M_{\\oplus}$ as class 2. Various regression models are used to reveal correlations between physical parameters and evaluate their performance. We find that planetary mass, orbital period, and stellar mass play preponderant roles in predicting exoplanet radius. The validation metrics (RMSE, MAE, and $R^{2}$) suggest that the Support Vector Regression has, by and large, better performance than other models and is a promising model for obtaining planetary radius. Not only do we improve the prediction accuracy in logarithmic space, but also we derive parametric equations using the M5P and Markov Chain Monte Carlo methods. Planets of class 1 are shown to be consistent with a positive linear mass-radius relation, while for planets of class 2, the planetary radius represents a strong correlation with their host stars' masses. |\n",
       "|<p style=\"color:green\"> **ERROR** </p>| <p style=\"color:green\">affiliation error: mpia.affiliation_verifications: 'Heidelberg' keyword not found.</p> |"
      ],
      "text/plain": [
       "<IPython.core.display.Markdown object>"
      ]
     },
     "metadata": {},
     "output_type": "display_data"
    },
    {
     "data": {
      "text/markdown": [
       "\n",
       "|||\n",
       "|---:|:---|\n",
       "| [![arXiv](https://img.shields.io/badge/arXiv-arXiv:2301.07180-b31b1b.svg)](https://arxiv.org/abs/arXiv:2301.07180) | **Arp 220: A Post-Starburst Galaxy With Little Star Formation Outside of  It's Nuclear Disks**  |\n",
       "|| R. Chandar, et al. -- incl., <mark>S. Linden</mark>, <mark>J. C. Lee</mark> |\n",
       "|*Appeared on*| *2023-01-19*|\n",
       "|*Comments*| *accepted for publication in the Astrophysical Journal*|\n",
       "|**Abstract**| The ultra-luminous infrared galaxy Arp2 20 is a late-stage merger with several tidal structures in the outskirts and two very compact, dusty nuclei that show evidence for extreme star formation and host at least one AGN. New and archival high-resolution images taken by the Hubble Space Telescope provide a state-of-the-art view of the structures, dust, and stellar clusters in Arp 220. We find that ~90% of the Halpha emission arises from a shock-ionized bubble emanating from the AGN in the western nucleus, while the nuclear disks dominate the Pbeta emission. Four very young (~3-6 Myr) but lower mass (< 10^4 Msun) clusters are detected in Halpha within a few arcsec of the nuclei, but produce less than 1% of the line emission. We see little evidence for a population of massive clusters younger than 100Myr anywhere in Arp 220. From the masses and ages of the detected clusters, we find that star formation took place more-or-less continuously starting ~few Gyr ago with a rate between ~3-12 Msun/yr. Approximately 100Myr ago, star formation shut off suddenly everywhere, except in the nuclear disks. A very recent flicker of weak star formation produced the four young, low-mass clusters, while the rest of the galaxy appears to have remained in a post-starburst state. Cluster ages indicate that the tidal structures on the west side of the galaxy are older than those on the east side, but all appear to pre-date the shutoff of star formation. Arp 220 has many of the characteristics expected of a 'Shocked Post-Starburst Galaxy' or SPOG, since most of the system has been in a post-starburst state for the past ~100Myr and the detected Halpha emission arises from shocked rather than photo-ionized gas. |\n",
       "|<p style=\"color:green\"> **ERROR** </p>| <p style=\"color:green\">affiliation error: mpia.affiliation_verifications: 'Heidelberg' keyword not found.</p> |"
      ],
      "text/plain": [
       "<IPython.core.display.Markdown object>"
      ]
     },
     "metadata": {},
     "output_type": "display_data"
    },
    {
     "data": {
      "text/markdown": [
       "\n",
       "|||\n",
       "|---:|:---|\n",
       "| [![arXiv](https://img.shields.io/badge/arXiv-arXiv:2301.07193-b31b1b.svg)](https://arxiv.org/abs/arXiv:2301.07193) | **The Complex X-ray Obscuration Environment in the Radio Loud Type 2  Quasar 3C 223**  |\n",
       "|| Stephanie M. LaMassa, et al. -- incl., <mark>Timothy Heckman</mark> |\n",
       "|*Appeared on*| *2023-01-19*|\n",
       "|*Comments*| *accepted for publication in ApJ; Figure 3 illustrates possible physical processes shaping emergent X-ray spectrum*|\n",
       "|**Abstract**| 3C 223 is a radio loud, Type 2 quasar at $z=0.1365$ with an intriguing XMM-Newton spectrum that implicated it as a rare, Compton-thick ($N_{\\rm H} \\gtrsim 1.25 \\times 10^{24}$ cm$^{-2}$) active galactic nucleus (AGN). We obtained contemporaneous XMM-Newton and NuSTAR spectra to fit the broad-band X-ray spectrum with the physically-motivated MYTorus and borus02 models. We confirm earlier results that the obscuring gas is patchy with both high (though not Compton-thick) levels of obscuration ($N_{\\rm H} > 10^{23}$ cm$^{-2}$) and gas clouds with column densities up to an order of magnitude lower. The spectral fitting results indicate additional physical processes beyond those modeled in the spectral grids of MYTorus and borus02 impact the emergent spectrum: the Compton-scattering region may be extended beyond the putative torus; a ring of heavy Compton-thick material blocks most X-ray emission along the line of sight; or the radio jet is beamed, boosting the production of Fe K$\\alpha$ line photons in the global medium compared with what is observed along the line of sight. We revisit a recent claim that no radio loud Compton-thick AGN have yet been conclusively shown to exist, finding three reported cases of radio loud AGN with global average (but not line-of-sight) column densities that are Compton-thick. Now that it is possible to separately determine line-of-sight and global column densities, inhomogeneity in the obscuring medium has consequences for how we interpet the spectrum and classify an AGN as \"Compton-thick.\" |\n",
       "|<p style=\"color:green\"> **ERROR** </p>| <p style=\"color:green\">affiliation error: mpia.affiliation_verifications: 'Heidelberg' keyword not found.</p> |"
      ],
      "text/plain": [
       "<IPython.core.display.Markdown object>"
      ]
     },
     "metadata": {},
     "output_type": "display_data"
    },
    {
     "data": {
      "text/markdown": [
       "\n",
       "|||\n",
       "|---:|:---|\n",
       "| [![arXiv](https://img.shields.io/badge/arXiv-arXiv:2301.07230-b31b1b.svg)](https://arxiv.org/abs/arXiv:2301.07230) | **Enhanced curvature perturbations from spherical domain walls nucleated  during inflation**  |\n",
       "|| Zhen-Min Zeng, <mark>Jing Liu</mark>, <mark>Zong-Kuan Guo</mark> |\n",
       "|*Appeared on*| *2023-01-19*|\n",
       "|*Comments*| **|\n",
       "|**Abstract**| We investigate spherical domain walls~(DWs) nucleated via quantum tunneling in multifield inflationary models and curvature perturbations induced by the inhomogeneous distribution of those DWs. We consider the case that the Euclidean action $S_{E}$ of DWs changes with time during inflation so that most of DWs nucleate when $S_{E}$ reaches the minimum value and the radii of DWs are almost the same. When the Hubble horizon scale exceeds the DW radius after inflation, DWs begin to annihilate and release their energy into background radiation. Because of the random nature of the nucleation process, the statistics of DWs is of the Poisson type and the power spectrum of curvature perturbations has a characteristic slope ${\\cal P}_{\\cal R}(k)\\propto k^{3}$. The amplitude of ${\\cal P}_{\\cal R}(k)$ depends on the tension and abundance of DWs at the annihilation time while the peak mode depends on the mean separation of DWs. We also numerically obtain the energy spectra of scalar-induced gravitational waves from predicted curvature perturbations which are expected to be observed in multiband gravitational-wave detectors. |\n",
       "|<p style=\"color:green\"> **ERROR** </p>| <p style=\"color:green\">affiliation error: mpia.affiliation_verifications: 'Heidelberg' keyword not found.</p> |"
      ],
      "text/plain": [
       "<IPython.core.display.Markdown object>"
      ]
     },
     "metadata": {},
     "output_type": "display_data"
    },
    {
     "data": {
      "text/markdown": [
       "\n",
       "|||\n",
       "|---:|:---|\n",
       "| [![arXiv](https://img.shields.io/badge/arXiv-arXiv:2301.07238-b31b1b.svg)](https://arxiv.org/abs/arXiv:2301.07238) | **ALMA-IMF. VI. Prestellar and protostellar core populations in the W43  cloud complex**  |\n",
       "|| T. Nony, et al. -- incl., <mark>F. Herpin</mark> |\n",
       "|*Appeared on*| *2023-01-19*|\n",
       "|*Comments*| *27 pages, 18 figures. Accepted for publication in A&A*|\n",
       "|**Abstract**| The origin of the stellar initial mass function (IMF) and its relation with the core mass function (CMF) are actively debated issues with important implications in astrophysics. Recent observations in the W43 molecular complex of top-heavy CMFs, with an excess of high-mass cores compared to the canonical mass distribution, raise questions about our understanding of the star formation processes and their evolution in space and time. We aim to compare populations of protostellar and prestellar cores in three regions imaged in the ALMA-IMF Large Program. We created an homogeneous core catalogue in W43, combining a new core extraction in W43-MM1 with the catalogue of W43-MM2&MM3 presented in a previous work. Our detailed search for protostellar outflows enabled us to identify between 23 and 30 protostellar cores out of 127 cores in W43-MM1 and between 42 and 51 protostellar cores out of 205 cores in W43-MM2&MM3. Cores with neither outflows nor hot core emission are classified as prestellar candidates. We found a similar fraction of cores which are protostellar in the two regions, about 35%. This fraction strongly varies in mass, from 15-20% at low mass, between 0.8 and 3$M_{\\odot} $ up to about 80% above 16$M_{\\odot}$. Protostellar cores are found to be, on average, more massive and smaller in size than prestellar cores. Our analysis also revealed that the high-mass slope of the prestellar CMF in W43, $\\alpha=-1.46_{-0.19}^{+0.12}$, is consistent with the Salpeter slope, and thus the top-heavy form measured for the global CMF, $\\alpha=-0.96$, is due to the protostellar core population. Our results could be explained by clump-fed models in which cores grow in mass, especially during the protostellar phase, through inflow from their environment. The difference between the slopes of the prestellar and protostellar CMFs moreover implies that high-mass cores grow more in mass than low-mass cores. |\n",
       "|<p style=\"color:green\"> **ERROR** </p>| <p style=\"color:green\">affiliation error: mpia.affiliation_verifications: 'Heidelberg' keyword not found.</p> |"
      ],
      "text/plain": [
       "<IPython.core.display.Markdown object>"
      ]
     },
     "metadata": {},
     "output_type": "display_data"
    },
    {
     "data": {
      "text/markdown": [
       "\n",
       "|||\n",
       "|---:|:---|\n",
       "| [![arXiv](https://img.shields.io/badge/arXiv-arXiv:2301.07273-b31b1b.svg)](https://arxiv.org/abs/arXiv:2301.07273) | **Probing Jet-Torus Interaction in the Radio Galaxy NGC 1052 by  Sulfur-Bearing Molecules**  |\n",
       "|| Seiji Kameno, et al. -- incl., <mark>Minju M. Lee</mark> |\n",
       "|*Appeared on*| *2023-01-19*|\n",
       "|*Comments*| *Accepted to ApJ, 17 pages, 7 figures*|\n",
       "|**Abstract**| The radio galaxy NGC 1052 casts absorption features of sulfur-bearing molecules, H$_2$S, SO, SO$_2$, and CS toward the radio continuum emission from the core and jets. Using ALMA, we have measured the equivalent widths of SO absorption features in multiple transitions and determined the temperatures of $344 \\pm 43$ K and $26 \\pm 4$ K in sub-millimeter and millimeter wavelengths, respectively. Since sub-mm and mm continuum represents the core and jets, the high and low temperatures of the absorbers imply warm environment in the molecular torus and cooler downstream flows. The high temperature in the torus is consistent with the presence of 22-GHz H$_2$O maser emission, vibrationally excited HCN and HCO$^+$ absorption lines, and sulfur-bearing molecules in gas phase released from dust. The origin of the sulfur-bearing gas is ascribed to evaporation of icy dust component through jet-torus interaction. Shock heating is the sole plausible mechanism to maintain such high temperature of gas and dust in the torus. Implication of jet-torus interaction also supports collimation of the sub-relativistic jets by gas pressure of the torus. |\n",
       "|<p style=\"color:green\"> **ERROR** </p>| <p style=\"color:green\">affiliation error: mpia.affiliation_verifications: 'Heidelberg' keyword not found.</p> |"
      ],
      "text/plain": [
       "<IPython.core.display.Markdown object>"
      ]
     },
     "metadata": {},
     "output_type": "display_data"
    },
    {
     "data": {
      "text/markdown": [
       "\n",
       "|||\n",
       "|---:|:---|\n",
       "| [![arXiv](https://img.shields.io/badge/arXiv-arXiv:2301.07333-b31b1b.svg)](https://arxiv.org/abs/arXiv:2301.07333) | **Burst phase distribution of SGR J1935+2154 based on Insight-HXMT**  |\n",
       "|| Xuefeng Lu, et al. -- incl., <mark>Liming Song</mark>, <mark>Shuang-Nan Zhang</mark>, <mark>Shenglun Xie</mark>, <mark>Congzhan Liu</mark>, <mark>Chengkui Li</mark>, <mark>Tianming Li</mark> |\n",
       "|*Appeared on*| *2023-01-19*|\n",
       "|*Comments*| *12 pages, 9 figures*|\n",
       "|**Abstract**| On April 27, 2020, the soft gamma ray repeater SGR J1935+2154 entered its intense outburst episode again. Insight-HXMT carried out about one month observation of the source. A total number of 75 bursts were detected during this activity episode by Insight-HXMT, and persistent emission data were also accumulated. We report on the spin period search result and the phase distribution of burst start times and burst photon arrival times of the Insight-HXMT high energy detectors and Fermi Gamma-ray Burst Monitor (GBM). We find that the distribution of burst start times is uniform within its spin phase for both Insight-HXMT and Fermi-GBM observations, whereas the phase distribution of burst photons is related to the type of a burst's energy spectrum. The bursts with the same spectrum have different distribution characteristics in the initial and decay episodes for the activity of magnetar SGR J1935+2154. |\n",
       "|<p style=\"color:green\"> **ERROR** </p>| <p style=\"color:green\">affiliation error: mpia.affiliation_verifications: 'Heidelberg' keyword not found.</p> |"
      ],
      "text/plain": [
       "<IPython.core.display.Markdown object>"
      ]
     },
     "metadata": {},
     "output_type": "display_data"
    },
    {
     "data": {
      "text/markdown": [
       "\n",
       "|||\n",
       "|---:|:---|\n",
       "| [![arXiv](https://img.shields.io/badge/arXiv-arXiv:2301.07355-b31b1b.svg)](https://arxiv.org/abs/arXiv:2301.07355) | **J2102+6015: an Intriguing Radio-loud Active Galactic Nucleus in the  Early Universe**  |\n",
       "|| S. Frey, et al. -- incl., <mark>Y. Zhang</mark> |\n",
       "|*Appeared on*| *2023-01-19*|\n",
       "|*Comments*| *8 pages, 2 figures; submitted to the proceedings of the 15th European VLBI Network Symposium and Users' Meeting (EVN2022), 11-15 July 2022, University College Cork, Ireland*|\n",
       "|**Abstract**| The powerful high-redshift quasar J2102+6015 (at z=4.575) may provide useful information for studying supermassive black hole growth, galaxy evolution and feedback in the early Universe. The source has so far been imaged with very long baseline interferometry (VLBI) at 2/8 GHz (S/X) bands only, showing complex compact structure. Its total radio spectrum peaks at ~6 GHz in the rest frame. There is no sign of Doppler-boosted jet emission, and the separation of the two major features in its east-west oriented structure spanning ~10 milliarcsec does not change significantly on a timescale longer than a decade. However, VLBI astrometric monitoring observations suggest quasi-periodic (~3 yr) variation in its absolute position. J2102+6015 is presumably a young radio source with jets misaligned with respect to the line of sight. Here we briefly report on our new high-resolution imaging observations made with the European VLBI Network (EVN) at 5 and 22 GHz frequencies in 2021 June, and give an overview of what is currently known about this peculiar distant jetted active galactic nucleus. |\n",
       "|<p style=\"color:green\"> **ERROR** </p>| <p style=\"color:green\">affiliation error: mpia.affiliation_verifications: 'Heidelberg' keyword not found.</p> |"
      ],
      "text/plain": [
       "<IPython.core.display.Markdown object>"
      ]
     },
     "metadata": {},
     "output_type": "display_data"
    },
    {
     "data": {
      "text/markdown": [
       "\n",
       "|||\n",
       "|---:|:---|\n",
       "| [![arXiv](https://img.shields.io/badge/arXiv-arXiv:2301.07358-b31b1b.svg)](https://arxiv.org/abs/arXiv:2301.07358) | **MAMMOTH-Subaru III. Ly$α$ Halo Extended to $\\sim200$ kpc Identified  by Stacking $\\sim 3300$ Ly$α$ Emitters at $z=2.2-2.3$**  |\n",
       "|| <mark>Haibin Zhang</mark>, et al. -- incl., <mark>Yongming Liang</mark>, <mark>Mingyu Li</mark>, <mark>Qiong Li</mark> |\n",
       "|*Appeared on*| *2023-01-19*|\n",
       "|*Comments*| *9 pages, 7 figures, and 2 tables*|\n",
       "|**Abstract**| In this paper, we present a Ly$\\alpha$ halo extended to $\\sim200$ kpc identified by stacking $\\sim 3300$ Ly$\\alpha$ emitters at $z=2.2-2.3$. We carry out imaging observations and data reduction with Subaru/Hyper Suprime-Cam (HSC). Our total survey area is $\\sim12$ deg$^2$ and imaging depths are $25.5-27.0$ mag. Using the imaging data, we select 1,240 and 2,101 LAE candidates at $z=2.2$ and 2.3, respectively. We carry out spectroscopic observations of our LAE candidates and data reduction with Magellan/IMACS to estimate the contamination rate of our LAE candidates. We find that the contamination rate of our sample is low (8%). We stack our LAE candidates with a median stacking method to identify the Ly$\\alpha$ halo at $z=2$. We show that the Ly$\\alpha$ halo is extended to $\\sim200$ kpc at a surface brightness level of $10^{-20}$ erg s$^{-1}$ cm$^{-2}$ arcsec$^{-2}$. Comparing to previous studies, our Ly$\\alpha$ halo is more extended at radii of $\\sim25-100$ kpc, which is not likely caused by the contamination in our sample but by different redshifts and fields instead. To investigate how central galaxies affect surrounding LAHs, we divide our LAEs into subsamples based on the Ly$\\alpha$ luminosity ($L_{\\rm Ly\\alpha}$), rest-frame Ly$\\alpha$ equivalent width (EW$_0$), and UV magnitude (M$_{\\rm uv}$). We stack the subsamples and find that higher $L_{\\rm Ly\\alpha}$, lower EW$_0$, and brighter M$_{\\rm uv}$ cause more extended halos. Our results suggest that more massive LAEs generally have more extended Ly$\\alpha$ halos. |\n",
       "|<p style=\"color:green\"> **ERROR** </p>| <p style=\"color:green\">affiliation error: mpia.affiliation_verifications: 'Heidelberg' keyword not found.</p> |"
      ],
      "text/plain": [
       "<IPython.core.display.Markdown object>"
      ]
     },
     "metadata": {},
     "output_type": "display_data"
    },
    {
     "data": {
      "text/markdown": [
       "\n",
       "|||\n",
       "|---:|:---|\n",
       "| [![arXiv](https://img.shields.io/badge/arXiv-arXiv:2301.07359-b31b1b.svg)](https://arxiv.org/abs/arXiv:2301.07359) | **MAMMOTH-Subaru IV. Large Scale Structure and Clustering Analysis of  Ly$α$ Emitters and Ly$α$ Blobs at $z=2.2-2.3$**  |\n",
       "|| <mark>Haibin Zhang</mark>, et al. -- incl., <mark>Mingyu Li</mark>, <mark>Yongming Liang</mark>, <mark>Qiong Li</mark> |\n",
       "|*Appeared on*| *2023-01-19*|\n",
       "|*Comments*| *8 pages, 5 figures, and 1 table*|\n",
       "|**Abstract**| We report the large scale structure and clustering analysis of Ly$\\alpha$ emitters (LAEs) and Ly$\\alpha$ blobs (LABs) at $z=2.2-2.3$. Using 3,341 LAEs, 117 LABs, and 58 bright (Ly$\\alpha$ luminosity $L_{\\rm Ly\\alpha}>10^{43.4}$ erg s$^{-1}$) LABs at $z=2.2-2.3$ selected with Subaru/Hyper Suprime-Cam (HSC), we calculate the LAE overdensity to investigate the large scale structure at $z=2$. We show that 74% LABs and 78% bright LABs locate in overdense regions, which is consistent with the trend found by previous studies that LABs generally locate in overdense regions. We find that one of our 8 fields dubbed J1349 contains $39/117\\approx33\\%$ of our LABs and $22/58\\approx38\\%$ of our bright LABs. A unique and overdense $24'\\times12'$ ($\\approx 40\\times20$ comoving Mpc$^2$) region in J1349 has 12 LABs (8 bright LABs). By comparing to SSA22 that is one of the most overdense LAB regions found by previous studies, we show that the J1349 overdense region contains $\\geq 2$ times more bright LABs than the SSA22 overdense region. We calculate the angular correlation functions (ACFs) of LAEs and LABs in the unique J1349 field and fit the ACFs with a power-law function to measure the slopes. The slopes of LAEs and LABs are similar, while the bright LABs show a $\\approx 2$ times larger slope suggesting that bright LABs are more clustered than faint LABs and LAEs. We show that the amplitudes of ACFs of LABs are higher than LAEs, which suggests that LABs have a $\\approx 10$ times larger galaxy bias and field-to-field variance than LAEs. The strong field-to-field variance is consistent with the large differences of LAB numbers in our 8 fields. |\n",
       "|<p style=\"color:green\"> **ERROR** </p>| <p style=\"color:green\">affiliation error: mpia.affiliation_verifications: 'Heidelberg' keyword not found.</p> |"
      ],
      "text/plain": [
       "<IPython.core.display.Markdown object>"
      ]
     },
     "metadata": {},
     "output_type": "display_data"
    },
    {
     "data": {
      "text/markdown": [
       "\n",
       "|||\n",
       "|---:|:---|\n",
       "| [![arXiv](https://img.shields.io/badge/arXiv-arXiv:2301.07367-b31b1b.svg)](https://arxiv.org/abs/arXiv:2301.07367) | **Study of pulsar flux density and its variability with Parkes data  archive**  |\n",
       "|| Ziyang Wang, et al. -- incl., <mark>Jintao Xie</mark> |\n",
       "|*Appeared on*| *2023-01-19*|\n",
       "|*Comments*| **|\n",
       "|**Abstract**| We present average flux density measurements of 151 radio pulsars at 1.4 GHz with the Parkes 'Murriyang' radio telescope. We recommend our results be included in the next version of the ATNF pulsar catalogue. The large sample of pulsars together with their wide dispersion measure (DM) range make this data set useful for studying variability of flux density, pulsar spectra, and interstellar medium (ISM). We derive the modulation indices and structure-function from the flux density time series for 95 and 54 pulsars, respectively. We suggest the modulation index also be included in the next version of the pulsar catalogue to manifest the variability of pulsar flux density. The modulation index of flow density and DM are negatively correlated. The refractive scintillation (RISS) timescales or its lower bound for a set of 15 pulsars are derived. They are very different from theoretical expectations, implying the complicated properties of the ISM along different lines of sight. The structure-function for other pulsars is flat. The RISS parameters for some of these pulsars possibly could be derived with different observing strategies in the future. |\n",
       "|<p style=\"color:green\"> **ERROR** </p>| <p style=\"color:green\">affiliation error: mpia.affiliation_verifications: 'Heidelberg' keyword not found.</p> |"
      ],
      "text/plain": [
       "<IPython.core.display.Markdown object>"
      ]
     },
     "metadata": {},
     "output_type": "display_data"
    },
    {
     "data": {
      "text/markdown": [
       "\n",
       "|||\n",
       "|---:|:---|\n",
       "| [![arXiv](https://img.shields.io/badge/arXiv-arXiv:2301.07379-b31b1b.svg)](https://arxiv.org/abs/arXiv:2301.07379) | **Quasi-periodic Variations of Coronal Mass Ejections with Different  Angular Widths**  |\n",
       "|| <mark>Xia Li</mark>, et al. -- incl., <mark>Linhua Deng</mark> |\n",
       "|*Appeared on*| *2023-01-19*|\n",
       "|*Comments*| *18 pages, 8 figures, 4 tables, Accepted by APJ*|\n",
       "|**Abstract**| Coronal mass ejections (CMEs) are energetic expulsions of organized magnetic features from the Sun. The study of CME quasi-periodicity helps establish a possible relationship between CMEs, solar flares, and geomagnetic disturbances. We used the angular width of CMEs as a criterion for classifying the CMEs in the study. Based on 25 years of observational data, we systematically analyzed the quasi-periodic variations corresponding to the CME occurrence rate of different angular widths in the northern and southern hemispheres, using frequency and time-frequency analysis methods. There are various periods for CMEs of different angular widths: 9 months, 1.7 years, and 3.3-4.3 years. Compared with previous studies based on the occurrence rate of CMEs, we obtained the same periods of 1.2(+-0.01) months, 3.1(+-0.04) months, ~6.1(+-0.4) months, 1.2(+-0.1) years, and 2.4(+-0.4) years. We also found additional periods of all CMEs that appear only in one hemisphere or during a specific solar cycle. For example, 7.1(+-0.2) months and 4.1(+-0.2) years in the northern hemisphere, 1(+-0.004) months, 5.9(+-0.2) months, 1(+-0.1) years, 1.4(+-0.1) years, and 2.4(+-0.4) years in the southern hemisphere, 6.1(+-0.4) months in solar cycle 23 (SC23) and 6.1(+-0.4) months, 1.2(+-0.1) years, and 3.7(+-0.2) years in solar cycle 24 (SC24). The analysis shows that quasi-periodic variations of the CMEs are a link among oscillations in coronal magnetic activity, solar flare eruptions, and interplanetary space. |\n",
       "|<p style=\"color:green\"> **ERROR** </p>| <p style=\"color:green\">affiliation error: mpia.affiliation_verifications: 'Heidelberg' keyword not found.</p> |"
      ],
      "text/plain": [
       "<IPython.core.display.Markdown object>"
      ]
     },
     "metadata": {},
     "output_type": "display_data"
    },
    {
     "data": {
      "text/markdown": [
       "\n",
       "|||\n",
       "|---:|:---|\n",
       "| [![arXiv](https://img.shields.io/badge/arXiv-arXiv:2301.07397-b31b1b.svg)](https://arxiv.org/abs/arXiv:2301.07397) | **X-ray polarimetry reveals the magnetic field topology on sub-parsec  scales in Tycho's supernova remnant**  |\n",
       "|| Riccardo Ferrazzoli, et al. -- incl., <mark>Jeremy Heyl</mark> |\n",
       "|*Appeared on*| *2023-01-19*|\n",
       "|*Comments*| *31 pages, 7 figures, 3 tables. Accepted for publication in ApJ*|\n",
       "|**Abstract**| Supernova remnants are commonly considered to produce most of the Galactic cosmic rays via diffusive shock acceleration. However, many questions about the physical conditions at shock fronts, such as the magnetic-field morphology close to the particle acceleration sites, remain open. Here we report the detection of a localized polarization signal from some synchrotron X-ray emitting regions of Tycho's supernova remnant made by the Imaging X-ray Polarimetry Explorer. The derived polarization degree of the X-ray synchrotron emission is 9+/-2% averaged over the whole remnant, and 12+/-2% at the rim, higher than the 7-8% polarization value observed in the radio band. In the west region the polarization degree is 23+/-4%. The X-ray polarization degree in Tycho is higher than for Cassiopeia A, suggesting a more ordered magnetic-field or a larger maximum turbulence scale. The measured tangential polarization direction corresponds to a radial magnetic field, and is consistent with that observed in the radio band. These results are compatible with the expectation of turbulence produced by an anisotropic cascade of a radial magnetic-field near the shock, where we derive a magnetic-field amplification factor of 3.4+/-0.3. The fact that this value is significantly smaller than those expected from acceleration models is indicative of highly anisotropic magnetic-field turbulence, or that the emitting electrons either favor regions of lower turbulence, or accumulate close to where the magnetic-field orientation is preferentially radially oriented due to hydrodynamical instabilities. |\n",
       "|<p style=\"color:green\"> **ERROR** </p>| <p style=\"color:green\">affiliation error: mpia.affiliation_verifications: 'Heidelberg' keyword not found.</p> |"
      ],
      "text/plain": [
       "<IPython.core.display.Markdown object>"
      ]
     },
     "metadata": {},
     "output_type": "display_data"
    },
    {
     "data": {
      "text/markdown": [
       "\n",
       "|||\n",
       "|---:|:---|\n",
       "| [![arXiv](https://img.shields.io/badge/arXiv-arXiv:2301.07402-b31b1b.svg)](https://arxiv.org/abs/arXiv:2301.07402) | **Real-time RFI Filtering for uGMRT: Overview of the Released System and  Relevance to the SKA**  |\n",
       "|| Kaushal D. Buch, et al. -- incl., <mark>Mekhala Muley</mark> |\n",
       "|*Appeared on*| *2023-01-19*|\n",
       "|*Comments*| *15 pages, 11 figures, 4 tables; Accepted for publication in the JoAA special issue on the Indian participation in the SKA (2023)*|\n",
       "|**Abstract**| Radio Frequency Interference (RFI) of impulsive nature is created by sources like sparking on high-power transmission lines due to gap or corona discharge and automobile sparking, and it affects the entire observing frequency bands of low-frequency radio telescopes. Such RFI is a significant problem at the Upgraded Giant Metrewave Radio Telescope (uGMRT). A real-time RFI filtering scheme has been developed and implemented to mitigate the effect on astronomical observations. The scheme works in real-time on pre-correlation data from each antenna and allows the detection of RFI based on median absolute deviation statistics. The samples are identified as RFI based on user-defined thresholds and are replaced by digital noise, a constant or zeros. We review the testing and implementation of this system at the uGMRT. We illustrate the effectiveness of the filtering for continuum, spectral line and time-domain data. The real-time filter is released for regular observations in the bands falling in 250 - 1450 MHz, and recent observing cycles show growing usage. Further, we explain the relevance of the released system to the Square Kilometer Array (SKA) receiver chain and possible ways of implementation to meet the computational requirements. |\n",
       "|<p style=\"color:green\"> **ERROR** </p>| <p style=\"color:green\">affiliation error: mpia.affiliation_verifications: 'Heidelberg' keyword not found.</p> |"
      ],
      "text/plain": [
       "<IPython.core.display.Markdown object>"
      ]
     },
     "metadata": {},
     "output_type": "display_data"
    },
    {
     "data": {
      "text/markdown": [
       "\n",
       "|||\n",
       "|---:|:---|\n",
       "| [![arXiv](https://img.shields.io/badge/arXiv-arXiv:2301.07418-b31b1b.svg)](https://arxiv.org/abs/arXiv:2301.07418) | **Hint of an exocomet transit in the CHEOPS lightcurve of HD 172555**  |\n",
       "|| F. Kiefer, et al. -- incl., <mark>G. Olofsson</mark>, <mark>M. B. Davies</mark>, <mark>M. Güdel</mark>, <mark>K. Heng</mark> |\n",
       "|*Appeared on*| *2023-01-19*|\n",
       "|*Comments*| *12 pages, 10 figures, 5 tables, accepted for publication in A&A*|\n",
       "|**Abstract**| HD$\\,$172555 is a young ($\\sim$20$\\,$Myr) A7V star surrounded by a 10$\\,$au wide debris disk suspected to be replenished partly by collisions between large planetesimals. Small evaporating transiting bodies, exocomets, have also been detected in this system by spectroscopy. After $\\beta\\,$Pictoris, this is another example of a system possibly witnessing a phase of heavy bombardment of planetesimals. In such system, small bodies trace dynamical evolution processes. We aim at constraining their dust content by using transit photometry. We performed a 2-day-long photometric monitoring of HD$\\,$172555 with the CHEOPS space telescope in order to detect shallow transits of exocomets with a typical expected duration of a few hours. The large oscillations in the lightcurve indicate that HD$\\,$172555 is a $\\delta\\,$Scuti pulsating star. Once removing those dominating oscillations, we find a hint for a transient absorption. If fitted with an exocomet transit model, it corresponds to an evaporating body passing near the star at a distance of $6.8\\pm1.4\\,$R$_\\star$ (or $0.05\\pm 0.01\\,$au) with a radius of 2.5 km. These properties are comparable to those of the exocomets already found in this system using spectroscopy, as well as those found in the $\\beta\\,$Pic system. The nuclei of solar system's Jupiter family comets, with radii of 2-6$\\,$km, are also comparable in size. This is the first evidence for an exocomet photometric transit detection in the young system of HD$\\,$172555. |\n",
       "|<p style=\"color:green\"> **ERROR** </p>| <p style=\"color:green\">affiliation error: mpia.affiliation_verifications: 'Heidelberg' keyword not found.</p> |"
      ],
      "text/plain": [
       "<IPython.core.display.Markdown object>"
      ]
     },
     "metadata": {},
     "output_type": "display_data"
    },
    {
     "data": {
      "text/markdown": [
       "\n",
       "|||\n",
       "|---:|:---|\n",
       "| [![arXiv](https://img.shields.io/badge/arXiv-arXiv:2301.07444-b31b1b.svg)](https://arxiv.org/abs/arXiv:2301.07444) | **The Neon Gap: Probing Ionization with Dwarf Galaxies at z~1**  |\n",
       "|| John Pharo, et al. -- incl., <mark>Yicheng Guo</mark> |\n",
       "|*Appeared on*| *2023-01-19*|\n",
       "|*Comments*| *Accepted to ApJL, 16.01.2023*|\n",
       "|**Abstract**| We present measurements of [NeIII]{\\lambda}3869 emission in z~1 low-mass galaxies taken from the Keck/DEIMOS spectroscopic surveys HALO7D and DEEPWinds. We identify 167 individual galaxies with significant [NeIII] emission lines, including 112 \"dwarf\" galaxies with log(M_{\\star}/M_{\\odot}) < 9.5, with 0.3 < z < 1.4. We also measure [NeIII] emission from composite spectra derived from all [OII]{\\lambda}{\\lambda}3727,3729 line emitters in this range. This provides a unique sample of [NeIII]-emitters in the gap between well-studied emitters at z = 0 and 2 < z < 3. To study evolution in ionization conditions in the ISM over this time, we analyze the log([NeIII]{\\lambda}3869/[OII]{\\lambda}{\\lambda}3727,3729) ratio (Ne3O2) as a function of the stellar mass and of the log([OIII]{\\lambda}{\\lambda}4959,5007/[OII]{\\lambda}{\\lambda}3727,3729) ratio (O32). We find that the typical star-forming dwarf galaxy at this redshift, as measured from the composite spectra, shares the Ne3O2-M_{\\star} relation with local galaxies, but have higher O32 at given Ne3O2. This finding implies that the ionization and metallicity characteristics of the z~1 dwarf population do not evolve substantially from z~1 to z=0, suggesting that the known evolution in those parameter from z~2 has largely taken place by z~1. Individual [NeIII]-detected galaxies have emission characteristics situated between local and z~2 galaxies, with elevated Ne3O2 and O32 emission potentially explained by variations in stellar and nebular metallicity. We also compare our dwarf sample to similarly low-mass z > 7 galaxies identified in JWST Early Release Observations, finding four HALO7D dwarfs with similar size, metallicity, and star formation properties. |\n",
       "|<p style=\"color:green\"> **ERROR** </p>| <p style=\"color:green\">affiliation error: mpia.affiliation_verifications: 'Heidelberg' keyword not found.</p> |"
      ],
      "text/plain": [
       "<IPython.core.display.Markdown object>"
      ]
     },
     "metadata": {},
     "output_type": "display_data"
    },
    {
     "data": {
      "text/markdown": [
       "\n",
       "|||\n",
       "|---:|:---|\n",
       "| [![arXiv](https://img.shields.io/badge/arXiv-arXiv:2301.07447-b31b1b.svg)](https://arxiv.org/abs/arXiv:2301.07447) | **A Unified Model for Bipolar Outflows from Young Stars: Kinematic  Signatures of Jets, Winds, and Their Magnetic Interplay with the Ambient  Toroids**  |\n",
       "|| Hsien Shang, <mark>Chun-Fan Liu</mark>, Ruben Krasnopolsky, <mark>Liang-Yao Wang</mark> |\n",
       "|*Appeared on*| *2023-01-19*|\n",
       "|*Comments*| *66 pages, 26 figures, 3 tables, to appear in the Astrophysical Journal (2023)*|\n",
       "|**Abstract**| Kinematic signatures of the jet, winds, multicavities, and episodic shells arising in the unified model of bipolar outflows developed in Shang et al.\\ (2020), in which an outflow forms by radially directed, wide-angle toroidally magnetized winds interacting with magnetized isothermal toroids, are extracted in the form of position--velocity diagrams. Elongated outflow lobes, driven by magnetized winds and their interplay with the environment, are dominated by extended bubble structures with mixing layers beyond the conventional thin-shell models. The axial cylindrically stratified density jet carries a broad profile near the base, across the projected velocity of the wide-angle wind, and narrows down along the axis with the collimated flow. The reverse shock encloses the magnetized free wind, forms an innermost cavity, and deflects the flow pattern. Shear, Kelvin--Helmholtz instabilities, and pseudopulses add fine and distinctive features between the jet--shell components, and the fluctuating jet velocities. The broad webbed velocity features connect the extremely high and the low velocities across the multicavities, mimicking nested outflowing slower-wind components. Rings and ovals in the perpendicular cuts trace multicavities at different heights, and the compressed ambient gap regions enrich the low-velocity features with protruding spikes. Our kinematic signatures capture the observed systematics of the high-, intermediate-, and low-velocity components from Class 0 to II jet--outflow systems in molecular and atomic lines. The nested shells observed in HH 212, HH 30, and DG Tau B are naturally explained. Outflows as bubbles are ubiquitous and form an inevitable integrative outcome of the interaction between wind and ambient media. |\n",
       "|<p style=\"color:green\"> **ERROR** </p>| <p style=\"color:green\">affiliation error: mpia.affiliation_verifications: 'Heidelberg' keyword not found.</p> |"
      ],
      "text/plain": [
       "<IPython.core.display.Markdown object>"
      ]
     },
     "metadata": {},
     "output_type": "display_data"
    },
    {
     "data": {
      "text/markdown": [
       "\n",
       "|||\n",
       "|---:|:---|\n",
       "| [![arXiv](https://img.shields.io/badge/arXiv-arXiv:2301.07450-b31b1b.svg)](https://arxiv.org/abs/arXiv:2301.07450) | **A sequential acid-base (SAB) mechanism in the interstellar medium: The  emergence of cis formic acid in dark molecular clouds**  |\n",
       "|| Juan García de la Concepción, et al. -- incl., <mark>Antonio Martínez-Henares</mark> |\n",
       "|*Appeared on*| *2023-01-19*|\n",
       "|*Comments*| **|\n",
       "|**Abstract**| The abundance ratios between isomers of a COM observed in the ISM provides valuable information about the chemistry and physics of the gas and eventually, the history of molecular clouds. In this context, the origin of an abundance of c-HCOOH acid of only 6% the isomer c-HCOOH abundance in cold cores, remains unknown. Herein, we explain the presence of c-HCOOH in dark molecular clouds through the destruction and back formation of c-HCOOH and t-HCOOH in a cyclic process that involves HCOOH and highly abundant molecules such as HCO+ and NH3. We use high-level ab initio methods to compute the potential energy profiles for the cyclic destruction/formation routes of c-HCOOH and t-HCOOH. Global rate constants and branching ratios were calculated based on the transition state theory and the master equation formalism under the typical conditions of the ISM. The destruction of HCOOH by reaction with HCO+ in the gas phase leads to three isomers of the cation HC(OH)2+. The most abundant cation can react in a second step with other abundant molecules of the ISM like NH3 to form back c-HCOOH and t-HCOOH. This mechanism explains the formation of c-HCOOH in dark molecular clouds. Considering this mechanism, the fraction of c-HCOOH with respect t-HCOOH is 25.7%. To explain the 6% reported by the observations we propose that further destruction mechanisms of the cations of HCOOH should be taken into account. The sequential acid-base (SAB) mechanism proposed in this work involves fast processes with very abundant molecules in the ISM. Thus, HCOOH very likely suffers our proposed transformations in the conditions of dark molecular clouds. This is a new approach in the framework of the isomerism of organic molecules in the ISM which has the potential to try to explain the ratio between isomers of organic molecules detected in the ISM. |\n",
       "|<p style=\"color:green\"> **ERROR** </p>| <p style=\"color:green\">affiliation error: mpia.affiliation_verifications: 'Heidelberg' keyword not found.</p> |"
      ],
      "text/plain": [
       "<IPython.core.display.Markdown object>"
      ]
     },
     "metadata": {},
     "output_type": "display_data"
    },
    {
     "data": {
      "text/markdown": [
       "\n",
       "|||\n",
       "|---:|:---|\n",
       "| [![arXiv](https://img.shields.io/badge/arXiv-arXiv:2301.07552-b31b1b.svg)](https://arxiv.org/abs/arXiv:2301.07552) | **Correcting Stellar Flare Frequency Distributions Detected by TESS and  Kepler**  |\n",
       "|| Dong-Yang Gao, <mark>Hui-Gen Liu</mark>, Ming Yang, <mark>Ji-Lin Zhou</mark> |\n",
       "|*Appeared on*| *2023-01-19*|\n",
       "|*Comments*| *22 pages, 12 figures, 4 tables. Published in AJ*|\n",
       "|**Abstract**| The habitability of planets is closely connected with the stellar activity, mainly the frequency of flares and the distribution of flare energy. Kepler and TESS find many flaring stars are detected via precise time-domain photometric data, and the frequency and energy distribution of stellar flares on different types of stars are studied statistically. However, the completeness and observational bias of detected flare events from different missions (e.g. Kepler and TESS) vary a lot. We use a unified data processing and detection method for flares events based on the light curve from Kepler and TESS. Then we perform injection and recovery tests in the original light curve of each star for each flare event to correct the completeness and energy of flares. Three samples of flaring stars are selected from Kepler and TESS, with rotating periods from 1 to $\\sim$ 5 days. Adopting a hot-blackbody assumption, our results show that the cumulative flare frequency distributions (FFDs) of the same stars in Kepler and TESS bands tend to be consistent after correction, revealing a more natural flaring frequency and energy distribution. Our results also extend the low-energy limit in cumulative FFD fitting to $10^{31.5-33}$ erg on different types of stars. For solar-type stars, the average power-law index of cumulative FFD ($\\alpha_{\\rm cum}$) is $-0.84$, which indicates that low-energy flares contribute less to the total flare energy. With a piecewise correlation between $\\alpha_{\\rm cum}$ and $T_{\\rm eff}$, $\\alpha_{\\rm cum}$ first rises with $T_{\\rm eff}$ from M2 to K1 stars, then slightly decreases for stars hotter than K1. |\n",
       "|<p style=\"color:green\"> **ERROR** </p>| <p style=\"color:green\">affiliation error: mpia.affiliation_verifications: 'Heidelberg' keyword not found.</p> |"
      ],
      "text/plain": [
       "<IPython.core.display.Markdown object>"
      ]
     },
     "metadata": {},
     "output_type": "display_data"
    },
    {
     "data": {
      "text/markdown": [
       "\n",
       "|||\n",
       "|---:|:---|\n",
       "| [![arXiv](https://img.shields.io/badge/arXiv-arXiv:2301.07692-b31b1b.svg)](https://arxiv.org/abs/arXiv:2301.07692) | **The imprint of bursty star formation on alpha-element abundance patterns  in Milky Way-like galaxies**  |\n",
       "|| Hanna Parul, et al. -- incl., <mark>Andrew Wetzel</mark> |\n",
       "|*Appeared on*| *2023-01-19*|\n",
       "|*Comments*| *15 pages; Accepted 17 January 2023 in MNRAS*|\n",
       "|**Abstract**| Milky Way-mass galaxies in the FIRE-2 simulations demonstrate two main modes of star formation. At high redshifts star formation occurs in a series of short and intense bursts, while at low redshifts star formation proceeds at a steady rate with a transition from one mode to another at times ranging from 3 to 7 Gyr ago for different galaxies. We analyse how the mode of star formation affects iron and alpha-element abundance. We find that the early bursty regime imprints a measurable pattern in stellar elemental abundances in the form of a \"sideways chevron\" shape on the [Fe/H] - [O/Fe] plane and the scatter in [O/Fe] at a given stellar age is higher than when a galaxy is in the steady regime. That suggests that the evolution of [O/Fe] scatter with age provides an estimate of the end of the bursty phase. We investigate the feasibility of observing of this effect by adding mock observational errors to a simulated stellar survey and find that the transition between the bursty and steady phase should be detectable in the Milky Way, although larger observational uncertainties make the transition shallower. We apply our method to observations of the Milky Way from the Second APOKASC Catalog and estimate that the transition to steady star formation in the Milky Way happened 7-8 Gyrs ago, earlier than transition times measured in the simulations. |\n",
       "|<p style=\"color:green\"> **ERROR** </p>| <p style=\"color:green\">affiliation error: mpia.affiliation_verifications: 'Heidelberg' keyword not found.</p> |"
      ],
      "text/plain": [
       "<IPython.core.display.Markdown object>"
      ]
     },
     "metadata": {},
     "output_type": "display_data"
    },
    {
     "data": {
      "text/markdown": [
       "\n",
       "|||\n",
       "|---:|:---|\n",
       "| [![arXiv](https://img.shields.io/badge/arXiv-arXiv:2301.07186-b31b1b.svg)](https://arxiv.org/abs/arXiv:2301.07186) | **ABYSS I: Targeting strategy for APOGEE & BOSS young star survey in  SDSS-V**  |\n",
       "|| Marina Kounkel, et al. -- incl., <mark>Eleonora Zari</mark>, <mark>Jesús Hernández</mark> |\n",
       "|*Appeared on*| *2023-01-19*|\n",
       "|*Comments*| *18 pages, 12 pages. Submitted to ApJS. Part of SDSS DR18*|\n",
       "|**Abstract**| The fifth iteration of the Sloan Digital Sky Survey (SDSS-V) is set to obtain optical and near-infrared spectra of $\\sim$5 million stars of all ages and masses throughout the Milky Way. As a part of these efforts, APOGEE & BOSS Young Star Survey (ABYSS) will observe $\\sim10^5$ stars with ages $<$30 Myr that have been selected using a set of homogeneous selection functions that make use of different tracers of youth. The ABYSS targeting strategy we describe in this paper is aimed to provide the largest spectroscopic census of young stars to-date. It consists of 8 different types of selection criteria that take the position on the HR diagram, infrared excess, variability, as well as the position in phase space in consideration. The resulting catalog of $\\sim$200,000 sources (of which a half are expected to be observed) provides representative coverage of the young Galaxy, including both nearby diffuse associations as well as more distant massive complexes, reaching towards the inner Galaxy and the Galactic center. |\n",
       "|<p style=\"color:red\"> **ERROR** </p>| <p style=\"color:red\">latex error Could not find figure h</p> |"
      ],
      "text/plain": [
       "<IPython.core.display.Markdown object>"
      ]
     },
     "metadata": {},
     "output_type": "display_data"
    },
    {
     "data": {
      "text/markdown": [
       "\n",
       "|||\n",
       "|---:|:---|\n",
       "| [![arXiv](https://img.shields.io/badge/arXiv-arXiv:2301.07331-b31b1b.svg)](https://arxiv.org/abs/arXiv:2301.07331) | **HLC2: a highly efficient cross-matching framework for large astronomical  catalogues on heterogeneous computing environments**  |\n",
       "|| <mark>Yajie Zhang</mark>, et al. -- incl., <mark>Kun Li</mark> |\n",
       "|*Appeared on*| *2023-01-19*|\n",
       "|*Comments*| *Accepted for publication in Monthly Notices of the Royal Astronomical Society*|\n",
       "|**Abstract**| Cross-matching operation, which is to find corresponding data for the same celestial object or region from multiple catalogues,is indispensable to astronomical data analysis and research. Due to the large amount of astronomical catalogues generated by the ongoing and next-generation large-scale sky surveys, the time complexity of the cross-matching is increasing dramatically. Heterogeneous computing environments provide a theoretical possibility to accelerate the cross-matching, but the performance advantages of heterogeneous computing resources have not been fully utilized. To meet the challenge of cross-matching for substantial increasing amount of astronomical observation data, this paper proposes Heterogeneous-computing-enabled Large Catalogue Cross-matcher (HLC2), a high-performance cross-matching framework based on spherical position deviation on CPU-GPU heterogeneous computing platforms. It supports scalable and flexible cross-matching and can be directly applied to the fusion of large astronomical cataloguesfrom survey missions and astronomical data centres. A performance estimation model is proposed to locate the performance bottlenecks and guide the optimizations. A two-level partitioning strategy is designed to generate an optimized data placement according to the positions of celestial objects to increase throughput. To make HLC2 a more adaptive solution, the architecture-aware task splitting, thread parallelization, and concurrent scheduling strategies are designed and integrated. Moreover, a novel quad-direction strategy is proposed for the boundary problem to effectively balance performance and completeness. We have experimentally evaluated HLC2 using public released catalogue data. Experiments demonstrate that HLC2 scales well on different sizes of catalogues and the cross-matching speed is significantly improved compared to the state-of-the-art cross-matchers. |\n",
       "|<p style=\"color:red\"> **ERROR** </p>| <p style=\"color:red\">latex error not a gzip file</p> |"
      ],
      "text/plain": [
       "<IPython.core.display.Markdown object>"
      ]
     },
     "metadata": {},
     "output_type": "display_data"
    },
    {
     "data": {
      "text/markdown": [
       "\n",
       "|||\n",
       "|---:|:---|\n",
       "| [![arXiv](https://img.shields.io/badge/arXiv-arXiv:2301.07647-b31b1b.svg)](https://arxiv.org/abs/arXiv:2301.07647) | **Solaris: A Focused Solar Polar Discovery-class Mission to achieve the  Highest Priority Heliophysics Science Now**  |\n",
       "|| Donald M. Hassler, et al. -- incl., <mark>Lisa Upton</mark>, <mark>Heather Alison Elliott</mark>, <mark>Jon Linker</mark>, <mark>Junwei Zhao</mark> |\n",
       "|*Appeared on*| *2023-01-19*|\n",
       "|*Comments*| *This White Paper was submitted in 2022 to the United States National Academies Solar and Space Physics (Heliophysics) Decadal Survey*|\n",
       "|**Abstract**| Solaris is a transformative Solar Polar Discovery-class mission concept to address crucial outstanding questions that can only be answered from a polar vantage. Solaris will image the Sun's poles from ~75 degree latitude, providing new insight into the workings of the solar dynamo and the solar cycle, which are at the foundation of our understanding of space weather and space climate. Solaris will also provide enabling observations for improved space weather research, modeling and prediction, revealing a unique, new view of the corona, coronal dynamics and CME eruptions from above. |\n",
       "|<p style=\"color:red\"> **ERROR** </p>| <p style=\"color:red\">latex error not a gzip file</p> |"
      ],
      "text/plain": [
       "<IPython.core.display.Markdown object>"
      ]
     },
     "metadata": {},
     "output_type": "display_data"
    }
   ],
   "source": [
    "import datetime\n",
    "today = str(datetime.date.today())\n",
    "logfile = f\"_build/html/logs/log-{today}.md\"\n",
    "\n",
    "\n",
    "with open(logfile, 'w') as logs:\n",
    "    # Success\n",
    "    logs.write(f'# Arxiv on Deck 2: Logs - {today}\\n\\n')\n",
    "    logs.write(\"\"\"* Arxiv had {0:,d} new papers\\n\"\"\".format(len(new_papers)))\n",
    "    logs.write(\"\"\"    * {0:,d} with possible author matches\\n\\n\"\"\".format(len(candidates)))\n",
    "    logs.write(\"## Sucessful papers\\n\\n\")\n",
    "    display(Markdown(\"## Successful papers\"))\n",
    "    success = [k[0] for k in documents]\n",
    "    for candid in candidates:\n",
    "        if candid['identifier'].split(':')[-1] in success:\n",
    "            display(candid)\n",
    "            logs.write(candid.generate_markdown_text() + '\\n\\n')\n",
    "\n",
    "    ## failed\n",
    "    logs.write(\"## Failed papers\\n\\n\")\n",
    "    display(Markdown(\"## Failed papers\"))\n",
    "    failed = sorted(failed, key=lambda x: x[1])\n",
    "    current_reason = \"\"\n",
    "    for paper, reason in failed:\n",
    "        if 'affiliation' in reason:\n",
    "            color = 'green'\n",
    "        else:\n",
    "            color = 'red'\n",
    "        data = Markdown(\n",
    "                paper.generate_markdown_text() + \n",
    "                f'\\n|<p style=\"color:{color:s}\"> **ERROR** </p>| <p style=\"color:{color:s}\">{reason:s}</p> |'\n",
    "               )\n",
    "        if reason != current_reason:\n",
    "            logs.write(f'### {reason:s} \\n\\n')\n",
    "            current_reason = reason\n",
    "        logs.write(data.data + '\\n\\n')\n",
    "        \n",
    "        # only display here the important errors (all in logs)\n",
    "        # if color in ('red',):\n",
    "        display(data)"
   ]
  },
  {
   "cell_type": "markdown",
   "id": "472d20ee",
   "metadata": {
    "papermill": {
     "duration": 0.012928,
     "end_time": "2023-01-19T04:09:35.230004",
     "exception": false,
     "start_time": "2023-01-19T04:09:35.217076",
     "status": "completed"
    },
    "tags": []
   },
   "source": [
    "## Export documents\n",
    "\n",
    "We now write the .md files and export relevant images"
   ]
  },
  {
   "cell_type": "code",
   "execution_count": 7,
   "id": "d426aed9",
   "metadata": {
    "execution": {
     "iopub.execute_input": "2023-01-19T04:09:35.257711Z",
     "iopub.status.busy": "2023-01-19T04:09:35.257143Z",
     "iopub.status.idle": "2023-01-19T04:09:35.264638Z",
     "shell.execute_reply": "2023-01-19T04:09:35.264066Z"
    },
    "papermill": {
     "duration": 0.023121,
     "end_time": "2023-01-19T04:09:35.266059",
     "exception": false,
     "start_time": "2023-01-19T04:09:35.242938",
     "status": "completed"
    },
    "tags": []
   },
   "outputs": [],
   "source": [
    "def export_markdown_summary(md: str, md_fname:str, directory: str):\n",
    "    \"\"\"Export MD document and associated relevant images\"\"\"\n",
    "    import os\n",
    "    import shutil\n",
    "    import re\n",
    "\n",
    "    if (os.path.exists(directory) and not os.path.isdir(directory)):\n",
    "        raise RuntimeError(f\"a non-directory file exists with name {directory:s}\")\n",
    "\n",
    "    if (not os.path.exists(directory)):\n",
    "        print(f\"creating directory {directory:s}\")\n",
    "        os.mkdir(directory)\n",
    "\n",
    "    fig_fnames = (re.compile(r'\\[Fig.*\\]\\((.*)\\)').findall(md) + \n",
    "                  re.compile(r'\\<img src=\"([^>\\s]*)\"[^>]*/>').findall(md))\n",
    "    for fname in fig_fnames:\n",
    "        if 'http' in fname:\n",
    "            # No need to copy online figures\n",
    "            continue\n",
    "        destdir = os.path.join(directory, os.path.dirname(fname))\n",
    "        destfname = os.path.join(destdir, os.path.basename(fname))\n",
    "        try:\n",
    "            os.makedirs(destdir)\n",
    "        except FileExistsError:\n",
    "            pass\n",
    "        shutil.copy(fname, destfname)\n",
    "    with open(os.path.join(directory, md_fname), 'w') as fout:\n",
    "        fout.write(md)\n",
    "    print(\"exported in \", os.path.join(directory, md_fname))\n",
    "    [print(\"    + \" + os.path.join(directory,fk)) for fk in fig_fnames]"
   ]
  },
  {
   "cell_type": "code",
   "execution_count": 8,
   "id": "014d04a4",
   "metadata": {
    "execution": {
     "iopub.execute_input": "2023-01-19T04:09:35.293566Z",
     "iopub.status.busy": "2023-01-19T04:09:35.293040Z",
     "iopub.status.idle": "2023-01-19T04:09:35.307909Z",
     "shell.execute_reply": "2023-01-19T04:09:35.307146Z"
    },
    "papermill": {
     "duration": 0.030664,
     "end_time": "2023-01-19T04:09:35.309637",
     "exception": false,
     "start_time": "2023-01-19T04:09:35.278973",
     "status": "completed"
    },
    "tags": []
   },
   "outputs": [
    {
     "name": "stdout",
     "output_type": "stream",
     "text": [
      "exported in  _build/html/2301.07116.md\n",
      "    + _build/html/tmp_2301.07116/./figs/slice_with_rcell_subsonic_5mdisk_300.png\n",
      "    + _build/html/tmp_2301.07116/./figs/profiles_subsonic_5mdisk_more_quants.png\n",
      "    + _build/html/tmp_2301.07116/./figs/mflows_subsonic_5mdisk_with_nowind.png\n",
      "exported in  _build/html/2301.07199.md\n",
      "exported in  _build/html/2301.07366.md\n",
      "    + _build/html/tmp_2301.07366/./img/sign_maps_models_prelim.png\n",
      "    + _build/html/tmp_2301.07366/./img/flux_map_prelim.png\n",
      "    + _build/html/tmp_2301.07366/./img/sign_maps_fermi_prelim.png\n"
     ]
    }
   ],
   "source": [
    "for paper_id, md in documents:\n",
    "    export_markdown_summary(md, f\"{paper_id:s}.md\", '_build/html/')"
   ]
  },
  {
   "cell_type": "markdown",
   "id": "f087a0a7",
   "metadata": {
    "papermill": {
     "duration": 0.013046,
     "end_time": "2023-01-19T04:09:35.336745",
     "exception": false,
     "start_time": "2023-01-19T04:09:35.323699",
     "status": "completed"
    },
    "tags": []
   },
   "source": [
    "## Display the papers\n",
    "\n",
    "Not necessary but allows for a quick check."
   ]
  },
  {
   "cell_type": "code",
   "execution_count": 9,
   "id": "fd25f625",
   "metadata": {
    "execution": {
     "iopub.execute_input": "2023-01-19T04:09:35.395954Z",
     "iopub.status.busy": "2023-01-19T04:09:35.395160Z",
     "iopub.status.idle": "2023-01-19T04:09:35.403541Z",
     "shell.execute_reply": "2023-01-19T04:09:35.402884Z"
    },
    "papermill": {
     "duration": 0.055154,
     "end_time": "2023-01-19T04:09:35.405061",
     "exception": false,
     "start_time": "2023-01-19T04:09:35.349907",
     "status": "completed"
    },
    "scrolled": false,
    "tags": []
   },
   "outputs": [
    {
     "data": {
      "text/markdown": [
       "<div class=\"macros\" style=\"visibility:hidden;\">\n",
       "$\\newcommand{\\ensuremath}{}$\n",
       "$\\newcommand{\\xspace}{}$\n",
       "$\\newcommand{\\object}[1]{\\texttt{#1}}$\n",
       "$\\newcommand{\\farcs}{{.}''}$\n",
       "$\\newcommand{\\farcm}{{.}'}$\n",
       "$\\newcommand{\\arcsec}{''}$\n",
       "$\\newcommand{\\arcmin}{'}$\n",
       "$\\newcommand{\\ion}[2]{#1#2}$\n",
       "$\\newcommand{\\textsc}[1]{\\textrm{#1}}$\n",
       "$\\newcommand{\\hl}[1]{\\textrm{#1}}$\n",
       "$\\newcommand{\\kms}{\\mathrm{km s^{-1}}}$\n",
       "$\\newcommand{\\Msun}{\\mathrm{M_\\odot}}$\n",
       "$\\newcommand{\\lowspec}{\\textit{LowSpec}}$\n",
       "$\\newcommand{\\highspec}{\\textit{HighSpec}}$\n",
       "$\\newcommand{\\highark}{\\textit{HighSpecArk}}$\n",
       "$\\newcommand{\\medark}{\\textit{MedSpecArk}}$\n",
       "$\\newcommand{\\subfive}{fiducial}$\n",
       "$\\newcommand{\\thebibliography}{\\DeclareRobustCommand{\\VAN}[3]{##3}\\VANthebibliography}$</div>\n",
       "\n",
       "<div class=\"macros\" style=\"visibility:hidden;\">\n",
       "$\\newcommand{$\\ensuremath$}{}$\n",
       "$\\newcommand{$\\xspace$}{}$\n",
       "$\\newcommand{$\\object$}[1]{\\texttt{#1}}$\n",
       "$\\newcommand{$\\farcs$}{{.}''}$\n",
       "$\\newcommand{$\\farcm$}{{.}'}$\n",
       "$\\newcommand{$\\arcsec$}{''}$\n",
       "$\\newcommand{$\\arcmin$}{'}$\n",
       "$\\newcommand{$\\ion$}[2]{#1#2}$\n",
       "$\\newcommand{$\\textsc$}[1]{\\textrm{#1}}$\n",
       "$\\newcommand{$\\hl$}[1]{\\textrm{#1}}$\n",
       "$\\newcommand{$\\kms$}{\\mathrm{km s^{-1}}}$\n",
       "$\\newcommand{$\\Msun$}{\\mathrm{M_\\odot}}$\n",
       "$\\newcommand{$\\lowspec$}{\\textit{LowSpec}}$\n",
       "$\\newcommand{$\\highspec$}{\\textit{HighSpec}}$\n",
       "$\\newcommand{$\\highark$}{\\textit{HighSpecArk}}$\n",
       "$\\newcommand{$\\medark$}{\\textit{MedSpecArk}}$\n",
       "$\\newcommand{$\\subfive$}{fiducial}$\n",
       "$\\newcommand{$\\thebibliography$}{\\DeclareRobustCommand{\\VAN}[3]{##3}\\VANthebibliography}$</div>\n",
       "\n",
       "\n",
       "\n",
       "<div id=\"title\">\n",
       "\n",
       "# Arkenstone I: A Novel Method for Robustly Capturing High Specific Energy Outflows In Cosmological Simulations\n",
       "\n",
       "</div>\n",
       "<div id=\"comments\">\n",
       "\n",
       "[![arXiv](https://img.shields.io/badge/arXiv-2301.07116-b31b1b.svg)](https://arxiv.org/abs/2301.07116)<mark>Appeared on: 2023-01-19</mark> - _Submitted to MNRAS, 26 pages, 15 figures_\n",
       "\n",
       "</div>\n",
       "<div id=\"authors\">\n",
       "\n",
       "<mark><mark>Matthew C. Smith</mark></mark>, et al. -- incl., <mark><mark>Lars Hernquist</mark></mark>, <mark><mark>Yuan Li</mark></mark>\n",
       "\n",
       "</div>\n",
       "<div id=\"abstract\">\n",
       "\n",
       "**Abstract:** $\\textsc${Arkenstone}is a new model for multiphase, stellar feedback driven galactic winds designed for inclusion in coarse resolution cosmological simulations. In this first paper of a series, we describe the features that allow$\\textsc${Arkenstone}to properly treat high specific energy wind components and demonstrate them using idealised non-cosmological simulations of a galaxy with a realistic CGM, using the$\\textsc${Arepo}code. Hot, fast gas phases with low mass loadings are predicted to dominate the energy content of multiphase outflows. In order to treat the huge dynamic range of spatial scales involved in cosmological galaxy formation at feasible computational expense,cosmological volume simulations typically employ a Lagrangian code or else use adaptive mesh refinement with a quasi-Lagrangian refinement strategy.However, it is difficult to inject a high specific energy wind in a Lagrangian scheme without incurring artificial burstiness. Additionally, the low densities inherent to this type of flow result in poor spatial resolution.$\\textsc${Arkenstone}addresses these issues with a novel scheme for coupling energy into the ISM/CGM transition region which also provides the necessary level of refinement at the base of the wind. In the absence of our improvements, we show that poor spatial resolution near the sonic point of a hot, fast outflow leads to an underestimation of gas acceleration as the wind propagates. We explore the different mechanisms by which low and high specific energy winds can regulate the SFR of galaxies. In future work, we will demonstrate other aspects of the$\\textsc${Arkenstone}model.\n",
       "\n",
       "</div>\n",
       "\n",
       "<div id=\"div_fig1\">\n",
       "\n",
       "<img src=\"tmp_2301.07116/./figs/slice_with_rcell_subsonic_5mdisk_300.png\" alt=\"Fig8\" width=\"100%\"/>\n",
       "\n",
       "**Figure 8. -** Slices through the domain for the $\\subfive$  simulations at 1.5 Gyr.\n",
       "The slices cut vertically through the galaxy and the wind. From left to right,\n",
       "we show the simulations with the $\\lowspec$ , $\\highspec$  and $\\highark$  models.\n",
       "From top to bottom, we show gas density, temperature, radial velocity\n",
       "and cell radius. The dashed circles indicate 0.1, 0.2, 0.5 and 1 $r_{200}$.\n",
       "The $\\lowspec$  wind produces a narrow column of cold, dense gas which is\n",
       "already infalling by 1.5 Gyr, while a low altitude fountain is present.\n",
       "The $\\highspec$  and $\\highark$  winds are fast, hot and of lower density\n",
       "than the surrounding CGM. They fill a larger volume than the $\\lowspec$ \n",
       "wind. The higher spatial resolution provided by the refinement scheme used\n",
       "in $\\highark$  is evident. (*fig:slice_subsonic_5mdisk*)\n",
       "\n",
       "</div>\n",
       "<div id=\"div_fig2\">\n",
       "\n",
       "<img src=\"tmp_2301.07116/./figs/profiles_subsonic_5mdisk_more_quants.png\" alt=\"Fig11\" width=\"100%\"/>\n",
       "\n",
       "**Figure 11. -** For the fiducial simulations,\n",
       "profiles of various quantities as a function of galactocentric radius\n",
       "measured within a bicone of opening angle $10\\degree$ orientated along\n",
       "the rotational axis of the disc/CGM. Different columns show different\n",
       "times throughout the simulation. In the top row, we plot density.\n",
       "The horizontal grey dotted line indicates the wind particle recoupling threshold\n",
       "density. For reference, we indicate the $\\rho \\propto r^{-2}$ slope of the\n",
       "asymptotic\n",
       "\\citetalias{Chevalier1985} solution (with arbitrary normalisation).\n",
       "The second row shows pressure, with an indication of the $P \\propto r^{-10/3}$\n",
       "slope of \\citetalias{Chevalier1985}.\n",
       "The third row shows sound speed (dashed line) and radial\n",
       "velocity (solid line).\n",
       "The bottom row shows the cell radius.\n",
       "In the $\\highark$  simulation, the wind rapidly accelerates as it flows outwards,\n",
       "passing through a sonic point within $\\sim 1 \\mathrm{kpc}$. The $\\highspec$  simulation\n",
       "has much coarser spatial resolution. The acceleration is much more gradual and the\n",
       "sonic point does not occur until the galactocentric radius is resolved by several cells,\n",
       "which occurs much further out.\n",
       " (*fig:profiles_subsonic_5mdisk*)\n",
       "\n",
       "</div>\n",
       "<div id=\"div_fig3\">\n",
       "\n",
       "<img src=\"tmp_2301.07116/./figs/mflows_subsonic_5mdisk_with_nowind.png\" alt=\"Fig9\" width=\"100%\"/>\n",
       "\n",
       "**Figure 9. -** SFR, mass inflow and outflow rates through spheres\n",
       "at various radii for the $\\subfive$  simulations. Rows from top to bottom\n",
       "show the no wind, $\\lowspec$ , $\\highspec$  and $\\highark$  simulations,\n",
       "respectively.\n",
       "Columns from left to right show measurements at 0.1, 0.2, 0.5 and\n",
       "1 $r_{200}$, respectively. For a given simulation, we repeat the\n",
       "SFR in each column for reference. The $\\lowspec$  simulation\n",
       "reduces the SFR significantly relative to the no wind case by\n",
       "ejecting large quantities of the ISM. This material is kept circulating\n",
       "in a low altitude fountain flow. By contrast, the $\\highspec$  and $\\highark$ \n",
       "simulations are far more efficient at suppressing inflows from the CGM. This\n",
       "gradually leads to a reduction in SFR as the supply of star forming gas is\n",
       "used up without replenishment. (*fig:mflows_subsonic_5mdisk*)\n",
       "\n",
       "</div>"
      ],
      "text/plain": [
       "<IPython.core.display.Markdown object>"
      ]
     },
     "metadata": {},
     "output_type": "display_data"
    },
    {
     "data": {
      "text/markdown": [
       "<div class=\"macros\" style=\"visibility:hidden;\">\n",
       "$\\newcommand{\\ensuremath}{}$\n",
       "$\\newcommand{\\xspace}{}$\n",
       "$\\newcommand{\\object}[1]{\\texttt{#1}}$\n",
       "$\\newcommand{\\farcs}{{.}''}$\n",
       "$\\newcommand{\\farcm}{{.}'}$\n",
       "$\\newcommand{\\arcsec}{''}$\n",
       "$\\newcommand{\\arcmin}{'}$\n",
       "$\\newcommand{\\ion}[2]{#1#2}$\n",
       "$\\newcommand{\\textsc}[1]{\\textrm{#1}}$\n",
       "$\\newcommand{\\hl}[1]{\\textrm{#1}}$\n",
       "$\\newcommand{\\vdag}{(v)^\\dagger}$\n",
       "$\\newcommand$\n",
       "$\\newcommand$</div>\n",
       "\n",
       "<div class=\"macros\" style=\"visibility:hidden;\">\n",
       "$\\newcommand{$\\ensuremath$}{}$\n",
       "$\\newcommand{$\\xspace$}{}$\n",
       "$\\newcommand{$\\object$}[1]{\\texttt{#1}}$\n",
       "$\\newcommand{$\\farcs$}{{.}''}$\n",
       "$\\newcommand{$\\farcm$}{{.}'}$\n",
       "$\\newcommand{$\\arcsec$}{''}$\n",
       "$\\newcommand{$\\arcmin$}{'}$\n",
       "$\\newcommand{$\\ion$}[2]{#1#2}$\n",
       "$\\newcommand{$\\textsc$}[1]{\\textrm{#1}}$\n",
       "$\\newcommand{$\\hl$}[1]{\\textrm{#1}}$\n",
       "$\\newcommand{$\\vdag$}{(v)^\\dagger}$\n",
       "$\\newcommand$\n",
       "$\\newcommand$</div>\n",
       "\n",
       "\n",
       "\n",
       "<div id=\"title\">\n",
       "\n",
       "# The JWST Early Release Science Program for Direct Observations of Exoplanetary Systems: Best Practices for Data Collection in Cycle 2 and Beyond\n",
       "\n",
       "</div>\n",
       "<div id=\"comments\">\n",
       "\n",
       "[![arXiv](https://img.shields.io/badge/arXiv-2301.07199-b31b1b.svg)](https://arxiv.org/abs/2301.07199)<mark>Appeared on: 2023-01-19</mark> - _Not yet submitted for publication. Intended only to be a community resource for JWST Cycle 2 proposals_\n",
       "\n",
       "</div>\n",
       "<div id=\"authors\">\n",
       "\n",
       "Sasha Hinkley, et al. -- incl., <mark><mark>Michael Meyer</mark></mark>\n",
       "\n",
       "</div>\n",
       "<div id=\"abstract\">\n",
       "\n",
       "**Abstract:** We present a set of recommended best practices for JWST data collection for members of the community focussed on the direct imaging and spectroscopy of exoplanetary systems. These findings and recommendations are based on the early analysis of the JWST Early Release Science Program 1386, \"High-Contrast Imaging of Exoplanets and Exoplanetary Systems with JWST.\"  Our goal is for this information to be useful for observers in preparation of JWST proposals for Cycle 2 and beyond.  In addition to compiling a set of best practices from our ERS program, in a few cases we also draw on the expertise gained within the instrument commissioning programs, as well as include a handful of data processing best practices. We anticipate that this document will be regularly updated and resubmitted to the\\textit{arXiv}to ensure that we have distributed our knowledge of best-practices for data collection as widely and efficiently as possible.\n",
       "\n",
       "</div>\n",
       "\n"
      ],
      "text/plain": [
       "<IPython.core.display.Markdown object>"
      ]
     },
     "metadata": {},
     "output_type": "display_data"
    },
    {
     "data": {
      "text/markdown": [
       "<div class=\"macros\" style=\"visibility:hidden;\">\n",
       "$\\newcommand{\\ensuremath}{}$\n",
       "$\\newcommand{\\xspace}{}$\n",
       "$\\newcommand{\\object}[1]{\\texttt{#1}}$\n",
       "$\\newcommand{\\farcs}{{.}''}$\n",
       "$\\newcommand{\\farcm}{{.}'}$\n",
       "$\\newcommand{\\arcsec}{''}$\n",
       "$\\newcommand{\\arcmin}{'}$\n",
       "$\\newcommand{\\ion}[2]{#1#2}$\n",
       "$\\newcommand{\\textsc}[1]{\\textrm{#1}}$\n",
       "$\\newcommand{\\hl}[1]{\\textrm{#1}}$\n",
       "$\\newcommand{\\hess}{H.E.S.S.\\xspace}$\n",
       "$\\newcommand{\\fermilat}{\\emph{Fermi}-LAT\\xspace}$\n",
       "$\\newcommand{\\gam}{\\gamma\\xspace}$\n",
       "$\\newcommand{\\hessj}{HESS~J1809-193\\xspace}$\n",
       "$\\newcommand{\\psrj}{PSR~J1809-1917\\xspace}$\n",
       "$\\newcommand{\\psrjother}{PSR~J1811-1925\\xspace}$\n",
       "$\\newcommand{\\snrN}{G011.1+00.1\\xspace}$\n",
       "$\\newcommand{\\snrS}{G011.0-00.0\\xspace}$\n",
       "$\\newcommand{\\fermijten}{J1810.3-1925e\\xspace}$\n",
       "$\\newcommand{\\fermijeleven}{J1811.5-1925\\xspace}$\n",
       "$\\newcommand{\\}{NAT}$\n",
       "$\\newcommand{\\@}{citea}$</div>\n",
       "\n",
       "<div class=\"macros\" style=\"visibility:hidden;\">\n",
       "$\\newcommand{$\\ensuremath$}{}$\n",
       "$\\newcommand{$\\xspace$}{}$\n",
       "$\\newcommand{$\\object$}[1]{\\texttt{#1}}$\n",
       "$\\newcommand{$\\farcs$}{{.}''}$\n",
       "$\\newcommand{$\\farcm$}{{.}'}$\n",
       "$\\newcommand{$\\arcsec$}{''}$\n",
       "$\\newcommand{$\\arcmin$}{'}$\n",
       "$\\newcommand{$\\ion$}[2]{#1#2}$\n",
       "$\\newcommand{$\\textsc$}[1]{\\textrm{#1}}$\n",
       "$\\newcommand{$\\hl$}[1]{\\textrm{#1}}$\n",
       "$\\newcommand{$\\hess$}{H.E.S.S.$\\xspace$}$\n",
       "$\\newcommand{$\\fermilat$}{\\emph{Fermi}-LAT$\\xspace$}$\n",
       "$\\newcommand{$\\gam$}{$\\gam$ma$\\xspace$}$\n",
       "$\\newcommand{$\\hess$j}{HESS~J1809-193$\\xspace$}$\n",
       "$\\newcommand{$\\psrj$}{PSR~J1809-1917$\\xspace$}$\n",
       "$\\newcommand{$\\psrj$other}{PSR~J1811-1925$\\xspace$}$\n",
       "$\\newcommand{$\\snrN$}{G011.1+00.1$\\xspace$}$\n",
       "$\\newcommand{$\\snrS$}{G011.0-00.0$\\xspace$}$\n",
       "$\\newcommand{$\\fermijten$}{J1810.3-1925e$\\xspace$}$\n",
       "$\\newcommand{$\\fermijeleven$}{J1811.5-1925$\\xspace$}$\n",
       "$\\newcommand{\\}{NAT}$\n",
       "$\\newcommand{\\@}{citea}$</div>\n",
       "\n",
       "\n",
       "\n",
       "<div id=\"title\">\n",
       "\n",
       "#  --- a very-high-energy gamma-ray source in a fascinating environment\n",
       "\n",
       "</div>\n",
       "<div id=\"comments\">\n",
       "\n",
       "[![arXiv](https://img.shields.io/badge/arXiv-2301.07366-b31b1b.svg)](https://arxiv.org/abs/2301.07366)<mark>Appeared on: 2023-01-19</mark> - _6 pages, 5 figures. Proceedings of the 7th Heidelberg International Symposium on High-Energy Gamma-Ray Astronomy (Gamma2022)_\n",
       "\n",
       "</div>\n",
       "<div id=\"authors\">\n",
       "\n",
       ", V. Joshi, , J. Hinton,  and S. Funk,  for the $\\hess$ Collaboration\n",
       "\n",
       "</div>\n",
       "<div id=\"abstract\">\n",
       "\n",
       "**Abstract:** $\\hess$jis one of the unidentified very-high-energy gamma-ray sources in the$\\hess$Galactic Plane Survey (HGPS).  It is located in a rich environment, with an energetic pulsar and associated X-ray pulsar wind nebula, several supernova remnants, and molecular clouds in the vicinity.  Furthermore,$\\hess$jwas recently detected at energies above 56 TeV with HAWC, which makes it a PeVatron candidate, that is, a source capable of accelerating cosmic rays up to PeV energies.  We present a new analysis of the TeV gamma-ray emission of$\\hess$jwith$\\hess$, based on improved analysis techniques.  We find that the emission is best described by two components with distinct morphologies and energy spectra.  We complement this study with an analysis of Fermi-LAT data in the same region.  Finally, taking into account further multi-wavelength data, we interpret our results both in a hadronic and leptonic framework.\n",
       "\n",
       "</div>\n",
       "\n",
       "<div id=\"div_fig1\">\n",
       "\n",
       "<img src=\"tmp_2301.07366/./img/sign_maps_models_prelim.png\" alt=\"Fig2\" width=\"100%\"/>\n",
       "\n",
       "**Figure 2. -** $\\hess$ significance maps for $\\hess$j.\n",
       "    Panel (a) shows the pre-modelling map, whereas panels (b) and (c) show the residual significance map for the 1-component and the 2-component model, respectively.\n",
       "    White dashed circles denote regions excluded from the analysis.\n",
       "   (*fig:sign_maps_hess*)\n",
       "\n",
       "</div>\n",
       "<div id=\"div_fig2\">\n",
       "\n",
       "<img src=\"tmp_2301.07366/./img/flux_map_prelim.png\" alt=\"Fig1\" width=\"100%\"/>\n",
       "\n",
       "**Figure 1. -** \n",
       "    Map showing the $\\gam$-ray flux above \\SI{0.27}{TeV} from $\\hess$j.\n",
       "    (a) full region.\n",
       "    (b) zoom-in on core region.\n",
       "    The position of $\\psrj$ is marked with a black triangle, cyan circles denote the positions of SNRs.\n",
       "    The green/purple dot and lines display the position and extent of the two components (A/B) of $\\hess$j(cf. also Fig. \\ref{fig:sign_maps_hess}).\n",
       "    The grey dashed line marks the Galactic plane.\n",
       "   (*fig:flux_maps*)\n",
       "\n",
       "</div>\n",
       "<div id=\"div_fig3\">\n",
       "\n",
       "<img src=\"tmp_2301.07366/./img/sign_maps_fermi_prelim.png\" alt=\"Fig3\" width=\"100%\"/>\n",
       "\n",
       "**Figure 3. -** \n",
       "    Significance maps for the $\\fermilat$ analysis.\n",
       "    (a) Pre-modelling map.\n",
       "    (b) With $\\fermijeleven$ in the model.\n",
       "    (c) With $\\fermijeleven$ and $\\fermijten$ in the model.\n",
       "    The two components of $\\hess$j are displayed as well.\n",
       "    The grey dashed line marks the Galactic plane.\n",
       "   (*fig:sign_maps_fermi*)\n",
       "\n",
       "</div>"
      ],
      "text/plain": [
       "<IPython.core.display.Markdown object>"
      ]
     },
     "metadata": {},
     "output_type": "display_data"
    }
   ],
   "source": [
    "[display(Markdown(k[1])) for k in documents];"
   ]
  },
  {
   "cell_type": "markdown",
   "id": "873873a4",
   "metadata": {
    "papermill": {
     "duration": 0.013775,
     "end_time": "2023-01-19T04:09:35.432494",
     "exception": false,
     "start_time": "2023-01-19T04:09:35.418719",
     "status": "completed"
    },
    "tags": []
   },
   "source": [
    "# Create HTML index"
   ]
  },
  {
   "cell_type": "code",
   "execution_count": 10,
   "id": "cf665672",
   "metadata": {
    "execution": {
     "iopub.execute_input": "2023-01-19T04:09:35.461882Z",
     "iopub.status.busy": "2023-01-19T04:09:35.461172Z",
     "iopub.status.idle": "2023-01-19T04:09:35.473820Z",
     "shell.execute_reply": "2023-01-19T04:09:35.473148Z"
    },
    "papermill": {
     "duration": 0.029061,
     "end_time": "2023-01-19T04:09:35.475324",
     "exception": false,
     "start_time": "2023-01-19T04:09:35.446263",
     "status": "completed"
    },
    "tags": []
   },
   "outputs": [
    {
     "name": "stdout",
     "output_type": "stream",
     "text": [
      "175  publications in the last 7 days.\n",
      "\t _build/html/2301.07366.md\n",
      "\t _build/html/2301.07199.md\n",
      "\t _build/html/2301.07116.md\n",
      "\t _build/html/2301.06873.md\n",
      "\t _build/html/2301.06819.md\n",
      "\t _build/html/2301.06575.md\n",
      "\t _build/html/2301.05720.md\n",
      "\t _build/html/2301.05718.md\n",
      "\t _build/html/2301.05034.md\n",
      "\t _build/html/2301.04656.md\n",
      "\t _build/html/2301.04533.md\n",
      "\t _build/html/2301.04442.md\n",
      "\t _build/html/2301.03811.md\n",
      "\t _build/html/2301.03689.md\n",
      "\t _build/html/2301.03387.md\n",
      "\t _build/html/2301.03209.md\n",
      "\t _build/html/2301.02671.md\n",
      "\t _build/html/2301.02477.md\n",
      "\t _build/html/2301.02313.md\n",
      "\t _build/html/2301.02265.md\n",
      "\t _build/html/2301.01937.md\n",
      "\t _build/html/2301.01895.md\n",
      "\t _build/html/2301.01684.md\n",
      "\t _build/html/2301.01306.md\n",
      "\t _build/html/2301.00881.md\n",
      "\t _build/html/2301.00854.md\n",
      "\t _build/html/2301.00578.md\n",
      "\t _build/html/2212.12039.md\n",
      "\t _build/html/2212.11991.md\n",
      "\t _build/html/2212.11425.md\n",
      "\t _build/html/2212.11177.md\n",
      "\t _build/html/2212.10804.md\n",
      "\t _build/html/2212.10512.md\n",
      "\t _build/html/2212.09766.md\n",
      "\t _build/html/2212.09675.md\n",
      "\t _build/html/2212.09661.md\n",
      "\t _build/html/2212.09652.md\n",
      "\t _build/html/2212.09443.md\n",
      "\t _build/html/2212.09307.md\n",
      "\t _build/html/2212.09168.md\n",
      "\t _build/html/2212.09159.md\n",
      "\t _build/html/2212.08702.md\n",
      "\t _build/html/2212.07332.md\n",
      "\t _build/html/2212.06434.md\n",
      "\t _build/html/2212.04710.md\n",
      "\t _build/html/2212.04026.md\n",
      "\t _build/html/2212.03563.md\n",
      "\t _build/html/2212.03514.md\n",
      "\t _build/html/2212.02667.md\n",
      "\t _build/html/2212.02627.md\n",
      "\t _build/html/2212.02235.md\n",
      "\t _build/html/2212.01707.md\n",
      "\t _build/html/2212.01526.md\n",
      "\t _build/html/2212.01397.md\n",
      "\t _build/html/2212.01291.md\n",
      "\t _build/html/2212.01281.md\n",
      "\t _build/html/2212.00812.md\n",
      "\t _build/html/2212.00811.md\n",
      "\t _build/html/2212.00806.md\n",
      "\t _build/html/2212.00047.md\n",
      "\t _build/html/2212.00032.md\n",
      "\t _build/html/2211.16996.md\n",
      "\t _build/html/2211.16510.md\n",
      "\t _build/html/2211.16123.md\n",
      "\t _build/html/2211.15816.md\n",
      "\t _build/html/2211.15698.md\n",
      "\t _build/html/2211.15576.md\n",
      "\t _build/html/2211.15434.md\n",
      "\t _build/html/2211.15288.md\n",
      "\t _build/html/2211.15224.md\n",
      "\t _build/html/2211.14543.md\n",
      "\t _build/html/2211.14330.md\n",
      "\t _build/html/2211.14322.md\n",
      "\t _build/html/2211.14132.md\n",
      "\t _build/html/2211.13811.md\n",
      "\t _build/html/2211.13426.md\n",
      "\t _build/html/2211.13318.md\n",
      "\t _build/html/2211.13146.md\n",
      "\t _build/html/2211.12613.md\n",
      "\t _build/html/2211.11767.md\n",
      "\t _build/html/2211.09840.md\n",
      "\t _build/html/2211.09217.md\n",
      "\t _build/html/2211.08493.md\n",
      "\t _build/html/2211.08487.md\n",
      "\t _build/html/2211.08294.md\n",
      "\t _build/html/2211.07667.md\n",
      "\t _build/html/2211.07659.md\n",
      "\t _build/html/2211.06454.md\n",
      "\t _build/html/2211.06205.md\n",
      "\t _build/html/2211.06194.md\n",
      "\t _build/html/2211.05022.md\n",
      "\t _build/html/2211.04048.md\n",
      "\t _build/html/2211.03641.md\n",
      "\t _build/html/2211.02502.md\n",
      "\t _build/html/2211.01474.md\n",
      "\t _build/html/2211.00667.md\n",
      "\t _build/html/2211.00657.md\n",
      "\t _build/html/2211.00087.md\n",
      "\t _build/html/2211.00036.md\n",
      "\t _build/html/2211.00020.md\n",
      "\t _build/html/2211.00010.md\n",
      "\t _build/html/2210.17434.md\n",
      "\t _build/html/2210.12412.md\n",
      "\t _build/html/2210.11926.md\n",
      "\t _build/html/2210.11551.md\n",
      "\t _build/html/2210.11103.md\n",
      "\t _build/html/2210.10707.md\n",
      "\t _build/html/2210.09930.md\n",
      "\t _build/html/2210.08996.md\n",
      "\t _build/html/2210.08517.md\n",
      "\t _build/html/2210.08510.md\n",
      "\t _build/html/2210.08078.md\n",
      "\t _build/html/2210.06504.md\n",
      "\t _build/html/2210.05695.md\n",
      "\t _build/html/2210.05595.md\n",
      "\t _build/html/2210.05505.md\n",
      "\t _build/html/2210.04721.md\n",
      "\t _build/html/2210.03615.md\n",
      "\t _build/html/2210.01811.md\n",
      "\t _build/html/2210.01809.md\n",
      "\t _build/html/2210.01556.md\n",
      "\t _build/html/2210.00863.md\n",
      "\t _build/html/2210.00560.md\n",
      "\t _build/html/2209.15403.md\n",
      "\t _build/html/2209.15110.md\n",
      "\t _build/html/2209.14410.md\n",
      "\t _build/html/2209.14396.md\n",
      "\t _build/html/2209.13717.md\n",
      "\t _build/html/2209.13336.md\n",
      "\t _build/html/2209.12906.md\n",
      "\t _build/html/2209.11781.md\n",
      "\t _build/html/2209.11602.md\n",
      "\t _build/html/2209.11248.md\n",
      "\t _build/html/2209.11096.md\n",
      "\t _build/html/2209.10618.md\n",
      "\t _build/html/2209.09914.md\n",
      "\t _build/html/2209.09823.md\n",
      "\t _build/html/2209.08242.md\n",
      "\t _build/html/2209.08120.md\n",
      "\t _build/html/2209.08106.md\n",
      "\t _build/html/2209.07962.md\n",
      "\t _build/html/2209.07931.md\n",
      "\t _build/html/2209.06833.md\n",
      "\t _build/html/2209.05814.md\n",
      "\t _build/html/2209.05593.md\n",
      "\t _build/html/2209.04304.md\n",
      "\t _build/html/2209.03367.md\n",
      "\t _build/html/2209.02872.md\n",
      "\t _build/html/2209.02725.md\n",
      "\t _build/html/2209.02722.md\n",
      "\t _build/html/2209.02092.md\n",
      "\t _build/html/2209.01125.md\n",
      "\t _build/html/2209.00828.md\n",
      "\t _build/html/2209.00363.md\n",
      "\t _build/html/2208.14927.md\n",
      "\t _build/html/2208.09335.md\n",
      "\t _build/html/2208.08872.md\n",
      "\t _build/html/2204.06393.md\n",
      "\t _build/html/2204.03335.md\n",
      "\t _build/html/2204.03253.md\n",
      "\t _build/html/2204.02998.md\n",
      "\t _build/html/2204.02109.md\n",
      "\t _build/html/2204.02017.md\n",
      "\t _build/html/2204.01824.md\n",
      "\t _build/html/2204.01758.md\n",
      "\t _build/html/2204.01245.md\n",
      "\t _build/html/2204.00793.md\n",
      "\t _build/html/2204.00342.md\n",
      "\t _build/html/2203.16959.md\n",
      "\t _build/html/2203.16856.md\n",
      "\t _build/html/2203.16735.md\n",
      "\t _build/html/2203.16734.md\n",
      "\t _build/html/2203.16504.md\n",
      "\t _build/html/2203.15822.md\n",
      "\t _build/html/2203.15811.md\n"
     ]
    }
   ],
   "source": [
    "from datetime import datetime, timedelta, timezone\n",
    "from glob import glob\n",
    "\n",
    "files = glob('_build/html/*.md')\n",
    "days = 7\n",
    "now = datetime.today()\n",
    "res = []\n",
    "for fk in files:\n",
    "    stat_result = os.stat(fk).st_ctime\n",
    "    modified = datetime.fromtimestamp(stat_result, tz=timezone.utc).replace(tzinfo=None)\n",
    "    delta = now.today() - modified\n",
    "    if delta <= timedelta(days=days):\n",
    "        res.append((delta.seconds, fk))\n",
    "res = [k[1] for k in reversed(sorted(res, key=lambda x:x[1]))]\n",
    "npub = len(res)\n",
    "print(len(res), f\" publications in the last {days:d} days.\")\n",
    "[ print('\\t', k) for k in res ];"
   ]
  },
  {
   "cell_type": "code",
   "execution_count": 11,
   "id": "015de740",
   "metadata": {
    "execution": {
     "iopub.execute_input": "2023-01-19T04:09:35.512295Z",
     "iopub.status.busy": "2023-01-19T04:09:35.507683Z",
     "iopub.status.idle": "2023-01-19T04:09:35.536300Z",
     "shell.execute_reply": "2023-01-19T04:09:35.533000Z"
    },
    "papermill": {
     "duration": 0.048594,
     "end_time": "2023-01-19T04:09:35.538059",
     "exception": false,
     "start_time": "2023-01-19T04:09:35.489465",
     "status": "completed"
    },
    "tags": []
   },
   "outputs": [
    {
     "name": "stdout",
     "output_type": "stream",
     "text": [
      "12  publications in the last 7 days.\n"
     ]
    }
   ],
   "source": [
    "import datetime\n",
    "from glob import glob\n",
    "\n",
    "def get_last_n_days(lst, days=1):\n",
    "    \"\"\" Get the documents from the last n days \"\"\"\n",
    "    sorted_lst = sorted(lst, key=lambda x: x[1], reverse=True)\n",
    "    for fname, date in sorted_lst:\n",
    "        if date >= str(datetime.date.today() - datetime.timedelta(days=days)):\n",
    "            yield fname\n",
    "\n",
    "def extract_appearance_dates(lst_file):\n",
    "    dates = []\n",
    "\n",
    "    def get_date(line):\n",
    "        return line\\\n",
    "            .split('Appeared on:')[-1]\\\n",
    "            .split('</mark>')[0].strip()\n",
    "\n",
    "    for fname in lst:\n",
    "        with open(fname, 'r') as f:\n",
    "            found_date = False\n",
    "            for line in f:\n",
    "                if not found_date:\n",
    "                    if \"Appeared on\" in line:\n",
    "                        found_date = True\n",
    "                        dates.append((fname, get_date(line)))\n",
    "                else:\n",
    "                    break\n",
    "    return dates\n",
    "\n",
    "from glob import glob\n",
    "lst = glob('_build/html/*md')\n",
    "days = 7\n",
    "dates = extract_appearance_dates(lst)\n",
    "res = list(get_last_n_days(dates, days))\n",
    "npub = len(res)\n",
    "print(len(res), f\" publications in the last {days:d} days.\")"
   ]
  },
  {
   "cell_type": "code",
   "execution_count": 12,
   "id": "52ca0208",
   "metadata": {
    "execution": {
     "iopub.execute_input": "2023-01-19T04:09:35.567981Z",
     "iopub.status.busy": "2023-01-19T04:09:35.567384Z",
     "iopub.status.idle": "2023-01-19T04:09:35.574566Z",
     "shell.execute_reply": "2023-01-19T04:09:35.573988Z"
    },
    "papermill": {
     "duration": 0.023861,
     "end_time": "2023-01-19T04:09:35.575990",
     "exception": false,
     "start_time": "2023-01-19T04:09:35.552129",
     "status": "completed"
    },
    "scrolled": false,
    "tags": []
   },
   "outputs": [],
   "source": [
    "def create_carousel(npub=4):\n",
    "    \"\"\" Generate the HTML code for a carousel with `npub` slides \"\"\"\n",
    "    carousel = [\"\"\"<section class=\"carousel\" aria-label=\"Gallery\">\"\"\",\n",
    "                \"\"\"  <ol class=\"carousel__viewport\">\"\"\",\n",
    "    ]\n",
    "    for k in range(1, npub + 1):\n",
    "        prev_ = k - 1\n",
    "        next_ = k + 1\n",
    "        if prev_ <= 0:\n",
    "            prev_ = npub\n",
    "        if next_ > npub:\n",
    "            next_ = 1\n",
    "        text  = f\"\"\"    <li id=\"carousel__slide{k}\" tabindex=\"0\" class=\"carousel__slide\">\\n\"\"\"\n",
    "        text += f\"\"\"       <div class=\"carousel__snapper\">\\n\"\"\"\n",
    "        text += f\"\"\"         <a href=\"#carousel__slide{prev_}\" class=\"carousel__prev\">Go to previous slide</a>\\n\"\"\"\n",
    "        text += f\"\"\"         <a href=\"#carousel__slide{next_}\" class=\"carousel__next\">Go to next slide</a>\\n\"\"\"\n",
    "        text += f\"\"\"         <div id=\"slide{k}_content\" class=\"md_view\" >Content {k}</div>\\n\"\"\"\n",
    "        text += f\"\"\"       </div>\\n\"\"\"\n",
    "        text += f\"\"\"    </li>\"\"\"\n",
    "        carousel.append(text)\n",
    "\n",
    "    carousel.extend([\n",
    "        \"\"\"  </ol>\"\"\",\n",
    "        \"\"\"  <aside class=\"carousel__navigation\">\"\"\",\n",
    "        \"\"\"    <ol class=\"carousel__navigation-list\">\"\"\"])\n",
    "\n",
    "    for k in range(1, npub + 1):\n",
    "        text  = f\"\"\"      <li class=\"carousel__navigation-item\">\\n\"\"\"\n",
    "        text += f\"\"\"        <a href=\"#carousel__slide{k}\" class=\"carousel__navigation-button\">Go to {k}</a>\\n\"\"\"\n",
    "        text += f\"\"\"      </li>\"\"\"\n",
    "        carousel.append(text)\n",
    "    carousel.extend([\"\"\"    </ol>\"\"\", \"\"\"  </aside>\"\"\", \"\"\"</section>\"\"\"])\n",
    "\n",
    "    return '\\n'.join(carousel)"
   ]
  },
  {
   "cell_type": "code",
   "execution_count": 13,
   "id": "a6eac5b6",
   "metadata": {
    "execution": {
     "iopub.execute_input": "2023-01-19T04:09:35.605864Z",
     "iopub.status.busy": "2023-01-19T04:09:35.605321Z",
     "iopub.status.idle": "2023-01-19T04:09:35.615409Z",
     "shell.execute_reply": "2023-01-19T04:09:35.614718Z"
    },
    "papermill": {
     "duration": 0.027393,
     "end_time": "2023-01-19T04:09:35.617326",
     "exception": false,
     "start_time": "2023-01-19T04:09:35.589933",
     "status": "completed"
    },
    "scrolled": false,
    "tags": []
   },
   "outputs": [],
   "source": [
    "carousel = create_carousel(npub)\n",
    "docs = ', '.join(['\"{0:s}\"'.format(k.split('/')[-1]) for k in res])\n",
    "slides = ', '.join([f'\"slide{k}_content\"' for k in range(1, npub + 1)])\n",
    "\n",
    "script = f\"\"\"\n",
    "const docs = [{docs}]\n",
    "\n",
    "const slides = [{slides}]\n",
    "\"\"\" + \"\"\"\n",
    "async function run() {\n",
    "    for (let i = 0; i < docs.length; i++) {\n",
    "        let file = await fetch(docs[i]);\n",
    "        let text = await file.text()\n",
    "        document.getElementById(slides[i]).innerHTML =\n",
    "            marked.parse(text);\n",
    "    }\n",
    "    hljs.highlightAll();\n",
    "}\n",
    "run()\n",
    "\"\"\"\n",
    "\n",
    "page = f\"\"\"<!doctype html>\n",
    "<html lang=\"en\">\n",
    "\n",
    "<head>\n",
    "  <meta charset=\"utf-8\">\n",
    "  <meta name=\"viewport\" content=\"width=device-width, initial-scale=1\">\n",
    "  <!-- Bootstrap CSS -->\n",
    "  <link href=\"https://cdn.jsdelivr.net/npm/bootstrap@5.0.2/dist/css/bootstrap.min.css\" rel=\"stylesheet\"\n",
    "   integrity=\"sha384-EVSTQN3/azprG1Anm3QDgpJLIm9Nao0Yz1ztcQTwFspd3yD65VohhpuuCOmLASjC\" crossorigin=\"anonymous\">\n",
    "  <!-- highlight.js CSS -->\n",
    "  <link rel=\"stylesheet\" href=\"https://cdnjs.cloudflare.com/ajax/libs/highlight.js/11.1.0/styles/default.min.css\">\n",
    "  <!-- Mathjax 3 -->\n",
    "  <script type=\"text/javascript\" id=\"MathJax-config\" src=\"mathjax_config.js\"> </script>\n",
    "  <script type=\"text/javascript\" id=\"MathJax-script\" async \n",
    "    src=\"https://cdn.jsdelivr.net/npm/mathjax@3/es5/tex-mml-chtml.js\">\n",
    "  </script>\n",
    "  <link rel=\"stylesheet\" href=\"index_carousel.css\">\n",
    "  <link rel=\"icon\" type=\"image/x-icon\" href=\"https://www.mpia.de/assets/touch-icon-32x32-a66937bcebc4e8894ebff1f41a366c7c7220fd97a38869ee0f2db65a9f59b6c1.png\">\n",
    "  <title>MPIA Arxiv on deck!</title>\n",
    "</head>\n",
    "\n",
    "<body>\n",
    "  <div id=\"header\"> <img src=\"header_banner.png\" width=\"100%\"></div>\n",
    "  <div id=\"suptitle\"> 7-day archives </div>\n",
    "  <div id=\"info\">\n",
    "    <img src=\"https://pngimg.com/uploads/github/github_PNG58.png\" height=30rem></img>\n",
    "    <a href=https://github.com/mpi-astronomy/arxiv_display style=\"color:black;\">github/mpi-astronomy/arxiv_display</a> \n",
    "  </div>\n",
    "  {carousel:s}\n",
    "</body>\n",
    "\n",
    "<!-- Render Markdown -->\n",
    "\n",
    "<body>\n",
    "  <!-- highlight.js: https://highlightjs.org/download/ -->\n",
    "  <script src=\"https://cdnjs.cloudflare.com/ajax/libs/highlight.js/11.5.0/highlight.min.js\"></script>\n",
    "  <!-- marked.js -->\n",
    "  <script src=\"https://cdn.jsdelivr.net/npm/marked/marked.min.js\"></script>\n",
    "  <script>{script:s}</script>\n",
    "</body>\n",
    "</html>\n",
    "\"\"\"\n",
    "with open(\"_build/html/index_7days.html\", 'w') as fout:\n",
    "    fout.write(page)"
   ]
  },
  {
   "cell_type": "markdown",
   "id": "1cebacbc",
   "metadata": {
    "papermill": {
     "duration": 0.013906,
     "end_time": "2023-01-19T04:09:35.645648",
     "exception": false,
     "start_time": "2023-01-19T04:09:35.631742",
     "status": "completed"
    },
    "tags": []
   },
   "source": [
    "# Debugging papers"
   ]
  },
  {
   "cell_type": "raw",
   "id": "debe7cc6",
   "metadata": {
    "papermill": {
     "duration": 0.013821,
     "end_time": "2023-01-19T04:09:35.673266",
     "exception": false,
     "start_time": "2023-01-19T04:09:35.659445",
     "status": "completed"
    },
    "tags": []
   },
   "source": [
    "raise NotImplementedError(\"Manual Stop\")"
   ]
  },
  {
   "cell_type": "raw",
   "id": "eb169192",
   "metadata": {
    "papermill": {
     "duration": 0.013877,
     "end_time": "2023-01-19T04:09:35.701070",
     "exception": false,
     "start_time": "2023-01-19T04:09:35.687193",
     "status": "completed"
    },
    "scrolled": true,
    "tags": []
   },
   "source": [
    "from IPython.display import display, Markdown\n",
    "from TexSoup import TexSoup\n",
    "import re\n",
    "\n",
    "def bracket_error(source: str):\n",
    "    \"\"\" Find problematic portions of the document \"\"\"\n",
    "    \n",
    "    print(\"len(source)\", len(source))\n",
    "    \n",
    "    # Checking header\n",
    "    begin_doc = next(re.finditer(r'\\\\begin\\{document\\}', doc.source)).span()[1]\n",
    "    header = source[:begin_doc]\n",
    "    text = header + r\"\\n\\end{document}\"\n",
    "\n",
    "    try:\n",
    "        # print(\"Header check... \", end='')\n",
    "        TexSoup(text)\n",
    "        display(Markdown(f\"**[OK]** - Header\"))\n",
    "    except:\n",
    "        raise RuntimeError(\"Error in the header\")\n",
    "        \n",
    "    # Check the text per section until the end.\n",
    "    # Do not stop and try them all.\n",
    "    \n",
    "    problematic_text = []\n",
    "    \n",
    "    sections = ([(0, begin_doc, 'until first section')] + \n",
    "                [(g.span()[0], g.span()[1], g.group()) for g in re.finditer(r'\\\\section\\{.*\\}', source)] +\n",
    "                [(g.span()[0], g.span()[1], g.group()) for g in re.finditer(r'\\\\begin\\{appendix\\}', source)]\n",
    "               )\n",
    "    sections.append([len(source), len(source), 'end'])\n",
    "    \n",
    "    sections = sorted(sections, key=lambda x: x[0])\n",
    "    \n",
    "    prev_pos, prev_name = (0, 'header')\n",
    "    parsed = []\n",
    "    \n",
    "    for span, span_end, name in sections:\n",
    "\n",
    "        if span - prev_pos <= 0:\n",
    "            continue\n",
    "            \n",
    "\n",
    "        text = source[prev_pos:span]\n",
    "        if prev_pos > begin_doc:\n",
    "            text = r\"\\n\\begin{document}\" + text + r\"\\n\\end{document}\"\n",
    "        else:\n",
    "            text = text + r\"\\n\\end{document}\"\n",
    "        try:\n",
    "            #print(f\"{prev_pos}:{prev_name}-->{span}:{name} check... \", end='')\n",
    "            parsed.append(TexSoup(text, tolerance=1))  # allow not ending env\n",
    "            display(Markdown(f\"**[OK]** - *{prev_pos}*:{prev_name} &rarr; *{span}*:{name}\"))\n",
    "            # print(\"ok\")\n",
    "\n",
    "            prev_pos = span\n",
    "            prev_name = name\n",
    "        except:\n",
    "            # print(f\"error between {prev_pos} and {span}\")\n",
    "            display(Markdown(f\"**[ERR]** *{prev_pos}*:{prev_name} &rarr; *{span}*:{name}\"))\n",
    "            problematic_text.append((prev_pos, source[prev_pos:span]))\n",
    "            prev_pos = span\n",
    "            prev_name = name\n",
    "            # raise\n",
    "    return problematic_text, parsed\n",
    "\n",
    "\n",
    "def check_environment(text, offset=0):\n",
    "    \"\"\" Check environment \"\"\"\n",
    "    env = re.compile(r\"\\\\begin\\{(?P<env>.*)\\}(.*)\\\\end\\{(?P=env)\\}\", re.DOTALL)\n",
    "\n",
    "    for match in env.finditer(text):\n",
    "        beg, end = match.span()\n",
    "        beg += offset\n",
    "        end += offset\n",
    "        envname = match.groups()[0]\n",
    "        try:\n",
    "            latex.TexSoup(match.group())\n",
    "        except Exception as e:\n",
    "            display(e)\n",
    "            print(f\"Error in {envname:s} between {beg} and {end}\")\n",
    "            return match.groups()[1], beg, end"
   ]
  },
  {
   "cell_type": "raw",
   "id": "2315e835",
   "metadata": {
    "papermill": {
     "duration": 0.013828,
     "end_time": "2023-01-19T04:09:35.728833",
     "exception": false,
     "start_time": "2023-01-19T04:09:35.715005",
     "status": "completed"
    },
    "scrolled": false,
    "tags": []
   },
   "source": [
    "import importlib\n",
    "importlib.reload(latex)\n",
    "which = \"2204.03253\"\n",
    "paper_id = f'{which:s}'\n",
    "folder = f'tmp_{paper_id:s}'\n",
    "\n",
    "if not os.path.isdir(folder):\n",
    "    folder = retrieve_document_source(f\"{paper_id}\", f'tmp_{paper_id}')\n",
    "\n",
    "try:\n",
    "    doc = latex.LatexDocument(folder, validation=validation)    \n",
    "except AffiliationError as affilerror:\n",
    "    msg = f\"ArXiv:{paper_id:s} is not an MPIA paper... \" + str(affilerror)\n",
    "    print(msg)\n",
    "\n",
    "\n",
    "# Hack because sometimes author parsing does not work well\n",
    "if (len(doc.authors) != len(paper['authors'])):\n",
    "    doc._authors = paper['authors']\n",
    "if (doc.abstract) in (None, ''):\n",
    "    doc._abstract = paper['abstract']\n",
    "\n",
    "doc.comment = get_markdown_badge(paper_id) + \" _\" + paper['comments'] + \"_\"\n",
    "doc.highlight_authors_in_list(hl_list)\n",
    "\n",
    "full_md = doc.generate_markdown_text()"
   ]
  },
  {
   "cell_type": "raw",
   "id": "dd3781db",
   "metadata": {
    "papermill": {
     "duration": 0.013813,
     "end_time": "2023-01-19T04:09:35.756586",
     "exception": false,
     "start_time": "2023-01-19T04:09:35.742773",
     "status": "completed"
    },
    "scrolled": false,
    "tags": []
   },
   "source": [
    "doc"
   ]
  },
  {
   "cell_type": "raw",
   "id": "c6eed834",
   "metadata": {
    "papermill": {
     "duration": 0.013832,
     "end_time": "2023-01-19T04:09:35.784221",
     "exception": false,
     "start_time": "2023-01-19T04:09:35.770389",
     "status": "completed"
    },
    "tags": []
   },
   "source": [
    "# [check_environment(k) for k in bracket_error(doc.source)]\n",
    "_, _, a = latex.get_content_per_section(doc.source, verbose=True)\n",
    "if not a:\n",
    "    print(\"no issues per section\")\n",
    "for ak in a:\n",
    "    r = check_environment(ak[1], offset=ak[0])\n",
    "    print(r[1], r[2])\n",
    "    print(r[0])"
   ]
  },
  {
   "cell_type": "code",
   "execution_count": null,
   "id": "71ce768a",
   "metadata": {
    "papermill": {
     "duration": 0.013722,
     "end_time": "2023-01-19T04:09:35.811761",
     "exception": false,
     "start_time": "2023-01-19T04:09:35.798039",
     "status": "completed"
    },
    "tags": []
   },
   "outputs": [],
   "source": []
  }
 ],
 "metadata": {
  "kernelspec": {
   "display_name": "Python 3",
   "language": "python",
   "name": "python3"
  },
  "language_info": {
   "codemirror_mode": {
    "name": "ipython",
    "version": 3
   },
   "file_extension": ".py",
   "mimetype": "text/x-python",
   "name": "python",
   "nbconvert_exporter": "python",
   "pygments_lexer": "ipython3",
   "version": "3.9.16"
  },
  "papermill": {
   "default_parameters": {},
   "duration": 114.393021,
   "end_time": "2023-01-19T04:09:36.044459",
   "environment_variables": {},
   "exception": null,
   "input_path": "MPIA daily digest.ipynb",
   "output_path": "log.ipynb",
   "parameters": {},
   "start_time": "2023-01-19T04:07:41.651438",
   "version": "2.4.0"
  },
  "vscode": {
   "interpreter": {
    "hash": "aee8b7b246df8f9039afb4144a1f6fd8d2ca17a180786b69acc140d282b71a49"
   }
  },
  "widgets": {
   "application/vnd.jupyter.widget-state+json": {
    "state": {
     "058cc495e2da45889b00646f07664a6b": {
      "model_module": "@jupyter-widgets/controls",
      "model_module_version": "2.0.0",
      "model_name": "FloatProgressModel",
      "state": {
       "_dom_classes": [],
       "_model_module": "@jupyter-widgets/controls",
       "_model_module_version": "2.0.0",
       "_model_name": "FloatProgressModel",
       "_view_count": null,
       "_view_module": "@jupyter-widgets/controls",
       "_view_module_version": "2.0.0",
       "_view_name": "ProgressView",
       "bar_style": "success",
       "description": "",
       "description_allow_html": false,
       "layout": "IPY_MODEL_d3e6e8cecf064d6eb6350990bdc8fed2",
       "max": 39.0,
       "min": 0.0,
       "orientation": "horizontal",
       "style": "IPY_MODEL_0d8cffeb90c14ae79af43e79ab451c2d",
       "tabbable": null,
       "tooltip": null,
       "value": 39.0
      }
     },
     "0d8cffeb90c14ae79af43e79ab451c2d": {
      "model_module": "@jupyter-widgets/controls",
      "model_module_version": "2.0.0",
      "model_name": "ProgressStyleModel",
      "state": {
       "_model_module": "@jupyter-widgets/controls",
       "_model_module_version": "2.0.0",
       "_model_name": "ProgressStyleModel",
       "_view_count": null,
       "_view_module": "@jupyter-widgets/base",
       "_view_module_version": "2.0.0",
       "_view_name": "StyleView",
       "bar_color": null,
       "description_width": ""
      }
     },
     "1cb35f2c2e174de7b642edd409565e5e": {
      "model_module": "@jupyter-widgets/controls",
      "model_module_version": "2.0.0",
      "model_name": "HBoxModel",
      "state": {
       "_dom_classes": [],
       "_model_module": "@jupyter-widgets/controls",
       "_model_module_version": "2.0.0",
       "_model_name": "HBoxModel",
       "_view_count": null,
       "_view_module": "@jupyter-widgets/controls",
       "_view_module_version": "2.0.0",
       "_view_name": "HBoxView",
       "box_style": "",
       "children": [
        "IPY_MODEL_53307b8fac5d4eb2853a47a6e7d5ee9f",
        "IPY_MODEL_058cc495e2da45889b00646f07664a6b",
        "IPY_MODEL_99b44d1f0f3d42109629056da7783bfe"
       ],
       "layout": "IPY_MODEL_3f1c1ee55c82489cb1e389abfb1f3e1d",
       "tabbable": null,
       "tooltip": null
      }
     },
     "2d0a0315a2424f8ea16b9818fb885f60": {
      "model_module": "@jupyter-widgets/base",
      "model_module_version": "2.0.0",
      "model_name": "LayoutModel",
      "state": {
       "_model_module": "@jupyter-widgets/base",
       "_model_module_version": "2.0.0",
       "_model_name": "LayoutModel",
       "_view_count": null,
       "_view_module": "@jupyter-widgets/base",
       "_view_module_version": "2.0.0",
       "_view_name": "LayoutView",
       "align_content": null,
       "align_items": null,
       "align_self": null,
       "border_bottom": null,
       "border_left": null,
       "border_right": null,
       "border_top": null,
       "bottom": null,
       "display": null,
       "flex": null,
       "flex_flow": null,
       "grid_area": null,
       "grid_auto_columns": null,
       "grid_auto_flow": null,
       "grid_auto_rows": null,
       "grid_column": null,
       "grid_gap": null,
       "grid_row": null,
       "grid_template_areas": null,
       "grid_template_columns": null,
       "grid_template_rows": null,
       "height": null,
       "justify_content": null,
       "justify_items": null,
       "left": null,
       "margin": null,
       "max_height": null,
       "max_width": null,
       "min_height": null,
       "min_width": null,
       "object_fit": null,
       "object_position": null,
       "order": null,
       "overflow": null,
       "padding": null,
       "right": null,
       "top": null,
       "visibility": null,
       "width": null
      }
     },
     "3f1c1ee55c82489cb1e389abfb1f3e1d": {
      "model_module": "@jupyter-widgets/base",
      "model_module_version": "2.0.0",
      "model_name": "LayoutModel",
      "state": {
       "_model_module": "@jupyter-widgets/base",
       "_model_module_version": "2.0.0",
       "_model_name": "LayoutModel",
       "_view_count": null,
       "_view_module": "@jupyter-widgets/base",
       "_view_module_version": "2.0.0",
       "_view_name": "LayoutView",
       "align_content": null,
       "align_items": null,
       "align_self": null,
       "border_bottom": null,
       "border_left": null,
       "border_right": null,
       "border_top": null,
       "bottom": null,
       "display": null,
       "flex": null,
       "flex_flow": null,
       "grid_area": null,
       "grid_auto_columns": null,
       "grid_auto_flow": null,
       "grid_auto_rows": null,
       "grid_column": null,
       "grid_gap": null,
       "grid_row": null,
       "grid_template_areas": null,
       "grid_template_columns": null,
       "grid_template_rows": null,
       "height": null,
       "justify_content": null,
       "justify_items": null,
       "left": null,
       "margin": null,
       "max_height": null,
       "max_width": null,
       "min_height": null,
       "min_width": null,
       "object_fit": null,
       "object_position": null,
       "order": null,
       "overflow": null,
       "padding": null,
       "right": null,
       "top": null,
       "visibility": null,
       "width": null
      }
     },
     "53307b8fac5d4eb2853a47a6e7d5ee9f": {
      "model_module": "@jupyter-widgets/controls",
      "model_module_version": "2.0.0",
      "model_name": "HTMLModel",
      "state": {
       "_dom_classes": [],
       "_model_module": "@jupyter-widgets/controls",
       "_model_module_version": "2.0.0",
       "_model_name": "HTMLModel",
       "_view_count": null,
       "_view_module": "@jupyter-widgets/controls",
       "_view_module_version": "2.0.0",
       "_view_name": "HTMLView",
       "description": "",
       "description_allow_html": false,
       "layout": "IPY_MODEL_c3b389824b034dafb283b2dd9eaa544a",
       "placeholder": "​",
       "style": "IPY_MODEL_9e79cfe662af437890d1ee4b7d88b12c",
       "tabbable": null,
       "tooltip": null,
       "value": "100%"
      }
     },
     "8c5b261211a14800b62163548d148508": {
      "model_module": "@jupyter-widgets/controls",
      "model_module_version": "2.0.0",
      "model_name": "HTMLStyleModel",
      "state": {
       "_model_module": "@jupyter-widgets/controls",
       "_model_module_version": "2.0.0",
       "_model_name": "HTMLStyleModel",
       "_view_count": null,
       "_view_module": "@jupyter-widgets/base",
       "_view_module_version": "2.0.0",
       "_view_name": "StyleView",
       "background": null,
       "description_width": "",
       "font_size": null,
       "text_color": null
      }
     },
     "99b44d1f0f3d42109629056da7783bfe": {
      "model_module": "@jupyter-widgets/controls",
      "model_module_version": "2.0.0",
      "model_name": "HTMLModel",
      "state": {
       "_dom_classes": [],
       "_model_module": "@jupyter-widgets/controls",
       "_model_module_version": "2.0.0",
       "_model_name": "HTMLModel",
       "_view_count": null,
       "_view_module": "@jupyter-widgets/controls",
       "_view_module_version": "2.0.0",
       "_view_name": "HTMLView",
       "description": "",
       "description_allow_html": false,
       "layout": "IPY_MODEL_2d0a0315a2424f8ea16b9818fb885f60",
       "placeholder": "​",
       "style": "IPY_MODEL_8c5b261211a14800b62163548d148508",
       "tabbable": null,
       "tooltip": null,
       "value": " 39/39 [01:28&lt;00:00,  1.16s/it]"
      }
     },
     "9e79cfe662af437890d1ee4b7d88b12c": {
      "model_module": "@jupyter-widgets/controls",
      "model_module_version": "2.0.0",
      "model_name": "HTMLStyleModel",
      "state": {
       "_model_module": "@jupyter-widgets/controls",
       "_model_module_version": "2.0.0",
       "_model_name": "HTMLStyleModel",
       "_view_count": null,
       "_view_module": "@jupyter-widgets/base",
       "_view_module_version": "2.0.0",
       "_view_name": "StyleView",
       "background": null,
       "description_width": "",
       "font_size": null,
       "text_color": null
      }
     },
     "c3b389824b034dafb283b2dd9eaa544a": {
      "model_module": "@jupyter-widgets/base",
      "model_module_version": "2.0.0",
      "model_name": "LayoutModel",
      "state": {
       "_model_module": "@jupyter-widgets/base",
       "_model_module_version": "2.0.0",
       "_model_name": "LayoutModel",
       "_view_count": null,
       "_view_module": "@jupyter-widgets/base",
       "_view_module_version": "2.0.0",
       "_view_name": "LayoutView",
       "align_content": null,
       "align_items": null,
       "align_self": null,
       "border_bottom": null,
       "border_left": null,
       "border_right": null,
       "border_top": null,
       "bottom": null,
       "display": null,
       "flex": null,
       "flex_flow": null,
       "grid_area": null,
       "grid_auto_columns": null,
       "grid_auto_flow": null,
       "grid_auto_rows": null,
       "grid_column": null,
       "grid_gap": null,
       "grid_row": null,
       "grid_template_areas": null,
       "grid_template_columns": null,
       "grid_template_rows": null,
       "height": null,
       "justify_content": null,
       "justify_items": null,
       "left": null,
       "margin": null,
       "max_height": null,
       "max_width": null,
       "min_height": null,
       "min_width": null,
       "object_fit": null,
       "object_position": null,
       "order": null,
       "overflow": null,
       "padding": null,
       "right": null,
       "top": null,
       "visibility": null,
       "width": null
      }
     },
     "d3e6e8cecf064d6eb6350990bdc8fed2": {
      "model_module": "@jupyter-widgets/base",
      "model_module_version": "2.0.0",
      "model_name": "LayoutModel",
      "state": {
       "_model_module": "@jupyter-widgets/base",
       "_model_module_version": "2.0.0",
       "_model_name": "LayoutModel",
       "_view_count": null,
       "_view_module": "@jupyter-widgets/base",
       "_view_module_version": "2.0.0",
       "_view_name": "LayoutView",
       "align_content": null,
       "align_items": null,
       "align_self": null,
       "border_bottom": null,
       "border_left": null,
       "border_right": null,
       "border_top": null,
       "bottom": null,
       "display": null,
       "flex": null,
       "flex_flow": null,
       "grid_area": null,
       "grid_auto_columns": null,
       "grid_auto_flow": null,
       "grid_auto_rows": null,
       "grid_column": null,
       "grid_gap": null,
       "grid_row": null,
       "grid_template_areas": null,
       "grid_template_columns": null,
       "grid_template_rows": null,
       "height": null,
       "justify_content": null,
       "justify_items": null,
       "left": null,
       "margin": null,
       "max_height": null,
       "max_width": null,
       "min_height": null,
       "min_width": null,
       "object_fit": null,
       "object_position": null,
       "order": null,
       "overflow": null,
       "padding": null,
       "right": null,
       "top": null,
       "visibility": null,
       "width": null
      }
     }
    },
    "version_major": 2,
    "version_minor": 0
   }
  }
 },
 "nbformat": 4,
 "nbformat_minor": 5
}