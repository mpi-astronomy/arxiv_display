{
 "cells": [
  {
   "cell_type": "markdown",
   "id": "92bcb855",
   "metadata": {
    "papermill": {
     "duration": 0.005825,
     "end_time": "2023-01-04T04:07:08.584022",
     "exception": false,
     "start_time": "2023-01-04T04:07:08.578197",
     "status": "completed"
    },
    "tags": []
   },
   "source": [
    "# MPIA Arxiv on Deck 2\n",
    "\n",
    "Contains the steps to produce the paper extractions."
   ]
  },
  {
   "cell_type": "code",
   "execution_count": 1,
   "id": "3a0d6e11",
   "metadata": {
    "execution": {
     "iopub.execute_input": "2023-01-04T04:07:08.597165Z",
     "iopub.status.busy": "2023-01-04T04:07:08.596165Z",
     "iopub.status.idle": "2023-01-04T04:07:08.831425Z",
     "shell.execute_reply": "2023-01-04T04:07:08.830404Z"
    },
    "papermill": {
     "duration": 0.244925,
     "end_time": "2023-01-04T04:07:08.834149",
     "exception": false,
     "start_time": "2023-01-04T04:07:08.589224",
     "status": "completed"
    },
    "tags": []
   },
   "outputs": [],
   "source": [
    "# Imports\n",
    "import os\n",
    "from IPython.display import Markdown, display\n",
    "from tqdm.notebook import tqdm\n",
    "import warnings\n",
    "from PIL import Image \n",
    "\n",
    "# requires arxiv_on_deck_2\n",
    "\n",
    "from arxiv_on_deck_2.arxiv2 import (get_new_papers, \n",
    "                                    get_paper_from_identifier,\n",
    "                                    retrieve_document_source, \n",
    "                                    get_markdown_badge)\n",
    "from arxiv_on_deck_2 import (latex, \n",
    "                             mpia,\n",
    "                             highlight_authors_in_list)\n",
    "\n",
    "# Sometimes images are really big\n",
    "Image.MAX_IMAGE_PIXELS = 1000000000 "
   ]
  },
  {
   "cell_type": "code",
   "execution_count": 2,
   "id": "22aa9d44",
   "metadata": {
    "execution": {
     "iopub.execute_input": "2023-01-04T04:07:08.847036Z",
     "iopub.status.busy": "2023-01-04T04:07:08.846235Z",
     "iopub.status.idle": "2023-01-04T04:07:08.852568Z",
     "shell.execute_reply": "2023-01-04T04:07:08.851778Z"
    },
    "papermill": {
     "duration": 0.015468,
     "end_time": "2023-01-04T04:07:08.854481",
     "exception": false,
     "start_time": "2023-01-04T04:07:08.839013",
     "status": "completed"
    },
    "tags": []
   },
   "outputs": [],
   "source": [
    "# Some useful definitions.\n",
    "\n",
    "class AffiliationWarning(UserWarning):\n",
    "    pass\n",
    "\n",
    "class AffiliationError(RuntimeError):\n",
    "    pass\n",
    "\n",
    "def validation(source: str):\n",
    "    \"\"\"Raises error paper during parsing of source file\n",
    "    \n",
    "    Allows checks before parsing TeX code.\n",
    "    \n",
    "    Raises AffiliationWarning\n",
    "    \"\"\"\n",
    "    check = mpia.affiliation_verifications(source, verbose=True)\n",
    "    if check is not True:\n",
    "        raise AffiliationError(\"mpia.affiliation_verifications: \" + check)\n",
    "\n",
    "        \n",
    "warnings.simplefilter('always', AffiliationWarning)"
   ]
  },
  {
   "cell_type": "code",
   "execution_count": 3,
   "id": "14622700",
   "metadata": {
    "execution": {
     "iopub.execute_input": "2023-01-04T04:07:08.864713Z",
     "iopub.status.busy": "2023-01-04T04:07:08.864164Z",
     "iopub.status.idle": "2023-01-04T04:07:08.868882Z",
     "shell.execute_reply": "2023-01-04T04:07:08.868014Z"
    },
    "papermill": {
     "duration": 0.013433,
     "end_time": "2023-01-04T04:07:08.872022",
     "exception": false,
     "start_time": "2023-01-04T04:07:08.858589",
     "status": "completed"
    },
    "tags": []
   },
   "outputs": [],
   "source": [
    "# additional CSS to consider. \n",
    "# TODO: Current into each exported file. \n",
    "#       This should be set once into the webpages directly.\n",
    "#       With only the class/id definitions in the .md files.\n",
    "\n",
    "debug_html = \"\"\"\n",
    "<style>\n",
    "#wrap{ overflow:auto; }\n",
    "#fig1{ background:yellow; width:100%; float:left; padding:5px;  }\n",
    "#fig2{ background:red; width:50%; float:left; clear:left; padding:5px;  }\n",
    "#fig3{ background:green; width:50%; float:left; padding:5px;   }\n",
    ".macros{ background:yellow; visibility:visible;}\n",
    "h1 {margin: 0 0 0 0;}\n",
    "mark {background-color:#fff3b6;}\n",
    "img {object-fit:contain; max-height:250px; display:inline-block; text-align: center;}\n",
    "</style>\n",
    "\"\"\" \n",
    "html = \"\"\"\n",
    "<style>\n",
    "#wrap{ overflow:auto; }\n",
    "#fig1{ width:100%; float:left; padding: 5px;  }\n",
    "#fig2{ width:50%; float:left; clear:left; padding: 5px;  }\n",
    "#fig3{ width:50%; float:left; padding: 5px;  }\n",
    ".macros{ visibility:hidden; height:0px; }\n",
    "h1 {margin: 0em 0 0 0;}\n",
    "mark {background-color:#fff3b6;}\n",
    "img {object-fit:contain; max-height:250px; display:inline-block; text-align: center;}\n",
    "</style>\n",
    "\"\"\""
   ]
  },
  {
   "cell_type": "markdown",
   "id": "14bd6310",
   "metadata": {
    "papermill": {
     "duration": 0.004546,
     "end_time": "2023-01-04T04:07:08.881047",
     "exception": false,
     "start_time": "2023-01-04T04:07:08.876501",
     "status": "completed"
    },
    "tags": []
   },
   "source": [
    "## get list of arxiv paper candidates\n",
    "\n",
    "We use the MPIA mitarbeiter list webpage from mpia.de to get author names\n",
    "We then get all new papers from Arxiv and match authors"
   ]
  },
  {
   "cell_type": "code",
   "execution_count": 4,
   "id": "2645e73a",
   "metadata": {
    "execution": {
     "iopub.execute_input": "2023-01-04T04:07:08.891994Z",
     "iopub.status.busy": "2023-01-04T04:07:08.891174Z",
     "iopub.status.idle": "2023-01-04T04:07:38.136315Z",
     "shell.execute_reply": "2023-01-04T04:07:38.135179Z"
    },
    "papermill": {
     "duration": 29.253127,
     "end_time": "2023-01-04T04:07:38.138547",
     "exception": false,
     "start_time": "2023-01-04T04:07:08.885420",
     "status": "completed"
    },
    "tags": []
   },
   "outputs": [
    {
     "name": "stdout",
     "output_type": "stream",
     "text": [
      "Arxiv has 36 new papers today\n",
      "          15 with possible author matches\n"
     ]
    }
   ],
   "source": [
    "# get list from MPIA website\n",
    "# it automatically filters identified non-scientists :func:`mpia.filter_non_scientists`\n",
    "mpia_authors = mpia.get_mpia_mitarbeiter_list()\n",
    "new_papers = get_new_papers()\n",
    "# add manual references\n",
    "add_paper_refs = []\n",
    "new_papers.extend([get_paper_from_identifier(k) for k in add_paper_refs])\n",
    "\n",
    "# select only papers with matching author names and highlight authors\n",
    "hl_list = [k[0] for k in mpia_authors]\n",
    "\n",
    "candidates = []\n",
    "for paperk in new_papers:\n",
    "    hl_authors = highlight_authors_in_list(paperk['authors'], hl_list)\n",
    "    matches = [(hl, orig) for hl, orig in zip(hl_authors, paperk['authors']) if 'mark' in hl]\n",
    "    paperk['authors'] = hl_authors\n",
    "    if matches:\n",
    "        candidates.append(paperk)\n",
    "print(\"\"\"Arxiv has {0:,d} new papers today\"\"\".format(len(new_papers)))        \n",
    "print(\"\"\"          {0:,d} with possible author matches\"\"\".format(len(candidates)))"
   ]
  },
  {
   "cell_type": "markdown",
   "id": "3543b34a",
   "metadata": {
    "papermill": {
     "duration": 0.005419,
     "end_time": "2023-01-04T04:07:38.149382",
     "exception": false,
     "start_time": "2023-01-04T04:07:38.143963",
     "status": "completed"
    },
    "tags": []
   },
   "source": [
    "# Parse sources and generate relevant outputs\n",
    "\n",
    "From the candidates, we do the following steps:\n",
    "* get their tarball from ArXiv (and extract data)\n",
    "* find the main .tex file: find one with \\documentclass{...} (sometimes it's non trivial)\n",
    "* Check affiliations with :func:`validation`, which uses :func:`mpia.affiliation_verifications`\n",
    "* If passing the affiliations: we parse the .tex source\n",
    "   * inject sub-documents into the main (flatten the main document)\n",
    "   * parse structure, extract information (title, abstract, authors, figures...)\n",
    "   * handles `\\graphicspath` if provided\n",
    "* Generate the .md document."
   ]
  },
  {
   "cell_type": "code",
   "execution_count": 5,
   "id": "9576b79e",
   "metadata": {
    "execution": {
     "iopub.execute_input": "2023-01-04T04:07:38.161277Z",
     "iopub.status.busy": "2023-01-04T04:07:38.160491Z",
     "iopub.status.idle": "2023-01-04T04:09:21.038387Z",
     "shell.execute_reply": "2023-01-04T04:09:21.037474Z"
    },
    "papermill": {
     "duration": 102.887158,
     "end_time": "2023-01-04T04:09:21.041128",
     "exception": false,
     "start_time": "2023-01-04T04:07:38.153970",
     "status": "completed"
    },
    "scrolled": false,
    "tags": []
   },
   "outputs": [
    {
     "data": {
      "application/vnd.jupyter.widget-view+json": {
       "model_id": "6c4bb88c0f9c4c1fb505ebdacd2eaa30",
       "version_major": 2,
       "version_minor": 0
      },
      "text/plain": [
       "  0%|          | 0/14 [00:00<?, ?it/s]"
      ]
     },
     "metadata": {},
     "output_type": "display_data"
    },
    {
     "name": "stdout",
     "output_type": "stream",
     "text": [
      "Retrieving document from  https://arxiv.org/e-print/2301.00814\n"
     ]
    },
    {
     "name": "stdout",
     "output_type": "stream",
     "text": [
      "extracting tarball to tmp_2301.00814..."
     ]
    },
    {
     "name": "stdout",
     "output_type": "stream",
     "text": [
      " done.\n",
      "Retrieving document from  https://arxiv.org/e-print/2301.00828\n"
     ]
    },
    {
     "name": "stdout",
     "output_type": "stream",
     "text": [
      "extracting tarball to tmp_2301.00828..."
     ]
    },
    {
     "name": "stdout",
     "output_type": "stream",
     "text": [
      " done.\n",
      "Retrieving document from  https://arxiv.org/e-print/2301.00830\n"
     ]
    },
    {
     "name": "stderr",
     "output_type": "stream",
     "text": [
      "/opt/hostedtoolcache/Python/3.9.16/x64/lib/python3.9/site-packages/IPython/core/interactiveshell.py:3442: LatexWarning: Multiple tex files.\n",
      "\n",
      "  exec(code_obj, self.user_global_ns, self.user_ns)\n",
      "/opt/hostedtoolcache/Python/3.9.16/x64/lib/python3.9/site-packages/IPython/core/interactiveshell.py:3442: LatexWarning: Found documentclass in tmp_2301.00828/J21.tex\n",
      "\n",
      "  exec(code_obj, self.user_global_ns, self.user_ns)\n"
     ]
    },
    {
     "name": "stdout",
     "output_type": "stream",
     "text": [
      "extracting tarball to tmp_2301.00830..."
     ]
    },
    {
     "name": "stdout",
     "output_type": "stream",
     "text": [
      " done.\n",
      "Retrieving document from  https://arxiv.org/e-print/2301.00852\n"
     ]
    },
    {
     "name": "stdout",
     "output_type": "stream",
     "text": [
      "extracting tarball to tmp_2301.00852..."
     ]
    },
    {
     "name": "stdout",
     "output_type": "stream",
     "text": [
      " done.\n",
      "Retrieving document from  https://arxiv.org/e-print/2301.00854\n"
     ]
    },
    {
     "name": "stdout",
     "output_type": "stream",
     "text": [
      "extracting tarball to tmp_2301.00854..."
     ]
    },
    {
     "name": "stdout",
     "output_type": "stream",
     "text": [
      " done.\n"
     ]
    },
    {
     "name": "stderr",
     "output_type": "stream",
     "text": [
      "/opt/hostedtoolcache/Python/3.9.16/x64/lib/python3.9/site-packages/IPython/core/interactiveshell.py:3442: LatexWarning: Multiple tex files.\n",
      "\n",
      "  exec(code_obj, self.user_global_ns, self.user_ns)\n",
      "/opt/hostedtoolcache/Python/3.9.16/x64/lib/python3.9/site-packages/IPython/core/interactiveshell.py:3442: LatexWarning: Found documentclass in tmp_2301.00854/pah33.tex\n",
      "\n",
      "  exec(code_obj, self.user_global_ns, self.user_ns)\n",
      "/opt/hostedtoolcache/Python/3.9.16/x64/lib/python3.9/site-packages/arxiv_on_deck_2/latex.py:292: LatexWarning: Latex injecting: 'authors' from 'tmp_2301.00854/authors.tex'\n",
      "  warnings.warn(LatexWarning(f\"Latex injecting: '{ext}' from '{subsource}'\"))\n",
      "/opt/hostedtoolcache/Python/3.9.16/x64/lib/python3.9/site-packages/arxiv_on_deck_2/latex.py:292: LatexWarning: Latex injecting: 'authors' from 'tmp_2301.00854/PHANGS-JWST_ The First 3.3 PAH Map/authors.tex'\n",
      "  warnings.warn(LatexWarning(f\"Latex injecting: '{ext}' from '{subsource}'\"))\n"
     ]
    },
    {
     "name": "stdout",
     "output_type": "stream",
     "text": [
      "Retrieving document from  https://arxiv.org/e-print/2301.00881\n"
     ]
    },
    {
     "name": "stdout",
     "output_type": "stream",
     "text": [
      "extracting tarball to tmp_2301.00881..."
     ]
    },
    {
     "name": "stdout",
     "output_type": "stream",
     "text": [
      " done.\n"
     ]
    },
    {
     "name": "stderr",
     "output_type": "stream",
     "text": [
      "/opt/hostedtoolcache/Python/3.9.16/x64/lib/python3.9/site-packages/IPython/core/interactiveshell.py:3442: LatexWarning: Multiple tex files.\n",
      "\n",
      "  exec(code_obj, self.user_global_ns, self.user_ns)\n",
      "/opt/hostedtoolcache/Python/3.9.16/x64/lib/python3.9/site-packages/IPython/core/interactiveshell.py:3442: LatexWarning: Found documentclass in tmp_2301.00881/dustfilament_main_aas.tex\n",
      "\n",
      "  exec(code_obj, self.user_global_ns, self.user_ns)\n",
      "/opt/hostedtoolcache/Python/3.9.16/x64/lib/python3.9/site-packages/arxiv_on_deck_2/latex.py:292: LatexWarning: Latex injecting: 'tex/dustfilament_appendix' from 'tmp_2301.00881/tex/dustfilament_appendix.tex'\n",
      "  warnings.warn(LatexWarning(f\"Latex injecting: '{ext}' from '{subsource}'\"))\n",
      "/opt/hostedtoolcache/Python/3.9.16/x64/lib/python3.9/site-packages/arxiv_on_deck_2/latex.py:292: LatexWarning: Latex injecting: 'tex/dustfilament_body' from 'tmp_2301.00881/tex/dustfilament_body.tex'\n",
      "  warnings.warn(LatexWarning(f\"Latex injecting: '{ext}' from '{subsource}'\"))\n",
      "/opt/hostedtoolcache/Python/3.9.16/x64/lib/python3.9/site-packages/arxiv_on_deck_2/latex.py:292: LatexWarning: Latex injecting: 'phangs_affils' from 'tmp_2301.00881/phangs_affils.tex'\n",
      "  warnings.warn(LatexWarning(f\"Latex injecting: '{ext}' from '{subsource}'\"))\n"
     ]
    },
    {
     "name": "stdout",
     "output_type": "stream",
     "text": [
      "Retrieving document from  https://arxiv.org/e-print/2301.00925\n"
     ]
    },
    {
     "name": "stdout",
     "output_type": "stream",
     "text": [
      "extracting tarball to tmp_2301.00925..."
     ]
    },
    {
     "name": "stdout",
     "output_type": "stream",
     "text": [
      " done.\n",
      "Retrieving document from  https://arxiv.org/e-print/2301.00937\n"
     ]
    },
    {
     "name": "stdout",
     "output_type": "stream",
     "text": [
      "extracting tarball to tmp_2301.00937..."
     ]
    },
    {
     "name": "stdout",
     "output_type": "stream",
     "text": [
      " done.\n",
      "Retrieving document from  https://arxiv.org/e-print/2301.01000\n"
     ]
    },
    {
     "name": "stdout",
     "output_type": "stream",
     "text": [
      "extracting tarball to tmp_2301.01000..."
     ]
    },
    {
     "name": "stdout",
     "output_type": "stream",
     "text": [
      " done.\n",
      "Retrieving document from  https://arxiv.org/e-print/2301.01003\n"
     ]
    },
    {
     "name": "stdout",
     "output_type": "stream",
     "text": [
      "extracting tarball to tmp_2301.01003..."
     ]
    },
    {
     "name": "stdout",
     "output_type": "stream",
     "text": [
      " done.\n",
      "Retrieving document from  https://arxiv.org/e-print/2301.01025\n"
     ]
    },
    {
     "name": "stdout",
     "output_type": "stream",
     "text": [
      "extracting tarball to tmp_2301.01025..."
     ]
    },
    {
     "name": "stdout",
     "output_type": "stream",
     "text": [
      " done.\n",
      "Retrieving document from  https://arxiv.org/e-print/2301.01065\n"
     ]
    },
    {
     "name": "stdout",
     "output_type": "stream",
     "text": [
      "extracting tarball to tmp_2301.01065..."
     ]
    },
    {
     "name": "stdout",
     "output_type": "stream",
     "text": [
      " done.\n",
      "Retrieving document from  https://arxiv.org/e-print/2301.01093\n"
     ]
    },
    {
     "name": "stdout",
     "output_type": "stream",
     "text": [
      "extracting tarball to tmp_2301.01093..."
     ]
    },
    {
     "name": "stdout",
     "output_type": "stream",
     "text": [
      " done.\n",
      "Retrieving document from  https://arxiv.org/e-print/2301.01176\n"
     ]
    },
    {
     "name": "stdout",
     "output_type": "stream",
     "text": [
      "extracting tarball to tmp_2301.01176..."
     ]
    },
    {
     "name": "stdout",
     "output_type": "stream",
     "text": [
      " done.\n"
     ]
    }
   ],
   "source": [
    "documents = []\n",
    "failed = []\n",
    "for paper in tqdm(candidates[:-1]):\n",
    "    paper_id = paper['identifier'].lower().replace('arxiv:', '')\n",
    "    \n",
    "    folder = f'tmp_{paper_id}'\n",
    "\n",
    "    try:\n",
    "        if not os.path.isdir(folder):\n",
    "            folder = retrieve_document_source(f\"{paper_id}\", f'tmp_{paper_id}')\n",
    "        \n",
    "        try:\n",
    "            doc = latex.LatexDocument(folder, validation=validation)    \n",
    "        except AffiliationError as affilerror:\n",
    "            msg = f\"ArXiv:{paper_id:s} is not an MPIA paper... \" + str(affilerror)\n",
    "            failed.append((paper, \"affiliation error: \" + str(affilerror) ))\n",
    "            continue\n",
    "        \n",
    "        # Hack because sometimes author parsing does not work well\n",
    "        if (len(doc.authors) != len(paper['authors'])):\n",
    "            doc._authors = paper['authors']\n",
    "        if (doc.abstract) in (None, ''):\n",
    "            doc._abstract = paper['abstract']\n",
    "            \n",
    "        doc.comment = (get_markdown_badge(paper_id) + \n",
    "                       \"<mark>Appeared on: \" + paper['date'] + \"</mark> - \" +\n",
    "                       \"_\" + paper['comments'] + \"_\")\n",
    "        doc.highlight_authors_in_list(hl_list)\n",
    "\n",
    "        full_md = doc.generate_markdown_text()\n",
    "        \n",
    "        documents.append((paper_id, full_md))\n",
    "    except Exception as e:\n",
    "        warnings.warn(latex.LatexWarning(f\"{paper_id:s} did not run properly\\n\" +\n",
    "                                         str(e)\n",
    "                                        ))\n",
    "        failed.append((paper, \"latex error \" + str(e)))"
   ]
  },
  {
   "cell_type": "markdown",
   "id": "2505a25c",
   "metadata": {
    "papermill": {
     "duration": 0.007504,
     "end_time": "2023-01-04T04:09:21.056262",
     "exception": false,
     "start_time": "2023-01-04T04:09:21.048758",
     "status": "completed"
    },
    "tags": []
   },
   "source": [
    "### Export the logs\n",
    "\n",
    "Throughout, we also keep track of the logs per paper. see `logs-{today date}.md` "
   ]
  },
  {
   "cell_type": "code",
   "execution_count": 6,
   "id": "d733828a",
   "metadata": {
    "execution": {
     "iopub.execute_input": "2023-01-04T04:09:21.073425Z",
     "iopub.status.busy": "2023-01-04T04:09:21.072755Z",
     "iopub.status.idle": "2023-01-04T04:09:21.109924Z",
     "shell.execute_reply": "2023-01-04T04:09:21.108974Z"
    },
    "papermill": {
     "duration": 0.052467,
     "end_time": "2023-01-04T04:09:21.115914",
     "exception": false,
     "start_time": "2023-01-04T04:09:21.063447",
     "status": "completed"
    },
    "scrolled": false,
    "tags": []
   },
   "outputs": [
    {
     "data": {
      "text/markdown": [
       "## Successful papers"
      ],
      "text/plain": [
       "<IPython.core.display.Markdown object>"
      ]
     },
     "metadata": {},
     "output_type": "display_data"
    },
    {
     "data": {
      "text/markdown": [
       "\n",
       "|||\n",
       "|---:|:---|\n",
       "| [![arXiv](https://img.shields.io/badge/arXiv-arXiv:2301.00854-b31b1b.svg)](https://arxiv.org/abs/arXiv:2301.00854) | **PHANGS-JWST First Results: Mapping the 3.3 micron Polycyclic Aromatic  Hydrocarbon Vibrational Band in Nearby Galaxies with NIRCam Medium Bands**  |\n",
       "|| Karin Sandstrom, et al. -- incl., <mark>Janice C. Lee</mark>, <mark>Eva Schinnerer</mark>, <mark>Annie Hughes</mark>, <mark>Daizhong Liu</mark> |\n",
       "|*Appeared on*| *2023-01-04*|\n",
       "|*Comments*| *submitted to AAS journals and revised according to referee comments, part of a PHANGS-JWST Focus Issue to appear in ApJ*|\n",
       "|**Abstract**| We present maps of the 3.3 micron polycyclic aromatic hydrocarbon (PAH) emission feature in NGC 628, NGC 1365, and NGC 7496 as observed with the Near-Infrared Camera (NIRCam) imager on JWST from the PHANGS-JWST Cycle 1 Treasury project. We create maps that isolate the 3.3 micron PAH feature in the F335M filter (F335M$_{\\rm PAH}$) using combinations of the F300M and F360M filters for removal of starlight continuum. This continuum removal is complicated by contamination of the F360M by PAH emission and variations in the stellar spectral energy distribution slopes between 3.0 and 3.6 micron. We modify the empirical prescription from Lai et al. (2020) to remove the starlight continuum in our highly resolved galaxies, which have a range of starlight- and PAH-dominated lines-of-sight. Analyzing radially binned profiles of the F335M$_{\\rm PAH}$ emission, we find that between 5-65% of the F335M intensity comes from the 3.3 micron feature within the inner 0.5 $r_{25}$ of our targets. This percentage systematically varies from galaxy to galaxy, and shows radial trends within the galaxies related to each galaxy's distribution of stellar mass, interstellar medium, and star formation. The 3.3 micron emission is well correlated with the 11.3 micron PAH feature traced with the MIRI F1130W filter, as is expected, since both features arise from C-H vibrational modes. The average F335M$_{\\rm PAH}$/F1130W ratio agrees with the predictions of recent models by Draine et al. (2021) for PAHs with size and charge distributions shifted towards larger grains with normal or higher ionization. |"
      ],
      "text/plain": [
       "[arXiv:2301.00854] PHANGS-JWST First Results: Mapping the 3.3 micron Polycyclic Aromatic  Hydrocarbon Vibrational Band in Nearby Galaxies with NIRCam Medium Bands\n",
       "\tKarin Sandstrom, et al. -- incl., <mark>Janice C. Lee</mark>, <mark>Eva Schinnerer</mark>, <mark>Annie Hughes</mark>, <mark>Daizhong Liu</mark>"
      ]
     },
     "metadata": {},
     "output_type": "display_data"
    },
    {
     "data": {
      "text/markdown": [
       "\n",
       "|||\n",
       "|---:|:---|\n",
       "| [![arXiv](https://img.shields.io/badge/arXiv-arXiv:2301.00881-b31b1b.svg)](https://arxiv.org/abs/arXiv:2301.00881) | **PHANGS-JWST First Results: The Dust Filament Network of NGC 628 and its  Relation to Star Formation Activity**  |\n",
       "|| David A. Thilker, et al. -- incl., <mark>Janice C. Lee</mark>, <mark>Frank Bigiel</mark>, <mark>Jonathan D. Henshaw</mark>, <mark>Francesca Pinna</mark>, <mark>Eva Schinnerer</mark>, <mark>Rowan J. Smith</mark>, <mark>Kathryn Kreckel</mark>, <mark>Daizhong Liu</mark> |\n",
       "|*Appeared on*| *2023-01-04*|\n",
       "|*Comments*| *21 pages, 14 figures, accepted for publication as part of PHANGS-JWST ApJL Focus Issue*|\n",
       "|**Abstract**| PHANGS-JWST mid-infrared (MIR) imaging of nearby spiral galaxies has revealed ubiquitous filaments of dust emission in intricate detail. We present a pilot study to systematically map the dust filament network (DFN) at multiple scales between 25-400 pc in NGC 628. MIRI images at 7.7, 10, 11.3 and 21$\\mu$m of NGC 628 are used to generate maps of the filaments in emission, while PHANGS-HST B-band imaging yields maps of dust attenuation features. We quantify the correspondence between filaments traced by MIR thermal continuum / polycyclic aromatic hydrocarbon (PAH) emission and filaments detected via extinction / scattering of visible light; the fraction of MIR flux contained in the DFN; and the fraction of HII regions, young star clusters and associations within the DFN. We examine the dependence of these quantities with the physical scale at which the DFN is extracted. With our highest resolution DFN maps (25 pc filament width), we find that filaments in emission and attenuation are co-spatial in 40% of sight lines, often exhibiting detailed morphological agreement; that ~30% of the MIR flux is associated with the DFN; and that 75-80% of HII regions and 60% of star clusters younger than 5 Myr are contained within the DFN. However, the DFN at this scale is anti-correlated with looser associations of stars younger than 5 Myr identified using PHANGS-HST near-UV imaging. We discuss the impact of these findings for studies of star formation and the ISM, and the broad range of new investigations enabled with multi-scale maps of the DFN. |"
      ],
      "text/plain": [
       "[arXiv:2301.00881] PHANGS-JWST First Results: The Dust Filament Network of NGC 628 and its  Relation to Star Formation Activity\n",
       "\tDavid A. Thilker, et al. -- incl., <mark>Janice C. Lee</mark>, <mark>Frank Bigiel</mark>, <mark>Jonathan D. Henshaw</mark>, <mark>Francesca Pinna</mark>, <mark>Eva Schinnerer</mark>, <mark>Rowan J. Smith</mark>, <mark>Kathryn Kreckel</mark>, <mark>Daizhong Liu</mark>"
      ]
     },
     "metadata": {},
     "output_type": "display_data"
    },
    {
     "data": {
      "text/markdown": [
       "## Failed papers"
      ],
      "text/plain": [
       "<IPython.core.display.Markdown object>"
      ]
     },
     "metadata": {},
     "output_type": "display_data"
    },
    {
     "data": {
      "text/markdown": [
       "\n",
       "|||\n",
       "|---:|:---|\n",
       "| [![arXiv](https://img.shields.io/badge/arXiv-arXiv:2301.00828-b31b1b.svg)](https://arxiv.org/abs/arXiv:2301.00828) | **From dark matter halos to pre-stellar cores: High resolution follow-up  of cosmological Lyman-Werner simulations**  |\n",
       "|| <mark>Lewis R. Prole</mark>, et al. |\n",
       "|*Appeared on*| *2023-01-04*|\n",
       "|*Comments*| *Submitted to MNRAS ID: MN-22-5075-MJ*|\n",
       "|**Abstract**| Molecular hydrogen allows cooling in primordial gas, facilitating its collapse into Population III stars within primordial halos. Lyman-Werner (LW) radiation from these stars can escape the halo and delay further star formation by destroying H$_2$ in other halos. As cosmological simulations show that increasing the background LW field strength increases the average halo mass required for star formation, we perform follow-up simulations of selected halos to investigate the knock-on effects this has on the Population III IMF. We follow 5 halos for each of the $J_{21}$ = 0, 0.01 and 0.1 LW field strengths, resolving the pre-stellar core density of $10^{-6}$ g cm$^{-3}$ (10$^{18}$ cm$^{-3}$) before inserting sink particles and following the fragmentation behaviour for hundreds of years further. We find that the mass accreted onto sinks by the end of the simulations is proportional to the mass within the $\\sim 10^{-2}$ pc molecular core, which is not correlated to the initial mass of the halo. As such, the IMF shows little dependence on the LW strength. As the range of background LW field strengths tested here covers the most likely values from literature, we conclude that the IMF for so-called Pop III.2 stars is not significantly different from the initial population of Pop III.1 stars. The primordial IMF therefore likely remains unchanged until the formation of the next generation of Population II stars. |\n",
       "|<p style=\"color:green\"> **ERROR** </p>| <p style=\"color:green\">affiliation error: mpia.affiliation_verifications: '69117' keyword not found.</p> |"
      ],
      "text/plain": [
       "<IPython.core.display.Markdown object>"
      ]
     },
     "metadata": {},
     "output_type": "display_data"
    },
    {
     "data": {
      "text/markdown": [
       "\n",
       "|||\n",
       "|---:|:---|\n",
       "| [![arXiv](https://img.shields.io/badge/arXiv-arXiv:2301.01176-b31b1b.svg)](https://arxiv.org/abs/arXiv:2301.01176) | **GRB minimum variability timescale with Insight-HXMT and Swift:  implications for progenitor models, dissipation physics and GRB  classifications**  |\n",
       "|| A.E. Camisasca, et al. -- incl., <mark>S.N. Zhang</mark>, <mark>C.K. Li</mark>, <mark>X.B. Li</mark>, <mark>S. Zhang</mark> |\n",
       "|*Appeared on*| *2023-01-04*|\n",
       "|*Comments*| *18 pages, 15 figures, accepted by A&A*|\n",
       "|**Abstract**| The dissipation process of GRB prompt emission is still unknown. Study of temporal variability may provide a unique way to discriminate the imprint of the inner engine activity from geometry and propagation related effects. We define the minimum variability timescale (MVT) as the shortest duration of individual pulses that shape a light curve for a sample of GRBs and test correlations with peak luminosity, Lorentz factor, and jet opening angle. We compare these correlations with predictions from recent numerical simulations for a relativistic structured -- possibly wobbling -- jet and assess the value of MTV as probe of prompt-emission physics. We used the peak detection algorithm mepsa to identify the shortest pulse within a GRB time history and estimate its full width half maximum (FWHM). We applied this framework to two sets of GRBs: Swift (from 2005 to July 2022) and Insight-HXMT (from June 2017 to July 2021, including 221009A). We then selected 401 GRBs with measured z to test for correlations. On average short GRBs have significantly shorter MVT than long GRBs. The MVT distribution of short GRBs with extended emission such as 060614 and 211211A is compatible only with that of short GRBs. This provides a new clue on the progenitor's nature. The MVT for long GRBs anticorrelates with peak luminosity. We confirm the anticorrelation with the Lorentz factor and find a correlation with the jet opening angle as estimated from the afterglow, along with an inverse correlation with the number of pulses. The MVT can identify the emerging putative new class of long GRBs that are suggested to be produced by compact binary mergers. For otherwise typical long GRBs, the different correlations between MVT and peak luminosity, Lorentz factor, jet opening angle, and number of pulses can be explained within the context of structured, possibly wobbling, weakly magnetised relativistic jets. (summarised) |\n",
       "|<p style=\"color:green\"> **ERROR** </p>| <p style=\"color:green\">affiliation error: mpia.affiliation_verifications: '69117' keyword not found.</p> |"
      ],
      "text/plain": [
       "<IPython.core.display.Markdown object>"
      ]
     },
     "metadata": {},
     "output_type": "display_data"
    },
    {
     "data": {
      "text/markdown": [
       "\n",
       "|||\n",
       "|---:|:---|\n",
       "| [![arXiv](https://img.shields.io/badge/arXiv-arXiv:2301.00814-b31b1b.svg)](https://arxiv.org/abs/arXiv:2301.00814) | **On second-order combinatorial algebraic time-delay interferometry**  |\n",
       "|| <mark>Wei-Liang Qian</mark>, et al. -- incl., <mark>Zhang-Qi Wu</mark> |\n",
       "|*Appeared on*| *2023-01-04*|\n",
       "|*Comments*| *21 pages, 3 figures*|\n",
       "|**Abstract**| Inspired by the combinatorial algebraic approach proposed by Dhurandhar et al., we propose two novel classes of second-generation time-delay interferometry (TDI) solution as well as their further generalization. The primary strategy of the algorithm is to enumerate specific types of residual laser frequency noise associated with second-order commutators in products of time-displacement operators. The derivations are based on analyzing the delay time residual when expanded in time derivatives of the armlengths order by order. It is observed that the solutions obtained by such a scheme are primarily captured by the geometric TDI approach and therefore possess an intuitive interpretation. Nonetheless, the fully-symmetric Sagnac and Sagnac-inspired combinations inherit the properties from the original algebraic approach, and subsequently lie outside of the scope of geometric TDI. Moreover, at its lowest order, the solution is furnished by commutator of rather compact form. Besides the original Michelson-type solution, we elaborate on other types of solutions such as the Monitor, Beacon, Relay, Sagnac, fully-symmetric Sagnac, and Sagnac-inspired ones. The average response functions, residual noise power spectral density, and sensitivity curves are evaluated for the obtained solutions. Also, the relations between the present scheme and other existing algorithms are discussed. |\n",
       "|<p style=\"color:green\"> **ERROR** </p>| <p style=\"color:green\">affiliation error: mpia.affiliation_verifications: 'Heidelberg' keyword not found.</p> |"
      ],
      "text/plain": [
       "<IPython.core.display.Markdown object>"
      ]
     },
     "metadata": {},
     "output_type": "display_data"
    },
    {
     "data": {
      "text/markdown": [
       "\n",
       "|||\n",
       "|---:|:---|\n",
       "| [![arXiv](https://img.shields.io/badge/arXiv-arXiv:2301.00830-b31b1b.svg)](https://arxiv.org/abs/arXiv:2301.00830) | **Evidence for AGN-Regulated Cooling in Clusters at $z \\sim 1.4$: A  Multi-Wavelength View of SPT-CL J0607-4448**  |\n",
       "|| Megan Masterson, et al. -- incl., <mark>Lindsey E. Bleem</mark> |\n",
       "|*Appeared on*| *2023-01-04*|\n",
       "|*Comments*| *13 pages, 5 figures, accepted for publication in ApJ*|\n",
       "|**Abstract**| We present a multi-wavelength analysis of the galaxy cluster SPT-CL J0607-4448 (SPT0607), which is one of the most distant clusters discovered by the South Pole Telescope (SPT) at $z=1.4010\\pm0.0028$. The high-redshift cluster shows clear signs of being relaxed with well-regulated feedback from the active galactic nucleus (AGN) in the brightest cluster galaxy (BCG). Using Chandra X-ray data, we construct thermodynamic profiles and determine the properties of the intracluster medium. The cool core nature of the cluster is supported by a centrally-peaked density profile and low central entropy ($K_0=18_{-9}^{+11}$ keV cm$^2$), which we estimate assuming an isothermal temperature profile due to the limited spectral information given the distance to the cluster. Using the density profile and gas cooling time inferred from the X-ray data, we find a mass cooling rate of $\\dot{M}_\\mathrm{cool}=100_{-60}^{+90}~M_\\odot$ yr$^{-1}$. From optical spectroscopy and photometry around the [O II] emission line, we estimate that the BCG star formation rate is SFR$_\\mathrm{[O~II]}=1.7_{-0.6}^{+1.0}~M_\\odot$ yr$^{-1}$, roughly two orders of magnitude lower than the predicted mass cooling rate. In addition, using ATCA radio data at 2.1 GHz, we measure a radio jet power of $P_\\mathrm{cav}=3.2_{-1.3}^{+2.1}\\times10^{44}$ erg s$^{-1}$, which is consistent with the X-ray cooling luminosity ($L_\\mathrm{cool}=1.9_{-0.5}^{+0.2}\\times10^{44}$ erg s$^{-1}$ within $r_\\mathrm{cool}=43$ kpc). These findings suggest that SPT0607 is a relaxed, cool core cluster with AGN-regulated cooling at an epoch shortly after cluster formation, implying that the balance between cooling and feedback can be reached quickly. We discuss implications for these findings on the evolution of AGN feedback in galaxy clusters. |\n",
       "|<p style=\"color:green\"> **ERROR** </p>| <p style=\"color:green\">affiliation error: mpia.affiliation_verifications: 'Heidelberg' keyword not found.</p> |"
      ],
      "text/plain": [
       "<IPython.core.display.Markdown object>"
      ]
     },
     "metadata": {},
     "output_type": "display_data"
    },
    {
     "data": {
      "text/markdown": [
       "\n",
       "|||\n",
       "|---:|:---|\n",
       "| [![arXiv](https://img.shields.io/badge/arXiv-arXiv:2301.00852-b31b1b.svg)](https://arxiv.org/abs/arXiv:2301.00852) | **Proton and electron temperatures in the solar wind and their  correlations with the solar wind speed**  |\n",
       "|| Chen Shi, et al. -- incl., <mark>Roberto Lionello</mark> |\n",
       "|*Appeared on*| *2023-01-04*|\n",
       "|*Comments*| **|\n",
       "|**Abstract**| The heating and acceleration of the solar wind remains one of the fundamental unsolved problems in heliophysics. It is usually observed that the proton temperature $T_i$ is highly correlated with the solar wind speed $V_{SW}$, while the electron temperature $T_e$ shows anti-correlation or no clear correlation with the solar wind speed. Here we inspect both Parker Solar Probe (PSP) and WIND data and compare the observations with simulation results. PSP observations below 30 solar radii clearly show a positive correlation between proton temperature and wind speed and a negative correlation between electron temperature and wind speed. One year (2019) of WIND data confirm that proton temperature is positively correlated with solar wind speed, but the electron temperature increases with the solar wind speed for slow wind while it decreases with the solar wind speed for fast wind. Using a one-dimensional Alfv\\'en-wave-driven solar wind model with different proton and electron temperatures, we for the first time find that if most of the dissipated Alfv\\'en wave energy heats the ions instead of electrons, a positive $T_i-V_{SW}$ correlation and a negative $T_e-V_{SW}$ correlation arise naturally. If the electrons gain a small but finite portion of the dissipated wave energy, the $T_e-V_{SW}$ correlation evolves with radial distance to the Sun such that the negative correlation gradually turns positive. The model results show that Alfv\\'en waves are one of the possible explanations of the observed evolution of proton and electron temperatures in the solar wind. |\n",
       "|<p style=\"color:green\"> **ERROR** </p>| <p style=\"color:green\">affiliation error: mpia.affiliation_verifications: 'Heidelberg' keyword not found.</p> |"
      ],
      "text/plain": [
       "<IPython.core.display.Markdown object>"
      ]
     },
     "metadata": {},
     "output_type": "display_data"
    },
    {
     "data": {
      "text/markdown": [
       "\n",
       "|||\n",
       "|---:|:---|\n",
       "| [![arXiv](https://img.shields.io/badge/arXiv-arXiv:2301.00925-b31b1b.svg)](https://arxiv.org/abs/arXiv:2301.00925) | **GRB 200829A: External Shock Origin of the Very Early Prompt Emission?**  |\n",
       "|| <mark>Jing Li</mark>, et al. -- incl., <mark>Da-Bin Lin</mark>, <mark>Wen-Qiang Liang</mark>, <mark>Zhi-Lin Chen</mark>, <mark>Xiao-Yan Li</mark>, <mark>En-Wei Liang</mark> |\n",
       "|*Appeared on*| *2023-01-04*|\n",
       "|*Comments*| *Accepted for publication in Astrophysical Journal*|\n",
       "|**Abstract**| Long-duration GRB~200829A was detected by Fermi-GBM and Swift-BAT/XRT, and then rapidly observed by other ground-based telescopes. It has a weak $\\gamma$-ray emission in the very early phase and followed by a bright spiky $\\gamma$-ray emission pulse. The radiation spectrum of the very early emission is best fitted by a power-law function with index $\\sim -1.7$. However, the bright spiky $\\gamma$-ray pulse, especially the time around the peak, exhibits a distinct two-component radiation spectra, i.e., Band function combined with a blackbody radiation spectrum. We infer the photospheric properties and reveal a medium magnetization at photospheric position by adopting the initial size of the outflow as $r_0=10^9$~cm. It implies that Band component in this pulse may be formed during the dissipation of magnetic field. The power-law radiation spectra found in the very early prompt emission may imply the external-shock origination of this phase. Then, we perform Markov Chain Monte Carlo method fitting on the light-curves of this burst, where the jet corresponding to the $\\gamma$-ray pulses at around $20$~s is used to refresh the external-shock. It is shown that the light-curves of very early phase and X-ray afterglow after $40$~s, involving the X-ray bump at around $100$~s, can be well modelled in the external-shock scenario. For the obtained initial outflow, we estimate the minimum magnetization factor of the jet based on the fact that the photospheric emission of this jet is missed in the very early phase. |\n",
       "|<p style=\"color:green\"> **ERROR** </p>| <p style=\"color:green\">affiliation error: mpia.affiliation_verifications: 'Heidelberg' keyword not found.</p> |"
      ],
      "text/plain": [
       "<IPython.core.display.Markdown object>"
      ]
     },
     "metadata": {},
     "output_type": "display_data"
    },
    {
     "data": {
      "text/markdown": [
       "\n",
       "|||\n",
       "|---:|:---|\n",
       "| [![arXiv](https://img.shields.io/badge/arXiv-arXiv:2301.00937-b31b1b.svg)](https://arxiv.org/abs/arXiv:2301.00937) | **FEASTS: IGM cooling triggered by tidal interactions through the diffuse  HI phase around NGC 4631**  |\n",
       "|| Jing Wang, et al. -- incl., <mark>Se-Heon Oh</mark>, <mark>Lister Staveley-Smith</mark>, <mark>Kelley M. Hess</mark>, <mark>Ligang Hou</mark>, <mark>Fujia Li</mark>, <mark>Xuchen Lin</mark>, <mark>Ziming Liu</mark>, <mark>Li Shao</mark> |\n",
       "|*Appeared on*| *2023-01-04*|\n",
       "|*Comments*| *35 pages, 24 figures. Accepted for publication at ApJ. FEASTS site: this http URL*|\n",
       "|**Abstract**| We use the single-dish radio telescope FAST to map the HI in the tidally interacting NGC 4631 group with a resolution of 3.24$'$ (7 kpc), reaching a 5-$\\sigma$ column density limit of $10^{17.9}$ cm$^{-2}$ assuming a line width of 20 km s$^{-1}$. Taking the existing interferometric HI image from the HALOGAS project of WSRT as reference, we are able to identify and characterize a significant excess of large-scale, low-density, and diffuse HI in the group. This diffuse HI extends for more than 120 kpc across, and accounts for more than one fourth of the total HI detected by FAST in and around the galaxy NGC 4631. In the region of the tidal tails, the diffuse HI has a typical column density above $10^{19.5}$ cm$^{-2}$, and is highly turbulent with a velocity dispersion around 50 km s$^{-1}$. It increases in column density with the dense HI, and tends to be associated with the kinematically ``hotter'' part of the dense HI. Through simple modeling, we find that the majority of the diffuse HI in the tail region is likely to induce cooling out of the hot IGM instead of evaporating or being radiatively ionized. Given these relations of gas in different phases, the diffuse HI may represent a condensing phase of the IGM. Active tidal interactions on-going and in the past may have produced the wide-spreading HI distribution, and triggered the gas accretion to NGC 4631 through the phase of the diffuse HI. |\n",
       "|<p style=\"color:green\"> **ERROR** </p>| <p style=\"color:green\">affiliation error: mpia.affiliation_verifications: 'Heidelberg' keyword not found.</p> |"
      ],
      "text/plain": [
       "<IPython.core.display.Markdown object>"
      ]
     },
     "metadata": {},
     "output_type": "display_data"
    },
    {
     "data": {
      "text/markdown": [
       "\n",
       "|||\n",
       "|---:|:---|\n",
       "| [![arXiv](https://img.shields.io/badge/arXiv-arXiv:2301.01000-b31b1b.svg)](https://arxiv.org/abs/arXiv:2301.01000) | **Deep Synoptic Array science: a 50 Mpc fast radio burst constrains the  mass of the Milky Way circumgalactic medium**  |\n",
       "|| Vikram Ravi, et al. -- incl., <mark>Liam Connor</mark>, <mark>Greg Hellbourg</mark>, <mark>Kritti Sharma</mark> |\n",
       "|*Appeared on*| *2023-01-04*|\n",
       "|*Comments*| *17 pages, 8 figures, 3 tables, submitted to AAS Journals*|\n",
       "|**Abstract**| We present the Deep Synoptic Array (DSA-110) discovery and interferometric localization of the so far non-repeating FRB 20220319D. The FRB originates in a young, rapidly star-forming barred spiral galaxy, IRAS 02044$+$7048, at just 50 Mpc. Although the NE2001 and YMW16 models for the Galactic interstellar-medium (ISM) contribution to the DM of FRB 20220319D exceed its total observed DM, we show that uncertainties in these models accommodate an extragalactic origin for the burst. We derive a conservative upper limit on the DM contributed by the circumgalactic medium (CGM) of the Milky Way: the limit is either 28.7 pc cm$^{-3}$ and 47.3 pc cm$^{-3}$, depending on which of two pulsars nearby on the sky to FRB 20220319D is used to estimate the ISM DM. These limits both imply that the total Galactic CGM mass is $<10^{11}M_{\\odot}$, and that the baryonic mass of the Milky Way is $\\lesssim60\\%$ of the cosmological average given the total halo mass. More stringent albeit less conservative constraints are possible when the DMs of pulsars in the distant globular cluster M53 are additionally considered. Although our constraints are sensitive to possible anisotropy in the CGM and to the assumed form of the radial-density profile, they are not subject to uncertainties in the chemical and thermal properties of the CGM. Our results strongly support scenarios commonly predicted by galaxy-formation simulations wherein feedback processes expel baryonic matter from the halos of galaxies like the Milky Way. |\n",
       "|<p style=\"color:green\"> **ERROR** </p>| <p style=\"color:green\">affiliation error: mpia.affiliation_verifications: 'Heidelberg' keyword not found.</p> |"
      ],
      "text/plain": [
       "<IPython.core.display.Markdown object>"
      ]
     },
     "metadata": {},
     "output_type": "display_data"
    },
    {
     "data": {
      "text/markdown": [
       "\n",
       "|||\n",
       "|---:|:---|\n",
       "| [![arXiv](https://img.shields.io/badge/arXiv-arXiv:2301.01003-b31b1b.svg)](https://arxiv.org/abs/arXiv:2301.01003) | **Polarised radio pulsations from a new T dwarf binary**  |\n",
       "|| H. K. Vedantham, et al. -- incl., <mark>M. C. Liu</mark> |\n",
       "|*Appeared on*| *2023-01-04*|\n",
       "|*Comments*| *Accepted for publication in A&A*|\n",
       "|**Abstract**| Brown dwarfs display Jupiter-like auroral phenomena such as magnetospheric H$\\alpha$ emission and coherent radio emission. Coherent radio emission is a probe of magnetospheric acceleration mechanisms and provides a direct measurement of the magnetic field strength at the emitter's location, both of which are difficult to access by other means. Observations of the coldest brown dwarfs (spectral types T and Y) are particularly interesting as their magnetospheric phenomena may be very similar to those in gas-giant exoplanets. Here we present 144 MHz radio and infrared adaptive optics observations of the brown dwarf WISEP J101905.63+652954.2 made using the LOFAR and Keck telescopes respectively. The radio data shows pulsed highly circularly polarised emission which yields a rotation rate of $0.32\\pm0.03$ hr$^{-1}$. The infrared imaging reveals the source to be a binary with a projected separation of $423.0\\pm1.6$ mas between components of spectral type T5.$5\\pm0.5$ and T7.$0\\pm0.5$. With a simple \"toy model\" we show that the radio emission can in principle be powered by the interaction between the two dwarfs with a mass-loss rates of at least $25$ times the Jovian value. WISEP J101905.63+652954.2 is interesting because it is the first pulsed methane dwarf detected in a low radio-frequency search. Unlike previous gigahertz-frequency searches that were only sensitive to objects with kiloGauss fields, our low-frequency search is sensitive to surface magnetic fields of $\\approx 50$ Gauss and above which might reveal the coldest radio-loud objects down to planetary mass-scales. |\n",
       "|<p style=\"color:green\"> **ERROR** </p>| <p style=\"color:green\">affiliation error: mpia.affiliation_verifications: 'Heidelberg' keyword not found.</p> |"
      ],
      "text/plain": [
       "<IPython.core.display.Markdown object>"
      ]
     },
     "metadata": {},
     "output_type": "display_data"
    },
    {
     "data": {
      "text/markdown": [
       "\n",
       "|||\n",
       "|---:|:---|\n",
       "| [![arXiv](https://img.shields.io/badge/arXiv-arXiv:2301.01025-b31b1b.svg)](https://arxiv.org/abs/arXiv:2301.01025) | **Gaussian Process Modeling Blazar Multiwavelength Variability: Indirectly  Resolving Jet Structure**  |\n",
       "|| <mark>Haiyun Zhang</mark>, Dahai Yan, <mark>Li Zhang</mark> |\n",
       "|*Appeared on*| *2023-01-04*|\n",
       "|*Comments*| *Accepted by ApJ; 18 pages*|\n",
       "|**Abstract**| Blazar jet structure can be indirectly resolved by analyzing the multiwavelength variability. In this work, we analyze the long-term variability of blazars in radio, optical and X-ray energies with the Gaussian process (GP) method. The multiwavelength variability can be successfully characterized by the damped-random walk (DRW) model. The nonthermal optical characteristic timescales of 38 blazars are statistically consistent with the $\\gamma$-ray characteristic timescales of 22 blazars. For three individuals (3C 273, PKS 1510-089, and BL Lac), the nonthermal optical, X-ray, and $\\gamma$-ray characteristic timescales are also consistent within the measured 95$\\%$ errors, but the radio timescale of 3C 273 is too large to be constrained by the decade-long light curve. The synchrotron and inverse-Compton emissions have the same power spectral density, suggesting that the long-term jet variability is irrelevant to the emission mechanism. In the plot of the rest-frame timescale versus black hole mass, the optical-$\\gamma$-ray timescales of the jet variability occupy almost the same space with the timescales of accretion disk emission from normal quasars, which may imply that the long-term variabilities of the jet and accretion disk are driven by the same physical process. It is suggested that the nonthermal optical-X-ray and $\\gamma$-ray emissions are produced in the same region, while the radio core which can be resolved by very-long-baseline interferometry locates at a far more distant region from the black hole. Our study suggests a new methodology for comparing thermal and nonthermal emissions, which is achieved by using the standard GP method. |\n",
       "|<p style=\"color:green\"> **ERROR** </p>| <p style=\"color:green\">affiliation error: mpia.affiliation_verifications: 'Heidelberg' keyword not found.</p> |"
      ],
      "text/plain": [
       "<IPython.core.display.Markdown object>"
      ]
     },
     "metadata": {},
     "output_type": "display_data"
    },
    {
     "data": {
      "text/markdown": [
       "\n",
       "|||\n",
       "|---:|:---|\n",
       "| [![arXiv](https://img.shields.io/badge/arXiv-arXiv:2301.01065-b31b1b.svg)](https://arxiv.org/abs/arXiv:2301.01065) | **Sub-Jovian desert of exoplanets at its boundaries: Parameter dependence  along the main sequence**  |\n",
       "|| Gyula Szabó M, et al. -- incl., <mark>Viola Hegedűs</mark> |\n",
       "|*Appeared on*| *2023-01-04*|\n",
       "|*Comments*| *Accepted for publication in A&A; 11 pages, 11 figuress*|\n",
       "|**Abstract**| Context. The lack of sub-Jovian planets on orbits of $P_{\\rm orb} < 3$ days is a puzzling aspect of galaxy formation with regard to the distribution of exoplanets whose origins are currently unresolved. Aims. The possible explanations behind the formation of the sub-Jovian or Neptunian desert include several scenarios that can lead to different shapes for the boundary, predicting various dependencies between the position of the boundary and the stellar parameters. Methods. We explored the exoplanet distribution in various 2D and 3D projections, revealing the stellar-dependent substructures in the $P_{\\rm orb}-M_{P}$ and the $P_{\\rm orb}-R_{P}$ parameter plane. Results. We demonstrate that the upper boundary includes a range of planets, namely, inflated hot Jupiters and normal hot Jupiters, in the two parameter planes, respectively. We confirm the dependence of the boundary on several stellar parameters and, based on a fuzzy clustering analysis, we provide quantitative formulae for the dependencies in groups of smaller and larger planets. The overall period-radius distribution shows chemical substructures as well, with the boundary being dependent on volatiles and alpha-elements, alongside marginal (to none) dependence found for refractory elements. Conclusions. These findings confirm multiple plausible causes for the formation of the desert, particularly preferring those scenarios related to the irradiation-driven loss of the atmospheres of moderately massive planets as the predominant process in shaping planetary distributions. |\n",
       "|<p style=\"color:green\"> **ERROR** </p>| <p style=\"color:green\">affiliation error: mpia.affiliation_verifications: 'Heidelberg' keyword not found.</p> |"
      ],
      "text/plain": [
       "<IPython.core.display.Markdown object>"
      ]
     },
     "metadata": {},
     "output_type": "display_data"
    },
    {
     "data": {
      "text/markdown": [
       "\n",
       "|||\n",
       "|---:|:---|\n",
       "| [![arXiv](https://img.shields.io/badge/arXiv-arXiv:2301.01093-b31b1b.svg)](https://arxiv.org/abs/arXiv:2301.01093) | **Photochemical hazes can trace the C/O ratio in exoplanet atmospheres**  |\n",
       "|| <mark>Lia Corrales</mark>, <mark>Lisseth Gavilan</mark>, D. J. Teal, Eliza M.-R. Kempton |\n",
       "|*Appeared on*| *2023-01-04*|\n",
       "|*Comments*| *accepted to ApJL*|\n",
       "|**Abstract**| Photochemical hazes are suspected to obscure molecular features, such as water, from detection in the transmission spectra of exoplanets with atmospheric temperatures < 800 K. The opacities of laboratory produced organic compounds (tholins) from Khare et al. (1984) have become a standard for modeling haze in exoplanet atmospheres. However, these tholins were grown in an oxygen-free, Titan-like environment that is very different from typical assumptions for exoplanets, where C/O~0.5. This work presents the 0.13-10 micron complex refractive indices derived from laboratory transmission measurements of tholins grown in environments with different oxygen abundances. With the increasing uptake of oxygen, absorption increases across the entire wavelength range, and a scattering feature around 6 micron shifts towards shorter wavelengths and becomes more peaked around 5.8 micron, due to a C=O stretch resonance. Using GJ 1214b as a test-case, we examine the transmission spectra of a sub-Neptune planet with C/O ratios of solar, 1, and 1000 to evaluate the effective differences between our opacities and those of Khare. For an atmosphere with solar hydrogen and helium abundances, we find a difference of 200-1500 ppm, but for high-metallicity (Z=1000) environments, the difference may only be 20 ppm. The 1-2 micron transmission data for GJ 1214b rule out the Titan-like haze model, and are more consistent with C/O=1 and C/O=solar haze models. This work demonstrates that using haze opacities that are more consistent with underlying assumptions about bulk atmospheric composition are important for building self-consistent models that appropriately constrain the atmospheric C/O ratio, even when molecular features are obscured. |\n",
       "|<p style=\"color:green\"> **ERROR** </p>| <p style=\"color:green\">affiliation error: mpia.affiliation_verifications: 'Heidelberg' keyword not found.</p> |"
      ],
      "text/plain": [
       "<IPython.core.display.Markdown object>"
      ]
     },
     "metadata": {},
     "output_type": "display_data"
    }
   ],
   "source": [
    "import datetime\n",
    "today = str(datetime.date.today())\n",
    "logfile = f\"_build/html/logs/log-{today}.md\"\n",
    "\n",
    "\n",
    "with open(logfile, 'w') as logs:\n",
    "    # Success\n",
    "    logs.write(f'# Arxiv on Deck 2: Logs - {today}\\n\\n')\n",
    "    logs.write(\"\"\"* Arxiv had {0:,d} new papers\\n\"\"\".format(len(new_papers)))\n",
    "    logs.write(\"\"\"    * {0:,d} with possible author matches\\n\\n\"\"\".format(len(candidates)))\n",
    "    logs.write(\"## Sucessful papers\\n\\n\")\n",
    "    display(Markdown(\"## Successful papers\"))\n",
    "    success = [k[0] for k in documents]\n",
    "    for candid in candidates:\n",
    "        if candid['identifier'].split(':')[-1] in success:\n",
    "            display(candid)\n",
    "            logs.write(candid.generate_markdown_text() + '\\n\\n')\n",
    "\n",
    "    ## failed\n",
    "    logs.write(\"## Failed papers\\n\\n\")\n",
    "    display(Markdown(\"## Failed papers\"))\n",
    "    failed = sorted(failed, key=lambda x: x[1])\n",
    "    current_reason = \"\"\n",
    "    for paper, reason in failed:\n",
    "        if 'affiliation' in reason:\n",
    "            color = 'green'\n",
    "        else:\n",
    "            color = 'red'\n",
    "        data = Markdown(\n",
    "                paper.generate_markdown_text() + \n",
    "                f'\\n|<p style=\"color:{color:s}\"> **ERROR** </p>| <p style=\"color:{color:s}\">{reason:s}</p> |'\n",
    "               )\n",
    "        if reason != current_reason:\n",
    "            logs.write(f'### {reason:s} \\n\\n')\n",
    "            current_reason = reason\n",
    "        logs.write(data.data + '\\n\\n')\n",
    "        \n",
    "        # only display here the important errors (all in logs)\n",
    "        # if color in ('red',):\n",
    "        display(data)"
   ]
  },
  {
   "cell_type": "markdown",
   "id": "472d20ee",
   "metadata": {
    "papermill": {
     "duration": 0.008834,
     "end_time": "2023-01-04T04:09:21.134039",
     "exception": false,
     "start_time": "2023-01-04T04:09:21.125205",
     "status": "completed"
    },
    "tags": []
   },
   "source": [
    "## Export documents\n",
    "\n",
    "We now write the .md files and export relevant images"
   ]
  },
  {
   "cell_type": "code",
   "execution_count": 7,
   "id": "d426aed9",
   "metadata": {
    "execution": {
     "iopub.execute_input": "2023-01-04T04:09:21.154630Z",
     "iopub.status.busy": "2023-01-04T04:09:21.153975Z",
     "iopub.status.idle": "2023-01-04T04:09:21.163199Z",
     "shell.execute_reply": "2023-01-04T04:09:21.162272Z"
    },
    "papermill": {
     "duration": 0.022587,
     "end_time": "2023-01-04T04:09:21.165555",
     "exception": false,
     "start_time": "2023-01-04T04:09:21.142968",
     "status": "completed"
    },
    "tags": []
   },
   "outputs": [],
   "source": [
    "def export_markdown_summary(md: str, md_fname:str, directory: str):\n",
    "    \"\"\"Export MD document and associated relevant images\"\"\"\n",
    "    import os\n",
    "    import shutil\n",
    "    import re\n",
    "\n",
    "    if (os.path.exists(directory) and not os.path.isdir(directory)):\n",
    "        raise RuntimeError(f\"a non-directory file exists with name {directory:s}\")\n",
    "\n",
    "    if (not os.path.exists(directory)):\n",
    "        print(f\"creating directory {directory:s}\")\n",
    "        os.mkdir(directory)\n",
    "\n",
    "    fig_fnames = (re.compile(r'\\[Fig.*\\]\\((.*)\\)').findall(md) + \n",
    "                  re.compile(r'\\<img src=\"([^>\\s]*)\"[^>]*/>').findall(md))\n",
    "    for fname in fig_fnames:\n",
    "        if 'http' in fname:\n",
    "            # No need to copy online figures\n",
    "            continue\n",
    "        destdir = os.path.join(directory, os.path.dirname(fname))\n",
    "        destfname = os.path.join(destdir, os.path.basename(fname))\n",
    "        try:\n",
    "            os.makedirs(destdir)\n",
    "        except FileExistsError:\n",
    "            pass\n",
    "        shutil.copy(fname, destfname)\n",
    "    with open(os.path.join(directory, md_fname), 'w') as fout:\n",
    "        fout.write(md)\n",
    "    print(\"exported in \", os.path.join(directory, md_fname))\n",
    "    [print(\"    + \" + os.path.join(directory,fk)) for fk in fig_fnames]"
   ]
  },
  {
   "cell_type": "code",
   "execution_count": 8,
   "id": "014d04a4",
   "metadata": {
    "execution": {
     "iopub.execute_input": "2023-01-04T04:09:21.185568Z",
     "iopub.status.busy": "2023-01-04T04:09:21.184817Z",
     "iopub.status.idle": "2023-01-04T04:09:21.199887Z",
     "shell.execute_reply": "2023-01-04T04:09:21.198995Z"
    },
    "papermill": {
     "duration": 0.027214,
     "end_time": "2023-01-04T04:09:21.201858",
     "exception": false,
     "start_time": "2023-01-04T04:09:21.174644",
     "status": "completed"
    },
    "tags": []
   },
   "outputs": [
    {
     "name": "stdout",
     "output_type": "stream",
     "text": [
      "exported in  _build/html/2301.00854.md\n",
      "    + _build/html/tmp_2301.00854/./figures/fig1_panel1.png\n",
      "    + _build/html/tmp_2301.00854/./figures/fig1_panel2.png\n",
      "    + _build/html/tmp_2301.00854/./figures/colors_vs_f1130w_v3.png\n",
      "    + _build/html/tmp_2301.00854/./figures/pah33.png\n",
      "exported in  _build/html/2301.00881.md\n",
      "    + _build/html/tmp_2301.00881/./FIGURES/dustletter_dustmotes.png\n",
      "    + _build/html/tmp_2301.00881/./FIGURES/ngc0628_f770w_inclusionfractionYoung_filament.png\n",
      "    + _build/html/tmp_2301.00881/./FIGURES/ngc0628_f2100w_inclusionfractionYoung_filament.png\n",
      "    + _build/html/tmp_2301.00881/./FIGURES/ngc0628_f770w_weightedinclusionfractionYoung_filament.png\n",
      "    + _build/html/tmp_2301.00881/./FIGURES/ngc0628_f2100w_weightedinclusionfractionYoung_filament.png\n",
      "    + _build/html/tmp_2301.00881/./FIGURES/ngc0628_f770w_fluxfraction_filament.png\n",
      "    + _build/html/tmp_2301.00881/./FIGURES/ngc0628_f2100w_fluxfraction_filament.png\n"
     ]
    }
   ],
   "source": [
    "for paper_id, md in documents:\n",
    "    export_markdown_summary(md, f\"{paper_id:s}.md\", '_build/html/')"
   ]
  },
  {
   "cell_type": "markdown",
   "id": "f087a0a7",
   "metadata": {
    "papermill": {
     "duration": 0.009107,
     "end_time": "2023-01-04T04:09:21.220666",
     "exception": false,
     "start_time": "2023-01-04T04:09:21.211559",
     "status": "completed"
    },
    "tags": []
   },
   "source": [
    "## Display the papers\n",
    "\n",
    "Not necessary but allows for a quick check."
   ]
  },
  {
   "cell_type": "code",
   "execution_count": 9,
   "id": "fd25f625",
   "metadata": {
    "execution": {
     "iopub.execute_input": "2023-01-04T04:09:21.241595Z",
     "iopub.status.busy": "2023-01-04T04:09:21.241081Z",
     "iopub.status.idle": "2023-01-04T04:09:21.249126Z",
     "shell.execute_reply": "2023-01-04T04:09:21.248178Z"
    },
    "papermill": {
     "duration": 0.022601,
     "end_time": "2023-01-04T04:09:21.252994",
     "exception": false,
     "start_time": "2023-01-04T04:09:21.230393",
     "status": "completed"
    },
    "scrolled": false,
    "tags": []
   },
   "outputs": [
    {
     "data": {
      "text/markdown": [
       "<div class=\"macros\" style=\"visibility:hidden;\">\n",
       "$\\newcommand{\\ensuremath}{}$\n",
       "$\\newcommand{\\xspace}{}$\n",
       "$\\newcommand{\\object}[1]{\\texttt{#1}}$\n",
       "$\\newcommand{\\farcs}{{.}''}$\n",
       "$\\newcommand{\\farcm}{{.}'}$\n",
       "$\\newcommand{\\arcsec}{''}$\n",
       "$\\newcommand{\\arcmin}{'}$\n",
       "$\\newcommand{\\ion}[2]{#1#2}$\n",
       "$\\newcommand{\\textsc}[1]{\\textrm{#1}}$\n",
       "$\\newcommand{\\hl}[1]{\\textrm{#1}}$\n",
       "$\\newcommand{\\vdag}{(v)^\\dagger}$\n",
       "$\\newcommand$\n",
       "$\\newcommand$\n",
       "$\\newcommand{\\obsdateone}{July 6, 2022}$\n",
       "$\\newcommand{\\obsdatetwo}{July 15, 2022}$\n",
       "$\\newcommand{\\mjysr}{MJy sr^{-1}}$</div>\n",
       "\n",
       "<div class=\"macros\" style=\"visibility:hidden;\">\n",
       "$\\newcommand{$\\ensuremath$}{}$\n",
       "$\\newcommand{$\\xspace$}{}$\n",
       "$\\newcommand{$\\object$}[1]{\\texttt{#1}}$\n",
       "$\\newcommand{$\\farcs$}{{.}''}$\n",
       "$\\newcommand{$\\farcm$}{{.}'}$\n",
       "$\\newcommand{$\\arcsec$}{''}$\n",
       "$\\newcommand{$\\arcmin$}{'}$\n",
       "$\\newcommand{$\\ion$}[2]{#1#2}$\n",
       "$\\newcommand{$\\textsc$}[1]{\\textrm{#1}}$\n",
       "$\\newcommand{$\\hl$}[1]{\\textrm{#1}}$\n",
       "$\\newcommand{$\\vdag$}{(v)^\\dagger}$\n",
       "$\\newcommand$\n",
       "$\\newcommand$\n",
       "$\\newcommand{$\\obsdateone$}{July 6, 2022}$\n",
       "$\\newcommand{$\\obsdatetwo$}{July 15, 2022}$\n",
       "$\\newcommand{$\\mjysr$}{MJy sr^{-1}}$</div>\n",
       "\n",
       "\n",
       "\n",
       "<div id=\"title\">\n",
       "\n",
       "#  Polycyclic Aromatic Hydrocarbon Vibrational Band in Nearby Galaxies with NIRCam Medium Bands\n",
       "\n",
       "</div>\n",
       "<div id=\"comments\">\n",
       "\n",
       "[![arXiv](https://img.shields.io/badge/arXiv-2301.00854-b31b1b.svg)](https://arxiv.org/abs/2301.00854)<mark>Appeared on: 2023-01-04</mark> - _submitted to AAS journals and revised according to referee comments, part of a PHANGS-JWST Focus Issue to appear in ApJ_\n",
       "\n",
       "</div>\n",
       "<div id=\"authors\">\n",
       "\n",
       "Karin Sandstrom, et al. -- incl., <mark><mark>Janice C. Lee</mark></mark>, <mark><mark>Eva Schinnerer</mark></mark>, <mark><mark>Annie Hughes</mark></mark>, <mark><mark>Daizhong Liu</mark></mark>\n",
       "\n",
       "</div>\n",
       "<div id=\"abstract\">\n",
       "\n",
       "**Abstract:** We present maps of the 3.3\\micronpolycyclic aromatic hydrocarbon (PAH) emission feature in NGC 628, NGC 1365, and NGC 7496 as observed with the Near-Infrared Camera (NIRCam) imager on JWST from the PHANGS-JWST Cycle 1 Treasury project. We create maps that isolate the 3.3\\micronPAH feature in the F335M filter (F335M$_{\\rm PAH}$) using combinations of the F300M and F360M filters for removal of starlight continuum. This continuum removal is complicated by contamination of the F360M by PAH emission and variations in the stellar spectral energy distribution slopes between 3.0 and 3.6\\micron. We modify the empirical prescription from\\citet{Lai2020}to remove the starlight continuum in our highly resolved galaxies, which have a range of starlight- and PAH-dominated lines-of-sight.  Analyzing radially binned profiles of the F335M$_{\\rm PAH}$emission, we find that between$5-65$\\%of the F335M intensity comes from the 3.3\\micronfeature within the inner 0.5$r_{25}$of our targets. This percentage systematically varies from galaxy to galaxy, and shows radial trends within the galaxies related to each galaxy's distribution of stellar mass, interstellar medium, and star formation. The 3.3\\micronemission is well correlated with the 11.3\\micronPAH feature traced with the MIRI F1130W filter, as is expected, since both features arise from C-H vibrational modes. The average F335M$_{\\rm PAH}$/F1130W ratio agrees with the predictions of recent models by\\citet{Draine2021}for PAHs with size and charge distributions shifted towards larger grains with normal or higher ionization.\n",
       "\n",
       "</div>\n",
       "\n",
       "<div id=\"div_fig1\">\n",
       "\n",
       "<img src=\"tmp_2301.00854/./figures/fig1_panel1.png\" alt=\"Fig3.1\" width=\"50%\"/><img src=\"tmp_2301.00854/./figures/fig1_panel2.png\" alt=\"Fig3.2\" width=\"50%\"/>\n",
       "\n",
       "**Figure 3. -** A representative $1.5\\times 1.5$ kpc region of NGC 628 shown in the F200W, F300M, F335M, F360M, and F1130W bands with an {\\em asinh} color table at each filter's native resolution. The F1130W filter traces primarily PAH emission from the 11.3 \\micron feature. The F200W filter traces primarily stellar continuum.  The F335M filter is centered on the 3.3 \\micron PAH feature and includes both stellar continuum and PAH emission.  Diffuse emission is visible in the F335M and F360M bands. In the F1130W panel, we highlight faint PAH emission with F1130W $<1$\\mjysr with a red contour and bright PAH emission with F1130W $>10$\\mjysr with a green contour.  These faint and bright selections are used in Figure \\ref{fig:colorvs113}. (*fig:ngc628zoom*)\n",
       "\n",
       "</div>\n",
       "<div id=\"div_fig2\">\n",
       "\n",
       "<img src=\"tmp_2301.00854/./figures/colors_vs_f1130w_v3.png\" alt=\"Fig4\" width=\"100%\"/>\n",
       "\n",
       "**Figure 4. -** F335M/F300M versus F360M/F300M color in our representative region of NGC 628 selected by F1130W surface brightness. On the left, the PAH emission at F1130W is faint (F1130W $<1$\\mjysr), so the 3.0-3.6 \\micron colors should be dominated by stars. This region is highlighted with a red contour in Figure \\ref{fig:ngc628zoom}. On the right, we select bright regions in F1130W ($>10$\\mjysr), for which we expect the colors to be dominated by PAH emission. The PAH-bright region is highlighted with a green contour in Figure \\ref{fig:ngc628zoom}. The red line in each panel shows the \\citet{Lai2020} prescription for the stellar continuum. In starlight dominated regions, this prescription does well at predicting the continuum at F335M.  However, in regions dominated by PAHs, the F360M/F300M color is also responding to the PAH emission, leading to overestimates of the F335M continuum. We include synthetic photometry for the 1A, 1B, and 1C template spectra from \\citet{Lai2020} with red symbols, illustrating that our observed colors span a much wider range than the spectra used to create the continuum subtraction prescription. (*fig:colorvs113*)\n",
       "\n",
       "</div>\n",
       "<div id=\"div_fig3\">\n",
       "\n",
       "<img src=\"tmp_2301.00854/./figures/pah33.png\" alt=\"Fig1\" width=\"100%\"/>\n",
       "\n",
       "**Figure 1. -** The NIRCam F300M, F335M, and F360M wavelength coverage overlaid on the 1C template spectrum from \\citet{Lai2020}(square points) with their PAHFIT-based decomposition \\citep{smith2007}. The continuum (including starlight, hot dust, and the effects of attenuation) is shown in blue. Orange lines show the individual dust features, including the 3.3 \\micron PAH feature, the 3.4 \\micron \"aliphatic\" emission feature and the 3.47 \\micron plateau, which are labeled with arrows. The 3.74 \\micron Pfund $\\gamma$ emission line is shown in magenta.  The combined fit too all components is shown in green. PAH (or aliphatic) dust emission features contribute both to F335M and F360M, as well as longer wavelength dust emission in the F360M filter.  These contributions complicate continuum subtraction in our highly resolved galaxies, where individual lines of sight may be dominated by PAH emission in all three filters. (*fig:spec33*)\n",
       "\n",
       "</div>"
      ],
      "text/plain": [
       "<IPython.core.display.Markdown object>"
      ]
     },
     "metadata": {},
     "output_type": "display_data"
    },
    {
     "data": {
      "text/markdown": [
       "<div class=\"macros\" style=\"visibility:hidden;\">\n",
       "$\\newcommand{\\ensuremath}{}$\n",
       "$\\newcommand{\\xspace}{}$\n",
       "$\\newcommand{\\object}[1]{\\texttt{#1}}$\n",
       "$\\newcommand{\\farcs}{{.}''}$\n",
       "$\\newcommand{\\farcm}{{.}'}$\n",
       "$\\newcommand{\\arcsec}{''}$\n",
       "$\\newcommand{\\arcmin}{'}$\n",
       "$\\newcommand{\\ion}[2]{#1#2}$\n",
       "$\\newcommand{\\textsc}[1]{\\textrm{#1}}$\n",
       "$\\newcommand{\\hl}[1]{\\textrm{#1}}$\n",
       "$\\newcommand{\\vdag}{(v)^\\dagger}$\n",
       "$\\newcommand$\n",
       "$\\newcommand$\n",
       "$\\newcommand{\\Caltech}{\\affil{California Institute of Technology, 1200 E. California Blvd., MC 249-17, Pasadena, CA 91125, USA}}$\n",
       "$\\newcommand{\\Tamkang}{\\affil{Department of Physics, Tamkang University, No.151, Yingzhuan Rd., Tamsui Dist., New Taipei City 251301, Taiwan}}$\n",
       "$\\newcommand{\\GEMINI}{\\affil{Gemini Observatory/NSF’s NOIRLab, 950 N. Cherry Avenue, Tucson, AZ, 85719, USA$\n",
       "$}}$\n",
       "$\\newcommand{\\ASCL}{\\affil{Astrophysics Source Code Librar$\n",
       "$y, Michigan Technological University, 1400 Townsend Drive, Houghton, MI 49931}}$\n",
       "$\\newcommand{\\OSU}{\\affil{Department of Astronomy, The Ohio State University, 140 West 18th Avenue, Columbus, Ohio 43210, USA}}$\n",
       "$\\newcommand{\\Alberta}{\\affil{Department of Physics, University of Alberta, Edmonton, AB T6G 2E1, Canada}}$\n",
       "$\\newcommand{\\ANU}{\\affil{Research School of Astronomy and Astrophysics, Australian National University, Canberra, ACT 2611, Australia}}$\n",
       "$\\newcommand{\\IPARCOS}{\\affil{Instituto de F\\'{\\i}sica de Part\\'{\\i}culas y del Cosmos, Universidad Complutense de Madrid, E-28040 Madrid, Spain}}$\n",
       "$\\newcommand{\\IPAC}{\\affil{Caltech-IPAC, 1200 E. California Blvd. Pasadena, CA 91125, USA}}$\n",
       "$\\newcommand{\\Carnegie}{\\affil{Observatories of the Carnegie Institution for Science, 813 Santa Barbara Street, Pasadena, CA 91101, USA}}$\n",
       "$\\newcommand{\\CCAPP}{\\affil{Center for Cosmology and AstroParticle Physics, 191 West Woodruff Avenue, Columbus, OH 43210, USA}}$\n",
       "$\\newcommand{\\CfA}{\\affil{Harvard-Smithsonian Center for Astrophysics, 60 Garden Street, Cambridge, MA 02138, USA}}$\n",
       "$\\newcommand{\\CITEVA}{\\affil{Centro de Astronomía (CITEVA), Universidad de Antofagasta, Avenida Angamos 601, Antofagasta, Chile}}$\n",
       "$\\newcommand{\\CNRS}{\\affil{CNRS, IRAP, 9 Av. du Colonel Roche, BP 44346, F-31028 Toulouse cedex 4, France}}$\n",
       "$\\newcommand{\\ESO}{\\affil{European Southern Observatory, Karl-Schwarzschild Stra{\\ss}e 2, D-85748 Garching bei M\\\"{u}nchen, Germany}}$\n",
       "$\\newcommand{\\Heidelberg}{\\affil{Astronomisches Rechen-Institut, Zentrum f\\\"{u}r Astronomie der Universit\\\"{a}t Heidelberg, M\\\"{o}nchhofstra\\ss e 12-14, D-69120 Heidelberg, Germany}}$\n",
       "$\\newcommand{\\COOL}{\\affil{Cosmic Origins Of Life (COOL) Research DAO, coolresearch.io}}$\n",
       "$\\newcommand{\\ICRAR}{\\affil{International Centre for Radio Astronomy Research, University of Western Australia, 35 Stirling Highway, Crawley, WA 6009, Australia}}$\n",
       "$\\newcommand{\\IRAM}{\\affil{Institut de Radioastronomie Millimétrique (IRAM), 300 Rue de la Piscine, F-38406 Saint Martin d'Hères, France}}$\n",
       "$\\newcommand{\\IRAP}{\\affil{CNRS, IRAP, 9 Av. du Colonel Roche, BP 44346, F-31028 Toulouse cedex 4, France}}$\n",
       "$\\newcommand{\\UPS}{\\affil{Université de Toulouse, UPS-OMP, IRAP, F-31028 Toulouse cedex 4, France}}$\n",
       "$\\newcommand{\\ITA}{\\affil{Universit\\\"{a}t Heidelberg, Zentrum f\\\"{u}r Astronomie, Institut f\\\"{u}r Theoretische Astrophysik, Albert-Ueberle-Str 2, D-69120 Heidelberg, Germany}}$\n",
       "$\\newcommand{\\IWR}{\\affil{Universit\\\"{a}t Heidelberg, Interdisziplin\\\"{a}res Zentrum f\\\"{u}r Wissenschaftliches Rechnen, Im Neuenheimer Feld 205, D-69120 Heidelberg, Germany}}$\n",
       "$\\newcommand{\\JHU}{\\affil{Department of Physics and Astronomy, The Johns Hopkins University, Baltimore, MD 21218, USA}}$\n",
       "$\\newcommand{\\Leiden}{\\affil{Leiden Observatory, Leiden University, P.O. Box 9513, 2300 RA Leiden, The Netherlands}}$\n",
       "$\\newcommand{\\Maryland}{\\affil{Department of Astronomy, University of Maryland, College Park, MD 20742, USA}}$\n",
       "$\\newcommand{\\MPE}{\\affil{Max-Planck-Institut f\\\"{u}r extraterrestrische Physik, Giessenbachstra{\\ss}e 1, D-85748 Garching, Germany}}$\n",
       "$\\newcommand{\\MPIA}{\\affil{Max-Planck-Institut f\\\"{u}r Astronomie, K\\\"{o}nigstuhl 17, D-69117, Heidelberg, Germany}}$\n",
       "$\\newcommand{\\Nagoya}{\\affil{Department of Physics, Nagoya University, Furo-cho, Chikusa-ku, Nagoya, Aichi 464-8602, Japan}}$\n",
       "$\\newcommand{\\NRAO}{\\affil{National Radio Astronomy Observatory, 520 Edgemont Road, Charlottesville, VA 22903-2475, USA}}$\n",
       "$\\newcommand{\\OAN}{\\affil{Observatorio Astronómico Nacional (IGN), C/Alfonso XII, 3, E-28014 Madrid, Spain}}$\n",
       "$\\newcommand{\\ObsParis}{\\affil{Sorbonne Université, Observatoire de Paris, Université PSL, CNRS, LERMA, F-75014, Paris, France}}$\n",
       "$\\newcommand{\\Princeton}{\\affil{Department of Astrophysical Sciences, Princeton University, Princeton, NJ 08544 USA}}$\n",
       "$\\newcommand{\\UToledo}{\\affil{University of Toledo, 2801 W. Bancroft St., Mail Stop 111, Toledo, OH, 43606}}$\n",
       "$\\newcommand{\\Toulouse}{\\affil{Université de Toulouse, UPS-OMP, IRAP, F-31028 Toulouse cedex 4, France}}$\n",
       "$\\newcommand{\\UBonn}{\\affil{Argelander-Institut f\\\"ur Astronomie, Universit\\\"at Bonn, Auf dem H\\\"ugel 71, 53121 Bonn, Germany}}$\n",
       "$\\newcommand{\\UChile}{\\affil{Departamento de Astronomía, Universidad de Chile, Camino del Observatorio 1515, Las Condes, Santiago, Chile}}$\n",
       "$\\newcommand{\\UCM}{\\affil{Departamento de F\\'{\\i}sica de la Tierra y Astrof\\'{\\i}sica, Universidad Complutense de Madrid, E-28040 Madrid, Spain}}$\n",
       "$\\newcommand{\\UCSD}{\\affil{Center for Astrophysics and Space Sciences, Department of Physics,  University of California,\\San Diego, 9500 Gilman Drive, La Jolla, CA 92093, USA}}$\n",
       "$\\newcommand{\\ULyon}{\\affil{Univ Lyon, Univ Lyon 1, ENS de Lyon, CNRS, Centre de Recherche Astrophysique de Lyon UMR5574,\\F-69230 Saint-Genis-Laval, France}}$\n",
       "$\\newcommand{\\UMass}{\\affil{University of Massachusetts—Amherst, 710 N. Pleasant Street, Amherst, MA 01003, USA}}$\n",
       "$\\newcommand{\\UWyoming}{\\affil{Department of Physics and Astronomy, University of Wyoming, Laramie, WY 82071, USA}}$\n",
       "$\\newcommand{\\LAM}{\\affil{$\n",
       "$Aix Marseille Univ, CNRS, CNES, LAM (Laboratoire d’Astrophysique de Marseille),  F-13388 Marseille,$\n",
       "$France}}$\n",
       "$\\newcommand{\\UHawaii}{\\affil{Institute for Astronomy, University of Hawaii, 2680 Woodlawn Drive, Honolulu, HI 96822, USA}}$\n",
       "$\\newcommand{\\UGent}{\\affil{Sterrenkundig Observatorium, Universiteit Gent, Krijgslaan 281 S9, B-9000 Gent, Belgium}}$\n",
       "$\\newcommand{\\IPARC}{\\affil{Instituto de F\\'{\\i}sica de Part\\'{\\i}culas y del Cosmos IPARCOS, Facultad de Ciencias F\\'{\\i}sicas, Universidad Complutense de Madrid, E-28040, Spain}}$\n",
       "$\\newcommand{\\STScI}{\\affil{Space Telescope Science Institute, 3700 San Martin Drive, Baltimore, MD 21218, USA}}$\n",
       "$\\newcommand{\\STScIESA}{\\affiliation{AURA for the European Space Agency (ESA), Space Telescope Science Institute, 3700 San Martin Drive, Baltimore, MD 21218, USA}}$\n",
       "$\\newcommand{\\McMaster}{\\affil{Department of Physics and Astronomy, McMaster University, Hamilton, ON L8S 4M1, Canada}}$\n",
       "$\\newcommand{\\INAF}{\\affil{INAF -- Osservatorio Astrofisico di Arcetri, Largo E. Fermi 5, I-50157, Firenze, Italy}}$\n",
       "$\\newcommand{\\Sydney}{\\affil{Sydney Institute for Astronomy, School of Physics A28, The University of Sydney, NSW 2006, Australia}}$\n",
       "$\\newcommand{\\UA}{\\affil{Centro de Astronomía (CITEVA), Universidad de Antofagasta, Avenida Angamos 601, Antofagasta, Chile}}$\n",
       "$\\newcommand{\\LERMA}{\\affil{Observatoire de Paris, PSL Research University, CNRS, Sorbonne Universit\\'es, 75014 Paris}}$\n",
       "$\\newcommand{\\SAIMSU}{\\affil{Sternberg Astronomical Institute, Lomonosov Moscow State University, Universitetsky pr. 13, 119234 Moscow, Russia}}$\n",
       "$\\newcommand{\\StockholmOKC}{\\affil{The Oskar Klein Centre for Cosmoparticle Physics, Department of Physics, Stockholm University, AlbaNova, Stockholm, SE-106 91, Sweden}}$\n",
       "$\\newcommand$\n",
       "$\\newcommand$\n",
       "$\\newcommand$\n",
       "$\\newcommand$\n",
       "$\\newcommand$\n",
       "$\\newcommand$\n",
       "$\\newcommand$\n",
       "$\\newcommand$\n",
       "$\\newcommand$\n",
       "$\\newcommand$\n",
       "$\\newcommand$\n",
       "$\\newcommand$\n",
       "$\\newcommand$\n",
       "$\\newcommand$\n",
       "$\\newcommand$\n",
       "$\\newcommand$\n",
       "$\\newcommand$\n",
       "$\\newcommand$\n",
       "$\\newcommand$\n",
       "$\\newcommand$\n",
       "$\\newcommand$\n",
       "$\\newcommand$\n",
       "$\\newcommand$\n",
       "$\\newcommand{\\msun}{M_{\\odot}}$\n",
       "$\\newcommand{\\HST}{\\textit{HST} }$\n",
       "$\\newcommand{\\JWST}{\\textit{JWST} }$\n",
       "$\\newcommand{\\Gaia}{\\textit{Gaia} }$</div>\n",
       "\n",
       "<div class=\"macros\" style=\"visibility:hidden;\">\n",
       "$\\newcommand{$\\ensuremath$}{}$\n",
       "$\\newcommand{$\\xspace$}{}$\n",
       "$\\newcommand{$\\object$}[1]{\\texttt{#1}}$\n",
       "$\\newcommand{$\\farcs$}{{.}''}$\n",
       "$\\newcommand{$\\farcm$}{{.}'}$\n",
       "$\\newcommand{$\\arcsec$}{''}$\n",
       "$\\newcommand{$\\arcmin$}{'}$\n",
       "$\\newcommand{$\\ion$}[2]{#1#2}$\n",
       "$\\newcommand{$\\textsc$}[1]{\\textrm{#1}}$\n",
       "$\\newcommand{$\\hl$}[1]{\\textrm{#1}}$\n",
       "$\\newcommand{$\\vdag$}{(v)^\\dagger}$\n",
       "$\\newcommand$\n",
       "$\\newcommand$\n",
       "$\\newcommand{$\\Caltech$}{\\affil{California Institute of Technology, 1200 E. California Blvd., MC 249-17, Pasadena, CA 91125, USA}}$\n",
       "$\\newcommand{$\\Tamkang$}{\\affil{Department of Physics, Tamkang University, No.151, Yingzhuan Rd., Tamsui Dist., New Taipei City 251301, Taiwan}}$\n",
       "$\\newcommand{\\GEMINI}{\\affil{Gemini Observatory/NSF’s NOIRLab, 950 N. Cherry Avenue, Tucson, AZ, 85719, USA$\n",
       "$}}$\n",
       "$\\newcommand{\\ASCL}{\\affil{Astrophysics Source Code Librar$\n",
       "$y, Michigan Technological University, 1400 Townsend Drive, Houghton, MI 49931}}$\n",
       "$\\newcommand{$\\OSU$}{\\affil{Department of Astronomy, The Ohio State University, 140 West 18th Avenue, Columbus, Ohio 43210, USA}}$\n",
       "$\\newcommand{$\\Alberta$}{\\affil{Department of Physics, University of Alberta, Edmonton, AB T6G 2E1, Canada}}$\n",
       "$\\newcommand{$\\ANU$}{\\affil{Research School of Astronomy and Astrophysics, Australian National University, Canberra, ACT 2611, Australia}}$\n",
       "$\\newcommand{$\\IPARCOS$}{\\affil{Instituto de F\\'{\\i}sica de Part\\'{\\i}culas y del Cosmos, Universidad Complutense de Madrid, E-28040 Madrid, Spain}}$\n",
       "$\\newcommand{$\\IPAC$}{\\affil{Caltech-IPAC, 1200 E. California Blvd. Pasadena, CA 91125, USA}}$\n",
       "$\\newcommand{$\\Carnegie$}{\\affil{Observatories of the Carnegie Institution for Science, 813 Santa Barbara Street, Pasadena, CA 91101, USA}}$\n",
       "$\\newcommand{$\\CCAPP$}{\\affil{Center for Cosmology and AstroParticle Physics, 191 West Woodruff Avenue, Columbus, OH 43210, USA}}$\n",
       "$\\newcommand{$\\CfA$}{\\affil{Harvard-Smithsonian Center for Astrophysics, 60 Garden Street, Cambridge, MA 02138, USA}}$\n",
       "$\\newcommand{$\\CITEVA$}{\\affil{Centro de Astronomía (CITEVA), Universidad de Antofagasta, Avenida Angamos 601, Antofagasta, Chile}}$\n",
       "$\\newcommand{$\\CNRS$}{\\affil{CNRS, IRAP, 9 Av. du Colonel Roche, BP 44346, F-31028 Toulouse cedex 4, France}}$\n",
       "$\\newcommand{$\\ESO$}{\\affil{European Southern Observatory, Karl-Schwarzschild Stra{\\ss}e 2, D-85748 Garching bei M\\\"{u}nchen, Germany}}$\n",
       "$\\newcommand{$\\Heidelberg$}{\\affil{Astronomisches Rechen-Institut, Zentrum f\\\"{u}r Astronomie der Universit\\\"{a}t Heidelberg, M\\\"{o}nchhofstra\\ss e 12-14, D-69120 Heidelberg, Germany}}$\n",
       "$\\newcommand{$\\COOL$}{\\affil{Cosmic Origins Of Life (COOL) Research DAO, coolresearch.io}}$\n",
       "$\\newcommand{$\\ICRAR$}{\\affil{International Centre for Radio Astronomy Research, University of Western Australia, 35 Stirling Highway, Crawley, WA 6009, Australia}}$\n",
       "$\\newcommand{$\\IRAM$}{\\affil{Institut de Radioastronomie Millimétrique (IRAM), 300 Rue de la Piscine, F-38406 Saint Martin d'Hères, France}}$\n",
       "$\\newcommand{$\\IRAP$}{\\affil{CNRS, IRAP, 9 Av. du Colonel Roche, BP 44346, F-31028 Toulouse cedex 4, France}}$\n",
       "$\\newcommand{$\\UPS$}{\\affil{Université de Toulouse, UPS-OMP, IRAP, F-31028 Toulouse cedex 4, France}}$\n",
       "$\\newcommand{$\\ITA$}{\\affil{Universit\\\"{a}t Heidelberg, Zentrum f\\\"{u}r Astronomie, Institut f\\\"{u}r Theoretische Astrophysik, Albert-Ueberle-Str 2, D-69120 Heidelberg, Germany}}$\n",
       "$\\newcommand{$\\IWR$}{\\affil{Universit\\\"{a}t Heidelberg, Interdisziplin\\\"{a}res Zentrum f\\\"{u}r Wissenschaftliches Rechnen, Im Neuenheimer Feld 205, D-69120 Heidelberg, Germany}}$\n",
       "$\\newcommand{$\\JHU$}{\\affil{Department of Physics and Astronomy, The Johns Hopkins University, Baltimore, MD 21218, USA}}$\n",
       "$\\newcommand{$\\Leiden$}{\\affil{Leiden Observatory, Leiden University, P.O. Box 9513, 2300 RA Leiden, The Netherlands}}$\n",
       "$\\newcommand{$\\Maryland$}{\\affil{Department of Astronomy, University of Maryland, College Park, MD 20742, USA}}$\n",
       "$\\newcommand{$\\MPE$}{\\affil{Max-Planck-Institut f\\\"{u}r extraterrestrische Physik, Giessenbachstra{\\ss}e 1, D-85748 Garching, Germany}}$\n",
       "$\\newcommand{$\\MPIA$}{\\affil{Max-Planck-Institut f\\\"{u}r Astronomie, K\\\"{o}nigstuhl 17, D-69117, Heidelberg, Germany}}$\n",
       "$\\newcommand{$\\Nagoya$}{\\affil{Department of Physics, Nagoya University, Furo-cho, Chikusa-ku, Nagoya, Aichi 464-8602, Japan}}$\n",
       "$\\newcommand{$\\NRAO$}{\\affil{National Radio Astronomy Observatory, 520 Edgemont Road, Charlottesville, VA 22903-2475, USA}}$\n",
       "$\\newcommand{$\\OAN$}{\\affil{Observatorio Astronómico Nacional (IGN), C/Alfonso XII, 3, E-28014 Madrid, Spain}}$\n",
       "$\\newcommand{$\\ObsParis$}{\\affil{Sorbonne Université, Observatoire de Paris, Université PSL, CNRS, LERMA, F-75014, Paris, France}}$\n",
       "$\\newcommand{$\\Princeton$}{\\affil{Department of Astrophysical Sciences, Princeton University, Princeton, NJ 08544 USA}}$\n",
       "$\\newcommand{$\\UToledo$}{\\affil{University of Toledo, 2801 W. Bancroft St., Mail Stop 111, Toledo, OH, 43606}}$\n",
       "$\\newcommand{$\\Toulouse$}{\\affil{Université de Toulouse, UPS-OMP, IRAP, F-31028 Toulouse cedex 4, France}}$\n",
       "$\\newcommand{$\\UBonn$}{\\affil{Argelander-Institut f\\\"ur Astronomie, Universit\\\"at Bonn, Auf dem H\\\"ugel 71, 53121 Bonn, Germany}}$\n",
       "$\\newcommand{$\\UChile$}{\\affil{Departamento de Astronomía, Universidad de Chile, Camino del Observatorio 1515, Las Condes, Santiago, Chile}}$\n",
       "$\\newcommand{$\\UCM$}{\\affil{Departamento de F\\'{\\i}sica de la Tierra y Astrof\\'{\\i}sica, Universidad Complutense de Madrid, E-28040 Madrid, Spain}}$\n",
       "$\\newcommand{$\\UCSD$}{\\affil{Center for Astrophysics and Space Sciences, Department of Physics,  University of California,\\San Diego, 9500 Gilman Drive, La Jolla, CA 92093, USA}}$\n",
       "$\\newcommand{$\\ULyon$}{\\affil{Univ Lyon, Univ Lyon 1, ENS de Lyon, CNRS, Centre de Recherche Astrophysique de Lyon UMR5574,\\F-69230 Saint-Genis-Laval, France}}$\n",
       "$\\newcommand{$\\UMass$}{\\affil{University of Massachusetts—Amherst, 710 N. Pleasant Street, Amherst, MA 01003, USA}}$\n",
       "$\\newcommand{$\\UWyoming$}{\\affil{Department of Physics and Astronomy, University of Wyoming, Laramie, WY 82071, USA}}$\n",
       "$\\newcommand{\\LAM}{\\affil{$\n",
       "$Aix Marseille Univ, CNRS, CNES, LAM (Laboratoire d’Astrophysique de Marseille),  F-13388 Marseille,$\n",
       "$France}}$\n",
       "$\\newcommand{$\\UHawaii$}{\\affil{Institute for Astronomy, University of Hawaii, 2680 Woodlawn Drive, Honolulu, HI 96822, USA}}$\n",
       "$\\newcommand{$\\UGent$}{\\affil{Sterrenkundig Observatorium, Universiteit Gent, Krijgslaan 281 S9, B-9000 Gent, Belgium}}$\n",
       "$\\newcommand{$\\IPARC$}{\\affil{Instituto de F\\'{\\i}sica de Part\\'{\\i}culas y del Cosmos IPARCOS, Facultad de Ciencias F\\'{\\i}sicas, Universidad Complutense de Madrid, E-28040, Spain}}$\n",
       "$\\newcommand{$\\STScI$}{\\affil{Space Telescope Science Institute, 3700 San Martin Drive, Baltimore, MD 21218, USA}}$\n",
       "$\\newcommand{$\\STScI$ESA}{\\affiliation{AURA for the European Space Agency (ESA), Space Telescope Science Institute, 3700 San Martin Drive, Baltimore, MD 21218, USA}}$\n",
       "$\\newcommand{$\\McMaster$}{\\affil{Department of Physics and Astronomy, McMaster University, Hamilton, ON L8S 4M1, Canada}}$\n",
       "$\\newcommand{$\\INAF$}{\\affil{INAF -- Osservatorio Astrofisico di Arcetri, Largo E. Fermi 5, I-50157, Firenze, Italy}}$\n",
       "$\\newcommand{$\\Sydney$}{\\affil{Sydney Institute for Astronomy, School of Physics A28, The University of Sydney, NSW 2006, Australia}}$\n",
       "$\\newcommand{$\\UA$}{\\affil{Centro de Astronomía (CITEVA), Universidad de Antofagasta, Avenida Angamos 601, Antofagasta, Chile}}$\n",
       "$\\newcommand{$\\LERMA$}{\\affil{Observatoire de Paris, PSL Research University, CNRS, Sorbonne Universit\\'es, 75014 Paris}}$\n",
       "$\\newcommand{$\\SAIMSU$}{\\affil{Sternberg Astronomical Institute, Lomonosov Moscow State University, Universitetsky pr. 13, 119234 Moscow, Russia}}$\n",
       "$\\newcommand{$\\StockholmOKC$}{\\affil{The Oskar Klein Centre for Cosmoparticle Physics, Department of Physics, Stockholm University, AlbaNova, Stockholm, SE-106 91, Sweden}}$\n",
       "$\\newcommand$\n",
       "$\\newcommand$\n",
       "$\\newcommand$\n",
       "$\\newcommand$\n",
       "$\\newcommand$\n",
       "$\\newcommand$\n",
       "$\\newcommand$\n",
       "$\\newcommand$\n",
       "$\\newcommand$\n",
       "$\\newcommand$\n",
       "$\\newcommand$\n",
       "$\\newcommand$\n",
       "$\\newcommand$\n",
       "$\\newcommand$\n",
       "$\\newcommand$\n",
       "$\\newcommand$\n",
       "$\\newcommand$\n",
       "$\\newcommand$\n",
       "$\\newcommand$\n",
       "$\\newcommand$\n",
       "$\\newcommand$\n",
       "$\\newcommand$\n",
       "$\\newcommand$\n",
       "$\\newcommand{$\\msun$}{M_{\\odot}}$\n",
       "$\\newcommand{$\\HST$}{\\textit{HST} }$\n",
       "$\\newcommand{$\\JWST$}{\\textit{JWST} }$\n",
       "$\\newcommand{$\\Gaia$}{\\textit{Gaia} }$</div>\n",
       "\n",
       "\n",
       "\n",
       "<div id=\"title\">\n",
       "\n",
       "# PHANGS-JWST First Results:  The Dust Filament Network of NGC 628 and its Relation to Star Formation Activity\n",
       "\n",
       "</div>\n",
       "<div id=\"comments\">\n",
       "\n",
       "[![arXiv](https://img.shields.io/badge/arXiv-2301.00881-b31b1b.svg)](https://arxiv.org/abs/2301.00881)<mark>Appeared on: 2023-01-04</mark> - _21 pages, 14 figures, accepted for publication as part of PHANGS-JWST ApJL Focus Issue_\n",
       "\n",
       "</div>\n",
       "<div id=\"authors\">\n",
       "\n",
       "David A. Thilker, et al. -- incl., <mark>Janice C. Lee</mark>, <mark>Frank Bigiel</mark>, <mark>Jonathan~D.~Henshaw</mark>, <mark>Francesca~Pinna</mark>, <mark>Eva Schinnerer</mark>, <mark>Rowan J. Smith</mark>, <mark>Kathryn Kreckel</mark>, <mark>Daizhong Liu</mark>\n",
       "\n",
       "</div>\n",
       "<div id=\"abstract\">\n",
       "\n",
       "**Abstract:** PHANGS-JWST mid-infrared (MIR) imaging of nearby spiral galaxies has revealed ubiquitous filaments of dust emission in intricate detail.  We present a pilot study to systematically map the dust filament network (DFN) at multiple scales between 25--400 pc in NGC 628.  MIRI images at 7.7, 10, 11.3 and 21$\\micron$of NGC 628 are used to generate maps of the filaments in emission, while PHANGS-HST B-band imaging yields maps of dust attenuation features.  We quantify the correspondence between filaments traced by MIR thermal continuum / polycyclic aromatic hydrocarbon (PAH) emission and filaments detected via extinction / scattering of visible light; the fraction of MIR flux contained in the DFN; and the fraction of HII regions, young star clusters and associations within the DFN.  We examine the dependence of these quantities with the physical scale at which the DFN is extracted.  With our highest resolution DFN maps (25 pc filament width), we find that filaments in emission and attenuation are co-spatial in 40\\%of sight lines, often exhibiting detailed morphological agreement; that$\\sim$30\\%of the MIR flux is associated with the DFN; and that 75--80\\%of HII regions and 60\\%of star clusters younger than 5 Myr are contained within the DFN.  However, the DFN at this scale is anti-correlated with looser associations of stars\\edit1{younger than 5 Myr}identified using PHANGS-HST near-UV imaging.  We discuss the impact of these findings for studies of star formation and the ISM, and the broad range of new investigations enabled with multi-scale maps of the DFN.\n",
       "\n",
       "</div>\n",
       "\n",
       "<div id=\"div_fig1\">\n",
       "\n",
       "<img src=\"tmp_2301.00881/./FIGURES/dustletter_dustmotes.png\" alt=\"Fig7\" width=\"100%\"/>\n",
       "\n",
       "**Figure 7. -** \\edit1{Dust motes and point-source MIR contamination from extremely dusty stars.}\\textit{Left:} Subsection of our pre-processed B-band image, overlaid with contours corresponding to the filament masks generated at 25 pc resolution in emission, red, and absorption, blue. \\textit{Center:} Unprocessed B-band image \\textit{Right:}$\\JWST$ F1000W image, also with the filament mask contours shown.  Yellow circles surround three example dust motes.  There are many more in the field shown, left unmarked. Green circles surround three example candidate dusty stars, others are not marked. Circles are $1$\\arcsec$$ in diameter, equivalent to 48 pc at the distance of NGC 628\\edit1{, and the images are oriented with North up and East left.} (*fig:dustmotes*)\n",
       "\n",
       "</div>\n",
       "<div id=\"div_fig2\">\n",
       "\n",
       "<img src=\"tmp_2301.00881/./FIGURES/ngc0628_f770w_inclusionfractionYoung_filament.png\" alt=\"Fig8.1\" width=\"25%\"/><img src=\"tmp_2301.00881/./FIGURES/ngc0628_f2100w_inclusionfractionYoung_filament.png\" alt=\"Fig8.2\" width=\"25%\"/><img src=\"tmp_2301.00881/./FIGURES/ngc0628_f770w_weightedinclusionfractionYoung_filament.png\" alt=\"Fig8.3\" width=\"25%\"/><img src=\"tmp_2301.00881/./FIGURES/ngc0628_f2100w_weightedinclusionfractionYoung_filament.png\" alt=\"Fig8.4\" width=\"25%\"/>\n",
       "\n",
       "**Figure 8. -** \\edit1{Testing the link of the dust filament network to current star formation.}\\textit{Top:} Filament inclusion fractions for various star formation event tracers (\\HII regions, young clusters, young multi-scale associations) versus the dust emission filament extraction scale. Bars indicate results for each individual extraction scale, whereas lines and points indicate the cumulative filament mask measurements. Inclusion fractions for randomly distributed points are shown with inset bars and dotted lines. \\textit{Bottom:} SFR-weighted inclusion fractions.    (*fig:piegraph_InclFrac_vs_scale*)\n",
       "\n",
       "</div>\n",
       "<div id=\"div_fig3\">\n",
       "\n",
       "<img src=\"tmp_2301.00881/./FIGURES/ngc0628_f770w_fluxfraction_filament.png\" alt=\"Fig4.1\" width=\"50%\"/><img src=\"tmp_2301.00881/./FIGURES/ngc0628_f2100w_fluxfraction_filament.png\" alt=\"Fig4.2\" width=\"50%\"/>\n",
       "\n",
       "**Figure 4. -** \\edit1{Measurements of the fraction of total flux contained within the dust filament network}\\textit{Top:} Filament flux fraction in F770W expressed as percentage, with individual filament extraction scales plotted as pink bars, and cumulative multi-scale results as solid lines and points.  The faded region is shown for completeness, although we adopt a maximum cumulative scale of 200 pc. Horizontal dashes on each bar indicate the one-sigma uncertainty of the flux fraction measurements, obtained by perturbing the sky level in accord with the post-pipeline calibration described by \\citet{LEROY1_PHANGSJWST}, \\citet{LEE_PHANGSJWST}. Dotted lines show the one-sigma range due to uncertainty of cumulative flux fractions. \\textit{Bottom:} Same, but for F2100W. (*fig:fluxfrac*)\n",
       "\n",
       "</div>"
      ],
      "text/plain": [
       "<IPython.core.display.Markdown object>"
      ]
     },
     "metadata": {},
     "output_type": "display_data"
    }
   ],
   "source": [
    "[display(Markdown(k[1])) for k in documents];"
   ]
  },
  {
   "cell_type": "markdown",
   "id": "873873a4",
   "metadata": {
    "papermill": {
     "duration": 0.009747,
     "end_time": "2023-01-04T04:09:21.272336",
     "exception": false,
     "start_time": "2023-01-04T04:09:21.262589",
     "status": "completed"
    },
    "tags": []
   },
   "source": [
    "# Create HTML index"
   ]
  },
  {
   "cell_type": "code",
   "execution_count": 10,
   "id": "cf665672",
   "metadata": {
    "execution": {
     "iopub.execute_input": "2023-01-04T04:09:21.295535Z",
     "iopub.status.busy": "2023-01-04T04:09:21.295110Z",
     "iopub.status.idle": "2023-01-04T04:09:21.310267Z",
     "shell.execute_reply": "2023-01-04T04:09:21.308772Z"
    },
    "papermill": {
     "duration": 0.029455,
     "end_time": "2023-01-04T04:09:21.312449",
     "exception": false,
     "start_time": "2023-01-04T04:09:21.282994",
     "status": "completed"
    },
    "tags": []
   },
   "outputs": [
    {
     "name": "stdout",
     "output_type": "stream",
     "text": [
      "151  publications in the last 7 days.\n",
      "\t _build/html/2301.00881.md\n",
      "\t _build/html/2301.00854.md\n",
      "\t _build/html/2301.00578.md\n",
      "\t _build/html/2212.12039.md\n",
      "\t _build/html/2212.11991.md\n",
      "\t _build/html/2212.11425.md\n",
      "\t _build/html/2212.11177.md\n",
      "\t _build/html/2212.10804.md\n",
      "\t _build/html/2212.10512.md\n",
      "\t _build/html/2212.09766.md\n",
      "\t _build/html/2212.09675.md\n",
      "\t _build/html/2212.09661.md\n",
      "\t _build/html/2212.09652.md\n",
      "\t _build/html/2212.09443.md\n",
      "\t _build/html/2212.09307.md\n",
      "\t _build/html/2212.09168.md\n",
      "\t _build/html/2212.09159.md\n",
      "\t _build/html/2212.08702.md\n",
      "\t _build/html/2212.07332.md\n",
      "\t _build/html/2212.06434.md\n",
      "\t _build/html/2212.04710.md\n",
      "\t _build/html/2212.04026.md\n",
      "\t _build/html/2212.03563.md\n",
      "\t _build/html/2212.03514.md\n",
      "\t _build/html/2212.02667.md\n",
      "\t _build/html/2212.02627.md\n",
      "\t _build/html/2212.02235.md\n",
      "\t _build/html/2212.01707.md\n",
      "\t _build/html/2212.01526.md\n",
      "\t _build/html/2212.01397.md\n",
      "\t _build/html/2212.01291.md\n",
      "\t _build/html/2212.01281.md\n",
      "\t _build/html/2212.00812.md\n",
      "\t _build/html/2212.00811.md\n",
      "\t _build/html/2212.00806.md\n",
      "\t _build/html/2212.00047.md\n",
      "\t _build/html/2212.00032.md\n",
      "\t _build/html/2211.16996.md\n",
      "\t _build/html/2211.16510.md\n",
      "\t _build/html/2211.16123.md\n",
      "\t _build/html/2211.15816.md\n",
      "\t _build/html/2211.15698.md\n",
      "\t _build/html/2211.15576.md\n",
      "\t _build/html/2211.15434.md\n",
      "\t _build/html/2211.15288.md\n",
      "\t _build/html/2211.15224.md\n",
      "\t _build/html/2211.14543.md\n",
      "\t _build/html/2211.14330.md\n",
      "\t _build/html/2211.14322.md\n",
      "\t _build/html/2211.14132.md\n",
      "\t _build/html/2211.13811.md\n",
      "\t _build/html/2211.13426.md\n",
      "\t _build/html/2211.13318.md\n",
      "\t _build/html/2211.13146.md\n",
      "\t _build/html/2211.12613.md\n",
      "\t _build/html/2211.11767.md\n",
      "\t _build/html/2211.09840.md\n",
      "\t _build/html/2211.09217.md\n",
      "\t _build/html/2211.08493.md\n",
      "\t _build/html/2211.08487.md\n",
      "\t _build/html/2211.08294.md\n",
      "\t _build/html/2211.07667.md\n",
      "\t _build/html/2211.07659.md\n",
      "\t _build/html/2211.06454.md\n",
      "\t _build/html/2211.06205.md\n",
      "\t _build/html/2211.06194.md\n",
      "\t _build/html/2211.05022.md\n",
      "\t _build/html/2211.04048.md\n",
      "\t _build/html/2211.03641.md\n",
      "\t _build/html/2211.02502.md\n",
      "\t _build/html/2211.01474.md\n",
      "\t _build/html/2211.00667.md\n",
      "\t _build/html/2211.00657.md\n",
      "\t _build/html/2211.00087.md\n",
      "\t _build/html/2211.00036.md\n",
      "\t _build/html/2211.00020.md\n",
      "\t _build/html/2211.00010.md\n",
      "\t _build/html/2210.17434.md\n",
      "\t _build/html/2210.12412.md\n",
      "\t _build/html/2210.11926.md\n",
      "\t _build/html/2210.11551.md\n",
      "\t _build/html/2210.11103.md\n",
      "\t _build/html/2210.10707.md\n",
      "\t _build/html/2210.09930.md\n",
      "\t _build/html/2210.08996.md\n",
      "\t _build/html/2210.08517.md\n",
      "\t _build/html/2210.08510.md\n",
      "\t _build/html/2210.08078.md\n",
      "\t _build/html/2210.06504.md\n",
      "\t _build/html/2210.05695.md\n",
      "\t _build/html/2210.05595.md\n",
      "\t _build/html/2210.05505.md\n",
      "\t _build/html/2210.04721.md\n",
      "\t _build/html/2210.03615.md\n",
      "\t _build/html/2210.01811.md\n",
      "\t _build/html/2210.01809.md\n",
      "\t _build/html/2210.01556.md\n",
      "\t _build/html/2210.00863.md\n",
      "\t _build/html/2210.00560.md\n",
      "\t _build/html/2209.15403.md\n",
      "\t _build/html/2209.15110.md\n",
      "\t _build/html/2209.14410.md\n",
      "\t _build/html/2209.14396.md\n",
      "\t _build/html/2209.13717.md\n",
      "\t _build/html/2209.13336.md\n",
      "\t _build/html/2209.12906.md\n",
      "\t _build/html/2209.11781.md\n",
      "\t _build/html/2209.11602.md\n",
      "\t _build/html/2209.11248.md\n",
      "\t _build/html/2209.11096.md\n",
      "\t _build/html/2209.10618.md\n",
      "\t _build/html/2209.09914.md\n",
      "\t _build/html/2209.09823.md\n",
      "\t _build/html/2209.08242.md\n",
      "\t _build/html/2209.08120.md\n",
      "\t _build/html/2209.08106.md\n",
      "\t _build/html/2209.07962.md\n",
      "\t _build/html/2209.07931.md\n",
      "\t _build/html/2209.06833.md\n",
      "\t _build/html/2209.05814.md\n",
      "\t _build/html/2209.05593.md\n",
      "\t _build/html/2209.04304.md\n",
      "\t _build/html/2209.03367.md\n",
      "\t _build/html/2209.02872.md\n",
      "\t _build/html/2209.02725.md\n",
      "\t _build/html/2209.02722.md\n",
      "\t _build/html/2209.02092.md\n",
      "\t _build/html/2209.01125.md\n",
      "\t _build/html/2209.00828.md\n",
      "\t _build/html/2209.00363.md\n",
      "\t _build/html/2208.14927.md\n",
      "\t _build/html/2208.09335.md\n",
      "\t _build/html/2208.08872.md\n",
      "\t _build/html/2204.06393.md\n",
      "\t _build/html/2204.03335.md\n",
      "\t _build/html/2204.03253.md\n",
      "\t _build/html/2204.02998.md\n",
      "\t _build/html/2204.02109.md\n",
      "\t _build/html/2204.02017.md\n",
      "\t _build/html/2204.01824.md\n",
      "\t _build/html/2204.01758.md\n",
      "\t _build/html/2204.01245.md\n",
      "\t _build/html/2204.00793.md\n",
      "\t _build/html/2204.00342.md\n",
      "\t _build/html/2203.16959.md\n",
      "\t _build/html/2203.16856.md\n",
      "\t _build/html/2203.16735.md\n",
      "\t _build/html/2203.16734.md\n",
      "\t _build/html/2203.16504.md\n",
      "\t _build/html/2203.15822.md\n",
      "\t _build/html/2203.15811.md\n"
     ]
    }
   ],
   "source": [
    "from datetime import datetime, timedelta, timezone\n",
    "from glob import glob\n",
    "\n",
    "files = glob('_build/html/*.md')\n",
    "days = 7\n",
    "now = datetime.today()\n",
    "res = []\n",
    "for fk in files:\n",
    "    stat_result = os.stat(fk).st_ctime\n",
    "    modified = datetime.fromtimestamp(stat_result, tz=timezone.utc).replace(tzinfo=None)\n",
    "    delta = now.today() - modified\n",
    "    if delta <= timedelta(days=days):\n",
    "        res.append((delta.seconds, fk))\n",
    "res = [k[1] for k in reversed(sorted(res, key=lambda x:x[1]))]\n",
    "npub = len(res)\n",
    "print(len(res), f\" publications in the last {days:d} days.\")\n",
    "[ print('\\t', k) for k in res ];"
   ]
  },
  {
   "cell_type": "code",
   "execution_count": 11,
   "id": "52ca0208",
   "metadata": {
    "execution": {
     "iopub.execute_input": "2023-01-04T04:09:21.334544Z",
     "iopub.status.busy": "2023-01-04T04:09:21.334030Z",
     "iopub.status.idle": "2023-01-04T04:09:21.341951Z",
     "shell.execute_reply": "2023-01-04T04:09:21.341028Z"
    },
    "papermill": {
     "duration": 0.022395,
     "end_time": "2023-01-04T04:09:21.344962",
     "exception": false,
     "start_time": "2023-01-04T04:09:21.322567",
     "status": "completed"
    },
    "scrolled": false,
    "tags": []
   },
   "outputs": [],
   "source": [
    "def create_carousel(npub=4):\n",
    "    \"\"\" Generate the HTML code for a carousel with `npub` slides \"\"\"\n",
    "    carousel = [\"\"\"<section class=\"carousel\" aria-label=\"Gallery\">\"\"\",\n",
    "                \"\"\"  <ol class=\"carousel__viewport\">\"\"\",\n",
    "    ]\n",
    "    for k in range(1, npub + 1):\n",
    "        prev_ = k - 1\n",
    "        next_ = k + 1\n",
    "        if prev_ <= 0:\n",
    "            prev_ = npub\n",
    "        if next_ > npub:\n",
    "            next_ = 1\n",
    "        text  = f\"\"\"    <li id=\"carousel__slide{k}\" tabindex=\"0\" class=\"carousel__slide\">\\n\"\"\"\n",
    "        text += f\"\"\"       <div class=\"carousel__snapper\">\\n\"\"\"\n",
    "        text += f\"\"\"         <a href=\"#carousel__slide{prev_}\" class=\"carousel__prev\">Go to previous slide</a>\\n\"\"\"\n",
    "        text += f\"\"\"         <a href=\"#carousel__slide{next_}\" class=\"carousel__next\">Go to next slide</a>\\n\"\"\"\n",
    "        text += f\"\"\"         <div id=\"slide{k}_content\" class=\"md_view\" >Content {k}</div>\\n\"\"\"\n",
    "        text += f\"\"\"       </div>\\n\"\"\"\n",
    "        text += f\"\"\"    </li>\"\"\"\n",
    "        carousel.append(text)\n",
    "\n",
    "    carousel.extend([\n",
    "        \"\"\"  </ol>\"\"\",\n",
    "        \"\"\"  <aside class=\"carousel__navigation\">\"\"\",\n",
    "        \"\"\"    <ol class=\"carousel__navigation-list\">\"\"\"])\n",
    "\n",
    "    for k in range(1, npub + 1):\n",
    "        text  = f\"\"\"      <li class=\"carousel__navigation-item\">\\n\"\"\"\n",
    "        text += f\"\"\"        <a href=\"#carousel__slide{k}\" class=\"carousel__navigation-button\">Go to {k}</a>\\n\"\"\"\n",
    "        text += f\"\"\"      </li>\"\"\"\n",
    "        carousel.append(text)\n",
    "    carousel.extend([\"\"\"    </ol>\"\"\", \"\"\"  </aside>\"\"\", \"\"\"</section>\"\"\"])\n",
    "\n",
    "    return '\\n'.join(carousel)"
   ]
  },
  {
   "cell_type": "code",
   "execution_count": 12,
   "id": "a6eac5b6",
   "metadata": {
    "execution": {
     "iopub.execute_input": "2023-01-04T04:09:21.368088Z",
     "iopub.status.busy": "2023-01-04T04:09:21.367556Z",
     "iopub.status.idle": "2023-01-04T04:09:21.376482Z",
     "shell.execute_reply": "2023-01-04T04:09:21.375596Z"
    },
    "papermill": {
     "duration": 0.022795,
     "end_time": "2023-01-04T04:09:21.378536",
     "exception": false,
     "start_time": "2023-01-04T04:09:21.355741",
     "status": "completed"
    },
    "scrolled": false,
    "tags": []
   },
   "outputs": [],
   "source": [
    "carousel = create_carousel(npub)\n",
    "docs = ', '.join(['\"{0:s}\"'.format(k.split('/')[-1]) for k in res])\n",
    "slides = ', '.join([f'\"slide{k}_content\"' for k in range(1, npub + 1)])\n",
    "\n",
    "script = f\"\"\"\n",
    "const docs = [{docs}]\n",
    "\n",
    "const slides = [{slides}]\n",
    "\"\"\" + \"\"\"\n",
    "async function run() {\n",
    "    for (let i = 0; i < docs.length; i++) {\n",
    "        let file = await fetch(docs[i]);\n",
    "        let text = await file.text()\n",
    "        document.getElementById(slides[i]).innerHTML =\n",
    "            marked.parse(text);\n",
    "    }\n",
    "    hljs.highlightAll();\n",
    "}\n",
    "run()\n",
    "\"\"\"\n",
    "\n",
    "page = f\"\"\"<!doctype html>\n",
    "<html lang=\"en\">\n",
    "\n",
    "<head>\n",
    "  <meta charset=\"utf-8\">\n",
    "  <meta name=\"viewport\" content=\"width=device-width, initial-scale=1\">\n",
    "  <!-- Bootstrap CSS -->\n",
    "  <link href=\"https://cdn.jsdelivr.net/npm/bootstrap@5.0.2/dist/css/bootstrap.min.css\" rel=\"stylesheet\"\n",
    "   integrity=\"sha384-EVSTQN3/azprG1Anm3QDgpJLIm9Nao0Yz1ztcQTwFspd3yD65VohhpuuCOmLASjC\" crossorigin=\"anonymous\">\n",
    "  <!-- highlight.js CSS -->\n",
    "  <link rel=\"stylesheet\" href=\"https://cdnjs.cloudflare.com/ajax/libs/highlight.js/11.1.0/styles/default.min.css\">\n",
    "  <!-- Mathjax 3 -->\n",
    "  <script type=\"text/javascript\" id=\"MathJax-config\" src=\"mathjax_config.js\"> </script>\n",
    "  <script type=\"text/javascript\" id=\"MathJax-script\" async \n",
    "    src=\"https://cdn.jsdelivr.net/npm/mathjax@3/es5/tex-mml-chtml.js\">\n",
    "  </script>\n",
    "  <link rel=\"stylesheet\" href=\"index_carousel.css\">\n",
    "  <link rel=\"icon\" type=\"image/x-icon\" href=\"https://www.mpia.de/assets/touch-icon-32x32-a66937bcebc4e8894ebff1f41a366c7c7220fd97a38869ee0f2db65a9f59b6c1.png\">\n",
    "  <title>MPIA Arxiv on deck!</title>\n",
    "</head>\n",
    "\n",
    "<body>\n",
    "  <div id=\"header\"> <img src=\"header_banner.png\" width=\"100%\"></div>\n",
    "  <div id=\"suptitle\"> 7-day archives </div>\n",
    "  <div id=\"info\">\n",
    "    <img src=\"https://pngimg.com/uploads/github/github_PNG58.png\" height=30rem></img>\n",
    "    <a href=https://github.com/mpi-astronomy/arxiv_display style=\"color:black;\">github/mpi-astronomy/arxiv_display</a> \n",
    "  </div>\n",
    "  {carousel:s}\n",
    "</body>\n",
    "\n",
    "<!-- Render Markdown -->\n",
    "\n",
    "<body>\n",
    "  <!-- highlight.js: https://highlightjs.org/download/ -->\n",
    "  <script src=\"https://cdnjs.cloudflare.com/ajax/libs/highlight.js/11.5.0/highlight.min.js\"></script>\n",
    "  <!-- marked.js -->\n",
    "  <script src=\"https://cdn.jsdelivr.net/npm/marked/marked.min.js\"></script>\n",
    "  <script>{script:s}</script>\n",
    "</body>\n",
    "</html>\n",
    "\"\"\"\n",
    "with open(\"_build/html/index_7days.html\", 'w') as fout:\n",
    "    fout.write(page)"
   ]
  },
  {
   "cell_type": "markdown",
   "id": "1cebacbc",
   "metadata": {
    "papermill": {
     "duration": 0.011671,
     "end_time": "2023-01-04T04:09:21.401011",
     "exception": false,
     "start_time": "2023-01-04T04:09:21.389340",
     "status": "completed"
    },
    "tags": []
   },
   "source": [
    "# Debugging papers"
   ]
  },
  {
   "cell_type": "raw",
   "id": "debe7cc6",
   "metadata": {
    "papermill": {
     "duration": 0.010583,
     "end_time": "2023-01-04T04:09:21.422766",
     "exception": false,
     "start_time": "2023-01-04T04:09:21.412183",
     "status": "completed"
    },
    "tags": []
   },
   "source": [
    "raise NotImplementedError(\"Manual Stop\")"
   ]
  },
  {
   "cell_type": "raw",
   "id": "eb169192",
   "metadata": {
    "papermill": {
     "duration": 0.046406,
     "end_time": "2023-01-04T04:09:21.480701",
     "exception": false,
     "start_time": "2023-01-04T04:09:21.434295",
     "status": "completed"
    },
    "scrolled": true,
    "tags": []
   },
   "source": [
    "from IPython.display import display, Markdown\n",
    "from TexSoup import TexSoup\n",
    "import re\n",
    "\n",
    "def bracket_error(source: str):\n",
    "    \"\"\" Find problematic portions of the document \"\"\"\n",
    "    \n",
    "    print(\"len(source)\", len(source))\n",
    "    \n",
    "    # Checking header\n",
    "    begin_doc = next(re.finditer(r'\\\\begin\\{document\\}', doc.source)).span()[1]\n",
    "    header = source[:begin_doc]\n",
    "    text = header + r\"\\n\\end{document}\"\n",
    "\n",
    "    try:\n",
    "        # print(\"Header check... \", end='')\n",
    "        TexSoup(text)\n",
    "        display(Markdown(f\"**[OK]** - Header\"))\n",
    "    except:\n",
    "        raise RuntimeError(\"Error in the header\")\n",
    "        \n",
    "    # Check the text per section until the end.\n",
    "    # Do not stop and try them all.\n",
    "    \n",
    "    problematic_text = []\n",
    "    \n",
    "    sections = ([(0, begin_doc, 'until first section')] + \n",
    "                [(g.span()[0], g.span()[1], g.group()) for g in re.finditer(r'\\\\section\\{.*\\}', source)] +\n",
    "                [(g.span()[0], g.span()[1], g.group()) for g in re.finditer(r'\\\\begin\\{appendix\\}', source)]\n",
    "               )\n",
    "    sections.append([len(source), len(source), 'end'])\n",
    "    \n",
    "    sections = sorted(sections, key=lambda x: x[0])\n",
    "    \n",
    "    prev_pos, prev_name = (0, 'header')\n",
    "    parsed = []\n",
    "    \n",
    "    for span, span_end, name in sections:\n",
    "\n",
    "        if span - prev_pos <= 0:\n",
    "            continue\n",
    "            \n",
    "\n",
    "        text = source[prev_pos:span]\n",
    "        if prev_pos > begin_doc:\n",
    "            text = r\"\\n\\begin{document}\" + text + r\"\\n\\end{document}\"\n",
    "        else:\n",
    "            text = text + r\"\\n\\end{document}\"\n",
    "        try:\n",
    "            #print(f\"{prev_pos}:{prev_name}-->{span}:{name} check... \", end='')\n",
    "            parsed.append(TexSoup(text, tolerance=1))  # allow not ending env\n",
    "            display(Markdown(f\"**[OK]** - *{prev_pos}*:{prev_name} &rarr; *{span}*:{name}\"))\n",
    "            # print(\"ok\")\n",
    "\n",
    "            prev_pos = span\n",
    "            prev_name = name\n",
    "        except:\n",
    "            # print(f\"error between {prev_pos} and {span}\")\n",
    "            display(Markdown(f\"**[ERR]** *{prev_pos}*:{prev_name} &rarr; *{span}*:{name}\"))\n",
    "            problematic_text.append((prev_pos, source[prev_pos:span]))\n",
    "            prev_pos = span\n",
    "            prev_name = name\n",
    "            # raise\n",
    "    return problematic_text, parsed\n",
    "\n",
    "\n",
    "def check_environment(text, offset=0):\n",
    "    \"\"\" Check environment \"\"\"\n",
    "    env = re.compile(r\"\\\\begin\\{(?P<env>.*)\\}(.*)\\\\end\\{(?P=env)\\}\", re.DOTALL)\n",
    "\n",
    "    for match in env.finditer(text):\n",
    "        beg, end = match.span()\n",
    "        beg += offset\n",
    "        end += offset\n",
    "        envname = match.groups()[0]\n",
    "        try:\n",
    "            latex.TexSoup(match.group())\n",
    "        except Exception as e:\n",
    "            display(e)\n",
    "            print(f\"Error in {envname:s} between {beg} and {end}\")\n",
    "            return match.groups()[1], beg, end"
   ]
  },
  {
   "cell_type": "raw",
   "id": "2315e835",
   "metadata": {
    "papermill": {
     "duration": 0.010422,
     "end_time": "2023-01-04T04:09:21.501834",
     "exception": false,
     "start_time": "2023-01-04T04:09:21.491412",
     "status": "completed"
    },
    "scrolled": false,
    "tags": []
   },
   "source": [
    "import importlib\n",
    "importlib.reload(latex)\n",
    "which = \"2204.03253\"\n",
    "paper_id = f'{which:s}'\n",
    "folder = f'tmp_{paper_id:s}'\n",
    "\n",
    "if not os.path.isdir(folder):\n",
    "    folder = retrieve_document_source(f\"{paper_id}\", f'tmp_{paper_id}')\n",
    "\n",
    "try:\n",
    "    doc = latex.LatexDocument(folder, validation=validation)    \n",
    "except AffiliationError as affilerror:\n",
    "    msg = f\"ArXiv:{paper_id:s} is not an MPIA paper... \" + str(affilerror)\n",
    "    print(msg)\n",
    "\n",
    "\n",
    "# Hack because sometimes author parsing does not work well\n",
    "if (len(doc.authors) != len(paper['authors'])):\n",
    "    doc._authors = paper['authors']\n",
    "if (doc.abstract) in (None, ''):\n",
    "    doc._abstract = paper['abstract']\n",
    "\n",
    "doc.comment = get_markdown_badge(paper_id) + \" _\" + paper['comments'] + \"_\"\n",
    "doc.highlight_authors_in_list(hl_list)\n",
    "\n",
    "full_md = doc.generate_markdown_text()"
   ]
  },
  {
   "cell_type": "raw",
   "id": "dd3781db",
   "metadata": {
    "papermill": {
     "duration": 0.010885,
     "end_time": "2023-01-04T04:09:21.523580",
     "exception": false,
     "start_time": "2023-01-04T04:09:21.512695",
     "status": "completed"
    },
    "scrolled": false,
    "tags": []
   },
   "source": [
    "doc"
   ]
  },
  {
   "cell_type": "raw",
   "id": "c6eed834",
   "metadata": {
    "papermill": {
     "duration": 0.010103,
     "end_time": "2023-01-04T04:09:21.544098",
     "exception": false,
     "start_time": "2023-01-04T04:09:21.533995",
     "status": "completed"
    },
    "tags": []
   },
   "source": [
    "# [check_environment(k) for k in bracket_error(doc.source)]\n",
    "_, _, a = latex.get_content_per_section(doc.source, verbose=True)\n",
    "if not a:\n",
    "    print(\"no issues per section\")\n",
    "for ak in a:\n",
    "    r = check_environment(ak[1], offset=ak[0])\n",
    "    print(r[1], r[2])\n",
    "    print(r[0])"
   ]
  },
  {
   "cell_type": "code",
   "execution_count": null,
   "id": "71ce768a",
   "metadata": {
    "papermill": {
     "duration": 0.010332,
     "end_time": "2023-01-04T04:09:21.565235",
     "exception": false,
     "start_time": "2023-01-04T04:09:21.554903",
     "status": "completed"
    },
    "tags": []
   },
   "outputs": [],
   "source": []
  }
 ],
 "metadata": {
  "kernelspec": {
   "display_name": "Python 3.10.6 64-bit",
   "language": "python",
   "name": "python3"
  },
  "language_info": {
   "codemirror_mode": {
    "name": "ipython",
    "version": 3
   },
   "file_extension": ".py",
   "mimetype": "text/x-python",
   "name": "python",
   "nbconvert_exporter": "python",
   "pygments_lexer": "ipython3",
   "version": "3.9.16"
  },
  "papermill": {
   "default_parameters": {},
   "duration": 134.868379,
   "end_time": "2023-01-04T04:09:21.897021",
   "environment_variables": {},
   "exception": null,
   "input_path": "MPIA daily digest.ipynb",
   "output_path": "log.ipynb",
   "parameters": {},
   "start_time": "2023-01-04T04:07:07.028642",
   "version": "2.4.0"
  },
  "vscode": {
   "interpreter": {
    "hash": "e7370f93d1d0cde622a1f8e1c04877d8463912d04d973331ad4851f04de6915a"
   }
  },
  "widgets": {
   "application/vnd.jupyter.widget-state+json": {
    "state": {
     "18d6f5e8ce284274bd3bfaf50ef56eba": {
      "model_module": "@jupyter-widgets/controls",
      "model_module_version": "2.0.0",
      "model_name": "HTMLModel",
      "state": {
       "_dom_classes": [],
       "_model_module": "@jupyter-widgets/controls",
       "_model_module_version": "2.0.0",
       "_model_name": "HTMLModel",
       "_view_count": null,
       "_view_module": "@jupyter-widgets/controls",
       "_view_module_version": "2.0.0",
       "_view_name": "HTMLView",
       "description": "",
       "description_allow_html": false,
       "layout": "IPY_MODEL_27e8cbb8159c4862b2f649d06d38fe67",
       "placeholder": "​",
       "style": "IPY_MODEL_92901a48f69749f1863d45cd045b1758",
       "tabbable": null,
       "tooltip": null,
       "value": "100%"
      }
     },
     "27e8cbb8159c4862b2f649d06d38fe67": {
      "model_module": "@jupyter-widgets/base",
      "model_module_version": "2.0.0",
      "model_name": "LayoutModel",
      "state": {
       "_model_module": "@jupyter-widgets/base",
       "_model_module_version": "2.0.0",
       "_model_name": "LayoutModel",
       "_view_count": null,
       "_view_module": "@jupyter-widgets/base",
       "_view_module_version": "2.0.0",
       "_view_name": "LayoutView",
       "align_content": null,
       "align_items": null,
       "align_self": null,
       "border_bottom": null,
       "border_left": null,
       "border_right": null,
       "border_top": null,
       "bottom": null,
       "display": null,
       "flex": null,
       "flex_flow": null,
       "grid_area": null,
       "grid_auto_columns": null,
       "grid_auto_flow": null,
       "grid_auto_rows": null,
       "grid_column": null,
       "grid_gap": null,
       "grid_row": null,
       "grid_template_areas": null,
       "grid_template_columns": null,
       "grid_template_rows": null,
       "height": null,
       "justify_content": null,
       "justify_items": null,
       "left": null,
       "margin": null,
       "max_height": null,
       "max_width": null,
       "min_height": null,
       "min_width": null,
       "object_fit": null,
       "object_position": null,
       "order": null,
       "overflow": null,
       "padding": null,
       "right": null,
       "top": null,
       "visibility": null,
       "width": null
      }
     },
     "541051fee33f4fa185d85666c8a9181d": {
      "model_module": "@jupyter-widgets/base",
      "model_module_version": "2.0.0",
      "model_name": "LayoutModel",
      "state": {
       "_model_module": "@jupyter-widgets/base",
       "_model_module_version": "2.0.0",
       "_model_name": "LayoutModel",
       "_view_count": null,
       "_view_module": "@jupyter-widgets/base",
       "_view_module_version": "2.0.0",
       "_view_name": "LayoutView",
       "align_content": null,
       "align_items": null,
       "align_self": null,
       "border_bottom": null,
       "border_left": null,
       "border_right": null,
       "border_top": null,
       "bottom": null,
       "display": null,
       "flex": null,
       "flex_flow": null,
       "grid_area": null,
       "grid_auto_columns": null,
       "grid_auto_flow": null,
       "grid_auto_rows": null,
       "grid_column": null,
       "grid_gap": null,
       "grid_row": null,
       "grid_template_areas": null,
       "grid_template_columns": null,
       "grid_template_rows": null,
       "height": null,
       "justify_content": null,
       "justify_items": null,
       "left": null,
       "margin": null,
       "max_height": null,
       "max_width": null,
       "min_height": null,
       "min_width": null,
       "object_fit": null,
       "object_position": null,
       "order": null,
       "overflow": null,
       "padding": null,
       "right": null,
       "top": null,
       "visibility": null,
       "width": null
      }
     },
     "6c4bb88c0f9c4c1fb505ebdacd2eaa30": {
      "model_module": "@jupyter-widgets/controls",
      "model_module_version": "2.0.0",
      "model_name": "HBoxModel",
      "state": {
       "_dom_classes": [],
       "_model_module": "@jupyter-widgets/controls",
       "_model_module_version": "2.0.0",
       "_model_name": "HBoxModel",
       "_view_count": null,
       "_view_module": "@jupyter-widgets/controls",
       "_view_module_version": "2.0.0",
       "_view_name": "HBoxView",
       "box_style": "",
       "children": [
        "IPY_MODEL_18d6f5e8ce284274bd3bfaf50ef56eba",
        "IPY_MODEL_f237ef713f47449e8f26b01bea9997f4",
        "IPY_MODEL_fcc89e9181944558a39733d222251eeb"
       ],
       "layout": "IPY_MODEL_541051fee33f4fa185d85666c8a9181d",
       "tabbable": null,
       "tooltip": null
      }
     },
     "7f1472240f1b41e5a7c80fba9387aadd": {
      "model_module": "@jupyter-widgets/controls",
      "model_module_version": "2.0.0",
      "model_name": "ProgressStyleModel",
      "state": {
       "_model_module": "@jupyter-widgets/controls",
       "_model_module_version": "2.0.0",
       "_model_name": "ProgressStyleModel",
       "_view_count": null,
       "_view_module": "@jupyter-widgets/base",
       "_view_module_version": "2.0.0",
       "_view_name": "StyleView",
       "bar_color": null,
       "description_width": ""
      }
     },
     "92901a48f69749f1863d45cd045b1758": {
      "model_module": "@jupyter-widgets/controls",
      "model_module_version": "2.0.0",
      "model_name": "HTMLStyleModel",
      "state": {
       "_model_module": "@jupyter-widgets/controls",
       "_model_module_version": "2.0.0",
       "_model_name": "HTMLStyleModel",
       "_view_count": null,
       "_view_module": "@jupyter-widgets/base",
       "_view_module_version": "2.0.0",
       "_view_name": "StyleView",
       "background": null,
       "description_width": "",
       "font_size": null,
       "text_color": null
      }
     },
     "98607810527e4eb8bcec8da4c306fa22": {
      "model_module": "@jupyter-widgets/controls",
      "model_module_version": "2.0.0",
      "model_name": "HTMLStyleModel",
      "state": {
       "_model_module": "@jupyter-widgets/controls",
       "_model_module_version": "2.0.0",
       "_model_name": "HTMLStyleModel",
       "_view_count": null,
       "_view_module": "@jupyter-widgets/base",
       "_view_module_version": "2.0.0",
       "_view_name": "StyleView",
       "background": null,
       "description_width": "",
       "font_size": null,
       "text_color": null
      }
     },
     "9eae34bc04614595ad236814bfbd90a3": {
      "model_module": "@jupyter-widgets/base",
      "model_module_version": "2.0.0",
      "model_name": "LayoutModel",
      "state": {
       "_model_module": "@jupyter-widgets/base",
       "_model_module_version": "2.0.0",
       "_model_name": "LayoutModel",
       "_view_count": null,
       "_view_module": "@jupyter-widgets/base",
       "_view_module_version": "2.0.0",
       "_view_name": "LayoutView",
       "align_content": null,
       "align_items": null,
       "align_self": null,
       "border_bottom": null,
       "border_left": null,
       "border_right": null,
       "border_top": null,
       "bottom": null,
       "display": null,
       "flex": null,
       "flex_flow": null,
       "grid_area": null,
       "grid_auto_columns": null,
       "grid_auto_flow": null,
       "grid_auto_rows": null,
       "grid_column": null,
       "grid_gap": null,
       "grid_row": null,
       "grid_template_areas": null,
       "grid_template_columns": null,
       "grid_template_rows": null,
       "height": null,
       "justify_content": null,
       "justify_items": null,
       "left": null,
       "margin": null,
       "max_height": null,
       "max_width": null,
       "min_height": null,
       "min_width": null,
       "object_fit": null,
       "object_position": null,
       "order": null,
       "overflow": null,
       "padding": null,
       "right": null,
       "top": null,
       "visibility": null,
       "width": null
      }
     },
     "c72964efc88444ffbbf7d2f35eaf43d0": {
      "model_module": "@jupyter-widgets/base",
      "model_module_version": "2.0.0",
      "model_name": "LayoutModel",
      "state": {
       "_model_module": "@jupyter-widgets/base",
       "_model_module_version": "2.0.0",
       "_model_name": "LayoutModel",
       "_view_count": null,
       "_view_module": "@jupyter-widgets/base",
       "_view_module_version": "2.0.0",
       "_view_name": "LayoutView",
       "align_content": null,
       "align_items": null,
       "align_self": null,
       "border_bottom": null,
       "border_left": null,
       "border_right": null,
       "border_top": null,
       "bottom": null,
       "display": null,
       "flex": null,
       "flex_flow": null,
       "grid_area": null,
       "grid_auto_columns": null,
       "grid_auto_flow": null,
       "grid_auto_rows": null,
       "grid_column": null,
       "grid_gap": null,
       "grid_row": null,
       "grid_template_areas": null,
       "grid_template_columns": null,
       "grid_template_rows": null,
       "height": null,
       "justify_content": null,
       "justify_items": null,
       "left": null,
       "margin": null,
       "max_height": null,
       "max_width": null,
       "min_height": null,
       "min_width": null,
       "object_fit": null,
       "object_position": null,
       "order": null,
       "overflow": null,
       "padding": null,
       "right": null,
       "top": null,
       "visibility": null,
       "width": null
      }
     },
     "f237ef713f47449e8f26b01bea9997f4": {
      "model_module": "@jupyter-widgets/controls",
      "model_module_version": "2.0.0",
      "model_name": "FloatProgressModel",
      "state": {
       "_dom_classes": [],
       "_model_module": "@jupyter-widgets/controls",
       "_model_module_version": "2.0.0",
       "_model_name": "FloatProgressModel",
       "_view_count": null,
       "_view_module": "@jupyter-widgets/controls",
       "_view_module_version": "2.0.0",
       "_view_name": "ProgressView",
       "bar_style": "success",
       "description": "",
       "description_allow_html": false,
       "layout": "IPY_MODEL_c72964efc88444ffbbf7d2f35eaf43d0",
       "max": 14.0,
       "min": 0.0,
       "orientation": "horizontal",
       "style": "IPY_MODEL_7f1472240f1b41e5a7c80fba9387aadd",
       "tabbable": null,
       "tooltip": null,
       "value": 14.0
      }
     },
     "fcc89e9181944558a39733d222251eeb": {
      "model_module": "@jupyter-widgets/controls",
      "model_module_version": "2.0.0",
      "model_name": "HTMLModel",
      "state": {
       "_dom_classes": [],
       "_model_module": "@jupyter-widgets/controls",
       "_model_module_version": "2.0.0",
       "_model_name": "HTMLModel",
       "_view_count": null,
       "_view_module": "@jupyter-widgets/controls",
       "_view_module_version": "2.0.0",
       "_view_name": "HTMLView",
       "description": "",
       "description_allow_html": false,
       "layout": "IPY_MODEL_9eae34bc04614595ad236814bfbd90a3",
       "placeholder": "​",
       "style": "IPY_MODEL_98607810527e4eb8bcec8da4c306fa22",
       "tabbable": null,
       "tooltip": null,
       "value": " 14/14 [01:42&lt;00:00,  3.03s/it]"
      }
     }
    },
    "version_major": 2,
    "version_minor": 0
   }
  }
 },
 "nbformat": 4,
 "nbformat_minor": 5
}