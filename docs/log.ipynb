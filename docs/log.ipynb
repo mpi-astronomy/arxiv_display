{
 "cells": [
  {
   "cell_type": "markdown",
   "id": "92bcb855",
   "metadata": {
    "papermill": {
     "duration": 0.005455,
     "end_time": "2023-08-25T04:03:43.489368",
     "exception": false,
     "start_time": "2023-08-25T04:03:43.483913",
     "status": "completed"
    },
    "tags": []
   },
   "source": [
    "# MPIA Arxiv on Deck 2\n",
    "\n",
    "Contains the steps to produce the paper extractions."
   ]
  },
  {
   "cell_type": "code",
   "execution_count": 1,
   "id": "3a0d6e11",
   "metadata": {
    "execution": {
     "iopub.execute_input": "2023-08-25T04:03:43.498970Z",
     "iopub.status.busy": "2023-08-25T04:03:43.498503Z",
     "iopub.status.idle": "2023-08-25T04:03:43.740755Z",
     "shell.execute_reply": "2023-08-25T04:03:43.740041Z"
    },
    "papermill": {
     "duration": 0.249289,
     "end_time": "2023-08-25T04:03:43.742984",
     "exception": false,
     "start_time": "2023-08-25T04:03:43.493695",
     "status": "completed"
    },
    "tags": []
   },
   "outputs": [],
   "source": [
    "# Imports\n",
    "import os\n",
    "from IPython.display import Markdown, display\n",
    "from tqdm.notebook import tqdm\n",
    "import warnings\n",
    "from PIL import Image \n",
    "\n",
    "# requires arxiv_on_deck_2\n",
    "\n",
    "from arxiv_on_deck_2.arxiv2 import (get_new_papers, \n",
    "                                    get_paper_from_identifier,\n",
    "                                    retrieve_document_source, \n",
    "                                    get_markdown_badge)\n",
    "from arxiv_on_deck_2 import (latex,\n",
    "                             latex_bib,\n",
    "                             mpia,\n",
    "                             highlight_authors_in_list)\n",
    "\n",
    "# Sometimes images are really big\n",
    "Image.MAX_IMAGE_PIXELS = 1000000000 "
   ]
  },
  {
   "cell_type": "code",
   "execution_count": 2,
   "id": "22aa9d44",
   "metadata": {
    "execution": {
     "iopub.execute_input": "2023-08-25T04:03:43.752721Z",
     "iopub.status.busy": "2023-08-25T04:03:43.752103Z",
     "iopub.status.idle": "2023-08-25T04:03:43.757952Z",
     "shell.execute_reply": "2023-08-25T04:03:43.757286Z"
    },
    "papermill": {
     "duration": 0.012347,
     "end_time": "2023-08-25T04:03:43.759660",
     "exception": false,
     "start_time": "2023-08-25T04:03:43.747313",
     "status": "completed"
    },
    "tags": []
   },
   "outputs": [],
   "source": [
    "# Some useful definitions.\n",
    "\n",
    "class AffiliationWarning(UserWarning):\n",
    "    pass\n",
    "\n",
    "class AffiliationError(RuntimeError):\n",
    "    pass\n",
    "\n",
    "def validation(source: str):\n",
    "    \"\"\"Raises error paper during parsing of source file\n",
    "    \n",
    "    Allows checks before parsing TeX code.\n",
    "    \n",
    "    Raises AffiliationWarning\n",
    "    \"\"\"\n",
    "    check = mpia.affiliation_verifications(source, verbose=True)\n",
    "    if check is not True:\n",
    "        raise AffiliationError(\"mpia.affiliation_verifications: \" + check)\n",
    "\n",
    "        \n",
    "warnings.simplefilter('always', AffiliationWarning)\n",
    "\n",
    "\n",
    "def get_markdown_qrcode(paper_id: str):\n",
    "    \"\"\" Generate a qrcode to the arxiv page using qrserver.com\n",
    "    \n",
    "    :param paper: Arxiv paper\n",
    "    :returns: markdown text\n",
    "    \"\"\"\n",
    "    url = r\"https://api.qrserver.com/v1/create-qr-code/?size=100x100&data=\"\n",
    "    txt = f\"\"\"<img src={url}\"https://arxiv.org/abs/{paper_id}\">\"\"\"\n",
    "    txt = '<div id=\"qrcode\">' + txt + '</div>'\n",
    "    return txt"
   ]
  },
  {
   "cell_type": "markdown",
   "id": "14bd6310",
   "metadata": {
    "papermill": {
     "duration": 0.003403,
     "end_time": "2023-08-25T04:03:43.766524",
     "exception": false,
     "start_time": "2023-08-25T04:03:43.763121",
     "status": "completed"
    },
    "tags": []
   },
   "source": [
    "## get list of arxiv paper candidates\n",
    "\n",
    "We use the MPIA mitarbeiter list webpage from mpia.de to get author names\n",
    "We then get all new papers from Arxiv and match authors"
   ]
  },
  {
   "cell_type": "code",
   "execution_count": 3,
   "id": "2645e73a",
   "metadata": {
    "execution": {
     "iopub.execute_input": "2023-08-25T04:03:43.776065Z",
     "iopub.status.busy": "2023-08-25T04:03:43.775614Z",
     "iopub.status.idle": "2023-08-25T04:04:05.483430Z",
     "shell.execute_reply": "2023-08-25T04:04:05.481848Z"
    },
    "papermill": {
     "duration": 21.713909,
     "end_time": "2023-08-25T04:04:05.485267",
     "exception": false,
     "start_time": "2023-08-25T04:03:43.771358",
     "status": "completed"
    },
    "tags": []
   },
   "outputs": [
    {
     "name": "stdout",
     "output_type": "stream",
     "text": [
      "J. He  ->  J. He  |  ['J. He']\n",
      "K. Jahnke  ->  K. Jahnke  |  ['K. Jahnke']\n",
      "Arxiv has 59 new papers today\n",
      "          2 with possible author matches\n"
     ]
    }
   ],
   "source": [
    "# get list from MPIA website\n",
    "# it automatically filters identified non-scientists :func:`mpia.filter_non_scientists`\n",
    "mpia_authors = mpia.get_mpia_mitarbeiter_list()\n",
    "normed_mpia_authors = [k[1] for k in mpia_authors]   # initials + fullname\n",
    "new_papers = get_new_papers()\n",
    "# add manual references\n",
    "add_paper_refs = []\n",
    "new_papers.extend([get_paper_from_identifier(k) for k in add_paper_refs])\n",
    "\n",
    "candidates = []\n",
    "for paperk in new_papers:\n",
    "    # Check author list with their initials\n",
    "    normed_author_list = [mpia.get_initials(k) for k in paperk['authors']]\n",
    "    hl_authors = highlight_authors_in_list(normed_author_list, normed_mpia_authors, verbose=True)\n",
    "    matches = [(hl, orig) for hl, orig in zip(hl_authors, paperk['authors']) if 'mark' in hl]\n",
    "    paperk['authors'] = hl_authors\n",
    "    if matches:\n",
    "        # only select paper if an author matched our list\n",
    "        candidates.append(paperk)\n",
    "print(\"\"\"Arxiv has {0:,d} new papers today\"\"\".format(len(new_papers)))        \n",
    "print(\"\"\"          {0:,d} with possible author matches\"\"\".format(len(candidates)))"
   ]
  },
  {
   "cell_type": "markdown",
   "id": "3543b34a",
   "metadata": {
    "papermill": {
     "duration": 0.004113,
     "end_time": "2023-08-25T04:04:05.493369",
     "exception": false,
     "start_time": "2023-08-25T04:04:05.489256",
     "status": "completed"
    },
    "tags": []
   },
   "source": [
    "# Parse sources and generate relevant outputs\n",
    "\n",
    "From the candidates, we do the following steps:\n",
    "* get their tarball from ArXiv (and extract data)\n",
    "* find the main .tex file: find one with \\documentclass{...} (sometimes it's non trivial)\n",
    "* Check affiliations with :func:`validation`, which uses :func:`mpia.affiliation_verifications`\n",
    "* If passing the affiliations: we parse the .tex source\n",
    "   * inject sub-documents into the main (flatten the main document)\n",
    "   * parse structure, extract information (title, abstract, authors, figures...)\n",
    "   * handles `\\graphicspath` if provided\n",
    "* Generate the .md document."
   ]
  },
  {
   "cell_type": "code",
   "execution_count": 4,
   "id": "9576b79e",
   "metadata": {
    "execution": {
     "iopub.execute_input": "2023-08-25T04:04:05.501956Z",
     "iopub.status.busy": "2023-08-25T04:04:05.501624Z",
     "iopub.status.idle": "2023-08-25T04:05:08.631823Z",
     "shell.execute_reply": "2023-08-25T04:05:08.631017Z"
    },
    "papermill": {
     "duration": 63.136568,
     "end_time": "2023-08-25T04:05:08.633508",
     "exception": false,
     "start_time": "2023-08-25T04:04:05.496940",
     "status": "completed"
    },
    "scrolled": false,
    "tags": []
   },
   "outputs": [
    {
     "data": {
      "application/vnd.jupyter.widget-view+json": {
       "model_id": "08295a1611e84d84a76bbd5ccab2531d",
       "version_major": 2,
       "version_minor": 0
      },
      "text/plain": [
       "  0%|          | 0/2 [00:00<?, ?it/s]"
      ]
     },
     "metadata": {},
     "output_type": "display_data"
    },
    {
     "name": "stdout",
     "output_type": "stream",
     "text": [
      "Retrieving document from  https://arxiv.org/e-print/2308.12379\n"
     ]
    },
    {
     "name": "stdout",
     "output_type": "stream",
     "text": [
      "extracting tarball to tmp_2308.12379..."
     ]
    },
    {
     "name": "stdout",
     "output_type": "stream",
     "text": [
      " done.\n"
     ]
    },
    {
     "name": "stdout",
     "output_type": "stream",
     "text": [
      "Found 65 bibliographic references in tmp_2308.12379/aanda.bbl.\n",
      "syntax error in line 65: '}' expected\n",
      "Retrieving document from  https://arxiv.org/e-print/2308.12823\n"
     ]
    },
    {
     "name": "stdout",
     "output_type": "stream",
     "text": [
      "extracting tarball to tmp_2308.12823... done.\n"
     ]
    },
    {
     "name": "stdout",
     "output_type": "stream",
     "text": [
      "K. Jahnke  ->  K. Jahnke  |  ['K. Jahnke']\n"
     ]
    },
    {
     "name": "stdout",
     "output_type": "stream",
     "text": [
      "Found 77 bibliographic references in tmp_2308.12823/j1000104_photoz_paper.bbl.\n"
     ]
    }
   ],
   "source": [
    "documents = []\n",
    "failed = []\n",
    "for paper in tqdm(candidates):\n",
    "    paper_id = paper['identifier'].lower().replace('arxiv:', '')\n",
    "    \n",
    "    folder = f'tmp_{paper_id}'\n",
    "\n",
    "    try:\n",
    "        if not os.path.isdir(folder):\n",
    "            folder = retrieve_document_source(f\"{paper_id}\", f'tmp_{paper_id}')\n",
    "        \n",
    "        try:\n",
    "            doc = latex.LatexDocument(folder, validation=validation)    \n",
    "        except AffiliationError as affilerror:\n",
    "            msg = f\"ArXiv:{paper_id:s} is not an MPIA paper... \" + str(affilerror)\n",
    "            failed.append((paper, \"affiliation error: \" + str(affilerror) ))\n",
    "            continue\n",
    "        \n",
    "        # Hack because sometimes author parsing does not work well\n",
    "        if (len(doc.authors) != len(paper['authors'])):\n",
    "            doc._authors = paper['authors']\n",
    "        else:\n",
    "            # highlight authors (FIXME: doc.highlight_authors)\n",
    "            # done on arxiv paper already\n",
    "            doc._authors = highlight_authors_in_list(\n",
    "                [mpia.get_initials(k) for k in doc.authors], \n",
    "                normed_mpia_authors, verbose=True)\n",
    "        if (doc.abstract) in (None, ''):\n",
    "            doc._abstract = paper['abstract']\n",
    "            \n",
    "        doc.comment = (get_markdown_badge(paper_id) + \n",
    "                       \"<mark>Appeared on: \" + paper['date'] + \"</mark> - \")\n",
    "        if paper['comments']:\n",
    "            doc.comment += \" _\" + paper['comments'] + \"_\"\n",
    "        \n",
    "        full_md = doc.generate_markdown_text()\n",
    "        \n",
    "        full_md += get_markdown_qrcode(paper_id)\n",
    "        \n",
    "        # replace citations\n",
    "        try:\n",
    "            bibdata = latex_bib.LatexBib.from_doc(doc)\n",
    "            full_md = latex_bib.replace_citations(full_md, bibdata)\n",
    "        except Exception as e:\n",
    "            print(e)\n",
    "        \n",
    "        documents.append((paper_id, full_md))\n",
    "    except Exception as e:\n",
    "        warnings.warn(latex.LatexWarning(f\"{paper_id:s} did not run properly\\n\" +\n",
    "                                         str(e)\n",
    "                                        ))\n",
    "        failed.append((paper, \"latex error \" + str(e)))"
   ]
  },
  {
   "cell_type": "markdown",
   "id": "2505a25c",
   "metadata": {
    "papermill": {
     "duration": 0.004291,
     "end_time": "2023-08-25T04:05:08.642277",
     "exception": false,
     "start_time": "2023-08-25T04:05:08.637986",
     "status": "completed"
    },
    "tags": []
   },
   "source": [
    "### Export the logs\n",
    "\n",
    "Throughout, we also keep track of the logs per paper. see `logs-{today date}.md` "
   ]
  },
  {
   "cell_type": "code",
   "execution_count": 5,
   "id": "d733828a",
   "metadata": {
    "execution": {
     "iopub.execute_input": "2023-08-25T04:05:08.652510Z",
     "iopub.status.busy": "2023-08-25T04:05:08.651770Z",
     "iopub.status.idle": "2023-08-25T04:05:08.665888Z",
     "shell.execute_reply": "2023-08-25T04:05:08.665196Z"
    },
    "papermill": {
     "duration": 0.022599,
     "end_time": "2023-08-25T04:05:08.669059",
     "exception": false,
     "start_time": "2023-08-25T04:05:08.646460",
     "status": "completed"
    },
    "scrolled": false,
    "tags": []
   },
   "outputs": [
    {
     "data": {
      "text/markdown": [
       "## Successful papers"
      ],
      "text/plain": [
       "<IPython.core.display.Markdown object>"
      ]
     },
     "metadata": {},
     "output_type": "display_data"
    },
    {
     "data": {
      "text/markdown": [
       "\n",
       "|||\n",
       "|---:|:---|\n",
       "| [![arXiv](https://img.shields.io/badge/arXiv-arXiv:2308.12379-b31b1b.svg)](https://arxiv.org/abs/arXiv:2308.12379) | **Water ice: temperature-dependent refractive indexes and their  astrophysical implications**  |\n",
       "|| W. R. M. Rocha, et al. -- incl., <mark>J. He</mark> |\n",
       "|*Appeared on*| *2023-08-25*|\n",
       "|*Comments*| *Accepted for publication in A&A, 12 pages, 15 figures*|\n",
       "|**Abstract**| Interstellar ices are largely composed of frozen water. It is important to derive fundamental parameters for H$_2$O ice such as absorption and scattering opacities for which accurate complex refractive indexes are needed. The primary goal of this work is to derive ice-grain opacities based on accurate H$_2$O ice complex refractive indexes and to assess their impact on the derivation of ice column densities and porosity in space. We use the \\texttt{optool} code to derive ice-grain opacities values based on new mid-IR complex refractive index measurements of H$_2$O ice. Next, we use those opacities in the \\texttt{RADMC-3D} code to run a radiative transfer simulation of a protostellar envelope containing H$_2$O ice. This is used to calculate water ice column densities. We find that the real refractive index in the mid-IR of H$_2$O ice at 30~K is $\\sim$14\\% lower than previously reported in the literature. This has a direct impact on the ice column densities derived from the simulations of embedded protostars. We find that ice porosity plays a significant role in the opacity of icy grains and that the H$_2$O libration mode can be used as a diagnostic tool to constrain the porosity level. Finally, the refractive indexes presented here allow us to estimate a grain size detection limit of 18~$\\mu$m based on the 3~$\\mu$m band whereas the 6~$\\mu$m band allows tracing grain sizes larger than 20~$\\mu$m. Based on radiative transfer simulations using new mid-IR refractive indexes, we conclude that H$_2$O ice leads to more absorption of infrared light than previously estimated. This implies that the 3 and 6~$\\mu$m bands remain detectable in icy grains with sizes larger than 10~$\\mu$m. Finally, we propose that also the H$_2$O ice libration band can be a diagnostic tool to constrain the porosity level of the interstellar ice, in addition to the OH dangling bond, which is routinely used for this purpose. |"
      ],
      "text/plain": [
       "[arXiv:2308.12379] Water ice: temperature-dependent refractive indexes and their  astrophysical implications\n",
       "\tW. R. M. Rocha, et al. -- incl., <mark>J. He</mark>"
      ]
     },
     "metadata": {},
     "output_type": "display_data"
    },
    {
     "data": {
      "text/markdown": [
       "\n",
       "|||\n",
       "|---:|:---|\n",
       "| [![arXiv](https://img.shields.io/badge/arXiv-arXiv:2308.12823-b31b1b.svg)](https://arxiv.org/abs/arXiv:2308.12823) | **Uncovering a Massive z~7.65 Galaxy Hosting a Heavily Obscured Radio-Loud  QSO Candidate in COSMOS-Web**  |\n",
       "|| E. Lambrides, et al. -- incl., <mark>K. Jahnke</mark> |\n",
       "|*Appeared on*| *2023-08-25*|\n",
       "|*Comments*| *Submitted to ApJL, Comments welcome*|\n",
       "|**Abstract**| In this letter, we report the discovery of the highest redshift, heavily obscured, radio-loud QSO candidate selected using JWST NIRCam/MIRI, mid-IR, sub-mm, and radio imaging in the COSMOS-Web field. Using multi-frequency radio observations and mid-IR photometry, we identify a powerful, radio-loud (RL), growing supermassive black hole (SMBH) with significant spectral steepening of the radio SED ($f_{1.32 \\mathrm{GHz}} \\sim 2$ mJy, $q_{24\\mu m} = -1.1$, $\\alpha_{1.32-3\\mathrm{GHz}}=-1.2$, $\\Delta \\alpha = -0.4$). In conjunction with ALMA, deep ground-based observations, ancillary space-based data, and the unprecedented resolution and sensitivity of JWST, we find no evidence of QSO contribution to the UV/optical/NIR data and thus infer heavy amounts of obscuration (N$_{\\mathrm{H}} > 10^{23}$ cm$^{-2}$). Using the wealth of deep UV to sub-mm photometric data, we report a singular solution photo-z of $z_\\mathrm{phot}$ = 7.65$^{+0.4}_{-0.3}$ and estimate an extremely massive host-galaxy ($\\log M_{\\star} = 11.92 \\pm 0.06\\,\\mathrm{M}_{\\odot}$). This source represents the furthest known obscured RL QSO candidate, and its level of obscuration aligns with the most representative but observationally scarce population of QSOs at these epochs. |"
      ],
      "text/plain": [
       "[arXiv:2308.12823] Uncovering a Massive z~7.65 Galaxy Hosting a Heavily Obscured Radio-Loud  QSO Candidate in COSMOS-Web\n",
       "\tE. Lambrides, et al. -- incl., <mark>K. Jahnke</mark>"
      ]
     },
     "metadata": {},
     "output_type": "display_data"
    },
    {
     "data": {
      "text/markdown": [
       "## Failed papers"
      ],
      "text/plain": [
       "<IPython.core.display.Markdown object>"
      ]
     },
     "metadata": {},
     "output_type": "display_data"
    }
   ],
   "source": [
    "import datetime\n",
    "today = str(datetime.date.today())\n",
    "logfile = f\"_build/html/logs/log-{today}.md\"\n",
    "\n",
    "\n",
    "with open(logfile, 'w') as logs:\n",
    "    # Success\n",
    "    logs.write(f'# Arxiv on Deck 2: Logs - {today}\\n\\n')\n",
    "    logs.write(\"\"\"* Arxiv had {0:,d} new papers\\n\"\"\".format(len(new_papers)))\n",
    "    logs.write(\"\"\"    * {0:,d} with possible author matches\\n\\n\"\"\".format(len(candidates)))\n",
    "    logs.write(\"## Sucessful papers\\n\\n\")\n",
    "    display(Markdown(\"## Successful papers\"))\n",
    "    success = [k[0] for k in documents]\n",
    "    for candid in candidates:\n",
    "        if candid['identifier'].split(':')[-1] in success:\n",
    "            display(candid)\n",
    "            logs.write(candid.generate_markdown_text() + '\\n\\n')\n",
    "\n",
    "    ## failed\n",
    "    logs.write(\"## Failed papers\\n\\n\")\n",
    "    display(Markdown(\"## Failed papers\"))\n",
    "    failed = sorted(failed, key=lambda x: x[1])\n",
    "    current_reason = \"\"\n",
    "    for paper, reason in failed:\n",
    "        if 'affiliation' in reason:\n",
    "            color = 'green'\n",
    "        else:\n",
    "            color = 'red'\n",
    "        data = Markdown(\n",
    "                paper.generate_markdown_text() + \n",
    "                f'\\n|<p style=\"color:{color:s}\"> **ERROR** </p>| <p style=\"color:{color:s}\">{reason:s}</p> |'\n",
    "               )\n",
    "        if reason != current_reason:\n",
    "            logs.write(f'### {reason:s} \\n\\n')\n",
    "            current_reason = reason\n",
    "        logs.write(data.data + '\\n\\n')\n",
    "        \n",
    "        # only display here the important errors (all in logs)\n",
    "        # if color in ('red',):\n",
    "        display(data)"
   ]
  },
  {
   "cell_type": "markdown",
   "id": "472d20ee",
   "metadata": {
    "papermill": {
     "duration": 0.004671,
     "end_time": "2023-08-25T04:05:08.678405",
     "exception": false,
     "start_time": "2023-08-25T04:05:08.673734",
     "status": "completed"
    },
    "tags": []
   },
   "source": [
    "## Export documents\n",
    "\n",
    "We now write the .md files and export relevant images"
   ]
  },
  {
   "cell_type": "code",
   "execution_count": 6,
   "id": "d426aed9",
   "metadata": {
    "execution": {
     "iopub.execute_input": "2023-08-25T04:05:08.689051Z",
     "iopub.status.busy": "2023-08-25T04:05:08.688563Z",
     "iopub.status.idle": "2023-08-25T04:05:08.696216Z",
     "shell.execute_reply": "2023-08-25T04:05:08.695671Z"
    },
    "papermill": {
     "duration": 0.014616,
     "end_time": "2023-08-25T04:05:08.697638",
     "exception": false,
     "start_time": "2023-08-25T04:05:08.683022",
     "status": "completed"
    },
    "tags": []
   },
   "outputs": [],
   "source": [
    "def export_markdown_summary(md: str, md_fname:str, directory: str):\n",
    "    \"\"\"Export MD document and associated relevant images\"\"\"\n",
    "    import os\n",
    "    import shutil\n",
    "    import re\n",
    "\n",
    "    if (os.path.exists(directory) and not os.path.isdir(directory)):\n",
    "        raise RuntimeError(f\"a non-directory file exists with name {directory:s}\")\n",
    "\n",
    "    if (not os.path.exists(directory)):\n",
    "        print(f\"creating directory {directory:s}\")\n",
    "        os.mkdir(directory)\n",
    "\n",
    "    fig_fnames = (re.compile(r'\\[Fig.*\\]\\((.*)\\)').findall(md) + \n",
    "                  re.compile(r'\\<img src=\"([^>\\s]*)\"[^>]*/>').findall(md))\n",
    "    for fname in fig_fnames:\n",
    "        if 'http' in fname:\n",
    "            # No need to copy online figures\n",
    "            continue\n",
    "        destdir = os.path.join(directory, os.path.dirname(fname))\n",
    "        destfname = os.path.join(destdir, os.path.basename(fname))\n",
    "        try:\n",
    "            os.makedirs(destdir)\n",
    "        except FileExistsError:\n",
    "            pass\n",
    "        shutil.copy(fname, destfname)\n",
    "    with open(os.path.join(directory, md_fname), 'w') as fout:\n",
    "        fout.write(md)\n",
    "    print(\"exported in \", os.path.join(directory, md_fname))\n",
    "    [print(\"    + \" + os.path.join(directory,fk)) for fk in fig_fnames]"
   ]
  },
  {
   "cell_type": "code",
   "execution_count": 7,
   "id": "014d04a4",
   "metadata": {
    "execution": {
     "iopub.execute_input": "2023-08-25T04:05:08.708265Z",
     "iopub.status.busy": "2023-08-25T04:05:08.707831Z",
     "iopub.status.idle": "2023-08-25T04:05:08.720361Z",
     "shell.execute_reply": "2023-08-25T04:05:08.719696Z"
    },
    "papermill": {
     "duration": 0.019449,
     "end_time": "2023-08-25T04:05:08.721803",
     "exception": false,
     "start_time": "2023-08-25T04:05:08.702354",
     "status": "completed"
    },
    "tags": []
   },
   "outputs": [
    {
     "name": "stdout",
     "output_type": "stream",
     "text": [
      "exported in  _build/html/2308.12379.md\n",
      "    + _build/html/tmp_2308.12379/./Figures/opac_mie.png\n",
      "    + _build/html/tmp_2308.12379/./Figures/AllNKsV4.png\n",
      "    + _build/html/tmp_2308.12379/./Figures/NiceV3.png\n",
      "exported in  _build/html/2308.12823.md\n",
      "    + _build/html/tmp_2308.12823/./photo-z_cosw-106725-1.png\n",
      "    + _build/html/tmp_2308.12823/./global_sed_cosw.png\n",
      "    + _build/html/tmp_2308.12823/./updated_cosw_radio_sed.png\n"
     ]
    }
   ],
   "source": [
    "for paper_id, md in documents:\n",
    "    export_markdown_summary(md, f\"{paper_id:s}.md\", '_build/html/')"
   ]
  },
  {
   "cell_type": "markdown",
   "id": "f087a0a7",
   "metadata": {
    "papermill": {
     "duration": 0.0048,
     "end_time": "2023-08-25T04:05:08.731356",
     "exception": false,
     "start_time": "2023-08-25T04:05:08.726556",
     "status": "completed"
    },
    "tags": []
   },
   "source": [
    "## Display the papers\n",
    "\n",
    "Not necessary but allows for a quick check."
   ]
  },
  {
   "cell_type": "code",
   "execution_count": 8,
   "id": "fd25f625",
   "metadata": {
    "execution": {
     "iopub.execute_input": "2023-08-25T04:05:08.742414Z",
     "iopub.status.busy": "2023-08-25T04:05:08.741798Z",
     "iopub.status.idle": "2023-08-25T04:05:08.748462Z",
     "shell.execute_reply": "2023-08-25T04:05:08.747748Z"
    },
    "papermill": {
     "duration": 0.013964,
     "end_time": "2023-08-25T04:05:08.750084",
     "exception": false,
     "start_time": "2023-08-25T04:05:08.736120",
     "status": "completed"
    },
    "scrolled": false,
    "tags": []
   },
   "outputs": [
    {
     "data": {
      "text/markdown": [
       "<div class=\"macros\" style=\"visibility:hidden;\">\n",
       "$\\newcommand{\\ensuremath}{}$\n",
       "$\\newcommand{\\xspace}{}$\n",
       "$\\newcommand{\\object}[1]{\\texttt{#1}}$\n",
       "$\\newcommand{\\farcs}{{.}''}$\n",
       "$\\newcommand{\\farcm}{{.}'}$\n",
       "$\\newcommand{\\arcsec}{''}$\n",
       "$\\newcommand{\\arcmin}{'}$\n",
       "$\\newcommand{\\ion}[2]{#1#2}$\n",
       "$\\newcommand{\\textsc}[1]{\\textrm{#1}}$\n",
       "$\\newcommand{\\hl}[1]{\\textrm{#1}}$\n",
       "$\\newcommand{\\footnote}[1]{}$\n",
       "$\\newcommand{\\arraystretch}{1.5}$\n",
       "$\\newcommand{\\arraystretch}{1.5}$\n",
       "$\\newcommand{\\arraystretch}{1.5}$</div>\n",
       "\n",
       "\n",
       "\n",
       "<div id=\"title\">\n",
       "\n",
       "# Water ice: temperature-dependent refractive indexes and their astrophysical implications\n",
       "\n",
       "</div>\n",
       "<div id=\"comments\">\n",
       "\n",
       "[![arXiv](https://img.shields.io/badge/arXiv-2308.12379-b31b1b.svg)](https://arxiv.org/abs/2308.12379)<mark>Appeared on: 2023-08-25</mark> -  _Accepted for publication in A&A, 12 pages, 15 figures_\n",
       "\n",
       "</div>\n",
       "<div id=\"authors\">\n",
       "\n",
       "W. R. M. Rocha, et al. -- incl., <mark>J. He</mark>\n",
       "\n",
       "</div>\n",
       "<div id=\"abstract\">\n",
       "\n",
       "**Abstract:** Inter- and circumstellar ices are largely composed of frozen water. Therefore, it is important to derive fundamental parameters for $H_2$ O ice such as absorption and scattering opacities for which accurate complex refractive indexes are needed. The primary goal of the work presented here is to derive ice-grain opacities based on accurate $H_2$ O ice complex refractive indexes at low temperatures and to assess the impact this has on the derivation of ice column densities and porosity in space. We use the \\texttt{optool} code to derive ice-grain scattering and absorption opacity values based on new and previously reported mid-IR complex refractive index measurements of $H_2$ O ice, primarily in its amorphous form, but not exclusively. Next, we use those opacities in the \\texttt{RADMC-3D} code to run a radiative transfer simulation of a protostellar envelope containing $H_2$ O ice, which is then used to calculate water ice column densities. We find that the real refractive index in the mid-IR of $H_2$ O ice at 30 K is $\\sim$ 14 \\% lower than previously reported in the literature. This has a direct impact on the ice column densities derived from the simulations of embedded protostars. Additionally, we find that ice porosity plays a significant role in the opacity of icy grains and that the $H_2$ O libration mode can be used as a diagnostic tool to constrain the porosity level. Finally, the refractive indexes presented here allow us to estimate a grain size detection limit of 18 $\\mu$ m based on the 3 $\\mu$ m band whereas the 6 $\\mu$ m band allows tracing grain sizes larger than 20 $\\mu$ m. Based on radiative transfer simulations using new mid-IR refractive indexes, we conclude that $H_2$ O ice leads to more absorption of infrared light than previously estimated. This implies that the 3 and 6 $\\mu$ m bands remain detectable in icy grains with sizes larger than 10 $\\mu$ m. Finally, we propose that also the $H_2$ O ice libration band can be used as a diagnostic tool to constrain the porosity level of the interstellar ice, in addition to the OH dangling bond, which is now routinely used for this purpose.\n",
       "\n",
       "</div>\n",
       "\n",
       "<div id=\"div_fig1\">\n",
       "\n",
       "<img src=\"tmp_2308.12379/./Figures/opac_mie.png\" alt=\"Fig3\" width=\"100%\"/>\n",
       "\n",
       "**Figure 3. -** Absorption (upper panels) and scattering (lower panels)  opacities of ice-dust grains assuming compact (left) and porous ices (right). Lines in black are the opacities assuming the water ice refractive index derived in this paper, i.e., assuming $n_{700nm} = 1.16$(NK1), whereas curves in red show the opacities calculated using $n_{700nm} = 1.32$(NK2). The small panels below the large ones show the variation between the two opacities in percentage values. A small offset is performed on the absorption opacities for better readability. No offset is applied to the scattering opacity. The rectangular regions indicated by the grey dotted boxes are zoomed-in in Figure \\ref{opac_mie_zoom}. (*opac_mie*)\n",
       "\n",
       "</div>\n",
       "<div id=\"div_fig2\">\n",
       "\n",
       "<img src=\"tmp_2308.12379/./Figures/AllNKsV4.png\" alt=\"Fig15\" width=\"100%\"/>\n",
       "\n",
       "**Figure 15. -** Wavelength-dependent refractive index of $H_2$O ice at different temperatures. Panels _ a_ and _ b_ show the real and imaginary parts of the complex refractive index in a broad-range perspective (0.3$-$20 $\\mu$m). Panels _ c$-$h_ show zoom-ins of selected wavelengths in panels _ a_ and _ b_ indicated by the hatched areas. (*nkallT*)\n",
       "\n",
       "</div>\n",
       "<div id=\"div_fig3\">\n",
       "\n",
       "<img src=\"tmp_2308.12379/./Figures/NiceV3.png\" alt=\"Fig8\" width=\"100%\"/>\n",
       "\n",
       "**Figure 8. -** Effects of opacity values derived for grains under the DHS approach by assuming the NK1 and NK2 values. Panel $a$ shows the synthetic protostellar spectrum with $H_2$O ice and silicate absorption bands calculated from opacity models based on NK1 (black) and NK2 (red) refractive index values. The black and red and dashed lines over the 3 $\\mu$m feature are the continuum. The blue box around 13 $\\mu$m highlights the absence of the $H_2$O libration band in the spectrum derived from NK2 values. Panel $b$ displays the same as panel $a$ but for porous ice. Panels $c$ and $d$ present the $H_2$O ice column density derived from the optical depth spectrum using compact and porous ices, respectively. Finally, Panels $e$ and $f$ compare the ice column densities from both cases (grey: NK1; red: NK2). (*Nice*)\n",
       "\n",
       "</div><div id=\"qrcode\"><img src=https://api.qrserver.com/v1/create-qr-code/?size=100x100&data=\"https://arxiv.org/abs/2308.12379\"></div>"
      ],
      "text/plain": [
       "<IPython.core.display.Markdown object>"
      ]
     },
     "metadata": {},
     "output_type": "display_data"
    },
    {
     "data": {
      "text/markdown": [
       "<div class=\"macros\" style=\"visibility:hidden;\">\n",
       "$\\newcommand{\\ensuremath}{}$\n",
       "$\\newcommand{\\xspace}{}$\n",
       "$\\newcommand{\\object}[1]{\\texttt{#1}}$\n",
       "$\\newcommand{\\farcs}{{.}''}$\n",
       "$\\newcommand{\\farcm}{{.}'}$\n",
       "$\\newcommand{\\arcsec}{''}$\n",
       "$\\newcommand{\\arcmin}{'}$\n",
       "$\\newcommand{\\ion}[2]{#1#2}$\n",
       "$\\newcommand{\\textsc}[1]{\\textrm{#1}}$\n",
       "$\\newcommand{\\hl}[1]{\\textrm{#1}}$\n",
       "$\\newcommand{\\footnote}[1]{}$\n",
       "$\\newcommand{\\vdag}{(v)^\\dagger}$\n",
       "$\\newcommand$\n",
       "$\\newcommand$</div>\n",
       "\n",
       "\n",
       "\n",
       "<div id=\"title\">\n",
       "\n",
       "# Uncovering a Massive z$\\sim$7.65 Galaxy Hosting a Heavily Obscured Radio-Loud QSO Candidate in COSMOS-Web\n",
       "\n",
       "</div>\n",
       "<div id=\"comments\">\n",
       "\n",
       "[![arXiv](https://img.shields.io/badge/arXiv-2308.12823-b31b1b.svg)](https://arxiv.org/abs/2308.12823)<mark>Appeared on: 2023-08-25</mark> -  _Submitted to ApJL, Comments welcome_\n",
       "\n",
       "</div>\n",
       "<div id=\"authors\">\n",
       "\n",
       "E. Lambrides, et al. -- incl., <mark>K. Jahnke</mark>\n",
       "\n",
       "</div>\n",
       "<div id=\"abstract\">\n",
       "\n",
       "**Abstract:** In this letter, we report the discovery of the highest redshift, heavily obscured, radio-loud QSO candidate selected using JWST NIRCam/MIRI, mid-IR, sub-mm, and radio imaging in the COSMOS-Web field. Using multi-frequency radio observations and mid-IR photometry, we identify a powerful, radio-loud (RL), growing supermassive black hole (SMBH) with significant spectral steepening of the radio SED ( $f_{1.32 \\mathrm{GHz}} \\sim 2$ mJy, $q_{24\\micron} = -1.1$ , $\\alpha_{1.32-3\\mathrm{GHz}}=-1.2$ , $\\Delta \\alpha = -0.4$ ). In conjunction with ALMA, deep ground-based observations, ancillary space-based data, and the unprecedented resolution and sensitivity of JWST, we find no evidence of QSO contribution to the UV/optical/NIR data and thus infer heavy amounts of obscuration (N $_{\\mathrm{H}} > 10^{23}$ cm $^{-2}$ ). Using the wealth of deep UV to sub-mm photometric data, we report a singular solution photo-z of $z_\\mathrm{phot}$ = 7.65 $^{+0.4}_{-0.3}$ and estimate an extremely massive host-galaxy ( $\\log M_{\\star} = 11.92 \\pm 0.06 \\mathrm{M}_{\\odot}$ ). This source represents the furthest known obscured RL QSO candidate, and its level of obscuration aligns with the most representative but observationally scarce population of QSOs at these epochs.\n",
       "\n",
       "</div>\n",
       "\n",
       "<div id=\"div_fig1\">\n",
       "\n",
       "<img src=\"tmp_2308.12823/./photo-z_cosw-106725-1.png\" alt=\"Fig3\" width=\"100%\"/>\n",
       "\n",
       "**Figure 3. -** Results from fitting the optical, NIR and MIR with {*\\texttt{EAzY*py}}. Non-detections with 27 mag upper limits: HSC $g$, HSC $r$, HSC $i$, HSC $z$, HST _F814W_, HSC $y$. $>3 \\sigma$ detections: JWST _F115W_, JWST _F150W_, HST _F160W_, JWST _F277W_, IRAC Channel 1, JWST _F444W_, IRAC Channel 2, IRAC Channel 3, JWST MIRI 7.7 \\micron. The redshift is constrained to $z = 7.65^{+0.4}_{-0.3}$ fit with combinations of SSP template from  ([Bruzual and Charlot 2003]()) . Inset: We show the p(z) via EAzY and BAG (*fig:photoz*)\n",
       "\n",
       "</div>\n",
       "<div id=\"div_fig2\">\n",
       "\n",
       "<img src=\"tmp_2308.12823/./global_sed_cosw.png\" alt=\"Fig4\" width=\"100%\"/>\n",
       "\n",
       "**Figure 4. -** _Left Panel:_ Optical-IR-radio SED fitting with BC03 stellar  ([Bruzual and Charlot 2003]()) , mid-IR AGN  ([Mullaney, et. al 2011]()) , Draine \\& Li dust  ([Draine and Li 2007]())  and power-law radio templates (using the MICHI2 code;  ([Liu, Daddi and Schinnerer 2021]()) ). The black line indicates the composite best-fit model and the blue symbols are photometric data points, with upper limits shown as downward arrows. The stellar, mid-IR AGN, dust, and radio components are indicated by the cyan, yellow, red, and magenta dashed lines, respectively.\n",
       "    _Right panels:_ The 1/$\\chi^2$ distributions from the fitting for the four parameters: stellar mass, dust attenuation $E(B-V)$, QSO component's luminosity integrated over 10-1000 $\\mu$m, and dust component's luminosity integrated over 8-1000 $\\mu$m. The yellow highlighted regions correspond to the 95\\% confidence intervals. (*fig:Opt-IR-radio SED*)\n",
       "\n",
       "</div>\n",
       "<div id=\"div_fig3\">\n",
       "\n",
       "<img src=\"tmp_2308.12823/./updated_cosw_radio_sed.png\" alt=\"Fig1\" width=\"100%\"/>\n",
       "\n",
       "**Figure 1. -** Radio SED: All fluxes and associated errors are listed in Table \\ref{tab:phot}. We measure the spectral slope between two sets of radio frequencies (blue line, orange line) and find significant spectral steepening indicative of high-$z$ RL QSO  ([Saxena, Jagannathan and Röttgering 2018](), [Endsley, Stark and Lyu 2022](), [Broderick, Drouart and Seymour 2022]()) . In the upper-right corner inset, we show the radio SED for the z$_{spec}=6.8$ heavily obscured RL AGN from  ([Endsley, Stark and Lyu 2022]())  for reference. (*fig:radio_sed*)\n",
       "\n",
       "</div><div id=\"qrcode\"><img src=https://api.qrserver.com/v1/create-qr-code/?size=100x100&data=\"https://arxiv.org/abs/2308.12823\"></div>"
      ],
      "text/plain": [
       "<IPython.core.display.Markdown object>"
      ]
     },
     "metadata": {},
     "output_type": "display_data"
    }
   ],
   "source": [
    "[display(Markdown(k[1])) for k in documents];"
   ]
  },
  {
   "cell_type": "markdown",
   "id": "873873a4",
   "metadata": {
    "papermill": {
     "duration": 0.00552,
     "end_time": "2023-08-25T04:05:08.760980",
     "exception": false,
     "start_time": "2023-08-25T04:05:08.755460",
     "status": "completed"
    },
    "tags": []
   },
   "source": [
    "# Create HTML index"
   ]
  },
  {
   "cell_type": "code",
   "execution_count": 9,
   "id": "cf665672",
   "metadata": {
    "execution": {
     "iopub.execute_input": "2023-08-25T04:05:08.773007Z",
     "iopub.status.busy": "2023-08-25T04:05:08.772519Z",
     "iopub.status.idle": "2023-08-25T04:05:08.783412Z",
     "shell.execute_reply": "2023-08-25T04:05:08.782699Z"
    },
    "papermill": {
     "duration": 0.018558,
     "end_time": "2023-08-25T04:05:08.784873",
     "exception": false,
     "start_time": "2023-08-25T04:05:08.766315",
     "status": "completed"
    },
    "tags": []
   },
   "outputs": [
    {
     "name": "stdout",
     "output_type": "stream",
     "text": [
      "253  publications files modified in the last 7 days.\n"
     ]
    }
   ],
   "source": [
    "from datetime import datetime, timedelta, timezone\n",
    "from glob import glob\n",
    "import os\n",
    "\n",
    "files = glob('_build/html/*.md')\n",
    "days = 7\n",
    "now = datetime.today()\n",
    "res = []\n",
    "for fk in files:\n",
    "    stat_result = os.stat(fk).st_ctime\n",
    "    modified = datetime.fromtimestamp(stat_result, tz=timezone.utc).replace(tzinfo=None)\n",
    "    delta = now.today() - modified\n",
    "    if delta <= timedelta(days=days):\n",
    "        res.append((delta.seconds, fk))\n",
    "res = [k[1] for k in reversed(sorted(res, key=lambda x:x[1]))]\n",
    "npub = len(res)\n",
    "print(len(res), f\" publications files modified in the last {days:d} days.\")\n",
    "# [ print('\\t', k) for k in res ];"
   ]
  },
  {
   "cell_type": "code",
   "execution_count": 10,
   "id": "015de740",
   "metadata": {
    "execution": {
     "iopub.execute_input": "2023-08-25T04:05:08.796983Z",
     "iopub.status.busy": "2023-08-25T04:05:08.796526Z",
     "iopub.status.idle": "2023-08-25T04:05:08.816059Z",
     "shell.execute_reply": "2023-08-25T04:05:08.815410Z"
    },
    "papermill": {
     "duration": 0.027311,
     "end_time": "2023-08-25T04:05:08.817581",
     "exception": false,
     "start_time": "2023-08-25T04:05:08.790270",
     "status": "completed"
    },
    "tags": []
   },
   "outputs": [
    {
     "name": "stdout",
     "output_type": "stream",
     "text": [
      "6  publications in the last 7 days.\n"
     ]
    }
   ],
   "source": [
    "import datetime\n",
    "from glob import glob\n",
    "\n",
    "def get_last_n_days(lst, days=1):\n",
    "    \"\"\" Get the documents from the last n days \"\"\"\n",
    "    sorted_lst = sorted(lst, key=lambda x: x[1], reverse=True)\n",
    "    for fname, date in sorted_lst:\n",
    "        if date >= str(datetime.date.today() - datetime.timedelta(days=days)):\n",
    "            yield fname\n",
    "\n",
    "def extract_appearance_dates(lst_file):\n",
    "    dates = []\n",
    "\n",
    "    def get_date(line):\n",
    "        return line\\\n",
    "            .split('Appeared on:')[-1]\\\n",
    "            .split('</mark>')[0].strip()\n",
    "\n",
    "    for fname in lst:\n",
    "        with open(fname, 'r') as f:\n",
    "            found_date = False\n",
    "            for line in f:\n",
    "                if not found_date:\n",
    "                    if \"Appeared on\" in line:\n",
    "                        found_date = True\n",
    "                        dates.append((fname, get_date(line)))\n",
    "                else:\n",
    "                    break\n",
    "    return dates\n",
    "\n",
    "from glob import glob\n",
    "lst = glob('_build/html/*md')\n",
    "days = 7\n",
    "dates = extract_appearance_dates(lst)\n",
    "res = list(get_last_n_days(dates, days))\n",
    "npub = len(res)\n",
    "print(len(res), f\" publications in the last {days:d} days.\")"
   ]
  },
  {
   "cell_type": "code",
   "execution_count": 11,
   "id": "52ca0208",
   "metadata": {
    "execution": {
     "iopub.execute_input": "2023-08-25T04:05:08.829779Z",
     "iopub.status.busy": "2023-08-25T04:05:08.829339Z",
     "iopub.status.idle": "2023-08-25T04:05:08.834997Z",
     "shell.execute_reply": "2023-08-25T04:05:08.834346Z"
    },
    "papermill": {
     "duration": 0.013435,
     "end_time": "2023-08-25T04:05:08.836435",
     "exception": false,
     "start_time": "2023-08-25T04:05:08.823000",
     "status": "completed"
    },
    "scrolled": false,
    "tags": []
   },
   "outputs": [],
   "source": [
    "def create_carousel(npub=4):\n",
    "    \"\"\" Generate the HTML code for a carousel with `npub` slides \"\"\"\n",
    "    carousel = [\"\"\"  <div class=\"carousel\" \"\"\",\n",
    "                \"\"\"       data-flickity='{ \"autoPlay\": 10000, \"adaptiveHeight\": true, \"resize\": true, \"wrapAround\": true, \"pauseAutoPlayOnHover\": true, \"groupCells\": 1 }' id=\"asyncTypeset\">\"\"\"\n",
    "                ]\n",
    "    \n",
    "    item_str = \"\"\"    <div class=\"carousel-cell\"> <div id=\"slide{k}\" class=\"md_view\">Content {k}</div> </div>\"\"\"\n",
    "    for k in range(1, npub + 1):\n",
    "        carousel.append(item_str.format(k=k))\n",
    "    carousel.append(\"  </div>\")\n",
    "    return '\\n'.join(carousel)\n",
    "\n",
    "def create_grid(npub=4):\n",
    "    \"\"\" Generate the HTML code for a flat grid with `npub` slides \"\"\"\n",
    "    grid = [\"\"\"  <div class=\"grid\"> \"\"\",\n",
    "                ]\n",
    "    \n",
    "    item_str = \"\"\"    <div class=\"grid-item\"> <div id=\"slide{k}\" class=\"md_view\">Content {k}</div> </div>\"\"\"\n",
    "    for k in range(1, npub + 1):\n",
    "        grid.append(item_str.format(k=k))\n",
    "    grid.append(\"  </div>\")\n",
    "    return '\\n'.join(grid)"
   ]
  },
  {
   "cell_type": "code",
   "execution_count": 12,
   "id": "a6eac5b6",
   "metadata": {
    "execution": {
     "iopub.execute_input": "2023-08-25T04:05:08.848541Z",
     "iopub.status.busy": "2023-08-25T04:05:08.848113Z",
     "iopub.status.idle": "2023-08-25T04:05:08.853566Z",
     "shell.execute_reply": "2023-08-25T04:05:08.852918Z"
    },
    "papermill": {
     "duration": 0.013248,
     "end_time": "2023-08-25T04:05:08.855087",
     "exception": false,
     "start_time": "2023-08-25T04:05:08.841839",
     "status": "completed"
    },
    "scrolled": false,
    "tags": []
   },
   "outputs": [],
   "source": [
    "carousel = create_carousel(npub)\n",
    "docs = ', '.join(['\"{0:s}\"'.format(k.split('/')[-1]) for k in res])\n",
    "slides = ', '.join([f'\"slide{k}\"' for k in range(1, npub + 1)])\n",
    "\n",
    "with open(\"daily_template.html\", \"r\") as tpl:\n",
    "    page = tpl.read()\n",
    "    page = page.replace(\"{%-- carousel:s --%}\", carousel)\\\n",
    "               .replace(\"{%-- suptitle:s --%}\",  \"7-day archives\" )\\\n",
    "               .replace(\"{%-- docs:s --%}\", docs)\\\n",
    "               .replace(\"{%-- slides:s --%}\", slides)\n",
    "    \n",
    "with open(\"_build/html/index_7days.html\", 'w') as fout:\n",
    "    fout.write(page)"
   ]
  },
  {
   "cell_type": "code",
   "execution_count": 13,
   "id": "adc1a1ec",
   "metadata": {
    "execution": {
     "iopub.execute_input": "2023-08-25T04:05:08.867712Z",
     "iopub.status.busy": "2023-08-25T04:05:08.867285Z",
     "iopub.status.idle": "2023-08-25T04:05:08.874497Z",
     "shell.execute_reply": "2023-08-25T04:05:08.873830Z"
    },
    "papermill": {
     "duration": 0.015246,
     "end_time": "2023-08-25T04:05:08.875938",
     "exception": false,
     "start_time": "2023-08-25T04:05:08.860692",
     "status": "completed"
    },
    "tags": []
   },
   "outputs": [
    {
     "name": "stdout",
     "output_type": "stream",
     "text": [
      "4  publications in the last day.\n"
     ]
    }
   ],
   "source": [
    "# redo for today\n",
    "days = 1\n",
    "res = list(get_last_n_days(dates, days))\n",
    "npub = len(res)\n",
    "print(len(res), f\" publications in the last day.\")\n",
    "\n",
    "carousel = create_carousel(npub)\n",
    "docs = ', '.join(['\"{0:s}\"'.format(k.split('/')[-1]) for k in res])\n",
    "slides = ', '.join([f'\"slide{k}\"' for k in range(1, npub + 1)])\n",
    "\n",
    "with open(\"daily_template.html\", \"r\") as tpl:\n",
    "    page = tpl.read()\n",
    "    page = page.replace(\"{%-- carousel:s --%}\", carousel)\\\n",
    "               .replace(\"{%-- suptitle:s --%}\",  \"Daily\" )\\\n",
    "               .replace(\"{%-- docs:s --%}\", docs)\\\n",
    "               .replace(\"{%-- slides:s --%}\", slides)\n",
    "    \n",
    "# print(carousel, docs, slides)\n",
    "# print(page)\n",
    "with open(\"_build/html/index_daily.html\", 'w') as fout:\n",
    "    fout.write(page)"
   ]
  },
  {
   "cell_type": "code",
   "execution_count": 14,
   "id": "00eece82",
   "metadata": {
    "execution": {
     "iopub.execute_input": "2023-08-25T04:05:08.888301Z",
     "iopub.status.busy": "2023-08-25T04:05:08.887877Z",
     "iopub.status.idle": "2023-08-25T04:05:08.894823Z",
     "shell.execute_reply": "2023-08-25T04:05:08.894181Z"
    },
    "papermill": {
     "duration": 0.014733,
     "end_time": "2023-08-25T04:05:08.896266",
     "exception": false,
     "start_time": "2023-08-25T04:05:08.881533",
     "status": "completed"
    },
    "scrolled": false,
    "tags": []
   },
   "outputs": [
    {
     "name": "stdout",
     "output_type": "stream",
     "text": [
      "6  6 publications selected.\n"
     ]
    }
   ],
   "source": [
    "# Create the flat grid of the last N papers (fixed number regardless of dates)\n",
    "from itertools import islice \n",
    "\n",
    "npub = 6\n",
    "res = [k[0] for k in (islice(reversed(sorted(dates, key=lambda x: x[1])), 6))]\n",
    "print(len(res), f\" {npub} publications selected.\")\n",
    "\n",
    "grid = create_grid(npub)\n",
    "docs = ', '.join(['\"{0:s}\"'.format(k.split('/')[-1]) for k in res])\n",
    "slides = ', '.join([f'\"slide{k}\"' for k in range(1, npub + 1)])\n",
    "\n",
    "with open(\"grid_template.html\", \"r\") as tpl:\n",
    "    page = tpl.read()\n",
    "    page = page.replace(\"{%-- grid-content:s --%}\", grid)\\\n",
    "               .replace(\"{%-- suptitle:s --%}\",  f\"Last {npub:,d} papers\" )\\\n",
    "               .replace(\"{%-- docs:s --%}\", docs)\\\n",
    "               .replace(\"{%-- slides:s --%}\", slides)\n",
    "    \n",
    "# print(grid, docs, slides)\n",
    "# print(page)\n",
    "with open(\"_build/html/index_npub_grid.html\", 'w') as fout:\n",
    "    fout.write(page)"
   ]
  }
 ],
 "metadata": {
  "kernelspec": {
   "display_name": "Python 3 (ipykernel)",
   "language": "python",
   "name": "python3"
  },
  "language_info": {
   "codemirror_mode": {
    "name": "ipython",
    "version": 3
   },
   "file_extension": ".py",
   "mimetype": "text/x-python",
   "name": "python",
   "nbconvert_exporter": "python",
   "pygments_lexer": "ipython3",
   "version": "3.9.17"
  },
  "papermill": {
   "default_parameters": {},
   "duration": 86.977369,
   "end_time": "2023-08-25T04:05:09.120590",
   "environment_variables": {},
   "exception": null,
   "input_path": "MPIA daily digest.ipynb",
   "output_path": "log.ipynb",
   "parameters": {},
   "start_time": "2023-08-25T04:03:42.143221",
   "version": "2.4.0"
  },
  "vscode": {
   "interpreter": {
    "hash": "aee8b7b246df8f9039afb4144a1f6fd8d2ca17a180786b69acc140d282b71a49"
   }
  },
  "widgets": {
   "application/vnd.jupyter.widget-state+json": {
    "state": {
     "08295a1611e84d84a76bbd5ccab2531d": {
      "model_module": "@jupyter-widgets/controls",
      "model_module_version": "2.0.0",
      "model_name": "HBoxModel",
      "state": {
       "_dom_classes": [],
       "_model_module": "@jupyter-widgets/controls",
       "_model_module_version": "2.0.0",
       "_model_name": "HBoxModel",
       "_view_count": null,
       "_view_module": "@jupyter-widgets/controls",
       "_view_module_version": "2.0.0",
       "_view_name": "HBoxView",
       "box_style": "",
       "children": [
        "IPY_MODEL_3cc23b0ea83e4d77a15c10dac9452a53",
        "IPY_MODEL_a492cb9867af40159b7288f1764475a9",
        "IPY_MODEL_609e50acde154d8ebd720489e28b70a2"
       ],
       "layout": "IPY_MODEL_96fb7c0f88e14c348b82511a8609d8dd",
       "tabbable": null,
       "tooltip": null
      }
     },
     "3cc23b0ea83e4d77a15c10dac9452a53": {
      "model_module": "@jupyter-widgets/controls",
      "model_module_version": "2.0.0",
      "model_name": "HTMLModel",
      "state": {
       "_dom_classes": [],
       "_model_module": "@jupyter-widgets/controls",
       "_model_module_version": "2.0.0",
       "_model_name": "HTMLModel",
       "_view_count": null,
       "_view_module": "@jupyter-widgets/controls",
       "_view_module_version": "2.0.0",
       "_view_name": "HTMLView",
       "description": "",
       "description_allow_html": false,
       "layout": "IPY_MODEL_7e7d6d69ab864b34aab14c9381688010",
       "placeholder": "​",
       "style": "IPY_MODEL_408c4393f8fb4b0ba3bd7bf890dce5f0",
       "tabbable": null,
       "tooltip": null,
       "value": "100%"
      }
     },
     "408c4393f8fb4b0ba3bd7bf890dce5f0": {
      "model_module": "@jupyter-widgets/controls",
      "model_module_version": "2.0.0",
      "model_name": "HTMLStyleModel",
      "state": {
       "_model_module": "@jupyter-widgets/controls",
       "_model_module_version": "2.0.0",
       "_model_name": "HTMLStyleModel",
       "_view_count": null,
       "_view_module": "@jupyter-widgets/base",
       "_view_module_version": "2.0.0",
       "_view_name": "StyleView",
       "background": null,
       "description_width": "",
       "font_size": null,
       "text_color": null
      }
     },
     "609e50acde154d8ebd720489e28b70a2": {
      "model_module": "@jupyter-widgets/controls",
      "model_module_version": "2.0.0",
      "model_name": "HTMLModel",
      "state": {
       "_dom_classes": [],
       "_model_module": "@jupyter-widgets/controls",
       "_model_module_version": "2.0.0",
       "_model_name": "HTMLModel",
       "_view_count": null,
       "_view_module": "@jupyter-widgets/controls",
       "_view_module_version": "2.0.0",
       "_view_name": "HTMLView",
       "description": "",
       "description_allow_html": false,
       "layout": "IPY_MODEL_9d06f29586b443c9a9395612e3ba9145",
       "placeholder": "​",
       "style": "IPY_MODEL_f3eb1d7718334d57aca3bb17a26a0771",
       "tabbable": null,
       "tooltip": null,
       "value": " 2/2 [01:03&lt;00:00, 27.66s/it]"
      }
     },
     "7e7d6d69ab864b34aab14c9381688010": {
      "model_module": "@jupyter-widgets/base",
      "model_module_version": "2.0.0",
      "model_name": "LayoutModel",
      "state": {
       "_model_module": "@jupyter-widgets/base",
       "_model_module_version": "2.0.0",
       "_model_name": "LayoutModel",
       "_view_count": null,
       "_view_module": "@jupyter-widgets/base",
       "_view_module_version": "2.0.0",
       "_view_name": "LayoutView",
       "align_content": null,
       "align_items": null,
       "align_self": null,
       "border_bottom": null,
       "border_left": null,
       "border_right": null,
       "border_top": null,
       "bottom": null,
       "display": null,
       "flex": null,
       "flex_flow": null,
       "grid_area": null,
       "grid_auto_columns": null,
       "grid_auto_flow": null,
       "grid_auto_rows": null,
       "grid_column": null,
       "grid_gap": null,
       "grid_row": null,
       "grid_template_areas": null,
       "grid_template_columns": null,
       "grid_template_rows": null,
       "height": null,
       "justify_content": null,
       "justify_items": null,
       "left": null,
       "margin": null,
       "max_height": null,
       "max_width": null,
       "min_height": null,
       "min_width": null,
       "object_fit": null,
       "object_position": null,
       "order": null,
       "overflow": null,
       "padding": null,
       "right": null,
       "top": null,
       "visibility": null,
       "width": null
      }
     },
     "96fb7c0f88e14c348b82511a8609d8dd": {
      "model_module": "@jupyter-widgets/base",
      "model_module_version": "2.0.0",
      "model_name": "LayoutModel",
      "state": {
       "_model_module": "@jupyter-widgets/base",
       "_model_module_version": "2.0.0",
       "_model_name": "LayoutModel",
       "_view_count": null,
       "_view_module": "@jupyter-widgets/base",
       "_view_module_version": "2.0.0",
       "_view_name": "LayoutView",
       "align_content": null,
       "align_items": null,
       "align_self": null,
       "border_bottom": null,
       "border_left": null,
       "border_right": null,
       "border_top": null,
       "bottom": null,
       "display": null,
       "flex": null,
       "flex_flow": null,
       "grid_area": null,
       "grid_auto_columns": null,
       "grid_auto_flow": null,
       "grid_auto_rows": null,
       "grid_column": null,
       "grid_gap": null,
       "grid_row": null,
       "grid_template_areas": null,
       "grid_template_columns": null,
       "grid_template_rows": null,
       "height": null,
       "justify_content": null,
       "justify_items": null,
       "left": null,
       "margin": null,
       "max_height": null,
       "max_width": null,
       "min_height": null,
       "min_width": null,
       "object_fit": null,
       "object_position": null,
       "order": null,
       "overflow": null,
       "padding": null,
       "right": null,
       "top": null,
       "visibility": null,
       "width": null
      }
     },
     "9d06f29586b443c9a9395612e3ba9145": {
      "model_module": "@jupyter-widgets/base",
      "model_module_version": "2.0.0",
      "model_name": "LayoutModel",
      "state": {
       "_model_module": "@jupyter-widgets/base",
       "_model_module_version": "2.0.0",
       "_model_name": "LayoutModel",
       "_view_count": null,
       "_view_module": "@jupyter-widgets/base",
       "_view_module_version": "2.0.0",
       "_view_name": "LayoutView",
       "align_content": null,
       "align_items": null,
       "align_self": null,
       "border_bottom": null,
       "border_left": null,
       "border_right": null,
       "border_top": null,
       "bottom": null,
       "display": null,
       "flex": null,
       "flex_flow": null,
       "grid_area": null,
       "grid_auto_columns": null,
       "grid_auto_flow": null,
       "grid_auto_rows": null,
       "grid_column": null,
       "grid_gap": null,
       "grid_row": null,
       "grid_template_areas": null,
       "grid_template_columns": null,
       "grid_template_rows": null,
       "height": null,
       "justify_content": null,
       "justify_items": null,
       "left": null,
       "margin": null,
       "max_height": null,
       "max_width": null,
       "min_height": null,
       "min_width": null,
       "object_fit": null,
       "object_position": null,
       "order": null,
       "overflow": null,
       "padding": null,
       "right": null,
       "top": null,
       "visibility": null,
       "width": null
      }
     },
     "a492cb9867af40159b7288f1764475a9": {
      "model_module": "@jupyter-widgets/controls",
      "model_module_version": "2.0.0",
      "model_name": "FloatProgressModel",
      "state": {
       "_dom_classes": [],
       "_model_module": "@jupyter-widgets/controls",
       "_model_module_version": "2.0.0",
       "_model_name": "FloatProgressModel",
       "_view_count": null,
       "_view_module": "@jupyter-widgets/controls",
       "_view_module_version": "2.0.0",
       "_view_name": "ProgressView",
       "bar_style": "success",
       "description": "",
       "description_allow_html": false,
       "layout": "IPY_MODEL_fc4232d431094f5fbe8236a3921d5db4",
       "max": 2.0,
       "min": 0.0,
       "orientation": "horizontal",
       "style": "IPY_MODEL_d770e38d54eb4515900e4e24915fa200",
       "tabbable": null,
       "tooltip": null,
       "value": 2.0
      }
     },
     "d770e38d54eb4515900e4e24915fa200": {
      "model_module": "@jupyter-widgets/controls",
      "model_module_version": "2.0.0",
      "model_name": "ProgressStyleModel",
      "state": {
       "_model_module": "@jupyter-widgets/controls",
       "_model_module_version": "2.0.0",
       "_model_name": "ProgressStyleModel",
       "_view_count": null,
       "_view_module": "@jupyter-widgets/base",
       "_view_module_version": "2.0.0",
       "_view_name": "StyleView",
       "bar_color": null,
       "description_width": ""
      }
     },
     "f3eb1d7718334d57aca3bb17a26a0771": {
      "model_module": "@jupyter-widgets/controls",
      "model_module_version": "2.0.0",
      "model_name": "HTMLStyleModel",
      "state": {
       "_model_module": "@jupyter-widgets/controls",
       "_model_module_version": "2.0.0",
       "_model_name": "HTMLStyleModel",
       "_view_count": null,
       "_view_module": "@jupyter-widgets/base",
       "_view_module_version": "2.0.0",
       "_view_name": "StyleView",
       "background": null,
       "description_width": "",
       "font_size": null,
       "text_color": null
      }
     },
     "fc4232d431094f5fbe8236a3921d5db4": {
      "model_module": "@jupyter-widgets/base",
      "model_module_version": "2.0.0",
      "model_name": "LayoutModel",
      "state": {
       "_model_module": "@jupyter-widgets/base",
       "_model_module_version": "2.0.0",
       "_model_name": "LayoutModel",
       "_view_count": null,
       "_view_module": "@jupyter-widgets/base",
       "_view_module_version": "2.0.0",
       "_view_name": "LayoutView",
       "align_content": null,
       "align_items": null,
       "align_self": null,
       "border_bottom": null,
       "border_left": null,
       "border_right": null,
       "border_top": null,
       "bottom": null,
       "display": null,
       "flex": null,
       "flex_flow": null,
       "grid_area": null,
       "grid_auto_columns": null,
       "grid_auto_flow": null,
       "grid_auto_rows": null,
       "grid_column": null,
       "grid_gap": null,
       "grid_row": null,
       "grid_template_areas": null,
       "grid_template_columns": null,
       "grid_template_rows": null,
       "height": null,
       "justify_content": null,
       "justify_items": null,
       "left": null,
       "margin": null,
       "max_height": null,
       "max_width": null,
       "min_height": null,
       "min_width": null,
       "object_fit": null,
       "object_position": null,
       "order": null,
       "overflow": null,
       "padding": null,
       "right": null,
       "top": null,
       "visibility": null,
       "width": null
      }
     }
    },
    "version_major": 2,
    "version_minor": 0
   }
  }
 },
 "nbformat": 4,
 "nbformat_minor": 5
}