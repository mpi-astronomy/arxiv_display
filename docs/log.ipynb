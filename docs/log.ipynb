{
 "cells": [
  {
   "cell_type": "markdown",
   "id": "92bcb855",
   "metadata": {
    "papermill": {
     "duration": 0.003696,
     "end_time": "2024-04-04T04:08:13.123665",
     "exception": false,
     "start_time": "2024-04-04T04:08:13.119969",
     "status": "completed"
    },
    "tags": []
   },
   "source": [
    "# MPIA Arxiv on Deck 2\n",
    "\n",
    "Contains the steps to produce the paper extractions."
   ]
  },
  {
   "cell_type": "code",
   "execution_count": 1,
   "id": "3a0d6e11",
   "metadata": {
    "execution": {
     "iopub.execute_input": "2024-04-04T04:08:13.131091Z",
     "iopub.status.busy": "2024-04-04T04:08:13.130539Z",
     "iopub.status.idle": "2024-04-04T04:08:13.431907Z",
     "shell.execute_reply": "2024-04-04T04:08:13.431203Z"
    },
    "papermill": {
     "duration": 0.306895,
     "end_time": "2024-04-04T04:08:13.433637",
     "exception": false,
     "start_time": "2024-04-04T04:08:13.126742",
     "status": "completed"
    },
    "tags": []
   },
   "outputs": [],
   "source": [
    "# Imports\n",
    "import os\n",
    "from IPython.display import Markdown, display\n",
    "from tqdm.notebook import tqdm\n",
    "import warnings\n",
    "from PIL import Image \n",
    "\n",
    "# requires arxiv_on_deck_2\n",
    "\n",
    "from arxiv_on_deck_2.arxiv2 import (get_new_papers, \n",
    "                                    get_paper_from_identifier,\n",
    "                                    retrieve_document_source, \n",
    "                                    get_markdown_badge)\n",
    "from arxiv_on_deck_2 import (latex,\n",
    "                             latex_bib,\n",
    "                             mpia,\n",
    "                             highlight_authors_in_list)\n",
    "\n",
    "# Sometimes images are really big\n",
    "Image.MAX_IMAGE_PIXELS = 1000000000 "
   ]
  },
  {
   "cell_type": "code",
   "execution_count": 2,
   "id": "22aa9d44",
   "metadata": {
    "execution": {
     "iopub.execute_input": "2024-04-04T04:08:13.440676Z",
     "iopub.status.busy": "2024-04-04T04:08:13.440280Z",
     "iopub.status.idle": "2024-04-04T04:08:13.445177Z",
     "shell.execute_reply": "2024-04-04T04:08:13.444578Z"
    },
    "papermill": {
     "duration": 0.009831,
     "end_time": "2024-04-04T04:08:13.446571",
     "exception": false,
     "start_time": "2024-04-04T04:08:13.436740",
     "status": "completed"
    },
    "tags": []
   },
   "outputs": [],
   "source": [
    "# Some useful definitions.\n",
    "\n",
    "class AffiliationWarning(UserWarning):\n",
    "    pass\n",
    "\n",
    "class AffiliationError(RuntimeError):\n",
    "    pass\n",
    "\n",
    "def validation(source: str):\n",
    "    \"\"\"Raises error paper during parsing of source file\n",
    "    \n",
    "    Allows checks before parsing TeX code.\n",
    "    \n",
    "    Raises AffiliationWarning\n",
    "    \"\"\"\n",
    "    check = mpia.affiliation_verifications(source, verbose=True)\n",
    "    if check is not True:\n",
    "        raise AffiliationError(\"mpia.affiliation_verifications: \" + check)\n",
    "\n",
    "        \n",
    "warnings.simplefilter('always', AffiliationWarning)\n",
    "\n",
    "\n",
    "def get_markdown_qrcode(paper_id: str):\n",
    "    \"\"\" Generate a qrcode to the arxiv page using qrserver.com\n",
    "    \n",
    "    :param paper: Arxiv paper\n",
    "    :returns: markdown text\n",
    "    \"\"\"\n",
    "    url = r\"https://api.qrserver.com/v1/create-qr-code/?size=100x100&data=\"\n",
    "    txt = f\"\"\"<img src={url}\"https://arxiv.org/abs/{paper_id}\">\"\"\"\n",
    "    txt = '<div id=\"qrcode\">' + txt + '</div>'\n",
    "    return txt"
   ]
  },
  {
   "cell_type": "markdown",
   "id": "14bd6310",
   "metadata": {
    "papermill": {
     "duration": 0.002743,
     "end_time": "2024-04-04T04:08:13.452117",
     "exception": false,
     "start_time": "2024-04-04T04:08:13.449374",
     "status": "completed"
    },
    "tags": []
   },
   "source": [
    "## get list of arxiv paper candidates\n",
    "\n",
    "We use the MPIA mitarbeiter list webpage from mpia.de to get author names\n",
    "We then get all new papers from Arxiv and match authors"
   ]
  },
  {
   "cell_type": "code",
   "execution_count": 3,
   "id": "2645e73a",
   "metadata": {
    "execution": {
     "iopub.execute_input": "2024-04-04T04:08:13.458866Z",
     "iopub.status.busy": "2024-04-04T04:08:13.458454Z",
     "iopub.status.idle": "2024-04-04T04:08:33.185302Z",
     "shell.execute_reply": "2024-04-04T04:08:33.184588Z"
    },
    "papermill": {
     "duration": 19.731759,
     "end_time": "2024-04-04T04:08:33.186730",
     "exception": false,
     "start_time": "2024-04-04T04:08:13.454971",
     "status": "completed"
    },
    "tags": []
   },
   "outputs": [
    {
     "name": "stdout",
     "output_type": "stream",
     "text": [
      "A. Kospal  ->  A. Kospal  |  ['A. Kospal']\n",
      "S. Li  ->  S. Li  |  ['S. Li']\n",
      "Arxiv has 54 new papers today\n",
      "          2 with possible author matches\n"
     ]
    }
   ],
   "source": [
    "# get list from MPIA website\n",
    "# it automatically filters identified non-scientists :func:`mpia.filter_non_scientists`\n",
    "mpia_authors = mpia.get_mpia_mitarbeiter_list()\n",
    "normed_mpia_authors = [k[1] for k in mpia_authors]   # initials + fullname\n",
    "new_papers = get_new_papers()\n",
    "# add manual references\n",
    "add_paper_refs = []\n",
    "new_papers.extend([get_paper_from_identifier(k) for k in add_paper_refs])\n",
    "\n",
    "candidates = []\n",
    "for paperk in new_papers:\n",
    "    # Check author list with their initials\n",
    "    normed_author_list = [mpia.get_initials(k) for k in paperk['authors']]\n",
    "    hl_authors = highlight_authors_in_list(normed_author_list, normed_mpia_authors, verbose=True)\n",
    "    matches = [(hl, orig) for hl, orig in zip(hl_authors, paperk['authors']) if 'mark' in hl]\n",
    "    paperk['authors'] = hl_authors\n",
    "    if matches:\n",
    "        # only select paper if an author matched our list\n",
    "        candidates.append(paperk)\n",
    "print(\"\"\"Arxiv has {0:,d} new papers today\"\"\".format(len(new_papers)))        \n",
    "print(\"\"\"          {0:,d} with possible author matches\"\"\".format(len(candidates)))"
   ]
  },
  {
   "cell_type": "markdown",
   "id": "3543b34a",
   "metadata": {
    "papermill": {
     "duration": 0.003086,
     "end_time": "2024-04-04T04:08:33.193142",
     "exception": false,
     "start_time": "2024-04-04T04:08:33.190056",
     "status": "completed"
    },
    "tags": []
   },
   "source": [
    "# Parse sources and generate relevant outputs\n",
    "\n",
    "From the candidates, we do the following steps:\n",
    "* get their tarball from ArXiv (and extract data)\n",
    "* find the main .tex file: find one with \\documentclass{...} (sometimes it's non trivial)\n",
    "* Check affiliations with :func:`validation`, which uses :func:`mpia.affiliation_verifications`\n",
    "* If passing the affiliations: we parse the .tex source\n",
    "   * inject sub-documents into the main (flatten the main document)\n",
    "   * parse structure, extract information (title, abstract, authors, figures...)\n",
    "   * handles `\\graphicspath` if provided\n",
    "* Generate the .md document."
   ]
  },
  {
   "cell_type": "code",
   "execution_count": 4,
   "id": "9576b79e",
   "metadata": {
    "execution": {
     "iopub.execute_input": "2024-04-04T04:08:33.199761Z",
     "iopub.status.busy": "2024-04-04T04:08:33.199551Z",
     "iopub.status.idle": "2024-04-04T04:09:19.404933Z",
     "shell.execute_reply": "2024-04-04T04:09:19.404210Z"
    },
    "papermill": {
     "duration": 46.210354,
     "end_time": "2024-04-04T04:09:19.406321",
     "exception": false,
     "start_time": "2024-04-04T04:08:33.195967",
     "status": "completed"
    },
    "scrolled": false,
    "tags": []
   },
   "outputs": [
    {
     "data": {
      "application/vnd.jupyter.widget-view+json": {
       "model_id": "12ccc5f6541e46909d24daa17e9a7379",
       "version_major": 2,
       "version_minor": 0
      },
      "text/plain": [
       "  0%|          | 0/2 [00:00<?, ?it/s]"
      ]
     },
     "metadata": {},
     "output_type": "display_data"
    },
    {
     "name": "stdout",
     "output_type": "stream",
     "text": [
      "Retrieving document from  https://arxiv.org/e-print/2404.02222\n"
     ]
    },
    {
     "name": "stdout",
     "output_type": "stream",
     "text": [
      "extracting tarball to tmp_2404.02222..."
     ]
    },
    {
     "name": "stdout",
     "output_type": "stream",
     "text": [
      " done.\n"
     ]
    },
    {
     "name": "stdout",
     "output_type": "stream",
     "text": [
      "Found 147 bibliographic references in tmp_2404.02222/main.bbl.\n",
      "Retrieving document from  https://arxiv.org/e-print/2404.02275\n"
     ]
    },
    {
     "name": "stdout",
     "output_type": "stream",
     "text": [
      "extracting tarball to tmp_2404.02275... done.\n"
     ]
    },
    {
     "name": "stdout",
     "output_type": "stream",
     "text": [
      "S. Li  ->  S. Li  |  ['S. Li']\n"
     ]
    },
    {
     "name": "stdout",
     "output_type": "stream",
     "text": [
      "Found 107 bibliographic references in tmp_2404.02275/ms.bbl.\n"
     ]
    }
   ],
   "source": [
    "documents = []\n",
    "failed = []\n",
    "for paper in tqdm(candidates):\n",
    "    paper_id = paper['identifier'].lower().replace('arxiv:', '')\n",
    "    \n",
    "    folder = f'tmp_{paper_id}'\n",
    "\n",
    "    try:\n",
    "        if not os.path.isdir(folder):\n",
    "            folder = retrieve_document_source(f\"{paper_id}\", f'tmp_{paper_id}')\n",
    "        \n",
    "        try:\n",
    "            doc = latex.LatexDocument(folder, validation=validation)    \n",
    "        except AffiliationError as affilerror:\n",
    "            msg = f\"ArXiv:{paper_id:s} is not an MPIA paper... \" + str(affilerror)\n",
    "            failed.append((paper, \"affiliation error: \" + str(affilerror) ))\n",
    "            continue\n",
    "        \n",
    "        # Hack because sometimes author parsing does not work well\n",
    "        if (len(doc.authors) != len(paper['authors'])):\n",
    "            doc._authors = paper['authors']\n",
    "        else:\n",
    "            # highlight authors (FIXME: doc.highlight_authors)\n",
    "            # done on arxiv paper already\n",
    "            doc._authors = highlight_authors_in_list(\n",
    "                [mpia.get_initials(k) for k in doc.authors], \n",
    "                normed_mpia_authors, verbose=True)\n",
    "        if (doc.abstract) in (None, ''):\n",
    "            doc._abstract = paper['abstract']\n",
    "            \n",
    "        doc.comment = (get_markdown_badge(paper_id) + \n",
    "                       \"<mark>Appeared on: \" + paper['date'] + \"</mark> - \")\n",
    "        if paper['comments']:\n",
    "            doc.comment += \" _\" + paper['comments'] + \"_\"\n",
    "        \n",
    "        full_md = doc.generate_markdown_text()\n",
    "        \n",
    "        full_md += get_markdown_qrcode(paper_id)\n",
    "        \n",
    "        # replace citations\n",
    "        try:\n",
    "            bibdata = latex_bib.LatexBib.from_doc(doc)\n",
    "            full_md = latex_bib.replace_citations(full_md, bibdata)\n",
    "        except Exception as e:\n",
    "            print(e)\n",
    "        \n",
    "        documents.append((paper_id, full_md))\n",
    "    except Exception as e:\n",
    "        warnings.warn(latex.LatexWarning(f\"{paper_id:s} did not run properly\\n\" +\n",
    "                                         str(e)\n",
    "                                        ))\n",
    "        failed.append((paper, \"latex error \" + str(e)))"
   ]
  },
  {
   "cell_type": "markdown",
   "id": "2505a25c",
   "metadata": {
    "papermill": {
     "duration": 0.003314,
     "end_time": "2024-04-04T04:09:19.413286",
     "exception": false,
     "start_time": "2024-04-04T04:09:19.409972",
     "status": "completed"
    },
    "tags": []
   },
   "source": [
    "### Export the logs\n",
    "\n",
    "Throughout, we also keep track of the logs per paper. see `logs-{today date}.md` "
   ]
  },
  {
   "cell_type": "code",
   "execution_count": 5,
   "id": "d733828a",
   "metadata": {
    "execution": {
     "iopub.execute_input": "2024-04-04T04:09:19.421544Z",
     "iopub.status.busy": "2024-04-04T04:09:19.420986Z",
     "iopub.status.idle": "2024-04-04T04:09:19.433880Z",
     "shell.execute_reply": "2024-04-04T04:09:19.433277Z"
    },
    "papermill": {
     "duration": 0.018573,
     "end_time": "2024-04-04T04:09:19.435221",
     "exception": false,
     "start_time": "2024-04-04T04:09:19.416648",
     "status": "completed"
    },
    "scrolled": false,
    "tags": []
   },
   "outputs": [
    {
     "data": {
      "text/markdown": [
       "## Successful papers"
      ],
      "text/plain": [
       "<IPython.core.display.Markdown object>"
      ]
     },
     "metadata": {},
     "output_type": "display_data"
    },
    {
     "data": {
      "text/markdown": [
       "\n",
       "|||\n",
       "|---:|:---|\n",
       "| [![arXiv](https://img.shields.io/badge/arXiv-arXiv:2404.02222-b31b1b.svg)](https://arxiv.org/abs/arXiv:2404.02222) | **Polarimetric differential imaging with VLT/NACO. A comprehensive PDI  pipeline for NACO data (PIPPIN)**  |\n",
       "|| S. d. Regt, et al. -- incl., <mark>A. Kospal</mark> |\n",
       "|*Appeared on*| *2024-04-04*|\n",
       "|*Comments*| *Accepted for publication in A&A. For more information on PIPPIN, see: this https URL . The reduced images are available on Zenodo: this https URL*|\n",
       "|**Abstract**| The observed diversity of exoplanets can possibly be traced back to the planet formation processes. Planet-disk interactions induce sub-structures in the circumstellar disk that can be revealed via scattered light observations. However, a high-contrast imaging technique such as polarimetric differential imaging (PDI) must first be applied to suppress the stellar diffraction halo. In this work we present the PDI PiPelIne for NACO data (PIPPIN), which reduces the archival polarimetric observations made with the NACO instrument at the Very Large Telescope. Prior to this work, such a comprehensive pipeline to reduce polarimetric NACO data did not exist. We identify a total of 243 datasets of 57 potentially young stellar objects observed before NACO's decommissioning. The PIPPIN pipeline applies various levels of instrumental polarisation correction and is capable of reducing multiple observing setups, including half-wave plate or de-rotator usage and wire-grid observations. A novel template-matching method is applied to assess the detection significance of polarised signals in the reduced data. In 22 of the 57 observed targets, we detect polarised light resulting from a scattering of circumstellar dust. The detections exhibit a collection of known sub-structures, including rings, gaps, spirals, shadows, and in- or outflows of material. Since NACO was equipped with a near-infrared wavefront sensor, it made unique polarimetric observations of a number of embedded protostars. This is the first time detections of the Class I objects Elia 2-21 and YLW 16A have been published. Alongside the outlined PIPPIN pipeline, we publish an archive of the reduced data products, thereby improving the accessibility of these data for future studies. |"
      ],
      "text/plain": [
       "[arXiv:2404.02222] Polarimetric differential imaging with VLT/NACO. A comprehensive PDI  pipeline for NACO data (PIPPIN)\n",
       "\tS. d. Regt, et al. -- incl., <mark>A. Kospal</mark>"
      ]
     },
     "metadata": {},
     "output_type": "display_data"
    },
    {
     "data": {
      "text/markdown": [
       "\n",
       "|||\n",
       "|---:|:---|\n",
       "| [![arXiv](https://img.shields.io/badge/arXiv-arXiv:2404.02275-b31b1b.svg)](https://arxiv.org/abs/arXiv:2404.02275) | **The ALMA-QUARKS Survey: II. the ACA 1.3 mm continuum source catalog and  the assembly of dense gas in massive star-forming clumps**  |\n",
       "|| F. Xu, et al. -- incl., <mark>S. Li</mark> |\n",
       "|*Appeared on*| *2024-04-04*|\n",
       "|*Comments*| *24 pages, 7 figures. Accepted for publication in Research in Astronomy and Astrophysics. QUARKS atlas link: this https URL*|\n",
       "|**Abstract**| Leveraging the high resolution, high sensitivity, and wide frequency coverage of the Atacama Large Millimeter/submillimeter Array (ALMA), the QUARKS survey, standing for \"Querying Underlying mechanisms of massive star formation with ALMA-Resolved gas Kinematics and Structures\", is observing 139 massive star-forming clumps at ALMA Band 6 ($\\lambda\\sim$ 1.3 mm). This paper introduces the Atacama Compact Array (ACA) 7-m data. Combining multi-wavelength data, we provide the first edition of QUARKS atlas, offering insights into the multiscale and multiphase interstellar medium in high-mass star formation. The ACA 1.3 mm catalog includes 207 continuum sources that are called ACA sources. Their gas kinetic temperatures are estimated using three formaldehyde (H$_2$CO) transitions with a non-LTE radiation transfer model, and the mass and density are derived from a dust emission model. The ACA sources are massive (16-84 percentile values of 6-160 $M_{\\odot}$), gravity-dominated ($M\\propto R^{1.1}$) fragments within massive clumps, with supersonic turbulence ($\\mathcal{M}>1$) and embedded star-forming protoclusters. We find a linear correlation between the masses of the fragments and the massive clumps, with a ratio of 6% between the two. When considering the fragments as representative of dense gas, the ratio indicates a dense gas fraction (DGF) of 6%, although with a wide scatter ranging from 1% to 10%. If we consider the QUARKS massive clumps to be what is observed at various scales, then the size-independent DGF indicates a self-similar fragmentation or collapsing mode in protocluster formation. With the ACA data over four orders of magnitude of luminosity-to-mass ratio ($L/M$), we find that the DGF increases significantly with $L/M$, which indicates clump evolutionary stage. We observed a limited fragmentation at the subclump scale, which can be explained by dynamic global collapse process. |"
      ],
      "text/plain": [
       "[arXiv:2404.02275] The ALMA-QUARKS Survey: II. the ACA 1.3 mm continuum source catalog and  the assembly of dense gas in massive star-forming clumps\n",
       "\tF. Xu, et al. -- incl., <mark>S. Li</mark>"
      ]
     },
     "metadata": {},
     "output_type": "display_data"
    },
    {
     "data": {
      "text/markdown": [
       "## Failed papers"
      ],
      "text/plain": [
       "<IPython.core.display.Markdown object>"
      ]
     },
     "metadata": {},
     "output_type": "display_data"
    }
   ],
   "source": [
    "import datetime\n",
    "today = str(datetime.date.today())\n",
    "logfile = f\"_build/html/logs/log-{today}.md\"\n",
    "\n",
    "\n",
    "with open(logfile, 'w') as logs:\n",
    "    # Success\n",
    "    logs.write(f'# Arxiv on Deck 2: Logs - {today}\\n\\n')\n",
    "    logs.write(\"\"\"* Arxiv had {0:,d} new papers\\n\"\"\".format(len(new_papers)))\n",
    "    logs.write(\"\"\"    * {0:,d} with possible author matches\\n\\n\"\"\".format(len(candidates)))\n",
    "    logs.write(\"## Sucessful papers\\n\\n\")\n",
    "    display(Markdown(\"## Successful papers\"))\n",
    "    success = [k[0] for k in documents]\n",
    "    for candid in candidates:\n",
    "        if candid['identifier'].split(':')[-1] in success:\n",
    "            display(candid)\n",
    "            logs.write(candid.generate_markdown_text() + '\\n\\n')\n",
    "\n",
    "    ## failed\n",
    "    logs.write(\"## Failed papers\\n\\n\")\n",
    "    display(Markdown(\"## Failed papers\"))\n",
    "    failed = sorted(failed, key=lambda x: x[1])\n",
    "    current_reason = \"\"\n",
    "    for paper, reason in failed:\n",
    "        if 'affiliation' in reason:\n",
    "            color = 'green'\n",
    "        else:\n",
    "            color = 'red'\n",
    "        data = Markdown(\n",
    "                paper.generate_markdown_text() + \n",
    "                f'\\n|<p style=\"color:{color:s}\"> **ERROR** </p>| <p style=\"color:{color:s}\">{reason:s}</p> |'\n",
    "               )\n",
    "        if reason != current_reason:\n",
    "            logs.write(f'### {reason:s} \\n\\n')\n",
    "            current_reason = reason\n",
    "        logs.write(data.data + '\\n\\n')\n",
    "        \n",
    "        # only display here the important errors (all in logs)\n",
    "        # if color in ('red',):\n",
    "        display(data)"
   ]
  },
  {
   "cell_type": "markdown",
   "id": "472d20ee",
   "metadata": {
    "papermill": {
     "duration": 0.003783,
     "end_time": "2024-04-04T04:09:19.442824",
     "exception": false,
     "start_time": "2024-04-04T04:09:19.439041",
     "status": "completed"
    },
    "tags": []
   },
   "source": [
    "## Export documents\n",
    "\n",
    "We now write the .md files and export relevant images"
   ]
  },
  {
   "cell_type": "code",
   "execution_count": 6,
   "id": "d426aed9",
   "metadata": {
    "execution": {
     "iopub.execute_input": "2024-04-04T04:09:19.451854Z",
     "iopub.status.busy": "2024-04-04T04:09:19.451400Z",
     "iopub.status.idle": "2024-04-04T04:09:19.457809Z",
     "shell.execute_reply": "2024-04-04T04:09:19.457152Z"
    },
    "papermill": {
     "duration": 0.012476,
     "end_time": "2024-04-04T04:09:19.459249",
     "exception": false,
     "start_time": "2024-04-04T04:09:19.446773",
     "status": "completed"
    },
    "tags": []
   },
   "outputs": [],
   "source": [
    "def export_markdown_summary(md: str, md_fname:str, directory: str):\n",
    "    \"\"\"Export MD document and associated relevant images\"\"\"\n",
    "    import os\n",
    "    import shutil\n",
    "    import re\n",
    "\n",
    "    if (os.path.exists(directory) and not os.path.isdir(directory)):\n",
    "        raise RuntimeError(f\"a non-directory file exists with name {directory:s}\")\n",
    "\n",
    "    if (not os.path.exists(directory)):\n",
    "        print(f\"creating directory {directory:s}\")\n",
    "        os.mkdir(directory)\n",
    "\n",
    "    fig_fnames = (re.compile(r'\\[Fig.*\\]\\((.*)\\)').findall(md) + \n",
    "                  re.compile(r'\\<img src=\"([^>\\s]*)\"[^>]*/>').findall(md))\n",
    "    for fname in fig_fnames:\n",
    "        if 'http' in fname:\n",
    "            # No need to copy online figures\n",
    "            continue\n",
    "        destdir = os.path.join(directory, os.path.dirname(fname))\n",
    "        destfname = os.path.join(destdir, os.path.basename(fname))\n",
    "        try:\n",
    "            os.makedirs(destdir)\n",
    "        except FileExistsError:\n",
    "            pass\n",
    "        shutil.copy(fname, destfname)\n",
    "    with open(os.path.join(directory, md_fname), 'w') as fout:\n",
    "        fout.write(md)\n",
    "    print(\"exported in \", os.path.join(directory, md_fname))\n",
    "    [print(\"    + \" + os.path.join(directory,fk)) for fk in fig_fnames]"
   ]
  },
  {
   "cell_type": "code",
   "execution_count": 7,
   "id": "014d04a4",
   "metadata": {
    "execution": {
     "iopub.execute_input": "2024-04-04T04:09:19.467972Z",
     "iopub.status.busy": "2024-04-04T04:09:19.467533Z",
     "iopub.status.idle": "2024-04-04T04:09:19.478019Z",
     "shell.execute_reply": "2024-04-04T04:09:19.477389Z"
    },
    "papermill": {
     "duration": 0.016293,
     "end_time": "2024-04-04T04:09:19.479342",
     "exception": false,
     "start_time": "2024-04-04T04:09:19.463049",
     "status": "completed"
    },
    "tags": []
   },
   "outputs": [
    {
     "name": "stdout",
     "output_type": "stream",
     "text": [
      "exported in  _build/html/2404.02222.md\n",
      "    + _build/html/tmp_2404.02222/./plots/figure_gallery.png\n",
      "    + _build/html/tmp_2404.02222/./plots/figure_Q_U.png\n",
      "    + _build/html/tmp_2404.02222/./plots/figure_PI_vs_m_J.png\n",
      "exported in  _build/html/2404.02275.md\n",
      "    + _build/html/tmp_2404.02275/./stats.png\n",
      "    + _build/html/tmp_2404.02275/./DGF_Rclump.png\n",
      "    + _build/html/tmp_2404.02275/./I13291-6229_atlas.png\n"
     ]
    }
   ],
   "source": [
    "for paper_id, md in documents:\n",
    "    export_markdown_summary(md, f\"{paper_id:s}.md\", '_build/html/')"
   ]
  },
  {
   "cell_type": "markdown",
   "id": "f087a0a7",
   "metadata": {
    "papermill": {
     "duration": 0.003854,
     "end_time": "2024-04-04T04:09:19.487071",
     "exception": false,
     "start_time": "2024-04-04T04:09:19.483217",
     "status": "completed"
    },
    "tags": []
   },
   "source": [
    "## Display the papers\n",
    "\n",
    "Not necessary but allows for a quick check."
   ]
  },
  {
   "cell_type": "code",
   "execution_count": 8,
   "id": "fd25f625",
   "metadata": {
    "execution": {
     "iopub.execute_input": "2024-04-04T04:09:19.495718Z",
     "iopub.status.busy": "2024-04-04T04:09:19.495372Z",
     "iopub.status.idle": "2024-04-04T04:09:19.501019Z",
     "shell.execute_reply": "2024-04-04T04:09:19.500420Z"
    },
    "papermill": {
     "duration": 0.011386,
     "end_time": "2024-04-04T04:09:19.502344",
     "exception": false,
     "start_time": "2024-04-04T04:09:19.490958",
     "status": "completed"
    },
    "scrolled": false,
    "tags": []
   },
   "outputs": [
    {
     "data": {
      "text/markdown": [
       "<div class=\"macros\" style=\"visibility:hidden;\">\n",
       "$\\newcommand{\\ensuremath}{}$\n",
       "$\\newcommand{\\xspace}{}$\n",
       "$\\newcommand{\\object}[1]{\\texttt{#1}}$\n",
       "$\\newcommand{\\farcs}{{.}''}$\n",
       "$\\newcommand{\\farcm}{{.}'}$\n",
       "$\\newcommand{\\arcsec}{''}$\n",
       "$\\newcommand{\\arcmin}{'}$\n",
       "$\\newcommand{\\ion}[2]{#1#2}$\n",
       "$\\newcommand{\\textsc}[1]{\\textrm{#1}}$\n",
       "$\\newcommand{\\hl}[1]{\\textrm{#1}}$\n",
       "$\\newcommand{\\footnote}[1]{}$\n",
       "$\\newcommand{\\arraystretch}{1.05}$</div>\n",
       "\n",
       "\n",
       "\n",
       "<div id=\"title\">\n",
       "\n",
       "# Polarimetric differential imaging with VLT/NACO\n",
       "\n",
       "</div>\n",
       "<div id=\"comments\">\n",
       "\n",
       "[![arXiv](https://img.shields.io/badge/arXiv-2404.02222-b31b1b.svg)](https://arxiv.org/abs/2404.02222)<mark>Appeared on: 2024-04-04</mark> -  _Accepted for publication in A&A. For more information on PIPPIN, see: this https URL . The reduced images are available on Zenodo: this https URL_\n",
       "\n",
       "</div>\n",
       "<div id=\"authors\">\n",
       "\n",
       "S. d. Regt, et al.\n",
       "\n",
       "</div>\n",
       "<div id=\"abstract\">\n",
       "\n",
       "**Abstract:** The observed diversity of exoplanets can possibly be traced back to the planet formation processes. Planet--disk interactions induce sub-structures in the circumstellar disk that can be revealed via scattered light observations. However, a high-contrast imaging technique such as polarimetric differential imaging (PDI) must first be applied to suppress the stellar diffraction halo. In this work we present the PDI PiPelIne for NACO data (PIPPIN), which reduces the archival polarimetric observations made with the NACO instrument at the Very Large Telescope. Prior to this work, such a comprehensive pipeline to reduce polarimetric NACO data did not exist. We identify a total of 243 datasets of 57 potentially young stellar objects observed before NACO's decommissioning. The PIPPIN pipeline applies various levels of instrumental polarisation correction and is capable of reducing multiple observing setups, including half-wave plate or de-rotator usage and wire-grid observations. A novel template-matching method is applied to assess the detection significance of polarised signals in the reduced data. In 22 of the 57 observed targets, we detect polarised light resulting from a scattering of circumstellar dust. The detections exhibit a collection of known sub-structures, including rings, gaps, spirals, shadows, and in- or outflows of material. Since NACO was equipped with a near-infrared wavefront sensor, it made unique polarimetric observations of a number of embedded protostars. This is the first time detections of the Class I objects Elia 2-21 and YLW 16A  have been published. Alongside the outlined PIPPIN pipeline, we publish an archive of the reduced data products, thereby improving the accessibility of these data for future studies.\n",
       "\n",
       "</div>\n",
       "\n",
       "<div id=\"div_fig1\">\n",
       "\n",
       "<img src=\"tmp_2404.02222/./plots/figure_gallery.png\" alt=\"Fig6\" width=\"100%\"/>\n",
       "\n",
       "**Figure 6. -** Gallery of young systems detected with NACO and reduced with PIPPIN. Each panel shows the polarised light on a logarithmic scale ranging between different values to highlight sub-structures. The highest degree of $IP$ correction is used where possible. Scale bars in the lower-left corners of each panel indicate $100 \\mathrm{AU}$ at each object's distance. HD 169142, R CrA, and Parsamian 21 are shown in the H band, MP Mus is shown in the IB\\_2.06 filter, and the other panels use Ks-band observations. Mon R2 IRS 3 shows the median $I_Q$ image because the Stokes $U$ component was not observed. The images of YLW 16A and Elia 2-21 present the first polarised light detections in the NACO observations. (*fig:gallery*)\n",
       "\n",
       "</div>\n",
       "<div id=\"div_fig2\">\n",
       "\n",
       "<img src=\"tmp_2404.02222/./plots/figure_Q_U.png\" alt=\"Fig2\" width=\"100%\"/>\n",
       "\n",
       "**Figure 2. -** Median Stokes $Q$ and $U$ images with different levels of $IP$ corrections for HD 135344B Ks-band observations. _From top to bottom_: $Q^+$ and $U^+$ components after equalising the ordinary and extra-ordinary fluxes, $Q$ and $U$ resulting from the double-difference method, $Q_\\mathrm{IPS}$ and $U_\\mathrm{IPS}$ after subtracting the median $IP$ within an annulus, and the crosstalk-corrected $Q_\\mathrm{CTC}$ and $U_\\mathrm{CTC}$ components where the reduced Stokes $U$ efficiency is accounted for. The characteristic butterfly pattern is visible in each panel, and the compasses show the orientation of the detector and the sky. (*fig:QU*)\n",
       "\n",
       "</div>\n",
       "<div id=\"div_fig3\">\n",
       "\n",
       "<img src=\"tmp_2404.02222/./plots/figure_PI_vs_m_J.png\" alt=\"Fig7\" width=\"100%\"/>\n",
       "\n",
       "**Figure 7. -** Polarised-to-stellar light contrast, $\\delta_\\mathrm{pol}$, plotted against the apparent J-band magnitude. The _right panel_ shows a zoomed-in view of the bright $m_\\mathrm{J}$. The object names are listed along the top axes. The marker colours and symbols specify the observing filter and object type, respectively. Upper limits are shown when the stellar PSF was determined to be saturated. The error bars show the $3\\sigma$ uncertainties. The grey shaded region shows the approximate magnitudes ($m_\\mathrm{J}\\gtrsim10$) inaccessible by the SPHERE AO system. (*fig:disk_contrast_vs_m_J*)\n",
       "\n",
       "</div><div id=\"qrcode\"><img src=https://api.qrserver.com/v1/create-qr-code/?size=100x100&data=\"https://arxiv.org/abs/2404.02222\"></div>"
      ],
      "text/plain": [
       "<IPython.core.display.Markdown object>"
      ]
     },
     "metadata": {},
     "output_type": "display_data"
    },
    {
     "data": {
      "text/markdown": [
       "<div class=\"macros\" style=\"visibility:hidden;\">\n",
       "$\\newcommand{\\ensuremath}{}$\n",
       "$\\newcommand{\\xspace}{}$\n",
       "$\\newcommand{\\object}[1]{\\texttt{#1}}$\n",
       "$\\newcommand{\\farcs}{{.}''}$\n",
       "$\\newcommand{\\farcm}{{.}'}$\n",
       "$\\newcommand{\\arcsec}{''}$\n",
       "$\\newcommand{\\arcmin}{'}$\n",
       "$\\newcommand{\\ion}[2]{#1#2}$\n",
       "$\\newcommand{\\textsc}[1]{\\textrm{#1}}$\n",
       "$\\newcommand{\\hl}[1]{\\textrm{#1}}$\n",
       "$\\newcommand{\\footnote}[1]{}$\n",
       "$\\newcommand{\\massrate}{M_{\\odot} yr^{-1}}$\n",
       "$\\newcommand{\\hi}{H\\textsc{i}}$\n",
       "$\\newcommand{\\hii}{H\\textsc{ii}}$\n",
       "$\\newcommand{\\msun}{ M_\\odot}$\n",
       "$\\newcommand{\\lsun}{ L_\\odot}$\n",
       "$\\newcommand{\\kms}{km s^{-1}}$\n",
       "$\\newcommand{\\jybeam}{Jy beam^{-1}}$\n",
       "$\\newcommand{\\mjybeam}{mJy beam^{-1}}$\n",
       "$\\newcommand{\\hmole}{H_2}$\n",
       "$\\newcommand{◦ee}{^{\\circ}}$\n",
       "$\\newcommand{\\parcsec}{\\mbox{.\\!\\!\\arcsec}}$\n",
       "$\\newcommand{\\ssstyle}{\\scriptscriptstyle}$\n",
       "$\\newcommand{\\htco}{H_2CO}$\n",
       "$\\newcommand{\\arraystretch}{1.8}$\n",
       "$\\newcommand{\\arraystretch}{1.5}$\n",
       "$\\newcommand{\\arraystretch}{1.5}$\n",
       "$\\newcommand{\\arraystretch}{1.5}$</div>\n",
       "\n",
       "\n",
       "\n",
       "<div id=\"title\">\n",
       "\n",
       "# The ALMA-QUARKS Survey: II. the ACA 1.3 mm continuum source catalog and the assembly of dense gas in massive star-forming clumps\n",
       "\n",
       "</div>\n",
       "<div id=\"comments\">\n",
       "\n",
       "[![arXiv](https://img.shields.io/badge/arXiv-2404.02275-b31b1b.svg)](https://arxiv.org/abs/2404.02275)<mark>Appeared on: 2024-04-04</mark> -  _24 pages, 7 figures. Accepted for publication in Research in Astronomy and Astrophysics. QUARKS atlas link: this https URL_\n",
       "\n",
       "</div>\n",
       "<div id=\"authors\">\n",
       "\n",
       "F. X. (许峰玮), et al. -- incl., <mark>S. Li</mark>\n",
       "\n",
       "</div>\n",
       "<div id=\"abstract\">\n",
       "\n",
       "**Abstract:** Leveraging the high resolution, sensitivity, and wide frequency coverage of the Atacama Large Millimeter/submillimeter Array (ALMA), the QUARKS survey, standing for `Querying Underlying mechanisms of massive star formation with ALMA-Resolved gas Kinematics and Structures', is observing 139 massive star-forming clumps at ALMA Band 6 ( $\\lambda\\sim$ 1.3 mm). This paper introduces the Atacama Compact Array (ACA) 7-m data of the QUARKS survey, describing the ACA observations and data reduction. Combining multi-wavelength data, we provide the first edition of QUARKS atlas, offering insights into the multiscale and multiphase interstellar medium (ISM) in high-mass star formation. The ACA 1.3 mm catalog includes 207 continuum sources that are called ACA sources. Their gas kinetic temperatures are estimated using three formaldehyde transitions with a non-LTE radiation transfer model, and the mass and density are derived from a dust emission model. The ACA sources are massive (16--84 percentile values of 6--160 $\\msun$ ), gravity-dominated ( $M\\propto R^{1.1}$ ) fragments within massive clumps, with supersonic turbulence ( $\\mathcal{M}>1$ ) and embedded star-forming protoclusters. We find a linear correlation between the masses of the fragments and the massive clumps, with a ratio of 6 \\% between the two. When considering the fragments as representative of dense gas, the ratio indicates a dense gas fraction (DGF) of 6 \\% , although with a wide scatter ranging from 1 \\% to 10 \\% . If we consider the QUARKS massive clumps to be what is observed at various scales, then the size-independent DGF indicates a self-similar fragmentation or collapsing mode in protocluster formation. With the ACA data over four orders of magnitude of luminosity-to-mass ratio ( $L/M$ ), we find that the DGF increases significantly with $L/M$ , which indicates clump evolutionary stage. We observed a limited fragmentation at the subclump scale, which can be explained by dynamic global collapse process.\n",
       "\n",
       "</div>\n",
       "\n",
       "<div id=\"div_fig1\">\n",
       "\n",
       "<img src=\"tmp_2404.02275/./stats.png\" alt=\"Fig3\" width=\"100%\"/>\n",
       "\n",
       "**Figure 3. -** Histograms of (a) kinetic temperature $T_{\\rm kin}$, (b) source mass $M_{\\rm source}$, (c) surface density, (d) Mach number $\\mathcal{M}$, (e) source size $R_{\\rm dec}$, and (f) volume density $n_{\\rm H_2}$.\n",
       " (*fig:stats*)\n",
       "\n",
       "</div>\n",
       "<div id=\"div_fig2\">\n",
       "\n",
       "<img src=\"tmp_2404.02275/./DGF_Rclump.png\" alt=\"Fig6\" width=\"100%\"/>\n",
       "\n",
       "**Figure 6. -** Dense gas fraction (DGF) versus clump radius ($R_{\\rm clump}$) of (a) the QUARKS sample and (b) the ASHES sample. The hexagons indicate the probability distributions of data points. The colored stars show the median values with errorbars in the $R_{\\rm clump}$ bins.\n",
       " (*fig:DGF_Rclump*)\n",
       "\n",
       "</div>\n",
       "<div id=\"div_fig3\">\n",
       "\n",
       "<img src=\"tmp_2404.02275/./I13291-6229_atlas.png\" alt=\"Fig1\" width=\"100%\"/>\n",
       "\n",
       "**Figure 1. -** QUARKS multi-band atlas of representative source I13291-6229. _Left panel_: the background is the Spitzer 3.6/4.5/8 $\\mu$m pseudo color map, overlaid with Herschel 500 $\\mu$m (white contours) and MeerKAT Galactic Plane Survey (MGPS) 1.28 GHz data (yellow contours). The red circle indicates the field of view ($\\sim80$\\arcsec) of the combined ATOMS 12m + ACA 3 mm continuum data. _Middle panel_: the background is the ATOMS combined 3 mm continuum data, linearly scaled from $-9\\sigma$ to $9\\sigma$ and logarithmically scaled from $9\\sigma$ to peak intensity. The source IDs are in order from North to South, and the nomenclature follows \"\\#Field\\_ATOMS\\#ID\". The green dashed circle(s) indicate the QUARKS pointing(s), with size of 7-m primary beam response of 0.2. The ATOMS beam size is shown on the bottom left. _Right panel_: the background is the QUARKS ACA 1.3 mm continuum data, linearly scaled from $-3\\sigma$ to peak intensity. The continuum sources are shown as red ellipses (SNR$>9$) and yellow ellipses (SNR$<9$). The source IDs are in order from North to South and the nomenclature follows \"\\#Field\\_ACA\\#ID\". The QUARKS beam size is shown in the bottom left. The scale bars in three panels are shown on the bottom right. (*fig:atlas_example*)\n",
       "\n",
       "</div><div id=\"qrcode\"><img src=https://api.qrserver.com/v1/create-qr-code/?size=100x100&data=\"https://arxiv.org/abs/2404.02275\"></div>"
      ],
      "text/plain": [
       "<IPython.core.display.Markdown object>"
      ]
     },
     "metadata": {},
     "output_type": "display_data"
    }
   ],
   "source": [
    "[display(Markdown(k[1])) for k in documents];"
   ]
  },
  {
   "cell_type": "markdown",
   "id": "873873a4",
   "metadata": {
    "papermill": {
     "duration": 0.004212,
     "end_time": "2024-04-04T04:09:19.510875",
     "exception": false,
     "start_time": "2024-04-04T04:09:19.506663",
     "status": "completed"
    },
    "tags": []
   },
   "source": [
    "# Create HTML index"
   ]
  },
  {
   "cell_type": "code",
   "execution_count": 9,
   "id": "cf665672",
   "metadata": {
    "execution": {
     "iopub.execute_input": "2024-04-04T04:09:19.520804Z",
     "iopub.status.busy": "2024-04-04T04:09:19.520166Z",
     "iopub.status.idle": "2024-04-04T04:09:19.530229Z",
     "shell.execute_reply": "2024-04-04T04:09:19.529691Z"
    },
    "papermill": {
     "duration": 0.01632,
     "end_time": "2024-04-04T04:09:19.531523",
     "exception": false,
     "start_time": "2024-04-04T04:09:19.515203",
     "status": "completed"
    },
    "tags": []
   },
   "outputs": [
    {
     "name": "stdout",
     "output_type": "stream",
     "text": [
      "396  publications files modified in the last 7 days.\n"
     ]
    }
   ],
   "source": [
    "from datetime import datetime, timedelta, timezone\n",
    "from glob import glob\n",
    "import os\n",
    "\n",
    "files = glob('_build/html/*.md')\n",
    "days = 7\n",
    "now = datetime.today()\n",
    "res = []\n",
    "for fk in files:\n",
    "    stat_result = os.stat(fk).st_ctime\n",
    "    modified = datetime.fromtimestamp(stat_result, tz=timezone.utc).replace(tzinfo=None)\n",
    "    delta = now.today() - modified\n",
    "    if delta <= timedelta(days=days):\n",
    "        res.append((delta.seconds, fk))\n",
    "res = [k[1] for k in reversed(sorted(res, key=lambda x:x[1]))]\n",
    "npub = len(res)\n",
    "print(len(res), f\" publications files modified in the last {days:d} days.\")\n",
    "# [ print('\\t', k) for k in res ];"
   ]
  },
  {
   "cell_type": "code",
   "execution_count": 10,
   "id": "015de740",
   "metadata": {
    "execution": {
     "iopub.execute_input": "2024-04-04T04:09:19.541199Z",
     "iopub.status.busy": "2024-04-04T04:09:19.540757Z",
     "iopub.status.idle": "2024-04-04T04:09:19.562215Z",
     "shell.execute_reply": "2024-04-04T04:09:19.561668Z"
    },
    "papermill": {
     "duration": 0.027682,
     "end_time": "2024-04-04T04:09:19.563482",
     "exception": false,
     "start_time": "2024-04-04T04:09:19.535800",
     "status": "completed"
    },
    "tags": []
   },
   "outputs": [
    {
     "name": "stdout",
     "output_type": "stream",
     "text": [
      "3  publications in the last 7 days.\n"
     ]
    }
   ],
   "source": [
    "import datetime\n",
    "from glob import glob\n",
    "\n",
    "def get_last_n_days(lst, days=1):\n",
    "    \"\"\" Get the documents from the last n days \"\"\"\n",
    "    sorted_lst = sorted(lst, key=lambda x: x[1], reverse=True)\n",
    "    for fname, date in sorted_lst:\n",
    "        if date >= str(datetime.date.today() - datetime.timedelta(days=days)):\n",
    "            yield fname\n",
    "\n",
    "def extract_appearance_dates(lst_file):\n",
    "    dates = []\n",
    "\n",
    "    def get_date(line):\n",
    "        return line\\\n",
    "            .split('Appeared on:')[-1]\\\n",
    "            .split('</mark>')[0].strip()\n",
    "\n",
    "    for fname in lst:\n",
    "        with open(fname, 'r') as f:\n",
    "            found_date = False\n",
    "            for line in f:\n",
    "                if not found_date:\n",
    "                    if \"Appeared on\" in line:\n",
    "                        found_date = True\n",
    "                        dates.append((fname, get_date(line)))\n",
    "                else:\n",
    "                    break\n",
    "    return dates\n",
    "\n",
    "from glob import glob\n",
    "lst = glob('_build/html/*md')\n",
    "days = 7\n",
    "dates = extract_appearance_dates(lst)\n",
    "res = list(get_last_n_days(dates, days))\n",
    "npub = len(res)\n",
    "print(len(res), f\" publications in the last {days:d} days.\")"
   ]
  },
  {
   "cell_type": "code",
   "execution_count": 11,
   "id": "52ca0208",
   "metadata": {
    "execution": {
     "iopub.execute_input": "2024-04-04T04:09:19.573146Z",
     "iopub.status.busy": "2024-04-04T04:09:19.572956Z",
     "iopub.status.idle": "2024-04-04T04:09:19.578207Z",
     "shell.execute_reply": "2024-04-04T04:09:19.577449Z"
    },
    "papermill": {
     "duration": 0.011802,
     "end_time": "2024-04-04T04:09:19.579689",
     "exception": false,
     "start_time": "2024-04-04T04:09:19.567887",
     "status": "completed"
    },
    "scrolled": false,
    "tags": []
   },
   "outputs": [],
   "source": [
    "def create_carousel(npub=4):\n",
    "    \"\"\" Generate the HTML code for a carousel with `npub` slides \"\"\"\n",
    "    carousel = [\"\"\"  <div class=\"carousel\" \"\"\",\n",
    "                \"\"\"       data-flickity='{ \"autoPlay\": 10000, \"adaptiveHeight\": true, \"resize\": true, \"wrapAround\": true, \"pauseAutoPlayOnHover\": true, \"groupCells\": 1 }' id=\"asyncTypeset\">\"\"\"\n",
    "                ]\n",
    "    \n",
    "    item_str = \"\"\"    <div class=\"carousel-cell\"> <div id=\"slide{k}\" class=\"md_view\">Content {k}</div> </div>\"\"\"\n",
    "    for k in range(1, npub + 1):\n",
    "        carousel.append(item_str.format(k=k))\n",
    "    carousel.append(\"  </div>\")\n",
    "    return '\\n'.join(carousel)\n",
    "\n",
    "def create_grid(npub=4):\n",
    "    \"\"\" Generate the HTML code for a flat grid with `npub` slides \"\"\"\n",
    "    grid = [\"\"\"  <div class=\"grid\"> \"\"\",\n",
    "                ]\n",
    "    \n",
    "    item_str = \"\"\"    <div class=\"grid-item\"> <div id=\"slide{k}\" class=\"md_view\">Content {k}</div> </div>\"\"\"\n",
    "    for k in range(1, npub + 1):\n",
    "        grid.append(item_str.format(k=k))\n",
    "    grid.append(\"  </div>\")\n",
    "    return '\\n'.join(grid)"
   ]
  },
  {
   "cell_type": "code",
   "execution_count": 12,
   "id": "a6eac5b6",
   "metadata": {
    "execution": {
     "iopub.execute_input": "2024-04-04T04:09:19.589655Z",
     "iopub.status.busy": "2024-04-04T04:09:19.589273Z",
     "iopub.status.idle": "2024-04-04T04:09:19.594412Z",
     "shell.execute_reply": "2024-04-04T04:09:19.593720Z"
    },
    "papermill": {
     "duration": 0.011683,
     "end_time": "2024-04-04T04:09:19.595872",
     "exception": false,
     "start_time": "2024-04-04T04:09:19.584189",
     "status": "completed"
    },
    "scrolled": false,
    "tags": []
   },
   "outputs": [],
   "source": [
    "carousel = create_carousel(npub)\n",
    "docs = ', '.join(['\"{0:s}\"'.format(k.split('/')[-1]) for k in res])\n",
    "slides = ', '.join([f'\"slide{k}\"' for k in range(1, npub + 1)])\n",
    "\n",
    "with open(\"daily_template.html\", \"r\") as tpl:\n",
    "    page = tpl.read()\n",
    "    page = page.replace(\"{%-- carousel:s --%}\", carousel)\\\n",
    "               .replace(\"{%-- suptitle:s --%}\",  \"7-day archives\" )\\\n",
    "               .replace(\"{%-- docs:s --%}\", docs)\\\n",
    "               .replace(\"{%-- slides:s --%}\", slides)\n",
    "    \n",
    "with open(\"_build/html/index_7days.html\", 'w') as fout:\n",
    "    fout.write(page)"
   ]
  },
  {
   "cell_type": "code",
   "execution_count": 13,
   "id": "adc1a1ec",
   "metadata": {
    "execution": {
     "iopub.execute_input": "2024-04-04T04:09:19.605673Z",
     "iopub.status.busy": "2024-04-04T04:09:19.605436Z",
     "iopub.status.idle": "2024-04-04T04:09:19.612279Z",
     "shell.execute_reply": "2024-04-04T04:09:19.611711Z"
    },
    "papermill": {
     "duration": 0.013284,
     "end_time": "2024-04-04T04:09:19.613603",
     "exception": false,
     "start_time": "2024-04-04T04:09:19.600319",
     "status": "completed"
    },
    "tags": []
   },
   "outputs": [
    {
     "name": "stdout",
     "output_type": "stream",
     "text": [
      "2  publications in the last day.\n"
     ]
    }
   ],
   "source": [
    "# redo for today\n",
    "days = 1\n",
    "res = list(get_last_n_days(dates, days))\n",
    "npub = len(res)\n",
    "print(len(res), f\" publications in the last day.\")\n",
    "\n",
    "carousel = create_carousel(npub)\n",
    "docs = ', '.join(['\"{0:s}\"'.format(k.split('/')[-1]) for k in res])\n",
    "slides = ', '.join([f'\"slide{k}\"' for k in range(1, npub + 1)])\n",
    "\n",
    "with open(\"daily_template.html\", \"r\") as tpl:\n",
    "    page = tpl.read()\n",
    "    page = page.replace(\"{%-- carousel:s --%}\", carousel)\\\n",
    "               .replace(\"{%-- suptitle:s --%}\",  \"Daily\" )\\\n",
    "               .replace(\"{%-- docs:s --%}\", docs)\\\n",
    "               .replace(\"{%-- slides:s --%}\", slides)\n",
    "    \n",
    "# print(carousel, docs, slides)\n",
    "# print(page)\n",
    "with open(\"_build/html/index_daily.html\", 'w') as fout:\n",
    "    fout.write(page)"
   ]
  },
  {
   "cell_type": "code",
   "execution_count": 14,
   "id": "00eece82",
   "metadata": {
    "execution": {
     "iopub.execute_input": "2024-04-04T04:09:19.623864Z",
     "iopub.status.busy": "2024-04-04T04:09:19.623484Z",
     "iopub.status.idle": "2024-04-04T04:09:19.629725Z",
     "shell.execute_reply": "2024-04-04T04:09:19.629113Z"
    },
    "papermill": {
     "duration": 0.012818,
     "end_time": "2024-04-04T04:09:19.631069",
     "exception": false,
     "start_time": "2024-04-04T04:09:19.618251",
     "status": "completed"
    },
    "scrolled": false,
    "tags": []
   },
   "outputs": [
    {
     "name": "stdout",
     "output_type": "stream",
     "text": [
      "6  6 publications selected.\n"
     ]
    }
   ],
   "source": [
    "# Create the flat grid of the last N papers (fixed number regardless of dates)\n",
    "from itertools import islice \n",
    "\n",
    "npub = 6\n",
    "res = [k[0] for k in (islice(reversed(sorted(dates, key=lambda x: x[1])), 6))]\n",
    "print(len(res), f\" {npub} publications selected.\")\n",
    "\n",
    "grid = create_grid(npub)\n",
    "docs = ', '.join(['\"{0:s}\"'.format(k.split('/')[-1]) for k in res])\n",
    "slides = ', '.join([f'\"slide{k}\"' for k in range(1, npub + 1)])\n",
    "\n",
    "with open(\"grid_template.html\", \"r\") as tpl:\n",
    "    page = tpl.read()\n",
    "    page = page.replace(\"{%-- grid-content:s --%}\", grid)\\\n",
    "               .replace(\"{%-- suptitle:s --%}\",  f\"Last {npub:,d} papers\" )\\\n",
    "               .replace(\"{%-- docs:s --%}\", docs)\\\n",
    "               .replace(\"{%-- slides:s --%}\", slides)\n",
    "    \n",
    "# print(grid, docs, slides)\n",
    "# print(page)\n",
    "with open(\"_build/html/index_npub_grid.html\", 'w') as fout:\n",
    "    fout.write(page)"
   ]
  }
 ],
 "metadata": {
  "kernelspec": {
   "display_name": "Python 3 (ipykernel)",
   "language": "python",
   "name": "python3"
  },
  "language_info": {
   "codemirror_mode": {
    "name": "ipython",
    "version": 3
   },
   "file_extension": ".py",
   "mimetype": "text/x-python",
   "name": "python",
   "nbconvert_exporter": "python",
   "pygments_lexer": "ipython3",
   "version": "3.9.19"
  },
  "papermill": {
   "default_parameters": {},
   "duration": 67.635241,
   "end_time": "2024-04-04T04:09:19.851869",
   "environment_variables": {},
   "exception": null,
   "input_path": "MPIA daily digest.ipynb",
   "output_path": "log.ipynb",
   "parameters": {},
   "start_time": "2024-04-04T04:08:12.216628",
   "version": "2.5.0"
  },
  "vscode": {
   "interpreter": {
    "hash": "aee8b7b246df8f9039afb4144a1f6fd8d2ca17a180786b69acc140d282b71a49"
   }
  },
  "widgets": {
   "application/vnd.jupyter.widget-state+json": {
    "state": {
     "12ccc5f6541e46909d24daa17e9a7379": {
      "model_module": "@jupyter-widgets/controls",
      "model_module_version": "2.0.0",
      "model_name": "HBoxModel",
      "state": {
       "_dom_classes": [],
       "_model_module": "@jupyter-widgets/controls",
       "_model_module_version": "2.0.0",
       "_model_name": "HBoxModel",
       "_view_count": null,
       "_view_module": "@jupyter-widgets/controls",
       "_view_module_version": "2.0.0",
       "_view_name": "HBoxView",
       "box_style": "",
       "children": [
        "IPY_MODEL_1d73eb30954e4e059ae7d9028e3dd86d",
        "IPY_MODEL_905c082ce7104c23888f935ca10dd0b3",
        "IPY_MODEL_6fb99b38eb104153a00c7cc9726eb594"
       ],
       "layout": "IPY_MODEL_648ffdfb993b406eb7974eaa39cfe361",
       "tabbable": null,
       "tooltip": null
      }
     },
     "1d73eb30954e4e059ae7d9028e3dd86d": {
      "model_module": "@jupyter-widgets/controls",
      "model_module_version": "2.0.0",
      "model_name": "HTMLModel",
      "state": {
       "_dom_classes": [],
       "_model_module": "@jupyter-widgets/controls",
       "_model_module_version": "2.0.0",
       "_model_name": "HTMLModel",
       "_view_count": null,
       "_view_module": "@jupyter-widgets/controls",
       "_view_module_version": "2.0.0",
       "_view_name": "HTMLView",
       "description": "",
       "description_allow_html": false,
       "layout": "IPY_MODEL_3a80de37a63143c4baff19ca757bfbfc",
       "placeholder": "​",
       "style": "IPY_MODEL_b809f5db62944cb58a6e74c78b2a0453",
       "tabbable": null,
       "tooltip": null,
       "value": "100%"
      }
     },
     "3a80de37a63143c4baff19ca757bfbfc": {
      "model_module": "@jupyter-widgets/base",
      "model_module_version": "2.0.0",
      "model_name": "LayoutModel",
      "state": {
       "_model_module": "@jupyter-widgets/base",
       "_model_module_version": "2.0.0",
       "_model_name": "LayoutModel",
       "_view_count": null,
       "_view_module": "@jupyter-widgets/base",
       "_view_module_version": "2.0.0",
       "_view_name": "LayoutView",
       "align_content": null,
       "align_items": null,
       "align_self": null,
       "border_bottom": null,
       "border_left": null,
       "border_right": null,
       "border_top": null,
       "bottom": null,
       "display": null,
       "flex": null,
       "flex_flow": null,
       "grid_area": null,
       "grid_auto_columns": null,
       "grid_auto_flow": null,
       "grid_auto_rows": null,
       "grid_column": null,
       "grid_gap": null,
       "grid_row": null,
       "grid_template_areas": null,
       "grid_template_columns": null,
       "grid_template_rows": null,
       "height": null,
       "justify_content": null,
       "justify_items": null,
       "left": null,
       "margin": null,
       "max_height": null,
       "max_width": null,
       "min_height": null,
       "min_width": null,
       "object_fit": null,
       "object_position": null,
       "order": null,
       "overflow": null,
       "padding": null,
       "right": null,
       "top": null,
       "visibility": null,
       "width": null
      }
     },
     "648ffdfb993b406eb7974eaa39cfe361": {
      "model_module": "@jupyter-widgets/base",
      "model_module_version": "2.0.0",
      "model_name": "LayoutModel",
      "state": {
       "_model_module": "@jupyter-widgets/base",
       "_model_module_version": "2.0.0",
       "_model_name": "LayoutModel",
       "_view_count": null,
       "_view_module": "@jupyter-widgets/base",
       "_view_module_version": "2.0.0",
       "_view_name": "LayoutView",
       "align_content": null,
       "align_items": null,
       "align_self": null,
       "border_bottom": null,
       "border_left": null,
       "border_right": null,
       "border_top": null,
       "bottom": null,
       "display": null,
       "flex": null,
       "flex_flow": null,
       "grid_area": null,
       "grid_auto_columns": null,
       "grid_auto_flow": null,
       "grid_auto_rows": null,
       "grid_column": null,
       "grid_gap": null,
       "grid_row": null,
       "grid_template_areas": null,
       "grid_template_columns": null,
       "grid_template_rows": null,
       "height": null,
       "justify_content": null,
       "justify_items": null,
       "left": null,
       "margin": null,
       "max_height": null,
       "max_width": null,
       "min_height": null,
       "min_width": null,
       "object_fit": null,
       "object_position": null,
       "order": null,
       "overflow": null,
       "padding": null,
       "right": null,
       "top": null,
       "visibility": null,
       "width": null
      }
     },
     "653986102e5e4956a74778f9fe776b8f": {
      "model_module": "@jupyter-widgets/controls",
      "model_module_version": "2.0.0",
      "model_name": "HTMLStyleModel",
      "state": {
       "_model_module": "@jupyter-widgets/controls",
       "_model_module_version": "2.0.0",
       "_model_name": "HTMLStyleModel",
       "_view_count": null,
       "_view_module": "@jupyter-widgets/base",
       "_view_module_version": "2.0.0",
       "_view_name": "StyleView",
       "background": null,
       "description_width": "",
       "font_size": null,
       "text_color": null
      }
     },
     "6fb99b38eb104153a00c7cc9726eb594": {
      "model_module": "@jupyter-widgets/controls",
      "model_module_version": "2.0.0",
      "model_name": "HTMLModel",
      "state": {
       "_dom_classes": [],
       "_model_module": "@jupyter-widgets/controls",
       "_model_module_version": "2.0.0",
       "_model_name": "HTMLModel",
       "_view_count": null,
       "_view_module": "@jupyter-widgets/controls",
       "_view_module_version": "2.0.0",
       "_view_name": "HTMLView",
       "description": "",
       "description_allow_html": false,
       "layout": "IPY_MODEL_9d3644bd92734680ad0377090a0ef541",
       "placeholder": "​",
       "style": "IPY_MODEL_653986102e5e4956a74778f9fe776b8f",
       "tabbable": null,
       "tooltip": null,
       "value": " 2/2 [00:46&lt;00:00, 22.35s/it]"
      }
     },
     "70b0dfb453304e619004d74c975311a8": {
      "model_module": "@jupyter-widgets/base",
      "model_module_version": "2.0.0",
      "model_name": "LayoutModel",
      "state": {
       "_model_module": "@jupyter-widgets/base",
       "_model_module_version": "2.0.0",
       "_model_name": "LayoutModel",
       "_view_count": null,
       "_view_module": "@jupyter-widgets/base",
       "_view_module_version": "2.0.0",
       "_view_name": "LayoutView",
       "align_content": null,
       "align_items": null,
       "align_self": null,
       "border_bottom": null,
       "border_left": null,
       "border_right": null,
       "border_top": null,
       "bottom": null,
       "display": null,
       "flex": null,
       "flex_flow": null,
       "grid_area": null,
       "grid_auto_columns": null,
       "grid_auto_flow": null,
       "grid_auto_rows": null,
       "grid_column": null,
       "grid_gap": null,
       "grid_row": null,
       "grid_template_areas": null,
       "grid_template_columns": null,
       "grid_template_rows": null,
       "height": null,
       "justify_content": null,
       "justify_items": null,
       "left": null,
       "margin": null,
       "max_height": null,
       "max_width": null,
       "min_height": null,
       "min_width": null,
       "object_fit": null,
       "object_position": null,
       "order": null,
       "overflow": null,
       "padding": null,
       "right": null,
       "top": null,
       "visibility": null,
       "width": null
      }
     },
     "905c082ce7104c23888f935ca10dd0b3": {
      "model_module": "@jupyter-widgets/controls",
      "model_module_version": "2.0.0",
      "model_name": "FloatProgressModel",
      "state": {
       "_dom_classes": [],
       "_model_module": "@jupyter-widgets/controls",
       "_model_module_version": "2.0.0",
       "_model_name": "FloatProgressModel",
       "_view_count": null,
       "_view_module": "@jupyter-widgets/controls",
       "_view_module_version": "2.0.0",
       "_view_name": "ProgressView",
       "bar_style": "success",
       "description": "",
       "description_allow_html": false,
       "layout": "IPY_MODEL_70b0dfb453304e619004d74c975311a8",
       "max": 2.0,
       "min": 0.0,
       "orientation": "horizontal",
       "style": "IPY_MODEL_c6e94d4b10a74c128042416e96c45118",
       "tabbable": null,
       "tooltip": null,
       "value": 2.0
      }
     },
     "9d3644bd92734680ad0377090a0ef541": {
      "model_module": "@jupyter-widgets/base",
      "model_module_version": "2.0.0",
      "model_name": "LayoutModel",
      "state": {
       "_model_module": "@jupyter-widgets/base",
       "_model_module_version": "2.0.0",
       "_model_name": "LayoutModel",
       "_view_count": null,
       "_view_module": "@jupyter-widgets/base",
       "_view_module_version": "2.0.0",
       "_view_name": "LayoutView",
       "align_content": null,
       "align_items": null,
       "align_self": null,
       "border_bottom": null,
       "border_left": null,
       "border_right": null,
       "border_top": null,
       "bottom": null,
       "display": null,
       "flex": null,
       "flex_flow": null,
       "grid_area": null,
       "grid_auto_columns": null,
       "grid_auto_flow": null,
       "grid_auto_rows": null,
       "grid_column": null,
       "grid_gap": null,
       "grid_row": null,
       "grid_template_areas": null,
       "grid_template_columns": null,
       "grid_template_rows": null,
       "height": null,
       "justify_content": null,
       "justify_items": null,
       "left": null,
       "margin": null,
       "max_height": null,
       "max_width": null,
       "min_height": null,
       "min_width": null,
       "object_fit": null,
       "object_position": null,
       "order": null,
       "overflow": null,
       "padding": null,
       "right": null,
       "top": null,
       "visibility": null,
       "width": null
      }
     },
     "b809f5db62944cb58a6e74c78b2a0453": {
      "model_module": "@jupyter-widgets/controls",
      "model_module_version": "2.0.0",
      "model_name": "HTMLStyleModel",
      "state": {
       "_model_module": "@jupyter-widgets/controls",
       "_model_module_version": "2.0.0",
       "_model_name": "HTMLStyleModel",
       "_view_count": null,
       "_view_module": "@jupyter-widgets/base",
       "_view_module_version": "2.0.0",
       "_view_name": "StyleView",
       "background": null,
       "description_width": "",
       "font_size": null,
       "text_color": null
      }
     },
     "c6e94d4b10a74c128042416e96c45118": {
      "model_module": "@jupyter-widgets/controls",
      "model_module_version": "2.0.0",
      "model_name": "ProgressStyleModel",
      "state": {
       "_model_module": "@jupyter-widgets/controls",
       "_model_module_version": "2.0.0",
       "_model_name": "ProgressStyleModel",
       "_view_count": null,
       "_view_module": "@jupyter-widgets/base",
       "_view_module_version": "2.0.0",
       "_view_name": "StyleView",
       "bar_color": null,
       "description_width": ""
      }
     }
    },
    "version_major": 2,
    "version_minor": 0
   }
  }
 },
 "nbformat": 4,
 "nbformat_minor": 5
}