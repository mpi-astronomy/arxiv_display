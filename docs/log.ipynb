{
 "cells": [
  {
   "cell_type": "markdown",
   "id": "92bcb855",
   "metadata": {
    "papermill": {
     "duration": 0.005873,
     "end_time": "2023-02-10T04:07:51.078465",
     "exception": false,
     "start_time": "2023-02-10T04:07:51.072592",
     "status": "completed"
    },
    "tags": []
   },
   "source": [
    "# MPIA Arxiv on Deck 2\n",
    "\n",
    "Contains the steps to produce the paper extractions."
   ]
  },
  {
   "cell_type": "code",
   "execution_count": 1,
   "id": "3a0d6e11",
   "metadata": {
    "execution": {
     "iopub.execute_input": "2023-02-10T04:07:51.088812Z",
     "iopub.status.busy": "2023-02-10T04:07:51.088199Z",
     "iopub.status.idle": "2023-02-10T04:07:51.283388Z",
     "shell.execute_reply": "2023-02-10T04:07:51.282633Z"
    },
    "papermill": {
     "duration": 0.202713,
     "end_time": "2023-02-10T04:07:51.285494",
     "exception": false,
     "start_time": "2023-02-10T04:07:51.082781",
     "status": "completed"
    },
    "tags": []
   },
   "outputs": [],
   "source": [
    "# Imports\n",
    "import os\n",
    "from IPython.display import Markdown, display\n",
    "from tqdm.notebook import tqdm\n",
    "import warnings\n",
    "from PIL import Image \n",
    "\n",
    "# requires arxiv_on_deck_2\n",
    "\n",
    "from arxiv_on_deck_2.arxiv2 import (get_new_papers, \n",
    "                                    get_paper_from_identifier,\n",
    "                                    retrieve_document_source, \n",
    "                                    get_markdown_badge)\n",
    "from arxiv_on_deck_2 import (latex, \n",
    "                             mpia,\n",
    "                             highlight_authors_in_list)\n",
    "\n",
    "# Sometimes images are really big\n",
    "Image.MAX_IMAGE_PIXELS = 1000000000 "
   ]
  },
  {
   "cell_type": "code",
   "execution_count": 2,
   "id": "22aa9d44",
   "metadata": {
    "execution": {
     "iopub.execute_input": "2023-02-10T04:07:51.296242Z",
     "iopub.status.busy": "2023-02-10T04:07:51.295717Z",
     "iopub.status.idle": "2023-02-10T04:07:51.300802Z",
     "shell.execute_reply": "2023-02-10T04:07:51.300169Z"
    },
    "papermill": {
     "duration": 0.01252,
     "end_time": "2023-02-10T04:07:51.302867",
     "exception": false,
     "start_time": "2023-02-10T04:07:51.290347",
     "status": "completed"
    },
    "tags": []
   },
   "outputs": [],
   "source": [
    "# Some useful definitions.\n",
    "\n",
    "class AffiliationWarning(UserWarning):\n",
    "    pass\n",
    "\n",
    "class AffiliationError(RuntimeError):\n",
    "    pass\n",
    "\n",
    "def validation(source: str):\n",
    "    \"\"\"Raises error paper during parsing of source file\n",
    "    \n",
    "    Allows checks before parsing TeX code.\n",
    "    \n",
    "    Raises AffiliationWarning\n",
    "    \"\"\"\n",
    "    check = mpia.affiliation_verifications(source, verbose=True)\n",
    "    if check is not True:\n",
    "        raise AffiliationError(\"mpia.affiliation_verifications: \" + check)\n",
    "\n",
    "        \n",
    "warnings.simplefilter('always', AffiliationWarning)"
   ]
  },
  {
   "cell_type": "code",
   "execution_count": 3,
   "id": "14622700",
   "metadata": {
    "execution": {
     "iopub.execute_input": "2023-02-10T04:07:51.312210Z",
     "iopub.status.busy": "2023-02-10T04:07:51.311683Z",
     "iopub.status.idle": "2023-02-10T04:07:51.315549Z",
     "shell.execute_reply": "2023-02-10T04:07:51.314922Z"
    },
    "papermill": {
     "duration": 0.010232,
     "end_time": "2023-02-10T04:07:51.317118",
     "exception": false,
     "start_time": "2023-02-10T04:07:51.306886",
     "status": "completed"
    },
    "tags": []
   },
   "outputs": [],
   "source": [
    "# additional CSS to consider. \n",
    "# TODO: Current into each exported file. \n",
    "#       This should be set once into the webpages directly.\n",
    "#       With only the class/id definitions in the .md files.\n",
    "\n",
    "debug_html = \"\"\"\n",
    "<style>\n",
    "#wrap{ overflow:auto; }\n",
    "#fig1{ background:yellow; width:100%; float:left; padding:5px;  }\n",
    "#fig2{ background:red; width:50%; float:left; clear:left; padding:5px;  }\n",
    "#fig3{ background:green; width:50%; float:left; padding:5px;   }\n",
    ".macros{ background:yellow; visibility:visible;}\n",
    "h1 {margin: 0 0 0 0;}\n",
    "mark {background-color:#fff3b6;}\n",
    "img {object-fit:contain; max-height:250px; display:inline-block; text-align: center;}\n",
    "</style>\n",
    "\"\"\" \n",
    "html = \"\"\"\n",
    "<style>\n",
    "#wrap{ overflow:auto; }\n",
    "#fig1{ width:100%; float:left; padding: 5px;  }\n",
    "#fig2{ width:50%; float:left; clear:left; padding: 5px;  }\n",
    "#fig3{ width:50%; float:left; padding: 5px;  }\n",
    ".macros{ visibility:hidden; height:0px; }\n",
    "h1 {margin: 0em 0 0 0;}\n",
    "mark {background-color:#fff3b6;}\n",
    "img {object-fit:contain; max-height:250px; display:inline-block; text-align: center;}\n",
    "</style>\n",
    "\"\"\""
   ]
  },
  {
   "cell_type": "markdown",
   "id": "14bd6310",
   "metadata": {
    "papermill": {
     "duration": 0.003982,
     "end_time": "2023-02-10T04:07:51.325013",
     "exception": false,
     "start_time": "2023-02-10T04:07:51.321031",
     "status": "completed"
    },
    "tags": []
   },
   "source": [
    "## get list of arxiv paper candidates\n",
    "\n",
    "We use the MPIA mitarbeiter list webpage from mpia.de to get author names\n",
    "We then get all new papers from Arxiv and match authors"
   ]
  },
  {
   "cell_type": "code",
   "execution_count": 4,
   "id": "2645e73a",
   "metadata": {
    "execution": {
     "iopub.execute_input": "2023-02-10T04:07:51.334342Z",
     "iopub.status.busy": "2023-02-10T04:07:51.333856Z",
     "iopub.status.idle": "2023-02-10T04:08:19.049589Z",
     "shell.execute_reply": "2023-02-10T04:08:19.048764Z"
    },
    "papermill": {
     "duration": 27.722765,
     "end_time": "2023-02-10T04:08:19.051701",
     "exception": false,
     "start_time": "2023-02-10T04:07:51.328936",
     "status": "completed"
    },
    "tags": []
   },
   "outputs": [
    {
     "name": "stdout",
     "output_type": "stream",
     "text": [
      "Arxiv has 56 new papers today\n",
      "          22 with possible author matches\n"
     ]
    }
   ],
   "source": [
    "# get list from MPIA website\n",
    "# it automatically filters identified non-scientists :func:`mpia.filter_non_scientists`\n",
    "mpia_authors = mpia.get_mpia_mitarbeiter_list()\n",
    "new_papers = get_new_papers()\n",
    "# add manual references\n",
    "add_paper_refs = []\n",
    "new_papers.extend([get_paper_from_identifier(k) for k in add_paper_refs])\n",
    "\n",
    "# select only papers with matching author names and highlight authors\n",
    "hl_list = [k[0] for k in mpia_authors]\n",
    "\n",
    "candidates = []\n",
    "for paperk in new_papers:\n",
    "    hl_authors = highlight_authors_in_list(paperk['authors'], hl_list)\n",
    "    matches = [(hl, orig) for hl, orig in zip(hl_authors, paperk['authors']) if 'mark' in hl]\n",
    "    paperk['authors'] = hl_authors\n",
    "    if matches:\n",
    "        candidates.append(paperk)\n",
    "print(\"\"\"Arxiv has {0:,d} new papers today\"\"\".format(len(new_papers)))        \n",
    "print(\"\"\"          {0:,d} with possible author matches\"\"\".format(len(candidates)))"
   ]
  },
  {
   "cell_type": "markdown",
   "id": "3543b34a",
   "metadata": {
    "papermill": {
     "duration": 0.004469,
     "end_time": "2023-02-10T04:08:19.061182",
     "exception": false,
     "start_time": "2023-02-10T04:08:19.056713",
     "status": "completed"
    },
    "tags": []
   },
   "source": [
    "# Parse sources and generate relevant outputs\n",
    "\n",
    "From the candidates, we do the following steps:\n",
    "* get their tarball from ArXiv (and extract data)\n",
    "* find the main .tex file: find one with \\documentclass{...} (sometimes it's non trivial)\n",
    "* Check affiliations with :func:`validation`, which uses :func:`mpia.affiliation_verifications`\n",
    "* If passing the affiliations: we parse the .tex source\n",
    "   * inject sub-documents into the main (flatten the main document)\n",
    "   * parse structure, extract information (title, abstract, authors, figures...)\n",
    "   * handles `\\graphicspath` if provided\n",
    "* Generate the .md document."
   ]
  },
  {
   "cell_type": "code",
   "execution_count": 5,
   "id": "9576b79e",
   "metadata": {
    "execution": {
     "iopub.execute_input": "2023-02-10T04:08:19.071424Z",
     "iopub.status.busy": "2023-02-10T04:08:19.070680Z",
     "iopub.status.idle": "2023-02-10T04:09:27.961509Z",
     "shell.execute_reply": "2023-02-10T04:09:27.960763Z"
    },
    "papermill": {
     "duration": 68.898432,
     "end_time": "2023-02-10T04:09:27.963730",
     "exception": false,
     "start_time": "2023-02-10T04:08:19.065298",
     "status": "completed"
    },
    "scrolled": false,
    "tags": []
   },
   "outputs": [
    {
     "data": {
      "application/vnd.jupyter.widget-view+json": {
       "model_id": "e3e361239b994cad9173503592bc0791",
       "version_major": 2,
       "version_minor": 0
      },
      "text/plain": [
       "  0%|          | 0/21 [00:00<?, ?it/s]"
      ]
     },
     "metadata": {},
     "output_type": "display_data"
    },
    {
     "name": "stdout",
     "output_type": "stream",
     "text": [
      "Retrieving document from  https://arxiv.org/e-print/2302.04276\n"
     ]
    },
    {
     "name": "stdout",
     "output_type": "stream",
     "text": [
      "extracting tarball to tmp_2302.04276..."
     ]
    },
    {
     "name": "stdout",
     "output_type": "stream",
     "text": [
      " done.\n",
      "Retrieving document from  https://arxiv.org/e-print/2302.04280\n"
     ]
    },
    {
     "name": "stdout",
     "output_type": "stream",
     "text": [
      "extracting tarball to tmp_2302.04280..."
     ]
    },
    {
     "name": "stdout",
     "output_type": "stream",
     "text": [
      " done.\n",
      "Retrieving document from  https://arxiv.org/e-print/2302.04281\n"
     ]
    },
    {
     "name": "stdout",
     "output_type": "stream",
     "text": [
      "extracting tarball to tmp_2302.04281..."
     ]
    },
    {
     "name": "stdout",
     "output_type": "stream",
     "text": [
      " done.\n",
      "Retrieving document from  https://arxiv.org/e-print/2302.04283\n"
     ]
    },
    {
     "name": "stderr",
     "output_type": "stream",
     "text": [
      "/opt/hostedtoolcache/Python/3.9.16/x64/lib/python3.9/site-packages/IPython/core/interactiveshell.py:3442: LatexWarning: Multiple tex files.\n",
      "\n",
      "  exec(code_obj, self.user_global_ns, self.user_ns)\n",
      "/opt/hostedtoolcache/Python/3.9.16/x64/lib/python3.9/site-packages/IPython/core/interactiveshell.py:3442: LatexWarning: Found documentclass in tmp_2302.04281/main.tex\n",
      "\n",
      "  exec(code_obj, self.user_global_ns, self.user_ns)\n",
      "/opt/hostedtoolcache/Python/3.9.16/x64/lib/python3.9/site-packages/arxiv_on_deck_2/latex.py:292: LatexWarning: Latex injecting: 'sections/discussion' from 'tmp_2302.04281/sections/discussion.tex'\n",
      "  warnings.warn(LatexWarning(f\"Latex injecting: '{ext}' from '{subsource}'\"))\n",
      "/opt/hostedtoolcache/Python/3.9.16/x64/lib/python3.9/site-packages/arxiv_on_deck_2/latex.py:292: LatexWarning: Latex injecting: 'sections/direct_detection' from 'tmp_2302.04281/sections/direct_detection.tex'\n",
      "  warnings.warn(LatexWarning(f\"Latex injecting: '{ext}' from '{subsource}'\"))\n",
      "/opt/hostedtoolcache/Python/3.9.16/x64/lib/python3.9/site-packages/arxiv_on_deck_2/latex.py:292: LatexWarning: Latex injecting: 'sections/halo_integrals' from 'tmp_2302.04281/sections/halo_integrals.tex'\n",
      "  warnings.warn(LatexWarning(f\"Latex injecting: '{ext}' from '{subsource}'\"))\n",
      "/opt/hostedtoolcache/Python/3.9.16/x64/lib/python3.9/site-packages/arxiv_on_deck_2/latex.py:292: LatexWarning: Latex injecting: 'sections/velocity_distributions' from 'tmp_2302.04281/sections/velocity_distributions.tex'\n",
      "  warnings.warn(LatexWarning(f\"Latex injecting: '{ext}' from '{subsource}'\"))\n",
      "/opt/hostedtoolcache/Python/3.9.16/x64/lib/python3.9/site-packages/arxiv_on_deck_2/latex.py:292: LatexWarning: Latex injecting: 'sections/simulations' from 'tmp_2302.04281/sections/simulations.tex'\n",
      "  warnings.warn(LatexWarning(f\"Latex injecting: '{ext}' from '{subsource}'\"))\n",
      "/opt/hostedtoolcache/Python/3.9.16/x64/lib/python3.9/site-packages/arxiv_on_deck_2/latex.py:292: LatexWarning: Latex injecting: 'sections/introduction' from 'tmp_2302.04281/sections/introduction.tex'\n",
      "  warnings.warn(LatexWarning(f\"Latex injecting: '{ext}' from '{subsource}'\"))\n",
      "/opt/hostedtoolcache/Python/3.9.16/x64/lib/python3.9/site-packages/arxiv_on_deck_2/latex.py:292: LatexWarning: Latex injecting: 'sections/abstract' from 'tmp_2302.04281/sections/abstract.tex'\n",
      "  warnings.warn(LatexWarning(f\"Latex injecting: '{ext}' from '{subsource}'\"))\n"
     ]
    },
    {
     "name": "stdout",
     "output_type": "stream",
     "text": [
      "extracting tarball to tmp_2302.04283..."
     ]
    },
    {
     "name": "stdout",
     "output_type": "stream",
     "text": [
      " done.\n",
      "Retrieving document from  https://arxiv.org/e-print/2302.04286\n"
     ]
    },
    {
     "name": "stdout",
     "output_type": "stream",
     "text": [
      "extracting tarball to tmp_2302.04286..."
     ]
    },
    {
     "name": "stdout",
     "output_type": "stream",
     "text": [
      " done.\n",
      "Retrieving document from  https://arxiv.org/e-print/2302.04294\n"
     ]
    },
    {
     "name": "stdout",
     "output_type": "stream",
     "text": [
      "extracting tarball to tmp_2302.04294..."
     ]
    },
    {
     "name": "stdout",
     "output_type": "stream",
     "text": [
      " done.\n",
      "Retrieving document from  https://arxiv.org/e-print/2302.04297\n"
     ]
    },
    {
     "name": "stderr",
     "output_type": "stream",
     "text": [
      "/opt/hostedtoolcache/Python/3.9.16/x64/lib/python3.9/site-packages/IPython/core/interactiveshell.py:3442: LatexWarning: Multiple tex files.\n",
      "\n",
      "  exec(code_obj, self.user_global_ns, self.user_ns)\n",
      "/opt/hostedtoolcache/Python/3.9.16/x64/lib/python3.9/site-packages/IPython/core/interactiveshell.py:3442: LatexWarning: Found documentclass in tmp_2302.04294/main.tex\n",
      "\n",
      "  exec(code_obj, self.user_global_ns, self.user_ns)\n"
     ]
    },
    {
     "name": "stdout",
     "output_type": "stream",
     "text": [
      "extracting tarball to tmp_2302.04297..."
     ]
    },
    {
     "name": "stdout",
     "output_type": "stream",
     "text": [
      " done.\n",
      "Retrieving document from  https://arxiv.org/e-print/2302.04298\n"
     ]
    },
    {
     "name": "stdout",
     "output_type": "stream",
     "text": [
      "extracting tarball to tmp_2302.04298..."
     ]
    },
    {
     "name": "stdout",
     "output_type": "stream",
     "text": [
      " done.\n",
      "Retrieving document from  https://arxiv.org/e-print/2302.04312\n"
     ]
    },
    {
     "name": "stdout",
     "output_type": "stream",
     "text": [
      "extracting tarball to tmp_2302.04312..."
     ]
    },
    {
     "name": "stdout",
     "output_type": "stream",
     "text": [
      " done.\n"
     ]
    },
    {
     "name": "stderr",
     "output_type": "stream",
     "text": [
      "/tmp/ipykernel_2034/4030337529.py:34: LatexWarning: 2302.04312 did not run properly\n",
      "sequence item 1: expected str instance, TexNode found\n",
      "  warnings.warn(latex.LatexWarning(f\"{paper_id:s} did not run properly\\n\" +\n"
     ]
    },
    {
     "name": "stdout",
     "output_type": "stream",
     "text": [
      "Retrieving document from  https://arxiv.org/e-print/2302.04388\n"
     ]
    },
    {
     "name": "stdout",
     "output_type": "stream",
     "text": [
      "extracting tarball to tmp_2302.04388..."
     ]
    },
    {
     "name": "stdout",
     "output_type": "stream",
     "text": [
      " done.\n",
      "Retrieving document from  https://arxiv.org/e-print/2302.04390\n"
     ]
    },
    {
     "name": "stderr",
     "output_type": "stream",
     "text": [
      "/opt/hostedtoolcache/Python/3.9.16/x64/lib/python3.9/site-packages/IPython/core/interactiveshell.py:3442: LatexWarning: Multiple tex files.\n",
      "\n",
      "  exec(code_obj, self.user_global_ns, self.user_ns)\n",
      "/opt/hostedtoolcache/Python/3.9.16/x64/lib/python3.9/site-packages/IPython/core/interactiveshell.py:3442: LatexWarning: Found documentclass in tmp_2302.04388/GRB221009A_astroph.tex\n",
      "\n",
      "  exec(code_obj, self.user_global_ns, self.user_ns)\n",
      "/opt/hostedtoolcache/Python/3.9.16/x64/lib/python3.9/site-packages/arxiv_on_deck_2/latex.py:292: LatexWarning: Latex injecting: 'authors' from 'tmp_2302.04388/authors.tex'\n",
      "  warnings.warn(LatexWarning(f\"Latex injecting: '{ext}' from '{subsource}'\"))\n",
      "/opt/hostedtoolcache/Python/3.9.16/x64/lib/python3.9/site-packages/arxiv_on_deck_2/latex.py:292: LatexWarning: Latex injecting: 'newcommands.tex' from 'tmp_2302.04388/newcommands.tex'\n",
      "  warnings.warn(LatexWarning(f\"Latex injecting: '{ext}' from '{subsource}'\"))\n"
     ]
    },
    {
     "name": "stdout",
     "output_type": "stream",
     "text": [
      "extracting tarball to tmp_2302.04390..."
     ]
    },
    {
     "name": "stdout",
     "output_type": "stream",
     "text": [
      " done.\n",
      "Retrieving document from  https://arxiv.org/e-print/2302.04491\n"
     ]
    },
    {
     "name": "stdout",
     "output_type": "stream",
     "text": [
      "extracting tarball to tmp_2302.04491..."
     ]
    },
    {
     "name": "stdout",
     "output_type": "stream",
     "text": [
      " done.\n",
      "Retrieving document from  https://arxiv.org/e-print/2302.04507\n"
     ]
    },
    {
     "name": "stdout",
     "output_type": "stream",
     "text": [
      "extracting tarball to tmp_2302.04507..."
     ]
    },
    {
     "name": "stdout",
     "output_type": "stream",
     "text": [
      " done.\n"
     ]
    },
    {
     "name": "stderr",
     "output_type": "stream",
     "text": [
      "/opt/hostedtoolcache/Python/3.9.16/x64/lib/python3.9/site-packages/arxiv_on_deck_2/latex.py:366: LatexWarning: Error parsing the document directly. Trying to recover.\n",
      "  warnings.warn(LatexWarning(f\"Error parsing the document directly. Trying to recover.\"))\n"
     ]
    },
    {
     "name": "stdout",
     "output_type": "stream",
     "text": [
      "✔ → 0:header\n",
      "  ↳ 23511:\\section{\\label{sec:level1}Introduction}\n"
     ]
    },
    {
     "name": "stdout",
     "output_type": "stream",
     "text": [
      "✔ → 23511:\\section{\\label{sec:level1}Introduction}\n",
      "  ↳ 41462:\\section{\\label{sec:2}Theoretical formalism}\n"
     ]
    },
    {
     "name": "stdout",
     "output_type": "stream",
     "text": [
      "✘ → 41462:\\section{\\label{sec:2}Theoretical formalism}\n",
      "  ↳ 83061:\\section{\\label{sec:3}Methodology}\n"
     ]
    },
    {
     "name": "stdout",
     "output_type": "stream",
     "text": [
      "✔ → 83061:\\section{\\label{sec:3}Methodology}\n",
      "  ↳ 97433:\\section{\\label{sec:4}Results and discussion}\n"
     ]
    },
    {
     "name": "stdout",
     "output_type": "stream",
     "text": [
      "✔ → 97433:\\section{\\label{sec:4}Results and discussion}\n",
      "  ↳ 118311:\\section{\\label{sec:5}Conclusions}\n"
     ]
    },
    {
     "name": "stdout",
     "output_type": "stream",
     "text": [
      "✔ → 118311:\\section{\\label{sec:5}Conclusions}\n",
      "  ↳ 126441:end\n"
     ]
    },
    {
     "name": "stdout",
     "output_type": "stream",
     "text": [
      "Retrieving document from  https://arxiv.org/e-print/2302.04516\n"
     ]
    },
    {
     "name": "stdout",
     "output_type": "stream",
     "text": [
      "extracting tarball to tmp_2302.04516..."
     ]
    },
    {
     "name": "stdout",
     "output_type": "stream",
     "text": [
      " done.\n",
      "Retrieving document from  https://arxiv.org/e-print/2302.04579\n"
     ]
    },
    {
     "name": "stdout",
     "output_type": "stream",
     "text": [
      "extracting tarball to tmp_2302.04579..."
     ]
    },
    {
     "name": "stdout",
     "output_type": "stream",
     "text": [
      " done.\n",
      "Retrieving document from  https://arxiv.org/e-print/2302.04622\n"
     ]
    },
    {
     "name": "stderr",
     "output_type": "stream",
     "text": [
      "/opt/hostedtoolcache/Python/3.9.16/x64/lib/python3.9/site-packages/IPython/core/interactiveshell.py:3442: LatexWarning: Multiple tex files.\n",
      "\n",
      "  exec(code_obj, self.user_global_ns, self.user_ns)\n",
      "/opt/hostedtoolcache/Python/3.9.16/x64/lib/python3.9/site-packages/IPython/core/interactiveshell.py:3442: LatexWarning: Found documentclass in tmp_2302.04579/mnras_template.tex\n",
      "\n",
      "  exec(code_obj, self.user_global_ns, self.user_ns)\n",
      "/opt/hostedtoolcache/Python/3.9.16/x64/lib/python3.9/site-packages/arxiv_on_deck_2/latex.py:292: LatexWarning: Latex injecting: 'table2.tex' from 'tmp_2302.04579/table2.tex'\n",
      "  warnings.warn(LatexWarning(f\"Latex injecting: '{ext}' from '{subsource}'\"))\n",
      "/opt/hostedtoolcache/Python/3.9.16/x64/lib/python3.9/site-packages/arxiv_on_deck_2/latex.py:292: LatexWarning: Latex injecting: 'table1_2dec.tex' from 'tmp_2302.04579/table1_2dec.tex'\n",
      "  warnings.warn(LatexWarning(f\"Latex injecting: '{ext}' from '{subsource}'\"))\n"
     ]
    },
    {
     "name": "stdout",
     "output_type": "stream",
     "text": [
      "extracting tarball to tmp_2302.04622..."
     ]
    },
    {
     "name": "stdout",
     "output_type": "stream",
     "text": [
      " done.\n",
      "Retrieving document from  https://arxiv.org/e-print/2302.04628\n"
     ]
    },
    {
     "name": "stderr",
     "output_type": "stream",
     "text": [
      "/opt/hostedtoolcache/Python/3.9.16/x64/lib/python3.9/site-packages/IPython/core/interactiveshell.py:3442: LatexWarning: Multiple tex files.\n",
      "\n",
      "  exec(code_obj, self.user_global_ns, self.user_ns)\n",
      "/opt/hostedtoolcache/Python/3.9.16/x64/lib/python3.9/site-packages/IPython/core/interactiveshell.py:3442: LatexWarning: Found documentclass in tmp_2302.04622/main.tex\n",
      "\n",
      "  exec(code_obj, self.user_global_ns, self.user_ns)\n",
      "/opt/hostedtoolcache/Python/3.9.16/x64/lib/python3.9/site-packages/arxiv_on_deck_2/latex.py:292: LatexWarning: Latex injecting: 'authorlist.tex' from 'tmp_2302.04622/authorlist.tex'\n",
      "  warnings.warn(LatexWarning(f\"Latex injecting: '{ext}' from '{subsource}'\"))\n"
     ]
    },
    {
     "name": "stdout",
     "output_type": "stream",
     "text": [
      "extracting tarball to tmp_2302.04628... done.\n",
      "Retrieving document from  https://arxiv.org/e-print/2302.04645\n"
     ]
    },
    {
     "name": "stderr",
     "output_type": "stream",
     "text": [
      "/opt/hostedtoolcache/Python/3.9.16/x64/lib/python3.9/site-packages/IPython/core/interactiveshell.py:3442: LatexWarning: Multiple tex files.\n",
      "\n",
      "  exec(code_obj, self.user_global_ns, self.user_ns)\n",
      "/opt/hostedtoolcache/Python/3.9.16/x64/lib/python3.9/site-packages/IPython/core/interactiveshell.py:3442: LatexWarning: Found documentclass in tmp_2302.04628/ms.tex\n",
      "\n",
      "  exec(code_obj, self.user_global_ns, self.user_ns)\n"
     ]
    },
    {
     "name": "stdout",
     "output_type": "stream",
     "text": [
      "extracting tarball to tmp_2302.04645..."
     ]
    },
    {
     "name": "stdout",
     "output_type": "stream",
     "text": [
      " done.\n",
      "Retrieving document from  https://arxiv.org/e-print/2302.04651\n"
     ]
    },
    {
     "name": "stdout",
     "output_type": "stream",
     "text": [
      "extracting tarball to tmp_2302.04651..."
     ]
    },
    {
     "name": "stdout",
     "output_type": "stream",
     "text": [
      " done.\n",
      "Retrieving document from  https://arxiv.org/e-print/2302.04671\n"
     ]
    },
    {
     "name": "stderr",
     "output_type": "stream",
     "text": [
      "/tmp/ipykernel_2034/4030337529.py:34: LatexWarning: 2302.04671 did not run properly\n",
      "not a gzip file\n",
      "  warnings.warn(latex.LatexWarning(f\"{paper_id:s} did not run properly\\n\" +\n"
     ]
    },
    {
     "name": "stdout",
     "output_type": "stream",
     "text": [
      "Retrieving document from  https://arxiv.org/e-print/2302.04757\n"
     ]
    },
    {
     "name": "stdout",
     "output_type": "stream",
     "text": [
      "extracting tarball to tmp_2302.04757..."
     ]
    },
    {
     "name": "stdout",
     "output_type": "stream",
     "text": [
      " done.\n"
     ]
    },
    {
     "name": "stderr",
     "output_type": "stream",
     "text": [
      "/opt/hostedtoolcache/Python/3.9.16/x64/lib/python3.9/site-packages/IPython/core/interactiveshell.py:3442: LatexWarning: Multiple tex files.\n",
      "\n",
      "  exec(code_obj, self.user_global_ns, self.user_ns)\n",
      "/opt/hostedtoolcache/Python/3.9.16/x64/lib/python3.9/site-packages/IPython/core/interactiveshell.py:3442: LatexWarning: Found documentclass in tmp_2302.04757/main.tex\n",
      "\n",
      "  exec(code_obj, self.user_global_ns, self.user_ns)\n"
     ]
    }
   ],
   "source": [
    "documents = []\n",
    "failed = []\n",
    "for paper in tqdm(candidates[:-1]):\n",
    "    paper_id = paper['identifier'].lower().replace('arxiv:', '')\n",
    "    \n",
    "    folder = f'tmp_{paper_id}'\n",
    "\n",
    "    try:\n",
    "        if not os.path.isdir(folder):\n",
    "            folder = retrieve_document_source(f\"{paper_id}\", f'tmp_{paper_id}')\n",
    "        \n",
    "        try:\n",
    "            doc = latex.LatexDocument(folder, validation=validation)    \n",
    "        except AffiliationError as affilerror:\n",
    "            msg = f\"ArXiv:{paper_id:s} is not an MPIA paper... \" + str(affilerror)\n",
    "            failed.append((paper, \"affiliation error: \" + str(affilerror) ))\n",
    "            continue\n",
    "        \n",
    "        # Hack because sometimes author parsing does not work well\n",
    "        if (len(doc.authors) != len(paper['authors'])):\n",
    "            doc._authors = paper['authors']\n",
    "        if (doc.abstract) in (None, ''):\n",
    "            doc._abstract = paper['abstract']\n",
    "            \n",
    "        doc.comment = (get_markdown_badge(paper_id) + \n",
    "                       \"<mark>Appeared on: \" + paper['date'] + \"</mark> - \" +\n",
    "                       \"_\" + paper['comments'] + \"_\")\n",
    "        doc.highlight_authors_in_list(hl_list)\n",
    "\n",
    "        full_md = doc.generate_markdown_text()\n",
    "        \n",
    "        documents.append((paper_id, full_md))\n",
    "    except Exception as e:\n",
    "        warnings.warn(latex.LatexWarning(f\"{paper_id:s} did not run properly\\n\" +\n",
    "                                         str(e)\n",
    "                                        ))\n",
    "        failed.append((paper, \"latex error \" + str(e)))"
   ]
  },
  {
   "cell_type": "markdown",
   "id": "2505a25c",
   "metadata": {
    "papermill": {
     "duration": 0.007171,
     "end_time": "2023-02-10T04:09:27.978202",
     "exception": false,
     "start_time": "2023-02-10T04:09:27.971031",
     "status": "completed"
    },
    "tags": []
   },
   "source": [
    "### Export the logs\n",
    "\n",
    "Throughout, we also keep track of the logs per paper. see `logs-{today date}.md` "
   ]
  },
  {
   "cell_type": "code",
   "execution_count": 6,
   "id": "d733828a",
   "metadata": {
    "execution": {
     "iopub.execute_input": "2023-02-10T04:09:27.994165Z",
     "iopub.status.busy": "2023-02-10T04:09:27.993557Z",
     "iopub.status.idle": "2023-02-10T04:09:28.027674Z",
     "shell.execute_reply": "2023-02-10T04:09:28.026977Z"
    },
    "papermill": {
     "duration": 0.044137,
     "end_time": "2023-02-10T04:09:28.029292",
     "exception": false,
     "start_time": "2023-02-10T04:09:27.985155",
     "status": "completed"
    },
    "scrolled": false,
    "tags": []
   },
   "outputs": [
    {
     "data": {
      "text/markdown": [
       "## Successful papers"
      ],
      "text/plain": [
       "<IPython.core.display.Markdown object>"
      ]
     },
     "metadata": {},
     "output_type": "display_data"
    },
    {
     "data": {
      "text/markdown": [
       "\n",
       "|||\n",
       "|---:|:---|\n",
       "| [![arXiv](https://img.shields.io/badge/arXiv-arXiv:2302.04507-b31b1b.svg)](https://arxiv.org/abs/arXiv:2302.04507) | **Euclid preparation: XXVIII. Modelling of the weak lensing angular power  spectrum**  |\n",
       "|| Euclid Collaboration, et al. -- incl., <mark>M. L. Brown</mark>, <mark>E. Franceschi</mark>, <mark>K. Jahnke</mark>, <mark>S. Ligori</mark>, <mark>P. B. Lilje</mark> |\n",
       "|*Appeared on*| *2023-02-10*|\n",
       "|*Comments*| *20 pages, submitted to A&A*|\n",
       "|**Abstract**| This work considers which higher-order effects in modelling the cosmic shear angular power spectra must be taken into account for Euclid. We identify which terms are of concern, and quantify their individual and cumulative impact on cosmological parameter inference from Euclid. We compute the values of these higher-order effects using analytic expressions, and calculate the impact on cosmological parameter estimation using the Fisher matrix formalism. We review 24 effects and find the following potentially need to be accounted for: the reduced shear approximation, magnification bias, source-lens clustering, source obscuration, local Universe effects, and the flat Universe assumption. Upon computing these explicitly, and calculating their cosmological parameter biases, using a maximum multipole of $\\ell=5000$, we find that the magnification bias, source-lens clustering, source obscuration, and local Universe terms individually produce significant ($\\,>0.25\\sigma$) cosmological biases in one or more parameters, and accordingly must be accounted for. In total, over all effects, we find biases in $\\Omega_{\\rm m}$, $\\Omega_{\\rm b}$, $h$, and $\\sigma_{8}$ of $0.73\\sigma$, $0.28\\sigma$, $0.25\\sigma$, and $-0.79\\sigma$, respectively, for flat $\\Lambda$CDM. For the $w_0w_a$CDM case, we find biases in $\\Omega_{\\rm m}$, $\\Omega_{\\rm b}$, $h$, $n_{\\rm s}$, $\\sigma_{8}$, and $w_a$ of $1.49\\sigma$, $0.35\\sigma$, $-1.36\\sigma$, $1.31\\sigma$, $-0.84\\sigma$, and $-0.35\\sigma$, respectively; which are increased relative to the $\\Lambda$CDM due to additional degeneracies as a function of redshift and scale. |"
      ],
      "text/plain": [
       "[arXiv:2302.04507] Euclid preparation: XXVIII. Modelling of the weak lensing angular power  spectrum\n",
       "\tEuclid Collaboration, et al. -- incl., <mark>M. L. Brown</mark>, <mark>E. Franceschi</mark>, <mark>K. Jahnke</mark>, <mark>S. Ligori</mark>, <mark>P. B. Lilje</mark>"
      ]
     },
     "metadata": {},
     "output_type": "display_data"
    },
    {
     "data": {
      "text/markdown": [
       "## Failed papers"
      ],
      "text/plain": [
       "<IPython.core.display.Markdown object>"
      ]
     },
     "metadata": {},
     "output_type": "display_data"
    },
    {
     "data": {
      "text/markdown": [
       "\n",
       "|||\n",
       "|---:|:---|\n",
       "| [![arXiv](https://img.shields.io/badge/arXiv-arXiv:2302.04651-b31b1b.svg)](https://arxiv.org/abs/arXiv:2302.04651) | **Mass Reconstruction of Galaxy-scale Strong Gravitational Lenses Using  Broken Power-law Model**  |\n",
       "|| Wei Du, et al. -- incl., <mark>Liping Fu</mark>, <mark>Ran Li</mark> |\n",
       "|*Appeared on*| *2023-02-10*|\n",
       "|*Comments*| *22 pages, 13 figures, 1 table. Submitted to ApJ, comments welcome!*|\n",
       "|**Abstract**| With mock strong gravitational lensing images, we investigate the performance of broken power-law (BPL) model on the mass reconstruction of galaxy-scale lenses. An end-to-end test is carried out, including the creation of mock strong lensing images, the subtraction of lens light, and the reconstruction of lensed images. Based on these analyses, we can reliably evaluate how accurate the lens mass and source light distributions can be measured. We notice that, based on lensed images alone, only the Einstein radii ($R_{\\rm E}$) or the mean convergence within them can be well determined, with negligible bias (typically $<1\\%$) and controllable uncertainty. Away from the Einstein radii, the radial and mean convergence profiles can hardly be constrained unless well-designed priors are applied to the BPL model. We find that, with rigid priors, the BPL model can clearly outperform the singular power-law models by recovering the lens mass distributions with small biases out to several Einstein radii (e.g., no more than $5\\%$ biases for the mean convergence profiles within $3~R_{\\rm E}$). We find that the source light reconstructions are sensitive to both lens light contamination and lens mass models, where the BPL model with rigid priors still performs best when there is no lens light contamination. It is shown that, by correcting for the projection effect, the BPL model is capable of estimating the aperture and luminosity weighted line-of-sight velocity dispersions to an accuracy of $\\sim6\\%$. These results further highlight the great potential of the BPL model in strong lensing related studies. |\n",
       "|<p style=\"color:green\"> **ERROR** </p>| <p style=\"color:green\">affiliation error: mpia.affiliation_verifications: '69117' keyword not found.</p> |"
      ],
      "text/plain": [
       "<IPython.core.display.Markdown object>"
      ]
     },
     "metadata": {},
     "output_type": "display_data"
    },
    {
     "data": {
      "text/markdown": [
       "\n",
       "|||\n",
       "|---:|:---|\n",
       "| [![arXiv](https://img.shields.io/badge/arXiv-arXiv:2302.04276-b31b1b.svg)](https://arxiv.org/abs/arXiv:2302.04276) | **The Simons Observatory: pipeline comparison and validation for  large-scale B-modes**  |\n",
       "|| K. Wolz, et al. -- incl., <mark>C. Hervias-Caimapo</mark>, <mark>A. Baleato Lizancos</mark>, <mark>M. L. Brown</mark>, <mark>B. Jost</mark> |\n",
       "|*Appeared on*| *2023-02-10*|\n",
       "|*Comments*| *Submitted to Astronomy & Astrophysics. 20 pages, 15 figures*|\n",
       "|**Abstract**| The upcoming Simons Observatory Small Aperture Telescopes aim at achieving a constraint on the primordial tensor-to-scalar ratio $r$ at the level of $\\sigma(r=0)\\lesssim0.003$, observing the polarized CMB in the presence of partial sky coverage, cosmic variance, inhomogeneous non-white noise, and Galactic foregrounds. We present three different analysis pipelines able to constrain $r$ given the latest available instrument performance, and compare their predictions on a set of sky simulations that allow us to explore a number of Galactic foreground models and elements of instrumental noise, relevant for the Simons Observatory. The three pipelines use different combinations of parametric and non-parametric component separation at the map and power spectrum levels, and employ $B$-mode purification to estimate the CMB $B$-mode power spectrum. They are tested and compared regarding their capability to analyze a common set of simulated realistic frequency maps, and to extract constraints on the tensor-to-scalar ratio $r$. Their performance is evaluated in terms of bias and statistical uncertainty on this parameter. In most of the scenarios the three methodologies achieve similar performance. Nevertheless, several simulations with complex foreground signals lead to a $>2\\sigma$ bias on $r$ if analyzed with the default versions of these pipelines, highlighting the need for more sophisticated pipeline components that marginalize over foreground residuals. We show two such extensions, using power-spectrum-based and map-based methods, that are able to fully reduce the bias on $r$ below the statistical uncertainties in all foreground models explored, at a moderate cost in terms of $\\sigma(r)$. |\n",
       "|<p style=\"color:green\"> **ERROR** </p>| <p style=\"color:green\">affiliation error: mpia.affiliation_verifications: 'Heidelberg' keyword not found.</p> |"
      ],
      "text/plain": [
       "<IPython.core.display.Markdown object>"
      ]
     },
     "metadata": {},
     "output_type": "display_data"
    },
    {
     "data": {
      "text/markdown": [
       "\n",
       "|||\n",
       "|---:|:---|\n",
       "| [![arXiv](https://img.shields.io/badge/arXiv-arXiv:2302.04280-b31b1b.svg)](https://arxiv.org/abs/arXiv:2302.04280) | **Keck, Gemini, and Palomar 200-inch visible photometry of red and  very-red Neptunian Trojans**  |\n",
       "|| B. T. Bolin, et al. -- incl., <mark>J.-E. Heo</mark>, <mark>C. M. Lisse</mark> |\n",
       "|*Appeared on*| *2023-02-10*|\n",
       "|*Comments*| *8 pages, 3 figures, 3 tables, accepted for publication in MNRAS:Letters*|\n",
       "|**Abstract**| Neptunian Trojans (NTs), trans-Neptunian objects in 1:1 mean-motion resonance with Neptune, are generally thought to have been captured from the original trans-Neptunian protoplanetary disk into co-orbital resonance with the ice giant during its outward migration. It is possible, therefore, that the colour distribution of NTs is a constraint on the location of any colour transition zones that may have been present in the disk. In support of this possible test, we obtained $g$, $r$, and $i$-band observations of 18 NTs, more than doubling the sample of NTs with known visible colours to 31 objects. Out of the combined sample, we found $\\approx$4 objects with $g$-$i$ colours of $>$1.2 mags placing them in the very red (VR) category as typically defined. We find, without taking observational selection effects into account, that the NT $g$-$i$ colour distribution is statistically distinct from other trans-Neptunian dynamical classes. The optical colours of Jovian Trojans and NTs are shown to be less similar than previously claimed with additional VR NTs. The presence of VR objects among the NTs may suggest that the location of the red to VR colour transition zone in the protoplanetary disk was interior to 30-35 au. |\n",
       "|<p style=\"color:green\"> **ERROR** </p>| <p style=\"color:green\">affiliation error: mpia.affiliation_verifications: 'Heidelberg' keyword not found.</p> |"
      ],
      "text/plain": [
       "<IPython.core.display.Markdown object>"
      ]
     },
     "metadata": {},
     "output_type": "display_data"
    },
    {
     "data": {
      "text/markdown": [
       "\n",
       "|||\n",
       "|---:|:---|\n",
       "| [![arXiv](https://img.shields.io/badge/arXiv-arXiv:2302.04281-b31b1b.svg)](https://arxiv.org/abs/arXiv:2302.04281) | **The impact of the Large Magellanic Cloud on dark matter direct detection  signals**  |\n",
       "|| <mark>Adam Smith-Orlik</mark>, et al. |\n",
       "|*Appeared on*| *2023-02-10*|\n",
       "|*Comments*| *31 pages, 13 figures, 3 tables*|\n",
       "|**Abstract**| We study the effect of the Large Magellanic Cloud (LMC) on the dark matter (DM) distribution in the Solar neighborhood, utilizing the Auriga magneto-hydrodynamical simulations of Milky Way (MW) analogues that have an LMC-like system. We extract the local DM velocity distribution at different times during the orbit of the LMC around the MW in the simulations. As found in previous idealized simulations of the MW-LMC system, we find that the DM particles in the Solar neighborhood originating from the LMC analogue dominate the high speed tail of the local DM speed distribution. Furthermore, the native DM particles of the MW in the Solar region are boosted to higher speeds as a result of a response to the LMC's motion. We simulate the signals expected in near future xenon, germanium, and silicon direct detection experiments, considering DM interactions with target nuclei or electrons. We find that the presence of the LMC causes a considerable shift in the expected direct detection exclusion limits towards smaller cross sections and DM masses, with the effect being more prominent for low mass DM. Hence, our study shows, for the first time, that the LMC's influence on the local DM distribution is significant even in fully cosmological MW analogues. |\n",
       "|<p style=\"color:green\"> **ERROR** </p>| <p style=\"color:green\">affiliation error: mpia.affiliation_verifications: 'Heidelberg' keyword not found.</p> |"
      ],
      "text/plain": [
       "<IPython.core.display.Markdown object>"
      ]
     },
     "metadata": {},
     "output_type": "display_data"
    },
    {
     "data": {
      "text/markdown": [
       "\n",
       "|||\n",
       "|---:|:---|\n",
       "| [![arXiv](https://img.shields.io/badge/arXiv-arXiv:2302.04283-b31b1b.svg)](https://arxiv.org/abs/arXiv:2302.04283) | **An Extension of the Athena++ Code Framework for  Radiation-Magnetohydrodynamics in General Relativity Using a  Finite-Solid-Angle Discretization**  |\n",
       "|| Christopher J. White, et al. -- incl., <mark>Lizhong Zhang</mark> |\n",
       "|*Appeared on*| *2023-02-10*|\n",
       "|*Comments*| *Submitted to ApJS*|\n",
       "|**Abstract**| We extend the general-relativistic magnetohydrodynamics (GRMHD) capabilities of Athena++ to incorporate radiation. The intensity field in each finite-volume cell is discretized in angle, with explicit transport in both space and angle properly accounting for the effects of gravity on null geodesics, and with matter and radiation coupled in a locally implicit fashion. Here we describe the numerical procedure in detail, verifying its correctness with a suite of tests. Motivated in particular by black hole accretion in the high-accretion-rate, thin-disk regime, we demonstrate the application of the method to this problem. With excellent scaling on flagship computing clusters, the port of the algorithm to the GPU-enabled AthenaK code now allows the simulation of many previously intractable radiation-GRMHD systems. |\n",
       "|<p style=\"color:green\"> **ERROR** </p>| <p style=\"color:green\">affiliation error: mpia.affiliation_verifications: 'Heidelberg' keyword not found.</p> |"
      ],
      "text/plain": [
       "<IPython.core.display.Markdown object>"
      ]
     },
     "metadata": {},
     "output_type": "display_data"
    },
    {
     "data": {
      "text/markdown": [
       "\n",
       "|||\n",
       "|---:|:---|\n",
       "| [![arXiv](https://img.shields.io/badge/arXiv-arXiv:2302.04286-b31b1b.svg)](https://arxiv.org/abs/arXiv:2302.04286) | **Chemical enrichment of the ICM within the Virgo cluster I: radial  profiles**  |\n",
       "|| Efrain Gatuzz, et al. -- incl., <mark>A. Liu</mark> |\n",
       "|*Appeared on*| *2023-02-10*|\n",
       "|*Comments*| *9 pages, 10 figures*|\n",
       "|**Abstract**| We present a detailed analysis of the elemental abundances distribution of the Virgo cluster using {\\it XMM-Newton} observations. We included in the analysis a new EPIC-pn energy scale calibration which allow us to measure velocities with uncertainties down to $\\Delta v \\sim 150$ km/s. We investigate the radial distribution of O, Ne, Mg, Si, Ar, S, Ca, Ni and Fe. We found that the best-fit model is close to a single-temperature component for distances $>80$~kpc and the cooler gas is more metal-rich. Discontinuities in temperature are found around $\\sim30$~kpc and $\\sim90$~kpc, which correspond to the radius of the cold fronts. We modeled elemental X/Fe ratio profiles with a linear combination of SNIa and SNcc models. We found a flat radial distribution of SNIa ratio over the total cluster enrichment, which supports an early ICM enrichment scenario, with most of the metals present being produced prior to clustering. |\n",
       "|<p style=\"color:green\"> **ERROR** </p>| <p style=\"color:green\">affiliation error: mpia.affiliation_verifications: 'Heidelberg' keyword not found.</p> |"
      ],
      "text/plain": [
       "<IPython.core.display.Markdown object>"
      ]
     },
     "metadata": {},
     "output_type": "display_data"
    },
    {
     "data": {
      "text/markdown": [
       "\n",
       "|||\n",
       "|---:|:---|\n",
       "| [![arXiv](https://img.shields.io/badge/arXiv-arXiv:2302.04297-b31b1b.svg)](https://arxiv.org/abs/arXiv:2302.04297) | **Simulation and Measurement of Out-of-Band Resonances for the FDM Readout  of a TES Bolometer**  |\n",
       "|| Amin Aminaei, et al. -- incl., <mark>Gert de Lange</mark> |\n",
       "|*Appeared on*| *2023-02-10*|\n",
       "|*Comments*| *Keywords: Out of Band Resonances(OBR), FDM, TES, Bolometer, SQUID, Infrared Astronomy. 7 pages, 7 Figures. Accepted for publication in Journal of Low Temperature Physics*|\n",
       "|**Abstract**| With applications in cosmology, infrared astronomy and CMB survey, frequency-division multiplexing (FDM) proved to be a viable readout for transition-edge sensors (TES). We investigate the occurrence of out-of-band resonances (OBR) which could constrain the bandwidth of the FDM readout of TES bolometers. The study includes SPICE modeling of the entire setup including the cryogenic harness, LC filters, Superconducting Quantum Interference Device (SQUID) and room-temperature amplifier. Simulation results show that the long harness (for flight model) could cause multiple reflections that generate repetitive spikes in the spectrum. Peaks of the OBR are mainly due to the parasitic capacitances at the input of SQUID. Implementing a low-pass RC circuit (snubber) at the input of the SQUID dampened the OBR. As a result, the first peak only appears around 20 MHz which is a safe margin for the 1 MHz-3.8 MHz FDM in use in the prototype readout. Using a spectrum analyzer and broadband LNAs,we also measured the OBR for the prototype FDM readout in the lab up to 500 MHz. The measurement was conducted at temperatures of 50 mK and 4 K and for various biasing of the DC SQUID. It turns out that OBR are more intense at 50 mK and are caused by the harness impedance mismatch rather than the SQUID. Simulation codes and supporting materials are available at https://github.com/githubamin/LT-Spice-Simulation-of-FDM-readout. |\n",
       "|<p style=\"color:green\"> **ERROR** </p>| <p style=\"color:green\">affiliation error: mpia.affiliation_verifications: 'Heidelberg' keyword not found.</p> |"
      ],
      "text/plain": [
       "<IPython.core.display.Markdown object>"
      ]
     },
     "metadata": {},
     "output_type": "display_data"
    },
    {
     "data": {
      "text/markdown": [
       "\n",
       "|||\n",
       "|---:|:---|\n",
       "| [![arXiv](https://img.shields.io/badge/arXiv-arXiv:2302.04298-b31b1b.svg)](https://arxiv.org/abs/arXiv:2302.04298) | **JADES: Probing interstellar medium conditions at $z\\sim5.5-9.5$ with  ultra-deep JWST/NIRSpec spectroscopy**  |\n",
       "|| Alex J. Cameron, et al. -- incl., <mark>Jakob M. Helton</mark> |\n",
       "|*Appeared on*| *2023-02-10*|\n",
       "|*Comments*| *18 pages, 7 figures, submitted to Astronomy & Astrophysics*|\n",
       "|**Abstract**| We present emission line ratios from a sample of 26 Lyman break galaxies from $z\\sim5.5-9.5$ with $-17.0<M_{1500}<-20.4$, measured from ultra-deep JWST/NIRSpec MSA spectroscopy from JADES. We use 28 hour deep PRISM/CLEAR and 7 hour deep G395M/F290LP observations to measure, or place strong constraints on, ratios of widely studied rest-frame optical emission lines including H$\\alpha$, H$\\beta$, [OII] $\\lambda\\lambda$3726,3729, [NeIII] $\\lambda$3869, [OIII] $\\lambda$4959, [OIII] $\\lambda$5007, [OI] $\\lambda$6300, [NII] $\\lambda$6583, and [SII] $\\lambda\\lambda$6716,6731 in individual $z>5.5$ spectra. We find that the emission line ratios exhibited by these $z\\sim5.5-9.5$ galaxies occupy clearly distinct regions of line-ratio space compared to typical z~0-3 galaxies, instead being more consistent with extreme populations of lower-redshift galaxies. This is best illustrated by the [OIII]/[OII] ratio, tracing interstellar medium (ISM) ionisation, in which we observe more than half of our sample to have [OIII]/[OII]>10. Our high signal-to-noise spectra reveal more than an order of magnitude of scatter in line ratios such as [OII]/H$\\beta$ and [OIII]/[OII], indicating significant diversity in the ISM conditions within the sample. We find no convincing detections of [NII] in our sample, either in individual galaxies, or a stack of all G395M/F290LP spectra. The emission line ratios observed in our sample are generally consistent with galaxies with extremely high ionisation parameters (log $U\\sim-1.5$), and a range of metallicities spanning from $\\sim0.1\\times Z_\\odot$ to higher than $\\sim0.3\\times Z_\\odot$, suggesting we are probing low-metallicity systems undergoing periods of rapid star-formation, driving strong radiation fields. These results highlight the value of deep observations in constraining the properties of individual galaxies, and hence probing diversity within galaxy population. |\n",
       "|<p style=\"color:green\"> **ERROR** </p>| <p style=\"color:green\">affiliation error: mpia.affiliation_verifications: 'Heidelberg' keyword not found.</p> |"
      ],
      "text/plain": [
       "<IPython.core.display.Markdown object>"
      ]
     },
     "metadata": {},
     "output_type": "display_data"
    },
    {
     "data": {
      "text/markdown": [
       "\n",
       "|||\n",
       "|---:|:---|\n",
       "| [![arXiv](https://img.shields.io/badge/arXiv-arXiv:2302.04388-b31b1b.svg)](https://arxiv.org/abs/arXiv:2302.04388) | **The Radio to GeV Afterglow of GRB 221009A**  |\n",
       "|| Tanmoy Laskar, et al. -- incl., <mark>Deanne L. Coppejans</mark> |\n",
       "|*Appeared on*| *2023-02-10*|\n",
       "|*Comments*| *Submitted to ApJL*|\n",
       "|**Abstract**| GRB 221009A ($z=0.151$) is one of the closest known long $\\gamma$-ray bursts (GRBs). Its extreme brightness across all electromagnetic wavelengths provides an unprecedented opportunity to study a member of this still-mysterious class of transients in exquisite detail. We present multi-wavelength observations of this extraordinary event, spanning 15 orders of magnitude in photon energy from radio to $\\gamma$-rays. We find that the data can be partially explained by a forward shock (FS) from a highly-collimated relativistic jet interacting with a low-density wind-like medium. The jet's beaming-corrected kinetic energy ($E_K \\sim 4\\times10^{50}$ erg) is typical for the GRB population, but its opening angle ($\\sim2^{\\circ}$) is one of the narrowest. The radio and mm data provide strong limiting constraints on the FS model, but require the presence of an additional emission component. From equipartition arguments, we find that the radio emission is likely produced by a small amount of mass ($\\lesssim6\\times10^{-7} M_\\odot$) moving relativistically ($\\Gamma\\gtrsim9$) with a large kinetic energy ($\\gtrsim10^{49}$ erg). However, the temporal evolution of this component does not follow prescriptions for synchrotron radiation from a single power-law distribution of electrons (e.g. in a reverse shock or two-component jet), or a thermal electron population, perhaps suggesting that one of the standard assumptions of afterglow theory is violated. GRB 221009A will likely remain detectable with radio telescopes for years to come, providing a valuable opportunity to track the full lifecycle of a powerful relativistic jet. |\n",
       "|<p style=\"color:green\"> **ERROR** </p>| <p style=\"color:green\">affiliation error: mpia.affiliation_verifications: 'Heidelberg' keyword not found.</p> |"
      ],
      "text/plain": [
       "<IPython.core.display.Markdown object>"
      ]
     },
     "metadata": {},
     "output_type": "display_data"
    },
    {
     "data": {
      "text/markdown": [
       "\n",
       "|||\n",
       "|---:|:---|\n",
       "| [![arXiv](https://img.shields.io/badge/arXiv-arXiv:2302.04390-b31b1b.svg)](https://arxiv.org/abs/arXiv:2302.04390) | **Cosmological gravitational particle production of massive spin-2  particles**  |\n",
       "|| Edward W. Kolb, <mark>Siyang Ling</mark>, Andrew J. Long, Rachel A. Rosen |\n",
       "|*Appeared on*| *2023-02-10*|\n",
       "|*Comments*| *46 pages + references, 9 figures*|\n",
       "|**Abstract**| The phenomenon of cosmological gravitational particle production (CGPP) is expected to occur during the period of inflation and the transition into a hot big bang cosmology. Particles may be produced even if they only couple directly to gravity, and so CGPP provides a natural explanation for the origin of dark matter. In this work we study the gravitational production of massive spin-2 particles assuming two different couplings to matter. We evaluate the full system of mode equations, including the helicity-0 modes, and by solving them numerically we calculate the spectrum and abundance of massive spin-2 particles that results from inflation on a hilltop potential. We conclude that CGPP might provide a viable mechanism for the generation of massive spin-2 particle dark matter during inflation, and we identify the favorable region of parameter space in terms of the spin-2 particle's mass and the reheating temperature. As a secondary product of our work, we identify the conditions under which such theories admit ghost or gradient instabilities, and we thereby derive a generalization of the Higuchi bound to Friedmann-Robertson-Walker (FRW) spacetimes. |\n",
       "|<p style=\"color:green\"> **ERROR** </p>| <p style=\"color:green\">affiliation error: mpia.affiliation_verifications: 'Heidelberg' keyword not found.</p> |"
      ],
      "text/plain": [
       "<IPython.core.display.Markdown object>"
      ]
     },
     "metadata": {},
     "output_type": "display_data"
    },
    {
     "data": {
      "text/markdown": [
       "\n",
       "|||\n",
       "|---:|:---|\n",
       "| [![arXiv](https://img.shields.io/badge/arXiv-arXiv:2302.04491-b31b1b.svg)](https://arxiv.org/abs/arXiv:2302.04491) | **Reverse Algols and hydrogen-rich Wolf-Rayet stars from very massive  binaries**  |\n",
       "|| K. Sen, et al. -- incl., <mark>N. Langer</mark>, <mark>L. Mahy</mark> |\n",
       "|*Appeared on*| *2023-02-10*|\n",
       "|*Comments*| *15 pages, 5 figures, proposed for acceptance in A&A. Animation at this https URL*|\n",
       "|**Abstract**| Massive star feedback affects the evolution of galaxies, where the most massive stars may have the largest impact. The majority of massive stars are born as members of close binary systems. Here, we investigate detailed evolutionary models of very massive binaries (30$\\dots$90$M_{\\odot}$) with Large Magellanic Cloud (LMC) metallicity. We identify four effects defying the conventional knowledge of binary evolution, which are all related to the proximity of the models to the Eddington limit. We find that the majority of systems undergo mass transfer during core hydrogen burning. During the ensuing nuclear timescale evolution, many mass donors remain more massive than their companions (``reverse Algols''), and nuclear timescale mass transfer may be interrupted or absent altogether. Furthermore, due to the elevated luminosity-to-mass ratio, many of the core-hydrogen burning donors may develop Wolf-Rayet-type winds, at luminosities where single stars would not. We identify observational counterparts of very massive reverse Algol binaries in the LMC, and discuss their contribution to the observed hydrogen-rich Wolf-Rayet stars. We argue that an understanding of very massive Algol systems is key to predicting the advanced evolution of very massive binaries, including their ability to evolve into observable gravitational wave sources. |\n",
       "|<p style=\"color:green\"> **ERROR** </p>| <p style=\"color:green\">affiliation error: mpia.affiliation_verifications: 'Heidelberg' keyword not found.</p> |"
      ],
      "text/plain": [
       "<IPython.core.display.Markdown object>"
      ]
     },
     "metadata": {},
     "output_type": "display_data"
    },
    {
     "data": {
      "text/markdown": [
       "\n",
       "|||\n",
       "|---:|:---|\n",
       "| [![arXiv](https://img.shields.io/badge/arXiv-arXiv:2302.04516-b31b1b.svg)](https://arxiv.org/abs/arXiv:2302.04516) | **Teutsch 76: a Deep Near-Infrared Study**  |\n",
       "|| <mark>Saurabh Sharma</mark>, et al. -- incl., <mark>Arpan Ghosh</mark> |\n",
       "|*Appeared on*| *2023-02-10*|\n",
       "|*Comments*| *Accepted for publication in Journal of Astrophysics and Astronomy*|\n",
       "|**Abstract**| We have performed a detailed analysis on the Teutsch 76 (T76) open cluster using the deep near-infrared (NIR) observations taken with the TANSPEC instrument mounted on the 3.6m Devasthal Optical Telescope (DOT) along with the recently available high quality proper motion data from the {\\it Gaia} data release 3 and deep photometric data from Pan-STARRS1 survey. We have found that the T76 cluster is having a central density concentration with circular morphology, probably due to the star formation processes. The radius of the T76 cluster is found to be 45$^{\\prime}{^\\prime}$ (1.24 pc) and 28 stars within this radius were marked as highly probable cluster members. We have found that the cluster is located at a distance of $5.7\\pm1.0$ kpc and is having an age of $50\\pm10$ Myr. The mass function slope ($\\Gamma$) in the cluster region in the mass range $\\sim$0.75$<$M/M$_\\odot$$<$5.8 is estimated as $-1.3\\pm0.2$, which is similar to the value `-1.35' given by \\citet{1955ApJ...121..161S}. The cluster is not showing any signatures of mass-segregation and is currently undergoing dynamical relaxation. |\n",
       "|<p style=\"color:green\"> **ERROR** </p>| <p style=\"color:green\">affiliation error: mpia.affiliation_verifications: 'Heidelberg' keyword not found.</p> |"
      ],
      "text/plain": [
       "<IPython.core.display.Markdown object>"
      ]
     },
     "metadata": {},
     "output_type": "display_data"
    },
    {
     "data": {
      "text/markdown": [
       "\n",
       "|||\n",
       "|---:|:---|\n",
       "| [![arXiv](https://img.shields.io/badge/arXiv-arXiv:2302.04579-b31b1b.svg)](https://arxiv.org/abs/arXiv:2302.04579) | **The 3D kinematics of stellar substructures in the periphery of the Large  Magellanic Cloud**  |\n",
       "|| Camila Navarrete, et al. -- incl., <mark>Lara Cullinane</mark> |\n",
       "|*Appeared on*| *2023-02-10*|\n",
       "|*Comments*| *Submitted to MNRAS. 19 pages, 15 figures*|\n",
       "|**Abstract**| We report the 3D kinematics of 27 Mira-like stars in the northern, eastern and southern periphery of the Large Magellanic Cloud (LMC), based on Gaia proper motions and a dedicated spectroscopic follow-up. Low-resolution spectra were obtained for more than 40 Mira-like candidates, selected to trace known substructures in the LMC periphery. Radial velocities and stellar parameters were derived for all stars. Gaia data release 3 astrometry and photometry were used to discard outliers, derive periods for those stars with available light curves, and determine their photometric chemical types. The 3D motion of the stars in the reference frame of the LMC revealed that most of the stars, in all directions, have velocities consistent with being part of the LMC disk population, out of equilibrium in the radial and vertical directions. A suite of N-body simulations was used to constrain the most likely past interaction history between the Clouds given the phase-space distribution of our targets. Model realizations in which the Small Magellanic Cloud (SMC) had three pericentric passages around the LMC best resemble the observations. The interaction history of those model realizations has a recent SMC pericentric passage ($\\sim$320 Myr ago), preceded by an SMC crossing of the LMC disk at $\\sim$0.97 Gyr ago, having a radial crossing distance of only $\\sim$4.5 kpc. The previous disk crossing of the SMC was found to occur at $\\sim$1.78 Gyr ago, with a much larger radial crossing distance of $\\sim$10 kpc. |\n",
       "|<p style=\"color:green\"> **ERROR** </p>| <p style=\"color:green\">affiliation error: mpia.affiliation_verifications: 'Heidelberg' keyword not found.</p> |"
      ],
      "text/plain": [
       "<IPython.core.display.Markdown object>"
      ]
     },
     "metadata": {},
     "output_type": "display_data"
    },
    {
     "data": {
      "text/markdown": [
       "\n",
       "|||\n",
       "|---:|:---|\n",
       "| [![arXiv](https://img.shields.io/badge/arXiv-arXiv:2302.04622-b31b1b.svg)](https://arxiv.org/abs/arXiv:2302.04622) | **The Event Horizon Telescope Image of the Quasar NRAO 530**  |\n",
       "|| Svetlana Jorstad, et al. -- incl., <mark>Rocco Lico</mark>, <mark>Jun Liu</mark>, <mark>Guang-Yao Zhao</mark>, <mark>Lindy Blackburn</mark> |\n",
       "|*Appeared on*| *2023-02-10*|\n",
       "|*Comments*| **|\n",
       "|**Abstract**| We report on the observations of the quasar NRAO 530 with the Event Horizon Telescope (EHT) on 2017 April 5-7, when NRAO 530 was used as a calibrator for the EHT observations of Sagittarius A*. At z=0.902 this is the most distant object imaged by the EHT so far. We reconstruct the first images of the source at 230 GHz, at an unprecedented angular resolution of $\\sim$ 20 $\\mu$as, both in total intensity and in linear polarization. We do not detect source variability, allowing us to represent the whole data set with static images. The images reveal a bright feature located on the southern end of the jet, which we associate with the core. The feature is linearly polarized, with a fractional polarization of $\\sim$5-8% and has a sub-structure consisting of two components. Their observed brightness temperature suggests that the energy density of the jet is dominated by the magnetic field. The jet extends over 60 $\\mu$as along a position angle PA$\\sim -$28$^\\circ$. It includes two features with orthogonal directions of polarization (electric vector position angle, EVPA), parallel and perpendicular to the jet axis, consistent with a helical structure of the magnetic field in the jet. The outermost feature has a particularly high degree of linear polarization, suggestive of a nearly uniform magnetic field. Future EHT observations will probe the variability of the jet structure on ${\\mu}$as scales, while simultaneous multi-wavelength monitoring will provide insight into the high energy emission origin. |\n",
       "|<p style=\"color:green\"> **ERROR** </p>| <p style=\"color:green\">affiliation error: mpia.affiliation_verifications: 'Heidelberg' keyword not found.</p> |"
      ],
      "text/plain": [
       "<IPython.core.display.Markdown object>"
      ]
     },
     "metadata": {},
     "output_type": "display_data"
    },
    {
     "data": {
      "text/markdown": [
       "\n",
       "|||\n",
       "|---:|:---|\n",
       "| [![arXiv](https://img.shields.io/badge/arXiv-arXiv:2302.04628-b31b1b.svg)](https://arxiv.org/abs/arXiv:2302.04628) | **Constraining the Temperature-Density Relation of the Inter-Galactic  Medium from Analytically Modeling Lyman-alpha Forest Absorbers**  |\n",
       "|| <mark>Li Yang</mark>, Zheng Zheng, T.-S. Kim |\n",
       "|*Appeared on*| *2023-02-10*|\n",
       "|*Comments*| *18 pages, 5 figures*|\n",
       "|**Abstract**| The absorption by neutral hydrogen in the intergalactic medium (IGM) produces the Ly$\\alpha$ forest in the spectra of quasars. The Ly$\\alpha$ forest absorbers have a broad distribution of neutral hydrogen column density $N_{\\rm HI}$ and Doppler $b$ parameter. The narrowest Ly$\\alpha$ absorption lines (of lowest $b$) with neutral hydrogen column density above $\\sim 10^{13}{\\rm cm^{-2}}$ are dominated by thermal broadening, which can be used to constrain the thermal state of the IGM. Here we constrain the temperature-density relation $T=T_0(\\rho/\\bar{\\rho})^{\\gamma-1}$ of the IGM at $1.6<z<3.6$ by using $N_{\\rm HI}$ and $b$ parameters measured from 24 high-resolution and high-signal-to-noise quasar spectra and by employing an analytic model to model the $N_{\\rm HI}$-dependent low-$b$ cutoff in the $b$ distribution. In each $N_{\\rm HI}$ bin, the $b$ cutoff is estimated using two methods, one non-parametric method from computing the cumulative $b$ distribution and a parametric method from fitting the full $b$ distribution. We find that the IGM temperature $T_0$ at the mean gas density $\\bar{\\rho}$ shows a peak of $\\sim 1.5\\times 10^4$K at $z\\sim $2.7-2.9. At redshift higher than this, the index $\\gamma$ approximately remains constant, and it starts to increase toward lower redshifts. The evolution in both parameters is in good agreement with constraints from completely different approaches, which signals that He II reionization completes around $z\\sim 3$. |\n",
       "|<p style=\"color:green\"> **ERROR** </p>| <p style=\"color:green\">affiliation error: mpia.affiliation_verifications: 'Heidelberg' keyword not found.</p> |"
      ],
      "text/plain": [
       "<IPython.core.display.Markdown object>"
      ]
     },
     "metadata": {},
     "output_type": "display_data"
    },
    {
     "data": {
      "text/markdown": [
       "\n",
       "|||\n",
       "|---:|:---|\n",
       "| [![arXiv](https://img.shields.io/badge/arXiv-arXiv:2302.04645-b31b1b.svg)](https://arxiv.org/abs/arXiv:2302.04645) | **Spectroscopy of 9 eruptive young variables using TANSPEC**  |\n",
       "|| <mark>Arpan Ghosh</mark>, et al. -- incl., <mark>Saurabh Sharma</mark>, <mark>Supriyo Ghosh</mark> |\n",
       "|*Appeared on*| *2023-02-10*|\n",
       "|*Comments*| *13 pages, 11 figures*|\n",
       "|**Abstract**| In recent times, 3.6m Devasthal Optical Telescope (DOT) has installed an optical to near infra-red spectrograph, TANSPEC, which provides spectral coverage from 0.55-2.5 microns. Using TANSPEC, we have obtained a single epoch spectrum of a set 9 FUors and EXors. We have analysed line profiles of the sources and compared with the previously published spectra of these objects. Comparing the line profile shapes with the existing theoretical predictions, we have tried to interpret the physical processes that are responsible for the current disc evolution and the present accretion dynamics. Our study has shown the importance for time evolved spectroscopic studies for better understanding the evolution of the accretion mechanisms. This in turn can help in better categorisation of the young stars displaying episodic accretion behaviour. |\n",
       "|<p style=\"color:green\"> **ERROR** </p>| <p style=\"color:green\">affiliation error: mpia.affiliation_verifications: 'Heidelberg' keyword not found.</p> |"
      ],
      "text/plain": [
       "<IPython.core.display.Markdown object>"
      ]
     },
     "metadata": {},
     "output_type": "display_data"
    },
    {
     "data": {
      "text/markdown": [
       "\n",
       "|||\n",
       "|---:|:---|\n",
       "| [![arXiv](https://img.shields.io/badge/arXiv-arXiv:2302.04757-b31b1b.svg)](https://arxiv.org/abs/arXiv:2302.04757) | **An In-Depth Look at TOI-3884b: a Super-Neptune Transiting a M4 Dwarf  with Persistent Star Spot Crossings**  |\n",
       "|| <mark>Jessica E. Libby-Roberts</mark>, et al. -- incl., <mark>Leslie Hebb</mark>, <mark>Andrea S.J. Lin</mark>, <mark>Suvrath Mahadevan</mark>, <mark>Henry A. Kobulnicky</mark> |\n",
       "|*Appeared on*| *2023-02-10*|\n",
       "|*Comments*| *Submitted to AJ, Comments welcome*|\n",
       "|**Abstract**| We perform an in-depth analysis of the recently validated TOI-3884 system, an M4 dwarf star with a transiting super-Neptune. Using high precision light curves obtained with the 3.5 m Apache Point Observatory and radial velocity observations with the Habitable-zone Planet Finder (HPF), we derive a planetary mass of 32.6$^{+7.3}_{-7.4}$ M$_{\\oplus}$ and radius of 6.4 $\\pm$ 0.2 R$_{\\oplus}$. We detect a distinct star spot crossing event occurring just after ingress and spanning half the transit for every transit. We determine this spot feature to be wavelength-dependent with the amplitude and duration evolving slightly over time. Best-fit star spot models show that TOI-3884b possesses a misaligned ($\\lambda$ = 75 $\\pm$ 10$^\\circ$) orbit which crosses a giant pole-spot. This system presents a rare opportunity for studies into the nature of both a misaligned super-Neptune and spot evolution on an active mid-M dwarf. |\n",
       "|<p style=\"color:green\"> **ERROR** </p>| <p style=\"color:green\">affiliation error: mpia.affiliation_verifications: 'Heidelberg' keyword not found.</p> |"
      ],
      "text/plain": [
       "<IPython.core.display.Markdown object>"
      ]
     },
     "metadata": {},
     "output_type": "display_data"
    },
    {
     "data": {
      "text/markdown": [
       "\n",
       "|||\n",
       "|---:|:---|\n",
       "| [![arXiv](https://img.shields.io/badge/arXiv-arXiv:2302.04294-b31b1b.svg)](https://arxiv.org/abs/arXiv:2302.04294) | **Microporosity and parent body of the rubble-pile NEA (162173) Ryugu**  |\n",
       "|| <mark>Wladimir Neumann</mark>, et al. |\n",
       "|*Appeared on*| *2023-02-10*|\n",
       "|*Comments*| **|\n",
       "|**Abstract**| Observations of C-type NEAs and lab investigations of carbonaceous chondritic (CC) meteorites provide strong evidence for a high porosity of C-type asteroids. Boulder microporosity values derived from in-situ measurements at the surface of the rubble-pile NEA Ryugu of up to 55% are substantially higher than for water-rich CC samples and could indicate distinct evolution paths for the parent body of Ryugu and parent bodies of carbonaceous chondrites, despite spectral similarities. In the present study, we calculate the evolution of the temperature and porosity for early solar system's planetesimals in order to constrain the range of parameters that result in microporosities compatible with Ryugu's high-porosity material and likely burial depths for the boulders observed at the surface. By varying key properties of the parent body, such as accretion time t0 and radius R that have strong influence on temperature and porosity and by comparing the interior porosity distribution with the measured boulder microporosity, hydration, and partial dehydration of the material, we constrain a field within the (R,t0)-space appropriate for bodies that are likely to have produced such material. Our calculations indicate a parent body size of only a few km and its early accretion within <~2-3 Myr after the formation of Ca-Al-rich inclusions. A gradual final porosity profile of best-fit bodies indicates production of both low- and high-density boulders from the parent body material. By contrast, parent body properties for CI and CM chondrites obtained by fitting carbonate formation data indicate a radius of ~20-25 km and an accretion time of ~3.75 Myr after CAIs. These results imply a population of km-sized early accreting porous planetesimals as parent bodies of Ryugu (and, potentially, other NEAs) and a population of larger late accreting less porous parent bodies of water-rich carbonaceous chondrites. |\n",
       "|<p style=\"color:green\"> **ERROR** </p>| <p style=\"color:green\">affiliation error: mpia.affiliation_verifications: 'Planck' keyword not found.</p> |"
      ],
      "text/plain": [
       "<IPython.core.display.Markdown object>"
      ]
     },
     "metadata": {},
     "output_type": "display_data"
    },
    {
     "data": {
      "text/markdown": [
       "\n",
       "|||\n",
       "|---:|:---|\n",
       "| [![arXiv](https://img.shields.io/badge/arXiv-arXiv:2302.04671-b31b1b.svg)](https://arxiv.org/abs/arXiv:2302.04671) | **In-flight Calibration of the Magnetometer on the Mars Orbiter of  Tianwen-1**  |\n",
       "|| Zhuxuan Zou, et al. -- incl., <mark>Tielong Zhang</mark>, <mark>Guoqiang Wang</mark>, <mark>Zhoubin Zhang</mark>, <mark>Yiren Li</mark>, <mark>Kai Liu</mark>, <mark>Jingnan Guo</mark> |\n",
       "|*Appeared on*| *2023-02-10*|\n",
       "|*Comments*| **|\n",
       "|**Abstract**| Mars Orbiter Magnetometer (MOMAG) is one of seven science payloads onboard Tianwen-1's orbiter. Unlike most of the satellites, Tianwen-1's orbiter is not magnetically cleaned, and the boom where placed the magnetometer's sensors is not long enough. These pose many challenges to the magnetic field data processing. In this paper, we introduce the in-flight calibration process of the Tianwen-1/MOMAG. The magnetic interference from the spacecraft, including spacecraft generated dynamic field and slowly-changing offsets are cleaned in sequence. Then the calibrated magnetic field data are compared with the data from the Mars Atmosphere and Volatile EvolutioN (MAVEN). We find that some physical structures in the solar wind are consistent between the two data sets, and the distributions of the magnetic field strength in the solar wind are very similar. These results suggest that the in-flight calibration of the MOMAG is successful and the MOMAG provides reliable data for scientific research. |\n",
       "|<p style=\"color:red\"> **ERROR** </p>| <p style=\"color:red\">latex error not a gzip file</p> |"
      ],
      "text/plain": [
       "<IPython.core.display.Markdown object>"
      ]
     },
     "metadata": {},
     "output_type": "display_data"
    },
    {
     "data": {
      "text/markdown": [
       "\n",
       "|||\n",
       "|---:|:---|\n",
       "| [![arXiv](https://img.shields.io/badge/arXiv-arXiv:2302.04312-b31b1b.svg)](https://arxiv.org/abs/arXiv:2302.04312) | **A comprehensive view of the interstellar medium in a quasar host galaxy  at z~6.4**  |\n",
       "|| Roberto Decarli, et al. -- incl., <mark>Fabian Walter</mark>, <mark>Frank Bertoldi</mark>, <mark>Hans-Walter Rix</mark> |\n",
       "|*Appeared on*| *2023-02-10*|\n",
       "|*Comments*| *16 pages, 14 figures. Accepted for publication in A&A*|\n",
       "|**Abstract**| Characterizing the physical conditions (density, temperature, ionization state, metallicity, etc) of the interstellar medium is critical to our understanding of the formation and evolution of galaxies. Here we present a multi-line study of the interstellar medium in the host galaxy of a quasar at z~6.4, i.e., when the universe was 840 Myr old. This galaxy is one of the most active and massive objects emerging from the dark ages, and therefore represents a benchmark for models of the early formation of massive galaxies. We used the Atacama Large Millimeter Array to target an ensemble of tracers of ionized, neutral, and molecular gas, namely the fine-structure lines: [OIII] 88$\\mu$m, [NII] 122$\\mu$m, [CII] 158$\\mu$m, and [CI] 370$\\mu$m and the rotational transitions of CO(7-6), CO(15-14), CO(16-15), and CO(19-18); OH 163.1$\\mu$m and 163.4$\\mu$m; and H$_2$O 3(0,3)-2(1,2), 3(3,1)-4(0,4), 3(3,1)-3(2,2), 4(0,4)-3(1,3), 4(3,2)-4(2,3). All the targeted fine-structure lines are detected, as are half of the targeted molecular transitions. By combining the associated line luminosities, the constraints on the dust temperature from the underlying continuum emission, and predictions from photoionization models of the interstellar medium, we find that the ionized phase accounts for about one third of the total gaseous mass budget, and is responsible for half of the total [CII] emission. It is characterized by high density (n~180 cm$^{-3}$), typical of HII regions. The spectral energy distribution of the photoionizing radiation is comparable to that emitted by B-type stars. Star formation also appears to drive the excitation of the molecular medium. We find marginal evidence for outflow-related shocks in the dense molecular phase, but not in other gas phases. This study showcases the power of multi-line investigations in unveiling the properties of the star-forming medium in galaxies at cosmic dawn. |\n",
       "|<p style=\"color:red\"> **ERROR** </p>| <p style=\"color:red\">latex error sequence item 1: expected str instance, TexNode found</p> |"
      ],
      "text/plain": [
       "<IPython.core.display.Markdown object>"
      ]
     },
     "metadata": {},
     "output_type": "display_data"
    }
   ],
   "source": [
    "import datetime\n",
    "today = str(datetime.date.today())\n",
    "logfile = f\"_build/html/logs/log-{today}.md\"\n",
    "\n",
    "\n",
    "with open(logfile, 'w') as logs:\n",
    "    # Success\n",
    "    logs.write(f'# Arxiv on Deck 2: Logs - {today}\\n\\n')\n",
    "    logs.write(\"\"\"* Arxiv had {0:,d} new papers\\n\"\"\".format(len(new_papers)))\n",
    "    logs.write(\"\"\"    * {0:,d} with possible author matches\\n\\n\"\"\".format(len(candidates)))\n",
    "    logs.write(\"## Sucessful papers\\n\\n\")\n",
    "    display(Markdown(\"## Successful papers\"))\n",
    "    success = [k[0] for k in documents]\n",
    "    for candid in candidates:\n",
    "        if candid['identifier'].split(':')[-1] in success:\n",
    "            display(candid)\n",
    "            logs.write(candid.generate_markdown_text() + '\\n\\n')\n",
    "\n",
    "    ## failed\n",
    "    logs.write(\"## Failed papers\\n\\n\")\n",
    "    display(Markdown(\"## Failed papers\"))\n",
    "    failed = sorted(failed, key=lambda x: x[1])\n",
    "    current_reason = \"\"\n",
    "    for paper, reason in failed:\n",
    "        if 'affiliation' in reason:\n",
    "            color = 'green'\n",
    "        else:\n",
    "            color = 'red'\n",
    "        data = Markdown(\n",
    "                paper.generate_markdown_text() + \n",
    "                f'\\n|<p style=\"color:{color:s}\"> **ERROR** </p>| <p style=\"color:{color:s}\">{reason:s}</p> |'\n",
    "               )\n",
    "        if reason != current_reason:\n",
    "            logs.write(f'### {reason:s} \\n\\n')\n",
    "            current_reason = reason\n",
    "        logs.write(data.data + '\\n\\n')\n",
    "        \n",
    "        # only display here the important errors (all in logs)\n",
    "        # if color in ('red',):\n",
    "        display(data)"
   ]
  },
  {
   "cell_type": "markdown",
   "id": "472d20ee",
   "metadata": {
    "papermill": {
     "duration": 0.009572,
     "end_time": "2023-02-10T04:09:28.048778",
     "exception": false,
     "start_time": "2023-02-10T04:09:28.039206",
     "status": "completed"
    },
    "tags": []
   },
   "source": [
    "## Export documents\n",
    "\n",
    "We now write the .md files and export relevant images"
   ]
  },
  {
   "cell_type": "code",
   "execution_count": 7,
   "id": "d426aed9",
   "metadata": {
    "execution": {
     "iopub.execute_input": "2023-02-10T04:09:28.069762Z",
     "iopub.status.busy": "2023-02-10T04:09:28.069159Z",
     "iopub.status.idle": "2023-02-10T04:09:28.076844Z",
     "shell.execute_reply": "2023-02-10T04:09:28.076245Z"
    },
    "papermill": {
     "duration": 0.02011,
     "end_time": "2023-02-10T04:09:28.078416",
     "exception": false,
     "start_time": "2023-02-10T04:09:28.058306",
     "status": "completed"
    },
    "tags": []
   },
   "outputs": [],
   "source": [
    "def export_markdown_summary(md: str, md_fname:str, directory: str):\n",
    "    \"\"\"Export MD document and associated relevant images\"\"\"\n",
    "    import os\n",
    "    import shutil\n",
    "    import re\n",
    "\n",
    "    if (os.path.exists(directory) and not os.path.isdir(directory)):\n",
    "        raise RuntimeError(f\"a non-directory file exists with name {directory:s}\")\n",
    "\n",
    "    if (not os.path.exists(directory)):\n",
    "        print(f\"creating directory {directory:s}\")\n",
    "        os.mkdir(directory)\n",
    "\n",
    "    fig_fnames = (re.compile(r'\\[Fig.*\\]\\((.*)\\)').findall(md) + \n",
    "                  re.compile(r'\\<img src=\"([^>\\s]*)\"[^>]*/>').findall(md))\n",
    "    for fname in fig_fnames:\n",
    "        if 'http' in fname:\n",
    "            # No need to copy online figures\n",
    "            continue\n",
    "        destdir = os.path.join(directory, os.path.dirname(fname))\n",
    "        destfname = os.path.join(destdir, os.path.basename(fname))\n",
    "        try:\n",
    "            os.makedirs(destdir)\n",
    "        except FileExistsError:\n",
    "            pass\n",
    "        shutil.copy(fname, destfname)\n",
    "    with open(os.path.join(directory, md_fname), 'w') as fout:\n",
    "        fout.write(md)\n",
    "    print(\"exported in \", os.path.join(directory, md_fname))\n",
    "    [print(\"    + \" + os.path.join(directory,fk)) for fk in fig_fnames]"
   ]
  },
  {
   "cell_type": "code",
   "execution_count": 8,
   "id": "014d04a4",
   "metadata": {
    "execution": {
     "iopub.execute_input": "2023-02-10T04:09:28.099167Z",
     "iopub.status.busy": "2023-02-10T04:09:28.098677Z",
     "iopub.status.idle": "2023-02-10T04:09:28.105786Z",
     "shell.execute_reply": "2023-02-10T04:09:28.104813Z"
    },
    "papermill": {
     "duration": 0.024997,
     "end_time": "2023-02-10T04:09:28.113196",
     "exception": false,
     "start_time": "2023-02-10T04:09:28.088199",
     "status": "completed"
    },
    "tags": []
   },
   "outputs": [
    {
     "name": "stdout",
     "output_type": "stream",
     "text": [
      "exported in  _build/html/2302.04507.md\n",
      "    + _build/html/tmp_2302.04507/./stacked_biases.png\n",
      "    + _build/html/tmp_2302.04507/./all_dcls_estimators.png\n",
      "    + _build/html/tmp_2302.04507/./bias_contours_lcdm.png\n"
     ]
    }
   ],
   "source": [
    "for paper_id, md in documents:\n",
    "    export_markdown_summary(md, f\"{paper_id:s}.md\", '_build/html/')"
   ]
  },
  {
   "cell_type": "markdown",
   "id": "f087a0a7",
   "metadata": {
    "papermill": {
     "duration": 0.009658,
     "end_time": "2023-02-10T04:09:28.132713",
     "exception": false,
     "start_time": "2023-02-10T04:09:28.123055",
     "status": "completed"
    },
    "tags": []
   },
   "source": [
    "## Display the papers\n",
    "\n",
    "Not necessary but allows for a quick check."
   ]
  },
  {
   "cell_type": "code",
   "execution_count": 9,
   "id": "fd25f625",
   "metadata": {
    "execution": {
     "iopub.execute_input": "2023-02-10T04:09:28.187198Z",
     "iopub.status.busy": "2023-02-10T04:09:28.186354Z",
     "iopub.status.idle": "2023-02-10T04:09:28.191401Z",
     "shell.execute_reply": "2023-02-10T04:09:28.190875Z"
    },
    "papermill": {
     "duration": 0.050658,
     "end_time": "2023-02-10T04:09:28.192998",
     "exception": false,
     "start_time": "2023-02-10T04:09:28.142340",
     "status": "completed"
    },
    "scrolled": false,
    "tags": []
   },
   "outputs": [
    {
     "data": {
      "text/markdown": [
       "<div class=\"macros\" style=\"visibility:hidden;\">\n",
       "$\\newcommand{\\ensuremath}{}$\n",
       "$\\newcommand{\\xspace}{}$\n",
       "$\\newcommand{\\object}[1]{\\texttt{#1}}$\n",
       "$\\newcommand{\\farcs}{{.}''}$\n",
       "$\\newcommand{\\farcm}{{.}'}$\n",
       "$\\newcommand{\\arcsec}{''}$\n",
       "$\\newcommand{\\arcmin}{'}$\n",
       "$\\newcommand{\\ion}[2]{#1#2}$\n",
       "$\\newcommand{\\textsc}[1]{\\textrm{#1}}$\n",
       "$\\newcommand{\\hl}[1]{\\textrm{#1}}$\n",
       "$\\newcommand{\\orcid}[1]$</div>\n",
       "\n",
       "<div class=\"macros\" style=\"visibility:hidden;\">\n",
       "$\\newcommand{$\\ensuremath$}{}$\n",
       "$\\newcommand{$\\xspace$}{}$\n",
       "$\\newcommand{$\\object$}[1]{\\texttt{#1}}$\n",
       "$\\newcommand{$\\farcs$}{{.}''}$\n",
       "$\\newcommand{$\\farcm$}{{.}'}$\n",
       "$\\newcommand{$\\arcsec$}{''}$\n",
       "$\\newcommand{$\\arcmin$}{'}$\n",
       "$\\newcommand{$\\ion$}[2]{#1#2}$\n",
       "$\\newcommand{$\\textsc$}[1]{\\textrm{#1}}$\n",
       "$\\newcommand{$\\hl$}[1]{\\textrm{#1}}$\n",
       "$\\newcommand{$\\orcid$}[1]$</div>\n",
       "\n",
       "\n",
       "\n",
       "<div id=\"title\">\n",
       "\n",
       "#  preparation: XXVIII. Modelling of the weak lensing angular power spectrum\n",
       "\n",
       "</div>\n",
       "<div id=\"comments\">\n",
       "\n",
       "[![arXiv](https://img.shields.io/badge/arXiv-2302.04507-b31b1b.svg)](https://arxiv.org/abs/2302.04507)<mark>Appeared on: 2023-02-10</mark> - _20 pages, submitted to A&A_\n",
       "\n",
       "</div>\n",
       "<div id=\"authors\">\n",
       "\n",
       "Euclid Collaboration, et al. -- incl., <mark><mark>M. L. Brown</mark></mark>, <mark><mark>E. Franceschi</mark></mark>, <mark><mark>K. Jahnke</mark></mark>, <mark><mark>S. Ligori</mark></mark>, <mark><mark>P. B. Lilje</mark></mark>\n",
       "\n",
       "</div>\n",
       "<div id=\"abstract\">\n",
       "\n",
       "**Abstract:** This work considers which higher-order effects in modelling the cosmic shear angular power spectra must be taken into account for\\emph{Euclid}. We identify which terms are of concern, and quantify their individual and cumulative impact on cosmological parameter inference from\\emph{Euclid}. We compute the values of these higher-order effects using analytic expressions, and calculate the impact on cosmological parameter estimation using the Fisher matrix formalism. We review 24 effects and find the following potentially need to be accounted for: the reduced shear approximation, magnification bias, source-lens clustering, source obscuration, local Universe effects, and the flat Universe assumption. Upon computing these explicitly, and calculating their cosmological parameter biases, using a maximum multipole of$\\ell=5000$, we find that the magnification bias, source-lens clustering, source obscuration, and local Universe terms individually produce significant ($ >0.25\\sigma$) cosmological biases in one or more parameters, and accordingly must be accounted for. In total, over all effects, we find biases in$\\Omega_{\\rm m}$,$\\Omega_{\\rm b}$,$h$, and$\\sigma_{8}$of$0.73\\sigma$,$0.28\\sigma$,$0.25\\sigma$, and$-0.79\\sigma$, respectively, for flat$\\Lambda$CDM. For the$w_0w_a$CDM case, we find biases in$\\Omega_{\\rm m}$,$\\Omega_{\\rm b}$,$h$,$n_{\\rm s}$,$\\sigma_{8}$, and$w_a$of$1.49\\sigma$,$0.35\\sigma$,$-1.36\\sigma$,$1.31\\sigma$,$-0.84\\sigma$, and$-0.35\\sigma$, respectively; which are increased relative to the$\\Lambda$CDM due to additional degeneracies as a function of redshift and scale.\n",
       "\n",
       "</div>\n",
       "\n",
       "<div id=\"div_fig1\">\n",
       "\n",
       "<img src=\"tmp_2302.04507/./stacked_biases.png\" alt=\"Fig2\" width=\"100%\"/>\n",
       "\n",
       "**Figure 2. -** Stacked bar chart of cosmological parameter biases resulting from the studied higher-order effects, for the flat $\\Lambda$CDM case (left) of Table \\ref{tab:biasesLCDMtab}, and the flat $w_0w_a$CDM case (right) of Table \\ref{tab:biasesflattab}. The non-flat Universe term is not shown here, due to the different cosmology. Biases are presented here as a fraction of the $1\\sigma$ parameter uncertainty. A bias is non-negligble if its absolute value reaches or exceeds $0.25\\sigma$. `RS' denotes the reduced shear correction, `SLC' is the source-lens clustering term, `MB' is the magnification bias correction, `SO' is the two-point source obscuration correction, `SO-MB' and `SO-SLC' are the source obscuration-magnification bias and source-lens clustering cross terms respectively, and `LU' is the local Universe correction The segments with the dashed outlines show the total parameter biases from these corrections for each parameter. (*fig:stacked_bars*)\n",
       "\n",
       "</div>\n",
       "<div id=\"div_fig2\">\n",
       "\n",
       "<img src=\"tmp_2302.04507/./all_dcls_estimators.png\" alt=\"Fig1\" width=\"100%\"/>\n",
       "\n",
       "**Figure 1. -** Absolute magnitudes of the reduced shear, source-lens clustering, magnification bias, local Universe, source obscuration, and non-flat Universe corrections to the shear angular power spectra, relative to those angular power spectra, for \\emph{Euclid}. The corrections to the angular power spectra for four redshift bin auto-correlations are shown as representative examples, spanning across the redshift range of \\emph{Euclid}. The remaining auto and cross-correlations exhibit the same patterns. The absolute value of the signed sum of the corrections is also shown. These are all compared to the sample variance, calculated according to Eq. (\\ref{eq:samplevar}). Notably, while the magnitudes of individual corrections are either higher at lower redshifts or vice-versa, the magnitude of the sum of the corrections is consistently high. Additionally, the cross-terms between source obscuration, and magnification bias and source-lens clustering are multiple orders of magnitude below other terms and sample variance, suggesting they are negligible. The remainder of the terms are typically of similar magnitudes across redshifts, suggesting they must all be accounted for. We note that these magnitudes are for both the $\\Lambda$CDM and $w_0w_a$CDM cases, as the choice of fiducial values for the latter matches the former, and that the non-flat Universe correction here has been computed for a cosmology with $\\Omega_{K}=0.05$, whilst other corrections are when $\\Omega_{K}=0$. The markers for the SO-MB, SO-SLC, SO, Non-flat Universe, and total lines are only used to distinguish those from the other terms, and do not have any other significance. The symbols (points) are only included to allow a reader to distinguish the lines (in particular if printing in gray-scale) and do not indicate the $\\ell$-modes where a computation was made; all quantities were evaluated for 200 $\\ell$-bands, logarithmically spaced, with an $\\ell_{\\rm min}$ of 10, and an $\\ell_{\\rm max}$ of 5000. (*fig:dcls_all*)\n",
       "\n",
       "</div>\n",
       "<div id=\"div_fig3\">\n",
       "\n",
       "<img src=\"tmp_2302.04507/./bias_contours_lcdm.png\" alt=\"Fig3\" width=\"100%\"/>\n",
       "\n",
       "**Figure 3. -** Projected 1$\\sigma$ and 2$\\sigma$ 2-parameter uncertainty contours for \\emph{Euclid} under a $\\Lambda$CDM cosmology, with and without correcting for the source-lens clustering, magnification bias, source obscuration, and local Universe terms. These are predicted using the Fisher matrix formalism, using the cosmology specified in Table \\ref{tab:cosmology}, in the case when $\\Omega_{K}=0$ and is kept fixed. The true location of the constraints is denoted by the blue, dashed contours, while the biased locations if the corrections are not made are given by the solid, gold contours. Significant biases are predicted for $\\Omega_{\\rm m}$, $\\Omega_{\\rm b}$, $h$, and $\\sigma_{8}$, and their values can be found in Table \\ref{tab:biasesLCDMtab} (*fig:bias_corner_LCDM*)\n",
       "\n",
       "</div>"
      ],
      "text/plain": [
       "<IPython.core.display.Markdown object>"
      ]
     },
     "metadata": {},
     "output_type": "display_data"
    }
   ],
   "source": [
    "[display(Markdown(k[1])) for k in documents];"
   ]
  },
  {
   "cell_type": "markdown",
   "id": "873873a4",
   "metadata": {
    "papermill": {
     "duration": 0.01011,
     "end_time": "2023-02-10T04:09:28.213151",
     "exception": false,
     "start_time": "2023-02-10T04:09:28.203041",
     "status": "completed"
    },
    "tags": []
   },
   "source": [
    "# Create HTML index"
   ]
  },
  {
   "cell_type": "code",
   "execution_count": 10,
   "id": "cf665672",
   "metadata": {
    "execution": {
     "iopub.execute_input": "2023-02-10T04:09:28.235003Z",
     "iopub.status.busy": "2023-02-10T04:09:28.234281Z",
     "iopub.status.idle": "2023-02-10T04:09:28.247625Z",
     "shell.execute_reply": "2023-02-10T04:09:28.246924Z"
    },
    "papermill": {
     "duration": 0.026297,
     "end_time": "2023-02-10T04:09:28.249306",
     "exception": false,
     "start_time": "2023-02-10T04:09:28.223009",
     "status": "completed"
    },
    "tags": []
   },
   "outputs": [
    {
     "name": "stdout",
     "output_type": "stream",
     "text": [
      "199  publications in the last 7 days.\n",
      "\t _build/html/2302.04507.md\n",
      "\t _build/html/2302.04239.md\n",
      "\t _build/html/2302.04138.md\n",
      "\t _build/html/2302.03699.md\n",
      "\t _build/html/2302.03576.md\n",
      "\t _build/html/2302.03042.md\n",
      "\t _build/html/2302.03039.md\n",
      "\t _build/html/2302.02890.md\n",
      "\t _build/html/2302.02611.md\n",
      "\t _build/html/2302.02429.md\n",
      "\t _build/html/2302.01678.md\n",
      "\t _build/html/2302.00450.md\n",
      "\t _build/html/2301.13766.md\n",
      "\t _build/html/2301.13526.md\n",
      "\t _build/html/2301.12890.md\n",
      "\t _build/html/2301.11942.md\n",
      "\t _build/html/2301.10717.md\n",
      "\t _build/html/2301.10666.md\n",
      "\t _build/html/2301.10496.md\n",
      "\t _build/html/2301.09621.md\n",
      "\t _build/html/2301.09140.md\n",
      "\t _build/html/2301.08770.md\n",
      "\t _build/html/2301.08310.md\n",
      "\t _build/html/2301.07990.md\n",
      "\t _build/html/2301.07366.md\n",
      "\t _build/html/2301.07199.md\n",
      "\t _build/html/2301.07116.md\n",
      "\t _build/html/2301.06873.md\n",
      "\t _build/html/2301.06819.md\n",
      "\t _build/html/2301.06575.md\n",
      "\t _build/html/2301.05720.md\n",
      "\t _build/html/2301.05718.md\n",
      "\t _build/html/2301.05034.md\n",
      "\t _build/html/2301.04656.md\n",
      "\t _build/html/2301.04533.md\n",
      "\t _build/html/2301.04442.md\n",
      "\t _build/html/2301.03811.md\n",
      "\t _build/html/2301.03689.md\n",
      "\t _build/html/2301.03387.md\n",
      "\t _build/html/2301.03209.md\n",
      "\t _build/html/2301.02671.md\n",
      "\t _build/html/2301.02477.md\n",
      "\t _build/html/2301.02313.md\n",
      "\t _build/html/2301.02265.md\n",
      "\t _build/html/2301.01937.md\n",
      "\t _build/html/2301.01895.md\n",
      "\t _build/html/2301.01684.md\n",
      "\t _build/html/2301.01306.md\n",
      "\t _build/html/2301.00881.md\n",
      "\t _build/html/2301.00854.md\n",
      "\t _build/html/2301.00578.md\n",
      "\t _build/html/2212.12039.md\n",
      "\t _build/html/2212.11991.md\n",
      "\t _build/html/2212.11425.md\n",
      "\t _build/html/2212.11177.md\n",
      "\t _build/html/2212.10804.md\n",
      "\t _build/html/2212.10512.md\n",
      "\t _build/html/2212.09766.md\n",
      "\t _build/html/2212.09675.md\n",
      "\t _build/html/2212.09661.md\n",
      "\t _build/html/2212.09652.md\n",
      "\t _build/html/2212.09443.md\n",
      "\t _build/html/2212.09307.md\n",
      "\t _build/html/2212.09168.md\n",
      "\t _build/html/2212.09159.md\n",
      "\t _build/html/2212.08702.md\n",
      "\t _build/html/2212.07332.md\n",
      "\t _build/html/2212.06434.md\n",
      "\t _build/html/2212.04710.md\n",
      "\t _build/html/2212.04026.md\n",
      "\t _build/html/2212.03563.md\n",
      "\t _build/html/2212.03514.md\n",
      "\t _build/html/2212.02667.md\n",
      "\t _build/html/2212.02627.md\n",
      "\t _build/html/2212.02235.md\n",
      "\t _build/html/2212.01707.md\n",
      "\t _build/html/2212.01526.md\n",
      "\t _build/html/2212.01397.md\n",
      "\t _build/html/2212.01291.md\n",
      "\t _build/html/2212.01281.md\n",
      "\t _build/html/2212.00812.md\n",
      "\t _build/html/2212.00811.md\n",
      "\t _build/html/2212.00806.md\n",
      "\t _build/html/2212.00047.md\n",
      "\t _build/html/2212.00032.md\n",
      "\t _build/html/2211.16996.md\n",
      "\t _build/html/2211.16510.md\n",
      "\t _build/html/2211.16123.md\n",
      "\t _build/html/2211.15816.md\n",
      "\t _build/html/2211.15698.md\n",
      "\t _build/html/2211.15576.md\n",
      "\t _build/html/2211.15434.md\n",
      "\t _build/html/2211.15288.md\n",
      "\t _build/html/2211.15224.md\n",
      "\t _build/html/2211.14543.md\n",
      "\t _build/html/2211.14330.md\n",
      "\t _build/html/2211.14322.md\n",
      "\t _build/html/2211.14132.md\n",
      "\t _build/html/2211.13811.md\n",
      "\t _build/html/2211.13426.md\n",
      "\t _build/html/2211.13318.md\n",
      "\t _build/html/2211.13146.md\n",
      "\t _build/html/2211.12613.md\n",
      "\t _build/html/2211.11767.md\n",
      "\t _build/html/2211.09840.md\n",
      "\t _build/html/2211.09217.md\n",
      "\t _build/html/2211.08493.md\n",
      "\t _build/html/2211.08487.md\n",
      "\t _build/html/2211.08294.md\n",
      "\t _build/html/2211.07667.md\n",
      "\t _build/html/2211.07659.md\n",
      "\t _build/html/2211.06454.md\n",
      "\t _build/html/2211.06205.md\n",
      "\t _build/html/2211.06194.md\n",
      "\t _build/html/2211.05022.md\n",
      "\t _build/html/2211.04048.md\n",
      "\t _build/html/2211.03641.md\n",
      "\t _build/html/2211.02502.md\n",
      "\t _build/html/2211.01474.md\n",
      "\t _build/html/2211.00667.md\n",
      "\t _build/html/2211.00657.md\n",
      "\t _build/html/2211.00087.md\n",
      "\t _build/html/2211.00036.md\n",
      "\t _build/html/2211.00020.md\n",
      "\t _build/html/2211.00010.md\n",
      "\t _build/html/2210.17434.md\n",
      "\t _build/html/2210.12412.md\n",
      "\t _build/html/2210.11926.md\n",
      "\t _build/html/2210.11551.md\n",
      "\t _build/html/2210.11103.md\n",
      "\t _build/html/2210.10707.md\n",
      "\t _build/html/2210.09930.md\n",
      "\t _build/html/2210.08996.md\n",
      "\t _build/html/2210.08517.md\n",
      "\t _build/html/2210.08510.md\n",
      "\t _build/html/2210.08078.md\n",
      "\t _build/html/2210.06504.md\n",
      "\t _build/html/2210.05695.md\n",
      "\t _build/html/2210.05595.md\n",
      "\t _build/html/2210.05505.md\n",
      "\t _build/html/2210.04721.md\n",
      "\t _build/html/2210.03615.md\n",
      "\t _build/html/2210.01811.md\n",
      "\t _build/html/2210.01809.md\n",
      "\t _build/html/2210.01556.md\n",
      "\t _build/html/2210.00863.md\n",
      "\t _build/html/2210.00560.md\n",
      "\t _build/html/2209.15403.md\n",
      "\t _build/html/2209.15110.md\n",
      "\t _build/html/2209.14410.md\n",
      "\t _build/html/2209.14396.md\n",
      "\t _build/html/2209.13717.md\n",
      "\t _build/html/2209.13336.md\n",
      "\t _build/html/2209.12906.md\n",
      "\t _build/html/2209.11781.md\n",
      "\t _build/html/2209.11602.md\n",
      "\t _build/html/2209.11248.md\n",
      "\t _build/html/2209.11096.md\n",
      "\t _build/html/2209.10618.md\n",
      "\t _build/html/2209.09914.md\n",
      "\t _build/html/2209.09823.md\n",
      "\t _build/html/2209.08242.md\n",
      "\t _build/html/2209.08120.md\n",
      "\t _build/html/2209.08106.md\n",
      "\t _build/html/2209.07962.md\n",
      "\t _build/html/2209.07931.md\n",
      "\t _build/html/2209.06833.md\n",
      "\t _build/html/2209.05814.md\n",
      "\t _build/html/2209.05593.md\n",
      "\t _build/html/2209.04304.md\n",
      "\t _build/html/2209.03367.md\n",
      "\t _build/html/2209.02872.md\n",
      "\t _build/html/2209.02725.md\n",
      "\t _build/html/2209.02722.md\n",
      "\t _build/html/2209.02092.md\n",
      "\t _build/html/2209.01125.md\n",
      "\t _build/html/2209.00828.md\n",
      "\t _build/html/2209.00363.md\n",
      "\t _build/html/2208.14927.md\n",
      "\t _build/html/2208.09335.md\n",
      "\t _build/html/2208.08872.md\n",
      "\t _build/html/2204.06393.md\n",
      "\t _build/html/2204.03335.md\n",
      "\t _build/html/2204.03253.md\n",
      "\t _build/html/2204.02998.md\n",
      "\t _build/html/2204.02109.md\n",
      "\t _build/html/2204.02017.md\n",
      "\t _build/html/2204.01824.md\n",
      "\t _build/html/2204.01758.md\n",
      "\t _build/html/2204.01245.md\n",
      "\t _build/html/2204.00793.md\n",
      "\t _build/html/2204.00342.md\n",
      "\t _build/html/2203.16959.md\n",
      "\t _build/html/2203.16856.md\n",
      "\t _build/html/2203.16735.md\n",
      "\t _build/html/2203.16734.md\n",
      "\t _build/html/2203.16504.md\n",
      "\t _build/html/2203.15822.md\n",
      "\t _build/html/2203.15811.md\n"
     ]
    }
   ],
   "source": [
    "from datetime import datetime, timedelta, timezone\n",
    "from glob import glob\n",
    "\n",
    "files = glob('_build/html/*.md')\n",
    "days = 7\n",
    "now = datetime.today()\n",
    "res = []\n",
    "for fk in files:\n",
    "    stat_result = os.stat(fk).st_ctime\n",
    "    modified = datetime.fromtimestamp(stat_result, tz=timezone.utc).replace(tzinfo=None)\n",
    "    delta = now.today() - modified\n",
    "    if delta <= timedelta(days=days):\n",
    "        res.append((delta.seconds, fk))\n",
    "res = [k[1] for k in reversed(sorted(res, key=lambda x:x[1]))]\n",
    "npub = len(res)\n",
    "print(len(res), f\" publications in the last {days:d} days.\")\n",
    "[ print('\\t', k) for k in res ];"
   ]
  },
  {
   "cell_type": "code",
   "execution_count": 11,
   "id": "015de740",
   "metadata": {
    "execution": {
     "iopub.execute_input": "2023-02-10T04:09:28.271558Z",
     "iopub.status.busy": "2023-02-10T04:09:28.270977Z",
     "iopub.status.idle": "2023-02-10T04:09:28.291797Z",
     "shell.execute_reply": "2023-02-10T04:09:28.291098Z"
    },
    "papermill": {
     "duration": 0.03384,
     "end_time": "2023-02-10T04:09:28.293395",
     "exception": false,
     "start_time": "2023-02-10T04:09:28.259555",
     "status": "completed"
    },
    "tags": []
   },
   "outputs": [
    {
     "name": "stdout",
     "output_type": "stream",
     "text": [
      "11  publications in the last 7 days.\n"
     ]
    }
   ],
   "source": [
    "import datetime\n",
    "from glob import glob\n",
    "\n",
    "def get_last_n_days(lst, days=1):\n",
    "    \"\"\" Get the documents from the last n days \"\"\"\n",
    "    sorted_lst = sorted(lst, key=lambda x: x[1], reverse=True)\n",
    "    for fname, date in sorted_lst:\n",
    "        if date >= str(datetime.date.today() - datetime.timedelta(days=days)):\n",
    "            yield fname\n",
    "\n",
    "def extract_appearance_dates(lst_file):\n",
    "    dates = []\n",
    "\n",
    "    def get_date(line):\n",
    "        return line\\\n",
    "            .split('Appeared on:')[-1]\\\n",
    "            .split('</mark>')[0].strip()\n",
    "\n",
    "    for fname in lst:\n",
    "        with open(fname, 'r') as f:\n",
    "            found_date = False\n",
    "            for line in f:\n",
    "                if not found_date:\n",
    "                    if \"Appeared on\" in line:\n",
    "                        found_date = True\n",
    "                        dates.append((fname, get_date(line)))\n",
    "                else:\n",
    "                    break\n",
    "    return dates\n",
    "\n",
    "from glob import glob\n",
    "lst = glob('_build/html/*md')\n",
    "days = 7\n",
    "dates = extract_appearance_dates(lst)\n",
    "res = list(get_last_n_days(dates, days))\n",
    "npub = len(res)\n",
    "print(len(res), f\" publications in the last {days:d} days.\")"
   ]
  },
  {
   "cell_type": "code",
   "execution_count": 12,
   "id": "52ca0208",
   "metadata": {
    "execution": {
     "iopub.execute_input": "2023-02-10T04:09:28.316023Z",
     "iopub.status.busy": "2023-02-10T04:09:28.315481Z",
     "iopub.status.idle": "2023-02-10T04:09:28.322111Z",
     "shell.execute_reply": "2023-02-10T04:09:28.321441Z"
    },
    "papermill": {
     "duration": 0.019737,
     "end_time": "2023-02-10T04:09:28.323572",
     "exception": false,
     "start_time": "2023-02-10T04:09:28.303835",
     "status": "completed"
    },
    "scrolled": false,
    "tags": []
   },
   "outputs": [],
   "source": [
    "def create_carousel(npub=4):\n",
    "    \"\"\" Generate the HTML code for a carousel with `npub` slides \"\"\"\n",
    "    carousel = [\"\"\"<section class=\"carousel\" aria-label=\"Gallery\">\"\"\",\n",
    "                \"\"\"  <ol class=\"carousel__viewport\">\"\"\",\n",
    "    ]\n",
    "    for k in range(1, npub + 1):\n",
    "        prev_ = k - 1\n",
    "        next_ = k + 1\n",
    "        if prev_ <= 0:\n",
    "            prev_ = npub\n",
    "        if next_ > npub:\n",
    "            next_ = 1\n",
    "        text  = f\"\"\"    <li id=\"carousel__slide{k}\" tabindex=\"0\" class=\"carousel__slide\">\\n\"\"\"\n",
    "        text += f\"\"\"       <div class=\"carousel__snapper\">\\n\"\"\"\n",
    "        text += f\"\"\"         <a href=\"#carousel__slide{prev_}\" class=\"carousel__prev\">Go to previous slide</a>\\n\"\"\"\n",
    "        text += f\"\"\"         <a href=\"#carousel__slide{next_}\" class=\"carousel__next\">Go to next slide</a>\\n\"\"\"\n",
    "        text += f\"\"\"         <div id=\"slide{k}_content\" class=\"md_view\" >Content {k}</div>\\n\"\"\"\n",
    "        text += f\"\"\"       </div>\\n\"\"\"\n",
    "        text += f\"\"\"    </li>\"\"\"\n",
    "        carousel.append(text)\n",
    "\n",
    "    carousel.extend([\n",
    "        \"\"\"  </ol>\"\"\",\n",
    "        \"\"\"  <aside class=\"carousel__navigation\">\"\"\",\n",
    "        \"\"\"    <ol class=\"carousel__navigation-list\">\"\"\"])\n",
    "\n",
    "    for k in range(1, npub + 1):\n",
    "        text  = f\"\"\"      <li class=\"carousel__navigation-item\">\\n\"\"\"\n",
    "        text += f\"\"\"        <a href=\"#carousel__slide{k}\" class=\"carousel__navigation-button\">Go to {k}</a>\\n\"\"\"\n",
    "        text += f\"\"\"      </li>\"\"\"\n",
    "        carousel.append(text)\n",
    "    carousel.extend([\"\"\"    </ol>\"\"\", \"\"\"  </aside>\"\"\", \"\"\"</section>\"\"\"])\n",
    "\n",
    "    return '\\n'.join(carousel)"
   ]
  },
  {
   "cell_type": "code",
   "execution_count": 13,
   "id": "a6eac5b6",
   "metadata": {
    "execution": {
     "iopub.execute_input": "2023-02-10T04:09:28.346434Z",
     "iopub.status.busy": "2023-02-10T04:09:28.346126Z",
     "iopub.status.idle": "2023-02-10T04:09:28.353680Z",
     "shell.execute_reply": "2023-02-10T04:09:28.353051Z"
    },
    "papermill": {
     "duration": 0.021335,
     "end_time": "2023-02-10T04:09:28.355238",
     "exception": false,
     "start_time": "2023-02-10T04:09:28.333903",
     "status": "completed"
    },
    "scrolled": false,
    "tags": []
   },
   "outputs": [],
   "source": [
    "carousel = create_carousel(npub)\n",
    "docs = ', '.join(['\"{0:s}\"'.format(k.split('/')[-1]) for k in res])\n",
    "slides = ', '.join([f'\"slide{k}_content\"' for k in range(1, npub + 1)])\n",
    "\n",
    "script = f\"\"\"\n",
    "const docs = [{docs}]\n",
    "\n",
    "const slides = [{slides}]\n",
    "\"\"\" + \"\"\"\n",
    "async function run() {\n",
    "    for (let i = 0; i < docs.length; i++) {\n",
    "        let file = await fetch(docs[i]);\n",
    "        let text = await file.text()\n",
    "        document.getElementById(slides[i]).innerHTML =\n",
    "            marked.parse(text);\n",
    "    }\n",
    "    hljs.highlightAll();\n",
    "}\n",
    "run()\n",
    "\"\"\"\n",
    "\n",
    "page = f\"\"\"<!doctype html>\n",
    "<html lang=\"en\">\n",
    "\n",
    "<head>\n",
    "  <meta charset=\"utf-8\">\n",
    "  <meta name=\"viewport\" content=\"width=device-width, initial-scale=1\">\n",
    "  <!-- Bootstrap CSS -->\n",
    "  <link href=\"https://cdn.jsdelivr.net/npm/bootstrap@5.0.2/dist/css/bootstrap.min.css\" rel=\"stylesheet\"\n",
    "   integrity=\"sha384-EVSTQN3/azprG1Anm3QDgpJLIm9Nao0Yz1ztcQTwFspd3yD65VohhpuuCOmLASjC\" crossorigin=\"anonymous\">\n",
    "  <!-- highlight.js CSS -->\n",
    "  <link rel=\"stylesheet\" href=\"https://cdnjs.cloudflare.com/ajax/libs/highlight.js/11.1.0/styles/default.min.css\">\n",
    "  <!-- Mathjax 3 -->\n",
    "  <script type=\"text/javascript\" id=\"MathJax-config\" src=\"mathjax_config.js\"> </script>\n",
    "  <script type=\"text/javascript\" id=\"MathJax-script\" async \n",
    "    src=\"https://cdn.jsdelivr.net/npm/mathjax@3/es5/tex-mml-chtml.js\">\n",
    "  </script>\n",
    "  <link rel=\"stylesheet\" href=\"index_carousel.css\">\n",
    "  <link rel=\"icon\" type=\"image/x-icon\" href=\"https://www.mpia.de/assets/touch-icon-32x32-a66937bcebc4e8894ebff1f41a366c7c7220fd97a38869ee0f2db65a9f59b6c1.png\">\n",
    "  <title>MPIA Arxiv on deck!</title>\n",
    "</head>\n",
    "\n",
    "<body>\n",
    "  <div id=\"header\"> <img src=\"header_banner.png\" width=\"100%\"></div>\n",
    "  <div id=\"suptitle\"> 7-day archives </div>\n",
    "  <div id=\"info\">\n",
    "    <img src=\"https://pngimg.com/uploads/github/github_PNG58.png\" height=30rem></img>\n",
    "    <a href=https://github.com/mpi-astronomy/arxiv_display style=\"color:black;\">github/mpi-astronomy/arxiv_display</a> \n",
    "  </div>\n",
    "  {carousel:s}\n",
    "</body>\n",
    "\n",
    "<!-- Render Markdown -->\n",
    "\n",
    "<body>\n",
    "  <!-- highlight.js: https://highlightjs.org/download/ -->\n",
    "  <script src=\"https://cdnjs.cloudflare.com/ajax/libs/highlight.js/11.5.0/highlight.min.js\"></script>\n",
    "  <!-- marked.js -->\n",
    "  <script src=\"https://cdn.jsdelivr.net/npm/marked/marked.min.js\"></script>\n",
    "  <script>{script:s}</script>\n",
    "</body>\n",
    "</html>\n",
    "\"\"\"\n",
    "with open(\"_build/html/index_7days.html\", 'w') as fout:\n",
    "    fout.write(page)"
   ]
  },
  {
   "cell_type": "markdown",
   "id": "1cebacbc",
   "metadata": {
    "papermill": {
     "duration": 0.010176,
     "end_time": "2023-02-10T04:09:28.375744",
     "exception": false,
     "start_time": "2023-02-10T04:09:28.365568",
     "status": "completed"
    },
    "tags": []
   },
   "source": [
    "# Debugging papers"
   ]
  },
  {
   "cell_type": "raw",
   "id": "debe7cc6",
   "metadata": {
    "papermill": {
     "duration": 0.010178,
     "end_time": "2023-02-10T04:09:28.396148",
     "exception": false,
     "start_time": "2023-02-10T04:09:28.385970",
     "status": "completed"
    },
    "tags": []
   },
   "source": [
    "raise NotImplementedError(\"Manual Stop\")"
   ]
  },
  {
   "cell_type": "raw",
   "id": "eb169192",
   "metadata": {
    "papermill": {
     "duration": 0.01029,
     "end_time": "2023-02-10T04:09:28.416824",
     "exception": false,
     "start_time": "2023-02-10T04:09:28.406534",
     "status": "completed"
    },
    "scrolled": true,
    "tags": []
   },
   "source": [
    "from IPython.display import display, Markdown\n",
    "from TexSoup import TexSoup\n",
    "import re\n",
    "\n",
    "def bracket_error(source: str):\n",
    "    \"\"\" Find problematic portions of the document \"\"\"\n",
    "    \n",
    "    print(\"len(source)\", len(source))\n",
    "    \n",
    "    # Checking header\n",
    "    begin_doc = next(re.finditer(r'\\\\begin\\{document\\}', doc.source)).span()[1]\n",
    "    header = source[:begin_doc]\n",
    "    text = header + r\"\\n\\end{document}\"\n",
    "\n",
    "    try:\n",
    "        # print(\"Header check... \", end='')\n",
    "        TexSoup(text)\n",
    "        display(Markdown(f\"**[OK]** - Header\"))\n",
    "    except:\n",
    "        raise RuntimeError(\"Error in the header\")\n",
    "        \n",
    "    # Check the text per section until the end.\n",
    "    # Do not stop and try them all.\n",
    "    \n",
    "    problematic_text = []\n",
    "    \n",
    "    sections = ([(0, begin_doc, 'until first section')] + \n",
    "                [(g.span()[0], g.span()[1], g.group()) for g in re.finditer(r'\\\\section\\{.*\\}', source)] +\n",
    "                [(g.span()[0], g.span()[1], g.group()) for g in re.finditer(r'\\\\begin\\{appendix\\}', source)]\n",
    "               )\n",
    "    sections.append([len(source), len(source), 'end'])\n",
    "    \n",
    "    sections = sorted(sections, key=lambda x: x[0])\n",
    "    \n",
    "    prev_pos, prev_name = (0, 'header')\n",
    "    parsed = []\n",
    "    \n",
    "    for span, span_end, name in sections:\n",
    "\n",
    "        if span - prev_pos <= 0:\n",
    "            continue\n",
    "            \n",
    "\n",
    "        text = source[prev_pos:span]\n",
    "        if prev_pos > begin_doc:\n",
    "            text = r\"\\n\\begin{document}\" + text + r\"\\n\\end{document}\"\n",
    "        else:\n",
    "            text = text + r\"\\n\\end{document}\"\n",
    "        try:\n",
    "            #print(f\"{prev_pos}:{prev_name}-->{span}:{name} check... \", end='')\n",
    "            parsed.append(TexSoup(text, tolerance=1))  # allow not ending env\n",
    "            display(Markdown(f\"**[OK]** - *{prev_pos}*:{prev_name} &rarr; *{span}*:{name}\"))\n",
    "            # print(\"ok\")\n",
    "\n",
    "            prev_pos = span\n",
    "            prev_name = name\n",
    "        except:\n",
    "            # print(f\"error between {prev_pos} and {span}\")\n",
    "            display(Markdown(f\"**[ERR]** *{prev_pos}*:{prev_name} &rarr; *{span}*:{name}\"))\n",
    "            problematic_text.append((prev_pos, source[prev_pos:span]))\n",
    "            prev_pos = span\n",
    "            prev_name = name\n",
    "            # raise\n",
    "    return problematic_text, parsed\n",
    "\n",
    "\n",
    "def check_environment(text, offset=0):\n",
    "    \"\"\" Check environment \"\"\"\n",
    "    env = re.compile(r\"\\\\begin\\{(?P<env>.*)\\}(.*)\\\\end\\{(?P=env)\\}\", re.DOTALL)\n",
    "\n",
    "    for match in env.finditer(text):\n",
    "        beg, end = match.span()\n",
    "        beg += offset\n",
    "        end += offset\n",
    "        envname = match.groups()[0]\n",
    "        try:\n",
    "            latex.TexSoup(match.group())\n",
    "        except Exception as e:\n",
    "            display(e)\n",
    "            print(f\"Error in {envname:s} between {beg} and {end}\")\n",
    "            return match.groups()[1], beg, end"
   ]
  },
  {
   "cell_type": "raw",
   "id": "2315e835",
   "metadata": {
    "papermill": {
     "duration": 0.01012,
     "end_time": "2023-02-10T04:09:28.437147",
     "exception": false,
     "start_time": "2023-02-10T04:09:28.427027",
     "status": "completed"
    },
    "scrolled": false,
    "tags": []
   },
   "source": [
    "import importlib\n",
    "importlib.reload(latex)\n",
    "which = \"2204.03253\"\n",
    "paper_id = f'{which:s}'\n",
    "folder = f'tmp_{paper_id:s}'\n",
    "\n",
    "if not os.path.isdir(folder):\n",
    "    folder = retrieve_document_source(f\"{paper_id}\", f'tmp_{paper_id}')\n",
    "\n",
    "try:\n",
    "    doc = latex.LatexDocument(folder, validation=validation)    \n",
    "except AffiliationError as affilerror:\n",
    "    msg = f\"ArXiv:{paper_id:s} is not an MPIA paper... \" + str(affilerror)\n",
    "    print(msg)\n",
    "\n",
    "\n",
    "# Hack because sometimes author parsing does not work well\n",
    "if (len(doc.authors) != len(paper['authors'])):\n",
    "    doc._authors = paper['authors']\n",
    "if (doc.abstract) in (None, ''):\n",
    "    doc._abstract = paper['abstract']\n",
    "\n",
    "doc.comment = get_markdown_badge(paper_id) + \" _\" + paper['comments'] + \"_\"\n",
    "doc.highlight_authors_in_list(hl_list)\n",
    "\n",
    "full_md = doc.generate_markdown_text()"
   ]
  },
  {
   "cell_type": "raw",
   "id": "dd3781db",
   "metadata": {
    "papermill": {
     "duration": 0.010269,
     "end_time": "2023-02-10T04:09:28.457511",
     "exception": false,
     "start_time": "2023-02-10T04:09:28.447242",
     "status": "completed"
    },
    "scrolled": false,
    "tags": []
   },
   "source": [
    "doc"
   ]
  },
  {
   "cell_type": "raw",
   "id": "c6eed834",
   "metadata": {
    "papermill": {
     "duration": 0.010337,
     "end_time": "2023-02-10T04:09:28.478254",
     "exception": false,
     "start_time": "2023-02-10T04:09:28.467917",
     "status": "completed"
    },
    "tags": []
   },
   "source": [
    "# [check_environment(k) for k in bracket_error(doc.source)]\n",
    "_, _, a = latex.get_content_per_section(doc.source, verbose=True)\n",
    "if not a:\n",
    "    print(\"no issues per section\")\n",
    "for ak in a:\n",
    "    r = check_environment(ak[1], offset=ak[0])\n",
    "    print(r[1], r[2])\n",
    "    print(r[0])"
   ]
  },
  {
   "cell_type": "code",
   "execution_count": null,
   "id": "71ce768a",
   "metadata": {
    "papermill": {
     "duration": 0.010344,
     "end_time": "2023-02-10T04:09:28.498949",
     "exception": false,
     "start_time": "2023-02-10T04:09:28.488605",
     "status": "completed"
    },
    "tags": []
   },
   "outputs": [],
   "source": []
  }
 ],
 "metadata": {
  "kernelspec": {
   "display_name": "Python 3",
   "language": "python",
   "name": "python3"
  },
  "language_info": {
   "codemirror_mode": {
    "name": "ipython",
    "version": 3
   },
   "file_extension": ".py",
   "mimetype": "text/x-python",
   "name": "python",
   "nbconvert_exporter": "python",
   "pygments_lexer": "ipython3",
   "version": "3.9.16"
  },
  "papermill": {
   "default_parameters": {},
   "duration": 99.093883,
   "end_time": "2023-02-10T04:09:28.829716",
   "environment_variables": {},
   "exception": null,
   "input_path": "MPIA daily digest.ipynb",
   "output_path": "log.ipynb",
   "parameters": {},
   "start_time": "2023-02-10T04:07:49.735833",
   "version": "2.4.0"
  },
  "vscode": {
   "interpreter": {
    "hash": "aee8b7b246df8f9039afb4144a1f6fd8d2ca17a180786b69acc140d282b71a49"
   }
  },
  "widgets": {
   "application/vnd.jupyter.widget-state+json": {
    "state": {
     "00711e3a9daa4688ba87635d2f8b435d": {
      "model_module": "@jupyter-widgets/controls",
      "model_module_version": "2.0.0",
      "model_name": "HTMLModel",
      "state": {
       "_dom_classes": [],
       "_model_module": "@jupyter-widgets/controls",
       "_model_module_version": "2.0.0",
       "_model_name": "HTMLModel",
       "_view_count": null,
       "_view_module": "@jupyter-widgets/controls",
       "_view_module_version": "2.0.0",
       "_view_name": "HTMLView",
       "description": "",
       "description_allow_html": false,
       "layout": "IPY_MODEL_8e0971981c834655baff820c8959372c",
       "placeholder": "​",
       "style": "IPY_MODEL_1dd3a22573d1420f820f6758c33035b6",
       "tabbable": null,
       "tooltip": null,
       "value": "100%"
      }
     },
     "1dd3a22573d1420f820f6758c33035b6": {
      "model_module": "@jupyter-widgets/controls",
      "model_module_version": "2.0.0",
      "model_name": "HTMLStyleModel",
      "state": {
       "_model_module": "@jupyter-widgets/controls",
       "_model_module_version": "2.0.0",
       "_model_name": "HTMLStyleModel",
       "_view_count": null,
       "_view_module": "@jupyter-widgets/base",
       "_view_module_version": "2.0.0",
       "_view_name": "StyleView",
       "background": null,
       "description_width": "",
       "font_size": null,
       "text_color": null
      }
     },
     "6861cab0b5de49e5b1fc09ff904e4b7c": {
      "model_module": "@jupyter-widgets/base",
      "model_module_version": "2.0.0",
      "model_name": "LayoutModel",
      "state": {
       "_model_module": "@jupyter-widgets/base",
       "_model_module_version": "2.0.0",
       "_model_name": "LayoutModel",
       "_view_count": null,
       "_view_module": "@jupyter-widgets/base",
       "_view_module_version": "2.0.0",
       "_view_name": "LayoutView",
       "align_content": null,
       "align_items": null,
       "align_self": null,
       "border_bottom": null,
       "border_left": null,
       "border_right": null,
       "border_top": null,
       "bottom": null,
       "display": null,
       "flex": null,
       "flex_flow": null,
       "grid_area": null,
       "grid_auto_columns": null,
       "grid_auto_flow": null,
       "grid_auto_rows": null,
       "grid_column": null,
       "grid_gap": null,
       "grid_row": null,
       "grid_template_areas": null,
       "grid_template_columns": null,
       "grid_template_rows": null,
       "height": null,
       "justify_content": null,
       "justify_items": null,
       "left": null,
       "margin": null,
       "max_height": null,
       "max_width": null,
       "min_height": null,
       "min_width": null,
       "object_fit": null,
       "object_position": null,
       "order": null,
       "overflow": null,
       "padding": null,
       "right": null,
       "top": null,
       "visibility": null,
       "width": null
      }
     },
     "71f7c4dce1ad48dfbc5865ec25230239": {
      "model_module": "@jupyter-widgets/controls",
      "model_module_version": "2.0.0",
      "model_name": "HTMLModel",
      "state": {
       "_dom_classes": [],
       "_model_module": "@jupyter-widgets/controls",
       "_model_module_version": "2.0.0",
       "_model_name": "HTMLModel",
       "_view_count": null,
       "_view_module": "@jupyter-widgets/controls",
       "_view_module_version": "2.0.0",
       "_view_name": "HTMLView",
       "description": "",
       "description_allow_html": false,
       "layout": "IPY_MODEL_b2940556646247c8abb28e560e3d4ba1",
       "placeholder": "​",
       "style": "IPY_MODEL_c7075e069a9c4241bcdb3d82732f5077",
       "tabbable": null,
       "tooltip": null,
       "value": " 21/21 [01:08&lt;00:00,  2.47s/it]"
      }
     },
     "8e0971981c834655baff820c8959372c": {
      "model_module": "@jupyter-widgets/base",
      "model_module_version": "2.0.0",
      "model_name": "LayoutModel",
      "state": {
       "_model_module": "@jupyter-widgets/base",
       "_model_module_version": "2.0.0",
       "_model_name": "LayoutModel",
       "_view_count": null,
       "_view_module": "@jupyter-widgets/base",
       "_view_module_version": "2.0.0",
       "_view_name": "LayoutView",
       "align_content": null,
       "align_items": null,
       "align_self": null,
       "border_bottom": null,
       "border_left": null,
       "border_right": null,
       "border_top": null,
       "bottom": null,
       "display": null,
       "flex": null,
       "flex_flow": null,
       "grid_area": null,
       "grid_auto_columns": null,
       "grid_auto_flow": null,
       "grid_auto_rows": null,
       "grid_column": null,
       "grid_gap": null,
       "grid_row": null,
       "grid_template_areas": null,
       "grid_template_columns": null,
       "grid_template_rows": null,
       "height": null,
       "justify_content": null,
       "justify_items": null,
       "left": null,
       "margin": null,
       "max_height": null,
       "max_width": null,
       "min_height": null,
       "min_width": null,
       "object_fit": null,
       "object_position": null,
       "order": null,
       "overflow": null,
       "padding": null,
       "right": null,
       "top": null,
       "visibility": null,
       "width": null
      }
     },
     "98c1148351fb4585821490366206acfa": {
      "model_module": "@jupyter-widgets/base",
      "model_module_version": "2.0.0",
      "model_name": "LayoutModel",
      "state": {
       "_model_module": "@jupyter-widgets/base",
       "_model_module_version": "2.0.0",
       "_model_name": "LayoutModel",
       "_view_count": null,
       "_view_module": "@jupyter-widgets/base",
       "_view_module_version": "2.0.0",
       "_view_name": "LayoutView",
       "align_content": null,
       "align_items": null,
       "align_self": null,
       "border_bottom": null,
       "border_left": null,
       "border_right": null,
       "border_top": null,
       "bottom": null,
       "display": null,
       "flex": null,
       "flex_flow": null,
       "grid_area": null,
       "grid_auto_columns": null,
       "grid_auto_flow": null,
       "grid_auto_rows": null,
       "grid_column": null,
       "grid_gap": null,
       "grid_row": null,
       "grid_template_areas": null,
       "grid_template_columns": null,
       "grid_template_rows": null,
       "height": null,
       "justify_content": null,
       "justify_items": null,
       "left": null,
       "margin": null,
       "max_height": null,
       "max_width": null,
       "min_height": null,
       "min_width": null,
       "object_fit": null,
       "object_position": null,
       "order": null,
       "overflow": null,
       "padding": null,
       "right": null,
       "top": null,
       "visibility": null,
       "width": null
      }
     },
     "b2940556646247c8abb28e560e3d4ba1": {
      "model_module": "@jupyter-widgets/base",
      "model_module_version": "2.0.0",
      "model_name": "LayoutModel",
      "state": {
       "_model_module": "@jupyter-widgets/base",
       "_model_module_version": "2.0.0",
       "_model_name": "LayoutModel",
       "_view_count": null,
       "_view_module": "@jupyter-widgets/base",
       "_view_module_version": "2.0.0",
       "_view_name": "LayoutView",
       "align_content": null,
       "align_items": null,
       "align_self": null,
       "border_bottom": null,
       "border_left": null,
       "border_right": null,
       "border_top": null,
       "bottom": null,
       "display": null,
       "flex": null,
       "flex_flow": null,
       "grid_area": null,
       "grid_auto_columns": null,
       "grid_auto_flow": null,
       "grid_auto_rows": null,
       "grid_column": null,
       "grid_gap": null,
       "grid_row": null,
       "grid_template_areas": null,
       "grid_template_columns": null,
       "grid_template_rows": null,
       "height": null,
       "justify_content": null,
       "justify_items": null,
       "left": null,
       "margin": null,
       "max_height": null,
       "max_width": null,
       "min_height": null,
       "min_width": null,
       "object_fit": null,
       "object_position": null,
       "order": null,
       "overflow": null,
       "padding": null,
       "right": null,
       "top": null,
       "visibility": null,
       "width": null
      }
     },
     "c7075e069a9c4241bcdb3d82732f5077": {
      "model_module": "@jupyter-widgets/controls",
      "model_module_version": "2.0.0",
      "model_name": "HTMLStyleModel",
      "state": {
       "_model_module": "@jupyter-widgets/controls",
       "_model_module_version": "2.0.0",
       "_model_name": "HTMLStyleModel",
       "_view_count": null,
       "_view_module": "@jupyter-widgets/base",
       "_view_module_version": "2.0.0",
       "_view_name": "StyleView",
       "background": null,
       "description_width": "",
       "font_size": null,
       "text_color": null
      }
     },
     "d91a2c6299fd4b2c8337313d21678770": {
      "model_module": "@jupyter-widgets/controls",
      "model_module_version": "2.0.0",
      "model_name": "ProgressStyleModel",
      "state": {
       "_model_module": "@jupyter-widgets/controls",
       "_model_module_version": "2.0.0",
       "_model_name": "ProgressStyleModel",
       "_view_count": null,
       "_view_module": "@jupyter-widgets/base",
       "_view_module_version": "2.0.0",
       "_view_name": "StyleView",
       "bar_color": null,
       "description_width": ""
      }
     },
     "d9bf3576f51a4071bf2691f21bbd45ef": {
      "model_module": "@jupyter-widgets/controls",
      "model_module_version": "2.0.0",
      "model_name": "FloatProgressModel",
      "state": {
       "_dom_classes": [],
       "_model_module": "@jupyter-widgets/controls",
       "_model_module_version": "2.0.0",
       "_model_name": "FloatProgressModel",
       "_view_count": null,
       "_view_module": "@jupyter-widgets/controls",
       "_view_module_version": "2.0.0",
       "_view_name": "ProgressView",
       "bar_style": "success",
       "description": "",
       "description_allow_html": false,
       "layout": "IPY_MODEL_6861cab0b5de49e5b1fc09ff904e4b7c",
       "max": 21.0,
       "min": 0.0,
       "orientation": "horizontal",
       "style": "IPY_MODEL_d91a2c6299fd4b2c8337313d21678770",
       "tabbable": null,
       "tooltip": null,
       "value": 21.0
      }
     },
     "e3e361239b994cad9173503592bc0791": {
      "model_module": "@jupyter-widgets/controls",
      "model_module_version": "2.0.0",
      "model_name": "HBoxModel",
      "state": {
       "_dom_classes": [],
       "_model_module": "@jupyter-widgets/controls",
       "_model_module_version": "2.0.0",
       "_model_name": "HBoxModel",
       "_view_count": null,
       "_view_module": "@jupyter-widgets/controls",
       "_view_module_version": "2.0.0",
       "_view_name": "HBoxView",
       "box_style": "",
       "children": [
        "IPY_MODEL_00711e3a9daa4688ba87635d2f8b435d",
        "IPY_MODEL_d9bf3576f51a4071bf2691f21bbd45ef",
        "IPY_MODEL_71f7c4dce1ad48dfbc5865ec25230239"
       ],
       "layout": "IPY_MODEL_98c1148351fb4585821490366206acfa",
       "tabbable": null,
       "tooltip": null
      }
     }
    },
    "version_major": 2,
    "version_minor": 0
   }
  }
 },
 "nbformat": 4,
 "nbformat_minor": 5
}