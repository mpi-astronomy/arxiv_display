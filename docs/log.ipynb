{
 "cells": [
  {
   "cell_type": "markdown",
   "id": "92bcb855",
   "metadata": {
    "papermill": {
     "duration": 0.003849,
     "end_time": "2024-12-17T04:11:35.165707",
     "exception": false,
     "start_time": "2024-12-17T04:11:35.161858",
     "status": "completed"
    },
    "tags": []
   },
   "source": [
    "# MPIA Arxiv on Deck 2\n",
    "\n",
    "Contains the steps to produce the paper extractions."
   ]
  },
  {
   "cell_type": "code",
   "execution_count": 1,
   "id": "3a0d6e11",
   "metadata": {
    "execution": {
     "iopub.execute_input": "2024-12-17T04:11:35.173575Z",
     "iopub.status.busy": "2024-12-17T04:11:35.172889Z",
     "iopub.status.idle": "2024-12-17T04:11:35.678466Z",
     "shell.execute_reply": "2024-12-17T04:11:35.677771Z"
    },
    "papermill": {
     "duration": 0.510898,
     "end_time": "2024-12-17T04:11:35.679839",
     "exception": false,
     "start_time": "2024-12-17T04:11:35.168941",
     "status": "completed"
    },
    "tags": []
   },
   "outputs": [],
   "source": [
    "# Imports\n",
    "import os\n",
    "from IPython.display import Markdown, display\n",
    "from tqdm.notebook import tqdm\n",
    "import warnings\n",
    "from PIL import Image \n",
    "import re\n",
    "\n",
    "# requires arxiv_on_deck_2\n",
    "\n",
    "from arxiv_on_deck_2.arxiv2 import (get_new_papers, \n",
    "                                    get_paper_from_identifier,\n",
    "                                    retrieve_document_source, \n",
    "                                    get_markdown_badge)\n",
    "from arxiv_on_deck_2 import (latex,\n",
    "                             latex_bib,\n",
    "                             mpia,\n",
    "                             highlight_authors_in_list)\n",
    "\n",
    "# Sometimes images are really big\n",
    "Image.MAX_IMAGE_PIXELS = 1000000000 "
   ]
  },
  {
   "cell_type": "code",
   "execution_count": 2,
   "id": "22aa9d44",
   "metadata": {
    "execution": {
     "iopub.execute_input": "2024-12-17T04:11:35.687366Z",
     "iopub.status.busy": "2024-12-17T04:11:35.686822Z",
     "iopub.status.idle": "2024-12-17T04:11:35.694872Z",
     "shell.execute_reply": "2024-12-17T04:11:35.694312Z"
    },
    "papermill": {
     "duration": 0.012722,
     "end_time": "2024-12-17T04:11:35.695833",
     "exception": false,
     "start_time": "2024-12-17T04:11:35.683111",
     "status": "completed"
    },
    "tags": []
   },
   "outputs": [],
   "source": [
    "# Some useful definitions.\n",
    "\n",
    "class AffiliationWarning(UserWarning):\n",
    "    pass\n",
    "\n",
    "class AffiliationError(RuntimeError):\n",
    "    pass\n",
    "\n",
    "def validation(source: str):\n",
    "    \"\"\"Raises error paper during parsing of source file\n",
    "    \n",
    "    Allows checks before parsing TeX code.\n",
    "    \n",
    "    Raises AffiliationWarning\n",
    "    \"\"\"\n",
    "    check = mpia.affiliation_verifications(source, verbose=True)\n",
    "    if check is not True:\n",
    "        raise AffiliationError(\"mpia.affiliation_verifications: \" + check)\n",
    "\n",
    "        \n",
    "warnings.simplefilter('always', AffiliationWarning)\n",
    "\n",
    "\n",
    "def get_markdown_qrcode(paper_id: str):\n",
    "    \"\"\" Generate a qrcode to the arxiv page using qrserver.com\n",
    "    \n",
    "    :param paper: Arxiv paper\n",
    "    :returns: markdown text\n",
    "    \"\"\"\n",
    "    url = r\"https://api.qrserver.com/v1/create-qr-code/?size=100x100&data=\"\n",
    "    txt = f\"\"\"<img src={url}\"https://arxiv.org/abs/{paper_id}\">\"\"\"\n",
    "    txt = '<div id=\"qrcode\">' + txt + '</div>'\n",
    "    return txt\n",
    "\n",
    "\n",
    "def clean_non_western_encoded_characters_commands(text: str) -> str:\n",
    "    \"\"\" Remove non-western encoded characters from a string\n",
    "    List may need to grow.\n",
    "    \n",
    "    :param text: the text to clean\n",
    "    :return: the cleaned text\n",
    "    \"\"\"\n",
    "    text = re.sub(r\"(\\\\begin{CJK}{UTF8}{gbsn})(.*?)(\\\\end{CJK})\", r\"\\2\", text)\n",
    "    return text\n",
    "\n",
    "\n",
    "def get_initials(name: str) -> str:\n",
    "    \"\"\" Get the short name, e.g., A.-B. FamName\n",
    "    :param name: full name\n",
    "    :returns: initials\n",
    "    \"\"\"\n",
    "    initials = []\n",
    "    # account for non western names often in ()\n",
    "    if '(' in name:\n",
    "        name = clean_non_western_encoded_characters_commands(name)\n",
    "        suffix = re.findall(r\"\\((.*?)\\)\", name)[0]\n",
    "        name = name.replace(f\"({suffix})\", '')\n",
    "    else:\n",
    "        suffix = ''\n",
    "    split = name.split()\n",
    "    for token in split[:-1]:\n",
    "        if '-' in token:\n",
    "            current = '-'.join([k[0] + '.' for k in token.split('-')])\n",
    "        else:\n",
    "            current = token[0] + '.'\n",
    "        initials.append(current)\n",
    "    initials.append(split[-1].strip())\n",
    "    if suffix:\n",
    "        initials.append(f\"({suffix})\")\n",
    "    return ' '.join(initials)"
   ]
  },
  {
   "cell_type": "markdown",
   "id": "14bd6310",
   "metadata": {
    "papermill": {
     "duration": 0.003018,
     "end_time": "2024-12-17T04:11:35.701941",
     "exception": false,
     "start_time": "2024-12-17T04:11:35.698923",
     "status": "completed"
    },
    "tags": []
   },
   "source": [
    "## get list of arxiv paper candidates\n",
    "\n",
    "We use the MPIA mitarbeiter list webpage from mpia.de to get author names\n",
    "We then get all new papers from Arxiv and match authors"
   ]
  },
  {
   "cell_type": "code",
   "execution_count": 3,
   "id": "7ea813a8",
   "metadata": {
    "execution": {
     "iopub.execute_input": "2024-12-17T04:11:35.709303Z",
     "iopub.status.busy": "2024-12-17T04:11:35.708705Z",
     "iopub.status.idle": "2024-12-17T04:11:53.809968Z",
     "shell.execute_reply": "2024-12-17T04:11:53.809280Z"
    },
    "papermill": {
     "duration": 18.106077,
     "end_time": "2024-12-17T04:11:53.811242",
     "exception": false,
     "start_time": "2024-12-17T04:11:35.705165",
     "status": "completed"
    },
    "tags": []
   },
   "outputs": [],
   "source": [
    "# deal with the author list and edge cases of people that cannot be consistent on their name  \n",
    "\n",
    "def filter_non_scientists(name: str) -> bool:\n",
    "    \"\"\" Loose filter on expected authorships\n",
    "\n",
    "    removing IT, administration, technical staff\n",
    "    :param name: name\n",
    "    :returns: False if name is not a scientist\n",
    "    \"\"\"\n",
    "    remove_list = ['Licht', 'Binroth', 'Witzel', 'Jordan',\n",
    "                   'Zähringer', 'Scheerer', 'Hoffmann', 'Düe',\n",
    "                   'Hellmich', 'Enkler-Scharpegge', 'Witte-Nguy',\n",
    "                   'Dehen', 'Beckmann', 'Jager', 'Jäger'\n",
    "                  ]\n",
    "\n",
    "    for k in remove_list:\n",
    "        if k in name:\n",
    "            return False\n",
    "    return True\n",
    "\n",
    "def add_author_to_list(author_list: list) -> list:\n",
    "    \"\"\" Add author to list if not already in list\n",
    "    \n",
    "    :param author: author name\n",
    "    :param author_list: list of authors\n",
    "    :returns: updated list of authors\n",
    "    \"\"\"\n",
    "    add_list = ['T. Henning']\n",
    "\n",
    "    for author in add_list:\n",
    "        if author not in author_list:\n",
    "            author_list.append(author)\n",
    "    return author_list\n",
    "\n",
    "# get list from MPIA website\n",
    "# filter for non-scientists (mpia.get_mpia_mitarbeiter_list() does some filtering)\n",
    "mpia_authors = [k[1] for k in mpia.get_mpia_mitarbeiter_list() if filter_non_scientists(k[1])]\n",
    "# add some missing author because of inconsistencies in their MPIA name and author name on papers\n",
    "mpia_authors = add_author_to_list(mpia_authors)"
   ]
  },
  {
   "cell_type": "code",
   "execution_count": 4,
   "id": "2645e73a",
   "metadata": {
    "execution": {
     "iopub.execute_input": "2024-12-17T04:11:53.818762Z",
     "iopub.status.busy": "2024-12-17T04:11:53.818404Z",
     "iopub.status.idle": "2024-12-17T04:11:54.714954Z",
     "shell.execute_reply": "2024-12-17T04:11:54.714347Z"
    },
    "papermill": {
     "duration": 0.901404,
     "end_time": "2024-12-17T04:11:54.716027",
     "exception": false,
     "start_time": "2024-12-17T04:11:53.814623",
     "status": "completed"
    },
    "tags": []
   },
   "outputs": [
    {
     "name": "stdout",
     "output_type": "stream",
     "text": [
      "E. Schinnerer  ->  E. Schinnerer  |  ['E. Schinnerer']\n",
      "K. Doi  ->  K. Doi  |  ['K. Doi']\n"
     ]
    },
    {
     "name": "stdout",
     "output_type": "stream",
     "text": [
      "J. Liu  ->  J. Liu  |  ['J. Liu']\n",
      "J. Shi  ->  J. Shi  |  ['J. Shi']\n",
      "J. Bouwman  ->  J. Bouwman  |  ['J. Bouwman']\n",
      "T. Henning  ->  T. Henning  |  ['T. Henning']\n",
      "O. Krause  ->  O. Krause  |  ['O. Krause']\n",
      "S. Scheithauer  ->  S. Scheithauer  |  ['S. Scheithauer']\n",
      "K. Jahnke  ->  K. Jahnke  |  ['K. Jahnke']\n",
      "Arxiv has 87 new papers today\n",
      "          6 with possible author matches\n"
     ]
    }
   ],
   "source": [
    "new_papers = get_new_papers()\n",
    "# add manual references\n",
    "add_paper_refs = []\n",
    "new_papers.extend([get_paper_from_identifier(k) for k in add_paper_refs])\n",
    "\n",
    "def robust_call(fn, value, *args, **kwargs):\n",
    "    try:\n",
    "        return fn(value, *args, **kwargs)\n",
    "    except Exception:\n",
    "        return value\n",
    "\n",
    "candidates = []\n",
    "for paperk in new_papers:\n",
    "    # Check author list with their initials\n",
    "    normed_author_list = [robust_call(mpia.get_initials, k) for k in paperk['authors']]\n",
    "    hl_authors = highlight_authors_in_list(normed_author_list, mpia_authors, verbose=True)\n",
    "    matches = [(hl, orig) for hl, orig in zip(hl_authors, paperk['authors']) if 'mark' in hl]\n",
    "    paperk['authors'] = hl_authors\n",
    "    if matches:\n",
    "        # only select paper if an author matched our list\n",
    "        candidates.append(paperk)\n",
    "print(\"\"\"Arxiv has {0:,d} new papers today\"\"\".format(len(new_papers)))        \n",
    "print(\"\"\"          {0:,d} with possible author matches\"\"\".format(len(candidates)))"
   ]
  },
  {
   "cell_type": "markdown",
   "id": "3543b34a",
   "metadata": {
    "papermill": {
     "duration": 0.003258,
     "end_time": "2024-12-17T04:11:54.722844",
     "exception": false,
     "start_time": "2024-12-17T04:11:54.719586",
     "status": "completed"
    },
    "tags": []
   },
   "source": [
    "# Parse sources and generate relevant outputs\n",
    "\n",
    "From the candidates, we do the following steps:\n",
    "* get their tarball from ArXiv (and extract data)\n",
    "* find the main .tex file: find one with \\documentclass{...} (sometimes it's non trivial)\n",
    "* Check affiliations with :func:`validation`, which uses :func:`mpia.affiliation_verifications`\n",
    "* If passing the affiliations: we parse the .tex source\n",
    "   * inject sub-documents into the main (flatten the main document)\n",
    "   * parse structure, extract information (title, abstract, authors, figures...)\n",
    "   * handles `\\graphicspath` if provided\n",
    "* Generate the .md document."
   ]
  },
  {
   "cell_type": "code",
   "execution_count": 5,
   "id": "9576b79e",
   "metadata": {
    "execution": {
     "iopub.execute_input": "2024-12-17T04:11:54.730243Z",
     "iopub.status.busy": "2024-12-17T04:11:54.729818Z",
     "iopub.status.idle": "2024-12-17T04:14:06.699774Z",
     "shell.execute_reply": "2024-12-17T04:14:06.699074Z"
    },
    "papermill": {
     "duration": 131.978938,
     "end_time": "2024-12-17T04:14:06.704966",
     "exception": false,
     "start_time": "2024-12-17T04:11:54.726028",
     "status": "completed"
    },
    "scrolled": false,
    "tags": []
   },
   "outputs": [
    {
     "data": {
      "application/vnd.jupyter.widget-view+json": {
       "model_id": "6dddcd19562f49bda13f2e3f0a12d57e",
       "version_major": 2,
       "version_minor": 0
      },
      "text/plain": [
       "  0%|          | 0/6 [00:00<?, ?it/s]"
      ]
     },
     "metadata": {},
     "output_type": "display_data"
    },
    {
     "name": "stdout",
     "output_type": "stream",
     "text": [
      "Retrieving document from  https://arxiv.org/e-print/2412.10506\n",
      "extracting tarball to tmp_2412.10506... done.\n"
     ]
    },
    {
     "name": "stdout",
     "output_type": "stream",
     "text": [
      "Found 84 bibliographic references in tmp_2412.10506/aanda_arxiv.bbl.\n",
      "Retrieving document from  https://arxiv.org/e-print/2412.10731\n"
     ]
    },
    {
     "name": "stdout",
     "output_type": "stream",
     "text": [
      "extracting tarball to tmp_2412.10731..."
     ]
    },
    {
     "name": "stdout",
     "output_type": "stream",
     "text": [
      " done.\n",
      "  0: tmp_2412.10731/sample631.tex, 1,187 lines\n",
      "  1: tmp_2412.10731/cover_letter.tex, 24 lines\n"
     ]
    },
    {
     "name": "stderr",
     "output_type": "stream",
     "text": [
      "/opt/hostedtoolcache/Python/3.9.20/x64/lib/python3.9/site-packages/IPython/core/interactiveshell.py:3550: LatexWarning: Multiple tex files.\n",
      "\n",
      "  exec(code_obj, self.user_global_ns, self.user_ns)\n",
      "/opt/hostedtoolcache/Python/3.9.20/x64/lib/python3.9/site-packages/IPython/core/interactiveshell.py:3550: LatexWarning: Found 2 candidates with documentclass definition.\n",
      "  exec(code_obj, self.user_global_ns, self.user_ns)\n",
      "/opt/hostedtoolcache/Python/3.9.20/x64/lib/python3.9/site-packages/IPython/core/interactiveshell.py:3550: LatexWarning: Assuming tmp_2412.10731/sample631.tex as main document.\n",
      "  exec(code_obj, self.user_global_ns, self.user_ns)\n"
     ]
    },
    {
     "name": "stdout",
     "output_type": "stream",
     "text": [
      "K. Doi  ->  K. Doi  |  ['K. Doi']\n"
     ]
    },
    {
     "name": "stdout",
     "output_type": "stream",
     "text": [
      "Found 68 bibliographic references in tmp_2412.10731/sample631.bbl.\n",
      "Issues with the citations\n",
      "syntax error in line 39: '=' expected\n",
      "Retrieving document from  https://arxiv.org/e-print/2412.11460\n"
     ]
    },
    {
     "name": "stdout",
     "output_type": "stream",
     "text": [
      "extracting tarball to tmp_2412.11460... done.\n",
      "Retrieving document from  https://arxiv.org/e-print/2412.11545\n"
     ]
    },
    {
     "name": "stdout",
     "output_type": "stream",
     "text": [
      "extracting tarball to tmp_2412.11545..."
     ]
    },
    {
     "name": "stdout",
     "output_type": "stream",
     "text": [
      " done.\n",
      "Retrieving document from  https://arxiv.org/e-print/2412.11627\n"
     ]
    },
    {
     "name": "stdout",
     "output_type": "stream",
     "text": [
      "extracting tarball to tmp_2412.11627..."
     ]
    },
    {
     "name": "stdout",
     "output_type": "stream",
     "text": [
      " done.\n"
     ]
    },
    {
     "name": "stderr",
     "output_type": "stream",
     "text": [
      "/tmp/ipykernel_2742/2822249172.py:52: LatexWarning: 2412.11627 did not run properly\n",
      "Unable to locate Ghostscript on paths\n",
      "  warnings.warn(latex.LatexWarning(f\"{paper_id:s} did not run properly\\n\" +\n"
     ]
    },
    {
     "name": "stdout",
     "output_type": "stream",
     "text": [
      "Retrieving document from  https://arxiv.org/e-print/2412.11945\n"
     ]
    },
    {
     "name": "stdout",
     "output_type": "stream",
     "text": [
      "extracting tarball to tmp_2412.11945..."
     ]
    },
    {
     "name": "stdout",
     "output_type": "stream",
     "text": [
      " done.\n"
     ]
    },
    {
     "name": "stdout",
     "output_type": "stream",
     "text": [
      "Found 216 bibliographic references in tmp_2412.11945/aa.bbl.\n",
      "Issues with the citations\n",
      "syntax error in line 5: unbalanced braces\n"
     ]
    },
    {
     "name": "stderr",
     "output_type": "stream",
     "text": [
      "/opt/hostedtoolcache/Python/3.9.20/x64/lib/python3.9/site-packages/arxiv_on_deck_2/latex_bib.py:132: UserWarning: Error processing bibitem\n",
      " item = \\bibitem[{{Abazajian} {et~al.}(2016){Abazajian}, {Adshead}, {Ahmed}, {Allen},  {Alonso}, {Arnold}, {Baccigalupi}, {Bartlett}, {Battaglia}, {Benson},  {Bischoff}, {Borrill}, {Buza}, {Calabrese}, {Caldwell}, {Carlstrom}, {Chang},  {Crawford}, {Cyr-Racine}, {De Bernardis}, {de Haan}, {di Serego Alighieri},  {Dunkley}, {Dvorkin}, {Errard}, {Fabbian}, {Feeney}, {Ferraro}, {Filippini},  {Flauger}, {Fuller}, {Gluscevic}, {Green}, {Grin}, {Grohs}, {Henning},  {Hill}, {Hlozek}, {Holder}, {Holzapfel}, {Hu}, {Huffenberger}, {Keskitalo},  {Knox}, {Kosowsky}, {Kovac}, {Kovetz}, {Kuo}, {Kusaka}, {Le Jeune}, {Lee},  {Lilley}, {Loverde}, {Madhavacheril}, {Mantz}, {Marsh}, {McMahon},  {Meerburg}, {Meyers}, {Miller}, {Munoz}, {Nguyen}, {Niemack}, {Peloso},  {Peloton}, {Pogosian}, {Pryke}, {Raveri}, {Reichardt}, {Rocha}, {Rotti},  {Schaan}, {Schmittfull}, {Scott}, {Sehgal}, {Shandera}, {Sherwin}, {Smith},  {Sorbo}, {Starkman}, {Story}, {van Engelen}, {Vieira}, {Watson}, {Whitehorn},   {Kimmy Wu}}]{CMB_S4_2016ple}{Abazajian}, K.~N., {Adshead}, P., {Ahmed}, Z., {et~al.}  \\href{https://ui.adsabs.harvard.edu/abs/2016arXiv161002743A}{2016,  arXiv:1610.02743}\n",
      " regex = \n",
      "        \\\\bibitem(\\[[^\\[\\]]*?\\]){(?P<bibkey>[a-zA-Z0-9\\-\\+\\.\\S]+?)}(?P<authors>|([\\D]*?))(?P<year>[12][0-9]{3}).*?href(.*?{(?P<url>http[\\S]*)})(?P<rest>.*)\n",
      "        \n",
      "  warnings.warn(str(e))\n",
      "/opt/hostedtoolcache/Python/3.9.20/x64/lib/python3.9/site-packages/arxiv_on_deck_2/latex_bib.py:132: UserWarning: Error processing bibitem\n",
      " item = \\bibitem[{{Ach{ú}carro} {et~al.}(2022){Ach{ú}carro}, {Biagetti}, {Braglia},  {Cabass}, {Caldwell}, {Castorina}, {Chen}, {Coulton}, {Flauger}, {Fumagalli},  {Ivanov}, {Lee}, {Maleknejad}, {Meerburg}, {Moradinezhad Dizgah}, {Palma},  {Pimentel}, {Renaux-Petel}, {Wallisch}, {Wandelt}, {Witkowski},  {Kimmy  Wu}}]{achucarro_inflation_2022}{Ach{ú}carro}, A., {Biagetti}, M., {Braglia}, M., {et~al.}  \\href{https://ui.adsabs.harvard.edu/abs/2022arXiv220308128A}{2022,  arXiv:2203.08128}\n",
      " regex = \n",
      "        \\\\bibitem(\\[[^\\[\\]]*?\\]){(?P<bibkey>[a-zA-Z0-9\\-\\+\\.\\S]+?)}(?P<authors>|([\\D]*?))(?P<year>[12][0-9]{3}).*?href(.*?{(?P<url>http[\\S]*)})(?P<rest>.*)\n",
      "        \n",
      "  warnings.warn(str(e))\n",
      "/opt/hostedtoolcache/Python/3.9.20/x64/lib/python3.9/site-packages/arxiv_on_deck_2/latex_bib.py:132: UserWarning: Error processing bibitem\n",
      " item = \\bibitem[{{Addis} {et~al.}(2024){Addis}, {Guandalin},   {Clarkson}}]{2024arXiv240700168A}{Addis}, C., {Guandalin}, C.,  {Clarkson}, C.  \\href{https://ui.adsabs.harvard.edu/abs/2024arXiv240700168A}{2024,  arXiv:2407.00168}\n",
      " regex = \n",
      "        \\\\bibitem(\\[[^\\[\\]]*?\\]){(?P<bibkey>[a-zA-Z0-9\\-\\+\\.\\S]+?)}(?P<authors>|([\\D]*?))(?P<year>[12][0-9]{3}).*?href(.*?{(?P<url>http[\\S]*)})(?P<rest>.*)\n",
      "        \n",
      "  warnings.warn(str(e))\n",
      "/opt/hostedtoolcache/Python/3.9.20/x64/lib/python3.9/site-packages/arxiv_on_deck_2/latex_bib.py:132: UserWarning: Error processing bibitem\n",
      " item = \\bibitem[{{Alvarez} {et~al.}(2014){Alvarez}, {Baldauf}, {Bond}, {Dalal}, {de  Putter}, {Dor{é}}, {Green}, {Hirata}, {Huang}, {Huterer}, {Jeong},  {Johnson}, {Krause}, {Loverde}, {Meyers}, {Meerburg}, {Senatore}, {Shandera},  {Silverstein}, {Slosar}, {Smith}, {Zaldarriaga}, {Assassi}, {Braden},  {Hajian}, {Kobayashi}, {Stein},  {van Engelen}}]{alvarez_testing_2014}{Alvarez}, M., {Baldauf}, T., {Bond}, J.~R., {et~al.}  \\href{https://ui.adsabs.harvard.edu/abs/2014arXiv1412.4671A}{2014,  arXiv:1412.4671}\n",
      " regex = \n",
      "        \\\\bibitem(\\[[^\\[\\]]*?\\]){(?P<bibkey>[a-zA-Z0-9\\-\\+\\.\\S]+?)}(?P<authors>|([\\D]*?))(?P<year>[12][0-9]{3}).*?href(.*?{(?P<url>http[\\S]*)})(?P<rest>.*)\n",
      "        \n",
      "  warnings.warn(str(e))\n",
      "/opt/hostedtoolcache/Python/3.9.20/x64/lib/python3.9/site-packages/arxiv_on_deck_2/latex_bib.py:132: UserWarning: Error processing bibitem\n",
      " item = \\bibitem[{{Arkani-Hamed}  {Maldacena}(2015)}]{2015arXiv150308043A}{Arkani-Hamed}, N.  {Maldacena}, J.  \\href{https://ui.adsabs.harvard.edu/abs/2015arXiv150308043A}{2015,  arXiv:1503.08043}\n",
      " regex = \n",
      "        \\\\bibitem(\\[[^\\[\\]]*?\\]){(?P<bibkey>[a-zA-Z0-9\\-\\+\\.\\S]+?)}(?P<authors>|([\\D]*?))(?P<year>[12][0-9]{3}).*?href(.*?{(?P<url>http[\\S]*)})(?P<rest>.*)\n",
      "        \n",
      "  warnings.warn(str(e))\n",
      "/opt/hostedtoolcache/Python/3.9.20/x64/lib/python3.9/site-packages/arxiv_on_deck_2/latex_bib.py:132: UserWarning: Error processing bibitem\n",
      " item = \\bibitem[{{Babi{\\'c}} {et~al.}(2024){Babi{\\'c}}, {Schmidt},   {Tucci}}]{2024arXiv240701524B}{Babi{\\'c}}, I., {Schmidt}, F.,  {Tucci}, B.  \\href{https://ui.adsabs.harvard.edu/abs/2024arXiv240701524B}{2024,  arXiv:2407.01524}\n",
      " regex = \n",
      "        \\\\bibitem(\\[[^\\[\\]]*?\\]){(?P<bibkey>[a-zA-Z0-9\\-\\+\\.\\S]+?)}(?P<authors>|([\\D]*?))(?P<year>[12][0-9]{3}).*?href(.*?{(?P<url>http[\\S]*)})(?P<rest>.*)\n",
      "        \n",
      "  warnings.warn(str(e))\n",
      "/opt/hostedtoolcache/Python/3.9.20/x64/lib/python3.9/site-packages/arxiv_on_deck_2/latex_bib.py:132: UserWarning: Error processing bibitem\n",
      " item = \\bibitem[{{Bayer} {et~al.}(2023){Bayer}, {Seljak},   {Modi}}]{2023arXiv230709504B}{Bayer}, A.~E., {Seljak}, U.,  {Modi}, C.  \\href{https://ui.adsabs.harvard.edu/abs/2023arXiv230709504B}{2023,  arXiv:2307.09504}\n",
      " regex = \n",
      "        \\\\bibitem(\\[[^\\[\\]]*?\\]){(?P<bibkey>[a-zA-Z0-9\\-\\+\\.\\S]+?)}(?P<authors>|([\\D]*?))(?P<year>[12][0-9]{3}).*?href(.*?{(?P<url>http[\\S]*)})(?P<rest>.*)\n",
      "        \n",
      "  warnings.warn(str(e))\n",
      "/opt/hostedtoolcache/Python/3.9.20/x64/lib/python3.9/site-packages/arxiv_on_deck_2/latex_bib.py:132: UserWarning: Error processing bibitem\n",
      " item = \\bibitem[{{Betancourt}(2017)}]{betancourt_2017}{Betancourt}, M.  \\href{https://ui.adsabs.harvard.edu/abs/2017arXiv170102434B}{2017,  arXiv:1701.02434}\n",
      " regex = \n",
      "        \\\\bibitem(\\[[^\\[\\]]*?\\]){(?P<bibkey>[a-zA-Z0-9\\-\\+\\.\\S]+?)}(?P<authors>|([\\D]*?))(?P<year>[12][0-9]{3}).*?href(.*?{(?P<url>http[\\S]*)})(?P<rest>.*)\n",
      "        \n",
      "  warnings.warn(str(e))\n",
      "/opt/hostedtoolcache/Python/3.9.20/x64/lib/python3.9/site-packages/arxiv_on_deck_2/latex_bib.py:132: UserWarning: Error processing bibitem\n",
      " item = \\bibitem[{{Brown} {et~al.}(2024){Brown}, {Demina}, {Adame}, {Avila},  {Chaussidon}, {Yuan}, {Gonzalez-Perez}, {Garc{í}a-Bellido}, {Aguilar},  {Ahlen}, {Blum}, {Brooks}, {Claybaugh}, {Cole}, {de la Macorra}, {Dey},  {Doel}, {Fanning}, {Forero-Romero}, {Gazta{ñ}aga}, {Gontcho}, {Honscheid},  {Howlett}, {Juneau}, {Kehoe}, {Kisner}, {Landriau}, {Le Guillou}, {Manera},  {Miquel}, {Mueller}, {Mu{ñ}oz-Guti{è}rrez}, {Myers}, {Nie}, {Niz},  {Palanque-Delabrouille}, {Poppett}, {Rezaie}, {Rossi}, {Sanchez}, {Schlafly},  {Schlegel}, {Schubnell}, {Silber}, {Sprayberry}, {Tarl{é}},  {Vargas-Maga{ñ}a}, {Weaver}, {Zhou},  {Zou}}]{2024arXiv240318789B}{Brown}, Z., {Demina}, R., {Adame}, A.~G., {et~al.}  \\href{https://ui.adsabs.harvard.edu/abs/2024arXiv240318789B}{2024,  arXiv:2403.18789}\n",
      " regex = \n",
      "        \\\\bibitem(\\[[^\\[\\]]*?\\]){(?P<bibkey>[a-zA-Z0-9\\-\\+\\.\\S]+?)}(?P<authors>|([\\D]*?))(?P<year>[12][0-9]{3}).*?href(.*?{(?P<url>http[\\S]*)})(?P<rest>.*)\n",
      "        \n",
      "  warnings.warn(str(e))\n",
      "/opt/hostedtoolcache/Python/3.9.20/x64/lib/python3.9/site-packages/arxiv_on_deck_2/latex_bib.py:132: UserWarning: Error processing bibitem\n",
      " item = \\bibitem[{{Celoria}  {Matarrese}(2018)}]{2018arXiv181208197C}{Celoria}, M.  {Matarrese}, S.  \\href{https://ui.adsabs.harvard.edu/abs/2018arXiv181208197C}{2018,  arXiv:1812.08197}\n",
      " regex = \n",
      "        \\\\bibitem(\\[[^\\[\\]]*?\\]){(?P<bibkey>[a-zA-Z0-9\\-\\+\\.\\S]+?)}(?P<authors>|([\\D]*?))(?P<year>[12][0-9]{3}).*?href(.*?{(?P<url>http[\\S]*)})(?P<rest>.*)\n",
      "        \n",
      "  warnings.warn(str(e))\n",
      "/opt/hostedtoolcache/Python/3.9.20/x64/lib/python3.9/site-packages/arxiv_on_deck_2/latex_bib.py:132: UserWarning: Error processing bibitem\n",
      " item = \\bibitem[{{Chaussidon} {et~al.}(2024{\\natexlab{a}}){Chaussidon}, {de Mattia},  {Y{è}che}, {Aguilar}, {Ahlen}, {Brooks}, {Claybaugh}, {Cole}, {de la  Macorra}, {Doel}, {Fanning}, {Gazta{ñ}aga}, {Gontcho}, {Howlett}, {Kisner},  {Lambert}, {Le Guillou}, {Manera}, {Meisner}, {Miquel}, {Niz},  {Palanque-Delabrouille}, {Percival}, {Prada}, {Ross}, {Rossi}, {Sanchez},  {Schlegel}, {Schubnell}, {Seo}, {Sprayberry}, {Tarl{é}},  {Vargas-Maga{ñ}a}, {Weaver},  {Zou}}]{2024arXiv240600191C}{Chaussidon}, E., {de Mattia}, A., {Y{è}che}, C., {et~al.}  \\href{https://ui.adsabs.harvard.edu/abs/2024arXiv240600191C}{2024{\\natexlab{a}},  arXiv:2406.00191}\n",
      " regex = \n",
      "        \\\\bibitem(\\[[^\\[\\]]*?\\]){(?P<bibkey>[a-zA-Z0-9\\-\\+\\.\\S]+?)}(?P<authors>|([\\D]*?))(?P<year>[12][0-9]{3}).*?href(.*?{(?P<url>http[\\S]*)})(?P<rest>.*)\n",
      "        \n",
      "  warnings.warn(str(e))\n",
      "/opt/hostedtoolcache/Python/3.9.20/x64/lib/python3.9/site-packages/arxiv_on_deck_2/latex_bib.py:132: UserWarning: Error processing bibitem\n",
      " item = \\bibitem[{{Chaussidon} {et~al.}(2024{\\natexlab{b}}){Chaussidon}, {Y{è}che},  {de Mattia}, {Payerne}, {McDonald}, {Ross}, {Ahlen}, {Bianchi}, {Brooks},  {Burtin}, {Claybaugh}, {de la Macorra}, {Doel}, {Ferraro}, {Font-Ribera},  {Forero-Romero}, {Gazta{ñ}aga}, {Gil-Mar{í}n}, {Gontcho}, {Gutierrez},  {Guy}, {Honscheid}, {Howlett}, {Huterer}, {Kehoe}, {Kirkby}, {Kisner},  {Kremin}, {Le Guillou}, {Levi}, {Manera}, {Meisner}, {Miquel}, {Moustakas},  {Newman}, {Niz}, {Palanque-Delabrouille}, {Percival}, {Prada},  {P{é}rez-R{à}fols}, {Ravoux}, {Rossi}, {Sanchez}, {Schlegel},  {Schubnell}, {Seo}, {Sprayberry}, {Tarl{é}}, {Vargas-Maga{ñ}a}, {Weaver},  {Zhao},  {Zou}}]{2024arXiv241117623C}{Chaussidon}, E., {Y{è}che}, C., {de Mattia}, A., {et~al.}  \\href{https://ui.adsabs.harvard.edu/abs/2024arXiv241117623C}{2024{\\natexlab{b}},  arXiv:2411.17623}\n",
      " regex = \n",
      "        \\\\bibitem(\\[[^\\[\\]]*?\\]){(?P<bibkey>[a-zA-Z0-9\\-\\+\\.\\S]+?)}(?P<authors>|([\\D]*?))(?P<year>[12][0-9]{3}).*?href(.*?{(?P<url>http[\\S]*)})(?P<rest>.*)\n",
      "        \n",
      "  warnings.warn(str(e))\n",
      "/opt/hostedtoolcache/Python/3.9.20/x64/lib/python3.9/site-packages/arxiv_on_deck_2/latex_bib.py:132: UserWarning: Error processing bibitem\n",
      " item = \\bibitem[{Chen {et~al.}(2024)Chen, Padmanabhan,   Eisenstein}]{chen2024reconstructing}Chen, X., Padmanabhan, N.,  Eisenstein, D.~J.  \\href{https://arxiv.org/abs/2412.00968}{2024, arXiv:2412.00968}\n",
      " regex = \n",
      "        \\\\bibitem(\\[[^\\[\\]]*?\\]){(?P<bibkey>[a-zA-Z0-9\\-\\+\\.\\S]+?)}(?P<authors>|([\\D]*?))(?P<year>[12][0-9]{3}).*?href(.*?{(?P<url>http[\\S]*)})(?P<rest>.*)\n",
      "        \n",
      "  warnings.warn(str(e))\n",
      "/opt/hostedtoolcache/Python/3.9.20/x64/lib/python3.9/site-packages/arxiv_on_deck_2/latex_bib.py:132: UserWarning: Error processing bibitem\n",
      " item = \\bibitem[{{D'Amico} {et~al.}(2022){D'Amico}, {Lewandowski}, {Senatore},   {Zhang}}]{damico_limits_2022}{D'Amico}, G., {Lewandowski}, M., {Senatore}, L., {et~al.}  \\href{https://ui.adsabs.harvard.edu/abs/2022arXiv220111518D}{2022,  arXiv:2201.11518}\n",
      " regex = \n",
      "        \\\\bibitem(\\[[^\\[\\]]*?\\]){(?P<bibkey>[a-zA-Z0-9\\-\\+\\.\\S]+?)}(?P<authors>|([\\D]*?))(?P<year>[12][0-9]{3}).*?href(.*?{(?P<url>http[\\S]*)})(?P<rest>.*)\n",
      "        \n",
      "  warnings.warn(str(e))\n",
      "/opt/hostedtoolcache/Python/3.9.20/x64/lib/python3.9/site-packages/arxiv_on_deck_2/latex_bib.py:132: UserWarning: Error processing bibitem\n",
      " item = \\bibitem[{{Euclid Collaboration: Castander} {et~al.}(2024){Euclid  Collaboration: Castander}, {Fosalba}, {Stadel}, {Potter}, {Carretero},  {Tallada-Cresp{í}}, {Pozzetti}, {Bolzonella}, {Mamon},   et~al.}]{2024arXiv240513495E}{Euclid Collaboration: Castander}, F.~J., {Fosalba}, P., {Stadel}, J., {et~al.}  \\href{https://ui.adsabs.harvard.edu/abs/2024arXiv240513495E}{2024,  arXiv:2405.13495}\n",
      " regex = \n",
      "        \\\\bibitem(\\[[^\\[\\]]*?\\]){(?P<bibkey>[a-zA-Z0-9\\-\\+\\.\\S]+?)}(?P<authors>|([\\D]*?))(?P<year>[12][0-9]{3}).*?href(.*?{(?P<url>http[\\S]*)})(?P<rest>.*)\n",
      "        \n",
      "  warnings.warn(str(e))\n",
      "/opt/hostedtoolcache/Python/3.9.20/x64/lib/python3.9/site-packages/arxiv_on_deck_2/latex_bib.py:132: UserWarning: Error processing bibitem\n",
      " item = \\bibitem[{{Euclid Collaboration: Mellier} {et~al.}(2024){Euclid Collaboration:  Mellier}, {Abdurro'uf}, {Acevedo Barroso}, {Ach{ú}carro}, {Adamek}, {Adam},  {Addison}, {Aghanim}, {Aguena}, {Ajani}, {Akrami}, {Al-Bahlawan}, {Alavi},  {Albuquerque}, {Alestas}, {Alguero}, {Allaoui}, {Allen}, {Allevato},  {Alonso-Tetilla}, {Altieri}, {Alvarez-Candal}, {Amara}, {Amendola}, {Amiaux},  {Andika}, {Andreon}, {Andrews}, {Angora}, {Angulo}, {Annibali}, {Anselmi},  {Anselmi}, {Arcari}, {Archidiacono}, {Aric{ò}}, {Arnaud}, {Arnouts},  {Asgari}, {Asorey}, {Atayde}, {Atek}, {Atrio-Barandela}, {Aubert}, {Aubourg},  {Auphan}, {Auricchio}, {Aussel}, {Aussel}, {Avelino}, {Avgoustidis}, {Avila},  {Awan}, {Azzollini}, {Baccigalupi}, {Bachelet}, {Bacon}, {Baes}, {Bagley},  {Bahr-Kalus}, {Balaguera-Antolinez}, {Balbinot}, {Balcells}, {Baldi},  {Baldry}, {Balestra}, {Ballardini}, {Ballester}, {Balogh}, {Ba{ñ}ados},  {Barbier}, {Bardelli}, {Barreiro}, {Barriere}, {Barros}, {Barthelemy},  {Bartolo}, {Basset}, {Battaglia}, {Battisti}, {Baugh}, {Baumont},  {Bazzanini}, {Beaulieu}, {Beckmann}, {Belikov}, {Bel}, {Bellagamba}, {Bella},  {Bellini}, {Benabed}, {Bender}, {Benevento}, {Bennett}, {Benson},  {Bergamini}, {Bermejo-Climent}, {Bernardeau}, {Bertacca}, {Berthe},  {Berthier}, {Bethermin}, {Beutler}, {Bevillon}, {Bhargava}, {Bhatawdekar},  {Bisigello}, {Biviano}, {Blake}, {Blanchard}, {Blazek}, {Blot}, {Bosco},  {Bodendorf}, {Boenke}, {B{ö}hringer}, {Bolzonella}, {Bonchi}, {Bonici},  {Bonino}, {Bonino}, {Bonvin}, {Bon}, {Booth}, {Borgani}, {Borlaff},  {Borsato}, {Bosco}, {Bose}, {Botticella}, {Boucaud}, {Bouche}, {Boucher},  {Boutigny}, {Bouvard}, {Bouy}, {Bowler}, {Bozza}, {Bozzo}, {Branchini},  {Brau-Nogue}, {Brekke}, {Bremer}, {Brescia}, {Breton}, {Brinchmann},  {Brinckmann}, {Brockley-Blatt}, {Brodwin}, {Brouard}, {Brown}, {Bruton},  {Bucko}, {Buddelmeijer}, {Buenadicha}, {Buitrago}, {Burger}, {Burigana},  {Busillo}, {Busonero}, {Cabanac}, {Cabayol-Garcia}, {Cagliari}, {Caillat},  {Caillat}, {Calabrese}, {Calabro}, {Calderone}, {Calura}, {Camacho Quevedo},  {Camera}, {Campos}, {Canas-Herrera}, {Candini}, {Cantiello}, {Capobianco},  {Cappellaro}, {Cappelluti}, {Cappi}, {Caputi}, {Cara}, {Carbone}, {Cardone},  {Carella}, {Carlberg}, {Carle}, {Carminati}, {Caro}, {Carrasco}, {Carretero},  {Carrilho}, {Carron Duque}, {Carry}, {Carvalho}, {Carvalho}, {Casas},  {Casas}, {Casenove}, {Casey}, {Cassata}, {Castander}, {Castelao},  {Castellano}, {Castiblanco}, {Castignani}, {Castro}, {Cavet}, {Cavuoti},  {Chabaud}, {Chambers}, {Charles}, {Charlot}, {Chartab}, {Chary}, {Chaumeil},  {Cho}, {Chon}, {Ciancetta}, {Ciliegi}, {Cimatti}, {Cimino}, {Cioni},  {Claydon}, {Cleland}, {Cl{é}ment}, {Clements}, {Clerc}, {Clesse}, {Codis},  {Cogato}, {Colbert}, {Cole}, {Coles}, {Collett}, {Collins}, {Colodro-Conde},  {Colombo}, {Combes}, {Conforti}, {Congedo}, {Conseil}, {Conselice},  {Contarini}, {Contini}, {Conversi}, {Cooray}, {Copin}, {Corasaniti},  {Corcho-Caballero}, {Corcione}, {Cordes}, {Corpace}, {Correnti}, {Costanzi},  {Costille}, {Courbin}, {Courcoult Mifsud}, {Courtois}, {Cousinou}, {Covone},  {Cowell}, {Cragg}, {Cresci}, {Cristiani}, {Crocce}, {Cropper}, {E Crouzet},  {Csizi}, {Cuby}, {Cucchetti}, {Cucciati}, {Cuillandre}, {Cunha}, {Cuozzo},  {Daddi}, {D'Addona}, {Dafonte}, {Dagoneau}, {Dalessandro}, {Dalton},  {D'Amico}, {Dannerbauer}, {Danto}, {Das}, {Da Silva}, {da Silva}, {Daste},  {Davies}, {Davini}, {de Boer}, {Decarli}, {De Caro}, {Degaudenzi}, {Degni},  {de Jong}, {de la Bella}, {de la Torre}, {Delhaise}, {Delley}, {Delucchi},  {De Lucia}, {Denniston}, {De Paolis}, {De Petris}, {Derosa}, {Desai},  {Desjacques}, {Despali}, {Desprez}, {De Vicente-Albendea}, {Deville}, {Dias},  {D{í}az-S{á}nchez}, {Diaz}, {Di Domizio}, {Diego}, {Di Ferdinando}, {Di  Giorgio}, {Dimauro}, {Dinis}, {Dolag}, {Dolding}, {Dole}, {Dom{í}nguez  S{á}nchez}, {Dor{é}}, {Dournac}, {Douspis}, {Dreihahn}, {Droge}, {Dryer},  {Dubath}, {Duc}, {Ducret}, {Duffy}, {Dufresne}, {Duncan}, {Dupac}, {Duret},  {Durrer}, {Durret}, {Dusini}, {Ealet}, {Eggemeier}, {Eisenhardt}, {Elbaz},  {Elkhashab}, {Ellien}, {Endicott}, {Enia}, {Erben}, {Escartin Vigo},  {Escoffier}, {Escudero Sanz}, {Essert}, {Ettori}, {Ezziati}, {Fabbian},  {Fabricius}, {Fang}, {Farina}, {Farina}, {Farinelli}, {Farrens}, {Faustini},  {Feltre}, {Ferguson}, {Ferrando}, {Ferrari}, {Ferr{é}-Mateu}, {Ferreira},  {Ferreras}, {Ferrero}, {Ferriol}, {Ferruit}, {Filleul}, {Finelli},  {Finkelstein}, {Finoguenov}, {Fiorini}, {Flentge}, {Focardi}, {Fonseca},  {Fontana}, {Fontanot}, {Fornari}, {Fosalba}, {Fossati}, {Fotopoulou},  {Fouchez}, {Fourmanoit}, {Frailis}, {Fraix-Burnet}, {Franceschi}, {Franco},  {Franzetti}, {Freihoefer}, {Frittoli}, {Frugier}, {Frusciante}, {Fumagalli},  {Fumagalli}, {Fumana}, {Fu}, {Gabarra}, {Galeotta}, {Galluccio}, {Ganga},  {Gao}, {Garc{í}a-Bellido}, {Garcia}, {Gardner}, {Garilli},  {Gaspar-Venancio}, {Gasparetto}, {Gautard}, {Gavazzi}, {Gaztanaga},  {Genolet}, {Genova Santos}, {Gentile}, {George}, {Ghaffari}, {Giacomini},  {Gianotti}, {Gibb}, {Gillard}, {Gillis}, {Ginolfi}, {Giocoli}, {Girardi},  {Giri}, {Goh}, {G{ó}mez-Alvarez}, {Gonzalez}, {Gonzalez}, {Gonzalez},  {Gouyou Beauchamps}, {Gozaliasl}, {Gracia-Carpio}, {Grandis}, {Granett},  {Granvik}, {Grazian}, {Gregorio}, {Grenet}, {Grillo}, {Grupp}, {Gruppioni},  {Gruppuso}, {Guerbuez}, {Guerrini}, {Guidi}, {Guillard}, {Gutierrez},  {Guttridge}, {Guzzo}, {Gwyn}, {Haapala}, {Haase}, {Haddow}, {Hailey}, {Hall},  {Hall}, {Hamaus}, {Haridasu}, {Harnois-D{é}raps}, {Harper}, {Hartley},  {Hasinger}, {Hassani}, {Hatch}, {Haugan}, {H{ä}u{\\ss}ler}, {Heavens},  {Heisenberg}, {Helmi}, {Helou}, {Hemmati}, {Henares}, {Herent},  {Hern{á}ndez-Monteagudo}, {Heuberger}, {Hewett}, {Heydenreich},  {Hildebrandt}, {Hirschmann}, {Hjorth}, {Hoar}, {Hoekstra}, {Holland},  {Holliman}, {Holmes}, {Hook}, {Horeau}, {Hormuth}, {Hornstrup}, {Hosseini},  {Hu}, {Hudelot}, {Hudson}, {Huertas-Company}, {Huff}, {Hughes}, {Humphrey},  {Hunt}, {Huynh}, {Ibata}, {Ichikawa}, {Iglesias-Groth}, {Ilbert}, {Ili{\\'c}},  {Ingoglia}, {Iodice}, {Israel}, {Israelsson}, {Izzo}, {Jablonka}, {Jackson},  {Jacobson}, {Jafariyazani}, {Jahnke}, {Jansen}, {Jarvis}, {Jasche}, {Jauzac},  {Jeffrey}, {Jhabvala}, {Jimenez-Teja}, {Jimenez Mu{ñ}oz}, {Joachimi},  {Johansson}, {Joudaki}, {Jullo}, {Kajava}, {Kang}, {Kannawadi}, {Kansal},  {Karagiannis}, {K{ä}rcher}, {Kashlinsky}, {Kazandjian}, {Keck},  {Keih{ä}nen}, {Kerins}, {Kermiche}, {Khalil}, {Kiessling}, {Kiiveri},  {Kilbinger}, {Kim}, {King}, {Kirkpatrick}, {Kitching}, {Kluge}, {Knabenhans},  {Knapen}, {Knebe}, {Kneib}, {Kohley}, {Koopmans}, {Koskinen}, {Koulouridis},  {Kou}, {Kov{á}cs}, {Kova\\{{\\v{c}}\\}i{\\'c}}, {Kowalczyk}, {Koyama},  {Kraljic}, {Krause}, {Kruk}, {Kubik}, {Kuchner}, {Kuijken}, {K{ü}mmel},  {Kunz}, {Kurki-Suonio}, {Lacasa}, {Lacey}, {La Franca}, {Lagarde}, {Lahav},  {Laigle}, {La Marca}, {La Marle}, {Lamine}, {Lam}, {Lan{ç}on}, {Landt},  {Langer}, {Lapi}, {Larcheveque}, {Larsen}, {Lattanzi}, {Laudisio}, {Laugier},  {Laureijs}, {Lavaux}, {Lawrenson}, {Lazanu}, {Lazeyras}, {Le Boulc'h}, {Le  Brun}, {Le Brun}, {Leclercq}, {Lee}, {Le Graet}, {Legrand}, {Leirvik}, {Le  Jeune}, {Lembo}, {Le Mignant}, {Lepinzan}, {Lepori}, {Lesci}, {Lesgourgues},  {Leuzzi}, {Levi}, {Liaudat}, {Libet}, {Liebing}, {Ligori}, {Lilje}, {Lin},  {Linde}, {Linder}, {Lindholm}, {Linke}, {Li}, {Liu}, {Lloro}, {Lobo},  {Lodieu}, {Lombardi}, {Lombriser}, {Lonare}, {Longo}, {L{ó}pez-Caniego},  {Lopez Lopez}, {Alvarez}, {Loureiro}, {Loveday}, {Lusso}, {Macias-Perez},  {Maciaszek}, {Magliocchetti}, {Magnard}, {Magnier}, {Magro}, {Mahler},  {Mainetti}, {Maino}, {Maiorano}, {Maiorano}, {Malavasi}, {Mamon}, {Mancini},  {Mandelbaum}, {Manera}, {Manj{ó}n-Garc{í}a}, {Mannucci}, {Mansutti},  {Manteiga Outeiro}, {Maoli}, {Maraston}, {Marcin}, {Marcos-Arenal},  {Margalef-Bentabol}, {Marggraf}, {Marinucci}, {Marinucci}, {Markovic},  {Marleau}, {Marpaud}, {Martignac}, {Mart{í}n-Fleitas}, {Martin-Moruno},  {Martin}, {Martinelli}, {Martinet}, {Martin}, {Martins}, {Marulli},  {Massari}, {Massey}, {Masters}, {Matarrese}, {Matsuoka}, {Matthew},  {Maughan}, {Mauri}, {Maurin}, {Maurogordato}, {McCarthy}, {McConnachie},  {McCracken}, {McDonald}, {McEwen}, {McPartland}, {Medinaceli}, {Mehta},  {Mei}, {Melchior}, {Melin}, {M{é}nard}, {Mendes}, {Mendez-Abreu},  {Meneghetti}, {Mercurio}, {Merlin}, {Metcalf}, {Meylan}, {Migliaccio},  {Mignoli}, {Miller}, {Miluzio}, {Milvang-Jensen}, {Mimoso}, {Miquel},  {Miyatake}, {Mobasher}, {Mohr}, {Monaco}, {Mongui{ó}}, {Montoro}, {Mora},  {Moradinezhad Dizgah}, {Moresco}, {Moretti}, {Morgante}, {Morisset},  {Moriya}, {Morris}, {Mortlock}, {Moscardini}, {Mota}, {Moustakas}, {Moutard},  {M{ü}ller}, {Munari}, {Murphree}, {Murray}, {Murray}, {Musi}, {Nadathur},  {Nagam}, {Nagao}, {Naidoo}, {Nakajima}, {Nally}, {Natoli}, {Navarro-Alsina},  {Navarro Girones}, {Neissner}, {Nersesian}, {Nesseris}, {Nguyen-Kim},  {Nicastro}, {Nichol}, {Nielbock}, {Niemi}, {Nieto}, {Nilsson}, {Noller},  {Norberg}, {Nourizonoz}, {Ntelis}, {Nucita}, {Nugent}, {Nunes}, {Nutma},  {Ocampo}, {Odier}, {Oesch}, {Oguri}, {Magalhaes Oliveira}, {Onoue},  {Oosterbroek}, {Oppizzi}, {Ordenovic}, {Osato}, {Pacaud}, {Pace}, {Padilla},  {Paech}, {Pagano}, {Page}, {Palazzi}, {Paltani}, {Pamuk}, {Pandolfi},  {Paoletti}, {Paolillo}, {Papaderos}, {Pardede}, {Parimbelli}, {Parmar},  {Partmann}, {Pasian}, {Passalacqua}, {Paterson}, {Patrizii}, {Pattison},  {Paulino-Afonso}, {Paviot}, {Peacock}, {Pearce}, {Pedersen}, {Peel},  {Peletier}, {Pellejero Ibanez}, {Pello}, {Penny}, {Percival},  {Perez-Garrido}, {Perotto}, {Pettorino}, {Pezzotta}, {Pezzuto}, {Philippon},  {Piersanti}, {Pietroni}, {Piga}, {Pilo}, {Pires}, {Pisani}, {Pizzella},  {Pizzuti}, {Plana}, {Polenta}, {Pollack}, {Poncet}, {P{ö}ntinen}, {Pool},  {Popa}, {Popa}, {Popp}, {Porciani}, {Porth}, {Potter}, {Poulain},  {Pourtsidou}, {Pozzetti}, {Prandoni}, {Pratt}, {Prezelus}, {Prieto}, {Pugno},  {Quai}, {Quilley}, {Racca}, {Raccanelli}, {R{á}cz}, {Radinovi{\\'c}},  {Radovich}, {Ragagnin}, {Ragnit}, {Raison}, {Ramos-Chernenko}, {Ranc},  {Raylet}, {Rebolo}, {Refregier}, {Reimberg}, {Reiprich}, {Renk}, {Renzi},  {Retre}, {Revaz}, {Reyl{é}}, {Reynolds}, {Rhodes}, {Ricci}, {Ricci},  {Riccio}, {Ricken}, {Rissanen}, {Risso}, {Rix}, {Robin}, {Rocca-Volmerange},  {Rocci}, {Rodenhuis}, {Rodighiero}, {Rodriguez Monroy}, {Rollins},  {Romanello}, {Roman}, {Romelli}, {Romero-Gomez}, {Roncarelli}, {Rosati},  {Rosset}, {Rossetti}, {Roster}, {Rottgering}, {Rozas-Fern{á}ndez}, {Ruane},  {Rubino-Martin}, {Rudolph}, {Ruppin}, {Rusholme}, {Sacquegna},  {S{á}ez-Casares}, {Saga}, {Saglia}, {Sahl{é}n}, {Saifollahi}, {Sakr},  {Salvalaggio}, {Salvaterra}, {Salvati}, {Salvato}, {Salvignol},  {S{á}nchez}, {Sanchez}, {Sanders}, {Sapone}, {Saponara}, {Sarpa}, {Sarron},  {Sartori}, {Sassolas}, {Sauniere}, {Sauvage}, {Sawicki}, {Scaramella},  {Scarlata}, {Scharr{é}}, {Schaye}, {Schewtschenko}, {Schindler},  {Schinnerer}, {Schirmer}, {Schmidt}, {Schmidt}, {Schmidt}, {Schneider},  {Schneider}, {Schneider}, {Sch{ö}neberg}, {Schrabback}, {Schultheis},  {Schulz}, {Schwartz}, {Sciotti}, {Scodeggio}, {Scognamiglio}, {Scott},  {Scottez}, {Secroun}, {Sefusatti}, {Seidel}, {Seiffert}, {Sellentin},  {Selwood}, {Semboloni}, {Sereno}, {Serjeant}, {Serrano}, {Shankar},  {Sharples}, {Short}, {Shulevski}, {Shuntov}, {Sias}, {Sikkema}, {Silvestri},  {Simon}, {Sirignano}, {Sirri}, {Skottfelt}, {Slezak}, {Sluse}, {Smith},  {Smith}, {Smith}, {Smit}, {Soldano}, {Solheim}, {Sorce}, {Sorrenti},  {Soubrie}, {Spinoglio}, {Spurio Mancini}, {Stadel}, {Stagnaro}, {Stanco},  {Stanford}, {Starck}, {Stassi}, {Steinwagner}, {Stern}, {Stone}, {Strada},  {Strafella}, {Stramaccioni}, {Surace}, {Sureau}, {Suyu}, {Swindells},  {Szafraniec}, {Szapudi}, {Taamoli}, {Talia}, {Tallada-Cresp{í}},  {Tanidis}, {Tao}, {Tarr{í}o}, {Tavagnacco}, {Taylor}, {Taylor}, {Taylor},  {Teixeira}, {Tenti}, {Teodoro Idiago}, {Teplitz}, {Tereno}, {Tessore},  {Testa}, {Testera}, {Tewes}, {Teyssier}, {Theret}, {Thizy}, {Thomas}, {Toba},  {Toft}, {Toledo-Moreo}, {Tolstoy}, {Tommasi}, {Torbaniuk}, {Torradeflot},  {Tortora}, {Tosi}, {Tosti}, {Trifoglio}, {Troja}, {Trombetti}, {Tronconi},  {Tsedrik}, {Tsyganov}, {Tucci}, {Tutusaus}, {Uhlemann}, {Ulivi}, {Urbano},  {Vacher}, {Vaillon}, {Valdes}, {Valentijn}, {Valenziano}, {Valieri},  {Valiviita}, {Van den Broeck}, {Vassallo}, {Vavrek}, {Venemans}, {Venhola},  {Ventura}, {Verdoes Kleijn}, {Vergani}, {Verma}, {Vernizzi}, {Veropalumbo},  {Verza}, {Vescovi}, {Vibert}, {Viel}, {Vielzeuf}, {Viglione}, {Viitanen},  {Villaescusa-Navarro}, {Vinciguerra}, {Visticot}, {Voggel}, {von  Wietersheim-Kramsta}, {Vriend}, {Wachter}, {Walmsley}, {Walth}, {Walton},  {Walton}, {Wander}, {Wang}, {Wang}, {Weaver}, {Weller}, {Whalen}, {Wiesmann},  {Wilde}, {Williams}, {Winther}, {Wittje}, {Wong}, {Wright}, {Yankelevich},  {Yeung}, {Youles}, {Yung}, {Zacchei}, {Zalesky}, {Zamorani}, {Zamorano  Vitorelli}, {Zanoni Marc}, {Zennaro}, {Zerbi}, {Zinchenko}, {Zoubian},  {Zucca},  {Zumalacarregui}}]{2024arXiv240513491E}{Euclid Collaboration: Mellier}, Y., {Abdurro'uf}, {Acevedo Barroso}, J.~A.,  {et~al.} \\href{https://ui.adsabs.harvard.edu/abs/2024arXiv240513491E}{2024,  arXiv:2405.13491}\n",
      " regex = \n",
      "        \\\\bibitem(\\[[^\\[\\]]*?\\]){(?P<bibkey>[a-zA-Z0-9\\-\\+\\.\\S]+?)}(?P<authors>|([\\D]*?))(?P<year>[12][0-9]{3}).*?href(.*?{(?P<url>http[\\S]*)})(?P<rest>.*)\n",
      "        \n",
      "  warnings.warn(str(e))\n",
      "/opt/hostedtoolcache/Python/3.9.20/x64/lib/python3.9/site-packages/arxiv_on_deck_2/latex_bib.py:132: UserWarning: Error processing bibitem\n",
      " item = \\bibitem[{{Giri} {et~al.}(2023){Giri}, {M{ü}nchmeyer},   {Smith}}]{giri2023constraining}{Giri}, U., {M{ü}nchmeyer}, M.,  {Smith}, K.~M.  \\href{https://ui.adsabs.harvard.edu/abs/2023arXiv230503070G}{2023,  arXiv:2305.03070}\n",
      " regex = \n",
      "        \\\\bibitem(\\[[^\\[\\]]*?\\]){(?P<bibkey>[a-zA-Z0-9\\-\\+\\.\\S]+?)}(?P<authors>|([\\D]*?))(?P<year>[12][0-9]{3}).*?href(.*?{(?P<url>http[\\S]*)})(?P<rest>.*)\n",
      "        \n",
      "  warnings.warn(str(e))\n",
      "/opt/hostedtoolcache/Python/3.9.20/x64/lib/python3.9/site-packages/arxiv_on_deck_2/latex_bib.py:132: UserWarning: Error processing bibitem\n",
      " item = \\bibitem[{{Komatsu} {et~al.}(2009){Komatsu}, {Afshordi}, {Bartolo}, {Baumann},  {Bond}, {Buchbinder}, {Byrnes}, {Chen}, {Chung}, {Cooray}, {Creminelli},  {Dalal}, {Dore}, {Easther}, {Frolov}, {Khoury}, {Kinney}, {Kofman}, {Koyama},  {Leblond}, {Lehners}, {Lidsey}, {Liguori}, {Lim}, {Linde}, {Lyth},  {Maldacena}, {Matarrese}, {McAllister}, {McDonald}, {Mukohyama}, {Ovrut},  {Peiris}, {Riotto}, {Rodrigues}, {Sasaki}, {Scoccimarro}, {Seery},  {Sefusatti}, {Smith}, {Starobinsky}, {Steinhardt}, {Takahashi}, {Tegmark},  {Tolley}, {Verde}, {Wandelt}, {Wands}, {Weinberg}, {Wyman}, {Yadav},   {Zaldarriaga}}]{2009astro2010S.158K}{Komatsu}, E., {Afshordi}, N., {Bartolo}, N., {et~al.}  \\href{https://ui.adsabs.harvard.edu/abs/2009astro2010S.158K}{2009,  arXiv:0902.4759}\n",
      " regex = \n",
      "        \\\\bibitem(\\[[^\\[\\]]*?\\]){(?P<bibkey>[a-zA-Z0-9\\-\\+\\.\\S]+?)}(?P<authors>|([\\D]*?))(?P<year>[12][0-9]{3}).*?href(.*?{(?P<url>http[\\S]*)})(?P<rest>.*)\n",
      "        \n",
      "  warnings.warn(str(e))\n",
      "/opt/hostedtoolcache/Python/3.9.20/x64/lib/python3.9/site-packages/arxiv_on_deck_2/latex_bib.py:132: UserWarning: Error processing bibitem\n",
      " item = \\bibitem[{Kvasiuk {et~al.}(2024)Kvasiuk, Münchmeyer,   Smith}]{Kvasiuk_2024gbz}Kvasiuk, Y., Münchmeyer, M.,  Smith, K.  \\href{https://arxiv.org/abs/2410.01007}{2024, arXiv:2410.01007}\n",
      " regex = \n",
      "        \\\\bibitem(\\[[^\\[\\]]*?\\]){(?P<bibkey>[a-zA-Z0-9\\-\\+\\.\\S]+?)}(?P<authors>|([\\D]*?))(?P<year>[12][0-9]{3}).*?href(.*?{(?P<url>http[\\S]*)})(?P<rest>.*)\n",
      "        \n",
      "  warnings.warn(str(e))\n",
      "/opt/hostedtoolcache/Python/3.9.20/x64/lib/python3.9/site-packages/arxiv_on_deck_2/latex_bib.py:132: UserWarning: Error processing bibitem\n",
      " item = \\bibitem[{{Laureijs} {et~al.}(2011){Laureijs}, {Amiaux}, {Arduini},  {Augu{è}res}, {Brinchmann}, {Cole}, {Cropper}, {Dabin}, {Duvet}, {Ealet},  {Garilli}, {Gondoin}, {Guzzo}, {Hoar}, {Hoekstra}, {Holmes}, {Kitching},  {Maciaszek}, {Mellier}, {Pasian}, {Percival}, {Rhodes}, {Saavedra Criado},  {Sauvage}, {Scaramella}, {Valenziano}, {Warren}, {Bender}, {Castander},  {Cimatti}, {Le F{è}vre}, {Kurki-Suonio}, {Levi}, {Lilje}, {Meylan},  {Nichol}, {Pedersen}, {Popa}, {Rebolo Lopez}, {Rix}, {Rottgering},  {Zeilinger}, {Grupp}, {Hudelot}, {Massey}, {Meneghetti}, {Miller}, {Paltani},  {Paulin-Henriksson}, {Pires}, {Saxton}, {Schrabback}, {Seidel}, {Walsh},  {Aghanim}, {Amendola}, {Bartlett}, {Baccigalupi}, {Beaulieu}, {Benabed},  {Cuby}, {Elbaz}, {Fosalba}, {Gavazzi}, {Helmi}, {Hook}, {Irwin}, {Kneib},  {Kunz}, {Mannucci}, {Moscardini}, {Tao}, {Teyssier}, {Weller}, {Zamorani},  {Zapatero Osorio}, {Boulade}, {Foumond}, {Di Giorgio}, {Guttridge}, {James},  {Kemp}, {Martignac}, {Spencer}, {Walton}, {Bl{ü}mchen}, {Bonoli},  {Bortoletto}, {Cerna}, {Corcione}, {Fabron}, {Jahnke}, {Ligori}, {Madrid},  {Martin}, {Morgante}, {Pamplona}, {Prieto}, {Riva}, {Toledo}, {Trifoglio},  {Zerbi}, {Abdalla}, {Douspis}, {Grenet}, {Borgani}, {Bouwens}, {Courbin},  {Delouis}, {Dubath}, {Fontana}, {Frailis}, {Grazian}, {Koppenh{ö}fer},  {Mansutti}, {Melchior}, {Mignoli}, {Mohr}, {Neissner}, {Noddle}, {Poncet},  {Scodeggio}, {Serrano}, {Shane}, {Starck}, {Surace}, {Taylor},  {Verdoes-Kleijn}, {Vuerli}, {Williams}, {Zacchei}, {Altieri}, {Escudero  Sanz}, {Kohley}, {Oosterbroek}, {Astier}, {Bacon}, {Bardelli}, {Baugh},  {Bellagamba}, {Benoist}, {Bianchi}, {Biviano}, {Branchini}, {Carbone},  {Cardone}, {Clements}, {Colombi}, {Conselice}, {Cresci}, {Deacon}, {Dunlop},  {Fedeli}, {Fontanot}, {Franzetti}, {Giocoli}, {Garcia-Bellido}, {Gow},  {Heavens}, {Hewett}, {Heymans}, {Holland}, {Huang}, {Ilbert}, {Joachimi},  {Jennins}, {Kerins}, {Kiessling}, {Kirk}, {Kotak}, {Krause}, {Lahav}, {van  Leeuwen}, {Lesgourgues}, {Lombardi}, {Magliocchetti}, {Maguire}, {Majerotto},  {Maoli}, {Marulli}, {Maurogordato}, {McCracken}, {McLure}, {Melchiorri},  {Merson}, {Moresco}, {Nonino}, {Norberg}, {Peacock}, {Pello}, {Penny},  {Pettorino}, {Di Porto}, {Pozzetti}, {Quercellini}, {Radovich}, {Rassat},  {Roche}, {Ronayette}, {Rossetti}, {Sartoris}, {Schneider}, {Semboloni},  {Serjeant}, {Simpson}, {Skordis}, {Smadja}, {Smartt}, {Spano}, {Spiro},  {Sullivan}, {Tilquin}, {Trotta}, {Verde}, {Wang}, {Williger}, {Zhao},  {Zoubian},  {Zucca}}]{laureijs_euclid_2011}{Laureijs}, R., {Amiaux}, J., {Arduini}, S., {et~al.}  \\href{https://ui.adsabs.harvard.edu/abs/2011arXiv1110.3193L}{2011,  arXiv:1110.3193}\n",
      " regex = \n",
      "        \\\\bibitem(\\[[^\\[\\]]*?\\]){(?P<bibkey>[a-zA-Z0-9\\-\\+\\.\\S]+?)}(?P<authors>|([\\D]*?))(?P<year>[12][0-9]{3}).*?href(.*?{(?P<url>http[\\S]*)})(?P<rest>.*)\n",
      "        \n",
      "  warnings.warn(str(e))\n",
      "/opt/hostedtoolcache/Python/3.9.20/x64/lib/python3.9/site-packages/arxiv_on_deck_2/latex_bib.py:132: UserWarning: Error processing bibitem\n",
      " item = \\bibitem[{{Leclercq} {et~al.}(2015){Leclercq}, {Jasche}, {Lavaux},   {Wandelt}}]{2015arXiv151202242L}{Leclercq}, F., {Jasche}, J., {Lavaux}, G., {et~al.}  \\href{https://ui.adsabs.harvard.edu/abs/2015arXiv151202242L}{2015,  arXiv:1512.02242}\n",
      " regex = \n",
      "        \\\\bibitem(\\[[^\\[\\]]*?\\]){(?P<bibkey>[a-zA-Z0-9\\-\\+\\.\\S]+?)}(?P<authors>|([\\D]*?))(?P<year>[12][0-9]{3}).*?href(.*?{(?P<url>http[\\S]*)})(?P<rest>.*)\n",
      "        \n",
      "  warnings.warn(str(e))\n",
      "/opt/hostedtoolcache/Python/3.9.20/x64/lib/python3.9/site-packages/arxiv_on_deck_2/latex_bib.py:132: UserWarning: Error processing bibitem\n",
      " item = \\bibitem[{{Mueller} {et~al.}(2021){Mueller}, {Rezaie}, {Percival}, {Ross},  {Ruggeri}, {Seo}, {Gil-Mar{\\i}n}, {Bautista}, {Brownstein}, {Dawson}, {de la  Macorra}, {Palanque-Delabrouille}, {Rossi}, {Schneider},   {Yeche}}]{mueller2021clustering}{Mueller}, E.-M., {Rezaie}, M., {Percival}, W.~J., {et~al.}  \\href{https://ui.adsabs.harvard.edu/abs/2021arXiv210613725M}{2021,  arXiv:2106.13725}\n",
      " regex = \n",
      "        \\\\bibitem(\\[[^\\[\\]]*?\\]){(?P<bibkey>[a-zA-Z0-9\\-\\+\\.\\S]+?)}(?P<authors>|([\\D]*?))(?P<year>[12][0-9]{3}).*?href(.*?{(?P<url>http[\\S]*)})(?P<rest>.*)\n",
      "        \n",
      "  warnings.warn(str(e))\n",
      "/opt/hostedtoolcache/Python/3.9.20/x64/lib/python3.9/site-packages/arxiv_on_deck_2/latex_bib.py:132: UserWarning: Error processing bibitem\n",
      " item = \\bibitem[{{Nguyen} {et~al.}(2024){Nguyen}, {Schmidt}, {Tucci}, {Reinecke},   {Kosti{\\'c}}}]{2024arXiv240303220N}{Nguyen}, N.-M., {Schmidt}, F., {Tucci}, B., {et~al.}  \\href{https://ui.adsabs.harvard.edu/abs/2024arXiv240303220N}{2024,  arXiv:2403.03220}\n",
      " regex = \n",
      "        \\\\bibitem(\\[[^\\[\\]]*?\\]){(?P<bibkey>[a-zA-Z0-9\\-\\+\\.\\S]+?)}(?P<authors>|([\\D]*?))(?P<year>[12][0-9]{3}).*?href(.*?{(?P<url>http[\\S]*)})(?P<rest>.*)\n",
      "        \n",
      "  warnings.warn(str(e))\n",
      "/opt/hostedtoolcache/Python/3.9.20/x64/lib/python3.9/site-packages/arxiv_on_deck_2/latex_bib.py:132: UserWarning: Error processing bibitem\n",
      " item = \\bibitem[{{Porqueres} {et~al.}(2023){Porqueres}, {Heavens}, {Mortlock},  {Lavaux},  {Makinen}}]{2023arXiv230404785P}{Porqueres}, N., {Heavens}, A., {Mortlock}, D., {et~al.}  \\href{https://ui.adsabs.harvard.edu/abs/2023arXiv230404785P}{2023,  arXiv:2304.04785}\n",
      " regex = \n",
      "        \\\\bibitem(\\[[^\\[\\]]*?\\]){(?P<bibkey>[a-zA-Z0-9\\-\\+\\.\\S]+?)}(?P<authors>|([\\D]*?))(?P<year>[12][0-9]{3}).*?href(.*?{(?P<url>http[\\S]*)})(?P<rest>.*)\n",
      "        \n",
      "  warnings.warn(str(e))\n",
      "/opt/hostedtoolcache/Python/3.9.20/x64/lib/python3.9/site-packages/arxiv_on_deck_2/latex_bib.py:132: UserWarning: Error processing bibitem\n",
      " item = \\bibitem[{{Rossiter} {et~al.}(2024){Rossiter}, {Camera}, {Clarkson},   {Maartens}}]{2024arXiv240706301R}{Rossiter}, S., {Camera}, S., {Clarkson}, C., {et~al.}  \\href{https://ui.adsabs.harvard.edu/abs/2024arXiv240706301R}{2024,  arXiv:2407.06301}\n",
      " regex = \n",
      "        \\\\bibitem(\\[[^\\[\\]]*?\\]){(?P<bibkey>[a-zA-Z0-9\\-\\+\\.\\S]+?)}(?P<authors>|([\\D]*?))(?P<year>[12][0-9]{3}).*?href(.*?{(?P<url>http[\\S]*)})(?P<rest>.*)\n",
      "        \n",
      "  warnings.warn(str(e))\n",
      "/opt/hostedtoolcache/Python/3.9.20/x64/lib/python3.9/site-packages/arxiv_on_deck_2/latex_bib.py:132: UserWarning: Error processing bibitem\n",
      " item = \\bibitem[{{Stadler} {et~al.}(2024{\\natexlab{a}}){Stadler}, {Schmidt},   {Reinecke}}]{2024arXiv240910937S}{Stadler}, J., {Schmidt}, F.,  {Reinecke}, M.  \\href{https://ui.adsabs.harvard.edu/abs/2024arXiv240910937S}{2024{\\natexlab{a}},  arXiv:2409.10937}\n",
      " regex = \n",
      "        \\\\bibitem(\\[[^\\[\\]]*?\\]){(?P<bibkey>[a-zA-Z0-9\\-\\+\\.\\S]+?)}(?P<authors>|([\\D]*?))(?P<year>[12][0-9]{3}).*?href(.*?{(?P<url>http[\\S]*)})(?P<rest>.*)\n",
      "        \n",
      "  warnings.warn(str(e))\n",
      "/opt/hostedtoolcache/Python/3.9.20/x64/lib/python3.9/site-packages/arxiv_on_deck_2/latex_bib.py:132: UserWarning: Error processing bibitem\n",
      " item = \\bibitem[{{Stadler} {et~al.}(2024{\\natexlab{b}}){Stadler}, {Schmidt},  {Reinecke},  {Esposito}}]{2024arXiv241104513S}{Stadler}, J., {Schmidt}, F., {Reinecke}, M., {et~al.}  \\href{https://ui.adsabs.harvard.edu/abs/2024arXiv241104513S}{2024{\\natexlab{b}},  arXiv:2411.04513}\n",
      " regex = \n",
      "        \\\\bibitem(\\[[^\\[\\]]*?\\]){(?P<bibkey>[a-zA-Z0-9\\-\\+\\.\\S]+?)}(?P<authors>|([\\D]*?))(?P<year>[12][0-9]{3}).*?href(.*?{(?P<url>http[\\S]*)})(?P<rest>.*)\n",
      "        \n",
      "  warnings.warn(str(e))\n",
      "/opt/hostedtoolcache/Python/3.9.20/x64/lib/python3.9/site-packages/arxiv_on_deck_2/latex_bib.py:132: UserWarning: Error processing bibitem\n",
      " item = \\bibitem[{{Sullivan}  {Chen}(2024)}]{2024arXiv241018039S}{Sullivan}, J.~M.  {Chen}, S.-F.  \\href{https://ui.adsabs.harvard.edu/abs/2024arXiv241018039S}{2024,  arXiv:2410.18039}\n",
      " regex = \n",
      "        \\\\bibitem(\\[[^\\[\\]]*?\\]){(?P<bibkey>[a-zA-Z0-9\\-\\+\\.\\S]+?)}(?P<authors>|([\\D]*?))(?P<year>[12][0-9]{3}).*?href(.*?{(?P<url>http[\\S]*)})(?P<rest>.*)\n",
      "        \n",
      "  warnings.warn(str(e))\n",
      "/opt/hostedtoolcache/Python/3.9.20/x64/lib/python3.9/site-packages/arxiv_on_deck_2/latex_bib.py:132: UserWarning: Error processing bibitem\n",
      " item = \\bibitem[{{Tsaprazi} {et~al.}(2023){Tsaprazi}, {Jasche}, {Lavaux},   {Leclercq}}]{2023arXiv230103581T}{Tsaprazi}, E., {Jasche}, J., {Lavaux}, G., {et~al.}  \\href{https://ui.adsabs.harvard.edu/abs/2023arXiv230103581T}{2023,  arXiv:2301.03581}\n",
      " regex = \n",
      "        \\\\bibitem(\\[[^\\[\\]]*?\\]){(?P<bibkey>[a-zA-Z0-9\\-\\+\\.\\S]+?)}(?P<authors>|([\\D]*?))(?P<year>[12][0-9]{3}).*?href(.*?{(?P<url>http[\\S]*)})(?P<rest>.*)\n",
      "        \n",
      "  warnings.warn(str(e))\n"
     ]
    }
   ],
   "source": [
    "documents = []\n",
    "failed = []\n",
    "for paper in tqdm(candidates):\n",
    "    # debug crap\n",
    "    paper['identifier'] = paper['identifier'].lower().replace('arxiv:', '').replace(r'\\n', '').strip()\n",
    "    paper_id = paper['identifier']\n",
    "    \n",
    "    folder = f'tmp_{paper_id}'\n",
    "\n",
    "    try:\n",
    "        if not os.path.isdir(folder):\n",
    "            folder = retrieve_document_source(f\"{paper_id}\", f'tmp_{paper_id}')\n",
    "        \n",
    "        try:\n",
    "            doc = latex.LatexDocument(folder, validation=validation)    \n",
    "        except AffiliationError as affilerror:\n",
    "            msg = f\"ArXiv:{paper_id:s} is not an MPIA paper... \" + str(affilerror)\n",
    "            failed.append((paper, \"affiliation error: \" + str(affilerror) ))\n",
    "            continue\n",
    "        \n",
    "        # Hack because sometimes author parsing does not work well\n",
    "        if (len(doc.authors) != len(paper['authors'])):\n",
    "            doc._authors = paper['authors']\n",
    "        else:\n",
    "            # highlight authors (FIXME: doc.highlight_authors)\n",
    "            # done on arxiv paper already\n",
    "            doc._authors = highlight_authors_in_list(\n",
    "                [get_initials(k) for k in doc.authors], \n",
    "                mpia_authors, verbose=True)\n",
    "        if (doc.abstract) in (None, ''):\n",
    "            doc._abstract = paper['abstract']\n",
    "            \n",
    "        doc.comment = (get_markdown_badge(paper_id) + \n",
    "                       \"<mark>Appeared on: \" + paper['date'] + \"</mark> - \")\n",
    "        if paper['comments']:\n",
    "            doc.comment += \" _\" + paper['comments'] + \"_\"\n",
    "        \n",
    "        full_md = doc.generate_markdown_text()\n",
    "        \n",
    "        full_md += get_markdown_qrcode(paper_id)\n",
    "        \n",
    "        # replace citations\n",
    "        try:\n",
    "            bibdata = latex_bib.LatexBib.from_doc(doc)\n",
    "            full_md = latex_bib.replace_citations(full_md, bibdata)\n",
    "        except Exception as e:\n",
    "            print(\"Issues with the citations\")\n",
    "            print(e)\n",
    "        \n",
    "        documents.append((paper_id, full_md))\n",
    "    except Exception as e:\n",
    "        warnings.warn(latex.LatexWarning(f\"{paper_id:s} did not run properly\\n\" +\n",
    "                                         str(e)\n",
    "                                        ))\n",
    "        failed.append((paper, \"latex error \" + str(e)))"
   ]
  },
  {
   "cell_type": "markdown",
   "id": "2505a25c",
   "metadata": {
    "papermill": {
     "duration": 0.004482,
     "end_time": "2024-12-17T04:14:06.714178",
     "exception": false,
     "start_time": "2024-12-17T04:14:06.709696",
     "status": "completed"
    },
    "tags": []
   },
   "source": [
    "### Export the logs\n",
    "\n",
    "Throughout, we also keep track of the logs per paper. see `logs-{today date}.md` "
   ]
  },
  {
   "cell_type": "code",
   "execution_count": 6,
   "id": "d733828a",
   "metadata": {
    "execution": {
     "iopub.execute_input": "2024-12-17T04:14:06.724241Z",
     "iopub.status.busy": "2024-12-17T04:14:06.723739Z",
     "iopub.status.idle": "2024-12-17T04:14:06.740107Z",
     "shell.execute_reply": "2024-12-17T04:14:06.739506Z"
    },
    "papermill": {
     "duration": 0.022396,
     "end_time": "2024-12-17T04:14:06.741014",
     "exception": false,
     "start_time": "2024-12-17T04:14:06.718618",
     "status": "completed"
    },
    "scrolled": false,
    "tags": []
   },
   "outputs": [
    {
     "data": {
      "text/markdown": [
       "## Successful papers"
      ],
      "text/plain": [
       "<IPython.core.display.Markdown object>"
      ]
     },
     "metadata": {},
     "output_type": "display_data"
    },
    {
     "data": {
      "text/markdown": [
       "\n",
       "|||\n",
       "|---:|:---|\n",
       "| [![arXiv](https://img.shields.io/badge/arXiv-2412.10506-b31b1b.svg)](https://arxiv.org/abs/2412.10506) | **Dense gas scaling relations at kiloparsec scale across nearby galaxies with the ALMA ALMOND and IRAM 30-m EMPIRE surveys**  |\n",
       "|| L. Neumann, et al. -- incl., <mark>E. Schinnerer</mark> |\n",
       "|*Appeared on*| *2024-12-17*|\n",
       "|*Comments*| *6 pages, 3 figures. Accepted for publication in Astronomy & Astrophysics Letters*|\n",
       "|**Abstract**|            Dense, cold gas is the key ingredient for star formation. Over the last two decades, HCN(1-0) emission has been utilised as the most accessible dense gas tracer to study external galaxies. We present new measurements tracing the relationship between dense gas tracers, bulk molecular gas tracers, and star formation in the ALMA ALMOND survey, the largest sample of resolved (1-2 kpc resolution) HCN maps of galaxies in the local universe (d < 25 Mpc). We measure HCN/CO, a line ratio sensitive to the physical density distribution, and SFR/HCN, a proxy for the dense gas star formation efficiency, as a function of molecular gas surface density, stellar mass surface density, and dynamical equilibrium pressure across 31 galaxies, increasing the number of galaxies by a factor of > 3 over the previous largest such study (EMPIRE). HCN/CO increases (slope of ~ 0.5 and scatter of ~ 0.2 dex), while SFR/HCN decreases (slope of ~ -0.6 and scatter of ~ 0.4 dex) with increasing molecular gas surface density, stellar mass surface density and pressure. Galaxy centres with high stellar mass surface density show a factor of a few higher HCN/CO and lower SFR/HCN compared to the disc average, but both environments follow the same average trend. Our results emphasise that molecular gas properties vary systematically with the galactic environment and demonstrate that the scatter in the Gao-Solomon relation (SFR against HCN) is of physical origin.         |"
      ],
      "text/plain": [
       "[2412.10506] Dense gas scaling relations at kiloparsec scale across nearby galaxies with the ALMA ALMOND and IRAM 30-m EMPIRE surveys\n",
       "\tL. Neumann, et al. -- incl., <mark>E. Schinnerer</mark>"
      ]
     },
     "metadata": {},
     "output_type": "display_data"
    },
    {
     "data": {
      "text/markdown": [
       "\n",
       "|||\n",
       "|---:|:---|\n",
       "| [![arXiv](https://img.shields.io/badge/arXiv-2412.10731-b31b1b.svg)](https://arxiv.org/abs/2412.10731) | **Dust Scattering Albedo at Millimeter-Wavelengths in the TW Hya Disk**  |\n",
       "|| T. C. Yoshida, et al. -- incl., <mark>K. Doi</mark> |\n",
       "|*Appeared on*| *2024-12-17*|\n",
       "|*Comments*| *19 pages, 16 figures, accepted for publication in ApJ*|\n",
       "|**Abstract**|            Planetary bodies are formed by coagulation of solid dust grains in protoplanetary disks. Therefore, it is crucial to constrain the physical and chemical properties of the dust grains. In this study, we measure the dust albedo at mm-wavelength, which depends on dust properties at the disk midplane. Since the albedo and dust temperature are generally degenerate in observed thermal dust emission, it is challenging to determine them simultaneously. We propose to break this degeneracy by using multiple optically-thin molecular lines as a dust-albedo independent thermometer. In practice, we employ pressure-broadened CO line wings that provide an exceptionally high signal-to-noise ratio as an optically thin line. We model the CO $J=2-1$ and $3-2$ spectra observed by the Atacama Large Millimeter/sub-millimeter Array (ALMA) at the inner region ($r<6\\ {\\rm au}$) of the TW Hya disk and successfully derived the midplane temperature. Combining multi-band continuum observations, we constrain the albedo spectrum at $0.9-3$ mm for the first time without assuming a dust opacity model. The albedo at these wavelengths is high, $\\sim0.5-0.8$, and broadly consistent with the Ricci et al. (2010), DIANA, and DSHARP dust models. Even without assuming dust composition, we estimate the maximum grain size to be $\\sim 340\\ \\mu m$, the power law index of the grain size distribution to be $>-4.1$, and porosity to be $<0.96$. The derived dust size may suggest efficient fragmentation with the threshold velocity of $\\sim 0.08\\ {\\rm m\\ s^{-1}}$. We also note that the absolute flux uncertainty of $\\sim10\\%$ ($1\\sigma$) is measured and used in the analysis, which is approximately twice the usually assumed value.         |"
      ],
      "text/plain": [
       "[2412.10731] Dust Scattering Albedo at Millimeter-Wavelengths in the TW Hya Disk\n",
       "\tT. C. Yoshida, et al. -- incl., <mark>K. Doi</mark>"
      ]
     },
     "metadata": {},
     "output_type": "display_data"
    },
    {
     "data": {
      "text/markdown": [
       "\n",
       "|||\n",
       "|---:|:---|\n",
       "| [![arXiv](https://img.shields.io/badge/arXiv-2412.11945-b31b1b.svg)](https://arxiv.org/abs/2412.11945) | **Euclid: Field-level inference of primordial non-Gaussianity and cosmic initial conditions**  |\n",
       "|| A. Andrews, et al. -- incl., <mark>K. Jahnke</mark> |\n",
       "|*Appeared on*| *2024-12-17*|\n",
       "|*Comments*| *31 pages and 26 figures, 3 tables. Comments are welcome!*|\n",
       "|**Abstract**|            A primary target of the \\Euclid space mission is to constrain early-universe physics by searching for deviations from a primordial Gaussian random field. A significant detection of primordial non-Gaussianity would rule out the simplest models of cosmic inflation and transform our understanding of the origin of the Universe. This paper forecasts how well field-level inference of galaxy redshift surveys can constrain the amplitude of local primordial non-Gaussianity ($f_{NL}$), within a Bayesian hierarchical framework, in the upcoming \\Euclid data. We design and simulate mock data sets and perform Markov chain Monte Carlo analyses using a full-field forward modelling approach. By including the formation history of the cosmic matter field in the analysis, the method takes into account all available probes of primordial non-Gaussianity, and goes beyond statistical summary estimators of $f_{NL}$. Probes include, for example, two-point and higher-order statistics, peculiar velocity fields, and scale-dependent galaxy biases. Furthermore, the method simultaneously handles systematic survey effects, such as selection effects, survey geometries, and galaxy biases. The forecast shows that the method can reach precision levels of up to $\\sigma (f_{NL}) = 2.3$ (68.3\\% CI, and at the grid resolution $\\Delta L = 62.5\\,h^{-1}$Mpc) with \\Euclid data. We also provide data products, including realistic $N$-body simulations with nonzero values of $f_{NL}$ and maps of adiabatic curvature fluctuations. The results underscore the feasibility and advantages of field-level inference to constrain $f_{NL}$ in galaxy redshift surveys. Our approach consistently captures all the information available in the large-scale structure to constrain $f_{NL}$, and resolves the degeneracy between early-universe physics and late-time gravitational effects, while mitigating the impact of systematic and observational effects.         |"
      ],
      "text/plain": [
       "[2412.11945] Euclid: Field-level inference of primordial non-Gaussianity and cosmic initial conditions\n",
       "\tA. Andrews, et al. -- incl., <mark>K. Jahnke</mark>"
      ]
     },
     "metadata": {},
     "output_type": "display_data"
    },
    {
     "data": {
      "text/markdown": [
       "## Failed papers"
      ],
      "text/plain": [
       "<IPython.core.display.Markdown object>"
      ]
     },
     "metadata": {},
     "output_type": "display_data"
    },
    {
     "data": {
      "text/markdown": [
       "\n",
       "|||\n",
       "|---:|:---|\n",
       "| [![arXiv](https://img.shields.io/badge/arXiv-2412.11460-b31b1b.svg)](https://arxiv.org/abs/2412.11460) | **Observation of a spectral hardening in cosmic ray boron spectrum with the DAMPE space mission**  |\n",
       "|| D. Collaboration, et al. -- incl., <mark>J. Liu</mark> |\n",
       "|*Appeared on*| *2024-12-17*|\n",
       "|*Comments*| *10 pages, 10 figures, submitted to PRL*|\n",
       "|**Abstract**|            Secondary cosmic ray fluxes are important probes of the propagation and interaction of high-energy particles in the Galaxy. Recent measurements of primary and secondary cosmic ray nuclei have revealed unexpected spectral features that demand a deeper understanding. In this work we report the direct measurement of the cosmic ray boron spectrum from 10 TeV/n to 8 TeV/n with eight years of data collected by the Dark Matter Particle Explorer (DAMPE) mission. The measured spectrum shows an evident hardening at $182\\pm24$ GeV/n with a spectral power index of $\\gamma_1 = 3.02 \\pm 0.01$ before the break and an index change of $\\Delta \\gamma = 0.31 \\pm 0.05$ after the break. A simple power law model is disfavored at a confidence level of 8$\\sigma$. Compared with the hardenings measured in the DAMPE proton and helium spectra, the secondary boron spectrum hardens roughly twice as much as these primaries, which is consistent with a propagation related mechanism to interpret the spectral hardenings of cosmic rays observed at hundreds of GeV/n.         |\n",
       "|<p style=\"color:green\"> **ERROR** </p>| <p style=\"color:green\">affiliation error: mpia.affiliation_verifications: 'Heidelberg' keyword not found.</p> |"
      ],
      "text/plain": [
       "<IPython.core.display.Markdown object>"
      ]
     },
     "metadata": {},
     "output_type": "display_data"
    },
    {
     "data": {
      "text/markdown": [
       "\n",
       "|||\n",
       "|---:|:---|\n",
       "| [![arXiv](https://img.shields.io/badge/arXiv-2412.11545-b31b1b.svg)](https://arxiv.org/abs/2412.11545) | **Minute-cadence Observations of the LAMOST Fields with the TMTS: VI. Absolute Physical Parameters of Contact Binaries**  |\n",
       "|| Q. Xia, et al. -- incl., <mark>J. Shi</mark> |\n",
       "|*Appeared on*| *2024-12-17*|\n",
       "|*Comments*| **|\n",
       "|**Abstract**|            With the development of wide-field surveys, a large amount of data on short-period W UMa contact binaries have been obtained. Continuous and uninterrupted light curves as well as high-resolution spectroscopic data are crucial in determining the absolute physical parameters. Targets with both TMTS light curves and LAMOST medium-resolution spectra were selected. The absolute physical parameters were inferred with the W-D code for ten systems, all of them are W-type shallow or medium contact binaries. The O'Connell effect observed in the light curves can be explained by adding a spot on the primary or secondary component in the models. According to O-C analysis, the orbital periods exhibit a long-term increasing or decreasing trend, amongst which J0132, J1300, and J1402 show periodic variations that may be attributed to the presence of a third body or magnetic activity cycles. Spectral subtraction analysis revealed that the equivalent width of H$\\alpha$ indicates strong magnetic activity in J0047, J0305, J0638, and J1402. Among the 10 selected binary systems, except for J0132 and J0913, the more massive components are found to be main-sequence stars while the less massive components have evolved off the main sequence. In J0132, both components are in the main sequence, whereas both components of J0913 lie above the terminal-age main sequence. Based on the relationship between orbital angular momentum and total mass for these two systems, as well as their low fill-out factors, it is possible that these two systems are newly formed contact binaries, having recently evolved from the detached configuration.         |\n",
       "|<p style=\"color:green\"> **ERROR** </p>| <p style=\"color:green\">affiliation error: mpia.affiliation_verifications: 'Heidelberg' keyword not found.</p> |"
      ],
      "text/plain": [
       "<IPython.core.display.Markdown object>"
      ]
     },
     "metadata": {},
     "output_type": "display_data"
    },
    {
     "data": {
      "text/markdown": [
       "\n",
       "|||\n",
       "|---:|:---|\n",
       "| [![arXiv](https://img.shields.io/badge/arXiv-2412.11627-b31b1b.svg)](https://arxiv.org/abs/2412.11627) | **Combined analysis of the 12.8 and 15 $\\mu m$ JWST/MIRI eclipse observations of TRAPPIST-1 b**  |\n",
       "|| E. Ducrot, et al. -- incl., <mark>J. Bouwman</mark>, <mark>T. Henning</mark>, <mark>O. Krause</mark>, <mark>S. Scheithauer</mark> |\n",
       "|*Appeared on*| *2024-12-17*|\n",
       "|*Comments*| *49 pages, 3 main text figure, 2 extended figures, 10 supplementary figures, accepted for publication in Nature Astronomy on October 29, 2024*|\n",
       "|**Abstract**|            The first JWST/MIRI photometric observations of TRAPPIST-1 b allowed for the detection of the thermal emission of the planet at 15 $\\mu m$, suggesting that the planet could be a bare rock with a zero albedo and no redistribution of heat. These observations at 15 $\\mu m$ were acquired as part of GTO time that included a twin program at 12.8 $\\mu m$ in order to have a measurement in and outside the CO$_2$ absorption band. Here we present five new occultations of TRAPPIST-1 b observed with MIRI in an additional photometric band at 12.8 $\\mu m$. We perform a global fit of the 10 eclipses and derive a planet-to-star flux ratio and 1-$\\sigma$ error of 452 $\\pm$ 86 ppm and 775 $\\pm$ 90 ppm at 12.8 $\\mu m$ and 15 $\\mu m$, respectively. We find that two main scenarios emerge. An airless planet model with an unweathered (fresh) ultramafic surface, that could be indicative of relatively recent geological processes fits well the data. Alternatively, a thick, pure-CO2 atmosphere with photochemical hazes that create a temperature inversion and result in the CO2 feature being seen in emission also works, although with some caveats. Our results highlight the challenges in accurately determining a planet's atmospheric or surface nature solely from broadband filter measurements of its emission, but also point towards two very interesting scenarios that will be further investigated with the forthcoming phase curve of TRAPPIST-1 b.         |\n",
       "|<p style=\"color:red\"> **ERROR** </p>| <p style=\"color:red\">latex error Unable to locate Ghostscript on paths</p> |"
      ],
      "text/plain": [
       "<IPython.core.display.Markdown object>"
      ]
     },
     "metadata": {},
     "output_type": "display_data"
    }
   ],
   "source": [
    "import datetime\n",
    "today = str(datetime.date.today())\n",
    "logfile = f\"_build/html/logs/log-{today}.md\"\n",
    "\n",
    "\n",
    "with open(logfile, 'w') as logs:\n",
    "    # Success\n",
    "    logs.write(f'# Arxiv on Deck 2: Logs - {today}\\n\\n')\n",
    "    logs.write(\"\"\"* Arxiv had {0:,d} new papers\\n\"\"\".format(len(new_papers)))\n",
    "    logs.write(\"\"\"    * {0:,d} with possible author matches\\n\\n\"\"\".format(len(candidates)))\n",
    "    logs.write(\"## Sucessful papers\\n\\n\")\n",
    "    display(Markdown(\"## Successful papers\"))\n",
    "    success = [k[0] for k in documents]\n",
    "    for candid in candidates:\n",
    "        if candid['identifier'].split(':')[-1] in success:\n",
    "            display(candid)\n",
    "            logs.write(candid.generate_markdown_text() + '\\n\\n')\n",
    "\n",
    "    ## failed\n",
    "    logs.write(\"## Failed papers\\n\\n\")\n",
    "    display(Markdown(\"## Failed papers\"))\n",
    "    failed = sorted(failed, key=lambda x: x[1])\n",
    "    current_reason = \"\"\n",
    "    for paper, reason in failed:\n",
    "        if 'affiliation' in reason:\n",
    "            color = 'green'\n",
    "        else:\n",
    "            color = 'red'\n",
    "        data = Markdown(\n",
    "                paper.generate_markdown_text() + \n",
    "                f'\\n|<p style=\"color:{color:s}\"> **ERROR** </p>| <p style=\"color:{color:s}\">{reason:s}</p> |'\n",
    "               )\n",
    "        if reason != current_reason:\n",
    "            logs.write(f'### {reason:s} \\n\\n')\n",
    "            current_reason = reason\n",
    "        logs.write(data.data + '\\n\\n')\n",
    "        \n",
    "        # only display here the important errors (all in logs)\n",
    "        # if color in ('red',):\n",
    "        display(data)"
   ]
  },
  {
   "cell_type": "markdown",
   "id": "472d20ee",
   "metadata": {
    "papermill": {
     "duration": 0.005124,
     "end_time": "2024-12-17T04:14:06.751521",
     "exception": false,
     "start_time": "2024-12-17T04:14:06.746397",
     "status": "completed"
    },
    "tags": []
   },
   "source": [
    "## Export documents\n",
    "\n",
    "We now write the .md files and export relevant images"
   ]
  },
  {
   "cell_type": "code",
   "execution_count": 7,
   "id": "d426aed9",
   "metadata": {
    "execution": {
     "iopub.execute_input": "2024-12-17T04:14:06.762799Z",
     "iopub.status.busy": "2024-12-17T04:14:06.762431Z",
     "iopub.status.idle": "2024-12-17T04:14:06.769062Z",
     "shell.execute_reply": "2024-12-17T04:14:06.768508Z"
    },
    "papermill": {
     "duration": 0.013477,
     "end_time": "2024-12-17T04:14:06.770127",
     "exception": false,
     "start_time": "2024-12-17T04:14:06.756650",
     "status": "completed"
    },
    "tags": []
   },
   "outputs": [],
   "source": [
    "def export_markdown_summary(md: str, md_fname:str, directory: str):\n",
    "    \"\"\"Export MD document and associated relevant images\"\"\"\n",
    "    import os\n",
    "    import shutil\n",
    "    import re\n",
    "\n",
    "    if (os.path.exists(directory) and not os.path.isdir(directory)):\n",
    "        raise RuntimeError(f\"a non-directory file exists with name {directory:s}\")\n",
    "\n",
    "    if (not os.path.exists(directory)):\n",
    "        print(f\"creating directory {directory:s}\")\n",
    "        os.mkdir(directory)\n",
    "\n",
    "    fig_fnames = (re.compile(r'\\[Fig.*\\]\\((.*)\\)').findall(md) + \n",
    "                  re.compile(r'\\<img src=\"([^>\\s]*)\"[^>]*/>').findall(md))\n",
    "    print(\"found figures\", fig_fnames)\n",
    "    for fname in fig_fnames:\n",
    "        if 'http' in fname:\n",
    "            # No need to copy online figures\n",
    "            continue\n",
    "        if not os.path.exists(fname):\n",
    "            print(\"file not found\", fname)\n",
    "            continue\n",
    "        print(\"copying \", fname, \"to\", directory)\n",
    "        destdir = os.path.join(directory, os.path.dirname(fname))\n",
    "        destfname = os.path.join(destdir, os.path.basename(fname))\n",
    "        try:\n",
    "            os.makedirs(destdir)\n",
    "        except FileExistsError:\n",
    "            pass\n",
    "        shutil.copy(fname, destfname)\n",
    "    with open(os.path.join(directory, md_fname), 'w') as fout:\n",
    "        fout.write(md)\n",
    "    print(\"exported in \", os.path.join(directory, md_fname))\n",
    "    [print(\"    + \" + os.path.join(directory,fk)) for fk in fig_fnames]"
   ]
  },
  {
   "cell_type": "code",
   "execution_count": 8,
   "id": "014d04a4",
   "metadata": {
    "execution": {
     "iopub.execute_input": "2024-12-17T04:14:06.781711Z",
     "iopub.status.busy": "2024-12-17T04:14:06.781265Z",
     "iopub.status.idle": "2024-12-17T04:14:06.792128Z",
     "shell.execute_reply": "2024-12-17T04:14:06.791611Z"
    },
    "papermill": {
     "duration": 0.017638,
     "end_time": "2024-12-17T04:14:06.793106",
     "exception": false,
     "start_time": "2024-12-17T04:14:06.775468",
     "status": "completed"
    },
    "tags": []
   },
   "outputs": [
    {
     "name": "stdout",
     "output_type": "stream",
     "text": [
      "found figures ['tmp_2412.10506/./Figures/HCN_scaling_relations_centre_vs_disc_compressed_v2.png', 'tmp_2412.10506/./Figures/GS_relation_literature_compilation_compressed.png', 'tmp_2412.10506/./Figures/ALMOND_vs_EMPIRE_spectra_compressed_v2.png']\n",
      "copying  tmp_2412.10506/./Figures/HCN_scaling_relations_centre_vs_disc_compressed_v2.png to _build/html/\n",
      "copying  tmp_2412.10506/./Figures/GS_relation_literature_compilation_compressed.png to _build/html/\n",
      "copying  tmp_2412.10506/./Figures/ALMOND_vs_EMPIRE_spectra_compressed_v2.png to _build/html/\n",
      "exported in  _build/html/2412.10506.md\n",
      "    + _build/html/tmp_2412.10506/./Figures/HCN_scaling_relations_centre_vs_disc_compressed_v2.png\n",
      "    + _build/html/tmp_2412.10506/./Figures/GS_relation_literature_compilation_compressed.png\n",
      "    + _build/html/tmp_2412.10506/./Figures/ALMOND_vs_EMPIRE_spectra_compressed_v2.png\n",
      "found figures ['tmp_2412.10731/././figure/spectra.png', 'tmp_2412.10731/././figure/fg.png', 'tmp_2412.10731/././figure/fg.png']\n",
      "copying  tmp_2412.10731/././figure/spectra.png to _build/html/\n",
      "copying  tmp_2412.10731/././figure/fg.png to _build/html/\n",
      "copying  tmp_2412.10731/././figure/fg.png to _build/html/\n",
      "exported in  _build/html/2412.10731.md\n",
      "    + _build/html/tmp_2412.10731/././figure/spectra.png\n",
      "    + _build/html/tmp_2412.10731/././figure/fg.png\n",
      "    + _build/html/tmp_2412.10731/././figure/fg.png\n",
      "found figures ['tmp_2412.11945/./Images/Results/pyramid_cat1_temp.png', 'tmp_2412.11945/./Images/Results/test_one_2250.png', 'tmp_2412.11945/./Images/Pedagogical/physics_fc2.png']\n",
      "copying  tmp_2412.11945/./Images/Results/pyramid_cat1_temp.png to _build/html/\n",
      "copying  tmp_2412.11945/./Images/Results/test_one_2250.png to _build/html/\n",
      "copying  tmp_2412.11945/./Images/Pedagogical/physics_fc2.png to _build/html/\n",
      "exported in  _build/html/2412.11945.md\n",
      "    + _build/html/tmp_2412.11945/./Images/Results/pyramid_cat1_temp.png\n",
      "    + _build/html/tmp_2412.11945/./Images/Results/test_one_2250.png\n",
      "    + _build/html/tmp_2412.11945/./Images/Pedagogical/physics_fc2.png\n"
     ]
    }
   ],
   "source": [
    "for paper_id, md in documents:\n",
    "    export_markdown_summary(md, f\"{paper_id:s}.md\", '_build/html/')"
   ]
  },
  {
   "cell_type": "markdown",
   "id": "f087a0a7",
   "metadata": {
    "papermill": {
     "duration": 0.005283,
     "end_time": "2024-12-17T04:14:06.803786",
     "exception": false,
     "start_time": "2024-12-17T04:14:06.798503",
     "status": "completed"
    },
    "tags": []
   },
   "source": [
    "## Display the papers\n",
    "\n",
    "Not necessary but allows for a quick check."
   ]
  },
  {
   "cell_type": "code",
   "execution_count": 9,
   "id": "fd25f625",
   "metadata": {
    "execution": {
     "iopub.execute_input": "2024-12-17T04:14:06.815616Z",
     "iopub.status.busy": "2024-12-17T04:14:06.815091Z",
     "iopub.status.idle": "2024-12-17T04:14:06.822023Z",
     "shell.execute_reply": "2024-12-17T04:14:06.821471Z"
    },
    "papermill": {
     "duration": 0.01379,
     "end_time": "2024-12-17T04:14:06.822988",
     "exception": false,
     "start_time": "2024-12-17T04:14:06.809198",
     "status": "completed"
    },
    "scrolled": false,
    "tags": []
   },
   "outputs": [
    {
     "data": {
      "text/markdown": [
       "<div class=\"macros\" style=\"visibility:hidden;\">\n",
       "$\\newcommand{\\ensuremath}{}$\n",
       "$\\newcommand{\\xspace}{}$\n",
       "$\\newcommand{\\object}[1]{\\texttt{#1}}$\n",
       "$\\newcommand{\\farcs}{{.}''}$\n",
       "$\\newcommand{\\farcm}{{.}'}$\n",
       "$\\newcommand{\\arcsec}{''}$\n",
       "$\\newcommand{\\arcmin}{'}$\n",
       "$\\newcommand{\\ion}[2]{#1#2}$\n",
       "$\\newcommand{\\textsc}[1]{\\textrm{#1}}$\n",
       "$\\newcommand{\\hl}[1]{\\textrm{#1}}$\n",
       "$\\newcommand{\\footnote}[1]{}$\n",
       "$\\newcommand{\\cmark}{\\textcolor{green}{\\ding{51}}}$\n",
       "$\\newcommand{\\xmark}{\\textcolor{red}{\\ding{55}}}$</div>\n",
       "\n",
       "\n",
       "\n",
       "<div id=\"title\">\n",
       "\n",
       "# Dense gas scaling relations at kiloparsec scale across nearby galaxies with the ALMA ALMOND and IRAM 30-m EMPIRE surveys\n",
       "\n",
       "</div>\n",
       "<div id=\"comments\">\n",
       "\n",
       "[![arXiv](https://img.shields.io/badge/arXiv-2412.10506-b31b1b.svg)](https://arxiv.org/abs/2412.10506)<mark>Appeared on: 2024-12-17</mark> -  _6 pages, 3 figures. Accepted for publication in Astronomy & Astrophysics Letters_\n",
       "\n",
       "</div>\n",
       "<div id=\"authors\">\n",
       "\n",
       "L. Neumann, et al. -- incl., <mark>E. Schinnerer</mark>\n",
       "\n",
       "</div>\n",
       "<div id=\"abstract\">\n",
       "\n",
       "**Abstract:** Dense, cold gas is the key ingredient for star formation.   Over the last two decades, HCN(1--0) emission has been utilised as the most accessible dense gas tracer to study external galaxies.   We present new measurements tracing the relationship between dense gas tracers, bulk molecular gas tracers, and star formation in the ALMA ALMOND survey, the largest sample of resolved ( $1-2$ kpc resolution) HCN maps of galaxies in the local universe ( $d < 25 $ Mpc).   We measure HCN/CO, a line ratio sensitive to the physical density distribution, and SFR/HCN, a proxy for the dense gas star formation efficiency, as a function of molecular gas surface density, stellar mass surface density, and dynamical equilibrium pressure across 31 galaxies, increasing the number of galaxies by a factor of $>3$ over the previous largest such study (EMPIRE).    HCN/CO increases (slope of $\\approx\\num{0.5}$ and scatter of $\\approx\\SI{0.2}{\\dex}$ ), while SFR/HCN decreases (slope of $\\approx\\num{-0.6}$ and scatter of $\\approx\\SI{0.4}{\\dex}$ ) with increasing molecular gas surface density, stellar mass surface density and pressure.    Galaxy centres with high stellar mass surface density show a factor of a few higher HCN/CO and lower SFR/HCN compared to the disc average, but both environments follow the same average trend.   Our results emphasise that molecular gas properties vary systematically with the galactic environment and demonstrate that the scatter in the Gao-Solomon relation (SFR against HCN) is of physical origin.\n",
       "\n",
       "</div>\n",
       "\n",
       "<div id=\"div_fig1\">\n",
       "\n",
       "<img src=\"tmp_2412.10506/./Figures/HCN_scaling_relations_centre_vs_disc_compressed_v2.png\" alt=\"Fig6\" width=\"100%\"/>\n",
       "\n",
       "**Figure 6. -** Dense gas relations with kiloparsec-scale environment.\n",
       "HCN/CO _(top)_, a proxy of \\fdense, and SFR/HCN _(bottom)_, a proxy of \\sfedense, as a function of stellar mass surface density (\\sigstar), molecular gas surface density (\\sigmol), and dynamical equilibrium pressure (\\pde) across 31 galaxies from ALMOND and EMPIRE.\n",
       "The markers denote significant ($\\snr\\geq 3$) stacked measurements across disc (circle) and centre (triangle) spaxels.\n",
       "The downward and upward pointing arrows denote upper (HCN/CO) and lower limits (SFR/HCN).\n",
       "Filled contours show 25, 50, and 75 percentile kernel density estimates.\n",
       "Across centres, we indicate the presence of an AGN (cross).\n",
       "All relations have been fitted with \\texttt{LinMix} taking into account measurement uncertainties and upper/lower limits (parameters in Table \\ref{tab:environment}).\n",
       "The black solid line shows the best-fit line and the grey-shaded area indicates the 1-sigma scatter of $\\snr\\geq 3$ data.\n",
       "The right panels show violin plots of the HCN/CO and SFR/HCN distribution across the respective samples (disc, centre, centre with AGN), where the black bar and white markers indicate the 25th to 75th percentile range and the median, respectively, across the $\\snr\\geq 3$ data.\n",
       "The vertical cyan lines in the disc violins mark the median computed from all \\snr data.\n",
       " (*fig:hcn_scaling_relations*)\n",
       "\n",
       "</div>\n",
       "<div id=\"div_fig2\">\n",
       "\n",
       "<img src=\"tmp_2412.10506/./Figures/GS_relation_literature_compilation_compressed.png\" alt=\"Fig5\" width=\"100%\"/>\n",
       "\n",
       "**Figure 5. -** Gao--Solomon relation. Star formation rate (SFR, top) and $\\mathrm{SFR}/\\lhcn$(proxy of \\sfedense, bottom) as a function of HCN luminosity, across a literature compilation and the ALMOND (blue circles) and EMPIRE (red circles) surveys.\n",
       "Note that we re-calculate SFR across EMPIRE galaxies using a combination of IR and FUV data (see Sect. \\ref{sec:data}).\n",
       "Our literature compilation contains HCN observations that include Galactic clumps and clouds (squares), resolved nearby galaxies (circles) and unresolved entire galaxies (diamonds).\n",
       "For more details on the compilation see Appendix \\ref{sec:app:literature}.\n",
       "The plotted data points show all (3-sigma) detected sightlines.\n",
       "The black solid line shows the median SFR/HCN computed from these data points across all data sets (without duplicates across targets), and the dashed lines mark the 1-sigma scatter (Table \\ref{tab:gao_solomon}).\n",
       "The bottom panel shows the ratio SFR/HCN as a function of \\lhcn, grouping the data into the same sub-samples where the 10-percentile density contours of the respective sub-samples are shown.\n",
       "We plot ALMOND and EMPIRE separately, and the blue and red contours present the 10-percentile levels of these surveys.\n",
       " (*fig:gao_solomon_relation*)\n",
       "\n",
       "</div>\n",
       "<div id=\"div_fig3\">\n",
       "\n",
       "<img src=\"tmp_2412.10506/./Figures/ALMOND_vs_EMPIRE_spectra_compressed_v2.png\" alt=\"Fig2\" width=\"100%\"/>\n",
       "\n",
       "**Figure 2. -** EMPIRE versus ALMOND: \\hcnone average spectra.\n",
       "The blue and red lines show average HCN brightness temperatures within $\\rgal\\leq\\SI{5}{\\kilo\\parsec}$ obtained from spatially and spectrally matched ALMOND and EMPIRE observations, respectively, across the three galaxies NGC 628, NGC 2903, NGC 4321 from top to bottom.\n",
       "The grey dashed line shows (homogenised) \\cotwo intensities from PHANGS--ALMA  ([Leroy, Schinnerer and Hughes 2021]()) , scaled down by a factor of 20.\n",
       "The grey-shaded area indicates the velocity-integration window constructed using the highly significant \\cotwo data.\n",
       "The resulting integrated intensities are quoted in the text.\n",
       " (*fig:empire_vs_almond_spectra*)\n",
       "\n",
       "</div><div id=\"qrcode\"><img src=https://api.qrserver.com/v1/create-qr-code/?size=100x100&data=\"https://arxiv.org/abs/2412.10506\"></div>"
      ],
      "text/plain": [
       "<IPython.core.display.Markdown object>"
      ]
     },
     "metadata": {},
     "output_type": "display_data"
    },
    {
     "data": {
      "text/markdown": [
       "<div class=\"macros\" style=\"visibility:hidden;\">\n",
       "$\\newcommand{\\ensuremath}{}$\n",
       "$\\newcommand{\\xspace}{}$\n",
       "$\\newcommand{\\object}[1]{\\texttt{#1}}$\n",
       "$\\newcommand{\\farcs}{{.}''}$\n",
       "$\\newcommand{\\farcm}{{.}'}$\n",
       "$\\newcommand{\\arcsec}{''}$\n",
       "$\\newcommand{\\arcmin}{'}$\n",
       "$\\newcommand{\\ion}[2]{#1#2}$\n",
       "$\\newcommand{\\textsc}[1]{\\textrm{#1}}$\n",
       "$\\newcommand{\\hl}[1]{\\textrm{#1}}$\n",
       "$\\newcommand{\\footnote}[1]{}$\n",
       "$\\newcommand{\\vdag}{(v)^\\dagger}$\n",
       "$\\newcommand$\n",
       "$\\newcommand$\n",
       "$\\newcommand{\\kms}{{\\rm km s^{-1}}}$</div>\n",
       "\n",
       "\n",
       "\n",
       "<div id=\"title\">\n",
       "\n",
       "# Dust Scattering Albedo at Millimeter-Wavelengths in the TW Hya Disk\n",
       "\n",
       "</div>\n",
       "<div id=\"comments\">\n",
       "\n",
       "[![arXiv](https://img.shields.io/badge/arXiv-2412.10731-b31b1b.svg)](https://arxiv.org/abs/2412.10731)<mark>Appeared on: 2024-12-17</mark> -  _19 pages, 16 figures, accepted for publication in ApJ_\n",
       "\n",
       "</div>\n",
       "<div id=\"authors\">\n",
       "\n",
       "T. C. Yoshida, et al. -- incl., <mark>K. Doi</mark>\n",
       "\n",
       "</div>\n",
       "<div id=\"abstract\">\n",
       "\n",
       "**Abstract:** Planetary bodies are formed by coagulation of solid dust grains in protoplanetary disks.Therefore, it is crucial to constrain the physical and chemical properties of the dust grains.In this study, we measure the dust albedo at mm-wavelength, which depends on dust properties at the disk midplane.Since the albedo and dust temperature are generally degenerate in observed thermal dust emission, it is challenging to determine them simultaneously.We propose to break this degeneracy by using multiple optically-thin molecular lines as a dust-albedo independent thermometer.In practice, we employ pressure-broadened CO line wings that provide an exceptionally high signal-to-noise ratio as an optically thin line.We model the CO $J=2-1$ and $3-2$ spectra observed by the Atacama Large Millimeter/sub-millimeter Array (ALMA) at the inner region ( $r<6 {\\rm au}$ ) of the TW Hya disk and successfully derived the midplane temperature.Combining multi-band continuum observations, we constrain the albedo spectrum at $0.9-3$ mm for the first time without assuming a dust opacity model.The albedo at these wavelengths is high, $\\sim0.5-0.8$ , and broadly consistent with the \\citet{ricc10} , DIANA, and DSHARP dust models.Even without assuming dust composition, we estimate the maximum grain size to be $\\sim 340 \\mu m$ , power law index of the grain size distribution to be $>-4.1$ , and porosity to be $<0.96$ .The derived dust size may suggest efficient fragmentation with the threshold velocity of $\\sim 0.08 {\\rm m s^{-1}}$ .We also note that the absolute flux uncertainty of $\\sim10\\%$ ( $1\\sigma$ ) is measured and used in the analysis, which is approximately twice the usually assumed value.\n",
       "\n",
       "</div>\n",
       "\n",
       "<div id=\"div_fig1\">\n",
       "\n",
       "<img src=\"tmp_2412.10731/././figure/spectra.png\" alt=\"Fig14\" width=\"100%\"/>\n",
       "\n",
       "**Figure 14. -**  CO $J=2-1$(blue) and $J=3-2$(orange) spectra at the center ($r<6 {\\rm au}$) of the TW Hya disk. The bottom panels are the zoom-in version of the top panel. The grey lines indicate the models created from parameters randomly sampled from the MCMC chain (Section \\ref{sec:res1}). The gray-shaded regions ($|v| < 4 {\\rm km s^{-1}}$) are not used for fitting. (*fig:spec*)\n",
       "\n",
       "</div>\n",
       "<div id=\"div_fig2\">\n",
       "\n",
       "<img src=\"tmp_2412.10731/././figure/fg.png\" alt=\"Fig9\" width=\"100%\"/>\n",
       "\n",
       "**Figure 9. -**  Line emerging factor $f_g$ as a function of $\\omega$ and $B(T_g)/B(T_d)$. (*fig:fg*)\n",
       "\n",
       "</div>\n",
       "<div id=\"div_fig3\">\n",
       "\n",
       "<img src=\"tmp_2412.10731/././figure/fg.png\" alt=\"Fig12\" width=\"100%\"/>\n",
       "\n",
       "**Figure 12. -**  Line emerging factor $f_g$ as a function of $\\omega$ and $B(T_g)/B(T_d)$. (*fig:fg*)\n",
       "\n",
       "</div><div id=\"qrcode\"><img src=https://api.qrserver.com/v1/create-qr-code/?size=100x100&data=\"https://arxiv.org/abs/2412.10731\"></div>"
      ],
      "text/plain": [
       "<IPython.core.display.Markdown object>"
      ]
     },
     "metadata": {},
     "output_type": "display_data"
    },
    {
     "data": {
      "text/markdown": [
       "<div class=\"macros\" style=\"visibility:hidden;\">\n",
       "$\\newcommand{\\ensuremath}{}$\n",
       "$\\newcommand{\\xspace}{}$\n",
       "$\\newcommand{\\object}[1]{\\texttt{#1}}$\n",
       "$\\newcommand{\\farcs}{{.}''}$\n",
       "$\\newcommand{\\farcm}{{.}'}$\n",
       "$\\newcommand{\\arcsec}{''}$\n",
       "$\\newcommand{\\arcmin}{'}$\n",
       "$\\newcommand{\\ion}[2]{#1#2}$\n",
       "$\\newcommand{\\textsc}[1]{\\textrm{#1}}$\n",
       "$\\newcommand{\\hl}[1]{\\textrm{#1}}$\n",
       "$\\newcommand{\\footnote}[1]{}$\n",
       "$\\newcommand{\\borg}{\\texttt{BORG}\\xspace}$\n",
       "$\\newcommand{\\fnl}{{f_\\mathrm{NL}}}$\n",
       "$\\newcommand{\\bpd}{{b_{\\phi ,   \\delta}}}$\n",
       "$\\newcommand{\\euclid}{\\textit{Euclid}}$\n",
       "$\\newcommand{\\aanote}[1]{\\textbf{\\textcolor{purple}{\\textbf{AA:} #1\\\\}}}$\n",
       "$\\newcommand{\\fnll}{f_{\\mathrm{NL}}^{\\mathrm{local}}}$\n",
       "$\\newcommand{\\Mpch}{\\ensuremath{h^{-1} \\text{Mpc}}}$\n",
       "$\\newcommand{\\hMpc}{\\ensuremath{h\\;\\text{Mpc}^{-1}}}$\n",
       "$\\newcommand{\\mvec}[1]{{\\mathbf{#1}}}$\n",
       "$\\newcommand{\\GL}[1]{{\\bf\\color{darkgreen} #1}}$\n",
       "$\\newcommand{\\GLrep}[2]{{\\bf\\color{darkgreen} [GL: \\sout{#1} #2]}}$\n",
       "$\\newcommand{\\replace}[2]{#2}$\n",
       "$\\newcommand{\\new}[1]{#1}$\n",
       "$\\newcommand{\\orcid}[1]$\n",
       "$\\newcommand\\mb{#1}$\n",
       "$\\newcommand\\MB{#1}$\n",
       "$\\newcommand{\\UrlFont}{\\rmfamily}$</div>\n",
       "\n",
       "\n",
       "\n",
       "<div id=\"title\">\n",
       "\n",
       "# $\\Euclid$: Field-level inference of primordial non-Gaussianity and cosmic initial conditions$\\thanks{This paper is published on behalf of the Euclid Consortium.}$\n",
       "\n",
       "</div>\n",
       "<div id=\"comments\">\n",
       "\n",
       "[![arXiv](https://img.shields.io/badge/arXiv-2412.11945-b31b1b.svg)](https://arxiv.org/abs/2412.11945)<mark>Appeared on: 2024-12-17</mark> -  _31 pages and 26 figures, 3 tables. Comments are welcome!_\n",
       "\n",
       "</div>\n",
       "<div id=\"authors\">\n",
       "\n",
       "A. Andrews, et al. -- incl., <mark>K. Jahnke</mark>\n",
       "\n",
       "</div>\n",
       "<div id=\"abstract\">\n",
       "\n",
       "**Abstract:** A primary target of the $\\Euclid$ space mission is to constrain early-universe physics by searching for deviations from a primordial Gaussian random field. A significant detection of primordial non-Gaussianity would rule out the simplest models of cosmic inflation and transform our understanding of the origin of the Universe.  This paper forecasts how well field-level inference of galaxy redshift surveys can constrain the amplitude of local primordial non-Gaussianity ( $\\fnll$ ), within a Bayesian hierarchical framework, in the upcoming $\\Euclid$ data. We design and simulate mock data sets and perform Markov chain Monte Carlo analyses using a full-field forward modelling approach.  By including the formation history of the cosmic matter field in the analysis, the method takes into account all available probes of primordial non-Gaussianity, and goes beyond statistical summary estimators of $\\fnll$ . Probes include, for example, two-point and higher-order statistics, peculiar velocity fields, and scale-dependent galaxy biases. Furthermore, the method simultaneously handles systematic survey effects, such as selection effects, survey geometries, and galaxy biases.  The forecast shows that the method can reach precision levels of up to $\\sigma \\left( \\fnll \\right) = 2.3$ (68.3 \\% confidence interval, and at the grid resolution $\\Delta L = 62.5 \\Mpch$ ) with $\\Euclid$ data. We also provide data products, including realistic $N$ -body simulations with nonzero values of $\\fnll$ and maps of adiabatic curvature fluctuations.  The results underscore the feasibility and advantages of field-level inference to constrain $\\fnll$ in galaxy redshift surveys. Our approach consistently captures all the information available in the large-scale structure to constrain $\\fnll$ , and resolves the degeneracy between early-universe physics and late-time gravitational effects, while mitigating the impact of systematic and observational effects.\n",
       "\n",
       "</div>\n",
       "\n",
       "<div id=\"div_fig1\">\n",
       "\n",
       "<img src=\"tmp_2412.11945/./Images/Results/pyramid_cat1_temp.png\" alt=\"Fig18\" width=\"100%\"/>\n",
       "\n",
       "**Figure 18. -** Corner plot for $\\fnl$ and bias parameters, for Run \\#3, catalogue 1. The corner plot displays the joint distributions and marginal distributions of the variables in the multidimensional data set covered by $\\fnl$ and the bias parameters. Each subplot captures the relationships between pairs of variables, offering an overview of the data set structure and dependencies. For the main run, there are few to no degeneracies in the bias parameters. (*fig:pyramid_3_1*)\n",
       "\n",
       "</div>\n",
       "<div id=\"div_fig2\">\n",
       "\n",
       "<img src=\"tmp_2412.11945/./Images/Results/test_one_2250.png\" alt=\"Fig6\" width=\"100%\"/>\n",
       "\n",
       "**Figure 6. -** Mollweide projection of the **ground truth** adiabatic curvature fluctuation map. The projection is computed for a distance of $r=2250   $\\Mpch$$, for an observer placed in the centre of the cube, and multiplied by the window selection function. (*fig:acf_projection_one*)\n",
       "\n",
       "</div>\n",
       "<div id=\"div_fig3\">\n",
       "\n",
       "<img src=\"tmp_2412.11945/./Images/Pedagogical/physics_fc2.png\" alt=\"Fig10\" width=\"100%\"/>\n",
       "\n",
       "**Figure 10. -** Flow chart illustrating the forward model implemented into $\\borg$\\citep{jasche_bayesian_2013,andrews_bayesian_2023}. The forward model connects a set of initial conditions to a model prediction. This output can then be compared to the data at the field level through a likelihood evaluation. The parameter under each box represents the output of the box and what is provided to the next step of the forward model. The parameters above some boxes represent the additional input of each computation, especially highlighting the inclusion of the $f_{\\mathrm{NL}}^{\\mathrm{local}}$ parameter. (*fig:flowchart*)\n",
       "\n",
       "</div><div id=\"qrcode\"><img src=https://api.qrserver.com/v1/create-qr-code/?size=100x100&data=\"https://arxiv.org/abs/2412.11945\"></div>"
      ],
      "text/plain": [
       "<IPython.core.display.Markdown object>"
      ]
     },
     "metadata": {},
     "output_type": "display_data"
    }
   ],
   "source": [
    "[display(Markdown(k[1])) for k in documents];"
   ]
  },
  {
   "cell_type": "markdown",
   "id": "873873a4",
   "metadata": {
    "papermill": {
     "duration": 0.005806,
     "end_time": "2024-12-17T04:14:06.834790",
     "exception": false,
     "start_time": "2024-12-17T04:14:06.828984",
     "status": "completed"
    },
    "tags": []
   },
   "source": [
    "# Create HTML index"
   ]
  },
  {
   "cell_type": "code",
   "execution_count": 10,
   "id": "cf665672",
   "metadata": {
    "execution": {
     "iopub.execute_input": "2024-12-17T04:14:06.847463Z",
     "iopub.status.busy": "2024-12-17T04:14:06.847220Z",
     "iopub.status.idle": "2024-12-17T04:14:06.855641Z",
     "shell.execute_reply": "2024-12-17T04:14:06.855135Z"
    },
    "papermill": {
     "duration": 0.015919,
     "end_time": "2024-12-17T04:14:06.856609",
     "exception": false,
     "start_time": "2024-12-17T04:14:06.840690",
     "status": "completed"
    },
    "tags": []
   },
   "outputs": [
    {
     "name": "stdout",
     "output_type": "stream",
     "text": [
      "286  publications files modified in the last 7 days.\n"
     ]
    }
   ],
   "source": [
    "from datetime import datetime, timedelta, timezone\n",
    "from glob import glob\n",
    "import os\n",
    "\n",
    "files = glob('_build/html/*.md')\n",
    "days = 7\n",
    "now = datetime.today()\n",
    "res = []\n",
    "for fk in files:\n",
    "    stat_result = os.stat(fk).st_ctime\n",
    "    modified = datetime.fromtimestamp(stat_result, tz=timezone.utc).replace(tzinfo=None)\n",
    "    delta = now.today() - modified\n",
    "    if delta <= timedelta(days=days):\n",
    "        res.append((delta.seconds, fk))\n",
    "res = [k[1] for k in reversed(sorted(res, key=lambda x:x[1]))]\n",
    "npub = len(res)\n",
    "print(len(res), f\" publications files modified in the last {days:d} days.\")\n",
    "# [ print('\\t', k) for k in res ];"
   ]
  },
  {
   "cell_type": "code",
   "execution_count": 11,
   "id": "015de740",
   "metadata": {
    "execution": {
     "iopub.execute_input": "2024-12-17T04:14:06.869258Z",
     "iopub.status.busy": "2024-12-17T04:14:06.869017Z",
     "iopub.status.idle": "2024-12-17T04:14:06.886937Z",
     "shell.execute_reply": "2024-12-17T04:14:06.886422Z"
    },
    "papermill": {
     "duration": 0.025338,
     "end_time": "2024-12-17T04:14:06.887926",
     "exception": false,
     "start_time": "2024-12-17T04:14:06.862588",
     "status": "completed"
    },
    "tags": []
   },
   "outputs": [
    {
     "name": "stdout",
     "output_type": "stream",
     "text": [
      "15  publications in the last 7 days.\n"
     ]
    }
   ],
   "source": [
    "import datetime\n",
    "from glob import glob\n",
    "\n",
    "def get_last_n_days(lst, days=1):\n",
    "    \"\"\" Get the documents from the last n days \"\"\"\n",
    "    sorted_lst = sorted(lst, key=lambda x: x[1], reverse=True)\n",
    "    for fname, date in sorted_lst:\n",
    "        if date >= str(datetime.date.today() - datetime.timedelta(days=days)):\n",
    "            yield fname\n",
    "\n",
    "def extract_appearance_dates(lst_file):\n",
    "    dates = []\n",
    "\n",
    "    def get_date(line):\n",
    "        return line\\\n",
    "            .split('Appeared on:')[-1]\\\n",
    "            .split('</mark>')[0].strip()\n",
    "\n",
    "    for fname in lst:\n",
    "        with open(fname, 'r') as f:\n",
    "            found_date = False\n",
    "            for line in f:\n",
    "                if not found_date:\n",
    "                    if \"Appeared on\" in line:\n",
    "                        found_date = True\n",
    "                        dates.append((fname, get_date(line)))\n",
    "                else:\n",
    "                    break\n",
    "    return dates\n",
    "\n",
    "from glob import glob\n",
    "lst = glob('_build/html/*md')\n",
    "days = 7\n",
    "dates = extract_appearance_dates(lst)\n",
    "res = list(get_last_n_days(dates, days))\n",
    "npub = len(res)\n",
    "print(len(res), f\" publications in the last {days:d} days.\")"
   ]
  },
  {
   "cell_type": "code",
   "execution_count": 12,
   "id": "52ca0208",
   "metadata": {
    "execution": {
     "iopub.execute_input": "2024-12-17T04:14:06.900975Z",
     "iopub.status.busy": "2024-12-17T04:14:06.900739Z",
     "iopub.status.idle": "2024-12-17T04:14:06.905758Z",
     "shell.execute_reply": "2024-12-17T04:14:06.905211Z"
    },
    "papermill": {
     "duration": 0.012593,
     "end_time": "2024-12-17T04:14:06.906751",
     "exception": false,
     "start_time": "2024-12-17T04:14:06.894158",
     "status": "completed"
    },
    "scrolled": false,
    "tags": []
   },
   "outputs": [],
   "source": [
    "def create_carousel(npub=4):\n",
    "    \"\"\" Generate the HTML code for a carousel with `npub` slides \"\"\"\n",
    "    carousel = [\"\"\"  <div class=\"carousel\" \"\"\",\n",
    "                \"\"\"       data-flickity='{ \"autoPlay\": 10000, \"adaptiveHeight\": true, \"resize\": true, \"wrapAround\": true, \"pauseAutoPlayOnHover\": true, \"groupCells\": 1 }' id=\"asyncTypeset\">\"\"\"\n",
    "                ]\n",
    "    \n",
    "    item_str = \"\"\"    <div class=\"carousel-cell\"> <div id=\"slide{k}\" class=\"md_view\">Content {k}</div> </div>\"\"\"\n",
    "    for k in range(1, npub + 1):\n",
    "        carousel.append(item_str.format(k=k))\n",
    "    carousel.append(\"  </div>\")\n",
    "    return '\\n'.join(carousel)\n",
    "\n",
    "def create_grid(npub=4):\n",
    "    \"\"\" Generate the HTML code for a flat grid with `npub` slides \"\"\"\n",
    "    grid = [\"\"\"  <div class=\"grid\"> \"\"\",\n",
    "                ]\n",
    "    \n",
    "    item_str = \"\"\"    <div class=\"grid-item\"> <div id=\"slide{k}\" class=\"md_view\">Content {k}</div> </div>\"\"\"\n",
    "    for k in range(1, npub + 1):\n",
    "        grid.append(item_str.format(k=k))\n",
    "    grid.append(\"  </div>\")\n",
    "    return '\\n'.join(grid)"
   ]
  },
  {
   "cell_type": "code",
   "execution_count": 13,
   "id": "a6eac5b6",
   "metadata": {
    "execution": {
     "iopub.execute_input": "2024-12-17T04:14:06.919856Z",
     "iopub.status.busy": "2024-12-17T04:14:06.919366Z",
     "iopub.status.idle": "2024-12-17T04:14:06.924299Z",
     "shell.execute_reply": "2024-12-17T04:14:06.923795Z"
    },
    "papermill": {
     "duration": 0.012395,
     "end_time": "2024-12-17T04:14:06.925236",
     "exception": false,
     "start_time": "2024-12-17T04:14:06.912841",
     "status": "completed"
    },
    "scrolled": false,
    "tags": []
   },
   "outputs": [],
   "source": [
    "carousel = create_carousel(npub)\n",
    "docs = ', '.join(['\"{0:s}\"'.format(k.split('/')[-1]) for k in res])\n",
    "slides = ', '.join([f'\"slide{k}\"' for k in range(1, npub + 1)])\n",
    "\n",
    "with open(\"daily_template.html\", \"r\") as tpl:\n",
    "    page = tpl.read()\n",
    "    page = page.replace(\"{%-- carousel:s --%}\", carousel)\\\n",
    "               .replace(\"{%-- suptitle:s --%}\",  \"7-day archives\" )\\\n",
    "               .replace(\"{%-- docs:s --%}\", docs)\\\n",
    "               .replace(\"{%-- slides:s --%}\", slides)\n",
    "    \n",
    "with open(\"_build/html/index_7days.html\", 'w') as fout:\n",
    "    fout.write(page)"
   ]
  },
  {
   "cell_type": "code",
   "execution_count": 14,
   "id": "adc1a1ec",
   "metadata": {
    "execution": {
     "iopub.execute_input": "2024-12-17T04:14:06.938609Z",
     "iopub.status.busy": "2024-12-17T04:14:06.938122Z",
     "iopub.status.idle": "2024-12-17T04:14:06.944520Z",
     "shell.execute_reply": "2024-12-17T04:14:06.943916Z"
    },
    "papermill": {
     "duration": 0.014154,
     "end_time": "2024-12-17T04:14:06.945569",
     "exception": false,
     "start_time": "2024-12-17T04:14:06.931415",
     "status": "completed"
    },
    "tags": []
   },
   "outputs": [
    {
     "name": "stdout",
     "output_type": "stream",
     "text": [
      "5  publications in the last day.\n"
     ]
    }
   ],
   "source": [
    "# redo for today\n",
    "days = 1\n",
    "res = list(get_last_n_days(dates, days))\n",
    "npub = len(res)\n",
    "print(len(res), f\" publications in the last day.\")\n",
    "\n",
    "carousel = create_carousel(npub)\n",
    "docs = ', '.join(['\"{0:s}\"'.format(k.split('/')[-1]) for k in res])\n",
    "slides = ', '.join([f'\"slide{k}\"' for k in range(1, npub + 1)])\n",
    "\n",
    "with open(\"daily_template.html\", \"r\") as tpl:\n",
    "    page = tpl.read()\n",
    "    page = page.replace(\"{%-- carousel:s --%}\", carousel)\\\n",
    "               .replace(\"{%-- suptitle:s --%}\",  \"Daily\" )\\\n",
    "               .replace(\"{%-- docs:s --%}\", docs)\\\n",
    "               .replace(\"{%-- slides:s --%}\", slides)\n",
    "    \n",
    "# print(carousel, docs, slides)\n",
    "# print(page)\n",
    "with open(\"_build/html/index_daily.html\", 'w') as fout:\n",
    "    fout.write(page)"
   ]
  },
  {
   "cell_type": "code",
   "execution_count": 15,
   "id": "00eece82",
   "metadata": {
    "execution": {
     "iopub.execute_input": "2024-12-17T04:14:06.958746Z",
     "iopub.status.busy": "2024-12-17T04:14:06.958363Z",
     "iopub.status.idle": "2024-12-17T04:14:06.964477Z",
     "shell.execute_reply": "2024-12-17T04:14:06.963966Z"
    },
    "papermill": {
     "duration": 0.013712,
     "end_time": "2024-12-17T04:14:06.965400",
     "exception": false,
     "start_time": "2024-12-17T04:14:06.951688",
     "status": "completed"
    },
    "scrolled": false,
    "tags": []
   },
   "outputs": [
    {
     "name": "stdout",
     "output_type": "stream",
     "text": [
      "6  6 publications selected.\n"
     ]
    }
   ],
   "source": [
    "# Create the flat grid of the last N papers (fixed number regardless of dates)\n",
    "from itertools import islice \n",
    "\n",
    "npub = 6\n",
    "res = [k[0] for k in (islice(reversed(sorted(dates, key=lambda x: x[1])), 6))]\n",
    "print(len(res), f\" {npub} publications selected.\")\n",
    "\n",
    "grid = create_grid(npub)\n",
    "docs = ', '.join(['\"{0:s}\"'.format(k.split('/')[-1]) for k in res])\n",
    "slides = ', '.join([f'\"slide{k}\"' for k in range(1, npub + 1)])\n",
    "\n",
    "with open(\"grid_template.html\", \"r\") as tpl:\n",
    "    page = tpl.read()\n",
    "    page = page.replace(\"{%-- grid-content:s --%}\", grid)\\\n",
    "               .replace(\"{%-- suptitle:s --%}\",  f\"Last {npub:,d} papers\" )\\\n",
    "               .replace(\"{%-- docs:s --%}\", docs)\\\n",
    "               .replace(\"{%-- slides:s --%}\", slides)\n",
    "    \n",
    "# print(grid, docs, slides)\n",
    "# print(page)\n",
    "with open(\"_build/html/index_npub_grid.html\", 'w') as fout:\n",
    "    fout.write(page)"
   ]
  }
 ],
 "metadata": {
  "kernelspec": {
   "display_name": "Python 3 (ipykernel)",
   "language": "python",
   "name": "python3"
  },
  "language_info": {
   "codemirror_mode": {
    "name": "ipython",
    "version": 3
   },
   "file_extension": ".py",
   "mimetype": "text/x-python",
   "name": "python",
   "nbconvert_exporter": "python",
   "pygments_lexer": "ipython3",
   "version": "3.9.20"
  },
  "papermill": {
   "default_parameters": {},
   "duration": 152.885105,
   "end_time": "2024-12-17T04:14:07.189373",
   "environment_variables": {},
   "exception": null,
   "input_path": "MPIA daily digest.ipynb",
   "output_path": "log.ipynb",
   "parameters": {},
   "start_time": "2024-12-17T04:11:34.304268",
   "version": "2.6.0"
  },
  "vscode": {
   "interpreter": {
    "hash": "aee8b7b246df8f9039afb4144a1f6fd8d2ca17a180786b69acc140d282b71a49"
   }
  },
  "widgets": {
   "application/vnd.jupyter.widget-state+json": {
    "state": {
     "019555c75a96404d8f0cf3c4a15bb5db": {
      "model_module": "@jupyter-widgets/controls",
      "model_module_version": "2.0.0",
      "model_name": "FloatProgressModel",
      "state": {
       "_dom_classes": [],
       "_model_module": "@jupyter-widgets/controls",
       "_model_module_version": "2.0.0",
       "_model_name": "FloatProgressModel",
       "_view_count": null,
       "_view_module": "@jupyter-widgets/controls",
       "_view_module_version": "2.0.0",
       "_view_name": "ProgressView",
       "bar_style": "success",
       "description": "",
       "description_allow_html": false,
       "layout": "IPY_MODEL_41137df800b94d8bb2c57ed76a90ecd7",
       "max": 6.0,
       "min": 0.0,
       "orientation": "horizontal",
       "style": "IPY_MODEL_2e4e4aa7201d4364bb9b980061e9e805",
       "tabbable": null,
       "tooltip": null,
       "value": 6.0
      }
     },
     "2e4e4aa7201d4364bb9b980061e9e805": {
      "model_module": "@jupyter-widgets/controls",
      "model_module_version": "2.0.0",
      "model_name": "ProgressStyleModel",
      "state": {
       "_model_module": "@jupyter-widgets/controls",
       "_model_module_version": "2.0.0",
       "_model_name": "ProgressStyleModel",
       "_view_count": null,
       "_view_module": "@jupyter-widgets/base",
       "_view_module_version": "2.0.0",
       "_view_name": "StyleView",
       "bar_color": null,
       "description_width": ""
      }
     },
     "35b6d6f98d5a4495970915db3c0f6520": {
      "model_module": "@jupyter-widgets/controls",
      "model_module_version": "2.0.0",
      "model_name": "HTMLModel",
      "state": {
       "_dom_classes": [],
       "_model_module": "@jupyter-widgets/controls",
       "_model_module_version": "2.0.0",
       "_model_name": "HTMLModel",
       "_view_count": null,
       "_view_module": "@jupyter-widgets/controls",
       "_view_module_version": "2.0.0",
       "_view_name": "HTMLView",
       "description": "",
       "description_allow_html": false,
       "layout": "IPY_MODEL_a72ff019503b487ea322704619ec2459",
       "placeholder": "​",
       "style": "IPY_MODEL_9153f9b7f955404aac9bfc990fef610c",
       "tabbable": null,
       "tooltip": null,
       "value": " 6/6 [02:11&lt;00:00, 28.73s/it]"
      }
     },
     "41137df800b94d8bb2c57ed76a90ecd7": {
      "model_module": "@jupyter-widgets/base",
      "model_module_version": "2.0.0",
      "model_name": "LayoutModel",
      "state": {
       "_model_module": "@jupyter-widgets/base",
       "_model_module_version": "2.0.0",
       "_model_name": "LayoutModel",
       "_view_count": null,
       "_view_module": "@jupyter-widgets/base",
       "_view_module_version": "2.0.0",
       "_view_name": "LayoutView",
       "align_content": null,
       "align_items": null,
       "align_self": null,
       "border_bottom": null,
       "border_left": null,
       "border_right": null,
       "border_top": null,
       "bottom": null,
       "display": null,
       "flex": null,
       "flex_flow": null,
       "grid_area": null,
       "grid_auto_columns": null,
       "grid_auto_flow": null,
       "grid_auto_rows": null,
       "grid_column": null,
       "grid_gap": null,
       "grid_row": null,
       "grid_template_areas": null,
       "grid_template_columns": null,
       "grid_template_rows": null,
       "height": null,
       "justify_content": null,
       "justify_items": null,
       "left": null,
       "margin": null,
       "max_height": null,
       "max_width": null,
       "min_height": null,
       "min_width": null,
       "object_fit": null,
       "object_position": null,
       "order": null,
       "overflow": null,
       "padding": null,
       "right": null,
       "top": null,
       "visibility": null,
       "width": null
      }
     },
     "5dcfdfb826a54183b3dab2cc26e5e88a": {
      "model_module": "@jupyter-widgets/controls",
      "model_module_version": "2.0.0",
      "model_name": "HTMLStyleModel",
      "state": {
       "_model_module": "@jupyter-widgets/controls",
       "_model_module_version": "2.0.0",
       "_model_name": "HTMLStyleModel",
       "_view_count": null,
       "_view_module": "@jupyter-widgets/base",
       "_view_module_version": "2.0.0",
       "_view_name": "StyleView",
       "background": null,
       "description_width": "",
       "font_size": null,
       "text_color": null
      }
     },
     "6dddcd19562f49bda13f2e3f0a12d57e": {
      "model_module": "@jupyter-widgets/controls",
      "model_module_version": "2.0.0",
      "model_name": "HBoxModel",
      "state": {
       "_dom_classes": [],
       "_model_module": "@jupyter-widgets/controls",
       "_model_module_version": "2.0.0",
       "_model_name": "HBoxModel",
       "_view_count": null,
       "_view_module": "@jupyter-widgets/controls",
       "_view_module_version": "2.0.0",
       "_view_name": "HBoxView",
       "box_style": "",
       "children": [
        "IPY_MODEL_d6369a89b59448c7a3458d5c7623cb38",
        "IPY_MODEL_019555c75a96404d8f0cf3c4a15bb5db",
        "IPY_MODEL_35b6d6f98d5a4495970915db3c0f6520"
       ],
       "layout": "IPY_MODEL_974a941a8c1140e28aaf29a5cddf9b47",
       "tabbable": null,
       "tooltip": null
      }
     },
     "9153f9b7f955404aac9bfc990fef610c": {
      "model_module": "@jupyter-widgets/controls",
      "model_module_version": "2.0.0",
      "model_name": "HTMLStyleModel",
      "state": {
       "_model_module": "@jupyter-widgets/controls",
       "_model_module_version": "2.0.0",
       "_model_name": "HTMLStyleModel",
       "_view_count": null,
       "_view_module": "@jupyter-widgets/base",
       "_view_module_version": "2.0.0",
       "_view_name": "StyleView",
       "background": null,
       "description_width": "",
       "font_size": null,
       "text_color": null
      }
     },
     "974a941a8c1140e28aaf29a5cddf9b47": {
      "model_module": "@jupyter-widgets/base",
      "model_module_version": "2.0.0",
      "model_name": "LayoutModel",
      "state": {
       "_model_module": "@jupyter-widgets/base",
       "_model_module_version": "2.0.0",
       "_model_name": "LayoutModel",
       "_view_count": null,
       "_view_module": "@jupyter-widgets/base",
       "_view_module_version": "2.0.0",
       "_view_name": "LayoutView",
       "align_content": null,
       "align_items": null,
       "align_self": null,
       "border_bottom": null,
       "border_left": null,
       "border_right": null,
       "border_top": null,
       "bottom": null,
       "display": null,
       "flex": null,
       "flex_flow": null,
       "grid_area": null,
       "grid_auto_columns": null,
       "grid_auto_flow": null,
       "grid_auto_rows": null,
       "grid_column": null,
       "grid_gap": null,
       "grid_row": null,
       "grid_template_areas": null,
       "grid_template_columns": null,
       "grid_template_rows": null,
       "height": null,
       "justify_content": null,
       "justify_items": null,
       "left": null,
       "margin": null,
       "max_height": null,
       "max_width": null,
       "min_height": null,
       "min_width": null,
       "object_fit": null,
       "object_position": null,
       "order": null,
       "overflow": null,
       "padding": null,
       "right": null,
       "top": null,
       "visibility": null,
       "width": null
      }
     },
     "a6a44f765ec14f3a83bc19a85d45c44d": {
      "model_module": "@jupyter-widgets/base",
      "model_module_version": "2.0.0",
      "model_name": "LayoutModel",
      "state": {
       "_model_module": "@jupyter-widgets/base",
       "_model_module_version": "2.0.0",
       "_model_name": "LayoutModel",
       "_view_count": null,
       "_view_module": "@jupyter-widgets/base",
       "_view_module_version": "2.0.0",
       "_view_name": "LayoutView",
       "align_content": null,
       "align_items": null,
       "align_self": null,
       "border_bottom": null,
       "border_left": null,
       "border_right": null,
       "border_top": null,
       "bottom": null,
       "display": null,
       "flex": null,
       "flex_flow": null,
       "grid_area": null,
       "grid_auto_columns": null,
       "grid_auto_flow": null,
       "grid_auto_rows": null,
       "grid_column": null,
       "grid_gap": null,
       "grid_row": null,
       "grid_template_areas": null,
       "grid_template_columns": null,
       "grid_template_rows": null,
       "height": null,
       "justify_content": null,
       "justify_items": null,
       "left": null,
       "margin": null,
       "max_height": null,
       "max_width": null,
       "min_height": null,
       "min_width": null,
       "object_fit": null,
       "object_position": null,
       "order": null,
       "overflow": null,
       "padding": null,
       "right": null,
       "top": null,
       "visibility": null,
       "width": null
      }
     },
     "a72ff019503b487ea322704619ec2459": {
      "model_module": "@jupyter-widgets/base",
      "model_module_version": "2.0.0",
      "model_name": "LayoutModel",
      "state": {
       "_model_module": "@jupyter-widgets/base",
       "_model_module_version": "2.0.0",
       "_model_name": "LayoutModel",
       "_view_count": null,
       "_view_module": "@jupyter-widgets/base",
       "_view_module_version": "2.0.0",
       "_view_name": "LayoutView",
       "align_content": null,
       "align_items": null,
       "align_self": null,
       "border_bottom": null,
       "border_left": null,
       "border_right": null,
       "border_top": null,
       "bottom": null,
       "display": null,
       "flex": null,
       "flex_flow": null,
       "grid_area": null,
       "grid_auto_columns": null,
       "grid_auto_flow": null,
       "grid_auto_rows": null,
       "grid_column": null,
       "grid_gap": null,
       "grid_row": null,
       "grid_template_areas": null,
       "grid_template_columns": null,
       "grid_template_rows": null,
       "height": null,
       "justify_content": null,
       "justify_items": null,
       "left": null,
       "margin": null,
       "max_height": null,
       "max_width": null,
       "min_height": null,
       "min_width": null,
       "object_fit": null,
       "object_position": null,
       "order": null,
       "overflow": null,
       "padding": null,
       "right": null,
       "top": null,
       "visibility": null,
       "width": null
      }
     },
     "d6369a89b59448c7a3458d5c7623cb38": {
      "model_module": "@jupyter-widgets/controls",
      "model_module_version": "2.0.0",
      "model_name": "HTMLModel",
      "state": {
       "_dom_classes": [],
       "_model_module": "@jupyter-widgets/controls",
       "_model_module_version": "2.0.0",
       "_model_name": "HTMLModel",
       "_view_count": null,
       "_view_module": "@jupyter-widgets/controls",
       "_view_module_version": "2.0.0",
       "_view_name": "HTMLView",
       "description": "",
       "description_allow_html": false,
       "layout": "IPY_MODEL_a6a44f765ec14f3a83bc19a85d45c44d",
       "placeholder": "​",
       "style": "IPY_MODEL_5dcfdfb826a54183b3dab2cc26e5e88a",
       "tabbable": null,
       "tooltip": null,
       "value": "100%"
      }
     }
    },
    "version_major": 2,
    "version_minor": 0
   }
  }
 },
 "nbformat": 4,
 "nbformat_minor": 5
}