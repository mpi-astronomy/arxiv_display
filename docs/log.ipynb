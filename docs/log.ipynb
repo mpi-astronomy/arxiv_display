{
 "cells": [
  {
   "cell_type": "markdown",
   "id": "92bcb855",
   "metadata": {
    "papermill": {
     "duration": 0.005017,
     "end_time": "2023-01-06T04:05:09.889158",
     "exception": false,
     "start_time": "2023-01-06T04:05:09.884141",
     "status": "completed"
    },
    "tags": []
   },
   "source": [
    "# MPIA Arxiv on Deck 2\n",
    "\n",
    "Contains the steps to produce the paper extractions."
   ]
  },
  {
   "cell_type": "code",
   "execution_count": 1,
   "id": "3a0d6e11",
   "metadata": {
    "execution": {
     "iopub.execute_input": "2023-01-06T04:05:09.899056Z",
     "iopub.status.busy": "2023-01-06T04:05:09.898383Z",
     "iopub.status.idle": "2023-01-06T04:05:10.087441Z",
     "shell.execute_reply": "2023-01-06T04:05:10.086785Z"
    },
    "papermill": {
     "duration": 0.196273,
     "end_time": "2023-01-06T04:05:10.089658",
     "exception": false,
     "start_time": "2023-01-06T04:05:09.893385",
     "status": "completed"
    },
    "tags": []
   },
   "outputs": [],
   "source": [
    "# Imports\n",
    "import os\n",
    "from IPython.display import Markdown, display\n",
    "from tqdm.notebook import tqdm\n",
    "import warnings\n",
    "from PIL import Image \n",
    "\n",
    "# requires arxiv_on_deck_2\n",
    "\n",
    "from arxiv_on_deck_2.arxiv2 import (get_new_papers, \n",
    "                                    get_paper_from_identifier,\n",
    "                                    retrieve_document_source, \n",
    "                                    get_markdown_badge)\n",
    "from arxiv_on_deck_2 import (latex, \n",
    "                             mpia,\n",
    "                             highlight_authors_in_list)\n",
    "\n",
    "# Sometimes images are really big\n",
    "Image.MAX_IMAGE_PIXELS = 1000000000 "
   ]
  },
  {
   "cell_type": "code",
   "execution_count": 2,
   "id": "22aa9d44",
   "metadata": {
    "execution": {
     "iopub.execute_input": "2023-01-06T04:05:10.099212Z",
     "iopub.status.busy": "2023-01-06T04:05:10.098782Z",
     "iopub.status.idle": "2023-01-06T04:05:10.103735Z",
     "shell.execute_reply": "2023-01-06T04:05:10.103101Z"
    },
    "papermill": {
     "duration": 0.011672,
     "end_time": "2023-01-06T04:05:10.105470",
     "exception": false,
     "start_time": "2023-01-06T04:05:10.093798",
     "status": "completed"
    },
    "tags": []
   },
   "outputs": [],
   "source": [
    "# Some useful definitions.\n",
    "\n",
    "class AffiliationWarning(UserWarning):\n",
    "    pass\n",
    "\n",
    "class AffiliationError(RuntimeError):\n",
    "    pass\n",
    "\n",
    "def validation(source: str):\n",
    "    \"\"\"Raises error paper during parsing of source file\n",
    "    \n",
    "    Allows checks before parsing TeX code.\n",
    "    \n",
    "    Raises AffiliationWarning\n",
    "    \"\"\"\n",
    "    check = mpia.affiliation_verifications(source, verbose=True)\n",
    "    if check is not True:\n",
    "        raise AffiliationError(\"mpia.affiliation_verifications: \" + check)\n",
    "\n",
    "        \n",
    "warnings.simplefilter('always', AffiliationWarning)"
   ]
  },
  {
   "cell_type": "code",
   "execution_count": 3,
   "id": "14622700",
   "metadata": {
    "execution": {
     "iopub.execute_input": "2023-01-06T04:05:10.114704Z",
     "iopub.status.busy": "2023-01-06T04:05:10.114121Z",
     "iopub.status.idle": "2023-01-06T04:05:10.117954Z",
     "shell.execute_reply": "2023-01-06T04:05:10.117447Z"
    },
    "papermill": {
     "duration": 0.010378,
     "end_time": "2023-01-06T04:05:10.119734",
     "exception": false,
     "start_time": "2023-01-06T04:05:10.109356",
     "status": "completed"
    },
    "tags": []
   },
   "outputs": [],
   "source": [
    "# additional CSS to consider. \n",
    "# TODO: Current into each exported file. \n",
    "#       This should be set once into the webpages directly.\n",
    "#       With only the class/id definitions in the .md files.\n",
    "\n",
    "debug_html = \"\"\"\n",
    "<style>\n",
    "#wrap{ overflow:auto; }\n",
    "#fig1{ background:yellow; width:100%; float:left; padding:5px;  }\n",
    "#fig2{ background:red; width:50%; float:left; clear:left; padding:5px;  }\n",
    "#fig3{ background:green; width:50%; float:left; padding:5px;   }\n",
    ".macros{ background:yellow; visibility:visible;}\n",
    "h1 {margin: 0 0 0 0;}\n",
    "mark {background-color:#fff3b6;}\n",
    "img {object-fit:contain; max-height:250px; display:inline-block; text-align: center;}\n",
    "</style>\n",
    "\"\"\" \n",
    "html = \"\"\"\n",
    "<style>\n",
    "#wrap{ overflow:auto; }\n",
    "#fig1{ width:100%; float:left; padding: 5px;  }\n",
    "#fig2{ width:50%; float:left; clear:left; padding: 5px;  }\n",
    "#fig3{ width:50%; float:left; padding: 5px;  }\n",
    ".macros{ visibility:hidden; height:0px; }\n",
    "h1 {margin: 0em 0 0 0;}\n",
    "mark {background-color:#fff3b6;}\n",
    "img {object-fit:contain; max-height:250px; display:inline-block; text-align: center;}\n",
    "</style>\n",
    "\"\"\""
   ]
  },
  {
   "cell_type": "markdown",
   "id": "14bd6310",
   "metadata": {
    "papermill": {
     "duration": 0.003895,
     "end_time": "2023-01-06T04:05:10.127642",
     "exception": false,
     "start_time": "2023-01-06T04:05:10.123747",
     "status": "completed"
    },
    "tags": []
   },
   "source": [
    "## get list of arxiv paper candidates\n",
    "\n",
    "We use the MPIA mitarbeiter list webpage from mpia.de to get author names\n",
    "We then get all new papers from Arxiv and match authors"
   ]
  },
  {
   "cell_type": "code",
   "execution_count": 4,
   "id": "2645e73a",
   "metadata": {
    "execution": {
     "iopub.execute_input": "2023-01-06T04:05:10.136892Z",
     "iopub.status.busy": "2023-01-06T04:05:10.136379Z",
     "iopub.status.idle": "2023-01-06T04:05:36.502258Z",
     "shell.execute_reply": "2023-01-06T04:05:36.500747Z"
    },
    "papermill": {
     "duration": 26.37275,
     "end_time": "2023-01-06T04:05:36.504254",
     "exception": false,
     "start_time": "2023-01-06T04:05:10.131504",
     "status": "completed"
    },
    "tags": []
   },
   "outputs": [
    {
     "name": "stdout",
     "output_type": "stream",
     "text": [
      "Arxiv has 49 new papers today\n",
      "          20 with possible author matches\n"
     ]
    }
   ],
   "source": [
    "# get list from MPIA website\n",
    "# it automatically filters identified non-scientists :func:`mpia.filter_non_scientists`\n",
    "mpia_authors = mpia.get_mpia_mitarbeiter_list()\n",
    "new_papers = get_new_papers()\n",
    "# add manual references\n",
    "add_paper_refs = []\n",
    "new_papers.extend([get_paper_from_identifier(k) for k in add_paper_refs])\n",
    "\n",
    "# select only papers with matching author names and highlight authors\n",
    "hl_list = [k[0] for k in mpia_authors]\n",
    "\n",
    "candidates = []\n",
    "for paperk in new_papers:\n",
    "    hl_authors = highlight_authors_in_list(paperk['authors'], hl_list)\n",
    "    matches = [(hl, orig) for hl, orig in zip(hl_authors, paperk['authors']) if 'mark' in hl]\n",
    "    paperk['authors'] = hl_authors\n",
    "    if matches:\n",
    "        candidates.append(paperk)\n",
    "print(\"\"\"Arxiv has {0:,d} new papers today\"\"\".format(len(new_papers)))        \n",
    "print(\"\"\"          {0:,d} with possible author matches\"\"\".format(len(candidates)))"
   ]
  },
  {
   "cell_type": "markdown",
   "id": "3543b34a",
   "metadata": {
    "papermill": {
     "duration": 0.004069,
     "end_time": "2023-01-06T04:05:36.512643",
     "exception": false,
     "start_time": "2023-01-06T04:05:36.508574",
     "status": "completed"
    },
    "tags": []
   },
   "source": [
    "# Parse sources and generate relevant outputs\n",
    "\n",
    "From the candidates, we do the following steps:\n",
    "* get their tarball from ArXiv (and extract data)\n",
    "* find the main .tex file: find one with \\documentclass{...} (sometimes it's non trivial)\n",
    "* Check affiliations with :func:`validation`, which uses :func:`mpia.affiliation_verifications`\n",
    "* If passing the affiliations: we parse the .tex source\n",
    "   * inject sub-documents into the main (flatten the main document)\n",
    "   * parse structure, extract information (title, abstract, authors, figures...)\n",
    "   * handles `\\graphicspath` if provided\n",
    "* Generate the .md document."
   ]
  },
  {
   "cell_type": "code",
   "execution_count": 5,
   "id": "9576b79e",
   "metadata": {
    "execution": {
     "iopub.execute_input": "2023-01-06T04:05:36.522002Z",
     "iopub.status.busy": "2023-01-06T04:05:36.521607Z",
     "iopub.status.idle": "2023-01-06T04:08:55.055202Z",
     "shell.execute_reply": "2023-01-06T04:08:55.054627Z"
    },
    "papermill": {
     "duration": 198.539866,
     "end_time": "2023-01-06T04:08:55.056549",
     "exception": false,
     "start_time": "2023-01-06T04:05:36.516683",
     "status": "completed"
    },
    "scrolled": false,
    "tags": []
   },
   "outputs": [
    {
     "data": {
      "application/vnd.jupyter.widget-view+json": {
       "model_id": "96d7a9da26bc4946949332d285f2a395",
       "version_major": 2,
       "version_minor": 0
      },
      "text/plain": [
       "  0%|          | 0/19 [00:00<?, ?it/s]"
      ]
     },
     "metadata": {},
     "output_type": "display_data"
    },
    {
     "name": "stdout",
     "output_type": "stream",
     "text": [
      "Retrieving document from  https://arxiv.org/e-print/2301.01775\n"
     ]
    },
    {
     "name": "stdout",
     "output_type": "stream",
     "text": [
      "extracting tarball to tmp_2301.01775..."
     ]
    },
    {
     "name": "stdout",
     "output_type": "stream",
     "text": [
      " done.\n",
      "Retrieving document from  https://arxiv.org/e-print/2301.01776\n"
     ]
    },
    {
     "name": "stdout",
     "output_type": "stream",
     "text": [
      "extracting tarball to tmp_2301.01776..."
     ]
    },
    {
     "name": "stdout",
     "output_type": "stream",
     "text": [
      " done.\n",
      "Retrieving document from  https://arxiv.org/e-print/2301.01779\n"
     ]
    },
    {
     "name": "stdout",
     "output_type": "stream",
     "text": [
      "extracting tarball to tmp_2301.01779..."
     ]
    },
    {
     "name": "stdout",
     "output_type": "stream",
     "text": [
      " done.\n",
      "Retrieving document from  https://arxiv.org/e-print/2301.01798\n"
     ]
    },
    {
     "name": "stdout",
     "output_type": "stream",
     "text": [
      "extracting tarball to tmp_2301.01798..."
     ]
    },
    {
     "name": "stdout",
     "output_type": "stream",
     "text": [
      " done.\n",
      "Retrieving document from  https://arxiv.org/e-print/2301.01799\n"
     ]
    },
    {
     "name": "stdout",
     "output_type": "stream",
     "text": [
      "extracting tarball to tmp_2301.01799..."
     ]
    },
    {
     "name": "stdout",
     "output_type": "stream",
     "text": [
      " done.\n",
      "Retrieving document from  https://arxiv.org/e-print/2301.01826\n"
     ]
    },
    {
     "name": "stdout",
     "output_type": "stream",
     "text": [
      "extracting tarball to tmp_2301.01826..."
     ]
    },
    {
     "name": "stdout",
     "output_type": "stream",
     "text": [
      " done.\n",
      "Retrieving document from  https://arxiv.org/e-print/2301.01876\n"
     ]
    },
    {
     "name": "stderr",
     "output_type": "stream",
     "text": [
      "/opt/hostedtoolcache/Python/3.9.16/x64/lib/python3.9/site-packages/IPython/core/interactiveshell.py:3442: LatexWarning: Multiple tex files.\n",
      "\n",
      "  exec(code_obj, self.user_global_ns, self.user_ns)\n",
      "/opt/hostedtoolcache/Python/3.9.16/x64/lib/python3.9/site-packages/IPython/core/interactiveshell.py:3442: LatexWarning: Found documentclass in tmp_2301.01826/main.tex\n",
      "\n",
      "  exec(code_obj, self.user_global_ns, self.user_ns)\n",
      "/opt/hostedtoolcache/Python/3.9.16/x64/lib/python3.9/site-packages/arxiv_on_deck_2/latex.py:292: LatexWarning: Latex injecting: 'column_info.tex' from 'tmp_2301.01826/column_info.tex'\n",
      "  warnings.warn(LatexWarning(f\"Latex injecting: '{ext}' from '{subsource}'\"))\n",
      "/opt/hostedtoolcache/Python/3.9.16/x64/lib/python3.9/site-packages/arxiv_on_deck_2/latex.py:292: LatexWarning: Latex injecting: 'obs_column_info.tex' from 'tmp_2301.01826/obs_column_info.tex'\n",
      "  warnings.warn(LatexWarning(f\"Latex injecting: '{ext}' from '{subsource}'\"))\n"
     ]
    },
    {
     "name": "stderr",
     "output_type": "stream",
     "text": [
      "/tmp/ipykernel_2089/4030337529.py:34: LatexWarning: 2301.01876 did not run properly\n",
      "not a gzip file\n",
      "  warnings.warn(latex.LatexWarning(f\"{paper_id:s} did not run properly\\n\" +\n"
     ]
    },
    {
     "name": "stdout",
     "output_type": "stream",
     "text": [
      "Retrieving document from  https://arxiv.org/e-print/2301.01895\n"
     ]
    },
    {
     "name": "stdout",
     "output_type": "stream",
     "text": [
      "extracting tarball to tmp_2301.01895..."
     ]
    },
    {
     "name": "stdout",
     "output_type": "stream",
     "text": [
      " done.\n"
     ]
    },
    {
     "name": "stderr",
     "output_type": "stream",
     "text": [
      "/opt/hostedtoolcache/Python/3.9.16/x64/lib/python3.9/site-packages/arxiv_on_deck_2/latex.py:366: LatexWarning: Error parsing the document directly. Trying to recover.\n",
      "  warnings.warn(LatexWarning(f\"Error parsing the document directly. Trying to recover.\"))\n"
     ]
    },
    {
     "name": "stdout",
     "output_type": "stream",
     "text": [
      "✔ → 0:header\n",
      "  ↳ 4868:\\section{Introduction}\\label{sec:intro}\n"
     ]
    },
    {
     "name": "stdout",
     "output_type": "stream",
     "text": [
      "✔ → 4868:\\section{Introduction}\\label{sec:intro}\n",
      "  ↳ 18895:\\section{Observations}\\label{sec:obs}\n",
      "✔ → 18895:\\section{Observations}\\label{sec:obs}\n",
      "  ↳ 22589:\\section{Dust Continuum Cores}\n"
     ]
    },
    {
     "name": "stdout",
     "output_type": "stream",
     "text": [
      "✔ → 22589:\\section{Dust Continuum Cores}\n",
      "  ↳ 53152:\\section{Continuous gas inflow feeds massive dense cores}\n"
     ]
    },
    {
     "name": "stdout",
     "output_type": "stream",
     "text": [
      "✔ → 53152:\\section{Continuous gas inflow feeds massive dense cores}\n",
      "  ↳ 86916:\\section{Conclusion}\n"
     ]
    },
    {
     "name": "stdout",
     "output_type": "stream",
     "text": [
      "✔ → 86916:\\section{Conclusion}\n",
      "  ↳ 97499:\\section{Observations and data reduction}\n"
     ]
    },
    {
     "name": "stdout",
     "output_type": "stream",
     "text": [
      "✔ → 97499:\\section{Observations and data reduction}\n",
      "  ↳ 107537:\\section{Source Extraction Algorithm}\n"
     ]
    },
    {
     "name": "stdout",
     "output_type": "stream",
     "text": [
      "✔ → 107537:\\section{Source Extraction Algorithm}\n",
      "  ↳ 111489:\\section{Temperature estimation}\n"
     ]
    },
    {
     "name": "stdout",
     "output_type": "stream",
     "text": [
      "✔ → 111489:\\section{Temperature estimation}\n",
      "  ↳ 120337:\\section{Separation from MST}\n",
      "✔ → 120337:\\section{Separation from MST}\n",
      "  ↳ 121996:\\section{Spectral line fitting}\n"
     ]
    },
    {
     "name": "stdout",
     "output_type": "stream",
     "text": [
      "✔ → 121996:\\section{Spectral line fitting}\n",
      "  ↳ 128859:\\section{Optical depth of \\texorpdfstring{\\htcop $J=1-0$}. line}\n"
     ]
    },
    {
     "name": "stdout",
     "output_type": "stream",
     "text": [
      "✘ → 128859:\\section{Optical depth of \\texorpdfstring{\\htcop $J=1-0$}. line}\n",
      "  ↳ 132406:\\section{SCOUSEPY decomposition of the ALMA \\texorpdfstring{\\htcop $J=1-0$}. map}\n",
      "✔ → 132406:\\section{SCOUSEPY decomposition of the ALMA \\texorpdfstring{\\htcop $J=1-0$}. map}\n",
      "  ↳ 135069:\\section{Clustering of decomposed Gaussian components by ACORNS}\n"
     ]
    },
    {
     "name": "stdout",
     "output_type": "stream",
     "text": [
      "✔ → 135069:\\section{Clustering of decomposed Gaussian components by ACORNS}\n",
      "  ↳ 139838:end\n"
     ]
    },
    {
     "name": "stdout",
     "output_type": "stream",
     "text": [
      "Retrieving document from  https://arxiv.org/e-print/2301.01900\n"
     ]
    },
    {
     "name": "stdout",
     "output_type": "stream",
     "text": [
      "extracting tarball to tmp_2301.01900... done.\n",
      "Retrieving document from  https://arxiv.org/e-print/2301.01937\n"
     ]
    },
    {
     "name": "stdout",
     "output_type": "stream",
     "text": [
      "extracting tarball to tmp_2301.01937..."
     ]
    },
    {
     "name": "stdout",
     "output_type": "stream",
     "text": [
      " done.\n"
     ]
    },
    {
     "name": "stderr",
     "output_type": "stream",
     "text": [
      "/opt/hostedtoolcache/Python/3.9.16/x64/lib/python3.9/site-packages/arxiv_on_deck_2/latex.py:366: LatexWarning: Error parsing the document directly. Trying to recover.\n",
      "  warnings.warn(LatexWarning(f\"Error parsing the document directly. Trying to recover.\"))\n"
     ]
    },
    {
     "name": "stdout",
     "output_type": "stream",
     "text": [
      "✔ → 0:header\n",
      "  ↳ 7056:\\section{Introduction} \\label{INTRODUCTION}\n"
     ]
    },
    {
     "name": "stdout",
     "output_type": "stream",
     "text": [
      "✔ → 7056:\\section{Introduction} \\label{INTRODUCTION}\n",
      "  ↳ 15195:\\section{Main Data}\n",
      "✔ → 15195:\\section{Main Data}\n",
      "  ↳ 16260:\\section{BRC environment and global status} \\label{ENVIRONMENTSANDSTATUS}\n"
     ]
    },
    {
     "name": "stdout",
     "output_type": "stream",
     "text": [
      "✔ → 16260:\\section{BRC environment and global status} \\label{ENVIRONMENTSANDSTATUS}\n",
      "  ↳ 27202:\\section{Sequential star formation within clump-fed scenario} \\label{STARFORMATIONCLUMPFED}\n"
     ]
    },
    {
     "name": "stdout",
     "output_type": "stream",
     "text": [
      "✘ → 27202:\\section{Sequential star formation within clump-fed scenario} \\label{STARFORMATIONCLUMPFED}\n",
      "  ↳ 56135:\\section{Dynamical PDR with photoevaporative flow} \\label{PDRandPEF}\n"
     ]
    },
    {
     "name": "stdout",
     "output_type": "stream",
     "text": [
      "✔ → 56135:\\section{Dynamical PDR with photoevaporative flow} \\label{PDRandPEF}\n",
      "  ↳ 69769:\\section{Discussions and conclusions}\n"
     ]
    },
    {
     "name": "stdout",
     "output_type": "stream",
     "text": [
      "✔ → 69769:\\section{Discussions and conclusions}\n",
      "  ↳ 80647:\\section{Figure information}\n"
     ]
    },
    {
     "name": "stdout",
     "output_type": "stream",
     "text": [
      "✔ → 80647:\\section{Figure information}\n",
      "  ↳ 120431:\\section{ALMA and Other Observational data} \\label{App:DataDetails}\n"
     ]
    },
    {
     "name": "stdout",
     "output_type": "stream",
     "text": [
      "✔ → 120431:\\section{ALMA and Other Observational data} \\label{App:DataDetails}\n",
      "  ↳ 126001:\\section{rim and IBL} \\label{App:RimAndIBL}\n"
     ]
    },
    {
     "name": "stdout",
     "output_type": "stream",
     "text": [
      "✔ → 126001:\\section{rim and IBL} \\label{App:RimAndIBL}\n",
      "  ↳ 130472:\\section{Density and mass derived from spectra}\\label{App:COLUMNDENSITYANDMASS}\n"
     ]
    },
    {
     "name": "stdout",
     "output_type": "stream",
     "text": [
      "✘ → 130472:\\section{Density and mass derived from spectra}\\label{App:COLUMNDENSITYANDMASS}\n",
      "  ↳ 141753:\\section{Core and YSO candidates} \\label{CoreYSOsExtraction}\n"
     ]
    },
    {
     "name": "stdout",
     "output_type": "stream",
     "text": [
      "✔ → 141753:\\section{Core and YSO candidates} \\label{CoreYSOsExtraction}\n",
      "  ↳ 148900:\\section{Core spectra and infall estimation} \\label{App:CoreSpectraAndInfall}\n"
     ]
    },
    {
     "name": "stdout",
     "output_type": "stream",
     "text": [
      "✔ → 148900:\\section{Core spectra and infall estimation} \\label{App:CoreSpectraAndInfall}\n",
      "  ↳ 154162:\\section{PDR molecules analyses} \\label{App:PDRMoleculesAnalysis}\n",
      "✘ → 154162:\\section{PDR molecules analyses} \\label{App:PDRMoleculesAnalysis}\n",
      "  ↳ 161539:end\n"
     ]
    },
    {
     "name": "stdout",
     "output_type": "stream",
     "text": [
      "Retrieving document from  https://arxiv.org/e-print/2301.01944\n"
     ]
    },
    {
     "name": "stdout",
     "output_type": "stream",
     "text": [
      "extracting tarball to tmp_2301.01944..."
     ]
    },
    {
     "name": "stdout",
     "output_type": "stream",
     "text": [
      " done.\n",
      "Retrieving document from  https://arxiv.org/e-print/2301.01957\n"
     ]
    },
    {
     "name": "stdout",
     "output_type": "stream",
     "text": [
      "extracting tarball to tmp_2301.01957... done.\n",
      "Retrieving document from  https://arxiv.org/e-print/2301.01983\n"
     ]
    },
    {
     "name": "stdout",
     "output_type": "stream",
     "text": [
      "extracting tarball to tmp_2301.01983..."
     ]
    },
    {
     "name": "stdout",
     "output_type": "stream",
     "text": [
      " done.\n",
      "Retrieving document from  https://arxiv.org/e-print/2301.01988\n"
     ]
    },
    {
     "name": "stdout",
     "output_type": "stream",
     "text": [
      "extracting tarball to tmp_2301.01988..."
     ]
    },
    {
     "name": "stdout",
     "output_type": "stream",
     "text": [
      " done.\n",
      "Retrieving document from  https://arxiv.org/e-print/2301.02048\n"
     ]
    },
    {
     "name": "stdout",
     "output_type": "stream",
     "text": [
      "extracting tarball to tmp_2301.02048..."
     ]
    },
    {
     "name": "stdout",
     "output_type": "stream",
     "text": [
      " done.\n",
      "Retrieving document from  https://arxiv.org/e-print/2301.02070\n"
     ]
    },
    {
     "name": "stdout",
     "output_type": "stream",
     "text": [
      "extracting tarball to tmp_2301.02070..."
     ]
    },
    {
     "name": "stdout",
     "output_type": "stream",
     "text": [
      " done.\n",
      "Retrieving document from  https://arxiv.org/e-print/2301.02081\n"
     ]
    },
    {
     "name": "stdout",
     "output_type": "stream",
     "text": [
      "extracting tarball to tmp_2301.02081..."
     ]
    },
    {
     "name": "stdout",
     "output_type": "stream",
     "text": [
      " done.\n",
      "Retrieving document from  https://arxiv.org/e-print/2301.02157\n"
     ]
    },
    {
     "name": "stdout",
     "output_type": "stream",
     "text": [
      "extracting tarball to tmp_2301.02157..."
     ]
    },
    {
     "name": "stdout",
     "output_type": "stream",
     "text": [
      " done.\n",
      "Retrieving document from  https://arxiv.org/e-print/2301.02179\n"
     ]
    },
    {
     "name": "stdout",
     "output_type": "stream",
     "text": [
      "extracting tarball to tmp_2301.02179..."
     ]
    },
    {
     "name": "stdout",
     "output_type": "stream",
     "text": [
      " done.\n"
     ]
    }
   ],
   "source": [
    "documents = []\n",
    "failed = []\n",
    "for paper in tqdm(candidates[:-1]):\n",
    "    paper_id = paper['identifier'].lower().replace('arxiv:', '')\n",
    "    \n",
    "    folder = f'tmp_{paper_id}'\n",
    "\n",
    "    try:\n",
    "        if not os.path.isdir(folder):\n",
    "            folder = retrieve_document_source(f\"{paper_id}\", f'tmp_{paper_id}')\n",
    "        \n",
    "        try:\n",
    "            doc = latex.LatexDocument(folder, validation=validation)    \n",
    "        except AffiliationError as affilerror:\n",
    "            msg = f\"ArXiv:{paper_id:s} is not an MPIA paper... \" + str(affilerror)\n",
    "            failed.append((paper, \"affiliation error: \" + str(affilerror) ))\n",
    "            continue\n",
    "        \n",
    "        # Hack because sometimes author parsing does not work well\n",
    "        if (len(doc.authors) != len(paper['authors'])):\n",
    "            doc._authors = paper['authors']\n",
    "        if (doc.abstract) in (None, ''):\n",
    "            doc._abstract = paper['abstract']\n",
    "            \n",
    "        doc.comment = (get_markdown_badge(paper_id) + \n",
    "                       \"<mark>Appeared on: \" + paper['date'] + \"</mark> - \" +\n",
    "                       \"_\" + paper['comments'] + \"_\")\n",
    "        doc.highlight_authors_in_list(hl_list)\n",
    "\n",
    "        full_md = doc.generate_markdown_text()\n",
    "        \n",
    "        documents.append((paper_id, full_md))\n",
    "    except Exception as e:\n",
    "        warnings.warn(latex.LatexWarning(f\"{paper_id:s} did not run properly\\n\" +\n",
    "                                         str(e)\n",
    "                                        ))\n",
    "        failed.append((paper, \"latex error \" + str(e)))"
   ]
  },
  {
   "cell_type": "markdown",
   "id": "2505a25c",
   "metadata": {
    "papermill": {
     "duration": 0.007571,
     "end_time": "2023-01-06T04:08:55.071751",
     "exception": false,
     "start_time": "2023-01-06T04:08:55.064180",
     "status": "completed"
    },
    "tags": []
   },
   "source": [
    "### Export the logs\n",
    "\n",
    "Throughout, we also keep track of the logs per paper. see `logs-{today date}.md` "
   ]
  },
  {
   "cell_type": "code",
   "execution_count": 6,
   "id": "d733828a",
   "metadata": {
    "execution": {
     "iopub.execute_input": "2023-01-06T04:08:55.088688Z",
     "iopub.status.busy": "2023-01-06T04:08:55.087272Z",
     "iopub.status.idle": "2023-01-06T04:08:55.147409Z",
     "shell.execute_reply": "2023-01-06T04:08:55.146786Z"
    },
    "papermill": {
     "duration": 0.071327,
     "end_time": "2023-01-06T04:08:55.150327",
     "exception": false,
     "start_time": "2023-01-06T04:08:55.079000",
     "status": "completed"
    },
    "scrolled": false,
    "tags": []
   },
   "outputs": [
    {
     "data": {
      "text/markdown": [
       "## Successful papers"
      ],
      "text/plain": [
       "<IPython.core.display.Markdown object>"
      ]
     },
     "metadata": {},
     "output_type": "display_data"
    },
    {
     "data": {
      "text/markdown": [
       "\n",
       "|||\n",
       "|---:|:---|\n",
       "| [![arXiv](https://img.shields.io/badge/arXiv-arXiv:2301.01895-b31b1b.svg)](https://arxiv.org/abs/arXiv:2301.01895) | **ATOMS: ALMA Three-millimeter Observations of Massive Star-forming  regions -- XV. Steady Accretion from Global Collapse to Core Feeding in  Massive Hub-filament System SDC335**  |\n",
       "|| Feng-Wei Xu, et al. -- incl., <mark>Tie Liu</mark>, <mark>Qizhou Zhang</mark>, <mark>Hong-Li Liu</mark>, <mark>Sheng-Li Qin</mark>, <mark>Guang-Xing Li</mark>, <mark>Shanghuo Li</mark>, <mark>Enrique Vázquez-Semadeni</mark>, <mark>Yong Zhang</mark>, <mark>Xunchuan Liu</mark>, <mark>Siju Zhang</mark>, <mark>Meizhu Liu</mark>, <mark>Chao Zhang</mark>, <mark>Chang Won Lee</mark>, <mark>Jinjin Xie</mark>, <mark>Wenyu Jiao</mark>, <mark>Rong Liu</mark> |\n",
       "|*Appeared on*| *2023-01-06*|\n",
       "|*Comments*| *29 pages, 7 figures, Accepted for publication in MNRAS*|\n",
       "|**Abstract**| We present ALMA Band-3/7 observations towards \"the Heart\" of a massive hub-filament system (HFS) SDC335, to investigate its fragmentation and accretion. At a resolution of $\\sim0.03$ pc, 3 mm continuum emission resolves two massive dense cores MM1 and MM2, with $383(^{+234}_{-120})$ $M_\\odot$ (10-24% mass of \"the Heart\") and $74(^{+47}_{-24})$ $M_\\odot$, respectively. With a resolution down to 0.01 pc, 0.87 mm continuum emission shows MM1 further fragments into six condensations and multi-transition lines of H$_2$CS provide temperature estimation. The relation between separation and mass of condensations at a scale of 0.01 pc favors turbulent Jeans fragmentation where the turbulence seems to be scale-free rather than scale-dependent. We use the H$^{13}$CO$^+$ (1-0) emission line to resolve the complex gas motion inside \"the Heart\" in position-position-velocity space. We identify four major gas streams connected to large-scale filaments, inheriting the anti-clockwise spiral pattern. Along these streams, gas feeds the central massive core MM1. Assuming an inclination angle of $45(\\pm15)^{\\circ}$ and a H$^{13}$CO$^+$ abundance of $5(\\pm3)\\times10^{-11}$, the total mass infall rate is estimated to be $2.40(\\pm0.78)\\times10^{-3}$ $M_\\odot$ yr$^{-1}$, numerically consistent with the accretion rates derived from the clump-scale spherical infall model and the core-scale outflows. The consistency suggests a continuous, near steady-state, and efficient accretion from global collapse, therefore ensuring core feeding. Our comprehensive study of SDC335 showcases the detailed gas kinematics in a prototypical massive infalling clump and calls for further systematic and statistical analyses in a large sample. |"
      ],
      "text/plain": [
       "[arXiv:2301.01895] ATOMS: ALMA Three-millimeter Observations of Massive Star-forming  regions -- XV. Steady Accretion from Global Collapse to Core Feeding in  Massive Hub-filament System SDC335\n",
       "\tFeng-Wei Xu, et al. -- incl., <mark>Tie Liu</mark>, <mark>Qizhou Zhang</mark>, <mark>Hong-Li Liu</mark>, <mark>Sheng-Li Qin</mark>, <mark>Guang-Xing Li</mark>, <mark>Shanghuo Li</mark>, <mark>Enrique Vázquez-Semadeni</mark>, <mark>Yong Zhang</mark>, <mark>Xunchuan Liu</mark>, <mark>Siju Zhang</mark>, <mark>Meizhu Liu</mark>, <mark>Chao Zhang</mark>, <mark>Chang Won Lee</mark>, <mark>Jinjin Xie</mark>, <mark>Wenyu Jiao</mark>, <mark>Rong Liu</mark>"
      ]
     },
     "metadata": {},
     "output_type": "display_data"
    },
    {
     "data": {
      "text/markdown": [
       "\n",
       "|||\n",
       "|---:|:---|\n",
       "| [![arXiv](https://img.shields.io/badge/arXiv-arXiv:2301.01937-b31b1b.svg)](https://arxiv.org/abs/arXiv:2301.01937) | **ATOMS: ALMA Three-millimeter Observations of Massive Star-forming  regions -XIII. Ongoing triggered star formation within clump-fed scenario  found in the massive ($\\sim1500$ $\\rm M_\\odot$) clump**  |\n",
       "|| <mark>S. Zhang</mark>, et al. -- incl., <mark>T. Liu</mark>, <mark>H. Liu</mark>, <mark>S. Li</mark>, <mark>Q. Zhang</mark>, <mark>C. W. Lee</mark>, <mark>E. Vázquez-Semadeni</mark> |\n",
       "|*Appeared on*| *2023-01-06*|\n",
       "|*Comments*| *34 pages with 20 figures, Accepted by MNRAS on 2022 December 28*|\n",
       "|**Abstract**| Whether ionization feedback triggers the formation of massive stars is highly debated. Using ALMA 3 mm observations with a spatial resolution of $\\sim 0.05$ pc and a mass sensitivity of 1.1 $\\rm M_\\odot$ beam$^{-1}$ at 20 K, we investigate the star formation and gas flow structures within the ionizing feedback-driven structure, a clump-scale massive ($\\gtrsim 1500$ $\\rm M_\\odot$) bright-rimmed cloud (BRC) associated with IRAS 18290-0924. This BRC is bound only if external compression from ionized gas is considered. A small-scale ($\\lesssim1$ pc) age sequence along the direction of ionizing radiation is revealed for the embedded cores and protostars, which suggests triggered star formation via radiation-driven implosion (RDI). Furthermore, filamentary gas structures converge towards the cores located in the BRC's center, indicating that these filaments are fueling mass towards cores. The local core-scale mass infall rate derived from H$^{13}$CO$^+$ $J=1-0$ blue profile is of the same order of magnitude as the filamentary mass inflow rate, approximately 1 $\\rm M_\\odot$ kyr$^{-1}$. A photodissociation region (PDR) covering the irradiated clump surface is detected in several molecules, such as CCH, HCO$^+$, and CS whereas the spatial distribution stratification of these molecules is indistinct. CCH spectra of the PDR possibly indicate a photoevaporation flow leaving the clump surface with a projected velocity of $\\sim2$ km s$^{-1}$. Our new observations show that RDI accompanied by a clump-fed process is operating in this massive BRC. Whether this combined process works in other massive BRCs is worth exploring with dedicated surveys. |"
      ],
      "text/plain": [
       "[arXiv:2301.01937] ATOMS: ALMA Three-millimeter Observations of Massive Star-forming  regions -XIII. Ongoing triggered star formation within clump-fed scenario  found in the massive ($\\sim1500$ $\\rm M_\\odot$) clump\n",
       "\t<mark>S. Zhang</mark>, et al. -- incl., <mark>T. Liu</mark>, <mark>H. Liu</mark>, <mark>S. Li</mark>, <mark>Q. Zhang</mark>, <mark>C. W. Lee</mark>, <mark>E. Vázquez-Semadeni</mark>"
      ]
     },
     "metadata": {},
     "output_type": "display_data"
    },
    {
     "data": {
      "text/markdown": [
       "## Failed papers"
      ],
      "text/plain": [
       "<IPython.core.display.Markdown object>"
      ]
     },
     "metadata": {},
     "output_type": "display_data"
    },
    {
     "data": {
      "text/markdown": [
       "\n",
       "|||\n",
       "|---:|:---|\n",
       "| [![arXiv](https://img.shields.io/badge/arXiv-arXiv:2301.02081-b31b1b.svg)](https://arxiv.org/abs/arXiv:2301.02081) | **The VLT/SPHERE view of the ATOMIUM cool evolved star sample. I.  Overview: Sample characterization through polarization analysis**  |\n",
       "|| M. Montargès, et al. -- incl., <mark>F. Herpin</mark>, <mark>H. S. P. Müller</mark> |\n",
       "|*Appeared on*| *2023-01-06*|\n",
       "|*Comments*| *Accepted for publication in Astronomy & Astrophysics. 22 pages, 15 figures, 5 tables*|\n",
       "|**Abstract**| Aims. Through the ATOMIUM project, based on an ALMA large program, we aim to present a consistent view of a sample of 17 nearby cool evolved stars (Aymptotic Giant Branch and red supergiant stars). Methods. Here we present VLT/SPHERE-ZIMPOL polarimetric maps obtained in the visible of 14 out of the 17 ATOMIUM sources. They were obtained contemporaneously with the ALMA high spatial resolution data. To help interpret the polarized signal, we produced synthetic maps of light scattering by dust, through 3D radiative transfer simulations with the RADMC3D code. Results. The degree of linear polarization (DoLP) observed by ZIMPOL spreads across several optical filters. We infer that it primarily probes dust located just outside of the point spread function, and in or near the plane of the sky, with a total optical depth close to unity in the line of sight, representing only a fraction of the total circumstellar dust. The maximum DoLP ranges from 0.03-0.38 depending on the source, fractions that can be reproduced by our 3D pilot models for grains composed of common dust species. The spatial structure of the DoLP shows a diverse set of shapes. Only for three sources do we note a correlation between the ALMA CO and SiO lines, which trace the gas density, and the DoLP, which traces the dust. Conclusion. The clumpiness of the DoLP and the lack of a consistent correlation between the gas and the dust location show that, in the inner circumstellar environment (CSE), dust formation occurs at very specific sites. This has potential consequences for the derived mass-loss rates and dust-to-gas ratio in the inner region of the CSE. Except for $\\pi^1$~Gru and perhaps GY Aql, we do not detect interactions between the circumstellar wind and the hypothesized companions that shape the wind at larger scales. This suggests that the orbits of any other companions are tilted out of the plane of the sky. |\n",
       "|<p style=\"color:green\"> **ERROR** </p>| <p style=\"color:green\">affiliation error: mpia.affiliation_verifications: '69117' keyword not found.</p> |"
      ],
      "text/plain": [
       "<IPython.core.display.Markdown object>"
      ]
     },
     "metadata": {},
     "output_type": "display_data"
    },
    {
     "data": {
      "text/markdown": [
       "\n",
       "|||\n",
       "|---:|:---|\n",
       "| [![arXiv](https://img.shields.io/badge/arXiv-arXiv:2301.01775-b31b1b.svg)](https://arxiv.org/abs/arXiv:2301.01775) | **In Search of the Edge: A Bayesian Exploration of the Detectability of  Red Edges in Exoplanet Reflection Spectra**  |\n",
       "|| Jonathan Gomez Barrientos, Ryan J. MacDonald, <mark>Nikole K. Lewis</mark>, <mark>Lisa Kaltenegger</mark> |\n",
       "|*Appeared on*| *2023-01-06*|\n",
       "|*Comments*| *23 pages, 17 figures. Accepted for publication in ApJ*|\n",
       "|**Abstract**| Reflection spectroscopy holds great promise for characterizing the atmospheres and surfaces of potentially habitable terrestrial exoplanets. The surface of the modern Earth exhibits a sharp albedo change near 750 nm caused by vegetation - the red edge - which would leave a strong spectral signature if present on an exoplanet. However, the retrieval of wavelength-dependent surface properties from reflection spectra has seen relatively little study. Here, we propose a new surface albedo parameterization capable of retrieving the wavelength location of a priori unknown 'edge-like' features. We demonstrate that a wavelength-dependent surface albedo model achieves higher accuracy in retrieving atmospheric composition. Wavelength-dependent surfaces are also generally preferred over a uniform albedo model when retrieving simulated reflection spectra for a modern Earth analog, even for moderate signal-to-noise ratios (S/N = 10) and Earth-like clouds. Further, the location of the modern Earth's red edge can be robustly and precisely constrained (within 70 nm for S/N = 10). Our results suggest that future space-based direct imaging missions have the potential to infer surface compositions for rocky exoplanets, including spectral edges similar to those caused by life on the modern Earth. |\n",
       "|<p style=\"color:green\"> **ERROR** </p>| <p style=\"color:green\">affiliation error: mpia.affiliation_verifications: 'Heidelberg' keyword not found.</p> |"
      ],
      "text/plain": [
       "<IPython.core.display.Markdown object>"
      ]
     },
     "metadata": {},
     "output_type": "display_data"
    },
    {
     "data": {
      "text/markdown": [
       "\n",
       "|||\n",
       "|---:|:---|\n",
       "| [![arXiv](https://img.shields.io/badge/arXiv-arXiv:2301.01776-b31b1b.svg)](https://arxiv.org/abs/arXiv:2301.01776) | **Exploring the stellar populations of backsplash galaxies**  |\n",
       "|| Ignacio Ferreras, et al. -- incl., <mark>Asmus Böhm</mark> |\n",
       "|*Appeared on*| *2023-01-06*|\n",
       "|*Comments*| *10 pages, 10 figures, accepted for publication in MNRAS*|\n",
       "|**Abstract**| Backsplash galaxies are those that traverse and overshoot cluster cores as they fall into these structures. They are affected by environment, and should stand out in contrast to the infalling population. We target galaxies in the vicinity of clusters (R>R200) and select a sample in projected phase space (PPS), from the compilation of Sampaio et al. based on SDSS data. We present a statistical analysis, comparing two regions in PPS, with the same projected distance to the cluster but different velocity. The analysis relies on the presence of variations in the stellar population content of backsplash galaxies. We find a lower limit in the fractional contribution of ~5% with respect to the general sample of infalling galaxies at similar group-centric distance when using single line strength analysis, or ~15-30% when adopting bivariate distributions. The stellar populations show a subtle but significant difference towards older ages, and a higher fraction of quiescent galaxies. We also compare this set with a general field sample, where a substantially larger difference in galaxy properties is found, with the field sample being consistently younger, metal poorer and with a lower fraction of quiescent galaxies. Noting that our \"cluster\" sample is located outside of the virial radius, we expect this difference to be caused by pre-processing of the infalling galaxies in the overall higher density regions. |\n",
       "|<p style=\"color:green\"> **ERROR** </p>| <p style=\"color:green\">affiliation error: mpia.affiliation_verifications: 'Heidelberg' keyword not found.</p> |"
      ],
      "text/plain": [
       "<IPython.core.display.Markdown object>"
      ]
     },
     "metadata": {},
     "output_type": "display_data"
    },
    {
     "data": {
      "text/markdown": [
       "\n",
       "|||\n",
       "|---:|:---|\n",
       "| [![arXiv](https://img.shields.io/badge/arXiv-arXiv:2301.01779-b31b1b.svg)](https://arxiv.org/abs/arXiv:2301.01779) | **The James Webb Space Telescope Mission: Optical Telescope Element  Design, Development, and Performance**  |\n",
       "|| Michael W. McElwain, et al. -- incl., <mark>Lee D. Feinberg</mark>, <mark>Bob Brown</mark>, <mark>Helen J. Cole</mark>, <mark>Joseph J. Green</mark> |\n",
       "|*Appeared on*| *2023-01-06*|\n",
       "|*Comments*| *accepted by PASP for JWST Overview Special Issue; 34 pages, 25 figures*|\n",
       "|**Abstract**| The James Webb Space Telescope (JWST) is a large, infrared space telescope that has recently started its science program which will enable breakthroughs in astrophysics and planetary science. Notably, JWST will provide the very first observations of the earliest luminous objects in the Universe and start a new era of exoplanet atmospheric characterization. This transformative science is enabled by a 6.6 m telescope that is passively cooled with a 5-layer sunshield. The primary mirror is comprised of 18 controllable, low areal density hexagonal segments, that were aligned and phased relative to each other in orbit using innovative image-based wavefront sensing and control algorithms. This revolutionary telescope took more than two decades to develop with a widely distributed team across engineering disciplines. We present an overview of the telescope requirements, architecture, development, superb on-orbit performance, and lessons learned. JWST successfully demonstrates a segmented aperture space telescope and establishes a path to building even larger space telescopes. |\n",
       "|<p style=\"color:green\"> **ERROR** </p>| <p style=\"color:green\">affiliation error: mpia.affiliation_verifications: 'Heidelberg' keyword not found.</p> |"
      ],
      "text/plain": [
       "<IPython.core.display.Markdown object>"
      ]
     },
     "metadata": {},
     "output_type": "display_data"
    },
    {
     "data": {
      "text/markdown": [
       "\n",
       "|||\n",
       "|---:|:---|\n",
       "| [![arXiv](https://img.shields.io/badge/arXiv-arXiv:2301.01798-b31b1b.svg)](https://arxiv.org/abs/arXiv:2301.01798) | **The IXPE view of GRB 221009A**  |\n",
       "|| Michela Negro, et al. -- incl., <mark>Eric Burns</mark>, <mark>Ioannis Liodakis</mark>, <mark>Herman L. Marshall</mark>, <mark>Elina Lindfors</mark> |\n",
       "|*Appeared on*| *2023-01-06*|\n",
       "|*Comments*| **|\n",
       "|**Abstract**| We present the IXPE observation of GRB 221009A which includes upper limits on the linear polarization degree of both prompt and afterglow emission in the soft X-ray energy band. GRB 221009A is an exceptionally bright gamma-ray burst (GRB) that reached Earth on 2022 October 9 after travelling through the dust of the Milky Way. The Imaging X-ray Polarimetry Explorer (IXPE) pointed at GRB 221009A on October 11 to observe, for the first time, the 2-8 keV X-ray polarization of a GRB afterglow. We set an upper limit to the polarization degree of the afterglow emission of 13.8% at a 99% confidence level. This result provides constraints on the jet opening angle and the viewing angle of the GRB, or alternatively, other properties of the emission region. Additionally, IXPE captured halo-rings of dust-scattered photons which are echoes of the GRB prompt emission. The 99% confidence level upper limit of the prompt polarization degree is about 55%, consistent with a scenario involving synchrotron emission in an ordered magnetic field. This single IXPE pointing provides both the first assessment of X-ray polarization of a GRB afterglow and the first GRB study with polarization observations of both the prompt and afterglow phases. |\n",
       "|<p style=\"color:green\"> **ERROR** </p>| <p style=\"color:green\">affiliation error: mpia.affiliation_verifications: 'Heidelberg' keyword not found.</p> |"
      ],
      "text/plain": [
       "<IPython.core.display.Markdown object>"
      ]
     },
     "metadata": {},
     "output_type": "display_data"
    },
    {
     "data": {
      "text/markdown": [
       "\n",
       "|||\n",
       "|---:|:---|\n",
       "| [![arXiv](https://img.shields.io/badge/arXiv-arXiv:2301.01799-b31b1b.svg)](https://arxiv.org/abs/arXiv:2301.01799) | **The HETDEX Survey: Emission Line Exploration and Source Classification**  |\n",
       "|| Dustin Davis, et al. -- incl., <mark>Lindsay R. House</mark>, <mark>Chenxu Liu</mark>, <mark>Yechi Zhang</mark> |\n",
       "|*Appeared on*| *2023-01-06*|\n",
       "|*Comments*| *38 pages, 11 figures*|\n",
       "|**Abstract**| The Hobby-Eberly Telescope Dark Energy Experiment (HETDEX) is an untargeted spectroscopic survey that aims to measure the expansion rate of the Universe at $z \\sim 2.4$ to 1% precision for both $H(z)$ and $D_A(z)$. HETDEX is in the process of mapping in excess of one million Lyman Alpha emitting (LAE) galaxies and a similar number of lower-z galaxies as a tracer of the large-scale structure. The success of the measurement is predicated on the post-observation separation of galaxies with Ly$\\alpha$ emission from the lower-$z$ interloping galaxies, primarily [OII], with low contamination and high recovery rates. The Emission Line eXplorer (ELiXer) is the principal classification tool for HETDEX, providing a tunable balance between contamination and completeness as dictated by science needs. By combining multiple selection criteria, ELiXer improves upon the 20 Angstrom rest-frame equivalent width cut commonly used to distinguish LAEs from lower-$z$ [OII] emitting galaxies. Despite a spectral resolving power, R $\\sim800$, that cannot resolve the [OII] doublet, we demonstrate the ability to distinguish LAEs from foreground galaxies with 98.1% accuracy. We estimate a contamination rate of Ly$\\alpha$ by [OII] of 1.2% and a Ly$\\alpha$ recovery rate of 99.1% using the default ELiXer configuration. These rates meet the HETDEX science requirements. |\n",
       "|<p style=\"color:green\"> **ERROR** </p>| <p style=\"color:green\">affiliation error: mpia.affiliation_verifications: 'Heidelberg' keyword not found.</p> |"
      ],
      "text/plain": [
       "<IPython.core.display.Markdown object>"
      ]
     },
     "metadata": {},
     "output_type": "display_data"
    },
    {
     "data": {
      "text/markdown": [
       "\n",
       "|||\n",
       "|---:|:---|\n",
       "| [![arXiv](https://img.shields.io/badge/arXiv-arXiv:2301.01826-b31b1b.svg)](https://arxiv.org/abs/arXiv:2301.01826) | **HETDEX Public Source Catalog 1: 220K Sources Including Over 50K Lyman  Alpha Emitters from an Untargeted Wide-area Spectroscopic Survey**  |\n",
       "|| Erin Mentuch Cooper, et al. -- incl., <mark>Chenxu Liu</mark>, <mark>Lindsay R. House</mark>, <mark>Hanshin Lee</mark>, <mark>Yechi Zhang</mark> |\n",
       "|*Appeared on*| *2023-01-06*|\n",
       "|*Comments*| *38 pages, 20 figures. Data access and details about the catalog can be found online at this http URL A copy of the catalogs presented in this work (Version 3.2) is available to download at Zenodo doi:10.5281/zenodo.7448504*|\n",
       "|**Abstract**| We present the first publicly released catalog of sources obtained from the Hobby-Eberly Telescope Dark Energy Experiment (HETDEX). HETDEX is an integral field spectroscopic survey designed to measure the Hubble expansion parameter and angular diameter distance at 1.88<z<3.52 by using the spatial distribution of more than a million Ly-alpha-emitting galaxies over a total target area of 540 deg^2. The catalog comes from contiguous fiber spectra coverage of 25 deg^2 of sky from January 2017 through June 2020, where object detection is performed through two complementary detection methods: one designed to search for line emission and the other a search for continuum emission. The HETDEX public release catalog is dominated by emission-line galaxies and includes 51,863 Ly{\\alpha}-emitting galaxy (LAE) identifications and 123,891 OII-emitting galaxies at z<0.5. Also included in the catalog are 37,916 stars, 5274 low-redshift (z<0.5) galaxies without emission lines, and 4976 active galactic nuclei. The catalog provides sky coordinates, redshifts, line identifications, classification information, line fluxes, OII and Ly-alpha line luminosities where applicable, and spectra for all identified sources processed by the HETDEX detection pipeline. Extensive testing demonstrates that HETDEX redshifts agree to within deltaz < 0.02, 96.1% of the time to those in external spectroscopic catalogs. We measure the photometric counterpart fraction in deep ancillary Hyper Suprime-Cam imaging and find that only 55.5% of the LAE sample has an r-band continuum counterpart down to a limiting magnitude of r~26.2 mag (AB) indicating that an LAE search of similar sensitivity with photometric pre-selection would miss nearly half of the HETDEX LAE catalog sample. Data access and details about the catalog can be found online at this http URL |\n",
       "|<p style=\"color:green\"> **ERROR** </p>| <p style=\"color:green\">affiliation error: mpia.affiliation_verifications: 'Heidelberg' keyword not found.</p> |"
      ],
      "text/plain": [
       "<IPython.core.display.Markdown object>"
      ]
     },
     "metadata": {},
     "output_type": "display_data"
    },
    {
     "data": {
      "text/markdown": [
       "\n",
       "|||\n",
       "|---:|:---|\n",
       "| [![arXiv](https://img.shields.io/badge/arXiv-arXiv:2301.01900-b31b1b.svg)](https://arxiv.org/abs/arXiv:2301.01900) | **False Alarms Revealed in a Planet Search of TESS Light Curves**  |\n",
       "|| Michelle Kunimoto, et al. -- incl., <mark>Jack J. Lissauer</mark> |\n",
       "|*Appeared on*| *2023-01-06*|\n",
       "|*Comments*| *4 pages, 1 figure, to be published in RNAAS*|\n",
       "|**Abstract**| We examined the period distribution of transit-like signatures uncovered in a Box-Least Squares transit search of TESS light curves, and show significant pileups at periods related to instrumental and astrophysical noise sources. Signatures uncovered in a search of inverted light curves feature similar structures in the period distribution. Automated vetting methods will need to remove these excess detections, and light curve inversion appears to be a suitable method for simulating false alarms and designing new vetting metrics. |\n",
       "|<p style=\"color:green\"> **ERROR** </p>| <p style=\"color:green\">affiliation error: mpia.affiliation_verifications: 'Heidelberg' keyword not found.</p> |"
      ],
      "text/plain": [
       "<IPython.core.display.Markdown object>"
      ]
     },
     "metadata": {},
     "output_type": "display_data"
    },
    {
     "data": {
      "text/markdown": [
       "\n",
       "|||\n",
       "|---:|:---|\n",
       "| [![arXiv](https://img.shields.io/badge/arXiv-arXiv:2301.01957-b31b1b.svg)](https://arxiv.org/abs/arXiv:2301.01957) | **A practicable estimation of opening angle of dust torus in Type-1.9 AGN  with double-peaked broad H$α$**  |\n",
       "|| <mark>Zhang XueGuang</mark> |\n",
       "|*Appeared on*| *2023-01-06*|\n",
       "|*Comments*| *6 pages, 5 figures, 1 table, accepted to be published in MNRAS*|\n",
       "|**Abstract**| In this manuscript, an independent method is proposed to estimate opening angle of dust torus in AGN, through unique properties of Type-1.9 AGN with double-peaked broad H$\\alpha$ (Type-1.9 DPAGN) coming from central accretion disk. Type-1.9 AGN without broad H$\\beta$ can be expected by the commonly accepted unified model of AGN, considering central BLRs seriously obscured by dust torus with its upper boundary in the line of sight. For the unique Type-1.9 DPAGN, accretion disk originations of double-peaked broad H$\\alpha$ can be applied to determine the inclination angle of the central accretion disk, which is well accepted as substitute of the half opening angle of the central dust torus. Then, among low redshift Type-1.9 DPAGN in SDSS, SDSS J1607+3319 at redshift 0.063 is collected, and the half opening angle of the central dust torus is determined to be around 46$\\pm$4\\degr, after considering disfavoured BBH system to explain the double-peaked broad H$\\alpha$ through long-term none variabilities and disfavoured local physical conditions to explain disappearance of broad H$\\beta$ through virial BH mass properties. The results indicate that more detailed studying on dust torus of AGN can be appropriately done through Type-1.9 DPAGN in the near future. |\n",
       "|<p style=\"color:green\"> **ERROR** </p>| <p style=\"color:green\">affiliation error: mpia.affiliation_verifications: 'Heidelberg' keyword not found.</p> |"
      ],
      "text/plain": [
       "<IPython.core.display.Markdown object>"
      ]
     },
     "metadata": {},
     "output_type": "display_data"
    },
    {
     "data": {
      "text/markdown": [
       "\n",
       "|||\n",
       "|---:|:---|\n",
       "| [![arXiv](https://img.shields.io/badge/arXiv-arXiv:2301.01983-b31b1b.svg)](https://arxiv.org/abs/arXiv:2301.01983) | **Characterization of a half-wave plate for CMB circular polarization  measurement with POLARBEAR**  |\n",
       "|| T. Fujino, et al. -- incl., <mark>A. T. Lee</mark> |\n",
       "|*Appeared on*| *2023-01-06*|\n",
       "|*Comments*| *25 pages, 6 figures*|\n",
       "|**Abstract**| A half-wave plate (HWP) is often used as a modulator to suppress systematic error in the measurements of cosmic microwave background (CMB) polarization. An HWP can also be used to measure circular polarization (CP) through its optical leakage from CP to linear polarization. The CP of the CMB is predicted to be produced by interactions in the Universe, such as interactions with supernova remnants of population III stars. Thus, the observation of the CP of CMB is a new tool for searching for population III stars. In this paper, we demonstrate the improved measurement of the leakage coefficient using the transmission spectrum measurement of an actual HWP in the laboratory. We measured the transmittance of linearly polarized light through the HWP used in the \\textsc{Polarbear} experiment in the frequency range of \\SIrange{120}{160}{GHz}. We evaluate properties of the HWP by fitting the data with a physical model using the Markov Chain Monte Carlo method. We then estimate the band-averaged CP leakage coefficient using the physical model. We find that the leakage coefficient strongly depends on the spectra of CP sources. We thus calculate the maximum rate of leakage from CP to linear polarization as $0.133 \\pm 0.009$ in the Rayleigh--Jeans spectrum. The nonzero value shows that \\textsc{Polarbear} would have sensitivity to the CP. Additionally, because we use the bandpass of detectors installed in the telescope to calculate the band-averaged values, we also consider systematic effects in the experiment. |\n",
       "|<p style=\"color:green\"> **ERROR** </p>| <p style=\"color:green\">affiliation error: mpia.affiliation_verifications: 'Heidelberg' keyword not found.</p> |"
      ],
      "text/plain": [
       "<IPython.core.display.Markdown object>"
      ]
     },
     "metadata": {},
     "output_type": "display_data"
    },
    {
     "data": {
      "text/markdown": [
       "\n",
       "|||\n",
       "|---:|:---|\n",
       "| [![arXiv](https://img.shields.io/badge/arXiv-arXiv:2301.01988-b31b1b.svg)](https://arxiv.org/abs/arXiv:2301.01988) | **The Co-Ordinated Radio and Infrared Survey for High-Mass Star Formation.  V. The CORNISH-South Survey and Catalogue**  |\n",
       "|| T. Irabor, et al. -- incl., <mark>J. Green</mark> |\n",
       "|*Appeared on*| *2023-01-06*|\n",
       "|*Comments*| **|\n",
       "|**Abstract**| We present the first high spatial resolution radio continuum survey of the southern Galactic plane. The CORNISH project has mapped the region defined by $295^{\\circ} < l < 350^{\\circ}$; $|b| < 1^{\\circ}$ at 5.5-GHz, with a resolution of 2.5$^{''}$ (FWHM). As with the CORNISH-North survey, this is designed to primarily provide matching radio data to the Spitzer GLIMPSE survey region. The CORNISH-South survey achieved a root mean square noise level of $\\sim$ 0.11 mJy beam$^{-1}$, using the 6A configuration of the Australia Telescope Compact Array (ATCA). In this paper, we discuss the observations, data processing and measurements of the source properties. Above a 7$\\sigma$ detection limit, 4701 sources were detected, and their ensemble properties show similar distributions with their northern counterparts. The catalogue is highly reliable and is complete to 90 per cent at a flux density level of 1.1 mJy. We developed a new way of measuring the integrated flux densities and angular sizes of non-Gaussian sources. The catalogue primarily provides positions, flux density measurements and angular sizes. All sources with IR counterparts at 8$\\mu m$ have been visually classified, utilizing additional imaging data from optical, near-IR, mid-IR, far-IR and sub-millimetre galactic plane surveys. This has resulted in the detection of 524 H II regions of which 255 are ultra-compact H II regions, 287 planetary nebulae, 79 radio stars and 6 massive young stellar objects. The rest of the sources are likely to be extra-galactic. These data are particularly important in the characterization and population studies of compact ionized sources such as UCHII regions and PNe towards the Galactic mid-plane. |\n",
       "|<p style=\"color:green\"> **ERROR** </p>| <p style=\"color:green\">affiliation error: mpia.affiliation_verifications: 'Heidelberg' keyword not found.</p> |"
      ],
      "text/plain": [
       "<IPython.core.display.Markdown object>"
      ]
     },
     "metadata": {},
     "output_type": "display_data"
    },
    {
     "data": {
      "text/markdown": [
       "\n",
       "|||\n",
       "|---:|:---|\n",
       "| [![arXiv](https://img.shields.io/badge/arXiv-arXiv:2301.02048-b31b1b.svg)](https://arxiv.org/abs/arXiv:2301.02048) | **Investigating the morphology and CO gas kinematics of Sh2-112 region**  |\n",
       "|| <mark>Kshitiz Mallick</mark>, et al. -- incl., <mark>Saurabh Sharma</mark> |\n",
       "|*Appeared on*| *2023-01-06*|\n",
       "|*Comments*| *15 Pages, 11 Figures, Accepted in Journal of Astrophysics and Astronomy (JAA)*|\n",
       "|**Abstract**| We present a study of the molecular cloud in Sh2-112 massive star forming region using the 3-2 transition of CO isotopologues - CO, 13CO, and C18O; supplemented in part by CGPS HI line emission and MSX data. Sh2-112 is an optically visible region powered by an O8V type massive star BD +45 3216, and hosts two Red MSX Survey sources - G083.7962+03.3058 and G083.7071+03.2817 - classified as HII region and young stellar object, respectively. Reduced spectral data products from the James Clerk Maxwell Telescope archive, centered on the two RMS objects with ~7'x7' field of view each, were utilised for the purpose. The 13CO(3-2) channel map of the region shows the molecular cloud to have filamentary extensions directed away from the massive star, which also seems to be at the edge of a cavity like structure. Multiple molecular cloud protrusions into this cavity structure host local peaks of emission. The integrated emission map of the region constructed from only those emission clumps detected above 5$\\sigma$ level in the position-position-velocity space affirms the same. MSX sources were found distributed along the cavity boundary where the gas has the been compressed. Spectral extraction at these positions yielded high Mach numbers and low ratios of thermal to non-thermal pressure, suggesting a dominance of supersonic and non-thermal motion in the cloud. |\n",
       "|<p style=\"color:green\"> **ERROR** </p>| <p style=\"color:green\">affiliation error: mpia.affiliation_verifications: 'Heidelberg' keyword not found.</p> |"
      ],
      "text/plain": [
       "<IPython.core.display.Markdown object>"
      ]
     },
     "metadata": {},
     "output_type": "display_data"
    },
    {
     "data": {
      "text/markdown": [
       "\n",
       "|||\n",
       "|---:|:---|\n",
       "| [![arXiv](https://img.shields.io/badge/arXiv-arXiv:2301.02070-b31b1b.svg)](https://arxiv.org/abs/arXiv:2301.02070) | **Fragmentation of the High-mass \"Starless'' Core G10.21-0.31: a Coherent  Evolutionary Picture for Star Formation**  |\n",
       "|| <mark>Wenyu Jiao</mark>, et al. -- incl., <mark>Siju Zhang</mark> |\n",
       "|*Appeared on*| *2023-01-06*|\n",
       "|*Comments*| *30 pages, 13 figures; accepted for publication in ApJ*|\n",
       "|**Abstract**| G10.21-0.31 is a 70 $\\mu$m-dark high-mass starless core ($M>300$ $\\mathrm{M_{\\odot}}$ within $r<0.15$ pc) identified in $Spitzer$, $Herschel$, and APEX continuum surveys, and is believed to harbor the initial stages of high-mass star formation. We present ALMA and SMA observations to resolve the internal structure of this promising high-mass starless core. Sensitive high-resolution ALMA 1.3 mm dust continuum emission reveals three cores of mass ranging 11-18 $\\mathrm{M_{\\odot}}$, characterized by a turbulent fragmentation. Core 1, 2, and 3 represent a coherent evolution at three different evolutionary stages, characterized by outflows (CO, SiO), gas temperature ($\\mathrm{H_2CO}$), and deuteration ($\\mathrm{N_2D^+/N_2H^+}$). We confirm the potential to form high-mass stars in G10.21 and explore the evolution path of high-mass star formation. Yet, no high-mass prestellar core is present in G10.21. This suggests a dynamical star formation where cores grow in mass over time. |\n",
       "|<p style=\"color:green\"> **ERROR** </p>| <p style=\"color:green\">affiliation error: mpia.affiliation_verifications: 'Heidelberg' keyword not found.</p> |"
      ],
      "text/plain": [
       "<IPython.core.display.Markdown object>"
      ]
     },
     "metadata": {},
     "output_type": "display_data"
    },
    {
     "data": {
      "text/markdown": [
       "\n",
       "|||\n",
       "|---:|:---|\n",
       "| [![arXiv](https://img.shields.io/badge/arXiv-arXiv:2301.02157-b31b1b.svg)](https://arxiv.org/abs/arXiv:2301.02157) | **Asteroids' reflectance from Gaia DR3: Artificial reddening at near-UV  wavelengths**  |\n",
       "|| Fernando Tinaut-Ruano, et al. -- incl., <mark>Javier Licandro</mark> |\n",
       "|*Appeared on*| *2023-01-06*|\n",
       "|*Comments*| *5 pages plus appendix. Accepted for publication in A&A*|\n",
       "|**Abstract**| Aims. We aim to assess the suitability in the near-ultraviolet (NUV) region of the solar analogues selected by the team responsible for the asteroid reflectance included in Gaia Data Release 3 (DR3) and to suggest a correction (in the form of multiplicative factors) to be applied to the Gaia DR3 asteroid reflectance spectra to account for the differences with respect to the solar analogue Hyades 64. Results. We find that the solar analogues selected for Gaia DR3 to compute the reflectance spectra of the asteroids of this data release have a systematically redder spectral slope at wavelengths shorter than 0.55 {\\mu}m than Hyades 64. We find that no correction is needed in the red photometer (RP, between 0.7 and 1 {\\mu}m), but a correction should be applied at wavelengths below 0.55 {\\mu}m, that is in the blue photometer (BP). After applying the correction, we find a better agreement between Gaia DR3 spectra, ECAS, HST, and our set of ground-based observations with the TNG. Conclusions. Correcting the near-UV part of the asteroid reflectance spectra is very important for proper comparisons with laboratory spectra (minerals, meteorite samples, etc.) or to analyse quantitatively the UV absorption (which is particularly important to study hydration in primitive asteroids). The spectral behaviour at wavelengths below 0.5 {\\mu}m of the selected solar analogues should be fully studied and taken into account for Gaia DR4 |\n",
       "|<p style=\"color:green\"> **ERROR** </p>| <p style=\"color:green\">affiliation error: mpia.affiliation_verifications: 'Heidelberg' keyword not found.</p> |"
      ],
      "text/plain": [
       "<IPython.core.display.Markdown object>"
      ]
     },
     "metadata": {},
     "output_type": "display_data"
    },
    {
     "data": {
      "text/markdown": [
       "\n",
       "|||\n",
       "|---:|:---|\n",
       "| [![arXiv](https://img.shields.io/badge/arXiv-arXiv:2301.02179-b31b1b.svg)](https://arxiv.org/abs/arXiv:2301.02179) | **The GLASS-JWST Early Release Science Program. II. Stage I release of  NIRCam imaging and catalogs in the Abell 2744 region**  |\n",
       "|| Diego Paris, et al. -- incl., <mark>Lilan Yang</mark>, <mark>Nicha Leethochawalit</mark> |\n",
       "|*Appeared on*| *2023-01-06*|\n",
       "|*Comments*| *Submitted to ApJ*|\n",
       "|**Abstract**| We present images and a multi-wavelength photometric catalog based on all of the JWST NIRCam observations obtained to date in the region of the Abell 2744 galaxy cluster. These data come from three different programs, namely the GLASS-JWST Early Release Science Program, UNCOVER, and Director's Discretionary Time program 2756. The observed area in the NIRCam wide-band filters - covering the central and extended regions of the cluster, as well as new parallel fields - is 46.5 arcmin$^2$ in total. All images in eight bands (F090W, F115W, F150W, F200W, F277W, F356W, F410M, F444W) have been reduced adopting the latest calibration and references available to date. Data reduction has been performed using an augmented version of the official JWST pipeline, with improvements aimed at removing or mitigating defects in the raw images and improve the background subtraction and photometric accuracy. We obtain a F444W-detected multi-band catalog including all NIRCam data and available HST data, adopting forced aperture photometry on PSF-matched images. The catalog is intended to enable early scientific investigations, and is optimized for the study of faint galaxies; it contains 24389 sources, with a 5$\\sigma$ limiting magnitude in the F444W band ranging from 28.5 to 30.5 AB, as a result of the varying exposure times of the surveys that observed the field. We publicly release the reduced NIRCam images, associated multi-wavelength catalog, and code adopted for $1/f$ noise removal with tha aim of aiding users to familiarize themselves with JWST NIRCam data and identify targets for follow-up observations. |\n",
       "|<p style=\"color:green\"> **ERROR** </p>| <p style=\"color:green\">affiliation error: mpia.affiliation_verifications: 'Heidelberg' keyword not found.</p> |"
      ],
      "text/plain": [
       "<IPython.core.display.Markdown object>"
      ]
     },
     "metadata": {},
     "output_type": "display_data"
    },
    {
     "data": {
      "text/markdown": [
       "\n",
       "|||\n",
       "|---:|:---|\n",
       "| [![arXiv](https://img.shields.io/badge/arXiv-arXiv:2301.01944-b31b1b.svg)](https://arxiv.org/abs/arXiv:2301.01944) | **Study of variability in long-term multiwavelength optical lightcurves of  blazar AO 0235+164**  |\n",
       "|| Abhradeep Roy, et al. -- incl., <mark>Mai Liao</mark> |\n",
       "|*Appeared on*| *2023-01-06*|\n",
       "|*Comments*| *27 pages, 10 figures. Accepted for publication in The Astrophysical Journal Supplement Series (ApJS)*|\n",
       "|**Abstract**| We present a long-term and intraday variability study on optical multiwaveband ($U\\!BV\\!RI$) data from the blazar AO 0235+164 collected by various telescopes for $\\sim$44 years (1975--2019). The blazar was found to be significantly variable over the years in all wavebands with a variation of about six magnitudes between its low and active states. The variations in the different wavebands are highly correlated without any time lag. We did not observe any significant trend in color variation with time, but we observed a bluer-when-brighter trend between the $B-I$ color index and the $R$-magnitude. Optical $BV\\!R$-band spectral energy distributions always show a convex shape. Significant intraday variability was frequently seen in the quasi-simultaneous observations of AO\\,0235+164 made on 22 nights in $R$ and $V$-bands by the CASLEO and CAHA telescopes during 1999--2019. We also estimated the central supermassive black-hole mass of $7.9\\times10^7 M_{\\odot}$ by analyzing the broad Mg II emission line in AO 0235+164's spectrum. We briefly explore the probable physical scenarios responsible for the observed variability. |\n",
       "|<p style=\"color:green\"> **ERROR** </p>| <p style=\"color:green\">affiliation error: mpia.affiliation_verifications: 'Planck' keyword not found.</p> |"
      ],
      "text/plain": [
       "<IPython.core.display.Markdown object>"
      ]
     },
     "metadata": {},
     "output_type": "display_data"
    },
    {
     "data": {
      "text/markdown": [
       "\n",
       "|||\n",
       "|---:|:---|\n",
       "| [![arXiv](https://img.shields.io/badge/arXiv-arXiv:2301.01876-b31b1b.svg)](https://arxiv.org/abs/arXiv:2301.01876) | **ATOMS: ALMA Three-millimeter Observations of Massive Star-forming  regions -XIV. Properties of resolved UC Hii regions**  |\n",
       "|| <mark>C. Zhang</mark>, et al. -- incl., <mark>Tie Liu</mark>, <mark>H. -L. Liu</mark>, <mark>Y. Zhang</mark>, <mark>Shanghuo Li</mark>, <mark>Chang Won Lee</mark>, <mark>D. Li</mark> |\n",
       "|*Appeared on*| *2023-01-06*|\n",
       "|*Comments*| **|\n",
       "|**Abstract**| Hydrogen recombination lines (RRLs) are one of the major diagnostics of the physical properties of H{\\sc ii} regions. We use RRL H40$\\alpha$, He40$\\alpha$ and 3 mm continuum emission to investigate the properties of a large sample of resolved UC H{\\sc ii} regions identified in the ATOMS survey. In total, we identify 94 UC H{\\sc ii} regions from H40$\\alpha$ emission. The basic parameters for these UC H{\\sc ii} regions such as electron density, emission measure, electron temperature, ionic abundance ratio (n$_{\\rm He^+}$/n$_{\\rm H^+}$), and line width are derived. The median electron density and the median n$_{\\rm He^+}$/n$_{\\rm H^+}$ ratio of these UC H{\\sc ii} regions derived from RRLs are $\\sim$9000 cm$^{-3}$ and 0.11, respectively. Within UC H{\\sc ii} regions, the n$_{\\rm He^+}$/n$_{\\rm H^+}$ ratios derived from the intensity ratio of the He40$\\alpha$ and H40$\\alpha$ lines seems to be higher in the boundary region than in the center. The H40$\\alpha$ line width is mainly broadened by thermal motion and microturbulence. The electron temperature of these UC H{\\sc ii} regions has a median value of $\\sim$6700 K, and its dependence on galactocentric distance is weak. |\n",
       "|<p style=\"color:red\"> **ERROR** </p>| <p style=\"color:red\">latex error not a gzip file</p> |"
      ],
      "text/plain": [
       "<IPython.core.display.Markdown object>"
      ]
     },
     "metadata": {},
     "output_type": "display_data"
    }
   ],
   "source": [
    "import datetime\n",
    "today = str(datetime.date.today())\n",
    "logfile = f\"_build/html/logs/log-{today}.md\"\n",
    "\n",
    "\n",
    "with open(logfile, 'w') as logs:\n",
    "    # Success\n",
    "    logs.write(f'# Arxiv on Deck 2: Logs - {today}\\n\\n')\n",
    "    logs.write(\"\"\"* Arxiv had {0:,d} new papers\\n\"\"\".format(len(new_papers)))\n",
    "    logs.write(\"\"\"    * {0:,d} with possible author matches\\n\\n\"\"\".format(len(candidates)))\n",
    "    logs.write(\"## Sucessful papers\\n\\n\")\n",
    "    display(Markdown(\"## Successful papers\"))\n",
    "    success = [k[0] for k in documents]\n",
    "    for candid in candidates:\n",
    "        if candid['identifier'].split(':')[-1] in success:\n",
    "            display(candid)\n",
    "            logs.write(candid.generate_markdown_text() + '\\n\\n')\n",
    "\n",
    "    ## failed\n",
    "    logs.write(\"## Failed papers\\n\\n\")\n",
    "    display(Markdown(\"## Failed papers\"))\n",
    "    failed = sorted(failed, key=lambda x: x[1])\n",
    "    current_reason = \"\"\n",
    "    for paper, reason in failed:\n",
    "        if 'affiliation' in reason:\n",
    "            color = 'green'\n",
    "        else:\n",
    "            color = 'red'\n",
    "        data = Markdown(\n",
    "                paper.generate_markdown_text() + \n",
    "                f'\\n|<p style=\"color:{color:s}\"> **ERROR** </p>| <p style=\"color:{color:s}\">{reason:s}</p> |'\n",
    "               )\n",
    "        if reason != current_reason:\n",
    "            logs.write(f'### {reason:s} \\n\\n')\n",
    "            current_reason = reason\n",
    "        logs.write(data.data + '\\n\\n')\n",
    "        \n",
    "        # only display here the important errors (all in logs)\n",
    "        # if color in ('red',):\n",
    "        display(data)"
   ]
  },
  {
   "cell_type": "markdown",
   "id": "472d20ee",
   "metadata": {
    "papermill": {
     "duration": 0.009616,
     "end_time": "2023-01-06T04:08:55.169892",
     "exception": false,
     "start_time": "2023-01-06T04:08:55.160276",
     "status": "completed"
    },
    "tags": []
   },
   "source": [
    "## Export documents\n",
    "\n",
    "We now write the .md files and export relevant images"
   ]
  },
  {
   "cell_type": "code",
   "execution_count": 7,
   "id": "d426aed9",
   "metadata": {
    "execution": {
     "iopub.execute_input": "2023-01-06T04:08:55.192160Z",
     "iopub.status.busy": "2023-01-06T04:08:55.191483Z",
     "iopub.status.idle": "2023-01-06T04:08:55.198832Z",
     "shell.execute_reply": "2023-01-06T04:08:55.198193Z"
    },
    "papermill": {
     "duration": 0.020779,
     "end_time": "2023-01-06T04:08:55.200375",
     "exception": false,
     "start_time": "2023-01-06T04:08:55.179596",
     "status": "completed"
    },
    "tags": []
   },
   "outputs": [],
   "source": [
    "def export_markdown_summary(md: str, md_fname:str, directory: str):\n",
    "    \"\"\"Export MD document and associated relevant images\"\"\"\n",
    "    import os\n",
    "    import shutil\n",
    "    import re\n",
    "\n",
    "    if (os.path.exists(directory) and not os.path.isdir(directory)):\n",
    "        raise RuntimeError(f\"a non-directory file exists with name {directory:s}\")\n",
    "\n",
    "    if (not os.path.exists(directory)):\n",
    "        print(f\"creating directory {directory:s}\")\n",
    "        os.mkdir(directory)\n",
    "\n",
    "    fig_fnames = (re.compile(r'\\[Fig.*\\]\\((.*)\\)').findall(md) + \n",
    "                  re.compile(r'\\<img src=\"([^>\\s]*)\"[^>]*/>').findall(md))\n",
    "    for fname in fig_fnames:\n",
    "        if 'http' in fname:\n",
    "            # No need to copy online figures\n",
    "            continue\n",
    "        destdir = os.path.join(directory, os.path.dirname(fname))\n",
    "        destfname = os.path.join(destdir, os.path.basename(fname))\n",
    "        try:\n",
    "            os.makedirs(destdir)\n",
    "        except FileExistsError:\n",
    "            pass\n",
    "        shutil.copy(fname, destfname)\n",
    "    with open(os.path.join(directory, md_fname), 'w') as fout:\n",
    "        fout.write(md)\n",
    "    print(\"exported in \", os.path.join(directory, md_fname))\n",
    "    [print(\"    + \" + os.path.join(directory,fk)) for fk in fig_fnames]"
   ]
  },
  {
   "cell_type": "code",
   "execution_count": 8,
   "id": "014d04a4",
   "metadata": {
    "execution": {
     "iopub.execute_input": "2023-01-06T04:08:55.221000Z",
     "iopub.status.busy": "2023-01-06T04:08:55.220534Z",
     "iopub.status.idle": "2023-01-06T04:08:55.233556Z",
     "shell.execute_reply": "2023-01-06T04:08:55.232925Z"
    },
    "papermill": {
     "duration": 0.025051,
     "end_time": "2023-01-06T04:08:55.235149",
     "exception": false,
     "start_time": "2023-01-06T04:08:55.210098",
     "status": "completed"
    },
    "tags": []
   },
   "outputs": [
    {
     "name": "stdout",
     "output_type": "stream",
     "text": [
      "exported in  _build/html/2301.01895.md\n",
      "    + _build/html/tmp_2301.01895/./fig/PyV.png\n",
      "    + _build/html/tmp_2301.01895/./fig/PxV.png\n",
      "    + _build/html/tmp_2301.01895/./fig/zoomin.png\n",
      "exported in  _build/html/2301.01937.md\n",
      "    + _build/html/tmp_2301.01937/./BRC-Statistics.png\n",
      "    + _build/html/tmp_2301.01937/./PV-View.png\n",
      "    + _build/html/tmp_2301.01937/./Large-Env-Improved.png\n"
     ]
    }
   ],
   "source": [
    "for paper_id, md in documents:\n",
    "    export_markdown_summary(md, f\"{paper_id:s}.md\", '_build/html/')"
   ]
  },
  {
   "cell_type": "markdown",
   "id": "f087a0a7",
   "metadata": {
    "papermill": {
     "duration": 0.009726,
     "end_time": "2023-01-06T04:08:55.254644",
     "exception": false,
     "start_time": "2023-01-06T04:08:55.244918",
     "status": "completed"
    },
    "tags": []
   },
   "source": [
    "## Display the papers\n",
    "\n",
    "Not necessary but allows for a quick check."
   ]
  },
  {
   "cell_type": "code",
   "execution_count": 9,
   "id": "fd25f625",
   "metadata": {
    "execution": {
     "iopub.execute_input": "2023-01-06T04:08:55.275783Z",
     "iopub.status.busy": "2023-01-06T04:08:55.275086Z",
     "iopub.status.idle": "2023-01-06T04:08:55.284587Z",
     "shell.execute_reply": "2023-01-06T04:08:55.283982Z"
    },
    "papermill": {
     "duration": 0.021895,
     "end_time": "2023-01-06T04:08:55.286243",
     "exception": false,
     "start_time": "2023-01-06T04:08:55.264348",
     "status": "completed"
    },
    "scrolled": false,
    "tags": []
   },
   "outputs": [
    {
     "data": {
      "text/markdown": [
       "<div class=\"macros\" style=\"visibility:hidden;\">\n",
       "$\\newcommand{\\ensuremath}{}$\n",
       "$\\newcommand{\\xspace}{}$\n",
       "$\\newcommand{\\object}[1]{\\texttt{#1}}$\n",
       "$\\newcommand{\\farcs}{{.}''}$\n",
       "$\\newcommand{\\farcm}{{.}'}$\n",
       "$\\newcommand{\\arcsec}{''}$\n",
       "$\\newcommand{\\arcmin}{'}$\n",
       "$\\newcommand{\\ion}[2]{#1#2}$\n",
       "$\\newcommand{\\textsc}[1]{\\textrm{#1}}$\n",
       "$\\newcommand{\\hl}[1]{\\textrm{#1}}$\n",
       "$\\newcommand{\\casa}{\\textsc{\\large casa}}$\n",
       "$\\newcommand{\\getsf}{\\textsc{\\large getsf}}$\n",
       "$\\newcommand{\\getsources}{\\textsc{\\large getsources}}$\n",
       "$\\newcommand{\\scousepy}{\\textsc{\\large scousepy}}$\n",
       "$\\newcommand{\\astrodendro}{\\textsc{\\large astrodendro}}$\n",
       "$\\newcommand{\\acorns}{\\textsc{\\large acorns}}$\n",
       "$\\newcommand{\\tablenotemarknew}[1]{^{#1}}$\n",
       "$\\newcommand{\\majchange}[1]{{\\color{red}#1}}$\n",
       "$\\newcommand{\\minchange}[1]{\\textbf{#1}}$\n",
       "$\\newcommand{\\massrate}{M_{\\odot} yr^{-1}}$\n",
       "$\\newcommand{\\hi}{H\\textsc{i}~}$\n",
       "$\\newcommand{\\hii}{H\\textsc{ii}~}$\n",
       "$\\newcommand{\\msun}{ M_\\odot}$\n",
       "$\\newcommand{\\lsun}{ L_\\odot}$\n",
       "$\\newcommand{\\kms}{km s^{-1}}$\n",
       "$\\newcommand{\\jybeam}{Jy beam^{-1}}$\n",
       "$\\newcommand{\\mjybeam}{mJy beam^{-1}}$\n",
       "$\\newcommand{\\hmole}{H_2}$\n",
       "$\\newcommand{\\degree}{^{\\circ}}$\n",
       "$\\newcommand{\\parcsec}{\\mbox{.\\!\\!\\arcsec}}$\n",
       "$\\newcommand{\\ssstyle}{\\scriptscriptstyle}$\n",
       "$\\newcommand{\\htcop}{H^{13}CO^+}$\n",
       "$\\newcommand{\\hcop}{HCO^+}$\n",
       "$\\newcommand{\\hcn}{HCN}$\n",
       "$\\newcommand{\\htcn}{H^{13}CN}$\n",
       "$\\newcommand{\\sio}{SiO}$\n",
       "$\\newcommand{\\cch}{CCH}$\n",
       "$\\newcommand{\\chtoh}{CH_3OH}$\n",
       "$\\newcommand{\\hctn}{HC_3N}$\n",
       "$\\newcommand{\\cs}{CS}$\n",
       "$\\newcommand{\\so}{SO}$\n",
       "$\\newcommand{\\htcs}{H_2CS}$\n",
       "$\\newcommand{\\nthp}{N_2H^+}$\n",
       "$\\newcommand$\n",
       "$\\newcommand$\n",
       "$\\newcommand$\n",
       "$\\newcommand{\\thebibliography}{\\DeclareRobustCommand{\\VAN}[3]{##3}\\VANthebibliography}$</div>\n",
       "\n",
       "<div class=\"macros\" style=\"visibility:hidden;\">\n",
       "$\\newcommand{$\\ensuremath$}{}$\n",
       "$\\newcommand{$\\xspace$}{}$\n",
       "$\\newcommand{$\\object$}[1]{\\texttt{#1}}$\n",
       "$\\newcommand{$\\farcs$}{{.}''}$\n",
       "$\\newcommand{$\\farcm$}{{.}'}$\n",
       "$\\newcommand{$\\arcsec$}{''}$\n",
       "$\\newcommand{$\\arcmin$}{'}$\n",
       "$\\newcommand{$\\ion$}[2]{#1#2}$\n",
       "$\\newcommand{$\\textsc$}[1]{\\textrm{#1}}$\n",
       "$\\newcommand{$\\hl$}[1]{\\textrm{#1}}$\n",
       "$\\newcommand{$\\casa$}{$\\textsc${\\large casa}}$\n",
       "$\\newcommand{$\\getsf$}{$\\textsc${\\large getsf}}$\n",
       "$\\newcommand{$\\getsources$}{$\\textsc${\\large getsources}}$\n",
       "$\\newcommand{$\\scousepy$}{$\\textsc${\\large scousepy}}$\n",
       "$\\newcommand{$\\astrodendro$}{$\\textsc${\\large astrodendro}}$\n",
       "$\\newcommand{$\\acorns$}{$\\textsc${\\large acorns}}$\n",
       "$\\newcommand{$\\tablenotemarknew$}[1]{^{#1}}$\n",
       "$\\newcommand{$\\majchange$}[1]{{\\color{red}#1}}$\n",
       "$\\newcommand{$\\minchange$}[1]{\\textbf{#1}}$\n",
       "$\\newcommand{$\\massrate$}{M_{\\odot} yr^{-1}}$\n",
       "$\\newcommand{$\\hi$}{H$\\textsc${i}~}$\n",
       "$\\newcommand{$\\hi$i}{H$\\textsc${ii}~}$\n",
       "$\\newcommand{$\\msun$}{ M_\\odot}$\n",
       "$\\newcommand{$\\lsun$}{ L_\\odot}$\n",
       "$\\newcommand{$\\kms$}{km s^{-1}}$\n",
       "$\\newcommand{$\\jybeam$}{Jy beam^{-1}}$\n",
       "$\\newcommand{$\\mjybeam$}{mJy beam^{-1}}$\n",
       "$\\newcommand{$\\hmole$}{H_2}$\n",
       "$\\newcommand{$\\degree$}{^{\\circ}}$\n",
       "$\\newcommand{$\\parcsec$}{\\mbox{.\\!\\!$\\arcsec$}}$\n",
       "$\\newcommand{$\\ssstyle$}{\\scriptscriptstyle}$\n",
       "$\\newcommand{$\\htcop$}{H^{13}CO^+}$\n",
       "$\\newcommand{$\\hcop$}{HCO^+}$\n",
       "$\\newcommand{$\\hcn$}{HCN}$\n",
       "$\\newcommand{$\\htcn$}{H^{13}CN}$\n",
       "$\\newcommand{$\\sio$}{SiO}$\n",
       "$\\newcommand{$\\cch$}{CCH}$\n",
       "$\\newcommand{$\\chtoh$}{CH_3OH}$\n",
       "$\\newcommand{$\\hctn$}{HC_3N}$\n",
       "$\\newcommand{$\\cs$}{CS}$\n",
       "$\\newcommand{$\\so$}{SO}$\n",
       "$\\newcommand{$\\htcs$}{H_2CS}$\n",
       "$\\newcommand{$\\nthp$}{N_2H^+}$\n",
       "$\\newcommand$\n",
       "$\\newcommand$\n",
       "$\\newcommand$\n",
       "$\\newcommand{$\\thebibliography$}{\\DeclareRobustCommand{\\VAN}[3]{##3}\\VANthebibliography}$</div>\n",
       "\n",
       "\n",
       "\n",
       "<div id=\"title\">\n",
       "\n",
       "# ATOMS: ALMA Three-millimeter Observations of Massive Star-forming regions -- XV. Steady Accretion from Global Collapse to Core Feeding in Massive Hub-filament System SDC335\n",
       "\n",
       "</div>\n",
       "<div id=\"comments\">\n",
       "\n",
       "[![arXiv](https://img.shields.io/badge/arXiv-2301.01895-b31b1b.svg)](https://arxiv.org/abs/2301.01895)<mark>Appeared on: 2023-01-06</mark> - _29 pages, 7 figures, Accepted for publication in MNRAS_\n",
       "\n",
       "</div>\n",
       "<div id=\"authors\">\n",
       "\n",
       "Feng-Wei Xu, et al. -- incl., <mark><mark>Tie Liu</mark></mark>, <mark><mark>Qizhou Zhang</mark></mark>, <mark><mark>Hong-Li Liu</mark></mark>, <mark><mark>Sheng-Li Qin</mark></mark>, <mark><mark>Guang-Xing Li</mark></mark>, <mark><mark>Shanghuo Li</mark></mark>, <mark><mark>Enrique Vázquez-Semadeni</mark></mark>, <mark><mark>Yong Zhang</mark></mark>, <mark><mark>Xunchuan Liu</mark></mark>, <mark><mark>Siju Zhang</mark></mark>, <mark><mark>Meizhu Liu</mark></mark>, <mark><mark>Chao Zhang</mark></mark>, <mark><mark>Chang Won Lee</mark></mark>, <mark><mark>Jinjin Xie</mark></mark>, <mark><mark>Wenyu Jiao</mark></mark>, <mark><mark>Rong Liu</mark></mark>\n",
       "\n",
       "</div>\n",
       "<div id=\"abstract\">\n",
       "\n",
       "**Abstract:** We present ALMA Band-3/7 observations towards \"the Heart\" of a massive hub-filament system (HFS) SDC335, to investigate its fragmentation and accretion. At a resolution of$\\sim0.03$pc, 3 mm continuum emission resolves two massive dense cores MM1 and MM2, with$383(^{$\\ssstyle$+234}_{$\\ssstyle$-120})$\\msun(10--24\\%mass of \"the Heart\") and$74(^{$\\ssstyle$+47}_{$\\ssstyle$-24})$\\msun, respectively. With a resolution down to$0.01$pc, 0.87 mm continuum emission shows MM1 further fragments into six condensations and multi-transition lines of$\\htcs$provide temperature estimation. The relation between separation and mass of condensations at a scale of 0.01 pc favors turbulent Jeans fragmentation where the turbulence seems to be scale-free rather than scale-dependent. We use the$\\htcop$$J=1-0$emission line to resolve the complex gas motion inside \"the Heart\" in position-position-velocity space. We identify four major gas streams connected to large-scale filaments, inheriting the anti-clockwise spiral pattern. Along these streams, gas feed the central massive core MM1. Assuming an inclination angle of$45(\\pm15)^{\\circ}$and a$\\htcop$abundance of$5(\\pm3)\\times10^{-11}$, the total mass infall rate is estimated to be$2.40(\\pm0.78)\\times10^{-3}$\\massrate, numerically consistent with the accretion rates derived from the clump-scale spherical infall model and the core-scale outflows. The consistency suggests a continuous, near steady-state, and efficient accretion from global collapse, therefore ensuring core feeding. Our comprehensive study of SDC335 showcases the detailed gas kinematics in a prototypical massive infalling clump, and calls for further systematic and statistical studies in a large sample.\n",
       "\n",
       "</div>\n",
       "\n",
       "<div id=\"div_fig1\">\n",
       "\n",
       "<img src=\"tmp_2301.01895/./fig/PyV.png\" alt=\"Fig13\" width=\"100%\"/>\n",
       "\n",
       "**Figure 13. -** The \"$\\Delta$ Dec vs. Velocity\" plot of four major streams are shown with scattering points. Each point represents one Gaussian component of the decomposed $\\htcop$$J=1-0$ emission, with its color normalized by the $\\Delta$ RA. The location of massive dense core MM1 is marked by the cyan color. Two major streams A and B are marked by orange contours. The three contour levels represent the $1\\sigma$(solid line), $2\\sigma$(dashed line), and $3\\sigma$(dotted line) probability distribution of scatter-points. Similarly, minor streams C1 and D1 are marked by the orange contours and minor streams C2 and D2 are marked by the pink colors. In each panel, \"F1--F6\" marks the end of the large-scale filaments which are assumed to be responsible for the streams. The RA, DEC location as well as velocity of filament ends are measured from $\\nthp$ data from \\citet{2013A&A...555A.112P}. In the upper two panels, the stream A and B are respectively fitted by free-fall models (a central mass of 383 $\\msun$) with inclination angles of $\\theta=30^{\\circ}$(solid black line; best fitting), $\\theta=40^{\\circ}$(dash-dotted black line), and $\\theta=20^{\\circ}$(dash-dotted gray line). The central circle marks how we visualize the 3D data cube: blue axis is the collapsing axis, where the data points are projected on the plane spanned by two black axes. \\label{fig:PyV} (*fig:PyV*)\n",
       "\n",
       "</div>\n",
       "<div id=\"div_fig2\">\n",
       "\n",
       "<img src=\"tmp_2301.01895/./fig/PxV.png\" alt=\"Fig14\" width=\"100%\"/>\n",
       "\n",
       "**Figure 14. -** The \"$\\Delta$ RA vs. Velocity\" plot of four major streams are shown with scattering points. Each point represents one Gaussian component of the decomposed $\\htcop$$J=1-0$ emission, with its color normalized by the centroid velocity on a linear span from -50 to -42 $\\kms$. The location of massive dense core MM1 is marked by the purple color. Two major streams A and B are marked by orange contours. The three contour levels represent the $1\\sigma$(solid line), $2\\sigma$(dashed line), and $3\\sigma$(dotted line) probability distribution of scatter-points. Similarly, minor streams C1 and D1 are marked by the orange contours and minor streams C2 and D2 are marked by the pink colors. In each panel, \"F1--F6\" marks the end of the large-scale filaments which are assumed to be responsible for the streams. The RA, DEC location as well as velocity of filament ends are measured from $\\nthp$ data from \\citet{2013A&A...555A.112P}. The central circle marks how we visualize the 3D data cube: blue axis is the collapsing axis, where the data points are projected on the plane spanned by two black axes. \\label{fig:PxV} (*fig:PxV*)\n",
       "\n",
       "</div>\n",
       "<div id=\"div_fig3\">\n",
       "\n",
       "<img src=\"tmp_2301.01895/./fig/zoomin.png\" alt=\"Fig9\" width=\"100%\"/>\n",
       "\n",
       "**Figure 9. -** Successive zoom-ins from (a) SDC335, to (b) \"the Heart\", and to (c) the massive dense core SDC335-MM1.\n",
       "(a) The background color map is the composite (Red/Green/Blue: Spitzer 8/4.5/3.6 $\\mu$m) images of SDC335, with Red/Green/Blue in logarithmic stretch. The ATLASGAL 870 $\\mu$m continuum emission is overlaid as a single contour level of $5\\sigma=0.75$\\jybeam with the APEX beam of 21$\\arcsec$. Six converging filaments F1--F6, identified from the Spitzer extinction and dense gas N$_2$H$^+$\\citep{2013A&A...555A.112P}, are marked with yellow dashed lines. Two white circles show the ALMA Band-3 primary beam response of 12m+ACA combined data: the dashed one is 32$\\arcsec$ for 20\\% and the solid one is 46.5$\\arcsec$ for 50\\%. (b) The zoom-in version of the left panel towards \"the Heart\", with the same background color map. Two white circles show the ALMA primary beam responses respectively at 50\\% for Band-3 (outer) and Band-7 (inner). The white contours of 3 mm continuum emission follows the power-law levels of [1.0, 3.3, 7.6, 14.2, 23.4, 35.1, 49.6, 67.0]$\\mjybeam$. (c) The zoom-in version of the middle panel, towards SDC335-MM1. The white contours and the white circle are the same as those in the middle panel. The background color map shows the ALMA 0.87 mm continuum emission, in a square-root stretch to highlight the weak emission. The beams for ATLASGAL 870 $\\mu$m, ALMA Band-3, or ALMA Band-7 are shown on the left bottom and the scale bars are shown on the right bottom. \\label{fig:zoomin} (*fig:zoomin*)\n",
       "\n",
       "</div>"
      ],
      "text/plain": [
       "<IPython.core.display.Markdown object>"
      ]
     },
     "metadata": {},
     "output_type": "display_data"
    },
    {
     "data": {
      "text/markdown": [
       "<div class=\"macros\" style=\"visibility:hidden;\">\n",
       "$\\newcommand{\\ensuremath}{}$\n",
       "$\\newcommand{\\xspace}{}$\n",
       "$\\newcommand{\\object}[1]{\\texttt{#1}}$\n",
       "$\\newcommand{\\farcs}{{.}''}$\n",
       "$\\newcommand{\\farcm}{{.}'}$\n",
       "$\\newcommand{\\arcsec}{''}$\n",
       "$\\newcommand{\\arcmin}{'}$\n",
       "$\\newcommand{\\ion}[2]{#1#2}$\n",
       "$\\newcommand{\\textsc}[1]{\\textrm{#1}}$\n",
       "$\\newcommand{\\hl}[1]{\\textrm{#1}}$\n",
       "$\\newcommand{\\hi}{H~\\textsc{i}}$\n",
       "$\\newcommand{\\hii}{H~\\textsc{ii}}$\n",
       "$\\newcommand{\\msun}{\\rm M_\\odot}$\n",
       "$\\newcommand{\\lsun}{\\rm L_\\odot}$\n",
       "$\\newcommand{\\kms}{km~s^{-1}}$\n",
       "$\\newcommand{\\jybeam}{Jy beam^{-1}}$\n",
       "$\\newcommand{\\mjybeam}{mJy beam^{-1}}$\n",
       "$\\newcommand{\\hmole}{H_2}$\n",
       "$\\newcommand{\\cm}{cm^{-2}}$\n",
       "$\\newcommand{\\pressure}{K~cm^{-3}}$\n",
       "$\\newcommand{\\hcop}{HCO^+}$\n",
       "$\\newcommand{\\hcopone}{HCO^+~J=1-0}$\n",
       "$\\newcommand{\\htcop}{H^{13}CO^+}$\n",
       "$\\newcommand{\\htcopone}{H^{13}CO^+~J=1-0}$\n",
       "$\\newcommand{\\hcn}{HCN}$\n",
       "$\\newcommand{\\hcnone}{HCN~J=1-0}$\n",
       "$\\newcommand{\\htcn}{H^{13}CN}$\n",
       "$\\newcommand{\\htcnone}{H^{13}CN~J=1-0}$\n",
       "$\\newcommand{\\cs}{CS}$\n",
       "$\\newcommand{\\cstwo}{CS~J=2-1}$\n",
       "$\\newcommand{\\sio}{SiO}$\n",
       "$\\newcommand{\\siotwo}{SiO~J=2-1}$\n",
       "$\\newcommand{\\siofive}{SiO~J=5-4}$\n",
       "$\\newcommand{\\hctn}{HC_3N}$\n",
       "$\\newcommand{\\hctnele}{HC_3N~J=11-10}$\n",
       "$\\newcommand{\\hfourtyalpha}{H40\\alpha}$\n",
       "$\\newcommand{\\chtoh}{CH_3OH}$\n",
       "$\\newcommand{\\chtohline}{CH_3OH 2(1,1)-1(1,0)A}$\n",
       "$\\newcommand{\\cch}{CCH}$\n",
       "$\\newcommand{\\cchline}{CCH~N_{J,F}=1_{3/2,2}-0_{1/2,1}}$\n",
       "$\\newcommand{\\cchhyperfine}{CCH~N_{J,F}=1_{3/2,1}-0_{1/2,0}}$\n",
       "$\\newcommand{\\so}{SO}$\n",
       "$\\newcommand{\\soline}{SO v =0, 3(2)-2(1)}$\n",
       "$\\newcommand{\\nht}{NH_3}$\n",
       "$\\newcommand{\\mclump}{M_{\\rm clp}}$\n",
       "$\\newcommand{\\rclump}{r_{\\rm clp}}$\n",
       "$\\newcommand{\\RGC}{R_{\\rm GC}}$\n",
       "$\\newcommand{\\mvir}{M_{\\rm vir}}$\n",
       "$\\newcommand{\\tkin}{T_{\\rm kin}}$\n",
       "$\\newcommand{\\tex}{T_{\\rm ex}}$\n",
       "$\\newcommand{\\tbg}{T_{\\rm bg}}$\n",
       "$\\newcommand{\\tr}{T_{\\rm r}}$\n",
       "$\\newcommand{\\te}{T_{\\rm e}}$\n",
       "$\\newcommand{\\hcopabundance}{\\chi(\\hcop)}$\n",
       "$\\newcommand{\\hncabundance}{\\chi(\\hnc)}$\n",
       "$\\newcommand{\\nthpabundance}{\\chi(\\nthp)}$\n",
       "$\\newcommand{\\nthphcopabundance}{\\chi(\\hcop)/\\chi(\\nthp)}$\n",
       "$\\newcommand{\\nthphncabundance}{\\chi(\\hnc)/\\chi(\\nthp)}$\n",
       "$\\newcommand{\\tcoab}{\\chi(^{13}CO)}$\n",
       "$\\newcommand{\\ceoab}{\\chi(C^{18}O)}$\n",
       "$\\newcommand{\\co}{CO}$\n",
       "$\\newcommand{\\tco}{^{13}CO}$\n",
       "$\\newcommand{\\ceo}{C^{18}O}$\n",
       "$\\newcommand{\\coone}{^{12}CO J=1-0}$\n",
       "$\\newcommand{\\cotwo}{^{12}CO J=2-1}$\n",
       "$\\newcommand{\\cothr}{^{12}CO J=3-2}$\n",
       "$\\newcommand{\\tcoone}{^{13}CO J=1-0}$\n",
       "$\\newcommand{\\tcotwo}{^{13}CO J=2-1}$\n",
       "$\\newcommand{\\tcothr}{^{13}CO J=3-2}$\n",
       "$\\newcommand{\\ceoone}{C^{18}O~J=1-0}$\n",
       "$\\newcommand{\\ceotwo}{C^{18}O J=2-1}$\n",
       "$\\newcommand{\\ceothr}{C^{18}O J=3-2}$\n",
       "$\\newcommand{\\degree}{^{\\circ}}$\n",
       "$\\newcommand{\\nhtcd}{N_{\\rm H_{2}}}$\n",
       "$\\newcommand{\\dustt}{T_{\\rm dust}}$\n",
       "$\\newcommand{\\nhtnd}{n_{\\rm H_{2}}}$\n",
       "$\\newcommand{\\nhtcdpeak}{N_{\\rm H_{2}}^{peak}}$\n",
       "$\\newcommand{\\ncchcd}{N_{\\rm CCH}}$\n",
       "$\\newcommand{\\nnhtcd}{N_{\\rm NH_{3}}}$\n",
       "$\\newcommand{\\pnhtcd}{p_{N_{\\rm H_{2}}}}$\n",
       "$\\newcommand{\\pdustt}{p_{T_{\\rm dust}}}$\n",
       "$\\newcommand{\\vlsr}{\\rm v_{lsr}}$\n",
       "$\\newcommand{\\vinfall}{\\rm v_{infall}}$\n",
       "$\\newcommand{\\mjth}{M_{\\rm J}^{\\rm th}}$\n",
       "$\\newcommand{\\lambdajth}{\\lambda_{\\rm J}^{\\rm th}}$\n",
       "$\\newcommand{\\mjthclump}{M_{\\rm J, clp}^{\\rm th}}$\n",
       "$\\newcommand{\\lambdajthclump}{\\lambda_{\\rm J, clp}^{\\rm th}}$\n",
       "$\\newcommand{\\mjtotclump}{M_{\\rm J, clp}^{\\rm tot}}$\n",
       "$\\newcommand{\\lambdajtotclump}{\\lambda_{\\rm J, clp}^{\\rm tot}}$\n",
       "$\\newcommand{\\mjflowclump}{M_{\\rm J, clp}^{\\rm com, flow}}$\n",
       "$\\newcommand{\\lambdajflowclump}{\\lambda_{\\rm J, clp}^{\\rm com, flow}}$\n",
       "$\\newcommand{\\mjthens}{M_{\\rm J, ens}^{\\rm th}}$\n",
       "$\\newcommand{\\lambdajthens}{\\lambda_{\\rm J, ens}^{\\rm th}}$\n",
       "$\\newcommand{\\Pex}{P_{\\rm ex}}$\n",
       "$\\newcommand{\\Pin}{P_{\\rm in}}$\n",
       "$\\newcommand{\\mach}{\\mathcal{M}}$\n",
       "$\\newcommand{\\mjtu}{M_{\\rm J}^{\\rm tu}}$\n",
       "$\\newcommand{\\lambdajtu}{\\lambda_{\\rm J}^{\\rm tu}}$\n",
       "$\\newcommand{\\av}{A_{\\rm v}}$\n",
       "$\\newcommand$\n",
       "$\\newcommand{\\arraystretch}{1.0}$\n",
       "$\\newcommand{\\arraystretch}{1.0}$\n",
       "$\\newcommand{\\arraystretch}{1.0}$\n",
       "$\\newcommand{\\thebibliography}{\\DeclareRobustCommand{\\VAN}[3]{##3}\\VANthebibliography}$</div>\n",
       "\n",
       "<div class=\"macros\" style=\"visibility:hidden;\">\n",
       "$\\newcommand{$\\ensuremath$}{}$\n",
       "$\\newcommand{$\\xspace$}{}$\n",
       "$\\newcommand{$\\object$}[1]{$\\tex$ttt{#1}}$\n",
       "$\\newcommand{$\\farcs$}{{.}''}$\n",
       "$\\newcommand{$\\farcm$}{{.}'}$\n",
       "$\\newcommand{$\\arcsec$}{''}$\n",
       "$\\newcommand{$\\arcmin$}{'}$\n",
       "$\\newcommand{$\\ion$}[2]{#1#2}$\n",
       "$\\newcommand{$\\textsc$}[1]{$\\tex$trm{#1}}$\n",
       "$\\newcommand{$\\hl$}[1]{$\\tex$trm{#1}}$\n",
       "$\\newcommand{$\\hi$}{H~$\\textsc${i}}$\n",
       "$\\newcommand{$\\hi$i}{H~$\\textsc${ii}}$\n",
       "$\\newcommand{$\\msun$}{\\rm M_\\odot}$\n",
       "$\\newcommand{$\\lsun$}{\\rm L_\\odot}$\n",
       "$\\newcommand{$\\kms$}{km~s^{-1}}$\n",
       "$\\newcommand{$\\jybeam$}{Jy beam^{-1}}$\n",
       "$\\newcommand{$\\mjybeam$}{mJy beam^{-1}}$\n",
       "$\\newcommand{$\\hmole$}{H_2}$\n",
       "$\\newcommand{$\\cm$}{cm^{-2}}$\n",
       "$\\newcommand{$\\pressure$}{K~cm^{-3}}$\n",
       "$\\newcommand{$\\hcop$}{HCO^+}$\n",
       "$\\newcommand{$\\hcop$one}{HCO^+~J=1-0}$\n",
       "$\\newcommand{$\\htcop$}{H^{13}CO^+}$\n",
       "$\\newcommand{$\\htcop$one}{H^{13}CO^+~J=1-0}$\n",
       "$\\newcommand{$\\hcn$}{HCN}$\n",
       "$\\newcommand{$\\hcn$one}{HCN~J=1-0}$\n",
       "$\\newcommand{$\\htcn$}{H^{13}CN}$\n",
       "$\\newcommand{$\\htcn$one}{H^{13}CN~J=1-0}$\n",
       "$\\newcommand{$\\cs$}{CS}$\n",
       "$\\newcommand{$\\cs$two}{CS~J=2-1}$\n",
       "$\\newcommand{$\\sio$}{SiO}$\n",
       "$\\newcommand{$\\sio$two}{SiO~J=2-1}$\n",
       "$\\newcommand{$\\sio$five}{SiO~J=5-4}$\n",
       "$\\newcommand{$\\hctn$}{HC_3N}$\n",
       "$\\newcommand{$\\hctn$ele}{HC_3N~J=11-10}$\n",
       "$\\newcommand{$\\hfourtyalpha$}{H40\\alpha}$\n",
       "$\\newcommand{$\\chtoh$}{CH_3OH}$\n",
       "$\\newcommand{$\\chtoh$line}{CH_3OH 2(1,1)-1(1,0)A}$\n",
       "$\\newcommand{$\\cch$}{CCH}$\n",
       "$\\newcommand{$\\cch$line}{CCH~N_{J,F}=1_{3/2,2}-0_{1/2,1}}$\n",
       "$\\newcommand{$\\cch$hyperfine}{CCH~N_{J,F}=1_{3/2,1}-0_{1/2,0}}$\n",
       "$\\newcommand{$\\so$}{SO}$\n",
       "$\\newcommand{$\\so$line}{SO v =0, 3(2)-2(1)}$\n",
       "$\\newcommand{$\\nht$}{NH_3}$\n",
       "$\\newcommand{$\\mclump$}{M_{\\rm clp}}$\n",
       "$\\newcommand{$\\rclump$}{r_{\\rm clp}}$\n",
       "$\\newcommand{$\\RGC$}{R_{\\rm GC}}$\n",
       "$\\newcommand{$\\mvir$}{M_{\\rm vir}}$\n",
       "$\\newcommand{$\\tkin$}{T_{\\rm kin}}$\n",
       "$\\newcommand{$\\tex$}{T_{\\rm ex}}$\n",
       "$\\newcommand{$\\tbg$}{T_{\\rm bg}}$\n",
       "$\\newcommand{$\\tr$}{T_{\\rm r}}$\n",
       "$\\newcommand{$\\te$}{T_{\\rm e}}$\n",
       "$\\newcommand{$\\hcop$abundance}{\\chi($\\hcop$)}$\n",
       "$\\newcommand{$\\hncabundance$}{\\chi(\\hnc)}$\n",
       "$\\newcommand{$\\nthpabundance$}{\\chi(\\nthp)}$\n",
       "$\\newcommand{$\\nthphcopabundance$}{\\chi($\\hcop$)/\\chi(\\nthp)}$\n",
       "$\\newcommand{$\\nthphncabundance$}{\\chi(\\hnc)/\\chi(\\nthp)}$\n",
       "$\\newcommand{$\\tcoab$}{\\chi(^{13}CO)}$\n",
       "$\\newcommand{$\\ceoab$}{\\chi(C^{18}O)}$\n",
       "$\\newcommand{$\\co$}{CO}$\n",
       "$\\newcommand{$\\tco$}{^{13}CO}$\n",
       "$\\newcommand{$\\ceo$}{C^{18}O}$\n",
       "$\\newcommand{$\\co$one}{^{12}CO J=1-0}$\n",
       "$\\newcommand{$\\co$two}{^{12}CO J=2-1}$\n",
       "$\\newcommand{$\\co$thr}{^{12}CO J=3-2}$\n",
       "$\\newcommand{$\\tco$one}{^{13}CO J=1-0}$\n",
       "$\\newcommand{$\\tco$two}{^{13}CO J=2-1}$\n",
       "$\\newcommand{$\\tco$thr}{^{13}CO J=3-2}$\n",
       "$\\newcommand{$\\ceo$one}{C^{18}O~J=1-0}$\n",
       "$\\newcommand{$\\ceo$two}{C^{18}O J=2-1}$\n",
       "$\\newcommand{$\\ceo$thr}{C^{18}O J=3-2}$\n",
       "$\\newcommand{$\\degree$}{^{\\circ}}$\n",
       "$\\newcommand{$\\nht$cd}{N_{\\rm H_{2}}}$\n",
       "$\\newcommand{$\\dustt$}{T_{\\rm dust}}$\n",
       "$\\newcommand{$\\nht$nd}{n_{\\rm H_{2}}}$\n",
       "$\\newcommand{$\\nht$cdpeak}{N_{\\rm H_{2}}^{peak}}$\n",
       "$\\newcommand{$\\ncchcd$}{N_{\\rm CCH}}$\n",
       "$\\newcommand{$\\nnhtcd$}{N_{\\rm NH_{3}}}$\n",
       "$\\newcommand{$\\pnhtcd$}{p_{N_{\\rm H_{2}}}}$\n",
       "$\\newcommand{$\\pdustt$}{p_{T_{\\rm dust}}}$\n",
       "$\\newcommand{$\\vlsr$}{\\rm v_{lsr}}$\n",
       "$\\newcommand{$\\vinfall$}{\\rm v_{infall}}$\n",
       "$\\newcommand{$\\mjth$}{M_{\\rm J}^{\\rm th}}$\n",
       "$\\newcommand{$\\lambdajth$}{\\lambda_{\\rm J}^{\\rm th}}$\n",
       "$\\newcommand{$\\mjth$clump}{M_{\\rm J, clp}^{\\rm th}}$\n",
       "$\\newcommand{$\\lambdajth$clump}{\\lambda_{\\rm J, clp}^{\\rm th}}$\n",
       "$\\newcommand{$\\mjtotclump$}{M_{\\rm J, clp}^{\\rm tot}}$\n",
       "$\\newcommand{$\\lambdajtotclump$}{\\lambda_{\\rm J, clp}^{\\rm tot}}$\n",
       "$\\newcommand{$\\mjflowclump$}{M_{\\rm J, clp}^{\\rm com, flow}}$\n",
       "$\\newcommand{$\\lambdajflowclump$}{\\lambda_{\\rm J, clp}^{\\rm com, flow}}$\n",
       "$\\newcommand{$\\mjth$ens}{M_{\\rm J, ens}^{\\rm th}}$\n",
       "$\\newcommand{$\\lambdajth$ens}{\\lambda_{\\rm J, ens}^{\\rm th}}$\n",
       "$\\newcommand{$\\Pex$}{P_{\\rm ex}}$\n",
       "$\\newcommand{$\\Pin$}{P_{\\rm in}}$\n",
       "$\\newcommand{$\\mach$}{\\mathcal{M}}$\n",
       "$\\newcommand{$\\mjtu$}{M_{\\rm J}^{\\rm tu}}$\n",
       "$\\newcommand{$\\lambdajtu$}{\\lambda_{\\rm J}^{\\rm tu}}$\n",
       "$\\newcommand{$\\av$}{A_{\\rm v}}$\n",
       "$\\newcommand$\n",
       "$\\newcommand{$\\arraystretch$}{1.0}$\n",
       "$\\newcommand{$\\arraystretch$}{1.0}$\n",
       "$\\newcommand{$\\arraystretch$}{1.0}$\n",
       "$\\newcommand{$\\thebibliography$}{\\DeclareRobustCommand{\\VAN}[3]{##3}\\VANthebibliography}$</div>\n",
       "\n",
       "\n",
       "\n",
       "<div id=\"title\">\n",
       "\n",
       "# ) clump\n",
       "\n",
       "</div>\n",
       "<div id=\"comments\">\n",
       "\n",
       "[![arXiv](https://img.shields.io/badge/arXiv-2301.01937-b31b1b.svg)](https://arxiv.org/abs/2301.01937)<mark>Appeared on: 2023-01-06</mark> - _34 pages with 20 figures, Accepted by MNRAS on 2022 December 28_\n",
       "\n",
       "</div>\n",
       "<div id=\"authors\">\n",
       "\n",
       "<mark><mark>S. Zhang</mark></mark>, et al. -- incl., <mark><mark>T. Liu</mark></mark>, <mark><mark>H. Liu</mark></mark>, <mark><mark>S. Li</mark></mark>, <mark><mark>Q. Zhang</mark></mark>, <mark><mark>C. W. Lee</mark></mark>, <mark><mark>E. Vázquez-Semadeni</mark></mark>\n",
       "\n",
       "</div>\n",
       "<div id=\"abstract\">\n",
       "\n",
       "**Abstract:** Whether ionization feedback triggers the formation of massive stars is highly debated. Using ALMA 3 mm observations with a spatial resolution of$\\sim0.05$pc and a mass sensitivity of 1.1$\\msun$beam$^{-1}$at 20 K, we investigate the star formation and gas flow structures within the ionizing feedback-driven structure, a clump-scale massive ($\\gtrsim1500$\\msun) bright-rimmed cloud (BRC) associated with IRAS 18290$-$0924. This BRC is bound only if external compression from ionized gas is considered. A small-scale ($\\lesssim1$pc) age sequence along the direction of ionizing radiation is revealed for the embedded cores and protostars, which suggests triggered star formation via radiation-driven implosion (RDI). Furthermore, filamentary gas structures converge towards the cores located in the BRC's center, indicating that these filaments are fueling mass towards cores. The local core-scale mass infall rate derived from$\\htcop$oneblue profile is of the same order of magnitude as the filamentary mass inflow rate, approximately 1$\\msun$kyr$^{-1}$. A photodissociation region (PDR) covering the irradiated clump surface is detected in several molecules, such as$\\cch$,$\\hcop$, and$\\cs$whereas the spatial distribution stratification of these molecules is indistinct.$\\cch$spectra of the PDR possibly indicate a photoevaporation flow leaving the clump surface with a projected velocity of$\\sim2$\\kms. Our new observations show that RDI accompanied by a clump-fed process is operating in this massive BRC. Whether this combined process works in other massive BRCs is worth exploring with dedicated surveys.\n",
       "\n",
       "</div>\n",
       "\n",
       "<div id=\"div_fig1\">\n",
       "\n",
       "<img src=\"tmp_2301.01937/./BRC-Statistics.png\" alt=\"Fig1\" width=\"100%\"/>\n",
       "\n",
       "**Figure 1. -** Summary of the published studies about RDI. The meanings of \"SFO\", \"CG\", \"individual\", \"ALMAGAL $\\hi$i\", and \"ALMAGAL BRC\" can be found in Sect \\ref{INTRODUCTION}. \"BRC@CN20\" \\citep{Orgeta16} and \"Pillars@CygnusX\" \\citep{Schneider16} highlight the two single-dish observations which have the clump mass of $> 1000$ $\\msun$. The histograms show the number distributions of different types of studies. Dashed grids mark the mass of 10, $10^2$, and $10^3$ $\\msun$ and the distances of 1 and 3 kpc. The mass and distance of ALMAGAL sources are taken from \\citet{Urquhart18}. The mass for other sources is mainly derived from either continuum emission of dust or line emission of molecules, e.g. $\\tco$ and $\\ceo$. Therefore, the uncertainty of the mass estimation for all sources in the figure is difficult to unify, and thus should be cautioned. The distance for simulation work is assumed to be the averaged distance of the entire sample because many simulations do not set the distance. The detailed information for the whole sample in this figure is in Appendix \\ref{App:Figure1Information}. (*StatisticsMap*)\n",
       "\n",
       "</div>\n",
       "<div id=\"div_fig2\">\n",
       "\n",
       "<img src=\"tmp_2301.01937/./PV-View.png\" alt=\"Fig10\" width=\"100%\"/>\n",
       "\n",
       "**Figure 10. -** $\\cch$line emission. $\\tex$tit{Panel a:}$\\cch$ integrated intensity maps overlaid with the contours of 8 \\micron emission (black) and the 3 mm continuum (magenta) with levels the same as $\\tex$tit{Panel a} of Fig. \\ref{StarFormationFigure}. The white line indicates the 8-\\micron rim spine extracted by $\\tex$ttt{Filfinder} in Sect. \\ref{ENVIRONMENTSANDSTATUS}. The numbers on the spine indicate the offset positions corresponding to $\\tex$tit{Panel b}. $\\tex$tit{Panel b:} PV cut along the rim spine. The three black and gray lines show the $\\tex$ttt{MCMC}-fitted compressed and PeF components with velocity centroid  and dispersion, respectively.  $\\tex$tit{Panel c:} PV cut (width $=5$\\arcsec) along the three arrows shown in $\\tex$tit{Panel a}. $\\tex$tit{Panel d:} Intensity profiles of various species along the arrows. In $\\tex$tit{Panels c} and $\\tex$tit{d}, the zero offset positions are positions at the spine and a positive offset means a position close to the interior of the clump. (*PDRDynamics*)\n",
       "\n",
       "</div>\n",
       "<div id=\"div_fig3\">\n",
       "\n",
       "<img src=\"tmp_2301.01937/./Large-Env-Improved.png\" alt=\"Fig2\" width=\"100%\"/>\n",
       "\n",
       "**Figure 2. -** Environment of I18290. $\\tex$tit{Panel a:}$\\tex$tit{Spitzer} 24/8.0/4.5 \\micron RGB image overlaid with the contours of 20 cm (red dashed) and ATLASGAL 870 \\micron(blue) continuum. The levels of 20 cm continuum are [4, 5, 6, 7, 8, 9, 10, 12, 14, 16] $\\times \\sigma_{\\rm 20 cm}$, where noise of the 20 cm image $\\sigma_{\\rm 20 cm} = 0.45$ $\\mjybeam$. The red bold contour of 20 cm emission (level: 2.38 $\\mjybeam$ = 40\\% of the continuum peak) highlights the region considered in the IBL calculations. The levels of 870 \\micron emission are [0.2, 0.3, 0.4, 0.5, 0.7, 0.9, 1.3, 1.8] $\\jybeam$. The white and black circles indicate the ATOMS-imaged field and the clump effective radius $r_{\\rm clp}$ given by \\citet{Urquhart18}, respectively. The blue bold contour of 870 \\micron continuum with a level of 0.3 $\\mjybeam$ indicates a region with a size roughly equivalent to the circle size of $r_{\\rm clp}$.  $\\tex$tit{The small panel} shows the 870 \\micron intensity profile along the black line. $\\tex$tit{Panel b:} The 8 \\micron emission overlaid with the contours of the $\\tex$tit{Herschel} dust temperature $\\dustt$(red) and column density $\\nht$cd(blue), with levels of [21.3, 21.6, 21.9, 22.2, 23.2, 24.2, 25.2] K and [2.4, 2.7, 3, 4, 5, 6, 7, 8, 9, 10] $\\times 10^{22}$ $\\cm$, respectively. The dotted line marks the rim spine extracted by $\\tex$ttt{Filfinder} from 8 \\micron image. (*GlobalEnviron*)\n",
       "\n",
       "</div>"
      ],
      "text/plain": [
       "<IPython.core.display.Markdown object>"
      ]
     },
     "metadata": {},
     "output_type": "display_data"
    }
   ],
   "source": [
    "[display(Markdown(k[1])) for k in documents];"
   ]
  },
  {
   "cell_type": "markdown",
   "id": "873873a4",
   "metadata": {
    "papermill": {
     "duration": 0.010844,
     "end_time": "2023-01-06T04:08:55.335014",
     "exception": false,
     "start_time": "2023-01-06T04:08:55.324170",
     "status": "completed"
    },
    "tags": []
   },
   "source": [
    "# Create HTML index"
   ]
  },
  {
   "cell_type": "code",
   "execution_count": 10,
   "id": "cf665672",
   "metadata": {
    "execution": {
     "iopub.execute_input": "2023-01-06T04:08:55.358024Z",
     "iopub.status.busy": "2023-01-06T04:08:55.357305Z",
     "iopub.status.idle": "2023-01-06T04:08:55.368227Z",
     "shell.execute_reply": "2023-01-06T04:08:55.367575Z"
    },
    "papermill": {
     "duration": 0.024137,
     "end_time": "2023-01-06T04:08:55.369768",
     "exception": false,
     "start_time": "2023-01-06T04:08:55.345631",
     "status": "completed"
    },
    "tags": []
   },
   "outputs": [
    {
     "name": "stdout",
     "output_type": "stream",
     "text": [
      "155  publications in the last 7 days.\n",
      "\t _build/html/2301.01937.md\n",
      "\t _build/html/2301.01895.md\n",
      "\t _build/html/2301.01684.md\n",
      "\t _build/html/2301.01306.md\n",
      "\t _build/html/2301.00881.md\n",
      "\t _build/html/2301.00854.md\n",
      "\t _build/html/2301.00578.md\n",
      "\t _build/html/2212.12039.md\n",
      "\t _build/html/2212.11991.md\n",
      "\t _build/html/2212.11425.md\n",
      "\t _build/html/2212.11177.md\n",
      "\t _build/html/2212.10804.md\n",
      "\t _build/html/2212.10512.md\n",
      "\t _build/html/2212.09766.md\n",
      "\t _build/html/2212.09675.md\n",
      "\t _build/html/2212.09661.md\n",
      "\t _build/html/2212.09652.md\n",
      "\t _build/html/2212.09443.md\n",
      "\t _build/html/2212.09307.md\n",
      "\t _build/html/2212.09168.md\n",
      "\t _build/html/2212.09159.md\n",
      "\t _build/html/2212.08702.md\n",
      "\t _build/html/2212.07332.md\n",
      "\t _build/html/2212.06434.md\n",
      "\t _build/html/2212.04710.md\n",
      "\t _build/html/2212.04026.md\n",
      "\t _build/html/2212.03563.md\n",
      "\t _build/html/2212.03514.md\n",
      "\t _build/html/2212.02667.md\n",
      "\t _build/html/2212.02627.md\n",
      "\t _build/html/2212.02235.md\n",
      "\t _build/html/2212.01707.md\n",
      "\t _build/html/2212.01526.md\n",
      "\t _build/html/2212.01397.md\n",
      "\t _build/html/2212.01291.md\n",
      "\t _build/html/2212.01281.md\n",
      "\t _build/html/2212.00812.md\n",
      "\t _build/html/2212.00811.md\n",
      "\t _build/html/2212.00806.md\n",
      "\t _build/html/2212.00047.md\n",
      "\t _build/html/2212.00032.md\n",
      "\t _build/html/2211.16996.md\n",
      "\t _build/html/2211.16510.md\n",
      "\t _build/html/2211.16123.md\n",
      "\t _build/html/2211.15816.md\n",
      "\t _build/html/2211.15698.md\n",
      "\t _build/html/2211.15576.md\n",
      "\t _build/html/2211.15434.md\n",
      "\t _build/html/2211.15288.md\n",
      "\t _build/html/2211.15224.md\n",
      "\t _build/html/2211.14543.md\n",
      "\t _build/html/2211.14330.md\n",
      "\t _build/html/2211.14322.md\n",
      "\t _build/html/2211.14132.md\n",
      "\t _build/html/2211.13811.md\n",
      "\t _build/html/2211.13426.md\n",
      "\t _build/html/2211.13318.md\n",
      "\t _build/html/2211.13146.md\n",
      "\t _build/html/2211.12613.md\n",
      "\t _build/html/2211.11767.md\n",
      "\t _build/html/2211.09840.md\n",
      "\t _build/html/2211.09217.md\n",
      "\t _build/html/2211.08493.md\n",
      "\t _build/html/2211.08487.md\n",
      "\t _build/html/2211.08294.md\n",
      "\t _build/html/2211.07667.md\n",
      "\t _build/html/2211.07659.md\n",
      "\t _build/html/2211.06454.md\n",
      "\t _build/html/2211.06205.md\n",
      "\t _build/html/2211.06194.md\n",
      "\t _build/html/2211.05022.md\n",
      "\t _build/html/2211.04048.md\n",
      "\t _build/html/2211.03641.md\n",
      "\t _build/html/2211.02502.md\n",
      "\t _build/html/2211.01474.md\n",
      "\t _build/html/2211.00667.md\n",
      "\t _build/html/2211.00657.md\n",
      "\t _build/html/2211.00087.md\n",
      "\t _build/html/2211.00036.md\n",
      "\t _build/html/2211.00020.md\n",
      "\t _build/html/2211.00010.md\n",
      "\t _build/html/2210.17434.md\n",
      "\t _build/html/2210.12412.md\n",
      "\t _build/html/2210.11926.md\n",
      "\t _build/html/2210.11551.md\n",
      "\t _build/html/2210.11103.md\n",
      "\t _build/html/2210.10707.md\n",
      "\t _build/html/2210.09930.md\n",
      "\t _build/html/2210.08996.md\n",
      "\t _build/html/2210.08517.md\n",
      "\t _build/html/2210.08510.md\n",
      "\t _build/html/2210.08078.md\n",
      "\t _build/html/2210.06504.md\n",
      "\t _build/html/2210.05695.md\n",
      "\t _build/html/2210.05595.md\n",
      "\t _build/html/2210.05505.md\n",
      "\t _build/html/2210.04721.md\n",
      "\t _build/html/2210.03615.md\n",
      "\t _build/html/2210.01811.md\n",
      "\t _build/html/2210.01809.md\n",
      "\t _build/html/2210.01556.md\n",
      "\t _build/html/2210.00863.md\n",
      "\t _build/html/2210.00560.md\n",
      "\t _build/html/2209.15403.md\n",
      "\t _build/html/2209.15110.md\n",
      "\t _build/html/2209.14410.md\n",
      "\t _build/html/2209.14396.md\n",
      "\t _build/html/2209.13717.md\n",
      "\t _build/html/2209.13336.md\n",
      "\t _build/html/2209.12906.md\n",
      "\t _build/html/2209.11781.md\n",
      "\t _build/html/2209.11602.md\n",
      "\t _build/html/2209.11248.md\n",
      "\t _build/html/2209.11096.md\n",
      "\t _build/html/2209.10618.md\n",
      "\t _build/html/2209.09914.md\n",
      "\t _build/html/2209.09823.md\n",
      "\t _build/html/2209.08242.md\n",
      "\t _build/html/2209.08120.md\n",
      "\t _build/html/2209.08106.md\n",
      "\t _build/html/2209.07962.md\n",
      "\t _build/html/2209.07931.md\n",
      "\t _build/html/2209.06833.md\n",
      "\t _build/html/2209.05814.md\n",
      "\t _build/html/2209.05593.md\n",
      "\t _build/html/2209.04304.md\n",
      "\t _build/html/2209.03367.md\n",
      "\t _build/html/2209.02872.md\n",
      "\t _build/html/2209.02725.md\n",
      "\t _build/html/2209.02722.md\n",
      "\t _build/html/2209.02092.md\n",
      "\t _build/html/2209.01125.md\n",
      "\t _build/html/2209.00828.md\n",
      "\t _build/html/2209.00363.md\n",
      "\t _build/html/2208.14927.md\n",
      "\t _build/html/2208.09335.md\n",
      "\t _build/html/2208.08872.md\n",
      "\t _build/html/2204.06393.md\n",
      "\t _build/html/2204.03335.md\n",
      "\t _build/html/2204.03253.md\n",
      "\t _build/html/2204.02998.md\n",
      "\t _build/html/2204.02109.md\n",
      "\t _build/html/2204.02017.md\n",
      "\t _build/html/2204.01824.md\n",
      "\t _build/html/2204.01758.md\n",
      "\t _build/html/2204.01245.md\n",
      "\t _build/html/2204.00793.md\n",
      "\t _build/html/2204.00342.md\n",
      "\t _build/html/2203.16959.md\n",
      "\t _build/html/2203.16856.md\n",
      "\t _build/html/2203.16735.md\n",
      "\t _build/html/2203.16734.md\n",
      "\t _build/html/2203.16504.md\n",
      "\t _build/html/2203.15822.md\n",
      "\t _build/html/2203.15811.md\n"
     ]
    }
   ],
   "source": [
    "from datetime import datetime, timedelta, timezone\n",
    "from glob import glob\n",
    "\n",
    "files = glob('_build/html/*.md')\n",
    "days = 7\n",
    "now = datetime.today()\n",
    "res = []\n",
    "for fk in files:\n",
    "    stat_result = os.stat(fk).st_ctime\n",
    "    modified = datetime.fromtimestamp(stat_result, tz=timezone.utc).replace(tzinfo=None)\n",
    "    delta = now.today() - modified\n",
    "    if delta <= timedelta(days=days):\n",
    "        res.append((delta.seconds, fk))\n",
    "res = [k[1] for k in reversed(sorted(res, key=lambda x:x[1]))]\n",
    "npub = len(res)\n",
    "print(len(res), f\" publications in the last {days:d} days.\")\n",
    "[ print('\\t', k) for k in res ];"
   ]
  },
  {
   "cell_type": "code",
   "execution_count": 11,
   "id": "52ca0208",
   "metadata": {
    "execution": {
     "iopub.execute_input": "2023-01-06T04:08:55.393036Z",
     "iopub.status.busy": "2023-01-06T04:08:55.392331Z",
     "iopub.status.idle": "2023-01-06T04:08:55.398884Z",
     "shell.execute_reply": "2023-01-06T04:08:55.398251Z"
    },
    "papermill": {
     "duration": 0.019674,
     "end_time": "2023-01-06T04:08:55.400281",
     "exception": false,
     "start_time": "2023-01-06T04:08:55.380607",
     "status": "completed"
    },
    "scrolled": false,
    "tags": []
   },
   "outputs": [],
   "source": [
    "def create_carousel(npub=4):\n",
    "    \"\"\" Generate the HTML code for a carousel with `npub` slides \"\"\"\n",
    "    carousel = [\"\"\"<section class=\"carousel\" aria-label=\"Gallery\">\"\"\",\n",
    "                \"\"\"  <ol class=\"carousel__viewport\">\"\"\",\n",
    "    ]\n",
    "    for k in range(1, npub + 1):\n",
    "        prev_ = k - 1\n",
    "        next_ = k + 1\n",
    "        if prev_ <= 0:\n",
    "            prev_ = npub\n",
    "        if next_ > npub:\n",
    "            next_ = 1\n",
    "        text  = f\"\"\"    <li id=\"carousel__slide{k}\" tabindex=\"0\" class=\"carousel__slide\">\\n\"\"\"\n",
    "        text += f\"\"\"       <div class=\"carousel__snapper\">\\n\"\"\"\n",
    "        text += f\"\"\"         <a href=\"#carousel__slide{prev_}\" class=\"carousel__prev\">Go to previous slide</a>\\n\"\"\"\n",
    "        text += f\"\"\"         <a href=\"#carousel__slide{next_}\" class=\"carousel__next\">Go to next slide</a>\\n\"\"\"\n",
    "        text += f\"\"\"         <div id=\"slide{k}_content\" class=\"md_view\" >Content {k}</div>\\n\"\"\"\n",
    "        text += f\"\"\"       </div>\\n\"\"\"\n",
    "        text += f\"\"\"    </li>\"\"\"\n",
    "        carousel.append(text)\n",
    "\n",
    "    carousel.extend([\n",
    "        \"\"\"  </ol>\"\"\",\n",
    "        \"\"\"  <aside class=\"carousel__navigation\">\"\"\",\n",
    "        \"\"\"    <ol class=\"carousel__navigation-list\">\"\"\"])\n",
    "\n",
    "    for k in range(1, npub + 1):\n",
    "        text  = f\"\"\"      <li class=\"carousel__navigation-item\">\\n\"\"\"\n",
    "        text += f\"\"\"        <a href=\"#carousel__slide{k}\" class=\"carousel__navigation-button\">Go to {k}</a>\\n\"\"\"\n",
    "        text += f\"\"\"      </li>\"\"\"\n",
    "        carousel.append(text)\n",
    "    carousel.extend([\"\"\"    </ol>\"\"\", \"\"\"  </aside>\"\"\", \"\"\"</section>\"\"\"])\n",
    "\n",
    "    return '\\n'.join(carousel)"
   ]
  },
  {
   "cell_type": "code",
   "execution_count": 12,
   "id": "a6eac5b6",
   "metadata": {
    "execution": {
     "iopub.execute_input": "2023-01-06T04:08:55.423343Z",
     "iopub.status.busy": "2023-01-06T04:08:55.423039Z",
     "iopub.status.idle": "2023-01-06T04:08:55.429732Z",
     "shell.execute_reply": "2023-01-06T04:08:55.429073Z"
    },
    "papermill": {
     "duration": 0.020304,
     "end_time": "2023-01-06T04:08:55.431317",
     "exception": false,
     "start_time": "2023-01-06T04:08:55.411013",
     "status": "completed"
    },
    "scrolled": false,
    "tags": []
   },
   "outputs": [],
   "source": [
    "carousel = create_carousel(npub)\n",
    "docs = ', '.join(['\"{0:s}\"'.format(k.split('/')[-1]) for k in res])\n",
    "slides = ', '.join([f'\"slide{k}_content\"' for k in range(1, npub + 1)])\n",
    "\n",
    "script = f\"\"\"\n",
    "const docs = [{docs}]\n",
    "\n",
    "const slides = [{slides}]\n",
    "\"\"\" + \"\"\"\n",
    "async function run() {\n",
    "    for (let i = 0; i < docs.length; i++) {\n",
    "        let file = await fetch(docs[i]);\n",
    "        let text = await file.text()\n",
    "        document.getElementById(slides[i]).innerHTML =\n",
    "            marked.parse(text);\n",
    "    }\n",
    "    hljs.highlightAll();\n",
    "}\n",
    "run()\n",
    "\"\"\"\n",
    "\n",
    "page = f\"\"\"<!doctype html>\n",
    "<html lang=\"en\">\n",
    "\n",
    "<head>\n",
    "  <meta charset=\"utf-8\">\n",
    "  <meta name=\"viewport\" content=\"width=device-width, initial-scale=1\">\n",
    "  <!-- Bootstrap CSS -->\n",
    "  <link href=\"https://cdn.jsdelivr.net/npm/bootstrap@5.0.2/dist/css/bootstrap.min.css\" rel=\"stylesheet\"\n",
    "   integrity=\"sha384-EVSTQN3/azprG1Anm3QDgpJLIm9Nao0Yz1ztcQTwFspd3yD65VohhpuuCOmLASjC\" crossorigin=\"anonymous\">\n",
    "  <!-- highlight.js CSS -->\n",
    "  <link rel=\"stylesheet\" href=\"https://cdnjs.cloudflare.com/ajax/libs/highlight.js/11.1.0/styles/default.min.css\">\n",
    "  <!-- Mathjax 3 -->\n",
    "  <script type=\"text/javascript\" id=\"MathJax-config\" src=\"mathjax_config.js\"> </script>\n",
    "  <script type=\"text/javascript\" id=\"MathJax-script\" async \n",
    "    src=\"https://cdn.jsdelivr.net/npm/mathjax@3/es5/tex-mml-chtml.js\">\n",
    "  </script>\n",
    "  <link rel=\"stylesheet\" href=\"index_carousel.css\">\n",
    "  <link rel=\"icon\" type=\"image/x-icon\" href=\"https://www.mpia.de/assets/touch-icon-32x32-a66937bcebc4e8894ebff1f41a366c7c7220fd97a38869ee0f2db65a9f59b6c1.png\">\n",
    "  <title>MPIA Arxiv on deck!</title>\n",
    "</head>\n",
    "\n",
    "<body>\n",
    "  <div id=\"header\"> <img src=\"header_banner.png\" width=\"100%\"></div>\n",
    "  <div id=\"suptitle\"> 7-day archives </div>\n",
    "  <div id=\"info\">\n",
    "    <img src=\"https://pngimg.com/uploads/github/github_PNG58.png\" height=30rem></img>\n",
    "    <a href=https://github.com/mpi-astronomy/arxiv_display style=\"color:black;\">github/mpi-astronomy/arxiv_display</a> \n",
    "  </div>\n",
    "  {carousel:s}\n",
    "</body>\n",
    "\n",
    "<!-- Render Markdown -->\n",
    "\n",
    "<body>\n",
    "  <!-- highlight.js: https://highlightjs.org/download/ -->\n",
    "  <script src=\"https://cdnjs.cloudflare.com/ajax/libs/highlight.js/11.5.0/highlight.min.js\"></script>\n",
    "  <!-- marked.js -->\n",
    "  <script src=\"https://cdn.jsdelivr.net/npm/marked/marked.min.js\"></script>\n",
    "  <script>{script:s}</script>\n",
    "</body>\n",
    "</html>\n",
    "\"\"\"\n",
    "with open(\"_build/html/index_7days.html\", 'w') as fout:\n",
    "    fout.write(page)"
   ]
  },
  {
   "cell_type": "markdown",
   "id": "1cebacbc",
   "metadata": {
    "papermill": {
     "duration": 0.010773,
     "end_time": "2023-01-06T04:08:55.452968",
     "exception": false,
     "start_time": "2023-01-06T04:08:55.442195",
     "status": "completed"
    },
    "tags": []
   },
   "source": [
    "# Debugging papers"
   ]
  },
  {
   "cell_type": "raw",
   "id": "debe7cc6",
   "metadata": {
    "papermill": {
     "duration": 0.01057,
     "end_time": "2023-01-06T04:08:55.474189",
     "exception": false,
     "start_time": "2023-01-06T04:08:55.463619",
     "status": "completed"
    },
    "tags": []
   },
   "source": [
    "raise NotImplementedError(\"Manual Stop\")"
   ]
  },
  {
   "cell_type": "raw",
   "id": "eb169192",
   "metadata": {
    "papermill": {
     "duration": 0.01073,
     "end_time": "2023-01-06T04:08:55.495563",
     "exception": false,
     "start_time": "2023-01-06T04:08:55.484833",
     "status": "completed"
    },
    "scrolled": true,
    "tags": []
   },
   "source": [
    "from IPython.display import display, Markdown\n",
    "from TexSoup import TexSoup\n",
    "import re\n",
    "\n",
    "def bracket_error(source: str):\n",
    "    \"\"\" Find problematic portions of the document \"\"\"\n",
    "    \n",
    "    print(\"len(source)\", len(source))\n",
    "    \n",
    "    # Checking header\n",
    "    begin_doc = next(re.finditer(r'\\\\begin\\{document\\}', doc.source)).span()[1]\n",
    "    header = source[:begin_doc]\n",
    "    text = header + r\"\\n\\end{document}\"\n",
    "\n",
    "    try:\n",
    "        # print(\"Header check... \", end='')\n",
    "        TexSoup(text)\n",
    "        display(Markdown(f\"**[OK]** - Header\"))\n",
    "    except:\n",
    "        raise RuntimeError(\"Error in the header\")\n",
    "        \n",
    "    # Check the text per section until the end.\n",
    "    # Do not stop and try them all.\n",
    "    \n",
    "    problematic_text = []\n",
    "    \n",
    "    sections = ([(0, begin_doc, 'until first section')] + \n",
    "                [(g.span()[0], g.span()[1], g.group()) for g in re.finditer(r'\\\\section\\{.*\\}', source)] +\n",
    "                [(g.span()[0], g.span()[1], g.group()) for g in re.finditer(r'\\\\begin\\{appendix\\}', source)]\n",
    "               )\n",
    "    sections.append([len(source), len(source), 'end'])\n",
    "    \n",
    "    sections = sorted(sections, key=lambda x: x[0])\n",
    "    \n",
    "    prev_pos, prev_name = (0, 'header')\n",
    "    parsed = []\n",
    "    \n",
    "    for span, span_end, name in sections:\n",
    "\n",
    "        if span - prev_pos <= 0:\n",
    "            continue\n",
    "            \n",
    "\n",
    "        text = source[prev_pos:span]\n",
    "        if prev_pos > begin_doc:\n",
    "            text = r\"\\n\\begin{document}\" + text + r\"\\n\\end{document}\"\n",
    "        else:\n",
    "            text = text + r\"\\n\\end{document}\"\n",
    "        try:\n",
    "            #print(f\"{prev_pos}:{prev_name}-->{span}:{name} check... \", end='')\n",
    "            parsed.append(TexSoup(text, tolerance=1))  # allow not ending env\n",
    "            display(Markdown(f\"**[OK]** - *{prev_pos}*:{prev_name} &rarr; *{span}*:{name}\"))\n",
    "            # print(\"ok\")\n",
    "\n",
    "            prev_pos = span\n",
    "            prev_name = name\n",
    "        except:\n",
    "            # print(f\"error between {prev_pos} and {span}\")\n",
    "            display(Markdown(f\"**[ERR]** *{prev_pos}*:{prev_name} &rarr; *{span}*:{name}\"))\n",
    "            problematic_text.append((prev_pos, source[prev_pos:span]))\n",
    "            prev_pos = span\n",
    "            prev_name = name\n",
    "            # raise\n",
    "    return problematic_text, parsed\n",
    "\n",
    "\n",
    "def check_environment(text, offset=0):\n",
    "    \"\"\" Check environment \"\"\"\n",
    "    env = re.compile(r\"\\\\begin\\{(?P<env>.*)\\}(.*)\\\\end\\{(?P=env)\\}\", re.DOTALL)\n",
    "\n",
    "    for match in env.finditer(text):\n",
    "        beg, end = match.span()\n",
    "        beg += offset\n",
    "        end += offset\n",
    "        envname = match.groups()[0]\n",
    "        try:\n",
    "            latex.TexSoup(match.group())\n",
    "        except Exception as e:\n",
    "            display(e)\n",
    "            print(f\"Error in {envname:s} between {beg} and {end}\")\n",
    "            return match.groups()[1], beg, end"
   ]
  },
  {
   "cell_type": "raw",
   "id": "2315e835",
   "metadata": {
    "papermill": {
     "duration": 0.010623,
     "end_time": "2023-01-06T04:08:55.516904",
     "exception": false,
     "start_time": "2023-01-06T04:08:55.506281",
     "status": "completed"
    },
    "scrolled": false,
    "tags": []
   },
   "source": [
    "import importlib\n",
    "importlib.reload(latex)\n",
    "which = \"2204.03253\"\n",
    "paper_id = f'{which:s}'\n",
    "folder = f'tmp_{paper_id:s}'\n",
    "\n",
    "if not os.path.isdir(folder):\n",
    "    folder = retrieve_document_source(f\"{paper_id}\", f'tmp_{paper_id}')\n",
    "\n",
    "try:\n",
    "    doc = latex.LatexDocument(folder, validation=validation)    \n",
    "except AffiliationError as affilerror:\n",
    "    msg = f\"ArXiv:{paper_id:s} is not an MPIA paper... \" + str(affilerror)\n",
    "    print(msg)\n",
    "\n",
    "\n",
    "# Hack because sometimes author parsing does not work well\n",
    "if (len(doc.authors) != len(paper['authors'])):\n",
    "    doc._authors = paper['authors']\n",
    "if (doc.abstract) in (None, ''):\n",
    "    doc._abstract = paper['abstract']\n",
    "\n",
    "doc.comment = get_markdown_badge(paper_id) + \" _\" + paper['comments'] + \"_\"\n",
    "doc.highlight_authors_in_list(hl_list)\n",
    "\n",
    "full_md = doc.generate_markdown_text()"
   ]
  },
  {
   "cell_type": "raw",
   "id": "dd3781db",
   "metadata": {
    "papermill": {
     "duration": 0.010577,
     "end_time": "2023-01-06T04:08:55.538134",
     "exception": false,
     "start_time": "2023-01-06T04:08:55.527557",
     "status": "completed"
    },
    "scrolled": false,
    "tags": []
   },
   "source": [
    "doc"
   ]
  },
  {
   "cell_type": "raw",
   "id": "c6eed834",
   "metadata": {
    "papermill": {
     "duration": 0.010769,
     "end_time": "2023-01-06T04:08:55.559764",
     "exception": false,
     "start_time": "2023-01-06T04:08:55.548995",
     "status": "completed"
    },
    "tags": []
   },
   "source": [
    "# [check_environment(k) for k in bracket_error(doc.source)]\n",
    "_, _, a = latex.get_content_per_section(doc.source, verbose=True)\n",
    "if not a:\n",
    "    print(\"no issues per section\")\n",
    "for ak in a:\n",
    "    r = check_environment(ak[1], offset=ak[0])\n",
    "    print(r[1], r[2])\n",
    "    print(r[0])"
   ]
  },
  {
   "cell_type": "code",
   "execution_count": null,
   "id": "71ce768a",
   "metadata": {
    "papermill": {
     "duration": 0.010721,
     "end_time": "2023-01-06T04:08:55.581708",
     "exception": false,
     "start_time": "2023-01-06T04:08:55.570987",
     "status": "completed"
    },
    "tags": []
   },
   "outputs": [],
   "source": []
  }
 ],
 "metadata": {
  "kernelspec": {
   "display_name": "Python 3.10.6 64-bit",
   "language": "python",
   "name": "python3"
  },
  "language_info": {
   "codemirror_mode": {
    "name": "ipython",
    "version": 3
   },
   "file_extension": ".py",
   "mimetype": "text/x-python",
   "name": "python",
   "nbconvert_exporter": "python",
   "pygments_lexer": "ipython3",
   "version": "3.9.16"
  },
  "papermill": {
   "default_parameters": {},
   "duration": 227.243667,
   "end_time": "2023-01-06T04:08:55.810667",
   "environment_variables": {},
   "exception": null,
   "input_path": "MPIA daily digest.ipynb",
   "output_path": "log.ipynb",
   "parameters": {},
   "start_time": "2023-01-06T04:05:08.567000",
   "version": "2.4.0"
  },
  "vscode": {
   "interpreter": {
    "hash": "e7370f93d1d0cde622a1f8e1c04877d8463912d04d973331ad4851f04de6915a"
   }
  },
  "widgets": {
   "application/vnd.jupyter.widget-state+json": {
    "state": {
     "0d73e405993a4ecbbb01e6f9bc53ea48": {
      "model_module": "@jupyter-widgets/controls",
      "model_module_version": "2.0.0",
      "model_name": "ProgressStyleModel",
      "state": {
       "_model_module": "@jupyter-widgets/controls",
       "_model_module_version": "2.0.0",
       "_model_name": "ProgressStyleModel",
       "_view_count": null,
       "_view_module": "@jupyter-widgets/base",
       "_view_module_version": "2.0.0",
       "_view_name": "StyleView",
       "bar_color": null,
       "description_width": ""
      }
     },
     "49b047ccba364fa3a5b2541a742be80d": {
      "model_module": "@jupyter-widgets/base",
      "model_module_version": "2.0.0",
      "model_name": "LayoutModel",
      "state": {
       "_model_module": "@jupyter-widgets/base",
       "_model_module_version": "2.0.0",
       "_model_name": "LayoutModel",
       "_view_count": null,
       "_view_module": "@jupyter-widgets/base",
       "_view_module_version": "2.0.0",
       "_view_name": "LayoutView",
       "align_content": null,
       "align_items": null,
       "align_self": null,
       "border_bottom": null,
       "border_left": null,
       "border_right": null,
       "border_top": null,
       "bottom": null,
       "display": null,
       "flex": null,
       "flex_flow": null,
       "grid_area": null,
       "grid_auto_columns": null,
       "grid_auto_flow": null,
       "grid_auto_rows": null,
       "grid_column": null,
       "grid_gap": null,
       "grid_row": null,
       "grid_template_areas": null,
       "grid_template_columns": null,
       "grid_template_rows": null,
       "height": null,
       "justify_content": null,
       "justify_items": null,
       "left": null,
       "margin": null,
       "max_height": null,
       "max_width": null,
       "min_height": null,
       "min_width": null,
       "object_fit": null,
       "object_position": null,
       "order": null,
       "overflow": null,
       "padding": null,
       "right": null,
       "top": null,
       "visibility": null,
       "width": null
      }
     },
     "5782ed1c2b68445f9b0e6312bee4de0b": {
      "model_module": "@jupyter-widgets/base",
      "model_module_version": "2.0.0",
      "model_name": "LayoutModel",
      "state": {
       "_model_module": "@jupyter-widgets/base",
       "_model_module_version": "2.0.0",
       "_model_name": "LayoutModel",
       "_view_count": null,
       "_view_module": "@jupyter-widgets/base",
       "_view_module_version": "2.0.0",
       "_view_name": "LayoutView",
       "align_content": null,
       "align_items": null,
       "align_self": null,
       "border_bottom": null,
       "border_left": null,
       "border_right": null,
       "border_top": null,
       "bottom": null,
       "display": null,
       "flex": null,
       "flex_flow": null,
       "grid_area": null,
       "grid_auto_columns": null,
       "grid_auto_flow": null,
       "grid_auto_rows": null,
       "grid_column": null,
       "grid_gap": null,
       "grid_row": null,
       "grid_template_areas": null,
       "grid_template_columns": null,
       "grid_template_rows": null,
       "height": null,
       "justify_content": null,
       "justify_items": null,
       "left": null,
       "margin": null,
       "max_height": null,
       "max_width": null,
       "min_height": null,
       "min_width": null,
       "object_fit": null,
       "object_position": null,
       "order": null,
       "overflow": null,
       "padding": null,
       "right": null,
       "top": null,
       "visibility": null,
       "width": null
      }
     },
     "59e1a5755eb84e119f9ef4ac510614af": {
      "model_module": "@jupyter-widgets/controls",
      "model_module_version": "2.0.0",
      "model_name": "HTMLStyleModel",
      "state": {
       "_model_module": "@jupyter-widgets/controls",
       "_model_module_version": "2.0.0",
       "_model_name": "HTMLStyleModel",
       "_view_count": null,
       "_view_module": "@jupyter-widgets/base",
       "_view_module_version": "2.0.0",
       "_view_name": "StyleView",
       "background": null,
       "description_width": "",
       "font_size": null,
       "text_color": null
      }
     },
     "6f1d2d0516b64d51991aa44486a811a3": {
      "model_module": "@jupyter-widgets/controls",
      "model_module_version": "2.0.0",
      "model_name": "HTMLStyleModel",
      "state": {
       "_model_module": "@jupyter-widgets/controls",
       "_model_module_version": "2.0.0",
       "_model_name": "HTMLStyleModel",
       "_view_count": null,
       "_view_module": "@jupyter-widgets/base",
       "_view_module_version": "2.0.0",
       "_view_name": "StyleView",
       "background": null,
       "description_width": "",
       "font_size": null,
       "text_color": null
      }
     },
     "83279c1939b74e7ca2ee667bab6dfb4c": {
      "model_module": "@jupyter-widgets/controls",
      "model_module_version": "2.0.0",
      "model_name": "FloatProgressModel",
      "state": {
       "_dom_classes": [],
       "_model_module": "@jupyter-widgets/controls",
       "_model_module_version": "2.0.0",
       "_model_name": "FloatProgressModel",
       "_view_count": null,
       "_view_module": "@jupyter-widgets/controls",
       "_view_module_version": "2.0.0",
       "_view_name": "ProgressView",
       "bar_style": "success",
       "description": "",
       "description_allow_html": false,
       "layout": "IPY_MODEL_49b047ccba364fa3a5b2541a742be80d",
       "max": 19.0,
       "min": 0.0,
       "orientation": "horizontal",
       "style": "IPY_MODEL_0d73e405993a4ecbbb01e6f9bc53ea48",
       "tabbable": null,
       "tooltip": null,
       "value": 19.0
      }
     },
     "8e80afba00ca473bab6c06344f6ff8b4": {
      "model_module": "@jupyter-widgets/controls",
      "model_module_version": "2.0.0",
      "model_name": "HTMLModel",
      "state": {
       "_dom_classes": [],
       "_model_module": "@jupyter-widgets/controls",
       "_model_module_version": "2.0.0",
       "_model_name": "HTMLModel",
       "_view_count": null,
       "_view_module": "@jupyter-widgets/controls",
       "_view_module_version": "2.0.0",
       "_view_name": "HTMLView",
       "description": "",
       "description_allow_html": false,
       "layout": "IPY_MODEL_b7b0162f1173461a8fce4b6912b8cea3",
       "placeholder": "​",
       "style": "IPY_MODEL_59e1a5755eb84e119f9ef4ac510614af",
       "tabbable": null,
       "tooltip": null,
       "value": " 19/19 [03:18&lt;00:00,  4.96s/it]"
      }
     },
     "96d7a9da26bc4946949332d285f2a395": {
      "model_module": "@jupyter-widgets/controls",
      "model_module_version": "2.0.0",
      "model_name": "HBoxModel",
      "state": {
       "_dom_classes": [],
       "_model_module": "@jupyter-widgets/controls",
       "_model_module_version": "2.0.0",
       "_model_name": "HBoxModel",
       "_view_count": null,
       "_view_module": "@jupyter-widgets/controls",
       "_view_module_version": "2.0.0",
       "_view_name": "HBoxView",
       "box_style": "",
       "children": [
        "IPY_MODEL_ff0cf4d028d147c3bfe43983e273a2b5",
        "IPY_MODEL_83279c1939b74e7ca2ee667bab6dfb4c",
        "IPY_MODEL_8e80afba00ca473bab6c06344f6ff8b4"
       ],
       "layout": "IPY_MODEL_5782ed1c2b68445f9b0e6312bee4de0b",
       "tabbable": null,
       "tooltip": null
      }
     },
     "b7b0162f1173461a8fce4b6912b8cea3": {
      "model_module": "@jupyter-widgets/base",
      "model_module_version": "2.0.0",
      "model_name": "LayoutModel",
      "state": {
       "_model_module": "@jupyter-widgets/base",
       "_model_module_version": "2.0.0",
       "_model_name": "LayoutModel",
       "_view_count": null,
       "_view_module": "@jupyter-widgets/base",
       "_view_module_version": "2.0.0",
       "_view_name": "LayoutView",
       "align_content": null,
       "align_items": null,
       "align_self": null,
       "border_bottom": null,
       "border_left": null,
       "border_right": null,
       "border_top": null,
       "bottom": null,
       "display": null,
       "flex": null,
       "flex_flow": null,
       "grid_area": null,
       "grid_auto_columns": null,
       "grid_auto_flow": null,
       "grid_auto_rows": null,
       "grid_column": null,
       "grid_gap": null,
       "grid_row": null,
       "grid_template_areas": null,
       "grid_template_columns": null,
       "grid_template_rows": null,
       "height": null,
       "justify_content": null,
       "justify_items": null,
       "left": null,
       "margin": null,
       "max_height": null,
       "max_width": null,
       "min_height": null,
       "min_width": null,
       "object_fit": null,
       "object_position": null,
       "order": null,
       "overflow": null,
       "padding": null,
       "right": null,
       "top": null,
       "visibility": null,
       "width": null
      }
     },
     "c5cdfb8d685840c690b5b76efdb1eaa3": {
      "model_module": "@jupyter-widgets/base",
      "model_module_version": "2.0.0",
      "model_name": "LayoutModel",
      "state": {
       "_model_module": "@jupyter-widgets/base",
       "_model_module_version": "2.0.0",
       "_model_name": "LayoutModel",
       "_view_count": null,
       "_view_module": "@jupyter-widgets/base",
       "_view_module_version": "2.0.0",
       "_view_name": "LayoutView",
       "align_content": null,
       "align_items": null,
       "align_self": null,
       "border_bottom": null,
       "border_left": null,
       "border_right": null,
       "border_top": null,
       "bottom": null,
       "display": null,
       "flex": null,
       "flex_flow": null,
       "grid_area": null,
       "grid_auto_columns": null,
       "grid_auto_flow": null,
       "grid_auto_rows": null,
       "grid_column": null,
       "grid_gap": null,
       "grid_row": null,
       "grid_template_areas": null,
       "grid_template_columns": null,
       "grid_template_rows": null,
       "height": null,
       "justify_content": null,
       "justify_items": null,
       "left": null,
       "margin": null,
       "max_height": null,
       "max_width": null,
       "min_height": null,
       "min_width": null,
       "object_fit": null,
       "object_position": null,
       "order": null,
       "overflow": null,
       "padding": null,
       "right": null,
       "top": null,
       "visibility": null,
       "width": null
      }
     },
     "ff0cf4d028d147c3bfe43983e273a2b5": {
      "model_module": "@jupyter-widgets/controls",
      "model_module_version": "2.0.0",
      "model_name": "HTMLModel",
      "state": {
       "_dom_classes": [],
       "_model_module": "@jupyter-widgets/controls",
       "_model_module_version": "2.0.0",
       "_model_name": "HTMLModel",
       "_view_count": null,
       "_view_module": "@jupyter-widgets/controls",
       "_view_module_version": "2.0.0",
       "_view_name": "HTMLView",
       "description": "",
       "description_allow_html": false,
       "layout": "IPY_MODEL_c5cdfb8d685840c690b5b76efdb1eaa3",
       "placeholder": "​",
       "style": "IPY_MODEL_6f1d2d0516b64d51991aa44486a811a3",
       "tabbable": null,
       "tooltip": null,
       "value": "100%"
      }
     }
    },
    "version_major": 2,
    "version_minor": 0
   }
  }
 },
 "nbformat": 4,
 "nbformat_minor": 5
}