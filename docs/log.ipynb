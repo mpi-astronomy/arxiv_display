{
 "cells": [
  {
   "cell_type": "markdown",
   "id": "92bcb855",
   "metadata": {
    "papermill": {
     "duration": 0.005605,
     "end_time": "2022-12-02T04:06:54.163226",
     "exception": false,
     "start_time": "2022-12-02T04:06:54.157621",
     "status": "completed"
    },
    "tags": []
   },
   "source": [
    "# MPIA Arxiv on Deck 2\n",
    "\n",
    "Contains the steps to produce the paper extractions."
   ]
  },
  {
   "cell_type": "code",
   "execution_count": 1,
   "id": "3a0d6e11",
   "metadata": {
    "execution": {
     "iopub.execute_input": "2022-12-02T04:06:54.173557Z",
     "iopub.status.busy": "2022-12-02T04:06:54.172890Z",
     "iopub.status.idle": "2022-12-02T04:06:54.342701Z",
     "shell.execute_reply": "2022-12-02T04:06:54.341974Z"
    },
    "papermill": {
     "duration": 0.177197,
     "end_time": "2022-12-02T04:06:54.344964",
     "exception": false,
     "start_time": "2022-12-02T04:06:54.167767",
     "status": "completed"
    },
    "tags": []
   },
   "outputs": [],
   "source": [
    "# Imports\n",
    "import os\n",
    "from IPython.display import Markdown, display\n",
    "from tqdm.notebook import tqdm\n",
    "import warnings\n",
    "from PIL import Image \n",
    "\n",
    "# requires arxiv_on_deck_2\n",
    "\n",
    "from arxiv_on_deck_2.arxiv2 import (get_new_papers, \n",
    "                                    get_paper_from_identifier,\n",
    "                                    retrieve_document_source, \n",
    "                                    get_markdown_badge)\n",
    "from arxiv_on_deck_2 import (latex, \n",
    "                             mpia,\n",
    "                             highlight_authors_in_list)\n",
    "\n",
    "# Sometimes images are really big\n",
    "Image.MAX_IMAGE_PIXELS = 1000000000 "
   ]
  },
  {
   "cell_type": "code",
   "execution_count": 2,
   "id": "22aa9d44",
   "metadata": {
    "execution": {
     "iopub.execute_input": "2022-12-02T04:06:54.356716Z",
     "iopub.status.busy": "2022-12-02T04:06:54.356230Z",
     "iopub.status.idle": "2022-12-02T04:06:54.361264Z",
     "shell.execute_reply": "2022-12-02T04:06:54.360624Z"
    },
    "papermill": {
     "duration": 0.013453,
     "end_time": "2022-12-02T04:06:54.362913",
     "exception": false,
     "start_time": "2022-12-02T04:06:54.349460",
     "status": "completed"
    },
    "tags": []
   },
   "outputs": [],
   "source": [
    "# Some useful definitions.\n",
    "\n",
    "class AffiliationWarning(UserWarning):\n",
    "    pass\n",
    "\n",
    "class AffiliationError(RuntimeError):\n",
    "    pass\n",
    "\n",
    "def validation(source: str):\n",
    "    \"\"\"Raises error paper during parsing of source file\n",
    "    \n",
    "    Allows checks before parsing TeX code.\n",
    "    \n",
    "    Raises AffiliationWarning\n",
    "    \"\"\"\n",
    "    check = mpia.affiliation_verifications(source, verbose=True)\n",
    "    if check is not True:\n",
    "        raise AffiliationError(\"mpia.affiliation_verifications: \" + check)\n",
    "\n",
    "        \n",
    "warnings.simplefilter('always', AffiliationWarning)"
   ]
  },
  {
   "cell_type": "code",
   "execution_count": 3,
   "id": "14622700",
   "metadata": {
    "execution": {
     "iopub.execute_input": "2022-12-02T04:06:54.371929Z",
     "iopub.status.busy": "2022-12-02T04:06:54.371312Z",
     "iopub.status.idle": "2022-12-02T04:06:54.375133Z",
     "shell.execute_reply": "2022-12-02T04:06:54.374521Z"
    },
    "papermill": {
     "duration": 0.010069,
     "end_time": "2022-12-02T04:06:54.376786",
     "exception": false,
     "start_time": "2022-12-02T04:06:54.366717",
     "status": "completed"
    },
    "tags": []
   },
   "outputs": [],
   "source": [
    "# additional CSS to consider. \n",
    "# TODO: Current into each exported file. \n",
    "#       This should be set once into the webpages directly.\n",
    "#       With only the class/id definitions in the .md files.\n",
    "\n",
    "debug_html = \"\"\"\n",
    "<style>\n",
    "#wrap{ overflow:auto; }\n",
    "#fig1{ background:yellow; width:100%; float:left; padding:5px;  }\n",
    "#fig2{ background:red; width:50%; float:left; clear:left; padding:5px;  }\n",
    "#fig3{ background:green; width:50%; float:left; padding:5px;   }\n",
    ".macros{ background:yellow; visibility:visible;}\n",
    "h1 {margin: 0 0 0 0;}\n",
    "mark {background-color:#fff3b6;}\n",
    "img {object-fit:contain; max-height:250px; display:inline-block; text-align: center;}\n",
    "</style>\n",
    "\"\"\" \n",
    "html = \"\"\"\n",
    "<style>\n",
    "#wrap{ overflow:auto; }\n",
    "#fig1{ width:100%; float:left; padding: 5px;  }\n",
    "#fig2{ width:50%; float:left; clear:left; padding: 5px;  }\n",
    "#fig3{ width:50%; float:left; padding: 5px;  }\n",
    ".macros{ visibility:hidden; height:0px; }\n",
    "h1 {margin: 0em 0 0 0;}\n",
    "mark {background-color:#fff3b6;}\n",
    "img {object-fit:contain; max-height:250px; display:inline-block; text-align: center;}\n",
    "</style>\n",
    "\"\"\""
   ]
  },
  {
   "cell_type": "markdown",
   "id": "14bd6310",
   "metadata": {
    "papermill": {
     "duration": 0.003761,
     "end_time": "2022-12-02T04:06:54.384394",
     "exception": false,
     "start_time": "2022-12-02T04:06:54.380633",
     "status": "completed"
    },
    "tags": []
   },
   "source": [
    "## get list of arxiv paper candidates\n",
    "\n",
    "We use the MPIA mitarbeiter list webpage from mpia.de to get author names\n",
    "We then get all new papers from Arxiv and match authors"
   ]
  },
  {
   "cell_type": "code",
   "execution_count": 4,
   "id": "2645e73a",
   "metadata": {
    "execution": {
     "iopub.execute_input": "2022-12-02T04:06:54.393217Z",
     "iopub.status.busy": "2022-12-02T04:06:54.392867Z",
     "iopub.status.idle": "2022-12-02T04:07:19.263846Z",
     "shell.execute_reply": "2022-12-02T04:07:19.263018Z"
    },
    "papermill": {
     "duration": 24.877826,
     "end_time": "2022-12-02T04:07:19.266030",
     "exception": false,
     "start_time": "2022-12-02T04:06:54.388204",
     "status": "completed"
    },
    "tags": []
   },
   "outputs": [
    {
     "name": "stdout",
     "output_type": "stream",
     "text": [
      "Arxiv has 70 new papers today\n",
      "          32 with possible author matches\n"
     ]
    }
   ],
   "source": [
    "# get list from MPIA website\n",
    "# it automatically filters identified non-scientists :func:`mpia.filter_non_scientists`\n",
    "mpia_authors = mpia.get_mpia_mitarbeiter_list()\n",
    "new_papers = get_new_papers()\n",
    "# add manual references\n",
    "add_paper_refs = []\n",
    "new_papers.extend([get_paper_from_identifier(k) for k in add_paper_refs])\n",
    "\n",
    "# select only papers with matching author names and highlight authors\n",
    "hl_list = [k[0] for k in mpia_authors]\n",
    "\n",
    "candidates = []\n",
    "for paperk in new_papers:\n",
    "    hl_authors = highlight_authors_in_list(paperk['authors'], hl_list)\n",
    "    matches = [(hl, orig) for hl, orig in zip(hl_authors, paperk['authors']) if 'mark' in hl]\n",
    "    paperk['authors'] = hl_authors\n",
    "    if matches:\n",
    "        candidates.append(paperk)\n",
    "print(\"\"\"Arxiv has {0:,d} new papers today\"\"\".format(len(new_papers)))        \n",
    "print(\"\"\"          {0:,d} with possible author matches\"\"\".format(len(candidates)))"
   ]
  },
  {
   "cell_type": "markdown",
   "id": "3543b34a",
   "metadata": {
    "papermill": {
     "duration": 0.004033,
     "end_time": "2022-12-02T04:07:19.274453",
     "exception": false,
     "start_time": "2022-12-02T04:07:19.270420",
     "status": "completed"
    },
    "tags": []
   },
   "source": [
    "# Parse sources and generate relevant outputs\n",
    "\n",
    "From the candidates, we do the following steps:\n",
    "* get their tarball from ArXiv (and extract data)\n",
    "* find the main .tex file: find one with \\documentclass{...} (sometimes it's non trivial)\n",
    "* Check affiliations with :func:`validation`, which uses :func:`mpia.affiliation_verifications`\n",
    "* If passing the affiliations: we parse the .tex source\n",
    "   * inject sub-documents into the main (flatten the main document)\n",
    "   * parse structure, extract information (title, abstract, authors, figures...)\n",
    "   * handles `\\graphicspath` if provided\n",
    "* Generate the .md document."
   ]
  },
  {
   "cell_type": "code",
   "execution_count": 5,
   "id": "9576b79e",
   "metadata": {
    "execution": {
     "iopub.execute_input": "2022-12-02T04:07:19.284033Z",
     "iopub.status.busy": "2022-12-02T04:07:19.283350Z",
     "iopub.status.idle": "2022-12-02T04:09:19.144047Z",
     "shell.execute_reply": "2022-12-02T04:09:19.143241Z"
    },
    "papermill": {
     "duration": 119.867731,
     "end_time": "2022-12-02T04:09:19.146107",
     "exception": false,
     "start_time": "2022-12-02T04:07:19.278376",
     "status": "completed"
    },
    "scrolled": false,
    "tags": []
   },
   "outputs": [
    {
     "data": {
      "application/vnd.jupyter.widget-view+json": {
       "model_id": "251eb03767b14ed5926c5fb487813cfb",
       "version_major": 2,
       "version_minor": 0
      },
      "text/plain": [
       "  0%|          | 0/31 [00:00<?, ?it/s]"
      ]
     },
     "metadata": {},
     "output_type": "display_data"
    },
    {
     "name": "stdout",
     "output_type": "stream",
     "text": [
      "Retrieving document from  https://arxiv.org/e-print/2212.00029\n"
     ]
    },
    {
     "name": "stdout",
     "output_type": "stream",
     "text": [
      "extracting tarball to tmp_2212.00029..."
     ]
    },
    {
     "name": "stdout",
     "output_type": "stream",
     "text": [
      " done.\n",
      "Retrieving document from  https://arxiv.org/e-print/2212.00032\n"
     ]
    },
    {
     "name": "stderr",
     "output_type": "stream",
     "text": [
      "/opt/hostedtoolcache/Python/3.9.15/x64/lib/python3.9/site-packages/IPython/core/interactiveshell.py:3433: LatexWarning: Multiple tex files.\n",
      "\n",
      "  exec(code_obj, self.user_global_ns, self.user_ns)\n",
      "/opt/hostedtoolcache/Python/3.9.15/x64/lib/python3.9/site-packages/IPython/core/interactiveshell.py:3433: LatexWarning: Found documentclass in tmp_2212.00029/mnras_guide.tex\n",
      "\n",
      "  exec(code_obj, self.user_global_ns, self.user_ns)\n"
     ]
    },
    {
     "name": "stdout",
     "output_type": "stream",
     "text": [
      "extracting tarball to tmp_2212.00032..."
     ]
    },
    {
     "name": "stdout",
     "output_type": "stream",
     "text": [
      " done.\n"
     ]
    },
    {
     "name": "stdout",
     "output_type": "stream",
     "text": [
      "Retrieving document from  https://arxiv.org/e-print/2212.00034\n"
     ]
    },
    {
     "name": "stdout",
     "output_type": "stream",
     "text": [
      "extracting tarball to tmp_2212.00034..."
     ]
    },
    {
     "name": "stdout",
     "output_type": "stream",
     "text": [
      " done.\n",
      "Retrieving document from  https://arxiv.org/e-print/2212.00044\n"
     ]
    },
    {
     "name": "stdout",
     "output_type": "stream",
     "text": [
      "extracting tarball to tmp_2212.00044..."
     ]
    },
    {
     "name": "stdout",
     "output_type": "stream",
     "text": [
      " done.\n",
      "Retrieving document from  https://arxiv.org/e-print/2212.00047\n"
     ]
    },
    {
     "name": "stdout",
     "output_type": "stream",
     "text": [
      "extracting tarball to tmp_2212.00047..."
     ]
    },
    {
     "name": "stdout",
     "output_type": "stream",
     "text": [
      " done.\n"
     ]
    },
    {
     "name": "stderr",
     "output_type": "stream",
     "text": [
      "/opt/hostedtoolcache/Python/3.9.15/x64/lib/python3.9/site-packages/arxiv_on_deck_2/latex.py:118: LatexWarning: attempting recovering figure CMD\n",
      "  warnings.warn(LatexWarning(f'attempting recovering figure {image}'))\n"
     ]
    },
    {
     "name": "stderr",
     "output_type": "stream",
     "text": [
      "/opt/hostedtoolcache/Python/3.9.15/x64/lib/python3.9/site-packages/arxiv_on_deck_2/latex.py:118: LatexWarning: attempting recovering figure proper_motion_dist\n",
      "  warnings.warn(LatexWarning(f'attempting recovering figure {image}'))\n"
     ]
    },
    {
     "name": "stderr",
     "output_type": "stream",
     "text": [
      "/opt/hostedtoolcache/Python/3.9.15/x64/lib/python3.9/site-packages/arxiv_on_deck_2/latex.py:118: LatexWarning: attempting recovering figure proper_motions_half\n",
      "  warnings.warn(LatexWarning(f'attempting recovering figure {image}'))\n"
     ]
    },
    {
     "name": "stderr",
     "output_type": "stream",
     "text": [
      "/opt/hostedtoolcache/Python/3.9.15/x64/lib/python3.9/site-packages/arxiv_on_deck_2/latex.py:118: LatexWarning: attempting recovering figure ext_maps\n",
      "  warnings.warn(LatexWarning(f'attempting recovering figure {image}'))\n",
      "/opt/hostedtoolcache/Python/3.9.15/x64/lib/python3.9/site-packages/arxiv_on_deck_2/latex.py:118: LatexWarning: attempting recovering figure Scheme\n",
      "  warnings.warn(LatexWarning(f'attempting recovering figure {image}'))\n",
      "/opt/hostedtoolcache/Python/3.9.15/x64/lib/python3.9/site-packages/arxiv_on_deck_2/latex.py:118: LatexWarning: attempting recovering figure distances\n",
      "  warnings.warn(LatexWarning(f'attempting recovering figure {image}'))\n"
     ]
    },
    {
     "name": "stdout",
     "output_type": "stream",
     "text": [
      "Retrieving document from  https://arxiv.org/e-print/2212.00051\n"
     ]
    },
    {
     "name": "stdout",
     "output_type": "stream",
     "text": [
      "extracting tarball to tmp_2212.00051..."
     ]
    },
    {
     "name": "stdout",
     "output_type": "stream",
     "text": [
      " done.\n",
      "Retrieving document from  https://arxiv.org/e-print/2212.00055\n"
     ]
    },
    {
     "name": "stderr",
     "output_type": "stream",
     "text": [
      "/opt/hostedtoolcache/Python/3.9.15/x64/lib/python3.9/site-packages/IPython/core/interactiveshell.py:3433: LatexWarning: Multiple tex files.\n",
      "\n",
      "  exec(code_obj, self.user_global_ns, self.user_ns)\n",
      "/opt/hostedtoolcache/Python/3.9.15/x64/lib/python3.9/site-packages/IPython/core/interactiveshell.py:3433: LatexWarning: Found documentclass in tmp_2212.00051/main.tex\n",
      "\n",
      "  exec(code_obj, self.user_global_ns, self.user_ns)\n",
      "/opt/hostedtoolcache/Python/3.9.15/x64/lib/python3.9/site-packages/arxiv_on_deck_2/latex.py:292: LatexWarning: Latex injecting: 'bangla_commands' from 'tmp_2212.00051/bangla_commands.tex'\n",
      "  warnings.warn(LatexWarning(f\"Latex injecting: '{ext}' from '{subsource}'\"))\n"
     ]
    },
    {
     "name": "stdout",
     "output_type": "stream",
     "text": [
      "extracting tarball to tmp_2212.00055... done.\n",
      "Retrieving document from  https://arxiv.org/e-print/2212.00097\n"
     ]
    },
    {
     "name": "stdout",
     "output_type": "stream",
     "text": [
      "extracting tarball to tmp_2212.00097..."
     ]
    },
    {
     "name": "stdout",
     "output_type": "stream",
     "text": [
      " done.\n",
      "Retrieving document from  https://arxiv.org/e-print/2212.00113\n"
     ]
    },
    {
     "name": "stderr",
     "output_type": "stream",
     "text": [
      "/opt/hostedtoolcache/Python/3.9.15/x64/lib/python3.9/site-packages/IPython/core/interactiveshell.py:3433: LatexWarning: Multiple tex files.\n",
      "\n",
      "  exec(code_obj, self.user_global_ns, self.user_ns)\n",
      "/opt/hostedtoolcache/Python/3.9.15/x64/lib/python3.9/site-packages/IPython/core/interactiveshell.py:3433: LatexWarning: Found documentclass in tmp_2212.00097/ms_astroph.tex\n",
      "\n",
      "  exec(code_obj, self.user_global_ns, self.user_ns)\n",
      "/opt/hostedtoolcache/Python/3.9.15/x64/lib/python3.9/site-packages/arxiv_on_deck_2/latex.py:292: LatexWarning: Latex injecting: 'tab_criteria' from 'tmp_2212.00097/tab_criteria.tex'\n",
      "  warnings.warn(LatexWarning(f\"Latex injecting: '{ext}' from '{subsource}'\"))\n",
      "/opt/hostedtoolcache/Python/3.9.15/x64/lib/python3.9/site-packages/arxiv_on_deck_2/latex.py:292: LatexWarning: Latex injecting: 'tab_snr_summary' from 'tmp_2212.00097/tab_snr_summary.tex'\n",
      "  warnings.warn(LatexWarning(f\"Latex injecting: '{ext}' from '{subsource}'\"))\n",
      "/opt/hostedtoolcache/Python/3.9.15/x64/lib/python3.9/site-packages/arxiv_on_deck_2/latex.py:292: LatexWarning: Latex injecting: 'tab_h2_spectra' from 'tmp_2212.00097/tab_h2_spectra.tex'\n",
      "  warnings.warn(LatexWarning(f\"Latex injecting: '{ext}' from '{subsource}'\"))\n",
      "/opt/hostedtoolcache/Python/3.9.15/x64/lib/python3.9/site-packages/arxiv_on_deck_2/latex.py:292: LatexWarning: Latex injecting: 'tab_snr_spectra' from 'tmp_2212.00097/tab_snr_spectra.tex'\n",
      "  warnings.warn(LatexWarning(f\"Latex injecting: '{ext}' from '{subsource}'\"))\n",
      "/opt/hostedtoolcache/Python/3.9.15/x64/lib/python3.9/site-packages/arxiv_on_deck_2/latex.py:292: LatexWarning: Latex injecting: 'tab_h2_master' from 'tmp_2212.00097/tab_h2_master.tex'\n",
      "  warnings.warn(LatexWarning(f\"Latex injecting: '{ext}' from '{subsource}'\"))\n",
      "/opt/hostedtoolcache/Python/3.9.15/x64/lib/python3.9/site-packages/arxiv_on_deck_2/latex.py:292: LatexWarning: Latex injecting: 'table1_journal' from 'tmp_2212.00097/table1_journal.tex'\n",
      "  warnings.warn(LatexWarning(f\"Latex injecting: '{ext}' from '{subsource}'\"))\n"
     ]
    },
    {
     "name": "stdout",
     "output_type": "stream",
     "text": [
      "extracting tarball to tmp_2212.00113..."
     ]
    },
    {
     "name": "stdout",
     "output_type": "stream",
     "text": [
      " done.\n",
      "Retrieving document from  https://arxiv.org/e-print/2212.00130\n"
     ]
    },
    {
     "name": "stdout",
     "output_type": "stream",
     "text": [
      "extracting tarball to tmp_2212.00130..."
     ]
    },
    {
     "name": "stdout",
     "output_type": "stream",
     "text": [
      " done.\n"
     ]
    },
    {
     "name": "stderr",
     "output_type": "stream",
     "text": [
      "/opt/hostedtoolcache/Python/3.9.15/x64/lib/python3.9/site-packages/IPython/core/interactiveshell.py:3433: LatexWarning: Multiple tex files.\n",
      "\n",
      "  exec(code_obj, self.user_global_ns, self.user_ns)\n",
      "/opt/hostedtoolcache/Python/3.9.15/x64/lib/python3.9/site-packages/IPython/core/interactiveshell.py:3433: LatexWarning: Found documentclass in tmp_2212.00130/main.tex\n",
      "\n",
      "  exec(code_obj, self.user_global_ns, self.user_ns)\n",
      "/opt/hostedtoolcache/Python/3.9.15/x64/lib/python3.9/site-packages/arxiv_on_deck_2/latex.py:292: LatexWarning: Latex injecting: 'sections/06_acknowledge' from 'tmp_2212.00130/sections/06_acknowledge.tex'\n",
      "  warnings.warn(LatexWarning(f\"Latex injecting: '{ext}' from '{subsource}'\"))\n",
      "/opt/hostedtoolcache/Python/3.9.15/x64/lib/python3.9/site-packages/arxiv_on_deck_2/latex.py:292: LatexWarning: Latex injecting: 'sections/05_conclusions.tex' from 'tmp_2212.00130/sections/05_conclusions.tex'\n",
      "  warnings.warn(LatexWarning(f\"Latex injecting: '{ext}' from '{subsource}'\"))\n",
      "/opt/hostedtoolcache/Python/3.9.15/x64/lib/python3.9/site-packages/arxiv_on_deck_2/latex.py:292: LatexWarning: Latex injecting: 'sections/04_results.tex' from 'tmp_2212.00130/sections/04_results.tex'\n",
      "  warnings.warn(LatexWarning(f\"Latex injecting: '{ext}' from '{subsource}'\"))\n",
      "/opt/hostedtoolcache/Python/3.9.15/x64/lib/python3.9/site-packages/arxiv_on_deck_2/latex.py:292: LatexWarning: Latex injecting: 'sections/03_analysis.tex' from 'tmp_2212.00130/sections/03_analysis.tex'\n",
      "  warnings.warn(LatexWarning(f\"Latex injecting: '{ext}' from '{subsource}'\"))\n",
      "/opt/hostedtoolcache/Python/3.9.15/x64/lib/python3.9/site-packages/arxiv_on_deck_2/latex.py:292: LatexWarning: Latex injecting: 'sections/02_sample_data.tex' from 'tmp_2212.00130/sections/02_sample_data.tex'\n",
      "  warnings.warn(LatexWarning(f\"Latex injecting: '{ext}' from '{subsource}'\"))\n",
      "/opt/hostedtoolcache/Python/3.9.15/x64/lib/python3.9/site-packages/arxiv_on_deck_2/latex.py:292: LatexWarning: Latex injecting: 'sections/01_introduction.tex' from 'tmp_2212.00130/sections/01_introduction.tex'\n",
      "  warnings.warn(LatexWarning(f\"Latex injecting: '{ext}' from '{subsource}'\"))\n",
      "/opt/hostedtoolcache/Python/3.9.15/x64/lib/python3.9/site-packages/arxiv_on_deck_2/latex.py:292: LatexWarning: Latex injecting: 'sections/00_abstract' from 'tmp_2212.00130/sections/00_abstract.tex'\n",
      "  warnings.warn(LatexWarning(f\"Latex injecting: '{ext}' from '{subsource}'\"))\n",
      "/opt/hostedtoolcache/Python/3.9.15/x64/lib/python3.9/site-packages/arxiv_on_deck_2/latex.py:292: LatexWarning: Latex injecting: 'authors' from 'tmp_2212.00130/authors.tex'\n",
      "  warnings.warn(LatexWarning(f\"Latex injecting: '{ext}' from '{subsource}'\"))\n"
     ]
    },
    {
     "name": "stderr",
     "output_type": "stream",
     "text": [
      "/opt/hostedtoolcache/Python/3.9.15/x64/lib/python3.9/site-packages/arxiv_on_deck_2/latex.py:118: LatexWarning: attempting recovering figure figures/seds.pdf\n",
      "  warnings.warn(LatexWarning(f'attempting recovering figure {image}'))\n",
      "/tmp/ipykernel_2015/4030337529.py:34: LatexWarning: 2212.00130 did not run properly\n",
      "Could not find figure figures/seds.pdf\n",
      "  warnings.warn(latex.LatexWarning(f\"{paper_id:s} did not run properly\\n\" +\n"
     ]
    },
    {
     "name": "stdout",
     "output_type": "stream",
     "text": [
      "Retrieving document from  https://arxiv.org/e-print/2212.00152\n"
     ]
    },
    {
     "name": "stdout",
     "output_type": "stream",
     "text": [
      "extracting tarball to tmp_2212.00152..."
     ]
    },
    {
     "name": "stdout",
     "output_type": "stream",
     "text": [
      " done.\n",
      "Retrieving document from  https://arxiv.org/e-print/2212.00177\n"
     ]
    },
    {
     "name": "stderr",
     "output_type": "stream",
     "text": [
      "/opt/hostedtoolcache/Python/3.9.15/x64/lib/python3.9/site-packages/IPython/core/interactiveshell.py:3433: LatexWarning: Multiple tex files.\n",
      "\n",
      "  exec(code_obj, self.user_global_ns, self.user_ns)\n",
      "/opt/hostedtoolcache/Python/3.9.15/x64/lib/python3.9/site-packages/IPython/core/interactiveshell.py:3433: LatexWarning: Found documentclass in tmp_2212.00152/ms.tex\n",
      "\n",
      "  exec(code_obj, self.user_global_ns, self.user_ns)\n",
      "/opt/hostedtoolcache/Python/3.9.15/x64/lib/python3.9/site-packages/arxiv_on_deck_2/latex.py:292: LatexWarning: Latex injecting: 'macros' from 'tmp_2212.00152/macros.tex'\n",
      "  warnings.warn(LatexWarning(f\"Latex injecting: '{ext}' from '{subsource}'\"))\n"
     ]
    },
    {
     "name": "stdout",
     "output_type": "stream",
     "text": [
      "extracting tarball to tmp_2212.00177..."
     ]
    },
    {
     "name": "stdout",
     "output_type": "stream",
     "text": [
      " done.\n",
      "Retrieving document from  https://arxiv.org/e-print/2212.00179\n"
     ]
    },
    {
     "name": "stderr",
     "output_type": "stream",
     "text": [
      "/opt/hostedtoolcache/Python/3.9.15/x64/lib/python3.9/site-packages/IPython/core/interactiveshell.py:3433: LatexWarning: Multiple tex files.\n",
      "\n",
      "  exec(code_obj, self.user_global_ns, self.user_ns)\n",
      "/opt/hostedtoolcache/Python/3.9.15/x64/lib/python3.9/site-packages/IPython/core/interactiveshell.py:3433: LatexWarning: Found documentclass in tmp_2212.00177/natbib.tex\n",
      "\n",
      "  exec(code_obj, self.user_global_ns, self.user_ns)\n"
     ]
    },
    {
     "name": "stdout",
     "output_type": "stream",
     "text": [
      "extracting tarball to tmp_2212.00179... done.\n",
      "Retrieving document from  https://arxiv.org/e-print/2212.00180\n"
     ]
    },
    {
     "name": "stdout",
     "output_type": "stream",
     "text": [
      "extracting tarball to tmp_2212.00180..."
     ]
    },
    {
     "name": "stdout",
     "output_type": "stream",
     "text": [
      " done.\n",
      "Retrieving document from  https://arxiv.org/e-print/2212.00200\n"
     ]
    },
    {
     "name": "stderr",
     "output_type": "stream",
     "text": [
      "/opt/hostedtoolcache/Python/3.9.15/x64/lib/python3.9/site-packages/IPython/core/interactiveshell.py:3433: LatexWarning: Multiple tex files.\n",
      "\n",
      "  exec(code_obj, self.user_global_ns, self.user_ns)\n",
      "/opt/hostedtoolcache/Python/3.9.15/x64/lib/python3.9/site-packages/IPython/core/interactiveshell.py:3433: LatexWarning: Found documentclass in tmp_2212.00180/main.tex\n",
      "\n",
      "  exec(code_obj, self.user_global_ns, self.user_ns)\n",
      "/opt/hostedtoolcache/Python/3.9.15/x64/lib/python3.9/site-packages/arxiv_on_deck_2/latex.py:292: LatexWarning: Latex injecting: 'sfr_stats' from 'tmp_2212.00180/sfr_stats.tex'\n",
      "  warnings.warn(LatexWarning(f\"Latex injecting: '{ext}' from '{subsource}'\"))\n",
      "/opt/hostedtoolcache/Python/3.9.15/x64/lib/python3.9/site-packages/arxiv_on_deck_2/latex.py:292: LatexWarning: Latex injecting: 'co_stats' from 'tmp_2212.00180/co_stats.tex'\n",
      "  warnings.warn(LatexWarning(f\"Latex injecting: '{ext}' from '{subsource}'\"))\n",
      "/opt/hostedtoolcache/Python/3.9.15/x64/lib/python3.9/site-packages/arxiv_on_deck_2/latex.py:292: LatexWarning: Latex injecting: 'fit_init' from 'tmp_2212.00180/fit_init.tex'\n",
      "  warnings.warn(LatexWarning(f\"Latex injecting: '{ext}' from '{subsource}'\"))\n",
      "/opt/hostedtoolcache/Python/3.9.15/x64/lib/python3.9/site-packages/arxiv_on_deck_2/latex.py:292: LatexWarning: Latex injecting: 'galaxy_info' from 'tmp_2212.00180/galaxy_info.tex'\n",
      "  warnings.warn(LatexWarning(f\"Latex injecting: '{ext}' from '{subsource}'\"))\n"
     ]
    },
    {
     "name": "stdout",
     "output_type": "stream",
     "text": [
      "extracting tarball to tmp_2212.00200..."
     ]
    },
    {
     "name": "stdout",
     "output_type": "stream",
     "text": [
      " done.\n",
      "Retrieving document from  https://arxiv.org/e-print/2212.00201\n"
     ]
    },
    {
     "name": "stdout",
     "output_type": "stream",
     "text": [
      "extracting tarball to tmp_2212.00201..."
     ]
    },
    {
     "name": "stdout",
     "output_type": "stream",
     "text": [
      " done.\n",
      "Retrieving document from  https://arxiv.org/e-print/2212.00215\n"
     ]
    },
    {
     "name": "stdout",
     "output_type": "stream",
     "text": [
      "extracting tarball to tmp_2212.00215..."
     ]
    },
    {
     "name": "stdout",
     "output_type": "stream",
     "text": [
      " done.\n",
      "Retrieving document from  https://arxiv.org/e-print/2212.00269\n"
     ]
    },
    {
     "name": "stdout",
     "output_type": "stream",
     "text": [
      "extracting tarball to tmp_2212.00269..."
     ]
    },
    {
     "name": "stdout",
     "output_type": "stream",
     "text": [
      " done.\n",
      "Retrieving document from  https://arxiv.org/e-print/2212.00283\n"
     ]
    },
    {
     "name": "stdout",
     "output_type": "stream",
     "text": [
      "extracting tarball to tmp_2212.00283..."
     ]
    },
    {
     "name": "stdout",
     "output_type": "stream",
     "text": [
      " done.\n",
      "Retrieving document from  https://arxiv.org/e-print/2212.00286\n"
     ]
    },
    {
     "name": "stdout",
     "output_type": "stream",
     "text": [
      "extracting tarball to tmp_2212.00286..."
     ]
    },
    {
     "name": "stdout",
     "output_type": "stream",
     "text": [
      " done.\n",
      "Retrieving document from  https://arxiv.org/e-print/2212.00434\n"
     ]
    },
    {
     "name": "stdout",
     "output_type": "stream",
     "text": [
      "extracting tarball to tmp_2212.00434..."
     ]
    },
    {
     "name": "stdout",
     "output_type": "stream",
     "text": [
      " done.\n",
      "Retrieving document from  https://arxiv.org/e-print/2212.00462\n"
     ]
    },
    {
     "name": "stdout",
     "output_type": "stream",
     "text": [
      "extracting tarball to tmp_2212.00462... done.\n",
      "Retrieving document from  https://arxiv.org/e-print/2212.00463\n"
     ]
    },
    {
     "name": "stdout",
     "output_type": "stream",
     "text": [
      "extracting tarball to tmp_2212.00463..."
     ]
    },
    {
     "name": "stdout",
     "output_type": "stream",
     "text": [
      " done.\n",
      "Retrieving document from  https://arxiv.org/e-print/2212.00531\n"
     ]
    },
    {
     "name": "stdout",
     "output_type": "stream",
     "text": [
      "extracting tarball to tmp_2212.00531... done.\n",
      "Retrieving document from  https://arxiv.org/e-print/2212.00662\n"
     ]
    },
    {
     "name": "stdout",
     "output_type": "stream",
     "text": [
      "extracting tarball to tmp_2212.00662... done.\n",
      "Retrieving document from  https://arxiv.org/e-print/2212.00665\n"
     ]
    },
    {
     "name": "stdout",
     "output_type": "stream",
     "text": [
      "extracting tarball to tmp_2212.00665..."
     ]
    },
    {
     "name": "stdout",
     "output_type": "stream",
     "text": [
      " done.\n",
      "Retrieving document from  https://arxiv.org/e-print/2212.00762\n"
     ]
    },
    {
     "name": "stderr",
     "output_type": "stream",
     "text": [
      "/opt/hostedtoolcache/Python/3.9.15/x64/lib/python3.9/site-packages/IPython/core/interactiveshell.py:3433: LatexWarning: Multiple tex files.\n",
      "\n",
      "  exec(code_obj, self.user_global_ns, self.user_ns)\n",
      "/opt/hostedtoolcache/Python/3.9.15/x64/lib/python3.9/site-packages/IPython/core/interactiveshell.py:3433: LatexWarning: Found documentclass in tmp_2212.00665/main.tex\n",
      "\n",
      "  exec(code_obj, self.user_global_ns, self.user_ns)\n",
      "/opt/hostedtoolcache/Python/3.9.15/x64/lib/python3.9/site-packages/arxiv_on_deck_2/latex.py:292: LatexWarning: Latex injecting: 'Sections/conclusion' from 'tmp_2212.00665/Sections/conclusion.tex'\n",
      "  warnings.warn(LatexWarning(f\"Latex injecting: '{ext}' from '{subsource}'\"))\n",
      "/opt/hostedtoolcache/Python/3.9.15/x64/lib/python3.9/site-packages/arxiv_on_deck_2/latex.py:292: LatexWarning: Latex injecting: 'Sections/analysis' from 'tmp_2212.00665/Sections/analysis.tex'\n",
      "  warnings.warn(LatexWarning(f\"Latex injecting: '{ext}' from '{subsource}'\"))\n",
      "/opt/hostedtoolcache/Python/3.9.15/x64/lib/python3.9/site-packages/arxiv_on_deck_2/latex.py:292: LatexWarning: Latex injecting: 'Sections/coord-data' from 'tmp_2212.00665/Sections/coord-data.tex'\n",
      "  warnings.warn(LatexWarning(f\"Latex injecting: '{ext}' from '{subsource}'\"))\n",
      "/opt/hostedtoolcache/Python/3.9.15/x64/lib/python3.9/site-packages/arxiv_on_deck_2/latex.py:292: LatexWarning: Latex injecting: 'Sections/magixs-data' from 'tmp_2212.00665/Sections/magixs-data.tex'\n",
      "  warnings.warn(LatexWarning(f\"Latex injecting: '{ext}' from '{subsource}'\"))\n",
      "/opt/hostedtoolcache/Python/3.9.15/x64/lib/python3.9/site-packages/arxiv_on_deck_2/latex.py:292: LatexWarning: Latex injecting: 'Sections/flight-overview' from 'tmp_2212.00665/Sections/flight-overview.tex'\n",
      "  warnings.warn(LatexWarning(f\"Latex injecting: '{ext}' from '{subsource}'\"))\n",
      "/opt/hostedtoolcache/Python/3.9.15/x64/lib/python3.9/site-packages/arxiv_on_deck_2/latex.py:292: LatexWarning: Latex injecting: 'Sections/instrument-overview' from 'tmp_2212.00665/Sections/instrument-overview.tex'\n",
      "  warnings.warn(LatexWarning(f\"Latex injecting: '{ext}' from '{subsource}'\"))\n",
      "/opt/hostedtoolcache/Python/3.9.15/x64/lib/python3.9/site-packages/arxiv_on_deck_2/latex.py:292: LatexWarning: Latex injecting: 'Sections/introduction' from 'tmp_2212.00665/Sections/introduction.tex'\n",
      "  warnings.warn(LatexWarning(f\"Latex injecting: '{ext}' from '{subsource}'\"))\n",
      "/opt/hostedtoolcache/Python/3.9.15/x64/lib/python3.9/site-packages/arxiv_on_deck_2/latex.py:292: LatexWarning: Latex injecting: 'Sections/abstract' from 'tmp_2212.00665/Sections/abstract.tex'\n",
      "  warnings.warn(LatexWarning(f\"Latex injecting: '{ext}' from '{subsource}'\"))\n",
      "/opt/hostedtoolcache/Python/3.9.15/x64/lib/python3.9/site-packages/arxiv_on_deck_2/latex.py:292: LatexWarning: Latex injecting: 'author-list' from 'tmp_2212.00665/author-list.tex'\n",
      "  warnings.warn(LatexWarning(f\"Latex injecting: '{ext}' from '{subsource}'\"))\n"
     ]
    },
    {
     "name": "stdout",
     "output_type": "stream",
     "text": [
      "extracting tarball to tmp_2212.00762..."
     ]
    },
    {
     "name": "stdout",
     "output_type": "stream",
     "text": [
      " done.\n",
      "Retrieving document from  https://arxiv.org/e-print/2212.00765\n"
     ]
    },
    {
     "name": "stdout",
     "output_type": "stream",
     "text": [
      "extracting tarball to tmp_2212.00765..."
     ]
    },
    {
     "name": "stdout",
     "output_type": "stream",
     "text": [
      " done.\n",
      "Retrieving document from  https://arxiv.org/e-print/2212.00766\n"
     ]
    },
    {
     "name": "stderr",
     "output_type": "stream",
     "text": [
      "/opt/hostedtoolcache/Python/3.9.15/x64/lib/python3.9/site-packages/IPython/core/interactiveshell.py:3433: LatexWarning: Multiple tex files.\n",
      "\n",
      "  exec(code_obj, self.user_global_ns, self.user_ns)\n",
      "/opt/hostedtoolcache/Python/3.9.15/x64/lib/python3.9/site-packages/IPython/core/interactiveshell.py:3433: LatexWarning: Found documentclass in tmp_2212.00765/main.tex\n",
      "\n",
      "  exec(code_obj, self.user_global_ns, self.user_ns)\n"
     ]
    },
    {
     "name": "stdout",
     "output_type": "stream",
     "text": [
      "extracting tarball to tmp_2212.00766..."
     ]
    },
    {
     "name": "stdout",
     "output_type": "stream",
     "text": [
      " done.\n",
      "Retrieving document from  https://arxiv.org/e-print/2212.00775\n"
     ]
    },
    {
     "name": "stderr",
     "output_type": "stream",
     "text": [
      "/opt/hostedtoolcache/Python/3.9.15/x64/lib/python3.9/site-packages/IPython/core/interactiveshell.py:3433: LatexWarning: Multiple tex files.\n",
      "\n",
      "  exec(code_obj, self.user_global_ns, self.user_ns)\n",
      "/opt/hostedtoolcache/Python/3.9.15/x64/lib/python3.9/site-packages/IPython/core/interactiveshell.py:3433: LatexWarning: Found documentclass in tmp_2212.00766/main.tex\n",
      "\n",
      "  exec(code_obj, self.user_global_ns, self.user_ns)\n"
     ]
    },
    {
     "name": "stdout",
     "output_type": "stream",
     "text": [
      "extracting tarball to tmp_2212.00775..."
     ]
    },
    {
     "name": "stdout",
     "output_type": "stream",
     "text": [
      " done.\n",
      "Retrieving document from  https://arxiv.org/e-print/2212.00777\n"
     ]
    },
    {
     "name": "stdout",
     "output_type": "stream",
     "text": [
      "extracting tarball to tmp_2212.00777... done.\n"
     ]
    }
   ],
   "source": [
    "documents = []\n",
    "failed = []\n",
    "for paper in tqdm(candidates[:-1]):\n",
    "    paper_id = paper['identifier'].lower().replace('arxiv:', '')\n",
    "    \n",
    "    folder = f'tmp_{paper_id}'\n",
    "\n",
    "    try:\n",
    "        if not os.path.isdir(folder):\n",
    "            folder = retrieve_document_source(f\"{paper_id}\", f'tmp_{paper_id}')\n",
    "        \n",
    "        try:\n",
    "            doc = latex.LatexDocument(folder, validation=validation)    \n",
    "        except AffiliationError as affilerror:\n",
    "            msg = f\"ArXiv:{paper_id:s} is not an MPIA paper... \" + str(affilerror)\n",
    "            failed.append((paper, \"affiliation error: \" + str(affilerror) ))\n",
    "            continue\n",
    "        \n",
    "        # Hack because sometimes author parsing does not work well\n",
    "        if (len(doc.authors) != len(paper['authors'])):\n",
    "            doc._authors = paper['authors']\n",
    "        if (doc.abstract) in (None, ''):\n",
    "            doc._abstract = paper['abstract']\n",
    "            \n",
    "        doc.comment = (get_markdown_badge(paper_id) + \n",
    "                       \"<mark>Appeared on: \" + paper['date'] + \"</mark> - \" +\n",
    "                       \"_\" + paper['comments'] + \"_\")\n",
    "        doc.highlight_authors_in_list(hl_list)\n",
    "\n",
    "        full_md = doc.generate_markdown_text()\n",
    "        \n",
    "        documents.append((paper_id, full_md))\n",
    "    except Exception as e:\n",
    "        warnings.warn(latex.LatexWarning(f\"{paper_id:s} did not run properly\\n\" +\n",
    "                                         str(e)\n",
    "                                        ))\n",
    "        failed.append((paper, \"latex error \" + str(e)))"
   ]
  },
  {
   "cell_type": "markdown",
   "id": "2505a25c",
   "metadata": {
    "papermill": {
     "duration": 0.007666,
     "end_time": "2022-12-02T04:09:19.161879",
     "exception": false,
     "start_time": "2022-12-02T04:09:19.154213",
     "status": "completed"
    },
    "tags": []
   },
   "source": [
    "### Export the logs\n",
    "\n",
    "Throughout, we also keep track of the logs per paper. see `logs-{today date}.md` "
   ]
  },
  {
   "cell_type": "code",
   "execution_count": 6,
   "id": "d733828a",
   "metadata": {
    "execution": {
     "iopub.execute_input": "2022-12-02T04:09:19.178654Z",
     "iopub.status.busy": "2022-12-02T04:09:19.178133Z",
     "iopub.status.idle": "2022-12-02T04:09:19.219103Z",
     "shell.execute_reply": "2022-12-02T04:09:19.218594Z"
    },
    "papermill": {
     "duration": 0.051062,
     "end_time": "2022-12-02T04:09:19.220508",
     "exception": false,
     "start_time": "2022-12-02T04:09:19.169446",
     "status": "completed"
    },
    "scrolled": false,
    "tags": []
   },
   "outputs": [
    {
     "data": {
      "text/markdown": [
       "## Successful papers"
      ],
      "text/plain": [
       "<IPython.core.display.Markdown object>"
      ]
     },
     "metadata": {},
     "output_type": "display_data"
    },
    {
     "data": {
      "text/markdown": [
       "\n",
       "|||\n",
       "|---:|:---|\n",
       "| [![arXiv](https://img.shields.io/badge/arXiv-arXiv:2212.00032-b31b1b.svg)](https://arxiv.org/abs/arXiv:2212.00032) | **PHANGS-JWST First Results: Spurring on Star Formation: JWST Reveals  Localised Star Formation in a Spiral Arm Spur of NGC 628**  |\n",
       "|| Thomas G. Williams, et al. -- incl., <mark>Eva Schinnerer</mark>, <mark>Jonathan D. Henshaw</mark>, <mark>Frank Bigiel</mark>, <mark>Kathryn Kreckel</mark>, <mark>Daizhong Liu</mark>, <mark>Francesca Pinna</mark>, <mark>Rowan Smith</mark>, <mark>Sophia Stuber</mark> |\n",
       "|*Appeared on*| *2022-12-02*|\n",
       "|*Comments*| *11 pages, 5 Figures, accepted as part of a PHANGS-JWST Focus Issue to appear in ApJ*|\n",
       "|**Abstract**| We combine JWST observations with ALMA CO and VLT-MUSE H$\\alpha$ data to examine off-spiral arm star formation in the face-on, grand-design spiral galaxy NGC 628. We focus on the northern spiral arm, around a galactocentric radius of 3-4 kpc, and study two spurs. These form an interesting contrast, as one is CO-rich and one CO-poor, and they have a maximum azimuthal offset in MIRI 21$\\mu$m and MUSE H$\\alpha$ of around 40$^\\circ$ (CO-rich) and 55$^\\circ$ (CO-poor) from the spiral arm. The star formation rate is higher in the regions of the spurs near to spiral arms, but the star formation efficiency appears relatively constant. Given the spiral pattern speed and rotation curve of this galaxy and assuming material exiting the arms undergoes purely circular motion, these offsets would be reached in 100-150 Myr, significantly longer than the 21$\\mu$m and H$\\alpha$ star formation timescales (both <10 Myr). The invariance of the star formation efficiency in the spurs versus the spiral arms indicates massive star formation is not only triggered in spiral arms, and cannot simply occur in the arms and then drift away from the wave pattern. These early JWST results show that in-situ star formation likely occurs in the spurs, and that the observed young stars are not simply the `leftovers' of stellar birth in the spiral arms. The excellent physical resolution and sensitivity that JWST can attain in nearby galaxies will well resolve individual star-forming regions and help us to better understand the earliest phases of star formation. |"
      ],
      "text/plain": [
       "[arXiv:2212.00032] PHANGS-JWST First Results: Spurring on Star Formation: JWST Reveals  Localised Star Formation in a Spiral Arm Spur of NGC 628\n",
       "\tThomas G. Williams, et al. -- incl., <mark>Eva Schinnerer</mark>, <mark>Jonathan D. Henshaw</mark>, <mark>Frank Bigiel</mark>, <mark>Kathryn Kreckel</mark>, <mark>Daizhong Liu</mark>, <mark>Francesca Pinna</mark>, <mark>Rowan Smith</mark>, <mark>Sophia Stuber</mark>"
      ]
     },
     "metadata": {},
     "output_type": "display_data"
    },
    {
     "data": {
      "text/markdown": [
       "\n",
       "|||\n",
       "|---:|:---|\n",
       "| [![arXiv](https://img.shields.io/badge/arXiv-arXiv:2212.00047-b31b1b.svg)](https://arxiv.org/abs/arXiv:2212.00047) | **A first glimpse at the nuclear stellar disc line-of-sight structure**  |\n",
       "|| <mark>Francisco Nogueras-Lara</mark> |\n",
       "|*Appeared on*| *2022-12-02*|\n",
       "|*Comments*| *Accepted for publication in A&A. 7 pages, 6 figures*|\n",
       "|**Abstract**| The nuclear stellar disc (NSD) is a dense stellar structure at the centre of our Galaxy. Given its proximity, it constitutes a unique laboratory to understand other galactic nuclei. Nevertheless, the high crowding and extinction hamper its study, and even its morphology and kinematics are not yet totally clear. In this work we use NSD red clump stars, whose intrinsic properties are well known, to trace the kinematics of the NSD and to compute the distance and extinction towards the edges of the NSD. We used publicly available proper motion and photometric catalogues of the NSD to distinguish red clump stars by using a colour-magnitude diagram. We then applied a Gaussian mixture model to obtain the proper motion distribution, and computed the extinction and distance towards stars with different kinematics. We obtained that the proper motion distributions contain NSD stars rotating eastwards and westwards, plus some contamination from Galactic bulge/bar stars, in agreement with previous work. We computed the distance and extinction towards the eastward- and westward-moving stars and concluded that the latter are $\\sim300$ pc beyond, indicating a similar structure along and across the line of sight, and consistent with an axisymmetric structure of the NSD. Moreover, we found that the extinction within the NSD is relatively low and accounts for less than 10 % of the total extinction of the stars belonging to the farthest edge of the NSD. |"
      ],
      "text/plain": [
       "[arXiv:2212.00047] A first glimpse at the nuclear stellar disc line-of-sight structure\n",
       "\t<mark>Francisco Nogueras-Lara</mark>"
      ]
     },
     "metadata": {},
     "output_type": "display_data"
    },
    {
     "data": {
      "text/markdown": [
       "## Failed papers"
      ],
      "text/plain": [
       "<IPython.core.display.Markdown object>"
      ]
     },
     "metadata": {},
     "output_type": "display_data"
    },
    {
     "data": {
      "text/markdown": [
       "\n",
       "|||\n",
       "|---:|:---|\n",
       "| [![arXiv](https://img.shields.io/badge/arXiv-arXiv:2212.00051-b31b1b.svg)](https://arxiv.org/abs/arXiv:2212.00051) | **Morphological Parameters and Associated Uncertainties for 8 Million  Galaxies in the Hyper Suprime-Cam Wide Survey**  |\n",
       "|| <mark>Aritra Ghosh</mark>, et al. |\n",
       "|*Appeared on*| *2022-12-02*|\n",
       "|*Comments*| *Submitted to ApJ. Comments welcome. arXiv admin note: text overlap with arXiv:2207.05107*|\n",
       "|**Abstract**| We use the Galaxy Morphology Posterior Estimation Network (GaMPEN) to estimate morphological parameters and associated uncertainties for $\\sim 8$ million galaxies in the Hyper Suprime-Cam (HSC) Wide survey with $z \\leq 0.75$ and $m \\leq 23$. GaMPEN is a machine learning framework that estimates Bayesian posteriors for a galaxy's bulge-to-total light ratio ($L_B/L_T$), effective radius ($R_e$), and flux ($F$). By first training on simulations of galaxies and then applying transfer learning using real data, we trained GaMPEN with $<1\\%$ of our dataset. This two-step process will be critical for applying machine learning algorithms to future large imaging surveys, such as the Rubin-Legacy Survey of Space and Time (LSST), the Nancy Grace Roman Space Telescope (NGRST), and Euclid. By comparing our results to those obtained using light-profile fitting, we demonstrate that GaMPEN's predicted posterior distributions are well-calibrated ($\\lesssim 5\\%$ deviation) and accurate. This represents a significant improvement over light profile fitting algorithms which underestimate uncertainties by as much as $\\sim60\\%$. For an overlapping sub-sample, we also compare the derived morphological parameters with values in two external catalogs and find that the results agree within the limits of uncertainties predicted by GaMPEN. This step also permits us to define an empirical relationship between the S\\'ersic index and $L_B/L_T$ that can be used to convert between these two parameters. The catalog presented here represents a significant improvement in size ($\\sim10 \\times $), depth ($\\sim4$ magnitudes), and uncertainty quantification over previous state-of-the-art bulge+disk decomposition catalogs. With this work, we also release GaMPEN's source code and trained models, which can be adapted to other datasets. |\n",
       "|<p style=\"color:green\"> **ERROR** </p>| <p style=\"color:green\">affiliation error: mpia.affiliation_verifications: '69117' keyword not found.</p> |"
      ],
      "text/plain": [
       "<IPython.core.display.Markdown object>"
      ]
     },
     "metadata": {},
     "output_type": "display_data"
    },
    {
     "data": {
      "text/markdown": [
       "\n",
       "|||\n",
       "|---:|:---|\n",
       "| [![arXiv](https://img.shields.io/badge/arXiv-arXiv:2212.00762-b31b1b.svg)](https://arxiv.org/abs/arXiv:2212.00762) | **AGN Feedback in SDSS-IV MaNGA: AGNs Have Suppressed Central  Star-Formation Rates**  |\n",
       "|| Caleb Lammers, et al. -- incl., <mark>Hector Ibarra-Medel</mark> |\n",
       "|*Appeared on*| *2022-12-02*|\n",
       "|*Comments*| *22 pages, 15 figures. Submitted to ApJ, comments are welcome!*|\n",
       "|**Abstract**| Despite the importance of feedback from active galactic nuclei (AGN) in models of galaxy evolution, observational constraints on the influence of AGN feedback on star formation remain weak. To this end, we have compared the star formation trends of 279 low-redshift AGN galaxies with 558 non-active control galaxies using integral field unit spectroscopy from the SDSS-IV MaNGA survey. With a Gaussian process-based methodology, we reconstruct non-parametric star formation histories in spatially-resolved spaxels covering the face of each galaxy. Based on galaxy-wide star-formation rates (SFRs) alone, we find no obvious signatures of AGN feedback. However, the AGN galaxies have significantly suppressed central (kpc-scale) SFRs, lying up to a factor of $2$ below that of the control galaxies, providing direct observational evidence of AGN feedback suppressing star formation. The suppression of central SFRs in the AGN galaxies began in the central regions $\\sim 6$ Gyr ago (redshift $z \\sim 0.7$), taking place over a few Gyrs. A small subset of the AGN galaxies were rapidly driven to quiescence shortly before being observed (in the last $500$ Myr), potentially indicating instances of AGN-driven feedback. More frequently, however, star formation continues in the AGN galaxies, with suppression primarily in the central regions. This is suggestive of a picture in which integrated (Gyr-timescale) AGN feedback can significantly affect central star formation, but may be inefficient in driving galaxy-wide quenching in low-redshift galaxies, instead leaving them in the green valley. |\n",
       "|<p style=\"color:green\"> **ERROR** </p>| <p style=\"color:green\">affiliation error: mpia.affiliation_verifications: '69117' keyword not found.</p> |"
      ],
      "text/plain": [
       "<IPython.core.display.Markdown object>"
      ]
     },
     "metadata": {},
     "output_type": "display_data"
    },
    {
     "data": {
      "text/markdown": [
       "\n",
       "|||\n",
       "|---:|:---|\n",
       "| [![arXiv](https://img.shields.io/badge/arXiv-arXiv:2212.00029-b31b1b.svg)](https://arxiv.org/abs/arXiv:2212.00029) | **The evolution of circumstellar discs in the Galactic Centre: an  application to the G-clouds**  |\n",
       "|| James E. Owen, <mark>Douglas N. C. Lin</mark> |\n",
       "|*Appeared on*| *2022-12-02*|\n",
       "|*Comments*| *Accepted for publication in MNRAS*|\n",
       "|**Abstract**| The Galactic Centre is known to have undergone a recent star formation episode a few Myrs ago, which likely produced many T Tauri stars hosting circumstellar discs. It has been suggested that these discs may be the compact and dusty ionized sources identified as ``G-clouds''. Given the Galactic Centre's hostile environment, we study the possible evolutionary pathways these discs experience. We compute new external photoevaporation models applicable to discs in the Galactic Centre that account for the sub-sonic launching of the wind and absorption of UV photons by dust. Using evolutionary disc calculations, we find that photoevaporation's rapid truncation of the disc causes them to accrete onto the central star rapidly. Ultimately, an accreting circumstellar disc has a lifetime $\\lesssim1~$Myr, which would fail to live long enough to explain the G-clouds. However, we identify a new evolutionary pathway for circumstellar discs in the Galactic Centre. Removal of disc material by photoevaporation prevents the young star from spinning down due to magnetic braking, ultimately causing the rapidly spinning young star to torque the disc into a ``decretion disc'' state which prevents accretion. At the same time, any planetary companion in the disc will trap dust outside its orbit, shutting down photoevaporation. The disc can survive for up to $\\sim$10 Myr in this state. Encounters with other stars are likely to remove the planet on Myr timescales, causing photoevaporation to restart, giving rise to a G-cloud signature. A giant planet fraction of $\\sim10\\%$ can explain the number of observed G-clouds. |\n",
       "|<p style=\"color:green\"> **ERROR** </p>| <p style=\"color:green\">affiliation error: mpia.affiliation_verifications: 'Heidelberg' keyword not found.</p> |"
      ],
      "text/plain": [
       "<IPython.core.display.Markdown object>"
      ]
     },
     "metadata": {},
     "output_type": "display_data"
    },
    {
     "data": {
      "text/markdown": [
       "\n",
       "|||\n",
       "|---:|:---|\n",
       "| [![arXiv](https://img.shields.io/badge/arXiv-arXiv:2212.00034-b31b1b.svg)](https://arxiv.org/abs/arXiv:2212.00034) | **Direct Imaging and Astrometric Discovery of a Superjovian Planet  Orbiting an Accelerating Star**  |\n",
       "|| Thayne Currie, et al. -- incl., <mark>Ranger Y. Liu</mark>, <mark>Krzysztof Helminiak</mark> |\n",
       "|*Appeared on*| *2022-12-02*|\n",
       "|*Comments*| *Authors' version of original submission to Science on February 18, 2022: 37 pages, 14 figures, 3 tables. Revised version passed independent peer review/was recommended for publication in Science by external referees on July 5, 2022: no changes in conclusions*|\n",
       "|**Abstract**| We detect a superjovian extrasolar planet around the dusty A star HIP 99770 using precision astrometry from the Gaia and Hipparcos satellites and direct imaging using the Subaru Coronagraphic Extreme Adaptive Optics Project. HIP 99770 b is the first exoplanet ever discovered jointly through direct imaging and astrometry and the first discovery leveraging on $\\mu$-arcsecond precision Gaia astrometry. HIP 99770 b is in a low-eccentricity orbit $\\sim$16.9 au from the primary, receiving about as much light as Jupiter does from the Sun. The planet induces an astrometric acceleration on the host star; its directly-measured companion-to-primary mass ratio is similar to that of many radial-velocity detected planets and some of the first imaged exoplanets, including HR 8799 cde. The planet's spectrum reveals an atmosphere resembling a slightly less cloudy and likely older analogue of these first imaging discoveries, enabling a new, critical probe of how gas giant planets evolve with time. HIP 99770 b's discovery is a direct proof-of-concept for a fundamentally new strategy for finding imageable planets: selecting targets based on dynamical evidence from indirect methods like astrometry instead of conducting blind searches. This combined approach prefigures the campaigns that could one day directly detect and characterize an extrasolar Earth-like planet. |\n",
       "|<p style=\"color:green\"> **ERROR** </p>| <p style=\"color:green\">affiliation error: mpia.affiliation_verifications: 'Heidelberg' keyword not found.</p> |"
      ],
      "text/plain": [
       "<IPython.core.display.Markdown object>"
      ]
     },
     "metadata": {},
     "output_type": "display_data"
    },
    {
     "data": {
      "text/markdown": [
       "\n",
       "|||\n",
       "|---:|:---|\n",
       "| [![arXiv](https://img.shields.io/badge/arXiv-arXiv:2212.00044-b31b1b.svg)](https://arxiv.org/abs/arXiv:2212.00044) | **A Framework for Obtaining Accurate Posteriors of Strong Gravitational  Lensing Parameters with Flexible Priors and Implicit Likelihoods using  Density Estimation**  |\n",
       "|| Ronan Legin, <mark>Yashar Hezaveh</mark>, Laurence Perreault-Levasseur, Benjamin Wandelt |\n",
       "|*Appeared on*| *2022-12-02*|\n",
       "|*Comments*| *Accepted for publication in The Astrophysical Journal, 17 pages, 11 figures*|\n",
       "|**Abstract**| We report the application of implicit likelihood inference to the prediction of the macro-parameters of strong lensing systems with neural networks. This allows us to perform deep learning analysis of lensing systems within a well-defined Bayesian statistical framework to explicitly impose desired priors on lensing variables, to obtain accurate posteriors, and to guarantee convergence to the optimal posterior in the limit of perfect performance. We train neural networks to perform a regression task to produce point estimates of lensing parameters. We then interpret these estimates as compressed statistics in our inference setup and model their likelihood function using mixture density networks. We compare our results with those of approximate Bayesian neural networks, discuss their significance, and point to future directions. Based on a test set of 100,000 strong lensing simulations, our amortized model produces accurate posteriors for any arbitrary confidence interval, with a maximum percentage deviation of $1.4\\%$ at $21.8\\%$ confidence level, without the need for any added calibration procedure. In total, inferring 100,000 different posteriors takes a day on a single GPU, showing that the method scales well to the thousands of lenses expected to be discovered by upcoming sky surveys. |\n",
       "|<p style=\"color:green\"> **ERROR** </p>| <p style=\"color:green\">affiliation error: mpia.affiliation_verifications: 'Heidelberg' keyword not found.</p> |"
      ],
      "text/plain": [
       "<IPython.core.display.Markdown object>"
      ]
     },
     "metadata": {},
     "output_type": "display_data"
    },
    {
     "data": {
      "text/markdown": [
       "\n",
       "|||\n",
       "|---:|:---|\n",
       "| [![arXiv](https://img.shields.io/badge/arXiv-arXiv:2212.00055-b31b1b.svg)](https://arxiv.org/abs/arXiv:2212.00055) | **Testing Cosmology with Double Source Lensing**  |\n",
       "|| <mark>Divij Sharma</mark>, Thomas E. Collett, <mark>Eric V. Linder</mark> |\n",
       "|*Appeared on*| *2022-12-02*|\n",
       "|*Comments*| *10 pages, 7 figures*|\n",
       "|**Abstract**| Double source lensing provides a dimensionless ratio of distance ratios, a \"remote viewing\" of cosmology through distances relative to the gravitational lens, beyond the observer. We use this to test the cosmological framework, particularly with respect to spatial curvature and the distance duality relation. We derive a consistency equation for constant spatial curvature, allowing not only the investigation of flat vs curved but of the Friedmann-Lema\\^itre-Robertson-Walker framework itself. For distance duality, we demonstrate that the evolution of the lens mass profile slope must be controlled to $\\gtrsim5$ times tighter fractional precision than a claimed distance duality violation. Using LENSPOP forecasts of double source lensing systems in Euclid and LSST surveys we also explore constraints on dark energy equation of state parameters and any evolution of the lens mass profile slope. |\n",
       "|<p style=\"color:green\"> **ERROR** </p>| <p style=\"color:green\">affiliation error: mpia.affiliation_verifications: 'Heidelberg' keyword not found.</p> |"
      ],
      "text/plain": [
       "<IPython.core.display.Markdown object>"
      ]
     },
     "metadata": {},
     "output_type": "display_data"
    },
    {
     "data": {
      "text/markdown": [
       "\n",
       "|||\n",
       "|---:|:---|\n",
       "| [![arXiv](https://img.shields.io/badge/arXiv-arXiv:2212.00097-b31b1b.svg)](https://arxiv.org/abs/arXiv:2212.00097) | **High-Resolution Spectra of Supernova Remnants in M83**  |\n",
       "|| <mark>P. Frank Winkler</mark>, Knox S. Long, William P. Blair, Sean D. Points |\n",
       "|*Appeared on*| *2022-12-02*|\n",
       "|*Comments*| *39 pages, including 9 figures (some with multiple sub-figures) and 6 tables*|\n",
       "|**Abstract**| In order to better characterize the rich supernova remnant (SNR) population of M83 (NGC 5236), we have obtained high-resolution (about 85 km/s) spectra of 119 of the SNRs and SNR candidates in M83 with Gemini/GMOS, as well as new spectra of the young SNRs B12-174a and SN1957D. Most of the SNRs and SNR candidates have [S II]:H{\\alpha} ratios that exceed 0.4. Combining these results with earlier studies we have carried out with MUSE and at lower spectroscopic resolution with GMOS, we have confirmed a total of 238 emission nebulae to be SNRs on the basis of their [S II]:H{\\alpha} ratios, about half of which have emission lines that show velocity broadening greater than 100 km/s, providing a kinematic confirmation that they are SNRs and not H II regions. Looking at the entire sample, we find a strong correlation between velocity widths and the line ratios of [O I]{\\lambda}6300:H{\\alpha}, [N II]{\\lambda}6584:H{\\alpha} and [S II]{\\lambda}{\\lambda}6716,6731:H{\\alpha}. The density-sensitive [S II]{\\lambda}6716:{\\lambda}6731 line ratio is strongly correlated with SNR diameter, but not with the velocity width. We discuss these results in the context of previously published shock models. |\n",
       "|<p style=\"color:green\"> **ERROR** </p>| <p style=\"color:green\">affiliation error: mpia.affiliation_verifications: 'Heidelberg' keyword not found.</p> |"
      ],
      "text/plain": [
       "<IPython.core.display.Markdown object>"
      ]
     },
     "metadata": {},
     "output_type": "display_data"
    },
    {
     "data": {
      "text/markdown": [
       "\n",
       "|||\n",
       "|---:|:---|\n",
       "| [![arXiv](https://img.shields.io/badge/arXiv-arXiv:2212.00113-b31b1b.svg)](https://arxiv.org/abs/arXiv:2212.00113) | **Repeating periodic eruptions of the supernova impostor SN 2000ch**  |\n",
       "|| Mojgan Aghakhanloo, et al. -- incl., <mark>Nathan Smith</mark> |\n",
       "|*Appeared on*| *2022-12-02*|\n",
       "|*Comments*| *16 pages, 12 figures, 3 tables, submitted to MNRAS on November 22, 2022*|\n",
       "|**Abstract**| We analyse photometric observations of the supernova (SN) impostor SN 2000ch in NGC 3432 covering the time since its discovery. This source was previously observed to have four outbursts in 2000--2010. Observations now reveal at least two additional outbursts in 2004-2006, and ten outbursts in 2013-2022. Outburst light curves are irregular and multipeaked, exhibiting a wide variety of peak magnitude, duration, and shape. The more recent outbursts (after 2010) repeat with a period of $198.4\\pm{2}$ d, while the pre-2010 period seems to be a few days shorter. The next outburst should occur around January 2023. We propose that these periodic eruptions arise from violent interaction around times of periastron in an eccentric binary system, similar to the periastron encounters of $\\eta$ Carinae leading up to its Great Eruption, and resembling the erratic pre-SN eruptions of SN 2009ip. We attribute the irregularity of the eruptions to the interplay between the orbit and the variability of the luminous blue variable (LBV) primary star, wherein each successive periastron pass may have a different intensity or duration due to the changing radius and mass-loss rate of the LBV-like primary. Such outbursts may occasionally be weak or undetectable if the LBV is relatively quiescent at periastron, but can be much more extreme when the LBV is active. The observed change in orbital period may be a consequence of mass lost in outbursts. Given the similarity to the progenitor of SN 2009ip, SN 2000ch deserves continued attention in the event it is headed for a stellar merger or a SN-like explosion. |\n",
       "|<p style=\"color:green\"> **ERROR** </p>| <p style=\"color:green\">affiliation error: mpia.affiliation_verifications: 'Heidelberg' keyword not found.</p> |"
      ],
      "text/plain": [
       "<IPython.core.display.Markdown object>"
      ]
     },
     "metadata": {},
     "output_type": "display_data"
    },
    {
     "data": {
      "text/markdown": [
       "\n",
       "|||\n",
       "|---:|:---|\n",
       "| [![arXiv](https://img.shields.io/badge/arXiv-arXiv:2212.00152-b31b1b.svg)](https://arxiv.org/abs/arXiv:2212.00152) | **Cold Mode Gas Accretion on Two Galaxy Groups at z$\\sim$2**  |\n",
       "|| Andrey Vayner, et al. -- incl., <mark>Lee Armus</mark> |\n",
       "|*Appeared on*| *2022-12-02*|\n",
       "|*Comments*| *24 pages, 11 figures, 6 tabes. Accepted for publication in MNRAS*|\n",
       "|**Abstract**| We present Keck Cosmic Web Imager (KCWI) integral field spectroscopy (IFS) observations of rest-frame UV emission lines $\\rm Ly\\alpha$, C IV $\\lambda \\lambda$ 1548 \\AA, 1550\\AA and He II 1640 \\AA observed in the circumgalactic medium (CGM) of two $z=2$ radio-loud quasar host galaxies. We detect extended emission on 80-90 kpc scale in $\\rm Ly\\alpha$ in both systems with C IV, and He II emission also detected out to 30-50 kpc. All emission lines show kinematics with a blue and redshifted gradient pattern consistent with velocities seen in massive dark matter halos and similar to kinematic patterns of inflowing gas seen in hydrodynamical simulations. Using the kinematics of both resolved $\\rm Ly\\alpha$ emission and absorption, we can confirm that both kinematic structures are associated with accretion. Combining the KCWI data with molecular gas observations with Atacama Large Millimeter/submillimeter Array (ALMA) and high spatial resolution of ionized gas with Keck OSIRIS, we find that both quasar host galaxies reside in proto-group environments at $z=2$. We estimate $1-6\\times10^{10}$M$_\\odot$ of warm-ionized gas within 30-50 kpc from the quasar that is likely accreting onto the galaxy group. We estimate inflow rates of 60-200 M$_\\odot$yr$^{-1}$, within an order of magnitude of the outflow rates in these systems. In the 4C 09.17 system, we detect narrow gas streams associated with satellite galaxies, potentially reminiscent of ram-pressure stripping seen in local galaxy groups and clusters. We find that the quasar host galaxies reside in dynamically complex environments, with ongoing mergers, gas accretion, ISM stripping, and outflows likely playing an important role in shaping the assembly and evolution of massive galaxies at cosmic noon. |\n",
       "|<p style=\"color:green\"> **ERROR** </p>| <p style=\"color:green\">affiliation error: mpia.affiliation_verifications: 'Heidelberg' keyword not found.</p> |"
      ],
      "text/plain": [
       "<IPython.core.display.Markdown object>"
      ]
     },
     "metadata": {},
     "output_type": "display_data"
    },
    {
     "data": {
      "text/markdown": [
       "\n",
       "|||\n",
       "|---:|:---|\n",
       "| [![arXiv](https://img.shields.io/badge/arXiv-arXiv:2212.00177-b31b1b.svg)](https://arxiv.org/abs/arXiv:2212.00177) | **Supernova 2020wnt: An Atypical Superluminous Supernova with a Hidden  Central Engine**  |\n",
       "|| Samaporn Tinyanont, et al. -- incl., <mark>Lin Yan</mark>, <mark>Carli Smith</mark> |\n",
       "|*Appeared on*| *2022-12-02*|\n",
       "|*Comments*| *Submitted to ApJ*|\n",
       "|**Abstract**| We present observations of a peculiar hydrogen- and helium-poor stripped-envelope (SE) supernova (SN) 2020wnt, primarily in the optical and near-infrared (near-IR). Its peak absolute bolometric magnitude of -20.9 mag and a rise time of 69~days are reminiscent of hydrogen-poor superluminous SNe (SLSNe~I), luminous transients potentially powered by spinning-down magnetars. Before the main peak, there is a brief peak lasting <10 days post-explosion, likely caused by interaction with circumstellar medium (CSM) ejected ~years before the SN explosion. The optical spectra near peak lack a hot continuum and OII absorptions, which are signs of heating from a central engine; they quantitatively resemble those of radioactivity-powered H/He-poor Type Ic SESNe. At ~1 year after peak, nebular spectra reveal a blue pseudo-continuum and narrow OI recombination lines associated with magnetar heating. Radio observations rule out strong CSM interactions as the dominant energy source at +266 days post peak. Near-IR observations at +200-300 day reveal carbon monoxide and dust formation, which causes a dramatic optical light curve dip. Pair-instability explosion models predict slow light curve and spectral features incompatible with observations. SN 2020wnt is best explained as a magnetar-powered core-collapse explosion of a 28 Msun pre-SN star. The explosion kinetic energy is significantly larger than the magnetar energy at peak, effectively concealing the magnetar-heated inner ejecta until well after peak. SN 2020wnt falls into a continuum between normal SNe Ic and SLSNe I and demonstrates that optical spectra at peak alone cannot rule out the presence of a central engine. |\n",
       "|<p style=\"color:green\"> **ERROR** </p>| <p style=\"color:green\">affiliation error: mpia.affiliation_verifications: 'Heidelberg' keyword not found.</p> |"
      ],
      "text/plain": [
       "<IPython.core.display.Markdown object>"
      ]
     },
     "metadata": {},
     "output_type": "display_data"
    },
    {
     "data": {
      "text/markdown": [
       "\n",
       "|||\n",
       "|---:|:---|\n",
       "| [![arXiv](https://img.shields.io/badge/arXiv-arXiv:2212.00179-b31b1b.svg)](https://arxiv.org/abs/arXiv:2212.00179) | **The disappearances of six supernova progenitors**  |\n",
       "|| Schuyler D. Van Dyk, et al. -- incl., <mark>Nathan Smith</mark>, <mark>Thomas de Jaeger</mark> |\n",
       "|*Appeared on*| *2022-12-02*|\n",
       "|*Comments*| *12 pages, to appear in MNRAS*|\n",
       "|**Abstract**| As part of a larger completed Hubble Space Telescope (HST) Snapshot program, we observed the sites of six nearby core-collapse supernovae (SNe) at high spatial resolution: SN 2012A, SN 2013ej, SN 2016gkg, SN 2017eaw, SN 2018zd, and SN 2018aoq. These observations were all conducted at sufficiently late times in each SN's evolution to demonstrate that the massive-star progenitor candidate identified in each case in pre-explosion imaging data had indeed vanished and was therefore most likely the actual progenitor. However, we have determined for SN 2016gkg that the progenitor candidate was most likely a blend of two objects: the progenitor, which itself has likely vanished, and another closely-neighbouring star. We thus provide a revised estimate of that progenitor's properties: a binary system with a hydrogen-stripped primary star at explosion with effective temperature ~6300--7900 K, bolometric luminosity ~10^{4.65} L_sun, radius ~118--154 R_sun, and initial mass 9.5--11 M_sun. Utilising late-time additional archival HST data nearly contemporaneous with our Snapshots, we also show that SN 2017eaw had a luminous ultraviolet excess, which is best explained as a result of ongoing interaction of the SN shock with pre-existing circumstellar matter. We offer the caveat, particularly in the case of SN 2013ej, that obscuration from SN dust may be compromising our conclusions. This sample adds to the growing list of confirmed or likely core-collapse SN progenitors. |\n",
       "|<p style=\"color:green\"> **ERROR** </p>| <p style=\"color:green\">affiliation error: mpia.affiliation_verifications: 'Heidelberg' keyword not found.</p> |"
      ],
      "text/plain": [
       "<IPython.core.display.Markdown object>"
      ]
     },
     "metadata": {},
     "output_type": "display_data"
    },
    {
     "data": {
      "text/markdown": [
       "\n",
       "|||\n",
       "|---:|:---|\n",
       "| [![arXiv](https://img.shields.io/badge/arXiv-arXiv:2212.00180-b31b1b.svg)](https://arxiv.org/abs/arXiv:2212.00180) | **Star Formation and Molecular Gas Diagnostics with Mid- & Far-Infrared  Emission**  |\n",
       "|| C. M. Whitcomb, K. Sandstrom, A. Leroy, <mark>J.-D. T. Smith</mark> |\n",
       "|*Appeared on*| *2022-12-02*|\n",
       "|*Comments*| *28 pages, 10 figures, 4 tables, submitted for publication in ApJ*|\n",
       "|**Abstract**| With the start of JWST observations, mid-infrared (MIR) emission features from polycyclic aromatic hydrocarbons (PAHs), H$_2$ rotational lines, fine-structure lines from ions, and dust continuum will be widely available tracers of gas and star formation rate (SFR) in galaxies at various redshifts. Many of these tracers originate from dust and gas illuminated by UV photons from massive stars, so they generally trace both SFR and gas to varying degrees. We investigate how MIR spectral features from 5 to 35$\\mu$m and photometry from 3.4 to 250$\\mu$m correlate with SFR traced by ionized neon (15.6$\\mu$m [Ne III] and 12.8$\\mu$m [Ne II]) and molecular gas traced by carbon monoxide (CO). In general, we find MIR emission features (i.e. PAHs and H$_2$ rotational lines) trace both CO and SFR better than CO and SFR trace one another. H$_2$ lines and PAH features correlate best with CO. Fine-structure lines from ions correlate best with SFR. The [S III] lines at 18.7 and 33.5$\\mu$m, in particular, have a very tight correlation with SFR, and we use them to calibrate new single-parameter MIR tracers of SFR that have negligible metallicity dependence. The 17$\\mu$m/7.7$\\mu$m PAH feature ratio increases as a function of CO emission which may be evidence of PAH growth or neutralization in molecular gas. The degree to which dust continuum emission traces SFR or CO varies as a function of wavelength, with continuum between 20 to 70$\\mu$m better tracing SFR, while longer wavelengths better trace CO. |\n",
       "|<p style=\"color:green\"> **ERROR** </p>| <p style=\"color:green\">affiliation error: mpia.affiliation_verifications: 'Heidelberg' keyword not found.</p> |"
      ],
      "text/plain": [
       "<IPython.core.display.Markdown object>"
      ]
     },
     "metadata": {},
     "output_type": "display_data"
    },
    {
     "data": {
      "text/markdown": [
       "\n",
       "|||\n",
       "|---:|:---|\n",
       "| [![arXiv](https://img.shields.io/badge/arXiv-arXiv:2212.00200-b31b1b.svg)](https://arxiv.org/abs/arXiv:2212.00200) | **Three dimensional magnetorotational core-collapse supernova explosions  of a 39 solar mass progenitor star**  |\n",
       "|| Jade Powell, <mark>Bernhard Mueller</mark>, David R. Aguilera-Dena, <mark>Norbert Langer</mark> |\n",
       "|*Appeared on*| *2022-12-02*|\n",
       "|*Comments*| **|\n",
       "|**Abstract**| We perform three-dimensional simulations of magnetorotational supernovae using a $39\\,M_{\\odot}$ progenitor star with two different initial magnetic field strengths of $10^{10}$ G and $10^{12}$ G in the core. Both models rapidly undergo shock revival and their explosion energies asymptote within a few hundred milliseconds to values of $\\gtrsim 2\\times10^{51}$ erg after conservatively correcting for the binding energy of the envelope. Magnetically collimated, non-relativistic jets form in both models, though the jets are subject to non-axisymmetric instabilities. The jets do not appear crucial for driving the explosion, as they only emerge once the shock has already expanded considerably. Our simulations predict moderate neutron star kicks of about $150\\, \\mathrm{km}\\,\\mathrm{s}^{-1}$, no spin-kick alignment, and rapid early spin-down that would result in birth periods of about $20\\, \\mathrm{ms}$, too slow to power an energetic gamma-ray burst jet. More than $0.2\\,M_\\odot$ of iron-group material are ejected, but we estimate that the mass of ejected $^{56}\\mathrm{Ni}$ will be considerably smaller as the bulk of this material is neutron-rich. Explosive burning does not contribute appreciable amounts of $^{56}\\mathrm{Ni}$ because the burned material originates from the slightly neutron-rich silicon shell. The iron-group ejecta also show no pronounced bipolar geometry by the end of the simulations. The models thus do not immediately fit the characteristics of observed hypernovae, but may be representative of other transients with moderately high explosion energies. The gravitational-wave emission reaches high frequencies of up to 2000 Hz and amplitudes of over 100 cm. The gravitational-wave emission is detectable out to distances of $\\sim4$ Mpc in the planned Cosmic Explorer detector. |\n",
       "|<p style=\"color:green\"> **ERROR** </p>| <p style=\"color:green\">affiliation error: mpia.affiliation_verifications: 'Heidelberg' keyword not found.</p> |"
      ],
      "text/plain": [
       "<IPython.core.display.Markdown object>"
      ]
     },
     "metadata": {},
     "output_type": "display_data"
    },
    {
     "data": {
      "text/markdown": [
       "\n",
       "|||\n",
       "|---:|:---|\n",
       "| [![arXiv](https://img.shields.io/badge/arXiv-arXiv:2212.00201-b31b1b.svg)](https://arxiv.org/abs/arXiv:2212.00201) | **An assessment of the Association Between a Fast Radio Burst and Binary  Neutron Star Merger**  |\n",
       "|| Alexandra Moroianu, et al. -- incl., <mark>Linqing Wen</mark>, <mark>Bing Zhang</mark> |\n",
       "|*Appeared on*| *2022-12-02*|\n",
       "|*Comments*| *53 pages, 7 figures, 2 tables*|\n",
       "|**Abstract**| Fast radio bursts (FRBs) are mysterious bright millisecond-duration radio bursts at cosmological distances. While young magnetars have been put forward as the leading source candidate, recent observations suggest there may be multiple FRB progenitor classes. It has long been theorised that FRBs could be emitted from compact object mergers - cataclysmic events such as binary neutron star (BNS) mergers that may be detectable in gravitational waves (GWs) by the ground-based Laser Interferometer Gravitational Wave Observatory (LIGO)and Virgo. Here we report a potential coincidence between the only BNS merger event GW190425 out of 21 GW sources detected during the first six months of LIGO-Virgo's 3rd Science Run and a bright, non-repeating FRB event, FRB 20190425A, from a search using public GW and CHIME FRB data. The FRB is located within the GW's sky localization area, occurred 2.5 hours after the GW event, and has a dispersion measure consistent with the distance inferred from GW parameter estimation. The chance probability of a coincidence between unrelated FRB and GW events in the databases is estimated to be 0.0052 ($2.8 \\sigma$). We estimate the chance of CHIME detecting such an event to range from 0.4% for a beam-centre detection to 68% if a bright burst is detectable in a far sidelobe. This potential association is consistent with the theory that the BNS merger leaves behind a supramassive, highly magnetized compact object, which collapses to form a black hole after losing angular momentum due to spindown and makes an FRB through ejecting the magnetosphere. If such a physical association is established, the equation of state of the post-merger compact object is likely stiff, with a Tolman-Oppenheimer-Volkoff non-spinning maximum mass $M_{TOV} > 2.63_{-0.23}^{+0.39} M_\\odot$ for a neutron star remnant, or $M_{TOV} > 2.31_{-0.08}^{+0.24} M_\\odot$ for a quark star remnant. |\n",
       "|<p style=\"color:green\"> **ERROR** </p>| <p style=\"color:green\">affiliation error: mpia.affiliation_verifications: 'Heidelberg' keyword not found.</p> |"
      ],
      "text/plain": [
       "<IPython.core.display.Markdown object>"
      ]
     },
     "metadata": {},
     "output_type": "display_data"
    },
    {
     "data": {
      "text/markdown": [
       "\n",
       "|||\n",
       "|---:|:---|\n",
       "| [![arXiv](https://img.shields.io/badge/arXiv-arXiv:2212.00215-b31b1b.svg)](https://arxiv.org/abs/arXiv:2212.00215) | **On the bright-end of the UV luminosity functions of galaxies at $z \\sim  0.6-1.2$**  |\n",
       "|| <mark>M. Sharma</mark>, M. J. Page, I. Ferreras, A. A. Breeveld |\n",
       "|*Appeared on*| *2022-12-02*|\n",
       "|*Comments*| *19 pages, 19 figures*|\n",
       "|**Abstract**| We derive the Ultra-Violet (UV) luminosity function (LF) of star forming galaxies falling in the redshift range $z = 0.6 - 1.2$, in the rest-frame far-UV (1500 {\\AA}) wavelength. For this work we are in particular interested in the bright end of the UV LF in this redshift range. The data from \\textit{XMM-Newton} Optical Monitor (XMM-OM), near-ultraviolet (1600-4000 {\\AA}) observations over 1.5 deg\\textsuperscript{2} of the COSMOS field are employed for this purpose. We compile a source-list of 879 sources with $UVW1_\\mathrm{AB}$ extending to $\\sim 21$ mag from the wide area UVW1 image of the COSMOS field. in the two bins $0.6 \\leq z \\leq 0.8$ and $0.8 \\leq z \\leq 1.2$. We use the maximum likelihood to fit the Schechter function to the un-binned data to estimate the parameters (faint-end slope, characteristic magnitude and normalisation) of the Schechter function. We find that the shape of the LF is consistent with the Schechter model and the parameters are in fair agreement with other studies conducted using direct measurements of the 1500 {\\AA} flux. We see a brightening of the characteristic magnitude as we move from lower (0.7) to higher (1.0) redshift. The measures for luminosity density are within the error margins of past studies. We examine the brightest sources in our sample for AGN contribution. These sources are characterised through their spectral energy distributions (SEDs), integrated infrared luminosities and morphologies. We also explore their overlap with the brightest IR galaxies at similar redshift range. |\n",
       "|<p style=\"color:green\"> **ERROR** </p>| <p style=\"color:green\">affiliation error: mpia.affiliation_verifications: 'Heidelberg' keyword not found.</p> |"
      ],
      "text/plain": [
       "<IPython.core.display.Markdown object>"
      ]
     },
     "metadata": {},
     "output_type": "display_data"
    },
    {
     "data": {
      "text/markdown": [
       "\n",
       "|||\n",
       "|---:|:---|\n",
       "| [![arXiv](https://img.shields.io/badge/arXiv-arXiv:2212.00269-b31b1b.svg)](https://arxiv.org/abs/arXiv:2212.00269) | **Model-independent test for the cosmic distance duality relation with  Pantheon and eBOSS DR16 quasar sample**  |\n",
       "|| Bing Xu, et al. -- incl., <mark>Kaituo Zhang</mark>, <mark>Jianjian Zhang</mark> |\n",
       "|*Appeared on*| *2022-12-02*|\n",
       "|*Comments*| *13 pages, 4 figures*|\n",
       "|**Abstract**| In this paper, we carry out a new model-independent cosmological test for the cosmic distance duality relation~(CDDR) by combining the latest five baryon acoustic oscillations (BAO) measurements and the Pantheon type Ia supernova (SNIa) sample. Particularly, the BAO measurement from extended Baryon Oscillation Spectroscopic Survey~(eBOSS) data release~(DR) 16 quasar sample at effective redshift $z=1.48$ is used, and two methods, i.e. a compressed form of Pantheon sample and the Artificial Neural Network~(ANN) combined with the binning SNIa method, are applied to overcome the redshift-matching problem. Our results suggest that the CDDR is compatible with the observations, and the high-redshift BAO and SNIa data can effectively strengthen the constraints on the violation parameters of CDDR with the confidence interval decreasing by more than 20 percent. In addition, we find that the compressed form of observational data can provide a more rigorous constraint on the CDDR, and thus can be generalized to the applications of other actual observational data with limited sample size in the test for CDDR. |\n",
       "|<p style=\"color:green\"> **ERROR** </p>| <p style=\"color:green\">affiliation error: mpia.affiliation_verifications: 'Heidelberg' keyword not found.</p> |"
      ],
      "text/plain": [
       "<IPython.core.display.Markdown object>"
      ]
     },
     "metadata": {},
     "output_type": "display_data"
    },
    {
     "data": {
      "text/markdown": [
       "\n",
       "|||\n",
       "|---:|:---|\n",
       "| [![arXiv](https://img.shields.io/badge/arXiv-arXiv:2212.00283-b31b1b.svg)](https://arxiv.org/abs/arXiv:2212.00283) | **Modelling Solar Energetic Neutral Atoms from Solar Flares and CME-driven  Shocks**  |\n",
       "|| <mark>Gang Li</mark>, et al. -- incl., <mark>Maher A. Dayeh</mark> |\n",
       "|*Appeared on*| *2022-12-02*|\n",
       "|*Comments*| *10 pages, 6 figures*|\n",
       "|**Abstract**| We examine the production of energetic neutral atoms (ENAs) in solar flares and CME-driven shocks and their subsequent propagation to 1 au. Time profiles and fluence spectra of solar ENAs at 1 au are computed for two scenarios: 1) ENAs are produced downstream at CME-driven shocks, and 2) ENAs are produced at large-scale post-flare loops in solar flares. Both the time profiles and fluence spectra for these two scenarios are vastly different. Our calculations indicate that we can use solar ENAs as a new probe to examine the underlying acceleration process of solar energetic particles (SEPs) and to differentiate the two accelertion sites: large loops in solar flares and downstream of CME-driven shocks, in large SEP events. |\n",
       "|<p style=\"color:green\"> **ERROR** </p>| <p style=\"color:green\">affiliation error: mpia.affiliation_verifications: 'Heidelberg' keyword not found.</p> |"
      ],
      "text/plain": [
       "<IPython.core.display.Markdown object>"
      ]
     },
     "metadata": {},
     "output_type": "display_data"
    },
    {
     "data": {
      "text/markdown": [
       "\n",
       "|||\n",
       "|---:|:---|\n",
       "| [![arXiv](https://img.shields.io/badge/arXiv-arXiv:2212.00286-b31b1b.svg)](https://arxiv.org/abs/arXiv:2212.00286) | **Photometry of the Four Anti-Galactocentric Old Open Clusters: Czernik  30, Berkeley 34, Berkeley 75, and Berkeley 76**  |\n",
       "|| Hyobin Im, et al. -- incl., <mark>Joon Hyeop Lee</mark> |\n",
       "|*Appeared on*| *2022-12-02*|\n",
       "|*Comments*| *AJ accepted*|\n",
       "|**Abstract**| We present a BVI photometric study of four old open clusters (OCs) in the Milky Way Galaxy, Czernik 30, Berkeley 34, Berkeley 75, and Berkeley 76 using the observation data obtained with the SMARTS 1.0 m telescope at the CTIO, Chile. These four OCs are located at the anti-Galactocentric direction and in the Galactic plane. We determine the fundamental physical parameters for the four OCs, such as age, metallicity, distance modulus, and color excess, using red clump and PARSEC isochrone fitting methods after finding center and size of the four OCs. These four old OCs are 2-3 Gyr old and 6 - 8 kpc away from the Sun. The metallicity ([Fe/H]) values of the four OCs are between -0.6 and 0.0 dex. We combine data for these four OCs with those for old OCs from five literatures resulting in 236 objects to investigate Galactic radial metallicity distribution. The gradient of a single linear fit for this Galactocentric [Fe/H] distribution is -0.052 +/- 0.004 dex/kpc. If we assume the existence of a discontinuity in this radial metallicity distribution, the gradient at Galactocentric radius < 12 kpc is -0.070 +/- 0.006 dex/kpc, while that at the outer part is -0.016 +/- 0.010 which is flatter than that of the inner part. Although there are not many sample clusters at the outer part, the broken linear fit seems to better follow the observation data. |\n",
       "|<p style=\"color:green\"> **ERROR** </p>| <p style=\"color:green\">affiliation error: mpia.affiliation_verifications: 'Heidelberg' keyword not found.</p> |"
      ],
      "text/plain": [
       "<IPython.core.display.Markdown object>"
      ]
     },
     "metadata": {},
     "output_type": "display_data"
    },
    {
     "data": {
      "text/markdown": [
       "\n",
       "|||\n",
       "|---:|:---|\n",
       "| [![arXiv](https://img.shields.io/badge/arXiv-arXiv:2212.00434-b31b1b.svg)](https://arxiv.org/abs/arXiv:2212.00434) | **Measuring the fine structure constant on white dwarf surfaces;  uncertainties from continuum placement variations**  |\n",
       "|| <mark>Chung-Chi Lee</mark>, et al. |\n",
       "|*Appeared on*| *2022-12-02*|\n",
       "|*Comments*| *10 pages, 4 figures. 4 additional files provided as supplementary material. Submitted to MNRAS 1 Dec 2022*|\n",
       "|**Abstract**| Searches for variations of fundamental constants require accurate measurement errors. There are several potential sources of errors and quantifying each one accurately is essential. This paper addresses one source of uncertainty relating to measuring the fine structure constant on white dwarf surfaces. Detailed modelling of photospheric absorption lines requires knowing the underlying spectral continuum level. Here we describe the development of a fully automated, objective, and reproducible continuum estimation method, based on fitting cubic splines to carefully selected data regions. Example fits to the Hubble Space Telescope spectrum of the white dwarf G191-B2B are given. We carry out measurements of the fine structure constant using two continuum models. The results show that continuum placement variations result in small systematic shifts in the centroids of narrow photospheric absorption lines which impact significantly on fine structure constant measurements. This effect must therefore be included in the overall error budget of future measurements. Our results also suggest that continuum placement variations should be investigated in other contexts, including fine structure constant measurements in stars other than white dwarfs, quasar absorption line measurements of the fine structure constant, and quasar measurements of cosmological redshift drift. |\n",
       "|<p style=\"color:green\"> **ERROR** </p>| <p style=\"color:green\">affiliation error: mpia.affiliation_verifications: 'Heidelberg' keyword not found.</p> |"
      ],
      "text/plain": [
       "<IPython.core.display.Markdown object>"
      ]
     },
     "metadata": {},
     "output_type": "display_data"
    },
    {
     "data": {
      "text/markdown": [
       "\n",
       "|||\n",
       "|---:|:---|\n",
       "| [![arXiv](https://img.shields.io/badge/arXiv-arXiv:2212.00462-b31b1b.svg)](https://arxiv.org/abs/arXiv:2212.00462) | **Gravitational wave signatures of phase transition from hadronic to quark  matter in isolated neutron stars and binaries**  |\n",
       "|| <mark>Ritam Mallick</mark> |\n",
       "|*Appeared on*| *2022-12-02*|\n",
       "|*Comments*| *6 pages, 0 figure, contribution in ConfXIV conference*|\n",
       "|**Abstract**| The fundamental constituent of matter at high temperature and density has intrigued physicists for quite some time. Recent results from heavy-ion colliders have enriched the Quantum Chromodynamics phase diagram at high temperatures and low baryon density. However, the phase at low temperatures and finite (mostly intermediate) baryon density remain unexplored. Theoretical Quantum Chromodynamics calculation predicts phase transition from hadronic matter to quark matter at such densities. Presently, the best laboratories available to probe such densities lie at the core of neutron stars. Recent results of how such phase transition signatures can be probed using gravitational waves both in isolated neutron stars and neutron star in binaries. The isolated neutron star would probe the very low-temperature regime, whereas neutron stars in binaries would probe finite baryon density in the intermediate temperature regime. We would also discuss whether the gravitational wave signature of such phase transition is unique and the detector specification needed to detect such signals. |\n",
       "|<p style=\"color:green\"> **ERROR** </p>| <p style=\"color:green\">affiliation error: mpia.affiliation_verifications: 'Heidelberg' keyword not found.</p> |"
      ],
      "text/plain": [
       "<IPython.core.display.Markdown object>"
      ]
     },
     "metadata": {},
     "output_type": "display_data"
    },
    {
     "data": {
      "text/markdown": [
       "\n",
       "|||\n",
       "|---:|:---|\n",
       "| [![arXiv](https://img.shields.io/badge/arXiv-arXiv:2212.00463-b31b1b.svg)](https://arxiv.org/abs/arXiv:2212.00463) | **Supervised machine learning on Galactic filaments Revealing the  filamentary structure of the Galactic interstellar medium**  |\n",
       "|| A. Zavagno, et al. -- incl., <mark>G. Li Causi</mark> |\n",
       "|*Appeared on*| *2022-12-02*|\n",
       "|*Comments*| *27 pages, 22 figures, accepted by Astronomy & Astrophysics*|\n",
       "|**Abstract**| Context. Filaments are ubiquitous in the Galaxy, and they host star formation. Detecting them in a reliable way is therefore key towards our understanding of the star formation process. Aims. We explore whether supervised machine learning can identify filamentary structures on the whole Galactic plane. Methods. We used two versions of UNet-based networks for image segmentation.We used H2 column density images of the Galactic plane obtained with Herschel Hi-GAL data as input data. We trained the UNet-based networks with skeletons (spine plus branches) of filaments that were extracted from these images, together with background and missing data masks that we produced. We tested eight training scenarios to determine the best scenario for our astrophysical purpose of classifying pixels as filaments. Results. The training of the UNets allows us to create a new image of the Galactic plane by segmentation in which pixels belonging to filamentary structures are identified. With this new method, we classify more pixels (more by a factor of 2 to 7, depending on the classification threshold used) as belonging to filaments than the spine plus branches structures we used as input. New structures are revealed, which are mainly low-contrast filaments that were not detected before.We use standard metrics to evaluate the performances of the different training scenarios. This allows us to demonstrate the robustness of the method and to determine an optimal threshold value that maximizes the recovery of the input labelled pixel classification. Conclusions. This proof-of-concept study shows that supervised machine learning can reveal filamentary structures that are present throughout the Galactic plane. The detection of these structures, including low-density and low-contrast structures that have never been seen before, offers important perspectives for the study of these filaments. |\n",
       "|<p style=\"color:green\"> **ERROR** </p>| <p style=\"color:green\">affiliation error: mpia.affiliation_verifications: 'Heidelberg' keyword not found.</p> |"
      ],
      "text/plain": [
       "<IPython.core.display.Markdown object>"
      ]
     },
     "metadata": {},
     "output_type": "display_data"
    },
    {
     "data": {
      "text/markdown": [
       "\n",
       "|||\n",
       "|---:|:---|\n",
       "| [![arXiv](https://img.shields.io/badge/arXiv-arXiv:2212.00531-b31b1b.svg)](https://arxiv.org/abs/arXiv:2212.00531) | **Synergy between CSST galaxy survey and gravitational-wave observation:  Inferring the Hubble constant from dark standard sirens**  |\n",
       "|| Ji-Yu Song, <mark>Ling-Feng Wang</mark>, <mark>Yichao Li</mark>, <mark>Ze-Wei Zhao</mark>, <mark>Jing-Fei Zhang</mark>, <mark>Wen Zhao</mark>, <mark>Xin Zhang</mark> |\n",
       "|*Appeared on*| *2022-12-02*|\n",
       "|*Comments*| *10 pages, 7 figures*|\n",
       "|**Abstract**| Gravitational waves (GWs) from compact binary coalescences encode the absolute luminosity distances of GW sources. Once the redshifts of GW sources are known, one can use the distance-redshift relation to constrain cosmological parameters. One way to obtain the redshifts is to localize GW sources by GW observations and then use galaxy catalogs to determine redshifts from a statistical analysis of redshift information of the potential host galaxies, and such GW data are commonly referred to as dark sirens. The third-generation (3G) GW detectors are planned to work in the 2030s and will observe numerous compact binary coalescences. Using these GW events as dark sirens requires high-quality galaxy catalogs from future sky survey projects. The China Space Station Telescope (CSST) will be launched in 2024 and will observe billions of galaxies within a 17500 deg$^2$ survey area up to $z\\sim 4$, providing photometric and spectroscopic galaxy catalogs. In this work, we simulate the CSST galaxy catalog and the 5-year GW data, and combine them to infer the Hubble constant ($H_0$). Our results show that the measurement precision of $H_0$ could reach better than $0.005\\%$, which is an astonishing precision for the Hubble constant measurement. We conclude that the synergy between the 3G GW detectors and CSST will be of far-reaching importance in dark-siren cosmology. |\n",
       "|<p style=\"color:green\"> **ERROR** </p>| <p style=\"color:green\">affiliation error: mpia.affiliation_verifications: 'Heidelberg' keyword not found.</p> |"
      ],
      "text/plain": [
       "<IPython.core.display.Markdown object>"
      ]
     },
     "metadata": {},
     "output_type": "display_data"
    },
    {
     "data": {
      "text/markdown": [
       "\n",
       "|||\n",
       "|---:|:---|\n",
       "| [![arXiv](https://img.shields.io/badge/arXiv-arXiv:2212.00662-b31b1b.svg)](https://arxiv.org/abs/arXiv:2212.00662) | **Revisiting the Emission Line Source Detection Problem in Integral Field  Spectroscopic Data**  |\n",
       "|| <mark>Edmund Christian Herenz</mark> |\n",
       "|*Appeared on*| *2022-12-02*|\n",
       "|*Comments*| *Submitted to Astronomical Notes, comments welcome. A beta version of described improved line source detection software can be obtained here: this https URL*|\n",
       "|**Abstract**| We present a 3-dimensional matched filtering approach for the blind search of faint emission-line sources in integral-field spectroscopic datasets. The filter is designed to account for the spectrally rapidly varying background noise due to the telluric air glow spectrum. A software implementation of this matched filtering search is implemented in an updated version of the Line Source Detection Cataloguing tool (LSDCat2.0). Using public data from the MUSE-Wide survey we show how the new filter design provides higher detection significances for faint emission line sources buried in between atmospheric [OH]-bands at $\\lambda \\gtrsim 7000$\\,\\AA{}. We also show how, for a given source parameterisation, the selection function of the improved algorithm can be derived analytically from the variances of the data. We verify this analytic solution against source insertion and recovery experiments in the recently released dataset of the MUSE eXtreme Deep Field (MXDF). We then illustrate how the selection function has to be re-scaled for 3D emission line source profiles that are not fully congruent with the template. This procedure alleviates the construction of realistic selection functions by removing the need for computationally cumbersome source insertion and recovery experiments. |\n",
       "|<p style=\"color:green\"> **ERROR** </p>| <p style=\"color:green\">affiliation error: mpia.affiliation_verifications: 'Heidelberg' keyword not found.</p> |"
      ],
      "text/plain": [
       "<IPython.core.display.Markdown object>"
      ]
     },
     "metadata": {},
     "output_type": "display_data"
    },
    {
     "data": {
      "text/markdown": [
       "\n",
       "|||\n",
       "|---:|:---|\n",
       "| [![arXiv](https://img.shields.io/badge/arXiv-arXiv:2212.00665-b31b1b.svg)](https://arxiv.org/abs/arXiv:2212.00665) | **The First Flight of the Marshall Grazing Incidence X-ray Spectrometer  (MaGIXS)**  |\n",
       "|| Sabrina L. Savage, et al. -- incl., <mark>Ralf K. Heilmann</mark>, <mark>Edward Hertz</mark>, <mark>Helen Mason</mark> |\n",
       "|*Appeared on*| *2022-12-02*|\n",
       "|*Comments*| *20 pages, 18 figures*|\n",
       "|**Abstract**| The Marshall Grazing Incidence X-ray Spectrometer (MaGIXS) sounding rocket experiment launched on July 30, 2021 from the White Sands Missile Range in New Mexico. MaGIXS is a unique solar observing telescope developed to capture X-ray spectral images, in the 6 - 24 Angstrom wavelength range, of coronal active regions. Its novel design takes advantage of recent technological advances related to fabricating and optimizing X-ray optical systems as well as breakthroughs in inversion methodologies necessary to create spectrally pure maps from overlapping spectral images. MaGIXS is the first instrument of its kind to provide spatially resolved soft X-ray spectra across a wide field of view. The plasma diagnostics available in this spectral regime make this instrument a powerful tool for probing solar coronal heating. This paper presents details from the first MaGIXS flight, the captured observations, the data processing and inversion techniques, and the first science results. |\n",
       "|<p style=\"color:green\"> **ERROR** </p>| <p style=\"color:green\">affiliation error: mpia.affiliation_verifications: 'Heidelberg' keyword not found.</p> |"
      ],
      "text/plain": [
       "<IPython.core.display.Markdown object>"
      ]
     },
     "metadata": {},
     "output_type": "display_data"
    },
    {
     "data": {
      "text/markdown": [
       "\n",
       "|||\n",
       "|---:|:---|\n",
       "| [![arXiv](https://img.shields.io/badge/arXiv-arXiv:2212.00765-b31b1b.svg)](https://arxiv.org/abs/arXiv:2212.00765) | **Multi-collision internal shock lepto-hadronic models for energetic GRBs**  |\n",
       "|| Annika Rudolph, Maria Petropoulou, Željka Bošnjak, <mark>Walter Winter</mark> |\n",
       "|*Appeared on*| *2022-12-02*|\n",
       "|*Comments*| *For application to GRB 221009A see companion paper, comments welcome*|\n",
       "|**Abstract**| For a sub-population of energetic Gamma-Ray Bursts (GRBs), a moderate baryonic loading may suffice to power Ultra-High-Energy Cosmic Rays (UHECRs). Motivated by this, we study the radiative signatures of cosmic-ray protons in the prompt phase of energetic GRBs. Our framework is the internal shock model with multi-collision descriptions of the relativistic ejecta (with different emission regions along the jet), plus time-dependent calculations of photon and neutrino spectra. Our GRB prototypes are motivated by {\\em Fermi}-LAT detected GRBs (including GRB~221009A) for which further, owing to the large energy flux, neutrino non-observation of single events may pose a strong limit on the baryonic loading. We study the feedback of protons on electromagnetic spectra in synchrotron- and inverse Compton-dominated scenarios to identify the multi-wavelength signatures, to constrain the maximally allowed baryonic loading, and to point out the differences between hadronic and inverse Compton signatures. We find that hadronic signatures appear as correlated flux increases in the optical-UV to soft X-ray and GeV to TeV gamma-ray ranges in the synchrotron scenarios, whereas they are difficult to identify in inverse Compton-dominated scenarios. We demonstrate that baryonic loadings around 10, which satisfy the UHECR energetic requirements, do not distort the predicted photon spectra in the {\\em Fermi}-GBM range and are consistent with constraints from neutrino data if the collision radii are large enough (i.e., the time variability is not too short). It therefore seems plausible that under the condition of large dissipation radii a population of energetic GRBs can be the origin of the UHECRs. |\n",
       "|<p style=\"color:green\"> **ERROR** </p>| <p style=\"color:green\">affiliation error: mpia.affiliation_verifications: 'Heidelberg' keyword not found.</p> |"
      ],
      "text/plain": [
       "<IPython.core.display.Markdown object>"
      ]
     },
     "metadata": {},
     "output_type": "display_data"
    },
    {
     "data": {
      "text/markdown": [
       "\n",
       "|||\n",
       "|---:|:---|\n",
       "| [![arXiv](https://img.shields.io/badge/arXiv-arXiv:2212.00766-b31b1b.svg)](https://arxiv.org/abs/arXiv:2212.00766) | **Multi-messenger model for the prompt emission from GRB 221009A**  |\n",
       "|| Annika Rudolph, Maria Petropoulou, <mark>Walter Winter</mark>, Željka Bošnjak |\n",
       "|*Appeared on*| *2022-12-02*|\n",
       "|*Comments*| *9 pages, 3 figures, 1 table. For model details see companion paper, comments welcome*|\n",
       "|**Abstract**| We present a multi-messenger model for the prompt emission from GRB 221009A within the internal shock scenario. We consider the time-dependent evolution of the outflow with its impact on the observed light curve from multiple collisions, and the self-consistent generation of the electromagnetic spectrum in synchrotron and inverse Compton-dominated scenarios. Our leptohadronic model includes UHE protons potentially accelerated in the outflow, and their feedback on spectral energy distribution and on the neutrino emission. We find that we can roughly reproduce the observed light curves with an engine with varying ejection velocity of ultra-relativistic material, which has an intermediate quiescent period of about 200 seconds and a variability timescale of $\\sim1$~s. We consider baryonic loadings of 3 and 30 that are compatible with the hypothesis that the highest-energetic LHAASO photons might come from UHECR interactions with the extragalactic background light, and the paradigm that energetic GRBs may power the UHECR flux. For these values and the high dissipation radii considered we find consistency with the non-observation of neutrinos and no significant signatures on the electromagnetic spectrum. Inverse Compton-dominated scenarios from the prompt emission are demonstrated to lead to about an order of magnitude higher fluxes in the HE-range; this enhancement is testable by its spectral impact in the Fermi-GBM and LAT ranges. |\n",
       "|<p style=\"color:green\"> **ERROR** </p>| <p style=\"color:green\">affiliation error: mpia.affiliation_verifications: 'Heidelberg' keyword not found.</p> |"
      ],
      "text/plain": [
       "<IPython.core.display.Markdown object>"
      ]
     },
     "metadata": {},
     "output_type": "display_data"
    },
    {
     "data": {
      "text/markdown": [
       "\n",
       "|||\n",
       "|---:|:---|\n",
       "| [![arXiv](https://img.shields.io/badge/arXiv-arXiv:2212.00775-b31b1b.svg)](https://arxiv.org/abs/arXiv:2212.00775) | **Distinct signatures of spinning PBH domination and evaporation: doubly  peaked gravitational waves, dark relics and CMB complementarity**  |\n",
       "|| Nilanjandev Bhaumik, <mark>Anish Ghoshal</mark>, Rajeev Kumar Jain, Marek Lewicki |\n",
       "|*Appeared on*| *2022-12-02*|\n",
       "|*Comments*| *32 pages, 10 Figures*|\n",
       "|**Abstract**| Ultra-low mass primordial black holes (PBH) which may briefly dominate the enegy density of the universe but completely evaporate before the big bang nucleosynthesis (BBN), can lead to interesting observable signatures. In our previous work, we studied the generation of a doubly peaked spectrum of induced stochastic gravitational wave background (ISGWB) for such a scenario and explored the possibility of probing a class of baryogenesis models wherein the emission of massive unstable particles from the PBH evaporation and their subsequent decay contributes to the matter-antimatter asymmetry. In this work, we extend the scope of our earlier work by including spinning PBHs and consider the emission of light relativistic dark sector particles, which contribute to the dark radiation (DR) and massive stable dark sector particles, thereby accounting for the dark matter (DM) component of the universe. The ISGWB can be used to probe the non-thermal production of these heavy DM particles, which cannot be accessible in any laboratory searches. For the case of DR, we find a novel complementarity between the measurements of $\\Delta N_{\\rm eff}$ from these emitted particles and the ISGWB from PBH domination. Our results indicate that the ISGWB has a weak dependence on the initial PBH spin. However, for gravitons as the DR particles, the initial PBH spin plays a significant role, and only above a critical value of the initial spin parameter $a_*$, which depends only on initial PBH mass, the graviton emission can be probed in the CMB-HD experiment. Upcoming CMB experiments such as CMB-HD and CMB-Bharat, together with future GW detectors like LISA and ET, therefore, open up an exciting possibility of constraining the PBHs parameter space and providing deeper insights into the expansion history of the universe between the end of inflation and BBN. |\n",
       "|<p style=\"color:green\"> **ERROR** </p>| <p style=\"color:green\">affiliation error: mpia.affiliation_verifications: 'Heidelberg' keyword not found.</p> |"
      ],
      "text/plain": [
       "<IPython.core.display.Markdown object>"
      ]
     },
     "metadata": {},
     "output_type": "display_data"
    },
    {
     "data": {
      "text/markdown": [
       "\n",
       "|||\n",
       "|---:|:---|\n",
       "| [![arXiv](https://img.shields.io/badge/arXiv-arXiv:2212.00777-b31b1b.svg)](https://arxiv.org/abs/arXiv:2212.00777) | **Are the heliosphere, very local interstellar medium, and local cavity in  pressure balance with Galactic gravity**  |\n",
       "|| <mark>Jeffrey L. Linsky</mark>, Eberhard Moebius |\n",
       "|*Appeared on*| *2022-12-02*|\n",
       "|*Comments*| *15 pages, 1 figure, Astrophysical Journal in press*|\n",
       "|**Abstract**| The Voyager spacecraft are providing the first in situ measurements of physical properties in the outer heliosphere beyond the heliopause. These data, together with data from the IBEX and HST spacecraft and physical models consistent with these data, now provide critical measurements of pressures in the heliosphere and surrounding interstellar medium. Using these data, we assemble the first comprehensive survey of total pressures inside and outside of the heliopause, in the interstellar gas surrounding the heliosphere, and in the surrounding Local Cavity to determine whether the total pressures in each region are in balance with each other and with the gravitational pressure exerted by the Galaxy. We inter-compare total pressures in each region that include thermal, non-thermal, plasma, ram, and magnetic pressure components. An important result is the role of dynamic (ram) pressure. Total pressure balance at the heliopause can only be maintained with a substantial contribution of dynamic pressure from inside. Also, total pressure balance between the outer heliosphere and pristine very local ISM (VLISM) and between the pristine VLISM and the Local Cavity requires large dynamic pressure contributions. |\n",
       "|<p style=\"color:green\"> **ERROR** </p>| <p style=\"color:green\">affiliation error: mpia.affiliation_verifications: 'Heidelberg' keyword not found.</p> |"
      ],
      "text/plain": [
       "<IPython.core.display.Markdown object>"
      ]
     },
     "metadata": {},
     "output_type": "display_data"
    },
    {
     "data": {
      "text/markdown": [
       "\n",
       "|||\n",
       "|---:|:---|\n",
       "| [![arXiv](https://img.shields.io/badge/arXiv-arXiv:2212.00130-b31b1b.svg)](https://arxiv.org/abs/arXiv:2212.00130) | **PHANGS-JWST First Results: The Influence of Stellar Clusters on PAHs in  Nearby Galaxies**  |\n",
       "|| Daniel A. Dale, et al. -- incl., <mark>Kiana F. Henny</mark>, <mark>Kathryn Kreckel</mark>, <mark>Janice C. Lee</mark>, <mark>Daizhong Liu</mark>, <mark>Eva Schinnerer</mark> |\n",
       "|*Appeared on*| *2022-12-02*|\n",
       "|*Comments*| *8 pages, accepted as part of a PHANGS-JWST Focus Issue to appear in ApJ*|\n",
       "|**Abstract**| We present a comparison of theoretical predictions of dust continuum and polycyclic aromatic hydrocarbon (PAH) emission with new JWST observations in three nearby galaxies: NGC 628, NGC 1365, and NGC 7496. Our analysis focuses on a total of 1063 compact stellar clusters and 2654 stellar associations previously characterized by HST in the three galaxies. We find that the distributions and trends in the observed PAH-focused infrared colors generally agree with theoretical expectations, and that the bulk of the observations is more aligned with models of larger, ionized PAHs. These JWST data usher in a new era of probing interstellar dust and studying how the intense radiation fields near stellar clusters and associations play a role in shaping the physical properties of PAHs. |\n",
       "|<p style=\"color:red\"> **ERROR** </p>| <p style=\"color:red\">latex error Could not find figure figures/seds.pdf</p> |"
      ],
      "text/plain": [
       "<IPython.core.display.Markdown object>"
      ]
     },
     "metadata": {},
     "output_type": "display_data"
    }
   ],
   "source": [
    "import datetime\n",
    "today = str(datetime.date.today())\n",
    "logfile = f\"_build/html/logs/log-{today}.md\"\n",
    "\n",
    "\n",
    "with open(logfile, 'w') as logs:\n",
    "    # Success\n",
    "    logs.write(f'# Arxiv on Deck 2: Logs - {today}\\n\\n')\n",
    "    logs.write(\"\"\"* Arxiv had {0:,d} new papers\\n\"\"\".format(len(new_papers)))\n",
    "    logs.write(\"\"\"    * {0:,d} with possible author matches\\n\\n\"\"\".format(len(candidates)))\n",
    "    logs.write(\"## Sucessful papers\\n\\n\")\n",
    "    display(Markdown(\"## Successful papers\"))\n",
    "    success = [k[0] for k in documents]\n",
    "    for candid in candidates:\n",
    "        if candid['identifier'].split(':')[-1] in success:\n",
    "            display(candid)\n",
    "            logs.write(candid.generate_markdown_text() + '\\n\\n')\n",
    "\n",
    "    ## failed\n",
    "    logs.write(\"## Failed papers\\n\\n\")\n",
    "    display(Markdown(\"## Failed papers\"))\n",
    "    failed = sorted(failed, key=lambda x: x[1])\n",
    "    current_reason = \"\"\n",
    "    for paper, reason in failed:\n",
    "        if 'affiliation' in reason:\n",
    "            color = 'green'\n",
    "        else:\n",
    "            color = 'red'\n",
    "        data = Markdown(\n",
    "                paper.generate_markdown_text() + \n",
    "                f'\\n|<p style=\"color:{color:s}\"> **ERROR** </p>| <p style=\"color:{color:s}\">{reason:s}</p> |'\n",
    "               )\n",
    "        if reason != current_reason:\n",
    "            logs.write(f'### {reason:s} \\n\\n')\n",
    "            current_reason = reason\n",
    "        logs.write(data.data + '\\n\\n')\n",
    "        \n",
    "        # only display here the important errors (all in logs)\n",
    "        # if color in ('red',):\n",
    "        display(data)"
   ]
  },
  {
   "cell_type": "markdown",
   "id": "472d20ee",
   "metadata": {
    "papermill": {
     "duration": 0.011209,
     "end_time": "2022-12-02T04:09:19.243354",
     "exception": false,
     "start_time": "2022-12-02T04:09:19.232145",
     "status": "completed"
    },
    "tags": []
   },
   "source": [
    "## Export documents\n",
    "\n",
    "We now write the .md files and export relevant images"
   ]
  },
  {
   "cell_type": "code",
   "execution_count": 7,
   "id": "d426aed9",
   "metadata": {
    "execution": {
     "iopub.execute_input": "2022-12-02T04:09:19.267898Z",
     "iopub.status.busy": "2022-12-02T04:09:19.267376Z",
     "iopub.status.idle": "2022-12-02T04:09:19.275093Z",
     "shell.execute_reply": "2022-12-02T04:09:19.274534Z"
    },
    "papermill": {
     "duration": 0.021786,
     "end_time": "2022-12-02T04:09:19.276630",
     "exception": false,
     "start_time": "2022-12-02T04:09:19.254844",
     "status": "completed"
    },
    "tags": []
   },
   "outputs": [],
   "source": [
    "def export_markdown_summary(md: str, md_fname:str, directory: str):\n",
    "    \"\"\"Export MD document and associated relevant images\"\"\"\n",
    "    import os\n",
    "    import shutil\n",
    "    import re\n",
    "\n",
    "    if (os.path.exists(directory) and not os.path.isdir(directory)):\n",
    "        raise RuntimeError(f\"a non-directory file exists with name {directory:s}\")\n",
    "\n",
    "    if (not os.path.exists(directory)):\n",
    "        print(f\"creating directory {directory:s}\")\n",
    "        os.mkdir(directory)\n",
    "\n",
    "    fig_fnames = (re.compile(r'\\[Fig.*\\]\\((.*)\\)').findall(md) + \n",
    "                  re.compile(r'\\<img src=\"([^>\\s]*)\"[^>]*/>').findall(md))\n",
    "    for fname in fig_fnames:\n",
    "        if 'http' in fname:\n",
    "            # No need to copy online figures\n",
    "            continue\n",
    "        destdir = os.path.join(directory, os.path.dirname(fname))\n",
    "        destfname = os.path.join(destdir, os.path.basename(fname))\n",
    "        try:\n",
    "            os.makedirs(destdir)\n",
    "        except FileExistsError:\n",
    "            pass\n",
    "        shutil.copy(fname, destfname)\n",
    "    with open(os.path.join(directory, md_fname), 'w') as fout:\n",
    "        fout.write(md)\n",
    "    print(\"exported in \", os.path.join(directory, md_fname))\n",
    "    [print(\"    + \" + os.path.join(directory,fk)) for fk in fig_fnames]"
   ]
  },
  {
   "cell_type": "code",
   "execution_count": 8,
   "id": "014d04a4",
   "metadata": {
    "execution": {
     "iopub.execute_input": "2022-12-02T04:09:19.300551Z",
     "iopub.status.busy": "2022-12-02T04:09:19.299965Z",
     "iopub.status.idle": "2022-12-02T04:09:19.315411Z",
     "shell.execute_reply": "2022-12-02T04:09:19.314782Z"
    },
    "papermill": {
     "duration": 0.029107,
     "end_time": "2022-12-02T04:09:19.316961",
     "exception": false,
     "start_time": "2022-12-02T04:09:19.287854",
     "status": "completed"
    },
    "tags": []
   },
   "outputs": [
    {
     "name": "stdout",
     "output_type": "stream",
     "text": [
      "exported in  _build/html/2212.00032.md\n",
      "    + _build/html/tmp_2212.00032/./jwst_muse_alma.png\n",
      "    + _build/html/tmp_2212.00032/./polar_unwrap.png\n",
      "    + _build/html/tmp_2212.00032/./timescales.png\n",
      "exported in  _build/html/2212.00047.md\n",
      "    + _build/html/tmp_2212.00047/./Scheme.png\n",
      "    + _build/html/tmp_2212.00047/./proper_motion_dist.png\n",
      "    + _build/html/tmp_2212.00047/./CMD.png\n"
     ]
    }
   ],
   "source": [
    "for paper_id, md in documents:\n",
    "    export_markdown_summary(md, f\"{paper_id:s}.md\", '_build/html/')"
   ]
  },
  {
   "cell_type": "markdown",
   "id": "f087a0a7",
   "metadata": {
    "papermill": {
     "duration": 0.011201,
     "end_time": "2022-12-02T04:09:19.339429",
     "exception": false,
     "start_time": "2022-12-02T04:09:19.328228",
     "status": "completed"
    },
    "tags": []
   },
   "source": [
    "## Display the papers\n",
    "\n",
    "Not necessary but allows for a quick check."
   ]
  },
  {
   "cell_type": "code",
   "execution_count": 9,
   "id": "fd25f625",
   "metadata": {
    "execution": {
     "iopub.execute_input": "2022-12-02T04:09:19.363632Z",
     "iopub.status.busy": "2022-12-02T04:09:19.363149Z",
     "iopub.status.idle": "2022-12-02T04:09:19.369901Z",
     "shell.execute_reply": "2022-12-02T04:09:19.369231Z"
    },
    "papermill": {
     "duration": 0.020689,
     "end_time": "2022-12-02T04:09:19.371453",
     "exception": false,
     "start_time": "2022-12-02T04:09:19.350764",
     "status": "completed"
    },
    "scrolled": false,
    "tags": []
   },
   "outputs": [
    {
     "data": {
      "text/markdown": [
       "<div class=\"macros\" style=\"visibility:hidden;\">\n",
       "$\\newcommand{\\ensuremath}{}$\n",
       "$\\newcommand{\\xspace}{}$\n",
       "$\\newcommand{\\object}[1]{\\texttt{#1}}$\n",
       "$\\newcommand{\\farcs}{{.}''}$\n",
       "$\\newcommand{\\farcm}{{.}'}$\n",
       "$\\newcommand{\\arcsec}{''}$\n",
       "$\\newcommand{\\arcmin}{'}$\n",
       "$\\newcommand{\\ion}[2]{#1#2}$\n",
       "$\\newcommand{\\textsc}[1]{\\textrm{#1}}$\n",
       "$\\newcommand{\\hl}[1]{\\textrm{#1}}$\n",
       "$\\newcommand{\\vdag}{(v)^\\dagger}$\n",
       "$\\newcommand$\n",
       "$\\newcommand$\n",
       "$\\newcommand{\\mpia}{Max-Planck-Institut f\\\"{u}r Astronomie, K\\\"{o}nigstuhl 17, D-69117, Heidelberg, Germany}$\n",
       "$\\newcommand{\\oxford}{Sub-department of Astrophysics, Department of Physics, University of Oxford, Keble Road, Oxford OX1 3RH, UK}$\n",
       "$\\newcommand{\\mcmaster}{Department of Physics and Astronomy, McMaster University, Hamilton, ON L8S 4M1, Canada}$\n",
       "$\\newcommand{\\cita}{Canadian Institute for Theoretical Astrophysics (CITA), University of Toronto, 60 St George Street, Toronto, ON M5S 3H8, Canada}$\n",
       "$\\newcommand{\\ghent}{Sterrenkundig Observatorium, Universiteit Gent, Krijgslaan 281 S9, B-9000 Gent, Belgium}$\n",
       "$\\newcommand{\\oan}{Observatorio Astronómico Nacional (IGN), C/Alfonso XII, 3, E-28014 Madrid, Spain}$\n",
       "$\\newcommand{\\ari}{Astronomisches Rechen-Institut, Zentrum f\\\"{u}r Astronomie der Universit\\\"{a}t Heidelberg, M\\\"{o}nchhofstra\\ss e 12-14, D-69120 Heidelberg, Germany}$\n",
       "$\\newcommand{\\anu}{Research School of Astronomy and Astrophysics, Australian National University, Canberra, ACT 2611, Australia}$\n",
       "$\\newcommand{\\ita}{Universit\\\"{a}t Heidelberg, Zentrum f\\\"{u}r Astronomie, Institut f\\\"{u}r theoretische Astrophysik, Albert-Ueberle-Str. 2, 69120 Heidelberg, Germany}$\n",
       "$\\newcommand{\\mpe}{Max-Planck-Institut f\\\"{u}r extraterrestrische Physik, Giessenbachstra{\\ss}e 1, D-85748 Garching, Germany}$\n",
       "$\\newcommand{\\cool}{Cosmic Origins Of Life (COOL) Research DAO, coolresearch.io}$\n",
       "$\\newcommand{\\manch}{Jodrell Bank Centre for Astrophysics, Department of Physics and Astronomy, University of Manchester, Oxford Road, Manchester M13 9PL, UK}$\n",
       "$\\newcommand{\\eso}{European Southern Observatory, Karl-Schwarzschild-Stra{\\ss}e 2, 85748 Garching, Germany}$\n",
       "$\\newcommand{\\cral}{Univ Lyon, Univ Lyon1, ENS de Lyon, CNRS, Centre de Recherche Astrophysique de Lyon UMR5574, F-69230 Saint-Genis-Laval France}$\n",
       "$\\newcommand{\\cfa}{Center for Astrophysics, Harvard \\& Smithsonian, 60 Garden St, Cambridge, MA, United States}$\n",
       "$\\newcommand{\\CCAPP}{Center for Cosmology and Astroparticle Physics, 191 West Woodruff Avenue, Columbus, OH 43210, USA}$\n",
       "$\\newcommand{\\OSU}{Department of Astronomy, The Ohio State University, 140 West 18th Avenue, Columbus, Ohio 43210, USA}$\n",
       "$\\newcommand{\\iwr}{Universit\\\"{a}t Heidelberg, Interdisziplin\\\"{a}res Zentrum f\\\"{u}r Wissenschaftliches Rechnen, Im Neuenheimer Feld 205, D-69120 Heidelberg, Germany}$\n",
       "$\\newcommand{\\UBonn}{Argelander-Institut f\\\"{u}r Astronomie, Universit\\\"{a}t Bonn, Auf dem H\\\"{u}gel 71, 53121, Bonn, Germany}$\n",
       "$\\newcommand{\\stsci}{Space Telescope Science Institute, 3700 San Martin Drive, Baltimore, MD, USA}$</div>\n",
       "\n",
       "<div class=\"macros\" style=\"visibility:hidden;\">\n",
       "$\\newcommand{$\\ensuremath$}{}$\n",
       "$\\newcommand{$\\xspace$}{}$\n",
       "$\\newcommand{$\\object$}[1]{\\texttt{#1}}$\n",
       "$\\newcommand{$\\farcs$}{{.}''}$\n",
       "$\\newcommand{$\\farcm$}{{.}'}$\n",
       "$\\newcommand{$\\arcsec$}{''}$\n",
       "$\\newcommand{$\\arcmin$}{'}$\n",
       "$\\newcommand{$\\ion$}[2]{#1#2}$\n",
       "$\\newcommand{$\\textsc$}[1]{\\textrm{#1}}$\n",
       "$\\newcommand{$\\hl$}[1]{\\textrm{#1}}$\n",
       "$\\newcommand{$\\vdag$}{(v)^\\dagger}$\n",
       "$\\newcommand$\n",
       "$\\newcommand$\n",
       "$\\newcommand{$\\mpia$}{Max-Planck-Institut f\\\"{u}r Astronomie, K\\\"{o}nigstuhl 17, D-69117, Heidelberg, Germany}$\n",
       "$\\newcommand{$\\oxford$}{Sub-department of Astrophysics, Department of Physics, University of Oxford, Keble Road, Oxford OX1 3RH, UK}$\n",
       "$\\newcommand{$\\mcmaster$}{Department of Physics and Astronomy, McMaster University, Hamilton, ON L8S 4M1, Canada}$\n",
       "$\\newcommand{$\\cita$}{Canadian Institute for Theoretical Astrophysics (CITA), University of Toronto, 60 St George Street, Toronto, ON M5S 3H8, Canada}$\n",
       "$\\newcommand{$\\ghent$}{Sterrenkundig Observatorium, Universiteit Gent, Krijgslaan 281 S9, B-9000 Gent, Belgium}$\n",
       "$\\newcommand{$\\oan$}{Observatorio Astronómico Nacional (IGN), C/Alfonso XII, 3, E-28014 Madrid, Spain}$\n",
       "$\\newcommand{$\\ari$}{Astronomisches Rechen-Institut, Zentrum f\\\"{u}r Astronomie der Universit\\\"{a}t Heidelberg, M\\\"{o}nchhofstra\\ss e 12-14, D-69120 Heidelberg, Germany}$\n",
       "$\\newcommand{$\\anu$}{Research School of Astronomy and Astrophysics, Australian National University, Canberra, ACT 2611, Australia}$\n",
       "$\\newcommand{$\\ita$}{Universit\\\"{a}t Heidelberg, Zentrum f\\\"{u}r Astronomie, Institut f\\\"{u}r theoretische Astrophysik, Albert-Ueberle-Str. 2, 69120 Heidelberg, Germany}$\n",
       "$\\newcommand{$\\mpe$}{Max-Planck-Institut f\\\"{u}r extraterrestrische Physik, Giessenbachstra{\\ss}e 1, D-85748 Garching, Germany}$\n",
       "$\\newcommand{$\\cool$}{Cosmic Origins Of Life (COOL) Research DAO, coolresearch.io}$\n",
       "$\\newcommand{$\\manch$}{Jodrell Bank Centre for Astrophysics, Department of Physics and Astronomy, University of Manchester, Oxford Road, Manchester M13 9PL, UK}$\n",
       "$\\newcommand{$\\eso$}{European Southern Observatory, Karl-Schwarzschild-Stra{\\ss}e 2, 85748 Garching, Germany}$\n",
       "$\\newcommand{$\\cral$}{Univ Lyon, Univ Lyon1, ENS de Lyon, CNRS, Centre de Recherche Astrophysique de Lyon UMR5574, F-69230 Saint-Genis-Laval France}$\n",
       "$\\newcommand{$\\cfa$}{Center for Astrophysics, Harvard \\& Smithsonian, 60 Garden St, Cambridge, MA, United States}$\n",
       "$\\newcommand{$\\CCAPP$}{Center for Cosmology and Astroparticle Physics, 191 West Woodruff Avenue, Columbus, OH 43210, USA}$\n",
       "$\\newcommand{$\\OSU$}{Department of Astronomy, The Ohio State University, 140 West 18th Avenue, Columbus, Ohio 43210, USA}$\n",
       "$\\newcommand{$\\iwr$}{Universit\\\"{a}t Heidelberg, Interdisziplin\\\"{a}res Zentrum f\\\"{u}r Wissenschaftliches Rechnen, Im Neuenheimer Feld 205, D-69120 Heidelberg, Germany}$\n",
       "$\\newcommand{$\\UBonn$}{Argelander-Institut f\\\"{u}r Astronomie, Universit\\\"{a}t Bonn, Auf dem H\\\"{u}gel 71, 53121, Bonn, Germany}$\n",
       "$\\newcommand{$\\stsci$}{Space Telescope Science Institute, 3700 San Martin Drive, Baltimore, MD, USA}$</div>\n",
       "\n",
       "\n",
       "\n",
       "<div id=\"title\">\n",
       "\n",
       "#  Reveals Localised Star Formation in a Spiral Arm Spur of NGC 628\n",
       "\n",
       "</div>\n",
       "<div id=\"comments\">\n",
       "\n",
       "[![arXiv](https://img.shields.io/badge/arXiv-2212.00032-b31b1b.svg)](https://arxiv.org/abs/2212.00032)<mark>Appeared on: 2022-12-02</mark> - _11 pages, 5 Figures, accepted as part of a PHANGS-JWST Focus Issue to appear in ApJ_\n",
       "\n",
       "</div>\n",
       "<div id=\"authors\">\n",
       "\n",
       "Thomas G. Williams, et al. -- incl., <mark>Eva Schinnerer</mark>, <mark>Jonathan D. Henshaw</mark>, <mark>Frank Bigiel</mark>, <mark>Kathryn Kreckel</mark>, <mark>Daizhong Liu</mark>, <mark>Francesca Pinna</mark>, <mark>Rowan Smith</mark>, <mark>Sophia Stuber</mark>\n",
       "\n",
       "</div>\n",
       "<div id=\"abstract\">\n",
       "\n",
       "**Abstract:** We combine\\textit{JWST}observations with ALMA CO and VLT-MUSE H$\\alpha$data to examine off-spiral arm star formation in the face-on, grand-design spiral galaxy NGC 628. We focus on the northern spiral arm, around a galactocentric radius of 3--4 kpc, and study two spurs. These form an interesting contrast, as one is CO-rich and one CO-poor, and they have a maximum azimuthal offset in MIRI 21$\\mu$m and MUSE H$\\alpha$of around 40$^\\circ$(CO-rich) and 55$^\\circ$(CO-poor) from the spiral arm. The star formation rate is higher in the regions of the spurs near to spiral arms, but the star formation efficiency appears relatively constant. Given the spiral pattern speed and rotation curve of this galaxy and assuming material exiting the arms undergoes purely circular motion, these offsets would be reached in 100 -- 150 Myr, significantly longer than the 21$\\mu$m and H$\\alpha$star formation timescales (both\\textless10 Myr). The invariance of the star formation efficiency in the spurs versus the spiral arms indicates massive star formation is not only triggered in spiral arms, and cannot simply occur in the arms and then drift away from the wave pattern. These early{\\it JWST}results show that in-situ star formation likely occurs in the spurs, and that the observed young stars are not simply the `leftovers' of stellar birth in the spiral arms. The excellent physical resolution and sensitivity that{\\it JWST}can attain in nearby galaxies will well resolve individual star-forming regions and help us to better understand the earliest phases of star formation.\n",
       "\n",
       "</div>\n",
       "\n",
       "<div id=\"div_fig1\">\n",
       "\n",
       "<img src=\"tmp_2212.00032/./jwst_muse_alma.png\" alt=\"Fig2\" width=\"100%\"/>\n",
       "\n",
       "**Figure 2. -** Three-colour image of NGC 628, with ALMA CO in blue, MUSE H$\\alpha$ in green, and {\\it JWST} 21$\\mu$m in red. The blue, red, and green boxes show the extent of each corresponding observation. The two spurs we focus on are shown as cyan (CO-rich), and orange (CO-poor) contours (see \\S\\ref{sec:spur_offset_timescale}). Also shown are the spiral arms from the environmental mask, in gray. The position angle (21$^\\circ$; corresponding to $\\theta = 0^\\circ$ in Figure \\ref{fig:polar_unwrap}) is indicated in the lower-right, and a 1 kpc scalebar is shown in the lower-left. (*fig:jwst_muse_alma*)\n",
       "\n",
       "</div>\n",
       "<div id=\"div_fig2\">\n",
       "\n",
       "<img src=\"tmp_2212.00032/./polar_unwrap.png\" alt=\"Fig4\" width=\"100%\"/>\n",
       "\n",
       "**Figure 4. -** Polar deprojection of NGC 628 in CO (top), 21$\\mu$m (middle), and MUSE H$\\alpha$(bottom). $0^\\circ$ is defined as the position angle (see Fig. \\ref{fig:jwst_muse_alma}), and $\\theta$ increases from left to right. The nominal co-rotation radius from \\cite{2021Williams} is shown as a horizontal dashed white line. We show the approximate ridge of three spiral arms as red lines (determined from the CO). We note there is a clear offset between this CO ridge and the 21$\\mu$m/H$\\alpha$ ridges \\citep[see also, e.g.][]{2018Kreckel} The cyan contour indicates the `CO-rich' spur, and the orange the `CO-poor' spur. (*fig:polar_unwrap*)\n",
       "\n",
       "</div>\n",
       "<div id=\"div_fig3\">\n",
       "\n",
       "<img src=\"tmp_2212.00032/./timescales.png\" alt=\"Fig1\" width=\"100%\"/>\n",
       "\n",
       "**Figure 1. -** Offset timescale (see Eq. \\ref{eq:timescale}) as a function of galactocentric radius for the CO-rich (blue) and CO-poor (red) spurs, calculated between a galactocentric radius of 3 and 4 kpc. (*fig:timescales*)\n",
       "\n",
       "</div>"
      ],
      "text/plain": [
       "<IPython.core.display.Markdown object>"
      ]
     },
     "metadata": {},
     "output_type": "display_data"
    },
    {
     "data": {
      "text/markdown": [
       "<div class=\"macros\" style=\"visibility:hidden;\">\n",
       "$\\newcommand{\\ensuremath}{}$\n",
       "$\\newcommand{\\xspace}{}$\n",
       "$\\newcommand{\\object}[1]{\\texttt{#1}}$\n",
       "$\\newcommand{\\farcs}{{.}''}$\n",
       "$\\newcommand{\\farcm}{{.}'}$\n",
       "$\\newcommand{\\arcsec}{''}$\n",
       "$\\newcommand{\\arcmin}{'}$\n",
       "$\\newcommand{\\ion}[2]{#1#2}$\n",
       "$\\newcommand{\\textsc}[1]{\\textrm{#1}}$\n",
       "$\\newcommand{\\hl}[1]{\\textrm{#1}}$\n",
       "$\\newcommand{\\arraystretch}{1.3}$\n",
       "$\\newcommand{\\arraystretch}{1.3}$</div>\n",
       "\n",
       "<div class=\"macros\" style=\"visibility:hidden;\">\n",
       "$\\newcommand{$\\ensuremath$}{}$\n",
       "$\\newcommand{$\\xspace$}{}$\n",
       "$\\newcommand{$\\object$}[1]{\\texttt{#1}}$\n",
       "$\\newcommand{$\\farcs$}{{.}''}$\n",
       "$\\newcommand{$\\farcm$}{{.}'}$\n",
       "$\\newcommand{$\\arcsec$}{''}$\n",
       "$\\newcommand{$\\arcmin$}{'}$\n",
       "$\\newcommand{$\\ion$}[2]{#1#2}$\n",
       "$\\newcommand{$\\textsc$}[1]{\\textrm{#1}}$\n",
       "$\\newcommand{$\\hl$}[1]{\\textrm{#1}}$\n",
       "$\\newcommand{$\\arraystretch$}{1.3}$\n",
       "$\\newcommand{$\\arraystretch$}{1.3}$</div>\n",
       "\n",
       "\n",
       "\n",
       "<div id=\"title\">\n",
       "\n",
       "# A first glimpse at the nuclear stellar disc line-of-sight structure\n",
       "\n",
       "</div>\n",
       "<div id=\"comments\">\n",
       "\n",
       "[![arXiv](https://img.shields.io/badge/arXiv-2212.00047-b31b1b.svg)](https://arxiv.org/abs/2212.00047)<mark>Appeared on: 2022-12-02</mark> - _Accepted for publication in A&A. 7 pages, 6 figures_\n",
       "\n",
       "</div>\n",
       "<div id=\"authors\">\n",
       "\n",
       "<mark>F. Nogueras-Lara</mark>\n",
       "\n",
       "</div>\n",
       "<div id=\"abstract\">\n",
       "\n",
       "**Abstract:** The nuclear stellar disc (NSD) is a dense stellar structure at the centre of our Galaxy. Given its proximity, it constitutes a unique laboratory to understand other galactic nuclei. Nevertheless, the high crowding and extinction hamper its study, and even its morphology and kinematics are not yet totally clear.In this work we use NSD red clump stars, whose intrinsic properties are well known, to trace the kinematics of the NSD and to compute the distance and extinction towards the edges of the NSD.We used publicly available proper motion and photometric catalogues of the NSD to distinguish red clump stars by using a colour-magnitude diagram. We then applied a Gaussian mixture model to obtain the proper motion distribution, and computed the extinction and distance towards stars with different kinematics.We obtained that the proper motion distributions contain NSD stars rotating eastwards and westwards, plus some contamination from Galactic bulge/bar stars, in agreement with previous work. We computed the distance and extinction towards the eastward- and westward-moving stars and concluded that the latter are$\\sim300$pc beyond, indicating a similar structure along and across the line of sight, and  consistent with an axisymmetric structure of the NSD. Moreover, we found that the extinction within the NSD is relatively low and  accounts for less than 10\\%of the total extinction of the stars belonging to the farthest edge of the NSD.\n",
       "\n",
       "</div>\n",
       "\n",
       "<div id=\"div_fig1\">\n",
       "\n",
       "<img src=\"tmp_2212.00047/./Scheme.png\" alt=\"Fig5\" width=\"100%\"/>\n",
       "\n",
       "**Figure 5. -** GALACTICNUCLEUS false colour image of the central region of the NSD. The white rectangles indicate the regions covered by the proper motion catalogue. The white dashed circle shows the effective radius of the nuclear star cluster \\citep[$\\sim 5$ pc, e.g.][]{gallego-cano2019} with Sagittarius A* at its centre. The white dashed lines indicate the four regions used for the distance and extinction analysis in Sect. \\ref{struct}. (*GNS*)\n",
       "\n",
       "</div>\n",
       "<div id=\"div_fig2\">\n",
       "\n",
       "<img src=\"tmp_2212.00047/./proper_motion_dist.png\" alt=\"Fig2\" width=\"100%\"/>\n",
       "\n",
       "**Figure 2. -** GMM analysis of the proper motion distributions for all the RC stars in the analysed region. The left and right panels show the distribution of the proper motion components parallel ($\\mu_l$) and perpendicular ($\\mu_b$) to the Galactic plane, respectively. The blue histograms correspond to the data, whereas the orange lines are the total models (solid lines), and each of their Gaussian components (dashed lines). The grey and red shaded areas in the left panel, and the green shaded area in the right panel correspond to the regions analysed in Sect. \\ref{struct}. (*proper*)\n",
       "\n",
       "</div>\n",
       "<div id=\"div_fig3\">\n",
       "\n",
       "<img src=\"tmp_2212.00047/./CMD.png\" alt=\"Fig1\" width=\"100%\"/>\n",
       "\n",
       "**Figure 1. -** CMD $K_s$ vs $H-K_s$ for common stars between the proper motion catalogue and the GALACTINUCLEUS survey. The red parallelogram shows the selection of RC stars. (*CMD*)\n",
       "\n",
       "</div>"
      ],
      "text/plain": [
       "<IPython.core.display.Markdown object>"
      ]
     },
     "metadata": {},
     "output_type": "display_data"
    }
   ],
   "source": [
    "[display(Markdown(k[1])) for k in documents];"
   ]
  },
  {
   "cell_type": "markdown",
   "id": "873873a4",
   "metadata": {
    "papermill": {
     "duration": 0.011716,
     "end_time": "2022-12-02T04:09:19.395135",
     "exception": false,
     "start_time": "2022-12-02T04:09:19.383419",
     "status": "completed"
    },
    "tags": []
   },
   "source": [
    "# Create HTML index"
   ]
  },
  {
   "cell_type": "code",
   "execution_count": 10,
   "id": "cf665672",
   "metadata": {
    "execution": {
     "iopub.execute_input": "2022-12-02T04:09:19.420667Z",
     "iopub.status.busy": "2022-12-02T04:09:19.420064Z",
     "iopub.status.idle": "2022-12-02T04:09:19.429619Z",
     "shell.execute_reply": "2022-12-02T04:09:19.429004Z"
    },
    "papermill": {
     "duration": 0.024183,
     "end_time": "2022-12-02T04:09:19.431103",
     "exception": false,
     "start_time": "2022-12-02T04:09:19.406920",
     "status": "completed"
    },
    "tags": []
   },
   "outputs": [
    {
     "name": "stdout",
     "output_type": "stream",
     "text": [
      "116  publications in the last 7 days.\n",
      "\t _build/html/2212.00047.md\n",
      "\t _build/html/2212.00032.md\n",
      "\t _build/html/2211.16996.md\n",
      "\t _build/html/2211.16510.md\n",
      "\t _build/html/2211.16123.md\n",
      "\t _build/html/2211.15816.md\n",
      "\t _build/html/2211.15698.md\n",
      "\t _build/html/2211.15576.md\n",
      "\t _build/html/2211.15434.md\n",
      "\t _build/html/2211.15288.md\n",
      "\t _build/html/2211.15224.md\n",
      "\t _build/html/2211.14543.md\n",
      "\t _build/html/2211.14330.md\n",
      "\t _build/html/2211.14322.md\n",
      "\t _build/html/2211.14132.md\n",
      "\t _build/html/2211.13811.md\n",
      "\t _build/html/2211.13426.md\n",
      "\t _build/html/2211.13318.md\n",
      "\t _build/html/2211.13146.md\n",
      "\t _build/html/2211.12613.md\n",
      "\t _build/html/2211.11767.md\n",
      "\t _build/html/2211.09840.md\n",
      "\t _build/html/2211.09217.md\n",
      "\t _build/html/2211.08493.md\n",
      "\t _build/html/2211.08487.md\n",
      "\t _build/html/2211.08294.md\n",
      "\t _build/html/2211.07667.md\n",
      "\t _build/html/2211.07659.md\n",
      "\t _build/html/2211.06454.md\n",
      "\t _build/html/2211.06205.md\n",
      "\t _build/html/2211.06194.md\n",
      "\t _build/html/2211.05022.md\n",
      "\t _build/html/2211.04048.md\n",
      "\t _build/html/2211.03641.md\n",
      "\t _build/html/2211.02502.md\n",
      "\t _build/html/2211.01474.md\n",
      "\t _build/html/2211.00667.md\n",
      "\t _build/html/2211.00657.md\n",
      "\t _build/html/2211.00087.md\n",
      "\t _build/html/2211.00036.md\n",
      "\t _build/html/2211.00020.md\n",
      "\t _build/html/2211.00010.md\n",
      "\t _build/html/2210.17434.md\n",
      "\t _build/html/2210.12412.md\n",
      "\t _build/html/2210.11926.md\n",
      "\t _build/html/2210.11551.md\n",
      "\t _build/html/2210.11103.md\n",
      "\t _build/html/2210.10707.md\n",
      "\t _build/html/2210.09930.md\n",
      "\t _build/html/2210.08996.md\n",
      "\t _build/html/2210.08517.md\n",
      "\t _build/html/2210.08510.md\n",
      "\t _build/html/2210.08078.md\n",
      "\t _build/html/2210.06504.md\n",
      "\t _build/html/2210.05695.md\n",
      "\t _build/html/2210.05595.md\n",
      "\t _build/html/2210.05505.md\n",
      "\t _build/html/2210.04721.md\n",
      "\t _build/html/2210.03615.md\n",
      "\t _build/html/2210.01811.md\n",
      "\t _build/html/2210.01809.md\n",
      "\t _build/html/2210.01556.md\n",
      "\t _build/html/2210.00863.md\n",
      "\t _build/html/2210.00560.md\n",
      "\t _build/html/2209.15403.md\n",
      "\t _build/html/2209.15110.md\n",
      "\t _build/html/2209.14410.md\n",
      "\t _build/html/2209.14396.md\n",
      "\t _build/html/2209.13717.md\n",
      "\t _build/html/2209.13336.md\n",
      "\t _build/html/2209.12906.md\n",
      "\t _build/html/2209.11781.md\n",
      "\t _build/html/2209.11602.md\n",
      "\t _build/html/2209.11248.md\n",
      "\t _build/html/2209.11096.md\n",
      "\t _build/html/2209.10618.md\n",
      "\t _build/html/2209.09914.md\n",
      "\t _build/html/2209.09823.md\n",
      "\t _build/html/2209.08242.md\n",
      "\t _build/html/2209.08120.md\n",
      "\t _build/html/2209.08106.md\n",
      "\t _build/html/2209.07962.md\n",
      "\t _build/html/2209.07931.md\n",
      "\t _build/html/2209.06833.md\n",
      "\t _build/html/2209.05814.md\n",
      "\t _build/html/2209.05593.md\n",
      "\t _build/html/2209.04304.md\n",
      "\t _build/html/2209.03367.md\n",
      "\t _build/html/2209.02872.md\n",
      "\t _build/html/2209.02725.md\n",
      "\t _build/html/2209.02722.md\n",
      "\t _build/html/2209.02092.md\n",
      "\t _build/html/2209.01125.md\n",
      "\t _build/html/2209.00828.md\n",
      "\t _build/html/2209.00363.md\n",
      "\t _build/html/2208.14927.md\n",
      "\t _build/html/2208.09335.md\n",
      "\t _build/html/2208.08872.md\n",
      "\t _build/html/2204.06393.md\n",
      "\t _build/html/2204.03335.md\n",
      "\t _build/html/2204.03253.md\n",
      "\t _build/html/2204.02998.md\n",
      "\t _build/html/2204.02109.md\n",
      "\t _build/html/2204.02017.md\n",
      "\t _build/html/2204.01824.md\n",
      "\t _build/html/2204.01758.md\n",
      "\t _build/html/2204.01245.md\n",
      "\t _build/html/2204.00793.md\n",
      "\t _build/html/2204.00342.md\n",
      "\t _build/html/2203.16959.md\n",
      "\t _build/html/2203.16856.md\n",
      "\t _build/html/2203.16735.md\n",
      "\t _build/html/2203.16734.md\n",
      "\t _build/html/2203.16504.md\n",
      "\t _build/html/2203.15822.md\n",
      "\t _build/html/2203.15811.md\n"
     ]
    }
   ],
   "source": [
    "from datetime import datetime, timedelta, timezone\n",
    "from glob import glob\n",
    "\n",
    "files = glob('_build/html/*.md')\n",
    "days = 7\n",
    "now = datetime.today()\n",
    "res = []\n",
    "for fk in files:\n",
    "    stat_result = os.stat(fk).st_ctime\n",
    "    modified = datetime.fromtimestamp(stat_result, tz=timezone.utc).replace(tzinfo=None)\n",
    "    delta = now.today() - modified\n",
    "    if delta <= timedelta(days=days):\n",
    "        res.append((delta.seconds, fk))\n",
    "res = [k[1] for k in reversed(sorted(res, key=lambda x:x[1]))]\n",
    "npub = len(res)\n",
    "print(len(res), f\" publications in the last {days:d} days.\")\n",
    "[ print('\\t', k) for k in res ];"
   ]
  },
  {
   "cell_type": "code",
   "execution_count": 11,
   "id": "52ca0208",
   "metadata": {
    "execution": {
     "iopub.execute_input": "2022-12-02T04:09:19.488814Z",
     "iopub.status.busy": "2022-12-02T04:09:19.488494Z",
     "iopub.status.idle": "2022-12-02T04:09:19.495327Z",
     "shell.execute_reply": "2022-12-02T04:09:19.494787Z"
    },
    "papermill": {
     "duration": 0.053909,
     "end_time": "2022-12-02T04:09:19.496934",
     "exception": false,
     "start_time": "2022-12-02T04:09:19.443025",
     "status": "completed"
    },
    "scrolled": false,
    "tags": []
   },
   "outputs": [],
   "source": [
    "def create_carousel(npub=4):\n",
    "    \"\"\" Generate the HTML code for a carousel with `npub` slides \"\"\"\n",
    "    carousel = [\"\"\"<section class=\"carousel\" aria-label=\"Gallery\">\"\"\",\n",
    "                \"\"\"  <ol class=\"carousel__viewport\">\"\"\",\n",
    "    ]\n",
    "    for k in range(1, npub + 1):\n",
    "        prev_ = k - 1\n",
    "        next_ = k + 1\n",
    "        if prev_ <= 0:\n",
    "            prev_ = npub\n",
    "        if next_ > npub:\n",
    "            next_ = 1\n",
    "        text  = f\"\"\"    <li id=\"carousel__slide{k}\" tabindex=\"0\" class=\"carousel__slide\">\\n\"\"\"\n",
    "        text += f\"\"\"       <div class=\"carousel__snapper\">\\n\"\"\"\n",
    "        text += f\"\"\"         <a href=\"#carousel__slide{prev_}\" class=\"carousel__prev\">Go to previous slide</a>\\n\"\"\"\n",
    "        text += f\"\"\"         <a href=\"#carousel__slide{next_}\" class=\"carousel__next\">Go to next slide</a>\\n\"\"\"\n",
    "        text += f\"\"\"         <div id=\"slide{k}_content\" class=\"md_view\" >Content {k}</div>\\n\"\"\"\n",
    "        text += f\"\"\"       </div>\\n\"\"\"\n",
    "        text += f\"\"\"    </li>\"\"\"\n",
    "        carousel.append(text)\n",
    "\n",
    "    carousel.extend([\n",
    "        \"\"\"  </ol>\"\"\",\n",
    "        \"\"\"  <aside class=\"carousel__navigation\">\"\"\",\n",
    "        \"\"\"    <ol class=\"carousel__navigation-list\">\"\"\"])\n",
    "\n",
    "    for k in range(1, npub + 1):\n",
    "        text  = f\"\"\"      <li class=\"carousel__navigation-item\">\\n\"\"\"\n",
    "        text += f\"\"\"        <a href=\"#carousel__slide{k}\" class=\"carousel__navigation-button\">Go to {k}</a>\\n\"\"\"\n",
    "        text += f\"\"\"      </li>\"\"\"\n",
    "        carousel.append(text)\n",
    "    carousel.extend([\"\"\"    </ol>\"\"\", \"\"\"  </aside>\"\"\", \"\"\"</section>\"\"\"])\n",
    "\n",
    "    return '\\n'.join(carousel)"
   ]
  },
  {
   "cell_type": "code",
   "execution_count": 12,
   "id": "a6eac5b6",
   "metadata": {
    "execution": {
     "iopub.execute_input": "2022-12-02T04:09:19.523289Z",
     "iopub.status.busy": "2022-12-02T04:09:19.522955Z",
     "iopub.status.idle": "2022-12-02T04:09:19.529684Z",
     "shell.execute_reply": "2022-12-02T04:09:19.529149Z"
    },
    "papermill": {
     "duration": 0.023436,
     "end_time": "2022-12-02T04:09:19.532642",
     "exception": false,
     "start_time": "2022-12-02T04:09:19.509206",
     "status": "completed"
    },
    "scrolled": false,
    "tags": []
   },
   "outputs": [],
   "source": [
    "carousel = create_carousel(npub)\n",
    "docs = ', '.join(['\"{0:s}\"'.format(k.split('/')[-1]) for k in res])\n",
    "slides = ', '.join([f'\"slide{k}_content\"' for k in range(1, npub + 1)])\n",
    "\n",
    "script = f\"\"\"\n",
    "const docs = [{docs}]\n",
    "\n",
    "const slides = [{slides}]\n",
    "\"\"\" + \"\"\"\n",
    "async function run() {\n",
    "    for (let i = 0; i < docs.length; i++) {\n",
    "        let file = await fetch(docs[i]);\n",
    "        let text = await file.text()\n",
    "        document.getElementById(slides[i]).innerHTML =\n",
    "            marked.parse(text);\n",
    "    }\n",
    "    hljs.highlightAll();\n",
    "}\n",
    "run()\n",
    "\"\"\"\n",
    "\n",
    "page = f\"\"\"<!doctype html>\n",
    "<html lang=\"en\">\n",
    "\n",
    "<head>\n",
    "  <meta charset=\"utf-8\">\n",
    "  <meta name=\"viewport\" content=\"width=device-width, initial-scale=1\">\n",
    "  <!-- Bootstrap CSS -->\n",
    "  <link href=\"https://cdn.jsdelivr.net/npm/bootstrap@5.0.2/dist/css/bootstrap.min.css\" rel=\"stylesheet\"\n",
    "   integrity=\"sha384-EVSTQN3/azprG1Anm3QDgpJLIm9Nao0Yz1ztcQTwFspd3yD65VohhpuuCOmLASjC\" crossorigin=\"anonymous\">\n",
    "  <!-- highlight.js CSS -->\n",
    "  <link rel=\"stylesheet\" href=\"https://cdnjs.cloudflare.com/ajax/libs/highlight.js/11.1.0/styles/default.min.css\">\n",
    "  <!-- Mathjax 3 -->\n",
    "  <script type=\"text/javascript\" id=\"MathJax-config\" src=\"mathjax_config.js\"> </script>\n",
    "  <script type=\"text/javascript\" id=\"MathJax-script\" async \n",
    "    src=\"https://cdn.jsdelivr.net/npm/mathjax@3/es5/tex-mml-chtml.js\">\n",
    "  </script>\n",
    "  <link rel=\"stylesheet\" href=\"index_carousel.css\">\n",
    "  <link rel=\"icon\" type=\"image/x-icon\" href=\"https://www.mpia.de/assets/touch-icon-32x32-a66937bcebc4e8894ebff1f41a366c7c7220fd97a38869ee0f2db65a9f59b6c1.png\">\n",
    "  <title>MPIA Arxiv on deck!</title>\n",
    "</head>\n",
    "\n",
    "<body>\n",
    "  <div id=\"header\"> <img src=\"header_banner.png\" width=\"100%\"></div>\n",
    "  <div id=\"suptitle\"> 7-day archives </div>\n",
    "  <div id=\"info\">\n",
    "    <img src=\"https://pngimg.com/uploads/github/github_PNG58.png\" height=30rem></img>\n",
    "    <a href=https://github.com/mpi-astronomy/arxiv_display style=\"color:black;\">github/mpi-astronomy/arxiv_display</a> \n",
    "  </div>\n",
    "  {carousel:s}\n",
    "</body>\n",
    "\n",
    "<!-- Render Markdown -->\n",
    "\n",
    "<body>\n",
    "  <!-- highlight.js: https://highlightjs.org/download/ -->\n",
    "  <script src=\"https://cdnjs.cloudflare.com/ajax/libs/highlight.js/11.5.0/highlight.min.js\"></script>\n",
    "  <!-- marked.js -->\n",
    "  <script src=\"https://cdn.jsdelivr.net/npm/marked/marked.min.js\"></script>\n",
    "  <script>{script:s}</script>\n",
    "</body>\n",
    "</html>\n",
    "\"\"\"\n",
    "with open(\"_build/html/index_7days.html\", 'w') as fout:\n",
    "    fout.write(page)"
   ]
  },
  {
   "cell_type": "markdown",
   "id": "1cebacbc",
   "metadata": {
    "papermill": {
     "duration": 0.011842,
     "end_time": "2022-12-02T04:09:19.556429",
     "exception": false,
     "start_time": "2022-12-02T04:09:19.544587",
     "status": "completed"
    },
    "tags": []
   },
   "source": [
    "# Debugging papers"
   ]
  },
  {
   "cell_type": "raw",
   "id": "debe7cc6",
   "metadata": {
    "papermill": {
     "duration": 0.011883,
     "end_time": "2022-12-02T04:09:19.580255",
     "exception": false,
     "start_time": "2022-12-02T04:09:19.568372",
     "status": "completed"
    },
    "tags": []
   },
   "source": [
    "raise NotImplementedError(\"Manual Stop\")"
   ]
  },
  {
   "cell_type": "raw",
   "id": "eb169192",
   "metadata": {
    "papermill": {
     "duration": 0.011917,
     "end_time": "2022-12-02T04:09:19.604176",
     "exception": false,
     "start_time": "2022-12-02T04:09:19.592259",
     "status": "completed"
    },
    "scrolled": true,
    "tags": []
   },
   "source": [
    "from IPython.display import display, Markdown\n",
    "from TexSoup import TexSoup\n",
    "import re\n",
    "\n",
    "def bracket_error(source: str):\n",
    "    \"\"\" Find problematic portions of the document \"\"\"\n",
    "    \n",
    "    print(\"len(source)\", len(source))\n",
    "    \n",
    "    # Checking header\n",
    "    begin_doc = next(re.finditer(r'\\\\begin\\{document\\}', doc.source)).span()[1]\n",
    "    header = source[:begin_doc]\n",
    "    text = header + r\"\\n\\end{document}\"\n",
    "\n",
    "    try:\n",
    "        # print(\"Header check... \", end='')\n",
    "        TexSoup(text)\n",
    "        display(Markdown(f\"**[OK]** - Header\"))\n",
    "    except:\n",
    "        raise RuntimeError(\"Error in the header\")\n",
    "        \n",
    "    # Check the text per section until the end.\n",
    "    # Do not stop and try them all.\n",
    "    \n",
    "    problematic_text = []\n",
    "    \n",
    "    sections = ([(0, begin_doc, 'until first section')] + \n",
    "                [(g.span()[0], g.span()[1], g.group()) for g in re.finditer(r'\\\\section\\{.*\\}', source)] +\n",
    "                [(g.span()[0], g.span()[1], g.group()) for g in re.finditer(r'\\\\begin\\{appendix\\}', source)]\n",
    "               )\n",
    "    sections.append([len(source), len(source), 'end'])\n",
    "    \n",
    "    sections = sorted(sections, key=lambda x: x[0])\n",
    "    \n",
    "    prev_pos, prev_name = (0, 'header')\n",
    "    parsed = []\n",
    "    \n",
    "    for span, span_end, name in sections:\n",
    "\n",
    "        if span - prev_pos <= 0:\n",
    "            continue\n",
    "            \n",
    "\n",
    "        text = source[prev_pos:span]\n",
    "        if prev_pos > begin_doc:\n",
    "            text = r\"\\n\\begin{document}\" + text + r\"\\n\\end{document}\"\n",
    "        else:\n",
    "            text = text + r\"\\n\\end{document}\"\n",
    "        try:\n",
    "            #print(f\"{prev_pos}:{prev_name}-->{span}:{name} check... \", end='')\n",
    "            parsed.append(TexSoup(text, tolerance=1))  # allow not ending env\n",
    "            display(Markdown(f\"**[OK]** - *{prev_pos}*:{prev_name} &rarr; *{span}*:{name}\"))\n",
    "            # print(\"ok\")\n",
    "\n",
    "            prev_pos = span\n",
    "            prev_name = name\n",
    "        except:\n",
    "            # print(f\"error between {prev_pos} and {span}\")\n",
    "            display(Markdown(f\"**[ERR]** *{prev_pos}*:{prev_name} &rarr; *{span}*:{name}\"))\n",
    "            problematic_text.append((prev_pos, source[prev_pos:span]))\n",
    "            prev_pos = span\n",
    "            prev_name = name\n",
    "            # raise\n",
    "    return problematic_text, parsed\n",
    "\n",
    "\n",
    "def check_environment(text, offset=0):\n",
    "    \"\"\" Check environment \"\"\"\n",
    "    env = re.compile(r\"\\\\begin\\{(?P<env>.*)\\}(.*)\\\\end\\{(?P=env)\\}\", re.DOTALL)\n",
    "\n",
    "    for match in env.finditer(text):\n",
    "        beg, end = match.span()\n",
    "        beg += offset\n",
    "        end += offset\n",
    "        envname = match.groups()[0]\n",
    "        try:\n",
    "            latex.TexSoup(match.group())\n",
    "        except Exception as e:\n",
    "            display(e)\n",
    "            print(f\"Error in {envname:s} between {beg} and {end}\")\n",
    "            return match.groups()[1], beg, end"
   ]
  },
  {
   "cell_type": "raw",
   "id": "2315e835",
   "metadata": {
    "papermill": {
     "duration": 0.011972,
     "end_time": "2022-12-02T04:09:19.628294",
     "exception": false,
     "start_time": "2022-12-02T04:09:19.616322",
     "status": "completed"
    },
    "scrolled": false,
    "tags": []
   },
   "source": [
    "import importlib\n",
    "importlib.reload(latex)\n",
    "which = \"2204.03253\"\n",
    "paper_id = f'{which:s}'\n",
    "folder = f'tmp_{paper_id:s}'\n",
    "\n",
    "if not os.path.isdir(folder):\n",
    "    folder = retrieve_document_source(f\"{paper_id}\", f'tmp_{paper_id}')\n",
    "\n",
    "try:\n",
    "    doc = latex.LatexDocument(folder, validation=validation)    \n",
    "except AffiliationError as affilerror:\n",
    "    msg = f\"ArXiv:{paper_id:s} is not an MPIA paper... \" + str(affilerror)\n",
    "    print(msg)\n",
    "\n",
    "\n",
    "# Hack because sometimes author parsing does not work well\n",
    "if (len(doc.authors) != len(paper['authors'])):\n",
    "    doc._authors = paper['authors']\n",
    "if (doc.abstract) in (None, ''):\n",
    "    doc._abstract = paper['abstract']\n",
    "\n",
    "doc.comment = get_markdown_badge(paper_id) + \" _\" + paper['comments'] + \"_\"\n",
    "doc.highlight_authors_in_list(hl_list)\n",
    "\n",
    "full_md = doc.generate_markdown_text()"
   ]
  },
  {
   "cell_type": "raw",
   "id": "dd3781db",
   "metadata": {
    "papermill": {
     "duration": 0.011936,
     "end_time": "2022-12-02T04:09:19.652235",
     "exception": false,
     "start_time": "2022-12-02T04:09:19.640299",
     "status": "completed"
    },
    "scrolled": false,
    "tags": []
   },
   "source": [
    "doc"
   ]
  },
  {
   "cell_type": "raw",
   "id": "c6eed834",
   "metadata": {
    "papermill": {
     "duration": 0.011915,
     "end_time": "2022-12-02T04:09:19.676033",
     "exception": false,
     "start_time": "2022-12-02T04:09:19.664118",
     "status": "completed"
    },
    "tags": []
   },
   "source": [
    "# [check_environment(k) for k in bracket_error(doc.source)]\n",
    "_, _, a = latex.get_content_per_section(doc.source, verbose=True)\n",
    "if not a:\n",
    "    print(\"no issues per section\")\n",
    "for ak in a:\n",
    "    r = check_environment(ak[1], offset=ak[0])\n",
    "    print(r[1], r[2])\n",
    "    print(r[0])"
   ]
  },
  {
   "cell_type": "code",
   "execution_count": null,
   "id": "71ce768a",
   "metadata": {
    "papermill": {
     "duration": 0.011931,
     "end_time": "2022-12-02T04:09:19.699925",
     "exception": false,
     "start_time": "2022-12-02T04:09:19.687994",
     "status": "completed"
    },
    "tags": []
   },
   "outputs": [],
   "source": []
  }
 ],
 "metadata": {
  "kernelspec": {
   "display_name": "Python 3.10.6 64-bit",
   "language": "python",
   "name": "python3"
  },
  "language_info": {
   "codemirror_mode": {
    "name": "ipython",
    "version": 3
   },
   "file_extension": ".py",
   "mimetype": "text/x-python",
   "name": "python",
   "nbconvert_exporter": "python",
   "pygments_lexer": "ipython3",
   "version": "3.9.15"
  },
  "papermill": {
   "default_parameters": {},
   "duration": 147.083886,
   "end_time": "2022-12-02T04:09:19.931772",
   "environment_variables": {},
   "exception": null,
   "input_path": "MPIA daily digest.ipynb",
   "output_path": "log.ipynb",
   "parameters": {},
   "start_time": "2022-12-02T04:06:52.847886",
   "version": "2.4.0"
  },
  "vscode": {
   "interpreter": {
    "hash": "e7370f93d1d0cde622a1f8e1c04877d8463912d04d973331ad4851f04de6915a"
   }
  },
  "widgets": {
   "application/vnd.jupyter.widget-state+json": {
    "state": {
     "251eb03767b14ed5926c5fb487813cfb": {
      "model_module": "@jupyter-widgets/controls",
      "model_module_version": "2.0.0",
      "model_name": "HBoxModel",
      "state": {
       "_dom_classes": [],
       "_model_module": "@jupyter-widgets/controls",
       "_model_module_version": "2.0.0",
       "_model_name": "HBoxModel",
       "_view_count": null,
       "_view_module": "@jupyter-widgets/controls",
       "_view_module_version": "2.0.0",
       "_view_name": "HBoxView",
       "box_style": "",
       "children": [
        "IPY_MODEL_8c192b7e4e8541d0a133ff7f626a703f",
        "IPY_MODEL_e9ee2bb154c849fcae9bf867fdefde38",
        "IPY_MODEL_f299221b4bb14a5991e1a022004e8d5f"
       ],
       "layout": "IPY_MODEL_296e2904928c423486750096ae23a792",
       "tabbable": null,
       "tooltip": null
      }
     },
     "296e2904928c423486750096ae23a792": {
      "model_module": "@jupyter-widgets/base",
      "model_module_version": "2.0.0",
      "model_name": "LayoutModel",
      "state": {
       "_model_module": "@jupyter-widgets/base",
       "_model_module_version": "2.0.0",
       "_model_name": "LayoutModel",
       "_view_count": null,
       "_view_module": "@jupyter-widgets/base",
       "_view_module_version": "2.0.0",
       "_view_name": "LayoutView",
       "align_content": null,
       "align_items": null,
       "align_self": null,
       "border_bottom": null,
       "border_left": null,
       "border_right": null,
       "border_top": null,
       "bottom": null,
       "display": null,
       "flex": null,
       "flex_flow": null,
       "grid_area": null,
       "grid_auto_columns": null,
       "grid_auto_flow": null,
       "grid_auto_rows": null,
       "grid_column": null,
       "grid_gap": null,
       "grid_row": null,
       "grid_template_areas": null,
       "grid_template_columns": null,
       "grid_template_rows": null,
       "height": null,
       "justify_content": null,
       "justify_items": null,
       "left": null,
       "margin": null,
       "max_height": null,
       "max_width": null,
       "min_height": null,
       "min_width": null,
       "object_fit": null,
       "object_position": null,
       "order": null,
       "overflow": null,
       "padding": null,
       "right": null,
       "top": null,
       "visibility": null,
       "width": null
      }
     },
     "4eca99ed21bb428c9ac80798c028fc81": {
      "model_module": "@jupyter-widgets/controls",
      "model_module_version": "2.0.0",
      "model_name": "HTMLStyleModel",
      "state": {
       "_model_module": "@jupyter-widgets/controls",
       "_model_module_version": "2.0.0",
       "_model_name": "HTMLStyleModel",
       "_view_count": null,
       "_view_module": "@jupyter-widgets/base",
       "_view_module_version": "2.0.0",
       "_view_name": "StyleView",
       "background": null,
       "description_width": "",
       "font_size": null,
       "text_color": null
      }
     },
     "5bab2ad2ea2a4ca1ba2b0a482284d424": {
      "model_module": "@jupyter-widgets/base",
      "model_module_version": "2.0.0",
      "model_name": "LayoutModel",
      "state": {
       "_model_module": "@jupyter-widgets/base",
       "_model_module_version": "2.0.0",
       "_model_name": "LayoutModel",
       "_view_count": null,
       "_view_module": "@jupyter-widgets/base",
       "_view_module_version": "2.0.0",
       "_view_name": "LayoutView",
       "align_content": null,
       "align_items": null,
       "align_self": null,
       "border_bottom": null,
       "border_left": null,
       "border_right": null,
       "border_top": null,
       "bottom": null,
       "display": null,
       "flex": null,
       "flex_flow": null,
       "grid_area": null,
       "grid_auto_columns": null,
       "grid_auto_flow": null,
       "grid_auto_rows": null,
       "grid_column": null,
       "grid_gap": null,
       "grid_row": null,
       "grid_template_areas": null,
       "grid_template_columns": null,
       "grid_template_rows": null,
       "height": null,
       "justify_content": null,
       "justify_items": null,
       "left": null,
       "margin": null,
       "max_height": null,
       "max_width": null,
       "min_height": null,
       "min_width": null,
       "object_fit": null,
       "object_position": null,
       "order": null,
       "overflow": null,
       "padding": null,
       "right": null,
       "top": null,
       "visibility": null,
       "width": null
      }
     },
     "5cd3656d57424890b4479aa5d502a925": {
      "model_module": "@jupyter-widgets/base",
      "model_module_version": "2.0.0",
      "model_name": "LayoutModel",
      "state": {
       "_model_module": "@jupyter-widgets/base",
       "_model_module_version": "2.0.0",
       "_model_name": "LayoutModel",
       "_view_count": null,
       "_view_module": "@jupyter-widgets/base",
       "_view_module_version": "2.0.0",
       "_view_name": "LayoutView",
       "align_content": null,
       "align_items": null,
       "align_self": null,
       "border_bottom": null,
       "border_left": null,
       "border_right": null,
       "border_top": null,
       "bottom": null,
       "display": null,
       "flex": null,
       "flex_flow": null,
       "grid_area": null,
       "grid_auto_columns": null,
       "grid_auto_flow": null,
       "grid_auto_rows": null,
       "grid_column": null,
       "grid_gap": null,
       "grid_row": null,
       "grid_template_areas": null,
       "grid_template_columns": null,
       "grid_template_rows": null,
       "height": null,
       "justify_content": null,
       "justify_items": null,
       "left": null,
       "margin": null,
       "max_height": null,
       "max_width": null,
       "min_height": null,
       "min_width": null,
       "object_fit": null,
       "object_position": null,
       "order": null,
       "overflow": null,
       "padding": null,
       "right": null,
       "top": null,
       "visibility": null,
       "width": null
      }
     },
     "8c192b7e4e8541d0a133ff7f626a703f": {
      "model_module": "@jupyter-widgets/controls",
      "model_module_version": "2.0.0",
      "model_name": "HTMLModel",
      "state": {
       "_dom_classes": [],
       "_model_module": "@jupyter-widgets/controls",
       "_model_module_version": "2.0.0",
       "_model_name": "HTMLModel",
       "_view_count": null,
       "_view_module": "@jupyter-widgets/controls",
       "_view_module_version": "2.0.0",
       "_view_name": "HTMLView",
       "description": "",
       "description_allow_html": false,
       "layout": "IPY_MODEL_5bab2ad2ea2a4ca1ba2b0a482284d424",
       "placeholder": "​",
       "style": "IPY_MODEL_4eca99ed21bb428c9ac80798c028fc81",
       "tabbable": null,
       "tooltip": null,
       "value": "100%"
      }
     },
     "8fc6169713694d4bbd129dfe9ec10b0f": {
      "model_module": "@jupyter-widgets/controls",
      "model_module_version": "2.0.0",
      "model_name": "HTMLStyleModel",
      "state": {
       "_model_module": "@jupyter-widgets/controls",
       "_model_module_version": "2.0.0",
       "_model_name": "HTMLStyleModel",
       "_view_count": null,
       "_view_module": "@jupyter-widgets/base",
       "_view_module_version": "2.0.0",
       "_view_name": "StyleView",
       "background": null,
       "description_width": "",
       "font_size": null,
       "text_color": null
      }
     },
     "e9ee2bb154c849fcae9bf867fdefde38": {
      "model_module": "@jupyter-widgets/controls",
      "model_module_version": "2.0.0",
      "model_name": "FloatProgressModel",
      "state": {
       "_dom_classes": [],
       "_model_module": "@jupyter-widgets/controls",
       "_model_module_version": "2.0.0",
       "_model_name": "FloatProgressModel",
       "_view_count": null,
       "_view_module": "@jupyter-widgets/controls",
       "_view_module_version": "2.0.0",
       "_view_name": "ProgressView",
       "bar_style": "success",
       "description": "",
       "description_allow_html": false,
       "layout": "IPY_MODEL_5cd3656d57424890b4479aa5d502a925",
       "max": 31.0,
       "min": 0.0,
       "orientation": "horizontal",
       "style": "IPY_MODEL_f67d128efcd848b88890791d2e9de7b4",
       "tabbable": null,
       "tooltip": null,
       "value": 31.0
      }
     },
     "f299221b4bb14a5991e1a022004e8d5f": {
      "model_module": "@jupyter-widgets/controls",
      "model_module_version": "2.0.0",
      "model_name": "HTMLModel",
      "state": {
       "_dom_classes": [],
       "_model_module": "@jupyter-widgets/controls",
       "_model_module_version": "2.0.0",
       "_model_name": "HTMLModel",
       "_view_count": null,
       "_view_module": "@jupyter-widgets/controls",
       "_view_module_version": "2.0.0",
       "_view_name": "HTMLView",
       "description": "",
       "description_allow_html": false,
       "layout": "IPY_MODEL_f29ab2e4f59e4fc887fd54f77e24c723",
       "placeholder": "​",
       "style": "IPY_MODEL_8fc6169713694d4bbd129dfe9ec10b0f",
       "tabbable": null,
       "tooltip": null,
       "value": " 31/31 [01:59&lt;00:00,  2.42s/it]"
      }
     },
     "f29ab2e4f59e4fc887fd54f77e24c723": {
      "model_module": "@jupyter-widgets/base",
      "model_module_version": "2.0.0",
      "model_name": "LayoutModel",
      "state": {
       "_model_module": "@jupyter-widgets/base",
       "_model_module_version": "2.0.0",
       "_model_name": "LayoutModel",
       "_view_count": null,
       "_view_module": "@jupyter-widgets/base",
       "_view_module_version": "2.0.0",
       "_view_name": "LayoutView",
       "align_content": null,
       "align_items": null,
       "align_self": null,
       "border_bottom": null,
       "border_left": null,
       "border_right": null,
       "border_top": null,
       "bottom": null,
       "display": null,
       "flex": null,
       "flex_flow": null,
       "grid_area": null,
       "grid_auto_columns": null,
       "grid_auto_flow": null,
       "grid_auto_rows": null,
       "grid_column": null,
       "grid_gap": null,
       "grid_row": null,
       "grid_template_areas": null,
       "grid_template_columns": null,
       "grid_template_rows": null,
       "height": null,
       "justify_content": null,
       "justify_items": null,
       "left": null,
       "margin": null,
       "max_height": null,
       "max_width": null,
       "min_height": null,
       "min_width": null,
       "object_fit": null,
       "object_position": null,
       "order": null,
       "overflow": null,
       "padding": null,
       "right": null,
       "top": null,
       "visibility": null,
       "width": null
      }
     },
     "f67d128efcd848b88890791d2e9de7b4": {
      "model_module": "@jupyter-widgets/controls",
      "model_module_version": "2.0.0",
      "model_name": "ProgressStyleModel",
      "state": {
       "_model_module": "@jupyter-widgets/controls",
       "_model_module_version": "2.0.0",
       "_model_name": "ProgressStyleModel",
       "_view_count": null,
       "_view_module": "@jupyter-widgets/base",
       "_view_module_version": "2.0.0",
       "_view_name": "StyleView",
       "bar_color": null,
       "description_width": ""
      }
     }
    },
    "version_major": 2,
    "version_minor": 0
   }
  }
 },
 "nbformat": 4,
 "nbformat_minor": 5
}