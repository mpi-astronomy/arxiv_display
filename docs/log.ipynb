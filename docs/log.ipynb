{
 "cells": [
  {
   "cell_type": "markdown",
   "id": "92bcb855",
   "metadata": {
    "papermill": {
     "duration": 0.008212,
     "end_time": "2023-03-27T11:09:10.097396",
     "exception": false,
     "start_time": "2023-03-27T11:09:10.089184",
     "status": "completed"
    },
    "tags": []
   },
   "source": [
    "# MPIA Arxiv on Deck 2\n",
    "\n",
    "Contains the steps to produce the paper extractions."
   ]
  },
  {
   "cell_type": "code",
   "execution_count": 1,
   "id": "3a0d6e11",
   "metadata": {
    "execution": {
     "iopub.execute_input": "2023-03-27T11:09:10.107846Z",
     "iopub.status.busy": "2023-03-27T11:09:10.107170Z",
     "iopub.status.idle": "2023-03-27T11:09:10.362303Z",
     "shell.execute_reply": "2023-03-27T11:09:10.361390Z"
    },
    "papermill": {
     "duration": 0.264122,
     "end_time": "2023-03-27T11:09:10.365747",
     "exception": false,
     "start_time": "2023-03-27T11:09:10.101625",
     "status": "completed"
    },
    "tags": []
   },
   "outputs": [],
   "source": [
    "# Imports\n",
    "import os\n",
    "from IPython.display import Markdown, display\n",
    "from tqdm.notebook import tqdm\n",
    "import warnings\n",
    "from PIL import Image \n",
    "\n",
    "# requires arxiv_on_deck_2\n",
    "\n",
    "from arxiv_on_deck_2.arxiv2 import (get_new_papers, \n",
    "                                    get_paper_from_identifier,\n",
    "                                    retrieve_document_source, \n",
    "                                    get_markdown_badge)\n",
    "from arxiv_on_deck_2 import (latex,\n",
    "                             latex_bib,\n",
    "                             mpia,\n",
    "                             highlight_authors_in_list)\n",
    "\n",
    "# Sometimes images are really big\n",
    "Image.MAX_IMAGE_PIXELS = 1000000000 "
   ]
  },
  {
   "cell_type": "code",
   "execution_count": 2,
   "id": "22aa9d44",
   "metadata": {
    "execution": {
     "iopub.execute_input": "2023-03-27T11:09:10.377742Z",
     "iopub.status.busy": "2023-03-27T11:09:10.377021Z",
     "iopub.status.idle": "2023-03-27T11:09:10.383526Z",
     "shell.execute_reply": "2023-03-27T11:09:10.382778Z"
    },
    "papermill": {
     "duration": 0.013545,
     "end_time": "2023-03-27T11:09:10.385327",
     "exception": false,
     "start_time": "2023-03-27T11:09:10.371782",
     "status": "completed"
    },
    "tags": []
   },
   "outputs": [],
   "source": [
    "# Some useful definitions.\n",
    "\n",
    "class AffiliationWarning(UserWarning):\n",
    "    pass\n",
    "\n",
    "class AffiliationError(RuntimeError):\n",
    "    pass\n",
    "\n",
    "def validation(source: str):\n",
    "    \"\"\"Raises error paper during parsing of source file\n",
    "    \n",
    "    Allows checks before parsing TeX code.\n",
    "    \n",
    "    Raises AffiliationWarning\n",
    "    \"\"\"\n",
    "    check = mpia.affiliation_verifications(source, verbose=True)\n",
    "    if check is not True:\n",
    "        raise AffiliationError(\"mpia.affiliation_verifications: \" + check)\n",
    "\n",
    "        \n",
    "warnings.simplefilter('always', AffiliationWarning)\n",
    "\n",
    "\n",
    "def get_markdown_qrcode(paper_id: str):\n",
    "    \"\"\" Generate a qrcode to the arxiv page using qrserver.com\n",
    "    \n",
    "    :param paper: Arxiv paper\n",
    "    :returns: markdown text\n",
    "    \"\"\"\n",
    "    url = r\"https://api.qrserver.com/v1/create-qr-code/?size=100x100&data=\"\n",
    "    txt = f\"\"\"<img src={url}\"https://arxiv.org/abs/{paper_id}\">\"\"\"\n",
    "    txt = '<div id=\"qrcode\">' + txt + '</div>'\n",
    "    return txt"
   ]
  },
  {
   "cell_type": "markdown",
   "id": "14bd6310",
   "metadata": {
    "papermill": {
     "duration": 0.003808,
     "end_time": "2023-03-27T11:09:10.393065",
     "exception": false,
     "start_time": "2023-03-27T11:09:10.389257",
     "status": "completed"
    },
    "tags": []
   },
   "source": [
    "## get list of arxiv paper candidates\n",
    "\n",
    "We use the MPIA mitarbeiter list webpage from mpia.de to get author names\n",
    "We then get all new papers from Arxiv and match authors"
   ]
  },
  {
   "cell_type": "code",
   "execution_count": 3,
   "id": "2645e73a",
   "metadata": {
    "execution": {
     "iopub.execute_input": "2023-03-27T11:09:10.402127Z",
     "iopub.status.busy": "2023-03-27T11:09:10.401506Z",
     "iopub.status.idle": "2023-03-27T11:09:40.552996Z",
     "shell.execute_reply": "2023-03-27T11:09:40.552070Z"
    },
    "papermill": {
     "duration": 30.16215,
     "end_time": "2023-03-27T11:09:40.559069",
     "exception": false,
     "start_time": "2023-03-27T11:09:10.396919",
     "status": "completed"
    },
    "tags": []
   },
   "outputs": [
    {
     "name": "stdout",
     "output_type": "stream",
     "text": [
      "Arxiv has 48 new papers today\n",
      "          6 with possible author matches\n"
     ]
    }
   ],
   "source": [
    "# get list from MPIA website\n",
    "# it automatically filters identified non-scientists :func:`mpia.filter_non_scientists`\n",
    "mpia_authors = mpia.get_mpia_mitarbeiter_list()\n",
    "normed_mpia_authors = [k[1] for k in mpia_authors]   # initials + fullname\n",
    "new_papers = get_new_papers()\n",
    "# add manual references\n",
    "add_paper_refs = []\n",
    "new_papers.extend([get_paper_from_identifier(k) for k in add_paper_refs])\n",
    "\n",
    "candidates = []\n",
    "for paperk in new_papers:\n",
    "    # Check author list with their initials\n",
    "    normed_author_list = [mpia.get_initials(k) for k in paperk['authors']]\n",
    "    hl_authors = highlight_authors_in_list(normed_author_list, normed_mpia_authors, verbose=True)\n",
    "    matches = [(hl, orig) for hl, orig in zip(hl_authors, paperk['authors']) if 'mark' in hl]\n",
    "    paperk['authors'] = hl_authors\n",
    "    if matches:\n",
    "        # only select paper if an author matched our list\n",
    "        candidates.append(paperk)\n",
    "print(\"\"\"Arxiv has {0:,d} new papers today\"\"\".format(len(new_papers)))        \n",
    "print(\"\"\"          {0:,d} with possible author matches\"\"\".format(len(candidates)))"
   ]
  },
  {
   "cell_type": "markdown",
   "id": "3543b34a",
   "metadata": {
    "papermill": {
     "duration": 0.003918,
     "end_time": "2023-03-27T11:09:40.567131",
     "exception": false,
     "start_time": "2023-03-27T11:09:40.563213",
     "status": "completed"
    },
    "tags": []
   },
   "source": [
    "# Parse sources and generate relevant outputs\n",
    "\n",
    "From the candidates, we do the following steps:\n",
    "* get their tarball from ArXiv (and extract data)\n",
    "* find the main .tex file: find one with \\documentclass{...} (sometimes it's non trivial)\n",
    "* Check affiliations with :func:`validation`, which uses :func:`mpia.affiliation_verifications`\n",
    "* If passing the affiliations: we parse the .tex source\n",
    "   * inject sub-documents into the main (flatten the main document)\n",
    "   * parse structure, extract information (title, abstract, authors, figures...)\n",
    "   * handles `\\graphicspath` if provided\n",
    "* Generate the .md document."
   ]
  },
  {
   "cell_type": "code",
   "execution_count": 4,
   "id": "9576b79e",
   "metadata": {
    "execution": {
     "iopub.execute_input": "2023-03-27T11:09:40.577186Z",
     "iopub.status.busy": "2023-03-27T11:09:40.576414Z",
     "iopub.status.idle": "2023-03-27T11:11:18.064106Z",
     "shell.execute_reply": "2023-03-27T11:11:18.063230Z"
    },
    "papermill": {
     "duration": 97.495513,
     "end_time": "2023-03-27T11:11:18.066597",
     "exception": false,
     "start_time": "2023-03-27T11:09:40.571084",
     "status": "completed"
    },
    "scrolled": false,
    "tags": []
   },
   "outputs": [
    {
     "data": {
      "application/vnd.jupyter.widget-view+json": {
       "model_id": "c5a892c011514fa2b2887569e63ae0e7",
       "version_major": 2,
       "version_minor": 0
      },
      "text/plain": [
       "  0%|          | 0/5 [00:00<?, ?it/s]"
      ]
     },
     "metadata": {},
     "output_type": "display_data"
    },
    {
     "name": "stdout",
     "output_type": "stream",
     "text": [
      "Retrieving document from  https://arxiv.org/e-print/2303.13573\n"
     ]
    },
    {
     "name": "stdout",
     "output_type": "stream",
     "text": [
      "extracting tarball to tmp_2303.13573..."
     ]
    },
    {
     "name": "stdout",
     "output_type": "stream",
     "text": [
      " done.\n"
     ]
    },
    {
     "name": "stderr",
     "output_type": "stream",
     "text": [
      "/opt/hostedtoolcache/Python/3.9.16/x64/lib/python3.9/site-packages/arxiv_on_deck_2/latex.py:473: LatexWarning: Error parsing the document directly. Trying to recover.\n",
      "  warnings.warn(LatexWarning(f\"Error parsing the document directly. Trying to recover.\"))\n"
     ]
    },
    {
     "name": "stdout",
     "output_type": "stream",
     "text": [
      "✔ → 0:header\n",
      "  ↳ 8399:\\section{Introduction} \\label{sec:intro}\n",
      "✔ → 8399:\\section{Introduction} \\label{sec:intro}\n",
      "  ↳ 14629:\\section{Observations} \\label{sec:observations}\n"
     ]
    },
    {
     "name": "stdout",
     "output_type": "stream",
     "text": [
      "✔ → 14629:\\section{Observations} \\label{sec:observations}\n",
      "  ↳ 16948:\\section{Analysis and interpretation} \\label{sec:analysis}\n"
     ]
    },
    {
     "name": "stdout",
     "output_type": "stream",
     "text": [
      "✘ → 16948:\\section{Analysis and interpretation} \\label{sec:analysis}\n",
      "  ↳ 48809:\\section{Conclusions}\n",
      "✔ → 48809:\\section{Conclusions}\n",
      "  ↳ 53908:\\section{\\emph{LISA} signal-to-noise ratio}\n",
      "✔ → 53908:\\section{\\emph{LISA} signal-to-noise ratio}\n",
      "  ↳ 54883:end\n"
     ]
    },
    {
     "name": "stderr",
     "output_type": "stream",
     "text": [
      "/opt/hostedtoolcache/Python/3.9.16/x64/lib/python3.9/site-packages/arxiv_on_deck_2/latex.py:680: LatexWarning: Falling back to regex to find figures\n",
      "  warnings.warn(LatexWarning(\"Falling back to regex to find figures\"))\n",
      "/opt/hostedtoolcache/Python/3.9.16/x64/lib/python3.9/site-packages/arxiv_on_deck_2/latex.py:683: LatexWarning: Fallback: found 7 figures.\n",
      "  warnings.warn(LatexWarning(\"Fallback: found \" + str(len(results)) + \" figures.\"))\n"
     ]
    },
    {
     "name": "stdout",
     "output_type": "stream",
     "text": [
      "Found 60 bibliographic references in tmp_2303.13573/sample631.bbl.\n",
      "Retrieving document from  https://arxiv.org/e-print/2303.13676\n"
     ]
    },
    {
     "name": "stdout",
     "output_type": "stream",
     "text": [
      "extracting tarball to tmp_2303.13676..."
     ]
    },
    {
     "name": "stdout",
     "output_type": "stream",
     "text": [
      " done.\n"
     ]
    },
    {
     "name": "stdout",
     "output_type": "stream",
     "text": [
      "Found 166 bibliographic references in tmp_2303.13676/Resolved_stellar_pops.bbl.\n",
      "syntax error in line 599: '=' expected\n",
      "Retrieving document from  https://arxiv.org/e-print/2303.13732\n"
     ]
    },
    {
     "name": "stdout",
     "output_type": "stream",
     "text": [
      "extracting tarball to tmp_2303.13732..."
     ]
    },
    {
     "name": "stdout",
     "output_type": "stream",
     "text": [
      " done.\n"
     ]
    },
    {
     "name": "stderr",
     "output_type": "stream",
     "text": [
      "/opt/hostedtoolcache/Python/3.9.16/x64/lib/python3.9/site-packages/IPython/core/interactiveshell.py:3460: LatexWarning: Multiple tex files.\n",
      "\n",
      "  exec(code_obj, self.user_global_ns, self.user_ns)\n",
      "/opt/hostedtoolcache/Python/3.9.16/x64/lib/python3.9/site-packages/IPython/core/interactiveshell.py:3460: LatexWarning: Found documentclass in tmp_2303.13732/W103b_R2.tex\n",
      "\n",
      "  exec(code_obj, self.user_global_ns, self.user_ns)\n"
     ]
    },
    {
     "name": "stdout",
     "output_type": "stream",
     "text": [
      "Found 90 bibliographic references in tmp_2303.13732/W103b_R2.bbl.\n",
      "Retrieving document from  https://arxiv.org/e-print/2303.13876\n"
     ]
    },
    {
     "name": "stdout",
     "output_type": "stream",
     "text": [
      "extracting tarball to tmp_2303.13876..."
     ]
    },
    {
     "name": "stdout",
     "output_type": "stream",
     "text": [
      " done.\n"
     ]
    },
    {
     "name": "stderr",
     "output_type": "stream",
     "text": [
      "/tmp/ipykernel_2090/1863104449.py:49: LatexWarning: 2303.13876 did not run properly\n",
      "[Errno 2] No such file or directory: 'gs'\n",
      "  warnings.warn(latex.LatexWarning(f\"{paper_id:s} did not run properly\\n\" +\n"
     ]
    },
    {
     "name": "stdout",
     "output_type": "stream",
     "text": [
      "Retrieving document from  https://arxiv.org/e-print/2303.13980\n"
     ]
    },
    {
     "name": "stdout",
     "output_type": "stream",
     "text": [
      "extracting tarball to tmp_2303.13980..."
     ]
    },
    {
     "name": "stdout",
     "output_type": "stream",
     "text": [
      " done.\n"
     ]
    }
   ],
   "source": [
    "documents = []\n",
    "failed = []\n",
    "for paper in tqdm(candidates[:-1]):\n",
    "    paper_id = paper['identifier'].lower().replace('arxiv:', '')\n",
    "    \n",
    "    folder = f'tmp_{paper_id}'\n",
    "\n",
    "    try:\n",
    "        if not os.path.isdir(folder):\n",
    "            folder = retrieve_document_source(f\"{paper_id}\", f'tmp_{paper_id}')\n",
    "        \n",
    "        try:\n",
    "            doc = latex.LatexDocument(folder, validation=validation)    \n",
    "        except AffiliationError as affilerror:\n",
    "            msg = f\"ArXiv:{paper_id:s} is not an MPIA paper... \" + str(affilerror)\n",
    "            failed.append((paper, \"affiliation error: \" + str(affilerror) ))\n",
    "            continue\n",
    "        \n",
    "        # Hack because sometimes author parsing does not work well\n",
    "        if (len(doc.authors) != len(paper['authors'])):\n",
    "            doc._authors = paper['authors']\n",
    "        else:\n",
    "            # highlight authors (FIXME: doc.highlight_authors)\n",
    "            # done on arxiv paper already\n",
    "            doc._authors = highlight_authors_in_list(\n",
    "                [mpia.get_initials(k) for k in doc.authors], \n",
    "                normed_mpia_authors, verbose=True)\n",
    "        if (doc.abstract) in (None, ''):\n",
    "            doc._abstract = paper['abstract']\n",
    "            \n",
    "        doc.comment = (get_markdown_badge(paper_id) + \n",
    "                       \"<mark>Appeared on: \" + paper['date'] + \"</mark> - \")\n",
    "        if paper['comments']:\n",
    "            doc.comment += \" _\" + paper['comments'] + \"_\"\n",
    "        \n",
    "        full_md = doc.generate_markdown_text()\n",
    "        \n",
    "        full_md += get_markdown_qrcode(paper_id)\n",
    "        \n",
    "        # replace citations\n",
    "        try:\n",
    "            bibdata = latex_bib.LatexBib.from_doc(doc)\n",
    "            full_md = latex_bib.replace_citations(full_md, bibdata)\n",
    "        except Exception as e:\n",
    "            print(e)\n",
    "        \n",
    "        documents.append((paper_id, full_md))\n",
    "    except Exception as e:\n",
    "        warnings.warn(latex.LatexWarning(f\"{paper_id:s} did not run properly\\n\" +\n",
    "                                         str(e)\n",
    "                                        ))\n",
    "        failed.append((paper, \"latex error \" + str(e)))"
   ]
  },
  {
   "cell_type": "markdown",
   "id": "2505a25c",
   "metadata": {
    "papermill": {
     "duration": 0.007129,
     "end_time": "2023-03-27T11:11:18.079607",
     "exception": false,
     "start_time": "2023-03-27T11:11:18.072478",
     "status": "completed"
    },
    "tags": []
   },
   "source": [
    "### Export the logs\n",
    "\n",
    "Throughout, we also keep track of the logs per paper. see `logs-{today date}.md` "
   ]
  },
  {
   "cell_type": "code",
   "execution_count": 5,
   "id": "d733828a",
   "metadata": {
    "execution": {
     "iopub.execute_input": "2023-03-27T11:11:18.093595Z",
     "iopub.status.busy": "2023-03-27T11:11:18.092593Z",
     "iopub.status.idle": "2023-03-27T11:11:18.116376Z",
     "shell.execute_reply": "2023-03-27T11:11:18.115707Z"
    },
    "papermill": {
     "duration": 0.034298,
     "end_time": "2023-03-27T11:11:18.119466",
     "exception": false,
     "start_time": "2023-03-27T11:11:18.085168",
     "status": "completed"
    },
    "scrolled": false,
    "tags": []
   },
   "outputs": [
    {
     "data": {
      "text/markdown": [
       "## Successful papers"
      ],
      "text/plain": [
       "<IPython.core.display.Markdown object>"
      ]
     },
     "metadata": {},
     "output_type": "display_data"
    },
    {
     "data": {
      "text/markdown": [
       "\n",
       "|||\n",
       "|---:|:---|\n",
       "| [![arXiv](https://img.shields.io/badge/arXiv-arXiv:2303.13573-b31b1b.svg)](https://arxiv.org/abs/arXiv:2303.13573) | **Orbital decay in an accreting and eclipsing 13.7 minute orbital period  binary with a luminous donor**  |\n",
       "|| K. B. Burdge, et al. -- incl., <mark>K. El-Badry</mark> |\n",
       "|*Appeared on*| *2023-03-27*|\n",
       "|*Comments*| *13 pages, 7 figures, 2 tables, submitted to ApJL*|\n",
       "|**Abstract**| We report the discovery of ZTF J0127+5258, a compact mass-transferring binary with an orbital period of 13.7 minutes. The system contains a white dwarf accretor, which likely originated as a post-common envelope carbon-oxygen (CO) white dwarf, and a warm donor ($T_{\\rm eff,\\,donor}= 16,400\\pm1000\\,\\rm K$). The donor probably formed during a common envelope phase between the CO white dwarf and an evolving giant which left behind a helium star or helium white dwarf in a close orbit with the CO white dwarf. We measure gravitational wave-driven orbital inspiral with $\\sim 35\\sigma$ significance, which yields a joint constraint on the component masses and mass transfer rate. While the accretion disk in the system is dominated by ionized helium emission, the donor exhibits a mixture of hydrogen and helium absorption lines. Phase-resolved spectroscopy yields a donor radial-velocity semi-amplitude of $771\\pm27\\,\\rm km\\, s^{-1}$, and high-speed photometry reveals that the system is eclipsing. We detect a {\\it Chandra} X-ray counterpart with $L_{X}\\sim 3\\times 10^{31}\\,\\rm erg\\,s^{-1}$. Depending on the mass-transfer rate, the system will likely evolve into either a stably mass-transferring helium CV, merge to become an R Crb star, or explode as a Type Ia supernova in the next million years. We predict that the Laser Space Interferometer Antenna (LISA) will detect the source with a signal-to-noise ratio of $24\\pm6$ after 4 years of observations. The system is the first \\emph{LISA}-loud mass-transferring binary with an intrinsically luminous donor, a class of sources that provide the opportunity to leverage the synergy between optical and infrared time domain surveys, X-ray facilities, and gravitational-wave observatories to probe general relativity, accretion physics, and binary evolution. |"
      ],
      "text/plain": [
       "[arXiv:2303.13573] Orbital decay in an accreting and eclipsing 13.7 minute orbital period  binary with a luminous donor\n",
       "\tK. B. Burdge, et al. -- incl., <mark>K. El-Badry</mark>"
      ]
     },
     "metadata": {},
     "output_type": "display_data"
    },
    {
     "data": {
      "text/markdown": [
       "\n",
       "|||\n",
       "|---:|:---|\n",
       "| [![arXiv](https://img.shields.io/badge/arXiv-arXiv:2303.13676-b31b1b.svg)](https://arxiv.org/abs/arXiv:2303.13676) | **Resolved stellar population properties of PHANGS-MUSE galaxies**  |\n",
       "|| I. Pessa, et al. -- incl., <mark>E. Schinnerer</mark>, <mark>J. Neumann</mark>, <mark>K. Kreckel</mark>, <mark>F. Pinna</mark> |\n",
       "|*Appeared on*| *2023-03-27*|\n",
       "|*Comments*| *52 pages, 48 figures, accepted for publication in A&A*|\n",
       "|**Abstract**| Analyzing resolved stellar populations across the disk of a galaxy can provide unique insights into how that galaxy assembled its stellar mass over its lifetime. Previous work at ~1 kpc resolution has already revealed common features in the mass buildup (e.g., inside-out growth of galaxies). However, even at approximate kpc scales, the stellar populations are blurred between the different galactic morphological structures such as spiral arms, bars and bulges. Here we present a detailed analysis of the spatially resolved star formation histories (SFHs) of 19 PHANGS-MUSE galaxies, at a spatial resolution of ~100 pc. We show that our sample of local galaxies exhibits predominantly negative radial gradients of stellar age and [Z/H], consistent with previous findings, and a radial structure that is primarily consistent with local star formation, and indicative of inside-out formation. In barred galaxies, we find flatter [Z/H] gradients along the semi-major axis of the bar than along the semi-minor axis, as is expected from the radial mixing of material along the bar. In general, the derived assembly histories of the galaxies in our sample tell a consistent story of inside-out growth, where low-mass galaxies assembled the majority of their stellar mass later in cosmic history than high-mass galaxies. We also show how stellar populations of different ages exhibit different kinematics, with younger stellar populations having lower velocity dispersions than older stellar populations at similar galactocentric distances, which we interpret as an imprint of the progressive dynamical heating of stellar populations as they age. Finally, we explore how the time-averaged star formation rate evolves with time, and how it varies across galactic disks. This analysis reveals a wide variation of the SFHs of galaxy centers and additionally shows that structural features become less pronounced with age. |"
      ],
      "text/plain": [
       "[arXiv:2303.13676] Resolved stellar population properties of PHANGS-MUSE galaxies\n",
       "\tI. Pessa, et al. -- incl., <mark>E. Schinnerer</mark>, <mark>J. Neumann</mark>, <mark>K. Kreckel</mark>, <mark>F. Pinna</mark>"
      ]
     },
     "metadata": {},
     "output_type": "display_data"
    },
    {
     "data": {
      "text/markdown": [
       "\n",
       "|||\n",
       "|---:|:---|\n",
       "| [![arXiv](https://img.shields.io/badge/arXiv-arXiv:2303.13732-b31b1b.svg)](https://arxiv.org/abs/arXiv:2303.13732) | **Thermal Emission from the Hot Jupiter WASP-103b in $J$ and $K_{\\rm s}$  Bands**  |\n",
       "|| Y. Shi, et al. -- incl., <mark>M. Zhai</mark>, <mark>R. v. Boekel</mark> |\n",
       "|*Appeared on*| *2023-03-27*|\n",
       "|*Comments*| **|\n",
       "|**Abstract**| Hot Jupiters, particularly those with temperature higher than 2000\\,K are the best sample of planets that allow in-depth characterization of their atmospheres. We present here a thermal emission study of the ultra hot Jupiter WASP\\mbox{-}103\\,b observed in two secondary eclipses with CFHT/WIRCam in $J$ and $K_{\\rm s}$ bands. By means of high precision differential photometry, we determine eclipse depths in $J$ and $K_{\\rm s}$ to an accuracy of 220 and 270\\,ppm, which are combined with the published HST/WFC3 and Spitzer data to retrieve a joint constraints on the properties of WASP-103\\,b dayside atmosphere. We find that the atmosphere is best fit with a thermal inversion layer included. The equilibrium chemistry retrieval indicates an enhanced C/O (1.35$^{+0.14}_{-0.17}$) and a super metallicity with [Fe/H]$=2.19^{+0.51}_{-0.63}$ composition. Given the near-solar metallicity of WASP-103 of [Fe/H]=0.06, this planet seems to be $\\sim$100 more abundant than its host star. The free chemistry retrieval analysis yields a large abundance of FeH, H$^{-}$, CO$_2$ and CH$_4$. Additional data of better accuracy from future observations of JWST should provide better constraint of the atmospheric properties of WASP-103b. |"
      ],
      "text/plain": [
       "[arXiv:2303.13732] Thermal Emission from the Hot Jupiter WASP-103b in $J$ and $K_{\\rm s}$  Bands\n",
       "\tY. Shi, et al. -- incl., <mark>M. Zhai</mark>, <mark>R. v. Boekel</mark>"
      ]
     },
     "metadata": {},
     "output_type": "display_data"
    },
    {
     "data": {
      "text/markdown": [
       "## Failed papers"
      ],
      "text/plain": [
       "<IPython.core.display.Markdown object>"
      ]
     },
     "metadata": {},
     "output_type": "display_data"
    },
    {
     "data": {
      "text/markdown": [
       "\n",
       "|||\n",
       "|---:|:---|\n",
       "| [![arXiv](https://img.shields.io/badge/arXiv-arXiv:2303.13980-b31b1b.svg)](https://arxiv.org/abs/arXiv:2303.13980) | **Thermodynamic and Magnetic Topology Evolution of the X1.0 Flare on 2021  October 28 Simulated by a Data-driven Radiative Magnetohydrodynamic Model**  |\n",
       "|| J.-h. Guo, et al. -- incl., <mark>Y. Guo</mark> |\n",
       "|*Appeared on*| *2023-03-27*|\n",
       "|*Comments*| *46 pages, 15 figures, accepted for publication in The Astrophysical Journal Supplement*|\n",
       "|**Abstract**| Solar filament eruptions, flares and coronal mass ejections (CMEs) are manifestations of drastic release of energy in the magnetic field, which are related to many eruptive phenomena from the Earth magnetosphere to black hole accretion disks. With the availability of high-resolution magnetograms on the solar surface, observational data-based modelling is a promising way to quantitatively study the underlying physical mechanisms behind observations. By incorporating thermal conduction and radiation losses in the energy equation, we develop a new data-driven radiative magnetohydrodynamic (MHD) model, which has the capability to capture the thermodynamic evolution compared to our previous zero-\\b{eta} model. Our numerical results reproduce major observational characteristics of the X1.0 flare on 2021 October 28 in NOAA active region (AR) 12887, including the morphology of the eruption, kinematic of flare ribbons, extreme-ultraviolet (EUV) radiations, and two components of the EUV waves predicted by the magnetic stretching model, i.e., a fast-mode shock wave and a slower apparent wave due to successive stretching of magnetic field lines. Moreover, some intriguing phenomena are revealed in the simulation. We find that flare ribbons separate initially and ultimately stop at the outer stationary quasi-separatrix layers (QSLs). Such outer QSLs correspond to the border of the filament channel and determine the final positions of flare ribbons, which can be used to predict the size and the lifetime of a flare before it occurs. In addition, the side view of the synthesized EUV and white-light images exhibit typical three-part structures of CMEs, where the bright leading front is roughly cospatial with the non-wave component of the EUV wave, reinforcing the magnetic stretching model for the slow component of EUV waves. |\n",
       "|<p style=\"color:green\"> **ERROR** </p>| <p style=\"color:green\">affiliation error: mpia.affiliation_verifications: 'Heidelberg' keyword not found.</p> |"
      ],
      "text/plain": [
       "<IPython.core.display.Markdown object>"
      ]
     },
     "metadata": {},
     "output_type": "display_data"
    },
    {
     "data": {
      "text/markdown": [
       "\n",
       "|||\n",
       "|---:|:---|\n",
       "| [![arXiv](https://img.shields.io/badge/arXiv-arXiv:2303.13876-b31b1b.svg)](https://arxiv.org/abs/arXiv:2303.13876) | **Borexino's search for low-energy neutrinos associated with gravitational  wave events from GWTC-3 database**  |\n",
       "|| B. C. D. Basilico, et al. -- incl., <mark>D. Semenov</mark> |\n",
       "|*Appeared on*| *2023-03-27*|\n",
       "|*Comments*| *13 pages, 8 figures*|\n",
       "|**Abstract**| The search for neutrino events in correlation with gravitational wave (GW) events for three observing runs (O1, O2 and O3) from 09/2015 to 03/2020 has been performed using the Borexino data-set of the same period. We have searched for signals of neutrino-electron scattering with visible energies above 250 keV within a time window of 1000 s centered at the detection moment of a particular GW event. Two types of incoming neutrino spectra were considered: the mono-energetic line and the spectrum expected from supernovae. The same spectra were considered for electron antineutrinos detected through inverse beta-decay (IBD) reaction. GW candidates originated by merging binaries of black holes (BHBH), neutron stars (NSNS) and neutron star and black hole (NSBH) were analysed separately. In total, follow-ups of 74 out of 93 gravitational waves reported in the GWTC-3 catalog were analyzed and no statistically significant excess over the background was observed. As a result, the strongest upper limits on GW-associated neutrino and antineutrino fluences for all flavors (\\nu_e, \\nu_\\mu, \\nu_\\tau) have been obtained in the (0.5 - 5.0) MeV neutrino energy range. |\n",
       "|<p style=\"color:red\"> **ERROR** </p>| <p style=\"color:red\">latex error [Errno 2] No such file or directory: 'gs'</p> |"
      ],
      "text/plain": [
       "<IPython.core.display.Markdown object>"
      ]
     },
     "metadata": {},
     "output_type": "display_data"
    }
   ],
   "source": [
    "import datetime\n",
    "today = str(datetime.date.today())\n",
    "logfile = f\"_build/html/logs/log-{today}.md\"\n",
    "\n",
    "\n",
    "with open(logfile, 'w') as logs:\n",
    "    # Success\n",
    "    logs.write(f'# Arxiv on Deck 2: Logs - {today}\\n\\n')\n",
    "    logs.write(\"\"\"* Arxiv had {0:,d} new papers\\n\"\"\".format(len(new_papers)))\n",
    "    logs.write(\"\"\"    * {0:,d} with possible author matches\\n\\n\"\"\".format(len(candidates)))\n",
    "    logs.write(\"## Sucessful papers\\n\\n\")\n",
    "    display(Markdown(\"## Successful papers\"))\n",
    "    success = [k[0] for k in documents]\n",
    "    for candid in candidates:\n",
    "        if candid['identifier'].split(':')[-1] in success:\n",
    "            display(candid)\n",
    "            logs.write(candid.generate_markdown_text() + '\\n\\n')\n",
    "\n",
    "    ## failed\n",
    "    logs.write(\"## Failed papers\\n\\n\")\n",
    "    display(Markdown(\"## Failed papers\"))\n",
    "    failed = sorted(failed, key=lambda x: x[1])\n",
    "    current_reason = \"\"\n",
    "    for paper, reason in failed:\n",
    "        if 'affiliation' in reason:\n",
    "            color = 'green'\n",
    "        else:\n",
    "            color = 'red'\n",
    "        data = Markdown(\n",
    "                paper.generate_markdown_text() + \n",
    "                f'\\n|<p style=\"color:{color:s}\"> **ERROR** </p>| <p style=\"color:{color:s}\">{reason:s}</p> |'\n",
    "               )\n",
    "        if reason != current_reason:\n",
    "            logs.write(f'### {reason:s} \\n\\n')\n",
    "            current_reason = reason\n",
    "        logs.write(data.data + '\\n\\n')\n",
    "        \n",
    "        # only display here the important errors (all in logs)\n",
    "        # if color in ('red',):\n",
    "        display(data)"
   ]
  },
  {
   "cell_type": "markdown",
   "id": "472d20ee",
   "metadata": {
    "papermill": {
     "duration": 0.006633,
     "end_time": "2023-03-27T11:11:18.133098",
     "exception": false,
     "start_time": "2023-03-27T11:11:18.126465",
     "status": "completed"
    },
    "tags": []
   },
   "source": [
    "## Export documents\n",
    "\n",
    "We now write the .md files and export relevant images"
   ]
  },
  {
   "cell_type": "code",
   "execution_count": 6,
   "id": "d426aed9",
   "metadata": {
    "execution": {
     "iopub.execute_input": "2023-03-27T11:11:18.148993Z",
     "iopub.status.busy": "2023-03-27T11:11:18.148092Z",
     "iopub.status.idle": "2023-03-27T11:11:18.157781Z",
     "shell.execute_reply": "2023-03-27T11:11:18.156799Z"
    },
    "papermill": {
     "duration": 0.019808,
     "end_time": "2023-03-27T11:11:18.159737",
     "exception": false,
     "start_time": "2023-03-27T11:11:18.139929",
     "status": "completed"
    },
    "tags": []
   },
   "outputs": [],
   "source": [
    "def export_markdown_summary(md: str, md_fname:str, directory: str):\n",
    "    \"\"\"Export MD document and associated relevant images\"\"\"\n",
    "    import os\n",
    "    import shutil\n",
    "    import re\n",
    "\n",
    "    if (os.path.exists(directory) and not os.path.isdir(directory)):\n",
    "        raise RuntimeError(f\"a non-directory file exists with name {directory:s}\")\n",
    "\n",
    "    if (not os.path.exists(directory)):\n",
    "        print(f\"creating directory {directory:s}\")\n",
    "        os.mkdir(directory)\n",
    "\n",
    "    fig_fnames = (re.compile(r'\\[Fig.*\\]\\((.*)\\)').findall(md) + \n",
    "                  re.compile(r'\\<img src=\"([^>\\s]*)\"[^>]*/>').findall(md))\n",
    "    for fname in fig_fnames:\n",
    "        if 'http' in fname:\n",
    "            # No need to copy online figures\n",
    "            continue\n",
    "        destdir = os.path.join(directory, os.path.dirname(fname))\n",
    "        destfname = os.path.join(destdir, os.path.basename(fname))\n",
    "        try:\n",
    "            os.makedirs(destdir)\n",
    "        except FileExistsError:\n",
    "            pass\n",
    "        shutil.copy(fname, destfname)\n",
    "    with open(os.path.join(directory, md_fname), 'w') as fout:\n",
    "        fout.write(md)\n",
    "    print(\"exported in \", os.path.join(directory, md_fname))\n",
    "    [print(\"    + \" + os.path.join(directory,fk)) for fk in fig_fnames]"
   ]
  },
  {
   "cell_type": "code",
   "execution_count": 7,
   "id": "014d04a4",
   "metadata": {
    "execution": {
     "iopub.execute_input": "2023-03-27T11:11:18.174923Z",
     "iopub.status.busy": "2023-03-27T11:11:18.174152Z",
     "iopub.status.idle": "2023-03-27T11:11:18.186268Z",
     "shell.execute_reply": "2023-03-27T11:11:18.185459Z"
    },
    "papermill": {
     "duration": 0.021598,
     "end_time": "2023-03-27T11:11:18.188082",
     "exception": false,
     "start_time": "2023-03-27T11:11:18.166484",
     "status": "completed"
    },
    "tags": []
   },
   "outputs": [
    {
     "name": "stdout",
     "output_type": "stream",
     "text": [
      "exported in  _build/html/2303.13573.md\n",
      "    + _build/html/tmp_2303.13573/./ShenDiagram3.png\n",
      "    + _build/html/tmp_2303.13573/./LC_model.png\n",
      "    + _build/html/tmp_2303.13573/./decay.png\n",
      "exported in  _build/html/2303.13676.md\n",
      "    + _build/html/tmp_2303.13676/./Figures/radial_LW_age_all.png\n",
      "    + _build/html/tmp_2303.13676/./Figures_SSP_fitting/fig_maps_test_templates_E-MILES_CB07_E-MILES+G-D.png\n",
      "    + _build/html/tmp_2303.13676/./Figures/sigma_age_at_fixed_radii_disk.jpg\n",
      "exported in  _build/html/2303.13732.md\n",
      "    + _build/html/tmp_2303.13732/./pic/model_103b.png\n",
      "    + _build/html/tmp_2303.13732/./pic/rxb2_J.png\n",
      "    + _build/html/tmp_2303.13732/./pic/rms-beta.png\n"
     ]
    }
   ],
   "source": [
    "for paper_id, md in documents:\n",
    "    export_markdown_summary(md, f\"{paper_id:s}.md\", '_build/html/')"
   ]
  },
  {
   "cell_type": "markdown",
   "id": "f087a0a7",
   "metadata": {
    "papermill": {
     "duration": 0.006943,
     "end_time": "2023-03-27T11:11:18.202045",
     "exception": false,
     "start_time": "2023-03-27T11:11:18.195102",
     "status": "completed"
    },
    "tags": []
   },
   "source": [
    "## Display the papers\n",
    "\n",
    "Not necessary but allows for a quick check."
   ]
  },
  {
   "cell_type": "code",
   "execution_count": 8,
   "id": "fd25f625",
   "metadata": {
    "execution": {
     "iopub.execute_input": "2023-03-27T11:11:18.217311Z",
     "iopub.status.busy": "2023-03-27T11:11:18.216693Z",
     "iopub.status.idle": "2023-03-27T11:11:18.225160Z",
     "shell.execute_reply": "2023-03-27T11:11:18.224377Z"
    },
    "papermill": {
     "duration": 0.018419,
     "end_time": "2023-03-27T11:11:18.227023",
     "exception": false,
     "start_time": "2023-03-27T11:11:18.208604",
     "status": "completed"
    },
    "scrolled": false,
    "tags": []
   },
   "outputs": [
    {
     "data": {
      "text/markdown": [
       "<div class=\"macros\" style=\"visibility:hidden;\">\n",
       "$\\newcommand{\\ensuremath}{}$\n",
       "$\\newcommand{\\xspace}{}$\n",
       "$\\newcommand{\\object}[1]{\\texttt{#1}}$\n",
       "$\\newcommand{\\farcs}{{.}''}$\n",
       "$\\newcommand{\\farcm}{{.}'}$\n",
       "$\\newcommand{\\arcsec}{''}$\n",
       "$\\newcommand{\\arcmin}{'}$\n",
       "$\\newcommand{\\ion}[2]{#1#2}$\n",
       "$\\newcommand{\\textsc}[1]{\\textrm{#1}}$\n",
       "$\\newcommand{\\hl}[1]{\\textrm{#1}}$\n",
       "$\\newcommand{\\footnote}[1]{}$\n",
       "$\\newcommand{\\vdag}{(v)^\\dagger}$\n",
       "$\\newcommand$\n",
       "$\\newcommand$\n",
       "$\\newcommand{\\msun}{\\mathrm{M_{\\odot}}}$\n",
       "$\\newcommand{\\msunyr}{\\msun{\\rm yr}^{-1}}$\n",
       "$\\newcommand{\\mhe}{M_{\\mathrm{He}}}$\n",
       "$\\newcommand{\\mwd}{M_{\\mathrm{WD}}}$\n",
       "$\\newcommand{\\mdot}{\\dot{M}}$\n",
       "$\\newcommand{\\mesa}{{\\tt\\string MESA}}$\n",
       "$\\newcommand{\\kB}{k_{\\mathrm{B}}}$\n",
       "$\\newcommand{\\NA}{N_{\\mathrm{A}}}$\n",
       "$\\newcommand{\\She}{s_{\\mathrm{c},\\mathrm{He}}}$\n",
       "$\\newcommand{\\taumdot}{\\tau_{\\dot{M}}}$\n",
       "$\\newcommand{\\tauth}{\\tau_{\\mathrm{th}}}$\n",
       "$\\newcommand{\\Jdotgr}{\\dot{J}_{\\mathrm{gr}}}$\n",
       "$\\newcommand{\\Porb}{P_{\\mathrm{orb}}}$\n",
       "$\\newcommand{\\Pcrit}{P_{\\mathrm{c}}}$\n",
       "$\\newcommand{\\Etide}{\\dot{E}_{\\mathrm{tide}}}$\n",
       "$\\newcommand{\\Eheat}{\\dot{E}_{\\mathrm{heat}}}$\n",
       "$\\newcommand{\\Teff}{T_{\\mathrm{eff}}}$\n",
       "$\\newcommand{\\Rmin}{R_{\\mathrm{min}}}$\n",
       "$\\newcommand{\\RWD}{R_{\\mathrm{WD}}}$</div>\n",
       "\n",
       "\n",
       "\n",
       "<div id=\"title\">\n",
       "\n",
       "# Orbital decay in an accreting and eclipsing 13.7 minute orbital period binary with a luminous donor\n",
       "\n",
       "</div>\n",
       "<div id=\"comments\">\n",
       "\n",
       "[![arXiv](https://img.shields.io/badge/arXiv-2303.13573-b31b1b.svg)](https://arxiv.org/abs/2303.13573)<mark>Appeared on: 2023-03-27</mark> -  _13 pages, 7 figures, 2 tables, submitted to ApJL_\n",
       "\n",
       "</div>\n",
       "<div id=\"authors\">\n",
       "\n",
       "K. B. Burdge, et al. -- incl., <mark>K. El-Badry</mark>\n",
       "\n",
       "</div>\n",
       "<div id=\"abstract\">\n",
       "\n",
       "**Abstract:** We report the discovery of ZTF J0127+5258, a compact mass-transferring binary with an orbital period of 13.7 minutes. The system contains a white dwarf accretor, which likely originated as a post-common envelope carbon-oxygen (CO) white dwarf, and a warm donor ( $T_{\\rm eff, donor}= 16,400\\pm1000 \\rm K$ ). The donor probably formed during a common envelope phase between the CO white dwarf and an evolving giant which left behind a helium star or helium white dwarf in a close orbit with the CO white dwarf. We measure gravitational wave-driven orbital inspiral with $\\sim 35\\sigma$ significance, which yields a joint constraint on the component masses and mass transfer rate. While the accretion disk in the system is dominated by ionized helium emission, the donor exhibits a mixture of hydrogen and helium absorption lines. Phase-resolved spectroscopy yields a donor radial-velocity semi-amplitude of $771\\pm27 \\rm km  s^{-1}$ , and high-speed photometry reveals that the system is eclipsing. We detect a $_ Chandra_$ X-ray counterpart with $L_{X}\\sim 3\\times 10^{31} \\rm erg s^{-1}$ . Depending on the mass-transfer rate, the system will likely evolve into either a stably mass-transferring helium CV, merge to become an R Crb star, or explode as a Type Ia supernova in the next million years. We predict that the Laser Space Interferometer Antenna (LISA) will detect the source with a signal-to-noise ratio of $24\\pm6$ after 4 years of observations. The system is the first $*LISA*$ -loud mass-transferring binary with an intrinsically luminous donor, a class of sources that provide the opportunity to leverage the synergy between optical and infrared time domain surveys, X-ray facilities, and gravitational-wave observatories to probe general relativity, accretion physics, and binary evolution.\n",
       "\n",
       "</div>\n",
       "\n",
       "<div id=\"div_fig1\">\n",
       "\n",
       "<img src=\"tmp_2303.13573/./ShenDiagram3.png\" alt=\"Fig7\" width=\"100%\"/>\n",
       "\n",
       "**Figure 7. -** A diagram of the possible outcomes of double white dwarf mergers presented in [ and Shen (2015)](), with the dashed blue lines indicating the mass constraints on ZTF J0127+5258 in the low mass transfer rate case, and the dashed green lines indicating the constraints in the high mass transfer rate case. If ZTF J0127+5258 fails to undergo stable mass transfer and evolve into a helium CV, this diagram indicates that it will likely form an R Coronae Borealis star which eventually cools into a white dwarf if its current mass transfer rate is on the lower end of our estimates, or will explode as a Type Ia supernova if its mass transfer rate is on the higher end of our estimates. Note that parenthetical entries in the merger outcomes may not apply to all objects in that mass range. (*fig:shen*)\n",
       "\n",
       "</div>\n",
       "<div id=\"div_fig2\">\n",
       "\n",
       "<img src=\"tmp_2303.13573/./LC_model.png\" alt=\"Fig1\" width=\"100%\"/>\n",
       "\n",
       "**Figure 1. -** A model fit of the binned CHIMERA $g^{\\prime}$ lightcurve of ZTF J0127+5258. We used the LCURVE modeling code to construct a physical model for the system. In order to account for the behavior in the lightcurve, particularly the geometry of the eclipses, as well as the increased flux at the quadrature phase at $0.75$, we had to include an accretion disk with a bright spot, indicating that the disk and bright spot contribute an appreciable fraction of the optical flux.\n",
       " (*fig:LC*)\n",
       "\n",
       "</div>\n",
       "<div id=\"div_fig3\">\n",
       "\n",
       "<img src=\"tmp_2303.13573/./decay.png\" alt=\"Fig2\" width=\"100%\"/>\n",
       "\n",
       "**Figure 2. -** The measured evolution of eclipse times in ZTF J0127+5258. The red fit of a quadratic clearly indicates that the system is undergoing orbital decay, as the coefficient of the quadratic term of the polynomial is clearly negative. A precise measurement of the orbital evolution was made possible by the eclipsing nature of the source (allowing for precise timing), and the long baseline resulting from archival PTF and ATLAS observations.\n",
       " (*fig:Decay*)\n",
       "\n",
       "</div><div id=\"qrcode\"><img src=https://api.qrserver.com/v1/create-qr-code/?size=100x100&data=\"https://arxiv.org/abs/2303.13573\"></div>"
      ],
      "text/plain": [
       "<IPython.core.display.Markdown object>"
      ]
     },
     "metadata": {},
     "output_type": "display_data"
    },
    {
     "data": {
      "text/markdown": [
       "<div class=\"macros\" style=\"visibility:hidden;\">\n",
       "$\\newcommand{\\ensuremath}{}$\n",
       "$\\newcommand{\\xspace}{}$\n",
       "$\\newcommand{\\object}[1]{\\texttt{#1}}$\n",
       "$\\newcommand{\\farcs}{{.}''}$\n",
       "$\\newcommand{\\farcm}{{.}'}$\n",
       "$\\newcommand{\\arcsec}{''}$\n",
       "$\\newcommand{\\arcmin}{'}$\n",
       "$\\newcommand{\\ion}[2]{#1#2}$\n",
       "$\\newcommand{\\textsc}[1]{\\textrm{#1}}$\n",
       "$\\newcommand{\\hl}[1]{\\textrm{#1}}$\n",
       "$\\newcommand{\\footnote}[1]{}$\n",
       "$\\newcommand{\\hii}{\\ion{H}{II}}$\n",
       "$\\newcommand{\\hi}{\\ion{H}{I}}$\n",
       "$\\newcommand{\\cii}{\\ion{C}{II}}$\n",
       "$\\newcommand{\\nii}{[\\ion{N}{II}]}$\n",
       "$\\newcommand{\\sii}{[\\ion{S}{II}]}$\n",
       "$\\newcommand{\\oiii}{[\\ion{O}{III}]}$\n",
       "$\\newcommand{\\arraystretch}{1.2}$</div>\n",
       "\n",
       "\n",
       "\n",
       "<div id=\"title\">\n",
       "\n",
       "# Resolved stellar population properties of PHANGS-MUSE galaxies\n",
       "\n",
       "</div>\n",
       "<div id=\"comments\">\n",
       "\n",
       "[![arXiv](https://img.shields.io/badge/arXiv-2303.13676-b31b1b.svg)](https://arxiv.org/abs/2303.13676)<mark>Appeared on: 2023-03-27</mark> -  _52 pages, 48 figures, accepted for publication in A&A_\n",
       "\n",
       "</div>\n",
       "<div id=\"authors\">\n",
       "\n",
       "I. Pessa, et al. -- incl., <mark>E. Schinnerer</mark>, <mark>J. Neumann</mark>, <mark>K. Kreckel</mark>, <mark>F. Pinna</mark>\n",
       "\n",
       "</div>\n",
       "<div id=\"abstract\">\n",
       "\n",
       "**Abstract:** Analyzing resolved stellar populations across the disk of a galaxy can provide unique insights into how that galaxy assembled its stellar mass over its lifetime.Previous work at $\\sim$ 1 kpc resolution has already revealed common features in the mass buildup (e.g., inside-out growth of galaxies). However, even at approximate kpc scales, the stellar populations are blurred between the different galactic morphological structures such as spiral arms, bars and bulges.  Here we present a detailed analysis of the spatially resolved star formation histories (SFHs) of 19 PHANGS-MUSE galaxies, at a spatial resolution of $\\sim100$ pc. We show that our sample of local galaxies exhibits predominantly negative radial gradients of stellar age and metallicity, consistent with previous findings, and a radial structure that is primarily consistent with local star formation, and indicative of inside-out formation. In barred galaxies, we find flatter metallicity gradients along the semi-major axis of the bar than along the semi-minor axis, as is expected from the radial mixing of material along the bar during infall. In general, the derived assembly histories of the galaxies in our sample tell a consistent story of inside-out growth, where low-mass galaxies assembled the majority of their stellar mass later in cosmic history than high-mass galaxies (also known as \"downsizing\"). We also show how stellar populations of different ages exhibit different kinematics. Specifically, we find that younger stellar populations have lower velocity dispersions than older stellar populations at similar galactocentric distances, which we interpret as an imprint of the progressive dynamical heating of stellar populations as they age. Finally, we explore how the time-averaged star formation rate evolves with time, and how it varies across galactic disks. This analysis reveals a wide variation of the SFHs of galaxy centers and additionally shows that structural features become less pronounced with age.\n",
       "\n",
       "</div>\n",
       "\n",
       "<div id=\"div_fig1\">\n",
       "\n",
       "<img src=\"tmp_2303.13676/./Figures/radial_LW_age_all.png\" alt=\"Fig9\" width=\"100%\"/>\n",
       "\n",
       "**Figure 9. -** Luminosity-weighted stellar age radial profiles for the galaxies in our sampleLuminosity-weighted stellar age radial profiles for the galaxies in our sample. Different colors indicate the radial profile measured across different environments, as indicated in the legend of the bottom-right panel. The black line shows the radial profile measured for the entire FoV (i.e., all environments together). The galactocentric distance is measured in units of $R_{25}$, in order to measure radial distance homogeneously across our sample. The value of $R_{25}$(kpc) of each galaxy is indicated in each corresponding panel. The solid gray line shows the best-fit linear gradient for each galaxy. (*fig:radial_LW_age*)\n",
       "\n",
       "</div>\n",
       "<div id=\"div_fig2\">\n",
       "\n",
       "<img src=\"tmp_2303.13676/./Figures_SSP_fitting/fig_maps_test_templates_E-MILES_CB07_E-MILES+G-D.png\" alt=\"Fig35\" width=\"100%\"/>\n",
       "\n",
       "**Figure 35. -** Age, metallicity, extinction and stellar mass surface density maps obtained for the central region of NGC 3351, with the four different sets of templates testedLuminosity-weighted age (top row), luminosity-weighted [Z/H](second row), stellar E(B-V) (third row), and stellar mass surface density (bottom row) maps derived for the central star-forming ring of NGC 3351. Each column shows the maps obtained using the set of templates indicated at the top of each column. The maps obtained using our fiducial set of templates are shown in the left column. The area outside the red ellipse in the top-left panel is used to probe disk stellar population properties, and the area between the red and the black ellipses is used to probe stellar population properties of the young star-forming ring (see text). (*fig:base_case_tests*)\n",
       "\n",
       "</div>\n",
       "<div id=\"div_fig3\">\n",
       "\n",
       "<img src=\"tmp_2303.13676/./Figures/sigma_age_at_fixed_radii_disk.jpg\" alt=\"Fig24\" width=\"100%\"/>\n",
       "\n",
       "**Figure 24. -** Mean stellar velocity dispersion measured at a galactocentric radius of 0.25-0.30 $R_{25}$ in the disk environment of all our sample galaxies for stellar populations with different luminosity-weighted ages.Mean stellar velocity dispersion ($\\sigma_{*}$) measured at a galactocentric radius of 0.25-0.30 $R_{25}$ in the disk environment of all our sample galaxies for stellar populations with luminosity-weighted ages within the three different age bins defined in the main text. We note that for visualization purposes, the $x$-axis position of each data point is located at the edge of the age bin it represents. In each panel, the leftmost triangle represents the mean (area-weighted) velocity dispersion of all populations younger than $100$ Myr. The central square marks the mean velocity dispersion of populations with 100 Myr < LumW age < 300 Myr, and the rightmost triangle shows the same quantity for populations older than 3 Gyr. The errorbar indicates the standard deviation of the $\\sigma_{*}$ values of the pixels within a given age bin. The bottom right panel shows the trend for all galaxies, colored by total stellar mass. (*fig:sigma_age_fixed_radii*)\n",
       "\n",
       "</div><div id=\"qrcode\"><img src=https://api.qrserver.com/v1/create-qr-code/?size=100x100&data=\"https://arxiv.org/abs/2303.13676\"></div>"
      ],
      "text/plain": [
       "<IPython.core.display.Markdown object>"
      ]
     },
     "metadata": {},
     "output_type": "display_data"
    },
    {
     "data": {
      "text/markdown": [
       "<div class=\"macros\" style=\"visibility:hidden;\">\n",
       "$\\newcommand{\\ensuremath}{}$\n",
       "$\\newcommand{\\xspace}{}$\n",
       "$\\newcommand{\\object}[1]{\\texttt{#1}}$\n",
       "$\\newcommand{\\farcs}{{.}''}$\n",
       "$\\newcommand{\\farcm}{{.}'}$\n",
       "$\\newcommand{\\arcsec}{''}$\n",
       "$\\newcommand{\\arcmin}{'}$\n",
       "$\\newcommand{\\ion}[2]{#1#2}$\n",
       "$\\newcommand{\\textsc}[1]{\\textrm{#1}}$\n",
       "$\\newcommand{\\hl}[1]{\\textrm{#1}}$\n",
       "$\\newcommand{\\footnote}[1]{}$\n",
       "$\\newcommand{\\ww}[1]{{\\textcolor{black}{#1}}}$\n",
       "$\\newcommand{\\thebibliography}{\\DeclareRobustCommand{\\VAN}[3]{##3}\\VANthebibliography}$</div>\n",
       "\n",
       "\n",
       "\n",
       "<div id=\"title\">\n",
       "\n",
       "# THERMAL EMISSION FROM THE HOT JUPITER WASP-103 b IN $J$ AND $K{\\rm s}$ BANDS\n",
       "\n",
       "</div>\n",
       "<div id=\"comments\">\n",
       "\n",
       "[![arXiv](https://img.shields.io/badge/arXiv-2303.13732-b31b1b.svg)](https://arxiv.org/abs/2303.13732)<mark>Appeared on: 2023-03-27</mark> - \n",
       "\n",
       "</div>\n",
       "<div id=\"authors\">\n",
       "\n",
       "Y. Shi, et al. -- incl., <mark>M. Zhai</mark>, <mark>R. v. Boekel</mark>\n",
       "\n",
       "</div>\n",
       "<div id=\"abstract\">\n",
       "\n",
       "**Abstract:** Hot Jupiters, particularly those with temperature higher than 2000 K are the best sample of planets that allow in-depth characterization of their atmospheres. We present here a thermal emission study of the ultra hot Jupiter WASP $\\mbox{-}$ 103 b observed in two secondary eclipses with CFHT/WIRCam in $J$ and $K_{\\rm s}$ bands. By means of high precision differential photometry, we determine eclipse depths in $J$ and $K_{\\rm s}$ to an accuracy of 220 and 270 ppm, which are combined with the published HST/WFC3 and Spitzer data to retrieve a joint constraints on the properties of WASP-103 b dayside atmosphere. We find that the atmosphere is best fit with a thermal inversion layer included. The equilibrium chemistry retrieval indicates an enhanced C/O (1.35 $^{+0.14}_{-0.17}$ ) and a super metallicity with [ Fe/H ] $=2.19^{+0.51}_{-0.63}$ composition. Given the near-solar metallicity of WASP-103 of [ Fe/H ] =0.06, this planet seems to be $\\sim$ 100 more abundant than its host star. The free chemistry retrieval analysis yields a large abundance of FeH, H $^{-}$ , $CO_2$ and $CH_4$ . Additional data of better accuracy from future observations of JWST should provide better constraint of the atmospheric properties of WASP-103b.\n",
       "\n",
       "</div>\n",
       "\n",
       "<div id=\"div_fig1\">\n",
       "\n",
       "<img src=\"tmp_2303.13732/./pic/model_103b.png\" alt=\"Fig7\" width=\"100%\"/>\n",
       "\n",
       "**Figure 7. -** Observations and model spectra of dayside thermal emission of WASP-103b. Our $J$ and $K_{\\rm s}$ data are presented by purple solid square, and other archival data are presented by black solid circle. The orange line shows the EQ model, while the violet line shows the FREE model. $\\ww${The two dotted lines show the EQ and FREE models assuming isothermal. } (*Fig7*)\n",
       "\n",
       "</div>\n",
       "<div id=\"div_fig2\">\n",
       "\n",
       "<img src=\"tmp_2303.13732/./pic/rxb2_J.png\" alt=\"Fig2\" width=\"100%\"/>\n",
       "\n",
       "**Figure 2. -** The normalized rms$\\times\\beta^{2}$ distribution overlaid with contour maps for the various combinations of aperture diameter $D$ and the number of reference star group ($N_{\\rm RSG}$) in the $J$ band. The minimum value of rms$\\times\\beta^{2}$ is reached with $D=34$ and $N_{\\rm RSG}=5$. (*Fig2*)\n",
       "\n",
       "</div>\n",
       "<div id=\"div_fig3\">\n",
       "\n",
       "<img src=\"tmp_2303.13732/./pic/rms-beta.png\" alt=\"Fig6\" width=\"100%\"/>\n",
       "\n",
       "**Figure 6. -** RMS and noise factor $\\beta$ of our residuals to the best-fit model for the various data sets in $J$ band.  (*Fig6*)\n",
       "\n",
       "</div><div id=\"qrcode\"><img src=https://api.qrserver.com/v1/create-qr-code/?size=100x100&data=\"https://arxiv.org/abs/2303.13732\"></div>"
      ],
      "text/plain": [
       "<IPython.core.display.Markdown object>"
      ]
     },
     "metadata": {},
     "output_type": "display_data"
    }
   ],
   "source": [
    "[display(Markdown(k[1])) for k in documents];"
   ]
  },
  {
   "cell_type": "markdown",
   "id": "873873a4",
   "metadata": {
    "papermill": {
     "duration": 0.007033,
     "end_time": "2023-03-27T11:11:18.241404",
     "exception": false,
     "start_time": "2023-03-27T11:11:18.234371",
     "status": "completed"
    },
    "tags": []
   },
   "source": [
    "# Create HTML index"
   ]
  },
  {
   "cell_type": "code",
   "execution_count": 9,
   "id": "cf665672",
   "metadata": {
    "execution": {
     "iopub.execute_input": "2023-03-27T11:11:18.258005Z",
     "iopub.status.busy": "2023-03-27T11:11:18.257371Z",
     "iopub.status.idle": "2023-03-27T11:11:18.267751Z",
     "shell.execute_reply": "2023-03-27T11:11:18.266940Z"
    },
    "papermill": {
     "duration": 0.020776,
     "end_time": "2023-03-27T11:11:18.269436",
     "exception": false,
     "start_time": "2023-03-27T11:11:18.248660",
     "status": "completed"
    },
    "tags": []
   },
   "outputs": [
    {
     "name": "stdout",
     "output_type": "stream",
     "text": [
      "175  publications files modified in the last 7 days.\n"
     ]
    }
   ],
   "source": [
    "from datetime import datetime, timedelta, timezone\n",
    "from glob import glob\n",
    "import os\n",
    "\n",
    "files = glob('_build/html/*.md')\n",
    "days = 7\n",
    "now = datetime.today()\n",
    "res = []\n",
    "for fk in files:\n",
    "    stat_result = os.stat(fk).st_ctime\n",
    "    modified = datetime.fromtimestamp(stat_result, tz=timezone.utc).replace(tzinfo=None)\n",
    "    delta = now.today() - modified\n",
    "    if delta <= timedelta(days=days):\n",
    "        res.append((delta.seconds, fk))\n",
    "res = [k[1] for k in reversed(sorted(res, key=lambda x:x[1]))]\n",
    "npub = len(res)\n",
    "print(len(res), f\" publications files modified in the last {days:d} days.\")\n",
    "# [ print('\\t', k) for k in res ];"
   ]
  },
  {
   "cell_type": "code",
   "execution_count": 10,
   "id": "015de740",
   "metadata": {
    "execution": {
     "iopub.execute_input": "2023-03-27T11:11:18.286429Z",
     "iopub.status.busy": "2023-03-27T11:11:18.285676Z",
     "iopub.status.idle": "2023-03-27T11:11:18.304131Z",
     "shell.execute_reply": "2023-03-27T11:11:18.303324Z"
    },
    "papermill": {
     "duration": 0.028862,
     "end_time": "2023-03-27T11:11:18.305823",
     "exception": false,
     "start_time": "2023-03-27T11:11:18.276961",
     "status": "completed"
    },
    "tags": []
   },
   "outputs": [
    {
     "name": "stdout",
     "output_type": "stream",
     "text": [
      "6  publications in the last 7 days.\n"
     ]
    }
   ],
   "source": [
    "import datetime\n",
    "from glob import glob\n",
    "\n",
    "def get_last_n_days(lst, days=1):\n",
    "    \"\"\" Get the documents from the last n days \"\"\"\n",
    "    sorted_lst = sorted(lst, key=lambda x: x[1], reverse=True)\n",
    "    for fname, date in sorted_lst:\n",
    "        if date >= str(datetime.date.today() - datetime.timedelta(days=days)):\n",
    "            yield fname\n",
    "\n",
    "def extract_appearance_dates(lst_file):\n",
    "    dates = []\n",
    "\n",
    "    def get_date(line):\n",
    "        return line\\\n",
    "            .split('Appeared on:')[-1]\\\n",
    "            .split('</mark>')[0].strip()\n",
    "\n",
    "    for fname in lst:\n",
    "        with open(fname, 'r') as f:\n",
    "            found_date = False\n",
    "            for line in f:\n",
    "                if not found_date:\n",
    "                    if \"Appeared on\" in line:\n",
    "                        found_date = True\n",
    "                        dates.append((fname, get_date(line)))\n",
    "                else:\n",
    "                    break\n",
    "    return dates\n",
    "\n",
    "from glob import glob\n",
    "lst = glob('_build/html/*md')\n",
    "days = 7\n",
    "dates = extract_appearance_dates(lst)\n",
    "res = list(get_last_n_days(dates, days))\n",
    "npub = len(res)\n",
    "print(len(res), f\" publications in the last {days:d} days.\")"
   ]
  },
  {
   "cell_type": "code",
   "execution_count": 11,
   "id": "52ca0208",
   "metadata": {
    "execution": {
     "iopub.execute_input": "2023-03-27T11:11:18.323318Z",
     "iopub.status.busy": "2023-03-27T11:11:18.322365Z",
     "iopub.status.idle": "2023-03-27T11:11:18.328935Z",
     "shell.execute_reply": "2023-03-27T11:11:18.328299Z"
    },
    "papermill": {
     "duration": 0.01696,
     "end_time": "2023-03-27T11:11:18.330668",
     "exception": false,
     "start_time": "2023-03-27T11:11:18.313708",
     "status": "completed"
    },
    "scrolled": false,
    "tags": []
   },
   "outputs": [],
   "source": [
    "def create_carousel(npub=4):\n",
    "    \"\"\" Generate the HTML code for a carousel with `npub` slides \"\"\"\n",
    "    carousel = [\"\"\"  <div class=\"carousel\" \"\"\",\n",
    "                \"\"\"       data-flickity='{ \"autoPlay\": 10000, \"adaptiveHeight\": true, \"resize\": true, \"wrapAround\": true, \"pauseAutoPlayOnHover\": true, \"groupCells\": 1 }' id=\"asyncTypeset\">\"\"\"\n",
    "                ]\n",
    "    \n",
    "    item_str = \"\"\"    <div class=\"carousel-cell\"> <div id=\"slide{k}\" class=\"md_view\">Content {k}</div> </div>\"\"\"\n",
    "    for k in range(1, npub + 1):\n",
    "        carousel.append(item_str.format(k=k))\n",
    "    carousel.append(\"  </div>\")\n",
    "    return '\\n'.join(carousel)\n",
    "\n",
    "def create_grid(npub=4):\n",
    "    \"\"\" Generate the HTML code for a flat grid with `npub` slides \"\"\"\n",
    "    grid = [\"\"\"  <div class=\"grid\"> \"\"\",\n",
    "                ]\n",
    "    \n",
    "    item_str = \"\"\"    <div class=\"grid-item\"> <div id=\"slide{k}\" class=\"md_view\">Content {k}</div> </div>\"\"\"\n",
    "    for k in range(1, npub + 1):\n",
    "        grid.append(item_str.format(k=k))\n",
    "    grid.append(\"  </div>\")\n",
    "    return '\\n'.join(grid)"
   ]
  },
  {
   "cell_type": "code",
   "execution_count": 12,
   "id": "a6eac5b6",
   "metadata": {
    "execution": {
     "iopub.execute_input": "2023-03-27T11:11:18.348045Z",
     "iopub.status.busy": "2023-03-27T11:11:18.347360Z",
     "iopub.status.idle": "2023-03-27T11:11:18.355728Z",
     "shell.execute_reply": "2023-03-27T11:11:18.355045Z"
    },
    "papermill": {
     "duration": 0.019497,
     "end_time": "2023-03-27T11:11:18.357967",
     "exception": false,
     "start_time": "2023-03-27T11:11:18.338470",
     "status": "completed"
    },
    "scrolled": false,
    "tags": []
   },
   "outputs": [],
   "source": [
    "carousel = create_carousel(npub)\n",
    "docs = ', '.join(['\"{0:s}\"'.format(k.split('/')[-1]) for k in res])\n",
    "slides = ', '.join([f'\"slide{k}\"' for k in range(1, npub + 1)])\n",
    "\n",
    "with open(\"daily_template.html\", \"r\") as tpl:\n",
    "    page = tpl.read()\n",
    "    page = page.replace(\"{%-- carousel:s --%}\", carousel)\\\n",
    "               .replace(\"{%-- suptitle:s --%}\",  \"7-day archives\" )\\\n",
    "               .replace(\"{%-- docs:s --%}\", docs)\\\n",
    "               .replace(\"{%-- slides:s --%}\", slides)\n",
    "    \n",
    "with open(\"_build/html/index_7days.html\", 'w') as fout:\n",
    "    fout.write(page)"
   ]
  },
  {
   "cell_type": "code",
   "execution_count": 13,
   "id": "adc1a1ec",
   "metadata": {
    "execution": {
     "iopub.execute_input": "2023-03-27T11:11:18.374377Z",
     "iopub.status.busy": "2023-03-27T11:11:18.373867Z",
     "iopub.status.idle": "2023-03-27T11:11:18.382099Z",
     "shell.execute_reply": "2023-03-27T11:11:18.381360Z"
    },
    "papermill": {
     "duration": 0.018579,
     "end_time": "2023-03-27T11:11:18.384024",
     "exception": false,
     "start_time": "2023-03-27T11:11:18.365445",
     "status": "completed"
    },
    "tags": []
   },
   "outputs": [
    {
     "name": "stdout",
     "output_type": "stream",
     "text": [
      "3  publications in the last day.\n"
     ]
    }
   ],
   "source": [
    "# redo for today\n",
    "days = 1\n",
    "res = list(get_last_n_days(dates, days))\n",
    "npub = len(res)\n",
    "print(len(res), f\" publications in the last day.\")\n",
    "\n",
    "carousel = create_carousel(npub)\n",
    "docs = ', '.join(['\"{0:s}\"'.format(k.split('/')[-1]) for k in res])\n",
    "slides = ', '.join([f'\"slide{k}\"' for k in range(1, npub + 1)])\n",
    "\n",
    "with open(\"daily_template.html\", \"r\") as tpl:\n",
    "    page = tpl.read()\n",
    "    page = page.replace(\"{%-- carousel:s --%}\", carousel)\\\n",
    "               .replace(\"{%-- suptitle:s --%}\",  \"Daily\" )\\\n",
    "               .replace(\"{%-- docs:s --%}\", docs)\\\n",
    "               .replace(\"{%-- slides:s --%}\", slides)\n",
    "    \n",
    "# print(carousel, docs, slides)\n",
    "# print(page)\n",
    "with open(\"_build/html/index_daily.html\", 'w') as fout:\n",
    "    fout.write(page)"
   ]
  },
  {
   "cell_type": "code",
   "execution_count": 14,
   "id": "00eece82",
   "metadata": {
    "execution": {
     "iopub.execute_input": "2023-03-27T11:11:18.400495Z",
     "iopub.status.busy": "2023-03-27T11:11:18.400230Z",
     "iopub.status.idle": "2023-03-27T11:11:18.407714Z",
     "shell.execute_reply": "2023-03-27T11:11:18.406991Z"
    },
    "papermill": {
     "duration": 0.018034,
     "end_time": "2023-03-27T11:11:18.409501",
     "exception": false,
     "start_time": "2023-03-27T11:11:18.391467",
     "status": "completed"
    },
    "scrolled": false,
    "tags": []
   },
   "outputs": [
    {
     "name": "stdout",
     "output_type": "stream",
     "text": [
      "6  6 publications selected.\n"
     ]
    }
   ],
   "source": [
    "# Create the flat grid of the last N papers (fixed number regardless of dates)\n",
    "from itertools import islice \n",
    "\n",
    "npub = 6\n",
    "res = [k[0] for k in (islice(reversed(sorted(dates, key=lambda x: x[1])), 6))]\n",
    "print(len(res), f\" {npub} publications selected.\")\n",
    "\n",
    "grid = create_grid(npub)\n",
    "docs = ', '.join(['\"{0:s}\"'.format(k.split('/')[-1]) for k in res])\n",
    "slides = ', '.join([f'\"slide{k}\"' for k in range(1, npub + 1)])\n",
    "\n",
    "with open(\"grid_template.html\", \"r\") as tpl:\n",
    "    page = tpl.read()\n",
    "    page = page.replace(\"{%-- grid-content:s --%}\", grid)\\\n",
    "               .replace(\"{%-- suptitle:s --%}\",  f\"Last {npub:,d} papers\" )\\\n",
    "               .replace(\"{%-- docs:s --%}\", docs)\\\n",
    "               .replace(\"{%-- slides:s --%}\", slides)\n",
    "    \n",
    "# print(grid, docs, slides)\n",
    "# print(page)\n",
    "with open(\"_build/html/index_npub_grid.html\", 'w') as fout:\n",
    "    fout.write(page)"
   ]
  }
 ],
 "metadata": {
  "kernelspec": {
   "display_name": "Python 3 (ipykernel)",
   "language": "python",
   "name": "python3"
  },
  "language_info": {
   "codemirror_mode": {
    "name": "ipython",
    "version": 3
   },
   "file_extension": ".py",
   "mimetype": "text/x-python",
   "name": "python",
   "nbconvert_exporter": "python",
   "pygments_lexer": "ipython3",
   "version": "3.9.16"
  },
  "papermill": {
   "default_parameters": {},
   "duration": 129.942047,
   "end_time": "2023-03-27T11:11:18.738522",
   "environment_variables": {},
   "exception": null,
   "input_path": "MPIA daily digest.ipynb",
   "output_path": "log.ipynb",
   "parameters": {},
   "start_time": "2023-03-27T11:09:08.796475",
   "version": "2.4.0"
  },
  "vscode": {
   "interpreter": {
    "hash": "aee8b7b246df8f9039afb4144a1f6fd8d2ca17a180786b69acc140d282b71a49"
   }
  },
  "widgets": {
   "application/vnd.jupyter.widget-state+json": {
    "state": {
     "1d3267e4a2d74c4a93a0b7fbfa1594f3": {
      "model_module": "@jupyter-widgets/controls",
      "model_module_version": "2.0.0",
      "model_name": "ProgressStyleModel",
      "state": {
       "_model_module": "@jupyter-widgets/controls",
       "_model_module_version": "2.0.0",
       "_model_name": "ProgressStyleModel",
       "_view_count": null,
       "_view_module": "@jupyter-widgets/base",
       "_view_module_version": "2.0.0",
       "_view_name": "StyleView",
       "bar_color": null,
       "description_width": ""
      }
     },
     "2929d34b3ecf4517941f916582eef740": {
      "model_module": "@jupyter-widgets/base",
      "model_module_version": "2.0.0",
      "model_name": "LayoutModel",
      "state": {
       "_model_module": "@jupyter-widgets/base",
       "_model_module_version": "2.0.0",
       "_model_name": "LayoutModel",
       "_view_count": null,
       "_view_module": "@jupyter-widgets/base",
       "_view_module_version": "2.0.0",
       "_view_name": "LayoutView",
       "align_content": null,
       "align_items": null,
       "align_self": null,
       "border_bottom": null,
       "border_left": null,
       "border_right": null,
       "border_top": null,
       "bottom": null,
       "display": null,
       "flex": null,
       "flex_flow": null,
       "grid_area": null,
       "grid_auto_columns": null,
       "grid_auto_flow": null,
       "grid_auto_rows": null,
       "grid_column": null,
       "grid_gap": null,
       "grid_row": null,
       "grid_template_areas": null,
       "grid_template_columns": null,
       "grid_template_rows": null,
       "height": null,
       "justify_content": null,
       "justify_items": null,
       "left": null,
       "margin": null,
       "max_height": null,
       "max_width": null,
       "min_height": null,
       "min_width": null,
       "object_fit": null,
       "object_position": null,
       "order": null,
       "overflow": null,
       "padding": null,
       "right": null,
       "top": null,
       "visibility": null,
       "width": null
      }
     },
     "4c32794582ea45a69fd582b9d1f691b5": {
      "model_module": "@jupyter-widgets/base",
      "model_module_version": "2.0.0",
      "model_name": "LayoutModel",
      "state": {
       "_model_module": "@jupyter-widgets/base",
       "_model_module_version": "2.0.0",
       "_model_name": "LayoutModel",
       "_view_count": null,
       "_view_module": "@jupyter-widgets/base",
       "_view_module_version": "2.0.0",
       "_view_name": "LayoutView",
       "align_content": null,
       "align_items": null,
       "align_self": null,
       "border_bottom": null,
       "border_left": null,
       "border_right": null,
       "border_top": null,
       "bottom": null,
       "display": null,
       "flex": null,
       "flex_flow": null,
       "grid_area": null,
       "grid_auto_columns": null,
       "grid_auto_flow": null,
       "grid_auto_rows": null,
       "grid_column": null,
       "grid_gap": null,
       "grid_row": null,
       "grid_template_areas": null,
       "grid_template_columns": null,
       "grid_template_rows": null,
       "height": null,
       "justify_content": null,
       "justify_items": null,
       "left": null,
       "margin": null,
       "max_height": null,
       "max_width": null,
       "min_height": null,
       "min_width": null,
       "object_fit": null,
       "object_position": null,
       "order": null,
       "overflow": null,
       "padding": null,
       "right": null,
       "top": null,
       "visibility": null,
       "width": null
      }
     },
     "538353c1bb0947a2808fccad6fcd0484": {
      "model_module": "@jupyter-widgets/base",
      "model_module_version": "2.0.0",
      "model_name": "LayoutModel",
      "state": {
       "_model_module": "@jupyter-widgets/base",
       "_model_module_version": "2.0.0",
       "_model_name": "LayoutModel",
       "_view_count": null,
       "_view_module": "@jupyter-widgets/base",
       "_view_module_version": "2.0.0",
       "_view_name": "LayoutView",
       "align_content": null,
       "align_items": null,
       "align_self": null,
       "border_bottom": null,
       "border_left": null,
       "border_right": null,
       "border_top": null,
       "bottom": null,
       "display": null,
       "flex": null,
       "flex_flow": null,
       "grid_area": null,
       "grid_auto_columns": null,
       "grid_auto_flow": null,
       "grid_auto_rows": null,
       "grid_column": null,
       "grid_gap": null,
       "grid_row": null,
       "grid_template_areas": null,
       "grid_template_columns": null,
       "grid_template_rows": null,
       "height": null,
       "justify_content": null,
       "justify_items": null,
       "left": null,
       "margin": null,
       "max_height": null,
       "max_width": null,
       "min_height": null,
       "min_width": null,
       "object_fit": null,
       "object_position": null,
       "order": null,
       "overflow": null,
       "padding": null,
       "right": null,
       "top": null,
       "visibility": null,
       "width": null
      }
     },
     "6dbc4c406c9d45a68c74945874098130": {
      "model_module": "@jupyter-widgets/controls",
      "model_module_version": "2.0.0",
      "model_name": "HTMLModel",
      "state": {
       "_dom_classes": [],
       "_model_module": "@jupyter-widgets/controls",
       "_model_module_version": "2.0.0",
       "_model_name": "HTMLModel",
       "_view_count": null,
       "_view_module": "@jupyter-widgets/controls",
       "_view_module_version": "2.0.0",
       "_view_name": "HTMLView",
       "description": "",
       "description_allow_html": false,
       "layout": "IPY_MODEL_2929d34b3ecf4517941f916582eef740",
       "placeholder": "​",
       "style": "IPY_MODEL_b03c3be512d140debb3f085da5e511fc",
       "tabbable": null,
       "tooltip": null,
       "value": " 5/5 [01:37&lt;00:00, 16.58s/it]"
      }
     },
     "982f5ed3fff2452f9a8ed62a419059ad": {
      "model_module": "@jupyter-widgets/controls",
      "model_module_version": "2.0.0",
      "model_name": "FloatProgressModel",
      "state": {
       "_dom_classes": [],
       "_model_module": "@jupyter-widgets/controls",
       "_model_module_version": "2.0.0",
       "_model_name": "FloatProgressModel",
       "_view_count": null,
       "_view_module": "@jupyter-widgets/controls",
       "_view_module_version": "2.0.0",
       "_view_name": "ProgressView",
       "bar_style": "success",
       "description": "",
       "description_allow_html": false,
       "layout": "IPY_MODEL_538353c1bb0947a2808fccad6fcd0484",
       "max": 5.0,
       "min": 0.0,
       "orientation": "horizontal",
       "style": "IPY_MODEL_1d3267e4a2d74c4a93a0b7fbfa1594f3",
       "tabbable": null,
       "tooltip": null,
       "value": 5.0
      }
     },
     "b03c3be512d140debb3f085da5e511fc": {
      "model_module": "@jupyter-widgets/controls",
      "model_module_version": "2.0.0",
      "model_name": "HTMLStyleModel",
      "state": {
       "_model_module": "@jupyter-widgets/controls",
       "_model_module_version": "2.0.0",
       "_model_name": "HTMLStyleModel",
       "_view_count": null,
       "_view_module": "@jupyter-widgets/base",
       "_view_module_version": "2.0.0",
       "_view_name": "StyleView",
       "background": null,
       "description_width": "",
       "font_size": null,
       "text_color": null
      }
     },
     "c5a892c011514fa2b2887569e63ae0e7": {
      "model_module": "@jupyter-widgets/controls",
      "model_module_version": "2.0.0",
      "model_name": "HBoxModel",
      "state": {
       "_dom_classes": [],
       "_model_module": "@jupyter-widgets/controls",
       "_model_module_version": "2.0.0",
       "_model_name": "HBoxModel",
       "_view_count": null,
       "_view_module": "@jupyter-widgets/controls",
       "_view_module_version": "2.0.0",
       "_view_name": "HBoxView",
       "box_style": "",
       "children": [
        "IPY_MODEL_d592390fc1be48c8b5fd98fc00d1cbf8",
        "IPY_MODEL_982f5ed3fff2452f9a8ed62a419059ad",
        "IPY_MODEL_6dbc4c406c9d45a68c74945874098130"
       ],
       "layout": "IPY_MODEL_4c32794582ea45a69fd582b9d1f691b5",
       "tabbable": null,
       "tooltip": null
      }
     },
     "d592390fc1be48c8b5fd98fc00d1cbf8": {
      "model_module": "@jupyter-widgets/controls",
      "model_module_version": "2.0.0",
      "model_name": "HTMLModel",
      "state": {
       "_dom_classes": [],
       "_model_module": "@jupyter-widgets/controls",
       "_model_module_version": "2.0.0",
       "_model_name": "HTMLModel",
       "_view_count": null,
       "_view_module": "@jupyter-widgets/controls",
       "_view_module_version": "2.0.0",
       "_view_name": "HTMLView",
       "description": "",
       "description_allow_html": false,
       "layout": "IPY_MODEL_f45c1338983b4af698c1a4402372a07b",
       "placeholder": "​",
       "style": "IPY_MODEL_d97e1543380842699130434b5782b796",
       "tabbable": null,
       "tooltip": null,
       "value": "100%"
      }
     },
     "d97e1543380842699130434b5782b796": {
      "model_module": "@jupyter-widgets/controls",
      "model_module_version": "2.0.0",
      "model_name": "HTMLStyleModel",
      "state": {
       "_model_module": "@jupyter-widgets/controls",
       "_model_module_version": "2.0.0",
       "_model_name": "HTMLStyleModel",
       "_view_count": null,
       "_view_module": "@jupyter-widgets/base",
       "_view_module_version": "2.0.0",
       "_view_name": "StyleView",
       "background": null,
       "description_width": "",
       "font_size": null,
       "text_color": null
      }
     },
     "f45c1338983b4af698c1a4402372a07b": {
      "model_module": "@jupyter-widgets/base",
      "model_module_version": "2.0.0",
      "model_name": "LayoutModel",
      "state": {
       "_model_module": "@jupyter-widgets/base",
       "_model_module_version": "2.0.0",
       "_model_name": "LayoutModel",
       "_view_count": null,
       "_view_module": "@jupyter-widgets/base",
       "_view_module_version": "2.0.0",
       "_view_name": "LayoutView",
       "align_content": null,
       "align_items": null,
       "align_self": null,
       "border_bottom": null,
       "border_left": null,
       "border_right": null,
       "border_top": null,
       "bottom": null,
       "display": null,
       "flex": null,
       "flex_flow": null,
       "grid_area": null,
       "grid_auto_columns": null,
       "grid_auto_flow": null,
       "grid_auto_rows": null,
       "grid_column": null,
       "grid_gap": null,
       "grid_row": null,
       "grid_template_areas": null,
       "grid_template_columns": null,
       "grid_template_rows": null,
       "height": null,
       "justify_content": null,
       "justify_items": null,
       "left": null,
       "margin": null,
       "max_height": null,
       "max_width": null,
       "min_height": null,
       "min_width": null,
       "object_fit": null,
       "object_position": null,
       "order": null,
       "overflow": null,
       "padding": null,
       "right": null,
       "top": null,
       "visibility": null,
       "width": null
      }
     }
    },
    "version_major": 2,
    "version_minor": 0
   }
  }
 },
 "nbformat": 4,
 "nbformat_minor": 5
}