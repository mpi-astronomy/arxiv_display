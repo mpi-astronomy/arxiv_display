{
 "cells": [
  {
   "cell_type": "markdown",
   "id": "92bcb855",
   "metadata": {
    "papermill": {
     "duration": 0.003819,
     "end_time": "2025-05-08T04:14:10.090323",
     "exception": false,
     "start_time": "2025-05-08T04:14:10.086504",
     "status": "completed"
    },
    "tags": []
   },
   "source": [
    "# MPIA Arxiv on Deck 2\n",
    "\n",
    "Contains the steps to produce the paper extractions."
   ]
  },
  {
   "cell_type": "code",
   "execution_count": 1,
   "id": "3a0d6e11",
   "metadata": {
    "execution": {
     "iopub.execute_input": "2025-05-08T04:14:10.097578Z",
     "iopub.status.busy": "2025-05-08T04:14:10.097183Z",
     "iopub.status.idle": "2025-05-08T04:14:10.771145Z",
     "shell.execute_reply": "2025-05-08T04:14:10.770412Z"
    },
    "papermill": {
     "duration": 0.678927,
     "end_time": "2025-05-08T04:14:10.772515",
     "exception": false,
     "start_time": "2025-05-08T04:14:10.093588",
     "status": "completed"
    },
    "tags": []
   },
   "outputs": [],
   "source": [
    "# Imports\n",
    "import os\n",
    "from IPython.display import Markdown, display\n",
    "from tqdm.notebook import tqdm\n",
    "import warnings\n",
    "from PIL import Image \n",
    "import re\n",
    "\n",
    "# requires arxiv_on_deck_2\n",
    "\n",
    "from arxiv_on_deck_2.arxiv2 import (get_new_papers, \n",
    "                                    get_paper_from_identifier,\n",
    "                                    retrieve_document_source, \n",
    "                                    get_markdown_badge)\n",
    "from arxiv_on_deck_2 import (latex,\n",
    "                             latex_bib,\n",
    "                             mpia,\n",
    "                             highlight_authors_in_list)\n",
    "\n",
    "# Sometimes images are really big\n",
    "Image.MAX_IMAGE_PIXELS = 1000000000 "
   ]
  },
  {
   "cell_type": "code",
   "execution_count": 2,
   "id": "22aa9d44",
   "metadata": {
    "execution": {
     "iopub.execute_input": "2025-05-08T04:14:10.779830Z",
     "iopub.status.busy": "2025-05-08T04:14:10.779578Z",
     "iopub.status.idle": "2025-05-08T04:14:10.787747Z",
     "shell.execute_reply": "2025-05-08T04:14:10.787244Z"
    },
    "papermill": {
     "duration": 0.012928,
     "end_time": "2025-05-08T04:14:10.788689",
     "exception": false,
     "start_time": "2025-05-08T04:14:10.775761",
     "status": "completed"
    },
    "tags": []
   },
   "outputs": [],
   "source": [
    "# Some useful definitions.\n",
    "\n",
    "class AffiliationWarning(UserWarning):\n",
    "    pass\n",
    "\n",
    "class AffiliationError(RuntimeError):\n",
    "    pass\n",
    "\n",
    "def validation(source: str):\n",
    "    \"\"\"Raises error paper during parsing of source file\n",
    "    \n",
    "    Allows checks before parsing TeX code.\n",
    "    \n",
    "    Raises AffiliationWarning\n",
    "    \"\"\"\n",
    "    check = mpia.affiliation_verifications(source, verbose=True)\n",
    "    if check is not True:\n",
    "        raise AffiliationError(\"mpia.affiliation_verifications: \" + check)\n",
    "\n",
    "        \n",
    "warnings.simplefilter('always', AffiliationWarning)\n",
    "\n",
    "\n",
    "def get_markdown_qrcode(paper_id: str):\n",
    "    \"\"\" Generate a qrcode to the arxiv page using qrserver.com\n",
    "    \n",
    "    :param paper: Arxiv paper\n",
    "    :returns: markdown text\n",
    "    \"\"\"\n",
    "    url = r\"https://api.qrserver.com/v1/create-qr-code/?size=100x100&data=\"\n",
    "    txt = f\"\"\"<img src={url}\"https://arxiv.org/abs/{paper_id}\">\"\"\"\n",
    "    txt = '<div id=\"qrcode\">' + txt + '</div>'\n",
    "    return txt\n",
    "\n",
    "\n",
    "def clean_non_western_encoded_characters_commands(text: str) -> str:\n",
    "    \"\"\" Remove non-western encoded characters from a string\n",
    "    List may need to grow.\n",
    "    \n",
    "    :param text: the text to clean\n",
    "    :return: the cleaned text\n",
    "    \"\"\"\n",
    "    text = re.sub(r\"(\\\\begin{CJK}{UTF8}{gbsn})(.*?)(\\\\end{CJK})\", r\"\\2\", text)\n",
    "    return text\n",
    "\n",
    "\n",
    "def get_initials(name: str) -> str:\n",
    "    \"\"\" Get the short name, e.g., A.-B. FamName\n",
    "    :param name: full name\n",
    "    :returns: initials\n",
    "    \"\"\"\n",
    "    initials = []\n",
    "    # account for non western names often in ()\n",
    "    if '(' in name:\n",
    "        name = clean_non_western_encoded_characters_commands(name)\n",
    "        suffix = re.findall(r\"\\((.*?)\\)\", name)[0]\n",
    "        name = name.replace(f\"({suffix})\", '')\n",
    "    else:\n",
    "        suffix = ''\n",
    "    split = name.split()\n",
    "    for token in split[:-1]:\n",
    "        if '-' in token:\n",
    "            current = '-'.join([k[0] + '.' for k in token.split('-')])\n",
    "        else:\n",
    "            current = token[0] + '.'\n",
    "        initials.append(current)\n",
    "    initials.append(split[-1].strip())\n",
    "    if suffix:\n",
    "        initials.append(f\"({suffix})\")\n",
    "    return ' '.join(initials)"
   ]
  },
  {
   "cell_type": "markdown",
   "id": "14bd6310",
   "metadata": {
    "papermill": {
     "duration": 0.002861,
     "end_time": "2025-05-08T04:14:10.794510",
     "exception": false,
     "start_time": "2025-05-08T04:14:10.791649",
     "status": "completed"
    },
    "tags": []
   },
   "source": [
    "## get list of arxiv paper candidates\n",
    "\n",
    "We use the MPIA mitarbeiter list webpage from mpia.de to get author names\n",
    "We then get all new papers from Arxiv and match authors"
   ]
  },
  {
   "cell_type": "code",
   "execution_count": 3,
   "id": "7ea813a8",
   "metadata": {
    "execution": {
     "iopub.execute_input": "2025-05-08T04:14:10.801320Z",
     "iopub.status.busy": "2025-05-08T04:14:10.800938Z",
     "iopub.status.idle": "2025-05-08T04:14:31.301449Z",
     "shell.execute_reply": "2025-05-08T04:14:31.300809Z"
    },
    "papermill": {
     "duration": 20.505146,
     "end_time": "2025-05-08T04:14:31.302550",
     "exception": false,
     "start_time": "2025-05-08T04:14:10.797404",
     "status": "completed"
    },
    "tags": []
   },
   "outputs": [],
   "source": [
    "# deal with the author list and edge cases of people that cannot be consistent on their name  \n",
    "\n",
    "def filter_non_scientists(name: str) -> bool:\n",
    "    \"\"\" Loose filter on expected authorships\n",
    "\n",
    "    removing IT, administration, technical staff\n",
    "    :param name: name\n",
    "    :returns: False if name is not a scientist\n",
    "    \"\"\"\n",
    "    remove_list = ['Licht', 'Binroth', 'Witzel', 'Jordan',\n",
    "                   'Zähringer', 'Scheerer', 'Hoffmann', 'Düe',\n",
    "                   'Hellmich', 'Enkler-Scharpegge', 'Witte-Nguy',\n",
    "                   'Dehen', 'Beckmann', 'Jager', 'Jäger'\n",
    "                  ]\n",
    "\n",
    "    for k in remove_list:\n",
    "        if k in name:\n",
    "            return False\n",
    "    return True\n",
    "\n",
    "def add_author_to_list(author_list: list) -> list:\n",
    "    \"\"\" Add author to list if not already in list\n",
    "    \n",
    "    :param author: author name\n",
    "    :param author_list: list of authors\n",
    "    :returns: updated list of authors\n",
    "    \"\"\"\n",
    "    add_list = ['T. Henning']\n",
    "\n",
    "    for author in add_list:\n",
    "        if author not in author_list:\n",
    "            author_list.append(author)\n",
    "    return author_list\n",
    "\n",
    "# get list from MPIA website\n",
    "# filter for non-scientists (mpia.get_mpia_mitarbeiter_list() does some filtering)\n",
    "mpia_authors = [k[1] for k in mpia.get_mpia_mitarbeiter_list() if filter_non_scientists(k[1])]\n",
    "# add some missing author because of inconsistencies in their MPIA name and author name on papers\n",
    "mpia_authors = add_author_to_list(mpia_authors)"
   ]
  },
  {
   "cell_type": "code",
   "execution_count": 4,
   "id": "2645e73a",
   "metadata": {
    "execution": {
     "iopub.execute_input": "2025-05-08T04:14:31.309885Z",
     "iopub.status.busy": "2025-05-08T04:14:31.309449Z",
     "iopub.status.idle": "2025-05-08T04:14:32.169560Z",
     "shell.execute_reply": "2025-05-08T04:14:32.168959Z"
    },
    "papermill": {
     "duration": 0.864813,
     "end_time": "2025-05-08T04:14:32.170556",
     "exception": false,
     "start_time": "2025-05-08T04:14:31.305743",
     "status": "completed"
    },
    "tags": []
   },
   "outputs": [
    {
     "name": "stdout",
     "output_type": "stream",
     "text": [
      "J. Wolf  ->  D. J. Wolf  |  ['J. Wolf']\n",
      "K. Jahnke  ->  K. Jahnke  |  ['K. Jahnke']\n",
      "J. Li  ->  J. Li  |  ['J. Li']\n",
      "M. Demianenko  ->  M. Demianenko  |  ['M. Demianenko']\n",
      "J.-U. Pott  ->  J.-U. Pott  |  ['J.-U. Pott']\n",
      "Y. Wang  ->  Y. Wang  |  ['Y. Wang']\n"
     ]
    },
    {
     "name": "stdout",
     "output_type": "stream",
     "text": [
      "N. Martin  ->  N. Martin  |  ['N. Martin']\n",
      "J. Shi  ->  J. Shi  |  ['J. Shi']\n",
      "Arxiv has 67 new papers today\n",
      "          6 with possible author matches\n"
     ]
    }
   ],
   "source": [
    "new_papers = get_new_papers()\n",
    "# add manual references\n",
    "add_paper_refs = []\n",
    "new_papers.extend([get_paper_from_identifier(k) for k in add_paper_refs])\n",
    "\n",
    "def robust_call(fn, value, *args, **kwargs):\n",
    "    try:\n",
    "        return fn(value, *args, **kwargs)\n",
    "    except Exception:\n",
    "        return value\n",
    "\n",
    "candidates = []\n",
    "for paperk in new_papers:\n",
    "    # Check author list with their initials\n",
    "    normed_author_list = [robust_call(mpia.get_initials, k) for k in paperk['authors']]\n",
    "    hl_authors = highlight_authors_in_list(normed_author_list, mpia_authors, verbose=True)\n",
    "    matches = [(hl, orig) for hl, orig in zip(hl_authors, paperk['authors']) if 'mark' in hl]\n",
    "    paperk['authors'] = hl_authors\n",
    "    if matches:\n",
    "        # only select paper if an author matched our list\n",
    "        candidates.append(paperk)\n",
    "print(\"\"\"Arxiv has {0:,d} new papers today\"\"\".format(len(new_papers)))        \n",
    "print(\"\"\"          {0:,d} with possible author matches\"\"\".format(len(candidates)))"
   ]
  },
  {
   "cell_type": "markdown",
   "id": "3543b34a",
   "metadata": {
    "papermill": {
     "duration": 0.003101,
     "end_time": "2025-05-08T04:14:32.176999",
     "exception": false,
     "start_time": "2025-05-08T04:14:32.173898",
     "status": "completed"
    },
    "tags": []
   },
   "source": [
    "# Parse sources and generate relevant outputs\n",
    "\n",
    "From the candidates, we do the following steps:\n",
    "* get their tarball from ArXiv (and extract data)\n",
    "* find the main .tex file: find one with \\documentclass{...} (sometimes it's non trivial)\n",
    "* Check affiliations with :func:`validation`, which uses :func:`mpia.affiliation_verifications`\n",
    "* If passing the affiliations: we parse the .tex source\n",
    "   * inject sub-documents into the main (flatten the main document)\n",
    "   * parse structure, extract information (title, abstract, authors, figures...)\n",
    "   * handles `\\graphicspath` if provided\n",
    "* Generate the .md document."
   ]
  },
  {
   "cell_type": "code",
   "execution_count": 5,
   "id": "9576b79e",
   "metadata": {
    "execution": {
     "iopub.execute_input": "2025-05-08T04:14:32.184096Z",
     "iopub.status.busy": "2025-05-08T04:14:32.183717Z",
     "iopub.status.idle": "2025-05-08T04:17:02.316876Z",
     "shell.execute_reply": "2025-05-08T04:17:02.316241Z"
    },
    "papermill": {
     "duration": 150.137814,
     "end_time": "2025-05-08T04:17:02.317863",
     "exception": false,
     "start_time": "2025-05-08T04:14:32.180049",
     "status": "completed"
    },
    "scrolled": false,
    "tags": []
   },
   "outputs": [
    {
     "data": {
      "application/vnd.jupyter.widget-view+json": {
       "model_id": "52461a499deb41cc8571f0211005daa4",
       "version_major": 2,
       "version_minor": 0
      },
      "text/plain": [
       "  0%|          | 0/6 [00:00<?, ?it/s]"
      ]
     },
     "metadata": {},
     "output_type": "display_data"
    },
    {
     "name": "stdout",
     "output_type": "stream",
     "text": [
      "Retrieving document from  https://arxiv.org/e-print/2505.03872\n"
     ]
    },
    {
     "name": "stdout",
     "output_type": "stream",
     "text": [
      "extracting tarball to tmp_2505.03872..."
     ]
    },
    {
     "name": "stdout",
     "output_type": "stream",
     "text": [
      " done.\n"
     ]
    },
    {
     "name": "stdout",
     "output_type": "stream",
     "text": [
      "J. Wolf  ->  D. J. Wolf  |  ['J. Wolf']\n"
     ]
    },
    {
     "name": "stderr",
     "output_type": "stream",
     "text": [
      "/opt/hostedtoolcache/Python/3.9.22/x64/lib/python3.9/site-packages/arxiv_on_deck_2/latex.py:132: LatexWarning: attempting recovering figure figures/eFEDS_deltaT_subplots.pdf\n",
      "  warnings.warn(LatexWarning(f'attempting recovering figure {image}'))\n",
      "/opt/hostedtoolcache/Python/3.9.22/x64/lib/python3.9/site-packages/arxiv_on_deck_2/latex.py:707: LatexWarning: Could not find graphic \\includegraphics[width=\\columnwidth]{figures/eFEDS_deltaT_subplots.pdf}\n",
      "  warnings.warn(LatexWarning(f\"Could not find graphic {k}\"))\n",
      "/opt/hostedtoolcache/Python/3.9.22/x64/lib/python3.9/site-packages/arxiv_on_deck_2/latex.py:132: LatexWarning: attempting recovering figure figures/SNR_cumulative_NumFrac_ls.pdf\n",
      "  warnings.warn(LatexWarning(f'attempting recovering figure {image}'))\n",
      "/opt/hostedtoolcache/Python/3.9.22/x64/lib/python3.9/site-packages/arxiv_on_deck_2/latex.py:707: LatexWarning: Could not find graphic \\includegraphics[width=\\columnwidth]{figures/SNR_cumulative_NumFrac_ls.pdf}\n",
      "  warnings.warn(LatexWarning(f\"Could not find graphic {k}\"))\n",
      "/opt/hostedtoolcache/Python/3.9.22/x64/lib/python3.9/site-packages/arxiv_on_deck_2/latex.py:132: LatexWarning: attempting recovering figure figures/grzw_class_normq3_hist.pdf\n",
      "  warnings.warn(LatexWarning(f'attempting recovering figure {image}'))\n",
      "/opt/hostedtoolcache/Python/3.9.22/x64/lib/python3.9/site-packages/arxiv_on_deck_2/latex.py:707: LatexWarning: Could not find graphic \\includegraphics[width=\\columnwidth]{figures/grzw_class_normq3_hist.pdf}\n",
      "  warnings.warn(LatexWarning(f\"Could not find graphic {k}\"))\n",
      "/opt/hostedtoolcache/Python/3.9.22/x64/lib/python3.9/site-packages/arxiv_on_deck_2/latex.py:132: LatexWarning: attempting recovering figure figures/xrayflux_r_class_hist.pdf\n",
      "  warnings.warn(LatexWarning(f'attempting recovering figure {image}'))\n",
      "/opt/hostedtoolcache/Python/3.9.22/x64/lib/python3.9/site-packages/arxiv_on_deck_2/latex.py:707: LatexWarning: Could not find graphic \\includegraphics[width=\\columnwidth]{figures/xrayflux_r_class_hist.pdf}\n",
      "  warnings.warn(LatexWarning(f\"Could not find graphic {k}\"))\n",
      "/opt/hostedtoolcache/Python/3.9.22/x64/lib/python3.9/site-packages/arxiv_on_deck_2/latex.py:132: LatexWarning: attempting recovering figure figures/hist_FxForatio.pdf\n",
      "  warnings.warn(LatexWarning(f'attempting recovering figure {image}'))\n",
      "/opt/hostedtoolcache/Python/3.9.22/x64/lib/python3.9/site-packages/arxiv_on_deck_2/latex.py:707: LatexWarning: Could not find graphic \\includegraphics[width=\\columnwidth]{figures/hist_FxForatio.pdf}\n",
      "  warnings.warn(LatexWarning(f\"Could not find graphic {k}\"))\n",
      "/opt/hostedtoolcache/Python/3.9.22/x64/lib/python3.9/site-packages/arxiv_on_deck_2/latex.py:132: LatexWarning: attempting recovering figure figures/r_redshift_zsurveys_hist.pdf\n",
      "  warnings.warn(LatexWarning(f'attempting recovering figure {image}'))\n",
      "/opt/hostedtoolcache/Python/3.9.22/x64/lib/python3.9/site-packages/arxiv_on_deck_2/latex.py:707: LatexWarning: Could not find graphic \\includegraphics[width=\\columnwidth]{figures/r_redshift_zsurveys_hist.pdf}\n",
      "  warnings.warn(LatexWarning(f\"Could not find graphic {k}\"))\n",
      "/opt/hostedtoolcache/Python/3.9.22/x64/lib/python3.9/site-packages/arxiv_on_deck_2/latex.py:132: LatexWarning: attempting recovering figure figures/r_cumulative_NumFrac.pdf\n",
      "  warnings.warn(LatexWarning(f'attempting recovering figure {image}'))\n",
      "/opt/hostedtoolcache/Python/3.9.22/x64/lib/python3.9/site-packages/arxiv_on_deck_2/latex.py:707: LatexWarning: Could not find graphic \\includegraphics[width=\\columnwidth]{figures/r_cumulative_NumFrac.pdf}\n",
      "  warnings.warn(LatexWarning(f\"Could not find graphic {k}\"))\n",
      "/opt/hostedtoolcache/Python/3.9.22/x64/lib/python3.9/site-packages/arxiv_on_deck_2/latex.py:132: LatexWarning: attempting recovering figure figures/lumfunc_xraylum_2plots.pdf\n",
      "  warnings.warn(LatexWarning(f'attempting recovering figure {image}'))\n",
      "/opt/hostedtoolcache/Python/3.9.22/x64/lib/python3.9/site-packages/arxiv_on_deck_2/latex.py:707: LatexWarning: Could not find graphic \\includegraphics[width=\\columnwidth]{figures/lumfunc_xraylum_2plots.pdf}\n",
      "  warnings.warn(LatexWarning(f\"Could not find graphic {k}\"))\n",
      "/opt/hostedtoolcache/Python/3.9.22/x64/lib/python3.9/site-packages/arxiv_on_deck_2/latex.py:132: LatexWarning: attempting recovering figure figures/grzw_xraylum_tracks_hexbin.pdf\n",
      "  warnings.warn(LatexWarning(f'attempting recovering figure {image}'))\n",
      "/opt/hostedtoolcache/Python/3.9.22/x64/lib/python3.9/site-packages/arxiv_on_deck_2/latex.py:707: LatexWarning: Could not find graphic \\includegraphics[width=\\columnwidth]{figures/grzw_xraylum_tracks_hexbin.pdf}\n",
      "  warnings.warn(LatexWarning(f\"Could not find graphic {k}\"))\n",
      "/opt/hostedtoolcache/Python/3.9.22/x64/lib/python3.9/site-packages/arxiv_on_deck_2/latex.py:132: LatexWarning: attempting recovering figure figures/gr_redshift_stackingbins.pdf\n",
      "  warnings.warn(LatexWarning(f'attempting recovering figure {image}'))\n",
      "/opt/hostedtoolcache/Python/3.9.22/x64/lib/python3.9/site-packages/arxiv_on_deck_2/latex.py:707: LatexWarning: Could not find graphic \\includegraphics[width=\\columnwidth]{figures/gr_redshift_stackingbins.pdf}\n",
      "  warnings.warn(LatexWarning(f\"Could not find graphic {k}\"))\n",
      "/opt/hostedtoolcache/Python/3.9.22/x64/lib/python3.9/site-packages/arxiv_on_deck_2/latex.py:132: LatexWarning: attempting recovering figure figures/Lx_redshift_stackingbins.pdf\n",
      "  warnings.warn(LatexWarning(f'attempting recovering figure {image}'))\n",
      "/opt/hostedtoolcache/Python/3.9.22/x64/lib/python3.9/site-packages/arxiv_on_deck_2/latex.py:707: LatexWarning: Could not find graphic \\includegraphics[width=\\columnwidth]{figures/Lx_redshift_stackingbins.pdf}\n",
      "  warnings.warn(LatexWarning(f\"Could not find graphic {k}\"))\n",
      "/opt/hostedtoolcache/Python/3.9.22/x64/lib/python3.9/site-packages/arxiv_on_deck_2/latex.py:132: LatexWarning: attempting recovering figure figures/eFEDS_SDSSV_DR18_spectro_sample_map_v05.pdf\n",
      "  warnings.warn(LatexWarning(f'attempting recovering figure {image}'))\n",
      "/opt/hostedtoolcache/Python/3.9.22/x64/lib/python3.9/site-packages/arxiv_on_deck_2/latex.py:707: LatexWarning: Could not find graphic \\includegraphics[width=\\textwidth]{figures/eFEDS_SDSSV_DR18_spectro_sample_map_v05.pdf}\n",
      "  warnings.warn(LatexWarning(f\"Could not find graphic {k}\"))\n",
      "/opt/hostedtoolcache/Python/3.9.22/x64/lib/python3.9/site-packages/arxiv_on_deck_2/latex.py:132: LatexWarning: attempting recovering figure figures/hist_mjd_repetition.pdf\n",
      "  warnings.warn(LatexWarning(f'attempting recovering figure {image}'))\n",
      "/opt/hostedtoolcache/Python/3.9.22/x64/lib/python3.9/site-packages/arxiv_on_deck_2/latex.py:707: LatexWarning: Could not find graphic \\includegraphics[width=\\textwidth]{figures/hist_mjd_repetition.pdf}\n",
      "  warnings.warn(LatexWarning(f\"Could not find graphic {k}\"))\n",
      "/opt/hostedtoolcache/Python/3.9.22/x64/lib/python3.9/site-packages/arxiv_on_deck_2/latex.py:132: LatexWarning: attempting recovering figure figures/datadensity_contours.pdf\n",
      "  warnings.warn(LatexWarning(f'attempting recovering figure {image}'))\n",
      "/opt/hostedtoolcache/Python/3.9.22/x64/lib/python3.9/site-packages/arxiv_on_deck_2/latex.py:707: LatexWarning: Could not find graphic \\includegraphics[width=0.9\\textwidth]{figures/datadensity_contours.pdf}\n",
      "  warnings.warn(LatexWarning(f\"Could not find graphic {k}\"))\n",
      "/opt/hostedtoolcache/Python/3.9.22/x64/lib/python3.9/site-packages/arxiv_on_deck_2/latex.py:132: LatexWarning: attempting recovering figure figures/completeness_contour.pdf\n",
      "  warnings.warn(LatexWarning(f'attempting recovering figure {image}'))\n",
      "/opt/hostedtoolcache/Python/3.9.22/x64/lib/python3.9/site-packages/arxiv_on_deck_2/latex.py:707: LatexWarning: Could not find graphic \\includegraphics[width=0.9\\textwidth]{figures/completeness_contour.pdf}\n",
      "  warnings.warn(LatexWarning(f\"Could not find graphic {k}\"))\n",
      "/opt/hostedtoolcache/Python/3.9.22/x64/lib/python3.9/site-packages/arxiv_on_deck_2/latex.py:132: LatexWarning: attempting recovering figure figures/histcum_nH_colorbin_zplot.pdf\n",
      "  warnings.warn(LatexWarning(f'attempting recovering figure {image}'))\n",
      "/opt/hostedtoolcache/Python/3.9.22/x64/lib/python3.9/site-packages/arxiv_on_deck_2/latex.py:707: LatexWarning: Could not find graphic \\includegraphics[width=0.9\\textwidth]{figures/histcum_nH_colorbin_zplot.pdf}\n",
      "  warnings.warn(LatexWarning(f\"Could not find graphic {k}\"))\n",
      "/opt/hostedtoolcache/Python/3.9.22/x64/lib/python3.9/site-packages/arxiv_on_deck_2/latex.py:132: LatexWarning: attempting recovering figure figures/stacked_z05.pdf\n",
      "  warnings.warn(LatexWarning(f'attempting recovering figure {image}'))\n",
      "/opt/hostedtoolcache/Python/3.9.22/x64/lib/python3.9/site-packages/arxiv_on_deck_2/latex.py:707: LatexWarning: Could not find graphic \\includegraphics[width=\\textwidth]{figures/stacked_z05.pdf}\n",
      "  warnings.warn(LatexWarning(f\"Could not find graphic {k}\"))\n",
      "/opt/hostedtoolcache/Python/3.9.22/x64/lib/python3.9/site-packages/arxiv_on_deck_2/latex.py:132: LatexWarning: attempting recovering figure figures/stacked_z05_zoom.pdf\n",
      "  warnings.warn(LatexWarning(f'attempting recovering figure {image}'))\n",
      "/opt/hostedtoolcache/Python/3.9.22/x64/lib/python3.9/site-packages/arxiv_on_deck_2/latex.py:707: LatexWarning: Could not find graphic \\includegraphics[width=\\textwidth]{figures/stacked_z05_zoom.pdf}\n",
      "  warnings.warn(LatexWarning(f\"Could not find graphic {k}\"))\n",
      "/opt/hostedtoolcache/Python/3.9.22/x64/lib/python3.9/site-packages/arxiv_on_deck_2/latex.py:132: LatexWarning: attempting recovering figure figures/stacked_05z1.pdf\n",
      "  warnings.warn(LatexWarning(f'attempting recovering figure {image}'))\n",
      "/opt/hostedtoolcache/Python/3.9.22/x64/lib/python3.9/site-packages/arxiv_on_deck_2/latex.py:707: LatexWarning: Could not find graphic \\includegraphics[width=\\textwidth]{figures/stacked_05z1.pdf}\n",
      "  warnings.warn(LatexWarning(f\"Could not find graphic {k}\"))\n",
      "/opt/hostedtoolcache/Python/3.9.22/x64/lib/python3.9/site-packages/arxiv_on_deck_2/latex.py:132: LatexWarning: attempting recovering figure figures/stacked_05z1_zoom.pdf\n",
      "  warnings.warn(LatexWarning(f'attempting recovering figure {image}'))\n",
      "/opt/hostedtoolcache/Python/3.9.22/x64/lib/python3.9/site-packages/arxiv_on_deck_2/latex.py:707: LatexWarning: Could not find graphic \\includegraphics[width=\\textwidth]{figures/stacked_05z1_zoom.pdf}\n",
      "  warnings.warn(LatexWarning(f\"Could not find graphic {k}\"))\n",
      "/opt/hostedtoolcache/Python/3.9.22/x64/lib/python3.9/site-packages/arxiv_on_deck_2/latex.py:132: LatexWarning: attempting recovering figure figures/stacked_1z2.pdf\n",
      "  warnings.warn(LatexWarning(f'attempting recovering figure {image}'))\n",
      "/opt/hostedtoolcache/Python/3.9.22/x64/lib/python3.9/site-packages/arxiv_on_deck_2/latex.py:707: LatexWarning: Could not find graphic \\includegraphics[width=\\textwidth]{figures/stacked_1z2.pdf}\n",
      "  warnings.warn(LatexWarning(f\"Could not find graphic {k}\"))\n",
      "/opt/hostedtoolcache/Python/3.9.22/x64/lib/python3.9/site-packages/arxiv_on_deck_2/latex.py:132: LatexWarning: attempting recovering figure figures/stacked_1z2_zoom.pdf\n",
      "  warnings.warn(LatexWarning(f'attempting recovering figure {image}'))\n",
      "/opt/hostedtoolcache/Python/3.9.22/x64/lib/python3.9/site-packages/arxiv_on_deck_2/latex.py:707: LatexWarning: Could not find graphic \\includegraphics[width=\\textwidth]{figures/stacked_1z2_zoom.pdf}\n",
      "  warnings.warn(LatexWarning(f\"Could not find graphic {k}\"))\n",
      "/opt/hostedtoolcache/Python/3.9.22/x64/lib/python3.9/site-packages/arxiv_on_deck_2/latex.py:132: LatexWarning: attempting recovering figure figures/stacked_2z.pdf\n",
      "  warnings.warn(LatexWarning(f'attempting recovering figure {image}'))\n",
      "/opt/hostedtoolcache/Python/3.9.22/x64/lib/python3.9/site-packages/arxiv_on_deck_2/latex.py:707: LatexWarning: Could not find graphic \\includegraphics[width=\\textwidth]{figures/stacked_2z.pdf}\n",
      "  warnings.warn(LatexWarning(f\"Could not find graphic {k}\"))\n",
      "/opt/hostedtoolcache/Python/3.9.22/x64/lib/python3.9/site-packages/arxiv_on_deck_2/latex.py:132: LatexWarning: attempting recovering figure figures/stacked_2z_zoom.pdf\n",
      "  warnings.warn(LatexWarning(f'attempting recovering figure {image}'))\n",
      "/opt/hostedtoolcache/Python/3.9.22/x64/lib/python3.9/site-packages/arxiv_on_deck_2/latex.py:707: LatexWarning: Could not find graphic \\includegraphics[width=\\textwidth]{figures/stacked_2z_zoom.pdf}\n",
      "  warnings.warn(LatexWarning(f\"Could not find graphic {k}\"))\n"
     ]
    },
    {
     "name": "stdout",
     "output_type": "stream",
     "text": [
      "Found 105 bibliographic references in tmp_2505.03872/aa54372-25.bbl.\n",
      "Retrieving document from  https://arxiv.org/e-print/2505.03876\n"
     ]
    },
    {
     "name": "stdout",
     "output_type": "stream",
     "text": [
      "extracting tarball to tmp_2505.03876..."
     ]
    },
    {
     "name": "stdout",
     "output_type": "stream",
     "text": [
      " done.\n"
     ]
    },
    {
     "name": "stdout",
     "output_type": "stream",
     "text": [
      "K. Jahnke  ->  K. Jahnke  |  ['K. Jahnke']\n",
      "J. Li  ->  J. Li  |  ['J. Li']\n"
     ]
    },
    {
     "name": "stdout",
     "output_type": "stream",
     "text": [
      "Found 84 bibliographic references in tmp_2505.03876/manuscript.bbl.\n",
      "Retrieving document from  https://arxiv.org/e-print/2505.03890\n"
     ]
    },
    {
     "name": "stdout",
     "output_type": "stream",
     "text": [
      "extracting tarball to tmp_2505.03890..."
     ]
    },
    {
     "name": "stdout",
     "output_type": "stream",
     "text": [
      " done.\n"
     ]
    },
    {
     "name": "stdout",
     "output_type": "stream",
     "text": [
      "M. Demianenko  ->  M. Demianenko  |  ['M. Demianenko']\n",
      "J.-U. Pott  ->  J.-U. Pott  |  ['J.-U. Pott']\n"
     ]
    },
    {
     "name": "stdout",
     "output_type": "stream",
     "text": [
      "Found 95 bibliographic references in tmp_2505.03890/aanda.bbl.\n",
      "Issues with the citations\n",
      "syntax error in line 466: '=' expected\n",
      "Retrieving document from  https://arxiv.org/e-print/2505.04275\n",
      "extracting tarball to tmp_2505.04275..."
     ]
    },
    {
     "name": "stdout",
     "output_type": "stream",
     "text": [
      " done.\n",
      "Retrieving document from  https://arxiv.org/e-print/2505.04475\n",
      "extracting tarball to tmp_2505.04475... done.\n"
     ]
    },
    {
     "name": "stdout",
     "output_type": "stream",
     "text": [
      "Found 177 bibliographic references in tmp_2505.04475/Main_Paper.bbl.\n",
      "Retrieving document from  https://arxiv.org/e-print/2505.04610\n"
     ]
    },
    {
     "name": "stdout",
     "output_type": "stream",
     "text": [
      "extracting tarball to tmp_2505.04610..."
     ]
    },
    {
     "name": "stdout",
     "output_type": "stream",
     "text": [
      " done.\n"
     ]
    }
   ],
   "source": [
    "documents = []\n",
    "failed = []\n",
    "for paper in tqdm(candidates):\n",
    "    # debug crap\n",
    "    paper['identifier'] = paper['identifier'].lower().replace('arxiv:', '').replace(r'\\n', '').strip()\n",
    "    paper_id = paper['identifier']\n",
    "    \n",
    "    folder = f'tmp_{paper_id}'\n",
    "\n",
    "    try:\n",
    "        if not os.path.isdir(folder):\n",
    "            folder = retrieve_document_source(f\"{paper_id}\", f'tmp_{paper_id}')\n",
    "        \n",
    "        try:\n",
    "            doc = latex.LatexDocument(folder, validation=validation)    \n",
    "        except AffiliationError as affilerror:\n",
    "            msg = f\"ArXiv:{paper_id:s} is not an MPIA paper... \" + str(affilerror)\n",
    "            failed.append((paper, \"affiliation error: \" + str(affilerror) ))\n",
    "            continue\n",
    "        \n",
    "        # Hack because sometimes author parsing does not work well\n",
    "        if (len(doc.authors) != len(paper['authors'])):\n",
    "            doc._authors = paper['authors']\n",
    "        else:\n",
    "            # highlight authors (FIXME: doc.highlight_authors)\n",
    "            # done on arxiv paper already\n",
    "            doc._authors = highlight_authors_in_list(\n",
    "                [get_initials(k) for k in doc.authors], \n",
    "                mpia_authors, verbose=True)\n",
    "        if (doc.abstract) in (None, ''):\n",
    "            doc._abstract = paper['abstract']\n",
    "            \n",
    "        doc.comment = (get_markdown_badge(paper_id) + \n",
    "                       \"<mark>Appeared on: \" + paper['date'] + \"</mark> - \")\n",
    "        if paper['comments']:\n",
    "            doc.comment += \" _\" + paper['comments'] + \"_\"\n",
    "        \n",
    "        full_md = doc.generate_markdown_text()\n",
    "        \n",
    "        full_md += get_markdown_qrcode(paper_id)\n",
    "        \n",
    "        # replace citations\n",
    "        try:\n",
    "            bibdata = latex_bib.LatexBib.from_doc(doc)\n",
    "            full_md = latex_bib.replace_citations(full_md, bibdata)\n",
    "        except Exception as e:\n",
    "            print(\"Issues with the citations\")\n",
    "            print(e)\n",
    "        \n",
    "        documents.append((paper_id, full_md))\n",
    "    except Exception as e:\n",
    "        warnings.warn(latex.LatexWarning(f\"{paper_id:s} did not run properly\\n\" +\n",
    "                                         str(e)\n",
    "                                        ))\n",
    "        failed.append((paper, \"latex error \" + str(e)))"
   ]
  },
  {
   "cell_type": "markdown",
   "id": "2505a25c",
   "metadata": {
    "papermill": {
     "duration": 0.004108,
     "end_time": "2025-05-08T04:17:02.326321",
     "exception": false,
     "start_time": "2025-05-08T04:17:02.322213",
     "status": "completed"
    },
    "tags": []
   },
   "source": [
    "### Export the logs\n",
    "\n",
    "Throughout, we also keep track of the logs per paper. see `logs-{today date}.md` "
   ]
  },
  {
   "cell_type": "code",
   "execution_count": 6,
   "id": "d733828a",
   "metadata": {
    "execution": {
     "iopub.execute_input": "2025-05-08T04:17:02.335410Z",
     "iopub.status.busy": "2025-05-08T04:17:02.335083Z",
     "iopub.status.idle": "2025-05-08T04:17:02.351926Z",
     "shell.execute_reply": "2025-05-08T04:17:02.351391Z"
    },
    "papermill": {
     "duration": 0.022567,
     "end_time": "2025-05-08T04:17:02.352897",
     "exception": false,
     "start_time": "2025-05-08T04:17:02.330330",
     "status": "completed"
    },
    "scrolled": false,
    "tags": []
   },
   "outputs": [
    {
     "data": {
      "text/markdown": [
       "## Successful papers"
      ],
      "text/plain": [
       "<IPython.core.display.Markdown object>"
      ]
     },
     "metadata": {},
     "output_type": "display_data"
    },
    {
     "data": {
      "text/markdown": [
       "\n",
       "|||\n",
       "|---:|:---|\n",
       "| [![arXiv](https://img.shields.io/badge/arXiv-2505.03872-b31b1b.svg)](https://arxiv.org/abs/2505.03872) | **The eROSITA Final Equatorial Depth Survey (eFEDS): SDSS spectroscopic observations of X-ray sources**  |\n",
       "|| C. Aydar, et al. -- incl., <mark>J. Wolf</mark> |\n",
       "|*Appeared on*| *2025-05-08*|\n",
       "|*Comments*| **|\n",
       "|**Abstract**|            We present one of the largest uniform optical spectroscopic surveys of X-ray selected sources to date that were observed as a pilot study for the Black Hole Mapper (BHM) survey. The BHM program of the Sloan Digital Sky Survey (SDSS)-V is designed to provide optical spectra for hundreds of thousands of X-ray selected sources from the SRG/eROSITA all-sky survey. This significantly improves our ability to classify and characterise the physical properties of large statistical populations of X-ray emitting objects. Our sample consists of 13079 sources in the eROSITA eFEDS performance verification field, 12011 of which provide reliable redshifts from 0<z<5.8. The vast majority of these objects were detected as point-like sources (X-ray flux limit F(0.5-2 keV)>6.5x10^-15 erg/s/cm^2) and were observed for about 20 years with fibre-fed SDSS spectrographs. After including all available redshift information for the eFEDS sources from the dedicated SDSS-V plate programme and archival data, we visually inspected the SDSS optical spectra to verify the reliability of these redshift measurements and the performance of the SDSS pipeline. The visual inspection allowed us to recover reliable redshifts (for 99% of the spectra with a signal-to-noise ratio of >2) and to assign classes to the sources, and we confirm that the vast majority of our sample consists of active galactic nuclei (AGNs). Only ~3% of the eFEDS/SDSS sources are Galactic objects. We also show the diversity of the optical spectra of the X-ray selected AGNs and provide spectral stacks with a high signal-to-noise ratio in various sub-samples with different redshift and optical broad-band colours. Our AGN sample contains optical spectra of (broad-line) quasars, narrow-line galaxies, and optically passive galaxies. It is considerably diverse in its colours and in its levels of nuclear obscuration.         |"
      ],
      "text/plain": [
       "[2505.03872] The eROSITA Final Equatorial Depth Survey (eFEDS): SDSS spectroscopic observations of X-ray sources\n",
       "\tC. Aydar, et al. -- incl., <mark>J. Wolf</mark>"
      ]
     },
     "metadata": {},
     "output_type": "display_data"
    },
    {
     "data": {
      "text/markdown": [
       "\n",
       "|||\n",
       "|---:|:---|\n",
       "| [![arXiv](https://img.shields.io/badge/arXiv-2505.03876-b31b1b.svg)](https://arxiv.org/abs/2505.03876) | **SHELLQs-JWST Unveils the Host Galaxies of Twelve Quasars at $z>6$**  |\n",
       "|| X. Ding, et al. -- incl., <mark>K. Jahnke</mark>, <mark>J. Li</mark> |\n",
       "|*Appeared on*| *2025-05-08*|\n",
       "|*Comments*| *22 pages, 10 figures, 6 tables. submitted to ApJ; Comments welcome*|\n",
       "|**Abstract**|            The advent of JWST has opened new horizons in the study of quasar host galaxies during the reionization epoch ($z > 6$). Building upon our previous initial uncovering of stellar light from two quasar host galaxies at these redshifts, we now report the detection of the stellar light from the full Cycle 1 sample of 12 distant moderate-luminosity quasar ($M_{1450}>-24$ mag) host galaxies at $z>6$ from the Hyper Suprime-Cam Subaru Strategic Program (HSC-SSP). Using JWST/NIRCam observations at 1.5 and 3.6 $\\mu$m combined with 2D image decomposition analysis, we successfully detect the host galaxies in 11 out of 12 targets, underscoring the high detection rates achievable with moderate-luminosity quasars. Based on two-band photometry and SED fitting, we find that our host galaxies are massive with log~M$_*$/M$_{\\odot} = 9.5\\text{-}11.0$. The effective radii range from 0.6 to 3.2 kpc which is comparable to the sizes of inactive galaxies with similar masses as measured with imaging from COSMOS-Web. Intriguingly, the two quasar hosts with post-starburst features, which reside at the high-mass end of our sample and exhibit relatively compact morphologies, are consistent (at the 1-$\\sigma$ level) with quiescent galaxies at $z\\sim4\\text{-}5$ in terms of their sizes and stellar mass surface densities. These findings support the so-called galaxy compaction scenario already being valid at the reionization epoch ($z>6$), in which gas inflows during starburst phases drive centrally concentrated star formation followed by rapid quenching, bridging the structural transition of massive galaxies from relatively extended star-forming disks to compact quiescent systems.         |"
      ],
      "text/plain": [
       "[2505.03876] SHELLQs-JWST Unveils the Host Galaxies of Twelve Quasars at $z>6$\n",
       "\tX. Ding, et al. -- incl., <mark>K. Jahnke</mark>, <mark>J. Li</mark>"
      ]
     },
     "metadata": {},
     "output_type": "display_data"
    },
    {
     "data": {
      "text/markdown": [
       "\n",
       "|||\n",
       "|---:|:---|\n",
       "| [![arXiv](https://img.shields.io/badge/arXiv-2505.03890-b31b1b.svg)](https://arxiv.org/abs/2505.03890) | **Broad line region echo from rapidly accreting intermediate-mass black hole candidate SDSS J144850.08+160803.1. The first probe of intra-night variability and reverberation mapping**  |\n",
       "|| <mark>M. Demianenko</mark>, et al. -- incl., <mark>J.-U. Pott</mark> |\n",
       "|*Appeared on*| *2025-05-08*|\n",
       "|*Comments*| *Submitted to A&A on 14.04.2025, 18 pages, 13 figures*|\n",
       "|**Abstract**|            Context. Elusive intermediate-mass black holes (IMBHs; $100~M_{\\odot} \\leq M_{\\rm BH}\\leq 2\\times10^{5}~M_{\\odot}$) can act as ``time-squeezing'' machines, enabling studies of AGN geometry through reverberation mapping (RM) on much shorter timescales than their supermassive siblings. Aims. The broad line region (BLR) radius constraints for IMBH candidates with different Eddington ratios probe the unexplored faint end of radius--luminosity ($R-L$) relations and allow us to build a robust $M_{\\rm BH}$ estimator. This study aims to (a) confirm a rapidly accreting IMBH candidate; (b) demonstrate the feasibility of the first photometric BLR reverberation mapping (RM) campaign for this class of objects. Methods. The IMBH candidate J1448+16 was identified in the broad H$\\alpha$-selected spectroscopic sample from SDSS. We carried out narrow-band H$\\alpha$ and broad-band SDSS~g\\'~monitoring to check small-scale variability and extract the time lag between the BLR and accretion disk (AD) continuum during 5 months (March--July 2024) using a 60-cm telescope at the Caucasus Mountain Observatory. Results. We confirmed the candidate as an active IMBH using XMM-Newton as a bright X-ray point source with the photon index $\\Gamma = 2.32^{+0.15}_{-0.13}$, suggesting the high accretion rate. From a combination of SDSS optical spectra and XMM-Newton observations, we estimate the black hole mass in the range $\\sim 0.9-2.4~\\times10^{5} M_{\\odot}$ and the Eddington rate from $\\sim 37-112\\%$. We report high-amplitude $\\sim 60\\%$ intra-night ($\\sim 2$~h) H$\\alpha$ variability in this highly accreting IMBH. In addition, we extracted a tentative measurement of a BLR RM radius $\\sim 1-8~\\mathrm{days}$. Conclusions. This work is a proof of concept for further IMBH variability studies and BLR RM campaigns, which will be essential for the calibration of the $R-L$ relation at the faint end.         |"
      ],
      "text/plain": [
       "[2505.03890] Broad line region echo from rapidly accreting intermediate-mass black hole candidate SDSS J144850.08+160803.1. The first probe of intra-night variability and reverberation mapping\n",
       "\t<mark>M. Demianenko</mark>, et al. -- incl., <mark>J.-U. Pott</mark>"
      ]
     },
     "metadata": {},
     "output_type": "display_data"
    },
    {
     "data": {
      "text/markdown": [
       "\n",
       "|||\n",
       "|---:|:---|\n",
       "| [![arXiv](https://img.shields.io/badge/arXiv-2505.04475-b31b1b.svg)](https://arxiv.org/abs/2505.04475) | **Mass Modeling the Andromeda Dwarf Galaxies: Andromeda VI and Andromeda XXIII**  |\n",
       "|| C. S. Pickett, et al. -- incl., <mark>N. Martin</mark> |\n",
       "|*Appeared on*| *2025-05-08*|\n",
       "|*Comments*| *19 pages, 16 figures. Submitted to MNRAS for review*|\n",
       "|**Abstract**|            Accurately mapping the mass profiles of low mass dwarf spheroidal (dSph) galaxies allows us to test predictions made by dark matter (DM) models. To date, such analyses have primarily been performed on Milky Way (MW) satellites. Meanwhile, the Andromeda Galaxy (M31) is home to 35 known dwarf galaxies, yet only two have been successfully mass-modeled so far. In order to better understand the nature of dark matter, a more comprehensive study of Local Group dwarfs is necessary. In this study, we have undertaken a dynamical study of two higher-luminosity Andromeda dwarf galaxies: Andromeda VI (And VI) and Andromeda XXIII (And XXIII). We infer an enclosed mass for And VI of M(r < r$_{\\rm{h}}$) = (4.9 $\\pm$ 1.5) $\\times$ 10$^{7}$ M$_{\\odot}$, corresponding to a mass-to-light ratio of $[M/L]_{r_{\\rm{h}}}$ = (27.1 $\\pm$ 8.2) M$_{\\odot}$/L$_{\\odot}$. We infer an enclosed mass for And XXIII of M(r < r$_{\\rm{h}}$) = (3.1 $\\pm$ 1.9) $\\times$ 10$^{7}$ M$_{\\odot}$, corresponding to a mass-to-light ratio of $[M/L]_{\\rm{r_{h}}}$ = (90.2 $\\pm$ 53.9) M$_{\\odot}$/L$_{\\odot}$. Using the dynamical Jeans modeling tool, GravSphere, we determine And VI and And XXIII's dark matter density at 150 pc, finding $\\rho_{\\rm{DM,VI}}$(150 pc) = (1.4 $\\pm$ 0.5) $\\times$ 10$^{8}$ M$_{\\odot}$ kpc$^{-3}$ and $\\rho_{\\rm{DM,XXIII}}$(150 pc) = 0.5$\\substack{+0.4 \\\\ -0.3} \\times$ 10$^{8}$ M$_{\\odot}$ kpc$^{-3}$. Our results make And VI the first mass-modeled M31 satellite to fall into the cuspy regime, while And XXIII has a lower density, implying either a more cored central dark matter density, or a lowering of the density through tides. This adds And XXIII to a growing list of M31 dwarfs with a central density lower than most MW dwarfs and lower than expected for isolated dwarfs in the Standard Cosmology. This could be explained by the M31 dwarfs having experienced stronger tides than their Milky Way counterparts.         |"
      ],
      "text/plain": [
       "[2505.04475] Mass Modeling the Andromeda Dwarf Galaxies: Andromeda VI and Andromeda XXIII\n",
       "\tC. S. Pickett, et al. -- incl., <mark>N. Martin</mark>"
      ]
     },
     "metadata": {},
     "output_type": "display_data"
    },
    {
     "data": {
      "text/markdown": [
       "## Failed papers"
      ],
      "text/plain": [
       "<IPython.core.display.Markdown object>"
      ]
     },
     "metadata": {},
     "output_type": "display_data"
    },
    {
     "data": {
      "text/markdown": [
       "\n",
       "|||\n",
       "|---:|:---|\n",
       "| [![arXiv](https://img.shields.io/badge/arXiv-2505.04275-b31b1b.svg)](https://arxiv.org/abs/2505.04275) | **J-PAS and PFS surveys in the era of dark energy and neutrino mass measurements**  |\n",
       "|| F. Qin, <mark>Y. Wang</mark>, G.-B. Zhao |\n",
       "|*Appeared on*| *2025-05-08*|\n",
       "|*Comments*| *17 pages, 11 figures, 6 tables; Forecast code is publicly available at this https URL*|\n",
       "|**Abstract**|            Fisher-matrix forecasts are presented for the cosmological surveys of the Javalambre Physics of the Accelerating Universe Astrophysical Survey (J-PAS) and the Subaru Prime Focus Spectrograph (PFS). The wide, low-redshift coverage of J-PAS and the high-density, high-redshift mapping of PFS are strongly complementary: combining the two reduces marginalized uncertainties on all primary parameters compared with either survey individually. Adding the joint J-PAS+PFS data to next-generation CMB measurements from CMB-S4 and \\textsc{LiteBird} yields an expected precision of $\\sigma(\\sum m_\\nu)=0.017\\,$eV in the $\\Lambda$CDM$+\\sum m_\\nu+N_{\\rm eff}$ framework, sufficient to disfavour the inverted neutrino hierarchy at $2.35\\,\\sigma$ if the true mass sum equals the normal-ordering minimum. Motivated by recent DESI results, we also forecast within a $w_0w_a$CDM$+\\sum m_\\nu+N_{\\rm eff}$ cosmology, adopting the DESI\\,DR2 best-fit values ($w_0=-0.758$, $w_a=-0.82$) as fiducial. The combination CMB+J-PAS+PFS then delivers $\\sigma(w_0)=0.044$ and $\\sigma(w_a)=0.18$, corresponding to a $5.1\\,\\sigma$ preference for a time-varying dark-energy equation of state. These findings show that J-PAS and PFS, especially when coupled with Stage-IV CMB observations, will provide competitive tests of neutrino physics and the dynamics of cosmic acceleration.         |\n",
       "|<p style=\"color:green\"> **ERROR** </p>| <p style=\"color:green\">affiliation error: mpia.affiliation_verifications: 'Heidelberg' keyword not found.</p> |"
      ],
      "text/plain": [
       "<IPython.core.display.Markdown object>"
      ]
     },
     "metadata": {},
     "output_type": "display_data"
    },
    {
     "data": {
      "text/markdown": [
       "\n",
       "|||\n",
       "|---:|:---|\n",
       "| [![arXiv](https://img.shields.io/badge/arXiv-2505.04610-b31b1b.svg)](https://arxiv.org/abs/2505.04610) | **Early and Extensive Ultraviolet Through Near Infrared Observations of the Intermediate-Luminosity Type Iax Supernovae 2024pxl**  |\n",
       "|| W. B. Hoogendam, et al. -- incl., <mark>J. Shi</mark> |\n",
       "|*Appeared on*| *2025-05-08*|\n",
       "|*Comments*| *18 pages, 12 figures, to be submitted to AAS journals*|\n",
       "|**Abstract**|            We present ultraviolet (UV) through near-infrared (NIR) photometric and spectroscopic observations of the nearby SN 2024pxl, the third Type Ia supernova (SN Ia) in NGC 6384. SN 2024pxl is a Type Iax supernova (SN Iax) with an intermediate luminosity ($M_r = -16.99\\pm0.32$ mag) and an average SN Iax light curve decline rate. SN 2024pxl was discovered $\\sim$3 days after first light, and the rising light curve follows a single power law that is inconsistent with significant interaction with a companion star or circumstellar material. Our extensive NIR photometric coverage is comparable to that of the well-observed SNe Iax 2005hk and 2012Z, and we demonstrate that the $J-H$ colors of SNe Iax differ from normal SNe Ia and appear to be more homogeneous as a class. Spectroscopically, we report the earliest-ever NIR spectrum of a SN Iax as measured from maximum light ($t\\approx-9$ days): a featureless continuum with similarities to a $\\sim$9,000 K blackbody, and the line velocities are consistent with a mixed-ejecta structure, with C, Si, and Fe having similar velocities and velocity evolutions. We find a tentative correlation between the $H$-band break Co II velocity $\\sim$20 days post-peak and absolute magnitude, with more luminous SNe Iax showing faster Co II velocities. Our observations suggest that SN 2024pxl resulted from the thermonuclear disruption of a CO white dwarf star that undergoes deflagration burning.         |\n",
       "|<p style=\"color:green\"> **ERROR** </p>| <p style=\"color:green\">affiliation error: mpia.affiliation_verifications: 'Heidelberg' keyword not found.</p> |"
      ],
      "text/plain": [
       "<IPython.core.display.Markdown object>"
      ]
     },
     "metadata": {},
     "output_type": "display_data"
    }
   ],
   "source": [
    "import datetime\n",
    "today = str(datetime.date.today())\n",
    "logfile = f\"_build/html/logs/log-{today}.md\"\n",
    "\n",
    "\n",
    "with open(logfile, 'w') as logs:\n",
    "    # Success\n",
    "    logs.write(f'# Arxiv on Deck 2: Logs - {today}\\n\\n')\n",
    "    logs.write(\"\"\"* Arxiv had {0:,d} new papers\\n\"\"\".format(len(new_papers)))\n",
    "    logs.write(\"\"\"    * {0:,d} with possible author matches\\n\\n\"\"\".format(len(candidates)))\n",
    "    logs.write(\"## Sucessful papers\\n\\n\")\n",
    "    display(Markdown(\"## Successful papers\"))\n",
    "    success = [k[0] for k in documents]\n",
    "    for candid in candidates:\n",
    "        if candid['identifier'].split(':')[-1] in success:\n",
    "            display(candid)\n",
    "            logs.write(candid.generate_markdown_text() + '\\n\\n')\n",
    "\n",
    "    ## failed\n",
    "    logs.write(\"## Failed papers\\n\\n\")\n",
    "    display(Markdown(\"## Failed papers\"))\n",
    "    failed = sorted(failed, key=lambda x: x[1])\n",
    "    current_reason = \"\"\n",
    "    for paper, reason in failed:\n",
    "        if 'affiliation' in reason:\n",
    "            color = 'green'\n",
    "        else:\n",
    "            color = 'red'\n",
    "        data = Markdown(\n",
    "                paper.generate_markdown_text() + \n",
    "                f'\\n|<p style=\"color:{color:s}\"> **ERROR** </p>| <p style=\"color:{color:s}\">{reason:s}</p> |'\n",
    "               )\n",
    "        if reason != current_reason:\n",
    "            logs.write(f'### {reason:s} \\n\\n')\n",
    "            current_reason = reason\n",
    "        logs.write(data.data + '\\n\\n')\n",
    "        \n",
    "        # only display here the important errors (all in logs)\n",
    "        # if color in ('red',):\n",
    "        display(data)"
   ]
  },
  {
   "cell_type": "markdown",
   "id": "472d20ee",
   "metadata": {
    "papermill": {
     "duration": 0.004805,
     "end_time": "2025-05-08T04:17:02.362706",
     "exception": false,
     "start_time": "2025-05-08T04:17:02.357901",
     "status": "completed"
    },
    "tags": []
   },
   "source": [
    "## Export documents\n",
    "\n",
    "We now write the .md files and export relevant images"
   ]
  },
  {
   "cell_type": "code",
   "execution_count": 7,
   "id": "d426aed9",
   "metadata": {
    "execution": {
     "iopub.execute_input": "2025-05-08T04:17:02.373101Z",
     "iopub.status.busy": "2025-05-08T04:17:02.372908Z",
     "iopub.status.idle": "2025-05-08T04:17:02.379755Z",
     "shell.execute_reply": "2025-05-08T04:17:02.379205Z"
    },
    "papermill": {
     "duration": 0.013082,
     "end_time": "2025-05-08T04:17:02.380645",
     "exception": false,
     "start_time": "2025-05-08T04:17:02.367563",
     "status": "completed"
    },
    "tags": []
   },
   "outputs": [],
   "source": [
    "def export_markdown_summary(md: str, md_fname:str, directory: str):\n",
    "    \"\"\"Export MD document and associated relevant images\"\"\"\n",
    "    import os\n",
    "    import shutil\n",
    "    import re\n",
    "\n",
    "    if (os.path.exists(directory) and not os.path.isdir(directory)):\n",
    "        raise RuntimeError(f\"a non-directory file exists with name {directory:s}\")\n",
    "\n",
    "    if (not os.path.exists(directory)):\n",
    "        print(f\"creating directory {directory:s}\")\n",
    "        os.mkdir(directory)\n",
    "\n",
    "    fig_fnames = (re.compile(r'\\[Fig.*\\]\\((.*)\\)').findall(md) + \n",
    "                  re.compile(r'\\<img src=\"([^>\\s]*)\"[^>]*/>').findall(md))\n",
    "    print(\"found figures\", fig_fnames)\n",
    "    for fname in fig_fnames:\n",
    "        if 'http' in fname:\n",
    "            # No need to copy online figures\n",
    "            continue\n",
    "        if not os.path.exists(fname):\n",
    "            print(\"file not found\", fname)\n",
    "            continue\n",
    "        print(\"copying \", fname, \"to\", directory)\n",
    "        destdir = os.path.join(directory, os.path.dirname(fname))\n",
    "        destfname = os.path.join(destdir, os.path.basename(fname))\n",
    "        try:\n",
    "            os.makedirs(destdir)\n",
    "        except FileExistsError:\n",
    "            pass\n",
    "        shutil.copy(fname, destfname)\n",
    "    with open(os.path.join(directory, md_fname), 'w') as fout:\n",
    "        fout.write(md)\n",
    "    print(\"exported in \", os.path.join(directory, md_fname))\n",
    "    [print(\"    + \" + os.path.join(directory,fk)) for fk in fig_fnames]"
   ]
  },
  {
   "cell_type": "code",
   "execution_count": 8,
   "id": "014d04a4",
   "metadata": {
    "execution": {
     "iopub.execute_input": "2025-05-08T04:17:02.391904Z",
     "iopub.status.busy": "2025-05-08T04:17:02.391449Z",
     "iopub.status.idle": "2025-05-08T04:17:02.420821Z",
     "shell.execute_reply": "2025-05-08T04:17:02.420149Z"
    },
    "papermill": {
     "duration": 0.035905,
     "end_time": "2025-05-08T04:17:02.421913",
     "exception": false,
     "start_time": "2025-05-08T04:17:02.386008",
     "status": "completed"
    },
    "tags": []
   },
   "outputs": [
    {
     "name": "stdout",
     "output_type": "stream",
     "text": [
      "found figures []\n",
      "exported in  _build/html/2505.03872.md\n",
      "found figures ['tmp_2505.03876/./figure4_a.png', 'tmp_2505.03876/./figure4_b.png', 'tmp_2505.03876/./figure1_F356W.png', 'tmp_2505.03876/./figure_ratio_M1450.png']\n",
      "copying  tmp_2505.03876/./figure4_a.png to _build/html/\n",
      "copying  tmp_2505.03876/./figure4_b.png to _build/html/\n",
      "copying  tmp_2505.03876/./figure1_F356W.png to _build/html/\n",
      "copying  tmp_2505.03876/./figure_ratio_M1450.png to _build/html/\n",
      "exported in  _build/html/2505.03876.md\n",
      "    + _build/html/tmp_2505.03876/./figure4_a.png\n",
      "    + _build/html/tmp_2505.03876/./figure4_b.png\n",
      "    + _build/html/tmp_2505.03876/./figure1_F356W.png\n",
      "    + _build/html/tmp_2505.03876/./figure_ratio_M1450.png\n",
      "found figures ['tmp_2505.03890/./images/ICCF_hyperparams_cccd_tresh_0.6_sig_0.4_11042025_10000_randomseedsame_agnfirst_upd2_VERBOSETRUE_oldval.png', 'tmp_2505.03890/./images/field.png', 'tmp_2505.03890/./images/se_img_for_paper_rm-1.png']\n",
      "copying  tmp_2505.03890/./images/ICCF_hyperparams_cccd_tresh_0.6_sig_0.4_11042025_10000_randomseedsame_agnfirst_upd2_VERBOSETRUE_oldval.png to _build/html/\n",
      "copying  tmp_2505.03890/./images/field.png to _build/html/\n",
      "copying  tmp_2505.03890/./images/se_img_for_paper_rm-1.png to _build/html/\n",
      "exported in  _build/html/2505.03890.md\n",
      "    + _build/html/tmp_2505.03890/./images/ICCF_hyperparams_cccd_tresh_0.6_sig_0.4_11042025_10000_randomseedsame_agnfirst_upd2_VERBOSETRUE_oldval.png\n",
      "    + _build/html/tmp_2505.03890/./images/field.png\n",
      "    + _build/html/tmp_2505.03890/./images/se_img_for_paper_rm-1.png\n",
      "found figures ['tmp_2505.04475/./figures/And6_rho.png', 'tmp_2505.04475/./figures/And6AllPlot.png', 'tmp_2505.04475/./figures/And23_rho.png']\n",
      "copying  tmp_2505.04475/./figures/And6_rho.png to _build/html/\n",
      "copying  tmp_2505.04475/./figures/And6AllPlot.png to _build/html/\n",
      "copying  tmp_2505.04475/./figures/And23_rho.png to _build/html/\n",
      "exported in  _build/html/2505.04475.md\n",
      "    + _build/html/tmp_2505.04475/./figures/And6_rho.png\n",
      "    + _build/html/tmp_2505.04475/./figures/And6AllPlot.png\n",
      "    + _build/html/tmp_2505.04475/./figures/And23_rho.png\n"
     ]
    }
   ],
   "source": [
    "for paper_id, md in documents:\n",
    "    export_markdown_summary(md, f\"{paper_id:s}.md\", '_build/html/')"
   ]
  },
  {
   "cell_type": "markdown",
   "id": "f087a0a7",
   "metadata": {
    "papermill": {
     "duration": 0.005056,
     "end_time": "2025-05-08T04:17:02.432233",
     "exception": false,
     "start_time": "2025-05-08T04:17:02.427177",
     "status": "completed"
    },
    "tags": []
   },
   "source": [
    "## Display the papers\n",
    "\n",
    "Not necessary but allows for a quick check."
   ]
  },
  {
   "cell_type": "code",
   "execution_count": 9,
   "id": "fd25f625",
   "metadata": {
    "execution": {
     "iopub.execute_input": "2025-05-08T04:17:02.443515Z",
     "iopub.status.busy": "2025-05-08T04:17:02.442905Z",
     "iopub.status.idle": "2025-05-08T04:17:02.450871Z",
     "shell.execute_reply": "2025-05-08T04:17:02.450273Z"
    },
    "papermill": {
     "duration": 0.014512,
     "end_time": "2025-05-08T04:17:02.451836",
     "exception": false,
     "start_time": "2025-05-08T04:17:02.437324",
     "status": "completed"
    },
    "scrolled": false,
    "tags": []
   },
   "outputs": [
    {
     "data": {
      "text/markdown": [
       "<div class=\"macros\" style=\"visibility:hidden;\">\n",
       "$\\newcommand{\\ensuremath}{}$\n",
       "$\\newcommand{\\xspace}{}$\n",
       "$\\newcommand{\\object}[1]{\\texttt{#1}}$\n",
       "$\\newcommand{\\farcs}{{.}''}$\n",
       "$\\newcommand{\\farcm}{{.}'}$\n",
       "$\\newcommand{\\arcsec}{''}$\n",
       "$\\newcommand{\\arcmin}{'}$\n",
       "$\\newcommand{\\ion}[2]{#1#2}$\n",
       "$\\newcommand{\\textsc}[1]{\\textrm{#1}}$\n",
       "$\\newcommand{\\hl}[1]{\\textrm{#1}}$\n",
       "$\\newcommand{\\footnote}[1]{}$\n",
       "$\\newcommand{\\etal}{{\\it et al.}\\xspace}$\n",
       "$\\newcommand{\\erosita}{{eROSITA}\\xspace}$\n",
       "$\\newcommand{\\srg}{\\HB{\\em SRG}\\xspace}$\n",
       "$\\newcommand{\\xmm}{\\HB{\\em XMM-Newton}\\xspace}$\n",
       "$\\newcommand{\\rosat}{\\HB{\\em ROSAT}\\xspace}$\n",
       "$\\newcommand{\\chandra}{\\HB{\\em Chandra}\\xspace}$\n",
       "$\\newcommand{\\gaia}{\\HB{\\em Gaia}\\xspace}$\n",
       "$\\newcommand{\\HB}[1]{\\textcolor{red}{#1}}$\n",
       "$\\newcommand{\\TL}[1]{\\textcolor{purple}{#1}}$</div>\n",
       "\n",
       "\n",
       "\n",
       "<div id=\"title\">\n",
       "\n",
       "# The eROSITA Final Equatorial Depth Survey (eFEDS):: SDSS spectroscopic observations of X-ray sources\n",
       "\n",
       "</div>\n",
       "<div id=\"comments\">\n",
       "\n",
       "[![arXiv](https://img.shields.io/badge/arXiv-2505.03872-b31b1b.svg)](https://arxiv.org/abs/2505.03872)<mark>Appeared on: 2025-05-08</mark> - \n",
       "\n",
       "</div>\n",
       "<div id=\"authors\">\n",
       "\n",
       "C. Aydar, et al. -- incl., <mark>J. Wolf</mark>\n",
       "\n",
       "</div>\n",
       "<div id=\"abstract\">\n",
       "\n",
       "**Abstract:** We present one of the largest uniform optical spectroscopic surveys of X-ray selected sources to date that were observed as a pilot study for the Black Hole Mapper (BHM) survey.  The BHM program of the Sloan Digital Sky Survey (SDSS)-V is designed to provide optical spectra for hundreds of thousands of X-ray selected sources from the SRG/eROSITA all-sky survey.  This significantly improves our ability to classify and characterise the physical properties of large statistical populations of X-ray emitting objects.  Our sample consists of 13 079 sources in the eROSITA eFEDS performance verification field, 12 011 of which provide reliable redshifts from $0\\lesssim z\\leq 5.8$ .  The vast majority of these objects were detected as point-like sources (X-ray flux limit $F_{\\rm 0.5-2 keV}\\gtrsim 6.5\\times 10^{-15}$ erg/s/cm $^2$ ) and were observed for about 20 years with fibre-fed SDSS spectrographs.  After including all available redshift information for the eFEDS sources from the dedicated SDSS-V plate programme and archival data, we visually inspected the SDSS optical spectra to verify the reliability of these redshift measurements and the performance of the SDSS pipeline.  The visual inspection allowed us to recover reliable redshifts (for 99 \\% of the spectra with a signal-to-noise ratio of $>2$ ) and to assign classes to the sources, and we confirm that the vast majority of our sample consists of active galactic nuclei (AGNs).  Only $\\sim3\\%$ of the eFEDS/SDSS sources are Galactic objects.  We analysed the completeness and purity of the spectroscopic redshift catalogue, in which the spectroscopic completeness increases from $48\\%$ (full sample) to $81\\%$ for a cleaner, brighter ( $r_{\\rm AB}<21.38$ ) sample that we defined by considering a high X-ray detection likelihood, a reliable counterpart association, and an optimal sky coverage.  We also show the diversity of the optical spectra of the X-ray selected AGNs and provide spectral stacks with a high signal-to-noise ratio in various sub-samples with different redshift and optical broad-band colours.  Our AGN sample contains optical spectra of (broad-line) quasars, narrow-line galaxies, and optically passive galaxies.  It is considerably diverse in its colours and in its levels of nuclear obscuration.\n",
       "\n",
       "</div>\n",
       "\n",
       "<div id=\"qrcode\"><img src=https://api.qrserver.com/v1/create-qr-code/?size=100x100&data=\"https://arxiv.org/abs/2505.03872\"></div>"
      ],
      "text/plain": [
       "<IPython.core.display.Markdown object>"
      ]
     },
     "metadata": {},
     "output_type": "display_data"
    },
    {
     "data": {
      "text/markdown": [
       "<div class=\"macros\" style=\"visibility:hidden;\">\n",
       "$\\newcommand{\\ensuremath}{}$\n",
       "$\\newcommand{\\xspace}{}$\n",
       "$\\newcommand{\\object}[1]{\\texttt{#1}}$\n",
       "$\\newcommand{\\farcs}{{.}''}$\n",
       "$\\newcommand{\\farcm}{{.}'}$\n",
       "$\\newcommand{\\arcsec}{''}$\n",
       "$\\newcommand{\\arcmin}{'}$\n",
       "$\\newcommand{\\ion}[2]{#1#2}$\n",
       "$\\newcommand{\\textsc}[1]{\\textrm{#1}}$\n",
       "$\\newcommand{\\hl}[1]{\\textrm{#1}}$\n",
       "$\\newcommand{\\footnote}[1]{}$\n",
       "$\\newcommand{\\vdag}{(v)^\\dagger}$\n",
       "$\\newcommand$\n",
       "$\\newcommand$\n",
       "$\\newcommand{\\TBD}{\\textcolor{blue}{\\textbf{TBD}}}$\n",
       "$\\newcommand{\\todo}[1]{\\textcolor{blue}{\\textbf{TODO: #1}}}$\n",
       "$\\newcommand{\\blue}[1]{\\textcolor{black}{#1}}$\n",
       "$\\newcommand{\\newblue}[1]{\\textcolor{blue}{#1}}$\n",
       "$\\newcommand$\n",
       "$\\newcommand$\n",
       "$\\newcommand$\n",
       "$\\newcommand$</div>\n",
       "\n",
       "\n",
       "\n",
       "<div id=\"title\">\n",
       "\n",
       "# SHELLQs-JWST Unveils the Host Galaxies of Twelve Quasars at $z>6$\n",
       "\n",
       "</div>\n",
       "<div id=\"comments\">\n",
       "\n",
       "[![arXiv](https://img.shields.io/badge/arXiv-2505.03876-b31b1b.svg)](https://arxiv.org/abs/2505.03876)<mark>Appeared on: 2025-05-08</mark> -  _22 pages, 10 figures, 6 tables. submitted to ApJ; Comments welcome_\n",
       "\n",
       "</div>\n",
       "<div id=\"authors\">\n",
       "\n",
       "X. Ding, et al. -- incl., <mark>K. Jahnke</mark>, <mark>J. Li</mark>\n",
       "\n",
       "</div>\n",
       "<div id=\"abstract\">\n",
       "\n",
       "**Abstract:** The advent of JWST has opened new horizons in the study of quasar host galaxies during the reionization epoch ( $z > 6$ ). Building upon our previous initial uncovering of stellar light from two quasar host galaxies at these redshifts, we now report the detection of the stellar light from the full Cycle 1 sample of 12 distant moderate-luminosity quasar ( $M_{1450}>-24$ mag) host galaxies at $z>6$ from the Hyper Suprime-Cam Subaru Strategic Program (HSC-SSP). Using JWST/NIRCam observations at 1.5 and 3.6 $\\mu$ m combined with 2D image decomposition analysis, we successfully detect the host galaxies in 11 out of 12 targets, underscoring the high detection rates achievable with moderate-luminosity quasars. Based on two-band photometry and SED fitting, we find that our host galaxies are massive with log M $_*$ /M $_{\\odot} = 9.5 \\text{--} 11.0$ . The effective radii range from 0.6 to 3.2 kpc which is comparable to the sizes of inactive galaxies with similar masses as measured with imaging from COSMOS-Web.Intriguingly, the two quasar hosts with post-starburst features, which reside at the high-mass end of our sample and exhibit relatively compact morphologies, are consistent (at the 1- $\\sigma$ level) with quiescent galaxies at $z\\sim\\text{4--5}$ in terms of their sizes and stellar mass surface densities.These findings support the so-called galaxy compaction scenario already being valid at the reionization epoch ( $z>6$ ), in which gas inflows during starburst phases drive centrally concentrated star formation followed by rapid quenching, bridging the structural transition of massive galaxies from relatively extended star-forming disks to compact quiescent systems.\n",
       "\n",
       "</div>\n",
       "\n",
       "<div id=\"div_fig1\">\n",
       "\n",
       "<img src=\"tmp_2505.03876/./figure4_a.png\" alt=\"Fig7.1\" width=\"50%\"/><img src=\"tmp_2505.03876/./figure4_b.png\" alt=\"Fig7.2\" width=\"50%\"/>\n",
       "\n",
       "**Figure 7. -** (Left) Size - stellar mass relation of our quasar host galaxies compared with the control sample of star-forming galaxies (SFGs) and from COSMOS-Web \\citep[see][]{Yang2025arXiv250407185Y} at redshift $6<z<7$. The two gray stars with arrows are the host measurements with size or stellar mass as upper limits. We also show the quiescent galaxies (QGs) sample at $4<z<5$ and the best-fit result from the COSMOS-Web.\n",
       "We measure the sizes of our sample host galaxies using the F356W filter, while the COSMOS-Web sample adopts the F444W filter (see Section \\ref{subsec:SizeMass} for methodological details).\n",
       "The results show that the sizes of our quasar host sample appear to be similar to the SFGs for a given stellar mass, while the two post-starbursts are consistent with the QGs within 1-$\\sigma$ level. The dashed horizontal line indicates the PSF size at redshift 6.\n",
       "(Right) Projected 2D stellar mass surface density within the \\reff compared with those of quiescent galaxies from the literature  ([Skelton, Whitaker and Momcheva 2014](), [Carnall, McLure and Dunlop 2023](), [Vanzella, Claeyssens and Welch 2023](), [Setton and Brammer 2024](), [Setton, Khullar and Miller 2024](), [Weibel and Setton 2024]())  as well as with $1<z<2.5$ AGN host galaxies revealed by COSMOS-web  ([Tanaka, Silverman and Ding 2025]()) .\n",
       "Most of our quasar hosts fall below the typical quiescent threshold \\citep[i.e., dashed line as introduced in][]{Weibel2024}. The two post-starburst targets are in the top region of our sample. The typical uncertainty associated with the density measurement of our sample is 0.5 dex. (*fig:size-mass*)\n",
       "\n",
       "</div>\n",
       "<div id=\"div_fig2\">\n",
       "\n",
       "<img src=\"tmp_2505.03876/./figure1_F356W.png\" alt=\"Fig3\" width=\"100%\"/>\n",
       "\n",
       "**Figure 3. -** Quasar-host decomposition of NIRCam/F356W images for all twelve targets. The rows are as follows from top to bottom: (1) original science image (data), (2) data minus quasar model, i.e., the host galaxy and neighbors, (3) best-fit host \\sersic model(s), and (4) Signal-to-noise maps of the host significance; the noise is a combination of that from the data and the scatter of the corresponding top-five PSFs. In Row (4), we show the elliptical apertures, within which we calculate the host signal-to-noise ratio (SNR), as reported in Table \\ref{tab:F356W_result}. When drawing these apertures, we use solid lines to highlight those with confirmed host detections. The inferred host-to-total flux ratios from the best fit are also indicated in the bottom panels. Our simulation results indicate that even in challenging cases, such as J0844$-$0132, we are able to accurately recover the host galaxy properties, as demonstrated in Figure \\ref{fig:sim_onecase}.\n",
       "     (*fig:F356Wfit*)\n",
       "\n",
       "</div>\n",
       "<div id=\"div_fig3\">\n",
       "\n",
       "<img src=\"tmp_2505.03876/./figure_ratio_M1450.png\" alt=\"Fig2\" width=\"100%\"/>\n",
       "\n",
       "**Figure 2. -** \n",
       "Host-to-total flux ratio as a function of the quasar's absolute magnitude. The plot includes three luminous $z\\sim6$ quasars reported in [Yue, Eilers and Simcoe (2024)](). Our results demonstrate that the intrinsically low luminosity of our quasars leads to a significantly higher host-to-total flux ratio than found in luminous quasars. Note that the photometric measurements of the host galaxies in [Yue, Eilers and Simcoe (2024)]() are subject to minimal statistical uncertainty, resulting in exceptionally small error bars for their sample.\n",
       " (*fig:ratio*)\n",
       "\n",
       "</div><div id=\"qrcode\"><img src=https://api.qrserver.com/v1/create-qr-code/?size=100x100&data=\"https://arxiv.org/abs/2505.03876\"></div>"
      ],
      "text/plain": [
       "<IPython.core.display.Markdown object>"
      ]
     },
     "metadata": {},
     "output_type": "display_data"
    },
    {
     "data": {
      "text/markdown": [
       "<div class=\"macros\" style=\"visibility:hidden;\">\n",
       "$\\newcommand{\\ensuremath}{}$\n",
       "$\\newcommand{\\xspace}{}$\n",
       "$\\newcommand{\\object}[1]{\\texttt{#1}}$\n",
       "$\\newcommand{\\farcs}{{.}''}$\n",
       "$\\newcommand{\\farcm}{{.}'}$\n",
       "$\\newcommand{\\arcsec}{''}$\n",
       "$\\newcommand{\\arcmin}{'}$\n",
       "$\\newcommand{\\ion}[2]{#1#2}$\n",
       "$\\newcommand{\\textsc}[1]{\\textrm{#1}}$\n",
       "$\\newcommand{\\hl}[1]{\\textrm{#1}}$\n",
       "$\\newcommand{\\footnote}[1]{}$\n",
       "$\\newcommand\\hyper{@linkstart##1##2 $\n",
       "$}$\n",
       "$\\newcommand\\hyper{@linkstart##1##2 $\n",
       "$}$\n",
       "$\\newcommand\\hyper{@linkstart##1##2 $\n",
       "$}$\n",
       "$\\newcommand\\hyper{@linkstart##1##2 $\n",
       "$}$</div>\n",
       "\n",
       "\n",
       "\n",
       "<div id=\"title\">\n",
       "\n",
       "# Broad line region echo from rapidly accreting intermediate-mass black hole candidate SDSS J144850.08+160803.1: The first probe of intra-night variability and reverberation mapping\n",
       "\n",
       "</div>\n",
       "<div id=\"comments\">\n",
       "\n",
       "[![arXiv](https://img.shields.io/badge/arXiv-2505.03890-b31b1b.svg)](https://arxiv.org/abs/2505.03890)<mark>Appeared on: 2025-05-08</mark> -  _Submitted to A&A on 14.04.2025, 18 pages, 13 figures_\n",
       "\n",
       "</div>\n",
       "<div id=\"authors\">\n",
       "\n",
       "<mark>M. Demianenko</mark>, et al. -- incl., <mark>J.-U. Pott</mark>\n",
       "\n",
       "</div>\n",
       "<div id=\"abstract\">\n",
       "\n",
       "**Abstract:** Elusive intermediate-mass black holes (IMBHs; $100 M_{\\odot} \\leq M_{\\rm BH}\\leq 2\\times10^{5} M_{\\odot}$ ) can act as \"time-squeezing\" machines, enabling studies of AGN geometry through reverberation mapping (RM) on much shorter timescales than their supermassive siblings. The broad line region (BLR) radius constraints for IMBH candidates with different Eddington ratios probe the unexplored faint end of radius--luminosity ( $R-L$ ) relations and allow us to build a robust $M_{\\rm BH}$ estimator. This study aims to (a) confirm a rapidly accreting IMBH candidate; (b) demonstrate the feasibility of the first photometric BLR reverberation mapping (RM) campaign for this class of objects. The IMBH candidate J1448+16 was identified in the broad H $\\alpha$ -selected spectroscopic sample from SDSS. We carried out narrow-band H $\\alpha$ and broad-band SDSS g \\' monitoring to check small-scale variability and extract the time lag between the BLR and accretion disk (AD) continuum  during 5 months (March--July 2024) using a 60-cm telescope at the Caucasus Mountain Observatory. We confirmed the candidate as an active IMBH using XMM-Newton as a bright X-ray point source with the photon index $\\Gamma = 2.32^{+0.15}_{-0.13}$ , suggesting the high accretion rate. From a combination of SDSS optical spectra and XMM-Newton observations, we estimate the black hole mass in the range $\\sim 0.9-2.4 \\times10^{5} M_{\\odot}$ and the Eddington rate from $\\sim 37-112\\%$ .    We report high-amplitude $\\sim 60\\%$ intra-night ( $\\sim 2$ h) H $\\alpha$ variability in this highly accreting IMBH. In addition, we extracted a tentative measurement of a BLR RM radius $\\sim 1-8 \\mathrm{days}$ . This work is a proof of concept for further IMBH variability studies and BLR RM campaigns, which will be essential for the calibration of the $R-L$ relation at the faint end.\n",
       "\n",
       "</div>\n",
       "\n",
       "<div id=\"div_fig1\">\n",
       "\n",
       "<img src=\"tmp_2505.03890/./images/ICCF_hyperparams_cccd_tresh_0.6_sig_0.4_11042025_10000_randomseedsame_agnfirst_upd2_VERBOSETRUE_oldval.png\" alt=\"Fig3\" width=\"100%\"/>\n",
       "\n",
       "**Figure 3. -** Time delay inference dependence on interpolation step of ICCF for whole light curve.\n",
       "Color code: blue -- validation star, red -- AGN. Points without error bars correspond to the flat ICCF, where CCCD failed. The CCCD was run with the following ICCF parameters ({\\sc nsim}: 5000, {\\sc sigmode}: 0.4, {\\sc thres}: 0.6, {\\sc nbin}: 100). The Monte Carlo sampling slightly depends on the random seed, but for interpolation steps less than one day always shows smaller time lags with smaller uncertainties for AGN compared to the validation star.\n",
       " (*fig:iccf_hyperparams_ccpd*)\n",
       "\n",
       "</div>\n",
       "<div id=\"div_fig2\">\n",
       "\n",
       "<img src=\"tmp_2505.03890/./images/field.png\" alt=\"Fig5\" width=\"100%\"/>\n",
       "\n",
       "**Figure 5. -** An example of an RC600 g\\' field (FoV 22.7 arcmin) with reference stars marked with magenta circles and validation stars with dark cyan circles, indicating a S/N ratio near each star. The circle diameter is 6\" for display purposes (the photometry aperture diameter is 3\").\n",
       " (*fig:foV*)\n",
       "\n",
       "</div>\n",
       "<div id=\"div_fig3\">\n",
       "\n",
       "<img src=\"tmp_2505.03890/./images/se_img_for_paper_rm-1.png\" alt=\"Fig6\" width=\"100%\"/>\n",
       "\n",
       "**Figure 6. -** General pipeline of deriving $\\mathrm{H\\beta}$ \\citep{2013ApJ...767..149B} BLR radius in this Appendix.  (*fig: r_blr_from_xray*)\n",
       "\n",
       "</div><div id=\"qrcode\"><img src=https://api.qrserver.com/v1/create-qr-code/?size=100x100&data=\"https://arxiv.org/abs/2505.03890\"></div>"
      ],
      "text/plain": [
       "<IPython.core.display.Markdown object>"
      ]
     },
     "metadata": {},
     "output_type": "display_data"
    },
    {
     "data": {
      "text/markdown": [
       "<div class=\"macros\" style=\"visibility:hidden;\">\n",
       "$\\newcommand{\\ensuremath}{}$\n",
       "$\\newcommand{\\xspace}{}$\n",
       "$\\newcommand{\\object}[1]{\\texttt{#1}}$\n",
       "$\\newcommand{\\farcs}{{.}''}$\n",
       "$\\newcommand{\\farcm}{{.}'}$\n",
       "$\\newcommand{\\arcsec}{''}$\n",
       "$\\newcommand{\\arcmin}{'}$\n",
       "$\\newcommand{\\ion}[2]{#1#2}$\n",
       "$\\newcommand{\\textsc}[1]{\\textrm{#1}}$\n",
       "$\\newcommand{\\hl}[1]{\\textrm{#1}}$\n",
       "$\\newcommand{\\footnote}[1]{}$\n",
       "$\\newcommand{\\vdag}{(v)^\\dagger}$\n",
       "$\\newcommand$\n",
       "$\\newcommand$\n",
       "$\\newcommand{\\LCDM}{\\LambdaCDM}$\n",
       "$\\newcommand{\\kms}{kms^{-1}}$\n",
       "$\\newcommand{\\gravsphere}{\\texttt{GravSphere}}$\n",
       "$\\newcommand{\\DMVI}{\\rho_{\\rm{DM,VI}}(150 pc) = (1.4 \\pm 0.5) \\times 10^{8} M_{\\odot} kpc^{-3}}$\n",
       "$\\newcommand{\\DMXXIII}{\\rho_{\\rm{DM,XXIII}}(150 pc) = 0.5\\substack{+0.4 \\ -0.3} \\times 10^{8} M_{\\odot} kpc^{-3}}$\n",
       "$\\newcommand{\\rhVI}{r_{\\rm{h,VI}} = (489\\pm{22}) pc}$\n",
       "$\\newcommand{\\rhXXIII}{r_{\\rm{h,XXIII}} = 1170 \\substack{+95 \\ -94} pc}$\n",
       "$\\newcommand{\\MLVI}{(27.1 \\pm 8.2) M_{\\odot}/L_{\\odot}}$\n",
       "$\\newcommand{\\MLXXIII}{(90.2 \\pm 53.9) M_{\\odot}/L_{\\odot}}$\n",
       "$\\newcommand{\\arraystretch}{1.4}$\n",
       "$\\newcommand{\\arraystretch}{1.25}$\n",
       "$\\newcommand{\\arraystretch}{1.25}$\n",
       "$\\newcommand{\\arraystretch}{1.4}$\n",
       "$\\newcommand{\\arraystretch}{1.5}$\n",
       "$\\newcommand{\\arraystretch}{1.5}$\n",
       "$\\newcommand{\\arraystretch}{1.4}$\n",
       "$\\newcommand{\\thebibliography}{\\DeclareRobustCommand{\\VAN}[3]{##3}\\VANthebibliography}$</div>\n",
       "\n",
       "\n",
       "\n",
       "<div id=\"title\">\n",
       "\n",
       "# Mass Modeling the Andromeda Dwarf Galaxies: Andromeda VI and Andromeda XXIII\n",
       "\n",
       "</div>\n",
       "<div id=\"comments\">\n",
       "\n",
       "[![arXiv](https://img.shields.io/badge/arXiv-2505.04475-b31b1b.svg)](https://arxiv.org/abs/2505.04475)<mark>Appeared on: 2025-05-08</mark> -  _19 pages, 16 figures. Submitted to MNRAS for review_\n",
       "\n",
       "</div>\n",
       "<div id=\"authors\">\n",
       "\n",
       "C. S. Pickett, et al. -- incl., <mark>N. Martin</mark>\n",
       "\n",
       "</div>\n",
       "<div id=\"abstract\">\n",
       "\n",
       "**Abstract:** Accurately mapping the mass profiles of low mass dwarf spheroidal (dSph) galaxies allows us to test predictions made by dark matter (DM) models. To date, such analyses have primarily been performed on Milky Way (MW) satellites. Meanwhile, the Andromeda Galaxy (M31) is home to 35 known dwarf galaxies, yet only two have been successfully mass-modeled so far. In order to better understand the nature of dark matter, a more comprehensive study of Local Group dwarfs is necessary. In this study, we have undertaken a dynamical study of two higher-luminosity Andromeda dwarf galaxies: Andromeda VI (And VI) and Andromeda XXIII (And XXIII). We infer an enclosed mass for And VI of  M(r $<$ r $_{\\rm{h}}$ ) = (4.9 $\\pm$ 1.5) $\\times$ 10 $^{7}$ M $_{\\odot}$ , corresponding to a mass-to-light ratio of $[M/L]_{r_{\\rm{h}}}$ = $\\MLVI$ . We infer an enclosed mass for And XXIII of  M(r $<$ r $_{\\rm{h}}$ ) = (3.1 $\\pm$ 1.9) $\\times$ 10 $^{7}$ M $_{\\odot}$ , corresponding to a mass-to-light ratio of $[M/L]_{r_{\\rm{h}}}$ = $\\MLXXIII$ . Using the dynamical Jeans modeling tool, $\\gravsphere$ , we determine And VI and And XXIII's dark matter density at 150 pc, finding $\\DMVI$ and $\\DMXXIII$ . Our results make And VI the first mass-modeled M31 satellite to fall into the cuspy regime, while And XXIII has a lower density, implying either a more cored central dark matter density, or a lowering of the density through tides. As And XXIII was quenched early in its evolution, dark matter core formation from repeated inflow/outflow due to gas cooling and stellar feedback is disfavored. This adds And XXIII to a growing list of M31 dwarfs with a central density lower than most MW dwarfs and lower than expected for isolated dwarfs in the Standard Cosmology. This could be explained by the M31 dwarfs having experienced stronger tides than their Milky Way counterparts.\n",
       "\n",
       "</div>\n",
       "\n",
       "<div id=\"div_fig1\">\n",
       "\n",
       "<img src=\"tmp_2505.04475/./figures/And6_rho.png\" alt=\"Fig7\" width=\"100%\"/>\n",
       "\n",
       "**Figure 7. -** Andromeda VI Dark matter density profiles determined by $\\gravsphere$ (solid black line), with 1 and 2$\\sigma$ being denoted by the dark gray and light gray shaded regions, respectively. The pink shaded region is the density profile created via $\\langle{\\text{SFR}}\\rangle$ abundance matching. The blue shaded region is the density profile created via $M_{\\rm{*}}$ abundance matching. The blue vertical line is the measured $r_{\\rm{h}}$ of And VI. The pink dashed line is at 150 pc, or the distance at which DM density is measured. (*fig:And6_SFR_Den*)\n",
       "\n",
       "</div>\n",
       "<div id=\"div_fig2\">\n",
       "\n",
       "<img src=\"tmp_2505.04475/./figures/And6AllPlot.png\" alt=\"Fig2\" width=\"100%\"/>\n",
       "\n",
       "**Figure 2. -** **Top Left**: Histogram of number of stars split into 40 velocity bins of 15 $\\kms$ each. The light gray bars represent the non-member velocities while the dark gray bars represent member star velocities. The vertical dashed black bar is the systemic velocity of And VI from C13. **Bottom Left**: Velocity versus radial distance from measured center of And VI. The points are shaded depending on their respective probabilities. Each point's uncertainty is too small to be seen relative to each point but is adequately represented by the size of each marker. The dashed light gray horizontal line is the measured half-light radius of And VI from [ and Savino (2022)](https://ui.adsabs.harvard.edu/abs/2022ApJ...938..101S). **Right**: CMD of the RGB overdensity of And VI. The light gray points are non-member stars, as determined by our probability calculations. The colored points represent member stars, shaded according to their respective probability. The RGB is overlaid with the best-fit-by-eye isochrone of parameters [Fe/H] = -1.5 dex, [$\\alpha$/Fe] = 0, and age = 10 Gyr. (*fig:And6all*)\n",
       "\n",
       "</div>\n",
       "<div id=\"div_fig3\">\n",
       "\n",
       "<img src=\"tmp_2505.04475/./figures/And23_rho.png\" alt=\"Fig8\" width=\"100%\"/>\n",
       "\n",
       "**Figure 8. -** Same as Figure \\ref{fig:And6_SFR_Den} but for Andromeda XXIII. (*fig:And23_SFR_Den*)\n",
       "\n",
       "</div><div id=\"qrcode\"><img src=https://api.qrserver.com/v1/create-qr-code/?size=100x100&data=\"https://arxiv.org/abs/2505.04475\"></div>"
      ],
      "text/plain": [
       "<IPython.core.display.Markdown object>"
      ]
     },
     "metadata": {},
     "output_type": "display_data"
    }
   ],
   "source": [
    "[display(Markdown(k[1])) for k in documents];"
   ]
  },
  {
   "cell_type": "markdown",
   "id": "873873a4",
   "metadata": {
    "papermill": {
     "duration": 0.005601,
     "end_time": "2025-05-08T04:17:02.463171",
     "exception": false,
     "start_time": "2025-05-08T04:17:02.457570",
     "status": "completed"
    },
    "tags": []
   },
   "source": [
    "# Create HTML index"
   ]
  },
  {
   "cell_type": "code",
   "execution_count": 10,
   "id": "cf665672",
   "metadata": {
    "execution": {
     "iopub.execute_input": "2025-05-08T04:17:02.475280Z",
     "iopub.status.busy": "2025-05-08T04:17:02.474906Z",
     "iopub.status.idle": "2025-05-08T04:17:02.485168Z",
     "shell.execute_reply": "2025-05-08T04:17:02.484525Z"
    },
    "papermill": {
     "duration": 0.017414,
     "end_time": "2025-05-08T04:17:02.486251",
     "exception": false,
     "start_time": "2025-05-08T04:17:02.468837",
     "status": "completed"
    },
    "tags": []
   },
   "outputs": [
    {
     "name": "stdout",
     "output_type": "stream",
     "text": [
      "480  publications files modified in the last 7 days.\n"
     ]
    }
   ],
   "source": [
    "from datetime import datetime, timedelta, timezone\n",
    "from glob import glob\n",
    "import os\n",
    "\n",
    "files = glob('_build/html/*.md')\n",
    "days = 7\n",
    "now = datetime.today()\n",
    "res = []\n",
    "for fk in files:\n",
    "    stat_result = os.stat(fk).st_ctime\n",
    "    modified = datetime.fromtimestamp(stat_result, tz=timezone.utc).replace(tzinfo=None)\n",
    "    delta = now.today() - modified\n",
    "    if delta <= timedelta(days=days):\n",
    "        res.append((delta.seconds, fk))\n",
    "res = [k[1] for k in reversed(sorted(res, key=lambda x:x[1]))]\n",
    "npub = len(res)\n",
    "print(len(res), f\" publications files modified in the last {days:d} days.\")\n",
    "# [ print('\\t', k) for k in res ];"
   ]
  },
  {
   "cell_type": "code",
   "execution_count": 11,
   "id": "015de740",
   "metadata": {
    "execution": {
     "iopub.execute_input": "2025-05-08T04:17:02.498394Z",
     "iopub.status.busy": "2025-05-08T04:17:02.498207Z",
     "iopub.status.idle": "2025-05-08T04:17:02.522207Z",
     "shell.execute_reply": "2025-05-08T04:17:02.521675Z"
    },
    "papermill": {
     "duration": 0.031243,
     "end_time": "2025-05-08T04:17:02.523199",
     "exception": false,
     "start_time": "2025-05-08T04:17:02.491956",
     "status": "completed"
    },
    "tags": []
   },
   "outputs": [
    {
     "name": "stdout",
     "output_type": "stream",
     "text": [
      "8  publications in the last 7 days.\n"
     ]
    }
   ],
   "source": [
    "import datetime\n",
    "from glob import glob\n",
    "\n",
    "def get_last_n_days(lst, days=1):\n",
    "    \"\"\" Get the documents from the last n days \"\"\"\n",
    "    sorted_lst = sorted(lst, key=lambda x: x[1], reverse=True)\n",
    "    for fname, date in sorted_lst:\n",
    "        if date >= str(datetime.date.today() - datetime.timedelta(days=days)):\n",
    "            yield fname\n",
    "\n",
    "def extract_appearance_dates(lst_file):\n",
    "    dates = []\n",
    "\n",
    "    def get_date(line):\n",
    "        return line\\\n",
    "            .split('Appeared on:')[-1]\\\n",
    "            .split('</mark>')[0].strip()\n",
    "\n",
    "    for fname in lst:\n",
    "        with open(fname, 'r') as f:\n",
    "            found_date = False\n",
    "            for line in f:\n",
    "                if not found_date:\n",
    "                    if \"Appeared on\" in line:\n",
    "                        found_date = True\n",
    "                        dates.append((fname, get_date(line)))\n",
    "                else:\n",
    "                    break\n",
    "    return dates\n",
    "\n",
    "from glob import glob\n",
    "lst = glob('_build/html/*md')\n",
    "days = 7\n",
    "dates = extract_appearance_dates(lst)\n",
    "res = list(get_last_n_days(dates, days))\n",
    "npub = len(res)\n",
    "print(len(res), f\" publications in the last {days:d} days.\")"
   ]
  },
  {
   "cell_type": "code",
   "execution_count": 12,
   "id": "52ca0208",
   "metadata": {
    "execution": {
     "iopub.execute_input": "2025-05-08T04:17:02.535910Z",
     "iopub.status.busy": "2025-05-08T04:17:02.535509Z",
     "iopub.status.idle": "2025-05-08T04:17:02.540466Z",
     "shell.execute_reply": "2025-05-08T04:17:02.539902Z"
    },
    "papermill": {
     "duration": 0.012277,
     "end_time": "2025-05-08T04:17:02.541462",
     "exception": false,
     "start_time": "2025-05-08T04:17:02.529185",
     "status": "completed"
    },
    "scrolled": false,
    "tags": []
   },
   "outputs": [],
   "source": [
    "def create_carousel(npub=4):\n",
    "    \"\"\" Generate the HTML code for a carousel with `npub` slides \"\"\"\n",
    "    carousel = [\"\"\"  <div class=\"carousel\" \"\"\",\n",
    "                \"\"\"       data-flickity='{ \"autoPlay\": 10000, \"adaptiveHeight\": true, \"resize\": true, \"wrapAround\": true, \"pauseAutoPlayOnHover\": true, \"groupCells\": 1 }' id=\"asyncTypeset\">\"\"\"\n",
    "                ]\n",
    "    \n",
    "    item_str = \"\"\"    <div class=\"carousel-cell\"> <div id=\"slide{k}\" class=\"md_view\">Content {k}</div> </div>\"\"\"\n",
    "    for k in range(1, npub + 1):\n",
    "        carousel.append(item_str.format(k=k))\n",
    "    carousel.append(\"  </div>\")\n",
    "    return '\\n'.join(carousel)\n",
    "\n",
    "def create_grid(npub=4):\n",
    "    \"\"\" Generate the HTML code for a flat grid with `npub` slides \"\"\"\n",
    "    grid = [\"\"\"  <div class=\"grid\"> \"\"\",\n",
    "                ]\n",
    "    \n",
    "    item_str = \"\"\"    <div class=\"grid-item\"> <div id=\"slide{k}\" class=\"md_view\">Content {k}</div> </div>\"\"\"\n",
    "    for k in range(1, npub + 1):\n",
    "        grid.append(item_str.format(k=k))\n",
    "    grid.append(\"  </div>\")\n",
    "    return '\\n'.join(grid)"
   ]
  },
  {
   "cell_type": "code",
   "execution_count": 13,
   "id": "a6eac5b6",
   "metadata": {
    "execution": {
     "iopub.execute_input": "2025-05-08T04:17:02.554105Z",
     "iopub.status.busy": "2025-05-08T04:17:02.553675Z",
     "iopub.status.idle": "2025-05-08T04:17:02.558676Z",
     "shell.execute_reply": "2025-05-08T04:17:02.558172Z"
    },
    "papermill": {
     "duration": 0.012301,
     "end_time": "2025-05-08T04:17:02.559611",
     "exception": false,
     "start_time": "2025-05-08T04:17:02.547310",
     "status": "completed"
    },
    "scrolled": false,
    "tags": []
   },
   "outputs": [],
   "source": [
    "carousel = create_carousel(npub)\n",
    "docs = ', '.join(['\"{0:s}\"'.format(k.split('/')[-1]) for k in res])\n",
    "slides = ', '.join([f'\"slide{k}\"' for k in range(1, npub + 1)])\n",
    "\n",
    "with open(\"daily_template.html\", \"r\") as tpl:\n",
    "    page = tpl.read()\n",
    "    page = page.replace(\"{%-- carousel:s --%}\", carousel)\\\n",
    "               .replace(\"{%-- suptitle:s --%}\",  \"7-day archives\" )\\\n",
    "               .replace(\"{%-- docs:s --%}\", docs)\\\n",
    "               .replace(\"{%-- slides:s --%}\", slides)\n",
    "    \n",
    "with open(\"_build/html/index_7days.html\", 'w') as fout:\n",
    "    fout.write(page)"
   ]
  },
  {
   "cell_type": "code",
   "execution_count": 14,
   "id": "adc1a1ec",
   "metadata": {
    "execution": {
     "iopub.execute_input": "2025-05-08T04:17:02.572375Z",
     "iopub.status.busy": "2025-05-08T04:17:02.571841Z",
     "iopub.status.idle": "2025-05-08T04:17:02.579048Z",
     "shell.execute_reply": "2025-05-08T04:17:02.578398Z"
    },
    "papermill": {
     "duration": 0.01449,
     "end_time": "2025-05-08T04:17:02.580026",
     "exception": false,
     "start_time": "2025-05-08T04:17:02.565536",
     "status": "completed"
    },
    "tags": []
   },
   "outputs": [
    {
     "name": "stdout",
     "output_type": "stream",
     "text": [
      "4  publications in the last day.\n"
     ]
    }
   ],
   "source": [
    "# redo for today\n",
    "days = 1\n",
    "res = list(get_last_n_days(dates, days))\n",
    "npub = len(res)\n",
    "print(len(res), f\" publications in the last day.\")\n",
    "\n",
    "carousel = create_carousel(npub)\n",
    "docs = ', '.join(['\"{0:s}\"'.format(k.split('/')[-1]) for k in res])\n",
    "slides = ', '.join([f'\"slide{k}\"' for k in range(1, npub + 1)])\n",
    "\n",
    "with open(\"daily_template.html\", \"r\") as tpl:\n",
    "    page = tpl.read()\n",
    "    page = page.replace(\"{%-- carousel:s --%}\", carousel)\\\n",
    "               .replace(\"{%-- suptitle:s --%}\",  \"Daily\" )\\\n",
    "               .replace(\"{%-- docs:s --%}\", docs)\\\n",
    "               .replace(\"{%-- slides:s --%}\", slides)\n",
    "    \n",
    "# print(carousel, docs, slides)\n",
    "# print(page)\n",
    "with open(\"_build/html/index_daily.html\", 'w') as fout:\n",
    "    fout.write(page)"
   ]
  },
  {
   "cell_type": "code",
   "execution_count": 15,
   "id": "00eece82",
   "metadata": {
    "execution": {
     "iopub.execute_input": "2025-05-08T04:17:02.592630Z",
     "iopub.status.busy": "2025-05-08T04:17:02.592449Z",
     "iopub.status.idle": "2025-05-08T04:17:02.598909Z",
     "shell.execute_reply": "2025-05-08T04:17:02.598361Z"
    },
    "papermill": {
     "duration": 0.013934,
     "end_time": "2025-05-08T04:17:02.599916",
     "exception": false,
     "start_time": "2025-05-08T04:17:02.585982",
     "status": "completed"
    },
    "scrolled": false,
    "tags": []
   },
   "outputs": [
    {
     "name": "stdout",
     "output_type": "stream",
     "text": [
      "6  6 publications selected.\n"
     ]
    }
   ],
   "source": [
    "# Create the flat grid of the last N papers (fixed number regardless of dates)\n",
    "from itertools import islice \n",
    "\n",
    "npub = 6\n",
    "res = [k[0] for k in (islice(reversed(sorted(dates, key=lambda x: x[1])), 6))]\n",
    "print(len(res), f\" {npub} publications selected.\")\n",
    "\n",
    "grid = create_grid(npub)\n",
    "docs = ', '.join(['\"{0:s}\"'.format(k.split('/')[-1]) for k in res])\n",
    "slides = ', '.join([f'\"slide{k}\"' for k in range(1, npub + 1)])\n",
    "\n",
    "with open(\"grid_template.html\", \"r\") as tpl:\n",
    "    page = tpl.read()\n",
    "    page = page.replace(\"{%-- grid-content:s --%}\", grid)\\\n",
    "               .replace(\"{%-- suptitle:s --%}\",  f\"Last {npub:,d} papers\" )\\\n",
    "               .replace(\"{%-- docs:s --%}\", docs)\\\n",
    "               .replace(\"{%-- slides:s --%}\", slides)\n",
    "    \n",
    "# print(grid, docs, slides)\n",
    "# print(page)\n",
    "with open(\"_build/html/index_npub_grid.html\", 'w') as fout:\n",
    "    fout.write(page)"
   ]
  }
 ],
 "metadata": {
  "kernelspec": {
   "display_name": "Python 3 (ipykernel)",
   "language": "python",
   "name": "python3"
  },
  "language_info": {
   "codemirror_mode": {
    "name": "ipython",
    "version": 3
   },
   "file_extension": ".py",
   "mimetype": "text/x-python",
   "name": "python",
   "nbconvert_exporter": "python",
   "pygments_lexer": "ipython3",
   "version": "3.9.22"
  },
  "papermill": {
   "default_parameters": {},
   "duration": 173.608246,
   "end_time": "2025-05-08T04:17:02.822353",
   "environment_variables": {},
   "exception": null,
   "input_path": "MPIA daily digest.ipynb",
   "output_path": "log.ipynb",
   "parameters": {},
   "start_time": "2025-05-08T04:14:09.214107",
   "version": "2.6.0"
  },
  "vscode": {
   "interpreter": {
    "hash": "aee8b7b246df8f9039afb4144a1f6fd8d2ca17a180786b69acc140d282b71a49"
   }
  },
  "widgets": {
   "application/vnd.jupyter.widget-state+json": {
    "state": {
     "0ace4bf23fdc4dcb8c87636ba1cf93ae": {
      "model_module": "@jupyter-widgets/controls",
      "model_module_version": "2.0.0",
      "model_name": "HTMLStyleModel",
      "state": {
       "_model_module": "@jupyter-widgets/controls",
       "_model_module_version": "2.0.0",
       "_model_name": "HTMLStyleModel",
       "_view_count": null,
       "_view_module": "@jupyter-widgets/base",
       "_view_module_version": "2.0.0",
       "_view_name": "StyleView",
       "background": null,
       "description_width": "",
       "font_size": null,
       "text_color": null
      }
     },
     "183c61f8cf474f8581e8a50314da2b00": {
      "model_module": "@jupyter-widgets/base",
      "model_module_version": "2.0.0",
      "model_name": "LayoutModel",
      "state": {
       "_model_module": "@jupyter-widgets/base",
       "_model_module_version": "2.0.0",
       "_model_name": "LayoutModel",
       "_view_count": null,
       "_view_module": "@jupyter-widgets/base",
       "_view_module_version": "2.0.0",
       "_view_name": "LayoutView",
       "align_content": null,
       "align_items": null,
       "align_self": null,
       "border_bottom": null,
       "border_left": null,
       "border_right": null,
       "border_top": null,
       "bottom": null,
       "display": null,
       "flex": null,
       "flex_flow": null,
       "grid_area": null,
       "grid_auto_columns": null,
       "grid_auto_flow": null,
       "grid_auto_rows": null,
       "grid_column": null,
       "grid_gap": null,
       "grid_row": null,
       "grid_template_areas": null,
       "grid_template_columns": null,
       "grid_template_rows": null,
       "height": null,
       "justify_content": null,
       "justify_items": null,
       "left": null,
       "margin": null,
       "max_height": null,
       "max_width": null,
       "min_height": null,
       "min_width": null,
       "object_fit": null,
       "object_position": null,
       "order": null,
       "overflow": null,
       "padding": null,
       "right": null,
       "top": null,
       "visibility": null,
       "width": null
      }
     },
     "237c484b8ca149259ab9cf45a4b237cc": {
      "model_module": "@jupyter-widgets/controls",
      "model_module_version": "2.0.0",
      "model_name": "HTMLStyleModel",
      "state": {
       "_model_module": "@jupyter-widgets/controls",
       "_model_module_version": "2.0.0",
       "_model_name": "HTMLStyleModel",
       "_view_count": null,
       "_view_module": "@jupyter-widgets/base",
       "_view_module_version": "2.0.0",
       "_view_name": "StyleView",
       "background": null,
       "description_width": "",
       "font_size": null,
       "text_color": null
      }
     },
     "52461a499deb41cc8571f0211005daa4": {
      "model_module": "@jupyter-widgets/controls",
      "model_module_version": "2.0.0",
      "model_name": "HBoxModel",
      "state": {
       "_dom_classes": [],
       "_model_module": "@jupyter-widgets/controls",
       "_model_module_version": "2.0.0",
       "_model_name": "HBoxModel",
       "_view_count": null,
       "_view_module": "@jupyter-widgets/controls",
       "_view_module_version": "2.0.0",
       "_view_name": "HBoxView",
       "box_style": "",
       "children": [
        "IPY_MODEL_cac85614f7434db6ab8df7742958f2d0",
        "IPY_MODEL_54df7291e7544328a182b7616b84d097",
        "IPY_MODEL_afeccf79f9e843558ad17d201f2a89a5"
       ],
       "layout": "IPY_MODEL_5a3bb80072974d2aab1421920b96d26f",
       "tabbable": null,
       "tooltip": null
      }
     },
     "54df7291e7544328a182b7616b84d097": {
      "model_module": "@jupyter-widgets/controls",
      "model_module_version": "2.0.0",
      "model_name": "FloatProgressModel",
      "state": {
       "_dom_classes": [],
       "_model_module": "@jupyter-widgets/controls",
       "_model_module_version": "2.0.0",
       "_model_name": "FloatProgressModel",
       "_view_count": null,
       "_view_module": "@jupyter-widgets/controls",
       "_view_module_version": "2.0.0",
       "_view_name": "ProgressView",
       "bar_style": "success",
       "description": "",
       "description_allow_html": false,
       "layout": "IPY_MODEL_ce4353f7800e4d258bf221488242203c",
       "max": 6.0,
       "min": 0.0,
       "orientation": "horizontal",
       "style": "IPY_MODEL_c2a9153d3f56488ba727547270cede77",
       "tabbable": null,
       "tooltip": null,
       "value": 6.0
      }
     },
     "5a3bb80072974d2aab1421920b96d26f": {
      "model_module": "@jupyter-widgets/base",
      "model_module_version": "2.0.0",
      "model_name": "LayoutModel",
      "state": {
       "_model_module": "@jupyter-widgets/base",
       "_model_module_version": "2.0.0",
       "_model_name": "LayoutModel",
       "_view_count": null,
       "_view_module": "@jupyter-widgets/base",
       "_view_module_version": "2.0.0",
       "_view_name": "LayoutView",
       "align_content": null,
       "align_items": null,
       "align_self": null,
       "border_bottom": null,
       "border_left": null,
       "border_right": null,
       "border_top": null,
       "bottom": null,
       "display": null,
       "flex": null,
       "flex_flow": null,
       "grid_area": null,
       "grid_auto_columns": null,
       "grid_auto_flow": null,
       "grid_auto_rows": null,
       "grid_column": null,
       "grid_gap": null,
       "grid_row": null,
       "grid_template_areas": null,
       "grid_template_columns": null,
       "grid_template_rows": null,
       "height": null,
       "justify_content": null,
       "justify_items": null,
       "left": null,
       "margin": null,
       "max_height": null,
       "max_width": null,
       "min_height": null,
       "min_width": null,
       "object_fit": null,
       "object_position": null,
       "order": null,
       "overflow": null,
       "padding": null,
       "right": null,
       "top": null,
       "visibility": null,
       "width": null
      }
     },
     "afeccf79f9e843558ad17d201f2a89a5": {
      "model_module": "@jupyter-widgets/controls",
      "model_module_version": "2.0.0",
      "model_name": "HTMLModel",
      "state": {
       "_dom_classes": [],
       "_model_module": "@jupyter-widgets/controls",
       "_model_module_version": "2.0.0",
       "_model_name": "HTMLModel",
       "_view_count": null,
       "_view_module": "@jupyter-widgets/controls",
       "_view_module_version": "2.0.0",
       "_view_name": "HTMLView",
       "description": "",
       "description_allow_html": false,
       "layout": "IPY_MODEL_df69a45b7d6648229349234b023cb87a",
       "placeholder": "​",
       "style": "IPY_MODEL_0ace4bf23fdc4dcb8c87636ba1cf93ae",
       "tabbable": null,
       "tooltip": null,
       "value": " 6/6 [02:30&lt;00:00, 18.76s/it]"
      }
     },
     "c2a9153d3f56488ba727547270cede77": {
      "model_module": "@jupyter-widgets/controls",
      "model_module_version": "2.0.0",
      "model_name": "ProgressStyleModel",
      "state": {
       "_model_module": "@jupyter-widgets/controls",
       "_model_module_version": "2.0.0",
       "_model_name": "ProgressStyleModel",
       "_view_count": null,
       "_view_module": "@jupyter-widgets/base",
       "_view_module_version": "2.0.0",
       "_view_name": "StyleView",
       "bar_color": null,
       "description_width": ""
      }
     },
     "cac85614f7434db6ab8df7742958f2d0": {
      "model_module": "@jupyter-widgets/controls",
      "model_module_version": "2.0.0",
      "model_name": "HTMLModel",
      "state": {
       "_dom_classes": [],
       "_model_module": "@jupyter-widgets/controls",
       "_model_module_version": "2.0.0",
       "_model_name": "HTMLModel",
       "_view_count": null,
       "_view_module": "@jupyter-widgets/controls",
       "_view_module_version": "2.0.0",
       "_view_name": "HTMLView",
       "description": "",
       "description_allow_html": false,
       "layout": "IPY_MODEL_183c61f8cf474f8581e8a50314da2b00",
       "placeholder": "​",
       "style": "IPY_MODEL_237c484b8ca149259ab9cf45a4b237cc",
       "tabbable": null,
       "tooltip": null,
       "value": "100%"
      }
     },
     "ce4353f7800e4d258bf221488242203c": {
      "model_module": "@jupyter-widgets/base",
      "model_module_version": "2.0.0",
      "model_name": "LayoutModel",
      "state": {
       "_model_module": "@jupyter-widgets/base",
       "_model_module_version": "2.0.0",
       "_model_name": "LayoutModel",
       "_view_count": null,
       "_view_module": "@jupyter-widgets/base",
       "_view_module_version": "2.0.0",
       "_view_name": "LayoutView",
       "align_content": null,
       "align_items": null,
       "align_self": null,
       "border_bottom": null,
       "border_left": null,
       "border_right": null,
       "border_top": null,
       "bottom": null,
       "display": null,
       "flex": null,
       "flex_flow": null,
       "grid_area": null,
       "grid_auto_columns": null,
       "grid_auto_flow": null,
       "grid_auto_rows": null,
       "grid_column": null,
       "grid_gap": null,
       "grid_row": null,
       "grid_template_areas": null,
       "grid_template_columns": null,
       "grid_template_rows": null,
       "height": null,
       "justify_content": null,
       "justify_items": null,
       "left": null,
       "margin": null,
       "max_height": null,
       "max_width": null,
       "min_height": null,
       "min_width": null,
       "object_fit": null,
       "object_position": null,
       "order": null,
       "overflow": null,
       "padding": null,
       "right": null,
       "top": null,
       "visibility": null,
       "width": null
      }
     },
     "df69a45b7d6648229349234b023cb87a": {
      "model_module": "@jupyter-widgets/base",
      "model_module_version": "2.0.0",
      "model_name": "LayoutModel",
      "state": {
       "_model_module": "@jupyter-widgets/base",
       "_model_module_version": "2.0.0",
       "_model_name": "LayoutModel",
       "_view_count": null,
       "_view_module": "@jupyter-widgets/base",
       "_view_module_version": "2.0.0",
       "_view_name": "LayoutView",
       "align_content": null,
       "align_items": null,
       "align_self": null,
       "border_bottom": null,
       "border_left": null,
       "border_right": null,
       "border_top": null,
       "bottom": null,
       "display": null,
       "flex": null,
       "flex_flow": null,
       "grid_area": null,
       "grid_auto_columns": null,
       "grid_auto_flow": null,
       "grid_auto_rows": null,
       "grid_column": null,
       "grid_gap": null,
       "grid_row": null,
       "grid_template_areas": null,
       "grid_template_columns": null,
       "grid_template_rows": null,
       "height": null,
       "justify_content": null,
       "justify_items": null,
       "left": null,
       "margin": null,
       "max_height": null,
       "max_width": null,
       "min_height": null,
       "min_width": null,
       "object_fit": null,
       "object_position": null,
       "order": null,
       "overflow": null,
       "padding": null,
       "right": null,
       "top": null,
       "visibility": null,
       "width": null
      }
     }
    },
    "version_major": 2,
    "version_minor": 0
   }
  }
 },
 "nbformat": 4,
 "nbformat_minor": 5
}