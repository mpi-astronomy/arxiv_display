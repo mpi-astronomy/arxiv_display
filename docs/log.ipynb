{
 "cells": [
  {
   "cell_type": "markdown",
   "id": "92bcb855",
   "metadata": {
    "papermill": {
     "duration": 0.006544,
     "end_time": "2023-03-22T04:04:24.265830",
     "exception": false,
     "start_time": "2023-03-22T04:04:24.259286",
     "status": "completed"
    },
    "tags": []
   },
   "source": [
    "# MPIA Arxiv on Deck 2\n",
    "\n",
    "Contains the steps to produce the paper extractions."
   ]
  },
  {
   "cell_type": "code",
   "execution_count": 1,
   "id": "3a0d6e11",
   "metadata": {
    "execution": {
     "iopub.execute_input": "2023-03-22T04:04:24.277483Z",
     "iopub.status.busy": "2023-03-22T04:04:24.276670Z",
     "iopub.status.idle": "2023-03-22T04:04:24.547715Z",
     "shell.execute_reply": "2023-03-22T04:04:24.546869Z"
    },
    "papermill": {
     "duration": 0.279305,
     "end_time": "2023-03-22T04:04:24.550233",
     "exception": false,
     "start_time": "2023-03-22T04:04:24.270928",
     "status": "completed"
    },
    "tags": []
   },
   "outputs": [],
   "source": [
    "# Imports\n",
    "import os\n",
    "from IPython.display import Markdown, display\n",
    "from tqdm.notebook import tqdm\n",
    "import warnings\n",
    "from PIL import Image \n",
    "\n",
    "# requires arxiv_on_deck_2\n",
    "\n",
    "from arxiv_on_deck_2.arxiv2 import (get_new_papers, \n",
    "                                    get_paper_from_identifier,\n",
    "                                    retrieve_document_source, \n",
    "                                    get_markdown_badge)\n",
    "from arxiv_on_deck_2 import (latex,\n",
    "                             latex_bib,\n",
    "                             mpia,\n",
    "                             highlight_authors_in_list)\n",
    "\n",
    "# Sometimes images are really big\n",
    "Image.MAX_IMAGE_PIXELS = 1000000000 "
   ]
  },
  {
   "cell_type": "code",
   "execution_count": 2,
   "id": "22aa9d44",
   "metadata": {
    "execution": {
     "iopub.execute_input": "2023-03-22T04:04:24.562117Z",
     "iopub.status.busy": "2023-03-22T04:04:24.561309Z",
     "iopub.status.idle": "2023-03-22T04:04:24.567026Z",
     "shell.execute_reply": "2023-03-22T04:04:24.566371Z"
    },
    "papermill": {
     "duration": 0.013587,
     "end_time": "2023-03-22T04:04:24.568963",
     "exception": false,
     "start_time": "2023-03-22T04:04:24.555376",
     "status": "completed"
    },
    "tags": []
   },
   "outputs": [],
   "source": [
    "# Some useful definitions.\n",
    "\n",
    "class AffiliationWarning(UserWarning):\n",
    "    pass\n",
    "\n",
    "class AffiliationError(RuntimeError):\n",
    "    pass\n",
    "\n",
    "def validation(source: str):\n",
    "    \"\"\"Raises error paper during parsing of source file\n",
    "    \n",
    "    Allows checks before parsing TeX code.\n",
    "    \n",
    "    Raises AffiliationWarning\n",
    "    \"\"\"\n",
    "    check = mpia.affiliation_verifications(source, verbose=True)\n",
    "    if check is not True:\n",
    "        raise AffiliationError(\"mpia.affiliation_verifications: \" + check)\n",
    "\n",
    "        \n",
    "warnings.simplefilter('always', AffiliationWarning)"
   ]
  },
  {
   "cell_type": "code",
   "execution_count": 3,
   "id": "14622700",
   "metadata": {
    "execution": {
     "iopub.execute_input": "2023-03-22T04:04:24.579081Z",
     "iopub.status.busy": "2023-03-22T04:04:24.578448Z",
     "iopub.status.idle": "2023-03-22T04:04:24.582778Z",
     "shell.execute_reply": "2023-03-22T04:04:24.582060Z"
    },
    "papermill": {
     "duration": 0.011421,
     "end_time": "2023-03-22T04:04:24.584693",
     "exception": false,
     "start_time": "2023-03-22T04:04:24.573272",
     "status": "completed"
    },
    "tags": []
   },
   "outputs": [],
   "source": [
    "# additional CSS to consider. \n",
    "# TODO: Current into each exported file. \n",
    "#       This should be set once into the webpages directly.\n",
    "#       With only the class/id definitions in the .md files.\n",
    "\n",
    "debug_html = \"\"\"\n",
    "<style>\n",
    "#wrap{ overflow:auto; }\n",
    "#fig1{ background:yellow; width:100%; float:left; padding:5px;  }\n",
    "#fig2{ background:red; width:50%; float:left; clear:left; padding:5px;  }\n",
    "#fig3{ background:green; width:50%; float:left; padding:5px;   }\n",
    ".macros{ background:yellow; visibility:visible;}\n",
    "h1 {margin: 0 0 0 0;}\n",
    "mark {background-color:#fff3b6;}\n",
    "img {object-fit:contain; max-height:250px; display:inline-block; text-align: center;}\n",
    "</style>\n",
    "\"\"\" \n",
    "html = \"\"\"\n",
    "<style>\n",
    "#wrap{ overflow:auto; }\n",
    "#fig1{ width:100%; float:left; padding: 5px;  }\n",
    "#fig2{ width:50%; float:left; clear:left; padding: 5px;  }\n",
    "#fig3{ width:50%; float:left; padding: 5px;  }\n",
    ".macros{ visibility:hidden; height:0px; }\n",
    "h1 {margin: 0em 0 0 0;}\n",
    "mark {background-color:#fff3b6;}\n",
    "img {object-fit:contain; max-height:250px; display:inline-block; text-align: center;}\n",
    "</style>\n",
    "\"\"\""
   ]
  },
  {
   "cell_type": "markdown",
   "id": "14bd6310",
   "metadata": {
    "papermill": {
     "duration": 0.004222,
     "end_time": "2023-03-22T04:04:24.593149",
     "exception": false,
     "start_time": "2023-03-22T04:04:24.588927",
     "status": "completed"
    },
    "tags": []
   },
   "source": [
    "## get list of arxiv paper candidates\n",
    "\n",
    "We use the MPIA mitarbeiter list webpage from mpia.de to get author names\n",
    "We then get all new papers from Arxiv and match authors"
   ]
  },
  {
   "cell_type": "code",
   "execution_count": 4,
   "id": "2645e73a",
   "metadata": {
    "execution": {
     "iopub.execute_input": "2023-03-22T04:04:24.603321Z",
     "iopub.status.busy": "2023-03-22T04:04:24.602801Z",
     "iopub.status.idle": "2023-03-22T04:04:53.092955Z",
     "shell.execute_reply": "2023-03-22T04:04:53.092161Z"
    },
    "papermill": {
     "duration": 28.497459,
     "end_time": "2023-03-22T04:04:53.094927",
     "exception": false,
     "start_time": "2023-03-22T04:04:24.597468",
     "status": "completed"
    },
    "tags": []
   },
   "outputs": [
    {
     "name": "stdout",
     "output_type": "stream",
     "text": [
      "Arxiv has 59 new papers today\n",
      "          13 with possible author matches\n"
     ]
    }
   ],
   "source": [
    "# get list from MPIA website\n",
    "# it automatically filters identified non-scientists :func:`mpia.filter_non_scientists`\n",
    "mpia_authors = mpia.get_mpia_mitarbeiter_list()\n",
    "new_papers = get_new_papers()\n",
    "# add manual references\n",
    "add_paper_refs = []\n",
    "new_papers.extend([get_paper_from_identifier(k) for k in add_paper_refs])\n",
    "\n",
    "# select only papers with matching author names and highlight authors\n",
    "hl_list = [k[0] for k in mpia_authors]\n",
    "\n",
    "candidates = []\n",
    "for paperk in new_papers:\n",
    "    hl_authors = highlight_authors_in_list(paperk['authors'], hl_list)\n",
    "    matches = [(hl, orig) for hl, orig in zip(hl_authors, paperk['authors']) if 'mark' in hl]\n",
    "    paperk['authors'] = hl_authors\n",
    "    if matches:\n",
    "        candidates.append(paperk)\n",
    "print(\"\"\"Arxiv has {0:,d} new papers today\"\"\".format(len(new_papers)))        \n",
    "print(\"\"\"          {0:,d} with possible author matches\"\"\".format(len(candidates)))"
   ]
  },
  {
   "cell_type": "markdown",
   "id": "3543b34a",
   "metadata": {
    "papermill": {
     "duration": 0.004492,
     "end_time": "2023-03-22T04:04:53.104359",
     "exception": false,
     "start_time": "2023-03-22T04:04:53.099867",
     "status": "completed"
    },
    "tags": []
   },
   "source": [
    "# Parse sources and generate relevant outputs\n",
    "\n",
    "From the candidates, we do the following steps:\n",
    "* get their tarball from ArXiv (and extract data)\n",
    "* find the main .tex file: find one with \\documentclass{...} (sometimes it's non trivial)\n",
    "* Check affiliations with :func:`validation`, which uses :func:`mpia.affiliation_verifications`\n",
    "* If passing the affiliations: we parse the .tex source\n",
    "   * inject sub-documents into the main (flatten the main document)\n",
    "   * parse structure, extract information (title, abstract, authors, figures...)\n",
    "   * handles `\\graphicspath` if provided\n",
    "* Generate the .md document."
   ]
  },
  {
   "cell_type": "code",
   "execution_count": 5,
   "id": "9576b79e",
   "metadata": {
    "execution": {
     "iopub.execute_input": "2023-03-22T04:04:53.115250Z",
     "iopub.status.busy": "2023-03-22T04:04:53.114463Z",
     "iopub.status.idle": "2023-03-22T04:05:36.653370Z",
     "shell.execute_reply": "2023-03-22T04:05:36.652589Z"
    },
    "papermill": {
     "duration": 43.547981,
     "end_time": "2023-03-22T04:05:36.656769",
     "exception": false,
     "start_time": "2023-03-22T04:04:53.108788",
     "status": "completed"
    },
    "scrolled": false,
    "tags": []
   },
   "outputs": [
    {
     "data": {
      "application/vnd.jupyter.widget-view+json": {
       "model_id": "a29fab9b1d6a49e9805cb5e3656bcb76",
       "version_major": 2,
       "version_minor": 0
      },
      "text/plain": [
       "  0%|          | 0/12 [00:00<?, ?it/s]"
      ]
     },
     "metadata": {},
     "output_type": "display_data"
    },
    {
     "name": "stdout",
     "output_type": "stream",
     "text": [
      "Retrieving document from  https://arxiv.org/e-print/2303.11349\n"
     ]
    },
    {
     "name": "stdout",
     "output_type": "stream",
     "text": [
      "extracting tarball to tmp_2303.11349..."
     ]
    },
    {
     "name": "stdout",
     "output_type": "stream",
     "text": [
      " done.\n",
      "Retrieving document from  https://arxiv.org/e-print/2303.11358\n"
     ]
    },
    {
     "name": "stdout",
     "output_type": "stream",
     "text": [
      "extracting tarball to tmp_2303.11358..."
     ]
    },
    {
     "name": "stdout",
     "output_type": "stream",
     "text": [
      " done.\n",
      "Retrieving document from  https://arxiv.org/e-print/2303.11393\n"
     ]
    },
    {
     "name": "stdout",
     "output_type": "stream",
     "text": [
      "extracting tarball to tmp_2303.11393..."
     ]
    },
    {
     "name": "stdout",
     "output_type": "stream",
     "text": [
      " done.\n",
      "Retrieving document from  https://arxiv.org/e-print/2303.11539\n"
     ]
    },
    {
     "name": "stdout",
     "output_type": "stream",
     "text": [
      "extracting tarball to tmp_2303.11539..."
     ]
    },
    {
     "name": "stdout",
     "output_type": "stream",
     "text": [
      " done.\n",
      "Retrieving document from  https://arxiv.org/e-print/2303.11603\n"
     ]
    },
    {
     "name": "stdout",
     "output_type": "stream",
     "text": [
      "extracting tarball to tmp_2303.11603..."
     ]
    },
    {
     "name": "stdout",
     "output_type": "stream",
     "text": [
      " done.\n",
      "Retrieving document from  https://arxiv.org/e-print/2303.11614\n"
     ]
    },
    {
     "name": "stderr",
     "output_type": "stream",
     "text": [
      "/opt/hostedtoolcache/Python/3.9.16/x64/lib/python3.9/site-packages/IPython/core/interactiveshell.py:3460: LatexWarning: Multiple tex files.\n",
      "\n",
      "  exec(code_obj, self.user_global_ns, self.user_ns)\n",
      "/opt/hostedtoolcache/Python/3.9.16/x64/lib/python3.9/site-packages/IPython/core/interactiveshell.py:3460: LatexWarning: Found documentclass in tmp_2303.11603/main.tex\n",
      "\n",
      "  exec(code_obj, self.user_global_ns, self.user_ns)\n"
     ]
    },
    {
     "name": "stderr",
     "output_type": "stream",
     "text": [
      "/tmp/ipykernel_1998/4289671964.py:41: LatexWarning: 2303.11614 did not run properly\n",
      "not a gzip file\n",
      "  warnings.warn(latex.LatexWarning(f\"{paper_id:s} did not run properly\\n\" +\n"
     ]
    },
    {
     "name": "stdout",
     "output_type": "stream",
     "text": [
      "Retrieving document from  https://arxiv.org/e-print/2303.11841\n"
     ]
    },
    {
     "name": "stdout",
     "output_type": "stream",
     "text": [
      "extracting tarball to tmp_2303.11841..."
     ]
    },
    {
     "name": "stdout",
     "output_type": "stream",
     "text": [
      " done.\n",
      "Retrieving document from  https://arxiv.org/e-print/2303.11847\n"
     ]
    },
    {
     "name": "stdout",
     "output_type": "stream",
     "text": [
      "extracting tarball to tmp_2303.11847..."
     ]
    },
    {
     "name": "stdout",
     "output_type": "stream",
     "text": [
      " done.\n",
      "Retrieving document from  https://arxiv.org/e-print/2303.11875\n"
     ]
    },
    {
     "name": "stderr",
     "output_type": "stream",
     "text": [
      "/tmp/ipykernel_1998/4289671964.py:41: LatexWarning: 2303.11875 did not run properly\n",
      "not a gzip file\n",
      "  warnings.warn(latex.LatexWarning(f\"{paper_id:s} did not run properly\\n\" +\n"
     ]
    },
    {
     "name": "stdout",
     "output_type": "stream",
     "text": [
      "Retrieving document from  https://arxiv.org/e-print/2303.11946\n"
     ]
    },
    {
     "name": "stdout",
     "output_type": "stream",
     "text": [
      "extracting tarball to tmp_2303.11946..."
     ]
    },
    {
     "name": "stdout",
     "output_type": "stream",
     "text": [
      " done.\n",
      "Retrieving document from  https://arxiv.org/e-print/2303.11948\n"
     ]
    },
    {
     "name": "stdout",
     "output_type": "stream",
     "text": [
      "extracting tarball to tmp_2303.11948... done.\n"
     ]
    },
    {
     "name": "stdout",
     "output_type": "stream",
     "text": [
      "Found 46 bibliographic references in tmp_2303.11948/main.bbl.\n",
      "Retrieving document from  https://arxiv.org/e-print/2303.12004\n"
     ]
    },
    {
     "name": "stdout",
     "output_type": "stream",
     "text": [
      "extracting tarball to tmp_2303.12004..."
     ]
    },
    {
     "name": "stdout",
     "output_type": "stream",
     "text": [
      " done.\n"
     ]
    },
    {
     "name": "stderr",
     "output_type": "stream",
     "text": [
      "/opt/hostedtoolcache/Python/3.9.16/x64/lib/python3.9/site-packages/IPython/core/interactiveshell.py:3460: LatexWarning: Multiple tex files.\n",
      "\n",
      "  exec(code_obj, self.user_global_ns, self.user_ns)\n",
      "/opt/hostedtoolcache/Python/3.9.16/x64/lib/python3.9/site-packages/IPython/core/interactiveshell.py:3460: LatexWarning: Found documentclass in tmp_2303.12004/main.tex\n",
      "\n",
      "  exec(code_obj, self.user_global_ns, self.user_ns)\n",
      "/opt/hostedtoolcache/Python/3.9.16/x64/lib/python3.9/site-packages/arxiv_on_deck_2/latex.py:361: LatexWarning: Latex injecting: 'Acknowledgements-only' from 'tmp_2303.12004/Acknowledgements-only.tex'\n",
      "  warnings.warn(LatexWarning(f\"Latex injecting: '{ext}' from '{subsource}'\"))\n"
     ]
    }
   ],
   "source": [
    "documents = []\n",
    "failed = []\n",
    "for paper in tqdm(candidates[:-1]):\n",
    "    paper_id = paper['identifier'].lower().replace('arxiv:', '')\n",
    "    \n",
    "    folder = f'tmp_{paper_id}'\n",
    "\n",
    "    try:\n",
    "        if not os.path.isdir(folder):\n",
    "            folder = retrieve_document_source(f\"{paper_id}\", f'tmp_{paper_id}')\n",
    "        \n",
    "        try:\n",
    "            doc = latex.LatexDocument(folder, validation=validation)    \n",
    "        except AffiliationError as affilerror:\n",
    "            msg = f\"ArXiv:{paper_id:s} is not an MPIA paper... \" + str(affilerror)\n",
    "            failed.append((paper, \"affiliation error: \" + str(affilerror) ))\n",
    "            continue\n",
    "        \n",
    "        # Hack because sometimes author parsing does not work well\n",
    "        if (len(doc.authors) != len(paper['authors'])):\n",
    "            doc._authors = paper['authors']\n",
    "        if (doc.abstract) in (None, ''):\n",
    "            doc._abstract = paper['abstract']\n",
    "            \n",
    "        doc.comment = (get_markdown_badge(paper_id) + \n",
    "                       \"<mark>Appeared on: \" + paper['date'] + \"</mark> - \" +\n",
    "                       \"_\" + paper['comments'] + \"_\")\n",
    "        doc.highlight_authors_in_list(hl_list)\n",
    "\n",
    "        full_md = doc.generate_markdown_text()\n",
    "        \n",
    "        # replace citations\n",
    "        try:\n",
    "            bibdata = latex_bib.LatexBib.from_doc(doc)\n",
    "            full_md = latex_bib.replace_citations(full_md, bibdata)\n",
    "        except Exception as e:\n",
    "            print(e)\n",
    "        \n",
    "        documents.append((paper_id, full_md))\n",
    "    except Exception as e:\n",
    "        warnings.warn(latex.LatexWarning(f\"{paper_id:s} did not run properly\\n\" +\n",
    "                                         str(e)\n",
    "                                        ))\n",
    "        failed.append((paper, \"latex error \" + str(e)))"
   ]
  },
  {
   "cell_type": "markdown",
   "id": "2505a25c",
   "metadata": {
    "papermill": {
     "duration": 0.006851,
     "end_time": "2023-03-22T04:05:36.676515",
     "exception": false,
     "start_time": "2023-03-22T04:05:36.669664",
     "status": "completed"
    },
    "tags": []
   },
   "source": [
    "### Export the logs\n",
    "\n",
    "Throughout, we also keep track of the logs per paper. see `logs-{today date}.md` "
   ]
  },
  {
   "cell_type": "code",
   "execution_count": 6,
   "id": "d733828a",
   "metadata": {
    "execution": {
     "iopub.execute_input": "2023-03-22T04:05:36.691926Z",
     "iopub.status.busy": "2023-03-22T04:05:36.691117Z",
     "iopub.status.idle": "2023-03-22T04:05:36.723432Z",
     "shell.execute_reply": "2023-03-22T04:05:36.722609Z"
    },
    "papermill": {
     "duration": 0.042277,
     "end_time": "2023-03-22T04:05:36.725362",
     "exception": false,
     "start_time": "2023-03-22T04:05:36.683085",
     "status": "completed"
    },
    "scrolled": false,
    "tags": []
   },
   "outputs": [
    {
     "data": {
      "text/markdown": [
       "## Successful papers"
      ],
      "text/plain": [
       "<IPython.core.display.Markdown object>"
      ]
     },
     "metadata": {},
     "output_type": "display_data"
    },
    {
     "data": {
      "text/markdown": [
       "\n",
       "|||\n",
       "|---:|:---|\n",
       "| [![arXiv](https://img.shields.io/badge/arXiv-arXiv:2303.11948-b31b1b.svg)](https://arxiv.org/abs/arXiv:2303.11948) | **Forming super-Mercuries: The role of stellar abundances**  |\n",
       "|| <mark>J. Mah</mark>, <mark>B. Bitsch</mark> |\n",
       "|*Appeared on*| *2023-03-22*|\n",
       "|*Comments*| *9 pages, 6 figures, accepted for publication in A&A*|\n",
       "|**Abstract**| Super-Mercuries, rocky exoplanets with bulk iron mass fraction of more than 60 per cent, appear to be preferentially hosted by stars with higher iron mass fraction than the Earth. It is unclear whether these iron-rich planets can form in the disc, or if giant impacts are necessary. Here we investigate the formation of super-Mercuries in their natal protoplanetary discs by taking into account their host stars' abundances (Fe, Mg, Si, S). We employ a disc evolution model which includes the growth, drift, evaporation and recondensation of pebbles to compute the pebble iron mass fraction. The recondensation of outward-drifting iron vapour near the iron evaporation front is the key mechanism that facilitates an increase in the pebble iron mass fraction. We also simulate the growth of planetary seeds around the iron evaporation front using a planet formation model which includes pebble accretion and planet migration, and compute the final composition of the planets. Our simulations are able to reproduce the observed iron compositions of the super-Mercuries provided that all the iron in the disc are locked in pure Fe grains and that the disc viscosity is low. The combined effects of slow orbital migration of planets and long retention time of iron vapour in low-viscosity discs makes it easier to form iron-rich planets. Furthermore, we find that decreasing the stellar Mg/Si ratio results in an increase in the iron mass fraction of the planet due to a reduction in the abundance of Mg2SiO4, which has a very similar condensation temperature as iron, in the disc. Our results thus imply that super-Mercuries are more likely to form around stars with low Mg/Si, in agreement with observational data. |"
      ],
      "text/plain": [
       "[arXiv:2303.11948] Forming super-Mercuries: The role of stellar abundances\n",
       "\t<mark>J. Mah</mark>, <mark>B. Bitsch</mark>"
      ]
     },
     "metadata": {},
     "output_type": "display_data"
    },
    {
     "data": {
      "text/markdown": [
       "## Failed papers"
      ],
      "text/plain": [
       "<IPython.core.display.Markdown object>"
      ]
     },
     "metadata": {},
     "output_type": "display_data"
    },
    {
     "data": {
      "text/markdown": [
       "\n",
       "|||\n",
       "|---:|:---|\n",
       "| [![arXiv](https://img.shields.io/badge/arXiv-arXiv:2303.11349-b31b1b.svg)](https://arxiv.org/abs/arXiv:2303.11349) | **An extremely compact, low-mass post-starburst galaxy at $z=5.2$**  |\n",
       "|| Victoria Strait, et al. -- incl., <mark>Katriona Gould</mark> |\n",
       "|*Appeared on*| *2023-03-22*|\n",
       "|*Comments*| *9 pages, 4 figures, 1 table*|\n",
       "|**Abstract**| We report the discovery of a low-mass $z=5.200\\pm 0.002$ galaxy that is in the process of ceasing its star formation. The galaxy, MACS0417-z5PSB, is multiply imaged with magnification factors $\\sim40$ by the galaxy cluster MACS J0417.5-1154, observed as part of the CAnadian NIRISS Unbiased Cluster Survey (CANUCS). Using observations of MACS0417-z5PSB with a JWST/NIRSpec Prism spectrum and NIRCam imaging, we investigate the mechanism responsible for the cessation of star formation of the galaxy, and speculate about possibilities for its future. Using spectrophotometric fitting, we find a remarkably low stellar mass of $\\rm{M_*}=4.3\\pm^{0.9}_{0.8} \\times 10^{7} \\rm{M_{\\odot}}$, less than 1% of the characteristic stellar mass at $z\\sim5$. We measure a de-lensed rest-UV half-light radius in the source plane of $30\\pm^{7}_{5}$ pc, and measure a star formation rate from H$\\alpha$ of $0.14\\pm^{0.17}_{0.12}$ $\\rm{M_{\\odot}/yr}$. We find that under the assumption of a double power law star formation history, MACS0417-z5PSB has seen a recent rise in star formation, peaking $\\sim10-30$ Myr ago and declining precipitously since then. Together, these measurements reveal a low-mass, extremely compact galaxy which is in the process of ceasing star formation. We investigate the possibilities of mechanisms that have led to the cessation of star formation in MACS0417-z5PSB, considering stellar and AGN feedback, and environmental processes. We can likely rule out an AGN and most environmental processes, but leave open the possibility that MACS0417-z5PSB could be a star forming galaxy in the lull of a bursty star formation history. |\n",
       "|<p style=\"color:green\"> **ERROR** </p>| <p style=\"color:green\">affiliation error: mpia.affiliation_verifications: 'Heidelberg' keyword not found.</p> |"
      ],
      "text/plain": [
       "<IPython.core.display.Markdown object>"
      ]
     },
     "metadata": {},
     "output_type": "display_data"
    },
    {
     "data": {
      "text/markdown": [
       "\n",
       "|||\n",
       "|---:|:---|\n",
       "| [![arXiv](https://img.shields.io/badge/arXiv-arXiv:2303.11358-b31b1b.svg)](https://arxiv.org/abs/arXiv:2303.11358) | **HD 42477: coupled r modes, g modes and a p mode in an A0Vnne star**  |\n",
       "|| D. W. Kurtz, et al. -- incl., <mark>U. Lee</mark> |\n",
       "|*Appeared on*| *2023-03-22*|\n",
       "|*Comments*| *11 pages, 6 figures, 2 tables, accepted to MNRAS*|\n",
       "|**Abstract**| Several studies have shown that a number of stars pulsating in p modes lie between the $\\beta$ Cep and $\\delta$ Sct instability strips in the Hertzsprung-Russell (HR) Diagram. At present, there is no certain understanding of how p~modes can be excited in this $T_{\\rm eff}$ range. The goal of this work is to disprove the conjecture that all stars pulsating in p modes and lying in this $T_{\\rm eff}$ range are the result of incorrect measurements of $T_{\\rm eff}$, contamination, or the presence of unseen cooler companions lying in the $\\delta$ Sct instability strip (given the high binary fraction of stars in this region of the HR Diagram). Using TESS data, we show that the A0Vnne star HD 42477 has a single p mode coupled to several r modes and/or g modes. We rule out a contaminating background star with a pixel-by-pixel examination, and we essentially rule out the possibility of a companion $\\delta$ Sct star in a binary. We model the pulsations in HD 42477 and suggest that the g modes are excited by overstable convective core modes. We also conjecture that the single p mode is driven by coupling with the g modes, or that the oblateness of this rapidly-rotating star permits driving by He II ionization in the equatorial region. |\n",
       "|<p style=\"color:green\"> **ERROR** </p>| <p style=\"color:green\">affiliation error: mpia.affiliation_verifications: 'Heidelberg' keyword not found.</p> |"
      ],
      "text/plain": [
       "<IPython.core.display.Markdown object>"
      ]
     },
     "metadata": {},
     "output_type": "display_data"
    },
    {
     "data": {
      "text/markdown": [
       "\n",
       "|||\n",
       "|---:|:---|\n",
       "| [![arXiv](https://img.shields.io/badge/arXiv-arXiv:2303.11393-b31b1b.svg)](https://arxiv.org/abs/arXiv:2303.11393) | **Short-lived radioisotope enrichment in star-forming regions from stellar  winds and supernovae**  |\n",
       "|| Richard J. Parker, et al. -- incl., <mark>Matthew Ridsdill-Smith</mark> |\n",
       "|*Appeared on*| *2023-03-22*|\n",
       "|*Comments*| *16 pages, 10 figures, 1 appendix with 3 further figures, accepted for publication in MNRAS*|\n",
       "|**Abstract**| The abundance of the short-lived radioisotopes 26-Al and 60-Fe in the early Solar system is usually explained by the Sun either forming from pre-enriched material, or the Sun's protosolar disc being polluted by a nearby supernova explosion from a massive star. Both hypotheses suffer from significant drawbacks: the former does not account for the dynamical evolution of star-forming regions, while in the latter the time for massive stars to explode as supernovae can be similar to, or even longer than, the lifetime of protoplanetary discs. In this paper, we extend the disc enrichment scenario to include the contribution of 26-Al from the winds of massive stars before they explode as supernovae. We use N-body simulations and a post-processing analysis to calculate the amount of enrichment in each disc, and we vary the stellar density of the star-forming regions. We find that stellar winds contribute to disc enrichment to such an extent that the Solar system's 26-Al/60-Fe ratio is reproduced in up to 50 per cent of discs in dense (rho = 1000Msun pc^-3) star-forming regions. When winds are a significant contributor to the SLR enrichment, we find that Solar system levels of enrichment can occur much earlier (before 2.5 Myr) than when enrichment occurs from supernovae, which start to explode at later ages (>4 Myr). We find that Solar system levels of enrichment all but disappear in low-density star-forming regions (rho < 10Msun pc^-3), implying that the Solar system must have formed in a dense, populous star-forming region if 26-Al and 60-Fe were delivered directly to the protosolar disc from massive-star winds and supernovae. |\n",
       "|<p style=\"color:green\"> **ERROR** </p>| <p style=\"color:green\">affiliation error: mpia.affiliation_verifications: 'Heidelberg' keyword not found.</p> |"
      ],
      "text/plain": [
       "<IPython.core.display.Markdown object>"
      ]
     },
     "metadata": {},
     "output_type": "display_data"
    },
    {
     "data": {
      "text/markdown": [
       "\n",
       "|||\n",
       "|---:|:---|\n",
       "| [![arXiv](https://img.shields.io/badge/arXiv-arXiv:2303.11539-b31b1b.svg)](https://arxiv.org/abs/arXiv:2303.11539) | **The 300 parsec resolution imaging of a z = 8.31 galaxy: Turbulent  ionized gas and potential stellar feedback 600 million years after the Big  Bang**  |\n",
       "|| Yoichi Tamura, et al. -- incl., <mark>Minju M. Lee</mark> |\n",
       "|*Appeared on*| *2023-03-22*|\n",
       "|*Comments*| *18 pages, 6 figures, 1 table, submitted to ApJ after revisions in response to the first referee report*|\n",
       "|**Abstract**| We present the results of 300 pc resolution ALMA imaging of the [OIII] 88 $\\mu$m line and dust continuum emission from a $z = 8.312$ Lyman break galaxy MACS0416_Y1. The velocity-integrated [OIII] emission has three peaks which are likely associated with three young stellar clumps of MACS0416_Y1, while the channel map shows a complicated velocity structure with little indication of a global velocity gradient unlike what was found in [CII] 158 $\\mu$m at a larger scale, suggesting random bulk motion of ionized gas clouds inside the galaxy. In contrast, dust emission appears as two individual clumps apparently separating or bridging the [OIII]/stellar clumps. The cross correlation coefficient between dust and ultraviolet-related emission (i.e., [OIII] and ultraviolet continuum) is unity on a galactic scale, while it drops at < 1 kpc, suggesting well mixed geometry of multi-phase interstellar media on sub-kpc scales. If the cutoff scale characterizes different stages of star formation, the cutoff scale can be explained by gravitational instability of turbulent gas. We also report on a kpc-scale off-center cavity embedded in the dust continuum image. This could be a superbubble producing galactic-scale outflows, since the energy injection from the 4 Myr starburst suggested by a spectral energy distribution analysis is large enough to push the surrounding media creating a kpc-scale cavity. |\n",
       "|<p style=\"color:green\"> **ERROR** </p>| <p style=\"color:green\">affiliation error: mpia.affiliation_verifications: 'Heidelberg' keyword not found.</p> |"
      ],
      "text/plain": [
       "<IPython.core.display.Markdown object>"
      ]
     },
     "metadata": {},
     "output_type": "display_data"
    },
    {
     "data": {
      "text/markdown": [
       "\n",
       "|||\n",
       "|---:|:---|\n",
       "| [![arXiv](https://img.shields.io/badge/arXiv-arXiv:2303.11603-b31b1b.svg)](https://arxiv.org/abs/arXiv:2303.11603) | **Broadband X-ray timing and spectral characteristics of the  accretion-powered millisecond X-ray pulsar MAXI J1816$-$195**  |\n",
       "|| <mark>Zhaosheng Li</mark>, et al. -- incl., <mark>Shu Zhang</mark>, <mark>Shuang-Nan Zhang</mark> |\n",
       "|*Appeared on*| *2023-03-22*|\n",
       "|*Comments*| *12 pages, 6 figures, submitted to ApJ*|\n",
       "|**Abstract**| We studied the broadband X-ray timing and spectral behaviors of the newly confirmed accreting millisecond X-ray pulsar MAXI J1816$-$195 during its 2022 outburst. We used the data from Insight-HXMT ME/HE, NICER and NuSTAR which cover the energy range between 0.8--210 keV. Coherent timing analysis of Insight-HXMT ME/HE and NICER data revealed a complex behavior at the early stage of the outburst, between MJD 59737.0-59741.9, and beyond between MJD 59741.9-59760.6 a significant spin-up $\\dot{\\nu}$ of $(9.0\\pm2.1)\\times10^{-14}~{\\rm Hz~s^{-1}}$. We detected the X-ray pulsations up to $\\sim95$ keV in a combination of Insight-HXMT HE observations. The pulse profiles were quite stable over the whole outburst and could be well described by a truncated Fourier series using two harmonics, the fundamental and the first overtone. Both components kept alignment in the range 0.8--64 keV. The joint and time-averaged NICER and Insight-HXMT spectra in the energy range 1--150 keV were well fitted by the absorbed Comptonization model compps plus disk blackbody with two additional Gaussian components. Based on the bolometric flux during the spin-up epoch, we determined a magnetic field strength of $(0.23-1.11)\\times10^8$ G in MAXI J1816--195. |\n",
       "|<p style=\"color:green\"> **ERROR** </p>| <p style=\"color:green\">affiliation error: mpia.affiliation_verifications: 'Heidelberg' keyword not found.</p> |"
      ],
      "text/plain": [
       "<IPython.core.display.Markdown object>"
      ]
     },
     "metadata": {},
     "output_type": "display_data"
    },
    {
     "data": {
      "text/markdown": [
       "\n",
       "|||\n",
       "|---:|:---|\n",
       "| [![arXiv](https://img.shields.io/badge/arXiv-arXiv:2303.11841-b31b1b.svg)](https://arxiv.org/abs/arXiv:2303.11841) | **Discovery of a massive giant planet with extreme density around a  sub-giant star TOI-4603**  |\n",
       "|| Akanksha Khandelwal, et al. -- incl., <mark>Rishikesh Sharma</mark> |\n",
       "|*Appeared on*| *2023-03-22*|\n",
       "|*Comments*| *accepted for publication in A&A Letters*|\n",
       "|**Abstract**| We present the discovery of a transiting massive giant planet around TOI-4603, a sub-giant F-type star from NASA's Transiting Exoplanet Survey Satellite (TESS). The newly discovered planet has a radius of $1.042^{+0.038}_{-0.035}$ $R_{J}$, and an orbital period of $7.24599^{+0.00022}_{-0.00021}$ days. Using radial velocity measurements with the PARAS {and TRES} spectrographs, we determined the planet's mass to be $12.89^{+0.58}_{-0.57}$ $M_{J}$, resulting in a bulk density of $14.1^{+1.7}_{-1.6}$ g ${cm^{-3}}$. This makes it one of the few massive giant planets with extreme density and lies in the transition mass region of massive giant planets and low-mass brown dwarfs, an important addition to the population of less than five objects in this mass range. The eccentricity of $0.325\\pm0.020$ and an orbital separation of $0.0888\\pm0.0010$ AU from its host star suggest that the planet is likely undergoing high eccentricity tidal (HET) migration. We find a fraction of heavy elements of $0.13^{+0.05}_{-0.06}$ and metal enrichment of the planet ($Z_{P}/Z_{star}$) of $4.2^{+1.6}_{-2.0}$. Detection of such systems will offer us to gain valuable insights into the governing mechanisms of massive planets and improve our understanding of their dominant formation and migration mechanisms. |\n",
       "|<p style=\"color:green\"> **ERROR** </p>| <p style=\"color:green\">affiliation error: mpia.affiliation_verifications: 'Heidelberg' keyword not found.</p> |"
      ],
      "text/plain": [
       "<IPython.core.display.Markdown object>"
      ]
     },
     "metadata": {},
     "output_type": "display_data"
    },
    {
     "data": {
      "text/markdown": [
       "\n",
       "|||\n",
       "|---:|:---|\n",
       "| [![arXiv](https://img.shields.io/badge/arXiv-arXiv:2303.11847-b31b1b.svg)](https://arxiv.org/abs/arXiv:2303.11847) | **New evidence for the precession of tilted disk in SDSS  J081256.85+191157.8**  |\n",
       "|| Qi-Bin Sun, et al. -- incl., <mark>Li-Ying Zhu</mark>, <mark>Er-Gang Zhao</mark>, <mark>Fu-Xing Li</mark>, <mark>Min-Yu Li</mark> |\n",
       "|*Appeared on*| *2023-03-22*|\n",
       "|*Comments*| *21 pages, 16 figures*|\n",
       "|**Abstract**| Super-orbital signals and negative superhumps are thought to be related to the reverse precession of the nodal line in a tilted disk, but the evidence is lacking. Our results provide new evidence for the precession of the tilted disk. Based on the TESS and K2 photometry, we investigate the super-orbital signals, negative superhumps, positive superhumps, and eclipse characteristics of the long-period eclipsing cataclysmic variable star SDSS J0812. We find super-orbital signals, negative superhumps, and positive superhumps with periods of 3.0451(5) d, 0.152047(2) d, and 0.174686(7) d, respectively, in the K2 photometry, but all disappear in the TESS photometry, where the positive superhumps are present only in the first half of the same campaign, confirming that none of them is permanently present in SDSS J0812. In addition, we find for the first time a cyclic variation of the O-C of minima, eclipse depth, and negative superhumps amplitudes for 3.045(8) d, 3.040(6) d, and 3.053(8) d in SDSS J0812, respectively, and all reach the maximum at ~ 0.75 precession phases of the tilted disk, which provides new evidence for the precession of the tilted disk. We suggest that the O-C and eclipse depth variations may come from a shift of the brightness center of the precession tilted disk. Our first finding on the periodic variation of negative superhumps amplitude with the super-orbital signals is significant evidence that the origin of negative superhumps is related to the precession of the tilted disk. |\n",
       "|<p style=\"color:green\"> **ERROR** </p>| <p style=\"color:green\">affiliation error: mpia.affiliation_verifications: 'Heidelberg' keyword not found.</p> |"
      ],
      "text/plain": [
       "<IPython.core.display.Markdown object>"
      ]
     },
     "metadata": {},
     "output_type": "display_data"
    },
    {
     "data": {
      "text/markdown": [
       "\n",
       "|||\n",
       "|---:|:---|\n",
       "| [![arXiv](https://img.shields.io/badge/arXiv-arXiv:2303.11946-b31b1b.svg)](https://arxiv.org/abs/arXiv:2303.11946) | **JWST/NIRSpec First Census of Broad-Line AGNs at z=4-7: Detection of 10  Faint AGNs with M_BH~10^6-10^7 M_sun and Their Host Galaxy Properties**  |\n",
       "|| Yuichi Harikane, et al. -- incl., <mark>Yechi Zhang</mark> |\n",
       "|*Appeared on*| *2023-03-22*|\n",
       "|*Comments*| *22 pages, 13 figures, comments welcome*|\n",
       "|**Abstract**| We present a first statistical sample of faint type-1 AGNs at $z>4$ identified by JWST/NIRSpec deep spectroscopy. Among the 185 galaxies at $z_\\mathrm{spec}=3.8-8.9$ confirmed with NIRSpec, our systematic search for broad-line emission reveals 10 type-1 AGNs at $z=4.015-6.936$ whose broad component is only seen in the permitted H$\\alpha$ line and not in the forbidden [OIII]$\\lambda$5007 line that is detected with greater significance than H$\\alpha$. The broad H$\\alpha$ line widths of $\\mathrm{FWHM}\\simeq1000-6000\\ \\mathrm{km\\ s^{-1}}$ suggest that the AGNs have low-mass black holes with $M_\\mathrm{BH}\\sim10^6-10^7\\ M_\\odot$, remarkably lower than those of low-luminosity quasars previously identified at $z>4$ with ground-based telescopes. JWST and HST high-resolution images reveal that the majority of them show extended morphologies indicating significant contribution to the total lights from their host galaxies, except for three compact objects two of which show red SEDs, probably in a transition phase from faint AGNs to low luminosity quasars. Careful AGN-host decomposition analyses show that their host's stellar masses are systematically lower than the local relation between the black hole mass and the stellar mass, implying a fast black hole growth consistent with predictions from theoretical simulations. A high fraction of the broad-line AGNs ($\\sim5\\%$), higher than $z\\sim0$, indicates that a number density of such faint AGNs is higher than an extrapolation of the quasar luminosity function, implying a large population of AGNs including type 1 and type 2 in the early universe. Such faint AGNs contribute to cosmic reionization, while the total contribution is not large, up to $\\sim50\\%$ at $z\\sim6$, because of their faint nature. |\n",
       "|<p style=\"color:green\"> **ERROR** </p>| <p style=\"color:green\">affiliation error: mpia.affiliation_verifications: 'Heidelberg' keyword not found.</p> |"
      ],
      "text/plain": [
       "<IPython.core.display.Markdown object>"
      ]
     },
     "metadata": {},
     "output_type": "display_data"
    },
    {
     "data": {
      "text/markdown": [
       "\n",
       "|||\n",
       "|---:|:---|\n",
       "| [![arXiv](https://img.shields.io/badge/arXiv-arXiv:2303.12004-b31b1b.svg)](https://arxiv.org/abs/arXiv:2303.12004) | **Comparison of Polarized Radiative Transfer Codes used by the EHT  Collaboration**  |\n",
       "|| Ben S. Prather, et al. -- incl., <mark>Walter Alef</mark> |\n",
       "|*Appeared on*| *2023-03-22*|\n",
       "|*Comments*| *Accepted for publication in ApJ*|\n",
       "|**Abstract**| Interpretation of resolved polarized images of black holes by the Event Horizon Telescope (EHT) requires predictions of the polarized emission observable by an Earth-based instrument for a particular model of the black hole accretion system. Such predictions are generated by general relativistic radiative transfer (GRRT) codes, which integrate the equations of polarized radiative transfer in curved spacetime. A selection of ray-tracing GRRT codes used within the EHT collaboration is evaluated for accuracy and consistency in producing a selection of test images, demonstrating that the various methods and implementations of radiative transfer calculations are highly consistent. When imaging an analytic accretion model, we find that all codes produce images similar within a pixel-wise normalized mean squared error (NMSE) of 0.012 in the worst case. When imaging a snapshot from a cell-based magnetohydrodynamic simulation, we find all test images to be similar within NMSEs of 0.02, 0.04, 0.04, and 0.12 in Stokes I, Q, U , and V respectively. We additionally find the values of several image metrics relevant to published EHT results to be in agreement to much better precision than measurement uncertainties. |\n",
       "|<p style=\"color:green\"> **ERROR** </p>| <p style=\"color:green\">affiliation error: mpia.affiliation_verifications: 'Heidelberg' keyword not found.</p> |"
      ],
      "text/plain": [
       "<IPython.core.display.Markdown object>"
      ]
     },
     "metadata": {},
     "output_type": "display_data"
    },
    {
     "data": {
      "text/markdown": [
       "\n",
       "|||\n",
       "|---:|:---|\n",
       "| [![arXiv](https://img.shields.io/badge/arXiv-arXiv:2303.11614-b31b1b.svg)](https://arxiv.org/abs/arXiv:2303.11614) | **Turbulence in Zeeman Measurements from Molecular Clouds**  |\n",
       "|| Zhuo Cao, <mark>Hua-bai Li</mark> |\n",
       "|*Appeared on*| *2023-03-22*|\n",
       "|*Comments*| *accepted by ApJL*|\n",
       "|**Abstract**| Magnetic fields (B-fields) play an important role in molecular cloud fragmentation and star formation, but are very difficult to detect. The temporal correlation between the field strength (B) and gas density (n) of an isolated cloud has been suggested as an indication of the dynamical importance of B-fields relative to self-gravity. This temporal B-n relation is, however, unobservable. What can be observed using Zeeman measurements are the \"spatial B-n relations\" from the current plane of the sky. Nevertheless, the temporal B-n relation argument has still been widely used to interpret observations. Here we present the first numerical test of the legitimacy of this interpretation. From a simulation that can reproduce the observed Zeeman spatial B~n^2/3 relation, we found that temporal B-n relations of individual cores bear no resemblance to the spatial B-n relations. This result inspired us to discover that the true mechanism behind the 2/3 index is random turbulence compression instead of symmetrical gravitational contraction. |\n",
       "|<p style=\"color:red\"> **ERROR** </p>| <p style=\"color:red\">latex error not a gzip file</p> |"
      ],
      "text/plain": [
       "<IPython.core.display.Markdown object>"
      ]
     },
     "metadata": {},
     "output_type": "display_data"
    },
    {
     "data": {
      "text/markdown": [
       "\n",
       "|||\n",
       "|---:|:---|\n",
       "| [![arXiv](https://img.shields.io/badge/arXiv-arXiv:2303.11875-b31b1b.svg)](https://arxiv.org/abs/arXiv:2303.11875) | **Recommending Low-Cost Compact Space Environment and Space Weather  Effects Sensor Suites for NASA Missions**  |\n",
       "|| Yihua Zheng, et al. -- incl., <mark>Joseph Minow</mark> |\n",
       "|*Appeared on*| *2023-03-22*|\n",
       "|*Comments*| *White paper submitted to Decadal Survey for Solar and Space Physics (Heliophysics) 2024-2033 It can also be accessed here. this http URL*|\n",
       "|**Abstract**| As miniaturized spacecraft (e.g., cubesats and smallsats) and instrumentation become an increasingly indispensable part of space exploration and scientific investigations, it is important to understand their potential susceptibility to space weather impacts resulting from the sometimes volatile space environment. There are multitude of complexities involved in how space environment interacts with different space hardware/electronics. Measurements of such impacts, however, have been lacking. Therefore, we recommend developing and/or procuring low-cost, low-power consumption, and compact sensor suites (mainly for space weather and impact purposes) and flying them on all future NASA (and U.S in general) missions in order to measure and quantify space weather impacts, in addition to the main instrumentation. |\n",
       "|<p style=\"color:red\"> **ERROR** </p>| <p style=\"color:red\">latex error not a gzip file</p> |"
      ],
      "text/plain": [
       "<IPython.core.display.Markdown object>"
      ]
     },
     "metadata": {},
     "output_type": "display_data"
    }
   ],
   "source": [
    "import datetime\n",
    "today = str(datetime.date.today())\n",
    "logfile = f\"_build/html/logs/log-{today}.md\"\n",
    "\n",
    "\n",
    "with open(logfile, 'w') as logs:\n",
    "    # Success\n",
    "    logs.write(f'# Arxiv on Deck 2: Logs - {today}\\n\\n')\n",
    "    logs.write(\"\"\"* Arxiv had {0:,d} new papers\\n\"\"\".format(len(new_papers)))\n",
    "    logs.write(\"\"\"    * {0:,d} with possible author matches\\n\\n\"\"\".format(len(candidates)))\n",
    "    logs.write(\"## Sucessful papers\\n\\n\")\n",
    "    display(Markdown(\"## Successful papers\"))\n",
    "    success = [k[0] for k in documents]\n",
    "    for candid in candidates:\n",
    "        if candid['identifier'].split(':')[-1] in success:\n",
    "            display(candid)\n",
    "            logs.write(candid.generate_markdown_text() + '\\n\\n')\n",
    "\n",
    "    ## failed\n",
    "    logs.write(\"## Failed papers\\n\\n\")\n",
    "    display(Markdown(\"## Failed papers\"))\n",
    "    failed = sorted(failed, key=lambda x: x[1])\n",
    "    current_reason = \"\"\n",
    "    for paper, reason in failed:\n",
    "        if 'affiliation' in reason:\n",
    "            color = 'green'\n",
    "        else:\n",
    "            color = 'red'\n",
    "        data = Markdown(\n",
    "                paper.generate_markdown_text() + \n",
    "                f'\\n|<p style=\"color:{color:s}\"> **ERROR** </p>| <p style=\"color:{color:s}\">{reason:s}</p> |'\n",
    "               )\n",
    "        if reason != current_reason:\n",
    "            logs.write(f'### {reason:s} \\n\\n')\n",
    "            current_reason = reason\n",
    "        logs.write(data.data + '\\n\\n')\n",
    "        \n",
    "        # only display here the important errors (all in logs)\n",
    "        # if color in ('red',):\n",
    "        display(data)"
   ]
  },
  {
   "cell_type": "markdown",
   "id": "472d20ee",
   "metadata": {
    "papermill": {
     "duration": 0.00842,
     "end_time": "2023-03-22T04:05:36.743356",
     "exception": false,
     "start_time": "2023-03-22T04:05:36.734936",
     "status": "completed"
    },
    "tags": []
   },
   "source": [
    "## Export documents\n",
    "\n",
    "We now write the .md files and export relevant images"
   ]
  },
  {
   "cell_type": "code",
   "execution_count": 7,
   "id": "d426aed9",
   "metadata": {
    "execution": {
     "iopub.execute_input": "2023-03-22T04:05:36.762178Z",
     "iopub.status.busy": "2023-03-22T04:05:36.761497Z",
     "iopub.status.idle": "2023-03-22T04:05:36.771232Z",
     "shell.execute_reply": "2023-03-22T04:05:36.770572Z"
    },
    "papermill": {
     "duration": 0.021731,
     "end_time": "2023-03-22T04:05:36.773306",
     "exception": false,
     "start_time": "2023-03-22T04:05:36.751575",
     "status": "completed"
    },
    "tags": []
   },
   "outputs": [],
   "source": [
    "def export_markdown_summary(md: str, md_fname:str, directory: str):\n",
    "    \"\"\"Export MD document and associated relevant images\"\"\"\n",
    "    import os\n",
    "    import shutil\n",
    "    import re\n",
    "\n",
    "    if (os.path.exists(directory) and not os.path.isdir(directory)):\n",
    "        raise RuntimeError(f\"a non-directory file exists with name {directory:s}\")\n",
    "\n",
    "    if (not os.path.exists(directory)):\n",
    "        print(f\"creating directory {directory:s}\")\n",
    "        os.mkdir(directory)\n",
    "\n",
    "    fig_fnames = (re.compile(r'\\[Fig.*\\]\\((.*)\\)').findall(md) + \n",
    "                  re.compile(r'\\<img src=\"([^>\\s]*)\"[^>]*/>').findall(md))\n",
    "    for fname in fig_fnames:\n",
    "        if 'http' in fname:\n",
    "            # No need to copy online figures\n",
    "            continue\n",
    "        destdir = os.path.join(directory, os.path.dirname(fname))\n",
    "        destfname = os.path.join(destdir, os.path.basename(fname))\n",
    "        try:\n",
    "            os.makedirs(destdir)\n",
    "        except FileExistsError:\n",
    "            pass\n",
    "        shutil.copy(fname, destfname)\n",
    "    with open(os.path.join(directory, md_fname), 'w') as fout:\n",
    "        fout.write(md)\n",
    "    print(\"exported in \", os.path.join(directory, md_fname))\n",
    "    [print(\"    + \" + os.path.join(directory,fk)) for fk in fig_fnames]"
   ]
  },
  {
   "cell_type": "code",
   "execution_count": 8,
   "id": "014d04a4",
   "metadata": {
    "execution": {
     "iopub.execute_input": "2023-03-22T04:05:36.791976Z",
     "iopub.status.busy": "2023-03-22T04:05:36.791662Z",
     "iopub.status.idle": "2023-03-22T04:05:36.796894Z",
     "shell.execute_reply": "2023-03-22T04:05:36.796284Z"
    },
    "papermill": {
     "duration": 0.016778,
     "end_time": "2023-03-22T04:05:36.798561",
     "exception": false,
     "start_time": "2023-03-22T04:05:36.781783",
     "status": "completed"
    },
    "tags": []
   },
   "outputs": [
    {
     "name": "stdout",
     "output_type": "stream",
     "text": [
      "exported in  _build/html/2303.11948.md\n"
     ]
    }
   ],
   "source": [
    "for paper_id, md in documents:\n",
    "    export_markdown_summary(md, f\"{paper_id:s}.md\", '_build/html/')"
   ]
  },
  {
   "cell_type": "markdown",
   "id": "f087a0a7",
   "metadata": {
    "papermill": {
     "duration": 0.008084,
     "end_time": "2023-03-22T04:05:36.814763",
     "exception": false,
     "start_time": "2023-03-22T04:05:36.806679",
     "status": "completed"
    },
    "tags": []
   },
   "source": [
    "## Display the papers\n",
    "\n",
    "Not necessary but allows for a quick check."
   ]
  },
  {
   "cell_type": "code",
   "execution_count": 9,
   "id": "fd25f625",
   "metadata": {
    "execution": {
     "iopub.execute_input": "2023-03-22T04:05:36.832929Z",
     "iopub.status.busy": "2023-03-22T04:05:36.832274Z",
     "iopub.status.idle": "2023-03-22T04:05:36.838811Z",
     "shell.execute_reply": "2023-03-22T04:05:36.837958Z"
    },
    "papermill": {
     "duration": 0.017657,
     "end_time": "2023-03-22T04:05:36.840609",
     "exception": false,
     "start_time": "2023-03-22T04:05:36.822952",
     "status": "completed"
    },
    "scrolled": false,
    "tags": []
   },
   "outputs": [
    {
     "data": {
      "text/markdown": [
       " as well as Mercury are included for comparison. The grey band and dashed line represent the range of Mg/Si values of super-Mercury host stars and the Sun, respectively. (*fig:planetFe_stellarMgSi*)\n",
       "\n",
       "</div>"
      ],
      "text/plain": [
       "<IPython.core.display.Markdown object>"
      ]
     },
     "metadata": {},
     "output_type": "display_data"
    }
   ],
   "source": [
    "[display(Markdown(k[1])) for k in documents];"
   ]
  },
  {
   "cell_type": "markdown",
   "id": "873873a4",
   "metadata": {
    "papermill": {
     "duration": 0.00832,
     "end_time": "2023-03-22T04:05:36.857212",
     "exception": false,
     "start_time": "2023-03-22T04:05:36.848892",
     "status": "completed"
    },
    "tags": []
   },
   "source": [
    "# Create HTML index"
   ]
  },
  {
   "cell_type": "code",
   "execution_count": 10,
   "id": "cf665672",
   "metadata": {
    "execution": {
     "iopub.execute_input": "2023-03-22T04:05:36.876094Z",
     "iopub.status.busy": "2023-03-22T04:05:36.875211Z",
     "iopub.status.idle": "2023-03-22T04:05:36.886124Z",
     "shell.execute_reply": "2023-03-22T04:05:36.885332Z"
    },
    "papermill": {
     "duration": 0.022438,
     "end_time": "2023-03-22T04:05:36.887875",
     "exception": false,
     "start_time": "2023-03-22T04:05:36.865437",
     "status": "completed"
    },
    "tags": []
   },
   "outputs": [
    {
     "name": "stdout",
     "output_type": "stream",
     "text": [
      "201  publications files modified in the last 7 days.\n"
     ]
    }
   ],
   "source": [
    "from datetime import datetime, timedelta, timezone\n",
    "from glob import glob\n",
    "import os\n",
    "\n",
    "files = glob('_build/html/*.md')\n",
    "days = 7\n",
    "now = datetime.today()\n",
    "res = []\n",
    "for fk in files:\n",
    "    stat_result = os.stat(fk).st_ctime\n",
    "    modified = datetime.fromtimestamp(stat_result, tz=timezone.utc).replace(tzinfo=None)\n",
    "    delta = now.today() - modified\n",
    "    if delta <= timedelta(days=days):\n",
    "        res.append((delta.seconds, fk))\n",
    "res = [k[1] for k in reversed(sorted(res, key=lambda x:x[1]))]\n",
    "npub = len(res)\n",
    "print(len(res), f\" publications files modified in the last {days:d} days.\")\n",
    "# [ print('\\t', k) for k in res ];"
   ]
  },
  {
   "cell_type": "code",
   "execution_count": 11,
   "id": "015de740",
   "metadata": {
    "execution": {
     "iopub.execute_input": "2023-03-22T04:05:36.907416Z",
     "iopub.status.busy": "2023-03-22T04:05:36.906437Z",
     "iopub.status.idle": "2023-03-22T04:05:36.931576Z",
     "shell.execute_reply": "2023-03-22T04:05:36.930706Z"
    },
    "papermill": {
     "duration": 0.036956,
     "end_time": "2023-03-22T04:05:36.933589",
     "exception": false,
     "start_time": "2023-03-22T04:05:36.896633",
     "status": "completed"
    },
    "tags": []
   },
   "outputs": [
    {
     "name": "stdout",
     "output_type": "stream",
     "text": [
      "4  publications in the last 7 days.\n"
     ]
    }
   ],
   "source": [
    "import datetime\n",
    "from glob import glob\n",
    "\n",
    "def get_last_n_days(lst, days=1):\n",
    "    \"\"\" Get the documents from the last n days \"\"\"\n",
    "    sorted_lst = sorted(lst, key=lambda x: x[1], reverse=True)\n",
    "    for fname, date in sorted_lst:\n",
    "        if date >= str(datetime.date.today() - datetime.timedelta(days=days)):\n",
    "            yield fname\n",
    "\n",
    "def extract_appearance_dates(lst_file):\n",
    "    dates = []\n",
    "\n",
    "    def get_date(line):\n",
    "        return line\\\n",
    "            .split('Appeared on:')[-1]\\\n",
    "            .split('</mark>')[0].strip()\n",
    "\n",
    "    for fname in lst:\n",
    "        with open(fname, 'r') as f:\n",
    "            found_date = False\n",
    "            for line in f:\n",
    "                if not found_date:\n",
    "                    if \"Appeared on\" in line:\n",
    "                        found_date = True\n",
    "                        dates.append((fname, get_date(line)))\n",
    "                else:\n",
    "                    break\n",
    "    return dates\n",
    "\n",
    "from glob import glob\n",
    "lst = glob('_build/html/*md')\n",
    "days = 7\n",
    "dates = extract_appearance_dates(lst)\n",
    "res = list(get_last_n_days(dates, days))\n",
    "npub = len(res)\n",
    "print(len(res), f\" publications in the last {days:d} days.\")"
   ]
  },
  {
   "cell_type": "code",
   "execution_count": 12,
   "id": "52ca0208",
   "metadata": {
    "execution": {
     "iopub.execute_input": "2023-03-22T04:05:36.952599Z",
     "iopub.status.busy": "2023-03-22T04:05:36.952292Z",
     "iopub.status.idle": "2023-03-22T04:05:36.959826Z",
     "shell.execute_reply": "2023-03-22T04:05:36.959012Z"
    },
    "papermill": {
     "duration": 0.019379,
     "end_time": "2023-03-22T04:05:36.961614",
     "exception": false,
     "start_time": "2023-03-22T04:05:36.942235",
     "status": "completed"
    },
    "scrolled": false,
    "tags": []
   },
   "outputs": [],
   "source": [
    "def create_carousel(npub=4):\n",
    "    \"\"\" Generate the HTML code for a carousel with `npub` slides \"\"\"\n",
    "    carousel = [\"\"\"  <div class=\"carousel\" \"\"\",\n",
    "                \"\"\"       data-flickity='{ \"autoPlay\": 10000, \"adaptiveHeight\": true, \"resize\": true, \"wrapAround\": true, \"pauseAutoPlayOnHover\": true, \"groupCells\": 1 }' id=\"asyncTypeset\">\"\"\"\n",
    "                ]\n",
    "    \n",
    "    item_str = \"\"\"    <div class=\"carousel-cell\"> <div id=\"slide{k}\" class=\"md_view\">Content {k}</div> </div>\"\"\"\n",
    "    for k in range(1, npub + 1):\n",
    "        carousel.append(item_str.format(k=k))\n",
    "    carousel.append(\"  </div>\")\n",
    "    return '\\n'.join(carousel)\n",
    "\n",
    "def create_grid(npub=4):\n",
    "    \"\"\" Generate the HTML code for a flat grid with `npub` slides \"\"\"\n",
    "    grid = [\"\"\"  <div class=\"grid\"> \"\"\",\n",
    "                ]\n",
    "    \n",
    "    item_str = \"\"\"    <div class=\"grid-item\"> <div id=\"slide{k}\" class=\"md_view\">Content {k}</div> </div>\"\"\"\n",
    "    for k in range(1, npub + 1):\n",
    "        grid.append(item_str.format(k=k))\n",
    "    grid.append(\"  </div>\")\n",
    "    return '\\n'.join(grid)"
   ]
  },
  {
   "cell_type": "code",
   "execution_count": 13,
   "id": "a6eac5b6",
   "metadata": {
    "execution": {
     "iopub.execute_input": "2023-03-22T04:05:36.980157Z",
     "iopub.status.busy": "2023-03-22T04:05:36.979593Z",
     "iopub.status.idle": "2023-03-22T04:05:36.988252Z",
     "shell.execute_reply": "2023-03-22T04:05:36.985328Z"
    },
    "papermill": {
     "duration": 0.020371,
     "end_time": "2023-03-22T04:05:36.990505",
     "exception": false,
     "start_time": "2023-03-22T04:05:36.970134",
     "status": "completed"
    },
    "scrolled": false,
    "tags": []
   },
   "outputs": [],
   "source": [
    "carousel = create_carousel(npub)\n",
    "docs = ', '.join(['\"{0:s}\"'.format(k.split('/')[-1]) for k in res])\n",
    "slides = ', '.join([f'\"slide{k}\"' for k in range(1, npub + 1)])\n",
    "\n",
    "with open(\"daily_template.html\", \"r\") as tpl:\n",
    "    page = tpl.read()\n",
    "    page = page.replace(\"{%-- carousel:s --%}\", carousel)\\\n",
    "               .replace(\"{%-- suptitle:s --%}\",  \"7-day archives\" )\\\n",
    "               .replace(\"{%-- docs:s --%}\", docs)\\\n",
    "               .replace(\"{%-- slides:s --%}\", slides)\n",
    "    \n",
    "with open(\"_build/html/index_7days.html\", 'w') as fout:\n",
    "    fout.write(page)"
   ]
  },
  {
   "cell_type": "code",
   "execution_count": 14,
   "id": "adc1a1ec",
   "metadata": {
    "execution": {
     "iopub.execute_input": "2023-03-22T04:05:37.009217Z",
     "iopub.status.busy": "2023-03-22T04:05:37.008916Z",
     "iopub.status.idle": "2023-03-22T04:05:37.016928Z",
     "shell.execute_reply": "2023-03-22T04:05:37.016303Z"
    },
    "papermill": {
     "duration": 0.021737,
     "end_time": "2023-03-22T04:05:37.020989",
     "exception": false,
     "start_time": "2023-03-22T04:05:36.999252",
     "status": "completed"
    },
    "tags": []
   },
   "outputs": [
    {
     "name": "stdout",
     "output_type": "stream",
     "text": [
      "0  publications in the last day.\n"
     ]
    }
   ],
   "source": [
    "# redo for today\n",
    "days = 1\n",
    "res = list(get_last_n_days(dates, days))\n",
    "npub = len(res)\n",
    "print(len(res), f\" publications in the last day.\")\n",
    "\n",
    "carousel = create_carousel(npub)\n",
    "docs = ', '.join(['\"{0:s}\"'.format(k.split('/')[-1]) for k in res])\n",
    "slides = ', '.join([f'\"slide{k}\"' for k in range(1, npub + 1)])\n",
    "\n",
    "with open(\"daily_template.html\", \"r\") as tpl:\n",
    "    page = tpl.read()\n",
    "    page = page.replace(\"{%-- carousel:s --%}\", carousel)\\\n",
    "               .replace(\"{%-- suptitle:s --%}\",  \"Daily\" )\\\n",
    "               .replace(\"{%-- docs:s --%}\", docs)\\\n",
    "               .replace(\"{%-- slides:s --%}\", slides)\n",
    "    \n",
    "# print(carousel, docs, slides)\n",
    "# print(page)\n",
    "with open(\"_build/html/index_daily.html\", 'w') as fout:\n",
    "    fout.write(page)"
   ]
  },
  {
   "cell_type": "code",
   "execution_count": 15,
   "id": "00eece82",
   "metadata": {
    "execution": {
     "iopub.execute_input": "2023-03-22T04:05:37.039878Z",
     "iopub.status.busy": "2023-03-22T04:05:37.039553Z",
     "iopub.status.idle": "2023-03-22T04:05:37.047899Z",
     "shell.execute_reply": "2023-03-22T04:05:37.047238Z"
    },
    "papermill": {
     "duration": 0.019908,
     "end_time": "2023-03-22T04:05:37.049574",
     "exception": false,
     "start_time": "2023-03-22T04:05:37.029666",
     "status": "completed"
    },
    "scrolled": false,
    "tags": []
   },
   "outputs": [
    {
     "name": "stdout",
     "output_type": "stream",
     "text": [
      "6  6 publications selected.\n"
     ]
    }
   ],
   "source": [
    "# Create the flat grid of the last N papers (fixed number regardless of dates)\n",
    "from itertools import islice \n",
    "\n",
    "npub = 6\n",
    "res = [k[0] for k in (islice(reversed(sorted(dates, key=lambda x: x[1])), 6))]\n",
    "print(len(res), f\" {npub} publications selected.\")\n",
    "\n",
    "grid = create_grid(npub)\n",
    "docs = ', '.join(['\"{0:s}\"'.format(k.split('/')[-1]) for k in res])\n",
    "slides = ', '.join([f'\"slide{k}\"' for k in range(1, npub + 1)])\n",
    "\n",
    "with open(\"grid_template.html\", \"r\") as tpl:\n",
    "    page = tpl.read()\n",
    "    page = page.replace(\"{%-- grid-content:s --%}\", grid)\\\n",
    "               .replace(\"{%-- suptitle:s --%}\",  f\"Last {npub:,d} papers\" )\\\n",
    "               .replace(\"{%-- docs:s --%}\", docs)\\\n",
    "               .replace(\"{%-- slides:s --%}\", slides)\n",
    "    \n",
    "# print(grid, docs, slides)\n",
    "# print(page)\n",
    "with open(\"_build/html/index_npub_grid.html\", 'w') as fout:\n",
    "    fout.write(page)"
   ]
  },
  {
   "cell_type": "code",
   "execution_count": null,
   "id": "cab45692",
   "metadata": {
    "papermill": {
     "duration": 0.008679,
     "end_time": "2023-03-22T04:05:37.066947",
     "exception": false,
     "start_time": "2023-03-22T04:05:37.058268",
     "status": "completed"
    },
    "tags": []
   },
   "outputs": [],
   "source": []
  },
  {
   "cell_type": "code",
   "execution_count": null,
   "id": "aec9821f",
   "metadata": {
    "papermill": {
     "duration": 0.008548,
     "end_time": "2023-03-22T04:05:37.084308",
     "exception": false,
     "start_time": "2023-03-22T04:05:37.075760",
     "status": "completed"
    },
    "tags": []
   },
   "outputs": [],
   "source": []
  }
 ],
 "metadata": {
  "kernelspec": {
   "display_name": "Python 3 (ipykernel)",
   "language": "python",
   "name": "python3"
  },
  "language_info": {
   "codemirror_mode": {
    "name": "ipython",
    "version": 3
   },
   "file_extension": ".py",
   "mimetype": "text/x-python",
   "name": "python",
   "nbconvert_exporter": "python",
   "pygments_lexer": "ipython3",
   "version": "3.9.16"
  },
  "papermill": {
   "default_parameters": {},
   "duration": 74.446978,
   "end_time": "2023-03-22T04:05:37.412953",
   "environment_variables": {},
   "exception": null,
   "input_path": "MPIA daily digest.ipynb",
   "output_path": "log.ipynb",
   "parameters": {},
   "start_time": "2023-03-22T04:04:22.965975",
   "version": "2.4.0"
  },
  "vscode": {
   "interpreter": {
    "hash": "aee8b7b246df8f9039afb4144a1f6fd8d2ca17a180786b69acc140d282b71a49"
   }
  },
  "widgets": {
   "application/vnd.jupyter.widget-state+json": {
    "state": {
     "1da4b10501c744838aa8ba447722cc7f": {
      "model_module": "@jupyter-widgets/base",
      "model_module_version": "2.0.0",
      "model_name": "LayoutModel",
      "state": {
       "_model_module": "@jupyter-widgets/base",
       "_model_module_version": "2.0.0",
       "_model_name": "LayoutModel",
       "_view_count": null,
       "_view_module": "@jupyter-widgets/base",
       "_view_module_version": "2.0.0",
       "_view_name": "LayoutView",
       "align_content": null,
       "align_items": null,
       "align_self": null,
       "border_bottom": null,
       "border_left": null,
       "border_right": null,
       "border_top": null,
       "bottom": null,
       "display": null,
       "flex": null,
       "flex_flow": null,
       "grid_area": null,
       "grid_auto_columns": null,
       "grid_auto_flow": null,
       "grid_auto_rows": null,
       "grid_column": null,
       "grid_gap": null,
       "grid_row": null,
       "grid_template_areas": null,
       "grid_template_columns": null,
       "grid_template_rows": null,
       "height": null,
       "justify_content": null,
       "justify_items": null,
       "left": null,
       "margin": null,
       "max_height": null,
       "max_width": null,
       "min_height": null,
       "min_width": null,
       "object_fit": null,
       "object_position": null,
       "order": null,
       "overflow": null,
       "padding": null,
       "right": null,
       "top": null,
       "visibility": null,
       "width": null
      }
     },
     "30f56e467f704d72a506bab089ecc2fc": {
      "model_module": "@jupyter-widgets/controls",
      "model_module_version": "2.0.0",
      "model_name": "HTMLModel",
      "state": {
       "_dom_classes": [],
       "_model_module": "@jupyter-widgets/controls",
       "_model_module_version": "2.0.0",
       "_model_name": "HTMLModel",
       "_view_count": null,
       "_view_module": "@jupyter-widgets/controls",
       "_view_module_version": "2.0.0",
       "_view_name": "HTMLView",
       "description": "",
       "description_allow_html": false,
       "layout": "IPY_MODEL_c7e84d527ef14078ac618d03eb2a1e26",
       "placeholder": "​",
       "style": "IPY_MODEL_8b6c435520c345999c3733c5a2ab4a1b",
       "tabbable": null,
       "tooltip": null,
       "value": " 12/12 [00:43&lt;00:00,  4.45s/it]"
      }
     },
     "59fb2ea18dcd49b8bfb03b9455fe57ee": {
      "model_module": "@jupyter-widgets/controls",
      "model_module_version": "2.0.0",
      "model_name": "ProgressStyleModel",
      "state": {
       "_model_module": "@jupyter-widgets/controls",
       "_model_module_version": "2.0.0",
       "_model_name": "ProgressStyleModel",
       "_view_count": null,
       "_view_module": "@jupyter-widgets/base",
       "_view_module_version": "2.0.0",
       "_view_name": "StyleView",
       "bar_color": null,
       "description_width": ""
      }
     },
     "5af14ba3fdd94ae0b541fd6fde37e98a": {
      "model_module": "@jupyter-widgets/controls",
      "model_module_version": "2.0.0",
      "model_name": "HTMLStyleModel",
      "state": {
       "_model_module": "@jupyter-widgets/controls",
       "_model_module_version": "2.0.0",
       "_model_name": "HTMLStyleModel",
       "_view_count": null,
       "_view_module": "@jupyter-widgets/base",
       "_view_module_version": "2.0.0",
       "_view_name": "StyleView",
       "background": null,
       "description_width": "",
       "font_size": null,
       "text_color": null
      }
     },
     "5f66e726b26442eabdcba3e2c0b7a6b0": {
      "model_module": "@jupyter-widgets/controls",
      "model_module_version": "2.0.0",
      "model_name": "FloatProgressModel",
      "state": {
       "_dom_classes": [],
       "_model_module": "@jupyter-widgets/controls",
       "_model_module_version": "2.0.0",
       "_model_name": "FloatProgressModel",
       "_view_count": null,
       "_view_module": "@jupyter-widgets/controls",
       "_view_module_version": "2.0.0",
       "_view_name": "ProgressView",
       "bar_style": "success",
       "description": "",
       "description_allow_html": false,
       "layout": "IPY_MODEL_b46175cb91ea48b784ecddf94076f2a5",
       "max": 12.0,
       "min": 0.0,
       "orientation": "horizontal",
       "style": "IPY_MODEL_59fb2ea18dcd49b8bfb03b9455fe57ee",
       "tabbable": null,
       "tooltip": null,
       "value": 12.0
      }
     },
     "6e48d02fadd64d2cb58930d68ab84803": {
      "model_module": "@jupyter-widgets/controls",
      "model_module_version": "2.0.0",
      "model_name": "HTMLModel",
      "state": {
       "_dom_classes": [],
       "_model_module": "@jupyter-widgets/controls",
       "_model_module_version": "2.0.0",
       "_model_name": "HTMLModel",
       "_view_count": null,
       "_view_module": "@jupyter-widgets/controls",
       "_view_module_version": "2.0.0",
       "_view_name": "HTMLView",
       "description": "",
       "description_allow_html": false,
       "layout": "IPY_MODEL_1da4b10501c744838aa8ba447722cc7f",
       "placeholder": "​",
       "style": "IPY_MODEL_5af14ba3fdd94ae0b541fd6fde37e98a",
       "tabbable": null,
       "tooltip": null,
       "value": "100%"
      }
     },
     "7d82ac1171ab496fa5c9225689f14dcb": {
      "model_module": "@jupyter-widgets/base",
      "model_module_version": "2.0.0",
      "model_name": "LayoutModel",
      "state": {
       "_model_module": "@jupyter-widgets/base",
       "_model_module_version": "2.0.0",
       "_model_name": "LayoutModel",
       "_view_count": null,
       "_view_module": "@jupyter-widgets/base",
       "_view_module_version": "2.0.0",
       "_view_name": "LayoutView",
       "align_content": null,
       "align_items": null,
       "align_self": null,
       "border_bottom": null,
       "border_left": null,
       "border_right": null,
       "border_top": null,
       "bottom": null,
       "display": null,
       "flex": null,
       "flex_flow": null,
       "grid_area": null,
       "grid_auto_columns": null,
       "grid_auto_flow": null,
       "grid_auto_rows": null,
       "grid_column": null,
       "grid_gap": null,
       "grid_row": null,
       "grid_template_areas": null,
       "grid_template_columns": null,
       "grid_template_rows": null,
       "height": null,
       "justify_content": null,
       "justify_items": null,
       "left": null,
       "margin": null,
       "max_height": null,
       "max_width": null,
       "min_height": null,
       "min_width": null,
       "object_fit": null,
       "object_position": null,
       "order": null,
       "overflow": null,
       "padding": null,
       "right": null,
       "top": null,
       "visibility": null,
       "width": null
      }
     },
     "8b6c435520c345999c3733c5a2ab4a1b": {
      "model_module": "@jupyter-widgets/controls",
      "model_module_version": "2.0.0",
      "model_name": "HTMLStyleModel",
      "state": {
       "_model_module": "@jupyter-widgets/controls",
       "_model_module_version": "2.0.0",
       "_model_name": "HTMLStyleModel",
       "_view_count": null,
       "_view_module": "@jupyter-widgets/base",
       "_view_module_version": "2.0.0",
       "_view_name": "StyleView",
       "background": null,
       "description_width": "",
       "font_size": null,
       "text_color": null
      }
     },
     "a29fab9b1d6a49e9805cb5e3656bcb76": {
      "model_module": "@jupyter-widgets/controls",
      "model_module_version": "2.0.0",
      "model_name": "HBoxModel",
      "state": {
       "_dom_classes": [],
       "_model_module": "@jupyter-widgets/controls",
       "_model_module_version": "2.0.0",
       "_model_name": "HBoxModel",
       "_view_count": null,
       "_view_module": "@jupyter-widgets/controls",
       "_view_module_version": "2.0.0",
       "_view_name": "HBoxView",
       "box_style": "",
       "children": [
        "IPY_MODEL_6e48d02fadd64d2cb58930d68ab84803",
        "IPY_MODEL_5f66e726b26442eabdcba3e2c0b7a6b0",
        "IPY_MODEL_30f56e467f704d72a506bab089ecc2fc"
       ],
       "layout": "IPY_MODEL_7d82ac1171ab496fa5c9225689f14dcb",
       "tabbable": null,
       "tooltip": null
      }
     },
     "b46175cb91ea48b784ecddf94076f2a5": {
      "model_module": "@jupyter-widgets/base",
      "model_module_version": "2.0.0",
      "model_name": "LayoutModel",
      "state": {
       "_model_module": "@jupyter-widgets/base",
       "_model_module_version": "2.0.0",
       "_model_name": "LayoutModel",
       "_view_count": null,
       "_view_module": "@jupyter-widgets/base",
       "_view_module_version": "2.0.0",
       "_view_name": "LayoutView",
       "align_content": null,
       "align_items": null,
       "align_self": null,
       "border_bottom": null,
       "border_left": null,
       "border_right": null,
       "border_top": null,
       "bottom": null,
       "display": null,
       "flex": null,
       "flex_flow": null,
       "grid_area": null,
       "grid_auto_columns": null,
       "grid_auto_flow": null,
       "grid_auto_rows": null,
       "grid_column": null,
       "grid_gap": null,
       "grid_row": null,
       "grid_template_areas": null,
       "grid_template_columns": null,
       "grid_template_rows": null,
       "height": null,
       "justify_content": null,
       "justify_items": null,
       "left": null,
       "margin": null,
       "max_height": null,
       "max_width": null,
       "min_height": null,
       "min_width": null,
       "object_fit": null,
       "object_position": null,
       "order": null,
       "overflow": null,
       "padding": null,
       "right": null,
       "top": null,
       "visibility": null,
       "width": null
      }
     },
     "c7e84d527ef14078ac618d03eb2a1e26": {
      "model_module": "@jupyter-widgets/base",
      "model_module_version": "2.0.0",
      "model_name": "LayoutModel",
      "state": {
       "_model_module": "@jupyter-widgets/base",
       "_model_module_version": "2.0.0",
       "_model_name": "LayoutModel",
       "_view_count": null,
       "_view_module": "@jupyter-widgets/base",
       "_view_module_version": "2.0.0",
       "_view_name": "LayoutView",
       "align_content": null,
       "align_items": null,
       "align_self": null,
       "border_bottom": null,
       "border_left": null,
       "border_right": null,
       "border_top": null,
       "bottom": null,
       "display": null,
       "flex": null,
       "flex_flow": null,
       "grid_area": null,
       "grid_auto_columns": null,
       "grid_auto_flow": null,
       "grid_auto_rows": null,
       "grid_column": null,
       "grid_gap": null,
       "grid_row": null,
       "grid_template_areas": null,
       "grid_template_columns": null,
       "grid_template_rows": null,
       "height": null,
       "justify_content": null,
       "justify_items": null,
       "left": null,
       "margin": null,
       "max_height": null,
       "max_width": null,
       "min_height": null,
       "min_width": null,
       "object_fit": null,
       "object_position": null,
       "order": null,
       "overflow": null,
       "padding": null,
       "right": null,
       "top": null,
       "visibility": null,
       "width": null
      }
     }
    },
    "version_major": 2,
    "version_minor": 0
   }
  }
 },
 "nbformat": 4,
 "nbformat_minor": 5
}