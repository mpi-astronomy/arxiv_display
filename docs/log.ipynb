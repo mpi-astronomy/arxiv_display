{
 "cells": [
  {
   "cell_type": "markdown",
   "id": "92bcb855",
   "metadata": {
    "papermill": {
     "duration": 0.007987,
     "end_time": "2023-02-06T04:08:35.010610",
     "exception": false,
     "start_time": "2023-02-06T04:08:35.002623",
     "status": "completed"
    },
    "tags": []
   },
   "source": [
    "# MPIA Arxiv on Deck 2\n",
    "\n",
    "Contains the steps to produce the paper extractions."
   ]
  },
  {
   "cell_type": "code",
   "execution_count": 1,
   "id": "3a0d6e11",
   "metadata": {
    "execution": {
     "iopub.execute_input": "2023-02-06T04:08:35.024012Z",
     "iopub.status.busy": "2023-02-06T04:08:35.022746Z",
     "iopub.status.idle": "2023-02-06T04:08:35.251948Z",
     "shell.execute_reply": "2023-02-06T04:08:35.251078Z"
    },
    "papermill": {
     "duration": 0.238644,
     "end_time": "2023-02-06T04:08:35.254567",
     "exception": false,
     "start_time": "2023-02-06T04:08:35.015923",
     "status": "completed"
    },
    "tags": []
   },
   "outputs": [],
   "source": [
    "# Imports\n",
    "import os\n",
    "from IPython.display import Markdown, display\n",
    "from tqdm.notebook import tqdm\n",
    "import warnings\n",
    "from PIL import Image \n",
    "\n",
    "# requires arxiv_on_deck_2\n",
    "\n",
    "from arxiv_on_deck_2.arxiv2 import (get_new_papers, \n",
    "                                    get_paper_from_identifier,\n",
    "                                    retrieve_document_source, \n",
    "                                    get_markdown_badge)\n",
    "from arxiv_on_deck_2 import (latex, \n",
    "                             mpia,\n",
    "                             highlight_authors_in_list)\n",
    "\n",
    "# Sometimes images are really big\n",
    "Image.MAX_IMAGE_PIXELS = 1000000000 "
   ]
  },
  {
   "cell_type": "code",
   "execution_count": 2,
   "id": "22aa9d44",
   "metadata": {
    "execution": {
     "iopub.execute_input": "2023-02-06T04:08:35.267078Z",
     "iopub.status.busy": "2023-02-06T04:08:35.266323Z",
     "iopub.status.idle": "2023-02-06T04:08:35.272378Z",
     "shell.execute_reply": "2023-02-06T04:08:35.271759Z"
    },
    "papermill": {
     "duration": 0.014496,
     "end_time": "2023-02-06T04:08:35.274200",
     "exception": false,
     "start_time": "2023-02-06T04:08:35.259704",
     "status": "completed"
    },
    "tags": []
   },
   "outputs": [],
   "source": [
    "# Some useful definitions.\n",
    "\n",
    "class AffiliationWarning(UserWarning):\n",
    "    pass\n",
    "\n",
    "class AffiliationError(RuntimeError):\n",
    "    pass\n",
    "\n",
    "def validation(source: str):\n",
    "    \"\"\"Raises error paper during parsing of source file\n",
    "    \n",
    "    Allows checks before parsing TeX code.\n",
    "    \n",
    "    Raises AffiliationWarning\n",
    "    \"\"\"\n",
    "    check = mpia.affiliation_verifications(source, verbose=True)\n",
    "    if check is not True:\n",
    "        raise AffiliationError(\"mpia.affiliation_verifications: \" + check)\n",
    "\n",
    "        \n",
    "warnings.simplefilter('always', AffiliationWarning)"
   ]
  },
  {
   "cell_type": "code",
   "execution_count": 3,
   "id": "14622700",
   "metadata": {
    "execution": {
     "iopub.execute_input": "2023-02-06T04:08:35.284555Z",
     "iopub.status.busy": "2023-02-06T04:08:35.283863Z",
     "iopub.status.idle": "2023-02-06T04:08:35.288213Z",
     "shell.execute_reply": "2023-02-06T04:08:35.287524Z"
    },
    "papermill": {
     "duration": 0.011204,
     "end_time": "2023-02-06T04:08:35.289957",
     "exception": false,
     "start_time": "2023-02-06T04:08:35.278753",
     "status": "completed"
    },
    "tags": []
   },
   "outputs": [],
   "source": [
    "# additional CSS to consider. \n",
    "# TODO: Current into each exported file. \n",
    "#       This should be set once into the webpages directly.\n",
    "#       With only the class/id definitions in the .md files.\n",
    "\n",
    "debug_html = \"\"\"\n",
    "<style>\n",
    "#wrap{ overflow:auto; }\n",
    "#fig1{ background:yellow; width:100%; float:left; padding:5px;  }\n",
    "#fig2{ background:red; width:50%; float:left; clear:left; padding:5px;  }\n",
    "#fig3{ background:green; width:50%; float:left; padding:5px;   }\n",
    ".macros{ background:yellow; visibility:visible;}\n",
    "h1 {margin: 0 0 0 0;}\n",
    "mark {background-color:#fff3b6;}\n",
    "img {object-fit:contain; max-height:250px; display:inline-block; text-align: center;}\n",
    "</style>\n",
    "\"\"\" \n",
    "html = \"\"\"\n",
    "<style>\n",
    "#wrap{ overflow:auto; }\n",
    "#fig1{ width:100%; float:left; padding: 5px;  }\n",
    "#fig2{ width:50%; float:left; clear:left; padding: 5px;  }\n",
    "#fig3{ width:50%; float:left; padding: 5px;  }\n",
    ".macros{ visibility:hidden; height:0px; }\n",
    "h1 {margin: 0em 0 0 0;}\n",
    "mark {background-color:#fff3b6;}\n",
    "img {object-fit:contain; max-height:250px; display:inline-block; text-align: center;}\n",
    "</style>\n",
    "\"\"\""
   ]
  },
  {
   "cell_type": "markdown",
   "id": "14bd6310",
   "metadata": {
    "papermill": {
     "duration": 0.00479,
     "end_time": "2023-02-06T04:08:35.299403",
     "exception": false,
     "start_time": "2023-02-06T04:08:35.294613",
     "status": "completed"
    },
    "tags": []
   },
   "source": [
    "## get list of arxiv paper candidates\n",
    "\n",
    "We use the MPIA mitarbeiter list webpage from mpia.de to get author names\n",
    "We then get all new papers from Arxiv and match authors"
   ]
  },
  {
   "cell_type": "code",
   "execution_count": 4,
   "id": "2645e73a",
   "metadata": {
    "execution": {
     "iopub.execute_input": "2023-02-06T04:08:35.310689Z",
     "iopub.status.busy": "2023-02-06T04:08:35.310026Z",
     "iopub.status.idle": "2023-02-06T04:09:04.262616Z",
     "shell.execute_reply": "2023-02-06T04:09:04.261482Z"
    },
    "papermill": {
     "duration": 28.960682,
     "end_time": "2023-02-06T04:09:04.264631",
     "exception": false,
     "start_time": "2023-02-06T04:08:35.303949",
     "status": "completed"
    },
    "tags": []
   },
   "outputs": [
    {
     "name": "stdout",
     "output_type": "stream",
     "text": [
      "Arxiv has 40 new papers today\n",
      "          20 with possible author matches\n"
     ]
    }
   ],
   "source": [
    "# get list from MPIA website\n",
    "# it automatically filters identified non-scientists :func:`mpia.filter_non_scientists`\n",
    "mpia_authors = mpia.get_mpia_mitarbeiter_list()\n",
    "new_papers = get_new_papers()\n",
    "# add manual references\n",
    "add_paper_refs = []\n",
    "new_papers.extend([get_paper_from_identifier(k) for k in add_paper_refs])\n",
    "\n",
    "# select only papers with matching author names and highlight authors\n",
    "hl_list = [k[0] for k in mpia_authors]\n",
    "\n",
    "candidates = []\n",
    "for paperk in new_papers:\n",
    "    hl_authors = highlight_authors_in_list(paperk['authors'], hl_list)\n",
    "    matches = [(hl, orig) for hl, orig in zip(hl_authors, paperk['authors']) if 'mark' in hl]\n",
    "    paperk['authors'] = hl_authors\n",
    "    if matches:\n",
    "        candidates.append(paperk)\n",
    "print(\"\"\"Arxiv has {0:,d} new papers today\"\"\".format(len(new_papers)))        \n",
    "print(\"\"\"          {0:,d} with possible author matches\"\"\".format(len(candidates)))"
   ]
  },
  {
   "cell_type": "markdown",
   "id": "3543b34a",
   "metadata": {
    "papermill": {
     "duration": 0.004635,
     "end_time": "2023-02-06T04:09:04.274572",
     "exception": false,
     "start_time": "2023-02-06T04:09:04.269937",
     "status": "completed"
    },
    "tags": []
   },
   "source": [
    "# Parse sources and generate relevant outputs\n",
    "\n",
    "From the candidates, we do the following steps:\n",
    "* get their tarball from ArXiv (and extract data)\n",
    "* find the main .tex file: find one with \\documentclass{...} (sometimes it's non trivial)\n",
    "* Check affiliations with :func:`validation`, which uses :func:`mpia.affiliation_verifications`\n",
    "* If passing the affiliations: we parse the .tex source\n",
    "   * inject sub-documents into the main (flatten the main document)\n",
    "   * parse structure, extract information (title, abstract, authors, figures...)\n",
    "   * handles `\\graphicspath` if provided\n",
    "* Generate the .md document."
   ]
  },
  {
   "cell_type": "code",
   "execution_count": 5,
   "id": "9576b79e",
   "metadata": {
    "execution": {
     "iopub.execute_input": "2023-02-06T04:09:04.285739Z",
     "iopub.status.busy": "2023-02-06T04:09:04.285155Z",
     "iopub.status.idle": "2023-02-06T04:11:12.539717Z",
     "shell.execute_reply": "2023-02-06T04:11:12.538991Z"
    },
    "papermill": {
     "duration": 128.263063,
     "end_time": "2023-02-06T04:11:12.542028",
     "exception": false,
     "start_time": "2023-02-06T04:09:04.278965",
     "status": "completed"
    },
    "scrolled": false,
    "tags": []
   },
   "outputs": [
    {
     "data": {
      "application/vnd.jupyter.widget-view+json": {
       "model_id": "b58b97b490184f34a4c5d046ad243552",
       "version_major": 2,
       "version_minor": 0
      },
      "text/plain": [
       "  0%|          | 0/19 [00:00<?, ?it/s]"
      ]
     },
     "metadata": {},
     "output_type": "display_data"
    },
    {
     "name": "stdout",
     "output_type": "stream",
     "text": [
      "Retrieving document from  https://arxiv.org/e-print/2302.01340\n"
     ]
    },
    {
     "name": "stdout",
     "output_type": "stream",
     "text": [
      "extracting tarball to tmp_2302.01340..."
     ]
    },
    {
     "name": "stdout",
     "output_type": "stream",
     "text": [
      " done.\n",
      "Retrieving document from  https://arxiv.org/e-print/2302.01345\n"
     ]
    },
    {
     "name": "stdout",
     "output_type": "stream",
     "text": [
      "extracting tarball to tmp_2302.01345..."
     ]
    },
    {
     "name": "stdout",
     "output_type": "stream",
     "text": [
      " done.\n",
      "Retrieving document from  https://arxiv.org/e-print/2302.01349\n"
     ]
    },
    {
     "name": "stdout",
     "output_type": "stream",
     "text": [
      "extracting tarball to tmp_2302.01349..."
     ]
    },
    {
     "name": "stdout",
     "output_type": "stream",
     "text": [
      " done.\n",
      "Retrieving document from  https://arxiv.org/e-print/2302.01352\n"
     ]
    },
    {
     "name": "stderr",
     "output_type": "stream",
     "text": [
      "/opt/hostedtoolcache/Python/3.9.16/x64/lib/python3.9/site-packages/IPython/core/interactiveshell.py:3442: LatexWarning: Multiple tex files.\n",
      "\n",
      "  exec(code_obj, self.user_global_ns, self.user_ns)\n",
      "/opt/hostedtoolcache/Python/3.9.16/x64/lib/python3.9/site-packages/IPython/core/interactiveshell.py:3442: LatexWarning: Found documentclass in tmp_2302.01349/aanda.tex\n",
      "\n",
      "  exec(code_obj, self.user_global_ns, self.user_ns)\n"
     ]
    },
    {
     "name": "stdout",
     "output_type": "stream",
     "text": [
      "extracting tarball to tmp_2302.01352..."
     ]
    },
    {
     "name": "stdout",
     "output_type": "stream",
     "text": [
      " done.\n",
      "Retrieving document from  https://arxiv.org/e-print/2302.01357\n"
     ]
    },
    {
     "name": "stderr",
     "output_type": "stream",
     "text": [
      "/opt/hostedtoolcache/Python/3.9.16/x64/lib/python3.9/site-packages/IPython/core/interactiveshell.py:3442: LatexWarning: Multiple tex files.\n",
      "\n",
      "  exec(code_obj, self.user_global_ns, self.user_ns)\n",
      "/opt/hostedtoolcache/Python/3.9.16/x64/lib/python3.9/site-packages/IPython/core/interactiveshell.py:3442: LatexWarning: Found documentclass in tmp_2302.01352/main.tex\n",
      "\n",
      "  exec(code_obj, self.user_global_ns, self.user_ns)\n",
      "/opt/hostedtoolcache/Python/3.9.16/x64/lib/python3.9/site-packages/arxiv_on_deck_2/latex.py:292: LatexWarning: Latex injecting: 'trades_table.tex' from 'tmp_2302.01352/trades_table.tex'\n",
      "  warnings.warn(LatexWarning(f\"Latex injecting: '{ext}' from '{subsource}'\"))\n"
     ]
    },
    {
     "name": "stdout",
     "output_type": "stream",
     "text": [
      "extracting tarball to tmp_2302.01357..."
     ]
    },
    {
     "name": "stdout",
     "output_type": "stream",
     "text": [
      " done.\n",
      "Retrieving document from  https://arxiv.org/e-print/2302.01358\n"
     ]
    },
    {
     "name": "stdout",
     "output_type": "stream",
     "text": [
      "extracting tarball to tmp_2302.01358..."
     ]
    },
    {
     "name": "stdout",
     "output_type": "stream",
     "text": [
      " done.\n",
      "Retrieving document from  https://arxiv.org/e-print/2302.01420\n"
     ]
    },
    {
     "name": "stdout",
     "output_type": "stream",
     "text": [
      "extracting tarball to tmp_2302.01420..."
     ]
    },
    {
     "name": "stdout",
     "output_type": "stream",
     "text": [
      " done.\n",
      "Retrieving document from  https://arxiv.org/e-print/2302.01479\n"
     ]
    },
    {
     "name": "stdout",
     "output_type": "stream",
     "text": [
      "extracting tarball to tmp_2302.01479..."
     ]
    },
    {
     "name": "stdout",
     "output_type": "stream",
     "text": [
      " done.\n",
      "Retrieving document from  https://arxiv.org/e-print/2302.01515\n"
     ]
    },
    {
     "name": "stderr",
     "output_type": "stream",
     "text": [
      "/opt/hostedtoolcache/Python/3.9.16/x64/lib/python3.9/site-packages/IPython/core/interactiveshell.py:3442: LatexWarning: Multiple tex files.\n",
      "\n",
      "  exec(code_obj, self.user_global_ns, self.user_ns)\n",
      "/opt/hostedtoolcache/Python/3.9.16/x64/lib/python3.9/site-packages/IPython/core/interactiveshell.py:3442: LatexWarning: Found documentclass in tmp_2302.01479/mnras_paper.tex\n",
      "\n",
      "  exec(code_obj, self.user_global_ns, self.user_ns)\n"
     ]
    },
    {
     "name": "stdout",
     "output_type": "stream",
     "text": [
      "extracting tarball to tmp_2302.01515..."
     ]
    },
    {
     "name": "stdout",
     "output_type": "stream",
     "text": [
      " done.\n",
      "Retrieving document from  https://arxiv.org/e-print/2302.01547\n"
     ]
    },
    {
     "name": "stdout",
     "output_type": "stream",
     "text": [
      "extracting tarball to tmp_2302.01547..."
     ]
    },
    {
     "name": "stdout",
     "output_type": "stream",
     "text": [
      " done.\n",
      "Retrieving document from  https://arxiv.org/e-print/2302.01678\n"
     ]
    },
    {
     "name": "stdout",
     "output_type": "stream",
     "text": [
      "extracting tarball to tmp_2302.01678..."
     ]
    },
    {
     "name": "stdout",
     "output_type": "stream",
     "text": [
      " done.\n"
     ]
    },
    {
     "name": "stdout",
     "output_type": "stream",
     "text": [
      "Retrieving document from  https://arxiv.org/e-print/2302.01689\n"
     ]
    },
    {
     "name": "stdout",
     "output_type": "stream",
     "text": [
      "extracting tarball to tmp_2302.01689..."
     ]
    },
    {
     "name": "stdout",
     "output_type": "stream",
     "text": [
      " done.\n",
      "Retrieving document from  https://arxiv.org/e-print/2302.01702\n"
     ]
    },
    {
     "name": "stdout",
     "output_type": "stream",
     "text": [
      "extracting tarball to tmp_2302.01702..."
     ]
    },
    {
     "name": "stdout",
     "output_type": "stream",
     "text": [
      " done.\n",
      "Retrieving document from  https://arxiv.org/e-print/2302.01785\n"
     ]
    },
    {
     "name": "stdout",
     "output_type": "stream",
     "text": [
      "extracting tarball to tmp_2302.01785..."
     ]
    },
    {
     "name": "stdout",
     "output_type": "stream",
     "text": [
      " done.\n",
      "Retrieving document from  https://arxiv.org/e-print/2302.01794\n"
     ]
    },
    {
     "name": "stdout",
     "output_type": "stream",
     "text": [
      "extracting tarball to tmp_2302.01794..."
     ]
    },
    {
     "name": "stdout",
     "output_type": "stream",
     "text": [
      " done.\n",
      "Retrieving document from  https://arxiv.org/e-print/2302.01804\n"
     ]
    },
    {
     "name": "stderr",
     "output_type": "stream",
     "text": [
      "/tmp/ipykernel_2083/4030337529.py:34: LatexWarning: 2302.01794 did not run properly\n",
      "'utf-8' codec can't decode byte 0xed in position 122643: invalid continuation byte\n",
      "  warnings.warn(latex.LatexWarning(f\"{paper_id:s} did not run properly\\n\" +\n"
     ]
    },
    {
     "name": "stdout",
     "output_type": "stream",
     "text": [
      "extracting tarball to tmp_2302.01804..."
     ]
    },
    {
     "name": "stdout",
     "output_type": "stream",
     "text": [
      " done.\n",
      "Retrieving document from  https://arxiv.org/e-print/2302.01818\n"
     ]
    },
    {
     "name": "stdout",
     "output_type": "stream",
     "text": [
      "extracting tarball to tmp_2302.01818..."
     ]
    },
    {
     "name": "stdout",
     "output_type": "stream",
     "text": [
      " done.\n",
      "Retrieving document from  https://arxiv.org/e-print/2302.01836\n"
     ]
    },
    {
     "name": "stdout",
     "output_type": "stream",
     "text": [
      "extracting tarball to tmp_2302.01836..."
     ]
    },
    {
     "name": "stdout",
     "output_type": "stream",
     "text": [
      " done.\n",
      "Retrieving document from  https://arxiv.org/e-print/2302.01848\n"
     ]
    },
    {
     "name": "stdout",
     "output_type": "stream",
     "text": [
      "extracting tarball to tmp_2302.01848..."
     ]
    },
    {
     "name": "stdout",
     "output_type": "stream",
     "text": [
      " done.\n"
     ]
    }
   ],
   "source": [
    "documents = []\n",
    "failed = []\n",
    "for paper in tqdm(candidates[:-1]):\n",
    "    paper_id = paper['identifier'].lower().replace('arxiv:', '')\n",
    "    \n",
    "    folder = f'tmp_{paper_id}'\n",
    "\n",
    "    try:\n",
    "        if not os.path.isdir(folder):\n",
    "            folder = retrieve_document_source(f\"{paper_id}\", f'tmp_{paper_id}')\n",
    "        \n",
    "        try:\n",
    "            doc = latex.LatexDocument(folder, validation=validation)    \n",
    "        except AffiliationError as affilerror:\n",
    "            msg = f\"ArXiv:{paper_id:s} is not an MPIA paper... \" + str(affilerror)\n",
    "            failed.append((paper, \"affiliation error: \" + str(affilerror) ))\n",
    "            continue\n",
    "        \n",
    "        # Hack because sometimes author parsing does not work well\n",
    "        if (len(doc.authors) != len(paper['authors'])):\n",
    "            doc._authors = paper['authors']\n",
    "        if (doc.abstract) in (None, ''):\n",
    "            doc._abstract = paper['abstract']\n",
    "            \n",
    "        doc.comment = (get_markdown_badge(paper_id) + \n",
    "                       \"<mark>Appeared on: \" + paper['date'] + \"</mark> - \" +\n",
    "                       \"_\" + paper['comments'] + \"_\")\n",
    "        doc.highlight_authors_in_list(hl_list)\n",
    "\n",
    "        full_md = doc.generate_markdown_text()\n",
    "        \n",
    "        documents.append((paper_id, full_md))\n",
    "    except Exception as e:\n",
    "        warnings.warn(latex.LatexWarning(f\"{paper_id:s} did not run properly\\n\" +\n",
    "                                         str(e)\n",
    "                                        ))\n",
    "        failed.append((paper, \"latex error \" + str(e)))"
   ]
  },
  {
   "cell_type": "markdown",
   "id": "2505a25c",
   "metadata": {
    "papermill": {
     "duration": 0.007007,
     "end_time": "2023-02-06T04:11:12.556035",
     "exception": false,
     "start_time": "2023-02-06T04:11:12.549028",
     "status": "completed"
    },
    "tags": []
   },
   "source": [
    "### Export the logs\n",
    "\n",
    "Throughout, we also keep track of the logs per paper. see `logs-{today date}.md` "
   ]
  },
  {
   "cell_type": "code",
   "execution_count": 6,
   "id": "d733828a",
   "metadata": {
    "execution": {
     "iopub.execute_input": "2023-02-06T04:11:12.572064Z",
     "iopub.status.busy": "2023-02-06T04:11:12.571072Z",
     "iopub.status.idle": "2023-02-06T04:11:12.607252Z",
     "shell.execute_reply": "2023-02-06T04:11:12.606500Z"
    },
    "papermill": {
     "duration": 0.051398,
     "end_time": "2023-02-06T04:11:12.613469",
     "exception": false,
     "start_time": "2023-02-06T04:11:12.562071",
     "status": "completed"
    },
    "scrolled": false,
    "tags": []
   },
   "outputs": [
    {
     "data": {
      "text/markdown": [
       "## Successful papers"
      ],
      "text/plain": [
       "<IPython.core.display.Markdown object>"
      ]
     },
     "metadata": {},
     "output_type": "display_data"
    },
    {
     "data": {
      "text/markdown": [
       "\n",
       "|||\n",
       "|---:|:---|\n",
       "| [![arXiv](https://img.shields.io/badge/arXiv-arXiv:2302.01678-b31b1b.svg)](https://arxiv.org/abs/arXiv:2302.01678) | **A complex dust morphology in the high-luminosity AGN Mrk 876**  |\n",
       "|| <mark>Hermine Landt</mark>, et al. -- incl., <mark>Jörg-Uwe Pott</mark>, <mark>Juan V. Hernández Santisteban</mark> |\n",
       "|*Appeared on*| *2023-02-06*|\n",
       "|*Comments*| *18 pages, 7 figures; accepted to ApJ*|\n",
       "|**Abstract**| Recent models for the inner structure of active galactic nuclei (AGN) advocate the presence of a radiatively accelerated, dusty outflow launched from the outer regions of the accretion disk. Here we present the first near-infrared (near-IR) variable (rms) spectrum for the high-luminosity, nearby AGN Mrk 876. We find that it tracks the accretion disk spectrum out to longer wavelengths than the mean spectrum due to a reduced dust emission. The implied outer accretion disk radius is consistent with the infrared results predicted by a contemporaneous optical accretion disk reverberation mapping campaign and much larger than the self-gravity radius. The reduced flux variability of the hot dust could be either due to the presence of a secondary, constant dust component in the mean spectrum or introduced by the destructive superposition of the dust and accretion disk variability signals or some combination of both. Assuming thermal equilibrium for optically thin dust, we derive the luminosity-based dust radius for different grain properties using our measurement of the temperature. We find that in all cases considered the values are significantly larger than the dust response time measured by IR photometric monitoring campaigns, with the least discrepancy present relative to the result for a wavelength-independent dust emissivity law, i.e. a blackbody, which is appropriate for large grain sizes. This result can be well explained by assuming a flared, disk-like structure for the hot dust. |"
      ],
      "text/plain": [
       "[arXiv:2302.01678] A complex dust morphology in the high-luminosity AGN Mrk 876\n",
       "\t<mark>Hermine Landt</mark>, et al. -- incl., <mark>Jörg-Uwe Pott</mark>, <mark>Juan V. Hernández Santisteban</mark>"
      ]
     },
     "metadata": {},
     "output_type": "display_data"
    },
    {
     "data": {
      "text/markdown": [
       "## Failed papers"
      ],
      "text/plain": [
       "<IPython.core.display.Markdown object>"
      ]
     },
     "metadata": {},
     "output_type": "display_data"
    },
    {
     "data": {
      "text/markdown": [
       "\n",
       "|||\n",
       "|---:|:---|\n",
       "| [![arXiv](https://img.shields.io/badge/arXiv-arXiv:2302.01818-b31b1b.svg)](https://arxiv.org/abs/arXiv:2302.01818) | **Baryon-photon interactions in Resummed Kinetic Field Theory**  |\n",
       "|| Ivan Kostyuk, <mark>Robert Lilow</mark>, Matthias Bartelmann |\n",
       "|*Appeared on*| *2023-02-06*|\n",
       "|*Comments*| *16 pages, 3 figures*|\n",
       "|**Abstract**| We explore how interactions between baryons and photons can be incorporated into Kinetic Field Theory (KFT), a description of cosmic structure formation based on classical Hamiltonian particle dynamics. In KFT, baryons are described as effective mesoscopic particles which represent fluid elements governed by the hydrodynamic equations. In this paper, we modify the mesoscopic particle model to include pressure effects exerted on baryonic matter through interactions with photons. As a proof of concept, we use this extended mesoscopic model to describe the tightly coupled baryon-photon fluid between matter-radiation equality and recombination. We show that this model can qualitatively reproduce the formation of baryon-acoustic oscillations in the cosmological power spectrum. |\n",
       "|<p style=\"color:green\"> **ERROR** </p>| <p style=\"color:green\">affiliation error: mpia.affiliation_verifications: '69117' keyword not found.</p> |"
      ],
      "text/plain": [
       "<IPython.core.display.Markdown object>"
      ]
     },
     "metadata": {},
     "output_type": "display_data"
    },
    {
     "data": {
      "text/markdown": [
       "\n",
       "|||\n",
       "|---:|:---|\n",
       "| [![arXiv](https://img.shields.io/badge/arXiv-arXiv:2302.01340-b31b1b.svg)](https://arxiv.org/abs/arXiv:2302.01340) | **The PDR fronts in M17-SW localized with FIFI-LS onboard SOFIA**  |\n",
       "|| <mark>Randolf Klein</mark>, et al. -- incl., <mark>Christian Fischer</mark> |\n",
       "|*Appeared on*| *2023-02-06*|\n",
       "|*Comments*| *18 pages, 17 figures, accepted by ApJ*|\n",
       "|**Abstract**| To understand star formation rates, studying feedback mechanisms that regulate star formation is necessary. The radiation emitted by nascent massive stars play a significant role in feedback by photo-dissociating and ionizing their parental molecular clouds. To gain a detailed picture of the physical processes, we mapped the photo-dissociation region (PDR) M17-SW in several fine structure and high-J CO lines with FIFI-LS, the far-infrared imaging spectrometer aboard SOFIA. An analysis of the CO and [O I]146$\\mu$m line intensities, combined with the far infrared intensity, allows us to create a density and UV intensity map using a one dimensional model. The density map reveals a sudden change in the gas density crossing the PDR. The strengths and limits of the model and the locations of the ionization and photo-dissociation front of the edge-on PDR are discussed. |\n",
       "|<p style=\"color:green\"> **ERROR** </p>| <p style=\"color:green\">affiliation error: mpia.affiliation_verifications: 'Heidelberg' keyword not found.</p> |"
      ],
      "text/plain": [
       "<IPython.core.display.Markdown object>"
      ]
     },
     "metadata": {},
     "output_type": "display_data"
    },
    {
     "data": {
      "text/markdown": [
       "\n",
       "|||\n",
       "|---:|:---|\n",
       "| [![arXiv](https://img.shields.io/badge/arXiv-arXiv:2302.01345-b31b1b.svg)](https://arxiv.org/abs/arXiv:2302.01345) | **The MUSE Ultra Deep Field (MUDF) -- III: Hubble Space Telescope WFC3  Grism Spectroscopy and Imaging**  |\n",
       "|| Mitchell Revalski, et al. -- incl., <mark>Alaina Henry</mark> |\n",
       "|*Appeared on*| *2023-02-06*|\n",
       "|*Comments*| *Accepted for publication in ApJS on February 1, 2023. The paper has 25 pages, 13 figures, and 7 tables. The calibrated data are available through MAST as High Level Science Products*|\n",
       "|**Abstract**| We present extremely deep Hubble Space Telescope (HST) Wide Field Camera 3 (WFC3) observations of the MUSE Ultra Deep Field (MUDF). This unique region of the sky contains two quasars at $z \\approx$ 3.22 that are separated by only $\\sim$500 kpc, providing a stereoscopic view of gas and galaxies in emission and absorption across $\\sim$10 billion years of cosmic time. We have obtained 90 orbits of HST WFC3 G141 near-infrared grism spectroscopy of this field in a single pointing, as well as 142 hours of optical spectroscopy with the Very Large Telescope (VLT) Multi Unit Spectroscopic Explorer (MUSE). The WFC3 (F140W, F125W, F336W) and archival WFPC2 (F702W, F450W) imaging provides five-filter photometry that we use to detect 3,375 sources between $z \\approx$ 0 - 6, including 1,536 objects in a deep central pointing with both spectroscopic and photometric coverage. The F140W and F336W mosaics reach exceptional depths of $m_\\mathrm{AB}\\approx$ 28 and 29, respectively, providing near-infrared and rest-frame ultraviolet information for 1,580 sources, and we reach 5$\\sigma$ continuum detections for objects as faint as $m_\\mathrm{AB}\\approx$ 27 in the grism spectra. The extensive wavelength coverage of MUSE and WFC3 allow us to measure spectroscopic redshifts for 419 sources, down to galaxy stellar masses of log(M/M$_{\\odot}$) $\\approx$ 7 at $z \\approx$ 1 - 2. In this publication, we provide the calibrated HST data and source catalogs as High Level Science Products for use by the community, which includes photometry, morphology, and redshift measurements that enable a variety of studies aimed at advancing our models of galaxy formation and evolution in different environments. |\n",
       "|<p style=\"color:green\"> **ERROR** </p>| <p style=\"color:green\">affiliation error: mpia.affiliation_verifications: 'Heidelberg' keyword not found.</p> |"
      ],
      "text/plain": [
       "<IPython.core.display.Markdown object>"
      ]
     },
     "metadata": {},
     "output_type": "display_data"
    },
    {
     "data": {
      "text/markdown": [
       "\n",
       "|||\n",
       "|---:|:---|\n",
       "| [![arXiv](https://img.shields.io/badge/arXiv-arXiv:2302.01349-b31b1b.svg)](https://arxiv.org/abs/arXiv:2302.01349) | **The IACOB project VIII. Searching for empirical signatures of binarity  in fast-rotating O-type stars**  |\n",
       "|| N. Britavskiy, et al. -- incl., <mark>A. Herrero</mark> |\n",
       "|*Appeared on*| *2023-02-06*|\n",
       "|*Comments*| *33 pages, 16 figures, accepted for publication in \"Astronomy and Astrophysics\"*|\n",
       "|**Abstract**| The empirical distribution of projected rotational velocities (vsini) in massive O-type stars is characterized by a dominant slow velocity component and a tail of fast rotators. Binary interaction has been proposed to play a dominant role in the formation of this tail. We perform a complete and homogeneous search for empirical signatures of binarity in a sample of 54 fast-rotating stars with the aim of evaluating this hypothesis. This working sample has been extracted from a larger sample of 415 Galactic O-type stars which covers the full range of vsini values. We use new and archival multi-epoch spectra in order to detect spectroscopic binary systems. We complement this information with Gaia proper motions and TESS photometric data to aid in the identification of runaway stars and eclipsing binaries, respectively. The identified fraction of single-lined spectroscopic binary (SB1) systems and apparently single stars among the fast-rotating sample is $\\sim$18% and $\\sim$70%, respectively. When comparing these percentages with those corresponding to the slow-rotating sample we find that our sample of fast rotators is characterized by a slightly larger percentage of SB1 systems ($\\sim$18% vs. $\\sim$13%) and a considerably smaller fraction of clearly detected SB2 systems (8% vs. 33%). Overall, there seems to be a clear deficit of spectroscopic binaries (SB1+SB2) among fast-rotating O-type stars ($\\sim$26% vs. $\\sim$46%). On the contrary, the fraction of runaway stars is significantly higher in the fast-rotating domain ($\\sim$33-50%) than among those stars with vsini < 200 km/s. Lastly, almost 65% of the apparently single fast-rotating stars are runaways. Our empirical results seem to be in good agreement with the idea that the tail of fast-rotating O-type stars (with vsini > 200 km/s) is mostly populated by post-interaction binary products. |\n",
       "|<p style=\"color:green\"> **ERROR** </p>| <p style=\"color:green\">affiliation error: mpia.affiliation_verifications: 'Heidelberg' keyword not found.</p> |"
      ],
      "text/plain": [
       "<IPython.core.display.Markdown object>"
      ]
     },
     "metadata": {},
     "output_type": "display_data"
    },
    {
     "data": {
      "text/markdown": [
       "\n",
       "|||\n",
       "|---:|:---|\n",
       "| [![arXiv](https://img.shields.io/badge/arXiv-arXiv:2302.01352-b31b1b.svg)](https://arxiv.org/abs/arXiv:2302.01352) | **A new dynamical modeling of the WASP-47 system with CHEOPS observations**  |\n",
       "|| V. Nascimbeni, et al. -- incl., <mark>M. B. Davies</mark>, <mark>M. Güdel</mark>, <mark>G. Olofsson</mark> |\n",
       "|*Appeared on*| *2023-02-06*|\n",
       "|*Comments*| *17 pages, 8 figures, 10 tables, proposed for acceptance by A&A on February 2, 2023*|\n",
       "|**Abstract**| Just a handful among hundreds of known hot-Jupiter (HJ) planets have been found to have companions on short-period orbits. Within this rare class of multiple planetary systems, the architecture of WASP-47 is unique, hosting a HJ (planet -b) with both an inner and outer sub-Neptunian mass companion (-e and -d, respectively), plus an additional non-transiting, long-period giant (-c). The small period ratio between planet -b and -d boosts the transit time variation (TTV) signal, giving us the opportunity to reliably measure their masses in synergy with the radial velocity (RV) technique. Here we present new space- and ground-based photometric data of WASP-47b and -d, including eleven unpublished light curves from the ESA mission CHEOPS. We analyzed them in a homogeneous way together with all the publicly available data to carry out a global $N$-body dynamical modeling of the TTV and RV signals. We retrieved, among other parameters, a mass and density for planet -d of $M_\\mathrm{d}=15.5\\pm 0.8$ $M_\\oplus$ and $\\rho_\\mathrm{d}=1.69\\pm 0.22$ g cm$^{-3}$, in good agreement with the literature and consistent with a Neptune-like composition. On the other hand, for the inner planet we found $M_\\mathrm{e}=9.0\\pm 0.5$ $M_\\oplus$ and $\\rho_\\mathrm{e}=8.1\\pm 0.5$ g cm$^{-3}$, suggesting an Earth-like composition close to other ultra-hot planets at similar irradiation levels. The latter result is in agreement with previous RV+TTV studies but not with the most recent RV analysis (at 2.8$\\sigma$), which yields a lower density compatible with a pure silicate composition, and highlights the still unresolved issue of suspected systematic offsets between RV and TTV measurements. We also significantly improve the orbital ephemerides of all transiting planets, which will be crucial for any future follow-up. |\n",
       "|<p style=\"color:green\"> **ERROR** </p>| <p style=\"color:green\">affiliation error: mpia.affiliation_verifications: 'Heidelberg' keyword not found.</p> |"
      ],
      "text/plain": [
       "<IPython.core.display.Markdown object>"
      ]
     },
     "metadata": {},
     "output_type": "display_data"
    },
    {
     "data": {
      "text/markdown": [
       "\n",
       "|||\n",
       "|---:|:---|\n",
       "| [![arXiv](https://img.shields.io/badge/arXiv-arXiv:2302.01357-b31b1b.svg)](https://arxiv.org/abs/arXiv:2302.01357) | **A low frequency sub-arcsecond view of powerful radio galaxies in  rich-cluster environments: 3C 34 and 3C 320**  |\n",
       "|| <mark>V. H. Mahatma</mark>, et al. |\n",
       "|*Appeared on*| *2023-02-06*|\n",
       "|*Comments*| *16 pages, 7 figures, 2 tables. Accepted for publication in Monthly Notices of the Royal Astronomical Society, 2023 February 01*|\n",
       "|**Abstract**| Models of radio galaxy physics have been primarily based on high frequency ($\\geqslant$1 GHz) observations of their jets, hotspots, and lobes. Without highly resolved low frequency observations, which provide information on older plasma, our understanding of the dynamics of radio galaxies and their interaction with their environment is limited. Here, we present the first sub-arcsecond (0.3\") resolution images at 144 MHz of two powerful radio galaxies situated in rich cluster environments, namely 3C 34 and 3C 320, using the International Low Frequency Array Telescope. We detect for the first time at low frequencies a plethora of structures in these objects, including strikingly large filaments across the base of the lobes in both sources, which are spatially associated with dense regions in the ambient medium. For 3C 34 we report a spectral flattening in the region of the central filament, suggesting that the origin of the filaments is related to the presence of large-scale ordered magnetic fields. We also report periodic total intensity and spectral index banding of diffuse emission in the eastern lobe, seen for the first time in radio galaxy lobes. The hotspot complexes are resolved into multiple fragments of varying structure and spectral index; we discuss the implications for particle acceleration and jet termination models. We find at most smooth gradients in the spectral behaviour of the hotspot structure suggesting that particle acceleration, if present, may be occurring throughout the complex, in contrast to simple models, but different jet termination models may apply to both sources. |\n",
       "|<p style=\"color:green\"> **ERROR** </p>| <p style=\"color:green\">affiliation error: mpia.affiliation_verifications: 'Heidelberg' keyword not found.</p> |"
      ],
      "text/plain": [
       "<IPython.core.display.Markdown object>"
      ]
     },
     "metadata": {},
     "output_type": "display_data"
    },
    {
     "data": {
      "text/markdown": [
       "\n",
       "|||\n",
       "|---:|:---|\n",
       "| [![arXiv](https://img.shields.io/badge/arXiv-arXiv:2302.01358-b31b1b.svg)](https://arxiv.org/abs/arXiv:2302.01358) | **The miniJPAS survey: AGN & host galaxy co-evolution of X-ray selected  sources**  |\n",
       "|| I. E. López, et al. -- incl., <mark>C. Ramos Almeida</mark>, <mark>A. Hernán-Caballero</mark> |\n",
       "|*Appeared on*| *2023-02-06*|\n",
       "|*Comments*| *Accepted for publication in A&A*|\n",
       "|**Abstract**| Studies indicate strong evidence of a scaling relation in the local Universe between the supermassive black hole mass ($M_\\rm{BH}$) and the stellar mass of their host galaxies ($M_\\star$). They even show similar histories across cosmic times of their differential terms: star formation rate (SFR) and black hole accretion rate (BHAR). However, a clear picture of this coevolution is far from being understood. We select an X-ray sample of active galactic nuclei (AGN) up to $z=2.5$ in the miniJPAS footprint. Their X-ray to infrared spectral energy distributions (SEDs) have been modeled with CIGALE, constraining the emission to 68 bands. For a final sample of 308 galaxies, we derive their physical properties (e.g., $M_\\star$, $\\rm{SFR}$, $\\rm{SFH}$, and $L_\\rm{AGN}$). We also fit their optical spectra for a subsample of 113 sources to estimate the $M_\\rm{BH}$. We calculate the BHAR depending on two radiative efficiency regimes. We find that the Eddington ratios ($\\lambda$) and its popular proxy ($L_\\rm{X}$/$M_\\star$) have 0.6 dex of difference, and a KS-test indicates that they come from different distributions. Our sources exhibit a considerable scatter on the $M_\\rm{BH}$-$M_\\star$ relation, which can explain the difference between $\\lambda$ and its proxy. We also model three evolution scenarios to recover the integral properties at $z=0$. Using the SFR and BHAR, we show a notable diminution in the scattering between $M_\\rm{BH}$-$M_\\star$. For the last scenario, we consider the SFH and a simple energy budget for the AGN accretion, obtaining a relation similar to the local Universe. Our study covers $\\sim 1$ deg$^2$ in the sky and is sensitive to biases in luminosity. Nevertheless, we show that, for bright sources, the link between SFR and BHAR, and their decoupling based on an energy limit is the key that leads to the local $M_\\rm{BH}$-$M_\\star$ scaling relation. |\n",
       "|<p style=\"color:green\"> **ERROR** </p>| <p style=\"color:green\">affiliation error: mpia.affiliation_verifications: 'Heidelberg' keyword not found.</p> |"
      ],
      "text/plain": [
       "<IPython.core.display.Markdown object>"
      ]
     },
     "metadata": {},
     "output_type": "display_data"
    },
    {
     "data": {
      "text/markdown": [
       "\n",
       "|||\n",
       "|---:|:---|\n",
       "| [![arXiv](https://img.shields.io/badge/arXiv-arXiv:2302.01479-b31b1b.svg)](https://arxiv.org/abs/arXiv:2302.01479) | **Absence of extended atmospheres in low-mass star radius-gap planets GJ  9827 b, GJ 9827 d and TOI-1235 b**  |\n",
       "|| Vigneshwaran Krishnamurthy, et al. -- incl., <mark>Akitoshi Ueda</mark> |\n",
       "|*Appeared on*| *2023-02-06*|\n",
       "|*Comments*| *Accepted for MNRAS. 12 pages, 15 figures*|\n",
       "|**Abstract**| \\textit{Kepler} showed a paucity of planets with radii of 1.5 - 2 $\\mathrm R_{\\oplus}$ around solar mass stars but this radius-gap has not been well studied for low-mass star planets. Energy-driven escape models like photoevaporation and core-powered mass-loss predict opposing transition regimes between rocky and non-rocky planets when compared to models depicting planets forming in gas-poor environments. Here we present transit observations of three super-Earth sized planets in the radius-gap around low-mass stars using high-dispersion InfraRed Doppler (IRD) spectrograph on the Subaru 8.2m telescope. The planets GJ 9827 b and d orbit around a K6V star and TOI-1235 b orbits a M0.5 star. We limit any planet-related absorption in the 1083.3 nm lines of triplet He I by placing an upper-limit on the equivalent width of 14.71 m{\\AA}, 18.39 m{\\AA}, and 1.44 m{\\AA}, for GJ 9827 b (99% confidence), GJ 9827 d (99% confidence) and TOI-1235 b (95% confidence) respectively. Using a Parker wind model, we cap the mass-loss at $>$0.25 $\\mathrm M_{\\oplus}$ Gyr$^{-1}$ and $>$0.2 $\\mathrm M_{\\oplus}$ Gyr$^{-1}$ for GJ 9827 b and d, respectively (99% confidence), and $>$0.05 $\\mathrm M_{\\oplus}$ Gyr$^{-1}$ for TOI-1235 b (95\\% confidence) for a representative wind temperature of 5000 K. Our observed results for the three planets are more consistent with the predictions from photoevaporation and/or core-powered mass-loss models than the gas-poor formation models. However, more planets in the radius-gap regime around the low-mass stars are needed to robustly predict the atmospheric evolution in planets around low-mass stars. |\n",
       "|<p style=\"color:green\"> **ERROR** </p>| <p style=\"color:green\">affiliation error: mpia.affiliation_verifications: 'Heidelberg' keyword not found.</p> |"
      ],
      "text/plain": [
       "<IPython.core.display.Markdown object>"
      ]
     },
     "metadata": {},
     "output_type": "display_data"
    },
    {
     "data": {
      "text/markdown": [
       "\n",
       "|||\n",
       "|---:|:---|\n",
       "| [![arXiv](https://img.shields.io/badge/arXiv-arXiv:2302.01515-b31b1b.svg)](https://arxiv.org/abs/arXiv:2302.01515) | **UVIT observations of the Small Magellanic Cloud: Point source catalogue**  |\n",
       "|| Ashish Devaraj, et al. -- incl., <mark>Prajwel Joseph</mark>, <mark>Swarna K. Ghosh</mark> |\n",
       "|*Appeared on*| *2023-02-06*|\n",
       "|*Comments*| **|\n",
       "|**Abstract**| Three fields in the outskirts of the Small Magellanic Cloud were observed by the Ultra-Violet Imaging Telescope (UVIT) on board AstroSat, during 31 December 2017 and 01 January 2018. The observations were carried out on a total of seven filters, three in the far ultra-violet (FUV; 1300$-$1800 \\r{A}) band and four in the near ultra-violet (NUV; 2000$-$3000 \\r{A}) band. We carried out photometry of these observations that have a spatial resolution better than 1.5$^{\\prime\\prime}$. We present here the first results of this work, which is a matched catalogue of 11,241 sources detected in three FUV and four NUV wavelengths. We make the catalogue available online, which would be of use to the astronomical community to address a wide variety of astrophysical problems. We provide an expression to estimate the total count rate in the full point spread function of UVIT that also incorporate the effect of saturation. |\n",
       "|<p style=\"color:green\"> **ERROR** </p>| <p style=\"color:green\">affiliation error: mpia.affiliation_verifications: 'Heidelberg' keyword not found.</p> |"
      ],
      "text/plain": [
       "<IPython.core.display.Markdown object>"
      ]
     },
     "metadata": {},
     "output_type": "display_data"
    },
    {
     "data": {
      "text/markdown": [
       "\n",
       "|||\n",
       "|---:|:---|\n",
       "| [![arXiv](https://img.shields.io/badge/arXiv-arXiv:2302.01547-b31b1b.svg)](https://arxiv.org/abs/arXiv:2302.01547) | **Evidence to disfavour dual core system leading to double-peaked narrow  emission lines**  |\n",
       "|| <mark>Zhang XueGuang</mark>, Zheng Qi |\n",
       "|*Appeared on*| *2023-02-06*|\n",
       "|*Comments*| *6 pages, 1 table, 3 figures, Accepted to be published in MNRAS*|\n",
       "|**Abstract**| In this manuscript, an interesting method is proposed to test dual core system for double-peaked narrow emission lines, through precious dual core system with double-peaked narrow Balmer lines in one system in main galaxy but with single-peaked narrow Balmer lines in the other system in companion galaxy. Under a dual core system, considering narrow Balmer (H$\\alpha$ and H$\\beta$) emissions ($f_{e,~\\alpha}$ and $f_{e,~\\beta}$) from companion galaxy but covered by SDSS fiber for the main galaxy and narrow Balmer emissions ($f_{c,~\\alpha}$ and $f_{c,~\\beta}$) from the companion galaxy covered by SDSS fiber for the companion galaxy, the same flux ratios $f_{e,~\\alpha}/f_{c,~\\alpha}=f_{e,~\\beta}/f_{c,~\\beta}$ can be expected, due to totally similar physical conditions of each narrow Balmer emission region. Then, the precious dual core system in SDSS J2219-0938 is discussed. After subtracting pPXF code determined stellar lights, double-peaked narrow Balmer emission lines are confirmed in the main galaxy with confidence level higher than $5\\sigma$, but single-peaked narrow Balmer emission lines in the companion galaxy. Through measured fluxes of emission components, $f_{e,~\\alpha}/f_{c,~\\alpha}$ is around 0.82, different from $f_{e,~\\beta}/f_{c,~\\beta}\\sim0.52$, to disfavour a dual core system for the double-peaked narrow Balmer emission lines in SDSS J2219-0938. |\n",
       "|<p style=\"color:green\"> **ERROR** </p>| <p style=\"color:green\">affiliation error: mpia.affiliation_verifications: 'Heidelberg' keyword not found.</p> |"
      ],
      "text/plain": [
       "<IPython.core.display.Markdown object>"
      ]
     },
     "metadata": {},
     "output_type": "display_data"
    },
    {
     "data": {
      "text/markdown": [
       "\n",
       "|||\n",
       "|---:|:---|\n",
       "| [![arXiv](https://img.shields.io/badge/arXiv-arXiv:2302.01689-b31b1b.svg)](https://arxiv.org/abs/arXiv:2302.01689) | **Algorithms and radiation dynamics for the vicinity of black holes. II.  Results**  |\n",
       "|| <mark>Leela Elpida Koutsantoniou</mark> |\n",
       "|*Appeared on*| *2023-02-06*|\n",
       "|*Comments*| *18 pages, 16 figures, 3 tables*|\n",
       "|**Abstract**| We present the results of our studies on accretion disks in the proximity of astrophysical black holes. These disks can be of varying degrees of opacity, geometrical shapes, sizes, and volumes. The central compact object is a Schwarzschild or a Kerr black hole of various spin parameters. We describe the environment and the physics of the systems under examination and the disk models considered. We first investigate the effects of the {spacetime} rotation on photon trajectories. We then examine the radiation forces recorded at various points of the arrangement inside and outside the disk material, and in the inner, outer, and off-equatorial material orbits. We document and explore the radiation effects, which are revealed to be significant and {positively} consequential. Afterward, we inspect the possible imaging outcome of various types of black hole and accretion disk configurations, and we show our results for plots that could be used to estimate the central black hole spin in a system. Finally, we show results regarding the disk material orbit degradation due to its thermal radiation. |\n",
       "|<p style=\"color:green\"> **ERROR** </p>| <p style=\"color:green\">affiliation error: mpia.affiliation_verifications: 'Heidelberg' keyword not found.</p> |"
      ],
      "text/plain": [
       "<IPython.core.display.Markdown object>"
      ]
     },
     "metadata": {},
     "output_type": "display_data"
    },
    {
     "data": {
      "text/markdown": [
       "\n",
       "|||\n",
       "|---:|:---|\n",
       "| [![arXiv](https://img.shields.io/badge/arXiv-arXiv:2302.01702-b31b1b.svg)](https://arxiv.org/abs/arXiv:2302.01702) | **The low density, hot Jupiter TOI-640 b is on a polar orbit**  |\n",
       "|| Emil Knudstrup, et al. -- incl., <mark>John H. Livingston</mark> |\n",
       "|*Appeared on*| *2023-02-06*|\n",
       "|*Comments*| *15 pages, 12 figures, accepted for publication in A&A, in press*|\n",
       "|**Abstract**| TOI-640 b is a hot, puffy Jupiter with a mass of $0.57 \\pm 0.02$ M$_{\\rm J}$ and radius of $1.72 \\pm 0.05$ R$_{\\rm J}$, orbiting a slightly evolved F-type star with a separation of $6.33^{+0.07}_{-0.06}$ R$_\\star$. Through spectroscopic in-transit observations made with the HARPS spectrograph, we measured the Rossiter-McLaughlin effect, analysing both in-transit radial velocities and the distortion of the stellar spectral lines. From these observations, we find the host star to have a projected obliquity of $\\lambda=184\\pm3^\\circ$. From the TESS light curve, we measured the stellar rotation period, allowing us to determine the stellar inclination, $i_\\star=23^{+3\\circ}_{-2}$, meaning we are viewing the star pole-on. Combining this with the orbital inclination allowed us to calculate the host star obliquity, $\\psi=104\\pm2^\\circ$. TOI-640 b joins a group of planets orbiting over stellar poles within the range $80^\\circ-125^\\circ$. The origin of this orbital configuration is not well understood. |\n",
       "|<p style=\"color:green\"> **ERROR** </p>| <p style=\"color:green\">affiliation error: mpia.affiliation_verifications: 'Heidelberg' keyword not found.</p> |"
      ],
      "text/plain": [
       "<IPython.core.display.Markdown object>"
      ]
     },
     "metadata": {},
     "output_type": "display_data"
    },
    {
     "data": {
      "text/markdown": [
       "\n",
       "|||\n",
       "|---:|:---|\n",
       "| [![arXiv](https://img.shields.io/badge/arXiv-arXiv:2302.01785-b31b1b.svg)](https://arxiv.org/abs/arXiv:2302.01785) | **Orbital Evolution of Binaries in Circumbinary Disks**  |\n",
       "|| Magdalena Siwek, Rainer Weinberger, <mark>Lars Hernquist</mark> |\n",
       "|*Appeared on*| *2023-02-06*|\n",
       "|*Comments*| *12 pages, 8 figures. Submitted to MNRAS*|\n",
       "|**Abstract**| We present the to-date largest parameter space exploration of binaries in circumbinary disks (CBDs), deriving orbital evolution prescriptions for eccentric, unequal mass binaries from our suite of hydrodynamic simulations. In all cases, binary eccentricities evolve towards steady state values that increase with mass ratio, and saturate at an equilibrium eccentricity $e_{\\rm b, eq} \\sim 0.5$ in the large mass ratio regime, in line with resonant theory. For binaries accreting at their combined Eddington limit, a steady state eccentricity can be achieved within a few Megayears. Once at their steady state eccentricities, binaries with $q_{\\rm b} \\gtrsim 0.3$ evolve towards coalescence, while lower mass ratio systems expand due to CBD torques. We discuss implications for population studies of massive black hole binaries, protostars in binary systems, and post-common envelope binaries observed by ground-based gravitational wave detectors. |\n",
       "|<p style=\"color:green\"> **ERROR** </p>| <p style=\"color:green\">affiliation error: mpia.affiliation_verifications: 'Heidelberg' keyword not found.</p> |"
      ],
      "text/plain": [
       "<IPython.core.display.Markdown object>"
      ]
     },
     "metadata": {},
     "output_type": "display_data"
    },
    {
     "data": {
      "text/markdown": [
       "\n",
       "|||\n",
       "|---:|:---|\n",
       "| [![arXiv](https://img.shields.io/badge/arXiv-arXiv:2302.01804-b31b1b.svg)](https://arxiv.org/abs/arXiv:2302.01804) | **SRG/eROSITA-triggered XMM-Newton observations of three Be/X-ray binaries  in the LMC: Discovery of X-ray pulsations**  |\n",
       "|| F. Haberl, et al. -- incl., <mark>P. Maggi</mark> |\n",
       "|*Appeared on*| *2023-02-06*|\n",
       "|*Comments*| *Accepted for publication in Astronomy & Astrophysics*|\n",
       "|**Abstract**| Using data from eROSITA, the soft X-ray instrument aboard Spectrum-Roentgen-Gamma (SRG), we report the discovery of two new hard transients, eRASSU J050810.4-660653 and eRASSt J044811.1-691318, in the Large Magellanic Cloud. We also report the detection of the Be/X-ray binary RX J0501.6-7034 in a bright state. We initiated follow-up observations to investigate the nature of the new transients and to search for X-ray pulsations coming from RX J0501.6-7034. We analysed the X-ray spectra and light curves from our XMM-Newton observations, obtained optical spectra using the South African Large Telescope to look for Balmer emission lines and utilised the archival data from the Optical Gravitational Lensing Experiment (OGLE) for the long-term monitoring of the optical counterparts. We find X-ray pulsations for eRASSU J050810.4-660653, RX J0501.6-7034, and eRASSt J044811.1-691318 of 40.6 s, 17.3 s, and 784 s, respectively. The Halpha emission lines with equivalent widths of -10.4 A (eRASSU J050810.4-660653) and -43.9 A (eRASSt J044811.1-691318) were measured, characteristic for a circumstellar disc around Be stars. The OGLE I- and V-band light curves of all three systems exhibit strong variability. A regular pattern of deep dips in the light curves of RX J0501.6-7034 suggests an orbital period of ~451 days. We identify the two new hard eROSITA transients eRASSU J050810.4-660653 and eRASSt J044811.1-691318 and the known Be/X-ray binary RX J0501.6-7034 as Be/X-ray binary pulsars. |\n",
       "|<p style=\"color:green\"> **ERROR** </p>| <p style=\"color:green\">affiliation error: mpia.affiliation_verifications: 'Heidelberg' keyword not found.</p> |"
      ],
      "text/plain": [
       "<IPython.core.display.Markdown object>"
      ]
     },
     "metadata": {},
     "output_type": "display_data"
    },
    {
     "data": {
      "text/markdown": [
       "\n",
       "|||\n",
       "|---:|:---|\n",
       "| [![arXiv](https://img.shields.io/badge/arXiv-arXiv:2302.01836-b31b1b.svg)](https://arxiv.org/abs/arXiv:2302.01836) | **Fermi-LAT Gamma-ray Emission Discovered from the Composite Supernova  Remnant B0453-685 in the Large Magellanic Cloud**  |\n",
       "|| Jordan Eagle, et al. -- incl., <mark>Peter Mahhov</mark>, <mark>Joseph Gelfand</mark> |\n",
       "|*Appeared on*| *2023-02-06*|\n",
       "|*Comments*| *18 pages, 8 figures, accepted for publication in ApJ Feb. 1, 2023*|\n",
       "|**Abstract**| We report the second extragalactic pulsar wind nebula (PWN) to be detected in the MeV-GeV band by the Fermi-LAT, located within the Large Magellanic Cloud (LMC). The only other known PWN to emit in the Fermi band outside of the Milky Way Galaxy is N 157B which lies to the west of the newly detected gamma-ray emission at an angular distance of 4 degrees. Faint, point-like gamma-ray emission is discovered at the location of the composite supernova remnant (SNR) B0453-685 with a ~ 4 sigma significance from energies 300 MeV - 2 TeV. We present the Fermi-LAT data analysis of the new gamma-ray source, coupled with a detailed multi-wavelength investigation to understand the nature of the observed emission. Combining the observed characteristics of the SNR and the physical implications from broadband modeling, we argue it is unlikely the SNR is responsible for the gamma-ray emission. While the gamma-ray emission is too faint for a pulsation search, we try to distinguish between any pulsar and PWN component of SNR B0453-685 that would be responsible for the observed gamma-ray emission using semi-analytic models. We determine the most likely scenario is that the old PWN (t ~ 14,000 years) within B0453-685 has been impacted by the return of the SNR reverse shock with a possible substantial pulsar component below 5 GeV. |\n",
       "|<p style=\"color:green\"> **ERROR** </p>| <p style=\"color:green\">affiliation error: mpia.affiliation_verifications: 'Heidelberg' keyword not found.</p> |"
      ],
      "text/plain": [
       "<IPython.core.display.Markdown object>"
      ]
     },
     "metadata": {},
     "output_type": "display_data"
    },
    {
     "data": {
      "text/markdown": [
       "\n",
       "|||\n",
       "|---:|:---|\n",
       "| [![arXiv](https://img.shields.io/badge/arXiv-arXiv:2302.01848-b31b1b.svg)](https://arxiv.org/abs/arXiv:2302.01848) | **Dashing through the cluster: An X-ray to radio view of UGC 10420  undergoing ram-pressure stripping**  |\n",
       "|| <mark>Smriti Mahajan</mark>, Kulinder Pal Singh, Juhi Tiwari, Somak Raychaudhury |\n",
       "|*Appeared on*| *2023-02-06*|\n",
       "|*Comments*| *Accepted for publication in the Publication of the Astronomical Society of Australia (PASA). 16 pages, 11 figures*|\n",
       "|**Abstract**| We present multi-wavelength data and analysis, including new FUV AstroSat/UVIT observations of the spiral galaxy UGC 10420 (z=0.032), a member of the cluster Abell 2199. UGC 10420 is present on the edge of the X-ray emitting region of the cluster at a distance of ~ 680 kpc from the centre. The FUV data shows intense knots of star formation on the leading edge of the galaxy, accompanied by a tail of the same on the diametrically opposite side. Our analysis shows that the images of the galaxy disk in the optical and mid-infrared are much smaller in size than that in the FUV. While the broadband optical colours of UGC 10420 are typical of a post-starburst galaxy, the SFR derived from a UV-to-IR spectral energy distribution is at least a factor of nine higher than that expected for a star-forming field galaxy of similar mass at its redshift. A careful removal of the contribution of the diffuse intracluster gas shows that the significant diffuse X-ray emission associated with the inter-stellar medium of UGC 10420 has a temperature, T_X = 0.24^{+0.09}_{-0.06} keV (0.4-2.0 keV) and luminosity, L_X = 1.8+/-0.9 x 10^{40} erg/s, which are typical of the X-ray emission from late-type spiral galaxies. Our analysis favours a scenario where the interaction of a galaxy with the hot intra-cluster medium of the cluster, perturbs the gas in the galaxy causing starburst in the leading edge of the disk. On the other hand, the turbulence thus developed may also push some of the gas out of the disk. Interactions between the gas ejected from the galaxy and the intracluster medium can then locally trigger star formation in the wake of the galaxy experiencing ram-pressure stripping. Our data however does not rule out the possibility of a flyby encounter with a neighbouring galaxy, although no relevant candidates are observed in the vicinity of UGC 10420. (abridged) |\n",
       "|<p style=\"color:green\"> **ERROR** </p>| <p style=\"color:green\">affiliation error: mpia.affiliation_verifications: 'Heidelberg' keyword not found.</p> |"
      ],
      "text/plain": [
       "<IPython.core.display.Markdown object>"
      ]
     },
     "metadata": {},
     "output_type": "display_data"
    },
    {
     "data": {
      "text/markdown": [
       "\n",
       "|||\n",
       "|---:|:---|\n",
       "| [![arXiv](https://img.shields.io/badge/arXiv-arXiv:2302.01420-b31b1b.svg)](https://arxiv.org/abs/arXiv:2302.01420) | **Multicolour Optical Variability Monitoring of Blazars with High Time  Resolution**  |\n",
       "|| X. Chang, et al. -- incl., <mark>C. X. Liu</mark>, <mark>H. Z. Li</mark>, <mark>Y. Li</mark> |\n",
       "|*Appeared on*| *2023-02-06*|\n",
       "|*Comments*| *18 pages, 8 figures, accepted in MNRAS*|\n",
       "|**Abstract**| We carried out a high time-resolution, multicolour optical observing campaign for eight $\\gamma$-ray detected blazars during 2010-2020. We analyze flux variations, correlations between magnitudes and colours on different timescales. Intraday variability (IDV) is detected in all eight sources of our sample. A bluer-when-brighter (BWB) chromatic trend is dominant on intraday timescales. On the short timescales, the BWB trend only shows up in ON 231, 3C 279, BL Lacertae and 1E 1458.8+2249. There is a BWB trend in 3C 279 on the long timescale. We estimate the upper limits of black hole mass for three blazars (i.e. ON 321, 1ES 1426+42.8, PKS 1510-089) using variability timescales. On April 13, 2010 a potential quasi-periodic oscillation (QPO) with the period of $P=48.67\\pm13.90$ minutes is found in 1ES 1426+42.8. The light curve on March 16, 2021 further shows the existence of the QPO phenomenon. The QPO in this target deserves further observation and confirmation. |\n",
       "|<p style=\"color:green\"> **ERROR** </p>| <p style=\"color:green\">affiliation error: mpia.affiliation_verifications: 'Planck' keyword not found.</p> |"
      ],
      "text/plain": [
       "<IPython.core.display.Markdown object>"
      ]
     },
     "metadata": {},
     "output_type": "display_data"
    },
    {
     "data": {
      "text/markdown": [
       "\n",
       "|||\n",
       "|---:|:---|\n",
       "| [![arXiv](https://img.shields.io/badge/arXiv-arXiv:2302.01794-b31b1b.svg)](https://arxiv.org/abs/arXiv:2302.01794) | **VPNEP: Detailed characterization of TESS targets around the Northern  Ecliptic Pole**  |\n",
       "|| K. G. Strassmeier, et al. -- incl., <mark>M. Mallonn</mark>, <mark>D. Brown</mark> |\n",
       "|*Appeared on*| *2023-02-06*|\n",
       "|*Comments*| **|\n",
       "|**Abstract**| We embarked on a high-resolution optical spectroscopic survey of bright Transiting Exoplanet Survey Satellite (TESS) stars around the Northern Ecliptic Pole (NEP), dubbed the Vatican-Potsdam-NEP (VPNEP) survey. Our NEP coverage comprises 1067 stars, of which 352 are bona fide dwarf stars and 715 are giant stars, all cooler than spectral type F0 and brighter than V=8. m 5. Our aim is to characterize these stars for the benefit of future studies in the community. We analyzed the spectra via comparisons with synthetic spectra. Particular line profiles were analyzed by means of eigen-profiles, equivalent widths, and relative emission-line fluxes (when applicable). Two R=200 000 spectra were obtained for each of the dwarf stars with the Vatican Advanced Technology Telescope (VATT) and the Potsdam Echelle Polarimetric and Spectroscopic Instrument (PEPSI), with typically three R=55 000 spectra obtained for the giant stars with STELLA and the STELLA Echelle Spectrograph (SES). Combined with V-band magnitudes, Gaia eDR3 parallaxes, and isochrones from the Padova and Trieste Stellar Evolutionary Code, the spectra can be used to obtain radial velocities, effective temperatures, gravities, rotational and turbulence broadenings, stellar masses and ages, and abundances for 27 chemical elements, as well as isotope ratios for lithium and carbon, line bisector spans, convective blue-shifts (when feasible), and levels of magnetic activity from H{\\alpha}, H{\\beta}, and the Ca ii infrared triplet. In this initial paper, we discuss our analysis tools and biases, presenting our first results from a pilot sub-sample of 54 stars (27 bona-fide dwarf stars observed with VATT+PEPSI and 27 bona-fide giant stars observed with STELLA+SES) and making all reduced spectra available to the community. |\n",
       "|<p style=\"color:red\"> **ERROR** </p>| <p style=\"color:red\">latex error 'utf-8' codec can't decode byte 0xed in position 122643: invalid continuation byte</p> |"
      ],
      "text/plain": [
       "<IPython.core.display.Markdown object>"
      ]
     },
     "metadata": {},
     "output_type": "display_data"
    }
   ],
   "source": [
    "import datetime\n",
    "today = str(datetime.date.today())\n",
    "logfile = f\"_build/html/logs/log-{today}.md\"\n",
    "\n",
    "\n",
    "with open(logfile, 'w') as logs:\n",
    "    # Success\n",
    "    logs.write(f'# Arxiv on Deck 2: Logs - {today}\\n\\n')\n",
    "    logs.write(\"\"\"* Arxiv had {0:,d} new papers\\n\"\"\".format(len(new_papers)))\n",
    "    logs.write(\"\"\"    * {0:,d} with possible author matches\\n\\n\"\"\".format(len(candidates)))\n",
    "    logs.write(\"## Sucessful papers\\n\\n\")\n",
    "    display(Markdown(\"## Successful papers\"))\n",
    "    success = [k[0] for k in documents]\n",
    "    for candid in candidates:\n",
    "        if candid['identifier'].split(':')[-1] in success:\n",
    "            display(candid)\n",
    "            logs.write(candid.generate_markdown_text() + '\\n\\n')\n",
    "\n",
    "    ## failed\n",
    "    logs.write(\"## Failed papers\\n\\n\")\n",
    "    display(Markdown(\"## Failed papers\"))\n",
    "    failed = sorted(failed, key=lambda x: x[1])\n",
    "    current_reason = \"\"\n",
    "    for paper, reason in failed:\n",
    "        if 'affiliation' in reason:\n",
    "            color = 'green'\n",
    "        else:\n",
    "            color = 'red'\n",
    "        data = Markdown(\n",
    "                paper.generate_markdown_text() + \n",
    "                f'\\n|<p style=\"color:{color:s}\"> **ERROR** </p>| <p style=\"color:{color:s}\">{reason:s}</p> |'\n",
    "               )\n",
    "        if reason != current_reason:\n",
    "            logs.write(f'### {reason:s} \\n\\n')\n",
    "            current_reason = reason\n",
    "        logs.write(data.data + '\\n\\n')\n",
    "        \n",
    "        # only display here the important errors (all in logs)\n",
    "        # if color in ('red',):\n",
    "        display(data)"
   ]
  },
  {
   "cell_type": "markdown",
   "id": "472d20ee",
   "metadata": {
    "papermill": {
     "duration": 0.009461,
     "end_time": "2023-02-06T04:11:12.632359",
     "exception": false,
     "start_time": "2023-02-06T04:11:12.622898",
     "status": "completed"
    },
    "tags": []
   },
   "source": [
    "## Export documents\n",
    "\n",
    "We now write the .md files and export relevant images"
   ]
  },
  {
   "cell_type": "code",
   "execution_count": 7,
   "id": "d426aed9",
   "metadata": {
    "execution": {
     "iopub.execute_input": "2023-02-06T04:11:12.651782Z",
     "iopub.status.busy": "2023-02-06T04:11:12.651112Z",
     "iopub.status.idle": "2023-02-06T04:11:12.660518Z",
     "shell.execute_reply": "2023-02-06T04:11:12.659649Z"
    },
    "papermill": {
     "duration": 0.020746,
     "end_time": "2023-02-06T04:11:12.662205",
     "exception": false,
     "start_time": "2023-02-06T04:11:12.641459",
     "status": "completed"
    },
    "tags": []
   },
   "outputs": [],
   "source": [
    "def export_markdown_summary(md: str, md_fname:str, directory: str):\n",
    "    \"\"\"Export MD document and associated relevant images\"\"\"\n",
    "    import os\n",
    "    import shutil\n",
    "    import re\n",
    "\n",
    "    if (os.path.exists(directory) and not os.path.isdir(directory)):\n",
    "        raise RuntimeError(f\"a non-directory file exists with name {directory:s}\")\n",
    "\n",
    "    if (not os.path.exists(directory)):\n",
    "        print(f\"creating directory {directory:s}\")\n",
    "        os.mkdir(directory)\n",
    "\n",
    "    fig_fnames = (re.compile(r'\\[Fig.*\\]\\((.*)\\)').findall(md) + \n",
    "                  re.compile(r'\\<img src=\"([^>\\s]*)\"[^>]*/>').findall(md))\n",
    "    for fname in fig_fnames:\n",
    "        if 'http' in fname:\n",
    "            # No need to copy online figures\n",
    "            continue\n",
    "        destdir = os.path.join(directory, os.path.dirname(fname))\n",
    "        destfname = os.path.join(destdir, os.path.basename(fname))\n",
    "        try:\n",
    "            os.makedirs(destdir)\n",
    "        except FileExistsError:\n",
    "            pass\n",
    "        shutil.copy(fname, destfname)\n",
    "    with open(os.path.join(directory, md_fname), 'w') as fout:\n",
    "        fout.write(md)\n",
    "    print(\"exported in \", os.path.join(directory, md_fname))\n",
    "    [print(\"    + \" + os.path.join(directory,fk)) for fk in fig_fnames]"
   ]
  },
  {
   "cell_type": "code",
   "execution_count": 8,
   "id": "014d04a4",
   "metadata": {
    "execution": {
     "iopub.execute_input": "2023-02-06T04:11:12.680336Z",
     "iopub.status.busy": "2023-02-06T04:11:12.679852Z",
     "iopub.status.idle": "2023-02-06T04:11:12.686471Z",
     "shell.execute_reply": "2023-02-06T04:11:12.685752Z"
    },
    "papermill": {
     "duration": 0.017472,
     "end_time": "2023-02-06T04:11:12.687925",
     "exception": false,
     "start_time": "2023-02-06T04:11:12.670453",
     "status": "completed"
    },
    "tags": []
   },
   "outputs": [
    {
     "name": "stdout",
     "output_type": "stream",
     "text": [
      "exported in  _build/html/2302.01678.md\n",
      "    + _build/html/tmp_2302.01678/./mrk876irsed.png\n",
      "    + _build/html/tmp_2302.01678/./rmsmeanmrk876irsedpanels2.png\n",
      "    + _build/html/tmp_2302.01678/./rmsmeanmrk876irsedpanels3.png\n"
     ]
    }
   ],
   "source": [
    "for paper_id, md in documents:\n",
    "    export_markdown_summary(md, f\"{paper_id:s}.md\", '_build/html/')"
   ]
  },
  {
   "cell_type": "markdown",
   "id": "f087a0a7",
   "metadata": {
    "papermill": {
     "duration": 0.008316,
     "end_time": "2023-02-06T04:11:12.704763",
     "exception": false,
     "start_time": "2023-02-06T04:11:12.696447",
     "status": "completed"
    },
    "tags": []
   },
   "source": [
    "## Display the papers\n",
    "\n",
    "Not necessary but allows for a quick check."
   ]
  },
  {
   "cell_type": "code",
   "execution_count": 9,
   "id": "fd25f625",
   "metadata": {
    "execution": {
     "iopub.execute_input": "2023-02-06T04:11:12.724249Z",
     "iopub.status.busy": "2023-02-06T04:11:12.723608Z",
     "iopub.status.idle": "2023-02-06T04:11:12.731516Z",
     "shell.execute_reply": "2023-02-06T04:11:12.730846Z"
    },
    "papermill": {
     "duration": 0.01972,
     "end_time": "2023-02-06T04:11:12.733199",
     "exception": false,
     "start_time": "2023-02-06T04:11:12.713479",
     "status": "completed"
    },
    "scrolled": false,
    "tags": []
   },
   "outputs": [
    {
     "data": {
      "text/markdown": [
       "<div class=\"macros\" style=\"visibility:hidden;\">\n",
       "$\\newcommand{\\ensuremath}{}$\n",
       "$\\newcommand{\\xspace}{}$\n",
       "$\\newcommand{\\object}[1]{\\texttt{#1}}$\n",
       "$\\newcommand{\\farcs}{{.}''}$\n",
       "$\\newcommand{\\farcm}{{.}'}$\n",
       "$\\newcommand{\\arcsec}{''}$\n",
       "$\\newcommand{\\arcmin}{'}$\n",
       "$\\newcommand{\\ion}[2]{#1#2}$\n",
       "$\\newcommand{\\textsc}[1]{\\textrm{#1}}$\n",
       "$\\newcommand{\\hl}[1]{\\textrm{#1}}$\n",
       "$\\newcommand{\\vdag}{(v)^\\dagger}$\n",
       "$\\newcommand$\n",
       "$\\newcommand$\n",
       "$\\newcommand{\\la}{\\mathrel{\\hbox{\\rlap{\\hbox{\\lower4pt\\hbox{\\sim}}}\\hbox{<}}}}$\n",
       "$\\newcommand{\\ga}{\\mathrel{\\hbox{\\rlap{\\hbox{\\lower4pt\\hbox{\\sim}}}\\hbox{>}}}}$\n",
       "$\\newcommand{\\OIII}{[O~{\\sevenrm III}]}$\n",
       "$\\newcommand{\\FeII}{Fe~{\\sevenrm II}}$\n",
       "$\\newcommand{\\FeIIf}{[Fe~{\\sevenrm II}]}$\n",
       "$\\newcommand{\\SIII}{[S~{\\sevenrm III}]}$\n",
       "$\\newcommand{\\HeI}{He~{\\sevenrm I}}$\n",
       "$\\newcommand{\\HeII}{He~{\\sevenrm II}}$\n",
       "$\\newcommand{\\NeV}{[Ne~{\\sevenrm V}]}$\n",
       "$\\newcommand{\\OIV}{[O~{\\sevenrm IV}]}$\n",
       "$\\newcommand{\\iraf}{{\\sevenrm IRAF}}$\n",
       "$\\newcommand{\\mpfit}{{\\sevenrm MPFIT}}$\n",
       "$\\newcommand{\\galfit}{{\\sevenrm GALFIT}}$\n",
       "$\\newcommand{\\prepspec}{{\\sevenrm PrepSpec}}$\n",
       "$\\newcommand{\\mapspec}{{\\sevenrm mapspec}}$\n",
       "$\\newcommand{\\cream}{{\\sevenrm CREAM}}$\n",
       "$\\newcommand{\\javelin}{{\\sevenrm JAVELIN}}$\n",
       "$\\newcommand{\\cloudy}{{\\sevenrm CLOUDY}}$\n",
       "$\\newcommand{\\banzai}{{\\sevenrm BANZAI}}$\n",
       "$\\newcommand{\\orac}{{\\sevenrm ORAC}}$\n",
       "$\\newcommand{\\demc}{{\\sevenrm DEMC}}$\n",
       "$\\newcommand{\\gp}{\\mathcal{GP}}$</div>\n",
       "\n",
       "<div class=\"macros\" style=\"visibility:hidden;\">\n",
       "$\\newcommand{$\\ensuremath$}{}$\n",
       "$\\newcommand{$\\xspace$}{}$\n",
       "$\\newcommand{$\\object$}[1]{\\texttt{#1}}$\n",
       "$\\newcommand{$\\farcs$}{{.}''}$\n",
       "$\\newcommand{$\\farcm$}{{.}'}$\n",
       "$\\newcommand{$\\arcsec$}{''}$\n",
       "$\\newcommand{$\\arcmin$}{'}$\n",
       "$\\newcommand{$\\ion$}[2]{#1#2}$\n",
       "$\\newcommand{$\\textsc$}[1]{\\textrm{#1}}$\n",
       "$\\newcommand{$\\hl$}[1]{\\textrm{#1}}$\n",
       "$\\newcommand{$\\vdag$}{(v)^\\dagger}$\n",
       "$\\newcommand$\n",
       "$\\newcommand$\n",
       "$\\newcommand{$\\la$}{\\mathrel{\\hbox{\\rlap{\\hbox{\\lower4pt\\hbox{\\sim}}}\\hbox{<}}}}$\n",
       "$\\newcommand{$\\ga$}{\\mathrel{\\hbox{\\rlap{\\hbox{\\lower4pt\\hbox{\\sim}}}\\hbox{>}}}}$\n",
       "$\\newcommand{$\\OIII$}{[O~{\\sevenrm III}]}$\n",
       "$\\newcommand{$\\FeII$}{Fe~{\\sevenrm II}}$\n",
       "$\\newcommand{$\\FeII$f}{[Fe~{\\sevenrm II}]}$\n",
       "$\\newcommand{$\\SIII$}{[S~{\\sevenrm III}]}$\n",
       "$\\newcommand{$\\HeI$}{He~{\\sevenrm I}}$\n",
       "$\\newcommand{$\\HeI$I}{He~{\\sevenrm II}}$\n",
       "$\\newcommand{$\\NeV$}{[Ne~{\\sevenrm V}]}$\n",
       "$\\newcommand{$\\OIV$}{[O~{\\sevenrm IV}]}$\n",
       "$\\newcommand{$\\iraf$}{{\\sevenrm IRAF}}$\n",
       "$\\newcommand{$\\mpfit$}{{\\sevenrm MPFIT}}$\n",
       "$\\newcommand{$\\ga$lfit}{{\\sevenrm GALFIT}}$\n",
       "$\\newcommand{$\\prepspec$}{{\\sevenrm PrepSpec}}$\n",
       "$\\newcommand{$\\mapspec$}{{\\sevenrm mapspec}}$\n",
       "$\\newcommand{$\\cream$}{{\\sevenrm CREAM}}$\n",
       "$\\newcommand{$\\javelin$}{{\\sevenrm JAVELIN}}$\n",
       "$\\newcommand{$\\cloudy$}{{\\sevenrm CLOUDY}}$\n",
       "$\\newcommand{$\\banzai$}{{\\sevenrm BANZAI}}$\n",
       "$\\newcommand{$\\orac$}{{\\sevenrm ORAC}}$\n",
       "$\\newcommand{$\\demc$}{{\\sevenrm DEMC}}$\n",
       "$\\newcommand{$\\gp$}{\\mathcal{GP}}$</div>\n",
       "\n",
       "\n",
       "\n",
       "<div id=\"title\">\n",
       "\n",
       "# A complex dust morphology in the high-luminosity AGN Mrk 876\n",
       "\n",
       "</div>\n",
       "<div id=\"comments\">\n",
       "\n",
       "[![arXiv](https://img.shields.io/badge/arXiv-2302.01678-b31b1b.svg)](https://arxiv.org/abs/2302.01678)<mark>Appeared on: 2023-02-06</mark> - _18 pages, 7 figures; accepted to ApJ_\n",
       "\n",
       "</div>\n",
       "<div id=\"authors\">\n",
       "\n",
       "<mark>Hermine Landt</mark>, et al. -- incl., <mark>J\\\"org-Uwe Pott</mark>, <mark>Juan V. Hernández Santisteban</mark>\n",
       "\n",
       "</div>\n",
       "<div id=\"abstract\">\n",
       "\n",
       "**Abstract:** Recent models for the inner structure of active galactic nuclei (AGN) advocate the presence of a radiatively accelerated, dusty outflow launched from the outer regions of the accretion disk. Here we present the first near-infrared (near-IR) variable (rms) spectrum for the high-luminosity, nearby AGN Mrk 876. We find that it tracks the accretion disk spectrum out to longer wavelengths than the mean spectrum due to a reduced dust emission. The implied outer accretion disk radius is consistent with the infrared results predicted by a contemporaneous optical accretion disk reverberation mapping campaign and much larger than the self-gravity radius. The reduced flux variability of the hot dust could be either due to the presence of a secondary, constant dust component in the mean spectrum or introduced by the destructive superposition of the dust and accretion disk variability signals or some combination of both. Assuming thermal equilibrium for optically thin dust, we derive the luminosity-based dust radius for different grain properties using our measurement of the temperature. We find that in all cases considered the values are significantly larger than the dust response time measured by IR photometric monitoring campaigns, with the least discrepancy present relative to the result for a wavelength-independent dust emissivity law, i.e. a blackbody, which is appropriate for large grain sizes. This result can be well explained by assuming a flared, disk-like structure for the hot dust.\n",
       "\n",
       "</div>\n",
       "\n",
       "<div id=\"div_fig1\">\n",
       "\n",
       "<img src=\"tmp_2302.01678/./mrk876irsed.png\" alt=\"Fig2\" width=\"100%\"/>\n",
       "\n",
       "**Figure 2. -** $\\la$bel{irsed} Gemini GNIRS near-IR spectrum from 2016 May 25 shown as luminosity versus rest-frame wavelength (black spectrum). We decomposed the continuum into two components, namely, an accretion disk spectrum that approximates the wavelength range $\\la 1 \\mu$m (black dotted curve) and still dominates at $1 \\mu$m (vertical dashed line) and hot dust emission (red spectrum). We fitted the hot dust continuum with a blackbody spectrum (red dotted curve) and modified blackbody spectra for carbon and silicate dust (green and blue dotted curves, respectively) with resulting best-fit temperatures as listed in Table \\ref{lumradiustab}. (*irsed*)\n",
       "\n",
       "</div>\n",
       "<div id=\"div_fig2\">\n",
       "\n",
       "<img src=\"tmp_2302.01678/./rmsmeanmrk876irsedpanels2.png\" alt=\"Fig3\" width=\"100%\"/>\n",
       "\n",
       "**Figure 3. -** $\\la$bel{fracvar} Top panel: The flux difference between the normalised mean and variable spectra (blue) can be attributed to an additional (non-variable) dust component with a blackbody temperature of $T \\sim 1300$ K (blue dotted line). The template of an elliptical host galaxy is also shown (magenta). Bottom panel: The fractional amplitude of the variations as a percentage of the mean flux versus the rest-frame wavelength. (*fracvar*)\n",
       "\n",
       "</div>\n",
       "<div id=\"div_fig3\">\n",
       "\n",
       "<img src=\"tmp_2302.01678/./rmsmeanmrk876irsedpanels3.png\" alt=\"Fig6\" width=\"100%\"/>\n",
       "\n",
       "**Figure 6. -** $\\la$bel{rmsspec} Top panel: The mean (black) and variable near-IR spectrum (red) for our campaign normalised at rest-frame $0.9 \\mu$m. The spectrum of a standard accretion disk (black dotted line) is traced to $\\sim 1.2 \\mu$m in the variable component and only to $\\sim 1 \\mu$m in the mean spectrum. Bottom panel: The spectral decomposition of the variable near-IR spectrum (black) into an accretion disk spectrum (black dotted line) and a hot dust component (red spectrum) yields a blackbody temperature of $T \\sim 1200$ K for the latter (red dotted curve). (*rmsspec*)\n",
       "\n",
       "</div>"
      ],
      "text/plain": [
       "<IPython.core.display.Markdown object>"
      ]
     },
     "metadata": {},
     "output_type": "display_data"
    }
   ],
   "source": [
    "[display(Markdown(k[1])) for k in documents];"
   ]
  },
  {
   "cell_type": "markdown",
   "id": "873873a4",
   "metadata": {
    "papermill": {
     "duration": 0.008506,
     "end_time": "2023-02-06T04:11:12.750344",
     "exception": false,
     "start_time": "2023-02-06T04:11:12.741838",
     "status": "completed"
    },
    "tags": []
   },
   "source": [
    "# Create HTML index"
   ]
  },
  {
   "cell_type": "code",
   "execution_count": 10,
   "id": "cf665672",
   "metadata": {
    "execution": {
     "iopub.execute_input": "2023-02-06T04:11:12.770686Z",
     "iopub.status.busy": "2023-02-06T04:11:12.769997Z",
     "iopub.status.idle": "2023-02-06T04:11:12.789441Z",
     "shell.execute_reply": "2023-02-06T04:11:12.783740Z"
    },
    "papermill": {
     "duration": 0.031278,
     "end_time": "2023-02-06T04:11:12.791169",
     "exception": false,
     "start_time": "2023-02-06T04:11:12.759891",
     "status": "completed"
    },
    "tags": []
   },
   "outputs": [
    {
     "name": "stdout",
     "output_type": "stream",
     "text": [
      "189  publications in the last 7 days.\n",
      "\t _build/html/2302.01678.md\n",
      "\t _build/html/2302.00450.md\n",
      "\t _build/html/2301.13766.md\n",
      "\t _build/html/2301.13526.md\n",
      "\t _build/html/2301.12890.md\n",
      "\t _build/html/2301.11942.md\n",
      "\t _build/html/2301.10717.md\n",
      "\t _build/html/2301.10666.md\n",
      "\t _build/html/2301.10496.md\n",
      "\t _build/html/2301.09621.md\n",
      "\t _build/html/2301.09140.md\n",
      "\t _build/html/2301.08770.md\n",
      "\t _build/html/2301.08310.md\n",
      "\t _build/html/2301.07990.md\n",
      "\t _build/html/2301.07366.md\n",
      "\t _build/html/2301.07199.md\n",
      "\t _build/html/2301.07116.md\n",
      "\t _build/html/2301.06873.md\n",
      "\t _build/html/2301.06819.md\n",
      "\t _build/html/2301.06575.md\n",
      "\t _build/html/2301.05720.md\n",
      "\t _build/html/2301.05718.md\n",
      "\t _build/html/2301.05034.md\n",
      "\t _build/html/2301.04656.md\n",
      "\t _build/html/2301.04533.md\n",
      "\t _build/html/2301.04442.md\n",
      "\t _build/html/2301.03811.md\n",
      "\t _build/html/2301.03689.md\n",
      "\t _build/html/2301.03387.md\n",
      "\t _build/html/2301.03209.md\n",
      "\t _build/html/2301.02671.md\n",
      "\t _build/html/2301.02477.md\n",
      "\t _build/html/2301.02313.md\n",
      "\t _build/html/2301.02265.md\n",
      "\t _build/html/2301.01937.md\n",
      "\t _build/html/2301.01895.md\n",
      "\t _build/html/2301.01684.md\n",
      "\t _build/html/2301.01306.md\n",
      "\t _build/html/2301.00881.md\n",
      "\t _build/html/2301.00854.md\n",
      "\t _build/html/2301.00578.md\n",
      "\t _build/html/2212.12039.md\n",
      "\t _build/html/2212.11991.md\n",
      "\t _build/html/2212.11425.md\n",
      "\t _build/html/2212.11177.md\n",
      "\t _build/html/2212.10804.md\n",
      "\t _build/html/2212.10512.md\n",
      "\t _build/html/2212.09766.md\n",
      "\t _build/html/2212.09675.md\n",
      "\t _build/html/2212.09661.md\n",
      "\t _build/html/2212.09652.md\n",
      "\t _build/html/2212.09443.md\n",
      "\t _build/html/2212.09307.md\n",
      "\t _build/html/2212.09168.md\n",
      "\t _build/html/2212.09159.md\n",
      "\t _build/html/2212.08702.md\n",
      "\t _build/html/2212.07332.md\n",
      "\t _build/html/2212.06434.md\n",
      "\t _build/html/2212.04710.md\n",
      "\t _build/html/2212.04026.md\n",
      "\t _build/html/2212.03563.md\n",
      "\t _build/html/2212.03514.md\n",
      "\t _build/html/2212.02667.md\n",
      "\t _build/html/2212.02627.md\n",
      "\t _build/html/2212.02235.md\n",
      "\t _build/html/2212.01707.md\n",
      "\t _build/html/2212.01526.md\n",
      "\t _build/html/2212.01397.md\n",
      "\t _build/html/2212.01291.md\n",
      "\t _build/html/2212.01281.md\n",
      "\t _build/html/2212.00812.md\n",
      "\t _build/html/2212.00811.md\n",
      "\t _build/html/2212.00806.md\n",
      "\t _build/html/2212.00047.md\n",
      "\t _build/html/2212.00032.md\n",
      "\t _build/html/2211.16996.md\n",
      "\t _build/html/2211.16510.md\n",
      "\t _build/html/2211.16123.md\n",
      "\t _build/html/2211.15816.md\n",
      "\t _build/html/2211.15698.md\n",
      "\t _build/html/2211.15576.md\n",
      "\t _build/html/2211.15434.md\n",
      "\t _build/html/2211.15288.md\n",
      "\t _build/html/2211.15224.md\n",
      "\t _build/html/2211.14543.md\n",
      "\t _build/html/2211.14330.md\n",
      "\t _build/html/2211.14322.md\n",
      "\t _build/html/2211.14132.md\n",
      "\t _build/html/2211.13811.md\n",
      "\t _build/html/2211.13426.md\n",
      "\t _build/html/2211.13318.md\n",
      "\t _build/html/2211.13146.md\n",
      "\t _build/html/2211.12613.md\n",
      "\t _build/html/2211.11767.md\n",
      "\t _build/html/2211.09840.md\n",
      "\t _build/html/2211.09217.md\n",
      "\t _build/html/2211.08493.md\n",
      "\t _build/html/2211.08487.md\n",
      "\t _build/html/2211.08294.md\n",
      "\t _build/html/2211.07667.md\n",
      "\t _build/html/2211.07659.md\n",
      "\t _build/html/2211.06454.md\n",
      "\t _build/html/2211.06205.md\n",
      "\t _build/html/2211.06194.md\n",
      "\t _build/html/2211.05022.md\n",
      "\t _build/html/2211.04048.md\n",
      "\t _build/html/2211.03641.md\n",
      "\t _build/html/2211.02502.md\n",
      "\t _build/html/2211.01474.md\n",
      "\t _build/html/2211.00667.md\n",
      "\t _build/html/2211.00657.md\n",
      "\t _build/html/2211.00087.md\n",
      "\t _build/html/2211.00036.md\n",
      "\t _build/html/2211.00020.md\n",
      "\t _build/html/2211.00010.md\n",
      "\t _build/html/2210.17434.md\n",
      "\t _build/html/2210.12412.md\n",
      "\t _build/html/2210.11926.md\n",
      "\t _build/html/2210.11551.md\n",
      "\t _build/html/2210.11103.md\n",
      "\t _build/html/2210.10707.md\n",
      "\t _build/html/2210.09930.md\n",
      "\t _build/html/2210.08996.md\n",
      "\t _build/html/2210.08517.md\n",
      "\t _build/html/2210.08510.md\n",
      "\t _build/html/2210.08078.md\n",
      "\t _build/html/2210.06504.md\n",
      "\t _build/html/2210.05695.md\n",
      "\t _build/html/2210.05595.md\n",
      "\t _build/html/2210.05505.md\n",
      "\t _build/html/2210.04721.md\n",
      "\t _build/html/2210.03615.md\n",
      "\t _build/html/2210.01811.md\n",
      "\t _build/html/2210.01809.md\n",
      "\t _build/html/2210.01556.md\n",
      "\t _build/html/2210.00863.md\n",
      "\t _build/html/2210.00560.md\n",
      "\t _build/html/2209.15403.md\n",
      "\t _build/html/2209.15110.md\n",
      "\t _build/html/2209.14410.md\n",
      "\t _build/html/2209.14396.md\n",
      "\t _build/html/2209.13717.md\n",
      "\t _build/html/2209.13336.md\n",
      "\t _build/html/2209.12906.md\n",
      "\t _build/html/2209.11781.md\n",
      "\t _build/html/2209.11602.md\n",
      "\t _build/html/2209.11248.md\n",
      "\t _build/html/2209.11096.md\n",
      "\t _build/html/2209.10618.md\n",
      "\t _build/html/2209.09914.md\n",
      "\t _build/html/2209.09823.md\n",
      "\t _build/html/2209.08242.md\n",
      "\t _build/html/2209.08120.md\n",
      "\t _build/html/2209.08106.md\n",
      "\t _build/html/2209.07962.md\n",
      "\t _build/html/2209.07931.md\n",
      "\t _build/html/2209.06833.md\n",
      "\t _build/html/2209.05814.md\n",
      "\t _build/html/2209.05593.md\n",
      "\t _build/html/2209.04304.md\n",
      "\t _build/html/2209.03367.md\n",
      "\t _build/html/2209.02872.md\n",
      "\t _build/html/2209.02725.md\n",
      "\t _build/html/2209.02722.md\n",
      "\t _build/html/2209.02092.md\n",
      "\t _build/html/2209.01125.md\n",
      "\t _build/html/2209.00828.md\n",
      "\t _build/html/2209.00363.md\n",
      "\t _build/html/2208.14927.md\n",
      "\t _build/html/2208.09335.md\n",
      "\t _build/html/2208.08872.md\n",
      "\t _build/html/2204.06393.md\n",
      "\t _build/html/2204.03335.md\n",
      "\t _build/html/2204.03253.md\n",
      "\t _build/html/2204.02998.md\n",
      "\t _build/html/2204.02109.md\n",
      "\t _build/html/2204.02017.md\n",
      "\t _build/html/2204.01824.md\n",
      "\t _build/html/2204.01758.md\n",
      "\t _build/html/2204.01245.md\n",
      "\t _build/html/2204.00793.md\n",
      "\t _build/html/2204.00342.md\n",
      "\t _build/html/2203.16959.md\n",
      "\t _build/html/2203.16856.md\n",
      "\t _build/html/2203.16735.md\n",
      "\t _build/html/2203.16734.md\n",
      "\t _build/html/2203.16504.md\n",
      "\t _build/html/2203.15822.md\n",
      "\t _build/html/2203.15811.md\n"
     ]
    }
   ],
   "source": [
    "from datetime import datetime, timedelta, timezone\n",
    "from glob import glob\n",
    "\n",
    "files = glob('_build/html/*.md')\n",
    "days = 7\n",
    "now = datetime.today()\n",
    "res = []\n",
    "for fk in files:\n",
    "    stat_result = os.stat(fk).st_ctime\n",
    "    modified = datetime.fromtimestamp(stat_result, tz=timezone.utc).replace(tzinfo=None)\n",
    "    delta = now.today() - modified\n",
    "    if delta <= timedelta(days=days):\n",
    "        res.append((delta.seconds, fk))\n",
    "res = [k[1] for k in reversed(sorted(res, key=lambda x:x[1]))]\n",
    "npub = len(res)\n",
    "print(len(res), f\" publications in the last {days:d} days.\")\n",
    "[ print('\\t', k) for k in res ];"
   ]
  },
  {
   "cell_type": "code",
   "execution_count": 11,
   "id": "015de740",
   "metadata": {
    "execution": {
     "iopub.execute_input": "2023-02-06T04:11:12.811745Z",
     "iopub.status.busy": "2023-02-06T04:11:12.811489Z",
     "iopub.status.idle": "2023-02-06T04:11:12.831567Z",
     "shell.execute_reply": "2023-02-06T04:11:12.830913Z"
    },
    "papermill": {
     "duration": 0.032285,
     "end_time": "2023-02-06T04:11:12.833351",
     "exception": false,
     "start_time": "2023-02-06T04:11:12.801066",
     "status": "completed"
    },
    "tags": []
   },
   "outputs": [
    {
     "name": "stdout",
     "output_type": "stream",
     "text": [
      "6  publications in the last 7 days.\n"
     ]
    }
   ],
   "source": [
    "import datetime\n",
    "from glob import glob\n",
    "\n",
    "def get_last_n_days(lst, days=1):\n",
    "    \"\"\" Get the documents from the last n days \"\"\"\n",
    "    sorted_lst = sorted(lst, key=lambda x: x[1], reverse=True)\n",
    "    for fname, date in sorted_lst:\n",
    "        if date >= str(datetime.date.today() - datetime.timedelta(days=days)):\n",
    "            yield fname\n",
    "\n",
    "def extract_appearance_dates(lst_file):\n",
    "    dates = []\n",
    "\n",
    "    def get_date(line):\n",
    "        return line\\\n",
    "            .split('Appeared on:')[-1]\\\n",
    "            .split('</mark>')[0].strip()\n",
    "\n",
    "    for fname in lst:\n",
    "        with open(fname, 'r') as f:\n",
    "            found_date = False\n",
    "            for line in f:\n",
    "                if not found_date:\n",
    "                    if \"Appeared on\" in line:\n",
    "                        found_date = True\n",
    "                        dates.append((fname, get_date(line)))\n",
    "                else:\n",
    "                    break\n",
    "    return dates\n",
    "\n",
    "from glob import glob\n",
    "lst = glob('_build/html/*md')\n",
    "days = 7\n",
    "dates = extract_appearance_dates(lst)\n",
    "res = list(get_last_n_days(dates, days))\n",
    "npub = len(res)\n",
    "print(len(res), f\" publications in the last {days:d} days.\")"
   ]
  },
  {
   "cell_type": "code",
   "execution_count": 12,
   "id": "52ca0208",
   "metadata": {
    "execution": {
     "iopub.execute_input": "2023-02-06T04:11:12.900141Z",
     "iopub.status.busy": "2023-02-06T04:11:12.899795Z",
     "iopub.status.idle": "2023-02-06T04:11:12.906704Z",
     "shell.execute_reply": "2023-02-06T04:11:12.906134Z"
    },
    "papermill": {
     "duration": 0.065488,
     "end_time": "2023-02-06T04:11:12.908290",
     "exception": false,
     "start_time": "2023-02-06T04:11:12.842802",
     "status": "completed"
    },
    "scrolled": false,
    "tags": []
   },
   "outputs": [],
   "source": [
    "def create_carousel(npub=4):\n",
    "    \"\"\" Generate the HTML code for a carousel with `npub` slides \"\"\"\n",
    "    carousel = [\"\"\"<section class=\"carousel\" aria-label=\"Gallery\">\"\"\",\n",
    "                \"\"\"  <ol class=\"carousel__viewport\">\"\"\",\n",
    "    ]\n",
    "    for k in range(1, npub + 1):\n",
    "        prev_ = k - 1\n",
    "        next_ = k + 1\n",
    "        if prev_ <= 0:\n",
    "            prev_ = npub\n",
    "        if next_ > npub:\n",
    "            next_ = 1\n",
    "        text  = f\"\"\"    <li id=\"carousel__slide{k}\" tabindex=\"0\" class=\"carousel__slide\">\\n\"\"\"\n",
    "        text += f\"\"\"       <div class=\"carousel__snapper\">\\n\"\"\"\n",
    "        text += f\"\"\"         <a href=\"#carousel__slide{prev_}\" class=\"carousel__prev\">Go to previous slide</a>\\n\"\"\"\n",
    "        text += f\"\"\"         <a href=\"#carousel__slide{next_}\" class=\"carousel__next\">Go to next slide</a>\\n\"\"\"\n",
    "        text += f\"\"\"         <div id=\"slide{k}_content\" class=\"md_view\" >Content {k}</div>\\n\"\"\"\n",
    "        text += f\"\"\"       </div>\\n\"\"\"\n",
    "        text += f\"\"\"    </li>\"\"\"\n",
    "        carousel.append(text)\n",
    "\n",
    "    carousel.extend([\n",
    "        \"\"\"  </ol>\"\"\",\n",
    "        \"\"\"  <aside class=\"carousel__navigation\">\"\"\",\n",
    "        \"\"\"    <ol class=\"carousel__navigation-list\">\"\"\"])\n",
    "\n",
    "    for k in range(1, npub + 1):\n",
    "        text  = f\"\"\"      <li class=\"carousel__navigation-item\">\\n\"\"\"\n",
    "        text += f\"\"\"        <a href=\"#carousel__slide{k}\" class=\"carousel__navigation-button\">Go to {k}</a>\\n\"\"\"\n",
    "        text += f\"\"\"      </li>\"\"\"\n",
    "        carousel.append(text)\n",
    "    carousel.extend([\"\"\"    </ol>\"\"\", \"\"\"  </aside>\"\"\", \"\"\"</section>\"\"\"])\n",
    "\n",
    "    return '\\n'.join(carousel)"
   ]
  },
  {
   "cell_type": "code",
   "execution_count": 13,
   "id": "a6eac5b6",
   "metadata": {
    "execution": {
     "iopub.execute_input": "2023-02-06T04:11:12.930539Z",
     "iopub.status.busy": "2023-02-06T04:11:12.930145Z",
     "iopub.status.idle": "2023-02-06T04:11:12.936865Z",
     "shell.execute_reply": "2023-02-06T04:11:12.936125Z"
    },
    "papermill": {
     "duration": 0.020141,
     "end_time": "2023-02-06T04:11:12.938547",
     "exception": false,
     "start_time": "2023-02-06T04:11:12.918406",
     "status": "completed"
    },
    "scrolled": false,
    "tags": []
   },
   "outputs": [],
   "source": [
    "carousel = create_carousel(npub)\n",
    "docs = ', '.join(['\"{0:s}\"'.format(k.split('/')[-1]) for k in res])\n",
    "slides = ', '.join([f'\"slide{k}_content\"' for k in range(1, npub + 1)])\n",
    "\n",
    "script = f\"\"\"\n",
    "const docs = [{docs}]\n",
    "\n",
    "const slides = [{slides}]\n",
    "\"\"\" + \"\"\"\n",
    "async function run() {\n",
    "    for (let i = 0; i < docs.length; i++) {\n",
    "        let file = await fetch(docs[i]);\n",
    "        let text = await file.text()\n",
    "        document.getElementById(slides[i]).innerHTML =\n",
    "            marked.parse(text);\n",
    "    }\n",
    "    hljs.highlightAll();\n",
    "}\n",
    "run()\n",
    "\"\"\"\n",
    "\n",
    "page = f\"\"\"<!doctype html>\n",
    "<html lang=\"en\">\n",
    "\n",
    "<head>\n",
    "  <meta charset=\"utf-8\">\n",
    "  <meta name=\"viewport\" content=\"width=device-width, initial-scale=1\">\n",
    "  <!-- Bootstrap CSS -->\n",
    "  <link href=\"https://cdn.jsdelivr.net/npm/bootstrap@5.0.2/dist/css/bootstrap.min.css\" rel=\"stylesheet\"\n",
    "   integrity=\"sha384-EVSTQN3/azprG1Anm3QDgpJLIm9Nao0Yz1ztcQTwFspd3yD65VohhpuuCOmLASjC\" crossorigin=\"anonymous\">\n",
    "  <!-- highlight.js CSS -->\n",
    "  <link rel=\"stylesheet\" href=\"https://cdnjs.cloudflare.com/ajax/libs/highlight.js/11.1.0/styles/default.min.css\">\n",
    "  <!-- Mathjax 3 -->\n",
    "  <script type=\"text/javascript\" id=\"MathJax-config\" src=\"mathjax_config.js\"> </script>\n",
    "  <script type=\"text/javascript\" id=\"MathJax-script\" async \n",
    "    src=\"https://cdn.jsdelivr.net/npm/mathjax@3/es5/tex-mml-chtml.js\">\n",
    "  </script>\n",
    "  <link rel=\"stylesheet\" href=\"index_carousel.css\">\n",
    "  <link rel=\"icon\" type=\"image/x-icon\" href=\"https://www.mpia.de/assets/touch-icon-32x32-a66937bcebc4e8894ebff1f41a366c7c7220fd97a38869ee0f2db65a9f59b6c1.png\">\n",
    "  <title>MPIA Arxiv on deck!</title>\n",
    "</head>\n",
    "\n",
    "<body>\n",
    "  <div id=\"header\"> <img src=\"header_banner.png\" width=\"100%\"></div>\n",
    "  <div id=\"suptitle\"> 7-day archives </div>\n",
    "  <div id=\"info\">\n",
    "    <img src=\"https://pngimg.com/uploads/github/github_PNG58.png\" height=30rem></img>\n",
    "    <a href=https://github.com/mpi-astronomy/arxiv_display style=\"color:black;\">github/mpi-astronomy/arxiv_display</a> \n",
    "  </div>\n",
    "  {carousel:s}\n",
    "</body>\n",
    "\n",
    "<!-- Render Markdown -->\n",
    "\n",
    "<body>\n",
    "  <!-- highlight.js: https://highlightjs.org/download/ -->\n",
    "  <script src=\"https://cdnjs.cloudflare.com/ajax/libs/highlight.js/11.5.0/highlight.min.js\"></script>\n",
    "  <!-- marked.js -->\n",
    "  <script src=\"https://cdn.jsdelivr.net/npm/marked/marked.min.js\"></script>\n",
    "  <script>{script:s}</script>\n",
    "</body>\n",
    "</html>\n",
    "\"\"\"\n",
    "with open(\"_build/html/index_7days.html\", 'w') as fout:\n",
    "    fout.write(page)"
   ]
  },
  {
   "cell_type": "markdown",
   "id": "1cebacbc",
   "metadata": {
    "papermill": {
     "duration": 0.009246,
     "end_time": "2023-02-06T04:11:12.958067",
     "exception": false,
     "start_time": "2023-02-06T04:11:12.948821",
     "status": "completed"
    },
    "tags": []
   },
   "source": [
    "# Debugging papers"
   ]
  },
  {
   "cell_type": "raw",
   "id": "debe7cc6",
   "metadata": {
    "papermill": {
     "duration": 0.009226,
     "end_time": "2023-02-06T04:11:12.976203",
     "exception": false,
     "start_time": "2023-02-06T04:11:12.966977",
     "status": "completed"
    },
    "tags": []
   },
   "source": [
    "raise NotImplementedError(\"Manual Stop\")"
   ]
  },
  {
   "cell_type": "raw",
   "id": "eb169192",
   "metadata": {
    "papermill": {
     "duration": 0.008819,
     "end_time": "2023-02-06T04:11:12.994095",
     "exception": false,
     "start_time": "2023-02-06T04:11:12.985276",
     "status": "completed"
    },
    "scrolled": true,
    "tags": []
   },
   "source": [
    "from IPython.display import display, Markdown\n",
    "from TexSoup import TexSoup\n",
    "import re\n",
    "\n",
    "def bracket_error(source: str):\n",
    "    \"\"\" Find problematic portions of the document \"\"\"\n",
    "    \n",
    "    print(\"len(source)\", len(source))\n",
    "    \n",
    "    # Checking header\n",
    "    begin_doc = next(re.finditer(r'\\\\begin\\{document\\}', doc.source)).span()[1]\n",
    "    header = source[:begin_doc]\n",
    "    text = header + r\"\\n\\end{document}\"\n",
    "\n",
    "    try:\n",
    "        # print(\"Header check... \", end='')\n",
    "        TexSoup(text)\n",
    "        display(Markdown(f\"**[OK]** - Header\"))\n",
    "    except:\n",
    "        raise RuntimeError(\"Error in the header\")\n",
    "        \n",
    "    # Check the text per section until the end.\n",
    "    # Do not stop and try them all.\n",
    "    \n",
    "    problematic_text = []\n",
    "    \n",
    "    sections = ([(0, begin_doc, 'until first section')] + \n",
    "                [(g.span()[0], g.span()[1], g.group()) for g in re.finditer(r'\\\\section\\{.*\\}', source)] +\n",
    "                [(g.span()[0], g.span()[1], g.group()) for g in re.finditer(r'\\\\begin\\{appendix\\}', source)]\n",
    "               )\n",
    "    sections.append([len(source), len(source), 'end'])\n",
    "    \n",
    "    sections = sorted(sections, key=lambda x: x[0])\n",
    "    \n",
    "    prev_pos, prev_name = (0, 'header')\n",
    "    parsed = []\n",
    "    \n",
    "    for span, span_end, name in sections:\n",
    "\n",
    "        if span - prev_pos <= 0:\n",
    "            continue\n",
    "            \n",
    "\n",
    "        text = source[prev_pos:span]\n",
    "        if prev_pos > begin_doc:\n",
    "            text = r\"\\n\\begin{document}\" + text + r\"\\n\\end{document}\"\n",
    "        else:\n",
    "            text = text + r\"\\n\\end{document}\"\n",
    "        try:\n",
    "            #print(f\"{prev_pos}:{prev_name}-->{span}:{name} check... \", end='')\n",
    "            parsed.append(TexSoup(text, tolerance=1))  # allow not ending env\n",
    "            display(Markdown(f\"**[OK]** - *{prev_pos}*:{prev_name} &rarr; *{span}*:{name}\"))\n",
    "            # print(\"ok\")\n",
    "\n",
    "            prev_pos = span\n",
    "            prev_name = name\n",
    "        except:\n",
    "            # print(f\"error between {prev_pos} and {span}\")\n",
    "            display(Markdown(f\"**[ERR]** *{prev_pos}*:{prev_name} &rarr; *{span}*:{name}\"))\n",
    "            problematic_text.append((prev_pos, source[prev_pos:span]))\n",
    "            prev_pos = span\n",
    "            prev_name = name\n",
    "            # raise\n",
    "    return problematic_text, parsed\n",
    "\n",
    "\n",
    "def check_environment(text, offset=0):\n",
    "    \"\"\" Check environment \"\"\"\n",
    "    env = re.compile(r\"\\\\begin\\{(?P<env>.*)\\}(.*)\\\\end\\{(?P=env)\\}\", re.DOTALL)\n",
    "\n",
    "    for match in env.finditer(text):\n",
    "        beg, end = match.span()\n",
    "        beg += offset\n",
    "        end += offset\n",
    "        envname = match.groups()[0]\n",
    "        try:\n",
    "            latex.TexSoup(match.group())\n",
    "        except Exception as e:\n",
    "            display(e)\n",
    "            print(f\"Error in {envname:s} between {beg} and {end}\")\n",
    "            return match.groups()[1], beg, end"
   ]
  },
  {
   "cell_type": "raw",
   "id": "2315e835",
   "metadata": {
    "papermill": {
     "duration": 0.009931,
     "end_time": "2023-02-06T04:11:13.013287",
     "exception": false,
     "start_time": "2023-02-06T04:11:13.003356",
     "status": "completed"
    },
    "scrolled": false,
    "tags": []
   },
   "source": [
    "import importlib\n",
    "importlib.reload(latex)\n",
    "which = \"2204.03253\"\n",
    "paper_id = f'{which:s}'\n",
    "folder = f'tmp_{paper_id:s}'\n",
    "\n",
    "if not os.path.isdir(folder):\n",
    "    folder = retrieve_document_source(f\"{paper_id}\", f'tmp_{paper_id}')\n",
    "\n",
    "try:\n",
    "    doc = latex.LatexDocument(folder, validation=validation)    \n",
    "except AffiliationError as affilerror:\n",
    "    msg = f\"ArXiv:{paper_id:s} is not an MPIA paper... \" + str(affilerror)\n",
    "    print(msg)\n",
    "\n",
    "\n",
    "# Hack because sometimes author parsing does not work well\n",
    "if (len(doc.authors) != len(paper['authors'])):\n",
    "    doc._authors = paper['authors']\n",
    "if (doc.abstract) in (None, ''):\n",
    "    doc._abstract = paper['abstract']\n",
    "\n",
    "doc.comment = get_markdown_badge(paper_id) + \" _\" + paper['comments'] + \"_\"\n",
    "doc.highlight_authors_in_list(hl_list)\n",
    "\n",
    "full_md = doc.generate_markdown_text()"
   ]
  },
  {
   "cell_type": "raw",
   "id": "dd3781db",
   "metadata": {
    "papermill": {
     "duration": 0.008508,
     "end_time": "2023-02-06T04:11:13.031309",
     "exception": false,
     "start_time": "2023-02-06T04:11:13.022801",
     "status": "completed"
    },
    "scrolled": false,
    "tags": []
   },
   "source": [
    "doc"
   ]
  },
  {
   "cell_type": "raw",
   "id": "c6eed834",
   "metadata": {
    "papermill": {
     "duration": 0.00972,
     "end_time": "2023-02-06T04:11:13.050104",
     "exception": false,
     "start_time": "2023-02-06T04:11:13.040384",
     "status": "completed"
    },
    "tags": []
   },
   "source": [
    "# [check_environment(k) for k in bracket_error(doc.source)]\n",
    "_, _, a = latex.get_content_per_section(doc.source, verbose=True)\n",
    "if not a:\n",
    "    print(\"no issues per section\")\n",
    "for ak in a:\n",
    "    r = check_environment(ak[1], offset=ak[0])\n",
    "    print(r[1], r[2])\n",
    "    print(r[0])"
   ]
  },
  {
   "cell_type": "code",
   "execution_count": null,
   "id": "71ce768a",
   "metadata": {
    "papermill": {
     "duration": 0.010137,
     "end_time": "2023-02-06T04:11:13.070134",
     "exception": false,
     "start_time": "2023-02-06T04:11:13.059997",
     "status": "completed"
    },
    "tags": []
   },
   "outputs": [],
   "source": []
  }
 ],
 "metadata": {
  "kernelspec": {
   "display_name": "Python 3",
   "language": "python",
   "name": "python3"
  },
  "language_info": {
   "codemirror_mode": {
    "name": "ipython",
    "version": 3
   },
   "file_extension": ".py",
   "mimetype": "text/x-python",
   "name": "python",
   "nbconvert_exporter": "python",
   "pygments_lexer": "ipython3",
   "version": "3.9.16"
  },
  "papermill": {
   "default_parameters": {},
   "duration": 159.754615,
   "end_time": "2023-02-06T04:11:13.401745",
   "environment_variables": {},
   "exception": null,
   "input_path": "MPIA daily digest.ipynb",
   "output_path": "log.ipynb",
   "parameters": {},
   "start_time": "2023-02-06T04:08:33.647130",
   "version": "2.4.0"
  },
  "vscode": {
   "interpreter": {
    "hash": "aee8b7b246df8f9039afb4144a1f6fd8d2ca17a180786b69acc140d282b71a49"
   }
  },
  "widgets": {
   "application/vnd.jupyter.widget-state+json": {
    "state": {
     "2556a49670fc437492f00faf29738caf": {
      "model_module": "@jupyter-widgets/controls",
      "model_module_version": "2.0.0",
      "model_name": "FloatProgressModel",
      "state": {
       "_dom_classes": [],
       "_model_module": "@jupyter-widgets/controls",
       "_model_module_version": "2.0.0",
       "_model_name": "FloatProgressModel",
       "_view_count": null,
       "_view_module": "@jupyter-widgets/controls",
       "_view_module_version": "2.0.0",
       "_view_name": "ProgressView",
       "bar_style": "success",
       "description": "",
       "description_allow_html": false,
       "layout": "IPY_MODEL_a90f7d13cdff4f5ca983287639df03ce",
       "max": 19.0,
       "min": 0.0,
       "orientation": "horizontal",
       "style": "IPY_MODEL_be6c1ee8001c4f93b1c04681fcf001da",
       "tabbable": null,
       "tooltip": null,
       "value": 19.0
      }
     },
     "32a370f748154d3cb666d48af022e0e3": {
      "model_module": "@jupyter-widgets/controls",
      "model_module_version": "2.0.0",
      "model_name": "HTMLStyleModel",
      "state": {
       "_model_module": "@jupyter-widgets/controls",
       "_model_module_version": "2.0.0",
       "_model_name": "HTMLStyleModel",
       "_view_count": null,
       "_view_module": "@jupyter-widgets/base",
       "_view_module_version": "2.0.0",
       "_view_name": "StyleView",
       "background": null,
       "description_width": "",
       "font_size": null,
       "text_color": null
      }
     },
     "3c2b1767546d4b0ca1c905382701e9b3": {
      "model_module": "@jupyter-widgets/controls",
      "model_module_version": "2.0.0",
      "model_name": "HTMLStyleModel",
      "state": {
       "_model_module": "@jupyter-widgets/controls",
       "_model_module_version": "2.0.0",
       "_model_name": "HTMLStyleModel",
       "_view_count": null,
       "_view_module": "@jupyter-widgets/base",
       "_view_module_version": "2.0.0",
       "_view_name": "StyleView",
       "background": null,
       "description_width": "",
       "font_size": null,
       "text_color": null
      }
     },
     "8262edba89ba4da8aeb352a6ee84ca50": {
      "model_module": "@jupyter-widgets/controls",
      "model_module_version": "2.0.0",
      "model_name": "HTMLModel",
      "state": {
       "_dom_classes": [],
       "_model_module": "@jupyter-widgets/controls",
       "_model_module_version": "2.0.0",
       "_model_name": "HTMLModel",
       "_view_count": null,
       "_view_module": "@jupyter-widgets/controls",
       "_view_module_version": "2.0.0",
       "_view_name": "HTMLView",
       "description": "",
       "description_allow_html": false,
       "layout": "IPY_MODEL_a0417b9136da421ba3f208d0eb28d81d",
       "placeholder": "​",
       "style": "IPY_MODEL_3c2b1767546d4b0ca1c905382701e9b3",
       "tabbable": null,
       "tooltip": null,
       "value": " 19/19 [02:08&lt;00:00,  5.15s/it]"
      }
     },
     "a0417b9136da421ba3f208d0eb28d81d": {
      "model_module": "@jupyter-widgets/base",
      "model_module_version": "2.0.0",
      "model_name": "LayoutModel",
      "state": {
       "_model_module": "@jupyter-widgets/base",
       "_model_module_version": "2.0.0",
       "_model_name": "LayoutModel",
       "_view_count": null,
       "_view_module": "@jupyter-widgets/base",
       "_view_module_version": "2.0.0",
       "_view_name": "LayoutView",
       "align_content": null,
       "align_items": null,
       "align_self": null,
       "border_bottom": null,
       "border_left": null,
       "border_right": null,
       "border_top": null,
       "bottom": null,
       "display": null,
       "flex": null,
       "flex_flow": null,
       "grid_area": null,
       "grid_auto_columns": null,
       "grid_auto_flow": null,
       "grid_auto_rows": null,
       "grid_column": null,
       "grid_gap": null,
       "grid_row": null,
       "grid_template_areas": null,
       "grid_template_columns": null,
       "grid_template_rows": null,
       "height": null,
       "justify_content": null,
       "justify_items": null,
       "left": null,
       "margin": null,
       "max_height": null,
       "max_width": null,
       "min_height": null,
       "min_width": null,
       "object_fit": null,
       "object_position": null,
       "order": null,
       "overflow": null,
       "padding": null,
       "right": null,
       "top": null,
       "visibility": null,
       "width": null
      }
     },
     "a7dbdfab38d34ff195159ca550c5c4e6": {
      "model_module": "@jupyter-widgets/controls",
      "model_module_version": "2.0.0",
      "model_name": "HTMLModel",
      "state": {
       "_dom_classes": [],
       "_model_module": "@jupyter-widgets/controls",
       "_model_module_version": "2.0.0",
       "_model_name": "HTMLModel",
       "_view_count": null,
       "_view_module": "@jupyter-widgets/controls",
       "_view_module_version": "2.0.0",
       "_view_name": "HTMLView",
       "description": "",
       "description_allow_html": false,
       "layout": "IPY_MODEL_dedb8f14ff4b4069a5e08e79a464bd55",
       "placeholder": "​",
       "style": "IPY_MODEL_32a370f748154d3cb666d48af022e0e3",
       "tabbable": null,
       "tooltip": null,
       "value": "100%"
      }
     },
     "a90f7d13cdff4f5ca983287639df03ce": {
      "model_module": "@jupyter-widgets/base",
      "model_module_version": "2.0.0",
      "model_name": "LayoutModel",
      "state": {
       "_model_module": "@jupyter-widgets/base",
       "_model_module_version": "2.0.0",
       "_model_name": "LayoutModel",
       "_view_count": null,
       "_view_module": "@jupyter-widgets/base",
       "_view_module_version": "2.0.0",
       "_view_name": "LayoutView",
       "align_content": null,
       "align_items": null,
       "align_self": null,
       "border_bottom": null,
       "border_left": null,
       "border_right": null,
       "border_top": null,
       "bottom": null,
       "display": null,
       "flex": null,
       "flex_flow": null,
       "grid_area": null,
       "grid_auto_columns": null,
       "grid_auto_flow": null,
       "grid_auto_rows": null,
       "grid_column": null,
       "grid_gap": null,
       "grid_row": null,
       "grid_template_areas": null,
       "grid_template_columns": null,
       "grid_template_rows": null,
       "height": null,
       "justify_content": null,
       "justify_items": null,
       "left": null,
       "margin": null,
       "max_height": null,
       "max_width": null,
       "min_height": null,
       "min_width": null,
       "object_fit": null,
       "object_position": null,
       "order": null,
       "overflow": null,
       "padding": null,
       "right": null,
       "top": null,
       "visibility": null,
       "width": null
      }
     },
     "b58b97b490184f34a4c5d046ad243552": {
      "model_module": "@jupyter-widgets/controls",
      "model_module_version": "2.0.0",
      "model_name": "HBoxModel",
      "state": {
       "_dom_classes": [],
       "_model_module": "@jupyter-widgets/controls",
       "_model_module_version": "2.0.0",
       "_model_name": "HBoxModel",
       "_view_count": null,
       "_view_module": "@jupyter-widgets/controls",
       "_view_module_version": "2.0.0",
       "_view_name": "HBoxView",
       "box_style": "",
       "children": [
        "IPY_MODEL_a7dbdfab38d34ff195159ca550c5c4e6",
        "IPY_MODEL_2556a49670fc437492f00faf29738caf",
        "IPY_MODEL_8262edba89ba4da8aeb352a6ee84ca50"
       ],
       "layout": "IPY_MODEL_d83004ed40a04df78b2222ec45e9f16f",
       "tabbable": null,
       "tooltip": null
      }
     },
     "be6c1ee8001c4f93b1c04681fcf001da": {
      "model_module": "@jupyter-widgets/controls",
      "model_module_version": "2.0.0",
      "model_name": "ProgressStyleModel",
      "state": {
       "_model_module": "@jupyter-widgets/controls",
       "_model_module_version": "2.0.0",
       "_model_name": "ProgressStyleModel",
       "_view_count": null,
       "_view_module": "@jupyter-widgets/base",
       "_view_module_version": "2.0.0",
       "_view_name": "StyleView",
       "bar_color": null,
       "description_width": ""
      }
     },
     "d83004ed40a04df78b2222ec45e9f16f": {
      "model_module": "@jupyter-widgets/base",
      "model_module_version": "2.0.0",
      "model_name": "LayoutModel",
      "state": {
       "_model_module": "@jupyter-widgets/base",
       "_model_module_version": "2.0.0",
       "_model_name": "LayoutModel",
       "_view_count": null,
       "_view_module": "@jupyter-widgets/base",
       "_view_module_version": "2.0.0",
       "_view_name": "LayoutView",
       "align_content": null,
       "align_items": null,
       "align_self": null,
       "border_bottom": null,
       "border_left": null,
       "border_right": null,
       "border_top": null,
       "bottom": null,
       "display": null,
       "flex": null,
       "flex_flow": null,
       "grid_area": null,
       "grid_auto_columns": null,
       "grid_auto_flow": null,
       "grid_auto_rows": null,
       "grid_column": null,
       "grid_gap": null,
       "grid_row": null,
       "grid_template_areas": null,
       "grid_template_columns": null,
       "grid_template_rows": null,
       "height": null,
       "justify_content": null,
       "justify_items": null,
       "left": null,
       "margin": null,
       "max_height": null,
       "max_width": null,
       "min_height": null,
       "min_width": null,
       "object_fit": null,
       "object_position": null,
       "order": null,
       "overflow": null,
       "padding": null,
       "right": null,
       "top": null,
       "visibility": null,
       "width": null
      }
     },
     "dedb8f14ff4b4069a5e08e79a464bd55": {
      "model_module": "@jupyter-widgets/base",
      "model_module_version": "2.0.0",
      "model_name": "LayoutModel",
      "state": {
       "_model_module": "@jupyter-widgets/base",
       "_model_module_version": "2.0.0",
       "_model_name": "LayoutModel",
       "_view_count": null,
       "_view_module": "@jupyter-widgets/base",
       "_view_module_version": "2.0.0",
       "_view_name": "LayoutView",
       "align_content": null,
       "align_items": null,
       "align_self": null,
       "border_bottom": null,
       "border_left": null,
       "border_right": null,
       "border_top": null,
       "bottom": null,
       "display": null,
       "flex": null,
       "flex_flow": null,
       "grid_area": null,
       "grid_auto_columns": null,
       "grid_auto_flow": null,
       "grid_auto_rows": null,
       "grid_column": null,
       "grid_gap": null,
       "grid_row": null,
       "grid_template_areas": null,
       "grid_template_columns": null,
       "grid_template_rows": null,
       "height": null,
       "justify_content": null,
       "justify_items": null,
       "left": null,
       "margin": null,
       "max_height": null,
       "max_width": null,
       "min_height": null,
       "min_width": null,
       "object_fit": null,
       "object_position": null,
       "order": null,
       "overflow": null,
       "padding": null,
       "right": null,
       "top": null,
       "visibility": null,
       "width": null
      }
     }
    },
    "version_major": 2,
    "version_minor": 0
   }
  }
 },
 "nbformat": 4,
 "nbformat_minor": 5
}