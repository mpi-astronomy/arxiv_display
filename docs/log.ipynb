{
 "cells": [
  {
   "cell_type": "markdown",
   "id": "92bcb855",
   "metadata": {
    "papermill": {
     "duration": 0.004009,
     "end_time": "2025-07-28T04:38:04.066151",
     "exception": false,
     "start_time": "2025-07-28T04:38:04.062142",
     "status": "completed"
    },
    "tags": []
   },
   "source": [
    "# MPIA Arxiv on Deck 2\n",
    "\n",
    "Contains the steps to produce the paper extractions."
   ]
  },
  {
   "cell_type": "code",
   "execution_count": 1,
   "id": "3a0d6e11",
   "metadata": {
    "execution": {
     "iopub.execute_input": "2025-07-28T04:38:04.073758Z",
     "iopub.status.busy": "2025-07-28T04:38:04.073484Z",
     "iopub.status.idle": "2025-07-28T04:38:04.307636Z",
     "shell.execute_reply": "2025-07-28T04:38:04.306896Z"
    },
    "papermill": {
     "duration": 0.239473,
     "end_time": "2025-07-28T04:38:04.309058",
     "exception": false,
     "start_time": "2025-07-28T04:38:04.069585",
     "status": "completed"
    },
    "tags": []
   },
   "outputs": [],
   "source": [
    "# Imports\n",
    "import os\n",
    "from IPython.display import Markdown, display\n",
    "from tqdm.notebook import tqdm\n",
    "import warnings\n",
    "from PIL import Image \n",
    "import re\n",
    "\n",
    "# requires arxiv_on_deck_2\n",
    "\n",
    "from arxiv_on_deck_2.arxiv2 import (get_new_papers, \n",
    "                                    get_paper_from_identifier,\n",
    "                                    retrieve_document_source, \n",
    "                                    get_markdown_badge)\n",
    "from arxiv_on_deck_2 import (latex,\n",
    "                             latex_bib,\n",
    "                             mpia,\n",
    "                             highlight_authors_in_list)\n",
    "\n",
    "# Sometimes images are really big\n",
    "Image.MAX_IMAGE_PIXELS = 1000000000 "
   ]
  },
  {
   "cell_type": "code",
   "execution_count": 2,
   "id": "22aa9d44",
   "metadata": {
    "execution": {
     "iopub.execute_input": "2025-07-28T04:38:04.316434Z",
     "iopub.status.busy": "2025-07-28T04:38:04.316216Z",
     "iopub.status.idle": "2025-07-28T04:38:04.324160Z",
     "shell.execute_reply": "2025-07-28T04:38:04.323496Z"
    },
    "papermill": {
     "duration": 0.012748,
     "end_time": "2025-07-28T04:38:04.325262",
     "exception": false,
     "start_time": "2025-07-28T04:38:04.312514",
     "status": "completed"
    },
    "tags": []
   },
   "outputs": [],
   "source": [
    "# Some useful definitions.\n",
    "\n",
    "class AffiliationWarning(UserWarning):\n",
    "    pass\n",
    "\n",
    "class AffiliationError(RuntimeError):\n",
    "    pass\n",
    "\n",
    "def validation(source: str):\n",
    "    \"\"\"Raises error paper during parsing of source file\n",
    "    \n",
    "    Allows checks before parsing TeX code.\n",
    "    \n",
    "    Raises AffiliationWarning\n",
    "    \"\"\"\n",
    "    check = mpia.affiliation_verifications(source, verbose=True)\n",
    "    if check is not True:\n",
    "        raise AffiliationError(\"mpia.affiliation_verifications: \" + check)\n",
    "\n",
    "        \n",
    "warnings.simplefilter('always', AffiliationWarning)\n",
    "\n",
    "\n",
    "def get_markdown_qrcode(paper_id: str):\n",
    "    \"\"\" Generate a qrcode to the arxiv page using qrserver.com\n",
    "    \n",
    "    :param paper: Arxiv paper\n",
    "    :returns: markdown text\n",
    "    \"\"\"\n",
    "    url = r\"https://api.qrserver.com/v1/create-qr-code/?size=100x100&data=\"\n",
    "    txt = f\"\"\"<img src={url}\"https://arxiv.org/abs/{paper_id}\">\"\"\"\n",
    "    txt = '<div id=\"qrcode\">' + txt + '</div>'\n",
    "    return txt\n",
    "\n",
    "\n",
    "def clean_non_western_encoded_characters_commands(text: str) -> str:\n",
    "    \"\"\" Remove non-western encoded characters from a string\n",
    "    List may need to grow.\n",
    "    \n",
    "    :param text: the text to clean\n",
    "    :return: the cleaned text\n",
    "    \"\"\"\n",
    "    text = re.sub(r\"(\\\\begin{CJK}{UTF8}{gbsn})(.*?)(\\\\end{CJK})\", r\"\\2\", text)\n",
    "    return text\n",
    "\n",
    "\n",
    "def get_initials(name: str) -> str:\n",
    "    \"\"\" Get the short name, e.g., A.-B. FamName\n",
    "    :param name: full name\n",
    "    :returns: initials\n",
    "    \"\"\"\n",
    "    initials = []\n",
    "    # account for non western names often in ()\n",
    "    if '(' in name:\n",
    "        name = clean_non_western_encoded_characters_commands(name)\n",
    "        suffix = re.findall(r\"\\((.*?)\\)\", name)[0]\n",
    "        name = name.replace(f\"({suffix})\", '')\n",
    "    else:\n",
    "        suffix = ''\n",
    "    split = name.split()\n",
    "    for token in split[:-1]:\n",
    "        if '-' in token:\n",
    "            current = '-'.join([k[0] + '.' for k in token.split('-')])\n",
    "        else:\n",
    "            current = token[0] + '.'\n",
    "        initials.append(current)\n",
    "    initials.append(split[-1].strip())\n",
    "    if suffix:\n",
    "        initials.append(f\"({suffix})\")\n",
    "    return ' '.join(initials)"
   ]
  },
  {
   "cell_type": "markdown",
   "id": "14bd6310",
   "metadata": {
    "papermill": {
     "duration": 0.002831,
     "end_time": "2025-07-28T04:38:04.330977",
     "exception": false,
     "start_time": "2025-07-28T04:38:04.328146",
     "status": "completed"
    },
    "tags": []
   },
   "source": [
    "## get list of arxiv paper candidates\n",
    "\n",
    "We use the MPIA mitarbeiter list webpage from mpia.de to get author names\n",
    "We then get all new papers from Arxiv and match authors"
   ]
  },
  {
   "cell_type": "code",
   "execution_count": 3,
   "id": "7ea813a8",
   "metadata": {
    "execution": {
     "iopub.execute_input": "2025-07-28T04:38:04.337651Z",
     "iopub.status.busy": "2025-07-28T04:38:04.337437Z",
     "iopub.status.idle": "2025-07-28T04:38:24.174524Z",
     "shell.execute_reply": "2025-07-28T04:38:24.173790Z"
    },
    "papermill": {
     "duration": 19.842022,
     "end_time": "2025-07-28T04:38:24.175853",
     "exception": false,
     "start_time": "2025-07-28T04:38:04.333831",
     "status": "completed"
    },
    "tags": []
   },
   "outputs": [],
   "source": [
    "# deal with the author list and edge cases of people that cannot be consistent on their name  \n",
    "\n",
    "def filter_non_scientists(name: str) -> bool:\n",
    "    \"\"\" Loose filter on expected authorships\n",
    "\n",
    "    removing IT, administration, technical staff\n",
    "    :param name: name\n",
    "    :returns: False if name is not a scientist\n",
    "    \"\"\"\n",
    "    remove_list = ['Licht', 'Binroth', 'Witzel', 'Jordan',\n",
    "                   'Zähringer', 'Scheerer', 'Hoffmann', 'Düe',\n",
    "                   'Hellmich', 'Enkler-Scharpegge', 'Witte-Nguy',\n",
    "                   'Dehen', 'Beckmann', 'Jager', 'Jäger'\n",
    "                  ]\n",
    "\n",
    "    for k in remove_list:\n",
    "        if k in name:\n",
    "            return False\n",
    "    return True\n",
    "\n",
    "def add_author_to_list(author_list: list) -> list:\n",
    "    \"\"\" Add author to list if not already in list\n",
    "    \n",
    "    :param author: author name\n",
    "    :param author_list: list of authors\n",
    "    :returns: updated list of authors\n",
    "    \"\"\"\n",
    "    add_list = ['T. Henning']\n",
    "\n",
    "    for author in add_list:\n",
    "        if author not in author_list:\n",
    "            author_list.append(author)\n",
    "    return author_list\n",
    "\n",
    "# get list from MPIA website\n",
    "# filter for non-scientists (mpia.get_mpia_mitarbeiter_list() does some filtering)\n",
    "mpia_authors = [k[1] for k in mpia.get_mpia_mitarbeiter_list() if filter_non_scientists(k[1])]\n",
    "# add some missing author because of inconsistencies in their MPIA name and author name on papers\n",
    "mpia_authors = add_author_to_list(mpia_authors)"
   ]
  },
  {
   "cell_type": "code",
   "execution_count": 4,
   "id": "2645e73a",
   "metadata": {
    "execution": {
     "iopub.execute_input": "2025-07-28T04:38:24.183153Z",
     "iopub.status.busy": "2025-07-28T04:38:24.182949Z",
     "iopub.status.idle": "2025-07-28T04:38:24.968491Z",
     "shell.execute_reply": "2025-07-28T04:38:24.967806Z"
    },
    "papermill": {
     "duration": 0.790247,
     "end_time": "2025-07-28T04:38:24.969534",
     "exception": false,
     "start_time": "2025-07-28T04:38:24.179287",
     "status": "completed"
    },
    "tags": []
   },
   "outputs": [
    {
     "name": "stdout",
     "output_type": "stream",
     "text": [
      "P. Mollière  ->  P. Mollière  |  ['P. Mollière']\n",
      "E. Matthews  ->  E. Matthews  |  ['E. Matthews']\n",
      "T. Henning  ->  T. Henning  |  ['T. Henning']\n",
      "M. Samland  ->  M. Samland  |  ['M. Samland']\n",
      "S. Scheithauer  ->  S. Scheithauer  |  ['S. Scheithauer']\n",
      "J. Bouwman  ->  J. Bouwman  |  ['J. Bouwman']\n",
      "T. Henning  ->  T. Henning  |  ['T. Henning']\n",
      "J. Shi  ->  J. Shi  |  ['J. Shi']\n",
      "Y. Wang  ->  Y. Wang  |  ['Y. Wang']\n",
      "J. Shi  ->  J. Shi  |  ['J. Shi']\n",
      "G. Chauvin  ->  G. Chauvin  |  ['G. Chauvin']\n"
     ]
    },
    {
     "name": "stdout",
     "output_type": "stream",
     "text": [
      "J. Liu  ->  J. Liu  |  ['J. Liu']\n",
      "E. Schinnerer  ->  E. Schinnerer  |  ['E. Schinnerer']\n",
      "D. Gleis  ->  D. Gleis  |  ['D. Gleis']\n",
      "A. Hughes  ->  A. Hughes  |  ['A. Hughes']\n",
      "Arxiv has 69 new papers today\n",
      "          9 with possible author matches\n"
     ]
    }
   ],
   "source": [
    "new_papers = get_new_papers()\n",
    "# add manual references\n",
    "add_paper_refs = []\n",
    "new_papers.extend([get_paper_from_identifier(k) for k in add_paper_refs])\n",
    "\n",
    "def robust_call(fn, value, *args, **kwargs):\n",
    "    try:\n",
    "        return fn(value, *args, **kwargs)\n",
    "    except Exception:\n",
    "        return value\n",
    "\n",
    "candidates = []\n",
    "for paperk in new_papers:\n",
    "    # Check author list with their initials\n",
    "    normed_author_list = [robust_call(mpia.get_initials, k) for k in paperk['authors']]\n",
    "    hl_authors = highlight_authors_in_list(normed_author_list, mpia_authors, verbose=True)\n",
    "    matches = [(hl, orig) for hl, orig in zip(hl_authors, paperk['authors']) if 'mark' in hl]\n",
    "    paperk['authors'] = hl_authors\n",
    "    if matches:\n",
    "        # only select paper if an author matched our list\n",
    "        candidates.append(paperk)\n",
    "print(\"\"\"Arxiv has {0:,d} new papers today\"\"\".format(len(new_papers)))        \n",
    "print(\"\"\"          {0:,d} with possible author matches\"\"\".format(len(candidates)))"
   ]
  },
  {
   "cell_type": "markdown",
   "id": "3543b34a",
   "metadata": {
    "papermill": {
     "duration": 0.003168,
     "end_time": "2025-07-28T04:38:24.976295",
     "exception": false,
     "start_time": "2025-07-28T04:38:24.973127",
     "status": "completed"
    },
    "tags": []
   },
   "source": [
    "# Parse sources and generate relevant outputs\n",
    "\n",
    "From the candidates, we do the following steps:\n",
    "* get their tarball from ArXiv (and extract data)\n",
    "* find the main .tex file: find one with \\documentclass{...} (sometimes it's non trivial)\n",
    "* Check affiliations with :func:`validation`, which uses :func:`mpia.affiliation_verifications`\n",
    "* If passing the affiliations: we parse the .tex source\n",
    "   * inject sub-documents into the main (flatten the main document)\n",
    "   * parse structure, extract information (title, abstract, authors, figures...)\n",
    "   * handles `\\graphicspath` if provided\n",
    "* Generate the .md document."
   ]
  },
  {
   "cell_type": "code",
   "execution_count": 5,
   "id": "9576b79e",
   "metadata": {
    "execution": {
     "iopub.execute_input": "2025-07-28T04:38:24.983422Z",
     "iopub.status.busy": "2025-07-28T04:38:24.983159Z",
     "iopub.status.idle": "2025-07-28T04:40:02.404415Z",
     "shell.execute_reply": "2025-07-28T04:40:02.403617Z"
    },
    "papermill": {
     "duration": 97.426128,
     "end_time": "2025-07-28T04:40:02.405507",
     "exception": false,
     "start_time": "2025-07-28T04:38:24.979379",
     "status": "completed"
    },
    "scrolled": false,
    "tags": []
   },
   "outputs": [
    {
     "data": {
      "application/vnd.jupyter.widget-view+json": {
       "model_id": "0e8ff332f911415189dd547209f3c89f",
       "version_major": 2,
       "version_minor": 0
      },
      "text/plain": [
       "  0%|          | 0/9 [00:00<?, ?it/s]"
      ]
     },
     "metadata": {},
     "output_type": "display_data"
    },
    {
     "name": "stdout",
     "output_type": "stream",
     "text": [
      "Retrieving document from  https://arxiv.org/e-print/2507.18691\n"
     ]
    },
    {
     "name": "stdout",
     "output_type": "stream",
     "text": [
      "extracting tarball to tmp_2507.18691... done.\n"
     ]
    },
    {
     "name": "stdout",
     "output_type": "stream",
     "text": [
      "Found 168 bibliographic references in tmp_2507.18691/main.bbl.\n",
      "Issues with the citations\n",
      "syntax error in line 46: '=' expected\n",
      "Retrieving document from  https://arxiv.org/e-print/2507.18722\n",
      "extracting tarball to tmp_2507.18722..."
     ]
    },
    {
     "name": "stdout",
     "output_type": "stream",
     "text": [
      " done.\n"
     ]
    },
    {
     "name": "stdout",
     "output_type": "stream",
     "text": [
      "J. Bouwman  ->  J. Bouwman  |  ['J. Bouwman']\n",
      "T. Henning  ->  T. Henning  |  ['T. Henning']\n"
     ]
    },
    {
     "name": "stdout",
     "output_type": "stream",
     "text": [
      "Found 144 bibliographic references in tmp_2507.18722/main.bbl.\n",
      "Retrieving document from  https://arxiv.org/e-print/2507.18753\n",
      "extracting tarball to tmp_2507.18753..."
     ]
    },
    {
     "name": "stdout",
     "output_type": "stream",
     "text": [
      " done.\n",
      "Retrieving document from  https://arxiv.org/e-print/2507.18783\n"
     ]
    },
    {
     "name": "stderr",
     "output_type": "stream",
     "text": [
      "/opt/hostedtoolcache/Python/3.9.23/x64/lib/python3.9/site-packages/IPython/core/interactiveshell.py:3550: LatexWarning: Multiple tex files.\n",
      "\n",
      "  exec(code_obj, self.user_global_ns, self.user_ns)\n",
      "/opt/hostedtoolcache/Python/3.9.23/x64/lib/python3.9/site-packages/IPython/core/interactiveshell.py:3550: LatexWarning: Found documentclass in tmp_2507.18753/ms_noline_nums.tex\n",
      "\n",
      "  exec(code_obj, self.user_global_ns, self.user_ns)\n"
     ]
    },
    {
     "name": "stdout",
     "output_type": "stream",
     "text": [
      "extracting tarball to tmp_2507.18783... done.\n",
      "Retrieving document from  https://arxiv.org/e-print/2507.18785\n",
      "extracting tarball to tmp_2507.18785..."
     ]
    },
    {
     "name": "stdout",
     "output_type": "stream",
     "text": [
      " done.\n",
      "Retrieving document from  https://arxiv.org/e-print/2507.18861\n",
      "Retrieving document from  https://arxiv.org/e-print/2507.19342\n"
     ]
    },
    {
     "name": "stderr",
     "output_type": "stream",
     "text": [
      "/tmp/ipykernel_3371/2822249172.py:52: LatexWarning: 2507.18861 did not run properly\n",
      "not a gzip file\n",
      "  warnings.warn(latex.LatexWarning(f\"{paper_id:s} did not run properly\\n\" +\n"
     ]
    },
    {
     "name": "stdout",
     "output_type": "stream",
     "text": [
      "extracting tarball to tmp_2507.19342... done.\n",
      "Retrieving document from  https://arxiv.org/e-print/2507.19439\n",
      "extracting tarball to tmp_2507.19439..."
     ]
    },
    {
     "name": "stdout",
     "output_type": "stream",
     "text": [
      " done.\n"
     ]
    },
    {
     "name": "stderr",
     "output_type": "stream",
     "text": [
      "/opt/hostedtoolcache/Python/3.9.23/x64/lib/python3.9/site-packages/arxiv_on_deck_2/latex.py:132: LatexWarning: attempting recovering figure Figures/Lineintensities_pixelbased_Allsigmas_0.0.png \n",
      "  warnings.warn(LatexWarning(f'attempting recovering figure {image}'))\n",
      "/opt/hostedtoolcache/Python/3.9.23/x64/lib/python3.9/site-packages/arxiv_on_deck_2/latex.py:707: LatexWarning: Could not find graphic \\includegraphics[width = 1\\textwidth]{Figures/Lineintensities_pixelbased_Allsigmas_0.0.png }\n",
      "  warnings.warn(LatexWarning(f\"Could not find graphic {k}\"))\n"
     ]
    },
    {
     "name": "stdout",
     "output_type": "stream",
     "text": [
      "Found 107 bibliographic references in tmp_2507.19439/aa54473-25.bbl.\n",
      "Error retrieving bib data for colombo_pdbi_2014: 'author'\n",
      "Retrieving document from  https://arxiv.org/e-print/2507.19480\n",
      "extracting tarball to tmp_2507.19480..."
     ]
    },
    {
     "name": "stdout",
     "output_type": "stream",
     "text": [
      " done.\n"
     ]
    }
   ],
   "source": [
    "documents = []\n",
    "failed = []\n",
    "for paper in tqdm(candidates):\n",
    "    # debug crap\n",
    "    paper['identifier'] = paper['identifier'].lower().replace('arxiv:', '').replace(r'\\n', '').strip()\n",
    "    paper_id = paper['identifier']\n",
    "    \n",
    "    folder = f'tmp_{paper_id}'\n",
    "\n",
    "    try:\n",
    "        if not os.path.isdir(folder):\n",
    "            folder = retrieve_document_source(f\"{paper_id}\", f'tmp_{paper_id}')\n",
    "        \n",
    "        try:\n",
    "            doc = latex.LatexDocument(folder, validation=validation)    \n",
    "        except AffiliationError as affilerror:\n",
    "            msg = f\"ArXiv:{paper_id:s} is not an MPIA paper... \" + str(affilerror)\n",
    "            failed.append((paper, \"affiliation error: \" + str(affilerror) ))\n",
    "            continue\n",
    "        \n",
    "        # Hack because sometimes author parsing does not work well\n",
    "        if (len(doc.authors) != len(paper['authors'])):\n",
    "            doc._authors = paper['authors']\n",
    "        else:\n",
    "            # highlight authors (FIXME: doc.highlight_authors)\n",
    "            # done on arxiv paper already\n",
    "            doc._authors = highlight_authors_in_list(\n",
    "                [get_initials(k) for k in doc.authors], \n",
    "                mpia_authors, verbose=True)\n",
    "        if (doc.abstract) in (None, ''):\n",
    "            doc._abstract = paper['abstract']\n",
    "            \n",
    "        doc.comment = (get_markdown_badge(paper_id) + \n",
    "                       \"<mark>Appeared on: \" + paper['date'] + \"</mark> - \")\n",
    "        if paper['comments']:\n",
    "            doc.comment += \" _\" + paper['comments'] + \"_\"\n",
    "        \n",
    "        full_md = doc.generate_markdown_text()\n",
    "        \n",
    "        full_md += get_markdown_qrcode(paper_id)\n",
    "        \n",
    "        # replace citations\n",
    "        try:\n",
    "            bibdata = latex_bib.LatexBib.from_doc(doc)\n",
    "            full_md = latex_bib.replace_citations(full_md, bibdata)\n",
    "        except Exception as e:\n",
    "            print(\"Issues with the citations\")\n",
    "            print(e)\n",
    "        \n",
    "        documents.append((paper_id, full_md))\n",
    "    except Exception as e:\n",
    "        warnings.warn(latex.LatexWarning(f\"{paper_id:s} did not run properly\\n\" +\n",
    "                                         str(e)\n",
    "                                        ))\n",
    "        failed.append((paper, \"latex error \" + str(e)))"
   ]
  },
  {
   "cell_type": "markdown",
   "id": "2505a25c",
   "metadata": {
    "papermill": {
     "duration": 0.00402,
     "end_time": "2025-07-28T04:40:02.413807",
     "exception": false,
     "start_time": "2025-07-28T04:40:02.409787",
     "status": "completed"
    },
    "tags": []
   },
   "source": [
    "### Export the logs\n",
    "\n",
    "Throughout, we also keep track of the logs per paper. see `logs-{today date}.md` "
   ]
  },
  {
   "cell_type": "code",
   "execution_count": 6,
   "id": "d733828a",
   "metadata": {
    "execution": {
     "iopub.execute_input": "2025-07-28T04:40:02.422619Z",
     "iopub.status.busy": "2025-07-28T04:40:02.422372Z",
     "iopub.status.idle": "2025-07-28T04:40:02.443790Z",
     "shell.execute_reply": "2025-07-28T04:40:02.443246Z"
    },
    "papermill": {
     "duration": 0.027102,
     "end_time": "2025-07-28T04:40:02.444799",
     "exception": false,
     "start_time": "2025-07-28T04:40:02.417697",
     "status": "completed"
    },
    "scrolled": false,
    "tags": []
   },
   "outputs": [
    {
     "data": {
      "text/markdown": [
       "## Successful papers"
      ],
      "text/plain": [
       "<IPython.core.display.Markdown object>"
      ]
     },
     "metadata": {},
     "output_type": "display_data"
    },
    {
     "data": {
      "text/markdown": [
       "\n",
       "|||\n",
       "|---:|:---|\n",
       "| [![arXiv](https://img.shields.io/badge/arXiv-2507.18691-b31b1b.svg)](https://arxiv.org/abs/2507.18691) | **Evidence for SiO cloud nucleation in the rogue planet PSO J318**  |\n",
       "|| <mark>P. Mollière</mark>, et al. -- incl., <mark>E. Matthews</mark>, <mark>T. Henning</mark>, <mark>M. Samland</mark>, <mark>S. Scheithauer</mark> |\n",
       "|*Appeared on*| *2025-07-28*|\n",
       "|*Comments*| *30 pages, 9 figures, accepted for publication in A&A*|\n",
       "|**Abstract**|            Silicate clouds are known to significantly impact the spectra of late L-type brown dwarfs, with observable absorption features at ~ 10 micron. JWST has reopened our window to the mid-infrared with unprecedented sensitivity, bringing the characterization of silicates into focus again. Using JWST, we characterize the planetary-mass brown dwarf PSO J318.5338-22.8603, concentrating on any silicate cloud absorption the object may exhibit. PSO J318's spectrum is extremely red, and its flux is variable, both of which are likely hallmarks of cloud absorption. We present JWST NIRSpec PRISM, G395H, and MIRI MRS observations from 1-18 micron. We introduce a method based on PSO J318's brightness temperature to generate a list of cloud species that are likely present in its atmosphere. We then test for their presence with petitRADTRANS retrievals. Using retrievals and grids from various climate models, we derive bulk parameters from PSO J318's spectra, which are mutually compatible. Our retrieval results point to a solar to slightly super-solar atmospheric C/O, a slightly super-solar metallicity, and a 12C/13C below ISM values. The atmospheric gravity proves difficult to constrain for both retrievals and grid models. Retrievals describing the flux of PSO J318 by mixing two 1-D models (``two-column models'') appear favored over single-column models; this is consistent with PSO J318's variability. The JWST spectra also reveal a pronounced absorption feature at 10 micron. This absorption is best reproduced by introducing a high-altitude cloud layer of small (<0.1 micron), amorphous SiO grains. The retrieved particle size and location of the cloud is consistent with SiO condensing as cloud seeding nuclei. High-altitude clouds comprised of small SiO particles have been suggested in previous studies, therefore the SiO nucleation we potentially observe in PSO J318 could be a more wide-spread phenomenon.         |"
      ],
      "text/plain": [
       "[2507.18691] Evidence for SiO cloud nucleation in the rogue planet PSO J318\n",
       "\t<mark>P. Mollière</mark>, et al. -- incl., <mark>E. Matthews</mark>, <mark>T. Henning</mark>, <mark>M. Samland</mark>, <mark>S. Scheithauer</mark>"
      ]
     },
     "metadata": {},
     "output_type": "display_data"
    },
    {
     "data": {
      "text/markdown": [
       "\n",
       "|||\n",
       "|---:|:---|\n",
       "| [![arXiv](https://img.shields.io/badge/arXiv-2507.18722-b31b1b.svg)](https://arxiv.org/abs/2507.18722) | **Detection of CO$_2$, CO, and H$_2$O in the atmosphere of the warm sub-Saturn HAT-P-12b**  |\n",
       "|| N. Crouzet, et al. -- incl., <mark>J. Bouwman</mark>, <mark>T. Henning</mark> |\n",
       "|*Appeared on*| *2025-07-28*|\n",
       "|*Comments*| *22 pages, 16 figures, A&A, accepted*|\n",
       "|**Abstract**|            The chemical composition of warm gas giant exoplanet atmospheres (with Teq < 1000 K) is not well known due to the lack of observational constraints. HAT-P-12 b is a warm, sub-Saturn-mass transiting exoplanet that is ideal for transmission spectroscopy. One transit of HAT-P-12 b was observed with JWST NIRSpec in the 2.87-5.10 $\\mu$m range with a resolving power of $\\sim$1000. The JWST data are combined with archival observations from HST WFC3 covering the 1.1-1.7 $\\mu$m range. The data are analysed using two data reduction pipelines and two atmospheric retrieval tools. Atmospheric simulations using chemical forward models are performed. CO2, CO, and H2O are detected at 12.2, 4.1, and 6.0 $\\sigma$ confidence, respectively. Their volume mixing ratios are consistent with an atmosphere of $\\sim$10 times solar metallicity and production of CO2 by photochemistry. CH4 is not detected and seems to be lacking, which could be due to a high intrinsic temperature with strong vertical mixing or other phenomena. SO2 is also not detected and its production seems limited by low upper atmospheric temperatures ($\\sim$500 K at $P<10^{-3}$ bar inferred from 1D retrievals), insufficient to produce it in detectable quantities ($\\gtrsim$ 800 K required according to photochemical models). Retrievals indicate the presence of clouds between $10^{-1}$ and $10^{-3}$ bar. This study points towards an atmosphere for HAT-P-12 b that could be enriched in carbon and oxygen with respect to its host star. When including the production of CO2 via photochemistry, an atmospheric metallicity that is close to Saturn's can explain the observations. Metallicities inferred for other gas giant exoplanets based on their CO2 mixing ratios may need to account for its photochemical production pathways. This may impact studies on mass-metallicity trends and links between exoplanet atmospheres, interiors, and formation history.         |"
      ],
      "text/plain": [
       "[2507.18722] Detection of CO$_2$, CO, and H$_2$O in the atmosphere of the warm sub-Saturn HAT-P-12b\n",
       "\tN. Crouzet, et al. -- incl., <mark>J. Bouwman</mark>, <mark>T. Henning</mark>"
      ]
     },
     "metadata": {},
     "output_type": "display_data"
    },
    {
     "data": {
      "text/markdown": [
       "\n",
       "|||\n",
       "|---:|:---|\n",
       "| [![arXiv](https://img.shields.io/badge/arXiv-2507.19439-b31b1b.svg)](https://arxiv.org/abs/2507.19439) | **The SWAN view of dense gas in the Whirlpool -- A cloud-scale comparison of N2H+, HCO+, HNC and HCN emission in M51**  |\n",
       "|| S. K. Stuber, et al. -- incl., <mark>E. Schinnerer</mark>, <mark>D. Gleis</mark> |\n",
       "|*Appeared on*| *2025-07-28*|\n",
       "|*Comments*| *Accepted for publication in A&A*|\n",
       "|**Abstract**|            Tracing dense molecular gas, the fuel for star formation, is essential for the understanding of the evolution of molecular clouds and star formation processes. We compare the emission of HCN(1-0), HNC(1-0) and HCO+(1-0) with the emission of N2H+(1-0) at cloud-scales (125 pc) across the central 5x7 kpc of the Whirlpool galaxy, M51a, from \"Surveying the Whirlpool galaxy at Arcseconds with NOEMA\" (SWAN). We find that the integrated intensities of HCN, HNC and HCO+ are more steeply correlated with N2H+ emission compared to the bulk molecular gas tracer CO, and we find variations in this relation across the center, molecular ring, northern and southern disk of M51. Compared to HCN and HNC emission, the HCO+ emission follows the N2H+ emission more similarly across the environments and physical conditions such as surface densities of molecular gas, stellar mass, star-formation rate, dynamical equilibrium pressure and radius. Under the assumption that N2H+ is a fair tracer of dense gas at these scales, this makes HCO+ a more favorable dense gas tracer than HCN within the inner disk of M51. In all environments within our field of view, even when removing the central 2 kpc, HCN/CO, commonly used to trace average cloud density, is only weakly depending on molecular gas mass surface density. While ratios of other dense gas lines to CO show a steeper dependency on the surface density of molecular gas, it is still shallow in comparison to other nearby star-forming disk galaxies. The reasons might be physical conditions in M51 that are different from other normal star-forming galaxies. Increased ionization rates, increased dynamical equilibrium pressure in the central few kpc and the impact of the dwarf companion galaxy NGC 5195 are proposed mechanisms that might enhance HCN and HNC emission over HCO+ and N2H+ emission at larger-scale environments and cloud scales.         |"
      ],
      "text/plain": [
       "[2507.19439] The SWAN view of dense gas in the Whirlpool -- A cloud-scale comparison of N2H+, HCO+, HNC and HCN emission in M51\n",
       "\tS. K. Stuber, et al. -- incl., <mark>E. Schinnerer</mark>, <mark>D. Gleis</mark>"
      ]
     },
     "metadata": {},
     "output_type": "display_data"
    },
    {
     "data": {
      "text/markdown": [
       "## Failed papers"
      ],
      "text/plain": [
       "<IPython.core.display.Markdown object>"
      ]
     },
     "metadata": {},
     "output_type": "display_data"
    },
    {
     "data": {
      "text/markdown": [
       "\n",
       "|||\n",
       "|---:|:---|\n",
       "| [![arXiv](https://img.shields.io/badge/arXiv-2507.18753-b31b1b.svg)](https://arxiv.org/abs/2507.18753) | **JWST Observations of SN 2024ggi I: Interpretation and Model Comparison of the Type II Supernova 2024ggi at 55 days Past Explosion**  |\n",
       "|| E. Baron, et al. -- incl., <mark>J. Shi</mark> |\n",
       "|*Appeared on*| *2025-07-28*|\n",
       "|*Comments*| *22 pages, 14 figures, 3 tables, submitted to ApjL*|\n",
       "|**Abstract**|            We present panchromatic 0.4-21 microns observations of the nearby (~7.2 Mpc) Type II supernova 2024ggi, obtained during the plateau phase at ~55 d past explosion. Our dataset includes JWST spectra spanning 1.7-14 microns, MIR imaging at 7.7 and 21 microns, and near-simultaneous ground-based optical and NIR spectra covering 0.32-1.8 microns. The NIR and MIR spectral features of SN 2024ggi are dominated by HI emission. We present line IDs and a toy PHOENIX/1D model that reproduces the observations well, especially the continuum redward of 0.9 microns We compare SN 2024ggi to SN 2022acko and SN 2023ixf, two other Type II supernovae that were also observed by JWST, and highlight key similarities and differences in their spectral features. No evidence for a MIR excess or dust is found at these epochs, with the model matching the observed flux out to 21 microns. We discuss the model's shortcomings, focusing on the density profile, which suppresses line blanketing and produces features in the optical that are too narrow. Our results show the power of panchromatic studies in both exploring the nature of the SN ejecta and constraining detailed models of SNe.         |\n",
       "|<p style=\"color:green\"> **ERROR** </p>| <p style=\"color:green\">affiliation error: mpia.affiliation_verifications: 'Heidelberg' keyword not found.</p> |"
      ],
      "text/plain": [
       "<IPython.core.display.Markdown object>"
      ]
     },
     "metadata": {},
     "output_type": "display_data"
    },
    {
     "data": {
      "text/markdown": [
       "\n",
       "|||\n",
       "|---:|:---|\n",
       "| [![arXiv](https://img.shields.io/badge/arXiv-2507.18783-b31b1b.svg)](https://arxiv.org/abs/2507.18783) | **SVOM GRB 250314A at z $\\simeq$ 7.3: an exploding star in the era of reionization**  |\n",
       "|| B. Cordier, et al. -- incl., <mark>Y. Wang</mark> |\n",
       "|*Appeared on*| *2025-07-28*|\n",
       "|*Comments*| *12 pages, 11 Figures, 5 Tables, submitted to A&AL*|\n",
       "|**Abstract**|            Most long Gamma-ray bursts originate from a rare type of massive stellar explosion. Their afterglows, while rapidly fading, can be initially extremely luminous at optical/near-infrared wavelengths, making them detectable at large cosmological distances. Here we report the detection and observations of GRB 250314A by the SVOM satellite and the subsequent follow-up campaign with the near-infrared afterglow discovery and the spectroscopic measurements of its redshift z $\\simeq$ 7.3 . This burst happened when the Universe was only $\\sim$ 5% of its current age. We discuss the signature of these rare events within the context of the SVOM operating model, and the ways to optimize their identification with adapted ground follow-up observation strategies.         |\n",
       "|<p style=\"color:green\"> **ERROR** </p>| <p style=\"color:green\">affiliation error: mpia.affiliation_verifications: 'Heidelberg' keyword not found.</p> |"
      ],
      "text/plain": [
       "<IPython.core.display.Markdown object>"
      ]
     },
     "metadata": {},
     "output_type": "display_data"
    },
    {
     "data": {
      "text/markdown": [
       "\n",
       "|||\n",
       "|---:|:---|\n",
       "| [![arXiv](https://img.shields.io/badge/arXiv-2507.18785-b31b1b.svg)](https://arxiv.org/abs/2507.18785) | **JWST Observations of SN 2023ixf I: Completing the Early Multi-Wavelength Picture with Plateau-phase Spectroscopy**  |\n",
       "|| J. M. DerKacy, et al. -- incl., <mark>J. Shi</mark> |\n",
       "|*Appeared on*| *2025-07-28*|\n",
       "|*Comments*| *20 pages, 10 figures, submitted to ApJ*|\n",
       "|**Abstract**|            We present and analyze panchromatic (0.35-14 $\\mu$m) spectroscopy of the Type II supernova 2023ixf, including near- and mid-infrared spectra obtained 33.6 days after explosion during the plateau-phase, with the James Webb Space Telescope (JWST). This is the first in a series of papers examining the evolution of SN 2023ixf with JWST spanning the initial 1000 days after explosion, monitoring the formation and growth of molecules and dust in ejecta and surrounding environment. The JWST infrared spectra are overwhelmingly dominated by H lines, whose profiles reveal ejecta structures unseen in optical spectra. We characterize the nature of these structures, concluding that they likely result from a combination of ejecta geometry, viewing angle, and opacity effects. We find no evidence for the formation of dust precursor molecules such as carbon-monoxide (CO), nor do we observe an infrared excess attributable to dust. These observations imply that any future signatures of molecules or dust in SN 2023ixf will arise either from freshly synthesized material within the ejecta or circumstellar material at radii not yet heated by the supernova at this epoch.         |\n",
       "|<p style=\"color:green\"> **ERROR** </p>| <p style=\"color:green\">affiliation error: mpia.affiliation_verifications: 'Heidelberg' keyword not found.</p> |"
      ],
      "text/plain": [
       "<IPython.core.display.Markdown object>"
      ]
     },
     "metadata": {},
     "output_type": "display_data"
    },
    {
     "data": {
      "text/markdown": [
       "\n",
       "|||\n",
       "|---:|:---|\n",
       "| [![arXiv](https://img.shields.io/badge/arXiv-2507.19342-b31b1b.svg)](https://arxiv.org/abs/2507.19342) | **A Truncated Primordial Power Spectrum and its Impact on CMB Polarization**  |\n",
       "|| <mark>J. Liu</mark>, F. Melia |\n",
       "|*Appeared on*| *2025-07-28*|\n",
       "|*Comments*| *19 pages, 24 figures*|\n",
       "|**Abstract**|            We investigate the impact of a hypothesized delayed initiation of inflation, characterized by a cutoff k_min to the primordial power spectrum in the cosmic microwave background (CMB). This cutoff affects both the scalar and tensor spectra, which therefore impacts several measurements of the temperature and polarization distributions. We calculate the angular power spectrum and correlation function with and without k_min in the context of Planck-LCDM, and demonstrate that a non-zero k_min significantly improves the alignment between theory and the observations, including the temperature, E-mode polarization, TE cross-correlation, Q+U polarization and Q-U polarization. It creates an observable signature in both the angular power spectrum and correlation function for all cases. We thus also explore the B-mode polarization, for which current data are not yet precise enough to determine k_min, but whose impact should be detectable with high-precision measurements using future missions, such as LiteBIRD, if the tensor-to-scalar ratio, r, is not much smaller than its current upper limit. We find that the introduction of k_min not only addresses large-angle anomalies in the CMB but also provides a more consistent framework for understanding the early Universe's inflationary phase. These findings highlight the importance of future high-precision CMB observations in validating the existence and implications of k_min.         |\n",
       "|<p style=\"color:green\"> **ERROR** </p>| <p style=\"color:green\">affiliation error: mpia.affiliation_verifications: 'Heidelberg' keyword not found.</p> |"
      ],
      "text/plain": [
       "<IPython.core.display.Markdown object>"
      ]
     },
     "metadata": {},
     "output_type": "display_data"
    },
    {
     "data": {
      "text/markdown": [
       "\n",
       "|||\n",
       "|---:|:---|\n",
       "| [![arXiv](https://img.shields.io/badge/arXiv-2507.19480-b31b1b.svg)](https://arxiv.org/abs/2507.19480) | **Tracers of the ionization fraction in dense and translucent molecular gas: II. Using mm observations to constrain ionization fraction across Orion B**  |\n",
       "|| I. Bešlić, et al. -- incl., <mark>A. Hughes</mark> |\n",
       "|*Appeared on*| *2025-07-28*|\n",
       "|*Comments*| *Accepted for publication to Astronomy and Astrophysics*|\n",
       "|**Abstract**|            The ionization fraction ($f_\\mathrm{e}=n_\\mathrm{e}/n_\\mathrm{H}$) is a crucial parameter of interstellar gas, yet estimating it requires deep knowledge of molecular gas chemistry and observations of specific lines, such as those from isotopologs like HCO$^+$ and N$_2$H$^+$, which are detectable only in dense cores. Previous challenges in constraining $f_\\mathrm{e}$ over large areas stemmed from the limitations of observational tracers and chemical models. Recent models have identified molecular line ratios that can trace $f_\\mathrm{e}$ in different environments within molecular clouds. In this study, we analyze various molecular lines in the 3-4 mm range to derive the ionization fraction across the Orion B giant molecular cloud. We focus on dense and translucent gas, exploring variations with gas density ($n$) and the far-ultraviolet (FUV) radiation field ($G_0$). Our findings show that the ionization fraction ranges from $10^{-5.5}$ to $10^{-4}$ in translucent gas and $10^{-8}$ to $10^{-6}$ in dense gas. Notably, $f_\\mathrm{e}$ is sensitive to $G_0$ in dense, UV-illuminated regions, decreasing with increasing volume density ($f_\\mathrm{e} \\propto n^{-0.227}$ for dense and $f_\\mathrm{e} \\propto n^{-0.3}$ for translucent gas) and increasing with $G_0$. In translucent gas, differing line ratios yield consistent fe values, indicating the importance of electron excitation of HCN and HNC. For dense gas, we recommend using the CN(1-0)/N$_2$H$^+$(1-0) ratio for upper limits on fe and C$^{18}$O(1-0)/HCO$^+$(1-0) for lower limits. In translucent environments, CCH(1-0)/HNC(1-0) effectively traces $f_\\mathrm{e}$. The higher fe values in translucent gas align with the C$^+$/CI/CO transition, while values in dense gas are adequate for coupling with the magnetic field.         |\n",
       "|<p style=\"color:green\"> **ERROR** </p>| <p style=\"color:green\">affiliation error: mpia.affiliation_verifications: 'Heidelberg' keyword not found.</p> |"
      ],
      "text/plain": [
       "<IPython.core.display.Markdown object>"
      ]
     },
     "metadata": {},
     "output_type": "display_data"
    },
    {
     "data": {
      "text/markdown": [
       "\n",
       "|||\n",
       "|---:|:---|\n",
       "| [![arXiv](https://img.shields.io/badge/arXiv-2507.18861-b31b1b.svg)](https://arxiv.org/abs/2507.18861) | **Silicate clouds and a circumplanetary disk in the YSES-1 exoplanet system**  |\n",
       "|| K. K. W. Hoch, et al. -- incl., <mark>G. Chauvin</mark> |\n",
       "|*Appeared on*| *2025-07-28*|\n",
       "|*Comments*| *3 tables, 10 figures, 31 pages, Nature, Vol 643, pages 938-942, 24 July 2025*|\n",
       "|**Abstract**|            Young exoplanets provide a critical link between understanding planet formation and atmospheric evolution. Direct imaging spectroscopy allows us to infer the properties of young, wide orbit, giant planets with high signal-to-noise. This allows us to compare this young population to exoplanets characterized with transmission spectroscopy, which has indirectly revealed the presence of clouds, photochemistry, and a diversity of atmospheric compositions. Direct detections have also been made for brown dwarfs, but direct studies of young giant planets in the mid-infrared were not possible prior to JWST. With two exoplanets around a solar type star, the YSES-1 system is an ideal laboratory for studying this early phase of exoplanet evolution. We report the first direct observations of silicate clouds in the atmosphere of the exoplanet YSES-1 c through its 9-11 micron absorption feature, and the first circumplanetary disk silicate emission around its sibling planet, YSES-1 b. The clouds of YSES-1 c are composed of either amorphous iron-enriched pyroxene or a combination of amorphous MgSiO3 and Mg2SiO4, with particle sizes of less than or equal to 0.1 micron at 1 millibar of pressure. We attribute the emission from the disk around YSES-1 b to be from submicron olivine dust grains, which may have formed through collisions of planet-forming bodies in the disk.         |\n",
       "|<p style=\"color:red\"> **ERROR** </p>| <p style=\"color:red\">latex error not a gzip file</p> |"
      ],
      "text/plain": [
       "<IPython.core.display.Markdown object>"
      ]
     },
     "metadata": {},
     "output_type": "display_data"
    }
   ],
   "source": [
    "import datetime\n",
    "today = str(datetime.date.today())\n",
    "logfile = f\"_build/html/logs/log-{today}.md\"\n",
    "\n",
    "\n",
    "with open(logfile, 'w') as logs:\n",
    "    # Success\n",
    "    logs.write(f'# Arxiv on Deck 2: Logs - {today}\\n\\n')\n",
    "    logs.write(\"\"\"* Arxiv had {0:,d} new papers\\n\"\"\".format(len(new_papers)))\n",
    "    logs.write(\"\"\"    * {0:,d} with possible author matches\\n\\n\"\"\".format(len(candidates)))\n",
    "    logs.write(\"## Sucessful papers\\n\\n\")\n",
    "    display(Markdown(\"## Successful papers\"))\n",
    "    success = [k[0] for k in documents]\n",
    "    for candid in candidates:\n",
    "        if candid['identifier'].split(':')[-1] in success:\n",
    "            display(candid)\n",
    "            logs.write(candid.generate_markdown_text() + '\\n\\n')\n",
    "\n",
    "    ## failed\n",
    "    logs.write(\"## Failed papers\\n\\n\")\n",
    "    display(Markdown(\"## Failed papers\"))\n",
    "    failed = sorted(failed, key=lambda x: x[1])\n",
    "    current_reason = \"\"\n",
    "    for paper, reason in failed:\n",
    "        if 'affiliation' in reason:\n",
    "            color = 'green'\n",
    "        else:\n",
    "            color = 'red'\n",
    "        data = Markdown(\n",
    "                paper.generate_markdown_text() + \n",
    "                f'\\n|<p style=\"color:{color:s}\"> **ERROR** </p>| <p style=\"color:{color:s}\">{reason:s}</p> |'\n",
    "               )\n",
    "        if reason != current_reason:\n",
    "            logs.write(f'### {reason:s} \\n\\n')\n",
    "            current_reason = reason\n",
    "        logs.write(data.data + '\\n\\n')\n",
    "        \n",
    "        # only display here the important errors (all in logs)\n",
    "        # if color in ('red',):\n",
    "        display(data)"
   ]
  },
  {
   "cell_type": "markdown",
   "id": "472d20ee",
   "metadata": {
    "papermill": {
     "duration": 0.004971,
     "end_time": "2025-07-28T04:40:02.455425",
     "exception": false,
     "start_time": "2025-07-28T04:40:02.450454",
     "status": "completed"
    },
    "tags": []
   },
   "source": [
    "## Export documents\n",
    "\n",
    "We now write the .md files and export relevant images"
   ]
  },
  {
   "cell_type": "code",
   "execution_count": 7,
   "id": "d426aed9",
   "metadata": {
    "execution": {
     "iopub.execute_input": "2025-07-28T04:40:02.466357Z",
     "iopub.status.busy": "2025-07-28T04:40:02.466119Z",
     "iopub.status.idle": "2025-07-28T04:40:02.472852Z",
     "shell.execute_reply": "2025-07-28T04:40:02.472330Z"
    },
    "papermill": {
     "duration": 0.013197,
     "end_time": "2025-07-28T04:40:02.473818",
     "exception": false,
     "start_time": "2025-07-28T04:40:02.460621",
     "status": "completed"
    },
    "tags": []
   },
   "outputs": [],
   "source": [
    "def export_markdown_summary(md: str, md_fname:str, directory: str):\n",
    "    \"\"\"Export MD document and associated relevant images\"\"\"\n",
    "    import os\n",
    "    import shutil\n",
    "    import re\n",
    "\n",
    "    if (os.path.exists(directory) and not os.path.isdir(directory)):\n",
    "        raise RuntimeError(f\"a non-directory file exists with name {directory:s}\")\n",
    "\n",
    "    if (not os.path.exists(directory)):\n",
    "        print(f\"creating directory {directory:s}\")\n",
    "        os.mkdir(directory)\n",
    "\n",
    "    fig_fnames = (re.compile(r'\\[Fig.*\\]\\((.*)\\)').findall(md) + \n",
    "                  re.compile(r'\\<img src=\"([^>\\s]*)\"[^>]*/>').findall(md))\n",
    "    print(\"found figures\", fig_fnames)\n",
    "    for fname in fig_fnames:\n",
    "        if 'http' in fname:\n",
    "            # No need to copy online figures\n",
    "            continue\n",
    "        if not os.path.exists(fname):\n",
    "            print(\"file not found\", fname)\n",
    "            continue\n",
    "        print(\"copying \", fname, \"to\", directory)\n",
    "        destdir = os.path.join(directory, os.path.dirname(fname))\n",
    "        destfname = os.path.join(destdir, os.path.basename(fname))\n",
    "        try:\n",
    "            os.makedirs(destdir)\n",
    "        except FileExistsError:\n",
    "            pass\n",
    "        shutil.copy(fname, destfname)\n",
    "    with open(os.path.join(directory, md_fname), 'w') as fout:\n",
    "        fout.write(md)\n",
    "    print(\"exported in \", os.path.join(directory, md_fname))\n",
    "    [print(\"    + \" + os.path.join(directory,fk)) for fk in fig_fnames]"
   ]
  },
  {
   "cell_type": "code",
   "execution_count": 8,
   "id": "014d04a4",
   "metadata": {
    "execution": {
     "iopub.execute_input": "2025-07-28T04:40:02.484731Z",
     "iopub.status.busy": "2025-07-28T04:40:02.484546Z",
     "iopub.status.idle": "2025-07-28T04:40:02.498011Z",
     "shell.execute_reply": "2025-07-28T04:40:02.497456Z"
    },
    "papermill": {
     "duration": 0.020004,
     "end_time": "2025-07-28T04:40:02.498990",
     "exception": false,
     "start_time": "2025-07-28T04:40:02.478986",
     "status": "completed"
    },
    "tags": []
   },
   "outputs": [
    {
     "name": "stdout",
     "output_type": "stream",
     "text": [
      "found figures ['tmp_2507.18691/./all_retrieval_spectra.png', 'tmp_2507.18691/./data_figure.png', 'tmp_2507.18691/./cloud_shape_fits_appendix_corrected_only_full_1.png']\n",
      "copying  tmp_2507.18691/./all_retrieval_spectra.png to _build/html/\n",
      "copying  tmp_2507.18691/./data_figure.png to _build/html/\n",
      "copying  tmp_2507.18691/./cloud_shape_fits_appendix_corrected_only_full_1.png to _build/html/\n",
      "exported in  _build/html/2507.18691.md\n",
      "    + _build/html/tmp_2507.18691/./all_retrieval_spectra.png\n",
      "    + _build/html/tmp_2507.18691/./data_figure.png\n",
      "    + _build/html/tmp_2507.18691/./cloud_shape_fits_appendix_corrected_only_full_1.png\n",
      "found figures ['tmp_2507.18722/./figures/HAT-P-12b_transmission_spectra.png', 'tmp_2507.18722/./figures/comp_prob_dis.png', 'tmp_2507.18722/./figures/HAT-P-12b-chemistryresults.png']\n",
      "copying  tmp_2507.18722/./figures/HAT-P-12b_transmission_spectra.png to _build/html/\n",
      "copying  tmp_2507.18722/./figures/comp_prob_dis.png to _build/html/\n",
      "copying  tmp_2507.18722/./figures/HAT-P-12b-chemistryresults.png to _build/html/\n",
      "exported in  _build/html/2507.18722.md\n",
      "    + _build/html/tmp_2507.18722/./figures/HAT-P-12b_transmission_spectra.png\n",
      "    + _build/html/tmp_2507.18722/./figures/comp_prob_dis.png\n",
      "    + _build/html/tmp_2507.18722/./figures/HAT-P-12b-chemistryresults.png\n",
      "found figures ['tmp_2507.19439/./Figures/Gallery_w_hist.png', 'tmp_2507.19439/./Figures/Gallery_Lineratios_w_Histograms_divnorm_histomedian_bwr_n2hpcontours.png', 'tmp_2507.19439/./Figures/Intensitiesaverage_Alllines_noAGN_0.0_Allsigmas.png']\n",
      "copying  tmp_2507.19439/./Figures/Gallery_w_hist.png to _build/html/\n",
      "copying  tmp_2507.19439/./Figures/Gallery_Lineratios_w_Histograms_divnorm_histomedian_bwr_n2hpcontours.png to _build/html/\n",
      "copying  tmp_2507.19439/./Figures/Intensitiesaverage_Alllines_noAGN_0.0_Allsigmas.png to _build/html/\n",
      "exported in  _build/html/2507.19439.md\n",
      "    + _build/html/tmp_2507.19439/./Figures/Gallery_w_hist.png\n",
      "    + _build/html/tmp_2507.19439/./Figures/Gallery_Lineratios_w_Histograms_divnorm_histomedian_bwr_n2hpcontours.png\n",
      "    + _build/html/tmp_2507.19439/./Figures/Intensitiesaverage_Alllines_noAGN_0.0_Allsigmas.png\n"
     ]
    }
   ],
   "source": [
    "for paper_id, md in documents:\n",
    "    export_markdown_summary(md, f\"{paper_id:s}.md\", '_build/html/')"
   ]
  },
  {
   "cell_type": "markdown",
   "id": "f087a0a7",
   "metadata": {
    "papermill": {
     "duration": 0.005128,
     "end_time": "2025-07-28T04:40:02.509277",
     "exception": false,
     "start_time": "2025-07-28T04:40:02.504149",
     "status": "completed"
    },
    "tags": []
   },
   "source": [
    "## Display the papers\n",
    "\n",
    "Not necessary but allows for a quick check."
   ]
  },
  {
   "cell_type": "code",
   "execution_count": 9,
   "id": "fd25f625",
   "metadata": {
    "execution": {
     "iopub.execute_input": "2025-07-28T04:40:02.520865Z",
     "iopub.status.busy": "2025-07-28T04:40:02.520593Z",
     "iopub.status.idle": "2025-07-28T04:40:02.528509Z",
     "shell.execute_reply": "2025-07-28T04:40:02.527813Z"
    },
    "papermill": {
     "duration": 0.014986,
     "end_time": "2025-07-28T04:40:02.529601",
     "exception": false,
     "start_time": "2025-07-28T04:40:02.514615",
     "status": "completed"
    },
    "scrolled": false,
    "tags": []
   },
   "outputs": [
    {
     "data": {
      "text/markdown": [
       "<div class=\"macros\" style=\"visibility:hidden;\">\n",
       "$\\newcommand{\\ensuremath}{}$\n",
       "$\\newcommand{\\xspace}{}$\n",
       "$\\newcommand{\\object}[1]{\\texttt{#1}}$\n",
       "$\\newcommand{\\farcs}{{.}''}$\n",
       "$\\newcommand{\\farcm}{{.}'}$\n",
       "$\\newcommand{\\arcsec}{''}$\n",
       "$\\newcommand{\\arcmin}{'}$\n",
       "$\\newcommand{\\ion}[2]{#1#2}$\n",
       "$\\newcommand{\\textsc}[1]{\\textrm{#1}}$\n",
       "$\\newcommand{\\hl}[1]{\\textrm{#1}}$\n",
       "$\\newcommand{\\footnote}[1]{}$\n",
       "$\\newcommand{\\rch}[1]{{{\\color{black}#1}}}$\n",
       "$\\newcommand{\\todoSO}[1]{\\stepcounter{todocounter}\\oldtodo[inline, color=green]{\\thetodocounter: Paul -- #1}}$\n",
       "$\\newcommand{\\todo}[1]{\\stepcounter{todocounter}\\oldtodo[inline]{\\thetodocounter: #1}}$\n",
       "$\\newcommand{\\mjup}{{\\rm M_{\\jupiter}}}$\n",
       "$\\newcommand{\\micron}{µm}$\n",
       "$\\newcommand{\\pso}{PSO~J318}$\n",
       "$\\newcommand{\\aj}{AJ}$\n",
       "$\\newcommand{\\araa}{ARA\\&A}$\n",
       "$\\newcommand{\\apj}{ApJ}$\n",
       "$\\newcommand{\\apjl}{ApJ}$\n",
       "$\\newcommand{\\apjs}{ApJS}$\n",
       "$\\newcommand{\\ao}{Appl.Optics}$\n",
       "$\\newcommand{\\apss}{Ap\\&SS}$\n",
       "$\\newcommand{\\aap}{A\\&A}$\n",
       "$\\newcommand{\\aapr}{A\\&A~Rev.}$\n",
       "$\\newcommand{\\aaps}{A\\&AS}$\n",
       "$\\newcommand{\\baas}{BAAS}$\n",
       "$\\newcommand{\\jrasc}{JRASC}$\n",
       "$\\newcommand{\\memras}{MmRAS}$\n",
       "$\\newcommand{\\mnras}{MNRAS}$\n",
       "$\\newcommand{\\pra}{Phys.Rev.A}$\n",
       "$\\newcommand{\\prb}{Phys.Rev.B}$\n",
       "$\\newcommand{\\prc}{Phys.Rev.C}$\n",
       "$\\newcommand{\\prd}{Phys.Rev.D}$\n",
       "$\\newcommand{\\prl}{Phys.Rev.Lett}$\n",
       "$\\newcommand{\\pasp}{PASP}$\n",
       "$\\newcommand{\\pasj}{PASJ}$\n",
       "$\\newcommand{\\qjras}{QJRAS}$\n",
       "$\\newcommand{\\skytel}{S\\&T}$\n",
       "$\\newcommand{\\solphys}{Solar~Phys.}$\n",
       "$\\newcommand{\\sovast}{Soviet~Ast.}$\n",
       "$\\newcommand{\\ssr}{Space~Sci.Rev.}$\n",
       "$\\newcommand{\\zap}{ZAp}$\n",
       "$\\newcommand{\\ActaA}{{Acta Astron.}}$</div>\n",
       "\n",
       "\n",
       "\n",
       "<div id=\"title\">\n",
       "\n",
       "# Evidence for SiO cloud  nucleation in the rogue planet PSO J318\n",
       "\n",
       "</div>\n",
       "<div id=\"comments\">\n",
       "\n",
       "[![arXiv](https://img.shields.io/badge/arXiv-2507.18691-b31b1b.svg)](https://arxiv.org/abs/2507.18691)<mark>Appeared on: 2025-07-28</mark> -  _30 pages, 9 figures, accepted for publication in A&A_\n",
       "\n",
       "</div>\n",
       "<div id=\"authors\">\n",
       "\n",
       "<mark>P. Mollière</mark>, et al. -- incl., <mark>E. Matthews</mark>, <mark>T. Henning</mark>, <mark>M. Samland</mark>, <mark>S. Scheithauer</mark>\n",
       "\n",
       "</div>\n",
       "<div id=\"abstract\">\n",
       "\n",
       "**Abstract:** Silicate clouds have long been known to significantly impact the spectra of late L-type brown dwarfs, with observable absorption features at $\\sim 10$ µm. The $*James Webb Space Telescope*$ ( $*JWST*$ ) has reopened our window to the mid-infrared with unprecedented sensitivity, bringing the characterization of silicate clouds into focus again. Using $*JWST*$ , we aim to characterize the planetary-mass brown dwarf PSO J318.5338-22.8603, concentrating on any silicate cloud absorption the object may exhibit. $\\pso$ 's spectrum is extremely red, and its flux is variable, both of which are thought to be hallmarks of cloud absorption. We present $*JWST*$ $*NIRSpec PRISM*$ , $*G395H*$ , and $*MIRI MRS*$ observations of $\\pso$ from 1 to 18 µm. We introduce a method based on $\\pso$ 's brightness temperature to generate a list of cloud species that are likely present in its atmosphere. We then test for the species' presence with \\texttt{petitRADTRANS} retrievals. Using retrievals and grids from various climate models, we derive bulk parameters from $\\pso$ 's spectra, which are mutually compatible. Our retrieval results point to a solar to slightly super-solar atmospheric C/O, a slightly super-solar metallicity, and a $\\rm ^{12}C/^{13}C$ below ISM values. The atmospheric gravity proves difficult to constrain for both retrievals and grid models. Retrievals describing the flux of $\\pso$ by mixing two 1-D models (\"two-column models\") appear favored over single-column models; this is consistent with $\\pso$ 's variability. The $*JWST*$ observations also reveal a pronounced absorption feature at $10$ µm. This absorption is best reproduced by introducing a high-altitude cloud layer of small ( $<$ 0.1 µm), amorphous $\\ce{SiO}$ grains. The retrieved particle size and location of the cloud is consistent with $\\rch{SiO condensing as cloud seeding}$ nuclei. High-altitude clouds comprised of small SiO particles have been suggested in previous studies, therefore the SiO nucleation we potentially observe in $\\pso$ could be a more wide-spread phenomenon.\n",
       "\n",
       "</div>\n",
       "\n",
       "<div id=\"div_fig1\">\n",
       "\n",
       "<img src=\"tmp_2507.18691/./all_retrieval_spectra.png\" alt=\"Fig8\" width=\"100%\"/>\n",
       "\n",
       "**Figure 8. -** Best-fit spectra for all retrieval models listed in Table \\ref{tab:all_retrieval_posteriors}. From left to right, top to bottom, the ordering is identical to the model ordering of Table \\ref{tab:all_retrieval_posteriors}. The residuals of the winning model (SiO cloud with amorphous spherical particles in a two-column model with a global Fe cloud) are plotted in black below the respective residuals of all other models. (*fig:best_fits_all_retrievals*)\n",
       "\n",
       "</div>\n",
       "<div id=\"div_fig2\">\n",
       "\n",
       "<img src=\"tmp_2507.18691/./data_figure.png\" alt=\"Fig2\" width=\"100%\"/>\n",
       "\n",
       "**Figure 2. -** $\\rch${Observations considered for the atmospheric characterization of $\\pso$.}_ Uppermost panel:_ all data considered for the spectral characterization of $\\pso$, at the wavelength binning fed into the retrieval and self-consistent grid model fits. Specifically, *MIRI MRS* data was binned down to $\\lambda/\\Delta\\lambda=400$, while NIRSpec G395H was binned to $\\lambda/\\Delta\\lambda=400$ and $\\lambda/\\Delta\\lambda=1000$ for NRS1 and NRS2, respectively. _ Second panel:_ the *HST WFC3*, *IRTF SpeX* and *JWST NIRSpec PRISM* data over the 1-3 µm wavelength range. _ Third panel:_ the *JWST NIRSpec G395H* data at the full spectral resolution. _ Lowermost panel:_ the *JWST MIRI MRS* data at the full spectral resolution. (*fig:jwstdata*)\n",
       "\n",
       "</div>\n",
       "<div id=\"div_fig3\">\n",
       "\n",
       "<img src=\"tmp_2507.18691/./cloud_shape_fits_appendix_corrected_only_full_1.png\" alt=\"Fig3\" width=\"100%\"/>\n",
       "\n",
       "**Figure 3. -** $\\rch${Opacity fits of the $10$ µm feature for the \"Top-14\" silicate cloud species, using the brightness temperature method. The remaining fits for the less well fitting species can be found in Fig. \\ref{fig:brightness_temperature_all_appendix_1}} (*fig:cloud_shape_fits*)\n",
       "\n",
       "</div><div id=\"qrcode\"><img src=https://api.qrserver.com/v1/create-qr-code/?size=100x100&data=\"https://arxiv.org/abs/2507.18691\"></div>"
      ],
      "text/plain": [
       "<IPython.core.display.Markdown object>"
      ]
     },
     "metadata": {},
     "output_type": "display_data"
    },
    {
     "data": {
      "text/markdown": [
       "<div class=\"macros\" style=\"visibility:hidden;\">\n",
       "$\\newcommand{\\ensuremath}{}$\n",
       "$\\newcommand{\\xspace}{}$\n",
       "$\\newcommand{\\object}[1]{\\texttt{#1}}$\n",
       "$\\newcommand{\\farcs}{{.}''}$\n",
       "$\\newcommand{\\farcm}{{.}'}$\n",
       "$\\newcommand{\\arcsec}{''}$\n",
       "$\\newcommand{\\arcmin}{'}$\n",
       "$\\newcommand{\\ion}[2]{#1#2}$\n",
       "$\\newcommand{\\textsc}[1]{\\textrm{#1}}$\n",
       "$\\newcommand{\\hl}[1]{\\textrm{#1}}$\n",
       "$\\newcommand{\\footnote}[1]{}$\n",
       "$\\newcommand{\\jwst}{\\textit{JWST}\\xspace}$\n",
       "$\\newcommand{\\hst}{\\textit{HST}\\xspace}$\n",
       "$\\newcommand{\\spitzer}{\\textit{Spitzer}\\xspace}$\n",
       "$\\newcommand{\\kepler}{\\textit{Kepler}\\xspace}$\n",
       "$\\newcommand{\\tess}{\\textit{TESS}\\xspace}$\n",
       "$\\newcommand{\\nirspec}{NIRSpec\\xspace}$\n",
       "$\\newcommand{\\teatro}{\\texttt{TEATRO}\\xspace}$\n",
       "$\\newcommand{\\cascade}{\\texttt{CASCADe}\\xspace}$\n",
       "$\\newcommand{\\vulcan}{\\texttt{VULCAN}\\xspace}$\n",
       "$\\newcommand{\\arcis}{\\texttt{ARCiS}\\xspace}$\n",
       "$\\newcommand{\\taurex}{\\texttt{TauREx}\\xspace}$\n",
       "$\\newcommand{\\petitradtrans}{\\texttt{petitRADTRANS}\\xspace}$\n",
       "$\\newcommand{\\pyratbay}{\\texttt{PYRAT\\;BAY}\\xspace}$\n",
       "$\\newcommand{\\exotethys}{\\texttt{ExoTETHyS}\\xspace}$\n",
       "$\\newcommand{\\mum}{\\mum\\xspace}$\n",
       "$\\newcommand{\\eg}{{e.g.,}\\xspace}$\n",
       "$\\newcommand{\\arraystretch}{1.2}$\n",
       "$\\newcommand{\\arraystretch}{1.1}$\n",
       "$\\newcommand{\\arraystretch}{1.1}$\n",
       "$\\newcommand{\\arraystretch}{1}$\n",
       "$\\newcommand{\\arraystretch}{1.2}$</div>\n",
       "\n",
       "\n",
       "\n",
       "<div id=\"title\">\n",
       "\n",
       "# Detection of $CO_2$, CO, and $H_2$O in the atmosphere of the warm sub-Saturn HAT-P-12 b\n",
       "\n",
       "</div>\n",
       "<div id=\"comments\">\n",
       "\n",
       "[![arXiv](https://img.shields.io/badge/arXiv-2507.18722-b31b1b.svg)](https://arxiv.org/abs/2507.18722)<mark>Appeared on: 2025-07-28</mark> -  _22 pages, 16 figures, A&A, accepted_\n",
       "\n",
       "</div>\n",
       "<div id=\"authors\">\n",
       "\n",
       "N. Crouzet, et al. -- incl., <mark>J. Bouwman</mark>, <mark>T. Henning</mark>\n",
       "\n",
       "</div>\n",
       "<div id=\"abstract\">\n",
       "\n",
       "**Abstract:** The chemical composition of warm gas giant exoplanet atmospheres (with $T_{\\rm eq} < 1000 \\;\\rm K$ ) is not well known due to the lack of observational constraints. A new era began for the study of exoplanet atmospheres with the $\\jwst$ . HAT-P-12 b is a warm, sub-Saturn-mass transiting exoplanet that is ideal for transmission spectroscopy. We aim to characterise its atmosphere and probe the presence of carbonaceous species using near-infrared observations. One transit of HAT-P-12 b was observed in spectroscopy with $\\jwst$ NIRSpec in the $2.87-5.10 \\; \\mu$ m range with a resolving power of $\\sim$ 1000. The $\\jwst$ data are combined with archival observations from $\\hst$ WFC3 covering the $1.1-1.7 \\; \\mu$ m range. The data are analysed using two data reduction pipelines and two atmospheric retrieval tools. Atmospheric simulations using chemical forward models are performed to interpret the spectra. $CO_2$ , CO, and $H_2$ O are detected at 12.2, 4.1, and 6.0 $\\sigma$ confidence, respectively. Their volume mixing ratios are consistent with an atmosphere of $\\sim$ 10 times solar metallicity and production of $\\ce{CO2}$ by photochemistry. $CH_4$ is not detected and seems to be lacking, which could be due to a high intrinsic temperature with strong vertical mixing or other phenomena. $SO_2$ is also not detected and its production seems limited by low upper atmospheric temperatures ( $\\sim$ 500 K at $P<10^{-3}$ bar inferred from 1D retrievals), insufficient to produce it in detectable quantities ( $\\gtrsim$ 800 K required according to photochemical models). $H_2$ S is marginally detected using one data analysis method and not by the other. Retrievals indicate the presence of clouds between $10^{-1}$ and $10^{-3}$ bar. The inferred C/O ratio is below unity but is not well constrained. This study points towards an atmosphere for HAT-P-12 b that could be enriched in carbon and oxygen with respect to its host star, a possibly cold upper atmosphere that is unfavourable to $\\ce{SO2}$ production and may explain its non-detection, and a $\\ce{CH4}$ depletion that is yet to be fully understood. When including the production of $\\ce{CO2}$ via photochemistry, an atmospheric metallicity that is close to Saturn's can explain the observations. Metallicities inferred for other gas giant exoplanets based on their $\\ce{CO2}$ mixing ratios may need to account for its photochemical production pathways. This may impact studies on mass-metallicity trends and links between exoplanet atmospheres, interiors, and formation history.\n",
       "\n",
       "</div>\n",
       "\n",
       "<div id=\"div_fig1\">\n",
       "\n",
       "<img src=\"tmp_2507.18722/./figures/HAT-P-12b_transmission_spectra.png\" alt=\"Fig7\" width=\"100%\"/>\n",
       "\n",
       "**Figure 7. -** Synthetic spectra with grey clouds based on $\\vulcan$ chemistry models for \\mbox{HAT-P-12 b}. From top to bottom, the metallicity increases from 1 to 60 times solar. Models with carbon-to-oxygen ratios of 0.25 (orange), 0.50 (black), and 0.75 (green) with (solid lines) and without (dotted lines) photochemistry are shown. An offset is applied to the reference radius-pressure points of the model spectra to match the observed NIRSpec transit depths, and an offset of $0.09 \\%$ is added for visual purposes. The $\\jwst$ NIRSpec G395M data ($\\teatro$ reduction) and the $\\hst$ WFC3 G141 data are shown in light grey. The coloured regions correspond to the contribution of individual species to the model spectrum with C/O of 0.50 and photochemistry, which is also superimposed on the data. (*fig:vulcan_spectra*)\n",
       "\n",
       "</div>\n",
       "<div id=\"div_fig2\">\n",
       "\n",
       "<img src=\"tmp_2507.18722/./figures/comp_prob_dis.png\" alt=\"Fig11\" width=\"100%\"/>\n",
       "\n",
       "**Figure 11. -** Probability distributions for different molecules for each retrieval conducted here. One sigma constraints are also shown and arrows indicate 1$\\sigma$ upper bounds on the presence of a species. (*fig:abundances*)\n",
       "\n",
       "</div>\n",
       "<div id=\"div_fig3\">\n",
       "\n",
       "<img src=\"tmp_2507.18722/./figures/HAT-P-12b-chemistryresults.png\" alt=\"Fig12\" width=\"100%\"/>\n",
       "\n",
       "**Figure 12. -** $\\vulcan$ chemistry results for HAT-P-12 b. The upper left panel shows the $P-T$ profile with high intrinsic temperature, resulting from the optimisation procedure described in Sect. \\ref{subsec: forward models methods}. The other panels show the VMR of different molecules detected or expected in the NIRSpec spectrum, for different metallicities, carbon-to-oxygen ratios, with and without photochemistry. From dark to light grey, the shaded areas indicate respectively the 1, 2, and $3 \\sigma$ uncertainty intervals of the retrieved atmospheric temperature and of the VMRs for detected species, and the 1, 2, and $3 \\sigma$ upper limits of the VMRs for non-detected species (inferred from the $\\hst$ + NIRSpec $\\teatro$ spectrum and $\\arcis$ retrieval). (*fig:vulcan*)\n",
       "\n",
       "</div><div id=\"qrcode\"><img src=https://api.qrserver.com/v1/create-qr-code/?size=100x100&data=\"https://arxiv.org/abs/2507.18722\"></div>"
      ],
      "text/plain": [
       "<IPython.core.display.Markdown object>"
      ]
     },
     "metadata": {},
     "output_type": "display_data"
    },
    {
     "data": {
      "text/markdown": [
       "<div class=\"macros\" style=\"visibility:hidden;\">\n",
       "$\\newcommand{\\ensuremath}{}$\n",
       "$\\newcommand{\\xspace}{}$\n",
       "$\\newcommand{\\object}[1]{\\texttt{#1}}$\n",
       "$\\newcommand{\\farcs}{{.}''}$\n",
       "$\\newcommand{\\farcm}{{.}'}$\n",
       "$\\newcommand{\\arcsec}{''}$\n",
       "$\\newcommand{\\arcmin}{'}$\n",
       "$\\newcommand{\\ion}[2]{#1#2}$\n",
       "$\\newcommand{\\textsc}[1]{\\textrm{#1}}$\n",
       "$\\newcommand{\\hl}[1]{\\textrm{#1}}$\n",
       "$\\newcommand{\\footnote}[1]{}$\n",
       "$\\newcommand{\\nnhp}[0]{N_2H^+\\xspace}$\n",
       "$\\newcommand{\\hcop}[0]{HCO^+\\xspace}$\n",
       "$\\newcommand{\\tco}[0]{^{13}CO\\xspace}$\n",
       "$\\newcommand{\\CO}[0]{^{12}CO\\xspace}$\n",
       "$\\newcommand{\\ncrit}[0]{n_\\mathrm{crit}\\xspace}$\n",
       "$\\newcommand{\\neff}[0]{n_\\mathrm{eff}\\xspace}$\n",
       "$\\newcommand{\\SSFR}[0]{\\Sigma_\\mathrm{SFR}\\xspace}$\n",
       "$\\newcommand{\\Sstar}[0]{\\Sigma_\\ast\\xspace}$\n",
       "$\\newcommand{\\Smol}[0]{\\Sigma_\\mathrm{mol}\\xspace}$\n",
       "$\\newcommand{\\Pde}[0]{P_\\mathrm{DE}\\xspace}$\n",
       "$\\newcommand{\\vdisp}[0]{\\sigma_\\mathrm{CO}\\xspace}$\n",
       "$\\newcommand{\\dep}[0]{\\tau_\\mathrm{depl}\\xspace}$\n",
       "$\\newcommand{\\refs}[0]{\\textbf{\\textcolor{red}{ref}}\\xspace}$</div>\n",
       "\n",
       "\n",
       "\n",
       "<div id=\"title\">\n",
       "\n",
       "# The SWAN view of dense gas in the Whirlpool: A cloud-scale comparison of $\\nnhp$, $\\hcop$, HNC and HCN emission in M51\n",
       "\n",
       "</div>\n",
       "<div id=\"comments\">\n",
       "\n",
       "[![arXiv](https://img.shields.io/badge/arXiv-2507.19439-b31b1b.svg)](https://arxiv.org/abs/2507.19439)<mark>Appeared on: 2025-07-28</mark> -  _Accepted for publication in A&A_\n",
       "\n",
       "</div>\n",
       "<div id=\"authors\">\n",
       "\n",
       "S. K. Stuber, et al. -- incl., <mark>E. Schinnerer</mark>, <mark>D. Gleis</mark>\n",
       "\n",
       "</div>\n",
       "<div id=\"abstract\">\n",
       "\n",
       "**Abstract:** Tracing dense molecular gas, the fuel for star formation, is essential for the understanding of the evolution of molecular clouds and star formation processes.  We compare the emission of HCN (1-0), HNC (1-0) and $\\hcop$ (1-0) with the emission of $\\nnhp$ (1-0) at cloud-scales ( $125 $ pc) across the central $5\\times7 $ kpc of the Whirlpool galaxy, M51a, from \"Surveying the Whirlpool galaxy at Arcseconds with NOEMA\" (SWAN).  We find that the integrated intensities of HCN, HNC and $\\hcop$ are more steeply correlated with $\\nnhp$ emission compared to the bulk molecular gas tracer CO, and we find variations in this relation across the center, molecular ring, northern and southern disk of M51.  Compared to HCN and HNC emission, the $\\hcop$ emission follows the $\\nnhp$ emission more similarly across the environments and physical conditions such as surface densities of molecular gas, stellar mass, star-formation rate, dynamical equilibrium pressure and radius.  Under the assumption that $\\nnhp$ is a fair tracer of dense gas at these scales, this makes $\\hcop$ a more favorable dense gas tracer than HCN within the inner disk of M51.  In all environments within our field of view, even when removing the central 2 kpc, HCN/CO, commonly used to trace average cloud density, is only weakly depending on molecular gas mass surface density.  While ratios of other dense gas lines to CO show a steeper dependency on the surface density of molecular gas, it is still shallow in comparison to other nearby star-forming disk galaxies.  The reasons might be  physical conditions in M51 that are different from other normal star-forming galaxies.  Increased ionization rates, increased dynamical equilibrium pressure in the central few kpc and the impact of the dwarf companion galaxy NGC 5195 are proposed mechanisms that might enhance HCN and HNC emission over $\\hcop$ and $\\nnhp$ emission at larger-scale environments and cloud scales.\n",
       "\n",
       "</div>\n",
       "\n",
       "<div id=\"div_fig1\">\n",
       "\n",
       "<img src=\"tmp_2507.19439/./Figures/Gallery_w_hist.png\" alt=\"Fig17\" width=\"100%\"/>\n",
       "\n",
       "**Figure 17. -** Integrated intensity maps of dense gas tracers HCN, HNC, HCO+ and $\\nnhp$ from SWAN at a common resolution of $3$\\arcsec$$(top row from left to right), as well as from $\\CO$(PAWS, bottom left). We divide the disk into a center and ring environment  (colombo_pdbi_2014) , and the outer disk into northern and southern halves (bottom row, second panel from left). We add contours of integrated $\\nnhp$ emission of 0.75, 2 and 4 K km/s to the environment map.\n",
       " We show the pixel-based integrated intensity distribution (in K km/s) in various environments in the disk for all pixels in the FoV (colored shaded area), as well as for pixels where emission is detected (emission $>3\\sigma$, light grey shaded area) in the bottom right panels. The area of each histogram is normalized to unity.\n",
       " We indicate the median of all pixels (black dashed grey line) and median of masked pixels (dotted grey line) of each environment.\n",
       " The median represents the median value of logarithmic emission (med$\\left(\\mathrm{log}_{10}\\left( I \\right) \\right)$. Pixels with negative emission are excluded in the logarithmic scaling of the histograms.\n",
       " Since CO is detected across most of the FoV and is used as a prior in the creation of the moment-0 map (Section \\ref{sec:Data:SWANmoments}), its masked histogram distribution agrees well with the unmasked one.\n",
       "  (*fig:Gallery*)\n",
       "\n",
       "</div>\n",
       "<div id=\"div_fig2\">\n",
       "\n",
       "<img src=\"tmp_2507.19439/./Figures/Gallery_Lineratios_w_Histograms_divnorm_histomedian_bwr_n2hpcontours.png\" alt=\"Fig19\" width=\"100%\"/>\n",
       "\n",
       "**Figure 19. -** Left panel: Line ratios of integrated line emission from dense gas tracers HCN, HNC and $\\hcop$. For visual purpose, we only show line ratios for significant detected pixels ($>3\\sigma$), but include non-detections in all calculations. We mark pixels in which CO is detected (grey points) and the center of the galaxy (green plus). The intensity scale is centered logarithmically on the average line ratios (log$_{10} R$, with $R$ from Table \\ref{tab:Averagelineratios}) determined for all pixels in the FoV, including non-detections.  The average line ratio (log$_{10} R$) and the total range of 1 dex covered by the color bar are indicated by the black dashed line and greyshaded area in the right panel. We show contours of integrated $\\nnhp$ emission (0.75, 3 K km/s) on top.\n",
       "    Right panel: Histogram of line ratios per environment analogous to Figure \\ref{fig:Gallery} but for HCN/HNC, HCN/$\\hcop$ and HNC/$\\hcop$(colored histograms).\n",
       "    We indicate the amount of pixels shown in the histogram (top right corner), which varies slightly, as values with negative noise can not be shown in the logarithmic scale.\n",
       "     (*fig:Gallery_linerationon2hp*)\n",
       "\n",
       "</div>\n",
       "<div id=\"div_fig3\">\n",
       "\n",
       "<img src=\"tmp_2507.19439/./Figures/Intensitiesaverage_Alllines_noAGN_0.0_Allsigmas.png\" alt=\"Fig2\" width=\"100%\"/>\n",
       "\n",
       "**Figure 2. -** Average line intensity $I_\\mathrm{Line}$ as a function of surface densities of molecular gas mass ($\\Smol$), stellar mass ($\\Sstar$) and star formation rate ($\\SSFR$), as well as velocity dispersion ($\\vdisp$), dynamical equilibrium pressure ($\\Pde$) and galactocentric radius for all dense gas tracers.\n",
       "    Shaded areas mark the standard deviation per bin. The $\\CO$ intensity scaled by a factor of $1/10$ is added for comparison (grey line).\n",
       "    For $\\rm r>2.2kpc$, the shape of our FoV leads to incomplete sampling of these radial bins (grey shaded area). The obtained slopes for a linear fit (in log space) to the binned averages are provided in each panel. (*fig:average_intensity_sigmas*)\n",
       "\n",
       "</div><div id=\"qrcode\"><img src=https://api.qrserver.com/v1/create-qr-code/?size=100x100&data=\"https://arxiv.org/abs/2507.19439\"></div>"
      ],
      "text/plain": [
       "<IPython.core.display.Markdown object>"
      ]
     },
     "metadata": {},
     "output_type": "display_data"
    }
   ],
   "source": [
    "[display(Markdown(k[1])) for k in documents];"
   ]
  },
  {
   "cell_type": "markdown",
   "id": "873873a4",
   "metadata": {
    "papermill": {
     "duration": 0.005635,
     "end_time": "2025-07-28T04:40:02.541150",
     "exception": false,
     "start_time": "2025-07-28T04:40:02.535515",
     "status": "completed"
    },
    "tags": []
   },
   "source": [
    "# Create HTML index"
   ]
  },
  {
   "cell_type": "code",
   "execution_count": 10,
   "id": "cf665672",
   "metadata": {
    "execution": {
     "iopub.execute_input": "2025-07-28T04:40:02.553506Z",
     "iopub.status.busy": "2025-07-28T04:40:02.553278Z",
     "iopub.status.idle": "2025-07-28T04:40:02.560722Z",
     "shell.execute_reply": "2025-07-28T04:40:02.560134Z"
    },
    "papermill": {
     "duration": 0.014813,
     "end_time": "2025-07-28T04:40:02.561762",
     "exception": false,
     "start_time": "2025-07-28T04:40:02.546949",
     "status": "completed"
    },
    "tags": []
   },
   "outputs": [
    {
     "name": "stdout",
     "output_type": "stream",
     "text": [
      "152  publications files modified in the last 7 days.\n"
     ]
    }
   ],
   "source": [
    "from datetime import datetime, timedelta, timezone\n",
    "from glob import glob\n",
    "import os\n",
    "\n",
    "files = glob('_build/html/*.md')\n",
    "days = 7\n",
    "now = datetime.today()\n",
    "res = []\n",
    "for fk in files:\n",
    "    stat_result = os.stat(fk).st_ctime\n",
    "    modified = datetime.fromtimestamp(stat_result, tz=timezone.utc).replace(tzinfo=None)\n",
    "    delta = now.today() - modified\n",
    "    if delta <= timedelta(days=days):\n",
    "        res.append((delta.seconds, fk))\n",
    "res = [k[1] for k in reversed(sorted(res, key=lambda x:x[1]))]\n",
    "npub = len(res)\n",
    "print(len(res), f\" publications files modified in the last {days:d} days.\")\n",
    "# [ print('\\t', k) for k in res ];"
   ]
  },
  {
   "cell_type": "code",
   "execution_count": 11,
   "id": "015de740",
   "metadata": {
    "execution": {
     "iopub.execute_input": "2025-07-28T04:40:02.573990Z",
     "iopub.status.busy": "2025-07-28T04:40:02.573797Z",
     "iopub.status.idle": "2025-07-28T04:40:02.586193Z",
     "shell.execute_reply": "2025-07-28T04:40:02.585552Z"
    },
    "papermill": {
     "duration": 0.019739,
     "end_time": "2025-07-28T04:40:02.587297",
     "exception": false,
     "start_time": "2025-07-28T04:40:02.567558",
     "status": "completed"
    },
    "tags": []
   },
   "outputs": [
    {
     "name": "stdout",
     "output_type": "stream",
     "text": [
      "13  publications in the last 7 days.\n"
     ]
    }
   ],
   "source": [
    "import datetime\n",
    "from glob import glob\n",
    "\n",
    "def get_last_n_days(lst, days=1):\n",
    "    \"\"\" Get the documents from the last n days \"\"\"\n",
    "    sorted_lst = sorted(lst, key=lambda x: x[1], reverse=True)\n",
    "    for fname, date in sorted_lst:\n",
    "        if date >= str(datetime.date.today() - datetime.timedelta(days=days)):\n",
    "            yield fname\n",
    "\n",
    "def extract_appearance_dates(lst_file):\n",
    "    dates = []\n",
    "\n",
    "    def get_date(line):\n",
    "        return line\\\n",
    "            .split('Appeared on:')[-1]\\\n",
    "            .split('</mark>')[0].strip()\n",
    "\n",
    "    for fname in lst:\n",
    "        with open(fname, 'r') as f:\n",
    "            found_date = False\n",
    "            for line in f:\n",
    "                if not found_date:\n",
    "                    if \"Appeared on\" in line:\n",
    "                        found_date = True\n",
    "                        dates.append((fname, get_date(line)))\n",
    "                else:\n",
    "                    break\n",
    "    return dates\n",
    "\n",
    "from glob import glob\n",
    "lst = glob('_build/html/*md')\n",
    "days = 7\n",
    "dates = extract_appearance_dates(lst)\n",
    "res = list(get_last_n_days(dates, days))\n",
    "npub = len(res)\n",
    "print(len(res), f\" publications in the last {days:d} days.\")"
   ]
  },
  {
   "cell_type": "code",
   "execution_count": 12,
   "id": "52ca0208",
   "metadata": {
    "execution": {
     "iopub.execute_input": "2025-07-28T04:40:02.599987Z",
     "iopub.status.busy": "2025-07-28T04:40:02.599781Z",
     "iopub.status.idle": "2025-07-28T04:40:02.604685Z",
     "shell.execute_reply": "2025-07-28T04:40:02.604108Z"
    },
    "papermill": {
     "duration": 0.012328,
     "end_time": "2025-07-28T04:40:02.605646",
     "exception": false,
     "start_time": "2025-07-28T04:40:02.593318",
     "status": "completed"
    },
    "scrolled": false,
    "tags": []
   },
   "outputs": [],
   "source": [
    "def create_carousel(npub=4):\n",
    "    \"\"\" Generate the HTML code for a carousel with `npub` slides \"\"\"\n",
    "    carousel = [\"\"\"  <div class=\"carousel\" \"\"\",\n",
    "                \"\"\"       data-flickity='{ \"autoPlay\": 10000, \"adaptiveHeight\": true, \"resize\": true, \"wrapAround\": true, \"pauseAutoPlayOnHover\": true, \"groupCells\": 1 }' id=\"asyncTypeset\">\"\"\"\n",
    "                ]\n",
    "    \n",
    "    item_str = \"\"\"    <div class=\"carousel-cell\"> <div id=\"slide{k}\" class=\"md_view\">Content {k}</div> </div>\"\"\"\n",
    "    for k in range(1, npub + 1):\n",
    "        carousel.append(item_str.format(k=k))\n",
    "    carousel.append(\"  </div>\")\n",
    "    return '\\n'.join(carousel)\n",
    "\n",
    "def create_grid(npub=4):\n",
    "    \"\"\" Generate the HTML code for a flat grid with `npub` slides \"\"\"\n",
    "    grid = [\"\"\"  <div class=\"grid\"> \"\"\",\n",
    "                ]\n",
    "    \n",
    "    item_str = \"\"\"    <div class=\"grid-item\"> <div id=\"slide{k}\" class=\"md_view\">Content {k}</div> </div>\"\"\"\n",
    "    for k in range(1, npub + 1):\n",
    "        grid.append(item_str.format(k=k))\n",
    "    grid.append(\"  </div>\")\n",
    "    return '\\n'.join(grid)"
   ]
  },
  {
   "cell_type": "code",
   "execution_count": 13,
   "id": "a6eac5b6",
   "metadata": {
    "execution": {
     "iopub.execute_input": "2025-07-28T04:40:02.618416Z",
     "iopub.status.busy": "2025-07-28T04:40:02.618106Z",
     "iopub.status.idle": "2025-07-28T04:40:02.623365Z",
     "shell.execute_reply": "2025-07-28T04:40:02.622817Z"
    },
    "papermill": {
     "duration": 0.012764,
     "end_time": "2025-07-28T04:40:02.624394",
     "exception": false,
     "start_time": "2025-07-28T04:40:02.611630",
     "status": "completed"
    },
    "scrolled": false,
    "tags": []
   },
   "outputs": [],
   "source": [
    "carousel = create_carousel(npub)\n",
    "docs = ', '.join(['\"{0:s}\"'.format(k.split('/')[-1]) for k in res])\n",
    "slides = ', '.join([f'\"slide{k}\"' for k in range(1, npub + 1)])\n",
    "\n",
    "with open(\"daily_template.html\", \"r\") as tpl:\n",
    "    page = tpl.read()\n",
    "    page = page.replace(\"{%-- carousel:s --%}\", carousel)\\\n",
    "               .replace(\"{%-- suptitle:s --%}\",  \"7-day archives\" )\\\n",
    "               .replace(\"{%-- docs:s --%}\", docs)\\\n",
    "               .replace(\"{%-- slides:s --%}\", slides)\n",
    "    \n",
    "with open(\"_build/html/index_7days.html\", 'w') as fout:\n",
    "    fout.write(page)"
   ]
  },
  {
   "cell_type": "code",
   "execution_count": 14,
   "id": "adc1a1ec",
   "metadata": {
    "execution": {
     "iopub.execute_input": "2025-07-28T04:40:02.637371Z",
     "iopub.status.busy": "2025-07-28T04:40:02.637144Z",
     "iopub.status.idle": "2025-07-28T04:40:02.642980Z",
     "shell.execute_reply": "2025-07-28T04:40:02.642423Z"
    },
    "papermill": {
     "duration": 0.013371,
     "end_time": "2025-07-28T04:40:02.643976",
     "exception": false,
     "start_time": "2025-07-28T04:40:02.630605",
     "status": "completed"
    },
    "tags": []
   },
   "outputs": [
    {
     "name": "stdout",
     "output_type": "stream",
     "text": [
      "3  publications in the last day.\n"
     ]
    }
   ],
   "source": [
    "# redo for today\n",
    "days = 1\n",
    "res = list(get_last_n_days(dates, days))\n",
    "npub = len(res)\n",
    "print(len(res), f\" publications in the last day.\")\n",
    "\n",
    "carousel = create_carousel(npub)\n",
    "docs = ', '.join(['\"{0:s}\"'.format(k.split('/')[-1]) for k in res])\n",
    "slides = ', '.join([f'\"slide{k}\"' for k in range(1, npub + 1)])\n",
    "\n",
    "with open(\"daily_template.html\", \"r\") as tpl:\n",
    "    page = tpl.read()\n",
    "    page = page.replace(\"{%-- carousel:s --%}\", carousel)\\\n",
    "               .replace(\"{%-- suptitle:s --%}\",  \"Daily\" )\\\n",
    "               .replace(\"{%-- docs:s --%}\", docs)\\\n",
    "               .replace(\"{%-- slides:s --%}\", slides)\n",
    "    \n",
    "# print(carousel, docs, slides)\n",
    "# print(page)\n",
    "with open(\"_build/html/index_daily.html\", 'w') as fout:\n",
    "    fout.write(page)"
   ]
  },
  {
   "cell_type": "code",
   "execution_count": 15,
   "id": "00eece82",
   "metadata": {
    "execution": {
     "iopub.execute_input": "2025-07-28T04:40:02.656831Z",
     "iopub.status.busy": "2025-07-28T04:40:02.656606Z",
     "iopub.status.idle": "2025-07-28T04:40:02.662958Z",
     "shell.execute_reply": "2025-07-28T04:40:02.662298Z"
    },
    "papermill": {
     "duration": 0.014039,
     "end_time": "2025-07-28T04:40:02.663997",
     "exception": false,
     "start_time": "2025-07-28T04:40:02.649958",
     "status": "completed"
    },
    "scrolled": false,
    "tags": []
   },
   "outputs": [
    {
     "name": "stdout",
     "output_type": "stream",
     "text": [
      "6  6 publications selected.\n"
     ]
    }
   ],
   "source": [
    "# Create the flat grid of the last N papers (fixed number regardless of dates)\n",
    "from itertools import islice \n",
    "\n",
    "npub = 6\n",
    "res = [k[0] for k in (islice(reversed(sorted(dates, key=lambda x: x[1])), 6))]\n",
    "print(len(res), f\" {npub} publications selected.\")\n",
    "\n",
    "grid = create_grid(npub)\n",
    "docs = ', '.join(['\"{0:s}\"'.format(k.split('/')[-1]) for k in res])\n",
    "slides = ', '.join([f'\"slide{k}\"' for k in range(1, npub + 1)])\n",
    "\n",
    "with open(\"grid_template.html\", \"r\") as tpl:\n",
    "    page = tpl.read()\n",
    "    page = page.replace(\"{%-- grid-content:s --%}\", grid)\\\n",
    "               .replace(\"{%-- suptitle:s --%}\",  f\"Last {npub:,d} papers\" )\\\n",
    "               .replace(\"{%-- docs:s --%}\", docs)\\\n",
    "               .replace(\"{%-- slides:s --%}\", slides)\n",
    "    \n",
    "# print(grid, docs, slides)\n",
    "# print(page)\n",
    "with open(\"_build/html/index_npub_grid.html\", 'w') as fout:\n",
    "    fout.write(page)"
   ]
  }
 ],
 "metadata": {
  "kernelspec": {
   "display_name": "Python 3 (ipykernel)",
   "language": "python",
   "name": "python3"
  },
  "language_info": {
   "codemirror_mode": {
    "name": "ipython",
    "version": 3
   },
   "file_extension": ".py",
   "mimetype": "text/x-python",
   "name": "python",
   "nbconvert_exporter": "python",
   "pygments_lexer": "ipython3",
   "version": "3.9.23"
  },
  "papermill": {
   "default_parameters": {},
   "duration": 119.756003,
   "end_time": "2025-07-28T04:40:02.886003",
   "environment_variables": {},
   "exception": null,
   "input_path": "MPIA daily digest.ipynb",
   "output_path": "log.ipynb",
   "parameters": {},
   "start_time": "2025-07-28T04:38:03.130000",
   "version": "2.6.0"
  },
  "vscode": {
   "interpreter": {
    "hash": "aee8b7b246df8f9039afb4144a1f6fd8d2ca17a180786b69acc140d282b71a49"
   }
  },
  "widgets": {
   "application/vnd.jupyter.widget-state+json": {
    "state": {
     "09dbebdd9aa643079860e74470d84264": {
      "model_module": "@jupyter-widgets/base",
      "model_module_version": "2.0.0",
      "model_name": "LayoutModel",
      "state": {
       "_model_module": "@jupyter-widgets/base",
       "_model_module_version": "2.0.0",
       "_model_name": "LayoutModel",
       "_view_count": null,
       "_view_module": "@jupyter-widgets/base",
       "_view_module_version": "2.0.0",
       "_view_name": "LayoutView",
       "align_content": null,
       "align_items": null,
       "align_self": null,
       "border_bottom": null,
       "border_left": null,
       "border_right": null,
       "border_top": null,
       "bottom": null,
       "display": null,
       "flex": null,
       "flex_flow": null,
       "grid_area": null,
       "grid_auto_columns": null,
       "grid_auto_flow": null,
       "grid_auto_rows": null,
       "grid_column": null,
       "grid_gap": null,
       "grid_row": null,
       "grid_template_areas": null,
       "grid_template_columns": null,
       "grid_template_rows": null,
       "height": null,
       "justify_content": null,
       "justify_items": null,
       "left": null,
       "margin": null,
       "max_height": null,
       "max_width": null,
       "min_height": null,
       "min_width": null,
       "object_fit": null,
       "object_position": null,
       "order": null,
       "overflow": null,
       "padding": null,
       "right": null,
       "top": null,
       "visibility": null,
       "width": null
      }
     },
     "0e8ff332f911415189dd547209f3c89f": {
      "model_module": "@jupyter-widgets/controls",
      "model_module_version": "2.0.0",
      "model_name": "HBoxModel",
      "state": {
       "_dom_classes": [],
       "_model_module": "@jupyter-widgets/controls",
       "_model_module_version": "2.0.0",
       "_model_name": "HBoxModel",
       "_view_count": null,
       "_view_module": "@jupyter-widgets/controls",
       "_view_module_version": "2.0.0",
       "_view_name": "HBoxView",
       "box_style": "",
       "children": [
        "IPY_MODEL_75a79902c77640cfbb68e09983e9d73e",
        "IPY_MODEL_7df333c4120a4b6fa53776f2dfba54bd",
        "IPY_MODEL_2a8ca83ac31e440e88d22a44d766c090"
       ],
       "layout": "IPY_MODEL_74713c87010b421bb909d86b31c67a95",
       "tabbable": null,
       "tooltip": null
      }
     },
     "2a8ca83ac31e440e88d22a44d766c090": {
      "model_module": "@jupyter-widgets/controls",
      "model_module_version": "2.0.0",
      "model_name": "HTMLModel",
      "state": {
       "_dom_classes": [],
       "_model_module": "@jupyter-widgets/controls",
       "_model_module_version": "2.0.0",
       "_model_name": "HTMLModel",
       "_view_count": null,
       "_view_module": "@jupyter-widgets/controls",
       "_view_module_version": "2.0.0",
       "_view_name": "HTMLView",
       "description": "",
       "description_allow_html": false,
       "layout": "IPY_MODEL_aae3c5ae79c64f7293d2cf67a28a5ce1",
       "placeholder": "​",
       "style": "IPY_MODEL_edda00a22d404cdb807559c76aef3c71",
       "tabbable": null,
       "tooltip": null,
       "value": " 9/9 [01:37&lt;00:00, 10.04s/it]"
      }
     },
     "675af66a29924e738d554ee1f82a69dc": {
      "model_module": "@jupyter-widgets/controls",
      "model_module_version": "2.0.0",
      "model_name": "ProgressStyleModel",
      "state": {
       "_model_module": "@jupyter-widgets/controls",
       "_model_module_version": "2.0.0",
       "_model_name": "ProgressStyleModel",
       "_view_count": null,
       "_view_module": "@jupyter-widgets/base",
       "_view_module_version": "2.0.0",
       "_view_name": "StyleView",
       "bar_color": null,
       "description_width": ""
      }
     },
     "74713c87010b421bb909d86b31c67a95": {
      "model_module": "@jupyter-widgets/base",
      "model_module_version": "2.0.0",
      "model_name": "LayoutModel",
      "state": {
       "_model_module": "@jupyter-widgets/base",
       "_model_module_version": "2.0.0",
       "_model_name": "LayoutModel",
       "_view_count": null,
       "_view_module": "@jupyter-widgets/base",
       "_view_module_version": "2.0.0",
       "_view_name": "LayoutView",
       "align_content": null,
       "align_items": null,
       "align_self": null,
       "border_bottom": null,
       "border_left": null,
       "border_right": null,
       "border_top": null,
       "bottom": null,
       "display": null,
       "flex": null,
       "flex_flow": null,
       "grid_area": null,
       "grid_auto_columns": null,
       "grid_auto_flow": null,
       "grid_auto_rows": null,
       "grid_column": null,
       "grid_gap": null,
       "grid_row": null,
       "grid_template_areas": null,
       "grid_template_columns": null,
       "grid_template_rows": null,
       "height": null,
       "justify_content": null,
       "justify_items": null,
       "left": null,
       "margin": null,
       "max_height": null,
       "max_width": null,
       "min_height": null,
       "min_width": null,
       "object_fit": null,
       "object_position": null,
       "order": null,
       "overflow": null,
       "padding": null,
       "right": null,
       "top": null,
       "visibility": null,
       "width": null
      }
     },
     "75a79902c77640cfbb68e09983e9d73e": {
      "model_module": "@jupyter-widgets/controls",
      "model_module_version": "2.0.0",
      "model_name": "HTMLModel",
      "state": {
       "_dom_classes": [],
       "_model_module": "@jupyter-widgets/controls",
       "_model_module_version": "2.0.0",
       "_model_name": "HTMLModel",
       "_view_count": null,
       "_view_module": "@jupyter-widgets/controls",
       "_view_module_version": "2.0.0",
       "_view_name": "HTMLView",
       "description": "",
       "description_allow_html": false,
       "layout": "IPY_MODEL_ec82b22db7714e3094bb4e184c2a0f9d",
       "placeholder": "​",
       "style": "IPY_MODEL_b9ed84b05b234b21a3ff481c24ec7f29",
       "tabbable": null,
       "tooltip": null,
       "value": "100%"
      }
     },
     "7df333c4120a4b6fa53776f2dfba54bd": {
      "model_module": "@jupyter-widgets/controls",
      "model_module_version": "2.0.0",
      "model_name": "FloatProgressModel",
      "state": {
       "_dom_classes": [],
       "_model_module": "@jupyter-widgets/controls",
       "_model_module_version": "2.0.0",
       "_model_name": "FloatProgressModel",
       "_view_count": null,
       "_view_module": "@jupyter-widgets/controls",
       "_view_module_version": "2.0.0",
       "_view_name": "ProgressView",
       "bar_style": "success",
       "description": "",
       "description_allow_html": false,
       "layout": "IPY_MODEL_09dbebdd9aa643079860e74470d84264",
       "max": 9.0,
       "min": 0.0,
       "orientation": "horizontal",
       "style": "IPY_MODEL_675af66a29924e738d554ee1f82a69dc",
       "tabbable": null,
       "tooltip": null,
       "value": 9.0
      }
     },
     "aae3c5ae79c64f7293d2cf67a28a5ce1": {
      "model_module": "@jupyter-widgets/base",
      "model_module_version": "2.0.0",
      "model_name": "LayoutModel",
      "state": {
       "_model_module": "@jupyter-widgets/base",
       "_model_module_version": "2.0.0",
       "_model_name": "LayoutModel",
       "_view_count": null,
       "_view_module": "@jupyter-widgets/base",
       "_view_module_version": "2.0.0",
       "_view_name": "LayoutView",
       "align_content": null,
       "align_items": null,
       "align_self": null,
       "border_bottom": null,
       "border_left": null,
       "border_right": null,
       "border_top": null,
       "bottom": null,
       "display": null,
       "flex": null,
       "flex_flow": null,
       "grid_area": null,
       "grid_auto_columns": null,
       "grid_auto_flow": null,
       "grid_auto_rows": null,
       "grid_column": null,
       "grid_gap": null,
       "grid_row": null,
       "grid_template_areas": null,
       "grid_template_columns": null,
       "grid_template_rows": null,
       "height": null,
       "justify_content": null,
       "justify_items": null,
       "left": null,
       "margin": null,
       "max_height": null,
       "max_width": null,
       "min_height": null,
       "min_width": null,
       "object_fit": null,
       "object_position": null,
       "order": null,
       "overflow": null,
       "padding": null,
       "right": null,
       "top": null,
       "visibility": null,
       "width": null
      }
     },
     "b9ed84b05b234b21a3ff481c24ec7f29": {
      "model_module": "@jupyter-widgets/controls",
      "model_module_version": "2.0.0",
      "model_name": "HTMLStyleModel",
      "state": {
       "_model_module": "@jupyter-widgets/controls",
       "_model_module_version": "2.0.0",
       "_model_name": "HTMLStyleModel",
       "_view_count": null,
       "_view_module": "@jupyter-widgets/base",
       "_view_module_version": "2.0.0",
       "_view_name": "StyleView",
       "background": null,
       "description_width": "",
       "font_size": null,
       "text_color": null
      }
     },
     "ec82b22db7714e3094bb4e184c2a0f9d": {
      "model_module": "@jupyter-widgets/base",
      "model_module_version": "2.0.0",
      "model_name": "LayoutModel",
      "state": {
       "_model_module": "@jupyter-widgets/base",
       "_model_module_version": "2.0.0",
       "_model_name": "LayoutModel",
       "_view_count": null,
       "_view_module": "@jupyter-widgets/base",
       "_view_module_version": "2.0.0",
       "_view_name": "LayoutView",
       "align_content": null,
       "align_items": null,
       "align_self": null,
       "border_bottom": null,
       "border_left": null,
       "border_right": null,
       "border_top": null,
       "bottom": null,
       "display": null,
       "flex": null,
       "flex_flow": null,
       "grid_area": null,
       "grid_auto_columns": null,
       "grid_auto_flow": null,
       "grid_auto_rows": null,
       "grid_column": null,
       "grid_gap": null,
       "grid_row": null,
       "grid_template_areas": null,
       "grid_template_columns": null,
       "grid_template_rows": null,
       "height": null,
       "justify_content": null,
       "justify_items": null,
       "left": null,
       "margin": null,
       "max_height": null,
       "max_width": null,
       "min_height": null,
       "min_width": null,
       "object_fit": null,
       "object_position": null,
       "order": null,
       "overflow": null,
       "padding": null,
       "right": null,
       "top": null,
       "visibility": null,
       "width": null
      }
     },
     "edda00a22d404cdb807559c76aef3c71": {
      "model_module": "@jupyter-widgets/controls",
      "model_module_version": "2.0.0",
      "model_name": "HTMLStyleModel",
      "state": {
       "_model_module": "@jupyter-widgets/controls",
       "_model_module_version": "2.0.0",
       "_model_name": "HTMLStyleModel",
       "_view_count": null,
       "_view_module": "@jupyter-widgets/base",
       "_view_module_version": "2.0.0",
       "_view_name": "StyleView",
       "background": null,
       "description_width": "",
       "font_size": null,
       "text_color": null
      }
     }
    },
    "version_major": 2,
    "version_minor": 0
   }
  }
 },
 "nbformat": 4,
 "nbformat_minor": 5
}