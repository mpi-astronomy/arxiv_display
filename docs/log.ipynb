{
 "cells": [
  {
   "cell_type": "markdown",
   "id": "92bcb855",
   "metadata": {
    "papermill": {
     "duration": 0.004154,
     "end_time": "2024-12-18T04:11:11.379177",
     "exception": false,
     "start_time": "2024-12-18T04:11:11.375023",
     "status": "completed"
    },
    "tags": []
   },
   "source": [
    "# MPIA Arxiv on Deck 2\n",
    "\n",
    "Contains the steps to produce the paper extractions."
   ]
  },
  {
   "cell_type": "code",
   "execution_count": 1,
   "id": "3a0d6e11",
   "metadata": {
    "execution": {
     "iopub.execute_input": "2024-12-18T04:11:11.387270Z",
     "iopub.status.busy": "2024-12-18T04:11:11.386745Z",
     "iopub.status.idle": "2024-12-18T04:11:11.873554Z",
     "shell.execute_reply": "2024-12-18T04:11:11.872903Z"
    },
    "papermill": {
     "duration": 0.492306,
     "end_time": "2024-12-18T04:11:11.874940",
     "exception": false,
     "start_time": "2024-12-18T04:11:11.382634",
     "status": "completed"
    },
    "tags": []
   },
   "outputs": [],
   "source": [
    "# Imports\n",
    "import os\n",
    "from IPython.display import Markdown, display\n",
    "from tqdm.notebook import tqdm\n",
    "import warnings\n",
    "from PIL import Image \n",
    "import re\n",
    "\n",
    "# requires arxiv_on_deck_2\n",
    "\n",
    "from arxiv_on_deck_2.arxiv2 import (get_new_papers, \n",
    "                                    get_paper_from_identifier,\n",
    "                                    retrieve_document_source, \n",
    "                                    get_markdown_badge)\n",
    "from arxiv_on_deck_2 import (latex,\n",
    "                             latex_bib,\n",
    "                             mpia,\n",
    "                             highlight_authors_in_list)\n",
    "\n",
    "# Sometimes images are really big\n",
    "Image.MAX_IMAGE_PIXELS = 1000000000 "
   ]
  },
  {
   "cell_type": "code",
   "execution_count": 2,
   "id": "22aa9d44",
   "metadata": {
    "execution": {
     "iopub.execute_input": "2024-12-18T04:11:11.883203Z",
     "iopub.status.busy": "2024-12-18T04:11:11.882642Z",
     "iopub.status.idle": "2024-12-18T04:11:11.891084Z",
     "shell.execute_reply": "2024-12-18T04:11:11.890482Z"
    },
    "papermill": {
     "duration": 0.013743,
     "end_time": "2024-12-18T04:11:11.892142",
     "exception": false,
     "start_time": "2024-12-18T04:11:11.878399",
     "status": "completed"
    },
    "tags": []
   },
   "outputs": [],
   "source": [
    "# Some useful definitions.\n",
    "\n",
    "class AffiliationWarning(UserWarning):\n",
    "    pass\n",
    "\n",
    "class AffiliationError(RuntimeError):\n",
    "    pass\n",
    "\n",
    "def validation(source: str):\n",
    "    \"\"\"Raises error paper during parsing of source file\n",
    "    \n",
    "    Allows checks before parsing TeX code.\n",
    "    \n",
    "    Raises AffiliationWarning\n",
    "    \"\"\"\n",
    "    check = mpia.affiliation_verifications(source, verbose=True)\n",
    "    if check is not True:\n",
    "        raise AffiliationError(\"mpia.affiliation_verifications: \" + check)\n",
    "\n",
    "        \n",
    "warnings.simplefilter('always', AffiliationWarning)\n",
    "\n",
    "\n",
    "def get_markdown_qrcode(paper_id: str):\n",
    "    \"\"\" Generate a qrcode to the arxiv page using qrserver.com\n",
    "    \n",
    "    :param paper: Arxiv paper\n",
    "    :returns: markdown text\n",
    "    \"\"\"\n",
    "    url = r\"https://api.qrserver.com/v1/create-qr-code/?size=100x100&data=\"\n",
    "    txt = f\"\"\"<img src={url}\"https://arxiv.org/abs/{paper_id}\">\"\"\"\n",
    "    txt = '<div id=\"qrcode\">' + txt + '</div>'\n",
    "    return txt\n",
    "\n",
    "\n",
    "def clean_non_western_encoded_characters_commands(text: str) -> str:\n",
    "    \"\"\" Remove non-western encoded characters from a string\n",
    "    List may need to grow.\n",
    "    \n",
    "    :param text: the text to clean\n",
    "    :return: the cleaned text\n",
    "    \"\"\"\n",
    "    text = re.sub(r\"(\\\\begin{CJK}{UTF8}{gbsn})(.*?)(\\\\end{CJK})\", r\"\\2\", text)\n",
    "    return text\n",
    "\n",
    "\n",
    "def get_initials(name: str) -> str:\n",
    "    \"\"\" Get the short name, e.g., A.-B. FamName\n",
    "    :param name: full name\n",
    "    :returns: initials\n",
    "    \"\"\"\n",
    "    initials = []\n",
    "    # account for non western names often in ()\n",
    "    if '(' in name:\n",
    "        name = clean_non_western_encoded_characters_commands(name)\n",
    "        suffix = re.findall(r\"\\((.*?)\\)\", name)[0]\n",
    "        name = name.replace(f\"({suffix})\", '')\n",
    "    else:\n",
    "        suffix = ''\n",
    "    split = name.split()\n",
    "    for token in split[:-1]:\n",
    "        if '-' in token:\n",
    "            current = '-'.join([k[0] + '.' for k in token.split('-')])\n",
    "        else:\n",
    "            current = token[0] + '.'\n",
    "        initials.append(current)\n",
    "    initials.append(split[-1].strip())\n",
    "    if suffix:\n",
    "        initials.append(f\"({suffix})\")\n",
    "    return ' '.join(initials)"
   ]
  },
  {
   "cell_type": "markdown",
   "id": "14bd6310",
   "metadata": {
    "papermill": {
     "duration": 0.003217,
     "end_time": "2024-12-18T04:11:11.898740",
     "exception": false,
     "start_time": "2024-12-18T04:11:11.895523",
     "status": "completed"
    },
    "tags": []
   },
   "source": [
    "## get list of arxiv paper candidates\n",
    "\n",
    "We use the MPIA mitarbeiter list webpage from mpia.de to get author names\n",
    "We then get all new papers from Arxiv and match authors"
   ]
  },
  {
   "cell_type": "code",
   "execution_count": 3,
   "id": "7ea813a8",
   "metadata": {
    "execution": {
     "iopub.execute_input": "2024-12-18T04:11:11.906509Z",
     "iopub.status.busy": "2024-12-18T04:11:11.906019Z",
     "iopub.status.idle": "2024-12-18T04:11:29.637745Z",
     "shell.execute_reply": "2024-12-18T04:11:29.637005Z"
    },
    "papermill": {
     "duration": 17.737144,
     "end_time": "2024-12-18T04:11:29.639093",
     "exception": false,
     "start_time": "2024-12-18T04:11:11.901949",
     "status": "completed"
    },
    "tags": []
   },
   "outputs": [],
   "source": [
    "# deal with the author list and edge cases of people that cannot be consistent on their name  \n",
    "\n",
    "def filter_non_scientists(name: str) -> bool:\n",
    "    \"\"\" Loose filter on expected authorships\n",
    "\n",
    "    removing IT, administration, technical staff\n",
    "    :param name: name\n",
    "    :returns: False if name is not a scientist\n",
    "    \"\"\"\n",
    "    remove_list = ['Licht', 'Binroth', 'Witzel', 'Jordan',\n",
    "                   'Zähringer', 'Scheerer', 'Hoffmann', 'Düe',\n",
    "                   'Hellmich', 'Enkler-Scharpegge', 'Witte-Nguy',\n",
    "                   'Dehen', 'Beckmann', 'Jager', 'Jäger'\n",
    "                  ]\n",
    "\n",
    "    for k in remove_list:\n",
    "        if k in name:\n",
    "            return False\n",
    "    return True\n",
    "\n",
    "def add_author_to_list(author_list: list) -> list:\n",
    "    \"\"\" Add author to list if not already in list\n",
    "    \n",
    "    :param author: author name\n",
    "    :param author_list: list of authors\n",
    "    :returns: updated list of authors\n",
    "    \"\"\"\n",
    "    add_list = ['T. Henning']\n",
    "\n",
    "    for author in add_list:\n",
    "        if author not in author_list:\n",
    "            author_list.append(author)\n",
    "    return author_list\n",
    "\n",
    "# get list from MPIA website\n",
    "# filter for non-scientists (mpia.get_mpia_mitarbeiter_list() does some filtering)\n",
    "mpia_authors = [k[1] for k in mpia.get_mpia_mitarbeiter_list() if filter_non_scientists(k[1])]\n",
    "# add some missing author because of inconsistencies in their MPIA name and author name on papers\n",
    "mpia_authors = add_author_to_list(mpia_authors)"
   ]
  },
  {
   "cell_type": "code",
   "execution_count": 4,
   "id": "2645e73a",
   "metadata": {
    "execution": {
     "iopub.execute_input": "2024-12-18T04:11:29.647461Z",
     "iopub.status.busy": "2024-12-18T04:11:29.646961Z",
     "iopub.status.idle": "2024-12-18T04:11:30.391102Z",
     "shell.execute_reply": "2024-12-18T04:11:30.390344Z"
    },
    "papermill": {
     "duration": 0.749505,
     "end_time": "2024-12-18T04:11:30.392152",
     "exception": false,
     "start_time": "2024-12-18T04:11:29.642647",
     "status": "completed"
    },
    "tags": []
   },
   "outputs": [
    {
     "name": "stdout",
     "output_type": "stream",
     "text": [
      "J. Li  ->  J. Li  |  ['J. Li']\n",
      "X. Zhang  ->  X. Zhang  |  ['X. Zhang']\n",
      "T. Henning  ->  T. Henning  |  ['T. Henning']\n",
      "G. Perotti  ->  G. Perotti  |  ['G. Perotti']\n",
      "K. Schwarz  ->  K. Schwarz  |  ['K. Schwarz']\n",
      "F. Walter  ->  F. Walter  |  ['F. Walter']\n",
      "J. Li  ->  J. Li  |  ['J. Li']\n",
      "J. Müller-Horn  ->  J. Müller-Horn  |  ['J. Müller-Horn']\n",
      "Arxiv has 86 new papers today\n",
      "          6 with possible author matches\n"
     ]
    }
   ],
   "source": [
    "new_papers = get_new_papers()\n",
    "# add manual references\n",
    "add_paper_refs = []\n",
    "new_papers.extend([get_paper_from_identifier(k) for k in add_paper_refs])\n",
    "\n",
    "def robust_call(fn, value, *args, **kwargs):\n",
    "    try:\n",
    "        return fn(value, *args, **kwargs)\n",
    "    except Exception:\n",
    "        return value\n",
    "\n",
    "candidates = []\n",
    "for paperk in new_papers:\n",
    "    # Check author list with their initials\n",
    "    normed_author_list = [robust_call(mpia.get_initials, k) for k in paperk['authors']]\n",
    "    hl_authors = highlight_authors_in_list(normed_author_list, mpia_authors, verbose=True)\n",
    "    matches = [(hl, orig) for hl, orig in zip(hl_authors, paperk['authors']) if 'mark' in hl]\n",
    "    paperk['authors'] = hl_authors\n",
    "    if matches:\n",
    "        # only select paper if an author matched our list\n",
    "        candidates.append(paperk)\n",
    "print(\"\"\"Arxiv has {0:,d} new papers today\"\"\".format(len(new_papers)))        \n",
    "print(\"\"\"          {0:,d} with possible author matches\"\"\".format(len(candidates)))"
   ]
  },
  {
   "cell_type": "markdown",
   "id": "3543b34a",
   "metadata": {
    "papermill": {
     "duration": 0.003283,
     "end_time": "2024-12-18T04:11:30.398980",
     "exception": false,
     "start_time": "2024-12-18T04:11:30.395697",
     "status": "completed"
    },
    "tags": []
   },
   "source": [
    "# Parse sources and generate relevant outputs\n",
    "\n",
    "From the candidates, we do the following steps:\n",
    "* get their tarball from ArXiv (and extract data)\n",
    "* find the main .tex file: find one with \\documentclass{...} (sometimes it's non trivial)\n",
    "* Check affiliations with :func:`validation`, which uses :func:`mpia.affiliation_verifications`\n",
    "* If passing the affiliations: we parse the .tex source\n",
    "   * inject sub-documents into the main (flatten the main document)\n",
    "   * parse structure, extract information (title, abstract, authors, figures...)\n",
    "   * handles `\\graphicspath` if provided\n",
    "* Generate the .md document."
   ]
  },
  {
   "cell_type": "code",
   "execution_count": 5,
   "id": "9576b79e",
   "metadata": {
    "execution": {
     "iopub.execute_input": "2024-12-18T04:11:30.407065Z",
     "iopub.status.busy": "2024-12-18T04:11:30.406445Z",
     "iopub.status.idle": "2024-12-18T04:13:52.489116Z",
     "shell.execute_reply": "2024-12-18T04:13:52.488278Z"
    },
    "papermill": {
     "duration": 142.092306,
     "end_time": "2024-12-18T04:13:52.494578",
     "exception": false,
     "start_time": "2024-12-18T04:11:30.402272",
     "status": "completed"
    },
    "scrolled": false,
    "tags": []
   },
   "outputs": [
    {
     "data": {
      "application/vnd.jupyter.widget-view+json": {
       "model_id": "b9d368394fd74a158813d9026b4d3f74",
       "version_major": 2,
       "version_minor": 0
      },
      "text/plain": [
       "  0%|          | 0/6 [00:00<?, ?it/s]"
      ]
     },
     "metadata": {},
     "output_type": "display_data"
    },
    {
     "name": "stdout",
     "output_type": "stream",
     "text": [
      "Retrieving document from  https://arxiv.org/e-print/2412.12420\n"
     ]
    },
    {
     "name": "stdout",
     "output_type": "stream",
     "text": [
      "extracting tarball to tmp_2412.12420..."
     ]
    },
    {
     "name": "stdout",
     "output_type": "stream",
     "text": [
      " done.\n",
      "Retrieving document from  https://arxiv.org/e-print/2412.12601\n"
     ]
    },
    {
     "name": "stdout",
     "output_type": "stream",
     "text": [
      "extracting tarball to tmp_2412.12601... done.\n",
      "Retrieving document from  https://arxiv.org/e-print/2412.12715\n"
     ]
    },
    {
     "name": "stdout",
     "output_type": "stream",
     "text": [
      "extracting tarball to tmp_2412.12715..."
     ]
    },
    {
     "name": "stdout",
     "output_type": "stream",
     "text": [
      " done.\n"
     ]
    },
    {
     "name": "stderr",
     "output_type": "stream",
     "text": [
      "/opt/hostedtoolcache/Python/3.9.20/x64/lib/python3.9/site-packages/arxiv_on_deck_2/latex.py:132: LatexWarning: attempting recovering figure Figures/CXTau_H2_rot_diag_v8b_v2.pdf\n",
      "  warnings.warn(LatexWarning(f'attempting recovering figure {image}'))\n",
      "/opt/hostedtoolcache/Python/3.9.20/x64/lib/python3.9/site-packages/arxiv_on_deck_2/latex.py:707: LatexWarning: Could not find graphic \\includegraphics[width=0.5\\textwidth]{Figures/CXTau_H2_rot_diag_v8b_v2.pdf}\n",
      "  warnings.warn(LatexWarning(f\"Could not find graphic {k}\"))\n"
     ]
    },
    {
     "name": "stdout",
     "output_type": "stream",
     "text": [
      "Found 117 bibliographic references in tmp_2412.12715/main.bbl.\n",
      "Issues with the citations\n",
      "syntax error in line 60: '=' expected\n",
      "Retrieving document from  https://arxiv.org/e-print/2412.12826\n"
     ]
    },
    {
     "name": "stdout",
     "output_type": "stream",
     "text": [
      "extracting tarball to tmp_2412.12826..."
     ]
    },
    {
     "name": "stdout",
     "output_type": "stream",
     "text": [
      " done.\n"
     ]
    },
    {
     "name": "stdout",
     "output_type": "stream",
     "text": [
      "Found 180 bibliographic references in tmp_2412.12826/GNz11.bbl.\n",
      "Issues with the citations\n",
      "syntax error in line 32: '=' expected\n",
      "Retrieving document from  https://arxiv.org/e-print/2412.13166\n"
     ]
    },
    {
     "name": "stdout",
     "output_type": "stream",
     "text": [
      "extracting tarball to tmp_2412.13166..."
     ]
    },
    {
     "name": "stdout",
     "output_type": "stream",
     "text": [
      " done.\n",
      "Retrieving document from  https://arxiv.org/e-print/2412.13189\n"
     ]
    },
    {
     "name": "stdout",
     "output_type": "stream",
     "text": [
      "extracting tarball to tmp_2412.13189..."
     ]
    },
    {
     "name": "stdout",
     "output_type": "stream",
     "text": [
      " done.\n"
     ]
    },
    {
     "name": "stdout",
     "output_type": "stream",
     "text": [
      "J. Müller-Horn  ->  J. Müller-Horn  |  ['J. Müller-Horn']\n"
     ]
    },
    {
     "name": "stdout",
     "output_type": "stream",
     "text": [
      "Found 90 bibliographic references in tmp_2412.13189/main.bbl.\n"
     ]
    }
   ],
   "source": [
    "documents = []\n",
    "failed = []\n",
    "for paper in tqdm(candidates):\n",
    "    # debug crap\n",
    "    paper['identifier'] = paper['identifier'].lower().replace('arxiv:', '').replace(r'\\n', '').strip()\n",
    "    paper_id = paper['identifier']\n",
    "    \n",
    "    folder = f'tmp_{paper_id}'\n",
    "\n",
    "    try:\n",
    "        if not os.path.isdir(folder):\n",
    "            folder = retrieve_document_source(f\"{paper_id}\", f'tmp_{paper_id}')\n",
    "        \n",
    "        try:\n",
    "            doc = latex.LatexDocument(folder, validation=validation)    \n",
    "        except AffiliationError as affilerror:\n",
    "            msg = f\"ArXiv:{paper_id:s} is not an MPIA paper... \" + str(affilerror)\n",
    "            failed.append((paper, \"affiliation error: \" + str(affilerror) ))\n",
    "            continue\n",
    "        \n",
    "        # Hack because sometimes author parsing does not work well\n",
    "        if (len(doc.authors) != len(paper['authors'])):\n",
    "            doc._authors = paper['authors']\n",
    "        else:\n",
    "            # highlight authors (FIXME: doc.highlight_authors)\n",
    "            # done on arxiv paper already\n",
    "            doc._authors = highlight_authors_in_list(\n",
    "                [get_initials(k) for k in doc.authors], \n",
    "                mpia_authors, verbose=True)\n",
    "        if (doc.abstract) in (None, ''):\n",
    "            doc._abstract = paper['abstract']\n",
    "            \n",
    "        doc.comment = (get_markdown_badge(paper_id) + \n",
    "                       \"<mark>Appeared on: \" + paper['date'] + \"</mark> - \")\n",
    "        if paper['comments']:\n",
    "            doc.comment += \" _\" + paper['comments'] + \"_\"\n",
    "        \n",
    "        full_md = doc.generate_markdown_text()\n",
    "        \n",
    "        full_md += get_markdown_qrcode(paper_id)\n",
    "        \n",
    "        # replace citations\n",
    "        try:\n",
    "            bibdata = latex_bib.LatexBib.from_doc(doc)\n",
    "            full_md = latex_bib.replace_citations(full_md, bibdata)\n",
    "        except Exception as e:\n",
    "            print(\"Issues with the citations\")\n",
    "            print(e)\n",
    "        \n",
    "        documents.append((paper_id, full_md))\n",
    "    except Exception as e:\n",
    "        warnings.warn(latex.LatexWarning(f\"{paper_id:s} did not run properly\\n\" +\n",
    "                                         str(e)\n",
    "                                        ))\n",
    "        failed.append((paper, \"latex error \" + str(e)))"
   ]
  },
  {
   "cell_type": "markdown",
   "id": "2505a25c",
   "metadata": {
    "papermill": {
     "duration": 0.004434,
     "end_time": "2024-12-18T04:13:52.503404",
     "exception": false,
     "start_time": "2024-12-18T04:13:52.498970",
     "status": "completed"
    },
    "tags": []
   },
   "source": [
    "### Export the logs\n",
    "\n",
    "Throughout, we also keep track of the logs per paper. see `logs-{today date}.md` "
   ]
  },
  {
   "cell_type": "code",
   "execution_count": 6,
   "id": "d733828a",
   "metadata": {
    "execution": {
     "iopub.execute_input": "2024-12-18T04:13:52.513181Z",
     "iopub.status.busy": "2024-12-18T04:13:52.512820Z",
     "iopub.status.idle": "2024-12-18T04:13:52.531500Z",
     "shell.execute_reply": "2024-12-18T04:13:52.530564Z"
    },
    "papermill": {
     "duration": 0.02513,
     "end_time": "2024-12-18T04:13:52.532760",
     "exception": false,
     "start_time": "2024-12-18T04:13:52.507630",
     "status": "completed"
    },
    "scrolled": false,
    "tags": []
   },
   "outputs": [
    {
     "data": {
      "text/markdown": [
       "## Successful papers"
      ],
      "text/plain": [
       "<IPython.core.display.Markdown object>"
      ]
     },
     "metadata": {},
     "output_type": "display_data"
    },
    {
     "data": {
      "text/markdown": [
       "\n",
       "|||\n",
       "|---:|:---|\n",
       "| [![arXiv](https://img.shields.io/badge/arXiv-2412.12715-b31b1b.svg)](https://arxiv.org/abs/2412.12715) | **MINDS. JWST-MIRI reveals a peculiar CO$_2$-rich chemistry in the drift-dominated disk CX Tau**  |\n",
       "|| M. Vlasblom, et al. -- incl., <mark>T. Henning</mark>, <mark>G. Perotti</mark>, <mark>K. Schwarz</mark> |\n",
       "|*Appeared on*| *2024-12-18*|\n",
       "|*Comments*| *23 pages, 17 figures, accepted for publication in Astronomy & Astrophysics*|\n",
       "|**Abstract**|            Radial drift of icy pebbles can have a large impact on the chemistry of the inner regions of protoplanetary disks. Compact dust disks ($\\lesssim$50 au) are suggested to have a higher (cold) H$_2$O flux than more extended disks, likely due to efficient radial drift bringing H$_2$O-rich material to the inner disk, where it can be observed with JWST. We present JWST MIRI/MRS observations of the disk CX Tau taken as a part of the Mid-INfrared Disk Survey (MINDS) GTO program, a prime example of a drift-dominated disk. This compact disk seems peculiar: the source possesses a bright CO$_2$ feature instead of the bright H$_2$O expected based on its efficient radial drift. We aim to provide an explanation for this finding. We detect molecular emission from H$_2$O, $^{12}$CO$_2$, $^{13}$CO$_2$, C$_2$H$_2$, HCN, and OH in this disk, and even demonstrate a potential detection of CO$^{18}$O. Analysis of the $^{12}$CO$_2$ and $^{13}$CO$_2$ emission shows the former to be tracing a temperature of $\\sim$450 K, whereas the $^{13}$CO$_2$ traces a significantly colder temperature ($\\sim$200 K). H$_2$O is also securely detected both at shorter and longer wavelengths, tracing a similar temperature of $\\sim$500-600 K as the CO$_2$ emission. We also find evidence for a colder, $\\sim$200 K H$_2$O component at longer wavelengths, which is in line with this disk having strong radial drift. The cold $^{13}$CO$_2$ and H$_2$O emission indicate that radial drift of ices likely plays an important role in setting the chemistry of the inner disk of CX Tau. Potentially, the H$_2$O-rich gas has already advected onto the central star, which is now followed by an enhancement of comparatively CO$_2$-rich gas reaching the inner disk, explaining the enhancement of CO$_2$ emission in CX Tau. The comparatively weaker H$_2$O emission can be explained by the source's low accretion luminosity. (abridged)         |"
      ],
      "text/plain": [
       "[2412.12715] MINDS. JWST-MIRI reveals a peculiar CO$_2$-rich chemistry in the drift-dominated disk CX Tau\n",
       "\tM. Vlasblom, et al. -- incl., <mark>T. Henning</mark>, <mark>G. Perotti</mark>, <mark>K. Schwarz</mark>"
      ]
     },
     "metadata": {},
     "output_type": "display_data"
    },
    {
     "data": {
      "text/markdown": [
       "\n",
       "|||\n",
       "|---:|:---|\n",
       "| [![arXiv](https://img.shields.io/badge/arXiv-2412.12826-b31b1b.svg)](https://arxiv.org/abs/2412.12826) | **Insight into the Starburst Nature of Galaxy GN-z11 with JWST MIRI Spectroscopy**  |\n",
       "|| J. Álvarez-Márquez, et al. -- incl., <mark>F. Walter</mark> |\n",
       "|*Appeared on*| *2024-12-18*|\n",
       "|*Comments*| *accepted for publication in A&A (17 pages, 6 figures, 2 tables)*|\n",
       "|**Abstract**|            This paper presents a deep MIRI/JWST medium resolution spectroscopy (MRS) covering the rest-frame optical spectrum of the GN-z11 galaxy. The [OIII]5008 and H$\\alpha$ emission lines are detected and spectroscopically resolved. The line profiles are well-modeled by a narrow Gaussian component with intrinsic FWHMs of 189$\\pm$25 and 231$\\pm$52 kms$^{-1}$, respectively. We do not find any evidence of a dominant broad H$\\alpha$ emission line component tracing a Broad Line Region in a type 1 active galactic nuclei (AGN). However, a broad ($\\sim$430-470 kms$^{-1}$) and weak ($<$ 20-30%) H$\\alpha$ line component, tracing a minor AGN contribution in the optical, cannot be ruled out completely with the sensitivity of the present data. The physical and excitation properties of the ionized gas are consistent with a low-metallicity starburst forming stars at a rate of SFR(H$\\alpha$)$=$24 $\\pm$3$M_{\\odot}$yr$^{-1}$. The electron temperature of the ionized gas is $T_{\\mathrm{e}}$(O$^{++}$)$=$14000$\\pm$2100K, while the direct-$T_{\\mathrm{e}}$ gas-phase metallicity is 12+$\\log$(O/H)$=$7.91$\\pm$0.07 (Z=0.17$\\pm$0.03Z$_{\\odot}$). The optical line ratios locate GN-z11 in the starburst or AGN region but more consistent with those of local low-metallicity starbursts and high-$z$ luminous galaxies detected at redshifts similar to GN-z11. We conclude that the MRS optical spectrum of GN-z11 is consistent with that of a massive, compact, and low-metallicity starburst galaxy. Due to its high SFR and stellar mass surface densities, close to that of the densest stellar clusters, we speculate that GN-z11 could be undergoing a feedback-free, highly efficient starburst phase. Additional JWST data are needed to validate this scenario, and other recently proposed alternatives, to explain the existence of bright compact galaxies in the early Universe.         |"
      ],
      "text/plain": [
       "[2412.12826] Insight into the Starburst Nature of Galaxy GN-z11 with JWST MIRI Spectroscopy\n",
       "\tJ. Álvarez-Márquez, et al. -- incl., <mark>F. Walter</mark>"
      ]
     },
     "metadata": {},
     "output_type": "display_data"
    },
    {
     "data": {
      "text/markdown": [
       "\n",
       "|||\n",
       "|---:|:---|\n",
       "| [![arXiv](https://img.shields.io/badge/arXiv-2412.13189-b31b1b.svg)](https://arxiv.org/abs/2412.13189) | **Binary properties of the globular cluster 47 Tuc (NGC 104). A dearth of short-period binaries**  |\n",
       "|| <mark>J. Müller-Horn</mark>, et al. |\n",
       "|*Appeared on*| *2024-12-18*|\n",
       "|*Comments*| *Accepted for publication in Astronomy and Astrophysics, 18 pages, 20 figures*|\n",
       "|**Abstract**|            Spectroscopic observations of binary stars in globular clusters are essential to shed light on the poorly constrained period, eccentricity, and mass ratio distributions and to develop an understanding of the formation of peculiar stellar objects. 47 Tuc (NGC 104) is one of the most massive Galactic globular clusters, with a large population of blue stragglers and with many predicted but as-yet elusive stellar-mass black holes. This makes it an exciting candidate for binary searches. We present a multi-epoch spectroscopic survey of 47 Tuc with the VLT/MUSE integral field spectrograph to determine radial velocity variations for 21,699 stars. We find a total binary fraction in the cluster of $(2.4\\pm1.0)\\%$, consistent with previous photometric estimates, and an increased binary fraction among blue straggler stars, approximately three times higher than the cluster average. We find very few binaries with periods below three days, and none with massive dark companions. A comparison with predictions from state-of-the-art models shows that the absence of such short-period binaries and of binaries with massive companions is surprising, highlighting the need to improve our understanding of stellar and dynamical evolution in binary systems.         |"
      ],
      "text/plain": [
       "[2412.13189] Binary properties of the globular cluster 47 Tuc (NGC 104). A dearth of short-period binaries\n",
       "\t<mark>J. Müller-Horn</mark>, et al."
      ]
     },
     "metadata": {},
     "output_type": "display_data"
    },
    {
     "data": {
      "text/markdown": [
       "## Failed papers"
      ],
      "text/plain": [
       "<IPython.core.display.Markdown object>"
      ]
     },
     "metadata": {},
     "output_type": "display_data"
    },
    {
     "data": {
      "text/markdown": [
       "\n",
       "|||\n",
       "|---:|:---|\n",
       "| [![arXiv](https://img.shields.io/badge/arXiv-2412.12420-b31b1b.svg)](https://arxiv.org/abs/2412.12420) | **Testing Colour-magnitude Pattern as A Method in the Search for Changing-Look AGNs**  |\n",
       "|| L.-t. Zhu, et al. -- incl., <mark>J. Li</mark> |\n",
       "|*Appeared on*| *2024-12-18*|\n",
       "|*Comments*| *16 pages, 9 figures, 3 tables, accepted for publication in MNRAS*|\n",
       "|**Abstract**|            We develop a simple method to search for changing-look (CL) active galactic nucleus (AGN) candidates, and conduct a test run. In this method, optical variations of AGNs are monitored and CL-AGNs may appear to have a pattern of being bluer when in brightening flare-like events. Applying this method, previously-classified type 2 AGNs that show the bluer-when-brighter (BWB) pattern are selected. Among more than ten thousands type 2 AGNs classified in the Sloan Digital Sky Survey (SDSS), we find 73 candidates with possibly the strongest BWB pattern. We note that 13 of them have previously been reported as CL-AGNs. We have observed nine candidates, and found that five among them showed the CL transition from type 2 to type 1. In addition, we also test extending the selection to previously-classified type 1 AGNs in the SDSS by finding sources with a possible redder-when-brighter pattern, but none of the three sources observed by us is found to show the transition from type 1 to type 2. We discuss the variation properties in both the success and failure cases, and plan to observe more candidates selected with the method. From the observational results, a detailed comparison between the CL-AGNs and none CL-AGNs will help quantitatively refine the selection criteria and in turn allow us to configure the general properties of CLAGNs.         |\n",
       "|<p style=\"color:green\"> **ERROR** </p>| <p style=\"color:green\">affiliation error: mpia.affiliation_verifications: 'Heidelberg' keyword not found.</p> |"
      ],
      "text/plain": [
       "<IPython.core.display.Markdown object>"
      ]
     },
     "metadata": {},
     "output_type": "display_data"
    },
    {
     "data": {
      "text/markdown": [
       "\n",
       "|||\n",
       "|---:|:---|\n",
       "| [![arXiv](https://img.shields.io/badge/arXiv-2412.12601-b31b1b.svg)](https://arxiv.org/abs/2412.12601) | **Minute-cadence observations on Galactic plane with Wide Field Survey Telescope (WFST): Overview, methodology and early results**  |\n",
       "|| J. Lin, et al. -- incl., <mark>X. Zhang</mark> |\n",
       "|*Appeared on*| *2024-12-18*|\n",
       "|*Comments*| *19 pages, 12 figures, submitted*|\n",
       "|**Abstract**|            As the time-domain survey telescope of the highest survey power in the northern hemisphere currently, Wide Field Survey Telescope (WFST) is scheduled to hourly/daily/semi-weekly scan northern sky up to ~23 mag in four optical (ugri) bands. Unlike the observation cadences in the forthcoming regular survey missions, WFST performed \"staring\" observations toward Galactic plane in a cadence of $\\approx$1 minute for a total on-source time of about 13 hours, during the commissioning and pilot observation phases. Such an observation cadence is well applied in producing densely sampling light curves and hunting for stars exhibiting fast stellar variabilities. Here we introduce the primary methodologies in detecting variability, periodicity, and stellar flares among a half million sources from the minute-cadence observations, and present the WFST g-/r-band light curves generated from periodic variable stars and flaring stars. Benefit from high photometric precisions and deep detection limits of WFST, the observations have captured several rare variable stars, such as a variable hot white dwarf (WD) and an ellipsoidal WD binary candidate. By surveying the almost unexplored parameter spaces for variables, WFST will lead to new opportunities in discovering unique variable stars in the northern sky.         |\n",
       "|<p style=\"color:green\"> **ERROR** </p>| <p style=\"color:green\">affiliation error: mpia.affiliation_verifications: 'Heidelberg' keyword not found.</p> |"
      ],
      "text/plain": [
       "<IPython.core.display.Markdown object>"
      ]
     },
     "metadata": {},
     "output_type": "display_data"
    },
    {
     "data": {
      "text/markdown": [
       "\n",
       "|||\n",
       "|---:|:---|\n",
       "| [![arXiv](https://img.shields.io/badge/arXiv-2412.13166-b31b1b.svg)](https://arxiv.org/abs/2412.13166) | **The Red Supergiant Progenitor of the Type II Supernova 2024abfl**  |\n",
       "|| J. Luo, et al. -- incl., <mark>J. Li</mark> |\n",
       "|*Appeared on*| *2024-12-18*|\n",
       "|*Comments*| *11 pages, 6 figures, in review (submitted on Dec 9th, 2024)*|\n",
       "|**Abstract**|            Linkage between core-collapse supernovae (SNe) and their progenitors is not fully understood and ongoing effort of searching and identifying the progenitors is needed. $\\mathrm{SN\\,2024abfl}$ is a recent Type II supernova exploded in the nearby star-bursting galaxy $\\mathrm{NGC\\,2146}$, which is also the host galaxy of $\\mathrm{SN\\,2018zd}$. From archival Hubble Space Telescope (HST) data, we have found a red source ($\\mathrm{m_{F814W} \\sim 25}$) near the location (angular distance $\\leq 0.2\"$) of $\\mathrm{SN\\,2024abfl}$ before its explosion. With F814W and F606W photometry, we found that the properties of this source matched a typical red supergiant (RSG) moderately reddened by interstellar dust at the distance of the host galaxy. We conclude that the $\\mathrm{SN\\,2024abfl}$ had an RSG progenitor with initial mass of $\\mathrm{10M_{\\odot}}$--$\\mathrm{16\\,M_{\\odot}}$.         |\n",
       "|<p style=\"color:green\"> **ERROR** </p>| <p style=\"color:green\">affiliation error: mpia.affiliation_verifications: 'Heidelberg' keyword not found.</p> |"
      ],
      "text/plain": [
       "<IPython.core.display.Markdown object>"
      ]
     },
     "metadata": {},
     "output_type": "display_data"
    }
   ],
   "source": [
    "import datetime\n",
    "today = str(datetime.date.today())\n",
    "logfile = f\"_build/html/logs/log-{today}.md\"\n",
    "\n",
    "\n",
    "with open(logfile, 'w') as logs:\n",
    "    # Success\n",
    "    logs.write(f'# Arxiv on Deck 2: Logs - {today}\\n\\n')\n",
    "    logs.write(\"\"\"* Arxiv had {0:,d} new papers\\n\"\"\".format(len(new_papers)))\n",
    "    logs.write(\"\"\"    * {0:,d} with possible author matches\\n\\n\"\"\".format(len(candidates)))\n",
    "    logs.write(\"## Sucessful papers\\n\\n\")\n",
    "    display(Markdown(\"## Successful papers\"))\n",
    "    success = [k[0] for k in documents]\n",
    "    for candid in candidates:\n",
    "        if candid['identifier'].split(':')[-1] in success:\n",
    "            display(candid)\n",
    "            logs.write(candid.generate_markdown_text() + '\\n\\n')\n",
    "\n",
    "    ## failed\n",
    "    logs.write(\"## Failed papers\\n\\n\")\n",
    "    display(Markdown(\"## Failed papers\"))\n",
    "    failed = sorted(failed, key=lambda x: x[1])\n",
    "    current_reason = \"\"\n",
    "    for paper, reason in failed:\n",
    "        if 'affiliation' in reason:\n",
    "            color = 'green'\n",
    "        else:\n",
    "            color = 'red'\n",
    "        data = Markdown(\n",
    "                paper.generate_markdown_text() + \n",
    "                f'\\n|<p style=\"color:{color:s}\"> **ERROR** </p>| <p style=\"color:{color:s}\">{reason:s}</p> |'\n",
    "               )\n",
    "        if reason != current_reason:\n",
    "            logs.write(f'### {reason:s} \\n\\n')\n",
    "            current_reason = reason\n",
    "        logs.write(data.data + '\\n\\n')\n",
    "        \n",
    "        # only display here the important errors (all in logs)\n",
    "        # if color in ('red',):\n",
    "        display(data)"
   ]
  },
  {
   "cell_type": "markdown",
   "id": "472d20ee",
   "metadata": {
    "papermill": {
     "duration": 0.005014,
     "end_time": "2024-12-18T04:13:52.543196",
     "exception": false,
     "start_time": "2024-12-18T04:13:52.538182",
     "status": "completed"
    },
    "tags": []
   },
   "source": [
    "## Export documents\n",
    "\n",
    "We now write the .md files and export relevant images"
   ]
  },
  {
   "cell_type": "code",
   "execution_count": 7,
   "id": "d426aed9",
   "metadata": {
    "execution": {
     "iopub.execute_input": "2024-12-18T04:13:52.555079Z",
     "iopub.status.busy": "2024-12-18T04:13:52.554455Z",
     "iopub.status.idle": "2024-12-18T04:13:52.562032Z",
     "shell.execute_reply": "2024-12-18T04:13:52.561414Z"
    },
    "papermill": {
     "duration": 0.014822,
     "end_time": "2024-12-18T04:13:52.563069",
     "exception": false,
     "start_time": "2024-12-18T04:13:52.548247",
     "status": "completed"
    },
    "tags": []
   },
   "outputs": [],
   "source": [
    "def export_markdown_summary(md: str, md_fname:str, directory: str):\n",
    "    \"\"\"Export MD document and associated relevant images\"\"\"\n",
    "    import os\n",
    "    import shutil\n",
    "    import re\n",
    "\n",
    "    if (os.path.exists(directory) and not os.path.isdir(directory)):\n",
    "        raise RuntimeError(f\"a non-directory file exists with name {directory:s}\")\n",
    "\n",
    "    if (not os.path.exists(directory)):\n",
    "        print(f\"creating directory {directory:s}\")\n",
    "        os.mkdir(directory)\n",
    "\n",
    "    fig_fnames = (re.compile(r'\\[Fig.*\\]\\((.*)\\)').findall(md) + \n",
    "                  re.compile(r'\\<img src=\"([^>\\s]*)\"[^>]*/>').findall(md))\n",
    "    print(\"found figures\", fig_fnames)\n",
    "    for fname in fig_fnames:\n",
    "        if 'http' in fname:\n",
    "            # No need to copy online figures\n",
    "            continue\n",
    "        if not os.path.exists(fname):\n",
    "            print(\"file not found\", fname)\n",
    "            continue\n",
    "        print(\"copying \", fname, \"to\", directory)\n",
    "        destdir = os.path.join(directory, os.path.dirname(fname))\n",
    "        destfname = os.path.join(destdir, os.path.basename(fname))\n",
    "        try:\n",
    "            os.makedirs(destdir)\n",
    "        except FileExistsError:\n",
    "            pass\n",
    "        shutil.copy(fname, destfname)\n",
    "    with open(os.path.join(directory, md_fname), 'w') as fout:\n",
    "        fout.write(md)\n",
    "    print(\"exported in \", os.path.join(directory, md_fname))\n",
    "    [print(\"    + \" + os.path.join(directory,fk)) for fk in fig_fnames]"
   ]
  },
  {
   "cell_type": "code",
   "execution_count": 8,
   "id": "014d04a4",
   "metadata": {
    "execution": {
     "iopub.execute_input": "2024-12-18T04:13:52.575208Z",
     "iopub.status.busy": "2024-12-18T04:13:52.574616Z",
     "iopub.status.idle": "2024-12-18T04:13:52.591480Z",
     "shell.execute_reply": "2024-12-18T04:13:52.590828Z"
    },
    "papermill": {
     "duration": 0.024021,
     "end_time": "2024-12-18T04:13:52.592509",
     "exception": false,
     "start_time": "2024-12-18T04:13:52.568488",
     "status": "completed"
    },
    "tags": []
   },
   "outputs": [
    {
     "name": "stdout",
     "output_type": "stream",
     "text": [
      "found figures ['tmp_2412.12715/./Figures/CXTau_slab_15um_ind_v8b_CS_p1_v3.png', 'tmp_2412.12715/./Figures/CXTau_slab_15um_ind_v8b_CS_p2_v3.png', 'tmp_2412.12715/./Figures/CXTau_slab_13CO2_v8b_CS_v2.png']\n",
      "copying  tmp_2412.12715/./Figures/CXTau_slab_15um_ind_v8b_CS_p1_v3.png to _build/html/\n",
      "copying  tmp_2412.12715/./Figures/CXTau_slab_15um_ind_v8b_CS_p2_v3.png to _build/html/\n",
      "copying  tmp_2412.12715/./Figures/CXTau_slab_13CO2_v8b_CS_v2.png to _build/html/\n",
      "exported in  _build/html/2412.12715.md\n",
      "    + _build/html/tmp_2412.12715/./Figures/CXTau_slab_15um_ind_v8b_CS_p1_v3.png\n",
      "    + _build/html/tmp_2412.12715/./Figures/CXTau_slab_15um_ind_v8b_CS_p2_v3.png\n",
      "    + _build/html/tmp_2412.12715/./Figures/CXTau_slab_13CO2_v8b_CS_v2.png\n",
      "found figures ['tmp_2412.12826/./Emission_line_plot_newcal.png', 'tmp_2412.12826/./Emission_line_fit_plot_1comp_newcal.png', 'tmp_2412.12826/./M_R_newcal.png']\n",
      "copying  tmp_2412.12826/./Emission_line_plot_newcal.png to _build/html/\n",
      "copying  tmp_2412.12826/./Emission_line_fit_plot_1comp_newcal.png to _build/html/\n",
      "copying  tmp_2412.12826/./M_R_newcal.png to _build/html/\n",
      "exported in  _build/html/2412.12826.md\n",
      "    + _build/html/tmp_2412.12826/./Emission_line_plot_newcal.png\n",
      "    + _build/html/tmp_2412.12826/./Emission_line_fit_plot_1comp_newcal.png\n",
      "    + _build/html/tmp_2412.12826/./M_R_newcal.png\n",
      "found figures ['tmp_2412.13189/./figures/results/freq_vs_amp_scatter_cross_kmeans_hard.png', 'tmp_2412.13189/./figures/results/frequency_hist_gold.png', 'tmp_2412.13189/./figures/results/frequency_hist_models.png', 'tmp_2412.13189/./figures/results/frequency_hist_gold.png']\n",
      "copying  tmp_2412.13189/./figures/results/freq_vs_amp_scatter_cross_kmeans_hard.png to _build/html/\n",
      "copying  tmp_2412.13189/./figures/results/frequency_hist_gold.png to _build/html/\n",
      "copying  tmp_2412.13189/./figures/results/frequency_hist_models.png to _build/html/\n",
      "copying  tmp_2412.13189/./figures/results/frequency_hist_gold.png to _build/html/\n",
      "exported in  _build/html/2412.13189.md\n",
      "    + _build/html/tmp_2412.13189/./figures/results/freq_vs_amp_scatter_cross_kmeans_hard.png\n",
      "    + _build/html/tmp_2412.13189/./figures/results/frequency_hist_gold.png\n",
      "    + _build/html/tmp_2412.13189/./figures/results/frequency_hist_models.png\n",
      "    + _build/html/tmp_2412.13189/./figures/results/frequency_hist_gold.png\n"
     ]
    }
   ],
   "source": [
    "for paper_id, md in documents:\n",
    "    export_markdown_summary(md, f\"{paper_id:s}.md\", '_build/html/')"
   ]
  },
  {
   "cell_type": "markdown",
   "id": "f087a0a7",
   "metadata": {
    "papermill": {
     "duration": 0.005211,
     "end_time": "2024-12-18T04:13:52.603154",
     "exception": false,
     "start_time": "2024-12-18T04:13:52.597943",
     "status": "completed"
    },
    "tags": []
   },
   "source": [
    "## Display the papers\n",
    "\n",
    "Not necessary but allows for a quick check."
   ]
  },
  {
   "cell_type": "code",
   "execution_count": 9,
   "id": "fd25f625",
   "metadata": {
    "execution": {
     "iopub.execute_input": "2024-12-18T04:13:52.614975Z",
     "iopub.status.busy": "2024-12-18T04:13:52.614497Z",
     "iopub.status.idle": "2024-12-18T04:13:52.622429Z",
     "shell.execute_reply": "2024-12-18T04:13:52.621741Z"
    },
    "papermill": {
     "duration": 0.015128,
     "end_time": "2024-12-18T04:13:52.623638",
     "exception": false,
     "start_time": "2024-12-18T04:13:52.608510",
     "status": "completed"
    },
    "scrolled": false,
    "tags": []
   },
   "outputs": [
    {
     "data": {
      "text/markdown": [
       "<div class=\"macros\" style=\"visibility:hidden;\">\n",
       "$\\newcommand{\\ensuremath}{}$\n",
       "$\\newcommand{\\xspace}{}$\n",
       "$\\newcommand{\\object}[1]{\\texttt{#1}}$\n",
       "$\\newcommand{\\farcs}{{.}''}$\n",
       "$\\newcommand{\\farcm}{{.}'}$\n",
       "$\\newcommand{\\arcsec}{''}$\n",
       "$\\newcommand{\\arcmin}{'}$\n",
       "$\\newcommand{\\ion}[2]{#1#2}$\n",
       "$\\newcommand{\\textsc}[1]{\\textrm{#1}}$\n",
       "$\\newcommand{\\hl}[1]{\\textrm{#1}}$\n",
       "$\\newcommand{\\footnote}[1]{}$\n",
       "$\\newcommand{\\mv}[1]{\\textcolor{Thistle}{MV: #1}}$</div>\n",
       "\n",
       "\n",
       "\n",
       "<div id=\"title\">\n",
       "\n",
       "# MINDS. JWST-MIRI reveals a peculiar $\\ce{CO2}$-rich chemistry in the drift-dominated disk CX Tau\n",
       "\n",
       "</div>\n",
       "<div id=\"comments\">\n",
       "\n",
       "[![arXiv](https://img.shields.io/badge/arXiv-2412.12715-b31b1b.svg)](https://arxiv.org/abs/2412.12715)<mark>Appeared on: 2024-12-18</mark> -  _23 pages, 17 figures, accepted for publication in Astronomy & Astrophysics_\n",
       "\n",
       "</div>\n",
       "<div id=\"authors\">\n",
       "\n",
       "M. Vlasblom, et al. -- incl., <mark>T. Henning</mark>, <mark>G. Perotti</mark>, <mark>K. Schwarz</mark>\n",
       "\n",
       "</div>\n",
       "<div id=\"abstract\">\n",
       "\n",
       "**Abstract:** Radial drift of icy pebbles can have a large impact on the chemistry of the inner regions of protoplanetary disks, where most terrestrial planets are thought to form. Disks with compact mm dust emission ( $\\lesssim$ 50 au) are suggested to have a higher $\\ce{H2O}$ flux than more extended disks, as well as show excess cold $\\ce{H2O}$ emission, likely due to efficient radial drift bringing $\\ce{H2O}$ -rich material to the inner disk, where it can be observed with IR facilities such as the _James Webb_ Space Telescope (JWST). We present JWST MIRI/MRS observations of the disk around the low-mass T Tauri star CX Tau (M2.5, 0.37 M $_\\odot$ ) taken as a part of the Mid-INfrared Disk Survey (MINDS) GTO program, a prime example of a drift-dominated disk based on ALMA data. In the context of compact disks, this disk seems peculiar: the source possesses a bright $\\ce{CO2}$ feature instead of the bright $\\ce{H2O}$ that could perhaps be expected based on the efficient radial drift. We aim to provide an explanation for this finding in the context of radial drift of ices and the disk's physical structure. We model the molecular features in the spectrum using local thermodynamic equilibrium (LTE) 0D slab models, which allows us to obtain estimates of the temperature, column density and emitting area of the emission. We detect molecular emission from $\\ce{H2O, ^12CO2, ^13CO2, C2H2, HCN}$ , and OH in this disk, and even demonstrate a potential detection of $\\ce{CO^18O}$ emission. Analysis of the $\\ce{^12CO2}$ and $\\ce{^13CO2}$ emission shows the former to be optically thick and tracing a temperature of $\\sim$ ${450}$ K at an (equivalent) emitting radius of $\\sim$ 0.05 au. The optically thinner isotopologue traces significantly colder temperatures ( $\\sim$ ${200}$ K) and a larger emitting area. Both the ro-vibrational bands ${of \\ce{H2O}}$ at shorter wavelengths and ${its}$ pure rotational bands at longer wavelengths are securely detected. Both sets of lines are optically thick, tracing ${a similar temperature of $\\sim$500-600 K and emitting area as the \\ce{CO2} emission}$ . We also find evidence for an even colder, $\\sim$ ${200}$ K $\\ce{H2O}$ component at longer wavelengths, which is in line with this disk having strong radial drift. We also ${find evidence of}$ highly excited rotational OH ${emission}$ at 9-11 $\\mu$ m, known as `prompt emission', caused by $\\ce{H2O}$ photodissociation. Additionally, we firmly detect 4 pure rotational lines of $\\ce{H2}$ , ${which show evidence of extended emission}$ . Finally, we also detect several H recombination lines and the [ Ne II ] line. The cold temperatures found for both the $\\ce{^13CO2}$ and $\\ce{H2O}$ emission at longer wavelengths indicate that radial drift of ices likely plays an important role in setting the chemistry of ${the inner disk of CX Tau}$ . Potentially, the $\\ce{H2O}$ -rich gas has already advected onto the central star, which is now followed by an enhancement of comparatively $\\ce{CO2}$ -rich gas reaching the inner disk, explaining the enhancement of $\\ce{CO2}$ emission in CX Tau. ${The comparatively weaker \\ce{H2O} emission can be explained by the source's low accretion luminosity. Alternatively, the presence of a small, inner cavity with a size of roughly 2 au in radius, outside the \\ce{H2O} iceline, could explain the bright \\ce{CO2} emission.}$ Higher angular resolution ALMA observations are needed to test this.\n",
       "\n",
       "</div>\n",
       "\n",
       "<div id=\"div_fig1\">\n",
       "\n",
       "<img src=\"tmp_2412.12715/./Figures/CXTau_slab_15um_ind_v8b_CS_p1_v3.png\" alt=\"Fig10\" width=\"100%\"/>\n",
       "\n",
       "**Figure 10. -** A zoom-in of the {13.5-15.5}$\\mu$m region of the CX Tau spectrum (black), where all individual slab model fits are shown. Horizontal bars indicate {which spectral windows were used} for the $\\chi^2$ fit, and each panel indicates which other models were removed from the spectrum before the fit was performed, to avoid contamination from other molecules. {The final panel shows the residuals after all fits are subtracted, with the shaded region indicating that most residuals fall below 3$\\sigma$. We note the difference in scale on the y axis between the top panel and the rest.} (*fig:slab_15um_ind_p1*)\n",
       "\n",
       "</div>\n",
       "<div id=\"div_fig2\">\n",
       "\n",
       "<img src=\"tmp_2412.12715/./Figures/CXTau_slab_15um_ind_v8b_CS_p2_v3.png\" alt=\"Fig11\" width=\"100%\"/>\n",
       "\n",
       "**Figure 11. -** A zoom-in of the {15.5-17.5}$\\mu$m region of the CX Tau spectrum (black), where all individual slab model fits are shown. Horizontal bars indicate {which spectral windows were used} for the $\\chi^2$ fit, and each panel indicates which other models were removed from the spectrum before the fit was performed, to avoid contamination from other molecules. {The final panel shows the residuals after all fits are subtracted, with the shaded region indicating that most residuals fall below 3$\\sigma$. {An artifact around 16.15 $\\mu$m has been masked in all panels.} We {also} note the difference in scale on the y axis between the top panel and the rest.} (*fig:slab_15um_ind_p2*)\n",
       "\n",
       "</div>\n",
       "<div id=\"div_fig3\">\n",
       "\n",
       "<img src=\"tmp_2412.12715/./Figures/CXTau_slab_13CO2_v8b_CS_v2.png\" alt=\"Fig2\" width=\"100%\"/>\n",
       "\n",
       "**Figure 2. -** A comparison of the \\ce{^12CO2}(green) and \\ce{^13CO2}(purple) $Q$ branch shapes. Top: {a zoom-in of the \\ce{^12CO2} $Q$ branch with the best-fit slab model plotted in the green shaded region. A model {with} the derived \\ce{^13CO2} parameters is plotted in purple (see text).} Middle: a zoom-in of the \\ce{^13CO2}$Q$ branch on the same vertical scale as {the top panel}, where the emission from \\ce{^12CO2} and \\ce{H2O} has been subtracted. The best-fit slab model is plotted in the purple shaded region. Bottom: a further zoom-in of the middle panel {where the best-fit model (180 K;} purple shaded region) {and slab models of} 300 K (blue line) and 500 K (red line) are shown. The latter two models have their emitting radius scaled to {produce the same peak flux}. In green, a slab model {with} the derived \\ce{^12CO2} parameters (see text) is shown. (*fig:slab_13CO2*)\n",
       "\n",
       "</div><div id=\"qrcode\"><img src=https://api.qrserver.com/v1/create-qr-code/?size=100x100&data=\"https://arxiv.org/abs/2412.12715\"></div>"
      ],
      "text/plain": [
       "<IPython.core.display.Markdown object>"
      ]
     },
     "metadata": {},
     "output_type": "display_data"
    },
    {
     "data": {
      "text/markdown": [
       "<div class=\"macros\" style=\"visibility:hidden;\">\n",
       "$\\newcommand{\\ensuremath}{}$\n",
       "$\\newcommand{\\xspace}{}$\n",
       "$\\newcommand{\\object}[1]{\\texttt{#1}}$\n",
       "$\\newcommand{\\farcs}{{.}''}$\n",
       "$\\newcommand{\\farcm}{{.}'}$\n",
       "$\\newcommand{\\arcsec}{''}$\n",
       "$\\newcommand{\\arcmin}{'}$\n",
       "$\\newcommand{\\ion}[2]{#1#2}$\n",
       "$\\newcommand{\\textsc}[1]{\\textrm{#1}}$\n",
       "$\\newcommand{\\hl}[1]{\\textrm{#1}}$\n",
       "$\\newcommand{\\footnote}[1]{}$\n",
       "$\\newcommand{\\arcs}{\\arcsec\\xspace}$\n",
       "$\\newcommand{\\CII}{[\\ion{C}{II}]158\\mum}$\n",
       "$\\newcommand{\\Ha}{\\mathrm{H}\\alpha\\xspace}$\n",
       "$\\newcommand{\\Hb}{\\mathrm{H}\\beta\\xspace}$\n",
       "$\\newcommand{\\Hg}{\\mathrm{H}\\gamma\\xspace}$\n",
       "$\\newcommand{\\Hd}{\\mathrm{H}\\delta\\xspace}$\n",
       "$\\newcommand{\\OIIlines}{[\\mathrm{O}\\textsc{ii}] \\lambda\\lambda 3727,3730\\xspace}$\n",
       "$\\newcommand{\\NeIII}{[\\mathrm{Ne}\\textsc{iii}] \\lambda 3869\\xspace}$\n",
       "$\\newcommand{\\OIIIb}{[\\mathrm{O}\\textsc{iii}] \\lambda 5008\\xspace}$\n",
       "$\\newcommand{\\OIIITe}{[\\mathrm{O}\\textsc{iii}] \\lambda 4364\\xspace}$\n",
       "$\\newcommand{\\oddpm}[2]{\\raisebox{0.5ex}{\\tiny\\substack{+#1 \\ -#2}}}$</div>\n",
       "\n",
       "\n",
       "\n",
       "<div id=\"title\">\n",
       "\n",
       "# Insight into the Starburst Nature of Galaxy GN-z11 with JWST MIRI Spectroscopy\n",
       "\n",
       "</div>\n",
       "<div id=\"comments\">\n",
       "\n",
       "[![arXiv](https://img.shields.io/badge/arXiv-2412.12826-b31b1b.svg)](https://arxiv.org/abs/2412.12826)<mark>Appeared on: 2024-12-18</mark> -  _accepted for publication in A&A (17 pages, 6 figures, 2 tables)_\n",
       "\n",
       "</div>\n",
       "<div id=\"authors\">\n",
       "\n",
       "J. Álvarez-Márquez, et al. -- incl., <mark>F. Walter</mark>\n",
       "\n",
       "</div>\n",
       "<div id=\"abstract\">\n",
       "\n",
       "**Abstract:** This paper presents a deep MIRI/JWST medium resolution spectroscopy (MRS) covering the rest-frame optical spectrum of the GN-z11 galaxy. The [ O III ] 5008 $Å$ and H $\\alpha$ emission lines are detected and spectroscopically resolved. The line profiles are well-modeled by a narrow Gaussian component with intrinsic FWHMs of 189 $\\pm$ 25 and 231 $\\pm$ 52 km s $^{-1}$ , respectively. We do not find any evidence of a dominant broad H $\\alpha$ emission line component tracing a Broad Line Region in a type 1 active galactic nuclei (AGN). The existence of an accreting black hole dominating the optical continuum and emission lines of GN-z11 is  not compatible with the measured H $\\alpha$ and [ O III ] 5008 $Å$ luminosities. If the well established relations for low- $z$ AGNs apply in GN-z11, the [ O III ] 5008 $Å$ and H $\\alpha$ luminosities would imply extremely large Super-Eddington ratios ( $\\lambda_{\\mathrm{E}}$ $>$ 290), and bolometric luminosities $\\sim$ 20 times those derived from the UV/optical continuum. However, a broad ( $\\sim$ 430 $-$ 470 km s $^{-1}$ ) and weak ( $<$ 20-30 \\% ) H $\\alpha$ line component, tracing a minor AGN contribution in the optical, cannot be ruled out completely with the sensitivity of the present data. The physical and excitation properties of the ionized gas are consistent with a low-metallicity starburst forming stars at a rate of SFR(H $\\alpha$ ) $=$ 24 $\\pm$ 3 $M_{\\odot}$ yr $^{-1}$ . The electron temperature of the ionized gas is $T_{\\mathrm{e}}$ (O $^{++}$ ) $=$ 14000 $\\pm$ 2100 K, while the direct- $T_{\\mathrm{e}}$ gas-phase metallicity is 12 $+$ $\\log$ (O/H) $=$ 7.91 $\\pm$ 0.07 (Z = 0.17 $\\pm$ 0.03 Z $_{\\odot}$ ). The optical line ratios locate GN-z11 in the starburst or AGN region but more consistent with those of local low-metallicity starbursts and high- $z$ luminous galaxies detected at redshifts similar to GN-z11. We conclude that the MRS optical spectrum of GN-z11 is consistent with that of a massive, compact, and low-metallicity starburst galaxy. Due to its high SFR and stellar mass surface densities, close to that of the densest stellar clusters, we speculate that GN-z11 could be undergoing a feedback-free, highly efficient starburst phase. Additional JWST data are needed to validate this scenario, and other recently proposed alternatives, to explain the existence of bright compact galaxies in the early Universe.\n",
       "\n",
       "</div>\n",
       "\n",
       "<div id=\"div_fig1\">\n",
       "\n",
       "<img src=\"tmp_2412.12826/./Emission_line_plot_newcal.png\" alt=\"Fig2\" width=\"100%\"/>\n",
       "\n",
       "**Figure 2. -** View of the rest-frame optical spectrum of GN-z11 by zooming in the H$\\beta$, [O III] 4960,5008$Å$, and H$\\alpha$ emission lines. Back continuous line: 1D extracted MRS spectrum. Gray area: $\\pm1\\sigma$ noise calculated from the standard deviation of the local background. Red area: spectral range used to calculate the integrated line flux. Black vertical dashed line: wavelength of the peak of each emission line considering a redshift of 10.602. (*fig:Emission_Lines*)\n",
       "\n",
       "</div>\n",
       "<div id=\"div_fig2\">\n",
       "\n",
       "<img src=\"tmp_2412.12826/./Emission_line_fit_plot_1comp_newcal.png\" alt=\"Fig3\" width=\"100%\"/>\n",
       "\n",
       "**Figure 3. -** MRS [O III] 5008$Å$ and H$\\alpha$ emission line fits. Left and right panels shows the one-component Gaussian fits, together with the fit residuals, for the [O III] 5008$Å$ and H$\\alpha$ emission lines, respectively. Back continuous line: 1D extracted MRS spectrum. Gray area: $\\pm1\\sigma$ uncertainty calculated from the standard deviation of the local background. Green dashed line: one-components Gaussian function that best fits the spectra. Black vertical dashed line: wavelength at the peak of each emission line considering a redshift of 10.602. The $\\chi_{\\nu}^{2}$ for each emission line fit calculated in the velocity range, $-$500 < $v$[km s$^{-1}$] < 500, is included. (*fig:Emission_Lines_fit*)\n",
       "\n",
       "</div>\n",
       "<div id=\"div_fig3\">\n",
       "\n",
       "<img src=\"tmp_2412.12826/./M_R_newcal.png\" alt=\"Fig6\" width=\"100%\"/>\n",
       "\n",
       "**Figure 6. -** Mass-radius relation for GN-z11 including young star clusters in nearby starbursts (NGC253,  \\citealt{Leroy2018}; M82, \\citealt{McCrady2003, McCrady-Graham2007}), low-$z$ blue compact (ESO338-IG04, \\citealt{Ostlin2007}) and low-metallicity (SBS0335-052E, \\citealt{Adamo2010}) galaxies.\n",
       "      Also represented are the values for high-$z$ clusters (Sunburst, \\citealt{Vanzella-Sunburst2022}; Sunrise, \\citealt{Vanzella+23}; SPT0615-JD1, \\citealt{Adamo+24}), clumps (SMACS0723, \\citealt{Claeyssens+Adamo2023}), extremely UV-bright SFG (J1316+2614, \\citealt{Marques-Chaves+24_SFE}), and luminous galaxies at redshifts above 8 (GN-z8-LAE, \\citealt{Navarro-Carrera+24}; CEERS-1019, \\citealt{Marques-Chaves2024}; MACS1149-JD1, \\citealt{Bradac+24}; GN-z9p4, \\citep{Curti+24, Schaerer-Rui2024}; RXJ2129-z95, \\citealt{Williams+23}; MACS0647-JD, \\citealt{Hsiao+23-NIRCam}; GHz2, \\citealt{Calabro2024}; GS-z14-0, \\citealt{Helton2024}). The mass$-$size relation derived for $z$ = 4$-$10 galaxies identified with JWST \\citep{Langeroodi-mass-size2023} is shown (blue line) as reference. The dotted lines represent constant stellar mass surface density in units of $M_{\\odot}$ pc$^{-2}$. The line of log$_{10}\\Sigma$ = 5.5 (in red) indicates the observed maximum value in clusters and nucleus of galaxies, and also predicted in dense systems under ineffective feedback regulated conditions \\citep{Grudic2019}. Note that the stellar mass of GN-z11 is the average of the values presented in \\citet{Bunker+23} and \\citet{Tacchella+23}. (*fig:Mass-size-clusters*)\n",
       "\n",
       "</div><div id=\"qrcode\"><img src=https://api.qrserver.com/v1/create-qr-code/?size=100x100&data=\"https://arxiv.org/abs/2412.12826\"></div>"
      ],
      "text/plain": [
       "<IPython.core.display.Markdown object>"
      ]
     },
     "metadata": {},
     "output_type": "display_data"
    },
    {
     "data": {
      "text/markdown": [
       "<div class=\"macros\" style=\"visibility:hidden;\">\n",
       "$\\newcommand{\\ensuremath}{}$\n",
       "$\\newcommand{\\xspace}{}$\n",
       "$\\newcommand{\\object}[1]{\\texttt{#1}}$\n",
       "$\\newcommand{\\farcs}{{.}''}$\n",
       "$\\newcommand{\\farcm}{{.}'}$\n",
       "$\\newcommand{\\arcsec}{''}$\n",
       "$\\newcommand{\\arcmin}{'}$\n",
       "$\\newcommand{\\ion}[2]{#1#2}$\n",
       "$\\newcommand{\\textsc}[1]{\\textrm{#1}}$\n",
       "$\\newcommand{\\hl}[1]{\\textrm{#1}}$\n",
       "$\\newcommand{\\footnote}[1]{}$\n",
       "$\\newcommand{\\aj}{Astronomical Journal}$\n",
       "$\\newcommand{\\apj}{Astrophysical Journal}$\n",
       "$\\newcommand{\\aap}{Astronomy \\& Astrophysics}$\n",
       "$\\newcommand{\\jcap}{Journal of Cosmology and Astroparticle Physics}$\n",
       "$\\newcommand{\\aapr}{The Astronomy and Astrophysics Review}$\n",
       "$\\newcommand{\\mnras}{Monthly Notices of the Royal Astronomical Society}$\n",
       "$\\newcommand{\\araa}{Annual Review of Astronomy and Astrophysics}$\n",
       "$\\newcommand{\\Msun}{\\mathrm{M}_\\odot}$</div>\n",
       "\n",
       "\n",
       "\n",
       "<div id=\"title\">\n",
       "\n",
       "# Binary properties of the globular cluster 47 Tuc (NGC 104): A dearth of short-period binaries\n",
       "\n",
       "</div>\n",
       "<div id=\"comments\">\n",
       "\n",
       "[![arXiv](https://img.shields.io/badge/arXiv-2412.13189-b31b1b.svg)](https://arxiv.org/abs/2412.13189)<mark>Appeared on: 2024-12-18</mark> -  _Accepted for publication in Astronomy and Astrophysics, 18 pages, 20 figures_\n",
       "\n",
       "</div>\n",
       "<div id=\"authors\">\n",
       "\n",
       "<mark>J. Müller-Horn</mark>, et al.\n",
       "\n",
       "</div>\n",
       "<div id=\"abstract\">\n",
       "\n",
       "**Abstract:** Spectroscopic observations of binary stars in globular clusters are essential to shed light on the poorly constrained period, eccentricity, and mass ratio distributions and to develop an understanding of the formation of peculiar stellar objects.   47 Tuc (NGC 104) is one of the most massive Galactic globular clusters, with a large population of blue stragglers and with many predicted but as-yet elusive stellar-mass black holes. This makes it an exciting candidate for binary searches.   We present a multi-epoch spectroscopic survey of 47 Tuc with the VLT/MUSE integral field spectrograph to determine radial velocity variations for 21,699 stars.   We find a total binary fraction in the cluster of $(2.4\\pm1.0)\\%$ , consistent with previous photometric estimates, and an increased binary fraction among blue straggler stars, approximately three times higher than the cluster average. We find very few binaries with periods below three days, and none with massive dark companions. A comparison with predictions from state-of-the-art models shows that the absence of such short-period binaries and of binaries with massive companions is surprising, highlighting the need to improve our understanding of stellar and dynamical evolution in binary systems.\n",
       "\n",
       "</div>\n",
       "\n",
       "<div id=\"div_fig1\">\n",
       "\n",
       "<img src=\"tmp_2412.13189/./figures/results/freq_vs_amp_scatter_cross_kmeans_hard.png\" alt=\"Fig16\" width=\"100%\"/>\n",
       "\n",
       "**Figure 16. -** \\textcolor{red}{I like this plot because it shows the substantial discrepancies wrt CMC very well but am not sure whether to include it because it's a bit redundant with the period dist plot}. (*fig:period_distribution*)\n",
       "\n",
       "</div>\n",
       "<div id=\"div_fig2\">\n",
       "\n",
       "<img src=\"tmp_2412.13189/./figures/results/frequency_hist_gold.png\" alt=\"Fig24.1\" width=\"50%\"/><img src=\"tmp_2412.13189/./figures/results/frequency_hist_models.png\" alt=\"Fig24.2\" width=\"50%\"/>\n",
       "\n",
       "**Figure 24. -** Period distribution of binaries with well-constrained orbits in 47 Tuc (shown in blue). The dotted line represents the subset of binaries with MS primaries. For comparison, the orange lines depict the period distributions of hypothetically detectable binaries from the CMC simulation (stellar types as shown in Fig. \\ref{fig:ktype_heatmap}), with the dashed line indicating the subset of simulated MS-MS binaries. The red curve illustrates the predicted observable distribution assuming an underlying field-like period distribution with $\\overline{\\log P} \\approx 5.0$ and standard deviation $\\sigma_{\\log P} \\approx 2.3$. It is scaled to the number of well-constrained MUSE binaries. For CMC and field binaries, we have forward-modeled our selection function to account for decreasing sensitivity at longer periods. The underlying period distributions of field and CMC binaries are shown for reference in the right-hand panel. (*fig:period_distribution*)\n",
       "\n",
       "</div>\n",
       "<div id=\"div_fig3\">\n",
       "\n",
       "<img src=\"tmp_2412.13189/./figures/results/frequency_hist_gold.png\" alt=\"Fig27\" width=\"100%\"/>\n",
       "\n",
       "**Figure 27. -** Period distribution of binaries with well-constrained orbits in 47 Tuc (shown in blue). The dotted line represents the subset of binaries with MS primaries. For comparison, the orange lines depict the period distributions of binaries from the CMC simulation, with the dashed line indicating the subset of MS-MS binaries. The red curve illustrates the predicted observable distribution assuming an underlying field-like period distribution with $\\overline{\\log P} \\approx 5.0$ and standard deviation $\\sigma_{\\log P} \\approx 2.3$. It is scaled to the number of well-constrained MUSE binaries. For CMC and field binaries, we have forward-model our selection function to account for decreasing sensitivity at longer periods. (*fig:period_distribution*)\n",
       "\n",
       "</div><div id=\"qrcode\"><img src=https://api.qrserver.com/v1/create-qr-code/?size=100x100&data=\"https://arxiv.org/abs/2412.13189\"></div>"
      ],
      "text/plain": [
       "<IPython.core.display.Markdown object>"
      ]
     },
     "metadata": {},
     "output_type": "display_data"
    }
   ],
   "source": [
    "[display(Markdown(k[1])) for k in documents];"
   ]
  },
  {
   "cell_type": "markdown",
   "id": "873873a4",
   "metadata": {
    "papermill": {
     "duration": 0.005607,
     "end_time": "2024-12-18T04:13:52.635297",
     "exception": false,
     "start_time": "2024-12-18T04:13:52.629690",
     "status": "completed"
    },
    "tags": []
   },
   "source": [
    "# Create HTML index"
   ]
  },
  {
   "cell_type": "code",
   "execution_count": 10,
   "id": "cf665672",
   "metadata": {
    "execution": {
     "iopub.execute_input": "2024-12-18T04:13:52.648003Z",
     "iopub.status.busy": "2024-12-18T04:13:52.647534Z",
     "iopub.status.idle": "2024-12-18T04:13:52.656531Z",
     "shell.execute_reply": "2024-12-18T04:13:52.655887Z"
    },
    "papermill": {
     "duration": 0.016614,
     "end_time": "2024-12-18T04:13:52.657640",
     "exception": false,
     "start_time": "2024-12-18T04:13:52.641026",
     "status": "completed"
    },
    "tags": []
   },
   "outputs": [
    {
     "name": "stdout",
     "output_type": "stream",
     "text": [
      "289  publications files modified in the last 7 days.\n"
     ]
    }
   ],
   "source": [
    "from datetime import datetime, timedelta, timezone\n",
    "from glob import glob\n",
    "import os\n",
    "\n",
    "files = glob('_build/html/*.md')\n",
    "days = 7\n",
    "now = datetime.today()\n",
    "res = []\n",
    "for fk in files:\n",
    "    stat_result = os.stat(fk).st_ctime\n",
    "    modified = datetime.fromtimestamp(stat_result, tz=timezone.utc).replace(tzinfo=None)\n",
    "    delta = now.today() - modified\n",
    "    if delta <= timedelta(days=days):\n",
    "        res.append((delta.seconds, fk))\n",
    "res = [k[1] for k in reversed(sorted(res, key=lambda x:x[1]))]\n",
    "npub = len(res)\n",
    "print(len(res), f\" publications files modified in the last {days:d} days.\")\n",
    "# [ print('\\t', k) for k in res ];"
   ]
  },
  {
   "cell_type": "code",
   "execution_count": 11,
   "id": "015de740",
   "metadata": {
    "execution": {
     "iopub.execute_input": "2024-12-18T04:13:52.670269Z",
     "iopub.status.busy": "2024-12-18T04:13:52.669846Z",
     "iopub.status.idle": "2024-12-18T04:13:52.688307Z",
     "shell.execute_reply": "2024-12-18T04:13:52.687636Z"
    },
    "papermill": {
     "duration": 0.025947,
     "end_time": "2024-12-18T04:13:52.689483",
     "exception": false,
     "start_time": "2024-12-18T04:13:52.663536",
     "status": "completed"
    },
    "tags": []
   },
   "outputs": [
    {
     "name": "stdout",
     "output_type": "stream",
     "text": [
      "15  publications in the last 7 days.\n"
     ]
    }
   ],
   "source": [
    "import datetime\n",
    "from glob import glob\n",
    "\n",
    "def get_last_n_days(lst, days=1):\n",
    "    \"\"\" Get the documents from the last n days \"\"\"\n",
    "    sorted_lst = sorted(lst, key=lambda x: x[1], reverse=True)\n",
    "    for fname, date in sorted_lst:\n",
    "        if date >= str(datetime.date.today() - datetime.timedelta(days=days)):\n",
    "            yield fname\n",
    "\n",
    "def extract_appearance_dates(lst_file):\n",
    "    dates = []\n",
    "\n",
    "    def get_date(line):\n",
    "        return line\\\n",
    "            .split('Appeared on:')[-1]\\\n",
    "            .split('</mark>')[0].strip()\n",
    "\n",
    "    for fname in lst:\n",
    "        with open(fname, 'r') as f:\n",
    "            found_date = False\n",
    "            for line in f:\n",
    "                if not found_date:\n",
    "                    if \"Appeared on\" in line:\n",
    "                        found_date = True\n",
    "                        dates.append((fname, get_date(line)))\n",
    "                else:\n",
    "                    break\n",
    "    return dates\n",
    "\n",
    "from glob import glob\n",
    "lst = glob('_build/html/*md')\n",
    "days = 7\n",
    "dates = extract_appearance_dates(lst)\n",
    "res = list(get_last_n_days(dates, days))\n",
    "npub = len(res)\n",
    "print(len(res), f\" publications in the last {days:d} days.\")"
   ]
  },
  {
   "cell_type": "code",
   "execution_count": 12,
   "id": "52ca0208",
   "metadata": {
    "execution": {
     "iopub.execute_input": "2024-12-18T04:13:52.702972Z",
     "iopub.status.busy": "2024-12-18T04:13:52.702436Z",
     "iopub.status.idle": "2024-12-18T04:13:52.707593Z",
     "shell.execute_reply": "2024-12-18T04:13:52.707036Z"
    },
    "papermill": {
     "duration": 0.012951,
     "end_time": "2024-12-18T04:13:52.708605",
     "exception": false,
     "start_time": "2024-12-18T04:13:52.695654",
     "status": "completed"
    },
    "scrolled": false,
    "tags": []
   },
   "outputs": [],
   "source": [
    "def create_carousel(npub=4):\n",
    "    \"\"\" Generate the HTML code for a carousel with `npub` slides \"\"\"\n",
    "    carousel = [\"\"\"  <div class=\"carousel\" \"\"\",\n",
    "                \"\"\"       data-flickity='{ \"autoPlay\": 10000, \"adaptiveHeight\": true, \"resize\": true, \"wrapAround\": true, \"pauseAutoPlayOnHover\": true, \"groupCells\": 1 }' id=\"asyncTypeset\">\"\"\"\n",
    "                ]\n",
    "    \n",
    "    item_str = \"\"\"    <div class=\"carousel-cell\"> <div id=\"slide{k}\" class=\"md_view\">Content {k}</div> </div>\"\"\"\n",
    "    for k in range(1, npub + 1):\n",
    "        carousel.append(item_str.format(k=k))\n",
    "    carousel.append(\"  </div>\")\n",
    "    return '\\n'.join(carousel)\n",
    "\n",
    "def create_grid(npub=4):\n",
    "    \"\"\" Generate the HTML code for a flat grid with `npub` slides \"\"\"\n",
    "    grid = [\"\"\"  <div class=\"grid\"> \"\"\",\n",
    "                ]\n",
    "    \n",
    "    item_str = \"\"\"    <div class=\"grid-item\"> <div id=\"slide{k}\" class=\"md_view\">Content {k}</div> </div>\"\"\"\n",
    "    for k in range(1, npub + 1):\n",
    "        grid.append(item_str.format(k=k))\n",
    "    grid.append(\"  </div>\")\n",
    "    return '\\n'.join(grid)"
   ]
  },
  {
   "cell_type": "code",
   "execution_count": 13,
   "id": "a6eac5b6",
   "metadata": {
    "execution": {
     "iopub.execute_input": "2024-12-18T04:13:52.722199Z",
     "iopub.status.busy": "2024-12-18T04:13:52.721612Z",
     "iopub.status.idle": "2024-12-18T04:13:52.727225Z",
     "shell.execute_reply": "2024-12-18T04:13:52.726548Z"
    },
    "papermill": {
     "duration": 0.013546,
     "end_time": "2024-12-18T04:13:52.728393",
     "exception": false,
     "start_time": "2024-12-18T04:13:52.714847",
     "status": "completed"
    },
    "scrolled": false,
    "tags": []
   },
   "outputs": [],
   "source": [
    "carousel = create_carousel(npub)\n",
    "docs = ', '.join(['\"{0:s}\"'.format(k.split('/')[-1]) for k in res])\n",
    "slides = ', '.join([f'\"slide{k}\"' for k in range(1, npub + 1)])\n",
    "\n",
    "with open(\"daily_template.html\", \"r\") as tpl:\n",
    "    page = tpl.read()\n",
    "    page = page.replace(\"{%-- carousel:s --%}\", carousel)\\\n",
    "               .replace(\"{%-- suptitle:s --%}\",  \"7-day archives\" )\\\n",
    "               .replace(\"{%-- docs:s --%}\", docs)\\\n",
    "               .replace(\"{%-- slides:s --%}\", slides)\n",
    "    \n",
    "with open(\"_build/html/index_7days.html\", 'w') as fout:\n",
    "    fout.write(page)"
   ]
  },
  {
   "cell_type": "code",
   "execution_count": 14,
   "id": "adc1a1ec",
   "metadata": {
    "execution": {
     "iopub.execute_input": "2024-12-18T04:13:52.741734Z",
     "iopub.status.busy": "2024-12-18T04:13:52.741282Z",
     "iopub.status.idle": "2024-12-18T04:13:52.748590Z",
     "shell.execute_reply": "2024-12-18T04:13:52.747889Z"
    },
    "papermill": {
     "duration": 0.015208,
     "end_time": "2024-12-18T04:13:52.749722",
     "exception": false,
     "start_time": "2024-12-18T04:13:52.734514",
     "status": "completed"
    },
    "tags": []
   },
   "outputs": [
    {
     "name": "stdout",
     "output_type": "stream",
     "text": [
      "6  publications in the last day.\n"
     ]
    }
   ],
   "source": [
    "# redo for today\n",
    "days = 1\n",
    "res = list(get_last_n_days(dates, days))\n",
    "npub = len(res)\n",
    "print(len(res), f\" publications in the last day.\")\n",
    "\n",
    "carousel = create_carousel(npub)\n",
    "docs = ', '.join(['\"{0:s}\"'.format(k.split('/')[-1]) for k in res])\n",
    "slides = ', '.join([f'\"slide{k}\"' for k in range(1, npub + 1)])\n",
    "\n",
    "with open(\"daily_template.html\", \"r\") as tpl:\n",
    "    page = tpl.read()\n",
    "    page = page.replace(\"{%-- carousel:s --%}\", carousel)\\\n",
    "               .replace(\"{%-- suptitle:s --%}\",  \"Daily\" )\\\n",
    "               .replace(\"{%-- docs:s --%}\", docs)\\\n",
    "               .replace(\"{%-- slides:s --%}\", slides)\n",
    "    \n",
    "# print(carousel, docs, slides)\n",
    "# print(page)\n",
    "with open(\"_build/html/index_daily.html\", 'w') as fout:\n",
    "    fout.write(page)"
   ]
  },
  {
   "cell_type": "code",
   "execution_count": 15,
   "id": "00eece82",
   "metadata": {
    "execution": {
     "iopub.execute_input": "2024-12-18T04:13:52.763605Z",
     "iopub.status.busy": "2024-12-18T04:13:52.763024Z",
     "iopub.status.idle": "2024-12-18T04:13:52.770178Z",
     "shell.execute_reply": "2024-12-18T04:13:52.769605Z"
    },
    "papermill": {
     "duration": 0.015199,
     "end_time": "2024-12-18T04:13:52.771255",
     "exception": false,
     "start_time": "2024-12-18T04:13:52.756056",
     "status": "completed"
    },
    "scrolled": false,
    "tags": []
   },
   "outputs": [
    {
     "name": "stdout",
     "output_type": "stream",
     "text": [
      "6  6 publications selected.\n"
     ]
    }
   ],
   "source": [
    "# Create the flat grid of the last N papers (fixed number regardless of dates)\n",
    "from itertools import islice \n",
    "\n",
    "npub = 6\n",
    "res = [k[0] for k in (islice(reversed(sorted(dates, key=lambda x: x[1])), 6))]\n",
    "print(len(res), f\" {npub} publications selected.\")\n",
    "\n",
    "grid = create_grid(npub)\n",
    "docs = ', '.join(['\"{0:s}\"'.format(k.split('/')[-1]) for k in res])\n",
    "slides = ', '.join([f'\"slide{k}\"' for k in range(1, npub + 1)])\n",
    "\n",
    "with open(\"grid_template.html\", \"r\") as tpl:\n",
    "    page = tpl.read()\n",
    "    page = page.replace(\"{%-- grid-content:s --%}\", grid)\\\n",
    "               .replace(\"{%-- suptitle:s --%}\",  f\"Last {npub:,d} papers\" )\\\n",
    "               .replace(\"{%-- docs:s --%}\", docs)\\\n",
    "               .replace(\"{%-- slides:s --%}\", slides)\n",
    "    \n",
    "# print(grid, docs, slides)\n",
    "# print(page)\n",
    "with open(\"_build/html/index_npub_grid.html\", 'w') as fout:\n",
    "    fout.write(page)"
   ]
  }
 ],
 "metadata": {
  "kernelspec": {
   "display_name": "Python 3 (ipykernel)",
   "language": "python",
   "name": "python3"
  },
  "language_info": {
   "codemirror_mode": {
    "name": "ipython",
    "version": 3
   },
   "file_extension": ".py",
   "mimetype": "text/x-python",
   "name": "python",
   "nbconvert_exporter": "python",
   "pygments_lexer": "ipython3",
   "version": "3.9.20"
  },
  "papermill": {
   "default_parameters": {},
   "duration": 162.609839,
   "end_time": "2024-12-18T04:13:53.095462",
   "environment_variables": {},
   "exception": null,
   "input_path": "MPIA daily digest.ipynb",
   "output_path": "log.ipynb",
   "parameters": {},
   "start_time": "2024-12-18T04:11:10.485623",
   "version": "2.6.0"
  },
  "vscode": {
   "interpreter": {
    "hash": "aee8b7b246df8f9039afb4144a1f6fd8d2ca17a180786b69acc140d282b71a49"
   }
  },
  "widgets": {
   "application/vnd.jupyter.widget-state+json": {
    "state": {
     "05576f8428344e4cb85cdd83c556a94a": {
      "model_module": "@jupyter-widgets/controls",
      "model_module_version": "2.0.0",
      "model_name": "HTMLStyleModel",
      "state": {
       "_model_module": "@jupyter-widgets/controls",
       "_model_module_version": "2.0.0",
       "_model_name": "HTMLStyleModel",
       "_view_count": null,
       "_view_module": "@jupyter-widgets/base",
       "_view_module_version": "2.0.0",
       "_view_name": "StyleView",
       "background": null,
       "description_width": "",
       "font_size": null,
       "text_color": null
      }
     },
     "08d9e7a74ff149be9f0982fb2ca12221": {
      "model_module": "@jupyter-widgets/controls",
      "model_module_version": "2.0.0",
      "model_name": "HTMLModel",
      "state": {
       "_dom_classes": [],
       "_model_module": "@jupyter-widgets/controls",
       "_model_module_version": "2.0.0",
       "_model_name": "HTMLModel",
       "_view_count": null,
       "_view_module": "@jupyter-widgets/controls",
       "_view_module_version": "2.0.0",
       "_view_name": "HTMLView",
       "description": "",
       "description_allow_html": false,
       "layout": "IPY_MODEL_19b3c19e23b74c409c6a8aa9bfbdf4fe",
       "placeholder": "​",
       "style": "IPY_MODEL_05576f8428344e4cb85cdd83c556a94a",
       "tabbable": null,
       "tooltip": null,
       "value": " 6/6 [02:22&lt;00:00, 29.39s/it]"
      }
     },
     "0a0d864289ab4288b1a96696d55ed701": {
      "model_module": "@jupyter-widgets/base",
      "model_module_version": "2.0.0",
      "model_name": "LayoutModel",
      "state": {
       "_model_module": "@jupyter-widgets/base",
       "_model_module_version": "2.0.0",
       "_model_name": "LayoutModel",
       "_view_count": null,
       "_view_module": "@jupyter-widgets/base",
       "_view_module_version": "2.0.0",
       "_view_name": "LayoutView",
       "align_content": null,
       "align_items": null,
       "align_self": null,
       "border_bottom": null,
       "border_left": null,
       "border_right": null,
       "border_top": null,
       "bottom": null,
       "display": null,
       "flex": null,
       "flex_flow": null,
       "grid_area": null,
       "grid_auto_columns": null,
       "grid_auto_flow": null,
       "grid_auto_rows": null,
       "grid_column": null,
       "grid_gap": null,
       "grid_row": null,
       "grid_template_areas": null,
       "grid_template_columns": null,
       "grid_template_rows": null,
       "height": null,
       "justify_content": null,
       "justify_items": null,
       "left": null,
       "margin": null,
       "max_height": null,
       "max_width": null,
       "min_height": null,
       "min_width": null,
       "object_fit": null,
       "object_position": null,
       "order": null,
       "overflow": null,
       "padding": null,
       "right": null,
       "top": null,
       "visibility": null,
       "width": null
      }
     },
     "159cc0a3e7c447afa74b0a756f64ed61": {
      "model_module": "@jupyter-widgets/controls",
      "model_module_version": "2.0.0",
      "model_name": "ProgressStyleModel",
      "state": {
       "_model_module": "@jupyter-widgets/controls",
       "_model_module_version": "2.0.0",
       "_model_name": "ProgressStyleModel",
       "_view_count": null,
       "_view_module": "@jupyter-widgets/base",
       "_view_module_version": "2.0.0",
       "_view_name": "StyleView",
       "bar_color": null,
       "description_width": ""
      }
     },
     "19b3c19e23b74c409c6a8aa9bfbdf4fe": {
      "model_module": "@jupyter-widgets/base",
      "model_module_version": "2.0.0",
      "model_name": "LayoutModel",
      "state": {
       "_model_module": "@jupyter-widgets/base",
       "_model_module_version": "2.0.0",
       "_model_name": "LayoutModel",
       "_view_count": null,
       "_view_module": "@jupyter-widgets/base",
       "_view_module_version": "2.0.0",
       "_view_name": "LayoutView",
       "align_content": null,
       "align_items": null,
       "align_self": null,
       "border_bottom": null,
       "border_left": null,
       "border_right": null,
       "border_top": null,
       "bottom": null,
       "display": null,
       "flex": null,
       "flex_flow": null,
       "grid_area": null,
       "grid_auto_columns": null,
       "grid_auto_flow": null,
       "grid_auto_rows": null,
       "grid_column": null,
       "grid_gap": null,
       "grid_row": null,
       "grid_template_areas": null,
       "grid_template_columns": null,
       "grid_template_rows": null,
       "height": null,
       "justify_content": null,
       "justify_items": null,
       "left": null,
       "margin": null,
       "max_height": null,
       "max_width": null,
       "min_height": null,
       "min_width": null,
       "object_fit": null,
       "object_position": null,
       "order": null,
       "overflow": null,
       "padding": null,
       "right": null,
       "top": null,
       "visibility": null,
       "width": null
      }
     },
     "4552f1114751418a9ae947b6eeccfe9a": {
      "model_module": "@jupyter-widgets/base",
      "model_module_version": "2.0.0",
      "model_name": "LayoutModel",
      "state": {
       "_model_module": "@jupyter-widgets/base",
       "_model_module_version": "2.0.0",
       "_model_name": "LayoutModel",
       "_view_count": null,
       "_view_module": "@jupyter-widgets/base",
       "_view_module_version": "2.0.0",
       "_view_name": "LayoutView",
       "align_content": null,
       "align_items": null,
       "align_self": null,
       "border_bottom": null,
       "border_left": null,
       "border_right": null,
       "border_top": null,
       "bottom": null,
       "display": null,
       "flex": null,
       "flex_flow": null,
       "grid_area": null,
       "grid_auto_columns": null,
       "grid_auto_flow": null,
       "grid_auto_rows": null,
       "grid_column": null,
       "grid_gap": null,
       "grid_row": null,
       "grid_template_areas": null,
       "grid_template_columns": null,
       "grid_template_rows": null,
       "height": null,
       "justify_content": null,
       "justify_items": null,
       "left": null,
       "margin": null,
       "max_height": null,
       "max_width": null,
       "min_height": null,
       "min_width": null,
       "object_fit": null,
       "object_position": null,
       "order": null,
       "overflow": null,
       "padding": null,
       "right": null,
       "top": null,
       "visibility": null,
       "width": null
      }
     },
     "6303ce215ceb47e59259b86d063b9b43": {
      "model_module": "@jupyter-widgets/controls",
      "model_module_version": "2.0.0",
      "model_name": "FloatProgressModel",
      "state": {
       "_dom_classes": [],
       "_model_module": "@jupyter-widgets/controls",
       "_model_module_version": "2.0.0",
       "_model_name": "FloatProgressModel",
       "_view_count": null,
       "_view_module": "@jupyter-widgets/controls",
       "_view_module_version": "2.0.0",
       "_view_name": "ProgressView",
       "bar_style": "success",
       "description": "",
       "description_allow_html": false,
       "layout": "IPY_MODEL_4552f1114751418a9ae947b6eeccfe9a",
       "max": 6.0,
       "min": 0.0,
       "orientation": "horizontal",
       "style": "IPY_MODEL_159cc0a3e7c447afa74b0a756f64ed61",
       "tabbable": null,
       "tooltip": null,
       "value": 6.0
      }
     },
     "67b92147ae704134b900cfd15ff25015": {
      "model_module": "@jupyter-widgets/controls",
      "model_module_version": "2.0.0",
      "model_name": "HTMLModel",
      "state": {
       "_dom_classes": [],
       "_model_module": "@jupyter-widgets/controls",
       "_model_module_version": "2.0.0",
       "_model_name": "HTMLModel",
       "_view_count": null,
       "_view_module": "@jupyter-widgets/controls",
       "_view_module_version": "2.0.0",
       "_view_name": "HTMLView",
       "description": "",
       "description_allow_html": false,
       "layout": "IPY_MODEL_0a0d864289ab4288b1a96696d55ed701",
       "placeholder": "​",
       "style": "IPY_MODEL_defbc6a5856c436495f2b7ac23fa342c",
       "tabbable": null,
       "tooltip": null,
       "value": "100%"
      }
     },
     "8014c7c6746943c9b61cacb4f50a1cff": {
      "model_module": "@jupyter-widgets/base",
      "model_module_version": "2.0.0",
      "model_name": "LayoutModel",
      "state": {
       "_model_module": "@jupyter-widgets/base",
       "_model_module_version": "2.0.0",
       "_model_name": "LayoutModel",
       "_view_count": null,
       "_view_module": "@jupyter-widgets/base",
       "_view_module_version": "2.0.0",
       "_view_name": "LayoutView",
       "align_content": null,
       "align_items": null,
       "align_self": null,
       "border_bottom": null,
       "border_left": null,
       "border_right": null,
       "border_top": null,
       "bottom": null,
       "display": null,
       "flex": null,
       "flex_flow": null,
       "grid_area": null,
       "grid_auto_columns": null,
       "grid_auto_flow": null,
       "grid_auto_rows": null,
       "grid_column": null,
       "grid_gap": null,
       "grid_row": null,
       "grid_template_areas": null,
       "grid_template_columns": null,
       "grid_template_rows": null,
       "height": null,
       "justify_content": null,
       "justify_items": null,
       "left": null,
       "margin": null,
       "max_height": null,
       "max_width": null,
       "min_height": null,
       "min_width": null,
       "object_fit": null,
       "object_position": null,
       "order": null,
       "overflow": null,
       "padding": null,
       "right": null,
       "top": null,
       "visibility": null,
       "width": null
      }
     },
     "b9d368394fd74a158813d9026b4d3f74": {
      "model_module": "@jupyter-widgets/controls",
      "model_module_version": "2.0.0",
      "model_name": "HBoxModel",
      "state": {
       "_dom_classes": [],
       "_model_module": "@jupyter-widgets/controls",
       "_model_module_version": "2.0.0",
       "_model_name": "HBoxModel",
       "_view_count": null,
       "_view_module": "@jupyter-widgets/controls",
       "_view_module_version": "2.0.0",
       "_view_name": "HBoxView",
       "box_style": "",
       "children": [
        "IPY_MODEL_67b92147ae704134b900cfd15ff25015",
        "IPY_MODEL_6303ce215ceb47e59259b86d063b9b43",
        "IPY_MODEL_08d9e7a74ff149be9f0982fb2ca12221"
       ],
       "layout": "IPY_MODEL_8014c7c6746943c9b61cacb4f50a1cff",
       "tabbable": null,
       "tooltip": null
      }
     },
     "defbc6a5856c436495f2b7ac23fa342c": {
      "model_module": "@jupyter-widgets/controls",
      "model_module_version": "2.0.0",
      "model_name": "HTMLStyleModel",
      "state": {
       "_model_module": "@jupyter-widgets/controls",
       "_model_module_version": "2.0.0",
       "_model_name": "HTMLStyleModel",
       "_view_count": null,
       "_view_module": "@jupyter-widgets/base",
       "_view_module_version": "2.0.0",
       "_view_name": "StyleView",
       "background": null,
       "description_width": "",
       "font_size": null,
       "text_color": null
      }
     }
    },
    "version_major": 2,
    "version_minor": 0
   }
  }
 },
 "nbformat": 4,
 "nbformat_minor": 5
}