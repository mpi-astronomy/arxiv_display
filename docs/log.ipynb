{
 "cells": [
  {
   "cell_type": "markdown",
   "id": "92bcb855",
   "metadata": {
    "papermill": {
     "duration": 0.003969,
     "end_time": "2025-08-07T04:36:55.538213",
     "exception": false,
     "start_time": "2025-08-07T04:36:55.534244",
     "status": "completed"
    },
    "tags": []
   },
   "source": [
    "# MPIA Arxiv on Deck 2\n",
    "\n",
    "Contains the steps to produce the paper extractions."
   ]
  },
  {
   "cell_type": "code",
   "execution_count": 1,
   "id": "3a0d6e11",
   "metadata": {
    "execution": {
     "iopub.execute_input": "2025-08-07T04:36:55.545754Z",
     "iopub.status.busy": "2025-08-07T04:36:55.545454Z",
     "iopub.status.idle": "2025-08-07T04:36:55.776560Z",
     "shell.execute_reply": "2025-08-07T04:36:55.775915Z"
    },
    "papermill": {
     "duration": 0.236316,
     "end_time": "2025-08-07T04:36:55.777907",
     "exception": false,
     "start_time": "2025-08-07T04:36:55.541591",
     "status": "completed"
    },
    "tags": []
   },
   "outputs": [],
   "source": [
    "# Imports\n",
    "import os\n",
    "from IPython.display import Markdown, display\n",
    "from tqdm.notebook import tqdm\n",
    "import warnings\n",
    "from PIL import Image \n",
    "import re\n",
    "\n",
    "# requires arxiv_on_deck_2\n",
    "\n",
    "from arxiv_on_deck_2.arxiv2 import (get_new_papers, \n",
    "                                    get_paper_from_identifier,\n",
    "                                    retrieve_document_source, \n",
    "                                    get_markdown_badge)\n",
    "from arxiv_on_deck_2 import (latex,\n",
    "                             latex_bib,\n",
    "                             mpia,\n",
    "                             highlight_authors_in_list)\n",
    "\n",
    "# Sometimes images are really big\n",
    "Image.MAX_IMAGE_PIXELS = 1000000000 "
   ]
  },
  {
   "cell_type": "code",
   "execution_count": 2,
   "id": "22aa9d44",
   "metadata": {
    "execution": {
     "iopub.execute_input": "2025-08-07T04:36:55.785231Z",
     "iopub.status.busy": "2025-08-07T04:36:55.784842Z",
     "iopub.status.idle": "2025-08-07T04:36:55.792713Z",
     "shell.execute_reply": "2025-08-07T04:36:55.792160Z"
    },
    "papermill": {
     "duration": 0.012539,
     "end_time": "2025-08-07T04:36:55.793709",
     "exception": false,
     "start_time": "2025-08-07T04:36:55.781170",
     "status": "completed"
    },
    "tags": []
   },
   "outputs": [],
   "source": [
    "# Some useful definitions.\n",
    "\n",
    "class AffiliationWarning(UserWarning):\n",
    "    pass\n",
    "\n",
    "class AffiliationError(RuntimeError):\n",
    "    pass\n",
    "\n",
    "def validation(source: str):\n",
    "    \"\"\"Raises error paper during parsing of source file\n",
    "    \n",
    "    Allows checks before parsing TeX code.\n",
    "    \n",
    "    Raises AffiliationWarning\n",
    "    \"\"\"\n",
    "    check = mpia.affiliation_verifications(source, verbose=True)\n",
    "    if check is not True:\n",
    "        raise AffiliationError(\"mpia.affiliation_verifications: \" + check)\n",
    "\n",
    "        \n",
    "warnings.simplefilter('always', AffiliationWarning)\n",
    "\n",
    "\n",
    "def get_markdown_qrcode(paper_id: str):\n",
    "    \"\"\" Generate a qrcode to the arxiv page using qrserver.com\n",
    "    \n",
    "    :param paper: Arxiv paper\n",
    "    :returns: markdown text\n",
    "    \"\"\"\n",
    "    url = r\"https://api.qrserver.com/v1/create-qr-code/?size=100x100&data=\"\n",
    "    txt = f\"\"\"<img src={url}\"https://arxiv.org/abs/{paper_id}\">\"\"\"\n",
    "    txt = '<div id=\"qrcode\">' + txt + '</div>'\n",
    "    return txt\n",
    "\n",
    "\n",
    "def clean_non_western_encoded_characters_commands(text: str) -> str:\n",
    "    \"\"\" Remove non-western encoded characters from a string\n",
    "    List may need to grow.\n",
    "    \n",
    "    :param text: the text to clean\n",
    "    :return: the cleaned text\n",
    "    \"\"\"\n",
    "    text = re.sub(r\"(\\\\begin{CJK}{UTF8}{gbsn})(.*?)(\\\\end{CJK})\", r\"\\2\", text)\n",
    "    return text\n",
    "\n",
    "\n",
    "def get_initials(name: str) -> str:\n",
    "    \"\"\" Get the short name, e.g., A.-B. FamName\n",
    "    :param name: full name\n",
    "    :returns: initials\n",
    "    \"\"\"\n",
    "    initials = []\n",
    "    # account for non western names often in ()\n",
    "    if '(' in name:\n",
    "        name = clean_non_western_encoded_characters_commands(name)\n",
    "        suffix = re.findall(r\"\\((.*?)\\)\", name)[0]\n",
    "        name = name.replace(f\"({suffix})\", '')\n",
    "    else:\n",
    "        suffix = ''\n",
    "    split = name.split()\n",
    "    for token in split[:-1]:\n",
    "        if '-' in token:\n",
    "            current = '-'.join([k[0] + '.' for k in token.split('-')])\n",
    "        else:\n",
    "            current = token[0] + '.'\n",
    "        initials.append(current)\n",
    "    initials.append(split[-1].strip())\n",
    "    if suffix:\n",
    "        initials.append(f\"({suffix})\")\n",
    "    return ' '.join(initials)"
   ]
  },
  {
   "cell_type": "markdown",
   "id": "14bd6310",
   "metadata": {
    "papermill": {
     "duration": 0.002861,
     "end_time": "2025-08-07T04:36:55.799513",
     "exception": false,
     "start_time": "2025-08-07T04:36:55.796652",
     "status": "completed"
    },
    "tags": []
   },
   "source": [
    "## get list of arxiv paper candidates\n",
    "\n",
    "We use the MPIA mitarbeiter list webpage from mpia.de to get author names\n",
    "We then get all new papers from Arxiv and match authors"
   ]
  },
  {
   "cell_type": "code",
   "execution_count": 3,
   "id": "7ea813a8",
   "metadata": {
    "execution": {
     "iopub.execute_input": "2025-08-07T04:36:55.806068Z",
     "iopub.status.busy": "2025-08-07T04:36:55.805854Z",
     "iopub.status.idle": "2025-08-07T04:37:19.548371Z",
     "shell.execute_reply": "2025-08-07T04:37:19.547637Z"
    },
    "papermill": {
     "duration": 23.747311,
     "end_time": "2025-08-07T04:37:19.549696",
     "exception": false,
     "start_time": "2025-08-07T04:36:55.802385",
     "status": "completed"
    },
    "tags": []
   },
   "outputs": [],
   "source": [
    "# deal with the author list and edge cases of people that cannot be consistent on their name  \n",
    "\n",
    "def filter_non_scientists(name: str) -> bool:\n",
    "    \"\"\" Loose filter on expected authorships\n",
    "\n",
    "    removing IT, administration, technical staff\n",
    "    :param name: name\n",
    "    :returns: False if name is not a scientist\n",
    "    \"\"\"\n",
    "    remove_list = ['Licht', 'Binroth', 'Witzel', 'Jordan',\n",
    "                   'Zähringer', 'Scheerer', 'Hoffmann', 'Düe',\n",
    "                   'Hellmich', 'Enkler-Scharpegge', 'Witte-Nguy',\n",
    "                   'Dehen', 'Beckmann', 'Jager', 'Jäger'\n",
    "                  ]\n",
    "\n",
    "    for k in remove_list:\n",
    "        if k in name:\n",
    "            return False\n",
    "    return True\n",
    "\n",
    "def add_author_to_list(author_list: list) -> list:\n",
    "    \"\"\" Add author to list if not already in list\n",
    "    \n",
    "    :param author: author name\n",
    "    :param author_list: list of authors\n",
    "    :returns: updated list of authors\n",
    "    \"\"\"\n",
    "    add_list = ['T. Henning']\n",
    "\n",
    "    for author in add_list:\n",
    "        if author not in author_list:\n",
    "            author_list.append(author)\n",
    "    return author_list\n",
    "\n",
    "# get list from MPIA website\n",
    "# filter for non-scientists (mpia.get_mpia_mitarbeiter_list() does some filtering)\n",
    "mpia_authors = [k[1] for k in mpia.get_mpia_mitarbeiter_list() if filter_non_scientists(k[1])]\n",
    "# add some missing author because of inconsistencies in their MPIA name and author name on papers\n",
    "mpia_authors = add_author_to_list(mpia_authors)"
   ]
  },
  {
   "cell_type": "code",
   "execution_count": 4,
   "id": "2645e73a",
   "metadata": {
    "execution": {
     "iopub.execute_input": "2025-08-07T04:37:19.556860Z",
     "iopub.status.busy": "2025-08-07T04:37:19.556661Z",
     "iopub.status.idle": "2025-08-07T04:37:20.253909Z",
     "shell.execute_reply": "2025-08-07T04:37:20.253216Z"
    },
    "papermill": {
     "duration": 0.702088,
     "end_time": "2025-08-07T04:37:20.255124",
     "exception": false,
     "start_time": "2025-08-07T04:37:19.553036",
     "status": "completed"
    },
    "tags": []
   },
   "outputs": [
    {
     "name": "stdout",
     "output_type": "stream",
     "text": [
      "T. Henning  ->  T. Henning  |  ['T. Henning']\n",
      "M. Flock  ->  M. Flock  |  ['M. Flock']\n",
      "M. Benisty  ->  M. Benisty  |  ['M. Benisty']\n",
      "R. v. Boekel  ->  R. v. Boekel  |  ['R. v. Boekel']\n",
      "B. Saha  ->  B. Saha  |  ['B. Saha']\n"
     ]
    },
    {
     "name": "stdout",
     "output_type": "stream",
     "text": [
      "T. Henning  ->  T. Henning  |  ['T. Henning']\n",
      "G. Perotti  ->  G. Perotti  |  ['G. Perotti']\n",
      "K. Schwarz  ->  K. Schwarz  |  ['K. Schwarz']\n",
      "Arxiv has 64 new papers today\n",
      "          4 with possible author matches\n"
     ]
    }
   ],
   "source": [
    "new_papers = get_new_papers()\n",
    "# add manual references\n",
    "add_paper_refs = []\n",
    "new_papers.extend([get_paper_from_identifier(k) for k in add_paper_refs])\n",
    "\n",
    "def robust_call(fn, value, *args, **kwargs):\n",
    "    try:\n",
    "        return fn(value, *args, **kwargs)\n",
    "    except Exception:\n",
    "        return value\n",
    "\n",
    "candidates = []\n",
    "for paperk in new_papers:\n",
    "    # Check author list with their initials\n",
    "    normed_author_list = [robust_call(mpia.get_initials, k) for k in paperk['authors']]\n",
    "    hl_authors = highlight_authors_in_list(normed_author_list, mpia_authors, verbose=True)\n",
    "    matches = [(hl, orig) for hl, orig in zip(hl_authors, paperk['authors']) if 'mark' in hl]\n",
    "    paperk['authors'] = hl_authors\n",
    "    if matches:\n",
    "        # only select paper if an author matched our list\n",
    "        candidates.append(paperk)\n",
    "print(\"\"\"Arxiv has {0:,d} new papers today\"\"\".format(len(new_papers)))        \n",
    "print(\"\"\"          {0:,d} with possible author matches\"\"\".format(len(candidates)))"
   ]
  },
  {
   "cell_type": "markdown",
   "id": "3543b34a",
   "metadata": {
    "papermill": {
     "duration": 0.003064,
     "end_time": "2025-08-07T04:37:20.261700",
     "exception": false,
     "start_time": "2025-08-07T04:37:20.258636",
     "status": "completed"
    },
    "tags": []
   },
   "source": [
    "# Parse sources and generate relevant outputs\n",
    "\n",
    "From the candidates, we do the following steps:\n",
    "* get their tarball from ArXiv (and extract data)\n",
    "* find the main .tex file: find one with \\documentclass{...} (sometimes it's non trivial)\n",
    "* Check affiliations with :func:`validation`, which uses :func:`mpia.affiliation_verifications`\n",
    "* If passing the affiliations: we parse the .tex source\n",
    "   * inject sub-documents into the main (flatten the main document)\n",
    "   * parse structure, extract information (title, abstract, authors, figures...)\n",
    "   * handles `\\graphicspath` if provided\n",
    "* Generate the .md document."
   ]
  },
  {
   "cell_type": "code",
   "execution_count": 5,
   "id": "9576b79e",
   "metadata": {
    "execution": {
     "iopub.execute_input": "2025-08-07T04:37:20.268675Z",
     "iopub.status.busy": "2025-08-07T04:37:20.268446Z",
     "iopub.status.idle": "2025-08-07T04:39:39.164913Z",
     "shell.execute_reply": "2025-08-07T04:39:39.164057Z"
    },
    "papermill": {
     "duration": 138.901557,
     "end_time": "2025-08-07T04:39:39.166337",
     "exception": false,
     "start_time": "2025-08-07T04:37:20.264780",
     "status": "completed"
    },
    "scrolled": false,
    "tags": []
   },
   "outputs": [
    {
     "data": {
      "application/vnd.jupyter.widget-view+json": {
       "model_id": "0e45709c61eb40859532bda2db2cedc9",
       "version_major": 2,
       "version_minor": 0
      },
      "text/plain": [
       "  0%|          | 0/4 [00:00<?, ?it/s]"
      ]
     },
     "metadata": {},
     "output_type": "display_data"
    },
    {
     "name": "stdout",
     "output_type": "stream",
     "text": [
      "Retrieving document from  https://arxiv.org/e-print/2508.03814\n"
     ]
    },
    {
     "name": "stdout",
     "output_type": "stream",
     "text": [
      "extracting tarball to tmp_2508.03814..."
     ]
    },
    {
     "name": "stdout",
     "output_type": "stream",
     "text": [
      " done.\n"
     ]
    },
    {
     "name": "stdout",
     "output_type": "stream",
     "text": [
      "T. Henning  ->  T. Henning  |  ['T. Henning']\n"
     ]
    },
    {
     "name": "stdout",
     "output_type": "stream",
     "text": [
      "Issues with the citations\n",
      "list index out of range\n",
      "Retrieving document from  https://arxiv.org/e-print/2508.04254\n"
     ]
    },
    {
     "name": "stdout",
     "output_type": "stream",
     "text": [
      "extracting tarball to tmp_2508.04254..."
     ]
    },
    {
     "name": "stdout",
     "output_type": "stream",
     "text": [
      " done.\n"
     ]
    },
    {
     "name": "stdout",
     "output_type": "stream",
     "text": [
      "Found 80 bibliographic references in tmp_2508.04254/aa53124-24.bbl.\n",
      "Issues with the citations\n",
      "syntax error in line 424: '=' expected\n",
      "Retrieving document from  https://arxiv.org/e-print/2508.04411\n"
     ]
    },
    {
     "name": "stdout",
     "output_type": "stream",
     "text": [
      "extracting tarball to tmp_2508.04411... done.\n",
      "Retrieving document from  https://arxiv.org/e-print/2508.04692\n"
     ]
    },
    {
     "name": "stdout",
     "output_type": "stream",
     "text": [
      "extracting tarball to tmp_2508.04692... done.\n"
     ]
    },
    {
     "name": "stdout",
     "output_type": "stream",
     "text": [
      "Found 95 bibliographic references in tmp_2508.04692/aa55862-25.bbl.\n"
     ]
    }
   ],
   "source": [
    "documents = []\n",
    "failed = []\n",
    "for paper in tqdm(candidates):\n",
    "    # debug crap\n",
    "    paper['identifier'] = paper['identifier'].lower().replace('arxiv:', '').replace(r'\\n', '').strip()\n",
    "    paper_id = paper['identifier']\n",
    "    \n",
    "    folder = f'tmp_{paper_id}'\n",
    "\n",
    "    try:\n",
    "        if not os.path.isdir(folder):\n",
    "            folder = retrieve_document_source(f\"{paper_id}\", f'tmp_{paper_id}')\n",
    "        \n",
    "        try:\n",
    "            doc = latex.LatexDocument(folder, validation=validation)    \n",
    "        except AffiliationError as affilerror:\n",
    "            msg = f\"ArXiv:{paper_id:s} is not an MPIA paper... \" + str(affilerror)\n",
    "            failed.append((paper, \"affiliation error: \" + str(affilerror) ))\n",
    "            continue\n",
    "        \n",
    "        # Hack because sometimes author parsing does not work well\n",
    "        if (len(doc.authors) != len(paper['authors'])):\n",
    "            doc._authors = paper['authors']\n",
    "        else:\n",
    "            # highlight authors (FIXME: doc.highlight_authors)\n",
    "            # done on arxiv paper already\n",
    "            doc._authors = highlight_authors_in_list(\n",
    "                [get_initials(k) for k in doc.authors], \n",
    "                mpia_authors, verbose=True)\n",
    "        if (doc.abstract) in (None, ''):\n",
    "            doc._abstract = paper['abstract']\n",
    "            \n",
    "        doc.comment = (get_markdown_badge(paper_id) + \n",
    "                       \"<mark>Appeared on: \" + paper['date'] + \"</mark> - \")\n",
    "        if paper['comments']:\n",
    "            doc.comment += \" _\" + paper['comments'] + \"_\"\n",
    "        \n",
    "        full_md = doc.generate_markdown_text()\n",
    "        \n",
    "        full_md += get_markdown_qrcode(paper_id)\n",
    "        \n",
    "        # replace citations\n",
    "        try:\n",
    "            bibdata = latex_bib.LatexBib.from_doc(doc)\n",
    "            full_md = latex_bib.replace_citations(full_md, bibdata)\n",
    "        except Exception as e:\n",
    "            print(\"Issues with the citations\")\n",
    "            print(e)\n",
    "        \n",
    "        documents.append((paper_id, full_md))\n",
    "    except Exception as e:\n",
    "        warnings.warn(latex.LatexWarning(f\"{paper_id:s} did not run properly\\n\" +\n",
    "                                         str(e)\n",
    "                                        ))\n",
    "        failed.append((paper, \"latex error \" + str(e)))"
   ]
  },
  {
   "cell_type": "markdown",
   "id": "2505a25c",
   "metadata": {
    "papermill": {
     "duration": 0.004666,
     "end_time": "2025-08-07T04:39:39.175295",
     "exception": false,
     "start_time": "2025-08-07T04:39:39.170629",
     "status": "completed"
    },
    "tags": []
   },
   "source": [
    "### Export the logs\n",
    "\n",
    "Throughout, we also keep track of the logs per paper. see `logs-{today date}.md` "
   ]
  },
  {
   "cell_type": "code",
   "execution_count": 6,
   "id": "d733828a",
   "metadata": {
    "execution": {
     "iopub.execute_input": "2025-08-07T04:39:39.183700Z",
     "iopub.status.busy": "2025-08-07T04:39:39.183456Z",
     "iopub.status.idle": "2025-08-07T04:39:39.198303Z",
     "shell.execute_reply": "2025-08-07T04:39:39.197609Z"
    },
    "papermill": {
     "duration": 0.020249,
     "end_time": "2025-08-07T04:39:39.199287",
     "exception": false,
     "start_time": "2025-08-07T04:39:39.179038",
     "status": "completed"
    },
    "scrolled": false,
    "tags": []
   },
   "outputs": [
    {
     "data": {
      "text/markdown": [
       "## Successful papers"
      ],
      "text/plain": [
       "<IPython.core.display.Markdown object>"
      ]
     },
     "metadata": {},
     "output_type": "display_data"
    },
    {
     "data": {
      "text/markdown": [
       "\n",
       "|||\n",
       "|---:|:---|\n",
       "| [![arXiv](https://img.shields.io/badge/arXiv-2508.03814-b31b1b.svg)](https://arxiv.org/abs/2508.03814) | **Worlds Next Door: A Candidate Giant Planet Imaged in the Habitable Zone of $α$ Cen A. I. Observations, Orbital and Physical Properties, and Exozodi Upper Limits**  |\n",
       "|| C. Beichman, et al. -- incl., <mark>T. Henning</mark> |\n",
       "|*Appeared on*| *2025-08-07*|\n",
       "|*Comments*| *Accepted to ApJL. 34 pages, 22 figures, 10 tables*|\n",
       "|**Abstract**|            We report on coronagraphic observations of the nearest solar-type star, $\\alpha$ Cen A, using the MIRI instrument on the James Webb Space Telescope. With three epochs of observation (August 2024, February 2025, and April 2025), we achieve a sensitivity sufficient to detect $T_{\\rm eff}\\approx$ 225-250 K (1-1.2 $R_{\\rm Jup}$) planets between 1\"-2\" and exozodiacal dust emission at the level of $>$5-8$\\times$ the brightness of our own zodiacal cloud. The lack of exozodiacal dust emission sets an unprecedented limit of a few times the brightness of our own zodiacal cloud$-$a factor of $\\gtrsim$10 more sensitive than measured toward any other stellar system to date. In August 2024, we detected a F$_\\nu$(15.5 $\\mu$m) = 3.5 mJy point source, called $S1$, at a separation of 1.5\" from $\\alpha$ Cen A. Because the August 2024 epoch had only one successful observation at a single roll angle, it is not possible to unambiguously confirm $S1$ as a bona fide planet. Our analysis confirms that $S1$ is neither a background nor a foreground object. $S1$ is not recovered in the February and April 2025 epochs. However, if $S1$ is the counterpart of the object, $C1$, seen by the VLT/NEAR program in 2019, we find that there is a 52% chance that the $S1+C1$ candidate was missed in both follow-up JWST/MIRI observations due to orbital motion. Incorporating constraints from the non-detections, we obtain families of dynamically stable orbits for $S1+C1$ with periods between 2-3 years. These suggest that the planet candidate is on an eccentric ($e \\approx 0.4$) orbit significantly inclined with respect to $\\alpha$ Cen AB orbital plane ($i_{\\rm mutual} \\approx 50^\\circ$, or $\\approx 130^\\circ$). Based on the photometry and orbital properties, the planet candidate could have a temperature of 225 K, a radius of $\\approx$1-1.1 $R_{\\rm Jup}$ and a mass between 90-150 $M_{\\rm Earth}$, consistent with RV limits.         |"
      ],
      "text/plain": [
       "[2508.03814] Worlds Next Door: A Candidate Giant Planet Imaged in the Habitable Zone of $α$ Cen A. I. Observations, Orbital and Physical Properties, and Exozodi Upper Limits\n",
       "\tC. Beichman, et al. -- incl., <mark>T. Henning</mark>"
      ]
     },
     "metadata": {},
     "output_type": "display_data"
    },
    {
     "data": {
      "text/markdown": [
       "\n",
       "|||\n",
       "|---:|:---|\n",
       "| [![arXiv](https://img.shields.io/badge/arXiv-2508.04254-b31b1b.svg)](https://arxiv.org/abs/2508.04254) | **Multi dust species inner rim in magnetized protoplanetary disks**  |\n",
       "|| <mark>M. Flock</mark>, et al. -- incl., <mark>M. Benisty</mark>, <mark>R. v. Boekel</mark> |\n",
       "|*Appeared on*| *2025-08-07*|\n",
       "|*Comments*| *accepted at A&A*|\n",
       "|**Abstract**|            The inner regions of protoplanetary disks, within ten astronomical units, are where terrestrial planets are born. By developing a new class of multi-dust radiative magnetized inner rim models, we can gain valuable insights into the conditions during planet formation. Our goal is twofold: to study the influence of highly refractory dust species on the inner rim shape and to determine how the magnetic field affects the inner disk structure. The resulting temperature and density structures are analyzed and compared to observations. The comparison focuses on a median SED of Herbig stars and interferometric constraints from the H, K, and N-band of three Herbig-type star-disk systems: HD 100546, HD 163296, and HD 169142. We investigate 1) the influence of a large-scale magnetic field on the inner disk structure and 2) the effect of having the four most important dust species (corundum, iron, forsterite, and enstatite) shaping the rim. We use frequency-dependent irradiation and the effect of accretion heating. With the Optool package, we obtain frequency-dependent opacities for each dust grain family and calculate the corresponding temperature-dependent Planck and Rosseland opacities. Our models with multiple dust species show a smoother and radially more extended inner rim. Strongly magnetized disks show a substantial increase in the emission flux between the L and N-bands. Weakly magnetized disk models with large-scale vertical magnetic fields < 0.3 Gauss at 1 au best fit with NIR interferometric observations. Our model comparison supports the existence of moderate magnetic fields ($\\beta$ > $10^4$), which could still drive a magnetic wind in the inner disk. Our results show that multi-dust models, including magnetic fields, still lack NIR emission, especially in the H-band. One potential solution might be a heated gas disk or evaporating objects like planetesimals close to the star.         |"
      ],
      "text/plain": [
       "[2508.04254] Multi dust species inner rim in magnetized protoplanetary disks\n",
       "\t<mark>M. Flock</mark>, et al. -- incl., <mark>M. Benisty</mark>, <mark>R. v. Boekel</mark>"
      ]
     },
     "metadata": {},
     "output_type": "display_data"
    },
    {
     "data": {
      "text/markdown": [
       "\n",
       "|||\n",
       "|---:|:---|\n",
       "| [![arXiv](https://img.shields.io/badge/arXiv-2508.04692-b31b1b.svg)](https://arxiv.org/abs/2508.04692) | **A transition from H$_2$O to C$_2$H$_2$ dominated spectra with decreasing stellar luminosity**  |\n",
       "|| S. L. Grant, et al. -- incl., <mark>T. Henning</mark>, <mark>G. Perotti</mark>, <mark>K. Schwarz</mark> |\n",
       "|*Appeared on*| *2025-08-07*|\n",
       "|*Comments*| *Accepted for publication in A&A. 15 pages, 9 figures. ArXiv abstract is shortened*|\n",
       "|**Abstract**|            The chemical composition of the inner regions of disks around young stars will determine the properties of planets forming there. Many disk physical processes drive the chemical evolution, some of which depend on/correlate with the stellar properties. We aim to explore the connection between stellar properties and inner disk chemistry, using mid-infrared spectroscopy. We use JWST-MIRI observations of a large, diverse sample of sources to explore trends between C$_2$H$_2$ and H$_2$O. Additionally, we calculate the average spectrum for the T Tauri ($M_{*}$$>$0.2 $M_{\\odot}$) and very low-mass star (VLMS, $M_{*}$$\\leq$0.2 $M_{\\odot}$) samples and use slab models to determine the properties. We find a significant anti-correlation between the flux ratio of C$_2$H$_2$/H$_2$O and the stellar luminosity. Disks around VLMS have significantly higher $F_{\\rm{C_2H_2}}$/$F_{\\rm{H_2O}}$ flux ratios than their higher-mass counterparts. We also explore trends with the strength of the 10 $\\mu$m silicate feature, stellar accretion rate, and disk dust mass, all of which show correlations with the flux ratio, which may be related to processes driving the carbon-enrichment in disks around VLMS, but also have degeneracies with system properties. Slab model fits to the average spectra show that the VLMS H$_2$O emission is quite similar in temperature and column density to a warm ($\\sim$600 K) H$_2$O component in the T Tauri spectrum, indicating that the high C/O gas phase ratio in these disks is not due to oxygen depletion alone. Instead, the presence of many hydrocarbons, including some with high column densities, points to carbon enhancement in the disks around VLMS. The observed differences in the inner disk chemistry as a function of host properties are likely to be accounted for by differences in the disk temperatures, stellar radiation field, and the evolution of dust grains.         |"
      ],
      "text/plain": [
       "[2508.04692] A transition from H$_2$O to C$_2$H$_2$ dominated spectra with decreasing stellar luminosity\n",
       "\tS. L. Grant, et al. -- incl., <mark>T. Henning</mark>, <mark>G. Perotti</mark>, <mark>K. Schwarz</mark>"
      ]
     },
     "metadata": {},
     "output_type": "display_data"
    },
    {
     "data": {
      "text/markdown": [
       "## Failed papers"
      ],
      "text/plain": [
       "<IPython.core.display.Markdown object>"
      ]
     },
     "metadata": {},
     "output_type": "display_data"
    },
    {
     "data": {
      "text/markdown": [
       "\n",
       "|||\n",
       "|---:|:---|\n",
       "| [![arXiv](https://img.shields.io/badge/arXiv-2508.04411-b31b1b.svg)](https://arxiv.org/abs/2508.04411) | **Can fractal dimension distinguish between grand-design and flocculent spiral arms?**  |\n",
       "|| <mark>B. Saha</mark>, S. Dutta, A. Banerjee |\n",
       "|*Appeared on*| *2025-08-07*|\n",
       "|*Comments*| *Accepted for publication in The Astrophysical Journal*|\n",
       "|**Abstract**|            About two-thirds of disk galaxies host spiral arms, ranging from well-delineated grand-design spirals to fragmented flocculent spiral galaxies. We introduce fractal dimension $D_B$ as a non-parametric measure to distinguish between grand-designs and flocculents. We calculate the $D_B$ of 197 grand-designs and 322 flocculents from SDSS DR18, using the samples of \\citet{Buta..2015} and \\citet{Sarkar..2023}. Our calculated median values of $D_B$ are $1.29^{+0.06}_{-0.04}$ and $1.38^{+0.05}_{-0.06}$ for the grand-designs and flocculents, respectively. In addition, a Kolmogorov-Smirnov (K-S) test rejects null hypothesis that these distributions are drawn from the same population. Finally, using a Random Forest (RF) model, we compare the effectiveness of $D_B$ in classifying spiral arm morphology, as compared to five other parameters viz. total atomic hydrogen HI mass $M_{HI}$, ratio of atomic hydrogen mass-to-blue luminosity $M_{HI} /L_B$, concentration index $C_i$, clumpiness $S$ and arm-contrast $C$. Our results indicate that $D_B$ has the highest feature index (30.8\\%), followed by $C_i$ (26.0\\%) and $M_{HI}$ (21.0\\%). In fact, C, the metric routinely used to distinguish between the spiral morphologies has a feature importance of 8.3\\%. Further, $D_B$ for grand-designs is found to anti-correlate with the central velocity dispersion with a correlation coefficient of -0.3 and $p \\ll 0.05$. A high value of central velocity dispersion indicates a central Q-barrier, which favors the formation of grand designs according to the density wave theory. Thus, fractal dimension serves as a robust metric to distinguish between spiral morphologies and also links to the formation mechanism of spiral features.         |\n",
       "|<p style=\"color:green\"> **ERROR** </p>| <p style=\"color:green\">affiliation error: mpia.affiliation_verifications: '69117' keyword not found.</p> |"
      ],
      "text/plain": [
       "<IPython.core.display.Markdown object>"
      ]
     },
     "metadata": {},
     "output_type": "display_data"
    }
   ],
   "source": [
    "import datetime\n",
    "today = str(datetime.date.today())\n",
    "logfile = f\"_build/html/logs/log-{today}.md\"\n",
    "\n",
    "\n",
    "with open(logfile, 'w') as logs:\n",
    "    # Success\n",
    "    logs.write(f'# Arxiv on Deck 2: Logs - {today}\\n\\n')\n",
    "    logs.write(\"\"\"* Arxiv had {0:,d} new papers\\n\"\"\".format(len(new_papers)))\n",
    "    logs.write(\"\"\"    * {0:,d} with possible author matches\\n\\n\"\"\".format(len(candidates)))\n",
    "    logs.write(\"## Sucessful papers\\n\\n\")\n",
    "    display(Markdown(\"## Successful papers\"))\n",
    "    success = [k[0] for k in documents]\n",
    "    for candid in candidates:\n",
    "        if candid['identifier'].split(':')[-1] in success:\n",
    "            display(candid)\n",
    "            logs.write(candid.generate_markdown_text() + '\\n\\n')\n",
    "\n",
    "    ## failed\n",
    "    logs.write(\"## Failed papers\\n\\n\")\n",
    "    display(Markdown(\"## Failed papers\"))\n",
    "    failed = sorted(failed, key=lambda x: x[1])\n",
    "    current_reason = \"\"\n",
    "    for paper, reason in failed:\n",
    "        if 'affiliation' in reason:\n",
    "            color = 'green'\n",
    "        else:\n",
    "            color = 'red'\n",
    "        data = Markdown(\n",
    "                paper.generate_markdown_text() + \n",
    "                f'\\n|<p style=\"color:{color:s}\"> **ERROR** </p>| <p style=\"color:{color:s}\">{reason:s}</p> |'\n",
    "               )\n",
    "        if reason != current_reason:\n",
    "            logs.write(f'### {reason:s} \\n\\n')\n",
    "            current_reason = reason\n",
    "        logs.write(data.data + '\\n\\n')\n",
    "        \n",
    "        # only display here the important errors (all in logs)\n",
    "        # if color in ('red',):\n",
    "        display(data)"
   ]
  },
  {
   "cell_type": "markdown",
   "id": "472d20ee",
   "metadata": {
    "papermill": {
     "duration": 0.00517,
     "end_time": "2025-08-07T04:39:39.208975",
     "exception": false,
     "start_time": "2025-08-07T04:39:39.203805",
     "status": "completed"
    },
    "tags": []
   },
   "source": [
    "## Export documents\n",
    "\n",
    "We now write the .md files and export relevant images"
   ]
  },
  {
   "cell_type": "code",
   "execution_count": 7,
   "id": "d426aed9",
   "metadata": {
    "execution": {
     "iopub.execute_input": "2025-08-07T04:39:39.219804Z",
     "iopub.status.busy": "2025-08-07T04:39:39.219535Z",
     "iopub.status.idle": "2025-08-07T04:39:39.226636Z",
     "shell.execute_reply": "2025-08-07T04:39:39.225984Z"
    },
    "papermill": {
     "duration": 0.013377,
     "end_time": "2025-08-07T04:39:39.227689",
     "exception": false,
     "start_time": "2025-08-07T04:39:39.214312",
     "status": "completed"
    },
    "tags": []
   },
   "outputs": [],
   "source": [
    "def export_markdown_summary(md: str, md_fname:str, directory: str):\n",
    "    \"\"\"Export MD document and associated relevant images\"\"\"\n",
    "    import os\n",
    "    import shutil\n",
    "    import re\n",
    "\n",
    "    if (os.path.exists(directory) and not os.path.isdir(directory)):\n",
    "        raise RuntimeError(f\"a non-directory file exists with name {directory:s}\")\n",
    "\n",
    "    if (not os.path.exists(directory)):\n",
    "        print(f\"creating directory {directory:s}\")\n",
    "        os.mkdir(directory)\n",
    "\n",
    "    fig_fnames = (re.compile(r'\\[Fig.*\\]\\((.*)\\)').findall(md) + \n",
    "                  re.compile(r'\\<img src=\"([^>\\s]*)\"[^>]*/>').findall(md))\n",
    "    print(\"found figures\", fig_fnames)\n",
    "    for fname in fig_fnames:\n",
    "        if 'http' in fname:\n",
    "            # No need to copy online figures\n",
    "            continue\n",
    "        if not os.path.exists(fname):\n",
    "            print(\"file not found\", fname)\n",
    "            continue\n",
    "        print(\"copying \", fname, \"to\", directory)\n",
    "        destdir = os.path.join(directory, os.path.dirname(fname))\n",
    "        destfname = os.path.join(destdir, os.path.basename(fname))\n",
    "        try:\n",
    "            os.makedirs(destdir)\n",
    "        except FileExistsError:\n",
    "            pass\n",
    "        shutil.copy(fname, destfname)\n",
    "    with open(os.path.join(directory, md_fname), 'w') as fout:\n",
    "        fout.write(md)\n",
    "    print(\"exported in \", os.path.join(directory, md_fname))\n",
    "    [print(\"    + \" + os.path.join(directory,fk)) for fk in fig_fnames]"
   ]
  },
  {
   "cell_type": "code",
   "execution_count": 8,
   "id": "014d04a4",
   "metadata": {
    "execution": {
     "iopub.execute_input": "2025-08-07T04:39:39.237322Z",
     "iopub.status.busy": "2025-08-07T04:39:39.237085Z",
     "iopub.status.idle": "2025-08-07T04:39:39.249920Z",
     "shell.execute_reply": "2025-08-07T04:39:39.249374Z"
    },
    "papermill": {
     "duration": 0.018864,
     "end_time": "2025-08-07T04:39:39.250973",
     "exception": false,
     "start_time": "2025-08-07T04:39:39.232109",
     "status": "completed"
    },
    "tags": []
   },
   "outputs": [
    {
     "name": "stdout",
     "output_type": "stream",
     "text": [
      "found figures ['tmp_2508.03814/./AlphaCen_stab.png', 'tmp_2508.03814/./AlphaCen_Orbit.png', 'tmp_2508.03814/./AcenF1000WwGaiaG0G5.png', 'tmp_2508.03814/./EpsMusF1000WwGaiaG9.png']\n",
      "copying  tmp_2508.03814/./AlphaCen_stab.png to _build/html/\n",
      "copying  tmp_2508.03814/./AlphaCen_Orbit.png to _build/html/\n",
      "copying  tmp_2508.03814/./AcenF1000WwGaiaG0G5.png to _build/html/\n",
      "copying  tmp_2508.03814/./EpsMusF1000WwGaiaG9.png to _build/html/\n",
      "exported in  _build/html/2508.03814.md\n",
      "    + _build/html/tmp_2508.03814/./AlphaCen_stab.png\n",
      "    + _build/html/tmp_2508.03814/./AlphaCen_Orbit.png\n",
      "    + _build/html/tmp_2508.03814/./AcenF1000WwGaiaG0G5.png\n",
      "    + _build/html/tmp_2508.03814/./EpsMusF1000WwGaiaG9.png\n",
      "found figures ['tmp_2508.04254/./FIG/Sed_acc_2.png', 'tmp_2508.04254/./FIG/Rim_22_radial_ts.png', 'tmp_2508.04254/./FIG/Rhotemp_MAG001.png', 'tmp_2508.04254/./FIG/Tempmag_part1.png']\n",
      "copying  tmp_2508.04254/./FIG/Sed_acc_2.png to _build/html/\n",
      "copying  tmp_2508.04254/./FIG/Rim_22_radial_ts.png to _build/html/\n",
      "copying  tmp_2508.04254/./FIG/Rhotemp_MAG001.png to _build/html/\n",
      "copying  tmp_2508.04254/./FIG/Tempmag_part1.png to _build/html/\n",
      "exported in  _build/html/2508.04254.md\n",
      "    + _build/html/tmp_2508.04254/./FIG/Sed_acc_2.png\n",
      "    + _build/html/tmp_2508.04254/./FIG/Rim_22_radial_ts.png\n",
      "    + _build/html/tmp_2508.04254/./FIG/Rhotemp_MAG001.png\n",
      "    + _build/html/tmp_2508.04254/./FIG/Tempmag_part1.png\n",
      "found figures ['tmp_2508.04692/./C2H2_H2O_10mic_Mdot_Mdust.png', 'tmp_2508.04692/./VLMS_chi2.png', 'tmp_2508.04692/./molecules_T_N_R_errors_limits.png']\n",
      "copying  tmp_2508.04692/./C2H2_H2O_10mic_Mdot_Mdust.png to _build/html/\n",
      "copying  tmp_2508.04692/./VLMS_chi2.png to _build/html/\n",
      "copying  tmp_2508.04692/./molecules_T_N_R_errors_limits.png to _build/html/\n",
      "exported in  _build/html/2508.04692.md\n",
      "    + _build/html/tmp_2508.04692/./C2H2_H2O_10mic_Mdot_Mdust.png\n",
      "    + _build/html/tmp_2508.04692/./VLMS_chi2.png\n",
      "    + _build/html/tmp_2508.04692/./molecules_T_N_R_errors_limits.png\n"
     ]
    }
   ],
   "source": [
    "for paper_id, md in documents:\n",
    "    export_markdown_summary(md, f\"{paper_id:s}.md\", '_build/html/')"
   ]
  },
  {
   "cell_type": "markdown",
   "id": "f087a0a7",
   "metadata": {
    "papermill": {
     "duration": 0.004416,
     "end_time": "2025-08-07T04:39:39.260084",
     "exception": false,
     "start_time": "2025-08-07T04:39:39.255668",
     "status": "completed"
    },
    "tags": []
   },
   "source": [
    "## Display the papers\n",
    "\n",
    "Not necessary but allows for a quick check."
   ]
  },
  {
   "cell_type": "code",
   "execution_count": 9,
   "id": "fd25f625",
   "metadata": {
    "execution": {
     "iopub.execute_input": "2025-08-07T04:39:39.269806Z",
     "iopub.status.busy": "2025-08-07T04:39:39.269593Z",
     "iopub.status.idle": "2025-08-07T04:39:39.276562Z",
     "shell.execute_reply": "2025-08-07T04:39:39.275915Z"
    },
    "papermill": {
     "duration": 0.013067,
     "end_time": "2025-08-07T04:39:39.277610",
     "exception": false,
     "start_time": "2025-08-07T04:39:39.264543",
     "status": "completed"
    },
    "scrolled": false,
    "tags": []
   },
   "outputs": [
    {
     "data": {
      "text/markdown": [
       "<div class=\"macros\" style=\"visibility:hidden;\">\n",
       "$\\newcommand{\\ensuremath}{}$\n",
       "$\\newcommand{\\xspace}{}$\n",
       "$\\newcommand{\\object}[1]{\\texttt{#1}}$\n",
       "$\\newcommand{\\farcs}{{.}''}$\n",
       "$\\newcommand{\\farcm}{{.}'}$\n",
       "$\\newcommand{\\arcsec}{''}$\n",
       "$\\newcommand{\\arcmin}{'}$\n",
       "$\\newcommand{\\ion}[2]{#1#2}$\n",
       "$\\newcommand{\\textsc}[1]{\\textrm{#1}}$\n",
       "$\\newcommand{\\hl}[1]{\\textrm{#1}}$\n",
       "$\\newcommand{\\footnote}[1]{}$\n",
       "$\\newcommand{\\teff}{\\ensuremath{T_{\\rm eff}}}$\n",
       "$\\newcommand{\\rsun}{\\ensuremath{ R_\\Sun}}$\n",
       "$\\newcommand{\\lsun}{\\ensuremath{ L_\\Sun}}$\n",
       "$\\newcommand{\\mj}{\\ensuremath{ M_{\\rm Jup}}}$\n",
       "$\\newcommand{\\rj}{\\ensuremath{R_{\\rm Jup}}}$\n",
       "$\\newcommand{\\mearth}{M_\\oplus}$\n",
       "$\\newcommand{\\rearth}{R_\\oplus}$\n",
       "$\\newcommand{\\mum}{\\mum}$\n",
       "$\\newcommand{◦ee}{^\\circ}$\n",
       "$\\newcommand{\\acenA}{\\alpha~Cen~A\\xspace}$\n",
       "$\\newcommand{\\acen}{\\alpha~Cen\\xspace}$\n",
       "$\\newcommand{\\acenAb}{\\alpha~Cen~Ab\\xspace}$\n",
       "$\\newcommand{\\acenB}{\\alpha~Cen~B\\xspace}$\n",
       "$\\newcommand{\\acenAB}{\\alpha~Cen~AB\\xspace}$\n",
       "$\\newcommand{\\acenABC}{\\alpha~Cen~ABC\\xspace}$\n",
       "$\\newcommand{\\emus}{\\epsilon~Mus\\xspace}$\n",
       "$\\newcommand{\\sone}{S1\\xspace}$\n",
       "$\\newcommand{\\chas}[1]{\\textcolor{orange}{#1}}$\n",
       "$\\newcommand{\\aniket}[1]{\\textcolor{blue}{#1}}$\n",
       "$\\newcommand{\\pierre}[1]{\\textcolor{magenta}{#1}}$</div>\n",
       "\n",
       "\n",
       "\n",
       "<div id=\"title\">\n",
       "\n",
       "# Worlds Next Door: A Candidate Giant Planet Imaged in the Habitable Zone of $\\acenA$.\\ I. Observations, Orbital and Physical Properties, and Exozodi Upper Limits\n",
       "\n",
       "</div>\n",
       "<div id=\"comments\">\n",
       "\n",
       "[![arXiv](https://img.shields.io/badge/arXiv-2508.03814-b31b1b.svg)](https://arxiv.org/abs/2508.03814)<mark>Appeared on: 2025-08-07</mark> -  _Accepted to ApJL. 34 pages, 22 figures, 10 tables_\n",
       "\n",
       "</div>\n",
       "<div id=\"authors\">\n",
       "\n",
       "C. Beichman, et al. -- incl., <mark>T. Henning</mark>\n",
       "\n",
       "</div>\n",
       "<div id=\"abstract\">\n",
       "\n",
       "**Abstract:** We report on coronagraphic observations of the nearest solar-type star, $\\acenA$ , using the MIRI instrument on the $*James Webb*$ Space Telescope. The proximity of $\\acen$ (1.33 pc) means that the star's habitable zone is spatially resolved at mid-infrared wavelengths, so sufficiently large planets or quantities of exozodiacal dust would be detectable via direct imaging. With three epochs of observation (August 2024, February 2025, and April 2025), we achieve a sensitivity sufficient to detect $T_{\\rm eff}\\approx$ 225--250 K (1--1.2 $R_{\\rm Jup}$ ) planets between 1 $\\arcsec$ --2 $\\arcsec$ and exozodiacal dust emission at the level of $>$ 5--8 $\\times$ the brightness of our own zodiacal cloud. The lack of exozodiacal dust emission sets an unprecedented limit of a few times the brightness of our own zodiacal cloud---a factor of $\\gtrsim$ 5--10 more sensitive than measured toward any other stellar system to date. In August 2024, we detected a F $_\\nu$ (15.5 $\\mum$ ) = 3.5 mJy point source, called $\\sone$ , at a separation of 1.5 $\\arcsec$ from $\\acenA$ at a contrast level of $5.5\\times10^{-5}$ . Because the August 2024 epoch had only one successful observation at a single roll angle, it is not possible to unambiguously confirm $\\sone$ as a bona fide planet. Our analysis confirms that $\\sone$ is neither a background nor a foreground object. $\\sone$ is not recovered in the February and April 2025 epochs. However, if $\\sone$ is the counterpart of the object, $C1$ , seen by the VLT/NEAR program in 2019, we find that there is a 52 \\% chance that the $S1+C1$ candidate was missed in both follow-up JWST/MIRI observations due to orbital motion. Incorporating constraints from the non-detections, we obtain families of dynamically stable orbits for $S1+C1$ with periods between 2--3 years. These suggest that the planet candidate is on an eccentric ( $e \\approx 0.4$ ) orbit significantly inclined with respect to the $\\acenAB$ orbital plane ( $i_{\\rm mutual} \\approx 50^\\circ$ , prograde, or $\\approx 130^\\circ$ , retrograde). Based on the photometry and inferred orbital properties, the planet candidate could have a temperature of 225 K, a radius of $\\approx$ 1--1.1 $\\rj$ and a mass between 90--150 $\\mearth$ , consistent with RV limits. This paper is first in a series of two papers: Paper II (Sanghi \\& Beichman et al. 2025, in press) discusses the data reduction strategy and finds that $\\sone$ is robust as a planet candidate, as opposed to an image or detector artifact.\n",
       "\n",
       "</div>\n",
       "\n",
       "<div id=\"div_fig1\">\n",
       "\n",
       "<img src=\"tmp_2508.03814/./AlphaCen_stab.png\" alt=\"Fig19\" width=\"100%\"/>\n",
       "\n",
       "**Figure 19. -** The planet candidate is initialized using the mean values from Table \\ref{tab:orbit} with $K_{\\rm RV}<3 {\\rm m/s}$, where the color-coded points denote the planet candidate with a prograde (blue/cyan) or retrograde (red/magenta) orbit. The top panel shows the lifetime $t_{99}$ when $99\\%$ of the test particles are unstable, while the bottom panel measures the fraction of stable particles for a given initial semi-major axis. The triangles denote upper limits for the stable fraction due to the finite number of trials (360) per semimajor axis. The light green region denotes the optimistic HZ, while the dark green represents the more conservative HZ.\n",
       "  (*fig:PlanetStability*)\n",
       "\n",
       "</div>\n",
       "<div id=\"div_fig2\">\n",
       "\n",
       "<img src=\"tmp_2508.03814/./AlphaCen_Orbit.png\" alt=\"Fig21\" width=\"100%\"/>\n",
       "\n",
       "**Figure 21. -** *Left:* Orbit of $\\acen$B relative to $\\acenA$ showing one epoch of Hipparcos and two epochs of ALMA data. *Center:* zoom-in showing the ALMA data. *Top right:* The difference between the parallax effect as seen from Earth and from JWST at L2. *Bottom right:* The uncertainty in position of $\\acen$ as a function of year before and after the addition of the new 2023 ALMA observations. (*fig:ALMA1*)\n",
       "\n",
       "</div>\n",
       "<div id=\"div_fig3\">\n",
       "\n",
       "<img src=\"tmp_2508.03814/./AcenF1000WwGaiaG0G5.png\" alt=\"Fig12.1\" width=\"50%\"/><img src=\"tmp_2508.03814/./EpsMusF1000WwGaiaG9.png\" alt=\"Fig12.2\" width=\"50%\"/>\n",
       "\n",
       "**Figure 12. -** *Left:* F1000W image of $\\acenA$B showing Gaia stars (green boxes) and MIRI detections (red boxes). The stars labeled $G0$ and $G5$ were used for target acquisition of $\\acenA$. *Right:* similar F1000W image for $\\emus$. The star labeled $G9$ was used for target acquisition of $\\emus$.  (*fig:TAobs*)\n",
       "\n",
       "</div><div id=\"qrcode\"><img src=https://api.qrserver.com/v1/create-qr-code/?size=100x100&data=\"https://arxiv.org/abs/2508.03814\"></div>"
      ],
      "text/plain": [
       "<IPython.core.display.Markdown object>"
      ]
     },
     "metadata": {},
     "output_type": "display_data"
    },
    {
     "data": {
      "text/markdown": [
       "<div class=\"macros\" style=\"visibility:hidden;\">\n",
       "$\\newcommand{\\ensuremath}{}$\n",
       "$\\newcommand{\\xspace}{}$\n",
       "$\\newcommand{\\object}[1]{\\texttt{#1}}$\n",
       "$\\newcommand{\\farcs}{{.}''}$\n",
       "$\\newcommand{\\farcm}{{.}'}$\n",
       "$\\newcommand{\\arcsec}{''}$\n",
       "$\\newcommand{\\arcmin}{'}$\n",
       "$\\newcommand{\\ion}[2]{#1#2}$\n",
       "$\\newcommand{\\textsc}[1]{\\textrm{#1}}$\n",
       "$\\newcommand{\\hl}[1]{\\textrm{#1}}$\n",
       "$\\newcommand{\\footnote}[1]{}$\n",
       "$\\newcommand$\n",
       "$\\newcommand{\\mum}{\\upmum}$\n",
       "$\\newcommand{\\Omegas}{\\mathit{\\Omega}}$</div>\n",
       "\n",
       "\n",
       "\n",
       "<div id=\"title\">\n",
       "\n",
       "# Multi dust species inner rim in magnetized protoplanetary disks\n",
       "\n",
       "</div>\n",
       "<div id=\"comments\">\n",
       "\n",
       "[![arXiv](https://img.shields.io/badge/arXiv-2508.04254-b31b1b.svg)](https://arxiv.org/abs/2508.04254)<mark>Appeared on: 2025-08-07</mark> -  _accepted at A&A_\n",
       "\n",
       "</div>\n",
       "<div id=\"authors\">\n",
       "\n",
       "<mark>M. Flock</mark>, et al. -- incl., <mark>M. Benisty</mark>, <mark>R. v. Boekel</mark>\n",
       "\n",
       "</div>\n",
       "<div id=\"abstract\">\n",
       "\n",
       "**Abstract:** The inner regions of protoplanetary disks, within ten astronomical units (au), are where terrestrial planets are born. Developing multi-physics models of this environment is crucial for understanding how planets form.By developing a new class of multi-dust radiative magnetized inner rim models and comparing them with recent near-infrared observational data, we can gain valuable insights into the conditions during planet formation. Our goal is twofold: to study the influence of highly refractory dust species on the inner rim shape and to determine how the magnetic field affects the inner disk structure. The resulting temperature and density structures are analyzed and compared to observations. The comparison focuses on a median SED of Herbig stars and interferometric constraints from the H, K, and N-band of three Herbig-type star-disk systems: \\texttt{HD 100546} , \\texttt{HD 163296} , and \\texttt{HD 169142} . With the new models, we investigate 1) the influence of a large-scale magnetic field on the inner disk structure and 2) the effect of having the four most important dust species (corundum, iron, forsterite, and enstatite) shaping the rim, each with its sublimation temperatures.Further, we improve our model by using frequency-dependent irradiation and the effect of accretion heating. With the \\texttt{Optool} package, we obtain frequency-dependent opacities for each dust grain family and calculate the corresponding temperature-dependent Planck and Rosseland opacities. When multiple dust species are considered, the dust's sublimation front, i.e., the inner rim, becomes smoother and radially more extended. Strongly magnetized disks show a substantial increase in the emission flux between the L and N-bands. Our results show that weakly magnetized disk models with large-scale vertical magnetic fields $\\leq 0.3$ Gauss at 1 au best fit with NIR interferometric observations. Our model comparison supports the existence of moderate magnetic fields ( $\\beta \\ge 10^4$ ), which could drive a magnetic wind in the inner disk. Our results show that multi-dust models, including magnetic fields, still lack NIR emission, especially in the H-band. Half-light radii derived from H-band emission by near-infrared interferometry indicate that the missing flux originates within the inner rim, where even corundum grains sublimate. One potential solution might be a heated gas disk or evaporating objects like planetesimals close to the star.\n",
       "\n",
       "</div>\n",
       "\n",
       "<div id=\"div_fig1\">\n",
       "\n",
       "<img src=\"tmp_2508.04254/./FIG/Sed_acc_2.png\" alt=\"Fig6.1\" width=\"50%\"/><img src=\"tmp_2508.04254/./FIG/Rim_22_radial_ts.png\" alt=\"Fig6.2\" width=\"50%\"/>\n",
       "\n",
       "**Figure 6. -** Top: SED for additional models: with accretion heating (red dashed), with only silicate grains (green dotted), and with only silicates with a constant and high ($T_{\\rm ev}=1500K$) sublimation temperature \\texttt{M001\\_S\\_TC}(blue dotted). The red dashed line was calculated based on model \\texttt{M001}, including accretion heating in the \\texttt{RADMC3D} calculation. Bottom: Radial intensity profile { along the major axis (Y=0)} for models \\texttt{M001}, \\texttt{M03},  \\texttt{M001} with accretion heating in \\texttt{RADMC3D} and the model \\texttt{M001\\_S\\_TC}{at K-band (2.2 $\\mum$)}. (*fig:sed_acc*)\n",
       "\n",
       "</div>\n",
       "<div id=\"div_fig2\">\n",
       "\n",
       "<img src=\"tmp_2508.04254/./FIG/Rhotemp_MAG001.png\" alt=\"Fig12\" width=\"100%\"/>\n",
       "\n",
       "**Figure 12. -** 2D temperature and gas density profile of model \\texttt{M001}. The green dotted line shows plasma beta unity. {The black dotted line shows the MRI transition (900 K contour line)}. The circle indicates the location of the pressure maxima where { inward drifting pebbles} can be trapped. The dotted magenta line shows the sublimation of the corundum. The white solid line shows the water snowline. The blue line shows the location of maximal irradiation heating corresponding to the $\\tau_\\mathrm{r} = 1$ line. {Yellow and orange small dashes show the $\\tau_\\mathrm{z} = 1$ line at 2.2 and 10 $\\mu$m (K-band and N-band). White separated small dashes show the $\\tau_\\mathrm{z} = 1$ for 1 mm emission.} (*fig:inittemp*)\n",
       "\n",
       "</div>\n",
       "<div id=\"div_fig3\">\n",
       "\n",
       "<img src=\"tmp_2508.04254/./FIG/Tempmag_part1.png\" alt=\"Fig14\" width=\"100%\"/>\n",
       "\n",
       "**Figure 14. -** 2D temperature profile with increasing magnetization from top to bottom showing models: \\texttt{M001},\\texttt{M01} and \\texttt{M03}. The green dotted line shows the plasma beta unity line. The blue line shows the location of maximal irradiation heating corresponding to the $\\tau_\\mathrm{r} = 1$ line. Using the local Planck Opacity, the yellow dotted line shows the $\\tau_\\mathrm{z} = 1$ line. The white solid line shows the water snowline. (*fig:tempmag*)\n",
       "\n",
       "</div><div id=\"qrcode\"><img src=https://api.qrserver.com/v1/create-qr-code/?size=100x100&data=\"https://arxiv.org/abs/2508.04254\"></div>"
      ],
      "text/plain": [
       "<IPython.core.display.Markdown object>"
      ]
     },
     "metadata": {},
     "output_type": "display_data"
    },
    {
     "data": {
      "text/markdown": [
       "<div class=\"macros\" style=\"visibility:hidden;\">\n",
       "$\\newcommand{\\ensuremath}{}$\n",
       "$\\newcommand{\\xspace}{}$\n",
       "$\\newcommand{\\object}[1]{\\texttt{#1}}$\n",
       "$\\newcommand{\\farcs}{{.}''}$\n",
       "$\\newcommand{\\farcm}{{.}'}$\n",
       "$\\newcommand{\\arcsec}{''}$\n",
       "$\\newcommand{\\arcmin}{'}$\n",
       "$\\newcommand{\\ion}[2]{#1#2}$\n",
       "$\\newcommand{\\textsc}[1]{\\textrm{#1}}$\n",
       "$\\newcommand{\\hl}[1]{\\textrm{#1}}$\n",
       "$\\newcommand{\\footnote}[1]{}$\n",
       "$\\newcommand{\\orcid}[1]{\\unskip\\protect\\href{https://orcid.org/#1}{\\protect\\includegraphics[width=8pt,clip]{logo_orcid}}}$\n",
       "$\\newcommand{\\Lsun}{L_{\\odot}}$\n",
       "$\\newcommand{\\Msun}{M_{\\odot}}$\n",
       "$\\newcommand{\\Mearth}{M_{\\oplus}}$\n",
       "$\\newcommand{\\Rsun}{R_{\\odot}}$\n",
       "$\\newcommand{\\Mdot}{\\dot{M}}$\n",
       "$\\newcommand{\\Mdust}{{M_{\\rm{dust}}}}$\n",
       "$\\newcommand{\\Mdisk}{{M_{\\rm{disk}}}}$\n",
       "$\\newcommand{\\Av}{A_V}$\n",
       "$\\newcommand{\\msunyr}{\\rm{M_{\\sun}   yr^{-1}}}$\n",
       "$\\newcommand{\\Teff}{T_{\\rm eff}}$\n",
       "$\\newcommand{\\mic}{\\mum}$\n",
       "$\\newcommand{\\tstar}{T_{*}}$\n",
       "$\\newcommand{\\rstar}{R_{*}}$\n",
       "$\\newcommand{\\mstar}{M_{*}}$\n",
       "$\\newcommand{\\rdisk}{r_{\\rm{disk}}}$\n",
       "$\\newcommand{\\mdisk}{M_{\\rm{disk}}}$\n",
       "$\\newcommand{\\hwall}{h_{\\rm{wall}}}$\n",
       "$\\newcommand{\\amaxbig}{a_{\\rm{max,big}}}$\n",
       "$\\newcommand{\\amaxsmall}{a_{\\rm{max,small}}}$\n",
       "$\\newcommand{\\brgamma}{Br\\gamma}$\n",
       "$\\newcommand{\\Lacc}{L_{\\rm{acc}}}$\n",
       "$\\newcommand{\\LaccL}{L_{\\rm{acc}}/L_{*}}$\n",
       "$\\newcommand{\\Lbrg}{L_{\\rm{Br\\gamma}}}$\n",
       "$\\newcommand{\\Fbrg}{F_{\\rm{Br\\gamma}}}$\n",
       "$\\newcommand{\\angstrom}{\\mbox{\\normalfontÅ}}$\n",
       "$\\newcommand{\\Lstar}{L_{*}}$\n",
       "$\\newcommand{\\LNIR}{L_{\\rm{NIR}}}$\n",
       "$\\newcommand{\\LIR}{L_{\\rm{IR}}}$\n",
       "$\\newcommand{\\vsini}{vsin(i)}$\n",
       "$\\newcommand{\\Ri}{R_{i}}$\n",
       "$\\newcommand{\\mdotmdisk}{\\dot{M}--M_{\\rm{disk}}}$\n",
       "$\\newcommand{\\tdisk}{t_{\\rm{disk}}}$\n",
       "$\\newcommand{\\sg}[1]{\\textcolor{red}{Sierra}: #1}$</div>\n",
       "\n",
       "\n",
       "\n",
       "<div id=\"title\">\n",
       "\n",
       "# MINDS. A transition from $H_2$O to $C_2$$H_2$ dominated spectra with decreasing stellar luminosity\n",
       "\n",
       "</div>\n",
       "<div id=\"comments\">\n",
       "\n",
       "[![arXiv](https://img.shields.io/badge/arXiv-2508.04692-b31b1b.svg)](https://arxiv.org/abs/2508.04692)<mark>Appeared on: 2025-08-07</mark> -  _Accepted for publication in A&A. 15 pages, 9 figures. ArXiv abstract is shortened_\n",
       "\n",
       "</div>\n",
       "<div id=\"authors\">\n",
       "\n",
       "S. L. Grant, et al. -- incl., <mark>T. Henning</mark>, <mark>G. Perotti</mark>, <mark>K. Schwarz</mark>\n",
       "\n",
       "</div>\n",
       "<div id=\"abstract\">\n",
       "\n",
       "**Abstract:** The chemical composition of the inner regions of disks around young stars will largely determine the properties of planets forming in these regions. Many disk physical processes drive the disk chemical evolution, some of which depend on and/or correlate with the stellar properties. We aim to explore the connection between stellar properties and the inner disk chemistry in protoplanetary disks, as traced by mid-infrared spectroscopy. We use JWST-MIRI observations of a large, diverse sample of sources to explore trends between the carbon-bearing molecule $C_2$ $H_2$ and the oxygen-bearing molecule $H_2$ O. Additionally, we calculate the average spectrum for the T Tauri ( $\\mstar$ $>$ 0.2 $\\Msun$ ) and very low-mass star (VLMS, $\\mstar$ $\\leq$ 0.2 $\\Msun$ ) samples from JWST-MIRI MRS data and use slab models to determine the properties of the average spectra in each subsample. We find a significant anti-correlation between the flux ratio of $C_2$ $H_2$ /$H_2$ O and the stellar luminosity. Disks around VLMS have significantly higher $F_{\\rm{C_2H_2}}$ / $F_{\\rm{H_2O}}$ flux ratios than their higher-mass counterparts, driven by the generally weak $H_2$ O and strong $C_2$ $H_2$ in disks around low-mass hosts. We also explore trends with the strength of the 10 $\\mu$ m silicate feature, the stellar accretion rate, and the disk dust mass, all of which show correlations with $F_{\\rm{C_2H_2}}$ / $F_{\\rm{H_2O}}$ , which may be related to processes driving the carbon-enrichment in disks around VLMS, but also have degeneracies with system properties (i.e., the $\\mstar$ -- $\\Mdot$ and $\\mstar$ -- $\\mdisk$ relationships). Slab model fits to the average spectra show that $H_2$ O emission in the VLMS sample is quite similar in temperature and column density to a warm ( $\\sim$ 600 K) $H_2$ O component in the T Tauri spectrum, indicating that the high C/O gas phase ratio in these disks is not due to oxygen depletion alone. Instead, the presence of many hydrocarbons, including some with high column densities, suggests that carbon enhancement in the disks around VLMS is taking place. The observed differences in the inner disk chemistry as a function of host properties are likely to be accounted for by differences in the disk temperatures, stellar radiation field, and the evolution of dust grains.\n",
       "\n",
       "</div>\n",
       "\n",
       "<div id=\"div_fig1\">\n",
       "\n",
       "<img src=\"tmp_2508.04692/./C2H2_H2O_10mic_Mdot_Mdust.png\" alt=\"Fig3\" width=\"100%\"/>\n",
       "\n",
       "**Figure 3. -** Left: $F_{\\rm{C_2H_2}}$/$F_{\\rm{H_2O}}$ as a function of the strength of the 10 $\\mic$ silicate feature (stronger silicate features have higher values). For four of the VLMS, there is either no 10 $\\mic$ emission or the emission is coming at least partially from $C_2$$H_4$, therefore we adopt feature strength of 1 for these sources (denoted by open points). Two outliers at a 10 $\\mic$ band strength of 3 and 3.8 are the transitional disks LkCa 15 and PDS 70 and have been removed for clarity. Middle: The relationship between $F_{\\rm{C_2H_2}}$/$F_{\\rm{H_2O}}$ and $\\Mdot$. Right: The relationship between $F_{\\rm{C_2H_2}}$/$F_{\\rm{H_2O}}$ and $\\Mdust$. The PCCs and $p-$values can be found for each panel. All of the relationships are statistically significant ($p-$value$<$0.05); however the correlations are not as strong as the $F_{\\rm{C_2H_2}}$/$F_{\\rm{H_2O}}$ vs. stellar luminosity relationship. Rotated triangular markers for the VLMS sample indicate lower limits on $F_{\\rm{C_2H_2}}$/$F_{\\rm{H_2O}}$ and upper limits on $\\Mdust$. Error bars are smaller than the points for most targets.  (*fig: C2H2 H2O Mstar Mdot Mdust*)\n",
       "\n",
       "</div>\n",
       "<div id=\"div_fig2\">\n",
       "\n",
       "<img src=\"tmp_2508.04692/./VLMS_chi2.png\" alt=\"Fig9\" width=\"100%\"/>\n",
       "\n",
       "**Figure 9. -** Same as Figure \\ref{fig: chi2 ttauri}, but now for the molecules in the average VLMS spectrum. (*fig: chi2 vlms*)\n",
       "\n",
       "</div>\n",
       "<div id=\"div_fig3\">\n",
       "\n",
       "<img src=\"tmp_2508.04692/./molecules_T_N_R_errors_limits.png\" alt=\"Fig5\" width=\"100%\"/>\n",
       "\n",
       "**Figure 5. -** The best-fit slab model parameters for the average VLMS spectrum (left circles) and T Tauri spectrum (right squares) for the different molecules. The $H_2$O component for the T Tauri spectrum is the intermediate ($T\\sim600$) component. Temperature and column density are shown on the top on the left and right, respectively. The equivalent emitting radius is shown on the bottom left and that radius normalized to the $H_2$O snowline for each subsample is shown on the bottom right. Only the optically thick $C_2$$H_2$ component is shown for the VLMS in the radii plots, as the radius is unconstrained in the optically thin case. Error bars are determined from the 1$\\sigma$ confidence intervals and in some cases are degenerate between parameters. For example, in the case of optically thin emission, the column density and equivalent emitting radii are degenerate. See Figures \\ref{fig: chi2 ttauri} and \\ref{fig: chi2 vlms} for the $\\chi^2$ maps for the T Tauri and VLMS fits, respectively. (*fig: avg params*)\n",
       "\n",
       "</div><div id=\"qrcode\"><img src=https://api.qrserver.com/v1/create-qr-code/?size=100x100&data=\"https://arxiv.org/abs/2508.04692\"></div>"
      ],
      "text/plain": [
       "<IPython.core.display.Markdown object>"
      ]
     },
     "metadata": {},
     "output_type": "display_data"
    }
   ],
   "source": [
    "[display(Markdown(k[1])) for k in documents];"
   ]
  },
  {
   "cell_type": "markdown",
   "id": "873873a4",
   "metadata": {
    "papermill": {
     "duration": 0.005117,
     "end_time": "2025-08-07T04:39:39.288104",
     "exception": false,
     "start_time": "2025-08-07T04:39:39.282987",
     "status": "completed"
    },
    "tags": []
   },
   "source": [
    "# Create HTML index"
   ]
  },
  {
   "cell_type": "code",
   "execution_count": 10,
   "id": "cf665672",
   "metadata": {
    "execution": {
     "iopub.execute_input": "2025-08-07T04:39:39.298854Z",
     "iopub.status.busy": "2025-08-07T04:39:39.298649Z",
     "iopub.status.idle": "2025-08-07T04:39:39.306330Z",
     "shell.execute_reply": "2025-08-07T04:39:39.305663Z"
    },
    "papermill": {
     "duration": 0.014355,
     "end_time": "2025-08-07T04:39:39.307422",
     "exception": false,
     "start_time": "2025-08-07T04:39:39.293067",
     "status": "completed"
    },
    "tags": []
   },
   "outputs": [
    {
     "name": "stdout",
     "output_type": "stream",
     "text": [
      "138  publications files modified in the last 7 days.\n"
     ]
    }
   ],
   "source": [
    "from datetime import datetime, timedelta, timezone\n",
    "from glob import glob\n",
    "import os\n",
    "\n",
    "files = glob('_build/html/*.md')\n",
    "days = 7\n",
    "now = datetime.today()\n",
    "res = []\n",
    "for fk in files:\n",
    "    stat_result = os.stat(fk).st_ctime\n",
    "    modified = datetime.fromtimestamp(stat_result, tz=timezone.utc).replace(tzinfo=None)\n",
    "    delta = now.today() - modified\n",
    "    if delta <= timedelta(days=days):\n",
    "        res.append((delta.seconds, fk))\n",
    "res = [k[1] for k in reversed(sorted(res, key=lambda x:x[1]))]\n",
    "npub = len(res)\n",
    "print(len(res), f\" publications files modified in the last {days:d} days.\")\n",
    "# [ print('\\t', k) for k in res ];"
   ]
  },
  {
   "cell_type": "code",
   "execution_count": 11,
   "id": "015de740",
   "metadata": {
    "execution": {
     "iopub.execute_input": "2025-08-07T04:39:39.318490Z",
     "iopub.status.busy": "2025-08-07T04:39:39.318245Z",
     "iopub.status.idle": "2025-08-07T04:39:39.330978Z",
     "shell.execute_reply": "2025-08-07T04:39:39.330403Z"
    },
    "papermill": {
     "duration": 0.019424,
     "end_time": "2025-08-07T04:39:39.332004",
     "exception": false,
     "start_time": "2025-08-07T04:39:39.312580",
     "status": "completed"
    },
    "tags": []
   },
   "outputs": [
    {
     "name": "stdout",
     "output_type": "stream",
     "text": [
      "10  publications in the last 7 days.\n"
     ]
    }
   ],
   "source": [
    "import datetime\n",
    "from glob import glob\n",
    "\n",
    "def get_last_n_days(lst, days=1):\n",
    "    \"\"\" Get the documents from the last n days \"\"\"\n",
    "    sorted_lst = sorted(lst, key=lambda x: x[1], reverse=True)\n",
    "    for fname, date in sorted_lst:\n",
    "        if date >= str(datetime.date.today() - datetime.timedelta(days=days)):\n",
    "            yield fname\n",
    "\n",
    "def extract_appearance_dates(lst_file):\n",
    "    dates = []\n",
    "\n",
    "    def get_date(line):\n",
    "        return line\\\n",
    "            .split('Appeared on:')[-1]\\\n",
    "            .split('</mark>')[0].strip()\n",
    "\n",
    "    for fname in lst:\n",
    "        with open(fname, 'r') as f:\n",
    "            found_date = False\n",
    "            for line in f:\n",
    "                if not found_date:\n",
    "                    if \"Appeared on\" in line:\n",
    "                        found_date = True\n",
    "                        dates.append((fname, get_date(line)))\n",
    "                else:\n",
    "                    break\n",
    "    return dates\n",
    "\n",
    "from glob import glob\n",
    "lst = glob('_build/html/*md')\n",
    "days = 7\n",
    "dates = extract_appearance_dates(lst)\n",
    "res = list(get_last_n_days(dates, days))\n",
    "npub = len(res)\n",
    "print(len(res), f\" publications in the last {days:d} days.\")"
   ]
  },
  {
   "cell_type": "code",
   "execution_count": 12,
   "id": "52ca0208",
   "metadata": {
    "execution": {
     "iopub.execute_input": "2025-08-07T04:39:39.343147Z",
     "iopub.status.busy": "2025-08-07T04:39:39.342870Z",
     "iopub.status.idle": "2025-08-07T04:39:39.347711Z",
     "shell.execute_reply": "2025-08-07T04:39:39.347190Z"
    },
    "papermill": {
     "duration": 0.01159,
     "end_time": "2025-08-07T04:39:39.348756",
     "exception": false,
     "start_time": "2025-08-07T04:39:39.337166",
     "status": "completed"
    },
    "scrolled": false,
    "tags": []
   },
   "outputs": [],
   "source": [
    "def create_carousel(npub=4):\n",
    "    \"\"\" Generate the HTML code for a carousel with `npub` slides \"\"\"\n",
    "    carousel = [\"\"\"  <div class=\"carousel\" \"\"\",\n",
    "                \"\"\"       data-flickity='{ \"autoPlay\": 10000, \"adaptiveHeight\": true, \"resize\": true, \"wrapAround\": true, \"pauseAutoPlayOnHover\": true, \"groupCells\": 1 }' id=\"asyncTypeset\">\"\"\"\n",
    "                ]\n",
    "    \n",
    "    item_str = \"\"\"    <div class=\"carousel-cell\"> <div id=\"slide{k}\" class=\"md_view\">Content {k}</div> </div>\"\"\"\n",
    "    for k in range(1, npub + 1):\n",
    "        carousel.append(item_str.format(k=k))\n",
    "    carousel.append(\"  </div>\")\n",
    "    return '\\n'.join(carousel)\n",
    "\n",
    "def create_grid(npub=4):\n",
    "    \"\"\" Generate the HTML code for a flat grid with `npub` slides \"\"\"\n",
    "    grid = [\"\"\"  <div class=\"grid\"> \"\"\",\n",
    "                ]\n",
    "    \n",
    "    item_str = \"\"\"    <div class=\"grid-item\"> <div id=\"slide{k}\" class=\"md_view\">Content {k}</div> </div>\"\"\"\n",
    "    for k in range(1, npub + 1):\n",
    "        grid.append(item_str.format(k=k))\n",
    "    grid.append(\"  </div>\")\n",
    "    return '\\n'.join(grid)"
   ]
  },
  {
   "cell_type": "code",
   "execution_count": 13,
   "id": "a6eac5b6",
   "metadata": {
    "execution": {
     "iopub.execute_input": "2025-08-07T04:39:39.360039Z",
     "iopub.status.busy": "2025-08-07T04:39:39.359761Z",
     "iopub.status.idle": "2025-08-07T04:39:39.364864Z",
     "shell.execute_reply": "2025-08-07T04:39:39.364348Z"
    },
    "papermill": {
     "duration": 0.011783,
     "end_time": "2025-08-07T04:39:39.365842",
     "exception": false,
     "start_time": "2025-08-07T04:39:39.354059",
     "status": "completed"
    },
    "scrolled": false,
    "tags": []
   },
   "outputs": [],
   "source": [
    "carousel = create_carousel(npub)\n",
    "docs = ', '.join(['\"{0:s}\"'.format(k.split('/')[-1]) for k in res])\n",
    "slides = ', '.join([f'\"slide{k}\"' for k in range(1, npub + 1)])\n",
    "\n",
    "with open(\"daily_template.html\", \"r\") as tpl:\n",
    "    page = tpl.read()\n",
    "    page = page.replace(\"{%-- carousel:s --%}\", carousel)\\\n",
    "               .replace(\"{%-- suptitle:s --%}\",  \"7-day archives\" )\\\n",
    "               .replace(\"{%-- docs:s --%}\", docs)\\\n",
    "               .replace(\"{%-- slides:s --%}\", slides)\n",
    "    \n",
    "with open(\"_build/html/index_7days.html\", 'w') as fout:\n",
    "    fout.write(page)"
   ]
  },
  {
   "cell_type": "code",
   "execution_count": 14,
   "id": "adc1a1ec",
   "metadata": {
    "execution": {
     "iopub.execute_input": "2025-08-07T04:39:39.377094Z",
     "iopub.status.busy": "2025-08-07T04:39:39.376871Z",
     "iopub.status.idle": "2025-08-07T04:39:39.383145Z",
     "shell.execute_reply": "2025-08-07T04:39:39.382467Z"
    },
    "papermill": {
     "duration": 0.012995,
     "end_time": "2025-08-07T04:39:39.384114",
     "exception": false,
     "start_time": "2025-08-07T04:39:39.371119",
     "status": "completed"
    },
    "tags": []
   },
   "outputs": [
    {
     "name": "stdout",
     "output_type": "stream",
     "text": [
      "5  publications in the last day.\n"
     ]
    }
   ],
   "source": [
    "# redo for today\n",
    "days = 1\n",
    "res = list(get_last_n_days(dates, days))\n",
    "npub = len(res)\n",
    "print(len(res), f\" publications in the last day.\")\n",
    "\n",
    "carousel = create_carousel(npub)\n",
    "docs = ', '.join(['\"{0:s}\"'.format(k.split('/')[-1]) for k in res])\n",
    "slides = ', '.join([f'\"slide{k}\"' for k in range(1, npub + 1)])\n",
    "\n",
    "with open(\"daily_template.html\", \"r\") as tpl:\n",
    "    page = tpl.read()\n",
    "    page = page.replace(\"{%-- carousel:s --%}\", carousel)\\\n",
    "               .replace(\"{%-- suptitle:s --%}\",  \"Daily\" )\\\n",
    "               .replace(\"{%-- docs:s --%}\", docs)\\\n",
    "               .replace(\"{%-- slides:s --%}\", slides)\n",
    "    \n",
    "# print(carousel, docs, slides)\n",
    "# print(page)\n",
    "with open(\"_build/html/index_daily.html\", 'w') as fout:\n",
    "    fout.write(page)"
   ]
  },
  {
   "cell_type": "code",
   "execution_count": 15,
   "id": "00eece82",
   "metadata": {
    "execution": {
     "iopub.execute_input": "2025-08-07T04:39:39.395611Z",
     "iopub.status.busy": "2025-08-07T04:39:39.395402Z",
     "iopub.status.idle": "2025-08-07T04:39:39.401912Z",
     "shell.execute_reply": "2025-08-07T04:39:39.401253Z"
    },
    "papermill": {
     "duration": 0.013459,
     "end_time": "2025-08-07T04:39:39.403047",
     "exception": false,
     "start_time": "2025-08-07T04:39:39.389588",
     "status": "completed"
    },
    "scrolled": false,
    "tags": []
   },
   "outputs": [
    {
     "name": "stdout",
     "output_type": "stream",
     "text": [
      "6  6 publications selected.\n"
     ]
    }
   ],
   "source": [
    "# Create the flat grid of the last N papers (fixed number regardless of dates)\n",
    "from itertools import islice \n",
    "\n",
    "npub = 6\n",
    "res = [k[0] for k in (islice(reversed(sorted(dates, key=lambda x: x[1])), 6))]\n",
    "print(len(res), f\" {npub} publications selected.\")\n",
    "\n",
    "grid = create_grid(npub)\n",
    "docs = ', '.join(['\"{0:s}\"'.format(k.split('/')[-1]) for k in res])\n",
    "slides = ', '.join([f'\"slide{k}\"' for k in range(1, npub + 1)])\n",
    "\n",
    "with open(\"grid_template.html\", \"r\") as tpl:\n",
    "    page = tpl.read()\n",
    "    page = page.replace(\"{%-- grid-content:s --%}\", grid)\\\n",
    "               .replace(\"{%-- suptitle:s --%}\",  f\"Last {npub:,d} papers\" )\\\n",
    "               .replace(\"{%-- docs:s --%}\", docs)\\\n",
    "               .replace(\"{%-- slides:s --%}\", slides)\n",
    "    \n",
    "# print(grid, docs, slides)\n",
    "# print(page)\n",
    "with open(\"_build/html/index_npub_grid.html\", 'w') as fout:\n",
    "    fout.write(page)"
   ]
  }
 ],
 "metadata": {
  "kernelspec": {
   "display_name": "Python 3 (ipykernel)",
   "language": "python",
   "name": "python3"
  },
  "language_info": {
   "codemirror_mode": {
    "name": "ipython",
    "version": 3
   },
   "file_extension": ".py",
   "mimetype": "text/x-python",
   "name": "python",
   "nbconvert_exporter": "python",
   "pygments_lexer": "ipython3",
   "version": "3.9.23"
  },
  "papermill": {
   "default_parameters": {},
   "duration": 164.961356,
   "end_time": "2025-08-07T04:39:39.624511",
   "environment_variables": {},
   "exception": null,
   "input_path": "MPIA daily digest.ipynb",
   "output_path": "log.ipynb",
   "parameters": {},
   "start_time": "2025-08-07T04:36:54.663155",
   "version": "2.6.0"
  },
  "vscode": {
   "interpreter": {
    "hash": "aee8b7b246df8f9039afb4144a1f6fd8d2ca17a180786b69acc140d282b71a49"
   }
  },
  "widgets": {
   "application/vnd.jupyter.widget-state+json": {
    "state": {
     "0942ac9852f040e08eb0b7515ef008b3": {
      "model_module": "@jupyter-widgets/base",
      "model_module_version": "2.0.0",
      "model_name": "LayoutModel",
      "state": {
       "_model_module": "@jupyter-widgets/base",
       "_model_module_version": "2.0.0",
       "_model_name": "LayoutModel",
       "_view_count": null,
       "_view_module": "@jupyter-widgets/base",
       "_view_module_version": "2.0.0",
       "_view_name": "LayoutView",
       "align_content": null,
       "align_items": null,
       "align_self": null,
       "border_bottom": null,
       "border_left": null,
       "border_right": null,
       "border_top": null,
       "bottom": null,
       "display": null,
       "flex": null,
       "flex_flow": null,
       "grid_area": null,
       "grid_auto_columns": null,
       "grid_auto_flow": null,
       "grid_auto_rows": null,
       "grid_column": null,
       "grid_gap": null,
       "grid_row": null,
       "grid_template_areas": null,
       "grid_template_columns": null,
       "grid_template_rows": null,
       "height": null,
       "justify_content": null,
       "justify_items": null,
       "left": null,
       "margin": null,
       "max_height": null,
       "max_width": null,
       "min_height": null,
       "min_width": null,
       "object_fit": null,
       "object_position": null,
       "order": null,
       "overflow": null,
       "padding": null,
       "right": null,
       "top": null,
       "visibility": null,
       "width": null
      }
     },
     "0e45709c61eb40859532bda2db2cedc9": {
      "model_module": "@jupyter-widgets/controls",
      "model_module_version": "2.0.0",
      "model_name": "HBoxModel",
      "state": {
       "_dom_classes": [],
       "_model_module": "@jupyter-widgets/controls",
       "_model_module_version": "2.0.0",
       "_model_name": "HBoxModel",
       "_view_count": null,
       "_view_module": "@jupyter-widgets/controls",
       "_view_module_version": "2.0.0",
       "_view_name": "HBoxView",
       "box_style": "",
       "children": [
        "IPY_MODEL_a4a40917c13e4f26ae7fd8a6431fe832",
        "IPY_MODEL_5c91b543e11541098c9acbc456ae1016",
        "IPY_MODEL_d0fd16d59fd54a98a8a1ee0498e43dc8"
       ],
       "layout": "IPY_MODEL_ee0cd373ff674b72811e991070dc130a",
       "tabbable": null,
       "tooltip": null
      }
     },
     "113b9987a4564ac5bbf35138e9b4d338": {
      "model_module": "@jupyter-widgets/base",
      "model_module_version": "2.0.0",
      "model_name": "LayoutModel",
      "state": {
       "_model_module": "@jupyter-widgets/base",
       "_model_module_version": "2.0.0",
       "_model_name": "LayoutModel",
       "_view_count": null,
       "_view_module": "@jupyter-widgets/base",
       "_view_module_version": "2.0.0",
       "_view_name": "LayoutView",
       "align_content": null,
       "align_items": null,
       "align_self": null,
       "border_bottom": null,
       "border_left": null,
       "border_right": null,
       "border_top": null,
       "bottom": null,
       "display": null,
       "flex": null,
       "flex_flow": null,
       "grid_area": null,
       "grid_auto_columns": null,
       "grid_auto_flow": null,
       "grid_auto_rows": null,
       "grid_column": null,
       "grid_gap": null,
       "grid_row": null,
       "grid_template_areas": null,
       "grid_template_columns": null,
       "grid_template_rows": null,
       "height": null,
       "justify_content": null,
       "justify_items": null,
       "left": null,
       "margin": null,
       "max_height": null,
       "max_width": null,
       "min_height": null,
       "min_width": null,
       "object_fit": null,
       "object_position": null,
       "order": null,
       "overflow": null,
       "padding": null,
       "right": null,
       "top": null,
       "visibility": null,
       "width": null
      }
     },
     "5c91b543e11541098c9acbc456ae1016": {
      "model_module": "@jupyter-widgets/controls",
      "model_module_version": "2.0.0",
      "model_name": "FloatProgressModel",
      "state": {
       "_dom_classes": [],
       "_model_module": "@jupyter-widgets/controls",
       "_model_module_version": "2.0.0",
       "_model_name": "FloatProgressModel",
       "_view_count": null,
       "_view_module": "@jupyter-widgets/controls",
       "_view_module_version": "2.0.0",
       "_view_name": "ProgressView",
       "bar_style": "success",
       "description": "",
       "description_allow_html": false,
       "layout": "IPY_MODEL_0942ac9852f040e08eb0b7515ef008b3",
       "max": 4.0,
       "min": 0.0,
       "orientation": "horizontal",
       "style": "IPY_MODEL_f405732390224992ab8ccd458d15a9ed",
       "tabbable": null,
       "tooltip": null,
       "value": 4.0
      }
     },
     "69f927fc78d847e98de12500fcc08ba6": {
      "model_module": "@jupyter-widgets/base",
      "model_module_version": "2.0.0",
      "model_name": "LayoutModel",
      "state": {
       "_model_module": "@jupyter-widgets/base",
       "_model_module_version": "2.0.0",
       "_model_name": "LayoutModel",
       "_view_count": null,
       "_view_module": "@jupyter-widgets/base",
       "_view_module_version": "2.0.0",
       "_view_name": "LayoutView",
       "align_content": null,
       "align_items": null,
       "align_self": null,
       "border_bottom": null,
       "border_left": null,
       "border_right": null,
       "border_top": null,
       "bottom": null,
       "display": null,
       "flex": null,
       "flex_flow": null,
       "grid_area": null,
       "grid_auto_columns": null,
       "grid_auto_flow": null,
       "grid_auto_rows": null,
       "grid_column": null,
       "grid_gap": null,
       "grid_row": null,
       "grid_template_areas": null,
       "grid_template_columns": null,
       "grid_template_rows": null,
       "height": null,
       "justify_content": null,
       "justify_items": null,
       "left": null,
       "margin": null,
       "max_height": null,
       "max_width": null,
       "min_height": null,
       "min_width": null,
       "object_fit": null,
       "object_position": null,
       "order": null,
       "overflow": null,
       "padding": null,
       "right": null,
       "top": null,
       "visibility": null,
       "width": null
      }
     },
     "86561f69e9f041aa8ec232255e2f6b48": {
      "model_module": "@jupyter-widgets/controls",
      "model_module_version": "2.0.0",
      "model_name": "HTMLStyleModel",
      "state": {
       "_model_module": "@jupyter-widgets/controls",
       "_model_module_version": "2.0.0",
       "_model_name": "HTMLStyleModel",
       "_view_count": null,
       "_view_module": "@jupyter-widgets/base",
       "_view_module_version": "2.0.0",
       "_view_name": "StyleView",
       "background": null,
       "description_width": "",
       "font_size": null,
       "text_color": null
      }
     },
     "a4a40917c13e4f26ae7fd8a6431fe832": {
      "model_module": "@jupyter-widgets/controls",
      "model_module_version": "2.0.0",
      "model_name": "HTMLModel",
      "state": {
       "_dom_classes": [],
       "_model_module": "@jupyter-widgets/controls",
       "_model_module_version": "2.0.0",
       "_model_name": "HTMLModel",
       "_view_count": null,
       "_view_module": "@jupyter-widgets/controls",
       "_view_module_version": "2.0.0",
       "_view_name": "HTMLView",
       "description": "",
       "description_allow_html": false,
       "layout": "IPY_MODEL_113b9987a4564ac5bbf35138e9b4d338",
       "placeholder": "​",
       "style": "IPY_MODEL_86561f69e9f041aa8ec232255e2f6b48",
       "tabbable": null,
       "tooltip": null,
       "value": "100%"
      }
     },
     "b510a79ac19744149ba0ebb17ca721d5": {
      "model_module": "@jupyter-widgets/controls",
      "model_module_version": "2.0.0",
      "model_name": "HTMLStyleModel",
      "state": {
       "_model_module": "@jupyter-widgets/controls",
       "_model_module_version": "2.0.0",
       "_model_name": "HTMLStyleModel",
       "_view_count": null,
       "_view_module": "@jupyter-widgets/base",
       "_view_module_version": "2.0.0",
       "_view_name": "StyleView",
       "background": null,
       "description_width": "",
       "font_size": null,
       "text_color": null
      }
     },
     "d0fd16d59fd54a98a8a1ee0498e43dc8": {
      "model_module": "@jupyter-widgets/controls",
      "model_module_version": "2.0.0",
      "model_name": "HTMLModel",
      "state": {
       "_dom_classes": [],
       "_model_module": "@jupyter-widgets/controls",
       "_model_module_version": "2.0.0",
       "_model_name": "HTMLModel",
       "_view_count": null,
       "_view_module": "@jupyter-widgets/controls",
       "_view_module_version": "2.0.0",
       "_view_name": "HTMLView",
       "description": "",
       "description_allow_html": false,
       "layout": "IPY_MODEL_69f927fc78d847e98de12500fcc08ba6",
       "placeholder": "​",
       "style": "IPY_MODEL_b510a79ac19744149ba0ebb17ca721d5",
       "tabbable": null,
       "tooltip": null,
       "value": " 4/4 [02:18&lt;00:00, 23.48s/it]"
      }
     },
     "ee0cd373ff674b72811e991070dc130a": {
      "model_module": "@jupyter-widgets/base",
      "model_module_version": "2.0.0",
      "model_name": "LayoutModel",
      "state": {
       "_model_module": "@jupyter-widgets/base",
       "_model_module_version": "2.0.0",
       "_model_name": "LayoutModel",
       "_view_count": null,
       "_view_module": "@jupyter-widgets/base",
       "_view_module_version": "2.0.0",
       "_view_name": "LayoutView",
       "align_content": null,
       "align_items": null,
       "align_self": null,
       "border_bottom": null,
       "border_left": null,
       "border_right": null,
       "border_top": null,
       "bottom": null,
       "display": null,
       "flex": null,
       "flex_flow": null,
       "grid_area": null,
       "grid_auto_columns": null,
       "grid_auto_flow": null,
       "grid_auto_rows": null,
       "grid_column": null,
       "grid_gap": null,
       "grid_row": null,
       "grid_template_areas": null,
       "grid_template_columns": null,
       "grid_template_rows": null,
       "height": null,
       "justify_content": null,
       "justify_items": null,
       "left": null,
       "margin": null,
       "max_height": null,
       "max_width": null,
       "min_height": null,
       "min_width": null,
       "object_fit": null,
       "object_position": null,
       "order": null,
       "overflow": null,
       "padding": null,
       "right": null,
       "top": null,
       "visibility": null,
       "width": null
      }
     },
     "f405732390224992ab8ccd458d15a9ed": {
      "model_module": "@jupyter-widgets/controls",
      "model_module_version": "2.0.0",
      "model_name": "ProgressStyleModel",
      "state": {
       "_model_module": "@jupyter-widgets/controls",
       "_model_module_version": "2.0.0",
       "_model_name": "ProgressStyleModel",
       "_view_count": null,
       "_view_module": "@jupyter-widgets/base",
       "_view_module_version": "2.0.0",
       "_view_name": "StyleView",
       "bar_color": null,
       "description_width": ""
      }
     }
    },
    "version_major": 2,
    "version_minor": 0
   }
  }
 },
 "nbformat": 4,
 "nbformat_minor": 5
}