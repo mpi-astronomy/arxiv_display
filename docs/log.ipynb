{
 "cells": [
  {
   "cell_type": "markdown",
   "id": "92bcb855",
   "metadata": {
    "papermill": {
     "duration": 0.006057,
     "end_time": "2022-09-14T05:15:47.389827",
     "exception": false,
     "start_time": "2022-09-14T05:15:47.383770",
     "status": "completed"
    },
    "tags": []
   },
   "source": [
    "# MPIA Arxiv on Deck 2\n",
    "\n",
    "Contains the steps to produce the paper extractions."
   ]
  },
  {
   "cell_type": "code",
   "execution_count": 1,
   "id": "3a0d6e11",
   "metadata": {
    "execution": {
     "iopub.execute_input": "2022-09-14T05:15:47.402533Z",
     "iopub.status.busy": "2022-09-14T05:15:47.401758Z",
     "iopub.status.idle": "2022-09-14T05:15:47.623552Z",
     "shell.execute_reply": "2022-09-14T05:15:47.622668Z"
    },
    "papermill": {
     "duration": 0.231312,
     "end_time": "2022-09-14T05:15:47.626083",
     "exception": false,
     "start_time": "2022-09-14T05:15:47.394771",
     "status": "completed"
    },
    "tags": []
   },
   "outputs": [],
   "source": [
    "# Imports\n",
    "import os\n",
    "from IPython.display import Markdown, display\n",
    "from tqdm.notebook import tqdm\n",
    "import warnings\n",
    "from PIL import Image \n",
    "\n",
    "# requires arxiv_on_deck_2\n",
    "\n",
    "from arxiv_on_deck_2.arxiv2 import (get_new_papers, \n",
    "                                    get_paper_from_identifier,\n",
    "                                    retrieve_document_source, \n",
    "                                    get_markdown_badge)\n",
    "from arxiv_on_deck_2 import (latex, \n",
    "                             mpia,\n",
    "                             highlight_authors_in_list)\n",
    "\n",
    "# Sometimes images are really big\n",
    "Image.MAX_IMAGE_PIXELS = 1000000000 "
   ]
  },
  {
   "cell_type": "code",
   "execution_count": 2,
   "id": "22aa9d44",
   "metadata": {
    "execution": {
     "iopub.execute_input": "2022-09-14T05:15:47.638087Z",
     "iopub.status.busy": "2022-09-14T05:15:47.637815Z",
     "iopub.status.idle": "2022-09-14T05:15:47.644584Z",
     "shell.execute_reply": "2022-09-14T05:15:47.643800Z"
    },
    "papermill": {
     "duration": 0.01521,
     "end_time": "2022-09-14T05:15:47.646872",
     "exception": false,
     "start_time": "2022-09-14T05:15:47.631662",
     "status": "completed"
    },
    "tags": []
   },
   "outputs": [],
   "source": [
    "# Some useful definitions.\n",
    "\n",
    "class AffiliationWarning(UserWarning):\n",
    "    pass\n",
    "\n",
    "class AffiliationError(RuntimeError):\n",
    "    pass\n",
    "\n",
    "def validation(source: str):\n",
    "    \"\"\"Raises error paper during parsing of source file\n",
    "    \n",
    "    Allows checks before parsing TeX code.\n",
    "    \n",
    "    Raises AffiliationWarning\n",
    "    \"\"\"\n",
    "    check = mpia.affiliation_verifications(source, verbose=True)\n",
    "    if check is not True:\n",
    "        raise AffiliationError(\"mpia.affiliation_verifications: \" + check)\n",
    "\n",
    "        \n",
    "warnings.simplefilter('always', AffiliationWarning)"
   ]
  },
  {
   "cell_type": "code",
   "execution_count": 3,
   "id": "14622700",
   "metadata": {
    "execution": {
     "iopub.execute_input": "2022-09-14T05:15:47.657661Z",
     "iopub.status.busy": "2022-09-14T05:15:47.657401Z",
     "iopub.status.idle": "2022-09-14T05:15:47.662856Z",
     "shell.execute_reply": "2022-09-14T05:15:47.662069Z"
    },
    "papermill": {
     "duration": 0.014018,
     "end_time": "2022-09-14T05:15:47.665517",
     "exception": false,
     "start_time": "2022-09-14T05:15:47.651499",
     "status": "completed"
    },
    "tags": []
   },
   "outputs": [],
   "source": [
    "# additional CSS to consider. \n",
    "# TODO: Current into each exported file. \n",
    "#       This should be set once into the webpages directly.\n",
    "#       With only the class/id definitions in the .md files.\n",
    "\n",
    "debug_html = \"\"\"\n",
    "<style>\n",
    "#wrap{ overflow:auto; }\n",
    "#fig1{ background:yellow; width:100%; float:left; padding:5px;  }\n",
    "#fig2{ background:red; width:50%; float:left; clear:left; padding:5px;  }\n",
    "#fig3{ background:green; width:50%; float:left; padding:5px;   }\n",
    ".macros{ background:yellow; visibility:visible;}\n",
    "h1 {margin: 0 0 0 0;}\n",
    "mark {background-color:#fff3b6;}\n",
    "img {object-fit:contain; max-height:250px; display:inline-block; text-align: center;}\n",
    "</style>\n",
    "\"\"\" \n",
    "html = \"\"\"\n",
    "<style>\n",
    "#wrap{ overflow:auto; }\n",
    "#fig1{ width:100%; float:left; padding: 5px;  }\n",
    "#fig2{ width:50%; float:left; clear:left; padding: 5px;  }\n",
    "#fig3{ width:50%; float:left; padding: 5px;  }\n",
    ".macros{ visibility:hidden; height:0px; }\n",
    "h1 {margin: 0em 0 0 0;}\n",
    "mark {background-color:#fff3b6;}\n",
    "img {object-fit:contain; max-height:250px; display:inline-block; text-align: center;}\n",
    "</style>\n",
    "\"\"\""
   ]
  },
  {
   "cell_type": "markdown",
   "id": "14bd6310",
   "metadata": {
    "papermill": {
     "duration": 0.004621,
     "end_time": "2022-09-14T05:15:47.674734",
     "exception": false,
     "start_time": "2022-09-14T05:15:47.670113",
     "status": "completed"
    },
    "tags": []
   },
   "source": [
    "## get list of arxiv paper candidates\n",
    "\n",
    "We use the MPIA mitarbeiter list webpage from mpia.de to get author names\n",
    "We then get all new papers from Arxiv and match authors"
   ]
  },
  {
   "cell_type": "code",
   "execution_count": 4,
   "id": "2645e73a",
   "metadata": {
    "execution": {
     "iopub.execute_input": "2022-09-14T05:15:47.686057Z",
     "iopub.status.busy": "2022-09-14T05:15:47.685794Z",
     "iopub.status.idle": "2022-09-14T05:16:15.309167Z",
     "shell.execute_reply": "2022-09-14T05:16:15.308264Z"
    },
    "papermill": {
     "duration": 27.63195,
     "end_time": "2022-09-14T05:16:15.311416",
     "exception": false,
     "start_time": "2022-09-14T05:15:47.679466",
     "status": "completed"
    },
    "tags": []
   },
   "outputs": [
    {
     "name": "stdout",
     "output_type": "stream",
     "text": [
      "Arxiv has 80 new papers today\n",
      "          21 with possible author matches\n"
     ]
    }
   ],
   "source": [
    "# get list from MPIA website\n",
    "# it automatically filters identified non-scientists :func:`mpia.filter_non_scientists`\n",
    "mpia_authors = mpia.get_mpia_mitarbeiter_list()\n",
    "new_papers = get_new_papers()\n",
    "# add manual references\n",
    "add_paper_refs = []\n",
    "new_papers.extend([get_paper_from_identifier(k) for k in add_paper_refs])\n",
    "\n",
    "# select only papers with matching author names and highlight authors\n",
    "hl_list = [k[0] for k in mpia_authors]\n",
    "\n",
    "candidates = []\n",
    "for paperk in new_papers:\n",
    "    hl_authors = highlight_authors_in_list(paperk['authors'], hl_list)\n",
    "    matches = [(hl, orig) for hl, orig in zip(hl_authors, paperk['authors']) if 'mark' in hl]\n",
    "    paperk['authors'] = hl_authors\n",
    "    if matches:\n",
    "        candidates.append(paperk)\n",
    "print(\"\"\"Arxiv has {0:,d} new papers today\"\"\".format(len(new_papers)))        \n",
    "print(\"\"\"          {0:,d} with possible author matches\"\"\".format(len(candidates)))"
   ]
  },
  {
   "cell_type": "markdown",
   "id": "3543b34a",
   "metadata": {
    "papermill": {
     "duration": 0.005096,
     "end_time": "2022-09-14T05:16:15.324205",
     "exception": false,
     "start_time": "2022-09-14T05:16:15.319109",
     "status": "completed"
    },
    "tags": []
   },
   "source": [
    "# Parse sources and generate relevant outputs\n",
    "\n",
    "From the candidates, we do the following steps:\n",
    "* get their tarball from ArXiv (and extract data)\n",
    "* find the main .tex file: find one with \\documentclass{...} (sometimes it's non trivial)\n",
    "* Check affiliations with :func:`validation`, which uses :func:`mpia.affiliation_verifications`\n",
    "* If passing the affiliations: we parse the .tex source\n",
    "   * inject sub-documents into the main (flatten the main document)\n",
    "   * parse structure, extract information (title, abstract, authors, figures...)\n",
    "   * handles `\\graphicspath` if provided\n",
    "* Generate the .md document."
   ]
  },
  {
   "cell_type": "code",
   "execution_count": 5,
   "id": "9576b79e",
   "metadata": {
    "execution": {
     "iopub.execute_input": "2022-09-14T05:16:15.335666Z",
     "iopub.status.busy": "2022-09-14T05:16:15.334983Z",
     "iopub.status.idle": "2022-09-14T05:19:14.210631Z",
     "shell.execute_reply": "2022-09-14T05:19:14.209639Z"
    },
    "papermill": {
     "duration": 178.884423,
     "end_time": "2022-09-14T05:19:14.213383",
     "exception": false,
     "start_time": "2022-09-14T05:16:15.328960",
     "status": "completed"
    },
    "scrolled": false,
    "tags": []
   },
   "outputs": [
    {
     "data": {
      "application/vnd.jupyter.widget-view+json": {
       "model_id": "937569a3fc9c49bc80e86826c3df9fd9",
       "version_major": 2,
       "version_minor": 0
      },
      "text/plain": [
       "  0%|          | 0/20 [00:00<?, ?it/s]"
      ]
     },
     "metadata": {},
     "output_type": "display_data"
    },
    {
     "name": "stdout",
     "output_type": "stream",
     "text": [
      "Retrieving document from  https://arxiv.org/e-print/2209.05492\n"
     ]
    },
    {
     "name": "stdout",
     "output_type": "stream",
     "text": [
      "extracting tarball to tmp_2209.05492..."
     ]
    },
    {
     "name": "stdout",
     "output_type": "stream",
     "text": [
      " done.\n",
      "Retrieving document from  https://arxiv.org/e-print/2209.05500\n"
     ]
    },
    {
     "name": "stderr",
     "output_type": "stream",
     "text": [
      "/opt/hostedtoolcache/Python/3.9.13/x64/lib/python3.9/site-packages/IPython/core/interactiveshell.py:3378: LatexWarning: Multiple tex files.\n",
      "\n",
      "  exec(code_obj, self.user_global_ns, self.user_ns)\n",
      "/opt/hostedtoolcache/Python/3.9.13/x64/lib/python3.9/site-packages/IPython/core/interactiveshell.py:3378: LatexWarning: Found documentclass in tmp_2209.05492/ksdwarfs.tex\n",
      "\n",
      "  exec(code_obj, self.user_global_ns, self.user_ns)\n",
      "/opt/hostedtoolcache/Python/3.9.13/x64/lib/python3.9/site-packages/arxiv_on_deck_2/latex.py:292: LatexWarning: Latex injecting: 'definitions' from 'tmp_2209.05492/definitions.tex'\n",
      "  warnings.warn(LatexWarning(f\"Latex injecting: '{ext}' from '{subsource}'\"))\n"
     ]
    },
    {
     "name": "stdout",
     "output_type": "stream",
     "text": [
      "extracting tarball to tmp_2209.05500..."
     ]
    },
    {
     "name": "stdout",
     "output_type": "stream",
     "text": [
      " done.\n",
      "Retrieving document from  https://arxiv.org/e-print/2209.05519\n"
     ]
    },
    {
     "name": "stderr",
     "output_type": "stream",
     "text": [
      "/opt/hostedtoolcache/Python/3.9.13/x64/lib/python3.9/site-packages/IPython/core/interactiveshell.py:3378: LatexWarning: Multiple tex files.\n",
      "\n",
      "  exec(code_obj, self.user_global_ns, self.user_ns)\n",
      "/opt/hostedtoolcache/Python/3.9.13/x64/lib/python3.9/site-packages/IPython/core/interactiveshell.py:3378: LatexWarning: Found documentclass in tmp_2209.05500/ksdwarfs.tex\n",
      "\n",
      "  exec(code_obj, self.user_global_ns, self.user_ns)\n",
      "/opt/hostedtoolcache/Python/3.9.13/x64/lib/python3.9/site-packages/arxiv_on_deck_2/latex.py:292: LatexWarning: Latex injecting: 'definitions' from 'tmp_2209.05500/definitions.tex'\n",
      "  warnings.warn(LatexWarning(f\"Latex injecting: '{ext}' from '{subsource}'\"))\n"
     ]
    },
    {
     "name": "stdout",
     "output_type": "stream",
     "text": [
      "extracting tarball to tmp_2209.05519..."
     ]
    },
    {
     "name": "stdout",
     "output_type": "stream",
     "text": [
      " done.\n",
      "Retrieving document from  https://arxiv.org/e-print/2209.05535\n"
     ]
    },
    {
     "name": "stderr",
     "output_type": "stream",
     "text": [
      "/opt/hostedtoolcache/Python/3.9.13/x64/lib/python3.9/site-packages/IPython/core/interactiveshell.py:3378: LatexWarning: Multiple tex files.\n",
      "\n",
      "  exec(code_obj, self.user_global_ns, self.user_ns)\n",
      "/opt/hostedtoolcache/Python/3.9.13/x64/lib/python3.9/site-packages/IPython/core/interactiveshell.py:3378: LatexWarning: Found documentclass in tmp_2209.05519/main_DES_ICL_arxiv.tex\n",
      "\n",
      "  exec(code_obj, self.user_global_ns, self.user_ns)\n",
      "/opt/hostedtoolcache/Python/3.9.13/x64/lib/python3.9/site-packages/arxiv_on_deck_2/latex.py:292: LatexWarning: Latex injecting: 'DES_ICL_authors' from 'tmp_2209.05519/DES_ICL_authors.tex'\n",
      "  warnings.warn(LatexWarning(f\"Latex injecting: '{ext}' from '{subsource}'\"))\n"
     ]
    },
    {
     "name": "stdout",
     "output_type": "stream",
     "text": [
      "extracting tarball to tmp_2209.05535..."
     ]
    },
    {
     "name": "stdout",
     "output_type": "stream",
     "text": [
      " done.\n",
      "Retrieving document from  https://arxiv.org/e-print/2209.05541\n"
     ]
    },
    {
     "name": "stderr",
     "output_type": "stream",
     "text": [
      "/opt/hostedtoolcache/Python/3.9.13/x64/lib/python3.9/site-packages/IPython/core/interactiveshell.py:3378: LatexWarning: Multiple tex files.\n",
      "\n",
      "  exec(code_obj, self.user_global_ns, self.user_ns)\n",
      "/opt/hostedtoolcache/Python/3.9.13/x64/lib/python3.9/site-packages/IPython/core/interactiveshell.py:3378: LatexWarning: Found documentclass in tmp_2209.05535/ms.tex\n",
      "\n",
      "  exec(code_obj, self.user_global_ns, self.user_ns)\n"
     ]
    },
    {
     "name": "stdout",
     "output_type": "stream",
     "text": [
      "extracting tarball to tmp_2209.05541..."
     ]
    },
    {
     "name": "stdout",
     "output_type": "stream",
     "text": [
      " done.\n",
      "Retrieving document from  https://arxiv.org/e-print/2209.05593\n"
     ]
    },
    {
     "name": "stdout",
     "output_type": "stream",
     "text": [
      "extracting tarball to tmp_2209.05593..."
     ]
    },
    {
     "name": "stdout",
     "output_type": "stream",
     "text": [
      " done.\n"
     ]
    },
    {
     "name": "stdout",
     "output_type": "stream",
     "text": [
      "Retrieving document from  https://arxiv.org/e-print/2209.05594\n"
     ]
    },
    {
     "name": "stdout",
     "output_type": "stream",
     "text": [
      "extracting tarball to tmp_2209.05594..."
     ]
    },
    {
     "name": "stdout",
     "output_type": "stream",
     "text": [
      " done.\n",
      "Retrieving document from  https://arxiv.org/e-print/2209.05605\n"
     ]
    },
    {
     "name": "stderr",
     "output_type": "stream",
     "text": [
      "/opt/hostedtoolcache/Python/3.9.13/x64/lib/python3.9/site-packages/arxiv_on_deck_2/latex.py:292: LatexWarning: Latex injecting: 'main.bbl' from 'tmp_2209.05594/main.tex'\n",
      "  warnings.warn(LatexWarning(f\"Latex injecting: '{ext}' from '{subsource}'\"))\n"
     ]
    },
    {
     "name": "stdout",
     "output_type": "stream",
     "text": [
      "extracting tarball to tmp_2209.05605..."
     ]
    },
    {
     "name": "stdout",
     "output_type": "stream",
     "text": [
      " done.\n",
      "Retrieving document from  https://arxiv.org/e-print/2209.05743\n"
     ]
    },
    {
     "name": "stdout",
     "output_type": "stream",
     "text": [
      "extracting tarball to tmp_2209.05743..."
     ]
    },
    {
     "name": "stdout",
     "output_type": "stream",
     "text": [
      " done.\n",
      "Retrieving document from  https://arxiv.org/e-print/2209.05760\n"
     ]
    },
    {
     "name": "stdout",
     "output_type": "stream",
     "text": [
      "extracting tarball to tmp_2209.05760..."
     ]
    },
    {
     "name": "stdout",
     "output_type": "stream",
     "text": [
      " done.\n",
      "Retrieving document from  https://arxiv.org/e-print/2209.05766\n"
     ]
    },
    {
     "name": "stdout",
     "output_type": "stream",
     "text": [
      "extracting tarball to tmp_2209.05766..."
     ]
    },
    {
     "name": "stdout",
     "output_type": "stream",
     "text": [
      " done.\n",
      "Retrieving document from  https://arxiv.org/e-print/2209.05814\n"
     ]
    },
    {
     "name": "stdout",
     "output_type": "stream",
     "text": [
      "extracting tarball to tmp_2209.05814..."
     ]
    },
    {
     "name": "stdout",
     "output_type": "stream",
     "text": [
      " done.\n"
     ]
    },
    {
     "name": "stdout",
     "output_type": "stream",
     "text": [
      "Retrieving document from  https://arxiv.org/e-print/2209.05853\n"
     ]
    },
    {
     "name": "stdout",
     "output_type": "stream",
     "text": [
      "extracting tarball to tmp_2209.05853..."
     ]
    },
    {
     "name": "stdout",
     "output_type": "stream",
     "text": [
      " done.\n",
      "Retrieving document from  https://arxiv.org/e-print/2209.05886\n"
     ]
    },
    {
     "name": "stderr",
     "output_type": "stream",
     "text": [
      "/opt/hostedtoolcache/Python/3.9.13/x64/lib/python3.9/site-packages/IPython/core/interactiveshell.py:3378: LatexWarning: Multiple tex files.\n",
      "\n",
      "  exec(code_obj, self.user_global_ns, self.user_ns)\n",
      "/opt/hostedtoolcache/Python/3.9.13/x64/lib/python3.9/site-packages/IPython/core/interactiveshell.py:3378: LatexWarning: Found documentclass in tmp_2209.05853/main.tex\n",
      "\n",
      "  exec(code_obj, self.user_global_ns, self.user_ns)\n",
      "/opt/hostedtoolcache/Python/3.9.13/x64/lib/python3.9/site-packages/arxiv_on_deck_2/latex.py:292: LatexWarning: Latex injecting: 'authorlist.tex' from 'tmp_2209.05853/authorlist.tex'\n",
      "  warnings.warn(LatexWarning(f\"Latex injecting: '{ext}' from '{subsource}'\"))\n",
      "/opt/hostedtoolcache/Python/3.9.13/x64/lib/python3.9/site-packages/arxiv_on_deck_2/latex.py:292: LatexWarning: Latex injecting: 'aff.tex' from 'tmp_2209.05853/aff.tex'\n",
      "  warnings.warn(LatexWarning(f\"Latex injecting: '{ext}' from '{subsource}'\"))\n",
      "/opt/hostedtoolcache/Python/3.9.13/x64/lib/python3.9/site-packages/arxiv_on_deck_2/latex.py:292: LatexWarning: Latex injecting: 'Appendix_validation' from 'tmp_2209.05853/Appendix_validation.tex'\n",
      "  warnings.warn(LatexWarning(f\"Latex injecting: '{ext}' from '{subsource}'\"))\n",
      "/opt/hostedtoolcache/Python/3.9.13/x64/lib/python3.9/site-packages/arxiv_on_deck_2/latex.py:292: LatexWarning: Latex injecting: 'conclusions' from 'tmp_2209.05853/conclusions.tex'\n",
      "  warnings.warn(LatexWarning(f\"Latex injecting: '{ext}' from '{subsource}'\"))\n",
      "/opt/hostedtoolcache/Python/3.9.13/x64/lib/python3.9/site-packages/arxiv_on_deck_2/latex.py:292: LatexWarning: Latex injecting: 'results' from 'tmp_2209.05853/results.tex'\n",
      "  warnings.warn(LatexWarning(f\"Latex injecting: '{ext}' from '{subsource}'\"))\n",
      "/opt/hostedtoolcache/Python/3.9.13/x64/lib/python3.9/site-packages/arxiv_on_deck_2/latex.py:292: LatexWarning: Latex injecting: 'uncertainty' from 'tmp_2209.05853/uncertainty.tex'\n",
      "  warnings.warn(LatexWarning(f\"Latex injecting: '{ext}' from '{subsource}'\"))\n",
      "/opt/hostedtoolcache/Python/3.9.13/x64/lib/python3.9/site-packages/arxiv_on_deck_2/latex.py:292: LatexWarning: Latex injecting: 'methodology' from 'tmp_2209.05853/methodology.tex'\n",
      "  warnings.warn(LatexWarning(f\"Latex injecting: '{ext}' from '{subsource}'\"))\n",
      "/opt/hostedtoolcache/Python/3.9.13/x64/lib/python3.9/site-packages/arxiv_on_deck_2/latex.py:292: LatexWarning: Latex injecting: 'data' from 'tmp_2209.05853/data.tex'\n",
      "  warnings.warn(LatexWarning(f\"Latex injecting: '{ext}' from '{subsource}'\"))\n",
      "/opt/hostedtoolcache/Python/3.9.13/x64/lib/python3.9/site-packages/arxiv_on_deck_2/latex.py:292: LatexWarning: Latex injecting: 'introduction' from 'tmp_2209.05853/introduction.tex'\n",
      "  warnings.warn(LatexWarning(f\"Latex injecting: '{ext}' from '{subsource}'\"))\n"
     ]
    },
    {
     "name": "stdout",
     "output_type": "stream",
     "text": [
      "extracting tarball to tmp_2209.05886..."
     ]
    },
    {
     "name": "stdout",
     "output_type": "stream",
     "text": [
      " done.\n",
      "Retrieving document from  https://arxiv.org/e-print/2209.05910\n"
     ]
    },
    {
     "name": "stdout",
     "output_type": "stream",
     "text": [
      "extracting tarball to tmp_2209.05910..."
     ]
    },
    {
     "name": "stdout",
     "output_type": "stream",
     "text": [
      " done.\n"
     ]
    },
    {
     "name": "stderr",
     "output_type": "stream",
     "text": [
      "/opt/hostedtoolcache/Python/3.9.13/x64/lib/python3.9/site-packages/arxiv_on_deck_2/latex.py:118: LatexWarning: attempting recovering figure figs/HD806-orbit.pdf\n",
      "  warnings.warn(LatexWarning(f'attempting recovering figure {image}'))\n",
      "/tmp/ipykernel_2194/4030337529.py:34: LatexWarning: 2209.05910 did not run properly\n",
      "Could not find figure figs/HD806-orbit.pdf\n",
      "  warnings.warn(latex.LatexWarning(f\"{paper_id:s} did not run properly\\n\" +\n"
     ]
    },
    {
     "name": "stdout",
     "output_type": "stream",
     "text": [
      "Retrieving document from  https://arxiv.org/e-print/2209.05926\n"
     ]
    },
    {
     "name": "stdout",
     "output_type": "stream",
     "text": [
      "extracting tarball to tmp_2209.05926..."
     ]
    },
    {
     "name": "stdout",
     "output_type": "stream",
     "text": [
      " done.\n",
      "Retrieving document from  https://arxiv.org/e-print/2209.05930\n"
     ]
    },
    {
     "name": "stderr",
     "output_type": "stream",
     "text": [
      "/opt/hostedtoolcache/Python/3.9.13/x64/lib/python3.9/site-packages/IPython/core/interactiveshell.py:3378: LatexWarning: Multiple tex files.\n",
      "\n",
      "  exec(code_obj, self.user_global_ns, self.user_ns)\n",
      "/opt/hostedtoolcache/Python/3.9.13/x64/lib/python3.9/site-packages/IPython/core/interactiveshell.py:3378: LatexWarning: Found documentclass in tmp_2209.05926/main.tex\n",
      "\n",
      "  exec(code_obj, self.user_global_ns, self.user_ns)\n",
      "/opt/hostedtoolcache/Python/3.9.13/x64/lib/python3.9/site-packages/arxiv_on_deck_2/latex.py:292: LatexWarning: Latex injecting: 'acknowledgments_Aug22' from 'tmp_2209.05926/acknowledgments_Aug22.tex'\n",
      "  warnings.warn(LatexWarning(f\"Latex injecting: '{ext}' from '{subsource}'\"))\n",
      "/opt/hostedtoolcache/Python/3.9.13/x64/lib/python3.9/site-packages/arxiv_on_deck_2/latex.py:292: LatexWarning: Latex injecting: 'Conclusions' from 'tmp_2209.05926/Conclusions.tex'\n",
      "  warnings.warn(LatexWarning(f\"Latex injecting: '{ext}' from '{subsource}'\"))\n",
      "/opt/hostedtoolcache/Python/3.9.13/x64/lib/python3.9/site-packages/arxiv_on_deck_2/latex.py:292: LatexWarning: Latex injecting: 'Results' from 'tmp_2209.05926/Results.tex'\n",
      "  warnings.warn(LatexWarning(f\"Latex injecting: '{ext}' from '{subsource}'\"))\n",
      "/opt/hostedtoolcache/Python/3.9.13/x64/lib/python3.9/site-packages/arxiv_on_deck_2/latex.py:292: LatexWarning: Latex injecting: 'Analysis' from 'tmp_2209.05926/Analysis.tex'\n",
      "  warnings.warn(LatexWarning(f\"Latex injecting: '{ext}' from '{subsource}'\"))\n",
      "/opt/hostedtoolcache/Python/3.9.13/x64/lib/python3.9/site-packages/arxiv_on_deck_2/latex.py:292: LatexWarning: Latex injecting: 'Observables' from 'tmp_2209.05926/Observables.tex'\n",
      "  warnings.warn(LatexWarning(f\"Latex injecting: '{ext}' from '{subsource}'\"))\n",
      "/opt/hostedtoolcache/Python/3.9.13/x64/lib/python3.9/site-packages/arxiv_on_deck_2/latex.py:292: LatexWarning: Latex injecting: 'PierreAugerObservatory' from 'tmp_2209.05926/PierreAugerObservatory.tex'\n",
      "  warnings.warn(LatexWarning(f\"Latex injecting: '{ext}' from '{subsource}'\"))\n",
      "/opt/hostedtoolcache/Python/3.9.13/x64/lib/python3.9/site-packages/arxiv_on_deck_2/latex.py:292: LatexWarning: Latex injecting: 'Introduction' from 'tmp_2209.05926/Introduction.tex'\n",
      "  warnings.warn(LatexWarning(f\"Latex injecting: '{ext}' from '{subsource}'\"))\n",
      "/opt/hostedtoolcache/Python/3.9.13/x64/lib/python3.9/site-packages/arxiv_on_deck_2/latex.py:292: LatexWarning: Latex injecting: 'jcappub_authorlist_Aug22' from 'tmp_2209.05926/jcappub_authorlist_Aug22.tex'\n",
      "  warnings.warn(LatexWarning(f\"Latex injecting: '{ext}' from '{subsource}'\"))\n"
     ]
    },
    {
     "name": "stdout",
     "output_type": "stream",
     "text": [
      "extracting tarball to tmp_2209.05930..."
     ]
    },
    {
     "name": "stdout",
     "output_type": "stream",
     "text": [
      " done.\n",
      "Retrieving document from  https://arxiv.org/e-print/2209.05941\n"
     ]
    },
    {
     "name": "stdout",
     "output_type": "stream",
     "text": [
      "extracting tarball to tmp_2209.05941..."
     ]
    },
    {
     "name": "stdout",
     "output_type": "stream",
     "text": [
      " done.\n",
      "Retrieving document from  https://arxiv.org/e-print/2209.06022\n"
     ]
    },
    {
     "name": "stderr",
     "output_type": "stream",
     "text": [
      "/opt/hostedtoolcache/Python/3.9.13/x64/lib/python3.9/site-packages/IPython/core/interactiveshell.py:3378: LatexWarning: Multiple tex files.\n",
      "\n",
      "  exec(code_obj, self.user_global_ns, self.user_ns)\n",
      "/opt/hostedtoolcache/Python/3.9.13/x64/lib/python3.9/site-packages/IPython/core/interactiveshell.py:3378: LatexWarning: Found documentclass in tmp_2209.05941/msarxiv.tex\n",
      "\n",
      "  exec(code_obj, self.user_global_ns, self.user_ns)\n"
     ]
    },
    {
     "name": "stdout",
     "output_type": "stream",
     "text": [
      "extracting tarball to tmp_2209.06022..."
     ]
    },
    {
     "name": "stdout",
     "output_type": "stream",
     "text": [
      " done.\n",
      "Retrieving document from  https://arxiv.org/e-print/2209.06043\n"
     ]
    },
    {
     "name": "stdout",
     "output_type": "stream",
     "text": [
      "extracting tarball to tmp_2209.06043... done.\n"
     ]
    }
   ],
   "source": [
    "documents = []\n",
    "failed = []\n",
    "for paper in tqdm(candidates[:-1]):\n",
    "    paper_id = paper['identifier'].lower().replace('arxiv:', '')\n",
    "    \n",
    "    folder = f'tmp_{paper_id}'\n",
    "\n",
    "    try:\n",
    "        if not os.path.isdir(folder):\n",
    "            folder = retrieve_document_source(f\"{paper_id}\", f'tmp_{paper_id}')\n",
    "        \n",
    "        try:\n",
    "            doc = latex.LatexDocument(folder, validation=validation)    \n",
    "        except AffiliationError as affilerror:\n",
    "            msg = f\"ArXiv:{paper_id:s} is not an MPIA paper... \" + str(affilerror)\n",
    "            failed.append((paper, \"affiliation error: \" + str(affilerror) ))\n",
    "            continue\n",
    "        \n",
    "        # Hack because sometimes author parsing does not work well\n",
    "        if (len(doc.authors) != len(paper['authors'])):\n",
    "            doc._authors = paper['authors']\n",
    "        if (doc.abstract) in (None, ''):\n",
    "            doc._abstract = paper['abstract']\n",
    "            \n",
    "        doc.comment = (get_markdown_badge(paper_id) + \n",
    "                       \"<mark>Appeared on: \" + paper['date'] + \"</mark> - \" +\n",
    "                       \"_\" + paper['comments'] + \"_\")\n",
    "        doc.highlight_authors_in_list(hl_list)\n",
    "\n",
    "        full_md = doc.generate_markdown_text()\n",
    "        \n",
    "        documents.append((paper_id, full_md))\n",
    "    except Exception as e:\n",
    "        warnings.warn(latex.LatexWarning(f\"{paper_id:s} did not run properly\\n\" +\n",
    "                                         str(e)\n",
    "                                        ))\n",
    "        failed.append((paper, \"latex error \" + str(e)))"
   ]
  },
  {
   "cell_type": "markdown",
   "id": "2505a25c",
   "metadata": {
    "papermill": {
     "duration": 0.007839,
     "end_time": "2022-09-14T05:19:14.229800",
     "exception": false,
     "start_time": "2022-09-14T05:19:14.221961",
     "status": "completed"
    },
    "tags": []
   },
   "source": [
    "### Export the logs\n",
    "\n",
    "Throughout, we also keep track of the logs per paper. see `logs-{today date}.md` "
   ]
  },
  {
   "cell_type": "code",
   "execution_count": 6,
   "id": "d733828a",
   "metadata": {
    "execution": {
     "iopub.execute_input": "2022-09-14T05:19:14.250849Z",
     "iopub.status.busy": "2022-09-14T05:19:14.249902Z",
     "iopub.status.idle": "2022-09-14T05:19:14.292748Z",
     "shell.execute_reply": "2022-09-14T05:19:14.292017Z"
    },
    "papermill": {
     "duration": 0.058648,
     "end_time": "2022-09-14T05:19:14.297006",
     "exception": false,
     "start_time": "2022-09-14T05:19:14.238358",
     "status": "completed"
    },
    "scrolled": false,
    "tags": []
   },
   "outputs": [
    {
     "data": {
      "text/markdown": [
       "## Successful papers"
      ],
      "text/plain": [
       "<IPython.core.display.Markdown object>"
      ]
     },
     "metadata": {},
     "output_type": "display_data"
    },
    {
     "data": {
      "text/markdown": [
       "\n",
       "|||\n",
       "|---:|:---|\n",
       "| [![arXiv](https://img.shields.io/badge/arXiv-arXiv:2209.05593-b31b1b.svg)](https://arxiv.org/abs/arXiv:2209.05593) | **GRAVITY faint: reducing noise sources in GRAVITY$^+$ with a fast  metrology attenuation system**  |\n",
       "|| F. Widmann, et al. -- incl., <mark>L. Kreidberg</mark> |\n",
       "|*Appeared on*| *2022-09-14*|\n",
       "|*Comments*| *Proceeding of SPIE Astronomical Telescopes + Instrumentation 2022*|\n",
       "|**Abstract**| With the upgrade from GRAVITY to GRAVITY$^+$ the instrument will evolve into an all-sky interferometer that can observe faint targets, such as high redshift AGN. Observing the faintest targets requires reducing the noise sources in GRAVITY as much as possible. The dominant noise source, especially in the blue part of the spectrum, is the backscattering of the metrology laser light onto the detector. To reduce this noise we introduce two new metrology modes. With a combination of small hardware changes and software adaptations, we can dim the metrology laser during the observation without losing the phase referencing. For single beam targets, we can even turn off the metrology laser for the maximum SNR on the detector. These changes lead to an SNR improvement of over a factor of two averaged over the whole spectrum and up to a factor of eight in the part of the spectrum currently dominated by laser noise. |"
      ],
      "text/plain": [
       "[arXiv:2209.05593] GRAVITY faint: reducing noise sources in GRAVITY$^+$ with a fast  metrology attenuation system\n",
       "\tF. Widmann, et al. -- incl., <mark>L. Kreidberg</mark>"
      ]
     },
     "metadata": {},
     "output_type": "display_data"
    },
    {
     "data": {
      "text/markdown": [
       "\n",
       "|||\n",
       "|---:|:---|\n",
       "| [![arXiv](https://img.shields.io/badge/arXiv-arXiv:2209.05814-b31b1b.svg)](https://arxiv.org/abs/arXiv:2209.05814) | **The CARMENES search for exoplanets around M dwarfs: Stable  radial-velocity variations at the rotation period of AD~Leonis -- A test case  study of current limitations to treating stellar activity**  |\n",
       "|| D. Kossakowski, et al. -- incl., <mark>M. Kürster</mark>, <mark>Th. Henning</mark>, <mark>T. Trifonov</mark>, <mark>M. Pérez-Torres</mark>, <mark>A. Pavlov</mark> |\n",
       "|*Appeared on*| *2022-09-14*|\n",
       "|*Comments*| *27 pages, 11 figures*|\n",
       "|**Abstract**| Context: A challenge with radial-velocity (RV) data is disentangling the origin of signals either due to a planetary companion or to stellar activity. In fact, the existence of a planetary companion has been proposed, as well as contested, around the relatively bright, nearby M3.0V star AD Leo at the same period as the stellar rotation of 2.23d. Aims: We further investigate the nature of this signal. We introduce new CARMENES optical and near-IR RV data and an analysis in combination with archival data taken by HIRES and HARPS, along with more recent data from HARPS-N, GIANO-B, and HPF. Also, we address the confusion concerning the binarity of AD Leo. Methods: We consider possible correlations between the RVs and various stellar activity indicators accessible with CARMENES. We applied models within a Bayesian framework to determine whether a Keplerian model, a red-noise quasi-periodic model using a Gaussian process, or a mixed model would explain the observed data best. We also exclusively focus on spectral lines potentially associated with stellar activity. Results: The CARMENES RV data agree with the previously reported periodicity of 2.23d, correlate with some activity indicators, and exhibit chromaticity. However, when considering the entire RV data set, we find that a mixed model composed of a stable and a variable component performs best. Moreover, when recomputing the RVs using only spectral lines insensitive to activity, there appears to be some residual power at the period of interest. We therefore conclude that it is not possible to determinedly prove that there is no planet orbiting in synchronization with the stellar rotation given our data, current tools, machinery, and knowledge of how stellar activity affects RVs. We do rule out planets more massive than 27M_E (=0.084M_J). We also exclude any binary companion around AD Leo with Msini > 3-6M_J on orbital periods <14yr. |"
      ],
      "text/plain": [
       "[arXiv:2209.05814] The CARMENES search for exoplanets around M dwarfs: Stable  radial-velocity variations at the rotation period of AD~Leonis -- A test case  study of current limitations to treating stellar activity\n",
       "\tD. Kossakowski, et al. -- incl., <mark>M. Kürster</mark>, <mark>Th. Henning</mark>, <mark>T. Trifonov</mark>, <mark>M. Pérez-Torres</mark>, <mark>A. Pavlov</mark>"
      ]
     },
     "metadata": {},
     "output_type": "display_data"
    },
    {
     "data": {
      "text/markdown": [
       "## Failed papers"
      ],
      "text/plain": [
       "<IPython.core.display.Markdown object>"
      ]
     },
     "metadata": {},
     "output_type": "display_data"
    },
    {
     "data": {
      "text/markdown": [
       "\n",
       "|||\n",
       "|---:|:---|\n",
       "| [![arXiv](https://img.shields.io/badge/arXiv-arXiv:2209.05492-b31b1b.svg)](https://arxiv.org/abs/arXiv:2209.05492) | **Ultra-Diffuse Galaxies as Extreme Star-forming Environments I: Mapping  Star Formation in HI-Rich UDGs**  |\n",
       "|| Erin Kado-Fong, <mark>Jenny E. Greene</mark>, Song Huang, <mark>Andy Goulding</mark> |\n",
       "|*Appeared on*| *2022-09-14*|\n",
       "|*Comments*| *Submitted to ApJ, 27 pages, 17 figures*|\n",
       "|**Abstract**| Ultra-Diffuse Galaxies are both extreme products of galaxy evolution and extreme environments in which to test our understanding of star formation. In this work, we contrast the spatially resolved star formation activity of a sample of 22 HI-selected UDGs and 35 low-mass galaxies from the NASA Sloan Atlas (NSA) within 120 Mpc. We employ a new joint SED fitting method to compute star formation rate and stellar mass surface density maps that leverage the high spatial resolution optical imaging data of the Hyper Suprime-Cam Subaru Strategic Program (HSC-SSP) and the UV coverage of GALEX, along with HI radial profiles estimated from a subset of galaxies that have spatially resolved HI maps. We find that the UDGs have low star formation efficiencies as a function of their atomic gas down to scales of 500 pc. We additionally find that the stellar mass-weighted sizes of our UDG sample are unremarkable when considered as a function of their HI mass -- their stellar sizes are comparable to the NSA dwarfs at fixed HI mass. This is a natural result in the picture where UDGs are forming stars normally, but at low efficiencies. We compare our results to predictions from contemporary models of galaxy formation, and find in particular that our observations are difficult to reproduce in models where UDGs undergo stellar expansion due to vigorous star formation feedback should bursty star formation be required down to $z=0$. |\n",
       "|<p style=\"color:green\"> **ERROR** </p>| <p style=\"color:green\">affiliation error: mpia.affiliation_verifications: '69117' keyword not found.</p> |"
      ],
      "text/plain": [
       "<IPython.core.display.Markdown object>"
      ]
     },
     "metadata": {},
     "output_type": "display_data"
    },
    {
     "data": {
      "text/markdown": [
       "\n",
       "|||\n",
       "|---:|:---|\n",
       "| [![arXiv](https://img.shields.io/badge/arXiv-arXiv:2209.05500-b31b1b.svg)](https://arxiv.org/abs/arXiv:2209.05500) | **Ultra-Diffuse Galaxies as Extreme Star-forming Environments II: Star  Formation and Pressure Balance in HI-Rich UDGs**  |\n",
       "|| Erin Kado-Fong, Chang-Goo Kim, <mark>Jenny E. Greene</mark>, Lachlan Lancaster |\n",
       "|*Appeared on*| *2022-09-14*|\n",
       "|*Comments*| *Submitted to ApJ, 22 pages, 11 figures*|\n",
       "|**Abstract**| In addition to occupying the extreme, diffuse tail of the dwarf galaxy population, Ultra-Diffuse Galaxies (UDGs) are themselves a key laboratory in which to study star formation in extreme low-density environments. In the second paper of this series, we compare the spatially resolved star formation activity of 22 HI-selected UDGs and 21 \"normal\" dwarf galaxies within 120 Mpc to predictions within the pressure-regulated, feedback-modulated (PRFM) theory of star formation. To do so, we employ a joint SED fitting method that allows us to estimate star formation rate and stellar mass surface density from UV-optical imaging. We find that the PRFM framework extends successfully to the UDG regime - although the UDGs in our sample show unusually low star formation rate surface densities given their HI content, this low star formation efficiency can be naturally explained by the diffuse structure of the UDGs. In fact, when cast in the PRFM framework, the relationship between midplane pressure and star formation in the UDG sample is in good agreement not only with the \"normal\" dwarf reference sample, but also with measurements from more massive galaxies. Our results suggest that despite their low star formation efficiencies, the HI-rich UDGs need not be forming stars in an exotic manner. We also find that the UDGs are likely H$_2$-poor compared even to the overall dwarf population. |\n",
       "|<p style=\"color:green\"> **ERROR** </p>| <p style=\"color:green\">affiliation error: mpia.affiliation_verifications: '69117' keyword not found.</p> |"
      ],
      "text/plain": [
       "<IPython.core.display.Markdown object>"
      ]
     },
     "metadata": {},
     "output_type": "display_data"
    },
    {
     "data": {
      "text/markdown": [
       "\n",
       "|||\n",
       "|---:|:---|\n",
       "| [![arXiv](https://img.shields.io/badge/arXiv-arXiv:2209.05853-b31b1b.svg)](https://arxiv.org/abs/arXiv:2209.05853) | **Dark Energy Survey Year 3 Results: Redshift Calibration of the MagLim  Lens Sample from the combination of SOMPZ and clustering and its impact on  Cosmology**  |\n",
       "|| G. Giannini, et al. -- incl., <mark>I. Harrison</mark>, <mark>E. Krause</mark> |\n",
       "|*Appeared on*| *2022-09-14*|\n",
       "|*Comments*| **|\n",
       "|**Abstract**| We present an alternative calibration of the MagLim lens sample redshift distributions from the Dark Energy Survey (DES) first three years of data (Y3). The new calibration is based on a combination of a Self-Organising Maps based scheme and clustering redshifts to estimate redshift distributions and inherent uncertainties, which is expected to be more accurate than the original DES Y3 redshift calibration of the lens sample. We describe in detail the methodology, we validate it on simulations and discuss the main effects dominating our error budget. The new calibration is in fair agreement with the fiducial DES Y3 redshift distributions calibration, with only mild differences ($<3\\sigma$) in the means and widths of the distributions. We study the impact of this new calibration on cosmological constraints, analysing DES Y3 galaxy clustering and galaxy-galaxy lensing measurements, assuming a $\\Lambda$CDM cosmology. We obtain $\\Omega_{\\rm m} = 0.30\\pm 0.04$, $\\sigma_8 = 0.81\\pm 0.07 $ and $S_8 = 0.81\\pm 0.04$, which implies a $\\sim 0.4\\sigma$ shift in the $\\Omega_{\\rm}-S_8$ plane compared to the fiducial DES Y3 results, highlighting the importance of the redshift calibration of the lens sample in multi-probe cosmological analyses. |\n",
       "|<p style=\"color:green\"> **ERROR** </p>| <p style=\"color:green\">affiliation error: mpia.affiliation_verifications: '69117' keyword not found.</p> |"
      ],
      "text/plain": [
       "<IPython.core.display.Markdown object>"
      ]
     },
     "metadata": {},
     "output_type": "display_data"
    },
    {
     "data": {
      "text/markdown": [
       "\n",
       "|||\n",
       "|---:|:---|\n",
       "| [![arXiv](https://img.shields.io/badge/arXiv-arXiv:2209.05519-b31b1b.svg)](https://arxiv.org/abs/arXiv:2209.05519) | **Characterising the Intracluster Light over the Redshift Range $0.2 < z <  0.8$ in the DES-ACT Overla**  |\n",
       "|| Jesse B. Golden-Marx, et al. -- incl., <mark>Y. Zhang</mark>, <mark>J. J. Mohr</mark> |\n",
       "|*Appeared on*| *2022-09-14*|\n",
       "|*Comments*| *19 pages, 12 Figures, 3 Tables. Submitted to MNRAS on 9/7/2022*|\n",
       "|**Abstract**| We characterise the properties and evolution of Bright Central Galaxies (BCGs) and the surrounding intracluster light (ICL) in galaxy clusters identified in overlapping regions of the Dark Energy Survey and Atacama Cosmology Telescope Survey (DES-ACT), covering the redshift range $0.20<z<0.80$. Using this sample, we measure no change in the ICL's stellar content (between 50-300\\,kpc) over this redshift range in clusters with log${_{10}}(M_{\\rm 200m,SZ}$/M$_{\\odot})>$14.4. We also measure the stellar mass - halo mass (SMHM) relation for the BCG+ICL system and find that the slope, $\\beta$, which characterises the dependence of $M_{\\rm 200m,SZ}$ on the BCG+ICL stellar mass, increases with radius. The outskirts are more strongly correlated with the halo than the core, which supports that the BCG+ICL system follows a two-phase growth, where recent growth ($z<2$) occurs beyond the BCG's core. Additionally, we compare our observed SMHM relation results to the IllustrisTNG 300-1 cosmological hydrodynamic simulations and find moderate qualitative agreement in the amount of diffuse light. However, the SMHM relation's slope is steeper in TNG300-1 and the intrinsic scatter is lower, likely from the absence of projection effects in TNG300-1. Additionally, we find that the ICL exhibits a colour gradient such that the outskirts are bluer than the core. Moreover, for the lower halo mass clusters (log$_{10}(M_{\\rm 200m,SZ}$/M$_{\\odot})<$14.59 ), we detect a modest change in the colour gradient's slope with lookback time, which combined with the absence of stellar mass growth may suggest that lower mass clusters have been involved in growth via tidal stripping more recently than their higher mass counterparts. |\n",
       "|<p style=\"color:green\"> **ERROR** </p>| <p style=\"color:green\">affiliation error: mpia.affiliation_verifications: 'Heidelberg' keyword not found.</p> |"
      ],
      "text/plain": [
       "<IPython.core.display.Markdown object>"
      ]
     },
     "metadata": {},
     "output_type": "display_data"
    },
    {
     "data": {
      "text/markdown": [
       "\n",
       "|||\n",
       "|---:|:---|\n",
       "| [![arXiv](https://img.shields.io/badge/arXiv-arXiv:2209.05535-b31b1b.svg)](https://arxiv.org/abs/arXiv:2209.05535) | **ALMA Detection of Dust Trapping around Lagrangian Points in the LkCa 15  Disk**  |\n",
       "|| Feng Long, et al. -- incl., <mark>Shangjia Zhang</mark> |\n",
       "|*Appeared on*| *2022-09-14*|\n",
       "|*Comments*| *ApJL in press*|\n",
       "|**Abstract**| We present deep high-resolution ($\\sim$50 mas, 8 au) ALMA 0.88 and 1.3 mm continuum observations of the LkCa 15 disk. The emission morphology shows an inner cavity and three dust rings at both wavelengths, but with slightly narrower rings at the longer wavelength. Along a faint ring at 42 au, we identify two excess emission features at $\\sim$10$\\sigma$ significance at both wavelengths: one as an unresolved clump and the other as an extended arc, separated by roughly 120 degrees in azimuth. The clump is unlikely to be a circumplanetary disk (CPD) as the emission peak shifts between the two wavelengths even after accounting for orbital motion. Instead, the morphology of the 42 au ring strongly resembles the characteristic horseshoe orbit produced in planet--disk interaction models, where the clump and the arc trace dust accumulation around Lagrangian points $L_{4}$ and $L_{5}$, respectively. The shape of the 42 au ring, dust trapping in the outer adjacent ring, and the coincidence of the horseshoe ring location with a gap in near-IR scattered light, are all consistent with the scenario of planet sculpting, with the planet likely having a mass between those of Neptune and Saturn. We do not detect point-like emission associated with a CPD around the putative planet location ($0.''27$ in projected separation from the central star at a position angle of $\\sim$60\\degr), with upper limits of 70 and 33 $\\mu$Jy at 0.88 and 1.3 mm, respectively, corresponding to dust mass upper limits of 0.02--0.03 $M_{\\oplus}$. |\n",
       "|<p style=\"color:green\"> **ERROR** </p>| <p style=\"color:green\">affiliation error: mpia.affiliation_verifications: 'Heidelberg' keyword not found.</p> |"
      ],
      "text/plain": [
       "<IPython.core.display.Markdown object>"
      ]
     },
     "metadata": {},
     "output_type": "display_data"
    },
    {
     "data": {
      "text/markdown": [
       "\n",
       "|||\n",
       "|---:|:---|\n",
       "| [![arXiv](https://img.shields.io/badge/arXiv-arXiv:2209.05594-b31b1b.svg)](https://arxiv.org/abs/arXiv:2209.05594) | **SALT3-NIR: Taking the Open-Source Type Ia Supernova Model to Longer  Wavelengths for Next-Generation Cosmological Measurements**  |\n",
       "|| J. D. R. Pierel, et al. -- incl., <mark>T. de Jaeger</mark> |\n",
       "|*Appeared on*| *2022-09-14*|\n",
       "|*Comments*| **|\n",
       "|**Abstract**| A large fraction of Type Ia supernova (SN Ia) observations over the next decade will be in the near-infrared (NIR), at wavelengths beyond the reach of the current standard light-curve model for SN Ia cosmology, SALT3 ($\\sim 2800$--8700$A$ central filter wavelength). To harness this new SN Ia sample and reduce future light-curve standardization systematic uncertainties, we train SALT3 at NIR wavelengths (SALT3-NIR) up to 2 $\\mu$m with the open-source model-training software SALTShaker, which can easily accommodate future observations. Using simulated data we show that the training process constrains the NIR model to $\\sim 2$--3% across the phase range ($-20$ to $50$ days). We find that Hubble residual (HR) scatter is smaller using the NIR alone or optical+NIR compared to optical alone, by up to $\\sim 30$% depending on filter choice (95% confidence). There is significant correlation between NIR light-curve stretch measurements and luminosity, with stretch and color corrections often improving HR scatter by up to $\\sim20%$. For SN Ia observations expected from the \\textit{Roman Space Telescope}, SALT3-NIR increases the amount of usable data in the SALT framework by $\\sim 20$% at redshift $z\\lesssim0.4$ and by $\\sim 50$% at $z\\lesssim0.15$. The SALT3-NIR model is part of the open-source {\\tt SNCosmo} and {\\tt SNANA} SN Ia cosmology packages. |\n",
       "|<p style=\"color:green\"> **ERROR** </p>| <p style=\"color:green\">affiliation error: mpia.affiliation_verifications: 'Heidelberg' keyword not found.</p> |"
      ],
      "text/plain": [
       "<IPython.core.display.Markdown object>"
      ]
     },
     "metadata": {},
     "output_type": "display_data"
    },
    {
     "data": {
      "text/markdown": [
       "\n",
       "|||\n",
       "|---:|:---|\n",
       "| [![arXiv](https://img.shields.io/badge/arXiv-arXiv:2209.05605-b31b1b.svg)](https://arxiv.org/abs/arXiv:2209.05605) | **NGC 3314a/b and NGC 3312: Ram pressure stripping in Hydra I Cluster  substructure**  |\n",
       "|| <mark>Kelley M. Hess</mark>, et al. |\n",
       "|*Appeared on*| *2022-09-14*|\n",
       "|*Comments*| *20 pages, 9 figures, accepted for publication in A&A*|\n",
       "|**Abstract**| Cluster substructure and ram pressure stripping in individual galaxies are among the primary evidence for the ongoing growth of galaxy clusters as they accrete galaxies and groups from their surroundings. We present a multi-wavelength study of the center of the Hydra I galaxy cluster, including exquisite new MeerKAT HI and DECam Halpha imaging which reveal conclusive evidence for ram pressure stripping in NGC 3312, NGC 3314a and NGC 3314b through compressed HI contours, well-defined HI tails, and ongoing star formation in the stripped gas. In particular, we quantify the stripped material in NGC 3312 and NGC 3314a, which makes up between 8% and 35% of the gas still in the disk, is forming stars at ~0.5 M_Sun yr^-1, and extends ~30-60 kpc from the main disk. The estimated stellar mass in the tails is an order of magnitude less than the HI mass. A fourth \"ring\" galaxy at the same velocity does not show signs of ram pressure in HI. In addition, we use the HI and stellar morphologies, combined with a Beta model of the hot intracluster medium, to constrain the real distances of the galaxies to the cluster center, and we use the chance alignment of NGC 3314b behind NGC 3314a to break the degeneracy between whether the galaxies are in front or in back of the cluster. The drag seen in the HI tails supports our preferred scenario that NGC 3312 and NGC 3314a are moving towards us as part of a foreground substructure which has already passed its pericenter and is on \"out fall\" from the cluster. The high surviving HI content of the galaxies may suggest that the substructure/intragroup medium can protect them from the harshest effects of ram pressure, or that in fact the galaxies are on more tangential orbits. |\n",
       "|<p style=\"color:green\"> **ERROR** </p>| <p style=\"color:green\">affiliation error: mpia.affiliation_verifications: 'Heidelberg' keyword not found.</p> |"
      ],
      "text/plain": [
       "<IPython.core.display.Markdown object>"
      ]
     },
     "metadata": {},
     "output_type": "display_data"
    },
    {
     "data": {
      "text/markdown": [
       "\n",
       "|||\n",
       "|---:|:---|\n",
       "| [![arXiv](https://img.shields.io/badge/arXiv-arXiv:2209.05743-b31b1b.svg)](https://arxiv.org/abs/arXiv:2209.05743) | **Large amplitude bidirectional anisotropy of cosmic-ray intensity  observed with world-wide networks of ground-based neutron monitors and muon  detectors in November, 2021**  |\n",
       "|| K. Munakata, et al. -- incl., <mark>M. M. Sharma</mark> |\n",
       "|*Appeared on*| *2022-09-14*|\n",
       "|*Comments*| *Accepted for publication in the Astrophysical Journal*|\n",
       "|**Abstract**| We analyze the cosmic-ray variations during a significant Forbush decrease observed with world-wide networks of ground-based neutron monitors and muon detectors during November 3-5, 2021. Utilizing the difference between primary cosmic-ray rigidities monitored by neutron monitors and muon detectors, we deduce the rigidity spectra of the cosmic-ray density (or omnidirectional intensity) and the first- and second-order anisotropies separately, for each hour of data. A clear two-step decrease is seen in the cosmic-ray density with the first $\\sim2\\%$ decrease after the interplanetary shock arrival followed by the second $\\sim5\\%$ decrease inside the magnetic flux rope (MFR) at 15 GV. Most strikingly, a large bidirectional streaming along the magnetic field is observed in the MFR with a peak amplitude of $\\sim5\\%$ at 15 GV which is comparable to the total density decrease inside the MFR. The bidirectional streaming could be explained by adiabatic deceleration and/or focusing in the expanding MFR, which have stronger effects for pitch angles near 90$^\\circ$, or by selective entry of GCRs along a leg of the MFR. The peak anisotropy and density depression in the flux rope both decrease with increasing rigidity. The spectra vary dynamically indicating that the temporal variations of density and anisotropy appear different in neutron monitor and muon detector data. |\n",
       "|<p style=\"color:green\"> **ERROR** </p>| <p style=\"color:green\">affiliation error: mpia.affiliation_verifications: 'Heidelberg' keyword not found.</p> |"
      ],
      "text/plain": [
       "<IPython.core.display.Markdown object>"
      ]
     },
     "metadata": {},
     "output_type": "display_data"
    },
    {
     "data": {
      "text/markdown": [
       "\n",
       "|||\n",
       "|---:|:---|\n",
       "| [![arXiv](https://img.shields.io/badge/arXiv-arXiv:2209.05760-b31b1b.svg)](https://arxiv.org/abs/arXiv:2209.05760) | **CME Evolution in the Structured Heliosphere and Effects at Earth and  Mars During Solar Minimum**  |\n",
       "|| Erika Palmerio, et al. -- incl., <mark>Christina O. Lee</mark> |\n",
       "|*Appeared on*| *2022-09-14*|\n",
       "|*Comments*| *27 pages, 7 figures, 1 table, accepted for publication in Space Weather*|\n",
       "|**Abstract**| The activity of the Sun alternates between a solar minimum and a solar maximum, the former corresponding to a period of \"quieter\" status of the heliosphere. During solar minimum, it is in principle more straightforward to follow eruptive events and solar wind structures from their birth at the Sun throughout their interplanetary journey. In this paper, we report analysis of the origin, evolution, and heliospheric impact of a series of solar transient events that took place during the second half of August 2018, i.e. in the midst of the late declining phase of Solar Cycle 24. In particular, we focus on two successive coronal mass ejections (CMEs) and a following high-speed stream (HSS) on their way towards Earth and Mars. We find that the first CME impacted both planets, whilst the second caused a strong magnetic storm at Earth and went on to miss Mars, which nevertheless experienced space weather effects from the stream interacting region (SIR) preceding the HSS. Analysis of remote-sensing and in-situ data supported by heliospheric modelling suggests that CME--HSS interaction resulted in the second CME rotating and deflecting in interplanetary space, highlighting that accurately reproducing the ambient solar wind is crucial even during \"simpler\" solar minimum periods. Lastly, we discuss the upstream solar wind conditions and transient structures responsible for driving space weather effects at Earth and Mars. |\n",
       "|<p style=\"color:green\"> **ERROR** </p>| <p style=\"color:green\">affiliation error: mpia.affiliation_verifications: 'Heidelberg' keyword not found.</p> |"
      ],
      "text/plain": [
       "<IPython.core.display.Markdown object>"
      ]
     },
     "metadata": {},
     "output_type": "display_data"
    },
    {
     "data": {
      "text/markdown": [
       "\n",
       "|||\n",
       "|---:|:---|\n",
       "| [![arXiv](https://img.shields.io/badge/arXiv-arXiv:2209.05766-b31b1b.svg)](https://arxiv.org/abs/arXiv:2209.05766) | **Black hole hierarchical growth efficiency and mass spectrum predictions**  |\n",
       "|| <mark>Parthapratim Mahapatra</mark>, et al. |\n",
       "|*Appeared on*| *2022-09-14*|\n",
       "|*Comments*| *12 pages, 4 figures, 1 table*|\n",
       "|**Abstract**| Hierarchical mergers in bound gravitational environments can explain the presence of black holes with masses greater than $\\sim 100 M_{\\odot}$. Evidence for this process is found in the third LIGO-Virgo-KAGRA gravitational-wave transient catalog (GWTC-3). We study the efficiency with which hierarchical mergers can produce higher and higher masses using a simple model of forward evolution of binary black hole populations in gravitationally bound systems like stellar clusters. The model relies on pairing probability and initial mass functions for the black hole population, along with numerical relativity fitting formulas for the mass, spin and kick speed of the merger remnant. If unequal mass pairing is disfavored, we show that the retention probability decreases significantly with later generations of the binary black hole population. Our model also predicts the distribution of masses of each black hole merger generation. We find that two of the subdominant peaks in the GWTC-3 component mass spectrum are consistent with second and third generation mergers in dense environments. With more binary black hole detections, our model can be used to infer the black hole initial mass function and pairing probability exponent. |\n",
       "|<p style=\"color:green\"> **ERROR** </p>| <p style=\"color:green\">affiliation error: mpia.affiliation_verifications: 'Heidelberg' keyword not found.</p> |"
      ],
      "text/plain": [
       "<IPython.core.display.Markdown object>"
      ]
     },
     "metadata": {},
     "output_type": "display_data"
    },
    {
     "data": {
      "text/markdown": [
       "\n",
       "|||\n",
       "|---:|:---|\n",
       "| [![arXiv](https://img.shields.io/badge/arXiv-arXiv:2209.05886-b31b1b.svg)](https://arxiv.org/abs/arXiv:2209.05886) | **Deepest far ultraviolet view of a central field in the Coma cluster by  AstroSat UVIT**  |\n",
       "|| <mark>Smriti Mahajan</mark>, et al. -- incl., <mark>Joseph E. Postma</mark> |\n",
       "|*Appeared on*| *2022-09-14*|\n",
       "|*Comments*| *20 Pages; Accepted for publication in the journal Publications of the Astronomical Society of Australia (PASA)*|\n",
       "|**Abstract**| We present analysis of the far ultraviolet (FUV) emission of sources in the central region of the Coma cluster (z=0.023) using the data taken by the UVIT aboard the multi-wavelength satellite mission AstroSat. We find a good correlation between the UVIT FUV flux and the fluxes in both wavebands of the Galex mission, for the common sources. We detect stars and galaxies, amongst which the brightest (r <= 17 mag) galaxies in the field of view are mostly members of the Coma cluster. We also detect three quasars (z = 0.38, 0.51, 2.31), one of which is likely the farthest object observed by the UVIT so far. In almost all the optical and UV colour-colour and colour-magnitude planes explored in this work, the Coma galaxies, other galaxies and bright stars could be separately identified, but the fainter stars and quasars often coincide with the faint galaxies. We have also investigated galaxies with unusual FUV morphology which are likely to be galaxies experiencing ram-pressure stripping in the cluster. Amongst others, two confirmed cluster members which were not investigated in the literature earlier, have been found to show unusual FUV emission. All the distorted sources are likely to have fallen into the cluster recently, and hence have not virialised yet. A subset of our data have optical spectroscopic information available from the archives. For these sources (~ 10% of the sample), we find that 17 galaxies identify as star-forming, 18 as composite and 13 as host galaxies for active galactic nuclei, respectively on the emission-line diagnostic diagram. |\n",
       "|<p style=\"color:green\"> **ERROR** </p>| <p style=\"color:green\">affiliation error: mpia.affiliation_verifications: 'Heidelberg' keyword not found.</p> |"
      ],
      "text/plain": [
       "<IPython.core.display.Markdown object>"
      ]
     },
     "metadata": {},
     "output_type": "display_data"
    },
    {
     "data": {
      "text/markdown": [
       "\n",
       "|||\n",
       "|---:|:---|\n",
       "| [![arXiv](https://img.shields.io/badge/arXiv-arXiv:2209.05926-b31b1b.svg)](https://arxiv.org/abs/arXiv:2209.05926) | **Search for photons above 10$^{19}$ eV with the surface detector of the  Pierre Auger Observatory**  |\n",
       "|| Pierre Auger Collaboration, et al. |\n",
       "|*Appeared on*| *2022-09-14*|\n",
       "|*Comments*| *18 pages, 6 figures*|\n",
       "|**Abstract**| We use the surface detector of the Pierre Auger Observatory to search for air showers initiated by photons with an energy above $10^{19}$ eV. Photons in the zenith angle range from 30$^\\circ$ to 60$^\\circ$ can be identified in the overwhelming background of showers initiated by charged cosmic rays through the broader time structure of the signals induced in the water-Cherenkov detectors of the array and the steeper lateral distribution of shower particles reaching ground. Applying the search method to data collected between January 2004 and June 2020, upper limits at 95\\% CL are set to an $E^{-2}$ diffuse flux of ultra-high energy photons above $10^{19}$ eV, $2{\\times}10^{19}$ eV and $4{\\times}10^{19}$ eV amounting to $2.11{\\times}10^{-3}$, $3.12{\\times}10^{-4}$ and $1.72{\\times}10^{-4}$ km$^{-2}$ sr$^{-1}$ yr$^{-1}$, respectively. While the sensitivity of the present search around $2 \\times 10^{19}$ eV approaches expectations of cosmogenic photon fluxes in the case of a pure-proton composition, it is one order of magnitude above those from more realistic mixed-composition models. The inferred limits have also implications for the search of super-heavy dark matter that are discussed and illustrated. |\n",
       "|<p style=\"color:green\"> **ERROR** </p>| <p style=\"color:green\">affiliation error: mpia.affiliation_verifications: 'Heidelberg' keyword not found.</p> |"
      ],
      "text/plain": [
       "<IPython.core.display.Markdown object>"
      ]
     },
     "metadata": {},
     "output_type": "display_data"
    },
    {
     "data": {
      "text/markdown": [
       "\n",
       "|||\n",
       "|---:|:---|\n",
       "| [![arXiv](https://img.shields.io/badge/arXiv-arXiv:2209.05930-b31b1b.svg)](https://arxiv.org/abs/arXiv:2209.05930) | **The spectral-timing analysis of Cygnus X-1 with Insight-HXMT**  |\n",
       "|| M. Zhou, et al. -- incl., <mark>O. König</mark>, <mark>K. Pottschmidt</mark>, <mark>S. Zhang</mark>, <mark>S.-N. Zhang</mark> |\n",
       "|*Appeared on*| *2022-09-14*|\n",
       "|*Comments*| *18 pages, 16 figures, 1 table. accepted for publication in Astronomy & Astrophysics*|\n",
       "|**Abstract**| Cygnus X-1, as the first discovered black hole binary, is a key source for understanding the mechanisms of state transitions, and the scenarios of accretion in extreme gravity fields. We present a spectral-timing analysis of observations taken with the Insight-HXMT mission, focusing on the spectral-state dependent timing properties in the broad energy range of 1--150 keV, thus extending previous RXTE-based studies to both lower and higher energies. Our main results are the following: a) We successfully use a simple empirical model to fit all spectra, confirming that the reflection component is stronger in the soft state than in the hard state; b) The evolution of the total fractional root mean square (rms) depends on the selected energy band and the spectral shape, which is a direct result of the evolution of the power spectral densities (PSDs); c) In the hard/intermediate state, we see clear short-term variability features and a positive correlation between central frequencies of the variability components and the soft photon index $\\Gamma_1$, also at energies above 15 keV. The power spectrum is dominated by red noise in the soft state instead. These behaviors can be traced to at least 90 keV; d) The coherence and the phase-lag spectra show different behaviors dependent on different spectral shapes. |\n",
       "|<p style=\"color:green\"> **ERROR** </p>| <p style=\"color:green\">affiliation error: mpia.affiliation_verifications: 'Heidelberg' keyword not found.</p> |"
      ],
      "text/plain": [
       "<IPython.core.display.Markdown object>"
      ]
     },
     "metadata": {},
     "output_type": "display_data"
    },
    {
     "data": {
      "text/markdown": [
       "\n",
       "|||\n",
       "|---:|:---|\n",
       "| [![arXiv](https://img.shields.io/badge/arXiv-arXiv:2209.05941-b31b1b.svg)](https://arxiv.org/abs/arXiv:2209.05941) | **The Active Chromospheres of Lithium-Rich Red Giant Stars**  |\n",
       "|| Christopher Sneden, et al. -- incl., <mark>Anohita Mallick</mark>, <mark>Suvrath Mahadevan</mark> |\n",
       "|*Appeared on*| *2022-09-14*|\n",
       "|*Comments*| *Astrophysical Journal, in press*|\n",
       "|**Abstract**| We have gathered near-infrared $zyJ$-band high resolution spectra of nearly 300 field red giant stars with known lithium abundances in order to survey their \\species{He}{i} $\\lambda$10830 absorption strengths. This transition is an indicator of chromospheric activity and/or mass loss in red giants. The majority of stars in our sample reside in the red clump or red horizontal branch based on their $V-J,M_V$ color-magnitude diagram and their Gaia \\teff, \\logg\\ values. Most of our target stars are Li-poor in the sense of having normally low Li abundances, defined here as \\eps{Li}~$<$~1.25. Over 90\\% of these Li-poor stars have weak $\\lambda$10830 features. But more than half of the 83 Li-rich stars (\\eps{Li}~$>$~1.25) have strong $\\lambda$10830 absorptions. These large $\\lambda$10830 lines signal excess chromospheric activity in Li-rich stars; there is almost no indication of significant mass loss. The Li-rich giants also may have a higher binary fraction than do Li-poor stars, based on their astrometric data. It appears likely that both residence on the horizontal branch and present or past binary interaction play roles in the significant Li-He connection established in this survey. |\n",
       "|<p style=\"color:green\"> **ERROR** </p>| <p style=\"color:green\">affiliation error: mpia.affiliation_verifications: 'Heidelberg' keyword not found.</p> |"
      ],
      "text/plain": [
       "<IPython.core.display.Markdown object>"
      ]
     },
     "metadata": {},
     "output_type": "display_data"
    },
    {
     "data": {
      "text/markdown": [
       "\n",
       "|||\n",
       "|---:|:---|\n",
       "| [![arXiv](https://img.shields.io/badge/arXiv-arXiv:2209.06022-b31b1b.svg)](https://arxiv.org/abs/arXiv:2209.06022) | **The BlueMUSE data reduction pipeline: lessons learned from MUSE and  first design choices**  |\n",
       "|| Peter M. Weilbacher, et al. -- incl., <mark>Martin M. Roth</mark> |\n",
       "|*Appeared on*| *2022-09-14*|\n",
       "|*Comments*| *10 pages, 4 figures. Presented at SPIE \"Astronomical Telescopes and Instrumentation\", July 2022, in Montr\\'eal, as part of \"Software and Cyberinfrastructure for Astronomy VII\"*|\n",
       "|**Abstract**| BlueMUSE is an integral field spectrograph in an early development stage for the ESO VLT. For our design of the data reduction software for this instrument, we are first reviewing capabilities and issues of the pipeline of the existing MUSE instrument. MUSE has been in operation at the VLT since 2014 and led to discoveries published in more than 600 refereed scientific papers. While BlueMUSE and MUSE have many common properties we briefly point out a few key differences between both instruments. We outline a first version of the flowchart for the science reduction, and discuss the necessary changes due to the blue wavelength range covered by BlueMUSE. We also detail specific new features, for example, how the pipeline and subsequent analysis will benefit from improved handling of the data covariance, and a more integrated approach to the line-spread function, as well as improvements regarding the wavelength calibration which is of extra importance in the blue optical range. We finally discuss how simulations of BlueMUSE datacubes are being implemented and how they will be used to prepare the science of the instrument. |\n",
       "|<p style=\"color:green\"> **ERROR** </p>| <p style=\"color:green\">affiliation error: mpia.affiliation_verifications: 'Heidelberg' keyword not found.</p> |"
      ],
      "text/plain": [
       "<IPython.core.display.Markdown object>"
      ]
     },
     "metadata": {},
     "output_type": "display_data"
    },
    {
     "data": {
      "text/markdown": [
       "\n",
       "|||\n",
       "|---:|:---|\n",
       "| [![arXiv](https://img.shields.io/badge/arXiv-arXiv:2209.05541-b31b1b.svg)](https://arxiv.org/abs/arXiv:2209.05541) | **Towards a multi-tracer timeline of star formation in the LMC -- II. The  formation and destruction of molecular clouds**  |\n",
       "|| Jacob L. Ward, et al. -- incl., <mark>J. M. Diederik Kruijssen</mark> |\n",
       "|*Appeared on*| *2022-09-14*|\n",
       "|*Comments*| *18 pages (including appendices), 10 figures, 2 tables; MNRAS in press (accepted August 15, 2022). Figures 3, 4, 5, and 7 show the main results of the paper*|\n",
       "|**Abstract**| The time-scales associated with various stages of the star formation process represent major unknowns in our understanding of galactic evolution, as well as of star and planet formation. This is the second paper in a series aiming to establish a multi-tracer time-line of star formation in the Large Magellanic Cloud (LMC), focusing on the lifecycle of molecular clouds. We use a statistical method to determine a molecular cloud lifetime in the LMC of $t_{\\text{CO}}=11.8^{+2.7}_{-2.2}$ Myr. This short time-scale is similar to the cloud dynamical time, and suggests that molecular clouds in the LMC are largely decoupled from the effects of galactic dynamics and have lifetimes set by internal processes. This provides a clear contrast to atomic clouds in the LMC, of which the lifetimes are correlated with galactic dynamical time-scales. We additionally derive the time-scale for which molecular clouds and HII regions co-exist as $t_{\\text{fb}}=1.2^{+0.3}_{-0.2}$ Myr, implying an average feedback front expansion velocity of 12 km s$^{-1}$, consistent with expansion velocities of HII regions in the LMC observed directly using optical spectroscopy. Taken together, these results imply that the molecular cloud lifecycle in the LMC proceeds rapidly and is regulated by internal dynamics and stellar feedback. We conclude by discussing our measurements in the context of previous work in the literature, which reported considerably longer lifetimes for molecular clouds in the LMC, and find that these previous findings resulted from a subjective choice in timeline calibration that is avoided by our statistical methodology. |\n",
       "|<p style=\"color:green\"> **ERROR** </p>| <p style=\"color:green\">affiliation error: mpia.affiliation_verifications: 'Planck' keyword not found.</p> |"
      ],
      "text/plain": [
       "<IPython.core.display.Markdown object>"
      ]
     },
     "metadata": {},
     "output_type": "display_data"
    },
    {
     "data": {
      "text/markdown": [
       "\n",
       "|||\n",
       "|---:|:---|\n",
       "| [![arXiv](https://img.shields.io/badge/arXiv-arXiv:2209.06043-b31b1b.svg)](https://arxiv.org/abs/arXiv:2209.06043) | **Investigating the impact of different velocity fields on the spectral  appearance of Wolf-Rayet stars**  |\n",
       "|| Roel R. Lefever, et al. -- incl., <mark>Helge Todt</mark> |\n",
       "|*Appeared on*| *2022-09-14*|\n",
       "|*Comments*| *2 pages, 1 figure, to be published in the Proceedings of the International Astronomical Union for the IAU Symposium 361 \"Massive Stars Near and Far\"*|\n",
       "|**Abstract**| The emission line spectra of WR stars are often formed completely in the optically thick stellar wind. Hence, any assumption on the wind velocity law in a spectral analysis has a profound impact on the determination of the stellar parameters. By comparing Potsdam Wolf-Rayet (PoWR) model spectra calculated with different $\\beta$ laws, we show that the velocity field heavily influences the spectra: by using the appropriate $\\beta$ laws, the entire range of late and early types can be covered with the same stellar model. |\n",
       "|<p style=\"color:green\"> **ERROR** </p>| <p style=\"color:green\">affiliation error: mpia.affiliation_verifications: 'Planck' keyword not found.</p> |"
      ],
      "text/plain": [
       "<IPython.core.display.Markdown object>"
      ]
     },
     "metadata": {},
     "output_type": "display_data"
    },
    {
     "data": {
      "text/markdown": [
       "\n",
       "|||\n",
       "|---:|:---|\n",
       "| [![arXiv](https://img.shields.io/badge/arXiv-arXiv:2209.05910-b31b1b.svg)](https://arxiv.org/abs/arXiv:2209.05910) | **The Climate and Compositional Variation of the Highly Eccentric Planet  HD 80606 b]{The Climate and Compositional Variation of the Highly Eccentric  Planet HD 80606 b -- the rise and fall of carbon monoxide and elemental  sulfur**  |\n",
       "|| Shang-Min Tsai, et al. -- incl., <mark>Maria Steinrueck</mark>, <mark>Nikole Lewis</mark> |\n",
       "|*Appeared on*| *2022-09-14*|\n",
       "|*Comments*| *18 pages, 18 figures, submitted to MNRAS, comments welcome*|\n",
       "|**Abstract**| The gas giant HD 80606 b has a highly eccentric orbit (e $\\sim$ 0.93). The variation due to the rapid shift of stellar irradiation provides a unique opportunity to probe the physical and chemical timescales and to study the interplay between climate dynamics and atmospheric chemistry. In this work, we present integrated models to study the atmospheric responses and the underlying physical and chemical mechanisms of HD 80606 b. We first run three-dimensional general circulation models (GCMs) to establish the atmospheric thermal and dynamical structures for different atmospheric metallicities and internal heat. Based on the GCM output, we then adopted a 1D time-dependent photochemical model to investigate the compositional variation along the eccentric orbit. The transition of the circulation patterns of HD 80606 b matched the dynamics regimes in previous works. Our photochemical models show that efficient vertical mixing leads to deep quench levels of the major carbon and nitrogen species and the quenching behavior does not change throughout the eccentric orbit. Instead, photolysis is the main driver of the time-dependent chemistry. A transient state of [CO]/[CH$_4$] $>$ 1 after periastron is confirmed for all metallicity and internal heat cases. The upcoming JWST Cycle 1 GO program will be able to track this real-time CH$_4$--CO conversion and infer the chemical timescale. Furthermore, sulfur species initiated by sudden heating and photochemical forcing exhibit both short-term and long-term cycles, opening an interesting avenue for detecting sulfur on exoplanets. |\n",
       "|<p style=\"color:red\"> **ERROR** </p>| <p style=\"color:red\">latex error Could not find figure figs/HD806-orbit.pdf</p> |"
      ],
      "text/plain": [
       "<IPython.core.display.Markdown object>"
      ]
     },
     "metadata": {},
     "output_type": "display_data"
    }
   ],
   "source": [
    "import datetime\n",
    "today = str(datetime.date.today())\n",
    "logfile = f\"_build/html/logs/log-{today}.md\"\n",
    "\n",
    "\n",
    "with open(logfile, 'w') as logs:\n",
    "    # Success\n",
    "    logs.write(f'# Arxiv on Deck 2: Logs - {today}\\n\\n')\n",
    "    logs.write(\"\"\"* Arxiv had {0:,d} new papers\\n\"\"\".format(len(new_papers)))\n",
    "    logs.write(\"\"\"    * {0:,d} with possible author matches\\n\\n\"\"\".format(len(candidates)))\n",
    "    logs.write(\"## Sucessful papers\\n\\n\")\n",
    "    display(Markdown(\"## Successful papers\"))\n",
    "    success = [k[0] for k in documents]\n",
    "    for candid in candidates:\n",
    "        if candid['identifier'].split(':')[-1] in success:\n",
    "            display(candid)\n",
    "            logs.write(candid.generate_markdown_text() + '\\n\\n')\n",
    "\n",
    "    ## failed\n",
    "    logs.write(\"## Failed papers\\n\\n\")\n",
    "    display(Markdown(\"## Failed papers\"))\n",
    "    failed = sorted(failed, key=lambda x: x[1])\n",
    "    current_reason = \"\"\n",
    "    for paper, reason in failed:\n",
    "        if 'affiliation' in reason:\n",
    "            color = 'green'\n",
    "        else:\n",
    "            color = 'red'\n",
    "        data = Markdown(\n",
    "                paper.generate_markdown_text() + \n",
    "                f'\\n|<p style=\"color:{color:s}\"> **ERROR** </p>| <p style=\"color:{color:s}\">{reason:s}</p> |'\n",
    "               )\n",
    "        if reason != current_reason:\n",
    "            logs.write(f'### {reason:s} \\n\\n')\n",
    "            current_reason = reason\n",
    "        logs.write(data.data + '\\n\\n')\n",
    "        \n",
    "        # only display here the important errors (all in logs)\n",
    "        # if color in ('red',):\n",
    "        display(data)"
   ]
  },
  {
   "cell_type": "markdown",
   "id": "472d20ee",
   "metadata": {
    "papermill": {
     "duration": 0.010784,
     "end_time": "2022-09-14T05:19:14.319475",
     "exception": false,
     "start_time": "2022-09-14T05:19:14.308691",
     "status": "completed"
    },
    "tags": []
   },
   "source": [
    "## Export documents\n",
    "\n",
    "We now write the .md files and export relevant images"
   ]
  },
  {
   "cell_type": "code",
   "execution_count": 7,
   "id": "d426aed9",
   "metadata": {
    "execution": {
     "iopub.execute_input": "2022-09-14T05:19:14.345131Z",
     "iopub.status.busy": "2022-09-14T05:19:14.343378Z",
     "iopub.status.idle": "2022-09-14T05:19:14.353825Z",
     "shell.execute_reply": "2022-09-14T05:19:14.352691Z"
    },
    "papermill": {
     "duration": 0.024549,
     "end_time": "2022-09-14T05:19:14.355856",
     "exception": false,
     "start_time": "2022-09-14T05:19:14.331307",
     "status": "completed"
    },
    "tags": []
   },
   "outputs": [],
   "source": [
    "def export_markdown_summary(md: str, md_fname:str, directory: str):\n",
    "    \"\"\"Export MD document and associated relevant images\"\"\"\n",
    "    import os\n",
    "    import shutil\n",
    "    import re\n",
    "\n",
    "    if (os.path.exists(directory) and not os.path.isdir(directory)):\n",
    "        raise RuntimeError(f\"a non-directory file exists with name {directory:s}\")\n",
    "\n",
    "    if (not os.path.exists(directory)):\n",
    "        print(f\"creating directory {directory:s}\")\n",
    "        os.mkdir(directory)\n",
    "\n",
    "    fig_fnames = (re.compile(r'\\[Fig.*\\]\\((.*)\\)').findall(md) + \n",
    "                  re.compile(r'\\<img src=\"([^>\\s]*)\"[^>]*/>').findall(md))\n",
    "    for fname in fig_fnames:\n",
    "        if 'http' in fname:\n",
    "            # No need to copy online figures\n",
    "            continue\n",
    "        destdir = os.path.join(directory, os.path.dirname(fname))\n",
    "        destfname = os.path.join(destdir, os.path.basename(fname))\n",
    "        try:\n",
    "            os.makedirs(destdir)\n",
    "        except FileExistsError:\n",
    "            pass\n",
    "        shutil.copy(fname, destfname)\n",
    "    with open(os.path.join(directory, md_fname), 'w') as fout:\n",
    "        fout.write(md)\n",
    "    print(\"exported in \", os.path.join(directory, md_fname))\n",
    "    [print(\"    + \" + os.path.join(directory,fk)) for fk in fig_fnames]"
   ]
  },
  {
   "cell_type": "code",
   "execution_count": 8,
   "id": "014d04a4",
   "metadata": {
    "execution": {
     "iopub.execute_input": "2022-09-14T05:19:14.381267Z",
     "iopub.status.busy": "2022-09-14T05:19:14.380503Z",
     "iopub.status.idle": "2022-09-14T05:19:14.389900Z",
     "shell.execute_reply": "2022-09-14T05:19:14.389064Z"
    },
    "papermill": {
     "duration": 0.024212,
     "end_time": "2022-09-14T05:19:14.392087",
     "exception": false,
     "start_time": "2022-09-14T05:19:14.367875",
     "status": "completed"
    },
    "tags": []
   },
   "outputs": [
    {
     "name": "stdout",
     "output_type": "stream",
     "text": [
      "exported in  _build/html/2209.05593.md\n",
      "    + _build/html/tmp_2209.05593/./figures/metrology_detector.png\n",
      "    + _build/html/tmp_2209.05593/./figures/gfaint_pos.png\n",
      "    + _build/html/tmp_2209.05593/./figures/intensity_dark.png\n",
      "exported in  _build/html/2209.05814.md\n",
      "    + _build/html/tmp_2209.05814/./20220331_adleo_activity_carmvis1carmvis2_correlations.png\n",
      "    + _build/html/tmp_2209.05814/./20220402_adleo_periodogram_carmvis_activity.png\n",
      "    + _build/html/tmp_2209.05814/./harps123456vis1234niryh_theory_20220405.png\n",
      "    + _build/html/tmp_2209.05814/./allrv_timeseries_20220707.png\n"
     ]
    }
   ],
   "source": [
    "for paper_id, md in documents:\n",
    "    export_markdown_summary(md, f\"{paper_id:s}.md\", '_build/html/')"
   ]
  },
  {
   "cell_type": "markdown",
   "id": "f087a0a7",
   "metadata": {
    "papermill": {
     "duration": 0.010989,
     "end_time": "2022-09-14T05:19:14.414164",
     "exception": false,
     "start_time": "2022-09-14T05:19:14.403175",
     "status": "completed"
    },
    "tags": []
   },
   "source": [
    "## Display the papers\n",
    "\n",
    "Not necessary but allows for a quick check."
   ]
  },
  {
   "cell_type": "code",
   "execution_count": 9,
   "id": "fd25f625",
   "metadata": {
    "execution": {
     "iopub.execute_input": "2022-09-14T05:19:14.445603Z",
     "iopub.status.busy": "2022-09-14T05:19:14.444995Z",
     "iopub.status.idle": "2022-09-14T05:19:14.452708Z",
     "shell.execute_reply": "2022-09-14T05:19:14.451829Z"
    },
    "papermill": {
     "duration": 0.028211,
     "end_time": "2022-09-14T05:19:14.454672",
     "exception": false,
     "start_time": "2022-09-14T05:19:14.426461",
     "status": "completed"
    },
    "scrolled": false,
    "tags": []
   },
   "outputs": [
    {
     "data": {
      "text/markdown": [
       "<div class=\"macros\" style=\"visibility:hidden;\">\n",
       "$\\newcommand{\\ensuremath}{}$\n",
       "$\\newcommand{\\xspace}{}$\n",
       "$\\newcommand{\\object}[1]{\\texttt{#1}}$\n",
       "$\\newcommand{\\farcs}{{.}''}$\n",
       "$\\newcommand{\\farcm}{{.}'}$\n",
       "$\\newcommand{\\arcsec}{''}$\n",
       "$\\newcommand{\\arcmin}{'}$\n",
       "$\\newcommand{\\ion}[2]{#1#2}$\n",
       "$\\newcommand{\\textsc}[1]{\\textrm{#1}}$\n",
       "$\\newcommand{\\hl}[1]{\\textrm{#1}}$\n",
       "$\\newcommand{\\GP}{GRAVITY^+}$\n",
       "$\\newcommand{\\baselinestretch}{1.0}$</div>\n",
       "\n",
       "<div class=\"macros\" style=\"visibility:hidden;\">\n",
       "$\\newcommand{$\\ensuremath$}{}$\n",
       "$\\newcommand{$\\xspace$}{}$\n",
       "$\\newcommand{$\\object$}[1]{\\texttt{#1}}$\n",
       "$\\newcommand{$\\farcs$}{{.}''}$\n",
       "$\\newcommand{$\\farcm$}{{.}'}$\n",
       "$\\newcommand{$\\arcsec$}{''}$\n",
       "$\\newcommand{$\\arcmin$}{'}$\n",
       "$\\newcommand{$\\ion$}[2]{#1#2}$\n",
       "$\\newcommand{$\\textsc$}[1]{\\textrm{#1}}$\n",
       "$\\newcommand{$\\hl$}[1]{\\textrm{#1}}$\n",
       "$\\newcommand{$\\GP$}{GRAVITY^+}$\n",
       "$\\newcommand{$\\baselinestretch$}{1.0}$</div>\n",
       "\n",
       "\n",
       "\n",
       "<div id=\"title\">\n",
       "\n",
       "#  with a fast metrology attenuation system\n",
       "\n",
       "</div>\n",
       "<div id=\"comments\">\n",
       "\n",
       "[![arXiv](https://img.shields.io/badge/arXiv-2209.05593-b31b1b.svg)](https://arxiv.org/abs/2209.05593)<mark>Appeared on: 2022-09-14</mark> - _Proceeding of SPIE Astronomical Telescopes + Instrumentation 2022_\n",
       "\n",
       "</div>\n",
       "<div id=\"authors\">\n",
       "\n",
       "F. Widmann, et al. -- incl., <mark><mark>L. Kreidberg</mark></mark>\n",
       "\n",
       "</div>\n",
       "<div id=\"abstract\">\n",
       "\n",
       "**Abstract:** With the upgrade from GRAVITY to GRAVITY+ the instrument will evolve to an all-sky interferometer that can observe faint targets, such as high redshift AGN. Observing the faintest targets requires reducing the noise sources in GRAVITY as much as possible. The dominant noise source, especially in the blue part of the spectrum, is the backscattering of the metrology laser light onto the detector. To reduce this noise we introduce two new metrology modes. With a combination of small hardware changes and software adaptations, we can dim the metrology laser during the observation without losing the phase referencing. For single beam targets, we can even turn off the metrology laser for the maximum SNR on the detector. These changes lead to a SNR improvement of over a factor of two averaged over the whole spectrum and up to a factor of eight in the part of the spectrum currently dominated by laser noise.\n",
       "\n",
       "</div>\n",
       "\n",
       "<div id=\"div_fig1\">\n",
       "\n",
       "<img src=\"tmp_2209.05593/./figures/metrology_detector.png\" alt=\"Fig3\" width=\"100%\"/>\n",
       "\n",
       "**Figure 3. -** Cut out from the detector image of a dark frame in all three modes. Top: metrology on, where clear backscattering can be seen in left part of the spectra. Middle: metrology faint, with only a small peak from the carrier laser remaining. Bottom: metrology off, no spectra visible anymore. The white rectangle in all plots shows a typical extraction region for a spectrum. (*fig:met_det*)\n",
       "\n",
       "</div>\n",
       "<div id=\"div_fig2\">\n",
       "\n",
       "<img src=\"tmp_2209.05593/./figures/gfaint_pos.png\" alt=\"Fig7\" width=\"100%\"/>\n",
       "\n",
       "**Figure 7. -** First test of an astrometric measurement with GRAVITY-faint. The left plots show the visibility phase over 4 exposures of \\SI{2}{\\min} each, with the average phase as a bold line and the phase per DIT shaded out. The right plot shows the astrometry of the four files, relative to the calibrated phase center. (*fig:gfaint_pos*)\n",
       "\n",
       "</div>\n",
       "<div id=\"div_fig3\">\n",
       "\n",
       "<img src=\"tmp_2209.05593/./figures/intensity_dark.png\" alt=\"Fig2\" width=\"100%\"/>\n",
       "\n",
       "**Figure 2. -** Measured intensity on a \\SI{10}{\\second} dark frame in medium resolution with an indication for the dominant sources over the spectrum. (*fig:intensity*)\n",
       "\n",
       "</div>"
      ],
      "text/plain": [
       "<IPython.core.display.Markdown object>"
      ]
     },
     "metadata": {},
     "output_type": "display_data"
    },
    {
     "data": {
      "text/markdown": [
       "<div class=\"macros\" style=\"visibility:hidden;\">\n",
       "$\\newcommand{\\ensuremath}{}$\n",
       "$\\newcommand{\\xspace}{}$\n",
       "$\\newcommand{\\object}[1]{\\texttt{#1}}$\n",
       "$\\newcommand{\\farcs}{{.}''}$\n",
       "$\\newcommand{\\farcm}{{.}'}$\n",
       "$\\newcommand{\\arcsec}{''}$\n",
       "$\\newcommand{\\arcmin}{'}$\n",
       "$\\newcommand{\\ion}[2]{#1#2}$\n",
       "$\\newcommand{\\textsc}[1]{\\textrm{#1}}$\n",
       "$\\newcommand{\\hl}[1]{\\textrm{#1}}$\n",
       "$\\newcommand{\\juliet}{\\texttt{juliet}}$\n",
       "$\\newcommand{\\serval}{\\texttt{serval}}$\n",
       "$\\newcommand{\\george}{\\texttt{george}}$\n",
       "$\\newcommand{\\exostriker}{\\texttt{Exo-Striker}}$\n",
       "$\\newcommand{\\tess}{TESS}$\n",
       "$\\newcommand{\\gaia}{\\textit{Gaia}}$\n",
       "$\\newcommand{\\jwst}{JWST}$\n",
       "$\\newcommand{\\au}{au}$\n",
       "$\\newcommand{\\XX}{\\textbf{\\textcolor{red}{XX}}}$\n",
       "$\\newcommand{\\addref}[1]{(add ref)}$\n",
       "$\\newcommand{\\person}[2]{\\textcolor{magenta}{\\bf @#1: #2}}$\n",
       "$\\newcommand{\\TODO}[1]{\\textcolor{magenta}{\\textsc{todo:} \\textit{#1}}}$\n",
       "$\\newcommand{\\CHANGE}[1]{\\textcolor{red}{\\textbf{#1}}}$\n",
       "$\\newcommand$\n",
       "$\\newcommand{\\abs}[1]{|#1|}$\n",
       "$\\newcommand{\\ms}{m s^{-1}}$\n",
       "$\\newcommand{\\mearth}{M_\\oplus}$\n",
       "$\\newcommand{\\rearth}{R_\\oplus}$</div>\n",
       "\n",
       "<div class=\"macros\" style=\"visibility:hidden;\">\n",
       "$\\newcommand{$\\ensuremath$}{}$\n",
       "$\\newcommand{$\\xspace$}{}$\n",
       "$\\newcommand{$\\object$}[1]{\\texttt{#1}}$\n",
       "$\\newcommand{$\\farcs$}{{.}''}$\n",
       "$\\newcommand{$\\farcm$}{{.}'}$\n",
       "$\\newcommand{$\\arcsec$}{''}$\n",
       "$\\newcommand{$\\arcmin$}{'}$\n",
       "$\\newcommand{$\\ion$}[2]{#1#2}$\n",
       "$\\newcommand{$\\textsc$}[1]{\\textrm{#1}}$\n",
       "$\\newcommand{$\\hl$}[1]{\\textrm{#1}}$\n",
       "$\\newcommand{$\\juliet$}{\\texttt{juliet}}$\n",
       "$\\newcommand{$\\serval$}{\\texttt{serval}}$\n",
       "$\\newcommand{$\\george$}{\\texttt{george}}$\n",
       "$\\newcommand{$\\exostriker$}{\\texttt{Exo-Striker}}$\n",
       "$\\newcommand{$\\tess$}{TESS}$\n",
       "$\\newcommand{$\\gaia$}{\\textit{Gaia}}$\n",
       "$\\newcommand{$\\jwst$}{JWST}$\n",
       "$\\newcommand{$\\au$}{au}$\n",
       "$\\newcommand{$\\XX$}{\\textbf{\\textcolor{red}{XX}}}$\n",
       "$\\newcommand{$\\addref$}[1]{(add ref)}$\n",
       "$\\newcommand{$\\person$}[2]{\\textcolor{magenta}{\\bf @#1: #2}}$\n",
       "$\\newcommand{$\\TODO$}[1]{\\textcolor{magenta}{$\\textsc${todo:} \\textit{#1}}}$\n",
       "$\\newcommand{$\\CHANGE$}[1]{\\textcolor{red}{\\textbf{#1}}}$\n",
       "$\\newcommand$\n",
       "$\\newcommand{$\\abs$}[1]{|#1|}$\n",
       "$\\newcommand{$\\ms$}{m s^{-1}}$\n",
       "$\\newcommand{$\\mearth$}{M_\\oplus}$\n",
       "$\\newcommand{$\\rearth$}{R_\\oplus}$</div>\n",
       "\n",
       "\n",
       "\n",
       "<div id=\"title\">\n",
       "\n",
       "# The CARMENES search for exoplanets around M dwarfs\n",
       "\n",
       "</div>\n",
       "<div id=\"comments\">\n",
       "\n",
       "[![arXiv](https://img.shields.io/badge/arXiv-2209.05814-b31b1b.svg)](https://arxiv.org/abs/2209.05814)<mark>Appeared on: 2022-09-14</mark> - _27 pages, 11 figures_\n",
       "\n",
       "</div>\n",
       "<div id=\"authors\">\n",
       "\n",
       "D. Kossakowski, et al. -- incl., <mark><mark>M. Kürster</mark></mark>, <mark><mark>Th. Henning</mark></mark>, <mark><mark>T. Trifonov</mark></mark>, <mark><mark>M. Pérez-Torres</mark></mark>, <mark><mark>A. Pavlov</mark></mark>\n",
       "\n",
       "</div>\n",
       "<div id=\"abstract\">\n",
       "\n",
       "**Abstract:** A challenge with radial-velocity (RV) data is disentangling the origin of signals either due to a planetary companion or to stellar activity. In fact, the existence of a planetary companion has been proposed, as well as contested, around the relatively bright, nearby M3.0 V star AD Leo at the same period as the stellar rotation of 2.23 d.We further investigate the nature of this signal. We introduce new CARMENES optical and near-IR RV data and an analysis in combination with archival data taken by HIRES and HARPS, along with more recent data from HARPS-N, GIANO-B, and HPF. Additionally, we address the confusion concerning the binarity of AD Leo.We consider possible correlations between the RVs and various stellar activity indicators accessible with CARMENES. We additionally applied models within a Bayesian framework to determine whether a Keplerian model, a red-noise quasi-periodic model using a Gaussian process, or a mixed model would explain the observed data best. We also exclusively focus on spectral lines potentially associated with stellar activity.The CARMENES RV data agree with the previously reported periodicity of 2.23 d, correlate with some activity indicators, and exhibit chromaticity.  However, when considering the entire RV data set, we find that a mixed model composed of a stable and a variable component performs best. Moreover, when recomputing the RVs using only spectral lines insensitive to activity, there appears to be some residual power at the period of interest. We therefore conclude that it is not possible to determinedly prove that there is no planet orbiting in synchronization with the stellar rotation given our data, current tools, machinery, and knowledge of how stellar activity affects RVs. We do rule out planets more massive than 27 M$_{\\oplus}$(= 0.084 M$_\\textnormal{Jup}$). Likewise, we exclude any binary companion around AD Leo with M$\\sin{i}$greater than 3--6 M$_\\textnormal{Jup}$on orbital periods$<14$yr.\n",
       "\n",
       "</div>\n",
       "\n",
       "<div id=\"div_fig1\">\n",
       "\n",
       "<img src=\"tmp_2209.05814/./20220331_adleo_activity_carmvis1carmvis2_correlations.png\" alt=\"Fig11.1\" width=\"50%\"/><img src=\"tmp_2209.05814/./20220402_adleo_periodogram_carmvis_activity.png\" alt=\"Fig11.2\" width=\"50%\"/>\n",
       "\n",
       "**Figure 11. -** Correlation plots with the RVs (\\textit{left}) and GLS periodograms (\\textit{right}) of the various stellar activity indicators from the CARMENES VIS spectroscopic data for AD Leo. For the correlation plots, the circles and triangles represent the first and second subset of CARMENES VIS data, respectively. Data points are color-coded with the rotation phase. The Pearson-$r$ correlation coefficient combining both subsets is shown within each panel (R). For the periodograms, only the first season of the CARMENES VIS data was considered for plotting. The orange vertical solid and dashed lines represent the rotation period at $P=2.23$ d and its daily alias at 1.81 d. The horizontal dotted, dot-dashed, and dashed blue lines represent the 10 \\%, 1 \\%, and 0.1 \\% FAP levels. (*fig:carmvisactivity*)\n",
       "\n",
       "</div>\n",
       "<div id=\"div_fig2\">\n",
       "\n",
       "<img src=\"tmp_2209.05814/./harps123456vis1234niryh_theory_20220405.png\" alt=\"Fig3\" width=\"100%\"/>\n",
       "\n",
       "**Figure 3. -** Radial-velocity semi-amplitudes as a function of wavelength for the wavelength chunks from HARPS and the CARMENES VIS and NIR spectographs. The gray horizontal lines for each data point correspond to the wavelength coverage considered when recomputing the RV for the wavelength chunk. The green dots connected by a dashed line represent the theoretical values of a 1.5\\% spot coverage on a 3700 K, $v \\sin{i}$ of 5 k$\\ms$ star with a temperature difference of 200 K taken from \\cite{Reiners2010}. The theoretical values are binned in 2 to serve as a better comparison to the wavelength bins provided by the real data. (*fig:Kvswavelength*)\n",
       "\n",
       "</div>\n",
       "<div id=\"div_fig3\">\n",
       "\n",
       "<img src=\"tmp_2209.05814/./allrv_timeseries_20220707.png\" alt=\"Fig7\" width=\"100%\"/>\n",
       "\n",
       "**Figure 7. -** Time series of all RVs with instrumental offsets accounted for. The RV uncertainties are included, though many are too small to be seen in the plots. The HIRES and HARPS data span a large time range and the rest of the data come in $\\sim$12 years later after the time when the majority of the previous data were taken. The time axis is interrupted in several places, and stretched differently between the individual sections. Additionally, the majority of HIRES and HARPS time series are overlapping each other. Four of the HARPS-N data overlap with CARMENES data; and the GIANO-B data are taken all within the first observing run for HARPS-N. The first season of HPF data overlaps with the HARPS-N and GIANO-B data sets whereas the HPF second season overlaps with the HARPS-N and CARMENES second season. (*fig:allrv_timeseries*)\n",
       "\n",
       "</div>"
      ],
      "text/plain": [
       "<IPython.core.display.Markdown object>"
      ]
     },
     "metadata": {},
     "output_type": "display_data"
    }
   ],
   "source": [
    "[display(Markdown(k[1])) for k in documents];"
   ]
  },
  {
   "cell_type": "markdown",
   "id": "873873a4",
   "metadata": {
    "papermill": {
     "duration": 0.012537,
     "end_time": "2022-09-14T05:19:14.480355",
     "exception": false,
     "start_time": "2022-09-14T05:19:14.467818",
     "status": "completed"
    },
    "tags": []
   },
   "source": [
    "# Create HTML index"
   ]
  },
  {
   "cell_type": "code",
   "execution_count": 10,
   "id": "cf665672",
   "metadata": {
    "execution": {
     "iopub.execute_input": "2022-09-14T05:19:14.504969Z",
     "iopub.status.busy": "2022-09-14T05:19:14.504441Z",
     "iopub.status.idle": "2022-09-14T05:19:14.517193Z",
     "shell.execute_reply": "2022-09-14T05:19:14.516322Z"
    },
    "papermill": {
     "duration": 0.027428,
     "end_time": "2022-09-14T05:19:14.519194",
     "exception": false,
     "start_time": "2022-09-14T05:19:14.491766",
     "status": "completed"
    },
    "tags": []
   },
   "outputs": [
    {
     "name": "stdout",
     "output_type": "stream",
     "text": [
      "32  publications in the last 7 days.\n",
      "\t _build/html/2209.05814.md\n",
      "\t _build/html/2209.05593.md\n",
      "\t _build/html/2209.04304.md\n",
      "\t _build/html/2209.03367.md\n",
      "\t _build/html/2209.02872.md\n",
      "\t _build/html/2209.02725.md\n",
      "\t _build/html/2209.02722.md\n",
      "\t _build/html/2209.02092.md\n",
      "\t _build/html/2209.01125.md\n",
      "\t _build/html/2209.00828.md\n",
      "\t _build/html/2209.00363.md\n",
      "\t _build/html/2208.14927.md\n",
      "\t _build/html/2208.09335.md\n",
      "\t _build/html/2208.08872.md\n",
      "\t _build/html/2204.06393.md\n",
      "\t _build/html/2204.03335.md\n",
      "\t _build/html/2204.03253.md\n",
      "\t _build/html/2204.02998.md\n",
      "\t _build/html/2204.02109.md\n",
      "\t _build/html/2204.02017.md\n",
      "\t _build/html/2204.01824.md\n",
      "\t _build/html/2204.01758.md\n",
      "\t _build/html/2204.01245.md\n",
      "\t _build/html/2204.00793.md\n",
      "\t _build/html/2204.00342.md\n",
      "\t _build/html/2203.16959.md\n",
      "\t _build/html/2203.16856.md\n",
      "\t _build/html/2203.16735.md\n",
      "\t _build/html/2203.16734.md\n",
      "\t _build/html/2203.16504.md\n",
      "\t _build/html/2203.15822.md\n",
      "\t _build/html/2203.15811.md\n"
     ]
    }
   ],
   "source": [
    "from datetime import datetime, timedelta, timezone\n",
    "from glob import glob\n",
    "\n",
    "files = glob('_build/html/*.md')\n",
    "days = 7\n",
    "now = datetime.today()\n",
    "res = []\n",
    "for fk in files:\n",
    "    stat_result = os.stat(fk).st_ctime\n",
    "    modified = datetime.fromtimestamp(stat_result, tz=timezone.utc).replace(tzinfo=None)\n",
    "    delta = now.today() - modified\n",
    "    if delta <= timedelta(days=days):\n",
    "        res.append((delta.seconds, fk))\n",
    "res = [k[1] for k in reversed(sorted(res, key=lambda x:x[1]))]\n",
    "npub = len(res)\n",
    "print(len(res), f\" publications in the last {days:d} days.\")\n",
    "[ print('\\t', k) for k in res ];"
   ]
  },
  {
   "cell_type": "code",
   "execution_count": 11,
   "id": "52ca0208",
   "metadata": {
    "execution": {
     "iopub.execute_input": "2022-09-14T05:19:14.545226Z",
     "iopub.status.busy": "2022-09-14T05:19:14.544794Z",
     "iopub.status.idle": "2022-09-14T05:19:14.552390Z",
     "shell.execute_reply": "2022-09-14T05:19:14.551556Z"
    },
    "papermill": {
     "duration": 0.023317,
     "end_time": "2022-09-14T05:19:14.555061",
     "exception": false,
     "start_time": "2022-09-14T05:19:14.531744",
     "status": "completed"
    },
    "scrolled": false,
    "tags": []
   },
   "outputs": [],
   "source": [
    "def create_carousel(npub=4):\n",
    "    \"\"\" Generate the HTML code for a carousel with `npub` slides \"\"\"\n",
    "    carousel = [\"\"\"<section class=\"carousel\" aria-label=\"Gallery\">\"\"\",\n",
    "                \"\"\"  <ol class=\"carousel__viewport\">\"\"\",\n",
    "    ]\n",
    "    for k in range(1, npub + 1):\n",
    "        prev_ = k - 1\n",
    "        next_ = k + 1\n",
    "        if prev_ <= 0:\n",
    "            prev_ = npub\n",
    "        if next_ > npub:\n",
    "            next_ = 1\n",
    "        text  = f\"\"\"    <li id=\"carousel__slide{k}\" tabindex=\"0\" class=\"carousel__slide\">\\n\"\"\"\n",
    "        text += f\"\"\"       <div class=\"carousel__snapper\">\\n\"\"\"\n",
    "        text += f\"\"\"         <a href=\"#carousel__slide{prev_}\" class=\"carousel__prev\">Go to previous slide</a>\\n\"\"\"\n",
    "        text += f\"\"\"         <a href=\"#carousel__slide{next_}\" class=\"carousel__next\">Go to next slide</a>\\n\"\"\"\n",
    "        text += f\"\"\"         <div id=\"slide{k}_content\" class=\"md_view\" >Content {k}</div>\\n\"\"\"\n",
    "        text += f\"\"\"       </div>\\n\"\"\"\n",
    "        text += f\"\"\"    </li>\"\"\"\n",
    "        carousel.append(text)\n",
    "\n",
    "    carousel.extend([\n",
    "        \"\"\"  </ol>\"\"\",\n",
    "        \"\"\"  <aside class=\"carousel__navigation\">\"\"\",\n",
    "        \"\"\"    <ol class=\"carousel__navigation-list\">\"\"\"])\n",
    "\n",
    "    for k in range(1, npub + 1):\n",
    "        text  = f\"\"\"      <li class=\"carousel__navigation-item\">\\n\"\"\"\n",
    "        text += f\"\"\"        <a href=\"#carousel__slide{k}\" class=\"carousel__navigation-button\">Go to {k}</a>\\n\"\"\"\n",
    "        text += f\"\"\"      </li>\"\"\"\n",
    "        carousel.append(text)\n",
    "    carousel.extend([\"\"\"    </ol>\"\"\", \"\"\"  </aside>\"\"\", \"\"\"</section>\"\"\"])\n",
    "\n",
    "    return '\\n'.join(carousel)"
   ]
  },
  {
   "cell_type": "code",
   "execution_count": 12,
   "id": "a6eac5b6",
   "metadata": {
    "execution": {
     "iopub.execute_input": "2022-09-14T05:19:14.583904Z",
     "iopub.status.busy": "2022-09-14T05:19:14.583443Z",
     "iopub.status.idle": "2022-09-14T05:19:14.591833Z",
     "shell.execute_reply": "2022-09-14T05:19:14.590654Z"
    },
    "papermill": {
     "duration": 0.025873,
     "end_time": "2022-09-14T05:19:14.593864",
     "exception": false,
     "start_time": "2022-09-14T05:19:14.567991",
     "status": "completed"
    },
    "scrolled": false,
    "tags": []
   },
   "outputs": [],
   "source": [
    "carousel = create_carousel(npub)\n",
    "docs = ', '.join(['\"{0:s}\"'.format(k.split('/')[-1]) for k in res])\n",
    "slides = ', '.join([f'\"slide{k}_content\"' for k in range(1, npub + 1)])\n",
    "\n",
    "script = f\"\"\"\n",
    "const docs = [{docs}]\n",
    "\n",
    "const slides = [{slides}]\n",
    "\"\"\" + \"\"\"\n",
    "async function run() {\n",
    "    for (let i = 0; i < docs.length; i++) {\n",
    "        let file = await fetch(docs[i]);\n",
    "        let text = await file.text()\n",
    "        document.getElementById(slides[i]).innerHTML =\n",
    "            marked.parse(text);\n",
    "    }\n",
    "    hljs.highlightAll();\n",
    "}\n",
    "run()\n",
    "\"\"\"\n",
    "\n",
    "page = f\"\"\"<!doctype html>\n",
    "<html lang=\"en\">\n",
    "\n",
    "<head>\n",
    "  <meta charset=\"utf-8\">\n",
    "  <meta name=\"viewport\" content=\"width=device-width, initial-scale=1\">\n",
    "  <!-- Bootstrap CSS -->\n",
    "  <link href=\"https://cdn.jsdelivr.net/npm/bootstrap@5.0.2/dist/css/bootstrap.min.css\" rel=\"stylesheet\"\n",
    "   integrity=\"sha384-EVSTQN3/azprG1Anm3QDgpJLIm9Nao0Yz1ztcQTwFspd3yD65VohhpuuCOmLASjC\" crossorigin=\"anonymous\">\n",
    "  <!-- highlight.js CSS -->\n",
    "  <link rel=\"stylesheet\" href=\"https://cdnjs.cloudflare.com/ajax/libs/highlight.js/11.1.0/styles/default.min.css\">\n",
    "  <!-- Mathjax 3 -->\n",
    "  <script type=\"text/javascript\" id=\"MathJax-config\" src=\"mathjax_config.js\"> </script>\n",
    "  <script type=\"text/javascript\" id=\"MathJax-script\" async \n",
    "    src=\"https://cdn.jsdelivr.net/npm/mathjax@3/es5/tex-mml-chtml.js\">\n",
    "  </script>\n",
    "  <link rel=\"stylesheet\" href=\"index_carousel.css\">\n",
    "  <link rel=\"icon\" type=\"image/x-icon\" href=\"https://www.mpia.de/assets/touch-icon-32x32-a66937bcebc4e8894ebff1f41a366c7c7220fd97a38869ee0f2db65a9f59b6c1.png\">\n",
    "  <title>MPIA Arxiv on deck!</title>\n",
    "</head>\n",
    "\n",
    "<body>\n",
    "  <div id=\"header\"> <img src=\"header_banner.png\" width=\"100%\"></div>\n",
    "  <div id=\"suptitle\"> 7-day archives </div>\n",
    "  <div id=\"info\">\n",
    "    <img src=\"https://pngimg.com/uploads/github/github_PNG58.png\" height=30rem></img>\n",
    "    <a href=https://github.com/mpi-astronomy/arxiv_display style=\"color:black;\">github/mpi-astronomy/arxiv_display</a> \n",
    "  </div>\n",
    "  {carousel:s}\n",
    "</body>\n",
    "\n",
    "<!-- Render Markdown -->\n",
    "\n",
    "<body>\n",
    "  <!-- highlight.js: https://highlightjs.org/download/ -->\n",
    "  <script src=\"https://cdnjs.cloudflare.com/ajax/libs/highlight.js/11.5.0/highlight.min.js\"></script>\n",
    "  <!-- marked.js -->\n",
    "  <script src=\"https://cdn.jsdelivr.net/npm/marked/marked.min.js\"></script>\n",
    "  <script>{script:s}</script>\n",
    "</body>\n",
    "</html>\n",
    "\"\"\"\n",
    "with open(\"_build/html/index_7days.html\", 'w') as fout:\n",
    "    fout.write(page)"
   ]
  },
  {
   "cell_type": "markdown",
   "id": "1cebacbc",
   "metadata": {
    "papermill": {
     "duration": 0.011776,
     "end_time": "2022-09-14T05:19:14.617637",
     "exception": false,
     "start_time": "2022-09-14T05:19:14.605861",
     "status": "completed"
    },
    "tags": []
   },
   "source": [
    "# Debugging papers"
   ]
  },
  {
   "cell_type": "raw",
   "id": "debe7cc6",
   "metadata": {
    "papermill": {
     "duration": 0.040301,
     "end_time": "2022-09-14T05:19:14.670686",
     "exception": false,
     "start_time": "2022-09-14T05:19:14.630385",
     "status": "completed"
    },
    "tags": []
   },
   "source": [
    "raise NotImplementedError(\"Manual Stop\")"
   ]
  },
  {
   "cell_type": "raw",
   "id": "eb169192",
   "metadata": {
    "papermill": {
     "duration": 0.01218,
     "end_time": "2022-09-14T05:19:14.697507",
     "exception": false,
     "start_time": "2022-09-14T05:19:14.685327",
     "status": "completed"
    },
    "scrolled": true,
    "tags": []
   },
   "source": [
    "from IPython.display import display, Markdown\n",
    "from TexSoup import TexSoup\n",
    "import re\n",
    "\n",
    "def bracket_error(source: str):\n",
    "    \"\"\" Find problematic portions of the document \"\"\"\n",
    "    \n",
    "    print(\"len(source)\", len(source))\n",
    "    \n",
    "    # Checking header\n",
    "    begin_doc = next(re.finditer(r'\\\\begin\\{document\\}', doc.source)).span()[1]\n",
    "    header = source[:begin_doc]\n",
    "    text = header + r\"\\n\\end{document}\"\n",
    "\n",
    "    try:\n",
    "        # print(\"Header check... \", end='')\n",
    "        TexSoup(text)\n",
    "        display(Markdown(f\"**[OK]** - Header\"))\n",
    "    except:\n",
    "        raise RuntimeError(\"Error in the header\")\n",
    "        \n",
    "    # Check the text per section until the end.\n",
    "    # Do not stop and try them all.\n",
    "    \n",
    "    problematic_text = []\n",
    "    \n",
    "    sections = ([(0, begin_doc, 'until first section')] + \n",
    "                [(g.span()[0], g.span()[1], g.group()) for g in re.finditer(r'\\\\section\\{.*\\}', source)] +\n",
    "                [(g.span()[0], g.span()[1], g.group()) for g in re.finditer(r'\\\\begin\\{appendix\\}', source)]\n",
    "               )\n",
    "    sections.append([len(source), len(source), 'end'])\n",
    "    \n",
    "    sections = sorted(sections, key=lambda x: x[0])\n",
    "    \n",
    "    prev_pos, prev_name = (0, 'header')\n",
    "    parsed = []\n",
    "    \n",
    "    for span, span_end, name in sections:\n",
    "\n",
    "        if span - prev_pos <= 0:\n",
    "            continue\n",
    "            \n",
    "\n",
    "        text = source[prev_pos:span]\n",
    "        if prev_pos > begin_doc:\n",
    "            text = r\"\\n\\begin{document}\" + text + r\"\\n\\end{document}\"\n",
    "        else:\n",
    "            text = text + r\"\\n\\end{document}\"\n",
    "        try:\n",
    "            #print(f\"{prev_pos}:{prev_name}-->{span}:{name} check... \", end='')\n",
    "            parsed.append(TexSoup(text, tolerance=1))  # allow not ending env\n",
    "            display(Markdown(f\"**[OK]** - *{prev_pos}*:{prev_name} &rarr; *{span}*:{name}\"))\n",
    "            # print(\"ok\")\n",
    "\n",
    "            prev_pos = span\n",
    "            prev_name = name\n",
    "        except:\n",
    "            # print(f\"error between {prev_pos} and {span}\")\n",
    "            display(Markdown(f\"**[ERR]** *{prev_pos}*:{prev_name} &rarr; *{span}*:{name}\"))\n",
    "            problematic_text.append((prev_pos, source[prev_pos:span]))\n",
    "            prev_pos = span\n",
    "            prev_name = name\n",
    "            # raise\n",
    "    return problematic_text, parsed\n",
    "\n",
    "\n",
    "def check_environment(text, offset=0):\n",
    "    \"\"\" Check environment \"\"\"\n",
    "    env = re.compile(r\"\\\\begin\\{(?P<env>.*)\\}(.*)\\\\end\\{(?P=env)\\}\", re.DOTALL)\n",
    "\n",
    "    for match in env.finditer(text):\n",
    "        beg, end = match.span()\n",
    "        beg += offset\n",
    "        end += offset\n",
    "        envname = match.groups()[0]\n",
    "        try:\n",
    "            latex.TexSoup(match.group())\n",
    "        except Exception as e:\n",
    "            display(e)\n",
    "            print(f\"Error in {envname:s} between {beg} and {end}\")\n",
    "            return match.groups()[1], beg, end"
   ]
  },
  {
   "cell_type": "raw",
   "id": "2315e835",
   "metadata": {
    "papermill": {
     "duration": 0.011526,
     "end_time": "2022-09-14T05:19:14.720483",
     "exception": false,
     "start_time": "2022-09-14T05:19:14.708957",
     "status": "completed"
    },
    "scrolled": false,
    "tags": []
   },
   "source": [
    "import importlib\n",
    "importlib.reload(latex)\n",
    "which = \"2204.03253\"\n",
    "paper_id = f'{which:s}'\n",
    "folder = f'tmp_{paper_id:s}'\n",
    "\n",
    "if not os.path.isdir(folder):\n",
    "    folder = retrieve_document_source(f\"{paper_id}\", f'tmp_{paper_id}')\n",
    "\n",
    "try:\n",
    "    doc = latex.LatexDocument(folder, validation=validation)    \n",
    "except AffiliationError as affilerror:\n",
    "    msg = f\"ArXiv:{paper_id:s} is not an MPIA paper... \" + str(affilerror)\n",
    "    print(msg)\n",
    "\n",
    "\n",
    "# Hack because sometimes author parsing does not work well\n",
    "if (len(doc.authors) != len(paper['authors'])):\n",
    "    doc._authors = paper['authors']\n",
    "if (doc.abstract) in (None, ''):\n",
    "    doc._abstract = paper['abstract']\n",
    "\n",
    "doc.comment = get_markdown_badge(paper_id) + \" _\" + paper['comments'] + \"_\"\n",
    "doc.highlight_authors_in_list(hl_list)\n",
    "\n",
    "full_md = doc.generate_markdown_text()"
   ]
  },
  {
   "cell_type": "raw",
   "id": "dd3781db",
   "metadata": {
    "papermill": {
     "duration": 0.011454,
     "end_time": "2022-09-14T05:19:14.744660",
     "exception": false,
     "start_time": "2022-09-14T05:19:14.733206",
     "status": "completed"
    },
    "scrolled": false,
    "tags": []
   },
   "source": [
    "doc"
   ]
  },
  {
   "cell_type": "raw",
   "id": "c6eed834",
   "metadata": {
    "papermill": {
     "duration": 0.011513,
     "end_time": "2022-09-14T05:19:14.767629",
     "exception": false,
     "start_time": "2022-09-14T05:19:14.756116",
     "status": "completed"
    },
    "tags": []
   },
   "source": [
    "# [check_environment(k) for k in bracket_error(doc.source)]\n",
    "_, _, a = latex.get_content_per_section(doc.source, verbose=True)\n",
    "if not a:\n",
    "    print(\"no issues per section\")\n",
    "for ak in a:\n",
    "    r = check_environment(ak[1], offset=ak[0])\n",
    "    print(r[1], r[2])\n",
    "    print(r[0])"
   ]
  },
  {
   "cell_type": "code",
   "execution_count": null,
   "id": "71ce768a",
   "metadata": {
    "papermill": {
     "duration": 0.011471,
     "end_time": "2022-09-14T05:19:14.791209",
     "exception": false,
     "start_time": "2022-09-14T05:19:14.779738",
     "status": "completed"
    },
    "tags": []
   },
   "outputs": [],
   "source": []
  }
 ],
 "metadata": {
  "kernelspec": {
   "display_name": "Python 3.10.6 64-bit",
   "language": "python",
   "name": "python3"
  },
  "language_info": {
   "codemirror_mode": {
    "name": "ipython",
    "version": 3
   },
   "file_extension": ".py",
   "mimetype": "text/x-python",
   "name": "python",
   "nbconvert_exporter": "python",
   "pygments_lexer": "ipython3",
   "version": "3.9.13"
  },
  "papermill": {
   "default_parameters": {},
   "duration": 208.950908,
   "end_time": "2022-09-14T05:19:15.025676",
   "environment_variables": {},
   "exception": null,
   "input_path": "MPIA daily digest.ipynb",
   "output_path": "log.ipynb",
   "parameters": {},
   "start_time": "2022-09-14T05:15:46.074768",
   "version": "2.4.0"
  },
  "vscode": {
   "interpreter": {
    "hash": "e7370f93d1d0cde622a1f8e1c04877d8463912d04d973331ad4851f04de6915a"
   }
  },
  "widgets": {
   "application/vnd.jupyter.widget-state+json": {
    "state": {
     "1cd969f77c5a40aeb4dd4612ddf88057": {
      "model_module": "@jupyter-widgets/base",
      "model_module_version": "2.0.0",
      "model_name": "LayoutModel",
      "state": {
       "_model_module": "@jupyter-widgets/base",
       "_model_module_version": "2.0.0",
       "_model_name": "LayoutModel",
       "_view_count": null,
       "_view_module": "@jupyter-widgets/base",
       "_view_module_version": "2.0.0",
       "_view_name": "LayoutView",
       "align_content": null,
       "align_items": null,
       "align_self": null,
       "border_bottom": null,
       "border_left": null,
       "border_right": null,
       "border_top": null,
       "bottom": null,
       "display": null,
       "flex": null,
       "flex_flow": null,
       "grid_area": null,
       "grid_auto_columns": null,
       "grid_auto_flow": null,
       "grid_auto_rows": null,
       "grid_column": null,
       "grid_gap": null,
       "grid_row": null,
       "grid_template_areas": null,
       "grid_template_columns": null,
       "grid_template_rows": null,
       "height": null,
       "justify_content": null,
       "justify_items": null,
       "left": null,
       "margin": null,
       "max_height": null,
       "max_width": null,
       "min_height": null,
       "min_width": null,
       "object_fit": null,
       "object_position": null,
       "order": null,
       "overflow": null,
       "padding": null,
       "right": null,
       "top": null,
       "visibility": null,
       "width": null
      }
     },
     "47174ce47b0144a396642b8cc0d0ca9d": {
      "model_module": "@jupyter-widgets/controls",
      "model_module_version": "2.0.0",
      "model_name": "ProgressStyleModel",
      "state": {
       "_model_module": "@jupyter-widgets/controls",
       "_model_module_version": "2.0.0",
       "_model_name": "ProgressStyleModel",
       "_view_count": null,
       "_view_module": "@jupyter-widgets/base",
       "_view_module_version": "2.0.0",
       "_view_name": "StyleView",
       "bar_color": null,
       "description_width": ""
      }
     },
     "4b896c7476de433dbb93a4f13f8f99b3": {
      "model_module": "@jupyter-widgets/controls",
      "model_module_version": "2.0.0",
      "model_name": "HTMLModel",
      "state": {
       "_dom_classes": [],
       "_model_module": "@jupyter-widgets/controls",
       "_model_module_version": "2.0.0",
       "_model_name": "HTMLModel",
       "_view_count": null,
       "_view_module": "@jupyter-widgets/controls",
       "_view_module_version": "2.0.0",
       "_view_name": "HTMLView",
       "description": "",
       "description_allow_html": false,
       "layout": "IPY_MODEL_a5b941e77ada45c8b10543ea6caef70a",
       "placeholder": "​",
       "style": "IPY_MODEL_62d8f7dd3cc34b58a5c94e00451b33a7",
       "tabbable": null,
       "tooltip": null,
       "value": " 20/20 [02:58&lt;00:00,  4.79s/it]"
      }
     },
     "5fbfa261d92349afb4c1bcac6effa55d": {
      "model_module": "@jupyter-widgets/controls",
      "model_module_version": "2.0.0",
      "model_name": "HTMLStyleModel",
      "state": {
       "_model_module": "@jupyter-widgets/controls",
       "_model_module_version": "2.0.0",
       "_model_name": "HTMLStyleModel",
       "_view_count": null,
       "_view_module": "@jupyter-widgets/base",
       "_view_module_version": "2.0.0",
       "_view_name": "StyleView",
       "background": null,
       "description_width": "",
       "font_size": null,
       "text_color": null
      }
     },
     "62d8f7dd3cc34b58a5c94e00451b33a7": {
      "model_module": "@jupyter-widgets/controls",
      "model_module_version": "2.0.0",
      "model_name": "HTMLStyleModel",
      "state": {
       "_model_module": "@jupyter-widgets/controls",
       "_model_module_version": "2.0.0",
       "_model_name": "HTMLStyleModel",
       "_view_count": null,
       "_view_module": "@jupyter-widgets/base",
       "_view_module_version": "2.0.0",
       "_view_name": "StyleView",
       "background": null,
       "description_width": "",
       "font_size": null,
       "text_color": null
      }
     },
     "937569a3fc9c49bc80e86826c3df9fd9": {
      "model_module": "@jupyter-widgets/controls",
      "model_module_version": "2.0.0",
      "model_name": "HBoxModel",
      "state": {
       "_dom_classes": [],
       "_model_module": "@jupyter-widgets/controls",
       "_model_module_version": "2.0.0",
       "_model_name": "HBoxModel",
       "_view_count": null,
       "_view_module": "@jupyter-widgets/controls",
       "_view_module_version": "2.0.0",
       "_view_name": "HBoxView",
       "box_style": "",
       "children": [
        "IPY_MODEL_c76542e859b14e3c91adf4440b1d6954",
        "IPY_MODEL_ae6566bf5f234a1b9c67d38170323ef4",
        "IPY_MODEL_4b896c7476de433dbb93a4f13f8f99b3"
       ],
       "layout": "IPY_MODEL_9ddfeaf029b04b5a87c561c48cff28cf",
       "tabbable": null,
       "tooltip": null
      }
     },
     "9ddfeaf029b04b5a87c561c48cff28cf": {
      "model_module": "@jupyter-widgets/base",
      "model_module_version": "2.0.0",
      "model_name": "LayoutModel",
      "state": {
       "_model_module": "@jupyter-widgets/base",
       "_model_module_version": "2.0.0",
       "_model_name": "LayoutModel",
       "_view_count": null,
       "_view_module": "@jupyter-widgets/base",
       "_view_module_version": "2.0.0",
       "_view_name": "LayoutView",
       "align_content": null,
       "align_items": null,
       "align_self": null,
       "border_bottom": null,
       "border_left": null,
       "border_right": null,
       "border_top": null,
       "bottom": null,
       "display": null,
       "flex": null,
       "flex_flow": null,
       "grid_area": null,
       "grid_auto_columns": null,
       "grid_auto_flow": null,
       "grid_auto_rows": null,
       "grid_column": null,
       "grid_gap": null,
       "grid_row": null,
       "grid_template_areas": null,
       "grid_template_columns": null,
       "grid_template_rows": null,
       "height": null,
       "justify_content": null,
       "justify_items": null,
       "left": null,
       "margin": null,
       "max_height": null,
       "max_width": null,
       "min_height": null,
       "min_width": null,
       "object_fit": null,
       "object_position": null,
       "order": null,
       "overflow": null,
       "padding": null,
       "right": null,
       "top": null,
       "visibility": null,
       "width": null
      }
     },
     "a5b941e77ada45c8b10543ea6caef70a": {
      "model_module": "@jupyter-widgets/base",
      "model_module_version": "2.0.0",
      "model_name": "LayoutModel",
      "state": {
       "_model_module": "@jupyter-widgets/base",
       "_model_module_version": "2.0.0",
       "_model_name": "LayoutModel",
       "_view_count": null,
       "_view_module": "@jupyter-widgets/base",
       "_view_module_version": "2.0.0",
       "_view_name": "LayoutView",
       "align_content": null,
       "align_items": null,
       "align_self": null,
       "border_bottom": null,
       "border_left": null,
       "border_right": null,
       "border_top": null,
       "bottom": null,
       "display": null,
       "flex": null,
       "flex_flow": null,
       "grid_area": null,
       "grid_auto_columns": null,
       "grid_auto_flow": null,
       "grid_auto_rows": null,
       "grid_column": null,
       "grid_gap": null,
       "grid_row": null,
       "grid_template_areas": null,
       "grid_template_columns": null,
       "grid_template_rows": null,
       "height": null,
       "justify_content": null,
       "justify_items": null,
       "left": null,
       "margin": null,
       "max_height": null,
       "max_width": null,
       "min_height": null,
       "min_width": null,
       "object_fit": null,
       "object_position": null,
       "order": null,
       "overflow": null,
       "padding": null,
       "right": null,
       "top": null,
       "visibility": null,
       "width": null
      }
     },
     "ae6566bf5f234a1b9c67d38170323ef4": {
      "model_module": "@jupyter-widgets/controls",
      "model_module_version": "2.0.0",
      "model_name": "FloatProgressModel",
      "state": {
       "_dom_classes": [],
       "_model_module": "@jupyter-widgets/controls",
       "_model_module_version": "2.0.0",
       "_model_name": "FloatProgressModel",
       "_view_count": null,
       "_view_module": "@jupyter-widgets/controls",
       "_view_module_version": "2.0.0",
       "_view_name": "ProgressView",
       "bar_style": "success",
       "description": "",
       "description_allow_html": false,
       "layout": "IPY_MODEL_1cd969f77c5a40aeb4dd4612ddf88057",
       "max": 20.0,
       "min": 0.0,
       "orientation": "horizontal",
       "style": "IPY_MODEL_47174ce47b0144a396642b8cc0d0ca9d",
       "tabbable": null,
       "tooltip": null,
       "value": 20.0
      }
     },
     "b23a703e219944b3bcb4222e6de31d4d": {
      "model_module": "@jupyter-widgets/base",
      "model_module_version": "2.0.0",
      "model_name": "LayoutModel",
      "state": {
       "_model_module": "@jupyter-widgets/base",
       "_model_module_version": "2.0.0",
       "_model_name": "LayoutModel",
       "_view_count": null,
       "_view_module": "@jupyter-widgets/base",
       "_view_module_version": "2.0.0",
       "_view_name": "LayoutView",
       "align_content": null,
       "align_items": null,
       "align_self": null,
       "border_bottom": null,
       "border_left": null,
       "border_right": null,
       "border_top": null,
       "bottom": null,
       "display": null,
       "flex": null,
       "flex_flow": null,
       "grid_area": null,
       "grid_auto_columns": null,
       "grid_auto_flow": null,
       "grid_auto_rows": null,
       "grid_column": null,
       "grid_gap": null,
       "grid_row": null,
       "grid_template_areas": null,
       "grid_template_columns": null,
       "grid_template_rows": null,
       "height": null,
       "justify_content": null,
       "justify_items": null,
       "left": null,
       "margin": null,
       "max_height": null,
       "max_width": null,
       "min_height": null,
       "min_width": null,
       "object_fit": null,
       "object_position": null,
       "order": null,
       "overflow": null,
       "padding": null,
       "right": null,
       "top": null,
       "visibility": null,
       "width": null
      }
     },
     "c76542e859b14e3c91adf4440b1d6954": {
      "model_module": "@jupyter-widgets/controls",
      "model_module_version": "2.0.0",
      "model_name": "HTMLModel",
      "state": {
       "_dom_classes": [],
       "_model_module": "@jupyter-widgets/controls",
       "_model_module_version": "2.0.0",
       "_model_name": "HTMLModel",
       "_view_count": null,
       "_view_module": "@jupyter-widgets/controls",
       "_view_module_version": "2.0.0",
       "_view_name": "HTMLView",
       "description": "",
       "description_allow_html": false,
       "layout": "IPY_MODEL_b23a703e219944b3bcb4222e6de31d4d",
       "placeholder": "​",
       "style": "IPY_MODEL_5fbfa261d92349afb4c1bcac6effa55d",
       "tabbable": null,
       "tooltip": null,
       "value": "100%"
      }
     }
    },
    "version_major": 2,
    "version_minor": 0
   }
  }
 },
 "nbformat": 4,
 "nbformat_minor": 5
}