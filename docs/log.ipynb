{
 "cells": [
  {
   "cell_type": "markdown",
   "id": "92bcb855",
   "metadata": {
    "papermill": {
     "duration": 0.00588,
     "end_time": "2023-04-05T04:04:42.832969",
     "exception": false,
     "start_time": "2023-04-05T04:04:42.827089",
     "status": "completed"
    },
    "tags": []
   },
   "source": [
    "# MPIA Arxiv on Deck 2\n",
    "\n",
    "Contains the steps to produce the paper extractions."
   ]
  },
  {
   "cell_type": "code",
   "execution_count": 1,
   "id": "3a0d6e11",
   "metadata": {
    "execution": {
     "iopub.execute_input": "2023-04-05T04:04:42.843852Z",
     "iopub.status.busy": "2023-04-05T04:04:42.843167Z",
     "iopub.status.idle": "2023-04-05T04:04:43.122067Z",
     "shell.execute_reply": "2023-04-05T04:04:43.121286Z"
    },
    "papermill": {
     "duration": 0.286741,
     "end_time": "2023-04-05T04:04:43.124442",
     "exception": false,
     "start_time": "2023-04-05T04:04:42.837701",
     "status": "completed"
    },
    "tags": []
   },
   "outputs": [],
   "source": [
    "# Imports\n",
    "import os\n",
    "from IPython.display import Markdown, display\n",
    "from tqdm.notebook import tqdm\n",
    "import warnings\n",
    "from PIL import Image \n",
    "\n",
    "# requires arxiv_on_deck_2\n",
    "\n",
    "from arxiv_on_deck_2.arxiv2 import (get_new_papers, \n",
    "                                    get_paper_from_identifier,\n",
    "                                    retrieve_document_source, \n",
    "                                    get_markdown_badge)\n",
    "from arxiv_on_deck_2 import (latex,\n",
    "                             latex_bib,\n",
    "                             mpia,\n",
    "                             highlight_authors_in_list)\n",
    "\n",
    "# Sometimes images are really big\n",
    "Image.MAX_IMAGE_PIXELS = 1000000000 "
   ]
  },
  {
   "cell_type": "code",
   "execution_count": 2,
   "id": "22aa9d44",
   "metadata": {
    "execution": {
     "iopub.execute_input": "2023-04-05T04:04:43.134915Z",
     "iopub.status.busy": "2023-04-05T04:04:43.134161Z",
     "iopub.status.idle": "2023-04-05T04:04:43.140612Z",
     "shell.execute_reply": "2023-04-05T04:04:43.139865Z"
    },
    "papermill": {
     "duration": 0.013575,
     "end_time": "2023-04-05T04:04:43.142403",
     "exception": false,
     "start_time": "2023-04-05T04:04:43.128828",
     "status": "completed"
    },
    "tags": []
   },
   "outputs": [],
   "source": [
    "# Some useful definitions.\n",
    "\n",
    "class AffiliationWarning(UserWarning):\n",
    "    pass\n",
    "\n",
    "class AffiliationError(RuntimeError):\n",
    "    pass\n",
    "\n",
    "def validation(source: str):\n",
    "    \"\"\"Raises error paper during parsing of source file\n",
    "    \n",
    "    Allows checks before parsing TeX code.\n",
    "    \n",
    "    Raises AffiliationWarning\n",
    "    \"\"\"\n",
    "    check = mpia.affiliation_verifications(source, verbose=True)\n",
    "    if check is not True:\n",
    "        raise AffiliationError(\"mpia.affiliation_verifications: \" + check)\n",
    "\n",
    "        \n",
    "warnings.simplefilter('always', AffiliationWarning)\n",
    "\n",
    "\n",
    "def get_markdown_qrcode(paper_id: str):\n",
    "    \"\"\" Generate a qrcode to the arxiv page using qrserver.com\n",
    "    \n",
    "    :param paper: Arxiv paper\n",
    "    :returns: markdown text\n",
    "    \"\"\"\n",
    "    url = r\"https://api.qrserver.com/v1/create-qr-code/?size=100x100&data=\"\n",
    "    txt = f\"\"\"<img src={url}\"https://arxiv.org/abs/{paper_id}\">\"\"\"\n",
    "    txt = '<div id=\"qrcode\">' + txt + '</div>'\n",
    "    return txt"
   ]
  },
  {
   "cell_type": "markdown",
   "id": "14bd6310",
   "metadata": {
    "papermill": {
     "duration": 0.003793,
     "end_time": "2023-04-05T04:04:43.150036",
     "exception": false,
     "start_time": "2023-04-05T04:04:43.146243",
     "status": "completed"
    },
    "tags": []
   },
   "source": [
    "## get list of arxiv paper candidates\n",
    "\n",
    "We use the MPIA mitarbeiter list webpage from mpia.de to get author names\n",
    "We then get all new papers from Arxiv and match authors"
   ]
  },
  {
   "cell_type": "code",
   "execution_count": 3,
   "id": "2645e73a",
   "metadata": {
    "execution": {
     "iopub.execute_input": "2023-04-05T04:04:43.159351Z",
     "iopub.status.busy": "2023-04-05T04:04:43.158729Z",
     "iopub.status.idle": "2023-04-05T04:05:09.750123Z",
     "shell.execute_reply": "2023-04-05T04:05:09.749090Z"
    },
    "papermill": {
     "duration": 26.59854,
     "end_time": "2023-04-05T04:05:09.752460",
     "exception": false,
     "start_time": "2023-04-05T04:04:43.153920",
     "status": "completed"
    },
    "tags": []
   },
   "outputs": [
    {
     "name": "stdout",
     "output_type": "stream",
     "text": [
      "Arxiv has 56 new papers today\n",
      "          3 with possible author matches\n"
     ]
    }
   ],
   "source": [
    "# get list from MPIA website\n",
    "# it automatically filters identified non-scientists :func:`mpia.filter_non_scientists`\n",
    "mpia_authors = mpia.get_mpia_mitarbeiter_list()\n",
    "normed_mpia_authors = [k[1] for k in mpia_authors]   # initials + fullname\n",
    "new_papers = get_new_papers()\n",
    "# add manual references\n",
    "add_paper_refs = []\n",
    "new_papers.extend([get_paper_from_identifier(k) for k in add_paper_refs])\n",
    "\n",
    "candidates = []\n",
    "for paperk in new_papers:\n",
    "    # Check author list with their initials\n",
    "    normed_author_list = [mpia.get_initials(k) for k in paperk['authors']]\n",
    "    hl_authors = highlight_authors_in_list(normed_author_list, normed_mpia_authors, verbose=True)\n",
    "    matches = [(hl, orig) for hl, orig in zip(hl_authors, paperk['authors']) if 'mark' in hl]\n",
    "    paperk['authors'] = hl_authors\n",
    "    if matches:\n",
    "        # only select paper if an author matched our list\n",
    "        candidates.append(paperk)\n",
    "print(\"\"\"Arxiv has {0:,d} new papers today\"\"\".format(len(new_papers)))        \n",
    "print(\"\"\"          {0:,d} with possible author matches\"\"\".format(len(candidates)))"
   ]
  },
  {
   "cell_type": "markdown",
   "id": "3543b34a",
   "metadata": {
    "papermill": {
     "duration": 0.004827,
     "end_time": "2023-04-05T04:05:09.761694",
     "exception": false,
     "start_time": "2023-04-05T04:05:09.756867",
     "status": "completed"
    },
    "tags": []
   },
   "source": [
    "# Parse sources and generate relevant outputs\n",
    "\n",
    "From the candidates, we do the following steps:\n",
    "* get their tarball from ArXiv (and extract data)\n",
    "* find the main .tex file: find one with \\documentclass{...} (sometimes it's non trivial)\n",
    "* Check affiliations with :func:`validation`, which uses :func:`mpia.affiliation_verifications`\n",
    "* If passing the affiliations: we parse the .tex source\n",
    "   * inject sub-documents into the main (flatten the main document)\n",
    "   * parse structure, extract information (title, abstract, authors, figures...)\n",
    "   * handles `\\graphicspath` if provided\n",
    "* Generate the .md document."
   ]
  },
  {
   "cell_type": "code",
   "execution_count": 4,
   "id": "9576b79e",
   "metadata": {
    "execution": {
     "iopub.execute_input": "2023-04-05T04:05:09.771427Z",
     "iopub.status.busy": "2023-04-05T04:05:09.771121Z",
     "iopub.status.idle": "2023-04-05T04:06:08.234824Z",
     "shell.execute_reply": "2023-04-05T04:06:08.233714Z"
    },
    "papermill": {
     "duration": 58.476076,
     "end_time": "2023-04-05T04:06:08.241730",
     "exception": false,
     "start_time": "2023-04-05T04:05:09.765654",
     "status": "completed"
    },
    "scrolled": false,
    "tags": []
   },
   "outputs": [
    {
     "data": {
      "application/vnd.jupyter.widget-view+json": {
       "model_id": "dad89c6685fc446db565290c82855df0",
       "version_major": 2,
       "version_minor": 0
      },
      "text/plain": [
       "  0%|          | 0/2 [00:00<?, ?it/s]"
      ]
     },
     "metadata": {},
     "output_type": "display_data"
    },
    {
     "name": "stdout",
     "output_type": "stream",
     "text": [
      "Retrieving document from  https://arxiv.org/e-print/2304.01234\n"
     ]
    },
    {
     "name": "stdout",
     "output_type": "stream",
     "text": [
      "extracting tarball to tmp_2304.01234..."
     ]
    },
    {
     "name": "stdout",
     "output_type": "stream",
     "text": [
      " done.\n",
      "Retrieving document from  https://arxiv.org/e-print/2304.01718\n"
     ]
    },
    {
     "name": "stderr",
     "output_type": "stream",
     "text": [
      "/opt/hostedtoolcache/Python/3.9.16/x64/lib/python3.9/site-packages/IPython/core/interactiveshell.py:3505: LatexWarning: Multiple tex files.\n",
      "\n",
      "  exec(code_obj, self.user_global_ns, self.user_ns)\n",
      "/opt/hostedtoolcache/Python/3.9.16/x64/lib/python3.9/site-packages/IPython/core/interactiveshell.py:3505: LatexWarning: Found documentclass in tmp_2304.01234/_manuscript__solar_wind_speed_prediction.tex\n",
      "\n",
      "  exec(code_obj, self.user_global_ns, self.user_ns)\n"
     ]
    },
    {
     "name": "stdout",
     "output_type": "stream",
     "text": [
      "extracting tarball to tmp_2304.01718..."
     ]
    },
    {
     "name": "stdout",
     "output_type": "stream",
     "text": [
      " done.\n"
     ]
    },
    {
     "name": "stderr",
     "output_type": "stream",
     "text": [
      "/opt/hostedtoolcache/Python/3.9.16/x64/lib/python3.9/site-packages/IPython/core/interactiveshell.py:3505: LatexWarning: Multiple tex files.\n",
      "\n",
      "  exec(code_obj, self.user_global_ns, self.user_ns)\n",
      "/opt/hostedtoolcache/Python/3.9.16/x64/lib/python3.9/site-packages/IPython/core/interactiveshell.py:3505: LatexWarning: Found documentclass in tmp_2304.01718/dynamic.tex\n",
      "\n",
      "  exec(code_obj, self.user_global_ns, self.user_ns)\n",
      "/opt/hostedtoolcache/Python/3.9.16/x64/lib/python3.9/site-packages/arxiv_on_deck_2/latex.py:399: LatexWarning: Latex injecting: 'author' from 'tmp_2304.01718/author.tex'\n",
      "  warnings.warn(LatexWarning(f\"Latex injecting: '{ext}' from '{subsource}'\"))\n"
     ]
    },
    {
     "name": "stdout",
     "output_type": "stream",
     "text": [
      "Found 129 bibliographic references in tmp_2304.01718/dynamic.bbl.\n",
      "syntax error in line 606: '}' expected\n"
     ]
    }
   ],
   "source": [
    "documents = []\n",
    "failed = []\n",
    "for paper in tqdm(candidates[:-1]):\n",
    "    paper_id = paper['identifier'].lower().replace('arxiv:', '')\n",
    "    \n",
    "    folder = f'tmp_{paper_id}'\n",
    "\n",
    "    try:\n",
    "        if not os.path.isdir(folder):\n",
    "            folder = retrieve_document_source(f\"{paper_id}\", f'tmp_{paper_id}')\n",
    "        \n",
    "        try:\n",
    "            doc = latex.LatexDocument(folder, validation=validation)    \n",
    "        except AffiliationError as affilerror:\n",
    "            msg = f\"ArXiv:{paper_id:s} is not an MPIA paper... \" + str(affilerror)\n",
    "            failed.append((paper, \"affiliation error: \" + str(affilerror) ))\n",
    "            continue\n",
    "        \n",
    "        # Hack because sometimes author parsing does not work well\n",
    "        if (len(doc.authors) != len(paper['authors'])):\n",
    "            doc._authors = paper['authors']\n",
    "        else:\n",
    "            # highlight authors (FIXME: doc.highlight_authors)\n",
    "            # done on arxiv paper already\n",
    "            doc._authors = highlight_authors_in_list(\n",
    "                [mpia.get_initials(k) for k in doc.authors], \n",
    "                normed_mpia_authors, verbose=True)\n",
    "        if (doc.abstract) in (None, ''):\n",
    "            doc._abstract = paper['abstract']\n",
    "            \n",
    "        doc.comment = (get_markdown_badge(paper_id) + \n",
    "                       \"<mark>Appeared on: \" + paper['date'] + \"</mark> - \")\n",
    "        if paper['comments']:\n",
    "            doc.comment += \" _\" + paper['comments'] + \"_\"\n",
    "        \n",
    "        full_md = doc.generate_markdown_text()\n",
    "        \n",
    "        full_md += get_markdown_qrcode(paper_id)\n",
    "        \n",
    "        # replace citations\n",
    "        try:\n",
    "            bibdata = latex_bib.LatexBib.from_doc(doc)\n",
    "            full_md = latex_bib.replace_citations(full_md, bibdata)\n",
    "        except Exception as e:\n",
    "            print(e)\n",
    "        \n",
    "        documents.append((paper_id, full_md))\n",
    "    except Exception as e:\n",
    "        warnings.warn(latex.LatexWarning(f\"{paper_id:s} did not run properly\\n\" +\n",
    "                                         str(e)\n",
    "                                        ))\n",
    "        failed.append((paper, \"latex error \" + str(e)))"
   ]
  },
  {
   "cell_type": "markdown",
   "id": "2505a25c",
   "metadata": {
    "papermill": {
     "duration": 0.004862,
     "end_time": "2023-04-05T04:06:08.251422",
     "exception": false,
     "start_time": "2023-04-05T04:06:08.246560",
     "status": "completed"
    },
    "tags": []
   },
   "source": [
    "### Export the logs\n",
    "\n",
    "Throughout, we also keep track of the logs per paper. see `logs-{today date}.md` "
   ]
  },
  {
   "cell_type": "code",
   "execution_count": 5,
   "id": "d733828a",
   "metadata": {
    "execution": {
     "iopub.execute_input": "2023-04-05T04:06:08.263137Z",
     "iopub.status.busy": "2023-04-05T04:06:08.262247Z",
     "iopub.status.idle": "2023-04-05T04:06:08.288032Z",
     "shell.execute_reply": "2023-04-05T04:06:08.287218Z"
    },
    "papermill": {
     "duration": 0.033764,
     "end_time": "2023-04-05T04:06:08.289844",
     "exception": false,
     "start_time": "2023-04-05T04:06:08.256080",
     "status": "completed"
    },
    "scrolled": false,
    "tags": []
   },
   "outputs": [
    {
     "data": {
      "text/markdown": [
       "## Successful papers"
      ],
      "text/plain": [
       "<IPython.core.display.Markdown object>"
      ]
     },
     "metadata": {},
     "output_type": "display_data"
    },
    {
     "data": {
      "text/markdown": [
       "\n",
       "|||\n",
       "|---:|:---|\n",
       "| [![arXiv](https://img.shields.io/badge/arXiv-arXiv:2304.01718-b31b1b.svg)](https://arxiv.org/abs/arXiv:2304.01718) | **The ALMA Survey of 70 μm Dark High-mass Clumps in Early Stages  (ASHES). VIII. Dynamics of Embedded Dense Cores**  |\n",
       "|| <mark>S. Li</mark>, et al. |\n",
       "|*Appeared on*| *2023-04-05*|\n",
       "|*Comments*| *29 pages, 14 figures, 5 tables. Accepted for publication by ApJ. Tables 2 and 3 are available here: this https URL*|\n",
       "|**Abstract**| We present the dynamical properties of 294 cores embedded in twelve IRDCs observed as part of the ASHES Survey. Protostellar cores have higher gas masses, surface densities, column densities, and volume densities than prestellar cores, indicating core mass growth from the prestellar to the protostellar phase. We find that ~80% of cores with virial parameter ($\\alpha$) measurements are gravitationally bound ($\\alpha$< 2). We also find an anti-correlation between the mass and the virial parameter of cores, with massive cores having on average lower virial parameters. Protostellar cores are more gravitationally bound than prestellar cores, with an average virial parameter of 1.2 and 1.5, respectively. The observed non-thermal velocity dispersion (from N$_{2}$D$^{+}$ or DCO$^{+}$) is consistent with simulations in which turbulence is continuously injected, whereas the core-to-core velocity dispersion is neither in agreement with driven nor decaying turbulence simulations. We find no significant increment in the line velocity dispersion from prestellar to protostellar cores, suggesting that dense gas within the core traced by these deuterated molecules is not yet severely affected by turbulence injected from outflow activity at the early evolutionary stages traced in ASHES. The most massive cores are strongly self-gravitating and have greater surface density, Mach number, and velocity dispersion than cores with lower masses. Dense cores have not significant velocity shifts relative to their low-density envelopes, suggesting that dense cores are co-moving with their envelopes. We conclude that the observed core properties are more in line with predictions of ``clump-fed\" scenarios rather than with ``core-fed\" scenarios. |"
      ],
      "text/plain": [
       "[arXiv:2304.01718] The ALMA Survey of 70 μm Dark High-mass Clumps in Early Stages  (ASHES). VIII. Dynamics of Embedded Dense Cores\n",
       "\t<mark>S. Li</mark>, et al."
      ]
     },
     "metadata": {},
     "output_type": "display_data"
    },
    {
     "data": {
      "text/markdown": [
       "## Failed papers"
      ],
      "text/plain": [
       "<IPython.core.display.Markdown object>"
      ]
     },
     "metadata": {},
     "output_type": "display_data"
    },
    {
     "data": {
      "text/markdown": [
       "\n",
       "|||\n",
       "|---:|:---|\n",
       "| [![arXiv](https://img.shields.io/badge/arXiv-arXiv:2304.01234-b31b1b.svg)](https://arxiv.org/abs/arXiv:2304.01234) | **Prediction of solar wind speed by applying convolutional neural network  to potential field source surface (PFSS) magnetograms**  |\n",
       "|| R. Lin, et al. -- incl., <mark>J. He</mark> |\n",
       "|*Appeared on*| *2023-04-05*|\n",
       "|*Comments*| **|\n",
       "|**Abstract**| An accurate solar wind speed model is important for space weather predictions, catastrophic event warnings, and other issues concerning solar wind - magnetosphere interaction. In this work, we construct a model based on convolutional neural network (CNN) and Potential Field Source Surface (PFSS) magnetograms, considering a solar wind source surface of $R_{\\rm SS}=2.5R_\\odot$, aiming to predict the solar wind speed at the Lagrange 1 (L1) point of the Sun-Earth system. The input of our model consists of four Potential Field Source Surface (PFSS) magnetograms at $R_{\\rm SS}$, which are 7, 6, 5, and 4 days before the target epoch. Reduced magnetograms are used to promote the model's efficiency. We use the Global Oscillation Network Group (GONG) photospheric magnetograms and the potential field extrapolation model to generate PFSS magnetograms at the source surface. The model provides predictions of the continuous test dataset with an averaged correlation coefficient (CC) of 0.52 and a root mean square error (RMSE) of 80.8 km/s in an eight-fold validation training scheme with the time resolution of the data as small as one hour. The model also has the potential to forecast high speed streams of the solar wind, which can be quantified with a general threat score of 0.39. |\n",
       "|<p style=\"color:green\"> **ERROR** </p>| <p style=\"color:green\">affiliation error: mpia.affiliation_verifications: 'Heidelberg' keyword not found.</p> |"
      ],
      "text/plain": [
       "<IPython.core.display.Markdown object>"
      ]
     },
     "metadata": {},
     "output_type": "display_data"
    }
   ],
   "source": [
    "import datetime\n",
    "today = str(datetime.date.today())\n",
    "logfile = f\"_build/html/logs/log-{today}.md\"\n",
    "\n",
    "\n",
    "with open(logfile, 'w') as logs:\n",
    "    # Success\n",
    "    logs.write(f'# Arxiv on Deck 2: Logs - {today}\\n\\n')\n",
    "    logs.write(\"\"\"* Arxiv had {0:,d} new papers\\n\"\"\".format(len(new_papers)))\n",
    "    logs.write(\"\"\"    * {0:,d} with possible author matches\\n\\n\"\"\".format(len(candidates)))\n",
    "    logs.write(\"## Sucessful papers\\n\\n\")\n",
    "    display(Markdown(\"## Successful papers\"))\n",
    "    success = [k[0] for k in documents]\n",
    "    for candid in candidates:\n",
    "        if candid['identifier'].split(':')[-1] in success:\n",
    "            display(candid)\n",
    "            logs.write(candid.generate_markdown_text() + '\\n\\n')\n",
    "\n",
    "    ## failed\n",
    "    logs.write(\"## Failed papers\\n\\n\")\n",
    "    display(Markdown(\"## Failed papers\"))\n",
    "    failed = sorted(failed, key=lambda x: x[1])\n",
    "    current_reason = \"\"\n",
    "    for paper, reason in failed:\n",
    "        if 'affiliation' in reason:\n",
    "            color = 'green'\n",
    "        else:\n",
    "            color = 'red'\n",
    "        data = Markdown(\n",
    "                paper.generate_markdown_text() + \n",
    "                f'\\n|<p style=\"color:{color:s}\"> **ERROR** </p>| <p style=\"color:{color:s}\">{reason:s}</p> |'\n",
    "               )\n",
    "        if reason != current_reason:\n",
    "            logs.write(f'### {reason:s} \\n\\n')\n",
    "            current_reason = reason\n",
    "        logs.write(data.data + '\\n\\n')\n",
    "        \n",
    "        # only display here the important errors (all in logs)\n",
    "        # if color in ('red',):\n",
    "        display(data)"
   ]
  },
  {
   "cell_type": "markdown",
   "id": "472d20ee",
   "metadata": {
    "papermill": {
     "duration": 0.005263,
     "end_time": "2023-04-05T04:06:08.300497",
     "exception": false,
     "start_time": "2023-04-05T04:06:08.295234",
     "status": "completed"
    },
    "tags": []
   },
   "source": [
    "## Export documents\n",
    "\n",
    "We now write the .md files and export relevant images"
   ]
  },
  {
   "cell_type": "code",
   "execution_count": 6,
   "id": "d426aed9",
   "metadata": {
    "execution": {
     "iopub.execute_input": "2023-04-05T04:06:08.312604Z",
     "iopub.status.busy": "2023-04-05T04:06:08.311995Z",
     "iopub.status.idle": "2023-04-05T04:06:08.321542Z",
     "shell.execute_reply": "2023-04-05T04:06:08.320913Z"
    },
    "papermill": {
     "duration": 0.017678,
     "end_time": "2023-04-05T04:06:08.323331",
     "exception": false,
     "start_time": "2023-04-05T04:06:08.305653",
     "status": "completed"
    },
    "tags": []
   },
   "outputs": [],
   "source": [
    "def export_markdown_summary(md: str, md_fname:str, directory: str):\n",
    "    \"\"\"Export MD document and associated relevant images\"\"\"\n",
    "    import os\n",
    "    import shutil\n",
    "    import re\n",
    "\n",
    "    if (os.path.exists(directory) and not os.path.isdir(directory)):\n",
    "        raise RuntimeError(f\"a non-directory file exists with name {directory:s}\")\n",
    "\n",
    "    if (not os.path.exists(directory)):\n",
    "        print(f\"creating directory {directory:s}\")\n",
    "        os.mkdir(directory)\n",
    "\n",
    "    fig_fnames = (re.compile(r'\\[Fig.*\\]\\((.*)\\)').findall(md) + \n",
    "                  re.compile(r'\\<img src=\"([^>\\s]*)\"[^>]*/>').findall(md))\n",
    "    for fname in fig_fnames:\n",
    "        if 'http' in fname:\n",
    "            # No need to copy online figures\n",
    "            continue\n",
    "        destdir = os.path.join(directory, os.path.dirname(fname))\n",
    "        destfname = os.path.join(destdir, os.path.basename(fname))\n",
    "        try:\n",
    "            os.makedirs(destdir)\n",
    "        except FileExistsError:\n",
    "            pass\n",
    "        shutil.copy(fname, destfname)\n",
    "    with open(os.path.join(directory, md_fname), 'w') as fout:\n",
    "        fout.write(md)\n",
    "    print(\"exported in \", os.path.join(directory, md_fname))\n",
    "    [print(\"    + \" + os.path.join(directory,fk)) for fk in fig_fnames]"
   ]
  },
  {
   "cell_type": "code",
   "execution_count": 7,
   "id": "014d04a4",
   "metadata": {
    "execution": {
     "iopub.execute_input": "2023-04-05T04:06:08.335450Z",
     "iopub.status.busy": "2023-04-05T04:06:08.334812Z",
     "iopub.status.idle": "2023-04-05T04:06:08.341991Z",
     "shell.execute_reply": "2023-04-05T04:06:08.341388Z"
    },
    "papermill": {
     "duration": 0.015158,
     "end_time": "2023-04-05T04:06:08.343781",
     "exception": false,
     "start_time": "2023-04-05T04:06:08.328623",
     "status": "completed"
    },
    "tags": []
   },
   "outputs": [
    {
     "name": "stdout",
     "output_type": "stream",
     "text": [
      "exported in  _build/html/2304.01718.md\n",
      "    + _build/html/tmp_2304.01718/figures/vir_hist.png\n",
      "    + _build/html/tmp_2304.01718/figures/virial.png\n",
      "    + _build/html/tmp_2304.01718/figures/sig_R_core_clump3.png\n",
      "    + _build/html/tmp_2304.01718/figures/sig_R_core_clump2.png\n",
      "    + _build/html/tmp_2304.01718/figures/sig_R_core_clump1.png\n",
      "    + _build/html/tmp_2304.01718/figures/vir_R.png\n"
     ]
    }
   ],
   "source": [
    "for paper_id, md in documents:\n",
    "    export_markdown_summary(md, f\"{paper_id:s}.md\", '_build/html/')"
   ]
  },
  {
   "cell_type": "markdown",
   "id": "f087a0a7",
   "metadata": {
    "papermill": {
     "duration": 0.005638,
     "end_time": "2023-04-05T04:06:08.354919",
     "exception": false,
     "start_time": "2023-04-05T04:06:08.349281",
     "status": "completed"
    },
    "tags": []
   },
   "source": [
    "## Display the papers\n",
    "\n",
    "Not necessary but allows for a quick check."
   ]
  },
  {
   "cell_type": "code",
   "execution_count": 8,
   "id": "fd25f625",
   "metadata": {
    "execution": {
     "iopub.execute_input": "2023-04-05T04:06:08.367149Z",
     "iopub.status.busy": "2023-04-05T04:06:08.366507Z",
     "iopub.status.idle": "2023-04-05T04:06:08.372024Z",
     "shell.execute_reply": "2023-04-05T04:06:08.371381Z"
    },
    "papermill": {
     "duration": 0.013635,
     "end_time": "2023-04-05T04:06:08.373846",
     "exception": false,
     "start_time": "2023-04-05T04:06:08.360211",
     "status": "completed"
    },
    "scrolled": false,
    "tags": []
   },
   "outputs": [
    {
     "data": {
      "text/markdown": [
       "<div class=\"macros\" style=\"visibility:hidden;\">\n",
       "$\\newcommand{\\ensuremath}{}$\n",
       "$\\newcommand{\\xspace}{}$\n",
       "$\\newcommand{\\object}[1]{\\texttt{#1}}$\n",
       "$\\newcommand{\\farcs}{{.}''}$\n",
       "$\\newcommand{\\farcm}{{.}'}$\n",
       "$\\newcommand{\\arcsec}{''}$\n",
       "$\\newcommand{\\arcmin}{'}$\n",
       "$\\newcommand{\\ion}[2]{#1#2}$\n",
       "$\\newcommand{\\textsc}[1]{\\textrm{#1}}$\n",
       "$\\newcommand{\\hl}[1]{\\textrm{#1}}$\n",
       "$\\newcommand{\\footnote}[1]{}$\n",
       "$\\newcommand{\\vdag}{(v)^\\dagger}$\n",
       "$\\newcommand$\n",
       "$\\newcommand$\n",
       "$\\newcommand$\n",
       "$\\newcommand$\n",
       "$\\newcommand$\n",
       "$\\newcommand$\n",
       "$\\newcommand$\n",
       "$\\newcommand$\n",
       "$\\newcommand$\n",
       "$\\newcommand$\n",
       "$\\newcommand{\\HII}{H{\\scriptsize II}\\xspace}$\n",
       "$\\newcommand{\\um}{{\\mum}\\xspace}$\n",
       "$\\newcommand$\n",
       "$\\newcommand{\\SH}[1]{{\\color{red}  (SH: #1)}}$\n",
       "$\\newcommand{\\PS}[1]{{\\color{green}  PS: #1}}$\n",
       "$\\newcommand{\\QZcomment}[1]{{\\color{red}  (QZ; #1)}}$\n",
       "$\\newcommand{\\arcsec}{^{\\prime\\prime}\\xspace}$\n",
       "$\\newcommand{\\Mo}{M_{\\odot}\\xspace}$\n",
       "$\\newcommand{\\kms}{km~s^{-1}\\xspace}$\n",
       "$\\newcommand{\\co18}{C^{18}O}$\n",
       "$\\newcommand{\\dcop}{DCO^{+}\\xspace}$\n",
       "$\\newcommand{\\n2dp}{N_{2}D^{+}}$\n",
       "$\\newcommand{çd}{C_{2}D\\xspace}$\n",
       "$\\newcommand{\\ch3oh}{CH_{3}OH}$\n",
       "$\\newcommand{\\h2co}{H_{2}CO}$\n",
       "$\\newcommand{\\1}{\\uppercase\\expandafter{\\romannumeral1}}$\n",
       "$\\newcommand{\\2}{\\uppercase\\expandafter{\\romannumeral2}}$\n",
       "$\\newcommand{\\3}{\\uppercase\\expandafter{\\romannumeral3}}$\n",
       "$\\newcommand{\\6}{\\uppercase\\expandafter{\\romannumeral6}}$\n",
       "$\\newcommand{\\7}{\\uppercase\\expandafter{\\romannumeral7}}$\n",
       "$\\newcommand{\\8}{\\uppercase\\expandafter{\\romannumeral8}}$\n",
       "$\\newcommand{\\9}{\\uppercase\\expandafter{\\romannumeral9}}$</div>\n",
       "\n",
       "\n",
       "\n",
       "<div id=\"title\">\n",
       "\n",
       "# The ALMA Survey of 70 $\\mu$m Dark High-mass Clumps in Early Stages (ASHES). \\8. Dynamics of Embedded Dense Cores\n",
       "\n",
       "</div>\n",
       "<div id=\"comments\">\n",
       "\n",
       "[![arXiv](https://img.shields.io/badge/arXiv-2304.01718-b31b1b.svg)](https://arxiv.org/abs/2304.01718)<mark>Appeared on: 2023-04-05</mark> -  _29 pages, 14 figures, 5 tables. Accepted for publication by ApJ. Tables 2 and 3 are available here: this https URL_\n",
       "\n",
       "</div>\n",
       "<div id=\"authors\">\n",
       "\n",
       "<mark>S. Li</mark>, et al.\n",
       "\n",
       "</div>\n",
       "<div id=\"abstract\">\n",
       "\n",
       "**Abstract:** We present the dynamical properties of 294 coresembedded in twelve IRDCsobserved as part of the ASHES Survey.Protostellar cores have higher gas masses,surface densities, column densities, and volumedensities than prestellar cores, indicatingcore mass growth from the prestellar to the protostellarphase. We find that $\\sim$ 80 \\% of cores with virialparameter ( $\\alpha$ ) measurements are gravitationallybound ( $\\alpha<$ 2).  We also find an anticorrelationbetween the mass and the virial parameter of cores,with massive cores having on average lower virialparameters. Protostellar cores are more gravitationallybound than prestellar cores, with an average virialparameter of 1.2 and 1.5, respectively.The observed nonthermal velocity dispersion(from  N $_{2}$ D $^{+}$ or DCO $^{+}$ )is consistent with simulations in whichturbulence is continuously injected, whereas thecore-to-core velocity dispersion isneither in agreement with driven nor decaying turbulencesimulations. We find a no significant increment in the linevelocity dispersion from prestellar to protostellar cores,suggesting that the dense gas within the core tracedby these deuterated molecules is not yet severely affected byturbulence injected from outflow activity at the earlyevolutionary stages traced in ASHES. The most massivecores are strongly self-gravitating and havegreater surface density, Mach number, and velocitydispersion than cores with lower masses.Dense cores do not have significant velocity shiftsrelative to their low-density envelopes, suggesting that dense cores are comoving with their envelopes. We conclude that the observed core properties are more in line with the predictions of \"clump-fed\" scenarios rather than those of \"core-fed\" scenarios.\n",
       "\n",
       "</div>\n",
       "\n",
       "<div id=\"div_fig1\">\n",
       "\n",
       "<img src=\"tmp_2304.01718/figures/vir_hist.png\" alt=\"Fig6.1\" width=\"50%\"/><img src=\"tmp_2304.01718/figures/virial.png\" alt=\"Fig6.2\" width=\"50%\"/>\n",
       "\n",
       "**Figure 6. -** \n",
       "Panel (a): upper panel shows the number of\n",
       "sources per mass bin, and the bottom panel shows\n",
       "a box plot of the values of the virial parameter per bin.\n",
       "In the box plot, the mean value of the virial parameter\n",
       "is shown with a horizontal line.\n",
       "Panels (b) and (c): $\\alpha$ versus mass for all the\n",
       "cores where molecular emission from either $\\n$2dp\n",
       "or $\\dcop$ was detected. Panel (b) shows the\n",
       "cores color coded by their evolutionary stage\n",
       "classification \\citep{Li-2022b}, and panel (c) shows the\n",
       "cores color coded by their parental molecular cloud.\n",
       "The solid line in both figures shows the linear\n",
       "regression to all the point in the plot, gives a slope\n",
       "of -0.61 $\\pm$ 0.06, and the gray shadowed area\n",
       "shows the 1$\\sigma$ confidence interval\n",
       "for the fit. The Spearman's rank test returns a\n",
       "coefficient of $r_{s}$ = -0.68.\n",
       " (*fig:alpha*)\n",
       "\n",
       "</div>\n",
       "<div id=\"div_fig2\">\n",
       "\n",
       "<img src=\"tmp_2304.01718/figures/sig_R_core_clump3.png\" alt=\"Fig1.1\" width=\"33%\"/><img src=\"tmp_2304.01718/figures/sig_R_core_clump2.png\" alt=\"Fig1.2\" width=\"33%\"/><img src=\"tmp_2304.01718/figures/sig_R_core_clump1.png\" alt=\"Fig1.3\" width=\"33%\"/>\n",
       "\n",
       "**Figure 1. -** Observed velocity dispersion $\\sigma_{\\rm obs}$\n",
       "as a function of the radius.\n",
       "From upper to bottom, panels show the\n",
       "$\\sigma_{\\rm obs}$ versus radius for dense cores,\n",
       "clumps and dense core, and GMCs down to core,\n",
       "respectively.\n",
       "The blue solid line shows the linear regression to all\n",
       "the points in the plot,  and the gray shadowed\n",
       "area shows the 1$\\sigma$ confidence interval for the fit.\n",
       "The best fit returns slopes of 0.24 $\\pm$ 0.08,\n",
       "0.46 $\\pm$ 0.01, and 0.35 $\\pm$ 0.01 for upper,\n",
       "middle, and bottom panels, respectively.\n",
       "The Spearman's rank coefficients between observed\n",
       "velocity and radius are presented in the lower right\n",
       "corner in each panel.\n",
       "The black dashed line shows the the original Larson\n",
       "relation with  $\\sigma_{\\rm obs} \\propto R^{0.38}$\\citep{Larson-1981}, and the red\n",
       "dashed line is the revised \\cite{Heyer-2004} relation\n",
       "with $\\sigma_{\\rm obs} \\propto R^{0.56}$.\n",
       " (*fig:sigrad*)\n",
       "\n",
       "</div>\n",
       "<div id=\"div_fig3\">\n",
       "\n",
       "<img src=\"tmp_2304.01718/figures/vir_R.png\" alt=\"Fig7\" width=\"100%\"/>\n",
       "\n",
       "**Figure 7. -** Left panel: virial parameter versus surface\n",
       "density.\n",
       "Right panel: virial parameter versus peak column\n",
       "density.\n",
       "The blue solid line in both figures shows the linear\n",
       "regression to all the point in the plot, and the gray\n",
       "shadowed area shows the 1$\\sigma$ confidence interval\n",
       "for the fit. The best fit gives a slope\n",
       "-1.22 $\\pm$ 0.15 and -1.17 $\\pm$ 0.13 for\n",
       "$\\alpha$--$\\Sigma$ and $\\alpha$--$N_{\\rm H_2}$,\n",
       "respectively.\n",
       "The Spearman's rank coefficients are shown in the\n",
       "lower left of each panel.\n",
       " (*fig:alpha1*)\n",
       "\n",
       "</div><div id=\"qrcode\"><img src=https://api.qrserver.com/v1/create-qr-code/?size=100x100&data=\"https://arxiv.org/abs/2304.01718\"></div>"
      ],
      "text/plain": [
       "<IPython.core.display.Markdown object>"
      ]
     },
     "metadata": {},
     "output_type": "display_data"
    }
   ],
   "source": [
    "[display(Markdown(k[1])) for k in documents];"
   ]
  },
  {
   "cell_type": "markdown",
   "id": "873873a4",
   "metadata": {
    "papermill": {
     "duration": 0.005639,
     "end_time": "2023-04-05T04:06:08.385184",
     "exception": false,
     "start_time": "2023-04-05T04:06:08.379545",
     "status": "completed"
    },
    "tags": []
   },
   "source": [
    "# Create HTML index"
   ]
  },
  {
   "cell_type": "code",
   "execution_count": 9,
   "id": "cf665672",
   "metadata": {
    "execution": {
     "iopub.execute_input": "2023-04-05T04:06:08.398260Z",
     "iopub.status.busy": "2023-04-05T04:06:08.397526Z",
     "iopub.status.idle": "2023-04-05T04:06:08.407604Z",
     "shell.execute_reply": "2023-04-05T04:06:08.406747Z"
    },
    "papermill": {
     "duration": 0.018452,
     "end_time": "2023-04-05T04:06:08.409370",
     "exception": false,
     "start_time": "2023-04-05T04:06:08.390918",
     "status": "completed"
    },
    "tags": []
   },
   "outputs": [
    {
     "name": "stdout",
     "output_type": "stream",
     "text": [
      "183  publications files modified in the last 7 days.\n"
     ]
    }
   ],
   "source": [
    "from datetime import datetime, timedelta, timezone\n",
    "from glob import glob\n",
    "import os\n",
    "\n",
    "files = glob('_build/html/*.md')\n",
    "days = 7\n",
    "now = datetime.today()\n",
    "res = []\n",
    "for fk in files:\n",
    "    stat_result = os.stat(fk).st_ctime\n",
    "    modified = datetime.fromtimestamp(stat_result, tz=timezone.utc).replace(tzinfo=None)\n",
    "    delta = now.today() - modified\n",
    "    if delta <= timedelta(days=days):\n",
    "        res.append((delta.seconds, fk))\n",
    "res = [k[1] for k in reversed(sorted(res, key=lambda x:x[1]))]\n",
    "npub = len(res)\n",
    "print(len(res), f\" publications files modified in the last {days:d} days.\")\n",
    "# [ print('\\t', k) for k in res ];"
   ]
  },
  {
   "cell_type": "code",
   "execution_count": 10,
   "id": "015de740",
   "metadata": {
    "execution": {
     "iopub.execute_input": "2023-04-05T04:06:08.422282Z",
     "iopub.status.busy": "2023-04-05T04:06:08.421797Z",
     "iopub.status.idle": "2023-04-05T04:06:08.449885Z",
     "shell.execute_reply": "2023-04-05T04:06:08.449273Z"
    },
    "papermill": {
     "duration": 0.03677,
     "end_time": "2023-04-05T04:06:08.451893",
     "exception": false,
     "start_time": "2023-04-05T04:06:08.415123",
     "status": "completed"
    },
    "tags": []
   },
   "outputs": [
    {
     "name": "stdout",
     "output_type": "stream",
     "text": [
      "7  publications in the last 7 days.\n"
     ]
    }
   ],
   "source": [
    "import datetime\n",
    "from glob import glob\n",
    "\n",
    "def get_last_n_days(lst, days=1):\n",
    "    \"\"\" Get the documents from the last n days \"\"\"\n",
    "    sorted_lst = sorted(lst, key=lambda x: x[1], reverse=True)\n",
    "    for fname, date in sorted_lst:\n",
    "        if date >= str(datetime.date.today() - datetime.timedelta(days=days)):\n",
    "            yield fname\n",
    "\n",
    "def extract_appearance_dates(lst_file):\n",
    "    dates = []\n",
    "\n",
    "    def get_date(line):\n",
    "        return line\\\n",
    "            .split('Appeared on:')[-1]\\\n",
    "            .split('</mark>')[0].strip()\n",
    "\n",
    "    for fname in lst:\n",
    "        with open(fname, 'r') as f:\n",
    "            found_date = False\n",
    "            for line in f:\n",
    "                if not found_date:\n",
    "                    if \"Appeared on\" in line:\n",
    "                        found_date = True\n",
    "                        dates.append((fname, get_date(line)))\n",
    "                else:\n",
    "                    break\n",
    "    return dates\n",
    "\n",
    "from glob import glob\n",
    "lst = glob('_build/html/*md')\n",
    "days = 7\n",
    "dates = extract_appearance_dates(lst)\n",
    "res = list(get_last_n_days(dates, days))\n",
    "npub = len(res)\n",
    "print(len(res), f\" publications in the last {days:d} days.\")"
   ]
  },
  {
   "cell_type": "code",
   "execution_count": 11,
   "id": "52ca0208",
   "metadata": {
    "execution": {
     "iopub.execute_input": "2023-04-05T04:06:08.466283Z",
     "iopub.status.busy": "2023-04-05T04:06:08.465561Z",
     "iopub.status.idle": "2023-04-05T04:06:08.471932Z",
     "shell.execute_reply": "2023-04-05T04:06:08.471070Z"
    },
    "papermill": {
     "duration": 0.015211,
     "end_time": "2023-04-05T04:06:08.473599",
     "exception": false,
     "start_time": "2023-04-05T04:06:08.458388",
     "status": "completed"
    },
    "scrolled": false,
    "tags": []
   },
   "outputs": [],
   "source": [
    "def create_carousel(npub=4):\n",
    "    \"\"\" Generate the HTML code for a carousel with `npub` slides \"\"\"\n",
    "    carousel = [\"\"\"  <div class=\"carousel\" \"\"\",\n",
    "                \"\"\"       data-flickity='{ \"autoPlay\": 10000, \"adaptiveHeight\": true, \"resize\": true, \"wrapAround\": true, \"pauseAutoPlayOnHover\": true, \"groupCells\": 1 }' id=\"asyncTypeset\">\"\"\"\n",
    "                ]\n",
    "    \n",
    "    item_str = \"\"\"    <div class=\"carousel-cell\"> <div id=\"slide{k}\" class=\"md_view\">Content {k}</div> </div>\"\"\"\n",
    "    for k in range(1, npub + 1):\n",
    "        carousel.append(item_str.format(k=k))\n",
    "    carousel.append(\"  </div>\")\n",
    "    return '\\n'.join(carousel)\n",
    "\n",
    "def create_grid(npub=4):\n",
    "    \"\"\" Generate the HTML code for a flat grid with `npub` slides \"\"\"\n",
    "    grid = [\"\"\"  <div class=\"grid\"> \"\"\",\n",
    "                ]\n",
    "    \n",
    "    item_str = \"\"\"    <div class=\"grid-item\"> <div id=\"slide{k}\" class=\"md_view\">Content {k}</div> </div>\"\"\"\n",
    "    for k in range(1, npub + 1):\n",
    "        grid.append(item_str.format(k=k))\n",
    "    grid.append(\"  </div>\")\n",
    "    return '\\n'.join(grid)"
   ]
  },
  {
   "cell_type": "code",
   "execution_count": 12,
   "id": "a6eac5b6",
   "metadata": {
    "execution": {
     "iopub.execute_input": "2023-04-05T04:06:08.487096Z",
     "iopub.status.busy": "2023-04-05T04:06:08.486372Z",
     "iopub.status.idle": "2023-04-05T04:06:08.492382Z",
     "shell.execute_reply": "2023-04-05T04:06:08.491779Z"
    },
    "papermill": {
     "duration": 0.014587,
     "end_time": "2023-04-05T04:06:08.494040",
     "exception": false,
     "start_time": "2023-04-05T04:06:08.479453",
     "status": "completed"
    },
    "scrolled": false,
    "tags": []
   },
   "outputs": [],
   "source": [
    "carousel = create_carousel(npub)\n",
    "docs = ', '.join(['\"{0:s}\"'.format(k.split('/')[-1]) for k in res])\n",
    "slides = ', '.join([f'\"slide{k}\"' for k in range(1, npub + 1)])\n",
    "\n",
    "with open(\"daily_template.html\", \"r\") as tpl:\n",
    "    page = tpl.read()\n",
    "    page = page.replace(\"{%-- carousel:s --%}\", carousel)\\\n",
    "               .replace(\"{%-- suptitle:s --%}\",  \"7-day archives\" )\\\n",
    "               .replace(\"{%-- docs:s --%}\", docs)\\\n",
    "               .replace(\"{%-- slides:s --%}\", slides)\n",
    "    \n",
    "with open(\"_build/html/index_7days.html\", 'w') as fout:\n",
    "    fout.write(page)"
   ]
  },
  {
   "cell_type": "code",
   "execution_count": 13,
   "id": "adc1a1ec",
   "metadata": {
    "execution": {
     "iopub.execute_input": "2023-04-05T04:06:08.507601Z",
     "iopub.status.busy": "2023-04-05T04:06:08.507121Z",
     "iopub.status.idle": "2023-04-05T04:06:08.514724Z",
     "shell.execute_reply": "2023-04-05T04:06:08.514131Z"
    },
    "papermill": {
     "duration": 0.016104,
     "end_time": "2023-04-05T04:06:08.516322",
     "exception": false,
     "start_time": "2023-04-05T04:06:08.500218",
     "status": "completed"
    },
    "tags": []
   },
   "outputs": [
    {
     "name": "stdout",
     "output_type": "stream",
     "text": [
      "2  publications in the last day.\n"
     ]
    }
   ],
   "source": [
    "# redo for today\n",
    "days = 1\n",
    "res = list(get_last_n_days(dates, days))\n",
    "npub = len(res)\n",
    "print(len(res), f\" publications in the last day.\")\n",
    "\n",
    "carousel = create_carousel(npub)\n",
    "docs = ', '.join(['\"{0:s}\"'.format(k.split('/')[-1]) for k in res])\n",
    "slides = ', '.join([f'\"slide{k}\"' for k in range(1, npub + 1)])\n",
    "\n",
    "with open(\"daily_template.html\", \"r\") as tpl:\n",
    "    page = tpl.read()\n",
    "    page = page.replace(\"{%-- carousel:s --%}\", carousel)\\\n",
    "               .replace(\"{%-- suptitle:s --%}\",  \"Daily\" )\\\n",
    "               .replace(\"{%-- docs:s --%}\", docs)\\\n",
    "               .replace(\"{%-- slides:s --%}\", slides)\n",
    "    \n",
    "# print(carousel, docs, slides)\n",
    "# print(page)\n",
    "with open(\"_build/html/index_daily.html\", 'w') as fout:\n",
    "    fout.write(page)"
   ]
  },
  {
   "cell_type": "code",
   "execution_count": 14,
   "id": "00eece82",
   "metadata": {
    "execution": {
     "iopub.execute_input": "2023-04-05T04:06:08.530718Z",
     "iopub.status.busy": "2023-04-05T04:06:08.530015Z",
     "iopub.status.idle": "2023-04-05T04:06:08.539330Z",
     "shell.execute_reply": "2023-04-05T04:06:08.538459Z"
    },
    "papermill": {
     "duration": 0.018595,
     "end_time": "2023-04-05T04:06:08.541051",
     "exception": false,
     "start_time": "2023-04-05T04:06:08.522456",
     "status": "completed"
    },
    "scrolled": false,
    "tags": []
   },
   "outputs": [
    {
     "name": "stdout",
     "output_type": "stream",
     "text": [
      "6  6 publications selected.\n"
     ]
    }
   ],
   "source": [
    "# Create the flat grid of the last N papers (fixed number regardless of dates)\n",
    "from itertools import islice \n",
    "\n",
    "npub = 6\n",
    "res = [k[0] for k in (islice(reversed(sorted(dates, key=lambda x: x[1])), 6))]\n",
    "print(len(res), f\" {npub} publications selected.\")\n",
    "\n",
    "grid = create_grid(npub)\n",
    "docs = ', '.join(['\"{0:s}\"'.format(k.split('/')[-1]) for k in res])\n",
    "slides = ', '.join([f'\"slide{k}\"' for k in range(1, npub + 1)])\n",
    "\n",
    "with open(\"grid_template.html\", \"r\") as tpl:\n",
    "    page = tpl.read()\n",
    "    page = page.replace(\"{%-- grid-content:s --%}\", grid)\\\n",
    "               .replace(\"{%-- suptitle:s --%}\",  f\"Last {npub:,d} papers\" )\\\n",
    "               .replace(\"{%-- docs:s --%}\", docs)\\\n",
    "               .replace(\"{%-- slides:s --%}\", slides)\n",
    "    \n",
    "# print(grid, docs, slides)\n",
    "# print(page)\n",
    "with open(\"_build/html/index_npub_grid.html\", 'w') as fout:\n",
    "    fout.write(page)"
   ]
  }
 ],
 "metadata": {
  "kernelspec": {
   "display_name": "Python 3 (ipykernel)",
   "language": "python",
   "name": "python3"
  },
  "language_info": {
   "codemirror_mode": {
    "name": "ipython",
    "version": 3
   },
   "file_extension": ".py",
   "mimetype": "text/x-python",
   "name": "python",
   "nbconvert_exporter": "python",
   "pygments_lexer": "ipython3",
   "version": "3.9.16"
  },
  "papermill": {
   "default_parameters": {},
   "duration": 87.324976,
   "end_time": "2023-04-05T04:06:08.866046",
   "environment_variables": {},
   "exception": null,
   "input_path": "MPIA daily digest.ipynb",
   "output_path": "log.ipynb",
   "parameters": {},
   "start_time": "2023-04-05T04:04:41.541070",
   "version": "2.4.0"
  },
  "vscode": {
   "interpreter": {
    "hash": "aee8b7b246df8f9039afb4144a1f6fd8d2ca17a180786b69acc140d282b71a49"
   }
  },
  "widgets": {
   "application/vnd.jupyter.widget-state+json": {
    "state": {
     "21b08bdc8871441687c979a2aa5b8825": {
      "model_module": "@jupyter-widgets/base",
      "model_module_version": "2.0.0",
      "model_name": "LayoutModel",
      "state": {
       "_model_module": "@jupyter-widgets/base",
       "_model_module_version": "2.0.0",
       "_model_name": "LayoutModel",
       "_view_count": null,
       "_view_module": "@jupyter-widgets/base",
       "_view_module_version": "2.0.0",
       "_view_name": "LayoutView",
       "align_content": null,
       "align_items": null,
       "align_self": null,
       "border_bottom": null,
       "border_left": null,
       "border_right": null,
       "border_top": null,
       "bottom": null,
       "display": null,
       "flex": null,
       "flex_flow": null,
       "grid_area": null,
       "grid_auto_columns": null,
       "grid_auto_flow": null,
       "grid_auto_rows": null,
       "grid_column": null,
       "grid_gap": null,
       "grid_row": null,
       "grid_template_areas": null,
       "grid_template_columns": null,
       "grid_template_rows": null,
       "height": null,
       "justify_content": null,
       "justify_items": null,
       "left": null,
       "margin": null,
       "max_height": null,
       "max_width": null,
       "min_height": null,
       "min_width": null,
       "object_fit": null,
       "object_position": null,
       "order": null,
       "overflow": null,
       "padding": null,
       "right": null,
       "top": null,
       "visibility": null,
       "width": null
      }
     },
     "23405a214c86445fb1562791d1675f7b": {
      "model_module": "@jupyter-widgets/controls",
      "model_module_version": "2.0.0",
      "model_name": "HTMLStyleModel",
      "state": {
       "_model_module": "@jupyter-widgets/controls",
       "_model_module_version": "2.0.0",
       "_model_name": "HTMLStyleModel",
       "_view_count": null,
       "_view_module": "@jupyter-widgets/base",
       "_view_module_version": "2.0.0",
       "_view_name": "StyleView",
       "background": null,
       "description_width": "",
       "font_size": null,
       "text_color": null
      }
     },
     "4bb4c257b2544b33b0bdfe87e039cf51": {
      "model_module": "@jupyter-widgets/controls",
      "model_module_version": "2.0.0",
      "model_name": "FloatProgressModel",
      "state": {
       "_dom_classes": [],
       "_model_module": "@jupyter-widgets/controls",
       "_model_module_version": "2.0.0",
       "_model_name": "FloatProgressModel",
       "_view_count": null,
       "_view_module": "@jupyter-widgets/controls",
       "_view_module_version": "2.0.0",
       "_view_name": "ProgressView",
       "bar_style": "success",
       "description": "",
       "description_allow_html": false,
       "layout": "IPY_MODEL_ed8f891363704dbaaa75c90f646913b2",
       "max": 2.0,
       "min": 0.0,
       "orientation": "horizontal",
       "style": "IPY_MODEL_750ba257132a46ab8108ac70266cc4a9",
       "tabbable": null,
       "tooltip": null,
       "value": 2.0
      }
     },
     "750ba257132a46ab8108ac70266cc4a9": {
      "model_module": "@jupyter-widgets/controls",
      "model_module_version": "2.0.0",
      "model_name": "ProgressStyleModel",
      "state": {
       "_model_module": "@jupyter-widgets/controls",
       "_model_module_version": "2.0.0",
       "_model_name": "ProgressStyleModel",
       "_view_count": null,
       "_view_module": "@jupyter-widgets/base",
       "_view_module_version": "2.0.0",
       "_view_name": "StyleView",
       "bar_color": null,
       "description_width": ""
      }
     },
     "7c0e236db9c74e659754444b93fee532": {
      "model_module": "@jupyter-widgets/controls",
      "model_module_version": "2.0.0",
      "model_name": "HTMLStyleModel",
      "state": {
       "_model_module": "@jupyter-widgets/controls",
       "_model_module_version": "2.0.0",
       "_model_name": "HTMLStyleModel",
       "_view_count": null,
       "_view_module": "@jupyter-widgets/base",
       "_view_module_version": "2.0.0",
       "_view_name": "StyleView",
       "background": null,
       "description_width": "",
       "font_size": null,
       "text_color": null
      }
     },
     "8e1cd759193244e4aa7a6539604b7814": {
      "model_module": "@jupyter-widgets/base",
      "model_module_version": "2.0.0",
      "model_name": "LayoutModel",
      "state": {
       "_model_module": "@jupyter-widgets/base",
       "_model_module_version": "2.0.0",
       "_model_name": "LayoutModel",
       "_view_count": null,
       "_view_module": "@jupyter-widgets/base",
       "_view_module_version": "2.0.0",
       "_view_name": "LayoutView",
       "align_content": null,
       "align_items": null,
       "align_self": null,
       "border_bottom": null,
       "border_left": null,
       "border_right": null,
       "border_top": null,
       "bottom": null,
       "display": null,
       "flex": null,
       "flex_flow": null,
       "grid_area": null,
       "grid_auto_columns": null,
       "grid_auto_flow": null,
       "grid_auto_rows": null,
       "grid_column": null,
       "grid_gap": null,
       "grid_row": null,
       "grid_template_areas": null,
       "grid_template_columns": null,
       "grid_template_rows": null,
       "height": null,
       "justify_content": null,
       "justify_items": null,
       "left": null,
       "margin": null,
       "max_height": null,
       "max_width": null,
       "min_height": null,
       "min_width": null,
       "object_fit": null,
       "object_position": null,
       "order": null,
       "overflow": null,
       "padding": null,
       "right": null,
       "top": null,
       "visibility": null,
       "width": null
      }
     },
     "a615860e36824884a0d9ef5d99146c7f": {
      "model_module": "@jupyter-widgets/controls",
      "model_module_version": "2.0.0",
      "model_name": "HTMLModel",
      "state": {
       "_dom_classes": [],
       "_model_module": "@jupyter-widgets/controls",
       "_model_module_version": "2.0.0",
       "_model_name": "HTMLModel",
       "_view_count": null,
       "_view_module": "@jupyter-widgets/controls",
       "_view_module_version": "2.0.0",
       "_view_name": "HTMLView",
       "description": "",
       "description_allow_html": false,
       "layout": "IPY_MODEL_21b08bdc8871441687c979a2aa5b8825",
       "placeholder": "​",
       "style": "IPY_MODEL_7c0e236db9c74e659754444b93fee532",
       "tabbable": null,
       "tooltip": null,
       "value": "100%"
      }
     },
     "add617d35c2e497ba3b4ab56d7e063f5": {
      "model_module": "@jupyter-widgets/controls",
      "model_module_version": "2.0.0",
      "model_name": "HTMLModel",
      "state": {
       "_dom_classes": [],
       "_model_module": "@jupyter-widgets/controls",
       "_model_module_version": "2.0.0",
       "_model_name": "HTMLModel",
       "_view_count": null,
       "_view_module": "@jupyter-widgets/controls",
       "_view_module_version": "2.0.0",
       "_view_name": "HTMLView",
       "description": "",
       "description_allow_html": false,
       "layout": "IPY_MODEL_8e1cd759193244e4aa7a6539604b7814",
       "placeholder": "​",
       "style": "IPY_MODEL_23405a214c86445fb1562791d1675f7b",
       "tabbable": null,
       "tooltip": null,
       "value": " 2/2 [00:58&lt;00:00, 33.93s/it]"
      }
     },
     "dad89c6685fc446db565290c82855df0": {
      "model_module": "@jupyter-widgets/controls",
      "model_module_version": "2.0.0",
      "model_name": "HBoxModel",
      "state": {
       "_dom_classes": [],
       "_model_module": "@jupyter-widgets/controls",
       "_model_module_version": "2.0.0",
       "_model_name": "HBoxModel",
       "_view_count": null,
       "_view_module": "@jupyter-widgets/controls",
       "_view_module_version": "2.0.0",
       "_view_name": "HBoxView",
       "box_style": "",
       "children": [
        "IPY_MODEL_a615860e36824884a0d9ef5d99146c7f",
        "IPY_MODEL_4bb4c257b2544b33b0bdfe87e039cf51",
        "IPY_MODEL_add617d35c2e497ba3b4ab56d7e063f5"
       ],
       "layout": "IPY_MODEL_ebb5a142ffdb43e79342266893c1b997",
       "tabbable": null,
       "tooltip": null
      }
     },
     "ebb5a142ffdb43e79342266893c1b997": {
      "model_module": "@jupyter-widgets/base",
      "model_module_version": "2.0.0",
      "model_name": "LayoutModel",
      "state": {
       "_model_module": "@jupyter-widgets/base",
       "_model_module_version": "2.0.0",
       "_model_name": "LayoutModel",
       "_view_count": null,
       "_view_module": "@jupyter-widgets/base",
       "_view_module_version": "2.0.0",
       "_view_name": "LayoutView",
       "align_content": null,
       "align_items": null,
       "align_self": null,
       "border_bottom": null,
       "border_left": null,
       "border_right": null,
       "border_top": null,
       "bottom": null,
       "display": null,
       "flex": null,
       "flex_flow": null,
       "grid_area": null,
       "grid_auto_columns": null,
       "grid_auto_flow": null,
       "grid_auto_rows": null,
       "grid_column": null,
       "grid_gap": null,
       "grid_row": null,
       "grid_template_areas": null,
       "grid_template_columns": null,
       "grid_template_rows": null,
       "height": null,
       "justify_content": null,
       "justify_items": null,
       "left": null,
       "margin": null,
       "max_height": null,
       "max_width": null,
       "min_height": null,
       "min_width": null,
       "object_fit": null,
       "object_position": null,
       "order": null,
       "overflow": null,
       "padding": null,
       "right": null,
       "top": null,
       "visibility": null,
       "width": null
      }
     },
     "ed8f891363704dbaaa75c90f646913b2": {
      "model_module": "@jupyter-widgets/base",
      "model_module_version": "2.0.0",
      "model_name": "LayoutModel",
      "state": {
       "_model_module": "@jupyter-widgets/base",
       "_model_module_version": "2.0.0",
       "_model_name": "LayoutModel",
       "_view_count": null,
       "_view_module": "@jupyter-widgets/base",
       "_view_module_version": "2.0.0",
       "_view_name": "LayoutView",
       "align_content": null,
       "align_items": null,
       "align_self": null,
       "border_bottom": null,
       "border_left": null,
       "border_right": null,
       "border_top": null,
       "bottom": null,
       "display": null,
       "flex": null,
       "flex_flow": null,
       "grid_area": null,
       "grid_auto_columns": null,
       "grid_auto_flow": null,
       "grid_auto_rows": null,
       "grid_column": null,
       "grid_gap": null,
       "grid_row": null,
       "grid_template_areas": null,
       "grid_template_columns": null,
       "grid_template_rows": null,
       "height": null,
       "justify_content": null,
       "justify_items": null,
       "left": null,
       "margin": null,
       "max_height": null,
       "max_width": null,
       "min_height": null,
       "min_width": null,
       "object_fit": null,
       "object_position": null,
       "order": null,
       "overflow": null,
       "padding": null,
       "right": null,
       "top": null,
       "visibility": null,
       "width": null
      }
     }
    },
    "version_major": 2,
    "version_minor": 0
   }
  }
 },
 "nbformat": 4,
 "nbformat_minor": 5
}