{
 "cells": [
  {
   "cell_type": "markdown",
   "id": "92bcb855",
   "metadata": {
    "papermill": {
     "duration": 0.003792,
     "end_time": "2025-06-23T04:25:56.175919",
     "exception": false,
     "start_time": "2025-06-23T04:25:56.172127",
     "status": "completed"
    },
    "tags": []
   },
   "source": [
    "# MPIA Arxiv on Deck 2\n",
    "\n",
    "Contains the steps to produce the paper extractions."
   ]
  },
  {
   "cell_type": "code",
   "execution_count": 1,
   "id": "3a0d6e11",
   "metadata": {
    "execution": {
     "iopub.execute_input": "2025-06-23T04:25:56.183661Z",
     "iopub.status.busy": "2025-06-23T04:25:56.183046Z",
     "iopub.status.idle": "2025-06-23T04:25:56.411699Z",
     "shell.execute_reply": "2025-06-23T04:25:56.410966Z"
    },
    "papermill": {
     "duration": 0.234013,
     "end_time": "2025-06-23T04:25:56.413211",
     "exception": false,
     "start_time": "2025-06-23T04:25:56.179198",
     "status": "completed"
    },
    "tags": []
   },
   "outputs": [],
   "source": [
    "# Imports\n",
    "import os\n",
    "from IPython.display import Markdown, display\n",
    "from tqdm.notebook import tqdm\n",
    "import warnings\n",
    "from PIL import Image \n",
    "import re\n",
    "\n",
    "# requires arxiv_on_deck_2\n",
    "\n",
    "from arxiv_on_deck_2.arxiv2 import (get_new_papers, \n",
    "                                    get_paper_from_identifier,\n",
    "                                    retrieve_document_source, \n",
    "                                    get_markdown_badge)\n",
    "from arxiv_on_deck_2 import (latex,\n",
    "                             latex_bib,\n",
    "                             mpia,\n",
    "                             highlight_authors_in_list)\n",
    "\n",
    "# Sometimes images are really big\n",
    "Image.MAX_IMAGE_PIXELS = 1000000000 "
   ]
  },
  {
   "cell_type": "code",
   "execution_count": 2,
   "id": "22aa9d44",
   "metadata": {
    "execution": {
     "iopub.execute_input": "2025-06-23T04:25:56.420542Z",
     "iopub.status.busy": "2025-06-23T04:25:56.420338Z",
     "iopub.status.idle": "2025-06-23T04:25:56.428268Z",
     "shell.execute_reply": "2025-06-23T04:25:56.427606Z"
    },
    "papermill": {
     "duration": 0.012885,
     "end_time": "2025-06-23T04:25:56.429305",
     "exception": false,
     "start_time": "2025-06-23T04:25:56.416420",
     "status": "completed"
    },
    "tags": []
   },
   "outputs": [],
   "source": [
    "# Some useful definitions.\n",
    "\n",
    "class AffiliationWarning(UserWarning):\n",
    "    pass\n",
    "\n",
    "class AffiliationError(RuntimeError):\n",
    "    pass\n",
    "\n",
    "def validation(source: str):\n",
    "    \"\"\"Raises error paper during parsing of source file\n",
    "    \n",
    "    Allows checks before parsing TeX code.\n",
    "    \n",
    "    Raises AffiliationWarning\n",
    "    \"\"\"\n",
    "    check = mpia.affiliation_verifications(source, verbose=True)\n",
    "    if check is not True:\n",
    "        raise AffiliationError(\"mpia.affiliation_verifications: \" + check)\n",
    "\n",
    "        \n",
    "warnings.simplefilter('always', AffiliationWarning)\n",
    "\n",
    "\n",
    "def get_markdown_qrcode(paper_id: str):\n",
    "    \"\"\" Generate a qrcode to the arxiv page using qrserver.com\n",
    "    \n",
    "    :param paper: Arxiv paper\n",
    "    :returns: markdown text\n",
    "    \"\"\"\n",
    "    url = r\"https://api.qrserver.com/v1/create-qr-code/?size=100x100&data=\"\n",
    "    txt = f\"\"\"<img src={url}\"https://arxiv.org/abs/{paper_id}\">\"\"\"\n",
    "    txt = '<div id=\"qrcode\">' + txt + '</div>'\n",
    "    return txt\n",
    "\n",
    "\n",
    "def clean_non_western_encoded_characters_commands(text: str) -> str:\n",
    "    \"\"\" Remove non-western encoded characters from a string\n",
    "    List may need to grow.\n",
    "    \n",
    "    :param text: the text to clean\n",
    "    :return: the cleaned text\n",
    "    \"\"\"\n",
    "    text = re.sub(r\"(\\\\begin{CJK}{UTF8}{gbsn})(.*?)(\\\\end{CJK})\", r\"\\2\", text)\n",
    "    return text\n",
    "\n",
    "\n",
    "def get_initials(name: str) -> str:\n",
    "    \"\"\" Get the short name, e.g., A.-B. FamName\n",
    "    :param name: full name\n",
    "    :returns: initials\n",
    "    \"\"\"\n",
    "    initials = []\n",
    "    # account for non western names often in ()\n",
    "    if '(' in name:\n",
    "        name = clean_non_western_encoded_characters_commands(name)\n",
    "        suffix = re.findall(r\"\\((.*?)\\)\", name)[0]\n",
    "        name = name.replace(f\"({suffix})\", '')\n",
    "    else:\n",
    "        suffix = ''\n",
    "    split = name.split()\n",
    "    for token in split[:-1]:\n",
    "        if '-' in token:\n",
    "            current = '-'.join([k[0] + '.' for k in token.split('-')])\n",
    "        else:\n",
    "            current = token[0] + '.'\n",
    "        initials.append(current)\n",
    "    initials.append(split[-1].strip())\n",
    "    if suffix:\n",
    "        initials.append(f\"({suffix})\")\n",
    "    return ' '.join(initials)"
   ]
  },
  {
   "cell_type": "markdown",
   "id": "14bd6310",
   "metadata": {
    "papermill": {
     "duration": 0.002839,
     "end_time": "2025-06-23T04:25:56.435080",
     "exception": false,
     "start_time": "2025-06-23T04:25:56.432241",
     "status": "completed"
    },
    "tags": []
   },
   "source": [
    "## get list of arxiv paper candidates\n",
    "\n",
    "We use the MPIA mitarbeiter list webpage from mpia.de to get author names\n",
    "We then get all new papers from Arxiv and match authors"
   ]
  },
  {
   "cell_type": "code",
   "execution_count": 3,
   "id": "7ea813a8",
   "metadata": {
    "execution": {
     "iopub.execute_input": "2025-06-23T04:25:56.441653Z",
     "iopub.status.busy": "2025-06-23T04:25:56.441453Z",
     "iopub.status.idle": "2025-06-23T04:26:16.499242Z",
     "shell.execute_reply": "2025-06-23T04:26:16.498532Z"
    },
    "papermill": {
     "duration": 20.062477,
     "end_time": "2025-06-23T04:26:16.500448",
     "exception": false,
     "start_time": "2025-06-23T04:25:56.437971",
     "status": "completed"
    },
    "tags": []
   },
   "outputs": [],
   "source": [
    "# deal with the author list and edge cases of people that cannot be consistent on their name  \n",
    "\n",
    "def filter_non_scientists(name: str) -> bool:\n",
    "    \"\"\" Loose filter on expected authorships\n",
    "\n",
    "    removing IT, administration, technical staff\n",
    "    :param name: name\n",
    "    :returns: False if name is not a scientist\n",
    "    \"\"\"\n",
    "    remove_list = ['Licht', 'Binroth', 'Witzel', 'Jordan',\n",
    "                   'Zähringer', 'Scheerer', 'Hoffmann', 'Düe',\n",
    "                   'Hellmich', 'Enkler-Scharpegge', 'Witte-Nguy',\n",
    "                   'Dehen', 'Beckmann', 'Jager', 'Jäger'\n",
    "                  ]\n",
    "\n",
    "    for k in remove_list:\n",
    "        if k in name:\n",
    "            return False\n",
    "    return True\n",
    "\n",
    "def add_author_to_list(author_list: list) -> list:\n",
    "    \"\"\" Add author to list if not already in list\n",
    "    \n",
    "    :param author: author name\n",
    "    :param author_list: list of authors\n",
    "    :returns: updated list of authors\n",
    "    \"\"\"\n",
    "    add_list = ['T. Henning']\n",
    "\n",
    "    for author in add_list:\n",
    "        if author not in author_list:\n",
    "            author_list.append(author)\n",
    "    return author_list\n",
    "\n",
    "# get list from MPIA website\n",
    "# filter for non-scientists (mpia.get_mpia_mitarbeiter_list() does some filtering)\n",
    "mpia_authors = [k[1] for k in mpia.get_mpia_mitarbeiter_list() if filter_non_scientists(k[1])]\n",
    "# add some missing author because of inconsistencies in their MPIA name and author name on papers\n",
    "mpia_authors = add_author_to_list(mpia_authors)"
   ]
  },
  {
   "cell_type": "code",
   "execution_count": 4,
   "id": "2645e73a",
   "metadata": {
    "execution": {
     "iopub.execute_input": "2025-06-23T04:26:16.509216Z",
     "iopub.status.busy": "2025-06-23T04:26:16.508363Z",
     "iopub.status.idle": "2025-06-23T04:26:17.337784Z",
     "shell.execute_reply": "2025-06-23T04:26:17.337087Z"
    },
    "papermill": {
     "duration": 0.835138,
     "end_time": "2025-06-23T04:26:17.338913",
     "exception": false,
     "start_time": "2025-06-23T04:26:16.503775",
     "status": "completed"
    },
    "tags": []
   },
   "outputs": [
    {
     "name": "stdout",
     "output_type": "stream",
     "text": [
      "N. Bachmann  ->  N. Bachmann  |  ['N. Bachmann']\n",
      "L. Kreidberg  ->  L. Kreidberg  |  ['L. Kreidberg']\n",
      "P. Mollière  ->  P. Mollière  |  ['P. Mollière']\n",
      "F. Zagaria  ->  F. Zagaria  |  ['F. Zagaria']\n",
      "H. Jiang  ->  H. Jiang  |  ['H. Jiang']\n",
      "M. Benisty  ->  M. Benisty  |  ['M. Benisty']\n",
      "D. Fasano  ->  D. Fasano  |  ['D. Fasano']\n",
      "I. Hammond  ->  I. Hammond  |  ['I. Hammond']\n",
      "A. Winter  ->  A. Winter  |  ['A. Winter']\n",
      "K. El-Badry  ->  K. El-Badry  |  ['K. El-Badry']\n",
      "H. Klahr  ->  H. Klahr  |  ['H. Klahr']\n"
     ]
    },
    {
     "name": "stdout",
     "output_type": "stream",
     "text": [
      "Arxiv has 104 new papers today\n",
      "          4 with possible author matches\n"
     ]
    }
   ],
   "source": [
    "new_papers = get_new_papers()\n",
    "# add manual references\n",
    "add_paper_refs = []\n",
    "new_papers.extend([get_paper_from_identifier(k) for k in add_paper_refs])\n",
    "\n",
    "def robust_call(fn, value, *args, **kwargs):\n",
    "    try:\n",
    "        return fn(value, *args, **kwargs)\n",
    "    except Exception:\n",
    "        return value\n",
    "\n",
    "candidates = []\n",
    "for paperk in new_papers:\n",
    "    # Check author list with their initials\n",
    "    normed_author_list = [robust_call(mpia.get_initials, k) for k in paperk['authors']]\n",
    "    hl_authors = highlight_authors_in_list(normed_author_list, mpia_authors, verbose=True)\n",
    "    matches = [(hl, orig) for hl, orig in zip(hl_authors, paperk['authors']) if 'mark' in hl]\n",
    "    paperk['authors'] = hl_authors\n",
    "    if matches:\n",
    "        # only select paper if an author matched our list\n",
    "        candidates.append(paperk)\n",
    "print(\"\"\"Arxiv has {0:,d} new papers today\"\"\".format(len(new_papers)))        \n",
    "print(\"\"\"          {0:,d} with possible author matches\"\"\".format(len(candidates)))"
   ]
  },
  {
   "cell_type": "markdown",
   "id": "3543b34a",
   "metadata": {
    "papermill": {
     "duration": 0.003108,
     "end_time": "2025-06-23T04:26:17.345557",
     "exception": false,
     "start_time": "2025-06-23T04:26:17.342449",
     "status": "completed"
    },
    "tags": []
   },
   "source": [
    "# Parse sources and generate relevant outputs\n",
    "\n",
    "From the candidates, we do the following steps:\n",
    "* get their tarball from ArXiv (and extract data)\n",
    "* find the main .tex file: find one with \\documentclass{...} (sometimes it's non trivial)\n",
    "* Check affiliations with :func:`validation`, which uses :func:`mpia.affiliation_verifications`\n",
    "* If passing the affiliations: we parse the .tex source\n",
    "   * inject sub-documents into the main (flatten the main document)\n",
    "   * parse structure, extract information (title, abstract, authors, figures...)\n",
    "   * handles `\\graphicspath` if provided\n",
    "* Generate the .md document."
   ]
  },
  {
   "cell_type": "code",
   "execution_count": 5,
   "id": "9576b79e",
   "metadata": {
    "execution": {
     "iopub.execute_input": "2025-06-23T04:26:17.352857Z",
     "iopub.status.busy": "2025-06-23T04:26:17.352454Z",
     "iopub.status.idle": "2025-06-23T04:26:59.567509Z",
     "shell.execute_reply": "2025-06-23T04:26:59.566678Z"
    },
    "papermill": {
     "duration": 42.220122,
     "end_time": "2025-06-23T04:26:59.568771",
     "exception": false,
     "start_time": "2025-06-23T04:26:17.348649",
     "status": "completed"
    },
    "scrolled": false,
    "tags": []
   },
   "outputs": [
    {
     "data": {
      "application/vnd.jupyter.widget-view+json": {
       "model_id": "1e69332b6f194887a7b6a5d41af11545",
       "version_major": 2,
       "version_minor": 0
      },
      "text/plain": [
       "  0%|          | 0/4 [00:00<?, ?it/s]"
      ]
     },
     "metadata": {},
     "output_type": "display_data"
    },
    {
     "name": "stdout",
     "output_type": "stream",
     "text": [
      "Retrieving document from  https://arxiv.org/e-print/2506.16232\n",
      "extracting tarball to tmp_2506.16232..."
     ]
    },
    {
     "name": "stdout",
     "output_type": "stream",
     "text": [
      " done.\n"
     ]
    },
    {
     "name": "stdout",
     "output_type": "stream",
     "text": [
      "N. Bachmann  ->  N. Bachmann  |  ['N. Bachmann']\n",
      "L. Kreidberg  ->  L. Kreidberg  |  ['L. Kreidberg']\n",
      "P. Mollière  ->  P. Mollière  |  ['P. Mollière']\n"
     ]
    },
    {
     "name": "stdout",
     "output_type": "stream",
     "text": [
      "Found 73 bibliographic references in tmp_2506.16232/aa55577-25.bbl.\n",
      "Retrieving document from  https://arxiv.org/e-print/2506.16481\n",
      "extracting tarball to tmp_2506.16481... done.\n"
     ]
    },
    {
     "name": "stdout",
     "output_type": "stream",
     "text": [
      "F. Zagaria  ->  F. Zagaria  |  ['F. Zagaria']\n",
      "H. Jiang  ->  H. Jiang  |  ['H. Jiang']\n",
      "M. Benisty  ->  M. Benisty  |  ['M. Benisty']\n",
      "D. Fasano  ->  D. Fasano  |  ['D. Fasano']\n",
      "I. Hammond  ->  I. Hammond  |  ['I. Hammond']\n",
      "A. Winter  ->  A. Winter  |  ['A. Winter']\n"
     ]
    },
    {
     "name": "stdout",
     "output_type": "stream",
     "text": [
      "Found 178 bibliographic references in tmp_2506.16481/ms.bbl.\n",
      "Retrieving document from  https://arxiv.org/e-print/2506.16513\n",
      "extracting tarball to tmp_2506.16513..."
     ]
    },
    {
     "name": "stdout",
     "output_type": "stream",
     "text": [
      " done.\n",
      "Retrieving document from  https://arxiv.org/e-print/2506.17024\n",
      "extracting tarball to tmp_2506.17024..."
     ]
    },
    {
     "name": "stdout",
     "output_type": "stream",
     "text": [
      " done.\n"
     ]
    },
    {
     "name": "stdout",
     "output_type": "stream",
     "text": [
      "H. Klahr  ->  H. Klahr  |  ['H. Klahr']\n"
     ]
    },
    {
     "name": "stdout",
     "output_type": "stream",
     "text": [
      "Found 70 bibliographic references in tmp_2506.17024/aa52153-24.bbl.\n",
      "Issues with the citations\n",
      "syntax error in line 471: '}' expected\n"
     ]
    }
   ],
   "source": [
    "documents = []\n",
    "failed = []\n",
    "for paper in tqdm(candidates):\n",
    "    # debug crap\n",
    "    paper['identifier'] = paper['identifier'].lower().replace('arxiv:', '').replace(r'\\n', '').strip()\n",
    "    paper_id = paper['identifier']\n",
    "    \n",
    "    folder = f'tmp_{paper_id}'\n",
    "\n",
    "    try:\n",
    "        if not os.path.isdir(folder):\n",
    "            folder = retrieve_document_source(f\"{paper_id}\", f'tmp_{paper_id}')\n",
    "        \n",
    "        try:\n",
    "            doc = latex.LatexDocument(folder, validation=validation)    \n",
    "        except AffiliationError as affilerror:\n",
    "            msg = f\"ArXiv:{paper_id:s} is not an MPIA paper... \" + str(affilerror)\n",
    "            failed.append((paper, \"affiliation error: \" + str(affilerror) ))\n",
    "            continue\n",
    "        \n",
    "        # Hack because sometimes author parsing does not work well\n",
    "        if (len(doc.authors) != len(paper['authors'])):\n",
    "            doc._authors = paper['authors']\n",
    "        else:\n",
    "            # highlight authors (FIXME: doc.highlight_authors)\n",
    "            # done on arxiv paper already\n",
    "            doc._authors = highlight_authors_in_list(\n",
    "                [get_initials(k) for k in doc.authors], \n",
    "                mpia_authors, verbose=True)\n",
    "        if (doc.abstract) in (None, ''):\n",
    "            doc._abstract = paper['abstract']\n",
    "            \n",
    "        doc.comment = (get_markdown_badge(paper_id) + \n",
    "                       \"<mark>Appeared on: \" + paper['date'] + \"</mark> - \")\n",
    "        if paper['comments']:\n",
    "            doc.comment += \" _\" + paper['comments'] + \"_\"\n",
    "        \n",
    "        full_md = doc.generate_markdown_text()\n",
    "        \n",
    "        full_md += get_markdown_qrcode(paper_id)\n",
    "        \n",
    "        # replace citations\n",
    "        try:\n",
    "            bibdata = latex_bib.LatexBib.from_doc(doc)\n",
    "            full_md = latex_bib.replace_citations(full_md, bibdata)\n",
    "        except Exception as e:\n",
    "            print(\"Issues with the citations\")\n",
    "            print(e)\n",
    "        \n",
    "        documents.append((paper_id, full_md))\n",
    "    except Exception as e:\n",
    "        warnings.warn(latex.LatexWarning(f\"{paper_id:s} did not run properly\\n\" +\n",
    "                                         str(e)\n",
    "                                        ))\n",
    "        failed.append((paper, \"latex error \" + str(e)))"
   ]
  },
  {
   "cell_type": "markdown",
   "id": "2505a25c",
   "metadata": {
    "papermill": {
     "duration": 0.003796,
     "end_time": "2025-06-23T04:26:59.576620",
     "exception": false,
     "start_time": "2025-06-23T04:26:59.572824",
     "status": "completed"
    },
    "tags": []
   },
   "source": [
    "### Export the logs\n",
    "\n",
    "Throughout, we also keep track of the logs per paper. see `logs-{today date}.md` "
   ]
  },
  {
   "cell_type": "code",
   "execution_count": 6,
   "id": "d733828a",
   "metadata": {
    "execution": {
     "iopub.execute_input": "2025-06-23T04:26:59.585169Z",
     "iopub.status.busy": "2025-06-23T04:26:59.584824Z",
     "iopub.status.idle": "2025-06-23T04:26:59.600073Z",
     "shell.execute_reply": "2025-06-23T04:26:59.599388Z"
    },
    "papermill": {
     "duration": 0.020789,
     "end_time": "2025-06-23T04:26:59.601187",
     "exception": false,
     "start_time": "2025-06-23T04:26:59.580398",
     "status": "completed"
    },
    "scrolled": false,
    "tags": []
   },
   "outputs": [
    {
     "data": {
      "text/markdown": [
       "## Successful papers"
      ],
      "text/plain": [
       "<IPython.core.display.Markdown object>"
      ]
     },
     "metadata": {},
     "output_type": "display_data"
    },
    {
     "data": {
      "text/markdown": [
       "\n",
       "|||\n",
       "|---:|:---|\n",
       "| [![arXiv](https://img.shields.io/badge/arXiv-2506.16232-b31b1b.svg)](https://arxiv.org/abs/2506.16232) | **Osiris revisited: Confirming a solar metallicity and low C/O in HD 209458b**  |\n",
       "|| <mark>N. Bachmann</mark>, et al. -- incl., <mark>L. Kreidberg</mark>, <mark>P. Mollière</mark> |\n",
       "|*Appeared on*| *2025-06-23*|\n",
       "|*Comments*| *22 pages, 18 figures, 9 tables; accepted for publication in A&A*|\n",
       "|**Abstract**|            HD 209458b is the prototypical hot Jupiter and one of the best targets available for precise atmosphere characterisation. Now that spectra from both Hubble Space Telescope (HST) and James Webb Space Telescope (JWST) are available, we can reveal the atmospheric properties in unprecedented detail. In this study, we perform a new data reduction and analysis of the original HST/WFC3 spectrum, accounting for the wavelength dependence of the instrument systematics that was not considered in previous analyses. This allows us to precisely and robustly measure the much-debated H$_2$O abundance in HD 209458b's atmosphere. We combine the newly reduced spectrum with archival JWST/NIRCam data and run free chemistry atmospheric retrievals over the 1.0 - 5.1 $\\mu$m wavelength range, covering possible features of multiple absorbing species, including CO$_2$, CO, CH$_4$, NH$_3$, HCN, Na, SO$_2$, and H$_2$S. We detect H$_2$O and CO$_2$ robustly at above 7 $\\sigma$ significance, and find a 3.6 $\\sigma$ preference for cloudy models compared to a clear atmosphere. For all other absorbers we tested, only upper limits of abundance can be measured. We use Bayesian model averaging to account for a range of different assumptions about the cloud properties, resulting in a water volume mixing ratio of $0.95^{+0.35}_{-0.17} \\:\\times$ solar and a carbon dioxide abundance of $0.94^{+0.16}_{-0.09} \\:\\times$ solar. Both results are consistent with solar values and comparable to predictions from the VULCAN 1D photochemistry model. Combining these values with a prior on the CO abundance from ground-based measurements, we derive an overall atmospheric composition comparable to solar metallicity of $\\mathrm{[M/H]} = 0.10^{+0.41}_{-0.40}$ and very low C/O of $0.054^{+0.080}_{-0.034}$ with a 3 $\\sigma$ upper limit of 0.454. This indicates a strong enrichment in oxygen and depletion in carbon during HD 209458b's formation.         |"
      ],
      "text/plain": [
       "[2506.16232] Osiris revisited: Confirming a solar metallicity and low C/O in HD 209458b\n",
       "\t<mark>N. Bachmann</mark>, et al. -- incl., <mark>L. Kreidberg</mark>, <mark>P. Mollière</mark>"
      ]
     },
     "metadata": {},
     "output_type": "display_data"
    },
    {
     "data": {
      "text/markdown": [
       "\n",
       "|||\n",
       "|---:|:---|\n",
       "| [![arXiv](https://img.shields.io/badge/arXiv-2506.16481-b31b1b.svg)](https://arxiv.org/abs/2506.16481) | **SO emission in the dynamically perturbed protoplanetary disks around CQ Tau and MWC 758**  |\n",
       "|| <mark>F. Zagaria</mark>, et al. -- incl., <mark>H. Jiang</mark>, <mark>M. Benisty</mark>, <mark>D. Fasano</mark>, <mark>I. Hammond</mark>, <mark>A. Winter</mark> |\n",
       "|*Appeared on*| *2025-06-23*|\n",
       "|*Comments*| *Accepted for publication in ApJ. 23 pages 7 figures*|\n",
       "|**Abstract**|            We report the serendipitous detection of the SO $J_N=6_5-5_4$ (219.949 GHz) rotational transition in archival Atacama Large Millimeter/submillimeter Array (ALMA) observations of the spiral hosting protoplanetary disks around CQ Tau (with $\\approx4.9\\sigma$ significance) and MWC 758 (with $\\approx3.4\\sigma$ significance). In the former, the SO emission comes in the shape of a ring, arises from the edge of the continuum cavity, and is qualitatively consistent, at the currently available spectral resolution, with being in Keplerian rotation. In the latter, instead, while arising primarily from inside the continuum cavity, the SO emission also extends to the continuum ring(s), and its morphology and kinematics are less clear. We put these sources in the context of the other protoplanetary disks where SO detections have been previously reported in the literature and discuss the possible origins of SO in terms of (thermal) desorption or formation in the gas phase. We argue that these processes might be fostered by dynamical perturbations caused by unseen embedded massive companions, shadows, or late-time infall, thus suggesting a possible link between perturbed dynamics and SO emission in (these) protoplanetary disks. If confirmed, our interpretation would imply that chemical evolution timescales could be significantly shorter in these systems than is commonly assumed, indicating that dynamical perturbations might influence the composition of newborn (proto-)planets by altering the volatile makeup of their formation environment.         |"
      ],
      "text/plain": [
       "[2506.16481] SO emission in the dynamically perturbed protoplanetary disks around CQ Tau and MWC 758\n",
       "\t<mark>F. Zagaria</mark>, et al. -- incl., <mark>H. Jiang</mark>, <mark>M. Benisty</mark>, <mark>D. Fasano</mark>, <mark>I. Hammond</mark>, <mark>A. Winter</mark>"
      ]
     },
     "metadata": {},
     "output_type": "display_data"
    },
    {
     "data": {
      "text/markdown": [
       "\n",
       "|||\n",
       "|---:|:---|\n",
       "| [![arXiv](https://img.shields.io/badge/arXiv-2506.17024-b31b1b.svg)](https://arxiv.org/abs/2506.17024) | **Feasibility of interferometric observations and characterization of planet-induced structures at sub au to au scales in protoplanetary disks**  |\n",
       "|| L. Hildebrandt, et al. -- incl., <mark>H. Klahr</mark> |\n",
       "|*Appeared on*| *2025-06-23*|\n",
       "|*Comments*| *Accepted for publication in A&A, 16 pages, 11 figures, 1 table*|\n",
       "|**Abstract**|            Interferometric observations of protoplanetary disks by VLTI and ALMA have greatly improved our understanding of the detailed structure of these planetary birthplaces. These observations have revealed a variety of large-scale disk substructures, including rings, gaps, and spirals, spanning tens to hundreds of au, supporting the predictions of planet formation models. Recent instruments, such as MATISSE at the VLTI, allow one to resolve and investigate the inner few au of protoplanetary disks in nearby star formation regions, shedding light on the traces of planet formation and evolution at these small scales. The aim of this work is to assess the feasibility of interferometric observations of small-scale planet-induced substructures in protoplanetary disks in nearby star-forming regions. We aim to characterize these substructures in multi-wavelength and multi-epoch observations and subsequently differentiate between simulation parameters. On the basis of 3D hydrodynamic simulations of embedded planetary companions and subsequent 3D Monte Carlo radiative transfer simulations, we calculated and analyzed interferometric observables, assuming observations with the VLTI in the K, L, M, and N bands. The hydrodynamic simulations exhibit mass-dependent planet-induced density waves that create observable substructures, most notably for the considered case of a 300 $M_{\\oplus}$ planet. These substructures share similarities with observed large-scale structures and feature a prominent accretion region around the embedded planet. The visibilities show a detectable variability for multi-epoch VLTI/GRAVITY and VLTI/MATISSE observations, caused by the orbital motion of the planet, that are distinguishable from other sources of variability due to their unique combination of timescale and amplitude.         |"
      ],
      "text/plain": [
       "[2506.17024] Feasibility of interferometric observations and characterization of planet-induced structures at sub au to au scales in protoplanetary disks\n",
       "\tL. Hildebrandt, et al. -- incl., <mark>H. Klahr</mark>"
      ]
     },
     "metadata": {},
     "output_type": "display_data"
    },
    {
     "data": {
      "text/markdown": [
       "## Failed papers"
      ],
      "text/plain": [
       "<IPython.core.display.Markdown object>"
      ]
     },
     "metadata": {},
     "output_type": "display_data"
    },
    {
     "data": {
      "text/markdown": [
       "\n",
       "|||\n",
       "|---:|:---|\n",
       "| [![arXiv](https://img.shields.io/badge/arXiv-2506.16513-b31b1b.svg)](https://arxiv.org/abs/2506.16513) | **10,000 Resolved Triples from Gaia: Empirical Constraints on Triple Star Populations**  |\n",
       "|| C. Shariat, <mark>K. El-Badry</mark>, S. Naoz |\n",
       "|*Appeared on*| *2025-06-23*|\n",
       "|*Comments*| *Submitted to PASP, all comments are welcome. Relevant code and data can be found at this https URL*|\n",
       "|**Abstract**|            We present a catalog of $\\sim 10,000$ resolved triple star systems within 500 pc of the Sun, constructed using Gaia data. The triples include main-sequence, red giant, and white dwarf components spanning separations of 10 to 50,000 au. A well-characterized selection function allows us to constrain intrinsic demographics of the triple star population. We find that (a) all systems are compatible with being hierarchical and dynamically stable; (b) mutual orbital inclinations are isotropic for wide triples but show modest alignment as the systems become more compact; (c) primary masses follow a Kroupa initial mass function weighted by the triple fraction; (d) inner binary orbital periods, eccentricities, and mass ratios mirror those of isolated binaries, including a pronounced twin excess (mass ratios greater than 0.95) out to separations of 1000+ au, suggesting a common formation pathway; (e) tertiary mass ratios follow a power-law distribution with slope -1.4; (f) tertiary orbits are consistent with a log-normal period distribution and thermal eccentricities, subject to dynamical stability. Informed by these observations, we develop a publicly available prescription for generating mock triple star populations. Finally, we estimate the catalog's completeness and infer the intrinsic triple fraction, which rises steadily with primary mass: from $5\\%$ at $\\lesssim 0.5\\,{\\rm M_\\odot}$ to $35\\%$ at $2\\,{\\rm M_\\odot}$. The public catalog provides a robust testbed for models of triple star formation and evolution.         |\n",
       "|<p style=\"color:green\"> **ERROR** </p>| <p style=\"color:green\">affiliation error: mpia.affiliation_verifications: 'Heidelberg' keyword not found.</p> |"
      ],
      "text/plain": [
       "<IPython.core.display.Markdown object>"
      ]
     },
     "metadata": {},
     "output_type": "display_data"
    }
   ],
   "source": [
    "import datetime\n",
    "today = str(datetime.date.today())\n",
    "logfile = f\"_build/html/logs/log-{today}.md\"\n",
    "\n",
    "\n",
    "with open(logfile, 'w') as logs:\n",
    "    # Success\n",
    "    logs.write(f'# Arxiv on Deck 2: Logs - {today}\\n\\n')\n",
    "    logs.write(\"\"\"* Arxiv had {0:,d} new papers\\n\"\"\".format(len(new_papers)))\n",
    "    logs.write(\"\"\"    * {0:,d} with possible author matches\\n\\n\"\"\".format(len(candidates)))\n",
    "    logs.write(\"## Sucessful papers\\n\\n\")\n",
    "    display(Markdown(\"## Successful papers\"))\n",
    "    success = [k[0] for k in documents]\n",
    "    for candid in candidates:\n",
    "        if candid['identifier'].split(':')[-1] in success:\n",
    "            display(candid)\n",
    "            logs.write(candid.generate_markdown_text() + '\\n\\n')\n",
    "\n",
    "    ## failed\n",
    "    logs.write(\"## Failed papers\\n\\n\")\n",
    "    display(Markdown(\"## Failed papers\"))\n",
    "    failed = sorted(failed, key=lambda x: x[1])\n",
    "    current_reason = \"\"\n",
    "    for paper, reason in failed:\n",
    "        if 'affiliation' in reason:\n",
    "            color = 'green'\n",
    "        else:\n",
    "            color = 'red'\n",
    "        data = Markdown(\n",
    "                paper.generate_markdown_text() + \n",
    "                f'\\n|<p style=\"color:{color:s}\"> **ERROR** </p>| <p style=\"color:{color:s}\">{reason:s}</p> |'\n",
    "               )\n",
    "        if reason != current_reason:\n",
    "            logs.write(f'### {reason:s} \\n\\n')\n",
    "            current_reason = reason\n",
    "        logs.write(data.data + '\\n\\n')\n",
    "        \n",
    "        # only display here the important errors (all in logs)\n",
    "        # if color in ('red',):\n",
    "        display(data)"
   ]
  },
  {
   "cell_type": "markdown",
   "id": "472d20ee",
   "metadata": {
    "papermill": {
     "duration": 0.004786,
     "end_time": "2025-06-23T04:26:59.610294",
     "exception": false,
     "start_time": "2025-06-23T04:26:59.605508",
     "status": "completed"
    },
    "tags": []
   },
   "source": [
    "## Export documents\n",
    "\n",
    "We now write the .md files and export relevant images"
   ]
  },
  {
   "cell_type": "code",
   "execution_count": 7,
   "id": "d426aed9",
   "metadata": {
    "execution": {
     "iopub.execute_input": "2025-06-23T04:26:59.620079Z",
     "iopub.status.busy": "2025-06-23T04:26:59.619565Z",
     "iopub.status.idle": "2025-06-23T04:26:59.626467Z",
     "shell.execute_reply": "2025-06-23T04:26:59.625948Z"
    },
    "papermill": {
     "duration": 0.012879,
     "end_time": "2025-06-23T04:26:59.627441",
     "exception": false,
     "start_time": "2025-06-23T04:26:59.614562",
     "status": "completed"
    },
    "tags": []
   },
   "outputs": [],
   "source": [
    "def export_markdown_summary(md: str, md_fname:str, directory: str):\n",
    "    \"\"\"Export MD document and associated relevant images\"\"\"\n",
    "    import os\n",
    "    import shutil\n",
    "    import re\n",
    "\n",
    "    if (os.path.exists(directory) and not os.path.isdir(directory)):\n",
    "        raise RuntimeError(f\"a non-directory file exists with name {directory:s}\")\n",
    "\n",
    "    if (not os.path.exists(directory)):\n",
    "        print(f\"creating directory {directory:s}\")\n",
    "        os.mkdir(directory)\n",
    "\n",
    "    fig_fnames = (re.compile(r'\\[Fig.*\\]\\((.*)\\)').findall(md) + \n",
    "                  re.compile(r'\\<img src=\"([^>\\s]*)\"[^>]*/>').findall(md))\n",
    "    print(\"found figures\", fig_fnames)\n",
    "    for fname in fig_fnames:\n",
    "        if 'http' in fname:\n",
    "            # No need to copy online figures\n",
    "            continue\n",
    "        if not os.path.exists(fname):\n",
    "            print(\"file not found\", fname)\n",
    "            continue\n",
    "        print(\"copying \", fname, \"to\", directory)\n",
    "        destdir = os.path.join(directory, os.path.dirname(fname))\n",
    "        destfname = os.path.join(destdir, os.path.basename(fname))\n",
    "        try:\n",
    "            os.makedirs(destdir)\n",
    "        except FileExistsError:\n",
    "            pass\n",
    "        shutil.copy(fname, destfname)\n",
    "    with open(os.path.join(directory, md_fname), 'w') as fout:\n",
    "        fout.write(md)\n",
    "    print(\"exported in \", os.path.join(directory, md_fname))\n",
    "    [print(\"    + \" + os.path.join(directory,fk)) for fk in fig_fnames]"
   ]
  },
  {
   "cell_type": "code",
   "execution_count": 8,
   "id": "014d04a4",
   "metadata": {
    "execution": {
     "iopub.execute_input": "2025-06-23T04:26:59.637253Z",
     "iopub.status.busy": "2025-06-23T04:26:59.636791Z",
     "iopub.status.idle": "2025-06-23T04:26:59.648895Z",
     "shell.execute_reply": "2025-06-23T04:26:59.648282Z"
    },
    "papermill": {
     "duration": 0.018127,
     "end_time": "2025-06-23T04:26:59.649939",
     "exception": false,
     "start_time": "2025-06-23T04:26:59.631812",
     "status": "completed"
    },
    "tags": []
   },
   "outputs": [
    {
     "name": "stdout",
     "output_type": "stream",
     "text": [
      "found figures ['tmp_2506.16232/./figures/opacity_contributions_small_CO_prior_with_pressure_lines.png', 'tmp_2506.16232/./figures/compare_Vulcan_model_with_S.png', 'tmp_2506.16232/./figures/BMA_joined_ret_H2O.png', 'tmp_2506.16232/./figures/BMA_joined_ret_CO2.png']\n",
      "copying  tmp_2506.16232/./figures/opacity_contributions_small_CO_prior_with_pressure_lines.png to _build/html/\n",
      "copying  tmp_2506.16232/./figures/compare_Vulcan_model_with_S.png to _build/html/\n",
      "copying  tmp_2506.16232/./figures/BMA_joined_ret_H2O.png to _build/html/\n",
      "copying  tmp_2506.16232/./figures/BMA_joined_ret_CO2.png to _build/html/\n",
      "exported in  _build/html/2506.16232.md\n",
      "    + _build/html/tmp_2506.16232/./figures/opacity_contributions_small_CO_prior_with_pressure_lines.png\n",
      "    + _build/html/tmp_2506.16232/./figures/compare_Vulcan_model_with_S.png\n",
      "    + _build/html/tmp_2506.16232/./figures/BMA_joined_ret_H2O.png\n",
      "    + _build/html/tmp_2506.16232/./figures/BMA_joined_ret_CO2.png\n",
      "found figures ['tmp_2506.16481/./figures/summary_SO_spectra.png', 'tmp_2506.16481/./figures/summary_SO_images_new.png', 'tmp_2506.16481/./figures/summary_continuum_vert.png']\n",
      "copying  tmp_2506.16481/./figures/summary_SO_spectra.png to _build/html/\n",
      "copying  tmp_2506.16481/./figures/summary_SO_images_new.png to _build/html/\n",
      "copying  tmp_2506.16481/./figures/summary_continuum_vert.png to _build/html/\n",
      "exported in  _build/html/2506.16481.md\n",
      "    + _build/html/tmp_2506.16481/./figures/summary_SO_spectra.png\n",
      "    + _build/html/tmp_2506.16481/./figures/summary_SO_images_new.png\n",
      "    + _build/html/tmp_2506.16481/./figures/summary_continuum_vert.png\n",
      "found figures ['tmp_2506.17024/./Images/UV-planes/Visibilities_uv_all.png', 'tmp_2506.17024/./Images/Fluxmaps/Fluxmaps_complete.png', 'tmp_2506.17024/./Images/Rotations/300_N_data_variance_rotation.png']\n",
      "copying  tmp_2506.17024/./Images/UV-planes/Visibilities_uv_all.png to _build/html/\n",
      "copying  tmp_2506.17024/./Images/Fluxmaps/Fluxmaps_complete.png to _build/html/\n",
      "copying  tmp_2506.17024/./Images/Rotations/300_N_data_variance_rotation.png to _build/html/\n",
      "exported in  _build/html/2506.17024.md\n",
      "    + _build/html/tmp_2506.17024/./Images/UV-planes/Visibilities_uv_all.png\n",
      "    + _build/html/tmp_2506.17024/./Images/Fluxmaps/Fluxmaps_complete.png\n",
      "    + _build/html/tmp_2506.17024/./Images/Rotations/300_N_data_variance_rotation.png\n"
     ]
    }
   ],
   "source": [
    "for paper_id, md in documents:\n",
    "    export_markdown_summary(md, f\"{paper_id:s}.md\", '_build/html/')"
   ]
  },
  {
   "cell_type": "markdown",
   "id": "f087a0a7",
   "metadata": {
    "papermill": {
     "duration": 0.004423,
     "end_time": "2025-06-23T04:26:59.659041",
     "exception": false,
     "start_time": "2025-06-23T04:26:59.654618",
     "status": "completed"
    },
    "tags": []
   },
   "source": [
    "## Display the papers\n",
    "\n",
    "Not necessary but allows for a quick check."
   ]
  },
  {
   "cell_type": "code",
   "execution_count": 9,
   "id": "fd25f625",
   "metadata": {
    "execution": {
     "iopub.execute_input": "2025-06-23T04:26:59.669102Z",
     "iopub.status.busy": "2025-06-23T04:26:59.668614Z",
     "iopub.status.idle": "2025-06-23T04:26:59.676158Z",
     "shell.execute_reply": "2025-06-23T04:26:59.675567Z"
    },
    "papermill": {
     "duration": 0.013685,
     "end_time": "2025-06-23T04:26:59.677158",
     "exception": false,
     "start_time": "2025-06-23T04:26:59.663473",
     "status": "completed"
    },
    "scrolled": false,
    "tags": []
   },
   "outputs": [
    {
     "data": {
      "text/markdown": [
       "<div class=\"macros\" style=\"visibility:hidden;\">\n",
       "$\\newcommand{\\ensuremath}{}$\n",
       "$\\newcommand{\\xspace}{}$\n",
       "$\\newcommand{\\object}[1]{\\texttt{#1}}$\n",
       "$\\newcommand{\\farcs}{{.}''}$\n",
       "$\\newcommand{\\farcm}{{.}'}$\n",
       "$\\newcommand{\\arcsec}{''}$\n",
       "$\\newcommand{\\arcmin}{'}$\n",
       "$\\newcommand{\\ion}[2]{#1#2}$\n",
       "$\\newcommand{\\textsc}[1]{\\textrm{#1}}$\n",
       "$\\newcommand{\\hl}[1]{\\textrm{#1}}$\n",
       "$\\newcommand{\\footnote}[1]{}$\n",
       "$\\newcommand{\\planet}{HD~209458 b}$\n",
       "$\\newcommand{\\arraystretch}{1.5}$\n",
       "$\\newcommand{\\arraystretch}{1.5}$\n",
       "$\\newcommand{\\arraystretch}{1.2}$\n",
       "$\\newcommand{\\arraystretch}{1.5}$\n",
       "$\\newcommand{\\arraystretch}{1.5}$</div>\n",
       "\n",
       "\n",
       "\n",
       "<div id=\"title\">\n",
       "\n",
       "# Osiris revisited: Confirming a solar metallicity and low C/O in $\\planet$\n",
       "\n",
       "</div>\n",
       "<div id=\"comments\">\n",
       "\n",
       "[![arXiv](https://img.shields.io/badge/arXiv-2506.16232-b31b1b.svg)](https://arxiv.org/abs/2506.16232)<mark>Appeared on: 2025-06-23</mark> -  _22 pages, 18 figures, 9 tables; accepted for publication in A&A_\n",
       "\n",
       "</div>\n",
       "<div id=\"authors\">\n",
       "\n",
       "<mark>N. Bachmann</mark>, et al. -- incl., <mark>L. Kreidberg</mark>, <mark>P. Mollière</mark>\n",
       "\n",
       "</div>\n",
       "<div id=\"abstract\">\n",
       "\n",
       "**Abstract:** $\\planet$ is the prototypical hot Jupiter and one of the best targets available for precise atmosphere characterisation. Now that spectra from both Hubble Space Telescope (HST) and James Webb Space Telescope (JWST) are available, we can reveal the atmospheric properties in unprecedented detail. In this study, we perform a new data reduction and analysis of the original HST/WFC3 spectrum, accounting for the wavelength dependence of the instrument systematics that was not considered in previous analyses. This allows us to precisely and robustly measure the much-debated $\\mathrm{H_2O}$ abundance in $\\planet$ 's atmosphere. We combine the newly reduced spectrum with archival JWST/NIRCam data and run free chemistry atmospheric retrievals over the $\\SI{1.0}  - \\SI{5.1}{\\micro\\metre}$ wavelength range, covering possible features of multiple absorbing species, including $\\mathrm{CO_2}$ , $\\mathrm{CO}$ , $\\mathrm{CH_4}$ , $\\mathrm{NH_3}$ , $\\mathrm{HCN}$ , $\\mathrm{Na}$ , $\\mathrm{SO_2}$ , and $\\mathrm{H_2S}$ . We detect $\\mathrm{H_2O}$ and $\\mathrm{CO_2}$ robustly at above $\\SI{7}{\\sigma}$ significance, and find a $\\SI{3.6}{\\sigma}$ preference for cloudy models compared to a clear atmosphere. For all other absorbers we tested, only upper limits of abundance can be measured. We use Bayesian model averaging to account for a range of different assumptions about the cloud properties, resulting in a water volume mixing ratio of $0.95^{+0.35}_{-0.17} \\:\\times$ solar and a carbon dioxide abundance of $0.94^{+0.16}_{-0.09} \\:\\times$ solar. Both results are consistent with solar values and comparable to predictions from the \\texttt{VULCAN} 1D photochemistry model. Combining these values with a prior on the $\\mathrm{CO}$ abundance from ground-based measurements, we derive an overall atmospheric composition comparable to solar metallicity of $\\mathrm{[M/H]} = 0.10^{+0.41}_{-0.40}$ and very low C/O of $0.054^{+0.080}_{-0.034}$ with a $\\SI{3}{\\sigma}$ upper limit of $0.454$ . This indicates a strong enrichment in oxygen and depletion in carbon during $\\planet$ 's formation.\n",
       "\n",
       "</div>\n",
       "\n",
       "<div id=\"div_fig1\">\n",
       "\n",
       "<img src=\"tmp_2506.16232/./figures/opacity_contributions_small_CO_prior_with_pressure_lines.png\" alt=\"Fig12\" width=\"100%\"/>\n",
       "\n",
       "**Figure 12. -** Contribution of the opacities of line-absorbing species to the transmission spectrum. The best-fit spectrum shows the cloudy+CO prior model (see text). The absorption features of $\\mathrm{H_2O}$ and $\\mathrm{CO_2}$ are clearly visible, for the latter due to its strong absorption even though the abundance is low (see \\cref{fig:BMA_joint_H2O_CO2}). (*fig:opacity_contribution*)\n",
       "\n",
       "</div>\n",
       "<div id=\"div_fig2\">\n",
       "\n",
       "<img src=\"tmp_2506.16232/./figures/compare_Vulcan_model_with_S.png\" alt=\"Fig5\" width=\"100%\"/>\n",
       "\n",
       "**Figure 5. -** Comparison of the cloudy+CO prior retrieval results with the \\texttt{VULCAN} 1D photochemical kinetics model by [Tsai, Malik and Kitzmann (2021)]()(solid lines) and thermochemical equilibrium abundances (dashed lines). The dots represent the volume mixing ratios from our retrievals (with errorbars for $\\mathrm{H_2O}$, $\\mathrm{CO_2}$, and $\\mathrm{CO}$; upper limits for $\\mathrm{CH_4}$, $\\mathrm{NH_3}$, $\\mathrm{HCN}$, $\\mathrm{SO_2}$, and $\\mathrm{H_2S}$). The shaded regions represent the atmospheric pressure levels at which the absorption is most active for the species, starting at the cloud level at $\\SI{1.44}{\\milli\\bar}$(see \\cref{fig:opacity_contribution} and \\cref{tab:joint_ret_results}). For $\\mathrm{CO_2}$(light green) and $\\mathrm{H_2O}$(light blue), the absorption pressure level reaches higher up in the atmosphere. The Bayesian model averaged results are similar, except for the $\\mathrm{H_2O}$, which is smaller than the \\texttt{VULCAN} 1D results, and the $\\mathrm{CO_2}$ abundance, which agrees with the model prediction. (*fig:compare_VULCAN*)\n",
       "\n",
       "</div>\n",
       "<div id=\"div_fig3\">\n",
       "\n",
       "<img src=\"tmp_2506.16232/./figures/BMA_joined_ret_H2O.png\" alt=\"Fig11.1\" width=\"50%\"/><img src=\"tmp_2506.16232/./figures/BMA_joined_ret_CO2.png\" alt=\"Fig11.2\" width=\"50%\"/>\n",
       "\n",
       "**Figure 11. -** Bayesian model averaged posterior distributions for $\\mathrm{H_2O}$(left) and $\\mathrm{CO_2}$(right). The black line indicates the median of the distributions, and the dashed lines are the $\\pm34.1\\%$ confidence regions. The orange lines show the solar value of $\\mathrm{log (\\chi_{H_2O})} = -3.70$ and $\\mathrm{log (\\chi_{CO_2})} = -7.05$ at $\\SI{1}{\\milli\\bar}$ and $\\SI{1200}{\\kelvin}$. (*fig:BMA_joint_H2O_CO2*)\n",
       "\n",
       "</div><div id=\"qrcode\"><img src=https://api.qrserver.com/v1/create-qr-code/?size=100x100&data=\"https://arxiv.org/abs/2506.16232\"></div>"
      ],
      "text/plain": [
       "<IPython.core.display.Markdown object>"
      ]
     },
     "metadata": {},
     "output_type": "display_data"
    },
    {
     "data": {
      "text/markdown": [
       "<div class=\"macros\" style=\"visibility:hidden;\">\n",
       "$\\newcommand{\\ensuremath}{}$\n",
       "$\\newcommand{\\xspace}{}$\n",
       "$\\newcommand{\\object}[1]{\\texttt{#1}}$\n",
       "$\\newcommand{\\farcs}{{.}''}$\n",
       "$\\newcommand{\\farcm}{{.}'}$\n",
       "$\\newcommand{\\arcsec}{''}$\n",
       "$\\newcommand{\\arcmin}{'}$\n",
       "$\\newcommand{\\ion}[2]{#1#2}$\n",
       "$\\newcommand{\\textsc}[1]{\\textrm{#1}}$\n",
       "$\\newcommand{\\hl}[1]{\\textrm{#1}}$\n",
       "$\\newcommand{\\footnote}[1]{}$\n",
       "$\\newcommand{\\vdag}{(v)^\\dagger}$\n",
       "$\\newcommand$\n",
       "$\\newcommand$\n",
       "$\\newcommand{\\hjc}[1]{\\textcolor{emerald}{[\\small HJ: \\textit{\\small #1}]}}$\n",
       "$\\newcommand{\\hjadd}[1]{\\textcolor{emerald}{#1}}$\n",
       "$\\newcommand{\\fg}[1]{Fig.~\\ref{fig:#1}}$\n",
       "$\\newcommand{\\Fg}[1]{Figure~\\ref{fig:#1}}$\n",
       "$\\newcommand{\\fgs}[2]{Figs. \\ref{fig:#1} and \\ref{fig:#2}}$\n",
       "$\\newcommand{\\Fgs}[2]{Figures \\ref{fig:#1} and \\ref{fig:#2}}$\n",
       "$\\newcommand{\\eq}[1]{Eq.~(\\ref{eq:#1})\\xspace}$\n",
       "$\\newcommand{\\Eq}[1]{Equation~(\\ref{eq:#1})\\xspace}$\n",
       "$\\newcommand{\\eqs}[2]{Eqs. (\\ref{eq:#1}) and (\\ref{eq:#2})}$\n",
       "$\\newcommand{\\Eqs}[2]{Equations \\ref{eq:#1} and \\ref{eq:#2}}$\n",
       "$\\newcommand{\\tb}[1]{Table~\\ref{tab:#1}\\xspace}$\n",
       "$\\newcommand{\\Tb}[1]{Table~\\ref{tab:#1}\\xspace}$\n",
       "$\\newcommand{\\se}[1]{Sect.~\\ref{sec:#1}\\xspace}$\n",
       "$\\newcommand{\\Se}[1]{Section~\\ref{sec:#1}\\xspace}$\n",
       "$\\newcommand{\\ses}[2]{Sects. \\ref{sec:#1} and \\ref{sec:#2}}$\n",
       "$\\newcommand{\\sef}[1]{\\ref{sec:#1}\\xspace}$\n",
       "$\\newcommand{\\App}[1]{Appendix~\\ref{app:#1}\\xspace}$\n",
       "$\\newcommand{\\red}[1]{\\textcolor{red}{#1}}$\n",
       "$\\newcommand{\\cyan}[1]{\\textcolor{cyan}{#1}}$\n",
       "$\\newcommand{\\arraystretch}{1.25}$</div>\n",
       "\n",
       "\n",
       "\n",
       "<div id=\"title\">\n",
       "\n",
       "# SO emission in the dynamically perturbed protoplanetary disks around CQ Tau and MWC 758\n",
       "\n",
       "</div>\n",
       "<div id=\"comments\">\n",
       "\n",
       "[![arXiv](https://img.shields.io/badge/arXiv-2506.16481-b31b1b.svg)](https://arxiv.org/abs/2506.16481)<mark>Appeared on: 2025-06-23</mark> -  _Accepted for publication in ApJ. 23 pages 7 figures_\n",
       "\n",
       "</div>\n",
       "<div id=\"authors\">\n",
       "\n",
       "<mark>F. Zagaria</mark>, et al. -- incl., <mark>H. Jiang</mark>, <mark>M. Benisty</mark>, <mark>D. Fasano</mark>, <mark>I. Hammond</mark>, <mark>A. Winter</mark>\n",
       "\n",
       "</div>\n",
       "<div id=\"abstract\">\n",
       "\n",
       "**Abstract:** We report the serendipitous detection of the SO $J_N=6_5-5_4$ (219.949 GHz) rotational transition in archival Atacama Large Millimeter/submillimeter Array (ALMA) observations of the spiral hosting protoplanetary disks around CQ Tau (with $\\approx4.9\\sigma$ significance) and MWC 758 (with $\\approx3.4\\sigma$ significance). In the former, the SO emission comes in the shape of a ring, arises from the edge of the continuum cavity, and is qualitatively consistent, at the currently available spectral resolution, with being in Keplerian rotation.In the latter, instead, while arising primarily from inside the continuum cavity, the SO emission also extends to the continuum ring(s) and its morphology and kinematics are less clear. We put these sources in the context of the other protoplanetary disks where SO detections have been previously reported in the literature and discuss the possible origins of SO in terms of (thermal) desorption or formation in the gas phase. We argue that these processes might be fostered by dynamical perturbations caused by unseen embedded massive companions, shadows, or late-time infall, thus suggestinga possible link between perturbed dynamics and SO emission in (these) protoplanetary disks. If confirmed, our interpretationwould imply that chemical evolution timescales could be significantly shorter in these systems than is commonly assumed,indicating that dynamical perturbations might influence the composition of newborn (proto-)planets by altering the volatile makeup of their formation environment.\n",
       "\n",
       "</div>\n",
       "\n",
       "<div id=\"div_fig1\">\n",
       "\n",
       "<img src=\"tmp_2506.16481/./figures/summary_SO_spectra.png\" alt=\"Fig2\" width=\"100%\"/>\n",
       "\n",
       "**Figure 2. -** Left: Shifted and stacked SO spectra (blue).\n",
       "    The zoom-in inserts around the systematic velocity also display the native spectra (gray) for comparison. The plum areas highlight the velocity ranges adopted to measure the SO flux and generate moment maps (see \\autoref{app:imaging}). Right: Teardrop plots. The dotted white lines mark the region where Keplerian emission from the disk is expected. Those correspond to the location where the CO emission (from the fiducial exoALMA cubes,  ([Teague, Benisty and Facchini 2025]()) ) drops below 3 K. The white arrows indicate the apertures over which the spectra were extracted and integrated over to measure the SO flux. The dust cavity radius is indicated with a white dashed line. SO emission is clearly detected and primarily originates within the cavity. (*fig:2_spectra*)\n",
       "\n",
       "</div>\n",
       "<div id=\"div_fig2\">\n",
       "\n",
       "<img src=\"tmp_2506.16481/./figures/summary_SO_images_new.png\" alt=\"Fig3\" width=\"100%\"/>\n",
       "\n",
       "**Figure 3. -** From left to right: SO integrated intensity (\"moment 0\"), peak intensity (\"moment 8\"), velocity (\"moment 1\") maps, and comparison between scattered-light images and SO peak intensity for CQ Tau (top row) and MWC 758 (bottom row). The dotted contours display the $[5,65]\\times\\sigma$(CQ Tau) and the $[5,40]\\times\\sigma$(MWC 758) emission levels. The white (black for panels 3c and 3g) solid contours, instead, mark the $[3,5]\\times\\sigma$ SO detection levels. The synthesized CLEAN beam is shown as an ellipse in the bottom left corner of each panel. The regions within 0$\\farcs$1 of the scattered light images cannot be accessed because of the coronagraph and are masked out. (*fig:3_summary*)\n",
       "\n",
       "</div>\n",
       "<div id=\"div_fig3\">\n",
       "\n",
       "<img src=\"tmp_2506.16481/./figures/summary_continuum_vert.png\" alt=\"Fig1\" width=\"100%\"/>\n",
       "\n",
       "**Figure 1. -** 1.3 mm continuum emission map of CQ Tau (top) and MWC 758 (bottom). The dotted gray lines highlight the $[5,65]\\times\\sigma$(CQ Tau) and the $[5,40]\\times\\sigma$(MWC 758) emission contours. The ellipse in the bottom left corner of each panel displays the synthesized CLEAN beam. (*fig:1_continuum*)\n",
       "\n",
       "</div><div id=\"qrcode\"><img src=https://api.qrserver.com/v1/create-qr-code/?size=100x100&data=\"https://arxiv.org/abs/2506.16481\"></div>"
      ],
      "text/plain": [
       "<IPython.core.display.Markdown object>"
      ]
     },
     "metadata": {},
     "output_type": "display_data"
    },
    {
     "data": {
      "text/markdown": [
       "<div class=\"macros\" style=\"visibility:hidden;\">\n",
       "$\\newcommand{\\ensuremath}{}$\n",
       "$\\newcommand{\\xspace}{}$\n",
       "$\\newcommand{\\object}[1]{\\texttt{#1}}$\n",
       "$\\newcommand{\\farcs}{{.}''}$\n",
       "$\\newcommand{\\farcm}{{.}'}$\n",
       "$\\newcommand{\\arcsec}{''}$\n",
       "$\\newcommand{\\arcmin}{'}$\n",
       "$\\newcommand{\\ion}[2]{#1#2}$\n",
       "$\\newcommand{\\textsc}[1]{\\textrm{#1}}$\n",
       "$\\newcommand{\\hl}[1]{\\textrm{#1}}$\n",
       "$\\newcommand{\\footnote}[1]{}$\n",
       "$\\newcommand{\\ME}{\\(\\text{M}_\\Earth\\) }$\n",
       "$\\newcommand{\\ca}{\\sim}$</div>\n",
       "\n",
       "\n",
       "\n",
       "<div id=\"title\">\n",
       "\n",
       "# Feasibility of interferometric observations and characterization of planet-induced structures at sub au to au scales in protoplanetary disks\n",
       "\n",
       "</div>\n",
       "<div id=\"comments\">\n",
       "\n",
       "[![arXiv](https://img.shields.io/badge/arXiv-2506.17024-b31b1b.svg)](https://arxiv.org/abs/2506.17024)<mark>Appeared on: 2025-06-23</mark> -  _Accepted for publication in A&A, 16 pages, 11 figures, 1 table_\n",
       "\n",
       "</div>\n",
       "<div id=\"authors\">\n",
       "\n",
       "L. Hildebrandt, et al. -- incl., <mark>H. Klahr</mark>\n",
       "\n",
       "</div>\n",
       "<div id=\"abstract\">\n",
       "\n",
       "**Abstract:** Interferometric observations of protoplanetary disks by VLTI and ALMA have greatly improved our understanding of the detailed structure of these planetary birthplaces.   These observations have revealed a variety of large-scale disk substructures, including rings, gaps, and spirals, spanning tens to hundreds of au, supporting the predictions of planet formation models.   Recent instruments, such as MATISSE at the VLTI, allow one to resolve and investigate the inner few au of protoplanetary disks in nearby star formation regions, shedding light on the traces of planet formation and evolution at these small scales. The aim of this work is to assess the feasibility of interferometric observations of small-scale planet-induced substructures in protoplanetary disks in nearby star-forming regions.   We aim to characterize these substructures in multi-wavelength and multi-epoch observations and subsequently differentiate between simulation parameters. On the basis of 3D hydrodynamic simulations of embedded planetary companions and subsequent 3D Monte Carlo radiative transfer simulations, we calculated and analyzed interferometric observables, assuming observations with the VLTI in the K, L, M, and N bands. The hydrodynamic simulations exhibit mass-dependent planet-induced density waves that create observable substructures, most notably for the considered case of a 300 $\\ME$ planet. These substructures share similarities with observed large-scale structures and feature a prominent accretion region around the embedded planet. The visibilities show a detectable variability for multi-epoch VLTI/GRAVITY and VLTI/MATISSE observations, caused by the orbital motion of the planet, that are distinguishable from other sources of variability due to their unique combination of timescale and amplitude. Additionally, the non-uniform change of the visibilities at different baselines can be used to identify asymmetric structures. Furthermore, we show that multi-wavelength observations provide an approach to identify the fainter substructures and the signal of the accretion region.\n",
       "\n",
       "</div>\n",
       "\n",
       "<div id=\"div_fig1\">\n",
       "\n",
       "<img src=\"tmp_2506.17024/./Images/UV-planes/Visibilities_uv_all.png\" alt=\"Fig4\" width=\"100%\"/>\n",
       "\n",
       "**Figure 4. -** Simulated uv-plane visibilities in the K band (first row), L band (second), M band (third), and N band (fourth)  for the simulations with planet masses of 1 $\\ME$(left column), 10 $\\ME$(center), and 300 $\\ME$(right).   (*fig:visibilities*)\n",
       "\n",
       "</div>\n",
       "<div id=\"div_fig2\">\n",
       "\n",
       "<img src=\"tmp_2506.17024/./Images/Fluxmaps/Fluxmaps_complete.png\" alt=\"Fig3\" width=\"100%\"/>\n",
       "\n",
       "**Figure 3. -** Flux maps for the simulations with planet masses of 1 $\\ME$(left column), 10 $\\ME$(center), and 300 $\\ME$(right) in the K band (first row), L band (second), M band (third), and N band (fourth). The location of the planet, at a radial distance of 1 au north of the center, is indicated with a blue arrow in each simulation. The images are normalized with regard to the flux value of the central pixel where the star is located. (*fig:fluxcrossN*)\n",
       "\n",
       "</div>\n",
       "<div id=\"div_fig3\">\n",
       "\n",
       "<img src=\"tmp_2506.17024/./Images/Rotations/300_N_data_variance_rotation.png\" alt=\"Fig6\" width=\"100%\"/>\n",
       "\n",
       "**Figure 6. -** Interferometric variability in the simulated N band visibilities at radii in the uv-plane corresponding to all UT baselines for an embedded planet of 300 $\\ME$. Shown are the maximum variability, dependent on baseline length (left), and the measured visibility for a given baseline, dependent on the orbital motion of the planet and other disk substructures (right). (*fig:varrot300*)\n",
       "\n",
       "</div><div id=\"qrcode\"><img src=https://api.qrserver.com/v1/create-qr-code/?size=100x100&data=\"https://arxiv.org/abs/2506.17024\"></div>"
      ],
      "text/plain": [
       "<IPython.core.display.Markdown object>"
      ]
     },
     "metadata": {},
     "output_type": "display_data"
    }
   ],
   "source": [
    "[display(Markdown(k[1])) for k in documents];"
   ]
  },
  {
   "cell_type": "markdown",
   "id": "873873a4",
   "metadata": {
    "papermill": {
     "duration": 0.004909,
     "end_time": "2025-06-23T04:26:59.687204",
     "exception": false,
     "start_time": "2025-06-23T04:26:59.682295",
     "status": "completed"
    },
    "tags": []
   },
   "source": [
    "# Create HTML index"
   ]
  },
  {
   "cell_type": "code",
   "execution_count": 10,
   "id": "cf665672",
   "metadata": {
    "execution": {
     "iopub.execute_input": "2025-06-23T04:26:59.697667Z",
     "iopub.status.busy": "2025-06-23T04:26:59.697467Z",
     "iopub.status.idle": "2025-06-23T04:26:59.708289Z",
     "shell.execute_reply": "2025-06-23T04:26:59.707738Z"
    },
    "papermill": {
     "duration": 0.017208,
     "end_time": "2025-06-23T04:26:59.709247",
     "exception": false,
     "start_time": "2025-06-23T04:26:59.692039",
     "status": "completed"
    },
    "tags": []
   },
   "outputs": [
    {
     "name": "stdout",
     "output_type": "stream",
     "text": [
      "535  publications files modified in the last 7 days.\n"
     ]
    }
   ],
   "source": [
    "from datetime import datetime, timedelta, timezone\n",
    "from glob import glob\n",
    "import os\n",
    "\n",
    "files = glob('_build/html/*.md')\n",
    "days = 7\n",
    "now = datetime.today()\n",
    "res = []\n",
    "for fk in files:\n",
    "    stat_result = os.stat(fk).st_ctime\n",
    "    modified = datetime.fromtimestamp(stat_result, tz=timezone.utc).replace(tzinfo=None)\n",
    "    delta = now.today() - modified\n",
    "    if delta <= timedelta(days=days):\n",
    "        res.append((delta.seconds, fk))\n",
    "res = [k[1] for k in reversed(sorted(res, key=lambda x:x[1]))]\n",
    "npub = len(res)\n",
    "print(len(res), f\" publications files modified in the last {days:d} days.\")\n",
    "# [ print('\\t', k) for k in res ];"
   ]
  },
  {
   "cell_type": "code",
   "execution_count": 11,
   "id": "015de740",
   "metadata": {
    "execution": {
     "iopub.execute_input": "2025-06-23T04:26:59.720032Z",
     "iopub.status.busy": "2025-06-23T04:26:59.719817Z",
     "iopub.status.idle": "2025-06-23T04:26:59.745131Z",
     "shell.execute_reply": "2025-06-23T04:26:59.744468Z"
    },
    "papermill": {
     "duration": 0.031825,
     "end_time": "2025-06-23T04:26:59.746141",
     "exception": false,
     "start_time": "2025-06-23T04:26:59.714316",
     "status": "completed"
    },
    "tags": []
   },
   "outputs": [
    {
     "name": "stdout",
     "output_type": "stream",
     "text": [
      "14  publications in the last 7 days.\n"
     ]
    }
   ],
   "source": [
    "import datetime\n",
    "from glob import glob\n",
    "\n",
    "def get_last_n_days(lst, days=1):\n",
    "    \"\"\" Get the documents from the last n days \"\"\"\n",
    "    sorted_lst = sorted(lst, key=lambda x: x[1], reverse=True)\n",
    "    for fname, date in sorted_lst:\n",
    "        if date >= str(datetime.date.today() - datetime.timedelta(days=days)):\n",
    "            yield fname\n",
    "\n",
    "def extract_appearance_dates(lst_file):\n",
    "    dates = []\n",
    "\n",
    "    def get_date(line):\n",
    "        return line\\\n",
    "            .split('Appeared on:')[-1]\\\n",
    "            .split('</mark>')[0].strip()\n",
    "\n",
    "    for fname in lst:\n",
    "        with open(fname, 'r') as f:\n",
    "            found_date = False\n",
    "            for line in f:\n",
    "                if not found_date:\n",
    "                    if \"Appeared on\" in line:\n",
    "                        found_date = True\n",
    "                        dates.append((fname, get_date(line)))\n",
    "                else:\n",
    "                    break\n",
    "    return dates\n",
    "\n",
    "from glob import glob\n",
    "lst = glob('_build/html/*md')\n",
    "days = 7\n",
    "dates = extract_appearance_dates(lst)\n",
    "res = list(get_last_n_days(dates, days))\n",
    "npub = len(res)\n",
    "print(len(res), f\" publications in the last {days:d} days.\")"
   ]
  },
  {
   "cell_type": "code",
   "execution_count": 12,
   "id": "52ca0208",
   "metadata": {
    "execution": {
     "iopub.execute_input": "2025-06-23T04:26:59.757176Z",
     "iopub.status.busy": "2025-06-23T04:26:59.756784Z",
     "iopub.status.idle": "2025-06-23T04:26:59.761809Z",
     "shell.execute_reply": "2025-06-23T04:26:59.761166Z"
    },
    "papermill": {
     "duration": 0.01177,
     "end_time": "2025-06-23T04:26:59.762927",
     "exception": false,
     "start_time": "2025-06-23T04:26:59.751157",
     "status": "completed"
    },
    "scrolled": false,
    "tags": []
   },
   "outputs": [],
   "source": [
    "def create_carousel(npub=4):\n",
    "    \"\"\" Generate the HTML code for a carousel with `npub` slides \"\"\"\n",
    "    carousel = [\"\"\"  <div class=\"carousel\" \"\"\",\n",
    "                \"\"\"       data-flickity='{ \"autoPlay\": 10000, \"adaptiveHeight\": true, \"resize\": true, \"wrapAround\": true, \"pauseAutoPlayOnHover\": true, \"groupCells\": 1 }' id=\"asyncTypeset\">\"\"\"\n",
    "                ]\n",
    "    \n",
    "    item_str = \"\"\"    <div class=\"carousel-cell\"> <div id=\"slide{k}\" class=\"md_view\">Content {k}</div> </div>\"\"\"\n",
    "    for k in range(1, npub + 1):\n",
    "        carousel.append(item_str.format(k=k))\n",
    "    carousel.append(\"  </div>\")\n",
    "    return '\\n'.join(carousel)\n",
    "\n",
    "def create_grid(npub=4):\n",
    "    \"\"\" Generate the HTML code for a flat grid with `npub` slides \"\"\"\n",
    "    grid = [\"\"\"  <div class=\"grid\"> \"\"\",\n",
    "                ]\n",
    "    \n",
    "    item_str = \"\"\"    <div class=\"grid-item\"> <div id=\"slide{k}\" class=\"md_view\">Content {k}</div> </div>\"\"\"\n",
    "    for k in range(1, npub + 1):\n",
    "        grid.append(item_str.format(k=k))\n",
    "    grid.append(\"  </div>\")\n",
    "    return '\\n'.join(grid)"
   ]
  },
  {
   "cell_type": "code",
   "execution_count": 13,
   "id": "a6eac5b6",
   "metadata": {
    "execution": {
     "iopub.execute_input": "2025-06-23T04:26:59.774233Z",
     "iopub.status.busy": "2025-06-23T04:26:59.773769Z",
     "iopub.status.idle": "2025-06-23T04:26:59.778778Z",
     "shell.execute_reply": "2025-06-23T04:26:59.778255Z"
    },
    "papermill": {
     "duration": 0.011642,
     "end_time": "2025-06-23T04:26:59.779761",
     "exception": false,
     "start_time": "2025-06-23T04:26:59.768119",
     "status": "completed"
    },
    "scrolled": false,
    "tags": []
   },
   "outputs": [],
   "source": [
    "carousel = create_carousel(npub)\n",
    "docs = ', '.join(['\"{0:s}\"'.format(k.split('/')[-1]) for k in res])\n",
    "slides = ', '.join([f'\"slide{k}\"' for k in range(1, npub + 1)])\n",
    "\n",
    "with open(\"daily_template.html\", \"r\") as tpl:\n",
    "    page = tpl.read()\n",
    "    page = page.replace(\"{%-- carousel:s --%}\", carousel)\\\n",
    "               .replace(\"{%-- suptitle:s --%}\",  \"7-day archives\" )\\\n",
    "               .replace(\"{%-- docs:s --%}\", docs)\\\n",
    "               .replace(\"{%-- slides:s --%}\", slides)\n",
    "    \n",
    "with open(\"_build/html/index_7days.html\", 'w') as fout:\n",
    "    fout.write(page)"
   ]
  },
  {
   "cell_type": "code",
   "execution_count": 14,
   "id": "adc1a1ec",
   "metadata": {
    "execution": {
     "iopub.execute_input": "2025-06-23T04:26:59.791251Z",
     "iopub.status.busy": "2025-06-23T04:26:59.790766Z",
     "iopub.status.idle": "2025-06-23T04:26:59.798023Z",
     "shell.execute_reply": "2025-06-23T04:26:59.797448Z"
    },
    "papermill": {
     "duration": 0.01393,
     "end_time": "2025-06-23T04:26:59.798990",
     "exception": false,
     "start_time": "2025-06-23T04:26:59.785060",
     "status": "completed"
    },
    "tags": []
   },
   "outputs": [
    {
     "name": "stdout",
     "output_type": "stream",
     "text": [
      "3  publications in the last day.\n"
     ]
    }
   ],
   "source": [
    "# redo for today\n",
    "days = 1\n",
    "res = list(get_last_n_days(dates, days))\n",
    "npub = len(res)\n",
    "print(len(res), f\" publications in the last day.\")\n",
    "\n",
    "carousel = create_carousel(npub)\n",
    "docs = ', '.join(['\"{0:s}\"'.format(k.split('/')[-1]) for k in res])\n",
    "slides = ', '.join([f'\"slide{k}\"' for k in range(1, npub + 1)])\n",
    "\n",
    "with open(\"daily_template.html\", \"r\") as tpl:\n",
    "    page = tpl.read()\n",
    "    page = page.replace(\"{%-- carousel:s --%}\", carousel)\\\n",
    "               .replace(\"{%-- suptitle:s --%}\",  \"Daily\" )\\\n",
    "               .replace(\"{%-- docs:s --%}\", docs)\\\n",
    "               .replace(\"{%-- slides:s --%}\", slides)\n",
    "    \n",
    "# print(carousel, docs, slides)\n",
    "# print(page)\n",
    "with open(\"_build/html/index_daily.html\", 'w') as fout:\n",
    "    fout.write(page)"
   ]
  },
  {
   "cell_type": "code",
   "execution_count": 15,
   "id": "00eece82",
   "metadata": {
    "execution": {
     "iopub.execute_input": "2025-06-23T04:26:59.810306Z",
     "iopub.status.busy": "2025-06-23T04:26:59.810117Z",
     "iopub.status.idle": "2025-06-23T04:26:59.816911Z",
     "shell.execute_reply": "2025-06-23T04:26:59.816344Z"
    },
    "papermill": {
     "duration": 0.013552,
     "end_time": "2025-06-23T04:26:59.817827",
     "exception": false,
     "start_time": "2025-06-23T04:26:59.804275",
     "status": "completed"
    },
    "scrolled": false,
    "tags": []
   },
   "outputs": [
    {
     "name": "stdout",
     "output_type": "stream",
     "text": [
      "6  6 publications selected.\n"
     ]
    }
   ],
   "source": [
    "# Create the flat grid of the last N papers (fixed number regardless of dates)\n",
    "from itertools import islice \n",
    "\n",
    "npub = 6\n",
    "res = [k[0] for k in (islice(reversed(sorted(dates, key=lambda x: x[1])), 6))]\n",
    "print(len(res), f\" {npub} publications selected.\")\n",
    "\n",
    "grid = create_grid(npub)\n",
    "docs = ', '.join(['\"{0:s}\"'.format(k.split('/')[-1]) for k in res])\n",
    "slides = ', '.join([f'\"slide{k}\"' for k in range(1, npub + 1)])\n",
    "\n",
    "with open(\"grid_template.html\", \"r\") as tpl:\n",
    "    page = tpl.read()\n",
    "    page = page.replace(\"{%-- grid-content:s --%}\", grid)\\\n",
    "               .replace(\"{%-- suptitle:s --%}\",  f\"Last {npub:,d} papers\" )\\\n",
    "               .replace(\"{%-- docs:s --%}\", docs)\\\n",
    "               .replace(\"{%-- slides:s --%}\", slides)\n",
    "    \n",
    "# print(grid, docs, slides)\n",
    "# print(page)\n",
    "with open(\"_build/html/index_npub_grid.html\", 'w') as fout:\n",
    "    fout.write(page)"
   ]
  }
 ],
 "metadata": {
  "kernelspec": {
   "display_name": "Python 3 (ipykernel)",
   "language": "python",
   "name": "python3"
  },
  "language_info": {
   "codemirror_mode": {
    "name": "ipython",
    "version": 3
   },
   "file_extension": ".py",
   "mimetype": "text/x-python",
   "name": "python",
   "nbconvert_exporter": "python",
   "pygments_lexer": "ipython3",
   "version": "3.9.22"
  },
  "papermill": {
   "default_parameters": {},
   "duration": 64.773144,
   "end_time": "2025-06-23T04:27:00.039229",
   "environment_variables": {},
   "exception": null,
   "input_path": "MPIA daily digest.ipynb",
   "output_path": "log.ipynb",
   "parameters": {},
   "start_time": "2025-06-23T04:25:55.266085",
   "version": "2.6.0"
  },
  "vscode": {
   "interpreter": {
    "hash": "aee8b7b246df8f9039afb4144a1f6fd8d2ca17a180786b69acc140d282b71a49"
   }
  },
  "widgets": {
   "application/vnd.jupyter.widget-state+json": {
    "state": {
     "0b7b744770f3450881dca5bad0979be3": {
      "model_module": "@jupyter-widgets/controls",
      "model_module_version": "2.0.0",
      "model_name": "HTMLModel",
      "state": {
       "_dom_classes": [],
       "_model_module": "@jupyter-widgets/controls",
       "_model_module_version": "2.0.0",
       "_model_name": "HTMLModel",
       "_view_count": null,
       "_view_module": "@jupyter-widgets/controls",
       "_view_module_version": "2.0.0",
       "_view_name": "HTMLView",
       "description": "",
       "description_allow_html": false,
       "layout": "IPY_MODEL_527878fc09f447349db61aa3f17af7bc",
       "placeholder": "​",
       "style": "IPY_MODEL_71ed3b8e8f054080b5ca346a085fd3ce",
       "tabbable": null,
       "tooltip": null,
       "value": "100%"
      }
     },
     "0f7be979db604df4b69d46fe2d302288": {
      "model_module": "@jupyter-widgets/controls",
      "model_module_version": "2.0.0",
      "model_name": "HTMLStyleModel",
      "state": {
       "_model_module": "@jupyter-widgets/controls",
       "_model_module_version": "2.0.0",
       "_model_name": "HTMLStyleModel",
       "_view_count": null,
       "_view_module": "@jupyter-widgets/base",
       "_view_module_version": "2.0.0",
       "_view_name": "StyleView",
       "background": null,
       "description_width": "",
       "font_size": null,
       "text_color": null
      }
     },
     "1e69332b6f194887a7b6a5d41af11545": {
      "model_module": "@jupyter-widgets/controls",
      "model_module_version": "2.0.0",
      "model_name": "HBoxModel",
      "state": {
       "_dom_classes": [],
       "_model_module": "@jupyter-widgets/controls",
       "_model_module_version": "2.0.0",
       "_model_name": "HBoxModel",
       "_view_count": null,
       "_view_module": "@jupyter-widgets/controls",
       "_view_module_version": "2.0.0",
       "_view_name": "HBoxView",
       "box_style": "",
       "children": [
        "IPY_MODEL_0b7b744770f3450881dca5bad0979be3",
        "IPY_MODEL_74860e1022f342b7bf94143ed9c3f1c5",
        "IPY_MODEL_791ba5edb10d4fe98aad420f086faf4a"
       ],
       "layout": "IPY_MODEL_ada2bdff2271427492ac0d5166195489",
       "tabbable": null,
       "tooltip": null
      }
     },
     "3577479403f145f8b227b812b1650fdd": {
      "model_module": "@jupyter-widgets/base",
      "model_module_version": "2.0.0",
      "model_name": "LayoutModel",
      "state": {
       "_model_module": "@jupyter-widgets/base",
       "_model_module_version": "2.0.0",
       "_model_name": "LayoutModel",
       "_view_count": null,
       "_view_module": "@jupyter-widgets/base",
       "_view_module_version": "2.0.0",
       "_view_name": "LayoutView",
       "align_content": null,
       "align_items": null,
       "align_self": null,
       "border_bottom": null,
       "border_left": null,
       "border_right": null,
       "border_top": null,
       "bottom": null,
       "display": null,
       "flex": null,
       "flex_flow": null,
       "grid_area": null,
       "grid_auto_columns": null,
       "grid_auto_flow": null,
       "grid_auto_rows": null,
       "grid_column": null,
       "grid_gap": null,
       "grid_row": null,
       "grid_template_areas": null,
       "grid_template_columns": null,
       "grid_template_rows": null,
       "height": null,
       "justify_content": null,
       "justify_items": null,
       "left": null,
       "margin": null,
       "max_height": null,
       "max_width": null,
       "min_height": null,
       "min_width": null,
       "object_fit": null,
       "object_position": null,
       "order": null,
       "overflow": null,
       "padding": null,
       "right": null,
       "top": null,
       "visibility": null,
       "width": null
      }
     },
     "39ff0f425d1240b5b586a2dd80f0d2fd": {
      "model_module": "@jupyter-widgets/base",
      "model_module_version": "2.0.0",
      "model_name": "LayoutModel",
      "state": {
       "_model_module": "@jupyter-widgets/base",
       "_model_module_version": "2.0.0",
       "_model_name": "LayoutModel",
       "_view_count": null,
       "_view_module": "@jupyter-widgets/base",
       "_view_module_version": "2.0.0",
       "_view_name": "LayoutView",
       "align_content": null,
       "align_items": null,
       "align_self": null,
       "border_bottom": null,
       "border_left": null,
       "border_right": null,
       "border_top": null,
       "bottom": null,
       "display": null,
       "flex": null,
       "flex_flow": null,
       "grid_area": null,
       "grid_auto_columns": null,
       "grid_auto_flow": null,
       "grid_auto_rows": null,
       "grid_column": null,
       "grid_gap": null,
       "grid_row": null,
       "grid_template_areas": null,
       "grid_template_columns": null,
       "grid_template_rows": null,
       "height": null,
       "justify_content": null,
       "justify_items": null,
       "left": null,
       "margin": null,
       "max_height": null,
       "max_width": null,
       "min_height": null,
       "min_width": null,
       "object_fit": null,
       "object_position": null,
       "order": null,
       "overflow": null,
       "padding": null,
       "right": null,
       "top": null,
       "visibility": null,
       "width": null
      }
     },
     "527878fc09f447349db61aa3f17af7bc": {
      "model_module": "@jupyter-widgets/base",
      "model_module_version": "2.0.0",
      "model_name": "LayoutModel",
      "state": {
       "_model_module": "@jupyter-widgets/base",
       "_model_module_version": "2.0.0",
       "_model_name": "LayoutModel",
       "_view_count": null,
       "_view_module": "@jupyter-widgets/base",
       "_view_module_version": "2.0.0",
       "_view_name": "LayoutView",
       "align_content": null,
       "align_items": null,
       "align_self": null,
       "border_bottom": null,
       "border_left": null,
       "border_right": null,
       "border_top": null,
       "bottom": null,
       "display": null,
       "flex": null,
       "flex_flow": null,
       "grid_area": null,
       "grid_auto_columns": null,
       "grid_auto_flow": null,
       "grid_auto_rows": null,
       "grid_column": null,
       "grid_gap": null,
       "grid_row": null,
       "grid_template_areas": null,
       "grid_template_columns": null,
       "grid_template_rows": null,
       "height": null,
       "justify_content": null,
       "justify_items": null,
       "left": null,
       "margin": null,
       "max_height": null,
       "max_width": null,
       "min_height": null,
       "min_width": null,
       "object_fit": null,
       "object_position": null,
       "order": null,
       "overflow": null,
       "padding": null,
       "right": null,
       "top": null,
       "visibility": null,
       "width": null
      }
     },
     "71ed3b8e8f054080b5ca346a085fd3ce": {
      "model_module": "@jupyter-widgets/controls",
      "model_module_version": "2.0.0",
      "model_name": "HTMLStyleModel",
      "state": {
       "_model_module": "@jupyter-widgets/controls",
       "_model_module_version": "2.0.0",
       "_model_name": "HTMLStyleModel",
       "_view_count": null,
       "_view_module": "@jupyter-widgets/base",
       "_view_module_version": "2.0.0",
       "_view_name": "StyleView",
       "background": null,
       "description_width": "",
       "font_size": null,
       "text_color": null
      }
     },
     "74860e1022f342b7bf94143ed9c3f1c5": {
      "model_module": "@jupyter-widgets/controls",
      "model_module_version": "2.0.0",
      "model_name": "FloatProgressModel",
      "state": {
       "_dom_classes": [],
       "_model_module": "@jupyter-widgets/controls",
       "_model_module_version": "2.0.0",
       "_model_name": "FloatProgressModel",
       "_view_count": null,
       "_view_module": "@jupyter-widgets/controls",
       "_view_module_version": "2.0.0",
       "_view_name": "ProgressView",
       "bar_style": "success",
       "description": "",
       "description_allow_html": false,
       "layout": "IPY_MODEL_39ff0f425d1240b5b586a2dd80f0d2fd",
       "max": 4.0,
       "min": 0.0,
       "orientation": "horizontal",
       "style": "IPY_MODEL_d91b99ae70ec4bc797c32188e1fe1b62",
       "tabbable": null,
       "tooltip": null,
       "value": 4.0
      }
     },
     "791ba5edb10d4fe98aad420f086faf4a": {
      "model_module": "@jupyter-widgets/controls",
      "model_module_version": "2.0.0",
      "model_name": "HTMLModel",
      "state": {
       "_dom_classes": [],
       "_model_module": "@jupyter-widgets/controls",
       "_model_module_version": "2.0.0",
       "_model_name": "HTMLModel",
       "_view_count": null,
       "_view_module": "@jupyter-widgets/controls",
       "_view_module_version": "2.0.0",
       "_view_name": "HTMLView",
       "description": "",
       "description_allow_html": false,
       "layout": "IPY_MODEL_3577479403f145f8b227b812b1650fdd",
       "placeholder": "​",
       "style": "IPY_MODEL_0f7be979db604df4b69d46fe2d302288",
       "tabbable": null,
       "tooltip": null,
       "value": " 4/4 [00:42&lt;00:00,  7.30s/it]"
      }
     },
     "ada2bdff2271427492ac0d5166195489": {
      "model_module": "@jupyter-widgets/base",
      "model_module_version": "2.0.0",
      "model_name": "LayoutModel",
      "state": {
       "_model_module": "@jupyter-widgets/base",
       "_model_module_version": "2.0.0",
       "_model_name": "LayoutModel",
       "_view_count": null,
       "_view_module": "@jupyter-widgets/base",
       "_view_module_version": "2.0.0",
       "_view_name": "LayoutView",
       "align_content": null,
       "align_items": null,
       "align_self": null,
       "border_bottom": null,
       "border_left": null,
       "border_right": null,
       "border_top": null,
       "bottom": null,
       "display": null,
       "flex": null,
       "flex_flow": null,
       "grid_area": null,
       "grid_auto_columns": null,
       "grid_auto_flow": null,
       "grid_auto_rows": null,
       "grid_column": null,
       "grid_gap": null,
       "grid_row": null,
       "grid_template_areas": null,
       "grid_template_columns": null,
       "grid_template_rows": null,
       "height": null,
       "justify_content": null,
       "justify_items": null,
       "left": null,
       "margin": null,
       "max_height": null,
       "max_width": null,
       "min_height": null,
       "min_width": null,
       "object_fit": null,
       "object_position": null,
       "order": null,
       "overflow": null,
       "padding": null,
       "right": null,
       "top": null,
       "visibility": null,
       "width": null
      }
     },
     "d91b99ae70ec4bc797c32188e1fe1b62": {
      "model_module": "@jupyter-widgets/controls",
      "model_module_version": "2.0.0",
      "model_name": "ProgressStyleModel",
      "state": {
       "_model_module": "@jupyter-widgets/controls",
       "_model_module_version": "2.0.0",
       "_model_name": "ProgressStyleModel",
       "_view_count": null,
       "_view_module": "@jupyter-widgets/base",
       "_view_module_version": "2.0.0",
       "_view_name": "StyleView",
       "bar_color": null,
       "description_width": ""
      }
     }
    },
    "version_major": 2,
    "version_minor": 0
   }
  }
 },
 "nbformat": 4,
 "nbformat_minor": 5
}