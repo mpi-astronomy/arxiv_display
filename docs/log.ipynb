{
 "cells": [
  {
   "cell_type": "markdown",
   "id": "92bcb855",
   "metadata": {
    "papermill": {
     "duration": 0.00398,
     "end_time": "2024-10-10T04:10:36.601234",
     "exception": false,
     "start_time": "2024-10-10T04:10:36.597254",
     "status": "completed"
    },
    "tags": []
   },
   "source": [
    "# MPIA Arxiv on Deck 2\n",
    "\n",
    "Contains the steps to produce the paper extractions."
   ]
  },
  {
   "cell_type": "code",
   "execution_count": 1,
   "id": "3a0d6e11",
   "metadata": {
    "execution": {
     "iopub.execute_input": "2024-10-10T04:10:36.608510Z",
     "iopub.status.busy": "2024-10-10T04:10:36.608237Z",
     "iopub.status.idle": "2024-10-10T04:10:36.943831Z",
     "shell.execute_reply": "2024-10-10T04:10:36.943128Z"
    },
    "papermill": {
     "duration": 0.340653,
     "end_time": "2024-10-10T04:10:36.945189",
     "exception": false,
     "start_time": "2024-10-10T04:10:36.604536",
     "status": "completed"
    },
    "tags": []
   },
   "outputs": [],
   "source": [
    "# Imports\n",
    "import os\n",
    "from IPython.display import Markdown, display\n",
    "from tqdm.notebook import tqdm\n",
    "import warnings\n",
    "from PIL import Image \n",
    "import re\n",
    "\n",
    "# requires arxiv_on_deck_2\n",
    "\n",
    "from arxiv_on_deck_2.arxiv2 import (get_new_papers, \n",
    "                                    get_paper_from_identifier,\n",
    "                                    retrieve_document_source, \n",
    "                                    get_markdown_badge)\n",
    "from arxiv_on_deck_2 import (latex,\n",
    "                             latex_bib,\n",
    "                             mpia,\n",
    "                             highlight_authors_in_list)\n",
    "\n",
    "# Sometimes images are really big\n",
    "Image.MAX_IMAGE_PIXELS = 1000000000 "
   ]
  },
  {
   "cell_type": "code",
   "execution_count": 2,
   "id": "22aa9d44",
   "metadata": {
    "execution": {
     "iopub.execute_input": "2024-10-10T04:10:36.952544Z",
     "iopub.status.busy": "2024-10-10T04:10:36.952042Z",
     "iopub.status.idle": "2024-10-10T04:10:36.959938Z",
     "shell.execute_reply": "2024-10-10T04:10:36.959405Z"
    },
    "papermill": {
     "duration": 0.012445,
     "end_time": "2024-10-10T04:10:36.960905",
     "exception": false,
     "start_time": "2024-10-10T04:10:36.948460",
     "status": "completed"
    },
    "tags": []
   },
   "outputs": [],
   "source": [
    "# Some useful definitions.\n",
    "\n",
    "class AffiliationWarning(UserWarning):\n",
    "    pass\n",
    "\n",
    "class AffiliationError(RuntimeError):\n",
    "    pass\n",
    "\n",
    "def validation(source: str):\n",
    "    \"\"\"Raises error paper during parsing of source file\n",
    "    \n",
    "    Allows checks before parsing TeX code.\n",
    "    \n",
    "    Raises AffiliationWarning\n",
    "    \"\"\"\n",
    "    check = mpia.affiliation_verifications(source, verbose=True)\n",
    "    if check is not True:\n",
    "        raise AffiliationError(\"mpia.affiliation_verifications: \" + check)\n",
    "\n",
    "        \n",
    "warnings.simplefilter('always', AffiliationWarning)\n",
    "\n",
    "\n",
    "def get_markdown_qrcode(paper_id: str):\n",
    "    \"\"\" Generate a qrcode to the arxiv page using qrserver.com\n",
    "    \n",
    "    :param paper: Arxiv paper\n",
    "    :returns: markdown text\n",
    "    \"\"\"\n",
    "    url = r\"https://api.qrserver.com/v1/create-qr-code/?size=100x100&data=\"\n",
    "    txt = f\"\"\"<img src={url}\"https://arxiv.org/abs/{paper_id}\">\"\"\"\n",
    "    txt = '<div id=\"qrcode\">' + txt + '</div>'\n",
    "    return txt\n",
    "\n",
    "\n",
    "def clean_non_western_encoded_characters_commands(text: str) -> str:\n",
    "    \"\"\" Remove non-western encoded characters from a string\n",
    "    List may need to grow.\n",
    "    \n",
    "    :param text: the text to clean\n",
    "    :return: the cleaned text\n",
    "    \"\"\"\n",
    "    text = re.sub(r\"(\\\\begin{CJK}{UTF8}{gbsn})(.*?)(\\\\end{CJK})\", r\"\\2\", text)\n",
    "    return text\n",
    "\n",
    "\n",
    "def get_initials(name: str) -> str:\n",
    "    \"\"\" Get the short name, e.g., A.-B. FamName\n",
    "    :param name: full name\n",
    "    :returns: initials\n",
    "    \"\"\"\n",
    "    initials = []\n",
    "    # account for non western names often in ()\n",
    "    if '(' in name:\n",
    "        name = clean_non_western_encoded_characters_commands(name)\n",
    "        suffix = re.findall(r\"\\((.*?)\\)\", name)[0]\n",
    "        name = name.replace(f\"({suffix})\", '')\n",
    "    else:\n",
    "        suffix = ''\n",
    "    split = name.split()\n",
    "    for token in split[:-1]:\n",
    "        if '-' in token:\n",
    "            current = '-'.join([k[0] + '.' for k in token.split('-')])\n",
    "        else:\n",
    "            current = token[0] + '.'\n",
    "        initials.append(current)\n",
    "    initials.append(split[-1].strip())\n",
    "    if suffix:\n",
    "        initials.append(f\"({suffix})\")\n",
    "    return ' '.join(initials)"
   ]
  },
  {
   "cell_type": "markdown",
   "id": "14bd6310",
   "metadata": {
    "papermill": {
     "duration": 0.00296,
     "end_time": "2024-10-10T04:10:36.966881",
     "exception": false,
     "start_time": "2024-10-10T04:10:36.963921",
     "status": "completed"
    },
    "tags": []
   },
   "source": [
    "## get list of arxiv paper candidates\n",
    "\n",
    "We use the MPIA mitarbeiter list webpage from mpia.de to get author names\n",
    "We then get all new papers from Arxiv and match authors"
   ]
  },
  {
   "cell_type": "code",
   "execution_count": 3,
   "id": "7ea813a8",
   "metadata": {
    "execution": {
     "iopub.execute_input": "2024-10-10T04:10:36.973616Z",
     "iopub.status.busy": "2024-10-10T04:10:36.973282Z",
     "iopub.status.idle": "2024-10-10T04:10:53.985416Z",
     "shell.execute_reply": "2024-10-10T04:10:53.984792Z"
    },
    "papermill": {
     "duration": 17.016852,
     "end_time": "2024-10-10T04:10:53.986622",
     "exception": false,
     "start_time": "2024-10-10T04:10:36.969770",
     "status": "completed"
    },
    "tags": []
   },
   "outputs": [],
   "source": [
    "# deal with the author list and edge cases of people that cannot be consistent on their name  \n",
    "\n",
    "def filter_non_scientists(name: str) -> bool:\n",
    "    \"\"\" Loose filter on expected authorships\n",
    "\n",
    "    removing IT, administration, technical staff\n",
    "    :param name: name\n",
    "    :returns: False if name is not a scientist\n",
    "    \"\"\"\n",
    "    remove_list = ['Licht', 'Binroth', 'Witzel', 'Jordan',\n",
    "                   'Zähringer', 'Scheerer', 'Hoffmann', 'Düe',\n",
    "                   'Hellmich', 'Enkler-Scharpegge', 'Witte-Nguy',\n",
    "                   'Dehen', 'Beckmann', 'Jager', 'Jäger'\n",
    "                  ]\n",
    "\n",
    "    for k in remove_list:\n",
    "        if k in name:\n",
    "            return False\n",
    "    return True\n",
    "\n",
    "def add_author_to_list(author_list: list) -> list:\n",
    "    \"\"\" Add author to list if not already in list\n",
    "    \n",
    "    :param author: author name\n",
    "    :param author_list: list of authors\n",
    "    :returns: updated list of authors\n",
    "    \"\"\"\n",
    "    add_list = ['T. Henning']\n",
    "\n",
    "    for author in add_list:\n",
    "        if author not in author_list:\n",
    "            author_list.append(author)\n",
    "    return author_list\n",
    "\n",
    "# get list from MPIA website\n",
    "# filter for non-scientists (mpia.get_mpia_mitarbeiter_list() does some filtering)\n",
    "mpia_authors = [k[1] for k in mpia.get_mpia_mitarbeiter_list() if filter_non_scientists(k[1])]\n",
    "# add some missing author because of inconsistencies in their MPIA name and author name on papers\n",
    "mpia_authors = add_author_to_list(mpia_authors)"
   ]
  },
  {
   "cell_type": "code",
   "execution_count": 4,
   "id": "2645e73a",
   "metadata": {
    "execution": {
     "iopub.execute_input": "2024-10-10T04:10:53.994132Z",
     "iopub.status.busy": "2024-10-10T04:10:53.993695Z",
     "iopub.status.idle": "2024-10-10T04:10:55.173345Z",
     "shell.execute_reply": "2024-10-10T04:10:55.172754Z"
    },
    "papermill": {
     "duration": 1.184408,
     "end_time": "2024-10-10T04:10:55.174312",
     "exception": false,
     "start_time": "2024-10-10T04:10:53.989904",
     "status": "completed"
    },
    "tags": []
   },
   "outputs": [
    {
     "name": "stdout",
     "output_type": "stream",
     "text": [
      "B. Saha  ->  B. Saha  |  ['B. Saha']\n",
      "K. Kreckel  ->  K. Kreckel  |  ['K. Kreckel']\n",
      "E. Schinnerer  ->  E. Schinnerer  |  ['E. Schinnerer']\n",
      "N. Neumayer  ->  N. Neumayer  |  ['N. Neumayer']\n"
     ]
    },
    {
     "name": "stdout",
     "output_type": "stream",
     "text": [
      "A. d. Graaff  ->  A. D. Graaff  |  ['A. D. Graaff']\n",
      "K. Jahnke  ->  K. Jahnke  |  ['K. Jahnke']\n",
      "H. Beuther  ->  H. Beuther  |  ['H. Beuther']\n",
      "H. Linz  ->  H. Linz  |  ['H. Linz']\n",
      "J. Li  ->  J. Li  |  ['J. Li']\n",
      "X. Zhang  ->  X. Zhang  |  ['X. Zhang']\n"
     ]
    },
    {
     "name": "stdout",
     "output_type": "stream",
     "text": [
      "Arxiv has 148 new papers today\n",
      "          8 with possible author matches\n"
     ]
    }
   ],
   "source": [
    "new_papers = get_new_papers()\n",
    "# add manual references\n",
    "add_paper_refs = []\n",
    "new_papers.extend([get_paper_from_identifier(k) for k in add_paper_refs])\n",
    "\n",
    "def robust_call(fn, value, *args, **kwargs):\n",
    "    try:\n",
    "        return fn(value, *args, **kwargs)\n",
    "    except Exception:\n",
    "        return value\n",
    "\n",
    "candidates = []\n",
    "for paperk in new_papers:\n",
    "    # Check author list with their initials\n",
    "    normed_author_list = [robust_call(mpia.get_initials, k) for k in paperk['authors']]\n",
    "    hl_authors = highlight_authors_in_list(normed_author_list, mpia_authors, verbose=True)\n",
    "    matches = [(hl, orig) for hl, orig in zip(hl_authors, paperk['authors']) if 'mark' in hl]\n",
    "    paperk['authors'] = hl_authors\n",
    "    if matches:\n",
    "        # only select paper if an author matched our list\n",
    "        candidates.append(paperk)\n",
    "print(\"\"\"Arxiv has {0:,d} new papers today\"\"\".format(len(new_papers)))        \n",
    "print(\"\"\"          {0:,d} with possible author matches\"\"\".format(len(candidates)))"
   ]
  },
  {
   "cell_type": "markdown",
   "id": "3543b34a",
   "metadata": {
    "papermill": {
     "duration": 0.003148,
     "end_time": "2024-10-10T04:10:55.181029",
     "exception": false,
     "start_time": "2024-10-10T04:10:55.177881",
     "status": "completed"
    },
    "tags": []
   },
   "source": [
    "# Parse sources and generate relevant outputs\n",
    "\n",
    "From the candidates, we do the following steps:\n",
    "* get their tarball from ArXiv (and extract data)\n",
    "* find the main .tex file: find one with \\documentclass{...} (sometimes it's non trivial)\n",
    "* Check affiliations with :func:`validation`, which uses :func:`mpia.affiliation_verifications`\n",
    "* If passing the affiliations: we parse the .tex source\n",
    "   * inject sub-documents into the main (flatten the main document)\n",
    "   * parse structure, extract information (title, abstract, authors, figures...)\n",
    "   * handles `\\graphicspath` if provided\n",
    "* Generate the .md document."
   ]
  },
  {
   "cell_type": "code",
   "execution_count": 5,
   "id": "9576b79e",
   "metadata": {
    "execution": {
     "iopub.execute_input": "2024-10-10T04:10:55.188317Z",
     "iopub.status.busy": "2024-10-10T04:10:55.188067Z",
     "iopub.status.idle": "2024-10-10T04:12:38.462718Z",
     "shell.execute_reply": "2024-10-10T04:12:38.461995Z"
    },
    "papermill": {
     "duration": 103.279508,
     "end_time": "2024-10-10T04:12:38.463727",
     "exception": false,
     "start_time": "2024-10-10T04:10:55.184219",
     "status": "completed"
    },
    "scrolled": false,
    "tags": []
   },
   "outputs": [
    {
     "data": {
      "application/vnd.jupyter.widget-view+json": {
       "model_id": "9694842cebc24bcbbb299e48b8be7b66",
       "version_major": 2,
       "version_minor": 0
      },
      "text/plain": [
       "  0%|          | 0/8 [00:00<?, ?it/s]"
      ]
     },
     "metadata": {},
     "output_type": "display_data"
    },
    {
     "name": "stdout",
     "output_type": "stream",
     "text": [
      "Retrieving document from  https://arxiv.org/e-print/2410.05376\n"
     ]
    },
    {
     "name": "stdout",
     "output_type": "stream",
     "text": [
      "extracting tarball to tmp_2410.05376..."
     ]
    },
    {
     "name": "stdout",
     "output_type": "stream",
     "text": [
      " done.\n"
     ]
    },
    {
     "name": "stdout",
     "output_type": "stream",
     "text": [
      "Found 36 bibliographic references in tmp_2410.05376/main.bbl.\n",
      "Retrieving document from  https://arxiv.org/e-print/2410.05397\n"
     ]
    },
    {
     "name": "stdout",
     "output_type": "stream",
     "text": [
      "extracting tarball to tmp_2410.05397..."
     ]
    },
    {
     "name": "stdout",
     "output_type": "stream",
     "text": [
      " done.\n"
     ]
    },
    {
     "name": "stderr",
     "output_type": "stream",
     "text": [
      "/opt/hostedtoolcache/Python/3.9.20/x64/lib/python3.9/site-packages/IPython/core/interactiveshell.py:3550: LatexWarning: Multiple tex files.\n",
      "\n",
      "  exec(code_obj, self.user_global_ns, self.user_ns)\n",
      "/opt/hostedtoolcache/Python/3.9.20/x64/lib/python3.9/site-packages/IPython/core/interactiveshell.py:3550: LatexWarning: Found documentclass in tmp_2410.05397/main.tex\n",
      "\n",
      "  exec(code_obj, self.user_global_ns, self.user_ns)\n",
      "/opt/hostedtoolcache/Python/3.9.20/x64/lib/python3.9/site-packages/arxiv_on_deck_2/latex.py:414: LatexWarning: Latex injecting: 'appendix' from 'tmp_2410.05397/appendix.tex'\n",
      "  warnings.warn(LatexWarning(f\"Latex injecting: '{ext}' from '{subsource}'\"))\n",
      "/opt/hostedtoolcache/Python/3.9.20/x64/lib/python3.9/site-packages/arxiv_on_deck_2/latex.py:414: LatexWarning: Latex injecting: 'big_fit_table' from 'tmp_2410.05397/big_fit_table.tex'\n",
      "  warnings.warn(LatexWarning(f\"Latex injecting: '{ext}' from '{subsource}'\"))\n",
      "/opt/hostedtoolcache/Python/3.9.20/x64/lib/python3.9/site-packages/arxiv_on_deck_2/latex.py:414: LatexWarning: Latex injecting: 'table_fracs' from 'tmp_2410.05397/table_fracs.tex'\n",
      "  warnings.warn(LatexWarning(f\"Latex injecting: '{ext}' from '{subsource}'\"))\n",
      "/opt/hostedtoolcache/Python/3.9.20/x64/lib/python3.9/site-packages/arxiv_on_deck_2/latex.py:414: LatexWarning: Latex injecting: 'authors' from 'tmp_2410.05397/authors.tex'\n",
      "  warnings.warn(LatexWarning(f\"Latex injecting: '{ext}' from '{subsource}'\"))\n",
      "/opt/hostedtoolcache/Python/3.9.20/x64/lib/python3.9/site-packages/arxiv_on_deck_2/latex.py:414: LatexWarning: Latex injecting: 'affiliations' from 'tmp_2410.05397/affiliations.tex'\n",
      "  warnings.warn(LatexWarning(f\"Latex injecting: '{ext}' from '{subsource}'\"))\n"
     ]
    },
    {
     "name": "stdout",
     "output_type": "stream",
     "text": [
      "K. Kreckel  ->  K. Kreckel  |  ['K. Kreckel']\n",
      "E. Schinnerer  ->  E. Schinnerer  |  ['E. Schinnerer']\n"
     ]
    },
    {
     "name": "stdout",
     "output_type": "stream",
     "text": [
      "Found 75 bibliographic references in tmp_2410.05397/main.bbl.\n",
      "Retrieving document from  https://arxiv.org/e-print/2410.05761\n"
     ]
    },
    {
     "name": "stdout",
     "output_type": "stream",
     "text": [
      "extracting tarball to tmp_2410.05761..."
     ]
    },
    {
     "name": "stdout",
     "output_type": "stream",
     "text": [
      " done.\n"
     ]
    },
    {
     "name": "stdout",
     "output_type": "stream",
     "text": [
      "N. Neumayer  ->  N. Neumayer  |  ['N. Neumayer']\n"
     ]
    },
    {
     "name": "stdout",
     "output_type": "stream",
     "text": [
      "Found 91 bibliographic references in tmp_2410.05761/8gal.bbl.\n",
      "Retrieving document from  https://arxiv.org/e-print/2410.06257\n"
     ]
    },
    {
     "name": "stdout",
     "output_type": "stream",
     "text": [
      "extracting tarball to tmp_2410.06257..."
     ]
    },
    {
     "name": "stdout",
     "output_type": "stream",
     "text": [
      " done.\n",
      "  0: tmp_2410.06257/main.tex, 400 lines\n",
      "  1: tmp_2410.06257/aassymbols.tex, 579 lines\n",
      "Retrieving document from  https://arxiv.org/e-print/2410.06268\n"
     ]
    },
    {
     "name": "stderr",
     "output_type": "stream",
     "text": [
      "/opt/hostedtoolcache/Python/3.9.20/x64/lib/python3.9/site-packages/IPython/core/interactiveshell.py:3550: LatexWarning: Multiple tex files.\n",
      "\n",
      "  exec(code_obj, self.user_global_ns, self.user_ns)\n",
      "/opt/hostedtoolcache/Python/3.9.20/x64/lib/python3.9/site-packages/IPython/core/interactiveshell.py:3550: LatexWarning: Found 2 candidates with documentclass definition.\n",
      "  exec(code_obj, self.user_global_ns, self.user_ns)\n",
      "/opt/hostedtoolcache/Python/3.9.20/x64/lib/python3.9/site-packages/IPython/core/interactiveshell.py:3550: LatexWarning: Assuming tmp_2410.06257/aassymbols.tex as main document.\n",
      "  exec(code_obj, self.user_global_ns, self.user_ns)\n"
     ]
    },
    {
     "name": "stdout",
     "output_type": "stream",
     "text": [
      "extracting tarball to tmp_2410.06268..."
     ]
    },
    {
     "name": "stdout",
     "output_type": "stream",
     "text": [
      " done.\n"
     ]
    },
    {
     "name": "stderr",
     "output_type": "stream",
     "text": [
      "/opt/hostedtoolcache/Python/3.9.20/x64/lib/python3.9/site-packages/arxiv_on_deck_2/latex.py:488: LatexWarning: Error parsing the document directly. Trying to recover.\n",
      "  warnings.warn(LatexWarning(f\"Error parsing the document directly. Trying to recover.\"))\n"
     ]
    },
    {
     "name": "stdout",
     "output_type": "stream",
     "text": [
      "✔ → 0:header\n",
      "  ↳ 23935:\\section{\\label{sc:Intro}Introduction}\n",
      "✔ → 23935:\\section{\\label{sc:Intro}Introduction}\n",
      "  ↳ 31573:\\section{Relativistic effects in galaxy clustering}\n"
     ]
    },
    {
     "name": "stdout",
     "output_type": "stream",
     "text": [
      "✔ → 31573:\\section{Relativistic effects in galaxy clustering}\n",
      "  ↳ 49752:\\section{Method}\n"
     ]
    },
    {
     "name": "stdout",
     "output_type": "stream",
     "text": [
      "✔ → 49752:\\section{Method}\n",
      "  ↳ 76433:\\section{Results}\n"
     ]
    },
    {
     "name": "stdout",
     "output_type": "stream",
     "text": [
      "✔ → 76433:\\section{Results}\n",
      "  ↳ 97829:\\section{Conclusions}\n",
      "✔ → 97829:\\section{Conclusions}\n",
      "  ↳ 103577:\\begin{appendix}\n",
      "✔ → 103577:\\begin{appendix}\n",
      "  ↳ 103607:\\section{Validation of the effective local count slope estimates}\n"
     ]
    },
    {
     "name": "stdout",
     "output_type": "stream",
     "text": [
      "✔ → 103607:\\section{Validation of the effective local count slope estimates}\n",
      "  ↳ 118384:end\n"
     ]
    },
    {
     "name": "stderr",
     "output_type": "stream",
     "text": [
      "/opt/hostedtoolcache/Python/3.9.20/x64/lib/python3.9/site-packages/arxiv_on_deck_2/latex.py:132: LatexWarning: attempting recovering figure Figures/flux-mass-correlation\n",
      "  warnings.warn(LatexWarning(f'attempting recovering figure {image}'))\n",
      "/opt/hostedtoolcache/Python/3.9.20/x64/lib/python3.9/site-packages/arxiv_on_deck_2/latex.py:137: LatexWarning: Recovered figure Figures/flux-mass-correlation as tmp_2410.06268/./Figures/flux-mass-correlation.pdf\n",
      "  warnings.warn(LatexWarning(f'Recovered figure {image} as {fname}'))\n",
      "/opt/hostedtoolcache/Python/3.9.20/x64/lib/python3.9/site-packages/arxiv_on_deck_2/latex.py:132: LatexWarning: attempting recovering figure Figures/flux-mass-correlation-withsat\n",
      "  warnings.warn(LatexWarning(f'attempting recovering figure {image}'))\n",
      "/opt/hostedtoolcache/Python/3.9.20/x64/lib/python3.9/site-packages/arxiv_on_deck_2/latex.py:137: LatexWarning: Recovered figure Figures/flux-mass-correlation-withsat as tmp_2410.06268/./Figures/flux-mass-correlation-withsat.pdf\n",
      "  warnings.warn(LatexWarning(f'Recovered figure {image} as {fname}'))\n"
     ]
    },
    {
     "name": "stdout",
     "output_type": "stream",
     "text": [
      "Found 91 bibliographic references in tmp_2410.06268/main.bbl.\n",
      "Retrieving document from  https://arxiv.org/e-print/2410.06697\n"
     ]
    },
    {
     "name": "stdout",
     "output_type": "stream",
     "text": [
      "extracting tarball to tmp_2410.06697..."
     ]
    },
    {
     "name": "stdout",
     "output_type": "stream",
     "text": [
      " done.\n",
      "Retrieving document from  https://arxiv.org/e-print/2410.06730\n"
     ]
    },
    {
     "name": "stderr",
     "output_type": "stream",
     "text": [
      "/opt/hostedtoolcache/Python/3.9.20/x64/lib/python3.9/site-packages/IPython/core/interactiveshell.py:3550: LatexWarning: Multiple tex files.\n",
      "\n",
      "  exec(code_obj, self.user_global_ns, self.user_ns)\n",
      "/opt/hostedtoolcache/Python/3.9.20/x64/lib/python3.9/site-packages/IPython/core/interactiveshell.py:3550: LatexWarning: Found documentclass in tmp_2410.06697/main.tex\n",
      "\n",
      "  exec(code_obj, self.user_global_ns, self.user_ns)\n",
      "/opt/hostedtoolcache/Python/3.9.20/x64/lib/python3.9/site-packages/arxiv_on_deck_2/latex.py:414: LatexWarning: Latex injecting: 'S8_Appendix' from 'tmp_2410.06697/S8_Appendix.tex'\n",
      "  warnings.warn(LatexWarning(f\"Latex injecting: '{ext}' from '{subsource}'\"))\n",
      "/opt/hostedtoolcache/Python/3.9.20/x64/lib/python3.9/site-packages/arxiv_on_deck_2/latex.py:414: LatexWarning: Latex injecting: 'S6_7_Acknowledgment' from 'tmp_2410.06697/S6_7_Acknowledgment.tex'\n",
      "  warnings.warn(LatexWarning(f\"Latex injecting: '{ext}' from '{subsource}'\"))\n",
      "/opt/hostedtoolcache/Python/3.9.20/x64/lib/python3.9/site-packages/arxiv_on_deck_2/latex.py:414: LatexWarning: Latex injecting: 'S5_Concluison' from 'tmp_2410.06697/S5_Concluison.tex'\n",
      "  warnings.warn(LatexWarning(f\"Latex injecting: '{ext}' from '{subsource}'\"))\n",
      "/opt/hostedtoolcache/Python/3.9.20/x64/lib/python3.9/site-packages/arxiv_on_deck_2/latex.py:414: LatexWarning: Latex injecting: 'S4_Discussion' from 'tmp_2410.06697/S4_Discussion.tex'\n",
      "  warnings.warn(LatexWarning(f\"Latex injecting: '{ext}' from '{subsource}'\"))\n",
      "/opt/hostedtoolcache/Python/3.9.20/x64/lib/python3.9/site-packages/arxiv_on_deck_2/latex.py:414: LatexWarning: Latex injecting: 'S3_Results' from 'tmp_2410.06697/S3_Results.tex'\n",
      "  warnings.warn(LatexWarning(f\"Latex injecting: '{ext}' from '{subsource}'\"))\n",
      "/opt/hostedtoolcache/Python/3.9.20/x64/lib/python3.9/site-packages/arxiv_on_deck_2/latex.py:414: LatexWarning: Latex injecting: 'S2_ObsDataReduction' from 'tmp_2410.06697/S2_ObsDataReduction.tex'\n",
      "  warnings.warn(LatexWarning(f\"Latex injecting: '{ext}' from '{subsource}'\"))\n",
      "/opt/hostedtoolcache/Python/3.9.20/x64/lib/python3.9/site-packages/arxiv_on_deck_2/latex.py:414: LatexWarning: Latex injecting: 'S1_introduction' from 'tmp_2410.06697/S1_introduction.tex'\n",
      "  warnings.warn(LatexWarning(f\"Latex injecting: '{ext}' from '{subsource}'\"))\n",
      "/opt/hostedtoolcache/Python/3.9.20/x64/lib/python3.9/site-packages/arxiv_on_deck_2/latex.py:414: LatexWarning: Latex injecting: 'AuthorList' from 'tmp_2410.06697/AuthorList.tex'\n",
      "  warnings.warn(LatexWarning(f\"Latex injecting: '{ext}' from '{subsource}'\"))\n"
     ]
    },
    {
     "name": "stdout",
     "output_type": "stream",
     "text": [
      "extracting tarball to tmp_2410.06730... done.\n",
      "Retrieving document from  https://arxiv.org/e-print/2410.06836\n"
     ]
    },
    {
     "name": "stdout",
     "output_type": "stream",
     "text": [
      "extracting tarball to tmp_2410.06836..."
     ]
    },
    {
     "name": "stdout",
     "output_type": "stream",
     "text": [
      " done.\n"
     ]
    }
   ],
   "source": [
    "documents = []\n",
    "failed = []\n",
    "for paper in tqdm(candidates):\n",
    "    # debug crap\n",
    "    paper['identifier'] = paper['identifier'].lower().replace('arxiv:', '').replace(r'\\n', '').strip()\n",
    "    paper_id = paper['identifier']\n",
    "    \n",
    "    folder = f'tmp_{paper_id}'\n",
    "\n",
    "    try:\n",
    "        if not os.path.isdir(folder):\n",
    "            folder = retrieve_document_source(f\"{paper_id}\", f'tmp_{paper_id}')\n",
    "        \n",
    "        try:\n",
    "            doc = latex.LatexDocument(folder, validation=validation)    \n",
    "        except AffiliationError as affilerror:\n",
    "            msg = f\"ArXiv:{paper_id:s} is not an MPIA paper... \" + str(affilerror)\n",
    "            failed.append((paper, \"affiliation error: \" + str(affilerror) ))\n",
    "            continue\n",
    "        \n",
    "        # Hack because sometimes author parsing does not work well\n",
    "        if (len(doc.authors) != len(paper['authors'])):\n",
    "            doc._authors = paper['authors']\n",
    "        else:\n",
    "            # highlight authors (FIXME: doc.highlight_authors)\n",
    "            # done on arxiv paper already\n",
    "            doc._authors = highlight_authors_in_list(\n",
    "                [get_initials(k) for k in doc.authors], \n",
    "                mpia_authors, verbose=True)\n",
    "        if (doc.abstract) in (None, ''):\n",
    "            doc._abstract = paper['abstract']\n",
    "            \n",
    "        doc.comment = (get_markdown_badge(paper_id) + \n",
    "                       \"<mark>Appeared on: \" + paper['date'] + \"</mark> - \")\n",
    "        if paper['comments']:\n",
    "            doc.comment += \" _\" + paper['comments'] + \"_\"\n",
    "        \n",
    "        full_md = doc.generate_markdown_text()\n",
    "        \n",
    "        full_md += get_markdown_qrcode(paper_id)\n",
    "        \n",
    "        # replace citations\n",
    "        try:\n",
    "            bibdata = latex_bib.LatexBib.from_doc(doc)\n",
    "            full_md = latex_bib.replace_citations(full_md, bibdata)\n",
    "        except Exception as e:\n",
    "            print(\"Issues with the citations\")\n",
    "            print(e)\n",
    "        \n",
    "        documents.append((paper_id, full_md))\n",
    "    except Exception as e:\n",
    "        warnings.warn(latex.LatexWarning(f\"{paper_id:s} did not run properly\\n\" +\n",
    "                                         str(e)\n",
    "                                        ))\n",
    "        failed.append((paper, \"latex error \" + str(e)))"
   ]
  },
  {
   "cell_type": "markdown",
   "id": "2505a25c",
   "metadata": {
    "papermill": {
     "duration": 0.004955,
     "end_time": "2024-10-10T04:12:38.473800",
     "exception": false,
     "start_time": "2024-10-10T04:12:38.468845",
     "status": "completed"
    },
    "tags": []
   },
   "source": [
    "### Export the logs\n",
    "\n",
    "Throughout, we also keep track of the logs per paper. see `logs-{today date}.md` "
   ]
  },
  {
   "cell_type": "code",
   "execution_count": 6,
   "id": "d733828a",
   "metadata": {
    "execution": {
     "iopub.execute_input": "2024-10-10T04:12:38.484707Z",
     "iopub.status.busy": "2024-10-10T04:12:38.484272Z",
     "iopub.status.idle": "2024-10-10T04:12:38.503901Z",
     "shell.execute_reply": "2024-10-10T04:12:38.503365Z"
    },
    "papermill": {
     "duration": 0.026176,
     "end_time": "2024-10-10T04:12:38.504844",
     "exception": false,
     "start_time": "2024-10-10T04:12:38.478668",
     "status": "completed"
    },
    "scrolled": false,
    "tags": []
   },
   "outputs": [
    {
     "data": {
      "text/markdown": [
       "## Successful papers"
      ],
      "text/plain": [
       "<IPython.core.display.Markdown object>"
      ]
     },
     "metadata": {},
     "output_type": "display_data"
    },
    {
     "data": {
      "text/markdown": [
       "\n",
       "|||\n",
       "|---:|:---|\n",
       "| [![arXiv](https://img.shields.io/badge/arXiv-2410.05376-b31b1b.svg)](https://arxiv.org/abs/2410.05376) | **Quantifying the impact of AGN feedback on the large-scale matter distribution using two- and three-point statistics**  |\n",
       "|| <mark>B. Saha</mark>, S. Bose |\n",
       "|*Appeared on*| *2024-10-10*|\n",
       "|*Comments*| *Accepted for publication in MNRAS*|\n",
       "|**Abstract**|            Feedback from active galactic nuclei (AGN) plays a critical role in shaping the matter distribution on scales comparable to and larger than individual galaxies. Upcoming surveys such as $\\textit{Euclid}$ and LSST aim to precisely quantify the matter distribution on cosmological scales, making a detailed understanding of AGN feedback effects essential. Hydrodynamical simulations provide an informative framework for studying these effects, in particular by allowing us to vary the parameters that determine the strength of these feedback processes and, consequently, to predict their corresponding impact on the large-scale matter distribution. We use the EAGLE simulations to explore how changes in subgrid viscosity and AGN heating temperature affect the matter distribution, quantified via 2- and 3-point correlation functions, as well as higher order cumulants of the matter distribution. We find that varying viscosity has a small impact ($\\approx 10\\%$) on scales larger than $1 h^{-1}$ Mpc, while changes to the AGN heating temperature lead to substantial differences, with up to $70\\%$ variation in gas clustering on small scales ($\\lesssim 1 h^{-1}$ Mpc). By examining the suppression of the power spectrum as a function of time, we identify the redshift range $z = 1.5 - 1$ as a key epoch where AGN feedback begins to dominate in these simulations. The 3-point function provides complementary insight to the more familiar 2-point statistics, and shows more pronounced variations between models on the scale of individual haloes. On the other hand, we find that effects on even larger scales are largely comparable.         |"
      ],
      "text/plain": [
       "[2410.05376] Quantifying the impact of AGN feedback on the large-scale matter distribution using two- and three-point statistics\n",
       "\t<mark>B. Saha</mark>, S. Bose"
      ]
     },
     "metadata": {},
     "output_type": "display_data"
    },
    {
     "data": {
      "text/markdown": [
       "\n",
       "|||\n",
       "|---:|:---|\n",
       "| [![arXiv](https://img.shields.io/badge/arXiv-2410.05397-b31b1b.svg)](https://arxiv.org/abs/2410.05397) | **Polycyclic Aromatic Hydrocarbon and CO(2-1) Emission at 50-150 pc Scales in 66 Nearby Galaxies**  |\n",
       "|| R. Chown, et al. -- incl., <mark>K. Kreckel</mark>, <mark>E. Schinnerer</mark> |\n",
       "|*Appeared on*| *2024-10-10*|\n",
       "|*Comments*| *21 pages, 4 figures, 3 tables. Submitted to ApJ*|\n",
       "|**Abstract**|            Combining Atacama Large Millimeter/sub-millimeter Array CO(2-1) mapping and JWST near- and mid-infrared imaging, we characterize the relationship between CO(2-1) and polycyclic aromatic hydrocarbon (PAH) emission at ~100 pc resolution in 66 nearby star-forming galaxies, expanding the sample size from previous ~100 pc resolution studies by more than an order of magnitude. Focusing on regions of galaxies where most of the gas is likely to be molecular, we find strong correlations between CO(2-1) and 3.3 micron, 7.7 micron, and 11.3 micron PAH emission, estimated from JWST's F335M, F770W, and F1130W filters. We derive power law relations between CO(2-1) and PAH emission, which have indices in the range 0.8-1.2, implying relatively weak variations in the observed CO-to-PAH ratios across the regions that we study. We find that CO-to-PAH ratios and scaling relationships near HII regions are similar to those in diffuse sight lines. The main difference between the two types of regions is that sight lines near HII regions show higher intensities in all tracers. Galaxy centers, on the other hand, show higher overall intensities and enhanced CO-to-PAH ratios compared to galaxy disks. Individual galaxies show 0.19 dex scatter in the normalization of CO at fixed I_PAH and this normalization anti-correlates with specific star formation rate (SFR/M*) and correlates with stellar mass. We provide a prescription that accounts for these galaxy-to-galaxy variations and represents our best current empirical predictor to estimate CO(2-1) intensity from PAH emission, which allows one to take advantage of JWST's excellent sensitivity and resolution to trace cold gas.         |"
      ],
      "text/plain": [
       "[2410.05397] Polycyclic Aromatic Hydrocarbon and CO(2-1) Emission at 50-150 pc Scales in 66 Nearby Galaxies\n",
       "\tR. Chown, et al. -- incl., <mark>K. Kreckel</mark>, <mark>E. Schinnerer</mark>"
      ]
     },
     "metadata": {},
     "output_type": "display_data"
    },
    {
     "data": {
      "text/markdown": [
       "\n",
       "|||\n",
       "|---:|:---|\n",
       "| [![arXiv](https://img.shields.io/badge/arXiv-2410.05761-b31b1b.svg)](https://arxiv.org/abs/2410.05761) | **Relatively young thick discs in low-mass star-forming late-type galaxies**  |\n",
       "|| N. Sattler, et al. -- incl., <mark>N. Neumayer</mark> |\n",
       "|*Appeared on*| *2024-10-10*|\n",
       "|*Comments*| *20 pages, 9 figures, submitted to A&A*|\n",
       "|**Abstract**|            We aim to trace the evolution of eight edge-on star-forming disc galaxies through the analysis of stellar population properties of their thin and thick discs. These galaxies have relatively low stellar masses (4 $\\times$ 10$^9$ to 6 $\\times$ 10$^{10}$ $M_{\\odot}$). We use Multi-Unit Spectroscopic Explorer (MUSE) observations and full-spectrum fitting to produce spatially resolved maps of ages, metallicities and [Mg/Fe]-abundances and extract the star formation histories of stellar discs. Our maps show thick discs that are on average older, more metal-poor and more [Mg/Fe]-enhanced than thin discs. However, age differences between thin and thick discs are small (around 2 Gyr) and the thick discs are younger than previously observed in more massive and more quiescent galaxies. Both thin and thick discs show mostly sub-solar metallicities, and the vertical metallicity gradient is milder than previously observed in similar studies. [Mg/Fe] differences between thick and thin discs are not sharp. The star formation histories of thick discs extend down to recent times, although most of the mass in young stars was formed in thin discs. Our findings show thick discs that are different from old quiescent thick discs previously observed in galaxies of different morphologies and/or different masses. We propose that thick discs in these galaxies did not form quickly at high redshift, but slowly in an extended time. Also, the thin discs formed slowly, however, a larger mass fraction was created at very recent times.         |"
      ],
      "text/plain": [
       "[2410.05761] Relatively young thick discs in low-mass star-forming late-type galaxies\n",
       "\tN. Sattler, et al. -- incl., <mark>N. Neumayer</mark>"
      ]
     },
     "metadata": {},
     "output_type": "display_data"
    },
    {
     "data": {
      "text/markdown": [
       "\n",
       "|||\n",
       "|---:|:---|\n",
       "| [![arXiv](https://img.shields.io/badge/arXiv-2410.06268-b31b1b.svg)](https://arxiv.org/abs/2410.06268) | **Euclid: Relativistic effects in the dipole of the 2-point correlation function**  |\n",
       "|| F. Lepori, et al. -- incl., <mark>K. Jahnke</mark> |\n",
       "|*Appeared on*| *2024-10-10*|\n",
       "|*Comments*| *21 pages, 11 figures, 1 appendix; submitted on behalf of the Euclid Collaboration*|\n",
       "|**Abstract**|            Gravitational redshift and Doppler effects give rise to an antisymmetric component of the galaxy correlation function when cross-correlating two galaxy populations or two different tracers. In this paper, we assess the detectability of these effects in the Euclid spectroscopic galaxy survey. We model the impact of gravitational redshift on the observed redshift of galaxies in the Flagship mock catalogue using a Navarro-Frenk-White profile for the host haloes. We isolate these relativistic effects, largely subdominant in the standard analysis, by splitting the galaxy catalogue into two populations of faint and bright objects and estimating the dipole of their cross-correlation in four redshift bins. In the simulated catalogue, we detect the dipole signal on scales below $30\\,h^{-1}{\\rm Mpc}$, with detection significances of $4\\,\\sigma$ and $3\\,\\sigma$ in the two lowest redshift bins, respectively. At higher redshifts, the detection significance drops below $2\\,\\sigma$. Overall, we estimate the total detection significance in the Euclid spectroscopic sample to be approximately $6\\,\\sigma$. We find that on small scales, the major contribution to the signal comes from the nonlinear gravitational potential. Our study on the Flagship mock catalogue shows that this observable can be detected in Euclid Data Release 2 and beyond.         |"
      ],
      "text/plain": [
       "[2410.06268] Euclid: Relativistic effects in the dipole of the 2-point correlation function\n",
       "\tF. Lepori, et al. -- incl., <mark>K. Jahnke</mark>"
      ]
     },
     "metadata": {},
     "output_type": "display_data"
    },
    {
     "data": {
      "text/markdown": [
       "## Failed papers"
      ],
      "text/plain": [
       "<IPython.core.display.Markdown object>"
      ]
     },
     "metadata": {},
     "output_type": "display_data"
    },
    {
     "data": {
      "text/markdown": [
       "\n",
       "|||\n",
       "|---:|:---|\n",
       "| [![arXiv](https://img.shields.io/badge/arXiv-2410.06697-b31b1b.svg)](https://arxiv.org/abs/2410.06697) | **JWST-IPA: Chemical Inventory and Spatial Mapping of Ices in the Protostar HOPS370 -- Evidence for an Opacity Hole and Thermal Processing of Ices**  |\n",
       "|| H. Tyagi, et al. -- incl., <mark>H. Beuther</mark>, <mark>H. Linz</mark> |\n",
       "|*Appeared on*| *2024-10-10*|\n",
       "|*Comments*| *Submitted to ApJ. Main text:16 pages with 11 figures*|\n",
       "|**Abstract**|            The composition of protoplanetary disks, and hence the initial conditions of planet formation, may be strongly influenced by the infall and thermal processing of material during the protostellar phase. Composition of dust and ice in protostellar envelopes, shaped by energetic processes driven by the protostar, serves as the fundamental building material for planets and complex organic molecules. As part of the JWST GO program, \"Investigating Protostellar Accretion\" (IPA), we observed an intermediate-mass protostar HOPS 370 (OMC2-FIR3) using NIRSpec/IFU and MIRI/MRS. This study presents the gas and ice phase chemical inventory revealed with the JWST in the spectral range of $\\sim$2.9 to 28 $\\mu$m and explores the spatial variation of volatile ice species in the protostellar envelope. We find evidence for thermal processing of ice species throughout the inner envelope. We present the first high-spatial resolution ($\\sim 80$ au) maps of key volatile ice species H$_{2}$O, CO$_{2}$, $^{13}$CO$_2$, CO, and OCN$^-$, which reveal a highly structured and inhomogeneous density distribution of the protostellar envelope, with a deficiency of ice column density that coincides with the jet/outflow shocked knots. Further, we observe high relative crystallinity of H$_{2}$O ice around the shocked knot seen in the H$_2$ and OH wind/outflow, which can be explained by a lack of outer colder material in the envelope along the line of sight due to the irregular structure of the envelope. These observations show clear evidence of thermal processing of the ices in the inner envelope, close to the outflow cavity walls, heated by the luminous protostar.         |\n",
       "|<p style=\"color:green\"> **ERROR** </p>| <p style=\"color:green\">affiliation error: mpia.affiliation_verifications: '69117' keyword not found.</p> |"
      ],
      "text/plain": [
       "<IPython.core.display.Markdown object>"
      ]
     },
     "metadata": {},
     "output_type": "display_data"
    },
    {
     "data": {
      "text/markdown": [
       "\n",
       "|||\n",
       "|---:|:---|\n",
       "| [![arXiv](https://img.shields.io/badge/arXiv-2410.06257-b31b1b.svg)](https://arxiv.org/abs/2410.06257) | **UNCOVER: 404 Error -- Models Not Found for the Triply Imaged Little Red Dot A2744-QSO1**  |\n",
       "|| Y. Ma, et al. -- incl., <mark>A. d. Graaff</mark> |\n",
       "|*Appeared on*| *2024-10-10*|\n",
       "|*Comments*| *19 pages, 7 figures, 2 tables. Submitted to ApJ. Comments are welcome*|\n",
       "|**Abstract**|            JWST has revealed an abundance of compact, red objects at $z\\approx5-8$ dubbed \"little red dots\" (LRDs), whose SEDs display a faint blue UV continuum followed by a steep rise in the optical. Despite extensive study of their characteristic V-shaped SEDs, the nature of LRDs remains unknown. We present a new analysis of the NIRSpec/PRISM spectrum of A2744-QSO1, a triply imaged LRD at $z=7.04$ from the UNCOVER survey. The spectrum shows a strong Balmer break and broad Balmer emission lines, both of which are difficult to explain with models invoking exclusively AGN or stellar contributions. Our fiducial model decomposes the spectrum into a post-starburst galaxy dominating the UV-optical continuum and a reddened AGN being sub-dominant at all wavelength and contributing at $\\sim20\\%$ level. However, our most credible model infers a stellar mass of $M_\\star\\approx 4\\times10^9\\,\\mathrm{M_\\odot}$ within a radius of $r_\\mathrm{e}<30\\,$pc, driving its central density to the highest among observations to date. This high central density could be explained if A2744-QSO-1 is the early-forming core of a modern-day massive elliptical galaxy that later puffed up via the inside-out growth channel. The models also necessitate an unusually steep dust law to preserve the strong break strength, though this steepness may be explained by a deficit of large dust grains. It is also probable that these challenges reflect our ignorance of A2744-QSO1's true nature. Future variability and reverberation mapping studies could help disentangle the galaxy and AGN contribution to the continuum, and deeper redder observations could also unveil the dust properties in LRDs.         |\n",
       "|<p style=\"color:green\"> **ERROR** </p>| <p style=\"color:green\">affiliation error: mpia.affiliation_verifications: 'Heidelberg' keyword not found.</p> |"
      ],
      "text/plain": [
       "<IPython.core.display.Markdown object>"
      ]
     },
     "metadata": {},
     "output_type": "display_data"
    },
    {
     "data": {
      "text/markdown": [
       "\n",
       "|||\n",
       "|---:|:---|\n",
       "| [![arXiv](https://img.shields.io/badge/arXiv-2410.06730-b31b1b.svg)](https://arxiv.org/abs/2410.06730) | **Systematic collapse of the accretion disc in AGN confirmed by UV photometry and broad line spectra**  |\n",
       "|| J.-L. Kang, et al. -- incl., <mark>J. Li</mark> |\n",
       "|*Appeared on*| *2024-10-10*|\n",
       "|*Comments*| *10 pages, 3 figure, 2 appendices. Submitted to MNRAS. Comments are very welcome!*|\n",
       "|**Abstract**|            A recent study on the spectral energy distribution (SED) of AGN combined unobscured X-ray sources from the eROSITA eFEDS Survey with high quality optical imaging from Subaru's Hyper Suprime-Cam (HSC). The HSC data enabled accurate host galaxy subtraction as well as giving a uniform black hole mass estimator from the stellar mass. The resulting stacked optical/X-ray SEDs for black holes at fixed mass show a dramatic transition, where the dominating disc component in bright AGN evaporates into an X-ray hot plasma below $L/L_{\\rm Edd}\\sim 0.01$. The models fit to these datasets predicted the largest change in SED in the rest frame UV ($< 3000\\,Å$), but this waveband was not included in the original study. Here we use archival $u$-band and UV photometry to extend the SEDs into this range, and confirm the UV is indeed intrinsically faint in AGN below $L/L_{\\rm Edd}\\sim 0.01$ as predicted. This dramatic drop in UV photo-ionising flux is also seen from its effect on the broad emission lines. We stack the recently released SDSS DR18 optical spectra for this sample, and show that the broad H$\\beta$ line disappears along with the UV bright component at $L/L_{\\rm Edd}\\sim 0.01$. This shows that there is a population of unobscured, X-ray bright, UV faint AGN which lack broad emission lines (true type 2 Seyferts).         |\n",
       "|<p style=\"color:green\"> **ERROR** </p>| <p style=\"color:green\">affiliation error: mpia.affiliation_verifications: 'Heidelberg' keyword not found.</p> |"
      ],
      "text/plain": [
       "<IPython.core.display.Markdown object>"
      ]
     },
     "metadata": {},
     "output_type": "display_data"
    },
    {
     "data": {
      "text/markdown": [
       "\n",
       "|||\n",
       "|---:|:---|\n",
       "| [![arXiv](https://img.shields.io/badge/arXiv-2410.06836-b31b1b.svg)](https://arxiv.org/abs/2410.06836) | **The warm-hot intergalactic medium (WHIM) in inter-cluster filaments -- A forecast for HUBS observations based on eRASS1 superclusters**  |\n",
       "|| Y. Zhao, et al. -- incl., <mark>X. Zhang</mark> |\n",
       "|*Appeared on*| *2024-10-10*|\n",
       "|*Comments*| *submitted to A&A*|\n",
       "|**Abstract**|            Cosmological simulations indicate that nearly half of the baryons in the nearby Universe are in the warm-hot intergalactic medium (WHIM) phase, with about half of which residing in cosmic filaments. Recent observational studies using stacked survey data and deep exposures of galaxy cluster outskirts have detected soft X-ray excess associated with optically identified filaments. However, the physical characteristics of WHIM in filaments remain largely undetermined due to the lack of direct spectral diagnostics. In this work, we aim to select appropriate targets for WHIM characterization through pointing observations with the future Hot Universe Baryon Surveyor (HUBS) mission, which is designed with eV level energy resolution in the 0.1-2.0 keV band and a 1 square degree field-of-view. We built a sample of 1577 inter-cluster filaments based on the first eROSITA All-Sky Survey (eRASS1) supercluster catalog and estimated their soft X-ray emission, and used their modeled geometrical properties and oxygen line intensities to select four most appropriate candidate targets for HUBS observations. By simulating and analyzing their mock observations, we demonstrated that with 200 ks HUBS exposure for each candidate, the gas properties of individual filaments can be accurately determined, with the temperature constrained to +-0.01 keV, metallicity constrained to < +-0.03 solar, and density constrained to < +-10%. Elemental abundance of O, Ne, Mg, and Fe can be measured separately, providing unprecedented insights into the chemical history of the filament gas. We also showed that direct mapping of the WHIM distribution is promising with narrow-band imaging of the O viii line. Our work forecasts that next-generation X-ray missions such as HUBS will provide substantial improvement in our understanding of the physical status and evolution history of the diffuse WHIM gas in cosmic large-scale structure.         |\n",
       "|<p style=\"color:green\"> **ERROR** </p>| <p style=\"color:green\">affiliation error: mpia.affiliation_verifications: 'Heidelberg' keyword not found.</p> |"
      ],
      "text/plain": [
       "<IPython.core.display.Markdown object>"
      ]
     },
     "metadata": {},
     "output_type": "display_data"
    }
   ],
   "source": [
    "import datetime\n",
    "today = str(datetime.date.today())\n",
    "logfile = f\"_build/html/logs/log-{today}.md\"\n",
    "\n",
    "\n",
    "with open(logfile, 'w') as logs:\n",
    "    # Success\n",
    "    logs.write(f'# Arxiv on Deck 2: Logs - {today}\\n\\n')\n",
    "    logs.write(\"\"\"* Arxiv had {0:,d} new papers\\n\"\"\".format(len(new_papers)))\n",
    "    logs.write(\"\"\"    * {0:,d} with possible author matches\\n\\n\"\"\".format(len(candidates)))\n",
    "    logs.write(\"## Sucessful papers\\n\\n\")\n",
    "    display(Markdown(\"## Successful papers\"))\n",
    "    success = [k[0] for k in documents]\n",
    "    for candid in candidates:\n",
    "        if candid['identifier'].split(':')[-1] in success:\n",
    "            display(candid)\n",
    "            logs.write(candid.generate_markdown_text() + '\\n\\n')\n",
    "\n",
    "    ## failed\n",
    "    logs.write(\"## Failed papers\\n\\n\")\n",
    "    display(Markdown(\"## Failed papers\"))\n",
    "    failed = sorted(failed, key=lambda x: x[1])\n",
    "    current_reason = \"\"\n",
    "    for paper, reason in failed:\n",
    "        if 'affiliation' in reason:\n",
    "            color = 'green'\n",
    "        else:\n",
    "            color = 'red'\n",
    "        data = Markdown(\n",
    "                paper.generate_markdown_text() + \n",
    "                f'\\n|<p style=\"color:{color:s}\"> **ERROR** </p>| <p style=\"color:{color:s}\">{reason:s}</p> |'\n",
    "               )\n",
    "        if reason != current_reason:\n",
    "            logs.write(f'### {reason:s} \\n\\n')\n",
    "            current_reason = reason\n",
    "        logs.write(data.data + '\\n\\n')\n",
    "        \n",
    "        # only display here the important errors (all in logs)\n",
    "        # if color in ('red',):\n",
    "        display(data)"
   ]
  },
  {
   "cell_type": "markdown",
   "id": "472d20ee",
   "metadata": {
    "papermill": {
     "duration": 0.005804,
     "end_time": "2024-10-10T04:12:38.516579",
     "exception": false,
     "start_time": "2024-10-10T04:12:38.510775",
     "status": "completed"
    },
    "tags": []
   },
   "source": [
    "## Export documents\n",
    "\n",
    "We now write the .md files and export relevant images"
   ]
  },
  {
   "cell_type": "code",
   "execution_count": 7,
   "id": "d426aed9",
   "metadata": {
    "execution": {
     "iopub.execute_input": "2024-10-10T04:12:38.529144Z",
     "iopub.status.busy": "2024-10-10T04:12:38.528606Z",
     "iopub.status.idle": "2024-10-10T04:12:38.535498Z",
     "shell.execute_reply": "2024-10-10T04:12:38.534958Z"
    },
    "papermill": {
     "duration": 0.014143,
     "end_time": "2024-10-10T04:12:38.536420",
     "exception": false,
     "start_time": "2024-10-10T04:12:38.522277",
     "status": "completed"
    },
    "tags": []
   },
   "outputs": [],
   "source": [
    "def export_markdown_summary(md: str, md_fname:str, directory: str):\n",
    "    \"\"\"Export MD document and associated relevant images\"\"\"\n",
    "    import os\n",
    "    import shutil\n",
    "    import re\n",
    "\n",
    "    if (os.path.exists(directory) and not os.path.isdir(directory)):\n",
    "        raise RuntimeError(f\"a non-directory file exists with name {directory:s}\")\n",
    "\n",
    "    if (not os.path.exists(directory)):\n",
    "        print(f\"creating directory {directory:s}\")\n",
    "        os.mkdir(directory)\n",
    "\n",
    "    fig_fnames = (re.compile(r'\\[Fig.*\\]\\((.*)\\)').findall(md) + \n",
    "                  re.compile(r'\\<img src=\"([^>\\s]*)\"[^>]*/>').findall(md))\n",
    "    print(\"found figures\", fig_fnames)\n",
    "    for fname in fig_fnames:\n",
    "        if 'http' in fname:\n",
    "            # No need to copy online figures\n",
    "            continue\n",
    "        if not os.path.exists(fname):\n",
    "            print(\"file not found\", fname)\n",
    "            continue\n",
    "        print(\"copying \", fname, \"to\", directory)\n",
    "        destdir = os.path.join(directory, os.path.dirname(fname))\n",
    "        destfname = os.path.join(destdir, os.path.basename(fname))\n",
    "        try:\n",
    "            os.makedirs(destdir)\n",
    "        except FileExistsError:\n",
    "            pass\n",
    "        shutil.copy(fname, destfname)\n",
    "    with open(os.path.join(directory, md_fname), 'w') as fout:\n",
    "        fout.write(md)\n",
    "    print(\"exported in \", os.path.join(directory, md_fname))\n",
    "    [print(\"    + \" + os.path.join(directory,fk)) for fk in fig_fnames]"
   ]
  },
  {
   "cell_type": "code",
   "execution_count": 8,
   "id": "014d04a4",
   "metadata": {
    "execution": {
     "iopub.execute_input": "2024-10-10T04:12:38.548728Z",
     "iopub.status.busy": "2024-10-10T04:12:38.548527Z",
     "iopub.status.idle": "2024-10-10T04:12:38.566189Z",
     "shell.execute_reply": "2024-10-10T04:12:38.565604Z"
    },
    "papermill": {
     "duration": 0.024841,
     "end_time": "2024-10-10T04:12:38.567135",
     "exception": false,
     "start_time": "2024-10-10T04:12:38.542294",
     "status": "completed"
    },
    "tags": []
   },
   "outputs": [
    {
     "name": "stdout",
     "output_type": "stream",
     "text": [
      "found figures ['tmp_2410.05376/./figures/fig10.png', 'tmp_2410.05376/./figures/fig4.png', 'tmp_2410.05376/./figures/fig3.png']\n",
      "copying  tmp_2410.05376/./figures/fig10.png to _build/html/\n",
      "copying  tmp_2410.05376/./figures/fig4.png to _build/html/\n",
      "copying  tmp_2410.05376/./figures/fig3.png to _build/html/\n",
      "exported in  _build/html/2410.05376.md\n",
      "    + _build/html/tmp_2410.05376/./figures/fig10.png\n",
      "    + _build/html/tmp_2410.05376/./figures/fig4.png\n",
      "    + _build/html/tmp_2410.05376/./figures/fig3.png\n",
      "found figures ['tmp_2410.05397/./co_vs_f770w_pah_all_reso_allmatchedres.png', 'tmp_2410.05397/./co_vs_f770w_pah_all+hii_reso_allmatchedres.png', 'tmp_2410.05397/./co_vs_f770w_pah_all+cendisk_reso_allmatchedres.png', 'tmp_2410.05397/./co_vs_f770w_pah_bygal_reso_allmatchedres.png', 'tmp_2410.05397/./co_at_f770w_pah_0_vs_logmstar.png', 'tmp_2410.05397/./co_at_f770w_pah_0_vs_logssfr.png', 'tmp_2410.05397/./co_vs_f770w_pah_bygal_reso_allmatchedres_normalized.png', 'tmp_2410.05397/./co_vs_f770w_pah_all_reso_allmatchedres_normalized.png', 'tmp_2410.05397/./co_vs_f335m_pah_all_reso_allmatchedres.png', 'tmp_2410.05397/./co_vs_f1130w_all_reso_allmatchedres.png']\n",
      "copying  tmp_2410.05397/./co_vs_f770w_pah_all_reso_allmatchedres.png to _build/html/\n",
      "copying  tmp_2410.05397/./co_vs_f770w_pah_all+hii_reso_allmatchedres.png to _build/html/\n",
      "copying  tmp_2410.05397/./co_vs_f770w_pah_all+cendisk_reso_allmatchedres.png to _build/html/\n",
      "copying  tmp_2410.05397/./co_vs_f770w_pah_bygal_reso_allmatchedres.png to _build/html/\n",
      "copying  tmp_2410.05397/./co_at_f770w_pah_0_vs_logmstar.png to _build/html/\n",
      "copying  tmp_2410.05397/./co_at_f770w_pah_0_vs_logssfr.png to _build/html/\n",
      "copying  tmp_2410.05397/./co_vs_f770w_pah_bygal_reso_allmatchedres_normalized.png to _build/html/\n",
      "copying  tmp_2410.05397/./co_vs_f770w_pah_all_reso_allmatchedres_normalized.png to _build/html/\n",
      "copying  tmp_2410.05397/./co_vs_f335m_pah_all_reso_allmatchedres.png to _build/html/\n",
      "copying  tmp_2410.05397/./co_vs_f1130w_all_reso_allmatchedres.png to _build/html/\n",
      "exported in  _build/html/2410.05397.md\n",
      "    + _build/html/tmp_2410.05397/./co_vs_f770w_pah_all_reso_allmatchedres.png\n",
      "    + _build/html/tmp_2410.05397/./co_vs_f770w_pah_all+hii_reso_allmatchedres.png\n",
      "    + _build/html/tmp_2410.05397/./co_vs_f770w_pah_all+cendisk_reso_allmatchedres.png\n",
      "    + _build/html/tmp_2410.05397/./co_vs_f770w_pah_bygal_reso_allmatchedres.png\n",
      "    + _build/html/tmp_2410.05397/./co_at_f770w_pah_0_vs_logmstar.png\n",
      "    + _build/html/tmp_2410.05397/./co_at_f770w_pah_0_vs_logssfr.png\n",
      "    + _build/html/tmp_2410.05397/./co_vs_f770w_pah_bygal_reso_allmatchedres_normalized.png\n",
      "    + _build/html/tmp_2410.05397/./co_vs_f770w_pah_all_reso_allmatchedres_normalized.png\n",
      "    + _build/html/tmp_2410.05397/./co_vs_f335m_pah_all_reso_allmatchedres.png\n",
      "    + _build/html/tmp_2410.05397/./co_vs_f1130w_all_reso_allmatchedres.png\n",
      "found figures ['tmp_2410.05761/./plots/lw_maps.png', 'tmp_2410.05761/./plots/SFH_maps.png', 'tmp_2410.05761/./plots/g_band_images.png']\n",
      "copying  tmp_2410.05761/./plots/lw_maps.png to _build/html/\n",
      "copying  tmp_2410.05761/./plots/SFH_maps.png to _build/html/\n",
      "copying  tmp_2410.05761/./plots/g_band_images.png to _build/html/\n",
      "exported in  _build/html/2410.05761.md\n",
      "    + _build/html/tmp_2410.05761/./plots/lw_maps.png\n",
      "    + _build/html/tmp_2410.05761/./plots/SFH_maps.png\n",
      "    + _build/html/tmp_2410.05761/./plots/g_band_images.png\n",
      "found figures ['tmp_2410.06268/./Figures/magn-bias-explain-dens.png', 'tmp_2410.06268/./Figures/cov_figure.png', 'tmp_2410.06268/./Figures/SN_linear.png']\n",
      "copying  tmp_2410.06268/./Figures/magn-bias-explain-dens.png to _build/html/\n",
      "copying  tmp_2410.06268/./Figures/cov_figure.png to _build/html/\n",
      "copying  tmp_2410.06268/./Figures/SN_linear.png to _build/html/\n",
      "exported in  _build/html/2410.06268.md\n",
      "    + _build/html/tmp_2410.06268/./Figures/magn-bias-explain-dens.png\n",
      "    + _build/html/tmp_2410.06268/./Figures/cov_figure.png\n",
      "    + _build/html/tmp_2410.06268/./Figures/SN_linear.png\n"
     ]
    }
   ],
   "source": [
    "for paper_id, md in documents:\n",
    "    export_markdown_summary(md, f\"{paper_id:s}.md\", '_build/html/')"
   ]
  },
  {
   "cell_type": "markdown",
   "id": "f087a0a7",
   "metadata": {
    "papermill": {
     "duration": 0.005996,
     "end_time": "2024-10-10T04:12:38.579375",
     "exception": false,
     "start_time": "2024-10-10T04:12:38.573379",
     "status": "completed"
    },
    "tags": []
   },
   "source": [
    "## Display the papers\n",
    "\n",
    "Not necessary but allows for a quick check."
   ]
  },
  {
   "cell_type": "code",
   "execution_count": 9,
   "id": "fd25f625",
   "metadata": {
    "execution": {
     "iopub.execute_input": "2024-10-10T04:12:38.592132Z",
     "iopub.status.busy": "2024-10-10T04:12:38.591782Z",
     "iopub.status.idle": "2024-10-10T04:12:38.599686Z",
     "shell.execute_reply": "2024-10-10T04:12:38.599124Z"
    },
    "papermill": {
     "duration": 0.015318,
     "end_time": "2024-10-10T04:12:38.600635",
     "exception": false,
     "start_time": "2024-10-10T04:12:38.585317",
     "status": "completed"
    },
    "scrolled": false,
    "tags": []
   },
   "outputs": [
    {
     "data": {
      "text/markdown": [
       "<div class=\"macros\" style=\"visibility:hidden;\">\n",
       "$\\newcommand{\\ensuremath}{}$\n",
       "$\\newcommand{\\xspace}{}$\n",
       "$\\newcommand{\\object}[1]{\\texttt{#1}}$\n",
       "$\\newcommand{\\farcs}{{.}''}$\n",
       "$\\newcommand{\\farcm}{{.}'}$\n",
       "$\\newcommand{\\arcsec}{''}$\n",
       "$\\newcommand{\\arcmin}{'}$\n",
       "$\\newcommand{\\ion}[2]{#1#2}$\n",
       "$\\newcommand{\\textsc}[1]{\\textrm{#1}}$\n",
       "$\\newcommand{\\hl}[1]{\\textrm{#1}}$\n",
       "$\\newcommand{\\footnote}[1]{}$\n",
       "$\\newcommand$\n",
       "$\\newcommand$\n",
       "$\\newcommand$\n",
       "$\\newcommand$\n",
       "$\\newcommand{\\Sownak}[1]{\\textcolor{red}{{\\bf #1}}}$\n",
       "$\\newcommand{\\saha}[1]{\\textcolor{orange}{{\\bf #1}}}$\n",
       "$\\newcommand$</div>\n",
       "\n",
       "\n",
       "\n",
       "<div id=\"title\">\n",
       "\n",
       "# Quantifying the impact of AGN feedback on the large-scale matter distribution using two- and three-point statistics\n",
       "\n",
       "</div>\n",
       "<div id=\"comments\">\n",
       "\n",
       "[![arXiv](https://img.shields.io/badge/arXiv-2410.05376-b31b1b.svg)](https://arxiv.org/abs/2410.05376)<mark>Appeared on: 2024-10-10</mark> -  _Accepted for publication in MNRAS_\n",
       "\n",
       "</div>\n",
       "<div id=\"authors\">\n",
       "\n",
       "<mark>B. Saha</mark>, S. Bose\n",
       "\n",
       "</div>\n",
       "<div id=\"abstract\">\n",
       "\n",
       "**Abstract:** Feedback from active galactic nuclei (AGN) plays a critical role in shaping the matter distribution on scales comparable to and larger than individual galaxies. Upcoming surveys such as _Euclid_ and LSST aim to precisely quantify the matter distribution on cosmological scales, making a detailed understanding of AGN feedback effects essential. Hydrodynamical simulations provide an informative framework for studying these effects, in particular by allowing us to vary the parameters that determine the strength of these feedback processes and, consequently, to predict their corresponding impact on the large-scale matter distribution. We use the EAGLE simulations to explore how changes in subgrid viscosity and AGN heating temperature affect the matter distribution, quantified via  2- and 3-point correlation functions, as well as higher order cumulants of the matter distribution. We find that varying viscosity has a small impact ( $\\approx 10\\%$ ) on scales larger than $1 h^{-1}$ Mpc, while changes to the AGN heating temperature lead to substantial differences, with up to 70 \\% variation in gas clustering on small scales ( $\\lesssim 1 h^{-1}$ Mpc). By examining the suppression of the power spectrum as a function of time, we identify the redshift range $z = 1.5 - 1$ as a key epoch where AGN feedback begins to dominate in these simulations. The 3-point function provides complementary insight to the more familiar 2-point statistics, and shows more pronounced variations between models on the scale of individual haloes. On the other hand, we find that effects on even larger scales are largely comparable.\n",
       "\n",
       "</div>\n",
       "\n",
       "<div id=\"div_fig1\">\n",
       "\n",
       "<img src=\"tmp_2410.05376/./figures/fig10.png\" alt=\"Fig20\" width=\"100%\"/>\n",
       "\n",
       "**Figure 20. -** Cumulants of the DM density field relative to gas at different epochs for different smoothing scales. The color of the lines indicates the curve while the line styles indicate the different models in our study. The top panels show the suppression in the cumulants for {\\tt AGNdT9}(solid curves) and {\\tt AGNdT8}(dashed curves) models. In the bottom panels for completeness, we plot all the models.\n",
       "     (*fig:fig10*)\n",
       "\n",
       "</div>\n",
       "<div id=\"div_fig2\">\n",
       "\n",
       "<img src=\"tmp_2410.05376/./figures/fig4.png\" alt=\"Fig3\" width=\"100%\"/>\n",
       "\n",
       "**Figure 3. -** Comparing 2pCF of gas with DM between {\\tt AGNdT8-9} and {\\tt ViscHi-Lo}.The solid lines are for {\\tt AGNdT8} and {\\tt ViscHi}, and the dashed lines are for {\\tt AGNdT9} and {\\tt ViscLo}, respectively. The 2pCF is boosted for {\\tt AGNdT8} and {\\tt ViscHi}, therefore they have more clustering of matter than their counterparts. The solid black line is the 2pCF from the EAGLE reference model at $z=0$, while black dashed line represent the 2pCF at $z=0$ with the AGN feedback turned off. (*fig:fig4*)\n",
       "\n",
       "</div>\n",
       "<div id=\"div_fig3\">\n",
       "\n",
       "<img src=\"tmp_2410.05376/./figures/fig3.png\" alt=\"Fig2\" width=\"100%\"/>\n",
       "\n",
       "**Figure 2. -** $P(k)$ at different epochs for {\\tt AGNdT8} and {\\tt ViscHi} model. With evolving time, clustering increases which boosts the $P(k)$. AGN feedback re-distributes matter, which suppresses the $P(k)$. The crossover events, which are departures from general trend of $P(k)$ with $z$, are indicative of the onset of dominance of AGN feedback. Similar behaviour is observed with {\\tt AGNdT9} and {\\tt ViscLo}, but with different intensity, which is studied later. (*fig:fig3*)\n",
       "\n",
       "</div><div id=\"qrcode\"><img src=https://api.qrserver.com/v1/create-qr-code/?size=100x100&data=\"https://arxiv.org/abs/2410.05376\"></div>"
      ],
      "text/plain": [
       "<IPython.core.display.Markdown object>"
      ]
     },
     "metadata": {},
     "output_type": "display_data"
    },
    {
     "data": {
      "text/markdown": [
       "<div class=\"macros\" style=\"visibility:hidden;\">\n",
       "$\\newcommand{\\ensuremath}{}$\n",
       "$\\newcommand{\\xspace}{}$\n",
       "$\\newcommand{\\object}[1]{\\texttt{#1}}$\n",
       "$\\newcommand{\\farcs}{{.}''}$\n",
       "$\\newcommand{\\farcm}{{.}'}$\n",
       "$\\newcommand{\\arcsec}{''}$\n",
       "$\\newcommand{\\arcmin}{'}$\n",
       "$\\newcommand{\\ion}[2]{#1#2}$\n",
       "$\\newcommand{\\textsc}[1]{\\textrm{#1}}$\n",
       "$\\newcommand{\\hl}[1]{\\textrm{#1}}$\n",
       "$\\newcommand{\\footnote}[1]{}$\n",
       "$\\newcommand{\\vdag}{(v)^\\dagger}$\n",
       "$\\newcommand$\n",
       "$\\newcommand$\n",
       "$\\newcommand{\\um}{\\mum}$\n",
       "$\\newcommand{\\nh}{\\ensuremath{N(\\mathrm{H})}}$\n",
       "$\\newcommand{\\nhtwo}{\\ensuremath{N(\\mathrm{H_2})}}$\n",
       "$\\newcommand{\\htwo}{\\ensuremath{\\mathrm{H_2}}}$\n",
       "$\\newcommand{\\hone}{\\ion{H}{1}}$\n",
       "$\\newcommand{\\hplus}{\\ion{H}{2}}$\n",
       "$\\newcommand{\\qpah}{\\ensuremath{q_\\mathrm{PAH}}}$\n",
       "$\\newcommand{\\aco}{\\ensuremath{\\alpha_\\mathrm{CO}}}$\n",
       "$\\newcommand{\\inu}{\\ensuremath{I_\\nu}}$\n",
       "$\\newcommand{\\ipah}{\\ensuremath{I^\\mathrm{PAH}_{\\rm F770W}}}$\n",
       "$\\newcommand{\\ssfr}{\\ensuremath{\\mathrm{SFR}/M_\\star}}$\n",
       "$\\newcommand{\\mstar}{\\ensuremath{M_\\star}}$\n",
       "$\\newcommand{\\norm}{\\ensuremath{C_\\mathrm{F770W}^\\mathrm{PAH}}}$\n",
       "$\\newcommand{\\mjysr}{MJy~sr^{-1}}$\n",
       "$\\newcommand{\\kkms}{K~km~s^{-1}}$\n",
       "$\\newcommand{\\copahunit}{\\kkms/(\\mjysr)}$\n",
       "$\\newcommand$\n",
       "$\\newcommand{\\Ox}{Sub-department of Astrophysics, Department of Physics, University of Oxford, Keble Road, Oxford OX1 3RH, UK}$\n",
       "$\\newcommand{\\UGent}{Sterrenkundig Observatorium, Universiteit Gent, Krijgslaan 281 S9, B-9000 Gent, Belgium}$\n",
       "$\\newcommand{\\STScI}{Space Telescope Science Institute, 3700 San Martin Drive, Baltimore, MD 21218, USA}$\n",
       "$\\newcommand{\\MPIA}{Max-Planck-Institut für Astronomie, Königstuhl 17, D-69117, Heidelberg, Germany}$\n",
       "$\\newcommand{\\AURA}{AURA for the European Space Agency (ESA), Space Telescope Science Institute, 3700 San Martin Drive, Baltimore, MD 21218, USA}$\n",
       "$\\newcommand{\\UCSD}{Department of Astronomy \\& Astrophysics, University of California, San Diego, 9500 Gilman Dr., La Jolla, CA 92093, USA}$\n",
       "$\\newcommand{\\Whitman}{Whitman College, 345 Boyer Avenue, Walla Walla, WA 99362, USA}$\n",
       "$\\newcommand{\\JHU}{Department of Physics and Astronomy, The Johns Hopkins University, Baltimore, MD 21218, USA}$\n",
       "$\\newcommand{\\OSU}{Department of Astronomy, The Ohio State University, 140 West 18th Avenue, Columbus, OH 43210, USA}$\n",
       "$\\newcommand{\\OSUPhys}{Department of Physics, The Ohio State University, Columbus, Ohio 43210, USA}$\n",
       "$\\newcommand{ÇAPP}{Center for Cosmology and Astroparticle Physics (CCAPP), 191 West Woodruff Avenue, Columbus, OH 43210, USA}$\n",
       "$\\newcommand{\\ARI}{Astronomisches Rechen-Institut, Zentrum für Astronomie der Universität Heidelberg, Mönchhofstr. 12-14, D-69120 Heidelberg, Germany}$\n",
       "$\\newcommand{\\ANU}{Research School of Astronomy and Astrophysics, Australian National University, Canberra, ACT 2611, Australia}$\n",
       "$\\newcommand{\\UConn}{Department of Physics, University of Connecticut, 196A Auditorium Road, Storrs, CT 06269, USA}$\n",
       "$\\newcommand{\\UHawaii}{Institute for Astronomy, University of Hawaii, 2680 Woodlawn Drive, Honolulu, HI 96822, USA}$\n",
       "$\\newcommand{\\UniCA}{Université C\\^{o}te d'Azur, Observatoire de la C\\^{o}te d'Azur, CNRS, Laboratoire Lagrange, 06000, Nice, France}$\n",
       "$\\newcommand{\\UAlberta}{Dept. of Physics, University of Alberta, 4-183 CCIS, Edmonton, Alberta, T6G 2E1, Canada}$\n",
       "$\\newcommand{\\Arcetri}{INAF — Osservatorio Astrofisico di Arcetri, Largo E. Fermi 5, I-50125, Florence, Italy}$\n",
       "$\\newcommand{\\UWyoming}{Department of Physics and Astronomy, University of Wyoming, Laramie, WY 82071, USA}$\n",
       "$\\newcommand{\\LJMU}{Astrophysics Research Institute, Liverpool John Moores University, 146 Brownlow Hill, Liverpool L3 5RF, UK}$\n",
       "$\\newcommand{\\ITA}{Universität Heidelberg, Zentrum für Astronomie, Institut für Theoretische Astrophysik, Albert-Ueberle-Str 2, D-69120 Heidelberg, Germany}$\n",
       "$\\newcommand{\\CfA}{Center for Astrophysics \\mid Harvard \\& Smithsonian, 60 Garden St., 02138 Cambridge, MA, USA}$\n",
       "$\\newcommand{\\MPE}{Max-Planck-Institut für Extraterrestrische Physik (MPE), Giessenbachstr. 1, D-85748 Garching, Germany}$\n",
       "$\\newcommand{\\UMD}{Department of Astronomy and Joint Space-Science Institute, University of Maryland, College Park, MD 20742, USA}$\n",
       "$\\newcommand{\\UVA}{Department of Astronomy, University of Virginia, Charlottesville, VA, USA}$\n",
       "$\\newcommand{\\NRAO}{National Radio Astronomy Observatory, Charlottesville, VA, USA}$\n",
       "$\\newcommand{\\ASIAA}{Institute of Astronomy and Astrophysics, Academia Sinica, No. 1, Sec. 4, Roosevelt Road, Taipei 106216, Taiwan}$\n",
       "$\\newcommand{\\kipac}{Kavli Institute for Particle Astrophysics \\& Cosmology (KIPAC), Stanford University, CA 94305, USA}$\n",
       "$\\newcommand{\\aifa}{Argelander-Institut für Astronomie, University of Bonn, Auf dem Hügel 71, 53121 Bonn, Germany}$\n",
       "$\\newcommand{\\TKU}{Department of Physics, Tamkang University, No.151, Yingzhuan Road, Tamsui District, New Taipei City 251301, Taiwan}$\n",
       "$\\newcommand{\\CarnegieObs}{The Observatories of the Carnegie Institution for Science. 813 Santa Barbara Street, Pasadena, CA 91101, USA}$\n",
       "$\\newcommand{\\Princeton}{Department of Astrophysical Sciences, Princeton University, Princeton, NJ 08544, USA}$\n",
       "$\\newcommand{\\IAS}{Institute for Advanced Study, 1 Einstein Drive, Princeton, NJ 08540, USA}$\n",
       "$\\newcommand{\\COOL}{Cosmic Origins Of Life (COOL) Research DAO, coolresearch.io}$\n",
       "$\\newcommand{\\ESO}{European Southern Observatory (ESO), Karl-Schwarzschild-Stra{\\ss}e 2, 85748 Garching, Germany}$\n",
       "$\\newcommand{\\ULyon}{Univ Lyon, Univ Lyon 1, ENS de Lyon, CNRS, Centre de Recherche Astrophysique de Lyon UMR5574, F-69230 Saint-Genis-Laval, France}$</div>\n",
       "\n",
       "\n",
       "\n",
       "<div id=\"title\">\n",
       "\n",
       "# Polycyclic Aromatic Hydrocarbon and CO (2-1) Emission at $50{-}150$ pc Scales in $\\nsample$ Nearby Galaxies\n",
       "\n",
       "</div>\n",
       "<div id=\"comments\">\n",
       "\n",
       "[![arXiv](https://img.shields.io/badge/arXiv-2410.05397-b31b1b.svg)](https://arxiv.org/abs/2410.05397)<mark>Appeared on: 2024-10-10</mark> -  _21 pages, 4 figures, 3 tables. Submitted to ApJ_\n",
       "\n",
       "</div>\n",
       "<div id=\"authors\">\n",
       "\n",
       "Ryan~Chown, et al. -- incl., <mark>K. Kreckel</mark>, <mark>E. Schinnerer</mark>\n",
       "\n",
       "</div>\n",
       "<div id=\"abstract\">\n",
       "\n",
       "**Abstract:** Combining Atacama Large Millimeter/sub-millimeter Array CO(2-1) mapping and JWST near- and mid-infrared imaging, we characterize the relationship between CO(2-1) and polycyclic aromatic hydrocarbon (PAH) emission at $\\approx 100$ pc resolution in $\\nsample$ nearby star-forming galaxies, expanding the sample size from previous $\\approx 100$ pc resolution studies by more than an order of magnitude. Focusing on regions of galaxies where most of the gas is likely to be molecular, we find strong correlations between CO(2-1) and 3.3 $\\mu$ m, $7.7\\mu$ m, and $11.3 \\mu$ m PAH emission, estimated from JWST's F335M, F770W, and F1130W filters. We derive power law relations between CO(2-1) and PAH emission, which have indices in the range $0.8{-}1.2$ , implying relatively weak variations in the observed CO-to-PAH ratios across the regions that we study. We find that CO-to-PAH ratios and scaling relationships near $\\ion{H}{2}$ regions are similar to those in  diffuse sight lines. The main difference between the two types of regions is that sight lines near $\\ion{H}{2}$ regions show higher intensities in all tracers. Galaxy centers, on the other hand, show higher overall intensities and enhanced CO-to-PAH ratios compared to galaxy disks. Individual galaxies show $0.19$ dex scatter in the normalization of CO at fixed $I_{\\rm PAH}$ , and this normalization anti-correlates with specific star formation rate ( $\\ssfr$ ) and correlates with stellar mass. We provide a prescription that accounts for these galaxy-to-galaxy variations and represents our best current empirical predictor to estimate CO(2-1) intensity from PAH emission, which allows one to take advantage of JWST's excellent sensitivity and resolution to trace cold gas.\n",
       "\n",
       "</div>\n",
       "\n",
       "<div id=\"div_fig1\">\n",
       "\n",
       "<img src=\"tmp_2410.05397/./co_vs_f770w_pah_all_reso_allmatchedres.png\" alt=\"Fig1.1\" width=\"25%\"/><img src=\"tmp_2410.05397/./co_vs_f770w_pah_all+hii_reso_allmatchedres.png\" alt=\"Fig1.2\" width=\"25%\"/><img src=\"tmp_2410.05397/./co_vs_f770w_pah_all+cendisk_reso_allmatchedres.png\" alt=\"Fig1.3\" width=\"25%\"/><img src=\"tmp_2410.05397/./co_vs_f770w_pah_bygal_reso_allmatchedres.png\" alt=\"Fig1.4\" width=\"25%\"/>\n",
       "\n",
       "**Figure 1. -** **CO(2--1) and starlight continuum-subtracted F770W$_{\\rm PAH**$ emission} at $\\approx 100$ pc resolution in 66 nearby star-forming galaxies. _Top left:_ All sight lines in our analysis (gray points) with data density contours enclosing the densest 15, 25, 50, 75, and 95\\% of the data points. The bins show the median and 16{-}84\\% range of CO(2-1) emission in logarithmically-spaced bins of $I_{\\rm PAH}^{\\rm F770W}$; treating the PAH emission as the independent variable allows us to average the noisier CO(2-1) data. The dashed line shows the best-fit power law describing these binned measurements (Table \\ref{tab:fits}).  _Top right:_ As the top left panel but now separately plotting results for sight lines near $\\ion${H}{2} regions (yellow, stars) and diffuse emission outside these regions (purple, squares). The two environments show similar CO-to-PAH ratios where they overlap, but the sight lines near $\\ion${H}{2} regions show overall brighter intensities. _Bottom left:_ As for the previous figures, but now separating galaxy centers (blue, circles) from disks (green, squares). Galaxy centers show brighter emission and higher CO-to-PAH ratios at the same $I_{\\rm F770W}^{\\rm PAH}$. _Bottom right:_ Traces show binned results for each individual galaxy. The galaxies show overall similar CO(2-1) vs. F770W$_{\\rm PAH}$ relations with moderate offsets from galaxy to galaxy. These offsets correlate with the integrated galaxy properties (see Figure \\ref{fig:co_mir_bygal}, with the color bar indicating SFR$/M_\\star$). See Table \\ref{tab:fits} for ratios and best fits for each panel.\n",
       " (*fig:co_mir_all*)\n",
       "\n",
       "</div>\n",
       "<div id=\"div_fig2\">\n",
       "\n",
       "<img src=\"tmp_2410.05397/./co_at_f770w_pah_0_vs_logmstar.png\" alt=\"Fig2.1\" width=\"25%\"/><img src=\"tmp_2410.05397/./co_at_f770w_pah_0_vs_logssfr.png\" alt=\"Fig2.2\" width=\"25%\"/><img src=\"tmp_2410.05397/./co_vs_f770w_pah_bygal_reso_allmatchedres_normalized.png\" alt=\"Fig2.3\" width=\"25%\"/><img src=\"tmp_2410.05397/./co_vs_f770w_pah_all_reso_allmatchedres_normalized.png\" alt=\"Fig2.4\" width=\"25%\"/>\n",
       "\n",
       "**Figure 2. -** **Galaxy-to-galaxy variations in the CO(2--1) vs. F770W$_{\\rm PAH**$ relationship.} CO(2-1) at fixed PAH intensity for individual galaxies (see bottom left panel Fig. \\ref{fig:co_mir_all}) as a function of (_left_) galaxy-integrated stellar mass, $M_\\star$ and (_right_) specific star formation rate, SFR/$M_\\star$. Spearman's $r$, p-value, the best-fit slope, intercept and pivot ($y=m(x-x_0)+b$) to all galaxies, the scatter about the best-fit relation (Eq. \\ref{eq:norms}), and vertical scatter are all indicated. We observe a modest correlation between the CO-to-PAH ratio and $M_\\star$ and a well-defined anti-correlation between the CO-to-PAH ratio and SFR/$M_\\star$. The correlation with $M_\\star$ may reflect increased contribution of PAH emission associated with CO-dark gas or atomic gas in low mass galaxies. The anti-correlation with SFR/$M_\\star$ likely reflects a mixture of increased radiation field strength, suppression of $X_{\\rm CO}$, and enhancement of $R_{21}$ in high SFR/M$_\\star$ galaxies, which appear to represent stronger effects than any $q_{\\rm PAH}$. Scaled versions of the best-fit normalizations of $I_\\mathrm{CO(2-1)}$ vs _WISE_ 12 $\\um$ against stellar mass and SFR$/M_\\star$ from [Leroy, Bolatto and Sandstrom (2023)]() are shown (dotted lines), showing similar trends.\n",
       " (*fig:co_mir_bygal*)\n",
       "\n",
       "</div>\n",
       "<div id=\"div_fig3\">\n",
       "\n",
       "<img src=\"tmp_2410.05397/./co_vs_f335m_pah_all_reso_allmatchedres.png\" alt=\"Fig3.1\" width=\"50%\"/><img src=\"tmp_2410.05397/./co_vs_f1130w_all_reso_allmatchedres.png\" alt=\"Fig3.2\" width=\"50%\"/>\n",
       "\n",
       "**Figure 3. -** **CO(2--1) intensity as functions of 3.3 $\\mu$m and $11.3 \\mu$m PAH intensity.** As Figure \\ref{fig:co_mir_all}, but now showing PAH intensity captured by (_left_) the F335M filter capturing the 3.3 $\\mu$m PAH feature (after continuum subtraction following H. Koziol et al. in preparation) and (_right_) the F1130W filter capturing the 11.3 $\\mu$m PAH feature. The relationship between CO(2-1) and these bands resembles that which we observe for F770W$_{\\rm PAH}$ in Figure \\ref{fig:co_mir_all}, though the specifics of the fits differ (Table \\ref{tab:fits}). Of note, the F335M$_{\\rm PAH}$ feature has a lower intensity than the others and extracting it from imaging depends critically on stellar continuum subtraction, but the shorter wavelength means that the band offers even higher resolution compared to the other features \\citep[see][]{sandstrom2023}.\n",
       " (*fig:co_mir_all_otherbands*)\n",
       "\n",
       "</div><div id=\"qrcode\"><img src=https://api.qrserver.com/v1/create-qr-code/?size=100x100&data=\"https://arxiv.org/abs/2410.05397\"></div>"
      ],
      "text/plain": [
       "<IPython.core.display.Markdown object>"
      ]
     },
     "metadata": {},
     "output_type": "display_data"
    },
    {
     "data": {
      "text/markdown": [
       "<div class=\"macros\" style=\"visibility:hidden;\">\n",
       "$\\newcommand{\\ensuremath}{}$\n",
       "$\\newcommand{\\xspace}{}$\n",
       "$\\newcommand{\\object}[1]{\\texttt{#1}}$\n",
       "$\\newcommand{\\farcs}{{.}''}$\n",
       "$\\newcommand{\\farcm}{{.}'}$\n",
       "$\\newcommand{\\arcsec}{''}$\n",
       "$\\newcommand{\\arcmin}{'}$\n",
       "$\\newcommand{\\ion}[2]{#1#2}$\n",
       "$\\newcommand{\\textsc}[1]{\\textrm{#1}}$\n",
       "$\\newcommand{\\hl}[1]{\\textrm{#1}}$\n",
       "$\\newcommand{\\footnote}[1]{}$\n",
       "$\\newcommand{\\thebibliography}{\\DeclareRobustCommand{\\VAN}[3]{##3}\\VANthebibliography}$\n",
       "$\\newcommand\\fp{#1}$</div>\n",
       "\n",
       "\n",
       "\n",
       "<div id=\"title\">\n",
       "\n",
       "# Relatively young thick discs in low-mass star-forming late-type galaxies\n",
       "\n",
       "</div>\n",
       "<div id=\"comments\">\n",
       "\n",
       "[![arXiv](https://img.shields.io/badge/arXiv-2410.05761-b31b1b.svg)](https://arxiv.org/abs/2410.05761)<mark>Appeared on: 2024-10-10</mark> -  _20 pages, 9 figures, submitted to A&A_\n",
       "\n",
       "</div>\n",
       "<div id=\"authors\">\n",
       "\n",
       "N. Sattler, et al. -- incl., <mark>N. Neumayer</mark>\n",
       "\n",
       "</div>\n",
       "<div id=\"abstract\">\n",
       "\n",
       "**Abstract:** We aim to trace the evolution of eight edge-on star-forming disc galaxies through the analysis of stellar population properties of their thin and thick discs. These galaxies have relatively low stellar masses (4 $\\times$ 10 $^9$ to 6 $\\times$ 10 $^{10}$  $M_{\\odot}$ ). We use Multi-Unit Spectroscopic Explorer (MUSE) observations and full-spectrum fitting to produce spatially resolved maps of ages, metallicities and [ Mg/Fe ] -abundances and extract the star formation histories of stellar discs. Our maps show thick discs that are on average older, more metal-poor and more [ Mg/Fe ] -enhanced than thin discs.  However, age differences between thin and thick discs are small (around 2 Gyr) and the thick discs are younger than previously observed in more massive and more quiescent galaxies. Both thin and thick discs show mostly sub-solar metallicities, and the vertical metallicity gradient is milder than previously observed in similar studies. [ Mg/Fe ] differences between thick and thin discs are not sharp.  The star formation histories of thick discs extend down to recent times, although most of the mass in young stars was formed in thin discs. Our findings show thick discs that are different from old quiescent thick discs previously observed in galaxies of different morphologies and/or different masses.  We propose that thick discs in these galaxies did not form quickly at high redshift, but slowly in an extended time.  Also, the thin discs formed slowly, however, a larger mass fraction was created at very recent times.\n",
       "\n",
       "</div>\n",
       "\n",
       "<div id=\"div_fig1\">\n",
       "\n",
       "<img src=\"tmp_2410.05761/./plots/lw_maps.png\" alt=\"Fig3\" width=\"100%\"/>\n",
       "\n",
       "**Figure 3. -** Light-weighted age (left), metallicity (middle) and [Mg/Fe]-abundance (right) maps for the full sample. For the galaxies with distinct morphological thick and thin discs, grey dashed lines mark the regions above and below which the thick disc dominates the vertical surface-brightness profiles. (*fig:lw_maps*)\n",
       "\n",
       "</div>\n",
       "<div id=\"div_fig2\">\n",
       "\n",
       "<img src=\"tmp_2410.05761/./plots/SFH_maps.png\" alt=\"Fig4\" width=\"100%\"/>\n",
       "\n",
       "**Figure 4. -** Star formation histories in terms of mass fraction per age with evenly spaced age bins every 0.5 Gyr. Uncertainties from Monte Carlo simulations are shown by the shaded areas.\n",
       "    The left column shows the star formation histories for the full covered regions of the galaxies, while the middle and right columns show the thick and thin disc respectively for the five out of the eight galaxies containing two well-defined disc components (they share the same y-axis with the left column). The additional separate panels on the lower right corner show the star formation histories of the metal-poor regions for ESO 157-49 and IC 1553. (*fig:SFH_maps*)\n",
       "\n",
       "</div>\n",
       "<div id=\"div_fig3\">\n",
       "\n",
       "<img src=\"tmp_2410.05761/./plots/g_band_images.png\" alt=\"Fig1\" width=\"100%\"/>\n",
       "\n",
       "**Figure 1. -** _g_-band images of the full sample. The image of ESO 157-49 is taken from the Dark Energy Survey DR2\n",
       "     ([Morganson, Gruendl and Menanteau 2018](), [Abbott, Adamów and Aguena 2021]()) , while the other images are from Pan-STARRS1\n",
       "     ([Chambers, Magnier and Metcalfe 2016](), [Magnier, Chambers and Flewelling 2020](), [Waters, Magnier and Price 2020](), [Magnier, Sweeney and Chambers 2020](), [Magnier, Schlafly and Finkbeiner 2020](), [Flewelling, Magnier and Chambers 2020]()) . (*fig:g_band*)\n",
       "\n",
       "</div><div id=\"qrcode\"><img src=https://api.qrserver.com/v1/create-qr-code/?size=100x100&data=\"https://arxiv.org/abs/2410.05761\"></div>"
      ],
      "text/plain": [
       "<IPython.core.display.Markdown object>"
      ]
     },
     "metadata": {},
     "output_type": "display_data"
    },
    {
     "data": {
      "text/markdown": [
       "<div class=\"macros\" style=\"visibility:hidden;\">\n",
       "$\\newcommand{\\ensuremath}{}$\n",
       "$\\newcommand{\\xspace}{}$\n",
       "$\\newcommand{\\object}[1]{\\texttt{#1}}$\n",
       "$\\newcommand{\\farcs}{{.}''}$\n",
       "$\\newcommand{\\farcm}{{.}'}$\n",
       "$\\newcommand{\\arcsec}{''}$\n",
       "$\\newcommand{\\arcmin}{'}$\n",
       "$\\newcommand{\\ion}[2]{#1#2}$\n",
       "$\\newcommand{\\textsc}[1]{\\textrm{#1}}$\n",
       "$\\newcommand{\\hl}[1]{\\textrm{#1}}$\n",
       "$\\newcommand{\\footnote}[1]{}$\n",
       "$\\newcommand{\\lcdm}{\\LambdaCDM}$\n",
       "$\\newcommand{\\wcdm}{\\wzero\\waCDM}$\n",
       "$\\newcommand{\\wzero}{w_0}$\n",
       "$\\newcommand{\\wa}{w_a}$\n",
       "$\\newcommand{\\bn}{{{\\bm n}}}$\n",
       "$\\newcommand{\\bV}{{\\bm V}}$\n",
       "$\\newcommand{\\De}{\\Delta}$\n",
       "$\\newcommand{\\HH}{\\mathcal{H}}$\n",
       "$\\newcommand{\\al}{\\alpha}$\n",
       "$\\newcommand{\\de}{\\mathrm{d}}$\n",
       "$\\newcommand{\\bal}{\\boldsymbol{\\al}}$\n",
       "$\\newcommand{\\bnabla}{\\boldsymbol{\\nabla}}$\n",
       "$\\newcommand{\\ka}{\\kappa}$\n",
       "$\\newcommand{\\Om}{\\Omega}$\n",
       "$\\newcommand{\\ds}{{\\slash\\hspace{-5pt}\\partial}}$\n",
       "$\\newcommand{\\fnl}{f_{\\rm NL}}$\n",
       "$\\newcommand{\\GCsp}{\\mathrm{GC}_{\\rm sp}}$\n",
       "$\\newcommand{\\GCph}{\\mathrm{GC}_{\\rm ph}}$\n",
       "$\\newcommand{\\laplaciansphere}{\\Delta_{\\Omega}}$\n",
       "$\\newcommand{\\ns}{n_{\\text{s}}}$\n",
       "$\\newcommand{\\barnS}{\\bar{n}_\\text{S}}$\n",
       "$\\newcommand{\\rsource}{r_\\text{s}}$\n",
       "$\\newcommand{\\luminositysource}{L_\\text{S}}$\n",
       "$\\newcommand{\\fisher}{\\tens{F}}$\n",
       "$\\newcommand{\\covariance}{\\tens{C}}$\n",
       "$\\newcommand{\\iu}{{i\\mkern1mu}}$\n",
       "$\\newcommand{\\std}{\\mathrm{std}}$\n",
       "$\\newcommand{\\magn}{\\ensuremath{\\text{magn}}}$\n",
       "$\\newcommand{\\dd}{\\partial}$\n",
       "$\\newcommand$\n",
       "$\\newcommand{\\minus}{\\ensuremath{-}}$\n",
       "$\\newcommand{\\zmean}{\\bar{z}}$\n",
       "$\\newcommand{\\MyBlue}{\\color[rgb]{0.0, 0.53, 0.74}}$\n",
       "$\\newcommand{\\Sangria}{\\color[rgb]{0.57, 0.0, 0.04}}$\n",
       "$\\newcommand{\\jat}[1]{{\\color[rgb]{0,0.6,0}#1}}$\n",
       "$\\newcommand{\\jar}[1]{{\\color[rgb]{0,0.6,0}{\\tt[Julian: #1]}}}$\n",
       "$\\newcommand{\\sebt}[1]{{\\color[rgb]{1.0,0.3,0.5}#1}}$\n",
       "$\\newcommand{\\sebr}[1]{{\\color[rgb]{1.0,0.3,0.5}{\\tt[Sebastian: #1]}}}$\n",
       "$\\newcommand{\\sst}[1]{{\\color[rgb]{1.0,0.5,0}#1}}$\n",
       "$\\newcommand{\\cam}[1]{\\textcolor{red}{{#1}}}$\n",
       "$\\newcommand{\\camC}[1]{\\textcolor{red}{[{\\tt CB: #1}]}}$\n",
       "$\\newcommand{\\itt}[1]{\\textcolor{purple}{{#1}}}$\n",
       "$\\newcommand{\\itc}[1]{\\textcolor{purple}{[{\\tt IT: #1}]}}$\n",
       "$\\newcommand{\\law}[1]{\\textcolor{teal}{{#1}}}$\n",
       "$\\newcommand{\\lawc}[1]{\\textcolor{teal}{[{\\tt LD: #1}]}}$\n",
       "$\\newcommand{\\orcid}[1]$\n",
       "$\\newcommand{\\bea}{\\begin{eqnarray}}$\n",
       "$\\newcommand{\\eea}{\\end{eqnarray}}$\n",
       "$\\newcommand{\\bn}{{{\\bm n}}}$\n",
       "$\\newcommand{\\bV}{{\\bm V}}$\n",
       "$\\newcommand{\\De}{\\Delta}$\n",
       "$\\newcommand{\\HH}{\\mathcal{H}}$\n",
       "$\\newcommand{\\al}{\\alpha}$\n",
       "$\\newcommand{\\de}{\\mathrm{d}}$\n",
       "$\\newcommand{\\bal}{\\boldsymbol{\\al}}$\n",
       "$\\newcommand{\\bnabla}{\\boldsymbol{\\nabla}}$\n",
       "$\\newcommand{\\ga}{\\gamma}$\n",
       "$\\newcommand{\\ka}{\\kappa}$\n",
       "$\\newcommand{\\la}{\\lambda}$\n",
       "$\\newcommand{\\Om}{\\Omega}$\n",
       "$\\newcommand{\\ds}{{\\slash\\hspace{-5pt}\\partial}}$\n",
       "$\\newcommand{\\fnl}{f_{\\rm NL}}$\n",
       "$\\newcommand{\\GCsp}{\\mathrm{GC}_{\\rm sp}}$\n",
       "$\\newcommand{\\GCph}{\\mathrm{GC}_{\\rm ph}}$\n",
       "$\\newcommand{\\laplaciansphere}{\\Delta_{\\Omega}}$\n",
       "$\\newcommand{\\ns}{n_{\\text{s}}}$\n",
       "$\\newcommand{\\barnS}{\\bar{n}_\\text{S}}$\n",
       "$\\newcommand{\\rsource}{r_\\text{s}}$\n",
       "$\\newcommand{\\luminositysource}{L_\\text{S}}$\n",
       "$\\newcommand{\\fisher}{\\tens{F}}$\n",
       "$\\newcommand{\\covariance}{\\tens{C}}$\n",
       "$\\newcommand{\\iu}{{i\\mkern1mu}}$\n",
       "$\\newcommand{\\std}{\\mathrm{std}}$\n",
       "$\\newcommand{\\magn}{\\ensuremath{\\text{magn}}}$\n",
       "$\\newcommand{\\dd}{\\partial}$\n",
       "$\\newcommand\\snr{\\ensuremath{\\text{S} / \\text{N}}}$\n",
       "$\\newcommand{\\minus}{\\ensuremath{-}}$\n",
       "$\\NewDocumentCommand{\\evalat}{sO{\\big}mm}{$\n",
       "$  \\IfBooleanTF{#1}{\\mleft. #3 \\mright|_{#4}}{#3#2|_{#4}}$\n",
       "$}$\n",
       "$\\newcommand{\\zmean}{\\bar{z}}$\n",
       "$\\newcommand{\\MyBlue}{\\color[rgb]{0.0, 0.53, 0.74}}$\n",
       "$\\newcommand{\\Sangria}{\\color[rgb]{0.57, 0.0, 0.04}}$\n",
       "$\\newcommand\\fraC{#1}{{\\Sangria[\\tt FL: #1]}}$\n",
       "$\\newcommand\\fra{#1}{{\\Sangria #1}}$\n",
       "$\\newcommand\\fraRem{#1}{{\\Sangria \\sout{#1}}}$\n",
       "$\\newcommand{\\jat}[1]{{\\color[rgb]{0,0.6,0}#1}}$\n",
       "$\\newcommand{\\jar}[1]{{\\color[rgb]{0,0.6,0}{\\tt[Julian: #1]}}}$\n",
       "$\\newcommand{\\sebt}[1]{{\\color[rgb]{1.0,0.3,0.5}#1}}$\n",
       "$\\newcommand{\\sebr}[1]{{\\color[rgb]{1.0,0.3,0.5}{\\tt[Sebastian: #1]}}}$\n",
       "$\\newcommand{\\sst}[1]{{\\color[rgb]{1.0,0.5,0}#1}}$\n",
       "$\\newcommand{\\cam}[1]{\\textcolor{red}{{#1}}}$\n",
       "$\\newcommand{\\camC}[1]{\\textcolor{red}{[{\\tt CB: #1}]}}$\n",
       "$\\newcommand{\\itt}[1]{\\textcolor{purple}{{#1}}}$\n",
       "$\\newcommand{\\itc}[1]{\\textcolor{purple}{[{\\tt IT: #1}]}}$\n",
       "$\\newcommand{\\law}[1]{\\textcolor{teal}{{#1}}}$\n",
       "$\\newcommand{\\lawc}[1]{\\textcolor{teal}{[{\\tt LD: #1}]}}$\n",
       "$\\begin{document}$\n",
       "$\\title{\\Euclid: Relativistic effects in the dipole of the 2-point correlation function\\thanks{This paper is published on behalf of the Euclid Consortium.}}$\n",
       "$\\newcommand{\\orcid}[1] $\n",
       "$\\author{F.~Lepori\\thanks{\\email{francesca.lepori2@uzh.ch}}\\inst{\\ref{aff1}}$\n",
       "$\\and S.~Schulz\\orcid{0000-0002-8235-9986}\\inst{\\ref{aff1}}$\n",
       "$\\and I.~Tutusaus\\orcid{0000-0002-3199-0399}\\inst{\\ref{aff2}}$\n",
       "$\\and M.-A.~Breton\\inst{\\ref{aff3},\\ref{aff4},\\ref{aff5}}$\n",
       "$\\and S.~Saga\\orcid{0000-0002-7387-7570}\\inst{\\ref{aff6},\\ref{aff7}}$\n",
       "$\\and C.~Viglione\\inst{\\ref{aff8},\\ref{aff3}}$\n",
       "$\\and J.~Adamek\\orcid{0000-0002-0723-6740}\\inst{\\ref{aff1}}$\n",
       "$\\and C.~Bonvin\\orcid{0000-0002-5318-4064}\\inst{\\ref{aff9}}$\n",
       "$\\and L.~Dam\\orcid{0000-0003-3163-9571}\\inst{\\ref{aff9}}$\n",
       "$\\and P.~Fosalba\\orcid{0000-0002-1510-5214}\\inst{\\ref{aff8},\\ref{aff3}}$\n",
       "$\\and L.~Amendola\\orcid{0000-0002-0835-233X}\\inst{\\ref{aff10}}$\n",
       "$\\and S.~Andreon\\orcid{0000-0002-2041-8784}\\inst{\\ref{aff11}}$\n",
       "$\\and C.~Baccigalupi\\orcid{0000-0002-8211-1630}\\inst{\\ref{aff12},\\ref{aff13},\\ref{aff14},\\ref{aff15}}$\n",
       "$\\and M.~Baldi\\orcid{0000-0003-4145-1943}\\inst{\\ref{aff16},\\ref{aff17},\\ref{aff18}}$\n",
       "$\\and S.~Bardelli\\orcid{0000-0002-8900-0298}\\inst{\\ref{aff17}}$\n",
       "$\\and D.~Bonino\\orcid{0000-0002-3336-9977}\\inst{\\ref{aff19}}$\n",
       "$\\and E.~Branchini\\orcid{0000-0002-0808-6908}\\inst{\\ref{aff20},\\ref{aff21},\\ref{aff11}}$\n",
       "$\\and M.~Brescia\\orcid{0000-0001-9506-5680}\\inst{\\ref{aff22},\\ref{aff23},\\ref{aff24}}$\n",
       "$\\and J.~Brinchmann\\orcid{0000-0003-4359-8797}\\inst{\\ref{aff25},\\ref{aff26}}$\n",
       "$\\and A.~Caillat\\inst{\\ref{aff27}}$\n",
       "$\\and S.~Camera\\orcid{0000-0003-3399-3574}\\inst{\\ref{aff28},\\ref{aff29},\\ref{aff19}}$\n",
       "$\\and V.~Capobianco\\orcid{0000-0002-3309-7692}\\inst{\\ref{aff19}}$\n",
       "$\\and C.~Carbone\\orcid{0000-0003-0125-3563}\\inst{\\ref{aff30}}$\n",
       "$\\and J.~Carretero\\orcid{0000-0002-3130-0204}\\inst{\\ref{aff31},\\ref{aff32}}$\n",
       "$\\and S.~Casas\\orcid{0000-0002-4751-5138}\\inst{\\ref{aff33},\\ref{aff34}}$\n",
       "$\\and M.~Castellano\\orcid{0000-0001-9875-8263}\\inst{\\ref{aff35}}$\n",
       "$\\and G.~Castignani\\orcid{0000-0001-6831-0687}\\inst{\\ref{aff17}}$\n",
       "$\\and S.~Cavuoti\\orcid{0000-0002-3787-4196}\\inst{\\ref{aff23},\\ref{aff24}}$\n",
       "$\\and A.~Cimatti\\inst{\\ref{aff36}}$\n",
       "$\\and C.~Colodro-Conde\\inst{\\ref{aff37}}$\n",
       "$\\and G.~Congedo\\orcid{0000-0003-2508-0046}\\inst{\\ref{aff38}}$\n",
       "$\\and L.~Conversi\\orcid{0000-0002-6710-8476}\\inst{\\ref{aff39},\\ref{aff40}}$\n",
       "$\\and Y.~Copin\\orcid{0000-0002-5317-7518}\\inst{\\ref{aff41}}$\n",
       "$\\and F.~Courbin\\orcid{0000-0003-0758-6510}\\inst{\\ref{aff42},\\ref{aff43}}$\n",
       "$\\and H.~M.~Courtois\\orcid{0000-0003-0509-1776}\\inst{\\ref{aff44}}$\n",
       "$\\and H.~Degaudenzi\\orcid{0000-0002-5887-6799}\\inst{\\ref{aff45}}$\n",
       "$\\and G.~De~Lucia\\orcid{0000-0002-6220-9104}\\inst{\\ref{aff13}}$\n",
       "$\\and F.~Dubath\\orcid{0000-0002-6533-2810}\\inst{\\ref{aff45}}$\n",
       "$\\and C.~A.~J.~Duncan\\orcid{0009-0003-3573-0791}\\inst{\\ref{aff46}}$\n",
       "$\\and X.~Dupac\\inst{\\ref{aff40}}$\n",
       "$\\and S.~Dusini\\orcid{0000-0002-1128-0664}\\inst{\\ref{aff47}}$\n",
       "$\\and M.~Farina\\orcid{0000-0002-3089-7846}\\inst{\\ref{aff48}}$\n",
       "$\\and S.~Farrens\\orcid{0000-0002-9594-9387}\\inst{\\ref{aff49}}$\n",
       "$\\and S.~Ferriol\\inst{\\ref{aff41}}$\n",
       "$\\and M.~Frailis\\orcid{0000-0002-7400-2135}\\inst{\\ref{aff13}}$\n",
       "$\\and E.~Franceschi\\orcid{0000-0002-0585-6591}\\inst{\\ref{aff17}}$\n",
       "$\\and S.~Galeotta\\orcid{0000-0002-3748-5115}\\inst{\\ref{aff13}}$\n",
       "$\\and B.~Gillis\\orcid{0000-0002-4478-1270}\\inst{\\ref{aff38}}$\n",
       "$\\and C.~Giocoli\\orcid{0000-0002-9590-7961}\\inst{\\ref{aff17},\\ref{aff18}}$\n",
       "$\\and A.~Grazian\\orcid{0000-0002-5688-0663}\\inst{\\ref{aff50}}$\n",
       "$\\and F.~Grupp\\inst{\\ref{aff51},\\ref{aff52}}$\n",
       "$\\and S.~V.~H.~Haugan\\orcid{0000-0001-9648-7260}\\inst{\\ref{aff53}}$\n",
       "$\\and W.~Holmes\\inst{\\ref{aff54}}$\n",
       "$\\and F.~Hormuth\\inst{\\ref{aff55}}$\n",
       "$\\and A.~Hornstrup\\orcid{0000-0002-3363-0936}\\inst{\\ref{aff56},\\ref{aff57}}$\n",
       "$\\and S.~Ili\\'c\\orcid{0000-0003-4285-9086}\\inst{\\ref{aff58},\\ref{aff2}}$\n",
       "$\\and K.~Jahnke\\orcid{0000-0003-3804-2137}\\inst{\\ref{aff59}}$\n",
       "$\\and M.~Jhabvala\\inst{\\ref{aff60}}$\n",
       "$\\and E.~Keihänen\\orcid{0000-0003-1804-7715}\\inst{\\ref{aff61}}$\n",
       "$\\and A.~Kiessling\\orcid{0000-0002-2590-1273}\\inst{\\ref{aff54}}$\n",
       "$\\and M.~Kilbinger\\orcid{0000-0001-9513-7138}\\inst{\\ref{aff49}}$\n",
       "$\\and B.~Kubik\\orcid{0009-0006-5823-4880}\\inst{\\ref{aff41}}$\n",
       "$\\and M.~Kunz\\orcid{0000-0002-3052-7394}\\inst{\\ref{aff9}}$\n",
       "$\\and H.~Kurki-Suonio\\orcid{0000-0002-4618-3063}\\inst{\\ref{aff62},\\ref{aff63}}$\n",
       "$\\and S.~Ligori\\orcid{0000-0003-4172-4606}\\inst{\\ref{aff19}}$\n",
       "$\\and P.~B.~Lilje\\orcid{0000-0003-4324-7794}\\inst{\\ref{aff53}}$\n",
       "$\\and V.~Lindholm\\orcid{0000-0003-2317-5471}\\inst{\\ref{aff62},\\ref{aff63}}$\n",
       "$\\and I.~Lloro\\orcid{0000-0001-5966-1434}\\inst{\\ref{aff64}}$\n",
       "$\\and E.~Maiorano\\orcid{0000-0003-2593-4355}\\inst{\\ref{aff17}}$\n",
       "$\\and O.~Mansutti\\orcid{0000-0001-5758-4658}\\inst{\\ref{aff13}}$\n",
       "$\\and O.~Marggraf\\orcid{0000-0001-7242-3852}\\inst{\\ref{aff65}}$\n",
       "$\\and K.~Markovic\\orcid{0000-0001-6764-073X}\\inst{\\ref{aff54}}$\n",
       "$\\and M.~Martinelli\\orcid{0000-0002-6943-7732}\\inst{\\ref{aff35},\\ref{aff66}}$\n",
       "$\\and N.~Martinet\\orcid{0000-0003-2786-7790}\\inst{\\ref{aff27}}$\n",
       "$\\and F.~Marulli\\orcid{0000-0002-8850-0303}\\inst{\\ref{aff67},\\ref{aff17},\\ref{aff18}}$\n",
       "$\\and R.~Massey\\orcid{0000-0002-6085-3780}\\inst{\\ref{aff68}}$\n",
       "$\\and E.~Medinaceli\\orcid{0000-0002-4040-7783}\\inst{\\ref{aff17}}$\n",
       "$\\and M.~Melchior\\inst{\\ref{aff69}}$\n",
       "$\\and Y.~Mellier\\inst{\\ref{aff70},\\ref{aff71}}$\n",
       "$\\and M.~Meneghetti\\orcid{0000-0003-1225-7084}\\inst{\\ref{aff17},\\ref{aff18}}$\n",
       "$\\and E.~Merlin\\orcid{0000-0001-6870-8900}\\inst{\\ref{aff35}}$\n",
       "$\\and G.~Meylan\\inst{\\ref{aff72}}$\n",
       "$\\and M.~Moresco\\orcid{0000-0002-7616-7136}\\inst{\\ref{aff67},\\ref{aff17}}$\n",
       "$\\and L.~Moscardini\\orcid{0000-0002-3473-6716}\\inst{\\ref{aff67},\\ref{aff17},\\ref{aff18}}$\n",
       "$\\and C.~Neissner\\orcid{0000-0001-8524-4968}\\inst{\\ref{aff73},\\ref{aff32}}$\n",
       "$\\and S.-M.~Niemi\\inst{\\ref{aff74}}$\n",
       "$\\and C.~Padilla\\orcid{0000-0001-7951-0166}\\inst{\\ref{aff73}}$\n",
       "$\\and S.~Paltani\\orcid{0000-0002-8108-9179}\\inst{\\ref{aff45}}$\n",
       "$\\and F.~Pasian\\orcid{0000-0002-4869-3227}\\inst{\\ref{aff13}}$\n",
       "$\\and K.~Pedersen\\inst{\\ref{aff75}}$\n",
       "$\\and V.~Pettorino\\inst{\\ref{aff74}}$\n",
       "$\\and S.~Pires\\orcid{0000-0002-0249-2104}\\inst{\\ref{aff49}}$\n",
       "$\\and G.~Polenta\\orcid{0000-0003-4067-9196}\\inst{\\ref{aff76}}$\n",
       "$\\and M.~Poncet\\inst{\\ref{aff77}}$\n",
       "$\\and L.~A.~Popa\\inst{\\ref{aff78}}$\n",
       "$\\and F.~Raison\\orcid{0000-0002-7819-6918}\\inst{\\ref{aff51}}$\n",
       "$\\and A.~Renzi\\orcid{0000-0001-9856-1970}\\inst{\\ref{aff79},\\ref{aff47}}$\n",
       "$\\and J.~Rhodes\\orcid{0000-0002-4485-8549}\\inst{\\ref{aff54}}$\n",
       "$\\and G.~Riccio\\inst{\\ref{aff23}}$\n",
       "$\\and E.~Romelli\\orcid{0000-0003-3069-9222}\\inst{\\ref{aff13}}$\n",
       "$\\and M.~Roncarelli\\orcid{0000-0001-9587-7822}\\inst{\\ref{aff17}}$\n",
       "$\\and C.~Rosset\\orcid{0000-0003-0286-2192}\\inst{\\ref{aff80}}$\n",
       "$\\and E.~Rossetti\\orcid{0000-0003-0238-4047}\\inst{\\ref{aff16}}$\n",
       "$\\and R.~Saglia\\orcid{0000-0003-0378-7032}\\inst{\\ref{aff52},\\ref{aff51}}$\n",
       "$\\and Z.~Sakr\\orcid{0000-0002-4823-3757}\\inst{\\ref{aff10},\\ref{aff2},\\ref{aff81}}$\n",
       "$\\and A.~G.~Sánchez\\orcid{0000-0003-1198-831X}\\inst{\\ref{aff51}}$\n",
       "$\\and D.~Sapone\\orcid{0000-0001-7089-4503}\\inst{\\ref{aff82}}$\n",
       "$\\and B.~Sartoris\\orcid{0000-0003-1337-5269}\\inst{\\ref{aff52},\\ref{aff13}}$\n",
       "$\\and M.~Schirmer\\orcid{0000-0003-2568-9994}\\inst{\\ref{aff59}}$\n",
       "$\\and P.~Schneider\\orcid{0000-0001-8561-2679}\\inst{\\ref{aff65}}$\n",
       "$\\and T.~Schrabback\\orcid{0000-0002-6987-7834}\\inst{\\ref{aff83}}$\n",
       "$\\and A.~Secroun\\orcid{0000-0003-0505-3710}\\inst{\\ref{aff84}}$\n",
       "$\\and G.~Seidel\\orcid{0000-0003-2907-353X}\\inst{\\ref{aff59}}$\n",
       "$\\and S.~Serrano\\orcid{0000-0002-0211-2861}\\inst{\\ref{aff8},\\ref{aff85},\\ref{aff3}}$\n",
       "$\\and C.~Sirignano\\orcid{0000-0002-0995-7146}\\inst{\\ref{aff79},\\ref{aff47}}$\n",
       "$\\and G.~Sirri\\orcid{0000-0003-2626-2853}\\inst{\\ref{aff18}}$\n",
       "$\\and L.~Stanco\\orcid{0000-0002-9706-5104}\\inst{\\ref{aff47}}$\n",
       "$\\and J.~Steinwagner\\orcid{0000-0001-7443-1047}\\inst{\\ref{aff51}}$\n",
       "$\\and P.~Tallada-Crespí\\orcid{0000-0002-1336-8328}\\inst{\\ref{aff31},\\ref{aff32}}$\n",
       "$\\and I.~Tereno\\inst{\\ref{aff86},\\ref{aff87}}$\n",
       "$\\and R.~Toledo-Moreo\\orcid{0000-0002-2997-4859}\\inst{\\ref{aff88}}$\n",
       "$\\and F.~Torranewcommandlot\\orcid{0000-0003-1160-1517}\\inst{\\ref{aff32},\\ref{aff31}}$\n",
       "$\\and L.~Valenziano\\orcid{0000-0002-1170-0104}\\inst{\\ref{aff17},\\ref{aff89}}$\n",
       "$\\and T.~Vassallo\\orcid{0000-0001-6512-6358}\\inst{\\ref{aff52},\\ref{aff13}}$\n",
       "$\\and Y.~Wang\\orcid{0000-0002-4749-2984}\\inst{\\ref{aff90}}$\n",
       "$\\and J.~Weller\\orcid{0000-0002-8282-2010}\\inst{\\ref{aff52},\\ref{aff51}}$\n",
       "$\\and E.~Zucca\\orcid{0000-0002-5845-8132}\\inst{\\ref{aff17}}$\n",
       "$\\and C.~Burigana\\orcid{0000-0002-3005-5796}\\inst{\\ref{aff91},\\ref{aff89}}$\n",
       "$\\and G.~Fabbian\\orcid{0000-0002-3255-4695}\\inst{\\ref{aff92},\\ref{aff93}}$\n",
       "$\\and F.~Finelli\\orcid{0000-0002-6694-3269}\\inst{\\ref{aff17},\\ref{aff89}}$\n",
       "$\\and A.~Pezzotta\\orcid{0000-0003-0726-2268}\\inst{\\ref{aff51}}$\n",
       "$\\and V.~Scottez\\inst{\\ref{aff70},\\ref{aff94}}$\n",
       "$\\and M.~Viel\\orcid{0000-0002-2642-5707}\\inst{\\ref{aff12},\\ref{aff13},\\ref{aff15},\\ref{aff14},\\ref{aff95}}}$\n",
       "$\\institute{Department of Astrophysics, University of Zurich, Winterthurerstrasse 190, 8057 Zurich, Switzerland\\label{aff1}$\n",
       "$\\and$\n",
       "$Institut de Recherche en Astrophysique et Planétologie (IRAP), Université de Toulouse, CNRS, UPS, CNES, 14 Av. Edouard Belin, 31400 Toulouse, France\\label{aff2}$\n",
       "$\\and$\n",
       "$Institute of Space Sciences (ICE, CSIC), Campus UAB, Carrer de Can Magrans, s/n, 08193 Barcelona, Spain\\label{aff3}$\n",
       "$\\and$\n",
       "$Institut de Ciencies de l'Espai (IEEC-CSIC), Campus UAB, Carrer de Can Magrans, s/n Cerdanyola del Vallés, 08193 Barcelona, Spain\\label{aff4}$\n",
       "$\\and$\n",
       "$Laboratoire Univers et Théorie, Observatoire de Paris, Université PSL, Université Paris Cité, CNRS, 92190 Meudon, France\\label{aff5}$\n",
       "$\\and$\n",
       "$Kobayashi-Maskawa Institute for the Origin of Particles and the Universe, Nagoya University, Chikusa-ku, Nagoya, 464-8602, Japan\\label{aff6}$\n",
       "$\\and$\n",
       "$Institute for Advanced Research, Nagoya University, Chikusa-ku, Nagoya, 464-8601, Japan\\label{aff7}$\n",
       "$\\and$\n",
       "$Institut d'Estudis Espacials de Catalunya (IEEC),  Edifici RDIT, Campus UPC, 08860 Castellnewcommandels, Barcelona, Spain\\label{aff8}$\n",
       "$\\and$\n",
       "$Université de Genève, Département de Physique Théorique and Centre for Astroparticle Physics, 24 quai Ernest-Ansermet, CH-1211 Genève 4, Switzerland\\label{aff9}$\n",
       "$\\and$\n",
       "$Institut für Theoretische Physik, University of Heidelberg, Philosophenweg 16, 69120 Heidelberg, Germany\\label{aff10}$\n",
       "$\\and$\n",
       "$INAF-Osservatorio Astronomico di Brera, Via Brera 28, 20122 Milano, Italy\\label{aff11}$\n",
       "$\\and$\n",
       "$IFPU, Institute for Fundamental Physics of the Universe, via Beirut 2, 34151 Trieste, Italy\\label{aff12}$\n",
       "$\\and$\n",
       "$INAF-Osservatorio Astronomico di Trieste, Via G. B. Tiepolo 11, 34143 Trieste, Italy\\label{aff13}$\n",
       "$\\and$\n",
       "$INFN, Sezione di Trieste, Via Valerio 2, 34127 Trieste TS, Italy\\label{aff14}$\n",
       "$\\and$\n",
       "$SISSA, International School for Advanced Studies, Via Bonomea 265, 34136 Trieste TS, Italy\\label{aff15}$\n",
       "$\\and$\n",
       "$Dipartimento di Fisica e Astronomia, Università di Bologna, Via Gobetti 93/2, 40129 Bologna, Italy\\label{aff16}$\n",
       "$\\and$\n",
       "$INAF-Osservatorio di Astrofisica e Scienza dello Spazio di Bologna, Via Piero Gobetti 93/3, 40129 Bologna, Italy\\label{aff17}$\n",
       "$\\and$\n",
       "$INFN-Sezione di Bologna, Viale Berti Pichat 6/2, 40127 Bologna, Italy\\label{aff18}$\n",
       "$\\and$\n",
       "$INAF-Osservatorio Astrofisico di Torino, Via Osservatorio 20, 10025 Pino Torinese (TO), Italy\\label{aff19}$\n",
       "$\\and$\n",
       "$Dipartimento di Fisica, Università di Genova, Via Dodecaneso 33, 16146, Genova, Italy\\label{aff20}$\n",
       "$\\and$\n",
       "$INFN-Sezione di Genova, Via Dodecaneso 33, 16146, Genova, Italy\\label{aff21}$\n",
       "$\\and$\n",
       "$Department of Physics \"E. Pancini\", University Federico II, Via Cinthia 6, 80126, Napoli, Italy\\label{aff22}$\n",
       "$\\and$\n",
       "$INAF-Osservatorio Astronomico di Capodimonte, Via Moiariello 16, 80131 Napoli, Italy\\label{aff23}$\n",
       "$\\and$\n",
       "$INFN section of Naples, Via Cinthia 6, 80126, Napoli, Italy\\label{aff24}$\n",
       "$\\and$\n",
       "$Instituto de Astrofísica e Ci\\^encias do Espaço, Universidade do Porto, CAUP, Rua das Estrelas, PT4150-762 Porto, Portugal\\label{aff25}$\n",
       "$\\and$\n",
       "$Faculdade de Ci\\^encias da Universidade do Porto, Rua do Campo de Alegre, 4150-007 Porto, Portugal\\label{aff26}$\n",
       "$\\and$\n",
       "$Aix-Marseille Université, CNRS, CNES, LAM, Marseille, France\\label{aff27}$\n",
       "$\\and$\n",
       "$Dipartimento di Fisica, Università degli Studi di Torino, Via P. Giuria 1, 10125 Torino, Italy\\label{aff28}$\n",
       "$\\and$\n",
       "$INFN-Sezione di Torino, Via P. Giuria 1, 10125 Torino, Italy\\label{aff29}$\n",
       "$\\and$\n",
       "$INAF-IASF Milano, Via Alfonso Corti 12, 20133 Milano, Italy\\label{aff30}$\n",
       "$\\and$\n",
       "$Centro de Investigaciones Energéticas, Medioambientales y Tecnológicas (CIEMAT), Avenida Complutense 40, 28040 Madrid, Spain\\label{aff31}$\n",
       "$\\and$\n",
       "$Port d'Informació Científica, Campus UAB, C. Albareda s/n, 08193 Bellaterra (Barcelona), Spain\\label{aff32}$\n",
       "$\\and$\n",
       "$Institute for Theoretical Particle Physics and Cosmology (TTK), RWTH Aachen University, 52056 Aachen, Germany\\label{aff33}$\n",
       "$\\and$\n",
       "$Institute of Cosmology and Gravitation, University of Portsmouth, Portsmouth PO1 3FX, UK\\label{aff34}$\n",
       "$\\and$\n",
       "$INAF-Osservatorio Astronomico di Roma, Via Frascati 33, 00078 Monteporzio Catone, Italy\\label{aff35}$\n",
       "$\\and$\n",
       "$Dipartimento di Fisica e Astronomia \"Augusto Righi\" - Alma Mater Studiorum Università di Bologna, Viale Berti Pichat 6/2, 40127 Bologna, Italy\\label{aff36}$\n",
       "$\\and$\n",
       "$Instituto de Astrofísica de Canarias, Calle Vía Láctea s/n, 38204, San Cristóbal de La Laguna, Tenerife, Spain\\label{aff37}$\n",
       "$\\and$\n",
       "$Institute for Astronomy, University of Edinburgh, Royal Observatory, Blackford Hill, Edinburgh EH9 3HJ, UK\\label{aff38}$\n",
       "$\\and$\n",
       "$European Space Agency/ESRIN, Largo Galileo Galilei 1, 00044 Frascati, Roma, Italy\\label{aff39}$\n",
       "$\\and$\n",
       "$ESAC/ESA, Camino Bajo del Castillo, s/n., Urb. Villafranca del Castillo, 28692 Villanueva de la Cañada, Madrid, Spain\\label{aff40}$\n",
       "$\\and$\n",
       "$Université Claude Bernard Lyon 1, CNRS/IN2P3, IP2I Lyon, UMR 5822, Villeurbanne, F-69100, France\\label{aff41}$\n",
       "$\\and$\n",
       "$Institut de Ciències del Cosmos (ICCUB), Universitat de Barcelona (IEEC-UB), Martí i Franquès 1, 08028 Barcelona, Spain\\label{aff42}$\n",
       "$\\and$\n",
       "$Institució Catalana de Recerca i Estudis Avançats (ICREA), Passeig de Lluís Companys 23, 08010 Barcelona, Spain\\label{aff43}$\n",
       "$\\and$\n",
       "$UCB Lyon 1, CNRS/IN2P3, IUF, IP2I Lyon, 4 rue Enrico Fermi, 69622 Villeurbanne, France\\label{aff44}$\n",
       "$\\and$\n",
       "$Department of Astronomy, University of Geneva, ch. d'Ecogia 16, 1290 Versoix, Switzerland\\label{aff45}$\n",
       "$\\and$\n",
       "$Jodrell Bank Centre for Astrophysics, Department of Physics and Astronomy, University of Manchester, Oxford Road, Manchester M13 9PL, UK\\label{aff46}$\n",
       "$\\and$\n",
       "$INFN-Padova, Via Marzolo 8, 35131 Padova, Italy\\label{aff47}$\n",
       "$\\and$\n",
       "$INAF-Istituto di Astrofisica e Planetologia Spaziali, via del Fosso del Cavaliere, 100, 00100 Roma, Italy\\label{aff48}$\n",
       "$\\and$\n",
       "$Université Paris-Saclay, Université Paris Cité, CEA, CNRS, AIM, 91191, Gif-sur-Yvette, France\\label{aff49}$\n",
       "$\\and$\n",
       "$INAF-Osservatorio Astronomico di Padova, Via dell'Osservatorio 5, 35122 Padova, Italy\\label{aff50}$\n",
       "$\\and$\n",
       "$Max Planck Institute for Extraterrestrial Physics, Giessenbachstr. 1, 85748 Garching, Germany\\label{aff51}$\n",
       "$\\and$\n",
       "$Universitäts-Sternwarte München, Fakultät für Physik, Ludwig-Maximilians-Universität München, Scheinerstrasse 1, 81679 München, Germany\\label{aff52}$\n",
       "$\\and$\n",
       "$Institute of Theoretical Astrophysics, University of Oslo, P.O. Box 1029 Blindern, 0315 Oslo, Norway\\label{aff53}$\n",
       "$\\and$\n",
       "$Jet Propulsion Laboratory, California Institute of Technology, 4800 Oak Grove Drive, Pasadena, CA, 91109, USA\\label{aff54}$\n",
       "$\\and$\n",
       "$Felix Hormuth Engineering, Goethestr. 17, 69181 Leimen, Germany\\label{aff55}$\n",
       "$\\and$\n",
       "$Technical University of Denmark, Elektrovej 327, 2800 Kgs. Lyngby, Denmark\\label{aff56}$\n",
       "$\\and$\n",
       "$Cosmic Dawn Center (DAWN), Denmark\\label{aff57}$\n",
       "$\\and$\n",
       "$Université Paris-Saclay, CNRS/IN2P3, IJCLab, 91405 Orsay, France\\label{aff58}$\n",
       "$\\and$\n",
       "$Max-Planck-Institut für Astronomie, Königstuhl 17, 69117 Heidelberg, Germany\\label{aff59}$\n",
       "$\\and$\n",
       "$NASA Goddard Space Flight Center, Greenbelt, MD 20771, USA\\label{aff60}$\n",
       "$\\and$\n",
       "$Department of Physics and Helsinki Institute of Physics, Gustaf Hällströmin katu 2, 00014 University of Helsinki, Finland\\label{aff61}$\n",
       "$\\and$\n",
       "$Department of Physics, P.O. Box 64, 00014 University of Helsinki, Finland\\label{aff62}$\n",
       "$\\and$\n",
       "$Helsinki Institute of Physics, Gustaf H{ä}llstr{ö}min katu 2, University of Helsinki, Helsinki, Finland\\label{aff63}$\n",
       "$\\and$\n",
       "$NOVA optical infrared instrumentation group at ASTRON, Oude Hoogeveensedijk 4, 7991PD, Dwingeloo, The Netherlands\\label{aff64}$\n",
       "$\\and$\n",
       "$Universität Bonn, Argelander-Institut für Astronomie, Auf dem Hügel 71, 53121 Bonn, Germany\\label{aff65}$\n",
       "$\\and$\n",
       "$INFN-Sezione di Roma, Piazzale Aldo Moro, 2 - c/o Dipartimento di Fisica, Edificio G. Marconi, 00185 Roma, Italy\\label{aff66}$\n",
       "$\\and$\n",
       "$Dipartimento di Fisica e Astronomia \"Augusto Righi\" - Alma Mater Studiorum Università di Bologna, via Piero Gobetti 93/2, 40129 Bologna, Italy\\label{aff67}$\n",
       "$\\and$\n",
       "$Department of Physics, Institute for Computational Cosmology, Durham University, South Road, DH1 3LE, UK\\label{aff68}$\n",
       "$\\and$\n",
       "$University of Applied Sciences and Arts of Northwestern Switzerland, School of Engineering, 5210 Windisch, Switzerland\\label{aff69}$\n",
       "$\\and$\n",
       "$Institut d'Astrophysique de Paris, 98bis Boulevard Arago, 75014, Paris, France\\label{aff70}$\n",
       "$\\and$\n",
       "$Institut d'Astrophysique de Paris, UMR 7095, CNRS, and Sorbonne Université, 98 bis boulevard Arago, 75014 Paris, France\\label{aff71}$\n",
       "$\\and$\n",
       "$Institute of Physics, Laboratory of Astrophysics, Ecole Polytechnique Fédérale de Lausanne (EPFL), Observatoire de Sauverny, 1290 Versoix, Switzerland\\label{aff72}$\n",
       "$\\and$\n",
       "$Institut de Física d'Altes Energies (IFAE), The Barcelona Institute of Science and Technology, Campus UAB, 08193 Bellaterra (Barcelona), Spain\\label{aff73}$\n",
       "$\\and$\n",
       "$European Space Agency/ESTEC, Keplerlaan 1, 2201 AZ Noordwijk, The Netherlands\\label{aff74}$\n",
       "$\\and$\n",
       "$DARK, Niels Bohr Institute, University of Copenhagen, Jagtvej 155, 2200 Copenhagen, Denmark\\label{aff75}$\n",
       "$\\and$\n",
       "$Space Science Data Center, Italian Space Agency, via del Politecnico snc, 00133 Roma, Italy\\label{aff76}$\n",
       "$\\and$\n",
       "$Centre National d'Etudes Spatiales -- Centre spatial de Toulouse, 18 avenue Edouard Belin, 31401 Toulouse Cedex 9, France\\label{aff77}$\n",
       "$\\and$\n",
       "$Institute of Space Science, Str. Atomistilor, nr. 409 M\\u{a}gurele, Ilfov, 077125, Romania\\label{aff78}$\n",
       "$\\and$\n",
       "$Dipartimento di Fisica e Astronomia \"G. Galilei\", Università di Padova, Via Marzolo 8, 35131 Padova, Italy\\label{aff79}$\n",
       "$\\and$\n",
       "$Université Paris Cité, CNRS, Astroparticule et Cosmologie, 75013 Paris, France\\label{aff80}$\n",
       "$\\and$\n",
       "$Université St Joseph; Faculty of Sciences, Beirut, Lebanon\\label{aff81}$\n",
       "$\\and$\n",
       "$Departamento de Física, FCFM, Universidad de Chile, Blanco Encalada 2008, Santiago, Chile\\label{aff82}$\n",
       "$\\and$\n",
       "$Universität Innsbruck, Institut für Astro- und Teilchenphysik, Technikerstr. 25/8, 6020 Innsbruck, Austria\\label{aff83}$\n",
       "$\\and$\n",
       "$Aix-Marseille Université, CNRS/IN2P3, CPPM, Marseille, France\\label{aff84}$\n",
       "$\\and$\n",
       "$Satlantis, University Science Park, Sede Bld 48940, Leioa-Bilbao, Spain\\label{aff85}$\n",
       "$\\and$\n",
       "$Departamento de Física, Faculdade de Ci\\^encias, Universidade de Lisboa, Edifício C8, Campo Grande, PT1749-016 Lisboa, Portugal\\label{aff86}$\n",
       "$\\and$\n",
       "$Instituto de Astrofísica e Ci\\^encias do Espaço, Faculdade de Ci\\^encias, Universidade de Lisboa, Tapada da Ajuda, 1349-018 Lisboa, Portugal\\label{aff87}$\n",
       "$\\and$\n",
       "$Universidad Politécnica de Cartagena, Departamento de Electrónica y Tecnología de Computadoras,  Plaza del Hospital 1, 30202 Cartagena, Spain\\label{aff88}$\n",
       "$\\and$\n",
       "$INFN-Bologna, Via Irnerio 46, 40126 Bologna, Italy\\label{aff89}$\n",
       "$\\and$\n",
       "$Infrared Processing and Analysis Center, California Institute of Technology, Pasadena, CA 91125, USA\\label{aff90}$\n",
       "$\\and$\n",
       "$INAF, Istituto di Radioastronomia, Via Piero Gobetti 101, 40129 Bologna, Italy\\label{aff91}$\n",
       "$\\and$\n",
       "$Kavli Institute for Cosmology Cambridge, Madingley Road, Cambridge, CB3 0HA, UK\\label{aff92}$\n",
       "$\\and$\n",
       "$Institute of Astronomy, University of Cambridge, Madingley Road, Cambridge CB3 0HA, UK\\label{aff93}$\n",
       "$\\and$\n",
       "$Junia, EPA department, 41 Bd Vauban, 59800 Lille, France\\label{aff94}$\n",
       "$\\and$\n",
       "$ICSC - Centro Nazionale di Ricerca in High Performance Computing, Big Data e Quantum Computing, Via Magnanelli 2, Bologna, Italy\\label{aff95}}$\n",
       "$\\abstract{$\n",
       "$Gravitational redshift and Doppler effects give rise to an antisymmetric component of the galaxy correlation function when cross-correlating two galaxy populations or two different tracers. In this paper, we assess the detectability of these effects in the \\Euclid spectroscopic galaxy survey. We model the impact of gravitational redshift on the observed redshift of galaxies in the Flagship mock catalogue using a Navarro--Frenk--White profile for the host haloes. We isolate these relativistic effects, largely subdominant in the standard analysis, by splitting the galaxy catalogue into two populations of faint and bright objects and estimating the dipole of their cross-correlation in four redshift bins.$\n",
       "$In the simulated catalogue, we detect the dipole signal on scales below30 h^{-1}{\\rm Mpc}, with detection significances of 4 \\sigma and 3 \\sigma in the two lowest redshift bins, respectively. At higher redshifts, the detection significance drops below 2 \\sigma. Overall, we estimate the total detection significance in the \\Euclid spectroscopic sample to be approximately 6 \\sigma. We find that on small scales, the major contribution to the signal comes from the nonlinear gravitational potential. Our study on the Flagship mock catalogue shows that this observable can be detected in Euclid Data Release 2 and beyond.$\n",
       "$    }$\n",
       "$    \\keywords{Cosmology: large-scale structure of Universe -- Gravitation -- Cosmology: theory}$\n",
       "$   \\titlerunning{\\Euclid: Relativistic effects in the dipole of the 2-point correlation function}$\n",
       "$   \\authorrunning{F. Lepori et al.}$\n",
       "$   \\maketitle$\n",
       "$\\n\\end{document}}\\end{eqnarray}}$\n",
       "$\\newcommand{\\eea}{\\end{eqnarray}}$\n",
       "$\\newcommand{\\ga}{\\gamma}$\n",
       "$\\newcommand{\\la}{\\lambda}$\n",
       "$\\newcommand\\fraC{#1}$\n",
       "$\\newcommand\\fra{#1}$\n",
       "$\\newcommand\\fraRem{#1}$</div>\n",
       "\n",
       "\n",
       "\n",
       "<div id=\"title\">\n",
       "\n",
       "# $\\Euclid$: Relativistic effects in the dipole of the 2-point correlation function$\\thanks{This paper is published on behalf of the Euclid Consortium.}$\n",
       "\n",
       "</div>\n",
       "<div id=\"comments\">\n",
       "\n",
       "[![arXiv](https://img.shields.io/badge/arXiv-2410.06268-b31b1b.svg)](https://arxiv.org/abs/2410.06268)<mark>Appeared on: 2024-10-10</mark> -  _21 pages, 11 figures, 1 appendix; submitted on behalf of the Euclid Collaboration_\n",
       "\n",
       "</div>\n",
       "<div id=\"authors\">\n",
       "\n",
       "F. Lepori, et al. -- incl., <mark>K. Jahnke</mark>\n",
       "\n",
       "</div>\n",
       "<div id=\"abstract\">\n",
       "\n",
       "**Abstract:** Gravitational redshift and Doppler effects give rise to an antisymmetric component of the galaxy correlation function when cross-correlating two galaxy populations or two different tracers. In this paper, we assess the detectability of these effects in the $\\Euclid$ spectroscopic galaxy survey. We model the impact of gravitational redshift on the observed redshift of galaxies in the Flagship mock catalogue using a Navarro--Frenk--White profile for the host haloes. We isolate these relativistic effects, largely subdominant in the standard analysis, by splitting the galaxy catalogue into two populations of faint and bright objects and estimating the dipole of their cross-correlation in four redshift bins.In the simulated catalogue, we detect the dipole signal on scales below $ 30 h^{-1}{\\rm Mpc}$ , with detection significances of $4 \\sigma$ and $3 \\sigma$ in the two lowest redshift bins, respectively. At higher redshifts, the detection significance drops below $2 \\sigma$ . Overall, we estimate the total detection significance in the $\\Euclid$ spectroscopic sample to be approximately $6 \\sigma$ . We find that on small scales, the major contribution to the signal comes from the nonlinear gravitational potential. Our study on the Flagship mock catalogue shows that this observable can be detected in Euclid Data Release 2 and beyond.\n",
       "\n",
       "</div>\n",
       "\n",
       "<div id=\"div_fig1\">\n",
       "\n",
       "<img src=\"tmp_2410.06268/./Figures/magn-bias-explain-dens.png\" alt=\"Fig6\" width=\"100%\"/>\n",
       "\n",
       "**Figure 6. -** Correlation between  $F_{\\mathrm{H}$\\al$pha}$ and $F_{Y}$ for the redshift bin centred at $\\bar{z} = 1$ of the Flagship spectroscopic mock catalogue. A continuous line denotes the flux limit of the Euclid Wide Survey, while a dashed line highlights a \\YE-band flux cut, splitting the sample in two equally-populated bright and faint populations. The reference fluxes are $F_{\\mathrm{H}$\\al$pha 0} = 1 {\\rm erg} {\\rm cm}^{-2} {\\rm s}^{-1}$ and $F_{Y0} \\equiv 1 {\\rm erg} {\\rm cm}^{-2} {\\rm s}^{-1} {\\rm Hz}^{-1}$. The colour bar highlights the density of objects (in arbitrary units).  (*fig:magn-flux*)\n",
       "\n",
       "</div>\n",
       "<div id=\"div_fig2\">\n",
       "\n",
       "<img src=\"tmp_2410.06268/./Figures/cov_figure.png\" alt=\"Fig2\" width=\"100%\"/>\n",
       "\n",
       "**Figure 2. -** \n",
       "    Theory uncertainty, given by the square root of the diagonal elements of the theory covariance, estimated for the redshift bin $\\bar{z} = 1$, with specifics from \\cref{tab:spec}, split `$90\\%$ faint, $10\\%$ bright'. We have assumed a bin size of $\\Delta d = 2 h^{-1} {\\rm Mpc}$. The top panel shows the different contributions to the uncertainty,\n",
       "    coming from the pure shot noise term (black dotted line), the purely sample variance term (yellow dashed line), and the cross-term (red dot-dashed line).\n",
       "    The sum of all contributions is shown as solid blue line. The bottom panel shows the theory uncertainty,\n",
       "    including all terms, for different sky coverages\n",
       "    corresponding to the planned data releases of \\Euclid and the Flagship mock used in this work.\n",
       "     (*fig:theory-cov*)\n",
       "\n",
       "</div>\n",
       "<div id=\"div_fig3\">\n",
       "\n",
       "<img src=\"tmp_2410.06268/./Figures/SN_linear.png\" alt=\"Fig5\" width=\"100%\"/>\n",
       "\n",
       "**Figure 5. -** S/N of the dipole on linear scales ($\\geq20 h^{-1} \\mathrm{Mpc}$) for a range of population splits. Here the model prediction is given by linear theory. (*fig:sn:linear*)\n",
       "\n",
       "</div><div id=\"qrcode\"><img src=https://api.qrserver.com/v1/create-qr-code/?size=100x100&data=\"https://arxiv.org/abs/2410.06268\"></div>"
      ],
      "text/plain": [
       "<IPython.core.display.Markdown object>"
      ]
     },
     "metadata": {},
     "output_type": "display_data"
    }
   ],
   "source": [
    "[display(Markdown(k[1])) for k in documents];"
   ]
  },
  {
   "cell_type": "markdown",
   "id": "873873a4",
   "metadata": {
    "papermill": {
     "duration": 0.007008,
     "end_time": "2024-10-10T04:12:38.614899",
     "exception": false,
     "start_time": "2024-10-10T04:12:38.607891",
     "status": "completed"
    },
    "tags": []
   },
   "source": [
    "# Create HTML index"
   ]
  },
  {
   "cell_type": "code",
   "execution_count": 10,
   "id": "cf665672",
   "metadata": {
    "execution": {
     "iopub.execute_input": "2024-10-10T04:12:38.629815Z",
     "iopub.status.busy": "2024-10-10T04:12:38.629385Z",
     "iopub.status.idle": "2024-10-10T04:12:38.637337Z",
     "shell.execute_reply": "2024-10-10T04:12:38.636832Z"
    },
    "papermill": {
     "duration": 0.016377,
     "end_time": "2024-10-10T04:12:38.638246",
     "exception": false,
     "start_time": "2024-10-10T04:12:38.621869",
     "status": "completed"
    },
    "tags": []
   },
   "outputs": [
    {
     "name": "stdout",
     "output_type": "stream",
     "text": [
      "214  publications files modified in the last 7 days.\n"
     ]
    }
   ],
   "source": [
    "from datetime import datetime, timedelta, timezone\n",
    "from glob import glob\n",
    "import os\n",
    "\n",
    "files = glob('_build/html/*.md')\n",
    "days = 7\n",
    "now = datetime.today()\n",
    "res = []\n",
    "for fk in files:\n",
    "    stat_result = os.stat(fk).st_ctime\n",
    "    modified = datetime.fromtimestamp(stat_result, tz=timezone.utc).replace(tzinfo=None)\n",
    "    delta = now.today() - modified\n",
    "    if delta <= timedelta(days=days):\n",
    "        res.append((delta.seconds, fk))\n",
    "res = [k[1] for k in reversed(sorted(res, key=lambda x:x[1]))]\n",
    "npub = len(res)\n",
    "print(len(res), f\" publications files modified in the last {days:d} days.\")\n",
    "# [ print('\\t', k) for k in res ];"
   ]
  },
  {
   "cell_type": "code",
   "execution_count": 11,
   "id": "015de740",
   "metadata": {
    "execution": {
     "iopub.execute_input": "2024-10-10T04:12:38.653814Z",
     "iopub.status.busy": "2024-10-10T04:12:38.653218Z",
     "iopub.status.idle": "2024-10-10T04:12:38.668512Z",
     "shell.execute_reply": "2024-10-10T04:12:38.667997Z"
    },
    "papermill": {
     "duration": 0.023896,
     "end_time": "2024-10-10T04:12:38.669444",
     "exception": false,
     "start_time": "2024-10-10T04:12:38.645548",
     "status": "completed"
    },
    "tags": []
   },
   "outputs": [
    {
     "name": "stdout",
     "output_type": "stream",
     "text": [
      "9  publications in the last 7 days.\n"
     ]
    }
   ],
   "source": [
    "import datetime\n",
    "from glob import glob\n",
    "\n",
    "def get_last_n_days(lst, days=1):\n",
    "    \"\"\" Get the documents from the last n days \"\"\"\n",
    "    sorted_lst = sorted(lst, key=lambda x: x[1], reverse=True)\n",
    "    for fname, date in sorted_lst:\n",
    "        if date >= str(datetime.date.today() - datetime.timedelta(days=days)):\n",
    "            yield fname\n",
    "\n",
    "def extract_appearance_dates(lst_file):\n",
    "    dates = []\n",
    "\n",
    "    def get_date(line):\n",
    "        return line\\\n",
    "            .split('Appeared on:')[-1]\\\n",
    "            .split('</mark>')[0].strip()\n",
    "\n",
    "    for fname in lst:\n",
    "        with open(fname, 'r') as f:\n",
    "            found_date = False\n",
    "            for line in f:\n",
    "                if not found_date:\n",
    "                    if \"Appeared on\" in line:\n",
    "                        found_date = True\n",
    "                        dates.append((fname, get_date(line)))\n",
    "                else:\n",
    "                    break\n",
    "    return dates\n",
    "\n",
    "from glob import glob\n",
    "lst = glob('_build/html/*md')\n",
    "days = 7\n",
    "dates = extract_appearance_dates(lst)\n",
    "res = list(get_last_n_days(dates, days))\n",
    "npub = len(res)\n",
    "print(len(res), f\" publications in the last {days:d} days.\")"
   ]
  },
  {
   "cell_type": "code",
   "execution_count": 12,
   "id": "52ca0208",
   "metadata": {
    "execution": {
     "iopub.execute_input": "2024-10-10T04:12:38.685084Z",
     "iopub.status.busy": "2024-10-10T04:12:38.684657Z",
     "iopub.status.idle": "2024-10-10T04:12:38.689404Z",
     "shell.execute_reply": "2024-10-10T04:12:38.688897Z"
    },
    "papermill": {
     "duration": 0.013569,
     "end_time": "2024-10-10T04:12:38.690369",
     "exception": false,
     "start_time": "2024-10-10T04:12:38.676800",
     "status": "completed"
    },
    "scrolled": false,
    "tags": []
   },
   "outputs": [],
   "source": [
    "def create_carousel(npub=4):\n",
    "    \"\"\" Generate the HTML code for a carousel with `npub` slides \"\"\"\n",
    "    carousel = [\"\"\"  <div class=\"carousel\" \"\"\",\n",
    "                \"\"\"       data-flickity='{ \"autoPlay\": 10000, \"adaptiveHeight\": true, \"resize\": true, \"wrapAround\": true, \"pauseAutoPlayOnHover\": true, \"groupCells\": 1 }' id=\"asyncTypeset\">\"\"\"\n",
    "                ]\n",
    "    \n",
    "    item_str = \"\"\"    <div class=\"carousel-cell\"> <div id=\"slide{k}\" class=\"md_view\">Content {k}</div> </div>\"\"\"\n",
    "    for k in range(1, npub + 1):\n",
    "        carousel.append(item_str.format(k=k))\n",
    "    carousel.append(\"  </div>\")\n",
    "    return '\\n'.join(carousel)\n",
    "\n",
    "def create_grid(npub=4):\n",
    "    \"\"\" Generate the HTML code for a flat grid with `npub` slides \"\"\"\n",
    "    grid = [\"\"\"  <div class=\"grid\"> \"\"\",\n",
    "                ]\n",
    "    \n",
    "    item_str = \"\"\"    <div class=\"grid-item\"> <div id=\"slide{k}\" class=\"md_view\">Content {k}</div> </div>\"\"\"\n",
    "    for k in range(1, npub + 1):\n",
    "        grid.append(item_str.format(k=k))\n",
    "    grid.append(\"  </div>\")\n",
    "    return '\\n'.join(grid)"
   ]
  },
  {
   "cell_type": "code",
   "execution_count": 13,
   "id": "a6eac5b6",
   "metadata": {
    "execution": {
     "iopub.execute_input": "2024-10-10T04:12:38.705698Z",
     "iopub.status.busy": "2024-10-10T04:12:38.705297Z",
     "iopub.status.idle": "2024-10-10T04:12:38.710300Z",
     "shell.execute_reply": "2024-10-10T04:12:38.709789Z"
    },
    "papermill": {
     "duration": 0.013693,
     "end_time": "2024-10-10T04:12:38.711306",
     "exception": false,
     "start_time": "2024-10-10T04:12:38.697613",
     "status": "completed"
    },
    "scrolled": false,
    "tags": []
   },
   "outputs": [],
   "source": [
    "carousel = create_carousel(npub)\n",
    "docs = ', '.join(['\"{0:s}\"'.format(k.split('/')[-1]) for k in res])\n",
    "slides = ', '.join([f'\"slide{k}\"' for k in range(1, npub + 1)])\n",
    "\n",
    "with open(\"daily_template.html\", \"r\") as tpl:\n",
    "    page = tpl.read()\n",
    "    page = page.replace(\"{%-- carousel:s --%}\", carousel)\\\n",
    "               .replace(\"{%-- suptitle:s --%}\",  \"7-day archives\" )\\\n",
    "               .replace(\"{%-- docs:s --%}\", docs)\\\n",
    "               .replace(\"{%-- slides:s --%}\", slides)\n",
    "    \n",
    "with open(\"_build/html/index_7days.html\", 'w') as fout:\n",
    "    fout.write(page)"
   ]
  },
  {
   "cell_type": "code",
   "execution_count": 14,
   "id": "adc1a1ec",
   "metadata": {
    "execution": {
     "iopub.execute_input": "2024-10-10T04:12:38.726657Z",
     "iopub.status.busy": "2024-10-10T04:12:38.726258Z",
     "iopub.status.idle": "2024-10-10T04:12:38.732351Z",
     "shell.execute_reply": "2024-10-10T04:12:38.731845Z"
    },
    "papermill": {
     "duration": 0.01466,
     "end_time": "2024-10-10T04:12:38.733296",
     "exception": false,
     "start_time": "2024-10-10T04:12:38.718636",
     "status": "completed"
    },
    "tags": []
   },
   "outputs": [
    {
     "name": "stdout",
     "output_type": "stream",
     "text": [
      "6  publications in the last day.\n"
     ]
    }
   ],
   "source": [
    "# redo for today\n",
    "days = 1\n",
    "res = list(get_last_n_days(dates, days))\n",
    "npub = len(res)\n",
    "print(len(res), f\" publications in the last day.\")\n",
    "\n",
    "carousel = create_carousel(npub)\n",
    "docs = ', '.join(['\"{0:s}\"'.format(k.split('/')[-1]) for k in res])\n",
    "slides = ', '.join([f'\"slide{k}\"' for k in range(1, npub + 1)])\n",
    "\n",
    "with open(\"daily_template.html\", \"r\") as tpl:\n",
    "    page = tpl.read()\n",
    "    page = page.replace(\"{%-- carousel:s --%}\", carousel)\\\n",
    "               .replace(\"{%-- suptitle:s --%}\",  \"Daily\" )\\\n",
    "               .replace(\"{%-- docs:s --%}\", docs)\\\n",
    "               .replace(\"{%-- slides:s --%}\", slides)\n",
    "    \n",
    "# print(carousel, docs, slides)\n",
    "# print(page)\n",
    "with open(\"_build/html/index_daily.html\", 'w') as fout:\n",
    "    fout.write(page)"
   ]
  },
  {
   "cell_type": "code",
   "execution_count": 15,
   "id": "00eece82",
   "metadata": {
    "execution": {
     "iopub.execute_input": "2024-10-10T04:12:38.748973Z",
     "iopub.status.busy": "2024-10-10T04:12:38.748552Z",
     "iopub.status.idle": "2024-10-10T04:12:38.754924Z",
     "shell.execute_reply": "2024-10-10T04:12:38.754368Z"
    },
    "papermill": {
     "duration": 0.015226,
     "end_time": "2024-10-10T04:12:38.755931",
     "exception": false,
     "start_time": "2024-10-10T04:12:38.740705",
     "status": "completed"
    },
    "scrolled": false,
    "tags": []
   },
   "outputs": [
    {
     "name": "stdout",
     "output_type": "stream",
     "text": [
      "6  6 publications selected.\n"
     ]
    }
   ],
   "source": [
    "# Create the flat grid of the last N papers (fixed number regardless of dates)\n",
    "from itertools import islice \n",
    "\n",
    "npub = 6\n",
    "res = [k[0] for k in (islice(reversed(sorted(dates, key=lambda x: x[1])), 6))]\n",
    "print(len(res), f\" {npub} publications selected.\")\n",
    "\n",
    "grid = create_grid(npub)\n",
    "docs = ', '.join(['\"{0:s}\"'.format(k.split('/')[-1]) for k in res])\n",
    "slides = ', '.join([f'\"slide{k}\"' for k in range(1, npub + 1)])\n",
    "\n",
    "with open(\"grid_template.html\", \"r\") as tpl:\n",
    "    page = tpl.read()\n",
    "    page = page.replace(\"{%-- grid-content:s --%}\", grid)\\\n",
    "               .replace(\"{%-- suptitle:s --%}\",  f\"Last {npub:,d} papers\" )\\\n",
    "               .replace(\"{%-- docs:s --%}\", docs)\\\n",
    "               .replace(\"{%-- slides:s --%}\", slides)\n",
    "    \n",
    "# print(grid, docs, slides)\n",
    "# print(page)\n",
    "with open(\"_build/html/index_npub_grid.html\", 'w') as fout:\n",
    "    fout.write(page)"
   ]
  }
 ],
 "metadata": {
  "kernelspec": {
   "display_name": "Python 3 (ipykernel)",
   "language": "python",
   "name": "python3"
  },
  "language_info": {
   "codemirror_mode": {
    "name": "ipython",
    "version": 3
   },
   "file_extension": ".py",
   "mimetype": "text/x-python",
   "name": "python",
   "nbconvert_exporter": "python",
   "pygments_lexer": "ipython3",
   "version": "3.9.20"
  },
  "papermill": {
   "default_parameters": {},
   "duration": 123.239639,
   "end_time": "2024-10-10T04:12:38.979296",
   "environment_variables": {},
   "exception": null,
   "input_path": "MPIA daily digest.ipynb",
   "output_path": "log.ipynb",
   "parameters": {},
   "start_time": "2024-10-10T04:10:35.739657",
   "version": "2.6.0"
  },
  "vscode": {
   "interpreter": {
    "hash": "aee8b7b246df8f9039afb4144a1f6fd8d2ca17a180786b69acc140d282b71a49"
   }
  },
  "widgets": {
   "application/vnd.jupyter.widget-state+json": {
    "state": {
     "1b53bd59d27e4c25a152d52a8d9da654": {
      "model_module": "@jupyter-widgets/controls",
      "model_module_version": "2.0.0",
      "model_name": "HTMLStyleModel",
      "state": {
       "_model_module": "@jupyter-widgets/controls",
       "_model_module_version": "2.0.0",
       "_model_name": "HTMLStyleModel",
       "_view_count": null,
       "_view_module": "@jupyter-widgets/base",
       "_view_module_version": "2.0.0",
       "_view_name": "StyleView",
       "background": null,
       "description_width": "",
       "font_size": null,
       "text_color": null
      }
     },
     "3ef52b02e3004a039aac4ea1c52f6805": {
      "model_module": "@jupyter-widgets/controls",
      "model_module_version": "2.0.0",
      "model_name": "HTMLModel",
      "state": {
       "_dom_classes": [],
       "_model_module": "@jupyter-widgets/controls",
       "_model_module_version": "2.0.0",
       "_model_name": "HTMLModel",
       "_view_count": null,
       "_view_module": "@jupyter-widgets/controls",
       "_view_module_version": "2.0.0",
       "_view_name": "HTMLView",
       "description": "",
       "description_allow_html": false,
       "layout": "IPY_MODEL_5472209e76d34045b6844b7e14eceaac",
       "placeholder": "​",
       "style": "IPY_MODEL_1b53bd59d27e4c25a152d52a8d9da654",
       "tabbable": null,
       "tooltip": null,
       "value": " 8/8 [01:43&lt;00:00,  7.38s/it]"
      }
     },
     "4fa4351ac76b4a0fb6052bf10c48c5a9": {
      "model_module": "@jupyter-widgets/base",
      "model_module_version": "2.0.0",
      "model_name": "LayoutModel",
      "state": {
       "_model_module": "@jupyter-widgets/base",
       "_model_module_version": "2.0.0",
       "_model_name": "LayoutModel",
       "_view_count": null,
       "_view_module": "@jupyter-widgets/base",
       "_view_module_version": "2.0.0",
       "_view_name": "LayoutView",
       "align_content": null,
       "align_items": null,
       "align_self": null,
       "border_bottom": null,
       "border_left": null,
       "border_right": null,
       "border_top": null,
       "bottom": null,
       "display": null,
       "flex": null,
       "flex_flow": null,
       "grid_area": null,
       "grid_auto_columns": null,
       "grid_auto_flow": null,
       "grid_auto_rows": null,
       "grid_column": null,
       "grid_gap": null,
       "grid_row": null,
       "grid_template_areas": null,
       "grid_template_columns": null,
       "grid_template_rows": null,
       "height": null,
       "justify_content": null,
       "justify_items": null,
       "left": null,
       "margin": null,
       "max_height": null,
       "max_width": null,
       "min_height": null,
       "min_width": null,
       "object_fit": null,
       "object_position": null,
       "order": null,
       "overflow": null,
       "padding": null,
       "right": null,
       "top": null,
       "visibility": null,
       "width": null
      }
     },
     "5472209e76d34045b6844b7e14eceaac": {
      "model_module": "@jupyter-widgets/base",
      "model_module_version": "2.0.0",
      "model_name": "LayoutModel",
      "state": {
       "_model_module": "@jupyter-widgets/base",
       "_model_module_version": "2.0.0",
       "_model_name": "LayoutModel",
       "_view_count": null,
       "_view_module": "@jupyter-widgets/base",
       "_view_module_version": "2.0.0",
       "_view_name": "LayoutView",
       "align_content": null,
       "align_items": null,
       "align_self": null,
       "border_bottom": null,
       "border_left": null,
       "border_right": null,
       "border_top": null,
       "bottom": null,
       "display": null,
       "flex": null,
       "flex_flow": null,
       "grid_area": null,
       "grid_auto_columns": null,
       "grid_auto_flow": null,
       "grid_auto_rows": null,
       "grid_column": null,
       "grid_gap": null,
       "grid_row": null,
       "grid_template_areas": null,
       "grid_template_columns": null,
       "grid_template_rows": null,
       "height": null,
       "justify_content": null,
       "justify_items": null,
       "left": null,
       "margin": null,
       "max_height": null,
       "max_width": null,
       "min_height": null,
       "min_width": null,
       "object_fit": null,
       "object_position": null,
       "order": null,
       "overflow": null,
       "padding": null,
       "right": null,
       "top": null,
       "visibility": null,
       "width": null
      }
     },
     "7c530e68aef74c279595b8b7418f5699": {
      "model_module": "@jupyter-widgets/controls",
      "model_module_version": "2.0.0",
      "model_name": "HTMLModel",
      "state": {
       "_dom_classes": [],
       "_model_module": "@jupyter-widgets/controls",
       "_model_module_version": "2.0.0",
       "_model_name": "HTMLModel",
       "_view_count": null,
       "_view_module": "@jupyter-widgets/controls",
       "_view_module_version": "2.0.0",
       "_view_name": "HTMLView",
       "description": "",
       "description_allow_html": false,
       "layout": "IPY_MODEL_4fa4351ac76b4a0fb6052bf10c48c5a9",
       "placeholder": "​",
       "style": "IPY_MODEL_8cd3f405a08045a0b88e12708e0c4500",
       "tabbable": null,
       "tooltip": null,
       "value": "100%"
      }
     },
     "850fa94229a5487187f4ea95125eb026": {
      "model_module": "@jupyter-widgets/controls",
      "model_module_version": "2.0.0",
      "model_name": "ProgressStyleModel",
      "state": {
       "_model_module": "@jupyter-widgets/controls",
       "_model_module_version": "2.0.0",
       "_model_name": "ProgressStyleModel",
       "_view_count": null,
       "_view_module": "@jupyter-widgets/base",
       "_view_module_version": "2.0.0",
       "_view_name": "StyleView",
       "bar_color": null,
       "description_width": ""
      }
     },
     "8cd3f405a08045a0b88e12708e0c4500": {
      "model_module": "@jupyter-widgets/controls",
      "model_module_version": "2.0.0",
      "model_name": "HTMLStyleModel",
      "state": {
       "_model_module": "@jupyter-widgets/controls",
       "_model_module_version": "2.0.0",
       "_model_name": "HTMLStyleModel",
       "_view_count": null,
       "_view_module": "@jupyter-widgets/base",
       "_view_module_version": "2.0.0",
       "_view_name": "StyleView",
       "background": null,
       "description_width": "",
       "font_size": null,
       "text_color": null
      }
     },
     "9694842cebc24bcbbb299e48b8be7b66": {
      "model_module": "@jupyter-widgets/controls",
      "model_module_version": "2.0.0",
      "model_name": "HBoxModel",
      "state": {
       "_dom_classes": [],
       "_model_module": "@jupyter-widgets/controls",
       "_model_module_version": "2.0.0",
       "_model_name": "HBoxModel",
       "_view_count": null,
       "_view_module": "@jupyter-widgets/controls",
       "_view_module_version": "2.0.0",
       "_view_name": "HBoxView",
       "box_style": "",
       "children": [
        "IPY_MODEL_7c530e68aef74c279595b8b7418f5699",
        "IPY_MODEL_99bade2afbe94356ae12a72130a75a8d",
        "IPY_MODEL_3ef52b02e3004a039aac4ea1c52f6805"
       ],
       "layout": "IPY_MODEL_bbbb9cc3eb194a0cba011de86d2ecafa",
       "tabbable": null,
       "tooltip": null
      }
     },
     "99bade2afbe94356ae12a72130a75a8d": {
      "model_module": "@jupyter-widgets/controls",
      "model_module_version": "2.0.0",
      "model_name": "FloatProgressModel",
      "state": {
       "_dom_classes": [],
       "_model_module": "@jupyter-widgets/controls",
       "_model_module_version": "2.0.0",
       "_model_name": "FloatProgressModel",
       "_view_count": null,
       "_view_module": "@jupyter-widgets/controls",
       "_view_module_version": "2.0.0",
       "_view_name": "ProgressView",
       "bar_style": "success",
       "description": "",
       "description_allow_html": false,
       "layout": "IPY_MODEL_e592a41563b140ae8cc0954f38040820",
       "max": 8.0,
       "min": 0.0,
       "orientation": "horizontal",
       "style": "IPY_MODEL_850fa94229a5487187f4ea95125eb026",
       "tabbable": null,
       "tooltip": null,
       "value": 8.0
      }
     },
     "bbbb9cc3eb194a0cba011de86d2ecafa": {
      "model_module": "@jupyter-widgets/base",
      "model_module_version": "2.0.0",
      "model_name": "LayoutModel",
      "state": {
       "_model_module": "@jupyter-widgets/base",
       "_model_module_version": "2.0.0",
       "_model_name": "LayoutModel",
       "_view_count": null,
       "_view_module": "@jupyter-widgets/base",
       "_view_module_version": "2.0.0",
       "_view_name": "LayoutView",
       "align_content": null,
       "align_items": null,
       "align_self": null,
       "border_bottom": null,
       "border_left": null,
       "border_right": null,
       "border_top": null,
       "bottom": null,
       "display": null,
       "flex": null,
       "flex_flow": null,
       "grid_area": null,
       "grid_auto_columns": null,
       "grid_auto_flow": null,
       "grid_auto_rows": null,
       "grid_column": null,
       "grid_gap": null,
       "grid_row": null,
       "grid_template_areas": null,
       "grid_template_columns": null,
       "grid_template_rows": null,
       "height": null,
       "justify_content": null,
       "justify_items": null,
       "left": null,
       "margin": null,
       "max_height": null,
       "max_width": null,
       "min_height": null,
       "min_width": null,
       "object_fit": null,
       "object_position": null,
       "order": null,
       "overflow": null,
       "padding": null,
       "right": null,
       "top": null,
       "visibility": null,
       "width": null
      }
     },
     "e592a41563b140ae8cc0954f38040820": {
      "model_module": "@jupyter-widgets/base",
      "model_module_version": "2.0.0",
      "model_name": "LayoutModel",
      "state": {
       "_model_module": "@jupyter-widgets/base",
       "_model_module_version": "2.0.0",
       "_model_name": "LayoutModel",
       "_view_count": null,
       "_view_module": "@jupyter-widgets/base",
       "_view_module_version": "2.0.0",
       "_view_name": "LayoutView",
       "align_content": null,
       "align_items": null,
       "align_self": null,
       "border_bottom": null,
       "border_left": null,
       "border_right": null,
       "border_top": null,
       "bottom": null,
       "display": null,
       "flex": null,
       "flex_flow": null,
       "grid_area": null,
       "grid_auto_columns": null,
       "grid_auto_flow": null,
       "grid_auto_rows": null,
       "grid_column": null,
       "grid_gap": null,
       "grid_row": null,
       "grid_template_areas": null,
       "grid_template_columns": null,
       "grid_template_rows": null,
       "height": null,
       "justify_content": null,
       "justify_items": null,
       "left": null,
       "margin": null,
       "max_height": null,
       "max_width": null,
       "min_height": null,
       "min_width": null,
       "object_fit": null,
       "object_position": null,
       "order": null,
       "overflow": null,
       "padding": null,
       "right": null,
       "top": null,
       "visibility": null,
       "width": null
      }
     }
    },
    "version_major": 2,
    "version_minor": 0
   }
  }
 },
 "nbformat": 4,
 "nbformat_minor": 5
}