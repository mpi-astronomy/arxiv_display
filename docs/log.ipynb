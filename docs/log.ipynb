{
 "cells": [
  {
   "cell_type": "markdown",
   "id": "92bcb855",
   "metadata": {
    "papermill": {
     "duration": 0.005997,
     "end_time": "2022-09-23T05:15:55.180144",
     "exception": false,
     "start_time": "2022-09-23T05:15:55.174147",
     "status": "completed"
    },
    "tags": []
   },
   "source": [
    "# MPIA Arxiv on Deck 2\n",
    "\n",
    "Contains the steps to produce the paper extractions."
   ]
  },
  {
   "cell_type": "code",
   "execution_count": 1,
   "id": "3a0d6e11",
   "metadata": {
    "execution": {
     "iopub.execute_input": "2022-09-23T05:15:55.191048Z",
     "iopub.status.busy": "2022-09-23T05:15:55.190198Z",
     "iopub.status.idle": "2022-09-23T05:15:55.365987Z",
     "shell.execute_reply": "2022-09-23T05:15:55.365250Z"
    },
    "papermill": {
     "duration": 0.183389,
     "end_time": "2022-09-23T05:15:55.368131",
     "exception": false,
     "start_time": "2022-09-23T05:15:55.184742",
     "status": "completed"
    },
    "tags": []
   },
   "outputs": [],
   "source": [
    "# Imports\n",
    "import os\n",
    "from IPython.display import Markdown, display\n",
    "from tqdm.notebook import tqdm\n",
    "import warnings\n",
    "from PIL import Image \n",
    "\n",
    "# requires arxiv_on_deck_2\n",
    "\n",
    "from arxiv_on_deck_2.arxiv2 import (get_new_papers, \n",
    "                                    get_paper_from_identifier,\n",
    "                                    retrieve_document_source, \n",
    "                                    get_markdown_badge)\n",
    "from arxiv_on_deck_2 import (latex, \n",
    "                             mpia,\n",
    "                             highlight_authors_in_list)\n",
    "\n",
    "# Sometimes images are really big\n",
    "Image.MAX_IMAGE_PIXELS = 1000000000 "
   ]
  },
  {
   "cell_type": "code",
   "execution_count": 2,
   "id": "22aa9d44",
   "metadata": {
    "execution": {
     "iopub.execute_input": "2022-09-23T05:15:55.378373Z",
     "iopub.status.busy": "2022-09-23T05:15:55.377745Z",
     "iopub.status.idle": "2022-09-23T05:15:55.384340Z",
     "shell.execute_reply": "2022-09-23T05:15:55.383719Z"
    },
    "papermill": {
     "duration": 0.013502,
     "end_time": "2022-09-23T05:15:55.385916",
     "exception": false,
     "start_time": "2022-09-23T05:15:55.372414",
     "status": "completed"
    },
    "tags": []
   },
   "outputs": [],
   "source": [
    "# Some useful definitions.\n",
    "\n",
    "class AffiliationWarning(UserWarning):\n",
    "    pass\n",
    "\n",
    "class AffiliationError(RuntimeError):\n",
    "    pass\n",
    "\n",
    "def validation(source: str):\n",
    "    \"\"\"Raises error paper during parsing of source file\n",
    "    \n",
    "    Allows checks before parsing TeX code.\n",
    "    \n",
    "    Raises AffiliationWarning\n",
    "    \"\"\"\n",
    "    check = mpia.affiliation_verifications(source, verbose=True)\n",
    "    if check is not True:\n",
    "        raise AffiliationError(\"mpia.affiliation_verifications: \" + check)\n",
    "\n",
    "        \n",
    "warnings.simplefilter('always', AffiliationWarning)"
   ]
  },
  {
   "cell_type": "code",
   "execution_count": 3,
   "id": "14622700",
   "metadata": {
    "execution": {
     "iopub.execute_input": "2022-09-23T05:15:55.396881Z",
     "iopub.status.busy": "2022-09-23T05:15:55.396251Z",
     "iopub.status.idle": "2022-09-23T05:15:55.400120Z",
     "shell.execute_reply": "2022-09-23T05:15:55.399551Z"
    },
    "papermill": {
     "duration": 0.012002,
     "end_time": "2022-09-23T05:15:55.401772",
     "exception": false,
     "start_time": "2022-09-23T05:15:55.389770",
     "status": "completed"
    },
    "tags": []
   },
   "outputs": [],
   "source": [
    "# additional CSS to consider. \n",
    "# TODO: Current into each exported file. \n",
    "#       This should be set once into the webpages directly.\n",
    "#       With only the class/id definitions in the .md files.\n",
    "\n",
    "debug_html = \"\"\"\n",
    "<style>\n",
    "#wrap{ overflow:auto; }\n",
    "#fig1{ background:yellow; width:100%; float:left; padding:5px;  }\n",
    "#fig2{ background:red; width:50%; float:left; clear:left; padding:5px;  }\n",
    "#fig3{ background:green; width:50%; float:left; padding:5px;   }\n",
    ".macros{ background:yellow; visibility:visible;}\n",
    "h1 {margin: 0 0 0 0;}\n",
    "mark {background-color:#fff3b6;}\n",
    "img {object-fit:contain; max-height:250px; display:inline-block; text-align: center;}\n",
    "</style>\n",
    "\"\"\" \n",
    "html = \"\"\"\n",
    "<style>\n",
    "#wrap{ overflow:auto; }\n",
    "#fig1{ width:100%; float:left; padding: 5px;  }\n",
    "#fig2{ width:50%; float:left; clear:left; padding: 5px;  }\n",
    "#fig3{ width:50%; float:left; padding: 5px;  }\n",
    ".macros{ visibility:hidden; height:0px; }\n",
    "h1 {margin: 0em 0 0 0;}\n",
    "mark {background-color:#fff3b6;}\n",
    "img {object-fit:contain; max-height:250px; display:inline-block; text-align: center;}\n",
    "</style>\n",
    "\"\"\""
   ]
  },
  {
   "cell_type": "markdown",
   "id": "14bd6310",
   "metadata": {
    "papermill": {
     "duration": 0.003909,
     "end_time": "2022-09-23T05:15:55.409492",
     "exception": false,
     "start_time": "2022-09-23T05:15:55.405583",
     "status": "completed"
    },
    "tags": []
   },
   "source": [
    "## get list of arxiv paper candidates\n",
    "\n",
    "We use the MPIA mitarbeiter list webpage from mpia.de to get author names\n",
    "We then get all new papers from Arxiv and match authors"
   ]
  },
  {
   "cell_type": "code",
   "execution_count": 4,
   "id": "2645e73a",
   "metadata": {
    "execution": {
     "iopub.execute_input": "2022-09-23T05:15:55.418911Z",
     "iopub.status.busy": "2022-09-23T05:15:55.418280Z",
     "iopub.status.idle": "2022-09-23T05:16:19.884418Z",
     "shell.execute_reply": "2022-09-23T05:16:19.882695Z"
    },
    "papermill": {
     "duration": 24.472741,
     "end_time": "2022-09-23T05:16:19.886135",
     "exception": false,
     "start_time": "2022-09-23T05:15:55.413394",
     "status": "completed"
    },
    "tags": []
   },
   "outputs": [
    {
     "name": "stdout",
     "output_type": "stream",
     "text": [
      "Arxiv has 57 new papers today\n",
      "          25 with possible author matches\n"
     ]
    }
   ],
   "source": [
    "# get list from MPIA website\n",
    "# it automatically filters identified non-scientists :func:`mpia.filter_non_scientists`\n",
    "mpia_authors = mpia.get_mpia_mitarbeiter_list()\n",
    "new_papers = get_new_papers()\n",
    "# add manual references\n",
    "add_paper_refs = []\n",
    "new_papers.extend([get_paper_from_identifier(k) for k in add_paper_refs])\n",
    "\n",
    "# select only papers with matching author names and highlight authors\n",
    "hl_list = [k[0] for k in mpia_authors]\n",
    "\n",
    "candidates = []\n",
    "for paperk in new_papers:\n",
    "    hl_authors = highlight_authors_in_list(paperk['authors'], hl_list)\n",
    "    matches = [(hl, orig) for hl, orig in zip(hl_authors, paperk['authors']) if 'mark' in hl]\n",
    "    paperk['authors'] = hl_authors\n",
    "    if matches:\n",
    "        candidates.append(paperk)\n",
    "print(\"\"\"Arxiv has {0:,d} new papers today\"\"\".format(len(new_papers)))        \n",
    "print(\"\"\"          {0:,d} with possible author matches\"\"\".format(len(candidates)))"
   ]
  },
  {
   "cell_type": "markdown",
   "id": "3543b34a",
   "metadata": {
    "papermill": {
     "duration": 0.004274,
     "end_time": "2022-09-23T05:16:19.894897",
     "exception": false,
     "start_time": "2022-09-23T05:16:19.890623",
     "status": "completed"
    },
    "tags": []
   },
   "source": [
    "# Parse sources and generate relevant outputs\n",
    "\n",
    "From the candidates, we do the following steps:\n",
    "* get their tarball from ArXiv (and extract data)\n",
    "* find the main .tex file: find one with \\documentclass{...} (sometimes it's non trivial)\n",
    "* Check affiliations with :func:`validation`, which uses :func:`mpia.affiliation_verifications`\n",
    "* If passing the affiliations: we parse the .tex source\n",
    "   * inject sub-documents into the main (flatten the main document)\n",
    "   * parse structure, extract information (title, abstract, authors, figures...)\n",
    "   * handles `\\graphicspath` if provided\n",
    "* Generate the .md document."
   ]
  },
  {
   "cell_type": "code",
   "execution_count": 5,
   "id": "9576b79e",
   "metadata": {
    "execution": {
     "iopub.execute_input": "2022-09-23T05:16:19.904687Z",
     "iopub.status.busy": "2022-09-23T05:16:19.904108Z",
     "iopub.status.idle": "2022-09-23T05:18:33.146262Z",
     "shell.execute_reply": "2022-09-23T05:18:33.145636Z"
    },
    "papermill": {
     "duration": 133.25024,
     "end_time": "2022-09-23T05:18:33.149102",
     "exception": false,
     "start_time": "2022-09-23T05:16:19.898862",
     "status": "completed"
    },
    "scrolled": false,
    "tags": []
   },
   "outputs": [
    {
     "data": {
      "application/vnd.jupyter.widget-view+json": {
       "model_id": "8566aa92edff4a988f5d53e137740d17",
       "version_major": 2,
       "version_minor": 0
      },
      "text/plain": [
       "  0%|          | 0/24 [00:00<?, ?it/s]"
      ]
     },
     "metadata": {},
     "output_type": "display_data"
    },
    {
     "name": "stdout",
     "output_type": "stream",
     "text": [
      "Retrieving document from  https://arxiv.org/e-print/2209.10558\n"
     ]
    },
    {
     "name": "stdout",
     "output_type": "stream",
     "text": [
      "extracting tarball to tmp_2209.10558..."
     ]
    },
    {
     "name": "stdout",
     "output_type": "stream",
     "text": [
      " done.\n",
      "Retrieving document from  https://arxiv.org/e-print/2209.10566\n"
     ]
    },
    {
     "name": "stderr",
     "output_type": "stream",
     "text": [
      "/opt/hostedtoolcache/Python/3.9.13/x64/lib/python3.9/site-packages/IPython/core/interactiveshell.py:3378: LatexWarning: Multiple tex files.\n",
      "\n",
      "  exec(code_obj, self.user_global_ns, self.user_ns)\n",
      "/opt/hostedtoolcache/Python/3.9.13/x64/lib/python3.9/site-packages/IPython/core/interactiveshell.py:3378: LatexWarning: Found documentclass in tmp_2209.10558/main.tex\n",
      "\n",
      "  exec(code_obj, self.user_global_ns, self.user_ns)\n",
      "/opt/hostedtoolcache/Python/3.9.13/x64/lib/python3.9/site-packages/arxiv_on_deck_2/latex.py:292: LatexWarning: Latex injecting: 'affiliations.tex' from 'tmp_2209.10558/affiliations.tex'\n",
      "  warnings.warn(LatexWarning(f\"Latex injecting: '{ext}' from '{subsource}'\"))\n"
     ]
    },
    {
     "name": "stdout",
     "output_type": "stream",
     "text": [
      "extracting tarball to tmp_2209.10566..."
     ]
    },
    {
     "name": "stdout",
     "output_type": "stream",
     "text": [
      " done.\n",
      "Retrieving document from  https://arxiv.org/e-print/2209.10576\n"
     ]
    },
    {
     "name": "stderr",
     "output_type": "stream",
     "text": [
      "/opt/hostedtoolcache/Python/3.9.13/x64/lib/python3.9/site-packages/IPython/core/interactiveshell.py:3378: LatexWarning: Multiple tex files.\n",
      "\n",
      "  exec(code_obj, self.user_global_ns, self.user_ns)\n",
      "/opt/hostedtoolcache/Python/3.9.13/x64/lib/python3.9/site-packages/IPython/core/interactiveshell.py:3378: LatexWarning: Found documentclass in tmp_2209.10566/main.tex\n",
      "\n",
      "  exec(code_obj, self.user_global_ns, self.user_ns)\n"
     ]
    },
    {
     "name": "stdout",
     "output_type": "stream",
     "text": [
      "extracting tarball to tmp_2209.10576..."
     ]
    },
    {
     "name": "stdout",
     "output_type": "stream",
     "text": [
      " done.\n",
      "Retrieving document from  https://arxiv.org/e-print/2209.10597\n"
     ]
    },
    {
     "name": "stdout",
     "output_type": "stream",
     "text": [
      "extracting tarball to tmp_2209.10597... done.\n",
      "Retrieving document from  https://arxiv.org/e-print/2209.10609\n"
     ]
    },
    {
     "name": "stdout",
     "output_type": "stream",
     "text": [
      "extracting tarball to tmp_2209.10609..."
     ]
    },
    {
     "name": "stdout",
     "output_type": "stream",
     "text": [
      " done.\n",
      "Retrieving document from  https://arxiv.org/e-print/2209.10618\n"
     ]
    },
    {
     "name": "stdout",
     "output_type": "stream",
     "text": [
      "extracting tarball to tmp_2209.10618..."
     ]
    },
    {
     "name": "stdout",
     "output_type": "stream",
     "text": [
      " done.\n"
     ]
    },
    {
     "name": "stderr",
     "output_type": "stream",
     "text": [
      "/opt/hostedtoolcache/Python/3.9.13/x64/lib/python3.9/site-packages/IPython/core/interactiveshell.py:3378: LatexWarning: Multiple tex files.\n",
      "\n",
      "  exec(code_obj, self.user_global_ns, self.user_ns)\n",
      "/opt/hostedtoolcache/Python/3.9.13/x64/lib/python3.9/site-packages/IPython/core/interactiveshell.py:3378: LatexWarning: Found documentclass in tmp_2209.10618/W33-retrieval.tex\n",
      "\n",
      "  exec(code_obj, self.user_global_ns, self.user_ns)\n"
     ]
    },
    {
     "name": "stdout",
     "output_type": "stream",
     "text": [
      "Retrieving document from  https://arxiv.org/e-print/2209.10635\n"
     ]
    },
    {
     "name": "stderr",
     "output_type": "stream",
     "text": [
      "/tmp/ipykernel_2235/4030337529.py:34: LatexWarning: 2209.10635 did not run properly\n",
      "not a gzip file\n",
      "  warnings.warn(latex.LatexWarning(f\"{paper_id:s} did not run properly\\n\" +\n"
     ]
    },
    {
     "name": "stdout",
     "output_type": "stream",
     "text": [
      "Retrieving document from  https://arxiv.org/e-print/2209.10697\n"
     ]
    },
    {
     "name": "stdout",
     "output_type": "stream",
     "text": [
      "extracting tarball to tmp_2209.10697..."
     ]
    },
    {
     "name": "stdout",
     "output_type": "stream",
     "text": [
      " done.\n",
      "Retrieving document from  https://arxiv.org/e-print/2209.10714\n"
     ]
    },
    {
     "name": "stderr",
     "output_type": "stream",
     "text": [
      "/opt/hostedtoolcache/Python/3.9.13/x64/lib/python3.9/site-packages/IPython/core/interactiveshell.py:3378: LatexWarning: Multiple tex files.\n",
      "\n",
      "  exec(code_obj, self.user_global_ns, self.user_ns)\n",
      "/opt/hostedtoolcache/Python/3.9.13/x64/lib/python3.9/site-packages/IPython/core/interactiveshell.py:3378: LatexWarning: Found documentclass in tmp_2209.10697/main.tex\n",
      "\n",
      "  exec(code_obj, self.user_global_ns, self.user_ns)\n",
      "/opt/hostedtoolcache/Python/3.9.13/x64/lib/python3.9/site-packages/arxiv_on_deck_2/latex.py:292: LatexWarning: Latex injecting: 'tabs/methods.tex' from 'tmp_2209.10697/tabs/methods.tex'\n",
      "  warnings.warn(LatexWarning(f\"Latex injecting: '{ext}' from '{subsource}'\"))\n",
      "/opt/hostedtoolcache/Python/3.9.13/x64/lib/python3.9/site-packages/arxiv_on_deck_2/latex.py:292: LatexWarning: Latex injecting: 'tabs/structure_yarko.tex' from 'tmp_2209.10697/tabs/structure_yarko.tex'\n",
      "  warnings.warn(LatexWarning(f\"Latex injecting: '{ext}' from '{subsource}'\"))\n",
      "/opt/hostedtoolcache/Python/3.9.13/x64/lib/python3.9/site-packages/arxiv_on_deck_2/latex.py:292: LatexWarning: Latex injecting: 'tabs/structure_thermal.tex' from 'tmp_2209.10697/tabs/structure_thermal.tex'\n",
      "  warnings.warn(LatexWarning(f\"Latex injecting: '{ext}' from '{subsource}'\"))\n",
      "/opt/hostedtoolcache/Python/3.9.13/x64/lib/python3.9/site-packages/arxiv_on_deck_2/latex.py:292: LatexWarning: Latex injecting: 'tabs/structure_taxonomy.tex' from 'tmp_2209.10697/tabs/structure_taxonomy.tex'\n",
      "  warnings.warn(LatexWarning(f\"Latex injecting: '{ext}' from '{subsource}'\"))\n",
      "/opt/hostedtoolcache/Python/3.9.13/x64/lib/python3.9/site-packages/arxiv_on_deck_2/latex.py:292: LatexWarning: Latex injecting: 'tabs/structure_spin.tex' from 'tmp_2209.10697/tabs/structure_spin.tex'\n",
      "  warnings.warn(LatexWarning(f\"Latex injecting: '{ext}' from '{subsource}'\"))\n",
      "/opt/hostedtoolcache/Python/3.9.13/x64/lib/python3.9/site-packages/arxiv_on_deck_2/latex.py:292: LatexWarning: Latex injecting: 'tabs/structure_proper.tex' from 'tmp_2209.10697/tabs/structure_proper.tex'\n",
      "  warnings.warn(LatexWarning(f\"Latex injecting: '{ext}' from '{subsource}'\"))\n",
      "/opt/hostedtoolcache/Python/3.9.13/x64/lib/python3.9/site-packages/arxiv_on_deck_2/latex.py:292: LatexWarning: Latex injecting: 'tabs/structure_phase.tex' from 'tmp_2209.10697/tabs/structure_phase.tex'\n",
      "  warnings.warn(LatexWarning(f\"Latex injecting: '{ext}' from '{subsource}'\"))\n",
      "/opt/hostedtoolcache/Python/3.9.13/x64/lib/python3.9/site-packages/arxiv_on_deck_2/latex.py:292: LatexWarning: Latex injecting: 'tabs/structure_pairs.tex' from 'tmp_2209.10697/tabs/structure_pairs.tex'\n",
      "  warnings.warn(LatexWarning(f\"Latex injecting: '{ext}' from '{subsource}'\"))\n",
      "/opt/hostedtoolcache/Python/3.9.13/x64/lib/python3.9/site-packages/arxiv_on_deck_2/latex.py:292: LatexWarning: Latex injecting: 'tabs/structure_mpcorb.tex' from 'tmp_2209.10697/tabs/structure_mpcorb.tex'\n",
      "  warnings.warn(LatexWarning(f\"Latex injecting: '{ext}' from '{subsource}'\"))\n",
      "/opt/hostedtoolcache/Python/3.9.13/x64/lib/python3.9/site-packages/arxiv_on_deck_2/latex.py:292: LatexWarning: Latex injecting: 'tabs/structure_mpcat.tex' from 'tmp_2209.10697/tabs/structure_mpcat.tex'\n",
      "  warnings.warn(LatexWarning(f\"Latex injecting: '{ext}' from '{subsource}'\"))\n",
      "/opt/hostedtoolcache/Python/3.9.13/x64/lib/python3.9/site-packages/arxiv_on_deck_2/latex.py:292: LatexWarning: Latex injecting: 'tabs/structure_mass.tex' from 'tmp_2209.10697/tabs/structure_mass.tex'\n",
      "  warnings.warn(LatexWarning(f\"Latex injecting: '{ext}' from '{subsource}'\"))\n",
      "/opt/hostedtoolcache/Python/3.9.13/x64/lib/python3.9/site-packages/arxiv_on_deck_2/latex.py:292: LatexWarning: Latex injecting: 'tabs/structure_families.tex' from 'tmp_2209.10697/tabs/structure_families.tex'\n",
      "  warnings.warn(LatexWarning(f\"Latex injecting: '{ext}' from '{subsource}'\"))\n",
      "/opt/hostedtoolcache/Python/3.9.13/x64/lib/python3.9/site-packages/arxiv_on_deck_2/latex.py:292: LatexWarning: Latex injecting: 'tabs/structure_diam.tex' from 'tmp_2209.10697/tabs/structure_diam.tex'\n",
      "  warnings.warn(LatexWarning(f\"Latex injecting: '{ext}' from '{subsource}'\"))\n",
      "/opt/hostedtoolcache/Python/3.9.13/x64/lib/python3.9/site-packages/arxiv_on_deck_2/latex.py:292: LatexWarning: Latex injecting: 'tabs/structure_density.tex' from 'tmp_2209.10697/tabs/structure_density.tex'\n",
      "  warnings.warn(LatexWarning(f\"Latex injecting: '{ext}' from '{subsource}'\"))\n",
      "/opt/hostedtoolcache/Python/3.9.13/x64/lib/python3.9/site-packages/arxiv_on_deck_2/latex.py:292: LatexWarning: Latex injecting: 'tabs/structure_cometpro.tex' from 'tmp_2209.10697/tabs/structure_cometpro.tex'\n",
      "  warnings.warn(LatexWarning(f\"Latex injecting: '{ext}' from '{subsource}'\"))\n",
      "/opt/hostedtoolcache/Python/3.9.13/x64/lib/python3.9/site-packages/arxiv_on_deck_2/latex.py:292: LatexWarning: Latex injecting: 'tabs/structure_colors.tex' from 'tmp_2209.10697/tabs/structure_colors.tex'\n",
      "  warnings.warn(LatexWarning(f\"Latex injecting: '{ext}' from '{subsource}'\"))\n",
      "/opt/hostedtoolcache/Python/3.9.13/x64/lib/python3.9/site-packages/arxiv_on_deck_2/latex.py:292: LatexWarning: Latex injecting: 'tabs/structure_astorb.tex' from 'tmp_2209.10697/tabs/structure_astorb.tex'\n",
      "  warnings.warn(LatexWarning(f\"Latex injecting: '{ext}' from '{subsource}'\"))\n",
      "/opt/hostedtoolcache/Python/3.9.13/x64/lib/python3.9/site-packages/arxiv_on_deck_2/latex.py:292: LatexWarning: Latex injecting: 'tabs/collections.tex' from 'tmp_2209.10697/tabs/collections.tex'\n",
      "  warnings.warn(LatexWarning(f\"Latex injecting: '{ext}' from '{subsource}'\"))\n",
      "/opt/hostedtoolcache/Python/3.9.13/x64/lib/python3.9/site-packages/arxiv_on_deck_2/latex.py:292: LatexWarning: Latex injecting: 'tabs/dc_stats' from 'tmp_2209.10697/tabs/dc_stats.tex'\n",
      "  warnings.warn(LatexWarning(f\"Latex injecting: '{ext}' from '{subsource}'\"))\n",
      "/opt/hostedtoolcache/Python/3.9.13/x64/lib/python3.9/site-packages/arxiv_on_deck_2/latex.py:292: LatexWarning: Latex injecting: 'tabs/dc_bibref' from 'tmp_2209.10697/tabs/dc_bibref.tex'\n",
      "  warnings.warn(LatexWarning(f\"Latex injecting: '{ext}' from '{subsource}'\"))\n",
      "/opt/hostedtoolcache/Python/3.9.13/x64/lib/python3.9/site-packages/arxiv_on_deck_2/latex.py:292: LatexWarning: Latex injecting: 'tabs/cmds' from 'tmp_2209.10697/tabs/cmds.tex'\n",
      "  warnings.warn(LatexWarning(f\"Latex injecting: '{ext}' from '{subsource}'\"))\n"
     ]
    },
    {
     "name": "stdout",
     "output_type": "stream",
     "text": [
      "extracting tarball to tmp_2209.10714..."
     ]
    },
    {
     "name": "stdout",
     "output_type": "stream",
     "text": [
      " done.\n",
      "Retrieving document from  https://arxiv.org/e-print/2209.10721\n"
     ]
    },
    {
     "name": "stdout",
     "output_type": "stream",
     "text": [
      "extracting tarball to tmp_2209.10721..."
     ]
    },
    {
     "name": "stdout",
     "output_type": "stream",
     "text": [
      " done.\n",
      "Retrieving document from  https://arxiv.org/e-print/2209.10760\n"
     ]
    },
    {
     "name": "stdout",
     "output_type": "stream",
     "text": [
      "extracting tarball to tmp_2209.10760..."
     ]
    },
    {
     "name": "stdout",
     "output_type": "stream",
     "text": [
      " done.\n",
      "Retrieving document from  https://arxiv.org/e-print/2209.10819\n"
     ]
    },
    {
     "name": "stderr",
     "output_type": "stream",
     "text": [
      "/opt/hostedtoolcache/Python/3.9.13/x64/lib/python3.9/site-packages/IPython/core/interactiveshell.py:3378: LatexWarning: Multiple tex files.\n",
      "\n",
      "  exec(code_obj, self.user_global_ns, self.user_ns)\n",
      "/opt/hostedtoolcache/Python/3.9.13/x64/lib/python3.9/site-packages/IPython/core/interactiveshell.py:3378: LatexWarning: Found documentclass in tmp_2209.10760/ApJdraft_v220824.tex\n",
      "\n",
      "  exec(code_obj, self.user_global_ns, self.user_ns)\n",
      "/opt/hostedtoolcache/Python/3.9.13/x64/lib/python3.9/site-packages/arxiv_on_deck_2/latex.py:292: LatexWarning: Latex injecting: 'table' from 'tmp_2209.10760/table.tex'\n",
      "  warnings.warn(LatexWarning(f\"Latex injecting: '{ext}' from '{subsource}'\"))\n"
     ]
    },
    {
     "name": "stdout",
     "output_type": "stream",
     "text": [
      "extracting tarball to tmp_2209.10819..."
     ]
    },
    {
     "name": "stdout",
     "output_type": "stream",
     "text": [
      " done.\n",
      "Retrieving document from  https://arxiv.org/e-print/2209.10832\n"
     ]
    },
    {
     "name": "stderr",
     "output_type": "stream",
     "text": [
      "/opt/hostedtoolcache/Python/3.9.13/x64/lib/python3.9/site-packages/IPython/core/interactiveshell.py:3378: LatexWarning: Multiple tex files.\n",
      "\n",
      "  exec(code_obj, self.user_global_ns, self.user_ns)\n",
      "/opt/hostedtoolcache/Python/3.9.13/x64/lib/python3.9/site-packages/IPython/core/interactiveshell.py:3378: LatexWarning: Found documentclass in tmp_2209.10819/master.tex\n",
      "\n",
      "  exec(code_obj, self.user_global_ns, self.user_ns)\n",
      "/opt/hostedtoolcache/Python/3.9.13/x64/lib/python3.9/site-packages/arxiv_on_deck_2/latex.py:292: LatexWarning: Latex injecting: '9appendix2.tex' from 'tmp_2209.10819/9appendix2.tex'\n",
      "  warnings.warn(LatexWarning(f\"Latex injecting: '{ext}' from '{subsource}'\"))\n",
      "/opt/hostedtoolcache/Python/3.9.13/x64/lib/python3.9/site-packages/arxiv_on_deck_2/latex.py:292: LatexWarning: Latex injecting: '8Appendix.tex' from 'tmp_2209.10819/8Appendix.tex'\n",
      "  warnings.warn(LatexWarning(f\"Latex injecting: '{ext}' from '{subsource}'\"))\n",
      "/opt/hostedtoolcache/Python/3.9.13/x64/lib/python3.9/site-packages/arxiv_on_deck_2/latex.py:292: LatexWarning: Latex injecting: 'references.tex' from 'tmp_2209.10819/references.tex'\n",
      "  warnings.warn(LatexWarning(f\"Latex injecting: '{ext}' from '{subsource}'\"))\n",
      "/opt/hostedtoolcache/Python/3.9.13/x64/lib/python3.9/site-packages/arxiv_on_deck_2/latex.py:292: LatexWarning: Latex injecting: '6conclusions.tex' from 'tmp_2209.10819/6conclusions.tex'\n",
      "  warnings.warn(LatexWarning(f\"Latex injecting: '{ext}' from '{subsource}'\"))\n",
      "/opt/hostedtoolcache/Python/3.9.13/x64/lib/python3.9/site-packages/arxiv_on_deck_2/latex.py:292: LatexWarning: Latex injecting: '5discussion.tex' from 'tmp_2209.10819/5discussion.tex'\n",
      "  warnings.warn(LatexWarning(f\"Latex injecting: '{ext}' from '{subsource}'\"))\n",
      "/opt/hostedtoolcache/Python/3.9.13/x64/lib/python3.9/site-packages/arxiv_on_deck_2/latex.py:292: LatexWarning: Latex injecting: '4dynamo.tex' from 'tmp_2209.10819/4dynamo.tex'\n",
      "  warnings.warn(LatexWarning(f\"Latex injecting: '{ext}' from '{subsource}'\"))\n",
      "/opt/hostedtoolcache/Python/3.9.13/x64/lib/python3.9/site-packages/arxiv_on_deck_2/latex.py:292: LatexWarning: Latex injecting: '3Revised.tex' from 'tmp_2209.10819/3Revised.tex'\n",
      "  warnings.warn(LatexWarning(f\"Latex injecting: '{ext}' from '{subsource}'\"))\n",
      "/opt/hostedtoolcache/Python/3.9.13/x64/lib/python3.9/site-packages/arxiv_on_deck_2/latex.py:292: LatexWarning: Latex injecting: '2data.tex' from 'tmp_2209.10819/2data.tex'\n",
      "  warnings.warn(LatexWarning(f\"Latex injecting: '{ext}' from '{subsource}'\"))\n",
      "/opt/hostedtoolcache/Python/3.9.13/x64/lib/python3.9/site-packages/arxiv_on_deck_2/latex.py:292: LatexWarning: Latex injecting: '1intro_v2.tex' from 'tmp_2209.10819/1intro_v2.tex'\n",
      "  warnings.warn(LatexWarning(f\"Latex injecting: '{ext}' from '{subsource}'\"))\n",
      "/opt/hostedtoolcache/Python/3.9.13/x64/lib/python3.9/site-packages/arxiv_on_deck_2/latex.py:292: LatexWarning: Latex injecting: '0abstract.tex' from 'tmp_2209.10819/0abstract.tex'\n",
      "  warnings.warn(LatexWarning(f\"Latex injecting: '{ext}' from '{subsource}'\"))\n"
     ]
    },
    {
     "name": "stdout",
     "output_type": "stream",
     "text": [
      "extracting tarball to tmp_2209.10832..."
     ]
    },
    {
     "name": "stdout",
     "output_type": "stream",
     "text": [
      " done.\n",
      "Retrieving document from  https://arxiv.org/e-print/2209.10853\n"
     ]
    },
    {
     "name": "stdout",
     "output_type": "stream",
     "text": [
      "extracting tarball to tmp_2209.10853..."
     ]
    },
    {
     "name": "stdout",
     "output_type": "stream",
     "text": [
      " done.\n",
      "Retrieving document from  https://arxiv.org/e-print/2209.10882\n"
     ]
    },
    {
     "name": "stdout",
     "output_type": "stream",
     "text": [
      "extracting tarball to tmp_2209.10882..."
     ]
    },
    {
     "name": "stdout",
     "output_type": "stream",
     "text": [
      " done.\n",
      "Retrieving document from  https://arxiv.org/e-print/2209.10952\n"
     ]
    },
    {
     "name": "stdout",
     "output_type": "stream",
     "text": [
      "extracting tarball to tmp_2209.10952..."
     ]
    },
    {
     "name": "stdout",
     "output_type": "stream",
     "text": [
      " done.\n",
      "Retrieving document from  https://arxiv.org/e-print/2209.10989\n"
     ]
    },
    {
     "name": "stdout",
     "output_type": "stream",
     "text": [
      "extracting tarball to tmp_2209.10989..."
     ]
    },
    {
     "name": "stdout",
     "output_type": "stream",
     "text": [
      " done.\n",
      "Retrieving document from  https://arxiv.org/e-print/2209.11005\n"
     ]
    },
    {
     "name": "stdout",
     "output_type": "stream",
     "text": [
      "extracting tarball to tmp_2209.11005..."
     ]
    },
    {
     "name": "stdout",
     "output_type": "stream",
     "text": [
      " done.\n",
      "Retrieving document from  https://arxiv.org/e-print/2209.11008\n"
     ]
    },
    {
     "name": "stdout",
     "output_type": "stream",
     "text": [
      "extracting tarball to tmp_2209.11008..."
     ]
    },
    {
     "name": "stdout",
     "output_type": "stream",
     "text": [
      " done.\n",
      "Retrieving document from  https://arxiv.org/e-print/2209.11050\n"
     ]
    },
    {
     "name": "stdout",
     "output_type": "stream",
     "text": [
      "extracting tarball to tmp_2209.11050..."
     ]
    },
    {
     "name": "stdout",
     "output_type": "stream",
     "text": [
      " done.\n",
      "Retrieving document from  https://arxiv.org/e-print/2209.11078\n"
     ]
    },
    {
     "name": "stdout",
     "output_type": "stream",
     "text": [
      "extracting tarball to tmp_2209.11078... done.\n",
      "Retrieving document from  https://arxiv.org/e-print/2209.11096\n"
     ]
    },
    {
     "name": "stderr",
     "output_type": "stream",
     "text": [
      "/opt/hostedtoolcache/Python/3.9.13/x64/lib/python3.9/site-packages/IPython/core/interactiveshell.py:3378: LatexWarning: Multiple tex files.\n",
      "\n",
      "  exec(code_obj, self.user_global_ns, self.user_ns)\n",
      "/opt/hostedtoolcache/Python/3.9.13/x64/lib/python3.9/site-packages/IPython/core/interactiveshell.py:3378: LatexWarning: Found documentclass in tmp_2209.11078/lensed_quasars_proof.tex\n",
      "\n",
      "  exec(code_obj, self.user_global_ns, self.user_ns)\n"
     ]
    },
    {
     "name": "stdout",
     "output_type": "stream",
     "text": [
      "extracting tarball to tmp_2209.11096... done.\n"
     ]
    },
    {
     "name": "stdout",
     "output_type": "stream",
     "text": [
      "Retrieving document from  https://arxiv.org/e-print/2209.11146\n"
     ]
    },
    {
     "name": "stdout",
     "output_type": "stream",
     "text": [
      "extracting tarball to tmp_2209.11146..."
     ]
    },
    {
     "name": "stdout",
     "output_type": "stream",
     "text": [
      " done.\n",
      "Retrieving document from  https://arxiv.org/e-print/2209.11160\n"
     ]
    },
    {
     "name": "stderr",
     "output_type": "stream",
     "text": [
      "/opt/hostedtoolcache/Python/3.9.13/x64/lib/python3.9/site-packages/IPython/core/interactiveshell.py:3378: LatexWarning: Multiple tex files.\n",
      "\n",
      "  exec(code_obj, self.user_global_ns, self.user_ns)\n",
      "/opt/hostedtoolcache/Python/3.9.13/x64/lib/python3.9/site-packages/IPython/core/interactiveshell.py:3378: LatexWarning: Found documentclass in tmp_2209.11146/main.tex\n",
      "\n",
      "  exec(code_obj, self.user_global_ns, self.user_ns)\n",
      "/opt/hostedtoolcache/Python/3.9.13/x64/lib/python3.9/site-packages/arxiv_on_deck_2/latex.py:292: LatexWarning: Latex injecting: 'long_table' from 'tmp_2209.11146/long_table.tex'\n",
      "  warnings.warn(LatexWarning(f\"Latex injecting: '{ext}' from '{subsource}'\"))\n"
     ]
    },
    {
     "name": "stdout",
     "output_type": "stream",
     "text": [
      "extracting tarball to tmp_2209.11160..."
     ]
    },
    {
     "name": "stdout",
     "output_type": "stream",
     "text": [
      " done.\n"
     ]
    },
    {
     "name": "stderr",
     "output_type": "stream",
     "text": [
      "/opt/hostedtoolcache/Python/3.9.13/x64/lib/python3.9/site-packages/IPython/core/interactiveshell.py:3378: LatexWarning: Multiple tex files.\n",
      "\n",
      "  exec(code_obj, self.user_global_ns, self.user_ns)\n",
      "/opt/hostedtoolcache/Python/3.9.13/x64/lib/python3.9/site-packages/IPython/core/interactiveshell.py:3378: LatexWarning: Found documentclass in tmp_2209.11160/sample631.tex\n",
      "\n",
      "  exec(code_obj, self.user_global_ns, self.user_ns)\n"
     ]
    }
   ],
   "source": [
    "documents = []\n",
    "failed = []\n",
    "for paper in tqdm(candidates[:-1]):\n",
    "    paper_id = paper['identifier'].lower().replace('arxiv:', '')\n",
    "    \n",
    "    folder = f'tmp_{paper_id}'\n",
    "\n",
    "    try:\n",
    "        if not os.path.isdir(folder):\n",
    "            folder = retrieve_document_source(f\"{paper_id}\", f'tmp_{paper_id}')\n",
    "        \n",
    "        try:\n",
    "            doc = latex.LatexDocument(folder, validation=validation)    \n",
    "        except AffiliationError as affilerror:\n",
    "            msg = f\"ArXiv:{paper_id:s} is not an MPIA paper... \" + str(affilerror)\n",
    "            failed.append((paper, \"affiliation error: \" + str(affilerror) ))\n",
    "            continue\n",
    "        \n",
    "        # Hack because sometimes author parsing does not work well\n",
    "        if (len(doc.authors) != len(paper['authors'])):\n",
    "            doc._authors = paper['authors']\n",
    "        if (doc.abstract) in (None, ''):\n",
    "            doc._abstract = paper['abstract']\n",
    "            \n",
    "        doc.comment = (get_markdown_badge(paper_id) + \n",
    "                       \"<mark>Appeared on: \" + paper['date'] + \"</mark> - \" +\n",
    "                       \"_\" + paper['comments'] + \"_\")\n",
    "        doc.highlight_authors_in_list(hl_list)\n",
    "\n",
    "        full_md = doc.generate_markdown_text()\n",
    "        \n",
    "        documents.append((paper_id, full_md))\n",
    "    except Exception as e:\n",
    "        warnings.warn(latex.LatexWarning(f\"{paper_id:s} did not run properly\\n\" +\n",
    "                                         str(e)\n",
    "                                        ))\n",
    "        failed.append((paper, \"latex error \" + str(e)))"
   ]
  },
  {
   "cell_type": "markdown",
   "id": "2505a25c",
   "metadata": {
    "papermill": {
     "duration": 0.007211,
     "end_time": "2022-09-23T05:18:33.163509",
     "exception": false,
     "start_time": "2022-09-23T05:18:33.156298",
     "status": "completed"
    },
    "tags": []
   },
   "source": [
    "### Export the logs\n",
    "\n",
    "Throughout, we also keep track of the logs per paper. see `logs-{today date}.md` "
   ]
  },
  {
   "cell_type": "code",
   "execution_count": 6,
   "id": "d733828a",
   "metadata": {
    "execution": {
     "iopub.execute_input": "2022-09-23T05:18:33.179486Z",
     "iopub.status.busy": "2022-09-23T05:18:33.178926Z",
     "iopub.status.idle": "2022-09-23T05:18:33.214863Z",
     "shell.execute_reply": "2022-09-23T05:18:33.214156Z"
    },
    "papermill": {
     "duration": 0.046002,
     "end_time": "2022-09-23T05:18:33.216455",
     "exception": false,
     "start_time": "2022-09-23T05:18:33.170453",
     "status": "completed"
    },
    "scrolled": false,
    "tags": []
   },
   "outputs": [
    {
     "data": {
      "text/markdown": [
       "## Successful papers"
      ],
      "text/plain": [
       "<IPython.core.display.Markdown object>"
      ]
     },
     "metadata": {},
     "output_type": "display_data"
    },
    {
     "data": {
      "text/markdown": [
       "\n",
       "|||\n",
       "|---:|:---|\n",
       "| [![arXiv](https://img.shields.io/badge/arXiv-arXiv:2209.10618-b31b1b.svg)](https://arxiv.org/abs/arXiv:2209.10618) | **Atmospheric characterization of the ultra-hot Jupiter WASP-33b:  Detection of Ti and V emission lines and retrieval of a broadened line  profile**  |\n",
       "|| D. Cont, et al. -- incl., <mark>Th. Henning</mark>, <mark>P. Mollière</mark> |\n",
       "|*Appeared on*| *2022-09-23*|\n",
       "|*Comments*| *Accepted for publication in A&A*|\n",
       "|**Abstract**| Ultra-hot Jupiters are highly irradiated gas giant exoplanets on close-in orbits around their host stars. We analyzed high-resolution spectra from CARMENES, HARPS-N, and ESPaDOnS taken over eight observation nights to study the emission spectrum of WASP-33b and draw conclusions about its atmosphere. By applying the cross-correlation technique, we detected the spectral signatures of Ti I, V I, and a tentative signal of Ti II for the first time via emission spectroscopy. These detections are an important finding because of the fundamental role of Ti- and V-bearing species in the planetary energy balance. Moreover, we assessed and confirm the presence of OH, Fe I, and Si I from previous studies. The spectral lines are all detected in emission, which unambiguously proves the presence of an inverted temperature profile in the planetary atmosphere. By performing retrievals on the emission lines of all the detected species, we determined a relatively weak atmospheric thermal inversion extending from approximately 3400 K to 4000 K. We infer a supersolar metallicity close to 1.5 dex in the planetary atmosphere, and find that its emission signature undergoes significant line broadening with a Gaussian FWHM of about 4.5 km/s. Also, we find that the atmospheric temperature profile retrieved at orbital phases far from the secondary eclipse is about 300 K to 700 K cooler than that measured close to the secondary eclipse, which is consistent with different day- and nightside temperatures. Moreover, retrievals performed on the emission lines of the individual chemical species lead to consistent results, which gives additional confidence to our retrieval method. Increasing the number of species included in the retrieval and expanding the set of retrieved atmospheric parameters will further advance our understanding of exoplanet atmospheres. |"
      ],
      "text/plain": [
       "[arXiv:2209.10618] Atmospheric characterization of the ultra-hot Jupiter WASP-33b:  Detection of Ti and V emission lines and retrieval of a broadened line  profile\n",
       "\tD. Cont, et al. -- incl., <mark>Th. Henning</mark>, <mark>P. Mollière</mark>"
      ]
     },
     "metadata": {},
     "output_type": "display_data"
    },
    {
     "data": {
      "text/markdown": [
       "\n",
       "|||\n",
       "|---:|:---|\n",
       "| [![arXiv](https://img.shields.io/badge/arXiv-arXiv:2209.11096-b31b1b.svg)](https://arxiv.org/abs/arXiv:2209.11096) | **Companions to Kepler giant stars: A long-period eccentric substellar  companion to KIC 3526061 and a stellar companion to HD 187878**  |\n",
       "|| Marie Karjalainen, et al. -- incl., <mark>Saskia Hekker</mark> |\n",
       "|*Appeared on*| *2022-09-23*|\n",
       "|*Comments*| *14 pages, 11 figures. Accepted to A&A*|\n",
       "|**Abstract**| Context. Our knowledge of populations and occurrence of planets orbiting evolved intermediate-mass stars is still incomplete. In 2010 we started a planet-search program among 95 giant stars observed by the Kepler mission to increase the sample of giant stars with planets and with reliable estimates of stellar masses and radii. Aims. We present the two systems KIC 3526061 and HD 187878 from our planet-search program for which we could characterise their companions. Methods. We used precise stellar radial velocity measurements taken with four different echelle spectrographs to derive an orbital solution. We used Gaia astrometric measurements to obtain the inclination of the HD 187878 system and Kepler photometric observations to estimate the stellar mass and radius. Results. We report the discovery of a sub-stellar and a stellar companion around two intermediate-mass red giant branch stars. KIC 3526061 b is most likely a brown dwarf with a minimum mass of 18.15 Jupiter masses in a long-period eccentric orbit, with the orbital period 3552 d and orbital eccentricity 0.85. It is the most evolved system found having a sub-stellar companion with such a large eccentricity and wide separation. HD 187878 B has a minimum mass of 78.4 Jupiter masses. Combining the spectroscopic orbital parameters with the astrometric proper motion anomaly we derived an orbital inclination 9.8 deg, which corresponds to the companion's mass in the stellar regime of 0.51 Sun mass. Conclusions. A sub-stellar companion of KIC 3526061 extends the sample of known red giant branch stars with sub-stellar companions on very eccentric wide orbits and might provide a probe of the dynamical evolution of such systems over time. |"
      ],
      "text/plain": [
       "[arXiv:2209.11096] Companions to Kepler giant stars: A long-period eccentric substellar  companion to KIC 3526061 and a stellar companion to HD 187878\n",
       "\tMarie Karjalainen, et al. -- incl., <mark>Saskia Hekker</mark>"
      ]
     },
     "metadata": {},
     "output_type": "display_data"
    },
    {
     "data": {
      "text/markdown": [
       "## Failed papers"
      ],
      "text/plain": [
       "<IPython.core.display.Markdown object>"
      ]
     },
     "metadata": {},
     "output_type": "display_data"
    },
    {
     "data": {
      "text/markdown": [
       "\n",
       "|||\n",
       "|---:|:---|\n",
       "| [![arXiv](https://img.shields.io/badge/arXiv-arXiv:2209.10558-b31b1b.svg)](https://arxiv.org/abs/arXiv:2209.10558) | **SN 2021hpr and its two siblings in the Cepheid calibrator galaxy NGC  3147: A hierarchical BayeSN analysis of a Type Ia supernova trio, and a  Hubble constant constraint**  |\n",
       "|| Sam M. Ward, et al. -- incl., <mark>Mark E. Huber</mark>, <mark>Danial Langeroodi</mark> |\n",
       "|*Appeared on*| *2022-09-23*|\n",
       "|*Comments*| *Submitted to MNRAS; 30 pages, 22 figures*|\n",
       "|**Abstract**| To improve Type Ia supernova (SN Ia) standardisability, the consistency of distance estimates to siblings -- SNe in the same host galaxy -- should be investigated. We present Young Supernova Experiment Pan-STARRS-1 $grizy$ photometry of SN 2021hpr, the third spectroscopically confirmed SN Ia in the high-stellar-mass Cepheid-calibrator galaxy NGC 3147. We analyse NGC 3147's trio of SN Ia siblings: SNe 1997bq, 2008fv and 2021hpr, using a new version of the BayeSN model of SN Ia spectral-energy distributions, retrained simultaneously using optical-NIR $BgVrizYJH$ (0.35--1.8 $\\mu$m) data. The distance estimates to each sibling are consistent, with a sample standard deviation $\\lesssim$0.01 mag, much smaller than the total intrinsic scatter in the training sample: $\\sigma_0\\approx0.09$ mag. Fitting normal SN Ia siblings in three additional galaxies, we estimate a $\\approx$90% probability that the siblings' intrinsic scatter is smaller than $\\sigma_0$. We build a new hierarchical model that fits light curves of siblings in a single galaxy simultaneously; this yields more precise estimates of the common distance and the dust parameters. Fitting the trio for a common dust law shape yields $R_V=2.69\\pm0.52$. Our work motivates future hierarchical modelling of more siblings, to tightly constrain their intrinsic scatter, and better understand SN-host correlations. Finally, we estimate the Hubble constant, using a Cepheid distance to NGC 3147, the siblings trio, and 109 Hubble flow ($0.01 < z_{\\rm{CMB}} < 0.08$) SNe Ia; marginalising over the siblings' and population's intrinsic scatters, and the peculiar velocity dispersion, yields $H_0=77.9\\pm6.5 \\text{ km s}^{-1}\\text{Mpc}^{-1}$. |\n",
       "|<p style=\"color:green\"> **ERROR** </p>| <p style=\"color:green\">affiliation error: mpia.affiliation_verifications: 'Heidelberg' keyword not found.</p> |"
      ],
      "text/plain": [
       "<IPython.core.display.Markdown object>"
      ]
     },
     "metadata": {},
     "output_type": "display_data"
    },
    {
     "data": {
      "text/markdown": [
       "\n",
       "|||\n",
       "|---:|:---|\n",
       "| [![arXiv](https://img.shields.io/badge/arXiv-arXiv:2209.10566-b31b1b.svg)](https://arxiv.org/abs/arXiv:2209.10566) | **Scanning For Dark Matter Subhalos in Hubble Space Telescope Imaging of  54 Strong Lenses**  |\n",
       "|| James W. Nightingale, et al. -- incl., <mark>Qiuhan He</mark>, <mark>Samuel Lange</mark>, <mark>Ran Li</mark> |\n",
       "|*Appeared on*| *2022-09-23*|\n",
       "|*Comments*| *27 Pages, 15 Figures*|\n",
       "|**Abstract**| The cold dark matter (DM) model predicts that every galaxy contains thousands of DM subhalos; almost all other DM models include a physical process that smooths away the subhalos. The subhalos are invisible, but could be detected via strong gravitational lensing, if they lie on the line of sight to a multiply-imaged background source, and perturb its apparent shape. We present an automated strong lens analysis framework, and scan for DM subhalos in Hubble Space Telescope imaging of 54 strong lenses. We identify two compelling DM subhalo candidates (including one previously found in SLACS0946+1006), where a subhalo is favoured after every systematic test we perform. We find that the detectability of subhalos depends upon the assumed parametric form for the lens galaxy's mass distribution. Comparing fits which assume several more complex mass models reveals $5$ additional (generally lower mass) DM subhalo candidates worthy of further study, and the removal of 11 false positives. We identify 44 non-detections, which are vital to building up enough statistical power to test DM models. Future work will apply even more flexible models to the results of this study, to constrain different DM models. Our full analysis results are available at https://github.com/Jammy2211/autolens_subhalo. |\n",
       "|<p style=\"color:green\"> **ERROR** </p>| <p style=\"color:green\">affiliation error: mpia.affiliation_verifications: 'Heidelberg' keyword not found.</p> |"
      ],
      "text/plain": [
       "<IPython.core.display.Markdown object>"
      ]
     },
     "metadata": {},
     "output_type": "display_data"
    },
    {
     "data": {
      "text/markdown": [
       "\n",
       "|||\n",
       "|---:|:---|\n",
       "| [![arXiv](https://img.shields.io/badge/arXiv-arXiv:2209.10576-b31b1b.svg)](https://arxiv.org/abs/arXiv:2209.10576) | **Accretion physics at high X-ray spectral resolution: New frontiers and  game-changing science**  |\n",
       "|| P. Gandhi, et al. -- incl., <mark>C.L. Greenwell</mark>, <mark>Y. Ueda</mark> |\n",
       "|*Appeared on*| *2022-09-23*|\n",
       "|*Comments*| *To appear in Nature Astronomy as a review. Author version, before final editorial and style revisions*|\n",
       "|**Abstract**| Microcalorimeters have demonstrated success in delivering high spectral resolution, and have paved the path to revolutionary new science possibilities in the coming decade of X-ray astronomy. There are several research areas in compact object science that can only be addressed with energy resolution Delta(E)<~5 eV at photon energies of a few keV, corresponding to velocity resolution of <~a few hundred km/s, to be ushered in by microcalorimeters. Here, we review some of these outstanding questions, focusing on how the research landscape is set to be transformed (i) at the interface between accreting supermassive black holes and their host galaxies, (ii) in unravelling the structures of accretion environments, (iii) in resolving long-standing issues on the origins of energy and matter feedback, and (iv) to test mass-scaled unification of accretion and feedback. The need to learn lessons from Hitomi and to make improvements in laboratory atomic data precision as well as plasma modeling are highlighted. |\n",
       "|<p style=\"color:green\"> **ERROR** </p>| <p style=\"color:green\">affiliation error: mpia.affiliation_verifications: 'Heidelberg' keyword not found.</p> |"
      ],
      "text/plain": [
       "<IPython.core.display.Markdown object>"
      ]
     },
     "metadata": {},
     "output_type": "display_data"
    },
    {
     "data": {
      "text/markdown": [
       "\n",
       "|||\n",
       "|---:|:---|\n",
       "| [![arXiv](https://img.shields.io/badge/arXiv-arXiv:2209.10597-b31b1b.svg)](https://arxiv.org/abs/arXiv:2209.10597) | **Planet-star interactions with precise transit timing. III. Entering the  regime of dynamical tides**  |\n",
       "|| G. Maciejewski, et al. -- incl., <mark>T. Heyne</mark> |\n",
       "|*Appeared on*| *2022-09-23*|\n",
       "|*Comments*| *Accepted for publication in A&A*|\n",
       "|**Abstract**| Hot Jupiters on extremely short-period orbits are expected to be unstable to tidal dissipation and spiral toward their host stars. That is because they transfer the angular momentum of the orbital motion through tidal dissipation into the stellar interior. Although the magnitude of this phenomenon is related to the physical properties of a specific star-planet system, statistical studies show that tidal dissipation might shape the architecture of hot Jupiter systems during the stellar lifetime on the main sequence. The efficiency of tidal dissipation remains poorly constrained in star-planet systems. Stellar interior models show that the dissipation of dynamical tides in radiation zones could be the dominant mechanism driving planetary orbital decay. These theoretical predictions can be verified with the transit timing method. We acquired new precise transit mid-times for five planets. They were previously identified as the best candidates for which orbital decay might be detected. Analysis of the timing data allowed us to place tighter constraints on the orbital decay rate. No statistically significant changes in their orbital periods were detected for all five hot Jupiters in systems HAT-P-23, KELT-1, KELT-16, WASP-18, and WASP-103. For planets HAT-P-23 b, WASP-18 b, and WASP-103 b, observations show that the mechanism of the dynamical tides dissipation probably does not operate in their host stars, preventing them from rapid orbital decay. This finding aligns with the models of stellar interiors of F-type stars, in which dynamical tides are not fully damped due to convective cores. For KELT-16 b, the span of transit timing data was not long enough to verify the theoretical predictions. KELT-1 b was identified as a potential laboratory for studying the dissipative tidal interactions of inertial waves in a convective layer. |\n",
       "|<p style=\"color:green\"> **ERROR** </p>| <p style=\"color:green\">affiliation error: mpia.affiliation_verifications: 'Heidelberg' keyword not found.</p> |"
      ],
      "text/plain": [
       "<IPython.core.display.Markdown object>"
      ]
     },
     "metadata": {},
     "output_type": "display_data"
    },
    {
     "data": {
      "text/markdown": [
       "\n",
       "|||\n",
       "|---:|:---|\n",
       "| [![arXiv](https://img.shields.io/badge/arXiv-arXiv:2209.10609-b31b1b.svg)](https://arxiv.org/abs/arXiv:2209.10609) | **Period Change Rates of Large Magellanic Cloud Cepheids using MESA**  |\n",
       "|| F. Espinoza-Arancibia, et al. -- incl., <mark>P. Torres</mark> |\n",
       "|*Appeared on*| *2022-09-23*|\n",
       "|*Comments*| *19 pages, 17 figures. Accepted by MNRAS*|\n",
       "|**Abstract**| Pulsating stars, such as Cepheids and RR Lyrae, offer us a window to measure and study changes due to stellar evolution. In this work, we study the former by calculating a set of evolutionary tracks of stars with an initial mass of 4 to 7 $M_\\odot$, varying the initial rotation rate and metallicity, using the stellar evolution code Modules for Experiments in Stellar Astrophysics (MESA). Using Radial Stellar Pulsations (RSP), a recently added functionality of MESA, we obtained theoretical instability strip (IS) edges and linear periods for the radial fundamental mode. Period-age, period-age-temperature, period-luminosity, and period-luminosity-temperature relationships were derived for three rotation rates and metallicities, showing a dependence on crossing number, position in the IS, rotation, and metallicity. We calculated period change rates (PCRs) based on the linear periods from RSP. We compared our models with literature results using the Geneva code, and found large differences, as expected due to the different implementations of rotation between codes. In addition, we compared our theoretical PCRs with those measured in our recent work for Large Magellanic Cloud Cepheids. We found good overall agreement, even though our models do not reach the short-period regime exhibited by the empirical data. Implementations of physical processes not yet included in our models, such as pulsation-driven mass loss, an improved treatment of convection that may lead to a better description of the instability strip edges, as well as consideration of a wider initial mass range, could all help improve the agreement with the observed PCRs. |\n",
       "|<p style=\"color:green\"> **ERROR** </p>| <p style=\"color:green\">affiliation error: mpia.affiliation_verifications: 'Heidelberg' keyword not found.</p> |"
      ],
      "text/plain": [
       "<IPython.core.display.Markdown object>"
      ]
     },
     "metadata": {},
     "output_type": "display_data"
    },
    {
     "data": {
      "text/markdown": [
       "\n",
       "|||\n",
       "|---:|:---|\n",
       "| [![arXiv](https://img.shields.io/badge/arXiv-arXiv:2209.10697-b31b1b.svg)](https://arxiv.org/abs/arXiv:2209.10697) | **SsODNet: The Solar system Open Database Network**  |\n",
       "|| J. Berthier, B. Carry, <mark>M. Mahlke</mark>, J. Normand |\n",
       "|*Appeared on*| *2022-09-23*|\n",
       "|*Comments*| **|\n",
       "|**Abstract**| The sample of Solar system objects has dramatically increased over the last decade. The amount of measured properties (e.g., diameter, taxonomy, rotation period, thermal inertia) has grown even faster. However, this wealth of information is spread over a myriad of articles, under many different designations per object. We provide a solution to the identification of Solar system objects from any of their multiple names or designations. We also compile and rationalize their properties to provide an easy access to them. We aim to continuously update the database as new measurements become available. We built a Web Service, SsODNet, that offers four access points, each corresponding to an identified necessity in the community: name resolution (quaero), compilation of a large corpus of properties (datacloud), determination of the best estimate among compiled values (ssoCard), and statistical description of the population (ssoBFT). The SsODNet interfaces are fully operational and freely accessible to everyone. The name resolver quaero translates any of the ~5.3 million designations of objects into their current official designation. The datacloud compiles about 105 million parameters (osculating and proper elements, pair and family membership, diameter, albedo, mass, density, rotation period, spin coordinates, phase function parameters, colors, taxonomy, thermal inertia, and Yarkovsky drift) from over 3,000 articles (and growing). For each of the known asteroids and dwarf planets (~1.2 million), a ssoCard providing a single best-estimate for each parameter is available. The SsODNet service provides these resources in a fraction of second upon query. Finally, the large ssoBFT table compiles all the best-estimates in a single table for population-wide studies. |\n",
       "|<p style=\"color:green\"> **ERROR** </p>| <p style=\"color:green\">affiliation error: mpia.affiliation_verifications: 'Heidelberg' keyword not found.</p> |"
      ],
      "text/plain": [
       "<IPython.core.display.Markdown object>"
      ]
     },
     "metadata": {},
     "output_type": "display_data"
    },
    {
     "data": {
      "text/markdown": [
       "\n",
       "|||\n",
       "|---:|:---|\n",
       "| [![arXiv](https://img.shields.io/badge/arXiv-arXiv:2209.10714-b31b1b.svg)](https://arxiv.org/abs/arXiv:2209.10714) | **A Spectroscopic Modelling Method for the Detached Eclipsing Binaries to  Derive Atmospheric Parameters**  |\n",
       "|| Xiang-Lei Chen, et al. -- incl., <mark>A-Li Luo</mark>, <mark>Xiao-Bin Zhang</mark> |\n",
       "|*Appeared on*| *2022-09-23*|\n",
       "|*Comments*| *14 pages, 21 figures, accepted by A&A*|\n",
       "|**Abstract**| Based on luminosity contributions, we develop a spectroscopic modelling method to derive atmospheric parameters of component stars in binary systems. The method is designed for those spectra of binaries which show double-lined features due to the radial velocities differences between the component stars. We first derive the orbital parameters and the stellar radii by solving the light and radial velocity curves. Then the luminosity contributions in different phases can be calculated. The synthesised double-lined spectra model is constructed by superposing theoretical single-star spectra according to the luminosity contributions. Finally, we derive the atmospheric parameters of each component star by the model fitting method. For multi-epoch double-lined spectra observed by the Large sky Area Multi-Object Spectroscopic Telescope (LAMOST) Medium Resolution Survey ($R \\sim 7500$), our method gives robust results for detached eclipsing binary systems observed in different orbital phases. Furthermore, this method can also be applied to other spectroscopic data with different resolutions as long as the systems are detached eclipsing binaries with nearly spherical stars. |\n",
       "|<p style=\"color:green\"> **ERROR** </p>| <p style=\"color:green\">affiliation error: mpia.affiliation_verifications: 'Heidelberg' keyword not found.</p> |"
      ],
      "text/plain": [
       "<IPython.core.display.Markdown object>"
      ]
     },
     "metadata": {},
     "output_type": "display_data"
    },
    {
     "data": {
      "text/markdown": [
       "\n",
       "|||\n",
       "|---:|:---|\n",
       "| [![arXiv](https://img.shields.io/badge/arXiv-arXiv:2209.10721-b31b1b.svg)](https://arxiv.org/abs/arXiv:2209.10721) | **Return of 4U~1730--22 after 49 years silence: the peculiar burst  properties of the 2021/2022 outbursts observed by Insight-HXMT**  |\n",
       "|| Yu-Peng Chen, et al. -- incl., <mark>Shu Zhang</mark>, <mark>Shuang-Nan Zhang</mark>, <mark>Ling-Da Kong</mark>, <mark>Jian Li</mark>, <mark>Zhao-Sheng Li</mark>, <mark>Lian Tao</mark> |\n",
       "|*Appeared on*| *2022-09-23*|\n",
       "|*Comments*| *arXiv admin note: substantial text overlap with arXiv:2208.13556; text overlap with arXiv:2208.12124*|\n",
       "|**Abstract**| After in quiescence for 49 years, 4U~1730--22 became active and had two outbursts in 2021 \\& 2022; ten thermonuclear X-ray bursts were detected with Insight-HXMT. Among them, the faintest burst showed a double-peaked profile, placing the source as the 5th accreting neutron star (NS) exhibiting double/triple-peaked type-I X-ray bursts; the other bursts showed photospheric radius expansion (PRE). The properties of double-peaked non-PRE burst indicate that it could be related to a stalled burning front. For the five bright PRE bursts, apart from the emission from the neutron star (NS) surface, we find the residuals both in the soft ($<$3 keV) and hard ($>$10 keV) X-ray band. Time-resolved spectroscopy reveals that the excess can be attributed to an enhanced pre-burst/persistent emission or the Comptonization of the burst emission by the corona/boundary-layer. We find, the burst emission shows a rise until the photosphere touches down to the NS surface rather than the theoretical predicted constant Eddington luminosity. The shortage of the burst emission in the early rising phase is beyond the occlusion by the disk. We speculate that the findings above correspond to that the obscured part (not only the lower part) of the NS surface is exposed to the line of sight due to the evaporation of the obscured material by the burst emission, or the burst emission is anisotropic ($\\xi>1$) in the burst early phase. In addition, based on the average flux of PRE bursts at their touch-down time, we derive a distance estimation as 10.4 kpc. |\n",
       "|<p style=\"color:green\"> **ERROR** </p>| <p style=\"color:green\">affiliation error: mpia.affiliation_verifications: 'Heidelberg' keyword not found.</p> |"
      ],
      "text/plain": [
       "<IPython.core.display.Markdown object>"
      ]
     },
     "metadata": {},
     "output_type": "display_data"
    },
    {
     "data": {
      "text/markdown": [
       "\n",
       "|||\n",
       "|---:|:---|\n",
       "| [![arXiv](https://img.shields.io/badge/arXiv-arXiv:2209.10760-b31b1b.svg)](https://arxiv.org/abs/arXiv:2209.10760) | **Radio Jet Proper-motion Analysis of Nine Distant Quasars above Redshift  3.5**  |\n",
       "|| <mark>Yingkang Zhang</mark>, et al. |\n",
       "|*Appeared on*| *2022-09-23*|\n",
       "|*Comments*| *28 pages, 4 figures, 8 tables. To appear in ApJ*|\n",
       "|**Abstract**| Up to now, jet kinematic studies of radio quasars have barely reached beyond the redshift range at $z>3.5$. This significantly limits our knowledge of high-redshift jets, which can provide key information for understanding the jet nature and the growth of the black holes in the early Universe. In this paper, we selected 9 radio-loud quasars at $z>3.5$ which display milliarcsec-scale jet morphology. We provided evidence on the source nature by presenting high-resolution very long baseline interferometry (VLBI) images of the sample at 8.4~GHz frequency and making spectral index maps. We also consider Gaia optical positions that are available for 7 out of the 9 quasars, for a better identification of the jet components within the radio structures. We find that 6 sources can be classified as core--jet blazars. The remaining 3 objects are more likely young, jetted radio sources, compact symmetric objects. By including multi-epoch archival VLBI data, we also obtained jet component proper motions of the sample and estimated the jet kinematic and geometric parameters (Doppler factor, Lorentz factor, viewing angle). Our results show that at $z>3.5$, the jet apparent transverse speeds do not exceed 20 times the speed of light ($c$). This is consistent with earlier high-redshift quasar measurements in the literature and the tendency derived from low-redshift blazars that fast jet speeds ($>40\\,c$) only occur at low redshifts. The results from this paper contribute to the understanding of the cosmological evolution of radio AGN. |\n",
       "|<p style=\"color:green\"> **ERROR** </p>| <p style=\"color:green\">affiliation error: mpia.affiliation_verifications: 'Heidelberg' keyword not found.</p> |"
      ],
      "text/plain": [
       "<IPython.core.display.Markdown object>"
      ]
     },
     "metadata": {},
     "output_type": "display_data"
    },
    {
     "data": {
      "text/markdown": [
       "\n",
       "|||\n",
       "|---:|:---|\n",
       "| [![arXiv](https://img.shields.io/badge/arXiv-arXiv:2209.10819-b31b1b.svg)](https://arxiv.org/abs/arXiv:2209.10819) | **Structure in the Magnetic Field of the Milky Way Disk and Halo traced by  Faraday Rotation**  |\n",
       "|| John M. Dickey, et al. -- incl., <mark>Jo-Anne C. Brown</mark> |\n",
       "|*Appeared on*| *2022-09-23*|\n",
       "|*Comments*| *37 pages, 26 figures, Ap. J. accepted*|\n",
       "|**Abstract**| Magnetic fields in the ionized medium of the disk and halo of the Milky Way impose Faraday rotation on linearly polarized radio emission. We compare two surveys mapping the Galactic Faraday rotation, one showing the rotation measures of extragalactic sources seen through the Galaxy (from Hutschenreuter et al 2022), and one showing the Faraday depth of the diffuse Galactic synchrotron emission from the Global Magneto-Ionic Medium Survey. Comparing the two data sets in 5deg x 10deg bins shows good agreement at intermediate latitudes, 10 < |b| < 50 deg, and little correlation between them at lower and higher latitudes. Where they agree, both tracers show clear patterns as a function of Galactic longitude: in the Northern Hemisphere a strong sin(2 x longitude) pattern, and in the Southern hemisphere a sin(longitude + pi) pattern. Pulsars with height above or below the plane |z| > 300 pc show similar longitude dependence in their rotation measures. Nearby non-thermal structures show rotation measure shadows as does the Orion-Eridanus superbubble. We describe families of dynamo models that could explain the observed patterns in the two hemispheres. We suggest that a field reversal, known to cross the plane a few hundred pc inside the solar circle, could shift to positive z with increasing Galactic radius to explain the sin(2xlongitude) pattern in the Northern Hemisphere. Correlation shows that rotation measures from extragalactic sources are one to two times the corresponding rotation measure of the diffuse emission, implying Faraday complexity along some lines of sight, especially in the Southern hemisphere. |\n",
       "|<p style=\"color:green\"> **ERROR** </p>| <p style=\"color:green\">affiliation error: mpia.affiliation_verifications: 'Heidelberg' keyword not found.</p> |"
      ],
      "text/plain": [
       "<IPython.core.display.Markdown object>"
      ]
     },
     "metadata": {},
     "output_type": "display_data"
    },
    {
     "data": {
      "text/markdown": [
       "\n",
       "|||\n",
       "|---:|:---|\n",
       "| [![arXiv](https://img.shields.io/badge/arXiv-arXiv:2209.10832-b31b1b.svg)](https://arxiv.org/abs/arXiv:2209.10832) | **The Origin of the Photospheric Emission of GRB 220426A**  |\n",
       "|| Xin-Ying Song, <mark>Shuang-Nan Zhang</mark>, Ming-Yu Ge, <mark>Shu Zhang</mark> |\n",
       "|*Appeared on*| *2022-09-23*|\n",
       "|*Comments*| *15 pages, 7 figures, accepted for publication in MNRAS on 2022 September 20*|\n",
       "|**Abstract**| GRB 220426A is a bright gamma-ray burst (GRB) dominated by the photospheric emission. We perform several tests to speculate the origin of this photospheric emission. The dimensionless entropy $\\eta$ is large, which is not usual if we assume that it is a pure hot fireball launched by neutrino-antineutrino annihilation mechanism only. Moreover, the outflow has larger $\\eta$ with lower luminosity $L$ in the first few seconds, so that the trend of time-resolved $\\eta-L$ can not be described as a monotonically positive correlation between $\\eta$ and $L$. A hybrid outflow with almost completely thermalized Poynting flux could account for the quasi-thermal spectrum as well as large $\\eta$. More importantly, the existence of magnetic field could affect the proton density and neutron-proton coupling effect, so that it could account for the observed trend of time-resolved $\\eta-L$. The other origins for the photospheric emission, such as non-dissipative hybrid outflow or magnetic reconnection, are not supported because their radiation efficiencies are low, which is not consistent with non-detection of the afterglow for GRB 220426A. Therefore, we think the hybrid outflow may be the most likely origin. |\n",
       "|<p style=\"color:green\"> **ERROR** </p>| <p style=\"color:green\">affiliation error: mpia.affiliation_verifications: 'Heidelberg' keyword not found.</p> |"
      ],
      "text/plain": [
       "<IPython.core.display.Markdown object>"
      ]
     },
     "metadata": {},
     "output_type": "display_data"
    },
    {
     "data": {
      "text/markdown": [
       "\n",
       "|||\n",
       "|---:|:---|\n",
       "| [![arXiv](https://img.shields.io/badge/arXiv-arXiv:2209.10853-b31b1b.svg)](https://arxiv.org/abs/arXiv:2209.10853) | **Supermassive Black Hole and Broad-line Region in NGC~5548: Results from  Five-season Reverberation Mapping**  |\n",
       "|| Ka-Xing Lu, et al. -- incl., <mark>Yan-Rong Li</mark>, <mark>Sha-Sha Li</mark>, <mark>Jian-Guo Wang</mark>, <mark>Zhi-Xiang Zhang</mark> |\n",
       "|*Appeared on*| *2022-09-23*|\n",
       "|*Comments*| *23 pages, 15 figures, accepted for publication in ApJS*|\n",
       "|**Abstract**| NGC 5548 is one of the active galactic nuclei (AGN) selected for our long-term spectroscopic monitoring with the Lijiang 2.4~m telescope, aiming at investigating the origin and evolution of the broad-line regions (BLRs), accurately measuring the mass of the supermassive black holes (SMBHs), and understanding structure and evolution of the AGN. We have performed five-season observations for NGC~5548 with the median sampling interval ranging from 1.25 to 3 days. The light curves of the 5100~\\AA\\ continuum and broad emission lines are measured after subtracting contamination of the host galaxy starlight. The time lags of the broad He~{\\sc ii}, He~{\\sc i}, H$\\gamma$, and H$\\beta$ lines with respect to the 5100~\\AA\\ continuum are obtained for each season and their mean time lags over the five seasons are 0.69, 4.66, 4.60, 8.43 days, respectively. The H$\\gamma$ and H$\\beta$ velocity-resolved lag profiles in the seasons of 2015, 2018, 2019, and 2021 are constructed, from which an ``M-shaped'' structure is found in 2015 but disappears after 2018. Our five-season reverberation mapping (RM) yields an averaged virial SMBH mass of $M_\\bullet/10^7M_\\odot=14.22$, with a small standard deviation of $1.89$. By combining the previous 18 RM campaigns and our five-season campaign for NGC~5548, we find that there exists a time lag of 3.5~years between the changes in the BLR size and optical luminosity. In addition, we also construct the BLR radius$-$luminosity relation and the virial relation for NGC~5548. |\n",
       "|<p style=\"color:green\"> **ERROR** </p>| <p style=\"color:green\">affiliation error: mpia.affiliation_verifications: 'Heidelberg' keyword not found.</p> |"
      ],
      "text/plain": [
       "<IPython.core.display.Markdown object>"
      ]
     },
     "metadata": {},
     "output_type": "display_data"
    },
    {
     "data": {
      "text/markdown": [
       "\n",
       "|||\n",
       "|---:|:---|\n",
       "| [![arXiv](https://img.shields.io/badge/arXiv-arXiv:2209.10882-b31b1b.svg)](https://arxiv.org/abs/arXiv:2209.10882) | **HyperGal: hyperspectral scene modeling for supernova typing with the  Integral Field Spectrograph SEDmachine**  |\n",
       "|| J. Lezmy, et al. -- incl., <mark>M. Smith</mark> |\n",
       "|*Appeared on*| *2022-09-23*|\n",
       "|*Comments*| *14 pages, 17 figures, submitted to Astronomy & Astrophysics*|\n",
       "|**Abstract**| Recent developments in time domain astronomy, like the Zwicky Transient Facility, have made possible a daily scan of the entire visible sky, leading to the discovery of hundreds of new transients every night. Among them, 10 to 15 are supernovae (SNe), which have to be classified prior to cosmological use. The Spectral Energy Distribution machine (SEDm), a low resolution Integral Field Spectrograph, has been designed, built, and operated to spectroscopically classify targets detected by the ZTF main camera. The current Pysedm pipeline is limited by contamination when the transient is too close to its host galaxy core; this can lead to an incorrect typing and ultimately bias the cosmological analyses, and affect the SN sample homogeneity in terms of local environment properties. We present a new scene modeler to extract the transient spectrum from its structured background, aiming at improving the typing efficiency of the SEDm. HyperGal is a fully chromatic scene modeler, which uses pre-transient photometric images to generate a hyperspectral model of the host galaxy; it is based on the CIGALE SED fitter used as a physically-motivated spectral interpolator. The galaxy model, complemented by a point source and a diffuse background component, is projected onto the SEDm spectro-spatial observation space and adjusted to observations. The full procedure is validated on 5000 simulated cubes. We introduce the contrast as the transient-to-total flux ratio at SN location. From estimated contrast distribution of real SEDm observations, we show that HyperGal correctly classifies ~95% of SNe Ia. Compared to the standard extraction method, HyperGal correctly classifies 10% more SNe Ia. The false positive rate is less than 2%, half as much as the standard extraction method. Assuming a similar contrast distribution for core-collapse SNe, HyperGal classifies 14% (11%) additional SNe II (Ibc). |\n",
       "|<p style=\"color:green\"> **ERROR** </p>| <p style=\"color:green\">affiliation error: mpia.affiliation_verifications: 'Heidelberg' keyword not found.</p> |"
      ],
      "text/plain": [
       "<IPython.core.display.Markdown object>"
      ]
     },
     "metadata": {},
     "output_type": "display_data"
    },
    {
     "data": {
      "text/markdown": [
       "\n",
       "|||\n",
       "|---:|:---|\n",
       "| [![arXiv](https://img.shields.io/badge/arXiv-arXiv:2209.10952-b31b1b.svg)](https://arxiv.org/abs/arXiv:2209.10952) | **Flare Quasi-Periodic Pulsation Associated with Recurrent Jets**  |\n",
       "|| <mark>Dong Li</mark>, et al. -- incl., <mark>Liming Song</mark>, <mark>Xinqiao Li</mark> |\n",
       "|*Appeared on*| *2022-09-23*|\n",
       "|*Comments*| *27 pages, accepted by Frontiers in Frontiers in Astronomy and Space Sciences*|\n",
       "|**Abstract**| Quasi-periodic pulsations (QPPs), which carry time features and plasma characteristics of flare emissions, are frequently observed in light curves of solar/stellar flares. In this paper, we investigated non-stationary QPPs associated with recurrent jets during an M1.2 flare on 2022 July 14. A quasi-period of about 45$\\pm$10 s, determined by the wavelet transform technique, is simultaneously identified at wavelengths of soft/hard X-ray and microwave emissions, which are recorded by the Gravitational wave high-energy Electromagnetic Counterpart All-sky Monitor, Fermi, and the Nobeyama Radio Polarimeters, respectively. A group of recurrent jets with an intermittent cadence of about 45$\\pm$10 s are found in Atmospheric Imaging Assembly (AIA) image series at 304 {\\AA}, but they are 180-s earlier than the flare QPP. All observational facts suggest that the flare QPP could be excited by recurrent jets, and they should be associated with nonthermal electrons that are periodically accelerated by a repeated energy release process, like repetitive magnetic reconnection. Moreover, the same quasi-period is discovered at double footpoints connected by a hot flare loop in AIA 94 {\\AA}, and the phase speed is measured to 1420 km/s. Based on the differential emission measure, the average temperatures, number densities, and magnetic field strengths at the loop top and footpoint are estimated to 7.7/6.7 MK, 7.5/3.6*10^{10} cm ^{-3}, and 143/99 G, respectively. Our measurements indicate that the 45-s QPP is probably modulated by the kink-mode wave of the flare loop. |\n",
       "|<p style=\"color:green\"> **ERROR** </p>| <p style=\"color:green\">affiliation error: mpia.affiliation_verifications: 'Heidelberg' keyword not found.</p> |"
      ],
      "text/plain": [
       "<IPython.core.display.Markdown object>"
      ]
     },
     "metadata": {},
     "output_type": "display_data"
    },
    {
     "data": {
      "text/markdown": [
       "\n",
       "|||\n",
       "|---:|:---|\n",
       "| [![arXiv](https://img.shields.io/badge/arXiv-arXiv:2209.10989-b31b1b.svg)](https://arxiv.org/abs/arXiv:2209.10989) | **Parameterisations of thermal bomb explosions for core-collapse  supernovae and 56Ni production**  |\n",
       "|| <mark>Liliya Imasheva</mark>, H.-Thomas Janka, Achim Weiss |\n",
       "|*Appeared on*| *2022-09-23*|\n",
       "|*Comments*| *24 pages, 12 figures*|\n",
       "|**Abstract**| Thermal bombs are a widely used method to artificially trigger explosions of core-collapse supernovae (CCSNe) to determine their nucleosynthesis or ejecta and remnant properties. Recently, their use in spherically symmetric (1D) hydrodynamic simulations led to the result that {56,57}Ni and 44Ti are massively underproduced compared to observational estimates for Supernova 1987A, if the explosions are slow, i.e., if the explosion mechanism of CCSNe releases the explosion energy on long timescales. It was concluded that rapid explosions are required to match observed abundances, i.e., the explosion mechanism must provide the CCSN energy nearly instantaneously on timescales of some ten to order 100 ms. This result, if valid, would disfavor the neutrino-heating mechanism, which releases the CCSN energy on timescales of seconds. Here, we demonstrate by 1D hydrodynamic simulations and nucleosynthetic post-processing that these conclusions are a consequence of disregarding the initial collapse of the stellar core in the thermal-bomb modelling before the bomb releases the explosion energy. We demonstrate that the anti-correlation of 56Ni yield and energy-injection timescale vanishes when the initial collapse is included and that it can even be reversed, i.e., more 56Ni is made by slower explosions, when the collapse proceeds to small radii similar to those where neutrino heating takes place in CCSNe. We also show that the 56Ni production in thermal-bomb explosions is sensitive to the chosen mass cut and that a fixed mass layer or fixed volume for the energy deposition cause only secondary differences. Moreover, we propose a most appropriate setup for thermal bombs. |\n",
       "|<p style=\"color:green\"> **ERROR** </p>| <p style=\"color:green\">affiliation error: mpia.affiliation_verifications: 'Heidelberg' keyword not found.</p> |"
      ],
      "text/plain": [
       "<IPython.core.display.Markdown object>"
      ]
     },
     "metadata": {},
     "output_type": "display_data"
    },
    {
     "data": {
      "text/markdown": [
       "\n",
       "|||\n",
       "|---:|:---|\n",
       "| [![arXiv](https://img.shields.io/badge/arXiv-arXiv:2209.11005-b31b1b.svg)](https://arxiv.org/abs/arXiv:2209.11005) | **Choked jet model for the neutrino emission associated with Tidal  Disruption Events**  |\n",
       "|| <mark>Jian-He Zheng</mark>, Xiang-Yu Wang, <mark>Ruo-Yu Liu</mark> |\n",
       "|*Appeared on*| *2022-09-23*|\n",
       "|*Comments*| *9 pages, 4 figures, submitted, comments are welcome*|\n",
       "|**Abstract**| Three tidal disruption event (TDE) candidates (AT2019dsg, AT2019fdr, AT2019aalc) have been found to be coincident with high energy astrophysical neutrinos in multi-messenger follow-ups. Recent studies suggest the presence of a quasi-spherical, optically thick envelope around the supermassive black holes in TDEs, resulted from stellar debris after the disruption. We study whether the neutrino signal can be explained by choked relativistic jets inside the envelope. While powerful jets, such as that in Swift J1644+57, can successfully break out the envelope, those with relatively weak power could be choked by the envelope. Choked jets can still accelerate cosmic rays through internal shocks or reverse shocks deep in the envelope, which further produce high-energy neutrinos via interaction with the thermal photons in the envelope. We explore the parameter space of the jets that can produce detectable neutrino flux while being choked. Under reasonable assumption about the envelope mass, we find that the cumulative neutrino numbers of three TDEs are consistent with the expected range imposed by observations. Compared with other proposed models, the relativistic bulk motion of the jets in our model can magnify the neutrino flux by Lorentz boosting. The neutrino time delay relative to the optical peak time of TDEs can be explained as the jet propagation time in the envelope before being choked. The discovery of TDE-associated neutrino events may suggest that jets might have been commonly formed in TDEs, as expected from super-Eddington accretion, but most of them are too weak to break out of the envelopes. |\n",
       "|<p style=\"color:green\"> **ERROR** </p>| <p style=\"color:green\">affiliation error: mpia.affiliation_verifications: 'Heidelberg' keyword not found.</p> |"
      ],
      "text/plain": [
       "<IPython.core.display.Markdown object>"
      ]
     },
     "metadata": {},
     "output_type": "display_data"
    },
    {
     "data": {
      "text/markdown": [
       "\n",
       "|||\n",
       "|---:|:---|\n",
       "| [![arXiv](https://img.shields.io/badge/arXiv-arXiv:2209.11008-b31b1b.svg)](https://arxiv.org/abs/arXiv:2209.11008) | **7Be detection in the 2021 outburst of RS Oph**  |\n",
       "|| P. Molaro, et al. -- incl., <mark>M. Hernanz</mark> |\n",
       "|*Appeared on*| *2022-09-23*|\n",
       "|*Comments*| *Accepted 2022 September 17. Received 2022 September 16; in original form 2022 April 20. 12 pages, 13 figures*|\n",
       "|**Abstract**| The recurrent nova RS Oph underwent a new outburst on August 8, 2021, reaching a visible brightness of V = 4.8 mag. Observations of the 2021 outburst made with the high resolution UVES spectrograph at the Kueyen-UT2 telescope of ESO-VLT in Paranal enabled detection of the possible presence of 7Be freshly made in the thermonuclear runaway reactions. The 7Be yields can be estimated in N(Be)/N(H) = 5.7 x 10^(-6), which are close to the lowest yields measured in classical novae so far. 7Be is short-lived and decays only into 7Li. By means of a spectrum taken during the nebular phase we estimated an ejected mass of about 1.1 x 10^(-5) Msun, providing an amount of about 4.4x 10^(-10) Msun of 7Li created in the 2021 event. Recurrent novae of the kind of RS Oph may synthesize slightly lower amount of 7Li per event as classical novae, but occur 10^3 times more frequently. The recurrent novae fraction is in the range of 10-30% and they could have contributed to the making of 7Li we observe today. The detection of 7Be in RS Oph provides further support to the recent suggestion that novae are the most effective source of 7Li in the Galaxy. |\n",
       "|<p style=\"color:green\"> **ERROR** </p>| <p style=\"color:green\">affiliation error: mpia.affiliation_verifications: 'Heidelberg' keyword not found.</p> |"
      ],
      "text/plain": [
       "<IPython.core.display.Markdown object>"
      ]
     },
     "metadata": {},
     "output_type": "display_data"
    },
    {
     "data": {
      "text/markdown": [
       "\n",
       "|||\n",
       "|---:|:---|\n",
       "| [![arXiv](https://img.shields.io/badge/arXiv-arXiv:2209.11050-b31b1b.svg)](https://arxiv.org/abs/arXiv:2209.11050) | **A catalog of new Blazar candidates with Open Universe by High School  students**  |\n",
       "|| L. Fronte, et al. -- incl., <mark>Liceo Scientifico Statale U. Morin</mark>, <mark>Technische Universitat Muenchen</mark>, <mark>Lichtenbergstrasse 2a</mark>, <mark>D-85748 Garching bei Muenchen</mark> |\n",
       "|*Appeared on*| *2022-09-23*|\n",
       "|*Comments*| *Proceedings of the 12th Cosmic Ray International Symposium (CRIS 2022), 12-16 September 2022, Naples (Italy). Send correspondence to: michele.doro@unipd.it, giommipaolo@gmail.com*|\n",
       "|**Abstract**| Blazars are active galactic nuclei whose ultra-relativistic jets are coaligned with the observer direction. They emit throughout the whole e.m. spectrum, from radio waves to VHE gamma rays. Not all blazars are discovered. In this work, we propose a catalog of 54 new candidates based on the association of HE gamma ray emission and radio, X-ray an optical signatures. The relevance of this work is also that it was performed by four high school students from the Liceo Scientifico Statale Ugo Morin in Venice, Italy using the open-source platform Open Universe, in collaboration with the University of Padova. The framework of the activity is the Italian MIUR PCTO programme. The success of this citizen-science experience and results are hereafter reported and discussed. |\n",
       "|<p style=\"color:green\"> **ERROR** </p>| <p style=\"color:green\">affiliation error: mpia.affiliation_verifications: 'Heidelberg' keyword not found.</p> |"
      ],
      "text/plain": [
       "<IPython.core.display.Markdown object>"
      ]
     },
     "metadata": {},
     "output_type": "display_data"
    },
    {
     "data": {
      "text/markdown": [
       "\n",
       "|||\n",
       "|---:|:---|\n",
       "| [![arXiv](https://img.shields.io/badge/arXiv-arXiv:2209.11078-b31b1b.svg)](https://arxiv.org/abs/arXiv:2209.11078) | **Harnessing Unresolved Lensed Quasars: The Mathematical Foundation of the  Fluctuation Curves**  |\n",
       "|| Satadru Bag, Wuhyun Sohn, Arman Shafieloo, <mark>Kai Liao</mark> |\n",
       "|*Appeared on*| *2022-09-23*|\n",
       "|*Comments*| *20 pages, 8 figures, 1 table*|\n",
       "|**Abstract**| Strong gravitational lensed quasars (QSOs) have emerged as powerful and novel cosmic probes as they can deliver crucial cosmological information, such as a measurement of the Hubble constant, independent of other probes. Although the upcoming LSST survey is expected to discover $10^3-10^4$ lensed QSOs, a large fraction will remain unresolved due to seeing. The stochastic nature of the quasar intrinsic flux makes it challenging to identify lensed ones and measure the time delays using unresolved light curve data only. In this regard, Bag et al (2022) introduced a data-driven technique based on the minimization of the fluctuation in the reconstructed image light curves. In this article, we delve deeper into the mathematical foundation of this approach. We show that the lensing signal in the fluctuation curve is dominated by the auto-correlation function (ACF) of the derivative of the joint light curve. This explains why the fluctuation curve enables the detection of the lensed QSOs only using the joint light curve, without making assumptions about QSO flux variability, nor requiring any additional information. We show that the ACF of the derivative of the joint light curve is more reliable than the ACF of the joint light curve itself because intrinsic quasar flux variability shows significant auto-correlation up to a few hundred days (as they follow a red power spectrum). In addition, we show that the minimization of fluctuation approach provides even better precision and recall as compared to the ACF of the derivative of the joint light curve when the data have significant observational noise. |\n",
       "|<p style=\"color:green\"> **ERROR** </p>| <p style=\"color:green\">affiliation error: mpia.affiliation_verifications: 'Heidelberg' keyword not found.</p> |"
      ],
      "text/plain": [
       "<IPython.core.display.Markdown object>"
      ]
     },
     "metadata": {},
     "output_type": "display_data"
    },
    {
     "data": {
      "text/markdown": [
       "\n",
       "|||\n",
       "|---:|:---|\n",
       "| [![arXiv](https://img.shields.io/badge/arXiv-arXiv:2209.11146-b31b1b.svg)](https://arxiv.org/abs/arXiv:2209.11146) | **MLGWSC-1: The first Machine Learning Gravitational-Wave Search Mock Data  Challenge**  |\n",
       "|| Marlin B. Schäfer, et al. -- incl., <mark>He Wang</mark>, <mark>Zong-Kuan Guo</mark>, <mark>Frank Ohme</mark> |\n",
       "|*Appeared on*| *2022-09-23*|\n",
       "|*Comments*| *25 pages, 6 figures, 4 tables, additional material available at this https URL*|\n",
       "|**Abstract**| We present the results of the first Machine Learning Gravitational-Wave Search Mock Data Challenge (MLGWSC-1). For this challenge, participating groups had to identify gravitational-wave signals from binary black hole mergers of increasing complexity and duration embedded in progressively more realistic noise. The final of the 4 provided datasets contained real noise from the O3a observing run and signals up to a duration of 20 seconds with the inclusion of precession effects and higher order modes. We present the average sensitivity distance and runtime for the 6 entered algorithms derived from 1 month of test data unknown to the participants prior to submission. Of these, 4 are machine learning algorithms. We find that the best machine learning based algorithms are able to achieve up to 95% of the sensitive distance of matched-filtering based production analyses for simulated Gaussian noise at a false-alarm rate (FAR) of one per month. In contrast, for real noise, the leading machine learning search achieved 70%. For higher FARs the differences in sensitive distance shrink to the point where select machine learning submissions outperform traditional search algorithms at FARs $\\geq 200$ per month on some datasets. Our results show that current machine learning search algorithms may already be sensitive enough in limited parameter regions to be useful for some production settings. To improve the state-of-the-art, machine learning algorithms need to reduce the false-alarm rates at which they are capable of detecting signals and extend their validity to regions of parameter space where modeled searches are computationally expensive to run. Based on our findings we compile a list of research areas that we believe are the most important to elevate machine learning searches to an invaluable tool in gravitational-wave signal detection. |\n",
       "|<p style=\"color:green\"> **ERROR** </p>| <p style=\"color:green\">affiliation error: mpia.affiliation_verifications: 'Heidelberg' keyword not found.</p> |"
      ],
      "text/plain": [
       "<IPython.core.display.Markdown object>"
      ]
     },
     "metadata": {},
     "output_type": "display_data"
    },
    {
     "data": {
      "text/markdown": [
       "\n",
       "|||\n",
       "|---:|:---|\n",
       "| [![arXiv](https://img.shields.io/badge/arXiv-arXiv:2209.11160-b31b1b.svg)](https://arxiv.org/abs/arXiv:2209.11160) | **TOI-5205b: A Jupiter transiting an M dwarf near the Convective Boundary**  |\n",
       "|| Shubham Kanodia, et al. -- incl., <mark>Suvrath Mahadevan</mark>, <mark>Jessica Libby-Roberts</mark>, <mark>Andrea S.J. Lin</mark>, <mark>Henry A. Kobulnicky</mark> |\n",
       "|*Appeared on*| *2022-09-23*|\n",
       "|*Comments*| *Submitted to ApJ. Comments are welcome. arXiv admin note: text overlap with arXiv:2203.07178*|\n",
       "|**Abstract**| We present the discovery of TOI-5205b, a transiting Jovian planet orbiting a solar metallicity M4V star, which was discovered using TESS photometry and then confirmed using a combination of precise radial velocities, ground-based photometry, spectra and speckle imaging. The host star TOI-5205 sits near the eponymous `Jao gap', which is the transition region between partially and fully-convective M dwarfs. TOI-5205b has one of the highest mass ratio for M dwarf planets with a mass ratio of almost 0.3$\\%$, as it orbits a host star that is just $0.392 \\pm 0.015$ $M_{\\odot}$. Its planetary radius is $1.03 \\pm 0.03~R_J$, while the mass is $1.08 \\pm 0.06~M_J$. Additionally, the large size of the planet orbiting a small star results in a transit depth of $\\sim 7\\%$, making it one of the deepest transits of a confirmed exoplanet orbiting a main-sequence star. The large transit depth makes TOI-5205b a compelling target to probe its atmospheric properties, as a means of tracing the potential formation pathways. While there have been radial velocity-only discoveries of giant planets around mid M dwarfs, this is the first transiting Jupiter with a mass measurement discovered around such a low-mass host star. The high mass of TOI-5205b stretches conventional theories of planet formation and disk scaling relations that cannot easily recreate the conditions required to form such planets. |\n",
       "|<p style=\"color:green\"> **ERROR** </p>| <p style=\"color:green\">affiliation error: mpia.affiliation_verifications: 'Heidelberg' keyword not found.</p> |"
      ],
      "text/plain": [
       "<IPython.core.display.Markdown object>"
      ]
     },
     "metadata": {},
     "output_type": "display_data"
    },
    {
     "data": {
      "text/markdown": [
       "\n",
       "|||\n",
       "|---:|:---|\n",
       "| [![arXiv](https://img.shields.io/badge/arXiv-arXiv:2209.10635-b31b1b.svg)](https://arxiv.org/abs/arXiv:2209.10635) | **A primordial atmospheric origin of hydrospheric deuterium enrichment on  Mars**  |\n",
       "|| Kaveh Pahlevan, et al. -- incl., <mark>Linda T. Elkins-Tanton</mark> |\n",
       "|*Appeared on*| *2022-09-23*|\n",
       "|*Comments*| *5 figures*|\n",
       "|**Abstract**| The deuterium-to-hydrogen (D/H or 2H/1H) ratio of Martian atmospheric water (~6x standard mean ocean water, SMOW) is higher than that of known sources, requiring planetary enrichment. A recent measurement by NASA's Mars Science Laboratory rover Curiosity of >3 Gyr clays yields a D/H ratio ~3x SMOW, demonstrating that most enrichment occurs early in Mars's history. As on Venus, Mars's D/H enrichment is thought to reflect preferential loss to space of 1H (protium) relative to 2H (deuterium), but the global environmental context of large and early hydrogen losses remain to be determined. Here, we apply a recent model of primordial atmosphere evolution to Mars, link the magma ocean of the accretion epoch with a subsequent water-ocean epoch, and calculate the behavior of deuterium for comparison with the observed record. We find that a ~2-3x hydrospheric deuterium-enrichment is produced if the Martian magma ocean is chemically reducing at last equilibration with the primordial atmosphere, making H2-CO the initially dominant species, with minor abundances of H2O-CO2. Reducing gases - in particular H2 - can cause greenhouse warming and prevent a water ocean from freezing immediately after the magma ocean epoch. Moreover, the pressure-temperature conditions are high enough to produce ocean-atmosphere H2O-H2 isotopic equilibrium such that surface H2O strongly concentrates deuterium relative to H2, which preferentially takes up protium and escapes from the primordial atmosphere. The proposed scenario of primordial H2-rich outgassing and escape suggests significant durations (>Myr) of chemical conditions on the Martian surface conducive to prebiotic chemistry immediately following Martian accretion. |\n",
       "|<p style=\"color:red\"> **ERROR** </p>| <p style=\"color:red\">latex error not a gzip file</p> |"
      ],
      "text/plain": [
       "<IPython.core.display.Markdown object>"
      ]
     },
     "metadata": {},
     "output_type": "display_data"
    }
   ],
   "source": [
    "import datetime\n",
    "today = str(datetime.date.today())\n",
    "logfile = f\"_build/html/logs/log-{today}.md\"\n",
    "\n",
    "\n",
    "with open(logfile, 'w') as logs:\n",
    "    # Success\n",
    "    logs.write(f'# Arxiv on Deck 2: Logs - {today}\\n\\n')\n",
    "    logs.write(\"\"\"* Arxiv had {0:,d} new papers\\n\"\"\".format(len(new_papers)))\n",
    "    logs.write(\"\"\"    * {0:,d} with possible author matches\\n\\n\"\"\".format(len(candidates)))\n",
    "    logs.write(\"## Sucessful papers\\n\\n\")\n",
    "    display(Markdown(\"## Successful papers\"))\n",
    "    success = [k[0] for k in documents]\n",
    "    for candid in candidates:\n",
    "        if candid['identifier'].split(':')[-1] in success:\n",
    "            display(candid)\n",
    "            logs.write(candid.generate_markdown_text() + '\\n\\n')\n",
    "\n",
    "    ## failed\n",
    "    logs.write(\"## Failed papers\\n\\n\")\n",
    "    display(Markdown(\"## Failed papers\"))\n",
    "    failed = sorted(failed, key=lambda x: x[1])\n",
    "    current_reason = \"\"\n",
    "    for paper, reason in failed:\n",
    "        if 'affiliation' in reason:\n",
    "            color = 'green'\n",
    "        else:\n",
    "            color = 'red'\n",
    "        data = Markdown(\n",
    "                paper.generate_markdown_text() + \n",
    "                f'\\n|<p style=\"color:{color:s}\"> **ERROR** </p>| <p style=\"color:{color:s}\">{reason:s}</p> |'\n",
    "               )\n",
    "        if reason != current_reason:\n",
    "            logs.write(f'### {reason:s} \\n\\n')\n",
    "            current_reason = reason\n",
    "        logs.write(data.data + '\\n\\n')\n",
    "        \n",
    "        # only display here the important errors (all in logs)\n",
    "        # if color in ('red',):\n",
    "        display(data)"
   ]
  },
  {
   "cell_type": "markdown",
   "id": "472d20ee",
   "metadata": {
    "papermill": {
     "duration": 0.009963,
     "end_time": "2022-09-23T05:18:33.236661",
     "exception": false,
     "start_time": "2022-09-23T05:18:33.226698",
     "status": "completed"
    },
    "tags": []
   },
   "source": [
    "## Export documents\n",
    "\n",
    "We now write the .md files and export relevant images"
   ]
  },
  {
   "cell_type": "code",
   "execution_count": 7,
   "id": "d426aed9",
   "metadata": {
    "execution": {
     "iopub.execute_input": "2022-09-23T05:18:33.258055Z",
     "iopub.status.busy": "2022-09-23T05:18:33.257457Z",
     "iopub.status.idle": "2022-09-23T05:18:33.266077Z",
     "shell.execute_reply": "2022-09-23T05:18:33.265349Z"
    },
    "papermill": {
     "duration": 0.021261,
     "end_time": "2022-09-23T05:18:33.267696",
     "exception": false,
     "start_time": "2022-09-23T05:18:33.246435",
     "status": "completed"
    },
    "tags": []
   },
   "outputs": [],
   "source": [
    "def export_markdown_summary(md: str, md_fname:str, directory: str):\n",
    "    \"\"\"Export MD document and associated relevant images\"\"\"\n",
    "    import os\n",
    "    import shutil\n",
    "    import re\n",
    "\n",
    "    if (os.path.exists(directory) and not os.path.isdir(directory)):\n",
    "        raise RuntimeError(f\"a non-directory file exists with name {directory:s}\")\n",
    "\n",
    "    if (not os.path.exists(directory)):\n",
    "        print(f\"creating directory {directory:s}\")\n",
    "        os.mkdir(directory)\n",
    "\n",
    "    fig_fnames = (re.compile(r'\\[Fig.*\\]\\((.*)\\)').findall(md) + \n",
    "                  re.compile(r'\\<img src=\"([^>\\s]*)\"[^>]*/>').findall(md))\n",
    "    for fname in fig_fnames:\n",
    "        if 'http' in fname:\n",
    "            # No need to copy online figures\n",
    "            continue\n",
    "        destdir = os.path.join(directory, os.path.dirname(fname))\n",
    "        destfname = os.path.join(destdir, os.path.basename(fname))\n",
    "        try:\n",
    "            os.makedirs(destdir)\n",
    "        except FileExistsError:\n",
    "            pass\n",
    "        shutil.copy(fname, destfname)\n",
    "    with open(os.path.join(directory, md_fname), 'w') as fout:\n",
    "        fout.write(md)\n",
    "    print(\"exported in \", os.path.join(directory, md_fname))\n",
    "    [print(\"    + \" + os.path.join(directory,fk)) for fk in fig_fnames]"
   ]
  },
  {
   "cell_type": "code",
   "execution_count": 8,
   "id": "014d04a4",
   "metadata": {
    "execution": {
     "iopub.execute_input": "2022-09-23T05:18:33.290313Z",
     "iopub.status.busy": "2022-09-23T05:18:33.289472Z",
     "iopub.status.idle": "2022-09-23T05:18:33.298817Z",
     "shell.execute_reply": "2022-09-23T05:18:33.298089Z"
    },
    "papermill": {
     "duration": 0.022094,
     "end_time": "2022-09-23T05:18:33.300356",
     "exception": false,
     "start_time": "2022-09-23T05:18:33.278262",
     "status": "completed"
    },
    "tags": []
   },
   "outputs": [
    {
     "name": "stdout",
     "output_type": "stream",
     "text": [
      "exported in  _build/html/2209.10618.md\n",
      "    + _build/html/tmp_2209.10618/./Figures/sysrem.png\n",
      "    + _build/html/tmp_2209.10618/./Figures/corner_plot_all.png\n",
      "    + _build/html/tmp_2209.10618/./Figures/SNmaps_and_template_spectra_neutral.png\n",
      "exported in  _build/html/2209.11096.md\n",
      "    + _build/html/tmp_2209.11096/./fig8.png\n",
      "    + _build/html/tmp_2209.11096/./fig2.png\n",
      "    + _build/html/tmp_2209.11096/./fig6.png\n"
     ]
    }
   ],
   "source": [
    "for paper_id, md in documents:\n",
    "    export_markdown_summary(md, f\"{paper_id:s}.md\", '_build/html/')"
   ]
  },
  {
   "cell_type": "markdown",
   "id": "f087a0a7",
   "metadata": {
    "papermill": {
     "duration": 0.01016,
     "end_time": "2022-09-23T05:18:33.320638",
     "exception": false,
     "start_time": "2022-09-23T05:18:33.310478",
     "status": "completed"
    },
    "tags": []
   },
   "source": [
    "## Display the papers\n",
    "\n",
    "Not necessary but allows for a quick check."
   ]
  },
  {
   "cell_type": "code",
   "execution_count": 9,
   "id": "fd25f625",
   "metadata": {
    "execution": {
     "iopub.execute_input": "2022-09-23T05:18:33.342968Z",
     "iopub.status.busy": "2022-09-23T05:18:33.342318Z",
     "iopub.status.idle": "2022-09-23T05:18:33.349830Z",
     "shell.execute_reply": "2022-09-23T05:18:33.349135Z"
    },
    "papermill": {
     "duration": 0.020629,
     "end_time": "2022-09-23T05:18:33.351428",
     "exception": false,
     "start_time": "2022-09-23T05:18:33.330799",
     "status": "completed"
    },
    "scrolled": false,
    "tags": []
   },
   "outputs": [
    {
     "data": {
      "text/markdown": [
       "<div class=\"macros\" style=\"visibility:hidden;\">\n",
       "$\\newcommand{\\ensuremath}{}$\n",
       "$\\newcommand{\\xspace}{}$\n",
       "$\\newcommand{\\object}[1]{\\texttt{#1}}$\n",
       "$\\newcommand{\\farcs}{{.}''}$\n",
       "$\\newcommand{\\farcm}{{.}'}$\n",
       "$\\newcommand{\\arcsec}{''}$\n",
       "$\\newcommand{\\arcmin}{'}$\n",
       "$\\newcommand{\\ion}[2]{#1#2}$\n",
       "$\\newcommand{\\textsc}[1]{\\textrm{#1}}$\n",
       "$\\newcommand{\\hl}[1]{\\textrm{#1}}$\n",
       "$\\newcommand{\\arraystretch}{1.3}$\n",
       "$\\newcommand{\\arraystretch}{1.3}$\n",
       "$\\newcommand{\\arraystretch}{1.3}$\n",
       "$\\newcommand{\\arraystretch}{1.3}$\n",
       "$\\newcommand{\\arraystretch}{1.4}$</div>\n",
       "\n",
       "<div class=\"macros\" style=\"visibility:hidden;\">\n",
       "$\\newcommand{$\\ensuremath$}{}$\n",
       "$\\newcommand{$\\xspace$}{}$\n",
       "$\\newcommand{$\\object$}[1]{\\texttt{#1}}$\n",
       "$\\newcommand{$\\farcs$}{{.}''}$\n",
       "$\\newcommand{$\\farcm$}{{.}'}$\n",
       "$\\newcommand{$\\arcsec$}{''}$\n",
       "$\\newcommand{$\\arcmin$}{'}$\n",
       "$\\newcommand{$\\ion$}[2]{#1#2}$\n",
       "$\\newcommand{$\\textsc$}[1]{\\textrm{#1}}$\n",
       "$\\newcommand{$\\hl$}[1]{\\textrm{#1}}$\n",
       "$\\newcommand{$\\arraystretch$}{1.3}$\n",
       "$\\newcommand{$\\arraystretch$}{1.3}$\n",
       "$\\newcommand{$\\arraystretch$}{1.3}$\n",
       "$\\newcommand{$\\arraystretch$}{1.3}$\n",
       "$\\newcommand{$\\arraystretch$}{1.4}$</div>\n",
       "\n",
       "\n",
       "\n",
       "<div id=\"title\">\n",
       "\n",
       "# Atmospheric characterization of the ultra-hot Jupiter WASP-33b: Detection of Ti and V emission lines and retrieval of a broadened line profile\n",
       "\n",
       "</div>\n",
       "<div id=\"comments\">\n",
       "\n",
       "[![arXiv](https://img.shields.io/badge/arXiv-2209.10618-b31b1b.svg)](https://arxiv.org/abs/2209.10618)<mark>Appeared on: 2022-09-23</mark> - _Accepted for publication in A&A_\n",
       "\n",
       "</div>\n",
       "<div id=\"authors\">\n",
       "\n",
       "D. Cont, et al. -- incl., <mark><mark>Th. Henning</mark></mark>, <mark><mark>P. Mollière</mark></mark>\n",
       "\n",
       "</div>\n",
       "<div id=\"abstract\">\n",
       "\n",
       "**Abstract:** Ultra-hot Jupiters are highly irradiated gas giant exoplanets on close-in orbits around their host stars. The dayside atmospheres of these objects strongly emit thermal radiation due to their elevated temperatures, making them prime targets for characterization by emission spectroscopy. We analyzed high-resolution spectra from CARMENES, HARPS-N, and ESPaDOnS taken over eight observation nights to study the emission spectrum of WASP-33b and draw conclusions about its atmosphere. By applying the cross-correlation technique, we detected the spectral signatures of$\\ion${Ti}{i},$\\ion${V}{i}, and a tentative signal of$\\ion${Ti}{ii}for the first time via emission spectroscopy. These detections are an important finding because of the fundamental role of Ti- and V-bearing species in the planetary energy balance. Moreover, we assessed and confirm the presence of OH,$\\ion${Fe}{i}, and$\\ion${Si}{i}from previous studies. The spectral lines are all detected in emission, which unambiguously proves the presence of an inverted temperature profile in the planetary atmosphere. By performing retrievals on the emission lines of all the detected species, we determined a relatively weak atmospheric thermal inversion extending from approximately 3400 K to 4000 K. We infer a supersolar metallicity close to 1.5 dex in the planetary atmosphere, and find that its emission signature undergoes significant line broadening with a Gaussian FWHM of about 4.5 km s$^{-1}$. Also, we find that the atmospheric temperature profile retrieved at orbital phases far from the secondary eclipse is about 300 K to 700 K cooler than that measured close to the secondary eclipse, which is consistent with different day- and nightside temperatures. Moreover, retrievals performed on the emission lines of the individual chemical species lead to consistent results, which gives additional confidence to our retrieval method. Increasing the number of species included in the retrieval and expanding the set of retrieved atmospheric parameters will further advance our understanding of exoplanet atmospheres.\n",
       "\n",
       "</div>\n",
       "\n",
       "<div id=\"div_fig1\">\n",
       "\n",
       "<img src=\"tmp_2209.10618/./Figures/sysrem.png\" alt=\"Fig1\" width=\"100%\"/>\n",
       "\n",
       "**Figure 1. -** Data reduction steps for a representative CARMENES NIR wavelength range. {\\it Panel a} shows the unprocessed spectral matrix. {\\it Panel b} is the spectral matrix after normalization and outlier correction; we mask the strongest telluric lines in this step. {\\it Panel c} shows the spectra reduced with \\texttt{SYSREM} after telluric and stellar line removal. (*SYSREM*)\n",
       "\n",
       "</div>\n",
       "<div id=\"div_fig2\">\n",
       "\n",
       "<img src=\"tmp_2209.10618/./Figures/corner_plot_all.png\" alt=\"Fig7\" width=\"100%\"/>\n",
       "\n",
       "**Figure 7. -** Posterior distributions of the atmospheric parameters from our retrieval. We used the emission lines of all the detected species (i.e., $\\ion${Ti}{i}, $\\ion${V}{i}, OH, $\\ion${Fe}{i}, $\\ion${Si}{i}, and $\\ion${Ti}{ii}). (*corner_plot_all*)\n",
       "\n",
       "</div>\n",
       "<div id=\"div_fig3\">\n",
       "\n",
       "<img src=\"tmp_2209.10618/./Figures/SNmaps_and_template_spectra_neutral.png\" alt=\"Fig11\" width=\"100%\"/>\n",
       "\n",
       "**Figure 11. -** Model spectra and S/N maps of the neutral chemical species investigated. The \\textit{left panels} show the normalized model spectra of the detected species. The presented interval 3700--17 100 $\\AA$ corresponds to the combined wavelength coverage of the instruments used. The \\textit{right panels} show the S/N maps of the neutral species that we searched for. For each species, the S/N map corresponds to the specific \\texttt{SYSREM} iteration that maximizes the detection. The detection peaks are indicated by the yellow dash-dotted lines. (*SNmaps_and_template_spectra_neutral*)\n",
       "\n",
       "</div>"
      ],
      "text/plain": [
       "<IPython.core.display.Markdown object>"
      ]
     },
     "metadata": {},
     "output_type": "display_data"
    },
    {
     "data": {
      "text/markdown": [
       "<div class=\"macros\" style=\"visibility:hidden;\">\n",
       "$\\newcommand{\\ensuremath}{}$\n",
       "$\\newcommand{\\xspace}{}$\n",
       "$\\newcommand{\\object}[1]{\\texttt{#1}}$\n",
       "$\\newcommand{\\farcs}{{.}''}$\n",
       "$\\newcommand{\\farcm}{{.}'}$\n",
       "$\\newcommand{\\arcsec}{''}$\n",
       "$\\newcommand{\\arcmin}{'}$\n",
       "$\\newcommand{\\ion}[2]{#1#2}$\n",
       "$\\newcommand{\\textsc}[1]{\\textrm{#1}}$\n",
       "$\\newcommand{\\hl}[1]{\\textrm{#1}}$</div>\n",
       "\n",
       "<div class=\"macros\" style=\"visibility:hidden;\">\n",
       "$\\newcommand{$\\ensuremath$}{}$\n",
       "$\\newcommand{$\\xspace$}{}$\n",
       "$\\newcommand{$\\object$}[1]{\\texttt{#1}}$\n",
       "$\\newcommand{$\\farcs$}{{.}''}$\n",
       "$\\newcommand{$\\farcm$}{{.}'}$\n",
       "$\\newcommand{$\\arcsec$}{''}$\n",
       "$\\newcommand{$\\arcmin$}{'}$\n",
       "$\\newcommand{$\\ion$}[2]{#1#2}$\n",
       "$\\newcommand{$\\textsc$}[1]{\\textrm{#1}}$\n",
       "$\\newcommand{$\\hl$}[1]{\\textrm{#1}}$</div>\n",
       "\n",
       "\n",
       "\n",
       "<div id=\"title\">\n",
       "\n",
       "#  giant stars: A long-period eccentricsubstellar companion to KIC 3526061 and a stellar companion to HD 187878\n",
       "\n",
       "</div>\n",
       "<div id=\"comments\">\n",
       "\n",
       "[![arXiv](https://img.shields.io/badge/arXiv-2209.11096-b31b1b.svg)](https://arxiv.org/abs/2209.11096)<mark>Appeared on: 2022-09-23</mark> - _14 pages, 11 figures. Accepted to A&A_\n",
       "\n",
       "</div>\n",
       "<div id=\"authors\">\n",
       "\n",
       "Marie Karjalainen, et al. -- incl., <mark><mark>Saskia Hekker</mark></mark>\n",
       "\n",
       "</div>\n",
       "<div id=\"abstract\">\n",
       "\n",
       "**Abstract:** Our knowledge of populations and occurrence of planets orbiting evolvedintermediate-mass stars is still incomplete. In 2010 westarted a planet-search program among 95 giant starsobserved by the\\textit{Kepler}mission to increase the sampleof giant stars with planets and with reliable estimates of stellar massesand radii.We present the two systems KIC 3526061 and HD 187878from our planet-search program for which we could characterise theircompanions.We used precise stellar radial velocity measurements taken with fourdifferent echelle spectrographs to derive an orbital solution.We used\\textit{Gaia}astrometric measurements to obtain the inclinationof the HD 187878 system and\\textit{Kepler}photometric observations to estimate the stellarmass and radius.We report the discovery of a sub-stellar and a stellar companion around twointermediate-mass red giant branch stars. KIC 3526061 b is most likely a brown dwarf with aminimum mass of$18.15\\pm 0.44 {\\rm{M_{Jupiter}}}$in a long-periodeccentric orbit, with the orbital period$3552_{-135}^{+158}$d andorbital eccentricity$e=0.85\\pm 0.01$. It is the most evolved system foundhaving a sub-stellar companion with such a large eccentricity and wide separation.HD 187878 B has a minimum mass of$78.4\\pm 2.0 {\\rm{M_{Jupiter}}}$.Combining the spectroscopic orbital parameters with the astrometric propermotion anomaly we derived an orbital inclination$i=9.8^{+0.4}_{-0.6}$deg, whichcorresponds to the companion's mass in the stellar regime of$0.51^{+0.04}_{-0.02} \\rm{M_{\\odot}}$.A sub-stellar companion of KIC 3526061 extends the sample of known red giantbranch stars with sub-stellar companions on very eccentric wide orbits andmight provide a probe of the dynamical evolution of such systems over time.\n",
       "\n",
       "</div>\n",
       "\n",
       "<div id=\"div_fig1\">\n",
       "\n",
       "<img src=\"tmp_2209.11096/./fig8.png\" alt=\"Fig7\" width=\"100%\"/>\n",
       "\n",
       "**Figure 7. -** Frequency amplitude spectra for KIC 3526061.\n",
       "Top: Bisector velocity spans. Middle: Equivalent width of the $\\ion${Ca}{ii}\n",
       "triplet lines. Bottom: Full-width at half maximum of spectral line shapes.\n",
       "For all three quantities we found variations on a similar time scale. (*Fig_BVS_FWHM_EQW*)\n",
       "\n",
       "</div>\n",
       "<div id=\"div_fig2\">\n",
       "\n",
       "<img src=\"tmp_2209.11096/./fig2.png\" alt=\"Fig2\" width=\"100%\"/>\n",
       "\n",
       "**Figure 2. -** RV measurements of KIC 3526061. Top: Data obtained from\n",
       "August 2012 to July 2021 using the TS2 spectrograph at the McDonald\n",
       "Observatory, Texas, and the HERMES spectrograph at Mercator,\n",
       "La Palma. The solid curve represents the Keplerian orbital solution.\n",
       "Bottom: RV residuals and error bars\n",
       "after removing the brown dwarf's orbital solution. (*Fig_kic_orbital*)\n",
       "\n",
       "</div>\n",
       "<div id=\"div_fig3\">\n",
       "\n",
       "<img src=\"tmp_2209.11096/./fig6.png\" alt=\"Fig6\" width=\"100%\"/>\n",
       "\n",
       "**Figure 6. -** Eccentricity versus semi-major axis for all sub-stellar companions known around\n",
       "giant host stars\n",
       "(source: https://www.lsw.uni-heidelberg.de/users/sreffert/giantplanets/giantplanets.php).\n",
       "The red asterisk shows the position of KIC 3526061 b. (*Fig_evsa*)\n",
       "\n",
       "</div>"
      ],
      "text/plain": [
       "<IPython.core.display.Markdown object>"
      ]
     },
     "metadata": {},
     "output_type": "display_data"
    }
   ],
   "source": [
    "[display(Markdown(k[1])) for k in documents];"
   ]
  },
  {
   "cell_type": "markdown",
   "id": "873873a4",
   "metadata": {
    "papermill": {
     "duration": 0.01149,
     "end_time": "2022-09-23T05:18:33.373589",
     "exception": false,
     "start_time": "2022-09-23T05:18:33.362099",
     "status": "completed"
    },
    "tags": []
   },
   "source": [
    "# Create HTML index"
   ]
  },
  {
   "cell_type": "code",
   "execution_count": 10,
   "id": "cf665672",
   "metadata": {
    "execution": {
     "iopub.execute_input": "2022-09-23T05:18:33.397400Z",
     "iopub.status.busy": "2022-09-23T05:18:33.396632Z",
     "iopub.status.idle": "2022-09-23T05:18:33.405920Z",
     "shell.execute_reply": "2022-09-23T05:18:33.405170Z"
    },
    "papermill": {
     "duration": 0.023134,
     "end_time": "2022-09-23T05:18:33.407549",
     "exception": false,
     "start_time": "2022-09-23T05:18:33.384415",
     "status": "completed"
    },
    "tags": []
   },
   "outputs": [
    {
     "name": "stdout",
     "output_type": "stream",
     "text": [
      "42  publications in the last 7 days.\n",
      "\t _build/html/2209.11096.md\n",
      "\t _build/html/2209.10618.md\n",
      "\t _build/html/2209.09914.md\n",
      "\t _build/html/2209.09823.md\n",
      "\t _build/html/2209.08242.md\n",
      "\t _build/html/2209.08120.md\n",
      "\t _build/html/2209.08106.md\n",
      "\t _build/html/2209.07962.md\n",
      "\t _build/html/2209.07931.md\n",
      "\t _build/html/2209.06833.md\n",
      "\t _build/html/2209.05814.md\n",
      "\t _build/html/2209.05593.md\n",
      "\t _build/html/2209.04304.md\n",
      "\t _build/html/2209.03367.md\n",
      "\t _build/html/2209.02872.md\n",
      "\t _build/html/2209.02725.md\n",
      "\t _build/html/2209.02722.md\n",
      "\t _build/html/2209.02092.md\n",
      "\t _build/html/2209.01125.md\n",
      "\t _build/html/2209.00828.md\n",
      "\t _build/html/2209.00363.md\n",
      "\t _build/html/2208.14927.md\n",
      "\t _build/html/2208.09335.md\n",
      "\t _build/html/2208.08872.md\n",
      "\t _build/html/2204.06393.md\n",
      "\t _build/html/2204.03335.md\n",
      "\t _build/html/2204.03253.md\n",
      "\t _build/html/2204.02998.md\n",
      "\t _build/html/2204.02109.md\n",
      "\t _build/html/2204.02017.md\n",
      "\t _build/html/2204.01824.md\n",
      "\t _build/html/2204.01758.md\n",
      "\t _build/html/2204.01245.md\n",
      "\t _build/html/2204.00793.md\n",
      "\t _build/html/2204.00342.md\n",
      "\t _build/html/2203.16959.md\n",
      "\t _build/html/2203.16856.md\n",
      "\t _build/html/2203.16735.md\n",
      "\t _build/html/2203.16734.md\n",
      "\t _build/html/2203.16504.md\n",
      "\t _build/html/2203.15822.md\n",
      "\t _build/html/2203.15811.md\n"
     ]
    }
   ],
   "source": [
    "from datetime import datetime, timedelta, timezone\n",
    "from glob import glob\n",
    "\n",
    "files = glob('_build/html/*.md')\n",
    "days = 7\n",
    "now = datetime.today()\n",
    "res = []\n",
    "for fk in files:\n",
    "    stat_result = os.stat(fk).st_ctime\n",
    "    modified = datetime.fromtimestamp(stat_result, tz=timezone.utc).replace(tzinfo=None)\n",
    "    delta = now.today() - modified\n",
    "    if delta <= timedelta(days=days):\n",
    "        res.append((delta.seconds, fk))\n",
    "res = [k[1] for k in reversed(sorted(res, key=lambda x:x[1]))]\n",
    "npub = len(res)\n",
    "print(len(res), f\" publications in the last {days:d} days.\")\n",
    "[ print('\\t', k) for k in res ];"
   ]
  },
  {
   "cell_type": "code",
   "execution_count": 11,
   "id": "52ca0208",
   "metadata": {
    "execution": {
     "iopub.execute_input": "2022-09-23T05:18:33.431009Z",
     "iopub.status.busy": "2022-09-23T05:18:33.430346Z",
     "iopub.status.idle": "2022-09-23T05:18:33.437987Z",
     "shell.execute_reply": "2022-09-23T05:18:33.437244Z"
    },
    "papermill": {
     "duration": 0.021239,
     "end_time": "2022-09-23T05:18:33.439606",
     "exception": false,
     "start_time": "2022-09-23T05:18:33.418367",
     "status": "completed"
    },
    "scrolled": false,
    "tags": []
   },
   "outputs": [],
   "source": [
    "def create_carousel(npub=4):\n",
    "    \"\"\" Generate the HTML code for a carousel with `npub` slides \"\"\"\n",
    "    carousel = [\"\"\"<section class=\"carousel\" aria-label=\"Gallery\">\"\"\",\n",
    "                \"\"\"  <ol class=\"carousel__viewport\">\"\"\",\n",
    "    ]\n",
    "    for k in range(1, npub + 1):\n",
    "        prev_ = k - 1\n",
    "        next_ = k + 1\n",
    "        if prev_ <= 0:\n",
    "            prev_ = npub\n",
    "        if next_ > npub:\n",
    "            next_ = 1\n",
    "        text  = f\"\"\"    <li id=\"carousel__slide{k}\" tabindex=\"0\" class=\"carousel__slide\">\\n\"\"\"\n",
    "        text += f\"\"\"       <div class=\"carousel__snapper\">\\n\"\"\"\n",
    "        text += f\"\"\"         <a href=\"#carousel__slide{prev_}\" class=\"carousel__prev\">Go to previous slide</a>\\n\"\"\"\n",
    "        text += f\"\"\"         <a href=\"#carousel__slide{next_}\" class=\"carousel__next\">Go to next slide</a>\\n\"\"\"\n",
    "        text += f\"\"\"         <div id=\"slide{k}_content\" class=\"md_view\" >Content {k}</div>\\n\"\"\"\n",
    "        text += f\"\"\"       </div>\\n\"\"\"\n",
    "        text += f\"\"\"    </li>\"\"\"\n",
    "        carousel.append(text)\n",
    "\n",
    "    carousel.extend([\n",
    "        \"\"\"  </ol>\"\"\",\n",
    "        \"\"\"  <aside class=\"carousel__navigation\">\"\"\",\n",
    "        \"\"\"    <ol class=\"carousel__navigation-list\">\"\"\"])\n",
    "\n",
    "    for k in range(1, npub + 1):\n",
    "        text  = f\"\"\"      <li class=\"carousel__navigation-item\">\\n\"\"\"\n",
    "        text += f\"\"\"        <a href=\"#carousel__slide{k}\" class=\"carousel__navigation-button\">Go to {k}</a>\\n\"\"\"\n",
    "        text += f\"\"\"      </li>\"\"\"\n",
    "        carousel.append(text)\n",
    "    carousel.extend([\"\"\"    </ol>\"\"\", \"\"\"  </aside>\"\"\", \"\"\"</section>\"\"\"])\n",
    "\n",
    "    return '\\n'.join(carousel)"
   ]
  },
  {
   "cell_type": "code",
   "execution_count": 12,
   "id": "a6eac5b6",
   "metadata": {
    "execution": {
     "iopub.execute_input": "2022-09-23T05:18:33.502850Z",
     "iopub.status.busy": "2022-09-23T05:18:33.502259Z",
     "iopub.status.idle": "2022-09-23T05:18:33.509055Z",
     "shell.execute_reply": "2022-09-23T05:18:33.508330Z"
    },
    "papermill": {
     "duration": 0.060074,
     "end_time": "2022-09-23T05:18:33.510645",
     "exception": false,
     "start_time": "2022-09-23T05:18:33.450571",
     "status": "completed"
    },
    "scrolled": false,
    "tags": []
   },
   "outputs": [],
   "source": [
    "carousel = create_carousel(npub)\n",
    "docs = ', '.join(['\"{0:s}\"'.format(k.split('/')[-1]) for k in res])\n",
    "slides = ', '.join([f'\"slide{k}_content\"' for k in range(1, npub + 1)])\n",
    "\n",
    "script = f\"\"\"\n",
    "const docs = [{docs}]\n",
    "\n",
    "const slides = [{slides}]\n",
    "\"\"\" + \"\"\"\n",
    "async function run() {\n",
    "    for (let i = 0; i < docs.length; i++) {\n",
    "        let file = await fetch(docs[i]);\n",
    "        let text = await file.text()\n",
    "        document.getElementById(slides[i]).innerHTML =\n",
    "            marked.parse(text);\n",
    "    }\n",
    "    hljs.highlightAll();\n",
    "}\n",
    "run()\n",
    "\"\"\"\n",
    "\n",
    "page = f\"\"\"<!doctype html>\n",
    "<html lang=\"en\">\n",
    "\n",
    "<head>\n",
    "  <meta charset=\"utf-8\">\n",
    "  <meta name=\"viewport\" content=\"width=device-width, initial-scale=1\">\n",
    "  <!-- Bootstrap CSS -->\n",
    "  <link href=\"https://cdn.jsdelivr.net/npm/bootstrap@5.0.2/dist/css/bootstrap.min.css\" rel=\"stylesheet\"\n",
    "   integrity=\"sha384-EVSTQN3/azprG1Anm3QDgpJLIm9Nao0Yz1ztcQTwFspd3yD65VohhpuuCOmLASjC\" crossorigin=\"anonymous\">\n",
    "  <!-- highlight.js CSS -->\n",
    "  <link rel=\"stylesheet\" href=\"https://cdnjs.cloudflare.com/ajax/libs/highlight.js/11.1.0/styles/default.min.css\">\n",
    "  <!-- Mathjax 3 -->\n",
    "  <script type=\"text/javascript\" id=\"MathJax-config\" src=\"mathjax_config.js\"> </script>\n",
    "  <script type=\"text/javascript\" id=\"MathJax-script\" async \n",
    "    src=\"https://cdn.jsdelivr.net/npm/mathjax@3/es5/tex-mml-chtml.js\">\n",
    "  </script>\n",
    "  <link rel=\"stylesheet\" href=\"index_carousel.css\">\n",
    "  <link rel=\"icon\" type=\"image/x-icon\" href=\"https://www.mpia.de/assets/touch-icon-32x32-a66937bcebc4e8894ebff1f41a366c7c7220fd97a38869ee0f2db65a9f59b6c1.png\">\n",
    "  <title>MPIA Arxiv on deck!</title>\n",
    "</head>\n",
    "\n",
    "<body>\n",
    "  <div id=\"header\"> <img src=\"header_banner.png\" width=\"100%\"></div>\n",
    "  <div id=\"suptitle\"> 7-day archives </div>\n",
    "  <div id=\"info\">\n",
    "    <img src=\"https://pngimg.com/uploads/github/github_PNG58.png\" height=30rem></img>\n",
    "    <a href=https://github.com/mpi-astronomy/arxiv_display style=\"color:black;\">github/mpi-astronomy/arxiv_display</a> \n",
    "  </div>\n",
    "  {carousel:s}\n",
    "</body>\n",
    "\n",
    "<!-- Render Markdown -->\n",
    "\n",
    "<body>\n",
    "  <!-- highlight.js: https://highlightjs.org/download/ -->\n",
    "  <script src=\"https://cdnjs.cloudflare.com/ajax/libs/highlight.js/11.5.0/highlight.min.js\"></script>\n",
    "  <!-- marked.js -->\n",
    "  <script src=\"https://cdn.jsdelivr.net/npm/marked/marked.min.js\"></script>\n",
    "  <script>{script:s}</script>\n",
    "</body>\n",
    "</html>\n",
    "\"\"\"\n",
    "with open(\"_build/html/index_7days.html\", 'w') as fout:\n",
    "    fout.write(page)"
   ]
  },
  {
   "cell_type": "markdown",
   "id": "1cebacbc",
   "metadata": {
    "papermill": {
     "duration": 0.010878,
     "end_time": "2022-09-23T05:18:33.532205",
     "exception": false,
     "start_time": "2022-09-23T05:18:33.521327",
     "status": "completed"
    },
    "tags": []
   },
   "source": [
    "# Debugging papers"
   ]
  },
  {
   "cell_type": "raw",
   "id": "debe7cc6",
   "metadata": {
    "papermill": {
     "duration": 0.010552,
     "end_time": "2022-09-23T05:18:33.553308",
     "exception": false,
     "start_time": "2022-09-23T05:18:33.542756",
     "status": "completed"
    },
    "tags": []
   },
   "source": [
    "raise NotImplementedError(\"Manual Stop\")"
   ]
  },
  {
   "cell_type": "raw",
   "id": "eb169192",
   "metadata": {
    "papermill": {
     "duration": 0.010614,
     "end_time": "2022-09-23T05:18:33.574485",
     "exception": false,
     "start_time": "2022-09-23T05:18:33.563871",
     "status": "completed"
    },
    "scrolled": true,
    "tags": []
   },
   "source": [
    "from IPython.display import display, Markdown\n",
    "from TexSoup import TexSoup\n",
    "import re\n",
    "\n",
    "def bracket_error(source: str):\n",
    "    \"\"\" Find problematic portions of the document \"\"\"\n",
    "    \n",
    "    print(\"len(source)\", len(source))\n",
    "    \n",
    "    # Checking header\n",
    "    begin_doc = next(re.finditer(r'\\\\begin\\{document\\}', doc.source)).span()[1]\n",
    "    header = source[:begin_doc]\n",
    "    text = header + r\"\\n\\end{document}\"\n",
    "\n",
    "    try:\n",
    "        # print(\"Header check... \", end='')\n",
    "        TexSoup(text)\n",
    "        display(Markdown(f\"**[OK]** - Header\"))\n",
    "    except:\n",
    "        raise RuntimeError(\"Error in the header\")\n",
    "        \n",
    "    # Check the text per section until the end.\n",
    "    # Do not stop and try them all.\n",
    "    \n",
    "    problematic_text = []\n",
    "    \n",
    "    sections = ([(0, begin_doc, 'until first section')] + \n",
    "                [(g.span()[0], g.span()[1], g.group()) for g in re.finditer(r'\\\\section\\{.*\\}', source)] +\n",
    "                [(g.span()[0], g.span()[1], g.group()) for g in re.finditer(r'\\\\begin\\{appendix\\}', source)]\n",
    "               )\n",
    "    sections.append([len(source), len(source), 'end'])\n",
    "    \n",
    "    sections = sorted(sections, key=lambda x: x[0])\n",
    "    \n",
    "    prev_pos, prev_name = (0, 'header')\n",
    "    parsed = []\n",
    "    \n",
    "    for span, span_end, name in sections:\n",
    "\n",
    "        if span - prev_pos <= 0:\n",
    "            continue\n",
    "            \n",
    "\n",
    "        text = source[prev_pos:span]\n",
    "        if prev_pos > begin_doc:\n",
    "            text = r\"\\n\\begin{document}\" + text + r\"\\n\\end{document}\"\n",
    "        else:\n",
    "            text = text + r\"\\n\\end{document}\"\n",
    "        try:\n",
    "            #print(f\"{prev_pos}:{prev_name}-->{span}:{name} check... \", end='')\n",
    "            parsed.append(TexSoup(text, tolerance=1))  # allow not ending env\n",
    "            display(Markdown(f\"**[OK]** - *{prev_pos}*:{prev_name} &rarr; *{span}*:{name}\"))\n",
    "            # print(\"ok\")\n",
    "\n",
    "            prev_pos = span\n",
    "            prev_name = name\n",
    "        except:\n",
    "            # print(f\"error between {prev_pos} and {span}\")\n",
    "            display(Markdown(f\"**[ERR]** *{prev_pos}*:{prev_name} &rarr; *{span}*:{name}\"))\n",
    "            problematic_text.append((prev_pos, source[prev_pos:span]))\n",
    "            prev_pos = span\n",
    "            prev_name = name\n",
    "            # raise\n",
    "    return problematic_text, parsed\n",
    "\n",
    "\n",
    "def check_environment(text, offset=0):\n",
    "    \"\"\" Check environment \"\"\"\n",
    "    env = re.compile(r\"\\\\begin\\{(?P<env>.*)\\}(.*)\\\\end\\{(?P=env)\\}\", re.DOTALL)\n",
    "\n",
    "    for match in env.finditer(text):\n",
    "        beg, end = match.span()\n",
    "        beg += offset\n",
    "        end += offset\n",
    "        envname = match.groups()[0]\n",
    "        try:\n",
    "            latex.TexSoup(match.group())\n",
    "        except Exception as e:\n",
    "            display(e)\n",
    "            print(f\"Error in {envname:s} between {beg} and {end}\")\n",
    "            return match.groups()[1], beg, end"
   ]
  },
  {
   "cell_type": "raw",
   "id": "2315e835",
   "metadata": {
    "papermill": {
     "duration": 0.010509,
     "end_time": "2022-09-23T05:18:33.595462",
     "exception": false,
     "start_time": "2022-09-23T05:18:33.584953",
     "status": "completed"
    },
    "scrolled": false,
    "tags": []
   },
   "source": [
    "import importlib\n",
    "importlib.reload(latex)\n",
    "which = \"2204.03253\"\n",
    "paper_id = f'{which:s}'\n",
    "folder = f'tmp_{paper_id:s}'\n",
    "\n",
    "if not os.path.isdir(folder):\n",
    "    folder = retrieve_document_source(f\"{paper_id}\", f'tmp_{paper_id}')\n",
    "\n",
    "try:\n",
    "    doc = latex.LatexDocument(folder, validation=validation)    \n",
    "except AffiliationError as affilerror:\n",
    "    msg = f\"ArXiv:{paper_id:s} is not an MPIA paper... \" + str(affilerror)\n",
    "    print(msg)\n",
    "\n",
    "\n",
    "# Hack because sometimes author parsing does not work well\n",
    "if (len(doc.authors) != len(paper['authors'])):\n",
    "    doc._authors = paper['authors']\n",
    "if (doc.abstract) in (None, ''):\n",
    "    doc._abstract = paper['abstract']\n",
    "\n",
    "doc.comment = get_markdown_badge(paper_id) + \" _\" + paper['comments'] + \"_\"\n",
    "doc.highlight_authors_in_list(hl_list)\n",
    "\n",
    "full_md = doc.generate_markdown_text()"
   ]
  },
  {
   "cell_type": "raw",
   "id": "dd3781db",
   "metadata": {
    "papermill": {
     "duration": 0.010446,
     "end_time": "2022-09-23T05:18:33.616505",
     "exception": false,
     "start_time": "2022-09-23T05:18:33.606059",
     "status": "completed"
    },
    "scrolled": false,
    "tags": []
   },
   "source": [
    "doc"
   ]
  },
  {
   "cell_type": "raw",
   "id": "c6eed834",
   "metadata": {
    "papermill": {
     "duration": 0.010951,
     "end_time": "2022-09-23T05:18:33.637979",
     "exception": false,
     "start_time": "2022-09-23T05:18:33.627028",
     "status": "completed"
    },
    "tags": []
   },
   "source": [
    "# [check_environment(k) for k in bracket_error(doc.source)]\n",
    "_, _, a = latex.get_content_per_section(doc.source, verbose=True)\n",
    "if not a:\n",
    "    print(\"no issues per section\")\n",
    "for ak in a:\n",
    "    r = check_environment(ak[1], offset=ak[0])\n",
    "    print(r[1], r[2])\n",
    "    print(r[0])"
   ]
  },
  {
   "cell_type": "code",
   "execution_count": null,
   "id": "71ce768a",
   "metadata": {
    "papermill": {
     "duration": 0.010408,
     "end_time": "2022-09-23T05:18:33.658762",
     "exception": false,
     "start_time": "2022-09-23T05:18:33.648354",
     "status": "completed"
    },
    "tags": []
   },
   "outputs": [],
   "source": []
  }
 ],
 "metadata": {
  "kernelspec": {
   "display_name": "Python 3.10.6 64-bit",
   "language": "python",
   "name": "python3"
  },
  "language_info": {
   "codemirror_mode": {
    "name": "ipython",
    "version": 3
   },
   "file_extension": ".py",
   "mimetype": "text/x-python",
   "name": "python",
   "nbconvert_exporter": "python",
   "pygments_lexer": "ipython3",
   "version": "3.9.13"
  },
  "papermill": {
   "default_parameters": {},
   "duration": 160.137659,
   "end_time": "2022-09-23T05:18:33.988158",
   "environment_variables": {},
   "exception": null,
   "input_path": "MPIA daily digest.ipynb",
   "output_path": "log.ipynb",
   "parameters": {},
   "start_time": "2022-09-23T05:15:53.850499",
   "version": "2.4.0"
  },
  "vscode": {
   "interpreter": {
    "hash": "e7370f93d1d0cde622a1f8e1c04877d8463912d04d973331ad4851f04de6915a"
   }
  },
  "widgets": {
   "application/vnd.jupyter.widget-state+json": {
    "state": {
     "1884864f84f6458c8d571e766db89b41": {
      "model_module": "@jupyter-widgets/base",
      "model_module_version": "2.0.0",
      "model_name": "LayoutModel",
      "state": {
       "_model_module": "@jupyter-widgets/base",
       "_model_module_version": "2.0.0",
       "_model_name": "LayoutModel",
       "_view_count": null,
       "_view_module": "@jupyter-widgets/base",
       "_view_module_version": "2.0.0",
       "_view_name": "LayoutView",
       "align_content": null,
       "align_items": null,
       "align_self": null,
       "border_bottom": null,
       "border_left": null,
       "border_right": null,
       "border_top": null,
       "bottom": null,
       "display": null,
       "flex": null,
       "flex_flow": null,
       "grid_area": null,
       "grid_auto_columns": null,
       "grid_auto_flow": null,
       "grid_auto_rows": null,
       "grid_column": null,
       "grid_gap": null,
       "grid_row": null,
       "grid_template_areas": null,
       "grid_template_columns": null,
       "grid_template_rows": null,
       "height": null,
       "justify_content": null,
       "justify_items": null,
       "left": null,
       "margin": null,
       "max_height": null,
       "max_width": null,
       "min_height": null,
       "min_width": null,
       "object_fit": null,
       "object_position": null,
       "order": null,
       "overflow": null,
       "padding": null,
       "right": null,
       "top": null,
       "visibility": null,
       "width": null
      }
     },
     "3357a35362fe4e229a438a0833b5c6d0": {
      "model_module": "@jupyter-widgets/controls",
      "model_module_version": "2.0.0",
      "model_name": "FloatProgressModel",
      "state": {
       "_dom_classes": [],
       "_model_module": "@jupyter-widgets/controls",
       "_model_module_version": "2.0.0",
       "_model_name": "FloatProgressModel",
       "_view_count": null,
       "_view_module": "@jupyter-widgets/controls",
       "_view_module_version": "2.0.0",
       "_view_name": "ProgressView",
       "bar_style": "success",
       "description": "",
       "description_allow_html": false,
       "layout": "IPY_MODEL_1884864f84f6458c8d571e766db89b41",
       "max": 24.0,
       "min": 0.0,
       "orientation": "horizontal",
       "style": "IPY_MODEL_b481d4c7b9704173a1d3bdb598d23135",
       "tabbable": null,
       "tooltip": null,
       "value": 24.0
      }
     },
     "356f5b3af78e437aa927aa9bf8962b52": {
      "model_module": "@jupyter-widgets/base",
      "model_module_version": "2.0.0",
      "model_name": "LayoutModel",
      "state": {
       "_model_module": "@jupyter-widgets/base",
       "_model_module_version": "2.0.0",
       "_model_name": "LayoutModel",
       "_view_count": null,
       "_view_module": "@jupyter-widgets/base",
       "_view_module_version": "2.0.0",
       "_view_name": "LayoutView",
       "align_content": null,
       "align_items": null,
       "align_self": null,
       "border_bottom": null,
       "border_left": null,
       "border_right": null,
       "border_top": null,
       "bottom": null,
       "display": null,
       "flex": null,
       "flex_flow": null,
       "grid_area": null,
       "grid_auto_columns": null,
       "grid_auto_flow": null,
       "grid_auto_rows": null,
       "grid_column": null,
       "grid_gap": null,
       "grid_row": null,
       "grid_template_areas": null,
       "grid_template_columns": null,
       "grid_template_rows": null,
       "height": null,
       "justify_content": null,
       "justify_items": null,
       "left": null,
       "margin": null,
       "max_height": null,
       "max_width": null,
       "min_height": null,
       "min_width": null,
       "object_fit": null,
       "object_position": null,
       "order": null,
       "overflow": null,
       "padding": null,
       "right": null,
       "top": null,
       "visibility": null,
       "width": null
      }
     },
     "78c10bcd37764b628e92b6b83d83ab03": {
      "model_module": "@jupyter-widgets/controls",
      "model_module_version": "2.0.0",
      "model_name": "HTMLStyleModel",
      "state": {
       "_model_module": "@jupyter-widgets/controls",
       "_model_module_version": "2.0.0",
       "_model_name": "HTMLStyleModel",
       "_view_count": null,
       "_view_module": "@jupyter-widgets/base",
       "_view_module_version": "2.0.0",
       "_view_name": "StyleView",
       "background": null,
       "description_width": "",
       "font_size": null,
       "text_color": null
      }
     },
     "7d15c464e4e34e13840867f0196147b8": {
      "model_module": "@jupyter-widgets/base",
      "model_module_version": "2.0.0",
      "model_name": "LayoutModel",
      "state": {
       "_model_module": "@jupyter-widgets/base",
       "_model_module_version": "2.0.0",
       "_model_name": "LayoutModel",
       "_view_count": null,
       "_view_module": "@jupyter-widgets/base",
       "_view_module_version": "2.0.0",
       "_view_name": "LayoutView",
       "align_content": null,
       "align_items": null,
       "align_self": null,
       "border_bottom": null,
       "border_left": null,
       "border_right": null,
       "border_top": null,
       "bottom": null,
       "display": null,
       "flex": null,
       "flex_flow": null,
       "grid_area": null,
       "grid_auto_columns": null,
       "grid_auto_flow": null,
       "grid_auto_rows": null,
       "grid_column": null,
       "grid_gap": null,
       "grid_row": null,
       "grid_template_areas": null,
       "grid_template_columns": null,
       "grid_template_rows": null,
       "height": null,
       "justify_content": null,
       "justify_items": null,
       "left": null,
       "margin": null,
       "max_height": null,
       "max_width": null,
       "min_height": null,
       "min_width": null,
       "object_fit": null,
       "object_position": null,
       "order": null,
       "overflow": null,
       "padding": null,
       "right": null,
       "top": null,
       "visibility": null,
       "width": null
      }
     },
     "8566aa92edff4a988f5d53e137740d17": {
      "model_module": "@jupyter-widgets/controls",
      "model_module_version": "2.0.0",
      "model_name": "HBoxModel",
      "state": {
       "_dom_classes": [],
       "_model_module": "@jupyter-widgets/controls",
       "_model_module_version": "2.0.0",
       "_model_name": "HBoxModel",
       "_view_count": null,
       "_view_module": "@jupyter-widgets/controls",
       "_view_module_version": "2.0.0",
       "_view_name": "HBoxView",
       "box_style": "",
       "children": [
        "IPY_MODEL_d0a08d0d9cd04a95b395173267600919",
        "IPY_MODEL_3357a35362fe4e229a438a0833b5c6d0",
        "IPY_MODEL_e45ef49bc8bd49a694da0a68c04b58f1"
       ],
       "layout": "IPY_MODEL_7d15c464e4e34e13840867f0196147b8",
       "tabbable": null,
       "tooltip": null
      }
     },
     "a4bbeae41d5c486580c4a88c12e9b262": {
      "model_module": "@jupyter-widgets/controls",
      "model_module_version": "2.0.0",
      "model_name": "HTMLStyleModel",
      "state": {
       "_model_module": "@jupyter-widgets/controls",
       "_model_module_version": "2.0.0",
       "_model_name": "HTMLStyleModel",
       "_view_count": null,
       "_view_module": "@jupyter-widgets/base",
       "_view_module_version": "2.0.0",
       "_view_name": "StyleView",
       "background": null,
       "description_width": "",
       "font_size": null,
       "text_color": null
      }
     },
     "b481d4c7b9704173a1d3bdb598d23135": {
      "model_module": "@jupyter-widgets/controls",
      "model_module_version": "2.0.0",
      "model_name": "ProgressStyleModel",
      "state": {
       "_model_module": "@jupyter-widgets/controls",
       "_model_module_version": "2.0.0",
       "_model_name": "ProgressStyleModel",
       "_view_count": null,
       "_view_module": "@jupyter-widgets/base",
       "_view_module_version": "2.0.0",
       "_view_name": "StyleView",
       "bar_color": null,
       "description_width": ""
      }
     },
     "d0a08d0d9cd04a95b395173267600919": {
      "model_module": "@jupyter-widgets/controls",
      "model_module_version": "2.0.0",
      "model_name": "HTMLModel",
      "state": {
       "_dom_classes": [],
       "_model_module": "@jupyter-widgets/controls",
       "_model_module_version": "2.0.0",
       "_model_name": "HTMLModel",
       "_view_count": null,
       "_view_module": "@jupyter-widgets/controls",
       "_view_module_version": "2.0.0",
       "_view_name": "HTMLView",
       "description": "",
       "description_allow_html": false,
       "layout": "IPY_MODEL_356f5b3af78e437aa927aa9bf8962b52",
       "placeholder": "​",
       "style": "IPY_MODEL_a4bbeae41d5c486580c4a88c12e9b262",
       "tabbable": null,
       "tooltip": null,
       "value": "100%"
      }
     },
     "e45ef49bc8bd49a694da0a68c04b58f1": {
      "model_module": "@jupyter-widgets/controls",
      "model_module_version": "2.0.0",
      "model_name": "HTMLModel",
      "state": {
       "_dom_classes": [],
       "_model_module": "@jupyter-widgets/controls",
       "_model_module_version": "2.0.0",
       "_model_name": "HTMLModel",
       "_view_count": null,
       "_view_module": "@jupyter-widgets/controls",
       "_view_module_version": "2.0.0",
       "_view_name": "HTMLView",
       "description": "",
       "description_allow_html": false,
       "layout": "IPY_MODEL_fdd45ebbae9743329374cc42155f0828",
       "placeholder": "​",
       "style": "IPY_MODEL_78c10bcd37764b628e92b6b83d83ab03",
       "tabbable": null,
       "tooltip": null,
       "value": " 24/24 [02:13&lt;00:00,  6.56s/it]"
      }
     },
     "fdd45ebbae9743329374cc42155f0828": {
      "model_module": "@jupyter-widgets/base",
      "model_module_version": "2.0.0",
      "model_name": "LayoutModel",
      "state": {
       "_model_module": "@jupyter-widgets/base",
       "_model_module_version": "2.0.0",
       "_model_name": "LayoutModel",
       "_view_count": null,
       "_view_module": "@jupyter-widgets/base",
       "_view_module_version": "2.0.0",
       "_view_name": "LayoutView",
       "align_content": null,
       "align_items": null,
       "align_self": null,
       "border_bottom": null,
       "border_left": null,
       "border_right": null,
       "border_top": null,
       "bottom": null,
       "display": null,
       "flex": null,
       "flex_flow": null,
       "grid_area": null,
       "grid_auto_columns": null,
       "grid_auto_flow": null,
       "grid_auto_rows": null,
       "grid_column": null,
       "grid_gap": null,
       "grid_row": null,
       "grid_template_areas": null,
       "grid_template_columns": null,
       "grid_template_rows": null,
       "height": null,
       "justify_content": null,
       "justify_items": null,
       "left": null,
       "margin": null,
       "max_height": null,
       "max_width": null,
       "min_height": null,
       "min_width": null,
       "object_fit": null,
       "object_position": null,
       "order": null,
       "overflow": null,
       "padding": null,
       "right": null,
       "top": null,
       "visibility": null,
       "width": null
      }
     }
    },
    "version_major": 2,
    "version_minor": 0
   }
  }
 },
 "nbformat": 4,
 "nbformat_minor": 5
}