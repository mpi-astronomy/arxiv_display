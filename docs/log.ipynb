{
 "cells": [
  {
   "cell_type": "markdown",
   "id": "92bcb855",
   "metadata": {
    "papermill": {
     "duration": 0.003785,
     "end_time": "2025-04-10T04:11:57.614747",
     "exception": false,
     "start_time": "2025-04-10T04:11:57.610962",
     "status": "completed"
    },
    "tags": []
   },
   "source": [
    "# MPIA Arxiv on Deck 2\n",
    "\n",
    "Contains the steps to produce the paper extractions."
   ]
  },
  {
   "cell_type": "code",
   "execution_count": 1,
   "id": "3a0d6e11",
   "metadata": {
    "execution": {
     "iopub.execute_input": "2025-04-10T04:11:57.622406Z",
     "iopub.status.busy": "2025-04-10T04:11:57.621681Z",
     "iopub.status.idle": "2025-04-10T04:11:58.175763Z",
     "shell.execute_reply": "2025-04-10T04:11:58.175119Z"
    },
    "papermill": {
     "duration": 0.559034,
     "end_time": "2025-04-10T04:11:58.177026",
     "exception": false,
     "start_time": "2025-04-10T04:11:57.617992",
     "status": "completed"
    },
    "tags": []
   },
   "outputs": [],
   "source": [
    "# Imports\n",
    "import os\n",
    "from IPython.display import Markdown, display\n",
    "from tqdm.notebook import tqdm\n",
    "import warnings\n",
    "from PIL import Image \n",
    "import re\n",
    "\n",
    "# requires arxiv_on_deck_2\n",
    "\n",
    "from arxiv_on_deck_2.arxiv2 import (get_new_papers, \n",
    "                                    get_paper_from_identifier,\n",
    "                                    retrieve_document_source, \n",
    "                                    get_markdown_badge)\n",
    "from arxiv_on_deck_2 import (latex,\n",
    "                             latex_bib,\n",
    "                             mpia,\n",
    "                             highlight_authors_in_list)\n",
    "\n",
    "# Sometimes images are really big\n",
    "Image.MAX_IMAGE_PIXELS = 1000000000 "
   ]
  },
  {
   "cell_type": "code",
   "execution_count": 2,
   "id": "22aa9d44",
   "metadata": {
    "execution": {
     "iopub.execute_input": "2025-04-10T04:11:58.184453Z",
     "iopub.status.busy": "2025-04-10T04:11:58.183909Z",
     "iopub.status.idle": "2025-04-10T04:11:58.192032Z",
     "shell.execute_reply": "2025-04-10T04:11:58.191523Z"
    },
    "papermill": {
     "duration": 0.012848,
     "end_time": "2025-04-10T04:11:58.193059",
     "exception": false,
     "start_time": "2025-04-10T04:11:58.180211",
     "status": "completed"
    },
    "tags": []
   },
   "outputs": [],
   "source": [
    "# Some useful definitions.\n",
    "\n",
    "class AffiliationWarning(UserWarning):\n",
    "    pass\n",
    "\n",
    "class AffiliationError(RuntimeError):\n",
    "    pass\n",
    "\n",
    "def validation(source: str):\n",
    "    \"\"\"Raises error paper during parsing of source file\n",
    "    \n",
    "    Allows checks before parsing TeX code.\n",
    "    \n",
    "    Raises AffiliationWarning\n",
    "    \"\"\"\n",
    "    check = mpia.affiliation_verifications(source, verbose=True)\n",
    "    if check is not True:\n",
    "        raise AffiliationError(\"mpia.affiliation_verifications: \" + check)\n",
    "\n",
    "        \n",
    "warnings.simplefilter('always', AffiliationWarning)\n",
    "\n",
    "\n",
    "def get_markdown_qrcode(paper_id: str):\n",
    "    \"\"\" Generate a qrcode to the arxiv page using qrserver.com\n",
    "    \n",
    "    :param paper: Arxiv paper\n",
    "    :returns: markdown text\n",
    "    \"\"\"\n",
    "    url = r\"https://api.qrserver.com/v1/create-qr-code/?size=100x100&data=\"\n",
    "    txt = f\"\"\"<img src={url}\"https://arxiv.org/abs/{paper_id}\">\"\"\"\n",
    "    txt = '<div id=\"qrcode\">' + txt + '</div>'\n",
    "    return txt\n",
    "\n",
    "\n",
    "def clean_non_western_encoded_characters_commands(text: str) -> str:\n",
    "    \"\"\" Remove non-western encoded characters from a string\n",
    "    List may need to grow.\n",
    "    \n",
    "    :param text: the text to clean\n",
    "    :return: the cleaned text\n",
    "    \"\"\"\n",
    "    text = re.sub(r\"(\\\\begin{CJK}{UTF8}{gbsn})(.*?)(\\\\end{CJK})\", r\"\\2\", text)\n",
    "    return text\n",
    "\n",
    "\n",
    "def get_initials(name: str) -> str:\n",
    "    \"\"\" Get the short name, e.g., A.-B. FamName\n",
    "    :param name: full name\n",
    "    :returns: initials\n",
    "    \"\"\"\n",
    "    initials = []\n",
    "    # account for non western names often in ()\n",
    "    if '(' in name:\n",
    "        name = clean_non_western_encoded_characters_commands(name)\n",
    "        suffix = re.findall(r\"\\((.*?)\\)\", name)[0]\n",
    "        name = name.replace(f\"({suffix})\", '')\n",
    "    else:\n",
    "        suffix = ''\n",
    "    split = name.split()\n",
    "    for token in split[:-1]:\n",
    "        if '-' in token:\n",
    "            current = '-'.join([k[0] + '.' for k in token.split('-')])\n",
    "        else:\n",
    "            current = token[0] + '.'\n",
    "        initials.append(current)\n",
    "    initials.append(split[-1].strip())\n",
    "    if suffix:\n",
    "        initials.append(f\"({suffix})\")\n",
    "    return ' '.join(initials)"
   ]
  },
  {
   "cell_type": "markdown",
   "id": "14bd6310",
   "metadata": {
    "papermill": {
     "duration": 0.00282,
     "end_time": "2025-04-10T04:11:58.198818",
     "exception": false,
     "start_time": "2025-04-10T04:11:58.195998",
     "status": "completed"
    },
    "tags": []
   },
   "source": [
    "## get list of arxiv paper candidates\n",
    "\n",
    "We use the MPIA mitarbeiter list webpage from mpia.de to get author names\n",
    "We then get all new papers from Arxiv and match authors"
   ]
  },
  {
   "cell_type": "code",
   "execution_count": 3,
   "id": "7ea813a8",
   "metadata": {
    "execution": {
     "iopub.execute_input": "2025-04-10T04:11:58.205595Z",
     "iopub.status.busy": "2025-04-10T04:11:58.205195Z",
     "iopub.status.idle": "2025-04-10T04:12:18.428195Z",
     "shell.execute_reply": "2025-04-10T04:12:18.427586Z"
    },
    "papermill": {
     "duration": 20.227754,
     "end_time": "2025-04-10T04:12:18.429446",
     "exception": false,
     "start_time": "2025-04-10T04:11:58.201692",
     "status": "completed"
    },
    "tags": []
   },
   "outputs": [],
   "source": [
    "# deal with the author list and edge cases of people that cannot be consistent on their name  \n",
    "\n",
    "def filter_non_scientists(name: str) -> bool:\n",
    "    \"\"\" Loose filter on expected authorships\n",
    "\n",
    "    removing IT, administration, technical staff\n",
    "    :param name: name\n",
    "    :returns: False if name is not a scientist\n",
    "    \"\"\"\n",
    "    remove_list = ['Licht', 'Binroth', 'Witzel', 'Jordan',\n",
    "                   'Zähringer', 'Scheerer', 'Hoffmann', 'Düe',\n",
    "                   'Hellmich', 'Enkler-Scharpegge', 'Witte-Nguy',\n",
    "                   'Dehen', 'Beckmann', 'Jager', 'Jäger'\n",
    "                  ]\n",
    "\n",
    "    for k in remove_list:\n",
    "        if k in name:\n",
    "            return False\n",
    "    return True\n",
    "\n",
    "def add_author_to_list(author_list: list) -> list:\n",
    "    \"\"\" Add author to list if not already in list\n",
    "    \n",
    "    :param author: author name\n",
    "    :param author_list: list of authors\n",
    "    :returns: updated list of authors\n",
    "    \"\"\"\n",
    "    add_list = ['T. Henning']\n",
    "\n",
    "    for author in add_list:\n",
    "        if author not in author_list:\n",
    "            author_list.append(author)\n",
    "    return author_list\n",
    "\n",
    "# get list from MPIA website\n",
    "# filter for non-scientists (mpia.get_mpia_mitarbeiter_list() does some filtering)\n",
    "mpia_authors = [k[1] for k in mpia.get_mpia_mitarbeiter_list() if filter_non_scientists(k[1])]\n",
    "# add some missing author because of inconsistencies in their MPIA name and author name on papers\n",
    "mpia_authors = add_author_to_list(mpia_authors)"
   ]
  },
  {
   "cell_type": "code",
   "execution_count": 4,
   "id": "2645e73a",
   "metadata": {
    "execution": {
     "iopub.execute_input": "2025-04-10T04:12:18.436852Z",
     "iopub.status.busy": "2025-04-10T04:12:18.436446Z",
     "iopub.status.idle": "2025-04-10T04:12:19.002238Z",
     "shell.execute_reply": "2025-04-10T04:12:19.001619Z"
    },
    "papermill": {
     "duration": 0.570562,
     "end_time": "2025-04-10T04:12:19.003310",
     "exception": false,
     "start_time": "2025-04-10T04:12:18.432748",
     "status": "completed"
    },
    "tags": []
   },
   "outputs": [
    {
     "name": "stdout",
     "output_type": "stream",
     "text": [
      "Y. Wang  ->  Y. Wang  |  ['Y. Wang']\n",
      "T. Kalda  ->  T. Kalda  |  ['T. Kalda']\n",
      "J. Li  ->  J. Li  |  ['J. Li']\n",
      "Y. Wang  ->  Y. Wang  |  ['Y. Wang']\n",
      "Y. Wang  ->  Y. Wang  |  ['Y. Wang']\n",
      "J. Müller-Horn  ->  J. Müller-Horn  |  ['J. Müller-Horn']\n",
      "K. El-Badry  ->  K. El-Badry  |  ['K. El-Badry']\n",
      "H.-W. Rix  ->  H.-W. Rix  |  ['H.-W. Rix']\n",
      "R. Seeburger  ->  L. R. Seeburger  |  ['R. Seeburger']\n",
      "J. Villasenor  ->  J. Villasenor  |  ['J. Villasenor']\n"
     ]
    },
    {
     "name": "stdout",
     "output_type": "stream",
     "text": [
      "Arxiv has 60 new papers today\n",
      "          6 with possible author matches\n"
     ]
    }
   ],
   "source": [
    "new_papers = get_new_papers()\n",
    "# add manual references\n",
    "add_paper_refs = []\n",
    "new_papers.extend([get_paper_from_identifier(k) for k in add_paper_refs])\n",
    "\n",
    "def robust_call(fn, value, *args, **kwargs):\n",
    "    try:\n",
    "        return fn(value, *args, **kwargs)\n",
    "    except Exception:\n",
    "        return value\n",
    "\n",
    "candidates = []\n",
    "for paperk in new_papers:\n",
    "    # Check author list with their initials\n",
    "    normed_author_list = [robust_call(mpia.get_initials, k) for k in paperk['authors']]\n",
    "    hl_authors = highlight_authors_in_list(normed_author_list, mpia_authors, verbose=True)\n",
    "    matches = [(hl, orig) for hl, orig in zip(hl_authors, paperk['authors']) if 'mark' in hl]\n",
    "    paperk['authors'] = hl_authors\n",
    "    if matches:\n",
    "        # only select paper if an author matched our list\n",
    "        candidates.append(paperk)\n",
    "print(\"\"\"Arxiv has {0:,d} new papers today\"\"\".format(len(new_papers)))        \n",
    "print(\"\"\"          {0:,d} with possible author matches\"\"\".format(len(candidates)))"
   ]
  },
  {
   "cell_type": "markdown",
   "id": "3543b34a",
   "metadata": {
    "papermill": {
     "duration": 0.003065,
     "end_time": "2025-04-10T04:12:19.009884",
     "exception": false,
     "start_time": "2025-04-10T04:12:19.006819",
     "status": "completed"
    },
    "tags": []
   },
   "source": [
    "# Parse sources and generate relevant outputs\n",
    "\n",
    "From the candidates, we do the following steps:\n",
    "* get their tarball from ArXiv (and extract data)\n",
    "* find the main .tex file: find one with \\documentclass{...} (sometimes it's non trivial)\n",
    "* Check affiliations with :func:`validation`, which uses :func:`mpia.affiliation_verifications`\n",
    "* If passing the affiliations: we parse the .tex source\n",
    "   * inject sub-documents into the main (flatten the main document)\n",
    "   * parse structure, extract information (title, abstract, authors, figures...)\n",
    "   * handles `\\graphicspath` if provided\n",
    "* Generate the .md document."
   ]
  },
  {
   "cell_type": "code",
   "execution_count": 5,
   "id": "9576b79e",
   "metadata": {
    "execution": {
     "iopub.execute_input": "2025-04-10T04:12:19.016840Z",
     "iopub.status.busy": "2025-04-10T04:12:19.016627Z",
     "iopub.status.idle": "2025-04-10T04:14:06.285057Z",
     "shell.execute_reply": "2025-04-10T04:14:06.284323Z"
    },
    "papermill": {
     "duration": 107.276681,
     "end_time": "2025-04-10T04:14:06.289583",
     "exception": false,
     "start_time": "2025-04-10T04:12:19.012902",
     "status": "completed"
    },
    "scrolled": false,
    "tags": []
   },
   "outputs": [
    {
     "data": {
      "application/vnd.jupyter.widget-view+json": {
       "model_id": "e19a4c32339e4cc3ae540d9071218789",
       "version_major": 2,
       "version_minor": 0
      },
      "text/plain": [
       "  0%|          | 0/6 [00:00<?, ?it/s]"
      ]
     },
     "metadata": {},
     "output_type": "display_data"
    },
    {
     "name": "stdout",
     "output_type": "stream",
     "text": [
      "Retrieving document from  https://arxiv.org/e-print/2504.06309\n"
     ]
    },
    {
     "name": "stdout",
     "output_type": "stream",
     "text": [
      "extracting tarball to tmp_2504.06309..."
     ]
    },
    {
     "name": "stdout",
     "output_type": "stream",
     "text": [
      " done.\n",
      "Retrieving document from  https://arxiv.org/e-print/2504.06352\n"
     ]
    },
    {
     "name": "stdout",
     "output_type": "stream",
     "text": [
      "extracting tarball to tmp_2504.06352..."
     ]
    },
    {
     "name": "stdout",
     "output_type": "stream",
     "text": [
      " done.\n"
     ]
    },
    {
     "name": "stdout",
     "output_type": "stream",
     "text": [
      "T. Kalda  ->  T. Kalda  |  ['T. Kalda']\n"
     ]
    },
    {
     "name": "stdout",
     "output_type": "stream",
     "text": [
      "Found 88 bibliographic references in tmp_2504.06352/ghosh_ms.bbl.\n",
      "Retrieving document from  https://arxiv.org/e-print/2504.06415\n"
     ]
    },
    {
     "name": "stdout",
     "output_type": "stream",
     "text": [
      "extracting tarball to tmp_2504.06415... done.\n",
      "Retrieving document from  https://arxiv.org/e-print/2504.06616\n"
     ]
    },
    {
     "name": "stdout",
     "output_type": "stream",
     "text": [
      "extracting tarball to tmp_2504.06616..."
     ]
    },
    {
     "name": "stdout",
     "output_type": "stream",
     "text": [
      " done.\n",
      "Retrieving document from  https://arxiv.org/e-print/2504.06968\n"
     ]
    },
    {
     "name": "stdout",
     "output_type": "stream",
     "text": [
      "extracting tarball to tmp_2504.06968... done.\n",
      "Retrieving document from  https://arxiv.org/e-print/2504.06973\n"
     ]
    },
    {
     "name": "stdout",
     "output_type": "stream",
     "text": [
      "extracting tarball to tmp_2504.06973..."
     ]
    },
    {
     "name": "stdout",
     "output_type": "stream",
     "text": [
      " done.\n"
     ]
    },
    {
     "name": "stdout",
     "output_type": "stream",
     "text": [
      "J. Müller-Horn  ->  J. Müller-Horn  |  ['J. Müller-Horn']\n",
      "K. El-Badry  ->  K. El-Badry  |  ['K. El-Badry']\n",
      "H.-W. Rix  ->  H.-W. Rix  |  ['H.-W. Rix']\n",
      "R. Seeburger  ->  L. R. Seeburger  |  ['R. Seeburger']\n",
      "J. Villasenor  ->  J. Villasenor  |  ['J. Villasenor']\n"
     ]
    },
    {
     "name": "stdout",
     "output_type": "stream",
     "text": [
      "Found 190 bibliographic references in tmp_2504.06973/main.bbl.\n",
      "Issues with the citations\n",
      "syntax error in line 60: '=' expected\n"
     ]
    }
   ],
   "source": [
    "documents = []\n",
    "failed = []\n",
    "for paper in tqdm(candidates):\n",
    "    # debug crap\n",
    "    paper['identifier'] = paper['identifier'].lower().replace('arxiv:', '').replace(r'\\n', '').strip()\n",
    "    paper_id = paper['identifier']\n",
    "    \n",
    "    folder = f'tmp_{paper_id}'\n",
    "\n",
    "    try:\n",
    "        if not os.path.isdir(folder):\n",
    "            folder = retrieve_document_source(f\"{paper_id}\", f'tmp_{paper_id}')\n",
    "        \n",
    "        try:\n",
    "            doc = latex.LatexDocument(folder, validation=validation)    \n",
    "        except AffiliationError as affilerror:\n",
    "            msg = f\"ArXiv:{paper_id:s} is not an MPIA paper... \" + str(affilerror)\n",
    "            failed.append((paper, \"affiliation error: \" + str(affilerror) ))\n",
    "            continue\n",
    "        \n",
    "        # Hack because sometimes author parsing does not work well\n",
    "        if (len(doc.authors) != len(paper['authors'])):\n",
    "            doc._authors = paper['authors']\n",
    "        else:\n",
    "            # highlight authors (FIXME: doc.highlight_authors)\n",
    "            # done on arxiv paper already\n",
    "            doc._authors = highlight_authors_in_list(\n",
    "                [get_initials(k) for k in doc.authors], \n",
    "                mpia_authors, verbose=True)\n",
    "        if (doc.abstract) in (None, ''):\n",
    "            doc._abstract = paper['abstract']\n",
    "            \n",
    "        doc.comment = (get_markdown_badge(paper_id) + \n",
    "                       \"<mark>Appeared on: \" + paper['date'] + \"</mark> - \")\n",
    "        if paper['comments']:\n",
    "            doc.comment += \" _\" + paper['comments'] + \"_\"\n",
    "        \n",
    "        full_md = doc.generate_markdown_text()\n",
    "        \n",
    "        full_md += get_markdown_qrcode(paper_id)\n",
    "        \n",
    "        # replace citations\n",
    "        try:\n",
    "            bibdata = latex_bib.LatexBib.from_doc(doc)\n",
    "            full_md = latex_bib.replace_citations(full_md, bibdata)\n",
    "        except Exception as e:\n",
    "            print(\"Issues with the citations\")\n",
    "            print(e)\n",
    "        \n",
    "        documents.append((paper_id, full_md))\n",
    "    except Exception as e:\n",
    "        warnings.warn(latex.LatexWarning(f\"{paper_id:s} did not run properly\\n\" +\n",
    "                                         str(e)\n",
    "                                        ))\n",
    "        failed.append((paper, \"latex error \" + str(e)))"
   ]
  },
  {
   "cell_type": "markdown",
   "id": "2505a25c",
   "metadata": {
    "papermill": {
     "duration": 0.003963,
     "end_time": "2025-04-10T04:14:06.297564",
     "exception": false,
     "start_time": "2025-04-10T04:14:06.293601",
     "status": "completed"
    },
    "tags": []
   },
   "source": [
    "### Export the logs\n",
    "\n",
    "Throughout, we also keep track of the logs per paper. see `logs-{today date}.md` "
   ]
  },
  {
   "cell_type": "code",
   "execution_count": 6,
   "id": "d733828a",
   "metadata": {
    "execution": {
     "iopub.execute_input": "2025-04-10T04:14:06.306249Z",
     "iopub.status.busy": "2025-04-10T04:14:06.306018Z",
     "iopub.status.idle": "2025-04-10T04:14:06.322796Z",
     "shell.execute_reply": "2025-04-10T04:14:06.322173Z"
    },
    "papermill": {
     "duration": 0.022435,
     "end_time": "2025-04-10T04:14:06.323876",
     "exception": false,
     "start_time": "2025-04-10T04:14:06.301441",
     "status": "completed"
    },
    "scrolled": false,
    "tags": []
   },
   "outputs": [
    {
     "data": {
      "text/markdown": [
       "## Successful papers"
      ],
      "text/plain": [
       "<IPython.core.display.Markdown object>"
      ]
     },
     "metadata": {},
     "output_type": "display_data"
    },
    {
     "data": {
      "text/markdown": [
       "\n",
       "|||\n",
       "|---:|:---|\n",
       "| [![arXiv](https://img.shields.io/badge/arXiv-2504.06352-b31b1b.svg)](https://arxiv.org/abs/2504.06352) | **Quadrupole signature as a kinematic diagnostic to constrain bar properties : implication for the Milky Way**  |\n",
       "|| S. Ghosh, et al. -- incl., <mark>T. Kalda</mark> |\n",
       "|*Appeared on*| *2025-04-10*|\n",
       "|*Comments*| *15 pages, 1 table, 12 figures (including appendix), comments are welcome!*|\n",
       "|**Abstract**|            The presence of a 'butterfly' or a quadrupole structure in the stellar mean radial velocity field of the Milky Way is well known from the Gaia and the APOGEE surveys. Past studies indicated that a stellar bar can excite such a quadrupole feature in the $<V_R>$ distribution. However, a systematic study investigating the co-evolution of bar and quadrupole structure is largely missing. Furthermore, whether this quadrupole structure in $<V_R>$ can be used as a robust kinematic diagnostic to constrain bar properties, particularly for the Milky Way, is still beyond our grasp. Here, we investigate the bar-induced quadrupole feature using a suite of isolated N-body models forming prominent bars and a sample of Milky Way-like barred galaxies from the TNG50 cosmological simulation. We demonstrate that the properties of the quadrupole (strength, length, and orientation) are strongly correlated with the bar properties, regardless of the choice of the stellar tracer population; thereby making the quadrupole feature an excellent kinematic diagnostic for constraining the bar properties. In presence of spirals, the estimator which takes into account the phase-angle of m=4 Fourier moment, serves as a more appropriate estimator for measuring the length of the quadrupole. Further, we constructed a novel Gaia-like mock dataset from a simulated bar model while incorporating the dust extinction and the broad trends of observational errors of the Gaia survey. The quadrupole properties (strength and length) estimated from those Gaia-like mock data are larger (~35-45 percent) when compared with their true values. We determined that the majority of this effect is due to the uncertainty in parallax measurement. This demonstrates the potential caveat of inferring Milky Way's bar properties by using the stellar kinematic information from the Gaia DR3 without properly accounting for the observational uncertainties.         |"
      ],
      "text/plain": [
       "[2504.06352] Quadrupole signature as a kinematic diagnostic to constrain bar properties : implication for the Milky Way\n",
       "\tS. Ghosh, et al. -- incl., <mark>T. Kalda</mark>"
      ]
     },
     "metadata": {},
     "output_type": "display_data"
    },
    {
     "data": {
      "text/markdown": [
       "\n",
       "|||\n",
       "|---:|:---|\n",
       "| [![arXiv](https://img.shields.io/badge/arXiv-2504.06973-b31b1b.svg)](https://arxiv.org/abs/2504.06973) | **HIP 15429: a newborn Be star on an eccentric binary orbit**  |\n",
       "|| <mark>J. Müller-Horn</mark>, et al. -- incl., <mark>K. El-Badry</mark>, <mark>H.-W. Rix</mark>, <mark>R. Seeburger</mark>, <mark>J. Villasenor</mark> |\n",
       "|*Appeared on*| *2025-04-10*|\n",
       "|*Comments*| *submitted to Astronomy & Astrophysics*|\n",
       "|**Abstract**|            We identified a new post-interaction binary, HIP 15429, consisting of a stripped star and a recently formed, rapidly rotating Be star companion ($v \\sin i \\approx 270$ km/s) sharing many similarities with recently identified bloated stripped stars. From orbital fitting of multi-epoch radial velocities we find a 221-day period. We also find an eccentricity of $e=0.52$, which is unexpectedly high as tides are expected to have circularised the orbit efficiently during the presumed recent mass transfer. The formation of a circumbinary disk during the mass transfer phase or the presence of an unseen tertiary companion might explain the orbit's high eccentricity. We determined physical parameters for both stars by fitting the spectra of the disentangled binary components and multi-band photometry. The stripped nature of the donor star is affirmed by its high luminosity at a low inferred mass ($\\lesssim 1 \\mathrm{M}_\\odot$) and imprints of CNO-processed material in the surface abundances. The donor's relatively large radius and cool temperature ($T_{\\mathrm{eff}} = 13.5 \\pm 0.5$ kK) suggest that it has only recently ceased mass transfer. Evolutionary models assuming a 5-6 $\\mathrm{M}_\\odot$ progenitor can reproduce these parameters and imply that the binary is currently evolving towards a stage where the donor becomes a subdwarf orbiting a Be star. The remarkably high eccentricity of HIP 15429 challenges standard tidal evolution models, suggesting either inefficient tidal dissipation or external influences, such as a tertiary companion or circumbinary disk. This underscores the need to identify and characterise more post-mass transfer binaries to benchmark and refine theoretical models of binary evolution.         |"
      ],
      "text/plain": [
       "[2504.06973] HIP 15429: a newborn Be star on an eccentric binary orbit\n",
       "\t<mark>J. Müller-Horn</mark>, et al. -- incl., <mark>K. El-Badry</mark>, <mark>H.-W. Rix</mark>, <mark>R. Seeburger</mark>, <mark>J. Villasenor</mark>"
      ]
     },
     "metadata": {},
     "output_type": "display_data"
    },
    {
     "data": {
      "text/markdown": [
       "## Failed papers"
      ],
      "text/plain": [
       "<IPython.core.display.Markdown object>"
      ]
     },
     "metadata": {},
     "output_type": "display_data"
    },
    {
     "data": {
      "text/markdown": [
       "\n",
       "|||\n",
       "|---:|:---|\n",
       "| [![arXiv](https://img.shields.io/badge/arXiv-2504.06309-b31b1b.svg)](https://arxiv.org/abs/2504.06309) | **AI-Driven Reconstruction of Large-Scale Structure from Combined Photometric and Spectroscopic Surveys**  |\n",
       "|| W. Du, et al. -- incl., <mark>Y. Wang</mark> |\n",
       "|*Appeared on*| *2025-04-10*|\n",
       "|*Comments*| **|\n",
       "|**Abstract**|            Galaxy surveys are crucial for studying large-scale structure (LSS) and cosmology, yet they face limitations--imaging surveys provide extensive sky coverage but suffer from photo-$z$ uncertainties, while spectroscopic surveys yield precise redshifts but are sample-limited. To take advantage of both photo-$z$ and spec-$z$ data while eliminating photo-$z$ errors, we propose a deep learning framework based on a dual UNet architecture that integrates these two datasets at the field level to reconstruct the 3D photo-$z$ density field. We train the network on mock samples representative of stage-IV spectroscopic surveys, utilizing CosmicGrowth simulations with a $z=0.59$ snapshot containing $2048^3$ particles in a $(1200~h^{-1}\\rm Mpc)^3$ volume. Several metrics, including correlation coefficient, MAE, MSE, PSNR, and SSIM, validate the model's accuracy. Moreover, the reconstructed power spectrum closely matches the ground truth at small scales ($k \\gtrsim 0.06~h/\\rm Mpc$) within the $1\\sigma$ confidence level, while the UNet model significantly improves the estimation of photo-$z$ power spectrum multipoles. This study demonstrates the potential of deep learning to enhance LSS reconstruction by using both spectroscopic and photometric data.         |\n",
       "|<p style=\"color:green\"> **ERROR** </p>| <p style=\"color:green\">affiliation error: mpia.affiliation_verifications: 'Heidelberg' keyword not found.</p> |"
      ],
      "text/plain": [
       "<IPython.core.display.Markdown object>"
      ]
     },
     "metadata": {},
     "output_type": "display_data"
    },
    {
     "data": {
      "text/markdown": [
       "\n",
       "|||\n",
       "|---:|:---|\n",
       "| [![arXiv](https://img.shields.io/badge/arXiv-2504.06415-b31b1b.svg)](https://arxiv.org/abs/2504.06415) | **Galactic-scale Quasar Pairs from the Sloan Digital Sky Survey and Gaia DR3**  |\n",
       "|| Y. Jiang, et al. -- incl., <mark>J. Li</mark> |\n",
       "|*Appeared on*| *2025-04-10*|\n",
       "|*Comments*| *17 pages, 9 figures, 3 tables*|\n",
       "|**Abstract**|            We preform a systematic search for galactic-scale quasar pairs and small-scale (<3 arcsec) lenses using the SDSS DR16 quasar catalog and Gaia DR3. Candidate double quasars (both are unobscured) are identified as Gaia resolved pairs around spectroscopically confirmed SDSS quasars ($L_{\\rm bol} > 10^{44.5} \\ {\\rm erg \\ s^{-1}}$) at $0.5 < z \\lesssim 4.5$. Gaia astrometric information and SDSS spectral decomposition are used to exclude foreground star superpositions, which dominate ($\\gtrsim 80\\%$ of) the pair sample. We identify $136$ double quasar candidates from $1120$ Gaia-resolved pairs after a magnitude and redshift cut of $G<20.5$ and $z>0.5$ (803 double quasars out of 2,497 pairs without any cuts applied) with separations of $\\sim$ 0.3 - 3 arcsec, corresponding to projected physical separations of $\\sim$ 3 - 30 kpc at the median redshift of the sample of $z = 1.7$. We estimate an overall double quasar (lens and physical pairs combined) fraction using this sample, corrected for pair-resolving completeness, of $5.7_{-0.3}^{+0.3} \\times 10^{-4}$ (bootstrapping errors). This double quasar fraction increases toward smaller separations, consistent with earlier findings. We also find little redshift evolution of the double quasar fraction for the luminous SDSS sample, consistent with previous observations and simulation predictions. However, the observed fraction is lower than simulation predictions by $\\sim$0.8 - 1.6 dex, suggesting a significant population of obscured quasar pairs are missed in our search. Future wide-area space missions targeting both unobscured and obscured quasar pairs at sub-arcsec resolutions will reveal this population of obscured quasar pairs, and extend to much lower AGN luminosities.         |\n",
       "|<p style=\"color:green\"> **ERROR** </p>| <p style=\"color:green\">affiliation error: mpia.affiliation_verifications: 'Heidelberg' keyword not found.</p> |"
      ],
      "text/plain": [
       "<IPython.core.display.Markdown object>"
      ]
     },
     "metadata": {},
     "output_type": "display_data"
    },
    {
     "data": {
      "text/markdown": [
       "\n",
       "|||\n",
       "|---:|:---|\n",
       "| [![arXiv](https://img.shields.io/badge/arXiv-2504.06616-b31b1b.svg)](https://arxiv.org/abs/2504.06616) | **Search for Type IL Gamma-ray Bursts: Criterion, Results, Verification and Physical Implication**  |\n",
       "|| W.-J. Tan, et al. -- incl., <mark>Y. Wang</mark> |\n",
       "|*Appeared on*| *2025-04-10*|\n",
       "|*Comments*| *21 pages, 10 figures, submitted to ApJS*|\n",
       "|**Abstract**|            As an interesting subclass of gamma-ray burst (GRB), Type IL GRB (such as GRB 211211A and GRB 230307A) features a long-duration prompt emission but originating from compact binary merger. The \"long duration\" emisison of Type IL GRB are dominately composed of the main burst, rather than the extended emission, differentiating them from the traditional \"long-short\" GRB (e.g., GRB 060614). Previous study has reported several Type IL GRBs by visual inspection of their light curves. In this work, we established a detailed criterion to identify Type IL GRBs by light curve, and then systematically searched the archival \\textit{Fermi}/GBM data with this criterion, resulting in a sample of 5 type IL GRBs from January 1, 2014 to January 1, 2024, i.e. GRB 230307A, GRB 211211A, GRB 200914A, GRB 200311A and GRB 170228A. Apart from the light curve pattern, we find that the temporal and spectral properties of these 5 GRBs also support this classification. Interestingly, we find that the energy ratio between extended emission and main emission is almost constant ($\\sim0.7$, with small scattering) for these GRBs, which have strong implication on the mechanism of Type IL burst. We discuss theoretical models to interpret the progenitor, central engine, and extended emission of these Type IL bursts.         |\n",
       "|<p style=\"color:green\"> **ERROR** </p>| <p style=\"color:green\">affiliation error: mpia.affiliation_verifications: 'Heidelberg' keyword not found.</p> |"
      ],
      "text/plain": [
       "<IPython.core.display.Markdown object>"
      ]
     },
     "metadata": {},
     "output_type": "display_data"
    },
    {
     "data": {
      "text/markdown": [
       "\n",
       "|||\n",
       "|---:|:---|\n",
       "| [![arXiv](https://img.shields.io/badge/arXiv-2504.06968-b31b1b.svg)](https://arxiv.org/abs/2504.06968) | **Probable evidence for a transient mega-electron volt emission line in the GRB 221023A**  |\n",
       "|| L.-Y. Jiang, et al. -- incl., <mark>Y. Wang</mark> |\n",
       "|*Appeared on*| *2025-04-10*|\n",
       "|*Comments*| *20 pages, 5 figures, 3 tables. Publication in the Nature Communications*|\n",
       "|**Abstract**|            Detection of spectral line in gamma-ray bursts (GRBs) is importance for studying GRB physics, as it provides insights into the composition and physical conditions of the GRB environment. However, progress in detecting X-ray or gamma-ray emission and absorption lines in GRB spectra has been relatively slow, only the narrow emission line feature of about 10 MeV found in GRB 221009A has exhibited a significance exceeding $5 \\sigma$. Here, we report the probable evidence of a narrow emission feature at about 2.1 mega-electron volts (MeV) in the spectrum of GRB 221023A. The highest statistical significance of this feature is observed in the time interval between 8 and 30 seconds after Fermi Gamma-Ray Burst Monitor trigger, with the chance probability value $<2.56 \\times 10^{-5}$ (after accounting for the look-elsewhere effect), corresponding to a Gaussian-equivalent significance $> 4.20 \\sigma$. We interpret this feature as being generated through the de-excitation of excited electrons in the relativistic hydrogen-like high-atomic-number ions entrained in the GRB jet.         |\n",
       "|<p style=\"color:green\"> **ERROR** </p>| <p style=\"color:green\">affiliation error: mpia.affiliation_verifications: 'Heidelberg' keyword not found.</p> |"
      ],
      "text/plain": [
       "<IPython.core.display.Markdown object>"
      ]
     },
     "metadata": {},
     "output_type": "display_data"
    }
   ],
   "source": [
    "import datetime\n",
    "today = str(datetime.date.today())\n",
    "logfile = f\"_build/html/logs/log-{today}.md\"\n",
    "\n",
    "\n",
    "with open(logfile, 'w') as logs:\n",
    "    # Success\n",
    "    logs.write(f'# Arxiv on Deck 2: Logs - {today}\\n\\n')\n",
    "    logs.write(\"\"\"* Arxiv had {0:,d} new papers\\n\"\"\".format(len(new_papers)))\n",
    "    logs.write(\"\"\"    * {0:,d} with possible author matches\\n\\n\"\"\".format(len(candidates)))\n",
    "    logs.write(\"## Sucessful papers\\n\\n\")\n",
    "    display(Markdown(\"## Successful papers\"))\n",
    "    success = [k[0] for k in documents]\n",
    "    for candid in candidates:\n",
    "        if candid['identifier'].split(':')[-1] in success:\n",
    "            display(candid)\n",
    "            logs.write(candid.generate_markdown_text() + '\\n\\n')\n",
    "\n",
    "    ## failed\n",
    "    logs.write(\"## Failed papers\\n\\n\")\n",
    "    display(Markdown(\"## Failed papers\"))\n",
    "    failed = sorted(failed, key=lambda x: x[1])\n",
    "    current_reason = \"\"\n",
    "    for paper, reason in failed:\n",
    "        if 'affiliation' in reason:\n",
    "            color = 'green'\n",
    "        else:\n",
    "            color = 'red'\n",
    "        data = Markdown(\n",
    "                paper.generate_markdown_text() + \n",
    "                f'\\n|<p style=\"color:{color:s}\"> **ERROR** </p>| <p style=\"color:{color:s}\">{reason:s}</p> |'\n",
    "               )\n",
    "        if reason != current_reason:\n",
    "            logs.write(f'### {reason:s} \\n\\n')\n",
    "            current_reason = reason\n",
    "        logs.write(data.data + '\\n\\n')\n",
    "        \n",
    "        # only display here the important errors (all in logs)\n",
    "        # if color in ('red',):\n",
    "        display(data)"
   ]
  },
  {
   "cell_type": "markdown",
   "id": "472d20ee",
   "metadata": {
    "papermill": {
     "duration": 0.004505,
     "end_time": "2025-04-10T04:14:06.333178",
     "exception": false,
     "start_time": "2025-04-10T04:14:06.328673",
     "status": "completed"
    },
    "tags": []
   },
   "source": [
    "## Export documents\n",
    "\n",
    "We now write the .md files and export relevant images"
   ]
  },
  {
   "cell_type": "code",
   "execution_count": 7,
   "id": "d426aed9",
   "metadata": {
    "execution": {
     "iopub.execute_input": "2025-04-10T04:14:06.343424Z",
     "iopub.status.busy": "2025-04-10T04:14:06.343008Z",
     "iopub.status.idle": "2025-04-10T04:14:06.349733Z",
     "shell.execute_reply": "2025-04-10T04:14:06.349194Z"
    },
    "papermill": {
     "duration": 0.012878,
     "end_time": "2025-04-10T04:14:06.350689",
     "exception": false,
     "start_time": "2025-04-10T04:14:06.337811",
     "status": "completed"
    },
    "tags": []
   },
   "outputs": [],
   "source": [
    "def export_markdown_summary(md: str, md_fname:str, directory: str):\n",
    "    \"\"\"Export MD document and associated relevant images\"\"\"\n",
    "    import os\n",
    "    import shutil\n",
    "    import re\n",
    "\n",
    "    if (os.path.exists(directory) and not os.path.isdir(directory)):\n",
    "        raise RuntimeError(f\"a non-directory file exists with name {directory:s}\")\n",
    "\n",
    "    if (not os.path.exists(directory)):\n",
    "        print(f\"creating directory {directory:s}\")\n",
    "        os.mkdir(directory)\n",
    "\n",
    "    fig_fnames = (re.compile(r'\\[Fig.*\\]\\((.*)\\)').findall(md) + \n",
    "                  re.compile(r'\\<img src=\"([^>\\s]*)\"[^>]*/>').findall(md))\n",
    "    print(\"found figures\", fig_fnames)\n",
    "    for fname in fig_fnames:\n",
    "        if 'http' in fname:\n",
    "            # No need to copy online figures\n",
    "            continue\n",
    "        if not os.path.exists(fname):\n",
    "            print(\"file not found\", fname)\n",
    "            continue\n",
    "        print(\"copying \", fname, \"to\", directory)\n",
    "        destdir = os.path.join(directory, os.path.dirname(fname))\n",
    "        destfname = os.path.join(destdir, os.path.basename(fname))\n",
    "        try:\n",
    "            os.makedirs(destdir)\n",
    "        except FileExistsError:\n",
    "            pass\n",
    "        shutil.copy(fname, destfname)\n",
    "    with open(os.path.join(directory, md_fname), 'w') as fout:\n",
    "        fout.write(md)\n",
    "    print(\"exported in \", os.path.join(directory, md_fname))\n",
    "    [print(\"    + \" + os.path.join(directory,fk)) for fk in fig_fnames]"
   ]
  },
  {
   "cell_type": "code",
   "execution_count": 8,
   "id": "014d04a4",
   "metadata": {
    "execution": {
     "iopub.execute_input": "2025-04-10T04:14:06.360962Z",
     "iopub.status.busy": "2025-04-10T04:14:06.360575Z",
     "iopub.status.idle": "2025-04-10T04:14:06.372229Z",
     "shell.execute_reply": "2025-04-10T04:14:06.371596Z"
    },
    "papermill": {
     "duration": 0.017876,
     "end_time": "2025-04-10T04:14:06.373324",
     "exception": false,
     "start_time": "2025-04-10T04:14:06.355448",
     "status": "completed"
    },
    "tags": []
   },
   "outputs": [
    {
     "name": "stdout",
     "output_type": "stream",
     "text": [
      "found figures ['tmp_2504.06352/./new0300_vR_vs_x_y_error_comparison_thorough.png', 'tmp_2504.06352/./bar_vs_quadrupoleRelations_correlation_TracerDependence_for_paper.png', 'tmp_2504.06352/./bar_Quadrupole_strength_2lobevs4lobe_rthcikE00_t360.png']\n",
      "copying  tmp_2504.06352/./new0300_vR_vs_x_y_error_comparison_thorough.png to _build/html/\n",
      "copying  tmp_2504.06352/./bar_vs_quadrupoleRelations_correlation_TracerDependence_for_paper.png to _build/html/\n",
      "copying  tmp_2504.06352/./bar_Quadrupole_strength_2lobevs4lobe_rthcikE00_t360.png to _build/html/\n",
      "exported in  _build/html/2504.06352.md\n",
      "    + _build/html/tmp_2504.06352/./new0300_vR_vs_x_y_error_comparison_thorough.png\n",
      "    + _build/html/tmp_2504.06352/./bar_vs_quadrupoleRelations_correlation_TracerDependence_for_paper.png\n",
      "    + _build/html/tmp_2504.06352/./bar_Quadrupole_strength_2lobevs4lobe_rthcikE00_t360.png\n",
      "found figures ['tmp_2504.06973/./figures/spectral_fit_stripped_star.png', 'tmp_2504.06973/./figures/Halpha_quadrature.png', 'tmp_2504.06973/./figures/Halpha_shortterm_variability.png', 'tmp_2504.06973/./figures/ecc_literature_comparison.png']\n",
      "copying  tmp_2504.06973/./figures/spectral_fit_stripped_star.png to _build/html/\n",
      "copying  tmp_2504.06973/./figures/Halpha_quadrature.png to _build/html/\n",
      "copying  tmp_2504.06973/./figures/Halpha_shortterm_variability.png to _build/html/\n",
      "copying  tmp_2504.06973/./figures/ecc_literature_comparison.png to _build/html/\n",
      "exported in  _build/html/2504.06973.md\n",
      "    + _build/html/tmp_2504.06973/./figures/spectral_fit_stripped_star.png\n",
      "    + _build/html/tmp_2504.06973/./figures/Halpha_quadrature.png\n",
      "    + _build/html/tmp_2504.06973/./figures/Halpha_shortterm_variability.png\n",
      "    + _build/html/tmp_2504.06973/./figures/ecc_literature_comparison.png\n"
     ]
    }
   ],
   "source": [
    "for paper_id, md in documents:\n",
    "    export_markdown_summary(md, f\"{paper_id:s}.md\", '_build/html/')"
   ]
  },
  {
   "cell_type": "markdown",
   "id": "f087a0a7",
   "metadata": {
    "papermill": {
     "duration": 0.004629,
     "end_time": "2025-04-10T04:14:06.382745",
     "exception": false,
     "start_time": "2025-04-10T04:14:06.378116",
     "status": "completed"
    },
    "tags": []
   },
   "source": [
    "## Display the papers\n",
    "\n",
    "Not necessary but allows for a quick check."
   ]
  },
  {
   "cell_type": "code",
   "execution_count": 9,
   "id": "fd25f625",
   "metadata": {
    "execution": {
     "iopub.execute_input": "2025-04-10T04:14:06.393217Z",
     "iopub.status.busy": "2025-04-10T04:14:06.392826Z",
     "iopub.status.idle": "2025-04-10T04:14:06.398653Z",
     "shell.execute_reply": "2025-04-10T04:14:06.398113Z"
    },
    "papermill": {
     "duration": 0.01205,
     "end_time": "2025-04-10T04:14:06.399610",
     "exception": false,
     "start_time": "2025-04-10T04:14:06.387560",
     "status": "completed"
    },
    "scrolled": false,
    "tags": []
   },
   "outputs": [
    {
     "data": {
      "text/markdown": [
       "<div class=\"macros\" style=\"visibility:hidden;\">\n",
       "$\\newcommand{\\ensuremath}{}$\n",
       "$\\newcommand{\\xspace}{}$\n",
       "$\\newcommand{\\object}[1]{\\texttt{#1}}$\n",
       "$\\newcommand{\\farcs}{{.}''}$\n",
       "$\\newcommand{\\farcm}{{.}'}$\n",
       "$\\newcommand{\\arcsec}{''}$\n",
       "$\\newcommand{\\arcmin}{'}$\n",
       "$\\newcommand{\\ion}[2]{#1#2}$\n",
       "$\\newcommand{\\textsc}[1]{\\textrm{#1}}$\n",
       "$\\newcommand{\\hl}[1]{\\textrm{#1}}$\n",
       "$\\newcommand{\\footnote}[1]{}$\n",
       "$\\newcommand{\\kms}{\\mbox{\\>{\\rm km  s^{-1}}}}$\n",
       "$\\newcommand{\\pc}{\\>{\\rm pc}}$\n",
       "$\\newcommand{\\kpc}{\\mbox{\\>{\\rm kpc}}}$\n",
       "$\\newcommand{\\kmsk}{\\mbox{\\>{\\rm km  s^{-1}  kpc^{-1}}}}$\n",
       "$\\newcommand{\\Gyr}{\\mbox{\\>{\\rm Gyr}}}$\n",
       "$\\newcommand{\\Myr}{\\mbox{\\>{\\rm Myr}}}$\n",
       "$\\newcommand{\\yr}{\\mbox{\\>{\\rm yr}}}$\n",
       "$\\newcommand{\\Msun}{\\>{\\rm M_{\\odot}}}$\n",
       "$\\newcommand{\\Rd}{\\mbox{R_{\\rm d}}}$\n",
       "$\\newcommand{\\zd}{\\mbox{z_{\\rm d}}}$\n",
       "$\\newcommand{\\md}{\\mbox{M_{\\rm d}}}$\n",
       "$\\newcommand$\n",
       "$\\newcommand{\\avg}[1]{\\mbox{\\left<{#1}\\right>}}$\n",
       "$\\newcommand{\\sig}[1]{\\mbox{\\sigma_{#1}}}$\n",
       "$\\newcommand{\\feh}{\\mbox{\\rm[Fe/H]}}$\n",
       "$\\newcommand{\\al}{\\mbox{\\rm \\alpha}}$\n",
       "$\\newcommand{\\alfe}{\\mbox{\\rm[O/Fe]}}$\n",
       "$\\newcommand{\\tf}{\\mbox{\\tau}}$\n",
       "$\\newcommand{\\rs}{\\mbox{R_s}}$\n",
       "$\\newcommand{\\abar}{\\mbox{A_{\\rm bar}}}$\n",
       "$\\newcommand$\n",
       "$\\newcommand$</div>\n",
       "\n",
       "\n",
       "\n",
       "<div id=\"title\">\n",
       "\n",
       "# Quadrupole signature as a kinematic diagnostic to constrain bar properties : implication for the Milky Way\n",
       "\n",
       "</div>\n",
       "<div id=\"comments\">\n",
       "\n",
       "[![arXiv](https://img.shields.io/badge/arXiv-2504.06352-b31b1b.svg)](https://arxiv.org/abs/2504.06352)<mark>Appeared on: 2025-04-10</mark> -  _15 pages, 1 table, 12 figures (including appendix), comments are welcome!_\n",
       "\n",
       "</div>\n",
       "<div id=\"authors\">\n",
       "\n",
       "S. Ghosh, et al. -- incl., <mark>T. Kalda</mark>\n",
       "\n",
       "</div>\n",
       "<div id=\"abstract\">\n",
       "\n",
       "**Abstract:** The presence of a `butterfly' or a quadrupole structure in the stellar mean radial velocity ( $\\avg{V_R}$ ) field of the Milky Way is well known from the $\\gaia$ and the APOGEE surveys. Past studies indicated that a stellar bar can excite such a quadrupole feature in the $\\avg{V_R}$ distribution. However, a systematic study investigating the co-evolution of bar and quadrupole structure is largely missing. Furthermore, whether this quadrupole structure in $\\avg{V_R}$ can be used as a robust kinematic diagnostic to constrain bar properties, particularly for the Milky Way, is still beyond our grasp. Here, we investigate the bar-induced quadrupole feature using a suite of isolated $N$ -body models forming prominent bars and a sample of Milky Way-like barred galaxies from the TNG50 cosmological simulation.  We demonstrate that the properties of the quadrupole (strength, length, and orientation) are strongly correlated with the bar properties, regardless of the choice of the stellar tracer population; thereby making the quadrupole feature an excellent kinematic diagnostic for constraining the bar properties. In presence of spirals, the estimator which takes into account the phase-angle of $m = 4$ Fourier moment, serves as a more appropriate estimator for measuring the length of the quadrupole.  Further, we constructed a novel $\\gaia$ -like mock dataset from a simulated bar model while incorporating the dust extinction and the broad trends of observational errors of the $\\gaia$ survey. The quadrupole properties (strength and length) estimated from those $\\gaia$ -like mock data are larger ( $\\sim 35-45$ percent) when compared with their true values. We determined that the majority of this effect is due to the uncertainty in parallax measurement. This demonstrates the potential caveat of inferring Milky Way's bar properties by using the stellar kinematic information from the $\\gaia$ DR3 without properly accounting for the observational uncertainties.\n",
       "\n",
       "</div>\n",
       "\n",
       "<div id=\"div_fig1\">\n",
       "\n",
       "<img src=\"tmp_2504.06352/./new0300_vR_vs_x_y_error_comparison_thorough.png\" alt=\"Fig9\" width=\"100%\"/>\n",
       "\n",
       "**Figure 9. -** _Investigating the effects of different uncertainties:_ Face-on distribution of $\\avg{v_R}$ for the \\gaia-like mock dataset at $t=3\\mathrm{ Gyr}$, showcasing how the observed quadrupole feature is affected by errors in proper motion, radial velocity ($V_R$), and parallax. The _top left panel_ is for stars in the snapshot (no uncertainties and no magnitude cut) while _top middle panel_ shows the magnitude limited $G \\leq 15.5$ mock dataset with no errors. The _top right panel_ and the _bottom left panel_ show the mock datasets with only proper motion (PM) uncertainty and both the PM and radial velocity uncertainties, respectively. The _bottom middle panel_ shows the mock dataset resampled according to the errors in the \\gaia DR3 RGB subsample (see section \\ref{sec:gaia_like_testing}), and the _bottom right panel_ shows the mock dataset where all the particles have had their $V_R$ set to zero prior to applying observational effects. For further details, see sect. \\ref{sec:application_to_MW}. (*fig:0300_parallax_contamination_analysis*)\n",
       "\n",
       "</div>\n",
       "<div id=\"div_fig2\">\n",
       "\n",
       "<img src=\"tmp_2504.06352/./bar_vs_quadrupoleRelations_correlation_TracerDependence_for_paper.png\" alt=\"Fig5\" width=\"100%\"/>\n",
       "\n",
       "**Figure 5. -** _Dependence on the stellar tracer population:_ correlation between the bar strength, $S_{\\rm bar}$ and the strength of the quadrupole, $S_{\\rm quadrupole}$(_top row_), and correlation between the bar length, $R_{\\rm bar}$ and the length of the quadrupole, $R_{\\rm quadrupole}$(_bottom row_), computed using thin disc particles (_left panels_) and thick disc particles (_right panels_), for all thin+thick models and the sim6 model (see the legend). The black dash line denotes the best-fit straight line (of the form $Y = AX+B$) while the grey shaded region denotes the 5-$\\sigma$ scatter around the best-fit line. Regardless of the stellar tracer population, the length and strength of the quadrupole remain strongly correlated with the length and the strength of the bar. (*fig:bar_quadrupole_correlation_Tracer_dependence*)\n",
       "\n",
       "</div>\n",
       "<div id=\"div_fig3\">\n",
       "\n",
       "<img src=\"tmp_2504.06352/./bar_Quadrupole_strength_2lobevs4lobe_rthcikE00_t360.png\" alt=\"Fig1\" width=\"100%\"/>\n",
       "\n",
       "**Figure 1. -** _Top panel:_ Radial variation of the amplitude of the $m=4$ Fourier moment of the mean radial velocity, $\\avg{V_R}$, calculated at $t = 9 $\\Gyr$$ for the model rthick0.0, while putting the bar at different orientations (see the legend). _Bottom panel:_ radial variation of the corresponding phase-angle ($\\varphi_4$) of $m=4$ Fourier moment of the mean radial velocity, $\\avg{V_R}$. The points denoting the radial variation computed from the mean radial velocity, $\\avg{V_R}$ while the horizontal lines denote the corresponding _true_ bar orientation. `Half-extent' refers to the scenario where stars falling only in the positive half ($x \\geq 0$) are considered while computing the Fourier moments. (*fig:bar_quadrupole_orientation_quantification*)\n",
       "\n",
       "</div><div id=\"qrcode\"><img src=https://api.qrserver.com/v1/create-qr-code/?size=100x100&data=\"https://arxiv.org/abs/2504.06352\"></div>"
      ],
      "text/plain": [
       "<IPython.core.display.Markdown object>"
      ]
     },
     "metadata": {},
     "output_type": "display_data"
    },
    {
     "data": {
      "text/markdown": [
       "<div class=\"macros\" style=\"visibility:hidden;\">\n",
       "$\\newcommand{\\ensuremath}{}$\n",
       "$\\newcommand{\\xspace}{}$\n",
       "$\\newcommand{\\object}[1]{\\texttt{#1}}$\n",
       "$\\newcommand{\\farcs}{{.}''}$\n",
       "$\\newcommand{\\farcm}{{.}'}$\n",
       "$\\newcommand{\\arcsec}{''}$\n",
       "$\\newcommand{\\arcmin}{'}$\n",
       "$\\newcommand{\\ion}[2]{#1#2}$\n",
       "$\\newcommand{\\textsc}[1]{\\textrm{#1}}$\n",
       "$\\newcommand{\\hl}[1]{\\textrm{#1}}$\n",
       "$\\newcommand{\\footnote}[1]{}$\n",
       "$\\newcommand{\\aj}{Astronomical Journal}$\n",
       "$\\newcommand{\\apj}{Astrophysical Journal}$\n",
       "$\\newcommand{\\aap}{Astronomy \\& Astrophysics}$\n",
       "$\\newcommand{\\jcap}{Journal of Cosmology and Astroparticle Physics}$\n",
       "$\\newcommand{\\aapr}{The Astronomy and Astrophysics Review}$\n",
       "$\\newcommand{\\mnras}{Monthly Notices of the Royal Astronomical Society}$\n",
       "$\\newcommand{\\araa}{Annual Review of Astronomy and Astrophysics}$\n",
       "$\\newcommand{\\Msun}{\\mathrm{M}_\\odot}$</div>\n",
       "\n",
       "\n",
       "\n",
       "<div id=\"title\">\n",
       "\n",
       "# HIP 15429: a newborn Be star on an eccentric binary orbit\n",
       "\n",
       "</div>\n",
       "<div id=\"comments\">\n",
       "\n",
       "[![arXiv](https://img.shields.io/badge/arXiv-2504.06973-b31b1b.svg)](https://arxiv.org/abs/2504.06973)<mark>Appeared on: 2025-04-10</mark> -  _submitted to Astronomy & Astrophysics_\n",
       "\n",
       "</div>\n",
       "<div id=\"authors\">\n",
       "\n",
       "<mark>J. Müller-Horn</mark>, et al. -- incl., <mark>K. El-Badry</mark>, <mark>H.-W. Rix</mark>, <mark>R. Seeburger</mark>, <mark>J. Villasenor</mark>\n",
       "\n",
       "</div>\n",
       "<div id=\"abstract\">\n",
       "\n",
       "**Abstract:** Interaction in close binary systems is common in massive stars. The mass donor is stripped of its hydrogen envelope and evolves to become a hot helium star, whereas the accretor gains mass and angular momentum, spinning up in the process. However, the small number of well-constrained post-interaction binary systems currently limits detailed comparisons with binary evolution models.    We identified a new post-interaction binary, HIP 15429, consisting of a stripped star and a recently formed, rapidly rotating Be star companion ( $v_\\mathrm{rot} \\sin i \\approx 270 $ km/s) sharing many similarities with recently identified bloated stripped stars.    From orbital fitting of multi-epoch radial velocities we find a 221-day period. We also find an eccentricity of $e=0.52$ , which is unexpectedly high as tides are expected to have circularised the orbit efficiently during the presumed recent mass transfer. The formation of a circumbinary disk during the mass transfer phase or the presence of an unseen tertiary companion might explain the orbit's high eccentricity.    We determined physical parameters for both stars by fitting the spectra of the disentangled binary components and multi-band photometry. The stripped nature of the donor star is affirmed by its high luminosity at a low inferred mass ( $\\lesssim 1 \\mathrm{M}_\\odot$ ) and imprints of CNO-processed material in the surface abundances. The donor's relatively large radius and cool temperature ( $T_{\\rm eff} = 13.5 \\pm 0.5 $ kK) suggest that it has only recently ceased mass transfer.    Evolutionary models assuming a 5-6 $ \\mathrm{M}_\\odot$ progenitor can reproduce these parameters and imply that the binary is currently evolving towards a stage where the donor becomes a subdwarf orbiting a Be star.    The remarkably high eccentricity of HIP 15429 challenges standard tidal evolution models, suggesting either inefficient tidal dissipation or external influences, such as a tertiary companion or circumbinary disk. This underscores the need to identify and characterise more post-mass transfer binaries to benchmark and refine theoretical models of binary evolution.\n",
       "\n",
       "</div>\n",
       "\n",
       "<div id=\"div_fig1\">\n",
       "\n",
       "<img src=\"tmp_2504.06973/./figures/spectral_fit_stripped_star.png\" alt=\"Fig22\" width=\"100%\"/>\n",
       "\n",
       "**Figure 22. -** Spectral constraints on the stellar parameters of the narrow-lined stripped star. The panels show the disentangled spectrum (black) compared to PoWR models with the best-fit parameters ($T_\\mathrm{eff} = 13.5,\\text{kK}$, $\\log g = 2.25$). The models differ in composition: one assumes solar hydrogen, helium and metal abundances \\citep{Asplund+2021}, while our fiducial model (blue) is He- and N-enriched, characteristic of a stripped star. The narrow H-Balmer absorption lines support a low surface gravity, while the stripped-star model provides a better fit to the He and N absorption features. Metal lines not present in the model spectra (e.g., Si II 4153, 4163 Å) were not included in the atomic line lists. (*fig:stripped_star_models*)\n",
       "\n",
       "</div>\n",
       "<div id=\"div_fig2\">\n",
       "\n",
       "<img src=\"tmp_2504.06973/./figures/Halpha_quadrature.png\" alt=\"Fig1.1\" width=\"50%\"/><img src=\"tmp_2504.06973/./figures/Halpha_shortterm_variability.png\" alt=\"Fig1.2\" width=\"50%\"/>\n",
       "\n",
       "**Figure 1. -** _Top:_{Balmer emission lines at quadrature.} Two TRES spectra taken close to quadrature (red and blue lines) and one spectrum close to the system's barycentric velocity (grey line). The grey dotted lines indicate the rest-frame wavelengths of the Balmer H$_\\alpha$ and carbon C II 6572 lines. Orbital motion of the narrow-lined star is apparent from wavelength shifts in the C II lines, whereas the H$_\\alpha$ line shows variable emission line profiles.\\ _Bottom:_{Short-term variability of emission line profiles.} Three TRES spectra observed at $t = \\mathrm{MJD}   60235$, $t + 5 $d and $t+ 9 $d, that is, spanning $<5\\%$ of the orbital period. Solid grey, red and blue lines show the variable H$_\\alpha$ emission line profiles. The rest-frame wavelength of H$_\\alpha$ is shown as in the top panel. Narrow lines at 6574, 6577 Å   originate from variable telluric absorption. (*fig:spectral_variability*)\n",
       "\n",
       "</div>\n",
       "<div id=\"div_fig3\">\n",
       "\n",
       "<img src=\"tmp_2504.06973/./figures/ecc_literature_comparison.png\" alt=\"Fig25\" width=\"100%\"/>\n",
       "\n",
       "**Figure 25. -** {Period-eccentricity diagram for known post-mass transfer binaries.} Recently discovered bloated stripped star binaries with O/Be companions \\citep{Shenar+2020,ElBadry_Quataert2021,Villasenor+2023,Ramachandran+2024,Pauli+2022} are indicated with red diamond markers. These include the parameter values for HIP 15429 determined in this work (Müller-Horn et al. 2025). Be + subdwarf binaries with known orbital parameters are shown with light blue triangles \\citep{Mourard+2015,Chojnowski+2018,Peters+2008,Peters+2013,Klement+2022,Klement+2024,Wang+2023}. We plot the short-period subdwarf binaries compiled by \\cite{Edelmann+2005} and \\cite{Kupfer+2015} and long-period ($>500 $d orbits) subdwarf binaries discovered by \\cite{Deca+2012,Barlow+2013,Vos+2012,Vos+2013,Vos+2017} with dark blue triangles. Likely post-common envelope binaries with white dwarf or main sequence stars analysed by \\cite{Yamaguchi+2024} are shown with yellow stars. (*fig:period_eccentricity_comparison*)\n",
       "\n",
       "</div><div id=\"qrcode\"><img src=https://api.qrserver.com/v1/create-qr-code/?size=100x100&data=\"https://arxiv.org/abs/2504.06973\"></div>"
      ],
      "text/plain": [
       "<IPython.core.display.Markdown object>"
      ]
     },
     "metadata": {},
     "output_type": "display_data"
    }
   ],
   "source": [
    "[display(Markdown(k[1])) for k in documents];"
   ]
  },
  {
   "cell_type": "markdown",
   "id": "873873a4",
   "metadata": {
    "papermill": {
     "duration": 0.005077,
     "end_time": "2025-04-10T04:14:06.409901",
     "exception": false,
     "start_time": "2025-04-10T04:14:06.404824",
     "status": "completed"
    },
    "tags": []
   },
   "source": [
    "# Create HTML index"
   ]
  },
  {
   "cell_type": "code",
   "execution_count": 10,
   "id": "cf665672",
   "metadata": {
    "execution": {
     "iopub.execute_input": "2025-04-10T04:14:06.421271Z",
     "iopub.status.busy": "2025-04-10T04:14:06.420881Z",
     "iopub.status.idle": "2025-04-10T04:14:06.430744Z",
     "shell.execute_reply": "2025-04-10T04:14:06.430216Z"
    },
    "papermill": {
     "duration": 0.016509,
     "end_time": "2025-04-10T04:14:06.431784",
     "exception": false,
     "start_time": "2025-04-10T04:14:06.415275",
     "status": "completed"
    },
    "tags": []
   },
   "outputs": [
    {
     "name": "stdout",
     "output_type": "stream",
     "text": [
      "434  publications files modified in the last 7 days.\n"
     ]
    }
   ],
   "source": [
    "from datetime import datetime, timedelta, timezone\n",
    "from glob import glob\n",
    "import os\n",
    "\n",
    "files = glob('_build/html/*.md')\n",
    "days = 7\n",
    "now = datetime.today()\n",
    "res = []\n",
    "for fk in files:\n",
    "    stat_result = os.stat(fk).st_ctime\n",
    "    modified = datetime.fromtimestamp(stat_result, tz=timezone.utc).replace(tzinfo=None)\n",
    "    delta = now.today() - modified\n",
    "    if delta <= timedelta(days=days):\n",
    "        res.append((delta.seconds, fk))\n",
    "res = [k[1] for k in reversed(sorted(res, key=lambda x:x[1]))]\n",
    "npub = len(res)\n",
    "print(len(res), f\" publications files modified in the last {days:d} days.\")\n",
    "# [ print('\\t', k) for k in res ];"
   ]
  },
  {
   "cell_type": "code",
   "execution_count": 11,
   "id": "015de740",
   "metadata": {
    "execution": {
     "iopub.execute_input": "2025-04-10T04:14:06.443059Z",
     "iopub.status.busy": "2025-04-10T04:14:06.442573Z",
     "iopub.status.idle": "2025-04-10T04:14:06.464870Z",
     "shell.execute_reply": "2025-04-10T04:14:06.464212Z"
    },
    "papermill": {
     "duration": 0.028896,
     "end_time": "2025-04-10T04:14:06.465840",
     "exception": false,
     "start_time": "2025-04-10T04:14:06.436944",
     "status": "completed"
    },
    "tags": []
   },
   "outputs": [
    {
     "name": "stdout",
     "output_type": "stream",
     "text": [
      "15  publications in the last 7 days.\n"
     ]
    }
   ],
   "source": [
    "import datetime\n",
    "from glob import glob\n",
    "\n",
    "def get_last_n_days(lst, days=1):\n",
    "    \"\"\" Get the documents from the last n days \"\"\"\n",
    "    sorted_lst = sorted(lst, key=lambda x: x[1], reverse=True)\n",
    "    for fname, date in sorted_lst:\n",
    "        if date >= str(datetime.date.today() - datetime.timedelta(days=days)):\n",
    "            yield fname\n",
    "\n",
    "def extract_appearance_dates(lst_file):\n",
    "    dates = []\n",
    "\n",
    "    def get_date(line):\n",
    "        return line\\\n",
    "            .split('Appeared on:')[-1]\\\n",
    "            .split('</mark>')[0].strip()\n",
    "\n",
    "    for fname in lst:\n",
    "        with open(fname, 'r') as f:\n",
    "            found_date = False\n",
    "            for line in f:\n",
    "                if not found_date:\n",
    "                    if \"Appeared on\" in line:\n",
    "                        found_date = True\n",
    "                        dates.append((fname, get_date(line)))\n",
    "                else:\n",
    "                    break\n",
    "    return dates\n",
    "\n",
    "from glob import glob\n",
    "lst = glob('_build/html/*md')\n",
    "days = 7\n",
    "dates = extract_appearance_dates(lst)\n",
    "res = list(get_last_n_days(dates, days))\n",
    "npub = len(res)\n",
    "print(len(res), f\" publications in the last {days:d} days.\")"
   ]
  },
  {
   "cell_type": "code",
   "execution_count": 12,
   "id": "52ca0208",
   "metadata": {
    "execution": {
     "iopub.execute_input": "2025-04-10T04:14:06.477196Z",
     "iopub.status.busy": "2025-04-10T04:14:06.476833Z",
     "iopub.status.idle": "2025-04-10T04:14:06.481770Z",
     "shell.execute_reply": "2025-04-10T04:14:06.481101Z"
    },
    "papermill": {
     "duration": 0.011618,
     "end_time": "2025-04-10T04:14:06.482774",
     "exception": false,
     "start_time": "2025-04-10T04:14:06.471156",
     "status": "completed"
    },
    "scrolled": false,
    "tags": []
   },
   "outputs": [],
   "source": [
    "def create_carousel(npub=4):\n",
    "    \"\"\" Generate the HTML code for a carousel with `npub` slides \"\"\"\n",
    "    carousel = [\"\"\"  <div class=\"carousel\" \"\"\",\n",
    "                \"\"\"       data-flickity='{ \"autoPlay\": 10000, \"adaptiveHeight\": true, \"resize\": true, \"wrapAround\": true, \"pauseAutoPlayOnHover\": true, \"groupCells\": 1 }' id=\"asyncTypeset\">\"\"\"\n",
    "                ]\n",
    "    \n",
    "    item_str = \"\"\"    <div class=\"carousel-cell\"> <div id=\"slide{k}\" class=\"md_view\">Content {k}</div> </div>\"\"\"\n",
    "    for k in range(1, npub + 1):\n",
    "        carousel.append(item_str.format(k=k))\n",
    "    carousel.append(\"  </div>\")\n",
    "    return '\\n'.join(carousel)\n",
    "\n",
    "def create_grid(npub=4):\n",
    "    \"\"\" Generate the HTML code for a flat grid with `npub` slides \"\"\"\n",
    "    grid = [\"\"\"  <div class=\"grid\"> \"\"\",\n",
    "                ]\n",
    "    \n",
    "    item_str = \"\"\"    <div class=\"grid-item\"> <div id=\"slide{k}\" class=\"md_view\">Content {k}</div> </div>\"\"\"\n",
    "    for k in range(1, npub + 1):\n",
    "        grid.append(item_str.format(k=k))\n",
    "    grid.append(\"  </div>\")\n",
    "    return '\\n'.join(grid)"
   ]
  },
  {
   "cell_type": "code",
   "execution_count": 13,
   "id": "a6eac5b6",
   "metadata": {
    "execution": {
     "iopub.execute_input": "2025-04-10T04:14:06.494420Z",
     "iopub.status.busy": "2025-04-10T04:14:06.493897Z",
     "iopub.status.idle": "2025-04-10T04:14:06.499056Z",
     "shell.execute_reply": "2025-04-10T04:14:06.498439Z"
    },
    "papermill": {
     "duration": 0.012033,
     "end_time": "2025-04-10T04:14:06.500121",
     "exception": false,
     "start_time": "2025-04-10T04:14:06.488088",
     "status": "completed"
    },
    "scrolled": false,
    "tags": []
   },
   "outputs": [],
   "source": [
    "carousel = create_carousel(npub)\n",
    "docs = ', '.join(['\"{0:s}\"'.format(k.split('/')[-1]) for k in res])\n",
    "slides = ', '.join([f'\"slide{k}\"' for k in range(1, npub + 1)])\n",
    "\n",
    "with open(\"daily_template.html\", \"r\") as tpl:\n",
    "    page = tpl.read()\n",
    "    page = page.replace(\"{%-- carousel:s --%}\", carousel)\\\n",
    "               .replace(\"{%-- suptitle:s --%}\",  \"7-day archives\" )\\\n",
    "               .replace(\"{%-- docs:s --%}\", docs)\\\n",
    "               .replace(\"{%-- slides:s --%}\", slides)\n",
    "    \n",
    "with open(\"_build/html/index_7days.html\", 'w') as fout:\n",
    "    fout.write(page)"
   ]
  },
  {
   "cell_type": "code",
   "execution_count": 14,
   "id": "adc1a1ec",
   "metadata": {
    "execution": {
     "iopub.execute_input": "2025-04-10T04:14:06.511912Z",
     "iopub.status.busy": "2025-04-10T04:14:06.511516Z",
     "iopub.status.idle": "2025-04-10T04:14:06.518428Z",
     "shell.execute_reply": "2025-04-10T04:14:06.517771Z"
    },
    "papermill": {
     "duration": 0.013773,
     "end_time": "2025-04-10T04:14:06.519414",
     "exception": false,
     "start_time": "2025-04-10T04:14:06.505641",
     "status": "completed"
    },
    "tags": []
   },
   "outputs": [
    {
     "name": "stdout",
     "output_type": "stream",
     "text": [
      "3  publications in the last day.\n"
     ]
    }
   ],
   "source": [
    "# redo for today\n",
    "days = 1\n",
    "res = list(get_last_n_days(dates, days))\n",
    "npub = len(res)\n",
    "print(len(res), f\" publications in the last day.\")\n",
    "\n",
    "carousel = create_carousel(npub)\n",
    "docs = ', '.join(['\"{0:s}\"'.format(k.split('/')[-1]) for k in res])\n",
    "slides = ', '.join([f'\"slide{k}\"' for k in range(1, npub + 1)])\n",
    "\n",
    "with open(\"daily_template.html\", \"r\") as tpl:\n",
    "    page = tpl.read()\n",
    "    page = page.replace(\"{%-- carousel:s --%}\", carousel)\\\n",
    "               .replace(\"{%-- suptitle:s --%}\",  \"Daily\" )\\\n",
    "               .replace(\"{%-- docs:s --%}\", docs)\\\n",
    "               .replace(\"{%-- slides:s --%}\", slides)\n",
    "    \n",
    "# print(carousel, docs, slides)\n",
    "# print(page)\n",
    "with open(\"_build/html/index_daily.html\", 'w') as fout:\n",
    "    fout.write(page)"
   ]
  },
  {
   "cell_type": "code",
   "execution_count": 15,
   "id": "00eece82",
   "metadata": {
    "execution": {
     "iopub.execute_input": "2025-04-10T04:14:06.530911Z",
     "iopub.status.busy": "2025-04-10T04:14:06.530720Z",
     "iopub.status.idle": "2025-04-10T04:14:06.537041Z",
     "shell.execute_reply": "2025-04-10T04:14:06.536536Z"
    },
    "papermill": {
     "duration": 0.013152,
     "end_time": "2025-04-10T04:14:06.537968",
     "exception": false,
     "start_time": "2025-04-10T04:14:06.524816",
     "status": "completed"
    },
    "scrolled": false,
    "tags": []
   },
   "outputs": [
    {
     "name": "stdout",
     "output_type": "stream",
     "text": [
      "6  6 publications selected.\n"
     ]
    }
   ],
   "source": [
    "# Create the flat grid of the last N papers (fixed number regardless of dates)\n",
    "from itertools import islice \n",
    "\n",
    "npub = 6\n",
    "res = [k[0] for k in (islice(reversed(sorted(dates, key=lambda x: x[1])), 6))]\n",
    "print(len(res), f\" {npub} publications selected.\")\n",
    "\n",
    "grid = create_grid(npub)\n",
    "docs = ', '.join(['\"{0:s}\"'.format(k.split('/')[-1]) for k in res])\n",
    "slides = ', '.join([f'\"slide{k}\"' for k in range(1, npub + 1)])\n",
    "\n",
    "with open(\"grid_template.html\", \"r\") as tpl:\n",
    "    page = tpl.read()\n",
    "    page = page.replace(\"{%-- grid-content:s --%}\", grid)\\\n",
    "               .replace(\"{%-- suptitle:s --%}\",  f\"Last {npub:,d} papers\" )\\\n",
    "               .replace(\"{%-- docs:s --%}\", docs)\\\n",
    "               .replace(\"{%-- slides:s --%}\", slides)\n",
    "    \n",
    "# print(grid, docs, slides)\n",
    "# print(page)\n",
    "with open(\"_build/html/index_npub_grid.html\", 'w') as fout:\n",
    "    fout.write(page)"
   ]
  }
 ],
 "metadata": {
  "kernelspec": {
   "display_name": "Python 3 (ipykernel)",
   "language": "python",
   "name": "python3"
  },
  "language_info": {
   "codemirror_mode": {
    "name": "ipython",
    "version": 3
   },
   "file_extension": ".py",
   "mimetype": "text/x-python",
   "name": "python",
   "nbconvert_exporter": "python",
   "pygments_lexer": "ipython3",
   "version": "3.9.21"
  },
  "papermill": {
   "default_parameters": {},
   "duration": 130.043617,
   "end_time": "2025-04-10T04:14:06.759262",
   "environment_variables": {},
   "exception": null,
   "input_path": "MPIA daily digest.ipynb",
   "output_path": "log.ipynb",
   "parameters": {},
   "start_time": "2025-04-10T04:11:56.715645",
   "version": "2.6.0"
  },
  "vscode": {
   "interpreter": {
    "hash": "aee8b7b246df8f9039afb4144a1f6fd8d2ca17a180786b69acc140d282b71a49"
   }
  },
  "widgets": {
   "application/vnd.jupyter.widget-state+json": {
    "state": {
     "043d73d759e84eefb81a9b98a09343fe": {
      "model_module": "@jupyter-widgets/base",
      "model_module_version": "2.0.0",
      "model_name": "LayoutModel",
      "state": {
       "_model_module": "@jupyter-widgets/base",
       "_model_module_version": "2.0.0",
       "_model_name": "LayoutModel",
       "_view_count": null,
       "_view_module": "@jupyter-widgets/base",
       "_view_module_version": "2.0.0",
       "_view_name": "LayoutView",
       "align_content": null,
       "align_items": null,
       "align_self": null,
       "border_bottom": null,
       "border_left": null,
       "border_right": null,
       "border_top": null,
       "bottom": null,
       "display": null,
       "flex": null,
       "flex_flow": null,
       "grid_area": null,
       "grid_auto_columns": null,
       "grid_auto_flow": null,
       "grid_auto_rows": null,
       "grid_column": null,
       "grid_gap": null,
       "grid_row": null,
       "grid_template_areas": null,
       "grid_template_columns": null,
       "grid_template_rows": null,
       "height": null,
       "justify_content": null,
       "justify_items": null,
       "left": null,
       "margin": null,
       "max_height": null,
       "max_width": null,
       "min_height": null,
       "min_width": null,
       "object_fit": null,
       "object_position": null,
       "order": null,
       "overflow": null,
       "padding": null,
       "right": null,
       "top": null,
       "visibility": null,
       "width": null
      }
     },
     "13a07b11d6dd44bfa14247cc179e21c7": {
      "model_module": "@jupyter-widgets/controls",
      "model_module_version": "2.0.0",
      "model_name": "FloatProgressModel",
      "state": {
       "_dom_classes": [],
       "_model_module": "@jupyter-widgets/controls",
       "_model_module_version": "2.0.0",
       "_model_name": "FloatProgressModel",
       "_view_count": null,
       "_view_module": "@jupyter-widgets/controls",
       "_view_module_version": "2.0.0",
       "_view_name": "ProgressView",
       "bar_style": "success",
       "description": "",
       "description_allow_html": false,
       "layout": "IPY_MODEL_e488f5b8fb864006ac5ff50a51b761c8",
       "max": 6.0,
       "min": 0.0,
       "orientation": "horizontal",
       "style": "IPY_MODEL_80f8d660c7334be48ffae8e6e13d8613",
       "tabbable": null,
       "tooltip": null,
       "value": 6.0
      }
     },
     "14bbf8965d16447f940a073ee54e8434": {
      "model_module": "@jupyter-widgets/controls",
      "model_module_version": "2.0.0",
      "model_name": "HTMLModel",
      "state": {
       "_dom_classes": [],
       "_model_module": "@jupyter-widgets/controls",
       "_model_module_version": "2.0.0",
       "_model_name": "HTMLModel",
       "_view_count": null,
       "_view_module": "@jupyter-widgets/controls",
       "_view_module_version": "2.0.0",
       "_view_name": "HTMLView",
       "description": "",
       "description_allow_html": false,
       "layout": "IPY_MODEL_2315b5d4eb4f4cea8ac1328a5774b997",
       "placeholder": "​",
       "style": "IPY_MODEL_bfffaa06fe7247c79ae3a603cbfb6956",
       "tabbable": null,
       "tooltip": null,
       "value": "100%"
      }
     },
     "17d82dcd1b5f4af6b6304f4e875e0b68": {
      "model_module": "@jupyter-widgets/controls",
      "model_module_version": "2.0.0",
      "model_name": "HTMLStyleModel",
      "state": {
       "_model_module": "@jupyter-widgets/controls",
       "_model_module_version": "2.0.0",
       "_model_name": "HTMLStyleModel",
       "_view_count": null,
       "_view_module": "@jupyter-widgets/base",
       "_view_module_version": "2.0.0",
       "_view_name": "StyleView",
       "background": null,
       "description_width": "",
       "font_size": null,
       "text_color": null
      }
     },
     "2315b5d4eb4f4cea8ac1328a5774b997": {
      "model_module": "@jupyter-widgets/base",
      "model_module_version": "2.0.0",
      "model_name": "LayoutModel",
      "state": {
       "_model_module": "@jupyter-widgets/base",
       "_model_module_version": "2.0.0",
       "_model_name": "LayoutModel",
       "_view_count": null,
       "_view_module": "@jupyter-widgets/base",
       "_view_module_version": "2.0.0",
       "_view_name": "LayoutView",
       "align_content": null,
       "align_items": null,
       "align_self": null,
       "border_bottom": null,
       "border_left": null,
       "border_right": null,
       "border_top": null,
       "bottom": null,
       "display": null,
       "flex": null,
       "flex_flow": null,
       "grid_area": null,
       "grid_auto_columns": null,
       "grid_auto_flow": null,
       "grid_auto_rows": null,
       "grid_column": null,
       "grid_gap": null,
       "grid_row": null,
       "grid_template_areas": null,
       "grid_template_columns": null,
       "grid_template_rows": null,
       "height": null,
       "justify_content": null,
       "justify_items": null,
       "left": null,
       "margin": null,
       "max_height": null,
       "max_width": null,
       "min_height": null,
       "min_width": null,
       "object_fit": null,
       "object_position": null,
       "order": null,
       "overflow": null,
       "padding": null,
       "right": null,
       "top": null,
       "visibility": null,
       "width": null
      }
     },
     "4f165e0d0f5e4fdf9ec0480e0193078a": {
      "model_module": "@jupyter-widgets/controls",
      "model_module_version": "2.0.0",
      "model_name": "HTMLModel",
      "state": {
       "_dom_classes": [],
       "_model_module": "@jupyter-widgets/controls",
       "_model_module_version": "2.0.0",
       "_model_name": "HTMLModel",
       "_view_count": null,
       "_view_module": "@jupyter-widgets/controls",
       "_view_module_version": "2.0.0",
       "_view_name": "HTMLView",
       "description": "",
       "description_allow_html": false,
       "layout": "IPY_MODEL_cae8e37f6e81432a9d3e532826145437",
       "placeholder": "​",
       "style": "IPY_MODEL_17d82dcd1b5f4af6b6304f4e875e0b68",
       "tabbable": null,
       "tooltip": null,
       "value": " 6/6 [01:47&lt;00:00, 20.85s/it]"
      }
     },
     "80f8d660c7334be48ffae8e6e13d8613": {
      "model_module": "@jupyter-widgets/controls",
      "model_module_version": "2.0.0",
      "model_name": "ProgressStyleModel",
      "state": {
       "_model_module": "@jupyter-widgets/controls",
       "_model_module_version": "2.0.0",
       "_model_name": "ProgressStyleModel",
       "_view_count": null,
       "_view_module": "@jupyter-widgets/base",
       "_view_module_version": "2.0.0",
       "_view_name": "StyleView",
       "bar_color": null,
       "description_width": ""
      }
     },
     "bfffaa06fe7247c79ae3a603cbfb6956": {
      "model_module": "@jupyter-widgets/controls",
      "model_module_version": "2.0.0",
      "model_name": "HTMLStyleModel",
      "state": {
       "_model_module": "@jupyter-widgets/controls",
       "_model_module_version": "2.0.0",
       "_model_name": "HTMLStyleModel",
       "_view_count": null,
       "_view_module": "@jupyter-widgets/base",
       "_view_module_version": "2.0.0",
       "_view_name": "StyleView",
       "background": null,
       "description_width": "",
       "font_size": null,
       "text_color": null
      }
     },
     "cae8e37f6e81432a9d3e532826145437": {
      "model_module": "@jupyter-widgets/base",
      "model_module_version": "2.0.0",
      "model_name": "LayoutModel",
      "state": {
       "_model_module": "@jupyter-widgets/base",
       "_model_module_version": "2.0.0",
       "_model_name": "LayoutModel",
       "_view_count": null,
       "_view_module": "@jupyter-widgets/base",
       "_view_module_version": "2.0.0",
       "_view_name": "LayoutView",
       "align_content": null,
       "align_items": null,
       "align_self": null,
       "border_bottom": null,
       "border_left": null,
       "border_right": null,
       "border_top": null,
       "bottom": null,
       "display": null,
       "flex": null,
       "flex_flow": null,
       "grid_area": null,
       "grid_auto_columns": null,
       "grid_auto_flow": null,
       "grid_auto_rows": null,
       "grid_column": null,
       "grid_gap": null,
       "grid_row": null,
       "grid_template_areas": null,
       "grid_template_columns": null,
       "grid_template_rows": null,
       "height": null,
       "justify_content": null,
       "justify_items": null,
       "left": null,
       "margin": null,
       "max_height": null,
       "max_width": null,
       "min_height": null,
       "min_width": null,
       "object_fit": null,
       "object_position": null,
       "order": null,
       "overflow": null,
       "padding": null,
       "right": null,
       "top": null,
       "visibility": null,
       "width": null
      }
     },
     "e19a4c32339e4cc3ae540d9071218789": {
      "model_module": "@jupyter-widgets/controls",
      "model_module_version": "2.0.0",
      "model_name": "HBoxModel",
      "state": {
       "_dom_classes": [],
       "_model_module": "@jupyter-widgets/controls",
       "_model_module_version": "2.0.0",
       "_model_name": "HBoxModel",
       "_view_count": null,
       "_view_module": "@jupyter-widgets/controls",
       "_view_module_version": "2.0.0",
       "_view_name": "HBoxView",
       "box_style": "",
       "children": [
        "IPY_MODEL_14bbf8965d16447f940a073ee54e8434",
        "IPY_MODEL_13a07b11d6dd44bfa14247cc179e21c7",
        "IPY_MODEL_4f165e0d0f5e4fdf9ec0480e0193078a"
       ],
       "layout": "IPY_MODEL_043d73d759e84eefb81a9b98a09343fe",
       "tabbable": null,
       "tooltip": null
      }
     },
     "e488f5b8fb864006ac5ff50a51b761c8": {
      "model_module": "@jupyter-widgets/base",
      "model_module_version": "2.0.0",
      "model_name": "LayoutModel",
      "state": {
       "_model_module": "@jupyter-widgets/base",
       "_model_module_version": "2.0.0",
       "_model_name": "LayoutModel",
       "_view_count": null,
       "_view_module": "@jupyter-widgets/base",
       "_view_module_version": "2.0.0",
       "_view_name": "LayoutView",
       "align_content": null,
       "align_items": null,
       "align_self": null,
       "border_bottom": null,
       "border_left": null,
       "border_right": null,
       "border_top": null,
       "bottom": null,
       "display": null,
       "flex": null,
       "flex_flow": null,
       "grid_area": null,
       "grid_auto_columns": null,
       "grid_auto_flow": null,
       "grid_auto_rows": null,
       "grid_column": null,
       "grid_gap": null,
       "grid_row": null,
       "grid_template_areas": null,
       "grid_template_columns": null,
       "grid_template_rows": null,
       "height": null,
       "justify_content": null,
       "justify_items": null,
       "left": null,
       "margin": null,
       "max_height": null,
       "max_width": null,
       "min_height": null,
       "min_width": null,
       "object_fit": null,
       "object_position": null,
       "order": null,
       "overflow": null,
       "padding": null,
       "right": null,
       "top": null,
       "visibility": null,
       "width": null
      }
     }
    },
    "version_major": 2,
    "version_minor": 0
   }
  }
 },
 "nbformat": 4,
 "nbformat_minor": 5
}