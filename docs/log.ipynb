{
 "cells": [
  {
   "cell_type": "markdown",
   "id": "92bcb855",
   "metadata": {
    "papermill": {
     "duration": 0.003711,
     "end_time": "2025-04-14T04:12:31.159237",
     "exception": false,
     "start_time": "2025-04-14T04:12:31.155526",
     "status": "completed"
    },
    "tags": []
   },
   "source": [
    "# MPIA Arxiv on Deck 2\n",
    "\n",
    "Contains the steps to produce the paper extractions."
   ]
  },
  {
   "cell_type": "code",
   "execution_count": 1,
   "id": "3a0d6e11",
   "metadata": {
    "execution": {
     "iopub.execute_input": "2025-04-14T04:12:31.166997Z",
     "iopub.status.busy": "2025-04-14T04:12:31.166338Z",
     "iopub.status.idle": "2025-04-14T04:12:31.656249Z",
     "shell.execute_reply": "2025-04-14T04:12:31.655517Z"
    },
    "papermill": {
     "duration": 0.495222,
     "end_time": "2025-04-14T04:12:31.657744",
     "exception": false,
     "start_time": "2025-04-14T04:12:31.162522",
     "status": "completed"
    },
    "tags": []
   },
   "outputs": [],
   "source": [
    "# Imports\n",
    "import os\n",
    "from IPython.display import Markdown, display\n",
    "from tqdm.notebook import tqdm\n",
    "import warnings\n",
    "from PIL import Image \n",
    "import re\n",
    "\n",
    "# requires arxiv_on_deck_2\n",
    "\n",
    "from arxiv_on_deck_2.arxiv2 import (get_new_papers, \n",
    "                                    get_paper_from_identifier,\n",
    "                                    retrieve_document_source, \n",
    "                                    get_markdown_badge)\n",
    "from arxiv_on_deck_2 import (latex,\n",
    "                             latex_bib,\n",
    "                             mpia,\n",
    "                             highlight_authors_in_list)\n",
    "\n",
    "# Sometimes images are really big\n",
    "Image.MAX_IMAGE_PIXELS = 1000000000 "
   ]
  },
  {
   "cell_type": "code",
   "execution_count": 2,
   "id": "22aa9d44",
   "metadata": {
    "execution": {
     "iopub.execute_input": "2025-04-14T04:12:31.665297Z",
     "iopub.status.busy": "2025-04-14T04:12:31.664765Z",
     "iopub.status.idle": "2025-04-14T04:12:31.673253Z",
     "shell.execute_reply": "2025-04-14T04:12:31.672720Z"
    },
    "papermill": {
     "duration": 0.013262,
     "end_time": "2025-04-14T04:12:31.674262",
     "exception": false,
     "start_time": "2025-04-14T04:12:31.661000",
     "status": "completed"
    },
    "tags": []
   },
   "outputs": [],
   "source": [
    "# Some useful definitions.\n",
    "\n",
    "class AffiliationWarning(UserWarning):\n",
    "    pass\n",
    "\n",
    "class AffiliationError(RuntimeError):\n",
    "    pass\n",
    "\n",
    "def validation(source: str):\n",
    "    \"\"\"Raises error paper during parsing of source file\n",
    "    \n",
    "    Allows checks before parsing TeX code.\n",
    "    \n",
    "    Raises AffiliationWarning\n",
    "    \"\"\"\n",
    "    check = mpia.affiliation_verifications(source, verbose=True)\n",
    "    if check is not True:\n",
    "        raise AffiliationError(\"mpia.affiliation_verifications: \" + check)\n",
    "\n",
    "        \n",
    "warnings.simplefilter('always', AffiliationWarning)\n",
    "\n",
    "\n",
    "def get_markdown_qrcode(paper_id: str):\n",
    "    \"\"\" Generate a qrcode to the arxiv page using qrserver.com\n",
    "    \n",
    "    :param paper: Arxiv paper\n",
    "    :returns: markdown text\n",
    "    \"\"\"\n",
    "    url = r\"https://api.qrserver.com/v1/create-qr-code/?size=100x100&data=\"\n",
    "    txt = f\"\"\"<img src={url}\"https://arxiv.org/abs/{paper_id}\">\"\"\"\n",
    "    txt = '<div id=\"qrcode\">' + txt + '</div>'\n",
    "    return txt\n",
    "\n",
    "\n",
    "def clean_non_western_encoded_characters_commands(text: str) -> str:\n",
    "    \"\"\" Remove non-western encoded characters from a string\n",
    "    List may need to grow.\n",
    "    \n",
    "    :param text: the text to clean\n",
    "    :return: the cleaned text\n",
    "    \"\"\"\n",
    "    text = re.sub(r\"(\\\\begin{CJK}{UTF8}{gbsn})(.*?)(\\\\end{CJK})\", r\"\\2\", text)\n",
    "    return text\n",
    "\n",
    "\n",
    "def get_initials(name: str) -> str:\n",
    "    \"\"\" Get the short name, e.g., A.-B. FamName\n",
    "    :param name: full name\n",
    "    :returns: initials\n",
    "    \"\"\"\n",
    "    initials = []\n",
    "    # account for non western names often in ()\n",
    "    if '(' in name:\n",
    "        name = clean_non_western_encoded_characters_commands(name)\n",
    "        suffix = re.findall(r\"\\((.*?)\\)\", name)[0]\n",
    "        name = name.replace(f\"({suffix})\", '')\n",
    "    else:\n",
    "        suffix = ''\n",
    "    split = name.split()\n",
    "    for token in split[:-1]:\n",
    "        if '-' in token:\n",
    "            current = '-'.join([k[0] + '.' for k in token.split('-')])\n",
    "        else:\n",
    "            current = token[0] + '.'\n",
    "        initials.append(current)\n",
    "    initials.append(split[-1].strip())\n",
    "    if suffix:\n",
    "        initials.append(f\"({suffix})\")\n",
    "    return ' '.join(initials)"
   ]
  },
  {
   "cell_type": "markdown",
   "id": "14bd6310",
   "metadata": {
    "papermill": {
     "duration": 0.002869,
     "end_time": "2025-04-14T04:12:31.680079",
     "exception": false,
     "start_time": "2025-04-14T04:12:31.677210",
     "status": "completed"
    },
    "tags": []
   },
   "source": [
    "## get list of arxiv paper candidates\n",
    "\n",
    "We use the MPIA mitarbeiter list webpage from mpia.de to get author names\n",
    "We then get all new papers from Arxiv and match authors"
   ]
  },
  {
   "cell_type": "code",
   "execution_count": 3,
   "id": "7ea813a8",
   "metadata": {
    "execution": {
     "iopub.execute_input": "2025-04-14T04:12:31.687009Z",
     "iopub.status.busy": "2025-04-14T04:12:31.686536Z",
     "iopub.status.idle": "2025-04-14T04:12:49.976593Z",
     "shell.execute_reply": "2025-04-14T04:12:49.975939Z"
    },
    "papermill": {
     "duration": 18.294859,
     "end_time": "2025-04-14T04:12:49.977861",
     "exception": false,
     "start_time": "2025-04-14T04:12:31.683002",
     "status": "completed"
    },
    "tags": []
   },
   "outputs": [],
   "source": [
    "# deal with the author list and edge cases of people that cannot be consistent on their name  \n",
    "\n",
    "def filter_non_scientists(name: str) -> bool:\n",
    "    \"\"\" Loose filter on expected authorships\n",
    "\n",
    "    removing IT, administration, technical staff\n",
    "    :param name: name\n",
    "    :returns: False if name is not a scientist\n",
    "    \"\"\"\n",
    "    remove_list = ['Licht', 'Binroth', 'Witzel', 'Jordan',\n",
    "                   'Zähringer', 'Scheerer', 'Hoffmann', 'Düe',\n",
    "                   'Hellmich', 'Enkler-Scharpegge', 'Witte-Nguy',\n",
    "                   'Dehen', 'Beckmann', 'Jager', 'Jäger'\n",
    "                  ]\n",
    "\n",
    "    for k in remove_list:\n",
    "        if k in name:\n",
    "            return False\n",
    "    return True\n",
    "\n",
    "def add_author_to_list(author_list: list) -> list:\n",
    "    \"\"\" Add author to list if not already in list\n",
    "    \n",
    "    :param author: author name\n",
    "    :param author_list: list of authors\n",
    "    :returns: updated list of authors\n",
    "    \"\"\"\n",
    "    add_list = ['T. Henning']\n",
    "\n",
    "    for author in add_list:\n",
    "        if author not in author_list:\n",
    "            author_list.append(author)\n",
    "    return author_list\n",
    "\n",
    "# get list from MPIA website\n",
    "# filter for non-scientists (mpia.get_mpia_mitarbeiter_list() does some filtering)\n",
    "mpia_authors = [k[1] for k in mpia.get_mpia_mitarbeiter_list() if filter_non_scientists(k[1])]\n",
    "# add some missing author because of inconsistencies in their MPIA name and author name on papers\n",
    "mpia_authors = add_author_to_list(mpia_authors)"
   ]
  },
  {
   "cell_type": "code",
   "execution_count": 4,
   "id": "2645e73a",
   "metadata": {
    "execution": {
     "iopub.execute_input": "2025-04-14T04:12:49.984959Z",
     "iopub.status.busy": "2025-04-14T04:12:49.984766Z",
     "iopub.status.idle": "2025-04-14T04:12:50.513651Z",
     "shell.execute_reply": "2025-04-14T04:12:50.512961Z"
    },
    "papermill": {
     "duration": 0.533663,
     "end_time": "2025-04-14T04:12:50.514812",
     "exception": false,
     "start_time": "2025-04-14T04:12:49.981149",
     "status": "completed"
    },
    "tags": []
   },
   "outputs": [
    {
     "name": "stdout",
     "output_type": "stream",
     "text": [
      "M. Benisty  ->  M. Benisty  |  ['M. Benisty']\n",
      "J. Li  ->  J. Li  |  ['J. Li']\n",
      "J. Li  ->  J. Li  |  ['J. Li']\n",
      "A. Dumont  ->  A. Dumont  |  ['A. Dumont']\n",
      "J. Li  ->  J. Li  |  ['J. Li']\n",
      "T. Henning  ->  T. Henning  |  ['T. Henning']\n",
      "A. Hughes  ->  A. Hughes  |  ['A. Hughes']\n",
      "Y. Wang  ->  Y. Wang  |  ['Y. Wang']\n",
      "Arxiv has 52 new papers today\n",
      "          8 with possible author matches\n"
     ]
    }
   ],
   "source": [
    "new_papers = get_new_papers()\n",
    "# add manual references\n",
    "add_paper_refs = []\n",
    "new_papers.extend([get_paper_from_identifier(k) for k in add_paper_refs])\n",
    "\n",
    "def robust_call(fn, value, *args, **kwargs):\n",
    "    try:\n",
    "        return fn(value, *args, **kwargs)\n",
    "    except Exception:\n",
    "        return value\n",
    "\n",
    "candidates = []\n",
    "for paperk in new_papers:\n",
    "    # Check author list with their initials\n",
    "    normed_author_list = [robust_call(mpia.get_initials, k) for k in paperk['authors']]\n",
    "    hl_authors = highlight_authors_in_list(normed_author_list, mpia_authors, verbose=True)\n",
    "    matches = [(hl, orig) for hl, orig in zip(hl_authors, paperk['authors']) if 'mark' in hl]\n",
    "    paperk['authors'] = hl_authors\n",
    "    if matches:\n",
    "        # only select paper if an author matched our list\n",
    "        candidates.append(paperk)\n",
    "print(\"\"\"Arxiv has {0:,d} new papers today\"\"\".format(len(new_papers)))        \n",
    "print(\"\"\"          {0:,d} with possible author matches\"\"\".format(len(candidates)))"
   ]
  },
  {
   "cell_type": "markdown",
   "id": "3543b34a",
   "metadata": {
    "papermill": {
     "duration": 0.003053,
     "end_time": "2025-04-14T04:12:50.521339",
     "exception": false,
     "start_time": "2025-04-14T04:12:50.518286",
     "status": "completed"
    },
    "tags": []
   },
   "source": [
    "# Parse sources and generate relevant outputs\n",
    "\n",
    "From the candidates, we do the following steps:\n",
    "* get their tarball from ArXiv (and extract data)\n",
    "* find the main .tex file: find one with \\documentclass{...} (sometimes it's non trivial)\n",
    "* Check affiliations with :func:`validation`, which uses :func:`mpia.affiliation_verifications`\n",
    "* If passing the affiliations: we parse the .tex source\n",
    "   * inject sub-documents into the main (flatten the main document)\n",
    "   * parse structure, extract information (title, abstract, authors, figures...)\n",
    "   * handles `\\graphicspath` if provided\n",
    "* Generate the .md document."
   ]
  },
  {
   "cell_type": "code",
   "execution_count": 5,
   "id": "9576b79e",
   "metadata": {
    "execution": {
     "iopub.execute_input": "2025-04-14T04:12:50.528557Z",
     "iopub.status.busy": "2025-04-14T04:12:50.528107Z",
     "iopub.status.idle": "2025-04-14T04:14:04.489971Z",
     "shell.execute_reply": "2025-04-14T04:14:04.489171Z"
    },
    "papermill": {
     "duration": 73.966914,
     "end_time": "2025-04-14T04:14:04.491298",
     "exception": false,
     "start_time": "2025-04-14T04:12:50.524384",
     "status": "completed"
    },
    "scrolled": false,
    "tags": []
   },
   "outputs": [
    {
     "data": {
      "application/vnd.jupyter.widget-view+json": {
       "model_id": "e959827e3ddd46249f1946167f0f20b8",
       "version_major": 2,
       "version_minor": 0
      },
      "text/plain": [
       "  0%|          | 0/8 [00:00<?, ?it/s]"
      ]
     },
     "metadata": {},
     "output_type": "display_data"
    },
    {
     "name": "stdout",
     "output_type": "stream",
     "text": [
      "Retrieving document from  https://arxiv.org/e-print/2504.08029\n"
     ]
    },
    {
     "name": "stdout",
     "output_type": "stream",
     "text": [
      "extracting tarball to tmp_2504.08029... done.\n"
     ]
    },
    {
     "name": "stdout",
     "output_type": "stream",
     "text": [
      "M. Benisty  ->  M. Benisty  |  ['M. Benisty']\n"
     ]
    },
    {
     "name": "stdout",
     "output_type": "stream",
     "text": [
      "Issues with the citations\n",
      "list index out of range\n",
      "Retrieving document from  https://arxiv.org/e-print/2504.08030\n",
      "extracting tarball to tmp_2504.08030..."
     ]
    },
    {
     "name": "stdout",
     "output_type": "stream",
     "text": [
      " done.\n",
      "  1: tmp_2504.08030/aassymbols.tex, 579 lines\n",
      "  4: tmp_2504.08030/main.tex, 741 lines\n",
      "Retrieving document from  https://arxiv.org/e-print/2504.08032\n"
     ]
    },
    {
     "name": "stderr",
     "output_type": "stream",
     "text": [
      "/opt/hostedtoolcache/Python/3.9.21/x64/lib/python3.9/site-packages/IPython/core/interactiveshell.py:3550: LatexWarning: Multiple tex files.\n",
      "\n",
      "  exec(code_obj, self.user_global_ns, self.user_ns)\n",
      "/opt/hostedtoolcache/Python/3.9.21/x64/lib/python3.9/site-packages/IPython/core/interactiveshell.py:3550: LatexWarning: Found 2 candidates with documentclass definition.\n",
      "  exec(code_obj, self.user_global_ns, self.user_ns)\n",
      "/opt/hostedtoolcache/Python/3.9.21/x64/lib/python3.9/site-packages/IPython/core/interactiveshell.py:3550: LatexWarning: Assuming tmp_2504.08030/main.tex as main document.\n",
      "  exec(code_obj, self.user_global_ns, self.user_ns)\n",
      "/opt/hostedtoolcache/Python/3.9.21/x64/lib/python3.9/site-packages/arxiv_on_deck_2/latex.py:414: LatexWarning: Latex injecting: 'literature_hosts' from 'tmp_2504.08030/literature_hosts.tex'\n",
      "  warnings.warn(LatexWarning(f\"Latex injecting: '{ext}' from '{subsource}'\"))\n",
      "/opt/hostedtoolcache/Python/3.9.21/x64/lib/python3.9/site-packages/arxiv_on_deck_2/latex.py:414: LatexWarning: Latex injecting: 'sat_cat' from 'tmp_2504.08030/sat_cat.tex'\n",
      "  warnings.warn(LatexWarning(f\"Latex injecting: '{ext}' from '{subsource}'\"))\n",
      "/opt/hostedtoolcache/Python/3.9.21/x64/lib/python3.9/site-packages/arxiv_on_deck_2/latex.py:414: LatexWarning: Latex injecting: 'hosts_cat' from 'tmp_2504.08030/hosts_cat.tex'\n",
      "  warnings.warn(LatexWarning(f\"Latex injecting: '{ext}' from '{subsource}'\"))\n"
     ]
    },
    {
     "name": "stdout",
     "output_type": "stream",
     "text": [
      "extracting tarball to tmp_2504.08032..."
     ]
    },
    {
     "name": "stdout",
     "output_type": "stream",
     "text": [
      " done.\n",
      "  0: tmp_2504.08032/aassymbols.tex, 579 lines\n",
      "  1: tmp_2504.08032/main_update.tex, 446 lines\n",
      "Retrieving document from  https://arxiv.org/e-print/2504.08034\n"
     ]
    },
    {
     "name": "stderr",
     "output_type": "stream",
     "text": [
      "/opt/hostedtoolcache/Python/3.9.21/x64/lib/python3.9/site-packages/IPython/core/interactiveshell.py:3550: LatexWarning: Multiple tex files.\n",
      "\n",
      "  exec(code_obj, self.user_global_ns, self.user_ns)\n",
      "/opt/hostedtoolcache/Python/3.9.21/x64/lib/python3.9/site-packages/IPython/core/interactiveshell.py:3550: LatexWarning: Found 2 candidates with documentclass definition.\n",
      "  exec(code_obj, self.user_global_ns, self.user_ns)\n",
      "/opt/hostedtoolcache/Python/3.9.21/x64/lib/python3.9/site-packages/IPython/core/interactiveshell.py:3550: LatexWarning: Assuming tmp_2504.08032/aassymbols.tex as main document.\n",
      "  exec(code_obj, self.user_global_ns, self.user_ns)\n"
     ]
    },
    {
     "name": "stdout",
     "output_type": "stream",
     "text": [
      "extracting tarball to tmp_2504.08034..."
     ]
    },
    {
     "name": "stdout",
     "output_type": "stream",
     "text": [
      " done.\n"
     ]
    },
    {
     "name": "stdout",
     "output_type": "stream",
     "text": [
      "A. Dumont  ->  A. Dumont  |  ['A. Dumont']\n"
     ]
    },
    {
     "name": "stdout",
     "output_type": "stream",
     "text": [
      "Found 76 bibliographic references in tmp_2504.08034/paper.bbl.\n",
      "Issues with the citations\n",
      "syntax error in line 151: '=' expected\n",
      "Retrieving document from  https://arxiv.org/e-print/2504.08067\n"
     ]
    },
    {
     "name": "stderr",
     "output_type": "stream",
     "text": [
      "/opt/hostedtoolcache/Python/3.9.21/x64/lib/python3.9/site-packages/arxiv_on_deck_2/latex_bib.py:132: UserWarning: Error processing bibitem\n",
      " item = \\bibitem[{{HI4PI Collaboration} {et~al.}(2016){HI4PI Collaboration}, {Ben Bekhti}, {Fl{ö}er}, {Keller}, {Kerp}, {Lenz}, {Winkel}, {Bailin}, {Calabretta}, {Dedes}, {Ford}, {Gibson}, {Haud}, {Janowiecki}, {Kalberla}, {Lockman}, {McClure-Griffiths}, {Murphy}, {Nakanishi}, {Pisano},  {Staveley-Smith}}]{2016A&A...594A.116H}{HI4PI Collaboration}, {Ben Bekhti}, N., {Fl{ö}er}, L., {et~al.} 2016, \\aap, 594, A116, \\dodoi{10.1051/0004-6361/201629178}\n",
      " regex = \n",
      "        \\\\bibitem(\\[[^\\[\\]]*?\\]){(?P<bibkey>[a-zA-Z0-9\\-\\+\\.\\S]+?)}(?P<authors>|([\\D]*?))(?P<year>[12][0-9]{3})(?P<rest>.*)\n",
      "        \n",
      "  warnings.warn(str(e))\n"
     ]
    },
    {
     "name": "stdout",
     "output_type": "stream",
     "text": [
      "extracting tarball to tmp_2504.08067..."
     ]
    },
    {
     "name": "stdout",
     "output_type": "stream",
     "text": [
      " done.\n",
      "Retrieving document from  https://arxiv.org/e-print/2504.08363\n"
     ]
    },
    {
     "name": "stdout",
     "output_type": "stream",
     "text": [
      "extracting tarball to tmp_2504.08363... done.\n"
     ]
    },
    {
     "name": "stdout",
     "output_type": "stream",
     "text": [
      "T. Henning  ->  T. Henning  |  ['T. Henning']\n"
     ]
    },
    {
     "name": "stdout",
     "output_type": "stream",
     "text": [
      "Found 123 bibliographic references in tmp_2504.08363/clustering.bbl.\n",
      "Issues with the citations\n",
      "syntax error in line 18: '=' expected\n",
      "Retrieving document from  https://arxiv.org/e-print/2504.08387\n"
     ]
    },
    {
     "name": "stdout",
     "output_type": "stream",
     "text": [
      "extracting tarball to tmp_2504.08387..."
     ]
    },
    {
     "name": "stdout",
     "output_type": "stream",
     "text": [
      " done.\n",
      "Retrieving document from  https://arxiv.org/e-print/2504.08436\n"
     ]
    },
    {
     "name": "stdout",
     "output_type": "stream",
     "text": [
      "extracting tarball to tmp_2504.08436..."
     ]
    },
    {
     "name": "stdout",
     "output_type": "stream",
     "text": [
      " done.\n",
      "  0: tmp_2504.08436/natnotes.tex, 332 lines\n",
      "  1: tmp_2504.08436/natbib.tex, 96 lines\n",
      "  2: tmp_2504.08436/Manuscript0411.tex, 766 lines\n",
      "  3: tmp_2504.08436/aassymbols.tex, 579 lines\n"
     ]
    },
    {
     "name": "stderr",
     "output_type": "stream",
     "text": [
      "/opt/hostedtoolcache/Python/3.9.21/x64/lib/python3.9/site-packages/IPython/core/interactiveshell.py:3550: LatexWarning: Multiple tex files.\n",
      "\n",
      "  exec(code_obj, self.user_global_ns, self.user_ns)\n",
      "/opt/hostedtoolcache/Python/3.9.21/x64/lib/python3.9/site-packages/IPython/core/interactiveshell.py:3550: LatexWarning: Found 4 candidates with documentclass definition.\n",
      "  exec(code_obj, self.user_global_ns, self.user_ns)\n",
      "/opt/hostedtoolcache/Python/3.9.21/x64/lib/python3.9/site-packages/IPython/core/interactiveshell.py:3550: LatexWarning: Assuming tmp_2504.08436/Manuscript0411.tex as main document.\n",
      "  exec(code_obj, self.user_global_ns, self.user_ns)\n"
     ]
    }
   ],
   "source": [
    "documents = []\n",
    "failed = []\n",
    "for paper in tqdm(candidates):\n",
    "    # debug crap\n",
    "    paper['identifier'] = paper['identifier'].lower().replace('arxiv:', '').replace(r'\\n', '').strip()\n",
    "    paper_id = paper['identifier']\n",
    "    \n",
    "    folder = f'tmp_{paper_id}'\n",
    "\n",
    "    try:\n",
    "        if not os.path.isdir(folder):\n",
    "            folder = retrieve_document_source(f\"{paper_id}\", f'tmp_{paper_id}')\n",
    "        \n",
    "        try:\n",
    "            doc = latex.LatexDocument(folder, validation=validation)    \n",
    "        except AffiliationError as affilerror:\n",
    "            msg = f\"ArXiv:{paper_id:s} is not an MPIA paper... \" + str(affilerror)\n",
    "            failed.append((paper, \"affiliation error: \" + str(affilerror) ))\n",
    "            continue\n",
    "        \n",
    "        # Hack because sometimes author parsing does not work well\n",
    "        if (len(doc.authors) != len(paper['authors'])):\n",
    "            doc._authors = paper['authors']\n",
    "        else:\n",
    "            # highlight authors (FIXME: doc.highlight_authors)\n",
    "            # done on arxiv paper already\n",
    "            doc._authors = highlight_authors_in_list(\n",
    "                [get_initials(k) for k in doc.authors], \n",
    "                mpia_authors, verbose=True)\n",
    "        if (doc.abstract) in (None, ''):\n",
    "            doc._abstract = paper['abstract']\n",
    "            \n",
    "        doc.comment = (get_markdown_badge(paper_id) + \n",
    "                       \"<mark>Appeared on: \" + paper['date'] + \"</mark> - \")\n",
    "        if paper['comments']:\n",
    "            doc.comment += \" _\" + paper['comments'] + \"_\"\n",
    "        \n",
    "        full_md = doc.generate_markdown_text()\n",
    "        \n",
    "        full_md += get_markdown_qrcode(paper_id)\n",
    "        \n",
    "        # replace citations\n",
    "        try:\n",
    "            bibdata = latex_bib.LatexBib.from_doc(doc)\n",
    "            full_md = latex_bib.replace_citations(full_md, bibdata)\n",
    "        except Exception as e:\n",
    "            print(\"Issues with the citations\")\n",
    "            print(e)\n",
    "        \n",
    "        documents.append((paper_id, full_md))\n",
    "    except Exception as e:\n",
    "        warnings.warn(latex.LatexWarning(f\"{paper_id:s} did not run properly\\n\" +\n",
    "                                         str(e)\n",
    "                                        ))\n",
    "        failed.append((paper, \"latex error \" + str(e)))"
   ]
  },
  {
   "cell_type": "markdown",
   "id": "2505a25c",
   "metadata": {
    "papermill": {
     "duration": 0.004237,
     "end_time": "2025-04-14T04:14:04.500120",
     "exception": false,
     "start_time": "2025-04-14T04:14:04.495883",
     "status": "completed"
    },
    "tags": []
   },
   "source": [
    "### Export the logs\n",
    "\n",
    "Throughout, we also keep track of the logs per paper. see `logs-{today date}.md` "
   ]
  },
  {
   "cell_type": "code",
   "execution_count": 6,
   "id": "d733828a",
   "metadata": {
    "execution": {
     "iopub.execute_input": "2025-04-14T04:14:04.509989Z",
     "iopub.status.busy": "2025-04-14T04:14:04.509648Z",
     "iopub.status.idle": "2025-04-14T04:14:04.528978Z",
     "shell.execute_reply": "2025-04-14T04:14:04.528308Z"
    },
    "papermill": {
     "duration": 0.025496,
     "end_time": "2025-04-14T04:14:04.529951",
     "exception": false,
     "start_time": "2025-04-14T04:14:04.504455",
     "status": "completed"
    },
    "scrolled": false,
    "tags": []
   },
   "outputs": [
    {
     "data": {
      "text/markdown": [
       "## Successful papers"
      ],
      "text/plain": [
       "<IPython.core.display.Markdown object>"
      ]
     },
     "metadata": {},
     "output_type": "display_data"
    },
    {
     "data": {
      "text/markdown": [
       "\n",
       "|||\n",
       "|---:|:---|\n",
       "| [![arXiv](https://img.shields.io/badge/arXiv-2504.08029-b31b1b.svg)](https://arxiv.org/abs/2504.08029) | **Coordinated Space and Ground-Based Monitoring of Accretion Bursts in a Protoplanetary Disk: Establishing Mid-Infrared Hydrogen Lines as Accretion Diagnostics for JWST-MIRI**  |\n",
       "|| B. M. Tofflemire, et al. -- incl., <mark>M. Benisty</mark> |\n",
       "|*Appeared on*| *2025-04-14*|\n",
       "|*Comments*| *Accepted to ApJ. 16 pages, 7 Figures, 3 Tables, 2 Appendices*|\n",
       "|**Abstract**|            In this paper, we establish and calibrate mid-infrared hydrogen recombination lines observed with JWST as accretion tracers for pre-main-sequence stars that accrete from circumstellar disks. This work is part of a coordinated, multi-observatory effort that monitored the well-known binary system DQ Tau over three orbital periods, capturing its periodic accretion bursts. In this first paper, we present 9 epochs of MIRI-MRS spectra with near-simultaneous LCO photometry and VLT X-Shooter spectroscopy. This program caught exceptional accretion variability, spanning almost two orders of magnitude between the peak of the first periastron accretion burst and the following quiescent phases. The MIRI spectra show H I line luminosities that vary in step with the accretion-luminosity time series measured with LCO and X-Shooter. The tight correlation with accretion and the large line widths, which MIRI resolves for the first time, support an accretion-flow origin for mid-infrared H I transitions. Combining these three exceptional datasets, we derive accurate relations between mid-infrared line and accretion luminosities for three H I transitions (10-7, 7-6, 8-7), and improve upon a previous relation based on Spitzer spectra. These new relations equip the community with a direct measurement of the accretion luminosity from MIRI-MRS spectra. A MIRI-derived accretion luminosity is fundamental for time-domain chemistry studies, as well as for studies of accretion in embedded/distant sources that are currently inaccessible in the optical. With these new relations, we provide accretion luminosities for an archival sample of 38 MRS spectra of protoplanetary disks published to date.         |"
      ],
      "text/plain": [
       "[2504.08029] Coordinated Space and Ground-Based Monitoring of Accretion Bursts in a Protoplanetary Disk: Establishing Mid-Infrared Hydrogen Lines as Accretion Diagnostics for JWST-MIRI\n",
       "\tB. M. Tofflemire, et al. -- incl., <mark>M. Benisty</mark>"
      ]
     },
     "metadata": {},
     "output_type": "display_data"
    },
    {
     "data": {
      "text/markdown": [
       "\n",
       "|||\n",
       "|---:|:---|\n",
       "| [![arXiv](https://img.shields.io/badge/arXiv-2504.08034-b31b1b.svg)](https://arxiv.org/abs/2504.08034) | **X-ray Constraints on Wandering Black Holes in Stripped Galaxy Nuclei in the Halo of NGC 5128**  |\n",
       "|| S. L. Feyan, et al. -- incl., <mark>A. Dumont</mark> |\n",
       "|*Appeared on*| *2025-04-14*|\n",
       "|*Comments*| *13 pages, 3 figures, 2 tables. Accepted for publication in ApJ*|\n",
       "|**Abstract**|            A subset of galaxies have dense nuclei, and when these galaxies are accreted and tidally stripped, the nuclei can masquerade as globular clusters in the halos of large galaxies. If these nuclei contain massive central black holes, some may accrete gas and become observable as active galactic nuclei. Previous studies have found that candidate stripped nuclei rarely host luminous X-ray sources, but these studies were typically restricted to both the most massive candidate nuclei and the most luminous X-ray sources. Here we use new and archival Chandra and XMM-Newton data to search for X-ray emission in a near-complete sample of massive globular clusters and candidate stripped nuclei in the nearest accessible elliptical galaxy, NGC 5128. This sample has the unique advantage that the candidate stripped nuclei are identified dynamically via elevated mass-to-light ratios. Our central result is that 5/22 ($23^{+11}_{-6}$%) of the candidate stripped nuclei have X-ray sources down to a typical limit of $L_X \\sim 5 \\times 10^{36}$ erg s$^{-1}$, a fraction lower than or comparable to that among massive clusters with normal mass-to-light ratios (16/41; $39^{+8}_{-7}$%). Hence we confirm and extend the result that nearly all X-ray sources in stripped nuclei are likely to be X-ray binaries rather than active galactic nuclei. If the candidate stripped nuclei have black holes of typical masses $\\sim 2 \\times 10^{5} M_{\\odot}$ needed to explain their elevated mass-to-light ratios, then they have typical Eddington ratios of $\\lesssim 2 \\times 10^{-6}$. This suggests that it will be challenging to conduct an accretion census of wandering black holes around even nearby galaxies.         |"
      ],
      "text/plain": [
       "[2504.08034] X-ray Constraints on Wandering Black Holes in Stripped Galaxy Nuclei in the Halo of NGC 5128\n",
       "\tS. L. Feyan, et al. -- incl., <mark>A. Dumont</mark>"
      ]
     },
     "metadata": {},
     "output_type": "display_data"
    },
    {
     "data": {
      "text/markdown": [
       "\n",
       "|||\n",
       "|---:|:---|\n",
       "| [![arXiv](https://img.shields.io/badge/arXiv-2504.08363-b31b1b.svg)](https://arxiv.org/abs/2504.08363) | **The CARMENES search for exoplanets around M dwarfs. Cluster analysis of signals from spectral activity indicators to search for shared periods**  |\n",
       "|| J. Kemmer, et al. -- incl., <mark>T. Henning</mark> |\n",
       "|*Appeared on*| *2025-04-14*|\n",
       "|*Comments*| *33 pages (16 pages main text), 14 figures, accepted for publication in Astronomy & Astrophysics*|\n",
       "|**Abstract**|            A multitude of spectral activity indicators are routinely computed nowadays from the spectra generated as part of planet-hunting radial velocity surveys. Searching for shared periods among them can help to robustly identify astrophysical quantities of interest, such as the stellar rotation period. However, this identification can be complicated due to the fact that many different peaks occurring in the periodograms. This is especially true in the presence of aliasing and spurious signals caused by environmental influences affecting the instrument. Our goal is to test a clustering algorithm to find signals with the same periodicity, (i.e. with the stellar rotation period) in the periodograms of a large number of activity indicators. On this basis, we have looked to evaluate the correlations between activity indicators and fundamental stellar parameters. We used generalised Lomb-Scargle periodograms to find periodic signals in 24 activity indicators, spanning the VIS and NIR channels of the CARMENES spectrograph. Common periods were subsequently determined by a machine learning algorithm for density-based spatial clustering of applications with noise (DBSCAN). The clustering analysis of the signals apparent in the spectral activity indicators is a powerful tool for the detection of stellar rotation periods. It is straightforward to implement and can be easily automated, so that large data sets can be analysed. For a sample of 136 stars, we were able to recover the stellar rotation period in a total of 59 cases, including 3 with a previously unknown rotation period. In addition, we analysed spurious signals frequently occurring at the period of one year and its integer fractions, concluding that they are likely aliases of one underlying signal. Furthermore, we reproduced the results of several previous studies on the relationships between activity indicators and the stellar characteristics.         |"
      ],
      "text/plain": [
       "[2504.08363] The CARMENES search for exoplanets around M dwarfs. Cluster analysis of signals from spectral activity indicators to search for shared periods\n",
       "\tJ. Kemmer, et al. -- incl., <mark>T. Henning</mark>"
      ]
     },
     "metadata": {},
     "output_type": "display_data"
    },
    {
     "data": {
      "text/markdown": [
       "## Failed papers"
      ],
      "text/plain": [
       "<IPython.core.display.Markdown object>"
      ]
     },
     "metadata": {},
     "output_type": "display_data"
    },
    {
     "data": {
      "text/markdown": [
       "\n",
       "|||\n",
       "|---:|:---|\n",
       "| [![arXiv](https://img.shields.io/badge/arXiv-2504.08030-b31b1b.svg)](https://arxiv.org/abs/2504.08030) | **ELVES-Dwarf I: Satellites Systems of Eight Isolated Dwarf Galaxies in the Local Volume**  |\n",
       "|| <mark>J. Li</mark>, et al. |\n",
       "|*Appeared on*| *2025-04-14*|\n",
       "|*Comments*| *Submitted to ApJ. Comments are welcome!*|\n",
       "|**Abstract**|            The satellite populations of Milky Way--mass systems have been extensively studied, significantly advancing our understanding of galaxy formation and dark matter physics. In contrast, the satellites of lower-mass dwarf galaxies remain largely unexplored, despite hierarchical structure formation predicting that dwarf galaxies should host their own satellites. We present the first results of the ELVES-Dwarf survey, which aims to statistically characterize the satellite populations of isolated dwarf galaxies in the Local Volume ($4<D<10$~Mpc). We identify satellite candidates in integrated light using the Legacy Surveys data and are complete down to $M_g\\approx -9$ mag. We then confirm the association of satellite candidates with host galaxies using surface brightness fluctuation distances measured from the Hyper Suprime-Cam data. We surveyed 8 isolated dwarf galaxies with stellar masses ranging from sub-Small Magellanic Cloud to Large Magellanic Cloud scales ($10^{7.8} < M_\\star^{\\rm host}<10^{9.5}\\, M_\\odot$) and confirmed 6 satellites with stellar masses between $10^{5.6}$ and $10^{8} \\, M_\\odot$. Most confirmed satellites are star-forming, contrasting with the primarily quiescent satellites observed around Milky Way--mass hosts. By comparing observed satellite abundances and stellar mass functions with theoretical predictions, we find no evidence of a \"missing satellite problem\" in the dwarf galaxy regime.         |\n",
       "|<p style=\"color:green\"> **ERROR** </p>| <p style=\"color:green\">affiliation error: mpia.affiliation_verifications: 'Heidelberg' keyword not found.</p> |"
      ],
      "text/plain": [
       "<IPython.core.display.Markdown object>"
      ]
     },
     "metadata": {},
     "output_type": "display_data"
    },
    {
     "data": {
      "text/markdown": [
       "\n",
       "|||\n",
       "|---:|:---|\n",
       "| [![arXiv](https://img.shields.io/badge/arXiv-2504.08032-b31b1b.svg)](https://arxiv.org/abs/2504.08032) | **Counting Little Red Dots at $z<4$ with Ground-based Surveys and Spectroscopic Follow-up**  |\n",
       "|| Y. Ma, et al. -- incl., <mark>J. Li</mark> |\n",
       "|*Appeared on*| *2025-04-14*|\n",
       "|*Comments*| *15 pages, 8 figures, submitted to ApJL. Comments are welcome*|\n",
       "|**Abstract**|            Little red dots (LRDs) are a population of red, compact objects discovered by JWST at $z>4$. At $4<z<8$, they are roughly 100 times more abundant than UV-selected quasars. However, their number density is uncertain at $z<4$ due to the small sky coverage and limited blue wavelength coverage of JWST. We present our ground-based search for LRDs at $2\\lesssim z\\lesssim4$, combining ultra-deep Hyper Suprime-Cam photometry and various (near-)infrared surveys within a total area of $\\sim3.1\\,\\mathrm{deg^{2}}$. We find that for LRDs with $M_{5500}<-22.5$, their number density declines from $\\sim10^{-4.5}\\,\\mathrm{cMpc^{-3}}$ at $z>4$ to $\\sim10^{-5.3}\\,\\mathrm{cMpc^{-3}}$ at $2.7<z<3.7$ and $\\sim10^{-5.7}\\,\\mathrm{cMpc^{-3}}$ at $1.7<z<2.7$. We also present the Magellan/FIRE spectrum of our first followed-up candidate, DEEP23-z2LRD1 at $z_\\mathrm{spec}=2.26$, as a proof of concept for our sample selection. Similar to high-redshift LRDs, the spectrum of DEEP23-z2LRD1 exhibits broad H$\\alpha$ emission with $\\mathrm{FWHM}\\approx2400\\,\\mathrm{km\\,s^{-1}}$ and with nearly symmetric narrow H$\\alpha$ absorption. Additionally, DEEP23-z2LRD1 has extremely narrow [OIII] lines with $\\mathrm{FWHM}\\approx140\\,\\mathrm{km\\,s^{-1}}$, suggesting the presence of an accreting black hole in a low-mass host galaxy. Limited by the angular resolution of ground-based surveys, we emphasize that spectroscopic follow-ups are required to characterize the contamination fraction of this sample and pin down LRD number density at $z<4$.         |\n",
       "|<p style=\"color:green\"> **ERROR** </p>| <p style=\"color:green\">affiliation error: mpia.affiliation_verifications: 'Heidelberg' keyword not found.</p> |"
      ],
      "text/plain": [
       "<IPython.core.display.Markdown object>"
      ]
     },
     "metadata": {},
     "output_type": "display_data"
    },
    {
     "data": {
      "text/markdown": [
       "\n",
       "|||\n",
       "|---:|:---|\n",
       "| [![arXiv](https://img.shields.io/badge/arXiv-2504.08067-b31b1b.svg)](https://arxiv.org/abs/2504.08067) | **Disk-jet coupling across the spectral transition in supermassive black holes**  |\n",
       "|| J.-L. Kang, et al. -- incl., <mark>J. Li</mark> |\n",
       "|*Appeared on*| *2025-04-14*|\n",
       "|*Comments*| *13 pages, 7 figures, submitted to MNRAS. Comments are very welcome!*|\n",
       "|**Abstract**|            Accretion flows in both stellar and supermassive black holes show a distinct spectral transition. This is seen directly in binaries and changing look AGN, and also in a recent sample of eROSITA X-ray selected, unobscured AGN where the stacked spectral energy distributions (SEDs) for a single black hole mass bin (log $M/M_{\\odot} =8-8.5$) clearly show the UV bright disk appearing as the luminosity increases. In binaries, this transition is associated with a change in radio jet, from coupling to the X-ray hot flow with $L_R \\propto L_X^{0.7}$ (Fundamental Plane relation), to collapsing when the X-ray hot flow collapses into a disc. We explore the radio behaviour across the transition in our AGN sample by stacking VLASS images. We significantly detect weak radio emission even after subtracting the contribution from star formation in the host galaxy. The residual radio emission remains relatively constant across the transition, despite the mean mass accretion rate changing by a factor 6 and UV flux changing by a factor 100. However, the X-rays change by only a factor 2, giving a constant radio to X-ray flux ratio as predicted by the 'fundamental plane'. We show that this is consistent with these AGN having the same compact radio jet coupling to the X-ray hot flow (not the disc) as in the binaries. The most significant difference is the persistence of the coronal X-rays across the spectral transition in AGN, whereas in binaries the coronal X-rays can be very weak in the disc dominated state.         |\n",
       "|<p style=\"color:green\"> **ERROR** </p>| <p style=\"color:green\">affiliation error: mpia.affiliation_verifications: 'Heidelberg' keyword not found.</p> |"
      ],
      "text/plain": [
       "<IPython.core.display.Markdown object>"
      ]
     },
     "metadata": {},
     "output_type": "display_data"
    },
    {
     "data": {
      "text/markdown": [
       "\n",
       "|||\n",
       "|---:|:---|\n",
       "| [![arXiv](https://img.shields.io/badge/arXiv-2504.08387-b31b1b.svg)](https://arxiv.org/abs/2504.08387) | **Beetroots: spatially-regularized Bayesian inference of physical parameter maps -- Application to Orion**  |\n",
       "|| P. Palud, et al. -- incl., <mark>A. Hughes</mark> |\n",
       "|*Appeared on*| *2025-04-14*|\n",
       "|*Comments*| **|\n",
       "|**Abstract**|            The current generation of millimeter receivers is able to produce cubes of 800 000 pixels by 200 000 frequency channels to cover several square degrees over the 3 mm atmospheric window. Estimating the physical conditions of the interstellar medium (ISM) with an astrophysical model on such datasets is challenging. Common approaches tend to converge to local minima and typically poorly reconstruct regions with low signal-to-noise ratio (S/N). This instrumental revolution thus calls for new scalable data analysis techniques. We present Beetroots, a Python software that performs Bayesian reconstruction of maps of physical conditions from observation maps and an astrophysical model. It relies on an accurate statistical model, exploits spatial regularization to guide estimations, and uses state-of-the-art algorithms. It also assesses the ability of the astrophysical model to explain the observations, providing feedback to improve ISM models. We demonstrate the power of Beetroots with the Meudon PDR code on synthetic data, and then apply it to estimate physical condition maps in the full Orion molecular cloud 1 (OMC-1) star forming region based on Herschel molecular line emission maps. The application to the synthetic case shows that Beetroots can currently analyse maps with up to ten thousand pixels, addressing large variations of S/N, escaping from local minima, and providing consistent uncertainty quantifications. On a laptop, the inference runtime ranges from a few minutes for 100-pixel maps to 28 hours for 8100-pixel maps. The results on the OMC-1 maps are consistent with independent estimations from the literature, and improve our understanding of the region. This work paves the way towards systematic and rigorous analyses of observations produced by current and future instruments.         |\n",
       "|<p style=\"color:green\"> **ERROR** </p>| <p style=\"color:green\">affiliation error: mpia.affiliation_verifications: 'Heidelberg' keyword not found.</p> |"
      ],
      "text/plain": [
       "<IPython.core.display.Markdown object>"
      ]
     },
     "metadata": {},
     "output_type": "display_data"
    },
    {
     "data": {
      "text/markdown": [
       "\n",
       "|||\n",
       "|---:|:---|\n",
       "| [![arXiv](https://img.shields.io/badge/arXiv-2504.08436-b31b1b.svg)](https://arxiv.org/abs/2504.08436) | **Bifurcated Evolutionary Pathways in Multi-planet Systems Driven by Misaligned Protoplanetary Disks**  |\n",
       "|| T. Fu, <mark>Y. Wang</mark>, W. Hu |\n",
       "|*Appeared on*| *2025-04-14*|\n",
       "|*Comments*| *16 pages, 11 figures, submitted to The Astrophysical Journal Letters (ApJL)*|\n",
       "|**Abstract**|            Stellar obliquities, or spin-orbit angles, prevalent in exoplanet systems, can impose important constraints on their formation and evolution histories. Recent studies suggest that primordial misalignments between protoplanetary disks and stellar spin axes may significantly contribute to these obliquities, as those frequently observed in systems hosting hot Jupiters. In this study, we demonstrate that misaligned protoplanetary disks combined with stellar oblateness drive complex dynamical evolution in planetary systems during their disk dispersal stages. Specifically, we identify bifurcated evolutionary pathways in multi-planet systems: systems with low star-disk misalignment angles ($\\psi_{\\star0}$) undergo smooth, adiabatic evolution, producing nearly coplanar, low-obliquity configurations; in contrast, systems with high misalignment angles typically experience an abrupt, non-adiabatic transition, leading to large-amplitude libration of mutual planetary inclinations and then triggering chaotic eccentricity excitation. This libration and eccentricity excitation process can propagate inward-outward in compact multi-planet systems, forming an excitation chain that can destabilize the entire system. The non-adiabatic transition arises from the dynamical bifurcation-induced effect, which occurs during disk dissipation when $\\psi_{\\star0}\\gtrsim44.6^\\circ$ (for one-planet systems). Our framework predicts that surviving typical compact multi-planet systems originating from misaligned disks evolve toward coplanar, low-obliquity configurations, consistent with observations of Kepler multi-planet systems. These results advance our understanding of planetary dynamics in misaligned disks and their evolutionary outcomes.         |\n",
       "|<p style=\"color:green\"> **ERROR** </p>| <p style=\"color:green\">affiliation error: mpia.affiliation_verifications: 'Heidelberg' keyword not found.</p> |"
      ],
      "text/plain": [
       "<IPython.core.display.Markdown object>"
      ]
     },
     "metadata": {},
     "output_type": "display_data"
    }
   ],
   "source": [
    "import datetime\n",
    "today = str(datetime.date.today())\n",
    "logfile = f\"_build/html/logs/log-{today}.md\"\n",
    "\n",
    "\n",
    "with open(logfile, 'w') as logs:\n",
    "    # Success\n",
    "    logs.write(f'# Arxiv on Deck 2: Logs - {today}\\n\\n')\n",
    "    logs.write(\"\"\"* Arxiv had {0:,d} new papers\\n\"\"\".format(len(new_papers)))\n",
    "    logs.write(\"\"\"    * {0:,d} with possible author matches\\n\\n\"\"\".format(len(candidates)))\n",
    "    logs.write(\"## Sucessful papers\\n\\n\")\n",
    "    display(Markdown(\"## Successful papers\"))\n",
    "    success = [k[0] for k in documents]\n",
    "    for candid in candidates:\n",
    "        if candid['identifier'].split(':')[-1] in success:\n",
    "            display(candid)\n",
    "            logs.write(candid.generate_markdown_text() + '\\n\\n')\n",
    "\n",
    "    ## failed\n",
    "    logs.write(\"## Failed papers\\n\\n\")\n",
    "    display(Markdown(\"## Failed papers\"))\n",
    "    failed = sorted(failed, key=lambda x: x[1])\n",
    "    current_reason = \"\"\n",
    "    for paper, reason in failed:\n",
    "        if 'affiliation' in reason:\n",
    "            color = 'green'\n",
    "        else:\n",
    "            color = 'red'\n",
    "        data = Markdown(\n",
    "                paper.generate_markdown_text() + \n",
    "                f'\\n|<p style=\"color:{color:s}\"> **ERROR** </p>| <p style=\"color:{color:s}\">{reason:s}</p> |'\n",
    "               )\n",
    "        if reason != current_reason:\n",
    "            logs.write(f'### {reason:s} \\n\\n')\n",
    "            current_reason = reason\n",
    "        logs.write(data.data + '\\n\\n')\n",
    "        \n",
    "        # only display here the important errors (all in logs)\n",
    "        # if color in ('red',):\n",
    "        display(data)"
   ]
  },
  {
   "cell_type": "markdown",
   "id": "472d20ee",
   "metadata": {
    "papermill": {
     "duration": 0.005215,
     "end_time": "2025-04-14T04:14:04.540717",
     "exception": false,
     "start_time": "2025-04-14T04:14:04.535502",
     "status": "completed"
    },
    "tags": []
   },
   "source": [
    "## Export documents\n",
    "\n",
    "We now write the .md files and export relevant images"
   ]
  },
  {
   "cell_type": "code",
   "execution_count": 7,
   "id": "d426aed9",
   "metadata": {
    "execution": {
     "iopub.execute_input": "2025-04-14T04:14:04.552439Z",
     "iopub.status.busy": "2025-04-14T04:14:04.551933Z",
     "iopub.status.idle": "2025-04-14T04:14:04.559000Z",
     "shell.execute_reply": "2025-04-14T04:14:04.558466Z"
    },
    "papermill": {
     "duration": 0.014042,
     "end_time": "2025-04-14T04:14:04.560010",
     "exception": false,
     "start_time": "2025-04-14T04:14:04.545968",
     "status": "completed"
    },
    "tags": []
   },
   "outputs": [],
   "source": [
    "def export_markdown_summary(md: str, md_fname:str, directory: str):\n",
    "    \"\"\"Export MD document and associated relevant images\"\"\"\n",
    "    import os\n",
    "    import shutil\n",
    "    import re\n",
    "\n",
    "    if (os.path.exists(directory) and not os.path.isdir(directory)):\n",
    "        raise RuntimeError(f\"a non-directory file exists with name {directory:s}\")\n",
    "\n",
    "    if (not os.path.exists(directory)):\n",
    "        print(f\"creating directory {directory:s}\")\n",
    "        os.mkdir(directory)\n",
    "\n",
    "    fig_fnames = (re.compile(r'\\[Fig.*\\]\\((.*)\\)').findall(md) + \n",
    "                  re.compile(r'\\<img src=\"([^>\\s]*)\"[^>]*/>').findall(md))\n",
    "    print(\"found figures\", fig_fnames)\n",
    "    for fname in fig_fnames:\n",
    "        if 'http' in fname:\n",
    "            # No need to copy online figures\n",
    "            continue\n",
    "        if not os.path.exists(fname):\n",
    "            print(\"file not found\", fname)\n",
    "            continue\n",
    "        print(\"copying \", fname, \"to\", directory)\n",
    "        destdir = os.path.join(directory, os.path.dirname(fname))\n",
    "        destfname = os.path.join(destdir, os.path.basename(fname))\n",
    "        try:\n",
    "            os.makedirs(destdir)\n",
    "        except FileExistsError:\n",
    "            pass\n",
    "        shutil.copy(fname, destfname)\n",
    "    with open(os.path.join(directory, md_fname), 'w') as fout:\n",
    "        fout.write(md)\n",
    "    print(\"exported in \", os.path.join(directory, md_fname))\n",
    "    [print(\"    + \" + os.path.join(directory,fk)) for fk in fig_fnames]"
   ]
  },
  {
   "cell_type": "code",
   "execution_count": 8,
   "id": "014d04a4",
   "metadata": {
    "execution": {
     "iopub.execute_input": "2025-04-14T04:14:04.571552Z",
     "iopub.status.busy": "2025-04-14T04:14:04.571279Z",
     "iopub.status.idle": "2025-04-14T04:14:04.580514Z",
     "shell.execute_reply": "2025-04-14T04:14:04.579957Z"
    },
    "papermill": {
     "duration": 0.016114,
     "end_time": "2025-04-14T04:14:04.581561",
     "exception": false,
     "start_time": "2025-04-14T04:14:04.565447",
     "status": "completed"
    },
    "tags": []
   },
   "outputs": [
    {
     "name": "stdout",
     "output_type": "stream",
     "text": [
      "found figures ['tmp_2504.08029/./DQTau_lc_acc.png', 'tmp_2504.08029/./MIRI_lines_HIseries.png', 'tmp_2504.08029/./DQTau_relation_alt.png']\n",
      "copying  tmp_2504.08029/./DQTau_lc_acc.png to _build/html/\n",
      "copying  tmp_2504.08029/./MIRI_lines_HIseries.png to _build/html/\n",
      "copying  tmp_2504.08029/./DQTau_relation_alt.png to _build/html/\n",
      "exported in  _build/html/2504.08029.md\n",
      "    + _build/html/tmp_2504.08029/./DQTau_lc_acc.png\n",
      "    + _build/html/tmp_2504.08029/./MIRI_lines_HIseries.png\n",
      "    + _build/html/tmp_2504.08029/./DQTau_relation_alt.png\n",
      "found figures ['tmp_2504.08034/./hist_m_l_paper_test4.png', 'tmp_2504.08034/./m_l_vs_lum_paper_test_new5.png', 'tmp_2504.08034/./paper_fig_3.jpg']\n",
      "copying  tmp_2504.08034/./hist_m_l_paper_test4.png to _build/html/\n",
      "copying  tmp_2504.08034/./m_l_vs_lum_paper_test_new5.png to _build/html/\n",
      "copying  tmp_2504.08034/./paper_fig_3.jpg to _build/html/\n",
      "exported in  _build/html/2504.08034.md\n",
      "    + _build/html/tmp_2504.08034/./hist_m_l_paper_test4.png\n",
      "    + _build/html/tmp_2504.08034/./m_l_vs_lum_paper_test_new5.png\n",
      "    + _build/html/tmp_2504.08034/./paper_fig_3.jpg\n",
      "found figures ['tmp_2504.08363/./figures/srp/activity_indicators_clusters_J02530+168_naive.png', 'tmp_2504.08363/./figures/srp/activity_indicators_clusters_J02530+168_prewhitened.png', 'tmp_2504.08363/./figures/srp/activity_indicators_clusters_J02530+168_prewhitened_clean.png', 'tmp_2504.08363/./figures/srp/srp_hist_matches_rotation_period_spt.png', 'tmp_2504.08363/./figures/srp/srp_recovery_rate_spt.png', 'tmp_2504.08363/./figures/srp/srp_no_cluster_spt.png']\n",
      "copying  tmp_2504.08363/./figures/srp/activity_indicators_clusters_J02530+168_naive.png to _build/html/\n",
      "copying  tmp_2504.08363/./figures/srp/activity_indicators_clusters_J02530+168_prewhitened.png to _build/html/\n",
      "copying  tmp_2504.08363/./figures/srp/activity_indicators_clusters_J02530+168_prewhitened_clean.png to _build/html/\n",
      "copying  tmp_2504.08363/./figures/srp/srp_hist_matches_rotation_period_spt.png to _build/html/\n",
      "copying  tmp_2504.08363/./figures/srp/srp_recovery_rate_spt.png to _build/html/\n",
      "copying  tmp_2504.08363/./figures/srp/srp_no_cluster_spt.png to _build/html/\n",
      "exported in  _build/html/2504.08363.md\n",
      "    + _build/html/tmp_2504.08363/./figures/srp/activity_indicators_clusters_J02530+168_naive.png\n",
      "    + _build/html/tmp_2504.08363/./figures/srp/activity_indicators_clusters_J02530+168_prewhitened.png\n",
      "    + _build/html/tmp_2504.08363/./figures/srp/activity_indicators_clusters_J02530+168_prewhitened_clean.png\n",
      "    + _build/html/tmp_2504.08363/./figures/srp/srp_hist_matches_rotation_period_spt.png\n",
      "    + _build/html/tmp_2504.08363/./figures/srp/srp_recovery_rate_spt.png\n",
      "    + _build/html/tmp_2504.08363/./figures/srp/srp_no_cluster_spt.png\n"
     ]
    }
   ],
   "source": [
    "for paper_id, md in documents:\n",
    "    export_markdown_summary(md, f\"{paper_id:s}.md\", '_build/html/')"
   ]
  },
  {
   "cell_type": "markdown",
   "id": "f087a0a7",
   "metadata": {
    "papermill": {
     "duration": 0.005254,
     "end_time": "2025-04-14T04:14:04.592238",
     "exception": false,
     "start_time": "2025-04-14T04:14:04.586984",
     "status": "completed"
    },
    "tags": []
   },
   "source": [
    "## Display the papers\n",
    "\n",
    "Not necessary but allows for a quick check."
   ]
  },
  {
   "cell_type": "code",
   "execution_count": 9,
   "id": "fd25f625",
   "metadata": {
    "execution": {
     "iopub.execute_input": "2025-04-14T04:14:04.604252Z",
     "iopub.status.busy": "2025-04-14T04:14:04.603840Z",
     "iopub.status.idle": "2025-04-14T04:14:04.610840Z",
     "shell.execute_reply": "2025-04-14T04:14:04.610298Z"
    },
    "papermill": {
     "duration": 0.014068,
     "end_time": "2025-04-14T04:14:04.611841",
     "exception": false,
     "start_time": "2025-04-14T04:14:04.597773",
     "status": "completed"
    },
    "scrolled": false,
    "tags": []
   },
   "outputs": [
    {
     "data": {
      "text/markdown": [
       "<div class=\"macros\" style=\"visibility:hidden;\">\n",
       "$\\newcommand{\\ensuremath}{}$\n",
       "$\\newcommand{\\xspace}{}$\n",
       "$\\newcommand{\\object}[1]{\\texttt{#1}}$\n",
       "$\\newcommand{\\farcs}{{.}''}$\n",
       "$\\newcommand{\\farcm}{{.}'}$\n",
       "$\\newcommand{\\arcsec}{''}$\n",
       "$\\newcommand{\\arcmin}{'}$\n",
       "$\\newcommand{\\ion}[2]{#1#2}$\n",
       "$\\newcommand{\\textsc}[1]{\\textrm{#1}}$\n",
       "$\\newcommand{\\hl}[1]{\\textrm{#1}}$\n",
       "$\\newcommand{\\footnote}[1]{}$\n",
       "$\\newcommand{\\url}[1]{\\href{#1}{#1}}$\n",
       "$\\newcommand{\\dodoi}[1]{doi:~\\href{http://doi.org/#1}{\\nolinkurl{#1}}}$\n",
       "$\\newcommand{\\doeprint}[1]{\\href{http://ascl.net/#1}{\\nolinkurl{http://ascl.net/#1}}}$\n",
       "$\\newcommand{\\doarXiv}[1]{\\href{https://arxiv.org/abs/#1}{\\nolinkurl{https://arxiv.org/abs/#1}}}$\n",
       "$\\newcommand{\\teff}{\\ensuremath{T_{\\text{eff}}}}$\n",
       "$\\newcommand{\\logg}{log(g)}$\n",
       "$\\newcommand{\\vmac}{v_{\\rm mac}}$\n",
       "$\\newcommand{\\hal}{H\\alpha}$\n",
       "$\\newcommand{\\fbol}{F_{\\mathrm{bol}}}$\n",
       "$\\newcommand{\\rsun}{R_\\odot}$\n",
       "$\\newcommand{\\rstar}{R_\\star}$\n",
       "$\\newcommand{\\mstar}{M_\\star}$\n",
       "$\\newcommand{\\msun}{M_\\odot}$\n",
       "$\\newcommand{\\lsun}{L_\\odot}$\n",
       "$\\newcommand{\\rhosun}{\\rho_\\odot}$\n",
       "$\\newcommand{\\degs}{^\\circ}$\n",
       "$\\newcommand{\\funit}{erg s^{-1} cm^{-2} Å^{-1}}$\n",
       "$\\newcommand{\\vsini}{vsini}$\n",
       "$\\newcommand{\\htwo}{H_2}$\n",
       "$\\newcommand{\\lam}{\\lambda}$\n",
       "$\\newcommand{\\mdot}{\\dot{M}}$\n",
       "$\\newcommand{\\hei}{He {\\scshape i}}$\n",
       "$\\newcommand{\\hi}{H {\\scshape i}}$\n",
       "$\\newcommand{\\oi}{[O {\\scshape i}]}$\n",
       "$\\newcommand{\\caii}{Ca {\\scshape ii}}$\n",
       "$\\newcommand{\\lii}{Li {\\scshape i}}$\n",
       "$\\newcommand{\\nai}{Na {\\scshape i}}$\n",
       "$\\newcommand{\\ari}{Ar {\\scshape i}}$\n",
       "$\\newcommand{\\kms}{km s^{-1}}$\n",
       "$\\newcommand{\\gaia}{{\\it Gaia}}$\n",
       "$\\newcommand{\\hst}{{\\it HST}}$\n",
       "$\\newcommand{\\kepler}{{\\it Kepler}}$\n",
       "$\\newcommand{\\ktwo}{{\\it K}2}$\n",
       "$\\newcommand{\\tess}{{\\it TESS}}$\n",
       "$\\newcommand{\\Tess}{{\\it TESS}}$\n",
       "$\\newcommand{\\spitzer}{{\\it Spitzer}}$\n",
       "$\\newcommand{\\Spitzer}{{\\it Spitzer}}$\n",
       "$\\newcommand{\\jwst}{{\\it JWST}}$\n",
       "$\\newcommand$\n",
       "$\\newcommand{\\fspot}{f_{\\rm s}}$\n",
       "$\\newcommand{\\fspotecl}{f_{\\rm s, ecl}}$\n",
       "$\\newcommand{\\co}{^{12}{\\mathrm{CO}}  J=2-1}$\n",
       "$\\newcommand{\\lacc}{L_{\\rm acc}}$\n",
       "$\\newcommand{\\up}{{\\it u}^\\prime}$\n",
       "$\\newcommand{\\rp}{{\\it r}^\\prime}$\n",
       "$\\newcommand{\\AB}[1]{\\textcolor{orange}{\\textbf{(AB:} #1)}}$\n",
       "$\\newcommand{\\CFM}[1]{\\textcolor{purple}{\\textbf{(CFM:} #1)}}$\n",
       "$\\newcommand{\\BT}[1]{\\textcolor{red}{\\textbf{(BT:} #1)}}$\n",
       "$\\newcommand\\natexlab{#1}$</div>\n",
       "\n",
       "\n",
       "\n",
       "<div id=\"title\">\n",
       "\n",
       "# Coordinated Space and Ground-Based Monitoring of Accretion Bursts in a Protoplanetary Disk: \\ Establishing Mid-Infrared Hydrogen Lines as Accretion Diagnostics for $\\jwst$--MIRI\n",
       "\n",
       "</div>\n",
       "<div id=\"comments\">\n",
       "\n",
       "[![arXiv](https://img.shields.io/badge/arXiv-2504.08029-b31b1b.svg)](https://arxiv.org/abs/2504.08029)<mark>Appeared on: 2025-04-14</mark> -  _Accepted to ApJ. 16 pages, 7 Figures, 3 Tables, 2 Appendices_\n",
       "\n",
       "</div>\n",
       "<div id=\"authors\">\n",
       "\n",
       "B. M. Tofflemire, et al. -- incl., <mark>M. Benisty</mark>\n",
       "\n",
       "</div>\n",
       "<div id=\"abstract\">\n",
       "\n",
       "**Abstract:** In this paper, we establish and calibrate mid-infrared hydrogen recombination lines observed with $\\jwst$ as accretion tracers for pre-main-sequence stars that accrete from circumstellar disks. This work is part of a coordinated, multi-observatory effort that monitored the well-known binary system DQ Tau over three orbital periods, capturing its periodic accretion bursts.In this first paper, we present 9 epochs of MIRI-MRS spectra with near-simultaneous LCO photometry and VLT--X-Shooter spectroscopy. This program caught exceptional accretion variability, spanning almost two orders of magnitude between the peak of the first periastron accretion burst and the following quiescent phases. The MIRI spectra show $\\hi$ line luminosities that vary in step with the accretion-luminosity time series measured with LCO and X-Shooter. The tight correlation with accretion and the large line widths, which MIRI resolves for the first time, support an accretion-flow origin for mid-infrared $\\hi$ transitions. Combining these three exceptional datasets, we derive accurate relations between mid-infrared line and accretion luminosities for three $\\hi$ transitions (10-7, 7-6, 8-7), and improve upon a previous relation based on Spitzer spectra. These new relations equip the community with a direct measurement of the accretion luminosity from MIRI-MRS spectra. A MIRI-derived accretion luminosity is fundamental for time-domain chemistry studies, as well as for studies of accretion in embedded/distant sources that are currently inaccessible in the optical. With these new relations, we provide accretion luminosities for an archival sample of 38 MRS spectra of protoplanetary disks published to date.\n",
       "\n",
       "</div>\n",
       "\n",
       "<div id=\"div_fig1\">\n",
       "\n",
       "<img src=\"tmp_2504.08029/./DQTau_lc_acc.png\" alt=\"Fig4\" width=\"100%\"/>\n",
       "\n",
       "**Figure 4. -** DQ Tau accretion variability. ** Top:** The accretion luminosity (left axis) and mass accretion rate (right axis) from X-Shooter spectra and LCO $\\up$-band photometry. Time is presented in barycentric Julian days on the bottom axis and the binary orbital cycle on the top axis. Vertical dotted lines mark binary periastron passages. Blue vertical lines mark the times of MIRI-MRS observations with an associated epoch number. The dashed horizontal line represents the accretion luminosity measurement floor for the $\\up$ photometry (see Section \\ref{lco_lacc}; Figure \\ref{fig: lacc_relation}). The gray vertical region surrounding MIRI Epoch 3 highlights a reddening event. The black point is an estimate of the accretion luminosity during this event (see Section \\ref{reddening}).\n",
       "** Bottom:** Variability in the $\\hi$(10-7) emission line. Continuum subtracted MIRI-MRS spectra centered on the line are presented for each observation, with the epoch number listed on the top right corner of each panel. The $\\hi$(10-7) temporal behavior tightly tracks the densely sampled accretion luminosity measurements. (*fig: lightcurve_epochs*)\n",
       "\n",
       "</div>\n",
       "<div id=\"div_fig2\">\n",
       "\n",
       "<img src=\"tmp_2504.08029/./MIRI_lines_HIseries.png\" alt=\"Fig5\" width=\"100%\"/>\n",
       "\n",
       "**Figure 5. -** Gallery of some strong hydrogen recombination lines observed in MIRI spectra. Two DQ Tau epochs are shown in each panel to illustrate a high accretion phase (September 11th, in solid black) and the lowest accretion phase in this program (October 7th, dashed black). A hot water model (850 K) is shown in blue for reference. The (10-7) and (8-7) lines are selected from those identified in \\cite{banzatti24} as free of contamination from molecular emission. Two examples of significant contamination from water are shown for reference: the (7-6) line \\citep[used in][]{rigliaco2015} and the (6-5) line, the strongest $\\hi$ line observable with MIRI-MRS, but contaminated with ro-vibrational water emission. The vertical gray dashed lines indicate the ranges where the line flux is measured, in the case of the (7-6) line to minimize contamination from the nearby (11-8) line.  (*fig: HI_series*)\n",
       "\n",
       "</div>\n",
       "<div id=\"div_fig3\">\n",
       "\n",
       "<img src=\"tmp_2504.08029/./DQTau_relation_alt.png\" alt=\"Fig6\" width=\"100%\"/>\n",
       "\n",
       "**Figure 6. -** Correlations between $\\hi$ line luminosities and $\\lacc$ as measured in this monitoring program. The $\\hi$(7-6) luminosity has been corrected for water contamination as explained in Section \\ref{acc_relations}. Large colored data points are from the DQ Tau epochs in this work. Smaller green circles show JDISCS and MINDS published spectra with non-contemporaneous literature $\\lacc$ measurements (see text). The larger scatter is likely due to non-synchronous measurements and varied $\\lacc$ measurement methodologies. For non detections, the 2-$\\sigma$ upper limit is shown with an arrow. The black dashed lines show the median correlations as measured for DQ Tau, while the orange line in the middle panel shows the $\\hi$(7-6) relation previously measured by \\cite{rigliaco2015}. The offset with the new relation found from MIRI is due to the limited correction from contamination that was possible with IRS (see Section \\ref{acc_relations}). (*fig: HI_Lacc_correlations*)\n",
       "\n",
       "</div><div id=\"qrcode\"><img src=https://api.qrserver.com/v1/create-qr-code/?size=100x100&data=\"https://arxiv.org/abs/2504.08029\"></div>"
      ],
      "text/plain": [
       "<IPython.core.display.Markdown object>"
      ]
     },
     "metadata": {},
     "output_type": "display_data"
    },
    {
     "data": {
      "text/markdown": [
       "<div class=\"macros\" style=\"visibility:hidden;\">\n",
       "$\\newcommand{\\ensuremath}{}$\n",
       "$\\newcommand{\\xspace}{}$\n",
       "$\\newcommand{\\object}[1]{\\texttt{#1}}$\n",
       "$\\newcommand{\\farcs}{{.}''}$\n",
       "$\\newcommand{\\farcm}{{.}'}$\n",
       "$\\newcommand{\\arcsec}{''}$\n",
       "$\\newcommand{\\arcmin}{'}$\n",
       "$\\newcommand{\\ion}[2]{#1#2}$\n",
       "$\\newcommand{\\textsc}[1]{\\textrm{#1}}$\n",
       "$\\newcommand{\\hl}[1]{\\textrm{#1}}$\n",
       "$\\newcommand{\\footnote}[1]{}$\n",
       "$\\newcommand{\\vdag}{(v)^\\dagger}$\n",
       "$\\newcommand$\n",
       "$\\newcommand$\n",
       "$\\newcommand{\\tbd}[1]{{\\color{red} #1}}$</div>\n",
       "\n",
       "\n",
       "\n",
       "<div id=\"title\">\n",
       "\n",
       "# X-ray Constraints on Wandering Black Holes in Stripped Galaxy Nuclei in the Halo of NGC 5128\n",
       "\n",
       "</div>\n",
       "<div id=\"comments\">\n",
       "\n",
       "[![arXiv](https://img.shields.io/badge/arXiv-2504.08034-b31b1b.svg)](https://arxiv.org/abs/2504.08034)<mark>Appeared on: 2025-04-14</mark> -  _13 pages, 3 figures, 2 tables. Accepted for publication in ApJ_\n",
       "\n",
       "</div>\n",
       "<div id=\"authors\">\n",
       "\n",
       "S. L. Feyan, et al. -- incl., <mark>A. Dumont</mark>\n",
       "\n",
       "</div>\n",
       "<div id=\"abstract\">\n",
       "\n",
       "**Abstract:** A subset of galaxies have dense nuclei, and when these galaxies are accreted and tidally stripped, the nuclei can masquerade as globular clusters in the halos of large galaxies. If these nuclei contain massive central black holes, some may accrete gas and become observable as active galactic nuclei. Previous studies have found that candidate stripped nuclei rarely host luminous X-ray sources, but these studies were typically restricted to both the most massive candidate nuclei and the most luminous X-ray sources. Here we use new and archival Chandra and XMM-Newton data to search for X-ray emission in a near-complete sample of massive globular clusters and candidate stripped nuclei in the nearest accessible elliptical galaxy, NGC 5128. This sample has the unique advantage that the candidate stripped nuclei are identified dynamically via elevated mass-to-light ratios. Our central result is that 5/22 ( $23^{+11}_{-6}$ \\% ) of the candidate stripped nuclei have X-ray sources down to a typical limit of $L_X \\sim 5 \\times 10^{36}$ erg s $^{-1}$ , a fraction lower than or comparable to that among massive clusters with normal mass-to-light ratios (16/41; $39^{+8}_{-7}$ \\% ). Hence we confirm and extend the result that nearly all X-ray sources in stripped nuclei are likely to be X-ray binaries rather than active galactic nuclei. If the candidate stripped nuclei have black holes of typical masses $\\sim 2 \\times 10^{5} M_{\\odot}$ needed to explain their elevated mass-to-light ratios, then they have typical Eddington ratios of $\\lesssim 2 \\times 10^{-6}$ . This suggests that it will be challenging to conduct an accretion census of wandering black holes around even nearby galaxies.\n",
       "\n",
       "</div>\n",
       "\n",
       "<div id=\"div_fig1\">\n",
       "\n",
       "<img src=\"tmp_2504.08034/./hist_m_l_paper_test4.png\" alt=\"Fig1\" width=\"100%\"/>\n",
       "\n",
       "**Figure 1. -** Histogram of $M/L_V$ for all 63 objects (dashed line) and X-ray detections (shaded). The bimodal distribution of $M/L_V$ is visible in both samples. (*fig:ml_hist*)\n",
       "\n",
       "</div>\n",
       "<div id=\"div_fig2\">\n",
       "\n",
       "<img src=\"tmp_2504.08034/./m_l_vs_lum_paper_test_new5.png\" alt=\"Fig2\" width=\"100%\"/>\n",
       "\n",
       "**Figure 2. -** 1--10 keV X-ray luminosity vs. $M/L_V$ for all sources, with detections shown as filled circled and non-detections (upper limits) shown as unfilled downward triangles. The similarity of the X-ray properties of the low and high-$M/L_V$ objects is evident. There are three sources with $M/L_V$ much larger than the other clusters, which have especially strong dynamical cases for being stripped nuclei. (*fig:ml_plot*)\n",
       "\n",
       "</div>\n",
       "<div id=\"div_fig3\">\n",
       "\n",
       "<img src=\"tmp_2504.08034/./paper_fig_3.jpg\" alt=\"Fig3\" width=\"100%\"/>\n",
       "\n",
       "**Figure 3. -** The 63 clusters in our sample plotted on a Digitized Sky Survey image of Cen A, with north up and east to the left. While many clusters are projected within the central 10s of kpc of the galaxy, some are in the distant outer halo, with the southernmost object at 116 kpc projected. The 30 kpc scale bar corresponds to $0.45^{\\circ}$. (*fig:spat*)\n",
       "\n",
       "</div><div id=\"qrcode\"><img src=https://api.qrserver.com/v1/create-qr-code/?size=100x100&data=\"https://arxiv.org/abs/2504.08034\"></div>"
      ],
      "text/plain": [
       "<IPython.core.display.Markdown object>"
      ]
     },
     "metadata": {},
     "output_type": "display_data"
    },
    {
     "data": {
      "text/markdown": [
       "<div class=\"macros\" style=\"visibility:hidden;\">\n",
       "$\\newcommand{\\ensuremath}{}$\n",
       "$\\newcommand{\\xspace}{}$\n",
       "$\\newcommand{\\object}[1]{\\texttt{#1}}$\n",
       "$\\newcommand{\\farcs}{{.}''}$\n",
       "$\\newcommand{\\farcm}{{.}'}$\n",
       "$\\newcommand{\\arcsec}{''}$\n",
       "$\\newcommand{\\arcmin}{'}$\n",
       "$\\newcommand{\\ion}[2]{#1#2}$\n",
       "$\\newcommand{\\textsc}[1]{\\textrm{#1}}$\n",
       "$\\newcommand{\\hl}[1]{\\textrm{#1}}$\n",
       "$\\newcommand{\\footnote}[1]{}$\n",
       "$\\newcommand{\\TODO}[1]{\\textcolor{magenta}{\\textsc{todo:} \\textit{#1}}}$\n",
       "$\\newcommand{\\TODOall}[1]{\\textcolor{red}{\\textsc{Task/Question to all:} \\textit{#1}}}$\n",
       "$\\newcommand{\\prelim}[1]{\\textcolor{magenta}{\\textit{#1}}}$\n",
       "$\\newcommand{\\CRX}{CRX}$\n",
       "$\\newcommand{\\dLW}{dLW}$\n",
       "$\\newcommand{\\CONTRAST}{CCF-contrast}$\n",
       "$\\newcommand{\\FWHM}{CCF-FWHM}$\n",
       "$\\newcommand{\\BISECTOR}{CCF-BIS}$\n",
       "$\\newcommand{\\CaHtwo}{CaH~2}$\n",
       "$\\newcommand{\\CaHthree}{CaH~3}$\n",
       "$\\newcommand{\\CaIRT}{Ca {\\sc ii}~IRT}$\n",
       "$\\newcommand{\\CaIRTa}{Ca~IRT_\\text{a}}$\n",
       "$\\newcommand{\\CaIRTb}{Ca~IRT_\\text{b}}$\n",
       "$\\newcommand{\\CaIRTc}{Ca~IRT_\\text{c}}$\n",
       "$\\newcommand{\\Fe}{Fe~\\lambda\\SI{8689}{\\angstrom}}$\n",
       "$\\newcommand{\\Halpha}{H\\alpha}$\n",
       "$\\newcommand{\\He}{He~{\\sc i} \\lambda\\SI{10830}{\\angstrom}}$\n",
       "$\\newcommand{\\HeDthree}{He {\\sc i}~D_3}$\n",
       "$\\newcommand{\\NaDdoublet}{Na {\\sc i} doublet}$\n",
       "$\\newcommand{\\NaDone}{Na~D_1}$\n",
       "$\\newcommand{\\NaDtwo}{Na~D_2}$\n",
       "$\\newcommand{\\Pabeta}{Pa\\beta}$\n",
       "$\\newcommand{\\TiOsevenzero}{TiO~\\lambda\\SI{7048}{\\angstrom}}$\n",
       "$\\newcommand{\\TiOeightfour}{TiO~\\lambda\\SI{8428}{\\angstrom}}$\n",
       "$\\newcommand{\\TiOeighteight}{TiO~\\lambda\\SI{8858}{\\angstrom}}$\n",
       "$\\newcommand{\\VOsevenfour}{VO~\\lambda\\SI{7434}{\\angstrom}}$\n",
       "$\\newcommand{\\VOsevenine}{VO~\\lambda\\SI{7940}{\\angstrom}}$\n",
       "$\\newcommand{\\WFB}{FeH WFB}$\n",
       "$\\newcommand{\\autoref}$\n",
       "$\\newcommand{\\inst}[1]{\\unskip^{\\instrefs{#1}}}$\n",
       "$\\newcommand{\\equationautorefname}{Eq.}$\n",
       "$\\newcommand{\\figureautorefname}{Fig.}$\n",
       "$\\newcommand{\\sectionautorefname}{Sect.}$\n",
       "$\\newcommand{\\subsectionautorefname}{Sect.}$\n",
       "$\\newcommand{\\subsubsectionautorefname}{Sect.}$\n",
       "$\\newcommand{\\scsep}{\\newcommand\\scsep{,}}$\n",
       "$\\newcommand\\scsep{,}$</div>\n",
       "\n",
       "\n",
       "\n",
       "<div id=\"title\">\n",
       "\n",
       "# The CARMENES search for exoplanets around M dwarfs: Cluster analysis of signals from spectral activity indicators to search for shared periods\n",
       "\n",
       "</div>\n",
       "<div id=\"comments\">\n",
       "\n",
       "[![arXiv](https://img.shields.io/badge/arXiv-2504.08363-b31b1b.svg)](https://arxiv.org/abs/2504.08363)<mark>Appeared on: 2025-04-14</mark> -  _33 pages (16 pages main text), 14 figures, accepted for publication in Astronomy & Astrophysics_\n",
       "\n",
       "</div>\n",
       "<div id=\"authors\">\n",
       "\n",
       "J. Kemmer, et al. -- incl., <mark>T. Henning</mark>\n",
       "\n",
       "</div>\n",
       "<div id=\"abstract\">\n",
       "\n",
       "**Abstract:** A multitude of spectral activity indicators are  routinely computed nowadays from the spectra generated as part of planet-hunting radial velocity surveys. Searching for shared periods among them can help to robustly identify astrophysical quantities of interest, such as the stellar rotation period. However, this identification can be complicated due to the fact that many different peaks occurring in the periodograms. This is especially true in the presence of aliasing and spurious signals caused by environmental influences affecting the instrument. Our goal is to test a clustering algorithm to find signals with the same periodicity, (i.e. with the stellar rotation period) in the periodograms of a large number of activity indicators. On this basis, we have looked to evaluate the correlations between activity indicators and fundamental stellar parameters. We used generalised Lomb-Scargle periodograms to find periodic signals in 24 activity indicators, spanning the VIS and NIR channels of the CARMENES spectrograph.Common periods were subsequently determined by a machine learning algorithm for density-based spatial clustering of applications with noise ( ${\\tt DBSCAN}$ ). The clustering analysis of the signals apparent in the spectral activity indicators is a powerful tool for the detection of stellar rotation periods.It is straightforward to implement and can be easily automated, so that large data sets can be analysed. For a sample of 136 stars, we were able to recover the stellar rotation period in a total of 59 cases, including 3 with a previously unknown rotation period. In addition, we analysed spurious signals frequently occurring at the period of one year and its integer fractions,  concluding that they are likely aliases of one underlying signal. Furthermore, we reproduced the results of several previous studies on the relationships between activity indicators and the stellar characteristics.\n",
       "\n",
       "</div>\n",
       "\n",
       "<div id=\"div_fig1\">\n",
       "\n",
       "<img src=\"tmp_2504.08363/./figures/srp/activity_indicators_clusters_J02530+168_naive.png\" alt=\"Fig10.1\" width=\"33%\"/><img src=\"tmp_2504.08363/./figures/srp/activity_indicators_clusters_J02530+168_prewhitened.png\" alt=\"Fig10.2\" width=\"33%\"/><img src=\"tmp_2504.08363/./figures/srp/activity_indicators_clusters_J02530+168_prewhitened_clean.png\" alt=\"Fig10.3\" width=\"33%\"/>\n",
       "\n",
       "**Figure 10. -** Results of the clustering algorithm for Teegarden's Star. _Top_: Using the naive approach. _Middle_: Using the pre-whitening approach. _Bottom_: Using pre-whitening and excluding periods close to the harmonics of one year. The coloured filled symbols show the individual data points of the detected clusters, with the error bars corresponding to the peak width in the GLS, and the open symbols yield the mean values of the clusters. Grey dots denote data points that were identified as noise by the clustering algorithm.\n",
       "  The colour mapping changes between the plots to emphasise that although there is some overlap, the clusters (and thus technically also the mean periods) that appear  change between the different methods. Clusters that are consistent between all plots within the GLS resolution are always denoted by the same non-circular markers. The FAP of \\SI{1}{\\percent} is marked by the grey horizontal dotted line and the grey vertical dashed lines show different periods of interest. The baseline indicates the timespan of the observations. (*fig:clustering_teegarden*)\n",
       "\n",
       "</div>\n",
       "<div id=\"div_fig2\">\n",
       "\n",
       "<img src=\"tmp_2504.08363/./figures/srp/srp_hist_matches_rotation_period_spt.png\" alt=\"Fig12\" width=\"100%\"/>\n",
       "\n",
       "**Figure 12. -** Histogram showing how often  individual indicators were part of  clusters that matched  stellar rotation periods from the literature (either directly or in a harmonic or alias relation). The different colours show the total counts in each bar, differentiated by stellar spectral type. We distinguish between inactive and active (pEW($\\Halpha$) $<\\SI{-0.5}{\\angstrom}$) stars by using solid and hatched bars respectively. (*fig:period_matches_per_indicator*)\n",
       "\n",
       "</div>\n",
       "<div id=\"div_fig3\">\n",
       "\n",
       "<img src=\"tmp_2504.08363/./figures/srp/srp_recovery_rate_spt.png\" alt=\"Fig11.1\" width=\"50%\"/><img src=\"tmp_2504.08363/./figures/srp/srp_no_cluster_spt.png\" alt=\"Fig11.2\" width=\"50%\"/>\n",
       "\n",
       "**Figure 11. -** Recovery rate and fraction of non-detections of stellar rotation period as a function of stellar spectral type. _Left_: Fraction of stars for which the literature periods were recovered (either directly or in a harmonic or alias relation). _Right_: Fraction of stars that show no significant clusters (including stars without a literature rotation period). In the plots we distinguish between inactive and active (pEW($\\Halpha$) $<\\SI{-0.5}{\\angstrom}$) stars by using solid and hatched bars, respectively. In the left panel, the number on top of each bar denotes the number of stars with a known rotation period for each category. In the right panel, it yields the overall number of stars in the selected sample.\n",
       "    For better readability, we chose normal black font for the inactive sample and italic grey font for the active sample. (*fig:comparison_spt*)\n",
       "\n",
       "</div><div id=\"qrcode\"><img src=https://api.qrserver.com/v1/create-qr-code/?size=100x100&data=\"https://arxiv.org/abs/2504.08363\"></div>"
      ],
      "text/plain": [
       "<IPython.core.display.Markdown object>"
      ]
     },
     "metadata": {},
     "output_type": "display_data"
    }
   ],
   "source": [
    "[display(Markdown(k[1])) for k in documents];"
   ]
  },
  {
   "cell_type": "markdown",
   "id": "873873a4",
   "metadata": {
    "papermill": {
     "duration": 0.006087,
     "end_time": "2025-04-14T04:14:04.623924",
     "exception": false,
     "start_time": "2025-04-14T04:14:04.617837",
     "status": "completed"
    },
    "tags": []
   },
   "source": [
    "# Create HTML index"
   ]
  },
  {
   "cell_type": "code",
   "execution_count": 10,
   "id": "cf665672",
   "metadata": {
    "execution": {
     "iopub.execute_input": "2025-04-14T04:14:04.636748Z",
     "iopub.status.busy": "2025-04-14T04:14:04.636148Z",
     "iopub.status.idle": "2025-04-14T04:14:04.646487Z",
     "shell.execute_reply": "2025-04-14T04:14:04.645942Z"
    },
    "papermill": {
     "duration": 0.017709,
     "end_time": "2025-04-14T04:14:04.647457",
     "exception": false,
     "start_time": "2025-04-14T04:14:04.629748",
     "status": "completed"
    },
    "tags": []
   },
   "outputs": [
    {
     "name": "stdout",
     "output_type": "stream",
     "text": [
      "438  publications files modified in the last 7 days.\n"
     ]
    }
   ],
   "source": [
    "from datetime import datetime, timedelta, timezone\n",
    "from glob import glob\n",
    "import os\n",
    "\n",
    "files = glob('_build/html/*.md')\n",
    "days = 7\n",
    "now = datetime.today()\n",
    "res = []\n",
    "for fk in files:\n",
    "    stat_result = os.stat(fk).st_ctime\n",
    "    modified = datetime.fromtimestamp(stat_result, tz=timezone.utc).replace(tzinfo=None)\n",
    "    delta = now.today() - modified\n",
    "    if delta <= timedelta(days=days):\n",
    "        res.append((delta.seconds, fk))\n",
    "res = [k[1] for k in reversed(sorted(res, key=lambda x:x[1]))]\n",
    "npub = len(res)\n",
    "print(len(res), f\" publications files modified in the last {days:d} days.\")\n",
    "# [ print('\\t', k) for k in res ];"
   ]
  },
  {
   "cell_type": "code",
   "execution_count": 11,
   "id": "015de740",
   "metadata": {
    "execution": {
     "iopub.execute_input": "2025-04-14T04:14:04.660448Z",
     "iopub.status.busy": "2025-04-14T04:14:04.660025Z",
     "iopub.status.idle": "2025-04-14T04:14:04.682731Z",
     "shell.execute_reply": "2025-04-14T04:14:04.682144Z"
    },
    "papermill": {
     "duration": 0.030287,
     "end_time": "2025-04-14T04:14:04.683739",
     "exception": false,
     "start_time": "2025-04-14T04:14:04.653452",
     "status": "completed"
    },
    "tags": []
   },
   "outputs": [
    {
     "name": "stdout",
     "output_type": "stream",
     "text": [
      "12  publications in the last 7 days.\n"
     ]
    }
   ],
   "source": [
    "import datetime\n",
    "from glob import glob\n",
    "\n",
    "def get_last_n_days(lst, days=1):\n",
    "    \"\"\" Get the documents from the last n days \"\"\"\n",
    "    sorted_lst = sorted(lst, key=lambda x: x[1], reverse=True)\n",
    "    for fname, date in sorted_lst:\n",
    "        if date >= str(datetime.date.today() - datetime.timedelta(days=days)):\n",
    "            yield fname\n",
    "\n",
    "def extract_appearance_dates(lst_file):\n",
    "    dates = []\n",
    "\n",
    "    def get_date(line):\n",
    "        return line\\\n",
    "            .split('Appeared on:')[-1]\\\n",
    "            .split('</mark>')[0].strip()\n",
    "\n",
    "    for fname in lst:\n",
    "        with open(fname, 'r') as f:\n",
    "            found_date = False\n",
    "            for line in f:\n",
    "                if not found_date:\n",
    "                    if \"Appeared on\" in line:\n",
    "                        found_date = True\n",
    "                        dates.append((fname, get_date(line)))\n",
    "                else:\n",
    "                    break\n",
    "    return dates\n",
    "\n",
    "from glob import glob\n",
    "lst = glob('_build/html/*md')\n",
    "days = 7\n",
    "dates = extract_appearance_dates(lst)\n",
    "res = list(get_last_n_days(dates, days))\n",
    "npub = len(res)\n",
    "print(len(res), f\" publications in the last {days:d} days.\")"
   ]
  },
  {
   "cell_type": "code",
   "execution_count": 12,
   "id": "52ca0208",
   "metadata": {
    "execution": {
     "iopub.execute_input": "2025-04-14T04:14:04.697124Z",
     "iopub.status.busy": "2025-04-14T04:14:04.696574Z",
     "iopub.status.idle": "2025-04-14T04:14:04.701518Z",
     "shell.execute_reply": "2025-04-14T04:14:04.700970Z"
    },
    "papermill": {
     "duration": 0.012586,
     "end_time": "2025-04-14T04:14:04.702495",
     "exception": false,
     "start_time": "2025-04-14T04:14:04.689909",
     "status": "completed"
    },
    "scrolled": false,
    "tags": []
   },
   "outputs": [],
   "source": [
    "def create_carousel(npub=4):\n",
    "    \"\"\" Generate the HTML code for a carousel with `npub` slides \"\"\"\n",
    "    carousel = [\"\"\"  <div class=\"carousel\" \"\"\",\n",
    "                \"\"\"       data-flickity='{ \"autoPlay\": 10000, \"adaptiveHeight\": true, \"resize\": true, \"wrapAround\": true, \"pauseAutoPlayOnHover\": true, \"groupCells\": 1 }' id=\"asyncTypeset\">\"\"\"\n",
    "                ]\n",
    "    \n",
    "    item_str = \"\"\"    <div class=\"carousel-cell\"> <div id=\"slide{k}\" class=\"md_view\">Content {k}</div> </div>\"\"\"\n",
    "    for k in range(1, npub + 1):\n",
    "        carousel.append(item_str.format(k=k))\n",
    "    carousel.append(\"  </div>\")\n",
    "    return '\\n'.join(carousel)\n",
    "\n",
    "def create_grid(npub=4):\n",
    "    \"\"\" Generate the HTML code for a flat grid with `npub` slides \"\"\"\n",
    "    grid = [\"\"\"  <div class=\"grid\"> \"\"\",\n",
    "                ]\n",
    "    \n",
    "    item_str = \"\"\"    <div class=\"grid-item\"> <div id=\"slide{k}\" class=\"md_view\">Content {k}</div> </div>\"\"\"\n",
    "    for k in range(1, npub + 1):\n",
    "        grid.append(item_str.format(k=k))\n",
    "    grid.append(\"  </div>\")\n",
    "    return '\\n'.join(grid)"
   ]
  },
  {
   "cell_type": "code",
   "execution_count": 13,
   "id": "a6eac5b6",
   "metadata": {
    "execution": {
     "iopub.execute_input": "2025-04-14T04:14:04.715925Z",
     "iopub.status.busy": "2025-04-14T04:14:04.715500Z",
     "iopub.status.idle": "2025-04-14T04:14:04.720456Z",
     "shell.execute_reply": "2025-04-14T04:14:04.719923Z"
    },
    "papermill": {
     "duration": 0.012695,
     "end_time": "2025-04-14T04:14:04.721465",
     "exception": false,
     "start_time": "2025-04-14T04:14:04.708770",
     "status": "completed"
    },
    "scrolled": false,
    "tags": []
   },
   "outputs": [],
   "source": [
    "carousel = create_carousel(npub)\n",
    "docs = ', '.join(['\"{0:s}\"'.format(k.split('/')[-1]) for k in res])\n",
    "slides = ', '.join([f'\"slide{k}\"' for k in range(1, npub + 1)])\n",
    "\n",
    "with open(\"daily_template.html\", \"r\") as tpl:\n",
    "    page = tpl.read()\n",
    "    page = page.replace(\"{%-- carousel:s --%}\", carousel)\\\n",
    "               .replace(\"{%-- suptitle:s --%}\",  \"7-day archives\" )\\\n",
    "               .replace(\"{%-- docs:s --%}\", docs)\\\n",
    "               .replace(\"{%-- slides:s --%}\", slides)\n",
    "    \n",
    "with open(\"_build/html/index_7days.html\", 'w') as fout:\n",
    "    fout.write(page)"
   ]
  },
  {
   "cell_type": "code",
   "execution_count": 14,
   "id": "adc1a1ec",
   "metadata": {
    "execution": {
     "iopub.execute_input": "2025-04-14T04:14:04.734608Z",
     "iopub.status.busy": "2025-04-14T04:14:04.734420Z",
     "iopub.status.idle": "2025-04-14T04:14:04.741432Z",
     "shell.execute_reply": "2025-04-14T04:14:04.740907Z"
    },
    "papermill": {
     "duration": 0.014787,
     "end_time": "2025-04-14T04:14:04.742452",
     "exception": false,
     "start_time": "2025-04-14T04:14:04.727665",
     "status": "completed"
    },
    "tags": []
   },
   "outputs": [
    {
     "name": "stdout",
     "output_type": "stream",
     "text": [
      "3  publications in the last day.\n"
     ]
    }
   ],
   "source": [
    "# redo for today\n",
    "days = 1\n",
    "res = list(get_last_n_days(dates, days))\n",
    "npub = len(res)\n",
    "print(len(res), f\" publications in the last day.\")\n",
    "\n",
    "carousel = create_carousel(npub)\n",
    "docs = ', '.join(['\"{0:s}\"'.format(k.split('/')[-1]) for k in res])\n",
    "slides = ', '.join([f'\"slide{k}\"' for k in range(1, npub + 1)])\n",
    "\n",
    "with open(\"daily_template.html\", \"r\") as tpl:\n",
    "    page = tpl.read()\n",
    "    page = page.replace(\"{%-- carousel:s --%}\", carousel)\\\n",
    "               .replace(\"{%-- suptitle:s --%}\",  \"Daily\" )\\\n",
    "               .replace(\"{%-- docs:s --%}\", docs)\\\n",
    "               .replace(\"{%-- slides:s --%}\", slides)\n",
    "    \n",
    "# print(carousel, docs, slides)\n",
    "# print(page)\n",
    "with open(\"_build/html/index_daily.html\", 'w') as fout:\n",
    "    fout.write(page)"
   ]
  },
  {
   "cell_type": "code",
   "execution_count": 15,
   "id": "00eece82",
   "metadata": {
    "execution": {
     "iopub.execute_input": "2025-04-14T04:14:04.756052Z",
     "iopub.status.busy": "2025-04-14T04:14:04.755532Z",
     "iopub.status.idle": "2025-04-14T04:14:04.762208Z",
     "shell.execute_reply": "2025-04-14T04:14:04.761592Z"
    },
    "papermill": {
     "duration": 0.014598,
     "end_time": "2025-04-14T04:14:04.763217",
     "exception": false,
     "start_time": "2025-04-14T04:14:04.748619",
     "status": "completed"
    },
    "scrolled": false,
    "tags": []
   },
   "outputs": [
    {
     "name": "stdout",
     "output_type": "stream",
     "text": [
      "6  6 publications selected.\n"
     ]
    }
   ],
   "source": [
    "# Create the flat grid of the last N papers (fixed number regardless of dates)\n",
    "from itertools import islice \n",
    "\n",
    "npub = 6\n",
    "res = [k[0] for k in (islice(reversed(sorted(dates, key=lambda x: x[1])), 6))]\n",
    "print(len(res), f\" {npub} publications selected.\")\n",
    "\n",
    "grid = create_grid(npub)\n",
    "docs = ', '.join(['\"{0:s}\"'.format(k.split('/')[-1]) for k in res])\n",
    "slides = ', '.join([f'\"slide{k}\"' for k in range(1, npub + 1)])\n",
    "\n",
    "with open(\"grid_template.html\", \"r\") as tpl:\n",
    "    page = tpl.read()\n",
    "    page = page.replace(\"{%-- grid-content:s --%}\", grid)\\\n",
    "               .replace(\"{%-- suptitle:s --%}\",  f\"Last {npub:,d} papers\" )\\\n",
    "               .replace(\"{%-- docs:s --%}\", docs)\\\n",
    "               .replace(\"{%-- slides:s --%}\", slides)\n",
    "    \n",
    "# print(grid, docs, slides)\n",
    "# print(page)\n",
    "with open(\"_build/html/index_npub_grid.html\", 'w') as fout:\n",
    "    fout.write(page)"
   ]
  }
 ],
 "metadata": {
  "kernelspec": {
   "display_name": "Python 3 (ipykernel)",
   "language": "python",
   "name": "python3"
  },
  "language_info": {
   "codemirror_mode": {
    "name": "ipython",
    "version": 3
   },
   "file_extension": ".py",
   "mimetype": "text/x-python",
   "name": "python",
   "nbconvert_exporter": "python",
   "pygments_lexer": "ipython3",
   "version": "3.9.21"
  },
  "papermill": {
   "default_parameters": {},
   "duration": 94.757457,
   "end_time": "2025-04-14T04:14:04.985084",
   "environment_variables": {},
   "exception": null,
   "input_path": "MPIA daily digest.ipynb",
   "output_path": "log.ipynb",
   "parameters": {},
   "start_time": "2025-04-14T04:12:30.227627",
   "version": "2.6.0"
  },
  "vscode": {
   "interpreter": {
    "hash": "aee8b7b246df8f9039afb4144a1f6fd8d2ca17a180786b69acc140d282b71a49"
   }
  },
  "widgets": {
   "application/vnd.jupyter.widget-state+json": {
    "state": {
     "14a78a016ba34b32943743492134d4e4": {
      "model_module": "@jupyter-widgets/base",
      "model_module_version": "2.0.0",
      "model_name": "LayoutModel",
      "state": {
       "_model_module": "@jupyter-widgets/base",
       "_model_module_version": "2.0.0",
       "_model_name": "LayoutModel",
       "_view_count": null,
       "_view_module": "@jupyter-widgets/base",
       "_view_module_version": "2.0.0",
       "_view_name": "LayoutView",
       "align_content": null,
       "align_items": null,
       "align_self": null,
       "border_bottom": null,
       "border_left": null,
       "border_right": null,
       "border_top": null,
       "bottom": null,
       "display": null,
       "flex": null,
       "flex_flow": null,
       "grid_area": null,
       "grid_auto_columns": null,
       "grid_auto_flow": null,
       "grid_auto_rows": null,
       "grid_column": null,
       "grid_gap": null,
       "grid_row": null,
       "grid_template_areas": null,
       "grid_template_columns": null,
       "grid_template_rows": null,
       "height": null,
       "justify_content": null,
       "justify_items": null,
       "left": null,
       "margin": null,
       "max_height": null,
       "max_width": null,
       "min_height": null,
       "min_width": null,
       "object_fit": null,
       "object_position": null,
       "order": null,
       "overflow": null,
       "padding": null,
       "right": null,
       "top": null,
       "visibility": null,
       "width": null
      }
     },
     "643a5b7ab6184dee94819b62e37e935d": {
      "model_module": "@jupyter-widgets/base",
      "model_module_version": "2.0.0",
      "model_name": "LayoutModel",
      "state": {
       "_model_module": "@jupyter-widgets/base",
       "_model_module_version": "2.0.0",
       "_model_name": "LayoutModel",
       "_view_count": null,
       "_view_module": "@jupyter-widgets/base",
       "_view_module_version": "2.0.0",
       "_view_name": "LayoutView",
       "align_content": null,
       "align_items": null,
       "align_self": null,
       "border_bottom": null,
       "border_left": null,
       "border_right": null,
       "border_top": null,
       "bottom": null,
       "display": null,
       "flex": null,
       "flex_flow": null,
       "grid_area": null,
       "grid_auto_columns": null,
       "grid_auto_flow": null,
       "grid_auto_rows": null,
       "grid_column": null,
       "grid_gap": null,
       "grid_row": null,
       "grid_template_areas": null,
       "grid_template_columns": null,
       "grid_template_rows": null,
       "height": null,
       "justify_content": null,
       "justify_items": null,
       "left": null,
       "margin": null,
       "max_height": null,
       "max_width": null,
       "min_height": null,
       "min_width": null,
       "object_fit": null,
       "object_position": null,
       "order": null,
       "overflow": null,
       "padding": null,
       "right": null,
       "top": null,
       "visibility": null,
       "width": null
      }
     },
     "77c969eccf4f4ba6b5007f6498a6b688": {
      "model_module": "@jupyter-widgets/base",
      "model_module_version": "2.0.0",
      "model_name": "LayoutModel",
      "state": {
       "_model_module": "@jupyter-widgets/base",
       "_model_module_version": "2.0.0",
       "_model_name": "LayoutModel",
       "_view_count": null,
       "_view_module": "@jupyter-widgets/base",
       "_view_module_version": "2.0.0",
       "_view_name": "LayoutView",
       "align_content": null,
       "align_items": null,
       "align_self": null,
       "border_bottom": null,
       "border_left": null,
       "border_right": null,
       "border_top": null,
       "bottom": null,
       "display": null,
       "flex": null,
       "flex_flow": null,
       "grid_area": null,
       "grid_auto_columns": null,
       "grid_auto_flow": null,
       "grid_auto_rows": null,
       "grid_column": null,
       "grid_gap": null,
       "grid_row": null,
       "grid_template_areas": null,
       "grid_template_columns": null,
       "grid_template_rows": null,
       "height": null,
       "justify_content": null,
       "justify_items": null,
       "left": null,
       "margin": null,
       "max_height": null,
       "max_width": null,
       "min_height": null,
       "min_width": null,
       "object_fit": null,
       "object_position": null,
       "order": null,
       "overflow": null,
       "padding": null,
       "right": null,
       "top": null,
       "visibility": null,
       "width": null
      }
     },
     "8183c4a2faa34c41b72dbb6eb7d9f001": {
      "model_module": "@jupyter-widgets/controls",
      "model_module_version": "2.0.0",
      "model_name": "HTMLStyleModel",
      "state": {
       "_model_module": "@jupyter-widgets/controls",
       "_model_module_version": "2.0.0",
       "_model_name": "HTMLStyleModel",
       "_view_count": null,
       "_view_module": "@jupyter-widgets/base",
       "_view_module_version": "2.0.0",
       "_view_name": "StyleView",
       "background": null,
       "description_width": "",
       "font_size": null,
       "text_color": null
      }
     },
     "87d001cf17e94d49837050252f805ccd": {
      "model_module": "@jupyter-widgets/controls",
      "model_module_version": "2.0.0",
      "model_name": "HTMLStyleModel",
      "state": {
       "_model_module": "@jupyter-widgets/controls",
       "_model_module_version": "2.0.0",
       "_model_name": "HTMLStyleModel",
       "_view_count": null,
       "_view_module": "@jupyter-widgets/base",
       "_view_module_version": "2.0.0",
       "_view_name": "StyleView",
       "background": null,
       "description_width": "",
       "font_size": null,
       "text_color": null
      }
     },
     "bc8431b52cb3427ea4d61bf2a9c1f5b6": {
      "model_module": "@jupyter-widgets/controls",
      "model_module_version": "2.0.0",
      "model_name": "HTMLModel",
      "state": {
       "_dom_classes": [],
       "_model_module": "@jupyter-widgets/controls",
       "_model_module_version": "2.0.0",
       "_model_name": "HTMLModel",
       "_view_count": null,
       "_view_module": "@jupyter-widgets/controls",
       "_view_module_version": "2.0.0",
       "_view_name": "HTMLView",
       "description": "",
       "description_allow_html": false,
       "layout": "IPY_MODEL_643a5b7ab6184dee94819b62e37e935d",
       "placeholder": "​",
       "style": "IPY_MODEL_8183c4a2faa34c41b72dbb6eb7d9f001",
       "tabbable": null,
       "tooltip": null,
       "value": " 8/8 [01:13&lt;00:00, 12.19s/it]"
      }
     },
     "d1e7f96ac9954bad96bd18d0d5c5ed1b": {
      "model_module": "@jupyter-widgets/controls",
      "model_module_version": "2.0.0",
      "model_name": "HTMLModel",
      "state": {
       "_dom_classes": [],
       "_model_module": "@jupyter-widgets/controls",
       "_model_module_version": "2.0.0",
       "_model_name": "HTMLModel",
       "_view_count": null,
       "_view_module": "@jupyter-widgets/controls",
       "_view_module_version": "2.0.0",
       "_view_name": "HTMLView",
       "description": "",
       "description_allow_html": false,
       "layout": "IPY_MODEL_e4c57180a0a54a16b2cf63cb423f7fb3",
       "placeholder": "​",
       "style": "IPY_MODEL_87d001cf17e94d49837050252f805ccd",
       "tabbable": null,
       "tooltip": null,
       "value": "100%"
      }
     },
     "dd9a6e5bcb0048dcbe1cc34e6b795aad": {
      "model_module": "@jupyter-widgets/controls",
      "model_module_version": "2.0.0",
      "model_name": "ProgressStyleModel",
      "state": {
       "_model_module": "@jupyter-widgets/controls",
       "_model_module_version": "2.0.0",
       "_model_name": "ProgressStyleModel",
       "_view_count": null,
       "_view_module": "@jupyter-widgets/base",
       "_view_module_version": "2.0.0",
       "_view_name": "StyleView",
       "bar_color": null,
       "description_width": ""
      }
     },
     "e4c57180a0a54a16b2cf63cb423f7fb3": {
      "model_module": "@jupyter-widgets/base",
      "model_module_version": "2.0.0",
      "model_name": "LayoutModel",
      "state": {
       "_model_module": "@jupyter-widgets/base",
       "_model_module_version": "2.0.0",
       "_model_name": "LayoutModel",
       "_view_count": null,
       "_view_module": "@jupyter-widgets/base",
       "_view_module_version": "2.0.0",
       "_view_name": "LayoutView",
       "align_content": null,
       "align_items": null,
       "align_self": null,
       "border_bottom": null,
       "border_left": null,
       "border_right": null,
       "border_top": null,
       "bottom": null,
       "display": null,
       "flex": null,
       "flex_flow": null,
       "grid_area": null,
       "grid_auto_columns": null,
       "grid_auto_flow": null,
       "grid_auto_rows": null,
       "grid_column": null,
       "grid_gap": null,
       "grid_row": null,
       "grid_template_areas": null,
       "grid_template_columns": null,
       "grid_template_rows": null,
       "height": null,
       "justify_content": null,
       "justify_items": null,
       "left": null,
       "margin": null,
       "max_height": null,
       "max_width": null,
       "min_height": null,
       "min_width": null,
       "object_fit": null,
       "object_position": null,
       "order": null,
       "overflow": null,
       "padding": null,
       "right": null,
       "top": null,
       "visibility": null,
       "width": null
      }
     },
     "e959827e3ddd46249f1946167f0f20b8": {
      "model_module": "@jupyter-widgets/controls",
      "model_module_version": "2.0.0",
      "model_name": "HBoxModel",
      "state": {
       "_dom_classes": [],
       "_model_module": "@jupyter-widgets/controls",
       "_model_module_version": "2.0.0",
       "_model_name": "HBoxModel",
       "_view_count": null,
       "_view_module": "@jupyter-widgets/controls",
       "_view_module_version": "2.0.0",
       "_view_name": "HBoxView",
       "box_style": "",
       "children": [
        "IPY_MODEL_d1e7f96ac9954bad96bd18d0d5c5ed1b",
        "IPY_MODEL_f72963723d6a4502b643b5ce531dd420",
        "IPY_MODEL_bc8431b52cb3427ea4d61bf2a9c1f5b6"
       ],
       "layout": "IPY_MODEL_14a78a016ba34b32943743492134d4e4",
       "tabbable": null,
       "tooltip": null
      }
     },
     "f72963723d6a4502b643b5ce531dd420": {
      "model_module": "@jupyter-widgets/controls",
      "model_module_version": "2.0.0",
      "model_name": "FloatProgressModel",
      "state": {
       "_dom_classes": [],
       "_model_module": "@jupyter-widgets/controls",
       "_model_module_version": "2.0.0",
       "_model_name": "FloatProgressModel",
       "_view_count": null,
       "_view_module": "@jupyter-widgets/controls",
       "_view_module_version": "2.0.0",
       "_view_name": "ProgressView",
       "bar_style": "success",
       "description": "",
       "description_allow_html": false,
       "layout": "IPY_MODEL_77c969eccf4f4ba6b5007f6498a6b688",
       "max": 8.0,
       "min": 0.0,
       "orientation": "horizontal",
       "style": "IPY_MODEL_dd9a6e5bcb0048dcbe1cc34e6b795aad",
       "tabbable": null,
       "tooltip": null,
       "value": 8.0
      }
     }
    },
    "version_major": 2,
    "version_minor": 0
   }
  }
 },
 "nbformat": 4,
 "nbformat_minor": 5
}