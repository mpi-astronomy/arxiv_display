{
 "cells": [
  {
   "cell_type": "markdown",
   "id": "92bcb855",
   "metadata": {
    "papermill": {
     "duration": 0.005254,
     "end_time": "2023-03-10T04:08:58.796199",
     "exception": false,
     "start_time": "2023-03-10T04:08:58.790945",
     "status": "completed"
    },
    "tags": []
   },
   "source": [
    "# MPIA Arxiv on Deck 2\n",
    "\n",
    "Contains the steps to produce the paper extractions."
   ]
  },
  {
   "cell_type": "code",
   "execution_count": 1,
   "id": "3a0d6e11",
   "metadata": {
    "execution": {
     "iopub.execute_input": "2023-03-10T04:08:58.806716Z",
     "iopub.status.busy": "2023-03-10T04:08:58.806009Z",
     "iopub.status.idle": "2023-03-10T04:08:59.075655Z",
     "shell.execute_reply": "2023-03-10T04:08:59.074681Z"
    },
    "papermill": {
     "duration": 0.277827,
     "end_time": "2023-03-10T04:08:59.078297",
     "exception": false,
     "start_time": "2023-03-10T04:08:58.800470",
     "status": "completed"
    },
    "tags": []
   },
   "outputs": [],
   "source": [
    "# Imports\n",
    "import os\n",
    "from IPython.display import Markdown, display\n",
    "from tqdm.notebook import tqdm\n",
    "import warnings\n",
    "from PIL import Image \n",
    "\n",
    "# requires arxiv_on_deck_2\n",
    "\n",
    "from arxiv_on_deck_2.arxiv2 import (get_new_papers, \n",
    "                                    get_paper_from_identifier,\n",
    "                                    retrieve_document_source, \n",
    "                                    get_markdown_badge)\n",
    "from arxiv_on_deck_2 import (latex,\n",
    "                             latex_bib,\n",
    "                             mpia,\n",
    "                             highlight_authors_in_list)\n",
    "\n",
    "# Sometimes images are really big\n",
    "Image.MAX_IMAGE_PIXELS = 1000000000 "
   ]
  },
  {
   "cell_type": "code",
   "execution_count": 2,
   "id": "22aa9d44",
   "metadata": {
    "execution": {
     "iopub.execute_input": "2023-03-10T04:08:59.088527Z",
     "iopub.status.busy": "2023-03-10T04:08:59.088206Z",
     "iopub.status.idle": "2023-03-10T04:08:59.095703Z",
     "shell.execute_reply": "2023-03-10T04:08:59.094847Z"
    },
    "papermill": {
     "duration": 0.014718,
     "end_time": "2023-03-10T04:08:59.097667",
     "exception": false,
     "start_time": "2023-03-10T04:08:59.082949",
     "status": "completed"
    },
    "tags": []
   },
   "outputs": [],
   "source": [
    "# Some useful definitions.\n",
    "\n",
    "class AffiliationWarning(UserWarning):\n",
    "    pass\n",
    "\n",
    "class AffiliationError(RuntimeError):\n",
    "    pass\n",
    "\n",
    "def validation(source: str):\n",
    "    \"\"\"Raises error paper during parsing of source file\n",
    "    \n",
    "    Allows checks before parsing TeX code.\n",
    "    \n",
    "    Raises AffiliationWarning\n",
    "    \"\"\"\n",
    "    check = mpia.affiliation_verifications(source, verbose=True)\n",
    "    if check is not True:\n",
    "        raise AffiliationError(\"mpia.affiliation_verifications: \" + check)\n",
    "\n",
    "        \n",
    "warnings.simplefilter('always', AffiliationWarning)"
   ]
  },
  {
   "cell_type": "code",
   "execution_count": 3,
   "id": "14622700",
   "metadata": {
    "execution": {
     "iopub.execute_input": "2023-03-10T04:08:59.106908Z",
     "iopub.status.busy": "2023-03-10T04:08:59.106618Z",
     "iopub.status.idle": "2023-03-10T04:08:59.111056Z",
     "shell.execute_reply": "2023-03-10T04:08:59.110229Z"
    },
    "papermill": {
     "duration": 0.011519,
     "end_time": "2023-03-10T04:08:59.113269",
     "exception": false,
     "start_time": "2023-03-10T04:08:59.101750",
     "status": "completed"
    },
    "tags": []
   },
   "outputs": [],
   "source": [
    "# additional CSS to consider. \n",
    "# TODO: Current into each exported file. \n",
    "#       This should be set once into the webpages directly.\n",
    "#       With only the class/id definitions in the .md files.\n",
    "\n",
    "debug_html = \"\"\"\n",
    "<style>\n",
    "#wrap{ overflow:auto; }\n",
    "#fig1{ background:yellow; width:100%; float:left; padding:5px;  }\n",
    "#fig2{ background:red; width:50%; float:left; clear:left; padding:5px;  }\n",
    "#fig3{ background:green; width:50%; float:left; padding:5px;   }\n",
    ".macros{ background:yellow; visibility:visible;}\n",
    "h1 {margin: 0 0 0 0;}\n",
    "mark {background-color:#fff3b6;}\n",
    "img {object-fit:contain; max-height:250px; display:inline-block; text-align: center;}\n",
    "</style>\n",
    "\"\"\" \n",
    "html = \"\"\"\n",
    "<style>\n",
    "#wrap{ overflow:auto; }\n",
    "#fig1{ width:100%; float:left; padding: 5px;  }\n",
    "#fig2{ width:50%; float:left; clear:left; padding: 5px;  }\n",
    "#fig3{ width:50%; float:left; padding: 5px;  }\n",
    ".macros{ visibility:hidden; height:0px; }\n",
    "h1 {margin: 0em 0 0 0;}\n",
    "mark {background-color:#fff3b6;}\n",
    "img {object-fit:contain; max-height:250px; display:inline-block; text-align: center;}\n",
    "</style>\n",
    "\"\"\""
   ]
  },
  {
   "cell_type": "markdown",
   "id": "14bd6310",
   "metadata": {
    "papermill": {
     "duration": 0.0044,
     "end_time": "2023-03-10T04:08:59.122017",
     "exception": false,
     "start_time": "2023-03-10T04:08:59.117617",
     "status": "completed"
    },
    "tags": []
   },
   "source": [
    "## get list of arxiv paper candidates\n",
    "\n",
    "We use the MPIA mitarbeiter list webpage from mpia.de to get author names\n",
    "We then get all new papers from Arxiv and match authors"
   ]
  },
  {
   "cell_type": "code",
   "execution_count": 4,
   "id": "2645e73a",
   "metadata": {
    "execution": {
     "iopub.execute_input": "2023-03-10T04:08:59.131532Z",
     "iopub.status.busy": "2023-03-10T04:08:59.131049Z",
     "iopub.status.idle": "2023-03-10T04:09:29.841326Z",
     "shell.execute_reply": "2023-03-10T04:09:29.840402Z"
    },
    "papermill": {
     "duration": 30.721627,
     "end_time": "2023-03-10T04:09:29.847530",
     "exception": false,
     "start_time": "2023-03-10T04:08:59.125903",
     "status": "completed"
    },
    "tags": []
   },
   "outputs": [
    {
     "name": "stdout",
     "output_type": "stream",
     "text": [
      "Arxiv has 49 new papers today\n",
      "          8 with possible author matches\n"
     ]
    }
   ],
   "source": [
    "# get list from MPIA website\n",
    "# it automatically filters identified non-scientists :func:`mpia.filter_non_scientists`\n",
    "mpia_authors = mpia.get_mpia_mitarbeiter_list()\n",
    "new_papers = get_new_papers()\n",
    "# add manual references\n",
    "add_paper_refs = []\n",
    "new_papers.extend([get_paper_from_identifier(k) for k in add_paper_refs])\n",
    "\n",
    "# select only papers with matching author names and highlight authors\n",
    "hl_list = [k[0] for k in mpia_authors]\n",
    "\n",
    "candidates = []\n",
    "for paperk in new_papers:\n",
    "    hl_authors = highlight_authors_in_list(paperk['authors'], hl_list)\n",
    "    matches = [(hl, orig) for hl, orig in zip(hl_authors, paperk['authors']) if 'mark' in hl]\n",
    "    paperk['authors'] = hl_authors\n",
    "    if matches:\n",
    "        candidates.append(paperk)\n",
    "print(\"\"\"Arxiv has {0:,d} new papers today\"\"\".format(len(new_papers)))        \n",
    "print(\"\"\"          {0:,d} with possible author matches\"\"\".format(len(candidates)))"
   ]
  },
  {
   "cell_type": "markdown",
   "id": "3543b34a",
   "metadata": {
    "papermill": {
     "duration": 0.00424,
     "end_time": "2023-03-10T04:09:29.856106",
     "exception": false,
     "start_time": "2023-03-10T04:09:29.851866",
     "status": "completed"
    },
    "tags": []
   },
   "source": [
    "# Parse sources and generate relevant outputs\n",
    "\n",
    "From the candidates, we do the following steps:\n",
    "* get their tarball from ArXiv (and extract data)\n",
    "* find the main .tex file: find one with \\documentclass{...} (sometimes it's non trivial)\n",
    "* Check affiliations with :func:`validation`, which uses :func:`mpia.affiliation_verifications`\n",
    "* If passing the affiliations: we parse the .tex source\n",
    "   * inject sub-documents into the main (flatten the main document)\n",
    "   * parse structure, extract information (title, abstract, authors, figures...)\n",
    "   * handles `\\graphicspath` if provided\n",
    "* Generate the .md document."
   ]
  },
  {
   "cell_type": "code",
   "execution_count": 5,
   "id": "9576b79e",
   "metadata": {
    "execution": {
     "iopub.execute_input": "2023-03-10T04:09:29.866739Z",
     "iopub.status.busy": "2023-03-10T04:09:29.865917Z",
     "iopub.status.idle": "2023-03-10T04:09:52.225018Z",
     "shell.execute_reply": "2023-03-10T04:09:52.224187Z"
    },
    "papermill": {
     "duration": 22.369195,
     "end_time": "2023-03-10T04:09:52.229561",
     "exception": false,
     "start_time": "2023-03-10T04:09:29.860366",
     "status": "completed"
    },
    "scrolled": false,
    "tags": []
   },
   "outputs": [
    {
     "data": {
      "application/vnd.jupyter.widget-view+json": {
       "model_id": "fc0a6a4a9f134dceb3d2ec344800778d",
       "version_major": 2,
       "version_minor": 0
      },
      "text/plain": [
       "  0%|          | 0/7 [00:00<?, ?it/s]"
      ]
     },
     "metadata": {},
     "output_type": "display_data"
    },
    {
     "name": "stdout",
     "output_type": "stream",
     "text": [
      "Retrieving document from  https://arxiv.org/e-print/2303.04827\n"
     ]
    },
    {
     "name": "stdout",
     "output_type": "stream",
     "text": [
      "extracting tarball to tmp_2303.04827..."
     ]
    },
    {
     "name": "stdout",
     "output_type": "stream",
     "text": [
      " done.\n",
      "Retrieving document from  https://arxiv.org/e-print/2303.04830\n"
     ]
    },
    {
     "name": "stdout",
     "output_type": "stream",
     "text": [
      "extracting tarball to tmp_2303.04830..."
     ]
    },
    {
     "name": "stdout",
     "output_type": "stream",
     "text": [
      " done.\n",
      "Retrieving document from  https://arxiv.org/e-print/2303.04834\n"
     ]
    },
    {
     "name": "stderr",
     "output_type": "stream",
     "text": [
      "/opt/hostedtoolcache/Python/3.9.16/x64/lib/python3.9/site-packages/IPython/core/interactiveshell.py:3460: LatexWarning: Multiple tex files.\n",
      "\n",
      "  exec(code_obj, self.user_global_ns, self.user_ns)\n",
      "/opt/hostedtoolcache/Python/3.9.16/x64/lib/python3.9/site-packages/IPython/core/interactiveshell.py:3460: LatexWarning: Found documentclass in tmp_2303.04830/main.tex\n",
      "\n",
      "  exec(code_obj, self.user_global_ns, self.user_ns)\n",
      "/opt/hostedtoolcache/Python/3.9.16/x64/lib/python3.9/site-packages/arxiv_on_deck_2/latex.py:359: LatexWarning: Latex injecting: 'affiliation' from 'tmp_2303.04830/affiliation.tex'\n",
      "  warnings.warn(LatexWarning(f\"Latex injecting: '{ext}' from '{subsource}'\"))\n",
      "/opt/hostedtoolcache/Python/3.9.16/x64/lib/python3.9/site-packages/arxiv_on_deck_2/latex.py:359: LatexWarning: Latex injecting: 'table_with_lines' from 'tmp_2303.04830/table_with_lines.tex'\n",
      "  warnings.warn(LatexWarning(f\"Latex injecting: '{ext}' from '{subsource}'\"))\n",
      "/opt/hostedtoolcache/Python/3.9.16/x64/lib/python3.9/site-packages/arxiv_on_deck_2/latex.py:359: LatexWarning: Latex injecting: 'table_with_lines' from 'tmp_2303.04830/ALMA SGP emission line paper (Copy)/table_with_lines.tex'\n",
      "  warnings.warn(LatexWarning(f\"Latex injecting: '{ext}' from '{subsource}'\"))\n",
      "/opt/hostedtoolcache/Python/3.9.16/x64/lib/python3.9/site-packages/arxiv_on_deck_2/latex.py:359: LatexWarning: Latex injecting: 'Derivedproperties2' from 'tmp_2303.04830/Derivedproperties2.tex'\n",
      "  warnings.warn(LatexWarning(f\"Latex injecting: '{ext}' from '{subsource}'\"))\n",
      "/opt/hostedtoolcache/Python/3.9.16/x64/lib/python3.9/site-packages/arxiv_on_deck_2/latex.py:359: LatexWarning: Latex injecting: 'Derivedproperties2' from 'tmp_2303.04830/ALMA SGP emission line paper (Copy)/Derivedproperties2.tex'\n",
      "  warnings.warn(LatexWarning(f\"Latex injecting: '{ext}' from '{subsource}'\"))\n"
     ]
    },
    {
     "name": "stdout",
     "output_type": "stream",
     "text": [
      "extracting tarball to tmp_2303.04834..."
     ]
    },
    {
     "name": "stdout",
     "output_type": "stream",
     "text": [
      " done.\n",
      "Retrieving document from  https://arxiv.org/e-print/2303.04889\n"
     ]
    },
    {
     "name": "stdout",
     "output_type": "stream",
     "text": [
      "extracting tarball to tmp_2303.04889..."
     ]
    },
    {
     "name": "stdout",
     "output_type": "stream",
     "text": [
      " done.\n",
      "Retrieving document from  https://arxiv.org/e-print/2303.04954\n"
     ]
    },
    {
     "name": "stderr",
     "output_type": "stream",
     "text": [
      "/opt/hostedtoolcache/Python/3.9.16/x64/lib/python3.9/site-packages/IPython/core/interactiveshell.py:3460: LatexWarning: Multiple tex files.\n",
      "\n",
      "  exec(code_obj, self.user_global_ns, self.user_ns)\n",
      "/opt/hostedtoolcache/Python/3.9.16/x64/lib/python3.9/site-packages/IPython/core/interactiveshell.py:3460: LatexWarning: Found documentclass in tmp_2303.04889/ms.tex\n",
      "\n",
      "  exec(code_obj, self.user_global_ns, self.user_ns)\n"
     ]
    },
    {
     "name": "stdout",
     "output_type": "stream",
     "text": [
      "extracting tarball to tmp_2303.04954..."
     ]
    },
    {
     "name": "stdout",
     "output_type": "stream",
     "text": [
      " done.\n",
      "Retrieving document from  https://arxiv.org/e-print/2303.05014\n"
     ]
    },
    {
     "name": "stdout",
     "output_type": "stream",
     "text": [
      "extracting tarball to tmp_2303.05014..."
     ]
    },
    {
     "name": "stdout",
     "output_type": "stream",
     "text": [
      " done.\n",
      "Retrieving document from  https://arxiv.org/e-print/2303.05083\n"
     ]
    },
    {
     "name": "stdout",
     "output_type": "stream",
     "text": [
      "extracting tarball to tmp_2303.05083..."
     ]
    },
    {
     "name": "stdout",
     "output_type": "stream",
     "text": [
      " done.\n"
     ]
    }
   ],
   "source": [
    "documents = []\n",
    "failed = []\n",
    "for paper in tqdm(candidates[:-1]):\n",
    "    paper_id = paper['identifier'].lower().replace('arxiv:', '')\n",
    "    \n",
    "    folder = f'tmp_{paper_id}'\n",
    "\n",
    "    try:\n",
    "        if not os.path.isdir(folder):\n",
    "            folder = retrieve_document_source(f\"{paper_id}\", f'tmp_{paper_id}')\n",
    "        \n",
    "        try:\n",
    "            doc = latex.LatexDocument(folder, validation=validation)    \n",
    "        except AffiliationError as affilerror:\n",
    "            msg = f\"ArXiv:{paper_id:s} is not an MPIA paper... \" + str(affilerror)\n",
    "            failed.append((paper, \"affiliation error: \" + str(affilerror) ))\n",
    "            continue\n",
    "        \n",
    "        # Hack because sometimes author parsing does not work well\n",
    "        if (len(doc.authors) != len(paper['authors'])):\n",
    "            doc._authors = paper['authors']\n",
    "        if (doc.abstract) in (None, ''):\n",
    "            doc._abstract = paper['abstract']\n",
    "            \n",
    "        doc.comment = (get_markdown_badge(paper_id) + \n",
    "                       \"<mark>Appeared on: \" + paper['date'] + \"</mark> - \" +\n",
    "                       \"_\" + paper['comments'] + \"_\")\n",
    "        doc.highlight_authors_in_list(hl_list)\n",
    "\n",
    "        full_md = doc.generate_markdown_text()\n",
    "        \n",
    "        # replace citations\n",
    "        try:\n",
    "            bibdata = latex_bib.LatexBib.from_doc(doc)\n",
    "            full_md = latex_bib.replace_citations(full_md, bibdata)\n",
    "        except Exception as e:\n",
    "            print(e)\n",
    "        \n",
    "        documents.append((paper_id, full_md))\n",
    "    except Exception as e:\n",
    "        warnings.warn(latex.LatexWarning(f\"{paper_id:s} did not run properly\\n\" +\n",
    "                                         str(e)\n",
    "                                        ))\n",
    "        failed.append((paper, \"latex error \" + str(e)))"
   ]
  },
  {
   "cell_type": "markdown",
   "id": "2505a25c",
   "metadata": {
    "papermill": {
     "duration": 0.006104,
     "end_time": "2023-03-10T04:09:52.241436",
     "exception": false,
     "start_time": "2023-03-10T04:09:52.235332",
     "status": "completed"
    },
    "tags": []
   },
   "source": [
    "### Export the logs\n",
    "\n",
    "Throughout, we also keep track of the logs per paper. see `logs-{today date}.md` "
   ]
  },
  {
   "cell_type": "code",
   "execution_count": 6,
   "id": "d733828a",
   "metadata": {
    "execution": {
     "iopub.execute_input": "2023-03-10T04:09:52.256818Z",
     "iopub.status.busy": "2023-03-10T04:09:52.255703Z",
     "iopub.status.idle": "2023-03-10T04:09:52.279107Z",
     "shell.execute_reply": "2023-03-10T04:09:52.278209Z"
    },
    "papermill": {
     "duration": 0.033452,
     "end_time": "2023-03-10T04:09:52.281016",
     "exception": false,
     "start_time": "2023-03-10T04:09:52.247564",
     "status": "completed"
    },
    "scrolled": false,
    "tags": []
   },
   "outputs": [
    {
     "data": {
      "text/markdown": [
       "## Successful papers"
      ],
      "text/plain": [
       "<IPython.core.display.Markdown object>"
      ]
     },
     "metadata": {},
     "output_type": "display_data"
    },
    {
     "data": {
      "text/markdown": [
       "## Failed papers"
      ],
      "text/plain": [
       "<IPython.core.display.Markdown object>"
      ]
     },
     "metadata": {},
     "output_type": "display_data"
    },
    {
     "data": {
      "text/markdown": [
       "\n",
       "|||\n",
       "|---:|:---|\n",
       "| [![arXiv](https://img.shields.io/badge/arXiv-arXiv:2303.04827-b31b1b.svg)](https://arxiv.org/abs/arXiv:2303.04827) | **Efficient Formation of Massive Galaxies at Cosmic Dawn by Feedback-Free  Starbursts**  |\n",
       "|| Avishai Dekel, et al. -- incl., <mark>Zhaozhou Li</mark> |\n",
       "|*Appeared on*| *2023-03-10*|\n",
       "|*Comments*| *15 pages, 6 figures*|\n",
       "|**Abstract**| JWST observations reveal a surprising excess of luminous galaxies at $z\\sim 10$, consistent with efficient conversion of the accreted gas into stars, unlike the suppression of star formation by feedback at later times. We show that the high densities and low metallicities at this epoch guarantee a high star-formation efficiency in the most massive dark-matter haloes. Feedback-free starbursts (FFBs) occur when the free-fall time is shorter than $\\sim 1$ Myr, below the time for low-metallicity massive stars to develop winds and supernovae. This corresponds to a characteristic density of $\\sim 3\\times 10^3$cm$^{-3}$. A comparable threshold density permits a starburst by allowing cooling to star-forming temperatures in a free-fall time. The galaxies within $\\sim 10^{11} M_\\odot$ haloes at $z \\sim 10$ are expected to have FFB densities. The halo masses allow efficient gas supply by cold streams in a halo crossing time $\\sim 80$ Myr. The FFBs gradually turn all the accreted gas into stars in clusters of $\\sim 10^{4-7.5} M_\\odot$ within galaxies that are rotating discs or shells. The starbursting clouds are shielded against feedback from earlier stars. We predict high star-formation efficiency above thresholds in redshift and halo mass, where the density is $10^{3-4}$cm$^{-3}$. The $z\\sim 10$ haloes of $\\sim 10^{10.8} M_\\odot$ are predicted to host galaxies of $\\sim 10^{10} M_\\odot$ with SFR $\\sim 65 M_\\odot$ yr$^{-1}$ and sub-kpc sizes. The metallicity is $\\leq 0.1 Z_\\odot$ with little gas, dust, outflows and hot circumgalactic gas, allowing a top-heavy IMF but not requiring it. The post-FFB evolution of compact galaxies with thousands of young clusters may have implications on black-hole growth and globular clusters at later times. |\n",
       "|<p style=\"color:green\"> **ERROR** </p>| <p style=\"color:green\">affiliation error: mpia.affiliation_verifications: 'Heidelberg' keyword not found.</p> |"
      ],
      "text/plain": [
       "<IPython.core.display.Markdown object>"
      ]
     },
     "metadata": {},
     "output_type": "display_data"
    },
    {
     "data": {
      "text/markdown": [
       "\n",
       "|||\n",
       "|---:|:---|\n",
       "| [![arXiv](https://img.shields.io/badge/arXiv-arXiv:2303.04830-b31b1b.svg)](https://arxiv.org/abs/arXiv:2303.04830) | **Bright Extragalactic ALMA Redshift Survey (BEARS) III: Detailed study of  emission lines from 71 Herschel targets**  |\n",
       "|| M. Hagimoto, et al. -- incl., <mark>A. I. Harris</mark>, <mark>D. H. Hughes</mark>, <mark>M. W. L. Smith</mark> |\n",
       "|*Appeared on*| *2023-03-10*|\n",
       "|*Comments*| *30 pages, 17 figures, accepted for publication in Monthly Notices of the Royal Astronomical Society Main Journal. Comments are warmly welcomed*|\n",
       "|**Abstract**| We analyse the molecular and atomic emission lines of 71 bright Herschel-selected galaxies between redshifts 1.4 to 4.6 detected by the Atacama Large Millimetre/submillimetre Array. These lines include a total of 156 CO, [C I], and H2O emission lines. For 46 galaxies, we detect two transitions of CO lines, and for these galaxies we find gas properties similar to those of other dusty star-forming galaxy (DSFG) samples. A comparison to photo-dissociation models suggests that most of Herschel-selected galaxies have similar interstellar medium conditions as local infrared-luminous galaxies and high-redshift DSFGs, although with denser gas and more intense far-ultraviolet radiation fields than normal star-forming galaxies. The line luminosities agree with the luminosity scaling relations across five orders of magnitude, although the star-formation and gas surface density distributions (i.e., Schmidt-Kennicutt relation) suggest a different star-formation phase in our galaxies (and other DSFGs) compared to local and low-redshift gas-rich, normal star-forming systems. The gas-to-dust ratios of these galaxies are similar to Milky Way values, with no apparent redshift evolution. Four of 46 sources appear to have CO line ratios in excess of the expected maximum (thermalized) profile, suggesting a rare phase in the evolution of DSFGs. Finally, we create a deep stacked spectrum over a wide rest-frame frequency (220-890 GHz) that reveals faint transitions from HCN and CH, in line with previous stacking experiments. |\n",
       "|<p style=\"color:green\"> **ERROR** </p>| <p style=\"color:green\">affiliation error: mpia.affiliation_verifications: 'Heidelberg' keyword not found.</p> |"
      ],
      "text/plain": [
       "<IPython.core.display.Markdown object>"
      ]
     },
     "metadata": {},
     "output_type": "display_data"
    },
    {
     "data": {
      "text/markdown": [
       "\n",
       "|||\n",
       "|---:|:---|\n",
       "| [![arXiv](https://img.shields.io/badge/arXiv-arXiv:2303.04834-b31b1b.svg)](https://arxiv.org/abs/arXiv:2303.04834) | **Measurement of the angular momenta of pre-main-sequence stars: early  evolution of slow and fast rotators and empirical constraints on spin-down  torque mechanisms**  |\n",
       "|| Marina Kounkel, et al. -- incl., <mark>Jason Lee Curtis</mark> |\n",
       "|*Appeared on*| *2023-03-10*|\n",
       "|*Comments*| *Accepted to AJ, 17 pages, 11 figures*|\n",
       "|**Abstract**| We use TESS full-frame imaging data to investigate the angular momentum evolution of young stars in Orion Complex. We confirm recent findings that stars with rotation periods faster than 2 d are overwhelmingly binaries, with typical separations of tens of AU; such binaries quickly clear their disks, leading to a tendency for rapid rotators to be diskless. Among (nominally single) stars with rotation periods slower than 2 d, we observe the familiar, gyrochronological horseshoe-shaped relationship of rotation period versus $T_{\\rm eff}$, indicating that the processes which govern the universal evolution of stellar rotation on Gyr timescales are already in place within the first few Myr. Using spectroscopic $v\\sin i$ we determine the distribution of $\\sin i$, revealing that the youngest stars are biased toward more pole-on orientations, which may be responsible for the systematics between stellar mass and age observed in star-forming regions. We are also able for the first time to make empirical, quantitative measurements of angular momenta and their time derivative as functions of stellar mass and age, finding these relationships to be much simpler and monotonic as compared to the complex relationships involving rotation period alone; evidently, the relationship between rotation period and $T_{\\rm eff}$ is largely a reflection of mass-dependent stellar structure and not of angular momentum per se. Our measurements show that the stars experience spin-down torques in the range ~$10^{37}$ erg at ~1 Myr to ~$10^{35}$ erg at ~10 Myr, which provide a crucial empirical touchstone for theoretical mechanisms of angular momentum loss in young stars. |\n",
       "|<p style=\"color:green\"> **ERROR** </p>| <p style=\"color:green\">affiliation error: mpia.affiliation_verifications: 'Heidelberg' keyword not found.</p> |"
      ],
      "text/plain": [
       "<IPython.core.display.Markdown object>"
      ]
     },
     "metadata": {},
     "output_type": "display_data"
    },
    {
     "data": {
      "text/markdown": [
       "\n",
       "|||\n",
       "|---:|:---|\n",
       "| [![arXiv](https://img.shields.io/badge/arXiv-arXiv:2303.04889-b31b1b.svg)](https://arxiv.org/abs/arXiv:2303.04889) | **Effective two-body scatterings around a massive object**  |\n",
       "|| Yihan Wang, et al. -- incl., <mark>Bing Zhang</mark> |\n",
       "|*Appeared on*| *2023-03-10*|\n",
       "|*Comments*| *Comments are Welcome*|\n",
       "|**Abstract**| Two-body scatterings under the potential of a massive object are very common in astrophysics. If the massive body is far enough away that the two small bodies are in their own gravitational sphere of influence, the gravity of the massive body can be temporarily ignored. However, this requires the scattering process to be fast enough that the small objects do not spend too much time at distances near the surface of the sphere of influence. In this paper, we derive the validation criteria for effective two-body scattering and establish a simple analytical solution for this process, which we verify through numerical scattering experiments. We use this solution to study star-black hole scatterings in the disks of Active Galactic Nuclei and planet-planet scatterings in planetary systems, and calculate their one-dimensional cross-section analytically. Our solution will be valuable in reducing computational time when treating two-body scatterings under the potential of a much more massive third body, provided that the problem settings are in the valid parameter space region identified by our study. |\n",
       "|<p style=\"color:green\"> **ERROR** </p>| <p style=\"color:green\">affiliation error: mpia.affiliation_verifications: 'Heidelberg' keyword not found.</p> |"
      ],
      "text/plain": [
       "<IPython.core.display.Markdown object>"
      ]
     },
     "metadata": {},
     "output_type": "display_data"
    },
    {
     "data": {
      "text/markdown": [
       "\n",
       "|||\n",
       "|---:|:---|\n",
       "| [![arXiv](https://img.shields.io/badge/arXiv-arXiv:2303.04954-b31b1b.svg)](https://arxiv.org/abs/arXiv:2303.04954) | **Age-Divided Mean Stellar Populations from Full Spectrum Fitting as the  Simplified Star Formation and Chemical Evolution History of a Galaxy:  Methodology and Reliability**  |\n",
       "|| <mark>Joon Hyeop Lee</mark>, Mina Pak, Hyunjin Jeong, Sree Oh |\n",
       "|*Appeared on*| *2023-03-10*|\n",
       "|*Comments*| *26 pages, 24 figures, accepted for publication in MNRAS*|\n",
       "|**Abstract**| We introduce a practical methodology for investigating the star formation and chemical evolution history of a galaxy: age-divided mean stellar populations (ADPs) from full spectrum fitting. In this method, the mass-weighted mean stellar populations and mass fractions (f_mass) of young and old stellar components in a galaxy are separately estimated, which are divided with an age cut (selected to be 10^9.5 yr ~ 3.2 Gyr in this paper). To examine the statistical reliability of ADPs, we generate 10,000 artificial galaxy spectra, each of which consists of five random simple stellar population components. Using the Penalized PiXel-Fitting (pPXF) package, we conduct full spectrum fitting to the artificial spectra with noise as a function of wavelength, imitating the real noise of Sydney-Australian Astronomical Observatory Multi-object Integral field spectrograph (SAMI) galaxies. As a result, the \\Delta (= output - input) of age and metallicity appears to significantly depend on not only signal-to-noise ratio (S/N), but also luminosity fractions (f_lum) of young and old components. At given S/N and f_lum, \\Delta of young components tends to be larger than \\Delta of old components; e.g., \\sigma(\\Delta [M/H]) ~ 0.40 versus 0.23 at S/N = 30 and f_lum = 50 per cent. The age-metallicity degeneracy appears to be insignificant, but \\Delta log(age/yr) shows an obvious correlation with \\Delta f_mass for young stellar components (R ~ 0.6). The impact of dust attenuation and emission lines appears to be mostly insignificant. We discuss how this methodology can be applied to spectroscopic studies of the formation histories of galaxies, with a few examples of SAMI galaxies. |\n",
       "|<p style=\"color:green\"> **ERROR** </p>| <p style=\"color:green\">affiliation error: mpia.affiliation_verifications: 'Heidelberg' keyword not found.</p> |"
      ],
      "text/plain": [
       "<IPython.core.display.Markdown object>"
      ]
     },
     "metadata": {},
     "output_type": "display_data"
    },
    {
     "data": {
      "text/markdown": [
       "\n",
       "|||\n",
       "|---:|:---|\n",
       "| [![arXiv](https://img.shields.io/badge/arXiv-arXiv:2303.05014-b31b1b.svg)](https://arxiv.org/abs/arXiv:2303.05014) | **Advection-dominated accretion flow for the varied transition  luminosities in black hole X-ray binaries**  |\n",
       "|| <mark>Jiaqi Li</mark>, Erlin Qiao |\n",
       "|*Appeared on*| *2023-03-10*|\n",
       "|*Comments*| *10 pages, 7 figures, 4 tables, accepted for publication in MNRAS*|\n",
       "|**Abstract**| Observationally, two main spectral states, i.e., the low/hard state and the high/soft state, are identified in black hole X-ray binaries (BH-XRBs). Meanwhile, the transitions between the two states are often observed. In this paper, we re-investigate the transition luminosities in the framework of the self-similar solution of the advection-dominated accretion flow (ADAF). Specifically, we search for the critical mass accretion rate $\\dot m_{\\rm crit}$ of ADAF for different radii $r$ respectively. It is found that $\\dot m_{\\rm crit}$ decreases with decreasing $r$. By testing the effects of BH mass $m$, the magnetic parameter $\\beta$ and the viscosity parameter $\\alpha$, it is found that only $\\alpha$ has significant effects on $\\dot m_{\\rm crit}-r$ relation. We define the minimum $\\dot m_{\\rm crit}$ (roughly at the innermost stable circular orbit) as the hard-to-soft transition rate $\\dot m_{\\rm tr: H\\rightarrow S}$, above which BH will gradually transit from the low/hard state to the high/soft state, and $\\dot m_{\\rm crit}$ at $30$ Schwarzschild radii as the soft-to-hard transition rate $\\dot m_{\\rm tr: S\\rightarrow H}$, below which BH will gradually transit from the high/soft state to the low/hard state. We derive fitting formulae of $\\dot m_{\\rm tr: H\\rightarrow S}$ and $\\dot m_{\\rm tr: S\\rightarrow H}$ as functions of $\\alpha$ respectively. By comparing with observations, it is found that the mean value of $\\alpha$ are $\\alpha \\sim 0.85$ and $\\alpha \\sim 0.33$ for the hard-to-soft transition and the soft-to-hard transition respectively, which indicates that two classes of $\\alpha$ are needed for explaining the hysteresis effect during the state transition. Finally, we argue that such a constrained $\\alpha$ may provide valuable clues for further exploring the accretion physics in BH-XRBs. |\n",
       "|<p style=\"color:green\"> **ERROR** </p>| <p style=\"color:green\">affiliation error: mpia.affiliation_verifications: 'Heidelberg' keyword not found.</p> |"
      ],
      "text/plain": [
       "<IPython.core.display.Markdown object>"
      ]
     },
     "metadata": {},
     "output_type": "display_data"
    },
    {
     "data": {
      "text/markdown": [
       "\n",
       "|||\n",
       "|---:|:---|\n",
       "| [![arXiv](https://img.shields.io/badge/arXiv-arXiv:2303.05083-b31b1b.svg)](https://arxiv.org/abs/arXiv:2303.05083) | **Evolution of the post merger remnants from the coalescence of  oxygen-neon and carbon-oxygen white dwarf pairs**  |\n",
       "|| Chengyuan Wu, et al. -- incl., <mark>Yunlang Guo</mark> |\n",
       "|*Appeared on*| *2023-03-10*|\n",
       "|*Comments*| *22 pages, 10 figures, 8 tables, accepted for publication in ApJL*|\n",
       "|**Abstract**| Although multidimensional simulations have investigated the processes of double WD mergers, post-merger evolution only focused on the carbon-oxygen (CO) WD or helium (He) WD merger remnants. In this work, we investigate for the first time the evolution of the remnants stemmed from the merger of oxygen-neon (ONe) WDs with CO WDs. Our simulation results indicate that the merger remnants can evolve to hydrogen- and helium-deficient giants with maximum radius of about 300Rsun. Our models show evidence that merger remnants more massive than 1.95Msun can ignite Ne before significant mass-loss ensues, and they thus would become electron-capture supernovae (ECSNe). However, remnants with initial masses less than 1.90Msun will experience further core contraction and longer evolutionary time before reaching at the conditions for Ne-burning. Therefore their fates are more dependent on mass-loss rates due to stellar winds, and thus more uncertain. Relatively high mass-loss rates would cause such remnants to end their lives as ONe WDs. Our evolutionary models can naturally explain the observational properties of the double WD merger remnant IRAS 00500+6713 (J005311). As previously suggested in the literature, we propose and justify that J005311 may be the remnant from the coalescence of an ONe WD and an CO WD. We deduce that the final outcome of J005311 would be a massive ONe WD rather than a supernova explosion. Our investigations may be able to provide possible constraints on the wind mass-loss properties of the giants which have CO-dominant envelopes. |\n",
       "|<p style=\"color:green\"> **ERROR** </p>| <p style=\"color:green\">affiliation error: mpia.affiliation_verifications: 'Heidelberg' keyword not found.</p> |"
      ],
      "text/plain": [
       "<IPython.core.display.Markdown object>"
      ]
     },
     "metadata": {},
     "output_type": "display_data"
    }
   ],
   "source": [
    "import datetime\n",
    "today = str(datetime.date.today())\n",
    "logfile = f\"_build/html/logs/log-{today}.md\"\n",
    "\n",
    "\n",
    "with open(logfile, 'w') as logs:\n",
    "    # Success\n",
    "    logs.write(f'# Arxiv on Deck 2: Logs - {today}\\n\\n')\n",
    "    logs.write(\"\"\"* Arxiv had {0:,d} new papers\\n\"\"\".format(len(new_papers)))\n",
    "    logs.write(\"\"\"    * {0:,d} with possible author matches\\n\\n\"\"\".format(len(candidates)))\n",
    "    logs.write(\"## Sucessful papers\\n\\n\")\n",
    "    display(Markdown(\"## Successful papers\"))\n",
    "    success = [k[0] for k in documents]\n",
    "    for candid in candidates:\n",
    "        if candid['identifier'].split(':')[-1] in success:\n",
    "            display(candid)\n",
    "            logs.write(candid.generate_markdown_text() + '\\n\\n')\n",
    "\n",
    "    ## failed\n",
    "    logs.write(\"## Failed papers\\n\\n\")\n",
    "    display(Markdown(\"## Failed papers\"))\n",
    "    failed = sorted(failed, key=lambda x: x[1])\n",
    "    current_reason = \"\"\n",
    "    for paper, reason in failed:\n",
    "        if 'affiliation' in reason:\n",
    "            color = 'green'\n",
    "        else:\n",
    "            color = 'red'\n",
    "        data = Markdown(\n",
    "                paper.generate_markdown_text() + \n",
    "                f'\\n|<p style=\"color:{color:s}\"> **ERROR** </p>| <p style=\"color:{color:s}\">{reason:s}</p> |'\n",
    "               )\n",
    "        if reason != current_reason:\n",
    "            logs.write(f'### {reason:s} \\n\\n')\n",
    "            current_reason = reason\n",
    "        logs.write(data.data + '\\n\\n')\n",
    "        \n",
    "        # only display here the important errors (all in logs)\n",
    "        # if color in ('red',):\n",
    "        display(data)"
   ]
  },
  {
   "cell_type": "markdown",
   "id": "472d20ee",
   "metadata": {
    "papermill": {
     "duration": 0.007088,
     "end_time": "2023-03-10T04:09:52.294796",
     "exception": false,
     "start_time": "2023-03-10T04:09:52.287708",
     "status": "completed"
    },
    "tags": []
   },
   "source": [
    "## Export documents\n",
    "\n",
    "We now write the .md files and export relevant images"
   ]
  },
  {
   "cell_type": "code",
   "execution_count": 7,
   "id": "d426aed9",
   "metadata": {
    "execution": {
     "iopub.execute_input": "2023-03-10T04:09:52.309697Z",
     "iopub.status.busy": "2023-03-10T04:09:52.309153Z",
     "iopub.status.idle": "2023-03-10T04:09:52.318770Z",
     "shell.execute_reply": "2023-03-10T04:09:52.317959Z"
    },
    "papermill": {
     "duration": 0.019667,
     "end_time": "2023-03-10T04:09:52.320948",
     "exception": false,
     "start_time": "2023-03-10T04:09:52.301281",
     "status": "completed"
    },
    "tags": []
   },
   "outputs": [],
   "source": [
    "def export_markdown_summary(md: str, md_fname:str, directory: str):\n",
    "    \"\"\"Export MD document and associated relevant images\"\"\"\n",
    "    import os\n",
    "    import shutil\n",
    "    import re\n",
    "\n",
    "    if (os.path.exists(directory) and not os.path.isdir(directory)):\n",
    "        raise RuntimeError(f\"a non-directory file exists with name {directory:s}\")\n",
    "\n",
    "    if (not os.path.exists(directory)):\n",
    "        print(f\"creating directory {directory:s}\")\n",
    "        os.mkdir(directory)\n",
    "\n",
    "    fig_fnames = (re.compile(r'\\[Fig.*\\]\\((.*)\\)').findall(md) + \n",
    "                  re.compile(r'\\<img src=\"([^>\\s]*)\"[^>]*/>').findall(md))\n",
    "    for fname in fig_fnames:\n",
    "        if 'http' in fname:\n",
    "            # No need to copy online figures\n",
    "            continue\n",
    "        destdir = os.path.join(directory, os.path.dirname(fname))\n",
    "        destfname = os.path.join(destdir, os.path.basename(fname))\n",
    "        try:\n",
    "            os.makedirs(destdir)\n",
    "        except FileExistsError:\n",
    "            pass\n",
    "        shutil.copy(fname, destfname)\n",
    "    with open(os.path.join(directory, md_fname), 'w') as fout:\n",
    "        fout.write(md)\n",
    "    print(\"exported in \", os.path.join(directory, md_fname))\n",
    "    [print(\"    + \" + os.path.join(directory,fk)) for fk in fig_fnames]"
   ]
  },
  {
   "cell_type": "code",
   "execution_count": 8,
   "id": "014d04a4",
   "metadata": {
    "execution": {
     "iopub.execute_input": "2023-03-10T04:09:52.335857Z",
     "iopub.status.busy": "2023-03-10T04:09:52.334967Z",
     "iopub.status.idle": "2023-03-10T04:09:52.339796Z",
     "shell.execute_reply": "2023-03-10T04:09:52.338999Z"
    },
    "papermill": {
     "duration": 0.014038,
     "end_time": "2023-03-10T04:09:52.341718",
     "exception": false,
     "start_time": "2023-03-10T04:09:52.327680",
     "status": "completed"
    },
    "tags": []
   },
   "outputs": [],
   "source": [
    "for paper_id, md in documents:\n",
    "    export_markdown_summary(md, f\"{paper_id:s}.md\", '_build/html/')"
   ]
  },
  {
   "cell_type": "markdown",
   "id": "f087a0a7",
   "metadata": {
    "papermill": {
     "duration": 0.006525,
     "end_time": "2023-03-10T04:09:52.355304",
     "exception": false,
     "start_time": "2023-03-10T04:09:52.348779",
     "status": "completed"
    },
    "tags": []
   },
   "source": [
    "## Display the papers\n",
    "\n",
    "Not necessary but allows for a quick check."
   ]
  },
  {
   "cell_type": "code",
   "execution_count": 9,
   "id": "fd25f625",
   "metadata": {
    "execution": {
     "iopub.execute_input": "2023-03-10T04:09:52.370290Z",
     "iopub.status.busy": "2023-03-10T04:09:52.369794Z",
     "iopub.status.idle": "2023-03-10T04:09:52.374630Z",
     "shell.execute_reply": "2023-03-10T04:09:52.373466Z"
    },
    "papermill": {
     "duration": 0.014569,
     "end_time": "2023-03-10T04:09:52.376490",
     "exception": false,
     "start_time": "2023-03-10T04:09:52.361921",
     "status": "completed"
    },
    "scrolled": false,
    "tags": []
   },
   "outputs": [],
   "source": [
    "[display(Markdown(k[1])) for k in documents];"
   ]
  },
  {
   "cell_type": "markdown",
   "id": "873873a4",
   "metadata": {
    "papermill": {
     "duration": 0.006268,
     "end_time": "2023-03-10T04:09:52.388957",
     "exception": false,
     "start_time": "2023-03-10T04:09:52.382689",
     "status": "completed"
    },
    "tags": []
   },
   "source": [
    "# Create HTML index"
   ]
  },
  {
   "cell_type": "code",
   "execution_count": 10,
   "id": "cf665672",
   "metadata": {
    "execution": {
     "iopub.execute_input": "2023-03-10T04:09:52.403926Z",
     "iopub.status.busy": "2023-03-10T04:09:52.403300Z",
     "iopub.status.idle": "2023-03-10T04:09:52.420838Z",
     "shell.execute_reply": "2023-03-10T04:09:52.419867Z"
    },
    "papermill": {
     "duration": 0.027867,
     "end_time": "2023-03-10T04:09:52.423121",
     "exception": false,
     "start_time": "2023-03-10T04:09:52.395254",
     "status": "completed"
    },
    "tags": []
   },
   "outputs": [
    {
     "name": "stdout",
     "output_type": "stream",
     "text": [
      "194  publications in the last 7 days.\n",
      "\t _build/html/2303.04727.md\n",
      "\t _build/html/2303.04067.md\n",
      "\t _build/html/2303.03420.md\n",
      "\t _build/html/2303.02816.md\n",
      "\t _build/html/2303.01528.md\n",
      "\t _build/html/2303.00044.md\n",
      "\t _build/html/2303.00012.md\n",
      "\t _build/html/2302.14137.md\n",
      "\t _build/html/2302.12805.md\n",
      "\t _build/html/2302.10943.md\n",
      "\t _build/html/2302.10528.md\n",
      "\t _build/html/2302.10008.md\n",
      "\t _build/html/2302.08962.md\n",
      "\t _build/html/2302.08628.md\n",
      "\t _build/html/2302.07916.md\n",
      "\t _build/html/2302.07880.md\n",
      "\t _build/html/2302.07497.md\n",
      "\t _build/html/2302.07277.md\n",
      "\t _build/html/2302.07256.md\n",
      "\t _build/html/2302.07234.md\n",
      "\t _build/html/2302.07057.md\n",
      "\t _build/html/2302.05694.md\n",
      "\t _build/html/2302.05465.md\n",
      "\t _build/html/2302.04507.md\n",
      "\t _build/html/2302.04239.md\n",
      "\t _build/html/2302.04138.md\n",
      "\t _build/html/2302.03699.md\n",
      "\t _build/html/2302.03576.md\n",
      "\t _build/html/2302.03042.md\n",
      "\t _build/html/2302.02611.md\n",
      "\t _build/html/2302.02429.md\n",
      "\t _build/html/2302.01678.md\n",
      "\t _build/html/2302.00450.md\n",
      "\t _build/html/2301.13766.md\n",
      "\t _build/html/2301.13526.md\n",
      "\t _build/html/2301.12890.md\n",
      "\t _build/html/2301.11942.md\n",
      "\t _build/html/2301.10717.md\n",
      "\t _build/html/2301.10666.md\n",
      "\t _build/html/2301.09621.md\n",
      "\t _build/html/2301.09140.md\n",
      "\t _build/html/2301.08770.md\n",
      "\t _build/html/2301.08310.md\n",
      "\t _build/html/2301.07990.md\n",
      "\t _build/html/2301.07199.md\n",
      "\t _build/html/2301.07116.md\n",
      "\t _build/html/2301.06873.md\n",
      "\t _build/html/2301.06819.md\n",
      "\t _build/html/2301.06575.md\n",
      "\t _build/html/2301.05720.md\n",
      "\t _build/html/2301.05718.md\n",
      "\t _build/html/2301.05034.md\n",
      "\t _build/html/2301.04656.md\n",
      "\t _build/html/2301.04533.md\n",
      "\t _build/html/2301.04442.md\n",
      "\t _build/html/2301.03811.md\n",
      "\t _build/html/2301.03689.md\n",
      "\t _build/html/2301.03209.md\n",
      "\t _build/html/2301.02671.md\n",
      "\t _build/html/2301.02477.md\n",
      "\t _build/html/2301.02313.md\n",
      "\t _build/html/2301.01937.md\n",
      "\t _build/html/2301.01895.md\n",
      "\t _build/html/2301.01684.md\n",
      "\t _build/html/2301.01306.md\n",
      "\t _build/html/2301.00881.md\n",
      "\t _build/html/2301.00854.md\n",
      "\t _build/html/2301.00578.md\n",
      "\t _build/html/2212.12039.md\n",
      "\t _build/html/2212.11425.md\n",
      "\t _build/html/2212.11177.md\n",
      "\t _build/html/2212.10512.md\n",
      "\t _build/html/2212.09766.md\n",
      "\t _build/html/2212.09675.md\n",
      "\t _build/html/2212.09661.md\n",
      "\t _build/html/2212.09652.md\n",
      "\t _build/html/2212.09168.md\n",
      "\t _build/html/2212.09159.md\n",
      "\t _build/html/2212.08702.md\n",
      "\t _build/html/2212.06434.md\n",
      "\t _build/html/2212.04710.md\n",
      "\t _build/html/2212.04026.md\n",
      "\t _build/html/2212.03563.md\n",
      "\t _build/html/2212.03514.md\n",
      "\t _build/html/2212.02667.md\n",
      "\t _build/html/2212.02627.md\n",
      "\t _build/html/2212.02235.md\n",
      "\t _build/html/2212.01707.md\n",
      "\t _build/html/2212.01526.md\n",
      "\t _build/html/2212.01397.md\n",
      "\t _build/html/2212.01291.md\n",
      "\t _build/html/2212.01281.md\n",
      "\t _build/html/2212.00812.md\n",
      "\t _build/html/2212.00811.md\n",
      "\t _build/html/2212.00806.md\n",
      "\t _build/html/2212.00032.md\n",
      "\t _build/html/2211.16510.md\n",
      "\t _build/html/2211.16123.md\n",
      "\t _build/html/2211.15816.md\n",
      "\t _build/html/2211.15698.md\n",
      "\t _build/html/2211.15576.md\n",
      "\t _build/html/2211.15434.md\n",
      "\t _build/html/2211.15288.md\n",
      "\t _build/html/2211.15224.md\n",
      "\t _build/html/2211.14543.md\n",
      "\t _build/html/2211.14330.md\n",
      "\t _build/html/2211.14322.md\n",
      "\t _build/html/2211.14132.md\n",
      "\t _build/html/2211.13811.md\n",
      "\t _build/html/2211.13426.md\n",
      "\t _build/html/2211.13146.md\n",
      "\t _build/html/2211.12613.md\n",
      "\t _build/html/2211.11767.md\n",
      "\t _build/html/2211.09840.md\n",
      "\t _build/html/2211.08493.md\n",
      "\t _build/html/2211.08487.md\n",
      "\t _build/html/2211.08294.md\n",
      "\t _build/html/2211.07667.md\n",
      "\t _build/html/2211.07659.md\n",
      "\t _build/html/2211.06205.md\n",
      "\t _build/html/2211.06194.md\n",
      "\t _build/html/2211.05022.md\n",
      "\t _build/html/2211.04048.md\n",
      "\t _build/html/2211.03641.md\n",
      "\t _build/html/2211.02502.md\n",
      "\t _build/html/2211.01474.md\n",
      "\t _build/html/2211.00657.md\n",
      "\t _build/html/2211.00087.md\n",
      "\t _build/html/2211.00036.md\n",
      "\t _build/html/2211.00020.md\n",
      "\t _build/html/2211.00010.md\n",
      "\t _build/html/2210.17434.md\n",
      "\t _build/html/2210.12412.md\n",
      "\t _build/html/2210.11926.md\n",
      "\t _build/html/2210.11551.md\n",
      "\t _build/html/2210.10707.md\n",
      "\t _build/html/2210.09930.md\n",
      "\t _build/html/2210.08996.md\n",
      "\t _build/html/2210.08517.md\n",
      "\t _build/html/2210.08510.md\n",
      "\t _build/html/2210.06504.md\n",
      "\t _build/html/2210.05695.md\n",
      "\t _build/html/2210.05595.md\n",
      "\t _build/html/2210.05505.md\n",
      "\t _build/html/2210.04721.md\n",
      "\t _build/html/2210.03615.md\n",
      "\t _build/html/2210.01811.md\n",
      "\t _build/html/2210.01809.md\n",
      "\t _build/html/2210.01556.md\n",
      "\t _build/html/2210.00560.md\n",
      "\t _build/html/2209.15403.md\n",
      "\t _build/html/2209.15110.md\n",
      "\t _build/html/2209.14410.md\n",
      "\t _build/html/2209.14396.md\n",
      "\t _build/html/2209.13717.md\n",
      "\t _build/html/2209.13336.md\n",
      "\t _build/html/2209.12906.md\n",
      "\t _build/html/2209.11602.md\n",
      "\t _build/html/2209.11248.md\n",
      "\t _build/html/2209.10618.md\n",
      "\t _build/html/2209.09914.md\n",
      "\t _build/html/2209.08242.md\n",
      "\t _build/html/2209.08120.md\n",
      "\t _build/html/2209.08106.md\n",
      "\t _build/html/2209.07962.md\n",
      "\t _build/html/2209.07931.md\n",
      "\t _build/html/2209.06833.md\n",
      "\t _build/html/2209.05814.md\n",
      "\t _build/html/2209.05593.md\n",
      "\t _build/html/2209.04304.md\n",
      "\t _build/html/2209.03367.md\n",
      "\t _build/html/2209.02872.md\n",
      "\t _build/html/2209.02725.md\n",
      "\t _build/html/2209.02722.md\n",
      "\t _build/html/2209.02092.md\n",
      "\t _build/html/2209.01125.md\n",
      "\t _build/html/2209.00828.md\n",
      "\t _build/html/2209.00363.md\n",
      "\t _build/html/2208.14927.md\n",
      "\t _build/html/2208.09335.md\n",
      "\t _build/html/2208.08872.md\n",
      "\t _build/html/2204.06393.md\n",
      "\t _build/html/2204.03335.md\n",
      "\t _build/html/2204.03253.md\n",
      "\t _build/html/2204.02017.md\n",
      "\t _build/html/2204.01824.md\n",
      "\t _build/html/2204.01245.md\n",
      "\t _build/html/2204.00793.md\n",
      "\t _build/html/2204.00342.md\n",
      "\t _build/html/2203.16959.md\n",
      "\t _build/html/2203.16734.md\n",
      "\t _build/html/2203.16504.md\n",
      "\t _build/html/2203.15822.md\n",
      "\t _build/html/2203.15811.md\n"
     ]
    }
   ],
   "source": [
    "from datetime import datetime, timedelta, timezone\n",
    "from glob import glob\n",
    "\n",
    "files = glob('_build/html/*.md')\n",
    "days = 7\n",
    "now = datetime.today()\n",
    "res = []\n",
    "for fk in files:\n",
    "    stat_result = os.stat(fk).st_ctime\n",
    "    modified = datetime.fromtimestamp(stat_result, tz=timezone.utc).replace(tzinfo=None)\n",
    "    delta = now.today() - modified\n",
    "    if delta <= timedelta(days=days):\n",
    "        res.append((delta.seconds, fk))\n",
    "res = [k[1] for k in reversed(sorted(res, key=lambda x:x[1]))]\n",
    "npub = len(res)\n",
    "print(len(res), f\" publications in the last {days:d} days.\")\n",
    "[ print('\\t', k) for k in res ];"
   ]
  },
  {
   "cell_type": "code",
   "execution_count": 11,
   "id": "015de740",
   "metadata": {
    "execution": {
     "iopub.execute_input": "2023-03-10T04:09:52.439188Z",
     "iopub.status.busy": "2023-03-10T04:09:52.438444Z",
     "iopub.status.idle": "2023-03-10T04:09:52.467448Z",
     "shell.execute_reply": "2023-03-10T04:09:52.466595Z"
    },
    "papermill": {
     "duration": 0.039428,
     "end_time": "2023-03-10T04:09:52.469518",
     "exception": false,
     "start_time": "2023-03-10T04:09:52.430090",
     "status": "completed"
    },
    "tags": []
   },
   "outputs": [
    {
     "name": "stdout",
     "output_type": "stream",
     "text": [
      "3  publications in the last 7 days.\n"
     ]
    }
   ],
   "source": [
    "import datetime\n",
    "from glob import glob\n",
    "\n",
    "def get_last_n_days(lst, days=1):\n",
    "    \"\"\" Get the documents from the last n days \"\"\"\n",
    "    sorted_lst = sorted(lst, key=lambda x: x[1], reverse=True)\n",
    "    for fname, date in sorted_lst:\n",
    "        if date >= str(datetime.date.today() - datetime.timedelta(days=days)):\n",
    "            yield fname\n",
    "\n",
    "def extract_appearance_dates(lst_file):\n",
    "    dates = []\n",
    "\n",
    "    def get_date(line):\n",
    "        return line\\\n",
    "            .split('Appeared on:')[-1]\\\n",
    "            .split('</mark>')[0].strip()\n",
    "\n",
    "    for fname in lst:\n",
    "        with open(fname, 'r') as f:\n",
    "            found_date = False\n",
    "            for line in f:\n",
    "                if not found_date:\n",
    "                    if \"Appeared on\" in line:\n",
    "                        found_date = True\n",
    "                        dates.append((fname, get_date(line)))\n",
    "                else:\n",
    "                    break\n",
    "    return dates\n",
    "\n",
    "from glob import glob\n",
    "lst = glob('_build/html/*md')\n",
    "days = 7\n",
    "dates = extract_appearance_dates(lst)\n",
    "res = list(get_last_n_days(dates, days))\n",
    "npub = len(res)\n",
    "print(len(res), f\" publications in the last {days:d} days.\")"
   ]
  },
  {
   "cell_type": "code",
   "execution_count": 12,
   "id": "52ca0208",
   "metadata": {
    "execution": {
     "iopub.execute_input": "2023-03-10T04:09:52.487872Z",
     "iopub.status.busy": "2023-03-10T04:09:52.487188Z",
     "iopub.status.idle": "2023-03-10T04:09:52.493218Z",
     "shell.execute_reply": "2023-03-10T04:09:52.492362Z"
    },
    "papermill": {
     "duration": 0.017685,
     "end_time": "2023-03-10T04:09:52.495612",
     "exception": false,
     "start_time": "2023-03-10T04:09:52.477927",
     "status": "completed"
    },
    "scrolled": false,
    "tags": []
   },
   "outputs": [],
   "source": [
    "def create_carousel(npub=4):\n",
    "    \"\"\" Generate the HTML code for a carousel with `npub` slides \"\"\"\n",
    "    carousel = [\"\"\"  <div class=\"carousel\" \"\"\",\n",
    "                \"\"\"       data-flickity='{ \"autoPlay\": 10000, \"adaptiveHeight\": true, \"resize\": true, \"wrapAround\": true, \"pauseAutoPlayOnHover\": true, \"groupCells\": 1 }' id=\"asyncTypeset\">\"\"\"\n",
    "                ]\n",
    "    \n",
    "    item_str = \"\"\"    <div class=\"carousel-cell\"> <div id=\"slide{k}\" class=\"md_view\">Content {k}</div> </div>\"\"\"\n",
    "    for k in range(1, npub + 1):\n",
    "        carousel.append(item_str.format(k=k))\n",
    "    carousel.append(\"  </div>\")\n",
    "    return '\\n'.join(carousel)"
   ]
  },
  {
   "cell_type": "code",
   "execution_count": 13,
   "id": "a6eac5b6",
   "metadata": {
    "execution": {
     "iopub.execute_input": "2023-03-10T04:09:52.512165Z",
     "iopub.status.busy": "2023-03-10T04:09:52.511270Z",
     "iopub.status.idle": "2023-03-10T04:09:52.518549Z",
     "shell.execute_reply": "2023-03-10T04:09:52.517561Z"
    },
    "papermill": {
     "duration": 0.017701,
     "end_time": "2023-03-10T04:09:52.520680",
     "exception": false,
     "start_time": "2023-03-10T04:09:52.502979",
     "status": "completed"
    },
    "scrolled": false,
    "tags": []
   },
   "outputs": [],
   "source": [
    "carousel = create_carousel(npub)\n",
    "docs = ', '.join(['\"{0:s}\"'.format(k.split('/')[-1]) for k in res])\n",
    "slides = ', '.join([f'\"slide{k}\"' for k in range(1, npub + 1)])\n",
    "\n",
    "with open(\"daily_template.html\", \"r\") as tpl:\n",
    "    page = tpl.read()\n",
    "    page = page.replace(\"{%-- carousel:s --%}\", carousel)\\\n",
    "               .replace(\"{%-- suptitle:s --%}\",  \"7-day archives\" )\\\n",
    "               .replace(\"{%-- docs:s --%}\", docs)\\\n",
    "               .replace(\"{%-- slides:s --%}\", slides)\n",
    "    \n",
    "with open(\"_build/html/index_7days.html\", 'w') as fout:\n",
    "    fout.write(page)"
   ]
  },
  {
   "cell_type": "code",
   "execution_count": 14,
   "id": "adc1a1ec",
   "metadata": {
    "execution": {
     "iopub.execute_input": "2023-03-10T04:09:52.537240Z",
     "iopub.status.busy": "2023-03-10T04:09:52.536582Z",
     "iopub.status.idle": "2023-03-10T04:09:52.546621Z",
     "shell.execute_reply": "2023-03-10T04:09:52.545690Z"
    },
    "papermill": {
     "duration": 0.020327,
     "end_time": "2023-03-10T04:09:52.548505",
     "exception": false,
     "start_time": "2023-03-10T04:09:52.528178",
     "status": "completed"
    },
    "tags": []
   },
   "outputs": [
    {
     "name": "stdout",
     "output_type": "stream",
     "text": [
      "1  publications in the last day.\n",
      "  <div class=\"carousel\" \n",
      "       data-flickity='{ \"autoPlay\": 10000, \"adaptiveHeight\": true, \"resize\": true, \"wrapAround\": true, \"pauseAutoPlayOnHover\": true, \"groupCells\": 1 }' id=\"asyncTypeset\">\n",
      "    <div class=\"carousel-cell\"> <div id=\"slide1\" class=\"md_view\">Content 1</div> </div>\n",
      "  </div> \"2303.04727.md\" \"slide1\"\n",
      "<!DOCTYPE html>\n",
      "<html lang=\"en\">\n",
      "\n",
      "<head>\n",
      "    <meta charset=\"utf-8\">\n",
      "    <meta name=\"viewport\" content=\"width=device-width, initial-scale=1.0\" />\n",
      "    <!-- Remove caching as much as possible -->\n",
      "    <meta http-equiv=\"cache-control\" content=\"no-cache\" />\n",
      "    <meta http-equiv=\"Pragma\" content=\"no-cache\" />\n",
      "    <meta http-equiv=\"Expires\" content=\"-1\" />\n",
      "    <!-- flickity bootstrap CSS -->\n",
      "    <link rel=\"stylesheet\" href=\"https://unpkg.com/flickity@2/dist/flickity.min.css\">\n",
      "    <!-- Bootstrap CSS -->\n",
      "    <link href=\"https://cdn.jsdelivr.net/npm/bootstrap@5.0.2/dist/css/bootstrap.min.css\" rel=\"stylesheet\"\n",
      "        integrity=\"sha384-EVSTQN3/azprG1Anm3QDgpJLIm9Nao0Yz1ztcQTwFspd3yD65VohhpuuCOmLASjC\" crossorigin=\"anonymous\">\n",
      "    <!-- highlight.js CSS -->\n",
      "    <link rel=\"stylesheet\" href=\"https://cdnjs.cloudflare.com/ajax/libs/highlight.js/11.1.0/styles/default.min.css\">\n",
      "    <!-- flickity local CSS -->\n",
      "    <link rel=\"stylesheet\" href=\"flickity.css\">\n",
      "    <!-- markdown local CSS -->\n",
      "    <link rel=\"stylesheet\" href=\"markdown.css\">\n",
      "\n",
      "    <link rel=\"icon\" type=\"image/x-icon\"\n",
      "        href=\"https://www.mpia.de/assets/touch-icon-32x32-a66937bcebc4e8894ebff1f41a366c7c7220fd97a38869ee0f2db65a9f59b6c1.png\">\n",
      "    <title>MPIA Arxiv on deck!</title>\n",
      "</head>\n",
      "\n",
      "<body>\n",
      "    <div id=\"header\"> <img src=\"header_banner.png\" width=\"100%\"></div>\n",
      "    <div id=\"suptitle\"> Daily </div>\n",
      "    <div id=\"info\">\n",
      "        <img src=\"https://pngimg.com/uploads/github/github_PNG58.png\" height=30rem></img>\n",
      "        <a href=https://github.com/mpi-astronomy/arxiv_display style=\"color:black;\">github/mpi-astronomy/arxiv_display</a>\n",
      "    </div>\n",
      "\n",
      "    <!-- Flickity HTML init -->\n",
      "      <div class=\"carousel\" \n",
      "       data-flickity='{ \"autoPlay\": 10000, \"adaptiveHeight\": true, \"resize\": true, \"wrapAround\": true, \"pauseAutoPlayOnHover\": true, \"groupCells\": 1 }' id=\"asyncTypeset\">\n",
      "    <div class=\"carousel-cell\"> <div id=\"slide1\" class=\"md_view\">Content 1</div> </div>\n",
      "  </div>\n",
      "\n",
      "</body>\n",
      "\n",
      "<script src=\"//cdnjs.cloudflare.com/ajax/libs/jquery/2.1.3/jquery.min.js\"></script>\n",
      "<script src=\"https://unpkg.com/flickity@2/dist/flickity.pkgd.min.js\"></script>\n",
      "<script src=\"https://cdnjs.cloudflare.com/ajax/libs/highlight.js/11.5.0/highlight.min.js\"></script>\n",
      "<!-- marked.js -->\n",
      "<script src=\"https://cdn.jsdelivr.net/npm/marked/marked.min.js\"></script>\n",
      "<!-- MD content -->\n",
      "<script>\n",
      "    const docs = [\"2303.04727.md\"];\n",
      "    const slides = [\"slide1\"];\n",
      "\n",
      "    async function run() {\n",
      "        for (let i = 0; i < docs.length; i++) {\n",
      "            let file = await fetch(docs[i]);\n",
      "            let text = await file.text()\n",
      "            document.getElementById(slides[i]).innerHTML =\n",
      "                marked.parse(text);\n",
      "        }\n",
      "        hljs.highlightAll();\n",
      "    }\n",
      "    run()\n",
      "</script>\n",
      "<!-- Mathjax 3 -->\n",
      "<script type=\"text/javascript\" id=\"MathJax-config\" src=\"mathjax_config.js\"> </script>\n",
      "<script type=\"text/javascript\" id=\"MathJax-script\" async src=\"https://cdn.jsdelivr.net/npm/mathjax@3/es5/tex-svg.js\"></script>\n",
      "<!-- Mathjax 3 async promise refresh for dynamic text -->\n",
      "<script>\n",
      "    const asyncTypeset = document.querySelector('#asyncTypeset')\n",
      "    setTimeout(async function () {\n",
      "        await MathJax.typesetPromise().catch((err) => console.log('Typeset failed: ' + err.message));\n",
      "        console.log('refreshed MathJax typeset');\n",
      "    }, 3000)\n",
      "</script>\n",
      "\n",
      "</html>\n"
     ]
    }
   ],
   "source": [
    "# redo for today\n",
    "days = 1\n",
    "res = list(get_last_n_days(dates, days))\n",
    "npub = len(res)\n",
    "print(len(res), f\" publications in the last day.\")\n",
    "\n",
    "carousel = create_carousel(npub)\n",
    "docs = ', '.join(['\"{0:s}\"'.format(k.split('/')[-1]) for k in res])\n",
    "slides = ', '.join([f'\"slide{k}\"' for k in range(1, npub + 1)])\n",
    "\n",
    "with open(\"daily_template.html\", \"r\") as tpl:\n",
    "    page = tpl.read()\n",
    "    page = page.replace(\"{%-- carousel:s --%}\", carousel)\\\n",
    "               .replace(\"{%-- suptitle:s --%}\",  \"Daily\" )\\\n",
    "               .replace(\"{%-- docs:s --%}\", docs)\\\n",
    "               .replace(\"{%-- slides:s --%}\", slides)\n",
    "    \n",
    "print(carousel, docs, slides)\n",
    "print(page)\n",
    "with open(\"_build/html/index_daily.html\", 'w') as fout:\n",
    "    fout.write(page)"
   ]
  }
 ],
 "metadata": {
  "kernelspec": {
   "display_name": "Python 3 (ipykernel)",
   "language": "python",
   "name": "python3"
  },
  "language_info": {
   "codemirror_mode": {
    "name": "ipython",
    "version": 3
   },
   "file_extension": ".py",
   "mimetype": "text/x-python",
   "name": "python",
   "nbconvert_exporter": "python",
   "pygments_lexer": "ipython3",
   "version": "3.9.16"
  },
  "papermill": {
   "default_parameters": {},
   "duration": 55.527985,
   "end_time": "2023-03-10T04:09:52.774279",
   "environment_variables": {},
   "exception": null,
   "input_path": "MPIA daily digest.ipynb",
   "output_path": "log.ipynb",
   "parameters": {},
   "start_time": "2023-03-10T04:08:57.246294",
   "version": "2.4.0"
  },
  "vscode": {
   "interpreter": {
    "hash": "aee8b7b246df8f9039afb4144a1f6fd8d2ca17a180786b69acc140d282b71a49"
   }
  },
  "widgets": {
   "application/vnd.jupyter.widget-state+json": {
    "state": {
     "02fb8fceab634e81b2e26d7627187fd0": {
      "model_module": "@jupyter-widgets/base",
      "model_module_version": "2.0.0",
      "model_name": "LayoutModel",
      "state": {
       "_model_module": "@jupyter-widgets/base",
       "_model_module_version": "2.0.0",
       "_model_name": "LayoutModel",
       "_view_count": null,
       "_view_module": "@jupyter-widgets/base",
       "_view_module_version": "2.0.0",
       "_view_name": "LayoutView",
       "align_content": null,
       "align_items": null,
       "align_self": null,
       "border_bottom": null,
       "border_left": null,
       "border_right": null,
       "border_top": null,
       "bottom": null,
       "display": null,
       "flex": null,
       "flex_flow": null,
       "grid_area": null,
       "grid_auto_columns": null,
       "grid_auto_flow": null,
       "grid_auto_rows": null,
       "grid_column": null,
       "grid_gap": null,
       "grid_row": null,
       "grid_template_areas": null,
       "grid_template_columns": null,
       "grid_template_rows": null,
       "height": null,
       "justify_content": null,
       "justify_items": null,
       "left": null,
       "margin": null,
       "max_height": null,
       "max_width": null,
       "min_height": null,
       "min_width": null,
       "object_fit": null,
       "object_position": null,
       "order": null,
       "overflow": null,
       "padding": null,
       "right": null,
       "top": null,
       "visibility": null,
       "width": null
      }
     },
     "17d4897827094df88abc89b124e0600e": {
      "model_module": "@jupyter-widgets/controls",
      "model_module_version": "2.0.0",
      "model_name": "HTMLModel",
      "state": {
       "_dom_classes": [],
       "_model_module": "@jupyter-widgets/controls",
       "_model_module_version": "2.0.0",
       "_model_name": "HTMLModel",
       "_view_count": null,
       "_view_module": "@jupyter-widgets/controls",
       "_view_module_version": "2.0.0",
       "_view_name": "HTMLView",
       "description": "",
       "description_allow_html": false,
       "layout": "IPY_MODEL_dcec0681d3d2445ea8821a9efec7bd6e",
       "placeholder": "​",
       "style": "IPY_MODEL_eda9eb4644a74255a5c685e928acc104",
       "tabbable": null,
       "tooltip": null,
       "value": "100%"
      }
     },
     "2f923c21f02c4ebf8e0d41696faaed53": {
      "model_module": "@jupyter-widgets/base",
      "model_module_version": "2.0.0",
      "model_name": "LayoutModel",
      "state": {
       "_model_module": "@jupyter-widgets/base",
       "_model_module_version": "2.0.0",
       "_model_name": "LayoutModel",
       "_view_count": null,
       "_view_module": "@jupyter-widgets/base",
       "_view_module_version": "2.0.0",
       "_view_name": "LayoutView",
       "align_content": null,
       "align_items": null,
       "align_self": null,
       "border_bottom": null,
       "border_left": null,
       "border_right": null,
       "border_top": null,
       "bottom": null,
       "display": null,
       "flex": null,
       "flex_flow": null,
       "grid_area": null,
       "grid_auto_columns": null,
       "grid_auto_flow": null,
       "grid_auto_rows": null,
       "grid_column": null,
       "grid_gap": null,
       "grid_row": null,
       "grid_template_areas": null,
       "grid_template_columns": null,
       "grid_template_rows": null,
       "height": null,
       "justify_content": null,
       "justify_items": null,
       "left": null,
       "margin": null,
       "max_height": null,
       "max_width": null,
       "min_height": null,
       "min_width": null,
       "object_fit": null,
       "object_position": null,
       "order": null,
       "overflow": null,
       "padding": null,
       "right": null,
       "top": null,
       "visibility": null,
       "width": null
      }
     },
     "4a3745e5d3a442a9b0b4410802475862": {
      "model_module": "@jupyter-widgets/controls",
      "model_module_version": "2.0.0",
      "model_name": "ProgressStyleModel",
      "state": {
       "_model_module": "@jupyter-widgets/controls",
       "_model_module_version": "2.0.0",
       "_model_name": "ProgressStyleModel",
       "_view_count": null,
       "_view_module": "@jupyter-widgets/base",
       "_view_module_version": "2.0.0",
       "_view_name": "StyleView",
       "bar_color": null,
       "description_width": ""
      }
     },
     "7f8caa03f84944709e1bbb8dcf40bb1d": {
      "model_module": "@jupyter-widgets/controls",
      "model_module_version": "2.0.0",
      "model_name": "HTMLStyleModel",
      "state": {
       "_model_module": "@jupyter-widgets/controls",
       "_model_module_version": "2.0.0",
       "_model_name": "HTMLStyleModel",
       "_view_count": null,
       "_view_module": "@jupyter-widgets/base",
       "_view_module_version": "2.0.0",
       "_view_name": "StyleView",
       "background": null,
       "description_width": "",
       "font_size": null,
       "text_color": null
      }
     },
     "ad8844be8d704d048a5c3f13fb7e79e0": {
      "model_module": "@jupyter-widgets/base",
      "model_module_version": "2.0.0",
      "model_name": "LayoutModel",
      "state": {
       "_model_module": "@jupyter-widgets/base",
       "_model_module_version": "2.0.0",
       "_model_name": "LayoutModel",
       "_view_count": null,
       "_view_module": "@jupyter-widgets/base",
       "_view_module_version": "2.0.0",
       "_view_name": "LayoutView",
       "align_content": null,
       "align_items": null,
       "align_self": null,
       "border_bottom": null,
       "border_left": null,
       "border_right": null,
       "border_top": null,
       "bottom": null,
       "display": null,
       "flex": null,
       "flex_flow": null,
       "grid_area": null,
       "grid_auto_columns": null,
       "grid_auto_flow": null,
       "grid_auto_rows": null,
       "grid_column": null,
       "grid_gap": null,
       "grid_row": null,
       "grid_template_areas": null,
       "grid_template_columns": null,
       "grid_template_rows": null,
       "height": null,
       "justify_content": null,
       "justify_items": null,
       "left": null,
       "margin": null,
       "max_height": null,
       "max_width": null,
       "min_height": null,
       "min_width": null,
       "object_fit": null,
       "object_position": null,
       "order": null,
       "overflow": null,
       "padding": null,
       "right": null,
       "top": null,
       "visibility": null,
       "width": null
      }
     },
     "be482a06022d4afc8d7ad1ca4518ff87": {
      "model_module": "@jupyter-widgets/controls",
      "model_module_version": "2.0.0",
      "model_name": "HTMLModel",
      "state": {
       "_dom_classes": [],
       "_model_module": "@jupyter-widgets/controls",
       "_model_module_version": "2.0.0",
       "_model_name": "HTMLModel",
       "_view_count": null,
       "_view_module": "@jupyter-widgets/controls",
       "_view_module_version": "2.0.0",
       "_view_name": "HTMLView",
       "description": "",
       "description_allow_html": false,
       "layout": "IPY_MODEL_ad8844be8d704d048a5c3f13fb7e79e0",
       "placeholder": "​",
       "style": "IPY_MODEL_7f8caa03f84944709e1bbb8dcf40bb1d",
       "tabbable": null,
       "tooltip": null,
       "value": " 7/7 [00:22&lt;00:00,  2.22s/it]"
      }
     },
     "dcec0681d3d2445ea8821a9efec7bd6e": {
      "model_module": "@jupyter-widgets/base",
      "model_module_version": "2.0.0",
      "model_name": "LayoutModel",
      "state": {
       "_model_module": "@jupyter-widgets/base",
       "_model_module_version": "2.0.0",
       "_model_name": "LayoutModel",
       "_view_count": null,
       "_view_module": "@jupyter-widgets/base",
       "_view_module_version": "2.0.0",
       "_view_name": "LayoutView",
       "align_content": null,
       "align_items": null,
       "align_self": null,
       "border_bottom": null,
       "border_left": null,
       "border_right": null,
       "border_top": null,
       "bottom": null,
       "display": null,
       "flex": null,
       "flex_flow": null,
       "grid_area": null,
       "grid_auto_columns": null,
       "grid_auto_flow": null,
       "grid_auto_rows": null,
       "grid_column": null,
       "grid_gap": null,
       "grid_row": null,
       "grid_template_areas": null,
       "grid_template_columns": null,
       "grid_template_rows": null,
       "height": null,
       "justify_content": null,
       "justify_items": null,
       "left": null,
       "margin": null,
       "max_height": null,
       "max_width": null,
       "min_height": null,
       "min_width": null,
       "object_fit": null,
       "object_position": null,
       "order": null,
       "overflow": null,
       "padding": null,
       "right": null,
       "top": null,
       "visibility": null,
       "width": null
      }
     },
     "ea9b605299ac4a30bca87c7d02594d92": {
      "model_module": "@jupyter-widgets/controls",
      "model_module_version": "2.0.0",
      "model_name": "FloatProgressModel",
      "state": {
       "_dom_classes": [],
       "_model_module": "@jupyter-widgets/controls",
       "_model_module_version": "2.0.0",
       "_model_name": "FloatProgressModel",
       "_view_count": null,
       "_view_module": "@jupyter-widgets/controls",
       "_view_module_version": "2.0.0",
       "_view_name": "ProgressView",
       "bar_style": "success",
       "description": "",
       "description_allow_html": false,
       "layout": "IPY_MODEL_2f923c21f02c4ebf8e0d41696faaed53",
       "max": 7.0,
       "min": 0.0,
       "orientation": "horizontal",
       "style": "IPY_MODEL_4a3745e5d3a442a9b0b4410802475862",
       "tabbable": null,
       "tooltip": null,
       "value": 7.0
      }
     },
     "eda9eb4644a74255a5c685e928acc104": {
      "model_module": "@jupyter-widgets/controls",
      "model_module_version": "2.0.0",
      "model_name": "HTMLStyleModel",
      "state": {
       "_model_module": "@jupyter-widgets/controls",
       "_model_module_version": "2.0.0",
       "_model_name": "HTMLStyleModel",
       "_view_count": null,
       "_view_module": "@jupyter-widgets/base",
       "_view_module_version": "2.0.0",
       "_view_name": "StyleView",
       "background": null,
       "description_width": "",
       "font_size": null,
       "text_color": null
      }
     },
     "fc0a6a4a9f134dceb3d2ec344800778d": {
      "model_module": "@jupyter-widgets/controls",
      "model_module_version": "2.0.0",
      "model_name": "HBoxModel",
      "state": {
       "_dom_classes": [],
       "_model_module": "@jupyter-widgets/controls",
       "_model_module_version": "2.0.0",
       "_model_name": "HBoxModel",
       "_view_count": null,
       "_view_module": "@jupyter-widgets/controls",
       "_view_module_version": "2.0.0",
       "_view_name": "HBoxView",
       "box_style": "",
       "children": [
        "IPY_MODEL_17d4897827094df88abc89b124e0600e",
        "IPY_MODEL_ea9b605299ac4a30bca87c7d02594d92",
        "IPY_MODEL_be482a06022d4afc8d7ad1ca4518ff87"
       ],
       "layout": "IPY_MODEL_02fb8fceab634e81b2e26d7627187fd0",
       "tabbable": null,
       "tooltip": null
      }
     }
    },
    "version_major": 2,
    "version_minor": 0
   }
  }
 },
 "nbformat": 4,
 "nbformat_minor": 5
}