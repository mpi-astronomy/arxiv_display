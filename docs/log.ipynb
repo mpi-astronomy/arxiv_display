{
 "cells": [
  {
   "cell_type": "markdown",
   "id": "92bcb855",
   "metadata": {
    "papermill": {
     "duration": 0.004061,
     "end_time": "2024-10-21T04:11:16.220281",
     "exception": false,
     "start_time": "2024-10-21T04:11:16.216220",
     "status": "completed"
    },
    "tags": []
   },
   "source": [
    "# MPIA Arxiv on Deck 2\n",
    "\n",
    "Contains the steps to produce the paper extractions."
   ]
  },
  {
   "cell_type": "code",
   "execution_count": 1,
   "id": "3a0d6e11",
   "metadata": {
    "execution": {
     "iopub.execute_input": "2024-10-21T04:11:16.227928Z",
     "iopub.status.busy": "2024-10-21T04:11:16.227644Z",
     "iopub.status.idle": "2024-10-21T04:11:16.730064Z",
     "shell.execute_reply": "2024-10-21T04:11:16.729392Z"
    },
    "papermill": {
     "duration": 0.507635,
     "end_time": "2024-10-21T04:11:16.731292",
     "exception": false,
     "start_time": "2024-10-21T04:11:16.223657",
     "status": "completed"
    },
    "tags": []
   },
   "outputs": [],
   "source": [
    "# Imports\n",
    "import os\n",
    "from IPython.display import Markdown, display\n",
    "from tqdm.notebook import tqdm\n",
    "import warnings\n",
    "from PIL import Image \n",
    "import re\n",
    "\n",
    "# requires arxiv_on_deck_2\n",
    "\n",
    "from arxiv_on_deck_2.arxiv2 import (get_new_papers, \n",
    "                                    get_paper_from_identifier,\n",
    "                                    retrieve_document_source, \n",
    "                                    get_markdown_badge)\n",
    "from arxiv_on_deck_2 import (latex,\n",
    "                             latex_bib,\n",
    "                             mpia,\n",
    "                             highlight_authors_in_list)\n",
    "\n",
    "# Sometimes images are really big\n",
    "Image.MAX_IMAGE_PIXELS = 1000000000 "
   ]
  },
  {
   "cell_type": "code",
   "execution_count": 2,
   "id": "22aa9d44",
   "metadata": {
    "execution": {
     "iopub.execute_input": "2024-10-21T04:11:16.738768Z",
     "iopub.status.busy": "2024-10-21T04:11:16.738176Z",
     "iopub.status.idle": "2024-10-21T04:11:16.746263Z",
     "shell.execute_reply": "2024-10-21T04:11:16.745557Z"
    },
    "papermill": {
     "duration": 0.012759,
     "end_time": "2024-10-21T04:11:16.747279",
     "exception": false,
     "start_time": "2024-10-21T04:11:16.734520",
     "status": "completed"
    },
    "tags": []
   },
   "outputs": [],
   "source": [
    "# Some useful definitions.\n",
    "\n",
    "class AffiliationWarning(UserWarning):\n",
    "    pass\n",
    "\n",
    "class AffiliationError(RuntimeError):\n",
    "    pass\n",
    "\n",
    "def validation(source: str):\n",
    "    \"\"\"Raises error paper during parsing of source file\n",
    "    \n",
    "    Allows checks before parsing TeX code.\n",
    "    \n",
    "    Raises AffiliationWarning\n",
    "    \"\"\"\n",
    "    check = mpia.affiliation_verifications(source, verbose=True)\n",
    "    if check is not True:\n",
    "        raise AffiliationError(\"mpia.affiliation_verifications: \" + check)\n",
    "\n",
    "        \n",
    "warnings.simplefilter('always', AffiliationWarning)\n",
    "\n",
    "\n",
    "def get_markdown_qrcode(paper_id: str):\n",
    "    \"\"\" Generate a qrcode to the arxiv page using qrserver.com\n",
    "    \n",
    "    :param paper: Arxiv paper\n",
    "    :returns: markdown text\n",
    "    \"\"\"\n",
    "    url = r\"https://api.qrserver.com/v1/create-qr-code/?size=100x100&data=\"\n",
    "    txt = f\"\"\"<img src={url}\"https://arxiv.org/abs/{paper_id}\">\"\"\"\n",
    "    txt = '<div id=\"qrcode\">' + txt + '</div>'\n",
    "    return txt\n",
    "\n",
    "\n",
    "def clean_non_western_encoded_characters_commands(text: str) -> str:\n",
    "    \"\"\" Remove non-western encoded characters from a string\n",
    "    List may need to grow.\n",
    "    \n",
    "    :param text: the text to clean\n",
    "    :return: the cleaned text\n",
    "    \"\"\"\n",
    "    text = re.sub(r\"(\\\\begin{CJK}{UTF8}{gbsn})(.*?)(\\\\end{CJK})\", r\"\\2\", text)\n",
    "    return text\n",
    "\n",
    "\n",
    "def get_initials(name: str) -> str:\n",
    "    \"\"\" Get the short name, e.g., A.-B. FamName\n",
    "    :param name: full name\n",
    "    :returns: initials\n",
    "    \"\"\"\n",
    "    initials = []\n",
    "    # account for non western names often in ()\n",
    "    if '(' in name:\n",
    "        name = clean_non_western_encoded_characters_commands(name)\n",
    "        suffix = re.findall(r\"\\((.*?)\\)\", name)[0]\n",
    "        name = name.replace(f\"({suffix})\", '')\n",
    "    else:\n",
    "        suffix = ''\n",
    "    split = name.split()\n",
    "    for token in split[:-1]:\n",
    "        if '-' in token:\n",
    "            current = '-'.join([k[0] + '.' for k in token.split('-')])\n",
    "        else:\n",
    "            current = token[0] + '.'\n",
    "        initials.append(current)\n",
    "    initials.append(split[-1].strip())\n",
    "    if suffix:\n",
    "        initials.append(f\"({suffix})\")\n",
    "    return ' '.join(initials)"
   ]
  },
  {
   "cell_type": "markdown",
   "id": "14bd6310",
   "metadata": {
    "papermill": {
     "duration": 0.002923,
     "end_time": "2024-10-21T04:11:16.753185",
     "exception": false,
     "start_time": "2024-10-21T04:11:16.750262",
     "status": "completed"
    },
    "tags": []
   },
   "source": [
    "## get list of arxiv paper candidates\n",
    "\n",
    "We use the MPIA mitarbeiter list webpage from mpia.de to get author names\n",
    "We then get all new papers from Arxiv and match authors"
   ]
  },
  {
   "cell_type": "code",
   "execution_count": 3,
   "id": "7ea813a8",
   "metadata": {
    "execution": {
     "iopub.execute_input": "2024-10-21T04:11:16.760178Z",
     "iopub.status.busy": "2024-10-21T04:11:16.759678Z",
     "iopub.status.idle": "2024-10-21T04:11:38.355696Z",
     "shell.execute_reply": "2024-10-21T04:11:38.355067Z"
    },
    "papermill": {
     "duration": 21.600771,
     "end_time": "2024-10-21T04:11:38.356885",
     "exception": false,
     "start_time": "2024-10-21T04:11:16.756114",
     "status": "completed"
    },
    "tags": []
   },
   "outputs": [],
   "source": [
    "# deal with the author list and edge cases of people that cannot be consistent on their name  \n",
    "\n",
    "def filter_non_scientists(name: str) -> bool:\n",
    "    \"\"\" Loose filter on expected authorships\n",
    "\n",
    "    removing IT, administration, technical staff\n",
    "    :param name: name\n",
    "    :returns: False if name is not a scientist\n",
    "    \"\"\"\n",
    "    remove_list = ['Licht', 'Binroth', 'Witzel', 'Jordan',\n",
    "                   'Zähringer', 'Scheerer', 'Hoffmann', 'Düe',\n",
    "                   'Hellmich', 'Enkler-Scharpegge', 'Witte-Nguy',\n",
    "                   'Dehen', 'Beckmann', 'Jager', 'Jäger'\n",
    "                  ]\n",
    "\n",
    "    for k in remove_list:\n",
    "        if k in name:\n",
    "            return False\n",
    "    return True\n",
    "\n",
    "def add_author_to_list(author_list: list) -> list:\n",
    "    \"\"\" Add author to list if not already in list\n",
    "    \n",
    "    :param author: author name\n",
    "    :param author_list: list of authors\n",
    "    :returns: updated list of authors\n",
    "    \"\"\"\n",
    "    add_list = ['T. Henning']\n",
    "\n",
    "    for author in add_list:\n",
    "        if author not in author_list:\n",
    "            author_list.append(author)\n",
    "    return author_list\n",
    "\n",
    "# get list from MPIA website\n",
    "# filter for non-scientists (mpia.get_mpia_mitarbeiter_list() does some filtering)\n",
    "mpia_authors = [k[1] for k in mpia.get_mpia_mitarbeiter_list() if filter_non_scientists(k[1])]\n",
    "# add some missing author because of inconsistencies in their MPIA name and author name on papers\n",
    "mpia_authors = add_author_to_list(mpia_authors)"
   ]
  },
  {
   "cell_type": "code",
   "execution_count": 4,
   "id": "2645e73a",
   "metadata": {
    "execution": {
     "iopub.execute_input": "2024-10-21T04:11:38.368508Z",
     "iopub.status.busy": "2024-10-21T04:11:38.368092Z",
     "iopub.status.idle": "2024-10-21T04:11:38.905759Z",
     "shell.execute_reply": "2024-10-21T04:11:38.905059Z"
    },
    "papermill": {
     "duration": 0.546571,
     "end_time": "2024-10-21T04:11:38.906835",
     "exception": false,
     "start_time": "2024-10-21T04:11:38.360264",
     "status": "completed"
    },
    "tags": []
   },
   "outputs": [
    {
     "name": "stdout",
     "output_type": "stream",
     "text": [
      "M. Benisty  ->  M. Benisty  |  ['M. Benisty']\n",
      "K. El-Badry  ->  K. El-Badry  |  ['K. El-Badry']\n",
      "Arxiv has 52 new papers today\n",
      "          2 with possible author matches\n"
     ]
    }
   ],
   "source": [
    "new_papers = get_new_papers()\n",
    "# add manual references\n",
    "add_paper_refs = []\n",
    "new_papers.extend([get_paper_from_identifier(k) for k in add_paper_refs])\n",
    "\n",
    "def robust_call(fn, value, *args, **kwargs):\n",
    "    try:\n",
    "        return fn(value, *args, **kwargs)\n",
    "    except Exception:\n",
    "        return value\n",
    "\n",
    "candidates = []\n",
    "for paperk in new_papers:\n",
    "    # Check author list with their initials\n",
    "    normed_author_list = [robust_call(mpia.get_initials, k) for k in paperk['authors']]\n",
    "    hl_authors = highlight_authors_in_list(normed_author_list, mpia_authors, verbose=True)\n",
    "    matches = [(hl, orig) for hl, orig in zip(hl_authors, paperk['authors']) if 'mark' in hl]\n",
    "    paperk['authors'] = hl_authors\n",
    "    if matches:\n",
    "        # only select paper if an author matched our list\n",
    "        candidates.append(paperk)\n",
    "print(\"\"\"Arxiv has {0:,d} new papers today\"\"\".format(len(new_papers)))        \n",
    "print(\"\"\"          {0:,d} with possible author matches\"\"\".format(len(candidates)))"
   ]
  },
  {
   "cell_type": "markdown",
   "id": "3543b34a",
   "metadata": {
    "papermill": {
     "duration": 0.003061,
     "end_time": "2024-10-21T04:11:38.913319",
     "exception": false,
     "start_time": "2024-10-21T04:11:38.910258",
     "status": "completed"
    },
    "tags": []
   },
   "source": [
    "# Parse sources and generate relevant outputs\n",
    "\n",
    "From the candidates, we do the following steps:\n",
    "* get their tarball from ArXiv (and extract data)\n",
    "* find the main .tex file: find one with \\documentclass{...} (sometimes it's non trivial)\n",
    "* Check affiliations with :func:`validation`, which uses :func:`mpia.affiliation_verifications`\n",
    "* If passing the affiliations: we parse the .tex source\n",
    "   * inject sub-documents into the main (flatten the main document)\n",
    "   * parse structure, extract information (title, abstract, authors, figures...)\n",
    "   * handles `\\graphicspath` if provided\n",
    "* Generate the .md document."
   ]
  },
  {
   "cell_type": "code",
   "execution_count": 5,
   "id": "9576b79e",
   "metadata": {
    "execution": {
     "iopub.execute_input": "2024-10-21T04:11:38.920796Z",
     "iopub.status.busy": "2024-10-21T04:11:38.920196Z",
     "iopub.status.idle": "2024-10-21T04:11:55.766055Z",
     "shell.execute_reply": "2024-10-21T04:11:55.765363Z"
    },
    "papermill": {
     "duration": 16.850549,
     "end_time": "2024-10-21T04:11:55.766998",
     "exception": false,
     "start_time": "2024-10-21T04:11:38.916449",
     "status": "completed"
    },
    "scrolled": false,
    "tags": []
   },
   "outputs": [
    {
     "data": {
      "application/vnd.jupyter.widget-view+json": {
       "model_id": "73aad114877f49349e40bfbc6f3fd039",
       "version_major": 2,
       "version_minor": 0
      },
      "text/plain": [
       "  0%|          | 0/2 [00:00<?, ?it/s]"
      ]
     },
     "metadata": {},
     "output_type": "display_data"
    },
    {
     "name": "stdout",
     "output_type": "stream",
     "text": [
      "Retrieving document from  https://arxiv.org/e-print/2410.13932\n"
     ]
    },
    {
     "name": "stdout",
     "output_type": "stream",
     "text": [
      "extracting tarball to tmp_2410.13932..."
     ]
    },
    {
     "name": "stdout",
     "output_type": "stream",
     "text": [
      " done.\n"
     ]
    },
    {
     "name": "stdout",
     "output_type": "stream",
     "text": [
      "Found 93 bibliographic references in tmp_2410.13932/shadows.bbl.\n",
      "Retrieving document from  https://arxiv.org/e-print/2410.13939\n"
     ]
    },
    {
     "name": "stderr",
     "output_type": "stream",
     "text": [
      "/opt/hostedtoolcache/Python/3.9.20/x64/lib/python3.9/site-packages/arxiv_on_deck_2/latex_bib.py:132: UserWarning: Error processing bibitem\n",
      " item = \\bibitem[\\protect\\citeauthoryear{{Rometsch}, {Ziampras}, {Kley}    {Béthune}}{{Rometsch} et~al.}{2021}]{rometsch-etal-2021}{Rometsch} T.,  {Ziampras} A.,  {Kley} W.,   {Béthune} W.,  2021, \\mn@doi  [\\aap] {None}, \\href {None} {None, None}\n",
      " regex = \n",
      "        \\\\bibitem(\\[[^\\[\\]]*?\\]){(?P<bibkey>[a-zA-Z0-9\\-\\+\\.\\S]+?)}(?P<authors>|([\\D]*?))(?P<year>[12][0-9]{3}).*?href(.*?{(?P<url>http[\\S]*)})(?P<rest>.*)\n",
      "        \n",
      "  warnings.warn(str(e))\n"
     ]
    },
    {
     "name": "stdout",
     "output_type": "stream",
     "text": [
      "extracting tarball to tmp_2410.13939... done.\n"
     ]
    }
   ],
   "source": [
    "documents = []\n",
    "failed = []\n",
    "for paper in tqdm(candidates):\n",
    "    # debug crap\n",
    "    paper['identifier'] = paper['identifier'].lower().replace('arxiv:', '').replace(r'\\n', '').strip()\n",
    "    paper_id = paper['identifier']\n",
    "    \n",
    "    folder = f'tmp_{paper_id}'\n",
    "\n",
    "    try:\n",
    "        if not os.path.isdir(folder):\n",
    "            folder = retrieve_document_source(f\"{paper_id}\", f'tmp_{paper_id}')\n",
    "        \n",
    "        try:\n",
    "            doc = latex.LatexDocument(folder, validation=validation)    \n",
    "        except AffiliationError as affilerror:\n",
    "            msg = f\"ArXiv:{paper_id:s} is not an MPIA paper... \" + str(affilerror)\n",
    "            failed.append((paper, \"affiliation error: \" + str(affilerror) ))\n",
    "            continue\n",
    "        \n",
    "        # Hack because sometimes author parsing does not work well\n",
    "        if (len(doc.authors) != len(paper['authors'])):\n",
    "            doc._authors = paper['authors']\n",
    "        else:\n",
    "            # highlight authors (FIXME: doc.highlight_authors)\n",
    "            # done on arxiv paper already\n",
    "            doc._authors = highlight_authors_in_list(\n",
    "                [get_initials(k) for k in doc.authors], \n",
    "                mpia_authors, verbose=True)\n",
    "        if (doc.abstract) in (None, ''):\n",
    "            doc._abstract = paper['abstract']\n",
    "            \n",
    "        doc.comment = (get_markdown_badge(paper_id) + \n",
    "                       \"<mark>Appeared on: \" + paper['date'] + \"</mark> - \")\n",
    "        if paper['comments']:\n",
    "            doc.comment += \" _\" + paper['comments'] + \"_\"\n",
    "        \n",
    "        full_md = doc.generate_markdown_text()\n",
    "        \n",
    "        full_md += get_markdown_qrcode(paper_id)\n",
    "        \n",
    "        # replace citations\n",
    "        try:\n",
    "            bibdata = latex_bib.LatexBib.from_doc(doc)\n",
    "            full_md = latex_bib.replace_citations(full_md, bibdata)\n",
    "        except Exception as e:\n",
    "            print(\"Issues with the citations\")\n",
    "            print(e)\n",
    "        \n",
    "        documents.append((paper_id, full_md))\n",
    "    except Exception as e:\n",
    "        warnings.warn(latex.LatexWarning(f\"{paper_id:s} did not run properly\\n\" +\n",
    "                                         str(e)\n",
    "                                        ))\n",
    "        failed.append((paper, \"latex error \" + str(e)))"
   ]
  },
  {
   "cell_type": "markdown",
   "id": "2505a25c",
   "metadata": {
    "papermill": {
     "duration": 0.003537,
     "end_time": "2024-10-21T04:11:55.774380",
     "exception": false,
     "start_time": "2024-10-21T04:11:55.770843",
     "status": "completed"
    },
    "tags": []
   },
   "source": [
    "### Export the logs\n",
    "\n",
    "Throughout, we also keep track of the logs per paper. see `logs-{today date}.md` "
   ]
  },
  {
   "cell_type": "code",
   "execution_count": 6,
   "id": "d733828a",
   "metadata": {
    "execution": {
     "iopub.execute_input": "2024-10-21T04:11:55.782698Z",
     "iopub.status.busy": "2024-10-21T04:11:55.782062Z",
     "iopub.status.idle": "2024-10-21T04:11:55.794764Z",
     "shell.execute_reply": "2024-10-21T04:11:55.794242Z"
    },
    "papermill": {
     "duration": 0.017901,
     "end_time": "2024-10-21T04:11:55.795737",
     "exception": false,
     "start_time": "2024-10-21T04:11:55.777836",
     "status": "completed"
    },
    "scrolled": false,
    "tags": []
   },
   "outputs": [
    {
     "data": {
      "text/markdown": [
       "## Successful papers"
      ],
      "text/plain": [
       "<IPython.core.display.Markdown object>"
      ]
     },
     "metadata": {},
     "output_type": "display_data"
    },
    {
     "data": {
      "text/markdown": [
       "\n",
       "|||\n",
       "|---:|:---|\n",
       "| [![arXiv](https://img.shields.io/badge/arXiv-2410.13932-b31b1b.svg)](https://arxiv.org/abs/2410.13932) | **Spirals, rings, and vortices shaped by shadows in protoplanetary disks: from radiative hydrodynamical simulations to observable signatures**  |\n",
       "|| A. Ziampras, et al. -- incl., <mark>M. Benisty</mark> |\n",
       "|*Appeared on*| *2024-10-21*|\n",
       "|*Comments*| *17 pages, 20 figures, 1 table; submitted to MNRAS; suggestions and comments welcome*|\n",
       "|**Abstract**|            Numerous protoplanetary disks exhibit shadows in scattered light observations. These shadows are typically cast by misaligned inner disks and are associated with observable structures in the outer disk such as bright arcs and spirals. Investigating the dynamics of the shadowed outer disk is therefore essential in understanding the formation and evolution of these structures. We carry out twodimensional radiation hydrodynamics simulations that include radiative diffusion and dust-gas dynamics to study the formation of substructure in shadowed disks. We find that spiral arms are launched at the edge of each shadow, permeating the entire disk. The local dissipation of these spirals results in an angular momentum flux, opening multiple gaps and leading to a series of concentric, regularly-spaced rings We find that ring formation is favored in weakly turbulent disks where dust growth is taking place. These conditions are met for typical class-II disks, in which bright rings should form well within a fraction of their lifetime (0.1-0.2 Myr). For hotter disks gap opening is more efficient, such that the gap edges quickly collapse into vortices that can appear as bright arcs in continuum emission before decaying into rings or merging into massive, long-lived structures. Synthetic observations show that these structures should be observable in scattered light and millimeter continuum emission, providing a new way to probe the presence of substructure in protoplanetary disks. Our results suggest that the formation of rings and gaps is a common process in shadowed disks, and can explain the rich radial substructure observed in several protoplanetary disks.         |"
      ],
      "text/plain": [
       "[2410.13932] Spirals, rings, and vortices shaped by shadows in protoplanetary disks: from radiative hydrodynamical simulations to observable signatures\n",
       "\tA. Ziampras, et al. -- incl., <mark>M. Benisty</mark>"
      ]
     },
     "metadata": {},
     "output_type": "display_data"
    },
    {
     "data": {
      "text/markdown": [
       "## Failed papers"
      ],
      "text/plain": [
       "<IPython.core.display.Markdown object>"
      ]
     },
     "metadata": {},
     "output_type": "display_data"
    },
    {
     "data": {
      "text/markdown": [
       "\n",
       "|||\n",
       "|---:|:---|\n",
       "| [![arXiv](https://img.shields.io/badge/arXiv-2410.13939-b31b1b.svg)](https://arxiv.org/abs/2410.13939) | **A search for self-lensing binaries with TESS and constraints on their occurrence rate**  |\n",
       "|| N. Yamaguchi, <mark>K. El-Badry</mark> |\n",
       "|*Appeared on*| *2024-10-21*|\n",
       "|*Comments*| *24 pages, 17 figures, submitted to PASP*|\n",
       "|**Abstract**|            Five self-lensing binaries (SLBs) have been discovered with Kepler light curves. They contain white dwarfs (WDs) in AU-scale orbits that gravitationally lens solar-type companions. Forming SLBs likely requires common envelope evolution when the WD progenitor is an AGB star and has a weakly bound envelope. No SLBs have yet been discovered with data from the Transiting Exoplanet Survey Satellite (TESS), which observes far more stars than Kepler did. Identifying self-lensing in TESS data is made challenging by the fact that TESS only observes most stars for $\\sim$25 days at a time, so only a single lensing event will be observed for typical SLBs. TESS's smaller aperture also makes it sensitive only to SLBs a factor of $\\sim$100 brighter than those to which Kepler is sensitive. We demonstrate that TESS has nevertheless likely already observed $\\sim$4 times more detectable SLBs than Kepler. We describe a search for non-repeating self-lensing signals in TESS light curves and present preliminary candidates for which spectroscopic follow-up is ongoing. We calculate the sensitivity of our search with injection and recovery tests on TESS and Kepler light curves. Based on the 5 SLBs discovered with Kepler light curves, we estimate that $(1.1 \\pm 0.6)\\%$ of solar-type stars are orbited by WDs with periods of 100-1000 d. This implies a space density of AU-scale WD + main sequence (MS) binaries a factor of 20-100 larger than that of astrometrically-identified WD + MS binaries with orbits in Gaia DR3. We conclude that the Gaia sample is still quite incomplete, mainly because WD + MS binaries can only be unambiguously identified as such for high mass ratios.         |\n",
       "|<p style=\"color:green\"> **ERROR** </p>| <p style=\"color:green\">affiliation error: mpia.affiliation_verifications: 'Heidelberg' keyword not found.</p> |"
      ],
      "text/plain": [
       "<IPython.core.display.Markdown object>"
      ]
     },
     "metadata": {},
     "output_type": "display_data"
    }
   ],
   "source": [
    "import datetime\n",
    "today = str(datetime.date.today())\n",
    "logfile = f\"_build/html/logs/log-{today}.md\"\n",
    "\n",
    "\n",
    "with open(logfile, 'w') as logs:\n",
    "    # Success\n",
    "    logs.write(f'# Arxiv on Deck 2: Logs - {today}\\n\\n')\n",
    "    logs.write(\"\"\"* Arxiv had {0:,d} new papers\\n\"\"\".format(len(new_papers)))\n",
    "    logs.write(\"\"\"    * {0:,d} with possible author matches\\n\\n\"\"\".format(len(candidates)))\n",
    "    logs.write(\"## Sucessful papers\\n\\n\")\n",
    "    display(Markdown(\"## Successful papers\"))\n",
    "    success = [k[0] for k in documents]\n",
    "    for candid in candidates:\n",
    "        if candid['identifier'].split(':')[-1] in success:\n",
    "            display(candid)\n",
    "            logs.write(candid.generate_markdown_text() + '\\n\\n')\n",
    "\n",
    "    ## failed\n",
    "    logs.write(\"## Failed papers\\n\\n\")\n",
    "    display(Markdown(\"## Failed papers\"))\n",
    "    failed = sorted(failed, key=lambda x: x[1])\n",
    "    current_reason = \"\"\n",
    "    for paper, reason in failed:\n",
    "        if 'affiliation' in reason:\n",
    "            color = 'green'\n",
    "        else:\n",
    "            color = 'red'\n",
    "        data = Markdown(\n",
    "                paper.generate_markdown_text() + \n",
    "                f'\\n|<p style=\"color:{color:s}\"> **ERROR** </p>| <p style=\"color:{color:s}\">{reason:s}</p> |'\n",
    "               )\n",
    "        if reason != current_reason:\n",
    "            logs.write(f'### {reason:s} \\n\\n')\n",
    "            current_reason = reason\n",
    "        logs.write(data.data + '\\n\\n')\n",
    "        \n",
    "        # only display here the important errors (all in logs)\n",
    "        # if color in ('red',):\n",
    "        display(data)"
   ]
  },
  {
   "cell_type": "markdown",
   "id": "472d20ee",
   "metadata": {
    "papermill": {
     "duration": 0.003861,
     "end_time": "2024-10-21T04:11:55.803620",
     "exception": false,
     "start_time": "2024-10-21T04:11:55.799759",
     "status": "completed"
    },
    "tags": []
   },
   "source": [
    "## Export documents\n",
    "\n",
    "We now write the .md files and export relevant images"
   ]
  },
  {
   "cell_type": "code",
   "execution_count": 7,
   "id": "d426aed9",
   "metadata": {
    "execution": {
     "iopub.execute_input": "2024-10-21T04:11:55.812608Z",
     "iopub.status.busy": "2024-10-21T04:11:55.812197Z",
     "iopub.status.idle": "2024-10-21T04:11:55.819045Z",
     "shell.execute_reply": "2024-10-21T04:11:55.818504Z"
    },
    "papermill": {
     "duration": 0.012449,
     "end_time": "2024-10-21T04:11:55.820062",
     "exception": false,
     "start_time": "2024-10-21T04:11:55.807613",
     "status": "completed"
    },
    "tags": []
   },
   "outputs": [],
   "source": [
    "def export_markdown_summary(md: str, md_fname:str, directory: str):\n",
    "    \"\"\"Export MD document and associated relevant images\"\"\"\n",
    "    import os\n",
    "    import shutil\n",
    "    import re\n",
    "\n",
    "    if (os.path.exists(directory) and not os.path.isdir(directory)):\n",
    "        raise RuntimeError(f\"a non-directory file exists with name {directory:s}\")\n",
    "\n",
    "    if (not os.path.exists(directory)):\n",
    "        print(f\"creating directory {directory:s}\")\n",
    "        os.mkdir(directory)\n",
    "\n",
    "    fig_fnames = (re.compile(r'\\[Fig.*\\]\\((.*)\\)').findall(md) + \n",
    "                  re.compile(r'\\<img src=\"([^>\\s]*)\"[^>]*/>').findall(md))\n",
    "    print(\"found figures\", fig_fnames)\n",
    "    for fname in fig_fnames:\n",
    "        if 'http' in fname:\n",
    "            # No need to copy online figures\n",
    "            continue\n",
    "        if not os.path.exists(fname):\n",
    "            print(\"file not found\", fname)\n",
    "            continue\n",
    "        print(\"copying \", fname, \"to\", directory)\n",
    "        destdir = os.path.join(directory, os.path.dirname(fname))\n",
    "        destfname = os.path.join(destdir, os.path.basename(fname))\n",
    "        try:\n",
    "            os.makedirs(destdir)\n",
    "        except FileExistsError:\n",
    "            pass\n",
    "        shutil.copy(fname, destfname)\n",
    "    with open(os.path.join(directory, md_fname), 'w') as fout:\n",
    "        fout.write(md)\n",
    "    print(\"exported in \", os.path.join(directory, md_fname))\n",
    "    [print(\"    + \" + os.path.join(directory,fk)) for fk in fig_fnames]"
   ]
  },
  {
   "cell_type": "code",
   "execution_count": 8,
   "id": "014d04a4",
   "metadata": {
    "execution": {
     "iopub.execute_input": "2024-10-21T04:11:55.828939Z",
     "iopub.status.busy": "2024-10-21T04:11:55.828555Z",
     "iopub.status.idle": "2024-10-21T04:11:55.835361Z",
     "shell.execute_reply": "2024-10-21T04:11:55.834720Z"
    },
    "papermill": {
     "duration": 0.012319,
     "end_time": "2024-10-21T04:11:55.836363",
     "exception": false,
     "start_time": "2024-10-21T04:11:55.824044",
     "status": "completed"
    },
    "tags": []
   },
   "outputs": [
    {
     "name": "stdout",
     "output_type": "stream",
     "text": [
      "found figures ['tmp_2410.13932/./fiducial.png', 'tmp_2410.13932/./fiducial-1D.png', 'tmp_2410.13932/./fiducial-T.png']\n",
      "copying  tmp_2410.13932/./fiducial.png to _build/html/\n",
      "copying  tmp_2410.13932/./fiducial-1D.png to _build/html/\n",
      "copying  tmp_2410.13932/./fiducial-T.png to _build/html/\n",
      "exported in  _build/html/2410.13932.md\n",
      "    + _build/html/tmp_2410.13932/./fiducial.png\n",
      "    + _build/html/tmp_2410.13932/./fiducial-1D.png\n",
      "    + _build/html/tmp_2410.13932/./fiducial-T.png\n"
     ]
    }
   ],
   "source": [
    "for paper_id, md in documents:\n",
    "    export_markdown_summary(md, f\"{paper_id:s}.md\", '_build/html/')"
   ]
  },
  {
   "cell_type": "markdown",
   "id": "f087a0a7",
   "metadata": {
    "papermill": {
     "duration": 0.003937,
     "end_time": "2024-10-21T04:11:55.844343",
     "exception": false,
     "start_time": "2024-10-21T04:11:55.840406",
     "status": "completed"
    },
    "tags": []
   },
   "source": [
    "## Display the papers\n",
    "\n",
    "Not necessary but allows for a quick check."
   ]
  },
  {
   "cell_type": "code",
   "execution_count": 9,
   "id": "fd25f625",
   "metadata": {
    "execution": {
     "iopub.execute_input": "2024-10-21T04:11:55.853419Z",
     "iopub.status.busy": "2024-10-21T04:11:55.852981Z",
     "iopub.status.idle": "2024-10-21T04:11:55.857493Z",
     "shell.execute_reply": "2024-10-21T04:11:55.856982Z"
    },
    "papermill": {
     "duration": 0.010164,
     "end_time": "2024-10-21T04:11:55.858556",
     "exception": false,
     "start_time": "2024-10-21T04:11:55.848392",
     "status": "completed"
    },
    "scrolled": false,
    "tags": []
   },
   "outputs": [
    {
     "data": {
      "text/markdown": [
       "<div class=\"macros\" style=\"visibility:hidden;\">\n",
       "$\\newcommand{\\ensuremath}{}$\n",
       "$\\newcommand{\\xspace}{}$\n",
       "$\\newcommand{\\object}[1]{\\texttt{#1}}$\n",
       "$\\newcommand{\\farcs}{{.}''}$\n",
       "$\\newcommand{\\farcm}{{.}'}$\n",
       "$\\newcommand{\\arcsec}{''}$\n",
       "$\\newcommand{\\arcmin}{'}$\n",
       "$\\newcommand{\\ion}[2]{#1#2}$\n",
       "$\\newcommand{\\textsc}[1]{\\textrm{#1}}$\n",
       "$\\newcommand{\\hl}[1]{\\textrm{#1}}$\n",
       "$\\newcommand{\\footnote}[1]{}$\n",
       "$\\newcommand{\\tensor}[1]{\\overline{\\textbf{#1}}}$\n",
       "$\\newcommand{\\tensorGR}[1]{\\overline{\\bm{{#1}}}}$\n",
       "$\\newcommand{\\DP}[2]{\\frac{\\partial{#1}}{\\partial{#2}}}$\n",
       "$\\newcommand{\\D}[2]{\\frac{\\text{d}{#1}}{\\text{d}{#2}}}$\n",
       "$\\newcommand{\\ep}{e_\\mathrm{p}}$\n",
       "$\\newcommand{\\ap}{a_\\mathrm{p}}$\n",
       "$\\newcommand{\\G}{\\text{G}}$\n",
       "$\\newcommand{\\Mstar}{M_\\star}$\n",
       "$\\newcommand{\\Lstar}{L_\\star}$\n",
       "$\\newcommand{\\Rp}{R_\\mathrm{p}}$\n",
       "$\\newcommand{\\Mp}{M_\\mathrm{p}}$\n",
       "$\\newcommand{\\hp}{h_\\mathrm{p}}$\n",
       "$\\newcommand{\\Hp}{H_\\mathrm{p}}$\n",
       "$\\newcommand{\\Tp}{T_\\mathrm{p}}$\n",
       "$\\newcommand{\\Pp}{P_\\mathrm{p}}$\n",
       "$\\newcommand{\\Tb}{T_\\mathrm{b}}$\n",
       "$\\newcommand{\\Mth}{M_\\mathrm{th}}$\n",
       "$\\newcommand{\\Msun}{\\mathrm{M}_\\odot}$\n",
       "$\\newcommand{\\Lsun}{\\mathrm{L}_\\odot}$\n",
       "$\\newcommand{\\Mjup}{\\mathrm{M}_\\mathrm{J}}$\n",
       "$\\newcommand{\\Rgas}{\\mathcal{R}}$\n",
       "$\\newcommand{\\cs}{c_\\mathrm{s}}$\n",
       "$\\newcommand{\\csiso}{c_\\mathrm{s,iso}}$\n",
       "$\\newcommand{\\csadb}{c_\\mathrm{s}^\\mathrm{ad}}$\n",
       "$\\newcommand{\\OmegaK}{\\Omega_\\mathrm{K}}$\n",
       "$\\newcommand{\\uK}{u_\\mathrm{K}}$\n",
       "$\\newcommand{\\mean}[1]{\\langle{#1} \\rangle}$\n",
       "$\\newcommand{\\tauR}{\\tau_\\mathrm{R}}$\n",
       "$\\newcommand{\\tauP}{\\tau_\\mathrm{P}}$\n",
       "$\\newcommand{\\tauReff}{\\tau_\\mathrm{R}^\\mathrm{eff}}$\n",
       "$\\newcommand{\\tauPeff}{\\tau_\\mathrm{P}^\\mathrm{eff}}$\n",
       "$\\newcommand{\\taueff}{\\tau_\\mathrm{eff}}$\n",
       "$\\newcommand{\\kappaR}{\\kappa_\\mathrm{R}}$\n",
       "$\\newcommand{\\kappaP}{\\kappa_\\mathrm{P}}$\n",
       "$\\newcommand{\\cv}{c_\\mathrm{v}}$\n",
       "$\\newcommand{\\rhomid}{\\rho_\\mathrm{mid}}$\n",
       "$\\newcommand{\\sigmaSB}{\\sigma_\\mathrm{SB}}$\n",
       "$\\newcommand{\\vel}{\\bm{u}}$\n",
       "$\\newcommand{\\xh}{{x}_\\mathrm{h}}$\n",
       "$\\newcommand{\\varpih}{{\\varpi}_\\mathrm{h}}$\n",
       "$\\newcommand{\\tcool}{t_\\mathrm{cool}}$\n",
       "$\\newcommand{\\bcool}{\\beta_\\mathrm{cool}}$\n",
       "$\\newcommand{\\bsurf}{\\beta_\\mathrm{surf}}$\n",
       "$\\newcommand{\\bmid}{\\beta_\\mathrm{mid}}$\n",
       "$\\newcommand{\\btot}{\\beta_\\mathrm{tot}}$\n",
       "$\\newcommand{\\bcoll}{\\beta_\\mathrm{coll}}$\n",
       "$\\newcommand{\\bbuoy}{\\beta_\\mathrm{buoy}}$\n",
       "$\\newcommand{\\bdiff}{\\beta_\\text{diff}}$\n",
       "$\\newcommand{\\bfld}{\\beta_\\mathrm{FLD}}$\n",
       "$\\newcommand{\\Qvisc}{Q_\\mathrm{visc}}$\n",
       "$\\newcommand{\\Qcool}{Q_\\mathrm{cool}}$\n",
       "$\\newcommand{\\Qirr}{Q_\\mathrm{irr}}$\n",
       "$\\newcommand{\\Qrad}{Q_\\mathrm{rad}}$\n",
       "$\\newcommand{\\Qrelax}{Q_\\mathrm{relax}}$\n",
       "$\\newcommand{\\Erad}{E_\\mathrm{rad}}$\n",
       "$\\newcommand{\\aR}{a_\\mathrm{R}}$\n",
       "$\\newcommand{\\lrad}{l_\\mathrm{rad}}$\n",
       "$\\newcommand{\\Sigmag}{\\Sigma_\\mathrm{g}}$\n",
       "$\\newcommand{\\Sigmad}{\\Sigma_\\mathrm{d}}$\n",
       "$\\newcommand{\\velg}{\\vel_\\mathrm{g}}$\n",
       "$\\newcommand{\\veld}{\\vel_\\mathrm{d}}$\n",
       "$\\newcommand{\\St}{\\mathrm{St}}$\n",
       "$\\newcommand{\\Sc}{\\mathrm{Sc}}$\n",
       "$\\newcommand{\\ad}{a_\\mathrm{d}}$\n",
       "$\\newcommand{\\brhod}{\\bar{\\rho}_\\mathrm{d}}$\n",
       "$\\newcommand{\\sd}{s_\\mathrm{d}}$\n",
       "$\\newcommand{\\md}{m_\\mathrm{d}}$\n",
       "$\\newcommand{\\pluto}{\\texttt{PLUTO}}$\n",
       "$\\newcommand{\\fargo}{{\\texttt{FARGO3D}}}$\n",
       "$\\newcommand{\\optool}{\\texttt{OpTool}}$\n",
       "$\\newcommand{\\radmc}{\\texttt{RADMC-3D}}$\n",
       "$\\newcommand{\\simio}{\\texttt{SIMIO-continuum}}$\n",
       "$\\newcommand{\\casa}{\\texttt{CASA}}$\n",
       "$\\newcommand{\\thebibliography}{\\DeclareRobustCommand{\\VAN}[3]{##3}\\VANthebibliography}$</div>\n",
       "\n",
       "\n",
       "\n",
       "<div id=\"title\">\n",
       "\n",
       "# Spirals, rings, and vortices shaped by shadows in protoplanetary disks:\\\\from radiative hydrodynamical simulations to observable signatures\n",
       "\n",
       "</div>\n",
       "<div id=\"comments\">\n",
       "\n",
       "[![arXiv](https://img.shields.io/badge/arXiv-2410.13932-b31b1b.svg)](https://arxiv.org/abs/2410.13932)<mark>Appeared on: 2024-10-21</mark> -  _17 pages, 20 figures, 1 table; submitted to MNRAS; suggestions and comments welcome_\n",
       "\n",
       "</div>\n",
       "<div id=\"authors\">\n",
       "\n",
       "A. Ziampras, et al. -- incl., <mark>M. Benisty</mark>\n",
       "\n",
       "</div>\n",
       "<div id=\"abstract\">\n",
       "\n",
       "**Abstract:** Numerous protoplanetary disks exhibit shadows in scattered light observations. These shadows are typically cast by misaligned inner disks and are associated with observable structures in the outer disk such as bright arcs and spirals. Investigating the dynamics of the shadowed outer disk is therefore essential in understanding the formation and evolution of these structures. We carry out twodimensional radiation hydrodynamics simulations that include radiative diffusion and dust--gas dynamics to study the formation of substructure in shadowed disks. We find that spiral arms are launched at the edge of each shadow, permeating the entire disk. The local dissipation of these spirals\tresults in an\tangular momentum flux, opening multiple gaps and leading to a series of concentric, regularly-spaced rings\tWe find that ring formation is favored in weakly turbulent disks where dust growth is taking place. These conditions are met for typical class-II disks, in which bright rings should form well within a fraction of their lifetime ( $\\sim$ 0.1--0.2 Myr). For hotter disks gap opening is more efficient, such that the gap edges quickly collapse into vortices that can appear as bright arcs in continuum emission before decaying into rings or merging into massive, long-lived structures. Synthetic observations show that these structures should be observable in scattered light and millimeter continuum emission, providing a new way to probe the presence of substructure in protoplanetary disks. Our results suggest that the formation of rings and gaps is a common process in shadowed disks, and can explain the rich radial substructure observed in several protoplanetary disks.\n",
       "\n",
       "</div>\n",
       "\n",
       "<div id=\"div_fig1\">\n",
       "\n",
       "<img src=\"tmp_2410.13932/./fiducial.png\" alt=\"Fig17\" width=\"100%\"/>\n",
       "\n",
       "**Figure 17. -** The perturbed gas temperature (left) and gas surface density (middle) as well as the dust surface density (right) after $1000 P_0$. Two dark wedges are visible in the temperature structure, corresponding to the attenuated heating due to the \"shadows\" cast by an inner disk. A series of concentric rings is visible in all quantities, forming clearly visible features in the dust surface density. The shadow edges are marked with dashed lines in the left panel. The disk rotates counterclockwise. (*fig:fiducial*)\n",
       "\n",
       "</div>\n",
       "<div id=\"div_fig2\">\n",
       "\n",
       "<img src=\"tmp_2410.13932/./fiducial-1D.png\" alt=\"Fig5\" width=\"100%\"/>\n",
       "\n",
       "**Figure 5. -** Azimuthally averaged profiles of the perturbed gas and dust surface densities (panels *a* and *b*), the angular momentum flux $F_J$(panel *c*), and the cooling timescale $\\beta$(panel *d*) as a function of radius and for several snapshots. The AMF is approximately constant over time, leading to deeper gaps and sharper features as the disk evolves. The disk is roughly separated into a featureless inner region and a ringed outer region at $R$\\ap$prox 24$ au, which corresponds to $\\beta$\\ap$prox\\beta_\\text{crit}$(see Eq. \\eqref{eq:bcrit}). The AMF is arbitrarily normalized to $F_{J,0}=10^{-10} $\\Msun$ \\text{au}^2/\\text{yr}^2$. (*fig:fiducial-1D*)\n",
       "\n",
       "</div>\n",
       "<div id=\"div_fig3\">\n",
       "\n",
       "<img src=\"tmp_2410.13932/./fiducial-T.png\" alt=\"Fig4\" width=\"100%\"/>\n",
       "\n",
       "**Figure 4. -** Azimuthal profile of the perturbed gas temperature at different radii at $t=1000 P_0$. The temperature perturbation is not symmetric about the shadow exits, and becomes smaller in the slowly-cooling inner disk. Shaded regions mark the two shadows. Gas moves to the right. (*fig:fiducial-T*)\n",
       "\n",
       "</div><div id=\"qrcode\"><img src=https://api.qrserver.com/v1/create-qr-code/?size=100x100&data=\"https://arxiv.org/abs/2410.13932\"></div>"
      ],
      "text/plain": [
       "<IPython.core.display.Markdown object>"
      ]
     },
     "metadata": {},
     "output_type": "display_data"
    }
   ],
   "source": [
    "[display(Markdown(k[1])) for k in documents];"
   ]
  },
  {
   "cell_type": "markdown",
   "id": "873873a4",
   "metadata": {
    "papermill": {
     "duration": 0.004127,
     "end_time": "2024-10-21T04:11:55.866933",
     "exception": false,
     "start_time": "2024-10-21T04:11:55.862806",
     "status": "completed"
    },
    "tags": []
   },
   "source": [
    "# Create HTML index"
   ]
  },
  {
   "cell_type": "code",
   "execution_count": 10,
   "id": "cf665672",
   "metadata": {
    "execution": {
     "iopub.execute_input": "2024-10-21T04:11:55.876542Z",
     "iopub.status.busy": "2024-10-21T04:11:55.876125Z",
     "iopub.status.idle": "2024-10-21T04:11:55.884021Z",
     "shell.execute_reply": "2024-10-21T04:11:55.883450Z"
    },
    "papermill": {
     "duration": 0.013767,
     "end_time": "2024-10-21T04:11:55.884998",
     "exception": false,
     "start_time": "2024-10-21T04:11:55.871231",
     "status": "completed"
    },
    "tags": []
   },
   "outputs": [
    {
     "name": "stdout",
     "output_type": "stream",
     "text": [
      "223  publications files modified in the last 7 days.\n"
     ]
    }
   ],
   "source": [
    "from datetime import datetime, timedelta, timezone\n",
    "from glob import glob\n",
    "import os\n",
    "\n",
    "files = glob('_build/html/*.md')\n",
    "days = 7\n",
    "now = datetime.today()\n",
    "res = []\n",
    "for fk in files:\n",
    "    stat_result = os.stat(fk).st_ctime\n",
    "    modified = datetime.fromtimestamp(stat_result, tz=timezone.utc).replace(tzinfo=None)\n",
    "    delta = now.today() - modified\n",
    "    if delta <= timedelta(days=days):\n",
    "        res.append((delta.seconds, fk))\n",
    "res = [k[1] for k in reversed(sorted(res, key=lambda x:x[1]))]\n",
    "npub = len(res)\n",
    "print(len(res), f\" publications files modified in the last {days:d} days.\")\n",
    "# [ print('\\t', k) for k in res ];"
   ]
  },
  {
   "cell_type": "code",
   "execution_count": 11,
   "id": "015de740",
   "metadata": {
    "execution": {
     "iopub.execute_input": "2024-10-21T04:11:55.894714Z",
     "iopub.status.busy": "2024-10-21T04:11:55.894289Z",
     "iopub.status.idle": "2024-10-21T04:11:55.910815Z",
     "shell.execute_reply": "2024-10-21T04:11:55.910276Z"
    },
    "papermill": {
     "duration": 0.02248,
     "end_time": "2024-10-21T04:11:55.911829",
     "exception": false,
     "start_time": "2024-10-21T04:11:55.889349",
     "status": "completed"
    },
    "tags": []
   },
   "outputs": [
    {
     "name": "stdout",
     "output_type": "stream",
     "text": [
      "8  publications in the last 7 days.\n"
     ]
    }
   ],
   "source": [
    "import datetime\n",
    "from glob import glob\n",
    "\n",
    "def get_last_n_days(lst, days=1):\n",
    "    \"\"\" Get the documents from the last n days \"\"\"\n",
    "    sorted_lst = sorted(lst, key=lambda x: x[1], reverse=True)\n",
    "    for fname, date in sorted_lst:\n",
    "        if date >= str(datetime.date.today() - datetime.timedelta(days=days)):\n",
    "            yield fname\n",
    "\n",
    "def extract_appearance_dates(lst_file):\n",
    "    dates = []\n",
    "\n",
    "    def get_date(line):\n",
    "        return line\\\n",
    "            .split('Appeared on:')[-1]\\\n",
    "            .split('</mark>')[0].strip()\n",
    "\n",
    "    for fname in lst:\n",
    "        with open(fname, 'r') as f:\n",
    "            found_date = False\n",
    "            for line in f:\n",
    "                if not found_date:\n",
    "                    if \"Appeared on\" in line:\n",
    "                        found_date = True\n",
    "                        dates.append((fname, get_date(line)))\n",
    "                else:\n",
    "                    break\n",
    "    return dates\n",
    "\n",
    "from glob import glob\n",
    "lst = glob('_build/html/*md')\n",
    "days = 7\n",
    "dates = extract_appearance_dates(lst)\n",
    "res = list(get_last_n_days(dates, days))\n",
    "npub = len(res)\n",
    "print(len(res), f\" publications in the last {days:d} days.\")"
   ]
  },
  {
   "cell_type": "code",
   "execution_count": 12,
   "id": "52ca0208",
   "metadata": {
    "execution": {
     "iopub.execute_input": "2024-10-21T04:11:55.921535Z",
     "iopub.status.busy": "2024-10-21T04:11:55.921197Z",
     "iopub.status.idle": "2024-10-21T04:11:55.926016Z",
     "shell.execute_reply": "2024-10-21T04:11:55.925461Z"
    },
    "papermill": {
     "duration": 0.010678,
     "end_time": "2024-10-21T04:11:55.926967",
     "exception": false,
     "start_time": "2024-10-21T04:11:55.916289",
     "status": "completed"
    },
    "scrolled": false,
    "tags": []
   },
   "outputs": [],
   "source": [
    "def create_carousel(npub=4):\n",
    "    \"\"\" Generate the HTML code for a carousel with `npub` slides \"\"\"\n",
    "    carousel = [\"\"\"  <div class=\"carousel\" \"\"\",\n",
    "                \"\"\"       data-flickity='{ \"autoPlay\": 10000, \"adaptiveHeight\": true, \"resize\": true, \"wrapAround\": true, \"pauseAutoPlayOnHover\": true, \"groupCells\": 1 }' id=\"asyncTypeset\">\"\"\"\n",
    "                ]\n",
    "    \n",
    "    item_str = \"\"\"    <div class=\"carousel-cell\"> <div id=\"slide{k}\" class=\"md_view\">Content {k}</div> </div>\"\"\"\n",
    "    for k in range(1, npub + 1):\n",
    "        carousel.append(item_str.format(k=k))\n",
    "    carousel.append(\"  </div>\")\n",
    "    return '\\n'.join(carousel)\n",
    "\n",
    "def create_grid(npub=4):\n",
    "    \"\"\" Generate the HTML code for a flat grid with `npub` slides \"\"\"\n",
    "    grid = [\"\"\"  <div class=\"grid\"> \"\"\",\n",
    "                ]\n",
    "    \n",
    "    item_str = \"\"\"    <div class=\"grid-item\"> <div id=\"slide{k}\" class=\"md_view\">Content {k}</div> </div>\"\"\"\n",
    "    for k in range(1, npub + 1):\n",
    "        grid.append(item_str.format(k=k))\n",
    "    grid.append(\"  </div>\")\n",
    "    return '\\n'.join(grid)"
   ]
  },
  {
   "cell_type": "code",
   "execution_count": 13,
   "id": "a6eac5b6",
   "metadata": {
    "execution": {
     "iopub.execute_input": "2024-10-21T04:11:55.936915Z",
     "iopub.status.busy": "2024-10-21T04:11:55.936517Z",
     "iopub.status.idle": "2024-10-21T04:11:55.941450Z",
     "shell.execute_reply": "2024-10-21T04:11:55.940821Z"
    },
    "papermill": {
     "duration": 0.011021,
     "end_time": "2024-10-21T04:11:55.942551",
     "exception": false,
     "start_time": "2024-10-21T04:11:55.931530",
     "status": "completed"
    },
    "scrolled": false,
    "tags": []
   },
   "outputs": [],
   "source": [
    "carousel = create_carousel(npub)\n",
    "docs = ', '.join(['\"{0:s}\"'.format(k.split('/')[-1]) for k in res])\n",
    "slides = ', '.join([f'\"slide{k}\"' for k in range(1, npub + 1)])\n",
    "\n",
    "with open(\"daily_template.html\", \"r\") as tpl:\n",
    "    page = tpl.read()\n",
    "    page = page.replace(\"{%-- carousel:s --%}\", carousel)\\\n",
    "               .replace(\"{%-- suptitle:s --%}\",  \"7-day archives\" )\\\n",
    "               .replace(\"{%-- docs:s --%}\", docs)\\\n",
    "               .replace(\"{%-- slides:s --%}\", slides)\n",
    "    \n",
    "with open(\"_build/html/index_7days.html\", 'w') as fout:\n",
    "    fout.write(page)"
   ]
  },
  {
   "cell_type": "code",
   "execution_count": 14,
   "id": "adc1a1ec",
   "metadata": {
    "execution": {
     "iopub.execute_input": "2024-10-21T04:11:55.952540Z",
     "iopub.status.busy": "2024-10-21T04:11:55.952128Z",
     "iopub.status.idle": "2024-10-21T04:11:55.958664Z",
     "shell.execute_reply": "2024-10-21T04:11:55.958101Z"
    },
    "papermill": {
     "duration": 0.012532,
     "end_time": "2024-10-21T04:11:55.959669",
     "exception": false,
     "start_time": "2024-10-21T04:11:55.947137",
     "status": "completed"
    },
    "tags": []
   },
   "outputs": [
    {
     "name": "stdout",
     "output_type": "stream",
     "text": [
      "1  publications in the last day.\n"
     ]
    }
   ],
   "source": [
    "# redo for today\n",
    "days = 1\n",
    "res = list(get_last_n_days(dates, days))\n",
    "npub = len(res)\n",
    "print(len(res), f\" publications in the last day.\")\n",
    "\n",
    "carousel = create_carousel(npub)\n",
    "docs = ', '.join(['\"{0:s}\"'.format(k.split('/')[-1]) for k in res])\n",
    "slides = ', '.join([f'\"slide{k}\"' for k in range(1, npub + 1)])\n",
    "\n",
    "with open(\"daily_template.html\", \"r\") as tpl:\n",
    "    page = tpl.read()\n",
    "    page = page.replace(\"{%-- carousel:s --%}\", carousel)\\\n",
    "               .replace(\"{%-- suptitle:s --%}\",  \"Daily\" )\\\n",
    "               .replace(\"{%-- docs:s --%}\", docs)\\\n",
    "               .replace(\"{%-- slides:s --%}\", slides)\n",
    "    \n",
    "# print(carousel, docs, slides)\n",
    "# print(page)\n",
    "with open(\"_build/html/index_daily.html\", 'w') as fout:\n",
    "    fout.write(page)"
   ]
  },
  {
   "cell_type": "code",
   "execution_count": 15,
   "id": "00eece82",
   "metadata": {
    "execution": {
     "iopub.execute_input": "2024-10-21T04:11:55.969686Z",
     "iopub.status.busy": "2024-10-21T04:11:55.969497Z",
     "iopub.status.idle": "2024-10-21T04:11:55.975690Z",
     "shell.execute_reply": "2024-10-21T04:11:55.975172Z"
    },
    "papermill": {
     "duration": 0.012355,
     "end_time": "2024-10-21T04:11:55.976610",
     "exception": false,
     "start_time": "2024-10-21T04:11:55.964255",
     "status": "completed"
    },
    "scrolled": false,
    "tags": []
   },
   "outputs": [
    {
     "name": "stdout",
     "output_type": "stream",
     "text": [
      "6  6 publications selected.\n"
     ]
    }
   ],
   "source": [
    "# Create the flat grid of the last N papers (fixed number regardless of dates)\n",
    "from itertools import islice \n",
    "\n",
    "npub = 6\n",
    "res = [k[0] for k in (islice(reversed(sorted(dates, key=lambda x: x[1])), 6))]\n",
    "print(len(res), f\" {npub} publications selected.\")\n",
    "\n",
    "grid = create_grid(npub)\n",
    "docs = ', '.join(['\"{0:s}\"'.format(k.split('/')[-1]) for k in res])\n",
    "slides = ', '.join([f'\"slide{k}\"' for k in range(1, npub + 1)])\n",
    "\n",
    "with open(\"grid_template.html\", \"r\") as tpl:\n",
    "    page = tpl.read()\n",
    "    page = page.replace(\"{%-- grid-content:s --%}\", grid)\\\n",
    "               .replace(\"{%-- suptitle:s --%}\",  f\"Last {npub:,d} papers\" )\\\n",
    "               .replace(\"{%-- docs:s --%}\", docs)\\\n",
    "               .replace(\"{%-- slides:s --%}\", slides)\n",
    "    \n",
    "# print(grid, docs, slides)\n",
    "# print(page)\n",
    "with open(\"_build/html/index_npub_grid.html\", 'w') as fout:\n",
    "    fout.write(page)"
   ]
  }
 ],
 "metadata": {
  "kernelspec": {
   "display_name": "Python 3 (ipykernel)",
   "language": "python",
   "name": "python3"
  },
  "language_info": {
   "codemirror_mode": {
    "name": "ipython",
    "version": 3
   },
   "file_extension": ".py",
   "mimetype": "text/x-python",
   "name": "python",
   "nbconvert_exporter": "python",
   "pygments_lexer": "ipython3",
   "version": "3.9.20"
  },
  "papermill": {
   "default_parameters": {},
   "duration": 40.842242,
   "end_time": "2024-10-21T04:11:56.196792",
   "environment_variables": {},
   "exception": null,
   "input_path": "MPIA daily digest.ipynb",
   "output_path": "log.ipynb",
   "parameters": {},
   "start_time": "2024-10-21T04:11:15.354550",
   "version": "2.6.0"
  },
  "vscode": {
   "interpreter": {
    "hash": "aee8b7b246df8f9039afb4144a1f6fd8d2ca17a180786b69acc140d282b71a49"
   }
  },
  "widgets": {
   "application/vnd.jupyter.widget-state+json": {
    "state": {
     "133b2eece68148da98d907d432d82c38": {
      "model_module": "@jupyter-widgets/base",
      "model_module_version": "2.0.0",
      "model_name": "LayoutModel",
      "state": {
       "_model_module": "@jupyter-widgets/base",
       "_model_module_version": "2.0.0",
       "_model_name": "LayoutModel",
       "_view_count": null,
       "_view_module": "@jupyter-widgets/base",
       "_view_module_version": "2.0.0",
       "_view_name": "LayoutView",
       "align_content": null,
       "align_items": null,
       "align_self": null,
       "border_bottom": null,
       "border_left": null,
       "border_right": null,
       "border_top": null,
       "bottom": null,
       "display": null,
       "flex": null,
       "flex_flow": null,
       "grid_area": null,
       "grid_auto_columns": null,
       "grid_auto_flow": null,
       "grid_auto_rows": null,
       "grid_column": null,
       "grid_gap": null,
       "grid_row": null,
       "grid_template_areas": null,
       "grid_template_columns": null,
       "grid_template_rows": null,
       "height": null,
       "justify_content": null,
       "justify_items": null,
       "left": null,
       "margin": null,
       "max_height": null,
       "max_width": null,
       "min_height": null,
       "min_width": null,
       "object_fit": null,
       "object_position": null,
       "order": null,
       "overflow": null,
       "padding": null,
       "right": null,
       "top": null,
       "visibility": null,
       "width": null
      }
     },
     "2fcd07f1b5b149f9b2cb24ff8cf61003": {
      "model_module": "@jupyter-widgets/controls",
      "model_module_version": "2.0.0",
      "model_name": "HTMLModel",
      "state": {
       "_dom_classes": [],
       "_model_module": "@jupyter-widgets/controls",
       "_model_module_version": "2.0.0",
       "_model_name": "HTMLModel",
       "_view_count": null,
       "_view_module": "@jupyter-widgets/controls",
       "_view_module_version": "2.0.0",
       "_view_name": "HTMLView",
       "description": "",
       "description_allow_html": false,
       "layout": "IPY_MODEL_65f430200f144fe49d2c6c39ff5178ab",
       "placeholder": "​",
       "style": "IPY_MODEL_717f02f723e240cd86e8cbbf163763a0",
       "tabbable": null,
       "tooltip": null,
       "value": " 2/2 [00:16&lt;00:00,  7.01s/it]"
      }
     },
     "3c50cbae297749319ce5e4d504216ce8": {
      "model_module": "@jupyter-widgets/controls",
      "model_module_version": "2.0.0",
      "model_name": "HTMLStyleModel",
      "state": {
       "_model_module": "@jupyter-widgets/controls",
       "_model_module_version": "2.0.0",
       "_model_name": "HTMLStyleModel",
       "_view_count": null,
       "_view_module": "@jupyter-widgets/base",
       "_view_module_version": "2.0.0",
       "_view_name": "StyleView",
       "background": null,
       "description_width": "",
       "font_size": null,
       "text_color": null
      }
     },
     "65f430200f144fe49d2c6c39ff5178ab": {
      "model_module": "@jupyter-widgets/base",
      "model_module_version": "2.0.0",
      "model_name": "LayoutModel",
      "state": {
       "_model_module": "@jupyter-widgets/base",
       "_model_module_version": "2.0.0",
       "_model_name": "LayoutModel",
       "_view_count": null,
       "_view_module": "@jupyter-widgets/base",
       "_view_module_version": "2.0.0",
       "_view_name": "LayoutView",
       "align_content": null,
       "align_items": null,
       "align_self": null,
       "border_bottom": null,
       "border_left": null,
       "border_right": null,
       "border_top": null,
       "bottom": null,
       "display": null,
       "flex": null,
       "flex_flow": null,
       "grid_area": null,
       "grid_auto_columns": null,
       "grid_auto_flow": null,
       "grid_auto_rows": null,
       "grid_column": null,
       "grid_gap": null,
       "grid_row": null,
       "grid_template_areas": null,
       "grid_template_columns": null,
       "grid_template_rows": null,
       "height": null,
       "justify_content": null,
       "justify_items": null,
       "left": null,
       "margin": null,
       "max_height": null,
       "max_width": null,
       "min_height": null,
       "min_width": null,
       "object_fit": null,
       "object_position": null,
       "order": null,
       "overflow": null,
       "padding": null,
       "right": null,
       "top": null,
       "visibility": null,
       "width": null
      }
     },
     "69a98f588cee42dfa886e5067ffcf374": {
      "model_module": "@jupyter-widgets/base",
      "model_module_version": "2.0.0",
      "model_name": "LayoutModel",
      "state": {
       "_model_module": "@jupyter-widgets/base",
       "_model_module_version": "2.0.0",
       "_model_name": "LayoutModel",
       "_view_count": null,
       "_view_module": "@jupyter-widgets/base",
       "_view_module_version": "2.0.0",
       "_view_name": "LayoutView",
       "align_content": null,
       "align_items": null,
       "align_self": null,
       "border_bottom": null,
       "border_left": null,
       "border_right": null,
       "border_top": null,
       "bottom": null,
       "display": null,
       "flex": null,
       "flex_flow": null,
       "grid_area": null,
       "grid_auto_columns": null,
       "grid_auto_flow": null,
       "grid_auto_rows": null,
       "grid_column": null,
       "grid_gap": null,
       "grid_row": null,
       "grid_template_areas": null,
       "grid_template_columns": null,
       "grid_template_rows": null,
       "height": null,
       "justify_content": null,
       "justify_items": null,
       "left": null,
       "margin": null,
       "max_height": null,
       "max_width": null,
       "min_height": null,
       "min_width": null,
       "object_fit": null,
       "object_position": null,
       "order": null,
       "overflow": null,
       "padding": null,
       "right": null,
       "top": null,
       "visibility": null,
       "width": null
      }
     },
     "6dc3b370c5f24f2d924f45dec5cbeb06": {
      "model_module": "@jupyter-widgets/controls",
      "model_module_version": "2.0.0",
      "model_name": "FloatProgressModel",
      "state": {
       "_dom_classes": [],
       "_model_module": "@jupyter-widgets/controls",
       "_model_module_version": "2.0.0",
       "_model_name": "FloatProgressModel",
       "_view_count": null,
       "_view_module": "@jupyter-widgets/controls",
       "_view_module_version": "2.0.0",
       "_view_name": "ProgressView",
       "bar_style": "success",
       "description": "",
       "description_allow_html": false,
       "layout": "IPY_MODEL_8133d2cc8f764571b87a6a3988457ea2",
       "max": 2.0,
       "min": 0.0,
       "orientation": "horizontal",
       "style": "IPY_MODEL_b0b324efc3e1464ba7f2b0a6759d30ad",
       "tabbable": null,
       "tooltip": null,
       "value": 2.0
      }
     },
     "717f02f723e240cd86e8cbbf163763a0": {
      "model_module": "@jupyter-widgets/controls",
      "model_module_version": "2.0.0",
      "model_name": "HTMLStyleModel",
      "state": {
       "_model_module": "@jupyter-widgets/controls",
       "_model_module_version": "2.0.0",
       "_model_name": "HTMLStyleModel",
       "_view_count": null,
       "_view_module": "@jupyter-widgets/base",
       "_view_module_version": "2.0.0",
       "_view_name": "StyleView",
       "background": null,
       "description_width": "",
       "font_size": null,
       "text_color": null
      }
     },
     "73aad114877f49349e40bfbc6f3fd039": {
      "model_module": "@jupyter-widgets/controls",
      "model_module_version": "2.0.0",
      "model_name": "HBoxModel",
      "state": {
       "_dom_classes": [],
       "_model_module": "@jupyter-widgets/controls",
       "_model_module_version": "2.0.0",
       "_model_name": "HBoxModel",
       "_view_count": null,
       "_view_module": "@jupyter-widgets/controls",
       "_view_module_version": "2.0.0",
       "_view_name": "HBoxView",
       "box_style": "",
       "children": [
        "IPY_MODEL_7b5ddb49f69e4466a341219c705d9f9f",
        "IPY_MODEL_6dc3b370c5f24f2d924f45dec5cbeb06",
        "IPY_MODEL_2fcd07f1b5b149f9b2cb24ff8cf61003"
       ],
       "layout": "IPY_MODEL_69a98f588cee42dfa886e5067ffcf374",
       "tabbable": null,
       "tooltip": null
      }
     },
     "7b5ddb49f69e4466a341219c705d9f9f": {
      "model_module": "@jupyter-widgets/controls",
      "model_module_version": "2.0.0",
      "model_name": "HTMLModel",
      "state": {
       "_dom_classes": [],
       "_model_module": "@jupyter-widgets/controls",
       "_model_module_version": "2.0.0",
       "_model_name": "HTMLModel",
       "_view_count": null,
       "_view_module": "@jupyter-widgets/controls",
       "_view_module_version": "2.0.0",
       "_view_name": "HTMLView",
       "description": "",
       "description_allow_html": false,
       "layout": "IPY_MODEL_133b2eece68148da98d907d432d82c38",
       "placeholder": "​",
       "style": "IPY_MODEL_3c50cbae297749319ce5e4d504216ce8",
       "tabbable": null,
       "tooltip": null,
       "value": "100%"
      }
     },
     "8133d2cc8f764571b87a6a3988457ea2": {
      "model_module": "@jupyter-widgets/base",
      "model_module_version": "2.0.0",
      "model_name": "LayoutModel",
      "state": {
       "_model_module": "@jupyter-widgets/base",
       "_model_module_version": "2.0.0",
       "_model_name": "LayoutModel",
       "_view_count": null,
       "_view_module": "@jupyter-widgets/base",
       "_view_module_version": "2.0.0",
       "_view_name": "LayoutView",
       "align_content": null,
       "align_items": null,
       "align_self": null,
       "border_bottom": null,
       "border_left": null,
       "border_right": null,
       "border_top": null,
       "bottom": null,
       "display": null,
       "flex": null,
       "flex_flow": null,
       "grid_area": null,
       "grid_auto_columns": null,
       "grid_auto_flow": null,
       "grid_auto_rows": null,
       "grid_column": null,
       "grid_gap": null,
       "grid_row": null,
       "grid_template_areas": null,
       "grid_template_columns": null,
       "grid_template_rows": null,
       "height": null,
       "justify_content": null,
       "justify_items": null,
       "left": null,
       "margin": null,
       "max_height": null,
       "max_width": null,
       "min_height": null,
       "min_width": null,
       "object_fit": null,
       "object_position": null,
       "order": null,
       "overflow": null,
       "padding": null,
       "right": null,
       "top": null,
       "visibility": null,
       "width": null
      }
     },
     "b0b324efc3e1464ba7f2b0a6759d30ad": {
      "model_module": "@jupyter-widgets/controls",
      "model_module_version": "2.0.0",
      "model_name": "ProgressStyleModel",
      "state": {
       "_model_module": "@jupyter-widgets/controls",
       "_model_module_version": "2.0.0",
       "_model_name": "ProgressStyleModel",
       "_view_count": null,
       "_view_module": "@jupyter-widgets/base",
       "_view_module_version": "2.0.0",
       "_view_name": "StyleView",
       "bar_color": null,
       "description_width": ""
      }
     }
    },
    "version_major": 2,
    "version_minor": 0
   }
  }
 },
 "nbformat": 4,
 "nbformat_minor": 5
}