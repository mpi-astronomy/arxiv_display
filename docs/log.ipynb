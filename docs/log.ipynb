{
 "cells": [
  {
   "cell_type": "markdown",
   "id": "92bcb855",
   "metadata": {
    "papermill": {
     "duration": 0.003911,
     "end_time": "2024-06-13T04:08:48.494199",
     "exception": false,
     "start_time": "2024-06-13T04:08:48.490288",
     "status": "completed"
    },
    "tags": []
   },
   "source": [
    "# MPIA Arxiv on Deck 2\n",
    "\n",
    "Contains the steps to produce the paper extractions."
   ]
  },
  {
   "cell_type": "code",
   "execution_count": 1,
   "id": "3a0d6e11",
   "metadata": {
    "execution": {
     "iopub.execute_input": "2024-06-13T04:08:48.501344Z",
     "iopub.status.busy": "2024-06-13T04:08:48.501095Z",
     "iopub.status.idle": "2024-06-13T04:08:48.912768Z",
     "shell.execute_reply": "2024-06-13T04:08:48.912134Z"
    },
    "papermill": {
     "duration": 0.417123,
     "end_time": "2024-06-13T04:08:48.914424",
     "exception": false,
     "start_time": "2024-06-13T04:08:48.497301",
     "status": "completed"
    },
    "tags": []
   },
   "outputs": [],
   "source": [
    "# Imports\n",
    "import os\n",
    "from IPython.display import Markdown, display\n",
    "from tqdm.notebook import tqdm\n",
    "import warnings\n",
    "from PIL import Image \n",
    "\n",
    "# requires arxiv_on_deck_2\n",
    "\n",
    "from arxiv_on_deck_2.arxiv2 import (get_new_papers, \n",
    "                                    get_paper_from_identifier,\n",
    "                                    retrieve_document_source, \n",
    "                                    get_markdown_badge)\n",
    "from arxiv_on_deck_2 import (latex,\n",
    "                             latex_bib,\n",
    "                             mpia,\n",
    "                             highlight_authors_in_list)\n",
    "\n",
    "# Sometimes images are really big\n",
    "Image.MAX_IMAGE_PIXELS = 1000000000 "
   ]
  },
  {
   "cell_type": "code",
   "execution_count": 2,
   "id": "22aa9d44",
   "metadata": {
    "execution": {
     "iopub.execute_input": "2024-06-13T04:08:48.921696Z",
     "iopub.status.busy": "2024-06-13T04:08:48.921251Z",
     "iopub.status.idle": "2024-06-13T04:08:48.926247Z",
     "shell.execute_reply": "2024-06-13T04:08:48.925726Z"
    },
    "papermill": {
     "duration": 0.009952,
     "end_time": "2024-06-13T04:08:48.927563",
     "exception": false,
     "start_time": "2024-06-13T04:08:48.917611",
     "status": "completed"
    },
    "tags": []
   },
   "outputs": [],
   "source": [
    "# Some useful definitions.\n",
    "\n",
    "class AffiliationWarning(UserWarning):\n",
    "    pass\n",
    "\n",
    "class AffiliationError(RuntimeError):\n",
    "    pass\n",
    "\n",
    "def validation(source: str):\n",
    "    \"\"\"Raises error paper during parsing of source file\n",
    "    \n",
    "    Allows checks before parsing TeX code.\n",
    "    \n",
    "    Raises AffiliationWarning\n",
    "    \"\"\"\n",
    "    check = mpia.affiliation_verifications(source, verbose=True)\n",
    "    if check is not True:\n",
    "        raise AffiliationError(\"mpia.affiliation_verifications: \" + check)\n",
    "\n",
    "        \n",
    "warnings.simplefilter('always', AffiliationWarning)\n",
    "\n",
    "\n",
    "def get_markdown_qrcode(paper_id: str):\n",
    "    \"\"\" Generate a qrcode to the arxiv page using qrserver.com\n",
    "    \n",
    "    :param paper: Arxiv paper\n",
    "    :returns: markdown text\n",
    "    \"\"\"\n",
    "    url = r\"https://api.qrserver.com/v1/create-qr-code/?size=100x100&data=\"\n",
    "    txt = f\"\"\"<img src={url}\"https://arxiv.org/abs/{paper_id}\">\"\"\"\n",
    "    txt = '<div id=\"qrcode\">' + txt + '</div>'\n",
    "    return txt"
   ]
  },
  {
   "cell_type": "markdown",
   "id": "14bd6310",
   "metadata": {
    "papermill": {
     "duration": 0.002796,
     "end_time": "2024-06-13T04:08:48.933271",
     "exception": false,
     "start_time": "2024-06-13T04:08:48.930475",
     "status": "completed"
    },
    "tags": []
   },
   "source": [
    "## get list of arxiv paper candidates\n",
    "\n",
    "We use the MPIA mitarbeiter list webpage from mpia.de to get author names\n",
    "We then get all new papers from Arxiv and match authors"
   ]
  },
  {
   "cell_type": "code",
   "execution_count": 3,
   "id": "7ea813a8",
   "metadata": {
    "execution": {
     "iopub.execute_input": "2024-06-13T04:08:48.939866Z",
     "iopub.status.busy": "2024-06-13T04:08:48.939667Z",
     "iopub.status.idle": "2024-06-13T04:09:06.226266Z",
     "shell.execute_reply": "2024-06-13T04:09:06.225639Z"
    },
    "papermill": {
     "duration": 17.291717,
     "end_time": "2024-06-13T04:09:06.227883",
     "exception": false,
     "start_time": "2024-06-13T04:08:48.936166",
     "status": "completed"
    },
    "tags": []
   },
   "outputs": [],
   "source": [
    "# deal with the author list and edge cases of people that cannot be consistent on their name  \n",
    "\n",
    "def filter_non_scientists(name: str) -> bool:\n",
    "    \"\"\" Loose filter on expected authorships\n",
    "\n",
    "    removing IT, administration, technical staff\n",
    "    :param name: name\n",
    "    :returns: False if name is not a scientist\n",
    "    \"\"\"\n",
    "    remove_list = ['Wolf', 'Licht', 'Binroth', 'Witzel', 'Jordan',\n",
    "                   'Zähringer', 'Scheerer', 'Hoffmann', 'Düe',\n",
    "                   'Hellmich', 'Enkler-Scharpegge', 'Witte-Nguy',\n",
    "                   'Dehen', 'Beckmann', 'Jager', 'Jäger'\n",
    "                  ]\n",
    "\n",
    "    for k in remove_list:\n",
    "        if k in name:\n",
    "            return False\n",
    "    return True\n",
    "\n",
    "def add_author_to_list(author_list: list) -> list:\n",
    "    \"\"\" Add author to list if not already in list\n",
    "    \n",
    "    :param author: author name\n",
    "    :param author_list: list of authors\n",
    "    :returns: updated list of authors\n",
    "    \"\"\"\n",
    "    add_list = ['T. Henning']\n",
    "\n",
    "    for author in add_list:\n",
    "        if author not in author_list:\n",
    "            author_list.append(author)\n",
    "    return author_list\n",
    "\n",
    "# get list from MPIA website\n",
    "# filter for non-scientists (mpia.get_mpia_mitarbeiter_list() does some filtering)\n",
    "mpia_authors = [k[1] for k in mpia.get_mpia_mitarbeiter_list() if filter_non_scientists(k[1])]\n",
    "# add some missing author because of inconsistencies in their MPIA name and author name on papers\n",
    "mpia_authors = add_author_to_list(mpia_authors)"
   ]
  },
  {
   "cell_type": "code",
   "execution_count": 4,
   "id": "2645e73a",
   "metadata": {
    "execution": {
     "iopub.execute_input": "2024-06-13T04:09:06.235336Z",
     "iopub.status.busy": "2024-06-13T04:09:06.234889Z",
     "iopub.status.idle": "2024-06-13T04:09:06.982787Z",
     "shell.execute_reply": "2024-06-13T04:09:06.982151Z"
    },
    "papermill": {
     "duration": 0.753023,
     "end_time": "2024-06-13T04:09:06.984117",
     "exception": false,
     "start_time": "2024-06-13T04:09:06.231094",
     "status": "completed"
    },
    "tags": []
   },
   "outputs": [
    {
     "name": "stdout",
     "output_type": "stream",
     "text": [
      "E. Bañados  ->  E. Bañados  |  ['E. Bañados']\n",
      "S. Belladitta  ->  S. Belladitta  |  ['S. Belladitta']\n",
      "F. Walter  ->  F. Walter  |  ['F. Walter']\n",
      "A. Kospal  ->  A. Kospal  |  ['A. Kospal']\n",
      "X. Zhang  ->  X. Zhang  |  ['X. Zhang']\n"
     ]
    },
    {
     "name": "stdout",
     "output_type": "stream",
     "text": [
      "Arxiv has 64 new papers today\n",
      "          3 with possible author matches\n"
     ]
    }
   ],
   "source": [
    "new_papers = get_new_papers()\n",
    "# add manual references\n",
    "add_paper_refs = []\n",
    "new_papers.extend([get_paper_from_identifier(k) for k in add_paper_refs])\n",
    "\n",
    "candidates = []\n",
    "for paperk in new_papers:\n",
    "    # Check author list with their initials\n",
    "    normed_author_list = [mpia.get_initials(k) for k in paperk['authors']]\n",
    "    hl_authors = highlight_authors_in_list(normed_author_list, mpia_authors, verbose=True)\n",
    "    matches = [(hl, orig) for hl, orig in zip(hl_authors, paperk['authors']) if 'mark' in hl]\n",
    "    paperk['authors'] = hl_authors\n",
    "    if matches:\n",
    "        # only select paper if an author matched our list\n",
    "        candidates.append(paperk)\n",
    "print(\"\"\"Arxiv has {0:,d} new papers today\"\"\".format(len(new_papers)))        \n",
    "print(\"\"\"          {0:,d} with possible author matches\"\"\".format(len(candidates)))"
   ]
  },
  {
   "cell_type": "markdown",
   "id": "3543b34a",
   "metadata": {
    "papermill": {
     "duration": 0.003036,
     "end_time": "2024-06-13T04:09:06.990552",
     "exception": false,
     "start_time": "2024-06-13T04:09:06.987516",
     "status": "completed"
    },
    "tags": []
   },
   "source": [
    "# Parse sources and generate relevant outputs\n",
    "\n",
    "From the candidates, we do the following steps:\n",
    "* get their tarball from ArXiv (and extract data)\n",
    "* find the main .tex file: find one with \\documentclass{...} (sometimes it's non trivial)\n",
    "* Check affiliations with :func:`validation`, which uses :func:`mpia.affiliation_verifications`\n",
    "* If passing the affiliations: we parse the .tex source\n",
    "   * inject sub-documents into the main (flatten the main document)\n",
    "   * parse structure, extract information (title, abstract, authors, figures...)\n",
    "   * handles `\\graphicspath` if provided\n",
    "* Generate the .md document."
   ]
  },
  {
   "cell_type": "code",
   "execution_count": 5,
   "id": "9576b79e",
   "metadata": {
    "execution": {
     "iopub.execute_input": "2024-06-13T04:09:06.997790Z",
     "iopub.status.busy": "2024-06-13T04:09:06.997407Z",
     "iopub.status.idle": "2024-06-13T04:10:18.880721Z",
     "shell.execute_reply": "2024-06-13T04:10:18.879959Z"
    },
    "papermill": {
     "duration": 71.889283,
     "end_time": "2024-06-13T04:10:18.882872",
     "exception": false,
     "start_time": "2024-06-13T04:09:06.993589",
     "status": "completed"
    },
    "scrolled": false,
    "tags": []
   },
   "outputs": [
    {
     "data": {
      "application/vnd.jupyter.widget-view+json": {
       "model_id": "d50303f445e94a3080fef607b0796279",
       "version_major": 2,
       "version_minor": 0
      },
      "text/plain": [
       "  0%|          | 0/3 [00:00<?, ?it/s]"
      ]
     },
     "metadata": {},
     "output_type": "display_data"
    },
    {
     "name": "stdout",
     "output_type": "stream",
     "text": [
      "Retrieving document from  https://arxiv.org/e-print/2406.07612\n"
     ]
    },
    {
     "name": "stdout",
     "output_type": "stream",
     "text": [
      "extracting tarball to tmp_2406.07612..."
     ]
    },
    {
     "name": "stdout",
     "output_type": "stream",
     "text": [
      " done.\n"
     ]
    },
    {
     "name": "stdout",
     "output_type": "stream",
     "text": [
      "Found 108 bibliographic references in tmp_2406.07612/main.bbl.\n",
      "Retrieving document from  https://arxiv.org/e-print/2406.07689\n",
      "extracting tarball to tmp_2406.07689..."
     ]
    },
    {
     "name": "stdout",
     "output_type": "stream",
     "text": [
      " done.\n"
     ]
    },
    {
     "name": "stdout",
     "output_type": "stream",
     "text": [
      "Found 150 bibliographic references in tmp_2406.07689/example.bbl.\n",
      "Retrieving document from  https://arxiv.org/e-print/2406.07896\n"
     ]
    },
    {
     "name": "stdout",
     "output_type": "stream",
     "text": [
      "extracting tarball to tmp_2406.07896... done.\n"
     ]
    }
   ],
   "source": [
    "documents = []\n",
    "failed = []\n",
    "for paper in tqdm(candidates):\n",
    "    # debug crap\n",
    "    paper['identifier'] = paper['identifier'].lower().replace('arxiv:', '').replace(r'\\n', '').strip()\n",
    "    paper_id = paper['identifier']\n",
    "    \n",
    "    folder = f'tmp_{paper_id}'\n",
    "\n",
    "    try:\n",
    "        if not os.path.isdir(folder):\n",
    "            folder = retrieve_document_source(f\"{paper_id}\", f'tmp_{paper_id}')\n",
    "        \n",
    "        try:\n",
    "            doc = latex.LatexDocument(folder, validation=validation)    \n",
    "        except AffiliationError as affilerror:\n",
    "            msg = f\"ArXiv:{paper_id:s} is not an MPIA paper... \" + str(affilerror)\n",
    "            failed.append((paper, \"affiliation error: \" + str(affilerror) ))\n",
    "            continue\n",
    "        \n",
    "        # Hack because sometimes author parsing does not work well\n",
    "        if (len(doc.authors) != len(paper['authors'])):\n",
    "            doc._authors = paper['authors']\n",
    "        else:\n",
    "            # highlight authors (FIXME: doc.highlight_authors)\n",
    "            # done on arxiv paper already\n",
    "            doc._authors = highlight_authors_in_list(\n",
    "                [mpia.get_initials(k) for k in doc.authors], \n",
    "                mpia_authors, verbose=True)\n",
    "        if (doc.abstract) in (None, ''):\n",
    "            doc._abstract = paper['abstract']\n",
    "            \n",
    "        doc.comment = (get_markdown_badge(paper_id) + \n",
    "                       \"<mark>Appeared on: \" + paper['date'] + \"</mark> - \")\n",
    "        if paper['comments']:\n",
    "            doc.comment += \" _\" + paper['comments'] + \"_\"\n",
    "        \n",
    "        full_md = doc.generate_markdown_text()\n",
    "        \n",
    "        full_md += get_markdown_qrcode(paper_id)\n",
    "        \n",
    "        # replace citations\n",
    "        try:\n",
    "            bibdata = latex_bib.LatexBib.from_doc(doc)\n",
    "            full_md = latex_bib.replace_citations(full_md, bibdata)\n",
    "        except Exception as e:\n",
    "            print(e)\n",
    "        \n",
    "        documents.append((paper_id, full_md))\n",
    "    except Exception as e:\n",
    "        warnings.warn(latex.LatexWarning(f\"{paper_id:s} did not run properly\\n\" +\n",
    "                                         str(e)\n",
    "                                        ))\n",
    "        failed.append((paper, \"latex error \" + str(e)))"
   ]
  },
  {
   "cell_type": "markdown",
   "id": "2505a25c",
   "metadata": {
    "papermill": {
     "duration": 0.003469,
     "end_time": "2024-06-13T04:10:18.890095",
     "exception": false,
     "start_time": "2024-06-13T04:10:18.886626",
     "status": "completed"
    },
    "tags": []
   },
   "source": [
    "### Export the logs\n",
    "\n",
    "Throughout, we also keep track of the logs per paper. see `logs-{today date}.md` "
   ]
  },
  {
   "cell_type": "code",
   "execution_count": 6,
   "id": "d733828a",
   "metadata": {
    "execution": {
     "iopub.execute_input": "2024-06-13T04:10:18.898025Z",
     "iopub.status.busy": "2024-06-13T04:10:18.897810Z",
     "iopub.status.idle": "2024-06-13T04:10:18.911747Z",
     "shell.execute_reply": "2024-06-13T04:10:18.911135Z"
    },
    "papermill": {
     "duration": 0.019458,
     "end_time": "2024-06-13T04:10:18.913069",
     "exception": false,
     "start_time": "2024-06-13T04:10:18.893611",
     "status": "completed"
    },
    "scrolled": false,
    "tags": []
   },
   "outputs": [
    {
     "data": {
      "text/markdown": [
       "## Successful papers"
      ],
      "text/plain": [
       "<IPython.core.display.Markdown object>"
      ]
     },
     "metadata": {},
     "output_type": "display_data"
    },
    {
     "data": {
      "text/markdown": [
       "\n",
       "|||\n",
       "|---:|:---|\n",
       "| [![arXiv](https://img.shields.io/badge/arXiv-2406.07612-b31b1b.svg)](https://arxiv.org/abs/2406.07612) | **Optical and near-infrared spectroscopy of quasars at $z>6.5$: public data release and composite spectrum**  |\n",
       "|| S. Onorato, et al. -- incl., <mark>E. Bañados</mark>, <mark>S. Belladitta</mark>, <mark>F. Walter</mark> |\n",
       "|*Appeared on*| *2024-06-13*|\n",
       "|*Comments*| *18 pages, 10 figures, submitted to MNRAS*|\n",
       "|**Abstract**|            We present optical and near-infrared (NIR) spectroscopic observations for a sample of $45$ quasars at $6.50 < z \\leq 7.64$ with absolute magnitudes at $1450$ Å in the range $-28.82 \\leq M_{1450} \\leq -24.13$ and their composite spectrum. The median redshift and $M_{1450}$ of the quasars in the sample are $z_{\\rm{median}}=6.71$ and $M_{1450,\\rm{median}} \\simeq -26.1$, respectively. The NIR spectra are taken with echelle spectrographs, complemented with additional data from optical long slit instruments, and then reduced consistently using the open-source Python-based spectroscopic data reduction pipeline PypeIt. The median value of the mean signal-to-noise ratios of the spectra in J, H, and K band (median $\\langle \\rm{SNR}_{\\lambda} \\rangle$) is: median $\\langle \\rm{SNR}_{J} \\rangle=9.7$, median $\\langle \\rm{SNR}_{H} \\rangle=10.3$, and median $\\langle \\rm{SNR}_{K} \\rangle=11.7$; demonstrating the good data quality. This work presents the largest medium/moderate-resolution sample of quasars at $z>6.5$ from ground-based instruments. Its homogeneity and reproducibility make it ideally suited for several scientific goals, i.e., the study of the quasar proximity zones and damping wings, the Ly$\\alpha$ forest, the intergalactic medium's metal content, as well as other properties such as the distribution of SMBH masses and Eddington ratios. Our composite spectrum is compared to others at both high and low-$z$ from the literature, showing differences in the strengths of many emission lines, probably due to differences in luminosity among the samples, but a consistent continuum slope, which proves that the same spectral features are preserved in quasars at different redshift ranges.         |"
      ],
      "text/plain": [
       "[2406.07612] Optical and near-infrared spectroscopy of quasars at $z>6.5$: public data release and composite spectrum\n",
       "\tS. Onorato, et al. -- incl., <mark>E. Bañados</mark>, <mark>S. Belladitta</mark>, <mark>F. Walter</mark>"
      ]
     },
     "metadata": {},
     "output_type": "display_data"
    },
    {
     "data": {
      "text/markdown": [
       "\n",
       "|||\n",
       "|---:|:---|\n",
       "| [![arXiv](https://img.shields.io/badge/arXiv-2406.07689-b31b1b.svg)](https://arxiv.org/abs/2406.07689) | **Evidence for Non-zero Turbulence in the Protoplanetary disc around IM Lup**  |\n",
       "|| K. Flaherty, et al. -- incl., <mark>A. Kospal</mark> |\n",
       "|*Appeared on*| *2024-06-13*|\n",
       "|*Comments*| *Accepted by MNRAS, 17 pages, 12 figures*|\n",
       "|**Abstract**|            The amount of turbulence in protoplanetary discs around young stars is critical for determining the efficiency, timeline, and outcomes of planet formation. It is also difficult to measure. Observations are still limited, but direct measurements of the non-thermal, turbulent gas motion are possible with the Atacama Large Millimeter/submillimeter Array (ALMA). Using CO(2-1)/$^{13}$CO(2-1)/C$^{18}$O(2-1) ALMA observations of the disc around IM Lup at ~0.4\" (~60 au) resolution we find evidence of significant turbulence, at the level of $\\delta v_{\\rm turb}=(0.18-0.30)$c$_s$. This result is robust against systematic uncertainties (e.g., amplitude flux calibration, midplane gas temperature, disc self-gravity). We find that gravito-turbulence as the source of the gas motion is unlikely based on the lack of an imprint on the rotation curve from a massive disc, while magneto-rotational instabilities and hydrodynamic instabilities are still possible, depending on the unknown magnetic field strength and the cooling timescale in the outer disc.         |"
      ],
      "text/plain": [
       "[2406.07689] Evidence for Non-zero Turbulence in the Protoplanetary disc around IM Lup\n",
       "\tK. Flaherty, et al. -- incl., <mark>A. Kospal</mark>"
      ]
     },
     "metadata": {},
     "output_type": "display_data"
    },
    {
     "data": {
      "text/markdown": [
       "## Failed papers"
      ],
      "text/plain": [
       "<IPython.core.display.Markdown object>"
      ]
     },
     "metadata": {},
     "output_type": "display_data"
    },
    {
     "data": {
      "text/markdown": [
       "\n",
       "|||\n",
       "|---:|:---|\n",
       "| [![arXiv](https://img.shields.io/badge/arXiv-2406.07896-b31b1b.svg)](https://arxiv.org/abs/2406.07896) | **Investigating Sulfur Chemistry in the HD 163296 disk**  |\n",
       "|| R. Ma, et al. -- incl., <mark>X. Zhang</mark> |\n",
       "|*Appeared on*| *2024-06-13*|\n",
       "|*Comments*| *16 pages, 7 figures*|\n",
       "|**Abstract**|            Sulfur chemistry in the formation process of low-mass stars and planets remains poorly understood. The protoplanetary disks (PPDs) are the birthplace of planets and its distinctive environment provides an intriguing platform for investigating models of sulfur chemistry. We analyzed the ALMA observations of CS 7-6 transitions in the HD 163296 disk and perform astrochemical modeling to explore its sulfur chemistry. We simulated the distribution of sulfur-containing molecules and compared it with observationally deduced fractional column densities. We have found that the simulated column density of CS is consistent with the observationally deduced fractional column densities, while the simulated column density of C$_2$S is lower than the observationally deduced upper limits on column densities. This results indicate that we have a good understanding of the chemical properties of CS and C$_2$S in the disk. We also investigated the influence of the C/O ratio on sulfur-containing molecules and found that the column densities of SO, SO$_2$, and H$_2$S near the central star are dependent on the C/O ratio. Additionally, we found that the $N$[CS]/$N$[SO] ratio can serve as a promising indicator of the disk's C/O ratio in the HD 163296. Overall, the disk of HD 163296 provides a favorable environment for the detection of sulfur-containing molecules.         |\n",
       "|<p style=\"color:green\"> **ERROR** </p>| <p style=\"color:green\">affiliation error: mpia.affiliation_verifications: 'Heidelberg' keyword not found.</p> |"
      ],
      "text/plain": [
       "<IPython.core.display.Markdown object>"
      ]
     },
     "metadata": {},
     "output_type": "display_data"
    }
   ],
   "source": [
    "import datetime\n",
    "today = str(datetime.date.today())\n",
    "logfile = f\"_build/html/logs/log-{today}.md\"\n",
    "\n",
    "\n",
    "with open(logfile, 'w') as logs:\n",
    "    # Success\n",
    "    logs.write(f'# Arxiv on Deck 2: Logs - {today}\\n\\n')\n",
    "    logs.write(\"\"\"* Arxiv had {0:,d} new papers\\n\"\"\".format(len(new_papers)))\n",
    "    logs.write(\"\"\"    * {0:,d} with possible author matches\\n\\n\"\"\".format(len(candidates)))\n",
    "    logs.write(\"## Sucessful papers\\n\\n\")\n",
    "    display(Markdown(\"## Successful papers\"))\n",
    "    success = [k[0] for k in documents]\n",
    "    for candid in candidates:\n",
    "        if candid['identifier'].split(':')[-1] in success:\n",
    "            display(candid)\n",
    "            logs.write(candid.generate_markdown_text() + '\\n\\n')\n",
    "\n",
    "    ## failed\n",
    "    logs.write(\"## Failed papers\\n\\n\")\n",
    "    display(Markdown(\"## Failed papers\"))\n",
    "    failed = sorted(failed, key=lambda x: x[1])\n",
    "    current_reason = \"\"\n",
    "    for paper, reason in failed:\n",
    "        if 'affiliation' in reason:\n",
    "            color = 'green'\n",
    "        else:\n",
    "            color = 'red'\n",
    "        data = Markdown(\n",
    "                paper.generate_markdown_text() + \n",
    "                f'\\n|<p style=\"color:{color:s}\"> **ERROR** </p>| <p style=\"color:{color:s}\">{reason:s}</p> |'\n",
    "               )\n",
    "        if reason != current_reason:\n",
    "            logs.write(f'### {reason:s} \\n\\n')\n",
    "            current_reason = reason\n",
    "        logs.write(data.data + '\\n\\n')\n",
    "        \n",
    "        # only display here the important errors (all in logs)\n",
    "        # if color in ('red',):\n",
    "        display(data)"
   ]
  },
  {
   "cell_type": "markdown",
   "id": "472d20ee",
   "metadata": {
    "papermill": {
     "duration": 0.003969,
     "end_time": "2024-06-13T04:10:18.921071",
     "exception": false,
     "start_time": "2024-06-13T04:10:18.917102",
     "status": "completed"
    },
    "tags": []
   },
   "source": [
    "## Export documents\n",
    "\n",
    "We now write the .md files and export relevant images"
   ]
  },
  {
   "cell_type": "code",
   "execution_count": 7,
   "id": "d426aed9",
   "metadata": {
    "execution": {
     "iopub.execute_input": "2024-06-13T04:10:18.930029Z",
     "iopub.status.busy": "2024-06-13T04:10:18.929660Z",
     "iopub.status.idle": "2024-06-13T04:10:18.935775Z",
     "shell.execute_reply": "2024-06-13T04:10:18.935239Z"
    },
    "papermill": {
     "duration": 0.011999,
     "end_time": "2024-06-13T04:10:18.937027",
     "exception": false,
     "start_time": "2024-06-13T04:10:18.925028",
     "status": "completed"
    },
    "tags": []
   },
   "outputs": [],
   "source": [
    "def export_markdown_summary(md: str, md_fname:str, directory: str):\n",
    "    \"\"\"Export MD document and associated relevant images\"\"\"\n",
    "    import os\n",
    "    import shutil\n",
    "    import re\n",
    "\n",
    "    if (os.path.exists(directory) and not os.path.isdir(directory)):\n",
    "        raise RuntimeError(f\"a non-directory file exists with name {directory:s}\")\n",
    "\n",
    "    if (not os.path.exists(directory)):\n",
    "        print(f\"creating directory {directory:s}\")\n",
    "        os.mkdir(directory)\n",
    "\n",
    "    fig_fnames = (re.compile(r'\\[Fig.*\\]\\((.*)\\)').findall(md) + \n",
    "                  re.compile(r'\\<img src=\"([^>\\s]*)\"[^>]*/>').findall(md))\n",
    "    for fname in fig_fnames:\n",
    "        if 'http' in fname:\n",
    "            # No need to copy online figures\n",
    "            continue\n",
    "        destdir = os.path.join(directory, os.path.dirname(fname))\n",
    "        destfname = os.path.join(destdir, os.path.basename(fname))\n",
    "        try:\n",
    "            os.makedirs(destdir)\n",
    "        except FileExistsError:\n",
    "            pass\n",
    "        shutil.copy(fname, destfname)\n",
    "    with open(os.path.join(directory, md_fname), 'w') as fout:\n",
    "        fout.write(md)\n",
    "    print(\"exported in \", os.path.join(directory, md_fname))\n",
    "    [print(\"    + \" + os.path.join(directory,fk)) for fk in fig_fnames]"
   ]
  },
  {
   "cell_type": "code",
   "execution_count": 8,
   "id": "014d04a4",
   "metadata": {
    "execution": {
     "iopub.execute_input": "2024-06-13T04:10:18.946019Z",
     "iopub.status.busy": "2024-06-13T04:10:18.945663Z",
     "iopub.status.idle": "2024-06-13T04:10:18.955502Z",
     "shell.execute_reply": "2024-06-13T04:10:18.954981Z"
    },
    "papermill": {
     "duration": 0.015823,
     "end_time": "2024-06-13T04:10:18.956868",
     "exception": false,
     "start_time": "2024-06-13T04:10:18.941045",
     "status": "completed"
    },
    "tags": []
   },
   "outputs": [
    {
     "name": "stdout",
     "output_type": "stream",
     "text": [
      "exported in  _build/html/2406.07612.md\n",
      "    + _build/html/tmp_2406.07612/./figures/composite_spectrum_new_1450.png\n",
      "    + _build/html/tmp_2406.07612/./figures/J-Mag-z_plot_hist.png\n",
      "    + _build/html/tmp_2406.07612/./figures/J0910_bal-composite_2000-0.30.png\n",
      "    + _build/html/tmp_2406.07612/./figures/J0923_bal-composite_2000-0.80.png\n",
      "exported in  _build/html/2406.07689.md\n",
      "    + _build/html/tmp_2406.07689/figures/Temp_Z_fiducial.png\n",
      "    + _build/html/tmp_2406.07689/figures/imspec+noturb.png\n",
      "    + _build/html/tmp_2406.07689/figures/HR_alpha.png\n"
     ]
    }
   ],
   "source": [
    "for paper_id, md in documents:\n",
    "    export_markdown_summary(md, f\"{paper_id:s}.md\", '_build/html/')"
   ]
  },
  {
   "cell_type": "markdown",
   "id": "f087a0a7",
   "metadata": {
    "papermill": {
     "duration": 0.004005,
     "end_time": "2024-06-13T04:10:18.964992",
     "exception": false,
     "start_time": "2024-06-13T04:10:18.960987",
     "status": "completed"
    },
    "tags": []
   },
   "source": [
    "## Display the papers\n",
    "\n",
    "Not necessary but allows for a quick check."
   ]
  },
  {
   "cell_type": "code",
   "execution_count": 9,
   "id": "fd25f625",
   "metadata": {
    "execution": {
     "iopub.execute_input": "2024-06-13T04:10:18.974166Z",
     "iopub.status.busy": "2024-06-13T04:10:18.973788Z",
     "iopub.status.idle": "2024-06-13T04:10:18.979693Z",
     "shell.execute_reply": "2024-06-13T04:10:18.979043Z"
    },
    "papermill": {
     "duration": 0.011923,
     "end_time": "2024-06-13T04:10:18.980989",
     "exception": false,
     "start_time": "2024-06-13T04:10:18.969066",
     "status": "completed"
    },
    "scrolled": false,
    "tags": []
   },
   "outputs": [
    {
     "data": {
      "text/markdown": [
       "<div class=\"macros\" style=\"visibility:hidden;\">\n",
       "$\\newcommand{\\ensuremath}{}$\n",
       "$\\newcommand{\\xspace}{}$\n",
       "$\\newcommand{\\object}[1]{\\texttt{#1}}$\n",
       "$\\newcommand{\\farcs}{{.}''}$\n",
       "$\\newcommand{\\farcm}{{.}'}$\n",
       "$\\newcommand{\\arcsec}{''}$\n",
       "$\\newcommand{\\arcmin}{'}$\n",
       "$\\newcommand{\\ion}[2]{#1#2}$\n",
       "$\\newcommand{\\textsc}[1]{\\textrm{#1}}$\n",
       "$\\newcommand{\\hl}[1]{\\textrm{#1}}$\n",
       "$\\newcommand{\\footnote}[1]{}$\n",
       "$\\newcommand{\\angstrom}{\\textup{Å}}$\n",
       "$\\newcommand{\\thebibliography}{\\DeclareRobustCommand{\\VAN}[3]{##3}\\VANthebibliography}$</div>\n",
       "\n",
       "\n",
       "\n",
       "<div id=\"title\">\n",
       "\n",
       "# Optical and near-infrared spectroscopy of quasars at $z>6.5$: public data release and composite spectrum\n",
       "\n",
       "</div>\n",
       "<div id=\"comments\">\n",
       "\n",
       "[![arXiv](https://img.shields.io/badge/arXiv-2406.07612-b31b1b.svg)](https://arxiv.org/abs/2406.07612)<mark>Appeared on: 2024-06-13</mark> -  _18 pages, 10 figures, submitted to MNRAS_\n",
       "\n",
       "</div>\n",
       "<div id=\"authors\">\n",
       "\n",
       "S. Onorato, et al. -- incl., <mark>E. Bañados</mark>, <mark>S. Belladitta</mark>, <mark>F. Walter</mark>\n",
       "\n",
       "</div>\n",
       "<div id=\"abstract\">\n",
       "\n",
       "**Abstract:** We present optical and near-infrared (NIR) spectroscopic observations for a sample of $45$ quasars at $6.50 < z \\leq 7.64$ with absolute magnitudes at $1450$ ${\\angstrom}$ in the range $-28.82 \\leq M_{1450} \\leq -24.13$ and their composite spectrum. The median redshift and $M_{1450}$ of the quasars in the sample are $z_{\\rm{median}}=6.71$ and $M_{1450,\\rm{median}} \\simeq -26.1$ , respectively.The NIR spectra are taken with echelle spectrographs, complemented with additional data from optical long slit instruments, and then reduced consistently using the open-source Python-based spectroscopic data reduction pipeline \\texttt{PypeIt} . The median value of the mean signal-to-noise ratios of the spectra in J, H, and K band (median $\\langle \\rm{SNR}_{\\lambda} \\rangle$ ) is: median $\\langle \\rm{SNR}_{J} \\rangle=9.7$ , median $\\langle \\rm{SNR}_{H} \\rangle=10.3$ , and median $\\langle \\rm{SNR}_{K} \\rangle=11.7$ ; demonstrating the good data quality.This work presents the largest medium/moderate-resolution sample of quasars at $z>6.5$ from ground-based instruments. Its homogeneity and reproducibility make it ideally suited for several scientific goals, i.e., the study of the quasar proximity zones and damping wings, the Ly $\\alpha$ forest, the intergalactic medium's metal content, as well as other properties such as the distribution of SMBH masses and Eddington ratios. Our composite spectrum is compared to others at both high and low- $z$ from the literature, showing differences in the strengths of many emission lines, probably due to differences in luminosity among the samples, but a consistent continuum slope, which proves that the same spectral features are preserved in quasars at different redshift ranges.\n",
       "\n",
       "</div>\n",
       "\n",
       "<div id=\"div_fig1\">\n",
       "\n",
       "<img src=\"tmp_2406.07612/./figures/composite_spectrum_new_1450.png\" alt=\"Fig9\" width=\"100%\"/>\n",
       "\n",
       "**Figure 9. -** _Bottom panel_: Composite spectrum of the $33$ non-BAL quasars in the sample (black) with its noise vector (grey), compared with several other composites from the literature (colored curves). All the composites are normalized to the continuum flux at 1450 {$\\angstrom$}. The grey band for $\\lambda<1225${$\\angstrom$} highlights the mask-free region, where none of the masks described in the main text is applied. The main emission lines are shown as dashed blue lines. The inset panel shows a zoom-in of the region [1175, 1580]{$\\angstrom$}, where the composites differ more. _Middle panel_: Number of spectra that are contributing to the composite at each wavelength for this work and the only two available from the literature (same colors as in the bottom panel). _Top panel_: Mean redshift that contributes to the composite at each wavelength for this work. (*fig:composite*)\n",
       "\n",
       "</div>\n",
       "<div id=\"div_fig2\">\n",
       "\n",
       "<img src=\"tmp_2406.07612/./figures/J-Mag-z_plot_hist.png\" alt=\"Fig1\" width=\"100%\"/>\n",
       "\n",
       "**Figure 1. -** _Panel (a)_: Distribution of J-band photometry used to scale the spectra as a function of $z$ for all the $45$ quasars in this sample. The legend is unique and split between the two plots, showing the sources color-coded with decreasing $z$. The full symbol marks the quasars for which J-band photometry is available, while the open symbol marks those for which it is not (we report Y-band photometry for J1243$+$0100 and J0923$+$0753, and $\\rm{K_{p}}$-band photometry for J1058$+$2930). The error bars show the uncertainties on both $z$ and the photometric measurements. _Panel (b)_: Distribution of $M_{1450}$ as a function of $z$ for all the $45$ quasars in this sample. The error bars show the uncertainties on $z$. The circle marks the $M_{1450}$ computed from the spectrum scaled with J, Y, or $\\rm{K_{p}}$-band photometry. The star marks the quasars for what $M_{1450}$ from spectroscopy is not reliable because of the low SNR of the spectrum or appearance of BAL features. In the case of J1243$+$0100, $M_{1450}$ is from the discovery paper ( ([ and Matsuoka 2019](https://ui.adsabs.harvard.edu/abs/2019ApJ...872L...2M)) ); while for J0910$-$0414 and J0923$+$0402, we follow the method described in Appendix \\ref{app:bal}. _Panel (c)_: Histogram of the redshift distribution of the sample, with bins of size 0.05. The dashed red line represents the median redshift ($z_{\\rm{median}}=6.71$). _Panel (d)_: Histogram of the $M_{1450}$ distribution of the sample, with bins of size 0.2. The dashed red line represents the median $M_{1450}$($M_{1450,\\rm{median}} \\simeq -26.1$). (*fig:M1450*)\n",
       "\n",
       "</div>\n",
       "<div id=\"div_fig3\">\n",
       "\n",
       "<img src=\"tmp_2406.07612/./figures/J0910_bal-composite_2000-0.30.png\" alt=\"Fig4.1\" width=\"50%\"/><img src=\"tmp_2406.07612/./figures/J0923_bal-composite_2000-0.80.png\" alt=\"Fig4.2\" width=\"50%\"/>\n",
       "\n",
       "**Figure 4. -** _Top_: Match between the spectrum of J0910$-$0414 and the composite spectrum obtained from the sample excluding the BALs already corrected to get a better estimate of the $M_{1450}$. The spectrum of the BAL quasar is shown in blue, while the composite is in orange, with their noise vectors reported at the bottom of the plot. The back dashed line falls at $\\lambda=1450${$\\angstrom$} and the green dashed line is the normalization wavelength at $2000${$\\angstrom$}. The magenta star is the \"new\" continuum level assumed for the BAL quasar at $1450${$\\angstrom$}. _Bottom_: Same, but for J0923$+$0402. (*fig:matchbal*)\n",
       "\n",
       "</div><div id=\"qrcode\"><img src=https://api.qrserver.com/v1/create-qr-code/?size=100x100&data=\"https://arxiv.org/abs/2406.07612\"></div>"
      ],
      "text/plain": [
       "<IPython.core.display.Markdown object>"
      ]
     },
     "metadata": {},
     "output_type": "display_data"
    },
    {
     "data": {
      "text/markdown": [
       "<div class=\"macros\" style=\"visibility:hidden;\">\n",
       "$\\newcommand{\\ensuremath}{}$\n",
       "$\\newcommand{\\xspace}{}$\n",
       "$\\newcommand{\\object}[1]{\\texttt{#1}}$\n",
       "$\\newcommand{\\farcs}{{.}''}$\n",
       "$\\newcommand{\\farcm}{{.}'}$\n",
       "$\\newcommand{\\arcsec}{''}$\n",
       "$\\newcommand{\\arcmin}{'}$\n",
       "$\\newcommand{\\ion}[2]{#1#2}$\n",
       "$\\newcommand{\\textsc}[1]{\\textrm{#1}}$\n",
       "$\\newcommand{\\hl}[1]{\\textrm{#1}}$\n",
       "$\\newcommand{\\footnote}[1]{}$\n",
       "$\\newcommand{\\thebibliography}{\\DeclareRobustCommand{\\VAN}[3]{##3}\\VANthebibliography}$</div>\n",
       "\n",
       "\n",
       "\n",
       "<div id=\"title\">\n",
       "\n",
       "# Evidence for Non-zero Turbulence in the Protoplanetary disc around IM Lup\n",
       "\n",
       "</div>\n",
       "<div id=\"comments\">\n",
       "\n",
       "[![arXiv](https://img.shields.io/badge/arXiv-2406.07689-b31b1b.svg)](https://arxiv.org/abs/2406.07689)<mark>Appeared on: 2024-06-13</mark> -  _Accepted by MNRAS, 17 pages, 12 figures_\n",
       "\n",
       "</div>\n",
       "<div id=\"authors\">\n",
       "\n",
       "K. Flaherty, et al. -- incl., <mark>A. Kospal</mark>\n",
       "\n",
       "</div>\n",
       "<div id=\"abstract\">\n",
       "\n",
       "**Abstract:** The amount of turbulence in protoplanetary discs around young stars is critical for determining the efficiency, timeline, and outcomes of planet formation. It is also difficult to measure. Observations are still limited, but direct measurements of the non-thermal, turbulent gas motion are possible with the Atacama Large Millimeter/submillimeter Array (ALMA). Using CO(2--1)/ $^{13}$ CO(2--1)/C $^{18}$ O(2--1) ALMA observations of the disc around IM Lup at $\\sim0\\farcs4$ ( $\\sim$ 60 au) resolution we find evidence of significant turbulence, at the level of $\\delta v_{\\rm turb}=(0.18-0.30)$ $c_s$ . This result is robust against systematic uncertainties (e.g., amplitude flux calibration, midplane gas temperature, disc self-gravity). We find that gravito-turbulence as the source of the gas motion is unlikely based on the lack of an imprint on the rotation curve from a massive disc, while magneto-rotational instabilities and hydrodynamic instabilities are still possible, depending on the unknown magnetic field strength and the cooling timescale in the outer disc.\n",
       "\n",
       "</div>\n",
       "\n",
       "<div id=\"div_fig1\">\n",
       "\n",
       "<img src=\"tmp_2406.07689/figures/Temp_Z_fiducial.png\" alt=\"Fig2\" width=\"100%\"/>\n",
       "\n",
       "**Figure 2. -** Temperature (top panel) and height of the emitting region (bottom panel) vs radius for our fiducial model (red band) and as derived directly from the data by [ and Law (2021)](https://ui.adsabs.harvard.edu/abs/2021ApJS..257....4L)(points). In the top panel the dashed line indicates a CO freeze-out temperature of 19 K, while in the bottom panel the dashed line indicates the location of the CO condensation front in our fiducial model. The extended emitting height for CO(2--1) comes from the fact that we see both the near and far side of the disc; the top of this region is seen on the near side of the disc, while the bottom is seen on the far side of the disc. The red Gaussian indicates the beam size in the data we analyze.  (*figure:Temp_Z_fiducial*)\n",
       "\n",
       "</div>\n",
       "<div id=\"div_fig2\">\n",
       "\n",
       "<img src=\"tmp_2406.07689/figures/imspec+noturb.png\" alt=\"Fig1\" width=\"100%\"/>\n",
       "\n",
       "**Figure 1. -** CO(2--1) spectra of the disc around IM Lup (black line) and the median of the PDFs from the fiducial model (red dashed line). The region that is subject to absorption by the molecular cloud, and is excluded from the MCMC process, is marked with a grey band. Despite the limited spectral range, we are able to place strong constraints on the non-thermal linewidth ($\\delta v_{\\rm turb}$=0.237$^{+0.017}_{-0.012}$$c_s$), with a significantly better fit to the data than with zero turbulence (green dotted line).  (*figure:spec*)\n",
       "\n",
       "</div>\n",
       "<div id=\"div_fig3\">\n",
       "\n",
       "<img src=\"tmp_2406.07689/figures/HR_alpha.png\" alt=\"Fig4\" width=\"100%\"/>\n",
       "\n",
       "**Figure 4. -** (Top): Height of the scattered light surface, normalized to the radius, for the dust rings identified in the scattered light image from [ and Avenhaus (2018)](https://ui.adsabs.harvard.edu/abs/2018ApJ...863...44A)(black dots), along with models with different dust scale heights. Ratios of dust to gas scale height between 0.7 and 1.0 match the height of the scattered light rings.\n",
       "(Bottom): Constraints on $\\alpha$ based on the dust scale height, as a function of the Stokes number. The dark grey band is the constraint on turbulence from the CO observations with CO depletion. The constraint on $\\alpha$ from the dust scale height (solid line with arrows) is a lower limit given the asymptotic behavior of $\\alpha$ as $H_d$/$H_g$ approaches 1, and is consistent with the results from [Franceschi, et. al (2022)](https://ui.adsabs.harvard.edu/abs/2022arXiv221201291F), who simultaneously constrain $\\alpha$ and the maximum grain size. These constraints on the dust settling are also consistent with a decrease in the turbulence between the surface layers probed by CO, and the midplane probed by dust settling.  (*figure:HR_alpha*)\n",
       "\n",
       "</div><div id=\"qrcode\"><img src=https://api.qrserver.com/v1/create-qr-code/?size=100x100&data=\"https://arxiv.org/abs/2406.07689\"></div>"
      ],
      "text/plain": [
       "<IPython.core.display.Markdown object>"
      ]
     },
     "metadata": {},
     "output_type": "display_data"
    }
   ],
   "source": [
    "[display(Markdown(k[1])) for k in documents];"
   ]
  },
  {
   "cell_type": "markdown",
   "id": "873873a4",
   "metadata": {
    "papermill": {
     "duration": 0.004334,
     "end_time": "2024-06-13T04:10:18.989843",
     "exception": false,
     "start_time": "2024-06-13T04:10:18.985509",
     "status": "completed"
    },
    "tags": []
   },
   "source": [
    "# Create HTML index"
   ]
  },
  {
   "cell_type": "code",
   "execution_count": 10,
   "id": "cf665672",
   "metadata": {
    "execution": {
     "iopub.execute_input": "2024-06-13T04:10:18.999880Z",
     "iopub.status.busy": "2024-06-13T04:10:18.999362Z",
     "iopub.status.idle": "2024-06-13T04:10:19.006366Z",
     "shell.execute_reply": "2024-06-13T04:10:19.005838Z"
    },
    "papermill": {
     "duration": 0.013316,
     "end_time": "2024-06-13T04:10:19.007618",
     "exception": false,
     "start_time": "2024-06-13T04:10:18.994302",
     "status": "completed"
    },
    "tags": []
   },
   "outputs": [
    {
     "name": "stdout",
     "output_type": "stream",
     "text": [
      "94  publications files modified in the last 7 days.\n"
     ]
    }
   ],
   "source": [
    "from datetime import datetime, timedelta, timezone\n",
    "from glob import glob\n",
    "import os\n",
    "\n",
    "files = glob('_build/html/*.md')\n",
    "days = 7\n",
    "now = datetime.today()\n",
    "res = []\n",
    "for fk in files:\n",
    "    stat_result = os.stat(fk).st_ctime\n",
    "    modified = datetime.fromtimestamp(stat_result, tz=timezone.utc).replace(tzinfo=None)\n",
    "    delta = now.today() - modified\n",
    "    if delta <= timedelta(days=days):\n",
    "        res.append((delta.seconds, fk))\n",
    "res = [k[1] for k in reversed(sorted(res, key=lambda x:x[1]))]\n",
    "npub = len(res)\n",
    "print(len(res), f\" publications files modified in the last {days:d} days.\")\n",
    "# [ print('\\t', k) for k in res ];"
   ]
  },
  {
   "cell_type": "code",
   "execution_count": 11,
   "id": "015de740",
   "metadata": {
    "execution": {
     "iopub.execute_input": "2024-06-13T04:10:19.017815Z",
     "iopub.status.busy": "2024-06-13T04:10:19.017347Z",
     "iopub.status.idle": "2024-06-13T04:10:19.028710Z",
     "shell.execute_reply": "2024-06-13T04:10:19.028172Z"
    },
    "papermill": {
     "duration": 0.017789,
     "end_time": "2024-06-13T04:10:19.029959",
     "exception": false,
     "start_time": "2024-06-13T04:10:19.012170",
     "status": "completed"
    },
    "tags": []
   },
   "outputs": [
    {
     "name": "stdout",
     "output_type": "stream",
     "text": [
      "10  publications in the last 7 days.\n"
     ]
    }
   ],
   "source": [
    "import datetime\n",
    "from glob import glob\n",
    "\n",
    "def get_last_n_days(lst, days=1):\n",
    "    \"\"\" Get the documents from the last n days \"\"\"\n",
    "    sorted_lst = sorted(lst, key=lambda x: x[1], reverse=True)\n",
    "    for fname, date in sorted_lst:\n",
    "        if date >= str(datetime.date.today() - datetime.timedelta(days=days)):\n",
    "            yield fname\n",
    "\n",
    "def extract_appearance_dates(lst_file):\n",
    "    dates = []\n",
    "\n",
    "    def get_date(line):\n",
    "        return line\\\n",
    "            .split('Appeared on:')[-1]\\\n",
    "            .split('</mark>')[0].strip()\n",
    "\n",
    "    for fname in lst:\n",
    "        with open(fname, 'r') as f:\n",
    "            found_date = False\n",
    "            for line in f:\n",
    "                if not found_date:\n",
    "                    if \"Appeared on\" in line:\n",
    "                        found_date = True\n",
    "                        dates.append((fname, get_date(line)))\n",
    "                else:\n",
    "                    break\n",
    "    return dates\n",
    "\n",
    "from glob import glob\n",
    "lst = glob('_build/html/*md')\n",
    "days = 7\n",
    "dates = extract_appearance_dates(lst)\n",
    "res = list(get_last_n_days(dates, days))\n",
    "npub = len(res)\n",
    "print(len(res), f\" publications in the last {days:d} days.\")"
   ]
  },
  {
   "cell_type": "code",
   "execution_count": 12,
   "id": "52ca0208",
   "metadata": {
    "execution": {
     "iopub.execute_input": "2024-06-13T04:10:19.040252Z",
     "iopub.status.busy": "2024-06-13T04:10:19.039834Z",
     "iopub.status.idle": "2024-06-13T04:10:19.044636Z",
     "shell.execute_reply": "2024-06-13T04:10:19.044072Z"
    },
    "papermill": {
     "duration": 0.011421,
     "end_time": "2024-06-13T04:10:19.046000",
     "exception": false,
     "start_time": "2024-06-13T04:10:19.034579",
     "status": "completed"
    },
    "scrolled": false,
    "tags": []
   },
   "outputs": [],
   "source": [
    "def create_carousel(npub=4):\n",
    "    \"\"\" Generate the HTML code for a carousel with `npub` slides \"\"\"\n",
    "    carousel = [\"\"\"  <div class=\"carousel\" \"\"\",\n",
    "                \"\"\"       data-flickity='{ \"autoPlay\": 10000, \"adaptiveHeight\": true, \"resize\": true, \"wrapAround\": true, \"pauseAutoPlayOnHover\": true, \"groupCells\": 1 }' id=\"asyncTypeset\">\"\"\"\n",
    "                ]\n",
    "    \n",
    "    item_str = \"\"\"    <div class=\"carousel-cell\"> <div id=\"slide{k}\" class=\"md_view\">Content {k}</div> </div>\"\"\"\n",
    "    for k in range(1, npub + 1):\n",
    "        carousel.append(item_str.format(k=k))\n",
    "    carousel.append(\"  </div>\")\n",
    "    return '\\n'.join(carousel)\n",
    "\n",
    "def create_grid(npub=4):\n",
    "    \"\"\" Generate the HTML code for a flat grid with `npub` slides \"\"\"\n",
    "    grid = [\"\"\"  <div class=\"grid\"> \"\"\",\n",
    "                ]\n",
    "    \n",
    "    item_str = \"\"\"    <div class=\"grid-item\"> <div id=\"slide{k}\" class=\"md_view\">Content {k}</div> </div>\"\"\"\n",
    "    for k in range(1, npub + 1):\n",
    "        grid.append(item_str.format(k=k))\n",
    "    grid.append(\"  </div>\")\n",
    "    return '\\n'.join(grid)"
   ]
  },
  {
   "cell_type": "code",
   "execution_count": 13,
   "id": "a6eac5b6",
   "metadata": {
    "execution": {
     "iopub.execute_input": "2024-06-13T04:10:19.056247Z",
     "iopub.status.busy": "2024-06-13T04:10:19.056016Z",
     "iopub.status.idle": "2024-06-13T04:10:19.061078Z",
     "shell.execute_reply": "2024-06-13T04:10:19.060558Z"
    },
    "papermill": {
     "duration": 0.011728,
     "end_time": "2024-06-13T04:10:19.062367",
     "exception": false,
     "start_time": "2024-06-13T04:10:19.050639",
     "status": "completed"
    },
    "scrolled": false,
    "tags": []
   },
   "outputs": [],
   "source": [
    "carousel = create_carousel(npub)\n",
    "docs = ', '.join(['\"{0:s}\"'.format(k.split('/')[-1]) for k in res])\n",
    "slides = ', '.join([f'\"slide{k}\"' for k in range(1, npub + 1)])\n",
    "\n",
    "with open(\"daily_template.html\", \"r\") as tpl:\n",
    "    page = tpl.read()\n",
    "    page = page.replace(\"{%-- carousel:s --%}\", carousel)\\\n",
    "               .replace(\"{%-- suptitle:s --%}\",  \"7-day archives\" )\\\n",
    "               .replace(\"{%-- docs:s --%}\", docs)\\\n",
    "               .replace(\"{%-- slides:s --%}\", slides)\n",
    "    \n",
    "with open(\"_build/html/index_7days.html\", 'w') as fout:\n",
    "    fout.write(page)"
   ]
  },
  {
   "cell_type": "code",
   "execution_count": 14,
   "id": "adc1a1ec",
   "metadata": {
    "execution": {
     "iopub.execute_input": "2024-06-13T04:10:19.072745Z",
     "iopub.status.busy": "2024-06-13T04:10:19.072306Z",
     "iopub.status.idle": "2024-06-13T04:10:19.078547Z",
     "shell.execute_reply": "2024-06-13T04:10:19.077958Z"
    },
    "papermill": {
     "duration": 0.012834,
     "end_time": "2024-06-13T04:10:19.079851",
     "exception": false,
     "start_time": "2024-06-13T04:10:19.067017",
     "status": "completed"
    },
    "tags": []
   },
   "outputs": [
    {
     "name": "stdout",
     "output_type": "stream",
     "text": [
      "4  publications in the last day.\n"
     ]
    }
   ],
   "source": [
    "# redo for today\n",
    "days = 1\n",
    "res = list(get_last_n_days(dates, days))\n",
    "npub = len(res)\n",
    "print(len(res), f\" publications in the last day.\")\n",
    "\n",
    "carousel = create_carousel(npub)\n",
    "docs = ', '.join(['\"{0:s}\"'.format(k.split('/')[-1]) for k in res])\n",
    "slides = ', '.join([f'\"slide{k}\"' for k in range(1, npub + 1)])\n",
    "\n",
    "with open(\"daily_template.html\", \"r\") as tpl:\n",
    "    page = tpl.read()\n",
    "    page = page.replace(\"{%-- carousel:s --%}\", carousel)\\\n",
    "               .replace(\"{%-- suptitle:s --%}\",  \"Daily\" )\\\n",
    "               .replace(\"{%-- docs:s --%}\", docs)\\\n",
    "               .replace(\"{%-- slides:s --%}\", slides)\n",
    "    \n",
    "# print(carousel, docs, slides)\n",
    "# print(page)\n",
    "with open(\"_build/html/index_daily.html\", 'w') as fout:\n",
    "    fout.write(page)"
   ]
  },
  {
   "cell_type": "code",
   "execution_count": 15,
   "id": "00eece82",
   "metadata": {
    "execution": {
     "iopub.execute_input": "2024-06-13T04:10:19.090322Z",
     "iopub.status.busy": "2024-06-13T04:10:19.089927Z",
     "iopub.status.idle": "2024-06-13T04:10:19.096240Z",
     "shell.execute_reply": "2024-06-13T04:10:19.095571Z"
    },
    "papermill": {
     "duration": 0.013005,
     "end_time": "2024-06-13T04:10:19.097600",
     "exception": false,
     "start_time": "2024-06-13T04:10:19.084595",
     "status": "completed"
    },
    "scrolled": false,
    "tags": []
   },
   "outputs": [
    {
     "name": "stdout",
     "output_type": "stream",
     "text": [
      "6  6 publications selected.\n"
     ]
    }
   ],
   "source": [
    "# Create the flat grid of the last N papers (fixed number regardless of dates)\n",
    "from itertools import islice \n",
    "\n",
    "npub = 6\n",
    "res = [k[0] for k in (islice(reversed(sorted(dates, key=lambda x: x[1])), 6))]\n",
    "print(len(res), f\" {npub} publications selected.\")\n",
    "\n",
    "grid = create_grid(npub)\n",
    "docs = ', '.join(['\"{0:s}\"'.format(k.split('/')[-1]) for k in res])\n",
    "slides = ', '.join([f'\"slide{k}\"' for k in range(1, npub + 1)])\n",
    "\n",
    "with open(\"grid_template.html\", \"r\") as tpl:\n",
    "    page = tpl.read()\n",
    "    page = page.replace(\"{%-- grid-content:s --%}\", grid)\\\n",
    "               .replace(\"{%-- suptitle:s --%}\",  f\"Last {npub:,d} papers\" )\\\n",
    "               .replace(\"{%-- docs:s --%}\", docs)\\\n",
    "               .replace(\"{%-- slides:s --%}\", slides)\n",
    "    \n",
    "# print(grid, docs, slides)\n",
    "# print(page)\n",
    "with open(\"_build/html/index_npub_grid.html\", 'w') as fout:\n",
    "    fout.write(page)"
   ]
  }
 ],
 "metadata": {
  "kernelspec": {
   "display_name": "Python 3 (ipykernel)",
   "language": "python",
   "name": "python3"
  },
  "language_info": {
   "codemirror_mode": {
    "name": "ipython",
    "version": 3
   },
   "file_extension": ".py",
   "mimetype": "text/x-python",
   "name": "python",
   "nbconvert_exporter": "python",
   "pygments_lexer": "ipython3",
   "version": "3.9.19"
  },
  "papermill": {
   "default_parameters": {},
   "duration": 91.683564,
   "end_time": "2024-06-13T04:10:19.318459",
   "environment_variables": {},
   "exception": null,
   "input_path": "MPIA daily digest.ipynb",
   "output_path": "log.ipynb",
   "parameters": {},
   "start_time": "2024-06-13T04:08:47.634895",
   "version": "2.6.0"
  },
  "vscode": {
   "interpreter": {
    "hash": "aee8b7b246df8f9039afb4144a1f6fd8d2ca17a180786b69acc140d282b71a49"
   }
  },
  "widgets": {
   "application/vnd.jupyter.widget-state+json": {
    "state": {
     "0da81a78de75482d8e559fd9a9f3ca4f": {
      "model_module": "@jupyter-widgets/controls",
      "model_module_version": "2.0.0",
      "model_name": "HTMLStyleModel",
      "state": {
       "_model_module": "@jupyter-widgets/controls",
       "_model_module_version": "2.0.0",
       "_model_name": "HTMLStyleModel",
       "_view_count": null,
       "_view_module": "@jupyter-widgets/base",
       "_view_module_version": "2.0.0",
       "_view_name": "StyleView",
       "background": null,
       "description_width": "",
       "font_size": null,
       "text_color": null
      }
     },
     "18171605e10e413cbce56ac233aa8a08": {
      "model_module": "@jupyter-widgets/controls",
      "model_module_version": "2.0.0",
      "model_name": "HTMLModel",
      "state": {
       "_dom_classes": [],
       "_model_module": "@jupyter-widgets/controls",
       "_model_module_version": "2.0.0",
       "_model_name": "HTMLModel",
       "_view_count": null,
       "_view_module": "@jupyter-widgets/controls",
       "_view_module_version": "2.0.0",
       "_view_name": "HTMLView",
       "description": "",
       "description_allow_html": false,
       "layout": "IPY_MODEL_3cd9e0e7a0284a39a841add086e2c98f",
       "placeholder": "​",
       "style": "IPY_MODEL_73767405d57c4b51a07aa1c78b1f3280",
       "tabbable": null,
       "tooltip": null,
       "value": " 3/3 [01:11&lt;00:00, 16.62s/it]"
      }
     },
     "2b90abce8d584e05b05ebf1011b71d62": {
      "model_module": "@jupyter-widgets/base",
      "model_module_version": "2.0.0",
      "model_name": "LayoutModel",
      "state": {
       "_model_module": "@jupyter-widgets/base",
       "_model_module_version": "2.0.0",
       "_model_name": "LayoutModel",
       "_view_count": null,
       "_view_module": "@jupyter-widgets/base",
       "_view_module_version": "2.0.0",
       "_view_name": "LayoutView",
       "align_content": null,
       "align_items": null,
       "align_self": null,
       "border_bottom": null,
       "border_left": null,
       "border_right": null,
       "border_top": null,
       "bottom": null,
       "display": null,
       "flex": null,
       "flex_flow": null,
       "grid_area": null,
       "grid_auto_columns": null,
       "grid_auto_flow": null,
       "grid_auto_rows": null,
       "grid_column": null,
       "grid_gap": null,
       "grid_row": null,
       "grid_template_areas": null,
       "grid_template_columns": null,
       "grid_template_rows": null,
       "height": null,
       "justify_content": null,
       "justify_items": null,
       "left": null,
       "margin": null,
       "max_height": null,
       "max_width": null,
       "min_height": null,
       "min_width": null,
       "object_fit": null,
       "object_position": null,
       "order": null,
       "overflow": null,
       "padding": null,
       "right": null,
       "top": null,
       "visibility": null,
       "width": null
      }
     },
     "3cd9e0e7a0284a39a841add086e2c98f": {
      "model_module": "@jupyter-widgets/base",
      "model_module_version": "2.0.0",
      "model_name": "LayoutModel",
      "state": {
       "_model_module": "@jupyter-widgets/base",
       "_model_module_version": "2.0.0",
       "_model_name": "LayoutModel",
       "_view_count": null,
       "_view_module": "@jupyter-widgets/base",
       "_view_module_version": "2.0.0",
       "_view_name": "LayoutView",
       "align_content": null,
       "align_items": null,
       "align_self": null,
       "border_bottom": null,
       "border_left": null,
       "border_right": null,
       "border_top": null,
       "bottom": null,
       "display": null,
       "flex": null,
       "flex_flow": null,
       "grid_area": null,
       "grid_auto_columns": null,
       "grid_auto_flow": null,
       "grid_auto_rows": null,
       "grid_column": null,
       "grid_gap": null,
       "grid_row": null,
       "grid_template_areas": null,
       "grid_template_columns": null,
       "grid_template_rows": null,
       "height": null,
       "justify_content": null,
       "justify_items": null,
       "left": null,
       "margin": null,
       "max_height": null,
       "max_width": null,
       "min_height": null,
       "min_width": null,
       "object_fit": null,
       "object_position": null,
       "order": null,
       "overflow": null,
       "padding": null,
       "right": null,
       "top": null,
       "visibility": null,
       "width": null
      }
     },
     "73767405d57c4b51a07aa1c78b1f3280": {
      "model_module": "@jupyter-widgets/controls",
      "model_module_version": "2.0.0",
      "model_name": "HTMLStyleModel",
      "state": {
       "_model_module": "@jupyter-widgets/controls",
       "_model_module_version": "2.0.0",
       "_model_name": "HTMLStyleModel",
       "_view_count": null,
       "_view_module": "@jupyter-widgets/base",
       "_view_module_version": "2.0.0",
       "_view_name": "StyleView",
       "background": null,
       "description_width": "",
       "font_size": null,
       "text_color": null
      }
     },
     "77a672f120dc40e6ba6d4618fd8fccd7": {
      "model_module": "@jupyter-widgets/controls",
      "model_module_version": "2.0.0",
      "model_name": "ProgressStyleModel",
      "state": {
       "_model_module": "@jupyter-widgets/controls",
       "_model_module_version": "2.0.0",
       "_model_name": "ProgressStyleModel",
       "_view_count": null,
       "_view_module": "@jupyter-widgets/base",
       "_view_module_version": "2.0.0",
       "_view_name": "StyleView",
       "bar_color": null,
       "description_width": ""
      }
     },
     "847b48a75c6d4f098cd99e415b917a85": {
      "model_module": "@jupyter-widgets/controls",
      "model_module_version": "2.0.0",
      "model_name": "HTMLModel",
      "state": {
       "_dom_classes": [],
       "_model_module": "@jupyter-widgets/controls",
       "_model_module_version": "2.0.0",
       "_model_name": "HTMLModel",
       "_view_count": null,
       "_view_module": "@jupyter-widgets/controls",
       "_view_module_version": "2.0.0",
       "_view_name": "HTMLView",
       "description": "",
       "description_allow_html": false,
       "layout": "IPY_MODEL_2b90abce8d584e05b05ebf1011b71d62",
       "placeholder": "​",
       "style": "IPY_MODEL_0da81a78de75482d8e559fd9a9f3ca4f",
       "tabbable": null,
       "tooltip": null,
       "value": "100%"
      }
     },
     "d50303f445e94a3080fef607b0796279": {
      "model_module": "@jupyter-widgets/controls",
      "model_module_version": "2.0.0",
      "model_name": "HBoxModel",
      "state": {
       "_dom_classes": [],
       "_model_module": "@jupyter-widgets/controls",
       "_model_module_version": "2.0.0",
       "_model_name": "HBoxModel",
       "_view_count": null,
       "_view_module": "@jupyter-widgets/controls",
       "_view_module_version": "2.0.0",
       "_view_name": "HBoxView",
       "box_style": "",
       "children": [
        "IPY_MODEL_847b48a75c6d4f098cd99e415b917a85",
        "IPY_MODEL_f1610b72b6ff4792a57c41d7ce1e5faa",
        "IPY_MODEL_18171605e10e413cbce56ac233aa8a08"
       ],
       "layout": "IPY_MODEL_eb7a473291494d55872c2ee04d790b3d",
       "tabbable": null,
       "tooltip": null
      }
     },
     "eb7a473291494d55872c2ee04d790b3d": {
      "model_module": "@jupyter-widgets/base",
      "model_module_version": "2.0.0",
      "model_name": "LayoutModel",
      "state": {
       "_model_module": "@jupyter-widgets/base",
       "_model_module_version": "2.0.0",
       "_model_name": "LayoutModel",
       "_view_count": null,
       "_view_module": "@jupyter-widgets/base",
       "_view_module_version": "2.0.0",
       "_view_name": "LayoutView",
       "align_content": null,
       "align_items": null,
       "align_self": null,
       "border_bottom": null,
       "border_left": null,
       "border_right": null,
       "border_top": null,
       "bottom": null,
       "display": null,
       "flex": null,
       "flex_flow": null,
       "grid_area": null,
       "grid_auto_columns": null,
       "grid_auto_flow": null,
       "grid_auto_rows": null,
       "grid_column": null,
       "grid_gap": null,
       "grid_row": null,
       "grid_template_areas": null,
       "grid_template_columns": null,
       "grid_template_rows": null,
       "height": null,
       "justify_content": null,
       "justify_items": null,
       "left": null,
       "margin": null,
       "max_height": null,
       "max_width": null,
       "min_height": null,
       "min_width": null,
       "object_fit": null,
       "object_position": null,
       "order": null,
       "overflow": null,
       "padding": null,
       "right": null,
       "top": null,
       "visibility": null,
       "width": null
      }
     },
     "f1610b72b6ff4792a57c41d7ce1e5faa": {
      "model_module": "@jupyter-widgets/controls",
      "model_module_version": "2.0.0",
      "model_name": "FloatProgressModel",
      "state": {
       "_dom_classes": [],
       "_model_module": "@jupyter-widgets/controls",
       "_model_module_version": "2.0.0",
       "_model_name": "FloatProgressModel",
       "_view_count": null,
       "_view_module": "@jupyter-widgets/controls",
       "_view_module_version": "2.0.0",
       "_view_name": "ProgressView",
       "bar_style": "success",
       "description": "",
       "description_allow_html": false,
       "layout": "IPY_MODEL_f2933e6cb41e4c00b88fcc29863c94de",
       "max": 3.0,
       "min": 0.0,
       "orientation": "horizontal",
       "style": "IPY_MODEL_77a672f120dc40e6ba6d4618fd8fccd7",
       "tabbable": null,
       "tooltip": null,
       "value": 3.0
      }
     },
     "f2933e6cb41e4c00b88fcc29863c94de": {
      "model_module": "@jupyter-widgets/base",
      "model_module_version": "2.0.0",
      "model_name": "LayoutModel",
      "state": {
       "_model_module": "@jupyter-widgets/base",
       "_model_module_version": "2.0.0",
       "_model_name": "LayoutModel",
       "_view_count": null,
       "_view_module": "@jupyter-widgets/base",
       "_view_module_version": "2.0.0",
       "_view_name": "LayoutView",
       "align_content": null,
       "align_items": null,
       "align_self": null,
       "border_bottom": null,
       "border_left": null,
       "border_right": null,
       "border_top": null,
       "bottom": null,
       "display": null,
       "flex": null,
       "flex_flow": null,
       "grid_area": null,
       "grid_auto_columns": null,
       "grid_auto_flow": null,
       "grid_auto_rows": null,
       "grid_column": null,
       "grid_gap": null,
       "grid_row": null,
       "grid_template_areas": null,
       "grid_template_columns": null,
       "grid_template_rows": null,
       "height": null,
       "justify_content": null,
       "justify_items": null,
       "left": null,
       "margin": null,
       "max_height": null,
       "max_width": null,
       "min_height": null,
       "min_width": null,
       "object_fit": null,
       "object_position": null,
       "order": null,
       "overflow": null,
       "padding": null,
       "right": null,
       "top": null,
       "visibility": null,
       "width": null
      }
     }
    },
    "version_major": 2,
    "version_minor": 0
   }
  }
 },
 "nbformat": 4,
 "nbformat_minor": 5
}